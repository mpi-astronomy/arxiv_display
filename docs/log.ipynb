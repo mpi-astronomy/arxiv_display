{
 "cells": [
  {
   "cell_type": "markdown",
   "id": "92bcb855",
   "metadata": {
    "papermill": {
     "duration": 0.005036,
     "end_time": "2022-12-13T04:07:37.800315",
     "exception": false,
     "start_time": "2022-12-13T04:07:37.795279",
     "status": "completed"
    },
    "tags": []
   },
   "source": [
    "# MPIA Arxiv on Deck 2\n",
    "\n",
    "Contains the steps to produce the paper extractions."
   ]
  },
  {
   "cell_type": "code",
   "execution_count": 1,
   "id": "3a0d6e11",
   "metadata": {
    "execution": {
     "iopub.execute_input": "2022-12-13T04:07:37.810209Z",
     "iopub.status.busy": "2022-12-13T04:07:37.809665Z",
     "iopub.status.idle": "2022-12-13T04:07:38.009823Z",
     "shell.execute_reply": "2022-12-13T04:07:38.009172Z"
    },
    "papermill": {
     "duration": 0.207194,
     "end_time": "2022-12-13T04:07:38.011834",
     "exception": false,
     "start_time": "2022-12-13T04:07:37.804640",
     "status": "completed"
    },
    "tags": []
   },
   "outputs": [],
   "source": [
    "# Imports\n",
    "import os\n",
    "from IPython.display import Markdown, display\n",
    "from tqdm.notebook import tqdm\n",
    "import warnings\n",
    "from PIL import Image \n",
    "\n",
    "# requires arxiv_on_deck_2\n",
    "\n",
    "from arxiv_on_deck_2.arxiv2 import (get_new_papers, \n",
    "                                    get_paper_from_identifier,\n",
    "                                    retrieve_document_source, \n",
    "                                    get_markdown_badge)\n",
    "from arxiv_on_deck_2 import (latex, \n",
    "                             mpia,\n",
    "                             highlight_authors_in_list)\n",
    "\n",
    "# Sometimes images are really big\n",
    "Image.MAX_IMAGE_PIXELS = 1000000000 "
   ]
  },
  {
   "cell_type": "code",
   "execution_count": 2,
   "id": "22aa9d44",
   "metadata": {
    "execution": {
     "iopub.execute_input": "2022-12-13T04:07:38.021844Z",
     "iopub.status.busy": "2022-12-13T04:07:38.021141Z",
     "iopub.status.idle": "2022-12-13T04:07:38.026110Z",
     "shell.execute_reply": "2022-12-13T04:07:38.025504Z"
    },
    "papermill": {
     "duration": 0.01173,
     "end_time": "2022-12-13T04:07:38.027673",
     "exception": false,
     "start_time": "2022-12-13T04:07:38.015943",
     "status": "completed"
    },
    "tags": []
   },
   "outputs": [],
   "source": [
    "# Some useful definitions.\n",
    "\n",
    "class AffiliationWarning(UserWarning):\n",
    "    pass\n",
    "\n",
    "class AffiliationError(RuntimeError):\n",
    "    pass\n",
    "\n",
    "def validation(source: str):\n",
    "    \"\"\"Raises error paper during parsing of source file\n",
    "    \n",
    "    Allows checks before parsing TeX code.\n",
    "    \n",
    "    Raises AffiliationWarning\n",
    "    \"\"\"\n",
    "    check = mpia.affiliation_verifications(source, verbose=True)\n",
    "    if check is not True:\n",
    "        raise AffiliationError(\"mpia.affiliation_verifications: \" + check)\n",
    "\n",
    "        \n",
    "warnings.simplefilter('always', AffiliationWarning)"
   ]
  },
  {
   "cell_type": "code",
   "execution_count": 3,
   "id": "14622700",
   "metadata": {
    "execution": {
     "iopub.execute_input": "2022-12-13T04:07:38.036785Z",
     "iopub.status.busy": "2022-12-13T04:07:38.036209Z",
     "iopub.status.idle": "2022-12-13T04:07:38.042978Z",
     "shell.execute_reply": "2022-12-13T04:07:38.040860Z"
    },
    "papermill": {
     "duration": 0.013101,
     "end_time": "2022-12-13T04:07:38.044627",
     "exception": false,
     "start_time": "2022-12-13T04:07:38.031526",
     "status": "completed"
    },
    "tags": []
   },
   "outputs": [],
   "source": [
    "# additional CSS to consider. \n",
    "# TODO: Current into each exported file. \n",
    "#       This should be set once into the webpages directly.\n",
    "#       With only the class/id definitions in the .md files.\n",
    "\n",
    "debug_html = \"\"\"\n",
    "<style>\n",
    "#wrap{ overflow:auto; }\n",
    "#fig1{ background:yellow; width:100%; float:left; padding:5px;  }\n",
    "#fig2{ background:red; width:50%; float:left; clear:left; padding:5px;  }\n",
    "#fig3{ background:green; width:50%; float:left; padding:5px;   }\n",
    ".macros{ background:yellow; visibility:visible;}\n",
    "h1 {margin: 0 0 0 0;}\n",
    "mark {background-color:#fff3b6;}\n",
    "img {object-fit:contain; max-height:250px; display:inline-block; text-align: center;}\n",
    "</style>\n",
    "\"\"\" \n",
    "html = \"\"\"\n",
    "<style>\n",
    "#wrap{ overflow:auto; }\n",
    "#fig1{ width:100%; float:left; padding: 5px;  }\n",
    "#fig2{ width:50%; float:left; clear:left; padding: 5px;  }\n",
    "#fig3{ width:50%; float:left; padding: 5px;  }\n",
    ".macros{ visibility:hidden; height:0px; }\n",
    "h1 {margin: 0em 0 0 0;}\n",
    "mark {background-color:#fff3b6;}\n",
    "img {object-fit:contain; max-height:250px; display:inline-block; text-align: center;}\n",
    "</style>\n",
    "\"\"\""
   ]
  },
  {
   "cell_type": "markdown",
   "id": "14bd6310",
   "metadata": {
    "papermill": {
     "duration": 0.005618,
     "end_time": "2022-12-13T04:07:38.055414",
     "exception": false,
     "start_time": "2022-12-13T04:07:38.049796",
     "status": "completed"
    },
    "tags": []
   },
   "source": [
    "## get list of arxiv paper candidates\n",
    "\n",
    "We use the MPIA mitarbeiter list webpage from mpia.de to get author names\n",
    "We then get all new papers from Arxiv and match authors"
   ]
  },
  {
   "cell_type": "code",
   "execution_count": 4,
   "id": "2645e73a",
   "metadata": {
    "execution": {
     "iopub.execute_input": "2022-12-13T04:07:38.096781Z",
     "iopub.status.busy": "2022-12-13T04:07:38.096086Z",
     "iopub.status.idle": "2022-12-13T04:08:04.847115Z",
     "shell.execute_reply": "2022-12-13T04:08:04.846426Z"
    },
    "papermill": {
     "duration": 26.759839,
     "end_time": "2022-12-13T04:08:04.848680",
     "exception": false,
     "start_time": "2022-12-13T04:07:38.088841",
     "status": "completed"
    },
    "tags": []
   },
   "outputs": [
    {
     "name": "stdout",
     "output_type": "stream",
     "text": [
      "Arxiv has 87 new papers today\n",
      "          39 with possible author matches\n"
     ]
    }
   ],
   "source": [
    "# get list from MPIA website\n",
    "# it automatically filters identified non-scientists :func:`mpia.filter_non_scientists`\n",
    "mpia_authors = mpia.get_mpia_mitarbeiter_list()\n",
    "new_papers = get_new_papers()\n",
    "# add manual references\n",
    "add_paper_refs = []\n",
    "new_papers.extend([get_paper_from_identifier(k) for k in add_paper_refs])\n",
    "\n",
    "# select only papers with matching author names and highlight authors\n",
    "hl_list = [k[0] for k in mpia_authors]\n",
    "\n",
    "candidates = []\n",
    "for paperk in new_papers:\n",
    "    hl_authors = highlight_authors_in_list(paperk['authors'], hl_list)\n",
    "    matches = [(hl, orig) for hl, orig in zip(hl_authors, paperk['authors']) if 'mark' in hl]\n",
    "    paperk['authors'] = hl_authors\n",
    "    if matches:\n",
    "        candidates.append(paperk)\n",
    "print(\"\"\"Arxiv has {0:,d} new papers today\"\"\".format(len(new_papers)))        \n",
    "print(\"\"\"          {0:,d} with possible author matches\"\"\".format(len(candidates)))"
   ]
  },
  {
   "cell_type": "markdown",
   "id": "3543b34a",
   "metadata": {
    "papermill": {
     "duration": 0.047003,
     "end_time": "2022-12-13T04:08:04.931781",
     "exception": false,
     "start_time": "2022-12-13T04:08:04.884778",
     "status": "completed"
    },
    "tags": []
   },
   "source": [
    "# Parse sources and generate relevant outputs\n",
    "\n",
    "From the candidates, we do the following steps:\n",
    "* get their tarball from ArXiv (and extract data)\n",
    "* find the main .tex file: find one with \\documentclass{...} (sometimes it's non trivial)\n",
    "* Check affiliations with :func:`validation`, which uses :func:`mpia.affiliation_verifications`\n",
    "* If passing the affiliations: we parse the .tex source\n",
    "   * inject sub-documents into the main (flatten the main document)\n",
    "   * parse structure, extract information (title, abstract, authors, figures...)\n",
    "   * handles `\\graphicspath` if provided\n",
    "* Generate the .md document."
   ]
  },
  {
   "cell_type": "code",
   "execution_count": 5,
   "id": "9576b79e",
   "metadata": {
    "execution": {
     "iopub.execute_input": "2022-12-13T04:08:05.038533Z",
     "iopub.status.busy": "2022-12-13T04:08:05.037449Z",
     "iopub.status.idle": "2022-12-13T04:09:27.028609Z",
     "shell.execute_reply": "2022-12-13T04:09:27.027900Z"
    },
    "papermill": {
     "duration": 82.05167,
     "end_time": "2022-12-13T04:09:27.030164",
     "exception": false,
     "start_time": "2022-12-13T04:08:04.978494",
     "status": "completed"
    },
    "scrolled": false,
    "tags": []
   },
   "outputs": [
    {
     "data": {
      "application/vnd.jupyter.widget-view+json": {
       "model_id": "641523f0cdb648858f99056809dcd537",
       "version_major": 2,
       "version_minor": 0
      },
      "text/plain": [
       "  0%|          | 0/38 [00:00<?, ?it/s]"
      ]
     },
     "metadata": {},
     "output_type": "display_data"
    },
    {
     "name": "stdout",
     "output_type": "stream",
     "text": [
      "Retrieving document from  https://arxiv.org/e-print/2212.05066\n"
     ]
    },
    {
     "name": "stdout",
     "output_type": "stream",
     "text": [
      "extracting tarball to tmp_2212.05066..."
     ]
    },
    {
     "name": "stdout",
     "output_type": "stream",
     "text": [
      " done.\n",
      "Retrieving document from  https://arxiv.org/e-print/2212.05085\n"
     ]
    },
    {
     "name": "stderr",
     "output_type": "stream",
     "text": [
      "/opt/hostedtoolcache/Python/3.9.15/x64/lib/python3.9/site-packages/IPython/core/interactiveshell.py:3433: LatexWarning: Multiple tex files.\n",
      "\n",
      "  exec(code_obj, self.user_global_ns, self.user_ns)\n",
      "/opt/hostedtoolcache/Python/3.9.15/x64/lib/python3.9/site-packages/IPython/core/interactiveshell.py:3433: LatexWarning: Found documentclass in tmp_2212.05066/main.tex\n",
      "\n",
      "  exec(code_obj, self.user_global_ns, self.user_ns)\n",
      "/opt/hostedtoolcache/Python/3.9.15/x64/lib/python3.9/site-packages/arxiv_on_deck_2/latex.py:292: LatexWarning: Latex injecting: 'Sections/04_Discussion_Conclusions' from 'tmp_2212.05066/Sections/04_Discussion_Conclusions.tex'\n",
      "  warnings.warn(LatexWarning(f\"Latex injecting: '{ext}' from '{subsource}'\"))\n",
      "/opt/hostedtoolcache/Python/3.9.15/x64/lib/python3.9/site-packages/arxiv_on_deck_2/latex.py:292: LatexWarning: Latex injecting: 'Sections/03_Results' from 'tmp_2212.05066/Sections/03_Results.tex'\n",
      "  warnings.warn(LatexWarning(f\"Latex injecting: '{ext}' from '{subsource}'\"))\n",
      "/opt/hostedtoolcache/Python/3.9.15/x64/lib/python3.9/site-packages/arxiv_on_deck_2/latex.py:292: LatexWarning: Latex injecting: 'Sections/02_Methods' from 'tmp_2212.05066/Sections/02_Methods.tex'\n",
      "  warnings.warn(LatexWarning(f\"Latex injecting: '{ext}' from '{subsource}'\"))\n",
      "/opt/hostedtoolcache/Python/3.9.15/x64/lib/python3.9/site-packages/arxiv_on_deck_2/latex.py:292: LatexWarning: Latex injecting: 'Sections/01_Introduction' from 'tmp_2212.05066/Sections/01_Introduction.tex'\n",
      "  warnings.warn(LatexWarning(f\"Latex injecting: '{ext}' from '{subsource}'\"))\n",
      "/opt/hostedtoolcache/Python/3.9.15/x64/lib/python3.9/site-packages/arxiv_on_deck_2/latex.py:292: LatexWarning: Latex injecting: 'Sections/00_Abstract' from 'tmp_2212.05066/Sections/00_Abstract.tex'\n",
      "  warnings.warn(LatexWarning(f\"Latex injecting: '{ext}' from '{subsource}'\"))\n",
      "/opt/hostedtoolcache/Python/3.9.15/x64/lib/python3.9/site-packages/arxiv_on_deck_2/latex.py:292: LatexWarning: Latex injecting: 'commands' from 'tmp_2212.05066/commands.tex'\n",
      "  warnings.warn(LatexWarning(f\"Latex injecting: '{ext}' from '{subsource}'\"))\n"
     ]
    },
    {
     "name": "stdout",
     "output_type": "stream",
     "text": [
      "extracting tarball to tmp_2212.05085..."
     ]
    },
    {
     "name": "stdout",
     "output_type": "stream",
     "text": [
      " done.\n",
      "Retrieving document from  https://arxiv.org/e-print/2212.05103\n"
     ]
    },
    {
     "name": "stdout",
     "output_type": "stream",
     "text": [
      "extracting tarball to tmp_2212.05103... done.\n",
      "Retrieving document from  https://arxiv.org/e-print/2212.05118\n"
     ]
    },
    {
     "name": "stdout",
     "output_type": "stream",
     "text": [
      "extracting tarball to tmp_2212.05118..."
     ]
    },
    {
     "name": "stdout",
     "output_type": "stream",
     "text": [
      " done.\n",
      "Retrieving document from  https://arxiv.org/e-print/2212.05135\n"
     ]
    },
    {
     "name": "stderr",
     "output_type": "stream",
     "text": [
      "/opt/hostedtoolcache/Python/3.9.15/x64/lib/python3.9/site-packages/IPython/core/interactiveshell.py:3433: LatexWarning: Multiple tex files.\n",
      "\n",
      "  exec(code_obj, self.user_global_ns, self.user_ns)\n",
      "/opt/hostedtoolcache/Python/3.9.15/x64/lib/python3.9/site-packages/IPython/core/interactiveshell.py:3433: LatexWarning: Found documentclass in tmp_2212.05118/manuscript.tex\n",
      "\n",
      "  exec(code_obj, self.user_global_ns, self.user_ns)\n"
     ]
    },
    {
     "name": "stdout",
     "output_type": "stream",
     "text": [
      "extracting tarball to tmp_2212.05135..."
     ]
    },
    {
     "name": "stdout",
     "output_type": "stream",
     "text": [
      " done.\n",
      "Retrieving document from  https://arxiv.org/e-print/2212.05137\n"
     ]
    },
    {
     "name": "stderr",
     "output_type": "stream",
     "text": [
      "/opt/hostedtoolcache/Python/3.9.15/x64/lib/python3.9/site-packages/IPython/core/interactiveshell.py:3433: LatexWarning: Multiple tex files.\n",
      "\n",
      "  exec(code_obj, self.user_global_ns, self.user_ns)\n",
      "/opt/hostedtoolcache/Python/3.9.15/x64/lib/python3.9/site-packages/IPython/core/interactiveshell.py:3433: LatexWarning: Found documentclass in tmp_2212.05135/uband.tex\n",
      "\n",
      "  exec(code_obj, self.user_global_ns, self.user_ns)\n",
      "/opt/hostedtoolcache/Python/3.9.15/x64/lib/python3.9/site-packages/arxiv_on_deck_2/latex.py:292: LatexWarning: Latex injecting: 'appE.tex' from 'tmp_2212.05135/appE.tex'\n",
      "  warnings.warn(LatexWarning(f\"Latex injecting: '{ext}' from '{subsource}'\"))\n",
      "/opt/hostedtoolcache/Python/3.9.15/x64/lib/python3.9/site-packages/arxiv_on_deck_2/latex.py:292: LatexWarning: Latex injecting: 'appD.tex' from 'tmp_2212.05135/appD.tex'\n",
      "  warnings.warn(LatexWarning(f\"Latex injecting: '{ext}' from '{subsource}'\"))\n",
      "/opt/hostedtoolcache/Python/3.9.15/x64/lib/python3.9/site-packages/arxiv_on_deck_2/latex.py:292: LatexWarning: Latex injecting: 'appC.tex' from 'tmp_2212.05135/appC.tex'\n",
      "  warnings.warn(LatexWarning(f\"Latex injecting: '{ext}' from '{subsource}'\"))\n",
      "/opt/hostedtoolcache/Python/3.9.15/x64/lib/python3.9/site-packages/arxiv_on_deck_2/latex.py:292: LatexWarning: Latex injecting: 'appB.tex' from 'tmp_2212.05135/appB.tex'\n",
      "  warnings.warn(LatexWarning(f\"Latex injecting: '{ext}' from '{subsource}'\"))\n",
      "/opt/hostedtoolcache/Python/3.9.15/x64/lib/python3.9/site-packages/arxiv_on_deck_2/latex.py:292: LatexWarning: Latex injecting: 'appA.tex' from 'tmp_2212.05135/appA.tex'\n",
      "  warnings.warn(LatexWarning(f\"Latex injecting: '{ext}' from '{subsource}'\"))\n",
      "/opt/hostedtoolcache/Python/3.9.15/x64/lib/python3.9/site-packages/arxiv_on_deck_2/latex.py:292: LatexWarning: Latex injecting: 'data.tex' from 'tmp_2212.05135/data.tex'\n",
      "  warnings.warn(LatexWarning(f\"Latex injecting: '{ext}' from '{subsource}'\"))\n",
      "/opt/hostedtoolcache/Python/3.9.15/x64/lib/python3.9/site-packages/arxiv_on_deck_2/latex.py:292: LatexWarning: Latex injecting: 'ack.tex' from 'tmp_2212.05135/ack.tex'\n",
      "  warnings.warn(LatexWarning(f\"Latex injecting: '{ext}' from '{subsource}'\"))\n",
      "/opt/hostedtoolcache/Python/3.9.15/x64/lib/python3.9/site-packages/arxiv_on_deck_2/latex.py:292: LatexWarning: Latex injecting: 'dis.tex' from 'tmp_2212.05135/dis.tex'\n",
      "  warnings.warn(LatexWarning(f\"Latex injecting: '{ext}' from '{subsource}'\"))\n",
      "/opt/hostedtoolcache/Python/3.9.15/x64/lib/python3.9/site-packages/arxiv_on_deck_2/latex.py:292: LatexWarning: Latex injecting: '4.2.tex' from 'tmp_2212.05135/4.2.tex'\n",
      "  warnings.warn(LatexWarning(f\"Latex injecting: '{ext}' from '{subsource}'\"))\n",
      "/opt/hostedtoolcache/Python/3.9.15/x64/lib/python3.9/site-packages/arxiv_on_deck_2/latex.py:292: LatexWarning: Latex injecting: '4.1.tex' from 'tmp_2212.05135/4.1.tex'\n",
      "  warnings.warn(LatexWarning(f\"Latex injecting: '{ext}' from '{subsource}'\"))\n",
      "/opt/hostedtoolcache/Python/3.9.15/x64/lib/python3.9/site-packages/arxiv_on_deck_2/latex.py:292: LatexWarning: Latex injecting: '4.0.tex' from 'tmp_2212.05135/4.0.tex'\n",
      "  warnings.warn(LatexWarning(f\"Latex injecting: '{ext}' from '{subsource}'\"))\n",
      "/opt/hostedtoolcache/Python/3.9.15/x64/lib/python3.9/site-packages/arxiv_on_deck_2/latex.py:292: LatexWarning: Latex injecting: '3.2.3.tex' from 'tmp_2212.05135/3.2.3.tex'\n",
      "  warnings.warn(LatexWarning(f\"Latex injecting: '{ext}' from '{subsource}'\"))\n",
      "/opt/hostedtoolcache/Python/3.9.15/x64/lib/python3.9/site-packages/arxiv_on_deck_2/latex.py:292: LatexWarning: Latex injecting: '3.2.2.tex' from 'tmp_2212.05135/3.2.2.tex'\n",
      "  warnings.warn(LatexWarning(f\"Latex injecting: '{ext}' from '{subsource}'\"))\n",
      "/opt/hostedtoolcache/Python/3.9.15/x64/lib/python3.9/site-packages/arxiv_on_deck_2/latex.py:292: LatexWarning: Latex injecting: '3.2.1.tex' from 'tmp_2212.05135/3.2.1.tex'\n",
      "  warnings.warn(LatexWarning(f\"Latex injecting: '{ext}' from '{subsource}'\"))\n",
      "/opt/hostedtoolcache/Python/3.9.15/x64/lib/python3.9/site-packages/arxiv_on_deck_2/latex.py:292: LatexWarning: Latex injecting: '3.1.tex' from 'tmp_2212.05135/3.1.tex'\n",
      "  warnings.warn(LatexWarning(f\"Latex injecting: '{ext}' from '{subsource}'\"))\n",
      "/opt/hostedtoolcache/Python/3.9.15/x64/lib/python3.9/site-packages/arxiv_on_deck_2/latex.py:292: LatexWarning: Latex injecting: '3.0.tex' from 'tmp_2212.05135/3.0.tex'\n",
      "  warnings.warn(LatexWarning(f\"Latex injecting: '{ext}' from '{subsource}'\"))\n",
      "/opt/hostedtoolcache/Python/3.9.15/x64/lib/python3.9/site-packages/arxiv_on_deck_2/latex.py:292: LatexWarning: Latex injecting: '2.2.tex' from 'tmp_2212.05135/2.2.tex'\n",
      "  warnings.warn(LatexWarning(f\"Latex injecting: '{ext}' from '{subsource}'\"))\n",
      "/opt/hostedtoolcache/Python/3.9.15/x64/lib/python3.9/site-packages/arxiv_on_deck_2/latex.py:292: LatexWarning: Latex injecting: '2.1.tex' from 'tmp_2212.05135/2.1.tex'\n",
      "  warnings.warn(LatexWarning(f\"Latex injecting: '{ext}' from '{subsource}'\"))\n",
      "/opt/hostedtoolcache/Python/3.9.15/x64/lib/python3.9/site-packages/arxiv_on_deck_2/latex.py:292: LatexWarning: Latex injecting: '2.0.tex' from 'tmp_2212.05135/2.0.tex'\n",
      "  warnings.warn(LatexWarning(f\"Latex injecting: '{ext}' from '{subsource}'\"))\n",
      "/opt/hostedtoolcache/Python/3.9.15/x64/lib/python3.9/site-packages/arxiv_on_deck_2/latex.py:292: LatexWarning: Latex injecting: '1.1.tex' from 'tmp_2212.05135/1.1.tex'\n",
      "  warnings.warn(LatexWarning(f\"Latex injecting: '{ext}' from '{subsource}'\"))\n"
     ]
    },
    {
     "name": "stdout",
     "output_type": "stream",
     "text": [
      "extracting tarball to tmp_2212.05137..."
     ]
    },
    {
     "name": "stdout",
     "output_type": "stream",
     "text": [
      " done.\n",
      "Retrieving document from  https://arxiv.org/e-print/2212.05193\n"
     ]
    },
    {
     "name": "stdout",
     "output_type": "stream",
     "text": [
      "extracting tarball to tmp_2212.05193..."
     ]
    },
    {
     "name": "stdout",
     "output_type": "stream",
     "text": [
      " done.\n",
      "Retrieving document from  https://arxiv.org/e-print/2212.05198\n"
     ]
    },
    {
     "name": "stdout",
     "output_type": "stream",
     "text": [
      "extracting tarball to tmp_2212.05198..."
     ]
    },
    {
     "name": "stdout",
     "output_type": "stream",
     "text": [
      " done.\n",
      "Retrieving document from  https://arxiv.org/e-print/2212.05215\n"
     ]
    },
    {
     "name": "stderr",
     "output_type": "stream",
     "text": [
      "/opt/hostedtoolcache/Python/3.9.15/x64/lib/python3.9/site-packages/IPython/core/interactiveshell.py:3433: LatexWarning: Multiple tex files.\n",
      "\n",
      "  exec(code_obj, self.user_global_ns, self.user_ns)\n",
      "/opt/hostedtoolcache/Python/3.9.15/x64/lib/python3.9/site-packages/IPython/core/interactiveshell.py:3433: LatexWarning: Found documentclass in tmp_2212.05198/back.tex\n",
      "\n",
      "  exec(code_obj, self.user_global_ns, self.user_ns)\n",
      "/opt/hostedtoolcache/Python/3.9.15/x64/lib/python3.9/site-packages/arxiv_on_deck_2/latex.py:292: LatexWarning: Latex injecting: 'tab-zero' from 'tmp_2212.05198/tab-zero.tex'\n",
      "  warnings.warn(LatexWarning(f\"Latex injecting: '{ext}' from '{subsource}'\"))\n",
      "/opt/hostedtoolcache/Python/3.9.15/x64/lib/python3.9/site-packages/arxiv_on_deck_2/latex.py:292: LatexWarning: Latex injecting: 'tab1' from 'tmp_2212.05198/tab1.tex'\n",
      "  warnings.warn(LatexWarning(f\"Latex injecting: '{ext}' from '{subsource}'\"))\n"
     ]
    },
    {
     "name": "stdout",
     "output_type": "stream",
     "text": [
      "extracting tarball to tmp_2212.05215..."
     ]
    },
    {
     "name": "stdout",
     "output_type": "stream",
     "text": [
      " done.\n",
      "Retrieving document from  https://arxiv.org/e-print/2212.05229\n"
     ]
    },
    {
     "name": "stderr",
     "output_type": "stream",
     "text": [
      "/opt/hostedtoolcache/Python/3.9.15/x64/lib/python3.9/site-packages/IPython/core/interactiveshell.py:3433: LatexWarning: Multiple tex files.\n",
      "\n",
      "  exec(code_obj, self.user_global_ns, self.user_ns)\n",
      "/opt/hostedtoolcache/Python/3.9.15/x64/lib/python3.9/site-packages/IPython/core/interactiveshell.py:3433: LatexWarning: Found documentclass in tmp_2212.05215/main.tex\n",
      "\n",
      "  exec(code_obj, self.user_global_ns, self.user_ns)\n",
      "/opt/hostedtoolcache/Python/3.9.15/x64/lib/python3.9/site-packages/arxiv_on_deck_2/latex.py:292: LatexWarning: Latex injecting: 'appendix' from 'tmp_2212.05215/appendix.tex'\n",
      "  warnings.warn(LatexWarning(f\"Latex injecting: '{ext}' from '{subsource}'\"))\n"
     ]
    },
    {
     "name": "stdout",
     "output_type": "stream",
     "text": [
      "extracting tarball to tmp_2212.05229... done.\n",
      "Retrieving document from  https://arxiv.org/e-print/2212.05406\n"
     ]
    },
    {
     "name": "stdout",
     "output_type": "stream",
     "text": [
      "extracting tarball to tmp_2212.05406..."
     ]
    },
    {
     "name": "stdout",
     "output_type": "stream",
     "text": [
      " done.\n",
      "Retrieving document from  https://arxiv.org/e-print/2212.05482\n"
     ]
    },
    {
     "name": "stdout",
     "output_type": "stream",
     "text": [
      "extracting tarball to tmp_2212.05482..."
     ]
    },
    {
     "name": "stdout",
     "output_type": "stream",
     "text": [
      " done.\n",
      "Retrieving document from  https://arxiv.org/e-print/2212.05497\n"
     ]
    },
    {
     "name": "stderr",
     "output_type": "stream",
     "text": [
      "/tmp/ipykernel_2020/4030337529.py:34: LatexWarning: 2212.05497 did not run properly\n",
      "not a gzip file\n",
      "  warnings.warn(latex.LatexWarning(f\"{paper_id:s} did not run properly\\n\" +\n"
     ]
    },
    {
     "name": "stdout",
     "output_type": "stream",
     "text": [
      "Retrieving document from  https://arxiv.org/e-print/2212.05516\n"
     ]
    },
    {
     "name": "stdout",
     "output_type": "stream",
     "text": [
      "extracting tarball to tmp_2212.05516..."
     ]
    },
    {
     "name": "stdout",
     "output_type": "stream",
     "text": [
      " done.\n",
      "Retrieving document from  https://arxiv.org/e-print/2212.05539\n"
     ]
    },
    {
     "name": "stdout",
     "output_type": "stream",
     "text": [
      "extracting tarball to tmp_2212.05539..."
     ]
    },
    {
     "name": "stdout",
     "output_type": "stream",
     "text": [
      " done.\n",
      "Retrieving document from  https://arxiv.org/e-print/2212.05594\n"
     ]
    },
    {
     "name": "stderr",
     "output_type": "stream",
     "text": [
      "/opt/hostedtoolcache/Python/3.9.15/x64/lib/python3.9/site-packages/IPython/core/interactiveshell.py:3433: LatexWarning: Multiple tex files.\n",
      "\n",
      "  exec(code_obj, self.user_global_ns, self.user_ns)\n",
      "/opt/hostedtoolcache/Python/3.9.15/x64/lib/python3.9/site-packages/IPython/core/interactiveshell.py:3433: LatexWarning: Found documentclass in tmp_2212.05539/natbib.tex\n",
      "\n",
      "  exec(code_obj, self.user_global_ns, self.user_ns)\n"
     ]
    },
    {
     "name": "stdout",
     "output_type": "stream",
     "text": [
      "extracting tarball to tmp_2212.05594..."
     ]
    },
    {
     "name": "stdout",
     "output_type": "stream",
     "text": [
      " done.\n",
      "Retrieving document from  https://arxiv.org/e-print/2212.05604\n"
     ]
    },
    {
     "name": "stderr",
     "output_type": "stream",
     "text": [
      "/tmp/ipykernel_2020/4030337529.py:34: LatexWarning: 2212.05604 did not run properly\n",
      "not a gzip file\n",
      "  warnings.warn(latex.LatexWarning(f\"{paper_id:s} did not run properly\\n\" +\n"
     ]
    },
    {
     "name": "stdout",
     "output_type": "stream",
     "text": [
      "Retrieving document from  https://arxiv.org/e-print/2212.05631\n"
     ]
    },
    {
     "name": "stdout",
     "output_type": "stream",
     "text": [
      "extracting tarball to tmp_2212.05631..."
     ]
    },
    {
     "name": "stdout",
     "output_type": "stream",
     "text": [
      " done.\n",
      "Retrieving document from  https://arxiv.org/e-print/2212.05633\n"
     ]
    },
    {
     "name": "stderr",
     "output_type": "stream",
     "text": [
      "/opt/hostedtoolcache/Python/3.9.15/x64/lib/python3.9/site-packages/IPython/core/interactiveshell.py:3433: LatexWarning: Multiple tex files.\n",
      "\n",
      "  exec(code_obj, self.user_global_ns, self.user_ns)\n",
      "/opt/hostedtoolcache/Python/3.9.15/x64/lib/python3.9/site-packages/IPython/core/interactiveshell.py:3433: LatexWarning: Found documentclass in tmp_2212.05631/paper.tex\n",
      "\n",
      "  exec(code_obj, self.user_global_ns, self.user_ns)\n"
     ]
    },
    {
     "name": "stdout",
     "output_type": "stream",
     "text": [
      "extracting tarball to tmp_2212.05633..."
     ]
    },
    {
     "name": "stdout",
     "output_type": "stream",
     "text": [
      " done.\n",
      "Retrieving document from  https://arxiv.org/e-print/2212.05641\n"
     ]
    },
    {
     "name": "stdout",
     "output_type": "stream",
     "text": [
      "extracting tarball to tmp_2212.05641..."
     ]
    },
    {
     "name": "stdout",
     "output_type": "stream",
     "text": [
      " done.\n",
      "Retrieving document from  https://arxiv.org/e-print/2212.05642\n"
     ]
    },
    {
     "name": "stderr",
     "output_type": "stream",
     "text": [
      "/opt/hostedtoolcache/Python/3.9.15/x64/lib/python3.9/site-packages/IPython/core/interactiveshell.py:3433: LatexWarning: Multiple tex files.\n",
      "\n",
      "  exec(code_obj, self.user_global_ns, self.user_ns)\n",
      "/opt/hostedtoolcache/Python/3.9.15/x64/lib/python3.9/site-packages/IPython/core/interactiveshell.py:3433: LatexWarning: Found documentclass in tmp_2212.05641/unifiedmodel.tex\n",
      "\n",
      "  exec(code_obj, self.user_global_ns, self.user_ns)\n"
     ]
    },
    {
     "name": "stdout",
     "output_type": "stream",
     "text": [
      "extracting tarball to tmp_2212.05642..."
     ]
    },
    {
     "name": "stdout",
     "output_type": "stream",
     "text": [
      " done.\n",
      "Retrieving document from  https://arxiv.org/e-print/2212.05664\n"
     ]
    },
    {
     "name": "stderr",
     "output_type": "stream",
     "text": [
      "/opt/hostedtoolcache/Python/3.9.15/x64/lib/python3.9/site-packages/IPython/core/interactiveshell.py:3433: LatexWarning: Multiple tex files.\n",
      "\n",
      "  exec(code_obj, self.user_global_ns, self.user_ns)\n",
      "/opt/hostedtoolcache/Python/3.9.15/x64/lib/python3.9/site-packages/IPython/core/interactiveshell.py:3433: LatexWarning: Found documentclass in tmp_2212.05642/TTTEEE_2018.tex\n",
      "\n",
      "  exec(code_obj, self.user_global_ns, self.user_ns)\n"
     ]
    },
    {
     "name": "stdout",
     "output_type": "stream",
     "text": [
      "extracting tarball to tmp_2212.05664... done.\n",
      "Retrieving document from  https://arxiv.org/e-print/2212.05686\n"
     ]
    },
    {
     "name": "stdout",
     "output_type": "stream",
     "text": [
      "extracting tarball to tmp_2212.05686..."
     ]
    },
    {
     "name": "stdout",
     "output_type": "stream",
     "text": [
      " done.\n",
      "Retrieving document from  https://arxiv.org/e-print/2212.05687\n"
     ]
    },
    {
     "name": "stdout",
     "output_type": "stream",
     "text": [
      "extracting tarball to tmp_2212.05687..."
     ]
    },
    {
     "name": "stdout",
     "output_type": "stream",
     "text": [
      " done.\n",
      "Retrieving document from  https://arxiv.org/e-print/2212.05688\n"
     ]
    },
    {
     "name": "stdout",
     "output_type": "stream",
     "text": [
      "extracting tarball to tmp_2212.05688..."
     ]
    },
    {
     "name": "stdout",
     "output_type": "stream",
     "text": [
      " done.\n",
      "Retrieving document from  https://arxiv.org/e-print/2212.05718\n"
     ]
    },
    {
     "name": "stdout",
     "output_type": "stream",
     "text": [
      "extracting tarball to tmp_2212.05718... done.\n",
      "Retrieving document from  https://arxiv.org/e-print/2212.05731\n"
     ]
    },
    {
     "name": "stdout",
     "output_type": "stream",
     "text": [
      "extracting tarball to tmp_2212.05731..."
     ]
    },
    {
     "name": "stdout",
     "output_type": "stream",
     "text": [
      " done.\n",
      "Retrieving document from  https://arxiv.org/e-print/2212.05753\n"
     ]
    },
    {
     "name": "stdout",
     "output_type": "stream",
     "text": [
      "extracting tarball to tmp_2212.05753... done.\n",
      "Retrieving document from  https://arxiv.org/e-print/2212.05760\n"
     ]
    },
    {
     "name": "stdout",
     "output_type": "stream",
     "text": [
      "extracting tarball to tmp_2212.05760..."
     ]
    },
    {
     "name": "stdout",
     "output_type": "stream",
     "text": [
      " done.\n",
      "Retrieving document from  https://arxiv.org/e-print/2212.05837\n"
     ]
    },
    {
     "name": "stdout",
     "output_type": "stream",
     "text": [
      "extracting tarball to tmp_2212.05837..."
     ]
    },
    {
     "name": "stdout",
     "output_type": "stream",
     "text": [
      " done.\n",
      "Retrieving document from  https://arxiv.org/e-print/2212.05868\n"
     ]
    },
    {
     "name": "stdout",
     "output_type": "stream",
     "text": [
      "extracting tarball to tmp_2212.05868..."
     ]
    },
    {
     "name": "stdout",
     "output_type": "stream",
     "text": [
      " done.\n",
      "Retrieving document from  https://arxiv.org/e-print/2212.05873\n"
     ]
    },
    {
     "name": "stderr",
     "output_type": "stream",
     "text": [
      "/opt/hostedtoolcache/Python/3.9.15/x64/lib/python3.9/site-packages/IPython/core/interactiveshell.py:3433: LatexWarning: Multiple tex files.\n",
      "\n",
      "  exec(code_obj, self.user_global_ns, self.user_ns)\n",
      "/opt/hostedtoolcache/Python/3.9.15/x64/lib/python3.9/site-packages/IPython/core/interactiveshell.py:3433: LatexWarning: Found documentclass in tmp_2212.05868/star-gal-qso-mnras.tex\n",
      "\n",
      "  exec(code_obj, self.user_global_ns, self.user_ns)\n"
     ]
    },
    {
     "name": "stdout",
     "output_type": "stream",
     "text": [
      "extracting tarball to tmp_2212.05873..."
     ]
    },
    {
     "name": "stdout",
     "output_type": "stream",
     "text": [
      " done.\n",
      "Retrieving document from  https://arxiv.org/e-print/2212.05927\n"
     ]
    },
    {
     "name": "stderr",
     "output_type": "stream",
     "text": [
      "/opt/hostedtoolcache/Python/3.9.15/x64/lib/python3.9/site-packages/IPython/core/interactiveshell.py:3433: LatexWarning: Multiple tex files.\n",
      "\n",
      "  exec(code_obj, self.user_global_ns, self.user_ns)\n",
      "/opt/hostedtoolcache/Python/3.9.15/x64/lib/python3.9/site-packages/IPython/core/interactiveshell.py:3433: LatexWarning: Found documentclass in tmp_2212.05873/Circular-Main.tex\n",
      "\n",
      "  exec(code_obj, self.user_global_ns, self.user_ns)\n"
     ]
    },
    {
     "name": "stdout",
     "output_type": "stream",
     "text": [
      "extracting tarball to tmp_2212.05927..."
     ]
    },
    {
     "name": "stdout",
     "output_type": "stream",
     "text": [
      " done.\n",
      "Retrieving document from  https://arxiv.org/e-print/2212.05981\n"
     ]
    },
    {
     "name": "stdout",
     "output_type": "stream",
     "text": [
      "extracting tarball to tmp_2212.05981..."
     ]
    },
    {
     "name": "stdout",
     "output_type": "stream",
     "text": [
      " done.\n",
      "Retrieving document from  https://arxiv.org/e-print/2212.05984\n"
     ]
    },
    {
     "name": "stdout",
     "output_type": "stream",
     "text": [
      "extracting tarball to tmp_2212.05984..."
     ]
    },
    {
     "name": "stdout",
     "output_type": "stream",
     "text": [
      " done.\n",
      "Retrieving document from  https://arxiv.org/e-print/2212.05985\n"
     ]
    },
    {
     "name": "stderr",
     "output_type": "stream",
     "text": [
      "/opt/hostedtoolcache/Python/3.9.15/x64/lib/python3.9/site-packages/IPython/core/interactiveshell.py:3433: LatexWarning: Multiple tex files.\n",
      "\n",
      "  exec(code_obj, self.user_global_ns, self.user_ns)\n",
      "/opt/hostedtoolcache/Python/3.9.15/x64/lib/python3.9/site-packages/IPython/core/interactiveshell.py:3433: LatexWarning: Found documentclass in tmp_2212.05984/main.tex\n",
      "\n",
      "  exec(code_obj, self.user_global_ns, self.user_ns)\n"
     ]
    },
    {
     "name": "stdout",
     "output_type": "stream",
     "text": [
      "extracting tarball to tmp_2212.05985..."
     ]
    },
    {
     "name": "stdout",
     "output_type": "stream",
     "text": [
      " done.\n",
      "Retrieving document from  https://arxiv.org/e-print/2212.06051\n"
     ]
    },
    {
     "name": "stderr",
     "output_type": "stream",
     "text": [
      "/opt/hostedtoolcache/Python/3.9.15/x64/lib/python3.9/site-packages/IPython/core/interactiveshell.py:3433: LatexWarning: Multiple tex files.\n",
      "\n",
      "  exec(code_obj, self.user_global_ns, self.user_ns)\n",
      "/opt/hostedtoolcache/Python/3.9.15/x64/lib/python3.9/site-packages/IPython/core/interactiveshell.py:3433: LatexWarning: Found documentclass in tmp_2212.05985/natbib.tex\n",
      "\n",
      "  exec(code_obj, self.user_global_ns, self.user_ns)\n"
     ]
    },
    {
     "name": "stdout",
     "output_type": "stream",
     "text": [
      "extracting tarball to tmp_2212.06051..."
     ]
    },
    {
     "name": "stdout",
     "output_type": "stream",
     "text": [
      " done.\n",
      "Retrieving document from  https://arxiv.org/e-print/2212.06058\n"
     ]
    },
    {
     "name": "stdout",
     "output_type": "stream",
     "text": [
      "extracting tarball to tmp_2212.06058..."
     ]
    },
    {
     "name": "stdout",
     "output_type": "stream",
     "text": [
      " done.\n"
     ]
    }
   ],
   "source": [
    "documents = []\n",
    "failed = []\n",
    "for paper in tqdm(candidates[:-1]):\n",
    "    paper_id = paper['identifier'].lower().replace('arxiv:', '')\n",
    "    \n",
    "    folder = f'tmp_{paper_id}'\n",
    "\n",
    "    try:\n",
    "        if not os.path.isdir(folder):\n",
    "            folder = retrieve_document_source(f\"{paper_id}\", f'tmp_{paper_id}')\n",
    "        \n",
    "        try:\n",
    "            doc = latex.LatexDocument(folder, validation=validation)    \n",
    "        except AffiliationError as affilerror:\n",
    "            msg = f\"ArXiv:{paper_id:s} is not an MPIA paper... \" + str(affilerror)\n",
    "            failed.append((paper, \"affiliation error: \" + str(affilerror) ))\n",
    "            continue\n",
    "        \n",
    "        # Hack because sometimes author parsing does not work well\n",
    "        if (len(doc.authors) != len(paper['authors'])):\n",
    "            doc._authors = paper['authors']\n",
    "        if (doc.abstract) in (None, ''):\n",
    "            doc._abstract = paper['abstract']\n",
    "            \n",
    "        doc.comment = (get_markdown_badge(paper_id) + \n",
    "                       \"<mark>Appeared on: \" + paper['date'] + \"</mark> - \" +\n",
    "                       \"_\" + paper['comments'] + \"_\")\n",
    "        doc.highlight_authors_in_list(hl_list)\n",
    "\n",
    "        full_md = doc.generate_markdown_text()\n",
    "        \n",
    "        documents.append((paper_id, full_md))\n",
    "    except Exception as e:\n",
    "        warnings.warn(latex.LatexWarning(f\"{paper_id:s} did not run properly\\n\" +\n",
    "                                         str(e)\n",
    "                                        ))\n",
    "        failed.append((paper, \"latex error \" + str(e)))"
   ]
  },
  {
   "cell_type": "markdown",
   "id": "2505a25c",
   "metadata": {
    "papermill": {
     "duration": 0.008458,
     "end_time": "2022-12-13T04:09:27.047199",
     "exception": false,
     "start_time": "2022-12-13T04:09:27.038741",
     "status": "completed"
    },
    "tags": []
   },
   "source": [
    "### Export the logs\n",
    "\n",
    "Throughout, we also keep track of the logs per paper. see `logs-{today date}.md` "
   ]
  },
  {
   "cell_type": "code",
   "execution_count": 6,
   "id": "d733828a",
   "metadata": {
    "execution": {
     "iopub.execute_input": "2022-12-13T04:09:27.065799Z",
     "iopub.status.busy": "2022-12-13T04:09:27.065098Z",
     "iopub.status.idle": "2022-12-13T04:09:27.111400Z",
     "shell.execute_reply": "2022-12-13T04:09:27.110645Z"
    },
    "papermill": {
     "duration": 0.056963,
     "end_time": "2022-12-13T04:09:27.112849",
     "exception": false,
     "start_time": "2022-12-13T04:09:27.055886",
     "status": "completed"
    },
    "scrolled": false,
    "tags": []
   },
   "outputs": [
    {
     "data": {
      "text/markdown": [
       "## Successful papers"
      ],
      "text/plain": [
       "<IPython.core.display.Markdown object>"
      ]
     },
     "metadata": {},
     "output_type": "display_data"
    },
    {
     "data": {
      "text/markdown": [
       "## Failed papers"
      ],
      "text/plain": [
       "<IPython.core.display.Markdown object>"
      ]
     },
     "metadata": {},
     "output_type": "display_data"
    },
    {
     "data": {
      "text/markdown": [
       "\n",
       "|||\n",
       "|---:|:---|\n",
       "| [![arXiv](https://img.shields.io/badge/arXiv-arXiv:2212.05135-b31b1b.svg)](https://arxiv.org/abs/arXiv:2212.05135) | **Photometric calibration in u-band using blue halo stars**  |\n",
       "|| <mark>Shuang Liang</mark>, <mark>Anja von der Linden</mark> |\n",
       "|*Appeared on*| *2022-12-13*|\n",
       "|*Comments*| *Accepted for publication in MNRAS*|\n",
       "|**Abstract**| We develop a method to calibrate u-band photometry based on the observed color of blue galactic halo stars. The galactic halo stars belong to an old stellar population of the Milky Way and have relatively low metallicity. The \"blue tip\" of the halo population -- the main sequence turn-off (MSTO) stars -- is known to have a relatively uniform intrinsic edge u-g color with only slow spatial variation. In SDSS data, the observed variation is correlated with galactic latitude, which we attribute to contamination by higher-metallicity disk stars and fit with an empirical curve. This curve can then be used to calibrate u-band imaging if g-band imaging of matching depth is available. Our approach can be applied to single-field observations at $|b| > 30^\\circ$, and removes the need for standard star observations or overlap with calibrated u-band imaging. We include in our method the calibration of g-band data with ATLAS-Refcat2. We test our approach on stars in KiDS DR 4, ATLAS DR 4, and DECam imaging from the NOIRLab Source Catalog (NSC DR2), and compare our calibration with SDSS. For this process, we use synthetic magnitudes to derive the color equations between these datasets, in order to improve zero-point accuracy. We find an improvement for all datasets, reaching a zero-point precision of 0.016 mag for KiDS (compared to the original 0.033 mag), 0.020 mag for ATLAS (originally 0.027 mag), and 0.016 mag for DECam (originally 0.041 mag). Thus, this method alone reaches the goal of 0.02 mag photometric precision in u-band for the Rubin Observatory's Legacy Survey of Space and Time (LSST). |\n",
       "|<p style=\"color:green\"> **ERROR** </p>| <p style=\"color:green\">affiliation error: mpia.affiliation_verifications: '69117' keyword not found.</p> |"
      ],
      "text/plain": [
       "<IPython.core.display.Markdown object>"
      ]
     },
     "metadata": {},
     "output_type": "display_data"
    },
    {
     "data": {
      "text/markdown": [
       "\n",
       "|||\n",
       "|---:|:---|\n",
       "| [![arXiv](https://img.shields.io/badge/arXiv-arXiv:2212.05482-b31b1b.svg)](https://arxiv.org/abs/arXiv:2212.05482) | **The globular cluster system of the nearest Seyfert II galaxy Circinus**  |\n",
       "|| C. Obasi, et al. -- incl., <mark>M. Hempel</mark> |\n",
       "|*Appeared on*| *2022-12-13*|\n",
       "|*Comments*| *15 pages, 12 figures*|\n",
       "|**Abstract**| Context. The globular cluster (GC) system of Circinus galaxy has not been probed previously partly because of the location of the galaxy at - 3.8$^\\circ$ Galactic latitude which suffers severely from interstellar extinction, stellar crowding, and Galactic foreground contamination. However, the deep near-infrared (NIR) photometry by the VISTA Variables in the Via L\\'actea Extended Survey (VVVX) in combination with the precise astrometry of Gaia EDR3 allow us to map GCs in this region. Aims. Our long-term goal is to study and characterise the distributions of GCs and Ultra-compact dwarfs of Circinus galaxy which is the nearest Seyfert II galaxy. Here we conduct the first pilot search for GCs in this galaxy. Methods. We use NIR VVVX photometry in combination with Gaia EDR3 astrometric features such as astrometric excess noise and BP/RP excess factor to build the first homogeneous catalogue of GCs in Circinus galaxy. A robust combination of selection criteria allows us to effectively clean interlopers from our sample. Results. We report the detection of$\\sim$ 70 GC candidates in this galaxy at a 3 $\\sigma$ confidence level. They show a bimodal colour distribution with the blue peak at (G-Ks)$_0$ = 0.985$\\pm$0.127 mag with a dispersion of 0.211$\\pm$0.091 mag and the red peak at (G-Ks)$_0$ = 1.625$\\pm$0.177 mag with a dispersion of 0.482$\\pm$0.114 mag. A GC specific frequency (S$_N$) of 1.3$\\pm$0.2 was derived for the galaxy, and we estimated a total population of 120$\\pm$40 GCs. Based on the projected radial distribution it appears that Circinus has a different distribution of GC candidates than MW and M31. Conclusions. We demonstrate that Circinus galaxy hosts a sizeable number of cluster candidates. This result is the first leap towards understanding the evolution of old stellar clusters in this galaxy. |\n",
       "|<p style=\"color:green\"> **ERROR** </p>| <p style=\"color:green\">affiliation error: mpia.affiliation_verifications: '69117' keyword not found.</p> |"
      ],
      "text/plain": [
       "<IPython.core.display.Markdown object>"
      ]
     },
     "metadata": {},
     "output_type": "display_data"
    },
    {
     "data": {
      "text/markdown": [
       "\n",
       "|||\n",
       "|---:|:---|\n",
       "| [![arXiv](https://img.shields.io/badge/arXiv-arXiv:2212.05868-b31b1b.svg)](https://arxiv.org/abs/arXiv:2212.05868) | **J-PLUS DR3: Galaxy-Star-Quasar classification**  |\n",
       "|| R. von Marttens, et al. -- incl., <mark>C. Hernández-Monteagudo</mark>, <mark>H. Vázquez Ramió</mark> |\n",
       "|*Appeared on*| *2022-12-13*|\n",
       "|*Comments*| *14 pages, 17 figures*|\n",
       "|**Abstract**| The Javalambre Photometric Local Universe Survey (J-PLUS) is a 12-band photometric survey using the 83-cm JAST telescope. Data Release 3 includes 47.4 million sources (29.8 million with $r \\le 21$) on 3192 deg$^2$ (2881 deg$^2$ after masking). J-PLUS DR3 only provides star-galaxy classification so that quasars are not identified from the other sources. Given the size of the dataset, machine learning methods could provide a valid alternative classification and a solution to the classification of quasars. Our objective is to classify J-PLUS DR3 sources into galaxies, stars and quasars, outperforming the available classifiers in each class. We use an automated machine learning tool called {\\tt TPOT} to find an optimized pipeline to perform the classification. The supervised machine learning algorithms are trained on the crossmatch with SDSS DR12, LAMOST DR7 and \\textit{Gaia} DR3. We checked that the training set of about 570 thousand galaxies, one million stars and 220 thousand quasars is both representative and pure to a good degree. We considered 37 features: besides the twelve photometric bands with their errors, six colors, four morphological parameters, galactic extinction with its error and the PSF relative to the corresponding pointing. After exploring numerous pipeline possibilities through the TPOT genetic algorithm, we found that XGBoost provides the best performance: the AUC for galaxies, stars and quasars is above 0.99 and the average precision is above 0.99 for galaxies and stars and 0.94 for quasars. XGBoost outperforms the star-galaxy classifiers already provided in J-PLUS DR3 and also efficiently classifies quasars. We also found that photometry was very important in the classification of quasars, showing the relevance of narrow-band photometry. |\n",
       "|<p style=\"color:green\"> **ERROR** </p>| <p style=\"color:green\">affiliation error: mpia.affiliation_verifications: '69117' keyword not found.</p> |"
      ],
      "text/plain": [
       "<IPython.core.display.Markdown object>"
      ]
     },
     "metadata": {},
     "output_type": "display_data"
    },
    {
     "data": {
      "text/markdown": [
       "\n",
       "|||\n",
       "|---:|:---|\n",
       "| [![arXiv](https://img.shields.io/badge/arXiv-arXiv:2212.05066-b31b1b.svg)](https://arxiv.org/abs/arXiv:2212.05066) | **The undiscovered ultra-diffuse galaxies of the Local Group**  |\n",
       "|| Oliver Newton, et al. -- incl., <mark>Noam I. Libeskind</mark> |\n",
       "|*Appeared on*| *2022-12-13*|\n",
       "|*Comments*| *5 pages + acknowledgements and references. Submitted to MNRAS*|\n",
       "|**Abstract**| Ultra-diffuse galaxies (UDGs) are attractive candidates to probe cosmological models and test theories of galaxy formation at low masses; however, they are difficult to detect because of their low surface brightness. In the Local Group (LG) a handful of UDGs have been found to date, most of which are satellites of the Milky Way and M31, and only two are isolated galaxies. It is unclear whether so few UDGs are expected. We address this by studying the population of UDGs formed in hydrodynamic constrained simulations of the LG from the HESTIA suite. For a LG with mass $M_{\\rm LG}\\!\\left(<2.5\\, {\\rm Mpc}\\right)=8\\times10^{12}{\\rm M_\\odot}$, we predict that there are $12\\pm3$ UDGs (68 per cent confidence) with stellar masses $10^6 \\leq M_\\ast\\, /\\, {\\rm M_\\odot} < 10^9$, and effective radii $R_{\\rm e} \\geq 1.5\\, {\\rm kpc}$, in the field of the LG, of which $2^{+2}_{-1}$ (68 per cent confidence) are detectable in the footprint of the Sloan Digital Sky Survey (SDSS). Accounting for survey incompleteness, we find that up to 82, 90, and 100 per cent of all UDGs in the LG field would be observable in a future all-sky survey with a depth similar to the SDSS, the Dark Energy Survey, or the Legacy Survey of Space and Time, respectively. Our results suggest that there is a population of UDGs in the LG awaiting discovery. |\n",
       "|<p style=\"color:green\"> **ERROR** </p>| <p style=\"color:green\">affiliation error: mpia.affiliation_verifications: 'Heidelberg' keyword not found.</p> |"
      ],
      "text/plain": [
       "<IPython.core.display.Markdown object>"
      ]
     },
     "metadata": {},
     "output_type": "display_data"
    },
    {
     "data": {
      "text/markdown": [
       "\n",
       "|||\n",
       "|---:|:---|\n",
       "| [![arXiv](https://img.shields.io/badge/arXiv-arXiv:2212.05085-b31b1b.svg)](https://arxiv.org/abs/arXiv:2212.05085) | **Simultaneous Radio and Optical Polarimetry of GRB 191221B Afterglow**  |\n",
       "|| Yuji Urata, et al. -- incl., <mark>Klaas Wiersema</mark> |\n",
       "|*Appeared on*| *2022-12-13*|\n",
       "|*Comments*| *Author's version. 41 pages, 9 figures, 4 tables*|\n",
       "|**Abstract**| Gamma-ray bursts (GRBs) are the most luminous transients in the universe and are utilized as probes of early stars, gravitational wave counterparts, and collisionless shock physics. In spite of studies on polarimetry of GRBs in individual wavelengths that characterized intriguing properties of prompt emission and afterglow, no coordinated multi-wavelength measurements have yet been performed. Here, we report the first coordinated simultaneous polarimetry in the optical and radio bands for the afterglow associated with the typical long GRB 191221B. Our observations successfully caught the radio emission, which is not affected by synchrotron self-absorption, and show that the emission is depolarized in the radio band compared to the optical one. Our simultaneous polarization angle measurement and temporal polarization monitoring indicate the existence of cool electrons that increase the estimate of jet kinetic energy by a factor of $>$ 4 for this GRB afterglow. Further coordinated multi-wavelength polarimetric campaigns would improve our understanding of the total jet energies and magnetic field configurations in the emission regions of various types of GRBs, which are required to comprehend the mass scales of their progenitor systems and the physics of collisionless shocks. |\n",
       "|<p style=\"color:green\"> **ERROR** </p>| <p style=\"color:green\">affiliation error: mpia.affiliation_verifications: 'Heidelberg' keyword not found.</p> |"
      ],
      "text/plain": [
       "<IPython.core.display.Markdown object>"
      ]
     },
     "metadata": {},
     "output_type": "display_data"
    },
    {
     "data": {
      "text/markdown": [
       "\n",
       "|||\n",
       "|---:|:---|\n",
       "| [![arXiv](https://img.shields.io/badge/arXiv-arXiv:2212.05103-b31b1b.svg)](https://arxiv.org/abs/arXiv:2212.05103) | **Can pre-supernova winds from massive stars enrich the interstellar  medium with nitrogen at high redshift?**  |\n",
       "|| Arpita Roy, et al. -- incl., <mark>Lisa J. Kewley</mark>, <mark>Alexander Heger</mark> |\n",
       "|*Appeared on*| *2022-12-13*|\n",
       "|*Comments*| *6 pages, 1 figure, published in Proceedings of the International Astronomical Union No. 366, 2022 titled \"The Origin of Outflows in Evolved Stars\"*|\n",
       "|**Abstract**| Understanding the nucleosynthetic origin of nitrogen and the evolution of the N/O ratio in the interstellar medium is crucial for a comprehensive picture of galaxy chemical evolution at high-redshift because most observational metallicity (O/H) estimates are implicitly dependent on the N/O ratio. The observed N/O at high-redshift shows an overall constancy with O/H, albeit with a large scatter. We show that these heretofore unexplained features can be explained by the pre-supernova wind yields from rotating massive stars (M$\\gtrsim 10 \\, \\mathrm{M}_\\odot$, $v/v_{\\rm{crit}} \\gtrsim 0.4$). Our models naturally produce the observed N/O plateau, as well as the scatter at low O/H. We find the scatter to arise from varying star formation efficiency. However, the models that have supernovae dominated yields produce a poor fit to the observed N/O at low O/H. This peculiar abundance pattern at low O/H suggests that dwarf galaxies are most likely to be devoid of SNe yields and are primarily enriched by pre-supernova wind abundances. |\n",
       "|<p style=\"color:green\"> **ERROR** </p>| <p style=\"color:green\">affiliation error: mpia.affiliation_verifications: 'Heidelberg' keyword not found.</p> |"
      ],
      "text/plain": [
       "<IPython.core.display.Markdown object>"
      ]
     },
     "metadata": {},
     "output_type": "display_data"
    },
    {
     "data": {
      "text/markdown": [
       "\n",
       "|||\n",
       "|---:|:---|\n",
       "| [![arXiv](https://img.shields.io/badge/arXiv-arXiv:2212.05118-b31b1b.svg)](https://arxiv.org/abs/arXiv:2212.05118) | **Millimeter/submillimeter VLBI with a Next Generation Large Radio  Telescope in the Atacama Desert**  |\n",
       "|| Kazunori Akiyama, et al. -- incl., <mark>Lynn D. Matthews</mark> |\n",
       "|*Appeared on*| *2022-12-13*|\n",
       "|*Comments*| *8 pages, 1 figure, submitted to the special issue of Galaxies \"From Vision to Instrument: Creating a Next-Generation Event Horizon Telescope for a New Era of Black Hole Science\" as a ngEHT white paper*|\n",
       "|**Abstract**| The proposed next generation Event Horizon Telescope (ngEHT) concept envisions the imaging of various astronomical sources on scales of microarcseconds in unprecedented detail with at least two orders of magnitude improvement in the image dynamic ranges by extending the Event Horizon Telescope (EHT). A key technical component of ngEHT is the utilization of large aperture telescopes to anchor the entire array, allowing the connection of less sensitive stations through highly sensitive fringe detections to form a dense network across the planet. Here, we introduce two projects for planned next generation large radio telescopes in the 2030s on the Chajnantor Plateau in the Atacama desert in northern Chile, the Large Submillimeter Telescope (LST) and the Atacama Large Aperture Submillimeter Telescope (AtLAST). Both are designed to have a 50-meter diameter and operate at the planned ngEHT frequency bands of 86, 230 and 345\\,GHz. A large aperture of 50\\,m that is co-located with two existing EHT stations, the Atacama Large Millimeter/Submillimeter Array (ALMA) and the Atacama Pathfinder Experiment (APEX) Telescope in the excellent observing site of the Chajnantor Plateau, will offer excellent capabilities for highly sensitive, multi-frequency, and time-agile millimeter very long baseline interferometry (VLBI) observations with accurate data calibration relevant to key science cases of ngEHT. In addition to ngEHT, its unique location in Chile will substantially improve angular resolutions of the planned Next Generation Very Large Array in North America or any future global millimeter VLBI arrays if combined. LST and AtLAST will be a key element enabling transformative science cases with next-generation millimeter/submillimeter VLBI arrays. |\n",
       "|<p style=\"color:green\"> **ERROR** </p>| <p style=\"color:green\">affiliation error: mpia.affiliation_verifications: 'Heidelberg' keyword not found.</p> |"
      ],
      "text/plain": [
       "<IPython.core.display.Markdown object>"
      ]
     },
     "metadata": {},
     "output_type": "display_data"
    },
    {
     "data": {
      "text/markdown": [
       "\n",
       "|||\n",
       "|---:|:---|\n",
       "| [![arXiv](https://img.shields.io/badge/arXiv-arXiv:2212.05137-b31b1b.svg)](https://arxiv.org/abs/arXiv:2212.05137) | **A Green Bank Telescope search for narrowband technosignatures between  1.1-1.9 GHz during 12 Kepler planetary transits**  |\n",
       "|| Sofia Z. Sheikh, et al. -- incl., <mark>David MacMahon</mark> |\n",
       "|*Appeared on*| *2022-12-13*|\n",
       "|*Comments*| *18 pages, 11 figures*|\n",
       "|**Abstract**| A growing avenue for determining the prevalence of life beyond Earth is to search for \"technosignatures\" from extraterrestrial intelligences/agents. Technosignatures require significant energy to be visible across interstellar space and thus intentional signals might be concentrated in frequency, in time, or in space, to be found in mutually obvious places. Therefore, it could be advantageous to search for technosignatures in parts of parameter space that are mutually-derivable to an observer on Earth and a distant transmitter. In this work, we used the L-band (1.1-1.9 GHz) receiver on the Robert C. Byrd Green Bank Telescope (GBT) to perform the first technosignature search pre-synchronized with exoplanet transits, covering 12 Kepler systems. We used the Breakthrough Listen turboSETI pipeline to flag narrowband hits ($\\sim$3 Hz) using a maximum drift rate of $\\pm$614.4 Hz/s and a signal-to-noise threshold of 5 - the pipeline returned $\\sim 3.4 \\times 10^5$ apparently-localized features. Visual inspection by a team of citizen scientists ruled out 99.6% of them. Further analysis found 2 signals-of-interest that warrant follow-up, but no technosignatures. If the signals-of-interest are not re-detected in future work, it will imply that the 12 targets in the search are not producing transit-aligned signals from 1.1-1.9 GHz with transmitter powers $>$60 times that of the former Arecibo radar. This search debuts a range of innovative technosignature techniques: citizen science vetting of potential signals-of-interest, a sensitivity-aware search out to extremely high drift rates, a more flexible method of analyzing on-off cadences, and an extremely low signal-to-noise threshold. |\n",
       "|<p style=\"color:green\"> **ERROR** </p>| <p style=\"color:green\">affiliation error: mpia.affiliation_verifications: 'Heidelberg' keyword not found.</p> |"
      ],
      "text/plain": [
       "<IPython.core.display.Markdown object>"
      ]
     },
     "metadata": {},
     "output_type": "display_data"
    },
    {
     "data": {
      "text/markdown": [
       "\n",
       "|||\n",
       "|---:|:---|\n",
       "| [![arXiv](https://img.shields.io/badge/arXiv-arXiv:2212.05193-b31b1b.svg)](https://arxiv.org/abs/arXiv:2212.05193) | **Individual pulse emission from the diffuse drifter PSR J1401$-$6357  using the ultrawideband receiver on the Parkes radio telescope**  |\n",
       "|| J. L. Chen, et al. -- incl., <mark>D. L. He</mark> |\n",
       "|*Appeared on*| *2022-12-13*|\n",
       "|*Comments*| *10 pages, 13 figures*|\n",
       "|**Abstract**| In this study, we report on a detailed single pulse analysis of the radio emission from the pulsar J1401$-$6357 (B1358$-$63) based on data observed with the ultrawideband low-frequency receiver on the Parkes radio telescope. In addition to a weak leading component, the integrated pulse profile features a single-humped structure with a slight asymmetry. The frequency evolution of the pulse profile is studied. Well-defined nulls, with an estimated nulling fraction greater than 2\\%, are present across the whole frequency band. No emission is detected with significance above 3$\\sigma$ in the average pulse profile integrated over all null pulses. Using fluctuation spectral analysis, we reveal the existence of temporal-dependent subpulse drifting in this pulsar for the first time. A clear double-peaked feature is present at exactly the alias border across the whole frequency band, which suggests that the apparent drift sense changes during the observation. Our observations provide further confirmation that the phenomena of pulse nulling and subpulse drifting are independent of observing frequency, which suggest that they invoke changes on the global magnetospheric scale. |\n",
       "|<p style=\"color:green\"> **ERROR** </p>| <p style=\"color:green\">affiliation error: mpia.affiliation_verifications: 'Heidelberg' keyword not found.</p> |"
      ],
      "text/plain": [
       "<IPython.core.display.Markdown object>"
      ]
     },
     "metadata": {},
     "output_type": "display_data"
    },
    {
     "data": {
      "text/markdown": [
       "\n",
       "|||\n",
       "|---:|:---|\n",
       "| [![arXiv](https://img.shields.io/badge/arXiv-arXiv:2212.05198-b31b1b.svg)](https://arxiv.org/abs/arXiv:2212.05198) | **The IGRINS YSO Survey III: Stellar parameters of pre-main sequence stars  in Ophiuchus and Upper Scorpius**  |\n",
       "|| Ricardo López-Valdivia, et al. -- incl., <mark>Jesús Hernández</mark>, <mark>Heeyoung Oh</mark>, <mark>Jae-Joon Lee</mark> |\n",
       "|*Appeared on*| *2022-12-13*|\n",
       "|*Comments*| *21 pages, 8 figures, 4 tables. Accepted for publication in ApJ*|\n",
       "|**Abstract**| We used the Immersion GRating Infrared Spectrometer (IGRINS) to determine fundamental parameters for 61 K- and M-type young stellar objects (YSOs) located in the Ophiuchus and Upper Scorpius star-forming regions. We employed synthetic spectra and a Markov chain Monte Carlo approach to fit specific K-band spectral regions and determine the photospheric temperature ($T_{\\rm eff}$), surface gravity ($\\log$ g), magnetic field strength (B), projected rotational velocity ($v \\sin i$), and K-band veiling ($r_{\\rm K}$). We determined B for $\\sim$46% of our sample. Stellar parameters were compared to the results from Taurus-Auriga and the TW Hydrae Association (TWA) presented in Paper I of this series. We classified all the YSOs in the IGRINS survey with infrared spectral indices from 2MASS and WISE photometry between 2 and 24~$\\mu$m. We found that Class II YSOs typically have lower $\\log$ g and $v\\sin i$, similar B, and higher K-band veiling than their Class III counterparts. Additionally, we determined the stellar parameters for a sample of K and M field stars also observed with IGRINS. We have identified intrinsic similarities and differences at different evolutionary stages with our homogeneous determination of stellar parameters in the IGRINS YSO Survey. Considering $\\log$ g as a proxy for age, we found that the Ophiuchus and Taurus samples have a similar age. We also find that Upper Scorpius and TWA YSOs have similar ages, and are more evolved than Ophiuchus/Taurus YSOs. |\n",
       "|<p style=\"color:green\"> **ERROR** </p>| <p style=\"color:green\">affiliation error: mpia.affiliation_verifications: 'Heidelberg' keyword not found.</p> |"
      ],
      "text/plain": [
       "<IPython.core.display.Markdown object>"
      ]
     },
     "metadata": {},
     "output_type": "display_data"
    },
    {
     "data": {
      "text/markdown": [
       "\n",
       "|||\n",
       "|---:|:---|\n",
       "| [![arXiv](https://img.shields.io/badge/arXiv-arXiv:2212.05215-b31b1b.svg)](https://arxiv.org/abs/arXiv:2212.05215) | **The photometric observation of the quasi-simultaneous mutual eclipse and  occultation between Europa and Ganymede on 22 August 2021**  |\n",
       "|| Chu Wing So, et al. -- incl., <mark>Edwin Lok Hei Yuen</mark>, <mark>Lawrence Wai Kwan Lee</mark> |\n",
       "|*Appeared on*| *2022-12-13*|\n",
       "|*Comments*| *23 pages, 5 appendixes, 16 figures, 7 tables*|\n",
       "|**Abstract**| Mutual events (MEs) are eclipses and occultations among planetary natural satellites. Most of the time, eclipses and occultations occur separately. However, the same satellite pair will exhibit an eclipse and an occultation quasi-simultaneously under particular orbital configurations. This kind of rare event is termed as a quasi-simultaneous mutual event (QSME). During the 2021 campaign of mutual events of jovian satellites, we observed a QSME between Europa and Ganymede. The present study aims to describe and study the event in detail. We observed the QSME with a CCD camera attached to a 300-mm telescope at the Hong Kong Space Museum Sai Kung iObservatory. We obtained the combined flux of Europa and Ganymede from aperture photometry. A geometric model was developed to explain the light curve observed. Our results are compared with theoretical predictions (O-C). We found that our simple geometric model can explain the QSME fairly accurately, and the QSME light curve is a superposition of the light curves of an eclipse and an occultation. Notably, the observed flux drops are within 2.6% of the theoretical predictions. The size of the event central time O-Cs ranges from -14.4 to 43.2 s. Both O-Cs of flux drop and timing are comparable to other studies adopting more complicated models. Given the event rarity, model simplicity and accuracy, we encourage more observations and analysis on QSMEs to improve Solar System ephemerides. |\n",
       "|<p style=\"color:green\"> **ERROR** </p>| <p style=\"color:green\">affiliation error: mpia.affiliation_verifications: 'Heidelberg' keyword not found.</p> |"
      ],
      "text/plain": [
       "<IPython.core.display.Markdown object>"
      ]
     },
     "metadata": {},
     "output_type": "display_data"
    },
    {
     "data": {
      "text/markdown": [
       "\n",
       "|||\n",
       "|---:|:---|\n",
       "| [![arXiv](https://img.shields.io/badge/arXiv-arXiv:2212.05229-b31b1b.svg)](https://arxiv.org/abs/arXiv:2212.05229) | **Power-law distribution and scale-invariant structure from the first  CHIME/FRB Fast Radio Burst catalog**  |\n",
       "|| Zi-Han Wang, Yu Sang, <mark>Xue Zhang</mark> |\n",
       "|*Appeared on*| *2022-12-13*|\n",
       "|*Comments*| *7 pages, 3 figures, 2 tables; accepted for publication in Research in Astronomy and Astrophysics*|\n",
       "|**Abstract**| We study the statistical property of fast radio bursts (FRBs) based on a selected sample of 190 one-off FRBs in the first CHIME/FRB catalog. Three power law models are used in the analysis, and we find the cumulative distribution functions of energy can be well fitted by bent power law and thresholded power law models. And the distribution functions of fluctuations of energy well follow the Tsallis $q$-Gaussian distribution. The $q$ values in the Tsallis $q$-Gaussian distribution are constant with small fluctuations for different temporal scale intervals, indicating a scale-invariant structure of the bursts. The earthquakes and soft gamma repeaters show similar properties, which are consistent with the predictions of self-organized criticality systems. |\n",
       "|<p style=\"color:green\"> **ERROR** </p>| <p style=\"color:green\">affiliation error: mpia.affiliation_verifications: 'Heidelberg' keyword not found.</p> |"
      ],
      "text/plain": [
       "<IPython.core.display.Markdown object>"
      ]
     },
     "metadata": {},
     "output_type": "display_data"
    },
    {
     "data": {
      "text/markdown": [
       "\n",
       "|||\n",
       "|---:|:---|\n",
       "| [![arXiv](https://img.shields.io/badge/arXiv-arXiv:2212.05406-b31b1b.svg)](https://arxiv.org/abs/arXiv:2212.05406) | **The Effect of Splashback on Weak Lensing Mass Estimates of Galaxy  Clusters and Groups**  |\n",
       "|| <mark>Yuanyuan Zhang</mark>, et al. |\n",
       "|*Appeared on*| *2022-12-13*|\n",
       "|*Comments*| **|\n",
       "|**Abstract**| The splashback radius of a dark matter halo, which corresponds to the first apocenter radius reached by infalling matter and substructures, has been detected around galaxy clusters using a multitude of observational methods, including weak lensing measurements. In this manuscript, we present how the splashback feature in the halo density profile affects galaxy cluster masses derived through weak lensing measurements if it is not accounted for. We find that the splashback radius has an increasingly large effect on group-sized halos towards $M_{200m} \\sim 10^{13.5} \\mathrm{M_\\odot}$. Depending on the model and the radial scale used, the cluster/group masses can be biased low by more than 0.1 dex. This bias, in turn, would result in a slightly lower $\\Omega_m$ value if propagated into a cluster cosmology analysis. The splashback effect with group-sized dark matter halos may become important to consider, given the increasingly stringent cosmological constraints coming from optical wide-field surveys. |\n",
       "|<p style=\"color:green\"> **ERROR** </p>| <p style=\"color:green\">affiliation error: mpia.affiliation_verifications: 'Heidelberg' keyword not found.</p> |"
      ],
      "text/plain": [
       "<IPython.core.display.Markdown object>"
      ]
     },
     "metadata": {},
     "output_type": "display_data"
    },
    {
     "data": {
      "text/markdown": [
       "\n",
       "|||\n",
       "|---:|:---|\n",
       "| [![arXiv](https://img.shields.io/badge/arXiv-arXiv:2212.05516-b31b1b.svg)](https://arxiv.org/abs/arXiv:2212.05516) | **Towards a reliable reconstruction of the power spectrum of primordial  curvature perturbation on small scales from GWTC-3**  |\n",
       "|| <mark>Li-Ming Zheng</mark>, et al. -- incl., <mark>Zhengxiang Li</mark> |\n",
       "|*Appeared on*| *2022-12-13*|\n",
       "|*Comments*| **|\n",
       "|**Abstract**| Primordial black holes (PBHs) can be both candidates of dark matter and progenitors of binary black holes (BBHs) detected by the LIGO-Virgo-KAGRA collaboration. Since PBHs could form in the very early Universe through the gravitational collapse of primordial density perturbations, the population of BBHs detected by gravitational waves encodes much information on primordial curvature perturbation. In this work, we take a reliable and systematic approach to reconstruct the power spectrum of the primordial curvature perturbation from GWTC-3, under the hierarchical Bayesian inference framework, by accounting for the measurement uncertainties and selection effects. In addition to just considering the single PBH population model, we also report the results considering the multi-population model, i.e., the mixed PBH and astrophysical black hole binaries model. We find that the maximum amplitude of the reconstructed power spectrum of primordial curvature perturbation can be $\\sim2.5\\times10^{-2}$ at $\\mathcal{O}(10^{5})~\\rm Mpc^{-1}$ scales, which is consistent with the PBH formation scenario from inflation at small scales. |\n",
       "|<p style=\"color:green\"> **ERROR** </p>| <p style=\"color:green\">affiliation error: mpia.affiliation_verifications: 'Heidelberg' keyword not found.</p> |"
      ],
      "text/plain": [
       "<IPython.core.display.Markdown object>"
      ]
     },
     "metadata": {},
     "output_type": "display_data"
    },
    {
     "data": {
      "text/markdown": [
       "\n",
       "|||\n",
       "|---:|:---|\n",
       "| [![arXiv](https://img.shields.io/badge/arXiv-arXiv:2212.05539-b31b1b.svg)](https://arxiv.org/abs/arXiv:2212.05539) | **UV-driven Chemistry as a Signpost for Late-stage Planet Formation**  |\n",
       "|| Jenny K. Calahan, et al. -- incl., <mark>Arthur D. Bosman</mark>, <mark>Ke Zhang</mark> |\n",
       "|*Appeared on*| *2022-12-13*|\n",
       "|*Comments*| *Accepted to Nature Astronomy, Published Dec 8th 2022*|\n",
       "|**Abstract**| The chemical reservoir within protoplanetary disks has a direct impact on planetary compositions and the potential for life. A long-lived carbon-and nitrogen-rich chemistry at cold temperatures (<=50K) is observed within cold and evolved planet-forming disks. This is evidenced by bright emission from small organic radicals in 1-10 Myr aged systems that would otherwise have frozen out onto grains within 1 Myr. We explain how the chemistry of a planet-forming disk evolves from a cosmic-ray/X-ray-dominated regime to an ultraviolet-dominated chemical equilibrium. This, in turn, will bring about a temporal transition in the chemical reservoir from which planets will accrete. This photochemical dominated gas phase chemistry develops as dust evolves via growth, settling and drift, and the small grain population is depleted from the disk atmosphere. A higher gas-to-dust mass ratio allows for deeper penetration of ultraviolet photons is coupled with a carbon-rich gas (C/O > 1) to form carbon-bearing radicals and ions. This further results in gas phase formation of organic molecules, which then would be accreted by any actively forming planets present in the evolved disk. |\n",
       "|<p style=\"color:green\"> **ERROR** </p>| <p style=\"color:green\">affiliation error: mpia.affiliation_verifications: 'Heidelberg' keyword not found.</p> |"
      ],
      "text/plain": [
       "<IPython.core.display.Markdown object>"
      ]
     },
     "metadata": {},
     "output_type": "display_data"
    },
    {
     "data": {
      "text/markdown": [
       "\n",
       "|||\n",
       "|---:|:---|\n",
       "| [![arXiv](https://img.shields.io/badge/arXiv-arXiv:2212.05594-b31b1b.svg)](https://arxiv.org/abs/arXiv:2212.05594) | **Gravitational waves from the early universe**  |\n",
       "|| <mark>Rafael R. Lino dos Santos</mark>, <mark>Linda M. van Manen</mark> |\n",
       "|*Appeared on*| *2022-12-13*|\n",
       "|*Comments*| *Submission to SciPost*|\n",
       "|**Abstract**| These lecture notes are based on the course \"Gravitational waves from the early universe\" given at the 27th W.E. Heraeus \"Saalburg\" Summer School 2021 by Valerie Domcke. Ongoing and future collaborations will probe different frequency ranges of the gravitational wave spectrum, allowing for probing different stages of the early universe and Beyond Standard Model physics. Due to the very high energies involved, accelerators cannot probe them. Therefore, current knowledge about new physics is limited and relies on bounds from CMB observations and theoretical assumptions about these energy scales. While some models are in tension with CMB data, others are unconstrained in shorter wavelength scales. Nonetheless, each one of these models has a gravitational wave density spectrum that can be compared to data. These lecture notes review the formalism of gravitational waves in General Relativity and introduce stochastic gravitational waves, primordial sources, and detection efforts. |\n",
       "|<p style=\"color:green\"> **ERROR** </p>| <p style=\"color:green\">affiliation error: mpia.affiliation_verifications: 'Heidelberg' keyword not found.</p> |"
      ],
      "text/plain": [
       "<IPython.core.display.Markdown object>"
      ]
     },
     "metadata": {},
     "output_type": "display_data"
    },
    {
     "data": {
      "text/markdown": [
       "\n",
       "|||\n",
       "|---:|:---|\n",
       "| [![arXiv](https://img.shields.io/badge/arXiv-arXiv:2212.05631-b31b1b.svg)](https://arxiv.org/abs/arXiv:2212.05631) | **Morphology of Shocked Lateral Outflows in Colliding Hydrodynamic Flows**  |\n",
       "|| R.N. Markwick, et al. -- incl., <mark>A. Frank</mark> |\n",
       "|*Appeared on*| *2022-12-13*|\n",
       "|*Comments*| **|\n",
       "|**Abstract**| Supersonic interacting flows occurring in phenomena such as protostellar jets give rise to strong shocks, and have been demonstrated in several laboratory experiments. To study such colliding flows, we use the AstroBEAR AMR code to conduct hydrodynamic simulations in three dimensions. We introduce variations in the flow parameters of density, velocity, and cross sectional radius of the colliding flows %radius in order to study the propagation and conical shape of the bow shock formed by collisions between two, not necessarily symmetric, hypersonic flows. We find that the motion of the interaction region is driven by imbalances in ram pressure between the two flows, while the conical structure of the bow shock is a result of shocked lateral outflows (SLOs) being deflected from the horizontal when the flows are of differing cross-section. |\n",
       "|<p style=\"color:green\"> **ERROR** </p>| <p style=\"color:green\">affiliation error: mpia.affiliation_verifications: 'Heidelberg' keyword not found.</p> |"
      ],
      "text/plain": [
       "<IPython.core.display.Markdown object>"
      ]
     },
     "metadata": {},
     "output_type": "display_data"
    },
    {
     "data": {
      "text/markdown": [
       "\n",
       "|||\n",
       "|---:|:---|\n",
       "| [![arXiv](https://img.shields.io/badge/arXiv-arXiv:2212.05633-b31b1b.svg)](https://arxiv.org/abs/arXiv:2212.05633) | **Clustered Formation of Massive Stars within an Ionized Rotating Disk**  |\n",
       "|| Roberto Galván-Madrid, et al. -- incl., <mark>Qizhou Zhang</mark>, <mark>Hauyu Baobab Liu</mark> |\n",
       "|*Appeared on*| *2022-12-13*|\n",
       "|*Comments*| *Accepted to ApJ Letters, December 7 2022*|\n",
       "|**Abstract**| We present ALMA observations with a 800 au resolution and radiative-transfer modelling of the inner part ($r\\approx6000$ au) of the ionized accretion flow around a compact star cluster in formation at the center of the luminous ultra-compact (UC) HII region G10.6-0.4. We modeled the flow with an ionized Keplerian disk with and without radial motions in its outer part, or with an external Ulrich envelope. The MCMC fits to the data give total stellar masses $M_\\star$ from 120 to $200~M_\\odot$, with much smaller ionized-gas masses $M_\\mathrm{ion-gas} = 0.2$ to $0.25~M_\\odot$. The stellar mass is distributed within the gravitational radius $R_g\\approx 1000$ to 1500 au, where the ionized gas is bound. The viewing inclination angle from the face-on orientation is $i = 49$ to $56~\\deg$. Radial motions at radii $r > R_g$ converge to $v_{r,0} \\approx 8.7$ km/s, or about the speed of sound of ionized gas, indicating that this gas is marginally unbound at most. From additional constraints on the ionizing-photon rate and far-IR luminosity of the region, we conclude that the stellar cluster consists of a few massive stars with $M_\\mathrm{star} = 32$ to $60~M_\\odot$, or one star in this range of masses accompanied by a population of lower-mass stars. Any active accretion of ionized gas onto the massive (proto)stars is residual. The inferred cluster density is very large, comparable to that reported at similar scales in the Galactic Center. Stellar interactions are likely to occur within the next Myr. |\n",
       "|<p style=\"color:green\"> **ERROR** </p>| <p style=\"color:green\">affiliation error: mpia.affiliation_verifications: 'Heidelberg' keyword not found.</p> |"
      ],
      "text/plain": [
       "<IPython.core.display.Markdown object>"
      ]
     },
     "metadata": {},
     "output_type": "display_data"
    },
    {
     "data": {
      "text/markdown": [
       "\n",
       "|||\n",
       "|---:|:---|\n",
       "| [![arXiv](https://img.shields.io/badge/arXiv-arXiv:2212.05641-b31b1b.svg)](https://arxiv.org/abs/arXiv:2212.05641) | **Nearby SNR: a possible common origin to multi-messenger anomalies in  spectra, ratios and anisotropy of cosmic rays**  |\n",
       "|| Bing-Qiang Qiao, <mark>Yi-Qing Guo</mark>, <mark>Wei-Liu</mark>, Xiao-Jun Bi |\n",
       "|*Appeared on*| *2022-12-13*|\n",
       "|*Comments*| *16 pages, 12 figures*|\n",
       "|**Abstract**| The multi-messenger anomalies, including spectral hardening or excess for nuclei, leptons, ratios of $\\bar p/p$ and B/C, and anisotropic reversal, were observed in past years. AMS-02 experiment also revealed different spectral break for positron and electron at 284 GeV and beyond TeV respectively. It is natural to ask whether all those anomalies originate from one unified physical scenario. In this work, the spatially-dependent propagation (SDP) with a nearby SNR source is adopted to reproduce above mentioned anomalies. There possibly exists dense molecular cloud(DMC) around SNRs and the secondary particles can be produced by pp-collision or fragmentation between the accelerated primary cosmic rays and DMC. As a result, the spectral hardening for primary, secondary particles and ratios of $B/C$ and $\\bar p/p$ can be well reproduced. Due to the energy loss at source age of 330 kyrs, the characteristic spectral break-off for primary electron is at about 1 TeV hinted from the measurements. The secondary positron and electron from charged pion take up $5\\%$ energy from their mother particles, so the positron spectrum has a cut-off at $\\sim$250 GeV. Therefore, the different spectral break for positron and electron together with other anomalies can be fulfilled in this unified physical scenario. More interesting is that we also obtain the featured structures as spectral break-off at 5 TV for secondary particles of Li, Be, B, which can be served to verify our model. We hope that those tagged structures can be observed by the new generation of space-borne experiment HERD in future. |\n",
       "|<p style=\"color:green\"> **ERROR** </p>| <p style=\"color:green\">affiliation error: mpia.affiliation_verifications: 'Heidelberg' keyword not found.</p> |"
      ],
      "text/plain": [
       "<IPython.core.display.Markdown object>"
      ]
     },
     "metadata": {},
     "output_type": "display_data"
    },
    {
     "data": {
      "text/markdown": [
       "\n",
       "|||\n",
       "|---:|:---|\n",
       "| [![arXiv](https://img.shields.io/badge/arXiv-arXiv:2212.05642-b31b1b.svg)](https://arxiv.org/abs/arXiv:2212.05642) | **A Measurement of the CMB Temperature Power Spectrum and Constraints on  Cosmology from the SPT-3G 2018 TT/TE/EE Data Set**  |\n",
       "|| L. Balkenhol, et al. -- incl., <mark>A. T. Lee</mark> |\n",
       "|*Appeared on*| *2022-12-13*|\n",
       "|*Comments*| *35 Pages, 17 Figures, 11 Tables*|\n",
       "|**Abstract**| We present a sample-variance-limited measurement of the temperature power spectrum ($TT$) of the cosmic microwave background (CMB) using observations of a $\\sim\\! 1500 \\,\\mathrm{deg}^2$ field made by SPT-3G in 2018. We report multifrequency power spectrum measurements at 95, 150, and 220GHz covering the angular multipole range $750 \\leq \\ell < 3000$. We combine this $TT$ measurement with the published polarization power spectrum measurements from the 2018 observing season and update their associated covariance matrix to complete the SPT-3G 2018 $TT/TE/EE$ data set. This is the first analysis to present cosmological constraints from SPT $TT$, $TE$, and $EE$ power spectrum measurements jointly. We blind the cosmological results and subject the data set to a series of consistency tests at the power spectrum and parameter level. We find excellent agreement between frequencies and spectrum types and our results are robust to the modeling of astrophysical foregrounds. We report results for $\\Lambda$CDM and a series of extensions, drawing on the following parameters: the amplitude of the gravitational lensing effect on primary power spectra $A_\\mathrm{L}$, the effective number of neutrino species $N_{\\mathrm{eff}}$, the primordial helium abundance $Y_{\\mathrm{P}}$, and the baryon clumping factor due to primordial magnetic fields $b$. We find that the SPT-3G 2018 $T/TE/EE$ data are well fit by $\\Lambda$CDM with a probability-to-exceed of $15\\%$. For $\\Lambda$CDM, we constrain the expansion rate today to $H_0 = 68.3 \\pm 1.5\\,\\mathrm{km\\,s^{-1}\\,Mpc^{-1}}$ and the combined structure growth parameter to $S_8 = 0.797 \\pm 0.042$. The SPT-based results are effectively independent of Planck, and the cosmological parameter constraints from either data set are within $<1\\,\\sigma$ of each other. (abridged) |\n",
       "|<p style=\"color:green\"> **ERROR** </p>| <p style=\"color:green\">affiliation error: mpia.affiliation_verifications: 'Heidelberg' keyword not found.</p> |"
      ],
      "text/plain": [
       "<IPython.core.display.Markdown object>"
      ]
     },
     "metadata": {},
     "output_type": "display_data"
    },
    {
     "data": {
      "text/markdown": [
       "\n",
       "|||\n",
       "|---:|:---|\n",
       "| [![arXiv](https://img.shields.io/badge/arXiv-arXiv:2212.05664-b31b1b.svg)](https://arxiv.org/abs/arXiv:2212.05664) | **Indirect Evidence for Dark Matter Density Spikes around Stellar-Mass  Black Holes**  |\n",
       "|| Man Ho Chan, <mark>Chak Man Lee</mark> |\n",
       "|*Appeared on*| *2022-12-13*|\n",
       "|*Comments*| *Accepted for publication in ApJL*|\n",
       "|**Abstract**| It has been suggested for a long time that dark matter would form a density spike around a black hole. However, no promising evidence has been observed so far to verify this theoretical suggestion. Here, we report the existence of a dark matter density spike around each of the two nearby stellar-mass black holes (A0620-00 and XTE J1118+480). The dynamical friction between dark matter and the companion stars can satisfactorily explain the abnormally fast orbital decays in the two binaries. The calculated spike index for A0620-00 and XTE J1118+480 are $\\gamma=1.71^{+0.01}_{-0.02}$ and $\\gamma=1.85^{+0.04}_{-0.04}$ respectively, which are close to the lower regime predicted by the stellar heating model. It may provide a possible indirect evidence for the existence of dark matter density spikes around stellar-mass black holes. We anticipate that analyzing observational data of nearby black hole X-ray binaries would be a new way to reveal the nature of dark matter. |\n",
       "|<p style=\"color:green\"> **ERROR** </p>| <p style=\"color:green\">affiliation error: mpia.affiliation_verifications: 'Heidelberg' keyword not found.</p> |"
      ],
      "text/plain": [
       "<IPython.core.display.Markdown object>"
      ]
     },
     "metadata": {},
     "output_type": "display_data"
    },
    {
     "data": {
      "text/markdown": [
       "\n",
       "|||\n",
       "|---:|:---|\n",
       "| [![arXiv](https://img.shields.io/badge/arXiv-arXiv:2212.05686-b31b1b.svg)](https://arxiv.org/abs/arXiv:2212.05686) | **Evidence that Shocks Destroy Small PAH Molecules in Low-luminosity  Active Galactic Nuclei**  |\n",
       "|| <mark>Lulu Zhang</mark>, Luis C. Ho, <mark>Aigen Li</mark> |\n",
       "|*Appeared on*| *2022-12-13*|\n",
       "|*Comments*| *19 pages, 14 figures, 5 tables, published in Astrophysical Journal*|\n",
       "|**Abstract**| We combined mapping-mode mid-infrared Spitzer spectra with complementary infrared imaging to perform a spatially resolved study of polycyclic aromatic hydrocarbons (PAHs) emission from the central regions of 66 nearby galaxies, roughly evenly divided into star-forming systems and low-luminosity active galactic nuclei (AGNs). In conjunction with similar measurements available for quasars, we aim to understand the physical properties of PAHs across a broad range of black hole accretion power, with the goal of identifying observational diagnostics that can be used to probe the effect of AGNs on the host galaxy. Whereas the PAH emission correlates tightly with far-ultraviolet luminosity in star-forming regions, the spatially resolved regions of AGNs tend to be PAH-deficient. Moreover, AGN regions exhibit on average smaller PAH 6.2 {\\mu}m/7.7 {\\mu}m and larger PAH 11.3 {\\mu}m/7.7 {\\mu}m band ratios. Although the current data are highly restrictive, they suggest that these anomalous PAH band ratios cannot be explained by the effects of the AGN radiation field alone. Instead, they hint that small grains may be destroyed by the combined effects of radiative processes and shocks, which are plausibly linked to jets and outflows preferentially associated with highly sub-Eddington, radiatively inefficient AGNs. While quasars also present a PAH deficit and unusual PAH band ratios, their characteristics differ in detail compared to those observed in more weakly accreting AGNs, a possible indicator of fundamental differences in their modes of energy feedback. |\n",
       "|<p style=\"color:green\"> **ERROR** </p>| <p style=\"color:green\">affiliation error: mpia.affiliation_verifications: 'Heidelberg' keyword not found.</p> |"
      ],
      "text/plain": [
       "<IPython.core.display.Markdown object>"
      ]
     },
     "metadata": {},
     "output_type": "display_data"
    },
    {
     "data": {
      "text/markdown": [
       "\n",
       "|||\n",
       "|---:|:---|\n",
       "| [![arXiv](https://img.shields.io/badge/arXiv-arXiv:2212.05687-b31b1b.svg)](https://arxiv.org/abs/arXiv:2212.05687) | **Estimating Molecular Gas Content in Galaxies from PAH Emission**  |\n",
       "|| <mark>Lulu Zhang</mark>, Luis C. Ho |\n",
       "|*Appeared on*| *2022-12-13*|\n",
       "|*Comments*| *11 pages, 6 figures, 3 tables, ApJ in press*|\n",
       "|**Abstract**| Emission from polycyclic aromatic hydrocarbons (PAHs), a commonly used indicator of star formation activity in galaxies, also has the potential to serve as an effective empirical tracer of molecular gas. We use a sample of 19 nearby galaxies with spatially resolved mid-infrared Spitzer spectroscopy, multi-wavelength optical and mid-infrared imaging, and millimeter interferometric CO(1-0) maps to investigate the feasibility of using PAH emission as an empirical proxy to estimate molecular gas mass. PAH emission correlates strongly with CO emission on sub-kpc scales over the diverse environments probed by our sample of star-forming galaxies and low-luminosity active galactic nuclei. The tight observed correlation, likely a consequence of photoelectronic heating of the diffuse interstellar gas by the PAHs, permits us to derive an empirical calibration to estimate molecular gas mass from the luminosity of PAH emission that has a total scatter of only {\\sim} 0.2 - 0.25 dex. Mid-infrared bands sensitive to PAH emission (e.g., the Spitzer/IRAC4 and WISE/W3 filters) can also be used as a highly effective substitute for this purpose. |\n",
       "|<p style=\"color:green\"> **ERROR** </p>| <p style=\"color:green\">affiliation error: mpia.affiliation_verifications: 'Heidelberg' keyword not found.</p> |"
      ],
      "text/plain": [
       "<IPython.core.display.Markdown object>"
      ]
     },
     "metadata": {},
     "output_type": "display_data"
    },
    {
     "data": {
      "text/markdown": [
       "\n",
       "|||\n",
       "|---:|:---|\n",
       "| [![arXiv](https://img.shields.io/badge/arXiv-arXiv:2212.05688-b31b1b.svg)](https://arxiv.org/abs/arXiv:2212.05688) | **The Contribution of Evolved Stars to PAH Heating and Implications for  Estimating Star Formation Rates**  |\n",
       "|| <mark>Lulu Zhang</mark>, Luis C. Ho |\n",
       "|*Appeared on*| *2022-12-13*|\n",
       "|*Comments*| *11 pages, 6 figures, 4 tables, ApJ in press*|\n",
       "|**Abstract**| Emission from polycyclic aromatic hydrocarbons (PAHs) is a promising tool for estimating star formation rate (SFR) in galaxies, but the origin of its sources of excitation, which include not only young but possibly also old stars, remains uncertain. We analyze Spitzer mid-infrared mapping-mode spectroscopic observations of the nuclear and extra-nuclear regions of 33 nearby galaxies to study the contribution of evolved stars to PAH emission. In combination with photometric measurements derived from ultraviolet, H{\\alpha}, and infrared images, the spatially resolved spectral decomposition enables us to characterize the PAH emission, SFR, and stellar mass of the sample galaxies on sub-kpc scales. We demonstrate that the traditional empirical correlation between PAH luminosity and SFR has a secondary dependence on specific SFR, or, equivalently, stellar mass. Ultraviolet-faint regions with lower specific SFRs and hence greater fraction of evolved stars emit stronger PAH emission at fixed SFR than ultraviolet-bright regions. We reformulate the PAH-based SFR estimator by explicitly introducing stellar mass as a second parameter to account for the contribution of evolved stars to PAH excitation. The influence of evolved stars can explain the sub-linear correlation between PAH emission and SFR, and it can partly account for the PAH deficit in dwarf galaxies and low-metallicity environments. |\n",
       "|<p style=\"color:green\"> **ERROR** </p>| <p style=\"color:green\">affiliation error: mpia.affiliation_verifications: 'Heidelberg' keyword not found.</p> |"
      ],
      "text/plain": [
       "<IPython.core.display.Markdown object>"
      ]
     },
     "metadata": {},
     "output_type": "display_data"
    },
    {
     "data": {
      "text/markdown": [
       "\n",
       "|||\n",
       "|---:|:---|\n",
       "| [![arXiv](https://img.shields.io/badge/arXiv-arXiv:2212.05718-b31b1b.svg)](https://arxiv.org/abs/arXiv:2212.05718) | **Spectral evolution responsible for the transition from positive lags to  negative lags in Gamma-ray Bursts**  |\n",
       "|| <mark>Wen-Qiang Liang</mark>, Rui-Jing Lu, Cheng-Feng Peng, Wen-Hao Chen |\n",
       "|*Appeared on*| *2022-12-13*|\n",
       "|*Comments*| *12 pages, 5 figures, accepted by Astrophysical Journal*|\n",
       "|**Abstract**| It was well known that most of gamma-ray bursts (GRBs) are dominated by positive spectral lags, while a small fraction of GRBs show negative lags. However, Wei et al. firstly identified a well-defined transition from positive lags to negative lags in GRB 160625B, and then got robust limits on possible violation of Lorentz Invariance (LIV) based on the observation. Recently, such a transition has been found in three different emission episodes in \\thisgrb by Gunapati et al., which provides us a great opportunity to investigate whether the transition results from LIV-induced observed spectral lags. Our analysis shows that the LIV model can not be compatible with the current observations, whereas, only the spectral evolution induced spectral lags could responsible for the transition. So, spectral evolution can also explain the positive to negative lag in GRB 190530A. |\n",
       "|<p style=\"color:green\"> **ERROR** </p>| <p style=\"color:green\">affiliation error: mpia.affiliation_verifications: 'Heidelberg' keyword not found.</p> |"
      ],
      "text/plain": [
       "<IPython.core.display.Markdown object>"
      ]
     },
     "metadata": {},
     "output_type": "display_data"
    },
    {
     "data": {
      "text/markdown": [
       "\n",
       "|||\n",
       "|---:|:---|\n",
       "| [![arXiv](https://img.shields.io/badge/arXiv-arXiv:2212.05731-b31b1b.svg)](https://arxiv.org/abs/arXiv:2212.05731) | **Calibrating the Amati relation for Gamma Ray Bursts using measurements  from Cosmic Chronometers**  |\n",
       "|| Darshan Kumar, et al. -- incl., <mark>Shobhit Mahajan</mark> |\n",
       "|*Appeared on*| *2022-12-13*|\n",
       "|*Comments*| *11 Pages, 2 Figures, 1 Table. Comments welcome!*|\n",
       "|**Abstract**| Gamma-Ray Bursts (GRBs) can be used as a tool to probe the universe at high redshift. In this regard, the Amati relation which correlates the isotropic equivalent radiant energy $(E_{iso})$ and the spectral peak energy in the GRB rest frame $(E_p)$ allows us to use GRBs as distance indicators. However, the circularity issue that arises due to the lack of GRBs at low redshift has motivated several authors to come up with model-independent approaches to investigate this relation. For this same purpose, we use Hubble parameter measurements obtained from the differential age of the galaxies to circumvent the circularity problem. In this work, we apply a non-parametric approach namely Gaussian Process on the observational Hubble data (without assuming any cosmological model or parameters) to determine the luminosity distances needed to calculate $E_{iso}$. We find that the best fit values of the Amati relation parameters are in concordance with the earlier works. |\n",
       "|<p style=\"color:green\"> **ERROR** </p>| <p style=\"color:green\">affiliation error: mpia.affiliation_verifications: 'Heidelberg' keyword not found.</p> |"
      ],
      "text/plain": [
       "<IPython.core.display.Markdown object>"
      ]
     },
     "metadata": {},
     "output_type": "display_data"
    },
    {
     "data": {
      "text/markdown": [
       "\n",
       "|||\n",
       "|---:|:---|\n",
       "| [![arXiv](https://img.shields.io/badge/arXiv-arXiv:2212.05753-b31b1b.svg)](https://arxiv.org/abs/arXiv:2212.05753) | **Velocity offset between emission and absorption lines might be an  effective indicator of dual core system**  |\n",
       "|| Qi Zheng, <mark>Shuang Liu</mark>, <mark>Xueguang Zhang</mark>, Qirong Yuan |\n",
       "|*Appeared on*| *2022-12-13*|\n",
       "|*Comments*| *13 pages, 7 figures, accepted to be published in ApJ*|\n",
       "|**Abstract**| This paper presents a detection of significant velocity offset between emission and absorption lines for a dual core system in SDSS~J155708.82+273518.74 (= SDSS~J1557). The photometric image of SDSS~J1557 exhibits clear two cores with a projected separation of $\\sim$2.2 arcseconds (4.9 kpc) determined by GALFIT. Based on the applications of the commonly accepted pPXF code with 636 theoretical SSP templates, the host galaxy contribution can be well determined. Then, the emission line features of SDSS~J1557 can be well measured after subtraction of host starlight. It is found that the velocity offset of emission lines with respect to absorption lines reaches $458 \\pm 13$ km/s. According to the Baldwin-Phillips-Terlevich (BPT) diagram, SDSS J1557 is a composite galaxy. In addition, SDSS J1557 can well fit the $M_{\\rm BH}-\\sigma_{\\ast}$ relation of bulges and the galaxy merger would not change this relation. Two reasonable models (say, AGN-driven outflow vs. dual core system) have been discussed to explain this velocity offset. The model of AGN-driven outflow fails to interpret the systematic redshift of emission lines and similar velocity offsets for various emission lines in SDSS~J1557. A significant velocity offset between emission and absorption lines might be an effective indicator of dual core system. |\n",
       "|<p style=\"color:green\"> **ERROR** </p>| <p style=\"color:green\">affiliation error: mpia.affiliation_verifications: 'Heidelberg' keyword not found.</p> |"
      ],
      "text/plain": [
       "<IPython.core.display.Markdown object>"
      ]
     },
     "metadata": {},
     "output_type": "display_data"
    },
    {
     "data": {
      "text/markdown": [
       "\n",
       "|||\n",
       "|---:|:---|\n",
       "| [![arXiv](https://img.shields.io/badge/arXiv-arXiv:2212.05760-b31b1b.svg)](https://arxiv.org/abs/arXiv:2212.05760) | **Fast Theoretical Predictions for Spherical Fourier Analysis of  Large-Scale Structures**  |\n",
       "|| Brandon Khek, <mark>Henry S. Grasshorn Gebhardt</mark>, Olivier Doré |\n",
       "|*Appeared on*| *2022-12-13*|\n",
       "|*Comments*| *9+2 pages, 11 figures*|\n",
       "|**Abstract**| On-going or soon to come cosmological large-scale structure surveys such as DESI, SPHEREx, Euclid, or the High-Latitude Spectroscopic Survey of the Nancy Grace Roman Space Telescope promise unprecedented measurement of the clustering of galaxies on large scales. When quantified with the Cartesian Fourier basis, the measurement of these large scales requires the introduction of so-called wide-angle corrections. By contrast, the measurement of the power spectrum in a spherical Fourier Bessel (SFB) basis does not require such corrections and naturally accounts for the spherical survey geometries. Here, we develop and implement a fast code to construct the SFB power spectrum and investigate how line of sight effects, physics such as non-Gaussianity, and differing survey geometries affect SFB power spectrum estimates. We then leverage our program to predict the tightness of cosmic growth constraints from realistic survey specifications using a Fisher matrix formalism. |\n",
       "|<p style=\"color:green\"> **ERROR** </p>| <p style=\"color:green\">affiliation error: mpia.affiliation_verifications: 'Heidelberg' keyword not found.</p> |"
      ],
      "text/plain": [
       "<IPython.core.display.Markdown object>"
      ]
     },
     "metadata": {},
     "output_type": "display_data"
    },
    {
     "data": {
      "text/markdown": [
       "\n",
       "|||\n",
       "|---:|:---|\n",
       "| [![arXiv](https://img.shields.io/badge/arXiv-arXiv:2212.05837-b31b1b.svg)](https://arxiv.org/abs/arXiv:2212.05837) | **The X-ray view of optically selected dual AGN**  |\n",
       "|| Alessandra De Rosa, et al. -- incl., <mark>Miguel Perez-Torres</mark> |\n",
       "|*Appeared on*| *2022-12-13*|\n",
       "|*Comments*| *12 pages, 4 figures. Accepted for publication in MNRAS*|\n",
       "|**Abstract**| We present a study of optically selected dual AGN with projected separations of 3--97~kpc. Using multi-wavelength (MWL) information (optical, X-rays, mid-IR), we characterized the intrinsic nuclear properties of this sample and compared them with those of isolated systems. Among the 124 X-ray detected AGN candidates, 52 appear in pairs and 72 as single X-ray sources. Through MWL analysis, we confirmed the presence of the AGN in a fraction >80\\% of the detected targets in pairs (42 over 52). X-ray spectral analysis confirms the trend of increasing AGN luminosity with decreasing separation, suggesting that mergers may have contributed in triggering more luminous AGN. Through X/mid-IR ratio $vs$ X-ray colors, we estimated a fraction of Compton-thin AGN (with 10$^{22}$ cm$^{-2}$ $<$ N$_{\\rm H} <$10$^{24}$ cm$^{-2}$) of about 80\\%, while about 16\\% are Compton thick (CT, with N$_{\\rm H}>$10$^{24}$ cm$^{-2}$) sources. These fractions of obscured sources are larger than those found in samples of isolated AGN, confirming that pairs of AGN show higher obscuration. This trend is further confirmed by comparing the de-reddened [O\\ III] emission with the observed X-ray luminosity. However, the derived fraction of Compton-thick sources in this sample at early stage of merging is lower than reported for late-merging dual-AGN samples. Comparing N$_{\\rm H}$ from X-rays with that derived from E(B-V) from Narrow Line Regions, we find that the absorbing material is likely associated with the torus or the Broad Line Regions. We also explored the X-ray detection efficiency of dual-AGN candidates, finding that, when observed properly (at on-axis positions and with long exposures), X-ray data represent a powerful way to confirm and investigate dual-AGN systems. |\n",
       "|<p style=\"color:green\"> **ERROR** </p>| <p style=\"color:green\">affiliation error: mpia.affiliation_verifications: 'Heidelberg' keyword not found.</p> |"
      ],
      "text/plain": [
       "<IPython.core.display.Markdown object>"
      ]
     },
     "metadata": {},
     "output_type": "display_data"
    },
    {
     "data": {
      "text/markdown": [
       "\n",
       "|||\n",
       "|---:|:---|\n",
       "| [![arXiv](https://img.shields.io/badge/arXiv-arXiv:2212.05873-b31b1b.svg)](https://arxiv.org/abs/arXiv:2212.05873) | **Circular Polarization in two Active Repeating Fast Radio Bursts**  |\n",
       "|| Yi Feng, et al. -- incl., <mark>Yong-Kun Zhang</mark>, <mark>Di Li</mark> |\n",
       "|*Appeared on*| *2022-12-13*|\n",
       "|*Comments*| *9pages, 3 figures, and 1 table, published in Science Bulletin*|\n",
       "|**Abstract**| Fast radio bursts (FRBs) are bright millisecond radio bursts at cosmological distances. Only a small fraction of FRBs apparently repeat. Polarization, a fundamental property of electromagnetic signals, often carries critical information about the radiation processes, the environment, and the intervening medium of FRBs. Here we report circular polarization detections of two active repeating FRBs, namely FRBs 20121102A and 20190520B, with the Five-hundred-meter Aperture Spherical radio Telescope. We detect circular polarization in both active repeating FRBs, which increases the number of repeating FRBs with circular polarization to three. In one of the bursts of FRB 20121102A, we detect 64% degree of circular polarization. The observed circular polarization is unlikely induced by multipath propagation. Our observations favor circular polarization induced by Faraday conversion or radiation mechanism intrinsic to the FRB source. The conditions to generate circular polarization have to be rare in either case. |\n",
       "|<p style=\"color:green\"> **ERROR** </p>| <p style=\"color:green\">affiliation error: mpia.affiliation_verifications: 'Heidelberg' keyword not found.</p> |"
      ],
      "text/plain": [
       "<IPython.core.display.Markdown object>"
      ]
     },
     "metadata": {},
     "output_type": "display_data"
    },
    {
     "data": {
      "text/markdown": [
       "\n",
       "|||\n",
       "|---:|:---|\n",
       "| [![arXiv](https://img.shields.io/badge/arXiv-arXiv:2212.05927-b31b1b.svg)](https://arxiv.org/abs/arXiv:2212.05927) | **Effects of Baryonic Feedback on the Cosmic Web**  |\n",
       "|| James Sunseri, <mark>Zack Li</mark>, <mark>Jia Liu</mark> |\n",
       "|*Appeared on*| *2022-12-13*|\n",
       "|*Comments*| *7 pages, 4 figures*|\n",
       "|**Abstract**| We study the effect of baryons on the cosmic web -- halos, filaments, walls, and voids. To do so, we apply a modified version of NEXUS, a cosmic web morphological analysis algorithm, to the IllustrisTNG simulations. We find that halos lose more than $10\\%$ of their mass due to baryons, mostly to filaments and a small portion to walls and voids. However, the mass transfer does not significantly shift the boundaries of structures, leaving the volume fractions of the cosmic structures largely unaffected. We quantify the effects of baryonic feedback on the power spectrum and the probability density function (PDF) of the density field for individual cosmic structures. For the power spectrum, most suppression due to feedback can be accounted for by including $M\\ge10^{12}~M_\\odot/h$ halos, without considering other cosmic structures. However, when examining the PDF of the density field, we find nearly $100\\%$ suppression of the emptiest regions and $10\\%$-level effects (boost or suppression) in the remaining regions of filaments, walls, and voids. Our results indicate the importance of modeling the effects of baryons in the whole cosmic web, not just halos, for cosmological analysis beyond two-point statistics or field-based inferences. |\n",
       "|<p style=\"color:green\"> **ERROR** </p>| <p style=\"color:green\">affiliation error: mpia.affiliation_verifications: 'Heidelberg' keyword not found.</p> |"
      ],
      "text/plain": [
       "<IPython.core.display.Markdown object>"
      ]
     },
     "metadata": {},
     "output_type": "display_data"
    },
    {
     "data": {
      "text/markdown": [
       "\n",
       "|||\n",
       "|---:|:---|\n",
       "| [![arXiv](https://img.shields.io/badge/arXiv-arXiv:2212.05981-b31b1b.svg)](https://arxiv.org/abs/arXiv:2212.05981) | **On the presence of metallofullerenes in fullerene-rich circumstellar  envelopes**  |\n",
       "|| R. Barzaga, et al. -- incl., <mark>D. A. Garcia-Hernandez</mark> |\n",
       "|*Appeared on*| *2022-12-13*|\n",
       "|*Comments*| *Accepted for publication in The Astrophysical Journal on 23 November 2022 (in press) (10 pages, 4 figures, and 1 tables)*|\n",
       "|**Abstract**| The presence of neutral C60 fullerenes in circumstellar environments has been firmly established by astronomical observations as well as laboratory experiments and quantum-chemistry calculations. However, the large variations observed in the C60 17.4um/18.9um band ratios indicate that either additional emitters should contribute to the astronomical IR spectra or there exist unknown physical processes besides thermal and UV excitation. Fullerene-based molecules such as metallofullerenes and fullerene-adducts are natural candidate species as potential additional emitters, but no specific species has been identified to date. Here we report a model based on quantum-chemistry calculations and IR spectra simulation of neutral and charged endo(exo)hedral metallofullerenes, showing that they have a significant contribution to the four strongest IR bands commonly attributed to neutral C60. These simulations may explain the large range of 17.4um/18.9um band ratios observed in very different fullerene-rich circumstellar environments like those around planetary nebulae and chemically peculiar R Coronae Borealis stars. Our proposed model also reveals that the 17.4um/18.9um band ratio in the metallofullerenes simulated IR spectra mainly depends on the metal abundances, ionization level, and endo/exo concentration in the circumstellar envelopes. We conclude that metallofullerenes are potential emitters contributing to the observed IR spectra in fullerene-rich circumstellar envelopes. Our simulated IR spectra indicate also that the James Webb Space Telescope has the potential to confirm or refute the presence of metallofullerenes (or even other fullerene-based species) in circumstellar enviroments. |\n",
       "|<p style=\"color:green\"> **ERROR** </p>| <p style=\"color:green\">affiliation error: mpia.affiliation_verifications: 'Heidelberg' keyword not found.</p> |"
      ],
      "text/plain": [
       "<IPython.core.display.Markdown object>"
      ]
     },
     "metadata": {},
     "output_type": "display_data"
    },
    {
     "data": {
      "text/markdown": [
       "\n",
       "|||\n",
       "|---:|:---|\n",
       "| [![arXiv](https://img.shields.io/badge/arXiv-arXiv:2212.05984-b31b1b.svg)](https://arxiv.org/abs/arXiv:2212.05984) | **The Dependence of Galaxy Properties on the Underlying 3D Matter Density  Field at 2.0<z<2.5**  |\n",
       "|| Rieko Momose, et al. -- incl., <mark>Khee-Gan Lee</mark> |\n",
       "|*Appeared on*| *2022-12-13*|\n",
       "|*Comments*| *21 pages, 11 figures, submitted to ApJ, comments welcome*|\n",
       "|**Abstract**| We study the environmental effect of galaxy evolution as a function of the underlying 3D dark matter density for the first time at $z=2-2.5$, in which the underlying matter density is reconstructed from galaxy and Ly$\\alpha$ forest spectroscopy through dynamical forward modeling techniques. Utilizing these maps, we investigate the dependence of the star formation activities and galaxy types (mergers, submillimeter galaxies, active galactic nuclei, and quiescent galaxies) on the matter overdensity $\\Delta$ and stellar mass. For the first time, we are able to probe underdense regions ($\\Delta <1$) in addition to overdensities. We find that star formation activity generally depend on the stellar mass, not the matter density, except for high-mass galaxies ($M_*\\geq10^{10.5}$ M$_\\odot$) which show a drop in star formation activities by a factor of more than $30$ if they reside in high density regions with $\\Delta\\geq4-6$. We also find: (1) an absence of mergers and submillimeter galaxies in higher-density regions but otherwise no trend across lower-density bins, (2) the increase of active galactic nuclei and quiescent galaxy prevalence as a function of matter density, and (3) the increase of all aforementioned categories with the stellar mass. These results indicate that mass is the main driver of galaxy evolution. Nonetheless, we also find evidence for environmental quenching, particularly for high-mass galaxies in high-density environments. Our novel approach directly using reconstructed dark matter density maps demonstrates the new capability of the environmental effect studies in galaxy evolution at higher redshift. |\n",
       "|<p style=\"color:green\"> **ERROR** </p>| <p style=\"color:green\">affiliation error: mpia.affiliation_verifications: 'Heidelberg' keyword not found.</p> |"
      ],
      "text/plain": [
       "<IPython.core.display.Markdown object>"
      ]
     },
     "metadata": {},
     "output_type": "display_data"
    },
    {
     "data": {
      "text/markdown": [
       "\n",
       "|||\n",
       "|---:|:---|\n",
       "| [![arXiv](https://img.shields.io/badge/arXiv-arXiv:2212.05985-b31b1b.svg)](https://arxiv.org/abs/arXiv:2212.05985) | **Interstellar Polarization Survey II: General Interstellar Medium**  |\n",
       "|| M. J. F. Versteeg, et al. -- incl., <mark>R. Santos-Lima</mark> |\n",
       "|*Appeared on*| *2022-12-13*|\n",
       "|*Comments*| *19 pages, 15 figures, accepted for publication in AJ*|\n",
       "|**Abstract**| Magnetic fields permeate the entire Galaxy and are essential to, for example, the regulation of several stages of the star formation process and cosmic ray transportation. Unraveling its properties, such as intensity and topology, is an observational challenge that requires combining different and complementary techniques. The polarization of starlight due to the absorption by field-aligned non-spherical dust grains provides a unique source of information about the interstellar magnetic field in the optical band. This work introduces a first analysis of a new catalog of optical observations of linearly polarized starlight in the diffuse interstellar medium (ISM), the Interstellar Polarization Survey, General ISM (IPS-GI). We used data from the IPS-GI, focusing on 38 fields sampling lines of sight in the diffuse medium. The fields are about 0.3$^{\\circ}$ by 0.3$^{\\circ}$ in size and each of them contains $\\sim1000$ stars on average. The IPS-GI catalog has polarimetric measurements of over 40000 stars, over 18000 of which have ${P}/\\sigma_{P} > 5$. We added distances and other parameters from auxiliary catalogs to over 36000 of these stars. We analyzed parameter distributions and correlations between parameters of a high-quality subsample of 10516 stars (i.e. $\\sim275$ stars per field). As expected, the degree of polarization tends to increase with the extinction, producing higher values of polarization at greater distances or at lower absolute Galactic latitudes. Furthermore, we find evidence for a large-scale ordered Galactic magnetic field. |\n",
       "|<p style=\"color:green\"> **ERROR** </p>| <p style=\"color:green\">affiliation error: mpia.affiliation_verifications: 'Heidelberg' keyword not found.</p> |"
      ],
      "text/plain": [
       "<IPython.core.display.Markdown object>"
      ]
     },
     "metadata": {},
     "output_type": "display_data"
    },
    {
     "data": {
      "text/markdown": [
       "\n",
       "|||\n",
       "|---:|:---|\n",
       "| [![arXiv](https://img.shields.io/badge/arXiv-arXiv:2212.06051-b31b1b.svg)](https://arxiv.org/abs/arXiv:2212.06051) | **Evidence for Populations-dependent vertical motions and the Long-lived  Non-Steady Lopsided Milky Way Warp**  |\n",
       "|| <mark>Xiang Li</mark>, et al. |\n",
       "|*Appeared on*| *2022-12-13*|\n",
       "|*Comments*| *15 pages, 13 figures. Accepted for publication in The Astrophysical Journal*|\n",
       "|**Abstract**| We present the Galactic disk vertical velocity analysis using OB type stars (OB), Red Clump stars (RC), and Main-Sequence-Turn-Off stars (MSTO) with different average age populations crossed matched with LAMOST DR5 and Gaia DR3. We reveal the vertical velocities of the three populations varies clearly with the Galactocentric distance ($R$) and the younger stellar population has stronger increasing trend in general. The bending and breathing modes indicated by the vertical motions are dependent on the populations and they are varying with spatial locations. These vertical motions may be due to the Galactic warp, or minor mergers, or non-equilibrium of the disk. Assuming the warp is the dominant component, we find that the warp amplitude ($\\gamma$, $Z_\\omega$) for OB (younger population) is larger than that for RC (medium population) and the later one is also larger than that for MSTO (older population), which is in agreement with other independent analyses of stellar density distribution, and supports the warp is long-lived, non-steady structure and has time evolution. This conclusion is robust whether or not the line-of-nodes $\\phi_w$ is fixed or as a free parameter (with $\\phi_w$ is around 3$-$8.5$^{\\circ}$ as best fit). Furthermore, we find that warp is lopsided with asymmetries along azimuthal angle ($\\phi$). |\n",
       "|<p style=\"color:green\"> **ERROR** </p>| <p style=\"color:green\">affiliation error: mpia.affiliation_verifications: 'Heidelberg' keyword not found.</p> |"
      ],
      "text/plain": [
       "<IPython.core.display.Markdown object>"
      ]
     },
     "metadata": {},
     "output_type": "display_data"
    },
    {
     "data": {
      "text/markdown": [
       "\n",
       "|||\n",
       "|---:|:---|\n",
       "| [![arXiv](https://img.shields.io/badge/arXiv-arXiv:2212.06058-b31b1b.svg)](https://arxiv.org/abs/arXiv:2212.06058) | **Striped Jets in Post Neutron Star Merger Systems**  |\n",
       "|| Emma Kaufman, et al. -- incl., <mark>I.M. Christie</mark> |\n",
       "|*Appeared on*| *2022-12-13*|\n",
       "|*Comments*| **|\n",
       "|**Abstract**| Models invoking magnetic reconnection as the particle acceleration mechanism within relativistic jets often adopt a gradual energy dissipation profile within the jet. However, such a profile has yet to be reproduced in first-principles simulations. Here, we perform a suite of 3D general relativistic magnetohydrodynamic simulations of post-neutron star merger disks with an initially purely toroidal magnetic field. We explore the variations in both the microphysics (e.g., nuclear recombination, neutrino emission) and system parameters (e.g., disk mass). In all our simulations, we find the formation of magnetically striped jets. The stripes result from the reversals in the poloidal magnetic flux polarity generated in the accretion disk. The simulations display large variations in the distributions of stripe duration, $\\tau$, and power, $\\langle P_{\\Phi} \\rangle$. We find that more massive disks produce more powerful stripes, the most powerful of which reaches $\\langle P_{\\Phi} \\rangle \\sim 10^{49}$~erg~s$^{-1}$ at $\\tau \\sim 20$~ms. The power and variability that result from the magnetic reconnection of the stripes agree with those inferred in short duration gamma-ray bursts. We find that the dissipation profile of the cumulative energy is roughly a power-law in both radial distance, $z$, and $\\tau$, with the slope in the range, $\\sim 1.7-3$; more massive disks display larger slopes. |\n",
       "|<p style=\"color:green\"> **ERROR** </p>| <p style=\"color:green\">affiliation error: mpia.affiliation_verifications: 'Heidelberg' keyword not found.</p> |"
      ],
      "text/plain": [
       "<IPython.core.display.Markdown object>"
      ]
     },
     "metadata": {},
     "output_type": "display_data"
    },
    {
     "data": {
      "text/markdown": [
       "\n",
       "|||\n",
       "|---:|:---|\n",
       "| [![arXiv](https://img.shields.io/badge/arXiv-arXiv:2212.05497-b31b1b.svg)](https://arxiv.org/abs/arXiv:2212.05497) | **Target Detection Framework for Lobster Eye X-Ray Telescopes with Machine  Learning Algorithms**  |\n",
       "|| Peng Jia, <mark>Wenbo Liu</mark>, <mark>Yuan Liu</mark>, Haiwu Pan |\n",
       "|*Appeared on*| *2022-12-13*|\n",
       "|*Comments*| *Accepted by the APJS Journal. Full source code could be downloaded from the China VO with DOI of this https URL Docker version of the code could be obtained under request to the corresponding author*|\n",
       "|**Abstract**| Lobster eye telescopes are ideal monitors to detect X-ray transients, because they could observe celestial objects over a wide field of view in X-ray band. However, images obtained by lobster eye telescopes are modified by their unique point spread functions, making it hard to design a high efficiency target detection algorithm. In this paper, we integrate several machine learning algorithms to build a target detection framework for data obtained by lobster eye telescopes. Our framework would firstly generate two 2D images with different pixel scales according to positions of photons on the detector. Then an algorithm based on morphological operations and two neural networks would be used to detect candidates of celestial objects with different flux from these 2D images. At last, a random forest algorithm will be used to pick up final detection results from candidates obtained by previous steps. Tested with simulated data of the Wide-field X-ray Telescope onboard the Einstein Probe, our detection framework could achieve over 94% purity and over 90% completeness for targets with flux more than 3 mCrab (9.6 * 10-11 erg/cm2/s) and more than 94% purity and moderate completeness for targets with lower flux at acceptable time cost. The framework proposed in this paper could be used as references for data processing methods developed for other lobster eye X-ray telescopes. |\n",
       "|<p style=\"color:red\"> **ERROR** </p>| <p style=\"color:red\">latex error not a gzip file</p> |"
      ],
      "text/plain": [
       "<IPython.core.display.Markdown object>"
      ]
     },
     "metadata": {},
     "output_type": "display_data"
    },
    {
     "data": {
      "text/markdown": [
       "\n",
       "|||\n",
       "|---:|:---|\n",
       "| [![arXiv](https://img.shields.io/badge/arXiv-arXiv:2212.05604-b31b1b.svg)](https://arxiv.org/abs/arXiv:2212.05604) | **For optical flickering in symbiotic star MWC 560**  |\n",
       "|| Dragomir Marchev, et al. -- incl., <mark>Nataliya Pavlova</mark> |\n",
       "|*Appeared on*| *2022-12-13*|\n",
       "|*Comments*| **|\n",
       "|**Abstract**| This study is based on observations of MWC560 during the last two observational seasons (2020/2021 and 2021/2022). Other than looking for flickering we were interested in following the variability of brightness in the same period. Looking for similarities in the spectra with other types of stars is also of great interest to us because it could help clarify the stellar configuration of such objects. Our observations during the last two observational seasons of MWC560 confirm the absence of flickering. From the similarities of the gathered spectra of XX Oph and MWC560 we assume that the components in XX Oph are a red giant and a white dwarf, which are also surrounded by a common shell. |\n",
       "|<p style=\"color:red\"> **ERROR** </p>| <p style=\"color:red\">latex error not a gzip file</p> |"
      ],
      "text/plain": [
       "<IPython.core.display.Markdown object>"
      ]
     },
     "metadata": {},
     "output_type": "display_data"
    }
   ],
   "source": [
    "import datetime\n",
    "today = str(datetime.date.today())\n",
    "logfile = f\"_build/html/logs/log-{today}.md\"\n",
    "\n",
    "\n",
    "with open(logfile, 'w') as logs:\n",
    "    # Success\n",
    "    logs.write(f'# Arxiv on Deck 2: Logs - {today}\\n\\n')\n",
    "    logs.write(\"\"\"* Arxiv had {0:,d} new papers\\n\"\"\".format(len(new_papers)))\n",
    "    logs.write(\"\"\"    * {0:,d} with possible author matches\\n\\n\"\"\".format(len(candidates)))\n",
    "    logs.write(\"## Sucessful papers\\n\\n\")\n",
    "    display(Markdown(\"## Successful papers\"))\n",
    "    success = [k[0] for k in documents]\n",
    "    for candid in candidates:\n",
    "        if candid['identifier'].split(':')[-1] in success:\n",
    "            display(candid)\n",
    "            logs.write(candid.generate_markdown_text() + '\\n\\n')\n",
    "\n",
    "    ## failed\n",
    "    logs.write(\"## Failed papers\\n\\n\")\n",
    "    display(Markdown(\"## Failed papers\"))\n",
    "    failed = sorted(failed, key=lambda x: x[1])\n",
    "    current_reason = \"\"\n",
    "    for paper, reason in failed:\n",
    "        if 'affiliation' in reason:\n",
    "            color = 'green'\n",
    "        else:\n",
    "            color = 'red'\n",
    "        data = Markdown(\n",
    "                paper.generate_markdown_text() + \n",
    "                f'\\n|<p style=\"color:{color:s}\"> **ERROR** </p>| <p style=\"color:{color:s}\">{reason:s}</p> |'\n",
    "               )\n",
    "        if reason != current_reason:\n",
    "            logs.write(f'### {reason:s} \\n\\n')\n",
    "            current_reason = reason\n",
    "        logs.write(data.data + '\\n\\n')\n",
    "        \n",
    "        # only display here the important errors (all in logs)\n",
    "        # if color in ('red',):\n",
    "        display(data)"
   ]
  },
  {
   "cell_type": "markdown",
   "id": "472d20ee",
   "metadata": {
    "papermill": {
     "duration": 0.012575,
     "end_time": "2022-12-13T04:09:27.138568",
     "exception": false,
     "start_time": "2022-12-13T04:09:27.125993",
     "status": "completed"
    },
    "tags": []
   },
   "source": [
    "## Export documents\n",
    "\n",
    "We now write the .md files and export relevant images"
   ]
  },
  {
   "cell_type": "code",
   "execution_count": 7,
   "id": "d426aed9",
   "metadata": {
    "execution": {
     "iopub.execute_input": "2022-12-13T04:09:27.165705Z",
     "iopub.status.busy": "2022-12-13T04:09:27.165153Z",
     "iopub.status.idle": "2022-12-13T04:09:27.172541Z",
     "shell.execute_reply": "2022-12-13T04:09:27.171866Z"
    },
    "papermill": {
     "duration": 0.022928,
     "end_time": "2022-12-13T04:09:27.174271",
     "exception": false,
     "start_time": "2022-12-13T04:09:27.151343",
     "status": "completed"
    },
    "tags": []
   },
   "outputs": [],
   "source": [
    "def export_markdown_summary(md: str, md_fname:str, directory: str):\n",
    "    \"\"\"Export MD document and associated relevant images\"\"\"\n",
    "    import os\n",
    "    import shutil\n",
    "    import re\n",
    "\n",
    "    if (os.path.exists(directory) and not os.path.isdir(directory)):\n",
    "        raise RuntimeError(f\"a non-directory file exists with name {directory:s}\")\n",
    "\n",
    "    if (not os.path.exists(directory)):\n",
    "        print(f\"creating directory {directory:s}\")\n",
    "        os.mkdir(directory)\n",
    "\n",
    "    fig_fnames = (re.compile(r'\\[Fig.*\\]\\((.*)\\)').findall(md) + \n",
    "                  re.compile(r'\\<img src=\"([^>\\s]*)\"[^>]*/>').findall(md))\n",
    "    for fname in fig_fnames:\n",
    "        if 'http' in fname:\n",
    "            # No need to copy online figures\n",
    "            continue\n",
    "        destdir = os.path.join(directory, os.path.dirname(fname))\n",
    "        destfname = os.path.join(destdir, os.path.basename(fname))\n",
    "        try:\n",
    "            os.makedirs(destdir)\n",
    "        except FileExistsError:\n",
    "            pass\n",
    "        shutil.copy(fname, destfname)\n",
    "    with open(os.path.join(directory, md_fname), 'w') as fout:\n",
    "        fout.write(md)\n",
    "    print(\"exported in \", os.path.join(directory, md_fname))\n",
    "    [print(\"    + \" + os.path.join(directory,fk)) for fk in fig_fnames]"
   ]
  },
  {
   "cell_type": "code",
   "execution_count": 8,
   "id": "014d04a4",
   "metadata": {
    "execution": {
     "iopub.execute_input": "2022-12-13T04:09:27.201150Z",
     "iopub.status.busy": "2022-12-13T04:09:27.200648Z",
     "iopub.status.idle": "2022-12-13T04:09:27.204034Z",
     "shell.execute_reply": "2022-12-13T04:09:27.203522Z"
    },
    "papermill": {
     "duration": 0.018591,
     "end_time": "2022-12-13T04:09:27.205614",
     "exception": false,
     "start_time": "2022-12-13T04:09:27.187023",
     "status": "completed"
    },
    "tags": []
   },
   "outputs": [],
   "source": [
    "for paper_id, md in documents:\n",
    "    export_markdown_summary(md, f\"{paper_id:s}.md\", '_build/html/')"
   ]
  },
  {
   "cell_type": "markdown",
   "id": "f087a0a7",
   "metadata": {
    "papermill": {
     "duration": 0.012705,
     "end_time": "2022-12-13T04:09:27.231046",
     "exception": false,
     "start_time": "2022-12-13T04:09:27.218341",
     "status": "completed"
    },
    "tags": []
   },
   "source": [
    "## Display the papers\n",
    "\n",
    "Not necessary but allows for a quick check."
   ]
  },
  {
   "cell_type": "code",
   "execution_count": 9,
   "id": "fd25f625",
   "metadata": {
    "execution": {
     "iopub.execute_input": "2022-12-13T04:09:27.258214Z",
     "iopub.status.busy": "2022-12-13T04:09:27.257719Z",
     "iopub.status.idle": "2022-12-13T04:09:27.261141Z",
     "shell.execute_reply": "2022-12-13T04:09:27.260666Z"
    },
    "papermill": {
     "duration": 0.018778,
     "end_time": "2022-12-13T04:09:27.262509",
     "exception": false,
     "start_time": "2022-12-13T04:09:27.243731",
     "status": "completed"
    },
    "scrolled": false,
    "tags": []
   },
   "outputs": [],
   "source": [
    "[display(Markdown(k[1])) for k in documents];"
   ]
  },
  {
   "cell_type": "markdown",
   "id": "873873a4",
   "metadata": {
    "papermill": {
     "duration": 0.012731,
     "end_time": "2022-12-13T04:09:27.288161",
     "exception": false,
     "start_time": "2022-12-13T04:09:27.275430",
     "status": "completed"
    },
    "tags": []
   },
   "source": [
    "# Create HTML index"
   ]
  },
  {
   "cell_type": "code",
   "execution_count": 10,
   "id": "cf665672",
   "metadata": {
    "execution": {
     "iopub.execute_input": "2022-12-13T04:09:27.345158Z",
     "iopub.status.busy": "2022-12-13T04:09:27.344618Z",
     "iopub.status.idle": "2022-12-13T04:09:27.354794Z",
     "shell.execute_reply": "2022-12-13T04:09:27.354063Z"
    },
    "papermill": {
     "duration": 0.025571,
     "end_time": "2022-12-13T04:09:27.356332",
     "exception": false,
     "start_time": "2022-12-13T04:09:27.330761",
     "status": "completed"
    },
    "tags": []
   },
   "outputs": [
    {
     "name": "stdout",
     "output_type": "stream",
     "text": [
      "131  publications in the last 7 days.\n",
      "\t _build/html/2212.04710.md\n",
      "\t _build/html/2212.04026.md\n",
      "\t _build/html/2212.03563.md\n",
      "\t _build/html/2212.03514.md\n",
      "\t _build/html/2212.02667.md\n",
      "\t _build/html/2212.02627.md\n",
      "\t _build/html/2212.02235.md\n",
      "\t _build/html/2212.01707.md\n",
      "\t _build/html/2212.01526.md\n",
      "\t _build/html/2212.01397.md\n",
      "\t _build/html/2212.01291.md\n",
      "\t _build/html/2212.01281.md\n",
      "\t _build/html/2212.00812.md\n",
      "\t _build/html/2212.00811.md\n",
      "\t _build/html/2212.00806.md\n",
      "\t _build/html/2212.00047.md\n",
      "\t _build/html/2212.00032.md\n",
      "\t _build/html/2211.16996.md\n",
      "\t _build/html/2211.16510.md\n",
      "\t _build/html/2211.16123.md\n",
      "\t _build/html/2211.15816.md\n",
      "\t _build/html/2211.15698.md\n",
      "\t _build/html/2211.15576.md\n",
      "\t _build/html/2211.15434.md\n",
      "\t _build/html/2211.15288.md\n",
      "\t _build/html/2211.15224.md\n",
      "\t _build/html/2211.14543.md\n",
      "\t _build/html/2211.14330.md\n",
      "\t _build/html/2211.14322.md\n",
      "\t _build/html/2211.14132.md\n",
      "\t _build/html/2211.13811.md\n",
      "\t _build/html/2211.13426.md\n",
      "\t _build/html/2211.13318.md\n",
      "\t _build/html/2211.13146.md\n",
      "\t _build/html/2211.12613.md\n",
      "\t _build/html/2211.11767.md\n",
      "\t _build/html/2211.09840.md\n",
      "\t _build/html/2211.09217.md\n",
      "\t _build/html/2211.08493.md\n",
      "\t _build/html/2211.08487.md\n",
      "\t _build/html/2211.08294.md\n",
      "\t _build/html/2211.07667.md\n",
      "\t _build/html/2211.07659.md\n",
      "\t _build/html/2211.06454.md\n",
      "\t _build/html/2211.06205.md\n",
      "\t _build/html/2211.06194.md\n",
      "\t _build/html/2211.05022.md\n",
      "\t _build/html/2211.04048.md\n",
      "\t _build/html/2211.03641.md\n",
      "\t _build/html/2211.02502.md\n",
      "\t _build/html/2211.01474.md\n",
      "\t _build/html/2211.00667.md\n",
      "\t _build/html/2211.00657.md\n",
      "\t _build/html/2211.00087.md\n",
      "\t _build/html/2211.00036.md\n",
      "\t _build/html/2211.00020.md\n",
      "\t _build/html/2211.00010.md\n",
      "\t _build/html/2210.17434.md\n",
      "\t _build/html/2210.12412.md\n",
      "\t _build/html/2210.11926.md\n",
      "\t _build/html/2210.11551.md\n",
      "\t _build/html/2210.11103.md\n",
      "\t _build/html/2210.10707.md\n",
      "\t _build/html/2210.09930.md\n",
      "\t _build/html/2210.08996.md\n",
      "\t _build/html/2210.08517.md\n",
      "\t _build/html/2210.08510.md\n",
      "\t _build/html/2210.08078.md\n",
      "\t _build/html/2210.06504.md\n",
      "\t _build/html/2210.05695.md\n",
      "\t _build/html/2210.05595.md\n",
      "\t _build/html/2210.05505.md\n",
      "\t _build/html/2210.04721.md\n",
      "\t _build/html/2210.03615.md\n",
      "\t _build/html/2210.01811.md\n",
      "\t _build/html/2210.01809.md\n",
      "\t _build/html/2210.01556.md\n",
      "\t _build/html/2210.00863.md\n",
      "\t _build/html/2210.00560.md\n",
      "\t _build/html/2209.15403.md\n",
      "\t _build/html/2209.15110.md\n",
      "\t _build/html/2209.14410.md\n",
      "\t _build/html/2209.14396.md\n",
      "\t _build/html/2209.13717.md\n",
      "\t _build/html/2209.13336.md\n",
      "\t _build/html/2209.12906.md\n",
      "\t _build/html/2209.11781.md\n",
      "\t _build/html/2209.11602.md\n",
      "\t _build/html/2209.11248.md\n",
      "\t _build/html/2209.11096.md\n",
      "\t _build/html/2209.10618.md\n",
      "\t _build/html/2209.09914.md\n",
      "\t _build/html/2209.09823.md\n",
      "\t _build/html/2209.08242.md\n",
      "\t _build/html/2209.08120.md\n",
      "\t _build/html/2209.08106.md\n",
      "\t _build/html/2209.07962.md\n",
      "\t _build/html/2209.07931.md\n",
      "\t _build/html/2209.06833.md\n",
      "\t _build/html/2209.05814.md\n",
      "\t _build/html/2209.05593.md\n",
      "\t _build/html/2209.04304.md\n",
      "\t _build/html/2209.03367.md\n",
      "\t _build/html/2209.02872.md\n",
      "\t _build/html/2209.02725.md\n",
      "\t _build/html/2209.02722.md\n",
      "\t _build/html/2209.02092.md\n",
      "\t _build/html/2209.01125.md\n",
      "\t _build/html/2209.00828.md\n",
      "\t _build/html/2209.00363.md\n",
      "\t _build/html/2208.14927.md\n",
      "\t _build/html/2208.09335.md\n",
      "\t _build/html/2208.08872.md\n",
      "\t _build/html/2204.06393.md\n",
      "\t _build/html/2204.03335.md\n",
      "\t _build/html/2204.03253.md\n",
      "\t _build/html/2204.02998.md\n",
      "\t _build/html/2204.02109.md\n",
      "\t _build/html/2204.02017.md\n",
      "\t _build/html/2204.01824.md\n",
      "\t _build/html/2204.01758.md\n",
      "\t _build/html/2204.01245.md\n",
      "\t _build/html/2204.00793.md\n",
      "\t _build/html/2204.00342.md\n",
      "\t _build/html/2203.16959.md\n",
      "\t _build/html/2203.16856.md\n",
      "\t _build/html/2203.16735.md\n",
      "\t _build/html/2203.16734.md\n",
      "\t _build/html/2203.16504.md\n",
      "\t _build/html/2203.15822.md\n",
      "\t _build/html/2203.15811.md\n"
     ]
    }
   ],
   "source": [
    "from datetime import datetime, timedelta, timezone\n",
    "from glob import glob\n",
    "\n",
    "files = glob('_build/html/*.md')\n",
    "days = 7\n",
    "now = datetime.today()\n",
    "res = []\n",
    "for fk in files:\n",
    "    stat_result = os.stat(fk).st_ctime\n",
    "    modified = datetime.fromtimestamp(stat_result, tz=timezone.utc).replace(tzinfo=None)\n",
    "    delta = now.today() - modified\n",
    "    if delta <= timedelta(days=days):\n",
    "        res.append((delta.seconds, fk))\n",
    "res = [k[1] for k in reversed(sorted(res, key=lambda x:x[1]))]\n",
    "npub = len(res)\n",
    "print(len(res), f\" publications in the last {days:d} days.\")\n",
    "[ print('\\t', k) for k in res ];"
   ]
  },
  {
   "cell_type": "code",
   "execution_count": 11,
   "id": "52ca0208",
   "metadata": {
    "execution": {
     "iopub.execute_input": "2022-12-13T04:09:27.390827Z",
     "iopub.status.busy": "2022-12-13T04:09:27.387272Z",
     "iopub.status.idle": "2022-12-13T04:09:27.403601Z",
     "shell.execute_reply": "2022-12-13T04:09:27.402824Z"
    },
    "papermill": {
     "duration": 0.036034,
     "end_time": "2022-12-13T04:09:27.405322",
     "exception": false,
     "start_time": "2022-12-13T04:09:27.369288",
     "status": "completed"
    },
    "scrolled": false,
    "tags": []
   },
   "outputs": [],
   "source": [
    "def create_carousel(npub=4):\n",
    "    \"\"\" Generate the HTML code for a carousel with `npub` slides \"\"\"\n",
    "    carousel = [\"\"\"<section class=\"carousel\" aria-label=\"Gallery\">\"\"\",\n",
    "                \"\"\"  <ol class=\"carousel__viewport\">\"\"\",\n",
    "    ]\n",
    "    for k in range(1, npub + 1):\n",
    "        prev_ = k - 1\n",
    "        next_ = k + 1\n",
    "        if prev_ <= 0:\n",
    "            prev_ = npub\n",
    "        if next_ > npub:\n",
    "            next_ = 1\n",
    "        text  = f\"\"\"    <li id=\"carousel__slide{k}\" tabindex=\"0\" class=\"carousel__slide\">\\n\"\"\"\n",
    "        text += f\"\"\"       <div class=\"carousel__snapper\">\\n\"\"\"\n",
    "        text += f\"\"\"         <a href=\"#carousel__slide{prev_}\" class=\"carousel__prev\">Go to previous slide</a>\\n\"\"\"\n",
    "        text += f\"\"\"         <a href=\"#carousel__slide{next_}\" class=\"carousel__next\">Go to next slide</a>\\n\"\"\"\n",
    "        text += f\"\"\"         <div id=\"slide{k}_content\" class=\"md_view\" >Content {k}</div>\\n\"\"\"\n",
    "        text += f\"\"\"       </div>\\n\"\"\"\n",
    "        text += f\"\"\"    </li>\"\"\"\n",
    "        carousel.append(text)\n",
    "\n",
    "    carousel.extend([\n",
    "        \"\"\"  </ol>\"\"\",\n",
    "        \"\"\"  <aside class=\"carousel__navigation\">\"\"\",\n",
    "        \"\"\"    <ol class=\"carousel__navigation-list\">\"\"\"])\n",
    "\n",
    "    for k in range(1, npub + 1):\n",
    "        text  = f\"\"\"      <li class=\"carousel__navigation-item\">\\n\"\"\"\n",
    "        text += f\"\"\"        <a href=\"#carousel__slide{k}\" class=\"carousel__navigation-button\">Go to {k}</a>\\n\"\"\"\n",
    "        text += f\"\"\"      </li>\"\"\"\n",
    "        carousel.append(text)\n",
    "    carousel.extend([\"\"\"    </ol>\"\"\", \"\"\"  </aside>\"\"\", \"\"\"</section>\"\"\"])\n",
    "\n",
    "    return '\\n'.join(carousel)"
   ]
  },
  {
   "cell_type": "code",
   "execution_count": 12,
   "id": "a6eac5b6",
   "metadata": {
    "execution": {
     "iopub.execute_input": "2022-12-13T04:09:27.433575Z",
     "iopub.status.busy": "2022-12-13T04:09:27.432931Z",
     "iopub.status.idle": "2022-12-13T04:09:27.439669Z",
     "shell.execute_reply": "2022-12-13T04:09:27.439137Z"
    },
    "papermill": {
     "duration": 0.022308,
     "end_time": "2022-12-13T04:09:27.441028",
     "exception": false,
     "start_time": "2022-12-13T04:09:27.418720",
     "status": "completed"
    },
    "scrolled": false,
    "tags": []
   },
   "outputs": [],
   "source": [
    "carousel = create_carousel(npub)\n",
    "docs = ', '.join(['\"{0:s}\"'.format(k.split('/')[-1]) for k in res])\n",
    "slides = ', '.join([f'\"slide{k}_content\"' for k in range(1, npub + 1)])\n",
    "\n",
    "script = f\"\"\"\n",
    "const docs = [{docs}]\n",
    "\n",
    "const slides = [{slides}]\n",
    "\"\"\" + \"\"\"\n",
    "async function run() {\n",
    "    for (let i = 0; i < docs.length; i++) {\n",
    "        let file = await fetch(docs[i]);\n",
    "        let text = await file.text()\n",
    "        document.getElementById(slides[i]).innerHTML =\n",
    "            marked.parse(text);\n",
    "    }\n",
    "    hljs.highlightAll();\n",
    "}\n",
    "run()\n",
    "\"\"\"\n",
    "\n",
    "page = f\"\"\"<!doctype html>\n",
    "<html lang=\"en\">\n",
    "\n",
    "<head>\n",
    "  <meta charset=\"utf-8\">\n",
    "  <meta name=\"viewport\" content=\"width=device-width, initial-scale=1\">\n",
    "  <!-- Bootstrap CSS -->\n",
    "  <link href=\"https://cdn.jsdelivr.net/npm/bootstrap@5.0.2/dist/css/bootstrap.min.css\" rel=\"stylesheet\"\n",
    "   integrity=\"sha384-EVSTQN3/azprG1Anm3QDgpJLIm9Nao0Yz1ztcQTwFspd3yD65VohhpuuCOmLASjC\" crossorigin=\"anonymous\">\n",
    "  <!-- highlight.js CSS -->\n",
    "  <link rel=\"stylesheet\" href=\"https://cdnjs.cloudflare.com/ajax/libs/highlight.js/11.1.0/styles/default.min.css\">\n",
    "  <!-- Mathjax 3 -->\n",
    "  <script type=\"text/javascript\" id=\"MathJax-config\" src=\"mathjax_config.js\"> </script>\n",
    "  <script type=\"text/javascript\" id=\"MathJax-script\" async \n",
    "    src=\"https://cdn.jsdelivr.net/npm/mathjax@3/es5/tex-mml-chtml.js\">\n",
    "  </script>\n",
    "  <link rel=\"stylesheet\" href=\"index_carousel.css\">\n",
    "  <link rel=\"icon\" type=\"image/x-icon\" href=\"https://www.mpia.de/assets/touch-icon-32x32-a66937bcebc4e8894ebff1f41a366c7c7220fd97a38869ee0f2db65a9f59b6c1.png\">\n",
    "  <title>MPIA Arxiv on deck!</title>\n",
    "</head>\n",
    "\n",
    "<body>\n",
    "  <div id=\"header\"> <img src=\"header_banner.png\" width=\"100%\"></div>\n",
    "  <div id=\"suptitle\"> 7-day archives </div>\n",
    "  <div id=\"info\">\n",
    "    <img src=\"https://pngimg.com/uploads/github/github_PNG58.png\" height=30rem></img>\n",
    "    <a href=https://github.com/mpi-astronomy/arxiv_display style=\"color:black;\">github/mpi-astronomy/arxiv_display</a> \n",
    "  </div>\n",
    "  {carousel:s}\n",
    "</body>\n",
    "\n",
    "<!-- Render Markdown -->\n",
    "\n",
    "<body>\n",
    "  <!-- highlight.js: https://highlightjs.org/download/ -->\n",
    "  <script src=\"https://cdnjs.cloudflare.com/ajax/libs/highlight.js/11.5.0/highlight.min.js\"></script>\n",
    "  <!-- marked.js -->\n",
    "  <script src=\"https://cdn.jsdelivr.net/npm/marked/marked.min.js\"></script>\n",
    "  <script>{script:s}</script>\n",
    "</body>\n",
    "</html>\n",
    "\"\"\"\n",
    "with open(\"_build/html/index_7days.html\", 'w') as fout:\n",
    "    fout.write(page)"
   ]
  },
  {
   "cell_type": "markdown",
   "id": "1cebacbc",
   "metadata": {
    "papermill": {
     "duration": 0.013047,
     "end_time": "2022-12-13T04:09:27.467081",
     "exception": false,
     "start_time": "2022-12-13T04:09:27.454034",
     "status": "completed"
    },
    "tags": []
   },
   "source": [
    "# Debugging papers"
   ]
  },
  {
   "cell_type": "raw",
   "id": "debe7cc6",
   "metadata": {
    "papermill": {
     "duration": 0.012894,
     "end_time": "2022-12-13T04:09:27.492998",
     "exception": false,
     "start_time": "2022-12-13T04:09:27.480104",
     "status": "completed"
    },
    "tags": []
   },
   "source": [
    "raise NotImplementedError(\"Manual Stop\")"
   ]
  },
  {
   "cell_type": "raw",
   "id": "eb169192",
   "metadata": {
    "papermill": {
     "duration": 0.012931,
     "end_time": "2022-12-13T04:09:27.518830",
     "exception": false,
     "start_time": "2022-12-13T04:09:27.505899",
     "status": "completed"
    },
    "scrolled": true,
    "tags": []
   },
   "source": [
    "from IPython.display import display, Markdown\n",
    "from TexSoup import TexSoup\n",
    "import re\n",
    "\n",
    "def bracket_error(source: str):\n",
    "    \"\"\" Find problematic portions of the document \"\"\"\n",
    "    \n",
    "    print(\"len(source)\", len(source))\n",
    "    \n",
    "    # Checking header\n",
    "    begin_doc = next(re.finditer(r'\\\\begin\\{document\\}', doc.source)).span()[1]\n",
    "    header = source[:begin_doc]\n",
    "    text = header + r\"\\n\\end{document}\"\n",
    "\n",
    "    try:\n",
    "        # print(\"Header check... \", end='')\n",
    "        TexSoup(text)\n",
    "        display(Markdown(f\"**[OK]** - Header\"))\n",
    "    except:\n",
    "        raise RuntimeError(\"Error in the header\")\n",
    "        \n",
    "    # Check the text per section until the end.\n",
    "    # Do not stop and try them all.\n",
    "    \n",
    "    problematic_text = []\n",
    "    \n",
    "    sections = ([(0, begin_doc, 'until first section')] + \n",
    "                [(g.span()[0], g.span()[1], g.group()) for g in re.finditer(r'\\\\section\\{.*\\}', source)] +\n",
    "                [(g.span()[0], g.span()[1], g.group()) for g in re.finditer(r'\\\\begin\\{appendix\\}', source)]\n",
    "               )\n",
    "    sections.append([len(source), len(source), 'end'])\n",
    "    \n",
    "    sections = sorted(sections, key=lambda x: x[0])\n",
    "    \n",
    "    prev_pos, prev_name = (0, 'header')\n",
    "    parsed = []\n",
    "    \n",
    "    for span, span_end, name in sections:\n",
    "\n",
    "        if span - prev_pos <= 0:\n",
    "            continue\n",
    "            \n",
    "\n",
    "        text = source[prev_pos:span]\n",
    "        if prev_pos > begin_doc:\n",
    "            text = r\"\\n\\begin{document}\" + text + r\"\\n\\end{document}\"\n",
    "        else:\n",
    "            text = text + r\"\\n\\end{document}\"\n",
    "        try:\n",
    "            #print(f\"{prev_pos}:{prev_name}-->{span}:{name} check... \", end='')\n",
    "            parsed.append(TexSoup(text, tolerance=1))  # allow not ending env\n",
    "            display(Markdown(f\"**[OK]** - *{prev_pos}*:{prev_name} &rarr; *{span}*:{name}\"))\n",
    "            # print(\"ok\")\n",
    "\n",
    "            prev_pos = span\n",
    "            prev_name = name\n",
    "        except:\n",
    "            # print(f\"error between {prev_pos} and {span}\")\n",
    "            display(Markdown(f\"**[ERR]** *{prev_pos}*:{prev_name} &rarr; *{span}*:{name}\"))\n",
    "            problematic_text.append((prev_pos, source[prev_pos:span]))\n",
    "            prev_pos = span\n",
    "            prev_name = name\n",
    "            # raise\n",
    "    return problematic_text, parsed\n",
    "\n",
    "\n",
    "def check_environment(text, offset=0):\n",
    "    \"\"\" Check environment \"\"\"\n",
    "    env = re.compile(r\"\\\\begin\\{(?P<env>.*)\\}(.*)\\\\end\\{(?P=env)\\}\", re.DOTALL)\n",
    "\n",
    "    for match in env.finditer(text):\n",
    "        beg, end = match.span()\n",
    "        beg += offset\n",
    "        end += offset\n",
    "        envname = match.groups()[0]\n",
    "        try:\n",
    "            latex.TexSoup(match.group())\n",
    "        except Exception as e:\n",
    "            display(e)\n",
    "            print(f\"Error in {envname:s} between {beg} and {end}\")\n",
    "            return match.groups()[1], beg, end"
   ]
  },
  {
   "cell_type": "raw",
   "id": "2315e835",
   "metadata": {
    "papermill": {
     "duration": 0.012792,
     "end_time": "2022-12-13T04:09:27.544674",
     "exception": false,
     "start_time": "2022-12-13T04:09:27.531882",
     "status": "completed"
    },
    "scrolled": false,
    "tags": []
   },
   "source": [
    "import importlib\n",
    "importlib.reload(latex)\n",
    "which = \"2204.03253\"\n",
    "paper_id = f'{which:s}'\n",
    "folder = f'tmp_{paper_id:s}'\n",
    "\n",
    "if not os.path.isdir(folder):\n",
    "    folder = retrieve_document_source(f\"{paper_id}\", f'tmp_{paper_id}')\n",
    "\n",
    "try:\n",
    "    doc = latex.LatexDocument(folder, validation=validation)    \n",
    "except AffiliationError as affilerror:\n",
    "    msg = f\"ArXiv:{paper_id:s} is not an MPIA paper... \" + str(affilerror)\n",
    "    print(msg)\n",
    "\n",
    "\n",
    "# Hack because sometimes author parsing does not work well\n",
    "if (len(doc.authors) != len(paper['authors'])):\n",
    "    doc._authors = paper['authors']\n",
    "if (doc.abstract) in (None, ''):\n",
    "    doc._abstract = paper['abstract']\n",
    "\n",
    "doc.comment = get_markdown_badge(paper_id) + \" _\" + paper['comments'] + \"_\"\n",
    "doc.highlight_authors_in_list(hl_list)\n",
    "\n",
    "full_md = doc.generate_markdown_text()"
   ]
  },
  {
   "cell_type": "raw",
   "id": "dd3781db",
   "metadata": {
    "papermill": {
     "duration": 0.012871,
     "end_time": "2022-12-13T04:09:27.570466",
     "exception": false,
     "start_time": "2022-12-13T04:09:27.557595",
     "status": "completed"
    },
    "scrolled": false,
    "tags": []
   },
   "source": [
    "doc"
   ]
  },
  {
   "cell_type": "raw",
   "id": "c6eed834",
   "metadata": {
    "papermill": {
     "duration": 0.012796,
     "end_time": "2022-12-13T04:09:27.596170",
     "exception": false,
     "start_time": "2022-12-13T04:09:27.583374",
     "status": "completed"
    },
    "tags": []
   },
   "source": [
    "# [check_environment(k) for k in bracket_error(doc.source)]\n",
    "_, _, a = latex.get_content_per_section(doc.source, verbose=True)\n",
    "if not a:\n",
    "    print(\"no issues per section\")\n",
    "for ak in a:\n",
    "    r = check_environment(ak[1], offset=ak[0])\n",
    "    print(r[1], r[2])\n",
    "    print(r[0])"
   ]
  },
  {
   "cell_type": "code",
   "execution_count": null,
   "id": "71ce768a",
   "metadata": {
    "papermill": {
     "duration": 0.012817,
     "end_time": "2022-12-13T04:09:27.621888",
     "exception": false,
     "start_time": "2022-12-13T04:09:27.609071",
     "status": "completed"
    },
    "tags": []
   },
   "outputs": [],
   "source": []
  }
 ],
 "metadata": {
  "kernelspec": {
   "display_name": "Python 3.10.6 64-bit",
   "language": "python",
   "name": "python3"
  },
  "language_info": {
   "codemirror_mode": {
    "name": "ipython",
    "version": 3
   },
   "file_extension": ".py",
   "mimetype": "text/x-python",
   "name": "python",
   "nbconvert_exporter": "python",
   "pygments_lexer": "ipython3",
   "version": "3.9.15"
  },
  "papermill": {
   "default_parameters": {},
   "duration": 111.373876,
   "end_time": "2022-12-13T04:09:27.851995",
   "environment_variables": {},
   "exception": null,
   "input_path": "MPIA daily digest.ipynb",
   "output_path": "log.ipynb",
   "parameters": {},
   "start_time": "2022-12-13T04:07:36.478119",
   "version": "2.4.0"
  },
  "vscode": {
   "interpreter": {
    "hash": "e7370f93d1d0cde622a1f8e1c04877d8463912d04d973331ad4851f04de6915a"
   }
  },
  "widgets": {
   "application/vnd.jupyter.widget-state+json": {
    "state": {
     "0cd8b550c1614a55897be45830c73454": {
      "model_module": "@jupyter-widgets/base",
      "model_module_version": "2.0.0",
      "model_name": "LayoutModel",
      "state": {
       "_model_module": "@jupyter-widgets/base",
       "_model_module_version": "2.0.0",
       "_model_name": "LayoutModel",
       "_view_count": null,
       "_view_module": "@jupyter-widgets/base",
       "_view_module_version": "2.0.0",
       "_view_name": "LayoutView",
       "align_content": null,
       "align_items": null,
       "align_self": null,
       "border_bottom": null,
       "border_left": null,
       "border_right": null,
       "border_top": null,
       "bottom": null,
       "display": null,
       "flex": null,
       "flex_flow": null,
       "grid_area": null,
       "grid_auto_columns": null,
       "grid_auto_flow": null,
       "grid_auto_rows": null,
       "grid_column": null,
       "grid_gap": null,
       "grid_row": null,
       "grid_template_areas": null,
       "grid_template_columns": null,
       "grid_template_rows": null,
       "height": null,
       "justify_content": null,
       "justify_items": null,
       "left": null,
       "margin": null,
       "max_height": null,
       "max_width": null,
       "min_height": null,
       "min_width": null,
       "object_fit": null,
       "object_position": null,
       "order": null,
       "overflow": null,
       "padding": null,
       "right": null,
       "top": null,
       "visibility": null,
       "width": null
      }
     },
     "1338f71cd55949f0917bdeec6aaf906a": {
      "model_module": "@jupyter-widgets/controls",
      "model_module_version": "2.0.0",
      "model_name": "HTMLStyleModel",
      "state": {
       "_model_module": "@jupyter-widgets/controls",
       "_model_module_version": "2.0.0",
       "_model_name": "HTMLStyleModel",
       "_view_count": null,
       "_view_module": "@jupyter-widgets/base",
       "_view_module_version": "2.0.0",
       "_view_name": "StyleView",
       "background": null,
       "description_width": "",
       "font_size": null,
       "text_color": null
      }
     },
     "1d66216b57f44ac28769ceba8e48e011": {
      "model_module": "@jupyter-widgets/controls",
      "model_module_version": "2.0.0",
      "model_name": "HTMLStyleModel",
      "state": {
       "_model_module": "@jupyter-widgets/controls",
       "_model_module_version": "2.0.0",
       "_model_name": "HTMLStyleModel",
       "_view_count": null,
       "_view_module": "@jupyter-widgets/base",
       "_view_module_version": "2.0.0",
       "_view_name": "StyleView",
       "background": null,
       "description_width": "",
       "font_size": null,
       "text_color": null
      }
     },
     "4538772609004fe2aa513ee80bbffa75": {
      "model_module": "@jupyter-widgets/base",
      "model_module_version": "2.0.0",
      "model_name": "LayoutModel",
      "state": {
       "_model_module": "@jupyter-widgets/base",
       "_model_module_version": "2.0.0",
       "_model_name": "LayoutModel",
       "_view_count": null,
       "_view_module": "@jupyter-widgets/base",
       "_view_module_version": "2.0.0",
       "_view_name": "LayoutView",
       "align_content": null,
       "align_items": null,
       "align_self": null,
       "border_bottom": null,
       "border_left": null,
       "border_right": null,
       "border_top": null,
       "bottom": null,
       "display": null,
       "flex": null,
       "flex_flow": null,
       "grid_area": null,
       "grid_auto_columns": null,
       "grid_auto_flow": null,
       "grid_auto_rows": null,
       "grid_column": null,
       "grid_gap": null,
       "grid_row": null,
       "grid_template_areas": null,
       "grid_template_columns": null,
       "grid_template_rows": null,
       "height": null,
       "justify_content": null,
       "justify_items": null,
       "left": null,
       "margin": null,
       "max_height": null,
       "max_width": null,
       "min_height": null,
       "min_width": null,
       "object_fit": null,
       "object_position": null,
       "order": null,
       "overflow": null,
       "padding": null,
       "right": null,
       "top": null,
       "visibility": null,
       "width": null
      }
     },
     "489a77a5dc9d49f8babeb15689bd5ffb": {
      "model_module": "@jupyter-widgets/controls",
      "model_module_version": "2.0.0",
      "model_name": "HTMLModel",
      "state": {
       "_dom_classes": [],
       "_model_module": "@jupyter-widgets/controls",
       "_model_module_version": "2.0.0",
       "_model_name": "HTMLModel",
       "_view_count": null,
       "_view_module": "@jupyter-widgets/controls",
       "_view_module_version": "2.0.0",
       "_view_name": "HTMLView",
       "description": "",
       "description_allow_html": false,
       "layout": "IPY_MODEL_4538772609004fe2aa513ee80bbffa75",
       "placeholder": "​",
       "style": "IPY_MODEL_ba330ad8c325427f88381f0e7674dd3e",
       "tabbable": null,
       "tooltip": null,
       "value": ""
      }
     },
     "61db556589ee45b0b4f158f5eeb1eaf3": {
      "model_module": "@jupyter-widgets/base",
      "model_module_version": "2.0.0",
      "model_name": "LayoutModel",
      "state": {
       "_model_module": "@jupyter-widgets/base",
       "_model_module_version": "2.0.0",
       "_model_name": "LayoutModel",
       "_view_count": null,
       "_view_module": "@jupyter-widgets/base",
       "_view_module_version": "2.0.0",
       "_view_name": "LayoutView",
       "align_content": null,
       "align_items": null,
       "align_self": null,
       "border_bottom": null,
       "border_left": null,
       "border_right": null,
       "border_top": null,
       "bottom": null,
       "display": null,
       "flex": null,
       "flex_flow": null,
       "grid_area": null,
       "grid_auto_columns": null,
       "grid_auto_flow": null,
       "grid_auto_rows": null,
       "grid_column": null,
       "grid_gap": null,
       "grid_row": null,
       "grid_template_areas": null,
       "grid_template_columns": null,
       "grid_template_rows": null,
       "height": null,
       "justify_content": null,
       "justify_items": null,
       "left": null,
       "margin": null,
       "max_height": null,
       "max_width": null,
       "min_height": null,
       "min_width": null,
       "object_fit": null,
       "object_position": null,
       "order": null,
       "overflow": null,
       "padding": null,
       "right": null,
       "top": null,
       "visibility": null,
       "width": null
      }
     },
     "641523f0cdb648858f99056809dcd537": {
      "model_module": "@jupyter-widgets/controls",
      "model_module_version": "2.0.0",
      "model_name": "HBoxModel",
      "state": {
       "_dom_classes": [],
       "_model_module": "@jupyter-widgets/controls",
       "_model_module_version": "2.0.0",
       "_model_name": "HBoxModel",
       "_view_count": null,
       "_view_module": "@jupyter-widgets/controls",
       "_view_module_version": "2.0.0",
       "_view_name": "HBoxView",
       "box_style": "",
       "children": [
        "IPY_MODEL_e1a314b9ddba4dd2bdfc864d8324d01a",
        "IPY_MODEL_9ea4c13b03f14b8a95d8d4f5be831ebc",
        "IPY_MODEL_79ffa10d006a42a7aaefba5cd197bf2b"
       ],
       "layout": "IPY_MODEL_d81d150c441c4423bf349aab7004d381",
       "tabbable": null,
       "tooltip": null
      }
     },
     "6512ec6d41b14928b50f3667f40d31dc": {
      "model_module": "@jupyter-widgets/base",
      "model_module_version": "2.0.0",
      "model_name": "LayoutModel",
      "state": {
       "_model_module": "@jupyter-widgets/base",
       "_model_module_version": "2.0.0",
       "_model_name": "LayoutModel",
       "_view_count": null,
       "_view_module": "@jupyter-widgets/base",
       "_view_module_version": "2.0.0",
       "_view_name": "LayoutView",
       "align_content": null,
       "align_items": null,
       "align_self": null,
       "border_bottom": null,
       "border_left": null,
       "border_right": null,
       "border_top": null,
       "bottom": null,
       "display": null,
       "flex": null,
       "flex_flow": null,
       "grid_area": null,
       "grid_auto_columns": null,
       "grid_auto_flow": null,
       "grid_auto_rows": null,
       "grid_column": null,
       "grid_gap": null,
       "grid_row": null,
       "grid_template_areas": null,
       "grid_template_columns": null,
       "grid_template_rows": null,
       "height": null,
       "justify_content": null,
       "justify_items": null,
       "left": null,
       "margin": null,
       "max_height": null,
       "max_width": null,
       "min_height": null,
       "min_width": null,
       "object_fit": null,
       "object_position": null,
       "order": null,
       "overflow": null,
       "padding": null,
       "right": null,
       "top": null,
       "visibility": null,
       "width": null
      }
     },
     "7878f04139b748cfa2731f9e7b14c5d9": {
      "model_module": "@jupyter-widgets/base",
      "model_module_version": "2.0.0",
      "model_name": "LayoutModel",
      "state": {
       "_model_module": "@jupyter-widgets/base",
       "_model_module_version": "2.0.0",
       "_model_name": "LayoutModel",
       "_view_count": null,
       "_view_module": "@jupyter-widgets/base",
       "_view_module_version": "2.0.0",
       "_view_name": "LayoutView",
       "align_content": null,
       "align_items": null,
       "align_self": null,
       "border_bottom": null,
       "border_left": null,
       "border_right": null,
       "border_top": null,
       "bottom": null,
       "display": null,
       "flex": null,
       "flex_flow": null,
       "grid_area": null,
       "grid_auto_columns": null,
       "grid_auto_flow": null,
       "grid_auto_rows": null,
       "grid_column": null,
       "grid_gap": null,
       "grid_row": null,
       "grid_template_areas": null,
       "grid_template_columns": null,
       "grid_template_rows": null,
       "height": null,
       "justify_content": null,
       "justify_items": null,
       "left": null,
       "margin": null,
       "max_height": null,
       "max_width": null,
       "min_height": null,
       "min_width": null,
       "object_fit": null,
       "object_position": null,
       "order": null,
       "overflow": null,
       "padding": null,
       "right": null,
       "top": null,
       "visibility": null,
       "width": null
      }
     },
     "79ffa10d006a42a7aaefba5cd197bf2b": {
      "model_module": "@jupyter-widgets/controls",
      "model_module_version": "2.0.0",
      "model_name": "HTMLModel",
      "state": {
       "_dom_classes": [],
       "_model_module": "@jupyter-widgets/controls",
       "_model_module_version": "2.0.0",
       "_model_name": "HTMLModel",
       "_view_count": null,
       "_view_module": "@jupyter-widgets/controls",
       "_view_module_version": "2.0.0",
       "_view_name": "HTMLView",
       "description": "",
       "description_allow_html": false,
       "layout": "IPY_MODEL_fa2a2950c2e84ab6a04d8056fa44382c",
       "placeholder": "​",
       "style": "IPY_MODEL_1d66216b57f44ac28769ceba8e48e011",
       "tabbable": null,
       "tooltip": null,
       "value": " 38/38 [01:21&lt;00:00,  4.13s/it]"
      }
     },
     "7ce7391493694d9f8294e53d6aef4678": {
      "model_module": "@jupyter-widgets/controls",
      "model_module_version": "2.0.0",
      "model_name": "HBoxModel",
      "state": {
       "_dom_classes": [],
       "_model_module": "@jupyter-widgets/controls",
       "_model_module_version": "2.0.0",
       "_model_name": "HBoxModel",
       "_view_count": null,
       "_view_module": "@jupyter-widgets/controls",
       "_view_module_version": "2.0.0",
       "_view_name": "HBoxView",
       "box_style": "",
       "children": [
        "IPY_MODEL_e1a314b9ddba4dd2bdfc864d8324d01a",
        "IPY_MODEL_9ea4c13b03f14b8a95d8d4f5be831ebc",
        "IPY_MODEL_79ffa10d006a42a7aaefba5cd197bf2b"
       ],
       "layout": "IPY_MODEL_d81d150c441c4423bf349aab7004d381",
       "tabbable": null,
       "tooltip": null
      }
     },
     "89f0430cc7df461fb9a1a77a735d4ab7": {
      "model_module": "@jupyter-widgets/base",
      "model_module_version": "2.0.0",
      "model_name": "LayoutModel",
      "state": {
       "_model_module": "@jupyter-widgets/base",
       "_model_module_version": "2.0.0",
       "_model_name": "LayoutModel",
       "_view_count": null,
       "_view_module": "@jupyter-widgets/base",
       "_view_module_version": "2.0.0",
       "_view_name": "LayoutView",
       "align_content": null,
       "align_items": null,
       "align_self": null,
       "border_bottom": null,
       "border_left": null,
       "border_right": null,
       "border_top": null,
       "bottom": null,
       "display": null,
       "flex": null,
       "flex_flow": null,
       "grid_area": null,
       "grid_auto_columns": null,
       "grid_auto_flow": null,
       "grid_auto_rows": null,
       "grid_column": null,
       "grid_gap": null,
       "grid_row": null,
       "grid_template_areas": null,
       "grid_template_columns": null,
       "grid_template_rows": null,
       "height": null,
       "justify_content": null,
       "justify_items": null,
       "left": null,
       "margin": null,
       "max_height": null,
       "max_width": null,
       "min_height": null,
       "min_width": null,
       "object_fit": null,
       "object_position": null,
       "order": null,
       "overflow": null,
       "padding": null,
       "right": null,
       "top": null,
       "visibility": null,
       "width": null
      }
     },
     "9ea4c13b03f14b8a95d8d4f5be831ebc": {
      "model_module": "@jupyter-widgets/controls",
      "model_module_version": "2.0.0",
      "model_name": "FloatProgressModel",
      "state": {
       "_dom_classes": [],
       "_model_module": "@jupyter-widgets/controls",
       "_model_module_version": "2.0.0",
       "_model_name": "FloatProgressModel",
       "_view_count": null,
       "_view_module": "@jupyter-widgets/controls",
       "_view_module_version": "2.0.0",
       "_view_name": "ProgressView",
       "bar_style": "success",
       "description": "",
       "description_allow_html": false,
       "layout": "IPY_MODEL_6512ec6d41b14928b50f3667f40d31dc",
       "max": 38.0,
       "min": 0.0,
       "orientation": "horizontal",
       "style": "IPY_MODEL_e53df2f337934096beef7cf7f80ec3bc",
       "tabbable": null,
       "tooltip": null,
       "value": 38.0
      }
     },
     "ba330ad8c325427f88381f0e7674dd3e": {
      "model_module": "@jupyter-widgets/controls",
      "model_module_version": "2.0.0",
      "model_name": "HTMLStyleModel",
      "state": {
       "_model_module": "@jupyter-widgets/controls",
       "_model_module_version": "2.0.0",
       "_model_name": "HTMLStyleModel",
       "_view_count": null,
       "_view_module": "@jupyter-widgets/base",
       "_view_module_version": "2.0.0",
       "_view_name": "StyleView",
       "background": null,
       "description_width": "",
       "font_size": null,
       "text_color": null
      }
     },
     "ccf761f3a5084892895cf511a5090bb3": {
      "model_module": "@jupyter-widgets/controls",
      "model_module_version": "2.0.0",
      "model_name": "HTMLStyleModel",
      "state": {
       "_model_module": "@jupyter-widgets/controls",
       "_model_module_version": "2.0.0",
       "_model_name": "HTMLStyleModel",
       "_view_count": null,
       "_view_module": "@jupyter-widgets/base",
       "_view_module_version": "2.0.0",
       "_view_name": "StyleView",
       "background": null,
       "description_width": "",
       "font_size": null,
       "text_color": null
      }
     },
     "d81d150c441c4423bf349aab7004d381": {
      "model_module": "@jupyter-widgets/base",
      "model_module_version": "2.0.0",
      "model_name": "LayoutModel",
      "state": {
       "_model_module": "@jupyter-widgets/base",
       "_model_module_version": "2.0.0",
       "_model_name": "LayoutModel",
       "_view_count": null,
       "_view_module": "@jupyter-widgets/base",
       "_view_module_version": "2.0.0",
       "_view_name": "LayoutView",
       "align_content": null,
       "align_items": null,
       "align_self": null,
       "border_bottom": null,
       "border_left": null,
       "border_right": null,
       "border_top": null,
       "bottom": null,
       "display": null,
       "flex": null,
       "flex_flow": null,
       "grid_area": null,
       "grid_auto_columns": null,
       "grid_auto_flow": null,
       "grid_auto_rows": null,
       "grid_column": null,
       "grid_gap": null,
       "grid_row": null,
       "grid_template_areas": null,
       "grid_template_columns": null,
       "grid_template_rows": null,
       "height": null,
       "justify_content": null,
       "justify_items": null,
       "left": null,
       "margin": null,
       "max_height": null,
       "max_width": null,
       "min_height": null,
       "min_width": null,
       "object_fit": null,
       "object_position": null,
       "order": null,
       "overflow": null,
       "padding": null,
       "right": null,
       "top": null,
       "visibility": null,
       "width": null
      }
     },
     "e1a314b9ddba4dd2bdfc864d8324d01a": {
      "model_module": "@jupyter-widgets/controls",
      "model_module_version": "2.0.0",
      "model_name": "HTMLModel",
      "state": {
       "_dom_classes": [],
       "_model_module": "@jupyter-widgets/controls",
       "_model_module_version": "2.0.0",
       "_model_name": "HTMLModel",
       "_view_count": null,
       "_view_module": "@jupyter-widgets/controls",
       "_view_module_version": "2.0.0",
       "_view_name": "HTMLView",
       "description": "",
       "description_allow_html": false,
       "layout": "IPY_MODEL_4538772609004fe2aa513ee80bbffa75",
       "placeholder": "​",
       "style": "IPY_MODEL_ba330ad8c325427f88381f0e7674dd3e",
       "tabbable": null,
       "tooltip": null,
       "value": "100%"
      }
     },
     "e500cf2fba5e4b3dbff59494e8c4c5fa": {
      "model_module": "@jupyter-widgets/controls",
      "model_module_version": "2.0.0",
      "model_name": "ProgressStyleModel",
      "state": {
       "_model_module": "@jupyter-widgets/controls",
       "_model_module_version": "2.0.0",
       "_model_name": "ProgressStyleModel",
       "_view_count": null,
       "_view_module": "@jupyter-widgets/base",
       "_view_module_version": "2.0.0",
       "_view_name": "StyleView",
       "bar_color": null,
       "description_width": ""
      }
     },
     "e53df2f337934096beef7cf7f80ec3bc": {
      "model_module": "@jupyter-widgets/controls",
      "model_module_version": "2.0.0",
      "model_name": "ProgressStyleModel",
      "state": {
       "_model_module": "@jupyter-widgets/controls",
       "_model_module_version": "2.0.0",
       "_model_name": "ProgressStyleModel",
       "_view_count": null,
       "_view_module": "@jupyter-widgets/base",
       "_view_module_version": "2.0.0",
       "_view_name": "StyleView",
       "bar_color": null,
       "description_width": ""
      }
     },
     "f34da92c89fd49b59ec24b4d8a3de6cf": {
      "model_module": "@jupyter-widgets/controls",
      "model_module_version": "2.0.0",
      "model_name": "FloatProgressModel",
      "state": {
       "_dom_classes": [],
       "_model_module": "@jupyter-widgets/controls",
       "_model_module_version": "2.0.0",
       "_model_name": "FloatProgressModel",
       "_view_count": null,
       "_view_module": "@jupyter-widgets/controls",
       "_view_module_version": "2.0.0",
       "_view_name": "ProgressView",
       "bar_style": "",
       "description": "",
       "description_allow_html": false,
       "layout": "IPY_MODEL_6512ec6d41b14928b50f3667f40d31dc",
       "max": 38.0,
       "min": 0.0,
       "orientation": "horizontal",
       "style": "IPY_MODEL_e53df2f337934096beef7cf7f80ec3bc",
       "tabbable": null,
       "tooltip": null,
       "value": 0.0
      }
     },
     "fa2a2950c2e84ab6a04d8056fa44382c": {
      "model_module": "@jupyter-widgets/base",
      "model_module_version": "2.0.0",
      "model_name": "LayoutModel",
      "state": {
       "_model_module": "@jupyter-widgets/base",
       "_model_module_version": "2.0.0",
       "_model_name": "LayoutModel",
       "_view_count": null,
       "_view_module": "@jupyter-widgets/base",
       "_view_module_version": "2.0.0",
       "_view_name": "LayoutView",
       "align_content": null,
       "align_items": null,
       "align_self": null,
       "border_bottom": null,
       "border_left": null,
       "border_right": null,
       "border_top": null,
       "bottom": null,
       "display": null,
       "flex": null,
       "flex_flow": null,
       "grid_area": null,
       "grid_auto_columns": null,
       "grid_auto_flow": null,
       "grid_auto_rows": null,
       "grid_column": null,
       "grid_gap": null,
       "grid_row": null,
       "grid_template_areas": null,
       "grid_template_columns": null,
       "grid_template_rows": null,
       "height": null,
       "justify_content": null,
       "justify_items": null,
       "left": null,
       "margin": null,
       "max_height": null,
       "max_width": null,
       "min_height": null,
       "min_width": null,
       "object_fit": null,
       "object_position": null,
       "order": null,
       "overflow": null,
       "padding": null,
       "right": null,
       "top": null,
       "visibility": null,
       "width": null
      }
     },
     "fbec35c2db6d48edb2c0ef4260efab41": {
      "model_module": "@jupyter-widgets/controls",
      "model_module_version": "2.0.0",
      "model_name": "HTMLModel",
      "state": {
       "_dom_classes": [],
       "_model_module": "@jupyter-widgets/controls",
       "_model_module_version": "2.0.0",
       "_model_name": "HTMLModel",
       "_view_count": null,
       "_view_module": "@jupyter-widgets/controls",
       "_view_module_version": "2.0.0",
       "_view_name": "HTMLView",
       "description": "",
       "description_allow_html": false,
       "layout": "IPY_MODEL_fa2a2950c2e84ab6a04d8056fa44382c",
       "placeholder": "​",
       "style": "IPY_MODEL_1d66216b57f44ac28769ceba8e48e011",
       "tabbable": null,
       "tooltip": null,
       "value": ""
      }
     }
    },
    "version_major": 2,
    "version_minor": 0
   }
  }
 },
 "nbformat": 4,
 "nbformat_minor": 5
}