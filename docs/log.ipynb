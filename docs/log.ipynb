{
 "cells": [
  {
   "cell_type": "markdown",
   "id": "92bcb855",
   "metadata": {
    "papermill": {
     "duration": 0.003894,
     "end_time": "2024-12-04T04:11:32.490834",
     "exception": false,
     "start_time": "2024-12-04T04:11:32.486940",
     "status": "completed"
    },
    "tags": []
   },
   "source": [
    "# MPIA Arxiv on Deck 2\n",
    "\n",
    "Contains the steps to produce the paper extractions."
   ]
  },
  {
   "cell_type": "code",
   "execution_count": 1,
   "id": "3a0d6e11",
   "metadata": {
    "execution": {
     "iopub.execute_input": "2024-12-04T04:11:32.498316Z",
     "iopub.status.busy": "2024-12-04T04:11:32.497845Z",
     "iopub.status.idle": "2024-12-04T04:11:32.833400Z",
     "shell.execute_reply": "2024-12-04T04:11:32.832769Z"
    },
    "papermill": {
     "duration": 0.340584,
     "end_time": "2024-12-04T04:11:32.834671",
     "exception": false,
     "start_time": "2024-12-04T04:11:32.494087",
     "status": "completed"
    },
    "tags": []
   },
   "outputs": [],
   "source": [
    "# Imports\n",
    "import os\n",
    "from IPython.display import Markdown, display\n",
    "from tqdm.notebook import tqdm\n",
    "import warnings\n",
    "from PIL import Image \n",
    "import re\n",
    "\n",
    "# requires arxiv_on_deck_2\n",
    "\n",
    "from arxiv_on_deck_2.arxiv2 import (get_new_papers, \n",
    "                                    get_paper_from_identifier,\n",
    "                                    retrieve_document_source, \n",
    "                                    get_markdown_badge)\n",
    "from arxiv_on_deck_2 import (latex,\n",
    "                             latex_bib,\n",
    "                             mpia,\n",
    "                             highlight_authors_in_list)\n",
    "\n",
    "# Sometimes images are really big\n",
    "Image.MAX_IMAGE_PIXELS = 1000000000 "
   ]
  },
  {
   "cell_type": "code",
   "execution_count": 2,
   "id": "22aa9d44",
   "metadata": {
    "execution": {
     "iopub.execute_input": "2024-12-04T04:11:32.848612Z",
     "iopub.status.busy": "2024-12-04T04:11:32.848162Z",
     "iopub.status.idle": "2024-12-04T04:11:32.855872Z",
     "shell.execute_reply": "2024-12-04T04:11:32.855357Z"
    },
    "papermill": {
     "duration": 0.018965,
     "end_time": "2024-12-04T04:11:32.856894",
     "exception": false,
     "start_time": "2024-12-04T04:11:32.837929",
     "status": "completed"
    },
    "tags": []
   },
   "outputs": [],
   "source": [
    "# Some useful definitions.\n",
    "\n",
    "class AffiliationWarning(UserWarning):\n",
    "    pass\n",
    "\n",
    "class AffiliationError(RuntimeError):\n",
    "    pass\n",
    "\n",
    "def validation(source: str):\n",
    "    \"\"\"Raises error paper during parsing of source file\n",
    "    \n",
    "    Allows checks before parsing TeX code.\n",
    "    \n",
    "    Raises AffiliationWarning\n",
    "    \"\"\"\n",
    "    check = mpia.affiliation_verifications(source, verbose=True)\n",
    "    if check is not True:\n",
    "        raise AffiliationError(\"mpia.affiliation_verifications: \" + check)\n",
    "\n",
    "        \n",
    "warnings.simplefilter('always', AffiliationWarning)\n",
    "\n",
    "\n",
    "def get_markdown_qrcode(paper_id: str):\n",
    "    \"\"\" Generate a qrcode to the arxiv page using qrserver.com\n",
    "    \n",
    "    :param paper: Arxiv paper\n",
    "    :returns: markdown text\n",
    "    \"\"\"\n",
    "    url = r\"https://api.qrserver.com/v1/create-qr-code/?size=100x100&data=\"\n",
    "    txt = f\"\"\"<img src={url}\"https://arxiv.org/abs/{paper_id}\">\"\"\"\n",
    "    txt = '<div id=\"qrcode\">' + txt + '</div>'\n",
    "    return txt\n",
    "\n",
    "\n",
    "def clean_non_western_encoded_characters_commands(text: str) -> str:\n",
    "    \"\"\" Remove non-western encoded characters from a string\n",
    "    List may need to grow.\n",
    "    \n",
    "    :param text: the text to clean\n",
    "    :return: the cleaned text\n",
    "    \"\"\"\n",
    "    text = re.sub(r\"(\\\\begin{CJK}{UTF8}{gbsn})(.*?)(\\\\end{CJK})\", r\"\\2\", text)\n",
    "    return text\n",
    "\n",
    "\n",
    "def get_initials(name: str) -> str:\n",
    "    \"\"\" Get the short name, e.g., A.-B. FamName\n",
    "    :param name: full name\n",
    "    :returns: initials\n",
    "    \"\"\"\n",
    "    initials = []\n",
    "    # account for non western names often in ()\n",
    "    if '(' in name:\n",
    "        name = clean_non_western_encoded_characters_commands(name)\n",
    "        suffix = re.findall(r\"\\((.*?)\\)\", name)[0]\n",
    "        name = name.replace(f\"({suffix})\", '')\n",
    "    else:\n",
    "        suffix = ''\n",
    "    split = name.split()\n",
    "    for token in split[:-1]:\n",
    "        if '-' in token:\n",
    "            current = '-'.join([k[0] + '.' for k in token.split('-')])\n",
    "        else:\n",
    "            current = token[0] + '.'\n",
    "        initials.append(current)\n",
    "    initials.append(split[-1].strip())\n",
    "    if suffix:\n",
    "        initials.append(f\"({suffix})\")\n",
    "    return ' '.join(initials)"
   ]
  },
  {
   "cell_type": "markdown",
   "id": "14bd6310",
   "metadata": {
    "papermill": {
     "duration": 0.002947,
     "end_time": "2024-12-04T04:11:32.862879",
     "exception": false,
     "start_time": "2024-12-04T04:11:32.859932",
     "status": "completed"
    },
    "tags": []
   },
   "source": [
    "## get list of arxiv paper candidates\n",
    "\n",
    "We use the MPIA mitarbeiter list webpage from mpia.de to get author names\n",
    "We then get all new papers from Arxiv and match authors"
   ]
  },
  {
   "cell_type": "code",
   "execution_count": 3,
   "id": "7ea813a8",
   "metadata": {
    "execution": {
     "iopub.execute_input": "2024-12-04T04:11:32.869709Z",
     "iopub.status.busy": "2024-12-04T04:11:32.869331Z",
     "iopub.status.idle": "2024-12-04T04:11:48.774977Z",
     "shell.execute_reply": "2024-12-04T04:11:48.774362Z"
    },
    "papermill": {
     "duration": 15.910334,
     "end_time": "2024-12-04T04:11:48.776127",
     "exception": false,
     "start_time": "2024-12-04T04:11:32.865793",
     "status": "completed"
    },
    "tags": []
   },
   "outputs": [],
   "source": [
    "# deal with the author list and edge cases of people that cannot be consistent on their name  \n",
    "\n",
    "def filter_non_scientists(name: str) -> bool:\n",
    "    \"\"\" Loose filter on expected authorships\n",
    "\n",
    "    removing IT, administration, technical staff\n",
    "    :param name: name\n",
    "    :returns: False if name is not a scientist\n",
    "    \"\"\"\n",
    "    remove_list = ['Licht', 'Binroth', 'Witzel', 'Jordan',\n",
    "                   'Zähringer', 'Scheerer', 'Hoffmann', 'Düe',\n",
    "                   'Hellmich', 'Enkler-Scharpegge', 'Witte-Nguy',\n",
    "                   'Dehen', 'Beckmann', 'Jager', 'Jäger'\n",
    "                  ]\n",
    "\n",
    "    for k in remove_list:\n",
    "        if k in name:\n",
    "            return False\n",
    "    return True\n",
    "\n",
    "def add_author_to_list(author_list: list) -> list:\n",
    "    \"\"\" Add author to list if not already in list\n",
    "    \n",
    "    :param author: author name\n",
    "    :param author_list: list of authors\n",
    "    :returns: updated list of authors\n",
    "    \"\"\"\n",
    "    add_list = ['T. Henning']\n",
    "\n",
    "    for author in add_list:\n",
    "        if author not in author_list:\n",
    "            author_list.append(author)\n",
    "    return author_list\n",
    "\n",
    "# get list from MPIA website\n",
    "# filter for non-scientists (mpia.get_mpia_mitarbeiter_list() does some filtering)\n",
    "mpia_authors = [k[1] for k in mpia.get_mpia_mitarbeiter_list() if filter_non_scientists(k[1])]\n",
    "# add some missing author because of inconsistencies in their MPIA name and author name on papers\n",
    "mpia_authors = add_author_to_list(mpia_authors)"
   ]
  },
  {
   "cell_type": "code",
   "execution_count": 4,
   "id": "2645e73a",
   "metadata": {
    "execution": {
     "iopub.execute_input": "2024-12-04T04:11:48.783827Z",
     "iopub.status.busy": "2024-12-04T04:11:48.783348Z",
     "iopub.status.idle": "2024-12-04T04:11:49.517400Z",
     "shell.execute_reply": "2024-12-04T04:11:49.516741Z"
    },
    "papermill": {
     "duration": 0.738963,
     "end_time": "2024-12-04T04:11:49.518464",
     "exception": false,
     "start_time": "2024-12-04T04:11:48.779501",
     "status": "completed"
    },
    "tags": []
   },
   "outputs": [
    {
     "name": "stdout",
     "output_type": "stream",
     "text": [
      "X. Zhang  ->  X. Zhang  |  ['X. Zhang']\n",
      "L. Acuña  ->  L. Acuña  |  ['L. Acuña']\n",
      "J. Eberhardt  ->  J. Eberhardt  |  ['J. Eberhardt']\n",
      "T. Henning  ->  T. Henning  |  ['T. Henning']\n",
      "L. Kreidberg  ->  L. Kreidberg  |  ['L. Kreidberg']\n",
      "H.-W. Rix  ->  H.-W. Rix  |  ['H.-W. Rix']\n",
      "K. El-Badry  ->  K. El-Badry  |  ['K. El-Badry']\n",
      "J. Liu  ->  J. Liu  |  ['J. Liu']\n",
      "E. Schinnerer  ->  E. Schinnerer  |  ['E. Schinnerer']\n",
      "X. Zhang  ->  X. Zhang  |  ['X. Zhang']\n",
      "J. Li  ->  J. Li  |  ['J. Li']\n",
      "J. Li  ->  J. Li  |  ['J. Li']\n",
      "X. Zhang  ->  X. Zhang  |  ['X. Zhang']\n",
      "J. Liu  ->  J. Liu  |  ['J. Liu']\n",
      "L. Xie  ->  Z.-L. Xie  |  ['L. Xie']\n"
     ]
    },
    {
     "name": "stdout",
     "output_type": "stream",
     "text": [
      "Arxiv has 73 new papers today\n",
      "          9 with possible author matches\n"
     ]
    }
   ],
   "source": [
    "new_papers = get_new_papers()\n",
    "# add manual references\n",
    "add_paper_refs = []\n",
    "new_papers.extend([get_paper_from_identifier(k) for k in add_paper_refs])\n",
    "\n",
    "def robust_call(fn, value, *args, **kwargs):\n",
    "    try:\n",
    "        return fn(value, *args, **kwargs)\n",
    "    except Exception:\n",
    "        return value\n",
    "\n",
    "candidates = []\n",
    "for paperk in new_papers:\n",
    "    # Check author list with their initials\n",
    "    normed_author_list = [robust_call(mpia.get_initials, k) for k in paperk['authors']]\n",
    "    hl_authors = highlight_authors_in_list(normed_author_list, mpia_authors, verbose=True)\n",
    "    matches = [(hl, orig) for hl, orig in zip(hl_authors, paperk['authors']) if 'mark' in hl]\n",
    "    paperk['authors'] = hl_authors\n",
    "    if matches:\n",
    "        # only select paper if an author matched our list\n",
    "        candidates.append(paperk)\n",
    "print(\"\"\"Arxiv has {0:,d} new papers today\"\"\".format(len(new_papers)))        \n",
    "print(\"\"\"          {0:,d} with possible author matches\"\"\".format(len(candidates)))"
   ]
  },
  {
   "cell_type": "markdown",
   "id": "3543b34a",
   "metadata": {
    "papermill": {
     "duration": 0.00305,
     "end_time": "2024-12-04T04:11:49.524982",
     "exception": false,
     "start_time": "2024-12-04T04:11:49.521932",
     "status": "completed"
    },
    "tags": []
   },
   "source": [
    "# Parse sources and generate relevant outputs\n",
    "\n",
    "From the candidates, we do the following steps:\n",
    "* get their tarball from ArXiv (and extract data)\n",
    "* find the main .tex file: find one with \\documentclass{...} (sometimes it's non trivial)\n",
    "* Check affiliations with :func:`validation`, which uses :func:`mpia.affiliation_verifications`\n",
    "* If passing the affiliations: we parse the .tex source\n",
    "   * inject sub-documents into the main (flatten the main document)\n",
    "   * parse structure, extract information (title, abstract, authors, figures...)\n",
    "   * handles `\\graphicspath` if provided\n",
    "* Generate the .md document."
   ]
  },
  {
   "cell_type": "code",
   "execution_count": 5,
   "id": "9576b79e",
   "metadata": {
    "execution": {
     "iopub.execute_input": "2024-12-04T04:11:49.532629Z",
     "iopub.status.busy": "2024-12-04T04:11:49.532052Z",
     "iopub.status.idle": "2024-12-04T04:12:49.714258Z",
     "shell.execute_reply": "2024-12-04T04:12:49.713429Z"
    },
    "papermill": {
     "duration": 60.187526,
     "end_time": "2024-12-04T04:12:49.715749",
     "exception": false,
     "start_time": "2024-12-04T04:11:49.528223",
     "status": "completed"
    },
    "scrolled": false,
    "tags": []
   },
   "outputs": [
    {
     "data": {
      "application/vnd.jupyter.widget-view+json": {
       "model_id": "828ad39f01d646bcaeafa42127d4a776",
       "version_major": 2,
       "version_minor": 0
      },
      "text/plain": [
       "  0%|          | 0/9 [00:00<?, ?it/s]"
      ]
     },
     "metadata": {},
     "output_type": "display_data"
    },
    {
     "name": "stdout",
     "output_type": "stream",
     "text": [
      "Retrieving document from  https://arxiv.org/e-print/2412.02055\n"
     ]
    },
    {
     "name": "stdout",
     "output_type": "stream",
     "text": [
      "extracting tarball to tmp_2412.02055..."
     ]
    },
    {
     "name": "stdout",
     "output_type": "stream",
     "text": [
      " done.\n",
      "Retrieving document from  https://arxiv.org/e-print/2412.02069\n"
     ]
    },
    {
     "name": "stderr",
     "output_type": "stream",
     "text": [
      "/tmp/ipykernel_2754/2822249172.py:52: LatexWarning: 2412.02069 did not run properly\n",
      "not a gzip file\n",
      "  warnings.warn(latex.LatexWarning(f\"{paper_id:s} did not run properly\\n\" +\n"
     ]
    },
    {
     "name": "stdout",
     "output_type": "stream",
     "text": [
      "Retrieving document from  https://arxiv.org/e-print/2412.02082\n",
      "extracting tarball to tmp_2412.02082..."
     ]
    },
    {
     "name": "stdout",
     "output_type": "stream",
     "text": [
      " done.\n",
      "  0: tmp_2412.02082/aa_examples.tex, 492 lines\n",
      "  1: tmp_2412.02082/black_holes.tex, 1,097 lines\n"
     ]
    },
    {
     "name": "stderr",
     "output_type": "stream",
     "text": [
      "/opt/hostedtoolcache/Python/3.9.20/x64/lib/python3.9/site-packages/IPython/core/interactiveshell.py:3550: LatexWarning: Multiple tex files.\n",
      "\n",
      "  exec(code_obj, self.user_global_ns, self.user_ns)\n",
      "/opt/hostedtoolcache/Python/3.9.20/x64/lib/python3.9/site-packages/IPython/core/interactiveshell.py:3550: LatexWarning: Found 2 candidates with documentclass definition.\n",
      "  exec(code_obj, self.user_global_ns, self.user_ns)\n",
      "/opt/hostedtoolcache/Python/3.9.20/x64/lib/python3.9/site-packages/IPython/core/interactiveshell.py:3550: LatexWarning: Assuming tmp_2412.02082/black_holes.tex as main document.\n",
      "  exec(code_obj, self.user_global_ns, self.user_ns)\n"
     ]
    },
    {
     "name": "stdout",
     "output_type": "stream",
     "text": [
      "Found 78 bibliographic references in tmp_2412.02082/black_holes.bbl.\n",
      "Retrieving document from  https://arxiv.org/e-print/2412.02456\n"
     ]
    },
    {
     "name": "stdout",
     "output_type": "stream",
     "text": [
      "extracting tarball to tmp_2412.02456..."
     ]
    },
    {
     "name": "stdout",
     "output_type": "stream",
     "text": [
      " done.\n",
      "Retrieving document from  https://arxiv.org/e-print/2412.02557\n"
     ]
    },
    {
     "name": "stderr",
     "output_type": "stream",
     "text": [
      "/tmp/ipykernel_2754/2822249172.py:52: LatexWarning: 2412.02456 did not run properly\n",
      "'utf-8' codec can't decode byte 0xb7 in position 5544: invalid start byte\n",
      "  warnings.warn(latex.LatexWarning(f\"{paper_id:s} did not run properly\\n\" +\n"
     ]
    },
    {
     "name": "stdout",
     "output_type": "stream",
     "text": [
      "extracting tarball to tmp_2412.02557..."
     ]
    },
    {
     "name": "stdout",
     "output_type": "stream",
     "text": [
      " done.\n"
     ]
    },
    {
     "name": "stdout",
     "output_type": "stream",
     "text": [
      "Found 99 bibliographic references in tmp_2412.02557/jades_stack_alma.bbl.\n",
      "Issues with the citations\n",
      "syntax error in line 410: '=' expected\n",
      "Retrieving document from  https://arxiv.org/e-print/2412.02582\n"
     ]
    },
    {
     "name": "stdout",
     "output_type": "stream",
     "text": [
      "extracting tarball to tmp_2412.02582..."
     ]
    },
    {
     "name": "stdout",
     "output_type": "stream",
     "text": [
      " done.\n",
      "Retrieving document from  https://arxiv.org/e-print/2412.02625\n"
     ]
    },
    {
     "name": "stdout",
     "output_type": "stream",
     "text": [
      "extracting tarball to tmp_2412.02625..."
     ]
    },
    {
     "name": "stdout",
     "output_type": "stream",
     "text": [
      " done.\n",
      "Retrieving document from  https://arxiv.org/e-print/2412.02667\n"
     ]
    },
    {
     "name": "stdout",
     "output_type": "stream",
     "text": [
      "extracting tarball to tmp_2412.02667..."
     ]
    },
    {
     "name": "stdout",
     "output_type": "stream",
     "text": [
      " done.\n",
      "Retrieving document from  https://arxiv.org/e-print/2412.02688\n"
     ]
    },
    {
     "name": "stdout",
     "output_type": "stream",
     "text": [
      "extracting tarball to tmp_2412.02688..."
     ]
    },
    {
     "name": "stdout",
     "output_type": "stream",
     "text": [
      " done.\n"
     ]
    },
    {
     "name": "stderr",
     "output_type": "stream",
     "text": [
      "/opt/hostedtoolcache/Python/3.9.20/x64/lib/python3.9/site-packages/IPython/core/interactiveshell.py:3550: LatexWarning: Multiple tex files.\n",
      "\n",
      "  exec(code_obj, self.user_global_ns, self.user_ns)\n",
      "/opt/hostedtoolcache/Python/3.9.20/x64/lib/python3.9/site-packages/IPython/core/interactiveshell.py:3550: LatexWarning: Found documentclass in tmp_2412.02688/main.tex\n",
      "\n",
      "  exec(code_obj, self.user_global_ns, self.user_ns)\n",
      "/opt/hostedtoolcache/Python/3.9.20/x64/lib/python3.9/site-packages/arxiv_on_deck_2/latex.py:414: LatexWarning: Latex injecting: 'tables/tablez6' from 'tmp_2412.02688/tables/tablez6.tex'\n",
      "  warnings.warn(LatexWarning(f\"Latex injecting: '{ext}' from '{subsource}'\"))\n"
     ]
    }
   ],
   "source": [
    "documents = []\n",
    "failed = []\n",
    "for paper in tqdm(candidates):\n",
    "    # debug crap\n",
    "    paper['identifier'] = paper['identifier'].lower().replace('arxiv:', '').replace(r'\\n', '').strip()\n",
    "    paper_id = paper['identifier']\n",
    "    \n",
    "    folder = f'tmp_{paper_id}'\n",
    "\n",
    "    try:\n",
    "        if not os.path.isdir(folder):\n",
    "            folder = retrieve_document_source(f\"{paper_id}\", f'tmp_{paper_id}')\n",
    "        \n",
    "        try:\n",
    "            doc = latex.LatexDocument(folder, validation=validation)    \n",
    "        except AffiliationError as affilerror:\n",
    "            msg = f\"ArXiv:{paper_id:s} is not an MPIA paper... \" + str(affilerror)\n",
    "            failed.append((paper, \"affiliation error: \" + str(affilerror) ))\n",
    "            continue\n",
    "        \n",
    "        # Hack because sometimes author parsing does not work well\n",
    "        if (len(doc.authors) != len(paper['authors'])):\n",
    "            doc._authors = paper['authors']\n",
    "        else:\n",
    "            # highlight authors (FIXME: doc.highlight_authors)\n",
    "            # done on arxiv paper already\n",
    "            doc._authors = highlight_authors_in_list(\n",
    "                [get_initials(k) for k in doc.authors], \n",
    "                mpia_authors, verbose=True)\n",
    "        if (doc.abstract) in (None, ''):\n",
    "            doc._abstract = paper['abstract']\n",
    "            \n",
    "        doc.comment = (get_markdown_badge(paper_id) + \n",
    "                       \"<mark>Appeared on: \" + paper['date'] + \"</mark> - \")\n",
    "        if paper['comments']:\n",
    "            doc.comment += \" _\" + paper['comments'] + \"_\"\n",
    "        \n",
    "        full_md = doc.generate_markdown_text()\n",
    "        \n",
    "        full_md += get_markdown_qrcode(paper_id)\n",
    "        \n",
    "        # replace citations\n",
    "        try:\n",
    "            bibdata = latex_bib.LatexBib.from_doc(doc)\n",
    "            full_md = latex_bib.replace_citations(full_md, bibdata)\n",
    "        except Exception as e:\n",
    "            print(\"Issues with the citations\")\n",
    "            print(e)\n",
    "        \n",
    "        documents.append((paper_id, full_md))\n",
    "    except Exception as e:\n",
    "        warnings.warn(latex.LatexWarning(f\"{paper_id:s} did not run properly\\n\" +\n",
    "                                         str(e)\n",
    "                                        ))\n",
    "        failed.append((paper, \"latex error \" + str(e)))"
   ]
  },
  {
   "cell_type": "markdown",
   "id": "2505a25c",
   "metadata": {
    "papermill": {
     "duration": 0.004281,
     "end_time": "2024-12-04T04:12:49.724775",
     "exception": false,
     "start_time": "2024-12-04T04:12:49.720494",
     "status": "completed"
    },
    "tags": []
   },
   "source": [
    "### Export the logs\n",
    "\n",
    "Throughout, we also keep track of the logs per paper. see `logs-{today date}.md` "
   ]
  },
  {
   "cell_type": "code",
   "execution_count": 6,
   "id": "d733828a",
   "metadata": {
    "execution": {
     "iopub.execute_input": "2024-12-04T04:12:49.734514Z",
     "iopub.status.busy": "2024-12-04T04:12:49.734146Z",
     "iopub.status.idle": "2024-12-04T04:12:49.754901Z",
     "shell.execute_reply": "2024-12-04T04:12:49.754272Z"
    },
    "papermill": {
     "duration": 0.026876,
     "end_time": "2024-12-04T04:12:49.755921",
     "exception": false,
     "start_time": "2024-12-04T04:12:49.729045",
     "status": "completed"
    },
    "scrolled": false,
    "tags": []
   },
   "outputs": [
    {
     "data": {
      "text/markdown": [
       "## Successful papers"
      ],
      "text/plain": [
       "<IPython.core.display.Markdown object>"
      ]
     },
     "metadata": {},
     "output_type": "display_data"
    },
    {
     "data": {
      "text/markdown": [
       "\n",
       "|||\n",
       "|---:|:---|\n",
       "| [![arXiv](https://img.shields.io/badge/arXiv-2412.02082-b31b1b.svg)](https://arxiv.org/abs/2412.02082) | **An upper limit on the frequency of short-period black hole companions to Sun-like stars**  |\n",
       "|| M. J. Green, et al. -- incl., <mark>H.-W. Rix</mark>, <mark>K. El-Badry</mark> |\n",
       "|*Appeared on*| *2024-12-04*|\n",
       "|*Comments*| *14 pages, 12 figures. Submitted to A&A. Comments welcome. Long forms of Tables 3 and 4 are included as FITS files in the Arxiv zip folder*|\n",
       "|**Abstract**|            Stellar-mass black holes descend from high-mass stars, most of which had stellar binary companions. However, the number of those binary systems that survive the binary evolution and black hole formation is uncertain by multiple orders of magnitude. The survival rate is particularly uncertain for massive stars with low-mass companions, which are thought to be the progenitors of most black hole X-ray binaries. We present a search for close black hole companions (separations less than 20 solar radii) to AFGK-type stars in TESS, i.e. the non-accreting counterparts to and progenitors of low-mass X-ray binaries. Such black holes can be detected by the tidally induced ellipsoidal deformation of the visible star, and the ensuing photometric light-curve variations. From an initial sample of 4.7 million TESS stars, we have selected 457 candidates for such variations. However, spectroscopic followup of 251 of them shows that none are consistent with a close black hole companion. On the basis of this non-detection, we determine (2 $\\sigma$ confidence) that fewer than one in $10^5$ Solar-type stars in the Solar neighbourhood host a short-period black hole companion. This upper limit is in tension with a number of ``optimistic'' population models in the literature that predict short-period black hole companions around one in $10^{4-5}$ stars. Our limits are still consistent with other models that predict only a few in $10^{7-8}$.         |"
      ],
      "text/plain": [
       "[2412.02082] An upper limit on the frequency of short-period black hole companions to Sun-like stars\n",
       "\tM. J. Green, et al. -- incl., <mark>H.-W. Rix</mark>, <mark>K. El-Badry</mark>"
      ]
     },
     "metadata": {},
     "output_type": "display_data"
    },
    {
     "data": {
      "text/markdown": [
       "\n",
       "|||\n",
       "|---:|:---|\n",
       "| [![arXiv](https://img.shields.io/badge/arXiv-2412.02557-b31b1b.svg)](https://arxiv.org/abs/2412.02557) | **Dust emission from the bulk of galaxies at the Epoch of Reionization**  |\n",
       "|| L. Ciesla, et al. -- incl., <mark>E. Schinnerer</mark> |\n",
       "|*Appeared on*| *2024-12-04*|\n",
       "|*Comments*| *Submitted to A&A*|\n",
       "|**Abstract**|            [Abridged] Our view of dust in primordial galaxies is limited towards a few tens of z~7 galaxies, pre-selected from UV-optical observations, and are thus not necessarily representative of the bulk of the sources at these redshifts. In this work, we aim at constraining the dust properties of galaxies at 6<z<12 by making the most of the A3COSMOS database in the JADES/GOODS-South field. We stacked ALMA band 6 and 7 observations of 4464 galaxies covered by the A3COSMOS database and used the measurements as constraints to perform UV-to-FIR SED modelling. We obtain tentative signals for the brightest UV galaxies (MUV<-19mag) as well as for the most massive ones (log Mstar>9) at 6<z<7, and upper limits for fainter (MUV>-19mag), lower mass sources (log Mstar<9), and at higher redshift (z>7). Fitting these 6<z<7 galaxies with ALMA constraints results in lower star formation rates (-0.4dex) and FUV attenuation (-0.5mag) for galaxies with log Mstar>8, compared to the fit without FIR. We extend the LIR vs MUV relation down to MUV=-19mag and show a tentative breakdown of the relation at fainter UV magnitudes. The positions of the JADES z~6.5 sample on the IRX versus beta and IRX versus Mstar diagrams are consistent with those of the ALPINE (z~5.5) and REBELS (z~6.5) samples, suggesting that the dust composition and content of our mass-selected sample are similar to these UV-selected galaxies. Extending our analysis of the infrared properties to z>7 galaxies, we find a non-evolution of beta with redshift in the MUV range probed by our sample (-17.24+/-0.62) and highlight the fact that samples from the literature are not representative of the bulk of galaxy populations at z>6. We confirm a linear relation between AV and 1/sSFR with a flatter slope than previously reported due to the use of ALMA constraints. Our results suggest that rapid and significant dust production has already happened by z~7.         |"
      ],
      "text/plain": [
       "[2412.02557] Dust emission from the bulk of galaxies at the Epoch of Reionization\n",
       "\tL. Ciesla, et al. -- incl., <mark>E. Schinnerer</mark>"
      ]
     },
     "metadata": {},
     "output_type": "display_data"
    },
    {
     "data": {
      "text/markdown": [
       "## Failed papers"
      ],
      "text/plain": [
       "<IPython.core.display.Markdown object>"
      ]
     },
     "metadata": {},
     "output_type": "display_data"
    },
    {
     "data": {
      "text/markdown": [
       "\n",
       "|||\n",
       "|---:|:---|\n",
       "| [![arXiv](https://img.shields.io/badge/arXiv-2412.02055-b31b1b.svg)](https://arxiv.org/abs/2412.02055) | **The hidden magnetic structures of a solar intermediate filament revealed by the injected flare material**  |\n",
       "|| X. Yan, et al. -- incl., <mark>X. Zhang</mark> |\n",
       "|*Appeared on*| *2024-12-04*|\n",
       "|*Comments*| *23 pages, 13 figures, accepted for publication in ApJ*|\n",
       "|**Abstract**|            Solar filaments are spectacular objects in the solar atmosphere, consisting of accumulations of cool, dense, and partially ionized plasma suspended in the hot solar corona against gravity. The magnetic structures that support the filament material remain elusive, partly due to the lack of high resolution magnetic field measurements in the chromosphere and corona. In this study, we reconstruct the magnetic structures of a solar intermediate filament using EUV observations and two different methods, to follow the injection of hot material from a B-class solar flare. Our analysis reveals the fine-scale magnetic structures of the filament, including a compact set of mutually wrapped magnetic fields encasing the cool filament material, two groups of helical magnetic structures intertwining with the main filament, and a series of arched magnetic loops positioned along the filament. Additionally, we also find that the northern footpoints of the helical structures are rooted in the same location, while their southern footpoints are rooted in different areas. The results obtained in this study offer new insights into the formation and eruption mechanisms of solar filaments.         |\n",
       "|<p style=\"color:green\"> **ERROR** </p>| <p style=\"color:green\">affiliation error: mpia.affiliation_verifications: 'Heidelberg' keyword not found.</p> |"
      ],
      "text/plain": [
       "<IPython.core.display.Markdown object>"
      ]
     },
     "metadata": {},
     "output_type": "display_data"
    },
    {
     "data": {
      "text/markdown": [
       "\n",
       "|||\n",
       "|---:|:---|\n",
       "| [![arXiv](https://img.shields.io/badge/arXiv-2412.02582-b31b1b.svg)](https://arxiv.org/abs/2412.02582) | **FAST drift scan survey for HI intensity mapping: II. stacking-based primary beam construction for FAST L-band 19 feeds at $1.4$ GHz**  |\n",
       "|| X. Zhao, et al. -- incl., <mark>X. Zhang</mark> |\n",
       "|*Appeared on*| *2024-12-04*|\n",
       "|*Comments*| *16 pages, 12 figures*|\n",
       "|**Abstract**|            Neutral hydrogen (HI) intensity mapping (IM) presents great promise for future cosmological large-scale structure surveys. However, a major challenge for HIIM cosmological studies is to accurately subtract the foreground contamination. An accurate beam model is crucial for improving foreground subtraction accuracy. In this work, we develop a stacking-based beam reconstruction method utilizing the radio continuum point sources within the drift-scan field. Based on the Five-hundred-meter Aperture Spherical radio Telescope (FAST), we employ two series of drift-scan survey data and merge the measurements to construct the beam patterns of the FAST L-band 19 feeds. To model the beams, we utilize the Zernike polynomial (ZP), which effectively captures % the side lobes and asymmetric features of the side lobes. asymmetric features of the main beam and the different side lobes. Due to the symmetric location of the beams, the main features of the beams are closely related to the distance from the center of the feed array, e.g., as the distance increases, side lobes become more pronounced. This modeling pipeline leverages the stable drift-scan data to extract beam patterns exclude the reflector's changing effects, and provides a more accurate measurement beam and a more precise model beam for FAST HIIM cosmology surveys.         |\n",
       "|<p style=\"color:green\"> **ERROR** </p>| <p style=\"color:green\">affiliation error: mpia.affiliation_verifications: 'Heidelberg' keyword not found.</p> |"
      ],
      "text/plain": [
       "<IPython.core.display.Markdown object>"
      ]
     },
     "metadata": {},
     "output_type": "display_data"
    },
    {
     "data": {
      "text/markdown": [
       "\n",
       "|||\n",
       "|---:|:---|\n",
       "| [![arXiv](https://img.shields.io/badge/arXiv-2412.02625-b31b1b.svg)](https://arxiv.org/abs/2412.02625) | **Identifying Hierarchically Triple Star Systems with Gaia DR3 and LAMOST**  |\n",
       "|| T. He, et al. -- incl., <mark>J. Li</mark>, <mark>J. Li</mark>, <mark>X. Zhang</mark> |\n",
       "|*Appeared on*| *2024-12-04*|\n",
       "|*Comments*| **|\n",
       "|**Abstract**|            Triple star systems are critical for understanding stellar dynamics and compact objects in astrophysics, yet confirmed hierarchical triples identified via spectroscopy remain limited. In this study, we identified 23 triple systems by cross-matching the Gaia DR3 non-single star catalog with LAMOST DR10 spectroscopic data; 18 of them are new discoveries. For two well-observed triples, we performed radial velocity curve fitting and light curve analysis to determine their orbital parameters, with inner and outer periods of 1.26 days and 656 days for one triple, and 3.42 days and 422 days for the other. We compared the results with other studies. We also analyzed the radial velocities (RVs) of these 23 triples, revealing a range of $V$ from approximately 40~km~s$^{-1}$ to 210~km~s$^{-1}$. Due to spectral resolution and detection limitations, velocity differences below 45~km~s$^{-1}$ in binaries and below 90~km~s$^{-1}$ in the inner binaries of triple systems are challenging to detect. Consequently, our detection range for inner orbital periods is restricted to 0.2--20 days, with the highest efficiency for periods under 10 days. These findings underscore the advantage of spectroscopic observations for identifying triple systems with short inner orbital periods.         |\n",
       "|<p style=\"color:green\"> **ERROR** </p>| <p style=\"color:green\">affiliation error: mpia.affiliation_verifications: 'Heidelberg' keyword not found.</p> |"
      ],
      "text/plain": [
       "<IPython.core.display.Markdown object>"
      ]
     },
     "metadata": {},
     "output_type": "display_data"
    },
    {
     "data": {
      "text/markdown": [
       "\n",
       "|||\n",
       "|---:|:---|\n",
       "| [![arXiv](https://img.shields.io/badge/arXiv-2412.02667-b31b1b.svg)](https://arxiv.org/abs/2412.02667) | **An unbiased statistical study of the metallicity of core-collapse supernovae based on VLT/MUSE integral-field-unit spectroscopy**  |\n",
       "|| Q. Xi, et al. -- incl., <mark>J. Liu</mark> |\n",
       "|*Appeared on*| *2024-12-04*|\n",
       "|*Comments*| *12 pages, 7 figures*|\n",
       "|**Abstract**|            Metallicity plays a crucial role in the evolution of massive stars and their final core-collapse supernova (CCSN) explosions. Integral-field-unit (IFU) spectroscopy can provide a spatially resolved view of SN host galaxies and serve as a powerful tool to study SN metallicities. Early transient surveys targeted bright galaxies with high star formation and SN rates; as a result, the discovered SNe are significantly biased toward high metallicities. More recently, the untargeted, wide-field transient surveys, such as ASAS-SN and ZTF, have discovered a large number of SNe without such a bias. In this work, we construct a large and unbiased sample of SNe discovered by (quasi-) untargted searches, consisting of 209 SNe of Types II (with unknown subtypes), IIP, IIn, IIb, Ib and Ic at z $\\leq$ 0.02 with VLT/MUSE observations. This is currently the largest CCSN sample with IFU observations. With the strong-line method, we reveal the spatially-resolved metallicity maps of the SN host galaxies and acquire accurate metallicity measurements for the SN sites. Our results show that the SN metallicities range from 12 + log(O/H) = 8.1 to 8.7 dex, and the metallicity distributions for different SN types are very close to each other, with mean and median values of 8.4 - 8.5 dex. We carefully analysed the stochastic sampling effect, showing that our large sample size narrows the 1$\\sigma$ uncertainty down to only 0.05 dex. The apparent metallicity differences among SN types are all within 3$\\sigma$ uncertainties and the metallicity distributions for different SN types are all consistent with being randomly drawn from the same reference distribution. This suggests that metallicity plays a minor role in the origin of different CCSN types and some other metallicity-insensitive processes, such as binary interaction, dominate the distinction of CCSN types.         |\n",
       "|<p style=\"color:green\"> **ERROR** </p>| <p style=\"color:green\">affiliation error: mpia.affiliation_verifications: 'Heidelberg' keyword not found.</p> |"
      ],
      "text/plain": [
       "<IPython.core.display.Markdown object>"
      ]
     },
     "metadata": {},
     "output_type": "display_data"
    },
    {
     "data": {
      "text/markdown": [
       "\n",
       "|||\n",
       "|---:|:---|\n",
       "| [![arXiv](https://img.shields.io/badge/arXiv-2412.02688-b31b1b.svg)](https://arxiv.org/abs/2412.02688) | **Molecular gas and dust properties in $z>7$ quasar hosts**  |\n",
       "|| F. Salvestrini, et al. -- incl., <mark>L. Xie</mark> |\n",
       "|*Appeared on*| *2024-12-04*|\n",
       "|*Comments*| *16 pages, 4 figures, 3 Appendix. Submitted to A&A*|\n",
       "|**Abstract**|            Observational campaigns hunting the elusive reservoirs of cold gas in the host galaxies of quasars at the Epoch of Reionization (EoR) are crucial to study the formation and evolution of the first massive systems at early epochs. We present new Northern Extended Millimetre Array (NOEMA) observations tracing CO(6--5), CO(7--6) emission lines, and the underlying continuum in five of the eight quasars at redshift $z>7$ known to date, thus completing the survey of the cold molecular gas reservoir in the host galaxies of the first quasars. Combining NOEMA observations with archival Atacama Large Millimeter Array (ALMA) data available, we model the far-infrared spectral energy distribution with a modified blackbody to measure dust properties and star formation rates. We use CO and [CII] lines to derive molecular gas masses, which we compare with results from semi-analytical models and observations of galaxies at different epochs. No statistically significant detection of CO emission lines was reported for the five quasars in this sample, resulting in a relatively low amount of cold molecular gas in the host when compared with galaxies at later epochs. Nonetheless, gas-to-dust ratios are consistent with the local value, suggesting that the scaling relation between dust and cold gas holds up to $z>7$. Quasars at the EoR show star formation efficiencies which are among the highest observed so far, but comparable with that observed in luminous quasar at Cosmic Noon and that predicted for the brightest ($L_{bol}>3\\times10^{46}$ erg s$^{-1}$) quasar objects drawn from the semi-analytical model GAEA. Quasar host galaxies at the EoR are undergoing an intense phase of star formation, which suggests a strong coupling between the luminous phase of the quasar and the rapid growth of the host.         |\n",
       "|<p style=\"color:green\"> **ERROR** </p>| <p style=\"color:green\">affiliation error: mpia.affiliation_verifications: 'Heidelberg' keyword not found.</p> |"
      ],
      "text/plain": [
       "<IPython.core.display.Markdown object>"
      ]
     },
     "metadata": {},
     "output_type": "display_data"
    },
    {
     "data": {
      "text/markdown": [
       "\n",
       "|||\n",
       "|---:|:---|\n",
       "| [![arXiv](https://img.shields.io/badge/arXiv-2412.02456-b31b1b.svg)](https://arxiv.org/abs/2412.02456) | **Temporal-spatial distribution of YSOs nearby Taurus region**  |\n",
       "|| <mark>J. Liu</mark>, et al. |\n",
       "|*Appeared on*| *2024-12-04*|\n",
       "|*Comments*| *10 pages, Accepted for publication in SCPMA*|\n",
       "|**Abstract**|            The Taurus region is one of the most extensively studied star-forming regions. Surveys indicate that the young stars in this region are comprised of Young Stellar Objects (YSOs) that cluster in groups associated with the molecular cloud (Grouped Young Stellar Objects, GYSOs), and some older ones that are sparsely distributed throughout the region (Distributed Young Stellar Objects, DYSOs). To bridge the age gap between the GYSOs ($\\le$5 Myr) and the DYSOs (10-20 Myr), we conducted a survey to search for new YSOs in this direction. Based on infrared color excesses and Li I absorption lines, we identified 145 new YSOs. Combining these with the previously identified GYSOs and DYSOs, we constructed a sample of 519 YSOs that encompasses the entire region. Subsequently, we calculated the ages of the sample based on their proximity to the local bubble. The age versus Distance to the Local Bubble ($D_{\\rm LB}$) relationship for the DYSOs shows a clear trend: the farther they are from the Local Bubble, the younger they are, which is consistent with the supernovae-driven formation scenario of the Local Bubble. The GYSOs also exhibit a mild age versus $D_{\\rm LB}$ trend. However, they are significantly younger and are mostly confined to distances of 120 to 220 pc. Considering their distribution in the age versus $D_{\\rm LB}$ space is well separated from the older DYSOs, they may also be products of the Local Bubble but formed in more recent and localized events.         |\n",
       "|<p style=\"color:red\"> **ERROR** </p>| <p style=\"color:red\">latex error 'utf-8' codec can't decode byte 0xb7 in position 5544: invalid start byte</p> |"
      ],
      "text/plain": [
       "<IPython.core.display.Markdown object>"
      ]
     },
     "metadata": {},
     "output_type": "display_data"
    },
    {
     "data": {
      "text/markdown": [
       "\n",
       "|||\n",
       "|---:|:---|\n",
       "| [![arXiv](https://img.shields.io/badge/arXiv-2412.02069-b31b1b.svg)](https://arxiv.org/abs/2412.02069) | **Three Warm Jupiters orbiting TOI-6628, TOI-3837, TOI-5027 and one sub-Saturn orbiting TOI-2328**  |\n",
       "|| M. T. Pinto, et al. -- incl., <mark>L. Acuña</mark>, <mark>J. Eberhardt</mark>, <mark>T. Henning</mark>, <mark>L. Kreidberg</mark> |\n",
       "|*Appeared on*| *2024-12-04*|\n",
       "|*Comments*| *23 pages, 12 figures*|\n",
       "|**Abstract**|            We report the discovery and characterization of three new transiting giant planets orbiting TOI-6628, TOI-3837 and TOI-5027, and one new warm sub-Saturn orbiting TOI-2328, whose transits events were detected in the lightcurves of the Transiting Exoplanet Survey Satellite \\textbf{(TESS)} space mission. By combining TESS lightcurves with ground-based photometric and spectroscopic follow-up observations we confirm the planetary nature of the observed transits and radial velocity variations. TOI-6628~$b$ has a mass of 0.75$\\pm$0.06~$M_\\mathrm{J}$, a radius of 0.98$\\pm$0.05~$R_J$ and is orbiting a metal-rich star with a period of 18.18424$\\pm{0.00001}$ days and an eccentricity of 0.667$\\pm0.016$, making it one of the most eccentric orbits of all known warm giants. TOI-3837~$b$ has a mass of 0.59$\\pm$0.06~$M_\\mathrm{J}$, a radius of 0.96$\\pm$0.05~$R_J$ and orbits its host star every 11.88865$\\pm$0.00003~days, with a moderate eccentricity of 0.198$^{+0.046}_{-0.058}$. With a mass of 2.01$\\pm$0.13~$M_\\mathrm{J}$ and a radius of 0.99$^{+0.07}_{-0.12}$ $R_J$, TOI-5027~$b$ orbits its host star in an eccentric orbit with $e$~=~0.395$^{+0.032}_{-0.029}$ every 10.24368$\\pm{0.00001}$~days. TOI-2328~$b$ is a Saturn-like planet with a mass of 0.16$\\pm$0.02~$M_\\mathrm{J}$ and a radius of 0.89$\\pm$0.04~$R_J$, orbiting its host star in a nearly circular orbit with $e$~=~0.057$^{+0.046}_{-0.029}$ at an orbital period of 17.10197$\\pm{0.00001}$ days. All four planets have orbital periods above 10 days, and our planet interior structure models are consistsent a rocky-icy core with a H/He envelope, providing evidence supporting the core accretion model of planet formation for this kind of planets.         |\n",
       "|<p style=\"color:red\"> **ERROR** </p>| <p style=\"color:red\">latex error not a gzip file</p> |"
      ],
      "text/plain": [
       "<IPython.core.display.Markdown object>"
      ]
     },
     "metadata": {},
     "output_type": "display_data"
    }
   ],
   "source": [
    "import datetime\n",
    "today = str(datetime.date.today())\n",
    "logfile = f\"_build/html/logs/log-{today}.md\"\n",
    "\n",
    "\n",
    "with open(logfile, 'w') as logs:\n",
    "    # Success\n",
    "    logs.write(f'# Arxiv on Deck 2: Logs - {today}\\n\\n')\n",
    "    logs.write(\"\"\"* Arxiv had {0:,d} new papers\\n\"\"\".format(len(new_papers)))\n",
    "    logs.write(\"\"\"    * {0:,d} with possible author matches\\n\\n\"\"\".format(len(candidates)))\n",
    "    logs.write(\"## Sucessful papers\\n\\n\")\n",
    "    display(Markdown(\"## Successful papers\"))\n",
    "    success = [k[0] for k in documents]\n",
    "    for candid in candidates:\n",
    "        if candid['identifier'].split(':')[-1] in success:\n",
    "            display(candid)\n",
    "            logs.write(candid.generate_markdown_text() + '\\n\\n')\n",
    "\n",
    "    ## failed\n",
    "    logs.write(\"## Failed papers\\n\\n\")\n",
    "    display(Markdown(\"## Failed papers\"))\n",
    "    failed = sorted(failed, key=lambda x: x[1])\n",
    "    current_reason = \"\"\n",
    "    for paper, reason in failed:\n",
    "        if 'affiliation' in reason:\n",
    "            color = 'green'\n",
    "        else:\n",
    "            color = 'red'\n",
    "        data = Markdown(\n",
    "                paper.generate_markdown_text() + \n",
    "                f'\\n|<p style=\"color:{color:s}\"> **ERROR** </p>| <p style=\"color:{color:s}\">{reason:s}</p> |'\n",
    "               )\n",
    "        if reason != current_reason:\n",
    "            logs.write(f'### {reason:s} \\n\\n')\n",
    "            current_reason = reason\n",
    "        logs.write(data.data + '\\n\\n')\n",
    "        \n",
    "        # only display here the important errors (all in logs)\n",
    "        # if color in ('red',):\n",
    "        display(data)"
   ]
  },
  {
   "cell_type": "markdown",
   "id": "472d20ee",
   "metadata": {
    "papermill": {
     "duration": 0.005378,
     "end_time": "2024-12-04T04:12:49.766779",
     "exception": false,
     "start_time": "2024-12-04T04:12:49.761401",
     "status": "completed"
    },
    "tags": []
   },
   "source": [
    "## Export documents\n",
    "\n",
    "We now write the .md files and export relevant images"
   ]
  },
  {
   "cell_type": "code",
   "execution_count": 7,
   "id": "d426aed9",
   "metadata": {
    "execution": {
     "iopub.execute_input": "2024-12-04T04:12:49.778422Z",
     "iopub.status.busy": "2024-12-04T04:12:49.778043Z",
     "iopub.status.idle": "2024-12-04T04:12:49.784723Z",
     "shell.execute_reply": "2024-12-04T04:12:49.784095Z"
    },
    "papermill": {
     "duration": 0.01372,
     "end_time": "2024-12-04T04:12:49.785812",
     "exception": false,
     "start_time": "2024-12-04T04:12:49.772092",
     "status": "completed"
    },
    "tags": []
   },
   "outputs": [],
   "source": [
    "def export_markdown_summary(md: str, md_fname:str, directory: str):\n",
    "    \"\"\"Export MD document and associated relevant images\"\"\"\n",
    "    import os\n",
    "    import shutil\n",
    "    import re\n",
    "\n",
    "    if (os.path.exists(directory) and not os.path.isdir(directory)):\n",
    "        raise RuntimeError(f\"a non-directory file exists with name {directory:s}\")\n",
    "\n",
    "    if (not os.path.exists(directory)):\n",
    "        print(f\"creating directory {directory:s}\")\n",
    "        os.mkdir(directory)\n",
    "\n",
    "    fig_fnames = (re.compile(r'\\[Fig.*\\]\\((.*)\\)').findall(md) + \n",
    "                  re.compile(r'\\<img src=\"([^>\\s]*)\"[^>]*/>').findall(md))\n",
    "    print(\"found figures\", fig_fnames)\n",
    "    for fname in fig_fnames:\n",
    "        if 'http' in fname:\n",
    "            # No need to copy online figures\n",
    "            continue\n",
    "        if not os.path.exists(fname):\n",
    "            print(\"file not found\", fname)\n",
    "            continue\n",
    "        print(\"copying \", fname, \"to\", directory)\n",
    "        destdir = os.path.join(directory, os.path.dirname(fname))\n",
    "        destfname = os.path.join(destdir, os.path.basename(fname))\n",
    "        try:\n",
    "            os.makedirs(destdir)\n",
    "        except FileExistsError:\n",
    "            pass\n",
    "        shutil.copy(fname, destfname)\n",
    "    with open(os.path.join(directory, md_fname), 'w') as fout:\n",
    "        fout.write(md)\n",
    "    print(\"exported in \", os.path.join(directory, md_fname))\n",
    "    [print(\"    + \" + os.path.join(directory,fk)) for fk in fig_fnames]"
   ]
  },
  {
   "cell_type": "code",
   "execution_count": 8,
   "id": "014d04a4",
   "metadata": {
    "execution": {
     "iopub.execute_input": "2024-12-04T04:12:49.797849Z",
     "iopub.status.busy": "2024-12-04T04:12:49.797394Z",
     "iopub.status.idle": "2024-12-04T04:12:49.804353Z",
     "shell.execute_reply": "2024-12-04T04:12:49.803752Z"
    },
    "papermill": {
     "duration": 0.013884,
     "end_time": "2024-12-04T04:12:49.805274",
     "exception": false,
     "start_time": "2024-12-04T04:12:49.791390",
     "status": "completed"
    },
    "tags": []
   },
   "outputs": [
    {
     "name": "stdout",
     "output_type": "stream",
     "text": [
      "found figures ['tmp_2412.02082/./figures/upperlim-2d/figure.png', 'tmp_2412.02082/./figures/gaia-confirmation/figure.png', 'tmp_2412.02082/./figures/selection-functions/figure.png']\n",
      "copying  tmp_2412.02082/./figures/upperlim-2d/figure.png to _build/html/\n",
      "copying  tmp_2412.02082/./figures/gaia-confirmation/figure.png to _build/html/\n",
      "copying  tmp_2412.02082/./figures/selection-functions/figure.png to _build/html/\n",
      "exported in  _build/html/2412.02082.md\n",
      "    + _build/html/tmp_2412.02082/./figures/upperlim-2d/figure.png\n",
      "    + _build/html/tmp_2412.02082/./figures/gaia-confirmation/figure.png\n",
      "    + _build/html/tmp_2412.02082/./figures/selection-functions/figure.png\n",
      "found figures ['tmp_2412.02557/./lir_muv.png', 'tmp_2412.02557/./LIR_lowT_MUV_full.png', 'tmp_2412.02557/./lir_redshift.png']\n",
      "copying  tmp_2412.02557/./lir_muv.png to _build/html/\n",
      "copying  tmp_2412.02557/./LIR_lowT_MUV_full.png to _build/html/\n",
      "copying  tmp_2412.02557/./lir_redshift.png to _build/html/\n",
      "exported in  _build/html/2412.02557.md\n",
      "    + _build/html/tmp_2412.02557/./lir_muv.png\n",
      "    + _build/html/tmp_2412.02557/./LIR_lowT_MUV_full.png\n",
      "    + _build/html/tmp_2412.02557/./lir_redshift.png\n"
     ]
    }
   ],
   "source": [
    "for paper_id, md in documents:\n",
    "    export_markdown_summary(md, f\"{paper_id:s}.md\", '_build/html/')"
   ]
  },
  {
   "cell_type": "markdown",
   "id": "f087a0a7",
   "metadata": {
    "papermill": {
     "duration": 0.005425,
     "end_time": "2024-12-04T04:12:49.816274",
     "exception": false,
     "start_time": "2024-12-04T04:12:49.810849",
     "status": "completed"
    },
    "tags": []
   },
   "source": [
    "## Display the papers\n",
    "\n",
    "Not necessary but allows for a quick check."
   ]
  },
  {
   "cell_type": "code",
   "execution_count": 9,
   "id": "fd25f625",
   "metadata": {
    "execution": {
     "iopub.execute_input": "2024-12-04T04:12:49.828735Z",
     "iopub.status.busy": "2024-12-04T04:12:49.828392Z",
     "iopub.status.idle": "2024-12-04T04:12:49.833888Z",
     "shell.execute_reply": "2024-12-04T04:12:49.833384Z"
    },
    "papermill": {
     "duration": 0.012761,
     "end_time": "2024-12-04T04:12:49.834876",
     "exception": false,
     "start_time": "2024-12-04T04:12:49.822115",
     "status": "completed"
    },
    "scrolled": false,
    "tags": []
   },
   "outputs": [
    {
     "data": {
      "text/markdown": [
       "<div class=\"macros\" style=\"visibility:hidden;\">\n",
       "$\\newcommand{\\ensuremath}{}$\n",
       "$\\newcommand{\\xspace}{}$\n",
       "$\\newcommand{\\object}[1]{\\texttt{#1}}$\n",
       "$\\newcommand{\\farcs}{{.}''}$\n",
       "$\\newcommand{\\farcm}{{.}'}$\n",
       "$\\newcommand{\\arcsec}{''}$\n",
       "$\\newcommand{\\arcmin}{'}$\n",
       "$\\newcommand{\\ion}[2]{#1#2}$\n",
       "$\\newcommand{\\textsc}[1]{\\textrm{#1}}$\n",
       "$\\newcommand{\\hl}[1]{\\textrm{#1}}$\n",
       "$\\newcommand{\\footnote}[1]{}$\n",
       "$\\newcommand{\\cmnt}[1]$\n",
       "$\\newcommand{\\review}[1]{#1}$\n",
       "$\\newcommand{\\porb}{P_\\mathrm{orb}}$\n",
       "$\\newcommand{\\pdot}{\\dot{P}_\\mathrm{orb}}$\n",
       "$\\newcommand{\\mdot}{\\dot{M}}$\n",
       "$\\newcommand{\\teff}{T_\\mathrm{eff}}$\n",
       "$\\newcommand{\\halpha}{H\\alpha}$\n",
       "$\\newcommand{\\hbeta}{H\\beta}$\n",
       "$\\newcommand{\\hei}{\\ion{He}{I}}$\n",
       "$\\newcommand{\\heii}{\\ion{He}{II}}$\n",
       "$\\newcommand{\\siii}{\\ion{Si}{II}}$\n",
       "$\\newcommand{\\filus}{\\textit{u_s}}$\n",
       "$\\newcommand{\\filgs}{\\textit{g_s}}$\n",
       "$\\newcommand{\\filrs}{\\textit{r_s}}$\n",
       "$\\newcommand{\\filis}{\\textit{i_s}}$\n",
       "$\\newcommand{\\filzs}{\\textit{z_s}}$\n",
       "$\\newcommand{\\filu}{\\textit{u'}}$\n",
       "$\\newcommand{\\filg}{\\textit{g'}}$\n",
       "$\\newcommand{\\filr}{\\textit{r'}}$\n",
       "$\\newcommand{\\fili}{\\textit{i'}}$\n",
       "$\\newcommand{\\filz}{\\textit{z'}}$\n",
       "$\\newcommand{\\filkg}{\\textit{KG5}}$\n",
       "$\\newcommand{\\inp}{{\\tt input}}$\n",
       "$\\newcommand{\\beer}{{\\tt beer}}$\n",
       "$\\newcommand{\\qmin}{{\\tt qmin}}$\n",
       "$\\newcommand{\\mmmr}{{\\tt mmmr}}$\n",
       "$\\newcommand{\\aell}{A_{\\rm ell}}$\n",
       "$\\newcommand{\\qm}{q_{\\rm min}}$\n",
       "$\\newcommand{\\fbh}{f_{\\rm BH}}$\n",
       "$\\newcommand{\\sbar}{\\Bar{S}'}$\n",
       "$\\newcommand{\\mpia}{1}$\n",
       "$\\newcommand{\\tlv}{2}$\n",
       "$\\newcommand{\\barilan}{3}$\n",
       "$\\newcommand{\\edin}{4}$\n",
       "$\\newcommand{\\caltech}{5}$\n",
       "$\\newcommand{\\ing}{6}$\n",
       "$\\newcommand{\\sheff}{7}$\n",
       "$\\newcommand{\\warw}{8}$</div>\n",
       "\n",
       "\n",
       "\n",
       "<div id=\"title\">\n",
       "\n",
       "# An upper limit on the frequency of short-period black hole companions to Sun-like stars\n",
       "\n",
       "</div>\n",
       "<div id=\"comments\">\n",
       "\n",
       "[![arXiv](https://img.shields.io/badge/arXiv-2412.02082-b31b1b.svg)](https://arxiv.org/abs/2412.02082)<mark>Appeared on: 2024-12-04</mark> -  _14 pages, 12 figures. Submitted to A&A. Comments welcome. Long forms of Tables 3 and 4 are included as FITS files in the Arxiv zip folder_\n",
       "\n",
       "</div>\n",
       "<div id=\"authors\">\n",
       "\n",
       "M. J. Green, et al. -- incl., <mark>H.-W. Rix</mark>, <mark>K. El-Badry</mark>\n",
       "\n",
       "</div>\n",
       "<div id=\"abstract\">\n",
       "\n",
       "**Abstract:** Stellar-mass black holes descend from high-mass stars, most of which had stellar binary companions.However, the number of those binary systems that survive the binary evolution and black hole formation is uncertain by multiple orders of magnitude.The survival rate is particularly uncertain for massive stars with low-mass companions, which are thought to be the progenitors of most black hole X-ray binaries.We present a search for close black hole companions (separation $\\lesssim 20 R_\\odot$ ) to AFGK-type stars in _TESS_ , i.e. the non-accreting counterparts to and progenitors of low-mass X-ray binaries. Such black holes can be detected by the tidally induced ellipsoidal deformation of the visible star, and the ensuing photometric light-curve variations. From an initial sample of $4.7\\times10^6$ TESS stars, we have selected 457 candidates for such variations. However, spectroscopic followup of 251 of them shows that none are consistent with a close black hole companion.On the basis of this non-detection, we determine ( $2\\sigma$ confidence) that fewer than one in $10^5$ Solar-type stars in the Solar neighbourhood host a short-period black hole companion.This upper limit is in tension with a number of \"optimistic\" population models in the literature that predict short-period black hole companions around one in $\\sim 10^{4-5}$ stars. Our limits are still consistent with other models that predict only a few in $\\sim 10^{7-8}$ .\n",
       "\n",
       "</div>\n",
       "\n",
       "<div id=\"div_fig1\">\n",
       "\n",
       "<img src=\"tmp_2412.02082/./figures/upperlim-2d/figure.png\" alt=\"Fig8\" width=\"100%\"/>\n",
       "\n",
       "**Figure 8. -** \n",
       "Two-dimensional upper limits on the frequency of black hole companions to Solar-type stars as a function of orbital period and black hole mass, $f_{\\rm BH} (M_2, P_{\\rm orb})$.\n",
       "The existence of orbital periods close to 1 day is more tightly constrained than the existence of periods close to 3 days.\n",
       "Dark companions with masses $M_2 < 3 M_\\odot$ are less tightly constrained than more massive companions, but above this limit the dependence on companion mass is weak.\n",
       "$\\cmnt${Is it true that high-mass bhs are harder to find at fixed period?} (*fig:upperlim-2d*)\n",
       "\n",
       "</div>\n",
       "<div id=\"div_fig2\">\n",
       "\n",
       "<img src=\"tmp_2412.02082/./figures/gaia-confirmation/figure.png\" alt=\"Fig6\" width=\"100%\"/>\n",
       "\n",
       "**Figure 6. -** \n",
       "The $K$-amplitudes derived via two methods from _Gaia_ data, against those measured from orbital solutions, for all targets with both measurements.\n",
       "There is generally reasonable agreement, with some outlying points, as discussed in the text.\n",
       " (*fig:rv-comparison*)\n",
       "\n",
       "</div>\n",
       "<div id=\"div_fig3\">\n",
       "\n",
       "<img src=\"tmp_2412.02082/./figures/selection-functions/figure.png\" alt=\"Fig9\" width=\"100%\"/>\n",
       "\n",
       "**Figure 9. -** \n",
       "Probability for simulated binary systems of various types to be accepted into the $\\beer$ sample (top), $\\qmin$ sample (middle), and $\\mmmr$ sample (bottom), as a function of period.\n",
       "Other variables ($\\cos i$, $M_1$, and $M_2$) have been marginalised over.\n",
       " (*fig:selection-function-beer*)\n",
       "\n",
       "</div><div id=\"qrcode\"><img src=https://api.qrserver.com/v1/create-qr-code/?size=100x100&data=\"https://arxiv.org/abs/2412.02082\"></div>"
      ],
      "text/plain": [
       "<IPython.core.display.Markdown object>"
      ]
     },
     "metadata": {},
     "output_type": "display_data"
    },
    {
     "data": {
      "text/markdown": [
       "<div class=\"macros\" style=\"visibility:hidden;\">\n",
       "$\\newcommand{\\ensuremath}{}$\n",
       "$\\newcommand{\\xspace}{}$\n",
       "$\\newcommand{\\object}[1]{\\texttt{#1}}$\n",
       "$\\newcommand{\\farcs}{{.}''}$\n",
       "$\\newcommand{\\farcm}{{.}'}$\n",
       "$\\newcommand{\\arcsec}{''}$\n",
       "$\\newcommand{\\arcmin}{'}$\n",
       "$\\newcommand{\\ion}[2]{#1#2}$\n",
       "$\\newcommand{\\textsc}[1]{\\textrm{#1}}$\n",
       "$\\newcommand{\\hl}[1]{\\textrm{#1}}$\n",
       "$\\newcommand{\\footnote}[1]{}$\n",
       "$\\newcommand{\\tabularfootnotes}{$\n",
       "$   \\setcounter{savedfootnote}{\\value{footnote}}$\n",
       "$   \\setcounter{footnote}{0}$\n",
       "$   \\newcommand{\\thefootnote}{\\textit{\\arabic{footnote}}}$\n",
       "$}$\n",
       "$\\newcommand{\\restorefootnotes}{$\n",
       "$   \\setcounter{footnote}{\\value{savedfootnote}}$\n",
       "$   \\newcommand{\\thefootnote}{\\arabic{footnote}}$\n",
       "$}$\n",
       "$\\newcommand{\\arraystretch}{1.5}$\n",
       "$\\newcommand{\\epsilon}{\\varepsilon}$\n",
       "$\\newcommand{\\thefootnote}{\\textit{\\arabic{footnote}}}$\n",
       "$\\newcommand{\\thefootnote}{\\arabic{footnote}}$\n",
       "$\\newcommand\\cigale{{{\\sc cigale}}}$\n",
       "$\\newcommand\\microns{{ \\mum}}$\n",
       "$\\newcommand\\HI{{H{\\sc i}}}$\n",
       "$\\newcommand\\HInewcommand{{H{\\sc i}-newcommand}}$</div>\n",
       "\n",
       "\n",
       "\n",
       "<div id=\"title\">\n",
       "\n",
       "# Dust emission from the bulk of galaxies at the Epoch of Reionization\n",
       "\n",
       "</div>\n",
       "<div id=\"comments\">\n",
       "\n",
       "[![arXiv](https://img.shields.io/badge/arXiv-2412.02557-b31b1b.svg)](https://arxiv.org/abs/2412.02557)<mark>Appeared on: 2024-12-04</mark> -  _Submitted to A&A_\n",
       "\n",
       "</div>\n",
       "<div id=\"authors\">\n",
       "\n",
       "L. Ciesla, et al. -- incl., <mark>E. Schinnerer</mark>\n",
       "\n",
       "</div>\n",
       "<div id=\"abstract\">\n",
       "\n",
       "**Abstract:** The excess of UV bright galaxies observed at $z>10$ has been one of the major surprises from the JWST early observations.Several explanations have been proposed to understand the mild change in space density of the UV bright galaxies at these high redshifts, among them an evolution of dust attenuation properties in galaxies.However, our view of dust in primordial galaxies is limited towards a few tens of $z\\sim7$ galaxies, pre-selected from UV-optical observations, and are thus not necessarily representative of the bulk of the sources at these redshifts.In this work, we aim at constraining the dust properties of galaxies at $6<z<12$ by making the most of the A $^3$ COSMOS database in the JADES/GOODS-South field.We stacked ALMA band 6 and 7 observations of 4464 JADES galaxies covered by the A $^3$ COSMOS database and used the measurements as constraints to perform UV-to-FIR SED modelling.We obtain tentative signals for the brightest UV galaxies ( $M_{\\mathrm{UV}}<-19$ mag) as well as for the most massive ones ( $\\log M_\\star/M_\\odot>9$ ) at $6<z<7$ , and upper limits for fainter ( $M_{\\mathrm{UV}}>-19$ mag), lower mass sources ( $\\log M_\\star/M_\\odot<9$ ), and at higher redshift ( $z>7$ ).Fitting these $6<z<7$ galaxies with ALMA constraints results in lower star formation rates ( $-0.4$ dex) and FUV attenuation ( $-0.5$ mag) for galaxies with $\\log M_\\star/M_\\odot>8$ , compared to the fit without FIR.We extend the $L_{\\mathrm{IR}}$ vs $M_{\\mathrm{UV}}$ relation down to $M_{\\mathrm{UV}}=-19$ mag and show a tentative breakdown of the relation at fainter UV magnitudes.The positions of the JADES $z\\sim6.5$ sample on the infrared excess (IRX) versus $\\beta$ and IRX versus $M_\\star$ diagrams are consistent with those of the ALPINE ( $z\\sim5.5$ ) and REBELS ( $z\\sim6.5$ ) samples, suggesting that the dust composition and content of our mass-selected sample are similar to these UV-selected galaxies.Extending our analysis of the infrared properties to $z>7$ galaxies, we find a non-evolution of $\\beta$ in the $M_{\\mathrm{UV}}$ range probed by our sample (-17.24 $^{+0.54}_{-0.62}$ ) and highlight the fact that samples from the literature are not representative of the bulk of galaxy populations at $z>6$ .We confirm a linear relation between A $_{\\rm V}$ and sSFR $^{-1}$ with a flatter slope than previously reported due to the use of ALMA constraints.Our results suggest that rapid and significant dust production has already happened by $z\\sim7$ .\n",
       "\n",
       "</div>\n",
       "\n",
       "<div id=\"div_fig1\">\n",
       "\n",
       "<img src=\"tmp_2412.02557/./lir_muv.png\" alt=\"Fig4\" width=\"100%\"/>\n",
       "\n",
       "**Figure 4. -**  Infrared luminosity as a function of UV magnitude. The contours show the position of the whole sample with $L_{\\mathrm{IR}}$ obtained from the fit using the ALMA constraint. Big circles with black borders are the weighted median values in four UV magnitude bins. Stacked or median values for samples from the literature are show in various shades of blue symbols \\citep{Bowler24,Khusanova21}.  (*fig:lir_muv*)\n",
       "\n",
       "</div>\n",
       "<div id=\"div_fig2\">\n",
       "\n",
       "<img src=\"tmp_2412.02557/./LIR_lowT_MUV_full.png\" alt=\"Fig7\" width=\"100%\"/>\n",
       "\n",
       "**Figure 7. -** $L_{\\mathrm{IR}}$ distributions of galaxies in the four UV magnitude bins considered in this work, assuming different dust temperatures. (*fig:lir_muv_lowT*)\n",
       "\n",
       "</div>\n",
       "<div id=\"div_fig3\">\n",
       "\n",
       "<img src=\"tmp_2412.02557/./lir_redshift.png\" alt=\"Fig10\" width=\"100%\"/>\n",
       "\n",
       "**Figure 10. -**  IR luminosity as a function of redshift for our sample (black contours, downward arrows indicate upper limits) and different samples from the literature \\citep[shades of blue,][]{Laporte17,Laporte19,Tamura19,Inami22,Mitsuhashi24,Schouws24}. Symbols with downward arrows are upper limits. Circles with black border are our fiducial UV magnitude bins. (*fig:lirz*)\n",
       "\n",
       "</div><div id=\"qrcode\"><img src=https://api.qrserver.com/v1/create-qr-code/?size=100x100&data=\"https://arxiv.org/abs/2412.02557\"></div>"
      ],
      "text/plain": [
       "<IPython.core.display.Markdown object>"
      ]
     },
     "metadata": {},
     "output_type": "display_data"
    }
   ],
   "source": [
    "[display(Markdown(k[1])) for k in documents];"
   ]
  },
  {
   "cell_type": "markdown",
   "id": "873873a4",
   "metadata": {
    "papermill": {
     "duration": 0.005832,
     "end_time": "2024-12-04T04:12:49.846701",
     "exception": false,
     "start_time": "2024-12-04T04:12:49.840869",
     "status": "completed"
    },
    "tags": []
   },
   "source": [
    "# Create HTML index"
   ]
  },
  {
   "cell_type": "code",
   "execution_count": 10,
   "id": "cf665672",
   "metadata": {
    "execution": {
     "iopub.execute_input": "2024-12-04T04:12:49.859037Z",
     "iopub.status.busy": "2024-12-04T04:12:49.858841Z",
     "iopub.status.idle": "2024-12-04T04:12:49.867065Z",
     "shell.execute_reply": "2024-12-04T04:12:49.866455Z"
    },
    "papermill": {
     "duration": 0.015605,
     "end_time": "2024-12-04T04:12:49.868142",
     "exception": false,
     "start_time": "2024-12-04T04:12:49.852537",
     "status": "completed"
    },
    "tags": []
   },
   "outputs": [
    {
     "name": "stdout",
     "output_type": "stream",
     "text": [
      "265  publications files modified in the last 7 days.\n"
     ]
    }
   ],
   "source": [
    "from datetime import datetime, timedelta, timezone\n",
    "from glob import glob\n",
    "import os\n",
    "\n",
    "files = glob('_build/html/*.md')\n",
    "days = 7\n",
    "now = datetime.today()\n",
    "res = []\n",
    "for fk in files:\n",
    "    stat_result = os.stat(fk).st_ctime\n",
    "    modified = datetime.fromtimestamp(stat_result, tz=timezone.utc).replace(tzinfo=None)\n",
    "    delta = now.today() - modified\n",
    "    if delta <= timedelta(days=days):\n",
    "        res.append((delta.seconds, fk))\n",
    "res = [k[1] for k in reversed(sorted(res, key=lambda x:x[1]))]\n",
    "npub = len(res)\n",
    "print(len(res), f\" publications files modified in the last {days:d} days.\")\n",
    "# [ print('\\t', k) for k in res ];"
   ]
  },
  {
   "cell_type": "code",
   "execution_count": 11,
   "id": "015de740",
   "metadata": {
    "execution": {
     "iopub.execute_input": "2024-12-04T04:12:49.881278Z",
     "iopub.status.busy": "2024-12-04T04:12:49.880766Z",
     "iopub.status.idle": "2024-12-04T04:12:49.897860Z",
     "shell.execute_reply": "2024-12-04T04:12:49.897244Z"
    },
    "papermill": {
     "duration": 0.024641,
     "end_time": "2024-12-04T04:12:49.898807",
     "exception": false,
     "start_time": "2024-12-04T04:12:49.874166",
     "status": "completed"
    },
    "tags": []
   },
   "outputs": [
    {
     "name": "stdout",
     "output_type": "stream",
     "text": [
      "12  publications in the last 7 days.\n"
     ]
    }
   ],
   "source": [
    "import datetime\n",
    "from glob import glob\n",
    "\n",
    "def get_last_n_days(lst, days=1):\n",
    "    \"\"\" Get the documents from the last n days \"\"\"\n",
    "    sorted_lst = sorted(lst, key=lambda x: x[1], reverse=True)\n",
    "    for fname, date in sorted_lst:\n",
    "        if date >= str(datetime.date.today() - datetime.timedelta(days=days)):\n",
    "            yield fname\n",
    "\n",
    "def extract_appearance_dates(lst_file):\n",
    "    dates = []\n",
    "\n",
    "    def get_date(line):\n",
    "        return line\\\n",
    "            .split('Appeared on:')[-1]\\\n",
    "            .split('</mark>')[0].strip()\n",
    "\n",
    "    for fname in lst:\n",
    "        with open(fname, 'r') as f:\n",
    "            found_date = False\n",
    "            for line in f:\n",
    "                if not found_date:\n",
    "                    if \"Appeared on\" in line:\n",
    "                        found_date = True\n",
    "                        dates.append((fname, get_date(line)))\n",
    "                else:\n",
    "                    break\n",
    "    return dates\n",
    "\n",
    "from glob import glob\n",
    "lst = glob('_build/html/*md')\n",
    "days = 7\n",
    "dates = extract_appearance_dates(lst)\n",
    "res = list(get_last_n_days(dates, days))\n",
    "npub = len(res)\n",
    "print(len(res), f\" publications in the last {days:d} days.\")"
   ]
  },
  {
   "cell_type": "code",
   "execution_count": 12,
   "id": "52ca0208",
   "metadata": {
    "execution": {
     "iopub.execute_input": "2024-12-04T04:12:49.911979Z",
     "iopub.status.busy": "2024-12-04T04:12:49.911582Z",
     "iopub.status.idle": "2024-12-04T04:12:49.916531Z",
     "shell.execute_reply": "2024-12-04T04:12:49.915902Z"
    },
    "papermill": {
     "duration": 0.012456,
     "end_time": "2024-12-04T04:12:49.917524",
     "exception": false,
     "start_time": "2024-12-04T04:12:49.905068",
     "status": "completed"
    },
    "scrolled": false,
    "tags": []
   },
   "outputs": [],
   "source": [
    "def create_carousel(npub=4):\n",
    "    \"\"\" Generate the HTML code for a carousel with `npub` slides \"\"\"\n",
    "    carousel = [\"\"\"  <div class=\"carousel\" \"\"\",\n",
    "                \"\"\"       data-flickity='{ \"autoPlay\": 10000, \"adaptiveHeight\": true, \"resize\": true, \"wrapAround\": true, \"pauseAutoPlayOnHover\": true, \"groupCells\": 1 }' id=\"asyncTypeset\">\"\"\"\n",
    "                ]\n",
    "    \n",
    "    item_str = \"\"\"    <div class=\"carousel-cell\"> <div id=\"slide{k}\" class=\"md_view\">Content {k}</div> </div>\"\"\"\n",
    "    for k in range(1, npub + 1):\n",
    "        carousel.append(item_str.format(k=k))\n",
    "    carousel.append(\"  </div>\")\n",
    "    return '\\n'.join(carousel)\n",
    "\n",
    "def create_grid(npub=4):\n",
    "    \"\"\" Generate the HTML code for a flat grid with `npub` slides \"\"\"\n",
    "    grid = [\"\"\"  <div class=\"grid\"> \"\"\",\n",
    "                ]\n",
    "    \n",
    "    item_str = \"\"\"    <div class=\"grid-item\"> <div id=\"slide{k}\" class=\"md_view\">Content {k}</div> </div>\"\"\"\n",
    "    for k in range(1, npub + 1):\n",
    "        grid.append(item_str.format(k=k))\n",
    "    grid.append(\"  </div>\")\n",
    "    return '\\n'.join(grid)"
   ]
  },
  {
   "cell_type": "code",
   "execution_count": 13,
   "id": "a6eac5b6",
   "metadata": {
    "execution": {
     "iopub.execute_input": "2024-12-04T04:12:49.930727Z",
     "iopub.status.busy": "2024-12-04T04:12:49.930333Z",
     "iopub.status.idle": "2024-12-04T04:12:49.935373Z",
     "shell.execute_reply": "2024-12-04T04:12:49.934867Z"
    },
    "papermill": {
     "duration": 0.012638,
     "end_time": "2024-12-04T04:12:49.936347",
     "exception": false,
     "start_time": "2024-12-04T04:12:49.923709",
     "status": "completed"
    },
    "scrolled": false,
    "tags": []
   },
   "outputs": [],
   "source": [
    "carousel = create_carousel(npub)\n",
    "docs = ', '.join(['\"{0:s}\"'.format(k.split('/')[-1]) for k in res])\n",
    "slides = ', '.join([f'\"slide{k}\"' for k in range(1, npub + 1)])\n",
    "\n",
    "with open(\"daily_template.html\", \"r\") as tpl:\n",
    "    page = tpl.read()\n",
    "    page = page.replace(\"{%-- carousel:s --%}\", carousel)\\\n",
    "               .replace(\"{%-- suptitle:s --%}\",  \"7-day archives\" )\\\n",
    "               .replace(\"{%-- docs:s --%}\", docs)\\\n",
    "               .replace(\"{%-- slides:s --%}\", slides)\n",
    "    \n",
    "with open(\"_build/html/index_7days.html\", 'w') as fout:\n",
    "    fout.write(page)"
   ]
  },
  {
   "cell_type": "code",
   "execution_count": 14,
   "id": "adc1a1ec",
   "metadata": {
    "execution": {
     "iopub.execute_input": "2024-12-04T04:12:49.949555Z",
     "iopub.status.busy": "2024-12-04T04:12:49.949223Z",
     "iopub.status.idle": "2024-12-04T04:12:49.955834Z",
     "shell.execute_reply": "2024-12-04T04:12:49.955294Z"
    },
    "papermill": {
     "duration": 0.014219,
     "end_time": "2024-12-04T04:12:49.956732",
     "exception": false,
     "start_time": "2024-12-04T04:12:49.942513",
     "status": "completed"
    },
    "tags": []
   },
   "outputs": [
    {
     "name": "stdout",
     "output_type": "stream",
     "text": [
      "7  publications in the last day.\n"
     ]
    }
   ],
   "source": [
    "# redo for today\n",
    "days = 1\n",
    "res = list(get_last_n_days(dates, days))\n",
    "npub = len(res)\n",
    "print(len(res), f\" publications in the last day.\")\n",
    "\n",
    "carousel = create_carousel(npub)\n",
    "docs = ', '.join(['\"{0:s}\"'.format(k.split('/')[-1]) for k in res])\n",
    "slides = ', '.join([f'\"slide{k}\"' for k in range(1, npub + 1)])\n",
    "\n",
    "with open(\"daily_template.html\", \"r\") as tpl:\n",
    "    page = tpl.read()\n",
    "    page = page.replace(\"{%-- carousel:s --%}\", carousel)\\\n",
    "               .replace(\"{%-- suptitle:s --%}\",  \"Daily\" )\\\n",
    "               .replace(\"{%-- docs:s --%}\", docs)\\\n",
    "               .replace(\"{%-- slides:s --%}\", slides)\n",
    "    \n",
    "# print(carousel, docs, slides)\n",
    "# print(page)\n",
    "with open(\"_build/html/index_daily.html\", 'w') as fout:\n",
    "    fout.write(page)"
   ]
  },
  {
   "cell_type": "code",
   "execution_count": 15,
   "id": "00eece82",
   "metadata": {
    "execution": {
     "iopub.execute_input": "2024-12-04T04:12:49.970078Z",
     "iopub.status.busy": "2024-12-04T04:12:49.969685Z",
     "iopub.status.idle": "2024-12-04T04:12:49.975877Z",
     "shell.execute_reply": "2024-12-04T04:12:49.975349Z"
    },
    "papermill": {
     "duration": 0.013825,
     "end_time": "2024-12-04T04:12:49.976834",
     "exception": false,
     "start_time": "2024-12-04T04:12:49.963009",
     "status": "completed"
    },
    "scrolled": false,
    "tags": []
   },
   "outputs": [
    {
     "name": "stdout",
     "output_type": "stream",
     "text": [
      "6  6 publications selected.\n"
     ]
    }
   ],
   "source": [
    "# Create the flat grid of the last N papers (fixed number regardless of dates)\n",
    "from itertools import islice \n",
    "\n",
    "npub = 6\n",
    "res = [k[0] for k in (islice(reversed(sorted(dates, key=lambda x: x[1])), 6))]\n",
    "print(len(res), f\" {npub} publications selected.\")\n",
    "\n",
    "grid = create_grid(npub)\n",
    "docs = ', '.join(['\"{0:s}\"'.format(k.split('/')[-1]) for k in res])\n",
    "slides = ', '.join([f'\"slide{k}\"' for k in range(1, npub + 1)])\n",
    "\n",
    "with open(\"grid_template.html\", \"r\") as tpl:\n",
    "    page = tpl.read()\n",
    "    page = page.replace(\"{%-- grid-content:s --%}\", grid)\\\n",
    "               .replace(\"{%-- suptitle:s --%}\",  f\"Last {npub:,d} papers\" )\\\n",
    "               .replace(\"{%-- docs:s --%}\", docs)\\\n",
    "               .replace(\"{%-- slides:s --%}\", slides)\n",
    "    \n",
    "# print(grid, docs, slides)\n",
    "# print(page)\n",
    "with open(\"_build/html/index_npub_grid.html\", 'w') as fout:\n",
    "    fout.write(page)"
   ]
  }
 ],
 "metadata": {
  "kernelspec": {
   "display_name": "Python 3 (ipykernel)",
   "language": "python",
   "name": "python3"
  },
  "language_info": {
   "codemirror_mode": {
    "name": "ipython",
    "version": 3
   },
   "file_extension": ".py",
   "mimetype": "text/x-python",
   "name": "python",
   "nbconvert_exporter": "python",
   "pygments_lexer": "ipython3",
   "version": "3.9.20"
  },
  "papermill": {
   "default_parameters": {},
   "duration": 78.622068,
   "end_time": "2024-12-04T04:12:50.198840",
   "environment_variables": {},
   "exception": null,
   "input_path": "MPIA daily digest.ipynb",
   "output_path": "log.ipynb",
   "parameters": {},
   "start_time": "2024-12-04T04:11:31.576772",
   "version": "2.6.0"
  },
  "vscode": {
   "interpreter": {
    "hash": "aee8b7b246df8f9039afb4144a1f6fd8d2ca17a180786b69acc140d282b71a49"
   }
  },
  "widgets": {
   "application/vnd.jupyter.widget-state+json": {
    "state": {
     "0f40e9e30dec4900887ae81439120485": {
      "model_module": "@jupyter-widgets/base",
      "model_module_version": "2.0.0",
      "model_name": "LayoutModel",
      "state": {
       "_model_module": "@jupyter-widgets/base",
       "_model_module_version": "2.0.0",
       "_model_name": "LayoutModel",
       "_view_count": null,
       "_view_module": "@jupyter-widgets/base",
       "_view_module_version": "2.0.0",
       "_view_name": "LayoutView",
       "align_content": null,
       "align_items": null,
       "align_self": null,
       "border_bottom": null,
       "border_left": null,
       "border_right": null,
       "border_top": null,
       "bottom": null,
       "display": null,
       "flex": null,
       "flex_flow": null,
       "grid_area": null,
       "grid_auto_columns": null,
       "grid_auto_flow": null,
       "grid_auto_rows": null,
       "grid_column": null,
       "grid_gap": null,
       "grid_row": null,
       "grid_template_areas": null,
       "grid_template_columns": null,
       "grid_template_rows": null,
       "height": null,
       "justify_content": null,
       "justify_items": null,
       "left": null,
       "margin": null,
       "max_height": null,
       "max_width": null,
       "min_height": null,
       "min_width": null,
       "object_fit": null,
       "object_position": null,
       "order": null,
       "overflow": null,
       "padding": null,
       "right": null,
       "top": null,
       "visibility": null,
       "width": null
      }
     },
     "123e650c12824124b44cd8adc90b0bd3": {
      "model_module": "@jupyter-widgets/base",
      "model_module_version": "2.0.0",
      "model_name": "LayoutModel",
      "state": {
       "_model_module": "@jupyter-widgets/base",
       "_model_module_version": "2.0.0",
       "_model_name": "LayoutModel",
       "_view_count": null,
       "_view_module": "@jupyter-widgets/base",
       "_view_module_version": "2.0.0",
       "_view_name": "LayoutView",
       "align_content": null,
       "align_items": null,
       "align_self": null,
       "border_bottom": null,
       "border_left": null,
       "border_right": null,
       "border_top": null,
       "bottom": null,
       "display": null,
       "flex": null,
       "flex_flow": null,
       "grid_area": null,
       "grid_auto_columns": null,
       "grid_auto_flow": null,
       "grid_auto_rows": null,
       "grid_column": null,
       "grid_gap": null,
       "grid_row": null,
       "grid_template_areas": null,
       "grid_template_columns": null,
       "grid_template_rows": null,
       "height": null,
       "justify_content": null,
       "justify_items": null,
       "left": null,
       "margin": null,
       "max_height": null,
       "max_width": null,
       "min_height": null,
       "min_width": null,
       "object_fit": null,
       "object_position": null,
       "order": null,
       "overflow": null,
       "padding": null,
       "right": null,
       "top": null,
       "visibility": null,
       "width": null
      }
     },
     "3ff0d152d6d94d4a99ef9a951094e09e": {
      "model_module": "@jupyter-widgets/controls",
      "model_module_version": "2.0.0",
      "model_name": "HTMLStyleModel",
      "state": {
       "_model_module": "@jupyter-widgets/controls",
       "_model_module_version": "2.0.0",
       "_model_name": "HTMLStyleModel",
       "_view_count": null,
       "_view_module": "@jupyter-widgets/base",
       "_view_module_version": "2.0.0",
       "_view_name": "StyleView",
       "background": null,
       "description_width": "",
       "font_size": null,
       "text_color": null
      }
     },
     "41e2b88ba0c64270990cfa3225d54e16": {
      "model_module": "@jupyter-widgets/controls",
      "model_module_version": "2.0.0",
      "model_name": "HTMLModel",
      "state": {
       "_dom_classes": [],
       "_model_module": "@jupyter-widgets/controls",
       "_model_module_version": "2.0.0",
       "_model_name": "HTMLModel",
       "_view_count": null,
       "_view_module": "@jupyter-widgets/controls",
       "_view_module_version": "2.0.0",
       "_view_name": "HTMLView",
       "description": "",
       "description_allow_html": false,
       "layout": "IPY_MODEL_0f40e9e30dec4900887ae81439120485",
       "placeholder": "​",
       "style": "IPY_MODEL_e5aaf8df648641e38ba07ecd7b8a1321",
       "tabbable": null,
       "tooltip": null,
       "value": "100%"
      }
     },
     "5eea6e8441ee491797484dfefcdf1f39": {
      "model_module": "@jupyter-widgets/controls",
      "model_module_version": "2.0.0",
      "model_name": "FloatProgressModel",
      "state": {
       "_dom_classes": [],
       "_model_module": "@jupyter-widgets/controls",
       "_model_module_version": "2.0.0",
       "_model_name": "FloatProgressModel",
       "_view_count": null,
       "_view_module": "@jupyter-widgets/controls",
       "_view_module_version": "2.0.0",
       "_view_name": "ProgressView",
       "bar_style": "success",
       "description": "",
       "description_allow_html": false,
       "layout": "IPY_MODEL_123e650c12824124b44cd8adc90b0bd3",
       "max": 9.0,
       "min": 0.0,
       "orientation": "horizontal",
       "style": "IPY_MODEL_7743fdf3335142518cf91ee1052cc4e8",
       "tabbable": null,
       "tooltip": null,
       "value": 9.0
      }
     },
     "629bdd823c234d79a83f02b3b4ef1fee": {
      "model_module": "@jupyter-widgets/base",
      "model_module_version": "2.0.0",
      "model_name": "LayoutModel",
      "state": {
       "_model_module": "@jupyter-widgets/base",
       "_model_module_version": "2.0.0",
       "_model_name": "LayoutModel",
       "_view_count": null,
       "_view_module": "@jupyter-widgets/base",
       "_view_module_version": "2.0.0",
       "_view_name": "LayoutView",
       "align_content": null,
       "align_items": null,
       "align_self": null,
       "border_bottom": null,
       "border_left": null,
       "border_right": null,
       "border_top": null,
       "bottom": null,
       "display": null,
       "flex": null,
       "flex_flow": null,
       "grid_area": null,
       "grid_auto_columns": null,
       "grid_auto_flow": null,
       "grid_auto_rows": null,
       "grid_column": null,
       "grid_gap": null,
       "grid_row": null,
       "grid_template_areas": null,
       "grid_template_columns": null,
       "grid_template_rows": null,
       "height": null,
       "justify_content": null,
       "justify_items": null,
       "left": null,
       "margin": null,
       "max_height": null,
       "max_width": null,
       "min_height": null,
       "min_width": null,
       "object_fit": null,
       "object_position": null,
       "order": null,
       "overflow": null,
       "padding": null,
       "right": null,
       "top": null,
       "visibility": null,
       "width": null
      }
     },
     "7743fdf3335142518cf91ee1052cc4e8": {
      "model_module": "@jupyter-widgets/controls",
      "model_module_version": "2.0.0",
      "model_name": "ProgressStyleModel",
      "state": {
       "_model_module": "@jupyter-widgets/controls",
       "_model_module_version": "2.0.0",
       "_model_name": "ProgressStyleModel",
       "_view_count": null,
       "_view_module": "@jupyter-widgets/base",
       "_view_module_version": "2.0.0",
       "_view_name": "StyleView",
       "bar_color": null,
       "description_width": ""
      }
     },
     "828ad39f01d646bcaeafa42127d4a776": {
      "model_module": "@jupyter-widgets/controls",
      "model_module_version": "2.0.0",
      "model_name": "HBoxModel",
      "state": {
       "_dom_classes": [],
       "_model_module": "@jupyter-widgets/controls",
       "_model_module_version": "2.0.0",
       "_model_name": "HBoxModel",
       "_view_count": null,
       "_view_module": "@jupyter-widgets/controls",
       "_view_module_version": "2.0.0",
       "_view_name": "HBoxView",
       "box_style": "",
       "children": [
        "IPY_MODEL_41e2b88ba0c64270990cfa3225d54e16",
        "IPY_MODEL_5eea6e8441ee491797484dfefcdf1f39",
        "IPY_MODEL_d068c53cd2d54e028791c09d31a8535d"
       ],
       "layout": "IPY_MODEL_daa22279e36f4e56a606c29dbe2e4be2",
       "tabbable": null,
       "tooltip": null
      }
     },
     "d068c53cd2d54e028791c09d31a8535d": {
      "model_module": "@jupyter-widgets/controls",
      "model_module_version": "2.0.0",
      "model_name": "HTMLModel",
      "state": {
       "_dom_classes": [],
       "_model_module": "@jupyter-widgets/controls",
       "_model_module_version": "2.0.0",
       "_model_name": "HTMLModel",
       "_view_count": null,
       "_view_module": "@jupyter-widgets/controls",
       "_view_module_version": "2.0.0",
       "_view_name": "HTMLView",
       "description": "",
       "description_allow_html": false,
       "layout": "IPY_MODEL_629bdd823c234d79a83f02b3b4ef1fee",
       "placeholder": "​",
       "style": "IPY_MODEL_3ff0d152d6d94d4a99ef9a951094e09e",
       "tabbable": null,
       "tooltip": null,
       "value": " 9/9 [01:00&lt;00:00,  7.12s/it]"
      }
     },
     "daa22279e36f4e56a606c29dbe2e4be2": {
      "model_module": "@jupyter-widgets/base",
      "model_module_version": "2.0.0",
      "model_name": "LayoutModel",
      "state": {
       "_model_module": "@jupyter-widgets/base",
       "_model_module_version": "2.0.0",
       "_model_name": "LayoutModel",
       "_view_count": null,
       "_view_module": "@jupyter-widgets/base",
       "_view_module_version": "2.0.0",
       "_view_name": "LayoutView",
       "align_content": null,
       "align_items": null,
       "align_self": null,
       "border_bottom": null,
       "border_left": null,
       "border_right": null,
       "border_top": null,
       "bottom": null,
       "display": null,
       "flex": null,
       "flex_flow": null,
       "grid_area": null,
       "grid_auto_columns": null,
       "grid_auto_flow": null,
       "grid_auto_rows": null,
       "grid_column": null,
       "grid_gap": null,
       "grid_row": null,
       "grid_template_areas": null,
       "grid_template_columns": null,
       "grid_template_rows": null,
       "height": null,
       "justify_content": null,
       "justify_items": null,
       "left": null,
       "margin": null,
       "max_height": null,
       "max_width": null,
       "min_height": null,
       "min_width": null,
       "object_fit": null,
       "object_position": null,
       "order": null,
       "overflow": null,
       "padding": null,
       "right": null,
       "top": null,
       "visibility": null,
       "width": null
      }
     },
     "e5aaf8df648641e38ba07ecd7b8a1321": {
      "model_module": "@jupyter-widgets/controls",
      "model_module_version": "2.0.0",
      "model_name": "HTMLStyleModel",
      "state": {
       "_model_module": "@jupyter-widgets/controls",
       "_model_module_version": "2.0.0",
       "_model_name": "HTMLStyleModel",
       "_view_count": null,
       "_view_module": "@jupyter-widgets/base",
       "_view_module_version": "2.0.0",
       "_view_name": "StyleView",
       "background": null,
       "description_width": "",
       "font_size": null,
       "text_color": null
      }
     }
    },
    "version_major": 2,
    "version_minor": 0
   }
  }
 },
 "nbformat": 4,
 "nbformat_minor": 5
}