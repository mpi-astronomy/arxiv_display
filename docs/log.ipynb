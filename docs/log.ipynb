{
 "cells": [
  {
   "cell_type": "markdown",
   "id": "92bcb855",
   "metadata": {
    "papermill": {
     "duration": 0.003795,
     "end_time": "2024-11-11T04:10:45.377460",
     "exception": false,
     "start_time": "2024-11-11T04:10:45.373665",
     "status": "completed"
    },
    "tags": []
   },
   "source": [
    "# MPIA Arxiv on Deck 2\n",
    "\n",
    "Contains the steps to produce the paper extractions."
   ]
  },
  {
   "cell_type": "code",
   "execution_count": 1,
   "id": "3a0d6e11",
   "metadata": {
    "execution": {
     "iopub.execute_input": "2024-11-11T04:10:45.385043Z",
     "iopub.status.busy": "2024-11-11T04:10:45.384486Z",
     "iopub.status.idle": "2024-11-11T04:10:45.784098Z",
     "shell.execute_reply": "2024-11-11T04:10:45.783408Z"
    },
    "papermill": {
     "duration": 0.40491,
     "end_time": "2024-11-11T04:10:45.785592",
     "exception": false,
     "start_time": "2024-11-11T04:10:45.380682",
     "status": "completed"
    },
    "tags": []
   },
   "outputs": [],
   "source": [
    "# Imports\n",
    "import os\n",
    "from IPython.display import Markdown, display\n",
    "from tqdm.notebook import tqdm\n",
    "import warnings\n",
    "from PIL import Image \n",
    "import re\n",
    "\n",
    "# requires arxiv_on_deck_2\n",
    "\n",
    "from arxiv_on_deck_2.arxiv2 import (get_new_papers, \n",
    "                                    get_paper_from_identifier,\n",
    "                                    retrieve_document_source, \n",
    "                                    get_markdown_badge)\n",
    "from arxiv_on_deck_2 import (latex,\n",
    "                             latex_bib,\n",
    "                             mpia,\n",
    "                             highlight_authors_in_list)\n",
    "\n",
    "# Sometimes images are really big\n",
    "Image.MAX_IMAGE_PIXELS = 1000000000 "
   ]
  },
  {
   "cell_type": "code",
   "execution_count": 2,
   "id": "22aa9d44",
   "metadata": {
    "execution": {
     "iopub.execute_input": "2024-11-11T04:10:45.792941Z",
     "iopub.status.busy": "2024-11-11T04:10:45.792604Z",
     "iopub.status.idle": "2024-11-11T04:10:45.800695Z",
     "shell.execute_reply": "2024-11-11T04:10:45.800079Z"
    },
    "papermill": {
     "duration": 0.012956,
     "end_time": "2024-11-11T04:10:45.801772",
     "exception": false,
     "start_time": "2024-11-11T04:10:45.788816",
     "status": "completed"
    },
    "tags": []
   },
   "outputs": [],
   "source": [
    "# Some useful definitions.\n",
    "\n",
    "class AffiliationWarning(UserWarning):\n",
    "    pass\n",
    "\n",
    "class AffiliationError(RuntimeError):\n",
    "    pass\n",
    "\n",
    "def validation(source: str):\n",
    "    \"\"\"Raises error paper during parsing of source file\n",
    "    \n",
    "    Allows checks before parsing TeX code.\n",
    "    \n",
    "    Raises AffiliationWarning\n",
    "    \"\"\"\n",
    "    check = mpia.affiliation_verifications(source, verbose=True)\n",
    "    if check is not True:\n",
    "        raise AffiliationError(\"mpia.affiliation_verifications: \" + check)\n",
    "\n",
    "        \n",
    "warnings.simplefilter('always', AffiliationWarning)\n",
    "\n",
    "\n",
    "def get_markdown_qrcode(paper_id: str):\n",
    "    \"\"\" Generate a qrcode to the arxiv page using qrserver.com\n",
    "    \n",
    "    :param paper: Arxiv paper\n",
    "    :returns: markdown text\n",
    "    \"\"\"\n",
    "    url = r\"https://api.qrserver.com/v1/create-qr-code/?size=100x100&data=\"\n",
    "    txt = f\"\"\"<img src={url}\"https://arxiv.org/abs/{paper_id}\">\"\"\"\n",
    "    txt = '<div id=\"qrcode\">' + txt + '</div>'\n",
    "    return txt\n",
    "\n",
    "\n",
    "def clean_non_western_encoded_characters_commands(text: str) -> str:\n",
    "    \"\"\" Remove non-western encoded characters from a string\n",
    "    List may need to grow.\n",
    "    \n",
    "    :param text: the text to clean\n",
    "    :return: the cleaned text\n",
    "    \"\"\"\n",
    "    text = re.sub(r\"(\\\\begin{CJK}{UTF8}{gbsn})(.*?)(\\\\end{CJK})\", r\"\\2\", text)\n",
    "    return text\n",
    "\n",
    "\n",
    "def get_initials(name: str) -> str:\n",
    "    \"\"\" Get the short name, e.g., A.-B. FamName\n",
    "    :param name: full name\n",
    "    :returns: initials\n",
    "    \"\"\"\n",
    "    initials = []\n",
    "    # account for non western names often in ()\n",
    "    if '(' in name:\n",
    "        name = clean_non_western_encoded_characters_commands(name)\n",
    "        suffix = re.findall(r\"\\((.*?)\\)\", name)[0]\n",
    "        name = name.replace(f\"({suffix})\", '')\n",
    "    else:\n",
    "        suffix = ''\n",
    "    split = name.split()\n",
    "    for token in split[:-1]:\n",
    "        if '-' in token:\n",
    "            current = '-'.join([k[0] + '.' for k in token.split('-')])\n",
    "        else:\n",
    "            current = token[0] + '.'\n",
    "        initials.append(current)\n",
    "    initials.append(split[-1].strip())\n",
    "    if suffix:\n",
    "        initials.append(f\"({suffix})\")\n",
    "    return ' '.join(initials)"
   ]
  },
  {
   "cell_type": "markdown",
   "id": "14bd6310",
   "metadata": {
    "papermill": {
     "duration": 0.003068,
     "end_time": "2024-11-11T04:10:45.807929",
     "exception": false,
     "start_time": "2024-11-11T04:10:45.804861",
     "status": "completed"
    },
    "tags": []
   },
   "source": [
    "## get list of arxiv paper candidates\n",
    "\n",
    "We use the MPIA mitarbeiter list webpage from mpia.de to get author names\n",
    "We then get all new papers from Arxiv and match authors"
   ]
  },
  {
   "cell_type": "code",
   "execution_count": 3,
   "id": "7ea813a8",
   "metadata": {
    "execution": {
     "iopub.execute_input": "2024-11-11T04:10:45.815073Z",
     "iopub.status.busy": "2024-11-11T04:10:45.814727Z",
     "iopub.status.idle": "2024-11-11T04:11:01.839785Z",
     "shell.execute_reply": "2024-11-11T04:11:01.839150Z"
    },
    "papermill": {
     "duration": 16.029809,
     "end_time": "2024-11-11T04:11:01.840987",
     "exception": false,
     "start_time": "2024-11-11T04:10:45.811178",
     "status": "completed"
    },
    "tags": []
   },
   "outputs": [],
   "source": [
    "# deal with the author list and edge cases of people that cannot be consistent on their name  \n",
    "\n",
    "def filter_non_scientists(name: str) -> bool:\n",
    "    \"\"\" Loose filter on expected authorships\n",
    "\n",
    "    removing IT, administration, technical staff\n",
    "    :param name: name\n",
    "    :returns: False if name is not a scientist\n",
    "    \"\"\"\n",
    "    remove_list = ['Licht', 'Binroth', 'Witzel', 'Jordan',\n",
    "                   'Zähringer', 'Scheerer', 'Hoffmann', 'Düe',\n",
    "                   'Hellmich', 'Enkler-Scharpegge', 'Witte-Nguy',\n",
    "                   'Dehen', 'Beckmann', 'Jager', 'Jäger'\n",
    "                  ]\n",
    "\n",
    "    for k in remove_list:\n",
    "        if k in name:\n",
    "            return False\n",
    "    return True\n",
    "\n",
    "def add_author_to_list(author_list: list) -> list:\n",
    "    \"\"\" Add author to list if not already in list\n",
    "    \n",
    "    :param author: author name\n",
    "    :param author_list: list of authors\n",
    "    :returns: updated list of authors\n",
    "    \"\"\"\n",
    "    add_list = ['T. Henning']\n",
    "\n",
    "    for author in add_list:\n",
    "        if author not in author_list:\n",
    "            author_list.append(author)\n",
    "    return author_list\n",
    "\n",
    "# get list from MPIA website\n",
    "# filter for non-scientists (mpia.get_mpia_mitarbeiter_list() does some filtering)\n",
    "mpia_authors = [k[1] for k in mpia.get_mpia_mitarbeiter_list() if filter_non_scientists(k[1])]\n",
    "# add some missing author because of inconsistencies in their MPIA name and author name on papers\n",
    "mpia_authors = add_author_to_list(mpia_authors)"
   ]
  },
  {
   "cell_type": "code",
   "execution_count": 4,
   "id": "2645e73a",
   "metadata": {
    "execution": {
     "iopub.execute_input": "2024-11-11T04:11:01.848585Z",
     "iopub.status.busy": "2024-11-11T04:11:01.848149Z",
     "iopub.status.idle": "2024-11-11T04:11:02.403700Z",
     "shell.execute_reply": "2024-11-11T04:11:02.402982Z"
    },
    "papermill": {
     "duration": 0.560357,
     "end_time": "2024-11-11T04:11:02.404733",
     "exception": false,
     "start_time": "2024-11-11T04:11:01.844376",
     "status": "completed"
    },
    "tags": []
   },
   "outputs": [
    {
     "name": "stdout",
     "output_type": "stream",
     "text": [
      "M. Cecil  ->  M. Cecil  |  ['M. Cecil']\n",
      "M. Flock  ->  M. Flock  |  ['M. Flock']\n",
      "Arxiv has 46 new papers today\n",
      "          1 with possible author matches\n"
     ]
    }
   ],
   "source": [
    "new_papers = get_new_papers()\n",
    "# add manual references\n",
    "add_paper_refs = []\n",
    "new_papers.extend([get_paper_from_identifier(k) for k in add_paper_refs])\n",
    "\n",
    "def robust_call(fn, value, *args, **kwargs):\n",
    "    try:\n",
    "        return fn(value, *args, **kwargs)\n",
    "    except Exception:\n",
    "        return value\n",
    "\n",
    "candidates = []\n",
    "for paperk in new_papers:\n",
    "    # Check author list with their initials\n",
    "    normed_author_list = [robust_call(mpia.get_initials, k) for k in paperk['authors']]\n",
    "    hl_authors = highlight_authors_in_list(normed_author_list, mpia_authors, verbose=True)\n",
    "    matches = [(hl, orig) for hl, orig in zip(hl_authors, paperk['authors']) if 'mark' in hl]\n",
    "    paperk['authors'] = hl_authors\n",
    "    if matches:\n",
    "        # only select paper if an author matched our list\n",
    "        candidates.append(paperk)\n",
    "print(\"\"\"Arxiv has {0:,d} new papers today\"\"\".format(len(new_papers)))        \n",
    "print(\"\"\"          {0:,d} with possible author matches\"\"\".format(len(candidates)))"
   ]
  },
  {
   "cell_type": "markdown",
   "id": "3543b34a",
   "metadata": {
    "papermill": {
     "duration": 0.003033,
     "end_time": "2024-11-11T04:11:02.411205",
     "exception": false,
     "start_time": "2024-11-11T04:11:02.408172",
     "status": "completed"
    },
    "tags": []
   },
   "source": [
    "# Parse sources and generate relevant outputs\n",
    "\n",
    "From the candidates, we do the following steps:\n",
    "* get their tarball from ArXiv (and extract data)\n",
    "* find the main .tex file: find one with \\documentclass{...} (sometimes it's non trivial)\n",
    "* Check affiliations with :func:`validation`, which uses :func:`mpia.affiliation_verifications`\n",
    "* If passing the affiliations: we parse the .tex source\n",
    "   * inject sub-documents into the main (flatten the main document)\n",
    "   * parse structure, extract information (title, abstract, authors, figures...)\n",
    "   * handles `\\graphicspath` if provided\n",
    "* Generate the .md document."
   ]
  },
  {
   "cell_type": "code",
   "execution_count": 5,
   "id": "9576b79e",
   "metadata": {
    "execution": {
     "iopub.execute_input": "2024-11-11T04:11:02.418406Z",
     "iopub.status.busy": "2024-11-11T04:11:02.417971Z",
     "iopub.status.idle": "2024-11-11T04:12:00.463098Z",
     "shell.execute_reply": "2024-11-11T04:12:00.462306Z"
    },
    "papermill": {
     "duration": 58.053505,
     "end_time": "2024-11-11T04:12:00.467795",
     "exception": false,
     "start_time": "2024-11-11T04:11:02.414290",
     "status": "completed"
    },
    "scrolled": false,
    "tags": []
   },
   "outputs": [
    {
     "data": {
      "application/vnd.jupyter.widget-view+json": {
       "model_id": "db43e7c4ea9843c482519a4c581ace14",
       "version_major": 2,
       "version_minor": 0
      },
      "text/plain": [
       "  0%|          | 0/1 [00:00<?, ?it/s]"
      ]
     },
     "metadata": {},
     "output_type": "display_data"
    },
    {
     "name": "stdout",
     "output_type": "stream",
     "text": [
      "Retrieving document from  https://arxiv.org/e-print/2411.05444\n"
     ]
    },
    {
     "name": "stdout",
     "output_type": "stream",
     "text": [
      "extracting tarball to tmp_2411.05444..."
     ]
    },
    {
     "name": "stdout",
     "output_type": "stream",
     "text": [
      " done.\n"
     ]
    },
    {
     "name": "stderr",
     "output_type": "stream",
     "text": [
      "/opt/hostedtoolcache/Python/3.9.20/x64/lib/python3.9/site-packages/arxiv_on_deck_2/latex.py:488: LatexWarning: Error parsing the document directly. Trying to recover.\n",
      "  warnings.warn(LatexWarning(f\"Error parsing the document directly. Trying to recover.\"))\n"
     ]
    },
    {
     "name": "stdout",
     "output_type": "stream",
     "text": [
      "✔ → 0:header\n",
      "  ↳ 4205:\\section{Introduction} \\label{sec:introduction}\n",
      "✔ → 4205:\\section{Introduction} \\label{sec:introduction}\n",
      "  ↳ 12604:\\section{Method}\\label{sec:method}\n"
     ]
    },
    {
     "name": "stdout",
     "output_type": "stream",
     "text": [
      "✔ → 12604:\\section{Method}\\label{sec:method}\n",
      "  ↳ 32606:\\section{Results}\\label{sec:results}\n"
     ]
    },
    {
     "name": "stdout",
     "output_type": "stream",
     "text": [
      "✔ → 32606:\\section{Results}\\label{sec:results}\n",
      "  ↳ 74432:\\section{Discussion}\\label{sec:discussion}\n"
     ]
    },
    {
     "name": "stdout",
     "output_type": "stream",
     "text": [
      "✔ → 74432:\\section{Discussion}\\label{sec:discussion}\n",
      "  ↳ 120398:\\section{Conclusion} \\label{sec:conclusion}\n",
      "✔ → 120398:\\section{Conclusion} \\label{sec:conclusion}\n",
      "  ↳ 124331:\\begin{appendix}\n",
      "✔ → 124331:\\begin{appendix}\n",
      "  ↳ 124369:\\section{Gas opacity} \\label{sec:app_opac}\n",
      "✔ → 124369:\\section{Gas opacity} \\label{sec:app_opac}\n",
      "  ↳ 125488:\\section{Updated computation of $f_\\mathrm{D2G}$} \\label{app:tau_thresh}\n"
     ]
    },
    {
     "name": "stdout",
     "output_type": "stream",
     "text": [
      "✔ → 125488:\\section{Updated computation of $f_\\mathrm{D2G}$} \\label{app:tau_thresh}\n",
      "  ↳ 128887:end\n"
     ]
    },
    {
     "name": "stdout",
     "output_type": "stream",
     "text": [
      "Found 94 bibliographic references in tmp_2411.05444/main.bbl.\n"
     ]
    }
   ],
   "source": [
    "documents = []\n",
    "failed = []\n",
    "for paper in tqdm(candidates):\n",
    "    # debug crap\n",
    "    paper['identifier'] = paper['identifier'].lower().replace('arxiv:', '').replace(r'\\n', '').strip()\n",
    "    paper_id = paper['identifier']\n",
    "    \n",
    "    folder = f'tmp_{paper_id}'\n",
    "\n",
    "    try:\n",
    "        if not os.path.isdir(folder):\n",
    "            folder = retrieve_document_source(f\"{paper_id}\", f'tmp_{paper_id}')\n",
    "        \n",
    "        try:\n",
    "            doc = latex.LatexDocument(folder, validation=validation)    \n",
    "        except AffiliationError as affilerror:\n",
    "            msg = f\"ArXiv:{paper_id:s} is not an MPIA paper... \" + str(affilerror)\n",
    "            failed.append((paper, \"affiliation error: \" + str(affilerror) ))\n",
    "            continue\n",
    "        \n",
    "        # Hack because sometimes author parsing does not work well\n",
    "        if (len(doc.authors) != len(paper['authors'])):\n",
    "            doc._authors = paper['authors']\n",
    "        else:\n",
    "            # highlight authors (FIXME: doc.highlight_authors)\n",
    "            # done on arxiv paper already\n",
    "            doc._authors = highlight_authors_in_list(\n",
    "                [get_initials(k) for k in doc.authors], \n",
    "                mpia_authors, verbose=True)\n",
    "        if (doc.abstract) in (None, ''):\n",
    "            doc._abstract = paper['abstract']\n",
    "            \n",
    "        doc.comment = (get_markdown_badge(paper_id) + \n",
    "                       \"<mark>Appeared on: \" + paper['date'] + \"</mark> - \")\n",
    "        if paper['comments']:\n",
    "            doc.comment += \" _\" + paper['comments'] + \"_\"\n",
    "        \n",
    "        full_md = doc.generate_markdown_text()\n",
    "        \n",
    "        full_md += get_markdown_qrcode(paper_id)\n",
    "        \n",
    "        # replace citations\n",
    "        try:\n",
    "            bibdata = latex_bib.LatexBib.from_doc(doc)\n",
    "            full_md = latex_bib.replace_citations(full_md, bibdata)\n",
    "        except Exception as e:\n",
    "            print(\"Issues with the citations\")\n",
    "            print(e)\n",
    "        \n",
    "        documents.append((paper_id, full_md))\n",
    "    except Exception as e:\n",
    "        warnings.warn(latex.LatexWarning(f\"{paper_id:s} did not run properly\\n\" +\n",
    "                                         str(e)\n",
    "                                        ))\n",
    "        failed.append((paper, \"latex error \" + str(e)))"
   ]
  },
  {
   "cell_type": "markdown",
   "id": "2505a25c",
   "metadata": {
    "papermill": {
     "duration": 0.003798,
     "end_time": "2024-11-11T04:12:00.475495",
     "exception": false,
     "start_time": "2024-11-11T04:12:00.471697",
     "status": "completed"
    },
    "tags": []
   },
   "source": [
    "### Export the logs\n",
    "\n",
    "Throughout, we also keep track of the logs per paper. see `logs-{today date}.md` "
   ]
  },
  {
   "cell_type": "code",
   "execution_count": 6,
   "id": "d733828a",
   "metadata": {
    "execution": {
     "iopub.execute_input": "2024-11-11T04:12:00.484262Z",
     "iopub.status.busy": "2024-11-11T04:12:00.483638Z",
     "iopub.status.idle": "2024-11-11T04:12:00.494511Z",
     "shell.execute_reply": "2024-11-11T04:12:00.493908Z"
    },
    "papermill": {
     "duration": 0.016293,
     "end_time": "2024-11-11T04:12:00.495488",
     "exception": false,
     "start_time": "2024-11-11T04:12:00.479195",
     "status": "completed"
    },
    "scrolled": false,
    "tags": []
   },
   "outputs": [
    {
     "data": {
      "text/markdown": [
       "## Successful papers"
      ],
      "text/plain": [
       "<IPython.core.display.Markdown object>"
      ]
     },
     "metadata": {},
     "output_type": "display_data"
    },
    {
     "data": {
      "text/markdown": [
       "\n",
       "|||\n",
       "|---:|:---|\n",
       "| [![arXiv](https://img.shields.io/badge/arXiv-2411.05444-b31b1b.svg)](https://arxiv.org/abs/2411.05444) | **Variability of the inner dead zone edge in 2D radiation hydrodynamic simulations**  |\n",
       "|| <mark>M. Cecil</mark>, <mark>M. Flock</mark> |\n",
       "|*Appeared on*| *2024-11-11*|\n",
       "|*Comments*| *20 pages, 15 figures, accepted for publication in A&A*|\n",
       "|**Abstract**|            The inner regions of protoplanetary disks are prone to thermal instability (TI), which can significantly impact the thermal and dynamic evolution of planet-forming regions. Observable as episodic accretion outbursts, such periodic disturbances shape the disk's vertical and radial structure. We investigate the stability of the inner disk edge around a Class II T Tauri star and analyse the consequences of TI on the inner disk's evolution in both the vertical and radial dimensions. A particular focus is laid on the emergence and destruction of solid-trapping pressure maxima. Our 2D axisymmetric radiation hydrodynamic models include the transition to the dead zone from a highly turbulent inner disk, heating by both stellar irradiation and viscous dissipation, vertical and radial radiative transport and an adaptive dust-to-gas mass ratio. The simulated time frames include both the TI- and quiescent phases. We track the TI on S-curves of thermal stability. The TI in our models can develop in disks with moderate accretion rates and results from the activation of the magnetorotational instability (MRI) in the dead zone. The TI creates an extensive MRI active region around the midplane and disrupts the stable pebble- and migration trap at the inner edge of the dead zone. Our simulations consistently show the occurrence of TI-reflares, which, together with the initial TI, produce pressure maxima in the inner disk within 1 AU, possibly providing favourable conditions for streaming instability. On a timescale of a few thousand years, TI regularly disrupts the disk's radial and vertical structure within 1 AU. While several pressure maxima are created, stable migration traps are destroyed and reinstated after the TI phase. Our models provide a foundation for more detailed investigations into phenomena such as short-term variability of accretion rates.         |"
      ],
      "text/plain": [
       "[2411.05444] Variability of the inner dead zone edge in 2D radiation hydrodynamic simulations\n",
       "\t<mark>M. Cecil</mark>, <mark>M. Flock</mark>"
      ]
     },
     "metadata": {},
     "output_type": "display_data"
    },
    {
     "data": {
      "text/markdown": [
       "## Failed papers"
      ],
      "text/plain": [
       "<IPython.core.display.Markdown object>"
      ]
     },
     "metadata": {},
     "output_type": "display_data"
    }
   ],
   "source": [
    "import datetime\n",
    "today = str(datetime.date.today())\n",
    "logfile = f\"_build/html/logs/log-{today}.md\"\n",
    "\n",
    "\n",
    "with open(logfile, 'w') as logs:\n",
    "    # Success\n",
    "    logs.write(f'# Arxiv on Deck 2: Logs - {today}\\n\\n')\n",
    "    logs.write(\"\"\"* Arxiv had {0:,d} new papers\\n\"\"\".format(len(new_papers)))\n",
    "    logs.write(\"\"\"    * {0:,d} with possible author matches\\n\\n\"\"\".format(len(candidates)))\n",
    "    logs.write(\"## Sucessful papers\\n\\n\")\n",
    "    display(Markdown(\"## Successful papers\"))\n",
    "    success = [k[0] for k in documents]\n",
    "    for candid in candidates:\n",
    "        if candid['identifier'].split(':')[-1] in success:\n",
    "            display(candid)\n",
    "            logs.write(candid.generate_markdown_text() + '\\n\\n')\n",
    "\n",
    "    ## failed\n",
    "    logs.write(\"## Failed papers\\n\\n\")\n",
    "    display(Markdown(\"## Failed papers\"))\n",
    "    failed = sorted(failed, key=lambda x: x[1])\n",
    "    current_reason = \"\"\n",
    "    for paper, reason in failed:\n",
    "        if 'affiliation' in reason:\n",
    "            color = 'green'\n",
    "        else:\n",
    "            color = 'red'\n",
    "        data = Markdown(\n",
    "                paper.generate_markdown_text() + \n",
    "                f'\\n|<p style=\"color:{color:s}\"> **ERROR** </p>| <p style=\"color:{color:s}\">{reason:s}</p> |'\n",
    "               )\n",
    "        if reason != current_reason:\n",
    "            logs.write(f'### {reason:s} \\n\\n')\n",
    "            current_reason = reason\n",
    "        logs.write(data.data + '\\n\\n')\n",
    "        \n",
    "        # only display here the important errors (all in logs)\n",
    "        # if color in ('red',):\n",
    "        display(data)"
   ]
  },
  {
   "cell_type": "markdown",
   "id": "472d20ee",
   "metadata": {
    "papermill": {
     "duration": 0.003964,
     "end_time": "2024-11-11T04:12:00.503493",
     "exception": false,
     "start_time": "2024-11-11T04:12:00.499529",
     "status": "completed"
    },
    "tags": []
   },
   "source": [
    "## Export documents\n",
    "\n",
    "We now write the .md files and export relevant images"
   ]
  },
  {
   "cell_type": "code",
   "execution_count": 7,
   "id": "d426aed9",
   "metadata": {
    "execution": {
     "iopub.execute_input": "2024-11-11T04:12:00.512377Z",
     "iopub.status.busy": "2024-11-11T04:12:00.512020Z",
     "iopub.status.idle": "2024-11-11T04:12:00.518724Z",
     "shell.execute_reply": "2024-11-11T04:12:00.518089Z"
    },
    "papermill": {
     "duration": 0.012318,
     "end_time": "2024-11-11T04:12:00.519800",
     "exception": false,
     "start_time": "2024-11-11T04:12:00.507482",
     "status": "completed"
    },
    "tags": []
   },
   "outputs": [],
   "source": [
    "def export_markdown_summary(md: str, md_fname:str, directory: str):\n",
    "    \"\"\"Export MD document and associated relevant images\"\"\"\n",
    "    import os\n",
    "    import shutil\n",
    "    import re\n",
    "\n",
    "    if (os.path.exists(directory) and not os.path.isdir(directory)):\n",
    "        raise RuntimeError(f\"a non-directory file exists with name {directory:s}\")\n",
    "\n",
    "    if (not os.path.exists(directory)):\n",
    "        print(f\"creating directory {directory:s}\")\n",
    "        os.mkdir(directory)\n",
    "\n",
    "    fig_fnames = (re.compile(r'\\[Fig.*\\]\\((.*)\\)').findall(md) + \n",
    "                  re.compile(r'\\<img src=\"([^>\\s]*)\"[^>]*/>').findall(md))\n",
    "    print(\"found figures\", fig_fnames)\n",
    "    for fname in fig_fnames:\n",
    "        if 'http' in fname:\n",
    "            # No need to copy online figures\n",
    "            continue\n",
    "        if not os.path.exists(fname):\n",
    "            print(\"file not found\", fname)\n",
    "            continue\n",
    "        print(\"copying \", fname, \"to\", directory)\n",
    "        destdir = os.path.join(directory, os.path.dirname(fname))\n",
    "        destfname = os.path.join(destdir, os.path.basename(fname))\n",
    "        try:\n",
    "            os.makedirs(destdir)\n",
    "        except FileExistsError:\n",
    "            pass\n",
    "        shutil.copy(fname, destfname)\n",
    "    with open(os.path.join(directory, md_fname), 'w') as fout:\n",
    "        fout.write(md)\n",
    "    print(\"exported in \", os.path.join(directory, md_fname))\n",
    "    [print(\"    + \" + os.path.join(directory,fk)) for fk in fig_fnames]"
   ]
  },
  {
   "cell_type": "code",
   "execution_count": 8,
   "id": "014d04a4",
   "metadata": {
    "execution": {
     "iopub.execute_input": "2024-11-11T04:12:00.528765Z",
     "iopub.status.busy": "2024-11-11T04:12:00.528353Z",
     "iopub.status.idle": "2024-11-11T04:12:00.535137Z",
     "shell.execute_reply": "2024-11-11T04:12:00.534590Z"
    },
    "papermill": {
     "duration": 0.012298,
     "end_time": "2024-11-11T04:12:00.536114",
     "exception": false,
     "start_time": "2024-11-11T04:12:00.523816",
     "status": "completed"
    },
    "tags": []
   },
   "outputs": [
    {
     "name": "stdout",
     "output_type": "stream",
     "text": [
      "found figures ['tmp_2411.05444/./figures/fig_sigmacompare_burst_big.png', 'tmp_2411.05444/./figures/fig_burststructure.png', 'tmp_2411.05444/./figures/fig_accr_rate_outsets_allnewtimes.png']\n",
      "copying  tmp_2411.05444/./figures/fig_sigmacompare_burst_big.png to _build/html/\n",
      "copying  tmp_2411.05444/./figures/fig_burststructure.png to _build/html/\n",
      "copying  tmp_2411.05444/./figures/fig_accr_rate_outsets_allnewtimes.png to _build/html/\n",
      "exported in  _build/html/2411.05444.md\n",
      "    + _build/html/tmp_2411.05444/./figures/fig_sigmacompare_burst_big.png\n",
      "    + _build/html/tmp_2411.05444/./figures/fig_burststructure.png\n",
      "    + _build/html/tmp_2411.05444/./figures/fig_accr_rate_outsets_allnewtimes.png\n"
     ]
    }
   ],
   "source": [
    "for paper_id, md in documents:\n",
    "    export_markdown_summary(md, f\"{paper_id:s}.md\", '_build/html/')"
   ]
  },
  {
   "cell_type": "markdown",
   "id": "f087a0a7",
   "metadata": {
    "papermill": {
     "duration": 0.004115,
     "end_time": "2024-11-11T04:12:00.544377",
     "exception": false,
     "start_time": "2024-11-11T04:12:00.540262",
     "status": "completed"
    },
    "tags": []
   },
   "source": [
    "## Display the papers\n",
    "\n",
    "Not necessary but allows for a quick check."
   ]
  },
  {
   "cell_type": "code",
   "execution_count": 9,
   "id": "fd25f625",
   "metadata": {
    "execution": {
     "iopub.execute_input": "2024-11-11T04:12:00.553509Z",
     "iopub.status.busy": "2024-11-11T04:12:00.553099Z",
     "iopub.status.idle": "2024-11-11T04:12:00.557619Z",
     "shell.execute_reply": "2024-11-11T04:12:00.556989Z"
    },
    "papermill": {
     "duration": 0.010224,
     "end_time": "2024-11-11T04:12:00.558666",
     "exception": false,
     "start_time": "2024-11-11T04:12:00.548442",
     "status": "completed"
    },
    "scrolled": false,
    "tags": []
   },
   "outputs": [
    {
     "data": {
      "text/markdown": [
       "<div class=\"macros\" style=\"visibility:hidden;\">\n",
       "$\\newcommand{\\ensuremath}{}$\n",
       "$\\newcommand{\\xspace}{}$\n",
       "$\\newcommand{\\object}[1]{\\texttt{#1}}$\n",
       "$\\newcommand{\\farcs}{{.}''}$\n",
       "$\\newcommand{\\farcm}{{.}'}$\n",
       "$\\newcommand{\\arcsec}{''}$\n",
       "$\\newcommand{\\arcmin}{'}$\n",
       "$\\newcommand{\\ion}[2]{#1#2}$\n",
       "$\\newcommand{\\textsc}[1]{\\textrm{#1}}$\n",
       "$\\newcommand{\\hl}[1]{\\textrm{#1}}$\n",
       "$\\newcommand{\\footnote}[1]{}$\n",
       "$\\newcommand{\\vect}[1]{\\mathbf{#1}}$\n",
       "$\\newcommand{\\rot}[1]{\\vect{\\nabla}\\times{#1}}$\n",
       "$\\newcommand$\n",
       "$\\newcommand{\\sref}[1]{Sec.~\\ref{#1}}$\n",
       "$\\newcommand{\\tab}[1]{Table~\\ref{#1}}$\n",
       "$\\newcommand{\\fig}[1]{Fig.~\\ref{#1}}$\n",
       "$\\newcommand{\\equ}[1]{Eq.~(\\ref{#1})}$\n",
       "$\\newcommand{\\equo}[1]{Eq.~\\ref{#1}}$\n",
       "$\\newcommand{\\equs}[2]{Eqs.~(\\ref{#1})~-~(\\ref{#2})}$\n",
       "$\\newcommand{\\equos}[2]{Eqs.~\\ref{#1}~-~\\ref{#2}}$\n",
       "$\\newcommand{\\Msunpyr}{\\mathrm{M_\\odot/yr}}$\n",
       "$\\newcommand{\\colout}[1]{\\bgroup\\markoverwith{\\textcolor{#1}{\\rule[.5ex]{2pt}{0.4pt}}}\\ULon}$\n",
       "$\\newcommand{\\pder}[2][]{\\frac{\\partial#1}{\\partial#2}}$\n",
       "$\\newcommand{\\grad}[1]{\\nabla{#1}}$\n",
       "$\\newcommand{\\div}[1]{\\nabla\\cdot\\mathchoice{#1}}$\n",
       "$\\newcommand{\\arraystretch}{1.5}$\n",
       "$\\newcommand{\\arraystretch}{1.5}$\n",
       "$\\newcommand{\\cs}{c_{\\sf s}}$\n",
       "$\\newcommand{\\Teff}{T_{\\sf eff}}$</div>\n",
       "\n",
       "\n",
       "\n",
       "<div id=\"title\">\n",
       "\n",
       "# Variability of the inner dead zone edge in 2D radiation hydrodynamic simulations\n",
       "\n",
       "</div>\n",
       "<div id=\"comments\">\n",
       "\n",
       "[![arXiv](https://img.shields.io/badge/arXiv-2411.05444-b31b1b.svg)](https://arxiv.org/abs/2411.05444)<mark>Appeared on: 2024-11-11</mark> -  _20 pages, 15 figures, accepted for publication in A&A_\n",
       "\n",
       "</div>\n",
       "<div id=\"authors\">\n",
       "\n",
       "<mark>M. Cecil</mark>, <mark>M. Flock</mark>\n",
       "\n",
       "</div>\n",
       "<div id=\"abstract\">\n",
       "\n",
       "**Abstract:** The inner regions of protoplanetary disks are prone to thermal instability (TI), which can significantly impact the thermal and dynamical evolution of planet-forming regions. Observable as episodic accretion outbursts, such periodic disturbances shape the disk's vertical and radial structure. We investigate the stability of the inner disk edge around a Class II T Tauri star and analyse the consequences of TI on the thermal and dynamic evolution in both the vertical and radial dimensions. A particular focus is laid on the emergence and destruction of solid-trapping pressure maxima. We conduct 2D axisymmetric radiation hydrodynamic simulations of the inner disk in a radial range of 0.05 AU to 10 AU. The models include a highly turbulent inner region, the transition to the dead zone, heating by both stellar irradiation and viscous dissipation, vertical and radial radiative transport and tracking of the dust-to-gas mass ratio at every location. The simulated time frames include both the TI phase and the quiescent phase between TI cycles. We track the TI on S-curves of thermal stability. TI can develop in disks with accretion rates of $\\geq 3.6\\cdot 10^{-9} \\mathrm{M}_\\odot \\mathrm{yr}^{-1}$ and results from the activation of the magnetorotational instability (MRI) in the dead zone after the accumulation of material beyond the MRI transition. The TI creates an extensive MRI active region around the midplane and disrupts the stable pebble- and migration trap at the inner edge of the dead zone. Our simulations consistently show the occurrence of TI-reflares, which, together with the initial TI, produce pressure maxima in the inner disk within 1 AU, possibly providing favourable conditions for streaming instability. During the TI phase, the dust content in the ignited regions adapts itself in order to create a new thermal equilibrium manifested on the upper branch of the S-curve. In these instances, we find a simple relation between the gas- and dust-surface density. On a timescale of a few thousand years, TI regularly disrupts the radial and vertical structure of the disk within 1 AU. While several pressure maxima are created, stable migration traps are destroyed and reinstated after the TI phase. Our models provide a foundation for more detailed investigations into phenomena such as short-term variability of accretion rates.\n",
       "\n",
       "</div>\n",
       "\n",
       "<div id=\"div_fig1\">\n",
       "\n",
       "<img src=\"tmp_2411.05444/./figures/fig_sigmacompare_burst_big.png\" alt=\"Fig1\" width=\"100%\"/>\n",
       "\n",
       "**Figure 1. -** Surface density profiles of models with different $\\dot{M}_\\mathrm{init}$ at distinct evolutionary stages. Panel a shows the initial configuration for all models, while panel b presents their structure after the first TI and the subsequent diffusion of the resulting density bumps. Panel c compares the surface density of \\texttt{MREF} and \\texttt{M3} at the start of their respective second TI cycle, and panel d shows the structure of both models after they have become quiescent again (similar to panel b). In all cases, the TI phase persists until enough mass has been accreted so that the surface density does not exceed $\\Sigma_\\mathrm{cut}$. (*fig:sigmacompare_mdots*)\n",
       "\n",
       "</div>\n",
       "<div id=\"div_fig2\">\n",
       "\n",
       "<img src=\"tmp_2411.05444/./figures/fig_burststructure.png\" alt=\"Fig14\" width=\"100%\"/>\n",
       "\n",
       "**Figure 14. -** \n",
       "    Temperature maps (upper row) and corresponding surface density profiles (lower row) for four snapshots in time during an outburst event. In the upper row, the black contour lines correspond to $T=T_\\mathrm{MRI}$, the yellow ones to $T=T_\\mathrm{S}$ and the green ones to a radial optical depth of $\\tau_*=2/3$. $t_\\mathrm{TI}$ is chosen to be the point in time at which the thermal instability is triggered. The second column shows the state of the disk at the time the MRI-active region has reached its largest extent during the main burst ($t_\\mathrm{c}$). The third column represents the stage of the ignition of the first reflare ($t_\\mathrm{refl}$), the maximum extent of which is reached at the time depicted in column four. The state of the disk shortly after the instability has ended is shown in column five.\n",
       "     (*fig:burststructure*)\n",
       "\n",
       "</div>\n",
       "<div id=\"div_fig3\">\n",
       "\n",
       "<img src=\"tmp_2411.05444/./figures/fig_accr_rate_outsets_allnewtimes.png\" alt=\"Fig13\" width=\"100%\"/>\n",
       "\n",
       "**Figure 13. -** Evolution of the accretion rate (panel a) and the position of the dead zone inner edge at the midplane (panel b) for the four different models analysed in this work. Panels a1 and b1 show a zoom-in to the time frame in which the TI-induced accretion event is occurring in the \\texttt{MREF} model. The vertical dashed lines in panel a1 indicate the times corresponding to the ignition of the TI ($t_\\mathrm{TI}$), the heating front reaching its largest extent and a cooling front starting to develop ($t_\\mathrm{c}$), the retreat of the cooling front towards the star ($t_\\mathrm{ret}$) and the ignition of the first reflare ($t_\\mathrm{refl}$). In panel a, the vertical dashed lines mark the points in time for which the surface profiles of the \\texttt{MREF} model in panels b ($t_\\mathrm{cut1}$) and d ($t_\\mathrm{cut2}$) of Fig. \\ref{fig:sigmacompare_mdots} are shown. (*fig:accr_rate_inset*)\n",
       "\n",
       "</div><div id=\"qrcode\"><img src=https://api.qrserver.com/v1/create-qr-code/?size=100x100&data=\"https://arxiv.org/abs/2411.05444\"></div>"
      ],
      "text/plain": [
       "<IPython.core.display.Markdown object>"
      ]
     },
     "metadata": {},
     "output_type": "display_data"
    }
   ],
   "source": [
    "[display(Markdown(k[1])) for k in documents];"
   ]
  },
  {
   "cell_type": "markdown",
   "id": "873873a4",
   "metadata": {
    "papermill": {
     "duration": 0.004288,
     "end_time": "2024-11-11T04:12:00.567326",
     "exception": false,
     "start_time": "2024-11-11T04:12:00.563038",
     "status": "completed"
    },
    "tags": []
   },
   "source": [
    "# Create HTML index"
   ]
  },
  {
   "cell_type": "code",
   "execution_count": 10,
   "id": "cf665672",
   "metadata": {
    "execution": {
     "iopub.execute_input": "2024-11-11T04:12:00.577272Z",
     "iopub.status.busy": "2024-11-11T04:12:00.576794Z",
     "iopub.status.idle": "2024-11-11T04:12:00.584624Z",
     "shell.execute_reply": "2024-11-11T04:12:00.584100Z"
    },
    "papermill": {
     "duration": 0.013743,
     "end_time": "2024-11-11T04:12:00.585593",
     "exception": false,
     "start_time": "2024-11-11T04:12:00.571850",
     "status": "completed"
    },
    "tags": []
   },
   "outputs": [
    {
     "name": "stdout",
     "output_type": "stream",
     "text": [
      "243  publications files modified in the last 7 days.\n"
     ]
    }
   ],
   "source": [
    "from datetime import datetime, timedelta, timezone\n",
    "from glob import glob\n",
    "import os\n",
    "\n",
    "files = glob('_build/html/*.md')\n",
    "days = 7\n",
    "now = datetime.today()\n",
    "res = []\n",
    "for fk in files:\n",
    "    stat_result = os.stat(fk).st_ctime\n",
    "    modified = datetime.fromtimestamp(stat_result, tz=timezone.utc).replace(tzinfo=None)\n",
    "    delta = now.today() - modified\n",
    "    if delta <= timedelta(days=days):\n",
    "        res.append((delta.seconds, fk))\n",
    "res = [k[1] for k in reversed(sorted(res, key=lambda x:x[1]))]\n",
    "npub = len(res)\n",
    "print(len(res), f\" publications files modified in the last {days:d} days.\")\n",
    "# [ print('\\t', k) for k in res ];"
   ]
  },
  {
   "cell_type": "code",
   "execution_count": 11,
   "id": "015de740",
   "metadata": {
    "execution": {
     "iopub.execute_input": "2024-11-11T04:12:00.595209Z",
     "iopub.status.busy": "2024-11-11T04:12:00.594840Z",
     "iopub.status.idle": "2024-11-11T04:12:00.611202Z",
     "shell.execute_reply": "2024-11-11T04:12:00.610680Z"
    },
    "papermill": {
     "duration": 0.022177,
     "end_time": "2024-11-11T04:12:00.612165",
     "exception": false,
     "start_time": "2024-11-11T04:12:00.589988",
     "status": "completed"
    },
    "tags": []
   },
   "outputs": [
    {
     "name": "stdout",
     "output_type": "stream",
     "text": [
      "6  publications in the last 7 days.\n"
     ]
    }
   ],
   "source": [
    "import datetime\n",
    "from glob import glob\n",
    "\n",
    "def get_last_n_days(lst, days=1):\n",
    "    \"\"\" Get the documents from the last n days \"\"\"\n",
    "    sorted_lst = sorted(lst, key=lambda x: x[1], reverse=True)\n",
    "    for fname, date in sorted_lst:\n",
    "        if date >= str(datetime.date.today() - datetime.timedelta(days=days)):\n",
    "            yield fname\n",
    "\n",
    "def extract_appearance_dates(lst_file):\n",
    "    dates = []\n",
    "\n",
    "    def get_date(line):\n",
    "        return line\\\n",
    "            .split('Appeared on:')[-1]\\\n",
    "            .split('</mark>')[0].strip()\n",
    "\n",
    "    for fname in lst:\n",
    "        with open(fname, 'r') as f:\n",
    "            found_date = False\n",
    "            for line in f:\n",
    "                if not found_date:\n",
    "                    if \"Appeared on\" in line:\n",
    "                        found_date = True\n",
    "                        dates.append((fname, get_date(line)))\n",
    "                else:\n",
    "                    break\n",
    "    return dates\n",
    "\n",
    "from glob import glob\n",
    "lst = glob('_build/html/*md')\n",
    "days = 7\n",
    "dates = extract_appearance_dates(lst)\n",
    "res = list(get_last_n_days(dates, days))\n",
    "npub = len(res)\n",
    "print(len(res), f\" publications in the last {days:d} days.\")"
   ]
  },
  {
   "cell_type": "code",
   "execution_count": 12,
   "id": "52ca0208",
   "metadata": {
    "execution": {
     "iopub.execute_input": "2024-11-11T04:12:00.622221Z",
     "iopub.status.busy": "2024-11-11T04:12:00.621808Z",
     "iopub.status.idle": "2024-11-11T04:12:00.626468Z",
     "shell.execute_reply": "2024-11-11T04:12:00.625937Z"
    },
    "papermill": {
     "duration": 0.010832,
     "end_time": "2024-11-11T04:12:00.627481",
     "exception": false,
     "start_time": "2024-11-11T04:12:00.616649",
     "status": "completed"
    },
    "scrolled": false,
    "tags": []
   },
   "outputs": [],
   "source": [
    "def create_carousel(npub=4):\n",
    "    \"\"\" Generate the HTML code for a carousel with `npub` slides \"\"\"\n",
    "    carousel = [\"\"\"  <div class=\"carousel\" \"\"\",\n",
    "                \"\"\"       data-flickity='{ \"autoPlay\": 10000, \"adaptiveHeight\": true, \"resize\": true, \"wrapAround\": true, \"pauseAutoPlayOnHover\": true, \"groupCells\": 1 }' id=\"asyncTypeset\">\"\"\"\n",
    "                ]\n",
    "    \n",
    "    item_str = \"\"\"    <div class=\"carousel-cell\"> <div id=\"slide{k}\" class=\"md_view\">Content {k}</div> </div>\"\"\"\n",
    "    for k in range(1, npub + 1):\n",
    "        carousel.append(item_str.format(k=k))\n",
    "    carousel.append(\"  </div>\")\n",
    "    return '\\n'.join(carousel)\n",
    "\n",
    "def create_grid(npub=4):\n",
    "    \"\"\" Generate the HTML code for a flat grid with `npub` slides \"\"\"\n",
    "    grid = [\"\"\"  <div class=\"grid\"> \"\"\",\n",
    "                ]\n",
    "    \n",
    "    item_str = \"\"\"    <div class=\"grid-item\"> <div id=\"slide{k}\" class=\"md_view\">Content {k}</div> </div>\"\"\"\n",
    "    for k in range(1, npub + 1):\n",
    "        grid.append(item_str.format(k=k))\n",
    "    grid.append(\"  </div>\")\n",
    "    return '\\n'.join(grid)"
   ]
  },
  {
   "cell_type": "code",
   "execution_count": 13,
   "id": "a6eac5b6",
   "metadata": {
    "execution": {
     "iopub.execute_input": "2024-11-11T04:12:00.637501Z",
     "iopub.status.busy": "2024-11-11T04:12:00.637104Z",
     "iopub.status.idle": "2024-11-11T04:12:00.642077Z",
     "shell.execute_reply": "2024-11-11T04:12:00.641463Z"
    },
    "papermill": {
     "duration": 0.011054,
     "end_time": "2024-11-11T04:12:00.643066",
     "exception": false,
     "start_time": "2024-11-11T04:12:00.632012",
     "status": "completed"
    },
    "scrolled": false,
    "tags": []
   },
   "outputs": [],
   "source": [
    "carousel = create_carousel(npub)\n",
    "docs = ', '.join(['\"{0:s}\"'.format(k.split('/')[-1]) for k in res])\n",
    "slides = ', '.join([f'\"slide{k}\"' for k in range(1, npub + 1)])\n",
    "\n",
    "with open(\"daily_template.html\", \"r\") as tpl:\n",
    "    page = tpl.read()\n",
    "    page = page.replace(\"{%-- carousel:s --%}\", carousel)\\\n",
    "               .replace(\"{%-- suptitle:s --%}\",  \"7-day archives\" )\\\n",
    "               .replace(\"{%-- docs:s --%}\", docs)\\\n",
    "               .replace(\"{%-- slides:s --%}\", slides)\n",
    "    \n",
    "with open(\"_build/html/index_7days.html\", 'w') as fout:\n",
    "    fout.write(page)"
   ]
  },
  {
   "cell_type": "code",
   "execution_count": 14,
   "id": "adc1a1ec",
   "metadata": {
    "execution": {
     "iopub.execute_input": "2024-11-11T04:12:00.653161Z",
     "iopub.status.busy": "2024-11-11T04:12:00.652638Z",
     "iopub.status.idle": "2024-11-11T04:12:00.659085Z",
     "shell.execute_reply": "2024-11-11T04:12:00.658480Z"
    },
    "papermill": {
     "duration": 0.01256,
     "end_time": "2024-11-11T04:12:00.660151",
     "exception": false,
     "start_time": "2024-11-11T04:12:00.647591",
     "status": "completed"
    },
    "tags": []
   },
   "outputs": [
    {
     "name": "stdout",
     "output_type": "stream",
     "text": [
      "1  publications in the last day.\n"
     ]
    }
   ],
   "source": [
    "# redo for today\n",
    "days = 1\n",
    "res = list(get_last_n_days(dates, days))\n",
    "npub = len(res)\n",
    "print(len(res), f\" publications in the last day.\")\n",
    "\n",
    "carousel = create_carousel(npub)\n",
    "docs = ', '.join(['\"{0:s}\"'.format(k.split('/')[-1]) for k in res])\n",
    "slides = ', '.join([f'\"slide{k}\"' for k in range(1, npub + 1)])\n",
    "\n",
    "with open(\"daily_template.html\", \"r\") as tpl:\n",
    "    page = tpl.read()\n",
    "    page = page.replace(\"{%-- carousel:s --%}\", carousel)\\\n",
    "               .replace(\"{%-- suptitle:s --%}\",  \"Daily\" )\\\n",
    "               .replace(\"{%-- docs:s --%}\", docs)\\\n",
    "               .replace(\"{%-- slides:s --%}\", slides)\n",
    "    \n",
    "# print(carousel, docs, slides)\n",
    "# print(page)\n",
    "with open(\"_build/html/index_daily.html\", 'w') as fout:\n",
    "    fout.write(page)"
   ]
  },
  {
   "cell_type": "code",
   "execution_count": 15,
   "id": "00eece82",
   "metadata": {
    "execution": {
     "iopub.execute_input": "2024-11-11T04:12:00.670522Z",
     "iopub.status.busy": "2024-11-11T04:12:00.670153Z",
     "iopub.status.idle": "2024-11-11T04:12:00.676254Z",
     "shell.execute_reply": "2024-11-11T04:12:00.675735Z"
    },
    "papermill": {
     "duration": 0.012254,
     "end_time": "2024-11-11T04:12:00.677247",
     "exception": false,
     "start_time": "2024-11-11T04:12:00.664993",
     "status": "completed"
    },
    "scrolled": false,
    "tags": []
   },
   "outputs": [
    {
     "name": "stdout",
     "output_type": "stream",
     "text": [
      "6  6 publications selected.\n"
     ]
    }
   ],
   "source": [
    "# Create the flat grid of the last N papers (fixed number regardless of dates)\n",
    "from itertools import islice \n",
    "\n",
    "npub = 6\n",
    "res = [k[0] for k in (islice(reversed(sorted(dates, key=lambda x: x[1])), 6))]\n",
    "print(len(res), f\" {npub} publications selected.\")\n",
    "\n",
    "grid = create_grid(npub)\n",
    "docs = ', '.join(['\"{0:s}\"'.format(k.split('/')[-1]) for k in res])\n",
    "slides = ', '.join([f'\"slide{k}\"' for k in range(1, npub + 1)])\n",
    "\n",
    "with open(\"grid_template.html\", \"r\") as tpl:\n",
    "    page = tpl.read()\n",
    "    page = page.replace(\"{%-- grid-content:s --%}\", grid)\\\n",
    "               .replace(\"{%-- suptitle:s --%}\",  f\"Last {npub:,d} papers\" )\\\n",
    "               .replace(\"{%-- docs:s --%}\", docs)\\\n",
    "               .replace(\"{%-- slides:s --%}\", slides)\n",
    "    \n",
    "# print(grid, docs, slides)\n",
    "# print(page)\n",
    "with open(\"_build/html/index_npub_grid.html\", 'w') as fout:\n",
    "    fout.write(page)"
   ]
  }
 ],
 "metadata": {
  "kernelspec": {
   "display_name": "Python 3 (ipykernel)",
   "language": "python",
   "name": "python3"
  },
  "language_info": {
   "codemirror_mode": {
    "name": "ipython",
    "version": 3
   },
   "file_extension": ".py",
   "mimetype": "text/x-python",
   "name": "python",
   "nbconvert_exporter": "python",
   "pygments_lexer": "ipython3",
   "version": "3.9.20"
  },
  "papermill": {
   "default_parameters": {},
   "duration": 76.368136,
   "end_time": "2024-11-11T04:12:00.898041",
   "environment_variables": {},
   "exception": null,
   "input_path": "MPIA daily digest.ipynb",
   "output_path": "log.ipynb",
   "parameters": {},
   "start_time": "2024-11-11T04:10:44.529905",
   "version": "2.6.0"
  },
  "vscode": {
   "interpreter": {
    "hash": "aee8b7b246df8f9039afb4144a1f6fd8d2ca17a180786b69acc140d282b71a49"
   }
  },
  "widgets": {
   "application/vnd.jupyter.widget-state+json": {
    "state": {
     "02472cb35abb4ba4a028f50f1a14665f": {
      "model_module": "@jupyter-widgets/controls",
      "model_module_version": "2.0.0",
      "model_name": "HTMLStyleModel",
      "state": {
       "_model_module": "@jupyter-widgets/controls",
       "_model_module_version": "2.0.0",
       "_model_name": "HTMLStyleModel",
       "_view_count": null,
       "_view_module": "@jupyter-widgets/base",
       "_view_module_version": "2.0.0",
       "_view_name": "StyleView",
       "background": null,
       "description_width": "",
       "font_size": null,
       "text_color": null
      }
     },
     "0b20df9d34fd4b8da1c3faf384f30860": {
      "model_module": "@jupyter-widgets/controls",
      "model_module_version": "2.0.0",
      "model_name": "ProgressStyleModel",
      "state": {
       "_model_module": "@jupyter-widgets/controls",
       "_model_module_version": "2.0.0",
       "_model_name": "ProgressStyleModel",
       "_view_count": null,
       "_view_module": "@jupyter-widgets/base",
       "_view_module_version": "2.0.0",
       "_view_name": "StyleView",
       "bar_color": null,
       "description_width": ""
      }
     },
     "30de31df5b8440a68358f91dac86891e": {
      "model_module": "@jupyter-widgets/base",
      "model_module_version": "2.0.0",
      "model_name": "LayoutModel",
      "state": {
       "_model_module": "@jupyter-widgets/base",
       "_model_module_version": "2.0.0",
       "_model_name": "LayoutModel",
       "_view_count": null,
       "_view_module": "@jupyter-widgets/base",
       "_view_module_version": "2.0.0",
       "_view_name": "LayoutView",
       "align_content": null,
       "align_items": null,
       "align_self": null,
       "border_bottom": null,
       "border_left": null,
       "border_right": null,
       "border_top": null,
       "bottom": null,
       "display": null,
       "flex": null,
       "flex_flow": null,
       "grid_area": null,
       "grid_auto_columns": null,
       "grid_auto_flow": null,
       "grid_auto_rows": null,
       "grid_column": null,
       "grid_gap": null,
       "grid_row": null,
       "grid_template_areas": null,
       "grid_template_columns": null,
       "grid_template_rows": null,
       "height": null,
       "justify_content": null,
       "justify_items": null,
       "left": null,
       "margin": null,
       "max_height": null,
       "max_width": null,
       "min_height": null,
       "min_width": null,
       "object_fit": null,
       "object_position": null,
       "order": null,
       "overflow": null,
       "padding": null,
       "right": null,
       "top": null,
       "visibility": null,
       "width": null
      }
     },
     "3c66e874c40c4e0d85b010f262b7a344": {
      "model_module": "@jupyter-widgets/controls",
      "model_module_version": "2.0.0",
      "model_name": "HTMLStyleModel",
      "state": {
       "_model_module": "@jupyter-widgets/controls",
       "_model_module_version": "2.0.0",
       "_model_name": "HTMLStyleModel",
       "_view_count": null,
       "_view_module": "@jupyter-widgets/base",
       "_view_module_version": "2.0.0",
       "_view_name": "StyleView",
       "background": null,
       "description_width": "",
       "font_size": null,
       "text_color": null
      }
     },
     "431b675e3c68424fad84312a8d1ac1de": {
      "model_module": "@jupyter-widgets/base",
      "model_module_version": "2.0.0",
      "model_name": "LayoutModel",
      "state": {
       "_model_module": "@jupyter-widgets/base",
       "_model_module_version": "2.0.0",
       "_model_name": "LayoutModel",
       "_view_count": null,
       "_view_module": "@jupyter-widgets/base",
       "_view_module_version": "2.0.0",
       "_view_name": "LayoutView",
       "align_content": null,
       "align_items": null,
       "align_self": null,
       "border_bottom": null,
       "border_left": null,
       "border_right": null,
       "border_top": null,
       "bottom": null,
       "display": null,
       "flex": null,
       "flex_flow": null,
       "grid_area": null,
       "grid_auto_columns": null,
       "grid_auto_flow": null,
       "grid_auto_rows": null,
       "grid_column": null,
       "grid_gap": null,
       "grid_row": null,
       "grid_template_areas": null,
       "grid_template_columns": null,
       "grid_template_rows": null,
       "height": null,
       "justify_content": null,
       "justify_items": null,
       "left": null,
       "margin": null,
       "max_height": null,
       "max_width": null,
       "min_height": null,
       "min_width": null,
       "object_fit": null,
       "object_position": null,
       "order": null,
       "overflow": null,
       "padding": null,
       "right": null,
       "top": null,
       "visibility": null,
       "width": null
      }
     },
     "5051e34a89494622bcd16ce98b76fb56": {
      "model_module": "@jupyter-widgets/controls",
      "model_module_version": "2.0.0",
      "model_name": "HTMLModel",
      "state": {
       "_dom_classes": [],
       "_model_module": "@jupyter-widgets/controls",
       "_model_module_version": "2.0.0",
       "_model_name": "HTMLModel",
       "_view_count": null,
       "_view_module": "@jupyter-widgets/controls",
       "_view_module_version": "2.0.0",
       "_view_name": "HTMLView",
       "description": "",
       "description_allow_html": false,
       "layout": "IPY_MODEL_ef0754b7abbc44cfb59c455a24e37047",
       "placeholder": "​",
       "style": "IPY_MODEL_3c66e874c40c4e0d85b010f262b7a344",
       "tabbable": null,
       "tooltip": null,
       "value": "100%"
      }
     },
     "87adf323ea9f43cfadb46ae3d465cc9c": {
      "model_module": "@jupyter-widgets/controls",
      "model_module_version": "2.0.0",
      "model_name": "FloatProgressModel",
      "state": {
       "_dom_classes": [],
       "_model_module": "@jupyter-widgets/controls",
       "_model_module_version": "2.0.0",
       "_model_name": "FloatProgressModel",
       "_view_count": null,
       "_view_module": "@jupyter-widgets/controls",
       "_view_module_version": "2.0.0",
       "_view_name": "ProgressView",
       "bar_style": "success",
       "description": "",
       "description_allow_html": false,
       "layout": "IPY_MODEL_431b675e3c68424fad84312a8d1ac1de",
       "max": 1.0,
       "min": 0.0,
       "orientation": "horizontal",
       "style": "IPY_MODEL_0b20df9d34fd4b8da1c3faf384f30860",
       "tabbable": null,
       "tooltip": null,
       "value": 1.0
      }
     },
     "c42aa23caf884585a9c6e9317f164976": {
      "model_module": "@jupyter-widgets/base",
      "model_module_version": "2.0.0",
      "model_name": "LayoutModel",
      "state": {
       "_model_module": "@jupyter-widgets/base",
       "_model_module_version": "2.0.0",
       "_model_name": "LayoutModel",
       "_view_count": null,
       "_view_module": "@jupyter-widgets/base",
       "_view_module_version": "2.0.0",
       "_view_name": "LayoutView",
       "align_content": null,
       "align_items": null,
       "align_self": null,
       "border_bottom": null,
       "border_left": null,
       "border_right": null,
       "border_top": null,
       "bottom": null,
       "display": null,
       "flex": null,
       "flex_flow": null,
       "grid_area": null,
       "grid_auto_columns": null,
       "grid_auto_flow": null,
       "grid_auto_rows": null,
       "grid_column": null,
       "grid_gap": null,
       "grid_row": null,
       "grid_template_areas": null,
       "grid_template_columns": null,
       "grid_template_rows": null,
       "height": null,
       "justify_content": null,
       "justify_items": null,
       "left": null,
       "margin": null,
       "max_height": null,
       "max_width": null,
       "min_height": null,
       "min_width": null,
       "object_fit": null,
       "object_position": null,
       "order": null,
       "overflow": null,
       "padding": null,
       "right": null,
       "top": null,
       "visibility": null,
       "width": null
      }
     },
     "db43e7c4ea9843c482519a4c581ace14": {
      "model_module": "@jupyter-widgets/controls",
      "model_module_version": "2.0.0",
      "model_name": "HBoxModel",
      "state": {
       "_dom_classes": [],
       "_model_module": "@jupyter-widgets/controls",
       "_model_module_version": "2.0.0",
       "_model_name": "HBoxModel",
       "_view_count": null,
       "_view_module": "@jupyter-widgets/controls",
       "_view_module_version": "2.0.0",
       "_view_name": "HBoxView",
       "box_style": "",
       "children": [
        "IPY_MODEL_5051e34a89494622bcd16ce98b76fb56",
        "IPY_MODEL_87adf323ea9f43cfadb46ae3d465cc9c",
        "IPY_MODEL_e4088ae690d947bfb75b0ade0f887afe"
       ],
       "layout": "IPY_MODEL_c42aa23caf884585a9c6e9317f164976",
       "tabbable": null,
       "tooltip": null
      }
     },
     "e4088ae690d947bfb75b0ade0f887afe": {
      "model_module": "@jupyter-widgets/controls",
      "model_module_version": "2.0.0",
      "model_name": "HTMLModel",
      "state": {
       "_dom_classes": [],
       "_model_module": "@jupyter-widgets/controls",
       "_model_module_version": "2.0.0",
       "_model_name": "HTMLModel",
       "_view_count": null,
       "_view_module": "@jupyter-widgets/controls",
       "_view_module_version": "2.0.0",
       "_view_name": "HTMLView",
       "description": "",
       "description_allow_html": false,
       "layout": "IPY_MODEL_30de31df5b8440a68358f91dac86891e",
       "placeholder": "​",
       "style": "IPY_MODEL_02472cb35abb4ba4a028f50f1a14665f",
       "tabbable": null,
       "tooltip": null,
       "value": " 1/1 [00:58&lt;00:00, 58.03s/it]"
      }
     },
     "ef0754b7abbc44cfb59c455a24e37047": {
      "model_module": "@jupyter-widgets/base",
      "model_module_version": "2.0.0",
      "model_name": "LayoutModel",
      "state": {
       "_model_module": "@jupyter-widgets/base",
       "_model_module_version": "2.0.0",
       "_model_name": "LayoutModel",
       "_view_count": null,
       "_view_module": "@jupyter-widgets/base",
       "_view_module_version": "2.0.0",
       "_view_name": "LayoutView",
       "align_content": null,
       "align_items": null,
       "align_self": null,
       "border_bottom": null,
       "border_left": null,
       "border_right": null,
       "border_top": null,
       "bottom": null,
       "display": null,
       "flex": null,
       "flex_flow": null,
       "grid_area": null,
       "grid_auto_columns": null,
       "grid_auto_flow": null,
       "grid_auto_rows": null,
       "grid_column": null,
       "grid_gap": null,
       "grid_row": null,
       "grid_template_areas": null,
       "grid_template_columns": null,
       "grid_template_rows": null,
       "height": null,
       "justify_content": null,
       "justify_items": null,
       "left": null,
       "margin": null,
       "max_height": null,
       "max_width": null,
       "min_height": null,
       "min_width": null,
       "object_fit": null,
       "object_position": null,
       "order": null,
       "overflow": null,
       "padding": null,
       "right": null,
       "top": null,
       "visibility": null,
       "width": null
      }
     }
    },
    "version_major": 2,
    "version_minor": 0
   }
  }
 },
 "nbformat": 4,
 "nbformat_minor": 5
}