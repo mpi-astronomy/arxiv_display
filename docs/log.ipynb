{
 "cells": [
  {
   "cell_type": "markdown",
   "id": "92bcb855",
   "metadata": {
    "papermill": {
     "duration": 0.008171,
     "end_time": "2022-12-15T04:08:07.349075",
     "exception": false,
     "start_time": "2022-12-15T04:08:07.340904",
     "status": "completed"
    },
    "tags": []
   },
   "source": [
    "# MPIA Arxiv on Deck 2\n",
    "\n",
    "Contains the steps to produce the paper extractions."
   ]
  },
  {
   "cell_type": "code",
   "execution_count": 1,
   "id": "3a0d6e11",
   "metadata": {
    "execution": {
     "iopub.execute_input": "2022-12-15T04:08:07.365020Z",
     "iopub.status.busy": "2022-12-15T04:08:07.363486Z",
     "iopub.status.idle": "2022-12-15T04:08:07.646676Z",
     "shell.execute_reply": "2022-12-15T04:08:07.645598Z"
    },
    "papermill": {
     "duration": 0.292678,
     "end_time": "2022-12-15T04:08:07.649379",
     "exception": false,
     "start_time": "2022-12-15T04:08:07.356701",
     "status": "completed"
    },
    "tags": []
   },
   "outputs": [],
   "source": [
    "# Imports\n",
    "import os\n",
    "from IPython.display import Markdown, display\n",
    "from tqdm.notebook import tqdm\n",
    "import warnings\n",
    "from PIL import Image \n",
    "\n",
    "# requires arxiv_on_deck_2\n",
    "\n",
    "from arxiv_on_deck_2.arxiv2 import (get_new_papers, \n",
    "                                    get_paper_from_identifier,\n",
    "                                    retrieve_document_source, \n",
    "                                    get_markdown_badge)\n",
    "from arxiv_on_deck_2 import (latex, \n",
    "                             mpia,\n",
    "                             highlight_authors_in_list)\n",
    "\n",
    "# Sometimes images are really big\n",
    "Image.MAX_IMAGE_PIXELS = 1000000000 "
   ]
  },
  {
   "cell_type": "code",
   "execution_count": 2,
   "id": "22aa9d44",
   "metadata": {
    "execution": {
     "iopub.execute_input": "2022-12-15T04:08:07.661890Z",
     "iopub.status.busy": "2022-12-15T04:08:07.661485Z",
     "iopub.status.idle": "2022-12-15T04:08:07.668417Z",
     "shell.execute_reply": "2022-12-15T04:08:07.667621Z"
    },
    "papermill": {
     "duration": 0.015742,
     "end_time": "2022-12-15T04:08:07.670640",
     "exception": false,
     "start_time": "2022-12-15T04:08:07.654898",
     "status": "completed"
    },
    "tags": []
   },
   "outputs": [],
   "source": [
    "# Some useful definitions.\n",
    "\n",
    "class AffiliationWarning(UserWarning):\n",
    "    pass\n",
    "\n",
    "class AffiliationError(RuntimeError):\n",
    "    pass\n",
    "\n",
    "def validation(source: str):\n",
    "    \"\"\"Raises error paper during parsing of source file\n",
    "    \n",
    "    Allows checks before parsing TeX code.\n",
    "    \n",
    "    Raises AffiliationWarning\n",
    "    \"\"\"\n",
    "    check = mpia.affiliation_verifications(source, verbose=True)\n",
    "    if check is not True:\n",
    "        raise AffiliationError(\"mpia.affiliation_verifications: \" + check)\n",
    "\n",
    "        \n",
    "warnings.simplefilter('always', AffiliationWarning)"
   ]
  },
  {
   "cell_type": "code",
   "execution_count": 3,
   "id": "14622700",
   "metadata": {
    "execution": {
     "iopub.execute_input": "2022-12-15T04:08:07.682272Z",
     "iopub.status.busy": "2022-12-15T04:08:07.681987Z",
     "iopub.status.idle": "2022-12-15T04:08:07.686781Z",
     "shell.execute_reply": "2022-12-15T04:08:07.685933Z"
    },
    "papermill": {
     "duration": 0.014555,
     "end_time": "2022-12-15T04:08:07.690421",
     "exception": false,
     "start_time": "2022-12-15T04:08:07.675866",
     "status": "completed"
    },
    "tags": []
   },
   "outputs": [],
   "source": [
    "# additional CSS to consider. \n",
    "# TODO: Current into each exported file. \n",
    "#       This should be set once into the webpages directly.\n",
    "#       With only the class/id definitions in the .md files.\n",
    "\n",
    "debug_html = \"\"\"\n",
    "<style>\n",
    "#wrap{ overflow:auto; }\n",
    "#fig1{ background:yellow; width:100%; float:left; padding:5px;  }\n",
    "#fig2{ background:red; width:50%; float:left; clear:left; padding:5px;  }\n",
    "#fig3{ background:green; width:50%; float:left; padding:5px;   }\n",
    ".macros{ background:yellow; visibility:visible;}\n",
    "h1 {margin: 0 0 0 0;}\n",
    "mark {background-color:#fff3b6;}\n",
    "img {object-fit:contain; max-height:250px; display:inline-block; text-align: center;}\n",
    "</style>\n",
    "\"\"\" \n",
    "html = \"\"\"\n",
    "<style>\n",
    "#wrap{ overflow:auto; }\n",
    "#fig1{ width:100%; float:left; padding: 5px;  }\n",
    "#fig2{ width:50%; float:left; clear:left; padding: 5px;  }\n",
    "#fig3{ width:50%; float:left; padding: 5px;  }\n",
    ".macros{ visibility:hidden; height:0px; }\n",
    "h1 {margin: 0em 0 0 0;}\n",
    "mark {background-color:#fff3b6;}\n",
    "img {object-fit:contain; max-height:250px; display:inline-block; text-align: center;}\n",
    "</style>\n",
    "\"\"\""
   ]
  },
  {
   "cell_type": "markdown",
   "id": "14bd6310",
   "metadata": {
    "papermill": {
     "duration": 0.005144,
     "end_time": "2022-12-15T04:08:07.701336",
     "exception": false,
     "start_time": "2022-12-15T04:08:07.696192",
     "status": "completed"
    },
    "tags": []
   },
   "source": [
    "## get list of arxiv paper candidates\n",
    "\n",
    "We use the MPIA mitarbeiter list webpage from mpia.de to get author names\n",
    "We then get all new papers from Arxiv and match authors"
   ]
  },
  {
   "cell_type": "code",
   "execution_count": 4,
   "id": "2645e73a",
   "metadata": {
    "execution": {
     "iopub.execute_input": "2022-12-15T04:08:07.714344Z",
     "iopub.status.busy": "2022-12-15T04:08:07.713557Z",
     "iopub.status.idle": "2022-12-15T04:08:34.564151Z",
     "shell.execute_reply": "2022-12-15T04:08:34.563132Z"
    },
    "papermill": {
     "duration": 26.859701,
     "end_time": "2022-12-15T04:08:34.566196",
     "exception": false,
     "start_time": "2022-12-15T04:08:07.706495",
     "status": "completed"
    },
    "tags": []
   },
   "outputs": [
    {
     "name": "stdout",
     "output_type": "stream",
     "text": [
      "Arxiv has 67 new papers today\n",
      "          27 with possible author matches\n"
     ]
    }
   ],
   "source": [
    "# get list from MPIA website\n",
    "# it automatically filters identified non-scientists :func:`mpia.filter_non_scientists`\n",
    "mpia_authors = mpia.get_mpia_mitarbeiter_list()\n",
    "new_papers = get_new_papers()\n",
    "# add manual references\n",
    "add_paper_refs = []\n",
    "new_papers.extend([get_paper_from_identifier(k) for k in add_paper_refs])\n",
    "\n",
    "# select only papers with matching author names and highlight authors\n",
    "hl_list = [k[0] for k in mpia_authors]\n",
    "\n",
    "candidates = []\n",
    "for paperk in new_papers:\n",
    "    hl_authors = highlight_authors_in_list(paperk['authors'], hl_list)\n",
    "    matches = [(hl, orig) for hl, orig in zip(hl_authors, paperk['authors']) if 'mark' in hl]\n",
    "    paperk['authors'] = hl_authors\n",
    "    if matches:\n",
    "        candidates.append(paperk)\n",
    "print(\"\"\"Arxiv has {0:,d} new papers today\"\"\".format(len(new_papers)))        \n",
    "print(\"\"\"          {0:,d} with possible author matches\"\"\".format(len(candidates)))"
   ]
  },
  {
   "cell_type": "markdown",
   "id": "3543b34a",
   "metadata": {
    "papermill": {
     "duration": 0.00508,
     "end_time": "2022-12-15T04:08:34.578411",
     "exception": false,
     "start_time": "2022-12-15T04:08:34.573331",
     "status": "completed"
    },
    "tags": []
   },
   "source": [
    "# Parse sources and generate relevant outputs\n",
    "\n",
    "From the candidates, we do the following steps:\n",
    "* get their tarball from ArXiv (and extract data)\n",
    "* find the main .tex file: find one with \\documentclass{...} (sometimes it's non trivial)\n",
    "* Check affiliations with :func:`validation`, which uses :func:`mpia.affiliation_verifications`\n",
    "* If passing the affiliations: we parse the .tex source\n",
    "   * inject sub-documents into the main (flatten the main document)\n",
    "   * parse structure, extract information (title, abstract, authors, figures...)\n",
    "   * handles `\\graphicspath` if provided\n",
    "* Generate the .md document."
   ]
  },
  {
   "cell_type": "code",
   "execution_count": 5,
   "id": "9576b79e",
   "metadata": {
    "execution": {
     "iopub.execute_input": "2022-12-15T04:08:34.592080Z",
     "iopub.status.busy": "2022-12-15T04:08:34.591388Z",
     "iopub.status.idle": "2022-12-15T04:13:11.109538Z",
     "shell.execute_reply": "2022-12-15T04:13:11.108513Z"
    },
    "papermill": {
     "duration": 276.538769,
     "end_time": "2022-12-15T04:13:11.122871",
     "exception": false,
     "start_time": "2022-12-15T04:08:34.584102",
     "status": "completed"
    },
    "scrolled": false,
    "tags": []
   },
   "outputs": [
    {
     "data": {
      "application/vnd.jupyter.widget-view+json": {
       "model_id": "9333aebfaf444fba92f881dcae125929",
       "version_major": 2,
       "version_minor": 0
      },
      "text/plain": [
       "  0%|          | 0/26 [00:00<?, ?it/s]"
      ]
     },
     "metadata": {},
     "output_type": "display_data"
    },
    {
     "name": "stdout",
     "output_type": "stream",
     "text": [
      "Retrieving document from  https://arxiv.org/e-print/2212.06838\n"
     ]
    },
    {
     "name": "stdout",
     "output_type": "stream",
     "text": [
      "extracting tarball to tmp_2212.06838..."
     ]
    },
    {
     "name": "stdout",
     "output_type": "stream",
     "text": [
      " done.\n",
      "Retrieving document from  https://arxiv.org/e-print/2212.06845\n"
     ]
    },
    {
     "name": "stdout",
     "output_type": "stream",
     "text": [
      "extracting tarball to tmp_2212.06845..."
     ]
    },
    {
     "name": "stdout",
     "output_type": "stream",
     "text": [
      " done.\n",
      "Retrieving document from  https://arxiv.org/e-print/2212.06853\n"
     ]
    },
    {
     "name": "stdout",
     "output_type": "stream",
     "text": [
      "extracting tarball to tmp_2212.06853..."
     ]
    },
    {
     "name": "stdout",
     "output_type": "stream",
     "text": [
      " done.\n",
      "Retrieving document from  https://arxiv.org/e-print/2212.06854\n"
     ]
    },
    {
     "name": "stdout",
     "output_type": "stream",
     "text": [
      "extracting tarball to tmp_2212.06854..."
     ]
    },
    {
     "name": "stdout",
     "output_type": "stream",
     "text": [
      " done.\n",
      "Retrieving document from  https://arxiv.org/e-print/2212.06863\n"
     ]
    },
    {
     "name": "stderr",
     "output_type": "stream",
     "text": [
      "/opt/hostedtoolcache/Python/3.9.15/x64/lib/python3.9/site-packages/IPython/core/interactiveshell.py:3433: LatexWarning: Multiple tex files.\n",
      "\n",
      "  exec(code_obj, self.user_global_ns, self.user_ns)\n",
      "/opt/hostedtoolcache/Python/3.9.15/x64/lib/python3.9/site-packages/IPython/core/interactiveshell.py:3433: LatexWarning: Found documentclass in tmp_2212.06854/ms.tex\n",
      "\n",
      "  exec(code_obj, self.user_global_ns, self.user_ns)\n"
     ]
    },
    {
     "name": "stdout",
     "output_type": "stream",
     "text": [
      "extracting tarball to tmp_2212.06863..."
     ]
    },
    {
     "name": "stdout",
     "output_type": "stream",
     "text": [
      " done.\n",
      "Retrieving document from  https://arxiv.org/e-print/2212.06869\n"
     ]
    },
    {
     "name": "stdout",
     "output_type": "stream",
     "text": [
      "extracting tarball to tmp_2212.06869..."
     ]
    },
    {
     "name": "stdout",
     "output_type": "stream",
     "text": [
      " done.\n",
      "Retrieving document from  https://arxiv.org/e-print/2212.06877\n"
     ]
    },
    {
     "name": "stdout",
     "output_type": "stream",
     "text": [
      "extracting tarball to tmp_2212.06877..."
     ]
    },
    {
     "name": "stdout",
     "output_type": "stream",
     "text": [
      " done.\n",
      "Retrieving document from  https://arxiv.org/e-print/2212.06902\n"
     ]
    },
    {
     "name": "stderr",
     "output_type": "stream",
     "text": [
      "/opt/hostedtoolcache/Python/3.9.15/x64/lib/python3.9/site-packages/IPython/core/interactiveshell.py:3433: LatexWarning: Multiple tex files.\n",
      "\n",
      "  exec(code_obj, self.user_global_ns, self.user_ns)\n",
      "/opt/hostedtoolcache/Python/3.9.15/x64/lib/python3.9/site-packages/IPython/core/interactiveshell.py:3433: LatexWarning: Found documentclass in tmp_2212.06877/main.tex\n",
      "\n",
      "  exec(code_obj, self.user_global_ns, self.user_ns)\n"
     ]
    },
    {
     "name": "stdout",
     "output_type": "stream",
     "text": [
      "extracting tarball to tmp_2212.06902..."
     ]
    },
    {
     "name": "stdout",
     "output_type": "stream",
     "text": [
      " done.\n",
      "Retrieving document from  https://arxiv.org/e-print/2212.06981\n"
     ]
    },
    {
     "name": "stderr",
     "output_type": "stream",
     "text": [
      "/opt/hostedtoolcache/Python/3.9.15/x64/lib/python3.9/site-packages/IPython/core/interactiveshell.py:3433: LatexWarning: Multiple tex files.\n",
      "\n",
      "  exec(code_obj, self.user_global_ns, self.user_ns)\n",
      "/opt/hostedtoolcache/Python/3.9.15/x64/lib/python3.9/site-packages/IPython/core/interactiveshell.py:3433: LatexWarning: Found documentclass in tmp_2212.06902/main.tex\n",
      "\n",
      "  exec(code_obj, self.user_global_ns, self.user_ns)\n",
      "/opt/hostedtoolcache/Python/3.9.15/x64/lib/python3.9/site-packages/arxiv_on_deck_2/latex.py:292: LatexWarning: Latex injecting: 'table_sedmodel.tex' from 'tmp_2212.06902/table_sedmodel.tex'\n",
      "  warnings.warn(LatexWarning(f\"Latex injecting: '{ext}' from '{subsource}'\"))\n"
     ]
    },
    {
     "name": "stdout",
     "output_type": "stream",
     "text": [
      "extracting tarball to tmp_2212.06981..."
     ]
    },
    {
     "name": "stdout",
     "output_type": "stream",
     "text": [
      " done.\n",
      "Retrieving document from  https://arxiv.org/e-print/2212.07001\n"
     ]
    },
    {
     "name": "stdout",
     "output_type": "stream",
     "text": [
      "extracting tarball to tmp_2212.07001..."
     ]
    },
    {
     "name": "stdout",
     "output_type": "stream",
     "text": [
      " done.\n",
      "Retrieving document from  https://arxiv.org/e-print/2212.07027\n"
     ]
    },
    {
     "name": "stderr",
     "output_type": "stream",
     "text": [
      "/opt/hostedtoolcache/Python/3.9.15/x64/lib/python3.9/site-packages/IPython/core/interactiveshell.py:3433: LatexWarning: Multiple tex files.\n",
      "\n",
      "  exec(code_obj, self.user_global_ns, self.user_ns)\n",
      "/opt/hostedtoolcache/Python/3.9.15/x64/lib/python3.9/site-packages/IPython/core/interactiveshell.py:3433: LatexWarning: Found documentclass in tmp_2212.07001/natbib.tex\n",
      "\n",
      "  exec(code_obj, self.user_global_ns, self.user_ns)\n"
     ]
    },
    {
     "name": "stdout",
     "output_type": "stream",
     "text": [
      "extracting tarball to tmp_2212.07027..."
     ]
    },
    {
     "name": "stdout",
     "output_type": "stream",
     "text": [
      " done.\n",
      "Retrieving document from  https://arxiv.org/e-print/2212.07038\n"
     ]
    },
    {
     "name": "stdout",
     "output_type": "stream",
     "text": [
      "extracting tarball to tmp_2212.07038..."
     ]
    },
    {
     "name": "stdout",
     "output_type": "stream",
     "text": [
      " done.\n",
      "Retrieving document from  https://arxiv.org/e-print/2212.07040\n"
     ]
    },
    {
     "name": "stdout",
     "output_type": "stream",
     "text": [
      "extracting tarball to tmp_2212.07040..."
     ]
    },
    {
     "name": "stdout",
     "output_type": "stream",
     "text": [
      " done.\n",
      "Retrieving document from  https://arxiv.org/e-print/2212.07061\n"
     ]
    },
    {
     "name": "stderr",
     "output_type": "stream",
     "text": [
      "/opt/hostedtoolcache/Python/3.9.15/x64/lib/python3.9/site-packages/IPython/core/interactiveshell.py:3433: LatexWarning: Multiple tex files.\n",
      "\n",
      "  exec(code_obj, self.user_global_ns, self.user_ns)\n",
      "/opt/hostedtoolcache/Python/3.9.15/x64/lib/python3.9/site-packages/IPython/core/interactiveshell.py:3433: LatexWarning: Found documentclass in tmp_2212.07040/galaxies-1966269-2.tex\n",
      "\n",
      "  exec(code_obj, self.user_global_ns, self.user_ns)\n"
     ]
    },
    {
     "name": "stdout",
     "output_type": "stream",
     "text": [
      "extracting tarball to tmp_2212.07061..."
     ]
    },
    {
     "name": "stdout",
     "output_type": "stream",
     "text": [
      " done.\n",
      "Retrieving document from  https://arxiv.org/e-print/2212.07094\n"
     ]
    },
    {
     "name": "stdout",
     "output_type": "stream",
     "text": [
      "extracting tarball to tmp_2212.07094... done.\n",
      "Retrieving document from  https://arxiv.org/e-print/2212.07095\n"
     ]
    },
    {
     "name": "stdout",
     "output_type": "stream",
     "text": [
      "extracting tarball to tmp_2212.07095..."
     ]
    },
    {
     "name": "stdout",
     "output_type": "stream",
     "text": [
      " done.\n",
      "Retrieving document from  https://arxiv.org/e-print/2212.07178\n"
     ]
    },
    {
     "name": "stderr",
     "output_type": "stream",
     "text": [
      "/opt/hostedtoolcache/Python/3.9.15/x64/lib/python3.9/site-packages/IPython/core/interactiveshell.py:3433: LatexWarning: Multiple tex files.\n",
      "\n",
      "  exec(code_obj, self.user_global_ns, self.user_ns)\n",
      "/opt/hostedtoolcache/Python/3.9.15/x64/lib/python3.9/site-packages/IPython/core/interactiveshell.py:3433: LatexWarning: Found documentclass in tmp_2212.07095/main.tex\n",
      "\n",
      "  exec(code_obj, self.user_global_ns, self.user_ns)\n",
      "/opt/hostedtoolcache/Python/3.9.15/x64/lib/python3.9/site-packages/arxiv_on_deck_2/latex.py:292: LatexWarning: Latex injecting: 'sup_figure.tex' from 'tmp_2212.07095/sup_figure.tex'\n",
      "  warnings.warn(LatexWarning(f\"Latex injecting: '{ext}' from '{subsource}'\"))\n",
      "/opt/hostedtoolcache/Python/3.9.15/x64/lib/python3.9/site-packages/arxiv_on_deck_2/latex.py:292: LatexWarning: Latex injecting: 'GRBsample.tex' from 'tmp_2212.07095/GRBsample.tex'\n",
      "  warnings.warn(LatexWarning(f\"Latex injecting: '{ext}' from '{subsource}'\"))\n",
      "/opt/hostedtoolcache/Python/3.9.15/x64/lib/python3.9/site-packages/arxiv_on_deck_2/latex.py:292: LatexWarning: Latex injecting: 'results.tex' from 'tmp_2212.07095/results.tex'\n",
      "  warnings.warn(LatexWarning(f\"Latex injecting: '{ext}' from '{subsource}'\"))\n"
     ]
    },
    {
     "name": "stdout",
     "output_type": "stream",
     "text": [
      "extracting tarball to tmp_2212.07178..."
     ]
    },
    {
     "name": "stdout",
     "output_type": "stream",
     "text": [
      " done.\n",
      "Retrieving document from  https://arxiv.org/e-print/2212.07189\n"
     ]
    },
    {
     "name": "stdout",
     "output_type": "stream",
     "text": [
      "extracting tarball to tmp_2212.07189..."
     ]
    },
    {
     "name": "stdout",
     "output_type": "stream",
     "text": [
      " done.\n",
      "Retrieving document from  https://arxiv.org/e-print/2212.07259\n"
     ]
    },
    {
     "name": "stdout",
     "output_type": "stream",
     "text": [
      "extracting tarball to tmp_2212.07259..."
     ]
    },
    {
     "name": "stdout",
     "output_type": "stream",
     "text": [
      " done.\n",
      "Retrieving document from  https://arxiv.org/e-print/2212.07272\n"
     ]
    },
    {
     "name": "stdout",
     "output_type": "stream",
     "text": [
      "extracting tarball to tmp_2212.07272... done.\n",
      "Retrieving document from  https://arxiv.org/e-print/2212.07332\n"
     ]
    },
    {
     "name": "stdout",
     "output_type": "stream",
     "text": [
      "extracting tarball to tmp_2212.07332..."
     ]
    },
    {
     "name": "stdout",
     "output_type": "stream",
     "text": [
      " done.\n"
     ]
    },
    {
     "name": "stdout",
     "output_type": "stream",
     "text": [
      "Retrieving document from  https://arxiv.org/e-print/2212.07366\n"
     ]
    },
    {
     "name": "stdout",
     "output_type": "stream",
     "text": [
      "extracting tarball to tmp_2212.07366..."
     ]
    },
    {
     "name": "stdout",
     "output_type": "stream",
     "text": [
      " done.\n",
      "Retrieving document from  https://arxiv.org/e-print/2212.07373\n"
     ]
    },
    {
     "name": "stdout",
     "output_type": "stream",
     "text": [
      "extracting tarball to tmp_2212.07373..."
     ]
    },
    {
     "name": "stdout",
     "output_type": "stream",
     "text": [
      " done.\n",
      "Retrieving document from  https://arxiv.org/e-print/2212.07386\n"
     ]
    },
    {
     "name": "stdout",
     "output_type": "stream",
     "text": [
      "extracting tarball to tmp_2212.07386... done.\n",
      "Retrieving document from  https://arxiv.org/e-print/2212.07399\n"
     ]
    },
    {
     "name": "stdout",
     "output_type": "stream",
     "text": [
      "extracting tarball to tmp_2212.07399..."
     ]
    },
    {
     "name": "stdout",
     "output_type": "stream",
     "text": [
      " done.\n",
      "Retrieving document from  https://arxiv.org/e-print/2212.07416\n"
     ]
    },
    {
     "name": "stderr",
     "output_type": "stream",
     "text": [
      "/opt/hostedtoolcache/Python/3.9.15/x64/lib/python3.9/site-packages/IPython/core/interactiveshell.py:3433: LatexWarning: Multiple tex files.\n",
      "\n",
      "  exec(code_obj, self.user_global_ns, self.user_ns)\n",
      "/opt/hostedtoolcache/Python/3.9.15/x64/lib/python3.9/site-packages/IPython/core/interactiveshell.py:3433: LatexWarning: Found documentclass in tmp_2212.07399/main.tex\n",
      "\n",
      "  exec(code_obj, self.user_global_ns, self.user_ns)\n",
      "/opt/hostedtoolcache/Python/3.9.15/x64/lib/python3.9/site-packages/arxiv_on_deck_2/latex.py:292: LatexWarning: Latex injecting: 'cloudparams.tex' from 'tmp_2212.07399/cloudparams.tex'\n",
      "  warnings.warn(LatexWarning(f\"Latex injecting: '{ext}' from '{subsource}'\"))\n",
      "/opt/hostedtoolcache/Python/3.9.15/x64/lib/python3.9/site-packages/arxiv_on_deck_2/latex.py:292: LatexWarning: Latex injecting: 'cloudparams.tex' from 'tmp_2212.07399/2M2139+SIMP0136 Retrieval/cloudparams.tex'\n",
      "  warnings.warn(LatexWarning(f\"Latex injecting: '{ext}' from '{subsource}'\"))\n",
      "/opt/hostedtoolcache/Python/3.9.15/x64/lib/python3.9/site-packages/arxiv_on_deck_2/latex.py:292: LatexWarning: Latex injecting: 'gasabundances.tex' from 'tmp_2212.07399/gasabundances.tex'\n",
      "  warnings.warn(LatexWarning(f\"Latex injecting: '{ext}' from '{subsource}'\"))\n",
      "/opt/hostedtoolcache/Python/3.9.15/x64/lib/python3.9/site-packages/arxiv_on_deck_2/latex.py:292: LatexWarning: Latex injecting: 'gasabundances.tex' from 'tmp_2212.07399/2M2139+SIMP0136 Retrieval/gasabundances.tex'\n",
      "  warnings.warn(LatexWarning(f\"Latex injecting: '{ext}' from '{subsource}'\"))\n",
      "/opt/hostedtoolcache/Python/3.9.15/x64/lib/python3.9/site-packages/arxiv_on_deck_2/latex.py:292: LatexWarning: Latex injecting: '0136_2139_BICs' from 'tmp_2212.07399/0136_2139_BICs.tex'\n",
      "  warnings.warn(LatexWarning(f\"Latex injecting: '{ext}' from '{subsource}'\"))\n",
      "/opt/hostedtoolcache/Python/3.9.15/x64/lib/python3.9/site-packages/arxiv_on_deck_2/latex.py:292: LatexWarning: Latex injecting: '0136_2139_BICs' from 'tmp_2212.07399/2M2139+SIMP0136 Retrieval/0136_2139_BICs.tex'\n",
      "  warnings.warn(LatexWarning(f\"Latex injecting: '{ext}' from '{subsource}'\"))\n",
      "/opt/hostedtoolcache/Python/3.9.15/x64/lib/python3.9/site-packages/arxiv_on_deck_2/latex.py:292: LatexWarning: Latex injecting: 'objects' from 'tmp_2212.07399/objects.tex'\n",
      "  warnings.warn(LatexWarning(f\"Latex injecting: '{ext}' from '{subsource}'\"))\n",
      "/opt/hostedtoolcache/Python/3.9.15/x64/lib/python3.9/site-packages/arxiv_on_deck_2/latex.py:292: LatexWarning: Latex injecting: 'objects' from 'tmp_2212.07399/2M2139+SIMP0136 Retrieval/objects.tex'\n",
      "  warnings.warn(LatexWarning(f\"Latex injecting: '{ext}' from '{subsource}'\"))\n"
     ]
    },
    {
     "name": "stdout",
     "output_type": "stream",
     "text": [
      "extracting tarball to tmp_2212.07416..."
     ]
    },
    {
     "name": "stdout",
     "output_type": "stream",
     "text": [
      " done.\n"
     ]
    },
    {
     "name": "stderr",
     "output_type": "stream",
     "text": [
      "/opt/hostedtoolcache/Python/3.9.15/x64/lib/python3.9/site-packages/IPython/core/interactiveshell.py:3433: LatexWarning: Multiple tex files.\n",
      "\n",
      "  exec(code_obj, self.user_global_ns, self.user_ns)\n",
      "/opt/hostedtoolcache/Python/3.9.15/x64/lib/python3.9/site-packages/IPython/core/interactiveshell.py:3433: LatexWarning: Found documentclass in tmp_2212.07416/CBD-simulation.tex\n",
      "\n",
      "  exec(code_obj, self.user_global_ns, self.user_ns)\n"
     ]
    }
   ],
   "source": [
    "documents = []\n",
    "failed = []\n",
    "for paper in tqdm(candidates[:-1]):\n",
    "    paper_id = paper['identifier'].lower().replace('arxiv:', '')\n",
    "    \n",
    "    folder = f'tmp_{paper_id}'\n",
    "\n",
    "    try:\n",
    "        if not os.path.isdir(folder):\n",
    "            folder = retrieve_document_source(f\"{paper_id}\", f'tmp_{paper_id}')\n",
    "        \n",
    "        try:\n",
    "            doc = latex.LatexDocument(folder, validation=validation)    \n",
    "        except AffiliationError as affilerror:\n",
    "            msg = f\"ArXiv:{paper_id:s} is not an MPIA paper... \" + str(affilerror)\n",
    "            failed.append((paper, \"affiliation error: \" + str(affilerror) ))\n",
    "            continue\n",
    "        \n",
    "        # Hack because sometimes author parsing does not work well\n",
    "        if (len(doc.authors) != len(paper['authors'])):\n",
    "            doc._authors = paper['authors']\n",
    "        if (doc.abstract) in (None, ''):\n",
    "            doc._abstract = paper['abstract']\n",
    "            \n",
    "        doc.comment = (get_markdown_badge(paper_id) + \n",
    "                       \"<mark>Appeared on: \" + paper['date'] + \"</mark> - \" +\n",
    "                       \"_\" + paper['comments'] + \"_\")\n",
    "        doc.highlight_authors_in_list(hl_list)\n",
    "\n",
    "        full_md = doc.generate_markdown_text()\n",
    "        \n",
    "        documents.append((paper_id, full_md))\n",
    "    except Exception as e:\n",
    "        warnings.warn(latex.LatexWarning(f\"{paper_id:s} did not run properly\\n\" +\n",
    "                                         str(e)\n",
    "                                        ))\n",
    "        failed.append((paper, \"latex error \" + str(e)))"
   ]
  },
  {
   "cell_type": "markdown",
   "id": "2505a25c",
   "metadata": {
    "papermill": {
     "duration": 0.009218,
     "end_time": "2022-12-15T04:13:11.141076",
     "exception": false,
     "start_time": "2022-12-15T04:13:11.131858",
     "status": "completed"
    },
    "tags": []
   },
   "source": [
    "### Export the logs\n",
    "\n",
    "Throughout, we also keep track of the logs per paper. see `logs-{today date}.md` "
   ]
  },
  {
   "cell_type": "code",
   "execution_count": 6,
   "id": "d733828a",
   "metadata": {
    "execution": {
     "iopub.execute_input": "2022-12-15T04:13:11.161394Z",
     "iopub.status.busy": "2022-12-15T04:13:11.160482Z",
     "iopub.status.idle": "2022-12-15T04:13:11.214451Z",
     "shell.execute_reply": "2022-12-15T04:13:11.213678Z"
    },
    "papermill": {
     "duration": 0.066279,
     "end_time": "2022-12-15T04:13:11.216345",
     "exception": false,
     "start_time": "2022-12-15T04:13:11.150066",
     "status": "completed"
    },
    "scrolled": false,
    "tags": []
   },
   "outputs": [
    {
     "data": {
      "text/markdown": [
       "## Successful papers"
      ],
      "text/plain": [
       "<IPython.core.display.Markdown object>"
      ]
     },
     "metadata": {},
     "output_type": "display_data"
    },
    {
     "data": {
      "text/markdown": [
       "\n",
       "|||\n",
       "|---:|:---|\n",
       "| [![arXiv](https://img.shields.io/badge/arXiv-arXiv:2212.07332-b31b1b.svg)](https://arxiv.org/abs/arXiv:2212.07332) | **Two temperate Earth-mass planets orbiting the nearby star GJ1002**  |\n",
       "|| A. Suárez Mascareño, et al. -- incl., <mark>J. Lillo-Box</mark>, <mark>J. I. González Hernández</mark>, <mark>Th. Henning</mark> |\n",
       "|*Appeared on*| *2022-12-15*|\n",
       "|*Comments*| *23 pages, 20 figures, 3 tables*|\n",
       "|**Abstract**| We report the discovery and characterisation of two Earth-mass planets orbiting in the habitable zone of the nearby M-dwarf GJ~1002 based on the analysis of the radial-velocity (RV) time series from the ESPRESSO and CARMENES spectrographs. The host star is the quiet M5.5~V star GJ~1002 (relatively faint in the optical, $V \\sim 13.8$ mag, but brighter in the infrared, $J \\sim 8.3$ mag), located at 4.84 pc from the Sun. We analyse 139 spectroscopic observations taken between 2017 and 2021. We performed a joint analysis of the time series of the RV and full-width half maximum (FWHM) of the cross-correlation function (CCF) to model the planetary and stellar signals present in the data, applying Gaussian process regression to deal with the stellar activity. We detect the signal of two planets orbiting GJ~1002. GJ~1002~b is a planet with a minimum mass $m_p \\sin i $ of 1.08 $\\pm$ 0.13 M$_{\\oplus}$ with an orbital period of 10.3465 $\\pm$ 0.0027 days at a distance of 0.0457 $\\pm$ 0.0013 au from its parent star, receiving an estimated stellar flux of 0.67 $F_{\\oplus}$. GJ~1002 c is a planet with a minimum mass $m_p \\sin i $ of 1.36 $\\pm$ 0.17 M$_{\\oplus}$ with an orbital period of 20.202 $\\pm$ 0.013 days at a distance of 0.0738 $\\pm$ 0.0021 au from its parent star, receiving an estimated stellar flux of 0.257 $F_{\\oplus}$. We also detect the rotation signature of the star, with a period of 126 $\\pm$ 15 days. GJ~1002 is one of the few known nearby systems with planets that could potentially host habitable environments. The closeness of the host star to the Sun makes the angular sizes of the orbits of both planets ($\\sim$ 9.7 mas and $\\sim$ 15.7 mas, respectively) large enough for their atmosphere to be studied via high-contrast high-resolution spectroscopy with instruments such as the future spectrograph ANDES for the ELT or the LIFE mission. |"
      ],
      "text/plain": [
       "[arXiv:2212.07332] Two temperate Earth-mass planets orbiting the nearby star GJ1002\n",
       "\tA. Suárez Mascareño, et al. -- incl., <mark>J. Lillo-Box</mark>, <mark>J. I. González Hernández</mark>, <mark>Th. Henning</mark>"
      ]
     },
     "metadata": {},
     "output_type": "display_data"
    },
    {
     "data": {
      "text/markdown": [
       "## Failed papers"
      ],
      "text/plain": [
       "<IPython.core.display.Markdown object>"
      ]
     },
     "metadata": {},
     "output_type": "display_data"
    },
    {
     "data": {
      "text/markdown": [
       "\n",
       "|||\n",
       "|---:|:---|\n",
       "| [![arXiv](https://img.shields.io/badge/arXiv-arXiv:2212.07040-b31b1b.svg)](https://arxiv.org/abs/arXiv:2212.07040) | **Overview of the Observing System and Initial Scientific Accomplishments  of the East Asian VLBI Network (EAVN)**  |\n",
       "|| Kazunori Akiyama, et al. -- incl., <mark>Lang Cui</mark>, <mark>Wen Guo</mark>, <mark>Busaba H. Kramer</mark>, <mark>Jee-Won Lee</mark>, <mark>Jeong Ae Lee</mark>, <mark>Sang-Sung Lee</mark>, <mark>Sang Won Lee</mark>, <mark>Bin Li</mark>, <mark>Guanghui Li</mark>, <mark>Xiaofei Li</mark>, <mark>Zhixuan Li</mark>, <mark>Qinghui Liu</mark>, <mark>Xiang Liu</mark> |\n",
       "|*Appeared on*| *2022-12-15*|\n",
       "|*Comments*| *27 pages, appeared in Galaxies special issue 'Challenges in Understanding Black Hole Powered Jets with VLBI' as an invited review*|\n",
       "|**Abstract**| The East Asian VLBI Network (EAVN) is an international VLBI facility in East Asia and is operated under mutual collaboration between East Asian countries, as well as part of Southeast Asian and European countries. EAVN currently consists of 16 radio telescopes and three correlators located in China, Japan, and Korea, and is operated mainly at three frequency bands, 6.7, 22, and 43 GHz with the longest baseline length of 5078 km, resulting in the highest angular resolution of 0.28 milliarcseconds at 43 GHz. One of distinct capabilities of EAVN is multi-frequency simultaneous data reception at nine telescopes, which enable us to employ the frequency phase transfer technique to obtain better sensitivity at higher observing frequencies. EAVN started its open-use program in the second half of 2018, providing a total observing time of more than 1100 hours in a year. EAVN fills geographical gap in global VLBI array, resulting in enabling us to conduct contiguous high-resolution VLBI observations. EAVN has produced various scientific accomplishments especially in observations toward active galactic nuclei, evolved stars, and star-forming regions. These activities motivate us to initiate launch of the 'Global VLBI Alliance' to provide an opportunity of VLBI observation with the longest baselines on the earth. |\n",
       "|<p style=\"color:green\"> **ERROR** </p>| <p style=\"color:green\">affiliation error: mpia.affiliation_verifications: '69117' keyword not found.</p> |"
      ],
      "text/plain": [
       "<IPython.core.display.Markdown object>"
      ]
     },
     "metadata": {},
     "output_type": "display_data"
    },
    {
     "data": {
      "text/markdown": [
       "\n",
       "|||\n",
       "|---:|:---|\n",
       "| [![arXiv](https://img.shields.io/badge/arXiv-arXiv:2212.06838-b31b1b.svg)](https://arxiv.org/abs/arXiv:2212.06838) | **Cosmology with cosmic web environments II. Redshift-space auto and cross  power spectra**  |\n",
       "|| Tony Bonnaire, <mark>Joseph Kuruvilla</mark>, Nabila Aghanim, Aurélien Decelle |\n",
       "|*Appeared on*| *2022-12-15*|\n",
       "|*Comments*| *10 pages, 6 figures, 3 tables. Comments are welcome*|\n",
       "|**Abstract**| Degeneracies among parameters of the cosmological model are known to drastically limit the information contained in the matter distribution. In the first paper of this series, we shown that the cosmic web environments; namely the voids, walls, filaments and nodes; can be used as a leverage to improve the real-space constraints on a set of six cosmological parameters, including the summed neutrino mass. Following-upon these results, we propose to study the achievable constraints of environment-dependent power spectra in redshift space where the velocities add up information to the standard two-point statistics by breaking the isotropy of the matter density field. A Fisher analysis based on a set of thousands of Quijote simulations allows us to conclude that the combination of power spectra computed in the several cosmic web environments is able to break some degeneracies. Compared to the matter monopole and quadrupole information alone, the combination of environment-dependent spectra tightens down the constraints on key parameters like the matter density or the summed neutrino mass by up to a factor of $5.5$. Additionally, while the information contained in the matter statistic quickly saturates at mildly non-linear scales in redshift space, the combination of power spectra in the environments appears as a goldmine of information able to improve the constraints at all the studied scales from $0.1$ to $0.5$ $h$/Mpc and suggests that further improvements are reachable at even finer scales. |\n",
       "|<p style=\"color:green\"> **ERROR** </p>| <p style=\"color:green\">affiliation error: mpia.affiliation_verifications: 'Heidelberg' keyword not found.</p> |"
      ],
      "text/plain": [
       "<IPython.core.display.Markdown object>"
      ]
     },
     "metadata": {},
     "output_type": "display_data"
    },
    {
     "data": {
      "text/markdown": [
       "\n",
       "|||\n",
       "|---:|:---|\n",
       "| [![arXiv](https://img.shields.io/badge/arXiv-arXiv:2212.06845-b31b1b.svg)](https://arxiv.org/abs/arXiv:2212.06845) | **Massive black hole assembly in nuclear star clusters**  |\n",
       "|| Konstantinos Kritos, Emanuele Berti, <mark>Joseph Silk</mark> |\n",
       "|*Appeared on*| *2022-12-15*|\n",
       "|*Comments*| *13 pages, 7 figures*|\n",
       "|**Abstract**| Nuclear star clusters, that fragment into metal-poor stars in situ at the centers of protogalaxies, provide ideal environments for the formation of intermediate-mass black holes with masses $10^3-10^6M_\\odot$. We utilize the semi-analytic model implemented in Rapster, a public rapid cluster evolution code. We implement simple recipes for stellar collisions and gas accretion/expulsion into the code and identify the regimes where each channel contributes to the dynamical formation of intermediate-mass black holes via repeated mergers of stellar black-hole seeds. We find that intermediate-mass black hole formation is almost inevitable if the initial mean density of the nuclear cluster is $>10^8M_\\odot{\\rm pc}^{-3}$. Million solar mass black holes can form within 100 Myr in the heaviest ($>10^7M_\\odot$) and most compact ($<0.5~{\\rm pc}$) nuclear clusters. We demonstrate that by today these resemble the observed range of nuclear clusters in dwarf galaxies and that there are potential gravitational-wave signatures of the massive black-hole formation process. |\n",
       "|<p style=\"color:green\"> **ERROR** </p>| <p style=\"color:green\">affiliation error: mpia.affiliation_verifications: 'Heidelberg' keyword not found.</p> |"
      ],
      "text/plain": [
       "<IPython.core.display.Markdown object>"
      ]
     },
     "metadata": {},
     "output_type": "display_data"
    },
    {
     "data": {
      "text/markdown": [
       "\n",
       "|||\n",
       "|---:|:---|\n",
       "| [![arXiv](https://img.shields.io/badge/arXiv-arXiv:2212.06853-b31b1b.svg)](https://arxiv.org/abs/arXiv:2212.06853) | **Galaxy populations in the most distant SPT-SZ clusters -- II. Galaxy  structural properties in massive clusters at 1.4<z<1.7**  |\n",
       "|| V. Strazzullo, et al. -- incl., <mark>J. J. Mohr</mark> |\n",
       "|*Appeared on*| *2022-12-15*|\n",
       "|*Comments*| *17 pages, 10 figures, A&A in press*|\n",
       "|**Abstract**| We investigate structural properties of massive galaxy populations in the central regions of five very massive galaxy clusters at z~1.4-1.7 from the South Pole Telescope Sunyaev Zel'dovich effect survey. We probe the connection between galaxy structure and broad stellar population properties, at stellar masses log(M/Msun)>10.85. We find that quiescent and star-forming cluster galaxy populations are largely dominated by bulge- and disk-dominated sources, respectively, with relative contributions consistent with those of field counterparts. At the same time, the enhanced quiescent galaxy fraction observed in these clusters with respect to the coeval field is reflected in a significant morphology-density relation, with bulge-dominated galaxies clearly dominating the massive galaxy population in these clusters already at z~1.5. At face value, these observations show no significant environmental signatures in the correlation between broad structural and stellar population properties. In particular, the Sersic index and axis ratio distribution of massive, quiescent sources are consistent with field counterparts, in spite of the enhanced quiescent galaxy fraction in clusters. This consistency suggests a tight connection between quenching and structural evolution towards a bulge-dominated morphology, at least in the probed cluster regions and galaxy stellar mass range, irrespective of environment-related processes affecting star formation in cluster galaxies. We also probe the stellar mass vs. size relation of cluster galaxies, and find that star-forming and quiescent sources populate the mass-size plane in a manner largely similar to their field counterparts, with no evidence of a significant size difference for any probed sub-population. In particular, both quiescent and bulge-dominated cluster galaxies have average sizes at fixed stellar mass consistent with their counterparts in the field. |\n",
       "|<p style=\"color:green\"> **ERROR** </p>| <p style=\"color:green\">affiliation error: mpia.affiliation_verifications: 'Heidelberg' keyword not found.</p> |"
      ],
      "text/plain": [
       "<IPython.core.display.Markdown object>"
      ]
     },
     "metadata": {},
     "output_type": "display_data"
    },
    {
     "data": {
      "text/markdown": [
       "\n",
       "|||\n",
       "|---:|:---|\n",
       "| [![arXiv](https://img.shields.io/badge/arXiv-arXiv:2212.06854-b31b1b.svg)](https://arxiv.org/abs/arXiv:2212.06854) | **A Preferential Growth Channel for Supermassive Black Holes in Elliptical  Galaxies at z<2**  |\n",
       "|| Duncan Farrah, et al. -- incl., <mark>Lingyu Wang</mark> |\n",
       "|*Appeared on*| *2022-12-15*|\n",
       "|*Comments*| *ApJ, accepted*|\n",
       "|**Abstract**| The assembly of stellar and supermassive black hole (SMBH) mass in elliptical galaxies since $z\\sim1$ can help to diagnose the origins of locally-observed correlations between SMBH mass and stellar mass. We therefore construct three samples of elliptical galaxies, one at $z\\sim0$ and two at $0.7\\lesssim z \\lesssim2.5$, and quantify their relative positions in the $M_{BH}-M_*$ plane. Using a Bayesian analysis framework, we find evidence for translational offsets in both stellar mass and SMBH mass between the local sample and both higher redshift samples. The offsets in stellar mass are small, and consistent with measurement bias, but the offsets in SMBH mass are much larger, reaching a factor of seven between $z\\sim1$ and $z\\sim0$. The magnitude of the SMBH offset may also depend on redshift, reaching a factor of $\\sim20$ at $z\\sim 2$. The result is robust against variation in the high and low redshift samples and changes in the analysis approach. The magnitude and redshift evolution of the offset are challenging to explain in terms of selection and measurement biases. We conclude that either there is a physical mechanism that preferentially grows SMBHs in elliptical galaxies at $z\\lesssim 2$, or that selection and measurement biases are both underestimated, and depend on redshift. |\n",
       "|<p style=\"color:green\"> **ERROR** </p>| <p style=\"color:green\">affiliation error: mpia.affiliation_verifications: 'Heidelberg' keyword not found.</p> |"
      ],
      "text/plain": [
       "<IPython.core.display.Markdown object>"
      ]
     },
     "metadata": {},
     "output_type": "display_data"
    },
    {
     "data": {
      "text/markdown": [
       "\n",
       "|||\n",
       "|---:|:---|\n",
       "| [![arXiv](https://img.shields.io/badge/arXiv-arXiv:2212.06863-b31b1b.svg)](https://arxiv.org/abs/arXiv:2212.06863) | **JWST and ALMA Multiple-Line Study in and around a Galaxy at $z=8.496$:  Optical to FIR Line Ratios and the Onset of an Outflow Promoting Ionizing  Photon Escape**  |\n",
       "|| Seiji Fujimoto, et al. -- incl., <mark>Kasper E. Heintz</mark>, <mark>Minju M. Lee</mark> |\n",
       "|*Appeared on*| *2022-12-15*|\n",
       "|*Comments*| *27 pages, 10 figures, 5 tables. Submitted to ApJ*|\n",
       "|**Abstract**| We present ALMA deep spectroscopy for a lensed galaxy at $z_{\\rm spec}=8.496$ with $\\log(M_{\\rm star}/M_{\\odot})\\sim7.8$ whose optical nebular lines and stellar continuum are detected by JWST/NIRSpec and NIRCam Early Release Observations in SMACS0723. Our ALMA spectrum shows [OIII]88$\\mu$m and [CII]158$\\mu$m line detections at $4.0\\sigma$ and $4.5\\sigma$, respectively. The redshift and position of the [OIII] line coincide with those of the JWST source, while the [CII] line is blue-shifted by 90 km s$^{-1}$ with a spatial offset of $0.''5$ ($\\approx0.5$ kpc in source plane) from the JWST source. The NIRCam F444W image, including [OIII]5007 and H$\\beta$ line emission, spatially extends beyond the stellar components by a factor of $>8$. This indicates that the $z=8.5$ galaxy has already experienced strong outflows whose oxygen and carbon produce the extended [OIII]5007 and the offset [CII] emission, which would promote ionizing photon escape and facilitate reionization. With careful slit-loss corrections and removals of emission spatially outside the galaxy, we evaluate the [OIII]88$\\mu$m/5007 line ratio, and derive the electron density $n_{\\rm e}$ by photoionization modeling to be $220^{+170}_{-100}$ cm$^{-3}$, which is comparable with those of $z\\sim2-3$ galaxies. We estimate an [OIII]88$\\mu$m/[CII]158$\\mu$m line ratio in the galaxy of $>4$, as high as those of known $z\\sim6-9$ galaxies. This high [OIII]88$\\mu$m/[CII]158$\\mu$m line ratio is generally explained by the high $n_{\\rm e}$ as well as the low metallicity ($Z_{\\rm gas}/Z_{\\odot}=0.04^{+0.02}_{-0.02}$), high ionization parameter ($\\log U > -2.27$), and low carbon-to-oxygen abundance ratio ($\\log$(C/O) $=[-0.52:-0.24]$) obtained from the JWST/NIRSpec data; further [CII] follow-up observations will constrain the covering fraction of photodissociation regions. |\n",
       "|<p style=\"color:green\"> **ERROR** </p>| <p style=\"color:green\">affiliation error: mpia.affiliation_verifications: 'Heidelberg' keyword not found.</p> |"
      ],
      "text/plain": [
       "<IPython.core.display.Markdown object>"
      ]
     },
     "metadata": {},
     "output_type": "display_data"
    },
    {
     "data": {
      "text/markdown": [
       "\n",
       "|||\n",
       "|---:|:---|\n",
       "| [![arXiv](https://img.shields.io/badge/arXiv-arXiv:2212.06869-b31b1b.svg)](https://arxiv.org/abs/arXiv:2212.06869) | **Hyperion: The origin of the stars A far-UV space telescope for  high-resolution spectroscopy over wide fields**  |\n",
       "|| Erika Hamden, et al. -- incl., <mark>Min-Young Lee</mark>, <mark>Miles Smith</mark> |\n",
       "|*Appeared on*| *2022-12-15*|\n",
       "|*Comments*| *Accepted to JATIS, 9 Figures*|\n",
       "|**Abstract**| We present Hyperion, a mission concept recently proposed to the December 2021 NASA Medium Explorer announcement of opportunity. Hyperion explores the formation and destruction of molecular clouds and planet-forming disks in nearby star-forming regions of the Milky Way. It does this using long-slit, high-resolution spectroscopy of emission from fluorescing molecular hydrogen, which is a powerful far-ultraviolet (FUV) diagnostic. Molecular hydrogen (H2) is the most abundant molecule in the universe and a key ingredient for star and planet formation, but is typically not observed directly because its symmetric atomic structure and lack of a dipole moment mean there are no spectral lines at visible wavelengths and few in the infrared. Hyperion uses molecular hydrogen's wealth of FUV emission lines to achieve three science objectives: (1) determining how star formation is related to molecular hydrogen formation and destruction at the boundaries of molecular clouds; (2) determining how quickly and by what process massive star feedback disperses molecular clouds; and (3) determining the mechanism driving the evolution of planet-forming disks around young solar-analog stars. Hyperion conducts this science using a straightforward, highly-efficient, single-channel instrument design. Hyperion's instrument consists of a 48 cm primary mirror, with an f/5 focal ratio. The spectrometer has two modes, both covering 138.5-161.5 nm bandpasses. A low resolution mode has a spectral resolution of R>10,000 with a slit length of 65 arcmin, while the high resolution mode has a spectral resolution of R>50,000 over a slit length of 5 armin. Hyperion occupies a 2 week long, high-earth, Lunar resonance TESS-like orbit, and conducts 2 weeks of planned observations per orbit, with time for downlinks and calibrations. Hyperion was reviewed as Category I, which is the highest rating possible, but was not selected. |\n",
       "|<p style=\"color:green\"> **ERROR** </p>| <p style=\"color:green\">affiliation error: mpia.affiliation_verifications: 'Heidelberg' keyword not found.</p> |"
      ],
      "text/plain": [
       "<IPython.core.display.Markdown object>"
      ]
     },
     "metadata": {},
     "output_type": "display_data"
    },
    {
     "data": {
      "text/markdown": [
       "\n",
       "|||\n",
       "|---:|:---|\n",
       "| [![arXiv](https://img.shields.io/badge/arXiv-arXiv:2212.06877-b31b1b.svg)](https://arxiv.org/abs/arXiv:2212.06877) | **The gas and stellar content of a metal-poor galaxy at $z=8.496$ revealed  by JWST and ALMA**  |\n",
       "|| <mark>K. E. Heintz</mark>, et al. -- incl., <mark>M. M. Lee</mark> |\n",
       "|*Appeared on*| *2022-12-15*|\n",
       "|*Comments*| *Submitted to AAS journals*|\n",
       "|**Abstract**| We present a joint analysis of the galaxy S04590 at $z=8.496$ based on NIRSpec, NIRCam, and NIRISS observations obtained through as part of Early Release Observations programme of the James Webb Space Telescope (JWST) and the far-infrared [CII]-$158\\mu$m emission line detected by dedicated Atacama Large Millimeter/submillimeter Array (ALMA) observations. We determine the physical properties of S04590 from modelling of the spectral energy distribution (SED) and through the redshifted optical nebular emission lines detected with JWST/NIRSpec. The best-fit SED model reveals a low-mass ($M_\\star = 10^{7.2}-10^{8}\\,M_{\\odot}$) galaxy with a low oxygen abundance of $12+\\log{\\rm (O/H)} = 7.16^{+0.10}_{-0.12}$ derived from the strong nebular and auroral emission lines. Assuming that [CII] effectively traces the interstellar medium (ISM), we estimate the total gas mass of the galaxy to be $M_{\\rm gas} = (8.0\\pm 4.0)\\times 10^{8}\\,M_\\odot$ based on the luminosity and spatial extent of [CII]. This yields an exceptionally high gas fraction, $f_{\\rm gas} = M_{\\rm gas}/(M_{\\rm gas} + M_\\star) \\gtrsim 90\\%$, though still consistent within the range expected for its low metallicity. We further derive the metal mass of the galaxy based on the gas mass and gas-phase metallicity, which we find to be consistent with the expected metal production from Type II supernovae. Finally, we make the first constraints on the dust-to-gas (DTG) and dust-to-metals (DTM) ratios of galaxies in the epoch of reionization at $z\\gtrsim 6$, showing overall low mass ratios of logDGT $<-3.8$ and logDTM $<-0.5$, though consistent with local scaling relations and in particular the local metal-poor galaxy I Zwicky 18. Our analysis highlights the synergy between ALMA and JWST in characterizing the gas, metal, and stellar content of the first generation of galaxies. |\n",
       "|<p style=\"color:green\"> **ERROR** </p>| <p style=\"color:green\">affiliation error: mpia.affiliation_verifications: 'Heidelberg' keyword not found.</p> |"
      ],
      "text/plain": [
       "<IPython.core.display.Markdown object>"
      ]
     },
     "metadata": {},
     "output_type": "display_data"
    },
    {
     "data": {
      "text/markdown": [
       "\n",
       "|||\n",
       "|---:|:---|\n",
       "| [![arXiv](https://img.shields.io/badge/arXiv-arXiv:2212.06902-b31b1b.svg)](https://arxiv.org/abs/arXiv:2212.06902) | **COOL-LAMPS IV: A Sample of Bright Strongly-Lensed Galaxies at $3 < z <  4$**  |\n",
       "|| <mark>Yunchong Zhang</mark>, et al. -- incl., <mark>Guillaume Mahler</mark>, <mark>Owen S. Matthews Acuña</mark> |\n",
       "|*Appeared on*| *2022-12-15*|\n",
       "|*Comments*| *20 pages, 10 figures*|\n",
       "|**Abstract**| We report the discovery of five bright strong gravitationally-lensed galaxies at $3 < z < 4$: COOL J0101$+$2055 ($z = 3.459$), COOL J0104$-$0757 ($z = 3.480$), COOL J0145$+$1018 ($z = 3.310$), COOL J0516$-$2208 ($z = 3.549$), and COOL J1356$+$0339 ($z = 3.753$). These galaxies have magnitudes of $r_{\\rm AB}, z_{\\rm AB} < 21.81$ mag and are lensed by galaxy clusters at $0.26 < z < 1$. This sample doubles the number of known bright lensed galaxies with extended arcs at $3 < z < 4$. We characterize the lensed galaxies using ground-based grz/giy imaging and optical spectroscopy. We report model-based magnitudes and derive stellar masses, dust content, and star-formation rates via stellar-population synthesis modeling. Building lens models based on ground-based imaging, we estimate source magnifications ranging from $\\sim$29 to $\\sim$180. Combining these analyses, we derive demagnified stellar masses ranging from $\\rm log_{10}(M_{*}/M_{\\odot}) \\sim 9.7 - 11.0$ and star formation rates in the youngest age bin ranging from $\\rm log_{10}(SFR/(M_{\\odot}\\cdot yr^{-1})) \\sim 0.4 - 1.6$, placing the sample galaxies on the massive end of the star-forming main sequence in this redshift interval. In addition, three of the five galaxies have strong Ly$\\alpha$ emissions, offering unique opportunities to study Ly$\\alpha$ emitters at high redshift in future work. |\n",
       "|<p style=\"color:green\"> **ERROR** </p>| <p style=\"color:green\">affiliation error: mpia.affiliation_verifications: 'Heidelberg' keyword not found.</p> |"
      ],
      "text/plain": [
       "<IPython.core.display.Markdown object>"
      ]
     },
     "metadata": {},
     "output_type": "display_data"
    },
    {
     "data": {
      "text/markdown": [
       "\n",
       "|||\n",
       "|---:|:---|\n",
       "| [![arXiv](https://img.shields.io/badge/arXiv-arXiv:2212.06981-b31b1b.svg)](https://arxiv.org/abs/arXiv:2212.06981) | **Automatic Classification of Galaxy Morphology: a rotationally invariant  supervised machine learning method based on the UML-dataset**  |\n",
       "|| G. W. Fang, et al. -- incl., <mark>Z. S. Lin</mark> |\n",
       "|*Appeared on*| *2022-12-15*|\n",
       "|*Comments*| *18 pages, 13 figures, To be published in AJ*|\n",
       "|**Abstract**| Classification of galaxy morphology is a challenging but meaningful task for the enormous amount of data produced by the next-generation telescope. By introducing the adaptive polar coordinate transformation, we develop a rotationally invariant supervised machine learning (SML) method that ensures consistent classifications when rotating galaxy images, which is always required to be satisfied physically but difficult to achieve algorithmically. The adaptive polar coordinate transformation, compared with the conventional method of data augmentation by including additional rotated images in the training set, is proved to be an effective and efficient method in improving the robustness of the SML methods. In the previous work, we generated a catalog of galaxies with well-classified morphologies via our developed unsupervised machine learning (UML) method. By using this UML-dataset as the training set, we apply the new method to classify galaxies into five categories (unclassifiable, irregulars, late-type disks, early-type disks, and spheroids). In general, the result of our morphological classifications following the sequence from irregulars to spheroids agrees well with the expected trends of other galaxy properties, including S\\'{e}rsic indices, effective radii, nonparametric statistics, and colors. Thus, we demonstrate that the rotationally invariant SML method, together with the previously developed UML method, completes the entire task of automatic classification of galaxy morphology. |\n",
       "|<p style=\"color:green\"> **ERROR** </p>| <p style=\"color:green\">affiliation error: mpia.affiliation_verifications: 'Heidelberg' keyword not found.</p> |"
      ],
      "text/plain": [
       "<IPython.core.display.Markdown object>"
      ]
     },
     "metadata": {},
     "output_type": "display_data"
    },
    {
     "data": {
      "text/markdown": [
       "\n",
       "|||\n",
       "|---:|:---|\n",
       "| [![arXiv](https://img.shields.io/badge/arXiv-arXiv:2212.07001-b31b1b.svg)](https://arxiv.org/abs/arXiv:2212.07001) | **Fast Outflowing Warm Absorbers in Narrow-Line Seyfert 1 Galaxy PG  1001+054 Revealed by HST/COS Spectra**  |\n",
       "|| Xiao-Dan Fu, Junfeng Wang, Xiaoyu Xu, <mark>Zhi-Xiang Zhang</mark> |\n",
       "|*Appeared on*| *2022-12-15*|\n",
       "|*Comments*| *15 pages, 6 figures, 5 tables. Accepted for publication in ApJ*|\n",
       "|**Abstract**| Narrow-Line Seyfert 1 (NLS1) Galaxies are an important type of active galactic nucleus (AGN), generally expected to be accreting at high Eddington rate. The properties of their outflows and importance of AGN feedback remain intriguing. We report on the discovery of fast outflowing warm absorbers (WAs) in the NLS1 PG 1001+054, with velocities in the range of 7000 to 9000 kilometers per second. They are identified with blueshifted Lyman alpha, N v and Si iv lines in the high resolution ultraviolet (UV) spectra taken with the Cosmic Origins Spectrograph (COS) onboard the Hubble Space Telescope (HST). We perform photoionization modeling using XSTAR with three WAs. The derived physical properties are typical of WAs in terms of ionization and column density, whereas the outflow velocities are significantly higher. The estimated location of these WAs ranges from 1 to 73 parsecs away from the AGN. Together with previous detection of high ionization absorber in the X-ray for PG 1001+054, we suggest that the fast outflowing UV absorber is probably a part of a multiphase outflow. Such structure is likely produced by the outflow launched from AGN at accretion disk scale, which shocks the ambient ISM producing stratified absorbers. Assuming contribution from the three WAs at tens of parsecs, the estimated ratio between the kinetic power of the outflow and AGN Eddington luminosity could reach 1.7 percent, raising the possibility of sufficient influence on the host galaxy when compared to some theoretical models for efficient AGN feedback. |\n",
       "|<p style=\"color:green\"> **ERROR** </p>| <p style=\"color:green\">affiliation error: mpia.affiliation_verifications: 'Heidelberg' keyword not found.</p> |"
      ],
      "text/plain": [
       "<IPython.core.display.Markdown object>"
      ]
     },
     "metadata": {},
     "output_type": "display_data"
    },
    {
     "data": {
      "text/markdown": [
       "\n",
       "|||\n",
       "|---:|:---|\n",
       "| [![arXiv](https://img.shields.io/badge/arXiv-arXiv:2212.07027-b31b1b.svg)](https://arxiv.org/abs/arXiv:2212.07027) | **Discovery of a radio lobe in the Cloverleaf Quasar at z = 2.56**  |\n",
       "|| <mark>Lei Zhang</mark>, et al. -- incl., <mark>Zhi-Yu Zhang</mark>, <mark>Ling-Rui Lin</mark>, <mark>Ran Li</mark> |\n",
       "|*Appeared on*| *2022-12-15*|\n",
       "|*Comments*| **|\n",
       "|**Abstract**| The fast growth of supermassive black holes and their feedback to the host galaxies play an important role in regulating the evolution of galaxies, especially in the early Universe. However, due to cosmological dimming and the limited angular resolution of most observations, it is difficult to resolve the feedback from the active galactic nuclei (AGN) to their host galaxies. Gravitational lensing, for its magnification, provides a powerful tool to spatially differentiate emission originated from AGN and host galaxy at high redshifts. Here we report a discovery of a radio lobe in a strongly lensed starburst quasar, H1413+117 or Cloverleaf at redshift $z= 2.56$, based on observational data at optical, sub-millimetre, and radio wavelengths. With both parametric and non-parametric lens models and with reconstructed images on the source plane, we find a differentially lensed, kpc scaled, single-sided radio lobe, located at ${\\sim}1.2\\,\\mathrm{kpc}$ to the north west of the host galaxy on the source plane. From the spectral energy distribution in radio bands, we find that the radio lobe has an energy turning point residing between 1.5 GHz and 8 GHz, indicating an age of 20--50 Myr. This could indicate a feedback switching of Cloverleaf quasar from the jet mode to the quasar mode. |\n",
       "|<p style=\"color:green\"> **ERROR** </p>| <p style=\"color:green\">affiliation error: mpia.affiliation_verifications: 'Heidelberg' keyword not found.</p> |"
      ],
      "text/plain": [
       "<IPython.core.display.Markdown object>"
      ]
     },
     "metadata": {},
     "output_type": "display_data"
    },
    {
     "data": {
      "text/markdown": [
       "\n",
       "|||\n",
       "|---:|:---|\n",
       "| [![arXiv](https://img.shields.io/badge/arXiv-arXiv:2212.07038-b31b1b.svg)](https://arxiv.org/abs/arXiv:2212.07038) | **Type I X-ray bursts spectra and fuel composition from the atoll and  transient source 4U 1730$-$22**  |\n",
       "|| Yongqi Lu, et al. -- incl., <mark>Zhaosheng Li</mark>, <mark>Shu Zhang</mark>, <mark>Liming Song</mark> |\n",
       "|*Appeared on*| *2022-12-15*|\n",
       "|*Comments*| *11 pages, 6 figures; submitted to A&A on September 16, 2022; Accepted for publication in A&A on December 13, 2022*|\n",
       "|**Abstract**| NICER observed two outbursts from the neutron star low-mass X-ray binary 4U 1730$-$22 in 2021 and 2022, which showed a similar spectral evolution in the hardness-intensity diagram. Seventeen type I X-ray bursts were identified in both outbursts. The X-ray burst spectra showed clear deviations from the blackbody model at first $\\sim10$ s after onset. Adding the enhanced persistent emission due to the Poynting-Robertson drag or the reflection from the accretion disk both significantly improve the fitting results. We found that 12 out of 17 X-ray bursts showed the photospheric radius expansion (PRE) characteristic. Considering the 9 PRE bursts out of 10 X-ray bursts observed by HXMT, there are 78% bursts from 4U 1730$-$22 exhibited PRE. According to the burst rise time, the duration, the local accretion rate, and the burst fuel composition estimated from recurrence time, we propose that these PRE bursts were powered by pure helium. From the touchdown flux of PRE bursts, we estimate the source distance of $d=7.54\\pm{0.46}~(X=0)$ kpc for a canonical neutron star with $M_{\\rm NS}=1.4M_\\odot$ and $R_{\\rm NS}=10~{\\rm km}$. |\n",
       "|<p style=\"color:green\"> **ERROR** </p>| <p style=\"color:green\">affiliation error: mpia.affiliation_verifications: 'Heidelberg' keyword not found.</p> |"
      ],
      "text/plain": [
       "<IPython.core.display.Markdown object>"
      ]
     },
     "metadata": {},
     "output_type": "display_data"
    },
    {
     "data": {
      "text/markdown": [
       "\n",
       "|||\n",
       "|---:|:---|\n",
       "| [![arXiv](https://img.shields.io/badge/arXiv-arXiv:2212.07061-b31b1b.svg)](https://arxiv.org/abs/arXiv:2212.07061) | **A Polarimetric Study of 9 PG Quasars with the VLA**  |\n",
       "|| Janhavi Baghel, et al. -- incl., <mark>C. M. Harrison</mark> |\n",
       "|*Appeared on*| *2022-12-15*|\n",
       "|*Comments*| *24 pages, 21 figures, MNRAS accepted*|\n",
       "|**Abstract**| We present polarization images of 9 radio-loud (RL) quasars from the VLA B-array at 6 GHz. These quasars belong to the Palomar-Green (PG) \"blazar\" sample comprising 16 RL quasars and 8 BL Lac objects. Extensive polarization is detected in the cores, jets and lobes of all the quasars, with cores primarily displaying magnetic (B-) fields transverse to, and jets displaying fields aligned with the jet direction. Hotspots display either transverse B-fields signifying B- field compression at terminal shocks or more complex structures. The fractional polarization in the cores ranges from 1-10% and jets/lobes from 10-40%. Several of the quasars show distorted or hybrid FRI/FRII radio morphologies with indications of restarted AGN activity. We attribute this to the optical/UV selection criteria of the PG sample that remains unbiased at radio frequencies. The in-band spectral indices of the radio cores are relatively flat while they are steep in the hotspots. This is consistent with the polarization structures where the hotspots appear to be locations of jet bends or bow-shocks. We present global properties for the entire PG \"blazar\" sample. We find that jet powers correlate with accretion rates for the quasars; higher accretion rates result in more powerful radio jets. A correlation between the radio core fractional polarization and the 150 MHz total radio luminosity for the 9 quasars studied here may imply that more organized B-fields at the jet bases lead to higher core fractional polarization and to more radio powerful radio jets. |\n",
       "|<p style=\"color:green\"> **ERROR** </p>| <p style=\"color:green\">affiliation error: mpia.affiliation_verifications: 'Heidelberg' keyword not found.</p> |"
      ],
      "text/plain": [
       "<IPython.core.display.Markdown object>"
      ]
     },
     "metadata": {},
     "output_type": "display_data"
    },
    {
     "data": {
      "text/markdown": [
       "\n",
       "|||\n",
       "|---:|:---|\n",
       "| [![arXiv](https://img.shields.io/badge/arXiv-arXiv:2212.07094-b31b1b.svg)](https://arxiv.org/abs/arXiv:2212.07094) | **Evidence of high latitude emission in the prompt phase of GRBs: How far  from the central engine are the GRBs produced?**  |\n",
       "|| Z. Lucas Uhm, et al. -- incl., <mark>Bing Zhang</mark>, <mark>Bin-Bin Zhang</mark> |\n",
       "|*Appeared on*| *2022-12-15*|\n",
       "|*Comments*| *8 pages, 4 figures, submitted*|\n",
       "|**Abstract**| The physical mechanism of gamma-ray bursts (GRBs) remains elusive. One of the difficulties in nailing down their physical mechanism comes from the fact that there has been no clear observational evidence on how far from the central engine the prompt gamma-rays of GRBs are emitted while the competing physical mechanisms predict different characteristic distances. Here we present a simple study addressing this question by making use of the \"high-latitude emission\" (HLE). We show that our detailed numerical modeling exhibits a clear signature of HLE in the decaying phase of \"broad pulses\" of GRBs. We show that the HLE can emerge as a prominent spectral break in $F_{\\nu}$ spectra and dominate the peak of $\\nu F_{\\nu}$ spectra even while the \"line-of-sight emission\" (LoSE) is still ongoing, hence providing a new view of HLE emergence. We remark that this \"HLE break\" could be hidden in some broad pulses, depending on the proximity between the peak energies of the LoSE and the HLE. Also, we present three examples of Fermi-GBM GRBs with broad pulses that exhibit the HLE signature. We show that their gamma-ray emitting region should be located at $\\sim 10^{16}$ cm from the central engine, which disfavors the photosphere models and small-radii internal shock models but favors magnetic dissipation models with a large emission radius. |\n",
       "|<p style=\"color:green\"> **ERROR** </p>| <p style=\"color:green\">affiliation error: mpia.affiliation_verifications: 'Heidelberg' keyword not found.</p> |"
      ],
      "text/plain": [
       "<IPython.core.display.Markdown object>"
      ]
     },
     "metadata": {},
     "output_type": "display_data"
    },
    {
     "data": {
      "text/markdown": [
       "\n",
       "|||\n",
       "|---:|:---|\n",
       "| [![arXiv](https://img.shields.io/badge/arXiv-arXiv:2212.07095-b31b1b.svg)](https://arxiv.org/abs/arXiv:2212.07095) | **Temporal and Spectral Evolution of Gamma-ray Burst Broad Pulses:  Identification of High Latitude Emission in the Prompt Emission**  |\n",
       "|| Donggeun Tak, et al. -- incl., <mark>Bing Zhang</mark>, <mark>Bin-Bin Zhang</mark> |\n",
       "|*Appeared on*| *2022-12-15*|\n",
       "|*Comments*| *30 pages, 36 figures*|\n",
       "|**Abstract**| We perform a detailed analysis on broad pulses in bright Gamma-ray bursts (GRBs) to understand the evolution of GRB broad pulses. Using the temporal and spectral properties, we test the high latitude emission (HLE) scenario in the decaying phase of broad pulses. The HLE originates from the curvature effect of a relativistic spherical jet, where higher latitude photons are delayed and softer than the observer's line-of-sight emission. The signature of HLE has not yet been identified undisputedly during the prompt emission of GRBs. The HLE theory predicts a specific relation, F$_{\\nu, E_{p}}$ $\\propto$ E$_{p}\\!^{2}$, between the peak energy $E_{p}$ in $\\nu$F$_{\\nu}$ spectra and the spectral flux F$_{\\nu}$ measured at $E_{p}$, F$_{\\nu, E_{p}}$. We search for evidence of this relation in 2157 GRBs detected by the Gamma-ray Burst Monitor (GBM) on board the Fermi Gamma-ray Space Telescope (Fermi) from the years 2008 to 2017. After imposing unbiased selection criteria in order to minimize contamination in a signal by background and overlaps of pulses, we build a sample of 32 broad pulses in 32 GRBs. We perform a time-resolved spectral analysis on each of these 32 broad pulses and find that the evolution of 18 pulses (56%) is clearly consistent with the HLE relation. For the 18 broad pulses, the exponent $\\delta$ in the relation of F$_{\\nu, E_{p}}$ $\\propto$ E$_{p}\\!^{\\delta}$ is distributed as a Gaussian function with median and width of 1.99 and 0.34, respectively. This result provides constraint on the emission radius of GRBs with the HLE signature. |\n",
       "|<p style=\"color:green\"> **ERROR** </p>| <p style=\"color:green\">affiliation error: mpia.affiliation_verifications: 'Heidelberg' keyword not found.</p> |"
      ],
      "text/plain": [
       "<IPython.core.display.Markdown object>"
      ]
     },
     "metadata": {},
     "output_type": "display_data"
    },
    {
     "data": {
      "text/markdown": [
       "\n",
       "|||\n",
       "|---:|:---|\n",
       "| [![arXiv](https://img.shields.io/badge/arXiv-arXiv:2212.07178-b31b1b.svg)](https://arxiv.org/abs/arXiv:2212.07178) | **Comparison of dynamical and kinematic reference frames via pulsar  positions from timing, Gaia, and interferometric astrometry**  |\n",
       "|| <mark>Niu Liu</mark>, et al. -- incl., <mark>Jia-Cheng Liu</mark>, <mark>Hong Zhang</mark> |\n",
       "|*Appeared on*| *2022-12-15*|\n",
       "|*Comments*| *22 pages, 15 figures, 3 tables, accepted for publication at A&A*|\n",
       "|**Abstract**| Pulsars are special objects whose positions can be determined independently from timing, radio interferometric, and Gaia astrometry at sub-milliarcsecond (mas) precision; thus, they provide a unique way to monitor the link between dynamical and kinematic reference frames. We aimed to assess the orientation consistency between the dynamical reference frame represented by the planetary ephemeris and the kinematic reference frames constructed by Gaia and VLBI through pulsar positions. We identified 49 pulsars in Gaia Data Release 3 and 62 pulsars with very long baseline interferometry (VLBI) positions from the PSR$\\pi$ and MSPSR$\\pi$ projects and searched for the published timing solutions of these pulsars. We then compared pulsar positions measured by timing, VLBI, and Gaia to estimate the orientation offsets of the ephemeris frames with respect to the Gaia and VLBI reference frames by iterative fitting. We found orientation offsets of $\\sim$10 mas in the DE200 frame with respect to the Gaia and VLBI frame. Our results depend strongly on the subset used in the comparison and could be biased by underestimated errors in the archival timing data, reflecting the limitation of using the literature timing solutions to determine the frame rotation. |\n",
       "|<p style=\"color:green\"> **ERROR** </p>| <p style=\"color:green\">affiliation error: mpia.affiliation_verifications: 'Heidelberg' keyword not found.</p> |"
      ],
      "text/plain": [
       "<IPython.core.display.Markdown object>"
      ]
     },
     "metadata": {},
     "output_type": "display_data"
    },
    {
     "data": {
      "text/markdown": [
       "\n",
       "|||\n",
       "|---:|:---|\n",
       "| [![arXiv](https://img.shields.io/badge/arXiv-arXiv:2212.07189-b31b1b.svg)](https://arxiv.org/abs/arXiv:2212.07189) | **Recent humps and superhumps observations and an estimation of outburst  parameters of the AM CVn star CR Boo**  |\n",
       "|| <mark>Daniela Boneva</mark>, et al. |\n",
       "|*Appeared on*| *2022-12-15*|\n",
       "|*Comments*| **|\n",
       "|**Abstract**| We present our observational results of AM CVn star CR Boo in the UBVR bands. Our observational campaign includes data obtained over 5 nights with the National Astronomical Observatory Rozhen, Belogradchik and the AS Vidojevica telescopes. During the whole time of our observations the brightness of the system varied between $13.95 - 17.23$ in B band. We report the appearance of humps during the period of quiescence and superhumps during the active state of the object, (where the latter are detected in two nights). We obtain the superhumps periodicity for two nights, $P_{sh}\\approx 24.76 - 24.92$ min. The color during maximum brightness is estimated as $ - 0.107 < (B-V)_{0} < 0.257$ and the corresponding temperature is in the range as $7700 [K] < T(B-V)_{0} < 11700 [K]$. We found that CR Boo varies from bluer to redder in the nights with outbursts activity. The star becomes bluer during the times of superhumps. |\n",
       "|<p style=\"color:green\"> **ERROR** </p>| <p style=\"color:green\">affiliation error: mpia.affiliation_verifications: 'Heidelberg' keyword not found.</p> |"
      ],
      "text/plain": [
       "<IPython.core.display.Markdown object>"
      ]
     },
     "metadata": {},
     "output_type": "display_data"
    },
    {
     "data": {
      "text/markdown": [
       "\n",
       "|||\n",
       "|---:|:---|\n",
       "| [![arXiv](https://img.shields.io/badge/arXiv-arXiv:2212.07259-b31b1b.svg)](https://arxiv.org/abs/arXiv:2212.07259) | **A data-driven physics-based transport model of solar energetic particles  accelerated by coronal mass ejection shocks propagating through the solar  coronal and heliospheric magnetic fields**  |\n",
       "|| <mark>Ming Zhang</mark>, et al. -- incl., <mark>Ju Zhang</mark> |\n",
       "|*Appeared on*| *2022-12-15*|\n",
       "|*Comments*| *26 pages, 12 figures*|\n",
       "|**Abstract**| In an effort to develop computational tools for predicting radiation hazards from solar energetic particles (SEPs), we have created a data-driven physics-based particle transport model to calculate the injection, acceleration and propagation of SEPs from coronal mass ejection (CME) shocks traversing through the solar corona and interplanetary magnetic fields. The model runs on an input of corona and heliospheric plasma and magnetic field configuration from an MHD model driven by solar photospheric magnetic field measurements superposed with observed CME shocks determined from coronagraph images. Using several advanced computation techniques involving stochastic simulation and integration, it rigorously solves the time-dependent 5-dimensional focus transport equation in the phase space that includes pitch-angle scattering, diffusion across magnetic field line, and particle acceleration by CME shocks. We apply the model to the 2011 November 3 CME event. The calculation results reproduce multi-spacecraft SEP observations reasonably well without normalization of particle flux. This circumsolar SEP event seen by spacecraft at Earth, STEREO-A and STEREO-B at widely separated longitudes can be explained by diffusive shock acceleration by a single CME shock with a moderate speed. |\n",
       "|<p style=\"color:green\"> **ERROR** </p>| <p style=\"color:green\">affiliation error: mpia.affiliation_verifications: 'Heidelberg' keyword not found.</p> |"
      ],
      "text/plain": [
       "<IPython.core.display.Markdown object>"
      ]
     },
     "metadata": {},
     "output_type": "display_data"
    },
    {
     "data": {
      "text/markdown": [
       "\n",
       "|||\n",
       "|---:|:---|\n",
       "| [![arXiv](https://img.shields.io/badge/arXiv-arXiv:2212.07272-b31b1b.svg)](https://arxiv.org/abs/arXiv:2212.07272) | **A Multiwavelength study of the ongoing Changing-look AGN AT2021fxu**  |\n",
       "|| Yukta Ajay, <mark>Muryel Guolo</mark>, Dheeraj Pasham |\n",
       "|*Appeared on*| *2022-12-15*|\n",
       "|*Comments*| *Submitted to the Research Notes of the AAS*|\n",
       "|**Abstract**| We present multiwavelength analyses of an active optical transient AT2021fxu which shows the appearance of previously absent broad emission lines in a recent optical spectrum, suggesting a Changing-look (CL) Active Galactic Nucleus (AGN). During the spectral transition, the brightness in the individual photometric bands increased up to $\\approx$0.6 in the optical bands and up to $\\approx$1.1 magnitudes in the UV bands. The brightening was accompanied by a blueward shift of the optical spectrum. AT2021fxu shows high X-ray (0.3-10 keV) flux variability before and after the outburst, with the average X-ray flux increasing by a factor of $\\approx$2 post-outburst. However, the X-ray spectral shape remains roughly the same, with no significant change in the line-of-sight column density. AT2021fxu's overall properties are consistent with an accretion-rate-driven transition from a Type-II to a Type-1 AGN. |\n",
       "|<p style=\"color:green\"> **ERROR** </p>| <p style=\"color:green\">affiliation error: mpia.affiliation_verifications: 'Heidelberg' keyword not found.</p> |"
      ],
      "text/plain": [
       "<IPython.core.display.Markdown object>"
      ]
     },
     "metadata": {},
     "output_type": "display_data"
    },
    {
     "data": {
      "text/markdown": [
       "\n",
       "|||\n",
       "|---:|:---|\n",
       "| [![arXiv](https://img.shields.io/badge/arXiv-arXiv:2212.07366-b31b1b.svg)](https://arxiv.org/abs/arXiv:2212.07366) | **The first large catalogue of spectroscopic redshifts in Webb's First  Deep Field, SMACS J0723.3$-$7327**  |\n",
       "|| Gaël Noirot, et al. -- incl., <mark>Jasleen Matharu</mark> |\n",
       "|*Appeared on*| *2022-12-15*|\n",
       "|*Comments*| *19 pages and 13 figures (incl. appendices), submitted to MNRAS*|\n",
       "|**Abstract**| We present a spectroscopic redshift catalogue of the SMACS J0723.3$-$7327 field (\"Webb's First Deep Field\") obtained from JWST/NIRISS grism spectroscopy and supplemented with JWST/NIRSpec and VLT/MUSE redshifts. The catalogue contains a total of 190 sources with secure spectroscopic redshifts, including 156 NIRISS grism redshifts, 123 of which are for sources whose redshifts were previously unknown. These new grism redshifts are secured with two or more spectroscopic features (64 sources), or with a single spectral feature whose identity is secured from the object's nine-band photometric redshift (59 sources). These are complemented with 17 NIRSpec and 48 MUSE redshifts, including six new NIRSpec redshifts identified in this work. In addition to the $z_{\\rm cl}=0.39$ cluster galaxy redshifts (for which we provide $\\sim$40 new NIRISS absorption-line redshifts), we also find three prominent galaxy overdensities at higher redshifts - at $z=1.1$, $z=1.4$, and $z=2.0$ - that were until now not seen in the JWST/NIRSpec and VLT/MUSE data. The paper describes the characteristics of our spectroscopic redshift sample and the methodology we have employed to obtain it. Our redshift catalogue is made available to the community at https://niriss.github.io/smacs0723. |\n",
       "|<p style=\"color:green\"> **ERROR** </p>| <p style=\"color:green\">affiliation error: mpia.affiliation_verifications: 'Heidelberg' keyword not found.</p> |"
      ],
      "text/plain": [
       "<IPython.core.display.Markdown object>"
      ]
     },
     "metadata": {},
     "output_type": "display_data"
    },
    {
     "data": {
      "text/markdown": [
       "\n",
       "|||\n",
       "|---:|:---|\n",
       "| [![arXiv](https://img.shields.io/badge/arXiv-arXiv:2212.07373-b31b1b.svg)](https://arxiv.org/abs/arXiv:2212.07373) | **The ESO-VLT MIKiS survey reloaded: exploring the internal kinematics of  NGC 6440**  |\n",
       "|| Silvia Leanza, et al. -- incl., <mark>Livia Origlia</mark> |\n",
       "|*Appeared on*| *2022-12-15*|\n",
       "|*Comments*| *20 pages, 11 figures, 4 tables, accepted for publication in ApJ*|\n",
       "|**Abstract**| In the context of the ESO-VLT Multi-Instrument Kinematic Survey (MIKiS) of Galactic globular clusters, here we present the line-of-sight velocity dispersion profile of NGC 6440, a massive globular cluster located in the Galactic bulge. By combining the data acquired with four different spectrographs, we obtained the radial velocity of a sample of $\\sim 1800$ individual stars distributed over the entire cluster extension, from $\\sim$0.1$\"$ to 778$\"$ from the center. Using a properly selected sample of member stars with the most reliable radial velocity measures, we derived the velocity dispersion profile up to 250$\"$ from the center. The profile is well described by the same King model that best fits the projected star density distribution, with a constant inner plateau (at ${\\sigma}_0 \\sim $ 12 km s$^{-1}$) and no evidence of a central cusp or other significant deviations. Our data allowed to study the presence of rotation only in the innermost regions of the cluster (r < 5$\"$), revealing a well-defined pattern of ordered rotation with a position angle of the rotation axis of $\\sim$132 $\\pm$ 2{\\deg} and an amplitude of $\\sim$3 km s$^{-1}$ (corresponding to Vrot/${\\sigma}_0 \\sim$ 0.3). Also, a flattening of the system qualitatively consistent with the rotation signal has been detected in the central region. |\n",
       "|<p style=\"color:green\"> **ERROR** </p>| <p style=\"color:green\">affiliation error: mpia.affiliation_verifications: 'Heidelberg' keyword not found.</p> |"
      ],
      "text/plain": [
       "<IPython.core.display.Markdown object>"
      ]
     },
     "metadata": {},
     "output_type": "display_data"
    },
    {
     "data": {
      "text/markdown": [
       "\n",
       "|||\n",
       "|---:|:---|\n",
       "| [![arXiv](https://img.shields.io/badge/arXiv-arXiv:2212.07386-b31b1b.svg)](https://arxiv.org/abs/arXiv:2212.07386) | **Quantum Tunneling of Ultralight Dark Matter Out of Satellite Galaxies**  |\n",
       "|| <mark>Mark P. Hertzberg</mark>, Abraham Loeb |\n",
       "|*Appeared on*| *2022-12-15*|\n",
       "|*Comments*| *6 pages, 2 figures, in double column format*|\n",
       "|**Abstract**| The idea of ultralight scalar (axion) dark matter is theoretically appealing and may resolve some small-scale problems of cold dark matter; so it deserves careful attention. In this work we carefully analyze tunneling of the scalar field in dwarf satellites due to the tidal gravitational force from the host halo. The tidal force is far from spherically symmetric; causing tunneling along the axis from the halo center to the dwarf, while confining in the orthogonal plane. We decompose the wave function into a spherical term plus higher harmonics, integrate out angles, and then numerically solve a residual radial Schr\\\"odinger-Poisson system. By demanding that the core of the Fornax dwarf halo can survive for at least the age of the universe places a bound on the dark matter particle mass $2\\times 10^{-22}\\,\\mbox{eV}\\lesssim m\\lesssim 6\\times 10^{-22}\\,$eV. Interestingly, we show that if another very low density halo is seen, then it rules out the ultralight scalar as core proposal completely. Furthermore, the non-condensed particles likely impose an even sharper lower bound. We also determine how the residual satellites could be distributed as a function of radius. |\n",
       "|<p style=\"color:green\"> **ERROR** </p>| <p style=\"color:green\">affiliation error: mpia.affiliation_verifications: 'Heidelberg' keyword not found.</p> |"
      ],
      "text/plain": [
       "<IPython.core.display.Markdown object>"
      ]
     },
     "metadata": {},
     "output_type": "display_data"
    },
    {
     "data": {
      "text/markdown": [
       "\n",
       "|||\n",
       "|---:|:---|\n",
       "| [![arXiv](https://img.shields.io/badge/arXiv-arXiv:2212.07399-b31b1b.svg)](https://arxiv.org/abs/arXiv:2212.07399) | **Patchy Forsterite Clouds in the Atmospheres of Two Highly Variable  Exoplanet Analogs**  |\n",
       "|| Johanna M. Vos, et al. -- incl., <mark>Ben Burningham</mark> |\n",
       "|*Appeared on*| *2022-12-15*|\n",
       "|*Comments*| *Accepted for publication in ApJ*|\n",
       "|**Abstract**| We present an atmospheric retrieval analysis of a pair of highly variable, $\\sim200~$Myr old, early-T type planetary-mass exoplanet analogs SIMP J01365662+0933473 and 2MASS J21392676+0220226 using the Brewster retrieval framework. Our analysis, which makes use of archival $1-15~\\mu$m spectra, finds almost identical atmospheres for both objects. For both targets, we find that the data is best described by a patchy, high-altitude forsterite (Mg$_2$SiO$_4$) cloud above a deeper, optically thick iron (Fe) cloud. Our model constrains the cloud properties well, including the cloud locations and cloud particle sizes. We find that the patchy forsterite slab cloud inferred from our retrieval may be responsible for the spectral behavior of the observed variability. Our retrieved cloud structure is consistent with the atmospheric structure previously inferred from spectroscopic variability measurements, but clarifies this picture significantly. We find consistent C/O ratios for both objects which supports their formation within the same molecular cloud in the Carina-Near Moving Group. Finally, we note some differences in the constrained abundances of H$_2$O and CO which may be caused by data quality and/or astrophysical processes such as auroral activity and their differing rotation rates. The results presented in this work provide a promising preview of the detail with which we will characterize extrasolar atmospheres with JWST, which will yield higher quality spectra across a wider wavelength range. |\n",
       "|<p style=\"color:green\"> **ERROR** </p>| <p style=\"color:green\">affiliation error: mpia.affiliation_verifications: 'Heidelberg' keyword not found.</p> |"
      ],
      "text/plain": [
       "<IPython.core.display.Markdown object>"
      ]
     },
     "metadata": {},
     "output_type": "display_data"
    },
    {
     "data": {
      "text/markdown": [
       "\n",
       "|||\n",
       "|---:|:---|\n",
       "| [![arXiv](https://img.shields.io/badge/arXiv-arXiv:2212.07416-b31b1b.svg)](https://arxiv.org/abs/arXiv:2212.07416) | **Hydrodynamical Simulations of Circumbinary Accretion: Balance between  Heating and Cooling**  |\n",
       "|| Hai-Yang Wang, Xue-Ning Bai, Dong Lai, <mark>Douglas N. C. Lin</mark> |\n",
       "|*Appeared on*| *2022-12-15*|\n",
       "|*Comments*| *19 pages, 19 figures, submitted to MNARS*|\n",
       "|**Abstract**| Hydrodynamical interaction in circumbinary discs (CBDs) plays a crucial role in various astrophysical systems, ranging from young stellar binaries to supermassive black hole binaries in galactic centers. Most previous simulations of binary-disc systems have adopted locally isothermal equation of state. In this study, we use the grid-based code $\\texttt{Athena++}$ to conduct a suite of two-dimensional viscous hydrodynamical simulations of circumbinary accretion on a cartesian grid, resolving the central cavity of the binary. The gas thermodynamics is treated by thermal relaxation towards an equilibrium temperature (based on the constant$-\\beta$ cooling ansatz, where $\\beta$ is the cooling time in units of the local Keplerian time). Focusing on equal mass, circular binaries in CBDs with (equilibrium) disc aspect ratio $H/R=0.1$, we find that the cooling of the disc gas significantly influences the binary orbital evolution, accretion variability, and CBD morphology, and the effect depends sensitively on the disc viscosity prescriptions. When adopting a constant kinematic viscosity, a finite cooling time ($\\beta \\gtrsim 0.1$) leads to binary inspiral as opposed to outspiral and the CBD cavity becomes more symmetric. When adopting a dynamically varying $\\alpha-$viscosity, binary inspiral only occurs within a narrow range of cooling time (corresponding to $\\beta$ around 0.5). |\n",
       "|<p style=\"color:green\"> **ERROR** </p>| <p style=\"color:green\">affiliation error: mpia.affiliation_verifications: 'Heidelberg' keyword not found.</p> |"
      ],
      "text/plain": [
       "<IPython.core.display.Markdown object>"
      ]
     },
     "metadata": {},
     "output_type": "display_data"
    }
   ],
   "source": [
    "import datetime\n",
    "today = str(datetime.date.today())\n",
    "logfile = f\"_build/html/logs/log-{today}.md\"\n",
    "\n",
    "\n",
    "with open(logfile, 'w') as logs:\n",
    "    # Success\n",
    "    logs.write(f'# Arxiv on Deck 2: Logs - {today}\\n\\n')\n",
    "    logs.write(\"\"\"* Arxiv had {0:,d} new papers\\n\"\"\".format(len(new_papers)))\n",
    "    logs.write(\"\"\"    * {0:,d} with possible author matches\\n\\n\"\"\".format(len(candidates)))\n",
    "    logs.write(\"## Sucessful papers\\n\\n\")\n",
    "    display(Markdown(\"## Successful papers\"))\n",
    "    success = [k[0] for k in documents]\n",
    "    for candid in candidates:\n",
    "        if candid['identifier'].split(':')[-1] in success:\n",
    "            display(candid)\n",
    "            logs.write(candid.generate_markdown_text() + '\\n\\n')\n",
    "\n",
    "    ## failed\n",
    "    logs.write(\"## Failed papers\\n\\n\")\n",
    "    display(Markdown(\"## Failed papers\"))\n",
    "    failed = sorted(failed, key=lambda x: x[1])\n",
    "    current_reason = \"\"\n",
    "    for paper, reason in failed:\n",
    "        if 'affiliation' in reason:\n",
    "            color = 'green'\n",
    "        else:\n",
    "            color = 'red'\n",
    "        data = Markdown(\n",
    "                paper.generate_markdown_text() + \n",
    "                f'\\n|<p style=\"color:{color:s}\"> **ERROR** </p>| <p style=\"color:{color:s}\">{reason:s}</p> |'\n",
    "               )\n",
    "        if reason != current_reason:\n",
    "            logs.write(f'### {reason:s} \\n\\n')\n",
    "            current_reason = reason\n",
    "        logs.write(data.data + '\\n\\n')\n",
    "        \n",
    "        # only display here the important errors (all in logs)\n",
    "        # if color in ('red',):\n",
    "        display(data)"
   ]
  },
  {
   "cell_type": "markdown",
   "id": "472d20ee",
   "metadata": {
    "papermill": {
     "duration": 0.012801,
     "end_time": "2022-12-15T04:13:11.242741",
     "exception": false,
     "start_time": "2022-12-15T04:13:11.229940",
     "status": "completed"
    },
    "tags": []
   },
   "source": [
    "## Export documents\n",
    "\n",
    "We now write the .md files and export relevant images"
   ]
  },
  {
   "cell_type": "code",
   "execution_count": 7,
   "id": "d426aed9",
   "metadata": {
    "execution": {
     "iopub.execute_input": "2022-12-15T04:13:11.270192Z",
     "iopub.status.busy": "2022-12-15T04:13:11.269658Z",
     "iopub.status.idle": "2022-12-15T04:13:11.280169Z",
     "shell.execute_reply": "2022-12-15T04:13:11.279342Z"
    },
    "papermill": {
     "duration": 0.027533,
     "end_time": "2022-12-15T04:13:11.282393",
     "exception": false,
     "start_time": "2022-12-15T04:13:11.254860",
     "status": "completed"
    },
    "tags": []
   },
   "outputs": [],
   "source": [
    "def export_markdown_summary(md: str, md_fname:str, directory: str):\n",
    "    \"\"\"Export MD document and associated relevant images\"\"\"\n",
    "    import os\n",
    "    import shutil\n",
    "    import re\n",
    "\n",
    "    if (os.path.exists(directory) and not os.path.isdir(directory)):\n",
    "        raise RuntimeError(f\"a non-directory file exists with name {directory:s}\")\n",
    "\n",
    "    if (not os.path.exists(directory)):\n",
    "        print(f\"creating directory {directory:s}\")\n",
    "        os.mkdir(directory)\n",
    "\n",
    "    fig_fnames = (re.compile(r'\\[Fig.*\\]\\((.*)\\)').findall(md) + \n",
    "                  re.compile(r'\\<img src=\"([^>\\s]*)\"[^>]*/>').findall(md))\n",
    "    for fname in fig_fnames:\n",
    "        if 'http' in fname:\n",
    "            # No need to copy online figures\n",
    "            continue\n",
    "        destdir = os.path.join(directory, os.path.dirname(fname))\n",
    "        destfname = os.path.join(destdir, os.path.basename(fname))\n",
    "        try:\n",
    "            os.makedirs(destdir)\n",
    "        except FileExistsError:\n",
    "            pass\n",
    "        shutil.copy(fname, destfname)\n",
    "    with open(os.path.join(directory, md_fname), 'w') as fout:\n",
    "        fout.write(md)\n",
    "    print(\"exported in \", os.path.join(directory, md_fname))\n",
    "    [print(\"    + \" + os.path.join(directory,fk)) for fk in fig_fnames]"
   ]
  },
  {
   "cell_type": "code",
   "execution_count": 8,
   "id": "014d04a4",
   "metadata": {
    "execution": {
     "iopub.execute_input": "2022-12-15T04:13:11.310364Z",
     "iopub.status.busy": "2022-12-15T04:13:11.309795Z",
     "iopub.status.idle": "2022-12-15T04:13:11.321390Z",
     "shell.execute_reply": "2022-12-15T04:13:11.320284Z"
    },
    "papermill": {
     "duration": 0.027657,
     "end_time": "2022-12-15T04:13:11.323323",
     "exception": false,
     "start_time": "2022-12-15T04:13:11.295666",
     "status": "completed"
    },
    "tags": []
   },
   "outputs": [
    {
     "name": "stdout",
     "output_type": "stream",
     "text": [
      "exported in  _build/html/2212.07332.md\n",
      "    + _build/html/tmp_2212.07332/./APPEND_ACT/ACT_APPEND_DATA.png\n",
      "    + _build/html/tmp_2212.07332/./IMG_DATA_OBS/RV_DATA_2PC.png\n",
      "    + _build/html/tmp_2212.07332/./IMG_DATA_OBS/SNO_DATA.png\n",
      "    + _build/html/tmp_2212.07332/./ANALYSIS/RV/RV_DATA_MODEL_0P.png\n"
     ]
    }
   ],
   "source": [
    "for paper_id, md in documents:\n",
    "    export_markdown_summary(md, f\"{paper_id:s}.md\", '_build/html/')"
   ]
  },
  {
   "cell_type": "markdown",
   "id": "f087a0a7",
   "metadata": {
    "papermill": {
     "duration": 0.012593,
     "end_time": "2022-12-15T04:13:11.348414",
     "exception": false,
     "start_time": "2022-12-15T04:13:11.335821",
     "status": "completed"
    },
    "tags": []
   },
   "source": [
    "## Display the papers\n",
    "\n",
    "Not necessary but allows for a quick check."
   ]
  },
  {
   "cell_type": "code",
   "execution_count": 9,
   "id": "fd25f625",
   "metadata": {
    "execution": {
     "iopub.execute_input": "2022-12-15T04:13:11.376848Z",
     "iopub.status.busy": "2022-12-15T04:13:11.376305Z",
     "iopub.status.idle": "2022-12-15T04:13:11.383226Z",
     "shell.execute_reply": "2022-12-15T04:13:11.382353Z"
    },
    "papermill": {
     "duration": 0.023728,
     "end_time": "2022-12-15T04:13:11.385407",
     "exception": false,
     "start_time": "2022-12-15T04:13:11.361679",
     "status": "completed"
    },
    "scrolled": false,
    "tags": []
   },
   "outputs": [
    {
     "data": {
      "text/markdown": [
       "<div class=\"macros\" style=\"visibility:hidden;\">\n",
       "$\\newcommand{\\ensuremath}{}$\n",
       "$\\newcommand{\\xspace}{}$\n",
       "$\\newcommand{\\object}[1]{\\texttt{#1}}$\n",
       "$\\newcommand{\\farcs}{{.}''}$\n",
       "$\\newcommand{\\farcm}{{.}'}$\n",
       "$\\newcommand{\\arcsec}{''}$\n",
       "$\\newcommand{\\arcmin}{'}$\n",
       "$\\newcommand{\\ion}[2]{#1#2}$\n",
       "$\\newcommand{\\textsc}[1]{\\textrm{#1}}$\n",
       "$\\newcommand{\\hl}[1]{\\textrm{#1}}$</div>\n",
       "\n",
       "<div class=\"macros\" style=\"visibility:hidden;\">\n",
       "$\\newcommand{$\\ensuremath$}{}$\n",
       "$\\newcommand{$\\xspace$}{}$\n",
       "$\\newcommand{$\\object$}[1]{\\texttt{#1}}$\n",
       "$\\newcommand{$\\farcs$}{{.}''}$\n",
       "$\\newcommand{$\\farcm$}{{.}'}$\n",
       "$\\newcommand{$\\arcsec$}{''}$\n",
       "$\\newcommand{$\\arcmin$}{'}$\n",
       "$\\newcommand{$\\ion$}[2]{#1#2}$\n",
       "$\\newcommand{$\\textsc$}[1]{\\textrm{#1}}$\n",
       "$\\newcommand{$\\hl$}[1]{\\textrm{#1}}$</div>\n",
       "\n",
       "\n",
       "\n",
       "<div id=\"title\">\n",
       "\n",
       "# The data used in this paper is available in electronic form at the CDS via anonymous ftp to cdsarc.u-strasbg.fr (130.79.128.5) or via http://cdsweb.u-strasbg.fr/cgi-bin/qcat?J/A+A/\n",
       "\n",
       "</div>\n",
       "<div id=\"comments\">\n",
       "\n",
       "[![arXiv](https://img.shields.io/badge/arXiv-2212.07332-b31b1b.svg)](https://arxiv.org/abs/2212.07332)<mark>Appeared on: 2022-12-15</mark> - _23 pages, 20 figures, 3 tables_\n",
       "\n",
       "</div>\n",
       "<div id=\"authors\">\n",
       "\n",
       "A. Suárez Mascareño, et al. -- incl., <mark><mark>J. Lillo-Box</mark></mark>, <mark><mark>J. I. González Hernández</mark></mark>, <mark><mark>Th. Henning</mark></mark>\n",
       "\n",
       "</div>\n",
       "<div id=\"abstract\">\n",
       "\n",
       "**Abstract:** We report the discovery and characterisation of two Earth-mass planets orbiting in the habitable zone of the nearby M-dwarf GJ 1002 based on the analysis of the radial-velocity (RV) time series from the ESPRESSO and CARMENES spectrographs. The host star is the quiet M5.5 V star GJ 1002  (relatively faint in the optical,$V \\sim 13.8$mag, but brighter in the infrared,$J \\sim 8.3$mag), located at 4.84 pc from the Sun. We analyse 139 spectroscopic observations taken between 2017 and 2021. We performed a joint analysis of the time series of the RV and full-width half maximum (FWHM) of the cross-correlation function (CCF) to model the planetary and stellar signals present in the data, applying Gaussian process regression to deal with the stellar activity. We detect the signal of two planets orbiting GJ 1002. GJ 1002 b is a planet with a minimum mass$m_p \\sin i $of 1.08$\\pm$0.13 M$_{\\oplus}$with an orbital period of 10.3465$\\pm$0.0027 days at a distance of 0.0457$\\pm$0.0013 au from its parent star, receiving an estimated stellar flux of 0.67$F_{\\oplus}$. GJ 1002 c is a planet with a minimum mass$m_p \\sin i $of 1.36$\\pm$0.17 M$_{\\oplus}$with an orbital period of 20.202$\\pm$0.013 days at a distance of 0.0738$\\pm$0.0021 au from its parent star, receiving an estimated stellar flux of 0.257$F_{\\oplus}$. We also detect the rotation signature of the star, with a period of 126$\\pm$15 days. We find that there is a correlation between the temperature of certain optical elements in the spectrographs and changes in the instrumental profile that can affect the scientific data, showing a seasonal behaviour that creates spurious signals at periods longer than$\\sim$200 days. GJ 1002 is one of the few known nearby systems with planets that could potentially host habitable environments. The closeness of the host star to the Sun makes the angular sizes of the orbits of both planets ($\\sim$9.7 mas and$\\sim$15.7 mas, respectively) large enough for their atmosphere to be studied via high-contrast high-resolution spectroscopy with instruments such as the future spectrograph ANDES for the ELT or the LIFE mission.\n",
       "\n",
       "</div>\n",
       "\n",
       "<div id=\"div_fig1\">\n",
       "\n",
       "<img src=\"tmp_2212.07332/./APPEND_ACT/ACT_APPEND_DATA.png\" alt=\"Fig19\" width=\"100%\"/>\n",
       "\n",
       "**Figure 19. -** Activity indicators (left panels) and their GLS periodograms (right panels). All spectroscopic indictors have been detrended against the temperature of the \\'Echelle grating. The green shaded regions in the GLS periodograms show the periods of the planets GJ 1002 b and c. The widths of the region around the periods have been exaggerated for better visualisation. The red shaded regions shows the 95\\% confidence interval around the measured rotation period. In all cases, the median value of each dataset has been subtracted. (*activity_ind*)\n",
       "\n",
       "</div>\n",
       "<div id=\"div_fig2\">\n",
       "\n",
       "<img src=\"tmp_2212.07332/./IMG_DATA_OBS/RV_DATA_2PC.png\" alt=\"Fig6.1\" width=\"50%\"/><img src=\"tmp_2212.07332/./IMG_DATA_OBS/SNO_DATA.png\" alt=\"Fig6.2\" width=\"50%\"/>\n",
       "\n",
       "**Figure 6. -** Scientific data used in the subsequent analysis. \\textit{Top panel}: RV data of GJ 1002. The purple filled circles show the CARMENES data. The teal symbols show the ESPRESSO data. \\textit{Middle panel}: FWHM time series of GJ 1002. \\textit{Bottom panel}: SNO V-band photometry of GJ 1002. (*gj1002_data*)\n",
       "\n",
       "</div>\n",
       "<div id=\"div_fig3\">\n",
       "\n",
       "<img src=\"tmp_2212.07332/./ANALYSIS/RV/RV_DATA_MODEL_0P.png\" alt=\"Fig11\" width=\"100%\"/>\n",
       "\n",
       "**Figure 11. -** Activity-only model. \\textit{Top panels}: Combined FWHM time series of ESPRESSO and CARMENES with the best fit model. The right panel shows a zoom to the latest ESPRESSO campaign. \\textit{Middle panels}: Combined RV time series of ESPRESSO and CARMENES with the best fit activity-only model. \\textit{Bottom panels}: Residuals after the activity-only fit of the RV time series of ESPRESSO and CARMENES. The right panel shows the GLS periodogram of the residuals. The computation of the periodogram uses the offsets and the jitters estimated for model 0-Planets in table \\ref{parameters_1}. (*model_rv_0p*)\n",
       "\n",
       "</div>"
      ],
      "text/plain": [
       "<IPython.core.display.Markdown object>"
      ]
     },
     "metadata": {},
     "output_type": "display_data"
    }
   ],
   "source": [
    "[display(Markdown(k[1])) for k in documents];"
   ]
  },
  {
   "cell_type": "markdown",
   "id": "873873a4",
   "metadata": {
    "papermill": {
     "duration": 0.013642,
     "end_time": "2022-12-15T04:13:11.443508",
     "exception": false,
     "start_time": "2022-12-15T04:13:11.429866",
     "status": "completed"
    },
    "tags": []
   },
   "source": [
    "# Create HTML index"
   ]
  },
  {
   "cell_type": "code",
   "execution_count": 10,
   "id": "cf665672",
   "metadata": {
    "execution": {
     "iopub.execute_input": "2022-12-15T04:13:11.472778Z",
     "iopub.status.busy": "2022-12-15T04:13:11.471916Z",
     "iopub.status.idle": "2022-12-15T04:13:11.489269Z",
     "shell.execute_reply": "2022-12-15T04:13:11.488420Z"
    },
    "papermill": {
     "duration": 0.035216,
     "end_time": "2022-12-15T04:13:11.492464",
     "exception": false,
     "start_time": "2022-12-15T04:13:11.457248",
     "status": "completed"
    },
    "tags": []
   },
   "outputs": [
    {
     "name": "stdout",
     "output_type": "stream",
     "text": [
      "133  publications in the last 7 days.\n",
      "\t _build/html/2212.07332.md\n",
      "\t _build/html/2212.06434.md\n",
      "\t _build/html/2212.04710.md\n",
      "\t _build/html/2212.04026.md\n",
      "\t _build/html/2212.03563.md\n",
      "\t _build/html/2212.03514.md\n",
      "\t _build/html/2212.02667.md\n",
      "\t _build/html/2212.02627.md\n",
      "\t _build/html/2212.02235.md\n",
      "\t _build/html/2212.01707.md\n",
      "\t _build/html/2212.01526.md\n",
      "\t _build/html/2212.01397.md\n",
      "\t _build/html/2212.01291.md\n",
      "\t _build/html/2212.01281.md\n",
      "\t _build/html/2212.00812.md\n",
      "\t _build/html/2212.00811.md\n",
      "\t _build/html/2212.00806.md\n",
      "\t _build/html/2212.00047.md\n",
      "\t _build/html/2212.00032.md\n",
      "\t _build/html/2211.16996.md\n",
      "\t _build/html/2211.16510.md\n",
      "\t _build/html/2211.16123.md\n",
      "\t _build/html/2211.15816.md\n",
      "\t _build/html/2211.15698.md\n",
      "\t _build/html/2211.15576.md\n",
      "\t _build/html/2211.15434.md\n",
      "\t _build/html/2211.15288.md\n",
      "\t _build/html/2211.15224.md\n",
      "\t _build/html/2211.14543.md\n",
      "\t _build/html/2211.14330.md\n",
      "\t _build/html/2211.14322.md\n",
      "\t _build/html/2211.14132.md\n",
      "\t _build/html/2211.13811.md\n",
      "\t _build/html/2211.13426.md\n",
      "\t _build/html/2211.13318.md\n",
      "\t _build/html/2211.13146.md\n",
      "\t _build/html/2211.12613.md\n",
      "\t _build/html/2211.11767.md\n",
      "\t _build/html/2211.09840.md\n",
      "\t _build/html/2211.09217.md\n",
      "\t _build/html/2211.08493.md\n",
      "\t _build/html/2211.08487.md\n",
      "\t _build/html/2211.08294.md\n",
      "\t _build/html/2211.07667.md\n",
      "\t _build/html/2211.07659.md\n",
      "\t _build/html/2211.06454.md\n",
      "\t _build/html/2211.06205.md\n",
      "\t _build/html/2211.06194.md\n",
      "\t _build/html/2211.05022.md\n",
      "\t _build/html/2211.04048.md\n",
      "\t _build/html/2211.03641.md\n",
      "\t _build/html/2211.02502.md\n",
      "\t _build/html/2211.01474.md\n",
      "\t _build/html/2211.00667.md\n",
      "\t _build/html/2211.00657.md\n",
      "\t _build/html/2211.00087.md\n",
      "\t _build/html/2211.00036.md\n",
      "\t _build/html/2211.00020.md\n",
      "\t _build/html/2211.00010.md\n",
      "\t _build/html/2210.17434.md\n",
      "\t _build/html/2210.12412.md\n",
      "\t _build/html/2210.11926.md\n",
      "\t _build/html/2210.11551.md\n",
      "\t _build/html/2210.11103.md\n",
      "\t _build/html/2210.10707.md\n",
      "\t _build/html/2210.09930.md\n",
      "\t _build/html/2210.08996.md\n",
      "\t _build/html/2210.08517.md\n",
      "\t _build/html/2210.08510.md\n",
      "\t _build/html/2210.08078.md\n",
      "\t _build/html/2210.06504.md\n",
      "\t _build/html/2210.05695.md\n",
      "\t _build/html/2210.05595.md\n",
      "\t _build/html/2210.05505.md\n",
      "\t _build/html/2210.04721.md\n",
      "\t _build/html/2210.03615.md\n",
      "\t _build/html/2210.01811.md\n",
      "\t _build/html/2210.01809.md\n",
      "\t _build/html/2210.01556.md\n",
      "\t _build/html/2210.00863.md\n",
      "\t _build/html/2210.00560.md\n",
      "\t _build/html/2209.15403.md\n",
      "\t _build/html/2209.15110.md\n",
      "\t _build/html/2209.14410.md\n",
      "\t _build/html/2209.14396.md\n",
      "\t _build/html/2209.13717.md\n",
      "\t _build/html/2209.13336.md\n",
      "\t _build/html/2209.12906.md\n",
      "\t _build/html/2209.11781.md\n",
      "\t _build/html/2209.11602.md\n",
      "\t _build/html/2209.11248.md\n",
      "\t _build/html/2209.11096.md\n",
      "\t _build/html/2209.10618.md\n",
      "\t _build/html/2209.09914.md\n",
      "\t _build/html/2209.09823.md\n",
      "\t _build/html/2209.08242.md\n",
      "\t _build/html/2209.08120.md\n",
      "\t _build/html/2209.08106.md\n",
      "\t _build/html/2209.07962.md\n",
      "\t _build/html/2209.07931.md\n",
      "\t _build/html/2209.06833.md\n",
      "\t _build/html/2209.05814.md\n",
      "\t _build/html/2209.05593.md\n",
      "\t _build/html/2209.04304.md\n",
      "\t _build/html/2209.03367.md\n",
      "\t _build/html/2209.02872.md\n",
      "\t _build/html/2209.02725.md\n",
      "\t _build/html/2209.02722.md\n",
      "\t _build/html/2209.02092.md\n",
      "\t _build/html/2209.01125.md\n",
      "\t _build/html/2209.00828.md\n",
      "\t _build/html/2209.00363.md\n",
      "\t _build/html/2208.14927.md\n",
      "\t _build/html/2208.09335.md\n",
      "\t _build/html/2208.08872.md\n",
      "\t _build/html/2204.06393.md\n",
      "\t _build/html/2204.03335.md\n",
      "\t _build/html/2204.03253.md\n",
      "\t _build/html/2204.02998.md\n",
      "\t _build/html/2204.02109.md\n",
      "\t _build/html/2204.02017.md\n",
      "\t _build/html/2204.01824.md\n",
      "\t _build/html/2204.01758.md\n",
      "\t _build/html/2204.01245.md\n",
      "\t _build/html/2204.00793.md\n",
      "\t _build/html/2204.00342.md\n",
      "\t _build/html/2203.16959.md\n",
      "\t _build/html/2203.16856.md\n",
      "\t _build/html/2203.16735.md\n",
      "\t _build/html/2203.16734.md\n",
      "\t _build/html/2203.16504.md\n",
      "\t _build/html/2203.15822.md\n",
      "\t _build/html/2203.15811.md\n"
     ]
    }
   ],
   "source": [
    "from datetime import datetime, timedelta, timezone\n",
    "from glob import glob\n",
    "\n",
    "files = glob('_build/html/*.md')\n",
    "days = 7\n",
    "now = datetime.today()\n",
    "res = []\n",
    "for fk in files:\n",
    "    stat_result = os.stat(fk).st_ctime\n",
    "    modified = datetime.fromtimestamp(stat_result, tz=timezone.utc).replace(tzinfo=None)\n",
    "    delta = now.today() - modified\n",
    "    if delta <= timedelta(days=days):\n",
    "        res.append((delta.seconds, fk))\n",
    "res = [k[1] for k in reversed(sorted(res, key=lambda x:x[1]))]\n",
    "npub = len(res)\n",
    "print(len(res), f\" publications in the last {days:d} days.\")\n",
    "[ print('\\t', k) for k in res ];"
   ]
  },
  {
   "cell_type": "code",
   "execution_count": 11,
   "id": "52ca0208",
   "metadata": {
    "execution": {
     "iopub.execute_input": "2022-12-15T04:13:11.522299Z",
     "iopub.status.busy": "2022-12-15T04:13:11.521990Z",
     "iopub.status.idle": "2022-12-15T04:13:11.531749Z",
     "shell.execute_reply": "2022-12-15T04:13:11.531046Z"
    },
    "papermill": {
     "duration": 0.026852,
     "end_time": "2022-12-15T04:13:11.533792",
     "exception": false,
     "start_time": "2022-12-15T04:13:11.506940",
     "status": "completed"
    },
    "scrolled": false,
    "tags": []
   },
   "outputs": [],
   "source": [
    "def create_carousel(npub=4):\n",
    "    \"\"\" Generate the HTML code for a carousel with `npub` slides \"\"\"\n",
    "    carousel = [\"\"\"<section class=\"carousel\" aria-label=\"Gallery\">\"\"\",\n",
    "                \"\"\"  <ol class=\"carousel__viewport\">\"\"\",\n",
    "    ]\n",
    "    for k in range(1, npub + 1):\n",
    "        prev_ = k - 1\n",
    "        next_ = k + 1\n",
    "        if prev_ <= 0:\n",
    "            prev_ = npub\n",
    "        if next_ > npub:\n",
    "            next_ = 1\n",
    "        text  = f\"\"\"    <li id=\"carousel__slide{k}\" tabindex=\"0\" class=\"carousel__slide\">\\n\"\"\"\n",
    "        text += f\"\"\"       <div class=\"carousel__snapper\">\\n\"\"\"\n",
    "        text += f\"\"\"         <a href=\"#carousel__slide{prev_}\" class=\"carousel__prev\">Go to previous slide</a>\\n\"\"\"\n",
    "        text += f\"\"\"         <a href=\"#carousel__slide{next_}\" class=\"carousel__next\">Go to next slide</a>\\n\"\"\"\n",
    "        text += f\"\"\"         <div id=\"slide{k}_content\" class=\"md_view\" >Content {k}</div>\\n\"\"\"\n",
    "        text += f\"\"\"       </div>\\n\"\"\"\n",
    "        text += f\"\"\"    </li>\"\"\"\n",
    "        carousel.append(text)\n",
    "\n",
    "    carousel.extend([\n",
    "        \"\"\"  </ol>\"\"\",\n",
    "        \"\"\"  <aside class=\"carousel__navigation\">\"\"\",\n",
    "        \"\"\"    <ol class=\"carousel__navigation-list\">\"\"\"])\n",
    "\n",
    "    for k in range(1, npub + 1):\n",
    "        text  = f\"\"\"      <li class=\"carousel__navigation-item\">\\n\"\"\"\n",
    "        text += f\"\"\"        <a href=\"#carousel__slide{k}\" class=\"carousel__navigation-button\">Go to {k}</a>\\n\"\"\"\n",
    "        text += f\"\"\"      </li>\"\"\"\n",
    "        carousel.append(text)\n",
    "    carousel.extend([\"\"\"    </ol>\"\"\", \"\"\"  </aside>\"\"\", \"\"\"</section>\"\"\"])\n",
    "\n",
    "    return '\\n'.join(carousel)"
   ]
  },
  {
   "cell_type": "code",
   "execution_count": 12,
   "id": "a6eac5b6",
   "metadata": {
    "execution": {
     "iopub.execute_input": "2022-12-15T04:13:11.561947Z",
     "iopub.status.busy": "2022-12-15T04:13:11.561672Z",
     "iopub.status.idle": "2022-12-15T04:13:11.571648Z",
     "shell.execute_reply": "2022-12-15T04:13:11.570848Z"
    },
    "papermill": {
     "duration": 0.026455,
     "end_time": "2022-12-15T04:13:11.573745",
     "exception": false,
     "start_time": "2022-12-15T04:13:11.547290",
     "status": "completed"
    },
    "scrolled": false,
    "tags": []
   },
   "outputs": [],
   "source": [
    "carousel = create_carousel(npub)\n",
    "docs = ', '.join(['\"{0:s}\"'.format(k.split('/')[-1]) for k in res])\n",
    "slides = ', '.join([f'\"slide{k}_content\"' for k in range(1, npub + 1)])\n",
    "\n",
    "script = f\"\"\"\n",
    "const docs = [{docs}]\n",
    "\n",
    "const slides = [{slides}]\n",
    "\"\"\" + \"\"\"\n",
    "async function run() {\n",
    "    for (let i = 0; i < docs.length; i++) {\n",
    "        let file = await fetch(docs[i]);\n",
    "        let text = await file.text()\n",
    "        document.getElementById(slides[i]).innerHTML =\n",
    "            marked.parse(text);\n",
    "    }\n",
    "    hljs.highlightAll();\n",
    "}\n",
    "run()\n",
    "\"\"\"\n",
    "\n",
    "page = f\"\"\"<!doctype html>\n",
    "<html lang=\"en\">\n",
    "\n",
    "<head>\n",
    "  <meta charset=\"utf-8\">\n",
    "  <meta name=\"viewport\" content=\"width=device-width, initial-scale=1\">\n",
    "  <!-- Bootstrap CSS -->\n",
    "  <link href=\"https://cdn.jsdelivr.net/npm/bootstrap@5.0.2/dist/css/bootstrap.min.css\" rel=\"stylesheet\"\n",
    "   integrity=\"sha384-EVSTQN3/azprG1Anm3QDgpJLIm9Nao0Yz1ztcQTwFspd3yD65VohhpuuCOmLASjC\" crossorigin=\"anonymous\">\n",
    "  <!-- highlight.js CSS -->\n",
    "  <link rel=\"stylesheet\" href=\"https://cdnjs.cloudflare.com/ajax/libs/highlight.js/11.1.0/styles/default.min.css\">\n",
    "  <!-- Mathjax 3 -->\n",
    "  <script type=\"text/javascript\" id=\"MathJax-config\" src=\"mathjax_config.js\"> </script>\n",
    "  <script type=\"text/javascript\" id=\"MathJax-script\" async \n",
    "    src=\"https://cdn.jsdelivr.net/npm/mathjax@3/es5/tex-mml-chtml.js\">\n",
    "  </script>\n",
    "  <link rel=\"stylesheet\" href=\"index_carousel.css\">\n",
    "  <link rel=\"icon\" type=\"image/x-icon\" href=\"https://www.mpia.de/assets/touch-icon-32x32-a66937bcebc4e8894ebff1f41a366c7c7220fd97a38869ee0f2db65a9f59b6c1.png\">\n",
    "  <title>MPIA Arxiv on deck!</title>\n",
    "</head>\n",
    "\n",
    "<body>\n",
    "  <div id=\"header\"> <img src=\"header_banner.png\" width=\"100%\"></div>\n",
    "  <div id=\"suptitle\"> 7-day archives </div>\n",
    "  <div id=\"info\">\n",
    "    <img src=\"https://pngimg.com/uploads/github/github_PNG58.png\" height=30rem></img>\n",
    "    <a href=https://github.com/mpi-astronomy/arxiv_display style=\"color:black;\">github/mpi-astronomy/arxiv_display</a> \n",
    "  </div>\n",
    "  {carousel:s}\n",
    "</body>\n",
    "\n",
    "<!-- Render Markdown -->\n",
    "\n",
    "<body>\n",
    "  <!-- highlight.js: https://highlightjs.org/download/ -->\n",
    "  <script src=\"https://cdnjs.cloudflare.com/ajax/libs/highlight.js/11.5.0/highlight.min.js\"></script>\n",
    "  <!-- marked.js -->\n",
    "  <script src=\"https://cdn.jsdelivr.net/npm/marked/marked.min.js\"></script>\n",
    "  <script>{script:s}</script>\n",
    "</body>\n",
    "</html>\n",
    "\"\"\"\n",
    "with open(\"_build/html/index_7days.html\", 'w') as fout:\n",
    "    fout.write(page)"
   ]
  },
  {
   "cell_type": "markdown",
   "id": "1cebacbc",
   "metadata": {
    "papermill": {
     "duration": 0.013363,
     "end_time": "2022-12-15T04:13:11.600043",
     "exception": false,
     "start_time": "2022-12-15T04:13:11.586680",
     "status": "completed"
    },
    "tags": []
   },
   "source": [
    "# Debugging papers"
   ]
  },
  {
   "cell_type": "raw",
   "id": "debe7cc6",
   "metadata": {
    "papermill": {
     "duration": 0.013279,
     "end_time": "2022-12-15T04:13:11.627265",
     "exception": false,
     "start_time": "2022-12-15T04:13:11.613986",
     "status": "completed"
    },
    "tags": []
   },
   "source": [
    "raise NotImplementedError(\"Manual Stop\")"
   ]
  },
  {
   "cell_type": "raw",
   "id": "eb169192",
   "metadata": {
    "papermill": {
     "duration": 0.014131,
     "end_time": "2022-12-15T04:13:11.654788",
     "exception": false,
     "start_time": "2022-12-15T04:13:11.640657",
     "status": "completed"
    },
    "scrolled": true,
    "tags": []
   },
   "source": [
    "from IPython.display import display, Markdown\n",
    "from TexSoup import TexSoup\n",
    "import re\n",
    "\n",
    "def bracket_error(source: str):\n",
    "    \"\"\" Find problematic portions of the document \"\"\"\n",
    "    \n",
    "    print(\"len(source)\", len(source))\n",
    "    \n",
    "    # Checking header\n",
    "    begin_doc = next(re.finditer(r'\\\\begin\\{document\\}', doc.source)).span()[1]\n",
    "    header = source[:begin_doc]\n",
    "    text = header + r\"\\n\\end{document}\"\n",
    "\n",
    "    try:\n",
    "        # print(\"Header check... \", end='')\n",
    "        TexSoup(text)\n",
    "        display(Markdown(f\"**[OK]** - Header\"))\n",
    "    except:\n",
    "        raise RuntimeError(\"Error in the header\")\n",
    "        \n",
    "    # Check the text per section until the end.\n",
    "    # Do not stop and try them all.\n",
    "    \n",
    "    problematic_text = []\n",
    "    \n",
    "    sections = ([(0, begin_doc, 'until first section')] + \n",
    "                [(g.span()[0], g.span()[1], g.group()) for g in re.finditer(r'\\\\section\\{.*\\}', source)] +\n",
    "                [(g.span()[0], g.span()[1], g.group()) for g in re.finditer(r'\\\\begin\\{appendix\\}', source)]\n",
    "               )\n",
    "    sections.append([len(source), len(source), 'end'])\n",
    "    \n",
    "    sections = sorted(sections, key=lambda x: x[0])\n",
    "    \n",
    "    prev_pos, prev_name = (0, 'header')\n",
    "    parsed = []\n",
    "    \n",
    "    for span, span_end, name in sections:\n",
    "\n",
    "        if span - prev_pos <= 0:\n",
    "            continue\n",
    "            \n",
    "\n",
    "        text = source[prev_pos:span]\n",
    "        if prev_pos > begin_doc:\n",
    "            text = r\"\\n\\begin{document}\" + text + r\"\\n\\end{document}\"\n",
    "        else:\n",
    "            text = text + r\"\\n\\end{document}\"\n",
    "        try:\n",
    "            #print(f\"{prev_pos}:{prev_name}-->{span}:{name} check... \", end='')\n",
    "            parsed.append(TexSoup(text, tolerance=1))  # allow not ending env\n",
    "            display(Markdown(f\"**[OK]** - *{prev_pos}*:{prev_name} &rarr; *{span}*:{name}\"))\n",
    "            # print(\"ok\")\n",
    "\n",
    "            prev_pos = span\n",
    "            prev_name = name\n",
    "        except:\n",
    "            # print(f\"error between {prev_pos} and {span}\")\n",
    "            display(Markdown(f\"**[ERR]** *{prev_pos}*:{prev_name} &rarr; *{span}*:{name}\"))\n",
    "            problematic_text.append((prev_pos, source[prev_pos:span]))\n",
    "            prev_pos = span\n",
    "            prev_name = name\n",
    "            # raise\n",
    "    return problematic_text, parsed\n",
    "\n",
    "\n",
    "def check_environment(text, offset=0):\n",
    "    \"\"\" Check environment \"\"\"\n",
    "    env = re.compile(r\"\\\\begin\\{(?P<env>.*)\\}(.*)\\\\end\\{(?P=env)\\}\", re.DOTALL)\n",
    "\n",
    "    for match in env.finditer(text):\n",
    "        beg, end = match.span()\n",
    "        beg += offset\n",
    "        end += offset\n",
    "        envname = match.groups()[0]\n",
    "        try:\n",
    "            latex.TexSoup(match.group())\n",
    "        except Exception as e:\n",
    "            display(e)\n",
    "            print(f\"Error in {envname:s} between {beg} and {end}\")\n",
    "            return match.groups()[1], beg, end"
   ]
  },
  {
   "cell_type": "raw",
   "id": "2315e835",
   "metadata": {
    "papermill": {
     "duration": 0.013515,
     "end_time": "2022-12-15T04:13:11.681672",
     "exception": false,
     "start_time": "2022-12-15T04:13:11.668157",
     "status": "completed"
    },
    "scrolled": false,
    "tags": []
   },
   "source": [
    "import importlib\n",
    "importlib.reload(latex)\n",
    "which = \"2204.03253\"\n",
    "paper_id = f'{which:s}'\n",
    "folder = f'tmp_{paper_id:s}'\n",
    "\n",
    "if not os.path.isdir(folder):\n",
    "    folder = retrieve_document_source(f\"{paper_id}\", f'tmp_{paper_id}')\n",
    "\n",
    "try:\n",
    "    doc = latex.LatexDocument(folder, validation=validation)    \n",
    "except AffiliationError as affilerror:\n",
    "    msg = f\"ArXiv:{paper_id:s} is not an MPIA paper... \" + str(affilerror)\n",
    "    print(msg)\n",
    "\n",
    "\n",
    "# Hack because sometimes author parsing does not work well\n",
    "if (len(doc.authors) != len(paper['authors'])):\n",
    "    doc._authors = paper['authors']\n",
    "if (doc.abstract) in (None, ''):\n",
    "    doc._abstract = paper['abstract']\n",
    "\n",
    "doc.comment = get_markdown_badge(paper_id) + \" _\" + paper['comments'] + \"_\"\n",
    "doc.highlight_authors_in_list(hl_list)\n",
    "\n",
    "full_md = doc.generate_markdown_text()"
   ]
  },
  {
   "cell_type": "raw",
   "id": "dd3781db",
   "metadata": {
    "papermill": {
     "duration": 0.013266,
     "end_time": "2022-12-15T04:13:11.708650",
     "exception": false,
     "start_time": "2022-12-15T04:13:11.695384",
     "status": "completed"
    },
    "scrolled": false,
    "tags": []
   },
   "source": [
    "doc"
   ]
  },
  {
   "cell_type": "raw",
   "id": "c6eed834",
   "metadata": {
    "papermill": {
     "duration": 0.021597,
     "end_time": "2022-12-15T04:13:11.743892",
     "exception": false,
     "start_time": "2022-12-15T04:13:11.722295",
     "status": "completed"
    },
    "tags": []
   },
   "source": [
    "# [check_environment(k) for k in bracket_error(doc.source)]\n",
    "_, _, a = latex.get_content_per_section(doc.source, verbose=True)\n",
    "if not a:\n",
    "    print(\"no issues per section\")\n",
    "for ak in a:\n",
    "    r = check_environment(ak[1], offset=ak[0])\n",
    "    print(r[1], r[2])\n",
    "    print(r[0])"
   ]
  },
  {
   "cell_type": "code",
   "execution_count": null,
   "id": "71ce768a",
   "metadata": {
    "papermill": {
     "duration": 0.017615,
     "end_time": "2022-12-15T04:13:11.786900",
     "exception": false,
     "start_time": "2022-12-15T04:13:11.769285",
     "status": "completed"
    },
    "tags": []
   },
   "outputs": [],
   "source": []
  }
 ],
 "metadata": {
  "kernelspec": {
   "display_name": "Python 3.10.6 64-bit",
   "language": "python",
   "name": "python3"
  },
  "language_info": {
   "codemirror_mode": {
    "name": "ipython",
    "version": 3
   },
   "file_extension": ".py",
   "mimetype": "text/x-python",
   "name": "python",
   "nbconvert_exporter": "python",
   "pygments_lexer": "ipython3",
   "version": "3.9.15"
  },
  "papermill": {
   "default_parameters": {},
   "duration": 306.274199,
   "end_time": "2022-12-15T04:13:12.130373",
   "environment_variables": {},
   "exception": null,
   "input_path": "MPIA daily digest.ipynb",
   "output_path": "log.ipynb",
   "parameters": {},
   "start_time": "2022-12-15T04:08:05.856174",
   "version": "2.4.0"
  },
  "vscode": {
   "interpreter": {
    "hash": "e7370f93d1d0cde622a1f8e1c04877d8463912d04d973331ad4851f04de6915a"
   }
  },
  "widgets": {
   "application/vnd.jupyter.widget-state+json": {
    "state": {
     "1a4e67b5f24348579dea674f08c4b8b5": {
      "model_module": "@jupyter-widgets/controls",
      "model_module_version": "2.0.0",
      "model_name": "HTMLStyleModel",
      "state": {
       "_model_module": "@jupyter-widgets/controls",
       "_model_module_version": "2.0.0",
       "_model_name": "HTMLStyleModel",
       "_view_count": null,
       "_view_module": "@jupyter-widgets/base",
       "_view_module_version": "2.0.0",
       "_view_name": "StyleView",
       "background": null,
       "description_width": "",
       "font_size": null,
       "text_color": null
      }
     },
     "2f3d1475a4c84ffbaa79ab7a1edf8069": {
      "model_module": "@jupyter-widgets/controls",
      "model_module_version": "2.0.0",
      "model_name": "HTMLStyleModel",
      "state": {
       "_model_module": "@jupyter-widgets/controls",
       "_model_module_version": "2.0.0",
       "_model_name": "HTMLStyleModel",
       "_view_count": null,
       "_view_module": "@jupyter-widgets/base",
       "_view_module_version": "2.0.0",
       "_view_name": "StyleView",
       "background": null,
       "description_width": "",
       "font_size": null,
       "text_color": null
      }
     },
     "336e411ce2a341f39a46ad85baa77800": {
      "model_module": "@jupyter-widgets/base",
      "model_module_version": "2.0.0",
      "model_name": "LayoutModel",
      "state": {
       "_model_module": "@jupyter-widgets/base",
       "_model_module_version": "2.0.0",
       "_model_name": "LayoutModel",
       "_view_count": null,
       "_view_module": "@jupyter-widgets/base",
       "_view_module_version": "2.0.0",
       "_view_name": "LayoutView",
       "align_content": null,
       "align_items": null,
       "align_self": null,
       "border_bottom": null,
       "border_left": null,
       "border_right": null,
       "border_top": null,
       "bottom": null,
       "display": null,
       "flex": null,
       "flex_flow": null,
       "grid_area": null,
       "grid_auto_columns": null,
       "grid_auto_flow": null,
       "grid_auto_rows": null,
       "grid_column": null,
       "grid_gap": null,
       "grid_row": null,
       "grid_template_areas": null,
       "grid_template_columns": null,
       "grid_template_rows": null,
       "height": null,
       "justify_content": null,
       "justify_items": null,
       "left": null,
       "margin": null,
       "max_height": null,
       "max_width": null,
       "min_height": null,
       "min_width": null,
       "object_fit": null,
       "object_position": null,
       "order": null,
       "overflow": null,
       "padding": null,
       "right": null,
       "top": null,
       "visibility": null,
       "width": null
      }
     },
     "38e6e3498ed04d1f931910c905be810e": {
      "model_module": "@jupyter-widgets/controls",
      "model_module_version": "2.0.0",
      "model_name": "HTMLModel",
      "state": {
       "_dom_classes": [],
       "_model_module": "@jupyter-widgets/controls",
       "_model_module_version": "2.0.0",
       "_model_name": "HTMLModel",
       "_view_count": null,
       "_view_module": "@jupyter-widgets/controls",
       "_view_module_version": "2.0.0",
       "_view_name": "HTMLView",
       "description": "",
       "description_allow_html": false,
       "layout": "IPY_MODEL_468b378043ba437f8f15eb84f8a589c5",
       "placeholder": "​",
       "style": "IPY_MODEL_2f3d1475a4c84ffbaa79ab7a1edf8069",
       "tabbable": null,
       "tooltip": null,
       "value": ""
      }
     },
     "3fb57a02d9554ec983ba94da918359c3": {
      "model_module": "@jupyter-widgets/controls",
      "model_module_version": "2.0.0",
      "model_name": "FloatProgressModel",
      "state": {
       "_dom_classes": [],
       "_model_module": "@jupyter-widgets/controls",
       "_model_module_version": "2.0.0",
       "_model_name": "FloatProgressModel",
       "_view_count": null,
       "_view_module": "@jupyter-widgets/controls",
       "_view_module_version": "2.0.0",
       "_view_name": "ProgressView",
       "bar_style": "",
       "description": "",
       "description_allow_html": false,
       "layout": "IPY_MODEL_d0f6fa063b564dc391bfef5b80769130",
       "max": 26.0,
       "min": 0.0,
       "orientation": "horizontal",
       "style": "IPY_MODEL_68278aac7b6c47de90bbfbd6e5e15b4a",
       "tabbable": null,
       "tooltip": null,
       "value": 0.0
      }
     },
     "468b378043ba437f8f15eb84f8a589c5": {
      "model_module": "@jupyter-widgets/base",
      "model_module_version": "2.0.0",
      "model_name": "LayoutModel",
      "state": {
       "_model_module": "@jupyter-widgets/base",
       "_model_module_version": "2.0.0",
       "_model_name": "LayoutModel",
       "_view_count": null,
       "_view_module": "@jupyter-widgets/base",
       "_view_module_version": "2.0.0",
       "_view_name": "LayoutView",
       "align_content": null,
       "align_items": null,
       "align_self": null,
       "border_bottom": null,
       "border_left": null,
       "border_right": null,
       "border_top": null,
       "bottom": null,
       "display": null,
       "flex": null,
       "flex_flow": null,
       "grid_area": null,
       "grid_auto_columns": null,
       "grid_auto_flow": null,
       "grid_auto_rows": null,
       "grid_column": null,
       "grid_gap": null,
       "grid_row": null,
       "grid_template_areas": null,
       "grid_template_columns": null,
       "grid_template_rows": null,
       "height": null,
       "justify_content": null,
       "justify_items": null,
       "left": null,
       "margin": null,
       "max_height": null,
       "max_width": null,
       "min_height": null,
       "min_width": null,
       "object_fit": null,
       "object_position": null,
       "order": null,
       "overflow": null,
       "padding": null,
       "right": null,
       "top": null,
       "visibility": null,
       "width": null
      }
     },
     "4abb79b171db4a329a5c2ebca8317ac6": {
      "model_module": "@jupyter-widgets/controls",
      "model_module_version": "2.0.0",
      "model_name": "HTMLModel",
      "state": {
       "_dom_classes": [],
       "_model_module": "@jupyter-widgets/controls",
       "_model_module_version": "2.0.0",
       "_model_name": "HTMLModel",
       "_view_count": null,
       "_view_module": "@jupyter-widgets/controls",
       "_view_module_version": "2.0.0",
       "_view_name": "HTMLView",
       "description": "",
       "description_allow_html": false,
       "layout": "IPY_MODEL_e4b321000e13478a8c88b71c3a2c07d9",
       "placeholder": "​",
       "style": "IPY_MODEL_fd6157e98be34cce81a625c758a7bc11",
       "tabbable": null,
       "tooltip": null,
       "value": ""
      }
     },
     "4e544a52c68245a694f6040ca11dfd95": {
      "model_module": "@jupyter-widgets/base",
      "model_module_version": "2.0.0",
      "model_name": "LayoutModel",
      "state": {
       "_model_module": "@jupyter-widgets/base",
       "_model_module_version": "2.0.0",
       "_model_name": "LayoutModel",
       "_view_count": null,
       "_view_module": "@jupyter-widgets/base",
       "_view_module_version": "2.0.0",
       "_view_name": "LayoutView",
       "align_content": null,
       "align_items": null,
       "align_self": null,
       "border_bottom": null,
       "border_left": null,
       "border_right": null,
       "border_top": null,
       "bottom": null,
       "display": null,
       "flex": null,
       "flex_flow": null,
       "grid_area": null,
       "grid_auto_columns": null,
       "grid_auto_flow": null,
       "grid_auto_rows": null,
       "grid_column": null,
       "grid_gap": null,
       "grid_row": null,
       "grid_template_areas": null,
       "grid_template_columns": null,
       "grid_template_rows": null,
       "height": null,
       "justify_content": null,
       "justify_items": null,
       "left": null,
       "margin": null,
       "max_height": null,
       "max_width": null,
       "min_height": null,
       "min_width": null,
       "object_fit": null,
       "object_position": null,
       "order": null,
       "overflow": null,
       "padding": null,
       "right": null,
       "top": null,
       "visibility": null,
       "width": null
      }
     },
     "649ec0c689a343f2bc3554ac9c1dd37c": {
      "model_module": "@jupyter-widgets/controls",
      "model_module_version": "2.0.0",
      "model_name": "HBoxModel",
      "state": {
       "_dom_classes": [],
       "_model_module": "@jupyter-widgets/controls",
       "_model_module_version": "2.0.0",
       "_model_name": "HBoxModel",
       "_view_count": null,
       "_view_module": "@jupyter-widgets/controls",
       "_view_module_version": "2.0.0",
       "_view_name": "HBoxView",
       "box_style": "",
       "children": [
        "IPY_MODEL_aefd27dff61849aa9bc61069d037d301",
        "IPY_MODEL_714ce615adf64253a49600452de95496",
        "IPY_MODEL_fdda0cef303e4acb9136a40022090d39"
       ],
       "layout": "IPY_MODEL_6f3e74c2b89243669ae1c2bdc0a16a35",
       "tabbable": null,
       "tooltip": null
      }
     },
     "68278aac7b6c47de90bbfbd6e5e15b4a": {
      "model_module": "@jupyter-widgets/controls",
      "model_module_version": "2.0.0",
      "model_name": "ProgressStyleModel",
      "state": {
       "_model_module": "@jupyter-widgets/controls",
       "_model_module_version": "2.0.0",
       "_model_name": "ProgressStyleModel",
       "_view_count": null,
       "_view_module": "@jupyter-widgets/base",
       "_view_module_version": "2.0.0",
       "_view_name": "StyleView",
       "bar_color": null,
       "description_width": ""
      }
     },
     "6f3e74c2b89243669ae1c2bdc0a16a35": {
      "model_module": "@jupyter-widgets/base",
      "model_module_version": "2.0.0",
      "model_name": "LayoutModel",
      "state": {
       "_model_module": "@jupyter-widgets/base",
       "_model_module_version": "2.0.0",
       "_model_name": "LayoutModel",
       "_view_count": null,
       "_view_module": "@jupyter-widgets/base",
       "_view_module_version": "2.0.0",
       "_view_name": "LayoutView",
       "align_content": null,
       "align_items": null,
       "align_self": null,
       "border_bottom": null,
       "border_left": null,
       "border_right": null,
       "border_top": null,
       "bottom": null,
       "display": null,
       "flex": null,
       "flex_flow": null,
       "grid_area": null,
       "grid_auto_columns": null,
       "grid_auto_flow": null,
       "grid_auto_rows": null,
       "grid_column": null,
       "grid_gap": null,
       "grid_row": null,
       "grid_template_areas": null,
       "grid_template_columns": null,
       "grid_template_rows": null,
       "height": null,
       "justify_content": null,
       "justify_items": null,
       "left": null,
       "margin": null,
       "max_height": null,
       "max_width": null,
       "min_height": null,
       "min_width": null,
       "object_fit": null,
       "object_position": null,
       "order": null,
       "overflow": null,
       "padding": null,
       "right": null,
       "top": null,
       "visibility": null,
       "width": null
      }
     },
     "714ce615adf64253a49600452de95496": {
      "model_module": "@jupyter-widgets/controls",
      "model_module_version": "2.0.0",
      "model_name": "FloatProgressModel",
      "state": {
       "_dom_classes": [],
       "_model_module": "@jupyter-widgets/controls",
       "_model_module_version": "2.0.0",
       "_model_name": "FloatProgressModel",
       "_view_count": null,
       "_view_module": "@jupyter-widgets/controls",
       "_view_module_version": "2.0.0",
       "_view_name": "ProgressView",
       "bar_style": "success",
       "description": "",
       "description_allow_html": false,
       "layout": "IPY_MODEL_d0f6fa063b564dc391bfef5b80769130",
       "max": 26.0,
       "min": 0.0,
       "orientation": "horizontal",
       "style": "IPY_MODEL_68278aac7b6c47de90bbfbd6e5e15b4a",
       "tabbable": null,
       "tooltip": null,
       "value": 26.0
      }
     },
     "84415ce3e9cd4d088c0a3b7efe832bd2": {
      "model_module": "@jupyter-widgets/base",
      "model_module_version": "2.0.0",
      "model_name": "LayoutModel",
      "state": {
       "_model_module": "@jupyter-widgets/base",
       "_model_module_version": "2.0.0",
       "_model_name": "LayoutModel",
       "_view_count": null,
       "_view_module": "@jupyter-widgets/base",
       "_view_module_version": "2.0.0",
       "_view_name": "LayoutView",
       "align_content": null,
       "align_items": null,
       "align_self": null,
       "border_bottom": null,
       "border_left": null,
       "border_right": null,
       "border_top": null,
       "bottom": null,
       "display": null,
       "flex": null,
       "flex_flow": null,
       "grid_area": null,
       "grid_auto_columns": null,
       "grid_auto_flow": null,
       "grid_auto_rows": null,
       "grid_column": null,
       "grid_gap": null,
       "grid_row": null,
       "grid_template_areas": null,
       "grid_template_columns": null,
       "grid_template_rows": null,
       "height": null,
       "justify_content": null,
       "justify_items": null,
       "left": null,
       "margin": null,
       "max_height": null,
       "max_width": null,
       "min_height": null,
       "min_width": null,
       "object_fit": null,
       "object_position": null,
       "order": null,
       "overflow": null,
       "padding": null,
       "right": null,
       "top": null,
       "visibility": null,
       "width": null
      }
     },
     "8a488a2b2b4444819860079aabf34292": {
      "model_module": "@jupyter-widgets/controls",
      "model_module_version": "2.0.0",
      "model_name": "HTMLStyleModel",
      "state": {
       "_model_module": "@jupyter-widgets/controls",
       "_model_module_version": "2.0.0",
       "_model_name": "HTMLStyleModel",
       "_view_count": null,
       "_view_module": "@jupyter-widgets/base",
       "_view_module_version": "2.0.0",
       "_view_name": "StyleView",
       "background": null,
       "description_width": "",
       "font_size": null,
       "text_color": null
      }
     },
     "90a870122ca94c5a9e6da026b4b11cd1": {
      "model_module": "@jupyter-widgets/controls",
      "model_module_version": "2.0.0",
      "model_name": "ProgressStyleModel",
      "state": {
       "_model_module": "@jupyter-widgets/controls",
       "_model_module_version": "2.0.0",
       "_model_name": "ProgressStyleModel",
       "_view_count": null,
       "_view_module": "@jupyter-widgets/base",
       "_view_module_version": "2.0.0",
       "_view_name": "StyleView",
       "bar_color": null,
       "description_width": ""
      }
     },
     "9333aebfaf444fba92f881dcae125929": {
      "model_module": "@jupyter-widgets/controls",
      "model_module_version": "2.0.0",
      "model_name": "HBoxModel",
      "state": {
       "_dom_classes": [],
       "_model_module": "@jupyter-widgets/controls",
       "_model_module_version": "2.0.0",
       "_model_name": "HBoxModel",
       "_view_count": null,
       "_view_module": "@jupyter-widgets/controls",
       "_view_module_version": "2.0.0",
       "_view_name": "HBoxView",
       "box_style": "",
       "children": [
        "IPY_MODEL_aefd27dff61849aa9bc61069d037d301",
        "IPY_MODEL_714ce615adf64253a49600452de95496",
        "IPY_MODEL_fdda0cef303e4acb9136a40022090d39"
       ],
       "layout": "IPY_MODEL_6f3e74c2b89243669ae1c2bdc0a16a35",
       "tabbable": null,
       "tooltip": null
      }
     },
     "aefd27dff61849aa9bc61069d037d301": {
      "model_module": "@jupyter-widgets/controls",
      "model_module_version": "2.0.0",
      "model_name": "HTMLModel",
      "state": {
       "_dom_classes": [],
       "_model_module": "@jupyter-widgets/controls",
       "_model_module_version": "2.0.0",
       "_model_name": "HTMLModel",
       "_view_count": null,
       "_view_module": "@jupyter-widgets/controls",
       "_view_module_version": "2.0.0",
       "_view_name": "HTMLView",
       "description": "",
       "description_allow_html": false,
       "layout": "IPY_MODEL_468b378043ba437f8f15eb84f8a589c5",
       "placeholder": "​",
       "style": "IPY_MODEL_2f3d1475a4c84ffbaa79ab7a1edf8069",
       "tabbable": null,
       "tooltip": null,
       "value": "100%"
      }
     },
     "b28a0ef563474e7d89a5270e95efef63": {
      "model_module": "@jupyter-widgets/base",
      "model_module_version": "2.0.0",
      "model_name": "LayoutModel",
      "state": {
       "_model_module": "@jupyter-widgets/base",
       "_model_module_version": "2.0.0",
       "_model_name": "LayoutModel",
       "_view_count": null,
       "_view_module": "@jupyter-widgets/base",
       "_view_module_version": "2.0.0",
       "_view_name": "LayoutView",
       "align_content": null,
       "align_items": null,
       "align_self": null,
       "border_bottom": null,
       "border_left": null,
       "border_right": null,
       "border_top": null,
       "bottom": null,
       "display": null,
       "flex": null,
       "flex_flow": null,
       "grid_area": null,
       "grid_auto_columns": null,
       "grid_auto_flow": null,
       "grid_auto_rows": null,
       "grid_column": null,
       "grid_gap": null,
       "grid_row": null,
       "grid_template_areas": null,
       "grid_template_columns": null,
       "grid_template_rows": null,
       "height": null,
       "justify_content": null,
       "justify_items": null,
       "left": null,
       "margin": null,
       "max_height": null,
       "max_width": null,
       "min_height": null,
       "min_width": null,
       "object_fit": null,
       "object_position": null,
       "order": null,
       "overflow": null,
       "padding": null,
       "right": null,
       "top": null,
       "visibility": null,
       "width": null
      }
     },
     "d0f6fa063b564dc391bfef5b80769130": {
      "model_module": "@jupyter-widgets/base",
      "model_module_version": "2.0.0",
      "model_name": "LayoutModel",
      "state": {
       "_model_module": "@jupyter-widgets/base",
       "_model_module_version": "2.0.0",
       "_model_name": "LayoutModel",
       "_view_count": null,
       "_view_module": "@jupyter-widgets/base",
       "_view_module_version": "2.0.0",
       "_view_name": "LayoutView",
       "align_content": null,
       "align_items": null,
       "align_self": null,
       "border_bottom": null,
       "border_left": null,
       "border_right": null,
       "border_top": null,
       "bottom": null,
       "display": null,
       "flex": null,
       "flex_flow": null,
       "grid_area": null,
       "grid_auto_columns": null,
       "grid_auto_flow": null,
       "grid_auto_rows": null,
       "grid_column": null,
       "grid_gap": null,
       "grid_row": null,
       "grid_template_areas": null,
       "grid_template_columns": null,
       "grid_template_rows": null,
       "height": null,
       "justify_content": null,
       "justify_items": null,
       "left": null,
       "margin": null,
       "max_height": null,
       "max_width": null,
       "min_height": null,
       "min_width": null,
       "object_fit": null,
       "object_position": null,
       "order": null,
       "overflow": null,
       "padding": null,
       "right": null,
       "top": null,
       "visibility": null,
       "width": null
      }
     },
     "e4b321000e13478a8c88b71c3a2c07d9": {
      "model_module": "@jupyter-widgets/base",
      "model_module_version": "2.0.0",
      "model_name": "LayoutModel",
      "state": {
       "_model_module": "@jupyter-widgets/base",
       "_model_module_version": "2.0.0",
       "_model_name": "LayoutModel",
       "_view_count": null,
       "_view_module": "@jupyter-widgets/base",
       "_view_module_version": "2.0.0",
       "_view_name": "LayoutView",
       "align_content": null,
       "align_items": null,
       "align_self": null,
       "border_bottom": null,
       "border_left": null,
       "border_right": null,
       "border_top": null,
       "bottom": null,
       "display": null,
       "flex": null,
       "flex_flow": null,
       "grid_area": null,
       "grid_auto_columns": null,
       "grid_auto_flow": null,
       "grid_auto_rows": null,
       "grid_column": null,
       "grid_gap": null,
       "grid_row": null,
       "grid_template_areas": null,
       "grid_template_columns": null,
       "grid_template_rows": null,
       "height": null,
       "justify_content": null,
       "justify_items": null,
       "left": null,
       "margin": null,
       "max_height": null,
       "max_width": null,
       "min_height": null,
       "min_width": null,
       "object_fit": null,
       "object_position": null,
       "order": null,
       "overflow": null,
       "padding": null,
       "right": null,
       "top": null,
       "visibility": null,
       "width": null
      }
     },
     "fd6157e98be34cce81a625c758a7bc11": {
      "model_module": "@jupyter-widgets/controls",
      "model_module_version": "2.0.0",
      "model_name": "HTMLStyleModel",
      "state": {
       "_model_module": "@jupyter-widgets/controls",
       "_model_module_version": "2.0.0",
       "_model_name": "HTMLStyleModel",
       "_view_count": null,
       "_view_module": "@jupyter-widgets/base",
       "_view_module_version": "2.0.0",
       "_view_name": "StyleView",
       "background": null,
       "description_width": "",
       "font_size": null,
       "text_color": null
      }
     },
     "fdda0cef303e4acb9136a40022090d39": {
      "model_module": "@jupyter-widgets/controls",
      "model_module_version": "2.0.0",
      "model_name": "HTMLModel",
      "state": {
       "_dom_classes": [],
       "_model_module": "@jupyter-widgets/controls",
       "_model_module_version": "2.0.0",
       "_model_name": "HTMLModel",
       "_view_count": null,
       "_view_module": "@jupyter-widgets/controls",
       "_view_module_version": "2.0.0",
       "_view_name": "HTMLView",
       "description": "",
       "description_allow_html": false,
       "layout": "IPY_MODEL_e4b321000e13478a8c88b71c3a2c07d9",
       "placeholder": "​",
       "style": "IPY_MODEL_fd6157e98be34cce81a625c758a7bc11",
       "tabbable": null,
       "tooltip": null,
       "value": " 26/26 [04:36&lt;00:00, 20.40s/it]"
      }
     }
    },
    "version_major": 2,
    "version_minor": 0
   }
  }
 },
 "nbformat": 4,
 "nbformat_minor": 5
}