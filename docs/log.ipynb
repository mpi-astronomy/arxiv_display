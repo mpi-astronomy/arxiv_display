{
 "cells": [
  {
   "cell_type": "markdown",
   "id": "92bcb855",
   "metadata": {
    "papermill": {
     "duration": 0.006806,
     "end_time": "2023-01-31T04:06:23.530617",
     "exception": false,
     "start_time": "2023-01-31T04:06:23.523811",
     "status": "completed"
    },
    "tags": []
   },
   "source": [
    "# MPIA Arxiv on Deck 2\n",
    "\n",
    "Contains the steps to produce the paper extractions."
   ]
  },
  {
   "cell_type": "code",
   "execution_count": 1,
   "id": "3a0d6e11",
   "metadata": {
    "execution": {
     "iopub.execute_input": "2023-01-31T04:06:23.543565Z",
     "iopub.status.busy": "2023-01-31T04:06:23.542801Z",
     "iopub.status.idle": "2023-01-31T04:06:23.798308Z",
     "shell.execute_reply": "2023-01-31T04:06:23.797364Z"
    },
    "papermill": {
     "duration": 0.264888,
     "end_time": "2023-01-31T04:06:23.801264",
     "exception": false,
     "start_time": "2023-01-31T04:06:23.536376",
     "status": "completed"
    },
    "tags": []
   },
   "outputs": [],
   "source": [
    "# Imports\n",
    "import os\n",
    "from IPython.display import Markdown, display\n",
    "from tqdm.notebook import tqdm\n",
    "import warnings\n",
    "from PIL import Image \n",
    "\n",
    "# requires arxiv_on_deck_2\n",
    "\n",
    "from arxiv_on_deck_2.arxiv2 import (get_new_papers, \n",
    "                                    get_paper_from_identifier,\n",
    "                                    retrieve_document_source, \n",
    "                                    get_markdown_badge)\n",
    "from arxiv_on_deck_2 import (latex, \n",
    "                             mpia,\n",
    "                             highlight_authors_in_list)\n",
    "\n",
    "# Sometimes images are really big\n",
    "Image.MAX_IMAGE_PIXELS = 1000000000 "
   ]
  },
  {
   "cell_type": "code",
   "execution_count": 2,
   "id": "22aa9d44",
   "metadata": {
    "execution": {
     "iopub.execute_input": "2023-01-31T04:06:23.813698Z",
     "iopub.status.busy": "2023-01-31T04:06:23.813135Z",
     "iopub.status.idle": "2023-01-31T04:06:23.819647Z",
     "shell.execute_reply": "2023-01-31T04:06:23.818829Z"
    },
    "papermill": {
     "duration": 0.014856,
     "end_time": "2023-01-31T04:06:23.821870",
     "exception": false,
     "start_time": "2023-01-31T04:06:23.807014",
     "status": "completed"
    },
    "tags": []
   },
   "outputs": [],
   "source": [
    "# Some useful definitions.\n",
    "\n",
    "class AffiliationWarning(UserWarning):\n",
    "    pass\n",
    "\n",
    "class AffiliationError(RuntimeError):\n",
    "    pass\n",
    "\n",
    "def validation(source: str):\n",
    "    \"\"\"Raises error paper during parsing of source file\n",
    "    \n",
    "    Allows checks before parsing TeX code.\n",
    "    \n",
    "    Raises AffiliationWarning\n",
    "    \"\"\"\n",
    "    check = mpia.affiliation_verifications(source, verbose=True)\n",
    "    if check is not True:\n",
    "        raise AffiliationError(\"mpia.affiliation_verifications: \" + check)\n",
    "\n",
    "        \n",
    "warnings.simplefilter('always', AffiliationWarning)"
   ]
  },
  {
   "cell_type": "code",
   "execution_count": 3,
   "id": "14622700",
   "metadata": {
    "execution": {
     "iopub.execute_input": "2023-01-31T04:06:23.833161Z",
     "iopub.status.busy": "2023-01-31T04:06:23.832776Z",
     "iopub.status.idle": "2023-01-31T04:06:23.837386Z",
     "shell.execute_reply": "2023-01-31T04:06:23.836633Z"
    },
    "papermill": {
     "duration": 0.013275,
     "end_time": "2023-01-31T04:06:23.839757",
     "exception": false,
     "start_time": "2023-01-31T04:06:23.826482",
     "status": "completed"
    },
    "tags": []
   },
   "outputs": [],
   "source": [
    "# additional CSS to consider. \n",
    "# TODO: Current into each exported file. \n",
    "#       This should be set once into the webpages directly.\n",
    "#       With only the class/id definitions in the .md files.\n",
    "\n",
    "debug_html = \"\"\"\n",
    "<style>\n",
    "#wrap{ overflow:auto; }\n",
    "#fig1{ background:yellow; width:100%; float:left; padding:5px;  }\n",
    "#fig2{ background:red; width:50%; float:left; clear:left; padding:5px;  }\n",
    "#fig3{ background:green; width:50%; float:left; padding:5px;   }\n",
    ".macros{ background:yellow; visibility:visible;}\n",
    "h1 {margin: 0 0 0 0;}\n",
    "mark {background-color:#fff3b6;}\n",
    "img {object-fit:contain; max-height:250px; display:inline-block; text-align: center;}\n",
    "</style>\n",
    "\"\"\" \n",
    "html = \"\"\"\n",
    "<style>\n",
    "#wrap{ overflow:auto; }\n",
    "#fig1{ width:100%; float:left; padding: 5px;  }\n",
    "#fig2{ width:50%; float:left; clear:left; padding: 5px;  }\n",
    "#fig3{ width:50%; float:left; padding: 5px;  }\n",
    ".macros{ visibility:hidden; height:0px; }\n",
    "h1 {margin: 0em 0 0 0;}\n",
    "mark {background-color:#fff3b6;}\n",
    "img {object-fit:contain; max-height:250px; display:inline-block; text-align: center;}\n",
    "</style>\n",
    "\"\"\""
   ]
  },
  {
   "cell_type": "markdown",
   "id": "14bd6310",
   "metadata": {
    "papermill": {
     "duration": 0.005026,
     "end_time": "2023-01-31T04:06:23.849549",
     "exception": false,
     "start_time": "2023-01-31T04:06:23.844523",
     "status": "completed"
    },
    "tags": []
   },
   "source": [
    "## get list of arxiv paper candidates\n",
    "\n",
    "We use the MPIA mitarbeiter list webpage from mpia.de to get author names\n",
    "We then get all new papers from Arxiv and match authors"
   ]
  },
  {
   "cell_type": "code",
   "execution_count": 4,
   "id": "2645e73a",
   "metadata": {
    "execution": {
     "iopub.execute_input": "2023-01-31T04:06:23.860109Z",
     "iopub.status.busy": "2023-01-31T04:06:23.859798Z",
     "iopub.status.idle": "2023-01-31T04:06:52.737817Z",
     "shell.execute_reply": "2023-01-31T04:06:52.736996Z"
    },
    "papermill": {
     "duration": 28.885844,
     "end_time": "2023-01-31T04:06:52.739771",
     "exception": false,
     "start_time": "2023-01-31T04:06:23.853927",
     "status": "completed"
    },
    "tags": []
   },
   "outputs": [
    {
     "name": "stdout",
     "output_type": "stream",
     "text": [
      "Arxiv has 80 new papers today\n",
      "          33 with possible author matches\n"
     ]
    }
   ],
   "source": [
    "# get list from MPIA website\n",
    "# it automatically filters identified non-scientists :func:`mpia.filter_non_scientists`\n",
    "mpia_authors = mpia.get_mpia_mitarbeiter_list()\n",
    "new_papers = get_new_papers()\n",
    "# add manual references\n",
    "add_paper_refs = []\n",
    "new_papers.extend([get_paper_from_identifier(k) for k in add_paper_refs])\n",
    "\n",
    "# select only papers with matching author names and highlight authors\n",
    "hl_list = [k[0] for k in mpia_authors]\n",
    "\n",
    "candidates = []\n",
    "for paperk in new_papers:\n",
    "    hl_authors = highlight_authors_in_list(paperk['authors'], hl_list)\n",
    "    matches = [(hl, orig) for hl, orig in zip(hl_authors, paperk['authors']) if 'mark' in hl]\n",
    "    paperk['authors'] = hl_authors\n",
    "    if matches:\n",
    "        candidates.append(paperk)\n",
    "print(\"\"\"Arxiv has {0:,d} new papers today\"\"\".format(len(new_papers)))        \n",
    "print(\"\"\"          {0:,d} with possible author matches\"\"\".format(len(candidates)))"
   ]
  },
  {
   "cell_type": "markdown",
   "id": "3543b34a",
   "metadata": {
    "papermill": {
     "duration": 0.004944,
     "end_time": "2023-01-31T04:06:52.750135",
     "exception": false,
     "start_time": "2023-01-31T04:06:52.745191",
     "status": "completed"
    },
    "tags": []
   },
   "source": [
    "# Parse sources and generate relevant outputs\n",
    "\n",
    "From the candidates, we do the following steps:\n",
    "* get their tarball from ArXiv (and extract data)\n",
    "* find the main .tex file: find one with \\documentclass{...} (sometimes it's non trivial)\n",
    "* Check affiliations with :func:`validation`, which uses :func:`mpia.affiliation_verifications`\n",
    "* If passing the affiliations: we parse the .tex source\n",
    "   * inject sub-documents into the main (flatten the main document)\n",
    "   * parse structure, extract information (title, abstract, authors, figures...)\n",
    "   * handles `\\graphicspath` if provided\n",
    "* Generate the .md document."
   ]
  },
  {
   "cell_type": "code",
   "execution_count": 5,
   "id": "9576b79e",
   "metadata": {
    "execution": {
     "iopub.execute_input": "2023-01-31T04:06:52.760246Z",
     "iopub.status.busy": "2023-01-31T04:06:52.760001Z",
     "iopub.status.idle": "2023-01-31T04:14:26.263549Z",
     "shell.execute_reply": "2023-01-31T04:14:26.262639Z"
    },
    "papermill": {
     "duration": 453.512369,
     "end_time": "2023-01-31T04:14:26.267032",
     "exception": false,
     "start_time": "2023-01-31T04:06:52.754663",
     "status": "completed"
    },
    "scrolled": false,
    "tags": []
   },
   "outputs": [
    {
     "data": {
      "application/vnd.jupyter.widget-view+json": {
       "model_id": "e7f646b5d5c54535a804f94e2daf493f",
       "version_major": 2,
       "version_minor": 0
      },
      "text/plain": [
       "  0%|          | 0/32 [00:00<?, ?it/s]"
      ]
     },
     "metadata": {},
     "output_type": "display_data"
    },
    {
     "name": "stdout",
     "output_type": "stream",
     "text": [
      "Retrieving document from  https://arxiv.org/e-print/2301.11942\n"
     ]
    },
    {
     "name": "stdout",
     "output_type": "stream",
     "text": [
      "extracting tarball to tmp_2301.11942..."
     ]
    },
    {
     "name": "stdout",
     "output_type": "stream",
     "text": [
      " done.\n"
     ]
    },
    {
     "name": "stderr",
     "output_type": "stream",
     "text": [
      "/opt/hostedtoolcache/Python/3.9.16/x64/lib/python3.9/site-packages/IPython/core/interactiveshell.py:3442: LatexWarning: Multiple tex files.\n",
      "\n",
      "  exec(code_obj, self.user_global_ns, self.user_ns)\n",
      "/opt/hostedtoolcache/Python/3.9.16/x64/lib/python3.9/site-packages/IPython/core/interactiveshell.py:3442: LatexWarning: Found documentclass in tmp_2301.11942/tng.tex\n",
      "\n",
      "  exec(code_obj, self.user_global_ns, self.user_ns)\n",
      "/opt/hostedtoolcache/Python/3.9.16/x64/lib/python3.9/site-packages/arxiv_on_deck_2/latex.py:292: LatexWarning: Latex injecting: 'tng.bbl' from 'tmp_2301.11942/tng.tex'\n",
      "  warnings.warn(LatexWarning(f\"Latex injecting: '{ext}' from '{subsource}'\"))\n",
      "/opt/hostedtoolcache/Python/3.9.16/x64/lib/python3.9/site-packages/arxiv_on_deck_2/latex.py:292: LatexWarning: Latex injecting: 'tng.bbl' from 'tmp_2301.11942/TNG project_accepted/tng.tex'\n",
      "  warnings.warn(LatexWarning(f\"Latex injecting: '{ext}' from '{subsource}'\"))\n"
     ]
    },
    {
     "name": "stdout",
     "output_type": "stream",
     "text": [
      "Retrieving document from  https://arxiv.org/e-print/2301.11943\n"
     ]
    },
    {
     "name": "stdout",
     "output_type": "stream",
     "text": [
      "extracting tarball to tmp_2301.11943..."
     ]
    },
    {
     "name": "stdout",
     "output_type": "stream",
     "text": [
      " done.\n",
      "Retrieving document from  https://arxiv.org/e-print/2301.11960\n"
     ]
    },
    {
     "name": "stderr",
     "output_type": "stream",
     "text": [
      "/tmp/ipykernel_2063/4030337529.py:34: LatexWarning: 2301.11960 did not run properly\n",
      "not a gzip file\n",
      "  warnings.warn(latex.LatexWarning(f\"{paper_id:s} did not run properly\\n\" +\n"
     ]
    },
    {
     "name": "stdout",
     "output_type": "stream",
     "text": [
      "Retrieving document from  https://arxiv.org/e-print/2301.12016\n"
     ]
    },
    {
     "name": "stdout",
     "output_type": "stream",
     "text": [
      "extracting tarball to tmp_2301.12016..."
     ]
    },
    {
     "name": "stdout",
     "output_type": "stream",
     "text": [
      " done.\n",
      "Retrieving document from  https://arxiv.org/e-print/2301.12020\n"
     ]
    },
    {
     "name": "stderr",
     "output_type": "stream",
     "text": [
      "/opt/hostedtoolcache/Python/3.9.16/x64/lib/python3.9/site-packages/IPython/core/interactiveshell.py:3442: LatexWarning: Multiple tex files.\n",
      "\n",
      "  exec(code_obj, self.user_global_ns, self.user_ns)\n",
      "/opt/hostedtoolcache/Python/3.9.16/x64/lib/python3.9/site-packages/IPython/core/interactiveshell.py:3442: LatexWarning: Found documentclass in tmp_2301.12016/HM_MG.tex\n",
      "\n",
      "  exec(code_obj, self.user_global_ns, self.user_ns)\n",
      "/opt/hostedtoolcache/Python/3.9.16/x64/lib/python3.9/site-packages/arxiv_on_deck_2/latex.py:292: LatexWarning: Latex injecting: 'fitting_func.tex' from 'tmp_2301.12016/fitting_func.tex'\n",
      "  warnings.warn(LatexWarning(f\"Latex injecting: '{ext}' from '{subsource}'\"))\n"
     ]
    },
    {
     "name": "stdout",
     "output_type": "stream",
     "text": [
      "extracting tarball to tmp_2301.12020..."
     ]
    },
    {
     "name": "stdout",
     "output_type": "stream",
     "text": [
      " done.\n",
      "Retrieving document from  https://arxiv.org/e-print/2301.12111\n"
     ]
    },
    {
     "name": "stdout",
     "output_type": "stream",
     "text": [
      "extracting tarball to tmp_2301.12111..."
     ]
    },
    {
     "name": "stdout",
     "output_type": "stream",
     "text": [
      " done.\n",
      "Retrieving document from  https://arxiv.org/e-print/2301.12125\n"
     ]
    },
    {
     "name": "stdout",
     "output_type": "stream",
     "text": [
      "extracting tarball to tmp_2301.12125..."
     ]
    },
    {
     "name": "stdout",
     "output_type": "stream",
     "text": [
      " done.\n",
      "Retrieving document from  https://arxiv.org/e-print/2301.12183\n"
     ]
    },
    {
     "name": "stdout",
     "output_type": "stream",
     "text": [
      "extracting tarball to tmp_2301.12183..."
     ]
    },
    {
     "name": "stdout",
     "output_type": "stream",
     "text": [
      " done.\n",
      "Retrieving document from  https://arxiv.org/e-print/2301.12192\n"
     ]
    },
    {
     "name": "stdout",
     "output_type": "stream",
     "text": [
      "extracting tarball to tmp_2301.12192..."
     ]
    },
    {
     "name": "stdout",
     "output_type": "stream",
     "text": [
      " done.\n",
      "Retrieving document from  https://arxiv.org/e-print/2301.12223\n"
     ]
    },
    {
     "name": "stdout",
     "output_type": "stream",
     "text": [
      "extracting tarball to tmp_2301.12223..."
     ]
    },
    {
     "name": "stdout",
     "output_type": "stream",
     "text": [
      " done.\n",
      "Retrieving document from  https://arxiv.org/e-print/2301.12233\n"
     ]
    },
    {
     "name": "stdout",
     "output_type": "stream",
     "text": [
      "extracting tarball to tmp_2301.12233..."
     ]
    },
    {
     "name": "stdout",
     "output_type": "stream",
     "text": [
      " done.\n",
      "Retrieving document from  https://arxiv.org/e-print/2301.12283\n"
     ]
    },
    {
     "name": "stderr",
     "output_type": "stream",
     "text": [
      "/opt/hostedtoolcache/Python/3.9.16/x64/lib/python3.9/site-packages/IPython/core/interactiveshell.py:3442: LatexWarning: Multiple tex files.\n",
      "\n",
      "  exec(code_obj, self.user_global_ns, self.user_ns)\n",
      "/opt/hostedtoolcache/Python/3.9.16/x64/lib/python3.9/site-packages/IPython/core/interactiveshell.py:3442: LatexWarning: Found documentclass in tmp_2301.12233/main.tex\n",
      "\n",
      "  exec(code_obj, self.user_global_ns, self.user_ns)\n",
      "/opt/hostedtoolcache/Python/3.9.16/x64/lib/python3.9/site-packages/arxiv_on_deck_2/latex.py:292: LatexWarning: Latex injecting: 'app3_mcmc.tex' from 'tmp_2301.12233/app3_mcmc.tex'\n",
      "  warnings.warn(LatexWarning(f\"Latex injecting: '{ext}' from '{subsource}'\"))\n",
      "/opt/hostedtoolcache/Python/3.9.16/x64/lib/python3.9/site-packages/arxiv_on_deck_2/latex.py:292: LatexWarning: Latex injecting: 'app2_gal_prop.tex' from 'tmp_2301.12233/app2_gal_prop.tex'\n",
      "  warnings.warn(LatexWarning(f\"Latex injecting: '{ext}' from '{subsource}'\"))\n",
      "/opt/hostedtoolcache/Python/3.9.16/x64/lib/python3.9/site-packages/arxiv_on_deck_2/latex.py:292: LatexWarning: Latex injecting: 'app1_other_absorber.tex' from 'tmp_2301.12233/app1_other_absorber.tex'\n",
      "  warnings.warn(LatexWarning(f\"Latex injecting: '{ext}' from '{subsource}'\"))\n",
      "/opt/hostedtoolcache/Python/3.9.16/x64/lib/python3.9/site-packages/arxiv_on_deck_2/latex.py:292: LatexWarning: Latex injecting: 'tb5_cgm_mass.tex' from 'tmp_2301.12233/tb5_cgm_mass.tex'\n",
      "  warnings.warn(LatexWarning(f\"Latex injecting: '{ext}' from '{subsource}'\"))\n",
      "/opt/hostedtoolcache/Python/3.9.16/x64/lib/python3.9/site-packages/arxiv_on_deck_2/latex.py:292: LatexWarning: Latex injecting: 'tb4_dwarf_info.tex' from 'tmp_2301.12233/tb4_dwarf_info.tex'\n",
      "  warnings.warn(LatexWarning(f\"Latex injecting: '{ext}' from '{subsource}'\"))\n",
      "/opt/hostedtoolcache/Python/3.9.16/x64/lib/python3.9/site-packages/arxiv_on_deck_2/latex.py:292: LatexWarning: Latex injecting: 'tb3_logN.tex' from 'tmp_2301.12233/tb3_logN.tex'\n",
      "  warnings.warn(LatexWarning(f\"Latex injecting: '{ext}' from '{subsource}'\"))\n",
      "/opt/hostedtoolcache/Python/3.9.16/x64/lib/python3.9/site-packages/arxiv_on_deck_2/latex.py:292: LatexWarning: Latex injecting: 'tb2_pair_info.tex' from 'tmp_2301.12233/tb2_pair_info.tex'\n",
      "  warnings.warn(LatexWarning(f\"Latex injecting: '{ext}' from '{subsource}'\"))\n",
      "/opt/hostedtoolcache/Python/3.9.16/x64/lib/python3.9/site-packages/arxiv_on_deck_2/latex.py:292: LatexWarning: Latex injecting: 'tb1_literature.tex' from 'tmp_2301.12233/tb1_literature.tex'\n",
      "  warnings.warn(LatexWarning(f\"Latex injecting: '{ext}' from '{subsource}'\"))\n"
     ]
    },
    {
     "name": "stdout",
     "output_type": "stream",
     "text": [
      "extracting tarball to tmp_2301.12283..."
     ]
    },
    {
     "name": "stdout",
     "output_type": "stream",
     "text": [
      " done.\n",
      "Retrieving document from  https://arxiv.org/e-print/2301.12359\n"
     ]
    },
    {
     "name": "stdout",
     "output_type": "stream",
     "text": [
      "extracting tarball to tmp_2301.12359..."
     ]
    },
    {
     "name": "stdout",
     "output_type": "stream",
     "text": [
      " done.\n",
      "Retrieving document from  https://arxiv.org/e-print/2301.12387\n"
     ]
    },
    {
     "name": "stderr",
     "output_type": "stream",
     "text": [
      "/tmp/ipykernel_2063/4030337529.py:34: LatexWarning: 2301.12387 did not run properly\n",
      "not a gzip file\n",
      "  warnings.warn(latex.LatexWarning(f\"{paper_id:s} did not run properly\\n\" +\n"
     ]
    },
    {
     "name": "stdout",
     "output_type": "stream",
     "text": [
      "Retrieving document from  https://arxiv.org/e-print/2301.12395\n"
     ]
    },
    {
     "name": "stdout",
     "output_type": "stream",
     "text": [
      "extracting tarball to tmp_2301.12395..."
     ]
    },
    {
     "name": "stdout",
     "output_type": "stream",
     "text": [
      " done.\n",
      "Retrieving document from  https://arxiv.org/e-print/2301.12404\n"
     ]
    },
    {
     "name": "stdout",
     "output_type": "stream",
     "text": [
      "extracting tarball to tmp_2301.12404..."
     ]
    },
    {
     "name": "stdout",
     "output_type": "stream",
     "text": [
      " done.\n",
      "Retrieving document from  https://arxiv.org/e-print/2301.12430\n"
     ]
    },
    {
     "name": "stdout",
     "output_type": "stream",
     "text": [
      "extracting tarball to tmp_2301.12430..."
     ]
    },
    {
     "name": "stdout",
     "output_type": "stream",
     "text": [
      " done.\n",
      "Retrieving document from  https://arxiv.org/e-print/2301.12557\n"
     ]
    },
    {
     "name": "stdout",
     "output_type": "stream",
     "text": [
      "extracting tarball to tmp_2301.12557..."
     ]
    },
    {
     "name": "stdout",
     "output_type": "stream",
     "text": [
      " done.\n",
      "Retrieving document from  https://arxiv.org/e-print/2301.12590\n"
     ]
    },
    {
     "name": "stdout",
     "output_type": "stream",
     "text": [
      "extracting tarball to tmp_2301.12590..."
     ]
    },
    {
     "name": "stdout",
     "output_type": "stream",
     "text": [
      " done.\n",
      "Retrieving document from  https://arxiv.org/e-print/2301.12648\n"
     ]
    },
    {
     "name": "stdout",
     "output_type": "stream",
     "text": [
      "extracting tarball to tmp_2301.12648..."
     ]
    },
    {
     "name": "stdout",
     "output_type": "stream",
     "text": [
      " done.\n",
      "Retrieving document from  https://arxiv.org/e-print/2301.12670\n"
     ]
    },
    {
     "name": "stderr",
     "output_type": "stream",
     "text": [
      "/opt/hostedtoolcache/Python/3.9.16/x64/lib/python3.9/site-packages/IPython/core/interactiveshell.py:3442: LatexWarning: Multiple tex files.\n",
      "\n",
      "  exec(code_obj, self.user_global_ns, self.user_ns)\n",
      "/opt/hostedtoolcache/Python/3.9.16/x64/lib/python3.9/site-packages/IPython/core/interactiveshell.py:3442: LatexWarning: Found documentclass in tmp_2301.12648/main.tex\n",
      "\n",
      "  exec(code_obj, self.user_global_ns, self.user_ns)\n",
      "/opt/hostedtoolcache/Python/3.9.16/x64/lib/python3.9/site-packages/arxiv_on_deck_2/latex.py:292: LatexWarning: Latex injecting: 'abb.tex' from 'tmp_2301.12648/abb.tex'\n",
      "  warnings.warn(LatexWarning(f\"Latex injecting: '{ext}' from '{subsource}'\"))\n"
     ]
    },
    {
     "name": "stdout",
     "output_type": "stream",
     "text": [
      "extracting tarball to tmp_2301.12670..."
     ]
    },
    {
     "name": "stdout",
     "output_type": "stream",
     "text": [
      " done.\n",
      "Retrieving document from  https://arxiv.org/e-print/2301.12697\n"
     ]
    },
    {
     "name": "stderr",
     "output_type": "stream",
     "text": [
      "/opt/hostedtoolcache/Python/3.9.16/x64/lib/python3.9/site-packages/IPython/core/interactiveshell.py:3442: LatexWarning: Multiple tex files.\n",
      "\n",
      "  exec(code_obj, self.user_global_ns, self.user_ns)\n",
      "/opt/hostedtoolcache/Python/3.9.16/x64/lib/python3.9/site-packages/IPython/core/interactiveshell.py:3442: LatexWarning: Found documentclass in tmp_2301.12670/main.tex\n",
      "\n",
      "  exec(code_obj, self.user_global_ns, self.user_ns)\n"
     ]
    },
    {
     "name": "stdout",
     "output_type": "stream",
     "text": [
      "extracting tarball to tmp_2301.12697..."
     ]
    },
    {
     "name": "stdout",
     "output_type": "stream",
     "text": [
      " done.\n",
      "Retrieving document from  https://arxiv.org/e-print/2301.12724\n"
     ]
    },
    {
     "name": "stdout",
     "output_type": "stream",
     "text": [
      "extracting tarball to tmp_2301.12724..."
     ]
    },
    {
     "name": "stdout",
     "output_type": "stream",
     "text": [
      " done.\n",
      "Retrieving document from  https://arxiv.org/e-print/2301.12770\n"
     ]
    },
    {
     "name": "stdout",
     "output_type": "stream",
     "text": [
      "extracting tarball to tmp_2301.12770..."
     ]
    },
    {
     "name": "stdout",
     "output_type": "stream",
     "text": [
      " done.\n",
      "Retrieving document from  https://arxiv.org/e-print/2301.12789\n"
     ]
    },
    {
     "name": "stdout",
     "output_type": "stream",
     "text": [
      "extracting tarball to tmp_2301.12789..."
     ]
    },
    {
     "name": "stdout",
     "output_type": "stream",
     "text": [
      " done.\n",
      "Retrieving document from  https://arxiv.org/e-print/2301.12792\n"
     ]
    },
    {
     "name": "stdout",
     "output_type": "stream",
     "text": [
      "extracting tarball to tmp_2301.12792..."
     ]
    },
    {
     "name": "stdout",
     "output_type": "stream",
     "text": [
      " done.\n",
      "Retrieving document from  https://arxiv.org/e-print/2301.12825\n"
     ]
    },
    {
     "name": "stdout",
     "output_type": "stream",
     "text": [
      "extracting tarball to tmp_2301.12825..."
     ]
    },
    {
     "name": "stdout",
     "output_type": "stream",
     "text": [
      " done.\n",
      "Retrieving document from  https://arxiv.org/e-print/2301.12872\n"
     ]
    },
    {
     "name": "stderr",
     "output_type": "stream",
     "text": [
      "/opt/hostedtoolcache/Python/3.9.16/x64/lib/python3.9/site-packages/IPython/core/interactiveshell.py:3442: LatexWarning: Multiple tex files.\n",
      "\n",
      "  exec(code_obj, self.user_global_ns, self.user_ns)\n",
      "/opt/hostedtoolcache/Python/3.9.16/x64/lib/python3.9/site-packages/IPython/core/interactiveshell.py:3442: LatexWarning: Found documentclass in tmp_2301.12825/ms_arxiv.tex\n",
      "\n",
      "  exec(code_obj, self.user_global_ns, self.user_ns)\n"
     ]
    },
    {
     "name": "stdout",
     "output_type": "stream",
     "text": [
      "extracting tarball to tmp_2301.12872..."
     ]
    },
    {
     "name": "stdout",
     "output_type": "stream",
     "text": [
      " done.\n"
     ]
    },
    {
     "name": "stderr",
     "output_type": "stream",
     "text": [
      "/opt/hostedtoolcache/Python/3.9.16/x64/lib/python3.9/site-packages/arxiv_on_deck_2/latex.py:118: LatexWarning: attempting recovering figure pic/aumic_QPC_b.png\n",
      "  warnings.warn(LatexWarning(f'attempting recovering figure {image}'))\n",
      "/tmp/ipykernel_2063/4030337529.py:34: LatexWarning: 2301.12872 did not run properly\n",
      "Could not find figure pic/aumic_QPC_b.png\n",
      "  warnings.warn(latex.LatexWarning(f\"{paper_id:s} did not run properly\\n\" +\n"
     ]
    },
    {
     "name": "stdout",
     "output_type": "stream",
     "text": [
      "Retrieving document from  https://arxiv.org/e-print/2301.12890\n"
     ]
    },
    {
     "name": "stdout",
     "output_type": "stream",
     "text": [
      "extracting tarball to tmp_2301.12890..."
     ]
    },
    {
     "name": "stdout",
     "output_type": "stream",
     "text": [
      " done.\n"
     ]
    },
    {
     "name": "stderr",
     "output_type": "stream",
     "text": [
      "/opt/hostedtoolcache/Python/3.9.16/x64/lib/python3.9/site-packages/arxiv_on_deck_2/latex.py:366: LatexWarning: Error parsing the document directly. Trying to recover.\n",
      "  warnings.warn(LatexWarning(f\"Error parsing the document directly. Trying to recover.\"))\n"
     ]
    },
    {
     "name": "stdout",
     "output_type": "stream",
     "text": [
      "✔ → 0:header\n",
      "  ↳ 26165:\\section{Introduction \\done{Nicolas, Vincenzo}}\n"
     ]
    },
    {
     "name": "stdout",
     "output_type": "stream",
     "text": [
      "✔ → 26165:\\section{Introduction \\done{Nicolas, Vincenzo}}\n",
      "  ↳ 34476:\\section{HOWLS data set}\n"
     ]
    },
    {
     "name": "stdout",
     "output_type": "stream",
     "text": [
      "✔ → 34476:\\section{HOWLS data set}\n",
      "  ↳ 58129:\\section{Statistics \\done{Vincenzo, Nicolas}}\n"
     ]
    },
    {
     "name": "stdout",
     "output_type": "stream",
     "text": [
      "✘ → 58129:\\section{Statistics \\done{Vincenzo, Nicolas}}\n",
      "  ↳ 115195:\\section{Fisher analysis}\n"
     ]
    },
    {
     "name": "stdout",
     "output_type": "stream",
     "text": [
      "✔ → 115195:\\section{Fisher analysis}\n",
      "  ↳ 159551:\\section{Results \\done{Nicolas}}\n"
     ]
    },
    {
     "name": "stdout",
     "output_type": "stream",
     "text": [
      "✔ → 159551:\\section{Results \\done{Nicolas}}\n",
      "  ↳ 174513:\\section{Conclusion \\done{Nicolas}}\n"
     ]
    },
    {
     "name": "stdout",
     "output_type": "stream",
     "text": [
      "✔ → 174513:\\section{Conclusion \\done{Nicolas}}\n",
      "  ↳ 181904:\\section{\\texorpdfstring{Forecasts for $\\Sigma_8$}{Forecasts for S8}}\n"
     ]
    },
    {
     "name": "stdout",
     "output_type": "stream",
     "text": [
      "✔ → 181904:\\section{\\texorpdfstring{Forecasts for $\\Sigma_8$}{Forecasts for S8}}\n",
      "  ↳ 190282:end\n"
     ]
    },
    {
     "name": "stdout",
     "output_type": "stream",
     "text": [
      "Retrieving document from  https://arxiv.org/e-print/2301.12918\n"
     ]
    },
    {
     "name": "stdout",
     "output_type": "stream",
     "text": [
      "extracting tarball to tmp_2301.12918..."
     ]
    },
    {
     "name": "stdout",
     "output_type": "stream",
     "text": [
      " done.\n",
      "Retrieving document from  https://arxiv.org/e-print/2301.12919\n"
     ]
    },
    {
     "name": "stderr",
     "output_type": "stream",
     "text": [
      "/opt/hostedtoolcache/Python/3.9.16/x64/lib/python3.9/site-packages/IPython/core/interactiveshell.py:3442: LatexWarning: Multiple tex files.\n",
      "\n",
      "  exec(code_obj, self.user_global_ns, self.user_ns)\n",
      "/opt/hostedtoolcache/Python/3.9.16/x64/lib/python3.9/site-packages/IPython/core/interactiveshell.py:3442: LatexWarning: Found documentclass in tmp_2301.12918/mr3.tex\n",
      "\n",
      "  exec(code_obj, self.user_global_ns, self.user_ns)\n",
      "/opt/hostedtoolcache/Python/3.9.16/x64/lib/python3.9/site-packages/arxiv_on_deck_2/latex.py:292: LatexWarning: Latex injecting: 'top-apj' from 'tmp_2301.12918/top-apj.tex'\n",
      "  warnings.warn(LatexWarning(f\"Latex injecting: '{ext}' from '{subsource}'\"))\n"
     ]
    },
    {
     "name": "stdout",
     "output_type": "stream",
     "text": [
      "extracting tarball to tmp_2301.12919..."
     ]
    },
    {
     "name": "stdout",
     "output_type": "stream",
     "text": [
      " done.\n",
      "Retrieving document from  https://arxiv.org/e-print/2301.12976\n"
     ]
    },
    {
     "name": "stdout",
     "output_type": "stream",
     "text": [
      "extracting tarball to tmp_2301.12976..."
     ]
    },
    {
     "name": "stdout",
     "output_type": "stream",
     "text": [
      " done.\n"
     ]
    }
   ],
   "source": [
    "documents = []\n",
    "failed = []\n",
    "for paper in tqdm(candidates[:-1]):\n",
    "    paper_id = paper['identifier'].lower().replace('arxiv:', '')\n",
    "    \n",
    "    folder = f'tmp_{paper_id}'\n",
    "\n",
    "    try:\n",
    "        if not os.path.isdir(folder):\n",
    "            folder = retrieve_document_source(f\"{paper_id}\", f'tmp_{paper_id}')\n",
    "        \n",
    "        try:\n",
    "            doc = latex.LatexDocument(folder, validation=validation)    \n",
    "        except AffiliationError as affilerror:\n",
    "            msg = f\"ArXiv:{paper_id:s} is not an MPIA paper... \" + str(affilerror)\n",
    "            failed.append((paper, \"affiliation error: \" + str(affilerror) ))\n",
    "            continue\n",
    "        \n",
    "        # Hack because sometimes author parsing does not work well\n",
    "        if (len(doc.authors) != len(paper['authors'])):\n",
    "            doc._authors = paper['authors']\n",
    "        if (doc.abstract) in (None, ''):\n",
    "            doc._abstract = paper['abstract']\n",
    "            \n",
    "        doc.comment = (get_markdown_badge(paper_id) + \n",
    "                       \"<mark>Appeared on: \" + paper['date'] + \"</mark> - \" +\n",
    "                       \"_\" + paper['comments'] + \"_\")\n",
    "        doc.highlight_authors_in_list(hl_list)\n",
    "\n",
    "        full_md = doc.generate_markdown_text()\n",
    "        \n",
    "        documents.append((paper_id, full_md))\n",
    "    except Exception as e:\n",
    "        warnings.warn(latex.LatexWarning(f\"{paper_id:s} did not run properly\\n\" +\n",
    "                                         str(e)\n",
    "                                        ))\n",
    "        failed.append((paper, \"latex error \" + str(e)))"
   ]
  },
  {
   "cell_type": "markdown",
   "id": "2505a25c",
   "metadata": {
    "papermill": {
     "duration": 0.009717,
     "end_time": "2023-01-31T04:14:26.287393",
     "exception": false,
     "start_time": "2023-01-31T04:14:26.277676",
     "status": "completed"
    },
    "tags": []
   },
   "source": [
    "### Export the logs\n",
    "\n",
    "Throughout, we also keep track of the logs per paper. see `logs-{today date}.md` "
   ]
  },
  {
   "cell_type": "code",
   "execution_count": 6,
   "id": "d733828a",
   "metadata": {
    "execution": {
     "iopub.execute_input": "2023-01-31T04:14:26.308896Z",
     "iopub.status.busy": "2023-01-31T04:14:26.308055Z",
     "iopub.status.idle": "2023-01-31T04:14:26.373140Z",
     "shell.execute_reply": "2023-01-31T04:14:26.372220Z"
    },
    "papermill": {
     "duration": 0.083657,
     "end_time": "2023-01-31T04:14:26.380901",
     "exception": false,
     "start_time": "2023-01-31T04:14:26.297244",
     "status": "completed"
    },
    "scrolled": false,
    "tags": []
   },
   "outputs": [
    {
     "data": {
      "text/markdown": [
       "## Successful papers"
      ],
      "text/plain": [
       "<IPython.core.display.Markdown object>"
      ]
     },
     "metadata": {},
     "output_type": "display_data"
    },
    {
     "data": {
      "text/markdown": [
       "\n",
       "|||\n",
       "|---:|:---|\n",
       "| [![arXiv](https://img.shields.io/badge/arXiv-arXiv:2301.11942-b31b1b.svg)](https://arxiv.org/abs/arXiv:2301.11942) | **The Origin of Stars in the Inner 500 Parsecs in TNG50 Galaxies**  |\n",
       "|| Alina Boecker, et al. -- incl., <mark>Nadine Neumayer</mark>, <mark>Annalisa Pillepich</mark>, <mark>Neige Frankel</mark>, <mark>Lars Hernquist</mark> |\n",
       "|*Appeared on*| *2023-01-31*|\n",
       "|*Comments*| *24 pages, 13 Figures, published in MNRAS*|\n",
       "|**Abstract**| We investigate the origin of stars in the innermost $500\\,\\mathrm{pc}$ of galaxies spanning stellar masses of $5\\times10^{8-12}\\,\\mathrm{M}_{\\odot}$ at $\\mathrm{z=0}$ using the cosmological magnetohydrodynamical TNG50 simulation. Three different origins of stars comprise galactic centers: 1) in-situ (born in the center), 2) migrated (born elsewhere in the galaxy and ultimately moved to the center), 3) ex-situ (accreted from other galaxies). In-situ and migrated stars dominate the central stellar mass budget on average with 73% and 23% respectively. The ex-situ fraction rises above 1% for galaxies $\\gtrsim10^{11}\\,\\mathrm{M}_{\\odot}$. Yet, only 9% of all galaxies exhibit no ex-situ stars in their centers and the scatter of ex-situ mass is significant ($4-6\\,\\mathrm{dex}$). Migrated stars predominantly originate closely from the center ($1-2\\,\\mathrm{kpc}$), but if they travelled together in clumps distances reach $\\sim10\\,\\mathrm{kpc}$. Central and satellite galaxies possess similar amounts and origins of central stars. Star forming galaxies ($\\gtrsim10^{10}\\,\\mathrm{M}_{\\odot}$) have on average more ex-situ mass in their centers than quenched ones. We predict readily observable stellar population and dynamical properties: 1) migrated stars are distinctly young ($\\sim2\\,\\mathrm{Gyr}$) and rotationally supported, especially for Milky Way mass galaxies, 2) in-situ stars are most metal-rich and older than migrated stars, 3) ex-situ stars are on random motion dominated orbits and typically the oldest, most metal-poor and $\\alpha$-enhanced population. We demonstrate that the interaction history with other galaxies leads to diverse pathways of building up galaxy centers in a $\\Lambda$CDM universe. Our work highlights the necessity for cosmological context in formation scenarios of central galactic components and the potential to use galaxy centers as tracers of overall galaxy assembly. |"
      ],
      "text/plain": [
       "[arXiv:2301.11942] The Origin of Stars in the Inner 500 Parsecs in TNG50 Galaxies\n",
       "\tAlina Boecker, et al. -- incl., <mark>Nadine Neumayer</mark>, <mark>Annalisa Pillepich</mark>, <mark>Neige Frankel</mark>, <mark>Lars Hernquist</mark>"
      ]
     },
     "metadata": {},
     "output_type": "display_data"
    },
    {
     "data": {
      "text/markdown": [
       "\n",
       "|||\n",
       "|---:|:---|\n",
       "| [![arXiv](https://img.shields.io/badge/arXiv-arXiv:2301.12890-b31b1b.svg)](https://arxiv.org/abs/arXiv:2301.12890) | **Euclid Preparation XXIX: Forecasts for 10 different higher-order weak  lensing statistics**  |\n",
       "|| Euclid Collaboration, et al. -- incl., <mark>S. Heydenreich</mark>, <mark>L. Linke</mark> |\n",
       "|*Appeared on*| *2023-01-31*|\n",
       "|*Comments*| *33 pages, 24 figures, main results in Fig. 19 & Table 5, submitted to A&A*|\n",
       "|**Abstract**| Recent cosmic shear studies have shown that higher-order statistics (HOS) developed by independent teams now outperform standard two-point estimators in terms of statistical precision thanks to their sensitivity to the non-Gaussian features of large-scale structure. The aim of the Higher-Order Weak Lensing Statistics (HOWLS) project is to assess, compare, and combine the constraining power of $10$ different HOS on a common set of $Euclid$-like mocks, derived from N-body simulations. In this first paper of the HOWLS series we compute the non-tomographic ($\\Omega_{\\rm m}$, $\\sigma_8$) Fisher information for one-point probability distribution function, peak counts, Minkowski functionals, Betti numbers, persistent homology Betti numbers and heatmap, and scattering transform coefficients, and compare them to the shear and convergence two-point correlation functions in the absence of any systematic bias. We also include forecasts for three implementations of higher-order moments, but these cannot be robustly interpreted as the Gaussian likelihood assumption breaks down for these statistics. Taken individually, we find that each HOS outperforms the two-point statistics by a factor of around $2$ in the precision of the forecasts with some variations across statistics and cosmological parameters. When combining all the HOS, this increases to a $4.5$ times improvement, highlighting the immense potential of HOS for cosmic shear cosmological analyses with $Euclid$. The data used in this analysis are publicly released with the paper. |"
      ],
      "text/plain": [
       "[arXiv:2301.12890] Euclid Preparation XXIX: Forecasts for 10 different higher-order weak  lensing statistics\n",
       "\tEuclid Collaboration, et al. -- incl., <mark>S. Heydenreich</mark>, <mark>L. Linke</mark>"
      ]
     },
     "metadata": {},
     "output_type": "display_data"
    },
    {
     "data": {
      "text/markdown": [
       "## Failed papers"
      ],
      "text/plain": [
       "<IPython.core.display.Markdown object>"
      ]
     },
     "metadata": {},
     "output_type": "display_data"
    },
    {
     "data": {
      "text/markdown": [
       "\n",
       "|||\n",
       "|---:|:---|\n",
       "| [![arXiv](https://img.shields.io/badge/arXiv-arXiv:2301.12395-b31b1b.svg)](https://arxiv.org/abs/arXiv:2301.12395) | **J-PLUS: Towards an homogeneous photometric calibration using Gaia BP/RP  low-resolution spectra**  |\n",
       "|| C. López-Sanjuan, et al. -- incl., <mark>H. Vázquez Ramió</mark>, <mark>A. Hernán-Caballero</mark>, <mark>C. Hernández-Monteagudo</mark> |\n",
       "|*Appeared on*| *2023-01-31*|\n",
       "|*Comments*| *Submitted to Astronomy and Astrophysics. 17 pages, 14 figures, 2 appendix. Comments are welcome. arXiv admin note: text overlap with arXiv:2101.12407*|\n",
       "|**Abstract**| We present the photometric calibration of the twelve optical passbands for the Javalambre Photometric Local Universe Survey (J-PLUS) third data release (DR3), comprising 1642 pointings of two square degrees each. We selected nearly 1.5 million main sequence stars with a signal-to-noise ratio larger than ten in the twelve J-PLUS passbands and available low-resolution (R = 20-80) spectrum from the blue and red photometers (BP/RP) in Gaia DR3. We compared the synthetic photometry from BP/RP spectra with the J-PLUS instrumental magnitudes, after correcting for the magnitude and color terms between both systems, to obtain an homogeneous photometric solution for J-PLUS. To circumvent the current limitations in the absolute calibration of the BP/RP spectra, the absolute color scale was derived using the locus of 109 white dwarfs closer than 100 pc with a negligible interstellar extinction. Finally, the absolute flux scale was anchored to the Panoramic Survey Telescope and Rapid Response System (Pan-STARRS) photometry in the r band. The precision of the J-PLUS photometric calibration, estimated from duplicated objects observed in adjacent pointings and by comparison with the spectro-photometric standard star GD 153, is ~12 mmag in u, J0378, and J0395; and ~7 mmag in J0410, J0430, g, J0515, r, J0660, i, J0861, and z. The estimated accuracy in the calibration along the surveyed area is better than 1% for all the passbands. The Gaia BP/RP spectra provide a high-quality, homogeneous photometric reference in the optical range across the full-sky, in spite of their current limitations as an absolute reference. The calibration method for J-PLUS DR3 reaches an absolute precision and accuracy of 1% in the twelve optical filters within an area of 3284 square degrees. |\n",
       "|<p style=\"color:green\"> **ERROR** </p>| <p style=\"color:green\">affiliation error: mpia.affiliation_verifications: '69117' keyword not found.</p> |"
      ],
      "text/plain": [
       "<IPython.core.display.Markdown object>"
      ]
     },
     "metadata": {},
     "output_type": "display_data"
    },
    {
     "data": {
      "text/markdown": [
       "\n",
       "|||\n",
       "|---:|:---|\n",
       "| [![arXiv](https://img.shields.io/badge/arXiv-arXiv:2301.11943-b31b1b.svg)](https://arxiv.org/abs/arXiv:2301.11943) | **A first detection of neutral hydrogen intensity mapping on Mpc scales at  $z\\approx 0.32$ and $z\\approx 0.44$**  |\n",
       "|| Sourabh Paul, Mario G. Santos, <mark>Zhaoting Chen</mark>, Laura Wolz |\n",
       "|*Appeared on*| *2023-01-31*|\n",
       "|*Comments*| *19 pages, 10 figures, submitted to ApJL*|\n",
       "|**Abstract**| We report the first direct detection of the cosmological power spectrum using the intensity signal from 21-cm emission of neutral hydrogen (HI), derived from interferometric observations with the L-band receivers of the new MeerKAT radio telescope. Intensity mapping is a promising technique to map the three-dimensional matter distribution of the Universe at radio frequencies and probe the underlying Cosmology. So far, detections have only been achieved through cross-correlations with galaxy surveys. Here we present independent measurements of the HI power spectrum at redshifts $0.32$ and $0.44$ with high statistical significance using a foreground avoidance method (at $8.0\\sigma$ and $11.5\\sigma$ respectively). We constrain the rms of the fluctuations of the HI distribution to be $\\sigma_{\\rm HI} = (0.44\\pm 0.04)\\,{\\rm mK}$ and $\\sigma_{\\rm HI} = (0.63\\pm 0.03)\\,{\\rm mK}$ respectively at scales of 1.0 Mpc. The information contained in the power spectrum measurements allows us to probe the parameters of the HI mass function and HI halo model. These results are a significant step towards precision cosmology with HI intensity mapping using the new generation of radio telescopes. |\n",
       "|<p style=\"color:green\"> **ERROR** </p>| <p style=\"color:green\">affiliation error: mpia.affiliation_verifications: 'Heidelberg' keyword not found.</p> |"
      ],
      "text/plain": [
       "<IPython.core.display.Markdown object>"
      ]
     },
     "metadata": {},
     "output_type": "display_data"
    },
    {
     "data": {
      "text/markdown": [
       "\n",
       "|||\n",
       "|---:|:---|\n",
       "| [![arXiv](https://img.shields.io/badge/arXiv-arXiv:2301.12016-b31b1b.svg)](https://arxiv.org/abs/arXiv:2301.12016) | **Improved analytical modeling of the non-linear power spectrum in  modified gravity cosmologies**  |\n",
       "|| Suhani Gupta, <mark>Wojciech A. Hellwing</mark>, Maciej Bilicki |\n",
       "|*Appeared on*| *2023-01-31*|\n",
       "|*Comments*| **|\n",
       "|**Abstract**| Reliable analytical modeling of the non-linear power spectrum (PS) of matter perturbations is among the chief pre-requisites for cosmological analyses from the largest sky surveys. This is especially true for the models that extend the standard general-relativity paradigm by adding the fifth force, where numerical simulations can be prohibitively expensive. Here we present a method for building accurate PS models for two modified gravity (MG) variants: namely the Hu-Sawicki $f(R)$, and the normal branch of the Dvali-Gabadadze-Porrati (nDGP) braneworld. We start by modifying the standard halo model (HM) with respect to the baseline Lambda-Cold-Dark-Matter ($\\Lambda$CDM) scenario, by using the HM components with specific MG extensions. We find that our $P(k)_{\\text{HM}}$ retains 5% accuracy only up to mildly non-linear scales ($k \\lesssim 0.3$ $h/\\,\\mbox{Mpc}$) when compared to PS from numerical simulations. At the same time, our HM prescription much more accurately captures the ratio $\\Upsilon(k) = P(k)_{\\text{MG}}/P(k)_{\\Lambda \\text{CDM}}$ up to non-linear scales. We show that using HM-derived $\\Upsilon(k)$ together with a viable non-linear $\\Lambda$CDM $P(k)$ prescription (such as HALOFIT), we render a much better and more accurate PS predictions in MG. The new approach yields considerably improved performance, with modeled $P(k)_{\\text{MG}}$ being now accurate to within 5% all the way to non-linear scales of $k \\lesssim 2.5-3$ $h/\\,\\mbox{Mpc}$. The magnitude of deviations from GR as fostered by these MG models is typically $\\mathcal{O}(10\\%)$ in these regimes. Therefore reaching 5% PS modeling is enough for forecasting constraints on modern-era cosmological observables. |\n",
       "|<p style=\"color:green\"> **ERROR** </p>| <p style=\"color:green\">affiliation error: mpia.affiliation_verifications: 'Heidelberg' keyword not found.</p> |"
      ],
      "text/plain": [
       "<IPython.core.display.Markdown object>"
      ]
     },
     "metadata": {},
     "output_type": "display_data"
    },
    {
     "data": {
      "text/markdown": [
       "\n",
       "|||\n",
       "|---:|:---|\n",
       "| [![arXiv](https://img.shields.io/badge/arXiv-arXiv:2301.12020-b31b1b.svg)](https://arxiv.org/abs/arXiv:2301.12020) | **General relativistic hydrodynamic simulations of perturbed transonic  accretion**  |\n",
       "|| <mark>Hector R. Olivares S.</mark>, Monika A. Moscibrodzka, Oliver Porth |\n",
       "|*Appeared on*| *2023-01-31*|\n",
       "|*Comments*| *17 pages, 12 figures, submitted to Astronomy and Astrophysics*|\n",
       "|**Abstract**| Comparison of horizon-scale observations of Sgr A* and M87* with numerical simulations has provided considerable insight in their interpretation. Most of these simulations are variations of the same physical scenario consisting of a rotation-supported torus seeded with poloidal magnetic fields. This setup has several well known limitations, most notably, it differs in important ways from what observed in simulations of accretion from large scales. We aim to study the flow patterns that arise at horizon scales in more general scenarios, that have a clearer connection with the large scale flow and are at the same time controlled by a reduced set of parameters. As a first step in this direction, we perform three dimensional general relativistic hydrodynamic simulations of rotating transonic flows with velocity perturbations injected from a spherical boundary located 1000 gravitational radii away from the central object. We study the general properties of these flows with varying angular momentum and perturbation amplitudes. We observe a rich phenomenology in accretion patterns, that includes smooth Bondi-like flows, turbulent torus-like structures, shocks, filaments, and complex sonic structures. For sufficiently large perturbations and angular momentum, radial profiles deviate from the constant entropy and angular momentum profiles used for initialization and resemble those of advection dominated accretion flows, showing evidence of entropy generation and angular momentum redistribution not mediated by magnetic fields. Fluctuations are amplified and extend further in frequency than the injected white noise spectrum, producing a red noise spectrum for synthetic Bremsstrahlung light curves. Future inclusion of magnetic fields and radiative cooling could make this type of simulations a viable alternative for numerical modeling of general low-luminosity active galactic nuclei. |\n",
       "|<p style=\"color:green\"> **ERROR** </p>| <p style=\"color:green\">affiliation error: mpia.affiliation_verifications: 'Heidelberg' keyword not found.</p> |"
      ],
      "text/plain": [
       "<IPython.core.display.Markdown object>"
      ]
     },
     "metadata": {},
     "output_type": "display_data"
    },
    {
     "data": {
      "text/markdown": [
       "\n",
       "|||\n",
       "|---:|:---|\n",
       "| [![arXiv](https://img.shields.io/badge/arXiv-arXiv:2301.12111-b31b1b.svg)](https://arxiv.org/abs/arXiv:2301.12111) | **First-Principles Theory of the Relativistic Magnetic Reconnection Rate  in Astrophysical Pair Plasmas**  |\n",
       "|| Matthew Goodbred, <mark>Yi-Hsin Liu</mark> |\n",
       "|*Appeared on*| *2023-01-31*|\n",
       "|*Comments*| *7 pages, 3 figures*|\n",
       "|**Abstract**| We develop a first-principles model for the relativistic magnetic reconnection rate in strongly magnetized pair plasmas. By considering the energy budget and required current density near the x-line, we analytically show that in the magnetically-dominated relativistic regime, the x-line thermal pressure is significantly lower than the upstream magnetic pressure due to the extreme energy needed to sustain the current density, consistent with kinetic simulations. This causes the upstream magnetic field lines to collapse in, producing the open outflow geometry which enables fast reconnection. The result is important for understanding a wide range of extreme astrophysical environments, where fast reconnection has been evoked to explain observations such as transient flares and nonthermal particle signatures. |\n",
       "|<p style=\"color:green\"> **ERROR** </p>| <p style=\"color:green\">affiliation error: mpia.affiliation_verifications: 'Heidelberg' keyword not found.</p> |"
      ],
      "text/plain": [
       "<IPython.core.display.Markdown object>"
      ]
     },
     "metadata": {},
     "output_type": "display_data"
    },
    {
     "data": {
      "text/markdown": [
       "\n",
       "|||\n",
       "|---:|:---|\n",
       "| [![arXiv](https://img.shields.io/badge/arXiv-arXiv:2301.12125-b31b1b.svg)](https://arxiv.org/abs/arXiv:2301.12125) | **Coherent Curvature Radiation Spectrum by Dynamically Fluctuating Bunches  in Magnetospheres**  |\n",
       "|| Yuan-Pei Yang, <mark>Bing Zhang</mark> |\n",
       "|*Appeared on*| *2023-01-31*|\n",
       "|*Comments*| *10 pages, 5 figures. Submitted to MNRAS. Comments welcome!*|\n",
       "|**Abstract**| Coherent curvature radiation by charged bunches has been discussed as the radiation mechanism for radio pulsars and fast radio bursts. Important issues for this radiation mechanism include how the bunches form and disperse in the magnetosphere of a pulsar or magnetar. More likely, bunches form and disperse continuously and it remains unclear what the spectral features are for these fluctuating bunches. In this work, we consider that the bunches in a magnetosphere have a formation rate of $\\lambda_B$, a lifetime of $\\tau_B$, and a typical Lorentz factor of $\\gamma$, and analyze the spectral features of coherent curvature radiation by these fluctuating bunches. We find that the emission spectrum by a single fluctuating bunch is suppressed by a factor of $\\sim(\\lambda_B\\tau_B)^2$ compared with that of a single persistent bunch, and there is a quasi-white noise in a wider band in the frequency domain. The high-frequency cutoff of the spectrum is at $\\sim\\max(\\omega_c,2\\gamma^2/\\tau_B)$, where $\\omega_c$ is the typical frequency of curvature radiation. If the observed spectrum is not white-noise-like, the condition of $2\\gamma^2\\lambda_B\\gtrsim \\min(\\omega_c,2\\gamma^2/\\tau_B)$ would be required. On the other hand, due to the random fluctuation of bunches, the radiation by multiple fluctuating bunches along a field line is the incoherent summation of the radiation by single bunches, and the spectral shape is the same as that of a single bunch. We further discuss the effects of bunch structures and some possible mechanisms of bunch formation and dispersion. |\n",
       "|<p style=\"color:green\"> **ERROR** </p>| <p style=\"color:green\">affiliation error: mpia.affiliation_verifications: 'Heidelberg' keyword not found.</p> |"
      ],
      "text/plain": [
       "<IPython.core.display.Markdown object>"
      ]
     },
     "metadata": {},
     "output_type": "display_data"
    },
    {
     "data": {
      "text/markdown": [
       "\n",
       "|||\n",
       "|---:|:---|\n",
       "| [![arXiv](https://img.shields.io/badge/arXiv-arXiv:2301.12183-b31b1b.svg)](https://arxiv.org/abs/arXiv:2301.12183) | **Radio Studies of the Middle Corona: Current State and New Prospects in  the Next Decade**  |\n",
       "|| Bin Chen, et al. -- incl., <mark>Peijin Zhang</mark> |\n",
       "|*Appeared on*| *2023-01-31*|\n",
       "|*Comments*| *Science white paper submitted to the 2024 Solar and Space Physics Decadal Survey. All submitted white papers (including this one) are available at this https URL arXiv admin note: text overlap with arXiv:2208.04485*|\n",
       "|**Abstract**| The \"middle corona,\" defined by West et al. (2022) as the region between ~1.5-6 solar radii, is a critical transition region that connects the highly structured lower corona to the outer corona where the magnetic field becomes predominantly radial. At radio wavelengths, remote-sensing of the middle corona falls in the meter-decameter wavelength range where a critical transition of radio emission mechanisms occurs. In addition, plasma properties of the middle corona can be probed by trans-coronal radio propagation methods including radio scintillation and Faraday rotation techniques. Together they offer a wealth of diagnostic tools for the middle corona, complementing current and planned missions at other wavelengths. These diagnostics include unique means for detecting and measuring the magnetic field and energetic electrons associated with coronal mass ejections, mapping coronal shocks and electron beam trajectories, as well as constraining the plasma density, magnetic field, and turbulence of the \"young\" solar wind. Following a brief overview of pertinent radio diagnostic methods, this white paper will discuss the current state of radio studies on the middle corona, challenges to obtaining a more comprehensive picture, and recommend an outlook in the next decade. Our specific recommendations for advancing the middle coronal sciences from the radio perspective are: (1) Prioritizing solar-dedicated radio facilities in the ~0.1-1 GHz range with broadband, high-dynamic-range imaging spectropolarimetry capabilities. (2) Developing facilities and techniques to perform multi-perspective, multiple lines-of-sight trans-coronal radio Faraday Rotation measurements. |\n",
       "|<p style=\"color:green\"> **ERROR** </p>| <p style=\"color:green\">affiliation error: mpia.affiliation_verifications: 'Heidelberg' keyword not found.</p> |"
      ],
      "text/plain": [
       "<IPython.core.display.Markdown object>"
      ]
     },
     "metadata": {},
     "output_type": "display_data"
    },
    {
     "data": {
      "text/markdown": [
       "\n",
       "|||\n",
       "|---:|:---|\n",
       "| [![arXiv](https://img.shields.io/badge/arXiv-arXiv:2301.12192-b31b1b.svg)](https://arxiv.org/abs/arXiv:2301.12192) | **Quantifying Energy Release in Solar Flares and Solar Eruptive Events:  New Frontiers with a Next-Generation Solar Radio Facility**  |\n",
       "|| Bin Chen, et al. -- incl., <mark>Xiaocan Li</mark>, <mark>Fan Guo</mark>, <mark>Lindsay Glesener</mark> |\n",
       "|*Appeared on*| *2023-01-31*|\n",
       "|*Comments*| *Science white paper submitted to the 2024 Solar and Space Physics Decadal Survey. All submitted white papers (including this one) are available at this https URL*|\n",
       "|**Abstract**| Solar flares and the often associated solar eruptive events serve as an outstanding laboratory to study the magnetic reconnection and the associated energy release and conversion processes under plasma conditions difficult to reproduce in the laboratory, and with considerable spatiotemporal details not possible elsewhere in the universe. In the past decade, thanks to advances in multi-wavelength imaging spectroscopy, as well as developments in theories and numerical modeling, significant progress has been made in improving our understanding of solar flare/eruption energy release. In particular, broadband imaging spectroscopy at microwave wavelengths offered by the Expanded Owens Valley Solar Array (EOVSA) has enabled the revolutionary capability of measuring the time-evolving coronal magnetic fields at or near the flare reconnection region. However, owing to EOVSA's limited dynamic range, imaging fidelity, and angular resolution, such measurements can only be done in a region around the brightest source(s) where the signal-to-noise is sufficiently large. In this white paper, after a brief introduction to the outstanding questions and challenges pertinent to magnetic energy release in solar flares and eruptions, we will demonstrate how a next-generation radio facility with many (~100-200) antenna elements can bring the next revolution by enabling high dynamic range, high fidelity broadband imaging spectropolarimetry along with a sub-second time resolution and arcsecond-level angular resolution. We recommend to prioritize the implementation of such a ground-based instrument within this decade. We also call for facilitating multi-wavelength, multi-messenger observations and advanced numerical modeling in order to achieve a comprehensive understanding of the \"system science\" of solar flares and eruptions. |\n",
       "|<p style=\"color:green\"> **ERROR** </p>| <p style=\"color:green\">affiliation error: mpia.affiliation_verifications: 'Heidelberg' keyword not found.</p> |"
      ],
      "text/plain": [
       "<IPython.core.display.Markdown object>"
      ]
     },
     "metadata": {},
     "output_type": "display_data"
    },
    {
     "data": {
      "text/markdown": [
       "\n",
       "|||\n",
       "|---:|:---|\n",
       "| [![arXiv](https://img.shields.io/badge/arXiv-arXiv:2301.12223-b31b1b.svg)](https://arxiv.org/abs/arXiv:2301.12223) | **On measuring the 21 cm global spectrum of cosmic dawn with  interferometer array**  |\n",
       "|| <mark>Xin Zhang</mark>, et al. |\n",
       "|*Appeared on*| *2023-01-31*|\n",
       "|*Comments*| *18 pages, 23 figures, accepted for publication in ApJ*|\n",
       "|**Abstract**| We theoretically investigate the recovery of global spectrum (monopole) from visibilities (cross-correlation only) measured by the interferometer array and the feasibility of extracting 21 cm signal of cosmic dawn. In our approach, the global spectrum is obtained by solving the monopole and higher-order components simultaneously from the visibilities measured with up to thousands of baselines. Using this algorithm, the monopole of both foreground and the 21 cm signal can be correctly recovered in a broad range of conditions. We find that a 3D baseline distribution can have much better performance than a 2D (planar) baseline distribution, particularly when there is a lack of shorter baselines. We simulate for ground-based 2D and 3D array configurations, and a cross-shaped space array located at the Sun-Earth L2 point that can form 3D baselines through orbital precession. In all simulations we obtain good recovered global spectrum, and successfully extract the 21 cm signal from it, with reasonable number of antennas and observation time. |\n",
       "|<p style=\"color:green\"> **ERROR** </p>| <p style=\"color:green\">affiliation error: mpia.affiliation_verifications: 'Heidelberg' keyword not found.</p> |"
      ],
      "text/plain": [
       "<IPython.core.display.Markdown object>"
      ]
     },
     "metadata": {},
     "output_type": "display_data"
    },
    {
     "data": {
      "text/markdown": [
       "\n",
       "|||\n",
       "|---:|:---|\n",
       "| [![arXiv](https://img.shields.io/badge/arXiv-arXiv:2301.12233-b31b1b.svg)](https://arxiv.org/abs/arXiv:2301.12233) | **A Comprehensive Investigation of Metals in the Circumgalactic Medium of  Nearby Dwarf Galaxies**  |\n",
       "|| Yong Zheng, et al. -- incl., <mark>Joseph N. Burchett</mark> |\n",
       "|*Appeared on*| *2023-01-31*|\n",
       "|*Comments*| *Submitted to ApJ; comments welcome*|\n",
       "|**Abstract**| Dwarf galaxies are found to have lost most their metals via feedback processes; however, there still lacks consistent assessment on the retention rate of metals in their circumgalactic medium (CGM). Here we investigate the metal content in the CGM of 49 isolated dwarf galaxies with $M_*=10^{6.5-9.5}~M_\\odot$ ($M_{\\rm 200m}=10^{10.0-11.5}~M_\\odot$) using HST/COS spectroscopy. While HI (Ly$\\alpha$) is ubiquitously detected ($89\\%$) within the CGM, we find low detection rates ($\\approx5-21\\%$) in CII, CIV, SiII, SiIII, and SiIV, largely consistent with literature values. Assuming these ions form in the cool ($T\\approx10^4$ K) CGM with photoionization equilibrium, the observed HI and metal column density profiles can be best explained by an empirical model with low gas density and high volume filling factor. For a typical galaxy with $M_{\\rm 200m}=10^{10.9}~M_\\odot$ (median of the sample), our model predicts a cool gas mass of $M_{\\rm CGM,cool}\\sim10^{8.4}~M_\\odot$, corresponding to $\\sim2\\%$ of the galaxy's baryonic budget. Assuming a metallicity of $0.3Z_\\odot$, we estimate that the dwarf galaxy's cool CGM only harbors $\\sim10\\%$ of the metals ever produced, with the rest either in warmer phases yet to be detected, or transported to the intergalactic medium. We further examine the EAGLE simulation and show that HI and low ions may arise from a dense cool medium, while CIV from a diffuse warmer medium. Our work provides the community a uniform dataset on dwarf galaxies' CGM that combines our recent observations, additional archival data and literature compilation, which can be used to test various theoretical models of dwarf galaxies. |\n",
       "|<p style=\"color:green\"> **ERROR** </p>| <p style=\"color:green\">affiliation error: mpia.affiliation_verifications: 'Heidelberg' keyword not found.</p> |"
      ],
      "text/plain": [
       "<IPython.core.display.Markdown object>"
      ]
     },
     "metadata": {},
     "output_type": "display_data"
    },
    {
     "data": {
      "text/markdown": [
       "\n",
       "|||\n",
       "|---:|:---|\n",
       "| [![arXiv](https://img.shields.io/badge/arXiv-arXiv:2301.12283-b31b1b.svg)](https://arxiv.org/abs/arXiv:2301.12283) | **J2102+6015: a potential high-redshift multimessenger**  |\n",
       "|| Leonid I. Gurvits, et al. -- incl., <mark>Yingkang Zhang</mark> |\n",
       "|*Appeared on*| *2023-01-31*|\n",
       "|*Comments*| *To be published in the Proceedings of the IAU Symp. No. 375 \"The multimessenger chakra of blazar jets\", Kathmandu, Nepal, December 2022*|\n",
       "|**Abstract**| We present and briefly discuss results of several studies of the source J2102+6015 with tentatively defined redshift z=4:575 which demonstrates unusual properties in imaging and astrometric VLBI observations. Its properties might be considered as indications on the supermassive black hole binary which can be considered as a so far rare example of a high-redshift source of known electromagnetic and predictable gravitational wave emissions. |\n",
       "|<p style=\"color:green\"> **ERROR** </p>| <p style=\"color:green\">affiliation error: mpia.affiliation_verifications: 'Heidelberg' keyword not found.</p> |"
      ],
      "text/plain": [
       "<IPython.core.display.Markdown object>"
      ]
     },
     "metadata": {},
     "output_type": "display_data"
    },
    {
     "data": {
      "text/markdown": [
       "\n",
       "|||\n",
       "|---:|:---|\n",
       "| [![arXiv](https://img.shields.io/badge/arXiv-arXiv:2301.12359-b31b1b.svg)](https://arxiv.org/abs/arXiv:2301.12359) | **GTC/CanariCam Mid-IR Polarimetry of Magnetic Fields in Star-Forming  Region W51 IRS2**  |\n",
       "|| Charles M. Telesco, et al. -- incl., <mark>Han Zhang</mark>, <mark>Frank Varosi</mark> |\n",
       "|*Appeared on*| *2023-01-31*|\n",
       "|*Comments*| *To be published in the Astrophysical Journal*|\n",
       "|**Abstract**| We present 0.4 arcsec-resolution imaging polarimetry at 8.7, 10.3, and 12.5 microns, obtained with CanariCam at the Gran Telescopio Canarias, of the central region of W51 IRS2. The polarization, as high as 14 percent, arises from silicate particles aligned by the interstellar magnetic field. We separate, or unfold, the polarization of each sightline into emission and absorption components, from which we infer the morphologies of the corresponding projected magnetic fields that thread the emitting and foreground-absorbing regions. We conclude that the projected magnetic field in the foreground material is part of the larger-scale ambient field. The morphology of the projected magnetic field in the mid-IR emitting region spanning the cometary HII region W51 IRS2W is similar to that in the absorbing region. Elsewhere, the two magnetic fields differ significantly with no clear relationship between them. The magnetic field across the W51 IRS2W cometary core appears to be an integral part of a champagne outflow of gas originating in the core and dominating the energetics there. The bipolar outflow, W51north jet, that appears to originate at or near SMA1/N1 coincides almost exactly with a clearly demarcated north-south swath of lower polarization. While speculative, comparison of mid-IR and submm polarimetry on two different scales may support a picture in which SMA1/N1 plays a major role in the magnetic field structure across W51 IRS2. |\n",
       "|<p style=\"color:green\"> **ERROR** </p>| <p style=\"color:green\">affiliation error: mpia.affiliation_verifications: 'Heidelberg' keyword not found.</p> |"
      ],
      "text/plain": [
       "<IPython.core.display.Markdown object>"
      ]
     },
     "metadata": {},
     "output_type": "display_data"
    },
    {
     "data": {
      "text/markdown": [
       "\n",
       "|||\n",
       "|---:|:---|\n",
       "| [![arXiv](https://img.shields.io/badge/arXiv-arXiv:2301.12404-b31b1b.svg)](https://arxiv.org/abs/arXiv:2301.12404) | **The role of radial migration on tracing lithium evolution in the  Galactic disk**  |\n",
       "|| <mark>Haopeng Zhang</mark>, et al. -- incl., <mark>Gang Zhao</mark>, <mark>Xianfei Zhang</mark> |\n",
       "|*Appeared on*| *2023-01-31*|\n",
       "|*Comments*| *7 pages, 5 figures, accepted for publication in MNRAS*|\n",
       "|**Abstract**| With the calculated guiding center radius $R_{guiding}$ and birth radius $R_{birth}$, we investigate the role of radial migration on the description of lithium evolution in the Galactic disk based on the upper envelope of the A(Li) vs. [Fe/H] diagram. Using migration distances, we find that stars in the solar neighborhood are born at different locations in the galactic disk, and cannot all be explained by models of chemical evolution in the solar neighborhood. It is found that the upper envelope of the A(Li) vs. [Fe/H] diagram varies significantly with $R_{birth}$, which explains the decrease of Li for super-metal-rich (SMR) stars because they are non-young stars born in the inner disk. The upper envelope of Li-$R_{birth}$ plane fits very well with chemical evolution models for $R_{birth} = 7 - 12$ kpc, outside which young stars generally lack sufficient time to migrate to the solar neighborhood. For stars born in the solar neighborhood, the young open clusters and the upper envelope of field stars with age $<$ 3 Gyr fit well with theoretical prediction. We find that calculations using stars with ages less than 3 Gyr are necessary to obtain an undepleted Li upper envelope, and that stars with solar age (around 4.5 Gyr) have depleted around 0.3 dex from the original value based on the chemical evolution model. |\n",
       "|<p style=\"color:green\"> **ERROR** </p>| <p style=\"color:green\">affiliation error: mpia.affiliation_verifications: 'Heidelberg' keyword not found.</p> |"
      ],
      "text/plain": [
       "<IPython.core.display.Markdown object>"
      ]
     },
     "metadata": {},
     "output_type": "display_data"
    },
    {
     "data": {
      "text/markdown": [
       "\n",
       "|||\n",
       "|---:|:---|\n",
       "| [![arXiv](https://img.shields.io/badge/arXiv-arXiv:2301.12430-b31b1b.svg)](https://arxiv.org/abs/arXiv:2301.12430) | **Cosmic Background Neutrinos Deflected by Gravity: DEMNUni Simulation  Analysis**  |\n",
       "|| <mark>Beatriz Hernández-Molinero</mark>, Carmelita Carbone, Raul Jimenez, Carlos Peña Garay |\n",
       "|*Appeared on*| *2023-01-31*|\n",
       "|*Comments*| **|\n",
       "|**Abstract**| The local supercluster acts as a gravity deflection source for cosmic background neutrinos. This deflection by gravity changes the neutrino helicity and therefore has important consequences for ground based tritium capture experiments aimed at determining if the neutrino is Dirac or Majorana. Here we explore the deflection effect of the local supercluster using the higher resolution DEMNUni simulation suite and reaffirm our previous results. We show that the lightest neutrinos are ultra-relativistic enough to suffer little deflection by gravity and at the same time not relativistic enough to achieve the same capture rate for Dirac and Majorana cases. This means that the capture rate in Ptolemy-like experiments will be sensitive to the neutrino nature and that gravity deflection enlarges the difference between Majorana and Dirac rates. Moreover, using the relation between mass and momentum of the neutrinos frozen Fermi-Dirac distribution, we are able to calculate the deflection angle for different neutrino masses from the same set of neutrinos obtained from the simulation. Doing so, we provide a formula to compute the deflection angle for any neutrino mass, such that when cosmology detects an absolute neutrino mass, precise predictions can be made for tritium ground-based detectors on Earth aimed to determine neutrinos nature. |\n",
       "|<p style=\"color:green\"> **ERROR** </p>| <p style=\"color:green\">affiliation error: mpia.affiliation_verifications: 'Heidelberg' keyword not found.</p> |"
      ],
      "text/plain": [
       "<IPython.core.display.Markdown object>"
      ]
     },
     "metadata": {},
     "output_type": "display_data"
    },
    {
     "data": {
      "text/markdown": [
       "\n",
       "|||\n",
       "|---:|:---|\n",
       "| [![arXiv](https://img.shields.io/badge/arXiv-arXiv:2301.12557-b31b1b.svg)](https://arxiv.org/abs/arXiv:2301.12557) | **Fast Correlation Function Calculator -- A high-performance pair counting  toolkit**  |\n",
       "|| <mark>Cheng Zhao</mark> |\n",
       "|*Appeared on*| *2023-01-31*|\n",
       "|*Comments*| *18 pages, 18 figures. The FCFC package is publicly available at this https URL*|\n",
       "|**Abstract**| Context. A novel high-performance exact pair counting toolkit called Fast Correlation Function Calculator (FCFC) is presented, which is publicly available at https://github.com/cheng-zhao/FCFC. Aims. As the rapid growth of modern cosmological datasets, the evaluation of correlation functions with observational and simulation catalogues has become a challenge. High-efficiency pair counting codes are thus in great demand. Methods. We introduce different data structures and algorithms that can be used for pair counting problems, and perform comprehensive benchmarks to identify the most efficient ones for real-world cosmological applications. We then describe the three levels of parallelisms used by FCFC -- including SIMD, OpenMP, and MPI -- and run extensive tests to investigate the scalabilities. Finally, we compare the efficiency of FCFC against alternative pair counting codes. Results. The data structures and histogram update algorithms implemented in FCFC are shown to outperform alternative methods. FCFC does not benefit much from SIMD as the bottleneck of our histogram update algorithm is mostly cache latency. Nevertheless, the efficiency of FCFC scales well with the numbers of OpenMP threads and MPI processes, albeit the speedups may be degraded with over a few thousand threads in total. FCFC is found to be faster than most (if not all) other public pair counting codes for modern cosmological pair counting applications. |\n",
       "|<p style=\"color:green\"> **ERROR** </p>| <p style=\"color:green\">affiliation error: mpia.affiliation_verifications: 'Heidelberg' keyword not found.</p> |"
      ],
      "text/plain": [
       "<IPython.core.display.Markdown object>"
      ]
     },
     "metadata": {},
     "output_type": "display_data"
    },
    {
     "data": {
      "text/markdown": [
       "\n",
       "|||\n",
       "|---:|:---|\n",
       "| [![arXiv](https://img.shields.io/badge/arXiv-arXiv:2301.12590-b31b1b.svg)](https://arxiv.org/abs/arXiv:2301.12590) | **Low-frequency gravitational wave memory from gamma-ray burst afterglows  with energy injection**  |\n",
       "|| Bao-Quan Huang, <mark>Tong Liu</mark>, <mark>Li Xue</mark>, Yan-Qing Qi |\n",
       "|*Appeared on*| *2023-01-31*|\n",
       "|*Comments*| *9 pages, 4 figures, accepted for publication in ApJ*|\n",
       "|**Abstract**| Ultrarelativistic gamma-ray burst (GRB) jets are strong gravitational wave (GW) sources with memory-type signals. The plateau (or shallow decay) phases driven by the energy injection might appear in the early X-ray afterglows of GRBs. In this paper, we investigate the GW signal as well as X-ray afterglow emission in the framework of GRB jets with energy injection, and both short- and long-duration GRBs are considered. We find that, regardless of the case, because of the antibeaming and time delay effects, a rising slope emerging in the waveform of GW signal due to the energy injection lags far behind the energy ejection, and the typical frequency of the characteristic amplitudes falls within a low-frequency region of $\\sim10^{-4}-10^{-6} \\,{\\rm Hz}$; and we consider that the GW memory triggered by GRB jets with energy injection are previously unaware and the nearby GRBs with strong energy injection might disturb the measurement of the stochastic GW background. Such GW memory detection would provide a direct test for models of energy injection in the scenario of GRB jets. |\n",
       "|<p style=\"color:green\"> **ERROR** </p>| <p style=\"color:green\">affiliation error: mpia.affiliation_verifications: 'Heidelberg' keyword not found.</p> |"
      ],
      "text/plain": [
       "<IPython.core.display.Markdown object>"
      ]
     },
     "metadata": {},
     "output_type": "display_data"
    },
    {
     "data": {
      "text/markdown": [
       "\n",
       "|||\n",
       "|---:|:---|\n",
       "| [![arXiv](https://img.shields.io/badge/arXiv-arXiv:2301.12648-b31b1b.svg)](https://arxiv.org/abs/arXiv:2301.12648) | **Cosmic growth rate measurements from Tully-Fisher peculiar velocities**  |\n",
       "|| Paula Boubel, Matthew Colless, Khaled Said, <mark>Lister Staveley-Smith</mark> |\n",
       "|*Appeared on*| *2023-01-31*|\n",
       "|*Comments*| *Submitted to MNRAS*|\n",
       "|**Abstract**| Peculiar velocities are an important probe of the growth rate of structure in the Universe, directly measuring the effects of gravity on the largest scales and thereby providing a test for theories of gravity. Complete peculiar velocity datasets comprise both galaxy redshifts and redshift-independent distance measures, estimated by methods such as the Tully-Fisher relation. Traditionally, the Tully-Fisher relation is first calibrated using distance indicators such as Cepheid variables in a small sample of galaxies; the calibrated relation is then used to determine peculiar velocities. In this analysis, we employ a one-step Bayesian method to simultaneously determine the parameters of the Tully-Fisher relation and the peculiar velocity field. We have also generalised the Tully-Fisher relation by allowing for a curvature at the bright end. We design a mock survey to emulate the Cosmicflows-4 (CF4) peculiar velocity dataset. We then apply our method to the CF4 data to obtain new constraints for the growth rate of structure parameter ($\\beta=0.40\\pm0.07$), the residual bulk flow ($\\mathbf{V}_{\\textrm{ext}} =$[69$\\pm$15,$-$158$\\pm$9,14$\\pm$7]\\,km$~s^{-1}$ in Supergalactic coordinates), and the parameters for a Tully-Fisher relation with curvature. We obtain an estimate for the product of the growth rate and mass fluctuation amplitude $f\\sigma_{8}=0.40\\pm0.07$. We combine this measurement of $f\\sigma_{8}$ with those of other galaxy redshift surveys to fit the growth index $\\gamma$. Assuming cosmological parameters from the latest Planck CMB results, we find that $\\gamma>6/11$ is favoured. We plan to use this improved method for recovering peculiar velocities on the large new samples of Tully-Fisher data from surveys such as WALLABY, resulting in more precise growth rate measurements at low redshifts. |\n",
       "|<p style=\"color:green\"> **ERROR** </p>| <p style=\"color:green\">affiliation error: mpia.affiliation_verifications: 'Heidelberg' keyword not found.</p> |"
      ],
      "text/plain": [
       "<IPython.core.display.Markdown object>"
      ]
     },
     "metadata": {},
     "output_type": "display_data"
    },
    {
     "data": {
      "text/markdown": [
       "\n",
       "|||\n",
       "|---:|:---|\n",
       "| [![arXiv](https://img.shields.io/badge/arXiv-arXiv:2301.12670-b31b1b.svg)](https://arxiv.org/abs/arXiv:2301.12670) | **A deep-learning search for technosignatures of 820 nearby stars**  |\n",
       "|| Peter Xiangyuan Ma, et al. -- incl., <mark>David MacMahon</mark> |\n",
       "|*Appeared on*| *2023-01-31*|\n",
       "|*Comments*| *10 pages of main paper followed by 16 pages of methods; 17 figures total and 7 tables; published in Nature Astronomy*|\n",
       "|**Abstract**| The goal of the Search for Extraterrestrial Intelligence (SETI) is to quantify the prevalence of technological life beyond Earth via their \"technosignatures\". One theorized technosignature is narrowband Doppler drifting radio signals. The principal challenge in conducting SETI in the radio domain is developing a generalized technique to reject human radio frequency interference (RFI). Here, we present the most comprehensive deep-learning based technosignature search to date, returning 8 promising ETI signals of interest for re-observation as part of the Breakthrough Listen initiative. The search comprises 820 unique targets observed with the Robert C. Byrd Green Bank Telescope, totaling over 480, hr of on-sky data. We implement a novel beta-Convolutional Variational Autoencoder to identify technosignature candidates in a semi-unsupervised manner while keeping the false positive rate manageably low. This new approach presents itself as a leading solution in accelerating SETI and other transient research into the age of data-driven astronomy. |\n",
       "|<p style=\"color:green\"> **ERROR** </p>| <p style=\"color:green\">affiliation error: mpia.affiliation_verifications: 'Heidelberg' keyword not found.</p> |"
      ],
      "text/plain": [
       "<IPython.core.display.Markdown object>"
      ]
     },
     "metadata": {},
     "output_type": "display_data"
    },
    {
     "data": {
      "text/markdown": [
       "\n",
       "|||\n",
       "|---:|:---|\n",
       "| [![arXiv](https://img.shields.io/badge/arXiv-arXiv:2301.12697-b31b1b.svg)](https://arxiv.org/abs/arXiv:2301.12697) | **Likely detection of gamma-ray pulsations of PSR~J1717+4308A in NGC~6341  and implication of the gamma-ray millisecond pulsars in globular clusters**  |\n",
       "|| <mark>P. Zhang</mark>, et al. |\n",
       "|*Appeared on*| *2023-01-31*|\n",
       "|*Comments*| *13 pages, 10 figures, 5 tables, to appear in ApJ*|\n",
       "|**Abstract**| We report our analysis results for the globular cluster (GC) NGC~6341 (M92), as a millisecond pulsar (MSP) J1717$+$4308A has recently been reported found in this GC. The data used are from the Large Area Telescope onboard the {\\it Fermi Gamma-ray Space Telescope (Fermi)}. We detect $\\gamma$-ray pulsations of the MSP at a $4.4\\sigma$ confidence level (the corresponding weighted H-test value is $\\sim$28.4). This MSP, the fourth $\\gamma$-ray pulsar found in a GC, does not have significant off-pulse emission and has $\\gamma$-ray luminosity and efficiency $1.3\\times10^{34}$\\,erg\\,s$^{-1}$ and 1.7\\% respectively. In order to have a clear view on the properties of the known GC $\\gamma$-ray MSPs, we re-analyze the \\fermi\\ LAT data for the other three ones. These four MSPs share the properties of either having high $\\dot{E}$ ($\\sim 10^{36}$\\,erg\\,s$^{-1}$) or being in the GCs that contain only limited numbers of known MSPs. In addition, we find that PSRs~J1823$-$3021A and B1821$-$24, in NGC~6624 and NGC~6626 respectively, have detectable off-pulse $\\gamma$-ray emission and PSR J1835$-$3259B in NGC~6652 does not. Using the obtained off-pulse spectra or spectral upper limits, we constrain the numbers of other MSPs in the four GCs. The results are consistent with the numbers of the radio pulsars reported in them. While at least in NGC~6624 and NGC~6626, the contribution of other MSPs to their observed $\\gamma$-ray emission can not be ignored, our study indicates that the presence of a bright MSP could be the dominant factor for whether a GC is detectable at $\\gamma$-rays or not. |\n",
       "|<p style=\"color:green\"> **ERROR** </p>| <p style=\"color:green\">affiliation error: mpia.affiliation_verifications: 'Heidelberg' keyword not found.</p> |"
      ],
      "text/plain": [
       "<IPython.core.display.Markdown object>"
      ]
     },
     "metadata": {},
     "output_type": "display_data"
    },
    {
     "data": {
      "text/markdown": [
       "\n",
       "|||\n",
       "|---:|:---|\n",
       "| [![arXiv](https://img.shields.io/badge/arXiv-arXiv:2301.12724-b31b1b.svg)](https://arxiv.org/abs/arXiv:2301.12724) | **The LOFAR LBA Sky Survey II. First data release**  |\n",
       "|| F. de Gasperin, et al. -- incl., <mark>D. J. Schwarz</mark> |\n",
       "|*Appeared on*| *2023-01-31*|\n",
       "|*Comments*| *20 pages, 22 figures, images and catalogues available at this https URL*|\n",
       "|**Abstract**| The Low Frequency Array (LOFAR) is the only existing radio interferometer able to observe at ultra-low frequencies (<100 MHz) with high resolution (<15\") and high sensitivity (<1 mJy/beam). To exploit these capabilities, the LOFAR Surveys Key Science Project is using the LOFAR Low Band Antenna (LBA) to carry out a sensitive wide-area survey at 41-66 MHz named the LOFAR LBA Sky Survey (LoLSS). LoLSS is covering the whole northern sky above declination 24 deg with a resolution of 15\" and a sensitivity of 1-2 mJy/beam (1 sigma) depending on declination, field properties, and observing conditions. Here we present the first data release. An automated pipeline was used to reduce the 95 fields included in this data release. The data reduction procedures developed for this project have general application and are currently being used to process LOFAR LBA interferometric observations. Compared to the preliminary release, direction-dependent errors have been corrected for during the calibration process. This results in a typical sensitivity of 1.55 mJy/beam at the target resolution of 15\". The first data release of the LOFAR LBA Sky Survey covers 650 sqdeg in the HETDEX spring field. The resultant data products released to the community include mosaic images (I and V Stokes) of the region, and a catalogue of 42463 detected sources and related Gaussian components used to describe sources' morphologies. Separate catalogues for 6 in-band frequencies are also released. The first data release of LoLSS shows that, despite the influences of the ionosphere, LOFAR can conduct large-scale surveys in the frequency window 42-66 MHz with unprecedentedly high sensitivity and resolution. The data can be used to derive unique information on the low-frequency spectral properties of many thousands of sources with a wide range of applications in extragalactic and galactic astronomy. |\n",
       "|<p style=\"color:green\"> **ERROR** </p>| <p style=\"color:green\">affiliation error: mpia.affiliation_verifications: 'Heidelberg' keyword not found.</p> |"
      ],
      "text/plain": [
       "<IPython.core.display.Markdown object>"
      ]
     },
     "metadata": {},
     "output_type": "display_data"
    },
    {
     "data": {
      "text/markdown": [
       "\n",
       "|||\n",
       "|---:|:---|\n",
       "| [![arXiv](https://img.shields.io/badge/arXiv-arXiv:2301.12770-b31b1b.svg)](https://arxiv.org/abs/arXiv:2301.12770) | **Day-timescale variability in the radio light curve of the Tidal  Disruption Event AT2022cmc: confirmation of a highly relativistic outflow**  |\n",
       "|| L. Rhodes, et al. -- incl., <mark>D. A. Green</mark> |\n",
       "|*Appeared on*| *2023-01-31*|\n",
       "|*Comments*| *7 pages, 4 figures. Accepted for publication in MNRAS*|\n",
       "|**Abstract**| Tidal disruption events (TDEs) are transient, multi-wavelength events in which a star is ripped apart by a supermassive black hole. Observations show that in a small fraction of TDEs, a short-lived, synchrotron emitting jet is produced. We observed the newly discovered TDE AT2022cmc with a slew of radio facilities over the first 100 days after its discovery. The light curve from the AMI-LA radio interferometer shows day-timescale variability which we attribute to a high brightness temperature emitting region as opposed to scintillation. We measure a brightness temperature of 2x10^15 K, which is unphysical for synchrotron radiation. We suggest that the measured high brightness temperature is a result of relativistic beaming caused by a jet being launched at velocities close to the speed of light along our line of sight. We infer from day-timescale variability that the jet associated with AT2022cmc has a relativistic Doppler factor of at least 16, which corresponds to a bulk Lorentz factor of at least 8 if we are observing the jet directly on axis. Such an inference is the first conclusive evidence that the radio emission observed from some TDEs is from relativistic jets because it does not rely on an outflow model. We also compare the first 100 days of radio evolution of AT2022cmc with that of the previous bright relativistic TDE, Swift J1644, and find a remarkable similarity in their evolution. |\n",
       "|<p style=\"color:green\"> **ERROR** </p>| <p style=\"color:green\">affiliation error: mpia.affiliation_verifications: 'Heidelberg' keyword not found.</p> |"
      ],
      "text/plain": [
       "<IPython.core.display.Markdown object>"
      ]
     },
     "metadata": {},
     "output_type": "display_data"
    },
    {
     "data": {
      "text/markdown": [
       "\n",
       "|||\n",
       "|---:|:---|\n",
       "| [![arXiv](https://img.shields.io/badge/arXiv-arXiv:2301.12789-b31b1b.svg)](https://arxiv.org/abs/arXiv:2301.12789) | **A nearby isolated dwarf: star formation and structure of ESO 006-001**  |\n",
       "|| <mark>Lidia N. Makarova</mark>, et al. |\n",
       "|*Appeared on*| *2023-01-31*|\n",
       "|*Comments*| *13 pages, 9 figures, accepted at ApJ*|\n",
       "|**Abstract**| Observations with the Hubble Space Telescope unexpectedly revealed that the dwarf galaxy ESO 006-001 is a near neighbor to the Local Group at a distance of 2.70 +- 0.11 Mpc. The stellar population in the galaxy is well resolved into individual stars to a limit of M I ~ -0.5 mag. The dominant population is older than 12 Gyr yet displays a significant range in metallicity of -2 < [Fe/H] < -1, as evidenced by a Red Giant Branch with substantial width. Superimposed on the dominant population are stars on the Main Sequence with ages less than 100 Myr and Helium burning Blue Loop stars with ages of several hundred Myr. ESO 006-001 is an example of a transition dwarf; a galaxy dominated by old stars but one that has experienced limited recent star formation in a swath near the center. No H i gas is detected at the location of the optical galaxy in spite of the evidence for young stars. Intriguingly, an H i cloud with a similar redshift is detected 9 kpc away in projection. Otherwise, ESO 006-001 is a galaxy in isolation with its nearest known neighbor IC 3104, itself a dwarf, at a distance of ~ 500 kpc. |\n",
       "|<p style=\"color:green\"> **ERROR** </p>| <p style=\"color:green\">affiliation error: mpia.affiliation_verifications: 'Heidelberg' keyword not found.</p> |"
      ],
      "text/plain": [
       "<IPython.core.display.Markdown object>"
      ]
     },
     "metadata": {},
     "output_type": "display_data"
    },
    {
     "data": {
      "text/markdown": [
       "\n",
       "|||\n",
       "|---:|:---|\n",
       "| [![arXiv](https://img.shields.io/badge/arXiv-arXiv:2301.12792-b31b1b.svg)](https://arxiv.org/abs/arXiv:2301.12792) | **Tomography of a solar plage with the Tenerife Inversion Code**  |\n",
       "|| <mark>Hao Li</mark>, et al. |\n",
       "|*Appeared on*| *2023-01-31*|\n",
       "|*Comments*| *Accepted for publication in The Astrophysical Journal*|\n",
       "|**Abstract**| We apply the Tenerife Inversion Code (TIC) to the plage spectropolarimetric observations obtained by the Chromospheric LAyer SpectroPolarimeter (CLASP2). These unprecedented data consist of full Stokes profiles in the spectral region around the Mg II h and k lines for a single slit position, with around two thirds of the 200 arcsec slit crossing a plage region and the rest crossing an enhanced network. A former analysis of these data had allowed us to infer the longitudinal component of the magnetic field by applying the weak field approximation (WFA) to the circular polarization profiles, and to assign the inferred magnetic fields to different layers of the solar atmosphere based on the results of previous theoretical radiative transfer investigations. In this work, we apply the recently developed TIC to the same data. We obtain the stratified model atmosphere that fits the intensity and circular polarization profiles at each position along the spectrograph slit and we compare our results for the longitudinal component of the magnetic field with the previously obtained WFA results, highlighting the generally good agreement in spite of the fact that the WFA is known to produce an underestimation when applied to the outer lobes of the Mg II h and k circular polarization profiles. Finally, we use the inverted model atmospheres to give a rough estimation of the energy that could be carried by Alfv\\`en waves propagating along the chromosphere in the plage and network regions, showing that it is sufficient to compensate the estimated energy losses in the chromosphere of solar active regions. |\n",
       "|<p style=\"color:green\"> **ERROR** </p>| <p style=\"color:green\">affiliation error: mpia.affiliation_verifications: 'Heidelberg' keyword not found.</p> |"
      ],
      "text/plain": [
       "<IPython.core.display.Markdown object>"
      ]
     },
     "metadata": {},
     "output_type": "display_data"
    },
    {
     "data": {
      "text/markdown": [
       "\n",
       "|||\n",
       "|---:|:---|\n",
       "| [![arXiv](https://img.shields.io/badge/arXiv-arXiv:2301.12825-b31b1b.svg)](https://arxiv.org/abs/arXiv:2301.12825) | **JWST Census for the Mass-Metallicity Star-Formation Relations at z=4-10  with Self-Consistent Flux Calibration and the Proper Metallicity Calibrators**  |\n",
       "|| Kimihiko Nakajima, et al. -- incl., <mark>Yechi Zhang</mark> |\n",
       "|*Appeared on*| *2023-01-31*|\n",
       "|*Comments*| *30 pages, 13 figures. Submitted to ApJ Supplement*|\n",
       "|**Abstract**| We present the evolution of the mass-metallicity (MZ) relations at z=4-10 derived with 111 galaxies identified in the JWST/NIRSpec data taken from the three major public spectroscopy programs of ERO, GLASS, and CEERS. Because there are many discrepancies between flux measurements reported by early ERO studies, we first establish our NIRSpec data reduction procedure for reliable emission-line flux measurements and errors successfully explaining Balmer decrements with no statistical tensions via thorough comparisons of the early ERO studies. Applying the reduction procedure to the 111 galaxies, we obtain emission-line fluxes for physical property measurements. We confirm that 9 out of the 111 galaxies with [OIII]4363-lines have electron temperatures of (1.1-2.2)*10^4 K, similar to lower-z star-forming galaxies, that can be explained by heating of young massive stars. We derive metallicities of the 9 galaxies by the direct method and the rest of the galaxies with strong lines by the metallicity calibrations of Nakajima et al. (2022) applicable for these low-mass metal-poor galaxies, anchoring the metallicities with the direct-method measurements. We thus obtain MZ relations and star-formation rate (SFR)-MZ relations over z=4-10. We find that there is a small evolution of the MZ relation from z~2-3 to z=4-10, while interestingly that the SFR-MZ relation shows no evolution up to z~8 but a significant decrease at z>8 beyond the error. This SFR-MZ relation decrease at z>8 may suggest a break of the metallicity equilibrium state via star-formation, inflow, and outflow, while further statistical studies are needed for a conclusion. |\n",
       "|<p style=\"color:green\"> **ERROR** </p>| <p style=\"color:green\">affiliation error: mpia.affiliation_verifications: 'Heidelberg' keyword not found.</p> |"
      ],
      "text/plain": [
       "<IPython.core.display.Markdown object>"
      ]
     },
     "metadata": {},
     "output_type": "display_data"
    },
    {
     "data": {
      "text/markdown": [
       "\n",
       "|||\n",
       "|---:|:---|\n",
       "| [![arXiv](https://img.shields.io/badge/arXiv-arXiv:2301.12918-b31b1b.svg)](https://arxiv.org/abs/arXiv:2301.12918) | **[OIII] 5007A Emission Line Width as a Surrogate for stellar dispersion  in Type 1 AGNs?**  |\n",
       "|| Huynh Anh N. Le, Yongquan Xue, <mark>Xiaozhi Lin</mark>, Yijun Wang |\n",
       "|*Appeared on*| *2023-01-31*|\n",
       "|*Comments*| *17 pages, Accepted for publication in ApJ*|\n",
       "|**Abstract**| We present a study of the relation between the [OIII] 5007A emission line width (sigma_{[OIII]}) and stellar velocity dispersion (sigma_{*}), utilizing a sample of 740 type 1 active galactic nuclei (AGNs) with high-quality spectra at redshift z < 1.0. We find the broad correlation between the core component of [OIII] emission line width (sigma_{[OIII,core]}) and sigma_{*} with a scatter of 0.11~dex for the low redshift (z < 0.1) sample; for redshift (0.3 < z < 1.0) AGNs, the scatter is larger, being 0.16~dex. We also find that the Eddington ratio (L_{bol}/L_{Edd}) may play an important role in the discrepancies between sigma_{[OIII,core]} and sigma_{*}. As the L_{bol}/L_{Edd} increases, sigma_{[OIII,core]} tends to be larger than sigma_{*}. By classifying our local sample with different minor-to-major axis ratios, we find that sigma_{*} is larger than sigma_{[OIII,core]} for those edge-on spiral galaxies. In addition, we also find that the effects of outflow strength properties such as maximum outflow velocity (V_{max}) and the broader component of [OIII] emission line width and line shift (sigma_{[OIII,out]} and V_{[OIII,out]}) may play a major role in the discrepancies between sigma_{[OIII,core]} and sigma_{*}. The discrepancies between sigma_{[OIII,core]} and sigma_{*} are larger when V_{max}, V_{[OIII,out]}, and sigma_{[OIII,out]} increase. Our results show that the outflow strengths may have significant effects on the differences between narrow-line region gas and stellar kinematics in AGNs. We suggest that caution should be taken when using sigma_{[OIII,core]} as a surrogate for sigma_{*}. In addition, the substitute of sigma_{[OIII,core]} for sigma_{*} could be used only for low luminosity AGNs. |\n",
       "|<p style=\"color:green\"> **ERROR** </p>| <p style=\"color:green\">affiliation error: mpia.affiliation_verifications: 'Heidelberg' keyword not found.</p> |"
      ],
      "text/plain": [
       "<IPython.core.display.Markdown object>"
      ]
     },
     "metadata": {},
     "output_type": "display_data"
    },
    {
     "data": {
      "text/markdown": [
       "\n",
       "|||\n",
       "|---:|:---|\n",
       "| [![arXiv](https://img.shields.io/badge/arXiv-arXiv:2301.12919-b31b1b.svg)](https://arxiv.org/abs/arXiv:2301.12919) | **A strong X-ray polarization signal from the magnetar 1RXS  J170849.0-400910**  |\n",
       "|| Silvia Zane, et al. -- incl., <mark>Jeremy Heyl</mark>, <mark>Herman L. Marshall</mark>, <mark>George G. Pavlov</mark>, <mark>Henric Krawczynski</mark> |\n",
       "|*Appeared on*| *2023-01-31*|\n",
       "|*Comments*| *14 pages, 5 Figures, accepted for publication on ApJL*|\n",
       "|**Abstract**| Magnetars are the most strongly magnetized neutron stars, and one of the most promising targets for X-ray polarimetric measurements. We present here the first Imaging X-ray Polarimetry Explorer (IXPE) observation of the magnetar 1RXS J170849.0-400910, jointly analysed with a new Swift observation and archival NICER data. The total (energy and phase integrated) emission in the 2-8 keV energy range is linerarly polarized, at a ~35% level. The phase-averaged polarization signal shows a marked increase with energy, ranging from ~20% at 2-3 keV up to ~80% at 6-8 keV, while the polarization angle remain constant. This indicates that radiation is mostly polarized in a single direction. The spectrum is well reproduced by a combination of either two thermal (blackbody) components or a blackbody and a power law. Both the polarization degree and angle also show a variation with the spin phase, and the former is almost anti-correlated with the source counts in the 2-8 keV and 2-4 keV bands. We discuss the possible implications and interpretations, based on a joint analysis of the spectral, polarization and pulsation properties of the source. A scenario in which the surface temperature is not homogeneous, with a hotter cap covered by a gaseous atmosphere and a warmer region in a condensed state, provides a satisfactory description of both the phase- and energy-dependent spectro-polarimetric data. The (comparatively) small size of the two emitting regions, required to explain the observed pulsations, does not allow to reach a robust conclusion about the presence of vacuum birefringence effects. |\n",
       "|<p style=\"color:green\"> **ERROR** </p>| <p style=\"color:green\">affiliation error: mpia.affiliation_verifications: 'Heidelberg' keyword not found.</p> |"
      ],
      "text/plain": [
       "<IPython.core.display.Markdown object>"
      ]
     },
     "metadata": {},
     "output_type": "display_data"
    },
    {
     "data": {
      "text/markdown": [
       "\n",
       "|||\n",
       "|---:|:---|\n",
       "| [![arXiv](https://img.shields.io/badge/arXiv-arXiv:2301.12976-b31b1b.svg)](https://arxiv.org/abs/arXiv:2301.12976) | **Resolved CO(1-0) emission and gas properties in luminous dusty star  forming galaxies at z=2-4**  |\n",
       "|| F. Stanley, et al. -- incl., <mark>D. H. Hughes</mark> |\n",
       "|*Appeared on*| *2023-01-31*|\n",
       "|*Comments*| *25pages , 13 figures, Accepted for publication at ApJ*|\n",
       "|**Abstract**| We present the results of a survey of CO(1-0) emission in 14 infrared luminous dusty star forming galaxies (DSFGs) at 2 < z < 4 with the NSF's Karl G. Jansky Very Large Array. All sources are detected in CO(1-0), with an ~1arcsec angular resolution. Seven sources show extended and complex structure. We measure CO luminosities of $({\\mu})L'_{CO(1-0)}=0.4-2.9x10^{11}$ K km s$^{-1}$ pc$^2$, and molecular gas masses of (${\\mu}$)M$_{H2}$ = 1.3 - 8.6 x 10$^{11}$ Mo, where ({\\mu}) is the magnification factor. The derived molecular gas depletion times of t$_{\\rm dep}$ = 40 - 460 Myr, cover the expected range of both normal star forming galaxies and starbursts. Comparing to the higher-J CO transitions previously observed for the same sources, we find CO temperature brightness ratios of r$_{32/10}$ = 0.4 - 1.4, r$_{43/10}$ = 0.4 - 1.7, and r$_{54/10}$ = 0.3 - 1.3. We find a wide range of CO spectral line energy distributions (SLEDs), in agreement with other high-z DSFGs, with the exception of three sources that are most comparable to the Cloverleaf and APM08279+5255. Based on radiative transfer modelling of the CO SLEDs we determine densities of n$_{H2}$ = 0.3 - 8.5 x 10$^3$ cm$^{-3}$ and temperatures of T$_K$ = 100 - 200 K. Lastly, four sources are detected in the continuum, three have radio emission consistent with their infrared derived star formation rates, while HerBS-70E requires an additional synchrotron radiation component from an active galactic nucleus. Overall, we find that even though the sample is similarly luminous in the infrared, by tracing the CO(1-0) emission a diversity of galaxy and excitation properties are revealed, demonstrating the importance of CO(1-0) observations in combination to higher-J transitions. |\n",
       "|<p style=\"color:green\"> **ERROR** </p>| <p style=\"color:green\">affiliation error: mpia.affiliation_verifications: 'Heidelberg' keyword not found.</p> |"
      ],
      "text/plain": [
       "<IPython.core.display.Markdown object>"
      ]
     },
     "metadata": {},
     "output_type": "display_data"
    },
    {
     "data": {
      "text/markdown": [
       "\n",
       "|||\n",
       "|---:|:---|\n",
       "| [![arXiv](https://img.shields.io/badge/arXiv-arXiv:2301.12872-b31b1b.svg)](https://arxiv.org/abs/arXiv:2301.12872) | **A Machine Learning approach for correcting radial velocities using  physical observables**  |\n",
       "|| M. Perger, et al. -- incl., <mark>E. Herrero</mark> |\n",
       "|*Appeared on*| *2023-01-31*|\n",
       "|*Comments*| **|\n",
       "|**Abstract**| Precision radial velocity (RV) measurements continue to be a key tool to detect and characterise extrasolar planets. While instrumental precision keeps improving, stellar activity remains a barrier to obtain reliable measurements below 1-2 m/s accuracy. Using simulations and real data, we investigate the capabilities of a Deep Neural Network approach to produce activity free Doppler measurements of stars. As case studies we use observations of two known stars (Eps Eridani and AUMicroscopii), both with clear signals of activity induced RV variability. Synthetic data using the starsim code are generated for the observables (inputs) and the resulting RV signal (labels), and used to train a Deep Neural Network algorithm. We identify an architecture consisting of convolutional and fully connected layers that is adequate to the task. The indices investigated are mean line-profile parameters (width, bisector, contrast) and multi-band photometry. We demonstrate that the RV-independent approach can drastically reduce spurious Doppler variability from known physical effects such as spots, rotation and convective blueshift. We identify the combinations of activity indices with most predictive power. When applied to real observations, we observe a good match of the correction with the observed variability, but we also find that the noise reduction is not as good as in the simulations, probably due to the lack of detail in the simulated physics. We demonstrate that a model-driven machine learning approach is sufficient to clean Doppler signals from activity induced variability for well known physical effects. There are dozens of known activity related observables whose inversion power remains unexplored indicating that the use of additional indicators, more complete models, and more observations with optimised sampling strategies can lead to significant improvements in our detrending capabilities. |\n",
       "|<p style=\"color:red\"> **ERROR** </p>| <p style=\"color:red\">latex error Could not find figure pic/aumic_QPC_b.png</p> |"
      ],
      "text/plain": [
       "<IPython.core.display.Markdown object>"
      ]
     },
     "metadata": {},
     "output_type": "display_data"
    },
    {
     "data": {
      "text/markdown": [
       "\n",
       "|||\n",
       "|---:|:---|\n",
       "| [![arXiv](https://img.shields.io/badge/arXiv-arXiv:2301.11960-b31b1b.svg)](https://arxiv.org/abs/arXiv:2301.11960) | **A Global Inventory of Feedback**  |\n",
       "|| <mark>Timothy M. Heckman</mark>, Philip N. Best |\n",
       "|*Appeared on*| *2023-01-31*|\n",
       "|*Comments*| **|\n",
       "|**Abstract**| Feedback from both supermassive black holes and massive stars plays a fundamental role in the evolution of galaxies and the inter-galactic medium. In this paper we use available data to estimate the total amount of kinetic energy and momentum created per co-moving volume element over the history of the universe from three sources: massive stars and supernovae, radiation pressure and winds driven by supermassive black holes, and radio jets driven by supermassive black holes. Kinetic energy and momentum injection from jets peaks at z ~ 1, while the other two sources peak at z ~ 2. Massive stars are the dominant global source of momentum injection. For supermassive black holes, we find that the amount of kinetic energy from jets is about an order-of-magnitude larger than that from winds. We also find that amount of kinetic energy created by massive stars is about 2.5 epsilon times that carried by jets (where epsilon is the fraction of injected energy not lost to radiative cooling). We discuss the implications of these results for the evolution of galaxies and the IGM. Because the ratio of black hole mass to galaxy mass is a steeply increasing function of mass, we show that the relative importance of black hole feedback to stellar feedback likewise increases with mass. We show that there is a trend in the present-day universe which, in the simplest picture, is consistent with galaxies that have been dominated by black hole feedback being generally quenched, while galaxies that have been dominated by stellar feedback are star-forming. We also note that the amount of kinetic energy carried by jets and winds appears sufficient to explain the properties of hot gas in massive halos (> 10^13 solar masses). |\n",
       "|<p style=\"color:red\"> **ERROR** </p>| <p style=\"color:red\">latex error not a gzip file</p> |"
      ],
      "text/plain": [
       "<IPython.core.display.Markdown object>"
      ]
     },
     "metadata": {},
     "output_type": "display_data"
    },
    {
     "data": {
      "text/markdown": [
       "\n",
       "|||\n",
       "|---:|:---|\n",
       "| [![arXiv](https://img.shields.io/badge/arXiv-arXiv:2301.12387-b31b1b.svg)](https://arxiv.org/abs/arXiv:2301.12387) | **Camera update for GONG refurbishment: Development and validation**  |\n",
       "|| <mark>Anna L.H. Hughes</mark>, et al. |\n",
       "|*Appeared on*| *2023-01-31*|\n",
       "|*Comments*| *8 pages*|\n",
       "|**Abstract**| This report provides a brief summary of the properties of new cameras selected for NSF's Global Oscillations Network Group (GONG) facilities operated by the NSO Integrated Synoptic Program (NISP). These camera replacements are part of a GONG refurbishment project aimed to extend GONG operations through roughly FY 2030. Testing has confirmed the suitability of the new cameras and that current data products would be largely unchanged. GONG magnetograms show approximately one-to-one scaling with old data, and the helioseismology data (l-nu diagrams) are nearly identical without any identifiable artifacts. A number of tests were also conducted for GONG processing pipelines and have demonstrated that the modified NISP data center pipelines can transition smoothly to processing observations taken with the new cameras |\n",
       "|<p style=\"color:red\"> **ERROR** </p>| <p style=\"color:red\">latex error not a gzip file</p> |"
      ],
      "text/plain": [
       "<IPython.core.display.Markdown object>"
      ]
     },
     "metadata": {},
     "output_type": "display_data"
    }
   ],
   "source": [
    "import datetime\n",
    "today = str(datetime.date.today())\n",
    "logfile = f\"_build/html/logs/log-{today}.md\"\n",
    "\n",
    "\n",
    "with open(logfile, 'w') as logs:\n",
    "    # Success\n",
    "    logs.write(f'# Arxiv on Deck 2: Logs - {today}\\n\\n')\n",
    "    logs.write(\"\"\"* Arxiv had {0:,d} new papers\\n\"\"\".format(len(new_papers)))\n",
    "    logs.write(\"\"\"    * {0:,d} with possible author matches\\n\\n\"\"\".format(len(candidates)))\n",
    "    logs.write(\"## Sucessful papers\\n\\n\")\n",
    "    display(Markdown(\"## Successful papers\"))\n",
    "    success = [k[0] for k in documents]\n",
    "    for candid in candidates:\n",
    "        if candid['identifier'].split(':')[-1] in success:\n",
    "            display(candid)\n",
    "            logs.write(candid.generate_markdown_text() + '\\n\\n')\n",
    "\n",
    "    ## failed\n",
    "    logs.write(\"## Failed papers\\n\\n\")\n",
    "    display(Markdown(\"## Failed papers\"))\n",
    "    failed = sorted(failed, key=lambda x: x[1])\n",
    "    current_reason = \"\"\n",
    "    for paper, reason in failed:\n",
    "        if 'affiliation' in reason:\n",
    "            color = 'green'\n",
    "        else:\n",
    "            color = 'red'\n",
    "        data = Markdown(\n",
    "                paper.generate_markdown_text() + \n",
    "                f'\\n|<p style=\"color:{color:s}\"> **ERROR** </p>| <p style=\"color:{color:s}\">{reason:s}</p> |'\n",
    "               )\n",
    "        if reason != current_reason:\n",
    "            logs.write(f'### {reason:s} \\n\\n')\n",
    "            current_reason = reason\n",
    "        logs.write(data.data + '\\n\\n')\n",
    "        \n",
    "        # only display here the important errors (all in logs)\n",
    "        # if color in ('red',):\n",
    "        display(data)"
   ]
  },
  {
   "cell_type": "markdown",
   "id": "472d20ee",
   "metadata": {
    "papermill": {
     "duration": 0.013622,
     "end_time": "2023-01-31T04:14:26.409087",
     "exception": false,
     "start_time": "2023-01-31T04:14:26.395465",
     "status": "completed"
    },
    "tags": []
   },
   "source": [
    "## Export documents\n",
    "\n",
    "We now write the .md files and export relevant images"
   ]
  },
  {
   "cell_type": "code",
   "execution_count": 7,
   "id": "d426aed9",
   "metadata": {
    "execution": {
     "iopub.execute_input": "2023-01-31T04:14:26.470903Z",
     "iopub.status.busy": "2023-01-31T04:14:26.469861Z",
     "iopub.status.idle": "2023-01-31T04:14:26.480771Z",
     "shell.execute_reply": "2023-01-31T04:14:26.479739Z"
    },
    "papermill": {
     "duration": 0.05972,
     "end_time": "2023-01-31T04:14:26.482612",
     "exception": false,
     "start_time": "2023-01-31T04:14:26.422892",
     "status": "completed"
    },
    "tags": []
   },
   "outputs": [],
   "source": [
    "def export_markdown_summary(md: str, md_fname:str, directory: str):\n",
    "    \"\"\"Export MD document and associated relevant images\"\"\"\n",
    "    import os\n",
    "    import shutil\n",
    "    import re\n",
    "\n",
    "    if (os.path.exists(directory) and not os.path.isdir(directory)):\n",
    "        raise RuntimeError(f\"a non-directory file exists with name {directory:s}\")\n",
    "\n",
    "    if (not os.path.exists(directory)):\n",
    "        print(f\"creating directory {directory:s}\")\n",
    "        os.mkdir(directory)\n",
    "\n",
    "    fig_fnames = (re.compile(r'\\[Fig.*\\]\\((.*)\\)').findall(md) + \n",
    "                  re.compile(r'\\<img src=\"([^>\\s]*)\"[^>]*/>').findall(md))\n",
    "    for fname in fig_fnames:\n",
    "        if 'http' in fname:\n",
    "            # No need to copy online figures\n",
    "            continue\n",
    "        destdir = os.path.join(directory, os.path.dirname(fname))\n",
    "        destfname = os.path.join(destdir, os.path.basename(fname))\n",
    "        try:\n",
    "            os.makedirs(destdir)\n",
    "        except FileExistsError:\n",
    "            pass\n",
    "        shutil.copy(fname, destfname)\n",
    "    with open(os.path.join(directory, md_fname), 'w') as fout:\n",
    "        fout.write(md)\n",
    "    print(\"exported in \", os.path.join(directory, md_fname))\n",
    "    [print(\"    + \" + os.path.join(directory,fk)) for fk in fig_fnames]"
   ]
  },
  {
   "cell_type": "code",
   "execution_count": 8,
   "id": "014d04a4",
   "metadata": {
    "execution": {
     "iopub.execute_input": "2023-01-31T04:14:26.512558Z",
     "iopub.status.busy": "2023-01-31T04:14:26.512302Z",
     "iopub.status.idle": "2023-01-31T04:14:26.533294Z",
     "shell.execute_reply": "2023-01-31T04:14:26.532296Z"
    },
    "papermill": {
     "duration": 0.038273,
     "end_time": "2023-01-31T04:14:26.535708",
     "exception": false,
     "start_time": "2023-01-31T04:14:26.497435",
     "status": "completed"
    },
    "tags": []
   },
   "outputs": [
    {
     "name": "stdout",
     "output_type": "stream",
     "text": [
      "exported in  _build/html/2301.11942.md\n",
      "    + _build/html/tmp_2301.11942/./SubhaloID_184937_fullhistory.png\n",
      "    + _build/html/tmp_2301.11942/./SubhaloID_184937_fullhistory.png\n",
      "    + _build/html/tmp_2301.11942/./SubhaloID_184937_fullhistory.png\n",
      "exported in  _build/html/2301.12890.md\n",
      "    + _build/html/tmp_2301.12890/./newplots/multifish2_proben2pcf_allprobes_allprobes_SLICS_f924_c128.png\n",
      "    + _build/html/tmp_2301.12890/./plots/XipDerivativevsTheory_base.png\n",
      "    + _build/html/tmp_2301.12890/./plots/XimDerivativevsTheory_base.png\n",
      "    + _build/html/tmp_2301.12890/./plots/XiFisher_small_finite_AllScales.png\n",
      "    + _build/html/tmp_2301.12890/./plots/XiFisher_small_finite_Valid.png\n",
      "    + _build/html/tmp_2301.12890/./plots/fig_dustgrain_derivatives_small.png\n",
      "    + _build/html/tmp_2301.12890/./plots/fisher_smallscale.png\n"
     ]
    }
   ],
   "source": [
    "for paper_id, md in documents:\n",
    "    export_markdown_summary(md, f\"{paper_id:s}.md\", '_build/html/')"
   ]
  },
  {
   "cell_type": "markdown",
   "id": "f087a0a7",
   "metadata": {
    "papermill": {
     "duration": 0.020556,
     "end_time": "2023-01-31T04:14:26.571642",
     "exception": false,
     "start_time": "2023-01-31T04:14:26.551086",
     "status": "completed"
    },
    "tags": []
   },
   "source": [
    "## Display the papers\n",
    "\n",
    "Not necessary but allows for a quick check."
   ]
  },
  {
   "cell_type": "code",
   "execution_count": 9,
   "id": "fd25f625",
   "metadata": {
    "execution": {
     "iopub.execute_input": "2023-01-31T04:14:26.620607Z",
     "iopub.status.busy": "2023-01-31T04:14:26.620272Z",
     "iopub.status.idle": "2023-01-31T04:14:26.631159Z",
     "shell.execute_reply": "2023-01-31T04:14:26.630116Z"
    },
    "papermill": {
     "duration": 0.040844,
     "end_time": "2023-01-31T04:14:26.633268",
     "exception": false,
     "start_time": "2023-01-31T04:14:26.592424",
     "status": "completed"
    },
    "scrolled": false,
    "tags": []
   },
   "outputs": [
    {
     "data": {
      "text/markdown": [
       "<div class=\"macros\" style=\"visibility:hidden;\">\n",
       "$\\newcommand{\\ensuremath}{}$\n",
       "$\\newcommand{\\xspace}{}$\n",
       "$\\newcommand{\\object}[1]{\\texttt{#1}}$\n",
       "$\\newcommand{\\farcs}{{.}''}$\n",
       "$\\newcommand{\\farcm}{{.}'}$\n",
       "$\\newcommand{\\arcsec}{''}$\n",
       "$\\newcommand{\\arcmin}{'}$\n",
       "$\\newcommand{\\ion}[2]{#1#2}$\n",
       "$\\newcommand{\\textsc}[1]{\\textrm{#1}}$\n",
       "$\\newcommand{\\hl}[1]{\\textrm{#1}}$\n",
       "$\\newcommand{\\thebibliography}{\\DeclareRobustCommand{\\VAN}[3]{##3}\\VANthebibliography}$\n",
       "$\\newcommand{\\thebibliography}{\\DeclareRobustCommand{\\VAN}[3]{##3}\\VANthebibliography}$\n",
       "$\\newcommand{\\thebibliography}{\\DeclareRobustCommand{\\VAN}[3]{##3}\\VANthebibliography}$</div>\n",
       "\n",
       "<div class=\"macros\" style=\"visibility:hidden;\">\n",
       "$\\newcommand{$\\ensuremath$}{}$\n",
       "$\\newcommand{$\\xspace$}{}$\n",
       "$\\newcommand{$\\object$}[1]{\\texttt{#1}}$\n",
       "$\\newcommand{$\\farcs$}{{.}''}$\n",
       "$\\newcommand{$\\farcm$}{{.}'}$\n",
       "$\\newcommand{$\\arcsec$}{''}$\n",
       "$\\newcommand{$\\arcmin$}{'}$\n",
       "$\\newcommand{$\\ion$}[2]{#1#2}$\n",
       "$\\newcommand{$\\textsc$}[1]{\\textrm{#1}}$\n",
       "$\\newcommand{$\\hl$}[1]{\\textrm{#1}}$\n",
       "$\\newcommand{$\\thebibliography$}{\\DeclareRobustCommand{\\VAN}[3]{##3}\\VANthebibliography}$\n",
       "$\\newcommand{$\\thebibliography$}{\\DeclareRobustCommand{\\VAN}[3]{##3}\\VANthebibliography}$\n",
       "$\\newcommand{$\\thebibliography$}{\\DeclareRobustCommand{\\VAN}[3]{##3}\\VANthebibliography}$</div>\n",
       "\n",
       "\n",
       "\n",
       "<div id=\"title\">\n",
       "\n",
       "# The Origin of Stars in the Inner 500 Parsecs in TNG50 Galaxies\n",
       "\n",
       "</div>\n",
       "<div id=\"comments\">\n",
       "\n",
       "[![arXiv](https://img.shields.io/badge/arXiv-2301.11942-b31b1b.svg)](https://arxiv.org/abs/2301.11942)<mark>Appeared on: 2023-01-31</mark> - _24 pages, 13 Figures, published in MNRAS_\n",
       "\n",
       "</div>\n",
       "<div id=\"authors\">\n",
       "\n",
       "Alina Boecker, et al. -- incl., <mark><mark>Nadine Neumayer</mark></mark>, <mark><mark>Annalisa Pillepich</mark></mark>, <mark><mark>Neige Frankel</mark></mark>, <mark><mark>Lars Hernquist</mark></mark>\n",
       "\n",
       "</div>\n",
       "<div id=\"abstract\">\n",
       "\n",
       "**Abstract:** \\noindentWe investigate the origin of stars in the innermost 500 pc of galaxies spanning stellar masses of$5\\times10^{8-12} \\mathrm{M}_{\\odot}$at$\\mathrm{z=0}$using the cosmological magnetohydrodynamical TNG50 simulation. Three different origins of stars comprise galactic centers: 1) in-situ (born in the center), 2) migrated (born elsewhere in the galaxy and ultimately moved to the center), 3) ex-situ (accreted from other galaxies). In-situ and migrated stars dominate the central stellar mass budget on average with 73\\%and 23\\%respectively. The ex-situ fraction rises above 1\\%for galaxies$\\gtrsim10^{11} \\mathrm{M}_{\\odot}$. Yet, only 9\\%of all galaxies exhibit no ex-situ stars in their centers and the scatter of ex-situ mass is significant ($4-6 \\mathrm{dex}$). Migrated stars predominantly originate closely from the center ($1-2 \\mathrm{kpc}$), but if they travelled together in clumps distances reach$\\sim10 \\mathrm{kpc}$. Central and satellite galaxies possess similar amounts and origins of central stars. Star forming galaxies ($\\gtrsim10^{10} \\mathrm{M}_{\\odot}$) have on average more ex-situ mass in their centers than quenched ones. We predict readily observable stellar population and dynamical properties: 1) migrated stars are distinctly young ($\\sim2 \\mathrm{Gyr}$) and rotationally supported, especially for Milky Way mass galaxies, 2) in-situ stars are most metal-rich and older than migrated stars, 3) ex-situ stars are on random motion dominated orbits and typically the oldest, most metal-poor and$\\alpha$-enhanced population. We demonstrate that the interaction history with other galaxies leads to diverse pathways of building up galaxy centers in a$\\Lambda$CDM universe. Our work highlights the necessity for cosmological context in formation scenarios of central galactic components and the potential to use galaxy centers as tracers of overall galaxy assembly.\n",
       "\n",
       "</div>\n",
       "\n",
       "<div id=\"div_fig1\">\n",
       "\n",
       "<img src=\"tmp_2301.11942/./SubhaloID_184937_fullhistory.png\" alt=\"Fig24\" width=\"100%\"/>\n",
       "\n",
       "**Figure 24. -** \\textbf{Central (500 pc) assembly history of an individual galaxy (\\texttt{SubfindID} 184937) in TNG50 with a total stellar mass of}$\\mathbf{10^{10.8} M_{\\odot}}.$\\textbf{This galaxy encompasses many mechanisms that can shape the stellar mass build-up in the center of galaxies in a}$\\mathbf{\\Lambda}$\\textbf{CDM cosmology.}\\textit{Top panel}: Points show all individual stellar particles that belong to that galaxy at $\\mathrm{z}=0$. Their distance at the time of birth is shown with respect to their current host in the case of in-situ formed stars (\\textit{light gray}: all in-situ particles, \\textit{\\textcolor{insitu}{pink}}: central in-situ stars only, \\textit{\\textcolor{migrated}{orange}}: central migrated stars only). In the case of the ex-situ formed stars the distance is shown with respect to their future host galaxy at the time of birth (\\textit{color-coded according to the colorbar}: all ex-situ stars, \\textit{\\textcolor{exsitu}{blue}}: central ex-situ stars only). The distance to individual satellite galaxies (only with maximum stellar masses above $10^{6} \\mathrm{M}_{\\odot}$) that will merge with the primary at some point are shown with thinner solid lines. Their coloring also follows the colorbar, which visualizes the merger mass ratio taken at the time $\\mathrm{t}_{\\mathrm{max}}$, when the secondary galaxy reaches maximum stellar mass. The thick black solid line shows the radius of the FoF Group the galaxy belongs to at a given lookback time (represented as $\\mathrm{R}_{200}$, where the group's density is 200 times the critical density of the Universe). The thick gray dashed line shows the distance between the individual galaxy and the central galaxy of the FoF group it belongs to. Approximately 7 Gyr ago the galaxy fell into another group and became a satellite galaxy. Before that it was the central of its own FoF group. The vertical black dotted line represents the time the kinetic AGN feedback starts to take effect, which quenches the center. This galaxy has 50\\% in-situ, 30\\% migrated (of which only 9\\% are 'smoothly' migrated and the rest comes from migrated clumps) and 20\\% ex-situ stars in its center. \\textit{Bottom panel}: Histograms of formation times of \\textcolor{insitu}{in-situ}(\\textit{top}), formation (\\textit{solid}) and arrival (\\textit{dashed-dotted}) times at the center for \\textcolor{migrated}{`smoothly' migrated}(\\textit{middle}) as well as \\textcolor{exsitu}{ex-situ} and \\textcolor{migrated}{`clumpy' migrated}(\\textit{bottom}) stars. Additionally, in the panel for the in-situ stars, we mark the time of coalescence for the six most massive mergers of this galaxy with thin blue colored solid lines. According to the colorbar of the top panel, a darker blue means a higher merger mass ratio. Pericenter passages for two mergers are shown by thin dashed lines following the same colorcode. The approximate time of the galaxy falling into its $\\mathrm{z}=0$ FoF group is shown by the thick black solid line and the onset of the kinetic AGN feedback is shown as the black dotted line. In the panel for the `smoothly' migrated stars we also show the A$_2$ mode of the stars for a given lookback time (see Appendix \\protect\\ref{sec: galprops} for a definition). In the panel for the ex-situ and `clumpy' migrated stars, we show the time of coalescence of the two mergers that deposited ex-situ stars in the galaxy's center (\\textit{blue solid lines}) as well as the three pericenter passages of the galaxy around its central galaxy after it became a satellite (\\textit{gray dashed lines}).  (*fig: assembly*)\n",
       "\n",
       "</div>\n",
       "<div id=\"div_fig2\">\n",
       "\n",
       "<img src=\"tmp_2301.11942/./SubhaloID_184937_fullhistory.png\" alt=\"Fig39\" width=\"100%\"/>\n",
       "\n",
       "**Figure 39. -** \\textbf{Central (500 pc) assembly history of an individual galaxy (\\texttt{SubfindID} 184937) in TNG50 with a total stellar mass of}$\\mathbf{10^{10.8} M_{\\odot}}.$\\textbf{This galaxy encompasses many mechanisms that can shape the stellar mass build-up in the center of galaxies in a}$\\mathbf{\\Lambda}$\\textbf{CDM cosmology.}\\textit{Top panel}: Points show all individual stellar particles that belong to that galaxy at $\\mathrm{z}=0$. Their distance at the time of birth is shown with respect to their current host in the case of in-situ formed stars (\\textit{light gray}: all in-situ particles, \\textit{\\textcolor{insitu}{pink}}: central in-situ stars only, \\textit{\\textcolor{migrated}{orange}}: central migrated stars only). In the case of the ex-situ formed stars the distance is shown with respect to their future host galaxy at the time of birth (\\textit{color-coded according to the colorbar}: all ex-situ stars, \\textit{\\textcolor{exsitu}{blue}}: central ex-situ stars only). The distance to individual satellite galaxies (only with maximum stellar masses above $10^{6} \\mathrm{M}_{\\odot}$) that will merge with the primary at some point are shown with thinner solid lines. Their coloring also follows the colorbar, which visualizes the merger mass ratio taken at the time $\\mathrm{t}_{\\mathrm{max}}$, when the secondary galaxy reaches maximum stellar mass. The thick black solid line shows the radius of the FoF Group the galaxy belongs to at a given lookback time (represented as $\\mathrm{R}_{200}$, where the group's density is 200 times the critical density of the Universe). The thick gray dashed line shows the distance between the individual galaxy and the central galaxy of the FoF group it belongs to. Approximately 7 Gyr ago the galaxy fell into another group and became a satellite galaxy. Before that it was the central of its own FoF group. The vertical black dotted line represents the time the kinetic AGN feedback starts to take effect, which quenches the center. This galaxy has 50\\% in-situ, 30\\% migrated (of which only 9\\% are 'smoothly' migrated and the rest comes from migrated clumps) and 20\\% ex-situ stars in its center. \\textit{Bottom panel}: Histograms of formation times of \\textcolor{insitu}{in-situ}(\\textit{top}), formation (\\textit{solid}) and arrival (\\textit{dashed-dotted}) times at the center for \\textcolor{migrated}{`smoothly' migrated}(\\textit{middle}) as well as \\textcolor{exsitu}{ex-situ} and \\textcolor{migrated}{`clumpy' migrated}(\\textit{bottom}) stars. Additionally, in the panel for the in-situ stars, we mark the time of coalescence for the six most massive mergers of this galaxy with thin blue colored solid lines. According to the colorbar of the top panel, a darker blue means a higher merger mass ratio. Pericenter passages for two mergers are shown by thin dashed lines following the same colorcode. The approximate time of the galaxy falling into its $\\mathrm{z}=0$ FoF group is shown by the thick black solid line and the onset of the kinetic AGN feedback is shown as the black dotted line. In the panel for the `smoothly' migrated stars we also show the A$_2$ mode of the stars for a given lookback time (see Appendix \\protect\\ref{sec: galprops} for a definition). In the panel for the ex-situ and `clumpy' migrated stars, we show the time of coalescence of the two mergers that deposited ex-situ stars in the galaxy's center (\\textit{blue solid lines}) as well as the three pericenter passages of the galaxy around its central galaxy after it became a satellite (\\textit{gray dashed lines}).  (*fig: assembly*)\n",
       "\n",
       "</div>\n",
       "<div id=\"div_fig3\">\n",
       "\n",
       "<img src=\"tmp_2301.11942/./SubhaloID_184937_fullhistory.png\" alt=\"Fig54\" width=\"100%\"/>\n",
       "\n",
       "**Figure 54. -** \\textbf{Central (500 pc) assembly history of an individual galaxy (\\texttt{SubfindID} 184937) in TNG50 with a total stellar mass of}$\\mathbf{10^{10.8} M_{\\odot}}.$\\textbf{This galaxy encompasses many mechanisms that can shape the stellar mass build-up in the center of galaxies in a}$\\mathbf{\\Lambda}$\\textbf{CDM cosmology.}\\textit{Top panel}: Points show all individual stellar particles that belong to that galaxy at $\\mathrm{z}=0$. Their distance at the time of birth is shown with respect to their current host in the case of in-situ formed stars (\\textit{light gray}: all in-situ particles, \\textit{\\textcolor{insitu}{pink}}: central in-situ stars only, \\textit{\\textcolor{migrated}{orange}}: central migrated stars only). In the case of the ex-situ formed stars the distance is shown with respect to their future host galaxy at the time of birth (\\textit{color-coded according to the colorbar}: all ex-situ stars, \\textit{\\textcolor{exsitu}{blue}}: central ex-situ stars only). The distance to individual satellite galaxies (only with maximum stellar masses above $10^{6} \\mathrm{M}_{\\odot}$) that will merge with the primary at some point are shown with thinner solid lines. Their coloring also follows the colorbar, which visualizes the merger mass ratio taken at the time $\\mathrm{t}_{\\mathrm{max}}$, when the secondary galaxy reaches maximum stellar mass. The thick black solid line shows the radius of the FoF Group the galaxy belongs to at a given lookback time (represented as $\\mathrm{R}_{200}$, where the group's density is 200 times the critical density of the Universe). The thick gray dashed line shows the distance between the individual galaxy and the central galaxy of the FoF group it belongs to. Approximately 7 Gyr ago the galaxy fell into another group and became a satellite galaxy. Before that it was the central of its own FoF group. The vertical black dotted line represents the time the kinetic AGN feedback starts to take effect, which quenches the center. This galaxy has 50\\% in-situ, 30\\% migrated (of which only 9\\% are 'smoothly' migrated and the rest comes from migrated clumps) and 20\\% ex-situ stars in its center. \\textit{Bottom panel}: Histograms of formation times of \\textcolor{insitu}{in-situ}(\\textit{top}), formation (\\textit{solid}) and arrival (\\textit{dashed-dotted}) times at the center for \\textcolor{migrated}{`smoothly' migrated}(\\textit{middle}) as well as \\textcolor{exsitu}{ex-situ} and \\textcolor{migrated}{`clumpy' migrated}(\\textit{bottom}) stars. Additionally, in the panel for the in-situ stars, we mark the time of coalescence for the six most massive mergers of this galaxy with thin blue colored solid lines. According to the colorbar of the top panel, a darker blue means a higher merger mass ratio. Pericenter passages for two mergers are shown by thin dashed lines following the same colorcode. The approximate time of the galaxy falling into its $\\mathrm{z}=0$ FoF group is shown by the thick black solid line and the onset of the kinetic AGN feedback is shown as the black dotted line. In the panel for the `smoothly' migrated stars we also show the A$_2$ mode of the stars for a given lookback time (see Appendix \\protect\\ref{sec: galprops} for a definition). In the panel for the ex-situ and `clumpy' migrated stars, we show the time of coalescence of the two mergers that deposited ex-situ stars in the galaxy's center (\\textit{blue solid lines}) as well as the three pericenter passages of the galaxy around its central galaxy after it became a satellite (\\textit{gray dashed lines}).  (*fig: assembly*)\n",
       "\n",
       "</div>"
      ],
      "text/plain": [
       "<IPython.core.display.Markdown object>"
      ]
     },
     "metadata": {},
     "output_type": "display_data"
    },
    {
     "data": {
      "text/markdown": [
       "<div class=\"macros\" style=\"visibility:hidden;\">\n",
       "$\\newcommand{\\ensuremath}{}$\n",
       "$\\newcommand{\\xspace}{}$\n",
       "$\\newcommand{\\object}[1]{\\texttt{#1}}$\n",
       "$\\newcommand{\\farcs}{{.}''}$\n",
       "$\\newcommand{\\farcm}{{.}'}$\n",
       "$\\newcommand{\\arcsec}{''}$\n",
       "$\\newcommand{\\arcmin}{'}$\n",
       "$\\newcommand{\\ion}[2]{#1#2}$\n",
       "$\\newcommand{\\textsc}[1]{\\textrm{#1}}$\n",
       "$\\newcommand{\\hl}[1]{\\textrm{#1}}$\n",
       "$\\newcommand{\\astroang}[1]{\\ang[angle-symbol-over-decimal]{#1}}$\n",
       "$\\newcommand{\\assign}[1]{\\textcolor{red}{[#1]}}$\n",
       "$\\newcommand{\\inprogress}[1]{\\textcolor[rgb]{1,0.5,0}{[#1]}}$\n",
       "$\\newcommand{\\done}[1]$\n",
       "$\\newcommand{\\help}[1]{\\textcolor{magenta}{[{\\bf HELP!: #1}]}}$\n",
       "$\\newcommand{\\nico}[1]{\\textcolor{red}{[nico: #1]}}$\n",
       "$\\newcommand{\\lucas}[1]{\\textcolor{gray}{[lucas: #1]}}$\n",
       "$\\newcommand{\\laila}[1]{\\textcolor{magenta}{[laila: #1]}}$\n",
       "$\\newcommand{\\cora}[1]{\\textcolor{purple}{[cora: #1]}}$\n",
       "$\\newcommand{\\vincenzo}[1]{\\textcolor{cyan}{[vincenzo: #1]}}$\n",
       "$\\newcommand{\\aoife}[1]{\\textcolor{teal}{[aoife: #1]}}$\n",
       "$\\newcommand{\\Sandrine}[1]{\\textcolor{violet}{[Sandrine C.: #1]}}$\n",
       "$\\newcommand{\\SP}[1]{\\textcolor{teal}{[Sandrine P.: #1]}}$\n",
       "$\\newcommand{\\ismael}[1]{\\textcolor{brown}{[ismael: #1]}}$\n",
       "$\\newcommand{\\sven}[1]{\\textcolor{orange}{[sven: #1]}}$\n",
       "$\\newcommand{\\simone}[1]{\\textcolor{olive}{[Simone: #1]}}$\n",
       "$\\newcommand{\\sihao}[1]{\\textcolor{olive}{[sihao: #1]}}$\n",
       "$\\newcommand{\\cgiocoli}[1]{\\textbf{\\textcolor{brilliantlavender}{[cgiocoli: #1]}}}$\n",
       "$\\newcommand{\\MapMapMap}{\\expval{\\Map^3}}$\n",
       "$\\newcommand{\\Mapn}{\\expval{\\Map^n}}$\n",
       "$\\newcommand{\\varthetavec}{\\vb*{\\vartheta}}$\n",
       "$\\newcommand{\\thetavec}{\\vb*{\\theta}}$\n",
       "$\\newcommand{\\Map}{M_\\mathrm{ap}}$\n",
       "$\\newcommand{\\MapMap}{\\expval{\\Map^2}}$\n",
       "$\\newcommand{\\ellvec}{\\vb*{\\ell}}$\n",
       "$\\newcommand{\\orcid}[1]$</div>\n",
       "\n",
       "<div class=\"macros\" style=\"visibility:hidden;\">\n",
       "$\\newcommand{$\\ensuremath$}{}$\n",
       "$\\newcommand{$\\xspace$}{}$\n",
       "$\\newcommand{$\\object$}[1]{\\texttt{#1}}$\n",
       "$\\newcommand{$\\farcs$}{{.}''}$\n",
       "$\\newcommand{$\\farcm$}{{.}'}$\n",
       "$\\newcommand{$\\arcsec$}{''}$\n",
       "$\\newcommand{$\\arcmin$}{'}$\n",
       "$\\newcommand{$\\ion$}[2]{#1#2}$\n",
       "$\\newcommand{$\\textsc$}[1]{\\textrm{#1}}$\n",
       "$\\newcommand{$\\hl$}[1]{\\textrm{#1}}$\n",
       "$\\newcommand{$\\astroang$}[1]{\\ang[angle-symbol-over-decimal]{#1}}$\n",
       "$\\newcommand{$\\assign$}[1]{\\textcolor{red}{[#1]}}$\n",
       "$\\newcommand{$\\inprogress$}[1]{\\textcolor[rgb]{1,0.5,0}{[#1]}}$\n",
       "$\\newcommand{$\\done$}[1]$\n",
       "$\\newcommand{$\\help$}[1]{\\textcolor{magenta}{[{\\bf HELP!: #1}]}}$\n",
       "$\\newcommand{$\\nico$}[1]{\\textcolor{red}{[nico: #1]}}$\n",
       "$\\newcommand{$\\lucas$}[1]{\\textcolor{gray}{[lucas: #1]}}$\n",
       "$\\newcommand{$\\laila$}[1]{\\textcolor{magenta}{[laila: #1]}}$\n",
       "$\\newcommand{$\\cora$}[1]{\\textcolor{purple}{[cora: #1]}}$\n",
       "$\\newcommand{$\\vincenzo$}[1]{\\textcolor{cyan}{[vincenzo: #1]}}$\n",
       "$\\newcommand{$\\aoife$}[1]{\\textcolor{teal}{[aoife: #1]}}$\n",
       "$\\newcommand{$\\Sandrine$}[1]{\\textcolor{violet}{[Sandrine C.: #1]}}$\n",
       "$\\newcommand{$\\SP$}[1]{\\textcolor{teal}{[Sandrine P.: #1]}}$\n",
       "$\\newcommand{$\\ismael$}[1]{\\textcolor{brown}{[ismael: #1]}}$\n",
       "$\\newcommand{$\\sven$}[1]{\\textcolor{orange}{[sven: #1]}}$\n",
       "$\\newcommand{$\\simone$}[1]{\\textcolor{olive}{[Simone: #1]}}$\n",
       "$\\newcommand{$\\sihao$}[1]{\\textcolor{olive}{[sihao: #1]}}$\n",
       "$\\newcommand{$\\cgiocoli$}[1]{\\textbf{\\textcolor{brilliantlavender}{[cgiocoli: #1]}}}$\n",
       "$\\newcommand{$\\MapMapMap$}{\\expval{$\\Map$^3}}$\n",
       "$\\newcommand{$\\Mapn$}{\\expval{$\\Map$^n}}$\n",
       "$\\newcommand{$\\varthetavec$}{\\vb*{\\vartheta}}$\n",
       "$\\newcommand{$\\thetavec$}{\\vb*{\\theta}}$\n",
       "$\\newcommand{$\\Map$}{M_\\mathrm{ap}}$\n",
       "$\\newcommand{$\\Map$Map}{\\expval{$\\Map$^2}}$\n",
       "$\\newcommand{$\\ellvec$}{\\vb*{\\ell}}$\n",
       "$\\newcommand{$\\orcid$}[1]$</div>\n",
       "\n",
       "\n",
       "\n",
       "<div id=\"title\">\n",
       "\n",
       "#  different higher-order weak lensing statistics\n",
       "\n",
       "</div>\n",
       "<div id=\"comments\">\n",
       "\n",
       "[![arXiv](https://img.shields.io/badge/arXiv-2301.12890-b31b1b.svg)](https://arxiv.org/abs/2301.12890)<mark>Appeared on: 2023-01-31</mark> - _33 pages, 24 figures, main results in Fig. 19 & Table 5, submitted to A&A_\n",
       "\n",
       "</div>\n",
       "<div id=\"authors\">\n",
       "\n",
       "Euclid Collaboration, et al. -- incl., <mark><mark>S. Heydenreich</mark></mark>, <mark><mark>L. Linke</mark></mark>\n",
       "\n",
       "</div>\n",
       "<div id=\"abstract\">\n",
       "\n",
       "**Abstract:** Recent cosmic shear studies have shown that higher-order statistics (HOS) developed by independent teams now outperform standard two-point estimators in terms of statistical precision thanks to their sensitivity to the non-Gaussian features of large-scale structure. The aim of the Higher-Order Weak Lensing Statistics (HOWLS) project is to assess, compare, and combine the constraining power of$10$different HOS on a common set of\\Euclid-like mocks, derived from N-body simulations. In this first paper of the HOWLS series we compute the non-tomographic ($\\Omega_{\\rm m}$,$\\sigma_8$) Fisher information for one-point probability distribution function, peak counts, Minkowski functionals, Betti numbers, persistent homology Betti numbers and heatmap, and scattering transform coefficients, and compare them to the shear and convergence two-point correlation functions in the absence of any systematic bias. We also include forecasts for three implementations of higher-order moments, but these cannot be robustly interpreted as the Gaussian likelihood assumption breaks down for these statistics. Taken individually, we find that each HOS outperforms the two-point statistics by a factor of around$2$in the precision of the forecasts with some variations across statistics and cosmological parameters. When combining all the HOS, this increases to a$4.5$times improvement, highlighting the immense potential of HOS for cosmic shear cosmological analyses with\\Euclid. The data used in this analysis are publicly released with the paper.\n",
       "\n",
       "</div>\n",
       "\n",
       "<div id=\"div_fig1\">\n",
       "\n",
       "<img src=\"tmp_2301.12890/./newplots/multifish2_proben2pcf_allprobes_allprobes_SLICS_f924_c128.png\" alt=\"Fig10\" width=\"100%\"/>\n",
       "\n",
       "**Figure 10. -** Individual Fisher forecasts in the $\\sigma_8$-$\\Omega_{\\rm m}$ plane for a non-tomographic \\Euclid-like survey for the $11$ statistics (orange) and $\\gamma$-2PCF (blue), as well as their combination (green). The corresponding marginalized precision on CPs can be found in Table \\ref{tab:forecasts}. The black dashed line in the first quadrant indicates constant $S_8=\\sigma_8\\sqrt{\\Omega_{\\rm m}/0.3}$. The bottom row with the grey shaded backgrounds displays probes that are not Gaussian distributed and cannot be robustly interpreted with Fisher forecasts. The abbreviated name of each summary statistic is displayed in the top-right part of each panel: $\\gamma$-2PCF and $\\kappa$-2PCF for the shear and convergence two-point correlation functions, $\\kappa$-PDF for the convergence one-point probability distribution, peaks for aperture mass peak counts, MFs for convergence Minkowski functionals, BNs for convergence Betti numbers, pers. BNs and pers. heat. for aperture mass persistent homology Betti numbers and heatmap, ST for convergence scattering transform coefficients, HOM for higher-order convergence moments, and $\\MapMapMap$ and $\\Mapn$ for third and $n$-th order aperture mass moments. (*fig:Fishall*)\n",
       "\n",
       "</div>\n",
       "<div id=\"div_fig2\">\n",
       "\n",
       "<img src=\"tmp_2301.12890/./plots/XipDerivativevsTheory_base.png\" alt=\"Fig9.1\" width=\"25%\"/><img src=\"tmp_2301.12890/./plots/XimDerivativevsTheory_base.png\" alt=\"Fig9.2\" width=\"25%\"/><img src=\"tmp_2301.12890/./plots/XiFisher_small_finite_AllScales.png\" alt=\"Fig9.3\" width=\"25%\"/><img src=\"tmp_2301.12890/./plots/XiFisher_small_finite_Valid.png\" alt=\"Fig9.4\" width=\"25%\"/>\n",
       "\n",
       "**Figure 9. -** \\textit{Upper row:} A comparison of the derivatives of the $\\gamma$-2PCF as predicted from theory (solid lines) and as measured from the DUSTGRAIN-\\emph{pathfinder} simulations (dots). The errorbars are scaled to a single line-of-sight in the DUSTGRAIN-\\emph{pathfinder} ensemble. The shaded regions display the scales that were discarded from the Fisher analysis presented in this work. In the lower panel we plot the relative deviation between the measured quantities and the theoretical predictions when accounting for (solid lines) or neglecting (dotted lines) finite field effects. The grey dashed lines display the 10 per cent errorband. \\textit{Lower row:} A comparison of the Fisher forecast using the theoretical model (orange dashed) or the simulation measurements (blue dashed). The thin solid lines correspond to simulated analyses that are used to test the stability of the ellipses given the numerical noise in the derivatives. For the panel on the left we use all available scales on the $\\gamma$-2PCF while for the figure on the right only the scales with realistic numerical derivatives (i.e. removing the grey shaded area of the upper panel) are included in the forecast. In the figure on the right we show for reference again the constraints of the theoretical model with all scales included. (*fig:biasnoise_gamma2pcf*)\n",
       "\n",
       "</div>\n",
       "<div id=\"div_fig3\">\n",
       "\n",
       "<img src=\"tmp_2301.12890/./plots/fig_dustgrain_derivatives_small.png\" alt=\"Fig2.1\" width=\"50%\"/><img src=\"tmp_2301.12890/./plots/fisher_smallscale.png\" alt=\"Fig2.2\" width=\"50%\"/>\n",
       "\n",
       "**Figure 2. -** \\textit{Top:} The overall shape of the lensing $\\kappa$-PDF, smoothed with a top-hat filter of radius \\ang{;4.69;} and including shape noise. The fiducial cosmology is shown in grey as predicted from large deviation theory (line) and measured in the DUSTGRAIN-\\emph{pathfinder} simulations (data points with error bars indicating the standard deviation across the 256 realisations). Derivatives of the $\\kappa$-PDF with respect to the CPs are shown in colour, with theoretical predictions using non-linear variances predicted by Halofit shown as solid lines. The markers represent the derivatives obtained from the simulations using finite differences based on larger/smaller increments (points/stars). {\\textit{Bottom:}} Fisher forecast constraints on $\\Omega_{\\rm m}$ and $\\sigma_8$ for a \\textit{Euclid}-like survey from the $\\kappa$-PDF shown above. Numerically measured (orange) and theoretically predicted (pink) derivatives find good agreement, with differences in the final $1\\sigma$ parameter constraints of approximately $20\\%$. (*fig:PDF_dustgrain_theory*)\n",
       "\n",
       "</div>"
      ],
      "text/plain": [
       "<IPython.core.display.Markdown object>"
      ]
     },
     "metadata": {},
     "output_type": "display_data"
    }
   ],
   "source": [
    "[display(Markdown(k[1])) for k in documents];"
   ]
  },
  {
   "cell_type": "markdown",
   "id": "873873a4",
   "metadata": {
    "papermill": {
     "duration": 0.015488,
     "end_time": "2023-01-31T04:14:26.664464",
     "exception": false,
     "start_time": "2023-01-31T04:14:26.648976",
     "status": "completed"
    },
    "tags": []
   },
   "source": [
    "# Create HTML index"
   ]
  },
  {
   "cell_type": "code",
   "execution_count": 10,
   "id": "cf665672",
   "metadata": {
    "execution": {
     "iopub.execute_input": "2023-01-31T04:14:26.696207Z",
     "iopub.status.busy": "2023-01-31T04:14:26.695814Z",
     "iopub.status.idle": "2023-01-31T04:14:26.710792Z",
     "shell.execute_reply": "2023-01-31T04:14:26.709843Z"
    },
    "papermill": {
     "duration": 0.03461,
     "end_time": "2023-01-31T04:14:26.712990",
     "exception": false,
     "start_time": "2023-01-31T04:14:26.678380",
     "status": "completed"
    },
    "tags": []
   },
   "outputs": [
    {
     "name": "stdout",
     "output_type": "stream",
     "text": [
      "185  publications in the last 7 days.\n",
      "\t _build/html/2301.12890.md\n",
      "\t _build/html/2301.11942.md\n",
      "\t _build/html/2301.10717.md\n",
      "\t _build/html/2301.10666.md\n",
      "\t _build/html/2301.10496.md\n",
      "\t _build/html/2301.09621.md\n",
      "\t _build/html/2301.09140.md\n",
      "\t _build/html/2301.08770.md\n",
      "\t _build/html/2301.08310.md\n",
      "\t _build/html/2301.07990.md\n",
      "\t _build/html/2301.07366.md\n",
      "\t _build/html/2301.07199.md\n",
      "\t _build/html/2301.07116.md\n",
      "\t _build/html/2301.06873.md\n",
      "\t _build/html/2301.06819.md\n",
      "\t _build/html/2301.06575.md\n",
      "\t _build/html/2301.05720.md\n",
      "\t _build/html/2301.05718.md\n",
      "\t _build/html/2301.05034.md\n",
      "\t _build/html/2301.04656.md\n",
      "\t _build/html/2301.04533.md\n",
      "\t _build/html/2301.04442.md\n",
      "\t _build/html/2301.03811.md\n",
      "\t _build/html/2301.03689.md\n",
      "\t _build/html/2301.03387.md\n",
      "\t _build/html/2301.03209.md\n",
      "\t _build/html/2301.02671.md\n",
      "\t _build/html/2301.02477.md\n",
      "\t _build/html/2301.02313.md\n",
      "\t _build/html/2301.02265.md\n",
      "\t _build/html/2301.01937.md\n",
      "\t _build/html/2301.01895.md\n",
      "\t _build/html/2301.01684.md\n",
      "\t _build/html/2301.01306.md\n",
      "\t _build/html/2301.00881.md\n",
      "\t _build/html/2301.00854.md\n",
      "\t _build/html/2301.00578.md\n",
      "\t _build/html/2212.12039.md\n",
      "\t _build/html/2212.11991.md\n",
      "\t _build/html/2212.11425.md\n",
      "\t _build/html/2212.11177.md\n",
      "\t _build/html/2212.10804.md\n",
      "\t _build/html/2212.10512.md\n",
      "\t _build/html/2212.09766.md\n",
      "\t _build/html/2212.09675.md\n",
      "\t _build/html/2212.09661.md\n",
      "\t _build/html/2212.09652.md\n",
      "\t _build/html/2212.09443.md\n",
      "\t _build/html/2212.09307.md\n",
      "\t _build/html/2212.09168.md\n",
      "\t _build/html/2212.09159.md\n",
      "\t _build/html/2212.08702.md\n",
      "\t _build/html/2212.07332.md\n",
      "\t _build/html/2212.06434.md\n",
      "\t _build/html/2212.04710.md\n",
      "\t _build/html/2212.04026.md\n",
      "\t _build/html/2212.03563.md\n",
      "\t _build/html/2212.03514.md\n",
      "\t _build/html/2212.02667.md\n",
      "\t _build/html/2212.02627.md\n",
      "\t _build/html/2212.02235.md\n",
      "\t _build/html/2212.01707.md\n",
      "\t _build/html/2212.01526.md\n",
      "\t _build/html/2212.01397.md\n",
      "\t _build/html/2212.01291.md\n",
      "\t _build/html/2212.01281.md\n",
      "\t _build/html/2212.00812.md\n",
      "\t _build/html/2212.00811.md\n",
      "\t _build/html/2212.00806.md\n",
      "\t _build/html/2212.00047.md\n",
      "\t _build/html/2212.00032.md\n",
      "\t _build/html/2211.16996.md\n",
      "\t _build/html/2211.16510.md\n",
      "\t _build/html/2211.16123.md\n",
      "\t _build/html/2211.15816.md\n",
      "\t _build/html/2211.15698.md\n",
      "\t _build/html/2211.15576.md\n",
      "\t _build/html/2211.15434.md\n",
      "\t _build/html/2211.15288.md\n",
      "\t _build/html/2211.15224.md\n",
      "\t _build/html/2211.14543.md\n",
      "\t _build/html/2211.14330.md\n",
      "\t _build/html/2211.14322.md\n",
      "\t _build/html/2211.14132.md\n",
      "\t _build/html/2211.13811.md\n",
      "\t _build/html/2211.13426.md\n",
      "\t _build/html/2211.13318.md\n",
      "\t _build/html/2211.13146.md\n",
      "\t _build/html/2211.12613.md\n",
      "\t _build/html/2211.11767.md\n",
      "\t _build/html/2211.09840.md\n",
      "\t _build/html/2211.09217.md\n",
      "\t _build/html/2211.08493.md\n",
      "\t _build/html/2211.08487.md\n",
      "\t _build/html/2211.08294.md\n",
      "\t _build/html/2211.07667.md\n",
      "\t _build/html/2211.07659.md\n",
      "\t _build/html/2211.06454.md\n",
      "\t _build/html/2211.06205.md\n",
      "\t _build/html/2211.06194.md\n",
      "\t _build/html/2211.05022.md\n",
      "\t _build/html/2211.04048.md\n",
      "\t _build/html/2211.03641.md\n",
      "\t _build/html/2211.02502.md\n",
      "\t _build/html/2211.01474.md\n",
      "\t _build/html/2211.00667.md\n",
      "\t _build/html/2211.00657.md\n",
      "\t _build/html/2211.00087.md\n",
      "\t _build/html/2211.00036.md\n",
      "\t _build/html/2211.00020.md\n",
      "\t _build/html/2211.00010.md\n",
      "\t _build/html/2210.17434.md\n",
      "\t _build/html/2210.12412.md\n",
      "\t _build/html/2210.11926.md\n",
      "\t _build/html/2210.11551.md\n",
      "\t _build/html/2210.11103.md\n",
      "\t _build/html/2210.10707.md\n",
      "\t _build/html/2210.09930.md\n",
      "\t _build/html/2210.08996.md\n",
      "\t _build/html/2210.08517.md\n",
      "\t _build/html/2210.08510.md\n",
      "\t _build/html/2210.08078.md\n",
      "\t _build/html/2210.06504.md\n",
      "\t _build/html/2210.05695.md\n",
      "\t _build/html/2210.05595.md\n",
      "\t _build/html/2210.05505.md\n",
      "\t _build/html/2210.04721.md\n",
      "\t _build/html/2210.03615.md\n",
      "\t _build/html/2210.01811.md\n",
      "\t _build/html/2210.01809.md\n",
      "\t _build/html/2210.01556.md\n",
      "\t _build/html/2210.00863.md\n",
      "\t _build/html/2210.00560.md\n",
      "\t _build/html/2209.15403.md\n",
      "\t _build/html/2209.15110.md\n",
      "\t _build/html/2209.14410.md\n",
      "\t _build/html/2209.14396.md\n",
      "\t _build/html/2209.13717.md\n",
      "\t _build/html/2209.13336.md\n",
      "\t _build/html/2209.12906.md\n",
      "\t _build/html/2209.11781.md\n",
      "\t _build/html/2209.11602.md\n",
      "\t _build/html/2209.11248.md\n",
      "\t _build/html/2209.11096.md\n",
      "\t _build/html/2209.10618.md\n",
      "\t _build/html/2209.09914.md\n",
      "\t _build/html/2209.09823.md\n",
      "\t _build/html/2209.08242.md\n",
      "\t _build/html/2209.08120.md\n",
      "\t _build/html/2209.08106.md\n",
      "\t _build/html/2209.07962.md\n",
      "\t _build/html/2209.07931.md\n",
      "\t _build/html/2209.06833.md\n",
      "\t _build/html/2209.05814.md\n",
      "\t _build/html/2209.05593.md\n",
      "\t _build/html/2209.04304.md\n",
      "\t _build/html/2209.03367.md\n",
      "\t _build/html/2209.02872.md\n",
      "\t _build/html/2209.02725.md\n",
      "\t _build/html/2209.02722.md\n",
      "\t _build/html/2209.02092.md\n",
      "\t _build/html/2209.01125.md\n",
      "\t _build/html/2209.00828.md\n",
      "\t _build/html/2209.00363.md\n",
      "\t _build/html/2208.14927.md\n",
      "\t _build/html/2208.09335.md\n",
      "\t _build/html/2208.08872.md\n",
      "\t _build/html/2204.06393.md\n",
      "\t _build/html/2204.03335.md\n",
      "\t _build/html/2204.03253.md\n",
      "\t _build/html/2204.02998.md\n",
      "\t _build/html/2204.02109.md\n",
      "\t _build/html/2204.02017.md\n",
      "\t _build/html/2204.01824.md\n",
      "\t _build/html/2204.01758.md\n",
      "\t _build/html/2204.01245.md\n",
      "\t _build/html/2204.00793.md\n",
      "\t _build/html/2204.00342.md\n",
      "\t _build/html/2203.16959.md\n",
      "\t _build/html/2203.16856.md\n",
      "\t _build/html/2203.16735.md\n",
      "\t _build/html/2203.16734.md\n",
      "\t _build/html/2203.16504.md\n",
      "\t _build/html/2203.15822.md\n",
      "\t _build/html/2203.15811.md\n"
     ]
    }
   ],
   "source": [
    "from datetime import datetime, timedelta, timezone\n",
    "from glob import glob\n",
    "\n",
    "files = glob('_build/html/*.md')\n",
    "days = 7\n",
    "now = datetime.today()\n",
    "res = []\n",
    "for fk in files:\n",
    "    stat_result = os.stat(fk).st_ctime\n",
    "    modified = datetime.fromtimestamp(stat_result, tz=timezone.utc).replace(tzinfo=None)\n",
    "    delta = now.today() - modified\n",
    "    if delta <= timedelta(days=days):\n",
    "        res.append((delta.seconds, fk))\n",
    "res = [k[1] for k in reversed(sorted(res, key=lambda x:x[1]))]\n",
    "npub = len(res)\n",
    "print(len(res), f\" publications in the last {days:d} days.\")\n",
    "[ print('\\t', k) for k in res ];"
   ]
  },
  {
   "cell_type": "code",
   "execution_count": 11,
   "id": "015de740",
   "metadata": {
    "execution": {
     "iopub.execute_input": "2023-01-31T04:14:26.744483Z",
     "iopub.status.busy": "2023-01-31T04:14:26.744007Z",
     "iopub.status.idle": "2023-01-31T04:14:26.768046Z",
     "shell.execute_reply": "2023-01-31T04:14:26.767161Z"
    },
    "papermill": {
     "duration": 0.041671,
     "end_time": "2023-01-31T04:14:26.770044",
     "exception": false,
     "start_time": "2023-01-31T04:14:26.728373",
     "status": "completed"
    },
    "tags": []
   },
   "outputs": [
    {
     "name": "stdout",
     "output_type": "stream",
     "text": [
      "8  publications in the last 7 days.\n"
     ]
    }
   ],
   "source": [
    "import datetime\n",
    "from glob import glob\n",
    "\n",
    "def get_last_n_days(lst, days=1):\n",
    "    \"\"\" Get the documents from the last n days \"\"\"\n",
    "    sorted_lst = sorted(lst, key=lambda x: x[1], reverse=True)\n",
    "    for fname, date in sorted_lst:\n",
    "        if date >= str(datetime.date.today() - datetime.timedelta(days=days)):\n",
    "            yield fname\n",
    "\n",
    "def extract_appearance_dates(lst_file):\n",
    "    dates = []\n",
    "\n",
    "    def get_date(line):\n",
    "        return line\\\n",
    "            .split('Appeared on:')[-1]\\\n",
    "            .split('</mark>')[0].strip()\n",
    "\n",
    "    for fname in lst:\n",
    "        with open(fname, 'r') as f:\n",
    "            found_date = False\n",
    "            for line in f:\n",
    "                if not found_date:\n",
    "                    if \"Appeared on\" in line:\n",
    "                        found_date = True\n",
    "                        dates.append((fname, get_date(line)))\n",
    "                else:\n",
    "                    break\n",
    "    return dates\n",
    "\n",
    "from glob import glob\n",
    "lst = glob('_build/html/*md')\n",
    "days = 7\n",
    "dates = extract_appearance_dates(lst)\n",
    "res = list(get_last_n_days(dates, days))\n",
    "npub = len(res)\n",
    "print(len(res), f\" publications in the last {days:d} days.\")"
   ]
  },
  {
   "cell_type": "code",
   "execution_count": 12,
   "id": "52ca0208",
   "metadata": {
    "execution": {
     "iopub.execute_input": "2023-01-31T04:14:26.806068Z",
     "iopub.status.busy": "2023-01-31T04:14:26.805598Z",
     "iopub.status.idle": "2023-01-31T04:14:26.813527Z",
     "shell.execute_reply": "2023-01-31T04:14:26.812561Z"
    },
    "papermill": {
     "duration": 0.027375,
     "end_time": "2023-01-31T04:14:26.816007",
     "exception": false,
     "start_time": "2023-01-31T04:14:26.788632",
     "status": "completed"
    },
    "scrolled": false,
    "tags": []
   },
   "outputs": [],
   "source": [
    "def create_carousel(npub=4):\n",
    "    \"\"\" Generate the HTML code for a carousel with `npub` slides \"\"\"\n",
    "    carousel = [\"\"\"<section class=\"carousel\" aria-label=\"Gallery\">\"\"\",\n",
    "                \"\"\"  <ol class=\"carousel__viewport\">\"\"\",\n",
    "    ]\n",
    "    for k in range(1, npub + 1):\n",
    "        prev_ = k - 1\n",
    "        next_ = k + 1\n",
    "        if prev_ <= 0:\n",
    "            prev_ = npub\n",
    "        if next_ > npub:\n",
    "            next_ = 1\n",
    "        text  = f\"\"\"    <li id=\"carousel__slide{k}\" tabindex=\"0\" class=\"carousel__slide\">\\n\"\"\"\n",
    "        text += f\"\"\"       <div class=\"carousel__snapper\">\\n\"\"\"\n",
    "        text += f\"\"\"         <a href=\"#carousel__slide{prev_}\" class=\"carousel__prev\">Go to previous slide</a>\\n\"\"\"\n",
    "        text += f\"\"\"         <a href=\"#carousel__slide{next_}\" class=\"carousel__next\">Go to next slide</a>\\n\"\"\"\n",
    "        text += f\"\"\"         <div id=\"slide{k}_content\" class=\"md_view\" >Content {k}</div>\\n\"\"\"\n",
    "        text += f\"\"\"       </div>\\n\"\"\"\n",
    "        text += f\"\"\"    </li>\"\"\"\n",
    "        carousel.append(text)\n",
    "\n",
    "    carousel.extend([\n",
    "        \"\"\"  </ol>\"\"\",\n",
    "        \"\"\"  <aside class=\"carousel__navigation\">\"\"\",\n",
    "        \"\"\"    <ol class=\"carousel__navigation-list\">\"\"\"])\n",
    "\n",
    "    for k in range(1, npub + 1):\n",
    "        text  = f\"\"\"      <li class=\"carousel__navigation-item\">\\n\"\"\"\n",
    "        text += f\"\"\"        <a href=\"#carousel__slide{k}\" class=\"carousel__navigation-button\">Go to {k}</a>\\n\"\"\"\n",
    "        text += f\"\"\"      </li>\"\"\"\n",
    "        carousel.append(text)\n",
    "    carousel.extend([\"\"\"    </ol>\"\"\", \"\"\"  </aside>\"\"\", \"\"\"</section>\"\"\"])\n",
    "\n",
    "    return '\\n'.join(carousel)"
   ]
  },
  {
   "cell_type": "code",
   "execution_count": 13,
   "id": "a6eac5b6",
   "metadata": {
    "execution": {
     "iopub.execute_input": "2023-01-31T04:14:26.851010Z",
     "iopub.status.busy": "2023-01-31T04:14:26.850730Z",
     "iopub.status.idle": "2023-01-31T04:14:26.858500Z",
     "shell.execute_reply": "2023-01-31T04:14:26.857637Z"
    },
    "papermill": {
     "duration": 0.027553,
     "end_time": "2023-01-31T04:14:26.860485",
     "exception": false,
     "start_time": "2023-01-31T04:14:26.832932",
     "status": "completed"
    },
    "scrolled": false,
    "tags": []
   },
   "outputs": [],
   "source": [
    "carousel = create_carousel(npub)\n",
    "docs = ', '.join(['\"{0:s}\"'.format(k.split('/')[-1]) for k in res])\n",
    "slides = ', '.join([f'\"slide{k}_content\"' for k in range(1, npub + 1)])\n",
    "\n",
    "script = f\"\"\"\n",
    "const docs = [{docs}]\n",
    "\n",
    "const slides = [{slides}]\n",
    "\"\"\" + \"\"\"\n",
    "async function run() {\n",
    "    for (let i = 0; i < docs.length; i++) {\n",
    "        let file = await fetch(docs[i]);\n",
    "        let text = await file.text()\n",
    "        document.getElementById(slides[i]).innerHTML =\n",
    "            marked.parse(text);\n",
    "    }\n",
    "    hljs.highlightAll();\n",
    "}\n",
    "run()\n",
    "\"\"\"\n",
    "\n",
    "page = f\"\"\"<!doctype html>\n",
    "<html lang=\"en\">\n",
    "\n",
    "<head>\n",
    "  <meta charset=\"utf-8\">\n",
    "  <meta name=\"viewport\" content=\"width=device-width, initial-scale=1\">\n",
    "  <!-- Bootstrap CSS -->\n",
    "  <link href=\"https://cdn.jsdelivr.net/npm/bootstrap@5.0.2/dist/css/bootstrap.min.css\" rel=\"stylesheet\"\n",
    "   integrity=\"sha384-EVSTQN3/azprG1Anm3QDgpJLIm9Nao0Yz1ztcQTwFspd3yD65VohhpuuCOmLASjC\" crossorigin=\"anonymous\">\n",
    "  <!-- highlight.js CSS -->\n",
    "  <link rel=\"stylesheet\" href=\"https://cdnjs.cloudflare.com/ajax/libs/highlight.js/11.1.0/styles/default.min.css\">\n",
    "  <!-- Mathjax 3 -->\n",
    "  <script type=\"text/javascript\" id=\"MathJax-config\" src=\"mathjax_config.js\"> </script>\n",
    "  <script type=\"text/javascript\" id=\"MathJax-script\" async \n",
    "    src=\"https://cdn.jsdelivr.net/npm/mathjax@3/es5/tex-mml-chtml.js\">\n",
    "  </script>\n",
    "  <link rel=\"stylesheet\" href=\"index_carousel.css\">\n",
    "  <link rel=\"icon\" type=\"image/x-icon\" href=\"https://www.mpia.de/assets/touch-icon-32x32-a66937bcebc4e8894ebff1f41a366c7c7220fd97a38869ee0f2db65a9f59b6c1.png\">\n",
    "  <title>MPIA Arxiv on deck!</title>\n",
    "</head>\n",
    "\n",
    "<body>\n",
    "  <div id=\"header\"> <img src=\"header_banner.png\" width=\"100%\"></div>\n",
    "  <div id=\"suptitle\"> 7-day archives </div>\n",
    "  <div id=\"info\">\n",
    "    <img src=\"https://pngimg.com/uploads/github/github_PNG58.png\" height=30rem></img>\n",
    "    <a href=https://github.com/mpi-astronomy/arxiv_display style=\"color:black;\">github/mpi-astronomy/arxiv_display</a> \n",
    "  </div>\n",
    "  {carousel:s}\n",
    "</body>\n",
    "\n",
    "<!-- Render Markdown -->\n",
    "\n",
    "<body>\n",
    "  <!-- highlight.js: https://highlightjs.org/download/ -->\n",
    "  <script src=\"https://cdnjs.cloudflare.com/ajax/libs/highlight.js/11.5.0/highlight.min.js\"></script>\n",
    "  <!-- marked.js -->\n",
    "  <script src=\"https://cdn.jsdelivr.net/npm/marked/marked.min.js\"></script>\n",
    "  <script>{script:s}</script>\n",
    "</body>\n",
    "</html>\n",
    "\"\"\"\n",
    "with open(\"_build/html/index_7days.html\", 'w') as fout:\n",
    "    fout.write(page)"
   ]
  },
  {
   "cell_type": "markdown",
   "id": "1cebacbc",
   "metadata": {
    "papermill": {
     "duration": 0.016039,
     "end_time": "2023-01-31T04:14:26.891278",
     "exception": false,
     "start_time": "2023-01-31T04:14:26.875239",
     "status": "completed"
    },
    "tags": []
   },
   "source": [
    "# Debugging papers"
   ]
  },
  {
   "cell_type": "raw",
   "id": "debe7cc6",
   "metadata": {
    "papermill": {
     "duration": 0.015381,
     "end_time": "2023-01-31T04:14:26.924976",
     "exception": false,
     "start_time": "2023-01-31T04:14:26.909595",
     "status": "completed"
    },
    "tags": []
   },
   "source": [
    "raise NotImplementedError(\"Manual Stop\")"
   ]
  },
  {
   "cell_type": "raw",
   "id": "eb169192",
   "metadata": {
    "papermill": {
     "duration": 0.013569,
     "end_time": "2023-01-31T04:14:26.953326",
     "exception": false,
     "start_time": "2023-01-31T04:14:26.939757",
     "status": "completed"
    },
    "scrolled": true,
    "tags": []
   },
   "source": [
    "from IPython.display import display, Markdown\n",
    "from TexSoup import TexSoup\n",
    "import re\n",
    "\n",
    "def bracket_error(source: str):\n",
    "    \"\"\" Find problematic portions of the document \"\"\"\n",
    "    \n",
    "    print(\"len(source)\", len(source))\n",
    "    \n",
    "    # Checking header\n",
    "    begin_doc = next(re.finditer(r'\\\\begin\\{document\\}', doc.source)).span()[1]\n",
    "    header = source[:begin_doc]\n",
    "    text = header + r\"\\n\\end{document}\"\n",
    "\n",
    "    try:\n",
    "        # print(\"Header check... \", end='')\n",
    "        TexSoup(text)\n",
    "        display(Markdown(f\"**[OK]** - Header\"))\n",
    "    except:\n",
    "        raise RuntimeError(\"Error in the header\")\n",
    "        \n",
    "    # Check the text per section until the end.\n",
    "    # Do not stop and try them all.\n",
    "    \n",
    "    problematic_text = []\n",
    "    \n",
    "    sections = ([(0, begin_doc, 'until first section')] + \n",
    "                [(g.span()[0], g.span()[1], g.group()) for g in re.finditer(r'\\\\section\\{.*\\}', source)] +\n",
    "                [(g.span()[0], g.span()[1], g.group()) for g in re.finditer(r'\\\\begin\\{appendix\\}', source)]\n",
    "               )\n",
    "    sections.append([len(source), len(source), 'end'])\n",
    "    \n",
    "    sections = sorted(sections, key=lambda x: x[0])\n",
    "    \n",
    "    prev_pos, prev_name = (0, 'header')\n",
    "    parsed = []\n",
    "    \n",
    "    for span, span_end, name in sections:\n",
    "\n",
    "        if span - prev_pos <= 0:\n",
    "            continue\n",
    "            \n",
    "\n",
    "        text = source[prev_pos:span]\n",
    "        if prev_pos > begin_doc:\n",
    "            text = r\"\\n\\begin{document}\" + text + r\"\\n\\end{document}\"\n",
    "        else:\n",
    "            text = text + r\"\\n\\end{document}\"\n",
    "        try:\n",
    "            #print(f\"{prev_pos}:{prev_name}-->{span}:{name} check... \", end='')\n",
    "            parsed.append(TexSoup(text, tolerance=1))  # allow not ending env\n",
    "            display(Markdown(f\"**[OK]** - *{prev_pos}*:{prev_name} &rarr; *{span}*:{name}\"))\n",
    "            # print(\"ok\")\n",
    "\n",
    "            prev_pos = span\n",
    "            prev_name = name\n",
    "        except:\n",
    "            # print(f\"error between {prev_pos} and {span}\")\n",
    "            display(Markdown(f\"**[ERR]** *{prev_pos}*:{prev_name} &rarr; *{span}*:{name}\"))\n",
    "            problematic_text.append((prev_pos, source[prev_pos:span]))\n",
    "            prev_pos = span\n",
    "            prev_name = name\n",
    "            # raise\n",
    "    return problematic_text, parsed\n",
    "\n",
    "\n",
    "def check_environment(text, offset=0):\n",
    "    \"\"\" Check environment \"\"\"\n",
    "    env = re.compile(r\"\\\\begin\\{(?P<env>.*)\\}(.*)\\\\end\\{(?P=env)\\}\", re.DOTALL)\n",
    "\n",
    "    for match in env.finditer(text):\n",
    "        beg, end = match.span()\n",
    "        beg += offset\n",
    "        end += offset\n",
    "        envname = match.groups()[0]\n",
    "        try:\n",
    "            latex.TexSoup(match.group())\n",
    "        except Exception as e:\n",
    "            display(e)\n",
    "            print(f\"Error in {envname:s} between {beg} and {end}\")\n",
    "            return match.groups()[1], beg, end"
   ]
  },
  {
   "cell_type": "raw",
   "id": "2315e835",
   "metadata": {
    "papermill": {
     "duration": 0.014361,
     "end_time": "2023-01-31T04:14:26.982094",
     "exception": false,
     "start_time": "2023-01-31T04:14:26.967733",
     "status": "completed"
    },
    "scrolled": false,
    "tags": []
   },
   "source": [
    "import importlib\n",
    "importlib.reload(latex)\n",
    "which = \"2204.03253\"\n",
    "paper_id = f'{which:s}'\n",
    "folder = f'tmp_{paper_id:s}'\n",
    "\n",
    "if not os.path.isdir(folder):\n",
    "    folder = retrieve_document_source(f\"{paper_id}\", f'tmp_{paper_id}')\n",
    "\n",
    "try:\n",
    "    doc = latex.LatexDocument(folder, validation=validation)    \n",
    "except AffiliationError as affilerror:\n",
    "    msg = f\"ArXiv:{paper_id:s} is not an MPIA paper... \" + str(affilerror)\n",
    "    print(msg)\n",
    "\n",
    "\n",
    "# Hack because sometimes author parsing does not work well\n",
    "if (len(doc.authors) != len(paper['authors'])):\n",
    "    doc._authors = paper['authors']\n",
    "if (doc.abstract) in (None, ''):\n",
    "    doc._abstract = paper['abstract']\n",
    "\n",
    "doc.comment = get_markdown_badge(paper_id) + \" _\" + paper['comments'] + \"_\"\n",
    "doc.highlight_authors_in_list(hl_list)\n",
    "\n",
    "full_md = doc.generate_markdown_text()"
   ]
  },
  {
   "cell_type": "raw",
   "id": "dd3781db",
   "metadata": {
    "papermill": {
     "duration": 0.014158,
     "end_time": "2023-01-31T04:14:27.011831",
     "exception": false,
     "start_time": "2023-01-31T04:14:26.997673",
     "status": "completed"
    },
    "scrolled": false,
    "tags": []
   },
   "source": [
    "doc"
   ]
  },
  {
   "cell_type": "raw",
   "id": "c6eed834",
   "metadata": {
    "papermill": {
     "duration": 0.014488,
     "end_time": "2023-01-31T04:14:27.041649",
     "exception": false,
     "start_time": "2023-01-31T04:14:27.027161",
     "status": "completed"
    },
    "tags": []
   },
   "source": [
    "# [check_environment(k) for k in bracket_error(doc.source)]\n",
    "_, _, a = latex.get_content_per_section(doc.source, verbose=True)\n",
    "if not a:\n",
    "    print(\"no issues per section\")\n",
    "for ak in a:\n",
    "    r = check_environment(ak[1], offset=ak[0])\n",
    "    print(r[1], r[2])\n",
    "    print(r[0])"
   ]
  },
  {
   "cell_type": "code",
   "execution_count": null,
   "id": "71ce768a",
   "metadata": {
    "papermill": {
     "duration": 0.015711,
     "end_time": "2023-01-31T04:14:27.072817",
     "exception": false,
     "start_time": "2023-01-31T04:14:27.057106",
     "status": "completed"
    },
    "tags": []
   },
   "outputs": [],
   "source": []
  }
 ],
 "metadata": {
  "kernelspec": {
   "display_name": "Python 3",
   "language": "python",
   "name": "python3"
  },
  "language_info": {
   "codemirror_mode": {
    "name": "ipython",
    "version": 3
   },
   "file_extension": ".py",
   "mimetype": "text/x-python",
   "name": "python",
   "nbconvert_exporter": "python",
   "pygments_lexer": "ipython3",
   "version": "3.9.16"
  },
  "papermill": {
   "default_parameters": {},
   "duration": 485.391871,
   "end_time": "2023-01-31T04:14:27.409251",
   "environment_variables": {},
   "exception": null,
   "input_path": "MPIA daily digest.ipynb",
   "output_path": "log.ipynb",
   "parameters": {},
   "start_time": "2023-01-31T04:06:22.017380",
   "version": "2.4.0"
  },
  "vscode": {
   "interpreter": {
    "hash": "aee8b7b246df8f9039afb4144a1f6fd8d2ca17a180786b69acc140d282b71a49"
   }
  },
  "widgets": {
   "application/vnd.jupyter.widget-state+json": {
    "state": {
     "106db8b7942041e19a7737145ab3e03d": {
      "model_module": "@jupyter-widgets/base",
      "model_module_version": "2.0.0",
      "model_name": "LayoutModel",
      "state": {
       "_model_module": "@jupyter-widgets/base",
       "_model_module_version": "2.0.0",
       "_model_name": "LayoutModel",
       "_view_count": null,
       "_view_module": "@jupyter-widgets/base",
       "_view_module_version": "2.0.0",
       "_view_name": "LayoutView",
       "align_content": null,
       "align_items": null,
       "align_self": null,
       "border_bottom": null,
       "border_left": null,
       "border_right": null,
       "border_top": null,
       "bottom": null,
       "display": null,
       "flex": null,
       "flex_flow": null,
       "grid_area": null,
       "grid_auto_columns": null,
       "grid_auto_flow": null,
       "grid_auto_rows": null,
       "grid_column": null,
       "grid_gap": null,
       "grid_row": null,
       "grid_template_areas": null,
       "grid_template_columns": null,
       "grid_template_rows": null,
       "height": null,
       "justify_content": null,
       "justify_items": null,
       "left": null,
       "margin": null,
       "max_height": null,
       "max_width": null,
       "min_height": null,
       "min_width": null,
       "object_fit": null,
       "object_position": null,
       "order": null,
       "overflow": null,
       "padding": null,
       "right": null,
       "top": null,
       "visibility": null,
       "width": null
      }
     },
     "229bb636ac18481bbc98981b78efc658": {
      "model_module": "@jupyter-widgets/controls",
      "model_module_version": "2.0.0",
      "model_name": "HTMLModel",
      "state": {
       "_dom_classes": [],
       "_model_module": "@jupyter-widgets/controls",
       "_model_module_version": "2.0.0",
       "_model_name": "HTMLModel",
       "_view_count": null,
       "_view_module": "@jupyter-widgets/controls",
       "_view_module_version": "2.0.0",
       "_view_name": "HTMLView",
       "description": "",
       "description_allow_html": false,
       "layout": "IPY_MODEL_7a153ba2611c4167ab6e71f01e70a613",
       "placeholder": "​",
       "style": "IPY_MODEL_b770568715cd4734862ece68c2391799",
       "tabbable": null,
       "tooltip": null,
       "value": " 32/32 [07:33&lt;00:00,  6.72s/it]"
      }
     },
     "360d1038b49e4a2996fcee441cde3939": {
      "model_module": "@jupyter-widgets/base",
      "model_module_version": "2.0.0",
      "model_name": "LayoutModel",
      "state": {
       "_model_module": "@jupyter-widgets/base",
       "_model_module_version": "2.0.0",
       "_model_name": "LayoutModel",
       "_view_count": null,
       "_view_module": "@jupyter-widgets/base",
       "_view_module_version": "2.0.0",
       "_view_name": "LayoutView",
       "align_content": null,
       "align_items": null,
       "align_self": null,
       "border_bottom": null,
       "border_left": null,
       "border_right": null,
       "border_top": null,
       "bottom": null,
       "display": null,
       "flex": null,
       "flex_flow": null,
       "grid_area": null,
       "grid_auto_columns": null,
       "grid_auto_flow": null,
       "grid_auto_rows": null,
       "grid_column": null,
       "grid_gap": null,
       "grid_row": null,
       "grid_template_areas": null,
       "grid_template_columns": null,
       "grid_template_rows": null,
       "height": null,
       "justify_content": null,
       "justify_items": null,
       "left": null,
       "margin": null,
       "max_height": null,
       "max_width": null,
       "min_height": null,
       "min_width": null,
       "object_fit": null,
       "object_position": null,
       "order": null,
       "overflow": null,
       "padding": null,
       "right": null,
       "top": null,
       "visibility": null,
       "width": null
      }
     },
     "4ea3a53d3ecf4fe89c02c7fd543c3a5e": {
      "model_module": "@jupyter-widgets/controls",
      "model_module_version": "2.0.0",
      "model_name": "HTMLModel",
      "state": {
       "_dom_classes": [],
       "_model_module": "@jupyter-widgets/controls",
       "_model_module_version": "2.0.0",
       "_model_name": "HTMLModel",
       "_view_count": null,
       "_view_module": "@jupyter-widgets/controls",
       "_view_module_version": "2.0.0",
       "_view_name": "HTMLView",
       "description": "",
       "description_allow_html": false,
       "layout": "IPY_MODEL_106db8b7942041e19a7737145ab3e03d",
       "placeholder": "​",
       "style": "IPY_MODEL_5590e83527454a45af49430ee91d0c5c",
       "tabbable": null,
       "tooltip": null,
       "value": "100%"
      }
     },
     "5590e83527454a45af49430ee91d0c5c": {
      "model_module": "@jupyter-widgets/controls",
      "model_module_version": "2.0.0",
      "model_name": "HTMLStyleModel",
      "state": {
       "_model_module": "@jupyter-widgets/controls",
       "_model_module_version": "2.0.0",
       "_model_name": "HTMLStyleModel",
       "_view_count": null,
       "_view_module": "@jupyter-widgets/base",
       "_view_module_version": "2.0.0",
       "_view_name": "StyleView",
       "background": null,
       "description_width": "",
       "font_size": null,
       "text_color": null
      }
     },
     "64eea600d67c43d483d17f373199687c": {
      "model_module": "@jupyter-widgets/base",
      "model_module_version": "2.0.0",
      "model_name": "LayoutModel",
      "state": {
       "_model_module": "@jupyter-widgets/base",
       "_model_module_version": "2.0.0",
       "_model_name": "LayoutModel",
       "_view_count": null,
       "_view_module": "@jupyter-widgets/base",
       "_view_module_version": "2.0.0",
       "_view_name": "LayoutView",
       "align_content": null,
       "align_items": null,
       "align_self": null,
       "border_bottom": null,
       "border_left": null,
       "border_right": null,
       "border_top": null,
       "bottom": null,
       "display": null,
       "flex": null,
       "flex_flow": null,
       "grid_area": null,
       "grid_auto_columns": null,
       "grid_auto_flow": null,
       "grid_auto_rows": null,
       "grid_column": null,
       "grid_gap": null,
       "grid_row": null,
       "grid_template_areas": null,
       "grid_template_columns": null,
       "grid_template_rows": null,
       "height": null,
       "justify_content": null,
       "justify_items": null,
       "left": null,
       "margin": null,
       "max_height": null,
       "max_width": null,
       "min_height": null,
       "min_width": null,
       "object_fit": null,
       "object_position": null,
       "order": null,
       "overflow": null,
       "padding": null,
       "right": null,
       "top": null,
       "visibility": null,
       "width": null
      }
     },
     "7a153ba2611c4167ab6e71f01e70a613": {
      "model_module": "@jupyter-widgets/base",
      "model_module_version": "2.0.0",
      "model_name": "LayoutModel",
      "state": {
       "_model_module": "@jupyter-widgets/base",
       "_model_module_version": "2.0.0",
       "_model_name": "LayoutModel",
       "_view_count": null,
       "_view_module": "@jupyter-widgets/base",
       "_view_module_version": "2.0.0",
       "_view_name": "LayoutView",
       "align_content": null,
       "align_items": null,
       "align_self": null,
       "border_bottom": null,
       "border_left": null,
       "border_right": null,
       "border_top": null,
       "bottom": null,
       "display": null,
       "flex": null,
       "flex_flow": null,
       "grid_area": null,
       "grid_auto_columns": null,
       "grid_auto_flow": null,
       "grid_auto_rows": null,
       "grid_column": null,
       "grid_gap": null,
       "grid_row": null,
       "grid_template_areas": null,
       "grid_template_columns": null,
       "grid_template_rows": null,
       "height": null,
       "justify_content": null,
       "justify_items": null,
       "left": null,
       "margin": null,
       "max_height": null,
       "max_width": null,
       "min_height": null,
       "min_width": null,
       "object_fit": null,
       "object_position": null,
       "order": null,
       "overflow": null,
       "padding": null,
       "right": null,
       "top": null,
       "visibility": null,
       "width": null
      }
     },
     "986a7c50d995440cbdd9720e209b0ab5": {
      "model_module": "@jupyter-widgets/controls",
      "model_module_version": "2.0.0",
      "model_name": "FloatProgressModel",
      "state": {
       "_dom_classes": [],
       "_model_module": "@jupyter-widgets/controls",
       "_model_module_version": "2.0.0",
       "_model_name": "FloatProgressModel",
       "_view_count": null,
       "_view_module": "@jupyter-widgets/controls",
       "_view_module_version": "2.0.0",
       "_view_name": "ProgressView",
       "bar_style": "success",
       "description": "",
       "description_allow_html": false,
       "layout": "IPY_MODEL_360d1038b49e4a2996fcee441cde3939",
       "max": 32.0,
       "min": 0.0,
       "orientation": "horizontal",
       "style": "IPY_MODEL_a99ad599137a420e9c0842013690f2c1",
       "tabbable": null,
       "tooltip": null,
       "value": 32.0
      }
     },
     "a99ad599137a420e9c0842013690f2c1": {
      "model_module": "@jupyter-widgets/controls",
      "model_module_version": "2.0.0",
      "model_name": "ProgressStyleModel",
      "state": {
       "_model_module": "@jupyter-widgets/controls",
       "_model_module_version": "2.0.0",
       "_model_name": "ProgressStyleModel",
       "_view_count": null,
       "_view_module": "@jupyter-widgets/base",
       "_view_module_version": "2.0.0",
       "_view_name": "StyleView",
       "bar_color": null,
       "description_width": ""
      }
     },
     "b770568715cd4734862ece68c2391799": {
      "model_module": "@jupyter-widgets/controls",
      "model_module_version": "2.0.0",
      "model_name": "HTMLStyleModel",
      "state": {
       "_model_module": "@jupyter-widgets/controls",
       "_model_module_version": "2.0.0",
       "_model_name": "HTMLStyleModel",
       "_view_count": null,
       "_view_module": "@jupyter-widgets/base",
       "_view_module_version": "2.0.0",
       "_view_name": "StyleView",
       "background": null,
       "description_width": "",
       "font_size": null,
       "text_color": null
      }
     },
     "e7f646b5d5c54535a804f94e2daf493f": {
      "model_module": "@jupyter-widgets/controls",
      "model_module_version": "2.0.0",
      "model_name": "HBoxModel",
      "state": {
       "_dom_classes": [],
       "_model_module": "@jupyter-widgets/controls",
       "_model_module_version": "2.0.0",
       "_model_name": "HBoxModel",
       "_view_count": null,
       "_view_module": "@jupyter-widgets/controls",
       "_view_module_version": "2.0.0",
       "_view_name": "HBoxView",
       "box_style": "",
       "children": [
        "IPY_MODEL_4ea3a53d3ecf4fe89c02c7fd543c3a5e",
        "IPY_MODEL_986a7c50d995440cbdd9720e209b0ab5",
        "IPY_MODEL_229bb636ac18481bbc98981b78efc658"
       ],
       "layout": "IPY_MODEL_64eea600d67c43d483d17f373199687c",
       "tabbable": null,
       "tooltip": null
      }
     }
    },
    "version_major": 2,
    "version_minor": 0
   }
  }
 },
 "nbformat": 4,
 "nbformat_minor": 5
}