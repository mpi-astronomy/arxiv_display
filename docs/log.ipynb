{
 "cells": [
  {
   "cell_type": "markdown",
   "id": "92bcb855",
   "metadata": {
    "papermill": {
     "duration": 0.003657,
     "end_time": "2025-02-11T04:10:53.053075",
     "exception": false,
     "start_time": "2025-02-11T04:10:53.049418",
     "status": "completed"
    },
    "tags": []
   },
   "source": [
    "# MPIA Arxiv on Deck 2\n",
    "\n",
    "Contains the steps to produce the paper extractions."
   ]
  },
  {
   "cell_type": "code",
   "execution_count": 1,
   "id": "3a0d6e11",
   "metadata": {
    "execution": {
     "iopub.execute_input": "2025-02-11T04:10:53.060534Z",
     "iopub.status.busy": "2025-02-11T04:10:53.060075Z",
     "iopub.status.idle": "2025-02-11T04:10:53.457765Z",
     "shell.execute_reply": "2025-02-11T04:10:53.457170Z"
    },
    "papermill": {
     "duration": 0.402699,
     "end_time": "2025-02-11T04:10:53.459030",
     "exception": false,
     "start_time": "2025-02-11T04:10:53.056331",
     "status": "completed"
    },
    "tags": []
   },
   "outputs": [],
   "source": [
    "# Imports\n",
    "import os\n",
    "from IPython.display import Markdown, display\n",
    "from tqdm.notebook import tqdm\n",
    "import warnings\n",
    "from PIL import Image \n",
    "import re\n",
    "\n",
    "# requires arxiv_on_deck_2\n",
    "\n",
    "from arxiv_on_deck_2.arxiv2 import (get_new_papers, \n",
    "                                    get_paper_from_identifier,\n",
    "                                    retrieve_document_source, \n",
    "                                    get_markdown_badge)\n",
    "from arxiv_on_deck_2 import (latex,\n",
    "                             latex_bib,\n",
    "                             mpia,\n",
    "                             highlight_authors_in_list)\n",
    "\n",
    "# Sometimes images are really big\n",
    "Image.MAX_IMAGE_PIXELS = 1000000000 "
   ]
  },
  {
   "cell_type": "code",
   "execution_count": 2,
   "id": "22aa9d44",
   "metadata": {
    "execution": {
     "iopub.execute_input": "2025-02-11T04:10:53.466421Z",
     "iopub.status.busy": "2025-02-11T04:10:53.465926Z",
     "iopub.status.idle": "2025-02-11T04:10:53.473956Z",
     "shell.execute_reply": "2025-02-11T04:10:53.473424Z"
    },
    "papermill": {
     "duration": 0.012674,
     "end_time": "2025-02-11T04:10:53.474932",
     "exception": false,
     "start_time": "2025-02-11T04:10:53.462258",
     "status": "completed"
    },
    "tags": []
   },
   "outputs": [],
   "source": [
    "# Some useful definitions.\n",
    "\n",
    "class AffiliationWarning(UserWarning):\n",
    "    pass\n",
    "\n",
    "class AffiliationError(RuntimeError):\n",
    "    pass\n",
    "\n",
    "def validation(source: str):\n",
    "    \"\"\"Raises error paper during parsing of source file\n",
    "    \n",
    "    Allows checks before parsing TeX code.\n",
    "    \n",
    "    Raises AffiliationWarning\n",
    "    \"\"\"\n",
    "    check = mpia.affiliation_verifications(source, verbose=True)\n",
    "    if check is not True:\n",
    "        raise AffiliationError(\"mpia.affiliation_verifications: \" + check)\n",
    "\n",
    "        \n",
    "warnings.simplefilter('always', AffiliationWarning)\n",
    "\n",
    "\n",
    "def get_markdown_qrcode(paper_id: str):\n",
    "    \"\"\" Generate a qrcode to the arxiv page using qrserver.com\n",
    "    \n",
    "    :param paper: Arxiv paper\n",
    "    :returns: markdown text\n",
    "    \"\"\"\n",
    "    url = r\"https://api.qrserver.com/v1/create-qr-code/?size=100x100&data=\"\n",
    "    txt = f\"\"\"<img src={url}\"https://arxiv.org/abs/{paper_id}\">\"\"\"\n",
    "    txt = '<div id=\"qrcode\">' + txt + '</div>'\n",
    "    return txt\n",
    "\n",
    "\n",
    "def clean_non_western_encoded_characters_commands(text: str) -> str:\n",
    "    \"\"\" Remove non-western encoded characters from a string\n",
    "    List may need to grow.\n",
    "    \n",
    "    :param text: the text to clean\n",
    "    :return: the cleaned text\n",
    "    \"\"\"\n",
    "    text = re.sub(r\"(\\\\begin{CJK}{UTF8}{gbsn})(.*?)(\\\\end{CJK})\", r\"\\2\", text)\n",
    "    return text\n",
    "\n",
    "\n",
    "def get_initials(name: str) -> str:\n",
    "    \"\"\" Get the short name, e.g., A.-B. FamName\n",
    "    :param name: full name\n",
    "    :returns: initials\n",
    "    \"\"\"\n",
    "    initials = []\n",
    "    # account for non western names often in ()\n",
    "    if '(' in name:\n",
    "        name = clean_non_western_encoded_characters_commands(name)\n",
    "        suffix = re.findall(r\"\\((.*?)\\)\", name)[0]\n",
    "        name = name.replace(f\"({suffix})\", '')\n",
    "    else:\n",
    "        suffix = ''\n",
    "    split = name.split()\n",
    "    for token in split[:-1]:\n",
    "        if '-' in token:\n",
    "            current = '-'.join([k[0] + '.' for k in token.split('-')])\n",
    "        else:\n",
    "            current = token[0] + '.'\n",
    "        initials.append(current)\n",
    "    initials.append(split[-1].strip())\n",
    "    if suffix:\n",
    "        initials.append(f\"({suffix})\")\n",
    "    return ' '.join(initials)"
   ]
  },
  {
   "cell_type": "markdown",
   "id": "14bd6310",
   "metadata": {
    "papermill": {
     "duration": 0.002872,
     "end_time": "2025-02-11T04:10:53.480770",
     "exception": false,
     "start_time": "2025-02-11T04:10:53.477898",
     "status": "completed"
    },
    "tags": []
   },
   "source": [
    "## get list of arxiv paper candidates\n",
    "\n",
    "We use the MPIA mitarbeiter list webpage from mpia.de to get author names\n",
    "We then get all new papers from Arxiv and match authors"
   ]
  },
  {
   "cell_type": "code",
   "execution_count": 3,
   "id": "7ea813a8",
   "metadata": {
    "execution": {
     "iopub.execute_input": "2025-02-11T04:10:53.487705Z",
     "iopub.status.busy": "2025-02-11T04:10:53.487163Z",
     "iopub.status.idle": "2025-02-11T04:11:10.956067Z",
     "shell.execute_reply": "2025-02-11T04:11:10.955461Z"
    },
    "papermill": {
     "duration": 17.473635,
     "end_time": "2025-02-11T04:11:10.957308",
     "exception": false,
     "start_time": "2025-02-11T04:10:53.483673",
     "status": "completed"
    },
    "tags": []
   },
   "outputs": [],
   "source": [
    "# deal with the author list and edge cases of people that cannot be consistent on their name  \n",
    "\n",
    "def filter_non_scientists(name: str) -> bool:\n",
    "    \"\"\" Loose filter on expected authorships\n",
    "\n",
    "    removing IT, administration, technical staff\n",
    "    :param name: name\n",
    "    :returns: False if name is not a scientist\n",
    "    \"\"\"\n",
    "    remove_list = ['Licht', 'Binroth', 'Witzel', 'Jordan',\n",
    "                   'Zähringer', 'Scheerer', 'Hoffmann', 'Düe',\n",
    "                   'Hellmich', 'Enkler-Scharpegge', 'Witte-Nguy',\n",
    "                   'Dehen', 'Beckmann', 'Jager', 'Jäger'\n",
    "                  ]\n",
    "\n",
    "    for k in remove_list:\n",
    "        if k in name:\n",
    "            return False\n",
    "    return True\n",
    "\n",
    "def add_author_to_list(author_list: list) -> list:\n",
    "    \"\"\" Add author to list if not already in list\n",
    "    \n",
    "    :param author: author name\n",
    "    :param author_list: list of authors\n",
    "    :returns: updated list of authors\n",
    "    \"\"\"\n",
    "    add_list = ['T. Henning']\n",
    "\n",
    "    for author in add_list:\n",
    "        if author not in author_list:\n",
    "            author_list.append(author)\n",
    "    return author_list\n",
    "\n",
    "# get list from MPIA website\n",
    "# filter for non-scientists (mpia.get_mpia_mitarbeiter_list() does some filtering)\n",
    "mpia_authors = [k[1] for k in mpia.get_mpia_mitarbeiter_list() if filter_non_scientists(k[1])]\n",
    "# add some missing author because of inconsistencies in their MPIA name and author name on papers\n",
    "mpia_authors = add_author_to_list(mpia_authors)"
   ]
  },
  {
   "cell_type": "code",
   "execution_count": 4,
   "id": "2645e73a",
   "metadata": {
    "execution": {
     "iopub.execute_input": "2025-02-11T04:11:10.964831Z",
     "iopub.status.busy": "2025-02-11T04:11:10.964351Z",
     "iopub.status.idle": "2025-02-11T04:11:11.850333Z",
     "shell.execute_reply": "2025-02-11T04:11:11.849701Z"
    },
    "papermill": {
     "duration": 0.890724,
     "end_time": "2025-02-11T04:11:11.851381",
     "exception": false,
     "start_time": "2025-02-11T04:11:10.960657",
     "status": "completed"
    },
    "tags": []
   },
   "outputs": [
    {
     "name": "stdout",
     "output_type": "stream",
     "text": [
      "T. Henning  ->  T. Henning  |  ['T. Henning']\n",
      "J. Li  ->  J. Li  |  ['J. Li']\n",
      "J. Li  ->  J. Li  |  ['J. Li']\n",
      "J. Li  ->  J. Li  |  ['J. Li']\n"
     ]
    },
    {
     "name": "stdout",
     "output_type": "stream",
     "text": [
      "M. Schirmer  ->  M. Schirmer  |  ['M. Schirmer']\n",
      "R. Burn  ->  R. Burn  |  ['R. Burn']\n",
      "Arxiv has 80 new papers today\n",
      "          6 with possible author matches\n"
     ]
    }
   ],
   "source": [
    "new_papers = get_new_papers()\n",
    "# add manual references\n",
    "add_paper_refs = []\n",
    "new_papers.extend([get_paper_from_identifier(k) for k in add_paper_refs])\n",
    "\n",
    "def robust_call(fn, value, *args, **kwargs):\n",
    "    try:\n",
    "        return fn(value, *args, **kwargs)\n",
    "    except Exception:\n",
    "        return value\n",
    "\n",
    "candidates = []\n",
    "for paperk in new_papers:\n",
    "    # Check author list with their initials\n",
    "    normed_author_list = [robust_call(mpia.get_initials, k) for k in paperk['authors']]\n",
    "    hl_authors = highlight_authors_in_list(normed_author_list, mpia_authors, verbose=True)\n",
    "    matches = [(hl, orig) for hl, orig in zip(hl_authors, paperk['authors']) if 'mark' in hl]\n",
    "    paperk['authors'] = hl_authors\n",
    "    if matches:\n",
    "        # only select paper if an author matched our list\n",
    "        candidates.append(paperk)\n",
    "print(\"\"\"Arxiv has {0:,d} new papers today\"\"\".format(len(new_papers)))        \n",
    "print(\"\"\"          {0:,d} with possible author matches\"\"\".format(len(candidates)))"
   ]
  },
  {
   "cell_type": "markdown",
   "id": "3543b34a",
   "metadata": {
    "papermill": {
     "duration": 0.003065,
     "end_time": "2025-02-11T04:11:11.857933",
     "exception": false,
     "start_time": "2025-02-11T04:11:11.854868",
     "status": "completed"
    },
    "tags": []
   },
   "source": [
    "# Parse sources and generate relevant outputs\n",
    "\n",
    "From the candidates, we do the following steps:\n",
    "* get their tarball from ArXiv (and extract data)\n",
    "* find the main .tex file: find one with \\documentclass{...} (sometimes it's non trivial)\n",
    "* Check affiliations with :func:`validation`, which uses :func:`mpia.affiliation_verifications`\n",
    "* If passing the affiliations: we parse the .tex source\n",
    "   * inject sub-documents into the main (flatten the main document)\n",
    "   * parse structure, extract information (title, abstract, authors, figures...)\n",
    "   * handles `\\graphicspath` if provided\n",
    "* Generate the .md document."
   ]
  },
  {
   "cell_type": "code",
   "execution_count": 5,
   "id": "9576b79e",
   "metadata": {
    "execution": {
     "iopub.execute_input": "2025-02-11T04:11:11.865359Z",
     "iopub.status.busy": "2025-02-11T04:11:11.864770Z",
     "iopub.status.idle": "2025-02-11T04:12:35.002808Z",
     "shell.execute_reply": "2025-02-11T04:12:35.001992Z"
    },
    "papermill": {
     "duration": 83.142925,
     "end_time": "2025-02-11T04:12:35.003901",
     "exception": false,
     "start_time": "2025-02-11T04:11:11.860976",
     "status": "completed"
    },
    "scrolled": false,
    "tags": []
   },
   "outputs": [
    {
     "data": {
      "application/vnd.jupyter.widget-view+json": {
       "model_id": "51780587486e45858117ccb7a6a0b376",
       "version_major": 2,
       "version_minor": 0
      },
      "text/plain": [
       "  0%|          | 0/6 [00:00<?, ?it/s]"
      ]
     },
     "metadata": {},
     "output_type": "display_data"
    },
    {
     "name": "stdout",
     "output_type": "stream",
     "text": [
      "Retrieving document from  https://arxiv.org/e-print/2502.05359\n"
     ]
    },
    {
     "name": "stdout",
     "output_type": "stream",
     "text": [
      "extracting tarball to tmp_2502.05359..."
     ]
    },
    {
     "name": "stdout",
     "output_type": "stream",
     "text": [
      " done.\n"
     ]
    },
    {
     "name": "stdout",
     "output_type": "stream",
     "text": [
      "T. Henning  ->  T. Henning  |  ['T. Henning']\n",
      "Retrieving document from  https://arxiv.org/e-print/2502.05480\n"
     ]
    },
    {
     "name": "stderr",
     "output_type": "stream",
     "text": [
      "/tmp/ipykernel_3207/2822249172.py:52: LatexWarning: 2502.05359 did not run properly\n",
      "bad escape \\e at position 35\n",
      "  warnings.warn(latex.LatexWarning(f\"{paper_id:s} did not run properly\\n\" +\n"
     ]
    },
    {
     "name": "stdout",
     "output_type": "stream",
     "text": [
      "extracting tarball to tmp_2502.05480..."
     ]
    },
    {
     "name": "stdout",
     "output_type": "stream",
     "text": [
      " done.\n",
      "  0: tmp_2502.05480/qso_Galactic_plane.tex, 835 lines\n",
      "  1: tmp_2502.05480/aassymbols.tex, 579 lines\n",
      "Retrieving document from  https://arxiv.org/e-print/2502.05657\n"
     ]
    },
    {
     "name": "stderr",
     "output_type": "stream",
     "text": [
      "/opt/hostedtoolcache/Python/3.9.21/x64/lib/python3.9/site-packages/IPython/core/interactiveshell.py:3550: LatexWarning: Multiple tex files.\n",
      "\n",
      "  exec(code_obj, self.user_global_ns, self.user_ns)\n",
      "/opt/hostedtoolcache/Python/3.9.21/x64/lib/python3.9/site-packages/IPython/core/interactiveshell.py:3550: LatexWarning: Found 2 candidates with documentclass definition.\n",
      "  exec(code_obj, self.user_global_ns, self.user_ns)\n",
      "/opt/hostedtoolcache/Python/3.9.21/x64/lib/python3.9/site-packages/IPython/core/interactiveshell.py:3550: LatexWarning: Assuming tmp_2502.05480/qso_Galactic_plane.tex as main document.\n",
      "  exec(code_obj, self.user_global_ns, self.user_ns)\n"
     ]
    },
    {
     "name": "stdout",
     "output_type": "stream",
     "text": [
      "extracting tarball to tmp_2502.05657..."
     ]
    },
    {
     "name": "stdout",
     "output_type": "stream",
     "text": [
      " done.\n",
      "Retrieving document from  https://arxiv.org/e-print/2502.05805\n"
     ]
    },
    {
     "name": "stderr",
     "output_type": "stream",
     "text": [
      "/opt/hostedtoolcache/Python/3.9.21/x64/lib/python3.9/site-packages/IPython/core/interactiveshell.py:3550: LatexWarning: Multiple tex files.\n",
      "\n",
      "  exec(code_obj, self.user_global_ns, self.user_ns)\n",
      "/opt/hostedtoolcache/Python/3.9.21/x64/lib/python3.9/site-packages/IPython/core/interactiveshell.py:3550: LatexWarning: Found documentclass in tmp_2502.05657/main.tex\n",
      "\n",
      "  exec(code_obj, self.user_global_ns, self.user_ns)\n",
      "/opt/hostedtoolcache/Python/3.9.21/x64/lib/python3.9/site-packages/arxiv_on_deck_2/latex.py:414: LatexWarning: Latex injecting: 'flashcontributions' from 'tmp_2502.05657/flashcontributions.tex'\n",
      "  warnings.warn(LatexWarning(f\"Latex injecting: '{ext}' from '{subsource}'\"))\n",
      "/opt/hostedtoolcache/Python/3.9.21/x64/lib/python3.9/site-packages/arxiv_on_deck_2/latex.py:414: LatexWarning: Latex injecting: 'strawman' from 'tmp_2502.05657/strawman.tex'\n",
      "  warnings.warn(LatexWarning(f\"Latex injecting: '{ext}' from '{subsource}'\"))\n",
      "/opt/hostedtoolcache/Python/3.9.21/x64/lib/python3.9/site-packages/arxiv_on_deck_2/latex.py:414: LatexWarning: Latex injecting: 'introduction' from 'tmp_2502.05657/introduction.tex'\n",
      "  warnings.warn(LatexWarning(f\"Latex injecting: '{ext}' from '{subsource}'\"))\n",
      "/opt/hostedtoolcache/Python/3.9.21/x64/lib/python3.9/site-packages/arxiv_on_deck_2/latex.py:414: LatexWarning: Latex injecting: 'authors' from 'tmp_2502.05657/authors.tex'\n",
      "  warnings.warn(LatexWarning(f\"Latex injecting: '{ext}' from '{subsource}'\"))\n"
     ]
    },
    {
     "name": "stdout",
     "output_type": "stream",
     "text": [
      "extracting tarball to tmp_2502.05805..."
     ]
    },
    {
     "name": "stdout",
     "output_type": "stream",
     "text": [
      " done.\n",
      "Retrieving document from  https://arxiv.org/e-print/2502.06505\n"
     ]
    },
    {
     "name": "stdout",
     "output_type": "stream",
     "text": [
      "extracting tarball to tmp_2502.06505..."
     ]
    },
    {
     "name": "stdout",
     "output_type": "stream",
     "text": [
      " done.\n"
     ]
    },
    {
     "name": "stdout",
     "output_type": "stream",
     "text": [
      "Found 89 bibliographic references in tmp_2502.06505/ms.bbl.\n",
      "Retrieving document from  https://arxiv.org/e-print/2502.06553\n"
     ]
    },
    {
     "name": "stdout",
     "output_type": "stream",
     "text": [
      "extracting tarball to tmp_2502.06553..."
     ]
    },
    {
     "name": "stdout",
     "output_type": "stream",
     "text": [
      " done.\n"
     ]
    },
    {
     "name": "stdout",
     "output_type": "stream",
     "text": [
      "R. Burn  ->  R. Burn  |  ['R. Burn']\n"
     ]
    },
    {
     "name": "stdout",
     "output_type": "stream",
     "text": [
      "Found 85 bibliographic references in tmp_2502.06553/article.bbl.\n",
      "Issues with the citations\n",
      "syntax error in line 4: '=' expected\n"
     ]
    }
   ],
   "source": [
    "documents = []\n",
    "failed = []\n",
    "for paper in tqdm(candidates):\n",
    "    # debug crap\n",
    "    paper['identifier'] = paper['identifier'].lower().replace('arxiv:', '').replace(r'\\n', '').strip()\n",
    "    paper_id = paper['identifier']\n",
    "    \n",
    "    folder = f'tmp_{paper_id}'\n",
    "\n",
    "    try:\n",
    "        if not os.path.isdir(folder):\n",
    "            folder = retrieve_document_source(f\"{paper_id}\", f'tmp_{paper_id}')\n",
    "        \n",
    "        try:\n",
    "            doc = latex.LatexDocument(folder, validation=validation)    \n",
    "        except AffiliationError as affilerror:\n",
    "            msg = f\"ArXiv:{paper_id:s} is not an MPIA paper... \" + str(affilerror)\n",
    "            failed.append((paper, \"affiliation error: \" + str(affilerror) ))\n",
    "            continue\n",
    "        \n",
    "        # Hack because sometimes author parsing does not work well\n",
    "        if (len(doc.authors) != len(paper['authors'])):\n",
    "            doc._authors = paper['authors']\n",
    "        else:\n",
    "            # highlight authors (FIXME: doc.highlight_authors)\n",
    "            # done on arxiv paper already\n",
    "            doc._authors = highlight_authors_in_list(\n",
    "                [get_initials(k) for k in doc.authors], \n",
    "                mpia_authors, verbose=True)\n",
    "        if (doc.abstract) in (None, ''):\n",
    "            doc._abstract = paper['abstract']\n",
    "            \n",
    "        doc.comment = (get_markdown_badge(paper_id) + \n",
    "                       \"<mark>Appeared on: \" + paper['date'] + \"</mark> - \")\n",
    "        if paper['comments']:\n",
    "            doc.comment += \" _\" + paper['comments'] + \"_\"\n",
    "        \n",
    "        full_md = doc.generate_markdown_text()\n",
    "        \n",
    "        full_md += get_markdown_qrcode(paper_id)\n",
    "        \n",
    "        # replace citations\n",
    "        try:\n",
    "            bibdata = latex_bib.LatexBib.from_doc(doc)\n",
    "            full_md = latex_bib.replace_citations(full_md, bibdata)\n",
    "        except Exception as e:\n",
    "            print(\"Issues with the citations\")\n",
    "            print(e)\n",
    "        \n",
    "        documents.append((paper_id, full_md))\n",
    "    except Exception as e:\n",
    "        warnings.warn(latex.LatexWarning(f\"{paper_id:s} did not run properly\\n\" +\n",
    "                                         str(e)\n",
    "                                        ))\n",
    "        failed.append((paper, \"latex error \" + str(e)))"
   ]
  },
  {
   "cell_type": "markdown",
   "id": "2505a25c",
   "metadata": {
    "papermill": {
     "duration": 0.004099,
     "end_time": "2025-02-11T04:12:35.012421",
     "exception": false,
     "start_time": "2025-02-11T04:12:35.008322",
     "status": "completed"
    },
    "tags": []
   },
   "source": [
    "### Export the logs\n",
    "\n",
    "Throughout, we also keep track of the logs per paper. see `logs-{today date}.md` "
   ]
  },
  {
   "cell_type": "code",
   "execution_count": 6,
   "id": "d733828a",
   "metadata": {
    "execution": {
     "iopub.execute_input": "2025-02-11T04:12:35.021665Z",
     "iopub.status.busy": "2025-02-11T04:12:35.021406Z",
     "iopub.status.idle": "2025-02-11T04:12:35.039357Z",
     "shell.execute_reply": "2025-02-11T04:12:35.038770Z"
    },
    "papermill": {
     "duration": 0.023853,
     "end_time": "2025-02-11T04:12:35.040365",
     "exception": false,
     "start_time": "2025-02-11T04:12:35.016512",
     "status": "completed"
    },
    "scrolled": false,
    "tags": []
   },
   "outputs": [
    {
     "data": {
      "text/markdown": [
       "## Successful papers"
      ],
      "text/plain": [
       "<IPython.core.display.Markdown object>"
      ]
     },
     "metadata": {},
     "output_type": "display_data"
    },
    {
     "data": {
      "text/markdown": [
       "\n",
       "|||\n",
       "|---:|:---|\n",
       "| [![arXiv](https://img.shields.io/badge/arXiv-2502.06505-b31b1b.svg)](https://arxiv.org/abs/2502.06505) | **Euclid: A complete Einstein ring in NGC 6505**  |\n",
       "|| C. M. O'Riordan, et al. -- incl., <mark>M. Schirmer</mark> |\n",
       "|*Appeared on*| *2025-02-11*|\n",
       "|*Comments*| *Accepted in A&A. Press release: this https URL*|\n",
       "|**Abstract**|            We report the discovery of a complete Einstein ring around the elliptical galaxy NGC 6505, at $z=0.042$. This is the first strong gravitational lens discovered in Euclid and the first in an NGC object from any survey. The combination of the low redshift of the lens galaxy, the brightness of the source galaxy ($I_\\mathrm{E}=18.1$ lensed, $I_\\mathrm{E}=21.3$ unlensed), and the completeness of the ring make this an exceptionally rare strong lens, unidentified until its observation by Euclid. We present deep imaging data of the lens from the Euclid Visible Camera (VIS) and Near-Infrared Spectrometer and Photometer (NISP) instruments, as well as resolved spectroscopy from the Keck Cosmic Web Imager (KCWI). The Euclid imaging in particular presents one of the highest signal-to-noise ratio optical/near-infrared observations of a strong gravitational lens to date. From the KCWI data we measure a source redshift of $z=0.406$. Using data from the Dark Energy Spectroscopic Instrument (DESI) we measure a velocity dispersion for the lens galaxy of $\\sigma_\\star=303\\pm15\\,\\mathrm{kms}^{-1}$. We model the lens galaxy light in detail, revealing angular structure that varies inside the Einstein ring. After subtracting this light model from the VIS observation, we model the strongly lensed images, finding an Einstein radius of 2.5 arcsec, corresponding to $2.1\\,\\mathrm{kpc}$ at the redshift of the lens. This is small compared to the effective radius of the galaxy, $R_\\mathrm{eff}\\sim 12.3\\,\\mathrm{arcsec}$. Combining the strong lensing measurements with analysis of the spectroscopic data we estimate a dark matter fraction inside the Einstein radius of $f_\\mathrm{DM} = (11.1_{-3.5}^{+5.4})\\%$ and a stellar initial mass-function (IMF) mismatch parameter of $\\alpha_\\mathrm{IMF} = 1.26_{-0.08}^{+0.05}$, indicating a heavier-than-Chabrier IMF in the centre of the galaxy.         |"
      ],
      "text/plain": [
       "[2502.06505] Euclid: A complete Einstein ring in NGC 6505\n",
       "\tC. M. O'Riordan, et al. -- incl., <mark>M. Schirmer</mark>"
      ]
     },
     "metadata": {},
     "output_type": "display_data"
    },
    {
     "data": {
      "text/markdown": [
       "\n",
       "|||\n",
       "|---:|:---|\n",
       "| [![arXiv](https://img.shields.io/badge/arXiv-2502.06553-b31b1b.svg)](https://arxiv.org/abs/2502.06553) | **Radial velocity homogeneous analysis of M dwarfs observed with HARPS. II. Detection limits and planetary occurrence statistics**  |\n",
       "|| L. Mignon, et al. -- incl., <mark>R. Burn</mark> |\n",
       "|*Appeared on*| *2025-02-11*|\n",
       "|*Comments*| **|\n",
       "|**Abstract**|            We re-determine planetary occurrences around M dwarfs using 20 years of observations from HARPS on 197 targets. The first aim of this study is to propose more precise occurrence rates using the large volume of the sample but also variations to previous calculations, particularly by considering multiplicity, which is now an integral part of planetary occurrence calculations. The second aim is to exploit the extreme longevity of HARPS to determine occurrence rates in the unexplored domain of very long periods. This work relies entirely on the 197 radial velocity time series obtained and analysed in our previous study. By considering they are cleaned of any detectable signal, we convert them into detection limits. We use these 197 limits to produce a detectability map and combine it with confirmed planet detections to establish our occurrence rates. Finally, we also convert the detection limits from orbital period to insolation in order to construct an occurrence statistics for the temperate zone. We find a strong prevalence of low-mass planets around M dwarfs, with an occurrence rate of 120% for planets with a mass between 0.75 and 3 Me. In addition, we compute an occurrence rate of 45.3% +20-16% for temperate zone planets around M dwarfs. We obtain an occurrence rate of a few percent for giant planets with wide separations. In our sample these giant planets with wide separations are only detected around the most massive M dwarfs.         |"
      ],
      "text/plain": [
       "[2502.06553] Radial velocity homogeneous analysis of M dwarfs observed with HARPS. II. Detection limits and planetary occurrence statistics\n",
       "\tL. Mignon, et al. -- incl., <mark>R. Burn</mark>"
      ]
     },
     "metadata": {},
     "output_type": "display_data"
    },
    {
     "data": {
      "text/markdown": [
       "## Failed papers"
      ],
      "text/plain": [
       "<IPython.core.display.Markdown object>"
      ]
     },
     "metadata": {},
     "output_type": "display_data"
    },
    {
     "data": {
      "text/markdown": [
       "\n",
       "|||\n",
       "|---:|:---|\n",
       "| [![arXiv](https://img.shields.io/badge/arXiv-2502.05480-b31b1b.svg)](https://arxiv.org/abs/2502.05480) | **Finding Quasars Behind the Galactic Plane: Spectroscopic Identifications of ~1300 New Quasars at |b|<=20 degree from LAMOST DR10**  |\n",
       "|| Z.-Y. Huo, et al. -- incl., <mark>J. Li</mark> |\n",
       "|*Appeared on*| *2025-02-11*|\n",
       "|*Comments*| *15 pages, 7 figures and 2 tables, accepted for publication in ApJS*|\n",
       "|**Abstract**|            Quasars behind the Galactic plane (GPQs) are excellent tracers to probe the chemistry and kinematics of the interstellar/intergalactic medium (ISM/IGM) of the Milky Way along sight lines via absorption line spectroscopy. Moreover, the quasars located at low Galactic latitudes will fill the gap in the spatial distribution of known quasars near the Galactic plane, and can be used to construct an astrometric reference frame for accurate measurements of proper motions (PMs) of stars, and substructures of the Milky Way. We started a survey of background quasars in the low Galactic latitude region since the LAMOST phase II survey in 2017. Quasar candidates have been selected from the optical and infrared photometric data of Pan-STARRS1 and WISE surveys based on their variability and color properties. In this paper, we present a sample of 1982 spectroscopically confirmed GPQs with |b| <= 20 degree based on LAMOST Data Release 10 (DR10). Among them, 1338 are newly discovered. Most GPQs are located around 240<l<90 degree, and the spatial distributions are non-uniform. These GPQs have a magnitude distribution with a peak at i-mag 19.0, and mostly around 18.0-19.5mag. The peak of redshift distributions is around ~1.5, and most GPQs have redshifts between 0.3 and 2.5. Our finding demonstrates the potential discovery space for the GPQs from the spectroscopic surveys and the promising applications for future research.         |\n",
       "|<p style=\"color:green\"> **ERROR** </p>| <p style=\"color:green\">affiliation error: mpia.affiliation_verifications: '69117' keyword not found.</p> |"
      ],
      "text/plain": [
       "<IPython.core.display.Markdown object>"
      ]
     },
     "metadata": {},
     "output_type": "display_data"
    },
    {
     "data": {
      "text/markdown": [
       "\n",
       "|||\n",
       "|---:|:---|\n",
       "| [![arXiv](https://img.shields.io/badge/arXiv-2502.05657-b31b1b.svg)](https://arxiv.org/abs/2502.05657) | **Ideas and Requirements for the Global Cosmic-Ray Observatory (GCOS)**  |\n",
       "|| M. Ahlers, et al. |\n",
       "|*Appeared on*| *2025-02-11*|\n",
       "|*Comments*| *48 pages, 27 figures*|\n",
       "|**Abstract**|            After a successful kick-off meeting in 2021. two workshops in 2022 and 2023 on the future Global Cosmic-Ray Observatory (GCOS) focused mainly on a straw man design of the detector and science possibilities for astro- and particle physics. About 100 participants gathered for in-person and hybrid panel discussions. In this report, we summarize these discussions, present a preliminary straw-man design for GCOS and collect short write-ups of the flash talks given during the focus sessions.         |\n",
       "|<p style=\"color:green\"> **ERROR** </p>| <p style=\"color:green\">affiliation error: mpia.affiliation_verifications: 'Heidelberg' keyword not found.</p> |"
      ],
      "text/plain": [
       "<IPython.core.display.Markdown object>"
      ]
     },
     "metadata": {},
     "output_type": "display_data"
    },
    {
     "data": {
      "text/markdown": [
       "\n",
       "|||\n",
       "|---:|:---|\n",
       "| [![arXiv](https://img.shields.io/badge/arXiv-2502.05805-b31b1b.svg)](https://arxiv.org/abs/2502.05805) | **The SUPERCOLD-CGM survey: II. [\\ion{C}{1}]$(1-0)$ emission and the physical conditions of cold gas in Enormous Ly$\\alpha$ nebulae at $z\\,\\sim\\,2$**  |\n",
       "|| <mark>J. Li</mark>, et al. -- incl., <mark>J. Li</mark> |\n",
       "|*Appeared on*| *2025-02-11*|\n",
       "|*Comments*| *27 pages, 9 figures*|\n",
       "|**Abstract**|            We report ALMA and ACA observations of atomic carbon ([\\ion{C}{1}]$(1-0)$) and dust continuum in 10 Enormous Ly$\\alpha$ Nebulae hosting ultra-luminous Type-I QSOs at $z=2.2-2.5$, as part of the SUrvey of Protocluster ELANe Revealing CO/CI in the Ly$\\alpha$ Detected CGM (SUPERCOLD-CGM). We detect [\\ion{C}{1}]$(1-0)$ and dust in all ten QSOs and five companion galaxies. We find that the QSOs and companions have higher gas densities and more intense radiation fields than Luminous Infrared galaxies and high-$z$ main sequence galaxies, with the highest values found in the QSOs. By comparing molecular gas masses derived from [\\ion{C}{1}]$(1-0)$, CO(4$-$3) and dust continuum, we find that the QSOs and companions display a similar low CO conversion factor of $\\alpha_{\\rm CO}$\\,$\\sim$\\,0.8 $\\rm M_{\\sun}$${[\\rm K\\,km/s\\,pc^2]}^{-1}$. After tapering our data to low resolution, the [\\ion{C}{1}]$(1-0)$ flux increases for nine QSOs, hinting at the possibility of [\\ion{C}{1}]$(1-0)$ in the circum-galactic medium (CGM) on a scale of 16$-$40 kpc. However, the [\\ion{C}{1}]$(1-0)$ sensitivity is too low to confirm this for individual targets, except for a tentative (2.7$\\sigma$) CGM detection in Q0050+0051{} with M$_{\\rm H_2}$\\,=\\, ($1.0 - 2.8$)$\\times 10^{10}$ $\\rm M_{\\sun}$. The 3$\\sigma$ mass limits of molecular CGM for the remaining QSO fields are ($0.2-1.4$)\\,$\\times$\\,10$^{10}$ $\\rm M_{\\sun}$. This translates into a baryon fraction of $<$0.4-3$\\% $ in the molecular CGM relative to the total baryonic halo mass. Our sample also includes a radio-detected AGN, Q1416+2649{}, which shows [\\ion{C}{1}]$(1-0)$ and CO(4$-$3) luminosities an order of magnitude fainter for its far-infrared luminosity than other QSOs in our sample, possibly due to a lower molecular gas mass.         |\n",
       "|<p style=\"color:green\"> **ERROR** </p>| <p style=\"color:green\">affiliation error: mpia.affiliation_verifications: 'Heidelberg' keyword not found.</p> |"
      ],
      "text/plain": [
       "<IPython.core.display.Markdown object>"
      ]
     },
     "metadata": {},
     "output_type": "display_data"
    },
    {
     "data": {
      "text/markdown": [
       "\n",
       "|||\n",
       "|---:|:---|\n",
       "| [![arXiv](https://img.shields.io/badge/arXiv-2502.05359-b31b1b.svg)](https://arxiv.org/abs/2502.05359) | **On the Orbit of the Binary Brown Dwarf Companion GL229 Ba and Bb**  |\n",
       "|| W. Thompson, et al. -- incl., <mark>T. Henning</mark> |\n",
       "|*Appeared on*| *2025-02-11*|\n",
       "|*Comments*| *Resubmitted to AJ*|\n",
       "|**Abstract**|            The companion GL229B was recently resolved by Xuan et al. (2024) as a tight binary of two brown dwarfs (Ba and Bb) through VLTI-GRAVITY interferometry and VLT-CRIRES+ RV measurements. Here, we present Bayesian models of the interferometric and RV data in additional detail, along with an updated outer orbit of the brown dwarf pair about the primary. To create a model of the inner orbit with robust uncertainties, we apply kernel phases to the GRAVITY data to address baseline redundancy in the raw closure phases. Using parallel tempering, we constrain the binary's orbit using only VLTI-GRAVITY data, despite each epoch having low visibility-plane coverage and/or SNR. We demonstrate very agreement the VLTI-GRAVITY and CRIRES+ datasets and find that the inner binary has a period of 12.1346$\\pm$0.0011 days, eccentricity of 0.2317$\\pm$0.0025, and total mass of 71.0$\\pm$0.4 Mjup, with Ba and Bb having masses of 37.7$\\pm$1.1Mjup and 33.4$\\pm$1.0Mjup respectively. With new Keck/NIRC2 astrometry, we update the outer orbit GL229B around the primary. We find a semi-major axis of 42.9+3.0-2.4AU, eccentricity of 0.736$\\pm$0.014, and a total mass for B of 71.7$\\pm$0.6Mjup, consistent with that derived from the inner orbit. We find a mutual inclination of 31$\\pm$2.5deg, below the threshold for Kozai-Lidov oscillations. The agreement on the mass of Ba+Bb between the inner and outer orbits is an important test of our ability to model RV, astrometry, and Hipparcos-Gaia proper motion anomaly. Our methodological advances in handling interferometric data with low SNR and sparse UV-coverage will benefit future observations of rapidly-orbiting companions with VLTI-GRAVITY.         |\n",
       "|<p style=\"color:red\"> **ERROR** </p>| <p style=\"color:red\">latex error bad escape \\e at position 35</p> |"
      ],
      "text/plain": [
       "<IPython.core.display.Markdown object>"
      ]
     },
     "metadata": {},
     "output_type": "display_data"
    }
   ],
   "source": [
    "import datetime\n",
    "today = str(datetime.date.today())\n",
    "logfile = f\"_build/html/logs/log-{today}.md\"\n",
    "\n",
    "\n",
    "with open(logfile, 'w') as logs:\n",
    "    # Success\n",
    "    logs.write(f'# Arxiv on Deck 2: Logs - {today}\\n\\n')\n",
    "    logs.write(\"\"\"* Arxiv had {0:,d} new papers\\n\"\"\".format(len(new_papers)))\n",
    "    logs.write(\"\"\"    * {0:,d} with possible author matches\\n\\n\"\"\".format(len(candidates)))\n",
    "    logs.write(\"## Sucessful papers\\n\\n\")\n",
    "    display(Markdown(\"## Successful papers\"))\n",
    "    success = [k[0] for k in documents]\n",
    "    for candid in candidates:\n",
    "        if candid['identifier'].split(':')[-1] in success:\n",
    "            display(candid)\n",
    "            logs.write(candid.generate_markdown_text() + '\\n\\n')\n",
    "\n",
    "    ## failed\n",
    "    logs.write(\"## Failed papers\\n\\n\")\n",
    "    display(Markdown(\"## Failed papers\"))\n",
    "    failed = sorted(failed, key=lambda x: x[1])\n",
    "    current_reason = \"\"\n",
    "    for paper, reason in failed:\n",
    "        if 'affiliation' in reason:\n",
    "            color = 'green'\n",
    "        else:\n",
    "            color = 'red'\n",
    "        data = Markdown(\n",
    "                paper.generate_markdown_text() + \n",
    "                f'\\n|<p style=\"color:{color:s}\"> **ERROR** </p>| <p style=\"color:{color:s}\">{reason:s}</p> |'\n",
    "               )\n",
    "        if reason != current_reason:\n",
    "            logs.write(f'### {reason:s} \\n\\n')\n",
    "            current_reason = reason\n",
    "        logs.write(data.data + '\\n\\n')\n",
    "        \n",
    "        # only display here the important errors (all in logs)\n",
    "        # if color in ('red',):\n",
    "        display(data)"
   ]
  },
  {
   "cell_type": "markdown",
   "id": "472d20ee",
   "metadata": {
    "papermill": {
     "duration": 0.004809,
     "end_time": "2025-02-11T04:12:35.050138",
     "exception": false,
     "start_time": "2025-02-11T04:12:35.045329",
     "status": "completed"
    },
    "tags": []
   },
   "source": [
    "## Export documents\n",
    "\n",
    "We now write the .md files and export relevant images"
   ]
  },
  {
   "cell_type": "code",
   "execution_count": 7,
   "id": "d426aed9",
   "metadata": {
    "execution": {
     "iopub.execute_input": "2025-02-11T04:12:35.060532Z",
     "iopub.status.busy": "2025-02-11T04:12:35.060339Z",
     "iopub.status.idle": "2025-02-11T04:12:35.067021Z",
     "shell.execute_reply": "2025-02-11T04:12:35.066489Z"
    },
    "papermill": {
     "duration": 0.013014,
     "end_time": "2025-02-11T04:12:35.067992",
     "exception": false,
     "start_time": "2025-02-11T04:12:35.054978",
     "status": "completed"
    },
    "tags": []
   },
   "outputs": [],
   "source": [
    "def export_markdown_summary(md: str, md_fname:str, directory: str):\n",
    "    \"\"\"Export MD document and associated relevant images\"\"\"\n",
    "    import os\n",
    "    import shutil\n",
    "    import re\n",
    "\n",
    "    if (os.path.exists(directory) and not os.path.isdir(directory)):\n",
    "        raise RuntimeError(f\"a non-directory file exists with name {directory:s}\")\n",
    "\n",
    "    if (not os.path.exists(directory)):\n",
    "        print(f\"creating directory {directory:s}\")\n",
    "        os.mkdir(directory)\n",
    "\n",
    "    fig_fnames = (re.compile(r'\\[Fig.*\\]\\((.*)\\)').findall(md) + \n",
    "                  re.compile(r'\\<img src=\"([^>\\s]*)\"[^>]*/>').findall(md))\n",
    "    print(\"found figures\", fig_fnames)\n",
    "    for fname in fig_fnames:\n",
    "        if 'http' in fname:\n",
    "            # No need to copy online figures\n",
    "            continue\n",
    "        if not os.path.exists(fname):\n",
    "            print(\"file not found\", fname)\n",
    "            continue\n",
    "        print(\"copying \", fname, \"to\", directory)\n",
    "        destdir = os.path.join(directory, os.path.dirname(fname))\n",
    "        destfname = os.path.join(destdir, os.path.basename(fname))\n",
    "        try:\n",
    "            os.makedirs(destdir)\n",
    "        except FileExistsError:\n",
    "            pass\n",
    "        shutil.copy(fname, destfname)\n",
    "    with open(os.path.join(directory, md_fname), 'w') as fout:\n",
    "        fout.write(md)\n",
    "    print(\"exported in \", os.path.join(directory, md_fname))\n",
    "    [print(\"    + \" + os.path.join(directory,fk)) for fk in fig_fnames]"
   ]
  },
  {
   "cell_type": "code",
   "execution_count": 8,
   "id": "014d04a4",
   "metadata": {
    "execution": {
     "iopub.execute_input": "2025-02-11T04:12:35.078578Z",
     "iopub.status.busy": "2025-02-11T04:12:35.078379Z",
     "iopub.status.idle": "2025-02-11T04:12:35.087617Z",
     "shell.execute_reply": "2025-02-11T04:12:35.087090Z"
    },
    "papermill": {
     "duration": 0.015585,
     "end_time": "2025-02-11T04:12:35.088571",
     "exception": false,
     "start_time": "2025-02-11T04:12:35.072986",
     "status": "completed"
    },
    "tags": []
   },
   "outputs": [
    {
     "name": "stdout",
     "output_type": "stream",
     "text": [
      "found figures ['tmp_2502.06505/./isophote_properties_new_m1.png', 'tmp_2502.06505/./light_model.png', 'tmp_2502.06505/./lens_model.png']\n",
      "copying  tmp_2502.06505/./isophote_properties_new_m1.png to _build/html/\n",
      "copying  tmp_2502.06505/./light_model.png to _build/html/\n",
      "copying  tmp_2502.06505/./lens_model.png to _build/html/\n",
      "exported in  _build/html/2502.06505.md\n",
      "    + _build/html/tmp_2502.06505/./isophote_properties_new_m1.png\n",
      "    + _build/html/tmp_2502.06505/./light_model.png\n",
      "    + _build/html/tmp_2502.06505/./lens_model.png\n",
      "found figures ['tmp_2502.06553/./stat-occu-pla_cand_sup35_decale.png', 'tmp_2502.06553/./stat-occu-pla_cand_inf35_decale.png', 'tmp_2502.06553/./stat-occu_cand_gde.png']\n",
      "copying  tmp_2502.06553/./stat-occu-pla_cand_sup35_decale.png to _build/html/\n",
      "copying  tmp_2502.06553/./stat-occu-pla_cand_inf35_decale.png to _build/html/\n",
      "copying  tmp_2502.06553/./stat-occu_cand_gde.png to _build/html/\n",
      "exported in  _build/html/2502.06553.md\n",
      "    + _build/html/tmp_2502.06553/./stat-occu-pla_cand_sup35_decale.png\n",
      "    + _build/html/tmp_2502.06553/./stat-occu-pla_cand_inf35_decale.png\n",
      "    + _build/html/tmp_2502.06553/./stat-occu_cand_gde.png\n"
     ]
    }
   ],
   "source": [
    "for paper_id, md in documents:\n",
    "    export_markdown_summary(md, f\"{paper_id:s}.md\", '_build/html/')"
   ]
  },
  {
   "cell_type": "markdown",
   "id": "f087a0a7",
   "metadata": {
    "papermill": {
     "duration": 0.005005,
     "end_time": "2025-02-11T04:12:35.098704",
     "exception": false,
     "start_time": "2025-02-11T04:12:35.093699",
     "status": "completed"
    },
    "tags": []
   },
   "source": [
    "## Display the papers\n",
    "\n",
    "Not necessary but allows for a quick check."
   ]
  },
  {
   "cell_type": "code",
   "execution_count": 9,
   "id": "fd25f625",
   "metadata": {
    "execution": {
     "iopub.execute_input": "2025-02-11T04:12:35.109467Z",
     "iopub.status.busy": "2025-02-11T04:12:35.109272Z",
     "iopub.status.idle": "2025-02-11T04:12:35.115107Z",
     "shell.execute_reply": "2025-02-11T04:12:35.114483Z"
    },
    "papermill": {
     "duration": 0.012294,
     "end_time": "2025-02-11T04:12:35.116082",
     "exception": false,
     "start_time": "2025-02-11T04:12:35.103788",
     "status": "completed"
    },
    "scrolled": false,
    "tags": []
   },
   "outputs": [
    {
     "data": {
      "text/markdown": [
       "<div class=\"macros\" style=\"visibility:hidden;\">\n",
       "$\\newcommand{\\ensuremath}{}$\n",
       "$\\newcommand{\\xspace}{}$\n",
       "$\\newcommand{\\object}[1]{\\texttt{#1}}$\n",
       "$\\newcommand{\\farcs}{{.}''}$\n",
       "$\\newcommand{\\farcm}{{.}'}$\n",
       "$\\newcommand{\\arcsec}{''}$\n",
       "$\\newcommand{\\arcmin}{'}$\n",
       "$\\newcommand{\\ion}[2]{#1#2}$\n",
       "$\\newcommand{\\textsc}[1]{\\textrm{#1}}$\n",
       "$\\newcommand{\\hl}[1]{\\textrm{#1}}$\n",
       "$\\newcommand{\\footnote}[1]{}$\n",
       "$\\newcommand{\\zsvalue}{0.4058}$\n",
       "$\\newcommand{\\lensname}{Altieri's lens}$\n",
       "$\\newcommand{\\galaxyname}{NGC~6505}$\n",
       "$\\newcommand{\\galaxycoords}{RA~\\ra{17;51;07.46}, Dec~+\\ang{65;31}\\ang{;;50.78}}$\n",
       "$\\newcommand{\\zl}{z_\\mathrm{d}}$\n",
       "$\\newcommand{\\zs}{z_\\mathrm{s}}$\n",
       "$\\newcommand{\\erad}{\\theta_\\mathrm{E}}$\n",
       "$\\newcommand{\\sigmav}{\\sigma_\\mathrm{v}}$\n",
       "$\\newcommand{\\dmfraction}{f_\\mathrm{DM}}$\n",
       "$\\newcommand{\\Dls}{D_\\mathrm{ls}}$\n",
       "$\\newcommand{\\Dl}{D_\\mathrm{l}}$\n",
       "$\\newcommand{\\etheta}{\\theta_q}$\n",
       "$\\newcommand{\\lensx}{\\theta_{\\mathrm{l}_x}}$\n",
       "$\\newcommand{\\lensy}{\\theta_{\\mathrm{l}_y}}$\n",
       "$\\newcommand{\\posa}{\\phi_\\mathrm{L}}$\n",
       "$\\newcommand{\\lambdas}{\\lambda_\\mathrm{s}}$\n",
       "$\\newcommand{\\extshear}{\\gamma_\\mathrm{ext}}$\n",
       "$\\newcommand{\\imfmismatch}{\\alpha_\\mathrm{IMF}}$\n",
       "$\\newcommand{\\Reff}{R_\\mathrm{eff}}$\n",
       "$\\newcommand{\\chisqnu}{\\chi^2_\\nu}$\n",
       "$\\newcommand{\\ndof}{N_\\mathrm{dof}}$\n",
       "$\\newcommand$\n",
       "$\\newcommand{\\prob}[2]{\\mathrm{Pr}\\left(#1\\vert#2\\right)}$\n",
       "$\\newcommand{\\prior}[1]{\\mathrm{Pr}\\left(#1\\right)}$\n",
       "$\\newcommand{\\ev}{\\varepsilon}$\n",
       "$\\newcommand{\\Msun}{M_\\odot}$\n",
       "$\\newcommand{\\orcid}[1]$\n",
       "$\\newcommand{\\mstarChab}{M_{\\star}^\\mathrm{Chab}}$\n",
       "$\\newcommand{\\mstarmod}{M_{\\star}^\\mathrm{mod}}$</div>\n",
       "\n",
       "\n",
       "\n",
       "<div id=\"title\">\n",
       "\n",
       "#     $\\Euclid$\\/: A complete Einstein ring in NGC 6505    $\\thanks{This paper is published on behalf of the Euclid Consortium}$\n",
       "\n",
       "</div>\n",
       "<div id=\"comments\">\n",
       "\n",
       "[![arXiv](https://img.shields.io/badge/arXiv-2502.06505-b31b1b.svg)](https://arxiv.org/abs/2502.06505)<mark>Appeared on: 2025-02-11</mark> -  _Accepted in A&A. Press release: this https URL_\n",
       "\n",
       "</div>\n",
       "<div id=\"authors\">\n",
       "\n",
       "C. M. O'Riordan, et al. -- incl., <mark>M. Schirmer</mark>\n",
       "\n",
       "</div>\n",
       "<div id=\"abstract\">\n",
       "\n",
       "**Abstract:** We report the discovery of a complete Einstein ring around the elliptical galaxy $\\galaxyname$ , at $z=0.042$ . This is the first strong gravitational lens discovered in $\\Euclid$ and the first in an NGC object from any survey. The combination of the low redshift of the lens galaxy, the brightness of the source galaxy ( $\\IE=18.1$ lensed, $\\IE=21.3$ unlensed), and the completeness of the ring make this an exceptionally rare strong lens, unidentified until its observation by $\\Euclid$ . We present deep imaging data of the lens from the $\\Euclid$ Visible Camera (VIS) and Near-Infrared Spectrometer and Photometer (NISP) instruments, as well as resolved spectroscopy from the _Keck_ Cosmic Web Imager (KCWI). The $\\Euclid$ imaging in particular presents one of the highest signal-to-noise ratio optical/near-infrared observations of a strong gravitational lens to date. From the KCWI data we measure a source redshift of $z=0.406$ . Using data from the Dark Energy Spectroscopic Instrument (DESI) we measure a velocity dispersion for the lens galaxy of $\\sigma_\\star=303\\pm15 \\kms$ . We model the lens galaxy light in detail, revealing angular structure that varies inside the Einstein ring. After subtracting this light model from the VIS observation, we model the strongly lensed images, finding an Einstein radius of $\\ang{;;2.5}$ , corresponding to $2.1 \\mathrm{kpc}$ at the redshift of the lens. This is small compared to the effective radius of the galaxy, $R_\\mathrm{eff}\\sim \\ang{;;12.3}$ . Combining the strong lensing measurements with analysis of the spectroscopic data we estimate a dark matter fraction inside the Einstein radius of $\\dmfraction = (11.1_{-3.5}^{+5.4})\\%$ and a stellar initial mass-function (IMF) mismatch parameter of $\\imfmismatch = 1.26_{-0.08}^{+0.05}$ , indicating a heavier-than-Chabrier IMF in the centre of the galaxy.\n",
       "\n",
       "</div>\n",
       "\n",
       "<div id=\"div_fig1\">\n",
       "\n",
       "<img src=\"tmp_2502.06505/./isophote_properties_new_m1.png\" alt=\"Fig1\" width=\"100%\"/>\n",
       "\n",
       "**Figure 1. -** Properties of the lens galaxy isophotes as a function of the elliptical semi-major axis. _Top panel_: the axis ratio, $q=b/a$, _middle panel_: the position angle of the major axis, _bottom panel_: the total amplitude of multipole perturbations of orders $m=1,3,4$. The multipole perturbations are formulated such that a positive order $m=4$ amplitude produces boxiness. The dotted horizontal line and shaded area indicate the median $m=4$ amplitude measured by the lens modelling only, and its uncertainty respectively. The vertical dashed line indicates the elliptical radius at the critical curve, equivalent to the Einstein radius. (*fig:isophote-properties*)\n",
       "\n",
       "</div>\n",
       "<div id=\"div_fig2\">\n",
       "\n",
       "<img src=\"tmp_2502.06505/./light_model.png\" alt=\"Fig7\" width=\"100%\"/>\n",
       "\n",
       "**Figure 7. -** Modelling of the lens galaxy light profile. _Left_: Isophotes from the final light model plotted with data isophotes in the inner region of NGC 6505. The lensed source emission and emission from other compact sources are visible in the data isophotes. _Middle_: The difference between the data and the model, normalised by the noise in each pixel. Empty pixels are those masked from the fitting procedure. The residuals here show no evidence of a central strongly lensed image. _Right_: The lens light subtracted data, to be used for strong lens modelling presented in Sect. \\ref{sec:lens-modelling}. The white circle indicates the compact source of emission included in the lens model. (*fig:vis-light-model*)\n",
       "\n",
       "</div>\n",
       "<div id=\"div_fig3\">\n",
       "\n",
       "<img src=\"tmp_2502.06505/./lens_model.png\" alt=\"Fig8\" width=\"100%\"/>\n",
       "\n",
       "**Figure 8. -** Elliptical power-law plus external shear and multipole model of the strongly lensed images. (A) the VIS data with the four lensed images labelled as in Table \\ref{tab:image-properties}, (B) the maximum a posteriori model, both in arbitrary flux units, (C) the normalised residuals, and (D) the pixellated source reconstruction in the same units as the data and model. Solid curves in the image plane and source plane are the critical curves and caustics respectively. In (A) and (B) the mask used to model the data is indicated by the dotted white shapes. The physical scale in the source plane is indicated. (*fig:lens-modelling*)\n",
       "\n",
       "</div><div id=\"qrcode\"><img src=https://api.qrserver.com/v1/create-qr-code/?size=100x100&data=\"https://arxiv.org/abs/2502.06505\"></div>"
      ],
      "text/plain": [
       "<IPython.core.display.Markdown object>"
      ]
     },
     "metadata": {},
     "output_type": "display_data"
    },
    {
     "data": {
      "text/markdown": [
       "<div class=\"macros\" style=\"visibility:hidden;\">\n",
       "$\\newcommand{\\ensuremath}{}$\n",
       "$\\newcommand{\\xspace}{}$\n",
       "$\\newcommand{\\object}[1]{\\texttt{#1}}$\n",
       "$\\newcommand{\\farcs}{{.}''}$\n",
       "$\\newcommand{\\farcm}{{.}'}$\n",
       "$\\newcommand{\\arcsec}{''}$\n",
       "$\\newcommand{\\arcmin}{'}$\n",
       "$\\newcommand{\\ion}[2]{#1#2}$\n",
       "$\\newcommand{\\textsc}[1]{\\textrm{#1}}$\n",
       "$\\newcommand{\\hl}[1]{\\textrm{#1}}$\n",
       "$\\newcommand{\\footnote}[1]{}$\n",
       "$\\newcommand{\\gcnote}[1]{\\textcolor{orange}{\\textbf{[GC: #1]}}}$\n",
       "$\\newcommand{\\thefootnote}{\\arabic{footnote}}$\n",
       "$\\newcommand{\\footnoterule}$\n",
       "$\\newcommand{\\footnoterule}$\n",
       "$\\newcommand{\\footnoterule}$\n",
       "$\\newcommand\\cl{#1}$\n",
       "$\\newcommand\\cf{#1}$\n",
       "$\\newcommand\\cn{#1}$\n",
       "$\\newcommand\\cx{#1}$\n",
       "$\\newcommand\\rb{#1}$</div>\n",
       "\n",
       "\n",
       "\n",
       "<div id=\"title\">\n",
       "\n",
       "# Radial velocity homogeneous analysis of M dwarfs observed with HARPS. II. Detection limits and planetary occurrence statistics\n",
       "\n",
       "</div>\n",
       "<div id=\"comments\">\n",
       "\n",
       "[![arXiv](https://img.shields.io/badge/arXiv-2502.06553-b31b1b.svg)](https://arxiv.org/abs/2502.06553)<mark>Appeared on: 2025-02-11</mark> - \n",
       "\n",
       "</div>\n",
       "<div id=\"authors\">\n",
       "\n",
       "L. Mignon, et al. -- incl., <mark>R. Burn</mark>\n",
       "\n",
       "</div>\n",
       "<div id=\"abstract\">\n",
       "\n",
       "**Abstract:**            We re-determine planetary occurrences around M dwarfs using 20 years of observations from HARPS on 197 targets. The first aim of this study is to propose more precise occurrence rates using the large volume of the sample but also variations to previous calculations, particularly by considering multiplicity, which is now an integral part of planetary occurrence calculations. The second aim is to exploit the extreme longevity of HARPS to determine occurrence rates in the unexplored domain of very long periods. This work relies entirely on the 197 radial velocity time series obtained and analysed in our previous study. By considering they are cleaned of any detectable signal, we convert them into detection limits. We use these 197 limits to produce a detectability map and combine it with confirmed planet detections to establish our occurrence rates. Finally, we also convert the detection limits from orbital period to insolation in order to construct an occurrence statistics for the temperate zone. We find a strong prevalence of low-mass planets around M dwarfs, with an occurrence rate of 120% for planets with a mass between 0.75 and 3 Me. In addition, we compute an occurrence rate of 45.3% +20-16% for temperate zone planets around M dwarfs. We obtain an occurrence rate of a few percent for giant planets with wide separations. In our sample these giant planets with wide separations are only detected around the most massive M dwarfs.         \n",
       "\n",
       "</div>\n",
       "\n",
       "<div id=\"div_fig1\">\n",
       "\n",
       "<img src=\"tmp_2502.06553/./stat-occu-pla_cand_sup35_decale.png\" alt=\"Fig3\" width=\"100%\"/>\n",
       "\n",
       "**Figure 3. -** Planetary occurrence statistics obtained on the sub-sample of M-dwarfs with $\\rm M_* > 0.35 M_{\\odot}$ (*statocc_sup35*)\n",
       "\n",
       "</div>\n",
       "<div id=\"div_fig2\">\n",
       "\n",
       "<img src=\"tmp_2502.06553/./stat-occu-pla_cand_inf35_decale.png\" alt=\"Fig4\" width=\"100%\"/>\n",
       "\n",
       "**Figure 4. -** Planetary occurrence statistics obtained on the sub-sample of M-dwarfs with $\\rm M_* < 0.35 M_{\\odot}$ (*statocc_inf35*)\n",
       "\n",
       "</div>\n",
       "<div id=\"div_fig3\">\n",
       "\n",
       "<img src=\"tmp_2502.06553/./stat-occu_cand_gde.png\" alt=\"Fig11\" width=\"100%\"/>\n",
       "\n",
       "**Figure 11. -** Planetary occurrence statistic. Colours in the background refer to the detection limit map, from the non-reachable region (grey) to the unmissable one (white). The grey points represent the considered detections while the red points represent the candidates. The grey horizontal and vertical lines delineate the probed domains. The computed occurrence rates (along with their corresponding statistical bounds) are indicated at the center of each domain. (*statocc*)\n",
       "\n",
       "</div><div id=\"qrcode\"><img src=https://api.qrserver.com/v1/create-qr-code/?size=100x100&data=\"https://arxiv.org/abs/2502.06553\"></div>"
      ],
      "text/plain": [
       "<IPython.core.display.Markdown object>"
      ]
     },
     "metadata": {},
     "output_type": "display_data"
    }
   ],
   "source": [
    "[display(Markdown(k[1])) for k in documents];"
   ]
  },
  {
   "cell_type": "markdown",
   "id": "873873a4",
   "metadata": {
    "papermill": {
     "duration": 0.005389,
     "end_time": "2025-02-11T04:12:35.127019",
     "exception": false,
     "start_time": "2025-02-11T04:12:35.121630",
     "status": "completed"
    },
    "tags": []
   },
   "source": [
    "# Create HTML index"
   ]
  },
  {
   "cell_type": "code",
   "execution_count": 10,
   "id": "cf665672",
   "metadata": {
    "execution": {
     "iopub.execute_input": "2025-02-11T04:12:35.138696Z",
     "iopub.status.busy": "2025-02-11T04:12:35.138506Z",
     "iopub.status.idle": "2025-02-11T04:12:35.147300Z",
     "shell.execute_reply": "2025-02-11T04:12:35.146762Z"
    },
    "papermill": {
     "duration": 0.015666,
     "end_time": "2025-02-11T04:12:35.148295",
     "exception": false,
     "start_time": "2025-02-11T04:12:35.132629",
     "status": "completed"
    },
    "tags": []
   },
   "outputs": [
    {
     "name": "stdout",
     "output_type": "stream",
     "text": [
      "329  publications files modified in the last 7 days.\n"
     ]
    }
   ],
   "source": [
    "from datetime import datetime, timedelta, timezone\n",
    "from glob import glob\n",
    "import os\n",
    "\n",
    "files = glob('_build/html/*.md')\n",
    "days = 7\n",
    "now = datetime.today()\n",
    "res = []\n",
    "for fk in files:\n",
    "    stat_result = os.stat(fk).st_ctime\n",
    "    modified = datetime.fromtimestamp(stat_result, tz=timezone.utc).replace(tzinfo=None)\n",
    "    delta = now.today() - modified\n",
    "    if delta <= timedelta(days=days):\n",
    "        res.append((delta.seconds, fk))\n",
    "res = [k[1] for k in reversed(sorted(res, key=lambda x:x[1]))]\n",
    "npub = len(res)\n",
    "print(len(res), f\" publications files modified in the last {days:d} days.\")\n",
    "# [ print('\\t', k) for k in res ];"
   ]
  },
  {
   "cell_type": "code",
   "execution_count": 11,
   "id": "015de740",
   "metadata": {
    "execution": {
     "iopub.execute_input": "2025-02-11T04:12:35.159733Z",
     "iopub.status.busy": "2025-02-11T04:12:35.159535Z",
     "iopub.status.idle": "2025-02-11T04:12:35.177847Z",
     "shell.execute_reply": "2025-02-11T04:12:35.177350Z"
    },
    "papermill": {
     "duration": 0.025199,
     "end_time": "2025-02-11T04:12:35.178877",
     "exception": false,
     "start_time": "2025-02-11T04:12:35.153678",
     "status": "completed"
    },
    "tags": []
   },
   "outputs": [
    {
     "name": "stdout",
     "output_type": "stream",
     "text": [
      "5  publications in the last 7 days.\n"
     ]
    }
   ],
   "source": [
    "import datetime\n",
    "from glob import glob\n",
    "\n",
    "def get_last_n_days(lst, days=1):\n",
    "    \"\"\" Get the documents from the last n days \"\"\"\n",
    "    sorted_lst = sorted(lst, key=lambda x: x[1], reverse=True)\n",
    "    for fname, date in sorted_lst:\n",
    "        if date >= str(datetime.date.today() - datetime.timedelta(days=days)):\n",
    "            yield fname\n",
    "\n",
    "def extract_appearance_dates(lst_file):\n",
    "    dates = []\n",
    "\n",
    "    def get_date(line):\n",
    "        return line\\\n",
    "            .split('Appeared on:')[-1]\\\n",
    "            .split('</mark>')[0].strip()\n",
    "\n",
    "    for fname in lst:\n",
    "        with open(fname, 'r') as f:\n",
    "            found_date = False\n",
    "            for line in f:\n",
    "                if not found_date:\n",
    "                    if \"Appeared on\" in line:\n",
    "                        found_date = True\n",
    "                        dates.append((fname, get_date(line)))\n",
    "                else:\n",
    "                    break\n",
    "    return dates\n",
    "\n",
    "from glob import glob\n",
    "lst = glob('_build/html/*md')\n",
    "days = 7\n",
    "dates = extract_appearance_dates(lst)\n",
    "res = list(get_last_n_days(dates, days))\n",
    "npub = len(res)\n",
    "print(len(res), f\" publications in the last {days:d} days.\")"
   ]
  },
  {
   "cell_type": "code",
   "execution_count": 12,
   "id": "52ca0208",
   "metadata": {
    "execution": {
     "iopub.execute_input": "2025-02-11T04:12:35.190902Z",
     "iopub.status.busy": "2025-02-11T04:12:35.190451Z",
     "iopub.status.idle": "2025-02-11T04:12:35.195261Z",
     "shell.execute_reply": "2025-02-11T04:12:35.194725Z"
    },
    "papermill": {
     "duration": 0.011844,
     "end_time": "2025-02-11T04:12:35.196268",
     "exception": false,
     "start_time": "2025-02-11T04:12:35.184424",
     "status": "completed"
    },
    "scrolled": false,
    "tags": []
   },
   "outputs": [],
   "source": [
    "def create_carousel(npub=4):\n",
    "    \"\"\" Generate the HTML code for a carousel with `npub` slides \"\"\"\n",
    "    carousel = [\"\"\"  <div class=\"carousel\" \"\"\",\n",
    "                \"\"\"       data-flickity='{ \"autoPlay\": 10000, \"adaptiveHeight\": true, \"resize\": true, \"wrapAround\": true, \"pauseAutoPlayOnHover\": true, \"groupCells\": 1 }' id=\"asyncTypeset\">\"\"\"\n",
    "                ]\n",
    "    \n",
    "    item_str = \"\"\"    <div class=\"carousel-cell\"> <div id=\"slide{k}\" class=\"md_view\">Content {k}</div> </div>\"\"\"\n",
    "    for k in range(1, npub + 1):\n",
    "        carousel.append(item_str.format(k=k))\n",
    "    carousel.append(\"  </div>\")\n",
    "    return '\\n'.join(carousel)\n",
    "\n",
    "def create_grid(npub=4):\n",
    "    \"\"\" Generate the HTML code for a flat grid with `npub` slides \"\"\"\n",
    "    grid = [\"\"\"  <div class=\"grid\"> \"\"\",\n",
    "                ]\n",
    "    \n",
    "    item_str = \"\"\"    <div class=\"grid-item\"> <div id=\"slide{k}\" class=\"md_view\">Content {k}</div> </div>\"\"\"\n",
    "    for k in range(1, npub + 1):\n",
    "        grid.append(item_str.format(k=k))\n",
    "    grid.append(\"  </div>\")\n",
    "    return '\\n'.join(grid)"
   ]
  },
  {
   "cell_type": "code",
   "execution_count": 13,
   "id": "a6eac5b6",
   "metadata": {
    "execution": {
     "iopub.execute_input": "2025-02-11T04:12:35.208040Z",
     "iopub.status.busy": "2025-02-11T04:12:35.207849Z",
     "iopub.status.idle": "2025-02-11T04:12:35.212997Z",
     "shell.execute_reply": "2025-02-11T04:12:35.212354Z"
    },
    "papermill": {
     "duration": 0.012094,
     "end_time": "2025-02-11T04:12:35.213928",
     "exception": false,
     "start_time": "2025-02-11T04:12:35.201834",
     "status": "completed"
    },
    "scrolled": false,
    "tags": []
   },
   "outputs": [],
   "source": [
    "carousel = create_carousel(npub)\n",
    "docs = ', '.join(['\"{0:s}\"'.format(k.split('/')[-1]) for k in res])\n",
    "slides = ', '.join([f'\"slide{k}\"' for k in range(1, npub + 1)])\n",
    "\n",
    "with open(\"daily_template.html\", \"r\") as tpl:\n",
    "    page = tpl.read()\n",
    "    page = page.replace(\"{%-- carousel:s --%}\", carousel)\\\n",
    "               .replace(\"{%-- suptitle:s --%}\",  \"7-day archives\" )\\\n",
    "               .replace(\"{%-- docs:s --%}\", docs)\\\n",
    "               .replace(\"{%-- slides:s --%}\", slides)\n",
    "    \n",
    "with open(\"_build/html/index_7days.html\", 'w') as fout:\n",
    "    fout.write(page)"
   ]
  },
  {
   "cell_type": "code",
   "execution_count": 14,
   "id": "adc1a1ec",
   "metadata": {
    "execution": {
     "iopub.execute_input": "2025-02-11T04:12:35.225755Z",
     "iopub.status.busy": "2025-02-11T04:12:35.225564Z",
     "iopub.status.idle": "2025-02-11T04:12:35.232085Z",
     "shell.execute_reply": "2025-02-11T04:12:35.231566Z"
    },
    "papermill": {
     "duration": 0.013568,
     "end_time": "2025-02-11T04:12:35.233099",
     "exception": false,
     "start_time": "2025-02-11T04:12:35.219531",
     "status": "completed"
    },
    "tags": []
   },
   "outputs": [
    {
     "name": "stdout",
     "output_type": "stream",
     "text": [
      "2  publications in the last day.\n"
     ]
    }
   ],
   "source": [
    "# redo for today\n",
    "days = 1\n",
    "res = list(get_last_n_days(dates, days))\n",
    "npub = len(res)\n",
    "print(len(res), f\" publications in the last day.\")\n",
    "\n",
    "carousel = create_carousel(npub)\n",
    "docs = ', '.join(['\"{0:s}\"'.format(k.split('/')[-1]) for k in res])\n",
    "slides = ', '.join([f'\"slide{k}\"' for k in range(1, npub + 1)])\n",
    "\n",
    "with open(\"daily_template.html\", \"r\") as tpl:\n",
    "    page = tpl.read()\n",
    "    page = page.replace(\"{%-- carousel:s --%}\", carousel)\\\n",
    "               .replace(\"{%-- suptitle:s --%}\",  \"Daily\" )\\\n",
    "               .replace(\"{%-- docs:s --%}\", docs)\\\n",
    "               .replace(\"{%-- slides:s --%}\", slides)\n",
    "    \n",
    "# print(carousel, docs, slides)\n",
    "# print(page)\n",
    "with open(\"_build/html/index_daily.html\", 'w') as fout:\n",
    "    fout.write(page)"
   ]
  },
  {
   "cell_type": "code",
   "execution_count": 15,
   "id": "00eece82",
   "metadata": {
    "execution": {
     "iopub.execute_input": "2025-02-11T04:12:35.245678Z",
     "iopub.status.busy": "2025-02-11T04:12:35.245064Z",
     "iopub.status.idle": "2025-02-11T04:12:35.251477Z",
     "shell.execute_reply": "2025-02-11T04:12:35.250935Z"
    },
    "papermill": {
     "duration": 0.013595,
     "end_time": "2025-02-11T04:12:35.252423",
     "exception": false,
     "start_time": "2025-02-11T04:12:35.238828",
     "status": "completed"
    },
    "scrolled": false,
    "tags": []
   },
   "outputs": [
    {
     "name": "stdout",
     "output_type": "stream",
     "text": [
      "6  6 publications selected.\n"
     ]
    }
   ],
   "source": [
    "# Create the flat grid of the last N papers (fixed number regardless of dates)\n",
    "from itertools import islice \n",
    "\n",
    "npub = 6\n",
    "res = [k[0] for k in (islice(reversed(sorted(dates, key=lambda x: x[1])), 6))]\n",
    "print(len(res), f\" {npub} publications selected.\")\n",
    "\n",
    "grid = create_grid(npub)\n",
    "docs = ', '.join(['\"{0:s}\"'.format(k.split('/')[-1]) for k in res])\n",
    "slides = ', '.join([f'\"slide{k}\"' for k in range(1, npub + 1)])\n",
    "\n",
    "with open(\"grid_template.html\", \"r\") as tpl:\n",
    "    page = tpl.read()\n",
    "    page = page.replace(\"{%-- grid-content:s --%}\", grid)\\\n",
    "               .replace(\"{%-- suptitle:s --%}\",  f\"Last {npub:,d} papers\" )\\\n",
    "               .replace(\"{%-- docs:s --%}\", docs)\\\n",
    "               .replace(\"{%-- slides:s --%}\", slides)\n",
    "    \n",
    "# print(grid, docs, slides)\n",
    "# print(page)\n",
    "with open(\"_build/html/index_npub_grid.html\", 'w') as fout:\n",
    "    fout.write(page)"
   ]
  }
 ],
 "metadata": {
  "kernelspec": {
   "display_name": "Python 3 (ipykernel)",
   "language": "python",
   "name": "python3"
  },
  "language_info": {
   "codemirror_mode": {
    "name": "ipython",
    "version": 3
   },
   "file_extension": ".py",
   "mimetype": "text/x-python",
   "name": "python",
   "nbconvert_exporter": "python",
   "pygments_lexer": "ipython3",
   "version": "3.9.21"
  },
  "papermill": {
   "default_parameters": {},
   "duration": 103.270441,
   "end_time": "2025-02-11T04:12:35.474008",
   "environment_variables": {},
   "exception": null,
   "input_path": "MPIA daily digest.ipynb",
   "output_path": "log.ipynb",
   "parameters": {},
   "start_time": "2025-02-11T04:10:52.203567",
   "version": "2.6.0"
  },
  "vscode": {
   "interpreter": {
    "hash": "aee8b7b246df8f9039afb4144a1f6fd8d2ca17a180786b69acc140d282b71a49"
   }
  },
  "widgets": {
   "application/vnd.jupyter.widget-state+json": {
    "state": {
     "0ec7ee327d1d4b6ca04d82c9aa629c1e": {
      "model_module": "@jupyter-widgets/base",
      "model_module_version": "2.0.0",
      "model_name": "LayoutModel",
      "state": {
       "_model_module": "@jupyter-widgets/base",
       "_model_module_version": "2.0.0",
       "_model_name": "LayoutModel",
       "_view_count": null,
       "_view_module": "@jupyter-widgets/base",
       "_view_module_version": "2.0.0",
       "_view_name": "LayoutView",
       "align_content": null,
       "align_items": null,
       "align_self": null,
       "border_bottom": null,
       "border_left": null,
       "border_right": null,
       "border_top": null,
       "bottom": null,
       "display": null,
       "flex": null,
       "flex_flow": null,
       "grid_area": null,
       "grid_auto_columns": null,
       "grid_auto_flow": null,
       "grid_auto_rows": null,
       "grid_column": null,
       "grid_gap": null,
       "grid_row": null,
       "grid_template_areas": null,
       "grid_template_columns": null,
       "grid_template_rows": null,
       "height": null,
       "justify_content": null,
       "justify_items": null,
       "left": null,
       "margin": null,
       "max_height": null,
       "max_width": null,
       "min_height": null,
       "min_width": null,
       "object_fit": null,
       "object_position": null,
       "order": null,
       "overflow": null,
       "padding": null,
       "right": null,
       "top": null,
       "visibility": null,
       "width": null
      }
     },
     "33a35478423443edad795ce4e48c1bd3": {
      "model_module": "@jupyter-widgets/base",
      "model_module_version": "2.0.0",
      "model_name": "LayoutModel",
      "state": {
       "_model_module": "@jupyter-widgets/base",
       "_model_module_version": "2.0.0",
       "_model_name": "LayoutModel",
       "_view_count": null,
       "_view_module": "@jupyter-widgets/base",
       "_view_module_version": "2.0.0",
       "_view_name": "LayoutView",
       "align_content": null,
       "align_items": null,
       "align_self": null,
       "border_bottom": null,
       "border_left": null,
       "border_right": null,
       "border_top": null,
       "bottom": null,
       "display": null,
       "flex": null,
       "flex_flow": null,
       "grid_area": null,
       "grid_auto_columns": null,
       "grid_auto_flow": null,
       "grid_auto_rows": null,
       "grid_column": null,
       "grid_gap": null,
       "grid_row": null,
       "grid_template_areas": null,
       "grid_template_columns": null,
       "grid_template_rows": null,
       "height": null,
       "justify_content": null,
       "justify_items": null,
       "left": null,
       "margin": null,
       "max_height": null,
       "max_width": null,
       "min_height": null,
       "min_width": null,
       "object_fit": null,
       "object_position": null,
       "order": null,
       "overflow": null,
       "padding": null,
       "right": null,
       "top": null,
       "visibility": null,
       "width": null
      }
     },
     "386e14a65f284c43bcb72bc265eba88a": {
      "model_module": "@jupyter-widgets/controls",
      "model_module_version": "2.0.0",
      "model_name": "FloatProgressModel",
      "state": {
       "_dom_classes": [],
       "_model_module": "@jupyter-widgets/controls",
       "_model_module_version": "2.0.0",
       "_model_name": "FloatProgressModel",
       "_view_count": null,
       "_view_module": "@jupyter-widgets/controls",
       "_view_module_version": "2.0.0",
       "_view_name": "ProgressView",
       "bar_style": "success",
       "description": "",
       "description_allow_html": false,
       "layout": "IPY_MODEL_4ddcc5ca08b04020bd9c3e012fe42e84",
       "max": 6.0,
       "min": 0.0,
       "orientation": "horizontal",
       "style": "IPY_MODEL_62a7fc42d8bd44489c885cb438c867a3",
       "tabbable": null,
       "tooltip": null,
       "value": 6.0
      }
     },
     "4ddcc5ca08b04020bd9c3e012fe42e84": {
      "model_module": "@jupyter-widgets/base",
      "model_module_version": "2.0.0",
      "model_name": "LayoutModel",
      "state": {
       "_model_module": "@jupyter-widgets/base",
       "_model_module_version": "2.0.0",
       "_model_name": "LayoutModel",
       "_view_count": null,
       "_view_module": "@jupyter-widgets/base",
       "_view_module_version": "2.0.0",
       "_view_name": "LayoutView",
       "align_content": null,
       "align_items": null,
       "align_self": null,
       "border_bottom": null,
       "border_left": null,
       "border_right": null,
       "border_top": null,
       "bottom": null,
       "display": null,
       "flex": null,
       "flex_flow": null,
       "grid_area": null,
       "grid_auto_columns": null,
       "grid_auto_flow": null,
       "grid_auto_rows": null,
       "grid_column": null,
       "grid_gap": null,
       "grid_row": null,
       "grid_template_areas": null,
       "grid_template_columns": null,
       "grid_template_rows": null,
       "height": null,
       "justify_content": null,
       "justify_items": null,
       "left": null,
       "margin": null,
       "max_height": null,
       "max_width": null,
       "min_height": null,
       "min_width": null,
       "object_fit": null,
       "object_position": null,
       "order": null,
       "overflow": null,
       "padding": null,
       "right": null,
       "top": null,
       "visibility": null,
       "width": null
      }
     },
     "51780587486e45858117ccb7a6a0b376": {
      "model_module": "@jupyter-widgets/controls",
      "model_module_version": "2.0.0",
      "model_name": "HBoxModel",
      "state": {
       "_dom_classes": [],
       "_model_module": "@jupyter-widgets/controls",
       "_model_module_version": "2.0.0",
       "_model_name": "HBoxModel",
       "_view_count": null,
       "_view_module": "@jupyter-widgets/controls",
       "_view_module_version": "2.0.0",
       "_view_name": "HBoxView",
       "box_style": "",
       "children": [
        "IPY_MODEL_c3b9c71d2bda4972931386b5551d69de",
        "IPY_MODEL_386e14a65f284c43bcb72bc265eba88a",
        "IPY_MODEL_9ae93944c55448bd9329a075a6689058"
       ],
       "layout": "IPY_MODEL_e0ae98153f5f4ee29ca375ff5d03693f",
       "tabbable": null,
       "tooltip": null
      }
     },
     "62a7fc42d8bd44489c885cb438c867a3": {
      "model_module": "@jupyter-widgets/controls",
      "model_module_version": "2.0.0",
      "model_name": "ProgressStyleModel",
      "state": {
       "_model_module": "@jupyter-widgets/controls",
       "_model_module_version": "2.0.0",
       "_model_name": "ProgressStyleModel",
       "_view_count": null,
       "_view_module": "@jupyter-widgets/base",
       "_view_module_version": "2.0.0",
       "_view_name": "StyleView",
       "bar_color": null,
       "description_width": ""
      }
     },
     "9ae93944c55448bd9329a075a6689058": {
      "model_module": "@jupyter-widgets/controls",
      "model_module_version": "2.0.0",
      "model_name": "HTMLModel",
      "state": {
       "_dom_classes": [],
       "_model_module": "@jupyter-widgets/controls",
       "_model_module_version": "2.0.0",
       "_model_name": "HTMLModel",
       "_view_count": null,
       "_view_module": "@jupyter-widgets/controls",
       "_view_module_version": "2.0.0",
       "_view_name": "HTMLView",
       "description": "",
       "description_allow_html": false,
       "layout": "IPY_MODEL_33a35478423443edad795ce4e48c1bd3",
       "placeholder": "​",
       "style": "IPY_MODEL_fea456f735c647b4b895326db62836c1",
       "tabbable": null,
       "tooltip": null,
       "value": " 6/6 [01:23&lt;00:00, 16.22s/it]"
      }
     },
     "ac1dbf609cd54743b02ceacfd49ce5d2": {
      "model_module": "@jupyter-widgets/controls",
      "model_module_version": "2.0.0",
      "model_name": "HTMLStyleModel",
      "state": {
       "_model_module": "@jupyter-widgets/controls",
       "_model_module_version": "2.0.0",
       "_model_name": "HTMLStyleModel",
       "_view_count": null,
       "_view_module": "@jupyter-widgets/base",
       "_view_module_version": "2.0.0",
       "_view_name": "StyleView",
       "background": null,
       "description_width": "",
       "font_size": null,
       "text_color": null
      }
     },
     "c3b9c71d2bda4972931386b5551d69de": {
      "model_module": "@jupyter-widgets/controls",
      "model_module_version": "2.0.0",
      "model_name": "HTMLModel",
      "state": {
       "_dom_classes": [],
       "_model_module": "@jupyter-widgets/controls",
       "_model_module_version": "2.0.0",
       "_model_name": "HTMLModel",
       "_view_count": null,
       "_view_module": "@jupyter-widgets/controls",
       "_view_module_version": "2.0.0",
       "_view_name": "HTMLView",
       "description": "",
       "description_allow_html": false,
       "layout": "IPY_MODEL_0ec7ee327d1d4b6ca04d82c9aa629c1e",
       "placeholder": "​",
       "style": "IPY_MODEL_ac1dbf609cd54743b02ceacfd49ce5d2",
       "tabbable": null,
       "tooltip": null,
       "value": "100%"
      }
     },
     "e0ae98153f5f4ee29ca375ff5d03693f": {
      "model_module": "@jupyter-widgets/base",
      "model_module_version": "2.0.0",
      "model_name": "LayoutModel",
      "state": {
       "_model_module": "@jupyter-widgets/base",
       "_model_module_version": "2.0.0",
       "_model_name": "LayoutModel",
       "_view_count": null,
       "_view_module": "@jupyter-widgets/base",
       "_view_module_version": "2.0.0",
       "_view_name": "LayoutView",
       "align_content": null,
       "align_items": null,
       "align_self": null,
       "border_bottom": null,
       "border_left": null,
       "border_right": null,
       "border_top": null,
       "bottom": null,
       "display": null,
       "flex": null,
       "flex_flow": null,
       "grid_area": null,
       "grid_auto_columns": null,
       "grid_auto_flow": null,
       "grid_auto_rows": null,
       "grid_column": null,
       "grid_gap": null,
       "grid_row": null,
       "grid_template_areas": null,
       "grid_template_columns": null,
       "grid_template_rows": null,
       "height": null,
       "justify_content": null,
       "justify_items": null,
       "left": null,
       "margin": null,
       "max_height": null,
       "max_width": null,
       "min_height": null,
       "min_width": null,
       "object_fit": null,
       "object_position": null,
       "order": null,
       "overflow": null,
       "padding": null,
       "right": null,
       "top": null,
       "visibility": null,
       "width": null
      }
     },
     "fea456f735c647b4b895326db62836c1": {
      "model_module": "@jupyter-widgets/controls",
      "model_module_version": "2.0.0",
      "model_name": "HTMLStyleModel",
      "state": {
       "_model_module": "@jupyter-widgets/controls",
       "_model_module_version": "2.0.0",
       "_model_name": "HTMLStyleModel",
       "_view_count": null,
       "_view_module": "@jupyter-widgets/base",
       "_view_module_version": "2.0.0",
       "_view_name": "StyleView",
       "background": null,
       "description_width": "",
       "font_size": null,
       "text_color": null
      }
     }
    },
    "version_major": 2,
    "version_minor": 0
   }
  }
 },
 "nbformat": 4,
 "nbformat_minor": 5
}