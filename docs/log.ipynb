{
 "cells": [
  {
   "cell_type": "markdown",
   "id": "92bcb855",
   "metadata": {
    "papermill": {
     "duration": 0.007061,
     "end_time": "2022-08-29T07:15:24.474602",
     "exception": false,
     "start_time": "2022-08-29T07:15:24.467541",
     "status": "completed"
    },
    "tags": []
   },
   "source": [
    "# MPIA Arxiv on Deck 2\n",
    "\n",
    "Contains the steps to produce the paper extractions."
   ]
  },
  {
   "cell_type": "code",
   "execution_count": 1,
   "id": "3a0d6e11",
   "metadata": {
    "execution": {
     "iopub.execute_input": "2022-08-29T07:15:24.489142Z",
     "iopub.status.busy": "2022-08-29T07:15:24.488762Z",
     "iopub.status.idle": "2022-08-29T07:15:24.709467Z",
     "shell.execute_reply": "2022-08-29T07:15:24.708532Z"
    },
    "papermill": {
     "duration": 0.2294,
     "end_time": "2022-08-29T07:15:24.712147",
     "exception": false,
     "start_time": "2022-08-29T07:15:24.482747",
     "status": "completed"
    },
    "tags": []
   },
   "outputs": [],
   "source": [
    "# Imports\n",
    "import os\n",
    "from IPython.display import Markdown, display\n",
    "from tqdm.notebook import tqdm\n",
    "import warnings\n",
    "from PIL import Image \n",
    "\n",
    "# requires arxiv_on_deck_2\n",
    "\n",
    "from arxiv_on_deck_2.arxiv2 import (get_new_papers, \n",
    "                                    get_paper_from_identifier,\n",
    "                                    retrieve_document_source, \n",
    "                                    get_markdown_badge)\n",
    "from arxiv_on_deck_2 import (latex, \n",
    "                             mpia,\n",
    "                             highlight_authors_in_list)\n",
    "\n",
    "# Sometimes images are really big\n",
    "Image.MAX_IMAGE_PIXELS = 1000000000 "
   ]
  },
  {
   "cell_type": "code",
   "execution_count": 2,
   "id": "22aa9d44",
   "metadata": {
    "execution": {
     "iopub.execute_input": "2022-08-29T07:15:24.723211Z",
     "iopub.status.busy": "2022-08-29T07:15:24.722960Z",
     "iopub.status.idle": "2022-08-29T07:15:24.730541Z",
     "shell.execute_reply": "2022-08-29T07:15:24.729658Z"
    },
    "papermill": {
     "duration": 0.015733,
     "end_time": "2022-08-29T07:15:24.732746",
     "exception": false,
     "start_time": "2022-08-29T07:15:24.717013",
     "status": "completed"
    },
    "tags": []
   },
   "outputs": [],
   "source": [
    "# Some useful definitions.\n",
    "\n",
    "class AffiliationWarning(UserWarning):\n",
    "    pass\n",
    "\n",
    "class AffiliationError(RuntimeError):\n",
    "    pass\n",
    "\n",
    "def validation(source: str):\n",
    "    \"\"\"Raises error paper during parsing of source file\n",
    "    \n",
    "    Allows checks before parsing TeX code.\n",
    "    \n",
    "    Raises AffiliationWarning\n",
    "    \"\"\"\n",
    "    check = mpia.affiliation_verifications(source, verbose=True)\n",
    "    if check is not True:\n",
    "        raise AffiliationError(\"mpia.affiliation_verifications: \" + check)\n",
    "\n",
    "        \n",
    "warnings.simplefilter('always', AffiliationWarning)"
   ]
  },
  {
   "cell_type": "code",
   "execution_count": 3,
   "id": "14622700",
   "metadata": {
    "execution": {
     "iopub.execute_input": "2022-08-29T07:15:24.743128Z",
     "iopub.status.busy": "2022-08-29T07:15:24.742865Z",
     "iopub.status.idle": "2022-08-29T07:15:24.748112Z",
     "shell.execute_reply": "2022-08-29T07:15:24.747258Z"
    },
    "papermill": {
     "duration": 0.012966,
     "end_time": "2022-08-29T07:15:24.750099",
     "exception": false,
     "start_time": "2022-08-29T07:15:24.737133",
     "status": "completed"
    },
    "tags": []
   },
   "outputs": [],
   "source": [
    "# additional CSS to consider. \n",
    "# TODO: Current into each exported file. \n",
    "#       This should be set once into the webpages directly.\n",
    "#       With only the class/id definitions in the .md files.\n",
    "\n",
    "debug_html = \"\"\"\n",
    "<style>\n",
    "#wrap{ overflow:auto; }\n",
    "#fig1{ background:yellow; width:100%; float:left; padding:5px;  }\n",
    "#fig2{ background:red; width:50%; float:left; clear:left; padding:5px;  }\n",
    "#fig3{ background:green; width:50%; float:left; padding:5px;   }\n",
    ".macros{ background:yellow; visibility:visible;}\n",
    "h1 {margin: 0 0 0 0;}\n",
    "mark {background-color:#fff3b6;}\n",
    "img {object-fit:contain; max-height:250px; display:inline-block; text-align: center;}\n",
    "</style>\n",
    "\"\"\" \n",
    "html = \"\"\"\n",
    "<style>\n",
    "#wrap{ overflow:auto; }\n",
    "#fig1{ width:100%; float:left; padding: 5px;  }\n",
    "#fig2{ width:50%; float:left; clear:left; padding: 5px;  }\n",
    "#fig3{ width:50%; float:left; padding: 5px;  }\n",
    ".macros{ visibility:hidden; height:0px; }\n",
    "h1 {margin: 0em 0 0 0;}\n",
    "mark {background-color:#fff3b6;}\n",
    "img {object-fit:contain; max-height:250px; display:inline-block; text-align: center;}\n",
    "</style>\n",
    "\"\"\""
   ]
  },
  {
   "cell_type": "markdown",
   "id": "14bd6310",
   "metadata": {
    "papermill": {
     "duration": 0.004733,
     "end_time": "2022-08-29T07:15:24.759154",
     "exception": false,
     "start_time": "2022-08-29T07:15:24.754421",
     "status": "completed"
    },
    "tags": []
   },
   "source": [
    "## get list of arxiv paper candidates\n",
    "\n",
    "We use the MPIA mitarbeiter list webpage from mpia.de to get author names\n",
    "We then get all new papers from Arxiv and match authors"
   ]
  },
  {
   "cell_type": "code",
   "execution_count": 4,
   "id": "2645e73a",
   "metadata": {
    "execution": {
     "iopub.execute_input": "2022-08-29T07:15:24.771003Z",
     "iopub.status.busy": "2022-08-29T07:15:24.770489Z",
     "iopub.status.idle": "2022-08-29T07:15:51.275789Z",
     "shell.execute_reply": "2022-08-29T07:15:51.274864Z"
    },
    "papermill": {
     "duration": 26.512896,
     "end_time": "2022-08-29T07:15:51.277707",
     "exception": false,
     "start_time": "2022-08-29T07:15:24.764811",
     "status": "completed"
    },
    "tags": []
   },
   "outputs": [
    {
     "name": "stdout",
     "output_type": "stream",
     "text": [
      "Arxiv has 42 new papers today\n",
      "          13 with possible author matches\n"
     ]
    }
   ],
   "source": [
    "# get list from MPIA website\n",
    "# it automatically filters identified non-scientists :func:`mpia.filter_non_scientists`\n",
    "mpia_authors = mpia.get_mpia_mitarbeiter_list()\n",
    "new_papers = get_new_papers()\n",
    "# add manual references\n",
    "add_paper_refs = []\n",
    "new_papers.extend([get_paper_from_identifier(k) for k in add_paper_refs])\n",
    "\n",
    "# select only papers with matching author names and highlight authors\n",
    "hl_list = [k[0] for k in mpia_authors]\n",
    "\n",
    "candidates = []\n",
    "for paperk in new_papers:\n",
    "    hl_authors = highlight_authors_in_list(paperk['authors'], hl_list)\n",
    "    matches = [(hl, orig) for hl, orig in zip(hl_authors, paperk['authors']) if 'mark' in hl]\n",
    "    paperk['authors'] = hl_authors\n",
    "    if matches:\n",
    "        candidates.append(paperk)\n",
    "print(\"\"\"Arxiv has {0:,d} new papers today\"\"\".format(len(new_papers)))        \n",
    "print(\"\"\"          {0:,d} with possible author matches\"\"\".format(len(candidates)))"
   ]
  },
  {
   "cell_type": "markdown",
   "id": "3543b34a",
   "metadata": {
    "papermill": {
     "duration": 0.046148,
     "end_time": "2022-08-29T07:15:51.330703",
     "exception": false,
     "start_time": "2022-08-29T07:15:51.284555",
     "status": "completed"
    },
    "tags": []
   },
   "source": [
    "# Parse sources and generate relevant outputs\n",
    "\n",
    "From the candidates, we do the following steps:\n",
    "* get their tarball from ArXiv (and extract data)\n",
    "* find the main .tex file: find one with \\documentclass{...} (sometimes it's non trivial)\n",
    "* Check affiliations with :func:`validation`, which uses :func:`mpia.affiliation_verifications`\n",
    "* If passing the affiliations: we parse the .tex source\n",
    "   * inject sub-documents into the main (flatten the main document)\n",
    "   * parse structure, extract information (title, abstract, authors, figures...)\n",
    "   * handles `\\graphicspath` if provided\n",
    "* Generate the .md document."
   ]
  },
  {
   "cell_type": "code",
   "execution_count": 5,
   "id": "9576b79e",
   "metadata": {
    "execution": {
     "iopub.execute_input": "2022-08-29T07:15:51.347284Z",
     "iopub.status.busy": "2022-08-29T07:15:51.346274Z",
     "iopub.status.idle": "2022-08-29T07:16:57.520658Z",
     "shell.execute_reply": "2022-08-29T07:16:57.519790Z"
    },
    "papermill": {
     "duration": 66.19146,
     "end_time": "2022-08-29T07:16:57.529222",
     "exception": false,
     "start_time": "2022-08-29T07:15:51.337762",
     "status": "completed"
    },
    "scrolled": false,
    "tags": []
   },
   "outputs": [
    {
     "data": {
      "application/json": {
       "ascii": false,
       "bar_format": null,
       "colour": null,
       "elapsed": 0.03189563751220703,
       "initial": 0,
       "n": 0,
       "ncols": null,
       "nrows": null,
       "postfix": null,
       "prefix": "",
       "rate": null,
       "total": 12,
       "unit": "it",
       "unit_divisor": 1000,
       "unit_scale": false
      },
      "application/vnd.jupyter.widget-view+json": {
       "model_id": "b6f2e9afdcd3437dba67eabd23e581a2",
       "version_major": 2,
       "version_minor": 0
      },
      "text/plain": [
       "  0%|          | 0/12 [00:00<?, ?it/s]"
      ]
     },
     "metadata": {},
     "output_type": "display_data"
    },
    {
     "name": "stdout",
     "output_type": "stream",
     "text": [
      "Retrieving document from  https://arxiv.org/e-print/2208.12274\n"
     ]
    },
    {
     "name": "stdout",
     "output_type": "stream",
     "text": [
      "extracting tarball to tmp_2208.12274..."
     ]
    },
    {
     "name": "stdout",
     "output_type": "stream",
     "text": [
      " done.\n",
      "Retrieving document from  https://arxiv.org/e-print/2208.12362\n"
     ]
    },
    {
     "name": "stdout",
     "output_type": "stream",
     "text": [
      "extracting tarball to tmp_2208.12362..."
     ]
    },
    {
     "name": "stdout",
     "output_type": "stream",
     "text": [
      " done.\n",
      "Retrieving document from  https://arxiv.org/e-print/2208.12365\n"
     ]
    },
    {
     "name": "stdout",
     "output_type": "stream",
     "text": [
      "extracting tarball to tmp_2208.12365..."
     ]
    },
    {
     "name": "stdout",
     "output_type": "stream",
     "text": [
      " done.\n",
      "Retrieving document from  https://arxiv.org/e-print/2208.12441\n"
     ]
    },
    {
     "name": "stdout",
     "output_type": "stream",
     "text": [
      "extracting tarball to tmp_2208.12441..."
     ]
    },
    {
     "name": "stdout",
     "output_type": "stream",
     "text": [
      " done.\n",
      "Retrieving document from  https://arxiv.org/e-print/2208.12451\n"
     ]
    },
    {
     "name": "stdout",
     "output_type": "stream",
     "text": [
      "extracting tarball to tmp_2208.12451..."
     ]
    },
    {
     "name": "stdout",
     "output_type": "stream",
     "text": [
      " done.\n",
      "Retrieving document from  https://arxiv.org/e-print/2208.12471\n"
     ]
    },
    {
     "name": "stdout",
     "output_type": "stream",
     "text": [
      "extracting tarball to tmp_2208.12471... done.\n",
      "Retrieving document from  https://arxiv.org/e-print/2208.12495\n"
     ]
    },
    {
     "name": "stdout",
     "output_type": "stream",
     "text": [
      "extracting tarball to tmp_2208.12495..."
     ]
    },
    {
     "name": "stdout",
     "output_type": "stream",
     "text": [
      " done.\n",
      "Retrieving document from  https://arxiv.org/e-print/2208.12556\n"
     ]
    },
    {
     "name": "stdout",
     "output_type": "stream",
     "text": [
      "extracting tarball to tmp_2208.12556..."
     ]
    },
    {
     "name": "stdout",
     "output_type": "stream",
     "text": [
      " done.\n",
      "Retrieving document from  https://arxiv.org/e-print/2208.12569\n"
     ]
    },
    {
     "name": "stdout",
     "output_type": "stream",
     "text": [
      "extracting tarball to tmp_2208.12569..."
     ]
    },
    {
     "name": "stdout",
     "output_type": "stream",
     "text": [
      " done.\n",
      "Retrieving document from  https://arxiv.org/e-print/2208.12604\n"
     ]
    },
    {
     "name": "stderr",
     "output_type": "stream",
     "text": [
      "/opt/hostedtoolcache/Python/3.9.13/x64/lib/python3.9/site-packages/IPython/core/interactiveshell.py:3398: LatexWarning: Multiple tex files.\n",
      "\n",
      "  exec(code_obj, self.user_global_ns, self.user_ns)\n",
      "/opt/hostedtoolcache/Python/3.9.13/x64/lib/python3.9/site-packages/IPython/core/interactiveshell.py:3398: LatexWarning: Found documentclass in tmp_2208.12569/FastQSL.tex\n",
      "\n",
      "  exec(code_obj, self.user_global_ns, self.user_ns)\n"
     ]
    },
    {
     "name": "stdout",
     "output_type": "stream",
     "text": [
      "extracting tarball to tmp_2208.12604..."
     ]
    },
    {
     "name": "stdout",
     "output_type": "stream",
     "text": [
      " done.\n",
      "Retrieving document from  https://arxiv.org/e-print/2208.12658\n"
     ]
    },
    {
     "name": "stderr",
     "output_type": "stream",
     "text": [
      "/tmp/ipykernel_2202/4030337529.py:34: LatexWarning: 2208.12658 did not run properly\n",
      "not a gzip file\n",
      "  warnings.warn(latex.LatexWarning(f\"{paper_id:s} did not run properly\\n\" +\n"
     ]
    },
    {
     "name": "stdout",
     "output_type": "stream",
     "text": [
      "Retrieving document from  https://arxiv.org/e-print/2208.12679\n"
     ]
    },
    {
     "name": "stdout",
     "output_type": "stream",
     "text": [
      "extracting tarball to tmp_2208.12679..."
     ]
    },
    {
     "name": "stdout",
     "output_type": "stream",
     "text": [
      " done.\n"
     ]
    },
    {
     "name": "stderr",
     "output_type": "stream",
     "text": [
      "/opt/hostedtoolcache/Python/3.9.13/x64/lib/python3.9/site-packages/IPython/core/interactiveshell.py:3398: LatexWarning: Multiple tex files.\n",
      "\n",
      "  exec(code_obj, self.user_global_ns, self.user_ns)\n",
      "/opt/hostedtoolcache/Python/3.9.13/x64/lib/python3.9/site-packages/IPython/core/interactiveshell.py:3398: LatexWarning: Found documentclass in tmp_2208.12679/main.tex\n",
      "\n",
      "  exec(code_obj, self.user_global_ns, self.user_ns)\n",
      "/opt/hostedtoolcache/Python/3.9.13/x64/lib/python3.9/site-packages/arxiv_on_deck_2/latex.py:292: LatexWarning: Latex injecting: 'can-table.tex' from 'tmp_2208.12679/can-table.tex'\n",
      "  warnings.warn(LatexWarning(f\"Latex injecting: '{ext}' from '{subsource}'\"))\n",
      "/opt/hostedtoolcache/Python/3.9.13/x64/lib/python3.9/site-packages/arxiv_on_deck_2/latex.py:292: LatexWarning: Latex injecting: 'maser-table.tex' from 'tmp_2208.12679/maser-table.tex'\n",
      "  warnings.warn(LatexWarning(f\"Latex injecting: '{ext}' from '{subsource}'\"))\n",
      "/opt/hostedtoolcache/Python/3.9.13/x64/lib/python3.9/site-packages/arxiv_on_deck_2/latex.py:292: LatexWarning: Latex injecting: '55-table.tex' from 'tmp_2208.12679/55-table.tex'\n",
      "  warnings.warn(LatexWarning(f\"Latex injecting: '{ext}' from '{subsource}'\"))\n",
      "/opt/hostedtoolcache/Python/3.9.13/x64/lib/python3.9/site-packages/arxiv_on_deck_2/latex.py:292: LatexWarning: Latex injecting: 'spectral-table.tex' from 'tmp_2208.12679/spectral-table.tex'\n",
      "  warnings.warn(LatexWarning(f\"Latex injecting: '{ext}' from '{subsource}'\"))\n"
     ]
    }
   ],
   "source": [
    "documents = []\n",
    "failed = []\n",
    "for paper in tqdm(candidates[:-1]):\n",
    "    paper_id = paper['identifier'].lower().replace('arxiv:', '')\n",
    "    \n",
    "    folder = f'tmp_{paper_id}'\n",
    "\n",
    "    try:\n",
    "        if not os.path.isdir(folder):\n",
    "            folder = retrieve_document_source(f\"{paper_id}\", f'tmp_{paper_id}')\n",
    "        \n",
    "        try:\n",
    "            doc = latex.LatexDocument(folder, validation=validation)    \n",
    "        except AffiliationError as affilerror:\n",
    "            msg = f\"ArXiv:{paper_id:s} is not an MPIA paper... \" + str(affilerror)\n",
    "            failed.append((paper, \"affiliation error: \" + str(affilerror) ))\n",
    "            continue\n",
    "        \n",
    "        # Hack because sometimes author parsing does not work well\n",
    "        if (len(doc.authors) != len(paper['authors'])):\n",
    "            doc._authors = paper['authors']\n",
    "        if (doc.abstract) in (None, ''):\n",
    "            doc._abstract = paper['abstract']\n",
    "            \n",
    "        doc.comment = (get_markdown_badge(paper_id) + \n",
    "                       \"<mark>Appeared on: \" + paper['date'] + \"</mark> - \" +\n",
    "                       \"_\" + paper['comments'] + \"_\")\n",
    "        doc.highlight_authors_in_list(hl_list)\n",
    "\n",
    "        full_md = doc.generate_markdown_text()\n",
    "        \n",
    "        documents.append((paper_id, full_md))\n",
    "    except Exception as e:\n",
    "        warnings.warn(latex.LatexWarning(f\"{paper_id:s} did not run properly\\n\" +\n",
    "                                         str(e)\n",
    "                                        ))\n",
    "        failed.append((paper, \"latex error \" + str(e)))"
   ]
  },
  {
   "cell_type": "markdown",
   "id": "2505a25c",
   "metadata": {
    "papermill": {
     "duration": 0.007148,
     "end_time": "2022-08-29T07:16:57.542834",
     "exception": false,
     "start_time": "2022-08-29T07:16:57.535686",
     "status": "completed"
    },
    "tags": []
   },
   "source": [
    "### Export the logs\n",
    "\n",
    "Throughout, we also keep track of the logs per paper. see `logs-{today date}.md` "
   ]
  },
  {
   "cell_type": "code",
   "execution_count": 6,
   "id": "d733828a",
   "metadata": {
    "execution": {
     "iopub.execute_input": "2022-08-29T07:16:57.558047Z",
     "iopub.status.busy": "2022-08-29T07:16:57.557278Z",
     "iopub.status.idle": "2022-08-29T07:16:57.588468Z",
     "shell.execute_reply": "2022-08-29T07:16:57.587445Z"
    },
    "papermill": {
     "duration": 0.040471,
     "end_time": "2022-08-29T07:16:57.590507",
     "exception": false,
     "start_time": "2022-08-29T07:16:57.550036",
     "status": "completed"
    },
    "scrolled": false,
    "tags": []
   },
   "outputs": [
    {
     "data": {
      "text/markdown": [
       "## Successful papers"
      ],
      "text/plain": [
       "<IPython.core.display.Markdown object>"
      ]
     },
     "metadata": {},
     "output_type": "display_data"
    },
    {
     "data": {
      "text/markdown": [
       "## Failed papers"
      ],
      "text/plain": [
       "<IPython.core.display.Markdown object>"
      ]
     },
     "metadata": {},
     "output_type": "display_data"
    },
    {
     "data": {
      "text/markdown": [
       "\n",
       "|||\n",
       "|---:|:---|\n",
       "| [![arXiv](https://img.shields.io/badge/arXiv-arXiv:2208.12274-b31b1b.svg)](https://arxiv.org/abs/arXiv:2208.12274) | **Indication of a Local Source of Ultra-High-Energy Cosmic Rays in the  Northern Hemisphere**  |\n",
       "|| Pavlo Plotko, Arjen van Vliet, Xavier Rodrigues, <mark>Walter Winter</mark> |\n",
       "|*Appeared on*| *2022-08-29*|\n",
       "|*Comments*| *24 pages, 10 figures, 5 tables*|\n",
       "|**Abstract**| The Pierre Auger Observatory (PAO) and Telescope Array (TA) collaborations report significant differences in the observed energy spectra of ultra-high-energy cosmic rays (UHECRs) above 30 EeV. In this work, we present a joint fit of TA and PAO data using the rigidity-dependent maximum energy model, and including full marginalization over all relevant parameters. We show that the presence of a local astrophysical source in the Northern Hemisphere, which is only visible by the TA experiment, can reconcile PAO and TA measurements up to the highest energies. We demonstrate that the presence of that local source is favored at the 5.6$\\sigma$ level compared to the scenario where both experiments observe the same UHECR flux from a cosmological source distribution. We also quantify that the astrophysical explanation can describe the current data better than a scenario where the differences in the observations are explained by experimental systematics (i.e., energy-dependent shifts). Having tested different mass compositions emitted from the local source, we conclude that the data are best described by a source lying at a distance of about 14 Mpc that emits cosmic rays dominated by the silicon mass group; we also discuss possible source candidates. |\n",
       "|<p style=\"color:green\"> **ERROR** </p>| <p style=\"color:green\">affiliation error: mpia.affiliation_verifications: 'Heidelberg' keyword not found.</p> |"
      ],
      "text/plain": [
       "<IPython.core.display.Markdown object>"
      ]
     },
     "metadata": {},
     "output_type": "display_data"
    },
    {
     "data": {
      "text/markdown": [
       "\n",
       "|||\n",
       "|---:|:---|\n",
       "| [![arXiv](https://img.shields.io/badge/arXiv-arXiv:2208.12362-b31b1b.svg)](https://arxiv.org/abs/arXiv:2208.12362) | **Laue and Fresnel lenses**  |\n",
       "|| Enrico Virgilli, <mark>Hubert Halloin</mark>, Gerald Skinner |\n",
       "|*Appeared on*| *2022-08-29*|\n",
       "|*Comments*| *43 pages, 17 Figures - accepted Chapter for publication in the Section \"Optics and Detectors for Gamma-ray Astrophysics\" of the \"Handbook of X-ray and Gamma-ray Astrophysics\" by Springer - Editors in chief: C. Bambi and A. Santangelo*|\n",
       "|**Abstract**| The low-energy gamma-ray domain is an important window for the study of the high energy Universe. Here matter can be observed in extreme physical conditions and during powerful explosive events. However, observing gamma-rays from faint sources is extremely challenging with current instrumentation. With techniques used at present collecting more signal requires larger detectors, leading to an increase in instrumental background. For the leap in sensitivity that is required for future gamma-ray missions use must be made of flux concentrating telescopes. Fortunately, gamma-ray optics such as Laue or Fresnel lenses, based on diffraction, make this possible. Laue lenses work with moderate focal lengths (tens to a few hundreds of metres), but provide only rudimentary imaging capabilities. On the other hand, Fresnel lenses offer extremely good imaging, but with a very small field of view and a requirement for focal lengths $\\sim$10$^8$ m. This chapter presents the basic concepts of these optics and describes their working principles, their main properties and some feasibility studies already conducted. |\n",
       "|<p style=\"color:green\"> **ERROR** </p>| <p style=\"color:green\">affiliation error: mpia.affiliation_verifications: 'Heidelberg' keyword not found.</p> |"
      ],
      "text/plain": [
       "<IPython.core.display.Markdown object>"
      ]
     },
     "metadata": {},
     "output_type": "display_data"
    },
    {
     "data": {
      "text/markdown": [
       "\n",
       "|||\n",
       "|---:|:---|\n",
       "| [![arXiv](https://img.shields.io/badge/arXiv-arXiv:2208.12365-b31b1b.svg)](https://arxiv.org/abs/arXiv:2208.12365) | **The Astrodust+PAH Model: A Unified Description of the Extinction,  Emission, and Polarization from Dust in the Diffuse Interstellar Medium**  |\n",
       "|| <mark>Brandon S. Hensley</mark>, B. T. Draine |\n",
       "|*Appeared on*| *2022-08-29*|\n",
       "|*Comments*| *32 pages, 18 figures. Submitted to ApJ. Data available at this https URL*|\n",
       "|**Abstract**| We present a new model of interstellar dust in which large grains are a single composite material, ``astrodust,'' and nanoparticle-sized grains come in distinct varieties including polycyclic aromatic hydrocarbons (PAHs). We argue that a single-composition model for grains larger than $\\sim0.02\\,\\mu$m most naturally explains the lack of frequency dependence in the far-infrared (FIR) polarization fraction and the characteristic ratio of optical to FIR polarization. We derive a size distribution and alignment function for 1.4:1 oblate astrodust grains that, with PAHs, reproduce the mean wavelength dependence and polarization of Galactic extinction and emission from the diffuse interstellar medium while respecting constraints on solid phase abundances. All model data and Python-based interfaces are made publicly available. |\n",
       "|<p style=\"color:green\"> **ERROR** </p>| <p style=\"color:green\">affiliation error: mpia.affiliation_verifications: 'Heidelberg' keyword not found.</p> |"
      ],
      "text/plain": [
       "<IPython.core.display.Markdown object>"
      ]
     },
     "metadata": {},
     "output_type": "display_data"
    },
    {
     "data": {
      "text/markdown": [
       "\n",
       "|||\n",
       "|---:|:---|\n",
       "| [![arXiv](https://img.shields.io/badge/arXiv-arXiv:2208.12441-b31b1b.svg)](https://arxiv.org/abs/arXiv:2208.12441) | **WALOP-South: A Four-Camera One-Shot Imaging Polarimeter for PASIPHAE  Survey. Paper II -- Polarimetric Modelling and Calibration**  |\n",
       "|| <mark>Siddharth Maharana</mark>, et al. -- incl., <mark>Tuhin Ghosh</mark>, <mark>Stephen B. Potter</mark> |\n",
       "|*Appeared on*| *2022-08-29*|\n",
       "|*Comments*| *34 pages, 24 figures. Accepted for publication in the Journal of Astronomical Telescopes, Instruments, and Systems*|\n",
       "|**Abstract**| The Wide-Area Linear Optical Polarimeter (WALOP)-South instrument is an upcoming wide-field and high-accuracy optical polarimeter to be used as a survey instrument for carrying out the Polar-Areas Stellar Imaging in Polarization High Accuracy Experiment (PASIPHAE) program. Designed to operate as a one-shot four-channel and four-camera imaging polarimeter, it will have a field of view of $35\\times 35$ arcminutes and will measure the Stokes parameters $I$, $q$, and $u$ in a single exposure in the SDSS-r broadband filter. The design goal for the instrument is to achieve an overall polarimetric measurement accuracy of 0.1 % over the entire field of view. We present here the complete polarimetric modeling of the instrument, characterizing the amount and sources of instrumental polarization. To accurately retrieve the real Stokes parameters of a source from the measured values, we have developed a calibration method for the instrument. Using this calibration method and simulated data, we demonstrate how to correct instrumental polarization and obtain 0.1 % accuracy in the degree of polarization, $p$. Additionally, we tested and validated the calibration method by implementing it on a table-top WALOP-like test-bed polarimeter in the laboratory. |\n",
       "|<p style=\"color:green\"> **ERROR** </p>| <p style=\"color:green\">affiliation error: mpia.affiliation_verifications: 'Heidelberg' keyword not found.</p> |"
      ],
      "text/plain": [
       "<IPython.core.display.Markdown object>"
      ]
     },
     "metadata": {},
     "output_type": "display_data"
    },
    {
     "data": {
      "text/markdown": [
       "\n",
       "|||\n",
       "|---:|:---|\n",
       "| [![arXiv](https://img.shields.io/badge/arXiv-arXiv:2208.12451-b31b1b.svg)](https://arxiv.org/abs/arXiv:2208.12451) | **On the formation of over-ionized plasma in evolved supernova remnants**  |\n",
       "|| Miho Katsuragawa, et al. -- incl., <mark>Shiu-Hang Lee</mark> |\n",
       "|*Appeared on*| *2022-08-29*|\n",
       "|*Comments*| *Accepted for publication in the Astrophysical Journal*|\n",
       "|**Abstract**| One of the outstanding mysteries surrounding the rich diversity found in supernova remnants (SNRs) is the recent discovery of over-ionized or recombining plasma from a number of dynamically evolved objects. To help decipher its formation mechanism, we have developed a new simulation framework capable of modeling the time evolution of the ionization state of the plasma in an SNR. The platform is based on a one-dimensional hydrodynamics code coupled to a fully time-dependent non-equilibrium ionization calculation, accompanied by a spectral synthesis code to generate space-resolved broadband X-ray spectra for SNRs at arbitrary ages. We perform a comprehensive parametric survey to investigate the effects of different circumstellar environments on the ionization state evolution in SNRs up to a few 10,000 years. A two-dimensional parameter space, spanned by arrays of interstellar medium (ISM) densities and mass-loss rates of the progenitor, is used to create a grid of models for the surrounding environment, in which a core-collapse explosion is triggered. Our results show that a recombining plasma can be successfully reproduced in the case of a young SNR (a few 100 to 1,000 years old) expanding fast in a spatially extended low-density wind, an old SNR (> a few 1,000 years) expanding in a dense ISM, or an old SNR broken out from a confined dense wind region into a tenuous ISM. Finally, our models are confronted with observations of evolved SNRs, and an overall good agreement is found except for a couple of outliers. |\n",
       "|<p style=\"color:green\"> **ERROR** </p>| <p style=\"color:green\">affiliation error: mpia.affiliation_verifications: 'Heidelberg' keyword not found.</p> |"
      ],
      "text/plain": [
       "<IPython.core.display.Markdown object>"
      ]
     },
     "metadata": {},
     "output_type": "display_data"
    },
    {
     "data": {
      "text/markdown": [
       "\n",
       "|||\n",
       "|---:|:---|\n",
       "| [![arXiv](https://img.shields.io/badge/arXiv-arXiv:2208.12471-b31b1b.svg)](https://arxiv.org/abs/arXiv:2208.12471) | **Investigating the nature of mass distribution surrounding the Galactic  supermassive black hole**  |\n",
       "|| Man Ho Chan, <mark>Chak Man Lee</mark>, Chi Wai Yu |\n",
       "|*Appeared on*| *2022-08-29*|\n",
       "|*Comments*| *Accepted in Nature Scientific Reports*|\n",
       "|**Abstract**| In the past three decades, many stars orbiting about the supermassive black hole (SMBH) at the Galactic Centre (Sgr A*) were identified. Their orbital nature can give stringent constraints for the mass of the SMBH. In particular, the star S2 has completed at least one period since our first detection of its position, which can provide rich information to examine the properties of the SMBH, and the astrophysical environment surrounding the SMBH. Here, we report an interesting phenomenon that if a significant amount of dark matter or stellar mass is distributed around the SMBH, the precession speed of the S2 stellar orbit could be `slow down' by at most 27\\% compared with that without dark matter surrounding the SMBH, assuming the optimal dark matter scenario. We anticipate that future high quality observational data of the S2 stellar orbit or other stellar orbits can help reveal the actual mass distribution near the SMBH and the nature of dark matter. |\n",
       "|<p style=\"color:green\"> **ERROR** </p>| <p style=\"color:green\">affiliation error: mpia.affiliation_verifications: 'Heidelberg' keyword not found.</p> |"
      ],
      "text/plain": [
       "<IPython.core.display.Markdown object>"
      ]
     },
     "metadata": {},
     "output_type": "display_data"
    },
    {
     "data": {
      "text/markdown": [
       "\n",
       "|||\n",
       "|---:|:---|\n",
       "| [![arXiv](https://img.shields.io/badge/arXiv-arXiv:2208.12495-b31b1b.svg)](https://arxiv.org/abs/arXiv:2208.12495) | **The HI Gas Disk Thickness of the Ultra-diffuse Galaxy AGC 242019**  |\n",
       "|| Xin Li, et al. -- incl., <mark>Zhi-Yu Zhang</mark> |\n",
       "|*Appeared on*| *2022-08-29*|\n",
       "|*Comments*| *9 pages, 7 figures. Accepted for publication in MNRAS*|\n",
       "|**Abstract**| Ultra-diffuse galaxies (UDGs) are as faint as dwarf galaxies but whose sizes are similar to those of spiral galaxies. A variety of formation mechanisms have been proposed, some of which could result in different disk thicknesses. In this study, we measure the radial profile of the HI scale height (h_g) and flaring angle (h_g/R) of AGC 242019 through the joint Poisson-Boltzmann equation based on its well spatially-resolved HI gas maps. The mean HI scale height of AGC 242019 is <h_g> \\approx 537.15 \\pm 89.4 pc, and the mean flaring angle is <h_g/R> \\approx 0.19 \\pm 0.03. As a comparison, we also derive the disk thickness for a sample of 14 dwarf irregulars. It is found that the HI disk of AGC 242019 has comparable thickness to dwarfs. This suggests that AGC 242019 is unlikely to experience much stronger stellar feedback than dwarf galaxies, which otherwise leads to a thicker disk for this galaxy. |\n",
       "|<p style=\"color:green\"> **ERROR** </p>| <p style=\"color:green\">affiliation error: mpia.affiliation_verifications: 'Heidelberg' keyword not found.</p> |"
      ],
      "text/plain": [
       "<IPython.core.display.Markdown object>"
      ]
     },
     "metadata": {},
     "output_type": "display_data"
    },
    {
     "data": {
      "text/markdown": [
       "\n",
       "|||\n",
       "|---:|:---|\n",
       "| [![arXiv](https://img.shields.io/badge/arXiv-arXiv:2208.12556-b31b1b.svg)](https://arxiv.org/abs/arXiv:2208.12556) | **Performance of the SRON Ti/Au Transition Edge Sensor X-ray Calorimeters**  |\n",
       "|| Martin de Wit, et al. -- incl., <mark>Jan-Willem A. den Herder</mark> |\n",
       "|*Appeared on*| *2022-08-29*|\n",
       "|*Comments*| *Submitted as a conference proceeding for SPIE Astronomical Telescopes + Instrumentation 2022*|\n",
       "|**Abstract**| In the early 2030s, ESAs new X-ray observatory, Athena, is scheduled to be launched. It will carry two main instruments, one of which is the X-ray Integral Field Unit (X-IFU), an X-ray imaging spectrometer, which will consist of an array of several thousand transition-edge sensors (TESs) with a proposed energy resolution of 2.5 eV for photon energies up to 7 keV. At SRON we develop the backup TES array based on Ti/Au bilayers with a transition temperature just below 100 mK. In this contribution we will give a broad overview of the properties and capabilities of these state-of-the-art detectors. Over the years we have fabricated and studied a large number of detectors with various geometries, providing us with a good understanding of how to precisely control the properties of our detectors. We are able to accurately vary the most important detector properties, such as the normal resistance, thermal conductance and critical temperature. This allows us to finely tune our detectors to meet the demands of various applications. The detectors have demonstrated excellent energy resolutions of below 1.8 eV for 5.9 keV X-rays. By tuning the properties of the devices, they can be optimally matched to various read-out schemes using both AC and DC biasing. The next step is to increase the size of our TES arrays from our current kilo-pixel arrays towards the full-sized array for X-IFU. |\n",
       "|<p style=\"color:green\"> **ERROR** </p>| <p style=\"color:green\">affiliation error: mpia.affiliation_verifications: 'Heidelberg' keyword not found.</p> |"
      ],
      "text/plain": [
       "<IPython.core.display.Markdown object>"
      ]
     },
     "metadata": {},
     "output_type": "display_data"
    },
    {
     "data": {
      "text/markdown": [
       "\n",
       "|||\n",
       "|---:|:---|\n",
       "| [![arXiv](https://img.shields.io/badge/arXiv-arXiv:2208.12569-b31b1b.svg)](https://arxiv.org/abs/arXiv:2208.12569) | **FastQSL: a fast computation method for Quasi-Separatrix Layers**  |\n",
       "|| <mark>Peijin Zhang</mark>, Jun Chen, Rui Liu, Chuanbing Wang |\n",
       "|*Appeared on*| *2022-08-29*|\n",
       "|*Comments*| **|\n",
       "|**Abstract**| Magnetic reconnection preferentially takes place at the intersection of two separatrices or two quasi-separatrix layers, which can be quantified by the squashing factor Q, whose calculation is computationally expensive due to the need to trace as many field lines as possible. We developed a method (FastQSL) optimized for obtaining Q and the twist number in a 3D data cube. FastQSL utilizes the hardware acceleration of the graphic process unit (GPU) and adopts a step-size adaptive scheme for the most computationally intensive part: tracing magnetic field lines. As a result, it achieves a computational efficiency of 4.53 million Q values per second. FastQSL is open source, and user-friendly for data import, export, and visualization. |\n",
       "|<p style=\"color:green\"> **ERROR** </p>| <p style=\"color:green\">affiliation error: mpia.affiliation_verifications: 'Heidelberg' keyword not found.</p> |"
      ],
      "text/plain": [
       "<IPython.core.display.Markdown object>"
      ]
     },
     "metadata": {},
     "output_type": "display_data"
    },
    {
     "data": {
      "text/markdown": [
       "\n",
       "|||\n",
       "|---:|:---|\n",
       "| [![arXiv](https://img.shields.io/badge/arXiv-arXiv:2208.12604-b31b1b.svg)](https://arxiv.org/abs/arXiv:2208.12604) | **Frequency domain multiplexing readout for large arrays of  transition-edge sensors**  |\n",
       "|| Davide Vaccaro, et al. -- incl., <mark>Bert-Joost van Leeuwen</mark>, <mark>Jan-Willem A. den Herder</mark> |\n",
       "|*Appeared on*| *2022-08-29*|\n",
       "|*Comments*| *Version submitted to Nuclear Instruments and Methods A for the proceedings of the Pisa Meeting 2021 conference*|\n",
       "|**Abstract**| We report our most recent progress and demonstration of a frequency domain multiplexing (FDM) readout technology for transition-edge sensor (TES) arrays, both of which we have been developing, in the framework of the X-IFU instrument on board the future Athena X-ray telescope. Using Ti/Au TES micro-calorimeters, high-Q LC filters and analog/digital electronics developed at SRON and low-noise two-stage SQUID amplifiers from VTT Finland, we demonstrated feasibility of our FDM readout technology, with the simultaneous readout of 37 pixels with an energy resolution at of 2.23 eV at an energy of 6 keV. We finally outline our plans for further scaling up and improving our technology. |\n",
       "|<p style=\"color:green\"> **ERROR** </p>| <p style=\"color:green\">affiliation error: mpia.affiliation_verifications: 'Heidelberg' keyword not found.</p> |"
      ],
      "text/plain": [
       "<IPython.core.display.Markdown object>"
      ]
     },
     "metadata": {},
     "output_type": "display_data"
    },
    {
     "data": {
      "text/markdown": [
       "\n",
       "|||\n",
       "|---:|:---|\n",
       "| [![arXiv](https://img.shields.io/badge/arXiv-arXiv:2208.12679-b31b1b.svg)](https://arxiv.org/abs/arXiv:2208.12679) | **Evidence for an interaction between the Galactic Center clouds  M0.10-0.08 and M0.11-0.11**  |\n",
       "|| Natalie O. Butterfield, et al. -- incl., <mark>Cornelia C. Lang</mark> |\n",
       "|*Appeared on*| *2022-08-29*|\n",
       "|*Comments*| *Accepted for publication in the Astrophysical Journal*|\n",
       "|**Abstract**| We present high-resolution (~2-3\"; ~0.1 pc) radio observations of the Galactic center cloud M0.10-0.08 using the Very Large Array at K and Ka band (~25 and 36 GHz). The M0.10-0.08 cloud is located in a complex environment near the Galactic center Radio Arc and the adjacent M0.11-0.11 molecular cloud. From our data, M0.10-0.08 appears to be a compact molecular cloud (~3 pc) that contains multiple compact molecular cores (5+; <0.4 pc). In this study we detect a total of 15 molecular transitions in M0.10-0.08 from the following molecules: NH3, HC3N, CH3OH, HC5N, CH3CN, and OCS. We have identified more than sixty 36 GHz CH3OH masers in M0.10-0.08 with brightness temperatures above 400 K and 31 maser candidates with temperatures between 100-400 K. We conduct a kinematic analysis of the gas using NH3 and detect multiple velocity components towards this region of the Galactic center. The bulk of the gas in this region has a velocity of 51.5 km/s (M0.10-0.08) with a lower velocity wing at 37.6 km/s. We also detect a relatively faint velocity component at 10.6 km/s that we attribute to being an extension of the M0.11-0.11 cloud. Analysis of the gas kinematics, combined with past X-ray fluorescence observations, suggests M0.10-0.08 and M0.11-0.11 are located in the same vicinity of the Galactic center and could be physically interacting. |\n",
       "|<p style=\"color:green\"> **ERROR** </p>| <p style=\"color:green\">affiliation error: mpia.affiliation_verifications: 'Heidelberg' keyword not found.</p> |"
      ],
      "text/plain": [
       "<IPython.core.display.Markdown object>"
      ]
     },
     "metadata": {},
     "output_type": "display_data"
    },
    {
     "data": {
      "text/markdown": [
       "\n",
       "|||\n",
       "|---:|:---|\n",
       "| [![arXiv](https://img.shields.io/badge/arXiv-arXiv:2208.12658-b31b1b.svg)](https://arxiv.org/abs/arXiv:2208.12658) | **The gas-phase reaction of NH2 with formaldehyde (CH2O) is not a source  of formamide (NH2CHO) in interstellar environments**  |\n",
       "|| Kevin M. Douglas, et al. -- incl., <mark>Dwayne E. Heard</mark> |\n",
       "|*Appeared on*| *2022-08-29*|\n",
       "|*Comments*| *Manuscript, 14 pages, 4 figures. Supporting Information, 8 pages, 2 figures. Accepted for publication in The Astrophysical Journal Letters*|\n",
       "|**Abstract**| The first experimental study of the low-temperature kinetics of the gas-phase reaction of NH2 with formaldehyde (CH2O) has been performed. This reaction has previously been suggested as a source of formamide (NH2CHO) in interstellar environments. A pulsed Laval nozzle equipped with laser-flash photolysis and laser-induced fluorescence spectroscopy was used to create and monitor the temporal decay of NH2 in the presence of CH2O. No loss of NH2 could be observed via reaction with CH2O and we place an upper-limit on the rate coefficient of <6x10-12 cm3 molecule-1 s-1 at 34K. Ab initio calculations of the potential energy surface were combined with RRKM calculations to predict a rate coefficient of 6.2x10-14 cm3 molecule-1 s-1 at 35K, consistent with the experimental results. The presence of a significant barrier, 18 kJ mol-1, for the formation of formamide as a product, means that only the H-abstraction channel producing NH3 + CHO, in which the transfer of an H-atom can occur by quantum mechanical tunnelling through a 23 kJ mol-1 barrier, is open at low temperatures. These results are in contrast with a recent theoretical study which suggested that the reaction could proceed without a barrier and was therefore a viable route to gas-phase formamide formation. The calculated rate coefficients were used in an astrochemical model which demonstrated that this reaction produces only negligible amounts of gas-phase formamide under interstellar and circumstellar conditions. The reaction of NH2 with CH2O is therefore not an important source of formamide at low temperatures in interstellar environments. |\n",
       "|<p style=\"color:red\"> **ERROR** </p>| <p style=\"color:red\">latex error not a gzip file</p> |"
      ],
      "text/plain": [
       "<IPython.core.display.Markdown object>"
      ]
     },
     "metadata": {},
     "output_type": "display_data"
    }
   ],
   "source": [
    "import datetime\n",
    "today = str(datetime.date.today())\n",
    "logfile = f\"_build/html/logs/log-{today}.md\"\n",
    "\n",
    "\n",
    "with open(logfile, 'w') as logs:\n",
    "    # Success\n",
    "    logs.write(f'# Arxiv on Deck 2: Logs - {today}\\n\\n')\n",
    "    logs.write(\"\"\"* Arxiv had {0:,d} new papers\\n\"\"\".format(len(new_papers)))\n",
    "    logs.write(\"\"\"    * {0:,d} with possible author matches\\n\\n\"\"\".format(len(candidates)))\n",
    "    logs.write(\"## Sucessful papers\\n\\n\")\n",
    "    display(Markdown(\"## Successful papers\"))\n",
    "    success = [k[0] for k in documents]\n",
    "    for candid in candidates:\n",
    "        if candid['identifier'].split(':')[-1] in success:\n",
    "            display(candid)\n",
    "            logs.write(candid.generate_markdown_text() + '\\n\\n')\n",
    "\n",
    "    ## failed\n",
    "    logs.write(\"## Failed papers\\n\\n\")\n",
    "    display(Markdown(\"## Failed papers\"))\n",
    "    failed = sorted(failed, key=lambda x: x[1])\n",
    "    current_reason = \"\"\n",
    "    for paper, reason in failed:\n",
    "        if 'affiliation' in reason:\n",
    "            color = 'green'\n",
    "        else:\n",
    "            color = 'red'\n",
    "        data = Markdown(\n",
    "                paper.generate_markdown_text() + \n",
    "                f'\\n|<p style=\"color:{color:s}\"> **ERROR** </p>| <p style=\"color:{color:s}\">{reason:s}</p> |'\n",
    "               )\n",
    "        if reason != current_reason:\n",
    "            logs.write(f'### {reason:s} \\n\\n')\n",
    "            current_reason = reason\n",
    "        logs.write(data.data + '\\n\\n')\n",
    "        \n",
    "        # only display here the important errors (all in logs)\n",
    "        # if color in ('red',):\n",
    "        display(data)"
   ]
  },
  {
   "cell_type": "markdown",
   "id": "472d20ee",
   "metadata": {
    "papermill": {
     "duration": 0.008092,
     "end_time": "2022-08-29T07:16:57.608073",
     "exception": false,
     "start_time": "2022-08-29T07:16:57.599981",
     "status": "completed"
    },
    "tags": []
   },
   "source": [
    "## Export documents\n",
    "\n",
    "We now write the .md files and export relevant images"
   ]
  },
  {
   "cell_type": "code",
   "execution_count": 7,
   "id": "d426aed9",
   "metadata": {
    "execution": {
     "iopub.execute_input": "2022-08-29T07:16:57.626585Z",
     "iopub.status.busy": "2022-08-29T07:16:57.626234Z",
     "iopub.status.idle": "2022-08-29T07:16:57.634867Z",
     "shell.execute_reply": "2022-08-29T07:16:57.633974Z"
    },
    "papermill": {
     "duration": 0.020072,
     "end_time": "2022-08-29T07:16:57.636585",
     "exception": false,
     "start_time": "2022-08-29T07:16:57.616513",
     "status": "completed"
    },
    "tags": []
   },
   "outputs": [],
   "source": [
    "def export_markdown_summary(md: str, md_fname:str, directory: str):\n",
    "    \"\"\"Export MD document and associated relevant images\"\"\"\n",
    "    import os\n",
    "    import shutil\n",
    "    import re\n",
    "\n",
    "    if (os.path.exists(directory) and not os.path.isdir(directory)):\n",
    "        raise RuntimeError(f\"a non-directory file exists with name {directory:s}\")\n",
    "\n",
    "    if (not os.path.exists(directory)):\n",
    "        print(f\"creating directory {directory:s}\")\n",
    "        os.mkdir(directory)\n",
    "\n",
    "    fig_fnames = (re.compile(r'\\[Fig.*\\]\\((.*)\\)').findall(md) + \n",
    "                  re.compile(r'\\<img src=\"([^>\\s]*)\"[^>]*/>').findall(md))\n",
    "    for fname in fig_fnames:\n",
    "        if 'http' in fname:\n",
    "            # No need to copy online figures\n",
    "            continue\n",
    "        destdir = os.path.join(directory, os.path.dirname(fname))\n",
    "        destfname = os.path.join(destdir, os.path.basename(fname))\n",
    "        try:\n",
    "            os.makedirs(destdir)\n",
    "        except FileExistsError:\n",
    "            pass\n",
    "        shutil.copy(fname, destfname)\n",
    "    with open(os.path.join(directory, md_fname), 'w') as fout:\n",
    "        fout.write(md)\n",
    "    print(\"exported in \", os.path.join(directory, md_fname))\n",
    "    [print(\"    + \" + os.path.join(directory,fk)) for fk in fig_fnames]"
   ]
  },
  {
   "cell_type": "code",
   "execution_count": 8,
   "id": "014d04a4",
   "metadata": {
    "execution": {
     "iopub.execute_input": "2022-08-29T07:16:57.653846Z",
     "iopub.status.busy": "2022-08-29T07:16:57.653604Z",
     "iopub.status.idle": "2022-08-29T07:16:57.657340Z",
     "shell.execute_reply": "2022-08-29T07:16:57.656462Z"
    },
    "papermill": {
     "duration": 0.014943,
     "end_time": "2022-08-29T07:16:57.659289",
     "exception": false,
     "start_time": "2022-08-29T07:16:57.644346",
     "status": "completed"
    },
    "tags": []
   },
   "outputs": [],
   "source": [
    "for paper_id, md in documents:\n",
    "    export_markdown_summary(md, f\"{paper_id:s}.md\", '_build/html/')"
   ]
  },
  {
   "cell_type": "markdown",
   "id": "f087a0a7",
   "metadata": {
    "papermill": {
     "duration": 0.007965,
     "end_time": "2022-08-29T07:16:57.675257",
     "exception": false,
     "start_time": "2022-08-29T07:16:57.667292",
     "status": "completed"
    },
    "tags": []
   },
   "source": [
    "## Display the papers\n",
    "\n",
    "Not necessary but allows for a quick check."
   ]
  },
  {
   "cell_type": "code",
   "execution_count": 9,
   "id": "fd25f625",
   "metadata": {
    "execution": {
     "iopub.execute_input": "2022-08-29T07:16:57.693732Z",
     "iopub.status.busy": "2022-08-29T07:16:57.693070Z",
     "iopub.status.idle": "2022-08-29T07:16:57.698781Z",
     "shell.execute_reply": "2022-08-29T07:16:57.697715Z"
    },
    "papermill": {
     "duration": 0.017188,
     "end_time": "2022-08-29T07:16:57.700827",
     "exception": false,
     "start_time": "2022-08-29T07:16:57.683639",
     "status": "completed"
    },
    "scrolled": false,
    "tags": []
   },
   "outputs": [],
   "source": [
    "[display(Markdown(k[1])) for k in documents];"
   ]
  },
  {
   "cell_type": "markdown",
   "id": "873873a4",
   "metadata": {
    "papermill": {
     "duration": 0.008327,
     "end_time": "2022-08-29T07:16:57.718453",
     "exception": false,
     "start_time": "2022-08-29T07:16:57.710126",
     "status": "completed"
    },
    "tags": []
   },
   "source": [
    "# Create HTML index"
   ]
  },
  {
   "cell_type": "code",
   "execution_count": 10,
   "id": "cf665672",
   "metadata": {
    "execution": {
     "iopub.execute_input": "2022-08-29T07:16:57.737371Z",
     "iopub.status.busy": "2022-08-29T07:16:57.736882Z",
     "iopub.status.idle": "2022-08-29T07:16:57.747063Z",
     "shell.execute_reply": "2022-08-29T07:16:57.745949Z"
    },
    "papermill": {
     "duration": 0.022137,
     "end_time": "2022-08-29T07:16:57.749074",
     "exception": false,
     "start_time": "2022-08-29T07:16:57.726937",
     "status": "completed"
    },
    "tags": []
   },
   "outputs": [
    {
     "name": "stdout",
     "output_type": "stream",
     "text": [
      "20  publications in the last 7 days.\n",
      "\t _build/html/2208.09335.md\n",
      "\t _build/html/2208.08872.md\n",
      "\t _build/html/2204.06393.md\n",
      "\t _build/html/2204.03335.md\n",
      "\t _build/html/2204.03253.md\n",
      "\t _build/html/2204.02998.md\n",
      "\t _build/html/2204.02109.md\n",
      "\t _build/html/2204.02017.md\n",
      "\t _build/html/2204.01824.md\n",
      "\t _build/html/2204.01758.md\n",
      "\t _build/html/2204.01245.md\n",
      "\t _build/html/2204.00793.md\n",
      "\t _build/html/2204.00342.md\n",
      "\t _build/html/2203.16959.md\n",
      "\t _build/html/2203.16856.md\n",
      "\t _build/html/2203.16735.md\n",
      "\t _build/html/2203.16734.md\n",
      "\t _build/html/2203.16504.md\n",
      "\t _build/html/2203.15822.md\n",
      "\t _build/html/2203.15811.md\n"
     ]
    }
   ],
   "source": [
    "from datetime import datetime, timedelta, timezone\n",
    "from glob import glob\n",
    "\n",
    "files = glob('_build/html/*.md')\n",
    "days = 7\n",
    "now = datetime.today()\n",
    "res = []\n",
    "for fk in files:\n",
    "    stat_result = os.stat(fk).st_ctime\n",
    "    modified = datetime.fromtimestamp(stat_result, tz=timezone.utc).replace(tzinfo=None)\n",
    "    delta = now.today() - modified\n",
    "    if delta <= timedelta(days=days):\n",
    "        res.append((delta.seconds, fk))\n",
    "res = [k[1] for k in reversed(sorted(res, key=lambda x:x[1]))]\n",
    "npub = len(res)\n",
    "print(len(res), f\" publications in the last {days:d} days.\")\n",
    "[ print('\\t', k) for k in res ];"
   ]
  },
  {
   "cell_type": "code",
   "execution_count": 11,
   "id": "52ca0208",
   "metadata": {
    "execution": {
     "iopub.execute_input": "2022-08-29T07:16:57.768481Z",
     "iopub.status.busy": "2022-08-29T07:16:57.768173Z",
     "iopub.status.idle": "2022-08-29T07:16:57.776976Z",
     "shell.execute_reply": "2022-08-29T07:16:57.776178Z"
    },
    "papermill": {
     "duration": 0.021134,
     "end_time": "2022-08-29T07:16:57.779191",
     "exception": false,
     "start_time": "2022-08-29T07:16:57.758057",
     "status": "completed"
    },
    "scrolled": false,
    "tags": []
   },
   "outputs": [],
   "source": [
    "def create_carousel(npub=4):\n",
    "    \"\"\" Generate the HTML code for a carousel with `npub` slides \"\"\"\n",
    "    carousel = [\"\"\"<section class=\"carousel\" aria-label=\"Gallery\">\"\"\",\n",
    "                \"\"\"  <ol class=\"carousel__viewport\">\"\"\",\n",
    "    ]\n",
    "    for k in range(1, npub + 1):\n",
    "        prev_ = k - 1\n",
    "        next_ = k + 1\n",
    "        if prev_ <= 0:\n",
    "            prev_ = npub\n",
    "        if next_ > npub:\n",
    "            next_ = 1\n",
    "        text  = f\"\"\"    <li id=\"carousel__slide{k}\" tabindex=\"0\" class=\"carousel__slide\">\\n\"\"\"\n",
    "        text += f\"\"\"       <div class=\"carousel__snapper\">\\n\"\"\"\n",
    "        text += f\"\"\"         <a href=\"#carousel__slide{prev_}\" class=\"carousel__prev\">Go to previous slide</a>\\n\"\"\"\n",
    "        text += f\"\"\"         <a href=\"#carousel__slide{next_}\" class=\"carousel__next\">Go to next slide</a>\\n\"\"\"\n",
    "        text += f\"\"\"         <div id=\"slide{k}_content\" class=\"md_view\" >Content {k}</div>\\n\"\"\"\n",
    "        text += f\"\"\"       </div>\\n\"\"\"\n",
    "        text += f\"\"\"    </li>\"\"\"\n",
    "        carousel.append(text)\n",
    "\n",
    "    carousel.extend([\n",
    "        \"\"\"  </ol>\"\"\",\n",
    "        \"\"\"  <aside class=\"carousel__navigation\">\"\"\",\n",
    "        \"\"\"    <ol class=\"carousel__navigation-list\">\"\"\"])\n",
    "\n",
    "    for k in range(1, npub + 1):\n",
    "        text  = f\"\"\"      <li class=\"carousel__navigation-item\">\\n\"\"\"\n",
    "        text += f\"\"\"        <a href=\"#carousel__slide{k}\" class=\"carousel__navigation-button\">Go to {k}</a>\\n\"\"\"\n",
    "        text += f\"\"\"      </li>\"\"\"\n",
    "        carousel.append(text)\n",
    "    carousel.extend([\"\"\"    </ol>\"\"\", \"\"\"  </aside>\"\"\", \"\"\"</section>\"\"\"])\n",
    "\n",
    "    return '\\n'.join(carousel)"
   ]
  },
  {
   "cell_type": "code",
   "execution_count": 12,
   "id": "a6eac5b6",
   "metadata": {
    "execution": {
     "iopub.execute_input": "2022-08-29T07:16:57.798288Z",
     "iopub.status.busy": "2022-08-29T07:16:57.797769Z",
     "iopub.status.idle": "2022-08-29T07:16:57.807172Z",
     "shell.execute_reply": "2022-08-29T07:16:57.806286Z"
    },
    "papermill": {
     "duration": 0.021108,
     "end_time": "2022-08-29T07:16:57.808938",
     "exception": false,
     "start_time": "2022-08-29T07:16:57.787830",
     "status": "completed"
    },
    "scrolled": false,
    "tags": []
   },
   "outputs": [],
   "source": [
    "carousel = create_carousel(npub)\n",
    "docs = ', '.join(['\"{0:s}\"'.format(k.split('/')[-1]) for k in res])\n",
    "slides = ', '.join([f'\"slide{k}_content\"' for k in range(1, npub + 1)])\n",
    "\n",
    "script = f\"\"\"\n",
    "const docs = [{docs}]\n",
    "\n",
    "const slides = [{slides}]\n",
    "\"\"\" + \"\"\"\n",
    "async function run() {\n",
    "    for (let i = 0; i < docs.length; i++) {\n",
    "        let file = await fetch(docs[i]);\n",
    "        let text = await file.text()\n",
    "        document.getElementById(slides[i]).innerHTML =\n",
    "            marked.parse(text);\n",
    "    }\n",
    "    hljs.highlightAll();\n",
    "}\n",
    "run()\n",
    "\"\"\"\n",
    "\n",
    "page = f\"\"\"<!doctype html>\n",
    "<html lang=\"en\">\n",
    "\n",
    "<head>\n",
    "  <meta charset=\"utf-8\">\n",
    "  <meta name=\"viewport\" content=\"width=device-width, initial-scale=1\">\n",
    "  <!-- Bootstrap CSS -->\n",
    "  <link href=\"https://cdn.jsdelivr.net/npm/bootstrap@5.0.2/dist/css/bootstrap.min.css\" rel=\"stylesheet\"\n",
    "   integrity=\"sha384-EVSTQN3/azprG1Anm3QDgpJLIm9Nao0Yz1ztcQTwFspd3yD65VohhpuuCOmLASjC\" crossorigin=\"anonymous\">\n",
    "  <!-- highlight.js CSS -->\n",
    "  <link rel=\"stylesheet\" href=\"https://cdnjs.cloudflare.com/ajax/libs/highlight.js/11.1.0/styles/default.min.css\">\n",
    "  <!-- Mathjax 3 -->\n",
    "  <script type=\"text/javascript\" id=\"MathJax-config\" src=\"mathjax_config.js\"> </script>\n",
    "  <script type=\"text/javascript\" id=\"MathJax-script\" async \n",
    "    src=\"https://cdn.jsdelivr.net/npm/mathjax@3/es5/tex-mml-chtml.js\">\n",
    "  </script>\n",
    "  <link rel=\"stylesheet\" href=\"index_carousel.css\">\n",
    "  <link rel=\"icon\" type=\"image/x-icon\" href=\"https://www.mpia.de/assets/touch-icon-32x32-a66937bcebc4e8894ebff1f41a366c7c7220fd97a38869ee0f2db65a9f59b6c1.png\">\n",
    "  <title>MPIA Arxiv on deck!</title>\n",
    "</head>\n",
    "\n",
    "<body>\n",
    "  <div id=\"header\"> <img src=\"header_banner.png\" width=\"100%\"></div>\n",
    "  <div id=\"suptitle\"> 7-day archives </div>\n",
    "  <div id=\"info\">\n",
    "    <img src=\"https://pngimg.com/uploads/github/github_PNG58.png\" height=30rem></img>\n",
    "    <a href=https://github.com/mpi-astronomy/arxiv_display style=\"color:black;\">github/mpi-astronomy/arxiv_display</a> \n",
    "  </div>\n",
    "  {carousel:s}\n",
    "</body>\n",
    "\n",
    "<!-- Render Markdown -->\n",
    "\n",
    "<body>\n",
    "  <!-- highlight.js: https://highlightjs.org/download/ -->\n",
    "  <script src=\"https://cdnjs.cloudflare.com/ajax/libs/highlight.js/11.5.0/highlight.min.js\"></script>\n",
    "  <!-- marked.js -->\n",
    "  <script src=\"https://cdn.jsdelivr.net/npm/marked/marked.min.js\"></script>\n",
    "  <script>{script:s}</script>\n",
    "</body>\n",
    "</html>\n",
    "\"\"\"\n",
    "with open(\"_build/html/index_7days.html\", 'w') as fout:\n",
    "    fout.write(page)"
   ]
  },
  {
   "cell_type": "markdown",
   "id": "1cebacbc",
   "metadata": {
    "papermill": {
     "duration": 0.009412,
     "end_time": "2022-08-29T07:16:57.826645",
     "exception": false,
     "start_time": "2022-08-29T07:16:57.817233",
     "status": "completed"
    },
    "tags": []
   },
   "source": [
    "# Debugging papers"
   ]
  },
  {
   "cell_type": "raw",
   "id": "debe7cc6",
   "metadata": {
    "papermill": {
     "duration": 0.008773,
     "end_time": "2022-08-29T07:16:57.844072",
     "exception": false,
     "start_time": "2022-08-29T07:16:57.835299",
     "status": "completed"
    },
    "tags": []
   },
   "source": [
    "raise NotImplementedError(\"Manual Stop\")"
   ]
  },
  {
   "cell_type": "raw",
   "id": "eb169192",
   "metadata": {
    "papermill": {
     "duration": 0.00892,
     "end_time": "2022-08-29T07:16:57.861798",
     "exception": false,
     "start_time": "2022-08-29T07:16:57.852878",
     "status": "completed"
    },
    "scrolled": true,
    "tags": []
   },
   "source": [
    "from IPython.display import display, Markdown\n",
    "from TexSoup import TexSoup\n",
    "import re\n",
    "\n",
    "def bracket_error(source: str):\n",
    "    \"\"\" Find problematic portions of the document \"\"\"\n",
    "    \n",
    "    print(\"len(source)\", len(source))\n",
    "    \n",
    "    # Checking header\n",
    "    begin_doc = next(re.finditer(r'\\\\begin\\{document\\}', doc.source)).span()[1]\n",
    "    header = source[:begin_doc]\n",
    "    text = header + r\"\\n\\end{document}\"\n",
    "\n",
    "    try:\n",
    "        # print(\"Header check... \", end='')\n",
    "        TexSoup(text)\n",
    "        display(Markdown(f\"**[OK]** - Header\"))\n",
    "    except:\n",
    "        raise RuntimeError(\"Error in the header\")\n",
    "        \n",
    "    # Check the text per section until the end.\n",
    "    # Do not stop and try them all.\n",
    "    \n",
    "    problematic_text = []\n",
    "    \n",
    "    sections = ([(0, begin_doc, 'until first section')] + \n",
    "                [(g.span()[0], g.span()[1], g.group()) for g in re.finditer(r'\\\\section\\{.*\\}', source)] +\n",
    "                [(g.span()[0], g.span()[1], g.group()) for g in re.finditer(r'\\\\begin\\{appendix\\}', source)]\n",
    "               )\n",
    "    sections.append([len(source), len(source), 'end'])\n",
    "    \n",
    "    sections = sorted(sections, key=lambda x: x[0])\n",
    "    \n",
    "    prev_pos, prev_name = (0, 'header')\n",
    "    parsed = []\n",
    "    \n",
    "    for span, span_end, name in sections:\n",
    "\n",
    "        if span - prev_pos <= 0:\n",
    "            continue\n",
    "            \n",
    "\n",
    "        text = source[prev_pos:span]\n",
    "        if prev_pos > begin_doc:\n",
    "            text = r\"\\n\\begin{document}\" + text + r\"\\n\\end{document}\"\n",
    "        else:\n",
    "            text = text + r\"\\n\\end{document}\"\n",
    "        try:\n",
    "            #print(f\"{prev_pos}:{prev_name}-->{span}:{name} check... \", end='')\n",
    "            parsed.append(TexSoup(text, tolerance=1))  # allow not ending env\n",
    "            display(Markdown(f\"**[OK]** - *{prev_pos}*:{prev_name} &rarr; *{span}*:{name}\"))\n",
    "            # print(\"ok\")\n",
    "\n",
    "            prev_pos = span\n",
    "            prev_name = name\n",
    "        except:\n",
    "            # print(f\"error between {prev_pos} and {span}\")\n",
    "            display(Markdown(f\"**[ERR]** *{prev_pos}*:{prev_name} &rarr; *{span}*:{name}\"))\n",
    "            problematic_text.append((prev_pos, source[prev_pos:span]))\n",
    "            prev_pos = span\n",
    "            prev_name = name\n",
    "            # raise\n",
    "    return problematic_text, parsed\n",
    "\n",
    "\n",
    "def check_environment(text, offset=0):\n",
    "    \"\"\" Check environment \"\"\"\n",
    "    env = re.compile(r\"\\\\begin\\{(?P<env>.*)\\}(.*)\\\\end\\{(?P=env)\\}\", re.DOTALL)\n",
    "\n",
    "    for match in env.finditer(text):\n",
    "        beg, end = match.span()\n",
    "        beg += offset\n",
    "        end += offset\n",
    "        envname = match.groups()[0]\n",
    "        try:\n",
    "            latex.TexSoup(match.group())\n",
    "        except Exception as e:\n",
    "            display(e)\n",
    "            print(f\"Error in {envname:s} between {beg} and {end}\")\n",
    "            return match.groups()[1], beg, end"
   ]
  },
  {
   "cell_type": "raw",
   "id": "2315e835",
   "metadata": {
    "papermill": {
     "duration": 0.008899,
     "end_time": "2022-08-29T07:16:57.879296",
     "exception": false,
     "start_time": "2022-08-29T07:16:57.870397",
     "status": "completed"
    },
    "scrolled": false,
    "tags": []
   },
   "source": [
    "import importlib\n",
    "importlib.reload(latex)\n",
    "which = \"2204.03253\"\n",
    "paper_id = f'{which:s}'\n",
    "folder = f'tmp_{paper_id:s}'\n",
    "\n",
    "if not os.path.isdir(folder):\n",
    "    folder = retrieve_document_source(f\"{paper_id}\", f'tmp_{paper_id}')\n",
    "\n",
    "try:\n",
    "    doc = latex.LatexDocument(folder, validation=validation)    \n",
    "except AffiliationError as affilerror:\n",
    "    msg = f\"ArXiv:{paper_id:s} is not an MPIA paper... \" + str(affilerror)\n",
    "    print(msg)\n",
    "\n",
    "\n",
    "# Hack because sometimes author parsing does not work well\n",
    "if (len(doc.authors) != len(paper['authors'])):\n",
    "    doc._authors = paper['authors']\n",
    "if (doc.abstract) in (None, ''):\n",
    "    doc._abstract = paper['abstract']\n",
    "\n",
    "doc.comment = get_markdown_badge(paper_id) + \" _\" + paper['comments'] + \"_\"\n",
    "doc.highlight_authors_in_list(hl_list)\n",
    "\n",
    "full_md = doc.generate_markdown_text()"
   ]
  },
  {
   "cell_type": "raw",
   "id": "dd3781db",
   "metadata": {
    "papermill": {
     "duration": 0.008248,
     "end_time": "2022-08-29T07:16:57.895354",
     "exception": false,
     "start_time": "2022-08-29T07:16:57.887106",
     "status": "completed"
    },
    "scrolled": false,
    "tags": []
   },
   "source": [
    "doc"
   ]
  },
  {
   "cell_type": "raw",
   "id": "c6eed834",
   "metadata": {
    "papermill": {
     "duration": 0.007874,
     "end_time": "2022-08-29T07:16:57.911382",
     "exception": false,
     "start_time": "2022-08-29T07:16:57.903508",
     "status": "completed"
    },
    "tags": []
   },
   "source": [
    "# [check_environment(k) for k in bracket_error(doc.source)]\n",
    "_, _, a = latex.get_content_per_section(doc.source, verbose=True)\n",
    "if not a:\n",
    "    print(\"no issues per section\")\n",
    "for ak in a:\n",
    "    r = check_environment(ak[1], offset=ak[0])\n",
    "    print(r[1], r[2])\n",
    "    print(r[0])"
   ]
  },
  {
   "cell_type": "code",
   "execution_count": null,
   "id": "71ce768a",
   "metadata": {
    "papermill": {
     "duration": 0.009559,
     "end_time": "2022-08-29T07:16:57.931646",
     "exception": false,
     "start_time": "2022-08-29T07:16:57.922087",
     "status": "completed"
    },
    "tags": []
   },
   "outputs": [],
   "source": []
  }
 ],
 "metadata": {
  "kernelspec": {
   "display_name": "Python 3.10.6 64-bit",
   "language": "python",
   "name": "python3"
  },
  "language_info": {
   "codemirror_mode": {
    "name": "ipython",
    "version": 3
   },
   "file_extension": ".py",
   "mimetype": "text/x-python",
   "name": "python",
   "nbconvert_exporter": "python",
   "pygments_lexer": "ipython3",
   "version": "3.9.13"
  },
  "papermill": {
   "default_parameters": {},
   "duration": 95.263549,
   "end_time": "2022-08-29T07:16:58.159803",
   "environment_variables": {},
   "exception": null,
   "input_path": "MPIA daily digest.ipynb",
   "output_path": "log.ipynb",
   "parameters": {},
   "start_time": "2022-08-29T07:15:22.896254",
   "version": "2.4.0"
  },
  "vscode": {
   "interpreter": {
    "hash": "e7370f93d1d0cde622a1f8e1c04877d8463912d04d973331ad4851f04de6915a"
   }
  },
  "widgets": {
   "application/vnd.jupyter.widget-state+json": {
    "state": {
     "151132b0b11942b59285237709b29148": {
      "model_module": "@jupyter-widgets/base",
      "model_module_version": "2.0.0",
      "model_name": "LayoutModel",
      "state": {
       "_model_module": "@jupyter-widgets/base",
       "_model_module_version": "2.0.0",
       "_model_name": "LayoutModel",
       "_view_count": null,
       "_view_module": "@jupyter-widgets/base",
       "_view_module_version": "2.0.0",
       "_view_name": "LayoutView",
       "align_content": null,
       "align_items": null,
       "align_self": null,
       "border_bottom": null,
       "border_left": null,
       "border_right": null,
       "border_top": null,
       "bottom": null,
       "display": null,
       "flex": null,
       "flex_flow": null,
       "grid_area": null,
       "grid_auto_columns": null,
       "grid_auto_flow": null,
       "grid_auto_rows": null,
       "grid_column": null,
       "grid_gap": null,
       "grid_row": null,
       "grid_template_areas": null,
       "grid_template_columns": null,
       "grid_template_rows": null,
       "height": null,
       "justify_content": null,
       "justify_items": null,
       "left": null,
       "margin": null,
       "max_height": null,
       "max_width": null,
       "min_height": null,
       "min_width": null,
       "object_fit": null,
       "object_position": null,
       "order": null,
       "overflow": null,
       "padding": null,
       "right": null,
       "top": null,
       "visibility": null,
       "width": null
      }
     },
     "2631d331336545d79da332f4851f16c6": {
      "model_module": "@jupyter-widgets/base",
      "model_module_version": "2.0.0",
      "model_name": "LayoutModel",
      "state": {
       "_model_module": "@jupyter-widgets/base",
       "_model_module_version": "2.0.0",
       "_model_name": "LayoutModel",
       "_view_count": null,
       "_view_module": "@jupyter-widgets/base",
       "_view_module_version": "2.0.0",
       "_view_name": "LayoutView",
       "align_content": null,
       "align_items": null,
       "align_self": null,
       "border_bottom": null,
       "border_left": null,
       "border_right": null,
       "border_top": null,
       "bottom": null,
       "display": null,
       "flex": null,
       "flex_flow": null,
       "grid_area": null,
       "grid_auto_columns": null,
       "grid_auto_flow": null,
       "grid_auto_rows": null,
       "grid_column": null,
       "grid_gap": null,
       "grid_row": null,
       "grid_template_areas": null,
       "grid_template_columns": null,
       "grid_template_rows": null,
       "height": null,
       "justify_content": null,
       "justify_items": null,
       "left": null,
       "margin": null,
       "max_height": null,
       "max_width": null,
       "min_height": null,
       "min_width": null,
       "object_fit": null,
       "object_position": null,
       "order": null,
       "overflow": null,
       "padding": null,
       "right": null,
       "top": null,
       "visibility": null,
       "width": null
      }
     },
     "27c65ddb25e2462facea8de105492d66": {
      "model_module": "@jupyter-widgets/controls",
      "model_module_version": "2.0.0",
      "model_name": "HTMLModel",
      "state": {
       "_dom_classes": [],
       "_model_module": "@jupyter-widgets/controls",
       "_model_module_version": "2.0.0",
       "_model_name": "HTMLModel",
       "_view_count": null,
       "_view_module": "@jupyter-widgets/controls",
       "_view_module_version": "2.0.0",
       "_view_name": "HTMLView",
       "description": "",
       "description_allow_html": false,
       "layout": "IPY_MODEL_151132b0b11942b59285237709b29148",
       "placeholder": "​",
       "style": "IPY_MODEL_dba8d4dc0d1e43f682c6b205d756b550",
       "tabbable": null,
       "tooltip": null,
       "value": " 12/12 [01:06&lt;00:00,  5.68s/it]"
      }
     },
     "59f5121383d444d387af8e1a6ebe9caf": {
      "model_module": "@jupyter-widgets/controls",
      "model_module_version": "2.0.0",
      "model_name": "HTMLModel",
      "state": {
       "_dom_classes": [],
       "_model_module": "@jupyter-widgets/controls",
       "_model_module_version": "2.0.0",
       "_model_name": "HTMLModel",
       "_view_count": null,
       "_view_module": "@jupyter-widgets/controls",
       "_view_module_version": "2.0.0",
       "_view_name": "HTMLView",
       "description": "",
       "description_allow_html": false,
       "layout": "IPY_MODEL_2631d331336545d79da332f4851f16c6",
       "placeholder": "​",
       "style": "IPY_MODEL_db624de560c644ba91c42c1f68111d76",
       "tabbable": null,
       "tooltip": null,
       "value": "100%"
      }
     },
     "5c0f8b8a6a1e4cd88d6eab766023b30a": {
      "model_module": "@jupyter-widgets/controls",
      "model_module_version": "2.0.0",
      "model_name": "ProgressStyleModel",
      "state": {
       "_model_module": "@jupyter-widgets/controls",
       "_model_module_version": "2.0.0",
       "_model_name": "ProgressStyleModel",
       "_view_count": null,
       "_view_module": "@jupyter-widgets/base",
       "_view_module_version": "2.0.0",
       "_view_name": "StyleView",
       "bar_color": null,
       "description_width": ""
      }
     },
     "6080ffc296da474c8f712e702701439b": {
      "model_module": "@jupyter-widgets/controls",
      "model_module_version": "2.0.0",
      "model_name": "FloatProgressModel",
      "state": {
       "_dom_classes": [],
       "_model_module": "@jupyter-widgets/controls",
       "_model_module_version": "2.0.0",
       "_model_name": "FloatProgressModel",
       "_view_count": null,
       "_view_module": "@jupyter-widgets/controls",
       "_view_module_version": "2.0.0",
       "_view_name": "ProgressView",
       "bar_style": "success",
       "description": "",
       "description_allow_html": false,
       "layout": "IPY_MODEL_77de750cda644d4ead95214867e3d1c6",
       "max": 12.0,
       "min": 0.0,
       "orientation": "horizontal",
       "style": "IPY_MODEL_5c0f8b8a6a1e4cd88d6eab766023b30a",
       "tabbable": null,
       "tooltip": null,
       "value": 12.0
      }
     },
     "77de750cda644d4ead95214867e3d1c6": {
      "model_module": "@jupyter-widgets/base",
      "model_module_version": "2.0.0",
      "model_name": "LayoutModel",
      "state": {
       "_model_module": "@jupyter-widgets/base",
       "_model_module_version": "2.0.0",
       "_model_name": "LayoutModel",
       "_view_count": null,
       "_view_module": "@jupyter-widgets/base",
       "_view_module_version": "2.0.0",
       "_view_name": "LayoutView",
       "align_content": null,
       "align_items": null,
       "align_self": null,
       "border_bottom": null,
       "border_left": null,
       "border_right": null,
       "border_top": null,
       "bottom": null,
       "display": null,
       "flex": null,
       "flex_flow": null,
       "grid_area": null,
       "grid_auto_columns": null,
       "grid_auto_flow": null,
       "grid_auto_rows": null,
       "grid_column": null,
       "grid_gap": null,
       "grid_row": null,
       "grid_template_areas": null,
       "grid_template_columns": null,
       "grid_template_rows": null,
       "height": null,
       "justify_content": null,
       "justify_items": null,
       "left": null,
       "margin": null,
       "max_height": null,
       "max_width": null,
       "min_height": null,
       "min_width": null,
       "object_fit": null,
       "object_position": null,
       "order": null,
       "overflow": null,
       "padding": null,
       "right": null,
       "top": null,
       "visibility": null,
       "width": null
      }
     },
     "83ebd7fcff82444ba179aef02a262ace": {
      "model_module": "@jupyter-widgets/base",
      "model_module_version": "2.0.0",
      "model_name": "LayoutModel",
      "state": {
       "_model_module": "@jupyter-widgets/base",
       "_model_module_version": "2.0.0",
       "_model_name": "LayoutModel",
       "_view_count": null,
       "_view_module": "@jupyter-widgets/base",
       "_view_module_version": "2.0.0",
       "_view_name": "LayoutView",
       "align_content": null,
       "align_items": null,
       "align_self": null,
       "border_bottom": null,
       "border_left": null,
       "border_right": null,
       "border_top": null,
       "bottom": null,
       "display": null,
       "flex": null,
       "flex_flow": null,
       "grid_area": null,
       "grid_auto_columns": null,
       "grid_auto_flow": null,
       "grid_auto_rows": null,
       "grid_column": null,
       "grid_gap": null,
       "grid_row": null,
       "grid_template_areas": null,
       "grid_template_columns": null,
       "grid_template_rows": null,
       "height": null,
       "justify_content": null,
       "justify_items": null,
       "left": null,
       "margin": null,
       "max_height": null,
       "max_width": null,
       "min_height": null,
       "min_width": null,
       "object_fit": null,
       "object_position": null,
       "order": null,
       "overflow": null,
       "padding": null,
       "right": null,
       "top": null,
       "visibility": null,
       "width": null
      }
     },
     "b6f2e9afdcd3437dba67eabd23e581a2": {
      "model_module": "@jupyter-widgets/controls",
      "model_module_version": "2.0.0",
      "model_name": "HBoxModel",
      "state": {
       "_dom_classes": [],
       "_model_module": "@jupyter-widgets/controls",
       "_model_module_version": "2.0.0",
       "_model_name": "HBoxModel",
       "_view_count": null,
       "_view_module": "@jupyter-widgets/controls",
       "_view_module_version": "2.0.0",
       "_view_name": "HBoxView",
       "box_style": "",
       "children": [
        "IPY_MODEL_59f5121383d444d387af8e1a6ebe9caf",
        "IPY_MODEL_6080ffc296da474c8f712e702701439b",
        "IPY_MODEL_27c65ddb25e2462facea8de105492d66"
       ],
       "layout": "IPY_MODEL_83ebd7fcff82444ba179aef02a262ace",
       "tabbable": null,
       "tooltip": null
      }
     },
     "db624de560c644ba91c42c1f68111d76": {
      "model_module": "@jupyter-widgets/controls",
      "model_module_version": "2.0.0",
      "model_name": "HTMLStyleModel",
      "state": {
       "_model_module": "@jupyter-widgets/controls",
       "_model_module_version": "2.0.0",
       "_model_name": "HTMLStyleModel",
       "_view_count": null,
       "_view_module": "@jupyter-widgets/base",
       "_view_module_version": "2.0.0",
       "_view_name": "StyleView",
       "background": null,
       "description_width": "",
       "font_size": null,
       "text_color": null
      }
     },
     "dba8d4dc0d1e43f682c6b205d756b550": {
      "model_module": "@jupyter-widgets/controls",
      "model_module_version": "2.0.0",
      "model_name": "HTMLStyleModel",
      "state": {
       "_model_module": "@jupyter-widgets/controls",
       "_model_module_version": "2.0.0",
       "_model_name": "HTMLStyleModel",
       "_view_count": null,
       "_view_module": "@jupyter-widgets/base",
       "_view_module_version": "2.0.0",
       "_view_name": "StyleView",
       "background": null,
       "description_width": "",
       "font_size": null,
       "text_color": null
      }
     }
    },
    "version_major": 2,
    "version_minor": 0
   }
  }
 },
 "nbformat": 4,
 "nbformat_minor": 5
}