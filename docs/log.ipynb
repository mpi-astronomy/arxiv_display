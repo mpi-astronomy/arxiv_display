{
 "cells": [
  {
   "cell_type": "markdown",
   "id": "92bcb855",
   "metadata": {
    "papermill": {
     "duration": 0.004427,
     "end_time": "2023-07-25T04:05:21.710139",
     "exception": false,
     "start_time": "2023-07-25T04:05:21.705712",
     "status": "completed"
    },
    "tags": []
   },
   "source": [
    "# MPIA Arxiv on Deck 2\n",
    "\n",
    "Contains the steps to produce the paper extractions."
   ]
  },
  {
   "cell_type": "code",
   "execution_count": 1,
   "id": "3a0d6e11",
   "metadata": {
    "execution": {
     "iopub.execute_input": "2023-07-25T04:05:21.719005Z",
     "iopub.status.busy": "2023-07-25T04:05:21.718537Z",
     "iopub.status.idle": "2023-07-25T04:05:21.943314Z",
     "shell.execute_reply": "2023-07-25T04:05:21.942673Z"
    },
    "papermill": {
     "duration": 0.23145,
     "end_time": "2023-07-25T04:05:21.945328",
     "exception": false,
     "start_time": "2023-07-25T04:05:21.713878",
     "status": "completed"
    },
    "tags": []
   },
   "outputs": [],
   "source": [
    "# Imports\n",
    "import os\n",
    "from IPython.display import Markdown, display\n",
    "from tqdm.notebook import tqdm\n",
    "import warnings\n",
    "from PIL import Image \n",
    "\n",
    "# requires arxiv_on_deck_2\n",
    "\n",
    "from arxiv_on_deck_2.arxiv2 import (get_new_papers, \n",
    "                                    get_paper_from_identifier,\n",
    "                                    retrieve_document_source, \n",
    "                                    get_markdown_badge)\n",
    "from arxiv_on_deck_2 import (latex,\n",
    "                             latex_bib,\n",
    "                             mpia,\n",
    "                             highlight_authors_in_list)\n",
    "\n",
    "# Sometimes images are really big\n",
    "Image.MAX_IMAGE_PIXELS = 1000000000 "
   ]
  },
  {
   "cell_type": "code",
   "execution_count": 2,
   "id": "22aa9d44",
   "metadata": {
    "execution": {
     "iopub.execute_input": "2023-07-25T04:05:21.954224Z",
     "iopub.status.busy": "2023-07-25T04:05:21.953966Z",
     "iopub.status.idle": "2023-07-25T04:05:21.959513Z",
     "shell.execute_reply": "2023-07-25T04:05:21.958979Z"
    },
    "papermill": {
     "duration": 0.011967,
     "end_time": "2023-07-25T04:05:21.961140",
     "exception": false,
     "start_time": "2023-07-25T04:05:21.949173",
     "status": "completed"
    },
    "tags": []
   },
   "outputs": [],
   "source": [
    "# Some useful definitions.\n",
    "\n",
    "class AffiliationWarning(UserWarning):\n",
    "    pass\n",
    "\n",
    "class AffiliationError(RuntimeError):\n",
    "    pass\n",
    "\n",
    "def validation(source: str):\n",
    "    \"\"\"Raises error paper during parsing of source file\n",
    "    \n",
    "    Allows checks before parsing TeX code.\n",
    "    \n",
    "    Raises AffiliationWarning\n",
    "    \"\"\"\n",
    "    check = mpia.affiliation_verifications(source, verbose=True)\n",
    "    if check is not True:\n",
    "        raise AffiliationError(\"mpia.affiliation_verifications: \" + check)\n",
    "\n",
    "        \n",
    "warnings.simplefilter('always', AffiliationWarning)\n",
    "\n",
    "\n",
    "def get_markdown_qrcode(paper_id: str):\n",
    "    \"\"\" Generate a qrcode to the arxiv page using qrserver.com\n",
    "    \n",
    "    :param paper: Arxiv paper\n",
    "    :returns: markdown text\n",
    "    \"\"\"\n",
    "    url = r\"https://api.qrserver.com/v1/create-qr-code/?size=100x100&data=\"\n",
    "    txt = f\"\"\"<img src={url}\"https://arxiv.org/abs/{paper_id}\">\"\"\"\n",
    "    txt = '<div id=\"qrcode\">' + txt + '</div>'\n",
    "    return txt"
   ]
  },
  {
   "cell_type": "markdown",
   "id": "14bd6310",
   "metadata": {
    "papermill": {
     "duration": 0.003369,
     "end_time": "2023-07-25T04:05:21.968042",
     "exception": false,
     "start_time": "2023-07-25T04:05:21.964673",
     "status": "completed"
    },
    "tags": []
   },
   "source": [
    "## get list of arxiv paper candidates\n",
    "\n",
    "We use the MPIA mitarbeiter list webpage from mpia.de to get author names\n",
    "We then get all new papers from Arxiv and match authors"
   ]
  },
  {
   "cell_type": "code",
   "execution_count": 3,
   "id": "2645e73a",
   "metadata": {
    "execution": {
     "iopub.execute_input": "2023-07-25T04:05:21.976291Z",
     "iopub.status.busy": "2023-07-25T04:05:21.975913Z",
     "iopub.status.idle": "2023-07-25T04:05:45.754417Z",
     "shell.execute_reply": "2023-07-25T04:05:45.753862Z"
    },
    "papermill": {
     "duration": 23.784575,
     "end_time": "2023-07-25T04:05:45.756087",
     "exception": false,
     "start_time": "2023-07-25T04:05:21.971512",
     "status": "completed"
    },
    "tags": []
   },
   "outputs": [
    {
     "name": "stdout",
     "output_type": "stream",
     "text": [
      "H. Beuther  ->  H. Beuther  |  ['H. Beuther']\n",
      "S. Scheithauer  ->  S. Scheithauer  |  ['S. Scheithauer']\n",
      "M. Zhai  ->  M. Zhai  |  ['M. Zhai']\n",
      "X. Zhang  ->  X. Zhang  |  ['X. Zhang']\n",
      "G. Perotti  ->  G. Perotti  |  ['G. Perotti']\n",
      "J. Bouwman  ->  J. Bouwman  |  ['J. Bouwman']\n",
      "M. Samland  ->  M. Samland  |  ['M. Samland']\n",
      "R. Franceschi  ->  R. Franceschi  |  ['R. Franceschi']\n",
      "K. Schwarz  ->  K. Schwarz  |  ['K. Schwarz']\n",
      "M. Güdel  ->  M. Güdel  |  ['M. Güdel']\n",
      "S. Scheithauer  ->  S. Scheithauer  |  ['S. Scheithauer']\n",
      "J. Schreiber  ->  J. Schreiber  |  ['J. Schreiber']\n"
     ]
    },
    {
     "name": "stdout",
     "output_type": "stream",
     "text": [
      "Arxiv has 79 new papers today\n",
      "          4 with possible author matches\n"
     ]
    }
   ],
   "source": [
    "# get list from MPIA website\n",
    "# it automatically filters identified non-scientists :func:`mpia.filter_non_scientists`\n",
    "mpia_authors = mpia.get_mpia_mitarbeiter_list()\n",
    "normed_mpia_authors = [k[1] for k in mpia_authors]   # initials + fullname\n",
    "new_papers = get_new_papers()\n",
    "# add manual references\n",
    "add_paper_refs = []\n",
    "new_papers.extend([get_paper_from_identifier(k) for k in add_paper_refs])\n",
    "\n",
    "candidates = []\n",
    "for paperk in new_papers:\n",
    "    # Check author list with their initials\n",
    "    normed_author_list = [mpia.get_initials(k) for k in paperk['authors']]\n",
    "    hl_authors = highlight_authors_in_list(normed_author_list, normed_mpia_authors, verbose=True)\n",
    "    matches = [(hl, orig) for hl, orig in zip(hl_authors, paperk['authors']) if 'mark' in hl]\n",
    "    paperk['authors'] = hl_authors\n",
    "    if matches:\n",
    "        # only select paper if an author matched our list\n",
    "        candidates.append(paperk)\n",
    "print(\"\"\"Arxiv has {0:,d} new papers today\"\"\".format(len(new_papers)))        \n",
    "print(\"\"\"          {0:,d} with possible author matches\"\"\".format(len(candidates)))"
   ]
  },
  {
   "cell_type": "markdown",
   "id": "3543b34a",
   "metadata": {
    "papermill": {
     "duration": 0.004878,
     "end_time": "2023-07-25T04:05:45.764941",
     "exception": false,
     "start_time": "2023-07-25T04:05:45.760063",
     "status": "completed"
    },
    "tags": []
   },
   "source": [
    "# Parse sources and generate relevant outputs\n",
    "\n",
    "From the candidates, we do the following steps:\n",
    "* get their tarball from ArXiv (and extract data)\n",
    "* find the main .tex file: find one with \\documentclass{...} (sometimes it's non trivial)\n",
    "* Check affiliations with :func:`validation`, which uses :func:`mpia.affiliation_verifications`\n",
    "* If passing the affiliations: we parse the .tex source\n",
    "   * inject sub-documents into the main (flatten the main document)\n",
    "   * parse structure, extract information (title, abstract, authors, figures...)\n",
    "   * handles `\\graphicspath` if provided\n",
    "* Generate the .md document."
   ]
  },
  {
   "cell_type": "code",
   "execution_count": 4,
   "id": "9576b79e",
   "metadata": {
    "execution": {
     "iopub.execute_input": "2023-07-25T04:05:45.773700Z",
     "iopub.status.busy": "2023-07-25T04:05:45.773432Z",
     "iopub.status.idle": "2023-07-25T04:06:18.337842Z",
     "shell.execute_reply": "2023-07-25T04:06:18.337191Z"
    },
    "papermill": {
     "duration": 32.575839,
     "end_time": "2023-07-25T04:06:18.344379",
     "exception": false,
     "start_time": "2023-07-25T04:05:45.768540",
     "status": "completed"
    },
    "scrolled": false,
    "tags": []
   },
   "outputs": [
    {
     "data": {
      "application/vnd.jupyter.widget-view+json": {
       "model_id": "b94b11abb6cb44e5835e1c11e405bc47",
       "version_major": 2,
       "version_minor": 0
      },
      "text/plain": [
       "  0%|          | 0/4 [00:00<?, ?it/s]"
      ]
     },
     "metadata": {},
     "output_type": "display_data"
    },
    {
     "name": "stdout",
     "output_type": "stream",
     "text": [
      "Retrieving document from  https://arxiv.org/e-print/2307.11817\n"
     ]
    },
    {
     "name": "stdout",
     "output_type": "stream",
     "text": [
      "extracting tarball to tmp_2307.11817..."
     ]
    },
    {
     "name": "stdout",
     "output_type": "stream",
     "text": [
      " done.\n"
     ]
    },
    {
     "name": "stderr",
     "output_type": "stream",
     "text": [
      "/tmp/ipykernel_2099/3009462391.py:49: LatexWarning: 2307.11817 did not run properly\n",
      "list index out of range\n",
      "  warnings.warn(latex.LatexWarning(f\"{paper_id:s} did not run properly\\n\" +\n"
     ]
    },
    {
     "name": "stdout",
     "output_type": "stream",
     "text": [
      "Retrieving document from  https://arxiv.org/e-print/2307.11821\n"
     ]
    },
    {
     "name": "stdout",
     "output_type": "stream",
     "text": [
      "extracting tarball to tmp_2307.11821..."
     ]
    },
    {
     "name": "stdout",
     "output_type": "stream",
     "text": [
      " done.\n"
     ]
    },
    {
     "name": "stderr",
     "output_type": "stream",
     "text": [
      "/opt/hostedtoolcache/Python/3.9.17/x64/lib/python3.9/site-packages/arxiv_on_deck_2/latex.py:120: LatexWarning: attempting recovering figure ./figures/Fig6_Astrometry_and_Fractional_Polarimetry_v2\n",
      "  warnings.warn(LatexWarning(f'attempting recovering figure {image}'))\n",
      "/opt/hostedtoolcache/Python/3.9.17/x64/lib/python3.9/site-packages/arxiv_on_deck_2/latex.py:125: LatexWarning: Recovered figure ./figures/Fig6_Astrometry_and_Fractional_Polarimetry_v2 as tmp_2307.11821/././figures/Fig6_Astrometry_and_Fractional_Polarimetry_v2.pdf\n",
      "  warnings.warn(LatexWarning(f'Recovered figure {image} as {fname}'))\n"
     ]
    },
    {
     "name": "stderr",
     "output_type": "stream",
     "text": [
      "/opt/hostedtoolcache/Python/3.9.17/x64/lib/python3.9/site-packages/arxiv_on_deck_2/latex.py:120: LatexWarning: attempting recovering figure ./figures/Fig1_polarization_flares\n",
      "  warnings.warn(LatexWarning(f'attempting recovering figure {image}'))\n",
      "/opt/hostedtoolcache/Python/3.9.17/x64/lib/python3.9/site-packages/arxiv_on_deck_2/latex.py:692: LatexWarning: Could not find graphic \\includegraphics[width=0.9\\linewidth]{./figures/Fig1_polarization_flares}\n",
      "  warnings.warn(LatexWarning(f\"Could not find graphic {k}\"))\n",
      "/opt/hostedtoolcache/Python/3.9.17/x64/lib/python3.9/site-packages/arxiv_on_deck_2/latex.py:120: LatexWarning: attempting recovering figure ./figures/Fig2_astrometry_flares\n",
      "  warnings.warn(LatexWarning(f'attempting recovering figure {image}'))\n",
      "/opt/hostedtoolcache/Python/3.9.17/x64/lib/python3.9/site-packages/arxiv_on_deck_2/latex.py:125: LatexWarning: Recovered figure ./figures/Fig2_astrometry_flares as tmp_2307.11821/././figures/Fig2_astrometry_flares.pdf\n",
      "  warnings.warn(LatexWarning(f'Recovered figure {image} as {fname}'))\n"
     ]
    },
    {
     "name": "stderr",
     "output_type": "stream",
     "text": [
      "/opt/hostedtoolcache/Python/3.9.17/x64/lib/python3.9/site-packages/arxiv_on_deck_2/latex.py:120: LatexWarning: attempting recovering figure ./figures/Fig3_combined_pol_astro\n",
      "  warnings.warn(LatexWarning(f'attempting recovering figure {image}'))\n",
      "/opt/hostedtoolcache/Python/3.9.17/x64/lib/python3.9/site-packages/arxiv_on_deck_2/latex.py:125: LatexWarning: Recovered figure ./figures/Fig3_combined_pol_astro as tmp_2307.11821/././figures/Fig3_combined_pol_astro.pdf\n",
      "  warnings.warn(LatexWarning(f'Recovered figure {image} as {fname}'))\n"
     ]
    },
    {
     "name": "stderr",
     "output_type": "stream",
     "text": [
      "/opt/hostedtoolcache/Python/3.9.17/x64/lib/python3.9/site-packages/arxiv_on_deck_2/latex.py:120: LatexWarning: attempting recovering figure ./figures/Fig7-centroid_motion_fit_with_fig3_binned_data\n",
      "  warnings.warn(LatexWarning(f'attempting recovering figure {image}'))\n",
      "/opt/hostedtoolcache/Python/3.9.17/x64/lib/python3.9/site-packages/arxiv_on_deck_2/latex.py:125: LatexWarning: Recovered figure ./figures/Fig7-centroid_motion_fit_with_fig3_binned_data as tmp_2307.11821/././figures/Fig7-centroid_motion_fit_with_fig3_binned_data.pdf\n",
      "  warnings.warn(LatexWarning(f'Recovered figure {image} as {fname}'))\n"
     ]
    },
    {
     "name": "stdout",
     "output_type": "stream",
     "text": [
      "Found 71 bibliographic references in tmp_2307.11821/polarimetry_and_astrometry_of_NIR_Flares.bbl.\n",
      "syntax error in line 5: unbalanced braces\n",
      "Retrieving document from  https://arxiv.org/e-print/2307.12013\n"
     ]
    },
    {
     "name": "stdout",
     "output_type": "stream",
     "text": [
      "extracting tarball to tmp_2307.12013..."
     ]
    },
    {
     "name": "stdout",
     "output_type": "stream",
     "text": [
      " done.\n",
      "Retrieving document from  https://arxiv.org/e-print/2307.12040\n"
     ]
    },
    {
     "name": "stdout",
     "output_type": "stream",
     "text": [
      "extracting tarball to tmp_2307.12040..."
     ]
    },
    {
     "name": "stdout",
     "output_type": "stream",
     "text": [
      " done.\n"
     ]
    },
    {
     "name": "stdout",
     "output_type": "stream",
     "text": [
      "G. Perotti  ->  G. Perotti  |  ['G. Perotti']\n",
      "J. Bouwman  ->  J. Bouwman  |  ['J. Bouwman']\n",
      "M. Samland  ->  M. Samland  |  ['M. Samland']\n",
      "R. Franceschi  ->  R. Franceschi  |  ['R. Franceschi']\n",
      "K. Schwarz  ->  K. Schwarz  |  ['K. Schwarz']\n",
      "M. Güdel  ->  M. Güdel  |  ['M. Güdel']\n",
      "S. Scheithauer  ->  S. Scheithauer  |  ['S. Scheithauer']\n",
      "J. Schreiber  ->  J. Schreiber  |  ['J. Schreiber']\n"
     ]
    },
    {
     "name": "stderr",
     "output_type": "stream",
     "text": [
      "/opt/hostedtoolcache/Python/3.9.17/x64/lib/python3.9/site-packages/arxiv_on_deck_2/latex.py:730: LatexWarning: Could not extract abstract from tmp_2307.12040/PDS70_Perotti23.tex\n",
      "  warnings.warn(LatexWarning(f\"Could not extract abstract from {self.main_file}\"))\n"
     ]
    },
    {
     "name": "stderr",
     "output_type": "stream",
     "text": [
      "/tmp/ipykernel_2099/3009462391.py:49: LatexWarning: 2307.12040 did not run properly\n",
      "[Errno 2] No such file or directory: 'gs'\n",
      "  warnings.warn(latex.LatexWarning(f\"{paper_id:s} did not run properly\\n\" +\n"
     ]
    }
   ],
   "source": [
    "documents = []\n",
    "failed = []\n",
    "for paper in tqdm(candidates):\n",
    "    paper_id = paper['identifier'].lower().replace('arxiv:', '')\n",
    "    \n",
    "    folder = f'tmp_{paper_id}'\n",
    "\n",
    "    try:\n",
    "        if not os.path.isdir(folder):\n",
    "            folder = retrieve_document_source(f\"{paper_id}\", f'tmp_{paper_id}')\n",
    "        \n",
    "        try:\n",
    "            doc = latex.LatexDocument(folder, validation=validation)    \n",
    "        except AffiliationError as affilerror:\n",
    "            msg = f\"ArXiv:{paper_id:s} is not an MPIA paper... \" + str(affilerror)\n",
    "            failed.append((paper, \"affiliation error: \" + str(affilerror) ))\n",
    "            continue\n",
    "        \n",
    "        # Hack because sometimes author parsing does not work well\n",
    "        if (len(doc.authors) != len(paper['authors'])):\n",
    "            doc._authors = paper['authors']\n",
    "        else:\n",
    "            # highlight authors (FIXME: doc.highlight_authors)\n",
    "            # done on arxiv paper already\n",
    "            doc._authors = highlight_authors_in_list(\n",
    "                [mpia.get_initials(k) for k in doc.authors], \n",
    "                normed_mpia_authors, verbose=True)\n",
    "        if (doc.abstract) in (None, ''):\n",
    "            doc._abstract = paper['abstract']\n",
    "            \n",
    "        doc.comment = (get_markdown_badge(paper_id) + \n",
    "                       \"<mark>Appeared on: \" + paper['date'] + \"</mark> - \")\n",
    "        if paper['comments']:\n",
    "            doc.comment += \" _\" + paper['comments'] + \"_\"\n",
    "        \n",
    "        full_md = doc.generate_markdown_text()\n",
    "        \n",
    "        full_md += get_markdown_qrcode(paper_id)\n",
    "        \n",
    "        # replace citations\n",
    "        try:\n",
    "            bibdata = latex_bib.LatexBib.from_doc(doc)\n",
    "            full_md = latex_bib.replace_citations(full_md, bibdata)\n",
    "        except Exception as e:\n",
    "            print(e)\n",
    "        \n",
    "        documents.append((paper_id, full_md))\n",
    "    except Exception as e:\n",
    "        warnings.warn(latex.LatexWarning(f\"{paper_id:s} did not run properly\\n\" +\n",
    "                                         str(e)\n",
    "                                        ))\n",
    "        failed.append((paper, \"latex error \" + str(e)))"
   ]
  },
  {
   "cell_type": "markdown",
   "id": "2505a25c",
   "metadata": {
    "papermill": {
     "duration": 0.004852,
     "end_time": "2023-07-25T04:06:18.354383",
     "exception": false,
     "start_time": "2023-07-25T04:06:18.349531",
     "status": "completed"
    },
    "tags": []
   },
   "source": [
    "### Export the logs\n",
    "\n",
    "Throughout, we also keep track of the logs per paper. see `logs-{today date}.md` "
   ]
  },
  {
   "cell_type": "code",
   "execution_count": 5,
   "id": "d733828a",
   "metadata": {
    "execution": {
     "iopub.execute_input": "2023-07-25T04:06:18.365995Z",
     "iopub.status.busy": "2023-07-25T04:06:18.365398Z",
     "iopub.status.idle": "2023-07-25T04:06:18.381634Z",
     "shell.execute_reply": "2023-07-25T04:06:18.380990Z"
    },
    "papermill": {
     "duration": 0.025978,
     "end_time": "2023-07-25T04:06:18.385271",
     "exception": false,
     "start_time": "2023-07-25T04:06:18.359293",
     "status": "completed"
    },
    "scrolled": false,
    "tags": []
   },
   "outputs": [
    {
     "data": {
      "text/markdown": [
       "## Successful papers"
      ],
      "text/plain": [
       "<IPython.core.display.Markdown object>"
      ]
     },
     "metadata": {},
     "output_type": "display_data"
    },
    {
     "data": {
      "text/markdown": [
       "\n",
       "|||\n",
       "|---:|:---|\n",
       "| [![arXiv](https://img.shields.io/badge/arXiv-arXiv:2307.11821-b31b1b.svg)](https://arxiv.org/abs/arXiv:2307.11821) | **Polarimetry and Astrometry of NIR Flares as Event Horizon Scale,  Dynamical Probes for the Mass of Sgr A***  |\n",
       "|| G. Collaboration, et al. -- incl., <mark>S. Scheithauer</mark> |\n",
       "|*Appeared on*| *2023-07-25*|\n",
       "|*Comments*| *10 pages, 12 figures. Submitted to A&A*|\n",
       "|**Abstract**| We present new astrometric and polarimetric observations of flares from Sgr A* obtained with GRAVITY, the near-infrared interferometer at ESO's Very Large Telescope Interferometer (VLTI), bringing the total sample of well-covered astrometric flares to four and polarimetric ones to six, where we have for two flares good coverage in both domains. All astrometric flares show clockwise motion in the plane of the sky with a period of around an hour, and the polarization vector rotates by one full loop in the same time. Given the apparent similarities of the flares, we present a common fit, taking into account the absence of strong Doppler boosting peaks in the light curves and the EHT-measured geometry. Our results are consistent with and significantly strengthen our model from 2018: We find that a) the combination of polarization period and measured flare radius of around nine gravitational radii ($9 R_g \\approx 1.5 R_{ISCO}$, innermost stable circular orbit) is consistent with Keplerian orbital motion of hot spots in the innermost accretion zone. The mass inside the flares' radius is consistent with the $4.297 \\times 10^6 \\; \\text{M}_\\odot$ measured from stellar orbits at several thousand $R_g$. This finding and the diameter of the millimeter shadow of Sgr A* thus support a single black hole model. Further, b) the magnetic field configuration is predominantly poloidal (vertical), and the flares' orbital plane has a moderate inclination with respect to the plane of the sky, as shown by the non-detection of Doppler-boosting and the fact that we observe one polarization loop per astrometric loop. Moreover, c) both the position angle on sky and the required magnetic field strength suggest that the accretion flow is fueled and controlled by the winds of the massive, young stars of the clockwise stellar disk 1-5 arcsec from Sgr A*, in agreement with recent simulations. |"
      ],
      "text/plain": [
       "[arXiv:2307.11821] Polarimetry and Astrometry of NIR Flares as Event Horizon Scale,  Dynamical Probes for the Mass of Sgr A*\n",
       "\tG. Collaboration, et al. -- incl., <mark>S. Scheithauer</mark>"
      ]
     },
     "metadata": {},
     "output_type": "display_data"
    },
    {
     "data": {
      "text/markdown": [
       "## Failed papers"
      ],
      "text/plain": [
       "<IPython.core.display.Markdown object>"
      ]
     },
     "metadata": {},
     "output_type": "display_data"
    },
    {
     "data": {
      "text/markdown": [
       "\n",
       "|||\n",
       "|---:|:---|\n",
       "| [![arXiv](https://img.shields.io/badge/arXiv-arXiv:2307.12013-b31b1b.svg)](https://arxiv.org/abs/arXiv:2307.12013) | **The Tianlin Mission: a 6m UV/Opt/IR space telescope to explore the  habitable worlds and the universe**  |\n",
       "|| W. Wang, et al. -- incl., <mark>M. Zhai</mark>, <mark>X. Zhang</mark> |\n",
       "|*Appeared on*| *2023-07-25*|\n",
       "|*Comments*| *15 pages, 5 figures, accepted for publication in RAA and is available online*|\n",
       "|**Abstract**| [Abridged] It is expected that the ongoing and future space-borne planet survey missions including TESS, PLATO, and Earth 2.0 will detect thousands of small to medium-sized planets via the transit technique, including over a hundred habitable terrestrial rocky planets. To conduct a detailed study of these terrestrial planets, particularly the cool ones with wide orbits, the exoplanet community has proposed various follow-up missions. The currently proposed ESA mission ARIEL is capable of characterization of planets down to warm super-Earths mainly using transmission spectroscopy. The NASA 6m UV/Opt/NIR mission proposed in the Astro2020 Decadal Survey may further tackle down to habitable rocky planets, and is expected to launch around 2045. In the meanwhile, China is funding a concept study of a 6-m class space telescope named Tianlin (A UV/Opt/NIR Large Aperture Space Telescope) that aims to start its operation within the next 10-15 years and last for 5+ years. Tianlin will be primarily aimed to the discovery and characterization of rocky planets in the habitable zones (HZ) around nearby stars and to search for potential biosignatures mainly using the direct imaging method. Transmission and emission spectroscopy at moderate to high resolution will be carried out as well on a population of exoplanets to strengthen the understanding of the formation and evolution of exoplanets. It will also carry out in-depth studies of the cosmic web and early galaxies, and constrain the nature of the dark matter and dark energy. We describe briefly the primary scientific motivations and main technical considerations based on our preliminary simulation results. We find that a monolithic off-axis space telescope with a primary mirror diameter larger than 6m equipped with a high contrast chronograph can identify water in the atmosphere of a habitable-zone Earth-like planet around a Sun-like star. |\n",
       "|<p style=\"color:green\"> **ERROR** </p>| <p style=\"color:green\">affiliation error: mpia.affiliation_verifications: 'Heidelberg' keyword not found.</p> |"
      ],
      "text/plain": [
       "<IPython.core.display.Markdown object>"
      ]
     },
     "metadata": {},
     "output_type": "display_data"
    },
    {
     "data": {
      "text/markdown": [
       "\n",
       "|||\n",
       "|---:|:---|\n",
       "| [![arXiv](https://img.shields.io/badge/arXiv-arXiv:2307.12040-b31b1b.svg)](https://arxiv.org/abs/arXiv:2307.12040) | **Water in the terrestrial planet-forming zone of the PDS 70 disk**  |\n",
       "|| <mark>G. Perotti</mark>, et al. -- incl., <mark>J. Bouwman</mark>, <mark>M. Samland</mark>, <mark>R. Franceschi</mark>, <mark>K. Schwarz</mark>, <mark>M. Güdel</mark>, <mark>S. Scheithauer</mark>, <mark>J. Schreiber</mark> |\n",
       "|*Appeared on*| *2023-07-25*|\n",
       "|*Comments*| *To appear in Nature on 24 July 2023. 21 pages, 10 figures; includes extended data. Part of the JWST MINDS Guaranteed Time Observations program's science enabling products. Spectra downloadable on Zenodo at this https URL*|\n",
       "|**Abstract**| Terrestrial and sub-Neptune planets are expected to form in the inner ($<10~$AU) regions of protoplanetary disks. Water plays a key role in their formation, although it is yet unclear whether water molecules are formed in-situ or transported from the outer disk. So far Spitzer Space Telescope observations have only provided water luminosity upper limits for dust-depleted inner disks, similar to PDS 70, the first system with direct confirmation of protoplanet presence. Here we report JWST observations of PDS 70, a benchmark target to search for water in a disk hosting a large ($\\sim54~$AU) planet-carved gap separating an inner and outer disk. Our findings show water in the inner disk of PDS 70. This implies that potential terrestrial planets forming therein have access to a water reservoir. The column densities of water vapour suggest in-situ formation via a reaction sequence involving O, H$_2$, and/or OH, and survival through water self-shielding. This is also supported by the presence of CO$_2$ emission, another molecule sensitive to UV photodissociation. Dust shielding, and replenishment of both gas and small dust from the outer disk, may also play a role in sustaining the water reservoir. Our observations also reveal a strong variability of the mid-infrared spectral energy distribution, pointing to a change of inner disk geometry. |\n",
       "|<p style=\"color:red\"> **ERROR** </p>| <p style=\"color:red\">latex error [Errno 2] No such file or directory: 'gs'</p> |"
      ],
      "text/plain": [
       "<IPython.core.display.Markdown object>"
      ]
     },
     "metadata": {},
     "output_type": "display_data"
    },
    {
     "data": {
      "text/markdown": [
       "\n",
       "|||\n",
       "|---:|:---|\n",
       "| [![arXiv](https://img.shields.io/badge/arXiv-arXiv:2307.11817-b31b1b.svg)](https://arxiv.org/abs/arXiv:2307.11817) | **The diverse chemistry of protoplanetary disks as revealed by JWST**  |\n",
       "|| E. F. v. Dishoeck, et al. -- incl., <mark>H. Beuther</mark> |\n",
       "|*Appeared on*| *2023-07-25*|\n",
       "|*Comments*| *17 pages, 8 figures. Author's version of paper submitted to Faraday Discussions January 18 2023, Accepted March 16 2023*|\n",
       "|**Abstract**| Early results from the JWST-MIRI guaranteed time programs on protostars (JOYS) and disks (MINDS) are presented. Thanks to the increased sensitivity, spectral and spatial resolution of the MIRI spectrometer, the chemical inventory of the planet-forming zones in disks can be investigated with unprecedented detail across stellar mass range and age. Here data are presented for five disks, four around low-mass stars and one around a very young high-mass star. The mid-infrared spectra show some similarities but also significant diversity: some sources are rich in CO2, others in H2O or C2H2. In one disk around a very low-mass star, booming C2H2 emission provides evidence for a ``soot'' line at which carbon grains are eroded and sublimated, leading to a rich hydrocarbon chemistry in which even di-acetylene (C4H2) and benzene (C6H6) are detected (Tabone et al. 2023). Together, the data point to an active inner disk gas-phase chemistry that is closely linked to the physical structure (temperature, snowlines, presence of cavities and dust traps) of the entire disk and which may result in varying CO2/H2O abundances and high C/O ratios >1 in some cases. Ultimately, this diversity in disk chemistry will also be reflected in the diversity of the chemical composition of exoplanets. |\n",
       "|<p style=\"color:red\"> **ERROR** </p>| <p style=\"color:red\">latex error list index out of range</p> |"
      ],
      "text/plain": [
       "<IPython.core.display.Markdown object>"
      ]
     },
     "metadata": {},
     "output_type": "display_data"
    }
   ],
   "source": [
    "import datetime\n",
    "today = str(datetime.date.today())\n",
    "logfile = f\"_build/html/logs/log-{today}.md\"\n",
    "\n",
    "\n",
    "with open(logfile, 'w') as logs:\n",
    "    # Success\n",
    "    logs.write(f'# Arxiv on Deck 2: Logs - {today}\\n\\n')\n",
    "    logs.write(\"\"\"* Arxiv had {0:,d} new papers\\n\"\"\".format(len(new_papers)))\n",
    "    logs.write(\"\"\"    * {0:,d} with possible author matches\\n\\n\"\"\".format(len(candidates)))\n",
    "    logs.write(\"## Sucessful papers\\n\\n\")\n",
    "    display(Markdown(\"## Successful papers\"))\n",
    "    success = [k[0] for k in documents]\n",
    "    for candid in candidates:\n",
    "        if candid['identifier'].split(':')[-1] in success:\n",
    "            display(candid)\n",
    "            logs.write(candid.generate_markdown_text() + '\\n\\n')\n",
    "\n",
    "    ## failed\n",
    "    logs.write(\"## Failed papers\\n\\n\")\n",
    "    display(Markdown(\"## Failed papers\"))\n",
    "    failed = sorted(failed, key=lambda x: x[1])\n",
    "    current_reason = \"\"\n",
    "    for paper, reason in failed:\n",
    "        if 'affiliation' in reason:\n",
    "            color = 'green'\n",
    "        else:\n",
    "            color = 'red'\n",
    "        data = Markdown(\n",
    "                paper.generate_markdown_text() + \n",
    "                f'\\n|<p style=\"color:{color:s}\"> **ERROR** </p>| <p style=\"color:{color:s}\">{reason:s}</p> |'\n",
    "               )\n",
    "        if reason != current_reason:\n",
    "            logs.write(f'### {reason:s} \\n\\n')\n",
    "            current_reason = reason\n",
    "        logs.write(data.data + '\\n\\n')\n",
    "        \n",
    "        # only display here the important errors (all in logs)\n",
    "        # if color in ('red',):\n",
    "        display(data)"
   ]
  },
  {
   "cell_type": "markdown",
   "id": "472d20ee",
   "metadata": {
    "papermill": {
     "duration": 0.005606,
     "end_time": "2023-07-25T04:06:18.396562",
     "exception": false,
     "start_time": "2023-07-25T04:06:18.390956",
     "status": "completed"
    },
    "tags": []
   },
   "source": [
    "## Export documents\n",
    "\n",
    "We now write the .md files and export relevant images"
   ]
  },
  {
   "cell_type": "code",
   "execution_count": 6,
   "id": "d426aed9",
   "metadata": {
    "execution": {
     "iopub.execute_input": "2023-07-25T04:06:18.409217Z",
     "iopub.status.busy": "2023-07-25T04:06:18.408765Z",
     "iopub.status.idle": "2023-07-25T04:06:18.416381Z",
     "shell.execute_reply": "2023-07-25T04:06:18.415719Z"
    },
    "papermill": {
     "duration": 0.015698,
     "end_time": "2023-07-25T04:06:18.417818",
     "exception": false,
     "start_time": "2023-07-25T04:06:18.402120",
     "status": "completed"
    },
    "tags": []
   },
   "outputs": [],
   "source": [
    "def export_markdown_summary(md: str, md_fname:str, directory: str):\n",
    "    \"\"\"Export MD document and associated relevant images\"\"\"\n",
    "    import os\n",
    "    import shutil\n",
    "    import re\n",
    "\n",
    "    if (os.path.exists(directory) and not os.path.isdir(directory)):\n",
    "        raise RuntimeError(f\"a non-directory file exists with name {directory:s}\")\n",
    "\n",
    "    if (not os.path.exists(directory)):\n",
    "        print(f\"creating directory {directory:s}\")\n",
    "        os.mkdir(directory)\n",
    "\n",
    "    fig_fnames = (re.compile(r'\\[Fig.*\\]\\((.*)\\)').findall(md) + \n",
    "                  re.compile(r'\\<img src=\"([^>\\s]*)\"[^>]*/>').findall(md))\n",
    "    for fname in fig_fnames:\n",
    "        if 'http' in fname:\n",
    "            # No need to copy online figures\n",
    "            continue\n",
    "        destdir = os.path.join(directory, os.path.dirname(fname))\n",
    "        destfname = os.path.join(destdir, os.path.basename(fname))\n",
    "        try:\n",
    "            os.makedirs(destdir)\n",
    "        except FileExistsError:\n",
    "            pass\n",
    "        shutil.copy(fname, destfname)\n",
    "    with open(os.path.join(directory, md_fname), 'w') as fout:\n",
    "        fout.write(md)\n",
    "    print(\"exported in \", os.path.join(directory, md_fname))\n",
    "    [print(\"    + \" + os.path.join(directory,fk)) for fk in fig_fnames]"
   ]
  },
  {
   "cell_type": "code",
   "execution_count": 7,
   "id": "014d04a4",
   "metadata": {
    "execution": {
     "iopub.execute_input": "2023-07-25T04:06:18.430797Z",
     "iopub.status.busy": "2023-07-25T04:06:18.430146Z",
     "iopub.status.idle": "2023-07-25T04:06:18.436261Z",
     "shell.execute_reply": "2023-07-25T04:06:18.435525Z"
    },
    "papermill": {
     "duration": 0.014146,
     "end_time": "2023-07-25T04:06:18.437737",
     "exception": false,
     "start_time": "2023-07-25T04:06:18.423591",
     "status": "completed"
    },
    "tags": []
   },
   "outputs": [
    {
     "name": "stdout",
     "output_type": "stream",
     "text": [
      "exported in  _build/html/2307.11821.md\n",
      "    + _build/html/tmp_2307.11821/././figures/Fig3_combined_pol_astro.png\n",
      "    + _build/html/tmp_2307.11821/././figures/Fig6_Astrometry_and_Fractional_Polarimetry_v2.png\n",
      "    + _build/html/tmp_2307.11821/././figures/Fig7-centroid_motion_fit_with_fig3_binned_data.png\n"
     ]
    }
   ],
   "source": [
    "for paper_id, md in documents:\n",
    "    export_markdown_summary(md, f\"{paper_id:s}.md\", '_build/html/')"
   ]
  },
  {
   "cell_type": "markdown",
   "id": "f087a0a7",
   "metadata": {
    "papermill": {
     "duration": 0.005716,
     "end_time": "2023-07-25T04:06:18.449277",
     "exception": false,
     "start_time": "2023-07-25T04:06:18.443561",
     "status": "completed"
    },
    "tags": []
   },
   "source": [
    "## Display the papers\n",
    "\n",
    "Not necessary but allows for a quick check."
   ]
  },
  {
   "cell_type": "code",
   "execution_count": 8,
   "id": "fd25f625",
   "metadata": {
    "execution": {
     "iopub.execute_input": "2023-07-25T04:06:18.462493Z",
     "iopub.status.busy": "2023-07-25T04:06:18.461954Z",
     "iopub.status.idle": "2023-07-25T04:06:18.467103Z",
     "shell.execute_reply": "2023-07-25T04:06:18.466468Z"
    },
    "papermill": {
     "duration": 0.013547,
     "end_time": "2023-07-25T04:06:18.468640",
     "exception": false,
     "start_time": "2023-07-25T04:06:18.455093",
     "status": "completed"
    },
    "scrolled": false,
    "tags": []
   },
   "outputs": [
    {
     "data": {
      "text/markdown": [
       "<div class=\"macros\" style=\"visibility:hidden;\">\n",
       "$\\newcommand{\\ensuremath}{}$\n",
       "$\\newcommand{\\xspace}{}$\n",
       "$\\newcommand{\\object}[1]{\\texttt{#1}}$\n",
       "$\\newcommand{\\farcs}{{.}''}$\n",
       "$\\newcommand{\\farcm}{{.}'}$\n",
       "$\\newcommand{\\arcsec}{''}$\n",
       "$\\newcommand{\\arcmin}{'}$\n",
       "$\\newcommand{\\ion}[2]{#1#2}$\n",
       "$\\newcommand{\\textsc}[1]{\\textrm{#1}}$\n",
       "$\\newcommand{\\hl}[1]{\\textrm{#1}}$\n",
       "$\\newcommand{\\footnote}[1]{}$\n",
       "$\\newcommand$</div>\n",
       "\n",
       "\n",
       "\n",
       "<div id=\"title\">\n",
       "\n",
       "# Polarimetry and Astrometry of NIR Flares as Event Horizon Scale, Dynamical Probes for the Mass of Sgr A*\n",
       "\n",
       "</div>\n",
       "<div id=\"comments\">\n",
       "\n",
       "[![arXiv](https://img.shields.io/badge/arXiv-2307.11821-b31b1b.svg)](https://arxiv.org/abs/2307.11821)<mark>Appeared on: 2023-07-25</mark> -  _10 pages, 12 figures. Submitted to A&A_\n",
       "\n",
       "</div>\n",
       "<div id=\"authors\">\n",
       "\n",
       "G. Collaboration, et al. -- incl., <mark>S. Scheithauer</mark>\n",
       "\n",
       "</div>\n",
       "<div id=\"abstract\">\n",
       "\n",
       "**Abstract:** We present new astrometric and polarimetric observations of flares from Sgr A* obtained with GRAVITY, the near-infrared interferometer at ESO’s Very Large Telescope Interferometer (VLTI), bringing the total sample of well-covered astrometric flares to four and polarimetric ones to six, where we have for two flares good coverage in both domains. All astrometric flares show clockwise motion in the plane of the sky with a period of around an hour, and the polarization vector rotates by one full loop in the same time. Given the apparent similarities of the flares, we present a common fit, taking into account the absence of strong Doppler boosting peaks in the light curves and the EHT-measured geometry. Our results are consistent with and significantly strengthen our model from 2018: We find that a) the combination of polarization period and measured flare radius of around nine gravitational radii ( $9 R_g \\approx 1.5 R_{ISCO}$ , innermost stable circular orbit) is consistent with Keplerian orbital motion of hot spots in the innermost accretion zone. The mass inside the flares’ radius is consistent with the $\\SI{4.297e6}{\\solarmass}$ measured from stellar orbits at several thousand $R_g$ . This finding and the diameter of the millimeter shadow of Sgr A* thus support a single black hole model. Further, b) the magnetic field configuration is predominantly poloidal (vertical), and the flares’ orbital plane has a moderate inclination with respect to the plane of the sky, as shown by the non-detection of Doppler-boosting and the fact that we observe one polarization loop per astrometric loop. Moreover, c) both the position angle on sky and the required magnetic field strength suggest that the accretion flow is fueled and controlled by the winds of the massive, young stars of the clockwise stellar disk 1-5 $\\arcsec$ from Sgr A*, in agreement with recent simulations.\n",
       "\n",
       "</div>\n",
       "\n",
       "<div id=\"div_fig1\">\n",
       "\n",
       "<img src=\"tmp_2307.11821/././figures/Fig3_combined_pol_astro.png\" alt=\"Fig9\" width=\"100%\"/>\n",
       "\n",
       "**Figure 9. -** Combined astrometric (left half) and polarimetric (right half) data. The outer left panels show \\SI{R.A}, \\SI{Dec.} and position angle on sky as a function of time. The full data are shown in gray, the colored points are bins of five minutes, and the color indicates time. The outer right panels show $Q/I$, $U/I$ and polarization angle on sky versus time. Overplotted in the angle plots are slopes of $\\SI{6}{◦ee/\\minute} = \\SI{360}{◦ee/hour}$. The top panels in the middle illustrate the loops on sky (left) and in the $Q-U$ plane (right). The bottom middle panel shows the rotation of the polarization for the corresponding astrometric points -- one polarization rotation per astrometric orbit. The electric field vector rotates clockwise in the plane of the sky, as well as in the $Q-U$ plane.\n",
       "\t (*fig:averaged_flares*)\n",
       "\n",
       "</div>\n",
       "<div id=\"div_fig2\">\n",
       "\n",
       "<img src=\"tmp_2307.11821/././figures/Fig6_Astrometry_and_Fractional_Polarimetry_v2.png\" alt=\"Fig2\" width=\"100%\"/>\n",
       "\n",
       "**Figure 2. -**  Comparison of the polarization model with $R = 9 R_g$ and $i = \\SI{157}{◦ee}$ with the data from Fig. \\ref{fig:averaged_flares}.\n",
       "\t (*fig:polarization_fit*)\n",
       "\n",
       "</div>\n",
       "<div id=\"div_fig3\">\n",
       "\n",
       "<img src=\"tmp_2307.11821/././figures/Fig7-centroid_motion_fit_with_fig3_binned_data.png\" alt=\"Fig10\" width=\"100%\"/>\n",
       "\n",
       "**Figure 10. -** Combined fit of the astrometric flare data, taking into account the constraints from polarimetry. Left: On-sky motion. The gray disk corresponds to the shadow size of a Schwarzschild black hole $3 \\sqrt{3}R_g$. Middle and right panels: The individual coordinates as a function of time. The gray data points are the full data set and the colored points are bins of five minutes. (*fig:astrometry_fit*)\n",
       "\n",
       "</div><div id=\"qrcode\"><img src=https://api.qrserver.com/v1/create-qr-code/?size=100x100&data=\"https://arxiv.org/abs/2307.11821\"></div>"
      ],
      "text/plain": [
       "<IPython.core.display.Markdown object>"
      ]
     },
     "metadata": {},
     "output_type": "display_data"
    }
   ],
   "source": [
    "[display(Markdown(k[1])) for k in documents];"
   ]
  },
  {
   "cell_type": "markdown",
   "id": "873873a4",
   "metadata": {
    "papermill": {
     "duration": 0.006006,
     "end_time": "2023-07-25T04:06:18.480752",
     "exception": false,
     "start_time": "2023-07-25T04:06:18.474746",
     "status": "completed"
    },
    "tags": []
   },
   "source": [
    "# Create HTML index"
   ]
  },
  {
   "cell_type": "code",
   "execution_count": 9,
   "id": "cf665672",
   "metadata": {
    "execution": {
     "iopub.execute_input": "2023-07-25T04:06:18.494404Z",
     "iopub.status.busy": "2023-07-25T04:06:18.493864Z",
     "iopub.status.idle": "2023-07-25T04:06:18.503655Z",
     "shell.execute_reply": "2023-07-25T04:06:18.502902Z"
    },
    "papermill": {
     "duration": 0.01847,
     "end_time": "2023-07-25T04:06:18.505232",
     "exception": false,
     "start_time": "2023-07-25T04:06:18.486762",
     "status": "completed"
    },
    "tags": []
   },
   "outputs": [
    {
     "name": "stdout",
     "output_type": "stream",
     "text": [
      "233  publications files modified in the last 7 days.\n"
     ]
    }
   ],
   "source": [
    "from datetime import datetime, timedelta, timezone\n",
    "from glob import glob\n",
    "import os\n",
    "\n",
    "files = glob('_build/html/*.md')\n",
    "days = 7\n",
    "now = datetime.today()\n",
    "res = []\n",
    "for fk in files:\n",
    "    stat_result = os.stat(fk).st_ctime\n",
    "    modified = datetime.fromtimestamp(stat_result, tz=timezone.utc).replace(tzinfo=None)\n",
    "    delta = now.today() - modified\n",
    "    if delta <= timedelta(days=days):\n",
    "        res.append((delta.seconds, fk))\n",
    "res = [k[1] for k in reversed(sorted(res, key=lambda x:x[1]))]\n",
    "npub = len(res)\n",
    "print(len(res), f\" publications files modified in the last {days:d} days.\")\n",
    "# [ print('\\t', k) for k in res ];"
   ]
  },
  {
   "cell_type": "code",
   "execution_count": 10,
   "id": "015de740",
   "metadata": {
    "execution": {
     "iopub.execute_input": "2023-07-25T04:06:18.519134Z",
     "iopub.status.busy": "2023-07-25T04:06:18.518621Z",
     "iopub.status.idle": "2023-07-25T04:06:18.537677Z",
     "shell.execute_reply": "2023-07-25T04:06:18.537007Z"
    },
    "papermill": {
     "duration": 0.027676,
     "end_time": "2023-07-25T04:06:18.539179",
     "exception": false,
     "start_time": "2023-07-25T04:06:18.511503",
     "status": "completed"
    },
    "tags": []
   },
   "outputs": [
    {
     "name": "stdout",
     "output_type": "stream",
     "text": [
      "5  publications in the last 7 days.\n"
     ]
    }
   ],
   "source": [
    "import datetime\n",
    "from glob import glob\n",
    "\n",
    "def get_last_n_days(lst, days=1):\n",
    "    \"\"\" Get the documents from the last n days \"\"\"\n",
    "    sorted_lst = sorted(lst, key=lambda x: x[1], reverse=True)\n",
    "    for fname, date in sorted_lst:\n",
    "        if date >= str(datetime.date.today() - datetime.timedelta(days=days)):\n",
    "            yield fname\n",
    "\n",
    "def extract_appearance_dates(lst_file):\n",
    "    dates = []\n",
    "\n",
    "    def get_date(line):\n",
    "        return line\\\n",
    "            .split('Appeared on:')[-1]\\\n",
    "            .split('</mark>')[0].strip()\n",
    "\n",
    "    for fname in lst:\n",
    "        with open(fname, 'r') as f:\n",
    "            found_date = False\n",
    "            for line in f:\n",
    "                if not found_date:\n",
    "                    if \"Appeared on\" in line:\n",
    "                        found_date = True\n",
    "                        dates.append((fname, get_date(line)))\n",
    "                else:\n",
    "                    break\n",
    "    return dates\n",
    "\n",
    "from glob import glob\n",
    "lst = glob('_build/html/*md')\n",
    "days = 7\n",
    "dates = extract_appearance_dates(lst)\n",
    "res = list(get_last_n_days(dates, days))\n",
    "npub = len(res)\n",
    "print(len(res), f\" publications in the last {days:d} days.\")"
   ]
  },
  {
   "cell_type": "code",
   "execution_count": 11,
   "id": "52ca0208",
   "metadata": {
    "execution": {
     "iopub.execute_input": "2023-07-25T04:06:18.553428Z",
     "iopub.status.busy": "2023-07-25T04:06:18.552993Z",
     "iopub.status.idle": "2023-07-25T04:06:18.558641Z",
     "shell.execute_reply": "2023-07-25T04:06:18.558083Z"
    },
    "papermill": {
     "duration": 0.014735,
     "end_time": "2023-07-25T04:06:18.560246",
     "exception": false,
     "start_time": "2023-07-25T04:06:18.545511",
     "status": "completed"
    },
    "scrolled": false,
    "tags": []
   },
   "outputs": [],
   "source": [
    "def create_carousel(npub=4):\n",
    "    \"\"\" Generate the HTML code for a carousel with `npub` slides \"\"\"\n",
    "    carousel = [\"\"\"  <div class=\"carousel\" \"\"\",\n",
    "                \"\"\"       data-flickity='{ \"autoPlay\": 10000, \"adaptiveHeight\": true, \"resize\": true, \"wrapAround\": true, \"pauseAutoPlayOnHover\": true, \"groupCells\": 1 }' id=\"asyncTypeset\">\"\"\"\n",
    "                ]\n",
    "    \n",
    "    item_str = \"\"\"    <div class=\"carousel-cell\"> <div id=\"slide{k}\" class=\"md_view\">Content {k}</div> </div>\"\"\"\n",
    "    for k in range(1, npub + 1):\n",
    "        carousel.append(item_str.format(k=k))\n",
    "    carousel.append(\"  </div>\")\n",
    "    return '\\n'.join(carousel)\n",
    "\n",
    "def create_grid(npub=4):\n",
    "    \"\"\" Generate the HTML code for a flat grid with `npub` slides \"\"\"\n",
    "    grid = [\"\"\"  <div class=\"grid\"> \"\"\",\n",
    "                ]\n",
    "    \n",
    "    item_str = \"\"\"    <div class=\"grid-item\"> <div id=\"slide{k}\" class=\"md_view\">Content {k}</div> </div>\"\"\"\n",
    "    for k in range(1, npub + 1):\n",
    "        grid.append(item_str.format(k=k))\n",
    "    grid.append(\"  </div>\")\n",
    "    return '\\n'.join(grid)"
   ]
  },
  {
   "cell_type": "code",
   "execution_count": 12,
   "id": "a6eac5b6",
   "metadata": {
    "execution": {
     "iopub.execute_input": "2023-07-25T04:06:18.574669Z",
     "iopub.status.busy": "2023-07-25T04:06:18.574144Z",
     "iopub.status.idle": "2023-07-25T04:06:18.579939Z",
     "shell.execute_reply": "2023-07-25T04:06:18.579245Z"
    },
    "papermill": {
     "duration": 0.014677,
     "end_time": "2023-07-25T04:06:18.581455",
     "exception": false,
     "start_time": "2023-07-25T04:06:18.566778",
     "status": "completed"
    },
    "scrolled": false,
    "tags": []
   },
   "outputs": [],
   "source": [
    "carousel = create_carousel(npub)\n",
    "docs = ', '.join(['\"{0:s}\"'.format(k.split('/')[-1]) for k in res])\n",
    "slides = ', '.join([f'\"slide{k}\"' for k in range(1, npub + 1)])\n",
    "\n",
    "with open(\"daily_template.html\", \"r\") as tpl:\n",
    "    page = tpl.read()\n",
    "    page = page.replace(\"{%-- carousel:s --%}\", carousel)\\\n",
    "               .replace(\"{%-- suptitle:s --%}\",  \"7-day archives\" )\\\n",
    "               .replace(\"{%-- docs:s --%}\", docs)\\\n",
    "               .replace(\"{%-- slides:s --%}\", slides)\n",
    "    \n",
    "with open(\"_build/html/index_7days.html\", 'w') as fout:\n",
    "    fout.write(page)"
   ]
  },
  {
   "cell_type": "code",
   "execution_count": 13,
   "id": "adc1a1ec",
   "metadata": {
    "execution": {
     "iopub.execute_input": "2023-07-25T04:06:18.595769Z",
     "iopub.status.busy": "2023-07-25T04:06:18.595255Z",
     "iopub.status.idle": "2023-07-25T04:06:18.602710Z",
     "shell.execute_reply": "2023-07-25T04:06:18.602064Z"
    },
    "papermill": {
     "duration": 0.016329,
     "end_time": "2023-07-25T04:06:18.604144",
     "exception": false,
     "start_time": "2023-07-25T04:06:18.587815",
     "status": "completed"
    },
    "tags": []
   },
   "outputs": [
    {
     "name": "stdout",
     "output_type": "stream",
     "text": [
      "2  publications in the last day.\n"
     ]
    }
   ],
   "source": [
    "# redo for today\n",
    "days = 1\n",
    "res = list(get_last_n_days(dates, days))\n",
    "npub = len(res)\n",
    "print(len(res), f\" publications in the last day.\")\n",
    "\n",
    "carousel = create_carousel(npub)\n",
    "docs = ', '.join(['\"{0:s}\"'.format(k.split('/')[-1]) for k in res])\n",
    "slides = ', '.join([f'\"slide{k}\"' for k in range(1, npub + 1)])\n",
    "\n",
    "with open(\"daily_template.html\", \"r\") as tpl:\n",
    "    page = tpl.read()\n",
    "    page = page.replace(\"{%-- carousel:s --%}\", carousel)\\\n",
    "               .replace(\"{%-- suptitle:s --%}\",  \"Daily\" )\\\n",
    "               .replace(\"{%-- docs:s --%}\", docs)\\\n",
    "               .replace(\"{%-- slides:s --%}\", slides)\n",
    "    \n",
    "# print(carousel, docs, slides)\n",
    "# print(page)\n",
    "with open(\"_build/html/index_daily.html\", 'w') as fout:\n",
    "    fout.write(page)"
   ]
  },
  {
   "cell_type": "code",
   "execution_count": 14,
   "id": "00eece82",
   "metadata": {
    "execution": {
     "iopub.execute_input": "2023-07-25T04:06:18.618559Z",
     "iopub.status.busy": "2023-07-25T04:06:18.618048Z",
     "iopub.status.idle": "2023-07-25T04:06:18.625573Z",
     "shell.execute_reply": "2023-07-25T04:06:18.624907Z"
    },
    "papermill": {
     "duration": 0.016511,
     "end_time": "2023-07-25T04:06:18.627085",
     "exception": false,
     "start_time": "2023-07-25T04:06:18.610574",
     "status": "completed"
    },
    "scrolled": false,
    "tags": []
   },
   "outputs": [
    {
     "name": "stdout",
     "output_type": "stream",
     "text": [
      "6  6 publications selected.\n"
     ]
    }
   ],
   "source": [
    "# Create the flat grid of the last N papers (fixed number regardless of dates)\n",
    "from itertools import islice \n",
    "\n",
    "npub = 6\n",
    "res = [k[0] for k in (islice(reversed(sorted(dates, key=lambda x: x[1])), 6))]\n",
    "print(len(res), f\" {npub} publications selected.\")\n",
    "\n",
    "grid = create_grid(npub)\n",
    "docs = ', '.join(['\"{0:s}\"'.format(k.split('/')[-1]) for k in res])\n",
    "slides = ', '.join([f'\"slide{k}\"' for k in range(1, npub + 1)])\n",
    "\n",
    "with open(\"grid_template.html\", \"r\") as tpl:\n",
    "    page = tpl.read()\n",
    "    page = page.replace(\"{%-- grid-content:s --%}\", grid)\\\n",
    "               .replace(\"{%-- suptitle:s --%}\",  f\"Last {npub:,d} papers\" )\\\n",
    "               .replace(\"{%-- docs:s --%}\", docs)\\\n",
    "               .replace(\"{%-- slides:s --%}\", slides)\n",
    "    \n",
    "# print(grid, docs, slides)\n",
    "# print(page)\n",
    "with open(\"_build/html/index_npub_grid.html\", 'w') as fout:\n",
    "    fout.write(page)"
   ]
  }
 ],
 "metadata": {
  "kernelspec": {
   "display_name": "Python 3 (ipykernel)",
   "language": "python",
   "name": "python3"
  },
  "language_info": {
   "codemirror_mode": {
    "name": "ipython",
    "version": 3
   },
   "file_extension": ".py",
   "mimetype": "text/x-python",
   "name": "python",
   "nbconvert_exporter": "python",
   "pygments_lexer": "ipython3",
   "version": "3.9.17"
  },
  "papermill": {
   "default_parameters": {},
   "duration": 58.580711,
   "end_time": "2023-07-25T04:06:18.953439",
   "environment_variables": {},
   "exception": null,
   "input_path": "MPIA daily digest.ipynb",
   "output_path": "log.ipynb",
   "parameters": {},
   "start_time": "2023-07-25T04:05:20.372728",
   "version": "2.4.0"
  },
  "vscode": {
   "interpreter": {
    "hash": "aee8b7b246df8f9039afb4144a1f6fd8d2ca17a180786b69acc140d282b71a49"
   }
  },
  "widgets": {
   "application/vnd.jupyter.widget-state+json": {
    "state": {
     "07ec392cda4b448d9b3caf83dbfd4403": {
      "model_module": "@jupyter-widgets/controls",
      "model_module_version": "2.0.0",
      "model_name": "HTMLStyleModel",
      "state": {
       "_model_module": "@jupyter-widgets/controls",
       "_model_module_version": "2.0.0",
       "_model_name": "HTMLStyleModel",
       "_view_count": null,
       "_view_module": "@jupyter-widgets/base",
       "_view_module_version": "2.0.0",
       "_view_name": "StyleView",
       "background": null,
       "description_width": "",
       "font_size": null,
       "text_color": null
      }
     },
     "0d0f15854b284fa19ca5e35472cdffa5": {
      "model_module": "@jupyter-widgets/base",
      "model_module_version": "2.0.0",
      "model_name": "LayoutModel",
      "state": {
       "_model_module": "@jupyter-widgets/base",
       "_model_module_version": "2.0.0",
       "_model_name": "LayoutModel",
       "_view_count": null,
       "_view_module": "@jupyter-widgets/base",
       "_view_module_version": "2.0.0",
       "_view_name": "LayoutView",
       "align_content": null,
       "align_items": null,
       "align_self": null,
       "border_bottom": null,
       "border_left": null,
       "border_right": null,
       "border_top": null,
       "bottom": null,
       "display": null,
       "flex": null,
       "flex_flow": null,
       "grid_area": null,
       "grid_auto_columns": null,
       "grid_auto_flow": null,
       "grid_auto_rows": null,
       "grid_column": null,
       "grid_gap": null,
       "grid_row": null,
       "grid_template_areas": null,
       "grid_template_columns": null,
       "grid_template_rows": null,
       "height": null,
       "justify_content": null,
       "justify_items": null,
       "left": null,
       "margin": null,
       "max_height": null,
       "max_width": null,
       "min_height": null,
       "min_width": null,
       "object_fit": null,
       "object_position": null,
       "order": null,
       "overflow": null,
       "padding": null,
       "right": null,
       "top": null,
       "visibility": null,
       "width": null
      }
     },
     "0d4b143d095d481ab284c39de8746afc": {
      "model_module": "@jupyter-widgets/controls",
      "model_module_version": "2.0.0",
      "model_name": "HTMLStyleModel",
      "state": {
       "_model_module": "@jupyter-widgets/controls",
       "_model_module_version": "2.0.0",
       "_model_name": "HTMLStyleModel",
       "_view_count": null,
       "_view_module": "@jupyter-widgets/base",
       "_view_module_version": "2.0.0",
       "_view_name": "StyleView",
       "background": null,
       "description_width": "",
       "font_size": null,
       "text_color": null
      }
     },
     "227ffde65d2c4022be89d41f4bfb8868": {
      "model_module": "@jupyter-widgets/controls",
      "model_module_version": "2.0.0",
      "model_name": "ProgressStyleModel",
      "state": {
       "_model_module": "@jupyter-widgets/controls",
       "_model_module_version": "2.0.0",
       "_model_name": "ProgressStyleModel",
       "_view_count": null,
       "_view_module": "@jupyter-widgets/base",
       "_view_module_version": "2.0.0",
       "_view_name": "StyleView",
       "bar_color": null,
       "description_width": ""
      }
     },
     "46a70e2f5ce543d3902ba00cb10a842e": {
      "model_module": "@jupyter-widgets/controls",
      "model_module_version": "2.0.0",
      "model_name": "FloatProgressModel",
      "state": {
       "_dom_classes": [],
       "_model_module": "@jupyter-widgets/controls",
       "_model_module_version": "2.0.0",
       "_model_name": "FloatProgressModel",
       "_view_count": null,
       "_view_module": "@jupyter-widgets/controls",
       "_view_module_version": "2.0.0",
       "_view_name": "ProgressView",
       "bar_style": "success",
       "description": "",
       "description_allow_html": false,
       "layout": "IPY_MODEL_fdcb1e97386f4989bf125d12c9e7312f",
       "max": 4.0,
       "min": 0.0,
       "orientation": "horizontal",
       "style": "IPY_MODEL_227ffde65d2c4022be89d41f4bfb8868",
       "tabbable": null,
       "tooltip": null,
       "value": 4.0
      }
     },
     "5150926357864dcc9d519590c7ba66b1": {
      "model_module": "@jupyter-widgets/controls",
      "model_module_version": "2.0.0",
      "model_name": "HTMLModel",
      "state": {
       "_dom_classes": [],
       "_model_module": "@jupyter-widgets/controls",
       "_model_module_version": "2.0.0",
       "_model_name": "HTMLModel",
       "_view_count": null,
       "_view_module": "@jupyter-widgets/controls",
       "_view_module_version": "2.0.0",
       "_view_name": "HTMLView",
       "description": "",
       "description_allow_html": false,
       "layout": "IPY_MODEL_76ce07cd2e1542ffab024477b0d5208b",
       "placeholder": "​",
       "style": "IPY_MODEL_0d4b143d095d481ab284c39de8746afc",
       "tabbable": null,
       "tooltip": null,
       "value": " 4/4 [00:32&lt;00:00,  8.88s/it]"
      }
     },
     "57bda1f047e146c7a40bf5579b7972b0": {
      "model_module": "@jupyter-widgets/base",
      "model_module_version": "2.0.0",
      "model_name": "LayoutModel",
      "state": {
       "_model_module": "@jupyter-widgets/base",
       "_model_module_version": "2.0.0",
       "_model_name": "LayoutModel",
       "_view_count": null,
       "_view_module": "@jupyter-widgets/base",
       "_view_module_version": "2.0.0",
       "_view_name": "LayoutView",
       "align_content": null,
       "align_items": null,
       "align_self": null,
       "border_bottom": null,
       "border_left": null,
       "border_right": null,
       "border_top": null,
       "bottom": null,
       "display": null,
       "flex": null,
       "flex_flow": null,
       "grid_area": null,
       "grid_auto_columns": null,
       "grid_auto_flow": null,
       "grid_auto_rows": null,
       "grid_column": null,
       "grid_gap": null,
       "grid_row": null,
       "grid_template_areas": null,
       "grid_template_columns": null,
       "grid_template_rows": null,
       "height": null,
       "justify_content": null,
       "justify_items": null,
       "left": null,
       "margin": null,
       "max_height": null,
       "max_width": null,
       "min_height": null,
       "min_width": null,
       "object_fit": null,
       "object_position": null,
       "order": null,
       "overflow": null,
       "padding": null,
       "right": null,
       "top": null,
       "visibility": null,
       "width": null
      }
     },
     "76ce07cd2e1542ffab024477b0d5208b": {
      "model_module": "@jupyter-widgets/base",
      "model_module_version": "2.0.0",
      "model_name": "LayoutModel",
      "state": {
       "_model_module": "@jupyter-widgets/base",
       "_model_module_version": "2.0.0",
       "_model_name": "LayoutModel",
       "_view_count": null,
       "_view_module": "@jupyter-widgets/base",
       "_view_module_version": "2.0.0",
       "_view_name": "LayoutView",
       "align_content": null,
       "align_items": null,
       "align_self": null,
       "border_bottom": null,
       "border_left": null,
       "border_right": null,
       "border_top": null,
       "bottom": null,
       "display": null,
       "flex": null,
       "flex_flow": null,
       "grid_area": null,
       "grid_auto_columns": null,
       "grid_auto_flow": null,
       "grid_auto_rows": null,
       "grid_column": null,
       "grid_gap": null,
       "grid_row": null,
       "grid_template_areas": null,
       "grid_template_columns": null,
       "grid_template_rows": null,
       "height": null,
       "justify_content": null,
       "justify_items": null,
       "left": null,
       "margin": null,
       "max_height": null,
       "max_width": null,
       "min_height": null,
       "min_width": null,
       "object_fit": null,
       "object_position": null,
       "order": null,
       "overflow": null,
       "padding": null,
       "right": null,
       "top": null,
       "visibility": null,
       "width": null
      }
     },
     "9e2ba8da8cf843a386702a967b041065": {
      "model_module": "@jupyter-widgets/controls",
      "model_module_version": "2.0.0",
      "model_name": "HTMLModel",
      "state": {
       "_dom_classes": [],
       "_model_module": "@jupyter-widgets/controls",
       "_model_module_version": "2.0.0",
       "_model_name": "HTMLModel",
       "_view_count": null,
       "_view_module": "@jupyter-widgets/controls",
       "_view_module_version": "2.0.0",
       "_view_name": "HTMLView",
       "description": "",
       "description_allow_html": false,
       "layout": "IPY_MODEL_57bda1f047e146c7a40bf5579b7972b0",
       "placeholder": "​",
       "style": "IPY_MODEL_07ec392cda4b448d9b3caf83dbfd4403",
       "tabbable": null,
       "tooltip": null,
       "value": "100%"
      }
     },
     "b94b11abb6cb44e5835e1c11e405bc47": {
      "model_module": "@jupyter-widgets/controls",
      "model_module_version": "2.0.0",
      "model_name": "HBoxModel",
      "state": {
       "_dom_classes": [],
       "_model_module": "@jupyter-widgets/controls",
       "_model_module_version": "2.0.0",
       "_model_name": "HBoxModel",
       "_view_count": null,
       "_view_module": "@jupyter-widgets/controls",
       "_view_module_version": "2.0.0",
       "_view_name": "HBoxView",
       "box_style": "",
       "children": [
        "IPY_MODEL_9e2ba8da8cf843a386702a967b041065",
        "IPY_MODEL_46a70e2f5ce543d3902ba00cb10a842e",
        "IPY_MODEL_5150926357864dcc9d519590c7ba66b1"
       ],
       "layout": "IPY_MODEL_0d0f15854b284fa19ca5e35472cdffa5",
       "tabbable": null,
       "tooltip": null
      }
     },
     "fdcb1e97386f4989bf125d12c9e7312f": {
      "model_module": "@jupyter-widgets/base",
      "model_module_version": "2.0.0",
      "model_name": "LayoutModel",
      "state": {
       "_model_module": "@jupyter-widgets/base",
       "_model_module_version": "2.0.0",
       "_model_name": "LayoutModel",
       "_view_count": null,
       "_view_module": "@jupyter-widgets/base",
       "_view_module_version": "2.0.0",
       "_view_name": "LayoutView",
       "align_content": null,
       "align_items": null,
       "align_self": null,
       "border_bottom": null,
       "border_left": null,
       "border_right": null,
       "border_top": null,
       "bottom": null,
       "display": null,
       "flex": null,
       "flex_flow": null,
       "grid_area": null,
       "grid_auto_columns": null,
       "grid_auto_flow": null,
       "grid_auto_rows": null,
       "grid_column": null,
       "grid_gap": null,
       "grid_row": null,
       "grid_template_areas": null,
       "grid_template_columns": null,
       "grid_template_rows": null,
       "height": null,
       "justify_content": null,
       "justify_items": null,
       "left": null,
       "margin": null,
       "max_height": null,
       "max_width": null,
       "min_height": null,
       "min_width": null,
       "object_fit": null,
       "object_position": null,
       "order": null,
       "overflow": null,
       "padding": null,
       "right": null,
       "top": null,
       "visibility": null,
       "width": null
      }
     }
    },
    "version_major": 2,
    "version_minor": 0
   }
  }
 },
 "nbformat": 4,
 "nbformat_minor": 5
}