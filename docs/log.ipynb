{
 "cells": [
  {
   "cell_type": "markdown",
   "id": "92bcb855",
   "metadata": {
    "papermill": {
     "duration": 0.006126,
     "end_time": "2023-03-06T04:08:33.729921",
     "exception": false,
     "start_time": "2023-03-06T04:08:33.723795",
     "status": "completed"
    },
    "tags": []
   },
   "source": [
    "# MPIA Arxiv on Deck 2\n",
    "\n",
    "Contains the steps to produce the paper extractions."
   ]
  },
  {
   "cell_type": "code",
   "execution_count": 1,
   "id": "3a0d6e11",
   "metadata": {
    "execution": {
     "iopub.execute_input": "2023-03-06T04:08:33.742003Z",
     "iopub.status.busy": "2023-03-06T04:08:33.741391Z",
     "iopub.status.idle": "2023-03-06T04:08:34.041840Z",
     "shell.execute_reply": "2023-03-06T04:08:34.040754Z"
    },
    "papermill": {
     "duration": 0.309554,
     "end_time": "2023-03-06T04:08:34.044455",
     "exception": false,
     "start_time": "2023-03-06T04:08:33.734901",
     "status": "completed"
    },
    "tags": []
   },
   "outputs": [],
   "source": [
    "# Imports\n",
    "import os\n",
    "from IPython.display import Markdown, display\n",
    "from tqdm.notebook import tqdm\n",
    "import warnings\n",
    "from PIL import Image \n",
    "\n",
    "# requires arxiv_on_deck_2\n",
    "\n",
    "from arxiv_on_deck_2.arxiv2 import (get_new_papers, \n",
    "                                    get_paper_from_identifier,\n",
    "                                    retrieve_document_source, \n",
    "                                    get_markdown_badge)\n",
    "from arxiv_on_deck_2 import (latex,\n",
    "                             latex_bib,\n",
    "                             mpia,\n",
    "                             highlight_authors_in_list)\n",
    "\n",
    "# Sometimes images are really big\n",
    "Image.MAX_IMAGE_PIXELS = 1000000000 "
   ]
  },
  {
   "cell_type": "code",
   "execution_count": 2,
   "id": "22aa9d44",
   "metadata": {
    "execution": {
     "iopub.execute_input": "2023-03-06T04:08:34.057830Z",
     "iopub.status.busy": "2023-03-06T04:08:34.056884Z",
     "iopub.status.idle": "2023-03-06T04:08:34.064200Z",
     "shell.execute_reply": "2023-03-06T04:08:34.063254Z"
    },
    "papermill": {
     "duration": 0.017909,
     "end_time": "2023-03-06T04:08:34.067184",
     "exception": false,
     "start_time": "2023-03-06T04:08:34.049275",
     "status": "completed"
    },
    "tags": []
   },
   "outputs": [],
   "source": [
    "# Some useful definitions.\n",
    "\n",
    "class AffiliationWarning(UserWarning):\n",
    "    pass\n",
    "\n",
    "class AffiliationError(RuntimeError):\n",
    "    pass\n",
    "\n",
    "def validation(source: str):\n",
    "    \"\"\"Raises error paper during parsing of source file\n",
    "    \n",
    "    Allows checks before parsing TeX code.\n",
    "    \n",
    "    Raises AffiliationWarning\n",
    "    \"\"\"\n",
    "    check = mpia.affiliation_verifications(source, verbose=True)\n",
    "    if check is not True:\n",
    "        raise AffiliationError(\"mpia.affiliation_verifications: \" + check)\n",
    "\n",
    "        \n",
    "warnings.simplefilter('always', AffiliationWarning)"
   ]
  },
  {
   "cell_type": "code",
   "execution_count": 3,
   "id": "14622700",
   "metadata": {
    "execution": {
     "iopub.execute_input": "2023-03-06T04:08:34.078568Z",
     "iopub.status.busy": "2023-03-06T04:08:34.078251Z",
     "iopub.status.idle": "2023-03-06T04:08:34.083619Z",
     "shell.execute_reply": "2023-03-06T04:08:34.082674Z"
    },
    "papermill": {
     "duration": 0.013528,
     "end_time": "2023-03-06T04:08:34.086000",
     "exception": false,
     "start_time": "2023-03-06T04:08:34.072472",
     "status": "completed"
    },
    "tags": []
   },
   "outputs": [],
   "source": [
    "# additional CSS to consider. \n",
    "# TODO: Current into each exported file. \n",
    "#       This should be set once into the webpages directly.\n",
    "#       With only the class/id definitions in the .md files.\n",
    "\n",
    "debug_html = \"\"\"\n",
    "<style>\n",
    "#wrap{ overflow:auto; }\n",
    "#fig1{ background:yellow; width:100%; float:left; padding:5px;  }\n",
    "#fig2{ background:red; width:50%; float:left; clear:left; padding:5px;  }\n",
    "#fig3{ background:green; width:50%; float:left; padding:5px;   }\n",
    ".macros{ background:yellow; visibility:visible;}\n",
    "h1 {margin: 0 0 0 0;}\n",
    "mark {background-color:#fff3b6;}\n",
    "img {object-fit:contain; max-height:250px; display:inline-block; text-align: center;}\n",
    "</style>\n",
    "\"\"\" \n",
    "html = \"\"\"\n",
    "<style>\n",
    "#wrap{ overflow:auto; }\n",
    "#fig1{ width:100%; float:left; padding: 5px;  }\n",
    "#fig2{ width:50%; float:left; clear:left; padding: 5px;  }\n",
    "#fig3{ width:50%; float:left; padding: 5px;  }\n",
    ".macros{ visibility:hidden; height:0px; }\n",
    "h1 {margin: 0em 0 0 0;}\n",
    "mark {background-color:#fff3b6;}\n",
    "img {object-fit:contain; max-height:250px; display:inline-block; text-align: center;}\n",
    "</style>\n",
    "\"\"\""
   ]
  },
  {
   "cell_type": "markdown",
   "id": "14bd6310",
   "metadata": {
    "papermill": {
     "duration": 0.004375,
     "end_time": "2023-03-06T04:08:34.095165",
     "exception": false,
     "start_time": "2023-03-06T04:08:34.090790",
     "status": "completed"
    },
    "tags": []
   },
   "source": [
    "## get list of arxiv paper candidates\n",
    "\n",
    "We use the MPIA mitarbeiter list webpage from mpia.de to get author names\n",
    "We then get all new papers from Arxiv and match authors"
   ]
  },
  {
   "cell_type": "code",
   "execution_count": 4,
   "id": "2645e73a",
   "metadata": {
    "execution": {
     "iopub.execute_input": "2023-03-06T04:08:34.109251Z",
     "iopub.status.busy": "2023-03-06T04:08:34.108561Z",
     "iopub.status.idle": "2023-03-06T04:09:04.366812Z",
     "shell.execute_reply": "2023-03-06T04:09:04.365983Z"
    },
    "papermill": {
     "duration": 30.267874,
     "end_time": "2023-03-06T04:09:04.370585",
     "exception": false,
     "start_time": "2023-03-06T04:08:34.102711",
     "status": "completed"
    },
    "tags": []
   },
   "outputs": [
    {
     "name": "stdout",
     "output_type": "stream",
     "text": [
      "Arxiv has 37 new papers today\n",
      "          9 with possible author matches\n"
     ]
    }
   ],
   "source": [
    "# get list from MPIA website\n",
    "# it automatically filters identified non-scientists :func:`mpia.filter_non_scientists`\n",
    "mpia_authors = mpia.get_mpia_mitarbeiter_list()\n",
    "new_papers = get_new_papers()\n",
    "# add manual references\n",
    "add_paper_refs = []\n",
    "new_papers.extend([get_paper_from_identifier(k) for k in add_paper_refs])\n",
    "\n",
    "# select only papers with matching author names and highlight authors\n",
    "hl_list = [k[0] for k in mpia_authors]\n",
    "\n",
    "candidates = []\n",
    "for paperk in new_papers:\n",
    "    hl_authors = highlight_authors_in_list(paperk['authors'], hl_list)\n",
    "    matches = [(hl, orig) for hl, orig in zip(hl_authors, paperk['authors']) if 'mark' in hl]\n",
    "    paperk['authors'] = hl_authors\n",
    "    if matches:\n",
    "        candidates.append(paperk)\n",
    "print(\"\"\"Arxiv has {0:,d} new papers today\"\"\".format(len(new_papers)))        \n",
    "print(\"\"\"          {0:,d} with possible author matches\"\"\".format(len(candidates)))"
   ]
  },
  {
   "cell_type": "markdown",
   "id": "3543b34a",
   "metadata": {
    "papermill": {
     "duration": 0.007054,
     "end_time": "2023-03-06T04:09:04.381943",
     "exception": false,
     "start_time": "2023-03-06T04:09:04.374889",
     "status": "completed"
    },
    "tags": []
   },
   "source": [
    "# Parse sources and generate relevant outputs\n",
    "\n",
    "From the candidates, we do the following steps:\n",
    "* get their tarball from ArXiv (and extract data)\n",
    "* find the main .tex file: find one with \\documentclass{...} (sometimes it's non trivial)\n",
    "* Check affiliations with :func:`validation`, which uses :func:`mpia.affiliation_verifications`\n",
    "* If passing the affiliations: we parse the .tex source\n",
    "   * inject sub-documents into the main (flatten the main document)\n",
    "   * parse structure, extract information (title, abstract, authors, figures...)\n",
    "   * handles `\\graphicspath` if provided\n",
    "* Generate the .md document."
   ]
  },
  {
   "cell_type": "code",
   "execution_count": 5,
   "id": "9576b79e",
   "metadata": {
    "execution": {
     "iopub.execute_input": "2023-03-06T04:09:04.394002Z",
     "iopub.status.busy": "2023-03-06T04:09:04.393064Z",
     "iopub.status.idle": "2023-03-06T04:10:04.388404Z",
     "shell.execute_reply": "2023-03-06T04:10:04.387441Z"
    },
    "papermill": {
     "duration": 60.005354,
     "end_time": "2023-03-06T04:10:04.391952",
     "exception": false,
     "start_time": "2023-03-06T04:09:04.386598",
     "status": "completed"
    },
    "scrolled": false,
    "tags": []
   },
   "outputs": [
    {
     "data": {
      "application/vnd.jupyter.widget-view+json": {
       "model_id": "08de74cff9f944be87e8a550d9dca6a0",
       "version_major": 2,
       "version_minor": 0
      },
      "text/plain": [
       "  0%|          | 0/8 [00:00<?, ?it/s]"
      ]
     },
     "metadata": {},
     "output_type": "display_data"
    },
    {
     "name": "stdout",
     "output_type": "stream",
     "text": [
      "Retrieving document from  https://arxiv.org/e-print/2303.01524\n"
     ]
    },
    {
     "name": "stdout",
     "output_type": "stream",
     "text": [
      "extracting tarball to tmp_2303.01524..."
     ]
    },
    {
     "name": "stdout",
     "output_type": "stream",
     "text": [
      " done.\n",
      "Retrieving document from  https://arxiv.org/e-print/2303.01528\n"
     ]
    },
    {
     "name": "stderr",
     "output_type": "stream",
     "text": [
      "/opt/hostedtoolcache/Python/3.9.16/x64/lib/python3.9/site-packages/IPython/core/interactiveshell.py:3460: LatexWarning: Multiple tex files.\n",
      "\n",
      "  exec(code_obj, self.user_global_ns, self.user_ns)\n",
      "/opt/hostedtoolcache/Python/3.9.16/x64/lib/python3.9/site-packages/IPython/core/interactiveshell.py:3460: LatexWarning: Found documentclass in tmp_2303.01524/main.tex\n",
      "\n",
      "  exec(code_obj, self.user_global_ns, self.user_ns)\n"
     ]
    },
    {
     "name": "stdout",
     "output_type": "stream",
     "text": [
      "extracting tarball to tmp_2303.01528..."
     ]
    },
    {
     "name": "stdout",
     "output_type": "stream",
     "text": [
      " done.\n"
     ]
    },
    {
     "name": "stdout",
     "output_type": "stream",
     "text": [
      "Retrieving document from  https://arxiv.org/e-print/2303.01637\n"
     ]
    },
    {
     "name": "stdout",
     "output_type": "stream",
     "text": [
      "extracting tarball to tmp_2303.01637..."
     ]
    },
    {
     "name": "stdout",
     "output_type": "stream",
     "text": [
      " done.\n",
      "Retrieving document from  https://arxiv.org/e-print/2303.01658\n"
     ]
    },
    {
     "name": "stderr",
     "output_type": "stream",
     "text": [
      "/opt/hostedtoolcache/Python/3.9.16/x64/lib/python3.9/site-packages/IPython/core/interactiveshell.py:3460: LatexWarning: Multiple tex files.\n",
      "\n",
      "  exec(code_obj, self.user_global_ns, self.user_ns)\n",
      "/opt/hostedtoolcache/Python/3.9.16/x64/lib/python3.9/site-packages/IPython/core/interactiveshell.py:3460: LatexWarning: Found documentclass in tmp_2303.01637/paper.tex\n",
      "\n",
      "  exec(code_obj, self.user_global_ns, self.user_ns)\n",
      "/opt/hostedtoolcache/Python/3.9.16/x64/lib/python3.9/site-packages/arxiv_on_deck_2/latex.py:312: LatexWarning: Latex injecting: 'ap_sources' from 'tmp_2303.01637/ap_sources.tex'\n",
      "  warnings.warn(LatexWarning(f\"Latex injecting: '{ext}' from '{subsource}'\"))\n",
      "/opt/hostedtoolcache/Python/3.9.16/x64/lib/python3.9/site-packages/arxiv_on_deck_2/latex.py:312: LatexWarning: Latex injecting: 'sec_conclusions.tex' from 'tmp_2303.01637/sec_conclusions.tex'\n",
      "  warnings.warn(LatexWarning(f\"Latex injecting: '{ext}' from '{subsource}'\"))\n",
      "/opt/hostedtoolcache/Python/3.9.16/x64/lib/python3.9/site-packages/arxiv_on_deck_2/latex.py:312: LatexWarning: Latex injecting: 'sec_massfunc.tex' from 'tmp_2303.01637/sec_massfunc.tex'\n",
      "  warnings.warn(LatexWarning(f\"Latex injecting: '{ext}' from '{subsource}'\"))\n",
      "/opt/hostedtoolcache/Python/3.9.16/x64/lib/python3.9/site-packages/arxiv_on_deck_2/latex.py:312: LatexWarning: Latex injecting: 'sec_results.tex' from 'tmp_2303.01637/sec_results.tex'\n",
      "  warnings.warn(LatexWarning(f\"Latex injecting: '{ext}' from '{subsource}'\"))\n",
      "/opt/hostedtoolcache/Python/3.9.16/x64/lib/python3.9/site-packages/arxiv_on_deck_2/latex.py:312: LatexWarning: Latex injecting: 'sec_fitting.tex' from 'tmp_2303.01637/sec_fitting.tex'\n",
      "  warnings.warn(LatexWarning(f\"Latex injecting: '{ext}' from '{subsource}'\"))\n",
      "/opt/hostedtoolcache/Python/3.9.16/x64/lib/python3.9/site-packages/arxiv_on_deck_2/latex.py:312: LatexWarning: Latex injecting: 'sec_data.tex' from 'tmp_2303.01637/sec_data.tex'\n",
      "  warnings.warn(LatexWarning(f\"Latex injecting: '{ext}' from '{subsource}'\"))\n",
      "/opt/hostedtoolcache/Python/3.9.16/x64/lib/python3.9/site-packages/arxiv_on_deck_2/latex.py:312: LatexWarning: Latex injecting: 'sec_models.tex' from 'tmp_2303.01637/sec_models.tex'\n",
      "  warnings.warn(LatexWarning(f\"Latex injecting: '{ext}' from '{subsource}'\"))\n",
      "/opt/hostedtoolcache/Python/3.9.16/x64/lib/python3.9/site-packages/arxiv_on_deck_2/latex.py:312: LatexWarning: Latex injecting: 'sec_intro.tex' from 'tmp_2303.01637/sec_intro.tex'\n",
      "  warnings.warn(LatexWarning(f\"Latex injecting: '{ext}' from '{subsource}'\"))\n"
     ]
    },
    {
     "name": "stdout",
     "output_type": "stream",
     "text": [
      "extracting tarball to tmp_2303.01658..."
     ]
    },
    {
     "name": "stdout",
     "output_type": "stream",
     "text": [
      " done.\n",
      "Retrieving document from  https://arxiv.org/e-print/2303.01700\n"
     ]
    },
    {
     "name": "stderr",
     "output_type": "stream",
     "text": [
      "/opt/hostedtoolcache/Python/3.9.16/x64/lib/python3.9/site-packages/IPython/core/interactiveshell.py:3460: LatexWarning: Multiple tex files.\n",
      "\n",
      "  exec(code_obj, self.user_global_ns, self.user_ns)\n",
      "/opt/hostedtoolcache/Python/3.9.16/x64/lib/python3.9/site-packages/IPython/core/interactiveshell.py:3460: LatexWarning: Found documentclass in tmp_2303.01658/main_text.tex\n",
      "\n",
      "  exec(code_obj, self.user_global_ns, self.user_ns)\n",
      "/opt/hostedtoolcache/Python/3.9.16/x64/lib/python3.9/site-packages/arxiv_on_deck_2/latex.py:312: LatexWarning: Latex injecting: 'alcs_catalog2_update.tex' from 'tmp_2303.01658/alcs_catalog2_update.tex'\n",
      "  warnings.warn(LatexWarning(f\"Latex injecting: '{ext}' from '{subsource}'\"))\n",
      "/opt/hostedtoolcache/Python/3.9.16/x64/lib/python3.9/site-packages/arxiv_on_deck_2/latex.py:312: LatexWarning: Latex injecting: 'alcs_catalog.tex' from 'tmp_2303.01658/alcs_catalog.tex'\n",
      "  warnings.warn(LatexWarning(f\"Latex injecting: '{ext}' from '{subsource}'\"))\n",
      "/opt/hostedtoolcache/Python/3.9.16/x64/lib/python3.9/site-packages/arxiv_on_deck_2/latex.py:312: LatexWarning: Latex injecting: 'alcs_catalog.tex' from 'tmp_2303.01658/alcs_catalog.tex'\n",
      "  warnings.warn(LatexWarning(f\"Latex injecting: '{ext}' from '{subsource}'\"))\n",
      "/opt/hostedtoolcache/Python/3.9.16/x64/lib/python3.9/site-packages/arxiv_on_deck_2/latex.py:312: LatexWarning: Latex injecting: 'alcs_data_prop.tex' from 'tmp_2303.01658/alcs_data_prop.tex'\n",
      "  warnings.warn(LatexWarning(f\"Latex injecting: '{ext}' from '{subsource}'\"))\n"
     ]
    },
    {
     "name": "stderr",
     "output_type": "stream",
     "text": [
      "/tmp/ipykernel_1997/4289671964.py:41: LatexWarning: 2303.01700 did not run properly\n",
      "not a gzip file\n",
      "  warnings.warn(latex.LatexWarning(f\"{paper_id:s} did not run properly\\n\" +\n"
     ]
    },
    {
     "name": "stdout",
     "output_type": "stream",
     "text": [
      "Retrieving document from  https://arxiv.org/e-print/2303.01753\n"
     ]
    },
    {
     "name": "stdout",
     "output_type": "stream",
     "text": [
      "extracting tarball to tmp_2303.01753..."
     ]
    },
    {
     "name": "stdout",
     "output_type": "stream",
     "text": [
      " done.\n",
      "Retrieving document from  https://arxiv.org/e-print/2303.01854\n"
     ]
    },
    {
     "name": "stdout",
     "output_type": "stream",
     "text": [
      "extracting tarball to tmp_2303.01854..."
     ]
    },
    {
     "name": "stdout",
     "output_type": "stream",
     "text": [
      " done.\n",
      "Retrieving document from  https://arxiv.org/e-print/2303.01857\n"
     ]
    },
    {
     "name": "stdout",
     "output_type": "stream",
     "text": [
      "extracting tarball to tmp_2303.01857..."
     ]
    },
    {
     "name": "stdout",
     "output_type": "stream",
     "text": [
      " done.\n"
     ]
    },
    {
     "name": "stderr",
     "output_type": "stream",
     "text": [
      "/opt/hostedtoolcache/Python/3.9.16/x64/lib/python3.9/site-packages/IPython/core/interactiveshell.py:3460: LatexWarning: Multiple tex files.\n",
      "\n",
      "  exec(code_obj, self.user_global_ns, self.user_ns)\n",
      "/opt/hostedtoolcache/Python/3.9.16/x64/lib/python3.9/site-packages/IPython/core/interactiveshell.py:3460: LatexWarning: Found documentclass in tmp_2303.01857/aassymbols.tex\n",
      "\n",
      "  exec(code_obj, self.user_global_ns, self.user_ns)\n"
     ]
    }
   ],
   "source": [
    "documents = []\n",
    "failed = []\n",
    "for paper in tqdm(candidates[:-1]):\n",
    "    paper_id = paper['identifier'].lower().replace('arxiv:', '')\n",
    "    \n",
    "    folder = f'tmp_{paper_id}'\n",
    "\n",
    "    try:\n",
    "        if not os.path.isdir(folder):\n",
    "            folder = retrieve_document_source(f\"{paper_id}\", f'tmp_{paper_id}')\n",
    "        \n",
    "        try:\n",
    "            doc = latex.LatexDocument(folder, validation=validation)    \n",
    "        except AffiliationError as affilerror:\n",
    "            msg = f\"ArXiv:{paper_id:s} is not an MPIA paper... \" + str(affilerror)\n",
    "            failed.append((paper, \"affiliation error: \" + str(affilerror) ))\n",
    "            continue\n",
    "        \n",
    "        # Hack because sometimes author parsing does not work well\n",
    "        if (len(doc.authors) != len(paper['authors'])):\n",
    "            doc._authors = paper['authors']\n",
    "        if (doc.abstract) in (None, ''):\n",
    "            doc._abstract = paper['abstract']\n",
    "            \n",
    "        doc.comment = (get_markdown_badge(paper_id) + \n",
    "                       \"<mark>Appeared on: \" + paper['date'] + \"</mark> - \" +\n",
    "                       \"_\" + paper['comments'] + \"_\")\n",
    "        doc.highlight_authors_in_list(hl_list)\n",
    "\n",
    "        full_md = doc.generate_markdown_text()\n",
    "        \n",
    "        # replace citations\n",
    "        try:\n",
    "            bibdata = latex_bib.LatexBib.from_doc(doc)\n",
    "            full_md = latex_bib.replace_citations(full_md, bibdata)\n",
    "        except Exception as e:\n",
    "            print(e)\n",
    "        \n",
    "        documents.append((paper_id, full_md))\n",
    "    except Exception as e:\n",
    "        warnings.warn(latex.LatexWarning(f\"{paper_id:s} did not run properly\\n\" +\n",
    "                                         str(e)\n",
    "                                        ))\n",
    "        failed.append((paper, \"latex error \" + str(e)))"
   ]
  },
  {
   "cell_type": "markdown",
   "id": "2505a25c",
   "metadata": {
    "papermill": {
     "duration": 0.00596,
     "end_time": "2023-03-06T04:10:04.405051",
     "exception": false,
     "start_time": "2023-03-06T04:10:04.399091",
     "status": "completed"
    },
    "tags": []
   },
   "source": [
    "### Export the logs\n",
    "\n",
    "Throughout, we also keep track of the logs per paper. see `logs-{today date}.md` "
   ]
  },
  {
   "cell_type": "code",
   "execution_count": 6,
   "id": "d733828a",
   "metadata": {
    "execution": {
     "iopub.execute_input": "2023-03-06T04:10:04.420356Z",
     "iopub.status.busy": "2023-03-06T04:10:04.419582Z",
     "iopub.status.idle": "2023-03-06T04:10:04.451884Z",
     "shell.execute_reply": "2023-03-06T04:10:04.450949Z"
    },
    "papermill": {
     "duration": 0.042028,
     "end_time": "2023-03-06T04:10:04.454003",
     "exception": false,
     "start_time": "2023-03-06T04:10:04.411975",
     "status": "completed"
    },
    "scrolled": false,
    "tags": []
   },
   "outputs": [
    {
     "data": {
      "text/markdown": [
       "## Successful papers"
      ],
      "text/plain": [
       "<IPython.core.display.Markdown object>"
      ]
     },
     "metadata": {},
     "output_type": "display_data"
    },
    {
     "data": {
      "text/markdown": [
       "\n",
       "|||\n",
       "|---:|:---|\n",
       "| [![arXiv](https://img.shields.io/badge/arXiv-arXiv:2303.01528-b31b1b.svg)](https://arxiv.org/abs/arXiv:2303.01528) | **The PAndAS View of the Andromeda Satellite System. IV Global properties**  |\n",
       "|| Amandine Doliva-Dolinsky, et al. -- incl., <mark>Geraint F. Lewis</mark> |\n",
       "|*Appeared on*| *2023-03-06*|\n",
       "|*Comments*| *Submitted to ApJ - 12 pages, 6 figures, 2 tables*|\n",
       "|**Abstract**| We build a statistical framework to infer the global properties of the satellite system of the Andromeda galaxy (M31) from the properties of individual dwarf galaxies located in the Pan-Andromeda Archaelogical Survey (PAndAS) and the previously determined completeness of the survey. Using forward modeling, we infer the slope of the luminosity function of the satellite system, the slope of its spatial density distribution, and the size-luminosity relation followed by the dwarf galaxies. We find that the slope of the luminosity function is $\\beta=-1.5\\pm0.1$. Combined with the spatial density profile, it implies that, when accounting for survey incompleteness, M31 hosts $92_{-26}^{+19}$ dwarf galaxies with $M_\\textrm{V}<-5.5$ and a sky-projected distance from M31 between 30 and 300kpc. We conclude that many faint or distant dwarf galaxies remain to be discovered around Andromeda, especially outside the PAndAS footprint. Finally, we use our model to test if the higher number of satellites situated in the hemisphere facing the Milky Way could be explained simply by the detection limits of dwarf galaxy searches. We rule this out at $>99.9\\%$ confidence and conclude that this anisotropy is an intrinsic feature of the M31 satellite system. The statistical framework we present here is a powerful tool to robustly constrain the properties of a satellite system and compare those across hosts, especially considering the upcoming start of the Euclid or Rubin large photometric surveys that are expected to uncover a large number of dwarf galaxies in the Local Volume. |"
      ],
      "text/plain": [
       "[arXiv:2303.01528] The PAndAS View of the Andromeda Satellite System. IV Global properties\n",
       "\tAmandine Doliva-Dolinsky, et al. -- incl., <mark>Geraint F. Lewis</mark>"
      ]
     },
     "metadata": {},
     "output_type": "display_data"
    },
    {
     "data": {
      "text/markdown": [
       "## Failed papers"
      ],
      "text/plain": [
       "<IPython.core.display.Markdown object>"
      ]
     },
     "metadata": {},
     "output_type": "display_data"
    },
    {
     "data": {
      "text/markdown": [
       "\n",
       "|||\n",
       "|---:|:---|\n",
       "| [![arXiv](https://img.shields.io/badge/arXiv-arXiv:2303.01524-b31b1b.svg)](https://arxiv.org/abs/arXiv:2303.01524) | **Where are the Cascades from Blazar Jets? An Emerging Tension in the  $γ$-ray sky**  |\n",
       "|| Carlos Blanco, <mark>Oindrila Ghosh</mark>, Sunniva Jacobsen, Tim Linden |\n",
       "|*Appeared on*| *2023-03-06*|\n",
       "|*Comments*| **|\n",
       "|**Abstract**| Blazars are among the most powerful accelerators and are expected to produce a bright TeV $\\gamma$-ray flux. However, TeV $\\gamma$-rays are attenuated by interactions with intergalactic radiation before reaching Earth. These interactions produce cascades that transfer the TeV power into the GeV band, powering both extended halos around bright sources and a large contribution to the isotropic $\\gamma$-ray background (IGRB). Using state-of-the-art blazar models and recent IGRB measurements, we rule out models where blazars effectively transfer their TeV power into GeV $\\gamma$-rays. Three possible solutions include: (1) strong spectral cuts on bright blazars, which are at odds with local blazar observations, (2) collective plasma effects that can prevent the development of blazar cascades, the effectiveness of which is debated, (3) an increase in the effective $\\gamma$-ray opacity from axion-like particles. |\n",
       "|<p style=\"color:green\"> **ERROR** </p>| <p style=\"color:green\">affiliation error: mpia.affiliation_verifications: 'Heidelberg' keyword not found.</p> |"
      ],
      "text/plain": [
       "<IPython.core.display.Markdown object>"
      ]
     },
     "metadata": {},
     "output_type": "display_data"
    },
    {
     "data": {
      "text/markdown": [
       "\n",
       "|||\n",
       "|---:|:---|\n",
       "| [![arXiv](https://img.shields.io/badge/arXiv-arXiv:2303.01637-b31b1b.svg)](https://arxiv.org/abs/arXiv:2303.01637) | **Multimass modelling of Milky Way globular clusters -- I. Implications on  their stellar initial mass function above 1 M$_{\\odot}$**  |\n",
       "|| Nolan Dickson, et al. -- incl., <mark>Peter Smith</mark> |\n",
       "|*Appeared on*| *2023-03-06*|\n",
       "|*Comments*| *21 pages, 10 figures, submitted to MNRAS. Comments welcome*|\n",
       "|**Abstract**| The distribution of stars and stellar remnants (white dwarfs, neutron stars, black holes) within globular clusters holds clues about their formation and long-term evolution, with important implications for their initial mass function (IMF) and the formation of black hole mergers. In this work, we present best-fitting multimass models for 37 Milky Way globular clusters, which were inferred from various datasets, including proper motions from Gaia EDR3 and HST, line-of-sight velocities from ground-based spectroscopy and deep stellar mass functions from HST. We use metallicity dependent stellar evolution recipes to obtain present-day mass functions of stars and remnants from the IMF. By dynamically probing the present-day mass function of all objects in a cluster, including the mass distribution of remnants, these models allow us to explore in detail the stellar (initial) mass functions of a large sample of Milky Way GCs. We show that, while the low-mass mass function slopes are strongly dependent on the dynamical age of the clusters, the high-mass slope ($\\alpha_3; m > 1 M_\\odot$) is not, indicating that the mass function in this regime has generally been less affected by dynamical mass loss. Examination of this high-mass mass function slope suggests an IMF in this mass regime consistent with a Salpeter IMF is required to reproduce the observations. This high-mass IMF is incompatible with a top-heavy IMF, as has been proposed recently. Finally, no significant correlation is found between the high-mass IMF slope and cluster metallicity. |\n",
       "|<p style=\"color:green\"> **ERROR** </p>| <p style=\"color:green\">affiliation error: mpia.affiliation_verifications: 'Heidelberg' keyword not found.</p> |"
      ],
      "text/plain": [
       "<IPython.core.display.Markdown object>"
      ]
     },
     "metadata": {},
     "output_type": "display_data"
    },
    {
     "data": {
      "text/markdown": [
       "\n",
       "|||\n",
       "|---:|:---|\n",
       "| [![arXiv](https://img.shields.io/badge/arXiv-arXiv:2303.01658-b31b1b.svg)](https://arxiv.org/abs/arXiv:2303.01658) | **ALMA Lensing Cluster Survey: Deep 1.2 mm Number Counts and Infrared  Luminosity Functions at $z\\simeq1-8$**  |\n",
       "|| Seiji Fujimoto, et al. -- incl., <mark>Yoshihiro Ueda</mark> |\n",
       "|*Appeared on*| *2023-03-06*|\n",
       "|*Comments*| *Submitted to ApJS, 34 pages, 8 Tables, and 18 Figures (+38 pages, 5 Tables, and 6 Figures in Appendix)*|\n",
       "|**Abstract**| We present a statistical study of 180 dust continuum sources identified in 33 massive cluster fields by the ALMA Lensing Cluster Survey (ALCS) over a total of 133 arcmin$^{2}$ area, homogeneously observed at 1.2 mm. ALCS enables us to detect extremely faint mm sources by lensing magnification, including near-infrared (NIR) dark objects showing no counterparts in existing {\\it Hubble Space Telescope} and {\\it Spitzer} images. The dust continuum sources belong to a blind sample ($N=141$) with S/N $\\gtrsim$ 5.0 (a purity of $>$ 0.99) or a secondary sample ($N=39$) with S/N= $4.0-5.0$ screened by priors. With the blind sample, we securely derive 1.2-mm number counts down to $\\sim7$ $\\mu$Jy, and find that the total integrated 1.2mm flux is 20.7$^{+8.5}_{-6.5}$ Jy deg$^{-2}$, resolving $\\simeq$ 80 % of the cosmic infrared background light. The resolved fraction varies by a factor of $0.6-1.1$ due to the completeness correction depending on the spatial size of the mm emission. We also derive infrared (IR) luminosity functions (LFs) at $z=0.6-7.5$ with the $1/V_{\\rm max}$ method, finding the redshift evolution of IR LFs characterized by positive luminosity and negative density evolution. The total (=UV+IR) cosmic star-formation rate density (SFRD) at $z>4$ is estimated to be $161^{+25}_{-21}$ % of the established measurements, which were almost exclusively based on optical$-$NIR surveys. Although our general understanding of the cosmic SFRD is unlikely to change beyond a factor of 2, these results add to the weight of evidence for an additional ($\\approx 60$ %) SFRD component contributed by the faint-mm population, including NIR dark objects. |\n",
       "|<p style=\"color:green\"> **ERROR** </p>| <p style=\"color:green\">affiliation error: mpia.affiliation_verifications: 'Heidelberg' keyword not found.</p> |"
      ],
      "text/plain": [
       "<IPython.core.display.Markdown object>"
      ]
     },
     "metadata": {},
     "output_type": "display_data"
    },
    {
     "data": {
      "text/markdown": [
       "\n",
       "|||\n",
       "|---:|:---|\n",
       "| [![arXiv](https://img.shields.io/badge/arXiv-arXiv:2303.01753-b31b1b.svg)](https://arxiv.org/abs/arXiv:2303.01753) | **Asteroseismic Determination of Stellar Rotation: On Synchronization in  the Close Eclipsing Binaries AB Cas and OO Dra**  |\n",
       "|| <mark>Seung-Lee Kim</mark> |\n",
       "|*Appeared on*| *2023-03-06*|\n",
       "|*Comments*| *17 pages, accepted for publication in ApJ*|\n",
       "|**Abstract**| A star's rotation rate is difficult to estimate without surface inhomogeneities such as dark or bright spots. This paper presents asteroseismic results to determine the rotation rates of $\\delta$ Sct-type pulsating primary stars in two eclipsing binary systems, AB Cas and OO Dra. After removing the binarity-induced light variations from the archival TESS data and carefully examining the combination frequencies, we identified 12 independent frequencies for AB Cas and 11 frequencies for OO Dra, with amplitudes higher than $\\sim$0.3 mmag, as $\\delta$ Sct-type pulsation frequencies excited in each primary star. The theoretical frequencies for seismic analysis were obtained by fully considering the rotation effects. Grid fitting for various stellar properties, such as mass, radius, metallicity, and rotation rate, yielded the best solution for which theoretical frequencies and stellar parameters agreed well with the observations. The rotation rate of the AB Cas primary was tightly constrained to 0.81 $\\pm$ 0.01 day$^{-1}$ ($f_{\\rm rot} / f_{\\rm orb}$ = 1.11$^{+0.01}_{-0.02}$), which is slightly faster than the synchronized rotation. In contrast, the rotation rate of 0.63 $\\pm$ 0.01 day$^{-1}$ for the OO Dra primary is lower than the synchronous value of approximately 0.81 day$^{-1}$. Subsynchronous rotation is uncommon in short-period binaries, and its physical mechanism is not yet well understood. Our results show that asteroseismology can be used to precisely measure the rotation rate of fast-rotating $\\delta$ Sct stars and thus provide a valuable constraint on rotation-orbit synchronization in close binary systems. |\n",
       "|<p style=\"color:green\"> **ERROR** </p>| <p style=\"color:green\">affiliation error: mpia.affiliation_verifications: 'Heidelberg' keyword not found.</p> |"
      ],
      "text/plain": [
       "<IPython.core.display.Markdown object>"
      ]
     },
     "metadata": {},
     "output_type": "display_data"
    },
    {
     "data": {
      "text/markdown": [
       "\n",
       "|||\n",
       "|---:|:---|\n",
       "| [![arXiv](https://img.shields.io/badge/arXiv-arXiv:2303.01854-b31b1b.svg)](https://arxiv.org/abs/arXiv:2303.01854) | **Chemical models of adenine precursors cyanamide and carbodiimide in the  interstellar medium**  |\n",
       "|| <mark>Xia Zhang</mark>, et al. -- incl., <mark>Runxia Li</mark> |\n",
       "|*Appeared on*| *2023-03-06*|\n",
       "|*Comments*| *13 pages, 6 figures, 7 tables, accepted for publication in MNRAS*|\n",
       "|**Abstract**| Cyanamide (NH2CN) and its isomer, carbodiimide (HNCNH), may form adenine in the interstellar medium (ISM) via a series of reactions. Therefore, they are considered key prebiotic molecules in the study of the origin of life. We used the three-phase NAUTILUS chemical code, which includes the gas, the dust surface, and the icy mantle, to investigate the formation and destruction of cyanamide and carbodiimide. We added over 200 new chemical reactions of the two isomers and related species, and established a relatively complete network. We applied cold core, hot corino/core and shock models to simulate the different physical environments, and found that the two isomers are mainly produced by the free radical reactions on grain surfaces. Our simulated results suggest that cyanamide and carbodiimide molecules come from surface chemistry at early evolutionary stages. Then they are released back to the gas phase, either by thermal process (in hot cores, hot corinos) or shock-induced desorption (in shock regions).We speculate that it is an inefficient route to form a tautomer of adenine by starting from molecules cyanoacetylene (C3NH), cyanamide and carbodiimide in ISM. |\n",
       "|<p style=\"color:green\"> **ERROR** </p>| <p style=\"color:green\">affiliation error: mpia.affiliation_verifications: 'Heidelberg' keyword not found.</p> |"
      ],
      "text/plain": [
       "<IPython.core.display.Markdown object>"
      ]
     },
     "metadata": {},
     "output_type": "display_data"
    },
    {
     "data": {
      "text/markdown": [
       "\n",
       "|||\n",
       "|---:|:---|\n",
       "| [![arXiv](https://img.shields.io/badge/arXiv-arXiv:2303.01857-b31b1b.svg)](https://arxiv.org/abs/arXiv:2303.01857) | **The Fast X-ray Transient XRT 210423 and its Host Galaxy**  |\n",
       "|| D. Eappachen, et al. -- incl., <mark>M.A.P. Torres</mark> |\n",
       "|*Appeared on*| *2023-03-06*|\n",
       "|*Comments*| *14 pages, 6 figures. Accepted for publication in ApJ*|\n",
       "|**Abstract**| Fast X-ray Transients (FXTs) are X-ray flares with a duration ranging from a few hundred seconds to a few hours. Possible origins include the tidal disruption of a white dwarf by an intermediate-mass black hole, a supernova shock breakout, and a binary neutron star merger. We present the X-ray light curve and spectrum, and deep optical imaging of the FXT XRT 210423, which has been suggested to be powered by a magnetar produced in a binary neutron star merger. Our Very Large Telescope and Gran Telescopio Canarias (GTC) observations began on May 6, 2021, thirteen days after the onset of the flare. No transient optical counterpart is found in the 1\" (3$\\sigma$) X-ray uncertainty region of the source to a depth $g_{s}$=27.0 AB mag. A candidate host lies within the 1\" X-ray uncertainty region with a magnitude of 25.9 $\\pm$ 0.1 in the GTC/HiPERCAM $g_s$-filter. Due to its faintness, it was not detected in other bands, precluding a photometric redshift determination. We detect two additional candidate host galaxies; one with $z_{\\rm spec}=1.5082 \\pm 0.0001$ and an offset of 4.2$\\pm$1\" (37$\\pm$9 kpc) from the FXT and another one with $z_{\\rm phot}=1.04^{+0.22}_{-0.14}$, at an offset of 3.6$\\pm$1\" (30$\\pm$8 kpc). Based on the properties of all the prospective hosts we favour a binary neutron star merger, as previously suggested in the literature, as explanation for XRT 210423. |\n",
       "|<p style=\"color:green\"> **ERROR** </p>| <p style=\"color:green\">affiliation error: mpia.affiliation_verifications: 'Heidelberg' keyword not found.</p> |"
      ],
      "text/plain": [
       "<IPython.core.display.Markdown object>"
      ]
     },
     "metadata": {},
     "output_type": "display_data"
    },
    {
     "data": {
      "text/markdown": [
       "\n",
       "|||\n",
       "|---:|:---|\n",
       "| [![arXiv](https://img.shields.io/badge/arXiv-arXiv:2303.01700-b31b1b.svg)](https://arxiv.org/abs/arXiv:2303.01700) | **Ejecta from the DART-produced active asteroid Dimorphos**  |\n",
       "|| <mark>Jian-Yang Li</mark>, et al. |\n",
       "|*Appeared on*| *2023-03-06*|\n",
       "|*Comments*| *accepted by Nature*|\n",
       "|**Abstract**| Some active asteroids have been proposed to be the result of impact events. Because active asteroids are generally discovered serendipitously only after their tail formation, the process of the impact ejecta evolving into a tail has never been directly observed. NASA's Double Asteroid Redirection Test (DART) mission, apart from having successfully changed the orbital period of Dimorphos, demonstrated the activation process of an asteroid from an impact under precisely known impact conditions. Here we report the observations of the DART impact ejecta with the Hubble Space Telescope (HST) from impact time T+15 minutes to T+18.5 days at spatial resolutions of ~2.1 km per pixel. Our observations reveal a complex evolution of ejecta, which is first dominated by the gravitational interaction between the Didymos binary system and the ejected dust and later by solar radiation pressure. The lowest-speed ejecta dispersed via a sustained tail that displayed a consistent morphology with previously observed asteroid tails thought to be produced by impact. The ejecta evolution following DART's controlled impact experiment thus provides a framework for understanding the fundamental mechanisms acting on asteroids disrupted by natural impact. |\n",
       "|<p style=\"color:red\"> **ERROR** </p>| <p style=\"color:red\">latex error not a gzip file</p> |"
      ],
      "text/plain": [
       "<IPython.core.display.Markdown object>"
      ]
     },
     "metadata": {},
     "output_type": "display_data"
    }
   ],
   "source": [
    "import datetime\n",
    "today = str(datetime.date.today())\n",
    "logfile = f\"_build/html/logs/log-{today}.md\"\n",
    "\n",
    "\n",
    "with open(logfile, 'w') as logs:\n",
    "    # Success\n",
    "    logs.write(f'# Arxiv on Deck 2: Logs - {today}\\n\\n')\n",
    "    logs.write(\"\"\"* Arxiv had {0:,d} new papers\\n\"\"\".format(len(new_papers)))\n",
    "    logs.write(\"\"\"    * {0:,d} with possible author matches\\n\\n\"\"\".format(len(candidates)))\n",
    "    logs.write(\"## Sucessful papers\\n\\n\")\n",
    "    display(Markdown(\"## Successful papers\"))\n",
    "    success = [k[0] for k in documents]\n",
    "    for candid in candidates:\n",
    "        if candid['identifier'].split(':')[-1] in success:\n",
    "            display(candid)\n",
    "            logs.write(candid.generate_markdown_text() + '\\n\\n')\n",
    "\n",
    "    ## failed\n",
    "    logs.write(\"## Failed papers\\n\\n\")\n",
    "    display(Markdown(\"## Failed papers\"))\n",
    "    failed = sorted(failed, key=lambda x: x[1])\n",
    "    current_reason = \"\"\n",
    "    for paper, reason in failed:\n",
    "        if 'affiliation' in reason:\n",
    "            color = 'green'\n",
    "        else:\n",
    "            color = 'red'\n",
    "        data = Markdown(\n",
    "                paper.generate_markdown_text() + \n",
    "                f'\\n|<p style=\"color:{color:s}\"> **ERROR** </p>| <p style=\"color:{color:s}\">{reason:s}</p> |'\n",
    "               )\n",
    "        if reason != current_reason:\n",
    "            logs.write(f'### {reason:s} \\n\\n')\n",
    "            current_reason = reason\n",
    "        logs.write(data.data + '\\n\\n')\n",
    "        \n",
    "        # only display here the important errors (all in logs)\n",
    "        # if color in ('red',):\n",
    "        display(data)"
   ]
  },
  {
   "cell_type": "markdown",
   "id": "472d20ee",
   "metadata": {
    "papermill": {
     "duration": 0.007197,
     "end_time": "2023-03-06T04:10:04.469512",
     "exception": false,
     "start_time": "2023-03-06T04:10:04.462315",
     "status": "completed"
    },
    "tags": []
   },
   "source": [
    "## Export documents\n",
    "\n",
    "We now write the .md files and export relevant images"
   ]
  },
  {
   "cell_type": "code",
   "execution_count": 7,
   "id": "d426aed9",
   "metadata": {
    "execution": {
     "iopub.execute_input": "2023-03-06T04:10:04.492200Z",
     "iopub.status.busy": "2023-03-06T04:10:04.491492Z",
     "iopub.status.idle": "2023-03-06T04:10:04.502043Z",
     "shell.execute_reply": "2023-03-06T04:10:04.500901Z"
    },
    "papermill": {
     "duration": 0.027652,
     "end_time": "2023-03-06T04:10:04.504192",
     "exception": false,
     "start_time": "2023-03-06T04:10:04.476540",
     "status": "completed"
    },
    "tags": []
   },
   "outputs": [],
   "source": [
    "def export_markdown_summary(md: str, md_fname:str, directory: str):\n",
    "    \"\"\"Export MD document and associated relevant images\"\"\"\n",
    "    import os\n",
    "    import shutil\n",
    "    import re\n",
    "\n",
    "    if (os.path.exists(directory) and not os.path.isdir(directory)):\n",
    "        raise RuntimeError(f\"a non-directory file exists with name {directory:s}\")\n",
    "\n",
    "    if (not os.path.exists(directory)):\n",
    "        print(f\"creating directory {directory:s}\")\n",
    "        os.mkdir(directory)\n",
    "\n",
    "    fig_fnames = (re.compile(r'\\[Fig.*\\]\\((.*)\\)').findall(md) + \n",
    "                  re.compile(r'\\<img src=\"([^>\\s]*)\"[^>]*/>').findall(md))\n",
    "    for fname in fig_fnames:\n",
    "        if 'http' in fname:\n",
    "            # No need to copy online figures\n",
    "            continue\n",
    "        destdir = os.path.join(directory, os.path.dirname(fname))\n",
    "        destfname = os.path.join(destdir, os.path.basename(fname))\n",
    "        try:\n",
    "            os.makedirs(destdir)\n",
    "        except FileExistsError:\n",
    "            pass\n",
    "        shutil.copy(fname, destfname)\n",
    "    with open(os.path.join(directory, md_fname), 'w') as fout:\n",
    "        fout.write(md)\n",
    "    print(\"exported in \", os.path.join(directory, md_fname))\n",
    "    [print(\"    + \" + os.path.join(directory,fk)) for fk in fig_fnames]"
   ]
  },
  {
   "cell_type": "code",
   "execution_count": 8,
   "id": "014d04a4",
   "metadata": {
    "execution": {
     "iopub.execute_input": "2023-03-06T04:10:04.522514Z",
     "iopub.status.busy": "2023-03-06T04:10:04.521855Z",
     "iopub.status.idle": "2023-03-06T04:10:04.530303Z",
     "shell.execute_reply": "2023-03-06T04:10:04.529370Z"
    },
    "papermill": {
     "duration": 0.019505,
     "end_time": "2023-03-06T04:10:04.532375",
     "exception": false,
     "start_time": "2023-03-06T04:10:04.512870",
     "status": "completed"
    },
    "tags": []
   },
   "outputs": [
    {
     "name": "stdout",
     "output_type": "stream",
     "text": [
      "exported in  _build/html/2303.01528.md\n",
      "    + _build/html/tmp_2303.01528/./function_lumi_3D.png\n",
      "    + _build/html/tmp_2303.01528/./mv_rh.png\n",
      "    + _build/html/tmp_2303.01528/./DL_ani.png\n",
      "    + _build/html/tmp_2303.01528/./observed_density_ani.png\n"
     ]
    }
   ],
   "source": [
    "for paper_id, md in documents:\n",
    "    export_markdown_summary(md, f\"{paper_id:s}.md\", '_build/html/')"
   ]
  },
  {
   "cell_type": "markdown",
   "id": "f087a0a7",
   "metadata": {
    "papermill": {
     "duration": 0.007582,
     "end_time": "2023-03-06T04:10:04.547754",
     "exception": false,
     "start_time": "2023-03-06T04:10:04.540172",
     "status": "completed"
    },
    "tags": []
   },
   "source": [
    "## Display the papers\n",
    "\n",
    "Not necessary but allows for a quick check."
   ]
  },
  {
   "cell_type": "code",
   "execution_count": 9,
   "id": "fd25f625",
   "metadata": {
    "execution": {
     "iopub.execute_input": "2023-03-06T04:10:04.564191Z",
     "iopub.status.busy": "2023-03-06T04:10:04.563790Z",
     "iopub.status.idle": "2023-03-06T04:10:04.569933Z",
     "shell.execute_reply": "2023-03-06T04:10:04.569202Z"
    },
    "papermill": {
     "duration": 0.01692,
     "end_time": "2023-03-06T04:10:04.571781",
     "exception": false,
     "start_time": "2023-03-06T04:10:04.554861",
     "status": "completed"
    },
    "scrolled": false,
    "tags": []
   },
   "outputs": [
    {
     "data": {
      "text/markdown": [
       "<div class=\"macros\" style=\"visibility:hidden;\">\n",
       "$\\newcommand{\\ensuremath}{}$\n",
       "$\\newcommand{\\xspace}{}$\n",
       "$\\newcommand{\\object}[1]{\\texttt{#1}}$\n",
       "$\\newcommand{\\farcs}{{.}''}$\n",
       "$\\newcommand{\\farcm}{{.}'}$\n",
       "$\\newcommand{\\arcsec}{''}$\n",
       "$\\newcommand{\\arcmin}{'}$\n",
       "$\\newcommand{\\ion}[2]{#1#2}$\n",
       "$\\newcommand{\\textsc}[1]{\\textrm{#1}}$\n",
       "$\\newcommand{\\hl}[1]{\\textrm{#1}}$\n",
       "$\\newcommand{\\fmmm}[1]{\\mbox{#1}}$\n",
       "$\\newcommand{\\scnd}{\\mbox{\\fmmm{\"}\\hskip-0.3em .}}$\n",
       "$\\newcommand{\\scnp}{\\mbox{\\fmmm{\"}}}$\n",
       "$\\newcommand{\\mcnd}{\\mbox{\\fmmm{'}\\hskip-0.3em .}}$\n",
       "$\\newcommand{\\ud}{\\mathrm{d}}$\n",
       "$\\newcommand{\\ltsima}{\\; \\buildrel < \\over \\sim \\;}$\n",
       "$\\newcommand{\\simlt}{\\lower.5ex\\hbox{\\ltsima}}$\n",
       "$\\newcommand{\\gtsima}{\\; \\buildrel > \\over \\sim \\;}$\n",
       "$\\newcommand{\\simgt}{\\lower.5ex\\hbox{\\gtsima}}$\n",
       "$\\newcommand{\\erf}{\\mathop{\\rm erf}\\nolimits}$\n",
       "$\\newcommand{\\sech}{ \\mathop{\\rm sech}\\nolimits}$\n",
       "$\\newcommand{\\csch}{ \\mathop{\\rm csch}\\nolimits}$\n",
       "$\\newcommand{\\arcsinh}{\\mathop{\\rm arcsinh}\\nolimits}$\n",
       "$\\newcommand{\\arccosh}{\\mathop{\\rm arccosh}\\nolimits}$\n",
       "$\\newcommand{\\arctanh}{\\mathop{\\rm arctanh}\\nolimits}$\n",
       "$\\newcommand{\\arccoth}{\\mathop{\\rm arccoth}\\nolimits}$\n",
       "$\\newcommand{\\arcsech}{\\mathop{\\rm arcsech}\\nolimits}$\n",
       "$\\newcommand{\\arccsch}{\\mathop{\\rm arccsch}\\nolimits}$\n",
       "$\\newcommand{\\arccot}{\\mathop{\\rm arccot}\\nolimits}$\n",
       "$\\newcommand{\\arcsec}{\\mathop{\\rm arcsec}\\nolimits}$\n",
       "$\\newcommand{\\arccsc}{\\mathop{\\rm arccsc}\\nolimits}$\n",
       "$\\newcommand{\\ylm}{\\mathop{\\rm Y}_l^m\\nolimits}$\n",
       "$\\newcommand{\\ylmp}{\\mathop{\\rm Y}_{l'}^{m'}\\nolimits}$\n",
       "$\\newcommand{\\real}{\\Re e}$\n",
       "$\\newcommand{\\imag}{\\Im m}$\n",
       "$\\newcommand{\\km}{{\\rm km}}$\n",
       "$\\newcommand{\\kms}{{\\rm km s^{-1}}}$\n",
       "$\\newcommand{\\kmsdeg}{{\\rm km s^{-1} deg^{-1}}}$\n",
       "$\\newcommand{\\kmskpc}{{\\rm km s^{-1} kpc^{-1}}}$\n",
       "$\\newcommand{\\mas}{{\\rm mas}}$\n",
       "$\\newcommand{\\masyr}{{\\rm mas/yr}}$\n",
       "$\\newcommand{\\kpc}{{\\rm kpc}}$\n",
       "$\\newcommand{\\kpcdeg}{{\\rm kpc deg^{-1}}}$\n",
       "$\\newcommand{\\mpc}{{\\rm Mpc}}$\n",
       "$\\newcommand{\\msun}{{\\rm M_\\odot}}$\n",
       "$\\newcommand{\\lsun}{{\\rm L_\\odot}}$\n",
       "$\\newcommand{\\rsun}{{\\rm R_\\odot}}$\n",
       "$\\newcommand{\\pc}{{\\rm pc}}$\n",
       "$\\newcommand{\\cm}{{\\rm cm}}$\n",
       "$\\newcommand{\\yr}{{\\rm yr}}$\n",
       "$\\newcommand{\\au}{{\\rm AU}}$\n",
       "$\\newcommand{\\g}{{\\rm g}}$\n",
       "$\\newcommand{\\om}{\\Omega_0}$\n",
       "$\\newcommand{\\}{ca}$\n",
       "$\\newcommand{\\}{r}$\n",
       "$\\newcommand{\\}{magnitude}$\n",
       "$\\newcommand{\\kr}{{\\cal K}_r}$\n",
       "$\\newcommand{\\kz}{{\\cal K}_z}$\n",
       "$\\newcommand{\\kzz}{{\\cal K}_z(z)}$\n",
       "$\\newcommand{\\mss}{{\\rm M}_\\odot \\rm pc^{-2}}$\n",
       "$\\newcommand{\\msss}{{\\rm M}_\\odot \\rm pc^{-3}}$\n",
       "$\\newcommand{\\Aa}{\\; \\buildrel \\circ \\over{\\rm A}}$\n",
       "$\\newcommand{Å}{\\; \\buildrel \\circ \\over{\\rm A}}$\n",
       "$\\newcommand{\\yr}{{\\rm yr}}$\n",
       "$\\newcommand{\\CompactFigs}{0}$\n",
       "$\\newcommand{\\UseFigs}{1}$\n",
       "$\\newcommand{\\deg}{^\\circ}$\n",
       "$\\newcommand{\\degg}{\\hbox{\\null^\\circ\\hskip-3pt .}}$\n",
       "$\\newcommand{\\sec}{\\hbox{\"\\hskip-3pt .}}$\n",
       "$\\newcommand{\\half}{{\\scriptstyle{1\\over2}}}$\n",
       "$\\newcommand{\\s}{\\ifmmode \\widetilde \\else \\~\\fi}$\n",
       "$\\newcommand{\\=}{\\overline}$\n",
       "$\\newcommand{\\scre}{{\\cal E}}$\n",
       "$\\newcommand{\\}{spose}$\n",
       "$\\newcommand{\\larrow}{\\leftarrow}$\n",
       "$\\newcommand{\\rarrow}{\\rightarrow}$\n",
       "$\\newcommand{\\llangle}{\\langle\\langle}$\n",
       "$\\newcommand{\\rrangle}{\\rangle\\rangle}$\n",
       "$\\newcommand{\\etal}{{\\it et al. }}$\n",
       "$\\newcommand{\\cf}{{\\it cf. }}$\n",
       "$\\newcommand{\\eg}{{e.g., }}$\n",
       "$\\newcommand{\\ie}{{ i.e., }}$\n",
       "$\\newcommand{\\lta}{\\mathrel{\\spose{\\lower 3pt\\hbox{\\mathchar\"218}}$\n",
       "$     \\raise 2.0pt\\hbox{\\mathchar\"13C}}}$\n",
       "$\\newcommand{\\gta}{\\mathrel{\\spose{\\lower 3pt\\hbox{\\mathchar\"218}}$\n",
       "$     \\raise 2.0pt\\hbox{\\mathchar\"13E}}}$\n",
       "$\\newcommand{\\Dt}{\\spose{\\raise 1.5ex\\hbox{\\hskip3pt\\mathchar\"201}}}$\n",
       "$\\newcommand{\\dt}{\\spose{\\raise 1.0ex\\hbox{\\hskip2pt\\mathchar\"201}}}$\n",
       "$\\newcommand{\\del}{\\nabla}$\n",
       "$\\newcommand{\\delv}{\\bb\\nabla}$\n",
       "$\\newcommand{\\r}{{\\rm r^{1/4}}}$\n",
       "$\\newcommand{\\jla}{J_{\\lambda}}$\n",
       "$\\newcommand{\\jmu}{J_{\\mu}}$\n",
       "$\\newcommand{\\jnu}{J_{\\nu}}$\n",
       "$\\newcommand{\\pomega}{\\varpi}$\n",
       "$\\newcommand{\\sigla}{\\sigma_{\\lambda}}$\n",
       "$\\newcommand{\\sigmu}{\\sigma_{\\mu}}$\n",
       "$\\newcommand{\\signu}{\\sigma_{\\nu}}$\n",
       "$\\newcommand{\\dotsfill}{\\leaders\\hbox to 1em{\\hss.\\hss}\\hfill}$\n",
       "$\\newcommand{\\sun}{\\odot}$\n",
       "$\\newcommand{\\earth}{\\oplus}$\n",
       "$\\newcommand{\\Gyr}{{\\rm Gyr}}$\n",
       "$\\newcommand{\\FeH}{{\\rm[Fe/H]}}$\n",
       "$\\newcommand{\\kmsd}{{\\rm km/s/degree}}$\n",
       "$\\newcommand{\\magg}{{\\rm g}}$\n",
       "$\\newcommand{\\magi}{{\\rm i}}$\n",
       "$\\newcommand{\\age}{{\\rm age}}$\n",
       "$\\newcommand{\\}{NFM}$\n",
       "$\\newcommand{\\}{ADD}$</div>\n",
       "\n",
       "<div class=\"macros\" style=\"visibility:hidden;\">\n",
       "$\\newcommand{\\ensuremath}{}$\n",
       "$\\newcommand{\\xspace}{}$\n",
       "$\\newcommand{\\object}[1]{\\texttt{#1}}$\n",
       "$\\newcommand{\\farcs}{{.}''}$\n",
       "$\\newcommand{\\farcm}{{.}'}$\n",
       "$\\newcommand{\\arcsec}{''}$\n",
       "$\\newcommand{\\arcmin}{'}$\n",
       "$\\newcommand{\\ion}[2]{#1#2}$\n",
       "$\\newcommand{\\textsc}[1]{\\textrm{#1}}$\n",
       "$\\newcommand{\\hl}[1]{\\textrm{#1}}$\n",
       "$\\newcommand{\\fmmm}[1]{\\mbox{#1}}$\n",
       "$\\newcommand{\\scnd}{\\mbox{\\fmmm{\"}\\hskip-0.3em .}}$\n",
       "$\\newcommand{\\scnp}{\\mbox{\\fmmm{\"}}}$\n",
       "$\\newcommand{\\mcnd}{\\mbox{\\fmmm{'}\\hskip-0.3em .}}$\n",
       "$\\newcommand{\\ud}{\\mathrm{d}}$\n",
       "$\\newcommand{\\ltsima}{\\; \\buildrel < \\over \\sim \\;}$\n",
       "$\\newcommand{\\simlt}{\\lower.5ex\\hbox{\\ltsima}}$\n",
       "$\\newcommand{\\gtsima}{\\; \\buildrel > \\over \\sim \\;}$\n",
       "$\\newcommand{\\simgt}{\\lower.5ex\\hbox{\\gtsima}}$\n",
       "$\\newcommand{\\erf}{\\mathop{\\rm erf}\\nolimits}$\n",
       "$\\newcommand{\\sech}{ \\mathop{\\rm sech}\\nolimits}$\n",
       "$\\newcommand{\\csch}{ \\mathop{\\rm csch}\\nolimits}$\n",
       "$\\newcommand{\\arcsinh}{\\mathop{\\rm arcsinh}\\nolimits}$\n",
       "$\\newcommand{\\arccosh}{\\mathop{\\rm arccosh}\\nolimits}$\n",
       "$\\newcommand{\\arctanh}{\\mathop{\\rm arctanh}\\nolimits}$\n",
       "$\\newcommand{\\arccoth}{\\mathop{\\rm arccoth}\\nolimits}$\n",
       "$\\newcommand{\\arcsech}{\\mathop{\\rm arcsech}\\nolimits}$\n",
       "$\\newcommand{\\arccsch}{\\mathop{\\rm arccsch}\\nolimits}$\n",
       "$\\newcommand{\\arccot}{\\mathop{\\rm arccot}\\nolimits}$\n",
       "$\\newcommand{\\arcsec}{\\mathop{\\rm arcsec}\\nolimits}$\n",
       "$\\newcommand{\\arccsc}{\\mathop{\\rm arccsc}\\nolimits}$\n",
       "$\\newcommand{\\ylm}{\\mathop{\\rm Y}_l^m\\nolimits}$\n",
       "$\\newcommand{\\ylmp}{\\mathop{\\rm Y}_{l'}^{m'}\\nolimits}$\n",
       "$\\newcommand{\\real}{\\Re e}$\n",
       "$\\newcommand{\\imag}{\\Im m}$\n",
       "$\\newcommand{\\km}{{\\rm km}}$\n",
       "$\\newcommand{\\kms}{{\\rm km s^{-1}}}$\n",
       "$\\newcommand{\\kmsdeg}{{\\rm km s^{-1} deg^{-1}}}$\n",
       "$\\newcommand{\\kmskpc}{{\\rm km s^{-1} kpc^{-1}}}$\n",
       "$\\newcommand{\\mas}{{\\rm mas}}$\n",
       "$\\newcommand{\\masyr}{{\\rm mas/yr}}$\n",
       "$\\newcommand{\\kpc}{{\\rm kpc}}$\n",
       "$\\newcommand{\\kpcdeg}{{\\rm kpc deg^{-1}}}$\n",
       "$\\newcommand{\\mpc}{{\\rm Mpc}}$\n",
       "$\\newcommand{\\msun}{{\\rm M_\\odot}}$\n",
       "$\\newcommand{\\lsun}{{\\rm L_\\odot}}$\n",
       "$\\newcommand{\\rsun}{{\\rm R_\\odot}}$\n",
       "$\\newcommand{\\pc}{{\\rm pc}}$\n",
       "$\\newcommand{\\cm}{{\\rm cm}}$\n",
       "$\\newcommand{\\yr}{{\\rm yr}}$\n",
       "$\\newcommand{\\au}{{\\rm AU}}$\n",
       "$\\newcommand{\\g}{{\\rm g}}$\n",
       "$\\newcommand{\\om}{\\Omega_0}$\n",
       "$\\newcommand{\\}{ca}$\n",
       "$\\newcommand{\\}{r}$\n",
       "$\\newcommand{\\}{magnitude}$\n",
       "$\\newcommand{\\kr}{{\\cal K}_r}$\n",
       "$\\newcommand{\\kz}{{\\cal K}_z}$\n",
       "$\\newcommand{\\kzz}{{\\cal K}_z(z)}$\n",
       "$\\newcommand{\\mss}{{\\rm M}_\\odot \\rm pc^{-2}}$\n",
       "$\\newcommand{\\msss}{{\\rm M}_\\odot \\rm pc^{-3}}$\n",
       "$\\newcommand{\\Aa}{\\; \\buildrel \\circ \\over{\\rm A}}$\n",
       "$\\newcommand{Å}{\\; \\buildrel \\circ \\over{\\rm A}}$\n",
       "$\\newcommand{\\yr}{{\\rm yr}}$\n",
       "$\\newcommand{\\CompactFigs}{0}$\n",
       "$\\newcommand{\\UseFigs}{1}$\n",
       "$\\newcommand{\\deg}{^\\circ}$\n",
       "$\\newcommand{\\degg}{\\hbox{\\null^\\circ\\hskip-3pt .}}$\n",
       "$\\newcommand{\\sec}{\\hbox{\"\\hskip-3pt .}}$\n",
       "$\\newcommand{\\half}{{\\scriptstyle{1\\over2}}}$\n",
       "$\\newcommand{\\s}{\\ifmmode \\widetilde \\else \\~\\fi}$\n",
       "$\\newcommand{\\=}{\\overline}$\n",
       "$\\newcommand{\\scre}{{\\cal E}}$\n",
       "$\\newcommand{\\}{spose}$\n",
       "$\\newcommand{\\larrow}{\\leftarrow}$\n",
       "$\\newcommand{\\rarrow}{\\rightarrow}$\n",
       "$\\newcommand{\\llangle}{\\langle\\langle}$\n",
       "$\\newcommand{\\rrangle}{\\rangle\\rangle}$\n",
       "$\\newcommand{\\etal}{{\\it et al. }}$\n",
       "$\\newcommand{\\cf}{{\\it cf. }}$\n",
       "$\\newcommand{\\eg}{{e.g., }}$\n",
       "$\\newcommand{\\ie}{{ i.e., }}$\n",
       "$\\newcommand{\\lta}{\\mathrel{\\spose{\\lower 3pt\\hbox{\\mathchar\"218}}$\n",
       "$     \\raise 2.0pt\\hbox{\\mathchar\"13C}}}$\n",
       "$\\newcommand{\\gta}{\\mathrel{\\spose{\\lower 3pt\\hbox{\\mathchar\"218}}$\n",
       "$     \\raise 2.0pt\\hbox{\\mathchar\"13E}}}$\n",
       "$\\newcommand{\\Dt}{\\spose{\\raise 1.5ex\\hbox{\\hskip3pt\\mathchar\"201}}}$\n",
       "$\\newcommand{\\dt}{\\spose{\\raise 1.0ex\\hbox{\\hskip2pt\\mathchar\"201}}}$\n",
       "$\\newcommand{\\del}{\\nabla}$\n",
       "$\\newcommand{\\delv}{\\bb\\nabla}$\n",
       "$\\newcommand{\\r}{{\\rm r^{1/4}}}$\n",
       "$\\newcommand{\\jla}{J_{\\lambda}}$\n",
       "$\\newcommand{\\jmu}{J_{\\mu}}$\n",
       "$\\newcommand{\\jnu}{J_{\\nu}}$\n",
       "$\\newcommand{\\pomega}{\\varpi}$\n",
       "$\\newcommand{\\sigla}{\\sigma_{\\lambda}}$\n",
       "$\\newcommand{\\sigmu}{\\sigma_{\\mu}}$\n",
       "$\\newcommand{\\signu}{\\sigma_{\\nu}}$\n",
       "$\\newcommand{\\dotsfill}{\\leaders\\hbox to 1em{\\hss.\\hss}\\hfill}$\n",
       "$\\newcommand{\\sun}{\\odot}$\n",
       "$\\newcommand{\\earth}{\\oplus}$\n",
       "$\\newcommand{\\Gyr}{{\\rm Gyr}}$\n",
       "$\\newcommand{\\FeH}{{\\rm[Fe/H]}}$\n",
       "$\\newcommand{\\kmsd}{{\\rm km/s/degree}}$\n",
       "$\\newcommand{\\magg}{{\\rm g}}$\n",
       "$\\newcommand{\\magi}{{\\rm i}}$\n",
       "$\\newcommand{\\age}{{\\rm age}}$\n",
       "$\\newcommand{\\}{NFM}$\n",
       "$\\newcommand{\\}{ADD}$</div>\n",
       "\n",
       "\n",
       "\n",
       "<div id=\"title\">\n",
       "\n",
       "# The PAndAS View of the Andromeda Satellite System. IV Global properties\n",
       "\n",
       "</div>\n",
       "<div id=\"comments\">\n",
       "\n",
       "[![arXiv](https://img.shields.io/badge/arXiv-2303.01528-b31b1b.svg)](https://arxiv.org/abs/2303.01528)<mark>Appeared on: 2023-03-06</mark> - _Submitted to ApJ - 12 pages, 6 figures, 2 tables_\n",
       "\n",
       "</div>\n",
       "<div id=\"authors\">\n",
       "\n",
       "Amandine Doliva-Dolinsky, et al. -- incl., <mark><mark>Geraint F. Lewis</mark></mark>\n",
       "\n",
       "</div>\n",
       "<div id=\"abstract\">\n",
       "\n",
       "**Abstract:** We build a statistical framework to infer the global properties of the satellite system of the Andromeda galaxy (M31) from the properties of individual dwarf galaxies located in the Pan-Andromeda Archaelogical Survey (PAndAS) and the previously determined completeness of the survey. Using forward modeling, we infer the slope of the luminosity function of the satellite system, the slope of its spatial density distribution, and the size-luminosity relation followed by the dwarf galaxies. We find that the slope of the luminosity function is $\\beta=-1.5\\pm0.1$ . Combined with the spatial density profile, it implies that, when accounting for survey incompleteness, M31 hosts $92_{-26}^{+19}$ dwarf galaxies with $M_\\textrm{V}<-5.5$ and a sky-projected distance from M31 between 30 and 300 \\kpc . We conclude that many faint or distant dwarf galaxies remain to be discovered around Andromeda, especially outside the PAndAS footprint. Finally, we use our model to test if the higher number of satellites situated in the hemisphere facing the Milky Way could be explained simply by the detection limits of dwarf galaxy searches. We rule this out at $>99.9\\%$ confidence and conclude that this anisotropy is an intrinsic feature of the M31 satellite system. The statistical framework we present here is a powerful tool to robustly constrain the properties of a satellite system and compare those across hosts, especially considering the upcoming start of the Euclid or Rubin large photometric surveys that are expected to uncover a large number of dwarf galaxies in the Local Volume.\n",
       "\n",
       "</div>\n",
       "\n",
       "<div id=\"div_fig1\">\n",
       "\n",
       "<img src=\"tmp_2303.01528/./function_lumi_3D.png\" alt=\"Fig2\" width=\"100%\"/>\n",
       "\n",
       "**Figure 2. -**  Cumulative number of dwarf galaxies as a function of their magnitude. The inferred model is represented by the black line and gray band. The dashed line shows the inference for the PAndAS footprint and the dot-dashed line the favored model once the average detection limits are applied. This line is directly comparable to, and shows good agreement with, the cumulative distribution known dwarf galaxies (teal points). (*luminosity_function_3D*)\n",
       "\n",
       "</div>\n",
       "<div id=\"div_fig2\">\n",
       "\n",
       "<img src=\"tmp_2303.01528/./mv_rh.png\" alt=\"Fig1\" width=\"100%\"/>\n",
       "\n",
       "**Figure 1. -**  Relation between the size and the luminosity of M31's dwarf galaxies as infer through our modeling. The best relation and corresponding width are represented by the purple full line and dashed lines, with the uncertainties on the mean model shown as the high opacity purple band. The best model derived by  ([Brasseur, et. al (2011)](https://ui.adsabs.harvard.edu/abs/2011ApJ...743..179B))  is represented by the orange lines, and the binary completeness limits they used by the dotted black line. The average detection limits folded in our analysis are represented by the grey background scale (100\\% recovery in white and 0\\% recovery in dark gray). Given those, the inferred model compensates for the undiscovered large and faint dwarf galaxies and therefore is slightly shifted from what we would naïvely expect from the cloud of known dwarf galaxies (teal dots). (*mv_rh_3D*)\n",
       "\n",
       "</div>\n",
       "<div id=\"div_fig3\">\n",
       "\n",
       "<img src=\"tmp_2303.01528/./DL_ani.png\" alt=\"Fig6.1\" width=\"50%\"/><img src=\"tmp_2303.01528/./observed_density_ani.png\" alt=\"Fig6.2\" width=\"50%\"/>\n",
       "\n",
       "**Figure 6. -** _Right panel_: Map of the completeness in the y-z plane with z being the distance to the MW. The contamination due to MW and M31 stars lead to the variation of the completeness along the y-axis, while the impact of the distance is visible along the z-axis. _Left panel_: Map of the observed galaxy density in the y-z plane. The red dots represent the known dwarf galaxies. The density is slightly asymmetric as it is somewhat higher on the positive end of the z-axis but this impact might be compensated by the increase of the observed space on the negative end. (*fig:anisotropy*)\n",
       "\n",
       "</div>"
      ],
      "text/plain": [
       "<IPython.core.display.Markdown object>"
      ]
     },
     "metadata": {},
     "output_type": "display_data"
    }
   ],
   "source": [
    "[display(Markdown(k[1])) for k in documents];"
   ]
  },
  {
   "cell_type": "markdown",
   "id": "873873a4",
   "metadata": {
    "papermill": {
     "duration": 0.008178,
     "end_time": "2023-03-06T04:10:04.588467",
     "exception": false,
     "start_time": "2023-03-06T04:10:04.580289",
     "status": "completed"
    },
    "tags": []
   },
   "source": [
    "# Create HTML index"
   ]
  },
  {
   "cell_type": "code",
   "execution_count": 10,
   "id": "cf665672",
   "metadata": {
    "execution": {
     "iopub.execute_input": "2023-03-06T04:10:04.607362Z",
     "iopub.status.busy": "2023-03-06T04:10:04.606538Z",
     "iopub.status.idle": "2023-03-06T04:10:04.620499Z",
     "shell.execute_reply": "2023-03-06T04:10:04.619621Z"
    },
    "papermill": {
     "duration": 0.025538,
     "end_time": "2023-03-06T04:10:04.622554",
     "exception": false,
     "start_time": "2023-03-06T04:10:04.597016",
     "status": "completed"
    },
    "tags": []
   },
   "outputs": [
    {
     "name": "stdout",
     "output_type": "stream",
     "text": [
      "218  publications in the last 7 days.\n",
      "\t _build/html/2303.01528.md\n",
      "\t _build/html/2303.00044.md\n",
      "\t _build/html/2303.00012.md\n",
      "\t _build/html/2302.14137.md\n",
      "\t _build/html/2302.12805.md\n",
      "\t _build/html/2302.10943.md\n",
      "\t _build/html/2302.10528.md\n",
      "\t _build/html/2302.10008.md\n",
      "\t _build/html/2302.08962.md\n",
      "\t _build/html/2302.08628.md\n",
      "\t _build/html/2302.07916.md\n",
      "\t _build/html/2302.07880.md\n",
      "\t _build/html/2302.07497.md\n",
      "\t _build/html/2302.07277.md\n",
      "\t _build/html/2302.07256.md\n",
      "\t _build/html/2302.07234.md\n",
      "\t _build/html/2302.07057.md\n",
      "\t _build/html/2302.05694.md\n",
      "\t _build/html/2302.05465.md\n",
      "\t _build/html/2302.04507.md\n",
      "\t _build/html/2302.04239.md\n",
      "\t _build/html/2302.04138.md\n",
      "\t _build/html/2302.03699.md\n",
      "\t _build/html/2302.03576.md\n",
      "\t _build/html/2302.03042.md\n",
      "\t _build/html/2302.03039.md\n",
      "\t _build/html/2302.02890.md\n",
      "\t _build/html/2302.02611.md\n",
      "\t _build/html/2302.02429.md\n",
      "\t _build/html/2302.01678.md\n",
      "\t _build/html/2302.00450.md\n",
      "\t _build/html/2301.13766.md\n",
      "\t _build/html/2301.13526.md\n",
      "\t _build/html/2301.12890.md\n",
      "\t _build/html/2301.11942.md\n",
      "\t _build/html/2301.10717.md\n",
      "\t _build/html/2301.10666.md\n",
      "\t _build/html/2301.10496.md\n",
      "\t _build/html/2301.09621.md\n",
      "\t _build/html/2301.09140.md\n",
      "\t _build/html/2301.08770.md\n",
      "\t _build/html/2301.08310.md\n",
      "\t _build/html/2301.07990.md\n",
      "\t _build/html/2301.07366.md\n",
      "\t _build/html/2301.07199.md\n",
      "\t _build/html/2301.07116.md\n",
      "\t _build/html/2301.06873.md\n",
      "\t _build/html/2301.06819.md\n",
      "\t _build/html/2301.06575.md\n",
      "\t _build/html/2301.05720.md\n",
      "\t _build/html/2301.05718.md\n",
      "\t _build/html/2301.05034.md\n",
      "\t _build/html/2301.04656.md\n",
      "\t _build/html/2301.04533.md\n",
      "\t _build/html/2301.04442.md\n",
      "\t _build/html/2301.03811.md\n",
      "\t _build/html/2301.03689.md\n",
      "\t _build/html/2301.03387.md\n",
      "\t _build/html/2301.03209.md\n",
      "\t _build/html/2301.02671.md\n",
      "\t _build/html/2301.02477.md\n",
      "\t _build/html/2301.02313.md\n",
      "\t _build/html/2301.02265.md\n",
      "\t _build/html/2301.01937.md\n",
      "\t _build/html/2301.01895.md\n",
      "\t _build/html/2301.01684.md\n",
      "\t _build/html/2301.01306.md\n",
      "\t _build/html/2301.00881.md\n",
      "\t _build/html/2301.00854.md\n",
      "\t _build/html/2301.00578.md\n",
      "\t _build/html/2212.12039.md\n",
      "\t _build/html/2212.11991.md\n",
      "\t _build/html/2212.11425.md\n",
      "\t _build/html/2212.11177.md\n",
      "\t _build/html/2212.10804.md\n",
      "\t _build/html/2212.10512.md\n",
      "\t _build/html/2212.09766.md\n",
      "\t _build/html/2212.09675.md\n",
      "\t _build/html/2212.09661.md\n",
      "\t _build/html/2212.09652.md\n",
      "\t _build/html/2212.09443.md\n",
      "\t _build/html/2212.09307.md\n",
      "\t _build/html/2212.09168.md\n",
      "\t _build/html/2212.09159.md\n",
      "\t _build/html/2212.08702.md\n",
      "\t _build/html/2212.07332.md\n",
      "\t _build/html/2212.06434.md\n",
      "\t _build/html/2212.04710.md\n",
      "\t _build/html/2212.04026.md\n",
      "\t _build/html/2212.03563.md\n",
      "\t _build/html/2212.03514.md\n",
      "\t _build/html/2212.02667.md\n",
      "\t _build/html/2212.02627.md\n",
      "\t _build/html/2212.02235.md\n",
      "\t _build/html/2212.01707.md\n",
      "\t _build/html/2212.01526.md\n",
      "\t _build/html/2212.01397.md\n",
      "\t _build/html/2212.01291.md\n",
      "\t _build/html/2212.01281.md\n",
      "\t _build/html/2212.00812.md\n",
      "\t _build/html/2212.00811.md\n",
      "\t _build/html/2212.00806.md\n",
      "\t _build/html/2212.00047.md\n",
      "\t _build/html/2212.00032.md\n",
      "\t _build/html/2211.16996.md\n",
      "\t _build/html/2211.16510.md\n",
      "\t _build/html/2211.16123.md\n",
      "\t _build/html/2211.15816.md\n",
      "\t _build/html/2211.15698.md\n",
      "\t _build/html/2211.15576.md\n",
      "\t _build/html/2211.15434.md\n",
      "\t _build/html/2211.15288.md\n",
      "\t _build/html/2211.15224.md\n",
      "\t _build/html/2211.14543.md\n",
      "\t _build/html/2211.14330.md\n",
      "\t _build/html/2211.14322.md\n",
      "\t _build/html/2211.14132.md\n",
      "\t _build/html/2211.13811.md\n",
      "\t _build/html/2211.13426.md\n",
      "\t _build/html/2211.13318.md\n",
      "\t _build/html/2211.13146.md\n",
      "\t _build/html/2211.12613.md\n",
      "\t _build/html/2211.11767.md\n",
      "\t _build/html/2211.09840.md\n",
      "\t _build/html/2211.09217.md\n",
      "\t _build/html/2211.08493.md\n",
      "\t _build/html/2211.08487.md\n",
      "\t _build/html/2211.08294.md\n",
      "\t _build/html/2211.07667.md\n",
      "\t _build/html/2211.07659.md\n",
      "\t _build/html/2211.06454.md\n",
      "\t _build/html/2211.06205.md\n",
      "\t _build/html/2211.06194.md\n",
      "\t _build/html/2211.05022.md\n",
      "\t _build/html/2211.04048.md\n",
      "\t _build/html/2211.03641.md\n",
      "\t _build/html/2211.02502.md\n",
      "\t _build/html/2211.01474.md\n",
      "\t _build/html/2211.00667.md\n",
      "\t _build/html/2211.00657.md\n",
      "\t _build/html/2211.00087.md\n",
      "\t _build/html/2211.00036.md\n",
      "\t _build/html/2211.00020.md\n",
      "\t _build/html/2211.00010.md\n",
      "\t _build/html/2210.17434.md\n",
      "\t _build/html/2210.12412.md\n",
      "\t _build/html/2210.11926.md\n",
      "\t _build/html/2210.11551.md\n",
      "\t _build/html/2210.11103.md\n",
      "\t _build/html/2210.10707.md\n",
      "\t _build/html/2210.09930.md\n",
      "\t _build/html/2210.08996.md\n",
      "\t _build/html/2210.08517.md\n",
      "\t _build/html/2210.08510.md\n",
      "\t _build/html/2210.08078.md\n",
      "\t _build/html/2210.06504.md\n",
      "\t _build/html/2210.05695.md\n",
      "\t _build/html/2210.05595.md\n",
      "\t _build/html/2210.05505.md\n",
      "\t _build/html/2210.04721.md\n",
      "\t _build/html/2210.03615.md\n",
      "\t _build/html/2210.01811.md\n",
      "\t _build/html/2210.01809.md\n",
      "\t _build/html/2210.01556.md\n",
      "\t _build/html/2210.00863.md\n",
      "\t _build/html/2210.00560.md\n",
      "\t _build/html/2209.15403.md\n",
      "\t _build/html/2209.15110.md\n",
      "\t _build/html/2209.14410.md\n",
      "\t _build/html/2209.14396.md\n",
      "\t _build/html/2209.13717.md\n",
      "\t _build/html/2209.13336.md\n",
      "\t _build/html/2209.12906.md\n",
      "\t _build/html/2209.11781.md\n",
      "\t _build/html/2209.11602.md\n",
      "\t _build/html/2209.11248.md\n",
      "\t _build/html/2209.11096.md\n",
      "\t _build/html/2209.10618.md\n",
      "\t _build/html/2209.09914.md\n",
      "\t _build/html/2209.09823.md\n",
      "\t _build/html/2209.08242.md\n",
      "\t _build/html/2209.08120.md\n",
      "\t _build/html/2209.08106.md\n",
      "\t _build/html/2209.07962.md\n",
      "\t _build/html/2209.07931.md\n",
      "\t _build/html/2209.06833.md\n",
      "\t _build/html/2209.05814.md\n",
      "\t _build/html/2209.05593.md\n",
      "\t _build/html/2209.04304.md\n",
      "\t _build/html/2209.03367.md\n",
      "\t _build/html/2209.02872.md\n",
      "\t _build/html/2209.02725.md\n",
      "\t _build/html/2209.02722.md\n",
      "\t _build/html/2209.02092.md\n",
      "\t _build/html/2209.01125.md\n",
      "\t _build/html/2209.00828.md\n",
      "\t _build/html/2209.00363.md\n",
      "\t _build/html/2208.14927.md\n",
      "\t _build/html/2208.09335.md\n",
      "\t _build/html/2208.08872.md\n",
      "\t _build/html/2204.06393.md\n",
      "\t _build/html/2204.03335.md\n",
      "\t _build/html/2204.03253.md\n",
      "\t _build/html/2204.02998.md\n",
      "\t _build/html/2204.02109.md\n",
      "\t _build/html/2204.02017.md\n",
      "\t _build/html/2204.01824.md\n",
      "\t _build/html/2204.01758.md\n",
      "\t _build/html/2204.01245.md\n",
      "\t _build/html/2204.00793.md\n",
      "\t _build/html/2204.00342.md\n",
      "\t _build/html/2203.16959.md\n",
      "\t _build/html/2203.16856.md\n",
      "\t _build/html/2203.16735.md\n",
      "\t _build/html/2203.16734.md\n",
      "\t _build/html/2203.16504.md\n",
      "\t _build/html/2203.15822.md\n",
      "\t _build/html/2203.15811.md\n"
     ]
    }
   ],
   "source": [
    "from datetime import datetime, timedelta, timezone\n",
    "from glob import glob\n",
    "\n",
    "files = glob('_build/html/*.md')\n",
    "days = 7\n",
    "now = datetime.today()\n",
    "res = []\n",
    "for fk in files:\n",
    "    stat_result = os.stat(fk).st_ctime\n",
    "    modified = datetime.fromtimestamp(stat_result, tz=timezone.utc).replace(tzinfo=None)\n",
    "    delta = now.today() - modified\n",
    "    if delta <= timedelta(days=days):\n",
    "        res.append((delta.seconds, fk))\n",
    "res = [k[1] for k in reversed(sorted(res, key=lambda x:x[1]))]\n",
    "npub = len(res)\n",
    "print(len(res), f\" publications in the last {days:d} days.\")\n",
    "[ print('\\t', k) for k in res ];"
   ]
  },
  {
   "cell_type": "code",
   "execution_count": 11,
   "id": "015de740",
   "metadata": {
    "execution": {
     "iopub.execute_input": "2023-03-06T04:10:04.643712Z",
     "iopub.status.busy": "2023-03-06T04:10:04.643083Z",
     "iopub.status.idle": "2023-03-06T04:10:04.672478Z",
     "shell.execute_reply": "2023-03-06T04:10:04.671580Z"
    },
    "papermill": {
     "duration": 0.041877,
     "end_time": "2023-03-06T04:10:04.674556",
     "exception": false,
     "start_time": "2023-03-06T04:10:04.632679",
     "status": "completed"
    },
    "tags": []
   },
   "outputs": [
    {
     "name": "stdout",
     "output_type": "stream",
     "text": [
      "5  publications in the last 7 days.\n"
     ]
    }
   ],
   "source": [
    "import datetime\n",
    "from glob import glob\n",
    "\n",
    "def get_last_n_days(lst, days=1):\n",
    "    \"\"\" Get the documents from the last n days \"\"\"\n",
    "    sorted_lst = sorted(lst, key=lambda x: x[1], reverse=True)\n",
    "    for fname, date in sorted_lst:\n",
    "        if date >= str(datetime.date.today() - datetime.timedelta(days=days)):\n",
    "            yield fname\n",
    "\n",
    "def extract_appearance_dates(lst_file):\n",
    "    dates = []\n",
    "\n",
    "    def get_date(line):\n",
    "        return line\\\n",
    "            .split('Appeared on:')[-1]\\\n",
    "            .split('</mark>')[0].strip()\n",
    "\n",
    "    for fname in lst:\n",
    "        with open(fname, 'r') as f:\n",
    "            found_date = False\n",
    "            for line in f:\n",
    "                if not found_date:\n",
    "                    if \"Appeared on\" in line:\n",
    "                        found_date = True\n",
    "                        dates.append((fname, get_date(line)))\n",
    "                else:\n",
    "                    break\n",
    "    return dates\n",
    "\n",
    "from glob import glob\n",
    "lst = glob('_build/html/*md')\n",
    "days = 7\n",
    "dates = extract_appearance_dates(lst)\n",
    "res = list(get_last_n_days(dates, days))\n",
    "npub = len(res)\n",
    "print(len(res), f\" publications in the last {days:d} days.\")"
   ]
  },
  {
   "cell_type": "code",
   "execution_count": 12,
   "id": "52ca0208",
   "metadata": {
    "execution": {
     "iopub.execute_input": "2023-03-06T04:10:04.693869Z",
     "iopub.status.busy": "2023-03-06T04:10:04.693342Z",
     "iopub.status.idle": "2023-03-06T04:10:04.703820Z",
     "shell.execute_reply": "2023-03-06T04:10:04.702945Z"
    },
    "papermill": {
     "duration": 0.022967,
     "end_time": "2023-03-06T04:10:04.706175",
     "exception": false,
     "start_time": "2023-03-06T04:10:04.683208",
     "status": "completed"
    },
    "scrolled": false,
    "tags": []
   },
   "outputs": [],
   "source": [
    "def create_carousel(npub=4):\n",
    "    \"\"\" Generate the HTML code for a carousel with `npub` slides \"\"\"\n",
    "    carousel = [\"\"\"<section class=\"carousel\" aria-label=\"Gallery\">\"\"\",\n",
    "                \"\"\"  <ol class=\"carousel__viewport\">\"\"\",\n",
    "    ]\n",
    "    for k in range(1, npub + 1):\n",
    "        prev_ = k - 1\n",
    "        next_ = k + 1\n",
    "        if prev_ <= 0:\n",
    "            prev_ = npub\n",
    "        if next_ > npub:\n",
    "            next_ = 1\n",
    "        text  = f\"\"\"    <li id=\"carousel__slide{k}\" tabindex=\"0\" class=\"carousel__slide\">\\n\"\"\"\n",
    "        text += f\"\"\"       <div class=\"carousel__snapper\">\\n\"\"\"\n",
    "        text += f\"\"\"         <a href=\"#carousel__slide{prev_}\" class=\"carousel__prev\">Go to previous slide</a>\\n\"\"\"\n",
    "        text += f\"\"\"         <a href=\"#carousel__slide{next_}\" class=\"carousel__next\">Go to next slide</a>\\n\"\"\"\n",
    "        text += f\"\"\"         <div id=\"slide{k}_content\" class=\"md_view\" >Content {k}</div>\\n\"\"\"\n",
    "        text += f\"\"\"       </div>\\n\"\"\"\n",
    "        text += f\"\"\"    </li>\"\"\"\n",
    "        carousel.append(text)\n",
    "\n",
    "    carousel.extend([\n",
    "        \"\"\"  </ol>\"\"\",\n",
    "        \"\"\"  <aside class=\"carousel__navigation\">\"\"\",\n",
    "        \"\"\"    <ol class=\"carousel__navigation-list\">\"\"\"])\n",
    "\n",
    "    for k in range(1, npub + 1):\n",
    "        text  = f\"\"\"      <li class=\"carousel__navigation-item\">\\n\"\"\"\n",
    "        text += f\"\"\"        <a href=\"#carousel__slide{k}\" class=\"carousel__navigation-button\">Go to {k}</a>\\n\"\"\"\n",
    "        text += f\"\"\"      </li>\"\"\"\n",
    "        carousel.append(text)\n",
    "    carousel.extend([\"\"\"    </ol>\"\"\", \"\"\"  </aside>\"\"\", \"\"\"</section>\"\"\"])\n",
    "\n",
    "    return '\\n'.join(carousel)"
   ]
  },
  {
   "cell_type": "code",
   "execution_count": 13,
   "id": "a6eac5b6",
   "metadata": {
    "execution": {
     "iopub.execute_input": "2023-03-06T04:10:04.726104Z",
     "iopub.status.busy": "2023-03-06T04:10:04.725753Z",
     "iopub.status.idle": "2023-03-06T04:10:04.736387Z",
     "shell.execute_reply": "2023-03-06T04:10:04.735594Z"
    },
    "papermill": {
     "duration": 0.022942,
     "end_time": "2023-03-06T04:10:04.738791",
     "exception": false,
     "start_time": "2023-03-06T04:10:04.715849",
     "status": "completed"
    },
    "scrolled": false,
    "tags": []
   },
   "outputs": [],
   "source": [
    "carousel = create_carousel(npub)\n",
    "docs = ', '.join(['\"{0:s}\"'.format(k.split('/')[-1]) for k in res])\n",
    "slides = ', '.join([f'\"slide{k}_content\"' for k in range(1, npub + 1)])\n",
    "\n",
    "script = f\"\"\"\n",
    "const docs = [{docs}]\n",
    "\n",
    "const slides = [{slides}]\n",
    "\"\"\" + \"\"\"\n",
    "async function run() {\n",
    "    for (let i = 0; i < docs.length; i++) {\n",
    "        let file = await fetch(docs[i]);\n",
    "        let text = await file.text()\n",
    "        document.getElementById(slides[i]).innerHTML =\n",
    "            marked.parse(text);\n",
    "    }\n",
    "    hljs.highlightAll();\n",
    "}\n",
    "run()\n",
    "\"\"\"\n",
    "\n",
    "page = f\"\"\"<!doctype html>\n",
    "<html lang=\"en\">\n",
    "\n",
    "<head>\n",
    "  <meta charset=\"utf-8\">\n",
    "  <meta name=\"viewport\" content=\"width=device-width, initial-scale=1\">\n",
    "  <!-- Bootstrap CSS -->\n",
    "  <link href=\"https://cdn.jsdelivr.net/npm/bootstrap@5.0.2/dist/css/bootstrap.min.css\" rel=\"stylesheet\"\n",
    "   integrity=\"sha384-EVSTQN3/azprG1Anm3QDgpJLIm9Nao0Yz1ztcQTwFspd3yD65VohhpuuCOmLASjC\" crossorigin=\"anonymous\">\n",
    "  <!-- highlight.js CSS -->\n",
    "  <link rel=\"stylesheet\" href=\"https://cdnjs.cloudflare.com/ajax/libs/highlight.js/11.1.0/styles/default.min.css\">\n",
    "  <!-- Mathjax 3 -->\n",
    "  <script type=\"text/javascript\" id=\"MathJax-config\" src=\"mathjax_config.js\"> </script>\n",
    "  <script type=\"text/javascript\" id=\"MathJax-script\" async \n",
    "    src=\"https://cdn.jsdelivr.net/npm/mathjax@3/es5/tex-mml-chtml.js\">\n",
    "  </script>\n",
    "  <link rel=\"stylesheet\" href=\"index_carousel.css\">\n",
    "  <link rel=\"icon\" type=\"image/x-icon\" href=\"https://www.mpia.de/assets/touch-icon-32x32-a66937bcebc4e8894ebff1f41a366c7c7220fd97a38869ee0f2db65a9f59b6c1.png\">\n",
    "  <title>MPIA Arxiv on deck!</title>\n",
    "</head>\n",
    "\n",
    "<body>\n",
    "  <div id=\"header\"> <img src=\"header_banner.png\" width=\"100%\"></div>\n",
    "  <div id=\"suptitle\"> 7-day archives </div>\n",
    "  <div id=\"info\">\n",
    "    <img src=\"https://pngimg.com/uploads/github/github_PNG58.png\" height=30rem></img>\n",
    "    <a href=https://github.com/mpi-astronomy/arxiv_display style=\"color:black;\">github/mpi-astronomy/arxiv_display</a> \n",
    "  </div>\n",
    "  {carousel:s}\n",
    "</body>\n",
    "\n",
    "<!-- Render Markdown -->\n",
    "\n",
    "<body>\n",
    "  <!-- highlight.js: https://highlightjs.org/download/ -->\n",
    "  <script src=\"https://cdnjs.cloudflare.com/ajax/libs/highlight.js/11.5.0/highlight.min.js\"></script>\n",
    "  <!-- marked.js -->\n",
    "  <script src=\"https://cdn.jsdelivr.net/npm/marked/marked.min.js\"></script>\n",
    "  <script>{script:s}</script>\n",
    "</body>\n",
    "</html>\n",
    "\"\"\"\n",
    "with open(\"_build/html/index_7days.html\", 'w') as fout:\n",
    "    fout.write(page)"
   ]
  },
  {
   "cell_type": "code",
   "execution_count": 14,
   "id": "adc1a1ec",
   "metadata": {
    "execution": {
     "iopub.execute_input": "2023-03-06T04:10:04.759258Z",
     "iopub.status.busy": "2023-03-06T04:10:04.758926Z",
     "iopub.status.idle": "2023-03-06T04:10:04.772066Z",
     "shell.execute_reply": "2023-03-06T04:10:04.771208Z"
    },
    "papermill": {
     "duration": 0.02556,
     "end_time": "2023-03-06T04:10:04.774204",
     "exception": false,
     "start_time": "2023-03-06T04:10:04.748644",
     "status": "completed"
    },
    "tags": []
   },
   "outputs": [
    {
     "name": "stdout",
     "output_type": "stream",
     "text": [
      "1  publications in the last day.\n"
     ]
    }
   ],
   "source": [
    "# redo for today\n",
    "days = 1\n",
    "res = list(get_last_n_days(dates, days))\n",
    "npub = len(res)\n",
    "print(len(res), f\" publications in the last day.\")\n",
    "\n",
    "carousel = create_carousel(npub)\n",
    "docs = ', '.join(['\"{0:s}\"'.format(k.split('/')[-1]) for k in res])\n",
    "slides = ', '.join([f'\"slide{k}_content\"' for k in range(1, npub + 1)])\n",
    "\n",
    "script = f\"\"\"\n",
    "const docs = [{docs}]\n",
    "\n",
    "const slides = [{slides}]\n",
    "\"\"\" + \"\"\"\n",
    "async function run() {\n",
    "    for (let i = 0; i < docs.length; i++) {\n",
    "        let file = await fetch(docs[i]);\n",
    "        let text = await file.text()\n",
    "        document.getElementById(slides[i]).innerHTML =\n",
    "            marked.parse(text);\n",
    "    }\n",
    "    hljs.highlightAll();\n",
    "}\n",
    "run()\n",
    "\"\"\"\n",
    "\n",
    "page = f\"\"\"<!doctype html>\n",
    "<html lang=\"en\">\n",
    "\n",
    "<head>\n",
    "  <meta charset=\"utf-8\">\n",
    "  <meta name=\"viewport\" content=\"width=device-width, initial-scale=1\">\n",
    "  <!-- Bootstrap CSS -->\n",
    "  <link href=\"https://cdn.jsdelivr.net/npm/bootstrap@5.0.2/dist/css/bootstrap.min.css\" rel=\"stylesheet\"\n",
    "   integrity=\"sha384-EVSTQN3/azprG1Anm3QDgpJLIm9Nao0Yz1ztcQTwFspd3yD65VohhpuuCOmLASjC\" crossorigin=\"anonymous\">\n",
    "  <!-- highlight.js CSS -->\n",
    "  <link rel=\"stylesheet\" href=\"https://cdnjs.cloudflare.com/ajax/libs/highlight.js/11.1.0/styles/default.min.css\">\n",
    "  <!-- Mathjax 3 -->\n",
    "  <script type=\"text/javascript\" id=\"MathJax-config\" src=\"mathjax_config.js\"> </script>\n",
    "  <script type=\"text/javascript\" id=\"MathJax-script\" async \n",
    "    src=\"https://cdn.jsdelivr.net/npm/mathjax@3/es5/tex-mml-chtml.js\">\n",
    "  </script>\n",
    "  <link rel=\"stylesheet\" href=\"index_carousel.css\">\n",
    "  <link rel=\"icon\" type=\"image/x-icon\" href=\"https://www.mpia.de/assets/touch-icon-32x32-a66937bcebc4e8894ebff1f41a366c7c7220fd97a38869ee0f2db65a9f59b6c1.png\">\n",
    "  <title>MPIA Arxiv on deck!</title>\n",
    "</head>\n",
    "\n",
    "<body>\n",
    "  <div id=\"header\"> <img src=\"header_banner.png\" width=\"100%\"></div>\n",
    "  <div id=\"suptitle\"> daily </div>\n",
    "  <div id=\"info\">\n",
    "    <img src=\"https://pngimg.com/uploads/github/github_PNG58.png\" height=30rem></img>\n",
    "    <a href=https://github.com/mpi-astronomy/arxiv_display style=\"color:black;\">github/mpi-astronomy/arxiv_display</a> \n",
    "  </div>\n",
    "  {carousel:s}\n",
    "</body>\n",
    "\n",
    "<!-- Render Markdown -->\n",
    "\n",
    "<body>\n",
    "  <!-- highlight.js: https://highlightjs.org/download/ -->\n",
    "  <script src=\"https://cdnjs.cloudflare.com/ajax/libs/highlight.js/11.5.0/highlight.min.js\"></script>\n",
    "  <!-- marked.js -->\n",
    "  <script src=\"https://cdn.jsdelivr.net/npm/marked/marked.min.js\"></script>\n",
    "  <script>{script:s}</script>\n",
    "</body>\n",
    "</html>\n",
    "\"\"\"\n",
    "with open(\"_build/html/index_daily.html\", 'w') as fout:\n",
    "    fout.write(page)"
   ]
  }
 ],
 "metadata": {
  "kernelspec": {
   "display_name": "Python 3 (ipykernel)",
   "language": "python",
   "name": "python3"
  },
  "language_info": {
   "codemirror_mode": {
    "name": "ipython",
    "version": 3
   },
   "file_extension": ".py",
   "mimetype": "text/x-python",
   "name": "python",
   "nbconvert_exporter": "python",
   "pygments_lexer": "ipython3",
   "version": "3.9.16"
  },
  "papermill": {
   "default_parameters": {},
   "duration": 92.824841,
   "end_time": "2023-03-06T04:10:05.103486",
   "environment_variables": {},
   "exception": null,
   "input_path": "MPIA daily digest.ipynb",
   "output_path": "log.ipynb",
   "parameters": {},
   "start_time": "2023-03-06T04:08:32.278645",
   "version": "2.4.0"
  },
  "vscode": {
   "interpreter": {
    "hash": "aee8b7b246df8f9039afb4144a1f6fd8d2ca17a180786b69acc140d282b71a49"
   }
  },
  "widgets": {
   "application/vnd.jupyter.widget-state+json": {
    "state": {
     "042ce3aaf0314893987df942f34fc80e": {
      "model_module": "@jupyter-widgets/base",
      "model_module_version": "2.0.0",
      "model_name": "LayoutModel",
      "state": {
       "_model_module": "@jupyter-widgets/base",
       "_model_module_version": "2.0.0",
       "_model_name": "LayoutModel",
       "_view_count": null,
       "_view_module": "@jupyter-widgets/base",
       "_view_module_version": "2.0.0",
       "_view_name": "LayoutView",
       "align_content": null,
       "align_items": null,
       "align_self": null,
       "border_bottom": null,
       "border_left": null,
       "border_right": null,
       "border_top": null,
       "bottom": null,
       "display": null,
       "flex": null,
       "flex_flow": null,
       "grid_area": null,
       "grid_auto_columns": null,
       "grid_auto_flow": null,
       "grid_auto_rows": null,
       "grid_column": null,
       "grid_gap": null,
       "grid_row": null,
       "grid_template_areas": null,
       "grid_template_columns": null,
       "grid_template_rows": null,
       "height": null,
       "justify_content": null,
       "justify_items": null,
       "left": null,
       "margin": null,
       "max_height": null,
       "max_width": null,
       "min_height": null,
       "min_width": null,
       "object_fit": null,
       "object_position": null,
       "order": null,
       "overflow": null,
       "padding": null,
       "right": null,
       "top": null,
       "visibility": null,
       "width": null
      }
     },
     "08de74cff9f944be87e8a550d9dca6a0": {
      "model_module": "@jupyter-widgets/controls",
      "model_module_version": "2.0.0",
      "model_name": "HBoxModel",
      "state": {
       "_dom_classes": [],
       "_model_module": "@jupyter-widgets/controls",
       "_model_module_version": "2.0.0",
       "_model_name": "HBoxModel",
       "_view_count": null,
       "_view_module": "@jupyter-widgets/controls",
       "_view_module_version": "2.0.0",
       "_view_name": "HBoxView",
       "box_style": "",
       "children": [
        "IPY_MODEL_c962db2120f8439f8e9350ddfbd16852",
        "IPY_MODEL_0bf643b04efb4b42aad2cf44935f63da",
        "IPY_MODEL_ab4bf1152b094d9a86c66d89e7b72021"
       ],
       "layout": "IPY_MODEL_042ce3aaf0314893987df942f34fc80e",
       "tabbable": null,
       "tooltip": null
      }
     },
     "0bf643b04efb4b42aad2cf44935f63da": {
      "model_module": "@jupyter-widgets/controls",
      "model_module_version": "2.0.0",
      "model_name": "FloatProgressModel",
      "state": {
       "_dom_classes": [],
       "_model_module": "@jupyter-widgets/controls",
       "_model_module_version": "2.0.0",
       "_model_name": "FloatProgressModel",
       "_view_count": null,
       "_view_module": "@jupyter-widgets/controls",
       "_view_module_version": "2.0.0",
       "_view_name": "ProgressView",
       "bar_style": "success",
       "description": "",
       "description_allow_html": false,
       "layout": "IPY_MODEL_a8659208285340fabf58c5ca3bdf279a",
       "max": 8.0,
       "min": 0.0,
       "orientation": "horizontal",
       "style": "IPY_MODEL_2ddf759963e64f8ba40a1595afca97b1",
       "tabbable": null,
       "tooltip": null,
       "value": 8.0
      }
     },
     "1cd8ba4b9ac44918811c9b695f3428a3": {
      "model_module": "@jupyter-widgets/base",
      "model_module_version": "2.0.0",
      "model_name": "LayoutModel",
      "state": {
       "_model_module": "@jupyter-widgets/base",
       "_model_module_version": "2.0.0",
       "_model_name": "LayoutModel",
       "_view_count": null,
       "_view_module": "@jupyter-widgets/base",
       "_view_module_version": "2.0.0",
       "_view_name": "LayoutView",
       "align_content": null,
       "align_items": null,
       "align_self": null,
       "border_bottom": null,
       "border_left": null,
       "border_right": null,
       "border_top": null,
       "bottom": null,
       "display": null,
       "flex": null,
       "flex_flow": null,
       "grid_area": null,
       "grid_auto_columns": null,
       "grid_auto_flow": null,
       "grid_auto_rows": null,
       "grid_column": null,
       "grid_gap": null,
       "grid_row": null,
       "grid_template_areas": null,
       "grid_template_columns": null,
       "grid_template_rows": null,
       "height": null,
       "justify_content": null,
       "justify_items": null,
       "left": null,
       "margin": null,
       "max_height": null,
       "max_width": null,
       "min_height": null,
       "min_width": null,
       "object_fit": null,
       "object_position": null,
       "order": null,
       "overflow": null,
       "padding": null,
       "right": null,
       "top": null,
       "visibility": null,
       "width": null
      }
     },
     "2ddf759963e64f8ba40a1595afca97b1": {
      "model_module": "@jupyter-widgets/controls",
      "model_module_version": "2.0.0",
      "model_name": "ProgressStyleModel",
      "state": {
       "_model_module": "@jupyter-widgets/controls",
       "_model_module_version": "2.0.0",
       "_model_name": "ProgressStyleModel",
       "_view_count": null,
       "_view_module": "@jupyter-widgets/base",
       "_view_module_version": "2.0.0",
       "_view_name": "StyleView",
       "bar_color": null,
       "description_width": ""
      }
     },
     "3fb015d831694c3f86efdf409f7e3e06": {
      "model_module": "@jupyter-widgets/controls",
      "model_module_version": "2.0.0",
      "model_name": "HTMLStyleModel",
      "state": {
       "_model_module": "@jupyter-widgets/controls",
       "_model_module_version": "2.0.0",
       "_model_name": "HTMLStyleModel",
       "_view_count": null,
       "_view_module": "@jupyter-widgets/base",
       "_view_module_version": "2.0.0",
       "_view_name": "StyleView",
       "background": null,
       "description_width": "",
       "font_size": null,
       "text_color": null
      }
     },
     "919753acc70a4af3924da9924411e903": {
      "model_module": "@jupyter-widgets/base",
      "model_module_version": "2.0.0",
      "model_name": "LayoutModel",
      "state": {
       "_model_module": "@jupyter-widgets/base",
       "_model_module_version": "2.0.0",
       "_model_name": "LayoutModel",
       "_view_count": null,
       "_view_module": "@jupyter-widgets/base",
       "_view_module_version": "2.0.0",
       "_view_name": "LayoutView",
       "align_content": null,
       "align_items": null,
       "align_self": null,
       "border_bottom": null,
       "border_left": null,
       "border_right": null,
       "border_top": null,
       "bottom": null,
       "display": null,
       "flex": null,
       "flex_flow": null,
       "grid_area": null,
       "grid_auto_columns": null,
       "grid_auto_flow": null,
       "grid_auto_rows": null,
       "grid_column": null,
       "grid_gap": null,
       "grid_row": null,
       "grid_template_areas": null,
       "grid_template_columns": null,
       "grid_template_rows": null,
       "height": null,
       "justify_content": null,
       "justify_items": null,
       "left": null,
       "margin": null,
       "max_height": null,
       "max_width": null,
       "min_height": null,
       "min_width": null,
       "object_fit": null,
       "object_position": null,
       "order": null,
       "overflow": null,
       "padding": null,
       "right": null,
       "top": null,
       "visibility": null,
       "width": null
      }
     },
     "a8659208285340fabf58c5ca3bdf279a": {
      "model_module": "@jupyter-widgets/base",
      "model_module_version": "2.0.0",
      "model_name": "LayoutModel",
      "state": {
       "_model_module": "@jupyter-widgets/base",
       "_model_module_version": "2.0.0",
       "_model_name": "LayoutModel",
       "_view_count": null,
       "_view_module": "@jupyter-widgets/base",
       "_view_module_version": "2.0.0",
       "_view_name": "LayoutView",
       "align_content": null,
       "align_items": null,
       "align_self": null,
       "border_bottom": null,
       "border_left": null,
       "border_right": null,
       "border_top": null,
       "bottom": null,
       "display": null,
       "flex": null,
       "flex_flow": null,
       "grid_area": null,
       "grid_auto_columns": null,
       "grid_auto_flow": null,
       "grid_auto_rows": null,
       "grid_column": null,
       "grid_gap": null,
       "grid_row": null,
       "grid_template_areas": null,
       "grid_template_columns": null,
       "grid_template_rows": null,
       "height": null,
       "justify_content": null,
       "justify_items": null,
       "left": null,
       "margin": null,
       "max_height": null,
       "max_width": null,
       "min_height": null,
       "min_width": null,
       "object_fit": null,
       "object_position": null,
       "order": null,
       "overflow": null,
       "padding": null,
       "right": null,
       "top": null,
       "visibility": null,
       "width": null
      }
     },
     "ab4bf1152b094d9a86c66d89e7b72021": {
      "model_module": "@jupyter-widgets/controls",
      "model_module_version": "2.0.0",
      "model_name": "HTMLModel",
      "state": {
       "_dom_classes": [],
       "_model_module": "@jupyter-widgets/controls",
       "_model_module_version": "2.0.0",
       "_model_name": "HTMLModel",
       "_view_count": null,
       "_view_module": "@jupyter-widgets/controls",
       "_view_module_version": "2.0.0",
       "_view_name": "HTMLView",
       "description": "",
       "description_allow_html": false,
       "layout": "IPY_MODEL_919753acc70a4af3924da9924411e903",
       "placeholder": "​",
       "style": "IPY_MODEL_3fb015d831694c3f86efdf409f7e3e06",
       "tabbable": null,
       "tooltip": null,
       "value": " 8/8 [00:59&lt;00:00,  4.83s/it]"
      }
     },
     "bbf5d726215e498d8a85a39fb6038b4b": {
      "model_module": "@jupyter-widgets/controls",
      "model_module_version": "2.0.0",
      "model_name": "HTMLStyleModel",
      "state": {
       "_model_module": "@jupyter-widgets/controls",
       "_model_module_version": "2.0.0",
       "_model_name": "HTMLStyleModel",
       "_view_count": null,
       "_view_module": "@jupyter-widgets/base",
       "_view_module_version": "2.0.0",
       "_view_name": "StyleView",
       "background": null,
       "description_width": "",
       "font_size": null,
       "text_color": null
      }
     },
     "c962db2120f8439f8e9350ddfbd16852": {
      "model_module": "@jupyter-widgets/controls",
      "model_module_version": "2.0.0",
      "model_name": "HTMLModel",
      "state": {
       "_dom_classes": [],
       "_model_module": "@jupyter-widgets/controls",
       "_model_module_version": "2.0.0",
       "_model_name": "HTMLModel",
       "_view_count": null,
       "_view_module": "@jupyter-widgets/controls",
       "_view_module_version": "2.0.0",
       "_view_name": "HTMLView",
       "description": "",
       "description_allow_html": false,
       "layout": "IPY_MODEL_1cd8ba4b9ac44918811c9b695f3428a3",
       "placeholder": "​",
       "style": "IPY_MODEL_bbf5d726215e498d8a85a39fb6038b4b",
       "tabbable": null,
       "tooltip": null,
       "value": "100%"
      }
     }
    },
    "version_major": 2,
    "version_minor": 0
   }
  }
 },
 "nbformat": 4,
 "nbformat_minor": 5
}