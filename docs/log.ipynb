{
 "cells": [
  {
   "cell_type": "markdown",
   "id": "92bcb855",
   "metadata": {
    "papermill": {
     "duration": 0.004932,
     "end_time": "2023-03-01T04:08:19.724905",
     "exception": false,
     "start_time": "2023-03-01T04:08:19.719973",
     "status": "completed"
    },
    "tags": []
   },
   "source": [
    "# MPIA Arxiv on Deck 2\n",
    "\n",
    "Contains the steps to produce the paper extractions."
   ]
  },
  {
   "cell_type": "code",
   "execution_count": 1,
   "id": "3a0d6e11",
   "metadata": {
    "execution": {
     "iopub.execute_input": "2023-03-01T04:08:19.733930Z",
     "iopub.status.busy": "2023-03-01T04:08:19.733241Z",
     "iopub.status.idle": "2023-03-01T04:08:19.952410Z",
     "shell.execute_reply": "2023-03-01T04:08:19.951607Z"
    },
    "papermill": {
     "duration": 0.226094,
     "end_time": "2023-03-01T04:08:19.954720",
     "exception": false,
     "start_time": "2023-03-01T04:08:19.728626",
     "status": "completed"
    },
    "tags": []
   },
   "outputs": [],
   "source": [
    "# Imports\n",
    "import os\n",
    "from IPython.display import Markdown, display\n",
    "from tqdm.notebook import tqdm\n",
    "import warnings\n",
    "from PIL import Image \n",
    "\n",
    "# requires arxiv_on_deck_2\n",
    "\n",
    "from arxiv_on_deck_2.arxiv2 import (get_new_papers, \n",
    "                                    get_paper_from_identifier,\n",
    "                                    retrieve_document_source, \n",
    "                                    get_markdown_badge)\n",
    "from arxiv_on_deck_2 import (latex,\n",
    "                             latex_bib,\n",
    "                             mpia,\n",
    "                             highlight_authors_in_list)\n",
    "\n",
    "# Sometimes images are really big\n",
    "Image.MAX_IMAGE_PIXELS = 1000000000 "
   ]
  },
  {
   "cell_type": "code",
   "execution_count": 2,
   "id": "22aa9d44",
   "metadata": {
    "execution": {
     "iopub.execute_input": "2023-03-01T04:08:19.964011Z",
     "iopub.status.busy": "2023-03-01T04:08:19.963374Z",
     "iopub.status.idle": "2023-03-01T04:08:19.968247Z",
     "shell.execute_reply": "2023-03-01T04:08:19.967610Z"
    },
    "papermill": {
     "duration": 0.010972,
     "end_time": "2023-03-01T04:08:19.969755",
     "exception": false,
     "start_time": "2023-03-01T04:08:19.958783",
     "status": "completed"
    },
    "tags": []
   },
   "outputs": [],
   "source": [
    "# Some useful definitions.\n",
    "\n",
    "class AffiliationWarning(UserWarning):\n",
    "    pass\n",
    "\n",
    "class AffiliationError(RuntimeError):\n",
    "    pass\n",
    "\n",
    "def validation(source: str):\n",
    "    \"\"\"Raises error paper during parsing of source file\n",
    "    \n",
    "    Allows checks before parsing TeX code.\n",
    "    \n",
    "    Raises AffiliationWarning\n",
    "    \"\"\"\n",
    "    check = mpia.affiliation_verifications(source, verbose=True)\n",
    "    if check is not True:\n",
    "        raise AffiliationError(\"mpia.affiliation_verifications: \" + check)\n",
    "\n",
    "        \n",
    "warnings.simplefilter('always', AffiliationWarning)"
   ]
  },
  {
   "cell_type": "code",
   "execution_count": 3,
   "id": "14622700",
   "metadata": {
    "execution": {
     "iopub.execute_input": "2023-03-01T04:08:19.977800Z",
     "iopub.status.busy": "2023-03-01T04:08:19.977247Z",
     "iopub.status.idle": "2023-03-01T04:08:19.980992Z",
     "shell.execute_reply": "2023-03-01T04:08:19.980368Z"
    },
    "papermill": {
     "duration": 0.009463,
     "end_time": "2023-03-01T04:08:19.982568",
     "exception": false,
     "start_time": "2023-03-01T04:08:19.973105",
     "status": "completed"
    },
    "tags": []
   },
   "outputs": [],
   "source": [
    "# additional CSS to consider. \n",
    "# TODO: Current into each exported file. \n",
    "#       This should be set once into the webpages directly.\n",
    "#       With only the class/id definitions in the .md files.\n",
    "\n",
    "debug_html = \"\"\"\n",
    "<style>\n",
    "#wrap{ overflow:auto; }\n",
    "#fig1{ background:yellow; width:100%; float:left; padding:5px;  }\n",
    "#fig2{ background:red; width:50%; float:left; clear:left; padding:5px;  }\n",
    "#fig3{ background:green; width:50%; float:left; padding:5px;   }\n",
    ".macros{ background:yellow; visibility:visible;}\n",
    "h1 {margin: 0 0 0 0;}\n",
    "mark {background-color:#fff3b6;}\n",
    "img {object-fit:contain; max-height:250px; display:inline-block; text-align: center;}\n",
    "</style>\n",
    "\"\"\" \n",
    "html = \"\"\"\n",
    "<style>\n",
    "#wrap{ overflow:auto; }\n",
    "#fig1{ width:100%; float:left; padding: 5px;  }\n",
    "#fig2{ width:50%; float:left; clear:left; padding: 5px;  }\n",
    "#fig3{ width:50%; float:left; padding: 5px;  }\n",
    ".macros{ visibility:hidden; height:0px; }\n",
    "h1 {margin: 0em 0 0 0;}\n",
    "mark {background-color:#fff3b6;}\n",
    "img {object-fit:contain; max-height:250px; display:inline-block; text-align: center;}\n",
    "</style>\n",
    "\"\"\""
   ]
  },
  {
   "cell_type": "markdown",
   "id": "14bd6310",
   "metadata": {
    "papermill": {
     "duration": 0.003316,
     "end_time": "2023-03-01T04:08:19.989274",
     "exception": false,
     "start_time": "2023-03-01T04:08:19.985958",
     "status": "completed"
    },
    "tags": []
   },
   "source": [
    "## get list of arxiv paper candidates\n",
    "\n",
    "We use the MPIA mitarbeiter list webpage from mpia.de to get author names\n",
    "We then get all new papers from Arxiv and match authors"
   ]
  },
  {
   "cell_type": "code",
   "execution_count": 4,
   "id": "2645e73a",
   "metadata": {
    "execution": {
     "iopub.execute_input": "2023-03-01T04:08:19.997074Z",
     "iopub.status.busy": "2023-03-01T04:08:19.996858Z",
     "iopub.status.idle": "2023-03-01T04:08:43.267575Z",
     "shell.execute_reply": "2023-03-01T04:08:43.266767Z"
    },
    "papermill": {
     "duration": 23.276717,
     "end_time": "2023-03-01T04:08:43.269342",
     "exception": false,
     "start_time": "2023-03-01T04:08:19.992625",
     "status": "completed"
    },
    "tags": []
   },
   "outputs": [
    {
     "name": "stdout",
     "output_type": "stream",
     "text": [
      "Arxiv has 47 new papers today\n",
      "          11 with possible author matches\n"
     ]
    }
   ],
   "source": [
    "# get list from MPIA website\n",
    "# it automatically filters identified non-scientists :func:`mpia.filter_non_scientists`\n",
    "mpia_authors = mpia.get_mpia_mitarbeiter_list()\n",
    "new_papers = get_new_papers()\n",
    "# add manual references\n",
    "add_paper_refs = []\n",
    "new_papers.extend([get_paper_from_identifier(k) for k in add_paper_refs])\n",
    "\n",
    "# select only papers with matching author names and highlight authors\n",
    "hl_list = [k[0] for k in mpia_authors]\n",
    "\n",
    "candidates = []\n",
    "for paperk in new_papers:\n",
    "    hl_authors = highlight_authors_in_list(paperk['authors'], hl_list)\n",
    "    matches = [(hl, orig) for hl, orig in zip(hl_authors, paperk['authors']) if 'mark' in hl]\n",
    "    paperk['authors'] = hl_authors\n",
    "    if matches:\n",
    "        candidates.append(paperk)\n",
    "print(\"\"\"Arxiv has {0:,d} new papers today\"\"\".format(len(new_papers)))        \n",
    "print(\"\"\"          {0:,d} with possible author matches\"\"\".format(len(candidates)))"
   ]
  },
  {
   "cell_type": "markdown",
   "id": "3543b34a",
   "metadata": {
    "papermill": {
     "duration": 0.003539,
     "end_time": "2023-03-01T04:08:43.276763",
     "exception": false,
     "start_time": "2023-03-01T04:08:43.273224",
     "status": "completed"
    },
    "tags": []
   },
   "source": [
    "# Parse sources and generate relevant outputs\n",
    "\n",
    "From the candidates, we do the following steps:\n",
    "* get their tarball from ArXiv (and extract data)\n",
    "* find the main .tex file: find one with \\documentclass{...} (sometimes it's non trivial)\n",
    "* Check affiliations with :func:`validation`, which uses :func:`mpia.affiliation_verifications`\n",
    "* If passing the affiliations: we parse the .tex source\n",
    "   * inject sub-documents into the main (flatten the main document)\n",
    "   * parse structure, extract information (title, abstract, authors, figures...)\n",
    "   * handles `\\graphicspath` if provided\n",
    "* Generate the .md document."
   ]
  },
  {
   "cell_type": "code",
   "execution_count": 5,
   "id": "9576b79e",
   "metadata": {
    "execution": {
     "iopub.execute_input": "2023-03-01T04:08:43.285474Z",
     "iopub.status.busy": "2023-03-01T04:08:43.284872Z",
     "iopub.status.idle": "2023-03-01T04:09:41.640449Z",
     "shell.execute_reply": "2023-03-01T04:09:41.639748Z"
    },
    "papermill": {
     "duration": 58.362121,
     "end_time": "2023-03-01T04:09:41.642409",
     "exception": false,
     "start_time": "2023-03-01T04:08:43.280288",
     "status": "completed"
    },
    "scrolled": false,
    "tags": []
   },
   "outputs": [
    {
     "data": {
      "application/vnd.jupyter.widget-view+json": {
       "model_id": "65400dfe825a4d308930b99ff4c36851",
       "version_major": 2,
       "version_minor": 0
      },
      "text/plain": [
       "  0%|          | 0/10 [00:00<?, ?it/s]"
      ]
     },
     "metadata": {},
     "output_type": "display_data"
    },
    {
     "name": "stdout",
     "output_type": "stream",
     "text": [
      "Retrieving document from  https://arxiv.org/e-print/2302.14108\n"
     ]
    },
    {
     "name": "stdout",
     "output_type": "stream",
     "text": [
      "extracting tarball to tmp_2302.14108..."
     ]
    },
    {
     "name": "stdout",
     "output_type": "stream",
     "text": [
      " done.\n",
      "Retrieving document from  https://arxiv.org/e-print/2302.14137\n"
     ]
    },
    {
     "name": "stderr",
     "output_type": "stream",
     "text": [
      "/opt/hostedtoolcache/Python/3.9.16/x64/lib/python3.9/site-packages/IPython/core/interactiveshell.py:3460: LatexWarning: Multiple tex files.\n",
      "\n",
      "  exec(code_obj, self.user_global_ns, self.user_ns)\n",
      "/opt/hostedtoolcache/Python/3.9.16/x64/lib/python3.9/site-packages/IPython/core/interactiveshell.py:3460: LatexWarning: Found documentclass in tmp_2302.14108/aassymbols.tex\n",
      "\n",
      "  exec(code_obj, self.user_global_ns, self.user_ns)\n"
     ]
    },
    {
     "name": "stdout",
     "output_type": "stream",
     "text": [
      "extracting tarball to tmp_2302.14137..."
     ]
    },
    {
     "name": "stdout",
     "output_type": "stream",
     "text": [
      " done.\n"
     ]
    },
    {
     "name": "stderr",
     "output_type": "stream",
     "text": [
      "/opt/hostedtoolcache/Python/3.9.16/x64/lib/python3.9/site-packages/IPython/core/interactiveshell.py:3460: LatexWarning: Multiple tex files.\n",
      "\n",
      "  exec(code_obj, self.user_global_ns, self.user_ns)\n",
      "/opt/hostedtoolcache/Python/3.9.16/x64/lib/python3.9/site-packages/IPython/core/interactiveshell.py:3460: LatexWarning: Found documentclass in tmp_2302.14137/J1928_ApJ.tex\n",
      "\n",
      "  exec(code_obj, self.user_global_ns, self.user_ns)\n",
      "/opt/hostedtoolcache/Python/3.9.16/x64/lib/python3.9/site-packages/arxiv_on_deck_2/latex.py:312: LatexWarning: Latex injecting: 'HAWCauthors.tex' from 'tmp_2302.14137/HAWCauthors.tex'\n",
      "  warnings.warn(LatexWarning(f\"Latex injecting: '{ext}' from '{subsource}'\"))\n"
     ]
    },
    {
     "name": "stdout",
     "output_type": "stream",
     "text": [
      "undefined string in line 2459: mars\n",
      "Retrieving document from  https://arxiv.org/e-print/2302.14155\n"
     ]
    },
    {
     "name": "stdout",
     "output_type": "stream",
     "text": [
      "extracting tarball to tmp_2302.14155..."
     ]
    },
    {
     "name": "stdout",
     "output_type": "stream",
     "text": [
      " done.\n"
     ]
    },
    {
     "name": "stderr",
     "output_type": "stream",
     "text": [
      "/opt/hostedtoolcache/Python/3.9.16/x64/lib/python3.9/site-packages/IPython/core/interactiveshell.py:3460: LatexWarning: Multiple tex files.\n",
      "\n",
      "  exec(code_obj, self.user_global_ns, self.user_ns)\n",
      "/opt/hostedtoolcache/Python/3.9.16/x64/lib/python3.9/site-packages/IPython/core/interactiveshell.py:3460: LatexWarning: Found documentclass in tmp_2302.14155/new_z_7_3_quiescent_galaxy.tex\n",
      "\n",
      "  exec(code_obj, self.user_global_ns, self.user_ns)\n",
      "/opt/hostedtoolcache/Python/3.9.16/x64/lib/python3.9/site-packages/arxiv_on_deck_2/latex.py:312: LatexWarning: Latex injecting: 'authors.tex' from 'tmp_2302.14155/authors.tex'\n",
      "  warnings.warn(LatexWarning(f\"Latex injecting: '{ext}' from '{subsource}'\"))\n",
      "/opt/hostedtoolcache/Python/3.9.16/x64/lib/python3.9/site-packages/arxiv_on_deck_2/latex.py:312: LatexWarning: Latex injecting: 'bibliography/journal_abbrev.tex' from 'tmp_2302.14155/bibliography/journal_abbrev.tex'\n",
      "  warnings.warn(LatexWarning(f\"Latex injecting: '{ext}' from '{subsource}'\"))\n"
     ]
    },
    {
     "name": "stderr",
     "output_type": "stream",
     "text": [
      "/tmp/ipykernel_1998/4289671964.py:41: LatexWarning: 2302.14155 did not run properly\n",
      "expected string or bytes-like object\n",
      "  warnings.warn(latex.LatexWarning(f\"{paper_id:s} did not run properly\\n\" +\n"
     ]
    },
    {
     "name": "stdout",
     "output_type": "stream",
     "text": [
      "Retrieving document from  https://arxiv.org/e-print/2302.14185\n"
     ]
    },
    {
     "name": "stdout",
     "output_type": "stream",
     "text": [
      "extracting tarball to tmp_2302.14185..."
     ]
    },
    {
     "name": "stdout",
     "output_type": "stream",
     "text": [
      " done.\n",
      "Retrieving document from  https://arxiv.org/e-print/2302.14459\n"
     ]
    },
    {
     "name": "stdout",
     "output_type": "stream",
     "text": [
      "extracting tarball to tmp_2302.14459..."
     ]
    },
    {
     "name": "stdout",
     "output_type": "stream",
     "text": [
      " done.\n",
      "Retrieving document from  https://arxiv.org/e-print/2302.14749\n"
     ]
    },
    {
     "name": "stdout",
     "output_type": "stream",
     "text": [
      "extracting tarball to tmp_2302.14749... done.\n",
      "Retrieving document from  https://arxiv.org/e-print/2302.14782\n"
     ]
    },
    {
     "name": "stderr",
     "output_type": "stream",
     "text": [
      "/opt/hostedtoolcache/Python/3.9.16/x64/lib/python3.9/site-packages/IPython/core/interactiveshell.py:3460: LatexWarning: Multiple tex files.\n",
      "\n",
      "  exec(code_obj, self.user_global_ns, self.user_ns)\n",
      "/opt/hostedtoolcache/Python/3.9.16/x64/lib/python3.9/site-packages/IPython/core/interactiveshell.py:3460: LatexWarning: Found documentclass in tmp_2302.14749/rnaas.tex\n",
      "\n",
      "  exec(code_obj, self.user_global_ns, self.user_ns)\n",
      "/opt/hostedtoolcache/Python/3.9.16/x64/lib/python3.9/site-packages/arxiv_on_deck_2/latex.py:312: LatexWarning: Latex injecting: 'authors.tex' from 'tmp_2302.14749/authors.tex'\n",
      "  warnings.warn(LatexWarning(f\"Latex injecting: '{ext}' from '{subsource}'\"))\n",
      "/opt/hostedtoolcache/Python/3.9.16/x64/lib/python3.9/site-packages/arxiv_on_deck_2/latex.py:312: LatexWarning: Latex injecting: 'authors.tex' from 'tmp_2302.14749/authors.tex'\n",
      "  warnings.warn(LatexWarning(f\"Latex injecting: '{ext}' from '{subsource}'\"))\n",
      "/opt/hostedtoolcache/Python/3.9.16/x64/lib/python3.9/site-packages/arxiv_on_deck_2/latex.py:312: LatexWarning: Latex injecting: 'authors' from 'tmp_2302.14749/authors.tex'\n",
      "  warnings.warn(LatexWarning(f\"Latex injecting: '{ext}' from '{subsource}'\"))\n"
     ]
    },
    {
     "name": "stdout",
     "output_type": "stream",
     "text": [
      "extracting tarball to tmp_2302.14782..."
     ]
    },
    {
     "name": "stdout",
     "output_type": "stream",
     "text": [
      " done.\n",
      "Retrieving document from  https://arxiv.org/e-print/2302.14783\n"
     ]
    },
    {
     "name": "stdout",
     "output_type": "stream",
     "text": [
      "extracting tarball to tmp_2302.14783..."
     ]
    },
    {
     "name": "stdout",
     "output_type": "stream",
     "text": [
      " done.\n",
      "Retrieving document from  https://arxiv.org/e-print/2302.14788\n"
     ]
    },
    {
     "name": "stdout",
     "output_type": "stream",
     "text": [
      "extracting tarball to tmp_2302.14788..."
     ]
    },
    {
     "name": "stdout",
     "output_type": "stream",
     "text": [
      " done.\n",
      "Retrieving document from  https://arxiv.org/e-print/2302.14800\n"
     ]
    },
    {
     "name": "stdout",
     "output_type": "stream",
     "text": [
      "extracting tarball to tmp_2302.14800..."
     ]
    },
    {
     "name": "stdout",
     "output_type": "stream",
     "text": [
      " done.\n"
     ]
    }
   ],
   "source": [
    "documents = []\n",
    "failed = []\n",
    "for paper in tqdm(candidates[:-1]):\n",
    "    paper_id = paper['identifier'].lower().replace('arxiv:', '')\n",
    "    \n",
    "    folder = f'tmp_{paper_id}'\n",
    "\n",
    "    try:\n",
    "        if not os.path.isdir(folder):\n",
    "            folder = retrieve_document_source(f\"{paper_id}\", f'tmp_{paper_id}')\n",
    "        \n",
    "        try:\n",
    "            doc = latex.LatexDocument(folder, validation=validation)    \n",
    "        except AffiliationError as affilerror:\n",
    "            msg = f\"ArXiv:{paper_id:s} is not an MPIA paper... \" + str(affilerror)\n",
    "            failed.append((paper, \"affiliation error: \" + str(affilerror) ))\n",
    "            continue\n",
    "        \n",
    "        # Hack because sometimes author parsing does not work well\n",
    "        if (len(doc.authors) != len(paper['authors'])):\n",
    "            doc._authors = paper['authors']\n",
    "        if (doc.abstract) in (None, ''):\n",
    "            doc._abstract = paper['abstract']\n",
    "            \n",
    "        doc.comment = (get_markdown_badge(paper_id) + \n",
    "                       \"<mark>Appeared on: \" + paper['date'] + \"</mark> - \" +\n",
    "                       \"_\" + paper['comments'] + \"_\")\n",
    "        doc.highlight_authors_in_list(hl_list)\n",
    "\n",
    "        full_md = doc.generate_markdown_text()\n",
    "        \n",
    "        # replace citations\n",
    "        try:\n",
    "            bibdata = latex_bib.LatexBib.from_doc(doc)\n",
    "            full_md = latex_bib.replace_citations(full_md, bibdata)\n",
    "        except Exception as e:\n",
    "            print(e)\n",
    "        \n",
    "        documents.append((paper_id, full_md))\n",
    "    except Exception as e:\n",
    "        warnings.warn(latex.LatexWarning(f\"{paper_id:s} did not run properly\\n\" +\n",
    "                                         str(e)\n",
    "                                        ))\n",
    "        failed.append((paper, \"latex error \" + str(e)))"
   ]
  },
  {
   "cell_type": "markdown",
   "id": "2505a25c",
   "metadata": {
    "papermill": {
     "duration": 0.005322,
     "end_time": "2023-03-01T04:09:41.654237",
     "exception": false,
     "start_time": "2023-03-01T04:09:41.648915",
     "status": "completed"
    },
    "tags": []
   },
   "source": [
    "### Export the logs\n",
    "\n",
    "Throughout, we also keep track of the logs per paper. see `logs-{today date}.md` "
   ]
  },
  {
   "cell_type": "code",
   "execution_count": 6,
   "id": "d733828a",
   "metadata": {
    "execution": {
     "iopub.execute_input": "2023-03-01T04:09:41.665766Z",
     "iopub.status.busy": "2023-03-01T04:09:41.665250Z",
     "iopub.status.idle": "2023-03-01T04:09:41.689562Z",
     "shell.execute_reply": "2023-03-01T04:09:41.688911Z"
    },
    "papermill": {
     "duration": 0.031934,
     "end_time": "2023-03-01T04:09:41.691098",
     "exception": false,
     "start_time": "2023-03-01T04:09:41.659164",
     "status": "completed"
    },
    "scrolled": false,
    "tags": []
   },
   "outputs": [
    {
     "data": {
      "text/markdown": [
       "## Successful papers"
      ],
      "text/plain": [
       "<IPython.core.display.Markdown object>"
      ]
     },
     "metadata": {},
     "output_type": "display_data"
    },
    {
     "data": {
      "text/markdown": [
       "\n",
       "|||\n",
       "|---:|:---|\n",
       "| [![arXiv](https://img.shields.io/badge/arXiv-arXiv:2302.14137-b31b1b.svg)](https://arxiv.org/abs/arXiv:2302.14137) | **Detailed Analysis of the TeV γ-Ray Sources 3HWC J1928+178, 3HWC  J1930+188, and the New Source HAWC J1932+192**  |\n",
       "|| A. Albert, et al. -- incl., <mark>W. H. Lee</mark> |\n",
       "|*Appeared on*| *2023-03-01*|\n",
       "|*Comments*| **|\n",
       "|**Abstract**| The latest High Altitude Water Cherenkov (HAWC) point-like source catalog up to 56 TeV reported the detection of two sources in the region of the Galactic plane at galactic longitude 52\\deg < l < 55\\deg, 3HWC J1930+188 and 3HWC J1928+178. The first one is associated with a known TeV source, the supernova remnant SNR G054.1+00.3. It was discovered by one of the currently operating Imaging Atmospheric Cherenkov Telescope (IACT), the Very Energetic Radiation Imaging Telescope Array System (VERITAS), detected by the High Energy Stereoscopic System (H.E.S.S.), and identified as a composite SNR. However, the source 3HWC J1928+178, discovered by HAWC and coincident with the pulsar PSR J1928+1746, was not detected by any IACT despite their long exposure on the region, until a recent new analysis of H.E.S.S. data was able to confirm it. Moreover, no X-ray counterpart has been detected from this pulsar. We present a multicomponent fit of this region using the latest HAWC data. This reveals an additional new source, HAWC J1932+192, which is potentially associated with the pulsar PSR J1932+1916, whose gamma-ray emission could come from the acceleration of particles in its pulsar wind nebula. In the case of 3HWC J1928+178, several possible explanations are explored, in a attempt to unveil the origins of the very-high-energy gamma-ray emission. |"
      ],
      "text/plain": [
       "[arXiv:2302.14137] Detailed Analysis of the TeV γ-Ray Sources 3HWC J1928+178, 3HWC  J1930+188, and the New Source HAWC J1932+192\n",
       "\tA. Albert, et al. -- incl., <mark>W. H. Lee</mark>"
      ]
     },
     "metadata": {},
     "output_type": "display_data"
    },
    {
     "data": {
      "text/markdown": [
       "## Failed papers"
      ],
      "text/plain": [
       "<IPython.core.display.Markdown object>"
      ]
     },
     "metadata": {},
     "output_type": "display_data"
    },
    {
     "data": {
      "text/markdown": [
       "\n",
       "|||\n",
       "|---:|:---|\n",
       "| [![arXiv](https://img.shields.io/badge/arXiv-arXiv:2302.14108-b31b1b.svg)](https://arxiv.org/abs/arXiv:2302.14108) | **Beyond Ultra-Diffuse Galaxies II: Environmental Quenching of Mass-Size  Outliers Among the Satellites of Milky Way Analogs**  |\n",
       "|| <mark>Jiaxuan Li</mark>, et al. |\n",
       "|*Appeared on*| *2023-03-01*|\n",
       "|*Comments*| *13 pages, 6 figures, submitted to ApJ. Key results are shown in Figures 4-6*|\n",
       "|**Abstract**| Recent observations have reignited interest in a population of dwarf galaxies that are large and diffuse for their mass, often called ultra-diffuse galaxies. However, the origin and evolution of these mass-size outliers and the role of environment are still unclear. Using the exquisitely deep and wide Hyper Suprime-Cam Strategic Survey images, we search for ultra-puffy galaxies, defined as being $1.5\\sigma$ larger than the average size for their mass, around Milky-Way--like galaxies. We present the size and radial distributions of mass-size outliers, and derive their quenched fraction to explore the impact of environment. Surprisingly, despite being outliers in size, the ultra-puffy galaxies have a similar quenched fraction as normal-sized satellites of Milky Way analogs in both observations and simulations, suggesting that quenching is not tied to being a mass-size outlier. The quenched fraction is higher for the ultra-puffy galaxies associated with redder hosts as well as those that are closer to the host in projection. In contrast, the ultra-diffuse galaxies are overall redder and more quiescent compared with normal satellites. We show that the classic definition of ultra-diffuse galaxies is heavily weighted towards quenched galaxies and thus cannot be used for a study of quenching of mass-size outliers. |\n",
       "|<p style=\"color:green\"> **ERROR** </p>| <p style=\"color:green\">affiliation error: mpia.affiliation_verifications: 'Heidelberg' keyword not found.</p> |"
      ],
      "text/plain": [
       "<IPython.core.display.Markdown object>"
      ]
     },
     "metadata": {},
     "output_type": "display_data"
    },
    {
     "data": {
      "text/markdown": [
       "\n",
       "|||\n",
       "|---:|:---|\n",
       "| [![arXiv](https://img.shields.io/badge/arXiv-arXiv:2302.14185-b31b1b.svg)](https://arxiv.org/abs/arXiv:2302.14185) | **Low-Frequency Radio Recombination Lines Away From the Inner Galactic  Plane**  |\n",
       "|| Akshatha K. Vydula, et al. -- incl., <mark>David Lewis</mark> |\n",
       "|*Appeared on*| *2023-03-01*|\n",
       "|*Comments*| *23 pages, 13 figures, 2 tables, submitted to AAS*|\n",
       "|**Abstract**| Diffuse radio recombination lines (RRLs) in the Galaxy are possible foregrounds for redshifted 21~cm experiments. We use EDGES drift scans centered at $-26.7^{\\circ}$~declination to characterize diffuse RRLs across the southern sky. We find RRLs averaged over the large antenna beam ($72^{\\circ} \\times 110^{\\circ}$) reach minimum amplitudes between right ascensions~2-6~h. In this region, the C$\\alpha$ absorption amplitude is $33\\pm11$~mK (1$\\sigma$) averaged over 50-87~MHz ($27\\gtrsim z \\gtrsim15$ for the 21~cm line) and increases strongly as frequency decreases. C$\\beta$ and H$\\alpha$ lines are consistent with no detection with amplitudes of $13\\pm14$ and $12\\pm10$~mK (1$\\sigma$), respectively. For 108-124.5~MHz ($z\\approx11$), we find no evidence for hydrogen or carbon lines at the noise level of 3.4~mK (1$\\sigma$). Conservatively assuming observed lines come broadly from the diffuse interstellar medium, as opposed to a few specific regions, these amplitudes provide upper limits on the intrinsic diffuse lines. The observations support expectations that Galactic RRLs can be neglected as significant foregrounds for a large region of sky until redshifted 21~cm experiments, particularly those targeting Cosmic Dawn, move beyond the detection phase. For C$\\alpha$, we find a best-fit departure coefficient product, $b_n \\beta_n$, that varies smoothly as a function of frequency between $0.79<b_n\\beta_n<4.5$ along the inner Galactic Plane and between $0<b_n\\beta_n<2.3$ away from the inner Galactic Plane, yields better agreement between model and data than assuming local thermodynamic equilibrium conditions. |\n",
       "|<p style=\"color:green\"> **ERROR** </p>| <p style=\"color:green\">affiliation error: mpia.affiliation_verifications: 'Heidelberg' keyword not found.</p> |"
      ],
      "text/plain": [
       "<IPython.core.display.Markdown object>"
      ]
     },
     "metadata": {},
     "output_type": "display_data"
    },
    {
     "data": {
      "text/markdown": [
       "\n",
       "|||\n",
       "|---:|:---|\n",
       "| [![arXiv](https://img.shields.io/badge/arXiv-arXiv:2302.14459-b31b1b.svg)](https://arxiv.org/abs/arXiv:2302.14459) | **Five-year in-orbit background of Insight-HXMT**  |\n",
       "|| Jin-Yuan Liao, et al. -- incl., <mark>Shu Zhang</mark>, <mark>Juan Zhang</mark>, <mark>Gang Li</mark>, <mark>Xiao-Bo Li</mark>, <mark>Xu-Fang Li</mark>, <mark>Zheng-Wei Li</mark>, <mark>Yi-Fei Zhang</mark>, <mark>Hai-Sheng Zhao</mark>, <mark>Li-Ming Song</mark>, <mark>Shuang-Nan Zhang</mark> |\n",
       "|*Appeared on*| *2023-03-01*|\n",
       "|*Comments*| *22 pages, 25 figures, accepted for publication in RDTM*|\n",
       "|**Abstract**| Purpose: We present the five-year in-orbit background evolution of Insight-HXMT since the launch, as well as the effects of the background model in data analysis. Methods: The backgrounds of the three main payloads, i.e., Low-Energy Telescope, Medium-Energy Telescope and High-Energy Telescope, are described, respectively. The evolution of the background over time is obtained by simply comparing the background in every year during the in-orbit operation of Insight-HXMT. Results: The major observational characteristics of the Insight-HXMT in-orbit background are presented, including the light curve, spectrum, geographical distribution, and long-term evolution. The systematic error in background estimation is investigated for every year. Conclusion: The observational characteristics of the five-year in-orbit background are consistent with our knowledge of the satellite design and the space environment, and the background model is still valid for the latest observations of Insight-HXMT. |\n",
       "|<p style=\"color:green\"> **ERROR** </p>| <p style=\"color:green\">affiliation error: mpia.affiliation_verifications: 'Heidelberg' keyword not found.</p> |"
      ],
      "text/plain": [
       "<IPython.core.display.Markdown object>"
      ]
     },
     "metadata": {},
     "output_type": "display_data"
    },
    {
     "data": {
      "text/markdown": [
       "\n",
       "|||\n",
       "|---:|:---|\n",
       "| [![arXiv](https://img.shields.io/badge/arXiv-arXiv:2302.14749-b31b1b.svg)](https://arxiv.org/abs/arXiv:2302.14749) | **Simultaneous Millimeter-wave, Gamma-ray, and Optical Monitoring of the  Blazar PKS 2326-502 During a Flaring State**  |\n",
       "|| J. C. Hood II, et al. -- incl., <mark>A. T. Lee</mark>, <mark>D. Li</mark>, <mark>S. S. Meyer</mark> |\n",
       "|*Appeared on*| *2023-03-01*|\n",
       "|*Comments*| *9 pages, 3 figures, accepted to Astrophysical Journal Letters*|\n",
       "|**Abstract**| Including millimeter-wave (mm-wave) data in multi-wavelength studies of the variability of active galactic nuclei (AGN) can provide insights into AGN physics that are not easily accessible at other wavelengths. We demonstrate in this work the potential of cosmic microwave background (CMB) telescopes to provide long-term, high-cadence mm-wave AGN monitoring over large fractions of sky. We report on a pilot study using data from the SPTpol instrument on the South Pole Telescope (SPT), which was designed to observe the CMB at arcminute and larger angular scales. Between 2013 and 2016, SPTpol was used primarily to observe a single 500 deg^2 field, covering the entire field several times per day with detectors sensitive to radiation in bands centered at 95 and 150 GHz. We use SPT 150 GHz observations to create AGN light curves, and we compare these mm-wave light curves to those at other wavelengths, in particular gamma-ray and optical. In this Letter, we focus on a single source, PKS 2326-502, which has extensive, day-timescale monitoring data in gamma-ray, optical, and now mm-wave between 2013 and 2016. We find PKS 2326-502 to be in a flaring state in the first two years of this monitoring, and we present a search for evidence of correlated variability between mm-wave, optical R band, and gamma-ray observations. This pilot study is paving the way for AGN monitoring with current and upcoming CMB experiments such as SPT-3G, Simons Observatory, and CMB-S4, including multi-wavelength studies with facilities such as VRO-LSST. |\n",
       "|<p style=\"color:green\"> **ERROR** </p>| <p style=\"color:green\">affiliation error: mpia.affiliation_verifications: 'Heidelberg' keyword not found.</p> |"
      ],
      "text/plain": [
       "<IPython.core.display.Markdown object>"
      ]
     },
     "metadata": {},
     "output_type": "display_data"
    },
    {
     "data": {
      "text/markdown": [
       "\n",
       "|||\n",
       "|---:|:---|\n",
       "| [![arXiv](https://img.shields.io/badge/arXiv-arXiv:2302.14782-b31b1b.svg)](https://arxiv.org/abs/arXiv:2302.14782) | **Deep Synoptic Array science: A massive elliptical host among two  galaxy-cluster fast radio bursts**  |\n",
       "|| <mark>Kritti Sharma</mark>, et al. |\n",
       "|*Appeared on*| *2023-03-01*|\n",
       "|*Comments*| *18 pages, 9 figures*|\n",
       "|**Abstract**| The stellar population environments associated with fast radio burst (FRB) sources provide important insights for developing their progenitor theories. We expand the diversity of known FRB host environments by reporting two FRBs in massive galaxy clusters discovered by the Deep Synoptic Array (DSA-110) during its commissioning observations. FRB 20220914A has been localized to a star-forming, late-type galaxy at a redshift of 0.1139 with multiple starbursts at lookback times less than $\\sim$3.5 Gyr in the Abell 2310 galaxy cluster. Although the host galaxy of FRB 20220914A is similar to typical FRB hosts, the FRB 20220509G host stands out as a quiescent, early-type galaxy at a redshift of 0.0894 in the Abell 2311 galaxy cluster. The discovery of FRBs in both late and early-type galaxies adds to the body of evidence that the FRB sources have multiple formation channels. Therefore, even though FRB hosts are typically star-forming, there must exist formation channels consistent with old stellar population in galaxies. The varied star formation histories of the two FRB hosts we report indicate a wide delay-time distribution of FRB progenitors. Future work in constraining the FRB delay-time distribution, using methods we develop herein, will prove crucial in determining the evolutionary histories of FRB sources. |\n",
       "|<p style=\"color:green\"> **ERROR** </p>| <p style=\"color:green\">affiliation error: mpia.affiliation_verifications: 'Heidelberg' keyword not found.</p> |"
      ],
      "text/plain": [
       "<IPython.core.display.Markdown object>"
      ]
     },
     "metadata": {},
     "output_type": "display_data"
    },
    {
     "data": {
      "text/markdown": [
       "\n",
       "|||\n",
       "|---:|:---|\n",
       "| [![arXiv](https://img.shields.io/badge/arXiv-arXiv:2302.14783-b31b1b.svg)](https://arxiv.org/abs/arXiv:2302.14783) | **Probing the rapid formation of black holes and their galaxy hosts in  QSOs**  |\n",
       "|| Karla Alejandra Cutiva-Alvarez, Roger Coziol, <mark>Juan Pablo Torres-Papaqui</mark> |\n",
       "|*Appeared on*| *2023-03-01*|\n",
       "|*Comments*| *Accepted in MNRAS 2023 February 28. Received 2023 February 28; in original form 2022 July 09*|\n",
       "|**Abstract**| Using the modelling code X-CIGALE, we reproduced the SEDs of 1,359 SDSS QSOs within the redshift range 0 < z < 4, for which we have NIR/MIR fluxes with the highest quality and spectral data characterizing their SMBHs. Consistent with a rapid formation of the host galaxies, the star formation histories (SFHs) have small e-folding, at most 750 Myrs using an SFH function for Spiral or 1000 Myrs using one for Elliptical. Above z \\sim 1.6, the two solutions are degenerate, the SEDs being dominated by the AGN continuum and high star formation rates (SFRs), typical of starburst galaxies, while at lower redshifts the starburst nature of the host, independent from its morphology, is better reproduced by an Spiral SFH. In general, the SFR increases with the redshift, the mass of the bulge, the AGN luminosity and Eddington ratio, suggesting there is no evidence of AGN quenching of star formation. Comparing the specific BHAR with specific SFR, all the QSOs at any redshift trace a linear sequence below the Eddington luminosity, in parallel and above the one-to-one relation, implying that QSOs are in a special phase of evolution during which the growth in mass of their SMBH is more rapid than the growth in mass of their galaxy hosts. This particular phase is consistent with a scenario where the galaxy hosts of QSOs in the past grew in mass more rapidly than their SMBHs, suggesting that a high star formation efficiency during their formation was responsible in limiting their masses |\n",
       "|<p style=\"color:green\"> **ERROR** </p>| <p style=\"color:green\">affiliation error: mpia.affiliation_verifications: 'Heidelberg' keyword not found.</p> |"
      ],
      "text/plain": [
       "<IPython.core.display.Markdown object>"
      ]
     },
     "metadata": {},
     "output_type": "display_data"
    },
    {
     "data": {
      "text/markdown": [
       "\n",
       "|||\n",
       "|---:|:---|\n",
       "| [![arXiv](https://img.shields.io/badge/arXiv-arXiv:2302.14788-b31b1b.svg)](https://arxiv.org/abs/arXiv:2302.14788) | **Deep Synoptic Array science: Two fast radio burst sources in massive  galaxy clusters**  |\n",
       "|| Liam Connor, et al. -- incl., <mark>Kritti Sharma</mark> |\n",
       "|*Appeared on*| *2023-03-01*|\n",
       "|*Comments*| **|\n",
       "|**Abstract**| The hot gas that constitutes the intracluster medium (ICM) has been studied at X-ray and millimeter/sub-millimeter wavelengths (Sunyaev-Zeldovich effect) for decades. Fast radio bursts (FRBs) offer an additional method of directly measuring the ICM and gas surrounding clusters, via observables such as dispersion measure (DM) and Faraday rotation measure (RM). We report the discovery of two FRB sources detected with the Deep Synoptic Array (DSA-110) whose host galaxies belong to massive galaxy clusters. In both cases, the FRBs exhibit excess extragalactic DM, some of which likely originates in the ICM of their respective clusters. FRB 20220914A resides in the galaxy cluster Abell 2310 at z=0.1125 with a projected offset from the cluster center of 520 kpc. The host of a second source, FRB 20220509G, is an elliptical galaxy at z=0.0894 that belongs to the galaxy cluster Abell 2311 at projected offset of 870 kpc. These sources represent the first time an FRB has been localized to a galaxy cluster. We combine our FRB data with archival X-ray, SZ, and optical observations of these clusters in order to infer properties of the ICM, including a measurement of gas temperature from DM and ySZ of 0.8-3.9 keV. We then compare our results to massive cluster halos from the IllustrisTNG simulation. Finally, we describe how large samples of localized FRBs from future surveys will constrain the ICM, particularly beyond the virial radius of clusters. |\n",
       "|<p style=\"color:green\"> **ERROR** </p>| <p style=\"color:green\">affiliation error: mpia.affiliation_verifications: 'Heidelberg' keyword not found.</p> |"
      ],
      "text/plain": [
       "<IPython.core.display.Markdown object>"
      ]
     },
     "metadata": {},
     "output_type": "display_data"
    },
    {
     "data": {
      "text/markdown": [
       "\n",
       "|||\n",
       "|---:|:---|\n",
       "| [![arXiv](https://img.shields.io/badge/arXiv-arXiv:2302.14800-b31b1b.svg)](https://arxiv.org/abs/arXiv:2302.14800) | **The JCMT Nearby Galaxies Legacy Survey: SCUBA-2 observations of nearby  galaxies**  |\n",
       "|| Kate Pattle, <mark>Walter Gear</mark>, Christine D. Wilson |\n",
       "|*Appeared on*| *2023-03-01*|\n",
       "|*Comments*| *Accepted for publication in MNRAS. 15 pages, 12 figures, 8 tables (plus 15 pages of appendices, with 31 figures)*|\n",
       "|**Abstract**| We present 850$\\mu$m observations of a sample of 8 nearby spiral galaxies, made using the SCUBA-2 camera on the James Clerk Maxwell Telescope (JCMT) as part of the JCMT Nearby Galaxies Legacy Survey (NGLS). We corrected our data for the presence of the $^{12}$CO $J=3\\to 2$ line in the SCUBA-2 850$\\mu$m bandwidth using NGLS HARP data, finding a typical $^{12}$CO contribution of $\\sim 20$%. We measured dust column densities, temperatures and opacity indices by fitting spectral energy distributions constructed from SCUBA-2 and archival Herschel observations, and used archival GALEX and Spitzer data to make maps of surface density of star formation ($\\Sigma_{\\rm SFR}$). Typically, comparing SCUBA-2-derived H$_2$ surface densities ($\\Sigma_{\\rm H_2}$) to $\\Sigma_{\\rm SFR}$ gives shallow star formation law indices within galaxies, with SCUBA-2-derived values typically being sublinear and Herschel-derived values typically being broadly linear. This difference is likely due to the effects of atmospheric filtering on the SCUBA-2 data. Comparing the mean values of $\\Sigma_{\\rm H_2}$ and $\\Sigma_{\\rm SFR}$ of the galaxies in our sample returns a steeper star formation law index, broadly consistent with both the Kennicutt-Schmidt value of 1.4 and linearity. Our results show that a SCUBA-2 detection is a good predictor of star formation. We suggest that Herschel emission traces gas in regions which will form stars on timescales $\\sim 5-100$ Myr, comparable to the star formation timescale traced by GALEX and Spitzer data, while SCUBA-2 preferentially traces the densest gas within these regions, which likely forms stars on shorter timescales. |\n",
       "|<p style=\"color:green\"> **ERROR** </p>| <p style=\"color:green\">affiliation error: mpia.affiliation_verifications: 'Heidelberg' keyword not found.</p> |"
      ],
      "text/plain": [
       "<IPython.core.display.Markdown object>"
      ]
     },
     "metadata": {},
     "output_type": "display_data"
    },
    {
     "data": {
      "text/markdown": [
       "\n",
       "|||\n",
       "|---:|:---|\n",
       "| [![arXiv](https://img.shields.io/badge/arXiv-arXiv:2302.14155-b31b1b.svg)](https://arxiv.org/abs/arXiv:2302.14155) | **Discovery of a quiescent galaxy at z=7.3**  |\n",
       "|| Tobias J. Looser, et al. -- incl., <mark>Anna de Graaff</mark>, <mark>Hans-Walter Rix</mark> |\n",
       "|*Appeared on*| *2023-03-01*|\n",
       "|*Comments*| **|\n",
       "|**Abstract**| Local galaxies are known to broadly follow a bimodal distribution: actively star forming and quiescent system (i.e. galaxies with no or negligible star formation activity at the epoch of observation). Why, when and how such bimodality was established, and whether it has been associated with different processes at different cosmic epochs, is still a key open question in extragalactic astrophysics. Directly observing early quiescent galaxies in the primordial Universe is therefore of utmost importance to constraining models of galaxy formation and transformation. Early quiescent galaxies have been identified out to redshift $z < 5$, and these are all found to be massive ($M_{*}>10^{10}~M_{\\odot}$). Here we report the discovery of a quiescent galaxy at z$=$7.3, when the Universe was only 700 Myr old - about 5% of its current age. The JWST/NIRSpec spectrum of this galaxy from our JADES programme exhibits a complete absence of nebular emission lines, while the Balmer break and Ly$\\alpha$ drop are unambiguously detected. We infer that this galaxy experienced a short and intense burst of star formation followed by rapid quenching, about 10-20 Myr before the epoch of observation. Particularly interesting is that the mass of this quiescent galaxy is only $\\sim$4-6$\\times 10^8~M_{\\odot}$. This mass range is sensitive to various feedback mechanisms that can result in temporary or permanent quiescence. Therefore this galaxy represents a unique opportunity to learn more about galaxy formation and transformation in the early Universe. |\n",
       "|<p style=\"color:red\"> **ERROR** </p>| <p style=\"color:red\">latex error expected string or bytes-like object</p> |"
      ],
      "text/plain": [
       "<IPython.core.display.Markdown object>"
      ]
     },
     "metadata": {},
     "output_type": "display_data"
    }
   ],
   "source": [
    "import datetime\n",
    "today = str(datetime.date.today())\n",
    "logfile = f\"_build/html/logs/log-{today}.md\"\n",
    "\n",
    "\n",
    "with open(logfile, 'w') as logs:\n",
    "    # Success\n",
    "    logs.write(f'# Arxiv on Deck 2: Logs - {today}\\n\\n')\n",
    "    logs.write(\"\"\"* Arxiv had {0:,d} new papers\\n\"\"\".format(len(new_papers)))\n",
    "    logs.write(\"\"\"    * {0:,d} with possible author matches\\n\\n\"\"\".format(len(candidates)))\n",
    "    logs.write(\"## Sucessful papers\\n\\n\")\n",
    "    display(Markdown(\"## Successful papers\"))\n",
    "    success = [k[0] for k in documents]\n",
    "    for candid in candidates:\n",
    "        if candid['identifier'].split(':')[-1] in success:\n",
    "            display(candid)\n",
    "            logs.write(candid.generate_markdown_text() + '\\n\\n')\n",
    "\n",
    "    ## failed\n",
    "    logs.write(\"## Failed papers\\n\\n\")\n",
    "    display(Markdown(\"## Failed papers\"))\n",
    "    failed = sorted(failed, key=lambda x: x[1])\n",
    "    current_reason = \"\"\n",
    "    for paper, reason in failed:\n",
    "        if 'affiliation' in reason:\n",
    "            color = 'green'\n",
    "        else:\n",
    "            color = 'red'\n",
    "        data = Markdown(\n",
    "                paper.generate_markdown_text() + \n",
    "                f'\\n|<p style=\"color:{color:s}\"> **ERROR** </p>| <p style=\"color:{color:s}\">{reason:s}</p> |'\n",
    "               )\n",
    "        if reason != current_reason:\n",
    "            logs.write(f'### {reason:s} \\n\\n')\n",
    "            current_reason = reason\n",
    "        logs.write(data.data + '\\n\\n')\n",
    "        \n",
    "        # only display here the important errors (all in logs)\n",
    "        # if color in ('red',):\n",
    "        display(data)"
   ]
  },
  {
   "cell_type": "markdown",
   "id": "472d20ee",
   "metadata": {
    "papermill": {
     "duration": 0.006443,
     "end_time": "2023-03-01T04:09:41.704117",
     "exception": false,
     "start_time": "2023-03-01T04:09:41.697674",
     "status": "completed"
    },
    "tags": []
   },
   "source": [
    "## Export documents\n",
    "\n",
    "We now write the .md files and export relevant images"
   ]
  },
  {
   "cell_type": "code",
   "execution_count": 7,
   "id": "d426aed9",
   "metadata": {
    "execution": {
     "iopub.execute_input": "2023-03-01T04:09:41.718560Z",
     "iopub.status.busy": "2023-03-01T04:09:41.718043Z",
     "iopub.status.idle": "2023-03-01T04:09:41.726276Z",
     "shell.execute_reply": "2023-03-01T04:09:41.725565Z"
    },
    "papermill": {
     "duration": 0.017328,
     "end_time": "2023-03-01T04:09:41.727844",
     "exception": false,
     "start_time": "2023-03-01T04:09:41.710516",
     "status": "completed"
    },
    "tags": []
   },
   "outputs": [],
   "source": [
    "def export_markdown_summary(md: str, md_fname:str, directory: str):\n",
    "    \"\"\"Export MD document and associated relevant images\"\"\"\n",
    "    import os\n",
    "    import shutil\n",
    "    import re\n",
    "\n",
    "    if (os.path.exists(directory) and not os.path.isdir(directory)):\n",
    "        raise RuntimeError(f\"a non-directory file exists with name {directory:s}\")\n",
    "\n",
    "    if (not os.path.exists(directory)):\n",
    "        print(f\"creating directory {directory:s}\")\n",
    "        os.mkdir(directory)\n",
    "\n",
    "    fig_fnames = (re.compile(r'\\[Fig.*\\]\\((.*)\\)').findall(md) + \n",
    "                  re.compile(r'\\<img src=\"([^>\\s]*)\"[^>]*/>').findall(md))\n",
    "    for fname in fig_fnames:\n",
    "        if 'http' in fname:\n",
    "            # No need to copy online figures\n",
    "            continue\n",
    "        destdir = os.path.join(directory, os.path.dirname(fname))\n",
    "        destfname = os.path.join(destdir, os.path.basename(fname))\n",
    "        try:\n",
    "            os.makedirs(destdir)\n",
    "        except FileExistsError:\n",
    "            pass\n",
    "        shutil.copy(fname, destfname)\n",
    "    with open(os.path.join(directory, md_fname), 'w') as fout:\n",
    "        fout.write(md)\n",
    "    print(\"exported in \", os.path.join(directory, md_fname))\n",
    "    [print(\"    + \" + os.path.join(directory,fk)) for fk in fig_fnames]"
   ]
  },
  {
   "cell_type": "code",
   "execution_count": 8,
   "id": "014d04a4",
   "metadata": {
    "execution": {
     "iopub.execute_input": "2023-03-01T04:09:41.742103Z",
     "iopub.status.busy": "2023-03-01T04:09:41.741626Z",
     "iopub.status.idle": "2023-03-01T04:09:41.750928Z",
     "shell.execute_reply": "2023-03-01T04:09:41.750272Z"
    },
    "papermill": {
     "duration": 0.018163,
     "end_time": "2023-03-01T04:09:41.752407",
     "exception": false,
     "start_time": "2023-03-01T04:09:41.734244",
     "status": "completed"
    },
    "tags": []
   },
   "outputs": [
    {
     "name": "stdout",
     "output_type": "stream",
     "text": [
      "exported in  _build/html/2302.14137.md\n",
      "    + _build/html/tmp_2302.14137/./summary_initial.png\n",
      "    + _build/html/tmp_2302.14137/./HAWC_CO_velocity.png\n",
      "    + _build/html/tmp_2302.14137/./Veritas_Chandra_NuSTAR.png\n"
     ]
    }
   ],
   "source": [
    "for paper_id, md in documents:\n",
    "    export_markdown_summary(md, f\"{paper_id:s}.md\", '_build/html/')"
   ]
  },
  {
   "cell_type": "markdown",
   "id": "f087a0a7",
   "metadata": {
    "papermill": {
     "duration": 0.006511,
     "end_time": "2023-03-01T04:09:41.765577",
     "exception": false,
     "start_time": "2023-03-01T04:09:41.759066",
     "status": "completed"
    },
    "tags": []
   },
   "source": [
    "## Display the papers\n",
    "\n",
    "Not necessary but allows for a quick check."
   ]
  },
  {
   "cell_type": "code",
   "execution_count": 9,
   "id": "fd25f625",
   "metadata": {
    "execution": {
     "iopub.execute_input": "2023-03-01T04:09:41.779889Z",
     "iopub.status.busy": "2023-03-01T04:09:41.779427Z",
     "iopub.status.idle": "2023-03-01T04:09:41.784638Z",
     "shell.execute_reply": "2023-03-01T04:09:41.783959Z"
    },
    "papermill": {
     "duration": 0.014087,
     "end_time": "2023-03-01T04:09:41.786156",
     "exception": false,
     "start_time": "2023-03-01T04:09:41.772069",
     "status": "completed"
    },
    "scrolled": false,
    "tags": []
   },
   "outputs": [
    {
     "data": {
      "text/markdown": [
       "<div class=\"macros\" style=\"visibility:hidden;\">\n",
       "$\\newcommand{\\ensuremath}{}$\n",
       "$\\newcommand{\\xspace}{}$\n",
       "$\\newcommand{\\object}[1]{\\texttt{#1}}$\n",
       "$\\newcommand{\\farcs}{{.}''}$\n",
       "$\\newcommand{\\farcm}{{.}'}$\n",
       "$\\newcommand{\\arcsec}{''}$\n",
       "$\\newcommand{\\arcmin}{'}$\n",
       "$\\newcommand{\\ion}[2]{#1#2}$\n",
       "$\\newcommand{\\textsc}[1]{\\textrm{#1}}$\n",
       "$\\newcommand{\\hl}[1]{\\textrm{#1}}$\n",
       "$\\newcommand{\\vdag}{(v)^\\dagger}$\n",
       "$\\newcommand$\n",
       "$\\newcommand$</div>\n",
       "\n",
       "<div class=\"macros\" style=\"visibility:hidden;\">\n",
       "$\\newcommand{\\ensuremath}{}$\n",
       "$\\newcommand{\\xspace}{}$\n",
       "$\\newcommand{\\object}[1]{\\texttt{#1}}$\n",
       "$\\newcommand{\\farcs}{{.}''}$\n",
       "$\\newcommand{\\farcm}{{.}'}$\n",
       "$\\newcommand{\\arcsec}{''}$\n",
       "$\\newcommand{\\arcmin}{'}$\n",
       "$\\newcommand{\\ion}[2]{#1#2}$\n",
       "$\\newcommand{\\textsc}[1]{\\textrm{#1}}$\n",
       "$\\newcommand{\\hl}[1]{\\textrm{#1}}$\n",
       "$\\newcommand{\\vdag}{(v)^\\dagger}$\n",
       "$\\newcommand$\n",
       "$\\newcommand$</div>\n",
       "\n",
       "\n",
       "\n",
       "<div id=\"title\">\n",
       "\n",
       "# Detailed Analysis of the TeV $\\gamma$-Ray Sources 3HWC J1928+178, 3HWC J1930+188, and the New Source HAWC J1932+192\n",
       "\n",
       "</div>\n",
       "<div id=\"comments\">\n",
       "\n",
       "[![arXiv](https://img.shields.io/badge/arXiv-2302.14137-b31b1b.svg)](https://arxiv.org/abs/2302.14137)<mark>Appeared on: 2023-03-01</mark> - __\n",
       "\n",
       "</div>\n",
       "<div id=\"authors\">\n",
       "\n",
       "A. Albert, et al. -- incl., <mark><mark>W. H. Lee</mark></mark>\n",
       "\n",
       "</div>\n",
       "<div id=\"abstract\">\n",
       "\n",
       "**Abstract:** The latest High Altitude Water Cherenkov (HAWC) point-like source catalog up to  56 TeV reported the detection of two sources in the region of the Galactic plane at galactic longitude 52 \\textdegree $< \\ell <$ 55 \\textdegree , 3HWC J1930+188 and 3HWC J1928+178. The first one is associated with a known TeV source, the supernova remnant SNR G054.1+00.3. It was discovered by one of the currently operating Imaging Atmospheric Cherenkov Telescope (IACT), the Very Energetic Radiation Imaging Telescope Array System (VERITAS), detected by the High Energy Stereoscopic System (H.E.S.S.), and identified as a composite SNR.However, the source 3HWC J1928+178, discovered by HAWC and coincident with the pulsar PSR J1928+1746, was not detected by any IACT despite their long exposure on the region, until a recent new analysis of H.E.S.S. data was able to confirm it.Moreover, no X-ray counterpart has been detected from this pulsar.We present a multicomponent fit of this region using the latest HAWC data. This reveals an additional new source, HAWC J1932+192, which is potentially associated with the pulsar PSR J1932+1916, whose $\\gamma$ -ray emission could come from the acceleration of particles in its pulsar wind nebula. In the case of 3HWC J1928+178, several possible explanations are explored, in a attempt to unveil the origins of the very-high-energy $\\gamma$ -ray emission.\n",
       "\n",
       "</div>\n",
       "\n",
       "<div id=\"div_fig1\">\n",
       "\n",
       "<img src=\"tmp_2302.14137/./summary_initial.png\" alt=\"Fig3\" width=\"100%\"/>\n",
       "\n",
       "**Figure 3. -**  The significance map (a) indicates the region of interest (ROI) of radius 3\\textdegree5 (the white circle) and the two components for J1928 and J1930. The blue/green dot and circle show the initial/fitted position and size. The width of the green circle represents the 1$\\sigma$ uncertainty on the size of the Gaussian.\n",
       "    Map (b) is the significance map of the model in the ROI.\n",
       "    Map (c) is the significance map of the residuals in the ROI and the significance distribution in the inner 2\\textdegree  radius region, with a Gaussian fit. The color scale holds for all maps.\n",
       "     (*summary_a*)\n",
       "\n",
       "</div>\n",
       "<div id=\"div_fig2\">\n",
       "\n",
       "<img src=\"tmp_2302.14137/./HAWC_CO_velocity.png\" alt=\"Fig8\" width=\"100%\"/>\n",
       "\n",
       "**Figure 8. -** The HAWC significance map is shown in panel (a). The black circle shows the location and 1$\\sigma$ uncertainty of the HAWC source \\citep{3HWC_catalog}. The black cross is the location of the pulsar PSR J1928+1746. The white box is the region with $>5\\sigma$$\\gamma$-ray emission of 3HWC J1928+178, with the velocity dispersion being averaged and plotted in panel (b) as a function of the brightness temperature. For the three peaks at $\\sim$4.5 km s$^{-1}$, $\\sim$22 km s$^{-1}$ and $\\sim$46 km s$^{-1}$, the $^{13}$CO maps are shown in panel (c). (*HAWC_CO_velocity*)\n",
       "\n",
       "</div>\n",
       "<div id=\"div_fig3\">\n",
       "\n",
       "<img src=\"tmp_2302.14137/./Veritas_Chandra_NuSTAR.png\" alt=\"Fig1\" width=\"100%\"/>\n",
       "\n",
       "**Figure 1. -** Multiwavelength view of the region surrounding 3HWC J1928+177. The middle map is the VERITAS excess map of the region, adapted from \\citet{Veritas_Fermi_2HWCsources}. Superimposed are the locations and the 1$\\sigma$ uncertainties on the locations of the HAWC sources (blue circles) and the Fermi 4FGL sources (green circles), as well as the locations of the pulsars (red crosses). The white contours are HAWC significance contours for 5$\\sigma$, 6$\\sigma$, 7$\\sigma$, 8$\\sigma$, 10$\\sigma$ and 12$\\sigma$ for 1523 days of data.\n",
       "    The top source, 3HWC J1930+188, is detailed in the zoomed-in view on the left-hand side. The locations of the counterparts detected by VERITAS (yellow) and H.E.S.S. (pink) are represented. The extension of the radio emission is also shown (cyan). The dashed white box represents the size of the composite image at the top (3$\\arcmin$ - 0\\textdegree05). It depicts the X-ray emission of the pulsar (the bright white star) and the PWN detected by _Chandra_(blue - NASA/CXC/SAO/T.Temim et al.), as well as the IR emission detected by _Spitzer_(green is 8$\\mu$m and red is 24$\\mu$m - NASA/JPL-Caltech), revealing the dusty remains of a collapsed star. The bottom source 3HWC J1928+178 is detailed in the zoomed-in image on the right-hand side. The dashed black box represents the NuSTAR background-subtracted map shown at the bottom (adapted from \\citet{J1928_dark_accelerator}). The bright source to the bottom right is CXO J192812.0+174712.\n",
       "     (*Veritas_Chandra_NuSTAR*)\n",
       "\n",
       "</div>"
      ],
      "text/plain": [
       "<IPython.core.display.Markdown object>"
      ]
     },
     "metadata": {},
     "output_type": "display_data"
    }
   ],
   "source": [
    "[display(Markdown(k[1])) for k in documents];"
   ]
  },
  {
   "cell_type": "markdown",
   "id": "873873a4",
   "metadata": {
    "papermill": {
     "duration": 0.00682,
     "end_time": "2023-03-01T04:09:41.799897",
     "exception": false,
     "start_time": "2023-03-01T04:09:41.793077",
     "status": "completed"
    },
    "tags": []
   },
   "source": [
    "# Create HTML index"
   ]
  },
  {
   "cell_type": "code",
   "execution_count": 10,
   "id": "cf665672",
   "metadata": {
    "execution": {
     "iopub.execute_input": "2023-03-01T04:09:41.814901Z",
     "iopub.status.busy": "2023-03-01T04:09:41.814410Z",
     "iopub.status.idle": "2023-03-01T04:09:41.826494Z",
     "shell.execute_reply": "2023-03-01T04:09:41.825825Z"
    },
    "papermill": {
     "duration": 0.021352,
     "end_time": "2023-03-01T04:09:41.827986",
     "exception": false,
     "start_time": "2023-03-01T04:09:41.806634",
     "status": "completed"
    },
    "tags": []
   },
   "outputs": [
    {
     "name": "stdout",
     "output_type": "stream",
     "text": [
      "215  publications in the last 7 days.\n",
      "\t _build/html/2302.14137.md\n",
      "\t _build/html/2302.12805.md\n",
      "\t _build/html/2302.10943.md\n",
      "\t _build/html/2302.10528.md\n",
      "\t _build/html/2302.10008.md\n",
      "\t _build/html/2302.08962.md\n",
      "\t _build/html/2302.08628.md\n",
      "\t _build/html/2302.07916.md\n",
      "\t _build/html/2302.07880.md\n",
      "\t _build/html/2302.07497.md\n",
      "\t _build/html/2302.07277.md\n",
      "\t _build/html/2302.07256.md\n",
      "\t _build/html/2302.07234.md\n",
      "\t _build/html/2302.07057.md\n",
      "\t _build/html/2302.05694.md\n",
      "\t _build/html/2302.05465.md\n",
      "\t _build/html/2302.04507.md\n",
      "\t _build/html/2302.04239.md\n",
      "\t _build/html/2302.04138.md\n",
      "\t _build/html/2302.03699.md\n",
      "\t _build/html/2302.03576.md\n",
      "\t _build/html/2302.03042.md\n",
      "\t _build/html/2302.03039.md\n",
      "\t _build/html/2302.02890.md\n",
      "\t _build/html/2302.02611.md\n",
      "\t _build/html/2302.02429.md\n",
      "\t _build/html/2302.01678.md\n",
      "\t _build/html/2302.00450.md\n",
      "\t _build/html/2301.13766.md\n",
      "\t _build/html/2301.13526.md\n",
      "\t _build/html/2301.12890.md\n",
      "\t _build/html/2301.11942.md\n",
      "\t _build/html/2301.10717.md\n",
      "\t _build/html/2301.10666.md\n",
      "\t _build/html/2301.10496.md\n",
      "\t _build/html/2301.09621.md\n",
      "\t _build/html/2301.09140.md\n",
      "\t _build/html/2301.08770.md\n",
      "\t _build/html/2301.08310.md\n",
      "\t _build/html/2301.07990.md\n",
      "\t _build/html/2301.07366.md\n",
      "\t _build/html/2301.07199.md\n",
      "\t _build/html/2301.07116.md\n",
      "\t _build/html/2301.06873.md\n",
      "\t _build/html/2301.06819.md\n",
      "\t _build/html/2301.06575.md\n",
      "\t _build/html/2301.05720.md\n",
      "\t _build/html/2301.05718.md\n",
      "\t _build/html/2301.05034.md\n",
      "\t _build/html/2301.04656.md\n",
      "\t _build/html/2301.04533.md\n",
      "\t _build/html/2301.04442.md\n",
      "\t _build/html/2301.03811.md\n",
      "\t _build/html/2301.03689.md\n",
      "\t _build/html/2301.03387.md\n",
      "\t _build/html/2301.03209.md\n",
      "\t _build/html/2301.02671.md\n",
      "\t _build/html/2301.02477.md\n",
      "\t _build/html/2301.02313.md\n",
      "\t _build/html/2301.02265.md\n",
      "\t _build/html/2301.01937.md\n",
      "\t _build/html/2301.01895.md\n",
      "\t _build/html/2301.01684.md\n",
      "\t _build/html/2301.01306.md\n",
      "\t _build/html/2301.00881.md\n",
      "\t _build/html/2301.00854.md\n",
      "\t _build/html/2301.00578.md\n",
      "\t _build/html/2212.12039.md\n",
      "\t _build/html/2212.11991.md\n",
      "\t _build/html/2212.11425.md\n",
      "\t _build/html/2212.11177.md\n",
      "\t _build/html/2212.10804.md\n",
      "\t _build/html/2212.10512.md\n",
      "\t _build/html/2212.09766.md\n",
      "\t _build/html/2212.09675.md\n",
      "\t _build/html/2212.09661.md\n",
      "\t _build/html/2212.09652.md\n",
      "\t _build/html/2212.09443.md\n",
      "\t _build/html/2212.09307.md\n",
      "\t _build/html/2212.09168.md\n",
      "\t _build/html/2212.09159.md\n",
      "\t _build/html/2212.08702.md\n",
      "\t _build/html/2212.07332.md\n",
      "\t _build/html/2212.06434.md\n",
      "\t _build/html/2212.04710.md\n",
      "\t _build/html/2212.04026.md\n",
      "\t _build/html/2212.03563.md\n",
      "\t _build/html/2212.03514.md\n",
      "\t _build/html/2212.02667.md\n",
      "\t _build/html/2212.02627.md\n",
      "\t _build/html/2212.02235.md\n",
      "\t _build/html/2212.01707.md\n",
      "\t _build/html/2212.01526.md\n",
      "\t _build/html/2212.01397.md\n",
      "\t _build/html/2212.01291.md\n",
      "\t _build/html/2212.01281.md\n",
      "\t _build/html/2212.00812.md\n",
      "\t _build/html/2212.00811.md\n",
      "\t _build/html/2212.00806.md\n",
      "\t _build/html/2212.00047.md\n",
      "\t _build/html/2212.00032.md\n",
      "\t _build/html/2211.16996.md\n",
      "\t _build/html/2211.16510.md\n",
      "\t _build/html/2211.16123.md\n",
      "\t _build/html/2211.15816.md\n",
      "\t _build/html/2211.15698.md\n",
      "\t _build/html/2211.15576.md\n",
      "\t _build/html/2211.15434.md\n",
      "\t _build/html/2211.15288.md\n",
      "\t _build/html/2211.15224.md\n",
      "\t _build/html/2211.14543.md\n",
      "\t _build/html/2211.14330.md\n",
      "\t _build/html/2211.14322.md\n",
      "\t _build/html/2211.14132.md\n",
      "\t _build/html/2211.13811.md\n",
      "\t _build/html/2211.13426.md\n",
      "\t _build/html/2211.13318.md\n",
      "\t _build/html/2211.13146.md\n",
      "\t _build/html/2211.12613.md\n",
      "\t _build/html/2211.11767.md\n",
      "\t _build/html/2211.09840.md\n",
      "\t _build/html/2211.09217.md\n",
      "\t _build/html/2211.08493.md\n",
      "\t _build/html/2211.08487.md\n",
      "\t _build/html/2211.08294.md\n",
      "\t _build/html/2211.07667.md\n",
      "\t _build/html/2211.07659.md\n",
      "\t _build/html/2211.06454.md\n",
      "\t _build/html/2211.06205.md\n",
      "\t _build/html/2211.06194.md\n",
      "\t _build/html/2211.05022.md\n",
      "\t _build/html/2211.04048.md\n",
      "\t _build/html/2211.03641.md\n",
      "\t _build/html/2211.02502.md\n",
      "\t _build/html/2211.01474.md\n",
      "\t _build/html/2211.00667.md\n",
      "\t _build/html/2211.00657.md\n",
      "\t _build/html/2211.00087.md\n",
      "\t _build/html/2211.00036.md\n",
      "\t _build/html/2211.00020.md\n",
      "\t _build/html/2211.00010.md\n",
      "\t _build/html/2210.17434.md\n",
      "\t _build/html/2210.12412.md\n",
      "\t _build/html/2210.11926.md\n",
      "\t _build/html/2210.11551.md\n",
      "\t _build/html/2210.11103.md\n",
      "\t _build/html/2210.10707.md\n",
      "\t _build/html/2210.09930.md\n",
      "\t _build/html/2210.08996.md\n",
      "\t _build/html/2210.08517.md\n",
      "\t _build/html/2210.08510.md\n",
      "\t _build/html/2210.08078.md\n",
      "\t _build/html/2210.06504.md\n",
      "\t _build/html/2210.05695.md\n",
      "\t _build/html/2210.05595.md\n",
      "\t _build/html/2210.05505.md\n",
      "\t _build/html/2210.04721.md\n",
      "\t _build/html/2210.03615.md\n",
      "\t _build/html/2210.01811.md\n",
      "\t _build/html/2210.01809.md\n",
      "\t _build/html/2210.01556.md\n",
      "\t _build/html/2210.00863.md\n",
      "\t _build/html/2210.00560.md\n",
      "\t _build/html/2209.15403.md\n",
      "\t _build/html/2209.15110.md\n",
      "\t _build/html/2209.14410.md\n",
      "\t _build/html/2209.14396.md\n",
      "\t _build/html/2209.13717.md\n",
      "\t _build/html/2209.13336.md\n",
      "\t _build/html/2209.12906.md\n",
      "\t _build/html/2209.11781.md\n",
      "\t _build/html/2209.11602.md\n",
      "\t _build/html/2209.11248.md\n",
      "\t _build/html/2209.11096.md\n",
      "\t _build/html/2209.10618.md\n",
      "\t _build/html/2209.09914.md\n",
      "\t _build/html/2209.09823.md\n",
      "\t _build/html/2209.08242.md\n",
      "\t _build/html/2209.08120.md\n",
      "\t _build/html/2209.08106.md\n",
      "\t _build/html/2209.07962.md\n",
      "\t _build/html/2209.07931.md\n",
      "\t _build/html/2209.06833.md\n",
      "\t _build/html/2209.05814.md\n",
      "\t _build/html/2209.05593.md\n",
      "\t _build/html/2209.04304.md\n",
      "\t _build/html/2209.03367.md\n",
      "\t _build/html/2209.02872.md\n",
      "\t _build/html/2209.02725.md\n",
      "\t _build/html/2209.02722.md\n",
      "\t _build/html/2209.02092.md\n",
      "\t _build/html/2209.01125.md\n",
      "\t _build/html/2209.00828.md\n",
      "\t _build/html/2209.00363.md\n",
      "\t _build/html/2208.14927.md\n",
      "\t _build/html/2208.09335.md\n",
      "\t _build/html/2208.08872.md\n",
      "\t _build/html/2204.06393.md\n",
      "\t _build/html/2204.03335.md\n",
      "\t _build/html/2204.03253.md\n",
      "\t _build/html/2204.02998.md\n",
      "\t _build/html/2204.02109.md\n",
      "\t _build/html/2204.02017.md\n",
      "\t _build/html/2204.01824.md\n",
      "\t _build/html/2204.01758.md\n",
      "\t _build/html/2204.01245.md\n",
      "\t _build/html/2204.00793.md\n",
      "\t _build/html/2204.00342.md\n",
      "\t _build/html/2203.16959.md\n",
      "\t _build/html/2203.16856.md\n",
      "\t _build/html/2203.16735.md\n",
      "\t _build/html/2203.16734.md\n",
      "\t _build/html/2203.16504.md\n",
      "\t _build/html/2203.15822.md\n",
      "\t _build/html/2203.15811.md\n"
     ]
    }
   ],
   "source": [
    "from datetime import datetime, timedelta, timezone\n",
    "from glob import glob\n",
    "\n",
    "files = glob('_build/html/*.md')\n",
    "days = 7\n",
    "now = datetime.today()\n",
    "res = []\n",
    "for fk in files:\n",
    "    stat_result = os.stat(fk).st_ctime\n",
    "    modified = datetime.fromtimestamp(stat_result, tz=timezone.utc).replace(tzinfo=None)\n",
    "    delta = now.today() - modified\n",
    "    if delta <= timedelta(days=days):\n",
    "        res.append((delta.seconds, fk))\n",
    "res = [k[1] for k in reversed(sorted(res, key=lambda x:x[1]))]\n",
    "npub = len(res)\n",
    "print(len(res), f\" publications in the last {days:d} days.\")\n",
    "[ print('\\t', k) for k in res ];"
   ]
  },
  {
   "cell_type": "code",
   "execution_count": 11,
   "id": "015de740",
   "metadata": {
    "execution": {
     "iopub.execute_input": "2023-03-01T04:09:41.843377Z",
     "iopub.status.busy": "2023-03-01T04:09:41.842936Z",
     "iopub.status.idle": "2023-03-01T04:09:41.863414Z",
     "shell.execute_reply": "2023-03-01T04:09:41.862581Z"
    },
    "papermill": {
     "duration": 0.036232,
     "end_time": "2023-03-01T04:09:41.871266",
     "exception": false,
     "start_time": "2023-03-01T04:09:41.835034",
     "status": "completed"
    },
    "tags": []
   },
   "outputs": [
    {
     "name": "stdout",
     "output_type": "stream",
     "text": [
      "3  publications in the last 7 days.\n"
     ]
    }
   ],
   "source": [
    "import datetime\n",
    "from glob import glob\n",
    "\n",
    "def get_last_n_days(lst, days=1):\n",
    "    \"\"\" Get the documents from the last n days \"\"\"\n",
    "    sorted_lst = sorted(lst, key=lambda x: x[1], reverse=True)\n",
    "    for fname, date in sorted_lst:\n",
    "        if date >= str(datetime.date.today() - datetime.timedelta(days=days)):\n",
    "            yield fname\n",
    "\n",
    "def extract_appearance_dates(lst_file):\n",
    "    dates = []\n",
    "\n",
    "    def get_date(line):\n",
    "        return line\\\n",
    "            .split('Appeared on:')[-1]\\\n",
    "            .split('</mark>')[0].strip()\n",
    "\n",
    "    for fname in lst:\n",
    "        with open(fname, 'r') as f:\n",
    "            found_date = False\n",
    "            for line in f:\n",
    "                if not found_date:\n",
    "                    if \"Appeared on\" in line:\n",
    "                        found_date = True\n",
    "                        dates.append((fname, get_date(line)))\n",
    "                else:\n",
    "                    break\n",
    "    return dates\n",
    "\n",
    "from glob import glob\n",
    "lst = glob('_build/html/*md')\n",
    "days = 7\n",
    "dates = extract_appearance_dates(lst)\n",
    "res = list(get_last_n_days(dates, days))\n",
    "npub = len(res)\n",
    "print(len(res), f\" publications in the last {days:d} days.\")"
   ]
  },
  {
   "cell_type": "code",
   "execution_count": 12,
   "id": "52ca0208",
   "metadata": {
    "execution": {
     "iopub.execute_input": "2023-03-01T04:09:41.887309Z",
     "iopub.status.busy": "2023-03-01T04:09:41.886707Z",
     "iopub.status.idle": "2023-03-01T04:09:41.893502Z",
     "shell.execute_reply": "2023-03-01T04:09:41.892953Z"
    },
    "papermill": {
     "duration": 0.016336,
     "end_time": "2023-03-01T04:09:41.895004",
     "exception": false,
     "start_time": "2023-03-01T04:09:41.878668",
     "status": "completed"
    },
    "scrolled": false,
    "tags": []
   },
   "outputs": [],
   "source": [
    "def create_carousel(npub=4):\n",
    "    \"\"\" Generate the HTML code for a carousel with `npub` slides \"\"\"\n",
    "    carousel = [\"\"\"<section class=\"carousel\" aria-label=\"Gallery\">\"\"\",\n",
    "                \"\"\"  <ol class=\"carousel__viewport\">\"\"\",\n",
    "    ]\n",
    "    for k in range(1, npub + 1):\n",
    "        prev_ = k - 1\n",
    "        next_ = k + 1\n",
    "        if prev_ <= 0:\n",
    "            prev_ = npub\n",
    "        if next_ > npub:\n",
    "            next_ = 1\n",
    "        text  = f\"\"\"    <li id=\"carousel__slide{k}\" tabindex=\"0\" class=\"carousel__slide\">\\n\"\"\"\n",
    "        text += f\"\"\"       <div class=\"carousel__snapper\">\\n\"\"\"\n",
    "        text += f\"\"\"         <a href=\"#carousel__slide{prev_}\" class=\"carousel__prev\">Go to previous slide</a>\\n\"\"\"\n",
    "        text += f\"\"\"         <a href=\"#carousel__slide{next_}\" class=\"carousel__next\">Go to next slide</a>\\n\"\"\"\n",
    "        text += f\"\"\"         <div id=\"slide{k}_content\" class=\"md_view\" >Content {k}</div>\\n\"\"\"\n",
    "        text += f\"\"\"       </div>\\n\"\"\"\n",
    "        text += f\"\"\"    </li>\"\"\"\n",
    "        carousel.append(text)\n",
    "\n",
    "    carousel.extend([\n",
    "        \"\"\"  </ol>\"\"\",\n",
    "        \"\"\"  <aside class=\"carousel__navigation\">\"\"\",\n",
    "        \"\"\"    <ol class=\"carousel__navigation-list\">\"\"\"])\n",
    "\n",
    "    for k in range(1, npub + 1):\n",
    "        text  = f\"\"\"      <li class=\"carousel__navigation-item\">\\n\"\"\"\n",
    "        text += f\"\"\"        <a href=\"#carousel__slide{k}\" class=\"carousel__navigation-button\">Go to {k}</a>\\n\"\"\"\n",
    "        text += f\"\"\"      </li>\"\"\"\n",
    "        carousel.append(text)\n",
    "    carousel.extend([\"\"\"    </ol>\"\"\", \"\"\"  </aside>\"\"\", \"\"\"</section>\"\"\"])\n",
    "\n",
    "    return '\\n'.join(carousel)"
   ]
  },
  {
   "cell_type": "code",
   "execution_count": 13,
   "id": "a6eac5b6",
   "metadata": {
    "execution": {
     "iopub.execute_input": "2023-03-01T04:09:41.912542Z",
     "iopub.status.busy": "2023-03-01T04:09:41.912053Z",
     "iopub.status.idle": "2023-03-01T04:09:41.917944Z",
     "shell.execute_reply": "2023-03-01T04:09:41.917418Z"
    },
    "papermill": {
     "duration": 0.015594,
     "end_time": "2023-03-01T04:09:41.919343",
     "exception": false,
     "start_time": "2023-03-01T04:09:41.903749",
     "status": "completed"
    },
    "scrolled": false,
    "tags": []
   },
   "outputs": [],
   "source": [
    "carousel = create_carousel(npub)\n",
    "docs = ', '.join(['\"{0:s}\"'.format(k.split('/')[-1]) for k in res])\n",
    "slides = ', '.join([f'\"slide{k}_content\"' for k in range(1, npub + 1)])\n",
    "\n",
    "script = f\"\"\"\n",
    "const docs = [{docs}]\n",
    "\n",
    "const slides = [{slides}]\n",
    "\"\"\" + \"\"\"\n",
    "async function run() {\n",
    "    for (let i = 0; i < docs.length; i++) {\n",
    "        let file = await fetch(docs[i]);\n",
    "        let text = await file.text()\n",
    "        document.getElementById(slides[i]).innerHTML =\n",
    "            marked.parse(text);\n",
    "    }\n",
    "    hljs.highlightAll();\n",
    "}\n",
    "run()\n",
    "\"\"\"\n",
    "\n",
    "page = f\"\"\"<!doctype html>\n",
    "<html lang=\"en\">\n",
    "\n",
    "<head>\n",
    "  <meta charset=\"utf-8\">\n",
    "  <meta name=\"viewport\" content=\"width=device-width, initial-scale=1\">\n",
    "  <!-- Bootstrap CSS -->\n",
    "  <link href=\"https://cdn.jsdelivr.net/npm/bootstrap@5.0.2/dist/css/bootstrap.min.css\" rel=\"stylesheet\"\n",
    "   integrity=\"sha384-EVSTQN3/azprG1Anm3QDgpJLIm9Nao0Yz1ztcQTwFspd3yD65VohhpuuCOmLASjC\" crossorigin=\"anonymous\">\n",
    "  <!-- highlight.js CSS -->\n",
    "  <link rel=\"stylesheet\" href=\"https://cdnjs.cloudflare.com/ajax/libs/highlight.js/11.1.0/styles/default.min.css\">\n",
    "  <!-- Mathjax 3 -->\n",
    "  <script type=\"text/javascript\" id=\"MathJax-config\" src=\"mathjax_config.js\"> </script>\n",
    "  <script type=\"text/javascript\" id=\"MathJax-script\" async \n",
    "    src=\"https://cdn.jsdelivr.net/npm/mathjax@3/es5/tex-mml-chtml.js\">\n",
    "  </script>\n",
    "  <link rel=\"stylesheet\" href=\"index_carousel.css\">\n",
    "  <link rel=\"icon\" type=\"image/x-icon\" href=\"https://www.mpia.de/assets/touch-icon-32x32-a66937bcebc4e8894ebff1f41a366c7c7220fd97a38869ee0f2db65a9f59b6c1.png\">\n",
    "  <title>MPIA Arxiv on deck!</title>\n",
    "</head>\n",
    "\n",
    "<body>\n",
    "  <div id=\"header\"> <img src=\"header_banner.png\" width=\"100%\"></div>\n",
    "  <div id=\"suptitle\"> 7-day archives </div>\n",
    "  <div id=\"info\">\n",
    "    <img src=\"https://pngimg.com/uploads/github/github_PNG58.png\" height=30rem></img>\n",
    "    <a href=https://github.com/mpi-astronomy/arxiv_display style=\"color:black;\">github/mpi-astronomy/arxiv_display</a> \n",
    "  </div>\n",
    "  {carousel:s}\n",
    "</body>\n",
    "\n",
    "<!-- Render Markdown -->\n",
    "\n",
    "<body>\n",
    "  <!-- highlight.js: https://highlightjs.org/download/ -->\n",
    "  <script src=\"https://cdnjs.cloudflare.com/ajax/libs/highlight.js/11.5.0/highlight.min.js\"></script>\n",
    "  <!-- marked.js -->\n",
    "  <script src=\"https://cdn.jsdelivr.net/npm/marked/marked.min.js\"></script>\n",
    "  <script>{script:s}</script>\n",
    "</body>\n",
    "</html>\n",
    "\"\"\"\n",
    "with open(\"_build/html/index_7days.html\", 'w') as fout:\n",
    "    fout.write(page)"
   ]
  },
  {
   "cell_type": "code",
   "execution_count": 14,
   "id": "adc1a1ec",
   "metadata": {
    "execution": {
     "iopub.execute_input": "2023-03-01T04:09:41.935071Z",
     "iopub.status.busy": "2023-03-01T04:09:41.934840Z",
     "iopub.status.idle": "2023-03-01T04:09:41.942460Z",
     "shell.execute_reply": "2023-03-01T04:09:41.941775Z"
    },
    "papermill": {
     "duration": 0.017548,
     "end_time": "2023-03-01T04:09:41.944013",
     "exception": false,
     "start_time": "2023-03-01T04:09:41.926465",
     "status": "completed"
    },
    "tags": []
   },
   "outputs": [
    {
     "name": "stdout",
     "output_type": "stream",
     "text": [
      "1  publications in the last day.\n"
     ]
    }
   ],
   "source": [
    "# redo for today\n",
    "days = 1\n",
    "res = list(get_last_n_days(dates, days))\n",
    "npub = len(res)\n",
    "print(len(res), f\" publications in the last day.\")\n",
    "\n",
    "carousel = create_carousel(npub)\n",
    "docs = ', '.join(['\"{0:s}\"'.format(k.split('/')[-1]) for k in res])\n",
    "slides = ', '.join([f'\"slide{k}_content\"' for k in range(1, npub + 1)])\n",
    "\n",
    "script = f\"\"\"\n",
    "const docs = [{docs}]\n",
    "\n",
    "const slides = [{slides}]\n",
    "\"\"\" + \"\"\"\n",
    "async function run() {\n",
    "    for (let i = 0; i < docs.length; i++) {\n",
    "        let file = await fetch(docs[i]);\n",
    "        let text = await file.text()\n",
    "        document.getElementById(slides[i]).innerHTML =\n",
    "            marked.parse(text);\n",
    "    }\n",
    "    hljs.highlightAll();\n",
    "}\n",
    "run()\n",
    "\"\"\"\n",
    "\n",
    "page = f\"\"\"<!doctype html>\n",
    "<html lang=\"en\">\n",
    "\n",
    "<head>\n",
    "  <meta charset=\"utf-8\">\n",
    "  <meta name=\"viewport\" content=\"width=device-width, initial-scale=1\">\n",
    "  <!-- Bootstrap CSS -->\n",
    "  <link href=\"https://cdn.jsdelivr.net/npm/bootstrap@5.0.2/dist/css/bootstrap.min.css\" rel=\"stylesheet\"\n",
    "   integrity=\"sha384-EVSTQN3/azprG1Anm3QDgpJLIm9Nao0Yz1ztcQTwFspd3yD65VohhpuuCOmLASjC\" crossorigin=\"anonymous\">\n",
    "  <!-- highlight.js CSS -->\n",
    "  <link rel=\"stylesheet\" href=\"https://cdnjs.cloudflare.com/ajax/libs/highlight.js/11.1.0/styles/default.min.css\">\n",
    "  <!-- Mathjax 3 -->\n",
    "  <script type=\"text/javascript\" id=\"MathJax-config\" src=\"mathjax_config.js\"> </script>\n",
    "  <script type=\"text/javascript\" id=\"MathJax-script\" async \n",
    "    src=\"https://cdn.jsdelivr.net/npm/mathjax@3/es5/tex-mml-chtml.js\">\n",
    "  </script>\n",
    "  <link rel=\"stylesheet\" href=\"index_carousel.css\">\n",
    "  <link rel=\"icon\" type=\"image/x-icon\" href=\"https://www.mpia.de/assets/touch-icon-32x32-a66937bcebc4e8894ebff1f41a366c7c7220fd97a38869ee0f2db65a9f59b6c1.png\">\n",
    "  <title>MPIA Arxiv on deck!</title>\n",
    "</head>\n",
    "\n",
    "<body>\n",
    "  <div id=\"header\"> <img src=\"header_banner.png\" width=\"100%\"></div>\n",
    "  <div id=\"suptitle\"> daily </div>\n",
    "  <div id=\"info\">\n",
    "    <img src=\"https://pngimg.com/uploads/github/github_PNG58.png\" height=30rem></img>\n",
    "    <a href=https://github.com/mpi-astronomy/arxiv_display style=\"color:black;\">github/mpi-astronomy/arxiv_display</a> \n",
    "  </div>\n",
    "  {carousel:s}\n",
    "</body>\n",
    "\n",
    "<!-- Render Markdown -->\n",
    "\n",
    "<body>\n",
    "  <!-- highlight.js: https://highlightjs.org/download/ -->\n",
    "  <script src=\"https://cdnjs.cloudflare.com/ajax/libs/highlight.js/11.5.0/highlight.min.js\"></script>\n",
    "  <!-- marked.js -->\n",
    "  <script src=\"https://cdn.jsdelivr.net/npm/marked/marked.min.js\"></script>\n",
    "  <script>{script:s}</script>\n",
    "</body>\n",
    "</html>\n",
    "\"\"\"\n",
    "with open(\"_build/html/index_daily.html\", 'w') as fout:\n",
    "    fout.write(page)"
   ]
  }
 ],
 "metadata": {
  "kernelspec": {
   "display_name": "Python 3 (ipykernel)",
   "language": "python",
   "name": "python3"
  },
  "language_info": {
   "codemirror_mode": {
    "name": "ipython",
    "version": 3
   },
   "file_extension": ".py",
   "mimetype": "text/x-python",
   "name": "python",
   "nbconvert_exporter": "python",
   "pygments_lexer": "ipython3",
   "version": "3.9.16"
  },
  "papermill": {
   "default_parameters": {},
   "duration": 83.765206,
   "end_time": "2023-03-01T04:09:42.169571",
   "environment_variables": {},
   "exception": null,
   "input_path": "MPIA daily digest.ipynb",
   "output_path": "log.ipynb",
   "parameters": {},
   "start_time": "2023-03-01T04:08:18.404365",
   "version": "2.4.0"
  },
  "vscode": {
   "interpreter": {
    "hash": "aee8b7b246df8f9039afb4144a1f6fd8d2ca17a180786b69acc140d282b71a49"
   }
  },
  "widgets": {
   "application/vnd.jupyter.widget-state+json": {
    "state": {
     "10f94e3c51ea4e14a757990a7a922b95": {
      "model_module": "@jupyter-widgets/base",
      "model_module_version": "2.0.0",
      "model_name": "LayoutModel",
      "state": {
       "_model_module": "@jupyter-widgets/base",
       "_model_module_version": "2.0.0",
       "_model_name": "LayoutModel",
       "_view_count": null,
       "_view_module": "@jupyter-widgets/base",
       "_view_module_version": "2.0.0",
       "_view_name": "LayoutView",
       "align_content": null,
       "align_items": null,
       "align_self": null,
       "border_bottom": null,
       "border_left": null,
       "border_right": null,
       "border_top": null,
       "bottom": null,
       "display": null,
       "flex": null,
       "flex_flow": null,
       "grid_area": null,
       "grid_auto_columns": null,
       "grid_auto_flow": null,
       "grid_auto_rows": null,
       "grid_column": null,
       "grid_gap": null,
       "grid_row": null,
       "grid_template_areas": null,
       "grid_template_columns": null,
       "grid_template_rows": null,
       "height": null,
       "justify_content": null,
       "justify_items": null,
       "left": null,
       "margin": null,
       "max_height": null,
       "max_width": null,
       "min_height": null,
       "min_width": null,
       "object_fit": null,
       "object_position": null,
       "order": null,
       "overflow": null,
       "padding": null,
       "right": null,
       "top": null,
       "visibility": null,
       "width": null
      }
     },
     "42de721dc0fb458aa83c6a01232b425b": {
      "model_module": "@jupyter-widgets/controls",
      "model_module_version": "2.0.0",
      "model_name": "ProgressStyleModel",
      "state": {
       "_model_module": "@jupyter-widgets/controls",
       "_model_module_version": "2.0.0",
       "_model_name": "ProgressStyleModel",
       "_view_count": null,
       "_view_module": "@jupyter-widgets/base",
       "_view_module_version": "2.0.0",
       "_view_name": "StyleView",
       "bar_color": null,
       "description_width": ""
      }
     },
     "48f931bd59ab4d4daf853fc15a4d23c8": {
      "model_module": "@jupyter-widgets/base",
      "model_module_version": "2.0.0",
      "model_name": "LayoutModel",
      "state": {
       "_model_module": "@jupyter-widgets/base",
       "_model_module_version": "2.0.0",
       "_model_name": "LayoutModel",
       "_view_count": null,
       "_view_module": "@jupyter-widgets/base",
       "_view_module_version": "2.0.0",
       "_view_name": "LayoutView",
       "align_content": null,
       "align_items": null,
       "align_self": null,
       "border_bottom": null,
       "border_left": null,
       "border_right": null,
       "border_top": null,
       "bottom": null,
       "display": null,
       "flex": null,
       "flex_flow": null,
       "grid_area": null,
       "grid_auto_columns": null,
       "grid_auto_flow": null,
       "grid_auto_rows": null,
       "grid_column": null,
       "grid_gap": null,
       "grid_row": null,
       "grid_template_areas": null,
       "grid_template_columns": null,
       "grid_template_rows": null,
       "height": null,
       "justify_content": null,
       "justify_items": null,
       "left": null,
       "margin": null,
       "max_height": null,
       "max_width": null,
       "min_height": null,
       "min_width": null,
       "object_fit": null,
       "object_position": null,
       "order": null,
       "overflow": null,
       "padding": null,
       "right": null,
       "top": null,
       "visibility": null,
       "width": null
      }
     },
     "65400dfe825a4d308930b99ff4c36851": {
      "model_module": "@jupyter-widgets/controls",
      "model_module_version": "2.0.0",
      "model_name": "HBoxModel",
      "state": {
       "_dom_classes": [],
       "_model_module": "@jupyter-widgets/controls",
       "_model_module_version": "2.0.0",
       "_model_name": "HBoxModel",
       "_view_count": null,
       "_view_module": "@jupyter-widgets/controls",
       "_view_module_version": "2.0.0",
       "_view_name": "HBoxView",
       "box_style": "",
       "children": [
        "IPY_MODEL_85e056a860fb4bc2aadd198efafbe8ef",
        "IPY_MODEL_def68da486454d1fa6b57f1caf941910",
        "IPY_MODEL_cb2b878b0bc24d4384d092c1448da0ed"
       ],
       "layout": "IPY_MODEL_48f931bd59ab4d4daf853fc15a4d23c8",
       "tabbable": null,
       "tooltip": null
      }
     },
     "7acca2e89f21428488b705d9c3563fdc": {
      "model_module": "@jupyter-widgets/controls",
      "model_module_version": "2.0.0",
      "model_name": "HTMLStyleModel",
      "state": {
       "_model_module": "@jupyter-widgets/controls",
       "_model_module_version": "2.0.0",
       "_model_name": "HTMLStyleModel",
       "_view_count": null,
       "_view_module": "@jupyter-widgets/base",
       "_view_module_version": "2.0.0",
       "_view_name": "StyleView",
       "background": null,
       "description_width": "",
       "font_size": null,
       "text_color": null
      }
     },
     "7bddbde9372147468a026ba60b7821f5": {
      "model_module": "@jupyter-widgets/base",
      "model_module_version": "2.0.0",
      "model_name": "LayoutModel",
      "state": {
       "_model_module": "@jupyter-widgets/base",
       "_model_module_version": "2.0.0",
       "_model_name": "LayoutModel",
       "_view_count": null,
       "_view_module": "@jupyter-widgets/base",
       "_view_module_version": "2.0.0",
       "_view_name": "LayoutView",
       "align_content": null,
       "align_items": null,
       "align_self": null,
       "border_bottom": null,
       "border_left": null,
       "border_right": null,
       "border_top": null,
       "bottom": null,
       "display": null,
       "flex": null,
       "flex_flow": null,
       "grid_area": null,
       "grid_auto_columns": null,
       "grid_auto_flow": null,
       "grid_auto_rows": null,
       "grid_column": null,
       "grid_gap": null,
       "grid_row": null,
       "grid_template_areas": null,
       "grid_template_columns": null,
       "grid_template_rows": null,
       "height": null,
       "justify_content": null,
       "justify_items": null,
       "left": null,
       "margin": null,
       "max_height": null,
       "max_width": null,
       "min_height": null,
       "min_width": null,
       "object_fit": null,
       "object_position": null,
       "order": null,
       "overflow": null,
       "padding": null,
       "right": null,
       "top": null,
       "visibility": null,
       "width": null
      }
     },
     "852e2610ada24828a3dd3fe488411a5b": {
      "model_module": "@jupyter-widgets/controls",
      "model_module_version": "2.0.0",
      "model_name": "HTMLStyleModel",
      "state": {
       "_model_module": "@jupyter-widgets/controls",
       "_model_module_version": "2.0.0",
       "_model_name": "HTMLStyleModel",
       "_view_count": null,
       "_view_module": "@jupyter-widgets/base",
       "_view_module_version": "2.0.0",
       "_view_name": "StyleView",
       "background": null,
       "description_width": "",
       "font_size": null,
       "text_color": null
      }
     },
     "85e056a860fb4bc2aadd198efafbe8ef": {
      "model_module": "@jupyter-widgets/controls",
      "model_module_version": "2.0.0",
      "model_name": "HTMLModel",
      "state": {
       "_dom_classes": [],
       "_model_module": "@jupyter-widgets/controls",
       "_model_module_version": "2.0.0",
       "_model_name": "HTMLModel",
       "_view_count": null,
       "_view_module": "@jupyter-widgets/controls",
       "_view_module_version": "2.0.0",
       "_view_name": "HTMLView",
       "description": "",
       "description_allow_html": false,
       "layout": "IPY_MODEL_7bddbde9372147468a026ba60b7821f5",
       "placeholder": "​",
       "style": "IPY_MODEL_852e2610ada24828a3dd3fe488411a5b",
       "tabbable": null,
       "tooltip": null,
       "value": "100%"
      }
     },
     "cb2b878b0bc24d4384d092c1448da0ed": {
      "model_module": "@jupyter-widgets/controls",
      "model_module_version": "2.0.0",
      "model_name": "HTMLModel",
      "state": {
       "_dom_classes": [],
       "_model_module": "@jupyter-widgets/controls",
       "_model_module_version": "2.0.0",
       "_model_name": "HTMLModel",
       "_view_count": null,
       "_view_module": "@jupyter-widgets/controls",
       "_view_module_version": "2.0.0",
       "_view_name": "HTMLView",
       "description": "",
       "description_allow_html": false,
       "layout": "IPY_MODEL_10f94e3c51ea4e14a757990a7a922b95",
       "placeholder": "​",
       "style": "IPY_MODEL_7acca2e89f21428488b705d9c3563fdc",
       "tabbable": null,
       "tooltip": null,
       "value": " 10/10 [00:58&lt;00:00,  3.17s/it]"
      }
     },
     "def68da486454d1fa6b57f1caf941910": {
      "model_module": "@jupyter-widgets/controls",
      "model_module_version": "2.0.0",
      "model_name": "FloatProgressModel",
      "state": {
       "_dom_classes": [],
       "_model_module": "@jupyter-widgets/controls",
       "_model_module_version": "2.0.0",
       "_model_name": "FloatProgressModel",
       "_view_count": null,
       "_view_module": "@jupyter-widgets/controls",
       "_view_module_version": "2.0.0",
       "_view_name": "ProgressView",
       "bar_style": "success",
       "description": "",
       "description_allow_html": false,
       "layout": "IPY_MODEL_ecc23b56893440219910fb4734360e52",
       "max": 10.0,
       "min": 0.0,
       "orientation": "horizontal",
       "style": "IPY_MODEL_42de721dc0fb458aa83c6a01232b425b",
       "tabbable": null,
       "tooltip": null,
       "value": 10.0
      }
     },
     "ecc23b56893440219910fb4734360e52": {
      "model_module": "@jupyter-widgets/base",
      "model_module_version": "2.0.0",
      "model_name": "LayoutModel",
      "state": {
       "_model_module": "@jupyter-widgets/base",
       "_model_module_version": "2.0.0",
       "_model_name": "LayoutModel",
       "_view_count": null,
       "_view_module": "@jupyter-widgets/base",
       "_view_module_version": "2.0.0",
       "_view_name": "LayoutView",
       "align_content": null,
       "align_items": null,
       "align_self": null,
       "border_bottom": null,
       "border_left": null,
       "border_right": null,
       "border_top": null,
       "bottom": null,
       "display": null,
       "flex": null,
       "flex_flow": null,
       "grid_area": null,
       "grid_auto_columns": null,
       "grid_auto_flow": null,
       "grid_auto_rows": null,
       "grid_column": null,
       "grid_gap": null,
       "grid_row": null,
       "grid_template_areas": null,
       "grid_template_columns": null,
       "grid_template_rows": null,
       "height": null,
       "justify_content": null,
       "justify_items": null,
       "left": null,
       "margin": null,
       "max_height": null,
       "max_width": null,
       "min_height": null,
       "min_width": null,
       "object_fit": null,
       "object_position": null,
       "order": null,
       "overflow": null,
       "padding": null,
       "right": null,
       "top": null,
       "visibility": null,
       "width": null
      }
     }
    },
    "version_major": 2,
    "version_minor": 0
   }
  }
 },
 "nbformat": 4,
 "nbformat_minor": 5
}