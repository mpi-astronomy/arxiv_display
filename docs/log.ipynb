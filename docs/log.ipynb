{
 "cells": [
  {
   "cell_type": "markdown",
   "id": "92bcb855",
   "metadata": {
    "papermill": {
     "duration": 0.003734,
     "end_time": "2024-01-30T04:07:44.500588",
     "exception": false,
     "start_time": "2024-01-30T04:07:44.496854",
     "status": "completed"
    },
    "tags": []
   },
   "source": [
    "# MPIA Arxiv on Deck 2\n",
    "\n",
    "Contains the steps to produce the paper extractions."
   ]
  },
  {
   "cell_type": "code",
   "execution_count": 1,
   "id": "3a0d6e11",
   "metadata": {
    "execution": {
     "iopub.execute_input": "2024-01-30T04:07:44.509337Z",
     "iopub.status.busy": "2024-01-30T04:07:44.508715Z",
     "iopub.status.idle": "2024-01-30T04:07:45.022347Z",
     "shell.execute_reply": "2024-01-30T04:07:45.021704Z"
    },
    "papermill": {
     "duration": 0.519323,
     "end_time": "2024-01-30T04:07:45.024121",
     "exception": false,
     "start_time": "2024-01-30T04:07:44.504798",
     "status": "completed"
    },
    "tags": []
   },
   "outputs": [],
   "source": [
    "# Imports\n",
    "import os\n",
    "from IPython.display import Markdown, display\n",
    "from tqdm.notebook import tqdm\n",
    "import warnings\n",
    "from PIL import Image \n",
    "\n",
    "# requires arxiv_on_deck_2\n",
    "\n",
    "from arxiv_on_deck_2.arxiv2 import (get_new_papers, \n",
    "                                    get_paper_from_identifier,\n",
    "                                    retrieve_document_source, \n",
    "                                    get_markdown_badge)\n",
    "from arxiv_on_deck_2 import (latex,\n",
    "                             latex_bib,\n",
    "                             mpia,\n",
    "                             highlight_authors_in_list)\n",
    "\n",
    "# Sometimes images are really big\n",
    "Image.MAX_IMAGE_PIXELS = 1000000000 "
   ]
  },
  {
   "cell_type": "code",
   "execution_count": 2,
   "id": "22aa9d44",
   "metadata": {
    "execution": {
     "iopub.execute_input": "2024-01-30T04:07:45.031359Z",
     "iopub.status.busy": "2024-01-30T04:07:45.030869Z",
     "iopub.status.idle": "2024-01-30T04:07:45.035880Z",
     "shell.execute_reply": "2024-01-30T04:07:45.035300Z"
    },
    "papermill": {
     "duration": 0.01006,
     "end_time": "2024-01-30T04:07:45.037274",
     "exception": false,
     "start_time": "2024-01-30T04:07:45.027214",
     "status": "completed"
    },
    "tags": []
   },
   "outputs": [],
   "source": [
    "# Some useful definitions.\n",
    "\n",
    "class AffiliationWarning(UserWarning):\n",
    "    pass\n",
    "\n",
    "class AffiliationError(RuntimeError):\n",
    "    pass\n",
    "\n",
    "def validation(source: str):\n",
    "    \"\"\"Raises error paper during parsing of source file\n",
    "    \n",
    "    Allows checks before parsing TeX code.\n",
    "    \n",
    "    Raises AffiliationWarning\n",
    "    \"\"\"\n",
    "    check = mpia.affiliation_verifications(source, verbose=True)\n",
    "    if check is not True:\n",
    "        raise AffiliationError(\"mpia.affiliation_verifications: \" + check)\n",
    "\n",
    "        \n",
    "warnings.simplefilter('always', AffiliationWarning)\n",
    "\n",
    "\n",
    "def get_markdown_qrcode(paper_id: str):\n",
    "    \"\"\" Generate a qrcode to the arxiv page using qrserver.com\n",
    "    \n",
    "    :param paper: Arxiv paper\n",
    "    :returns: markdown text\n",
    "    \"\"\"\n",
    "    url = r\"https://api.qrserver.com/v1/create-qr-code/?size=100x100&data=\"\n",
    "    txt = f\"\"\"<img src={url}\"https://arxiv.org/abs/{paper_id}\">\"\"\"\n",
    "    txt = '<div id=\"qrcode\">' + txt + '</div>'\n",
    "    return txt"
   ]
  },
  {
   "cell_type": "markdown",
   "id": "14bd6310",
   "metadata": {
    "papermill": {
     "duration": 0.002723,
     "end_time": "2024-01-30T04:07:45.042844",
     "exception": false,
     "start_time": "2024-01-30T04:07:45.040121",
     "status": "completed"
    },
    "tags": []
   },
   "source": [
    "## get list of arxiv paper candidates\n",
    "\n",
    "We use the MPIA mitarbeiter list webpage from mpia.de to get author names\n",
    "We then get all new papers from Arxiv and match authors"
   ]
  },
  {
   "cell_type": "code",
   "execution_count": 3,
   "id": "2645e73a",
   "metadata": {
    "execution": {
     "iopub.execute_input": "2024-01-30T04:07:45.049554Z",
     "iopub.status.busy": "2024-01-30T04:07:45.049111Z",
     "iopub.status.idle": "2024-01-30T04:08:02.041818Z",
     "shell.execute_reply": "2024-01-30T04:08:02.041123Z"
    },
    "papermill": {
     "duration": 16.997718,
     "end_time": "2024-01-30T04:08:02.043300",
     "exception": false,
     "start_time": "2024-01-30T04:07:45.045582",
     "status": "completed"
    },
    "tags": []
   },
   "outputs": [
    {
     "name": "stdout",
     "output_type": "stream",
     "text": [
      "E. Schinnerer  ->  E. Schinnerer  |  ['E. Schinnerer']\n",
      "S. Hannon  ->  S. Hannon  |  ['S. Hannon']\n",
      "J. Li  ->  J. Li  |  ['J. Li']\n",
      "J. Neumann  ->  J. Neumann  |  ['J. Neumann']\n",
      "N. Neumayer  ->  N. Neumayer  |  ['N. Neumayer']\n",
      "N. Neumayer  ->  N. Neumayer  |  ['N. Neumayer']\n",
      "J. Klevas  ->  J. Klevas  |  ['J. Klevas']\n",
      "X. Zhang  ->  X. Zhang  |  ['X. Zhang']\n"
     ]
    },
    {
     "name": "stdout",
     "output_type": "stream",
     "text": [
      "J. Mah  ->  J. Mah  |  ['J. Mah']\n",
      "Arxiv has 85 new papers today\n",
      "          5 with possible author matches\n"
     ]
    }
   ],
   "source": [
    "# get list from MPIA website\n",
    "# it automatically filters identified non-scientists :func:`mpia.filter_non_scientists`\n",
    "mpia_authors = mpia.get_mpia_mitarbeiter_list()\n",
    "normed_mpia_authors = [k[1] for k in mpia_authors]   # initials + fullname\n",
    "new_papers = get_new_papers()\n",
    "# add manual references\n",
    "add_paper_refs = []\n",
    "new_papers.extend([get_paper_from_identifier(k) for k in add_paper_refs])\n",
    "\n",
    "candidates = []\n",
    "for paperk in new_papers:\n",
    "    # Check author list with their initials\n",
    "    normed_author_list = [mpia.get_initials(k) for k in paperk['authors']]\n",
    "    hl_authors = highlight_authors_in_list(normed_author_list, normed_mpia_authors, verbose=True)\n",
    "    matches = [(hl, orig) for hl, orig in zip(hl_authors, paperk['authors']) if 'mark' in hl]\n",
    "    paperk['authors'] = hl_authors\n",
    "    if matches:\n",
    "        # only select paper if an author matched our list\n",
    "        candidates.append(paperk)\n",
    "print(\"\"\"Arxiv has {0:,d} new papers today\"\"\".format(len(new_papers)))        \n",
    "print(\"\"\"          {0:,d} with possible author matches\"\"\".format(len(candidates)))"
   ]
  },
  {
   "cell_type": "markdown",
   "id": "3543b34a",
   "metadata": {
    "papermill": {
     "duration": 0.003026,
     "end_time": "2024-01-30T04:08:02.049708",
     "exception": false,
     "start_time": "2024-01-30T04:08:02.046682",
     "status": "completed"
    },
    "tags": []
   },
   "source": [
    "# Parse sources and generate relevant outputs\n",
    "\n",
    "From the candidates, we do the following steps:\n",
    "* get their tarball from ArXiv (and extract data)\n",
    "* find the main .tex file: find one with \\documentclass{...} (sometimes it's non trivial)\n",
    "* Check affiliations with :func:`validation`, which uses :func:`mpia.affiliation_verifications`\n",
    "* If passing the affiliations: we parse the .tex source\n",
    "   * inject sub-documents into the main (flatten the main document)\n",
    "   * parse structure, extract information (title, abstract, authors, figures...)\n",
    "   * handles `\\graphicspath` if provided\n",
    "* Generate the .md document."
   ]
  },
  {
   "cell_type": "code",
   "execution_count": 4,
   "id": "9576b79e",
   "metadata": {
    "execution": {
     "iopub.execute_input": "2024-01-30T04:08:02.056747Z",
     "iopub.status.busy": "2024-01-30T04:08:02.056320Z",
     "iopub.status.idle": "2024-01-30T04:10:34.903326Z",
     "shell.execute_reply": "2024-01-30T04:10:34.902545Z"
    },
    "papermill": {
     "duration": 152.856095,
     "end_time": "2024-01-30T04:10:34.908679",
     "exception": false,
     "start_time": "2024-01-30T04:08:02.052584",
     "status": "completed"
    },
    "scrolled": false,
    "tags": []
   },
   "outputs": [
    {
     "data": {
      "application/vnd.jupyter.widget-view+json": {
       "model_id": "caa8eaa219bc4c2c99293d11c8ee3d01",
       "version_major": 2,
       "version_minor": 0
      },
      "text/plain": [
       "  0%|          | 0/5 [00:00<?, ?it/s]"
      ]
     },
     "metadata": {},
     "output_type": "display_data"
    },
    {
     "name": "stdout",
     "output_type": "stream",
     "text": [
      "Retrieving document from  https://arxiv.org/e-print/2401.15142\n"
     ]
    },
    {
     "name": "stdout",
     "output_type": "stream",
     "text": [
      "extracting tarball to tmp_2401.15142..."
     ]
    },
    {
     "name": "stdout",
     "output_type": "stream",
     "text": [
      " done.\n"
     ]
    },
    {
     "name": "stderr",
     "output_type": "stream",
     "text": [
      "/opt/hostedtoolcache/Python/3.9.18/x64/lib/python3.9/site-packages/IPython/core/interactiveshell.py:3550: LatexWarning: Multiple tex files.\n",
      "\n",
      "  exec(code_obj, self.user_global_ns, self.user_ns)\n",
      "/opt/hostedtoolcache/Python/3.9.18/x64/lib/python3.9/site-packages/IPython/core/interactiveshell.py:3550: LatexWarning: Found documentclass in tmp_2401.15142/paper.tex\n",
      "\n",
      "  exec(code_obj, self.user_global_ns, self.user_ns)\n",
      "/opt/hostedtoolcache/Python/3.9.18/x64/lib/python3.9/site-packages/arxiv_on_deck_2/latex.py:399: LatexWarning: Latex injecting: 'authors' from 'tmp_2401.15142/authors.tex'\n",
      "  warnings.warn(LatexWarning(f\"Latex injecting: '{ext}' from '{subsource}'\"))\n",
      "/opt/hostedtoolcache/Python/3.9.18/x64/lib/python3.9/site-packages/arxiv_on_deck_2/latex.py:399: LatexWarning: Latex injecting: 'affils' from 'tmp_2401.15142/affils.tex'\n",
      "  warnings.warn(LatexWarning(f\"Latex injecting: '{ext}' from '{subsource}'\"))\n"
     ]
    },
    {
     "name": "stdout",
     "output_type": "stream",
     "text": [
      "Found 52 bibliographic references in tmp_2401.15142/paper.bbl.\n",
      "Retrieving document from  https://arxiv.org/e-print/2401.15149\n"
     ]
    },
    {
     "name": "stderr",
     "output_type": "stream",
     "text": [
      "/opt/hostedtoolcache/Python/3.9.18/x64/lib/python3.9/site-packages/arxiv_on_deck_2/latex_bib.py:132: UserWarning: Error processing bibitem\n",
      " item = \\bibitem[{{Chastenet}(in prep)}]{2024Chastenet}{Chastenet}, J. in prep, arXiv\n",
      " regex = \n",
      "        \\\\bibitem(\\[[^\\[\\]]*?\\]){(?P<bibkey>[a-zA-Z0-9\\-\\+\\.\\S]+?)}(?P<authors>|([\\D]*?))(?P<year>[12][0-9]{3})(?P<rest>.*)\n",
      "        \n",
      "  warnings.warn(str(e))\n"
     ]
    },
    {
     "name": "stdout",
     "output_type": "stream",
     "text": [
      "extracting tarball to tmp_2401.15149..."
     ]
    },
    {
     "name": "stdout",
     "output_type": "stream",
     "text": [
      " done.\n",
      "Retrieving document from  https://arxiv.org/e-print/2401.15172\n"
     ]
    },
    {
     "name": "stdout",
     "output_type": "stream",
     "text": [
      "extracting tarball to tmp_2401.15172..."
     ]
    },
    {
     "name": "stdout",
     "output_type": "stream",
     "text": [
      " done.\n"
     ]
    },
    {
     "name": "stdout",
     "output_type": "stream",
     "text": [
      "Found 67 bibliographic references in tmp_2401.15172/entropy_calibration.bbl.\n",
      "Retrieving document from  https://arxiv.org/e-print/2401.15438\n"
     ]
    },
    {
     "name": "stdout",
     "output_type": "stream",
     "text": [
      "extracting tarball to tmp_2401.15438..."
     ]
    },
    {
     "name": "stdout",
     "output_type": "stream",
     "text": [
      " done.\n",
      "Retrieving document from  https://arxiv.org/e-print/2401.16155\n"
     ]
    },
    {
     "name": "stdout",
     "output_type": "stream",
     "text": [
      "extracting tarball to tmp_2401.16155..."
     ]
    },
    {
     "name": "stdout",
     "output_type": "stream",
     "text": [
      " done.\n"
     ]
    },
    {
     "name": "stdout",
     "output_type": "stream",
     "text": [
      "J. Mah  ->  J. Mah  |  ['J. Mah']\n"
     ]
    },
    {
     "name": "stdout",
     "output_type": "stream",
     "text": [
      "Found 93 bibliographic references in tmp_2401.16155/Andama_Mah_Bitsch_2023.bbl.\n",
      "syntax error in line 515: '=' expected\n"
     ]
    }
   ],
   "source": [
    "documents = []\n",
    "failed = []\n",
    "for paper in tqdm(candidates):\n",
    "    paper_id = paper['identifier'].lower().replace('arxiv:', '')\n",
    "    \n",
    "    folder = f'tmp_{paper_id}'\n",
    "\n",
    "    try:\n",
    "        if not os.path.isdir(folder):\n",
    "            folder = retrieve_document_source(f\"{paper_id}\", f'tmp_{paper_id}')\n",
    "        \n",
    "        try:\n",
    "            doc = latex.LatexDocument(folder, validation=validation)    \n",
    "        except AffiliationError as affilerror:\n",
    "            msg = f\"ArXiv:{paper_id:s} is not an MPIA paper... \" + str(affilerror)\n",
    "            failed.append((paper, \"affiliation error: \" + str(affilerror) ))\n",
    "            continue\n",
    "        \n",
    "        # Hack because sometimes author parsing does not work well\n",
    "        if (len(doc.authors) != len(paper['authors'])):\n",
    "            doc._authors = paper['authors']\n",
    "        else:\n",
    "            # highlight authors (FIXME: doc.highlight_authors)\n",
    "            # done on arxiv paper already\n",
    "            doc._authors = highlight_authors_in_list(\n",
    "                [mpia.get_initials(k) for k in doc.authors], \n",
    "                normed_mpia_authors, verbose=True)\n",
    "        if (doc.abstract) in (None, ''):\n",
    "            doc._abstract = paper['abstract']\n",
    "            \n",
    "        doc.comment = (get_markdown_badge(paper_id) + \n",
    "                       \"<mark>Appeared on: \" + paper['date'] + \"</mark> - \")\n",
    "        if paper['comments']:\n",
    "            doc.comment += \" _\" + paper['comments'] + \"_\"\n",
    "        \n",
    "        full_md = doc.generate_markdown_text()\n",
    "        \n",
    "        full_md += get_markdown_qrcode(paper_id)\n",
    "        \n",
    "        # replace citations\n",
    "        try:\n",
    "            bibdata = latex_bib.LatexBib.from_doc(doc)\n",
    "            full_md = latex_bib.replace_citations(full_md, bibdata)\n",
    "        except Exception as e:\n",
    "            print(e)\n",
    "        \n",
    "        documents.append((paper_id, full_md))\n",
    "    except Exception as e:\n",
    "        warnings.warn(latex.LatexWarning(f\"{paper_id:s} did not run properly\\n\" +\n",
    "                                         str(e)\n",
    "                                        ))\n",
    "        failed.append((paper, \"latex error \" + str(e)))"
   ]
  },
  {
   "cell_type": "markdown",
   "id": "2505a25c",
   "metadata": {
    "papermill": {
     "duration": 0.003954,
     "end_time": "2024-01-30T04:10:34.916619",
     "exception": false,
     "start_time": "2024-01-30T04:10:34.912665",
     "status": "completed"
    },
    "tags": []
   },
   "source": [
    "### Export the logs\n",
    "\n",
    "Throughout, we also keep track of the logs per paper. see `logs-{today date}.md` "
   ]
  },
  {
   "cell_type": "code",
   "execution_count": 5,
   "id": "d733828a",
   "metadata": {
    "execution": {
     "iopub.execute_input": "2024-01-30T04:10:34.925471Z",
     "iopub.status.busy": "2024-01-30T04:10:34.925169Z",
     "iopub.status.idle": "2024-01-30T04:10:34.941128Z",
     "shell.execute_reply": "2024-01-30T04:10:34.940490Z"
    },
    "papermill": {
     "duration": 0.022126,
     "end_time": "2024-01-30T04:10:34.942495",
     "exception": false,
     "start_time": "2024-01-30T04:10:34.920369",
     "status": "completed"
    },
    "scrolled": false,
    "tags": []
   },
   "outputs": [
    {
     "data": {
      "text/markdown": [
       "## Successful papers"
      ],
      "text/plain": [
       "<IPython.core.display.Markdown object>"
      ]
     },
     "metadata": {},
     "output_type": "display_data"
    },
    {
     "data": {
      "text/markdown": [
       "\n",
       "|||\n",
       "|---:|:---|\n",
       "| [![arXiv](https://img.shields.io/badge/arXiv-arXiv:2401.15142-b31b1b.svg)](https://arxiv.org/abs/arXiv:2401.15142) | **PHANGS-JWST: Data Processing Pipeline and First Full Public Data Release**  |\n",
       "|| T. G. Williams, et al. -- incl., <mark>E. Schinnerer</mark>, <mark>S. Hannon</mark>, <mark>J. Li</mark>, <mark>J. Neumann</mark>, <mark>N. Neumayer</mark> |\n",
       "|*Appeared on*| *2024-01-30*|\n",
       "|*Comments*| *50 pages (27 in Appendices), 54 Figures (39 in Appendices), 2 Tables. Submitted to ApJS. Data available at this https URL*|\n",
       "|**Abstract**| The exquisite angular resolution and sensitivity of JWST is opening a new window for our understanding of the Universe. In nearby galaxies, JWST observations are revolutionizing our understanding of the first phases of star formation and the dusty interstellar medium. Nineteen local galaxies spanning a range of properties and morphologies across the star-forming main sequence have been observed as part of the PHANGS-JWST Cycle 1 Treasury program at spatial scales of $\\sim$5-50pc. Here, we describe pjpipe, an image processing pipeline developed for the PHANGS-JWST program that wraps around and extends the official JWST pipeline. We release this pipeline to the community as it contains a number of tools generally useful for JWST NIRCam and MIRI observations. Particularly for extended sources, pjpipe products provide significant improvements over mosaics from the MAST archive in terms of removing instrumental noise in NIRCam data, background flux matching, and calibration of relative and absolute astrometry. We show that slightly smoothing F2100W MIRI data to 0.9\" (degrading the resolution by about 30 percent) reduces the noise by a factor of $\\approx$3. We also present the first public release (DR1.0.1) of the pjpipe processed eight-band 2-21 $\\mu$m imaging for all nineteen galaxies in the PHANGS-JWST Cycle 1 Treasury program. An additional 55 galaxies will soon follow from a new PHANGS-JWST Cycle 2 Treasury program. |"
      ],
      "text/plain": [
       "[arXiv:2401.15142] PHANGS-JWST: Data Processing Pipeline and First Full Public Data Release\n",
       "\tT. G. Williams, et al. -- incl., <mark>E. Schinnerer</mark>, <mark>S. Hannon</mark>, <mark>J. Li</mark>, <mark>J. Neumann</mark>, <mark>N. Neumayer</mark>"
      ]
     },
     "metadata": {},
     "output_type": "display_data"
    },
    {
     "data": {
      "text/markdown": [
       "\n",
       "|||\n",
       "|---:|:---|\n",
       "| [![arXiv](https://img.shields.io/badge/arXiv-arXiv:2401.15172-b31b1b.svg)](https://arxiv.org/abs/arXiv:2401.15172) | **Entropy-calibrated stellar modeling: Testing and improving the use of  prescriptions for entropy of adiabatic convection**  |\n",
       "|| L. Manchon, et al. -- incl., <mark>J. Klevas</mark> |\n",
       "|*Appeared on*| *2024-01-30*|\n",
       "|*Comments*| *18 pages, 11 figures. Submitted to Astronomy and Astrophysics, recommended for publication with minor revisions*|\n",
       "|**Abstract**| The modeling of convection is a long standing problem in stellar physics. Up-to-now, all ad hoc models rely on a free parameter alpha (among others) which has no real physical justification and is therefore poorly constrained. However, a link exists between this free parameter and the entropy of the stellar adiabat. Prescriptions, derived from 3D stellar atmospheric models, are available that provide entropy as a function of stellar atmospheric parameters (effective temperature, surface gravity, chemical composition). This can provide constraints on alpha through the development of entropy-calibrated models. Several questions arise as these models are increasingly used. Which prescription should be used? How do uncertainties impact entropy-calibrated models? We aim to study the three existing prescriptions and determine which one should be used, and how. We implemented the entropy-calibration method into the stellar evolution code Cesam2k20 and performed comparisons with the Sun and the alpha Cen system. In addition, we used data from the CIFIST grid of 3D atmosphere models to evaluate the accuracy of the prescriptions. Of the three entropy prescriptions available, we determine which one best reproduces the entropies of the 3D models. We also demonstrate that the entropy obtained from this prescription should be corrected for the evolving chemical composition and for an entropy offset different between various EoS tables, following a precise procedure, otherwise classical parameters obtained from the models will be strongly biased. Finally, we also provide table with entropy of the adiabat of the CIFIST grid, as well as fits of these entropies. We performed a precise examination of entropy-calibrated modelling, and gave recommendations on which adiabatic entropy prescription to use, how to correct it and to implement the method into a stellar evolution code. |"
      ],
      "text/plain": [
       "[arXiv:2401.15172] Entropy-calibrated stellar modeling: Testing and improving the use of  prescriptions for entropy of adiabatic convection\n",
       "\tL. Manchon, et al. -- incl., <mark>J. Klevas</mark>"
      ]
     },
     "metadata": {},
     "output_type": "display_data"
    },
    {
     "data": {
      "text/markdown": [
       "\n",
       "|||\n",
       "|---:|:---|\n",
       "| [![arXiv](https://img.shields.io/badge/arXiv-arXiv:2401.16155-b31b1b.svg)](https://arxiv.org/abs/arXiv:2401.16155) | **What stars can form planets: planetesimal formation at low metallicity**  |\n",
       "|| G. Andama, <mark>J. Mah</mark>, B. Bitsch |\n",
       "|*Appeared on*| *2024-01-30*|\n",
       "|*Comments*| *Accepted for publication in A&A*|\n",
       "|**Abstract**| The exoplanet diversity has been linked to the disc environment in which they form, where the host star metallicity and the formation pathways play a crucial role. In the context of the core accretion paradigm, the initial stages of planet formation require the growth of dust material from micrometre size to planetesimal size bodies before core accretion can kick in. Although numerous studies have been conducted on planetesimal formation, it is still poorly understood how this process takes place in low metallicity stellar environments. We explore planetesimals formation in stellar environments primarily with low metallicity. We performed global 1D viscous disc evolution simulations including grain growth, evaporation and condensation of chemical species at ice lines. We followed the formation of planetesimals during disc evolution and tested different metallicities, disc sizes and turbulent viscosity strengths. We find that at solar and sub-solar metallicities, there is a significant enhancement in the midplane dust-to-gas mass ratios at the ice lines but this leads to planetesimal formation only at the water ice line. In our simulations, [Fe/H] = -0.6 is the lowest limit of metallicity for planetesimal formation where a few Earth masses of planetesimals could form. For such extreme disc environments, large discs are more conducive than small discs for forming large amounts of planetesimals at a fixed metallicity, because the pebble flux can be maintained for a longer time resulting in a longer and more efficient planetesimal formation phase. At lower metallicities, planetesimal formation is less supported in quiescent discs compared to turbulent discs, because the pebble flux can be maintained for a longer time. The amount of planetesimals formed at sub-solar metallicities in our simulations places a limit on core sizes that could possibly only result in the formation of super-Earths. |"
      ],
      "text/plain": [
       "[arXiv:2401.16155] What stars can form planets: planetesimal formation at low metallicity\n",
       "\tG. Andama, <mark>J. Mah</mark>, B. Bitsch"
      ]
     },
     "metadata": {},
     "output_type": "display_data"
    },
    {
     "data": {
      "text/markdown": [
       "## Failed papers"
      ],
      "text/plain": [
       "<IPython.core.display.Markdown object>"
      ]
     },
     "metadata": {},
     "output_type": "display_data"
    },
    {
     "data": {
      "text/markdown": [
       "\n",
       "|||\n",
       "|---:|:---|\n",
       "| [![arXiv](https://img.shields.io/badge/arXiv-arXiv:2401.15149-b31b1b.svg)](https://arxiv.org/abs/arXiv:2401.15149) | **$ω$ Centauri: A MUSE discovery of a counter-rotating core**  |\n",
       "|| R. Pechetti, et al. -- incl., <mark>N. Neumayer</mark> |\n",
       "|*Appeared on*| *2024-01-30*|\n",
       "|*Comments*| *Accepted for publication in MNRAS, 16 pages, 9 figures*|\n",
       "|**Abstract**| $\\omega$ Centauri is considered the most massive globular cluster of the Milky Way and likely the former nuclear star cluster of a galaxy accreted by the Milky Way. It is speculated to contain an intermediate-mass black hole (IMBH) from several dynamical models. However, uncertainties regarding the location of the cluster center or the retention of stellar remnants limit the robustness of the IMBH detections reported so far. In this paper, we derive and study the stellar kinematics from the highest-resolution spectroscopic data yet, using the Multi Unit Spectroscopic Explorer (MUSE) in the narrow field mode (NFM) and wide field mode (WFM). Our exceptional data near the center reveal for the first time that stars within the inner 20\" ($\\sim$0.5 pc) counter-rotate relative to the bulk rotation of the cluster. Using this dataset, we measure the rotation and line-of-sight velocity dispersion (LOSVD) profile out to 120$''$ with different centers proposed in the literature. We find that the velocity dispersion profiles using different centers match well with those previously published. Based on the counter--rotation, we determine a kinematic center and look for any signs of an IMBH using the high-velocity stars close to the center. We do not find any significant outliers $>$60 km/s within the central 20$''$, consistent with no IMBH being present at the center of $\\omega$ Centauri. A detailed analysis of Jeans' modeling of the putative IMBH will be presented in the next paper of the series. |\n",
       "|<p style=\"color:green\"> **ERROR** </p>| <p style=\"color:green\">affiliation error: mpia.affiliation_verifications: '69117' keyword not found.</p> |"
      ],
      "text/plain": [
       "<IPython.core.display.Markdown object>"
      ]
     },
     "metadata": {},
     "output_type": "display_data"
    },
    {
     "data": {
      "text/markdown": [
       "\n",
       "|||\n",
       "|---:|:---|\n",
       "| [![arXiv](https://img.shields.io/badge/arXiv-arXiv:2401.15438-b31b1b.svg)](https://arxiv.org/abs/arXiv:2401.15438) | **Relations of rotation and chromospheric activity to stellar age for FGK  dwarfs from Kepler and LAMOST**  |\n",
       "|| L. Ye, et al. -- incl., <mark>X. Zhang</mark> |\n",
       "|*Appeared on*| *2024-01-30*|\n",
       "|*Comments*| **|\n",
       "|**Abstract**| The empirical relations between rotation period, chromospheric activity, and age can be used to estimate stellar age. To calibrate these relations, we present a catalog, including the masses and ages of 52,321 FGK dwarfs, 47,489 chromospheric activity index $logR^{+}_{HK}$, 6,077 rotation period $P_{rot}$ and variability amplitude $S_{ph}$, based on data from LAMOST DR7, Kepler and Gaia DR3. We find a pronounced correlation among $P_{rot}$, age, and [Fe/H] throughout the main-sequence phase for F dwarfs. However, the decrease of $logR^{+}_{HK}$ over time is not significant except for those with [Fe/H] $<$ $-$0.1. For G dwarfs, both $P_{rot}$ and $logR^{+}_{HK}$ are reliable age probes in the ranges $\\sim$ 2-11 Gyr and $\\sim$ 2-13 Gyr, respectively. K dwarfs exhibit a prominent decrease in $logR^{+}_{HK}$ within the age range of $\\sim$ 3-13 Gyr when the relation of $P_{rot}-\\tau$ is invalid. These relations are very important for promptly estimating the age of a vast number of stars, thus serving as a powerful tool in advancing the fields of exoplanet properties, stellar evolution, and Galactic-archaeology. |\n",
       "|<p style=\"color:green\"> **ERROR** </p>| <p style=\"color:green\">affiliation error: mpia.affiliation_verifications: 'Heidelberg' keyword not found.</p> |"
      ],
      "text/plain": [
       "<IPython.core.display.Markdown object>"
      ]
     },
     "metadata": {},
     "output_type": "display_data"
    }
   ],
   "source": [
    "import datetime\n",
    "today = str(datetime.date.today())\n",
    "logfile = f\"_build/html/logs/log-{today}.md\"\n",
    "\n",
    "\n",
    "with open(logfile, 'w') as logs:\n",
    "    # Success\n",
    "    logs.write(f'# Arxiv on Deck 2: Logs - {today}\\n\\n')\n",
    "    logs.write(\"\"\"* Arxiv had {0:,d} new papers\\n\"\"\".format(len(new_papers)))\n",
    "    logs.write(\"\"\"    * {0:,d} with possible author matches\\n\\n\"\"\".format(len(candidates)))\n",
    "    logs.write(\"## Sucessful papers\\n\\n\")\n",
    "    display(Markdown(\"## Successful papers\"))\n",
    "    success = [k[0] for k in documents]\n",
    "    for candid in candidates:\n",
    "        if candid['identifier'].split(':')[-1] in success:\n",
    "            display(candid)\n",
    "            logs.write(candid.generate_markdown_text() + '\\n\\n')\n",
    "\n",
    "    ## failed\n",
    "    logs.write(\"## Failed papers\\n\\n\")\n",
    "    display(Markdown(\"## Failed papers\"))\n",
    "    failed = sorted(failed, key=lambda x: x[1])\n",
    "    current_reason = \"\"\n",
    "    for paper, reason in failed:\n",
    "        if 'affiliation' in reason:\n",
    "            color = 'green'\n",
    "        else:\n",
    "            color = 'red'\n",
    "        data = Markdown(\n",
    "                paper.generate_markdown_text() + \n",
    "                f'\\n|<p style=\"color:{color:s}\"> **ERROR** </p>| <p style=\"color:{color:s}\">{reason:s}</p> |'\n",
    "               )\n",
    "        if reason != current_reason:\n",
    "            logs.write(f'### {reason:s} \\n\\n')\n",
    "            current_reason = reason\n",
    "        logs.write(data.data + '\\n\\n')\n",
    "        \n",
    "        # only display here the important errors (all in logs)\n",
    "        # if color in ('red',):\n",
    "        display(data)"
   ]
  },
  {
   "cell_type": "markdown",
   "id": "472d20ee",
   "metadata": {
    "papermill": {
     "duration": 0.004482,
     "end_time": "2024-01-30T04:10:34.951556",
     "exception": false,
     "start_time": "2024-01-30T04:10:34.947074",
     "status": "completed"
    },
    "tags": []
   },
   "source": [
    "## Export documents\n",
    "\n",
    "We now write the .md files and export relevant images"
   ]
  },
  {
   "cell_type": "code",
   "execution_count": 6,
   "id": "d426aed9",
   "metadata": {
    "execution": {
     "iopub.execute_input": "2024-01-30T04:10:34.961594Z",
     "iopub.status.busy": "2024-01-30T04:10:34.961215Z",
     "iopub.status.idle": "2024-01-30T04:10:34.967517Z",
     "shell.execute_reply": "2024-01-30T04:10:34.966972Z"
    },
    "papermill": {
     "duration": 0.012778,
     "end_time": "2024-01-30T04:10:34.968784",
     "exception": false,
     "start_time": "2024-01-30T04:10:34.956006",
     "status": "completed"
    },
    "tags": []
   },
   "outputs": [],
   "source": [
    "def export_markdown_summary(md: str, md_fname:str, directory: str):\n",
    "    \"\"\"Export MD document and associated relevant images\"\"\"\n",
    "    import os\n",
    "    import shutil\n",
    "    import re\n",
    "\n",
    "    if (os.path.exists(directory) and not os.path.isdir(directory)):\n",
    "        raise RuntimeError(f\"a non-directory file exists with name {directory:s}\")\n",
    "\n",
    "    if (not os.path.exists(directory)):\n",
    "        print(f\"creating directory {directory:s}\")\n",
    "        os.mkdir(directory)\n",
    "\n",
    "    fig_fnames = (re.compile(r'\\[Fig.*\\]\\((.*)\\)').findall(md) + \n",
    "                  re.compile(r'\\<img src=\"([^>\\s]*)\"[^>]*/>').findall(md))\n",
    "    for fname in fig_fnames:\n",
    "        if 'http' in fname:\n",
    "            # No need to copy online figures\n",
    "            continue\n",
    "        destdir = os.path.join(directory, os.path.dirname(fname))\n",
    "        destfname = os.path.join(destdir, os.path.basename(fname))\n",
    "        try:\n",
    "            os.makedirs(destdir)\n",
    "        except FileExistsError:\n",
    "            pass\n",
    "        shutil.copy(fname, destfname)\n",
    "    with open(os.path.join(directory, md_fname), 'w') as fout:\n",
    "        fout.write(md)\n",
    "    print(\"exported in \", os.path.join(directory, md_fname))\n",
    "    [print(\"    + \" + os.path.join(directory,fk)) for fk in fig_fnames]"
   ]
  },
  {
   "cell_type": "code",
   "execution_count": 7,
   "id": "014d04a4",
   "metadata": {
    "execution": {
     "iopub.execute_input": "2024-01-30T04:10:34.978976Z",
     "iopub.status.busy": "2024-01-30T04:10:34.978583Z",
     "iopub.status.idle": "2024-01-30T04:10:34.991227Z",
     "shell.execute_reply": "2024-01-30T04:10:34.990679Z"
    },
    "papermill": {
     "duration": 0.01911,
     "end_time": "2024-01-30T04:10:34.992553",
     "exception": false,
     "start_time": "2024-01-30T04:10:34.973443",
     "status": "completed"
    },
    "tags": []
   },
   "outputs": [
    {
     "name": "stdout",
     "output_type": "stream",
     "text": [
      "exported in  _build/html/2401.15142.md\n",
      "    + _build/html/tmp_2401.15142/figs/mast_comparison/ngc0628_mast_comparison.png\n",
      "    + _build/html/tmp_2401.15142/figs/mosaics/ngc0628_mosaics.png\n",
      "    + _build/html/tmp_2401.15142/figs/early_science/ngc0628_early_science_comparison.png\n",
      "exported in  _build/html/2401.15172.md\n",
      "    + _build/html/tmp_2401.15172/./figures/horiz_plot_error_magic-cifist_3x2.png\n",
      "    + _build/html/tmp_2401.15172/./figures/ttau32.png\n",
      "    + _build/html/tmp_2401.15172/./figures/combined_acen_RL_alpha_dcz.png\n",
      "exported in  _build/html/2401.16155.md\n",
      "    + _build/html/tmp_2401.16155/./Figures/fig1_sigma_draz_rc100_alpha4.png\n",
      "    + _build/html/tmp_2401.16155/./Figures/fig2_sigma_draz_rc100_alpha3.png\n",
      "    + _build/html/tmp_2401.16155/./Figures/fig5_Mass_vs_t_rc_draz.png\n"
     ]
    }
   ],
   "source": [
    "for paper_id, md in documents:\n",
    "    export_markdown_summary(md, f\"{paper_id:s}.md\", '_build/html/')"
   ]
  },
  {
   "cell_type": "markdown",
   "id": "f087a0a7",
   "metadata": {
    "papermill": {
     "duration": 0.004584,
     "end_time": "2024-01-30T04:10:35.001844",
     "exception": false,
     "start_time": "2024-01-30T04:10:34.997260",
     "status": "completed"
    },
    "tags": []
   },
   "source": [
    "## Display the papers\n",
    "\n",
    "Not necessary but allows for a quick check."
   ]
  },
  {
   "cell_type": "code",
   "execution_count": 8,
   "id": "fd25f625",
   "metadata": {
    "execution": {
     "iopub.execute_input": "2024-01-30T04:10:35.012144Z",
     "iopub.status.busy": "2024-01-30T04:10:35.011706Z",
     "iopub.status.idle": "2024-01-30T04:10:35.018754Z",
     "shell.execute_reply": "2024-01-30T04:10:35.018212Z"
    },
    "papermill": {
     "duration": 0.013644,
     "end_time": "2024-01-30T04:10:35.020064",
     "exception": false,
     "start_time": "2024-01-30T04:10:35.006420",
     "status": "completed"
    },
    "scrolled": false,
    "tags": []
   },
   "outputs": [
    {
     "data": {
      "text/markdown": [
       "<div class=\"macros\" style=\"visibility:hidden;\">\n",
       "$\\newcommand{\\ensuremath}{}$\n",
       "$\\newcommand{\\xspace}{}$\n",
       "$\\newcommand{\\object}[1]{\\texttt{#1}}$\n",
       "$\\newcommand{\\farcs}{{.}''}$\n",
       "$\\newcommand{\\farcm}{{.}'}$\n",
       "$\\newcommand{\\arcsec}{''}$\n",
       "$\\newcommand{\\arcmin}{'}$\n",
       "$\\newcommand{\\ion}[2]{#1#2}$\n",
       "$\\newcommand{\\textsc}[1]{\\textrm{#1}}$\n",
       "$\\newcommand{\\hl}[1]{\\textrm{#1}}$\n",
       "$\\newcommand{\\footnote}[1]{}$\n",
       "$\\newcommand{\\vdag}{(v)^\\dagger}$\n",
       "$\\newcommand$\n",
       "$\\newcommand$\n",
       "$\\newcommand{\\onef}{1/f}$\n",
       "$\\newcommand{\\pipename}{{\\tt pjpipe}\\xspace}$\n",
       "$\\newcommand{\\Ox}{Sub-department of Astrophysics, Department of Physics, University of Oxford, Keble Road, Oxford OX1 3RH, UK}$\n",
       "$\\newcommand{\\UGent}{Sterrenkundig Observatorium, Universiteit Gent, Krijgslaan 281 S9, B-9000 Gent, Belgium}$\n",
       "$\\newcommand{\\STScI}{Space Telescope Science Institute, 3700 San Martin Drive, Baltimore, MD 21218, USA}$\n",
       "$\\newcommand{\\MPIA}{Max-Planck-Institut für Astronomie, Königstuhl 17, D-69117, Heidelberg, Germany}$\n",
       "$\\newcommand{\\AURA}{AURA for the European Space Agency (ESA), Space Telescope Science Institute, 3700 San Martin Drive, Baltimore, MD 21218, USA}$\n",
       "$\\newcommand{\\UCSD}{Department of Astronomy \\& Astrophysics, University of California, San Diego, 9500 Gilman Dr., La Jolla, CA 92093, USA}$\n",
       "$\\newcommand{\\JHU}{Department of Physics and Astronomy, The Johns Hopkins University, Baltimore, MD 21218, USA}$\n",
       "$\\newcommand{\\OSU}{Department of Astronomy, The Ohio State University, 140 West 18th Avenue, Columbus, OH 43210, USA}$\n",
       "$\\newcommand{ÇAPP}{Center for Cosmology and Astroparticle Physics (CCAPP), 191 West Woodruff Avenue, Columbus, OH 43210, USA}$\n",
       "$\\newcommand{\\ARI}{Astronomisches Rechen-Institut, Zentrum für Astronomie der Universität Heidelberg, Mönchhofstr. 12-14, D-69120 Heidelberg, Germany}$\n",
       "$\\newcommand{\\UConn}{Department of Physics, University of Connecticut, 196A Auditorium Road, Storrs, CT 06269, USA}$\n",
       "$\\newcommand{\\UHawaii}{Institute for Astronomy, University of Hawaii, 2680 Woodlawn Drive, Honolulu, HI 96822, USA}$\n",
       "$\\newcommand{\\UniCA}{Université C\\^{o}te d'Azur, Observatoire de la C\\^{o}te d'Azur, CNRS, Laboratoire Lagrange, 06000, Nice, France}$\n",
       "$\\newcommand{\\UAlberta}{Dept. of Physics, University of Alberta, 4-183 CCIS, Edmonton, Alberta, T6G 2E1, Canada}$\n",
       "$\\newcommand{\\Arcetri}{INAF — Osservatorio Astrofisico di Arcetri, Largo E. Fermi 5, I-50125, Florence, Italy}$\n",
       "$\\newcommand{\\UWyoming}{Department of Physics and Astronomy, University of Wyoming, Laramie, WY 82071, USA}$\n",
       "$\\newcommand{\\LJMU}{Astrophysics Research Institute, Liverpool John Moores University, 146 Brownlow Hill, Liverpool L3 5RF, UK}$\n",
       "$\\newcommand{\\ITA}{Universität Heidelberg, Zentrum für Astronomie, Institut für Theoretische Astrophysik, Albert-Ueberle-Str 2, D-69120 Heidelberg, Germany}$\n",
       "$\\newcommand{\\CfA}{Center for Astrophysics \\mid Harvard \\& Smithsonian, 60 Garden St., 02138 Cambridge, MA, USA}$\n",
       "$\\newcommand{\\MPE}{Max-Planck-Institut für Extraterrestrische Physik (MPE), Giessenbachstr. 1, D-85748 Garching, Germany}$\n",
       "$\\newcommand{\\Surrey}{Department of Physics, University of Surrey, Guildford GU2 7XH, UK}$\n",
       "$\\newcommand{\\ESO}{European Southern Observatory, Karl-Schwarzschild Stra{\\ss}e 2, D-85748 Garching bei München, Germany}$\n",
       "$\\newcommand{\\IWR}{Universität Heidelberg, Interdisziplinäres Zentrum für Wissenschaftliches Rechnen, Im Neuenheimer Feld 205, D-69120 Heidelberg, Germany}$\n",
       "$\\newcommand{\\ulyon}{Univ Lyon, Univ Lyon1, ENS de Lyon, CNRS, Centre de Recherche Astrophysique de Lyon UMR5574, F-69230 Saint-Genis-Laval France}$\n",
       "$\\newcommand{\\COOL}{Cosmic Origins Of Life (COOL) Research DAO, coolresearch.io}$\n",
       "$\\newcommand{\\OAN}{Observatorio Astron{ó}mico Nacional (IGN), C/ Alfonso XII 3, E-28014 Madrid, Spain}$\n",
       "$\\newcommand{\\UBonn}{Argelander-Institut für Astronomie, Universität Bonn, Auf dem Hügel 71, 53121 Bonn, Germany}$\n",
       "$\\newcommand{\\kipac}{Kavli Institute for Particle Astrophysics \\& Cosmology (KIPAC), Stanford University, CA 94305, USA}$\n",
       "$\\newcommand{\\Umanc}{Jodrell Bank Centre for Astrophysics, Department of Physics and Astronomy, University of Manchester, Oxford Road, Manchester M13 9PL, UK}$\n",
       "$\\newcommand{\\NRAO}{National Radio Astronomy Observatory, 520 Edgemont Road, Charlottesville, VA 22903, USA}$\n",
       "$\\newcommand{\\ANU}{Research School of Astronomy and Astrophysics, Australian National University, Canberra, ACT 2611, Australia}$\n",
       "$\\newcommand{\\AThreeD}{ARC Centre of Excellence for All Sky Astrophysics in 3 Dimensions (ASTRO 3D), Australia}$\n",
       "$\\newcommand{\\Whitman}{Whitman College, 345 Boyer Avenue, Walla Walla, WA 99362, USA}$\n",
       "$\\newcommand{\\IAC}{Instituto de Astrofísica de Canarias, C/ Vía Láctea s/n, E-38205, La Laguna, Spain}$\n",
       "$\\newcommand{\\ULL}{Departamento de Astrofísica, Universidad de La Laguna, Av. del Astrofísico Francisco Sánchez s/n, E-38206, La Laguna, Spain}$\n",
       "$\\newcommand{\\Princeton}{Department of Astrophysical Sciences, Princeton University, 4 Ivy Lane, Princeton, NJ 08544, USA}$\n",
       "$\\newcommand{\\IRAM}{IRAM, 300 rue de la Piscine, 38400 Saint Martin d'Héres, France}$\n",
       "$\\newcommand{\\LERMA}{LERMA, Observatoire de Paris, PSL Research University, CNRS, Sorbonne Universités, 75014 Paris}$\n",
       "$\\newcommand{\\YB}{Centro de Desarrollos Tecnológicos, Observatorio de Yebes (IGN), 19141 Yebes, Guadalajara, Spain}$</div>\n",
       "\n",
       "\n",
       "\n",
       "<div id=\"title\">\n",
       "\n",
       "# PHANGS-$_ JWST_$: Data Processing Pipeline and First Full Public Data Release\n",
       "\n",
       "</div>\n",
       "<div id=\"comments\">\n",
       "\n",
       "[![arXiv](https://img.shields.io/badge/arXiv-2401.15142-b31b1b.svg)](https://arxiv.org/abs/2401.15142)<mark>Appeared on: 2024-01-30</mark> -  _50 pages (27 in Appendices), 54 Figures (39 in Appendices), 2 Tables. Submitted to ApJS. Data available at this https URL_\n",
       "\n",
       "</div>\n",
       "<div id=\"authors\">\n",
       "\n",
       "T. G. Williams, et al. -- incl., <mark>E. Schinnerer</mark>, <mark>S. Hannon</mark>, <mark>J. Li</mark>, <mark>J. Neumann</mark>, <mark>N. Neumayer</mark>\n",
       "\n",
       "</div>\n",
       "<div id=\"abstract\">\n",
       "\n",
       "**Abstract:** The exquisite angular resolution and sensitivity of $_ JWST_$ is opening a new window for our understanding of the Universe. In nearby galaxies, $_ JWST_$ observations are revolutionizing our understanding of the first phases of star formation and the dusty interstellar medium. Nineteen local galaxies spanning a range of properties and morphologies across the star-forming main sequence have been observed as part of the PHANGS- $_ JWST_$ Cycle 1 Treasury program at spatial scales of $\\sim$ 5--50 pc.  Here, we describe $\\pipename$ , an image processing pipeline developed for the PHANGS- $_ JWST_$ program that wraps around and extends the official $_ JWST_$ pipeline. We release this pipeline to the community as it contains a number of tools generally useful for $_ JWST_$ NIRCam and MIRI observations. Particularly for extended sources, $\\pipename$ products provide significant improvements over mosaics from the MAST archive in terms of removing instrumental noise in NIRCam data, background flux matching, and calibration of relative and absolute astrometry. We show that slightly smoothing F2100W MIRI data to 0 $\\farcs$ 9 (degrading the resolution by about 30 percent) reduces the noise by a factor of $\\approx$ 3. We also present the first public release (DR1.0.1) of the $\\pipename$ processed eight-band 2-21 $\\mu$ m imaging for all nineteen galaxies in the PHANGS- $_ JWST_$ Cycle 1 Treasury program. An additional 55 galaxies will soon follow from a new PHANGS- $_ JWST_$ Cycle 2 Treasury program.\n",
       "\n",
       "</div>\n",
       "\n",
       "<div id=\"div_fig1\">\n",
       "\n",
       "<img src=\"tmp_2401.15142/figs/mast_comparison/ngc0628_mast_comparison.png\" alt=\"Fig15\" width=\"100%\"/>\n",
       "\n",
       "**Figure 15. -** Comparison between our reprocessing and Level Three MAST-obtained mosaics for NGC 628. The difference here is the MAST version subtracted from our reprocessed version, after reprojecting to the same WCS. As can be seen, the astrometry is somewhat different in NIRCam, and the striping in the MAST mosaic is clear. The background levels are substantially different in the MIRI bands, due to a combination of our improved background matching algorithm and the fact that the MAST mosaics do not include our dedicated background observations. (*fig:mast_comparison*)\n",
       "\n",
       "</div>\n",
       "<div id=\"div_fig2\">\n",
       "\n",
       "<img src=\"tmp_2401.15142/figs/mosaics/ngc0628_mosaics.png\" alt=\"Fig10\" width=\"100%\"/>\n",
       "\n",
       "**Figure 10. -** Final mosaics for each band for NGC 628. NIRCam filters are shown in the top row, and MIRI on the bottom. Each image is on a linear stretch between the $2^{\\rm nd}$ and $98^{\\rm th}$ percentiles of the pixel distribution, to highlight the fainter structure in the images. (*fig:final_mosaics*)\n",
       "\n",
       "</div>\n",
       "<div id=\"div_fig3\">\n",
       "\n",
       "<img src=\"tmp_2401.15142/figs/early_science/ngc0628_early_science_comparison.png\" alt=\"Fig14\" width=\"100%\"/>\n",
       "\n",
       "**Figure 14. -** Comparison between our latest reprocessing and our early science mosaic for NGC 628. The difference here is the early science version subtracted from our latest reprocessed version, after reprojecting to the same WCS. There are significant differences in the short NIRCam band, caused by both background level matching and our new destriping method. At long NIRCam wavelengths, the differences are relatively minor. For MIRI, the improved calibration shows up as a galaxy imprint (most clear at F770W). Differences in astrometry show neighboring red/blue shifts and the background matching algorithm shows clear steps between mosaic tiles. (*fig:early_sci_comparison*)\n",
       "\n",
       "</div><div id=\"qrcode\"><img src=https://api.qrserver.com/v1/create-qr-code/?size=100x100&data=\"https://arxiv.org/abs/2401.15142\"></div>"
      ],
      "text/plain": [
       "<IPython.core.display.Markdown object>"
      ]
     },
     "metadata": {},
     "output_type": "display_data"
    },
    {
     "data": {
      "text/markdown": [
       "<div class=\"macros\" style=\"visibility:hidden;\">\n",
       "$\\newcommand{\\ensuremath}{}$\n",
       "$\\newcommand{\\xspace}{}$\n",
       "$\\newcommand{\\object}[1]{\\texttt{#1}}$\n",
       "$\\newcommand{\\farcs}{{.}''}$\n",
       "$\\newcommand{\\farcm}{{.}'}$\n",
       "$\\newcommand{\\arcsec}{''}$\n",
       "$\\newcommand{\\arcmin}{'}$\n",
       "$\\newcommand{\\ion}[2]{#1#2}$\n",
       "$\\newcommand{\\textsc}[1]{\\textrm{#1}}$\n",
       "$\\newcommand{\\hl}[1]{\\textrm{#1}}$\n",
       "$\\newcommand{\\footnote}[1]{}$\n",
       "$\\newcommand{\\corr}[1]{#1}$\n",
       "$\\newcommand$\n",
       "$\\newcommand$\n",
       "$\\newcommand$\n",
       "$\\newcommand$\n",
       "$\\newcommand{\\clouis}[1]{{\\bf\\color{louis}#1}}$\n",
       "$\\newcommand{\\cfederico}[1]{{\\bf\\color{federico}#1}}$\n",
       "$\\newcommand{\\cmorgan}[1]{{\\bf\\color{morgan}#1}}$\n",
       "$\\newcommand{\\cmjo}[1]{{\\bf\\color{mjo}#1}}$\n",
       "$\\newcommand{\\caldo}[1]{{\\bf\\color{aldo}#1}}$\n",
       "$\\newcommand{\\caldotwo}[1]{{\\bf\\color{aldotwo}#1}}$\n",
       "$\\newcommand{\\cyveline}[1]{{\\bf\\color{yveline}#1}}$\n",
       "$\\newcommand{\\chans}[1]{{\\bf\\color{hans}#1}}$\n",
       "$\\newcommand{\\cjosefina}[1]{{\\bf\\color{josefina}#1}}$\n",
       "$\\newcommand{\\claurent}[1]{{\\bf\\color{laurent}#1}}$\n",
       "$\\newcommand{\\}{eos}$\n",
       "$\\newcommand{\\}{amlt}$\n",
       "$\\newcommand{\\}{afst}$\n",
       "$\\newcommand{\\}{cesampp}$\n",
       "$\\newcommand{\\}{stagger}$\n",
       "$\\newcommand{\\}{cobold}$\n",
       "$\\newcommand{\\}{acen}$\n",
       "$\\newcommand{\\}{feh}$\n",
       "$\\newcommand{\\}{sad}$\n",
       "$\\newcommand{\\}{spresc}$\n",
       "$\\newcommand{\\}{sbot}$\n",
       "$\\newcommand{\\}{srhd}$\n",
       "$\\newcommand{\\}{presc}$\n",
       "$\\newcommand{\\}{ds}$\n",
       "$\\newcommand{\\}{teff}$\n",
       "$\\newcommand{\\}{logteff}$\n",
       "$\\newcommand{\\}{logg}$\n",
       "$\\newcommand{\\}{erg}$\n",
       "$\\newcommand{\\}{K}$\n",
       "$\\newcommand{\\}{sunit}$\n",
       "$\\newcommand{\\}{punit}$\n",
       "$\\newcommand{\\}{lunit}$\n",
       "$\\newcommand{\\}{rhounit}$\n",
       "$\\newcommand{\\}{gunit}$\n",
       "$\\newcommand{\\}{Tunit}$\n",
       "$\\newcommand{\\}{ttau}$</div>\n",
       "\n",
       "\n",
       "\n",
       "<div id=\"title\">\n",
       "\n",
       "# Entropy-calibrated stellar modeling: Testing and improving the use of prescriptions for entropy of adiabatic convection\n",
       "\n",
       "</div>\n",
       "<div id=\"comments\">\n",
       "\n",
       "[![arXiv](https://img.shields.io/badge/arXiv-2401.15172-b31b1b.svg)](https://arxiv.org/abs/2401.15172)<mark>Appeared on: 2024-01-30</mark> -  _18 pages, 11 figures. Submitted to Astronomy and Astrophysics, recommended for publication with minor revisions_\n",
       "\n",
       "</div>\n",
       "<div id=\"authors\">\n",
       "\n",
       "L. Manchon, et al. -- incl., <mark>J. Klevas</mark>\n",
       "\n",
       "</div>\n",
       "<div id=\"abstract\">\n",
       "\n",
       "**Abstract:** The modeling of convection is a long standing problem in stellar physics. Up-to-now, all _ad hoc_ models rely on a free parameter $\\alpha$ (among others) which has no real physical justification and is therefore poorly constrained. However, a link exists between this free parameter and the entropy of the stellar adiabat. Prescriptions, derived from 3D stellar atmospheric models, are available that provide entropy as a function of stellar atmospheric parameters (effective temperature, surface gravity, chemical composition). This can provide constraints on $\\alpha$ through the development of entropy-calibrated models. Several questions arise as these models are increasingly used.    Which prescription should be used? Should they be used in there original form? How do uncertainties impact entropy-calibrated models? We aim to study in detail the three existing prescriptions and determine which one should be used, and how. We implemented the entropy-calibration method into the stellar evolution code ( $\\cesampp$ ) and performed comparisons with the Sun and the $\\acen$ system. ${In addition, we used data from the CIFIST grid of 3D atmosphere models to evaluate the accuracy of the prescriptions.}$ Of three entropy prescriptions available, we determine which has the best functional form for reproducing the entropies of the 3D models.  However, the coefficients involved in this formulation must not be taken from the original paper, because they were calibrated against an improper set of entropies. We also demonstrate that the entropy obtained from this prescription should be corrected for the evolving chemical composition and for an entropy offset different between various EoS tables, following a precise procedure, otherwise classical parameters obtained from the models will be strongly biased. Finally, we also provide table with entropy of the adiabat of the CIFIST grid, as well as fits of these entropies. We performed a precise examination of entropy-calibrated modelling, and we gave recommendations on which adiabatic entropy prescription to use, how to correct it and how to implement the method into a stellar evolution code.\n",
       "\n",
       "</div>\n",
       "\n",
       "<div id=\"div_fig1\">\n",
       "\n",
       "<img src=\"tmp_2401.15172/./figures/horiz_plot_error_magic-cifist_3x2.png\" alt=\"Fig8\" width=\"100%\"/>\n",
       "\n",
       "**Figure 8. -** Specific entropy differences in the adiabat $\\Delta s^\\presc \\equiv s_{\\rm RHD} - s_{\\rm presc}$ between values provided by the CIFIST grid  ([Ludwig, Caffau and Steffen 2009]()) , and values predicted by the M13 prescription, Eq. \\eqref{eq:s_mag}. Left column: orignal coefficients from  ([Magic, Collet and Asplund 2013]())  are used. Here, entropy from the CIFIST grid has been corrected by an offset of $0.04794\\cdot\\sunit$ corresponding to the entropy difference between the solar atmosphere models in the CIFIST and \\stagger grids. Right columns: Same as left column but the coefficients involved in the M13 mathematical form have been re-calibrated with the CIFIST entropies. Rows: Each row displays models with a given metallicity: $\\feh = +0.0$(1\\st row), $-1.0$(2\\nd row) and $-2.0$(3\\rd row). (*fig:error_magic*)\n",
       "\n",
       "</div>\n",
       "<div id=\"div_fig2\">\n",
       "\n",
       "<img src=\"tmp_2401.15172/./figures/ttau32.png\" alt=\"Fig10\" width=\"100%\"/>\n",
       "\n",
       "**Figure 10. -** Top left panel: Comparison of luminosity (solid lines) and effective temperature (dashed lines), for four models computed with different choices of $T(\\tau)$ relation. The displayed quantity is the relative difference of $L$ or $\\teff$, with respect to model computed with the Eddington $T(\\tau)$ relation: $\\delta X \\equiv (X_{T(\\tau)} - X_{\\rm Edding.}) / X_{\\rm Edding.}$. Top right panel: same as top left panel but, in the case where $X \\equiv \\sad$, we display the absolute difference. Indeed, $\\sad$ being defined up to a constant, the relative difference would have no meaning. $\\Delta s^\\presc$ is in the units: $\\sunit$. Bottom left panel: Evolution of $\\amlt$ for different $T(\\tau)$ relations: Eddington (blue), [Vernazza, Avrett and Loeser (1981)]()(green) and [ and Ball (2021)]()(red). Bottom right panel: Temperature as a function of the pressure for the same four final models, at solar age. (*fig:ttau*)\n",
       "\n",
       "</div>\n",
       "<div id=\"div_fig3\">\n",
       "\n",
       "<img src=\"tmp_2401.15172/./figures/combined_acen_RL_alpha_dcz.png\" alt=\"Fig11\" width=\"100%\"/>\n",
       "\n",
       "**Figure 11. -** First row: Evolutionary tracks for \\acen A (left panel) and \\acen B (right panel) on the $R - L$ plane. Tracks computed in the present work are represented as solid lines, while the one from [ and Spada (2019)]() are drawn as dashed lines. Standard models are in blue and EC models in orange. Second row: Evolution of $\\amlt$ as a function of age for the same models. Third row: Evolution of the convective envelope depth along evolution. (*fig:rl_alpha_dcz*)\n",
       "\n",
       "</div><div id=\"qrcode\"><img src=https://api.qrserver.com/v1/create-qr-code/?size=100x100&data=\"https://arxiv.org/abs/2401.15172\"></div>"
      ],
      "text/plain": [
       "<IPython.core.display.Markdown object>"
      ]
     },
     "metadata": {},
     "output_type": "display_data"
    },
    {
     "data": {
      "text/markdown": [
       "<div class=\"macros\" style=\"visibility:hidden;\">\n",
       "$\\newcommand{\\ensuremath}{}$\n",
       "$\\newcommand{\\xspace}{}$\n",
       "$\\newcommand{\\object}[1]{\\texttt{#1}}$\n",
       "$\\newcommand{\\farcs}{{.}''}$\n",
       "$\\newcommand{\\farcm}{{.}'}$\n",
       "$\\newcommand{\\arcsec}{''}$\n",
       "$\\newcommand{\\arcmin}{'}$\n",
       "$\\newcommand{\\ion}[2]{#1#2}$\n",
       "$\\newcommand{\\textsc}[1]{\\textrm{#1}}$\n",
       "$\\newcommand{\\hl}[1]{\\textrm{#1}}$\n",
       "$\\newcommand{\\footnote}[1]{}$</div>\n",
       "\n",
       "\n",
       "\n",
       "<div id=\"title\">\n",
       "\n",
       "# What stars can form planets: planetesimal formation at low metallicity\n",
       "\n",
       "</div>\n",
       "<div id=\"comments\">\n",
       "\n",
       "[![arXiv](https://img.shields.io/badge/arXiv-2401.16155-b31b1b.svg)](https://arxiv.org/abs/2401.16155)<mark>Appeared on: 2024-01-30</mark> -  _Accepted for publication in A&A_\n",
       "\n",
       "</div>\n",
       "<div id=\"authors\">\n",
       "\n",
       "G. Andama, <mark>J. Mah</mark>, B. Bitsch\n",
       "\n",
       "</div>\n",
       "<div id=\"abstract\">\n",
       "\n",
       "**Abstract:** The exoplanet diversity has been linked to the disc environment in which they form, where the host star metallicity and the formation pathways play a crucial role. In the context of the core accretion paradigm, the initial stages of planet formation require the growth of dust material from micrometre size to planetesimal size bodies before core accretion can kick in. Although numerous studies have been conducted on planetesimal formation, it is still poorly understood how this process takes place in low metallicity stellar environments. In this work, we explore how planetesimals are formed in stellar environments primarily with low metallicity. We performed global 1D viscous disc evolution simulations including growth of dust particles,  evaporation and condensation of chemical species at ice lines. We followed the formation of planetesimals during  disc evolution and tested different metallicities, disc sizes and turbulent viscosity strengths.  We find that at solar and sub-solar metallicities, there is a significant enhancement in the midplane dust-to-gas mass ratios at the ice lines but this leads to planetesimal formation only at the water ice line. In our simulations, [ Fe/H ] $= -0.6$ is the lowest limit of metallicity for planetesimal formation where a few Earth masses of planetesimals could form. Our results further show that for such extreme disc environments, large discs are more conducive than small discs for forming large amounts of planetesimals at a fixed metallicity, because the pebble flux can be maintained for a longer time resulting in a longer and more efficient planetesimal formation phase. At lower metallicities, planetesimal formation  is less supported in quiescent discs compared to turbulent discs which produce relatively larger amounts of planetesimals, because the pebble flux can be maintained for a longer time. The amount of planetesimals formed at sub-solar metallicities in our simulations places a limit on core sizes that could possibly only result in the formation of super-Earths.\n",
       "\n",
       "</div>\n",
       "\n",
       "<div id=\"div_fig1\">\n",
       "\n",
       "<img src=\"tmp_2401.16155/./Figures/fig1_sigma_draz_rc100_alpha4.png\" alt=\"Fig6\" width=\"100%\"/>\n",
       "\n",
       "**Figure 6. -** _Top_: Evolution of pebble and planetesimal surface densities for a nominal $\\alpha_{\\rm t}=10^{-4}$ and disc size of $r_{\\rm c}=100$ au and different values of disc metallicity. _Bottom_: The evolution of the Stokes numbers and the corresponding midplane dust-to-gas ratios. (*fig:fig1*)\n",
       "\n",
       "</div>\n",
       "<div id=\"div_fig2\">\n",
       "\n",
       "<img src=\"tmp_2401.16155/./Figures/fig2_sigma_draz_rc100_alpha3.png\" alt=\"Fig7\" width=\"100%\"/>\n",
       "\n",
       "**Figure 7. -** _Top_: Evolution of pebble and planetesimal surface densities for a nominal $\\alpha_{\\rm t}=10^{-3}$ and disc size of $r_{\\rm c}=100$ au and different values of disc metallicity. _Bottom_: The evolution of the Stokes numbers and the corresponding midplane dust-to-gas ratios. (*fig:fig2*)\n",
       "\n",
       "</div>\n",
       "<div id=\"div_fig3\">\n",
       "\n",
       "<img src=\"tmp_2401.16155/./Figures/fig5_Mass_vs_t_rc_draz.png\" alt=\"Fig4\" width=\"100%\"/>\n",
       "\n",
       "**Figure 4. -** Disc size dependency of planetesimal formation at the water ice line. The vertical dotted lines have the same meaning as in Figure \\ref{fig:fig4}. (*fig:fig5*)\n",
       "\n",
       "</div><div id=\"qrcode\"><img src=https://api.qrserver.com/v1/create-qr-code/?size=100x100&data=\"https://arxiv.org/abs/2401.16155\"></div>"
      ],
      "text/plain": [
       "<IPython.core.display.Markdown object>"
      ]
     },
     "metadata": {},
     "output_type": "display_data"
    }
   ],
   "source": [
    "[display(Markdown(k[1])) for k in documents];"
   ]
  },
  {
   "cell_type": "markdown",
   "id": "873873a4",
   "metadata": {
    "papermill": {
     "duration": 0.00517,
     "end_time": "2024-01-30T04:10:35.030669",
     "exception": false,
     "start_time": "2024-01-30T04:10:35.025499",
     "status": "completed"
    },
    "tags": []
   },
   "source": [
    "# Create HTML index"
   ]
  },
  {
   "cell_type": "code",
   "execution_count": 9,
   "id": "cf665672",
   "metadata": {
    "execution": {
     "iopub.execute_input": "2024-01-30T04:10:35.042069Z",
     "iopub.status.busy": "2024-01-30T04:10:35.041600Z",
     "iopub.status.idle": "2024-01-30T04:10:35.050782Z",
     "shell.execute_reply": "2024-01-30T04:10:35.050176Z"
    },
    "papermill": {
     "duration": 0.016256,
     "end_time": "2024-01-30T04:10:35.052094",
     "exception": false,
     "start_time": "2024-01-30T04:10:35.035838",
     "status": "completed"
    },
    "tags": []
   },
   "outputs": [
    {
     "name": "stdout",
     "output_type": "stream",
     "text": [
      "365  publications files modified in the last 7 days.\n"
     ]
    }
   ],
   "source": [
    "from datetime import datetime, timedelta, timezone\n",
    "from glob import glob\n",
    "import os\n",
    "\n",
    "files = glob('_build/html/*.md')\n",
    "days = 7\n",
    "now = datetime.today()\n",
    "res = []\n",
    "for fk in files:\n",
    "    stat_result = os.stat(fk).st_ctime\n",
    "    modified = datetime.fromtimestamp(stat_result, tz=timezone.utc).replace(tzinfo=None)\n",
    "    delta = now.today() - modified\n",
    "    if delta <= timedelta(days=days):\n",
    "        res.append((delta.seconds, fk))\n",
    "res = [k[1] for k in reversed(sorted(res, key=lambda x:x[1]))]\n",
    "npub = len(res)\n",
    "print(len(res), f\" publications files modified in the last {days:d} days.\")\n",
    "# [ print('\\t', k) for k in res ];"
   ]
  },
  {
   "cell_type": "code",
   "execution_count": 10,
   "id": "015de740",
   "metadata": {
    "execution": {
     "iopub.execute_input": "2024-01-30T04:10:35.063642Z",
     "iopub.status.busy": "2024-01-30T04:10:35.063305Z",
     "iopub.status.idle": "2024-01-30T04:10:35.083795Z",
     "shell.execute_reply": "2024-01-30T04:10:35.083198Z"
    },
    "papermill": {
     "duration": 0.027799,
     "end_time": "2024-01-30T04:10:35.085240",
     "exception": false,
     "start_time": "2024-01-30T04:10:35.057441",
     "status": "completed"
    },
    "tags": []
   },
   "outputs": [
    {
     "name": "stdout",
     "output_type": "stream",
     "text": [
      "9  publications in the last 7 days.\n"
     ]
    }
   ],
   "source": [
    "import datetime\n",
    "from glob import glob\n",
    "\n",
    "def get_last_n_days(lst, days=1):\n",
    "    \"\"\" Get the documents from the last n days \"\"\"\n",
    "    sorted_lst = sorted(lst, key=lambda x: x[1], reverse=True)\n",
    "    for fname, date in sorted_lst:\n",
    "        if date >= str(datetime.date.today() - datetime.timedelta(days=days)):\n",
    "            yield fname\n",
    "\n",
    "def extract_appearance_dates(lst_file):\n",
    "    dates = []\n",
    "\n",
    "    def get_date(line):\n",
    "        return line\\\n",
    "            .split('Appeared on:')[-1]\\\n",
    "            .split('</mark>')[0].strip()\n",
    "\n",
    "    for fname in lst:\n",
    "        with open(fname, 'r') as f:\n",
    "            found_date = False\n",
    "            for line in f:\n",
    "                if not found_date:\n",
    "                    if \"Appeared on\" in line:\n",
    "                        found_date = True\n",
    "                        dates.append((fname, get_date(line)))\n",
    "                else:\n",
    "                    break\n",
    "    return dates\n",
    "\n",
    "from glob import glob\n",
    "lst = glob('_build/html/*md')\n",
    "days = 7\n",
    "dates = extract_appearance_dates(lst)\n",
    "res = list(get_last_n_days(dates, days))\n",
    "npub = len(res)\n",
    "print(len(res), f\" publications in the last {days:d} days.\")"
   ]
  },
  {
   "cell_type": "code",
   "execution_count": 11,
   "id": "52ca0208",
   "metadata": {
    "execution": {
     "iopub.execute_input": "2024-01-30T04:10:35.097210Z",
     "iopub.status.busy": "2024-01-30T04:10:35.096601Z",
     "iopub.status.idle": "2024-01-30T04:10:35.101976Z",
     "shell.execute_reply": "2024-01-30T04:10:35.101323Z"
    },
    "papermill": {
     "duration": 0.012758,
     "end_time": "2024-01-30T04:10:35.103367",
     "exception": false,
     "start_time": "2024-01-30T04:10:35.090609",
     "status": "completed"
    },
    "scrolled": false,
    "tags": []
   },
   "outputs": [],
   "source": [
    "def create_carousel(npub=4):\n",
    "    \"\"\" Generate the HTML code for a carousel with `npub` slides \"\"\"\n",
    "    carousel = [\"\"\"  <div class=\"carousel\" \"\"\",\n",
    "                \"\"\"       data-flickity='{ \"autoPlay\": 10000, \"adaptiveHeight\": true, \"resize\": true, \"wrapAround\": true, \"pauseAutoPlayOnHover\": true, \"groupCells\": 1 }' id=\"asyncTypeset\">\"\"\"\n",
    "                ]\n",
    "    \n",
    "    item_str = \"\"\"    <div class=\"carousel-cell\"> <div id=\"slide{k}\" class=\"md_view\">Content {k}</div> </div>\"\"\"\n",
    "    for k in range(1, npub + 1):\n",
    "        carousel.append(item_str.format(k=k))\n",
    "    carousel.append(\"  </div>\")\n",
    "    return '\\n'.join(carousel)\n",
    "\n",
    "def create_grid(npub=4):\n",
    "    \"\"\" Generate the HTML code for a flat grid with `npub` slides \"\"\"\n",
    "    grid = [\"\"\"  <div class=\"grid\"> \"\"\",\n",
    "                ]\n",
    "    \n",
    "    item_str = \"\"\"    <div class=\"grid-item\"> <div id=\"slide{k}\" class=\"md_view\">Content {k}</div> </div>\"\"\"\n",
    "    for k in range(1, npub + 1):\n",
    "        grid.append(item_str.format(k=k))\n",
    "    grid.append(\"  </div>\")\n",
    "    return '\\n'.join(grid)"
   ]
  },
  {
   "cell_type": "code",
   "execution_count": 12,
   "id": "a6eac5b6",
   "metadata": {
    "execution": {
     "iopub.execute_input": "2024-01-30T04:10:35.115409Z",
     "iopub.status.busy": "2024-01-30T04:10:35.114928Z",
     "iopub.status.idle": "2024-01-30T04:10:35.119746Z",
     "shell.execute_reply": "2024-01-30T04:10:35.119246Z"
    },
    "papermill": {
     "duration": 0.012195,
     "end_time": "2024-01-30T04:10:35.120968",
     "exception": false,
     "start_time": "2024-01-30T04:10:35.108773",
     "status": "completed"
    },
    "scrolled": false,
    "tags": []
   },
   "outputs": [],
   "source": [
    "carousel = create_carousel(npub)\n",
    "docs = ', '.join(['\"{0:s}\"'.format(k.split('/')[-1]) for k in res])\n",
    "slides = ', '.join([f'\"slide{k}\"' for k in range(1, npub + 1)])\n",
    "\n",
    "with open(\"daily_template.html\", \"r\") as tpl:\n",
    "    page = tpl.read()\n",
    "    page = page.replace(\"{%-- carousel:s --%}\", carousel)\\\n",
    "               .replace(\"{%-- suptitle:s --%}\",  \"7-day archives\" )\\\n",
    "               .replace(\"{%-- docs:s --%}\", docs)\\\n",
    "               .replace(\"{%-- slides:s --%}\", slides)\n",
    "    \n",
    "with open(\"_build/html/index_7days.html\", 'w') as fout:\n",
    "    fout.write(page)"
   ]
  },
  {
   "cell_type": "code",
   "execution_count": 13,
   "id": "adc1a1ec",
   "metadata": {
    "execution": {
     "iopub.execute_input": "2024-01-30T04:10:35.133061Z",
     "iopub.status.busy": "2024-01-30T04:10:35.132586Z",
     "iopub.status.idle": "2024-01-30T04:10:35.139286Z",
     "shell.execute_reply": "2024-01-30T04:10:35.138699Z"
    },
    "papermill": {
     "duration": 0.014022,
     "end_time": "2024-01-30T04:10:35.140495",
     "exception": false,
     "start_time": "2024-01-30T04:10:35.126473",
     "status": "completed"
    },
    "tags": []
   },
   "outputs": [
    {
     "name": "stdout",
     "output_type": "stream",
     "text": [
      "3  publications in the last day.\n"
     ]
    }
   ],
   "source": [
    "# redo for today\n",
    "days = 1\n",
    "res = list(get_last_n_days(dates, days))\n",
    "npub = len(res)\n",
    "print(len(res), f\" publications in the last day.\")\n",
    "\n",
    "carousel = create_carousel(npub)\n",
    "docs = ', '.join(['\"{0:s}\"'.format(k.split('/')[-1]) for k in res])\n",
    "slides = ', '.join([f'\"slide{k}\"' for k in range(1, npub + 1)])\n",
    "\n",
    "with open(\"daily_template.html\", \"r\") as tpl:\n",
    "    page = tpl.read()\n",
    "    page = page.replace(\"{%-- carousel:s --%}\", carousel)\\\n",
    "               .replace(\"{%-- suptitle:s --%}\",  \"Daily\" )\\\n",
    "               .replace(\"{%-- docs:s --%}\", docs)\\\n",
    "               .replace(\"{%-- slides:s --%}\", slides)\n",
    "    \n",
    "# print(carousel, docs, slides)\n",
    "# print(page)\n",
    "with open(\"_build/html/index_daily.html\", 'w') as fout:\n",
    "    fout.write(page)"
   ]
  },
  {
   "cell_type": "code",
   "execution_count": 14,
   "id": "00eece82",
   "metadata": {
    "execution": {
     "iopub.execute_input": "2024-01-30T04:10:35.152598Z",
     "iopub.status.busy": "2024-01-30T04:10:35.152204Z",
     "iopub.status.idle": "2024-01-30T04:10:35.158568Z",
     "shell.execute_reply": "2024-01-30T04:10:35.157948Z"
    },
    "papermill": {
     "duration": 0.013891,
     "end_time": "2024-01-30T04:10:35.159908",
     "exception": false,
     "start_time": "2024-01-30T04:10:35.146017",
     "status": "completed"
    },
    "scrolled": false,
    "tags": []
   },
   "outputs": [
    {
     "name": "stdout",
     "output_type": "stream",
     "text": [
      "6  6 publications selected.\n"
     ]
    }
   ],
   "source": [
    "# Create the flat grid of the last N papers (fixed number regardless of dates)\n",
    "from itertools import islice \n",
    "\n",
    "npub = 6\n",
    "res = [k[0] for k in (islice(reversed(sorted(dates, key=lambda x: x[1])), 6))]\n",
    "print(len(res), f\" {npub} publications selected.\")\n",
    "\n",
    "grid = create_grid(npub)\n",
    "docs = ', '.join(['\"{0:s}\"'.format(k.split('/')[-1]) for k in res])\n",
    "slides = ', '.join([f'\"slide{k}\"' for k in range(1, npub + 1)])\n",
    "\n",
    "with open(\"grid_template.html\", \"r\") as tpl:\n",
    "    page = tpl.read()\n",
    "    page = page.replace(\"{%-- grid-content:s --%}\", grid)\\\n",
    "               .replace(\"{%-- suptitle:s --%}\",  f\"Last {npub:,d} papers\" )\\\n",
    "               .replace(\"{%-- docs:s --%}\", docs)\\\n",
    "               .replace(\"{%-- slides:s --%}\", slides)\n",
    "    \n",
    "# print(grid, docs, slides)\n",
    "# print(page)\n",
    "with open(\"_build/html/index_npub_grid.html\", 'w') as fout:\n",
    "    fout.write(page)"
   ]
  }
 ],
 "metadata": {
  "kernelspec": {
   "display_name": "Python 3 (ipykernel)",
   "language": "python",
   "name": "python3"
  },
  "language_info": {
   "codemirror_mode": {
    "name": "ipython",
    "version": 3
   },
   "file_extension": ".py",
   "mimetype": "text/x-python",
   "name": "python",
   "nbconvert_exporter": "python",
   "pygments_lexer": "ipython3",
   "version": "3.9.18"
  },
  "papermill": {
   "default_parameters": {},
   "duration": 171.780862,
   "end_time": "2024-01-30T04:10:35.381682",
   "environment_variables": {},
   "exception": null,
   "input_path": "MPIA daily digest.ipynb",
   "output_path": "log.ipynb",
   "parameters": {},
   "start_time": "2024-01-30T04:07:43.600820",
   "version": "2.5.0"
  },
  "vscode": {
   "interpreter": {
    "hash": "aee8b7b246df8f9039afb4144a1f6fd8d2ca17a180786b69acc140d282b71a49"
   }
  },
  "widgets": {
   "application/vnd.jupyter.widget-state+json": {
    "state": {
     "19a6fba8d97145698f80bca08f03f7a9": {
      "model_module": "@jupyter-widgets/base",
      "model_module_version": "2.0.0",
      "model_name": "LayoutModel",
      "state": {
       "_model_module": "@jupyter-widgets/base",
       "_model_module_version": "2.0.0",
       "_model_name": "LayoutModel",
       "_view_count": null,
       "_view_module": "@jupyter-widgets/base",
       "_view_module_version": "2.0.0",
       "_view_name": "LayoutView",
       "align_content": null,
       "align_items": null,
       "align_self": null,
       "border_bottom": null,
       "border_left": null,
       "border_right": null,
       "border_top": null,
       "bottom": null,
       "display": null,
       "flex": null,
       "flex_flow": null,
       "grid_area": null,
       "grid_auto_columns": null,
       "grid_auto_flow": null,
       "grid_auto_rows": null,
       "grid_column": null,
       "grid_gap": null,
       "grid_row": null,
       "grid_template_areas": null,
       "grid_template_columns": null,
       "grid_template_rows": null,
       "height": null,
       "justify_content": null,
       "justify_items": null,
       "left": null,
       "margin": null,
       "max_height": null,
       "max_width": null,
       "min_height": null,
       "min_width": null,
       "object_fit": null,
       "object_position": null,
       "order": null,
       "overflow": null,
       "padding": null,
       "right": null,
       "top": null,
       "visibility": null,
       "width": null
      }
     },
     "2c0dae8a1a774e4884bc4ec2055f1dca": {
      "model_module": "@jupyter-widgets/base",
      "model_module_version": "2.0.0",
      "model_name": "LayoutModel",
      "state": {
       "_model_module": "@jupyter-widgets/base",
       "_model_module_version": "2.0.0",
       "_model_name": "LayoutModel",
       "_view_count": null,
       "_view_module": "@jupyter-widgets/base",
       "_view_module_version": "2.0.0",
       "_view_name": "LayoutView",
       "align_content": null,
       "align_items": null,
       "align_self": null,
       "border_bottom": null,
       "border_left": null,
       "border_right": null,
       "border_top": null,
       "bottom": null,
       "display": null,
       "flex": null,
       "flex_flow": null,
       "grid_area": null,
       "grid_auto_columns": null,
       "grid_auto_flow": null,
       "grid_auto_rows": null,
       "grid_column": null,
       "grid_gap": null,
       "grid_row": null,
       "grid_template_areas": null,
       "grid_template_columns": null,
       "grid_template_rows": null,
       "height": null,
       "justify_content": null,
       "justify_items": null,
       "left": null,
       "margin": null,
       "max_height": null,
       "max_width": null,
       "min_height": null,
       "min_width": null,
       "object_fit": null,
       "object_position": null,
       "order": null,
       "overflow": null,
       "padding": null,
       "right": null,
       "top": null,
       "visibility": null,
       "width": null
      }
     },
     "46c98bc8db4045499baa73a704ed487f": {
      "model_module": "@jupyter-widgets/controls",
      "model_module_version": "2.0.0",
      "model_name": "FloatProgressModel",
      "state": {
       "_dom_classes": [],
       "_model_module": "@jupyter-widgets/controls",
       "_model_module_version": "2.0.0",
       "_model_name": "FloatProgressModel",
       "_view_count": null,
       "_view_module": "@jupyter-widgets/controls",
       "_view_module_version": "2.0.0",
       "_view_name": "ProgressView",
       "bar_style": "success",
       "description": "",
       "description_allow_html": false,
       "layout": "IPY_MODEL_2c0dae8a1a774e4884bc4ec2055f1dca",
       "max": 5.0,
       "min": 0.0,
       "orientation": "horizontal",
       "style": "IPY_MODEL_de3148fd0ba24346b1d10b4f5eb905f0",
       "tabbable": null,
       "tooltip": null,
       "value": 5.0
      }
     },
     "4a52e081620947e48b5ec8f9015caba4": {
      "model_module": "@jupyter-widgets/controls",
      "model_module_version": "2.0.0",
      "model_name": "HTMLModel",
      "state": {
       "_dom_classes": [],
       "_model_module": "@jupyter-widgets/controls",
       "_model_module_version": "2.0.0",
       "_model_name": "HTMLModel",
       "_view_count": null,
       "_view_module": "@jupyter-widgets/controls",
       "_view_module_version": "2.0.0",
       "_view_name": "HTMLView",
       "description": "",
       "description_allow_html": false,
       "layout": "IPY_MODEL_19a6fba8d97145698f80bca08f03f7a9",
       "placeholder": "​",
       "style": "IPY_MODEL_65d744f7522c4d67aee1af542891d845",
       "tabbable": null,
       "tooltip": null,
       "value": "100%"
      }
     },
     "6553ec84978e4d63b0f7564b876534ee": {
      "model_module": "@jupyter-widgets/base",
      "model_module_version": "2.0.0",
      "model_name": "LayoutModel",
      "state": {
       "_model_module": "@jupyter-widgets/base",
       "_model_module_version": "2.0.0",
       "_model_name": "LayoutModel",
       "_view_count": null,
       "_view_module": "@jupyter-widgets/base",
       "_view_module_version": "2.0.0",
       "_view_name": "LayoutView",
       "align_content": null,
       "align_items": null,
       "align_self": null,
       "border_bottom": null,
       "border_left": null,
       "border_right": null,
       "border_top": null,
       "bottom": null,
       "display": null,
       "flex": null,
       "flex_flow": null,
       "grid_area": null,
       "grid_auto_columns": null,
       "grid_auto_flow": null,
       "grid_auto_rows": null,
       "grid_column": null,
       "grid_gap": null,
       "grid_row": null,
       "grid_template_areas": null,
       "grid_template_columns": null,
       "grid_template_rows": null,
       "height": null,
       "justify_content": null,
       "justify_items": null,
       "left": null,
       "margin": null,
       "max_height": null,
       "max_width": null,
       "min_height": null,
       "min_width": null,
       "object_fit": null,
       "object_position": null,
       "order": null,
       "overflow": null,
       "padding": null,
       "right": null,
       "top": null,
       "visibility": null,
       "width": null
      }
     },
     "65d744f7522c4d67aee1af542891d845": {
      "model_module": "@jupyter-widgets/controls",
      "model_module_version": "2.0.0",
      "model_name": "HTMLStyleModel",
      "state": {
       "_model_module": "@jupyter-widgets/controls",
       "_model_module_version": "2.0.0",
       "_model_name": "HTMLStyleModel",
       "_view_count": null,
       "_view_module": "@jupyter-widgets/base",
       "_view_module_version": "2.0.0",
       "_view_name": "StyleView",
       "background": null,
       "description_width": "",
       "font_size": null,
       "text_color": null
      }
     },
     "a159d3b68e124e778cccbbd1175eb5aa": {
      "model_module": "@jupyter-widgets/base",
      "model_module_version": "2.0.0",
      "model_name": "LayoutModel",
      "state": {
       "_model_module": "@jupyter-widgets/base",
       "_model_module_version": "2.0.0",
       "_model_name": "LayoutModel",
       "_view_count": null,
       "_view_module": "@jupyter-widgets/base",
       "_view_module_version": "2.0.0",
       "_view_name": "LayoutView",
       "align_content": null,
       "align_items": null,
       "align_self": null,
       "border_bottom": null,
       "border_left": null,
       "border_right": null,
       "border_top": null,
       "bottom": null,
       "display": null,
       "flex": null,
       "flex_flow": null,
       "grid_area": null,
       "grid_auto_columns": null,
       "grid_auto_flow": null,
       "grid_auto_rows": null,
       "grid_column": null,
       "grid_gap": null,
       "grid_row": null,
       "grid_template_areas": null,
       "grid_template_columns": null,
       "grid_template_rows": null,
       "height": null,
       "justify_content": null,
       "justify_items": null,
       "left": null,
       "margin": null,
       "max_height": null,
       "max_width": null,
       "min_height": null,
       "min_width": null,
       "object_fit": null,
       "object_position": null,
       "order": null,
       "overflow": null,
       "padding": null,
       "right": null,
       "top": null,
       "visibility": null,
       "width": null
      }
     },
     "b8261f1100a946ceb3fcbb2f9aebe8cb": {
      "model_module": "@jupyter-widgets/controls",
      "model_module_version": "2.0.0",
      "model_name": "HTMLStyleModel",
      "state": {
       "_model_module": "@jupyter-widgets/controls",
       "_model_module_version": "2.0.0",
       "_model_name": "HTMLStyleModel",
       "_view_count": null,
       "_view_module": "@jupyter-widgets/base",
       "_view_module_version": "2.0.0",
       "_view_name": "StyleView",
       "background": null,
       "description_width": "",
       "font_size": null,
       "text_color": null
      }
     },
     "bfea6e5cc8954e61825454a7dfd928cc": {
      "model_module": "@jupyter-widgets/controls",
      "model_module_version": "2.0.0",
      "model_name": "HTMLModel",
      "state": {
       "_dom_classes": [],
       "_model_module": "@jupyter-widgets/controls",
       "_model_module_version": "2.0.0",
       "_model_name": "HTMLModel",
       "_view_count": null,
       "_view_module": "@jupyter-widgets/controls",
       "_view_module_version": "2.0.0",
       "_view_name": "HTMLView",
       "description": "",
       "description_allow_html": false,
       "layout": "IPY_MODEL_6553ec84978e4d63b0f7564b876534ee",
       "placeholder": "​",
       "style": "IPY_MODEL_b8261f1100a946ceb3fcbb2f9aebe8cb",
       "tabbable": null,
       "tooltip": null,
       "value": " 5/5 [02:32&lt;00:00, 18.38s/it]"
      }
     },
     "caa8eaa219bc4c2c99293d11c8ee3d01": {
      "model_module": "@jupyter-widgets/controls",
      "model_module_version": "2.0.0",
      "model_name": "HBoxModel",
      "state": {
       "_dom_classes": [],
       "_model_module": "@jupyter-widgets/controls",
       "_model_module_version": "2.0.0",
       "_model_name": "HBoxModel",
       "_view_count": null,
       "_view_module": "@jupyter-widgets/controls",
       "_view_module_version": "2.0.0",
       "_view_name": "HBoxView",
       "box_style": "",
       "children": [
        "IPY_MODEL_4a52e081620947e48b5ec8f9015caba4",
        "IPY_MODEL_46c98bc8db4045499baa73a704ed487f",
        "IPY_MODEL_bfea6e5cc8954e61825454a7dfd928cc"
       ],
       "layout": "IPY_MODEL_a159d3b68e124e778cccbbd1175eb5aa",
       "tabbable": null,
       "tooltip": null
      }
     },
     "de3148fd0ba24346b1d10b4f5eb905f0": {
      "model_module": "@jupyter-widgets/controls",
      "model_module_version": "2.0.0",
      "model_name": "ProgressStyleModel",
      "state": {
       "_model_module": "@jupyter-widgets/controls",
       "_model_module_version": "2.0.0",
       "_model_name": "ProgressStyleModel",
       "_view_count": null,
       "_view_module": "@jupyter-widgets/base",
       "_view_module_version": "2.0.0",
       "_view_name": "StyleView",
       "bar_color": null,
       "description_width": ""
      }
     }
    },
    "version_major": 2,
    "version_minor": 0
   }
  }
 },
 "nbformat": 4,
 "nbformat_minor": 5
}