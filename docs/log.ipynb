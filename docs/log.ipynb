{
 "cells": [
  {
   "cell_type": "markdown",
   "id": "92bcb855",
   "metadata": {
    "papermill": {
     "duration": 0.003583,
     "end_time": "2024-04-11T04:08:10.944538",
     "exception": false,
     "start_time": "2024-04-11T04:08:10.940955",
     "status": "completed"
    },
    "tags": []
   },
   "source": [
    "# MPIA Arxiv on Deck 2\n",
    "\n",
    "Contains the steps to produce the paper extractions."
   ]
  },
  {
   "cell_type": "code",
   "execution_count": 1,
   "id": "3a0d6e11",
   "metadata": {
    "execution": {
     "iopub.execute_input": "2024-04-11T04:08:10.951399Z",
     "iopub.status.busy": "2024-04-11T04:08:10.951055Z",
     "iopub.status.idle": "2024-04-11T04:08:11.332749Z",
     "shell.execute_reply": "2024-04-11T04:08:11.332068Z"
    },
    "papermill": {
     "duration": 0.387043,
     "end_time": "2024-04-11T04:08:11.334606",
     "exception": false,
     "start_time": "2024-04-11T04:08:10.947563",
     "status": "completed"
    },
    "tags": []
   },
   "outputs": [],
   "source": [
    "# Imports\n",
    "import os\n",
    "from IPython.display import Markdown, display\n",
    "from tqdm.notebook import tqdm\n",
    "import warnings\n",
    "from PIL import Image \n",
    "\n",
    "# requires arxiv_on_deck_2\n",
    "\n",
    "from arxiv_on_deck_2.arxiv2 import (get_new_papers, \n",
    "                                    get_paper_from_identifier,\n",
    "                                    retrieve_document_source, \n",
    "                                    get_markdown_badge)\n",
    "from arxiv_on_deck_2 import (latex,\n",
    "                             latex_bib,\n",
    "                             mpia,\n",
    "                             highlight_authors_in_list)\n",
    "\n",
    "# Sometimes images are really big\n",
    "Image.MAX_IMAGE_PIXELS = 1000000000 "
   ]
  },
  {
   "cell_type": "code",
   "execution_count": 2,
   "id": "22aa9d44",
   "metadata": {
    "execution": {
     "iopub.execute_input": "2024-04-11T04:08:11.341496Z",
     "iopub.status.busy": "2024-04-11T04:08:11.341219Z",
     "iopub.status.idle": "2024-04-11T04:08:11.346126Z",
     "shell.execute_reply": "2024-04-11T04:08:11.345561Z"
    },
    "papermill": {
     "duration": 0.0097,
     "end_time": "2024-04-11T04:08:11.347375",
     "exception": false,
     "start_time": "2024-04-11T04:08:11.337675",
     "status": "completed"
    },
    "tags": []
   },
   "outputs": [],
   "source": [
    "# Some useful definitions.\n",
    "\n",
    "class AffiliationWarning(UserWarning):\n",
    "    pass\n",
    "\n",
    "class AffiliationError(RuntimeError):\n",
    "    pass\n",
    "\n",
    "def validation(source: str):\n",
    "    \"\"\"Raises error paper during parsing of source file\n",
    "    \n",
    "    Allows checks before parsing TeX code.\n",
    "    \n",
    "    Raises AffiliationWarning\n",
    "    \"\"\"\n",
    "    check = mpia.affiliation_verifications(source, verbose=True)\n",
    "    if check is not True:\n",
    "        raise AffiliationError(\"mpia.affiliation_verifications: \" + check)\n",
    "\n",
    "        \n",
    "warnings.simplefilter('always', AffiliationWarning)\n",
    "\n",
    "\n",
    "def get_markdown_qrcode(paper_id: str):\n",
    "    \"\"\" Generate a qrcode to the arxiv page using qrserver.com\n",
    "    \n",
    "    :param paper: Arxiv paper\n",
    "    :returns: markdown text\n",
    "    \"\"\"\n",
    "    url = r\"https://api.qrserver.com/v1/create-qr-code/?size=100x100&data=\"\n",
    "    txt = f\"\"\"<img src={url}\"https://arxiv.org/abs/{paper_id}\">\"\"\"\n",
    "    txt = '<div id=\"qrcode\">' + txt + '</div>'\n",
    "    return txt"
   ]
  },
  {
   "cell_type": "markdown",
   "id": "14bd6310",
   "metadata": {
    "papermill": {
     "duration": 0.002711,
     "end_time": "2024-04-11T04:08:11.352922",
     "exception": false,
     "start_time": "2024-04-11T04:08:11.350211",
     "status": "completed"
    },
    "tags": []
   },
   "source": [
    "## get list of arxiv paper candidates\n",
    "\n",
    "We use the MPIA mitarbeiter list webpage from mpia.de to get author names\n",
    "We then get all new papers from Arxiv and match authors"
   ]
  },
  {
   "cell_type": "code",
   "execution_count": 3,
   "id": "2645e73a",
   "metadata": {
    "execution": {
     "iopub.execute_input": "2024-04-11T04:08:11.359342Z",
     "iopub.status.busy": "2024-04-11T04:08:11.359145Z",
     "iopub.status.idle": "2024-04-11T04:08:28.612909Z",
     "shell.execute_reply": "2024-04-11T04:08:28.612230Z"
    },
    "papermill": {
     "duration": 17.258497,
     "end_time": "2024-04-11T04:08:28.614276",
     "exception": false,
     "start_time": "2024-04-11T04:08:11.355779",
     "status": "completed"
    },
    "tags": []
   },
   "outputs": [
    {
     "name": "stdout",
     "output_type": "stream",
     "text": [
      "M. Demianenko  ->  M. Demianenko  |  ['M. Demianenko']\n",
      "J.-U. Pott  ->  J.-U. Pott  |  ['J.-U. Pott']\n",
      "S. Li  ->  S. Li  |  ['S. Li']\n",
      "S. Li  ->  S. Li  |  ['S. Li']\n",
      "J.-U. Pott  ->  J.-U. Pott  |  ['J.-U. Pott']\n",
      "J. Shi  ->  J. Shi  |  ['J. Shi']\n",
      "J. Li  ->  J. Li  |  ['J. Li']\n",
      "Arxiv has 59 new papers today\n",
      "          5 with possible author matches\n"
     ]
    }
   ],
   "source": [
    "# get list from MPIA website\n",
    "# it automatically filters identified non-scientists :func:`mpia.filter_non_scientists`\n",
    "mpia_authors = mpia.get_mpia_mitarbeiter_list()\n",
    "normed_mpia_authors = [k[1] for k in mpia_authors]   # initials + fullname\n",
    "new_papers = get_new_papers()\n",
    "# add manual references\n",
    "add_paper_refs = []\n",
    "new_papers.extend([get_paper_from_identifier(k) for k in add_paper_refs])\n",
    "\n",
    "candidates = []\n",
    "for paperk in new_papers:\n",
    "    # Check author list with their initials\n",
    "    normed_author_list = [mpia.get_initials(k) for k in paperk['authors']]\n",
    "    hl_authors = highlight_authors_in_list(normed_author_list, normed_mpia_authors, verbose=True)\n",
    "    matches = [(hl, orig) for hl, orig in zip(hl_authors, paperk['authors']) if 'mark' in hl]\n",
    "    paperk['authors'] = hl_authors\n",
    "    if matches:\n",
    "        # only select paper if an author matched our list\n",
    "        candidates.append(paperk)\n",
    "print(\"\"\"Arxiv has {0:,d} new papers today\"\"\".format(len(new_papers)))        \n",
    "print(\"\"\"          {0:,d} with possible author matches\"\"\".format(len(candidates)))"
   ]
  },
  {
   "cell_type": "markdown",
   "id": "3543b34a",
   "metadata": {
    "papermill": {
     "duration": 0.002998,
     "end_time": "2024-04-11T04:08:28.620432",
     "exception": false,
     "start_time": "2024-04-11T04:08:28.617434",
     "status": "completed"
    },
    "tags": []
   },
   "source": [
    "# Parse sources and generate relevant outputs\n",
    "\n",
    "From the candidates, we do the following steps:\n",
    "* get their tarball from ArXiv (and extract data)\n",
    "* find the main .tex file: find one with \\documentclass{...} (sometimes it's non trivial)\n",
    "* Check affiliations with :func:`validation`, which uses :func:`mpia.affiliation_verifications`\n",
    "* If passing the affiliations: we parse the .tex source\n",
    "   * inject sub-documents into the main (flatten the main document)\n",
    "   * parse structure, extract information (title, abstract, authors, figures...)\n",
    "   * handles `\\graphicspath` if provided\n",
    "* Generate the .md document."
   ]
  },
  {
   "cell_type": "code",
   "execution_count": 4,
   "id": "9576b79e",
   "metadata": {
    "execution": {
     "iopub.execute_input": "2024-04-11T04:08:28.627297Z",
     "iopub.status.busy": "2024-04-11T04:08:28.626894Z",
     "iopub.status.idle": "2024-04-11T04:10:30.034294Z",
     "shell.execute_reply": "2024-04-11T04:10:30.033509Z"
    },
    "papermill": {
     "duration": 121.412822,
     "end_time": "2024-04-11T04:10:30.036097",
     "exception": false,
     "start_time": "2024-04-11T04:08:28.623275",
     "status": "completed"
    },
    "scrolled": false,
    "tags": []
   },
   "outputs": [
    {
     "data": {
      "application/vnd.jupyter.widget-view+json": {
       "model_id": "d279eb4cd59b4242a903495c77bf1deb",
       "version_major": 2,
       "version_minor": 0
      },
      "text/plain": [
       "  0%|          | 0/5 [00:00<?, ?it/s]"
      ]
     },
     "metadata": {},
     "output_type": "display_data"
    },
    {
     "name": "stdout",
     "output_type": "stream",
     "text": [
      "Retrieving document from  https://arxiv.org/e-print/2404.06558\n"
     ]
    },
    {
     "name": "stdout",
     "output_type": "stream",
     "text": [
      "extracting tarball to tmp_2404.06558... done.\n",
      "Retrieving document from  https://arxiv.org/e-print/2404.06882\n"
     ]
    },
    {
     "name": "stdout",
     "output_type": "stream",
     "text": [
      "extracting tarball to tmp_2404.06882... done.\n",
      "Retrieving document from  https://arxiv.org/e-print/2404.06893\n"
     ]
    },
    {
     "name": "stdout",
     "output_type": "stream",
     "text": [
      "extracting tarball to tmp_2404.06893... done.\n",
      "Retrieving document from  https://arxiv.org/e-print/2404.06930\n"
     ]
    },
    {
     "name": "stdout",
     "output_type": "stream",
     "text": [
      "extracting tarball to tmp_2404.06930..."
     ]
    },
    {
     "name": "stdout",
     "output_type": "stream",
     "text": [
      " done.\n"
     ]
    },
    {
     "name": "stdout",
     "output_type": "stream",
     "text": [
      "Found 78 bibliographic references in tmp_2404.06930/paper.bbl.\n",
      "Retrieving document from  https://arxiv.org/e-print/2404.07149\n"
     ]
    },
    {
     "name": "stdout",
     "output_type": "stream",
     "text": [
      "extracting tarball to tmp_2404.07149..."
     ]
    },
    {
     "name": "stdout",
     "output_type": "stream",
     "text": [
      " done.\n"
     ]
    }
   ],
   "source": [
    "documents = []\n",
    "failed = []\n",
    "for paper in tqdm(candidates):\n",
    "    paper_id = paper['identifier'].lower().replace('arxiv:', '')\n",
    "    \n",
    "    folder = f'tmp_{paper_id}'\n",
    "\n",
    "    try:\n",
    "        if not os.path.isdir(folder):\n",
    "            folder = retrieve_document_source(f\"{paper_id}\", f'tmp_{paper_id}')\n",
    "        \n",
    "        try:\n",
    "            doc = latex.LatexDocument(folder, validation=validation)    \n",
    "        except AffiliationError as affilerror:\n",
    "            msg = f\"ArXiv:{paper_id:s} is not an MPIA paper... \" + str(affilerror)\n",
    "            failed.append((paper, \"affiliation error: \" + str(affilerror) ))\n",
    "            continue\n",
    "        \n",
    "        # Hack because sometimes author parsing does not work well\n",
    "        if (len(doc.authors) != len(paper['authors'])):\n",
    "            doc._authors = paper['authors']\n",
    "        else:\n",
    "            # highlight authors (FIXME: doc.highlight_authors)\n",
    "            # done on arxiv paper already\n",
    "            doc._authors = highlight_authors_in_list(\n",
    "                [mpia.get_initials(k) for k in doc.authors], \n",
    "                normed_mpia_authors, verbose=True)\n",
    "        if (doc.abstract) in (None, ''):\n",
    "            doc._abstract = paper['abstract']\n",
    "            \n",
    "        doc.comment = (get_markdown_badge(paper_id) + \n",
    "                       \"<mark>Appeared on: \" + paper['date'] + \"</mark> - \")\n",
    "        if paper['comments']:\n",
    "            doc.comment += \" _\" + paper['comments'] + \"_\"\n",
    "        \n",
    "        full_md = doc.generate_markdown_text()\n",
    "        \n",
    "        full_md += get_markdown_qrcode(paper_id)\n",
    "        \n",
    "        # replace citations\n",
    "        try:\n",
    "            bibdata = latex_bib.LatexBib.from_doc(doc)\n",
    "            full_md = latex_bib.replace_citations(full_md, bibdata)\n",
    "        except Exception as e:\n",
    "            print(e)\n",
    "        \n",
    "        documents.append((paper_id, full_md))\n",
    "    except Exception as e:\n",
    "        warnings.warn(latex.LatexWarning(f\"{paper_id:s} did not run properly\\n\" +\n",
    "                                         str(e)\n",
    "                                        ))\n",
    "        failed.append((paper, \"latex error \" + str(e)))"
   ]
  },
  {
   "cell_type": "markdown",
   "id": "2505a25c",
   "metadata": {
    "papermill": {
     "duration": 0.003384,
     "end_time": "2024-04-11T04:10:30.043272",
     "exception": false,
     "start_time": "2024-04-11T04:10:30.039888",
     "status": "completed"
    },
    "tags": []
   },
   "source": [
    "### Export the logs\n",
    "\n",
    "Throughout, we also keep track of the logs per paper. see `logs-{today date}.md` "
   ]
  },
  {
   "cell_type": "code",
   "execution_count": 5,
   "id": "d733828a",
   "metadata": {
    "execution": {
     "iopub.execute_input": "2024-04-11T04:10:30.051403Z",
     "iopub.status.busy": "2024-04-11T04:10:30.050981Z",
     "iopub.status.idle": "2024-04-11T04:10:30.066841Z",
     "shell.execute_reply": "2024-04-11T04:10:30.066323Z"
    },
    "papermill": {
     "duration": 0.021457,
     "end_time": "2024-04-11T04:10:30.068127",
     "exception": false,
     "start_time": "2024-04-11T04:10:30.046670",
     "status": "completed"
    },
    "scrolled": false,
    "tags": []
   },
   "outputs": [
    {
     "data": {
      "text/markdown": [
       "## Successful papers"
      ],
      "text/plain": [
       "<IPython.core.display.Markdown object>"
      ]
     },
     "metadata": {},
     "output_type": "display_data"
    },
    {
     "data": {
      "text/markdown": [
       "\n",
       "|||\n",
       "|---:|:---|\n",
       "| [![arXiv](https://img.shields.io/badge/arXiv-arXiv:2404.06930-b31b1b.svg)](https://arxiv.org/abs/arXiv:2404.06930) | **The first spectroscopic IR reverberation programme on Mrk 509**  |\n",
       "|| J. A. J. Mitchell, et al. -- incl., <mark>J.-U. Pott</mark> |\n",
       "|*Appeared on*| *2024-04-11*|\n",
       "|*Comments*| *16 pages, 12 figures*|\n",
       "|**Abstract**| Near IR spectroscopic reverberation of Active Galactic Nuclei (AGN) potentially allows the infrared (IR) broad line region (BLR) to be reverberated alongside the disc and dust continua, while the spectra can also reveal details of dust astro-chemistry. Here, we describe results of a short pilot study (17 near-IR spectra over a 183 d period) for Mrk 509. The spectra give a luminosity-weighted dust radius of $\\langle R_{\\mathrm{d,lum}} \\rangle = 186 \\pm 4$ light-days for blackbody (large grain dust), consistent with previous (photometric) reverberation campaigns, whereas carbon and silicate dust give much larger radii. We develop a method of calibrating spectral data in objects where the narrow lines are extended beyond the slit width. We demonstrate this by showing our resultant photometric band light curves are consistent with previous results, with a hot dust lag at >40 d in the K band, clearly different from the accretion disc response at <20 d in the z band. We place this limit of 40 d by demonstrating clearly that the modest variability that we do detect in the H and K band does not reverberate on time-scales of less than 40 d. We also extract the Pa$\\beta$ line light curve, and find a lag which is consistent with the optical BLR H$\\beta$ line of $\\sim$70-90 d. This is important as direct imaging of the near-IR BLR is now possible in a few objects, so we need to understand its relation to the better studied optical BLR. |"
      ],
      "text/plain": [
       "[arXiv:2404.06930] The first spectroscopic IR reverberation programme on Mrk 509\n",
       "\tJ. A. J. Mitchell, et al. -- incl., <mark>J.-U. Pott</mark>"
      ]
     },
     "metadata": {},
     "output_type": "display_data"
    },
    {
     "data": {
      "text/markdown": [
       "## Failed papers"
      ],
      "text/plain": [
       "<IPython.core.display.Markdown object>"
      ]
     },
     "metadata": {},
     "output_type": "display_data"
    },
    {
     "data": {
      "text/markdown": [
       "\n",
       "|||\n",
       "|---:|:---|\n",
       "| [![arXiv](https://img.shields.io/badge/arXiv-arXiv:2404.06558-b31b1b.svg)](https://arxiv.org/abs/arXiv:2404.06558) | **PSF quality metrics in the problem of revealing Intermediate-Mass Black  Holes using MICADO@ELT**  |\n",
       "|| <mark>M. Demianenko</mark>, <mark>J.-U. Pott</mark>, K. Polsterer |\n",
       "|*Appeared on*| *2024-04-11*|\n",
       "|*Comments*| *4 pages; submitted to Astronomical Data Analysis Software and Systems (ADASS) XXXIII proceedings*|\n",
       "|**Abstract**| Nowadays, astronomers perform point spread function (PSF) fitting for most types of observational data. Interpolation of the PSF is often an intermediate step in such algorithms. In the case of the Multi-AO Imaging Camera for Deep Observations (MICADO) at the Extremely Large Telescope (ELT), PSF interpolation will play a crucial role in high-precision astrometry for stellar clusters and confirmation of the Intermediate-Mass Black Holes (IMBHs) presence. Significant PSF variations across the field of view invalidate the approach of deconvolution with a mean PSF or on-axis PSF. The ignoring of PSF variations can be especially unsatisfactory in the case of Single Conjugate Adaptive Optics (SCAO) observations, as these sophisticated and expensive systems are designed to achieve high resolution with ground-based telescopes by correcting for atmospheric turbulence in the direction of one reference star. In plenty of tasks, you face the question: How can I establish the quality of PSF fitting or interpolation? Our study aims to demonstrate the variety of PSF quality metrics, including the problem of revealing IMBHs in stellar clusters. |\n",
       "|<p style=\"color:green\"> **ERROR** </p>| <p style=\"color:green\">affiliation error: mpia.affiliation_verifications: '69117' keyword not found.</p> |"
      ],
      "text/plain": [
       "<IPython.core.display.Markdown object>"
      ]
     },
     "metadata": {},
     "output_type": "display_data"
    },
    {
     "data": {
      "text/markdown": [
       "\n",
       "|||\n",
       "|---:|:---|\n",
       "| [![arXiv](https://img.shields.io/badge/arXiv-arXiv:2404.06882-b31b1b.svg)](https://arxiv.org/abs/arXiv:2404.06882) | **A Multi-wavelength Study on A Gamma-ray Bright AGN 1308+326 Using KVN at  22 and 43 GHz**  |\n",
       "|| <mark>S. Li</mark>, S.-s. Lee, W. Y. Cheong |\n",
       "|*Appeared on*| *2024-04-11*|\n",
       "|*Comments*| *16 pages, 7 figures, Accepted for publication in JKAS*|\n",
       "|**Abstract**| In this paper, we conduct a multi-frequency analysis of the gamma-ray bright blazar 1308+326 from February 2013 to March 2020, using the Korean VLBI Network at 22 and 43 GHz and gamma-ray data from the Fermi Large Area Telescope (LAT). Our findings reveal spectral variations around the 2014 gamma-ray flare, aligning with the shock-in-jet model. A strong correlation is observed between gamma-ray and 43 GHz emissions, with a 27-day lag in the VLBI core light curve, indicating a 50-day delay from the beginning of a specific radio flare to the gamma-ray peak. This radio flare correlates with a new jet component, suggesting the 2014 gamma-ray flare resulted from its interaction with a stationary component. Our analysis indicates the 2014 gamma-ray flare originated 40-63 parsecs from the central engine, with seed photons for the gamma-ray emission unlikely from the broad-line region. |\n",
       "|<p style=\"color:green\"> **ERROR** </p>| <p style=\"color:green\">affiliation error: mpia.affiliation_verifications: 'Heidelberg' keyword not found.</p> |"
      ],
      "text/plain": [
       "<IPython.core.display.Markdown object>"
      ]
     },
     "metadata": {},
     "output_type": "display_data"
    },
    {
     "data": {
      "text/markdown": [
       "\n",
       "|||\n",
       "|---:|:---|\n",
       "| [![arXiv](https://img.shields.io/badge/arXiv-arXiv:2404.06893-b31b1b.svg)](https://arxiv.org/abs/arXiv:2404.06893) | **Impact of reflection Comptonization on X-ray reflection spectroscopy:  the case of EXO 1846-031**  |\n",
       "|| <mark>S. Li</mark>, et al. |\n",
       "|*Appeared on*| *2024-04-11*|\n",
       "|*Comments*| *12 pages, 7 figures*|\n",
       "|**Abstract**| Within the disk-corona model, it is natural to expect that a fraction of reflection photons from the disk are Compton scattered by the hot corona (reflection Comptonization), even if this effect is usually ignored in X-ray reflection spectroscopy studies. We study the effect by using NICER and NuSTAR data of the Galactic black hole EXO 1846-031 in the hard-intermediate state with the model SIMPLCUTX. Our analysis suggests that a scattered fraction of order 10% is required to fit the data, but the inclusion of reflection Comptonization does not change appreciably the measurements of key-parameters like the black hole spin and the inclination angle of the disk. |\n",
       "|<p style=\"color:green\"> **ERROR** </p>| <p style=\"color:green\">affiliation error: mpia.affiliation_verifications: 'Heidelberg' keyword not found.</p> |"
      ],
      "text/plain": [
       "<IPython.core.display.Markdown object>"
      ]
     },
     "metadata": {},
     "output_type": "display_data"
    },
    {
     "data": {
      "text/markdown": [
       "\n",
       "|||\n",
       "|---:|:---|\n",
       "| [![arXiv](https://img.shields.io/badge/arXiv-arXiv:2404.07149-b31b1b.svg)](https://arxiv.org/abs/arXiv:2404.07149) | **Tianyu: search for the second solar system and explore the dynamic  universe**  |\n",
       "|| F. Feng, et al. -- incl., <mark>J. Shi</mark>, <mark>J. Li</mark> |\n",
       "|*Appeared on*| *2024-04-11*|\n",
       "|*Comments*| *48 pages, 16 figures, accepted by Acta Astronomica Sinica*|\n",
       "|**Abstract**| Giant planets like Jupiter and Saturn, play important roles in the formation and habitability of Earth-like planets. The detection of solar system analogs that have multiple cold giant planets is essential for our understanding of planet habitability and planet formation. Although transit surveys such as Kepler and TESS have discovered thousands of exoplanets, these missions are not sensitive to long period planets due to their limited observation baseline. The Tianyu project, comprising two 1-meter telescopes (Tianyu-I and II), is designed to detect transiting cold giant planets in order to find solar system analogs. Featuring a large field of view and equipped with a high-speed CMOS camera, Tianyu-I will perform a high-precision photometric survey of about 100 million stars, measuring light curves at hour-long cadence. The candidates found by Tianyu-I will be confirmed by Tianyu-II and other surveys and follow-up facilities through multi-band photometry, spectroscopy, and high resolution imaging. Tianyu telescopes will be situated at an elevation about 4000 meters in Lenghu, China. With a photometric precision of 1% for stars with V < 18 mag, Tianyu is expected to find more than 300 transiting exoplanets, including about 12 cold giant planets, over five years. A five-year survey of Tianyu would discover 1-2 solar system analogs. Moreover, Tianyu is also designed for non-exoplanetary exploration, incorporating multiple survey modes covering timescales from sub-seconds to months, with a particular emphasis on events occurring within the sub-second to hour range. It excels in observing areas such as infant supernovae, rare variable stars and binaries, tidal disruption events, Be stars, cometary activities, and interstellar objects. These discoveries not only enhance our comprehension of the universe but also offer compelling opportunities for public engagement in scientific exploration. |\n",
       "|<p style=\"color:green\"> **ERROR** </p>| <p style=\"color:green\">affiliation error: mpia.affiliation_verifications: 'Heidelberg' keyword not found.</p> |"
      ],
      "text/plain": [
       "<IPython.core.display.Markdown object>"
      ]
     },
     "metadata": {},
     "output_type": "display_data"
    }
   ],
   "source": [
    "import datetime\n",
    "today = str(datetime.date.today())\n",
    "logfile = f\"_build/html/logs/log-{today}.md\"\n",
    "\n",
    "\n",
    "with open(logfile, 'w') as logs:\n",
    "    # Success\n",
    "    logs.write(f'# Arxiv on Deck 2: Logs - {today}\\n\\n')\n",
    "    logs.write(\"\"\"* Arxiv had {0:,d} new papers\\n\"\"\".format(len(new_papers)))\n",
    "    logs.write(\"\"\"    * {0:,d} with possible author matches\\n\\n\"\"\".format(len(candidates)))\n",
    "    logs.write(\"## Sucessful papers\\n\\n\")\n",
    "    display(Markdown(\"## Successful papers\"))\n",
    "    success = [k[0] for k in documents]\n",
    "    for candid in candidates:\n",
    "        if candid['identifier'].split(':')[-1] in success:\n",
    "            display(candid)\n",
    "            logs.write(candid.generate_markdown_text() + '\\n\\n')\n",
    "\n",
    "    ## failed\n",
    "    logs.write(\"## Failed papers\\n\\n\")\n",
    "    display(Markdown(\"## Failed papers\"))\n",
    "    failed = sorted(failed, key=lambda x: x[1])\n",
    "    current_reason = \"\"\n",
    "    for paper, reason in failed:\n",
    "        if 'affiliation' in reason:\n",
    "            color = 'green'\n",
    "        else:\n",
    "            color = 'red'\n",
    "        data = Markdown(\n",
    "                paper.generate_markdown_text() + \n",
    "                f'\\n|<p style=\"color:{color:s}\"> **ERROR** </p>| <p style=\"color:{color:s}\">{reason:s}</p> |'\n",
    "               )\n",
    "        if reason != current_reason:\n",
    "            logs.write(f'### {reason:s} \\n\\n')\n",
    "            current_reason = reason\n",
    "        logs.write(data.data + '\\n\\n')\n",
    "        \n",
    "        # only display here the important errors (all in logs)\n",
    "        # if color in ('red',):\n",
    "        display(data)"
   ]
  },
  {
   "cell_type": "markdown",
   "id": "472d20ee",
   "metadata": {
    "papermill": {
     "duration": 0.004035,
     "end_time": "2024-04-11T04:10:30.076349",
     "exception": false,
     "start_time": "2024-04-11T04:10:30.072314",
     "status": "completed"
    },
    "tags": []
   },
   "source": [
    "## Export documents\n",
    "\n",
    "We now write the .md files and export relevant images"
   ]
  },
  {
   "cell_type": "code",
   "execution_count": 6,
   "id": "d426aed9",
   "metadata": {
    "execution": {
     "iopub.execute_input": "2024-04-11T04:10:30.085633Z",
     "iopub.status.busy": "2024-04-11T04:10:30.085228Z",
     "iopub.status.idle": "2024-04-11T04:10:30.091347Z",
     "shell.execute_reply": "2024-04-11T04:10:30.090759Z"
    },
    "papermill": {
     "duration": 0.012164,
     "end_time": "2024-04-11T04:10:30.092629",
     "exception": false,
     "start_time": "2024-04-11T04:10:30.080465",
     "status": "completed"
    },
    "tags": []
   },
   "outputs": [],
   "source": [
    "def export_markdown_summary(md: str, md_fname:str, directory: str):\n",
    "    \"\"\"Export MD document and associated relevant images\"\"\"\n",
    "    import os\n",
    "    import shutil\n",
    "    import re\n",
    "\n",
    "    if (os.path.exists(directory) and not os.path.isdir(directory)):\n",
    "        raise RuntimeError(f\"a non-directory file exists with name {directory:s}\")\n",
    "\n",
    "    if (not os.path.exists(directory)):\n",
    "        print(f\"creating directory {directory:s}\")\n",
    "        os.mkdir(directory)\n",
    "\n",
    "    fig_fnames = (re.compile(r'\\[Fig.*\\]\\((.*)\\)').findall(md) + \n",
    "                  re.compile(r'\\<img src=\"([^>\\s]*)\"[^>]*/>').findall(md))\n",
    "    for fname in fig_fnames:\n",
    "        if 'http' in fname:\n",
    "            # No need to copy online figures\n",
    "            continue\n",
    "        destdir = os.path.join(directory, os.path.dirname(fname))\n",
    "        destfname = os.path.join(destdir, os.path.basename(fname))\n",
    "        try:\n",
    "            os.makedirs(destdir)\n",
    "        except FileExistsError:\n",
    "            pass\n",
    "        shutil.copy(fname, destfname)\n",
    "    with open(os.path.join(directory, md_fname), 'w') as fout:\n",
    "        fout.write(md)\n",
    "    print(\"exported in \", os.path.join(directory, md_fname))\n",
    "    [print(\"    + \" + os.path.join(directory,fk)) for fk in fig_fnames]"
   ]
  },
  {
   "cell_type": "code",
   "execution_count": 7,
   "id": "014d04a4",
   "metadata": {
    "execution": {
     "iopub.execute_input": "2024-04-11T04:10:30.102048Z",
     "iopub.status.busy": "2024-04-11T04:10:30.101654Z",
     "iopub.status.idle": "2024-04-11T04:10:30.107659Z",
     "shell.execute_reply": "2024-04-11T04:10:30.107039Z"
    },
    "papermill": {
     "duration": 0.012288,
     "end_time": "2024-04-11T04:10:30.109070",
     "exception": false,
     "start_time": "2024-04-11T04:10:30.096782",
     "status": "completed"
    },
    "tags": []
   },
   "outputs": [
    {
     "name": "stdout",
     "output_type": "stream",
     "text": [
      "exported in  _build/html/2404.06930.md\n",
      "    + _build/html/tmp_2404.06930/./images/ztf_lco_corr_full.png\n",
      "    + _build/html/tmp_2404.06930/./images/siii_flux_window_2panel.png\n",
      "    + _build/html/tmp_2404.06930/./images/z_band_spec_photom_check.png\n"
     ]
    }
   ],
   "source": [
    "for paper_id, md in documents:\n",
    "    export_markdown_summary(md, f\"{paper_id:s}.md\", '_build/html/')"
   ]
  },
  {
   "cell_type": "markdown",
   "id": "f087a0a7",
   "metadata": {
    "papermill": {
     "duration": 0.004203,
     "end_time": "2024-04-11T04:10:30.117547",
     "exception": false,
     "start_time": "2024-04-11T04:10:30.113344",
     "status": "completed"
    },
    "tags": []
   },
   "source": [
    "## Display the papers\n",
    "\n",
    "Not necessary but allows for a quick check."
   ]
  },
  {
   "cell_type": "code",
   "execution_count": 8,
   "id": "fd25f625",
   "metadata": {
    "execution": {
     "iopub.execute_input": "2024-04-11T04:10:30.127127Z",
     "iopub.status.busy": "2024-04-11T04:10:30.126687Z",
     "iopub.status.idle": "2024-04-11T04:10:30.131209Z",
     "shell.execute_reply": "2024-04-11T04:10:30.130583Z"
    },
    "papermill": {
     "duration": 0.010696,
     "end_time": "2024-04-11T04:10:30.132446",
     "exception": false,
     "start_time": "2024-04-11T04:10:30.121750",
     "status": "completed"
    },
    "scrolled": false,
    "tags": []
   },
   "outputs": [
    {
     "data": {
      "text/markdown": [
       "<div class=\"macros\" style=\"visibility:hidden;\">\n",
       "$\\newcommand{\\ensuremath}{}$\n",
       "$\\newcommand{\\xspace}{}$\n",
       "$\\newcommand{\\object}[1]{\\texttt{#1}}$\n",
       "$\\newcommand{\\farcs}{{.}''}$\n",
       "$\\newcommand{\\farcm}{{.}'}$\n",
       "$\\newcommand{\\arcsec}{''}$\n",
       "$\\newcommand{\\arcmin}{'}$\n",
       "$\\newcommand{\\ion}[2]{#1#2}$\n",
       "$\\newcommand{\\textsc}[1]{\\textrm{#1}}$\n",
       "$\\newcommand{\\hl}[1]{\\textrm{#1}}$\n",
       "$\\newcommand{\\footnote}[1]{}$\n",
       "$\\newcommand{\\la}{\\mathrel{\\hbox{\\rlap{\\hbox{\\lower4pt\\hbox{\\sim}}}\\hbox{<}}}}$\n",
       "$\\newcommand{\\ga}{\\mathrel{\\hbox{\\rlap{\\hbox{\\lower4pt\\hbox{\\sim}}}\\hbox{>}}}}$\n",
       "$\\newcommand{\\OIII}{[O~{\\sevenrm III}]}$\n",
       "$\\newcommand{\\FeII}{Fe~{\\sevenrm II}}$\n",
       "$\\newcommand{\\FeIIf}{[Fe~{\\sevenrm II}]}$\n",
       "$\\newcommand{\\SIII}{[S~{\\sevenrm III}]}$\n",
       "$\\newcommand{\\HeI}{He~{\\sevenrm I}}$\n",
       "$\\newcommand{\\HeII}{He~{\\sevenrm II}}$\n",
       "$\\newcommand{\\NeV}{[Ne~{\\sevenrm V}]}$\n",
       "$\\newcommand{\\OIV}{[O~{\\sevenrm IV}]}$\n",
       "$\\newcommand{\\iraf}{{\\sevenrm IRAF}}$\n",
       "$\\newcommand{\\mpfit}{{\\sevenrm MPFIT}}$\n",
       "$\\newcommand{\\galfit}{{\\sevenrm GALFIT}}$\n",
       "$\\newcommand{\\mapspec}{{\\sevenrm mapspec}}$\n",
       "$\\newcommand{\\cream}{{\\sevenrm CREAM}}$\n",
       "$\\newcommand{\\javelin}{{\\sevenrm JAVELIN}}$\n",
       "$\\newcommand{\\clumpy}{{\\sevenrm CLUMPY}}$\n",
       "$\\newcommand{\\cloudy}{{\\sevenrm CLOUDY}}$\n",
       "$\\newcommand{\\astroimagej}{{\\sevenrm AstroImageJ}}$\n",
       "$\\newcommand{\\banzai}{{\\sevenrm BANZAI}}$\n",
       "$\\newcommand{\\orac}{{\\sevenrm ORAC}}$\n",
       "$\\newcommand{\\python}{{\\sevenrm python}}$\n",
       "$\\newcommand{\\prepspec}{{\\sevenrm prepspec}}$\n",
       "$\\newcommand{\\GW}{{\\sevenrm GW92}}$\n",
       "$\\newcommand{\\spextool}{{\\sevenrm Spextool}}$</div>\n",
       "\n",
       "\n",
       "\n",
       "<div id=\"title\">\n",
       "\n",
       "# The first spectroscopic IR reverberation programme on Mrk 509\n",
       "\n",
       "</div>\n",
       "<div id=\"comments\">\n",
       "\n",
       "[![arXiv](https://img.shields.io/badge/arXiv-2404.06930-b31b1b.svg)](https://arxiv.org/abs/2404.06930)<mark>Appeared on: 2024-04-11</mark> -  _16 pages, 12 figures_\n",
       "\n",
       "</div>\n",
       "<div id=\"authors\">\n",
       "\n",
       "J. A. J. Mitchell, et al. -- incl., <mark>J.-U. Pott</mark>\n",
       "\n",
       "</div>\n",
       "<div id=\"abstract\">\n",
       "\n",
       "**Abstract:** Near IR spectroscopic reverberation of Active Galactic Nuclei (AGN) potentiallyallows the IR broad line region (BLR)to be reverberated alongside the disc and dust continua, while the spectra can also reveal details of dust astro-chemistry. Here we describe results of a short pilot study (17 near-IR spectra over a 183 day period) for Mrk 509. The spectra give a luminosity-weighted dust radius of $\\mbox{$\\langle R_{\\rm d,lum} \\rangle = 186\\pm4$ light-days}$ for blackbody (large grain dust), consistent with previous (photometric) reverberation campaigns, whereas carbon and silicate dust give much larger radii.We develop a method of calibrating spectral data in objects where the narrow lines are extended beyond the slit width. Wedemonstrate this by showing our resultantphotometric band lightcurves are consistent with previous results, with ahot dust lag at >40 days in the $K$ -band, clearly different from the accretion disc response at <20 days in the $z$ -band. We place this limit of 40 days by demonstrating clearly that the modest variability that we do detect in the $H$ and $K$ -band does not reverberate on timescales of less than 40 days.We also extract the Pa $\\beta$ line lightcurve, and find a lag which is consistent with the optical BLR H $\\beta$ line of $\\sim70-90$ days. This is important as direct imaging of the near-IR BLR is now possible in a few objects, so we need to understand its relation to the better studied optical BLR.\n",
       "\n",
       "</div>\n",
       "\n",
       "<div id=\"div_fig1\">\n",
       "\n",
       "<img src=\"tmp_2404.06930/./images/ztf_lco_corr_full.png\" alt=\"Fig9\" width=\"100%\"/>\n",
       "\n",
       "**Figure 9. -**  LCO $g$-band observations of Mrk 509 with complementary corrected ZTF $g$ band data. The most significant variability feature measured contemporaneously with our near-IR spectra is shaded in red. Archival LCOGT data (MJD<58200) is shown to extend the time baseline. Spectral epochs are marked by red arrows.  (*ztf_lco*)\n",
       "\n",
       "</div>\n",
       "<div id=\"div_fig2\">\n",
       "\n",
       "<img src=\"tmp_2404.06930/./images/siii_flux_window_2panel.png\" alt=\"Fig2\" width=\"100%\"/>\n",
       "\n",
       "**Figure 2. -** **Top Panel:**  Pa$\\beta$ emission line from Mrk 509 spectrum taken on 26 August 2019. Red line represents a linearly fitted continuum, subtracted in order to calculate enclosed flux. The continuum has been fit using a blueward clean continuum window of (12500-12640) Å  and the redward clean continuum window of (13000-13050) Å, these regions are highlighted in blue. The redward window is necessarily short as beyond this there is significant telluric absorption. **Bottom Panel:**  Mean spectrum of Mrk 509 from all 4 nights with photometric conditions. Pa$\\mathrm{\\beta}$ profile (black) scaled to match Pa$\\mathrm{\\epsilon}$(red), in order to isolate the constant $\\SIII$$\\mathrm{$\\la$mbda 9531}$ component from any variable broad line emission. The slope of the Pa$\\mathrm{\\beta}$ profile in the $\\SIII$  window is shown as the artificial continuum in grey. Both panels centre on the rest frame wavelengths of 12821.6 $\\mathrm{\\Angstrom}$ and 9548.6 $\\mathrm{\\Angstrom}$ for Pa$\\beta$ and Pa$\\epsilon$ respectively and have a matched velocity range.\n",
       " (*siii_flux_window*)\n",
       "\n",
       "</div>\n",
       "<div id=\"div_fig3\">\n",
       "\n",
       "<img src=\"tmp_2404.06930/./images/z_band_spec_photom_check.png\" alt=\"Fig4\" width=\"100%\"/>\n",
       "\n",
       "**Figure 4. -** **Top Panel:** LCO $z_s$ band photometry, uncorrected for host galaxy contribution in black, with all 17 spectral LCO $z_s$ band (8180-9220 $\\mathrm{\\Angstrom}$ observed frame) uncorrected fluxes plotted in red. **Second Panel:** LCO $z_s$ band photometry, uncorrected for host galaxy contribution in black, with all 17 spectral  LCO $z_s$ band ((8180-9220) $\\mathrm{\\Angstrom}$ observed frame) fluxes, corrected with $\\mapspec$  scaling factors are plotted in red.**Third Panel:** LCO $z_s$ band photometry, corrected for a constant host galaxy contribution in black, with all 17 spectral LCO $z_s$ band (8180-9220 $\\mathrm{\\Angstrom}$ observed frame) fluxes, corrected with the $\\mapspec$  scaling factors  plotted in red. Spectral fluxes measured on MJD 58745.30 and 58801.20 are encircled in red as they do not match well with the   LCO $z_s$ band photometry. The night of 26$\\mathrm{^{th}}$ August 2019 is highlighted with a dashed red line. **Bottom Panel:** The $\\mapspec$  corrected lightcurve has been further corrected to the LCO $z_s$ band photometry by scaling to the weighted mean of all photometric data points within three days of each spectral data point. The errors displayed are defined by the spread of the data to which the spectral points have been corrected, or the mean spread of the photometry within any given 3 day period of the spread if the correction was less than this value. These uncertainties have been propagated to our corrected lightcurves along with the $\\mapspec$  uncertainties displayed in the panel above.   (*z_check*)\n",
       "\n",
       "</div><div id=\"qrcode\"><img src=https://api.qrserver.com/v1/create-qr-code/?size=100x100&data=\"https://arxiv.org/abs/2404.06930\"></div>"
      ],
      "text/plain": [
       "<IPython.core.display.Markdown object>"
      ]
     },
     "metadata": {},
     "output_type": "display_data"
    }
   ],
   "source": [
    "[display(Markdown(k[1])) for k in documents];"
   ]
  },
  {
   "cell_type": "markdown",
   "id": "873873a4",
   "metadata": {
    "papermill": {
     "duration": 0.00437,
     "end_time": "2024-04-11T04:10:30.141267",
     "exception": false,
     "start_time": "2024-04-11T04:10:30.136897",
     "status": "completed"
    },
    "tags": []
   },
   "source": [
    "# Create HTML index"
   ]
  },
  {
   "cell_type": "code",
   "execution_count": 9,
   "id": "cf665672",
   "metadata": {
    "execution": {
     "iopub.execute_input": "2024-04-11T04:10:30.151259Z",
     "iopub.status.busy": "2024-04-11T04:10:30.150907Z",
     "iopub.status.idle": "2024-04-11T04:10:30.160145Z",
     "shell.execute_reply": "2024-04-11T04:10:30.159552Z"
    },
    "papermill": {
     "duration": 0.015655,
     "end_time": "2024-04-11T04:10:30.161430",
     "exception": false,
     "start_time": "2024-04-11T04:10:30.145775",
     "status": "completed"
    },
    "tags": []
   },
   "outputs": [
    {
     "name": "stdout",
     "output_type": "stream",
     "text": [
      "401  publications files modified in the last 7 days.\n"
     ]
    }
   ],
   "source": [
    "from datetime import datetime, timedelta, timezone\n",
    "from glob import glob\n",
    "import os\n",
    "\n",
    "files = glob('_build/html/*.md')\n",
    "days = 7\n",
    "now = datetime.today()\n",
    "res = []\n",
    "for fk in files:\n",
    "    stat_result = os.stat(fk).st_ctime\n",
    "    modified = datetime.fromtimestamp(stat_result, tz=timezone.utc).replace(tzinfo=None)\n",
    "    delta = now.today() - modified\n",
    "    if delta <= timedelta(days=days):\n",
    "        res.append((delta.seconds, fk))\n",
    "res = [k[1] for k in reversed(sorted(res, key=lambda x:x[1]))]\n",
    "npub = len(res)\n",
    "print(len(res), f\" publications files modified in the last {days:d} days.\")\n",
    "# [ print('\\t', k) for k in res ];"
   ]
  },
  {
   "cell_type": "code",
   "execution_count": 10,
   "id": "015de740",
   "metadata": {
    "execution": {
     "iopub.execute_input": "2024-04-11T04:10:30.171538Z",
     "iopub.status.busy": "2024-04-11T04:10:30.171299Z",
     "iopub.status.idle": "2024-04-11T04:10:30.193780Z",
     "shell.execute_reply": "2024-04-11T04:10:30.193204Z"
    },
    "papermill": {
     "duration": 0.02893,
     "end_time": "2024-04-11T04:10:30.195057",
     "exception": false,
     "start_time": "2024-04-11T04:10:30.166127",
     "status": "completed"
    },
    "tags": []
   },
   "outputs": [
    {
     "name": "stdout",
     "output_type": "stream",
     "text": [
      "7  publications in the last 7 days.\n"
     ]
    }
   ],
   "source": [
    "import datetime\n",
    "from glob import glob\n",
    "\n",
    "def get_last_n_days(lst, days=1):\n",
    "    \"\"\" Get the documents from the last n days \"\"\"\n",
    "    sorted_lst = sorted(lst, key=lambda x: x[1], reverse=True)\n",
    "    for fname, date in sorted_lst:\n",
    "        if date >= str(datetime.date.today() - datetime.timedelta(days=days)):\n",
    "            yield fname\n",
    "\n",
    "def extract_appearance_dates(lst_file):\n",
    "    dates = []\n",
    "\n",
    "    def get_date(line):\n",
    "        return line\\\n",
    "            .split('Appeared on:')[-1]\\\n",
    "            .split('</mark>')[0].strip()\n",
    "\n",
    "    for fname in lst:\n",
    "        with open(fname, 'r') as f:\n",
    "            found_date = False\n",
    "            for line in f:\n",
    "                if not found_date:\n",
    "                    if \"Appeared on\" in line:\n",
    "                        found_date = True\n",
    "                        dates.append((fname, get_date(line)))\n",
    "                else:\n",
    "                    break\n",
    "    return dates\n",
    "\n",
    "from glob import glob\n",
    "lst = glob('_build/html/*md')\n",
    "days = 7\n",
    "dates = extract_appearance_dates(lst)\n",
    "res = list(get_last_n_days(dates, days))\n",
    "npub = len(res)\n",
    "print(len(res), f\" publications in the last {days:d} days.\")"
   ]
  },
  {
   "cell_type": "code",
   "execution_count": 11,
   "id": "52ca0208",
   "metadata": {
    "execution": {
     "iopub.execute_input": "2024-04-11T04:10:30.205410Z",
     "iopub.status.busy": "2024-04-11T04:10:30.204912Z",
     "iopub.status.idle": "2024-04-11T04:10:30.210254Z",
     "shell.execute_reply": "2024-04-11T04:10:30.209726Z"
    },
    "papermill": {
     "duration": 0.01179,
     "end_time": "2024-04-11T04:10:30.211475",
     "exception": false,
     "start_time": "2024-04-11T04:10:30.199685",
     "status": "completed"
    },
    "scrolled": false,
    "tags": []
   },
   "outputs": [],
   "source": [
    "def create_carousel(npub=4):\n",
    "    \"\"\" Generate the HTML code for a carousel with `npub` slides \"\"\"\n",
    "    carousel = [\"\"\"  <div class=\"carousel\" \"\"\",\n",
    "                \"\"\"       data-flickity='{ \"autoPlay\": 10000, \"adaptiveHeight\": true, \"resize\": true, \"wrapAround\": true, \"pauseAutoPlayOnHover\": true, \"groupCells\": 1 }' id=\"asyncTypeset\">\"\"\"\n",
    "                ]\n",
    "    \n",
    "    item_str = \"\"\"    <div class=\"carousel-cell\"> <div id=\"slide{k}\" class=\"md_view\">Content {k}</div> </div>\"\"\"\n",
    "    for k in range(1, npub + 1):\n",
    "        carousel.append(item_str.format(k=k))\n",
    "    carousel.append(\"  </div>\")\n",
    "    return '\\n'.join(carousel)\n",
    "\n",
    "def create_grid(npub=4):\n",
    "    \"\"\" Generate the HTML code for a flat grid with `npub` slides \"\"\"\n",
    "    grid = [\"\"\"  <div class=\"grid\"> \"\"\",\n",
    "                ]\n",
    "    \n",
    "    item_str = \"\"\"    <div class=\"grid-item\"> <div id=\"slide{k}\" class=\"md_view\">Content {k}</div> </div>\"\"\"\n",
    "    for k in range(1, npub + 1):\n",
    "        grid.append(item_str.format(k=k))\n",
    "    grid.append(\"  </div>\")\n",
    "    return '\\n'.join(grid)"
   ]
  },
  {
   "cell_type": "code",
   "execution_count": 12,
   "id": "a6eac5b6",
   "metadata": {
    "execution": {
     "iopub.execute_input": "2024-04-11T04:10:30.221866Z",
     "iopub.status.busy": "2024-04-11T04:10:30.221498Z",
     "iopub.status.idle": "2024-04-11T04:10:30.226338Z",
     "shell.execute_reply": "2024-04-11T04:10:30.225832Z"
    },
    "papermill": {
     "duration": 0.011526,
     "end_time": "2024-04-11T04:10:30.227631",
     "exception": false,
     "start_time": "2024-04-11T04:10:30.216105",
     "status": "completed"
    },
    "scrolled": false,
    "tags": []
   },
   "outputs": [],
   "source": [
    "carousel = create_carousel(npub)\n",
    "docs = ', '.join(['\"{0:s}\"'.format(k.split('/')[-1]) for k in res])\n",
    "slides = ', '.join([f'\"slide{k}\"' for k in range(1, npub + 1)])\n",
    "\n",
    "with open(\"daily_template.html\", \"r\") as tpl:\n",
    "    page = tpl.read()\n",
    "    page = page.replace(\"{%-- carousel:s --%}\", carousel)\\\n",
    "               .replace(\"{%-- suptitle:s --%}\",  \"7-day archives\" )\\\n",
    "               .replace(\"{%-- docs:s --%}\", docs)\\\n",
    "               .replace(\"{%-- slides:s --%}\", slides)\n",
    "    \n",
    "with open(\"_build/html/index_7days.html\", 'w') as fout:\n",
    "    fout.write(page)"
   ]
  },
  {
   "cell_type": "code",
   "execution_count": 13,
   "id": "adc1a1ec",
   "metadata": {
    "execution": {
     "iopub.execute_input": "2024-04-11T04:10:30.238128Z",
     "iopub.status.busy": "2024-04-11T04:10:30.237737Z",
     "iopub.status.idle": "2024-04-11T04:10:30.244518Z",
     "shell.execute_reply": "2024-04-11T04:10:30.243976Z"
    },
    "papermill": {
     "duration": 0.013515,
     "end_time": "2024-04-11T04:10:30.245863",
     "exception": false,
     "start_time": "2024-04-11T04:10:30.232348",
     "status": "completed"
    },
    "tags": []
   },
   "outputs": [
    {
     "name": "stdout",
     "output_type": "stream",
     "text": [
      "2  publications in the last day.\n"
     ]
    }
   ],
   "source": [
    "# redo for today\n",
    "days = 1\n",
    "res = list(get_last_n_days(dates, days))\n",
    "npub = len(res)\n",
    "print(len(res), f\" publications in the last day.\")\n",
    "\n",
    "carousel = create_carousel(npub)\n",
    "docs = ', '.join(['\"{0:s}\"'.format(k.split('/')[-1]) for k in res])\n",
    "slides = ', '.join([f'\"slide{k}\"' for k in range(1, npub + 1)])\n",
    "\n",
    "with open(\"daily_template.html\", \"r\") as tpl:\n",
    "    page = tpl.read()\n",
    "    page = page.replace(\"{%-- carousel:s --%}\", carousel)\\\n",
    "               .replace(\"{%-- suptitle:s --%}\",  \"Daily\" )\\\n",
    "               .replace(\"{%-- docs:s --%}\", docs)\\\n",
    "               .replace(\"{%-- slides:s --%}\", slides)\n",
    "    \n",
    "# print(carousel, docs, slides)\n",
    "# print(page)\n",
    "with open(\"_build/html/index_daily.html\", 'w') as fout:\n",
    "    fout.write(page)"
   ]
  },
  {
   "cell_type": "code",
   "execution_count": 14,
   "id": "00eece82",
   "metadata": {
    "execution": {
     "iopub.execute_input": "2024-04-11T04:10:30.256397Z",
     "iopub.status.busy": "2024-04-11T04:10:30.256058Z",
     "iopub.status.idle": "2024-04-11T04:10:30.262426Z",
     "shell.execute_reply": "2024-04-11T04:10:30.261815Z"
    },
    "papermill": {
     "duration": 0.013091,
     "end_time": "2024-04-11T04:10:30.263761",
     "exception": false,
     "start_time": "2024-04-11T04:10:30.250670",
     "status": "completed"
    },
    "scrolled": false,
    "tags": []
   },
   "outputs": [
    {
     "name": "stdout",
     "output_type": "stream",
     "text": [
      "6  6 publications selected.\n"
     ]
    }
   ],
   "source": [
    "# Create the flat grid of the last N papers (fixed number regardless of dates)\n",
    "from itertools import islice \n",
    "\n",
    "npub = 6\n",
    "res = [k[0] for k in (islice(reversed(sorted(dates, key=lambda x: x[1])), 6))]\n",
    "print(len(res), f\" {npub} publications selected.\")\n",
    "\n",
    "grid = create_grid(npub)\n",
    "docs = ', '.join(['\"{0:s}\"'.format(k.split('/')[-1]) for k in res])\n",
    "slides = ', '.join([f'\"slide{k}\"' for k in range(1, npub + 1)])\n",
    "\n",
    "with open(\"grid_template.html\", \"r\") as tpl:\n",
    "    page = tpl.read()\n",
    "    page = page.replace(\"{%-- grid-content:s --%}\", grid)\\\n",
    "               .replace(\"{%-- suptitle:s --%}\",  f\"Last {npub:,d} papers\" )\\\n",
    "               .replace(\"{%-- docs:s --%}\", docs)\\\n",
    "               .replace(\"{%-- slides:s --%}\", slides)\n",
    "    \n",
    "# print(grid, docs, slides)\n",
    "# print(page)\n",
    "with open(\"_build/html/index_npub_grid.html\", 'w') as fout:\n",
    "    fout.write(page)"
   ]
  }
 ],
 "metadata": {
  "kernelspec": {
   "display_name": "Python 3 (ipykernel)",
   "language": "python",
   "name": "python3"
  },
  "language_info": {
   "codemirror_mode": {
    "name": "ipython",
    "version": 3
   },
   "file_extension": ".py",
   "mimetype": "text/x-python",
   "name": "python",
   "nbconvert_exporter": "python",
   "pygments_lexer": "ipython3",
   "version": "3.9.19"
  },
  "papermill": {
   "default_parameters": {},
   "duration": 140.405263,
   "end_time": "2024-04-11T04:10:30.484582",
   "environment_variables": {},
   "exception": null,
   "input_path": "MPIA daily digest.ipynb",
   "output_path": "log.ipynb",
   "parameters": {},
   "start_time": "2024-04-11T04:08:10.079319",
   "version": "2.5.0"
  },
  "vscode": {
   "interpreter": {
    "hash": "aee8b7b246df8f9039afb4144a1f6fd8d2ca17a180786b69acc140d282b71a49"
   }
  },
  "widgets": {
   "application/vnd.jupyter.widget-state+json": {
    "state": {
     "18bdfab120764f8886e7e2c79ae34647": {
      "model_module": "@jupyter-widgets/base",
      "model_module_version": "2.0.0",
      "model_name": "LayoutModel",
      "state": {
       "_model_module": "@jupyter-widgets/base",
       "_model_module_version": "2.0.0",
       "_model_name": "LayoutModel",
       "_view_count": null,
       "_view_module": "@jupyter-widgets/base",
       "_view_module_version": "2.0.0",
       "_view_name": "LayoutView",
       "align_content": null,
       "align_items": null,
       "align_self": null,
       "border_bottom": null,
       "border_left": null,
       "border_right": null,
       "border_top": null,
       "bottom": null,
       "display": null,
       "flex": null,
       "flex_flow": null,
       "grid_area": null,
       "grid_auto_columns": null,
       "grid_auto_flow": null,
       "grid_auto_rows": null,
       "grid_column": null,
       "grid_gap": null,
       "grid_row": null,
       "grid_template_areas": null,
       "grid_template_columns": null,
       "grid_template_rows": null,
       "height": null,
       "justify_content": null,
       "justify_items": null,
       "left": null,
       "margin": null,
       "max_height": null,
       "max_width": null,
       "min_height": null,
       "min_width": null,
       "object_fit": null,
       "object_position": null,
       "order": null,
       "overflow": null,
       "padding": null,
       "right": null,
       "top": null,
       "visibility": null,
       "width": null
      }
     },
     "1d5c90562b4a4b94b5f69d2ba33fd0a3": {
      "model_module": "@jupyter-widgets/controls",
      "model_module_version": "2.0.0",
      "model_name": "HTMLStyleModel",
      "state": {
       "_model_module": "@jupyter-widgets/controls",
       "_model_module_version": "2.0.0",
       "_model_name": "HTMLStyleModel",
       "_view_count": null,
       "_view_module": "@jupyter-widgets/base",
       "_view_module_version": "2.0.0",
       "_view_name": "StyleView",
       "background": null,
       "description_width": "",
       "font_size": null,
       "text_color": null
      }
     },
     "38503f1f92e54e39af7d111a938ea5f3": {
      "model_module": "@jupyter-widgets/controls",
      "model_module_version": "2.0.0",
      "model_name": "FloatProgressModel",
      "state": {
       "_dom_classes": [],
       "_model_module": "@jupyter-widgets/controls",
       "_model_module_version": "2.0.0",
       "_model_name": "FloatProgressModel",
       "_view_count": null,
       "_view_module": "@jupyter-widgets/controls",
       "_view_module_version": "2.0.0",
       "_view_name": "ProgressView",
       "bar_style": "success",
       "description": "",
       "description_allow_html": false,
       "layout": "IPY_MODEL_413af87a583a4371b6e845961257b581",
       "max": 5.0,
       "min": 0.0,
       "orientation": "horizontal",
       "style": "IPY_MODEL_dace62f4ac09471eb84fe3b5ccbfee4d",
       "tabbable": null,
       "tooltip": null,
       "value": 5.0
      }
     },
     "413af87a583a4371b6e845961257b581": {
      "model_module": "@jupyter-widgets/base",
      "model_module_version": "2.0.0",
      "model_name": "LayoutModel",
      "state": {
       "_model_module": "@jupyter-widgets/base",
       "_model_module_version": "2.0.0",
       "_model_name": "LayoutModel",
       "_view_count": null,
       "_view_module": "@jupyter-widgets/base",
       "_view_module_version": "2.0.0",
       "_view_name": "LayoutView",
       "align_content": null,
       "align_items": null,
       "align_self": null,
       "border_bottom": null,
       "border_left": null,
       "border_right": null,
       "border_top": null,
       "bottom": null,
       "display": null,
       "flex": null,
       "flex_flow": null,
       "grid_area": null,
       "grid_auto_columns": null,
       "grid_auto_flow": null,
       "grid_auto_rows": null,
       "grid_column": null,
       "grid_gap": null,
       "grid_row": null,
       "grid_template_areas": null,
       "grid_template_columns": null,
       "grid_template_rows": null,
       "height": null,
       "justify_content": null,
       "justify_items": null,
       "left": null,
       "margin": null,
       "max_height": null,
       "max_width": null,
       "min_height": null,
       "min_width": null,
       "object_fit": null,
       "object_position": null,
       "order": null,
       "overflow": null,
       "padding": null,
       "right": null,
       "top": null,
       "visibility": null,
       "width": null
      }
     },
     "6dcfded4627e426da7cd10468593bd0f": {
      "model_module": "@jupyter-widgets/base",
      "model_module_version": "2.0.0",
      "model_name": "LayoutModel",
      "state": {
       "_model_module": "@jupyter-widgets/base",
       "_model_module_version": "2.0.0",
       "_model_name": "LayoutModel",
       "_view_count": null,
       "_view_module": "@jupyter-widgets/base",
       "_view_module_version": "2.0.0",
       "_view_name": "LayoutView",
       "align_content": null,
       "align_items": null,
       "align_self": null,
       "border_bottom": null,
       "border_left": null,
       "border_right": null,
       "border_top": null,
       "bottom": null,
       "display": null,
       "flex": null,
       "flex_flow": null,
       "grid_area": null,
       "grid_auto_columns": null,
       "grid_auto_flow": null,
       "grid_auto_rows": null,
       "grid_column": null,
       "grid_gap": null,
       "grid_row": null,
       "grid_template_areas": null,
       "grid_template_columns": null,
       "grid_template_rows": null,
       "height": null,
       "justify_content": null,
       "justify_items": null,
       "left": null,
       "margin": null,
       "max_height": null,
       "max_width": null,
       "min_height": null,
       "min_width": null,
       "object_fit": null,
       "object_position": null,
       "order": null,
       "overflow": null,
       "padding": null,
       "right": null,
       "top": null,
       "visibility": null,
       "width": null
      }
     },
     "75280ce0388047dda86162edc82dce72": {
      "model_module": "@jupyter-widgets/controls",
      "model_module_version": "2.0.0",
      "model_name": "HTMLModel",
      "state": {
       "_dom_classes": [],
       "_model_module": "@jupyter-widgets/controls",
       "_model_module_version": "2.0.0",
       "_model_name": "HTMLModel",
       "_view_count": null,
       "_view_module": "@jupyter-widgets/controls",
       "_view_module_version": "2.0.0",
       "_view_name": "HTMLView",
       "description": "",
       "description_allow_html": false,
       "layout": "IPY_MODEL_ec97187ca2024c798f967333b192191c",
       "placeholder": "​",
       "style": "IPY_MODEL_1d5c90562b4a4b94b5f69d2ba33fd0a3",
       "tabbable": null,
       "tooltip": null,
       "value": "100%"
      }
     },
     "8d9b23ac732946d48fd65e176bdbacba": {
      "model_module": "@jupyter-widgets/controls",
      "model_module_version": "2.0.0",
      "model_name": "HTMLModel",
      "state": {
       "_dom_classes": [],
       "_model_module": "@jupyter-widgets/controls",
       "_model_module_version": "2.0.0",
       "_model_name": "HTMLModel",
       "_view_count": null,
       "_view_module": "@jupyter-widgets/controls",
       "_view_module_version": "2.0.0",
       "_view_name": "HTMLView",
       "description": "",
       "description_allow_html": false,
       "layout": "IPY_MODEL_6dcfded4627e426da7cd10468593bd0f",
       "placeholder": "​",
       "style": "IPY_MODEL_ae325cfe8e734cebbd67e7f467d62257",
       "tabbable": null,
       "tooltip": null,
       "value": " 5/5 [02:01&lt;00:00, 32.10s/it]"
      }
     },
     "ae325cfe8e734cebbd67e7f467d62257": {
      "model_module": "@jupyter-widgets/controls",
      "model_module_version": "2.0.0",
      "model_name": "HTMLStyleModel",
      "state": {
       "_model_module": "@jupyter-widgets/controls",
       "_model_module_version": "2.0.0",
       "_model_name": "HTMLStyleModel",
       "_view_count": null,
       "_view_module": "@jupyter-widgets/base",
       "_view_module_version": "2.0.0",
       "_view_name": "StyleView",
       "background": null,
       "description_width": "",
       "font_size": null,
       "text_color": null
      }
     },
     "d279eb4cd59b4242a903495c77bf1deb": {
      "model_module": "@jupyter-widgets/controls",
      "model_module_version": "2.0.0",
      "model_name": "HBoxModel",
      "state": {
       "_dom_classes": [],
       "_model_module": "@jupyter-widgets/controls",
       "_model_module_version": "2.0.0",
       "_model_name": "HBoxModel",
       "_view_count": null,
       "_view_module": "@jupyter-widgets/controls",
       "_view_module_version": "2.0.0",
       "_view_name": "HBoxView",
       "box_style": "",
       "children": [
        "IPY_MODEL_75280ce0388047dda86162edc82dce72",
        "IPY_MODEL_38503f1f92e54e39af7d111a938ea5f3",
        "IPY_MODEL_8d9b23ac732946d48fd65e176bdbacba"
       ],
       "layout": "IPY_MODEL_18bdfab120764f8886e7e2c79ae34647",
       "tabbable": null,
       "tooltip": null
      }
     },
     "dace62f4ac09471eb84fe3b5ccbfee4d": {
      "model_module": "@jupyter-widgets/controls",
      "model_module_version": "2.0.0",
      "model_name": "ProgressStyleModel",
      "state": {
       "_model_module": "@jupyter-widgets/controls",
       "_model_module_version": "2.0.0",
       "_model_name": "ProgressStyleModel",
       "_view_count": null,
       "_view_module": "@jupyter-widgets/base",
       "_view_module_version": "2.0.0",
       "_view_name": "StyleView",
       "bar_color": null,
       "description_width": ""
      }
     },
     "ec97187ca2024c798f967333b192191c": {
      "model_module": "@jupyter-widgets/base",
      "model_module_version": "2.0.0",
      "model_name": "LayoutModel",
      "state": {
       "_model_module": "@jupyter-widgets/base",
       "_model_module_version": "2.0.0",
       "_model_name": "LayoutModel",
       "_view_count": null,
       "_view_module": "@jupyter-widgets/base",
       "_view_module_version": "2.0.0",
       "_view_name": "LayoutView",
       "align_content": null,
       "align_items": null,
       "align_self": null,
       "border_bottom": null,
       "border_left": null,
       "border_right": null,
       "border_top": null,
       "bottom": null,
       "display": null,
       "flex": null,
       "flex_flow": null,
       "grid_area": null,
       "grid_auto_columns": null,
       "grid_auto_flow": null,
       "grid_auto_rows": null,
       "grid_column": null,
       "grid_gap": null,
       "grid_row": null,
       "grid_template_areas": null,
       "grid_template_columns": null,
       "grid_template_rows": null,
       "height": null,
       "justify_content": null,
       "justify_items": null,
       "left": null,
       "margin": null,
       "max_height": null,
       "max_width": null,
       "min_height": null,
       "min_width": null,
       "object_fit": null,
       "object_position": null,
       "order": null,
       "overflow": null,
       "padding": null,
       "right": null,
       "top": null,
       "visibility": null,
       "width": null
      }
     }
    },
    "version_major": 2,
    "version_minor": 0
   }
  }
 },
 "nbformat": 4,
 "nbformat_minor": 5
}