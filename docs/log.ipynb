{
 "cells": [
  {
   "cell_type": "markdown",
   "id": "92bcb855",
   "metadata": {
    "papermill": {
     "duration": 0.00398,
     "end_time": "2024-12-12T04:11:40.831898",
     "exception": false,
     "start_time": "2024-12-12T04:11:40.827918",
     "status": "completed"
    },
    "tags": []
   },
   "source": [
    "# MPIA Arxiv on Deck 2\n",
    "\n",
    "Contains the steps to produce the paper extractions."
   ]
  },
  {
   "cell_type": "code",
   "execution_count": 1,
   "id": "3a0d6e11",
   "metadata": {
    "execution": {
     "iopub.execute_input": "2024-12-12T04:11:40.839372Z",
     "iopub.status.busy": "2024-12-12T04:11:40.838814Z",
     "iopub.status.idle": "2024-12-12T04:11:41.171017Z",
     "shell.execute_reply": "2024-12-12T04:11:41.170336Z"
    },
    "papermill": {
     "duration": 0.337309,
     "end_time": "2024-12-12T04:11:41.172455",
     "exception": false,
     "start_time": "2024-12-12T04:11:40.835146",
     "status": "completed"
    },
    "tags": []
   },
   "outputs": [],
   "source": [
    "# Imports\n",
    "import os\n",
    "from IPython.display import Markdown, display\n",
    "from tqdm.notebook import tqdm\n",
    "import warnings\n",
    "from PIL import Image \n",
    "import re\n",
    "\n",
    "# requires arxiv_on_deck_2\n",
    "\n",
    "from arxiv_on_deck_2.arxiv2 import (get_new_papers, \n",
    "                                    get_paper_from_identifier,\n",
    "                                    retrieve_document_source, \n",
    "                                    get_markdown_badge)\n",
    "from arxiv_on_deck_2 import (latex,\n",
    "                             latex_bib,\n",
    "                             mpia,\n",
    "                             highlight_authors_in_list)\n",
    "\n",
    "# Sometimes images are really big\n",
    "Image.MAX_IMAGE_PIXELS = 1000000000 "
   ]
  },
  {
   "cell_type": "code",
   "execution_count": 2,
   "id": "22aa9d44",
   "metadata": {
    "execution": {
     "iopub.execute_input": "2024-12-12T04:11:41.180182Z",
     "iopub.status.busy": "2024-12-12T04:11:41.179555Z",
     "iopub.status.idle": "2024-12-12T04:11:41.187785Z",
     "shell.execute_reply": "2024-12-12T04:11:41.187122Z"
    },
    "papermill": {
     "duration": 0.013083,
     "end_time": "2024-12-12T04:11:41.188794",
     "exception": false,
     "start_time": "2024-12-12T04:11:41.175711",
     "status": "completed"
    },
    "tags": []
   },
   "outputs": [],
   "source": [
    "# Some useful definitions.\n",
    "\n",
    "class AffiliationWarning(UserWarning):\n",
    "    pass\n",
    "\n",
    "class AffiliationError(RuntimeError):\n",
    "    pass\n",
    "\n",
    "def validation(source: str):\n",
    "    \"\"\"Raises error paper during parsing of source file\n",
    "    \n",
    "    Allows checks before parsing TeX code.\n",
    "    \n",
    "    Raises AffiliationWarning\n",
    "    \"\"\"\n",
    "    check = mpia.affiliation_verifications(source, verbose=True)\n",
    "    if check is not True:\n",
    "        raise AffiliationError(\"mpia.affiliation_verifications: \" + check)\n",
    "\n",
    "        \n",
    "warnings.simplefilter('always', AffiliationWarning)\n",
    "\n",
    "\n",
    "def get_markdown_qrcode(paper_id: str):\n",
    "    \"\"\" Generate a qrcode to the arxiv page using qrserver.com\n",
    "    \n",
    "    :param paper: Arxiv paper\n",
    "    :returns: markdown text\n",
    "    \"\"\"\n",
    "    url = r\"https://api.qrserver.com/v1/create-qr-code/?size=100x100&data=\"\n",
    "    txt = f\"\"\"<img src={url}\"https://arxiv.org/abs/{paper_id}\">\"\"\"\n",
    "    txt = '<div id=\"qrcode\">' + txt + '</div>'\n",
    "    return txt\n",
    "\n",
    "\n",
    "def clean_non_western_encoded_characters_commands(text: str) -> str:\n",
    "    \"\"\" Remove non-western encoded characters from a string\n",
    "    List may need to grow.\n",
    "    \n",
    "    :param text: the text to clean\n",
    "    :return: the cleaned text\n",
    "    \"\"\"\n",
    "    text = re.sub(r\"(\\\\begin{CJK}{UTF8}{gbsn})(.*?)(\\\\end{CJK})\", r\"\\2\", text)\n",
    "    return text\n",
    "\n",
    "\n",
    "def get_initials(name: str) -> str:\n",
    "    \"\"\" Get the short name, e.g., A.-B. FamName\n",
    "    :param name: full name\n",
    "    :returns: initials\n",
    "    \"\"\"\n",
    "    initials = []\n",
    "    # account for non western names often in ()\n",
    "    if '(' in name:\n",
    "        name = clean_non_western_encoded_characters_commands(name)\n",
    "        suffix = re.findall(r\"\\((.*?)\\)\", name)[0]\n",
    "        name = name.replace(f\"({suffix})\", '')\n",
    "    else:\n",
    "        suffix = ''\n",
    "    split = name.split()\n",
    "    for token in split[:-1]:\n",
    "        if '-' in token:\n",
    "            current = '-'.join([k[0] + '.' for k in token.split('-')])\n",
    "        else:\n",
    "            current = token[0] + '.'\n",
    "        initials.append(current)\n",
    "    initials.append(split[-1].strip())\n",
    "    if suffix:\n",
    "        initials.append(f\"({suffix})\")\n",
    "    return ' '.join(initials)"
   ]
  },
  {
   "cell_type": "markdown",
   "id": "14bd6310",
   "metadata": {
    "papermill": {
     "duration": 0.002853,
     "end_time": "2024-12-12T04:11:41.194793",
     "exception": false,
     "start_time": "2024-12-12T04:11:41.191940",
     "status": "completed"
    },
    "tags": []
   },
   "source": [
    "## get list of arxiv paper candidates\n",
    "\n",
    "We use the MPIA mitarbeiter list webpage from mpia.de to get author names\n",
    "We then get all new papers from Arxiv and match authors"
   ]
  },
  {
   "cell_type": "code",
   "execution_count": 3,
   "id": "7ea813a8",
   "metadata": {
    "execution": {
     "iopub.execute_input": "2024-12-12T04:11:41.201449Z",
     "iopub.status.busy": "2024-12-12T04:11:41.201208Z",
     "iopub.status.idle": "2024-12-12T04:11:59.710034Z",
     "shell.execute_reply": "2024-12-12T04:11:59.709335Z"
    },
    "papermill": {
     "duration": 18.51373,
     "end_time": "2024-12-12T04:11:59.711451",
     "exception": false,
     "start_time": "2024-12-12T04:11:41.197721",
     "status": "completed"
    },
    "tags": []
   },
   "outputs": [],
   "source": [
    "# deal with the author list and edge cases of people that cannot be consistent on their name  \n",
    "\n",
    "def filter_non_scientists(name: str) -> bool:\n",
    "    \"\"\" Loose filter on expected authorships\n",
    "\n",
    "    removing IT, administration, technical staff\n",
    "    :param name: name\n",
    "    :returns: False if name is not a scientist\n",
    "    \"\"\"\n",
    "    remove_list = ['Licht', 'Binroth', 'Witzel', 'Jordan',\n",
    "                   'Zähringer', 'Scheerer', 'Hoffmann', 'Düe',\n",
    "                   'Hellmich', 'Enkler-Scharpegge', 'Witte-Nguy',\n",
    "                   'Dehen', 'Beckmann', 'Jager', 'Jäger'\n",
    "                  ]\n",
    "\n",
    "    for k in remove_list:\n",
    "        if k in name:\n",
    "            return False\n",
    "    return True\n",
    "\n",
    "def add_author_to_list(author_list: list) -> list:\n",
    "    \"\"\" Add author to list if not already in list\n",
    "    \n",
    "    :param author: author name\n",
    "    :param author_list: list of authors\n",
    "    :returns: updated list of authors\n",
    "    \"\"\"\n",
    "    add_list = ['T. Henning']\n",
    "\n",
    "    for author in add_list:\n",
    "        if author not in author_list:\n",
    "            author_list.append(author)\n",
    "    return author_list\n",
    "\n",
    "# get list from MPIA website\n",
    "# filter for non-scientists (mpia.get_mpia_mitarbeiter_list() does some filtering)\n",
    "mpia_authors = [k[1] for k in mpia.get_mpia_mitarbeiter_list() if filter_non_scientists(k[1])]\n",
    "# add some missing author because of inconsistencies in their MPIA name and author name on papers\n",
    "mpia_authors = add_author_to_list(mpia_authors)"
   ]
  },
  {
   "cell_type": "code",
   "execution_count": 4,
   "id": "2645e73a",
   "metadata": {
    "execution": {
     "iopub.execute_input": "2024-12-12T04:11:59.718863Z",
     "iopub.status.busy": "2024-12-12T04:11:59.718613Z",
     "iopub.status.idle": "2024-12-12T04:12:00.317505Z",
     "shell.execute_reply": "2024-12-12T04:12:00.316817Z"
    },
    "papermill": {
     "duration": 0.603719,
     "end_time": "2024-12-12T04:12:00.318556",
     "exception": false,
     "start_time": "2024-12-12T04:11:59.714837",
     "status": "completed"
    },
    "tags": []
   },
   "outputs": [
    {
     "name": "stdout",
     "output_type": "stream",
     "text": [
      "J. Liu  ->  J. Liu  |  ['J. Liu']\n",
      "C. Vázquez  ->  C. C. Vázquez  |  ['C. Vázquez']\n",
      "X. Zhang  ->  X. Zhang  |  ['X. Zhang']\n",
      "J. Li  ->  J. Li  |  ['J. Li']\n",
      "I. J. M. Crossfield  ->  I. J. M. Crossfield  |  ['I. J. M. Crossfield']\n",
      "J. Eberhardt  ->  J. Eberhardt  |  ['J. Eberhardt']\n",
      "T. Henning  ->  T. Henning  |  ['T. Henning']\n",
      "Arxiv has 71 new papers today\n",
      "          5 with possible author matches\n"
     ]
    }
   ],
   "source": [
    "new_papers = get_new_papers()\n",
    "# add manual references\n",
    "add_paper_refs = []\n",
    "new_papers.extend([get_paper_from_identifier(k) for k in add_paper_refs])\n",
    "\n",
    "def robust_call(fn, value, *args, **kwargs):\n",
    "    try:\n",
    "        return fn(value, *args, **kwargs)\n",
    "    except Exception:\n",
    "        return value\n",
    "\n",
    "candidates = []\n",
    "for paperk in new_papers:\n",
    "    # Check author list with their initials\n",
    "    normed_author_list = [robust_call(mpia.get_initials, k) for k in paperk['authors']]\n",
    "    hl_authors = highlight_authors_in_list(normed_author_list, mpia_authors, verbose=True)\n",
    "    matches = [(hl, orig) for hl, orig in zip(hl_authors, paperk['authors']) if 'mark' in hl]\n",
    "    paperk['authors'] = hl_authors\n",
    "    if matches:\n",
    "        # only select paper if an author matched our list\n",
    "        candidates.append(paperk)\n",
    "print(\"\"\"Arxiv has {0:,d} new papers today\"\"\".format(len(new_papers)))        \n",
    "print(\"\"\"          {0:,d} with possible author matches\"\"\".format(len(candidates)))"
   ]
  },
  {
   "cell_type": "markdown",
   "id": "3543b34a",
   "metadata": {
    "papermill": {
     "duration": 0.003199,
     "end_time": "2024-12-12T04:12:00.325236",
     "exception": false,
     "start_time": "2024-12-12T04:12:00.322037",
     "status": "completed"
    },
    "tags": []
   },
   "source": [
    "# Parse sources and generate relevant outputs\n",
    "\n",
    "From the candidates, we do the following steps:\n",
    "* get their tarball from ArXiv (and extract data)\n",
    "* find the main .tex file: find one with \\documentclass{...} (sometimes it's non trivial)\n",
    "* Check affiliations with :func:`validation`, which uses :func:`mpia.affiliation_verifications`\n",
    "* If passing the affiliations: we parse the .tex source\n",
    "   * inject sub-documents into the main (flatten the main document)\n",
    "   * parse structure, extract information (title, abstract, authors, figures...)\n",
    "   * handles `\\graphicspath` if provided\n",
    "* Generate the .md document."
   ]
  },
  {
   "cell_type": "code",
   "execution_count": 5,
   "id": "9576b79e",
   "metadata": {
    "execution": {
     "iopub.execute_input": "2024-12-12T04:12:00.332558Z",
     "iopub.status.busy": "2024-12-12T04:12:00.332124Z",
     "iopub.status.idle": "2024-12-12T04:13:05.577631Z",
     "shell.execute_reply": "2024-12-12T04:13:05.576888Z"
    },
    "papermill": {
     "duration": 65.253772,
     "end_time": "2024-12-12T04:13:05.582071",
     "exception": false,
     "start_time": "2024-12-12T04:12:00.328299",
     "status": "completed"
    },
    "scrolled": false,
    "tags": []
   },
   "outputs": [
    {
     "data": {
      "application/vnd.jupyter.widget-view+json": {
       "model_id": "cad69fc0d1bd4744b77ab5fd3c326ae1",
       "version_major": 2,
       "version_minor": 0
      },
      "text/plain": [
       "  0%|          | 0/5 [00:00<?, ?it/s]"
      ]
     },
     "metadata": {},
     "output_type": "display_data"
    },
    {
     "name": "stdout",
     "output_type": "stream",
     "text": [
      "Retrieving document from  https://arxiv.org/e-print/2412.08057\n",
      "extracting tarball to tmp_2412.08057... done.\n",
      "Retrieving document from  https://arxiv.org/e-print/2412.08333\n"
     ]
    },
    {
     "name": "stdout",
     "output_type": "stream",
     "text": [
      "extracting tarball to tmp_2412.08333... done.\n",
      "Retrieving document from  https://arxiv.org/e-print/2412.08390\n",
      "extracting tarball to tmp_2412.08390... done.\n",
      "Retrieving document from  https://arxiv.org/e-print/2412.08465\n"
     ]
    },
    {
     "name": "stdout",
     "output_type": "stream",
     "text": [
      "extracting tarball to tmp_2412.08465... done.\n",
      "  2: tmp_2412.08465/natnotes.tex, 332 lines\n",
      "  3: tmp_2412.08465/Mstars.tex, 732 lines\n",
      "  5: tmp_2412.08465/natbib.tex, 96 lines\n",
      "  6: tmp_2412.08465/aassymbols.tex, 579 lines\n"
     ]
    },
    {
     "name": "stderr",
     "output_type": "stream",
     "text": [
      "/opt/hostedtoolcache/Python/3.9.20/x64/lib/python3.9/site-packages/IPython/core/interactiveshell.py:3550: LatexWarning: Multiple tex files.\n",
      "\n",
      "  exec(code_obj, self.user_global_ns, self.user_ns)\n",
      "/opt/hostedtoolcache/Python/3.9.20/x64/lib/python3.9/site-packages/IPython/core/interactiveshell.py:3550: LatexWarning: Found 4 candidates with documentclass definition.\n",
      "  exec(code_obj, self.user_global_ns, self.user_ns)\n",
      "/opt/hostedtoolcache/Python/3.9.20/x64/lib/python3.9/site-packages/IPython/core/interactiveshell.py:3550: LatexWarning: Assuming tmp_2412.08465/Mstars.tex as main document.\n",
      "  exec(code_obj, self.user_global_ns, self.user_ns)\n"
     ]
    },
    {
     "name": "stdout",
     "output_type": "stream",
     "text": [
      "I. J. M. Crossfield  ->  I. J. M. Crossfield  |  ['I. J. M. Crossfield']\n"
     ]
    },
    {
     "name": "stdout",
     "output_type": "stream",
     "text": [
      "Found 100 bibliographic references in tmp_2412.08465/Mstars.bbl.\n",
      "Error retrieving bib data for 2024AJ....167..174C: 'author'\n",
      "Error retrieving bib data for 2024AJ....167..174C: 'author'\n",
      "Retrieving document from  https://arxiv.org/e-print/2412.08527\n"
     ]
    },
    {
     "name": "stdout",
     "output_type": "stream",
     "text": [
      "extracting tarball to tmp_2412.08527..."
     ]
    },
    {
     "name": "stdout",
     "output_type": "stream",
     "text": [
      " done.\n"
     ]
    },
    {
     "name": "stderr",
     "output_type": "stream",
     "text": [
      "/opt/hostedtoolcache/Python/3.9.20/x64/lib/python3.9/site-packages/IPython/core/interactiveshell.py:3550: LatexWarning: Multiple tex files.\n",
      "\n",
      "  exec(code_obj, self.user_global_ns, self.user_ns)\n",
      "/opt/hostedtoolcache/Python/3.9.20/x64/lib/python3.9/site-packages/IPython/core/interactiveshell.py:3550: LatexWarning: Found documentclass in tmp_2412.08527/ref.tex\n",
      "\n",
      "  exec(code_obj, self.user_global_ns, self.user_ns)\n",
      "/opt/hostedtoolcache/Python/3.9.20/x64/lib/python3.9/site-packages/arxiv_on_deck_2/latex.py:414: LatexWarning: Latex injecting: 'toi4168' from 'tmp_2412.08527/toi4168.tex'\n",
      "  warnings.warn(LatexWarning(f\"Latex injecting: '{ext}' from '{subsource}'\"))\n"
     ]
    },
    {
     "name": "stdout",
     "output_type": "stream",
     "text": [
      "Found 181 bibliographic references in tmp_2412.08527/ref.bbl.\n"
     ]
    }
   ],
   "source": [
    "documents = []\n",
    "failed = []\n",
    "for paper in tqdm(candidates):\n",
    "    # debug crap\n",
    "    paper['identifier'] = paper['identifier'].lower().replace('arxiv:', '').replace(r'\\n', '').strip()\n",
    "    paper_id = paper['identifier']\n",
    "    \n",
    "    folder = f'tmp_{paper_id}'\n",
    "\n",
    "    try:\n",
    "        if not os.path.isdir(folder):\n",
    "            folder = retrieve_document_source(f\"{paper_id}\", f'tmp_{paper_id}')\n",
    "        \n",
    "        try:\n",
    "            doc = latex.LatexDocument(folder, validation=validation)    \n",
    "        except AffiliationError as affilerror:\n",
    "            msg = f\"ArXiv:{paper_id:s} is not an MPIA paper... \" + str(affilerror)\n",
    "            failed.append((paper, \"affiliation error: \" + str(affilerror) ))\n",
    "            continue\n",
    "        \n",
    "        # Hack because sometimes author parsing does not work well\n",
    "        if (len(doc.authors) != len(paper['authors'])):\n",
    "            doc._authors = paper['authors']\n",
    "        else:\n",
    "            # highlight authors (FIXME: doc.highlight_authors)\n",
    "            # done on arxiv paper already\n",
    "            doc._authors = highlight_authors_in_list(\n",
    "                [get_initials(k) for k in doc.authors], \n",
    "                mpia_authors, verbose=True)\n",
    "        if (doc.abstract) in (None, ''):\n",
    "            doc._abstract = paper['abstract']\n",
    "            \n",
    "        doc.comment = (get_markdown_badge(paper_id) + \n",
    "                       \"<mark>Appeared on: \" + paper['date'] + \"</mark> - \")\n",
    "        if paper['comments']:\n",
    "            doc.comment += \" _\" + paper['comments'] + \"_\"\n",
    "        \n",
    "        full_md = doc.generate_markdown_text()\n",
    "        \n",
    "        full_md += get_markdown_qrcode(paper_id)\n",
    "        \n",
    "        # replace citations\n",
    "        try:\n",
    "            bibdata = latex_bib.LatexBib.from_doc(doc)\n",
    "            full_md = latex_bib.replace_citations(full_md, bibdata)\n",
    "        except Exception as e:\n",
    "            print(\"Issues with the citations\")\n",
    "            print(e)\n",
    "        \n",
    "        documents.append((paper_id, full_md))\n",
    "    except Exception as e:\n",
    "        warnings.warn(latex.LatexWarning(f\"{paper_id:s} did not run properly\\n\" +\n",
    "                                         str(e)\n",
    "                                        ))\n",
    "        failed.append((paper, \"latex error \" + str(e)))"
   ]
  },
  {
   "cell_type": "markdown",
   "id": "2505a25c",
   "metadata": {
    "papermill": {
     "duration": 0.003839,
     "end_time": "2024-12-12T04:13:05.589947",
     "exception": false,
     "start_time": "2024-12-12T04:13:05.586108",
     "status": "completed"
    },
    "tags": []
   },
   "source": [
    "### Export the logs\n",
    "\n",
    "Throughout, we also keep track of the logs per paper. see `logs-{today date}.md` "
   ]
  },
  {
   "cell_type": "code",
   "execution_count": 6,
   "id": "d733828a",
   "metadata": {
    "execution": {
     "iopub.execute_input": "2024-12-12T04:13:05.598549Z",
     "iopub.status.busy": "2024-12-12T04:13:05.598058Z",
     "iopub.status.idle": "2024-12-12T04:13:05.614387Z",
     "shell.execute_reply": "2024-12-12T04:13:05.613879Z"
    },
    "papermill": {
     "duration": 0.02171,
     "end_time": "2024-12-12T04:13:05.615355",
     "exception": false,
     "start_time": "2024-12-12T04:13:05.593645",
     "status": "completed"
    },
    "scrolled": false,
    "tags": []
   },
   "outputs": [
    {
     "data": {
      "text/markdown": [
       "## Successful papers"
      ],
      "text/plain": [
       "<IPython.core.display.Markdown object>"
      ]
     },
     "metadata": {},
     "output_type": "display_data"
    },
    {
     "data": {
      "text/markdown": [
       "\n",
       "|||\n",
       "|---:|:---|\n",
       "| [![arXiv](https://img.shields.io/badge/arXiv-2412.08465-b31b1b.svg)](https://arxiv.org/abs/2412.08465) | **Demographics of M Dwarf Binary Exoplanet Hosts Discovered by TESS**  |\n",
       "|| R. A. Matson, et al. -- incl., <mark>I. J. M. Crossfield</mark> |\n",
       "|*Appeared on*| *2024-12-12*|\n",
       "|*Comments*| *28 pages, 13 figures, 5 tables, accepted for publication in The Astronomical Journal*|\n",
       "|**Abstract**|            M dwarfs have become increasingly important in the detection of exoplanets and the study of Earth-sized planets and their habitability. However, 20-30% of M dwarfs have companions that can impact the formation and evolution of planetary systems. We use high-resolution imaging and Gaia astrometry to detect stellar companions around M dwarf exoplanet hosts discovered by TESS and determine the projected separation and estimated stellar masses for each system. We find 47 companions around 216 M dwarfs and a multiplicity rate of $19.4\\pm2.7$% that is consistent with field M dwarfs. The binary projected separation distribution is shifted to larger separations, confirming the lack of close binaries hosting transiting exoplanets seen in previous studies. We correct the radii of planets with nearby companions and examine the properties of planets in M dwarf multi-star systems. We also note three multi-planet systems that occur in close binaries ($\\lesssim 50$ au) where planet formation is expected to be suppressed.         |"
      ],
      "text/plain": [
       "[2412.08465] Demographics of M Dwarf Binary Exoplanet Hosts Discovered by TESS\n",
       "\tR. A. Matson, et al. -- incl., <mark>I. J. M. Crossfield</mark>"
      ]
     },
     "metadata": {},
     "output_type": "display_data"
    },
    {
     "data": {
      "text/markdown": [
       "\n",
       "|||\n",
       "|---:|:---|\n",
       "| [![arXiv](https://img.shields.io/badge/arXiv-2412.08527-b31b1b.svg)](https://arxiv.org/abs/2412.08527) | **Characterization of seven transiting systems including four warm Jupiters from SOPHIE and TESS**  |\n",
       "|| N. Heidari, et al. -- incl., <mark>J. Eberhardt</mark>, <mark>T. Henning</mark> |\n",
       "|*Appeared on*| *2024-12-12*|\n",
       "|*Comments*| *46 pages, 21 figures, accepted for publication in A&A*|\n",
       "|**Abstract**|            We present the study of seven systems, three of which TOI-2295, TOI-2537, and TOI-5110 are newly discovered planetary systems. Through the analysis of TESS photometry, SOPHIE radial velocities, and high-spatial resolution imaging, we found that TOI-2295b, TOI-2537b, and TOI-5110b are transiting warm Jupiters with orbital periods ranging from 30 to 94 d, masses between 0.9 and 2.9 MJ, and radii ranging from 1.0 to 1.5 RJ. Both TOI-2295 and TOI-2537 each harbor at least one additional, outer planet. Their outer planets TOI-2295c and TOI-2537c are characterized by orbital periods of 966.5 +/- 4.3 and 1920^{+230}_{-140} d, respectively, and minimum masses of 5.61^{+0.23}_{-0.24} and 7.2 +/- 0.5 MJ, respectively. We also investigated and characterized the two recently reported warm Jupiters TOI-1836b and TOI-5076b, which we independently detected in SOPHIE RVs. Additionally, we study the planetary candidates TOI-4081.01 and TOI-4168.01. For TOI-4081.01, despite our detection in radial velocities, we cannot rule out perturbation by a blended eclipsing binary and thus exercise caution regarding its planetary nature. On the other hand, we identify TOI-4168.01 as a firm false positive. Finally, we highlight interesting characteristics of these new planetary systems. The transits of TOI-2295b are highly grazing, with an impact parameter of 1.056$^{+0.063}_{-0.043}$. TOI-2537b, in turn, is a temperate Jupiter with an effective temperature of 307+/-15 K and can serve as a valuable low-irradiation control for models of hot Jupiter inflation anomalies. We also detected significant transit timing variations (TTVs) for TOI-2537b, which are likely caused by gravitational interactions with the outer planet TOI-2537c. Finally, TOI-5110b stands out due to its orbital eccentricity of 0.75+/- 0.03, one of the highest planetary eccentricities discovered thus far.         |"
      ],
      "text/plain": [
       "[2412.08527] Characterization of seven transiting systems including four warm Jupiters from SOPHIE and TESS\n",
       "\tN. Heidari, et al. -- incl., <mark>J. Eberhardt</mark>, <mark>T. Henning</mark>"
      ]
     },
     "metadata": {},
     "output_type": "display_data"
    },
    {
     "data": {
      "text/markdown": [
       "## Failed papers"
      ],
      "text/plain": [
       "<IPython.core.display.Markdown object>"
      ]
     },
     "metadata": {},
     "output_type": "display_data"
    },
    {
     "data": {
      "text/markdown": [
       "\n",
       "|||\n",
       "|---:|:---|\n",
       "| [![arXiv](https://img.shields.io/badge/arXiv-2412.08057-b31b1b.svg)](https://arxiv.org/abs/2412.08057) | **Enhancement of small-scale induced gravitational waves from the soliton/oscillon domination**  |\n",
       "|| X.-B. Sui, <mark>J. Liu</mark>, R.-G. Cai |\n",
       "|*Appeared on*| *2024-12-12*|\n",
       "|*Comments*| *13 pages, 8 figures*|\n",
       "|**Abstract**|            We investigate density fluctuations and scalar-induced gravitational waves (GWs) arising from the production of long-lived solitons and oscillons, which can dominate the early Universe and drive reheating prior to the standard radiation-dominated era. Curvature perturbations are generated not only by the Poisson distribution of these solitons/oscillons but are also amplified during the early matter-dominated phase when the solitons/oscillons dominate. Scalar-induced GWs with characteristic energy spectra emerge from these amplified curvature perturbations, particularly at the sudden transition from matter domination to radiation domination. We analyze this scenario and its GW predictions in detail, focusing on the impact of the initial energy fraction, the lifetime, and the average separation of these solitons/oscillons. This provides a wealth of potential observational targets for various GW detectors. Furthermore, for inflation and preheating models that produce oscillons with large separations, we derive new constraints on these models based on the upper bounds on the effective number of relativistic degrees of freedom, as anticipated from future cosmic microwave background and large-scale structure observations.         |\n",
       "|<p style=\"color:green\"> **ERROR** </p>| <p style=\"color:green\">affiliation error: mpia.affiliation_verifications: 'Heidelberg' keyword not found.</p> |"
      ],
      "text/plain": [
       "<IPython.core.display.Markdown object>"
      ]
     },
     "metadata": {},
     "output_type": "display_data"
    },
    {
     "data": {
      "text/markdown": [
       "\n",
       "|||\n",
       "|---:|:---|\n",
       "| [![arXiv](https://img.shields.io/badge/arXiv-2412.08390-b31b1b.svg)](https://arxiv.org/abs/2412.08390) | **Observational studies on S-bearing molecules in massive star forming regions**  |\n",
       "|| R. Luo, et al. -- incl., <mark>X. Zhang</mark>, <mark>J. Li</mark> |\n",
       "|*Appeared on*| *2024-12-12*|\n",
       "|*Comments*| *15 pages, 7 figures*|\n",
       "|**Abstract**|            Aims. We present observational results of H$_{2}$S 1$_{10}$-1$_{01}$, H$_{2}$$^{34}$S 1$_{10}$-1$_{01}$, H$_{2}$CS 5$_{14}$-4$_{14}$, HCS$^{+}$ 4-3, SiO 4-3, HC$_{3}$N 19-18 and C$^{18}$O 1-0 toward a sample of 51 late-stage massive star-forming regions, to study relationships among H$_{2}$S, H$_{2}$CS, HCS$^{+}$ and SiO in hot cores. Chemical connections of these S-bearing molecules are discussed based on the relations between relative abundances in sources. Results. H$_{2}$S 1$_{10}$-1$_{01}$, H$_{2}$$^{34}$S 1$_{10}$-1$_{01}$, H$_{2}$CS 5$_{14}$-4$_{14}$, HCS$^{+}$ 4-3 and HC$_{3}$N 19-18 were detected in 50 of the 51 sources, while SiO 4-3 was detected in 46 sources. C$^{18}$O 1-0 was detected in all sources. The Pearson correlation coefficients between H$_{2}$CS and HCS$^+$ normalized by H$_{2}$ and H$_{2}$S are 0.94 and 0.87, respectively, and a tight linear relationship is found between them with slope of 1.00 and 1.09, while they are 0.77 and 0.98 between H$_2$S and H$_2$CS, respectively, and 0.76 and 0.97 between H$_2$S and HCS$^+$. The values of full width at half maxima (FWHM) of them in each source are similar to each other, which indicate that they can trace similar regions. Comparing the observed abundance with model results, there is one possible time (2-3$\\times$10$^{5}$ yr) for each source in the model. The abundances of these molecules increase with the increment of SiO abundance in these sources, which implies that shock chemistry may be important for them. Conclusions. Close abundance relation of H$_2$S, H$_2$CS and HCS$^+$ molecules and similar line widths in observational results indicate that these three molecules could be chemically linked, with HCS$^+$ and H$_2$CS the most correlated. The comparison of the observational results with chemical models shows that the abundances can be reproduced for almost all the sources at a specific time. The observational results, including abundances in these sources need to be considered in further modeling H$_{2}$S, H$_{2}$CS and HCS$^{+}$ in hot cores with shock chemistry.         |\n",
       "|<p style=\"color:green\"> **ERROR** </p>| <p style=\"color:green\">affiliation error: mpia.affiliation_verifications: 'Heidelberg' keyword not found.</p> |"
      ],
      "text/plain": [
       "<IPython.core.display.Markdown object>"
      ]
     },
     "metadata": {},
     "output_type": "display_data"
    },
    {
     "data": {
      "text/markdown": [
       "\n",
       "|||\n",
       "|---:|:---|\n",
       "| [![arXiv](https://img.shields.io/badge/arXiv-2412.08333-b31b1b.svg)](https://arxiv.org/abs/2412.08333) | **Orbit determination of visual binary systems observed with CST telescope in 2010-2013**  |\n",
       "|| F. M. Rica, et al. -- incl., <mark>C. Vázquez</mark> |\n",
       "|*Appeared on*| *2024-12-12*|\n",
       "|*Comments*| *18 pages, 4 figures containing several plots and 6 tables*|\n",
       "|**Abstract**|            We present new orbital solutions for 15 binaries, which were astrometrically measured during 2010-2013. We observe the binary systems using the FastCam ``lucky-imaging'' camera, installed at the 1.5-m Carlos Sánchez Telescope (CST) at the Observatorio del Teide, Tenerife (Spain). We present first orbital solutions for four binaries and revise orbits for other 11 systems. We apply two orbital calculation techniques, the ``three-dimensional grid search method'' and the Docobo's analytical method. In addition, we use our tool ``Binary Deblending'', which is based on deblending the entire observed multiband photometry into fundamental and photometric parameters for each stellar component based on PARSEC isochrones. This method allows us to obtain the total mass for all systems. Our findings include the identification of a binary system consisting of two M-type dwarfs (WOR 19), a binary of evolved components (twin F6IV-V stars) in BU 1292, accompanied by a newly discovered wide (10.5 arcsec) and faint companion with G=17.05 mag. Additionally, we explore the X-ray emission system STF 147 and a very young quadruple system, WDS 04573+5345. This comprehensive analysis significantly contributes to our understanding on the formation and evolution of these stellar systems.         |\n",
       "|<p style=\"color:green\"> **ERROR** </p>| <p style=\"color:green\">affiliation error: mpia.affiliation_verifications: 'Planck' keyword not found.</p> |"
      ],
      "text/plain": [
       "<IPython.core.display.Markdown object>"
      ]
     },
     "metadata": {},
     "output_type": "display_data"
    }
   ],
   "source": [
    "import datetime\n",
    "today = str(datetime.date.today())\n",
    "logfile = f\"_build/html/logs/log-{today}.md\"\n",
    "\n",
    "\n",
    "with open(logfile, 'w') as logs:\n",
    "    # Success\n",
    "    logs.write(f'# Arxiv on Deck 2: Logs - {today}\\n\\n')\n",
    "    logs.write(\"\"\"* Arxiv had {0:,d} new papers\\n\"\"\".format(len(new_papers)))\n",
    "    logs.write(\"\"\"    * {0:,d} with possible author matches\\n\\n\"\"\".format(len(candidates)))\n",
    "    logs.write(\"## Sucessful papers\\n\\n\")\n",
    "    display(Markdown(\"## Successful papers\"))\n",
    "    success = [k[0] for k in documents]\n",
    "    for candid in candidates:\n",
    "        if candid['identifier'].split(':')[-1] in success:\n",
    "            display(candid)\n",
    "            logs.write(candid.generate_markdown_text() + '\\n\\n')\n",
    "\n",
    "    ## failed\n",
    "    logs.write(\"## Failed papers\\n\\n\")\n",
    "    display(Markdown(\"## Failed papers\"))\n",
    "    failed = sorted(failed, key=lambda x: x[1])\n",
    "    current_reason = \"\"\n",
    "    for paper, reason in failed:\n",
    "        if 'affiliation' in reason:\n",
    "            color = 'green'\n",
    "        else:\n",
    "            color = 'red'\n",
    "        data = Markdown(\n",
    "                paper.generate_markdown_text() + \n",
    "                f'\\n|<p style=\"color:{color:s}\"> **ERROR** </p>| <p style=\"color:{color:s}\">{reason:s}</p> |'\n",
    "               )\n",
    "        if reason != current_reason:\n",
    "            logs.write(f'### {reason:s} \\n\\n')\n",
    "            current_reason = reason\n",
    "        logs.write(data.data + '\\n\\n')\n",
    "        \n",
    "        # only display here the important errors (all in logs)\n",
    "        # if color in ('red',):\n",
    "        display(data)"
   ]
  },
  {
   "cell_type": "markdown",
   "id": "472d20ee",
   "metadata": {
    "papermill": {
     "duration": 0.004386,
     "end_time": "2024-12-12T04:13:05.624218",
     "exception": false,
     "start_time": "2024-12-12T04:13:05.619832",
     "status": "completed"
    },
    "tags": []
   },
   "source": [
    "## Export documents\n",
    "\n",
    "We now write the .md files and export relevant images"
   ]
  },
  {
   "cell_type": "code",
   "execution_count": 7,
   "id": "d426aed9",
   "metadata": {
    "execution": {
     "iopub.execute_input": "2024-12-12T04:13:05.633995Z",
     "iopub.status.busy": "2024-12-12T04:13:05.633534Z",
     "iopub.status.idle": "2024-12-12T04:13:05.640348Z",
     "shell.execute_reply": "2024-12-12T04:13:05.639749Z"
    },
    "papermill": {
     "duration": 0.012697,
     "end_time": "2024-12-12T04:13:05.641311",
     "exception": false,
     "start_time": "2024-12-12T04:13:05.628614",
     "status": "completed"
    },
    "tags": []
   },
   "outputs": [],
   "source": [
    "def export_markdown_summary(md: str, md_fname:str, directory: str):\n",
    "    \"\"\"Export MD document and associated relevant images\"\"\"\n",
    "    import os\n",
    "    import shutil\n",
    "    import re\n",
    "\n",
    "    if (os.path.exists(directory) and not os.path.isdir(directory)):\n",
    "        raise RuntimeError(f\"a non-directory file exists with name {directory:s}\")\n",
    "\n",
    "    if (not os.path.exists(directory)):\n",
    "        print(f\"creating directory {directory:s}\")\n",
    "        os.mkdir(directory)\n",
    "\n",
    "    fig_fnames = (re.compile(r'\\[Fig.*\\]\\((.*)\\)').findall(md) + \n",
    "                  re.compile(r'\\<img src=\"([^>\\s]*)\"[^>]*/>').findall(md))\n",
    "    print(\"found figures\", fig_fnames)\n",
    "    for fname in fig_fnames:\n",
    "        if 'http' in fname:\n",
    "            # No need to copy online figures\n",
    "            continue\n",
    "        if not os.path.exists(fname):\n",
    "            print(\"file not found\", fname)\n",
    "            continue\n",
    "        print(\"copying \", fname, \"to\", directory)\n",
    "        destdir = os.path.join(directory, os.path.dirname(fname))\n",
    "        destfname = os.path.join(destdir, os.path.basename(fname))\n",
    "        try:\n",
    "            os.makedirs(destdir)\n",
    "        except FileExistsError:\n",
    "            pass\n",
    "        shutil.copy(fname, destfname)\n",
    "    with open(os.path.join(directory, md_fname), 'w') as fout:\n",
    "        fout.write(md)\n",
    "    print(\"exported in \", os.path.join(directory, md_fname))\n",
    "    [print(\"    + \" + os.path.join(directory,fk)) for fk in fig_fnames]"
   ]
  },
  {
   "cell_type": "code",
   "execution_count": 8,
   "id": "014d04a4",
   "metadata": {
    "execution": {
     "iopub.execute_input": "2024-12-12T04:13:05.651191Z",
     "iopub.status.busy": "2024-12-12T04:13:05.650793Z",
     "iopub.status.idle": "2024-12-12T04:13:05.664072Z",
     "shell.execute_reply": "2024-12-12T04:13:05.663552Z"
    },
    "papermill": {
     "duration": 0.019256,
     "end_time": "2024-12-12T04:13:05.665031",
     "exception": false,
     "start_time": "2024-12-12T04:13:05.645775",
     "status": "completed"
    },
    "tags": []
   },
   "outputs": [
    {
     "name": "stdout",
     "output_type": "stream",
     "text": [
      "found figures ['tmp_2412.08465/./Final_Separation_and_Delta_Mag_of_Gaia_Companions.png', 'tmp_2412.08465/./Final_Sep_and_Per_Histograms.png', 'tmp_2412.08465/./Final_HR_Diagram.png']\n",
      "copying  tmp_2412.08465/./Final_Separation_and_Delta_Mag_of_Gaia_Companions.png to _build/html/\n",
      "copying  tmp_2412.08465/./Final_Sep_and_Per_Histograms.png to _build/html/\n",
      "copying  tmp_2412.08465/./Final_HR_Diagram.png to _build/html/\n",
      "exported in  _build/html/2412.08465.md\n",
      "    + _build/html/tmp_2412.08465/./Final_Separation_and_Delta_Mag_of_Gaia_Companions.png\n",
      "    + _build/html/tmp_2412.08465/./Final_Sep_and_Per_Histograms.png\n",
      "    + _build/html/tmp_2412.08465/./Final_HR_Diagram.png\n",
      "found figures ['tmp_2412.08527/./tpf_toi1836.png', 'tmp_2412.08527/./tpf_toi2295.png', 'tmp_2412.08527/./tpf_toi2537.png', 'tmp_2412.08527/./tpf_toi4081.png', 'tmp_2412.08527/./4168/tpf_toi4168.png', 'tmp_2412.08527/./tpf_toi5076.png', 'tmp_2412.08527/./tpf_toi5110.png', 'tmp_2412.08527/./TPF_Gaia_TIC207468071_S23.png', 'tmp_2412.08527/./TPF_Gaia_TIC207468071_S24.png', 'tmp_2412.08527/./TPF_Gaia_TIC207468071_S25.png', 'tmp_2412.08527/./TPF_Gaia_TIC207468071_S49.png', 'tmp_2412.08527/./TPF_Gaia_TIC207468071_S50.png', 'tmp_2412.08527/./TPF_Gaia_TIC207468071_S51.png', 'tmp_2412.08527/./TPF_Gaia_TIC207468071_S52.png', 'tmp_2412.08527/./TPF_Gaia_TIC207468071_S56.png', 'tmp_2412.08527/./TPF_Gaia_TIC207468071_S76.png', 'tmp_2412.08527/./TPF_Gaia_TIC207468071_S77.png', 'tmp_2412.08527/./TPF_Gaia_TIC207468071_S78.png', 'tmp_2412.08527/./high_image_all.png']\n",
      "copying  tmp_2412.08527/./tpf_toi1836.png to _build/html/\n",
      "copying  tmp_2412.08527/./tpf_toi2295.png to _build/html/\n",
      "copying  tmp_2412.08527/./tpf_toi2537.png to _build/html/\n",
      "copying  tmp_2412.08527/./tpf_toi4081.png to _build/html/\n",
      "copying  tmp_2412.08527/./4168/tpf_toi4168.png to _build/html/\n",
      "copying  tmp_2412.08527/./tpf_toi5076.png to _build/html/\n",
      "copying  tmp_2412.08527/./tpf_toi5110.png to _build/html/\n",
      "copying  tmp_2412.08527/./TPF_Gaia_TIC207468071_S23.png to _build/html/\n",
      "copying  tmp_2412.08527/./TPF_Gaia_TIC207468071_S24.png to _build/html/\n",
      "copying  tmp_2412.08527/./TPF_Gaia_TIC207468071_S25.png to _build/html/\n",
      "copying  tmp_2412.08527/./TPF_Gaia_TIC207468071_S49.png to _build/html/\n",
      "copying  tmp_2412.08527/./TPF_Gaia_TIC207468071_S50.png to _build/html/\n",
      "copying  tmp_2412.08527/./TPF_Gaia_TIC207468071_S51.png to _build/html/\n",
      "copying  tmp_2412.08527/./TPF_Gaia_TIC207468071_S52.png to _build/html/\n",
      "copying  tmp_2412.08527/./TPF_Gaia_TIC207468071_S56.png to _build/html/\n",
      "copying  tmp_2412.08527/./TPF_Gaia_TIC207468071_S76.png to _build/html/\n",
      "copying  tmp_2412.08527/./TPF_Gaia_TIC207468071_S77.png to _build/html/\n",
      "copying  tmp_2412.08527/./TPF_Gaia_TIC207468071_S78.png to _build/html/\n",
      "copying  tmp_2412.08527/./high_image_all.png to _build/html/\n",
      "exported in  _build/html/2412.08527.md\n",
      "    + _build/html/tmp_2412.08527/./tpf_toi1836.png\n",
      "    + _build/html/tmp_2412.08527/./tpf_toi2295.png\n",
      "    + _build/html/tmp_2412.08527/./tpf_toi2537.png\n",
      "    + _build/html/tmp_2412.08527/./tpf_toi4081.png\n",
      "    + _build/html/tmp_2412.08527/./4168/tpf_toi4168.png\n",
      "    + _build/html/tmp_2412.08527/./tpf_toi5076.png\n",
      "    + _build/html/tmp_2412.08527/./tpf_toi5110.png\n",
      "    + _build/html/tmp_2412.08527/./TPF_Gaia_TIC207468071_S23.png\n",
      "    + _build/html/tmp_2412.08527/./TPF_Gaia_TIC207468071_S24.png\n",
      "    + _build/html/tmp_2412.08527/./TPF_Gaia_TIC207468071_S25.png\n",
      "    + _build/html/tmp_2412.08527/./TPF_Gaia_TIC207468071_S49.png\n",
      "    + _build/html/tmp_2412.08527/./TPF_Gaia_TIC207468071_S50.png\n",
      "    + _build/html/tmp_2412.08527/./TPF_Gaia_TIC207468071_S51.png\n",
      "    + _build/html/tmp_2412.08527/./TPF_Gaia_TIC207468071_S52.png\n",
      "    + _build/html/tmp_2412.08527/./TPF_Gaia_TIC207468071_S56.png\n",
      "    + _build/html/tmp_2412.08527/./TPF_Gaia_TIC207468071_S76.png\n",
      "    + _build/html/tmp_2412.08527/./TPF_Gaia_TIC207468071_S77.png\n",
      "    + _build/html/tmp_2412.08527/./TPF_Gaia_TIC207468071_S78.png\n",
      "    + _build/html/tmp_2412.08527/./high_image_all.png\n"
     ]
    }
   ],
   "source": [
    "for paper_id, md in documents:\n",
    "    export_markdown_summary(md, f\"{paper_id:s}.md\", '_build/html/')"
   ]
  },
  {
   "cell_type": "markdown",
   "id": "f087a0a7",
   "metadata": {
    "papermill": {
     "duration": 0.004519,
     "end_time": "2024-12-12T04:13:05.674238",
     "exception": false,
     "start_time": "2024-12-12T04:13:05.669719",
     "status": "completed"
    },
    "tags": []
   },
   "source": [
    "## Display the papers\n",
    "\n",
    "Not necessary but allows for a quick check."
   ]
  },
  {
   "cell_type": "code",
   "execution_count": 9,
   "id": "fd25f625",
   "metadata": {
    "execution": {
     "iopub.execute_input": "2024-12-12T04:13:05.684051Z",
     "iopub.status.busy": "2024-12-12T04:13:05.683855Z",
     "iopub.status.idle": "2024-12-12T04:13:05.689477Z",
     "shell.execute_reply": "2024-12-12T04:13:05.688869Z"
    },
    "papermill": {
     "duration": 0.011745,
     "end_time": "2024-12-12T04:13:05.690454",
     "exception": false,
     "start_time": "2024-12-12T04:13:05.678709",
     "status": "completed"
    },
    "scrolled": false,
    "tags": []
   },
   "outputs": [
    {
     "data": {
      "text/markdown": [
       "<div class=\"macros\" style=\"visibility:hidden;\">\n",
       "$\\newcommand{\\ensuremath}{}$\n",
       "$\\newcommand{\\xspace}{}$\n",
       "$\\newcommand{\\object}[1]{\\texttt{#1}}$\n",
       "$\\newcommand{\\farcs}{{.}''}$\n",
       "$\\newcommand{\\farcm}{{.}'}$\n",
       "$\\newcommand{\\arcsec}{''}$\n",
       "$\\newcommand{\\arcmin}{'}$\n",
       "$\\newcommand{\\ion}[2]{#1#2}$\n",
       "$\\newcommand{\\textsc}[1]{\\textrm{#1}}$\n",
       "$\\newcommand{\\hl}[1]{\\textrm{#1}}$\n",
       "$\\newcommand{\\footnote}[1]{}$\n",
       "$\\newcommand{\\vdag}{(v)^\\dagger}$\n",
       "$\\newcommand$\n",
       "$\\newcommand$\n",
       "$\\newcommand{Ç}[1]$</div>\n",
       "\n",
       "\n",
       "\n",
       "<div id=\"title\">\n",
       "\n",
       "# Demographics of M Dwarf Binary Exoplanet Hosts Discovered by TESS\n",
       "\n",
       "</div>\n",
       "<div id=\"comments\">\n",
       "\n",
       "[![arXiv](https://img.shields.io/badge/arXiv-2412.08465-b31b1b.svg)](https://arxiv.org/abs/2412.08465)<mark>Appeared on: 2024-12-12</mark> -  _28 pages, 13 figures, 5 tables, accepted for publication in The Astronomical Journal_\n",
       "\n",
       "</div>\n",
       "<div id=\"authors\">\n",
       "\n",
       "R. A. Matson, et al. -- incl., <mark>I. J. M. Crossfield</mark>\n",
       "\n",
       "</div>\n",
       "<div id=\"abstract\">\n",
       "\n",
       "**Abstract:** M dwarfs have become increasingly important in the detection of exoplanets and the study of Earth-sized planets and their habitability. However, 20 $-$ 30 \\% of M dwarfs have companions that can impact the formation and evolution of planetary systems. We use high-resolution imaging and Gaia astrometry to detect stellar companions around M dwarf exoplanet hosts discovered by TESS and determine the projected separation and estimated stellar masses for each system. We find 47 companions around 216 M dwarfs and a multiplicity rate of $19.4\\pm2.7$ \\% that is consistent with field M dwarfs. The binary projected separation distribution is shifted to larger separations, confirming the lack of close binaries hosting transiting exoplanets seen in previous studies.We correct the radii of planets with nearby companions and examine the properties of planets in M dwarf multi-star systems. We also note three multi-planet systems that occur in close binaries ( $\\lesssim 50$ au) where planet formation is expected to be suppressed.\n",
       "\n",
       "</div>\n",
       "\n",
       "<div id=\"div_fig1\">\n",
       "\n",
       "<img src=\"tmp_2412.08465/./Final_Separation_and_Delta_Mag_of_Gaia_Companions.png\" alt=\"Fig5\" width=\"100%\"/>\n",
       "\n",
       "**Figure 5. -** _Left_: Magnitude difference as a function of angular separation for companions detected via common proper motion and parallax using Gaia DR3. Companions also detected with high-resolution imaging are shown in light blue. _Right_: Companions detected via Gaia DR3 and the CPM companions of TOI-2221 are plotted in blue, with companions detected using high-resolution imaging and not also detected using Gaia shown in orange. Open circles are companions unresolved by Gaia, or with no proper motion and/or parallax data, which are assumed to be bound (see text for details). Blue $\\times$'s show companions present in Gaia with parallax and proper motion data indicating they are not physically bound. Each companion is only plotted once, with overlapping companions a result of the magnitude differences measured in different filters. Comparing the separation ranges of the high resolution and CPM detections demonstrates that while there is overlap, they provide complementary samples. (*fig:Gaiacomps*)\n",
       "\n",
       "</div>\n",
       "<div id=\"div_fig2\">\n",
       "\n",
       "<img src=\"tmp_2412.08465/./Final_Sep_and_Per_Histograms.png\" alt=\"Fig10\" width=\"100%\"/>\n",
       "\n",
       "**Figure 10. -** _Left:_ The projected separation distribution in au for M dwarf TOI's with companions. The subset of companions detected with high-resolution (HR) is highlighted in light blue. We converted the observed separations of each system from arcseconds to  au using parallaxes from Gaia, then fit both the total sample (dot dash black line) and the high-resolution subset with Gaussian curves with $\\sigma =$ 1.06 and $\\sigma =$ 0.65 $\\log$(AU), respectively. For the high-resolution sample, the peak is $\\mu =$ 66 au,  whereas for the total sample, the peak is $\\mu =$ 596 au. The separation distributions of non-planet hosting, planet hosting, and TOI M stars from 2024AJ....167..174C are shown for comparison. The region shaded in gray highlights the inner angular resolution limits of the various high-resolution imaging techniques at 75pc, the mean distance for M dwarfs in our sample. These limits demonstrate that we are sensitive to stellar companions with separations of a few au where the M-dwarf distribution of 2024AJ....167..174C peaks.\n",
       "    _Right:_ A normalized cumulative distribution function for the projected companion separation in au. The function highlights the deficit of companions within 45 au (indicated by the vertical dashed line). Half of the M dwarf TOI companions are within 500  au (denoted by the vertical dotted line), reflecting the high concentration of companions between $45-500$ au as seen in the histogram on the left. The change in slope at $\\sim50$ au is consistent with the semi-major axis cutoffs for close binaries with exoplanets determined by [Kraus, et. al (2016)]() and [Ziegler, Tokovinin and Latiolais (2021)]().\n",
       "     (*fig:logsep*)\n",
       "\n",
       "</div>\n",
       "<div id=\"div_fig3\">\n",
       "\n",
       "<img src=\"tmp_2412.08465/./Final_HR_Diagram.png\" alt=\"Fig1\" width=\"100%\"/>\n",
       "\n",
       "**Figure 1. -** H-R Diagram of TESS TOI candidates. Grey symbols are randomly chosen F, G, K stars taken from the TOI list and plotted here to give a perspective for their locations in an H-R Diagram. Red dots are M star TOIs which have already been deemed to be false positives, while blue dots show the location of the remaining M star TOI candidates. The blue dots above the main sequence are deemed to be giants and are removed from any subsequent analysis. (*fig:hrdiagram*)\n",
       "\n",
       "</div><div id=\"qrcode\"><img src=https://api.qrserver.com/v1/create-qr-code/?size=100x100&data=\"https://arxiv.org/abs/2412.08465\"></div>"
      ],
      "text/plain": [
       "<IPython.core.display.Markdown object>"
      ]
     },
     "metadata": {},
     "output_type": "display_data"
    },
    {
     "data": {
      "text/markdown": [
       "<div class=\"macros\" style=\"visibility:hidden;\">\n",
       "$\\newcommand{\\ensuremath}{}$\n",
       "$\\newcommand{\\xspace}{}$\n",
       "$\\newcommand{\\object}[1]{\\texttt{#1}}$\n",
       "$\\newcommand{\\farcs}{{.}''}$\n",
       "$\\newcommand{\\farcm}{{.}'}$\n",
       "$\\newcommand{\\arcsec}{''}$\n",
       "$\\newcommand{\\arcmin}{'}$\n",
       "$\\newcommand{\\ion}[2]{#1#2}$\n",
       "$\\newcommand{\\textsc}[1]{\\textrm{#1}}$\n",
       "$\\newcommand{\\hl}[1]{\\textrm{#1}}$\n",
       "$\\newcommand{\\footnote}[1]{}$\n",
       "$\\newcommand{\\Tau}{\\mathrm{T}}$\n",
       "$\\newcommand$\n",
       "$\\newcommand{\\exofasttwo}{{\\tt EXOFASTv2}}$\n",
       "$\\newcommand{\\bjdtdb}{\\ensuremath{\\rm{BJD_{TDB}}}}$\n",
       "$\\newcommand{\\tjdtdb}{\\ensuremath{\\rm{TJD_{TDB}}}}$\n",
       "$\\newcommand{\\msun}{\\ensuremath{ M_\\odot}}$\n",
       "$\\newcommand{\\rsun}{\\ensuremath{ R_\\odot}}$\n",
       "$\\newcommand{\\lsun}{\\ensuremath{ L_\\odot}}$\n",
       "$\\newcommand{\\thefigure}{\\arabic{figure}.}$\n",
       "$\\newcommand{\\arraystretch}{1.2}$\n",
       "$\\newcommand{\\arraystretch}{1.2}$</div>\n",
       "\n",
       "\n",
       "\n",
       "<div id=\"title\">\n",
       "\n",
       "# Characterization of seven transiting systems including four warm Jupiters from SOPHIE and TESS\n",
       "\n",
       "</div>\n",
       "<div id=\"comments\">\n",
       "\n",
       "[![arXiv](https://img.shields.io/badge/arXiv-2412.08527-b31b1b.svg)](https://arxiv.org/abs/2412.08527)<mark>Appeared on: 2024-12-12</mark> -  _46 pages, 21 figures, accepted for publication in A&A_\n",
       "\n",
       "</div>\n",
       "<div id=\"authors\">\n",
       "\n",
       "N. Heidari, et al. -- incl., <mark>J. Eberhardt</mark>, <mark>T. Henning</mark>\n",
       "\n",
       "</div>\n",
       "<div id=\"abstract\">\n",
       "\n",
       "**Abstract:** While several thousand exoplanets are now confirmed, the number of known transiting warm Jupiters ( $10  \\text{d} < \\text{period} < 200   \\text{d}$ ) remains relatively small. These planets are generally believed to have formed outside the snowline and migrated to their current orbits. Because they are sufficiently distant from their host stars, they mitigate proximity effects and so offer valuable insights into planet formation and evolution. Here, we present the study of seven systems, three of which—TOI-2295, TOI-2537, and TOI-5110—are newly discovered planetary systems. Through the analysis of TESS photometry, SOPHIE radial velocities, and high-spatial resolution imaging, we found that TOI-2295b, TOI-2537b, and TOI-5110b are transiting warm Jupiters with orbital periods ranging from 30 to 94 d, masses between 0.9 and 2.9 $M_{\\rm{J}}$ , and radii ranging from 1.0 to 1.5 $R_{\\rm{J}}$ . Both TOI-2295 and TOI-2537 each harbor at least one additional, outer planet. Their outer planets —TOI-2295c and TOI-2537c— are characterized by orbital periods of 966.5 $^{+4.3}_{-4.2}$ and  1920 $^{+230}_{-140}$ d, respectively, and minimum masses of 5.61 $^{+0.23}_{-0.24}$ and 7.23 $^{+0.52}_{-0.45}$ $M_{\\rm{J}}$ , respectively. We also investigated and characterized the two recently reported warm Jupiters TOI-1836b and TOI-5076b, which we independently detected in SOPHIE RVs. Our new data allow for further discussion of their nature and refinement of their parameters. Additionally, we study the planetary candidates TOI-4081.01 and TOI-4168.01. For TOI-4081.01, despite our detection in radial velocities, we cannot rule out perturbation by a blended eclipsing binary and thus exercise caution regarding its planetary nature. On the other hand, we identify TOI-4168.01 as a firm false positive; its radial velocity curve exhibits a large amplitude in an anti-phase relation with the transit ephemeris observed by TESS, indicating that the detected event is the eclipse of a secondary star rather than a planetary transit. Finally, we highlight interesting characteristics of these new planetary systems. The transits of TOI-2295b are highly grazing, with an impact parameter of 1.056 $^{+0.063}_{-0.043}$ . This leaves its radius uncertain but potentially makes it an interesting probe of gravitational dynamics in its two-planet system, as transit shapes for grazing planets are highly sensitive to even small variations in inclination. TOI-2537b, in turn, is a temperate Jupiter with an effective temperature of 307 $\\pm$ 15 K and can serve as a valuable low-irradiation control for models of hot Jupiter inflation anomalies. We also detected significant transit timing variations (TTVs) for TOI-2537b, which are likely caused by gravitational interactions with the outer planet TOI-2537c. Further transit observations are needed to refine the analysis of these TTVs and enhance our understanding of the system’s dynamics. Finally, TOI-5110b stands out due to its orbital eccentricity of 0.745 $^{+0.030}_{-0.027}$ , one of the highest planetary eccentricities discovered thus far. We find no conclusive evidence for an external companion, but an unseen planet with a semi-amplitude smaller than 10 m/s could nonetheless still be exciting its eccentricity.\n",
       "\n",
       "</div>\n",
       "\n",
       "<div id=\"div_fig1\">\n",
       "\n",
       "<img src=\"tmp_2412.08527/./tpf_toi1836.png\" alt=\"Fig19.1\" width=\"14%\"/><img src=\"tmp_2412.08527/./tpf_toi2295.png\" alt=\"Fig19.2\" width=\"14%\"/><img src=\"tmp_2412.08527/./tpf_toi2537.png\" alt=\"Fig19.3\" width=\"14%\"/><img src=\"tmp_2412.08527/./tpf_toi4081.png\" alt=\"Fig19.4\" width=\"14%\"/><img src=\"tmp_2412.08527/./4168/tpf_toi4168.png\" alt=\"Fig19.5\" width=\"14%\"/><img src=\"tmp_2412.08527/./tpf_toi5076.png\" alt=\"Fig19.6\" width=\"14%\"/><img src=\"tmp_2412.08527/./tpf_toi5110.png\" alt=\"Fig19.7\" width=\"14%\"/>\n",
       "\n",
       "**Figure 19. -** Target Pixel Files (TPFs) images from the first observed TESS sector for the seven targets in our analysis, created by \\texttt{tpfplotter} ([Aller, et. al 2020]()) . The images depict electron counts, with red-contoured pixels marking the SPOC aperture mask. Additionally, red circles highlight the primary target (numbered as 1) and nearby sources (rest of the numbers) at their Gaia DR3 positions. The area of these circles reflects the relative magnitudes of the sources in comparison to the target star. Arrows represent the proper motion of each star. (*tpfplotter*)\n",
       "\n",
       "</div>\n",
       "<div id=\"div_fig2\">\n",
       "\n",
       "<img src=\"tmp_2412.08527/./TPF_Gaia_TIC207468071_S23.png\" alt=\"Fig23.1\" width=\"9%\"/><img src=\"tmp_2412.08527/./TPF_Gaia_TIC207468071_S24.png\" alt=\"Fig23.2\" width=\"9%\"/><img src=\"tmp_2412.08527/./TPF_Gaia_TIC207468071_S25.png\" alt=\"Fig23.3\" width=\"9%\"/><img src=\"tmp_2412.08527/./TPF_Gaia_TIC207468071_S49.png\" alt=\"Fig23.4\" width=\"9%\"/><img src=\"tmp_2412.08527/./TPF_Gaia_TIC207468071_S50.png\" alt=\"Fig23.5\" width=\"9%\"/><img src=\"tmp_2412.08527/./TPF_Gaia_TIC207468071_S51.png\" alt=\"Fig23.6\" width=\"9%\"/><img src=\"tmp_2412.08527/./TPF_Gaia_TIC207468071_S52.png\" alt=\"Fig23.7\" width=\"9%\"/><img src=\"tmp_2412.08527/./TPF_Gaia_TIC207468071_S56.png\" alt=\"Fig23.8\" width=\"9%\"/><img src=\"tmp_2412.08527/./TPF_Gaia_TIC207468071_S76.png\" alt=\"Fig23.9\" width=\"9%\"/><img src=\"tmp_2412.08527/./TPF_Gaia_TIC207468071_S77.png\" alt=\"Fig23.10\" width=\"9%\"/><img src=\"tmp_2412.08527/./TPF_Gaia_TIC207468071_S78.png\" alt=\"Fig23.11\" width=\"9%\"/>\n",
       "\n",
       "**Figure 23. -** The TPFs for TOI-1836, created by \\texttt{tpfplotter} ([Aller, et. al 2020]()) . The images display electron counts, with the SPOC aperture mask outlined in red. Red circles are used to indicate the primary target (marked as 1) and nearby sources (rest of the numbers) based on their positions in Gaia DR3. The size of these circles corresponds to the relative magnitudes of the sources compared to the target star. Additionally, arrows illustrate the proper motion of each star. (*tpfplotter_1836*)\n",
       "\n",
       "</div>\n",
       "<div id=\"div_fig3\">\n",
       "\n",
       "<img src=\"tmp_2412.08527/./high_image_all.png\" alt=\"Fig20\" width=\"100%\"/>\n",
       "\n",
       "**Figure 20. -** Contrast curves for the speckle interferometry observations of TOI-1836, TOI-2295, TOI-2537, TOI-4081, TOI-4168, TOI-5076, and TOI-5110 are shown with black, blue, and red solid lines. The name of each star is indicated on the corresponding plot. TOI-1836, TOI-4081, TOI-4168, TOI-5076, and TOI-5110 were observed by SPP in 625 or 880 nm band. Meanwhile, TOI-2295 was observed using Gemini 'Alopeke, which provides simultaneous speckle imaging in two bands: 562 nm (blue line) and 832 nm (red line). Additionally, TOI-2537 was observed by SOAR in 880 nm band. Each plot includes the final reconstructed image inset in the upper right corner. (*spp*)\n",
       "\n",
       "</div><div id=\"qrcode\"><img src=https://api.qrserver.com/v1/create-qr-code/?size=100x100&data=\"https://arxiv.org/abs/2412.08527\"></div>"
      ],
      "text/plain": [
       "<IPython.core.display.Markdown object>"
      ]
     },
     "metadata": {},
     "output_type": "display_data"
    }
   ],
   "source": [
    "[display(Markdown(k[1])) for k in documents];"
   ]
  },
  {
   "cell_type": "markdown",
   "id": "873873a4",
   "metadata": {
    "papermill": {
     "duration": 0.005001,
     "end_time": "2024-12-12T04:13:05.700754",
     "exception": false,
     "start_time": "2024-12-12T04:13:05.695753",
     "status": "completed"
    },
    "tags": []
   },
   "source": [
    "# Create HTML index"
   ]
  },
  {
   "cell_type": "code",
   "execution_count": 10,
   "id": "cf665672",
   "metadata": {
    "execution": {
     "iopub.execute_input": "2024-12-12T04:13:05.711866Z",
     "iopub.status.busy": "2024-12-12T04:13:05.711199Z",
     "iopub.status.idle": "2024-12-12T04:13:05.719646Z",
     "shell.execute_reply": "2024-12-12T04:13:05.719009Z"
    },
    "papermill": {
     "duration": 0.014939,
     "end_time": "2024-12-12T04:13:05.720583",
     "exception": false,
     "start_time": "2024-12-12T04:13:05.705644",
     "status": "completed"
    },
    "tags": []
   },
   "outputs": [
    {
     "name": "stdout",
     "output_type": "stream",
     "text": [
      "280  publications files modified in the last 7 days.\n"
     ]
    }
   ],
   "source": [
    "from datetime import datetime, timedelta, timezone\n",
    "from glob import glob\n",
    "import os\n",
    "\n",
    "files = glob('_build/html/*.md')\n",
    "days = 7\n",
    "now = datetime.today()\n",
    "res = []\n",
    "for fk in files:\n",
    "    stat_result = os.stat(fk).st_ctime\n",
    "    modified = datetime.fromtimestamp(stat_result, tz=timezone.utc).replace(tzinfo=None)\n",
    "    delta = now.today() - modified\n",
    "    if delta <= timedelta(days=days):\n",
    "        res.append((delta.seconds, fk))\n",
    "res = [k[1] for k in reversed(sorted(res, key=lambda x:x[1]))]\n",
    "npub = len(res)\n",
    "print(len(res), f\" publications files modified in the last {days:d} days.\")\n",
    "# [ print('\\t', k) for k in res ];"
   ]
  },
  {
   "cell_type": "code",
   "execution_count": 11,
   "id": "015de740",
   "metadata": {
    "execution": {
     "iopub.execute_input": "2024-12-12T04:13:05.731762Z",
     "iopub.status.busy": "2024-12-12T04:13:05.731371Z",
     "iopub.status.idle": "2024-12-12T04:13:05.749244Z",
     "shell.execute_reply": "2024-12-12T04:13:05.748693Z"
    },
    "papermill": {
     "duration": 0.024458,
     "end_time": "2024-12-12T04:13:05.750211",
     "exception": false,
     "start_time": "2024-12-12T04:13:05.725753",
     "status": "completed"
    },
    "tags": []
   },
   "outputs": [
    {
     "name": "stdout",
     "output_type": "stream",
     "text": [
      "15  publications in the last 7 days.\n"
     ]
    }
   ],
   "source": [
    "import datetime\n",
    "from glob import glob\n",
    "\n",
    "def get_last_n_days(lst, days=1):\n",
    "    \"\"\" Get the documents from the last n days \"\"\"\n",
    "    sorted_lst = sorted(lst, key=lambda x: x[1], reverse=True)\n",
    "    for fname, date in sorted_lst:\n",
    "        if date >= str(datetime.date.today() - datetime.timedelta(days=days)):\n",
    "            yield fname\n",
    "\n",
    "def extract_appearance_dates(lst_file):\n",
    "    dates = []\n",
    "\n",
    "    def get_date(line):\n",
    "        return line\\\n",
    "            .split('Appeared on:')[-1]\\\n",
    "            .split('</mark>')[0].strip()\n",
    "\n",
    "    for fname in lst:\n",
    "        with open(fname, 'r') as f:\n",
    "            found_date = False\n",
    "            for line in f:\n",
    "                if not found_date:\n",
    "                    if \"Appeared on\" in line:\n",
    "                        found_date = True\n",
    "                        dates.append((fname, get_date(line)))\n",
    "                else:\n",
    "                    break\n",
    "    return dates\n",
    "\n",
    "from glob import glob\n",
    "lst = glob('_build/html/*md')\n",
    "days = 7\n",
    "dates = extract_appearance_dates(lst)\n",
    "res = list(get_last_n_days(dates, days))\n",
    "npub = len(res)\n",
    "print(len(res), f\" publications in the last {days:d} days.\")"
   ]
  },
  {
   "cell_type": "code",
   "execution_count": 12,
   "id": "52ca0208",
   "metadata": {
    "execution": {
     "iopub.execute_input": "2024-12-12T04:13:05.761565Z",
     "iopub.status.busy": "2024-12-12T04:13:05.761028Z",
     "iopub.status.idle": "2024-12-12T04:13:05.766044Z",
     "shell.execute_reply": "2024-12-12T04:13:05.765511Z"
    },
    "papermill": {
     "duration": 0.011628,
     "end_time": "2024-12-12T04:13:05.766990",
     "exception": false,
     "start_time": "2024-12-12T04:13:05.755362",
     "status": "completed"
    },
    "scrolled": false,
    "tags": []
   },
   "outputs": [],
   "source": [
    "def create_carousel(npub=4):\n",
    "    \"\"\" Generate the HTML code for a carousel with `npub` slides \"\"\"\n",
    "    carousel = [\"\"\"  <div class=\"carousel\" \"\"\",\n",
    "                \"\"\"       data-flickity='{ \"autoPlay\": 10000, \"adaptiveHeight\": true, \"resize\": true, \"wrapAround\": true, \"pauseAutoPlayOnHover\": true, \"groupCells\": 1 }' id=\"asyncTypeset\">\"\"\"\n",
    "                ]\n",
    "    \n",
    "    item_str = \"\"\"    <div class=\"carousel-cell\"> <div id=\"slide{k}\" class=\"md_view\">Content {k}</div> </div>\"\"\"\n",
    "    for k in range(1, npub + 1):\n",
    "        carousel.append(item_str.format(k=k))\n",
    "    carousel.append(\"  </div>\")\n",
    "    return '\\n'.join(carousel)\n",
    "\n",
    "def create_grid(npub=4):\n",
    "    \"\"\" Generate the HTML code for a flat grid with `npub` slides \"\"\"\n",
    "    grid = [\"\"\"  <div class=\"grid\"> \"\"\",\n",
    "                ]\n",
    "    \n",
    "    item_str = \"\"\"    <div class=\"grid-item\"> <div id=\"slide{k}\" class=\"md_view\">Content {k}</div> </div>\"\"\"\n",
    "    for k in range(1, npub + 1):\n",
    "        grid.append(item_str.format(k=k))\n",
    "    grid.append(\"  </div>\")\n",
    "    return '\\n'.join(grid)"
   ]
  },
  {
   "cell_type": "code",
   "execution_count": 13,
   "id": "a6eac5b6",
   "metadata": {
    "execution": {
     "iopub.execute_input": "2024-12-12T04:13:05.778424Z",
     "iopub.status.busy": "2024-12-12T04:13:05.778162Z",
     "iopub.status.idle": "2024-12-12T04:13:05.783465Z",
     "shell.execute_reply": "2024-12-12T04:13:05.782936Z"
    },
    "papermill": {
     "duration": 0.01192,
     "end_time": "2024-12-12T04:13:05.784375",
     "exception": false,
     "start_time": "2024-12-12T04:13:05.772455",
     "status": "completed"
    },
    "scrolled": false,
    "tags": []
   },
   "outputs": [],
   "source": [
    "carousel = create_carousel(npub)\n",
    "docs = ', '.join(['\"{0:s}\"'.format(k.split('/')[-1]) for k in res])\n",
    "slides = ', '.join([f'\"slide{k}\"' for k in range(1, npub + 1)])\n",
    "\n",
    "with open(\"daily_template.html\", \"r\") as tpl:\n",
    "    page = tpl.read()\n",
    "    page = page.replace(\"{%-- carousel:s --%}\", carousel)\\\n",
    "               .replace(\"{%-- suptitle:s --%}\",  \"7-day archives\" )\\\n",
    "               .replace(\"{%-- docs:s --%}\", docs)\\\n",
    "               .replace(\"{%-- slides:s --%}\", slides)\n",
    "    \n",
    "with open(\"_build/html/index_7days.html\", 'w') as fout:\n",
    "    fout.write(page)"
   ]
  },
  {
   "cell_type": "code",
   "execution_count": 14,
   "id": "adc1a1ec",
   "metadata": {
    "execution": {
     "iopub.execute_input": "2024-12-12T04:13:05.795762Z",
     "iopub.status.busy": "2024-12-12T04:13:05.795363Z",
     "iopub.status.idle": "2024-12-12T04:13:05.801818Z",
     "shell.execute_reply": "2024-12-12T04:13:05.801304Z"
    },
    "papermill": {
     "duration": 0.013201,
     "end_time": "2024-12-12T04:13:05.802773",
     "exception": false,
     "start_time": "2024-12-12T04:13:05.789572",
     "status": "completed"
    },
    "tags": []
   },
   "outputs": [
    {
     "name": "stdout",
     "output_type": "stream",
     "text": [
      "6  publications in the last day.\n"
     ]
    }
   ],
   "source": [
    "# redo for today\n",
    "days = 1\n",
    "res = list(get_last_n_days(dates, days))\n",
    "npub = len(res)\n",
    "print(len(res), f\" publications in the last day.\")\n",
    "\n",
    "carousel = create_carousel(npub)\n",
    "docs = ', '.join(['\"{0:s}\"'.format(k.split('/')[-1]) for k in res])\n",
    "slides = ', '.join([f'\"slide{k}\"' for k in range(1, npub + 1)])\n",
    "\n",
    "with open(\"daily_template.html\", \"r\") as tpl:\n",
    "    page = tpl.read()\n",
    "    page = page.replace(\"{%-- carousel:s --%}\", carousel)\\\n",
    "               .replace(\"{%-- suptitle:s --%}\",  \"Daily\" )\\\n",
    "               .replace(\"{%-- docs:s --%}\", docs)\\\n",
    "               .replace(\"{%-- slides:s --%}\", slides)\n",
    "    \n",
    "# print(carousel, docs, slides)\n",
    "# print(page)\n",
    "with open(\"_build/html/index_daily.html\", 'w') as fout:\n",
    "    fout.write(page)"
   ]
  },
  {
   "cell_type": "code",
   "execution_count": 15,
   "id": "00eece82",
   "metadata": {
    "execution": {
     "iopub.execute_input": "2024-12-12T04:13:05.814851Z",
     "iopub.status.busy": "2024-12-12T04:13:05.814470Z",
     "iopub.status.idle": "2024-12-12T04:13:05.820667Z",
     "shell.execute_reply": "2024-12-12T04:13:05.820166Z"
    },
    "papermill": {
     "duration": 0.013138,
     "end_time": "2024-12-12T04:13:05.821587",
     "exception": false,
     "start_time": "2024-12-12T04:13:05.808449",
     "status": "completed"
    },
    "scrolled": false,
    "tags": []
   },
   "outputs": [
    {
     "name": "stdout",
     "output_type": "stream",
     "text": [
      "6  6 publications selected.\n"
     ]
    }
   ],
   "source": [
    "# Create the flat grid of the last N papers (fixed number regardless of dates)\n",
    "from itertools import islice \n",
    "\n",
    "npub = 6\n",
    "res = [k[0] for k in (islice(reversed(sorted(dates, key=lambda x: x[1])), 6))]\n",
    "print(len(res), f\" {npub} publications selected.\")\n",
    "\n",
    "grid = create_grid(npub)\n",
    "docs = ', '.join(['\"{0:s}\"'.format(k.split('/')[-1]) for k in res])\n",
    "slides = ', '.join([f'\"slide{k}\"' for k in range(1, npub + 1)])\n",
    "\n",
    "with open(\"grid_template.html\", \"r\") as tpl:\n",
    "    page = tpl.read()\n",
    "    page = page.replace(\"{%-- grid-content:s --%}\", grid)\\\n",
    "               .replace(\"{%-- suptitle:s --%}\",  f\"Last {npub:,d} papers\" )\\\n",
    "               .replace(\"{%-- docs:s --%}\", docs)\\\n",
    "               .replace(\"{%-- slides:s --%}\", slides)\n",
    "    \n",
    "# print(grid, docs, slides)\n",
    "# print(page)\n",
    "with open(\"_build/html/index_npub_grid.html\", 'w') as fout:\n",
    "    fout.write(page)"
   ]
  }
 ],
 "metadata": {
  "kernelspec": {
   "display_name": "Python 3 (ipykernel)",
   "language": "python",
   "name": "python3"
  },
  "language_info": {
   "codemirror_mode": {
    "name": "ipython",
    "version": 3
   },
   "file_extension": ".py",
   "mimetype": "text/x-python",
   "name": "python",
   "nbconvert_exporter": "python",
   "pygments_lexer": "ipython3",
   "version": "3.9.20"
  },
  "papermill": {
   "default_parameters": {},
   "duration": 86.173502,
   "end_time": "2024-12-12T04:13:06.143086",
   "environment_variables": {},
   "exception": null,
   "input_path": "MPIA daily digest.ipynb",
   "output_path": "log.ipynb",
   "parameters": {},
   "start_time": "2024-12-12T04:11:39.969584",
   "version": "2.6.0"
  },
  "vscode": {
   "interpreter": {
    "hash": "aee8b7b246df8f9039afb4144a1f6fd8d2ca17a180786b69acc140d282b71a49"
   }
  },
  "widgets": {
   "application/vnd.jupyter.widget-state+json": {
    "state": {
     "0c4d75e399494cf9baf0cd1be778c1cc": {
      "model_module": "@jupyter-widgets/controls",
      "model_module_version": "2.0.0",
      "model_name": "HTMLModel",
      "state": {
       "_dom_classes": [],
       "_model_module": "@jupyter-widgets/controls",
       "_model_module_version": "2.0.0",
       "_model_name": "HTMLModel",
       "_view_count": null,
       "_view_module": "@jupyter-widgets/controls",
       "_view_module_version": "2.0.0",
       "_view_name": "HTMLView",
       "description": "",
       "description_allow_html": false,
       "layout": "IPY_MODEL_d77a0a45004c441bb15dd6b200357f56",
       "placeholder": "​",
       "style": "IPY_MODEL_2816851fad024d499f47c090cc338ec1",
       "tabbable": null,
       "tooltip": null,
       "value": " 5/5 [01:05&lt;00:00, 22.92s/it]"
      }
     },
     "15cb5d53a82f4dffa0111b63fccce10b": {
      "model_module": "@jupyter-widgets/controls",
      "model_module_version": "2.0.0",
      "model_name": "ProgressStyleModel",
      "state": {
       "_model_module": "@jupyter-widgets/controls",
       "_model_module_version": "2.0.0",
       "_model_name": "ProgressStyleModel",
       "_view_count": null,
       "_view_module": "@jupyter-widgets/base",
       "_view_module_version": "2.0.0",
       "_view_name": "StyleView",
       "bar_color": null,
       "description_width": ""
      }
     },
     "2816851fad024d499f47c090cc338ec1": {
      "model_module": "@jupyter-widgets/controls",
      "model_module_version": "2.0.0",
      "model_name": "HTMLStyleModel",
      "state": {
       "_model_module": "@jupyter-widgets/controls",
       "_model_module_version": "2.0.0",
       "_model_name": "HTMLStyleModel",
       "_view_count": null,
       "_view_module": "@jupyter-widgets/base",
       "_view_module_version": "2.0.0",
       "_view_name": "StyleView",
       "background": null,
       "description_width": "",
       "font_size": null,
       "text_color": null
      }
     },
     "4ab847ddd3fb49d7a8bf137412c9846a": {
      "model_module": "@jupyter-widgets/base",
      "model_module_version": "2.0.0",
      "model_name": "LayoutModel",
      "state": {
       "_model_module": "@jupyter-widgets/base",
       "_model_module_version": "2.0.0",
       "_model_name": "LayoutModel",
       "_view_count": null,
       "_view_module": "@jupyter-widgets/base",
       "_view_module_version": "2.0.0",
       "_view_name": "LayoutView",
       "align_content": null,
       "align_items": null,
       "align_self": null,
       "border_bottom": null,
       "border_left": null,
       "border_right": null,
       "border_top": null,
       "bottom": null,
       "display": null,
       "flex": null,
       "flex_flow": null,
       "grid_area": null,
       "grid_auto_columns": null,
       "grid_auto_flow": null,
       "grid_auto_rows": null,
       "grid_column": null,
       "grid_gap": null,
       "grid_row": null,
       "grid_template_areas": null,
       "grid_template_columns": null,
       "grid_template_rows": null,
       "height": null,
       "justify_content": null,
       "justify_items": null,
       "left": null,
       "margin": null,
       "max_height": null,
       "max_width": null,
       "min_height": null,
       "min_width": null,
       "object_fit": null,
       "object_position": null,
       "order": null,
       "overflow": null,
       "padding": null,
       "right": null,
       "top": null,
       "visibility": null,
       "width": null
      }
     },
     "610e1932d1ad4caa812e3af19d393a18": {
      "model_module": "@jupyter-widgets/controls",
      "model_module_version": "2.0.0",
      "model_name": "FloatProgressModel",
      "state": {
       "_dom_classes": [],
       "_model_module": "@jupyter-widgets/controls",
       "_model_module_version": "2.0.0",
       "_model_name": "FloatProgressModel",
       "_view_count": null,
       "_view_module": "@jupyter-widgets/controls",
       "_view_module_version": "2.0.0",
       "_view_name": "ProgressView",
       "bar_style": "success",
       "description": "",
       "description_allow_html": false,
       "layout": "IPY_MODEL_4ab847ddd3fb49d7a8bf137412c9846a",
       "max": 5.0,
       "min": 0.0,
       "orientation": "horizontal",
       "style": "IPY_MODEL_15cb5d53a82f4dffa0111b63fccce10b",
       "tabbable": null,
       "tooltip": null,
       "value": 5.0
      }
     },
     "abac66b6afbf42dc9b798295e1d62394": {
      "model_module": "@jupyter-widgets/controls",
      "model_module_version": "2.0.0",
      "model_name": "HTMLModel",
      "state": {
       "_dom_classes": [],
       "_model_module": "@jupyter-widgets/controls",
       "_model_module_version": "2.0.0",
       "_model_name": "HTMLModel",
       "_view_count": null,
       "_view_module": "@jupyter-widgets/controls",
       "_view_module_version": "2.0.0",
       "_view_name": "HTMLView",
       "description": "",
       "description_allow_html": false,
       "layout": "IPY_MODEL_fee47973af3e44d18e709d6684845b65",
       "placeholder": "​",
       "style": "IPY_MODEL_bbe122deb5e44304ba09e3e579ead6f1",
       "tabbable": null,
       "tooltip": null,
       "value": "100%"
      }
     },
     "bbe122deb5e44304ba09e3e579ead6f1": {
      "model_module": "@jupyter-widgets/controls",
      "model_module_version": "2.0.0",
      "model_name": "HTMLStyleModel",
      "state": {
       "_model_module": "@jupyter-widgets/controls",
       "_model_module_version": "2.0.0",
       "_model_name": "HTMLStyleModel",
       "_view_count": null,
       "_view_module": "@jupyter-widgets/base",
       "_view_module_version": "2.0.0",
       "_view_name": "StyleView",
       "background": null,
       "description_width": "",
       "font_size": null,
       "text_color": null
      }
     },
     "cad69fc0d1bd4744b77ab5fd3c326ae1": {
      "model_module": "@jupyter-widgets/controls",
      "model_module_version": "2.0.0",
      "model_name": "HBoxModel",
      "state": {
       "_dom_classes": [],
       "_model_module": "@jupyter-widgets/controls",
       "_model_module_version": "2.0.0",
       "_model_name": "HBoxModel",
       "_view_count": null,
       "_view_module": "@jupyter-widgets/controls",
       "_view_module_version": "2.0.0",
       "_view_name": "HBoxView",
       "box_style": "",
       "children": [
        "IPY_MODEL_abac66b6afbf42dc9b798295e1d62394",
        "IPY_MODEL_610e1932d1ad4caa812e3af19d393a18",
        "IPY_MODEL_0c4d75e399494cf9baf0cd1be778c1cc"
       ],
       "layout": "IPY_MODEL_da70f43296c549adb82c5b5b4f98c89b",
       "tabbable": null,
       "tooltip": null
      }
     },
     "d77a0a45004c441bb15dd6b200357f56": {
      "model_module": "@jupyter-widgets/base",
      "model_module_version": "2.0.0",
      "model_name": "LayoutModel",
      "state": {
       "_model_module": "@jupyter-widgets/base",
       "_model_module_version": "2.0.0",
       "_model_name": "LayoutModel",
       "_view_count": null,
       "_view_module": "@jupyter-widgets/base",
       "_view_module_version": "2.0.0",
       "_view_name": "LayoutView",
       "align_content": null,
       "align_items": null,
       "align_self": null,
       "border_bottom": null,
       "border_left": null,
       "border_right": null,
       "border_top": null,
       "bottom": null,
       "display": null,
       "flex": null,
       "flex_flow": null,
       "grid_area": null,
       "grid_auto_columns": null,
       "grid_auto_flow": null,
       "grid_auto_rows": null,
       "grid_column": null,
       "grid_gap": null,
       "grid_row": null,
       "grid_template_areas": null,
       "grid_template_columns": null,
       "grid_template_rows": null,
       "height": null,
       "justify_content": null,
       "justify_items": null,
       "left": null,
       "margin": null,
       "max_height": null,
       "max_width": null,
       "min_height": null,
       "min_width": null,
       "object_fit": null,
       "object_position": null,
       "order": null,
       "overflow": null,
       "padding": null,
       "right": null,
       "top": null,
       "visibility": null,
       "width": null
      }
     },
     "da70f43296c549adb82c5b5b4f98c89b": {
      "model_module": "@jupyter-widgets/base",
      "model_module_version": "2.0.0",
      "model_name": "LayoutModel",
      "state": {
       "_model_module": "@jupyter-widgets/base",
       "_model_module_version": "2.0.0",
       "_model_name": "LayoutModel",
       "_view_count": null,
       "_view_module": "@jupyter-widgets/base",
       "_view_module_version": "2.0.0",
       "_view_name": "LayoutView",
       "align_content": null,
       "align_items": null,
       "align_self": null,
       "border_bottom": null,
       "border_left": null,
       "border_right": null,
       "border_top": null,
       "bottom": null,
       "display": null,
       "flex": null,
       "flex_flow": null,
       "grid_area": null,
       "grid_auto_columns": null,
       "grid_auto_flow": null,
       "grid_auto_rows": null,
       "grid_column": null,
       "grid_gap": null,
       "grid_row": null,
       "grid_template_areas": null,
       "grid_template_columns": null,
       "grid_template_rows": null,
       "height": null,
       "justify_content": null,
       "justify_items": null,
       "left": null,
       "margin": null,
       "max_height": null,
       "max_width": null,
       "min_height": null,
       "min_width": null,
       "object_fit": null,
       "object_position": null,
       "order": null,
       "overflow": null,
       "padding": null,
       "right": null,
       "top": null,
       "visibility": null,
       "width": null
      }
     },
     "fee47973af3e44d18e709d6684845b65": {
      "model_module": "@jupyter-widgets/base",
      "model_module_version": "2.0.0",
      "model_name": "LayoutModel",
      "state": {
       "_model_module": "@jupyter-widgets/base",
       "_model_module_version": "2.0.0",
       "_model_name": "LayoutModel",
       "_view_count": null,
       "_view_module": "@jupyter-widgets/base",
       "_view_module_version": "2.0.0",
       "_view_name": "LayoutView",
       "align_content": null,
       "align_items": null,
       "align_self": null,
       "border_bottom": null,
       "border_left": null,
       "border_right": null,
       "border_top": null,
       "bottom": null,
       "display": null,
       "flex": null,
       "flex_flow": null,
       "grid_area": null,
       "grid_auto_columns": null,
       "grid_auto_flow": null,
       "grid_auto_rows": null,
       "grid_column": null,
       "grid_gap": null,
       "grid_row": null,
       "grid_template_areas": null,
       "grid_template_columns": null,
       "grid_template_rows": null,
       "height": null,
       "justify_content": null,
       "justify_items": null,
       "left": null,
       "margin": null,
       "max_height": null,
       "max_width": null,
       "min_height": null,
       "min_width": null,
       "object_fit": null,
       "object_position": null,
       "order": null,
       "overflow": null,
       "padding": null,
       "right": null,
       "top": null,
       "visibility": null,
       "width": null
      }
     }
    },
    "version_major": 2,
    "version_minor": 0
   }
  }
 },
 "nbformat": 4,
 "nbformat_minor": 5
}