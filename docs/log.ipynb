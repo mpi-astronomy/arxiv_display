{
 "cells": [
  {
   "cell_type": "markdown",
   "id": "92bcb855",
   "metadata": {
    "papermill": {
     "duration": 0.003844,
     "end_time": "2025-09-17T04:11:56.711134",
     "exception": false,
     "start_time": "2025-09-17T04:11:56.707290",
     "status": "completed"
    },
    "tags": []
   },
   "source": [
    "# MPIA Arxiv on Deck 2\n",
    "\n",
    "Contains the steps to produce the paper extractions."
   ]
  },
  {
   "cell_type": "code",
   "execution_count": 1,
   "id": "3a0d6e11",
   "metadata": {
    "execution": {
     "iopub.execute_input": "2025-09-17T04:11:56.718485Z",
     "iopub.status.busy": "2025-09-17T04:11:56.718169Z",
     "iopub.status.idle": "2025-09-17T04:11:56.927093Z",
     "shell.execute_reply": "2025-09-17T04:11:56.926329Z"
    },
    "papermill": {
     "duration": 0.21418,
     "end_time": "2025-09-17T04:11:56.928507",
     "exception": false,
     "start_time": "2025-09-17T04:11:56.714327",
     "status": "completed"
    },
    "tags": []
   },
   "outputs": [],
   "source": [
    "# Imports\n",
    "import os\n",
    "from IPython.display import Markdown, display\n",
    "from tqdm.notebook import tqdm\n",
    "import warnings\n",
    "from PIL import Image \n",
    "import re\n",
    "\n",
    "# requires arxiv_on_deck_2\n",
    "\n",
    "from arxiv_on_deck_2.arxiv2 import (get_new_papers, \n",
    "                                    get_paper_from_identifier,\n",
    "                                    retrieve_document_source, \n",
    "                                    get_markdown_badge)\n",
    "from arxiv_on_deck_2 import (latex,\n",
    "                             latex_bib,\n",
    "                             mpia,\n",
    "                             highlight_authors_in_list)\n",
    "\n",
    "# Sometimes images are really big\n",
    "Image.MAX_IMAGE_PIXELS = 1000000000 "
   ]
  },
  {
   "cell_type": "code",
   "execution_count": 2,
   "id": "22aa9d44",
   "metadata": {
    "execution": {
     "iopub.execute_input": "2025-09-17T04:11:56.935682Z",
     "iopub.status.busy": "2025-09-17T04:11:56.935431Z",
     "iopub.status.idle": "2025-09-17T04:11:56.943445Z",
     "shell.execute_reply": "2025-09-17T04:11:56.942802Z"
    },
    "papermill": {
     "duration": 0.012679,
     "end_time": "2025-09-17T04:11:56.944468",
     "exception": false,
     "start_time": "2025-09-17T04:11:56.931789",
     "status": "completed"
    },
    "tags": []
   },
   "outputs": [],
   "source": [
    "# Some useful definitions.\n",
    "\n",
    "class AffiliationWarning(UserWarning):\n",
    "    pass\n",
    "\n",
    "class AffiliationError(RuntimeError):\n",
    "    pass\n",
    "\n",
    "def validation(source: str):\n",
    "    \"\"\"Raises error paper during parsing of source file\n",
    "    \n",
    "    Allows checks before parsing TeX code.\n",
    "    \n",
    "    Raises AffiliationWarning\n",
    "    \"\"\"\n",
    "    check = mpia.affiliation_verifications(source, verbose=True)\n",
    "    if check is not True:\n",
    "        raise AffiliationError(\"mpia.affiliation_verifications: \" + check)\n",
    "\n",
    "        \n",
    "warnings.simplefilter('always', AffiliationWarning)\n",
    "\n",
    "\n",
    "def get_markdown_qrcode(paper_id: str):\n",
    "    \"\"\" Generate a qrcode to the arxiv page using qrserver.com\n",
    "    \n",
    "    :param paper: Arxiv paper\n",
    "    :returns: markdown text\n",
    "    \"\"\"\n",
    "    url = r\"https://api.qrserver.com/v1/create-qr-code/?size=100x100&data=\"\n",
    "    txt = f\"\"\"<img src={url}\"https://arxiv.org/abs/{paper_id}\">\"\"\"\n",
    "    txt = '<div id=\"qrcode\">' + txt + '</div>'\n",
    "    return txt\n",
    "\n",
    "\n",
    "def clean_non_western_encoded_characters_commands(text: str) -> str:\n",
    "    \"\"\" Remove non-western encoded characters from a string\n",
    "    List may need to grow.\n",
    "    \n",
    "    :param text: the text to clean\n",
    "    :return: the cleaned text\n",
    "    \"\"\"\n",
    "    text = re.sub(r\"(\\\\begin{CJK}{UTF8}{gbsn})(.*?)(\\\\end{CJK})\", r\"\\2\", text)\n",
    "    return text\n",
    "\n",
    "\n",
    "def get_initials(name: str) -> str:\n",
    "    \"\"\" Get the short name, e.g., A.-B. FamName\n",
    "    :param name: full name\n",
    "    :returns: initials\n",
    "    \"\"\"\n",
    "    initials = []\n",
    "    # account for non western names often in ()\n",
    "    if '(' in name:\n",
    "        name = clean_non_western_encoded_characters_commands(name)\n",
    "        suffix = re.findall(r\"\\((.*?)\\)\", name)[0]\n",
    "        name = name.replace(f\"({suffix})\", '')\n",
    "    else:\n",
    "        suffix = ''\n",
    "    split = name.split()\n",
    "    for token in split[:-1]:\n",
    "        if '-' in token:\n",
    "            current = '-'.join([k[0] + '.' for k in token.split('-')])\n",
    "        else:\n",
    "            current = token[0] + '.'\n",
    "        initials.append(current)\n",
    "    initials.append(split[-1].strip())\n",
    "    if suffix:\n",
    "        initials.append(f\"({suffix})\")\n",
    "    return ' '.join(initials)"
   ]
  },
  {
   "cell_type": "markdown",
   "id": "14bd6310",
   "metadata": {
    "papermill": {
     "duration": 0.002863,
     "end_time": "2025-09-17T04:11:56.950312",
     "exception": false,
     "start_time": "2025-09-17T04:11:56.947449",
     "status": "completed"
    },
    "tags": []
   },
   "source": [
    "## get list of arxiv paper candidates\n",
    "\n",
    "We use the MPIA mitarbeiter list webpage from mpia.de to get author names\n",
    "We then get all new papers from Arxiv and match authors"
   ]
  },
  {
   "cell_type": "code",
   "execution_count": 3,
   "id": "7ea813a8",
   "metadata": {
    "execution": {
     "iopub.execute_input": "2025-09-17T04:11:56.957008Z",
     "iopub.status.busy": "2025-09-17T04:11:56.956738Z",
     "iopub.status.idle": "2025-09-17T04:12:22.156388Z",
     "shell.execute_reply": "2025-09-17T04:12:22.155732Z"
    },
    "papermill": {
     "duration": 25.204387,
     "end_time": "2025-09-17T04:12:22.157685",
     "exception": false,
     "start_time": "2025-09-17T04:11:56.953298",
     "status": "completed"
    },
    "tags": []
   },
   "outputs": [],
   "source": [
    "# deal with the author list and edge cases of people that cannot be consistent on their name  \n",
    "\n",
    "def filter_non_scientists(name: str) -> bool:\n",
    "    \"\"\" Loose filter on expected authorships\n",
    "\n",
    "    removing IT, administration, technical staff\n",
    "    :param name: name\n",
    "    :returns: False if name is not a scientist\n",
    "    \"\"\"\n",
    "    remove_list = ['Licht', 'Binroth', 'Witzel', 'Jordan',\n",
    "                   'Zähringer', 'Scheerer', 'Hoffmann', 'Düe',\n",
    "                   'Hellmich', 'Enkler-Scharpegge', 'Witte-Nguy',\n",
    "                   'Dehen', 'Beckmann', 'Jager', 'Jäger'\n",
    "                  ]\n",
    "\n",
    "    for k in remove_list:\n",
    "        if k in name:\n",
    "            return False\n",
    "    return True\n",
    "\n",
    "def add_author_to_list(author_list: list) -> list:\n",
    "    \"\"\" Add author to list if not already in list\n",
    "    \n",
    "    :param author: author name\n",
    "    :param author_list: list of authors\n",
    "    :returns: updated list of authors\n",
    "    \"\"\"\n",
    "    add_list = ['T. Henning']\n",
    "\n",
    "    for author in add_list:\n",
    "        if author not in author_list:\n",
    "            author_list.append(author)\n",
    "    return author_list\n",
    "\n",
    "# get list from MPIA website\n",
    "# filter for non-scientists (mpia.get_mpia_mitarbeiter_list() does some filtering)\n",
    "mpia_authors = [k[1] for k in mpia.get_mpia_mitarbeiter_list() if filter_non_scientists(k[1])]\n",
    "# add some missing author because of inconsistencies in their MPIA name and author name on papers\n",
    "mpia_authors = add_author_to_list(mpia_authors)"
   ]
  },
  {
   "cell_type": "code",
   "execution_count": 4,
   "id": "2645e73a",
   "metadata": {
    "execution": {
     "iopub.execute_input": "2025-09-17T04:12:22.164781Z",
     "iopub.status.busy": "2025-09-17T04:12:22.164576Z",
     "iopub.status.idle": "2025-09-17T04:12:23.185628Z",
     "shell.execute_reply": "2025-09-17T04:12:23.184972Z"
    },
    "papermill": {
     "duration": 1.02569,
     "end_time": "2025-09-17T04:12:23.186736",
     "exception": false,
     "start_time": "2025-09-17T04:12:22.161046",
     "status": "completed"
    },
    "tags": []
   },
   "outputs": [
    {
     "name": "stdout",
     "output_type": "stream",
     "text": [
      "A. d. Graaff  ->  A. D. Graaff  |  ['A. D. Graaff']\n",
      "Y. Wang  ->  Y. Wang  |  ['Y. Wang']\n",
      "E.-M. Ahrer  ->  E.-M. Ahrer  |  ['E.-M. Ahrer']\n",
      "P. Mollière  ->  P. Mollière  |  ['P. Mollière']\n",
      "S. Shahaf  ->  S. Shahaf  |  ['S. Shahaf']\n",
      "Y. Wang  ->  Y. Wang  |  ['Y. Wang']\n"
     ]
    },
    {
     "name": "stdout",
     "output_type": "stream",
     "text": [
      "J.-U. Pott  ->  J.-U. Pott  |  ['J.-U. Pott']\n",
      "J.-U. Pott  ->  J.-U. Pott  |  ['J.-U. Pott']\n",
      "F. Xu  ->  F. Xu  |  ['F. Xu']\n",
      "H. Jiang  ->  H. Jiang  |  ['H. Jiang']\n",
      "M. Benisty  ->  M. Benisty  |  ['M. Benisty']\n",
      "K. Doi  ->  K. Doi  |  ['K. Doi']\n",
      "K. Jahnke  ->  K. Jahnke  |  ['K. Jahnke']\n",
      "Arxiv has 85 new papers today\n",
      "          10 with possible author matches\n"
     ]
    }
   ],
   "source": [
    "new_papers = get_new_papers()\n",
    "# add manual references\n",
    "add_paper_refs = []\n",
    "new_papers.extend([get_paper_from_identifier(k) for k in add_paper_refs])\n",
    "\n",
    "def robust_call(fn, value, *args, **kwargs):\n",
    "    try:\n",
    "        return fn(value, *args, **kwargs)\n",
    "    except Exception:\n",
    "        return value\n",
    "\n",
    "candidates = []\n",
    "for paperk in new_papers:\n",
    "    # Check author list with their initials\n",
    "    normed_author_list = [robust_call(mpia.get_initials, k) for k in paperk['authors']]\n",
    "    hl_authors = highlight_authors_in_list(normed_author_list, mpia_authors, verbose=True)\n",
    "    matches = [(hl, orig) for hl, orig in zip(hl_authors, paperk['authors']) if 'mark' in hl]\n",
    "    paperk['authors'] = hl_authors\n",
    "    if matches:\n",
    "        # only select paper if an author matched our list\n",
    "        candidates.append(paperk)\n",
    "print(\"\"\"Arxiv has {0:,d} new papers today\"\"\".format(len(new_papers)))        \n",
    "print(\"\"\"          {0:,d} with possible author matches\"\"\".format(len(candidates)))"
   ]
  },
  {
   "cell_type": "markdown",
   "id": "3543b34a",
   "metadata": {
    "papermill": {
     "duration": 0.003121,
     "end_time": "2025-09-17T04:12:23.193543",
     "exception": false,
     "start_time": "2025-09-17T04:12:23.190422",
     "status": "completed"
    },
    "tags": []
   },
   "source": [
    "# Parse sources and generate relevant outputs\n",
    "\n",
    "From the candidates, we do the following steps:\n",
    "* get their tarball from ArXiv (and extract data)\n",
    "* find the main .tex file: find one with \\documentclass{...} (sometimes it's non trivial)\n",
    "* Check affiliations with :func:`validation`, which uses :func:`mpia.affiliation_verifications`\n",
    "* If passing the affiliations: we parse the .tex source\n",
    "   * inject sub-documents into the main (flatten the main document)\n",
    "   * parse structure, extract information (title, abstract, authors, figures...)\n",
    "   * handles `\\graphicspath` if provided\n",
    "* Generate the .md document."
   ]
  },
  {
   "cell_type": "code",
   "execution_count": 5,
   "id": "9576b79e",
   "metadata": {
    "execution": {
     "iopub.execute_input": "2025-09-17T04:12:23.200597Z",
     "iopub.status.busy": "2025-09-17T04:12:23.200374Z",
     "iopub.status.idle": "2025-09-17T04:17:37.000485Z",
     "shell.execute_reply": "2025-09-17T04:17:36.999779Z"
    },
    "papermill": {
     "duration": 313.809813,
     "end_time": "2025-09-17T04:17:37.006467",
     "exception": false,
     "start_time": "2025-09-17T04:12:23.196654",
     "status": "completed"
    },
    "scrolled": false,
    "tags": []
   },
   "outputs": [
    {
     "data": {
      "application/vnd.jupyter.widget-view+json": {
       "model_id": "558c29364b5f4cbbba9a0c9c379c4a42",
       "version_major": 2,
       "version_minor": 0
      },
      "text/plain": [
       "  0%|          | 0/10 [00:00<?, ?it/s]"
      ]
     },
     "metadata": {},
     "output_type": "display_data"
    },
    {
     "name": "stdout",
     "output_type": "stream",
     "text": [
      "Retrieving document from  https://arxiv.org/e-print/2509.12316\n"
     ]
    },
    {
     "name": "stdout",
     "output_type": "stream",
     "text": [
      "extracting tarball to tmp_2509.12316..."
     ]
    },
    {
     "name": "stdout",
     "output_type": "stream",
     "text": [
      " done.\n"
     ]
    },
    {
     "name": "stdout",
     "output_type": "stream",
     "text": [
      "A. d. Graaff  ->  A. D. Graaff  |  ['A. D. Graaff']\n"
     ]
    },
    {
     "name": "stdout",
     "output_type": "stream",
     "text": [
      "Found 172 bibliographic references in tmp_2509.12316/main.bbl.\n",
      "Issues with the citations\n",
      "syntax error in line 1019: '=' expected\n",
      "Retrieving document from  https://arxiv.org/e-print/2509.12343\n"
     ]
    },
    {
     "name": "stdout",
     "output_type": "stream",
     "text": [
      "extracting tarball to tmp_2509.12343..."
     ]
    },
    {
     "name": "stdout",
     "output_type": "stream",
     "text": [
      " done.\n",
      "Retrieving document from  https://arxiv.org/e-print/2509.12479\n"
     ]
    },
    {
     "name": "stdout",
     "output_type": "stream",
     "text": [
      "extracting tarball to tmp_2509.12479..."
     ]
    },
    {
     "name": "stdout",
     "output_type": "stream",
     "text": [
      " done.\n"
     ]
    },
    {
     "name": "stdout",
     "output_type": "stream",
     "text": [
      "Found 98 bibliographic references in tmp_2509.12479/references.bbl.\n",
      "Retrieving document from  https://arxiv.org/e-print/2509.12488\n"
     ]
    },
    {
     "name": "stdout",
     "output_type": "stream",
     "text": [
      "extracting tarball to tmp_2509.12488..."
     ]
    },
    {
     "name": "stdout",
     "output_type": "stream",
     "text": [
      " done.\n"
     ]
    },
    {
     "name": "stdout",
     "output_type": "stream",
     "text": [
      "S. Shahaf  ->  S. Shahaf  |  ['S. Shahaf']\n"
     ]
    },
    {
     "name": "stderr",
     "output_type": "stream",
     "text": [
      "/opt/hostedtoolcache/Python/3.9.23/x64/lib/python3.9/site-packages/arxiv_on_deck_2/latex.py:132: LatexWarning: attempting recovering figure SANA_Fig3.pdf\n",
      "  warnings.warn(LatexWarning(f'attempting recovering figure {image}'))\n",
      "/opt/hostedtoolcache/Python/3.9.23/x64/lib/python3.9/site-packages/arxiv_on_deck_2/latex.py:707: LatexWarning: Could not find graphic \\includegraphics[width=0.99\\linewidth]{SANA_Fig3.pdf}\n",
      "  warnings.warn(LatexWarning(f\"Could not find graphic {k}\"))\n"
     ]
    },
    {
     "name": "stdout",
     "output_type": "stream",
     "text": [
      "Issues with the citations\n",
      "list index out of range\n",
      "Retrieving document from  https://arxiv.org/e-print/2509.12551\n"
     ]
    },
    {
     "name": "stderr",
     "output_type": "stream",
     "text": [
      "/tmp/ipykernel_3379/2822249172.py:52: LatexWarning: 2509.12551 did not run properly\n",
      "not a gzip file\n",
      "  warnings.warn(latex.LatexWarning(f\"{paper_id:s} did not run properly\\n\" +\n"
     ]
    },
    {
     "name": "stdout",
     "output_type": "stream",
     "text": [
      "Retrieving document from  https://arxiv.org/e-print/2509.12767\n"
     ]
    },
    {
     "name": "stdout",
     "output_type": "stream",
     "text": [
      "extracting tarball to tmp_2509.12767... done.\n"
     ]
    },
    {
     "name": "stderr",
     "output_type": "stream",
     "text": [
      "/opt/hostedtoolcache/Python/3.9.23/x64/lib/python3.9/site-packages/IPython/core/interactiveshell.py:3550: LatexWarning: Multiple tex files.\n",
      "\n",
      "  exec(code_obj, self.user_global_ns, self.user_ns)\n",
      "/opt/hostedtoolcache/Python/3.9.23/x64/lib/python3.9/site-packages/IPython/core/interactiveshell.py:3550: LatexWarning: Found documentclass in tmp_2509.12767/main.tex\n",
      "\n",
      "  exec(code_obj, self.user_global_ns, self.user_ns)\n",
      "/opt/hostedtoolcache/Python/3.9.23/x64/lib/python3.9/site-packages/arxiv_on_deck_2/latex.py:414: LatexWarning: Latex injecting: 'acronyms.tex' from 'tmp_2509.12767/acronyms.tex'\n",
      "  warnings.warn(LatexWarning(f\"Latex injecting: '{ext}' from '{subsource}'\"))\n"
     ]
    },
    {
     "name": "stdout",
     "output_type": "stream",
     "text": [
      "J.-U. Pott  ->  J.-U. Pott  |  ['J.-U. Pott']\n"
     ]
    },
    {
     "name": "stderr",
     "output_type": "stream",
     "text": [
      "/tmp/ipykernel_3379/2822249172.py:52: LatexWarning: 2509.12767 did not run properly\n",
      "list index out of range\n",
      "  warnings.warn(latex.LatexWarning(f\"{paper_id:s} did not run properly\\n\" +\n"
     ]
    },
    {
     "name": "stdout",
     "output_type": "stream",
     "text": [
      "Retrieving document from  https://arxiv.org/e-print/2509.12775\n"
     ]
    },
    {
     "name": "stdout",
     "output_type": "stream",
     "text": [
      "extracting tarball to tmp_2509.12775... done.\n"
     ]
    },
    {
     "name": "stderr",
     "output_type": "stream",
     "text": [
      "/opt/hostedtoolcache/Python/3.9.23/x64/lib/python3.9/site-packages/IPython/core/interactiveshell.py:3550: LatexWarning: Multiple tex files.\n",
      "\n",
      "  exec(code_obj, self.user_global_ns, self.user_ns)\n",
      "/opt/hostedtoolcache/Python/3.9.23/x64/lib/python3.9/site-packages/IPython/core/interactiveshell.py:3550: LatexWarning: Found documentclass in tmp_2509.12775/root.tex\n",
      "\n",
      "  exec(code_obj, self.user_global_ns, self.user_ns)\n",
      "/opt/hostedtoolcache/Python/3.9.23/x64/lib/python3.9/site-packages/arxiv_on_deck_2/latex.py:414: LatexWarning: Latex injecting: 'acronyms.tex' from 'tmp_2509.12775/acronyms.tex'\n",
      "  warnings.warn(LatexWarning(f\"Latex injecting: '{ext}' from '{subsource}'\"))\n",
      "/opt/hostedtoolcache/Python/3.9.23/x64/lib/python3.9/site-packages/arxiv_on_deck_2/latex.py:414: LatexWarning: Latex injecting: 'import_plot_colors' from 'tmp_2509.12775/import_plot_colors.tex'\n",
      "  warnings.warn(LatexWarning(f\"Latex injecting: '{ext}' from '{subsource}'\"))\n"
     ]
    },
    {
     "name": "stderr",
     "output_type": "stream",
     "text": [
      "/opt/hostedtoolcache/Python/3.9.23/x64/lib/python3.9/site-packages/arxiv_on_deck_2/latex.py:488: LatexWarning: Error parsing the document directly. Trying to recover.\n",
      "  warnings.warn(LatexWarning(f\"Error parsing the document directly. Trying to recover.\"))\n"
     ]
    },
    {
     "name": "stdout",
     "output_type": "stream",
     "text": [
      "✘ → 0:header\n",
      "  ↳ 7401:\\section{Introduction}\\label{sec:introduction}\n",
      "✔ → 7401:\\section{Introduction}\\label{sec:introduction}\n",
      "  ↳ 10496:\\section{Simulation setup}\\label{sec:setup}\n"
     ]
    },
    {
     "name": "stdout",
     "output_type": "stream",
     "text": [
      "✔ → 10496:\\section{Simulation setup}\\label{sec:setup}\n",
      "  ↳ 18079:\\section{Modeling}\\label{sec:model}\n"
     ]
    },
    {
     "name": "stdout",
     "output_type": "stream",
     "text": [
      "✔ → 18079:\\section{Modeling}\\label{sec:model}\n",
      "  ↳ 27593:\\section{Identification results}\\label{sec:results}\n",
      "✔ → 27593:\\section{Identification results}\\label{sec:results}\n",
      "  ↳ 31652:\\section{Conclusion}\\label{sec:conclusion}\n"
     ]
    },
    {
     "name": "stdout",
     "output_type": "stream",
     "text": [
      "✔ → 31652:\\section{Conclusion}\\label{sec:conclusion}\n",
      "  ↳ 34567:end\n",
      "Retrieving document from  https://arxiv.org/e-print/2509.12978\n"
     ]
    },
    {
     "name": "stderr",
     "output_type": "stream",
     "text": [
      "/tmp/ipykernel_3379/2822249172.py:52: LatexWarning: 2509.12775 did not run properly\n",
      "list index out of range\n",
      "  warnings.warn(latex.LatexWarning(f\"{paper_id:s} did not run properly\\n\" +\n"
     ]
    },
    {
     "name": "stdout",
     "output_type": "stream",
     "text": [
      "extracting tarball to tmp_2509.12978..."
     ]
    },
    {
     "name": "stdout",
     "output_type": "stream",
     "text": [
      " done.\n",
      "Retrieving document from  https://arxiv.org/e-print/2509.13122\n"
     ]
    },
    {
     "name": "stdout",
     "output_type": "stream",
     "text": [
      "extracting tarball to tmp_2509.13122..."
     ]
    },
    {
     "name": "stdout",
     "output_type": "stream",
     "text": [
      " done.\n"
     ]
    },
    {
     "name": "stdout",
     "output_type": "stream",
     "text": [
      "M. Benisty  ->  M. Benisty  |  ['M. Benisty']\n",
      "Retrieving document from  https://arxiv.org/e-print/2509.13163\n"
     ]
    },
    {
     "name": "stderr",
     "output_type": "stream",
     "text": [
      "/tmp/ipykernel_3379/2822249172.py:52: LatexWarning: 2509.13122 did not run properly\n",
      "bad escape \\e at position 32\n",
      "  warnings.warn(latex.LatexWarning(f\"{paper_id:s} did not run properly\\n\" +\n"
     ]
    },
    {
     "name": "stdout",
     "output_type": "stream",
     "text": [
      "extracting tarball to tmp_2509.13163..."
     ]
    },
    {
     "name": "stdout",
     "output_type": "stream",
     "text": [
      " done.\n"
     ]
    },
    {
     "name": "stdout",
     "output_type": "stream",
     "text": [
      "Found 78 bibliographic references in tmp_2509.13163/main.bbl.\n",
      "Issues with the citations\n",
      "syntax error in line 242: '=' expected\n"
     ]
    }
   ],
   "source": [
    "documents = []\n",
    "failed = []\n",
    "for paper in tqdm(candidates):\n",
    "    # debug crap\n",
    "    paper['identifier'] = paper['identifier'].lower().replace('arxiv:', '').replace(r'\\n', '').strip()\n",
    "    paper_id = paper['identifier']\n",
    "    \n",
    "    folder = f'tmp_{paper_id}'\n",
    "\n",
    "    try:\n",
    "        if not os.path.isdir(folder):\n",
    "            folder = retrieve_document_source(f\"{paper_id}\", f'tmp_{paper_id}')\n",
    "        \n",
    "        try:\n",
    "            doc = latex.LatexDocument(folder, validation=validation)    \n",
    "        except AffiliationError as affilerror:\n",
    "            msg = f\"ArXiv:{paper_id:s} is not an MPIA paper... \" + str(affilerror)\n",
    "            failed.append((paper, \"affiliation error: \" + str(affilerror) ))\n",
    "            continue\n",
    "        \n",
    "        # Hack because sometimes author parsing does not work well\n",
    "        if (len(doc.authors) != len(paper['authors'])):\n",
    "            doc._authors = paper['authors']\n",
    "        else:\n",
    "            # highlight authors (FIXME: doc.highlight_authors)\n",
    "            # done on arxiv paper already\n",
    "            doc._authors = highlight_authors_in_list(\n",
    "                [get_initials(k) for k in doc.authors], \n",
    "                mpia_authors, verbose=True)\n",
    "        if (doc.abstract) in (None, ''):\n",
    "            doc._abstract = paper['abstract']\n",
    "            \n",
    "        doc.comment = (get_markdown_badge(paper_id) + \n",
    "                       \"<mark>Appeared on: \" + paper['date'] + \"</mark> - \")\n",
    "        if paper['comments']:\n",
    "            doc.comment += \" _\" + paper['comments'] + \"_\"\n",
    "        \n",
    "        full_md = doc.generate_markdown_text()\n",
    "        \n",
    "        full_md += get_markdown_qrcode(paper_id)\n",
    "        \n",
    "        # replace citations\n",
    "        try:\n",
    "            bibdata = latex_bib.LatexBib.from_doc(doc)\n",
    "            full_md = latex_bib.replace_citations(full_md, bibdata)\n",
    "        except Exception as e:\n",
    "            print(\"Issues with the citations\")\n",
    "            print(e)\n",
    "        \n",
    "        documents.append((paper_id, full_md))\n",
    "    except Exception as e:\n",
    "        warnings.warn(latex.LatexWarning(f\"{paper_id:s} did not run properly\\n\" +\n",
    "                                         str(e)\n",
    "                                        ))\n",
    "        failed.append((paper, \"latex error \" + str(e)))"
   ]
  },
  {
   "cell_type": "markdown",
   "id": "2505a25c",
   "metadata": {
    "papermill": {
     "duration": 0.005069,
     "end_time": "2025-09-17T04:17:37.016717",
     "exception": false,
     "start_time": "2025-09-17T04:17:37.011648",
     "status": "completed"
    },
    "tags": []
   },
   "source": [
    "### Export the logs\n",
    "\n",
    "Throughout, we also keep track of the logs per paper. see `logs-{today date}.md` "
   ]
  },
  {
   "cell_type": "code",
   "execution_count": 6,
   "id": "d733828a",
   "metadata": {
    "execution": {
     "iopub.execute_input": "2025-09-17T04:17:37.028019Z",
     "iopub.status.busy": "2025-09-17T04:17:37.027704Z",
     "iopub.status.idle": "2025-09-17T04:17:37.050641Z",
     "shell.execute_reply": "2025-09-17T04:17:37.049947Z"
    },
    "papermill": {
     "duration": 0.029926,
     "end_time": "2025-09-17T04:17:37.051671",
     "exception": false,
     "start_time": "2025-09-17T04:17:37.021745",
     "status": "completed"
    },
    "scrolled": false,
    "tags": []
   },
   "outputs": [
    {
     "data": {
      "text/markdown": [
       "## Successful papers"
      ],
      "text/plain": [
       "<IPython.core.display.Markdown object>"
      ]
     },
     "metadata": {},
     "output_type": "display_data"
    },
    {
     "data": {
      "text/markdown": [
       "\n",
       "|||\n",
       "|---:|:---|\n",
       "| [![arXiv](https://img.shields.io/badge/arXiv-2509.12316-b31b1b.svg)](https://arxiv.org/abs/2509.12316) | **Building up JWST-SUSPENSE: inside-out quenching at cosmic noon from age, Fe-, and Mg-abundance gradients**  |\n",
       "|| C. M. Cheng, et al. -- incl., <mark>A. d. Graaff</mark> |\n",
       "|*Appeared on*| *2025-09-17*|\n",
       "|*Comments*| *13 pages, 6 figures (excluding appendices); submitted to A&A*|\n",
       "|**Abstract**|            Spatially resolved stellar populations of massive, quiescent galaxies at cosmic noon provide powerful insights into star-formation quenching and stellar mass assembly mechanisms. Previous photometric work has revealed that the cores of these galaxies are redder than their outskirts. However, spectroscopy is needed to break the age-metallicity degeneracy and uncover the driver of these colour gradients. Here, we derive age and elemental abundance gradients for 8 distant ($1.2 \\lesssim z \\lesssim 2.2$), massive ($10.3\\lesssim\\log({\\rm M}_*/{\\rm M}_\\odot)\\lesssim 11.1$), quiescent galaxies, by fitting full-spectrum models to ultra-deep NIRSpec-MSA spectroscopy from the JWST-SUSPENSE survey. We find that these galaxies have negative age, positive [Mg/H] and [Mg/Fe], and flat [Fe/H] gradients, implying that galaxy cores are older and Mg-deficient compared to galaxy outskirts. The age gradients indicate inside-out quenching, while the Mg-deficient cores suggest rapid gas expulsion as the central quenching mechanism. Thus, galaxy cores formed faster and quenched more efficiently than their outskirts. In this scenario, however, our [Fe/H] and [Mg/Fe] gradients are still puzzling. Our results contrast lower-redshift studies, which find flat age and [Mg/Fe] gradients and negative metallicity gradients. Additionally, we find a positive trend between age gradients and rotational support, and marginal trends between gradients and galaxy velocity dispersions and ages. We discuss our findings in the context of galaxy growth scenarios, including minor mergers and progenitor bias, and the possible occurrence of different quenching mechanisms across redshift. With this work, we present the first stellar population gradients from NIRSpec-MSA spectroscopy, in the largest current sample of distant, quiescent galaxies.         |"
      ],
      "text/plain": [
       "[2509.12316] Building up JWST-SUSPENSE: inside-out quenching at cosmic noon from age, Fe-, and Mg-abundance gradients\n",
       "\tC. M. Cheng, et al. -- incl., <mark>A. d. Graaff</mark>"
      ]
     },
     "metadata": {},
     "output_type": "display_data"
    },
    {
     "data": {
      "text/markdown": [
       "\n",
       "|||\n",
       "|---:|:---|\n",
       "| [![arXiv](https://img.shields.io/badge/arXiv-2509.12479-b31b1b.svg)](https://arxiv.org/abs/2509.12479) | **BOWIE-ALIGN: Weak spectral features in KELT-7b's JWST NIRSpec/G395H transmission spectrum imply a high cloud deck or a low-metallicity atmosphere**  |\n",
       "|| <mark>E.-M. Ahrer</mark>, et al. -- incl., <mark>P. Mollière</mark> |\n",
       "|*Appeared on*| *2025-09-17*|\n",
       "|*Comments*| *22 pages, 16 main figures, 7 tables, accepted for publication in MNRAS*|\n",
       "|**Abstract**|            Hot Jupiters and their atmospheres are prime targets for transmission spectroscopy due to their extended atmospheres and the corresponding large signal-to-noise, providing the best possible constraints for the atmospheric carbon-to-oxygen (C/O) ratio and metallicity of exoplanets. Within BOWIE-ALIGN, we aim to compare JWST spectra of a sample of orbitally aligned and misaligned hot Jupiters orbiting F-type stars to probe the link between hot Jupiter atmospheres and planet formation history. Here, we present a near-infrared transmission spectrum of the aligned planet KELT-7b using one transit observed with JWST NIRSpec/G395H. We find weak features, only tentative evidence for H$_2$O and CO$_2$ in the atmosphere of KELT-7b. This poses a challenge to constrain the atmospheric properties of KELT-7b and two possible scenarios emerge from equilibrium chemistry and free chemistry retrievals: a high-altitude cloud deck muting all features or an extremely low metallicity atmosphere, respectively. The retrieved C/O ratios from our data reductions range from $0.43 - 0.74$, while the atmospheric metallicity is suggested to be solar to super-solar ($1-16 \\times$ solar). Although these wide constraints prevent detailed conclusions about KELT-7b's formation history, a solar-to-super-solar metallicity would imply the accretion of solid material during its formation, which is valuable information for the survey's wider goals of understanding the relative importance of gaseous to solid accretion.         |"
      ],
      "text/plain": [
       "[2509.12479] BOWIE-ALIGN: Weak spectral features in KELT-7b's JWST NIRSpec/G395H transmission spectrum imply a high cloud deck or a low-metallicity atmosphere\n",
       "\t<mark>E.-M. Ahrer</mark>, et al. -- incl., <mark>P. Mollière</mark>"
      ]
     },
     "metadata": {},
     "output_type": "display_data"
    },
    {
     "data": {
      "text/markdown": [
       "\n",
       "|||\n",
       "|---:|:---|\n",
       "| [![arXiv](https://img.shields.io/badge/arXiv-2509.12488-b31b1b.svg)](https://arxiv.org/abs/2509.12488) | **A high fraction of close massive binary stars at low metallicity**  |\n",
       "|| H. Sana, et al. -- incl., <mark>S. Shahaf</mark> |\n",
       "|*Appeared on*| *2025-09-17*|\n",
       "|*Comments*| *32 pages, 12 figures*|\n",
       "|**Abstract**|            At high metallicity, a majority of massive stars have at least one close stellar companion. The evolution of such binaries is subject to strong interaction processes, heavily impacting the characteristics of their life-ending supernova and compact remnants. For the low-metallicity environments of high-redshift galaxies constraints on the multiplicity properties of massive stars over the separation range leading to binary interaction are crucially missing. Here we show that the presence of massive stars in close binaries is ubiquitous, even at low metallicity. Using the Very Large Telescope, we obtained multi-epoch radial velocity measurements of a representative sample of 139 massive O-type stars across the Small Magellanic Cloud, which has a metal content of about one fifth of the solar value. We find that 45% of them show radial velocity variations which demonstrate that they are members of close binary systems, and predominantly have orbital periods shorter than one year. Correcting for observational biases indicates that at least 70[+11:-6]% of the O stars in our sample are in close binaries, and that at least 68[+7:-8]% of all O stars interact with a companion star during their lifetime. We found no evidence supporting a statistically significant trend of the multiplicity properties with metallicity. Our results indicate that multiplicity and binary interactions govern the evolution of massive stars and determine their cosmic feedback and explosive fates.         |"
      ],
      "text/plain": [
       "[2509.12488] A high fraction of close massive binary stars at low metallicity\n",
       "\tH. Sana, et al. -- incl., <mark>S. Shahaf</mark>"
      ]
     },
     "metadata": {},
     "output_type": "display_data"
    },
    {
     "data": {
      "text/markdown": [
       "\n",
       "|||\n",
       "|---:|:---|\n",
       "| [![arXiv](https://img.shields.io/badge/arXiv-2509.13163-b31b1b.svg)](https://arxiv.org/abs/2509.13163) | **Euclid preparation. Using mock Low Surface Brightness dwarf galaxies to probe Wide Survey detection capabilities**  |\n",
       "|| E. Collaboration, et al. -- incl., <mark>K. Jahnke</mark> |\n",
       "|*Appeared on*| *2025-09-17*|\n",
       "|*Comments*| *21 pages, 18 figures, 7 tables*|\n",
       "|**Abstract**|            Local Universe dwarf galaxies are both cosmological and mass assembly probes. Deep surveys have enabled the study of these objects down to the low surface brightness (LSB) regime. In this paper, we estimate Euclid's dwarf detection capabilities as well as limits of its MERge processing function (MER pipeline), responsible for producing the stacked mosaics and final catalogues. To do this, we inject mock dwarf galaxies in a real Euclid Wide Survey (EWS) field in the VIS band and compare the input catalogue to the final MER catalogue. The mock dwarf galaxies are generated with simple Sérsic models and structural parameters extracted from observed dwarf galaxy property catalogues. To characterize the detected dwarfs, we use the mean surface brightness inside the effective radius SBe (in mag arcsec-2). The final MER catalogues achieve completenesses of 91 % for SBe in [21, 24], and 54 % for SBe in [24, 28]. These numbers do not take into account possible contaminants, including confusion with background galaxies at the location of the dwarfs. After taking into account those effects, they become respectively 86 % and 38 %. The MER pipeline performs a final local background subtraction with small mesh size, leading to a flux loss for galaxies with Re > 10\". By using the final MER mosaics and reinjecting this local background, we obtain an image in which we recover reliable photometric properties for objects under the arcminute scale. This background-reinjected product is thus suitable for the study of Local Universe dwarf galaxies. Euclid's data reduction pipeline serves as a test bed for other deep surveys, particularly regarding background subtraction methods, a key issue in LSB science.         |"
      ],
      "text/plain": [
       "[2509.13163] Euclid preparation. Using mock Low Surface Brightness dwarf galaxies to probe Wide Survey detection capabilities\n",
       "\tE. Collaboration, et al. -- incl., <mark>K. Jahnke</mark>"
      ]
     },
     "metadata": {},
     "output_type": "display_data"
    },
    {
     "data": {
      "text/markdown": [
       "## Failed papers"
      ],
      "text/plain": [
       "<IPython.core.display.Markdown object>"
      ]
     },
     "metadata": {},
     "output_type": "display_data"
    },
    {
     "data": {
      "text/markdown": [
       "\n",
       "|||\n",
       "|---:|:---|\n",
       "| [![arXiv](https://img.shields.io/badge/arXiv-2509.12343-b31b1b.svg)](https://arxiv.org/abs/2509.12343) | **SN 2024aecx: Double-Peaked Light Curves and Rapid Evolution in a Nearby Type IIb Supernova**  |\n",
       "|| Q. Xi, et al. -- incl., <mark>Y. Wang</mark> |\n",
       "|*Appeared on*| *2025-09-17*|\n",
       "|*Comments*| *18 pages, 13 figures*|\n",
       "|**Abstract**|            SN 2024aecx is a nearby ($\\sim$11 Mpc) Type IIb SN discovered within $\\sim$1 d after explosion. In this paper we report high-cadence photometric and spectroscopic follow-up observations, conducted from as early as 0.27 d post discovery out to the nebular phase at 158.4 d. We analyze the environment of SN 2024aecx and derive a new distance, metallicity and host extinction. The light curve exhibits a hot and luminous shock-cooling peak at the first few days, followed by a main peak with very rapid post-maximum decline. The earliest spectra are blue and featureless, while from 2.3 d after discovery prominent P-Cygni profiles emerge. At nebular phase, the emission lines exhibit asymmetric and double-peaked profiles, indicating asphericity and/or early dust formation in the ejecta. We simulated the progenitor and explosion using a two-component model of shock cooling and radioactive $^{56}$Ni heating; our model favors an extended, low-mass H-rich envelope with$ M_{\\mathrm{e}} = 0.08^{+0.02}_{-0.03}\\, M_{\\odot} $ and a low ejecta mass of $ M_{\\mathrm{ej}} = 2.65^{+1.21}_{-0.73} \\, M_{\\odot}. $The comprehensive monitoring of SN 2024aecx, coupled with the detailed characterization of its local environment, establishes it as a benchmark event for probing the progenitors and explosion mechanisms of Type IIb SNe.         |\n",
       "|<p style=\"color:green\"> **ERROR** </p>| <p style=\"color:green\">affiliation error: mpia.affiliation_verifications: 'Heidelberg' keyword not found.</p> |"
      ],
      "text/plain": [
       "<IPython.core.display.Markdown object>"
      ]
     },
     "metadata": {},
     "output_type": "display_data"
    },
    {
     "data": {
      "text/markdown": [
       "\n",
       "|||\n",
       "|---:|:---|\n",
       "| [![arXiv](https://img.shields.io/badge/arXiv-2509.12978-b31b1b.svg)](https://arxiv.org/abs/2509.12978) | **Magnetic Reconnection as a Potential Driver of X-ray Variability in Active Galactic Nuclei**  |\n",
       "|| C.-R. Hu, et al. -- incl., <mark>F. Xu</mark> |\n",
       "|*Appeared on*| *2025-09-17*|\n",
       "|*Comments*| *ApJ in press, 17 pages, 5 figures; DOI: https://doi.org/10.3847/1538-4357/adfed2*|\n",
       "|**Abstract**|            We present a systematic analysis on the X-ray variability in 13 bright quasars at z > 4.5, combining recent Swift observations from 2021 to 2023 and archival multi-epoch observations. Upper limits of the luminosity measurements were included in the analysis by using the Kaplan-Meier estimator method. It is found that the high-z quasars exhibit X-ray variability on both short-term (hours-to-days) and intermediate-term (weeks-to-months) timescales, with short-term variability dominating the overall variation. A linear correlation exists between the global mean ($\\mu_{\\mathrm{L_{2-10\\,keV}}}$) and standard deviation ($\\sigma_{\\mathrm{L_{2-10\\,keV}}}$) of X-ray luminosities, which is independent of the X-ray photon index and optical-to-X-ray spectral slope. The localized stochastic magnetic reconnection mechanism is strongly favored, which can naturally lead to a scale-invariant power-law energy distribution and satisfactorily explain the correlation. The $\\sigma$-$\\mu$ correlation parallels with the well-documented rms-flux relation of low-z active galactic nuclei (AGNs), implying the magnetic reconnection mechanism could drive short-timescale X-ray variability in both high- and low-z AGNs. The highest-z quasar in our sample, J142952+544717 (z = 6.18), shows a luminosity distribution extending to ${10}^{47}\\ \\rm{erg\\ {s}^{-1}}$ with a not conspicuous median luminosity. On the other hand, J143023+420436 (z = 4.7), which hosts the most relativistic jet among known high-z blazars, is dominated in the high-luminosity regime (${10}^{47}\\ \\rm{erg\\ {s}^{-1}}$ ), making it an ideal target for multi-wavelength follow-up observations. J090630+693030 is found to have a rest-frame period of 182.46 days and J143023+420436 has a period of 16.89 days, both could be explained by the global evolution of plasmoid chains, in which magnetic islands formed during reconnection may merge successively.         |\n",
       "|<p style=\"color:green\"> **ERROR** </p>| <p style=\"color:green\">affiliation error: mpia.affiliation_verifications: 'Heidelberg' keyword not found.</p> |"
      ],
      "text/plain": [
       "<IPython.core.display.Markdown object>"
      ]
     },
     "metadata": {},
     "output_type": "display_data"
    },
    {
     "data": {
      "text/markdown": [
       "\n",
       "|||\n",
       "|---:|:---|\n",
       "| [![arXiv](https://img.shields.io/badge/arXiv-2509.13122-b31b1b.svg)](https://arxiv.org/abs/2509.13122) | **Puffed-up Inner Rings and Razor-thin Outer Rings in Structured Protoplanetary Disks**  |\n",
       "|| <mark>H. Jiang</mark>, et al. -- incl., <mark>M. Benisty</mark>, <mark>K. Doi</mark> |\n",
       "|*Appeared on*| *2025-09-17*|\n",
       "|*Comments*| *11 pages, 4 figures, 3 tables in the main text, a summary plot can be found in Fig. 4, Accepted for publication in ApJ*|\n",
       "|**Abstract**|            The vertical distribution of pebbles in protoplanetary disks is a fundamental property influencing planet formation, from dust aggregation to the assembly of planetary cores. In the outer region of protoplanetary disks, the intensity of the optically thin but geometrically thick dust ring decreases along the minor axis due to reduced line-of-sight optical depth. Multi-ring disks thus provide an excellent opportunity to study the radial variation of the vertical properties of dust. We investigate the vertical dust distribution in 6 protoplanetary disks with resolved double rings, using high-resolution ALMA Band 6 continuum observations. By modeling the azimuthal intensity variations in these rings, we constrain the dust scale heights for each ring. Our results reveal a dichotomy: inner rings exhibit puffed-up dust layers with heights comparable to the gas scale height, while outer rings are significantly more settled, with dust scale heights less than 20\\% of the gas scale height. This suggests a radial dependence in dust settling efficiency within the disks, potentially driven by localized planetary interactions or the global radial dependence of the Vertical Shear Instability (VSI). We discuss the implications of these findings for dust trapping, planet formation, and protoplanetary disk evolution. Our work highlights the importance of vertical dust distribution in understanding the early stages of planet formation and suggests that outer ($>80$~au), settled rings are preferred sites for planet formation over inner ($<80$~au), turbulent rings.         |\n",
       "|<p style=\"color:red\"> **ERROR** </p>| <p style=\"color:red\">latex error bad escape \\e at position 32</p> |"
      ],
      "text/plain": [
       "<IPython.core.display.Markdown object>"
      ]
     },
     "metadata": {},
     "output_type": "display_data"
    },
    {
     "data": {
      "text/markdown": [
       "\n",
       "|||\n",
       "|---:|:---|\n",
       "| [![arXiv](https://img.shields.io/badge/arXiv-2509.12767-b31b1b.svg)](https://arxiv.org/abs/2509.12767) | **Simulation of Wavefront-based Disturbance Observers for Large Telescopes**  |\n",
       "|| P. Jaufmann, et al. -- incl., <mark>J.-U. Pott</mark> |\n",
       "|*Appeared on*| *2025-09-17*|\n",
       "|*Comments*| *14 pages, 6 figures, SPIE Astronomical Telescopes + Instrumentation 2024 (Yokohama, Japan), Adaptive Optics Systems IX*|\n",
       "|**Abstract**|            The performance of future observatories such as the Extremely Large Telescope is mainly limited by atmospheric turbulence and structural vibrations of the optical assembly. To further enhance the mitigation performance of adaptive optics, real-time information about the disturbances acting on the control loop is needed. Current systems therefore employ a combination of wavefront sensor- and accelerometer-based filters. In this work, methods using only data from natural- and laser guide star (NGS, LGS) measurements are presented, as telescopes like the Very Large Telescope already have multiple fast and high-resolution wavefront sensors installed. This approach also avoids the costly installation and operation of additional accelerometers on the optical elements. We introduce two innovative disturbance observer schemes to sense both turbulence and vibration information. A multi-rate estimator for atmospheric influences is based on Kalman filter theory and can incorporate NGS and LGS signals at different loop rates. The estimator for structural perturbations uses Gaussian process regression and can be implemented in an offline and online configuration. We validate the filter designs with data from a realistic end-to-end adaptive optics model with randomly generated turbulence and vibrations. The simulation is fed with on-sky data from the Adaptive Optics Facility of the Very Large Telescope. The presented disturbance observer schemes demonstrate promising results and may be considered as potential alternatives or extensions to existing techniques such as linear-quadratic controllers with Kalman filtering (LQG).         |\n",
       "|<p style=\"color:red\"> **ERROR** </p>| <p style=\"color:red\">latex error list index out of range</p> |"
      ],
      "text/plain": [
       "<IPython.core.display.Markdown object>"
      ]
     },
     "metadata": {},
     "output_type": "display_data"
    },
    {
     "data": {
      "text/markdown": [
       "\n",
       "|||\n",
       "|---:|:---|\n",
       "| [![arXiv](https://img.shields.io/badge/arXiv-2509.12775-b31b1b.svg)](https://arxiv.org/abs/2509.12775) | **Modal Identification of Mirror Vibrations at the VLT using Accelerometer Data**  |\n",
       "|| P. Jaufmann, A. Buck, <mark>J.-U. Pott</mark>, O. Sawodny |\n",
       "|*Appeared on*| *2025-09-17*|\n",
       "|*Comments*| *6 pages, 7 figures, IEEE International Conference on Automation Science and Engineering (CASE), Los Angeles, USA*|\n",
       "|**Abstract**|            Recent advances in ground-based astronomy have made it possible to create optical telescopes with primary mirrors up to 40 m in size. With growing mirror diameter, the suppression of non-atmospheric disturbances becomes increasingly important. Precise knowledge of the movement of telescope mirrors is essential for understanding and compensating for vibration-based perturbations. A model from VLT accelerometer data for each individual mirror is developed, while the influence of wind buffeting is accounted for by a von Karman wind model. To describe the relevant rigid body motion, we consider the piston, tip and tilt modes of the mirrors. The identification is validated by comparing the power spectral density of the measured and identified modes. Additionally, we assess the robustness of the approach by calculating the identification error over different sections of the data. The study indicates that the employed methods are adequate for the identification of modal telescope vibrations. It is anticipated that said findings will serve as a significant foundation for the development of advanced model-based AO controllers for large telescopes, such as linear quadratic Gaussian control.         |\n",
       "|<p style=\"color:red\"> **ERROR** </p>| <p style=\"color:red\">latex error list index out of range</p> |"
      ],
      "text/plain": [
       "<IPython.core.display.Markdown object>"
      ]
     },
     "metadata": {},
     "output_type": "display_data"
    },
    {
     "data": {
      "text/markdown": [
       "\n",
       "|||\n",
       "|---:|:---|\n",
       "| [![arXiv](https://img.shields.io/badge/arXiv-2509.12551-b31b1b.svg)](https://arxiv.org/abs/2509.12551) | **Who Uses Whose Telescopes? Analyzing the Knowledge Geography and Research Dominance of Global Astronomical Facilities**  |\n",
       "|| Y. Chen, et al. -- incl., <mark>Y. Wang</mark> |\n",
       "|*Appeared on*| *2025-09-17*|\n",
       "|*Comments*| *45 pages, 12 figures*|\n",
       "|**Abstract**|            Large-scale research infrastructures (LSRIs) are central to contemporary science policy, combining massive capital investments with international access regimes. Yet whether open access to these infrastructures translates into more equitable scientific authority remains contested. Astronomy provides a critical case: world-leading observatories are globally shared but embedded in specific national contexts. We compile a novel country--year dataset (1955--2025) linking the location of astronomical facilities with publication usage and authorship roles. This enables us to distinguish between hosting, using, and leading in telescope-based research. Our analysis reveals: (i) usage and impact are heavily concentrated in a small number of facility hubs; (ii) scientific leadership is even more unequal than access or usage (Gini coefficient 0.91 for first/corresponding authorship versus 0.85 for facilities and usage); (iii) hosting and leadership often decouple--countries such as Chile and South Africa mediate large publication volumes without commensurate gains in leading roles; and (iv) global leadership has shifted from U.S. dominance to a multi-hub system centered in the United States, Western Europe, China, Japan, and Australia. These findings challenge the assumption that international access alone democratizes science. We argue that converting participation into leadership requires domestic PI programs, investments in instrumentation and data pipelines, and governance models that distribute credit more equitably. The study highlights how the governance of LSRIs shapes global scientific hierarchies and offers design principles for infrastructures that seek not only to share data but also to broaden scientific authority.         |\n",
       "|<p style=\"color:red\"> **ERROR** </p>| <p style=\"color:red\">latex error not a gzip file</p> |"
      ],
      "text/plain": [
       "<IPython.core.display.Markdown object>"
      ]
     },
     "metadata": {},
     "output_type": "display_data"
    }
   ],
   "source": [
    "import datetime\n",
    "today = str(datetime.date.today())\n",
    "logfile = f\"_build/html/logs/log-{today}.md\"\n",
    "\n",
    "\n",
    "with open(logfile, 'w') as logs:\n",
    "    # Success\n",
    "    logs.write(f'# Arxiv on Deck 2: Logs - {today}\\n\\n')\n",
    "    logs.write(\"\"\"* Arxiv had {0:,d} new papers\\n\"\"\".format(len(new_papers)))\n",
    "    logs.write(\"\"\"    * {0:,d} with possible author matches\\n\\n\"\"\".format(len(candidates)))\n",
    "    logs.write(\"## Sucessful papers\\n\\n\")\n",
    "    display(Markdown(\"## Successful papers\"))\n",
    "    success = [k[0] for k in documents]\n",
    "    for candid in candidates:\n",
    "        if candid['identifier'].split(':')[-1] in success:\n",
    "            display(candid)\n",
    "            logs.write(candid.generate_markdown_text() + '\\n\\n')\n",
    "\n",
    "    ## failed\n",
    "    logs.write(\"## Failed papers\\n\\n\")\n",
    "    display(Markdown(\"## Failed papers\"))\n",
    "    failed = sorted(failed, key=lambda x: x[1])\n",
    "    current_reason = \"\"\n",
    "    for paper, reason in failed:\n",
    "        if 'affiliation' in reason:\n",
    "            color = 'green'\n",
    "        else:\n",
    "            color = 'red'\n",
    "        data = Markdown(\n",
    "                paper.generate_markdown_text() + \n",
    "                f'\\n|<p style=\"color:{color:s}\"> **ERROR** </p>| <p style=\"color:{color:s}\">{reason:s}</p> |'\n",
    "               )\n",
    "        if reason != current_reason:\n",
    "            logs.write(f'### {reason:s} \\n\\n')\n",
    "            current_reason = reason\n",
    "        logs.write(data.data + '\\n\\n')\n",
    "        \n",
    "        # only display here the important errors (all in logs)\n",
    "        # if color in ('red',):\n",
    "        display(data)"
   ]
  },
  {
   "cell_type": "markdown",
   "id": "472d20ee",
   "metadata": {
    "papermill": {
     "duration": 0.006013,
     "end_time": "2025-09-17T04:17:37.064573",
     "exception": false,
     "start_time": "2025-09-17T04:17:37.058560",
     "status": "completed"
    },
    "tags": []
   },
   "source": [
    "## Export documents\n",
    "\n",
    "We now write the .md files and export relevant images"
   ]
  },
  {
   "cell_type": "code",
   "execution_count": 7,
   "id": "d426aed9",
   "metadata": {
    "execution": {
     "iopub.execute_input": "2025-09-17T04:17:37.077982Z",
     "iopub.status.busy": "2025-09-17T04:17:37.077681Z",
     "iopub.status.idle": "2025-09-17T04:17:37.085047Z",
     "shell.execute_reply": "2025-09-17T04:17:37.084352Z"
    },
    "papermill": {
     "duration": 0.015428,
     "end_time": "2025-09-17T04:17:37.086092",
     "exception": false,
     "start_time": "2025-09-17T04:17:37.070664",
     "status": "completed"
    },
    "tags": []
   },
   "outputs": [],
   "source": [
    "def export_markdown_summary(md: str, md_fname:str, directory: str):\n",
    "    \"\"\"Export MD document and associated relevant images\"\"\"\n",
    "    import os\n",
    "    import shutil\n",
    "    import re\n",
    "\n",
    "    if (os.path.exists(directory) and not os.path.isdir(directory)):\n",
    "        raise RuntimeError(f\"a non-directory file exists with name {directory:s}\")\n",
    "\n",
    "    if (not os.path.exists(directory)):\n",
    "        print(f\"creating directory {directory:s}\")\n",
    "        os.mkdir(directory)\n",
    "\n",
    "    fig_fnames = (re.compile(r'\\[Fig.*\\]\\((.*)\\)').findall(md) + \n",
    "                  re.compile(r'\\<img src=\"([^>\\s]*)\"[^>]*/>').findall(md))\n",
    "    print(\"found figures\", fig_fnames)\n",
    "    for fname in fig_fnames:\n",
    "        if 'http' in fname:\n",
    "            # No need to copy online figures\n",
    "            continue\n",
    "        if not os.path.exists(fname):\n",
    "            print(\"file not found\", fname)\n",
    "            continue\n",
    "        print(\"copying \", fname, \"to\", directory)\n",
    "        destdir = os.path.join(directory, os.path.dirname(fname))\n",
    "        destfname = os.path.join(destdir, os.path.basename(fname))\n",
    "        try:\n",
    "            os.makedirs(destdir)\n",
    "        except FileExistsError:\n",
    "            pass\n",
    "        shutil.copy(fname, destfname)\n",
    "    with open(os.path.join(directory, md_fname), 'w') as fout:\n",
    "        fout.write(md)\n",
    "    print(\"exported in \", os.path.join(directory, md_fname))\n",
    "    [print(\"    + \" + os.path.join(directory,fk)) for fk in fig_fnames]"
   ]
  },
  {
   "cell_type": "code",
   "execution_count": 8,
   "id": "014d04a4",
   "metadata": {
    "execution": {
     "iopub.execute_input": "2025-09-17T04:17:37.099608Z",
     "iopub.status.busy": "2025-09-17T04:17:37.099368Z",
     "iopub.status.idle": "2025-09-17T04:17:37.113729Z",
     "shell.execute_reply": "2025-09-17T04:17:37.113151Z"
    },
    "papermill": {
     "duration": 0.022276,
     "end_time": "2025-09-17T04:17:37.114781",
     "exception": false,
     "start_time": "2025-09-17T04:17:37.092505",
     "status": "completed"
    },
    "tags": []
   },
   "outputs": [
    {
     "name": "stdout",
     "output_type": "stream",
     "text": [
      "found figures ['tmp_2509.12316/./figures/grads_vs_params.png', 'tmp_2509.12316/./figures/params_vs_radius.png', 'tmp_2509.12316/./figures/image_cutout_overview.png']\n",
      "copying  tmp_2509.12316/./figures/grads_vs_params.png to _build/html/\n",
      "copying  tmp_2509.12316/./figures/params_vs_radius.png to _build/html/\n",
      "copying  tmp_2509.12316/./figures/image_cutout_overview.png to _build/html/\n",
      "exported in  _build/html/2509.12316.md\n",
      "    + _build/html/tmp_2509.12316/./figures/grads_vs_params.png\n",
      "    + _build/html/tmp_2509.12316/./figures/params_vs_radius.png\n",
      "    + _build/html/tmp_2509.12316/./figures/image_cutout_overview.png\n",
      "found figures ['tmp_2509.12479/./figures/all_reductions_lightcurves_with_residuals.png', 'tmp_2509.12479/./figures/POSEIDON_HST_free_chemistry_comparison_Hminus_NIRSpec_only_updated.png', 'tmp_2509.12479/./figures/nemesispy_equilibrium_chemistry_overplot.png']\n",
      "copying  tmp_2509.12479/./figures/all_reductions_lightcurves_with_residuals.png to _build/html/\n",
      "copying  tmp_2509.12479/./figures/POSEIDON_HST_free_chemistry_comparison_Hminus_NIRSpec_only_updated.png to _build/html/\n",
      "copying  tmp_2509.12479/./figures/nemesispy_equilibrium_chemistry_overplot.png to _build/html/\n",
      "exported in  _build/html/2509.12479.md\n",
      "    + _build/html/tmp_2509.12479/./figures/all_reductions_lightcurves_with_residuals.png\n",
      "    + _build/html/tmp_2509.12479/./figures/POSEIDON_HST_free_chemistry_comparison_Hminus_NIRSpec_only_updated.png\n",
      "    + _build/html/tmp_2509.12479/./figures/nemesispy_equilibrium_chemistry_overplot.png\n",
      "found figures ['tmp_2509.12488/./Sana_Fig4.png', 'tmp_2509.12488/./Sana_Fig1.png', 'tmp_2509.12488/./Sana_Fig2.png']\n",
      "copying  tmp_2509.12488/./Sana_Fig4.png to _build/html/\n",
      "copying  tmp_2509.12488/./Sana_Fig1.png to _build/html/\n",
      "copying  tmp_2509.12488/./Sana_Fig2.png to _build/html/\n",
      "exported in  _build/html/2509.12488.md\n",
      "    + _build/html/tmp_2509.12488/./Sana_Fig4.png\n",
      "    + _build/html/tmp_2509.12488/./Sana_Fig1.png\n",
      "    + _build/html/tmp_2509.12488/./Sana_Fig2.png\n",
      "found figures ['tmp_2509.13163/./figures/histogram_count_vs_SB_corrected.png', 'tmp_2509.13163/./figures/histogram_count_vs_Re_corrected.png', 'tmp_2509.13163/./figures/combined_non_nucleated.png', 'tmp_2509.13163/./figures/diff_mag_bgsub_combined.png']\n",
      "copying  tmp_2509.13163/./figures/histogram_count_vs_SB_corrected.png to _build/html/\n",
      "copying  tmp_2509.13163/./figures/histogram_count_vs_Re_corrected.png to _build/html/\n",
      "copying  tmp_2509.13163/./figures/combined_non_nucleated.png to _build/html/\n",
      "copying  tmp_2509.13163/./figures/diff_mag_bgsub_combined.png to _build/html/\n",
      "exported in  _build/html/2509.13163.md\n",
      "    + _build/html/tmp_2509.13163/./figures/histogram_count_vs_SB_corrected.png\n",
      "    + _build/html/tmp_2509.13163/./figures/histogram_count_vs_Re_corrected.png\n",
      "    + _build/html/tmp_2509.13163/./figures/combined_non_nucleated.png\n",
      "    + _build/html/tmp_2509.13163/./figures/diff_mag_bgsub_combined.png\n"
     ]
    }
   ],
   "source": [
    "for paper_id, md in documents:\n",
    "    export_markdown_summary(md, f\"{paper_id:s}.md\", '_build/html/')"
   ]
  },
  {
   "cell_type": "markdown",
   "id": "f087a0a7",
   "metadata": {
    "papermill": {
     "duration": 0.006288,
     "end_time": "2025-09-17T04:17:37.127713",
     "exception": false,
     "start_time": "2025-09-17T04:17:37.121425",
     "status": "completed"
    },
    "tags": []
   },
   "source": [
    "## Display the papers\n",
    "\n",
    "Not necessary but allows for a quick check."
   ]
  },
  {
   "cell_type": "code",
   "execution_count": 9,
   "id": "fd25f625",
   "metadata": {
    "execution": {
     "iopub.execute_input": "2025-09-17T04:17:37.141344Z",
     "iopub.status.busy": "2025-09-17T04:17:37.141097Z",
     "iopub.status.idle": "2025-09-17T04:17:37.149437Z",
     "shell.execute_reply": "2025-09-17T04:17:37.148799Z"
    },
    "papermill": {
     "duration": 0.016537,
     "end_time": "2025-09-17T04:17:37.150515",
     "exception": false,
     "start_time": "2025-09-17T04:17:37.133978",
     "status": "completed"
    },
    "scrolled": false,
    "tags": []
   },
   "outputs": [
    {
     "data": {
      "text/markdown": [
       "<div class=\"macros\" style=\"visibility:hidden;\">\n",
       "$\\newcommand{\\ensuremath}{}$\n",
       "$\\newcommand{\\xspace}{}$\n",
       "$\\newcommand{\\object}[1]{\\texttt{#1}}$\n",
       "$\\newcommand{\\farcs}{{.}''}$\n",
       "$\\newcommand{\\farcm}{{.}'}$\n",
       "$\\newcommand{\\arcsec}{''}$\n",
       "$\\newcommand{\\arcmin}{'}$\n",
       "$\\newcommand{\\ion}[2]{#1#2}$\n",
       "$\\newcommand{\\textsc}[1]{\\textrm{#1}}$\n",
       "$\\newcommand{\\hl}[1]{\\textrm{#1}}$\n",
       "$\\newcommand{\\footnote}[1]{}$</div>\n",
       "\n",
       "\n",
       "\n",
       "<div id=\"title\">\n",
       "\n",
       "# Building up _JWST_-SUSPENSE: inside-out quenching at cosmic noon from age, Fe-, and Mg-abundance gradients\n",
       "\n",
       "</div>\n",
       "<div id=\"comments\">\n",
       "\n",
       "[![arXiv](https://img.shields.io/badge/arXiv-2509.12316-b31b1b.svg)](https://arxiv.org/abs/2509.12316)<mark>Appeared on: 2025-09-17</mark> -  _13 pages, 6 figures (excluding appendices); submitted to A&A_\n",
       "\n",
       "</div>\n",
       "<div id=\"authors\">\n",
       "\n",
       "C. M. Cheng, et al. -- incl., <mark>A. d. Graaff</mark>\n",
       "\n",
       "</div>\n",
       "<div id=\"abstract\">\n",
       "\n",
       "**Abstract:** Spatially resolved stellar populations of massive, quiescent galaxies at cosmic noon provide powerful insights into star-formation quenching and stellar mass assembly mechanisms.  Previous photometric work has revealed that the cores of these galaxies are redder than their outskirts.  However, spectroscopy is needed to break the age-metallicity degeneracy and uncover the driver of these colour gradients.  Here, we derive age and elemental abundance gradients for 8 distant ( $1.2 \\lesssim z \\lesssim 2.2$ ), massive ( $10.3\\lesssim\\log({\\rm M}_*/{\\rm M}_\\odot)\\lesssim 11.1$ ), quiescent galaxies, by fitting full-spectrum models to ultra-deep NIRSpec-MSA spectroscopy from the _JWST_ -SUSPENSE survey.  We find that these galaxies have negative age, positive [ Mg/H ] and [ Mg/Fe ] , and flat [ Fe/H ] gradients, implying that galaxy cores are older and Mg-deficient compared to galaxy outskirts.  The age gradients indicate inside-out quenching, while the Mg-deficient cores suggest rapid gas expulsion as the central quenching mechanism.  Thus, galaxy cores formed faster and quenched more efficiently than their outskirts.  In this scenario, however, our [ Fe/H ] and [ Mg/Fe ] gradients are still puzzling.  Our results contrast lower-redshift studies, which find flat age and [ Mg/Fe ] gradients and negative metallicity gradients.  Additionally, we find a positive trend between age gradients and rotational support, and marginal trends between gradients and galaxy velocity dispersions and ages.  We discuss our findings in the context of galaxy growth scenarios, including minor mergers and progenitor bias, and the possible occurrence of different quenching mechanisms across redshift.  With this work, we present the first stellar population gradients from NIRSpec-MSA spectroscopy, in the largest current sample of distant, quiescent galaxies.\n",
       "\n",
       "</div>\n",
       "\n",
       "<div id=\"div_fig1\">\n",
       "\n",
       "<img src=\"tmp_2509.12316/./figures/grads_vs_params.png\" alt=\"Fig5\" width=\"100%\"/>\n",
       "\n",
       "**Figure 5. -** Spatially resolved age and [Fe/H] gradients, normalized by $R_{\\rm e}$(see Section \\ref{sec:radii}), as a function of galaxy parameters.  We show the age gradients in the top row and the [Fe/H] gradients in the bottom row.  The outlying object with a strongly negative age gradient is 127154.  We show the integrated velocity dispersion ($\\sigma$, from our alf$\\alpha$ fits to the integrated spectra) in the left column, the integrated age (from our integrated alf$\\alpha$ fits) in the middle, and $V_{r_{\\rm e}}/\\sigma_0$(measured in \\citealt{Slob_2025}) on the right.  Horizontal dashed lines indicate where flat gradients would lie.  We perform a linear fit to the points in each panel, shown by the solid lines, with $1\\sigma$ bootstrapped uncertainties indicated by the shaded regions. (*fig:grads_vs_params*)\n",
       "\n",
       "</div>\n",
       "<div id=\"div_fig2\">\n",
       "\n",
       "<img src=\"tmp_2509.12316/./figures/params_vs_radius.png\" alt=\"Fig1\" width=\"100%\"/>\n",
       "\n",
       "**Figure 1. -** Spatially-resolved stellar population parameters derived from our alf$\\alpha$ full spectrum fits.  In the left column, we plot our measured parameters as a function of de-projected radius in units of $R_{\\rm e}$(determined as described in Section \\ref{sec:radii}).  In the right column, we plot our measured parameters as a function of de-projected radius in units of kpc.  We show age in the top row, [Fe/H] in the second row, [Mg/Fe] in the third row, and [Mg/H] in the bottom row.  In each panel, we show the measured parameters for each individual galaxy as points connected by lines.  We show the median parameters as stars connected by lines. (*fig:params_vs_radius*)\n",
       "\n",
       "</div>\n",
       "<div id=\"div_fig3\">\n",
       "\n",
       "<img src=\"tmp_2509.12316/./figures/image_cutout_overview.png\" alt=\"Fig2\" width=\"100%\"/>\n",
       "\n",
       "**Figure 2. -** Colour image cutouts of the 8 distant, quiescent galaxies in our sample.  Seven galaxies have NIRCam imaging, which we combine into RGB images here.  Galaxy 130040 does not have NIRCam imaging, so we show a cutout of the COSMOS _HST_/ACS F814W image (\\citealt{COSMOS_ACS_mosaics, Scoville_2007}, note that this image is rotated by 90 degrees compared to the NIRCam images).  We highlight the regions that we combine for the core and outskirt spectra in blue and pink, respectively (see Section \\ref{sec:extraction}).  We also indicate where shutter bars lie within these core and outskirt regions with shaded rectangles.  We indicate $1 R_{\\rm e}$ in convolved space for each galaxy with an ellipse (see Section \\ref{sec:radii}). (*fig:image_cutout_overview*)\n",
       "\n",
       "</div><div id=\"qrcode\"><img src=https://api.qrserver.com/v1/create-qr-code/?size=100x100&data=\"https://arxiv.org/abs/2509.12316\"></div>"
      ],
      "text/plain": [
       "<IPython.core.display.Markdown object>"
      ]
     },
     "metadata": {},
     "output_type": "display_data"
    },
    {
     "data": {
      "text/markdown": [
       "<div class=\"macros\" style=\"visibility:hidden;\">\n",
       "$\\newcommand{\\ensuremath}{}$\n",
       "$\\newcommand{\\xspace}{}$\n",
       "$\\newcommand{\\object}[1]{\\texttt{#1}}$\n",
       "$\\newcommand{\\farcs}{{.}''}$\n",
       "$\\newcommand{\\farcm}{{.}'}$\n",
       "$\\newcommand{\\arcsec}{''}$\n",
       "$\\newcommand{\\arcmin}{'}$\n",
       "$\\newcommand{\\ion}[2]{#1#2}$\n",
       "$\\newcommand{\\textsc}[1]{\\textrm{#1}}$\n",
       "$\\newcommand{\\hl}[1]{\\textrm{#1}}$\n",
       "$\\newcommand{\\footnote}[1]{}$\n",
       "$\\newcommand{\\Rsun}{R_{\\odot}}$\n",
       "$\\newcommand{\\Msun}{M_{\\odot}}$\n",
       "$\\newcommand{\\Rjup}{R_{\\mathrm{J}}}$\n",
       "$\\newcommand{\\Mjup}{M_{\\mathrm{J}}}$\n",
       "$\\newcommand{\\Rp}{R_{\\mathrm{P}}}$\n",
       "$\\newcommand{\\Mp}{M_{\\mathrm{P}}}$\n",
       "$\\newcommand{\\Rs}{R_{\\mathrm{*}}}$\n",
       "$\\newcommand{\\Ms}{R_{\\mathrm{*}}}$\n",
       "$\\newcommand{\\Teq}{T_{\\mathrm{eq}}}$\n",
       "$\\newcommand{\\Teff}{T_{\\mathrm{eff}}}$\n",
       "$\\newcommand{◦ee}{^{\\circ}}$\n",
       "$\\newcommand{\\obliquity}{|\\lambda|}$\n",
       "$\\newcommand{\\mystar}{KELT-7\\xspace}$\n",
       "$\\newcommand{\\myplanet}{KELT-7 b\\xspace}$\n",
       "$\\newcommand{\\eureka}{\\texttt{Eureka!}\\xspace}$\n",
       "$\\newcommand{\\tiberius}{\\texttt{Tiberius}\\xspace}$\n",
       "$\\newcommand{\\exoticjedi}{\\texttt{ExoTiC-JEDI}\\xspace}$\n",
       "$\\newcommand{\\pRT}{\\texttt{pRT}\\xspace}$\n",
       "$\\newcommand{\\poseidon}{\\texttt{POSEIDON}\\xspace}$\n",
       "$\\newcommand{\\nemesispy}{\\texttt{NEMESISPY}\\xspace}$\n",
       "$\\newcommand{\\nemesis}{\\texttt{NEMESIS}\\xspace}$\n",
       "$\\newcommand{\\arraystretch}{1.5}$\n",
       "$\\newcommand{\\arraystretch}{1.2}$\n",
       "$\\newcommand{\\arraystretch}{1.3}$</div>\n",
       "\n",
       "\n",
       "\n",
       "<div id=\"title\">\n",
       "\n",
       "# BOWIE-ALIGN: Weak spectral features in KELT-7b's JWST NIRSpec/G395H transmission spectrum imply a high cloud deck or a low-metallicity atmosphere\n",
       "\n",
       "</div>\n",
       "<div id=\"comments\">\n",
       "\n",
       "[![arXiv](https://img.shields.io/badge/arXiv-2509.12479-b31b1b.svg)](https://arxiv.org/abs/2509.12479)<mark>Appeared on: 2025-09-17</mark> -  _22 pages, 16 main figures, 7 tables, accepted for publication in MNRAS_\n",
       "\n",
       "</div>\n",
       "<div id=\"authors\">\n",
       "\n",
       "<mark>E.-M. Ahrer</mark>, et al. -- incl., <mark>P. Mollière</mark>\n",
       "\n",
       "</div>\n",
       "<div id=\"abstract\">\n",
       "\n",
       "**Abstract:** Hot Jupiters and their atmospheres are prime targets for transmission spectroscopy due to their extended atmospheres and the corresponding large signal-to-noise, providing the best possible constraints for the atmospheric carbon-to-oxygen (C/O) ratio and metallicity of exoplanets.Within BOWIE-ALIGN, we aim to compare JWST spectra of a sample of orbitally aligned and misaligned hot Jupiters orbiting F-type stars to probe the link between hot Jupiter atmospheres and planet formation history.Here, we present a near-infrared transmission spectrum of the aligned planet KELT-7b using one transit observed with JWST NIRSpec/G395H. We find weak features, only tentative evidence for $\\ce{H2O}$ and $\\ce{CO2}$ in the atmosphere of KELT-7b. This poses a challenge to constrain the atmospheric properties of KELT-7b and two possible scenarios emerge from equilibrium chemistry and free chemistry retrievals: a high-altitude cloud deck muting all features or an extremely low metallicity atmosphere, respectively.The retrieved C/O ratios from our data reductions range from $0.43 - 0.74$ , while the atmospheric metallicity is suggested to be solar to super-solar ( $1-16 \\times$ solar). Although these wide constraints prevent detailed conclusions about KELT-7b's formation history, a solar-to-super-solar metallicity would imply the accretion of solid material during its formation, which is valuable information for the survey's wider goals of understanding the relative importance of gaseous to solid accretion.\n",
       "\n",
       "</div>\n",
       "\n",
       "<div id=\"div_fig1\">\n",
       "\n",
       "<img src=\"tmp_2509.12479/./figures/all_reductions_lightcurves_with_residuals.png\" alt=\"Fig8\" width=\"100%\"/>\n",
       "\n",
       "**Figure 8. -** Extracted raw spectroscopic light curves (top row) and corresponding residuals (bottom row) of each reduction (columns; $\\eureka$, $\\exoticjedi$ and $\\tiberius$) of $\\myplanet$ with NIRSpec/G395H at a resolution of R=400. The white area corresponds to the gap between the two detectors (NRS1 and NRS2). (*fig:light-curves-2d*)\n",
       "\n",
       "</div>\n",
       "<div id=\"div_fig2\">\n",
       "\n",
       "<img src=\"tmp_2509.12479/./figures/POSEIDON_HST_free_chemistry_comparison_Hminus_NIRSpec_only_updated.png\" alt=\"Fig11\" width=\"100%\"/>\n",
       "\n",
       "**Figure 11. -** Top: $\\poseidon$ free chemistry retrievals comparison between using only JWST data (orange) and in combination with previously published HST data (pink: excluding \\ce{H-}; purple: including \\ce{H-}). For clarity, we include the WFC/G141 data twice, as the difference in offset retrieved when including \\ce{H-} is significant. The colour of the data corresponds to the offset applied from each model. For the UVIS/G280 data we only applied one offset as the uncertainties are relatively large and the offset difference is not as significant. \\newline Bottom: The posterior plots for the retrieved species, cloud deck and temperature ($T$), as well as scattering slope parameters for the retrievals with HST data ($\\log a, \\gamma$). The colours correspond to the individual models, demonstrating that the inclusion of HST data does not provide further constraints for the cloud deck or abundances as the unknown \\ce{H-} abundance in combination with the lack of overlapping wavelengths prevents inferences about the continuum of $\\myplanet$'s atmosphere. Quoted median values and 1$\\sigma$ errors correspond to the posteriors retrieved on the JWST and HST data when including \\ce{H-} opacity, shown with the vertical solid and dashed lines. (*fig:appendix_g395h_hst*)\n",
       "\n",
       "</div>\n",
       "<div id=\"div_fig3\">\n",
       "\n",
       "<img src=\"tmp_2509.12479/./figures/nemesispy_equilibrium_chemistry_overplot.png\" alt=\"Fig16\" width=\"100%\"/>\n",
       "\n",
       "**Figure 16. -** Top: NEMESISPY equilibrium chemistry retrievals comparison between using JWST data in combination with previously published HST data (purple: including \\ce{H-} and \\ce{e-}) and JWST data only (orange). The colour of the data corresponds to the offset applied from each model. Whilst the retrieval including the HST data was conducted with the G280 dataset held fixed, here we shift the plot such that the offsets are shown relative to NRS1 to facilitate comparison with figure \\ref{fig:appendix_g395h_hst}. \\newline Bottom: The posterior plots for the metallicity and C:O ratio, H$^-$ and e$^-$, R$_{\\mathrm{ref}}$ and P$_{\\mathrm{ref}}$; temperature (P1,P2,P2,T0,alpha1,alpha2); cloud properties (cloud top pressure, haze scattering index, haze opacity and cloud fraction); offsets; and stellar parameters (heterogeneity fraction, photospheric temperature, heterogeneity temperature relative to photosphere).  The colours correspond to the individual models, demonstrating that the inclusion of HST data does not provide further constraints for the cloud deck or metallicity. The discrepancy in the retrieved radius is due to the two retrievals referencing the instrument offsets to different baseline instruments (G280 for the full retrieval and NRS1 for the JWST-only retrieval). The offsets for both retrievals are presented relative to NRS1 to aid comparison. (*fig:appendix_g395h_hst_nemesispy*)\n",
       "\n",
       "</div><div id=\"qrcode\"><img src=https://api.qrserver.com/v1/create-qr-code/?size=100x100&data=\"https://arxiv.org/abs/2509.12479\"></div>"
      ],
      "text/plain": [
       "<IPython.core.display.Markdown object>"
      ]
     },
     "metadata": {},
     "output_type": "display_data"
    },
    {
     "data": {
      "text/markdown": [
       "<div class=\"macros\" style=\"visibility:hidden;\">\n",
       "$\\newcommand{\\ensuremath}{}$\n",
       "$\\newcommand{\\xspace}{}$\n",
       "$\\newcommand{\\object}[1]{\\texttt{#1}}$\n",
       "$\\newcommand{\\farcs}{{.}''}$\n",
       "$\\newcommand{\\farcm}{{.}'}$\n",
       "$\\newcommand{\\arcsec}{''}$\n",
       "$\\newcommand{\\arcmin}{'}$\n",
       "$\\newcommand{\\ion}[2]{#1#2}$\n",
       "$\\newcommand{\\textsc}[1]{\\textrm{#1}}$\n",
       "$\\newcommand{\\hl}[1]{\\textrm{#1}}$\n",
       "$\\newcommand{\\footnote}[1]{}$\n",
       "$\\newcommand{\\bibinfo}[2]{#2}$\n",
       "$\\newcommand{\\eprint}[2][]{\\url{#2}}$\n",
       "$\\newcommand{\\doi}[1]{\\url{https://doi.org/#1}}$\n",
       "$\\newcommand{\\giraffe}{{\\sc giraffe}}$\n",
       "$\\newcommand{\\figurename}{Figure}$\n",
       "$\\newcommand{\\figurename}{Extended Data Figure}$\n",
       "$\\newcommand{\\kms}{km s^{-1}}$\n",
       "$\\newcommand{\\cms}{cm s^{-2}}$\n",
       "$\\newcommand{\\ergscm}{erg s^{-1} cm^{-2}}$\n",
       "$\\newcommand{\\ergs}{erg s^{-1}}$\n",
       "$\\newcommand{\\zsun}{Z_{\\odot}}$\n",
       "$\\newcommand{\\Zsun}{Z_{\\odot}}$\n",
       "$\\newcommand{\\lsol}{L_{\\odot}}$\n",
       "$\\newcommand{\\lsun}{L_{\\odot}}$\n",
       "$\\newcommand{\\Lsun}{L_{\\odot}}$\n",
       "$\\newcommand{\\Msun}{M_{\\odot}}$\n",
       "$\\newcommand{\\msun}{M_{\\odot}}$\n",
       "$\\newcommand{\\msunyr}{M_{\\odot} yr^{-1}}$\n",
       "$\\newcommand{\\msol}{M_{\\odot}}$\n",
       "$\\newcommand{\\rsol}{R_{\\odot}}$\n",
       "$\\newcommand{\\rsun}{R_{\\odot}}$\n",
       "$\\newcommand{\\Rsun}{R_{\\odot}}$\n",
       "$\\newcommand{\\teff}{T_\\mathrm{eff}}$\n",
       "$\\newcommand{\\logg}{\\log g}$\n",
       "$\\newcommand{\\mdot}{M_\\odot}$\n",
       "$\\newcommand{\\vinf}{v_\\infty}$\n",
       "$\\newcommand{\\vsini}{\\varv \\sin i}$\n",
       "$\\newcommand{\\ha}{H{\\alpha}}$\n",
       "$\\newcommand{\\halpha}{H{\\alpha}}$\n",
       "$\\newcommand{\\hb}{H{\\beta}}$\n",
       "$\\newcommand{\\hbeta}{H{\\beta}}$\n",
       "$\\newcommand{\\hdelta}{H{\\delta}}$\n",
       "$\\newcommand{\\hgamma}{H{\\gamma}}$\n",
       "$\\newcommand{\\l}{\\lambda}$\n",
       "$\\newcommand{\\hea}{\\ion{He}{i}}$\n",
       "$\\newcommand{\\heb}{\\ion{He}{ii}}$\n",
       "$\\newcommand{\\snr}{S/N}$\n",
       "$\\newcommand{\\bloem}{BLOeM}$\n",
       "$\\newcommand{\\flames}{\\sc flames}$\n",
       "$\\newcommand{\\aap}{Astron.~Astrophys.}$\n",
       "$\\newcommand{\\aaps}{Astron.~Astrophys.~Suppl.}$\n",
       "$\\newcommand{\\aapr}{Astron.~Astrophys.~Rev.}$\n",
       "$\\newcommand{\\aj}{Astron.~J}$\n",
       "$\\newcommand{\\apj}{Astrophys.~J}$\n",
       "$\\newcommand{\\apjs}{Astrophys.~J.~Suppl.}$\n",
       "$\\newcommand{\\apjl}{Astrophys.~Lett.}$\n",
       "$\\newcommand{\\aplett}{Astrophys.~Lett.}$\n",
       "$\\newcommand{\\araa}{Ann.~Rev. Astron.~Astroph.}$\n",
       "$\\newcommand{\\mnras}{Mon.~Not.~Royal~Ac.~Soc.}$\n",
       "$\\newcommand{\\nat}{Nature}$\n",
       "$\\newcommand{\\pasp}{Publ. Astron. Soc. Pac.}$\n",
       "$\\newcommand{\\pasa}{Publ. Astron. Soc. Australia}$\n",
       "$\\newcommand\\url{#1}$\n",
       "$\\newcommand{\\urlprefix}{URL }$</div>\n",
       "\n",
       "\n",
       "\n",
       "<div id=\"title\">\n",
       "\n",
       "# A high fraction of close massive binary stars at low metallicity\n",
       "\n",
       "</div>\n",
       "<div id=\"comments\">\n",
       "\n",
       "[![arXiv](https://img.shields.io/badge/arXiv-2509.12488-b31b1b.svg)](https://arxiv.org/abs/2509.12488)<mark>Appeared on: 2025-09-17</mark> -  _32 pages, 12 figures_\n",
       "\n",
       "</div>\n",
       "<div id=\"authors\">\n",
       "\n",
       "H. Sana, et al. -- incl., <mark>S. Shahaf</mark>\n",
       "\n",
       "</div>\n",
       "<div id=\"abstract\">\n",
       "\n",
       "**Abstract:** At high metallicity, a majority of massive stars have at least one close stellar companion.The evolution of such binaries is subject to strong interaction processes, heavily impacting the characteristics of their life-ending supernova and compact remnants.For the low-metallicity environments of high-redshift galaxies constraints on the multiplicity properties of massive stars over the separation range leading to binary interaction are crucially missing.  Here we show that the presence of massive stars in close binaries is ubiquitous, even at low metallicity.Using the Very Large Telescope, we obtained multi-epoch radial velocity measurements of a representative sample of 139 massive O-type stars across the Small Magellanic Cloud, which has a metal content of about one fifth of the solar value. We find that 45 \\% of them show radial velocity variations which demonstrate that they are members of close binary systems, and predominantly have orbital periods shorter than one year. Correcting for observational biases indicatesthat at least $70^{+11}_{-6}$ \\% of the O stars in our sample are in close binaries, and that at least $68^{+7}_{-8}$ \\% of all O stars interact with a companion star during their lifetime. We found no evidence supporting a statistically significant trend of the multiplicity properties with metallicity.Our results indicate that multiplicity and binary interactions govern the evolution of massive stars and determine their cosmic feedback and explosive fates.\n",
       "\n",
       "</div>\n",
       "\n",
       "<div id=\"div_fig1\">\n",
       "\n",
       "<img src=\"tmp_2509.12488/./Sana_Fig4.png\" alt=\"Fig4\" width=\"100%\"/>\n",
       "\n",
       "**Figure 4. -** Metallicity dependence of the intrinsic binary fraction of O-type stars (data: circles, model: green; this work) and of solar-mass stars (data: diamonds, model: red; \\cite{Moe2019}).\n",
       "The best-fit parameters and their standard deviations are computed with a linear regression to the displayed data points and their 1$\\sigma$ error-bars. The green and red shaded regions show the 68\\%(1$\\sigma$) confidence intervals of the regressions to the high-mass and low-mass data, respectively. The slope for massive stars ($-0.11 \\pm 0.15$, solid line) is consistent with a constant line (dashed line), but does not allow to reject a slight trend with metallicity at the level of the slope reported for solar-mass stars ($-0.16 \\pm0.01$, dotted line).    (*f:reg*)\n",
       "\n",
       "</div>\n",
       "<div id=\"div_fig2\">\n",
       "\n",
       "<img src=\"tmp_2509.12488/./Sana_Fig1.png\" alt=\"Fig1\" width=\"100%\"/>\n",
       "\n",
       "**Figure 1. -** **Distribution of O-type stars** in the $\\bloem$ sample overlaid on a VISTA Y-J-K$_\\mathrm{S}$ false-color image of the SMC. Image credit:ESO/VISTA VMC. Large circles show the 8 fields of view of the $\\bloem$ campaign. Diamonds indicate detected O-type spectroscopic binaries (SB); circles, RV constant, presumably single stars.  (*f:fov*)\n",
       "\n",
       "</div>\n",
       "<div id=\"div_fig3\">\n",
       "\n",
       "<img src=\"tmp_2509.12488/./Sana_Fig2.png\" alt=\"Fig2\" width=\"100%\"/>\n",
       "\n",
       "**Figure 2. -** {Binary detection probability} of the $\\bloem$ survey for O stars in our sample as a function of the orbital period. The plain green line is computed while considering the Doppler shift of the primary star only (main method). The dashed, purple line also include the line-blending detection bias, which reduces detection at long periods. The dotted, red lines indicates the fraction of the simulated systems that display eclipses according to Equation \\ref{eq:eclipses}. Detection probability curves as function of other parameters are provided in Extended Data Figure 2. (*f:detect_p*)\n",
       "\n",
       "</div><div id=\"qrcode\"><img src=https://api.qrserver.com/v1/create-qr-code/?size=100x100&data=\"https://arxiv.org/abs/2509.12488\"></div>"
      ],
      "text/plain": [
       "<IPython.core.display.Markdown object>"
      ]
     },
     "metadata": {},
     "output_type": "display_data"
    },
    {
     "data": {
      "text/markdown": [
       "<div class=\"macros\" style=\"visibility:hidden;\">\n",
       "$\\newcommand{\\ensuremath}{}$\n",
       "$\\newcommand{\\xspace}{}$\n",
       "$\\newcommand{\\object}[1]{\\texttt{#1}}$\n",
       "$\\newcommand{\\farcs}{{.}''}$\n",
       "$\\newcommand{\\farcm}{{.}'}$\n",
       "$\\newcommand{\\arcsec}{''}$\n",
       "$\\newcommand{\\arcmin}{'}$\n",
       "$\\newcommand{\\ion}[2]{#1#2}$\n",
       "$\\newcommand{\\textsc}[1]{\\textrm{#1}}$\n",
       "$\\newcommand{\\hl}[1]{\\textrm{#1}}$\n",
       "$\\newcommand{\\footnote}[1]{}$\n",
       "$\\newcommand{\\AL}[1]{\\textcolor{teal}{#1}}$\n",
       "$\\newcommand{\\orcid}[1]$\n",
       "$\\newcommand{\\arraystretch}{1.2}$\n",
       "$\\newcommand{\\arraystretch}{1.2}$\n",
       "$\\newcommand{\\arraystretch}{1.2}$\n",
       "$\\newcommand{\\arraystretch}{1.2}$\n",
       "$\\newcommand{\\arraystretch}{1.2}$\n",
       "$\\newcommand{\\arraystretch}{1.2}$</div>\n",
       "\n",
       "\n",
       "\n",
       "<div id=\"title\">\n",
       "\n",
       "# $\\Euclid$ preparation. Using mock Low Surface Brightness dwarf galaxies to probe Wide Survey detection capabilities\n",
       "\n",
       "</div>\n",
       "<div id=\"comments\">\n",
       "\n",
       "[![arXiv](https://img.shields.io/badge/arXiv-2509.13163-b31b1b.svg)](https://arxiv.org/abs/2509.13163)<mark>Appeared on: 2025-09-17</mark> -  _21 pages, 18 figures, 7 tables_\n",
       "\n",
       "</div>\n",
       "<div id=\"authors\">\n",
       "\n",
       "E. Collaboration, et al. -- incl., <mark>K. Jahnke</mark>\n",
       "\n",
       "</div>\n",
       "<div id=\"abstract\">\n",
       "\n",
       "**Abstract:** Local Universe dwarf galaxies are both cosmological and mass assembly probes. Deep surveys have enabled the study of these objects down to the low surface brightness (LSB) regime. In this paper, we estimate $\\Euclid$ 's dwarf detection capabilities as well as limits of its MERge processing function (MER pipeline), responsible for producing the stacked mosaics and final catalogues. To do this, we inject mock dwarf galaxies in a real Euclid Wide Survey (EWS) field in the VIS band and compare the input catalogue to the final MER catalogue. The mock dwarf galaxies are generated with simple Sérsic models and structural parameters extracted from observed dwarf galaxy property catalogues. To characterize the detected dwarfs, we use the mean surface brightness inside the effective radius ${\\rm SB}_{\\rm e}$ (in mag arcsec $^{-2}$ ). The final MER catalogues achieve completenesses of $91 \\%$ for ${\\rm SB}_{\\rm e}\\in[21,24]$ , and $54 \\%$ for ${\\rm SB}_{\\rm e}\\in[24,28]$ . These numbers do not take into account possible contaminants, including confusion with background galaxies at the location of the dwarfs. After taking into account those effects, they become respectively $86 \\%$ and $38 \\%$ . The MER pipeline performs a final local background subtraction with small mesh size, leading to a flux loss for galaxies with $R_{\\rm e}>10\\arcsec$ . By using the final MER mosaics and reinjecting this local background, we obtain an image in which we recover reliable photometric properties for objects under the arcminute scale. This background-reinjected product is thus suitable for the study of Local Universe dwarf galaxies. $\\Euclid$ 's data reduction pipeline serves as a test bed for other deep surveys, particularly regarding background subtraction methods, a key issue in LSB science.\n",
       "\n",
       "</div>\n",
       "\n",
       "<div id=\"div_fig1\">\n",
       "\n",
       "<img src=\"tmp_2509.13163/./figures/histogram_count_vs_SB_corrected.png\" alt=\"Fig14.1\" width=\"50%\"/><img src=\"tmp_2509.13163/./figures/histogram_count_vs_Re_corrected.png\" alt=\"Fig14.2\" width=\"50%\"/>\n",
       "\n",
       "**Figure 14. -** Histograms of the input ${\\rm SB}_{\\rm e}$(left panel) and the input $R_{\\rm e}$(right panel), colour-coded according to their detection by eye and in the MER catalogue, $N_\\sfont{SEARCH}$ being the number of MER sources found by using the search radius $R_{\\sfont{SEARCH}}$ for the crossmatch. It is worth noting that the dwarfs in MER catalogues and those with $N_\\sfont{SEARCH}>1$ are also detected by eye. In Appendix \\ref{AppA}, we also provide the histogram of $\\langle \\mu_\\sfont{I} \\rangle$ as defined in \\cite{Q1-SP001}. In this plot, all the dwarfs (nucleated or not) are included. (*fig:detect_catalog_histo*)\n",
       "\n",
       "</div>\n",
       "<div id=\"div_fig2\">\n",
       "\n",
       "<img src=\"tmp_2509.13163/./figures/combined_non_nucleated.png\" alt=\"Fig17\" width=\"100%\"/>\n",
       "\n",
       "**Figure 17. -** Input $R_{\\rm e}$ as a function of the input total magnitude in $\\IE$(left panel) and the corresponding histogram of the input ${\\rm SB}_{\\rm e}$(right panel), colour-coded according to their detection or non-detection by eye in the three types of products: NOBG, VIS BGSUB, and the final MER mosaic subtracted by VIS and MER backgrounds. Only the non-nucleated dwarfs, at all distances, have been used in this analysis.  We labelled the number of dwarfs that are visually detected in each ${\\rm SB}_{\\rm e}$ bin. The dashed rectangle shows examples of objects that were detected differently with the various background treatments. (*fig:detection*)\n",
       "\n",
       "</div>\n",
       "<div id=\"div_fig3\">\n",
       "\n",
       "<img src=\"tmp_2509.13163/./figures/diff_mag_bgsub_combined.png\" alt=\"Fig8\" width=\"100%\"/>\n",
       "\n",
       "**Figure 8. -** Difference between the \\texttt{SourceXtractor++} measured magnitude in the final MER catalogue and the input magnitude of injected dwarfs as a function of $R_{\\rm e}$, for all dwarfs detected in the final MER catalogue. (*fig:detect_catalog_2*)\n",
       "\n",
       "</div><div id=\"qrcode\"><img src=https://api.qrserver.com/v1/create-qr-code/?size=100x100&data=\"https://arxiv.org/abs/2509.13163\"></div>"
      ],
      "text/plain": [
       "<IPython.core.display.Markdown object>"
      ]
     },
     "metadata": {},
     "output_type": "display_data"
    }
   ],
   "source": [
    "[display(Markdown(k[1])) for k in documents];"
   ]
  },
  {
   "cell_type": "markdown",
   "id": "873873a4",
   "metadata": {
    "papermill": {
     "duration": 0.006799,
     "end_time": "2025-09-17T04:17:37.164758",
     "exception": false,
     "start_time": "2025-09-17T04:17:37.157959",
     "status": "completed"
    },
    "tags": []
   },
   "source": [
    "# Create HTML index"
   ]
  },
  {
   "cell_type": "code",
   "execution_count": 10,
   "id": "cf665672",
   "metadata": {
    "execution": {
     "iopub.execute_input": "2025-09-17T04:17:37.179761Z",
     "iopub.status.busy": "2025-09-17T04:17:37.179455Z",
     "iopub.status.idle": "2025-09-17T04:17:37.187088Z",
     "shell.execute_reply": "2025-09-17T04:17:37.186450Z"
    },
    "papermill": {
     "duration": 0.01647,
     "end_time": "2025-09-17T04:17:37.188205",
     "exception": false,
     "start_time": "2025-09-17T04:17:37.171735",
     "status": "completed"
    },
    "tags": []
   },
   "outputs": [
    {
     "name": "stdout",
     "output_type": "stream",
     "text": [
      "128  publications files modified in the last 7 days.\n"
     ]
    }
   ],
   "source": [
    "from datetime import datetime, timedelta, timezone\n",
    "from glob import glob\n",
    "import os\n",
    "\n",
    "files = glob('_build/html/*.md')\n",
    "days = 7\n",
    "now = datetime.today()\n",
    "res = []\n",
    "for fk in files:\n",
    "    stat_result = os.stat(fk).st_ctime\n",
    "    modified = datetime.fromtimestamp(stat_result, tz=timezone.utc).replace(tzinfo=None)\n",
    "    delta = now.today() - modified\n",
    "    if delta <= timedelta(days=days):\n",
    "        res.append((delta.seconds, fk))\n",
    "res = [k[1] for k in reversed(sorted(res, key=lambda x:x[1]))]\n",
    "npub = len(res)\n",
    "print(len(res), f\" publications files modified in the last {days:d} days.\")\n",
    "# [ print('\\t', k) for k in res ];"
   ]
  },
  {
   "cell_type": "code",
   "execution_count": 11,
   "id": "015de740",
   "metadata": {
    "execution": {
     "iopub.execute_input": "2025-09-17T04:17:37.203295Z",
     "iopub.status.busy": "2025-09-17T04:17:37.203054Z",
     "iopub.status.idle": "2025-09-17T04:17:37.215590Z",
     "shell.execute_reply": "2025-09-17T04:17:37.214885Z"
    },
    "papermill": {
     "duration": 0.021315,
     "end_time": "2025-09-17T04:17:37.216572",
     "exception": false,
     "start_time": "2025-09-17T04:17:37.195257",
     "status": "completed"
    },
    "tags": []
   },
   "outputs": [
    {
     "name": "stdout",
     "output_type": "stream",
     "text": [
      "14  publications in the last 7 days.\n"
     ]
    }
   ],
   "source": [
    "import datetime\n",
    "from glob import glob\n",
    "\n",
    "def get_last_n_days(lst, days=1):\n",
    "    \"\"\" Get the documents from the last n days \"\"\"\n",
    "    sorted_lst = sorted(lst, key=lambda x: x[1], reverse=True)\n",
    "    for fname, date in sorted_lst:\n",
    "        if date >= str(datetime.date.today() - datetime.timedelta(days=days)):\n",
    "            yield fname\n",
    "\n",
    "def extract_appearance_dates(lst_file):\n",
    "    dates = []\n",
    "\n",
    "    def get_date(line):\n",
    "        return line\\\n",
    "            .split('Appeared on:')[-1]\\\n",
    "            .split('</mark>')[0].strip()\n",
    "\n",
    "    for fname in lst:\n",
    "        with open(fname, 'r') as f:\n",
    "            found_date = False\n",
    "            for line in f:\n",
    "                if not found_date:\n",
    "                    if \"Appeared on\" in line:\n",
    "                        found_date = True\n",
    "                        dates.append((fname, get_date(line)))\n",
    "                else:\n",
    "                    break\n",
    "    return dates\n",
    "\n",
    "from glob import glob\n",
    "lst = glob('_build/html/*md')\n",
    "days = 7\n",
    "dates = extract_appearance_dates(lst)\n",
    "res = list(get_last_n_days(dates, days))\n",
    "npub = len(res)\n",
    "print(len(res), f\" publications in the last {days:d} days.\")"
   ]
  },
  {
   "cell_type": "code",
   "execution_count": 12,
   "id": "52ca0208",
   "metadata": {
    "execution": {
     "iopub.execute_input": "2025-09-17T04:17:37.232218Z",
     "iopub.status.busy": "2025-09-17T04:17:37.231931Z",
     "iopub.status.idle": "2025-09-17T04:17:37.237143Z",
     "shell.execute_reply": "2025-09-17T04:17:37.236460Z"
    },
    "papermill": {
     "duration": 0.014236,
     "end_time": "2025-09-17T04:17:37.238188",
     "exception": false,
     "start_time": "2025-09-17T04:17:37.223952",
     "status": "completed"
    },
    "scrolled": false,
    "tags": []
   },
   "outputs": [],
   "source": [
    "def create_carousel(npub=4):\n",
    "    \"\"\" Generate the HTML code for a carousel with `npub` slides \"\"\"\n",
    "    carousel = [\"\"\"  <div class=\"carousel\" \"\"\",\n",
    "                \"\"\"       data-flickity='{ \"autoPlay\": 10000, \"adaptiveHeight\": true, \"resize\": true, \"wrapAround\": true, \"pauseAutoPlayOnHover\": true, \"groupCells\": 1 }' id=\"asyncTypeset\">\"\"\"\n",
    "                ]\n",
    "    \n",
    "    item_str = \"\"\"    <div class=\"carousel-cell\"> <div id=\"slide{k}\" class=\"md_view\">Content {k}</div> </div>\"\"\"\n",
    "    for k in range(1, npub + 1):\n",
    "        carousel.append(item_str.format(k=k))\n",
    "    carousel.append(\"  </div>\")\n",
    "    return '\\n'.join(carousel)\n",
    "\n",
    "def create_grid(npub=4):\n",
    "    \"\"\" Generate the HTML code for a flat grid with `npub` slides \"\"\"\n",
    "    grid = [\"\"\"  <div class=\"grid\"> \"\"\",\n",
    "                ]\n",
    "    \n",
    "    item_str = \"\"\"    <div class=\"grid-item\"> <div id=\"slide{k}\" class=\"md_view\">Content {k}</div> </div>\"\"\"\n",
    "    for k in range(1, npub + 1):\n",
    "        grid.append(item_str.format(k=k))\n",
    "    grid.append(\"  </div>\")\n",
    "    return '\\n'.join(grid)"
   ]
  },
  {
   "cell_type": "code",
   "execution_count": 13,
   "id": "a6eac5b6",
   "metadata": {
    "execution": {
     "iopub.execute_input": "2025-09-17T04:17:37.253262Z",
     "iopub.status.busy": "2025-09-17T04:17:37.253038Z",
     "iopub.status.idle": "2025-09-17T04:17:37.258023Z",
     "shell.execute_reply": "2025-09-17T04:17:37.257410Z"
    },
    "papermill": {
     "duration": 0.013631,
     "end_time": "2025-09-17T04:17:37.259021",
     "exception": false,
     "start_time": "2025-09-17T04:17:37.245390",
     "status": "completed"
    },
    "scrolled": false,
    "tags": []
   },
   "outputs": [],
   "source": [
    "carousel = create_carousel(npub)\n",
    "docs = ', '.join(['\"{0:s}\"'.format(k.split('/')[-1]) for k in res])\n",
    "slides = ', '.join([f'\"slide{k}\"' for k in range(1, npub + 1)])\n",
    "\n",
    "with open(\"daily_template.html\", \"r\") as tpl:\n",
    "    page = tpl.read()\n",
    "    page = page.replace(\"{%-- carousel:s --%}\", carousel)\\\n",
    "               .replace(\"{%-- suptitle:s --%}\",  \"7-day archives\" )\\\n",
    "               .replace(\"{%-- docs:s --%}\", docs)\\\n",
    "               .replace(\"{%-- slides:s --%}\", slides)\n",
    "    \n",
    "with open(\"_build/html/index_7days.html\", 'w') as fout:\n",
    "    fout.write(page)"
   ]
  },
  {
   "cell_type": "code",
   "execution_count": 14,
   "id": "adc1a1ec",
   "metadata": {
    "execution": {
     "iopub.execute_input": "2025-09-17T04:17:37.274560Z",
     "iopub.status.busy": "2025-09-17T04:17:37.274321Z",
     "iopub.status.idle": "2025-09-17T04:17:37.280835Z",
     "shell.execute_reply": "2025-09-17T04:17:37.280264Z"
    },
    "papermill": {
     "duration": 0.015471,
     "end_time": "2025-09-17T04:17:37.281843",
     "exception": false,
     "start_time": "2025-09-17T04:17:37.266372",
     "status": "completed"
    },
    "tags": []
   },
   "outputs": [
    {
     "name": "stdout",
     "output_type": "stream",
     "text": [
      "5  publications in the last day.\n"
     ]
    }
   ],
   "source": [
    "# redo for today\n",
    "days = 1\n",
    "res = list(get_last_n_days(dates, days))\n",
    "npub = len(res)\n",
    "print(len(res), f\" publications in the last day.\")\n",
    "\n",
    "carousel = create_carousel(npub)\n",
    "docs = ', '.join(['\"{0:s}\"'.format(k.split('/')[-1]) for k in res])\n",
    "slides = ', '.join([f'\"slide{k}\"' for k in range(1, npub + 1)])\n",
    "\n",
    "with open(\"daily_template.html\", \"r\") as tpl:\n",
    "    page = tpl.read()\n",
    "    page = page.replace(\"{%-- carousel:s --%}\", carousel)\\\n",
    "               .replace(\"{%-- suptitle:s --%}\",  \"Daily\" )\\\n",
    "               .replace(\"{%-- docs:s --%}\", docs)\\\n",
    "               .replace(\"{%-- slides:s --%}\", slides)\n",
    "    \n",
    "# print(carousel, docs, slides)\n",
    "# print(page)\n",
    "with open(\"_build/html/index_daily.html\", 'w') as fout:\n",
    "    fout.write(page)"
   ]
  },
  {
   "cell_type": "code",
   "execution_count": 15,
   "id": "00eece82",
   "metadata": {
    "execution": {
     "iopub.execute_input": "2025-09-17T04:17:37.297370Z",
     "iopub.status.busy": "2025-09-17T04:17:37.297124Z",
     "iopub.status.idle": "2025-09-17T04:17:37.303590Z",
     "shell.execute_reply": "2025-09-17T04:17:37.303051Z"
    },
    "papermill": {
     "duration": 0.015328,
     "end_time": "2025-09-17T04:17:37.304572",
     "exception": false,
     "start_time": "2025-09-17T04:17:37.289244",
     "status": "completed"
    },
    "scrolled": false,
    "tags": []
   },
   "outputs": [
    {
     "name": "stdout",
     "output_type": "stream",
     "text": [
      "6  6 publications selected.\n"
     ]
    }
   ],
   "source": [
    "# Create the flat grid of the last N papers (fixed number regardless of dates)\n",
    "from itertools import islice \n",
    "\n",
    "npub = 6\n",
    "res = [k[0] for k in (islice(reversed(sorted(dates, key=lambda x: x[1])), 6))]\n",
    "print(len(res), f\" {npub} publications selected.\")\n",
    "\n",
    "grid = create_grid(npub)\n",
    "docs = ', '.join(['\"{0:s}\"'.format(k.split('/')[-1]) for k in res])\n",
    "slides = ', '.join([f'\"slide{k}\"' for k in range(1, npub + 1)])\n",
    "\n",
    "with open(\"grid_template.html\", \"r\") as tpl:\n",
    "    page = tpl.read()\n",
    "    page = page.replace(\"{%-- grid-content:s --%}\", grid)\\\n",
    "               .replace(\"{%-- suptitle:s --%}\",  f\"Last {npub:,d} papers\" )\\\n",
    "               .replace(\"{%-- docs:s --%}\", docs)\\\n",
    "               .replace(\"{%-- slides:s --%}\", slides)\n",
    "    \n",
    "# print(grid, docs, slides)\n",
    "# print(page)\n",
    "with open(\"_build/html/index_npub_grid.html\", 'w') as fout:\n",
    "    fout.write(page)"
   ]
  }
 ],
 "metadata": {
  "kernelspec": {
   "display_name": "Python 3 (ipykernel)",
   "language": "python",
   "name": "python3"
  },
  "language_info": {
   "codemirror_mode": {
    "name": "ipython",
    "version": 3
   },
   "file_extension": ".py",
   "mimetype": "text/x-python",
   "name": "python",
   "nbconvert_exporter": "python",
   "pygments_lexer": "ipython3",
   "version": "3.9.23"
  },
  "papermill": {
   "default_parameters": {},
   "duration": 341.813803,
   "end_time": "2025-09-17T04:17:37.628626",
   "environment_variables": {},
   "exception": null,
   "input_path": "MPIA daily digest.ipynb",
   "output_path": "log.ipynb",
   "parameters": {},
   "start_time": "2025-09-17T04:11:55.814823",
   "version": "2.6.0"
  },
  "vscode": {
   "interpreter": {
    "hash": "aee8b7b246df8f9039afb4144a1f6fd8d2ca17a180786b69acc140d282b71a49"
   }
  },
  "widgets": {
   "application/vnd.jupyter.widget-state+json": {
    "state": {
     "07d35643dd2d487598d68c31246f6d1c": {
      "model_module": "@jupyter-widgets/controls",
      "model_module_version": "2.0.0",
      "model_name": "HTMLModel",
      "state": {
       "_dom_classes": [],
       "_model_module": "@jupyter-widgets/controls",
       "_model_module_version": "2.0.0",
       "_model_name": "HTMLModel",
       "_view_count": null,
       "_view_module": "@jupyter-widgets/controls",
       "_view_module_version": "2.0.0",
       "_view_name": "HTMLView",
       "description": "",
       "description_allow_html": false,
       "layout": "IPY_MODEL_afc58c8451214ac79da980bbb51df6ae",
       "placeholder": "​",
       "style": "IPY_MODEL_152c2646ae9245828954ce027bb4e6d5",
       "tabbable": null,
       "tooltip": null,
       "value": " 10/10 [05:13&lt;00:00, 69.66s/it]"
      }
     },
     "152c2646ae9245828954ce027bb4e6d5": {
      "model_module": "@jupyter-widgets/controls",
      "model_module_version": "2.0.0",
      "model_name": "HTMLStyleModel",
      "state": {
       "_model_module": "@jupyter-widgets/controls",
       "_model_module_version": "2.0.0",
       "_model_name": "HTMLStyleModel",
       "_view_count": null,
       "_view_module": "@jupyter-widgets/base",
       "_view_module_version": "2.0.0",
       "_view_name": "StyleView",
       "background": null,
       "description_width": "",
       "font_size": null,
       "text_color": null
      }
     },
     "2af0dd223347405792f74b08b1262267": {
      "model_module": "@jupyter-widgets/controls",
      "model_module_version": "2.0.0",
      "model_name": "HTMLModel",
      "state": {
       "_dom_classes": [],
       "_model_module": "@jupyter-widgets/controls",
       "_model_module_version": "2.0.0",
       "_model_name": "HTMLModel",
       "_view_count": null,
       "_view_module": "@jupyter-widgets/controls",
       "_view_module_version": "2.0.0",
       "_view_name": "HTMLView",
       "description": "",
       "description_allow_html": false,
       "layout": "IPY_MODEL_93e340deccce4cc887cf0382dfaabb4b",
       "placeholder": "​",
       "style": "IPY_MODEL_a38382389955447f8fc27e04b842b106",
       "tabbable": null,
       "tooltip": null,
       "value": "100%"
      }
     },
     "558c29364b5f4cbbba9a0c9c379c4a42": {
      "model_module": "@jupyter-widgets/controls",
      "model_module_version": "2.0.0",
      "model_name": "HBoxModel",
      "state": {
       "_dom_classes": [],
       "_model_module": "@jupyter-widgets/controls",
       "_model_module_version": "2.0.0",
       "_model_name": "HBoxModel",
       "_view_count": null,
       "_view_module": "@jupyter-widgets/controls",
       "_view_module_version": "2.0.0",
       "_view_name": "HBoxView",
       "box_style": "",
       "children": [
        "IPY_MODEL_2af0dd223347405792f74b08b1262267",
        "IPY_MODEL_7363c28ecb6f40efb1425f4d5363705c",
        "IPY_MODEL_07d35643dd2d487598d68c31246f6d1c"
       ],
       "layout": "IPY_MODEL_8d04981427ad4db59dc3c4596534fe30",
       "tabbable": null,
       "tooltip": null
      }
     },
     "7363c28ecb6f40efb1425f4d5363705c": {
      "model_module": "@jupyter-widgets/controls",
      "model_module_version": "2.0.0",
      "model_name": "FloatProgressModel",
      "state": {
       "_dom_classes": [],
       "_model_module": "@jupyter-widgets/controls",
       "_model_module_version": "2.0.0",
       "_model_name": "FloatProgressModel",
       "_view_count": null,
       "_view_module": "@jupyter-widgets/controls",
       "_view_module_version": "2.0.0",
       "_view_name": "ProgressView",
       "bar_style": "success",
       "description": "",
       "description_allow_html": false,
       "layout": "IPY_MODEL_b809b9a2005f45ed8a22f9babd513dc9",
       "max": 10.0,
       "min": 0.0,
       "orientation": "horizontal",
       "style": "IPY_MODEL_7bd0d33caf9d495ca1d9309e3d00addb",
       "tabbable": null,
       "tooltip": null,
       "value": 10.0
      }
     },
     "7bd0d33caf9d495ca1d9309e3d00addb": {
      "model_module": "@jupyter-widgets/controls",
      "model_module_version": "2.0.0",
      "model_name": "ProgressStyleModel",
      "state": {
       "_model_module": "@jupyter-widgets/controls",
       "_model_module_version": "2.0.0",
       "_model_name": "ProgressStyleModel",
       "_view_count": null,
       "_view_module": "@jupyter-widgets/base",
       "_view_module_version": "2.0.0",
       "_view_name": "StyleView",
       "bar_color": null,
       "description_width": ""
      }
     },
     "8d04981427ad4db59dc3c4596534fe30": {
      "model_module": "@jupyter-widgets/base",
      "model_module_version": "2.0.0",
      "model_name": "LayoutModel",
      "state": {
       "_model_module": "@jupyter-widgets/base",
       "_model_module_version": "2.0.0",
       "_model_name": "LayoutModel",
       "_view_count": null,
       "_view_module": "@jupyter-widgets/base",
       "_view_module_version": "2.0.0",
       "_view_name": "LayoutView",
       "align_content": null,
       "align_items": null,
       "align_self": null,
       "border_bottom": null,
       "border_left": null,
       "border_right": null,
       "border_top": null,
       "bottom": null,
       "display": null,
       "flex": null,
       "flex_flow": null,
       "grid_area": null,
       "grid_auto_columns": null,
       "grid_auto_flow": null,
       "grid_auto_rows": null,
       "grid_column": null,
       "grid_gap": null,
       "grid_row": null,
       "grid_template_areas": null,
       "grid_template_columns": null,
       "grid_template_rows": null,
       "height": null,
       "justify_content": null,
       "justify_items": null,
       "left": null,
       "margin": null,
       "max_height": null,
       "max_width": null,
       "min_height": null,
       "min_width": null,
       "object_fit": null,
       "object_position": null,
       "order": null,
       "overflow": null,
       "padding": null,
       "right": null,
       "top": null,
       "visibility": null,
       "width": null
      }
     },
     "93e340deccce4cc887cf0382dfaabb4b": {
      "model_module": "@jupyter-widgets/base",
      "model_module_version": "2.0.0",
      "model_name": "LayoutModel",
      "state": {
       "_model_module": "@jupyter-widgets/base",
       "_model_module_version": "2.0.0",
       "_model_name": "LayoutModel",
       "_view_count": null,
       "_view_module": "@jupyter-widgets/base",
       "_view_module_version": "2.0.0",
       "_view_name": "LayoutView",
       "align_content": null,
       "align_items": null,
       "align_self": null,
       "border_bottom": null,
       "border_left": null,
       "border_right": null,
       "border_top": null,
       "bottom": null,
       "display": null,
       "flex": null,
       "flex_flow": null,
       "grid_area": null,
       "grid_auto_columns": null,
       "grid_auto_flow": null,
       "grid_auto_rows": null,
       "grid_column": null,
       "grid_gap": null,
       "grid_row": null,
       "grid_template_areas": null,
       "grid_template_columns": null,
       "grid_template_rows": null,
       "height": null,
       "justify_content": null,
       "justify_items": null,
       "left": null,
       "margin": null,
       "max_height": null,
       "max_width": null,
       "min_height": null,
       "min_width": null,
       "object_fit": null,
       "object_position": null,
       "order": null,
       "overflow": null,
       "padding": null,
       "right": null,
       "top": null,
       "visibility": null,
       "width": null
      }
     },
     "a38382389955447f8fc27e04b842b106": {
      "model_module": "@jupyter-widgets/controls",
      "model_module_version": "2.0.0",
      "model_name": "HTMLStyleModel",
      "state": {
       "_model_module": "@jupyter-widgets/controls",
       "_model_module_version": "2.0.0",
       "_model_name": "HTMLStyleModel",
       "_view_count": null,
       "_view_module": "@jupyter-widgets/base",
       "_view_module_version": "2.0.0",
       "_view_name": "StyleView",
       "background": null,
       "description_width": "",
       "font_size": null,
       "text_color": null
      }
     },
     "afc58c8451214ac79da980bbb51df6ae": {
      "model_module": "@jupyter-widgets/base",
      "model_module_version": "2.0.0",
      "model_name": "LayoutModel",
      "state": {
       "_model_module": "@jupyter-widgets/base",
       "_model_module_version": "2.0.0",
       "_model_name": "LayoutModel",
       "_view_count": null,
       "_view_module": "@jupyter-widgets/base",
       "_view_module_version": "2.0.0",
       "_view_name": "LayoutView",
       "align_content": null,
       "align_items": null,
       "align_self": null,
       "border_bottom": null,
       "border_left": null,
       "border_right": null,
       "border_top": null,
       "bottom": null,
       "display": null,
       "flex": null,
       "flex_flow": null,
       "grid_area": null,
       "grid_auto_columns": null,
       "grid_auto_flow": null,
       "grid_auto_rows": null,
       "grid_column": null,
       "grid_gap": null,
       "grid_row": null,
       "grid_template_areas": null,
       "grid_template_columns": null,
       "grid_template_rows": null,
       "height": null,
       "justify_content": null,
       "justify_items": null,
       "left": null,
       "margin": null,
       "max_height": null,
       "max_width": null,
       "min_height": null,
       "min_width": null,
       "object_fit": null,
       "object_position": null,
       "order": null,
       "overflow": null,
       "padding": null,
       "right": null,
       "top": null,
       "visibility": null,
       "width": null
      }
     },
     "b809b9a2005f45ed8a22f9babd513dc9": {
      "model_module": "@jupyter-widgets/base",
      "model_module_version": "2.0.0",
      "model_name": "LayoutModel",
      "state": {
       "_model_module": "@jupyter-widgets/base",
       "_model_module_version": "2.0.0",
       "_model_name": "LayoutModel",
       "_view_count": null,
       "_view_module": "@jupyter-widgets/base",
       "_view_module_version": "2.0.0",
       "_view_name": "LayoutView",
       "align_content": null,
       "align_items": null,
       "align_self": null,
       "border_bottom": null,
       "border_left": null,
       "border_right": null,
       "border_top": null,
       "bottom": null,
       "display": null,
       "flex": null,
       "flex_flow": null,
       "grid_area": null,
       "grid_auto_columns": null,
       "grid_auto_flow": null,
       "grid_auto_rows": null,
       "grid_column": null,
       "grid_gap": null,
       "grid_row": null,
       "grid_template_areas": null,
       "grid_template_columns": null,
       "grid_template_rows": null,
       "height": null,
       "justify_content": null,
       "justify_items": null,
       "left": null,
       "margin": null,
       "max_height": null,
       "max_width": null,
       "min_height": null,
       "min_width": null,
       "object_fit": null,
       "object_position": null,
       "order": null,
       "overflow": null,
       "padding": null,
       "right": null,
       "top": null,
       "visibility": null,
       "width": null
      }
     }
    },
    "version_major": 2,
    "version_minor": 0
   }
  }
 },
 "nbformat": 4,
 "nbformat_minor": 5
}