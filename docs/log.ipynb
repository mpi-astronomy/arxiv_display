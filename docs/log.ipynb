{
 "cells": [
  {
   "cell_type": "markdown",
   "id": "92bcb855",
   "metadata": {
    "papermill": {
     "duration": 0.003693,
     "end_time": "2025-04-07T04:12:35.248282",
     "exception": false,
     "start_time": "2025-04-07T04:12:35.244589",
     "status": "completed"
    },
    "tags": []
   },
   "source": [
    "# MPIA Arxiv on Deck 2\n",
    "\n",
    "Contains the steps to produce the paper extractions."
   ]
  },
  {
   "cell_type": "code",
   "execution_count": 1,
   "id": "3a0d6e11",
   "metadata": {
    "execution": {
     "iopub.execute_input": "2025-04-07T04:12:35.256111Z",
     "iopub.status.busy": "2025-04-07T04:12:35.255439Z",
     "iopub.status.idle": "2025-04-07T04:12:35.728003Z",
     "shell.execute_reply": "2025-04-07T04:12:35.727343Z"
    },
    "papermill": {
     "duration": 0.477719,
     "end_time": "2025-04-07T04:12:35.729267",
     "exception": false,
     "start_time": "2025-04-07T04:12:35.251548",
     "status": "completed"
    },
    "tags": []
   },
   "outputs": [],
   "source": [
    "# Imports\n",
    "import os\n",
    "from IPython.display import Markdown, display\n",
    "from tqdm.notebook import tqdm\n",
    "import warnings\n",
    "from PIL import Image \n",
    "import re\n",
    "\n",
    "# requires arxiv_on_deck_2\n",
    "\n",
    "from arxiv_on_deck_2.arxiv2 import (get_new_papers, \n",
    "                                    get_paper_from_identifier,\n",
    "                                    retrieve_document_source, \n",
    "                                    get_markdown_badge)\n",
    "from arxiv_on_deck_2 import (latex,\n",
    "                             latex_bib,\n",
    "                             mpia,\n",
    "                             highlight_authors_in_list)\n",
    "\n",
    "# Sometimes images are really big\n",
    "Image.MAX_IMAGE_PIXELS = 1000000000 "
   ]
  },
  {
   "cell_type": "code",
   "execution_count": 2,
   "id": "22aa9d44",
   "metadata": {
    "execution": {
     "iopub.execute_input": "2025-04-07T04:12:35.736715Z",
     "iopub.status.busy": "2025-04-07T04:12:35.736152Z",
     "iopub.status.idle": "2025-04-07T04:12:35.744170Z",
     "shell.execute_reply": "2025-04-07T04:12:35.743636Z"
    },
    "papermill": {
     "duration": 0.012606,
     "end_time": "2025-04-07T04:12:35.745156",
     "exception": false,
     "start_time": "2025-04-07T04:12:35.732550",
     "status": "completed"
    },
    "tags": []
   },
   "outputs": [],
   "source": [
    "# Some useful definitions.\n",
    "\n",
    "class AffiliationWarning(UserWarning):\n",
    "    pass\n",
    "\n",
    "class AffiliationError(RuntimeError):\n",
    "    pass\n",
    "\n",
    "def validation(source: str):\n",
    "    \"\"\"Raises error paper during parsing of source file\n",
    "    \n",
    "    Allows checks before parsing TeX code.\n",
    "    \n",
    "    Raises AffiliationWarning\n",
    "    \"\"\"\n",
    "    check = mpia.affiliation_verifications(source, verbose=True)\n",
    "    if check is not True:\n",
    "        raise AffiliationError(\"mpia.affiliation_verifications: \" + check)\n",
    "\n",
    "        \n",
    "warnings.simplefilter('always', AffiliationWarning)\n",
    "\n",
    "\n",
    "def get_markdown_qrcode(paper_id: str):\n",
    "    \"\"\" Generate a qrcode to the arxiv page using qrserver.com\n",
    "    \n",
    "    :param paper: Arxiv paper\n",
    "    :returns: markdown text\n",
    "    \"\"\"\n",
    "    url = r\"https://api.qrserver.com/v1/create-qr-code/?size=100x100&data=\"\n",
    "    txt = f\"\"\"<img src={url}\"https://arxiv.org/abs/{paper_id}\">\"\"\"\n",
    "    txt = '<div id=\"qrcode\">' + txt + '</div>'\n",
    "    return txt\n",
    "\n",
    "\n",
    "def clean_non_western_encoded_characters_commands(text: str) -> str:\n",
    "    \"\"\" Remove non-western encoded characters from a string\n",
    "    List may need to grow.\n",
    "    \n",
    "    :param text: the text to clean\n",
    "    :return: the cleaned text\n",
    "    \"\"\"\n",
    "    text = re.sub(r\"(\\\\begin{CJK}{UTF8}{gbsn})(.*?)(\\\\end{CJK})\", r\"\\2\", text)\n",
    "    return text\n",
    "\n",
    "\n",
    "def get_initials(name: str) -> str:\n",
    "    \"\"\" Get the short name, e.g., A.-B. FamName\n",
    "    :param name: full name\n",
    "    :returns: initials\n",
    "    \"\"\"\n",
    "    initials = []\n",
    "    # account for non western names often in ()\n",
    "    if '(' in name:\n",
    "        name = clean_non_western_encoded_characters_commands(name)\n",
    "        suffix = re.findall(r\"\\((.*?)\\)\", name)[0]\n",
    "        name = name.replace(f\"({suffix})\", '')\n",
    "    else:\n",
    "        suffix = ''\n",
    "    split = name.split()\n",
    "    for token in split[:-1]:\n",
    "        if '-' in token:\n",
    "            current = '-'.join([k[0] + '.' for k in token.split('-')])\n",
    "        else:\n",
    "            current = token[0] + '.'\n",
    "        initials.append(current)\n",
    "    initials.append(split[-1].strip())\n",
    "    if suffix:\n",
    "        initials.append(f\"({suffix})\")\n",
    "    return ' '.join(initials)"
   ]
  },
  {
   "cell_type": "markdown",
   "id": "14bd6310",
   "metadata": {
    "papermill": {
     "duration": 0.002817,
     "end_time": "2025-04-07T04:12:35.750905",
     "exception": false,
     "start_time": "2025-04-07T04:12:35.748088",
     "status": "completed"
    },
    "tags": []
   },
   "source": [
    "## get list of arxiv paper candidates\n",
    "\n",
    "We use the MPIA mitarbeiter list webpage from mpia.de to get author names\n",
    "We then get all new papers from Arxiv and match authors"
   ]
  },
  {
   "cell_type": "code",
   "execution_count": 3,
   "id": "7ea813a8",
   "metadata": {
    "execution": {
     "iopub.execute_input": "2025-04-07T04:12:35.757734Z",
     "iopub.status.busy": "2025-04-07T04:12:35.757249Z",
     "iopub.status.idle": "2025-04-07T04:12:57.263594Z",
     "shell.execute_reply": "2025-04-07T04:12:57.262858Z"
    },
    "papermill": {
     "duration": 21.511166,
     "end_time": "2025-04-07T04:12:57.264963",
     "exception": false,
     "start_time": "2025-04-07T04:12:35.753797",
     "status": "completed"
    },
    "tags": []
   },
   "outputs": [],
   "source": [
    "# deal with the author list and edge cases of people that cannot be consistent on their name  \n",
    "\n",
    "def filter_non_scientists(name: str) -> bool:\n",
    "    \"\"\" Loose filter on expected authorships\n",
    "\n",
    "    removing IT, administration, technical staff\n",
    "    :param name: name\n",
    "    :returns: False if name is not a scientist\n",
    "    \"\"\"\n",
    "    remove_list = ['Licht', 'Binroth', 'Witzel', 'Jordan',\n",
    "                   'Zähringer', 'Scheerer', 'Hoffmann', 'Düe',\n",
    "                   'Hellmich', 'Enkler-Scharpegge', 'Witte-Nguy',\n",
    "                   'Dehen', 'Beckmann', 'Jager', 'Jäger'\n",
    "                  ]\n",
    "\n",
    "    for k in remove_list:\n",
    "        if k in name:\n",
    "            return False\n",
    "    return True\n",
    "\n",
    "def add_author_to_list(author_list: list) -> list:\n",
    "    \"\"\" Add author to list if not already in list\n",
    "    \n",
    "    :param author: author name\n",
    "    :param author_list: list of authors\n",
    "    :returns: updated list of authors\n",
    "    \"\"\"\n",
    "    add_list = ['T. Henning']\n",
    "\n",
    "    for author in add_list:\n",
    "        if author not in author_list:\n",
    "            author_list.append(author)\n",
    "    return author_list\n",
    "\n",
    "# get list from MPIA website\n",
    "# filter for non-scientists (mpia.get_mpia_mitarbeiter_list() does some filtering)\n",
    "mpia_authors = [k[1] for k in mpia.get_mpia_mitarbeiter_list() if filter_non_scientists(k[1])]\n",
    "# add some missing author because of inconsistencies in their MPIA name and author name on papers\n",
    "mpia_authors = add_author_to_list(mpia_authors)"
   ]
  },
  {
   "cell_type": "code",
   "execution_count": 4,
   "id": "2645e73a",
   "metadata": {
    "execution": {
     "iopub.execute_input": "2025-04-07T04:12:57.272574Z",
     "iopub.status.busy": "2025-04-07T04:12:57.272127Z",
     "iopub.status.idle": "2025-04-07T04:12:57.955103Z",
     "shell.execute_reply": "2025-04-07T04:12:57.954401Z"
    },
    "papermill": {
     "duration": 0.687948,
     "end_time": "2025-04-07T04:12:57.956258",
     "exception": false,
     "start_time": "2025-04-07T04:12:57.268310",
     "status": "completed"
    },
    "tags": []
   },
   "outputs": [
    {
     "name": "stdout",
     "output_type": "stream",
     "text": [
      "W. Brandner  ->  W. Brandner  |  ['W. Brandner']\n",
      "P. Garcia  ->  A. P. Garcia  |  ['P. Garcia']\n",
      "T. Henning  ->  T. Henning  |  ['T. Henning']\n",
      "S. Scheithauer  ->  S. Scheithauer  |  ['S. Scheithauer']\n",
      "P. Garcia  ->  A. P. Garcia  |  ['P. Garcia']\n"
     ]
    },
    {
     "name": "stdout",
     "output_type": "stream",
     "text": [
      "R. Burn  ->  R. Burn  |  ['R. Burn']\n",
      "T. Henning  ->  T. Henning  |  ['T. Henning']\n",
      "M. Kürster  ->  M. Kürster  |  ['M. Kürster']\n",
      "L. Acuña  ->  L. Acuña  |  ['L. Acuña']\n",
      "Arxiv has 59 new papers today\n",
      "          4 with possible author matches\n"
     ]
    }
   ],
   "source": [
    "new_papers = get_new_papers()\n",
    "# add manual references\n",
    "add_paper_refs = []\n",
    "new_papers.extend([get_paper_from_identifier(k) for k in add_paper_refs])\n",
    "\n",
    "def robust_call(fn, value, *args, **kwargs):\n",
    "    try:\n",
    "        return fn(value, *args, **kwargs)\n",
    "    except Exception:\n",
    "        return value\n",
    "\n",
    "candidates = []\n",
    "for paperk in new_papers:\n",
    "    # Check author list with their initials\n",
    "    normed_author_list = [robust_call(mpia.get_initials, k) for k in paperk['authors']]\n",
    "    hl_authors = highlight_authors_in_list(normed_author_list, mpia_authors, verbose=True)\n",
    "    matches = [(hl, orig) for hl, orig in zip(hl_authors, paperk['authors']) if 'mark' in hl]\n",
    "    paperk['authors'] = hl_authors\n",
    "    if matches:\n",
    "        # only select paper if an author matched our list\n",
    "        candidates.append(paperk)\n",
    "print(\"\"\"Arxiv has {0:,d} new papers today\"\"\".format(len(new_papers)))        \n",
    "print(\"\"\"          {0:,d} with possible author matches\"\"\".format(len(candidates)))"
   ]
  },
  {
   "cell_type": "markdown",
   "id": "3543b34a",
   "metadata": {
    "papermill": {
     "duration": 0.003113,
     "end_time": "2025-04-07T04:12:57.962902",
     "exception": false,
     "start_time": "2025-04-07T04:12:57.959789",
     "status": "completed"
    },
    "tags": []
   },
   "source": [
    "# Parse sources and generate relevant outputs\n",
    "\n",
    "From the candidates, we do the following steps:\n",
    "* get their tarball from ArXiv (and extract data)\n",
    "* find the main .tex file: find one with \\documentclass{...} (sometimes it's non trivial)\n",
    "* Check affiliations with :func:`validation`, which uses :func:`mpia.affiliation_verifications`\n",
    "* If passing the affiliations: we parse the .tex source\n",
    "   * inject sub-documents into the main (flatten the main document)\n",
    "   * parse structure, extract information (title, abstract, authors, figures...)\n",
    "   * handles `\\graphicspath` if provided\n",
    "* Generate the .md document."
   ]
  },
  {
   "cell_type": "code",
   "execution_count": 5,
   "id": "9576b79e",
   "metadata": {
    "execution": {
     "iopub.execute_input": "2025-04-07T04:12:57.970289Z",
     "iopub.status.busy": "2025-04-07T04:12:57.969804Z",
     "iopub.status.idle": "2025-04-07T04:15:38.251868Z",
     "shell.execute_reply": "2025-04-07T04:15:38.251070Z"
    },
    "papermill": {
     "duration": 160.290996,
     "end_time": "2025-04-07T04:15:38.256964",
     "exception": false,
     "start_time": "2025-04-07T04:12:57.965968",
     "status": "completed"
    },
    "scrolled": false,
    "tags": []
   },
   "outputs": [
    {
     "data": {
      "application/vnd.jupyter.widget-view+json": {
       "model_id": "fac1b3e260d449fba8185bf091a4636c",
       "version_major": 2,
       "version_minor": 0
      },
      "text/plain": [
       "  0%|          | 0/4 [00:00<?, ?it/s]"
      ]
     },
     "metadata": {},
     "output_type": "display_data"
    },
    {
     "name": "stdout",
     "output_type": "stream",
     "text": [
      "Retrieving document from  https://arxiv.org/e-print/2504.02908\n"
     ]
    },
    {
     "name": "stdout",
     "output_type": "stream",
     "text": [
      "extracting tarball to tmp_2504.02908... done.\n"
     ]
    },
    {
     "name": "stderr",
     "output_type": "stream",
     "text": [
      "/opt/hostedtoolcache/Python/3.9.21/x64/lib/python3.9/site-packages/arxiv_on_deck_2/latex.py:488: LatexWarning: Error parsing the document directly. Trying to recover.\n",
      "  warnings.warn(LatexWarning(f\"Error parsing the document directly. Trying to recover.\"))\n"
     ]
    },
    {
     "name": "stdout",
     "output_type": "stream",
     "text": [
      "✔ → 0:header\n",
      "  ↳ 7371:\\section{Introduction}\n",
      "✔ → 7371:\\section{Introduction}\n",
      "  ↳ 12370:\\section{Observations}\n",
      "✔ → 12370:\\section{Observations}\n",
      "  ↳ 13252:\\section{Yukawa correction to Newtonian force}\n"
     ]
    },
    {
     "name": "stdout",
     "output_type": "stream",
     "text": [
      "✔ → 13252:\\section{Yukawa correction to Newtonian force}\n",
      "  ↳ 26647:\\section{Conclusions}\n",
      "✔ → 26647:\\section{Conclusions}\n",
      "  ↳ 29355:\\section{Details about numerical integration}\n",
      "✔ → 29355:\\section{Details about numerical integration}\n",
      "  ↳ 30158:\\section{Coordinates transformations and inclusion of relativistic effects.}\n"
     ]
    },
    {
     "name": "stdout",
     "output_type": "stream",
     "text": [
      "✔ → 30158:\\section{Coordinates transformations and inclusion of relativistic effects.}\n",
      "  ↳ 42679:\\begin{appendix}\n",
      "✔ → 42679:\\begin{appendix}\n",
      "  ↳ 42696:\\section{Background galaxy number counts and shear noise-levels}\n",
      "✔ → 42696:\\section{Background galaxy number counts and shear noise-levels}\n",
      "  ↳ 43118:\\section{Title of Second appendix.....}\n",
      "✔ → 43118:\\section{Title of Second appendix.....}\n",
      "  ↳ 43448:\\begin{appendix}\n",
      "✔ → 43448:\\begin{appendix}\n",
      "  ↳ 43465:\\section{Background galaxy number counts and shear noise-levels}\n",
      "✔ → 43465:\\section{Background galaxy number counts and shear noise-levels}\n",
      "  ↳ 44064:\\begin{appendix}\n",
      "✔ → 44064:\\begin{appendix}\n",
      "  ↳ 44196:end\n"
     ]
    },
    {
     "name": "stdout",
     "output_type": "stream",
     "text": [
      "W. Brandner  ->  W. Brandner  |  ['W. Brandner']\n",
      "P. Garcia  ->  A. P. Garcia  |  ['P. Garcia']\n",
      "T. Henning  ->  T. Henning  |  ['T. Henning']\n",
      "S. Scheithauer  ->  S. Scheithauer  |  ['S. Scheithauer']\n"
     ]
    },
    {
     "name": "stderr",
     "output_type": "stream",
     "text": [
      "/opt/hostedtoolcache/Python/3.9.21/x64/lib/python3.9/site-packages/arxiv_on_deck_2/latex.py:132: LatexWarning: attempting recovering figure empty.eps\n",
      "  warnings.warn(LatexWarning(f'attempting recovering figure {image}'))\n",
      "/opt/hostedtoolcache/Python/3.9.21/x64/lib/python3.9/site-packages/arxiv_on_deck_2/latex.py:707: LatexWarning: Could not find graphic \\includegraphics[width=\\hsize]{empty.eps}\n",
      "  warnings.warn(LatexWarning(f\"Could not find graphic {k}\"))\n",
      "/opt/hostedtoolcache/Python/3.9.21/x64/lib/python3.9/site-packages/arxiv_on_deck_2/latex.py:132: LatexWarning: attempting recovering figure empty.eps\n",
      "  warnings.warn(LatexWarning(f'attempting recovering figure {image}'))\n",
      "/opt/hostedtoolcache/Python/3.9.21/x64/lib/python3.9/site-packages/arxiv_on_deck_2/latex.py:707: LatexWarning: Could not find graphic \\includegraphics[angle=-90,width=3cm]{empty.eps}\n",
      "  warnings.warn(LatexWarning(f\"Could not find graphic {k}\"))\n",
      "/opt/hostedtoolcache/Python/3.9.21/x64/lib/python3.9/site-packages/arxiv_on_deck_2/latex.py:132: LatexWarning: attempting recovering figure empty.eps\n",
      "  warnings.warn(LatexWarning(f'attempting recovering figure {image}'))\n",
      "/opt/hostedtoolcache/Python/3.9.21/x64/lib/python3.9/site-packages/arxiv_on_deck_2/latex.py:707: LatexWarning: Could not find graphic \\includegraphics[width=3cm]{empty.eps}\n",
      "  warnings.warn(LatexWarning(f\"Could not find graphic {k}\"))\n",
      "/opt/hostedtoolcache/Python/3.9.21/x64/lib/python3.9/site-packages/arxiv_on_deck_2/latex.py:132: LatexWarning: attempting recovering figure empty.eps\n",
      "  warnings.warn(LatexWarning(f'attempting recovering figure {image}'))\n",
      "/opt/hostedtoolcache/Python/3.9.21/x64/lib/python3.9/site-packages/arxiv_on_deck_2/latex.py:707: LatexWarning: Could not find graphic \\includegraphics[bb=10 20 100 300,width=3cm,clip]{empty.eps}\n",
      "  warnings.warn(LatexWarning(f\"Could not find graphic {k}\"))\n",
      "/opt/hostedtoolcache/Python/3.9.21/x64/lib/python3.9/site-packages/arxiv_on_deck_2/latex.py:132: LatexWarning: attempting recovering figure empty.eps\n",
      "  warnings.warn(LatexWarning(f'attempting recovering figure {image}'))\n",
      "/opt/hostedtoolcache/Python/3.9.21/x64/lib/python3.9/site-packages/arxiv_on_deck_2/latex.py:707: LatexWarning: Could not find graphic \\includegraphics[bb=10 20 100 300,clip]{empty.eps}\n",
      "  warnings.warn(LatexWarning(f\"Could not find graphic {k}\"))\n",
      "/opt/hostedtoolcache/Python/3.9.21/x64/lib/python3.9/site-packages/arxiv_on_deck_2/latex.py:132: LatexWarning: attempting recovering figure empty.eps\n",
      "  warnings.warn(LatexWarning(f'attempting recovering figure {image}'))\n",
      "/opt/hostedtoolcache/Python/3.9.21/x64/lib/python3.9/site-packages/arxiv_on_deck_2/latex.py:707: LatexWarning: Could not find graphic \\includegraphics[bb=10 20 100 300,clip]{empty.eps}\n",
      "  warnings.warn(LatexWarning(f\"Could not find graphic {k}\"))\n"
     ]
    },
    {
     "name": "stderr",
     "output_type": "stream",
     "text": [
      "/opt/hostedtoolcache/Python/3.9.21/x64/lib/python3.9/site-packages/arxiv_on_deck_2/latex.py:132: LatexWarning: attempting recovering figure empty.eps\n",
      "  warnings.warn(LatexWarning(f'attempting recovering figure {image}'))\n",
      "/opt/hostedtoolcache/Python/3.9.21/x64/lib/python3.9/site-packages/arxiv_on_deck_2/latex.py:707: LatexWarning: Could not find graphic \\includegraphics[bb=10 20 100 300,clip]{empty.eps}\n",
      "  warnings.warn(LatexWarning(f\"Could not find graphic {k}\"))\n",
      "/opt/hostedtoolcache/Python/3.9.21/x64/lib/python3.9/site-packages/arxiv_on_deck_2/latex.py:132: LatexWarning: attempting recovering figure 1787f23.eps\n",
      "  warnings.warn(LatexWarning(f'attempting recovering figure {image}'))\n",
      "/opt/hostedtoolcache/Python/3.9.21/x64/lib/python3.9/site-packages/arxiv_on_deck_2/latex.py:707: LatexWarning: Could not find graphic \\includegraphics[width=10.9cm]{1787f23.eps}\n",
      "  warnings.warn(LatexWarning(f\"Could not find graphic {k}\"))\n",
      "/opt/hostedtoolcache/Python/3.9.21/x64/lib/python3.9/site-packages/arxiv_on_deck_2/latex.py:132: LatexWarning: attempting recovering figure 1787f24.ps\n",
      "  warnings.warn(LatexWarning(f'attempting recovering figure {image}'))\n",
      "/opt/hostedtoolcache/Python/3.9.21/x64/lib/python3.9/site-packages/arxiv_on_deck_2/latex.py:707: LatexWarning: Could not find graphic \\includegraphics[width=16.4cm,clip]{1787f24.ps}\n",
      "  warnings.warn(LatexWarning(f\"Could not find graphic {k}\"))\n"
     ]
    },
    {
     "name": "stdout",
     "output_type": "stream",
     "text": [
      "Found 64 bibliographic references in tmp_2504.02908/aanda.bbl.\n",
      "Error retrieving bib data for Hees:2017aal: 'author'\n",
      "Retrieving document from  https://arxiv.org/e-print/2504.03331\n"
     ]
    },
    {
     "name": "stdout",
     "output_type": "stream",
     "text": [
      "extracting tarball to tmp_2504.03331..."
     ]
    },
    {
     "name": "stdout",
     "output_type": "stream",
     "text": [
      " done.\n",
      "Retrieving document from  https://arxiv.org/e-print/2504.03364\n"
     ]
    },
    {
     "name": "stderr",
     "output_type": "stream",
     "text": [
      "/opt/hostedtoolcache/Python/3.9.21/x64/lib/python3.9/site-packages/IPython/core/interactiveshell.py:3550: LatexWarning: Multiple tex files.\n",
      "\n",
      "  exec(code_obj, self.user_global_ns, self.user_ns)\n",
      "/opt/hostedtoolcache/Python/3.9.21/x64/lib/python3.9/site-packages/IPython/core/interactiveshell.py:3550: LatexWarning: Found documentclass in tmp_2504.03331/ms-R4.tex\n",
      "\n",
      "  exec(code_obj, self.user_global_ns, self.user_ns)\n"
     ]
    },
    {
     "name": "stdout",
     "output_type": "stream",
     "text": [
      "extracting tarball to tmp_2504.03364..."
     ]
    },
    {
     "name": "stdout",
     "output_type": "stream",
     "text": [
      " done.\n"
     ]
    },
    {
     "name": "stdout",
     "output_type": "stream",
     "text": [
      "R. Burn  ->  R. Burn  |  ['R. Burn']\n",
      "T. Henning  ->  T. Henning  |  ['T. Henning']\n",
      "M. Kürster  ->  M. Kürster  |  ['M. Kürster']\n"
     ]
    },
    {
     "name": "stderr",
     "output_type": "stream",
     "text": [
      "/opt/hostedtoolcache/Python/3.9.21/x64/lib/python3.9/site-packages/arxiv_on_deck_2/latex.py:132: LatexWarning: attempting recovering figure .png\n",
      "  warnings.warn(LatexWarning(f'attempting recovering figure {image}'))\n",
      "/opt/hostedtoolcache/Python/3.9.21/x64/lib/python3.9/site-packages/arxiv_on_deck_2/latex.py:707: LatexWarning: Could not find graphic \\includegraphics[width=0.32\\textwidth]{{Fig/sBGLs_0.95}.png}\n",
      "  warnings.warn(LatexWarning(f\"Could not find graphic {k}\"))\n",
      "/opt/hostedtoolcache/Python/3.9.21/x64/lib/python3.9/site-packages/arxiv_on_deck_2/latex.py:132: LatexWarning: attempting recovering figure .png\n",
      "  warnings.warn(LatexWarning(f'attempting recovering figure {image}'))\n",
      "/opt/hostedtoolcache/Python/3.9.21/x64/lib/python3.9/site-packages/arxiv_on_deck_2/latex.py:707: LatexWarning: Could not find graphic \\includegraphics[width=0.32\\textwidth]{{Fig/sBGLs_1.8}.png}\n",
      "  warnings.warn(LatexWarning(f\"Could not find graphic {k}\"))\n",
      "/opt/hostedtoolcache/Python/3.9.21/x64/lib/python3.9/site-packages/arxiv_on_deck_2/latex.py:132: LatexWarning: attempting recovering figure .png\n",
      "  warnings.warn(LatexWarning(f'attempting recovering figure {image}'))\n",
      "/opt/hostedtoolcache/Python/3.9.21/x64/lib/python3.9/site-packages/arxiv_on_deck_2/latex.py:707: LatexWarning: Could not find graphic \\includegraphics[width=0.32\\textwidth]{{Fig/sBGLs_22.5}.png}\n",
      "  warnings.warn(LatexWarning(f\"Could not find graphic {k}\"))\n"
     ]
    },
    {
     "name": "stdout",
     "output_type": "stream",
     "text": [
      "Found 102 bibliographic references in tmp_2504.03364/aamaintex.bbl.\n",
      "Issues with the citations\n",
      "syntax error in line 578: '=' expected\n",
      "Retrieving document from  https://arxiv.org/e-print/2504.03572\n"
     ]
    },
    {
     "name": "stdout",
     "output_type": "stream",
     "text": [
      "extracting tarball to tmp_2504.03572..."
     ]
    },
    {
     "name": "stdout",
     "output_type": "stream",
     "text": [
      " done.\n"
     ]
    },
    {
     "name": "stdout",
     "output_type": "stream",
     "text": [
      "L. Acuña  ->  L. Acuña  |  ['L. Acuña']\n"
     ]
    },
    {
     "name": "stdout",
     "output_type": "stream",
     "text": [
      "Found 88 bibliographic references in tmp_2504.03572/Gl410_SPIRou_SOPHIE.bbl.\n"
     ]
    }
   ],
   "source": [
    "documents = []\n",
    "failed = []\n",
    "for paper in tqdm(candidates):\n",
    "    # debug crap\n",
    "    paper['identifier'] = paper['identifier'].lower().replace('arxiv:', '').replace(r'\\n', '').strip()\n",
    "    paper_id = paper['identifier']\n",
    "    \n",
    "    folder = f'tmp_{paper_id}'\n",
    "\n",
    "    try:\n",
    "        if not os.path.isdir(folder):\n",
    "            folder = retrieve_document_source(f\"{paper_id}\", f'tmp_{paper_id}')\n",
    "        \n",
    "        try:\n",
    "            doc = latex.LatexDocument(folder, validation=validation)    \n",
    "        except AffiliationError as affilerror:\n",
    "            msg = f\"ArXiv:{paper_id:s} is not an MPIA paper... \" + str(affilerror)\n",
    "            failed.append((paper, \"affiliation error: \" + str(affilerror) ))\n",
    "            continue\n",
    "        \n",
    "        # Hack because sometimes author parsing does not work well\n",
    "        if (len(doc.authors) != len(paper['authors'])):\n",
    "            doc._authors = paper['authors']\n",
    "        else:\n",
    "            # highlight authors (FIXME: doc.highlight_authors)\n",
    "            # done on arxiv paper already\n",
    "            doc._authors = highlight_authors_in_list(\n",
    "                [get_initials(k) for k in doc.authors], \n",
    "                mpia_authors, verbose=True)\n",
    "        if (doc.abstract) in (None, ''):\n",
    "            doc._abstract = paper['abstract']\n",
    "            \n",
    "        doc.comment = (get_markdown_badge(paper_id) + \n",
    "                       \"<mark>Appeared on: \" + paper['date'] + \"</mark> - \")\n",
    "        if paper['comments']:\n",
    "            doc.comment += \" _\" + paper['comments'] + \"_\"\n",
    "        \n",
    "        full_md = doc.generate_markdown_text()\n",
    "        \n",
    "        full_md += get_markdown_qrcode(paper_id)\n",
    "        \n",
    "        # replace citations\n",
    "        try:\n",
    "            bibdata = latex_bib.LatexBib.from_doc(doc)\n",
    "            full_md = latex_bib.replace_citations(full_md, bibdata)\n",
    "        except Exception as e:\n",
    "            print(\"Issues with the citations\")\n",
    "            print(e)\n",
    "        \n",
    "        documents.append((paper_id, full_md))\n",
    "    except Exception as e:\n",
    "        warnings.warn(latex.LatexWarning(f\"{paper_id:s} did not run properly\\n\" +\n",
    "                                         str(e)\n",
    "                                        ))\n",
    "        failed.append((paper, \"latex error \" + str(e)))"
   ]
  },
  {
   "cell_type": "markdown",
   "id": "2505a25c",
   "metadata": {
    "papermill": {
     "duration": 0.004354,
     "end_time": "2025-04-07T04:15:38.265849",
     "exception": false,
     "start_time": "2025-04-07T04:15:38.261495",
     "status": "completed"
    },
    "tags": []
   },
   "source": [
    "### Export the logs\n",
    "\n",
    "Throughout, we also keep track of the logs per paper. see `logs-{today date}.md` "
   ]
  },
  {
   "cell_type": "code",
   "execution_count": 6,
   "id": "d733828a",
   "metadata": {
    "execution": {
     "iopub.execute_input": "2025-04-07T04:15:38.275814Z",
     "iopub.status.busy": "2025-04-07T04:15:38.275288Z",
     "iopub.status.idle": "2025-04-07T04:15:38.290291Z",
     "shell.execute_reply": "2025-04-07T04:15:38.289659Z"
    },
    "papermill": {
     "duration": 0.021214,
     "end_time": "2025-04-07T04:15:38.291349",
     "exception": false,
     "start_time": "2025-04-07T04:15:38.270135",
     "status": "completed"
    },
    "scrolled": false,
    "tags": []
   },
   "outputs": [
    {
     "data": {
      "text/markdown": [
       "## Successful papers"
      ],
      "text/plain": [
       "<IPython.core.display.Markdown object>"
      ]
     },
     "metadata": {},
     "output_type": "display_data"
    },
    {
     "data": {
      "text/markdown": [
       "\n",
       "|||\n",
       "|---:|:---|\n",
       "| [![arXiv](https://img.shields.io/badge/arXiv-2504.02908-b31b1b.svg)](https://arxiv.org/abs/2504.02908) | **On the presence of a fifth force at the Galactic Center**  |\n",
       "|| G. Collaboration, et al. -- incl., <mark>W. Brandner</mark>, <mark>P. Garcia</mark>, <mark>T. Henning</mark>, <mark>S. Scheithauer</mark> |\n",
       "|*Appeared on*| *2025-04-07*|\n",
       "|*Comments*| *Submitted to A&A*|\n",
       "|**Abstract**|            Aims: The presence of a Yukawa-like correction to Newtonian gravity is investigated at the Galactic Center, leading to a new upper limit for the intensity of such a correction. Methods: We perform a Markov Chain Monte Carlo analysis using the astrometric and spectroscopic data of star S$2$ collected at the Very Large Telescope by GRAVITY, NACO and SINFONI instruments, covering the period from $1992$ to $2022$. Results: The precision of the GRAVITY instrument allows us to derive the most stringent upper limit at the Galactic Center for the intensity of the Yukawa contribution ($\\propto \\, \\alpha e^{- \\lambda r}$) to be $|\\alpha| < 0.003$ for a scale length $\\lambda = 3 \\cdot 10^{13}\\, \\rm m\\, (\\sim 200 \\, \\rm AU)$. This improves by roughly one order of magnitude all estimates obtained in previous works.         |"
      ],
      "text/plain": [
       "[2504.02908] On the presence of a fifth force at the Galactic Center\n",
       "\tG. Collaboration, et al. -- incl., <mark>W. Brandner</mark>, <mark>P. Garcia</mark>, <mark>T. Henning</mark>, <mark>S. Scheithauer</mark>"
      ]
     },
     "metadata": {},
     "output_type": "display_data"
    },
    {
     "data": {
      "text/markdown": [
       "\n",
       "|||\n",
       "|---:|:---|\n",
       "| [![arXiv](https://img.shields.io/badge/arXiv-2504.03364-b31b1b.svg)](https://arxiv.org/abs/2504.03364) | **The CARMENES search for exoplanets around M dwarfs. Occurrence rates of Earth-like planets around very low-mass stars**  |\n",
       "|| A. Kaminski, et al. -- incl., <mark>R. Burn</mark>, <mark>T. Henning</mark>, <mark>M. Kürster</mark> |\n",
       "|*Appeared on*| *2025-04-07*|\n",
       "|*Comments*| *Number of pages: 25; number of figures: 23 (12 in main + 11 in appendix). Accepted in A&A; DOI (pending): https://doi.org/10.1051/0004-6361/202453381 (Volume 696, Article number A101)*|\n",
       "|**Abstract**|            Aims: Previous estimates of planet occurrence rates in the CARMENES survey indicated increased numbers of planets on short orbits for M dwarfs with masses below 0.34\\,M$_\\odot$. Here we focused on the lowest-mass stars in the survey, comprising 15 inactive targets with masses under 0.16\\,M$_\\odot$. Methods: To correct for detection biases, we determined detection sensitivity maps for individual targets and the entire sample. Using Monte Carlo simulations, we estimated planet occurrence rates for orbital periods of 1\\,d to 100\\,d and minimum masses from 0.5\\,M$_\\oplus$ to 10\\,M$_\\oplus$. Results: The radial velocity (RV) data from CARMENES reveal four new planets around three stars in our sample, namely G~268--110\\,b, G~261--6\\,b, and G~192--15\\,b and c. All three b planets have minimum masses of 1.03--1.52\\,M$_\\oplus$ and orbital periods of 1.43--5.45\\,d, while G~192--15\\,c is a 14.3\\,M$_\\oplus$ planet on a wide, eccentric orbit with $P \\approx 1218$\\,d and $e \\approx 0.68$. Our occurrence rates suggest considerable dependencies with respect to stellar masses. For planets below 3\\,M$_\\oplus$ we found rates consistent with one planet per star across all investigated periods, but the rates decrease almost by an order of magnitude for larger planet masses up to 10\\,M$_\\oplus$. Compared to previous studies, low-mass stars tend to harbor more planets with $P <10$\\,d. We also demonstrate that synthetic planet populations based on the standard core accretion scenario predict slightly more massive planets on wider orbits than observed. Conclusions: Our findings confirm that planet occurrence rates vary with stellar masses even among M dwarfs, as we found more planets with lower masses and on shorter orbits in our subsample of very low-mass stars compared to more massive M dwarfs. Therefore, we emphasize the need for additional differentiation in future studies.         |"
      ],
      "text/plain": [
       "[2504.03364] The CARMENES search for exoplanets around M dwarfs. Occurrence rates of Earth-like planets around very low-mass stars\n",
       "\tA. Kaminski, et al. -- incl., <mark>R. Burn</mark>, <mark>T. Henning</mark>, <mark>M. Kürster</mark>"
      ]
     },
     "metadata": {},
     "output_type": "display_data"
    },
    {
     "data": {
      "text/markdown": [
       "\n",
       "|||\n",
       "|---:|:---|\n",
       "| [![arXiv](https://img.shields.io/badge/arXiv-2504.03572-b31b1b.svg)](https://arxiv.org/abs/2504.03572) | **Characterizing planetary systems with SPIRou: Detection of a sub-Neptune in a 6 day period orbit around the M dwarf Gl 410**  |\n",
       "|| A. Carmona, et al. -- incl., <mark>L. Acuña</mark> |\n",
       "|*Appeared on*| *2025-04-07*|\n",
       "|*Comments*| *Accepted by A&A, 4 April 2025; 35 pages*|\n",
       "|**Abstract**|            The search of exoplanets around nearby M dwarfs is a crucial milestone to perform the census of planetary systems in the vicinity of our Solar System. Since 2018 our team is carrying a radial-velocity blind search program for planets around nearby M dwarfs with the near-IR spectro-polarimeter and velocimeter SPIRou at the CFHT and the optical velocimeter SOPHIE at the OHP in France. Here we present our results on Gl 410, a 0.55 Msun 480+-150 Myr old active M dwarf distant 12 pc. We use the line-by-line (LBL) technique to measure the RVs with SPIRou and the template matching method with SOPHIE. Three different methods, two based in principal component analysis (PCA), are used to clean the SPIRou RVs for systematics. Gaussian processes (GP) modeling is applied to correct the SOPHIE RVs for stellar activity. The l1 and apodize sine periodogram (ASP) analysis is used to search for planetary signals in the SPIRou data taking into account activity indicators. We analyse TESS data and search for planetary transits. We report the detection of a M sin(i)=8.4+-1.3 Mearth sub-Neptune planet at a period of 6.020+-0.004 days in circular orbit with SPIRou. The same signal, although with lower significance, is also retrieved in the SOPHIE RV data after correction for activity using a GP trained on SPIRou's longitudinal magnetic field (Bl) measurements. TESS data indicates that the planet is not transiting. We find within the SPIRou wPCA RVs tentative evidence for two additional planetary signals at 2.99 and 18.7 days. In conclusion, infrared RVs are a powerful method to detect extrasolar planets around active M dwarfs, care should be taken however to correct/filter systematics generated by residuals of the telluric correction or small structures in the detector plane. The LBL technique combined with PCA offers a promising way to reach this objective. Further monitoring of Gl 410 is necessary.         |"
      ],
      "text/plain": [
       "[2504.03572] Characterizing planetary systems with SPIRou: Detection of a sub-Neptune in a 6 day period orbit around the M dwarf Gl 410\n",
       "\tA. Carmona, et al. -- incl., <mark>L. Acuña</mark>"
      ]
     },
     "metadata": {},
     "output_type": "display_data"
    },
    {
     "data": {
      "text/markdown": [
       "## Failed papers"
      ],
      "text/plain": [
       "<IPython.core.display.Markdown object>"
      ]
     },
     "metadata": {},
     "output_type": "display_data"
    },
    {
     "data": {
      "text/markdown": [
       "\n",
       "|||\n",
       "|---:|:---|\n",
       "| [![arXiv](https://img.shields.io/badge/arXiv-2504.03331-b31b1b.svg)](https://arxiv.org/abs/2504.03331) | **The Galactic-Centre Arms inferred from ACES (ALMA CMZ Exploration Survey)**  |\n",
       "|| Y. Sofue, et al. -- incl., <mark>P. Garcia</mark> |\n",
       "|*Appeared on*| *2025-04-07*|\n",
       "|*Comments*| *Accepted for PASJ, 20 pages, 19 figures*|\n",
       "|**Abstract**|            Analyzing longitude-velocity diagrams (LVDs) in the CS(J=2-1) and H13CN(J=1-0) molecular lines from the internal release data of the ALMA Central-Molecular-Zone Exploration Survey (ACES) and in the 13CO (J=1-0) line from the Nobeyama Galactic-Centre (GC) survey, we identify six GC Arms as prominent straight LV ridges. In addition to the currently known Arms I to IV, we identify a new inner arm, Arm V, and further highlight the circum-nuclear disc (CND) as Arm VI. Integrated intensity maps of the Arms on the sky suggest that most of the Arms compose ring-like structures inclined from the Galactic plane. We determine the radii (curvatures) of the Arms using the velocity-gradient ($dv/dl$) method, assuming that the arms are rotating on circular orbits at a constant velocity of $\\sim 150$ km/s. We show that Arms I and II compose the main ring structure of the CMZ with radii $\\sim 100$--120 pc; Arm III is a dense arm 42 pc from the GC; Arm IV is a clear and narrow arm 20 pc from the GC; and Arm V is a faint, long arm of 8.2 pc radius. We show that the circum-nuclear disc (CND) composes the sixth arm, Arm VI, of radius $\\sim 2.3$ pc associated with bifurcated spiral fins. We also discuss the association of the 20- and 50-km/s clouds with these Arms. The radii of the arms fall on an empirical relation $R\\sim 630 (2/5)^N$ for $N=1$ (Arm I) to 6 (VI), suggesting either discrete rings or a logarithmic spiral with pitch angle $\\sim 22^\\circ$. The vertical full extent of the arm increases with radius and is represented by $z\\sim 0.7 (R/1 {\\rm pc})^{0.7}$ pc. The tilt angle of the arms from the Galactic plane, or the warping, increases rapidly toward the GC.         |\n",
       "|<p style=\"color:green\"> **ERROR** </p>| <p style=\"color:green\">affiliation error: mpia.affiliation_verifications: 'Planck' keyword not found.</p> |"
      ],
      "text/plain": [
       "<IPython.core.display.Markdown object>"
      ]
     },
     "metadata": {},
     "output_type": "display_data"
    }
   ],
   "source": [
    "import datetime\n",
    "today = str(datetime.date.today())\n",
    "logfile = f\"_build/html/logs/log-{today}.md\"\n",
    "\n",
    "\n",
    "with open(logfile, 'w') as logs:\n",
    "    # Success\n",
    "    logs.write(f'# Arxiv on Deck 2: Logs - {today}\\n\\n')\n",
    "    logs.write(\"\"\"* Arxiv had {0:,d} new papers\\n\"\"\".format(len(new_papers)))\n",
    "    logs.write(\"\"\"    * {0:,d} with possible author matches\\n\\n\"\"\".format(len(candidates)))\n",
    "    logs.write(\"## Sucessful papers\\n\\n\")\n",
    "    display(Markdown(\"## Successful papers\"))\n",
    "    success = [k[0] for k in documents]\n",
    "    for candid in candidates:\n",
    "        if candid['identifier'].split(':')[-1] in success:\n",
    "            display(candid)\n",
    "            logs.write(candid.generate_markdown_text() + '\\n\\n')\n",
    "\n",
    "    ## failed\n",
    "    logs.write(\"## Failed papers\\n\\n\")\n",
    "    display(Markdown(\"## Failed papers\"))\n",
    "    failed = sorted(failed, key=lambda x: x[1])\n",
    "    current_reason = \"\"\n",
    "    for paper, reason in failed:\n",
    "        if 'affiliation' in reason:\n",
    "            color = 'green'\n",
    "        else:\n",
    "            color = 'red'\n",
    "        data = Markdown(\n",
    "                paper.generate_markdown_text() + \n",
    "                f'\\n|<p style=\"color:{color:s}\"> **ERROR** </p>| <p style=\"color:{color:s}\">{reason:s}</p> |'\n",
    "               )\n",
    "        if reason != current_reason:\n",
    "            logs.write(f'### {reason:s} \\n\\n')\n",
    "            current_reason = reason\n",
    "        logs.write(data.data + '\\n\\n')\n",
    "        \n",
    "        # only display here the important errors (all in logs)\n",
    "        # if color in ('red',):\n",
    "        display(data)"
   ]
  },
  {
   "cell_type": "markdown",
   "id": "472d20ee",
   "metadata": {
    "papermill": {
     "duration": 0.004761,
     "end_time": "2025-04-07T04:15:38.301160",
     "exception": false,
     "start_time": "2025-04-07T04:15:38.296399",
     "status": "completed"
    },
    "tags": []
   },
   "source": [
    "## Export documents\n",
    "\n",
    "We now write the .md files and export relevant images"
   ]
  },
  {
   "cell_type": "code",
   "execution_count": 7,
   "id": "d426aed9",
   "metadata": {
    "execution": {
     "iopub.execute_input": "2025-04-07T04:15:38.311877Z",
     "iopub.status.busy": "2025-04-07T04:15:38.311497Z",
     "iopub.status.idle": "2025-04-07T04:15:38.318451Z",
     "shell.execute_reply": "2025-04-07T04:15:38.317778Z"
    },
    "papermill": {
     "duration": 0.013495,
     "end_time": "2025-04-07T04:15:38.319518",
     "exception": false,
     "start_time": "2025-04-07T04:15:38.306023",
     "status": "completed"
    },
    "tags": []
   },
   "outputs": [],
   "source": [
    "def export_markdown_summary(md: str, md_fname:str, directory: str):\n",
    "    \"\"\"Export MD document and associated relevant images\"\"\"\n",
    "    import os\n",
    "    import shutil\n",
    "    import re\n",
    "\n",
    "    if (os.path.exists(directory) and not os.path.isdir(directory)):\n",
    "        raise RuntimeError(f\"a non-directory file exists with name {directory:s}\")\n",
    "\n",
    "    if (not os.path.exists(directory)):\n",
    "        print(f\"creating directory {directory:s}\")\n",
    "        os.mkdir(directory)\n",
    "\n",
    "    fig_fnames = (re.compile(r'\\[Fig.*\\]\\((.*)\\)').findall(md) + \n",
    "                  re.compile(r'\\<img src=\"([^>\\s]*)\"[^>]*/>').findall(md))\n",
    "    print(\"found figures\", fig_fnames)\n",
    "    for fname in fig_fnames:\n",
    "        if 'http' in fname:\n",
    "            # No need to copy online figures\n",
    "            continue\n",
    "        if not os.path.exists(fname):\n",
    "            print(\"file not found\", fname)\n",
    "            continue\n",
    "        print(\"copying \", fname, \"to\", directory)\n",
    "        destdir = os.path.join(directory, os.path.dirname(fname))\n",
    "        destfname = os.path.join(destdir, os.path.basename(fname))\n",
    "        try:\n",
    "            os.makedirs(destdir)\n",
    "        except FileExistsError:\n",
    "            pass\n",
    "        shutil.copy(fname, destfname)\n",
    "    with open(os.path.join(directory, md_fname), 'w') as fout:\n",
    "        fout.write(md)\n",
    "    print(\"exported in \", os.path.join(directory, md_fname))\n",
    "    [print(\"    + \" + os.path.join(directory,fk)) for fk in fig_fnames]"
   ]
  },
  {
   "cell_type": "code",
   "execution_count": 8,
   "id": "014d04a4",
   "metadata": {
    "execution": {
     "iopub.execute_input": "2025-04-07T04:15:38.330241Z",
     "iopub.status.busy": "2025-04-07T04:15:38.329880Z",
     "iopub.status.idle": "2025-04-07T04:15:38.341117Z",
     "shell.execute_reply": "2025-04-07T04:15:38.340500Z"
    },
    "papermill": {
     "duration": 0.017705,
     "end_time": "2025-04-07T04:15:38.342216",
     "exception": false,
     "start_time": "2025-04-07T04:15:38.324511",
     "status": "completed"
    },
    "tags": []
   },
   "outputs": [
    {
     "name": "stdout",
     "output_type": "stream",
     "text": [
      "found figures ['', '', 'tmp_2504.02908/./confidence_interval_hees.png', 'tmp_2504.02908/./comparison_newton.png']\n",
      "file not found \n",
      "file not found \n",
      "copying  tmp_2504.02908/./confidence_interval_hees.png to _build/html/\n",
      "copying  tmp_2504.02908/./comparison_newton.png to _build/html/\n",
      "exported in  _build/html/2504.02908.md\n",
      "    + _build/html/\n",
      "    + _build/html/\n",
      "    + _build/html/tmp_2504.02908/./confidence_interval_hees.png\n",
      "    + _build/html/tmp_2504.02908/./comparison_newton.png\n",
      "found figures ['tmp_2504.03364/./Fig/sensmap_average.png', 'tmp_2504.03364/./Fig/Phased_RV_P1_1d_nores_nobin_errors_parlist.png', 'tmp_2504.03364/./Fig/GLS_signal_search_J01048-181.png']\n",
      "copying  tmp_2504.03364/./Fig/sensmap_average.png to _build/html/\n",
      "copying  tmp_2504.03364/./Fig/Phased_RV_P1_1d_nores_nobin_errors_parlist.png to _build/html/\n",
      "copying  tmp_2504.03364/./Fig/GLS_signal_search_J01048-181.png to _build/html/\n",
      "exported in  _build/html/2504.03364.md\n",
      "    + _build/html/tmp_2504.03364/./Fig/sensmap_average.png\n",
      "    + _build/html/tmp_2504.03364/./Fig/Phased_RV_P1_1d_nores_nobin_errors_parlist.png\n",
      "    + _build/html/tmp_2504.03364/./Fig/GLS_signal_search_J01048-181.png\n",
      "found figures ['tmp_2504.03572/./GL410_lbl2bervzp.png', 'tmp_2504.03572/./GL410_wPCA.png', 'tmp_2504.03572/./GL410_Wapiti.png', 'tmp_2504.03572/./GL410_wPCA_2planet.png', 'tmp_2504.03572/./GL410_corner_bell.png']\n",
      "copying  tmp_2504.03572/./GL410_lbl2bervzp.png to _build/html/\n",
      "copying  tmp_2504.03572/./GL410_wPCA.png to _build/html/\n",
      "copying  tmp_2504.03572/./GL410_Wapiti.png to _build/html/\n",
      "copying  tmp_2504.03572/./GL410_wPCA_2planet.png to _build/html/\n",
      "copying  tmp_2504.03572/./GL410_corner_bell.png to _build/html/\n",
      "exported in  _build/html/2504.03572.md\n",
      "    + _build/html/tmp_2504.03572/./GL410_lbl2bervzp.png\n",
      "    + _build/html/tmp_2504.03572/./GL410_wPCA.png\n",
      "    + _build/html/tmp_2504.03572/./GL410_Wapiti.png\n",
      "    + _build/html/tmp_2504.03572/./GL410_wPCA_2planet.png\n",
      "    + _build/html/tmp_2504.03572/./GL410_corner_bell.png\n"
     ]
    }
   ],
   "source": [
    "for paper_id, md in documents:\n",
    "    export_markdown_summary(md, f\"{paper_id:s}.md\", '_build/html/')"
   ]
  },
  {
   "cell_type": "markdown",
   "id": "f087a0a7",
   "metadata": {
    "papermill": {
     "duration": 0.004932,
     "end_time": "2025-04-07T04:15:38.352222",
     "exception": false,
     "start_time": "2025-04-07T04:15:38.347290",
     "status": "completed"
    },
    "tags": []
   },
   "source": [
    "## Display the papers\n",
    "\n",
    "Not necessary but allows for a quick check."
   ]
  },
  {
   "cell_type": "code",
   "execution_count": 9,
   "id": "fd25f625",
   "metadata": {
    "execution": {
     "iopub.execute_input": "2025-04-07T04:15:38.363151Z",
     "iopub.status.busy": "2025-04-07T04:15:38.362764Z",
     "iopub.status.idle": "2025-04-07T04:15:38.370156Z",
     "shell.execute_reply": "2025-04-07T04:15:38.369636Z"
    },
    "papermill": {
     "duration": 0.013906,
     "end_time": "2025-04-07T04:15:38.371156",
     "exception": false,
     "start_time": "2025-04-07T04:15:38.357250",
     "status": "completed"
    },
    "scrolled": false,
    "tags": []
   },
   "outputs": [
    {
     "data": {
      "text/markdown": [
       "<div class=\"macros\" style=\"visibility:hidden;\">\n",
       "$\\newcommand{\\ensuremath}{}$\n",
       "$\\newcommand{\\xspace}{}$\n",
       "$\\newcommand{\\object}[1]{\\texttt{#1}}$\n",
       "$\\newcommand{\\farcs}{{.}''}$\n",
       "$\\newcommand{\\farcm}{{.}'}$\n",
       "$\\newcommand{\\arcsec}{''}$\n",
       "$\\newcommand{\\arcmin}{'}$\n",
       "$\\newcommand{\\ion}[2]{#1#2}$\n",
       "$\\newcommand{\\textsc}[1]{\\textrm{#1}}$\n",
       "$\\newcommand{\\hl}[1]{\\textrm{#1}}$\n",
       "$\\newcommand{\\footnote}[1]{}$\n",
       "$\\newcommand{\\La}{\\mathcal{L}}$\n",
       "$\\newcommand{\\Lb}{\\pazocal{L}}$\n",
       "$\\newcommand{\\af}[1]{{\\textcolor{red}{\\sf{[Arianna: #1]}} }}$\n",
       "$\\newcommand{\\beq}{\\begin{equation}}$\n",
       "$\\newcommand{\\eeq}{\\end{equation}}$\n",
       "$\\usepackage{calrsfs}$\n",
       "$\\DeclareMathAlphabet{\\pazocal}{OMS}{zplm}{m}{n}$\n",
       "$\\newcommand{\\La}{\\mathcal{L}}$\n",
       "$\\newcommand{\\Lb}{\\pazocal{L}}$\n",
       "$\\newcommand{\\af}[1]{{\\textcolor{red}{\\sf{[Arianna: #1]}} }}$\n",
       "$\\begin{document}$\n",
       "$   \\title{On the presence of a fifth force at the Galactic Center}$\n",
       "$\\author{$\n",
       "$    The GRAVITY Collaboration\\fnmsep\\thanks{$\n",
       "$    GRAVITY is developed in collaboration by MPE, LESIA of Paris Observatory / CNRS / Sorbonne Université / Univ. Paris Diderot, and IPAG of Université Grenoble Alpes / CNRS, MPIA, Univ. of Cologne, CENTRA - Centro de Astrofisica e Gravitação, and ESO. }$\n",
       "$    :$\n",
       "$    K.~Abd El Dayem             \\inst{1}            \\and$\n",
       "$    R.~Abuter                   \\inst{4}            \\and$\n",
       "$    N.~Aimar                    \\inst{10, 7}            \\and$\n",
       "$    P.~Amaro Seoane             \\inst{14,2,19}   \\and$\n",
       "$    A.~Amorim                   \\inst{8,7}          \\and$\n",
       "$    J.P.~Berger                 \\inst{3,4}          \\and$\n",
       "$    H.~Bonnet                   \\inst{4}            \\and$\n",
       "$    G.~Bourdarot                \\inst{2}            \\and$\n",
       "$    W.~Brandner                 \\inst{5}            \\and$\n",
       "$    V.~Cardoso                  \\inst{7,16}         \\and$\n",
       "$    Y.~Clénet                   \\inst{1}            \\and$\n",
       "$    R.~Davies                   \\inst{2}            \\and$\n",
       "$    P.T.~de~Zeeuw               \\inst{20}           \\and$\n",
       "$    A.~Drescher                 \\inst{2}            \\and$\n",
       "$    A.~Eckart                   \\inst{6,13}         \\and$\n",
       "$    F.~Eisenhauer               \\inst{2,18}         \\and$\n",
       "$    H.~Feuchtgruber             \\inst{2}            \\and$\n",
       "$    G.~Finger                   \\inst{2}            \\and$\n",
       "$    N.M.~Förster~Schreiber      \\inst{2}            \\and$\n",
       "$    A.~Foschi                   \\inst{1, 2}\\thanks{Corresponding author: A.~Foschi (arianna.foschi{@}obspm.fr).}          \\and$\n",
       "$    P.~Garcia                   \\inst{10,7}         \\and$\n",
       "$    E.~Gendron                  \\inst{1}            \\and$\n",
       "$    R.~Genzel                   \\inst{2,11}         \\and$\n",
       "$    S.~Gillessen                \\inst{2}            \\and$\n",
       "$    M.~Hartl                    \\inst{2}            \\and$\n",
       "$    X.~Haubois                  \\inst{9}            \\and$\n",
       "$    F.~Haussmann                \\inst{2}            \\and$\n",
       "$    T.~Henning                  \\inst{5}            \\and$\n",
       "$    S.~Hippler                  \\inst{5}            \\and$\n",
       "$    M.~Horrobin                 \\inst{6}            \\and$\n",
       "$    L.~Jochum                   \\inst{9}            \\and$\n",
       "$    L.~Jocou                    \\inst{3}            \\and$\n",
       "$    A.~Kaufer                   \\inst{9}            \\and$\n",
       "$    P.~Kervella                 \\inst{1}            \\and$\n",
       "$    S.~Lacour                   \\inst{1,4}            \\and$\n",
       "$    V.~Lapeyrère                \\inst{1}            \\and$\n",
       "$    J.-B.~Le~Bouquin            \\inst{3}            \\and$\n",
       "$    P.~Léna                     \\inst{1}            \\and$\n",
       "$    D.~Lutz                     \\inst{2}            \\and$\n",
       "$    F.~Mang                     \\inst{2}            \\and$\n",
       "$    N.~More                     \\inst{2}            \\and$\n",
       "$    J.~Osorno                   \\inst{1}            \\and$\n",
       "$    T.~Ott                      \\inst{2}            \\and$\n",
       "$    T.~Paumard                  \\inst{1}            \\and$\n",
       "$    K.~Perraut                  \\inst{3}            \\and$\n",
       "$    G.~Perrin                   \\inst{1}            \\and$\n",
       "$    S.~Rabien                   \\inst{2}            \\and$\n",
       "$    D.~C.~Ribeiro               \\inst{2}            \\and$\n",
       "$    M.~Sadun Bordoni            \\inst{2}            \\and$\n",
       "$    S.~Scheithauer              \\inst{5}            \\and$\n",
       "$    J.~Shangguan                \\inst{21}            \\and$\n",
       "$    T.~Shimizu                  \\inst{2}            \\and$\n",
       "$    J.~Stadler                  \\inst{12,2}         \\and$\n",
       "$    O.~Straub                   \\inst{2,17}         \\and$\n",
       "$    C.~Straubmeier              \\inst{6}            \\and$\n",
       "$    E.~Sturm                    \\inst{2}            \\and$\n",
       "$    L.J.~Tacconi                \\inst{2}            \\and$\n",
       "$    I.~Urso                     \\inst{1}            \\and$\n",
       "$    F.~Vincent                  \\inst{1}            \\and$\n",
       "$    S.D.~von~Fellenberg           \\inst{13,2}         \\and$\n",
       "$    E.~Wieprecht                \\inst{2}            \\and$\n",
       "$    J.~Woillez                  \\inst{4}$\n",
       "$}$\n",
       "$    \\institute{$\n",
       "$            LIRA, Observatoire de Paris, Université PSL, CNRS, Sorbonne Université, Université de Paris, 5 place Jules Janssen, 92195 Meudon, France \\and$\n",
       "$  \t    Max Planck Institute for Extraterrestrial Physics, Giessenbachstraße 1, 85748 Garching, Germany \\and$\n",
       "$  \t    Univ. Grenoble Alpes, CNRS, IPAG, 38000 Grenoble, France \\and$\n",
       "$  \t    European Southern Observatory, Karl-Schwarzschild-Straße 2, 85748 Garching, Germany \\and$\n",
       "$  \t    Max Planck Institute for Astronomy, Königstuhl 17, 69117 Heidelberg, Germany \\and$\n",
       "$  \t    1st Institute of Physics, University of Cologne, Zülpicher Straße 77, 50937 Cologne, Germany \\and$\n",
       "$  \t    CENTRA - Centro de Astrofísica e Gravitação, IST, Universidade de Lisboa, 1049-001 Lisboa, Portugal \\and$\n",
       "$  \t    Universidade de Lisboa - Faculdade de Ciências, Campo Grande, 1749-016 Lisboa, Portugal \\and$\n",
       "$  \t    European Southern Observatory, Casilla 19001, Santiago 19, Chile \\and$\n",
       "$  \t    Faculdade de Engenharia, Universidade do Porto, rua Dr. Roberto Frias, 4200-465 Porto, Portugal \\and$\n",
       "$  \t    Departments of Physics \\& Astronomy, Le Conte Hall, University of California, Berkeley, CA 94720, USA \\and$\n",
       "$  \t    Max Planck Institute for Astrophysics, Karl-Schwarzschild-Straße 1, 85748 Garching, Germany \\and$\n",
       "$  \t    Max Planck Institute for Radio Astronomy, auf dem Hügel 69, 53121 Bonn, Germany \\and$\n",
       "$  \t    Institute of Multidisciplinary Mathematics, Universitat Politècnica de València, València, Spain \\and$\n",
       "$  \t    Advanced Concepts Team, ESA, TEC-SF, ESTEC, Keplerlaan 1, 2201 AZ Noordwijk, The Netherlands \\and$\n",
       "$  \t    Center of Gravity, Niels Bohr Institute, Blegdamsvej 17, 2100 Copenhagen, Denmark \\and$\n",
       "$  \t    ORIGINS Excellence Cluster, Boltzmannstraße 2, 85748 Garching, Germany \\and$\n",
       "$  \t    Department of Physics, Technical University of Munich, 85748 Garching, Germany \\and$\n",
       "$  \t    Higgs Centre for Theoretical Physics, Edinburgh, UK \\and$\n",
       "$            Leiden University, 2311 EZ Leiden, The Netherlands \\and$\n",
       "$            The Kavli Institute for Astronomy and Astrophysics, Peking University, Beijing 100871, China$\n",
       "$    }$\n",
       "$   \\date{$\n",
       "$   }$\n",
       "$  \\abstract$\n",
       "$    $\n",
       "$   {The presence of a Yukawa-like correction to Newtonian gravity is investigated at the Galactic Center, leading to a new upper limit for the intensity of such a correction.}$\n",
       "$   {We perform a Markov Chain Monte Carlo analysis using the astrometric and spectroscopic data of star S2 collected at the Very Large Telescope by GRAVITY, NACO and SINFONI instruments, covering the period from 1992 to 2022.}$\n",
       "$   {The precision of the GRAVITY instrument allows us to derive the most stringent upper limit at the Galactic Center for the intensity of the Yukawa contribution (\\propto   \\alpha e^{- \\lambda r}) to be |\\alpha| < 0.003 for a scale length \\lambda = 3 \\cdot 10^{13}  \\rm m   (\\sim 200   \\rm  AU). This improves by roughly one order of magnitude all estimates obtained in previous works. }$\n",
       "$    $\n",
       "$   \\keywords{black holes physics --$\n",
       "$                Galaxy:centre --$\n",
       "$                gravitation$\n",
       "$               }$\n",
       "$   \\maketitle$\n",
       "$\\n\\end{document}\\end{equation}}$\n",
       "$\\newcommand{\\eeq}{\\end{equation}}$</div>\n",
       "\n",
       "\n",
       "\n",
       "<div id=\"title\">\n",
       "\n",
       "# On the presence of a fifth force at the Galactic Center\n",
       "\n",
       "</div>\n",
       "<div id=\"comments\">\n",
       "\n",
       "[![arXiv](https://img.shields.io/badge/arXiv-2504.02908-b31b1b.svg)](https://arxiv.org/abs/2504.02908)<mark>Appeared on: 2025-04-07</mark> -  _Submitted to A&A_\n",
       "\n",
       "</div>\n",
       "<div id=\"authors\">\n",
       "\n",
       "T. G. Collaboration, et al. -- incl., <mark>W. Brandner</mark>, <mark>P. Garcia</mark>, <mark>T. Henning</mark>, <mark>S. Scheithauer</mark>\n",
       "\n",
       "</div>\n",
       "<div id=\"abstract\">\n",
       "\n",
       "**Abstract:**            Aims: The presence of a Yukawa-like correction to Newtonian gravity is investigated at the Galactic Center, leading to a new upper limit for the intensity of such a correction. Methods: We perform a Markov Chain Monte Carlo analysis using the astrometric and spectroscopic data of star S$2$ collected at the Very Large Telescope by GRAVITY, NACO and SINFONI instruments, covering the period from $1992$ to $2022$. Results: The precision of the GRAVITY instrument allows us to derive the most stringent upper limit at the Galactic Center for the intensity of the Yukawa contribution ($\\propto \\, \\alpha e^{- \\lambda r}$) to be $|\\alpha| < 0.003$ for a scale length $\\lambda = 3 \\cdot 10^{13}\\, \\rm m\\, (\\sim 200 \\, \\rm AU)$. This improves by roughly one order of magnitude all estimates obtained in previous works.         \n",
       "\n",
       "</div>\n",
       "\n",
       "<div id=\"div_fig1\">\n",
       "\n",
       "<img src=\"\" alt=\"Fig5.1\" width=\"50%\"/><img src=\"\" alt=\"Fig5.2\" width=\"50%\"/>\n",
       "\n",
       "**Figure 5. -** Vibrational stability equation of state\n",
       "               $S_{\\mathrm{vib}}(\\lg e, \\lg \\rho)$.\n",
       "               $>0$ means vibrational stability.\n",
       "              Vibrational stability equation of state\n",
       "               $S_{\\mathrm{vib}}(\\lg e, \\lg \\rho)$.\n",
       "               $>0$ means vibrational stability.\n",
       "              Nonlinear Model ResultsNonlinear Model ResultsSpectral types and photometry for stars in the\n",
       "  region.Spectral types and photometry for stars in the\n",
       "  region.List of nearby SNe used in this work.Summary for ISOCAM sources with mid-IR excess\n",
       "(YSO candidates).Summary for ISOCAM sources with mid-IR excess\n",
       "(YSO candidates). Sample stars with absolute magnitudecontinued. Sample stars with absolute magnitudecontinued. (*FigVibStab*)\n",
       "\n",
       "</div>\n",
       "<div id=\"div_fig2\">\n",
       "\n",
       "<img src=\"tmp_2504.02908/./confidence_interval_hees.png\" alt=\"Fig7\" width=\"100%\"/>\n",
       "\n",
       "**Figure 7. -** $95\\%$ confidence level on $|\\alpha|$ obtained in this work (red dots) compared with previous estimates by \\protectHees:2017aal(blue dots). (*fig:uncertainties_alpha*)\n",
       "\n",
       "</div>\n",
       "<div id=\"div_fig3\">\n",
       "\n",
       "<img src=\"tmp_2504.02908/./comparison_newton.png\" alt=\"Fig6\" width=\"100%\"/>\n",
       "\n",
       "**Figure 6. -** Comparison of the posterior distributions $P(|\\alpha||D)$ between the Keplerian model (black curve) and  the $1$PN model (red curve).\n",
       " (*fig:comparison_newton*)\n",
       "\n",
       "</div><div id=\"qrcode\"><img src=https://api.qrserver.com/v1/create-qr-code/?size=100x100&data=\"https://arxiv.org/abs/2504.02908\"></div>"
      ],
      "text/plain": [
       "<IPython.core.display.Markdown object>"
      ]
     },
     "metadata": {},
     "output_type": "display_data"
    },
    {
     "data": {
      "text/markdown": [
       "<div class=\"macros\" style=\"visibility:hidden;\">\n",
       "$\\newcommand{\\ensuremath}{}$\n",
       "$\\newcommand{\\xspace}{}$\n",
       "$\\newcommand{\\object}[1]{\\texttt{#1}}$\n",
       "$\\newcommand{\\farcs}{{.}''}$\n",
       "$\\newcommand{\\farcm}{{.}'}$\n",
       "$\\newcommand{\\arcsec}{''}$\n",
       "$\\newcommand{\\arcmin}{'}$\n",
       "$\\newcommand{\\ion}[2]{#1#2}$\n",
       "$\\newcommand{\\textsc}[1]{\\textrm{#1}}$\n",
       "$\\newcommand{\\hl}[1]{\\textrm{#1}}$\n",
       "$\\newcommand{\\footnote}[1]{}$\n",
       "$\\newcommand{\\AS}[3]{#1^{+#2}_{-#3}}$\n",
       "$\\newcommand{\\Commref}[1]{\\textcolor{red}{\\textbf{#1}}}$\n",
       "$\\newcommand{\\TODO}[1]{\\textcolor{magenta}{\\textsc{todo:} \\textit{#1}}}$\n",
       "$\\newcommand{\\StarJOne}{G~261--6}$\n",
       "$\\newcommand{\\PlanetJOne}{G~261--6 b}$\n",
       "$\\newcommand{\\MassJOne}{\\SI{1.37\\pm0.23}{M_\\oplus}}$\n",
       "$\\newcommand{\\PeriodJOne}{\\SI{5.4536\\pm0.0032}{\\day}}$\n",
       "$\\newcommand{\\ProtJOne}{\\SI{114}{\\day}}$\n",
       "$\\newcommand{\\PeriodCandJone}{\\SI{1.83}{\\day}}$\n",
       "$\\newcommand{\\StarJTwo}{G~192--15}$\n",
       "$\\newcommand{\\MassJTwoc}{\\SI{14.3}{M_\\oplus}}$\n",
       "$\\newcommand{\\MassJTwob}{\\SI{1.03\\pm0.18}{M_\\oplus}}$\n",
       "$\\newcommand{\\StarJZero}{G~268--110}$\n",
       "$\\newcommand{\\PlanetJZero}{G~268--110 b}$\n",
       "$\\newcommand{\\MassJZero}{\\SI{1.52\\pm0.25}{M_\\oplus}}$\n",
       "$\\newcommand{\\PeriodJZero}{\\SI{1.43263\\pm0.000076}{\\day}}$\n",
       "$\\newcommand{\\TeqJZero}{\\SI{534\\pm12}{\\day}}$\n",
       "$\\newcommand{\\ProtJZero}{\\SI{143}{\\day}}$\n",
       "$\\newcommand{\\RomanNumeralCaps}[1]$\n",
       "$\\newcommand{\\inst}[1]{\\unskip^{\\instrefs{#1}}}$\n",
       "$\\newcommand{\\autoref}$\n",
       "$\\newcommand{\\scsep}{\\newcommand\\scsep{,}}$\n",
       "$\\newcommand{\\equationautorefname}{Eq.}$\n",
       "$\\newcommand{\\figureautorefname}{Fig.}$\n",
       "$\\newcommand{\\sectionautorefname}{Sect.}$\n",
       "$\\newcommand{\\subsectionautorefname}{Sect.}$\n",
       "$\\newcommand{\\subsubsectionautorefname}{Sect.}$\n",
       "$\\newcommand\\scsep{,}$</div>\n",
       "\n",
       "\n",
       "\n",
       "<div id=\"title\">\n",
       "\n",
       "# The CARMENES search for exoplanets around M dwarfs: Occurrence rates of Earth-like planets around very low-mass stars\n",
       "\n",
       "</div>\n",
       "<div id=\"comments\">\n",
       "\n",
       "[![arXiv](https://img.shields.io/badge/arXiv-2504.03364-b31b1b.svg)](https://arxiv.org/abs/2504.03364)<mark>Appeared on: 2025-04-07</mark> -  _Number of pages: 25; number of figures: 23 (12 in main + 11 in appendix). Accepted in A&A; DOI (pending): https://doi.org/10.1051/0004-6361/202453381 (Volume 696, Article number A101)_\n",
       "\n",
       "</div>\n",
       "<div id=\"authors\">\n",
       "\n",
       "A. Kaminski, et al. -- incl., <mark>R. Burn</mark>, <mark>T. Henning</mark>, <mark>M. Kürster</mark>\n",
       "\n",
       "</div>\n",
       "<div id=\"abstract\">\n",
       "\n",
       "**Abstract:**            Aims: Previous estimates of planet occurrence rates in the CARMENES survey indicated increased numbers of planets on short orbits for M dwarfs with masses below 0.34\\,M$_\\odot$. Here we focused on the lowest-mass stars in the survey, comprising 15 inactive targets with masses under 0.16\\,M$_\\odot$. Methods: To correct for detection biases, we determined detection sensitivity maps for individual targets and the entire sample. Using Monte Carlo simulations, we estimated planet occurrence rates for orbital periods of 1\\,d to 100\\,d and minimum masses from 0.5\\,M$_\\oplus$ to 10\\,M$_\\oplus$. Results: The radial velocity (RV) data from CARMENES reveal four new planets around three stars in our sample, namely G~268--110\\,b, G~261--6\\,b, and G~192--15\\,b and c. All three b planets have minimum masses of 1.03--1.52\\,M$_\\oplus$ and orbital periods of 1.43--5.45\\,d, while G~192--15\\,c is a 14.3\\,M$_\\oplus$ planet on a wide, eccentric orbit with $P \\approx 1218$\\,d and $e \\approx 0.68$. Our occurrence rates suggest considerable dependencies with respect to stellar masses. For planets below 3\\,M$_\\oplus$ we found rates consistent with one planet per star across all investigated periods, but the rates decrease almost by an order of magnitude for larger planet masses up to 10\\,M$_\\oplus$. Compared to previous studies, low-mass stars tend to harbor more planets with $P <10$\\,d. We also demonstrate that synthetic planet populations based on the standard core accretion scenario predict slightly more massive planets on wider orbits than observed. Conclusions: Our findings confirm that planet occurrence rates vary with stellar masses even among M dwarfs, as we found more planets with lower masses and on shorter orbits in our subsample of very low-mass stars compared to more massive M dwarfs. Therefore, we emphasize the need for additional differentiation in future studies.         \n",
       "\n",
       "</div>\n",
       "\n",
       "<div id=\"div_fig1\">\n",
       "\n",
       "<img src=\"tmp_2504.03364/./Fig/sensmap_average.png\" alt=\"Fig3\" width=\"100%\"/>\n",
       "\n",
       "**Figure 3. -** CARMENES detection sensitivity map, averaged over the individual maps of the 15 stellar targets of this study.\n",
       "    The light blue markers indicate the 11 planets included for this occurrence rate analysis, and the color map illustrates the detection probabilities of the respective period-mass grid points. The solid lines represent the masses associated to the RV semi-amplitude values equal to the RVs' root mean square averaged over the time series (blue), the mean RV uncertainties (magenta), and the median of the RV uncertainties. (*fig:planet_occurrence*)\n",
       "\n",
       "</div>\n",
       "<div id=\"div_fig2\">\n",
       "\n",
       "<img src=\"tmp_2504.03364/./Fig/Phased_RV_P1_1d_nores_nobin_errors_parlist.png\" alt=\"Fig1\" width=\"100%\"/>\n",
       "\n",
       "**Figure 1. -** Phased RV plot for $\\PlanetJZero$  based on the best fit model (1P$_\\text{(1.43 d-circ)}$). The black line depicts the model based on the parameters listed in $\\autoref${tab:planetparams}. The shaded area illustrates the 1$\\sigma$ confidence interval. (*fig:phasefolded_J01048-181*)\n",
       "\n",
       "</div>\n",
       "<div id=\"div_fig3\">\n",
       "\n",
       "<img src=\"tmp_2504.03364/./Fig/GLS_signal_search_J01048-181.png\" alt=\"Fig6\" width=\"100%\"/>\n",
       "\n",
       "**Figure 6. -** Window function (upper panel) and GLS periodograms of the CARMENES RVs for $\\StarJZero$  before ('0P', middle) and after subtracting the one-planet model ('1P', bottom).\n",
       "    The two panels on the left and right represent the same GLS periodograms but plot different regions to better represent the occurring signals. The period of the 1.43-day planet is highlighted by a red solid line. Its first-order aliases at \\SI{3.28}{\\day} and \\SI{0.59}{\\day} are marked by red dashed lines, and the second-order aliases at \\SI{0.76}{\\day} and \\SI{0.43}{\\day} by red dotted lines. The rotation period of \\SI{143}{\\day} determined by \\cite{Newton2018} is indicated by a solid green line. (*fig:gls_rv_J01048-181*)\n",
       "\n",
       "</div><div id=\"qrcode\"><img src=https://api.qrserver.com/v1/create-qr-code/?size=100x100&data=\"https://arxiv.org/abs/2504.03364\"></div>"
      ],
      "text/plain": [
       "<IPython.core.display.Markdown object>"
      ]
     },
     "metadata": {},
     "output_type": "display_data"
    },
    {
     "data": {
      "text/markdown": [
       "<div class=\"macros\" style=\"visibility:hidden;\">\n",
       "$\\newcommand{\\ensuremath}{}$\n",
       "$\\newcommand{\\xspace}{}$\n",
       "$\\newcommand{\\object}[1]{\\texttt{#1}}$\n",
       "$\\newcommand{\\farcs}{{.}''}$\n",
       "$\\newcommand{\\farcm}{{.}'}$\n",
       "$\\newcommand{\\arcsec}{''}$\n",
       "$\\newcommand{\\arcmin}{'}$\n",
       "$\\newcommand{\\ion}[2]{#1#2}$\n",
       "$\\newcommand{\\textsc}[1]{\\textrm{#1}}$\n",
       "$\\newcommand{\\hl}[1]{\\textrm{#1}}$\n",
       "$\\newcommand{\\footnote}[1]{}$\n",
       "$\\newcommand{\\vsys}{v_{\\rm sys}}$\n",
       "$\\newcommand\\MJ{M_{\\mathrm{Jup}}}$\n",
       "$\\newcommand\\RJ{R_{\\mathrm{Jup}}}$\n",
       "$\\newcommand\\RS{R_{\\odot}}$\n",
       "$\\newcommand\\MS{M\\mathrm{_\\odot}}$\n",
       "$\\newcommand\\LS{L_{\\odot}}$\n",
       "$\\newcommand\\teff{T_\\mathrm{eff}}$\n",
       "$\\newcommand\\kms{km s^{-1}}$\n",
       "$\\newcommand\\ms{m s^{-1}}$\n",
       "$\\newcommand{\\1}{s}$\n",
       "$\\newcommand\\t{0}$\n",
       "$\\newcommand\\sls{\\smallcapital SLS}$\n",
       "$\\newcommand\\mp{M_{\\rm p}}$\n",
       "$\\newcommand\\rt{\\mathrm{R_{\\oplus}}}$\n",
       "$\\newcommand\\mt{\\mathrm{M_{\\oplus}}}$\n",
       "$\\newcommand\\starmass{M_\\mathrm{s}}$\n",
       "$\\newcommand\\gl{Gl~410}$\n",
       "$\\newcommand\\spirou{SPIRou}$</div>\n",
       "\n",
       "\n",
       "\n",
       "<div id=\"title\">\n",
       "\n",
       "# Characterizing planetary systems with SPIRou: Detection of a sub-Neptune in a 6 day period orbit   around the M dwarf Gl 410$\\thanks{Based on observations obtained with the spectropolarimeter SPIRou at the Canada-France-Hawaii Telescope (CFHT).\t  }$          \n",
       "\n",
       "</div>\n",
       "<div id=\"comments\">\n",
       "\n",
       "[![arXiv](https://img.shields.io/badge/arXiv-2504.03572-b31b1b.svg)](https://arxiv.org/abs/2504.03572)<mark>Appeared on: 2025-04-07</mark> -  _Accepted by A&A, 4 April 2025; 35 pages_\n",
       "\n",
       "</div>\n",
       "<div id=\"authors\">\n",
       "\n",
       "A. Carmona, et al. -- incl., <mark>L. Acuña</mark>\n",
       "\n",
       "</div>\n",
       "<div id=\"abstract\">\n",
       "\n",
       "**Abstract:** The search of exoplanets around nearby M dwarfs is a crucial milestone to perform     the census of planetary systems in the vicinity of our Solar System. Since 2018 our team is carrying a blind search program for planets around nearby M dwarfs   with the near-IR spectro-polarimeter and velocimeter SPIRou at the CFHT and the optical velocimeter SOPHIE at the OHP in France.   The aim of this paper is to present our results on Gl 410, a 0.55 M $_\\odot$ 480 $\\pm$ 150 Myr old active M dwarf distant 12 pc. We search for planetary companions using radial velocities (RVs).   We use the line-by-line (LBL) technique to measure the RVs with SPIRou and the template matching method with SOPHIE.   Three different methods, two based in principal component analysis (PCA),   are used to clean the SPIRou RVs for systematics.   Gaussian processes (GP) modeling is applied to correct the SOPHIE RVs for stellar activity.   The $\\ell_1$ and apodize sine periodogram (ASP) analysis is used to search for planetary signals in the SPIRou data taking into account activity indicators.   We analyse TESS data and search for planetary transits. We report the detection of a $M$ sin $(i)$ =8.4 $\\pm$ 1.3 M $_\\oplus$ sub-Neptune planet at a period of 6.020 $\\pm$ 0.004 days   in circular orbit with SPIRou.   The same signal, although with lower significance, is also retrieved in the SOPHIE RV data after correction for activity   using a GP trained on SPIRou's longitudinal magnetic field ( $B_\\ell$ ) measurements.   TESS data indicates that the planet is not transiting.   We find within the SPIRou wPCA RVs tentative evidence for two additional planetary signals at 2.99 and 18.7 days. Infrared RVs are a powerful method to detect extrasolar planets around active M dwarfs. Care should be taken however to correct/filter   systematics generated by residuals of the telluric correction or small structures in the detector plane.   The LBL technique combined with PCA offers a promising way to reach this objective.   Further monitoring of Gl 410 is necessary.\n",
       "\n",
       "</div>\n",
       "\n",
       "<div id=\"div_fig1\">\n",
       "\n",
       "<img src=\"tmp_2504.03572/./GL410_lbl2bervzp.png\" alt=\"Fig31.1\" width=\"33%\"/><img src=\"tmp_2504.03572/./GL410_wPCA.png\" alt=\"Fig31.2\" width=\"33%\"/><img src=\"tmp_2504.03572/./GL410_Wapiti.png\" alt=\"Fig31.3\" width=\"33%\"/>\n",
       "\n",
       "**Figure 31. -** SPIRou RV measurements as a function of time and { GLS} periodograms for the \"raw\" LBL measurements\n",
       "and the PCA corrected LBL measurements obtained with wPCA (Artigau et al., in prep) and Wapiti \\citep[][]{Wapiti2023}.\n",
       "Blue dots indicate the measurements taken at $|V_{\\rm tot}|>10$ km s$^{-1}$.\n",
       "Red dots are the measurements obtained when $|V_{\\rm tot}|<10$ km s$^{-1}$(i.e. moment of the highest influence of the atmosphere on the\n",
       "stellar spectrum).\n",
       "In the periodograms,\n",
       "the grey horizontal lines indicate the { bootstrap-calculated} 10\\%, 1\\% and 0.1\\% FAP levels.\n",
       "A summary of the statistics of the each of the time-series is provided in Table \\ref{table:SPIRou_RV_periodogram}. (*fig:SPIRou_RV_periodogram*)\n",
       "\n",
       "</div>\n",
       "<div id=\"div_fig2\">\n",
       "\n",
       "<img src=\"tmp_2504.03572/./GL410_wPCA_2planet.png\" alt=\"Fig8\" width=\"100%\"/>\n",
       "\n",
       "**Figure 8. -** Periodograms of the SPIRou wPCA data\n",
       "    after subtraction of the circular orbit models of Gl 410b and the candidate planetary signal at 18.7 days.\n",
       "     (*GL410_wPCA_2planet*)\n",
       "\n",
       "</div>\n",
       "<div id=\"div_fig3\">\n",
       "\n",
       "<img src=\"tmp_2504.03572/./GL410_corner_bell.png\" alt=\"Fig19\" width=\"100%\"/>\n",
       "\n",
       "**Figure 19. -** Corner plot of the quasi-periodic GP fit of the SPIRou longitudinal magnetic field (B$_\\ell$) time-series of  Gl 410.\n",
       "    We provide the description of  the meaning of the variables in Table \\ref{GP_table}. (*fig:corner_bell*)\n",
       "\n",
       "</div><div id=\"qrcode\"><img src=https://api.qrserver.com/v1/create-qr-code/?size=100x100&data=\"https://arxiv.org/abs/2504.03572\"></div>"
      ],
      "text/plain": [
       "<IPython.core.display.Markdown object>"
      ]
     },
     "metadata": {},
     "output_type": "display_data"
    }
   ],
   "source": [
    "[display(Markdown(k[1])) for k in documents];"
   ]
  },
  {
   "cell_type": "markdown",
   "id": "873873a4",
   "metadata": {
    "papermill": {
     "duration": 0.005597,
     "end_time": "2025-04-07T04:15:38.382560",
     "exception": false,
     "start_time": "2025-04-07T04:15:38.376963",
     "status": "completed"
    },
    "tags": []
   },
   "source": [
    "# Create HTML index"
   ]
  },
  {
   "cell_type": "code",
   "execution_count": 10,
   "id": "cf665672",
   "metadata": {
    "execution": {
     "iopub.execute_input": "2025-04-07T04:15:38.395066Z",
     "iopub.status.busy": "2025-04-07T04:15:38.394576Z",
     "iopub.status.idle": "2025-04-07T04:15:38.404631Z",
     "shell.execute_reply": "2025-04-07T04:15:38.404015Z"
    },
    "papermill": {
     "duration": 0.017152,
     "end_time": "2025-04-07T04:15:38.405597",
     "exception": false,
     "start_time": "2025-04-07T04:15:38.388445",
     "status": "completed"
    },
    "tags": []
   },
   "outputs": [
    {
     "name": "stdout",
     "output_type": "stream",
     "text": [
      "429  publications files modified in the last 7 days.\n"
     ]
    }
   ],
   "source": [
    "from datetime import datetime, timedelta, timezone\n",
    "from glob import glob\n",
    "import os\n",
    "\n",
    "files = glob('_build/html/*.md')\n",
    "days = 7\n",
    "now = datetime.today()\n",
    "res = []\n",
    "for fk in files:\n",
    "    stat_result = os.stat(fk).st_ctime\n",
    "    modified = datetime.fromtimestamp(stat_result, tz=timezone.utc).replace(tzinfo=None)\n",
    "    delta = now.today() - modified\n",
    "    if delta <= timedelta(days=days):\n",
    "        res.append((delta.seconds, fk))\n",
    "res = [k[1] for k in reversed(sorted(res, key=lambda x:x[1]))]\n",
    "npub = len(res)\n",
    "print(len(res), f\" publications files modified in the last {days:d} days.\")\n",
    "# [ print('\\t', k) for k in res ];"
   ]
  },
  {
   "cell_type": "code",
   "execution_count": 11,
   "id": "015de740",
   "metadata": {
    "execution": {
     "iopub.execute_input": "2025-04-07T04:15:38.418092Z",
     "iopub.status.busy": "2025-04-07T04:15:38.417844Z",
     "iopub.status.idle": "2025-04-07T04:15:38.439922Z",
     "shell.execute_reply": "2025-04-07T04:15:38.439395Z"
    },
    "papermill": {
     "duration": 0.029389,
     "end_time": "2025-04-07T04:15:38.440930",
     "exception": false,
     "start_time": "2025-04-07T04:15:38.411541",
     "status": "completed"
    },
    "tags": []
   },
   "outputs": [
    {
     "name": "stdout",
     "output_type": "stream",
     "text": [
      "17  publications in the last 7 days.\n"
     ]
    }
   ],
   "source": [
    "import datetime\n",
    "from glob import glob\n",
    "\n",
    "def get_last_n_days(lst, days=1):\n",
    "    \"\"\" Get the documents from the last n days \"\"\"\n",
    "    sorted_lst = sorted(lst, key=lambda x: x[1], reverse=True)\n",
    "    for fname, date in sorted_lst:\n",
    "        if date >= str(datetime.date.today() - datetime.timedelta(days=days)):\n",
    "            yield fname\n",
    "\n",
    "def extract_appearance_dates(lst_file):\n",
    "    dates = []\n",
    "\n",
    "    def get_date(line):\n",
    "        return line\\\n",
    "            .split('Appeared on:')[-1]\\\n",
    "            .split('</mark>')[0].strip()\n",
    "\n",
    "    for fname in lst:\n",
    "        with open(fname, 'r') as f:\n",
    "            found_date = False\n",
    "            for line in f:\n",
    "                if not found_date:\n",
    "                    if \"Appeared on\" in line:\n",
    "                        found_date = True\n",
    "                        dates.append((fname, get_date(line)))\n",
    "                else:\n",
    "                    break\n",
    "    return dates\n",
    "\n",
    "from glob import glob\n",
    "lst = glob('_build/html/*md')\n",
    "days = 7\n",
    "dates = extract_appearance_dates(lst)\n",
    "res = list(get_last_n_days(dates, days))\n",
    "npub = len(res)\n",
    "print(len(res), f\" publications in the last {days:d} days.\")"
   ]
  },
  {
   "cell_type": "code",
   "execution_count": 12,
   "id": "52ca0208",
   "metadata": {
    "execution": {
     "iopub.execute_input": "2025-04-07T04:15:38.453689Z",
     "iopub.status.busy": "2025-04-07T04:15:38.453281Z",
     "iopub.status.idle": "2025-04-07T04:15:38.458259Z",
     "shell.execute_reply": "2025-04-07T04:15:38.457749Z"
    },
    "papermill": {
     "duration": 0.012293,
     "end_time": "2025-04-07T04:15:38.459297",
     "exception": false,
     "start_time": "2025-04-07T04:15:38.447004",
     "status": "completed"
    },
    "scrolled": false,
    "tags": []
   },
   "outputs": [],
   "source": [
    "def create_carousel(npub=4):\n",
    "    \"\"\" Generate the HTML code for a carousel with `npub` slides \"\"\"\n",
    "    carousel = [\"\"\"  <div class=\"carousel\" \"\"\",\n",
    "                \"\"\"       data-flickity='{ \"autoPlay\": 10000, \"adaptiveHeight\": true, \"resize\": true, \"wrapAround\": true, \"pauseAutoPlayOnHover\": true, \"groupCells\": 1 }' id=\"asyncTypeset\">\"\"\"\n",
    "                ]\n",
    "    \n",
    "    item_str = \"\"\"    <div class=\"carousel-cell\"> <div id=\"slide{k}\" class=\"md_view\">Content {k}</div> </div>\"\"\"\n",
    "    for k in range(1, npub + 1):\n",
    "        carousel.append(item_str.format(k=k))\n",
    "    carousel.append(\"  </div>\")\n",
    "    return '\\n'.join(carousel)\n",
    "\n",
    "def create_grid(npub=4):\n",
    "    \"\"\" Generate the HTML code for a flat grid with `npub` slides \"\"\"\n",
    "    grid = [\"\"\"  <div class=\"grid\"> \"\"\",\n",
    "                ]\n",
    "    \n",
    "    item_str = \"\"\"    <div class=\"grid-item\"> <div id=\"slide{k}\" class=\"md_view\">Content {k}</div> </div>\"\"\"\n",
    "    for k in range(1, npub + 1):\n",
    "        grid.append(item_str.format(k=k))\n",
    "    grid.append(\"  </div>\")\n",
    "    return '\\n'.join(grid)"
   ]
  },
  {
   "cell_type": "code",
   "execution_count": 13,
   "id": "a6eac5b6",
   "metadata": {
    "execution": {
     "iopub.execute_input": "2025-04-07T04:15:38.471578Z",
     "iopub.status.busy": "2025-04-07T04:15:38.471347Z",
     "iopub.status.idle": "2025-04-07T04:15:38.476476Z",
     "shell.execute_reply": "2025-04-07T04:15:38.475841Z"
    },
    "papermill": {
     "duration": 0.012442,
     "end_time": "2025-04-07T04:15:38.477525",
     "exception": false,
     "start_time": "2025-04-07T04:15:38.465083",
     "status": "completed"
    },
    "scrolled": false,
    "tags": []
   },
   "outputs": [],
   "source": [
    "carousel = create_carousel(npub)\n",
    "docs = ', '.join(['\"{0:s}\"'.format(k.split('/')[-1]) for k in res])\n",
    "slides = ', '.join([f'\"slide{k}\"' for k in range(1, npub + 1)])\n",
    "\n",
    "with open(\"daily_template.html\", \"r\") as tpl:\n",
    "    page = tpl.read()\n",
    "    page = page.replace(\"{%-- carousel:s --%}\", carousel)\\\n",
    "               .replace(\"{%-- suptitle:s --%}\",  \"7-day archives\" )\\\n",
    "               .replace(\"{%-- docs:s --%}\", docs)\\\n",
    "               .replace(\"{%-- slides:s --%}\", slides)\n",
    "    \n",
    "with open(\"_build/html/index_7days.html\", 'w') as fout:\n",
    "    fout.write(page)"
   ]
  },
  {
   "cell_type": "code",
   "execution_count": 14,
   "id": "adc1a1ec",
   "metadata": {
    "execution": {
     "iopub.execute_input": "2025-04-07T04:15:38.490629Z",
     "iopub.status.busy": "2025-04-07T04:15:38.490232Z",
     "iopub.status.idle": "2025-04-07T04:15:38.497540Z",
     "shell.execute_reply": "2025-04-07T04:15:38.496970Z"
    },
    "papermill": {
     "duration": 0.01489,
     "end_time": "2025-04-07T04:15:38.498588",
     "exception": false,
     "start_time": "2025-04-07T04:15:38.483698",
     "status": "completed"
    },
    "tags": []
   },
   "outputs": [
    {
     "name": "stdout",
     "output_type": "stream",
     "text": [
      "3  publications in the last day.\n"
     ]
    }
   ],
   "source": [
    "# redo for today\n",
    "days = 1\n",
    "res = list(get_last_n_days(dates, days))\n",
    "npub = len(res)\n",
    "print(len(res), f\" publications in the last day.\")\n",
    "\n",
    "carousel = create_carousel(npub)\n",
    "docs = ', '.join(['\"{0:s}\"'.format(k.split('/')[-1]) for k in res])\n",
    "slides = ', '.join([f'\"slide{k}\"' for k in range(1, npub + 1)])\n",
    "\n",
    "with open(\"daily_template.html\", \"r\") as tpl:\n",
    "    page = tpl.read()\n",
    "    page = page.replace(\"{%-- carousel:s --%}\", carousel)\\\n",
    "               .replace(\"{%-- suptitle:s --%}\",  \"Daily\" )\\\n",
    "               .replace(\"{%-- docs:s --%}\", docs)\\\n",
    "               .replace(\"{%-- slides:s --%}\", slides)\n",
    "    \n",
    "# print(carousel, docs, slides)\n",
    "# print(page)\n",
    "with open(\"_build/html/index_daily.html\", 'w') as fout:\n",
    "    fout.write(page)"
   ]
  },
  {
   "cell_type": "code",
   "execution_count": 15,
   "id": "00eece82",
   "metadata": {
    "execution": {
     "iopub.execute_input": "2025-04-07T04:15:38.511359Z",
     "iopub.status.busy": "2025-04-07T04:15:38.510935Z",
     "iopub.status.idle": "2025-04-07T04:15:38.517234Z",
     "shell.execute_reply": "2025-04-07T04:15:38.516722Z"
    },
    "papermill": {
     "duration": 0.013772,
     "end_time": "2025-04-07T04:15:38.518261",
     "exception": false,
     "start_time": "2025-04-07T04:15:38.504489",
     "status": "completed"
    },
    "scrolled": false,
    "tags": []
   },
   "outputs": [
    {
     "name": "stdout",
     "output_type": "stream",
     "text": [
      "6  6 publications selected.\n"
     ]
    }
   ],
   "source": [
    "# Create the flat grid of the last N papers (fixed number regardless of dates)\n",
    "from itertools import islice \n",
    "\n",
    "npub = 6\n",
    "res = [k[0] for k in (islice(reversed(sorted(dates, key=lambda x: x[1])), 6))]\n",
    "print(len(res), f\" {npub} publications selected.\")\n",
    "\n",
    "grid = create_grid(npub)\n",
    "docs = ', '.join(['\"{0:s}\"'.format(k.split('/')[-1]) for k in res])\n",
    "slides = ', '.join([f'\"slide{k}\"' for k in range(1, npub + 1)])\n",
    "\n",
    "with open(\"grid_template.html\", \"r\") as tpl:\n",
    "    page = tpl.read()\n",
    "    page = page.replace(\"{%-- grid-content:s --%}\", grid)\\\n",
    "               .replace(\"{%-- suptitle:s --%}\",  f\"Last {npub:,d} papers\" )\\\n",
    "               .replace(\"{%-- docs:s --%}\", docs)\\\n",
    "               .replace(\"{%-- slides:s --%}\", slides)\n",
    "    \n",
    "# print(grid, docs, slides)\n",
    "# print(page)\n",
    "with open(\"_build/html/index_npub_grid.html\", 'w') as fout:\n",
    "    fout.write(page)"
   ]
  }
 ],
 "metadata": {
  "kernelspec": {
   "display_name": "Python 3 (ipykernel)",
   "language": "python",
   "name": "python3"
  },
  "language_info": {
   "codemirror_mode": {
    "name": "ipython",
    "version": 3
   },
   "file_extension": ".py",
   "mimetype": "text/x-python",
   "name": "python",
   "nbconvert_exporter": "python",
   "pygments_lexer": "ipython3",
   "version": "3.9.21"
  },
  "papermill": {
   "default_parameters": {},
   "duration": 184.437613,
   "end_time": "2025-04-07T04:15:38.840805",
   "environment_variables": {},
   "exception": null,
   "input_path": "MPIA daily digest.ipynb",
   "output_path": "log.ipynb",
   "parameters": {},
   "start_time": "2025-04-07T04:12:34.403192",
   "version": "2.6.0"
  },
  "vscode": {
   "interpreter": {
    "hash": "aee8b7b246df8f9039afb4144a1f6fd8d2ca17a180786b69acc140d282b71a49"
   }
  },
  "widgets": {
   "application/vnd.jupyter.widget-state+json": {
    "state": {
     "1a05962f286144f08d30b7b9e0371627": {
      "model_module": "@jupyter-widgets/base",
      "model_module_version": "2.0.0",
      "model_name": "LayoutModel",
      "state": {
       "_model_module": "@jupyter-widgets/base",
       "_model_module_version": "2.0.0",
       "_model_name": "LayoutModel",
       "_view_count": null,
       "_view_module": "@jupyter-widgets/base",
       "_view_module_version": "2.0.0",
       "_view_name": "LayoutView",
       "align_content": null,
       "align_items": null,
       "align_self": null,
       "border_bottom": null,
       "border_left": null,
       "border_right": null,
       "border_top": null,
       "bottom": null,
       "display": null,
       "flex": null,
       "flex_flow": null,
       "grid_area": null,
       "grid_auto_columns": null,
       "grid_auto_flow": null,
       "grid_auto_rows": null,
       "grid_column": null,
       "grid_gap": null,
       "grid_row": null,
       "grid_template_areas": null,
       "grid_template_columns": null,
       "grid_template_rows": null,
       "height": null,
       "justify_content": null,
       "justify_items": null,
       "left": null,
       "margin": null,
       "max_height": null,
       "max_width": null,
       "min_height": null,
       "min_width": null,
       "object_fit": null,
       "object_position": null,
       "order": null,
       "overflow": null,
       "padding": null,
       "right": null,
       "top": null,
       "visibility": null,
       "width": null
      }
     },
     "253ff77f0a1c496da2cc607529d1bb54": {
      "model_module": "@jupyter-widgets/base",
      "model_module_version": "2.0.0",
      "model_name": "LayoutModel",
      "state": {
       "_model_module": "@jupyter-widgets/base",
       "_model_module_version": "2.0.0",
       "_model_name": "LayoutModel",
       "_view_count": null,
       "_view_module": "@jupyter-widgets/base",
       "_view_module_version": "2.0.0",
       "_view_name": "LayoutView",
       "align_content": null,
       "align_items": null,
       "align_self": null,
       "border_bottom": null,
       "border_left": null,
       "border_right": null,
       "border_top": null,
       "bottom": null,
       "display": null,
       "flex": null,
       "flex_flow": null,
       "grid_area": null,
       "grid_auto_columns": null,
       "grid_auto_flow": null,
       "grid_auto_rows": null,
       "grid_column": null,
       "grid_gap": null,
       "grid_row": null,
       "grid_template_areas": null,
       "grid_template_columns": null,
       "grid_template_rows": null,
       "height": null,
       "justify_content": null,
       "justify_items": null,
       "left": null,
       "margin": null,
       "max_height": null,
       "max_width": null,
       "min_height": null,
       "min_width": null,
       "object_fit": null,
       "object_position": null,
       "order": null,
       "overflow": null,
       "padding": null,
       "right": null,
       "top": null,
       "visibility": null,
       "width": null
      }
     },
     "3d267f7dcde5405e9b28b9e2d86ff635": {
      "model_module": "@jupyter-widgets/controls",
      "model_module_version": "2.0.0",
      "model_name": "HTMLStyleModel",
      "state": {
       "_model_module": "@jupyter-widgets/controls",
       "_model_module_version": "2.0.0",
       "_model_name": "HTMLStyleModel",
       "_view_count": null,
       "_view_module": "@jupyter-widgets/base",
       "_view_module_version": "2.0.0",
       "_view_name": "StyleView",
       "background": null,
       "description_width": "",
       "font_size": null,
       "text_color": null
      }
     },
     "41bf317a6dd248c2bd9c23358b1c3974": {
      "model_module": "@jupyter-widgets/controls",
      "model_module_version": "2.0.0",
      "model_name": "HTMLStyleModel",
      "state": {
       "_model_module": "@jupyter-widgets/controls",
       "_model_module_version": "2.0.0",
       "_model_name": "HTMLStyleModel",
       "_view_count": null,
       "_view_module": "@jupyter-widgets/base",
       "_view_module_version": "2.0.0",
       "_view_name": "StyleView",
       "background": null,
       "description_width": "",
       "font_size": null,
       "text_color": null
      }
     },
     "4b360c3ae5314d17b1390aa3a1a53c96": {
      "model_module": "@jupyter-widgets/controls",
      "model_module_version": "2.0.0",
      "model_name": "FloatProgressModel",
      "state": {
       "_dom_classes": [],
       "_model_module": "@jupyter-widgets/controls",
       "_model_module_version": "2.0.0",
       "_model_name": "FloatProgressModel",
       "_view_count": null,
       "_view_module": "@jupyter-widgets/controls",
       "_view_module_version": "2.0.0",
       "_view_name": "ProgressView",
       "bar_style": "success",
       "description": "",
       "description_allow_html": false,
       "layout": "IPY_MODEL_1a05962f286144f08d30b7b9e0371627",
       "max": 4.0,
       "min": 0.0,
       "orientation": "horizontal",
       "style": "IPY_MODEL_e7f603b57c5e42b48b2ee5f87c9d6070",
       "tabbable": null,
       "tooltip": null,
       "value": 4.0
      }
     },
     "572c26ea774d42c68a189a31a6a4a776": {
      "model_module": "@jupyter-widgets/base",
      "model_module_version": "2.0.0",
      "model_name": "LayoutModel",
      "state": {
       "_model_module": "@jupyter-widgets/base",
       "_model_module_version": "2.0.0",
       "_model_name": "LayoutModel",
       "_view_count": null,
       "_view_module": "@jupyter-widgets/base",
       "_view_module_version": "2.0.0",
       "_view_name": "LayoutView",
       "align_content": null,
       "align_items": null,
       "align_self": null,
       "border_bottom": null,
       "border_left": null,
       "border_right": null,
       "border_top": null,
       "bottom": null,
       "display": null,
       "flex": null,
       "flex_flow": null,
       "grid_area": null,
       "grid_auto_columns": null,
       "grid_auto_flow": null,
       "grid_auto_rows": null,
       "grid_column": null,
       "grid_gap": null,
       "grid_row": null,
       "grid_template_areas": null,
       "grid_template_columns": null,
       "grid_template_rows": null,
       "height": null,
       "justify_content": null,
       "justify_items": null,
       "left": null,
       "margin": null,
       "max_height": null,
       "max_width": null,
       "min_height": null,
       "min_width": null,
       "object_fit": null,
       "object_position": null,
       "order": null,
       "overflow": null,
       "padding": null,
       "right": null,
       "top": null,
       "visibility": null,
       "width": null
      }
     },
     "93427a95157d4888bbe7fc653a0be0d9": {
      "model_module": "@jupyter-widgets/controls",
      "model_module_version": "2.0.0",
      "model_name": "HTMLModel",
      "state": {
       "_dom_classes": [],
       "_model_module": "@jupyter-widgets/controls",
       "_model_module_version": "2.0.0",
       "_model_name": "HTMLModel",
       "_view_count": null,
       "_view_module": "@jupyter-widgets/controls",
       "_view_module_version": "2.0.0",
       "_view_name": "HTMLView",
       "description": "",
       "description_allow_html": false,
       "layout": "IPY_MODEL_b62b031c61f34ac2a4bc35d251a90b5b",
       "placeholder": "​",
       "style": "IPY_MODEL_3d267f7dcde5405e9b28b9e2d86ff635",
       "tabbable": null,
       "tooltip": null,
       "value": "100%"
      }
     },
     "b62b031c61f34ac2a4bc35d251a90b5b": {
      "model_module": "@jupyter-widgets/base",
      "model_module_version": "2.0.0",
      "model_name": "LayoutModel",
      "state": {
       "_model_module": "@jupyter-widgets/base",
       "_model_module_version": "2.0.0",
       "_model_name": "LayoutModel",
       "_view_count": null,
       "_view_module": "@jupyter-widgets/base",
       "_view_module_version": "2.0.0",
       "_view_name": "LayoutView",
       "align_content": null,
       "align_items": null,
       "align_self": null,
       "border_bottom": null,
       "border_left": null,
       "border_right": null,
       "border_top": null,
       "bottom": null,
       "display": null,
       "flex": null,
       "flex_flow": null,
       "grid_area": null,
       "grid_auto_columns": null,
       "grid_auto_flow": null,
       "grid_auto_rows": null,
       "grid_column": null,
       "grid_gap": null,
       "grid_row": null,
       "grid_template_areas": null,
       "grid_template_columns": null,
       "grid_template_rows": null,
       "height": null,
       "justify_content": null,
       "justify_items": null,
       "left": null,
       "margin": null,
       "max_height": null,
       "max_width": null,
       "min_height": null,
       "min_width": null,
       "object_fit": null,
       "object_position": null,
       "order": null,
       "overflow": null,
       "padding": null,
       "right": null,
       "top": null,
       "visibility": null,
       "width": null
      }
     },
     "b691121fa5bf4e70942069993ed4cc45": {
      "model_module": "@jupyter-widgets/controls",
      "model_module_version": "2.0.0",
      "model_name": "HTMLModel",
      "state": {
       "_dom_classes": [],
       "_model_module": "@jupyter-widgets/controls",
       "_model_module_version": "2.0.0",
       "_model_name": "HTMLModel",
       "_view_count": null,
       "_view_module": "@jupyter-widgets/controls",
       "_view_module_version": "2.0.0",
       "_view_name": "HTMLView",
       "description": "",
       "description_allow_html": false,
       "layout": "IPY_MODEL_253ff77f0a1c496da2cc607529d1bb54",
       "placeholder": "​",
       "style": "IPY_MODEL_41bf317a6dd248c2bd9c23358b1c3974",
       "tabbable": null,
       "tooltip": null,
       "value": " 4/4 [02:40&lt;00:00, 55.75s/it]"
      }
     },
     "e7f603b57c5e42b48b2ee5f87c9d6070": {
      "model_module": "@jupyter-widgets/controls",
      "model_module_version": "2.0.0",
      "model_name": "ProgressStyleModel",
      "state": {
       "_model_module": "@jupyter-widgets/controls",
       "_model_module_version": "2.0.0",
       "_model_name": "ProgressStyleModel",
       "_view_count": null,
       "_view_module": "@jupyter-widgets/base",
       "_view_module_version": "2.0.0",
       "_view_name": "StyleView",
       "bar_color": null,
       "description_width": ""
      }
     },
     "fac1b3e260d449fba8185bf091a4636c": {
      "model_module": "@jupyter-widgets/controls",
      "model_module_version": "2.0.0",
      "model_name": "HBoxModel",
      "state": {
       "_dom_classes": [],
       "_model_module": "@jupyter-widgets/controls",
       "_model_module_version": "2.0.0",
       "_model_name": "HBoxModel",
       "_view_count": null,
       "_view_module": "@jupyter-widgets/controls",
       "_view_module_version": "2.0.0",
       "_view_name": "HBoxView",
       "box_style": "",
       "children": [
        "IPY_MODEL_93427a95157d4888bbe7fc653a0be0d9",
        "IPY_MODEL_4b360c3ae5314d17b1390aa3a1a53c96",
        "IPY_MODEL_b691121fa5bf4e70942069993ed4cc45"
       ],
       "layout": "IPY_MODEL_572c26ea774d42c68a189a31a6a4a776",
       "tabbable": null,
       "tooltip": null
      }
     }
    },
    "version_major": 2,
    "version_minor": 0
   }
  }
 },
 "nbformat": 4,
 "nbformat_minor": 5
}