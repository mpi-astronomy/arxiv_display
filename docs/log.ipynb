{
 "cells": [
  {
   "cell_type": "markdown",
   "id": "92bcb855",
   "metadata": {
    "papermill": {
     "duration": 0.003863,
     "end_time": "2025-05-28T04:14:58.500214",
     "exception": false,
     "start_time": "2025-05-28T04:14:58.496351",
     "status": "completed"
    },
    "tags": []
   },
   "source": [
    "# MPIA Arxiv on Deck 2\n",
    "\n",
    "Contains the steps to produce the paper extractions."
   ]
  },
  {
   "cell_type": "code",
   "execution_count": 1,
   "id": "3a0d6e11",
   "metadata": {
    "execution": {
     "iopub.execute_input": "2025-05-28T04:14:58.507551Z",
     "iopub.status.busy": "2025-05-28T04:14:58.507178Z",
     "iopub.status.idle": "2025-05-28T04:14:59.044180Z",
     "shell.execute_reply": "2025-05-28T04:14:59.043409Z"
    },
    "papermill": {
     "duration": 0.542031,
     "end_time": "2025-05-28T04:14:59.045582",
     "exception": false,
     "start_time": "2025-05-28T04:14:58.503551",
     "status": "completed"
    },
    "tags": []
   },
   "outputs": [],
   "source": [
    "# Imports\n",
    "import os\n",
    "from IPython.display import Markdown, display\n",
    "from tqdm.notebook import tqdm\n",
    "import warnings\n",
    "from PIL import Image \n",
    "import re\n",
    "\n",
    "# requires arxiv_on_deck_2\n",
    "\n",
    "from arxiv_on_deck_2.arxiv2 import (get_new_papers, \n",
    "                                    get_paper_from_identifier,\n",
    "                                    retrieve_document_source, \n",
    "                                    get_markdown_badge)\n",
    "from arxiv_on_deck_2 import (latex,\n",
    "                             latex_bib,\n",
    "                             mpia,\n",
    "                             highlight_authors_in_list)\n",
    "\n",
    "# Sometimes images are really big\n",
    "Image.MAX_IMAGE_PIXELS = 1000000000 "
   ]
  },
  {
   "cell_type": "code",
   "execution_count": 2,
   "id": "22aa9d44",
   "metadata": {
    "execution": {
     "iopub.execute_input": "2025-05-28T04:14:59.053115Z",
     "iopub.status.busy": "2025-05-28T04:14:59.052659Z",
     "iopub.status.idle": "2025-05-28T04:14:59.060754Z",
     "shell.execute_reply": "2025-05-28T04:14:59.060131Z"
    },
    "papermill": {
     "duration": 0.012851,
     "end_time": "2025-05-28T04:14:59.061798",
     "exception": false,
     "start_time": "2025-05-28T04:14:59.048947",
     "status": "completed"
    },
    "tags": []
   },
   "outputs": [],
   "source": [
    "# Some useful definitions.\n",
    "\n",
    "class AffiliationWarning(UserWarning):\n",
    "    pass\n",
    "\n",
    "class AffiliationError(RuntimeError):\n",
    "    pass\n",
    "\n",
    "def validation(source: str):\n",
    "    \"\"\"Raises error paper during parsing of source file\n",
    "    \n",
    "    Allows checks before parsing TeX code.\n",
    "    \n",
    "    Raises AffiliationWarning\n",
    "    \"\"\"\n",
    "    check = mpia.affiliation_verifications(source, verbose=True)\n",
    "    if check is not True:\n",
    "        raise AffiliationError(\"mpia.affiliation_verifications: \" + check)\n",
    "\n",
    "        \n",
    "warnings.simplefilter('always', AffiliationWarning)\n",
    "\n",
    "\n",
    "def get_markdown_qrcode(paper_id: str):\n",
    "    \"\"\" Generate a qrcode to the arxiv page using qrserver.com\n",
    "    \n",
    "    :param paper: Arxiv paper\n",
    "    :returns: markdown text\n",
    "    \"\"\"\n",
    "    url = r\"https://api.qrserver.com/v1/create-qr-code/?size=100x100&data=\"\n",
    "    txt = f\"\"\"<img src={url}\"https://arxiv.org/abs/{paper_id}\">\"\"\"\n",
    "    txt = '<div id=\"qrcode\">' + txt + '</div>'\n",
    "    return txt\n",
    "\n",
    "\n",
    "def clean_non_western_encoded_characters_commands(text: str) -> str:\n",
    "    \"\"\" Remove non-western encoded characters from a string\n",
    "    List may need to grow.\n",
    "    \n",
    "    :param text: the text to clean\n",
    "    :return: the cleaned text\n",
    "    \"\"\"\n",
    "    text = re.sub(r\"(\\\\begin{CJK}{UTF8}{gbsn})(.*?)(\\\\end{CJK})\", r\"\\2\", text)\n",
    "    return text\n",
    "\n",
    "\n",
    "def get_initials(name: str) -> str:\n",
    "    \"\"\" Get the short name, e.g., A.-B. FamName\n",
    "    :param name: full name\n",
    "    :returns: initials\n",
    "    \"\"\"\n",
    "    initials = []\n",
    "    # account for non western names often in ()\n",
    "    if '(' in name:\n",
    "        name = clean_non_western_encoded_characters_commands(name)\n",
    "        suffix = re.findall(r\"\\((.*?)\\)\", name)[0]\n",
    "        name = name.replace(f\"({suffix})\", '')\n",
    "    else:\n",
    "        suffix = ''\n",
    "    split = name.split()\n",
    "    for token in split[:-1]:\n",
    "        if '-' in token:\n",
    "            current = '-'.join([k[0] + '.' for k in token.split('-')])\n",
    "        else:\n",
    "            current = token[0] + '.'\n",
    "        initials.append(current)\n",
    "    initials.append(split[-1].strip())\n",
    "    if suffix:\n",
    "        initials.append(f\"({suffix})\")\n",
    "    return ' '.join(initials)"
   ]
  },
  {
   "cell_type": "markdown",
   "id": "14bd6310",
   "metadata": {
    "papermill": {
     "duration": 0.002947,
     "end_time": "2025-05-28T04:14:59.067765",
     "exception": false,
     "start_time": "2025-05-28T04:14:59.064818",
     "status": "completed"
    },
    "tags": []
   },
   "source": [
    "## get list of arxiv paper candidates\n",
    "\n",
    "We use the MPIA mitarbeiter list webpage from mpia.de to get author names\n",
    "We then get all new papers from Arxiv and match authors"
   ]
  },
  {
   "cell_type": "code",
   "execution_count": 3,
   "id": "7ea813a8",
   "metadata": {
    "execution": {
     "iopub.execute_input": "2025-05-28T04:14:59.074727Z",
     "iopub.status.busy": "2025-05-28T04:14:59.074353Z",
     "iopub.status.idle": "2025-05-28T04:15:20.596123Z",
     "shell.execute_reply": "2025-05-28T04:15:20.595410Z"
    },
    "papermill": {
     "duration": 21.526646,
     "end_time": "2025-05-28T04:15:20.597444",
     "exception": false,
     "start_time": "2025-05-28T04:14:59.070798",
     "status": "completed"
    },
    "tags": []
   },
   "outputs": [],
   "source": [
    "# deal with the author list and edge cases of people that cannot be consistent on their name  \n",
    "\n",
    "def filter_non_scientists(name: str) -> bool:\n",
    "    \"\"\" Loose filter on expected authorships\n",
    "\n",
    "    removing IT, administration, technical staff\n",
    "    :param name: name\n",
    "    :returns: False if name is not a scientist\n",
    "    \"\"\"\n",
    "    remove_list = ['Licht', 'Binroth', 'Witzel', 'Jordan',\n",
    "                   'Zähringer', 'Scheerer', 'Hoffmann', 'Düe',\n",
    "                   'Hellmich', 'Enkler-Scharpegge', 'Witte-Nguy',\n",
    "                   'Dehen', 'Beckmann', 'Jager', 'Jäger'\n",
    "                  ]\n",
    "\n",
    "    for k in remove_list:\n",
    "        if k in name:\n",
    "            return False\n",
    "    return True\n",
    "\n",
    "def add_author_to_list(author_list: list) -> list:\n",
    "    \"\"\" Add author to list if not already in list\n",
    "    \n",
    "    :param author: author name\n",
    "    :param author_list: list of authors\n",
    "    :returns: updated list of authors\n",
    "    \"\"\"\n",
    "    add_list = ['T. Henning']\n",
    "\n",
    "    for author in add_list:\n",
    "        if author not in author_list:\n",
    "            author_list.append(author)\n",
    "    return author_list\n",
    "\n",
    "# get list from MPIA website\n",
    "# filter for non-scientists (mpia.get_mpia_mitarbeiter_list() does some filtering)\n",
    "mpia_authors = [k[1] for k in mpia.get_mpia_mitarbeiter_list() if filter_non_scientists(k[1])]\n",
    "# add some missing author because of inconsistencies in their MPIA name and author name on papers\n",
    "mpia_authors = add_author_to_list(mpia_authors)"
   ]
  },
  {
   "cell_type": "code",
   "execution_count": 4,
   "id": "2645e73a",
   "metadata": {
    "execution": {
     "iopub.execute_input": "2025-05-28T04:15:20.605018Z",
     "iopub.status.busy": "2025-05-28T04:15:20.604592Z",
     "iopub.status.idle": "2025-05-28T04:15:21.195586Z",
     "shell.execute_reply": "2025-05-28T04:15:21.194886Z"
    },
    "papermill": {
     "duration": 0.595776,
     "end_time": "2025-05-28T04:15:21.196571",
     "exception": false,
     "start_time": "2025-05-28T04:15:20.600795",
     "status": "completed"
    },
    "tags": []
   },
   "outputs": [
    {
     "name": "stdout",
     "output_type": "stream",
     "text": [
      "J. Li  ->  J. Li  |  ['J. Li']\n",
      "T. Henning  ->  T. Henning  |  ['T. Henning']\n",
      "G. Perotti  ->  G. Perotti  |  ['G. Perotti']\n",
      "A. Kamlah  ->  A. Kamlah  |  ['A. Kamlah']\n"
     ]
    },
    {
     "name": "stdout",
     "output_type": "stream",
     "text": [
      "C. Gieser  ->  C. Gieser  |  ['C. Gieser']\n",
      "T. Henning  ->  T. Henning  |  ['T. Henning']\n",
      "D. Semenov  ->  D. Semenov  |  ['D. Semenov']\n",
      "T. Henning  ->  T. Henning  |  ['T. Henning']\n",
      "Arxiv has 66 new papers today\n",
      "          5 with possible author matches\n"
     ]
    }
   ],
   "source": [
    "new_papers = get_new_papers()\n",
    "# add manual references\n",
    "add_paper_refs = []\n",
    "new_papers.extend([get_paper_from_identifier(k) for k in add_paper_refs])\n",
    "\n",
    "def robust_call(fn, value, *args, **kwargs):\n",
    "    try:\n",
    "        return fn(value, *args, **kwargs)\n",
    "    except Exception:\n",
    "        return value\n",
    "\n",
    "candidates = []\n",
    "for paperk in new_papers:\n",
    "    # Check author list with their initials\n",
    "    normed_author_list = [robust_call(mpia.get_initials, k) for k in paperk['authors']]\n",
    "    hl_authors = highlight_authors_in_list(normed_author_list, mpia_authors, verbose=True)\n",
    "    matches = [(hl, orig) for hl, orig in zip(hl_authors, paperk['authors']) if 'mark' in hl]\n",
    "    paperk['authors'] = hl_authors\n",
    "    if matches:\n",
    "        # only select paper if an author matched our list\n",
    "        candidates.append(paperk)\n",
    "print(\"\"\"Arxiv has {0:,d} new papers today\"\"\".format(len(new_papers)))        \n",
    "print(\"\"\"          {0:,d} with possible author matches\"\"\".format(len(candidates)))"
   ]
  },
  {
   "cell_type": "markdown",
   "id": "3543b34a",
   "metadata": {
    "papermill": {
     "duration": 0.003188,
     "end_time": "2025-05-28T04:15:21.203406",
     "exception": false,
     "start_time": "2025-05-28T04:15:21.200218",
     "status": "completed"
    },
    "tags": []
   },
   "source": [
    "# Parse sources and generate relevant outputs\n",
    "\n",
    "From the candidates, we do the following steps:\n",
    "* get their tarball from ArXiv (and extract data)\n",
    "* find the main .tex file: find one with \\documentclass{...} (sometimes it's non trivial)\n",
    "* Check affiliations with :func:`validation`, which uses :func:`mpia.affiliation_verifications`\n",
    "* If passing the affiliations: we parse the .tex source\n",
    "   * inject sub-documents into the main (flatten the main document)\n",
    "   * parse structure, extract information (title, abstract, authors, figures...)\n",
    "   * handles `\\graphicspath` if provided\n",
    "* Generate the .md document."
   ]
  },
  {
   "cell_type": "code",
   "execution_count": 5,
   "id": "9576b79e",
   "metadata": {
    "execution": {
     "iopub.execute_input": "2025-05-28T04:15:21.211006Z",
     "iopub.status.busy": "2025-05-28T04:15:21.210540Z",
     "iopub.status.idle": "2025-05-28T04:16:24.029858Z",
     "shell.execute_reply": "2025-05-28T04:16:24.029101Z"
    },
    "papermill": {
     "duration": 62.824407,
     "end_time": "2025-05-28T04:16:24.031065",
     "exception": false,
     "start_time": "2025-05-28T04:15:21.206658",
     "status": "completed"
    },
    "scrolled": false,
    "tags": []
   },
   "outputs": [
    {
     "data": {
      "application/vnd.jupyter.widget-view+json": {
       "model_id": "583e543b9323421b82c85605f95b50e0",
       "version_major": 2,
       "version_minor": 0
      },
      "text/plain": [
       "  0%|          | 0/5 [00:00<?, ?it/s]"
      ]
     },
     "metadata": {},
     "output_type": "display_data"
    },
    {
     "name": "stdout",
     "output_type": "stream",
     "text": [
      "Retrieving document from  https://arxiv.org/e-print/2505.20393\n"
     ]
    },
    {
     "name": "stdout",
     "output_type": "stream",
     "text": [
      "extracting tarball to tmp_2505.20393..."
     ]
    },
    {
     "name": "stdout",
     "output_type": "stream",
     "text": [
      " done.\n",
      "Retrieving document from  https://arxiv.org/e-print/2505.20427\n"
     ]
    },
    {
     "name": "stdout",
     "output_type": "stream",
     "text": [
      "extracting tarball to tmp_2505.20427... done.\n"
     ]
    },
    {
     "name": "stdout",
     "output_type": "stream",
     "text": [
      "T. Henning  ->  T. Henning  |  ['T. Henning']\n",
      "G. Perotti  ->  G. Perotti  |  ['G. Perotti']\n"
     ]
    },
    {
     "name": "stdout",
     "output_type": "stream",
     "text": [
      "Found 144 bibliographic references in tmp_2505.20427/aa55164-25.bbl.\n",
      "Retrieving document from  https://arxiv.org/e-print/2505.20432\n"
     ]
    },
    {
     "name": "stdout",
     "output_type": "stream",
     "text": [
      "extracting tarball to tmp_2505.20432..."
     ]
    },
    {
     "name": "stdout",
     "output_type": "stream",
     "text": [
      " done.\n",
      "Retrieving document from  https://arxiv.org/e-print/2505.21307\n"
     ]
    },
    {
     "name": "stdout",
     "output_type": "stream",
     "text": [
      "extracting tarball to tmp_2505.21307..."
     ]
    },
    {
     "name": "stdout",
     "output_type": "stream",
     "text": [
      " done.\n"
     ]
    },
    {
     "name": "stderr",
     "output_type": "stream",
     "text": [
      "/opt/hostedtoolcache/Python/3.9.22/x64/lib/python3.9/site-packages/IPython/core/interactiveshell.py:3550: LatexWarning: Multiple tex files.\n",
      "\n",
      "  exec(code_obj, self.user_global_ns, self.user_ns)\n",
      "/opt/hostedtoolcache/Python/3.9.22/x64/lib/python3.9/site-packages/IPython/core/interactiveshell.py:3550: LatexWarning: Found documentclass in tmp_2505.21307/main_clean.tex\n",
      "\n",
      "  exec(code_obj, self.user_global_ns, self.user_ns)\n",
      "/opt/hostedtoolcache/Python/3.9.22/x64/lib/python3.9/site-packages/arxiv_on_deck_2/latex.py:414: LatexWarning: Latex injecting: 'appendix_clean' from 'tmp_2505.21307/appendix_clean.tex'\n",
      "  warnings.warn(LatexWarning(f\"Latex injecting: '{ext}' from '{subsource}'\"))\n"
     ]
    },
    {
     "name": "stdout",
     "output_type": "stream",
     "text": [
      "C. Gieser  ->  C. Gieser  |  ['C. Gieser']\n",
      "T. Henning  ->  T. Henning  |  ['T. Henning']\n",
      "D. Semenov  ->  D. Semenov  |  ['D. Semenov']\n"
     ]
    },
    {
     "name": "stdout",
     "output_type": "stream",
     "text": [
      "Found 92 bibliographic references in tmp_2505.21307/main_clean.bbl.\n",
      "Retrieving document from  https://arxiv.org/e-print/2505.21470\n"
     ]
    },
    {
     "name": "stdout",
     "output_type": "stream",
     "text": [
      "extracting tarball to tmp_2505.21470... done.\n"
     ]
    },
    {
     "name": "stdout",
     "output_type": "stream",
     "text": [
      "T. Henning  ->  T. Henning  |  ['T. Henning']\n"
     ]
    },
    {
     "name": "stdout",
     "output_type": "stream",
     "text": [
      "Found 99 bibliographic references in tmp_2505.21470/Paper_2.bbl.\n",
      "Error retrieving bib data for galliStructureKinematicsTaurus2019: 'author'\n",
      "Error retrieving bib data for gudelXMMNewtonExtendedSurvey2007: 'author'\n"
     ]
    }
   ],
   "source": [
    "documents = []\n",
    "failed = []\n",
    "for paper in tqdm(candidates):\n",
    "    # debug crap\n",
    "    paper['identifier'] = paper['identifier'].lower().replace('arxiv:', '').replace(r'\\n', '').strip()\n",
    "    paper_id = paper['identifier']\n",
    "    \n",
    "    folder = f'tmp_{paper_id}'\n",
    "\n",
    "    try:\n",
    "        if not os.path.isdir(folder):\n",
    "            folder = retrieve_document_source(f\"{paper_id}\", f'tmp_{paper_id}')\n",
    "        \n",
    "        try:\n",
    "            doc = latex.LatexDocument(folder, validation=validation)    \n",
    "        except AffiliationError as affilerror:\n",
    "            msg = f\"ArXiv:{paper_id:s} is not an MPIA paper... \" + str(affilerror)\n",
    "            failed.append((paper, \"affiliation error: \" + str(affilerror) ))\n",
    "            continue\n",
    "        \n",
    "        # Hack because sometimes author parsing does not work well\n",
    "        if (len(doc.authors) != len(paper['authors'])):\n",
    "            doc._authors = paper['authors']\n",
    "        else:\n",
    "            # highlight authors (FIXME: doc.highlight_authors)\n",
    "            # done on arxiv paper already\n",
    "            doc._authors = highlight_authors_in_list(\n",
    "                [get_initials(k) for k in doc.authors], \n",
    "                mpia_authors, verbose=True)\n",
    "        if (doc.abstract) in (None, ''):\n",
    "            doc._abstract = paper['abstract']\n",
    "            \n",
    "        doc.comment = (get_markdown_badge(paper_id) + \n",
    "                       \"<mark>Appeared on: \" + paper['date'] + \"</mark> - \")\n",
    "        if paper['comments']:\n",
    "            doc.comment += \" _\" + paper['comments'] + \"_\"\n",
    "        \n",
    "        full_md = doc.generate_markdown_text()\n",
    "        \n",
    "        full_md += get_markdown_qrcode(paper_id)\n",
    "        \n",
    "        # replace citations\n",
    "        try:\n",
    "            bibdata = latex_bib.LatexBib.from_doc(doc)\n",
    "            full_md = latex_bib.replace_citations(full_md, bibdata)\n",
    "        except Exception as e:\n",
    "            print(\"Issues with the citations\")\n",
    "            print(e)\n",
    "        \n",
    "        documents.append((paper_id, full_md))\n",
    "    except Exception as e:\n",
    "        warnings.warn(latex.LatexWarning(f\"{paper_id:s} did not run properly\\n\" +\n",
    "                                         str(e)\n",
    "                                        ))\n",
    "        failed.append((paper, \"latex error \" + str(e)))"
   ]
  },
  {
   "cell_type": "markdown",
   "id": "2505a25c",
   "metadata": {
    "papermill": {
     "duration": 0.004045,
     "end_time": "2025-05-28T04:16:24.039472",
     "exception": false,
     "start_time": "2025-05-28T04:16:24.035427",
     "status": "completed"
    },
    "tags": []
   },
   "source": [
    "### Export the logs\n",
    "\n",
    "Throughout, we also keep track of the logs per paper. see `logs-{today date}.md` "
   ]
  },
  {
   "cell_type": "code",
   "execution_count": 6,
   "id": "d733828a",
   "metadata": {
    "execution": {
     "iopub.execute_input": "2025-05-28T04:16:24.048657Z",
     "iopub.status.busy": "2025-05-28T04:16:24.048216Z",
     "iopub.status.idle": "2025-05-28T04:16:24.064468Z",
     "shell.execute_reply": "2025-05-28T04:16:24.063806Z"
    },
    "papermill": {
     "duration": 0.022053,
     "end_time": "2025-05-28T04:16:24.065573",
     "exception": false,
     "start_time": "2025-05-28T04:16:24.043520",
     "status": "completed"
    },
    "scrolled": false,
    "tags": []
   },
   "outputs": [
    {
     "data": {
      "text/markdown": [
       "## Successful papers"
      ],
      "text/plain": [
       "<IPython.core.display.Markdown object>"
      ]
     },
     "metadata": {},
     "output_type": "display_data"
    },
    {
     "data": {
      "text/markdown": [
       "\n",
       "|||\n",
       "|---:|:---|\n",
       "| [![arXiv](https://img.shields.io/badge/arXiv-2505.20427-b31b1b.svg)](https://arxiv.org/abs/2505.20427) | **Burned to ashes: How the thermal decomposition of refractory organics in the inner protoplanetary disc impacts the gas-phase C/O ratio**  |\n",
       "|| A. Houge, et al. -- incl., <mark>T. Henning</mark>, <mark>G. Perotti</mark> |\n",
       "|*Appeared on*| *2025-05-28*|\n",
       "|*Comments*| *Accepted for publication in A&A. 18 pages, 14 figures, 1 table*|\n",
       "|**Abstract**|            The largest reservoir of carbon in protoplanetary discs is stored in refractory organics, which thermally decompose into the gas-phase at the organics line, well interior to the water iceline. Because this region is so close to the host star, it is often assumed that the released gaseous material is rapidly accreted and plays little role in the evolution of the disc composition. However, laboratory experiments show that the thermal decomposition process is irreversible, breaking macromolecular refractory organics into simpler, volatile carbon-bearing compounds. As a result, unlike the iceline of other volatiles, which traps vapor inwards due to recondensation, the organics line remains permeable, allowing gaseous carbon to diffuse outward without returning to the solid phase. In this paper, we investigate how this process affects the disc composition, particularly the gas-phase C/H and C/O ratios, by incorporating it into a 1D evolution model for gas and solids, and assuming refractory organics dominantly decompose into C$_2$H$_2$. Our results show that this process allows this carbon-rich gas to survive well beyond the organics line (out to $7 \\mathrm{~au}$ around a solar-mass star) and for much longer timescales, such that its abundance is increased by an order of magnitude. This has several implications in planet formation, notably by altering how the composition of solids and gas relate, and the fraction of heavy elements available to giant planets. In the framework of our model, refractory organics significantly influence the evolution of the gas-phase C/O ratio, which may help interpreting measurements made with Spitzer and JWST.         |"
      ],
      "text/plain": [
       "[2505.20427] Burned to ashes: How the thermal decomposition of refractory organics in the inner protoplanetary disc impacts the gas-phase C/O ratio\n",
       "\tA. Houge, et al. -- incl., <mark>T. Henning</mark>, <mark>G. Perotti</mark>"
      ]
     },
     "metadata": {},
     "output_type": "display_data"
    },
    {
     "data": {
      "text/markdown": [
       "\n",
       "|||\n",
       "|---:|:---|\n",
       "| [![arXiv](https://img.shields.io/badge/arXiv-2505.21307-b31b1b.svg)](https://arxiv.org/abs/2505.21307) | **PRODIGE - envelope to disk with NOEMA: V. Low 12C/13C ratios for CH3OH and CH3CN in hot corinos**  |\n",
       "|| L. A. Busch, et al. -- incl., <mark>C. Gieser</mark>, <mark>T. Henning</mark>, <mark>D. Semenov</mark> |\n",
       "|*Appeared on*| *2025-05-28*|\n",
       "|*Comments*| *Accepted for publication in A&A*|\n",
       "|**Abstract**|            The 12C/13C isotope ratio has been derived towards numerous cold clouds (20-50 K) and a couple protoplanetary disks and exoplanet atmospheres. However, direct measurements of this ratio in the warm gas (>100 K) around young low-mass protostars remain scarce, but are required to study its evolution during star and planet formation. We derived 12C/13C ratios from the isotopologues of the complex organic molecules (COMs) CH3OH and CH3CN in the warm gas towards seven Class 0/I protostellar systems to improve our understanding of the evolution of the 12C/13C ratios during star and planet formation. We used the data that were taken as part of the PRODIGE large program with the NOEMA at 1mm. The emission of CH3OH and CH3CN is spatially unresolved in the PRODIGE data (300au scale). Derived rotational temperatures exceed 100K, telling us that they trace the gas of the hot corino, where CH3CN probes hotter regions than CH3OH on average (290 K versus 180 K). The column density ratios between the 12C and 13C isotopologues, derived from LTE analysis, range from 4 to 30, thus, are significantly lower than the expected local ISM isotope ratio of about 68. Assuming that CH3CN and CH3OH may inherit the 12C/13C ratio from their precursor species, astrochemical models were conducted for the latter and compared with our observational results. We conclude that an enrichment in 13C in COMs at the earliest protostellar stages is likely inherited from the COMs' precursor species, whose 12C/13C ratios are set during the prestellar stage via isotopic exchange reactions. This also implies that low 12C/13C ratios observed at later evolutionary stages could at least partially be inherited. A final conclusion on 12C/13C ratios in protostellar environments requires improved observations to tackle current observational limitations and additional modelling efforts.         |"
      ],
      "text/plain": [
       "[2505.21307] PRODIGE - envelope to disk with NOEMA: V. Low 12C/13C ratios for CH3OH and CH3CN in hot corinos\n",
       "\tL. A. Busch, et al. -- incl., <mark>C. Gieser</mark>, <mark>T. Henning</mark>, <mark>D. Semenov</mark>"
      ]
     },
     "metadata": {},
     "output_type": "display_data"
    },
    {
     "data": {
      "text/markdown": [
       "\n",
       "|||\n",
       "|---:|:---|\n",
       "| [![arXiv](https://img.shields.io/badge/arXiv-2505.21470-b31b1b.svg)](https://arxiv.org/abs/2505.21470) | **Changing disc compositions via internal photoevaporation II: M dwarf systems**  |\n",
       "|| J. L. Lienert, B. Bitsch, <mark>T. Henning</mark> |\n",
       "|*Appeared on*| *2025-05-28*|\n",
       "|*Comments*| **|\n",
       "|**Abstract**|            The chemical evolution of the inner regions of protoplanetary discs is a complex process. Several factors influence it, one being the inward drift and evaporation of volatile-rich pebbles. During the disc's evolution, its inner part is first enriched with evaporating water-ice, resulting in a low C/O ratio. Afterwards, C-rich gas from the outer disc is transported inwards. Consequently, the C/O ratio of the inner disc increases again after 2 Myr. Previously, we studied how internal photoevaporation influences these processes in discs around Sun-like stars. We now extend our study to lower-mass stars, where the time evolution of the disc's C/O ratio is different due to the closer-in position of the evaporation fronts and differences in disc mass, size and structure. Our simulations are carried out with the semi-analytical 1D disc model chemcomp, which includes viscous evolution and heating, pebble growth and drift, pebble evaporation and condensation, as well as a simple chemical partitioning model. We show that internal photoevaporation plays a major role in the evolution of protoplanetary discs: As for Sun-like stars, photoevaporation opens a gap, which stops inward drifting pebbles. In addition, volatile-rich gas from the outer disc is carried away by the photoevaporative winds. Consequently, the C/O ratio in the inner disc remains low, contradicting observations of discs around low-mass stars. Our model implies that young inner discs (< 2 Myr) should be O-rich and C-poor, while older discs (> 2 Myr) should be C-rich. The survival of discs to this age can be attributed to lower photoevaporation rates, which either originate from a large spread of observed X-ray luminosities or from the photoevaporation model used here, which likely overestimates the photoevaporation efficiency. A reduction of the latter brings the calculated elemental abundances into better agreement with observations.         |"
      ],
      "text/plain": [
       "[2505.21470] Changing disc compositions via internal photoevaporation II: M dwarf systems\n",
       "\tJ. L. Lienert, B. Bitsch, <mark>T. Henning</mark>"
      ]
     },
     "metadata": {},
     "output_type": "display_data"
    },
    {
     "data": {
      "text/markdown": [
       "## Failed papers"
      ],
      "text/plain": [
       "<IPython.core.display.Markdown object>"
      ]
     },
     "metadata": {},
     "output_type": "display_data"
    },
    {
     "data": {
      "text/markdown": [
       "\n",
       "|||\n",
       "|---:|:---|\n",
       "| [![arXiv](https://img.shields.io/badge/arXiv-2505.20432-b31b1b.svg)](https://arxiv.org/abs/2505.20432) | **Evolution of star clusters with initial bulk rotation via N-body simulations**  |\n",
       "|| A. Bissekenov, et al. -- incl., <mark>A. Kamlah</mark> |\n",
       "|*Appeared on*| *2025-05-28*|\n",
       "|*Comments*| **|\n",
       "|**Abstract**|            Young star clusters can inherit bulk rotation from the molecular clouds from which they have formed. This rotation can affect the long-term evolution of a star cluster and its constituent stellar populations. In this study, we aim to characterize the effects of different degrees of initial rotation on star clusters with primordial binaries. The simulations are performed using NBODY6++GPU. We find that initial rotation strongly affects the early evolution of star clusters. Rapidly rotating clusters show angular momentum transport from the inner parts to the outskirts, resulting in a core collapse. Angular momentum transport is accompanied by a highly elongated bar-like structure morphology. The effects of bulk rotation are reduced on the timescale of two-body relaxation. Rotating and non-rotating clusters experience changes in the direction of angular momentum near the dissolution and early evolution due to the tidal field, respectively. We present synthetic observations of simulated clusters for comparison with future observations in filters of Gaia, CSST, and HST. This work shows the effects of bulk rotation on systems with primordial binaries and could be used for the identification of rotation signatures in observed open clusters.         |\n",
       "|<p style=\"color:green\"> **ERROR** </p>| <p style=\"color:green\">affiliation error: mpia.affiliation_verifications: '69117' keyword not found.</p> |"
      ],
      "text/plain": [
       "<IPython.core.display.Markdown object>"
      ]
     },
     "metadata": {},
     "output_type": "display_data"
    },
    {
     "data": {
      "text/markdown": [
       "\n",
       "|||\n",
       "|---:|:---|\n",
       "| [![arXiv](https://img.shields.io/badge/arXiv-2505.20393-b31b1b.svg)](https://arxiv.org/abs/2505.20393) | **NEXUS: A Spectroscopic Census of Broad-line AGNs and Little Red Dots at $3\\lesssim z\\lesssim 6$**  |\n",
       "|| M.-Y. Zhuang, et al. -- incl., <mark>J. Li</mark> |\n",
       "|*Appeared on*| *2025-05-28*|\n",
       "|*Comments*| *26 pages, 17 figures, 4 tables. Submitted to ApJ*|\n",
       "|**Abstract**|            We present a spectroscopic sample of 23 broad-line AGNs (BLAGNs) at $3\\lesssim z\\lesssim 6$ selected using F322W2+F444W NIRCam/WFSS grism spectroscopy of the central 100 ${\\rm arcmin^2}$ area of the NEXUS survey. Among these BLAGNs, 15 are classified as Little Red Dots (LRDs) based on their rest-frame UV-optical spectral slopes and compact morphology. The number density of LRDs is $\\sim 10^{-5}\\,{\\rm cMpc^{-3}}$, with a hint of declining towards the lower end of the probed redshift range. These BLAGNs and LRDs span broad H$\\alpha$ luminosities of $\\sim 10^{42.2}-10^{43.7}\\,{\\rm erg\\,s^{-1}}$, black hole masses of $\\sim 10^{6.3}-10^{8.4}\\,M_\\odot$, and Eddington ratios of $\\sim 0.1-1$ (median value 0.4), though the black hole mass and Eddington ratio estimates carry large systematic uncertainties. Half of the LRDs show strong Balmer absorption, suggesting high-density gas surrounding the line-emitting region. We detect extended (hundreds of parsec) rest-frame UV-optical emission from the host galaxy in the majority of these LRDs, which contributes significantly or even dominantly to their total UV emission. This host emission largely accounts for the peculiar UV upturn of the LRD spectral energy distribution. We also measure the small-scale ($\\lesssim 1\\,{\\rm cMpc}$) clustering of these BLAGNs and LRDs by cross-correlating with a photometric galaxy sample. Extrapolating the power-law two-point correlation function model to large linear scales, we infer a linear bias of $3.30_{-2.04}^{+2.88}$ and typical halo masses of a few $\\times 10^{11}\\,h^{-1}M_\\odot$ for BLAGNs at the sample median redshift of $z\\sim 4.5$. However, the inferred linear bias and halo masses of LRDs, while formally consistent with those for BLAGNs at $\\sim 1.5\\sigma$, appear too large to be compatible with their space density, suggesting LRDs may have strong excess clustering on small scales.         |\n",
       "|<p style=\"color:green\"> **ERROR** </p>| <p style=\"color:green\">affiliation error: mpia.affiliation_verifications: 'Heidelberg' keyword not found.</p> |"
      ],
      "text/plain": [
       "<IPython.core.display.Markdown object>"
      ]
     },
     "metadata": {},
     "output_type": "display_data"
    }
   ],
   "source": [
    "import datetime\n",
    "today = str(datetime.date.today())\n",
    "logfile = f\"_build/html/logs/log-{today}.md\"\n",
    "\n",
    "\n",
    "with open(logfile, 'w') as logs:\n",
    "    # Success\n",
    "    logs.write(f'# Arxiv on Deck 2: Logs - {today}\\n\\n')\n",
    "    logs.write(\"\"\"* Arxiv had {0:,d} new papers\\n\"\"\".format(len(new_papers)))\n",
    "    logs.write(\"\"\"    * {0:,d} with possible author matches\\n\\n\"\"\".format(len(candidates)))\n",
    "    logs.write(\"## Sucessful papers\\n\\n\")\n",
    "    display(Markdown(\"## Successful papers\"))\n",
    "    success = [k[0] for k in documents]\n",
    "    for candid in candidates:\n",
    "        if candid['identifier'].split(':')[-1] in success:\n",
    "            display(candid)\n",
    "            logs.write(candid.generate_markdown_text() + '\\n\\n')\n",
    "\n",
    "    ## failed\n",
    "    logs.write(\"## Failed papers\\n\\n\")\n",
    "    display(Markdown(\"## Failed papers\"))\n",
    "    failed = sorted(failed, key=lambda x: x[1])\n",
    "    current_reason = \"\"\n",
    "    for paper, reason in failed:\n",
    "        if 'affiliation' in reason:\n",
    "            color = 'green'\n",
    "        else:\n",
    "            color = 'red'\n",
    "        data = Markdown(\n",
    "                paper.generate_markdown_text() + \n",
    "                f'\\n|<p style=\"color:{color:s}\"> **ERROR** </p>| <p style=\"color:{color:s}\">{reason:s}</p> |'\n",
    "               )\n",
    "        if reason != current_reason:\n",
    "            logs.write(f'### {reason:s} \\n\\n')\n",
    "            current_reason = reason\n",
    "        logs.write(data.data + '\\n\\n')\n",
    "        \n",
    "        # only display here the important errors (all in logs)\n",
    "        # if color in ('red',):\n",
    "        display(data)"
   ]
  },
  {
   "cell_type": "markdown",
   "id": "472d20ee",
   "metadata": {
    "papermill": {
     "duration": 0.004627,
     "end_time": "2025-05-28T04:16:24.075038",
     "exception": false,
     "start_time": "2025-05-28T04:16:24.070411",
     "status": "completed"
    },
    "tags": []
   },
   "source": [
    "## Export documents\n",
    "\n",
    "We now write the .md files and export relevant images"
   ]
  },
  {
   "cell_type": "code",
   "execution_count": 7,
   "id": "d426aed9",
   "metadata": {
    "execution": {
     "iopub.execute_input": "2025-05-28T04:16:24.085580Z",
     "iopub.status.busy": "2025-05-28T04:16:24.085095Z",
     "iopub.status.idle": "2025-05-28T04:16:24.091882Z",
     "shell.execute_reply": "2025-05-28T04:16:24.091357Z"
    },
    "papermill": {
     "duration": 0.013138,
     "end_time": "2025-05-28T04:16:24.092870",
     "exception": false,
     "start_time": "2025-05-28T04:16:24.079732",
     "status": "completed"
    },
    "tags": []
   },
   "outputs": [],
   "source": [
    "def export_markdown_summary(md: str, md_fname:str, directory: str):\n",
    "    \"\"\"Export MD document and associated relevant images\"\"\"\n",
    "    import os\n",
    "    import shutil\n",
    "    import re\n",
    "\n",
    "    if (os.path.exists(directory) and not os.path.isdir(directory)):\n",
    "        raise RuntimeError(f\"a non-directory file exists with name {directory:s}\")\n",
    "\n",
    "    if (not os.path.exists(directory)):\n",
    "        print(f\"creating directory {directory:s}\")\n",
    "        os.mkdir(directory)\n",
    "\n",
    "    fig_fnames = (re.compile(r'\\[Fig.*\\]\\((.*)\\)').findall(md) + \n",
    "                  re.compile(r'\\<img src=\"([^>\\s]*)\"[^>]*/>').findall(md))\n",
    "    print(\"found figures\", fig_fnames)\n",
    "    for fname in fig_fnames:\n",
    "        if 'http' in fname:\n",
    "            # No need to copy online figures\n",
    "            continue\n",
    "        if not os.path.exists(fname):\n",
    "            print(\"file not found\", fname)\n",
    "            continue\n",
    "        print(\"copying \", fname, \"to\", directory)\n",
    "        destdir = os.path.join(directory, os.path.dirname(fname))\n",
    "        destfname = os.path.join(destdir, os.path.basename(fname))\n",
    "        try:\n",
    "            os.makedirs(destdir)\n",
    "        except FileExistsError:\n",
    "            pass\n",
    "        shutil.copy(fname, destfname)\n",
    "    with open(os.path.join(directory, md_fname), 'w') as fout:\n",
    "        fout.write(md)\n",
    "    print(\"exported in \", os.path.join(directory, md_fname))\n",
    "    [print(\"    + \" + os.path.join(directory,fk)) for fk in fig_fnames]"
   ]
  },
  {
   "cell_type": "code",
   "execution_count": 8,
   "id": "014d04a4",
   "metadata": {
    "execution": {
     "iopub.execute_input": "2025-05-28T04:16:24.103753Z",
     "iopub.status.busy": "2025-05-28T04:16:24.103553Z",
     "iopub.status.idle": "2025-05-28T04:16:24.112815Z",
     "shell.execute_reply": "2025-05-28T04:16:24.112261Z"
    },
    "papermill": {
     "duration": 0.015679,
     "end_time": "2025-05-28T04:16:24.113878",
     "exception": false,
     "start_time": "2025-05-28T04:16:24.098199",
     "status": "completed"
    },
    "tags": []
   },
   "outputs": [
    {
     "name": "stdout",
     "output_type": "stream",
     "text": [
      "found figures ['tmp_2505.20427/./CO_radius_c2h2_1ms_alpha1e3_tr_vs_notr.png', 'tmp_2505.20427/./CH_radius_c2h2_1ms_alpha1e3_with_or_no_trsfr.png', 'tmp_2505.20427/./SigmaD_SigmaG_organics_c2h2_1Msun_alpha1e3.png']\n",
      "copying  tmp_2505.20427/./CO_radius_c2h2_1ms_alpha1e3_tr_vs_notr.png to _build/html/\n",
      "copying  tmp_2505.20427/./CH_radius_c2h2_1ms_alpha1e3_with_or_no_trsfr.png to _build/html/\n",
      "copying  tmp_2505.20427/./SigmaD_SigmaG_organics_c2h2_1Msun_alpha1e3.png to _build/html/\n",
      "exported in  _build/html/2505.20427.md\n",
      "    + _build/html/tmp_2505.20427/./CO_radius_c2h2_1ms_alpha1e3_tr_vs_notr.png\n",
      "    + _build/html/tmp_2505.20427/./CH_radius_c2h2_1ms_alpha1e3_with_or_no_trsfr.png\n",
      "    + _build/html/tmp_2505.20427/./SigmaD_SigmaG_organics_c2h2_1Msun_alpha1e3.png\n",
      "found figures ['tmp_2505.21307/./figs/PD/ch3oh_IRAS4B_on.png', 'tmp_2505.21307/./figs/PD/ch3oh.13c_IRAS4B_on.png', 'tmp_2505.21307/./figs/PD/ch3cn_IRAS4B_on.png', 'tmp_2505.21307/./figs/PD/ch3cn.13c1_IRAS4B_on.png', 'tmp_2505.21307/./figs/PD/ch3cn.13c2_IRAS4B_on.png', 'tmp_2505.21307/./figs/Maps/IRAS2A.png', 'tmp_2505.21307/./figs/data_vis.png']\n",
      "copying  tmp_2505.21307/./figs/PD/ch3oh_IRAS4B_on.png to _build/html/\n",
      "copying  tmp_2505.21307/./figs/PD/ch3oh.13c_IRAS4B_on.png to _build/html/\n",
      "copying  tmp_2505.21307/./figs/PD/ch3cn_IRAS4B_on.png to _build/html/\n",
      "copying  tmp_2505.21307/./figs/PD/ch3cn.13c1_IRAS4B_on.png to _build/html/\n",
      "copying  tmp_2505.21307/./figs/PD/ch3cn.13c2_IRAS4B_on.png to _build/html/\n",
      "copying  tmp_2505.21307/./figs/Maps/IRAS2A.png to _build/html/\n",
      "copying  tmp_2505.21307/./figs/data_vis.png to _build/html/\n",
      "exported in  _build/html/2505.21307.md\n",
      "    + _build/html/tmp_2505.21307/./figs/PD/ch3oh_IRAS4B_on.png\n",
      "    + _build/html/tmp_2505.21307/./figs/PD/ch3oh.13c_IRAS4B_on.png\n",
      "    + _build/html/tmp_2505.21307/./figs/PD/ch3cn_IRAS4B_on.png\n",
      "    + _build/html/tmp_2505.21307/./figs/PD/ch3cn.13c1_IRAS4B_on.png\n",
      "    + _build/html/tmp_2505.21307/./figs/PD/ch3cn.13c2_IRAS4B_on.png\n",
      "    + _build/html/tmp_2505.21307/./figs/Maps/IRAS2A.png\n",
      "    + _build/html/tmp_2505.21307/./figs/data_vis.png\n",
      "found figures ['tmp_2505.21470/./Plots/gas_surface_density_and_C_to_O_ratio_with_photoevap_alpha_1e-4.png', 'tmp_2505.21470/./Plots/gas_surface_density_and_C_to_O_ratio_no_photoevap_alpha_1e-4.png', 'tmp_2505.21470/./Plots/X_ray_lum_vs_mass.png']\n",
      "copying  tmp_2505.21470/./Plots/gas_surface_density_and_C_to_O_ratio_with_photoevap_alpha_1e-4.png to _build/html/\n",
      "copying  tmp_2505.21470/./Plots/gas_surface_density_and_C_to_O_ratio_no_photoevap_alpha_1e-4.png to _build/html/\n",
      "copying  tmp_2505.21470/./Plots/X_ray_lum_vs_mass.png to _build/html/\n",
      "exported in  _build/html/2505.21470.md\n",
      "    + _build/html/tmp_2505.21470/./Plots/gas_surface_density_and_C_to_O_ratio_with_photoevap_alpha_1e-4.png\n",
      "    + _build/html/tmp_2505.21470/./Plots/gas_surface_density_and_C_to_O_ratio_no_photoevap_alpha_1e-4.png\n",
      "    + _build/html/tmp_2505.21470/./Plots/X_ray_lum_vs_mass.png\n"
     ]
    }
   ],
   "source": [
    "for paper_id, md in documents:\n",
    "    export_markdown_summary(md, f\"{paper_id:s}.md\", '_build/html/')"
   ]
  },
  {
   "cell_type": "markdown",
   "id": "f087a0a7",
   "metadata": {
    "papermill": {
     "duration": 0.004774,
     "end_time": "2025-05-28T04:16:24.123548",
     "exception": false,
     "start_time": "2025-05-28T04:16:24.118774",
     "status": "completed"
    },
    "tags": []
   },
   "source": [
    "## Display the papers\n",
    "\n",
    "Not necessary but allows for a quick check."
   ]
  },
  {
   "cell_type": "code",
   "execution_count": 9,
   "id": "fd25f625",
   "metadata": {
    "execution": {
     "iopub.execute_input": "2025-05-28T04:16:24.134068Z",
     "iopub.status.busy": "2025-05-28T04:16:24.133849Z",
     "iopub.status.idle": "2025-05-28T04:16:24.141036Z",
     "shell.execute_reply": "2025-05-28T04:16:24.140473Z"
    },
    "papermill": {
     "duration": 0.013609,
     "end_time": "2025-05-28T04:16:24.142084",
     "exception": false,
     "start_time": "2025-05-28T04:16:24.128475",
     "status": "completed"
    },
    "scrolled": false,
    "tags": []
   },
   "outputs": [
    {
     "data": {
      "text/markdown": [
       "<div class=\"macros\" style=\"visibility:hidden;\">\n",
       "$\\newcommand{\\ensuremath}{}$\n",
       "$\\newcommand{\\xspace}{}$\n",
       "$\\newcommand{\\object}[1]{\\texttt{#1}}$\n",
       "$\\newcommand{\\farcs}{{.}''}$\n",
       "$\\newcommand{\\farcm}{{.}'}$\n",
       "$\\newcommand{\\arcsec}{''}$\n",
       "$\\newcommand{\\arcmin}{'}$\n",
       "$\\newcommand{\\ion}[2]{#1#2}$\n",
       "$\\newcommand{\\textsc}[1]{\\textrm{#1}}$\n",
       "$\\newcommand{\\hl}[1]{\\textrm{#1}}$\n",
       "$\\newcommand{\\footnote}[1]{}$\n",
       "$\\newcommand{\\Adrien}[1]{\\textcolor{red}{#1}}$\n",
       "$\\newcommand{\\edited}[1]{{#1}}$</div>\n",
       "\n",
       "\n",
       "\n",
       "<div id=\"title\">\n",
       "\n",
       "# Burned to ashes:\\ How the thermal decomposition of refractory organics in the inner protoplanetary disc impacts the gas-phase C/O ratio\n",
       "\n",
       "</div>\n",
       "<div id=\"comments\">\n",
       "\n",
       "[![arXiv](https://img.shields.io/badge/arXiv-2505.20427-b31b1b.svg)](https://arxiv.org/abs/2505.20427)<mark>Appeared on: 2025-05-28</mark> -  _Accepted for publication in A&A. 18 pages, 14 figures, 1 table_\n",
       "\n",
       "</div>\n",
       "<div id=\"authors\">\n",
       "\n",
       "A. Houge, et al. -- incl., <mark>T. Henning</mark>, <mark>G. Perotti</mark>\n",
       "\n",
       "</div>\n",
       "<div id=\"abstract\">\n",
       "\n",
       "**Abstract:** The largest reservoir of carbon in protoplanetary discs is stored in refractory organics, which thermally decompose into the gas-phase at the organics line, well interior to the water iceline. Because this region is so close to the host star, it is often assumed that the released gaseous material is rapidly accreted and plays little role in the evolution of the disc composition. However, laboratory experiments show that the thermal decomposition process is irreversible, breaking macromolecular refractory organics into simpler, volatile carbon-bearing compounds. As a result, unlike the iceline of other volatiles, which traps vapor inwards due to recondensation, the organics line remains permeable, allowing gaseous carbon to diffuse outward without returning to the solid phase. In this paper, we investigate how this process affects the disc composition, particularly the gas-phase C/H and C/O ratios, by incorporating it into a 1D evolution model for gas and solids, and assuming refractory organics dominantly decompose into $C_2$ $H_2$ . Our results show that this process allows this carbon-rich gas to survive well beyond the organics line (out to $7 \\mathrm{ au}$ around a solar-mass star) and for much longer timescales, such that its abundance is increased by an order of magnitude. This has several implications in planet formation, notably by altering how the composition of solids and gas relate, and the fraction of heavy elements available to giant planets. In the framework of our model, refractory organics significantly influence the evolution of the gas-phase C/O ratio, which may help $\\edited{interpreting}$ measurements made $\\edited{with}$ Spitzer and JWST.\n",
       "\n",
       "</div>\n",
       "\n",
       "<div id=\"div_fig1\">\n",
       "\n",
       "<img src=\"tmp_2505.20427/./CO_radius_c2h2_1ms_alpha1e3_tr_vs_notr.png\" alt=\"Fig10\" width=\"100%\"/>\n",
       "\n",
       "**Figure 10. -** Gas-phase (left panel) and solid-phase (right panel) C/O ratios as functions of distance from a solar-mass star for a disc characterised by $\\alpha = 10^{-3}$. Blue lines represent a standard model that excludes the thermal decomposition of refractory organics \\citep[e.g.,][]{mah2023close}, while red lines show the results from our model, including that effect. The horizontal dashed grey line represents the initial C/O ratio. The sublimation lines of the main species contributing to the C/O ratio are indicated with vertical lines. From this plot, we see that the thermal decomposition of refractory organics significantly influences the gas-phase and solid-phase C/O ratio in the disc. The gas-phase C/O ratio is generally much higher when the thermal decomposition of refractory organics is included. (*fig:CO_vs_radius_tr_vs_notr*)\n",
       "\n",
       "</div>\n",
       "<div id=\"div_fig2\">\n",
       "\n",
       "<img src=\"tmp_2505.20427/./CH_radius_c2h2_1ms_alpha1e3_with_or_no_trsfr.png\" alt=\"Fig2\" width=\"100%\"/>\n",
       "\n",
       "**Figure 2. -** Gas-phase C/H ratio (normalised by the ratio at $t_0$) as a function of distance from a solar-mass star for a disc characterised by $\\alpha = 10^{-3}$. Blue lines represent a standard model that excludes the thermal decomposition of refractory organics \\citep[e.g.,][]{mah2023close}, while red lines show the results from our model, including that effect. The sublimation lines of the main species contributing to the C/O ratio are indicated with vertical lines. From this plot, we see that the thermal decomposition of refractory organics re-distributes gaseous carbon-bearing species through the disc, hence significantly influences the gas-phase C/H ratio. (*fig:CH_tr_vs_notr*)\n",
       "\n",
       "</div>\n",
       "<div id=\"div_fig3\">\n",
       "\n",
       "<img src=\"tmp_2505.20427/./SigmaD_SigmaG_organics_c2h2_1Msun_alpha1e3.png\" alt=\"Fig9\" width=\"100%\"/>\n",
       "\n",
       "**Figure 9. -** Gas surface density (top) and solid surface density (bottom) of the main chemical species that contribute to the C/O ratio at $0.1$, $1$, and $5 \\mathrm{ Myr}$. We ran this simulation with $M_{*} = 1 \\mathrm{ M_\\odot}$ and $\\alpha = 10^{-3}$. The total (dust or gas) surface density is represented as a dark solid line in each row. Vertical dashed lines indicate the sublimation lines of the displayed species in their respective color, using $T_\\mathrm{sub, CO} = 20 \\mathrm{ K}$, $T_\\mathrm{sub, CH_4} = 30 \\mathrm{ K}$, $T_\\mathrm{sub, CO_2} = 70 \\mathrm{ K}$, $T_\\mathrm{sub, C_2H_2} = 70 \\mathrm{ K}$, $T_\\mathrm{sub, H_2O} = 150 \\mathrm{ K}$, and $T_\\mathrm{sub, refractory} = 350 \\mathrm{ K}$(see Table \\ref{tab:partition_abundances}). (*fig:SigmaD_SigmaG*)\n",
       "\n",
       "</div><div id=\"qrcode\"><img src=https://api.qrserver.com/v1/create-qr-code/?size=100x100&data=\"https://arxiv.org/abs/2505.20427\"></div>"
      ],
      "text/plain": [
       "<IPython.core.display.Markdown object>"
      ]
     },
     "metadata": {},
     "output_type": "display_data"
    },
    {
     "data": {
      "text/markdown": [
       "<div class=\"macros\" style=\"visibility:hidden;\">\n",
       "$\\newcommand{\\ensuremath}{}$\n",
       "$\\newcommand{\\xspace}{}$\n",
       "$\\newcommand{\\object}[1]{\\texttt{#1}}$\n",
       "$\\newcommand{\\farcs}{{.}''}$\n",
       "$\\newcommand{\\farcm}{{.}'}$\n",
       "$\\newcommand{\\arcsec}{''}$\n",
       "$\\newcommand{\\arcmin}{'}$\n",
       "$\\newcommand{\\ion}[2]{#1#2}$\n",
       "$\\newcommand{\\textsc}[1]{\\textrm{#1}}$\n",
       "$\\newcommand{\\hl}[1]{\\textrm{#1}}$\n",
       "$\\newcommand{\\footnote}[1]{}$\n",
       "$\\newcommand{\\mmc}{CH_3SH\\xspace}$\n",
       "$\\newcommand{\\met}{CH_3OH\\xspace}$\n",
       "$\\newcommand{\\metc}{CH_3CN\\xspace}$\n",
       "$\\newcommand{\\metctr}{CH_3^{13}CN\\xspace}$\n",
       "$\\newcommand{\\et}{C_2H_5OH\\xspace}$\n",
       "$\\newcommand{\\etc}{C_2H_5CN\\xspace}$\n",
       "$\\newcommand{\\vc}{C_2H_3CN\\xspace}$\n",
       "$\\newcommand{\\dme}{CH_3OCH_3\\xspace}$\n",
       "$\\newcommand{\\mf}{CH_3OCHO\\xspace}$\n",
       "$\\newcommand{\\mic}{CH_3NCO\\xspace}$\n",
       "$\\newcommand{\\ad}{CH_3CHO\\xspace}$\n",
       "$\\newcommand{\\fmm}{NH_2CHO\\xspace}$\n",
       "$\\newcommand{\\2}{_2}$\n",
       "$\\newcommand{\\3}{_3}$\n",
       "$\\newcommand{\\5}{_5}$\n",
       "$\\newcommand{\\7}{_7}$\n",
       "$\\newcommand{\\ct}{^{13}}$\n",
       "$\\newcommand{\\cd}{^{12}}$\n",
       "$\\newcommand{\\ratio}{^{12}C / ^{13}C\\xspace}$\n",
       "$\\newcommand{\\oratio}{^{16}O / ^{18}O\\xspace}$\n",
       "$\\newcommand{\\odh}{^{18}}$\n",
       "$\\newcommand{\\scm}{cm^{-2}\\xspace}$\n",
       "$\\newcommand{\\kms}{ km s^{-1}\\xspace}$</div>\n",
       "\n",
       "\n",
       "\n",
       "<div id=\"title\">\n",
       "\n",
       "# PRODIGE -- envelope to disk with NOEMA: V. Low $\\ratio$ ratios for $\\met$ and $\\metc$ in hot corinos\n",
       "\n",
       "</div>\n",
       "<div id=\"comments\">\n",
       "\n",
       "[![arXiv](https://img.shields.io/badge/arXiv-2505.21307-b31b1b.svg)](https://arxiv.org/abs/2505.21307)<mark>Appeared on: 2025-05-28</mark> -  _Accepted for publication in A&A_\n",
       "\n",
       "</div>\n",
       "<div id=\"authors\">\n",
       "\n",
       "L. A. Busch, et al. -- incl., <mark>C. Gieser</mark>, <mark>T. Henning</mark>, <mark>D. Semenov</mark>\n",
       "\n",
       "</div>\n",
       "<div id=\"abstract\">\n",
       "\n",
       "**Abstract:** The $\\ratio$ isotope ratio has been derived towards numerous cold clouds ( $\\sim$ 20--50 K) and a couple protoplanetary disks and exoplanet atmospheres.  However, direct measurements of this ratio in the warm gas ( $>$ 100 K) around young low-mass protostars remain scarce, but are required to study its evolution during star and planet formation. We aim to derive $\\ratio$ ratios from the isotopologues of the complex organic molecules (COMs) $\\met$ and $\\metc$ in the warm gas towards seven Class 0/I protostellar systems to improve our understanding of the evolution of the $\\ratio$ ratios during star and planet formation. We used the data that were taken as part of the PRODIGE (PROtostars \\& DIsks: Global Evolution) large program with the Northern Extended Millimeter Array (NOEMA) at 1 mm. The $\\ct$ C isotopologue of $\\met$ was detected towards seven sources of the sample, the ones of $CH_3$ CN towards six. The emission spectra were analysed by deriving synthetic spectra and population diagrams assuming conditions of local thermodynamic equilibrium (LTE). The emission of $\\met$ and $\\metc$ is spatially unresolved in the PRODIGE data with a resolution of $\\sim$ 1 $\\arcsec$ ( $\\sim$ 300 au) for the seven targeted systems. Rotational temperatures derived from both COMs exceed 100 K, telling us that they trace the gas of the hot corino, where $\\metc$ probes hotter regions than $\\met$ on average (290 K versus 180 K). The column density ratios between the $\\cd$ C and $\\ct$ C isotopologues range from 4 to 30, thus, are lower by factors of a few up to an order of magnitude than the expected local ISM isotope ratio of $\\sim$ 68. We conducted astrochemical models to understand the origins of the observed low ratios. We studied potential precursor molecules of $\\met$ and $\\metc$ , since the model does not include COMs, assuming that the ratio is transferred in reactions from the precursors to the COMs. The model predicts $\\ratio$ ratios close to the ISM value for CO and $H_2$ CO, precursors of $CH_3$ OH, in contrast to our observational results. For the potential precursors of $CH_3$ CN (CN, HCN, and HNC), the model predicts low $\\ratio$ ratios close to the protostar ( $<300$ au), hence, they may also be expected for $\\metc$ . Our results show that an enrichment in $\\ct$ C in COMs at the earliest protostellar stages is likely inherited from the COMs' precursor species, whose $\\ratio$ ratios are set during the prestellar stage via isotopic exchange reactions. This also implies that low $\\ratio$ ratios observed at later evolutionary stages such as protoplanetary disks and exoplanetary atmospheres could at least partially be inherited. A final conclusion on $\\ratio$ ratios in protostellar environments requires observations at higher angular and spectral resolution that simultaneously cover a broad bandwidth, to tackle current observational limitations, and additional modelling efforts.\n",
       "\n",
       "</div>\n",
       "\n",
       "<div id=\"div_fig1\">\n",
       "\n",
       "<img src=\"tmp_2505.21307/./figs/PD/ch3oh_IRAS4B_on.png\" alt=\"Fig12.1\" width=\"20%\"/><img src=\"tmp_2505.21307/./figs/PD/ch3oh.13c_IRAS4B_on.png\" alt=\"Fig12.2\" width=\"20%\"/><img src=\"tmp_2505.21307/./figs/PD/ch3cn_IRAS4B_on.png\" alt=\"Fig12.3\" width=\"20%\"/><img src=\"tmp_2505.21307/./figs/PD/ch3cn.13c1_IRAS4B_on.png\" alt=\"Fig12.4\" width=\"20%\"/><img src=\"tmp_2505.21307/./figs/PD/ch3cn.13c2_IRAS4B_on.png\" alt=\"Fig12.5\" width=\"20%\"/>\n",
       "\n",
       "**Figure 12. -** Population diagrams for $\\met$, $\\ct$$\\met$, $\\met$c, $\\ct$$\\met$c, and $\\met$ctr towards IRAS 4B. Observed data points are shown with teal circles as indicated in the top right corner of the left panel while the modelled data points from Weeds are shown orange squares. No corrections are applied in the left panel while in the right panel corrections for opacity and contamination by other molecules have been considered for the observed and modelled populations.\n",
       "    The results of the linear fit to the observed data points are shown in the right panels.  (*pd:iras4b*)\n",
       "\n",
       "</div>\n",
       "<div id=\"div_fig2\">\n",
       "\n",
       "<img src=\"tmp_2505.21307/./figs/Maps/IRAS2A.png\" alt=\"Fig5\" width=\"100%\"/>\n",
       "\n",
       "**Figure 5. -** Integrated intensity maps (in K $\\kms$) using two transitions for both isotopologues of $\\met$, the main $\\met$c isotopologue, and one transition for each $\\ct$ C isotopologue towards IRAS 2A. Respective rest frequencies in GHz are shown in the bottom right corner, the beam (half power beam width, HPBW) on the bottom left. Multiplication factors (e.g. $\\times$3, next to the species name) were applied to some species and transitions to be able to use the same intensity scale for all panels. The yellow dashed contour is at 5$\\sigma$, where $\\sigma$ is the rms noise level (in K $\\kms$) and is written in the top right corner. (*maps:iras2a*)\n",
       "\n",
       "</div>\n",
       "<div id=\"div_fig3\">\n",
       "\n",
       "<img src=\"tmp_2505.21307/./figs/data_vis.png\" alt=\"Fig22\" width=\"100%\"/>\n",
       "\n",
       "**Figure 22. -** Overview of the PRODIGE data towards IRAS 4B and presentation of the spectral-line analysis . _Panel a:_ Integrated intensity map (in K $\\kms$) for the $\\met$c$12_3-11_3$ transition at 220.708 GHz. The beam (half power beam width, HPBW) is shown in the bottom left. The dashed yellow contour is at 5$\\sigma$, where $\\sigma$ is the rms noise level (in K $\\kms$) and is written in the top right corner. _Panel b:_ Observed spectra towards the peak position, which is at $(\\Delta\\alpha,\\Delta\\beta)=(0$\\arcsec$,0$\\arcsec$)$(black cross in panel a), of $\\met$c at low ($\\sim$2 MHz, black) and high ($\\sim$62.5 kHz, teal) spectral resolution, where the latter was shifted by 8 K for visualisation. The low spectral resolution data were analysed in this work (see Sect. \\ref{s:method}). The modelled $\\met$c spectra from Weeds are shown in red (low resolution) and orange (high resolution), where the same input parameters were used for both. _Panel c:_ Population diagram for $\\met$c. Teal circles show the observed data points while the modelled data points from Weeds are shown with orange squares (see Sect. \\ref{ss:caveats} for possible origins of differences between the two). No corrections are applied in the left panel while in the right panel corrections for opacity and contamination by other molecules have been considered (negligible effect in this case) and only transitions with optical depths $<$ 0.5 (i.e. all transitions in this case) are shown.\n",
       "    The results of the linear fit to the observed data points are shown in the right panels. (*fig:overview*)\n",
       "\n",
       "</div><div id=\"qrcode\"><img src=https://api.qrserver.com/v1/create-qr-code/?size=100x100&data=\"https://arxiv.org/abs/2505.21307\"></div>"
      ],
      "text/plain": [
       "<IPython.core.display.Markdown object>"
      ]
     },
     "metadata": {},
     "output_type": "display_data"
    },
    {
     "data": {
      "text/markdown": [
       "<div class=\"macros\" style=\"visibility:hidden;\">\n",
       "$\\newcommand{\\ensuremath}{}$\n",
       "$\\newcommand{\\xspace}{}$\n",
       "$\\newcommand{\\object}[1]{\\texttt{#1}}$\n",
       "$\\newcommand{\\farcs}{{.}''}$\n",
       "$\\newcommand{\\farcm}{{.}'}$\n",
       "$\\newcommand{\\arcsec}{''}$\n",
       "$\\newcommand{\\arcmin}{'}$\n",
       "$\\newcommand{\\ion}[2]{#1#2}$\n",
       "$\\newcommand{\\textsc}[1]{\\textrm{#1}}$\n",
       "$\\newcommand{\\hl}[1]{\\textrm{#1}}$\n",
       "$\\newcommand{\\footnote}[1]{}$</div>\n",
       "\n",
       "\n",
       "\n",
       "<div id=\"title\">\n",
       "\n",
       "# Changing disc compositions via internal photoevaporation II: \\ M dwarf systems\n",
       "\n",
       "</div>\n",
       "<div id=\"comments\">\n",
       "\n",
       "[![arXiv](https://img.shields.io/badge/arXiv-2505.21470-b31b1b.svg)](https://arxiv.org/abs/2505.21470)<mark>Appeared on: 2025-05-28</mark> - \n",
       "\n",
       "</div>\n",
       "<div id=\"authors\">\n",
       "\n",
       "J. L. Lienert, B. Bitsch, <mark>T. Henning</mark>\n",
       "\n",
       "</div>\n",
       "<div id=\"abstract\">\n",
       "\n",
       "**Abstract:** The chemical evolution of the inner regions of protoplanetary discs is a complex process. It is influenced by several factors, one being the inward drift and evaporation of volatile-rich pebbles that can enrich the inner disc with vapour. During the evolution of the disc, its inner part is first enriched with evaporating water-ice, resulting in a low C/O ratio. Afterwards, carbon-rich gas from the outer disc, originating from the evaporation of CO, $CO_2$ and $CH_4$ ice, is viscously transported inwards, while at the same time, the supply of water-rich pebbles ceases and the water vapour in the inner disc is accreted onto the star. Consequently, the C/O ratio of the inner disc increases again after $2   \\text{Myr}$ . Previously, we studied how internal photoevaporation influences the chemical composition and evolution of discs around Sun-like stars by carrying away gas and opening gaps that block inward drifting pebbles. We now extend our study to lower-mass stars ( $M_{\\star} = 0.1 - 0.5   \\text{M}_{\\odot}$ ), where the time evolution of the disc's C/O ratio is different due to the closer-in position of the evaporation fronts and differences in disc mass, size and structure. Our simulations are carried out with a semi-analytical 1D disc model. The code \\texttt{chemcomp} includes viscous evolution and heating, pebble growth and drift, pebble evaporation and condensation, as well as a simple chemical partitioning model for the disc. We show that internal photoevaporation plays a major role in the evolution of protoplanetary discs and their chemical composition: As for solar-mass stars, photoevaporation opens a gap, which stops inward drifting pebbles. They then cannot contribute to the volatile content of the gas in the inner disc any more. In addition, volatile-rich gas from the outer disc, originating from evaporated CO, $CO_2$ or $CH_4$ ice, is carried away by the photoevaporative winds. Consequently, the C/O ratio in the inner disc remains low, contradicting observations of the composition of discs around low-mass stars. Our model implies that inner discs at young ages ( $< 2   \\text{Myr}$ ) should be oxygen-rich and carbon-poor, while older discs ( $> 2   \\text{Myr}$ ) should be carbon-rich. The survival of discs to this age can be attributed to lower photoevaporation rates. These lower rates could either originate from the large spread of observed X-ray luminosities or from the photoevaporation model used in this study \\citep[based on][]{picognaDispersalProtoplanetaryDiscs2021b} , which likely overestimates the photoevaporation efficiency at a given X-ray luminosity, leading to discrepancies with the observed C/O ratios in discs around low-mass stars. A reduction of the photoevaporation rate brings the calculated elemental abundances into better agreement with observations.\n",
       "\n",
       "</div>\n",
       "\n",
       "<div id=\"div_fig1\">\n",
       "\n",
       "<img src=\"tmp_2505.21470/./Plots/gas_surface_density_and_C_to_O_ratio_with_photoevap_alpha_1e-4.png\" alt=\"Fig4\" width=\"100%\"/>\n",
       "\n",
       "**Figure 4. -** Disc evolution for a viscous disc with internal photoevaporation due to X-rays, using the nominal photoevaporative mass loss rates from table \\ref{table:fit_parameters}. The host star masses vary from $0.5   \\text{M}_{\\odot}$(on the left) to $0.1   \\text{M}_{\\odot}$(on the right). **Top:** Gas surface density as a function of disc radius, time evolution is shown in colour - from black, which corresponds to $0   \\text{Myr}$, to dark red, which corresponds to $10   \\text{Myr}$. **Bottom:** Gaseous C/O ratio as a function of disc radius and time (colour-coded). The evaporation lines for different molecules are given as grey dashed lines. Note that the C/O ratio is calculated from number densities and that we, by definition, have no specified C/O ratio in the gas phase beyond the CO evaporation front. We use our standard parameters for this simulation, as given in table \\ref{table:simulation_parameters}. (*fig:overview_disc_with_PE*)\n",
       "\n",
       "</div>\n",
       "<div id=\"div_fig2\">\n",
       "\n",
       "<img src=\"tmp_2505.21470/./Plots/gas_surface_density_and_C_to_O_ratio_no_photoevap_alpha_1e-4.png\" alt=\"Fig8\" width=\"100%\"/>\n",
       "\n",
       "**Figure 8. -** Disc evolution for a viscous disc without internal photoevaporation. The host star masses vary from $0.5   \\text{M}_{\\odot}$(on the left) to $0.1   \\text{M}_{\\odot}$(on the right). **Top:** Gas surface density as a function of disc radius and time. **Bottom:** Gaseous C/O ratio as a function of disc radius and time. Colour coding, plotting and simulation parameters as in figure \\ref{fig:overview_disc_with_PE}. (*fig:overview_viscous_disc*)\n",
       "\n",
       "</div>\n",
       "<div id=\"div_fig3\">\n",
       "\n",
       "<img src=\"tmp_2505.21470/./Plots/X_ray_lum_vs_mass.png\" alt=\"Fig2\" width=\"100%\"/>\n",
       "\n",
       "**Figure 2. -** X-ray luminosity, derived from the measured X-ray flux, as a function of stellar mass for all detected \\ac{XEST} sources, re-plotted from gudelXMMNewtonExtendedSurvey2007 using their original data. The distance to Taurus is estimated with $140   \\text{pc}$, although we note that Taurus consists of subgroups with varying distances  (galliStructureKinematicsTaurus2019) . The flux of stars with more than one measurement has been averaged to retrieve only one data point for the plot. The circle, star and diamond symbols define the stellar class, as defined for \\ac{XEST} sources, and the straight line gives a linear regression for the logarithmic values, being described by the following equation, $\\log(L_{\\text{X}}) = 1.54 \\log(M_{\\star}) + 30.31$. Synthetic values from our simulations from sections \\ref{ssec:Reduced_photoevaporation_rate} and \\ref{ssec:Disc_lifetimes} are added as purple coloured squares, with the colour indicating the gap opening time of the disc, $t_{\\text{gap}}$. (*fig:guedel_fig_12*)\n",
       "\n",
       "</div><div id=\"qrcode\"><img src=https://api.qrserver.com/v1/create-qr-code/?size=100x100&data=\"https://arxiv.org/abs/2505.21470\"></div>"
      ],
      "text/plain": [
       "<IPython.core.display.Markdown object>"
      ]
     },
     "metadata": {},
     "output_type": "display_data"
    }
   ],
   "source": [
    "[display(Markdown(k[1])) for k in documents];"
   ]
  },
  {
   "cell_type": "markdown",
   "id": "873873a4",
   "metadata": {
    "papermill": {
     "duration": 0.005431,
     "end_time": "2025-05-28T04:16:24.153075",
     "exception": false,
     "start_time": "2025-05-28T04:16:24.147644",
     "status": "completed"
    },
    "tags": []
   },
   "source": [
    "# Create HTML index"
   ]
  },
  {
   "cell_type": "code",
   "execution_count": 10,
   "id": "cf665672",
   "metadata": {
    "execution": {
     "iopub.execute_input": "2025-05-28T04:16:24.164805Z",
     "iopub.status.busy": "2025-05-28T04:16:24.164424Z",
     "iopub.status.idle": "2025-05-28T04:16:24.175069Z",
     "shell.execute_reply": "2025-05-28T04:16:24.174475Z"
    },
    "papermill": {
     "duration": 0.01752,
     "end_time": "2025-05-28T04:16:24.176070",
     "exception": false,
     "start_time": "2025-05-28T04:16:24.158550",
     "status": "completed"
    },
    "tags": []
   },
   "outputs": [
    {
     "name": "stdout",
     "output_type": "stream",
     "text": [
      "504  publications files modified in the last 7 days.\n"
     ]
    }
   ],
   "source": [
    "from datetime import datetime, timedelta, timezone\n",
    "from glob import glob\n",
    "import os\n",
    "\n",
    "files = glob('_build/html/*.md')\n",
    "days = 7\n",
    "now = datetime.today()\n",
    "res = []\n",
    "for fk in files:\n",
    "    stat_result = os.stat(fk).st_ctime\n",
    "    modified = datetime.fromtimestamp(stat_result, tz=timezone.utc).replace(tzinfo=None)\n",
    "    delta = now.today() - modified\n",
    "    if delta <= timedelta(days=days):\n",
    "        res.append((delta.seconds, fk))\n",
    "res = [k[1] for k in reversed(sorted(res, key=lambda x:x[1]))]\n",
    "npub = len(res)\n",
    "print(len(res), f\" publications files modified in the last {days:d} days.\")\n",
    "# [ print('\\t', k) for k in res ];"
   ]
  },
  {
   "cell_type": "code",
   "execution_count": 11,
   "id": "015de740",
   "metadata": {
    "execution": {
     "iopub.execute_input": "2025-05-28T04:16:24.187852Z",
     "iopub.status.busy": "2025-05-28T04:16:24.187481Z",
     "iopub.status.idle": "2025-05-28T04:16:24.212101Z",
     "shell.execute_reply": "2025-05-28T04:16:24.211442Z"
    },
    "papermill": {
     "duration": 0.031577,
     "end_time": "2025-05-28T04:16:24.213140",
     "exception": false,
     "start_time": "2025-05-28T04:16:24.181563",
     "status": "completed"
    },
    "tags": []
   },
   "outputs": [
    {
     "name": "stdout",
     "output_type": "stream",
     "text": [
      "11  publications in the last 7 days.\n"
     ]
    }
   ],
   "source": [
    "import datetime\n",
    "from glob import glob\n",
    "\n",
    "def get_last_n_days(lst, days=1):\n",
    "    \"\"\" Get the documents from the last n days \"\"\"\n",
    "    sorted_lst = sorted(lst, key=lambda x: x[1], reverse=True)\n",
    "    for fname, date in sorted_lst:\n",
    "        if date >= str(datetime.date.today() - datetime.timedelta(days=days)):\n",
    "            yield fname\n",
    "\n",
    "def extract_appearance_dates(lst_file):\n",
    "    dates = []\n",
    "\n",
    "    def get_date(line):\n",
    "        return line\\\n",
    "            .split('Appeared on:')[-1]\\\n",
    "            .split('</mark>')[0].strip()\n",
    "\n",
    "    for fname in lst:\n",
    "        with open(fname, 'r') as f:\n",
    "            found_date = False\n",
    "            for line in f:\n",
    "                if not found_date:\n",
    "                    if \"Appeared on\" in line:\n",
    "                        found_date = True\n",
    "                        dates.append((fname, get_date(line)))\n",
    "                else:\n",
    "                    break\n",
    "    return dates\n",
    "\n",
    "from glob import glob\n",
    "lst = glob('_build/html/*md')\n",
    "days = 7\n",
    "dates = extract_appearance_dates(lst)\n",
    "res = list(get_last_n_days(dates, days))\n",
    "npub = len(res)\n",
    "print(len(res), f\" publications in the last {days:d} days.\")"
   ]
  },
  {
   "cell_type": "code",
   "execution_count": 12,
   "id": "52ca0208",
   "metadata": {
    "execution": {
     "iopub.execute_input": "2025-05-28T04:16:24.225158Z",
     "iopub.status.busy": "2025-05-28T04:16:24.224880Z",
     "iopub.status.idle": "2025-05-28T04:16:24.229910Z",
     "shell.execute_reply": "2025-05-28T04:16:24.229351Z"
    },
    "papermill": {
     "duration": 0.012186,
     "end_time": "2025-05-28T04:16:24.230977",
     "exception": false,
     "start_time": "2025-05-28T04:16:24.218791",
     "status": "completed"
    },
    "scrolled": false,
    "tags": []
   },
   "outputs": [],
   "source": [
    "def create_carousel(npub=4):\n",
    "    \"\"\" Generate the HTML code for a carousel with `npub` slides \"\"\"\n",
    "    carousel = [\"\"\"  <div class=\"carousel\" \"\"\",\n",
    "                \"\"\"       data-flickity='{ \"autoPlay\": 10000, \"adaptiveHeight\": true, \"resize\": true, \"wrapAround\": true, \"pauseAutoPlayOnHover\": true, \"groupCells\": 1 }' id=\"asyncTypeset\">\"\"\"\n",
    "                ]\n",
    "    \n",
    "    item_str = \"\"\"    <div class=\"carousel-cell\"> <div id=\"slide{k}\" class=\"md_view\">Content {k}</div> </div>\"\"\"\n",
    "    for k in range(1, npub + 1):\n",
    "        carousel.append(item_str.format(k=k))\n",
    "    carousel.append(\"  </div>\")\n",
    "    return '\\n'.join(carousel)\n",
    "\n",
    "def create_grid(npub=4):\n",
    "    \"\"\" Generate the HTML code for a flat grid with `npub` slides \"\"\"\n",
    "    grid = [\"\"\"  <div class=\"grid\"> \"\"\",\n",
    "                ]\n",
    "    \n",
    "    item_str = \"\"\"    <div class=\"grid-item\"> <div id=\"slide{k}\" class=\"md_view\">Content {k}</div> </div>\"\"\"\n",
    "    for k in range(1, npub + 1):\n",
    "        grid.append(item_str.format(k=k))\n",
    "    grid.append(\"  </div>\")\n",
    "    return '\\n'.join(grid)"
   ]
  },
  {
   "cell_type": "code",
   "execution_count": 13,
   "id": "a6eac5b6",
   "metadata": {
    "execution": {
     "iopub.execute_input": "2025-05-28T04:16:24.243027Z",
     "iopub.status.busy": "2025-05-28T04:16:24.242640Z",
     "iopub.status.idle": "2025-05-28T04:16:24.247586Z",
     "shell.execute_reply": "2025-05-28T04:16:24.246975Z"
    },
    "papermill": {
     "duration": 0.011963,
     "end_time": "2025-05-28T04:16:24.248573",
     "exception": false,
     "start_time": "2025-05-28T04:16:24.236610",
     "status": "completed"
    },
    "scrolled": false,
    "tags": []
   },
   "outputs": [],
   "source": [
    "carousel = create_carousel(npub)\n",
    "docs = ', '.join(['\"{0:s}\"'.format(k.split('/')[-1]) for k in res])\n",
    "slides = ', '.join([f'\"slide{k}\"' for k in range(1, npub + 1)])\n",
    "\n",
    "with open(\"daily_template.html\", \"r\") as tpl:\n",
    "    page = tpl.read()\n",
    "    page = page.replace(\"{%-- carousel:s --%}\", carousel)\\\n",
    "               .replace(\"{%-- suptitle:s --%}\",  \"7-day archives\" )\\\n",
    "               .replace(\"{%-- docs:s --%}\", docs)\\\n",
    "               .replace(\"{%-- slides:s --%}\", slides)\n",
    "    \n",
    "with open(\"_build/html/index_7days.html\", 'w') as fout:\n",
    "    fout.write(page)"
   ]
  },
  {
   "cell_type": "code",
   "execution_count": 14,
   "id": "adc1a1ec",
   "metadata": {
    "execution": {
     "iopub.execute_input": "2025-05-28T04:16:24.261067Z",
     "iopub.status.busy": "2025-05-28T04:16:24.260690Z",
     "iopub.status.idle": "2025-05-28T04:16:24.267673Z",
     "shell.execute_reply": "2025-05-28T04:16:24.267041Z"
    },
    "papermill": {
     "duration": 0.01419,
     "end_time": "2025-05-28T04:16:24.268679",
     "exception": false,
     "start_time": "2025-05-28T04:16:24.254489",
     "status": "completed"
    },
    "tags": []
   },
   "outputs": [
    {
     "name": "stdout",
     "output_type": "stream",
     "text": [
      "5  publications in the last day.\n"
     ]
    }
   ],
   "source": [
    "# redo for today\n",
    "days = 1\n",
    "res = list(get_last_n_days(dates, days))\n",
    "npub = len(res)\n",
    "print(len(res), f\" publications in the last day.\")\n",
    "\n",
    "carousel = create_carousel(npub)\n",
    "docs = ', '.join(['\"{0:s}\"'.format(k.split('/')[-1]) for k in res])\n",
    "slides = ', '.join([f'\"slide{k}\"' for k in range(1, npub + 1)])\n",
    "\n",
    "with open(\"daily_template.html\", \"r\") as tpl:\n",
    "    page = tpl.read()\n",
    "    page = page.replace(\"{%-- carousel:s --%}\", carousel)\\\n",
    "               .replace(\"{%-- suptitle:s --%}\",  \"Daily\" )\\\n",
    "               .replace(\"{%-- docs:s --%}\", docs)\\\n",
    "               .replace(\"{%-- slides:s --%}\", slides)\n",
    "    \n",
    "# print(carousel, docs, slides)\n",
    "# print(page)\n",
    "with open(\"_build/html/index_daily.html\", 'w') as fout:\n",
    "    fout.write(page)"
   ]
  },
  {
   "cell_type": "code",
   "execution_count": 15,
   "id": "00eece82",
   "metadata": {
    "execution": {
     "iopub.execute_input": "2025-05-28T04:16:24.281239Z",
     "iopub.status.busy": "2025-05-28T04:16:24.280780Z",
     "iopub.status.idle": "2025-05-28T04:16:24.287408Z",
     "shell.execute_reply": "2025-05-28T04:16:24.286753Z"
    },
    "papermill": {
     "duration": 0.014034,
     "end_time": "2025-05-28T04:16:24.288474",
     "exception": false,
     "start_time": "2025-05-28T04:16:24.274440",
     "status": "completed"
    },
    "scrolled": false,
    "tags": []
   },
   "outputs": [
    {
     "name": "stdout",
     "output_type": "stream",
     "text": [
      "6  6 publications selected.\n"
     ]
    }
   ],
   "source": [
    "# Create the flat grid of the last N papers (fixed number regardless of dates)\n",
    "from itertools import islice \n",
    "\n",
    "npub = 6\n",
    "res = [k[0] for k in (islice(reversed(sorted(dates, key=lambda x: x[1])), 6))]\n",
    "print(len(res), f\" {npub} publications selected.\")\n",
    "\n",
    "grid = create_grid(npub)\n",
    "docs = ', '.join(['\"{0:s}\"'.format(k.split('/')[-1]) for k in res])\n",
    "slides = ', '.join([f'\"slide{k}\"' for k in range(1, npub + 1)])\n",
    "\n",
    "with open(\"grid_template.html\", \"r\") as tpl:\n",
    "    page = tpl.read()\n",
    "    page = page.replace(\"{%-- grid-content:s --%}\", grid)\\\n",
    "               .replace(\"{%-- suptitle:s --%}\",  f\"Last {npub:,d} papers\" )\\\n",
    "               .replace(\"{%-- docs:s --%}\", docs)\\\n",
    "               .replace(\"{%-- slides:s --%}\", slides)\n",
    "    \n",
    "# print(grid, docs, slides)\n",
    "# print(page)\n",
    "with open(\"_build/html/index_npub_grid.html\", 'w') as fout:\n",
    "    fout.write(page)"
   ]
  }
 ],
 "metadata": {
  "kernelspec": {
   "display_name": "Python 3 (ipykernel)",
   "language": "python",
   "name": "python3"
  },
  "language_info": {
   "codemirror_mode": {
    "name": "ipython",
    "version": 3
   },
   "file_extension": ".py",
   "mimetype": "text/x-python",
   "name": "python",
   "nbconvert_exporter": "python",
   "pygments_lexer": "ipython3",
   "version": "3.9.22"
  },
  "papermill": {
   "default_parameters": {},
   "duration": 86.868616,
   "end_time": "2025-05-28T04:16:24.510562",
   "environment_variables": {},
   "exception": null,
   "input_path": "MPIA daily digest.ipynb",
   "output_path": "log.ipynb",
   "parameters": {},
   "start_time": "2025-05-28T04:14:57.641946",
   "version": "2.6.0"
  },
  "vscode": {
   "interpreter": {
    "hash": "aee8b7b246df8f9039afb4144a1f6fd8d2ca17a180786b69acc140d282b71a49"
   }
  },
  "widgets": {
   "application/vnd.jupyter.widget-state+json": {
    "state": {
     "1cae714a0ae9462db100542fc2bb957a": {
      "model_module": "@jupyter-widgets/base",
      "model_module_version": "2.0.0",
      "model_name": "LayoutModel",
      "state": {
       "_model_module": "@jupyter-widgets/base",
       "_model_module_version": "2.0.0",
       "_model_name": "LayoutModel",
       "_view_count": null,
       "_view_module": "@jupyter-widgets/base",
       "_view_module_version": "2.0.0",
       "_view_name": "LayoutView",
       "align_content": null,
       "align_items": null,
       "align_self": null,
       "border_bottom": null,
       "border_left": null,
       "border_right": null,
       "border_top": null,
       "bottom": null,
       "display": null,
       "flex": null,
       "flex_flow": null,
       "grid_area": null,
       "grid_auto_columns": null,
       "grid_auto_flow": null,
       "grid_auto_rows": null,
       "grid_column": null,
       "grid_gap": null,
       "grid_row": null,
       "grid_template_areas": null,
       "grid_template_columns": null,
       "grid_template_rows": null,
       "height": null,
       "justify_content": null,
       "justify_items": null,
       "left": null,
       "margin": null,
       "max_height": null,
       "max_width": null,
       "min_height": null,
       "min_width": null,
       "object_fit": null,
       "object_position": null,
       "order": null,
       "overflow": null,
       "padding": null,
       "right": null,
       "top": null,
       "visibility": null,
       "width": null
      }
     },
     "3029640b75d247958ffa3eb3726a5846": {
      "model_module": "@jupyter-widgets/controls",
      "model_module_version": "2.0.0",
      "model_name": "ProgressStyleModel",
      "state": {
       "_model_module": "@jupyter-widgets/controls",
       "_model_module_version": "2.0.0",
       "_model_name": "ProgressStyleModel",
       "_view_count": null,
       "_view_module": "@jupyter-widgets/base",
       "_view_module_version": "2.0.0",
       "_view_name": "StyleView",
       "bar_color": null,
       "description_width": ""
      }
     },
     "583e543b9323421b82c85605f95b50e0": {
      "model_module": "@jupyter-widgets/controls",
      "model_module_version": "2.0.0",
      "model_name": "HBoxModel",
      "state": {
       "_dom_classes": [],
       "_model_module": "@jupyter-widgets/controls",
       "_model_module_version": "2.0.0",
       "_model_name": "HBoxModel",
       "_view_count": null,
       "_view_module": "@jupyter-widgets/controls",
       "_view_module_version": "2.0.0",
       "_view_name": "HBoxView",
       "box_style": "",
       "children": [
        "IPY_MODEL_f27f9d0fa5dd4d5e8e551c02a7ddc5c2",
        "IPY_MODEL_f8dc7477ec094c0bb5c86afe80de7912",
        "IPY_MODEL_8767ad85714f436ea2a180a1a21006ce"
       ],
       "layout": "IPY_MODEL_a3d9431202cd46dda8af52c1c9472c6c",
       "tabbable": null,
       "tooltip": null
      }
     },
     "6374cd5904a449179b1361704552ea22": {
      "model_module": "@jupyter-widgets/controls",
      "model_module_version": "2.0.0",
      "model_name": "HTMLStyleModel",
      "state": {
       "_model_module": "@jupyter-widgets/controls",
       "_model_module_version": "2.0.0",
       "_model_name": "HTMLStyleModel",
       "_view_count": null,
       "_view_module": "@jupyter-widgets/base",
       "_view_module_version": "2.0.0",
       "_view_name": "StyleView",
       "background": null,
       "description_width": "",
       "font_size": null,
       "text_color": null
      }
     },
     "647bc0b4b7194c3b8530d059e76cdad7": {
      "model_module": "@jupyter-widgets/base",
      "model_module_version": "2.0.0",
      "model_name": "LayoutModel",
      "state": {
       "_model_module": "@jupyter-widgets/base",
       "_model_module_version": "2.0.0",
       "_model_name": "LayoutModel",
       "_view_count": null,
       "_view_module": "@jupyter-widgets/base",
       "_view_module_version": "2.0.0",
       "_view_name": "LayoutView",
       "align_content": null,
       "align_items": null,
       "align_self": null,
       "border_bottom": null,
       "border_left": null,
       "border_right": null,
       "border_top": null,
       "bottom": null,
       "display": null,
       "flex": null,
       "flex_flow": null,
       "grid_area": null,
       "grid_auto_columns": null,
       "grid_auto_flow": null,
       "grid_auto_rows": null,
       "grid_column": null,
       "grid_gap": null,
       "grid_row": null,
       "grid_template_areas": null,
       "grid_template_columns": null,
       "grid_template_rows": null,
       "height": null,
       "justify_content": null,
       "justify_items": null,
       "left": null,
       "margin": null,
       "max_height": null,
       "max_width": null,
       "min_height": null,
       "min_width": null,
       "object_fit": null,
       "object_position": null,
       "order": null,
       "overflow": null,
       "padding": null,
       "right": null,
       "top": null,
       "visibility": null,
       "width": null
      }
     },
     "8767ad85714f436ea2a180a1a21006ce": {
      "model_module": "@jupyter-widgets/controls",
      "model_module_version": "2.0.0",
      "model_name": "HTMLModel",
      "state": {
       "_dom_classes": [],
       "_model_module": "@jupyter-widgets/controls",
       "_model_module_version": "2.0.0",
       "_model_name": "HTMLModel",
       "_view_count": null,
       "_view_module": "@jupyter-widgets/controls",
       "_view_module_version": "2.0.0",
       "_view_name": "HTMLView",
       "description": "",
       "description_allow_html": false,
       "layout": "IPY_MODEL_d35965157e8840b7b6ab6aa1e0df4dc8",
       "placeholder": "​",
       "style": "IPY_MODEL_b9fc62668d634dbfa143fd075bec55ae",
       "tabbable": null,
       "tooltip": null,
       "value": " 5/5 [01:02&lt;00:00, 16.12s/it]"
      }
     },
     "a3d9431202cd46dda8af52c1c9472c6c": {
      "model_module": "@jupyter-widgets/base",
      "model_module_version": "2.0.0",
      "model_name": "LayoutModel",
      "state": {
       "_model_module": "@jupyter-widgets/base",
       "_model_module_version": "2.0.0",
       "_model_name": "LayoutModel",
       "_view_count": null,
       "_view_module": "@jupyter-widgets/base",
       "_view_module_version": "2.0.0",
       "_view_name": "LayoutView",
       "align_content": null,
       "align_items": null,
       "align_self": null,
       "border_bottom": null,
       "border_left": null,
       "border_right": null,
       "border_top": null,
       "bottom": null,
       "display": null,
       "flex": null,
       "flex_flow": null,
       "grid_area": null,
       "grid_auto_columns": null,
       "grid_auto_flow": null,
       "grid_auto_rows": null,
       "grid_column": null,
       "grid_gap": null,
       "grid_row": null,
       "grid_template_areas": null,
       "grid_template_columns": null,
       "grid_template_rows": null,
       "height": null,
       "justify_content": null,
       "justify_items": null,
       "left": null,
       "margin": null,
       "max_height": null,
       "max_width": null,
       "min_height": null,
       "min_width": null,
       "object_fit": null,
       "object_position": null,
       "order": null,
       "overflow": null,
       "padding": null,
       "right": null,
       "top": null,
       "visibility": null,
       "width": null
      }
     },
     "b9fc62668d634dbfa143fd075bec55ae": {
      "model_module": "@jupyter-widgets/controls",
      "model_module_version": "2.0.0",
      "model_name": "HTMLStyleModel",
      "state": {
       "_model_module": "@jupyter-widgets/controls",
       "_model_module_version": "2.0.0",
       "_model_name": "HTMLStyleModel",
       "_view_count": null,
       "_view_module": "@jupyter-widgets/base",
       "_view_module_version": "2.0.0",
       "_view_name": "StyleView",
       "background": null,
       "description_width": "",
       "font_size": null,
       "text_color": null
      }
     },
     "d35965157e8840b7b6ab6aa1e0df4dc8": {
      "model_module": "@jupyter-widgets/base",
      "model_module_version": "2.0.0",
      "model_name": "LayoutModel",
      "state": {
       "_model_module": "@jupyter-widgets/base",
       "_model_module_version": "2.0.0",
       "_model_name": "LayoutModel",
       "_view_count": null,
       "_view_module": "@jupyter-widgets/base",
       "_view_module_version": "2.0.0",
       "_view_name": "LayoutView",
       "align_content": null,
       "align_items": null,
       "align_self": null,
       "border_bottom": null,
       "border_left": null,
       "border_right": null,
       "border_top": null,
       "bottom": null,
       "display": null,
       "flex": null,
       "flex_flow": null,
       "grid_area": null,
       "grid_auto_columns": null,
       "grid_auto_flow": null,
       "grid_auto_rows": null,
       "grid_column": null,
       "grid_gap": null,
       "grid_row": null,
       "grid_template_areas": null,
       "grid_template_columns": null,
       "grid_template_rows": null,
       "height": null,
       "justify_content": null,
       "justify_items": null,
       "left": null,
       "margin": null,
       "max_height": null,
       "max_width": null,
       "min_height": null,
       "min_width": null,
       "object_fit": null,
       "object_position": null,
       "order": null,
       "overflow": null,
       "padding": null,
       "right": null,
       "top": null,
       "visibility": null,
       "width": null
      }
     },
     "f27f9d0fa5dd4d5e8e551c02a7ddc5c2": {
      "model_module": "@jupyter-widgets/controls",
      "model_module_version": "2.0.0",
      "model_name": "HTMLModel",
      "state": {
       "_dom_classes": [],
       "_model_module": "@jupyter-widgets/controls",
       "_model_module_version": "2.0.0",
       "_model_name": "HTMLModel",
       "_view_count": null,
       "_view_module": "@jupyter-widgets/controls",
       "_view_module_version": "2.0.0",
       "_view_name": "HTMLView",
       "description": "",
       "description_allow_html": false,
       "layout": "IPY_MODEL_1cae714a0ae9462db100542fc2bb957a",
       "placeholder": "​",
       "style": "IPY_MODEL_6374cd5904a449179b1361704552ea22",
       "tabbable": null,
       "tooltip": null,
       "value": "100%"
      }
     },
     "f8dc7477ec094c0bb5c86afe80de7912": {
      "model_module": "@jupyter-widgets/controls",
      "model_module_version": "2.0.0",
      "model_name": "FloatProgressModel",
      "state": {
       "_dom_classes": [],
       "_model_module": "@jupyter-widgets/controls",
       "_model_module_version": "2.0.0",
       "_model_name": "FloatProgressModel",
       "_view_count": null,
       "_view_module": "@jupyter-widgets/controls",
       "_view_module_version": "2.0.0",
       "_view_name": "ProgressView",
       "bar_style": "success",
       "description": "",
       "description_allow_html": false,
       "layout": "IPY_MODEL_647bc0b4b7194c3b8530d059e76cdad7",
       "max": 5.0,
       "min": 0.0,
       "orientation": "horizontal",
       "style": "IPY_MODEL_3029640b75d247958ffa3eb3726a5846",
       "tabbable": null,
       "tooltip": null,
       "value": 5.0
      }
     }
    },
    "version_major": 2,
    "version_minor": 0
   }
  }
 },
 "nbformat": 4,
 "nbformat_minor": 5
}