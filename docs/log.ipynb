{
 "cells": [
  {
   "cell_type": "markdown",
   "id": "92bcb855",
   "metadata": {
    "papermill": {
     "duration": 0.00596,
     "end_time": "2023-02-09T04:03:29.646523",
     "exception": false,
     "start_time": "2023-02-09T04:03:29.640563",
     "status": "completed"
    },
    "tags": []
   },
   "source": [
    "# MPIA Arxiv on Deck 2\n",
    "\n",
    "Contains the steps to produce the paper extractions."
   ]
  },
  {
   "cell_type": "code",
   "execution_count": 1,
   "id": "3a0d6e11",
   "metadata": {
    "execution": {
     "iopub.execute_input": "2023-02-09T04:03:29.670200Z",
     "iopub.status.busy": "2023-02-09T04:03:29.664471Z",
     "iopub.status.idle": "2023-02-09T04:03:29.926910Z",
     "shell.execute_reply": "2023-02-09T04:03:29.924054Z"
    },
    "papermill": {
     "duration": 0.276524,
     "end_time": "2023-02-09T04:03:29.929258",
     "exception": false,
     "start_time": "2023-02-09T04:03:29.652734",
     "status": "completed"
    },
    "tags": []
   },
   "outputs": [],
   "source": [
    "# Imports\n",
    "import os\n",
    "from IPython.display import Markdown, display\n",
    "from tqdm.notebook import tqdm\n",
    "import warnings\n",
    "from PIL import Image \n",
    "\n",
    "# requires arxiv_on_deck_2\n",
    "\n",
    "from arxiv_on_deck_2.arxiv2 import (get_new_papers, \n",
    "                                    get_paper_from_identifier,\n",
    "                                    retrieve_document_source, \n",
    "                                    get_markdown_badge)\n",
    "from arxiv_on_deck_2 import (latex, \n",
    "                             mpia,\n",
    "                             highlight_authors_in_list)\n",
    "\n",
    "# Sometimes images are really big\n",
    "Image.MAX_IMAGE_PIXELS = 1000000000 "
   ]
  },
  {
   "cell_type": "code",
   "execution_count": 2,
   "id": "22aa9d44",
   "metadata": {
    "execution": {
     "iopub.execute_input": "2023-02-09T04:03:29.941227Z",
     "iopub.status.busy": "2023-02-09T04:03:29.940787Z",
     "iopub.status.idle": "2023-02-09T04:03:29.948550Z",
     "shell.execute_reply": "2023-02-09T04:03:29.947698Z"
    },
    "papermill": {
     "duration": 0.016557,
     "end_time": "2023-02-09T04:03:29.950833",
     "exception": false,
     "start_time": "2023-02-09T04:03:29.934276",
     "status": "completed"
    },
    "tags": []
   },
   "outputs": [],
   "source": [
    "# Some useful definitions.\n",
    "\n",
    "class AffiliationWarning(UserWarning):\n",
    "    pass\n",
    "\n",
    "class AffiliationError(RuntimeError):\n",
    "    pass\n",
    "\n",
    "def validation(source: str):\n",
    "    \"\"\"Raises error paper during parsing of source file\n",
    "    \n",
    "    Allows checks before parsing TeX code.\n",
    "    \n",
    "    Raises AffiliationWarning\n",
    "    \"\"\"\n",
    "    check = mpia.affiliation_verifications(source, verbose=True)\n",
    "    if check is not True:\n",
    "        raise AffiliationError(\"mpia.affiliation_verifications: \" + check)\n",
    "\n",
    "        \n",
    "warnings.simplefilter('always', AffiliationWarning)"
   ]
  },
  {
   "cell_type": "code",
   "execution_count": 3,
   "id": "14622700",
   "metadata": {
    "execution": {
     "iopub.execute_input": "2023-02-09T04:03:29.963276Z",
     "iopub.status.busy": "2023-02-09T04:03:29.962274Z",
     "iopub.status.idle": "2023-02-09T04:03:29.967336Z",
     "shell.execute_reply": "2023-02-09T04:03:29.966528Z"
    },
    "papermill": {
     "duration": 0.013339,
     "end_time": "2023-02-09T04:03:29.969459",
     "exception": false,
     "start_time": "2023-02-09T04:03:29.956120",
     "status": "completed"
    },
    "tags": []
   },
   "outputs": [],
   "source": [
    "# additional CSS to consider. \n",
    "# TODO: Current into each exported file. \n",
    "#       This should be set once into the webpages directly.\n",
    "#       With only the class/id definitions in the .md files.\n",
    "\n",
    "debug_html = \"\"\"\n",
    "<style>\n",
    "#wrap{ overflow:auto; }\n",
    "#fig1{ background:yellow; width:100%; float:left; padding:5px;  }\n",
    "#fig2{ background:red; width:50%; float:left; clear:left; padding:5px;  }\n",
    "#fig3{ background:green; width:50%; float:left; padding:5px;   }\n",
    ".macros{ background:yellow; visibility:visible;}\n",
    "h1 {margin: 0 0 0 0;}\n",
    "mark {background-color:#fff3b6;}\n",
    "img {object-fit:contain; max-height:250px; display:inline-block; text-align: center;}\n",
    "</style>\n",
    "\"\"\" \n",
    "html = \"\"\"\n",
    "<style>\n",
    "#wrap{ overflow:auto; }\n",
    "#fig1{ width:100%; float:left; padding: 5px;  }\n",
    "#fig2{ width:50%; float:left; clear:left; padding: 5px;  }\n",
    "#fig3{ width:50%; float:left; padding: 5px;  }\n",
    ".macros{ visibility:hidden; height:0px; }\n",
    "h1 {margin: 0em 0 0 0;}\n",
    "mark {background-color:#fff3b6;}\n",
    "img {object-fit:contain; max-height:250px; display:inline-block; text-align: center;}\n",
    "</style>\n",
    "\"\"\""
   ]
  },
  {
   "cell_type": "markdown",
   "id": "14bd6310",
   "metadata": {
    "papermill": {
     "duration": 0.005055,
     "end_time": "2023-02-09T04:03:29.979537",
     "exception": false,
     "start_time": "2023-02-09T04:03:29.974482",
     "status": "completed"
    },
    "tags": []
   },
   "source": [
    "## get list of arxiv paper candidates\n",
    "\n",
    "We use the MPIA mitarbeiter list webpage from mpia.de to get author names\n",
    "We then get all new papers from Arxiv and match authors"
   ]
  },
  {
   "cell_type": "code",
   "execution_count": 4,
   "id": "2645e73a",
   "metadata": {
    "execution": {
     "iopub.execute_input": "2023-02-09T04:03:29.993209Z",
     "iopub.status.busy": "2023-02-09T04:03:29.992523Z",
     "iopub.status.idle": "2023-02-09T04:03:58.305445Z",
     "shell.execute_reply": "2023-02-09T04:03:58.304749Z"
    },
    "papermill": {
     "duration": 28.321743,
     "end_time": "2023-02-09T04:03:58.307329",
     "exception": false,
     "start_time": "2023-02-09T04:03:29.985586",
     "status": "completed"
    },
    "tags": []
   },
   "outputs": [
    {
     "name": "stdout",
     "output_type": "stream",
     "text": [
      "Arxiv has 48 new papers today\n",
      "          24 with possible author matches\n"
     ]
    }
   ],
   "source": [
    "# get list from MPIA website\n",
    "# it automatically filters identified non-scientists :func:`mpia.filter_non_scientists`\n",
    "mpia_authors = mpia.get_mpia_mitarbeiter_list()\n",
    "new_papers = get_new_papers()\n",
    "# add manual references\n",
    "add_paper_refs = []\n",
    "new_papers.extend([get_paper_from_identifier(k) for k in add_paper_refs])\n",
    "\n",
    "# select only papers with matching author names and highlight authors\n",
    "hl_list = [k[0] for k in mpia_authors]\n",
    "\n",
    "candidates = []\n",
    "for paperk in new_papers:\n",
    "    hl_authors = highlight_authors_in_list(paperk['authors'], hl_list)\n",
    "    matches = [(hl, orig) for hl, orig in zip(hl_authors, paperk['authors']) if 'mark' in hl]\n",
    "    paperk['authors'] = hl_authors\n",
    "    if matches:\n",
    "        candidates.append(paperk)\n",
    "print(\"\"\"Arxiv has {0:,d} new papers today\"\"\".format(len(new_papers)))        \n",
    "print(\"\"\"          {0:,d} with possible author matches\"\"\".format(len(candidates)))"
   ]
  },
  {
   "cell_type": "markdown",
   "id": "3543b34a",
   "metadata": {
    "papermill": {
     "duration": 0.004826,
     "end_time": "2023-02-09T04:03:58.317529",
     "exception": false,
     "start_time": "2023-02-09T04:03:58.312703",
     "status": "completed"
    },
    "tags": []
   },
   "source": [
    "# Parse sources and generate relevant outputs\n",
    "\n",
    "From the candidates, we do the following steps:\n",
    "* get their tarball from ArXiv (and extract data)\n",
    "* find the main .tex file: find one with \\documentclass{...} (sometimes it's non trivial)\n",
    "* Check affiliations with :func:`validation`, which uses :func:`mpia.affiliation_verifications`\n",
    "* If passing the affiliations: we parse the .tex source\n",
    "   * inject sub-documents into the main (flatten the main document)\n",
    "   * parse structure, extract information (title, abstract, authors, figures...)\n",
    "   * handles `\\graphicspath` if provided\n",
    "* Generate the .md document."
   ]
  },
  {
   "cell_type": "code",
   "execution_count": 5,
   "id": "9576b79e",
   "metadata": {
    "execution": {
     "iopub.execute_input": "2023-02-09T04:03:58.329200Z",
     "iopub.status.busy": "2023-02-09T04:03:58.328387Z",
     "iopub.status.idle": "2023-02-09T04:10:52.647911Z",
     "shell.execute_reply": "2023-02-09T04:10:52.647135Z"
    },
    "papermill": {
     "duration": 414.328195,
     "end_time": "2023-02-09T04:10:52.650473",
     "exception": false,
     "start_time": "2023-02-09T04:03:58.322278",
     "status": "completed"
    },
    "scrolled": false,
    "tags": []
   },
   "outputs": [
    {
     "data": {
      "application/vnd.jupyter.widget-view+json": {
       "model_id": "a7ce3ba45ea64561a55c079227e65b2c",
       "version_major": 2,
       "version_minor": 0
      },
      "text/plain": [
       "  0%|          | 0/23 [00:00<?, ?it/s]"
      ]
     },
     "metadata": {},
     "output_type": "display_data"
    },
    {
     "name": "stdout",
     "output_type": "stream",
     "text": [
      "Retrieving document from  https://arxiv.org/e-print/2302.03697\n"
     ]
    },
    {
     "name": "stdout",
     "output_type": "stream",
     "text": [
      "extracting tarball to tmp_2302.03697..."
     ]
    },
    {
     "name": "stdout",
     "output_type": "stream",
     "text": [
      " done.\n",
      "Retrieving document from  https://arxiv.org/e-print/2302.03699\n"
     ]
    },
    {
     "name": "stdout",
     "output_type": "stream",
     "text": [
      "extracting tarball to tmp_2302.03699..."
     ]
    },
    {
     "name": "stdout",
     "output_type": "stream",
     "text": [
      " done.\n"
     ]
    },
    {
     "name": "stderr",
     "output_type": "stream",
     "text": [
      "/opt/hostedtoolcache/Python/3.9.16/x64/lib/python3.9/site-packages/arxiv_on_deck_2/latex.py:118: LatexWarning: attempting recovering figure used_plots/average_tpeak_intensity-all_norm-err-peer_reviewed\n",
      "  warnings.warn(LatexWarning(f'attempting recovering figure {image}'))\n",
      "/opt/hostedtoolcache/Python/3.9.16/x64/lib/python3.9/site-packages/arxiv_on_deck_2/latex.py:118: LatexWarning: attempting recovering figure used_plots/bubble_catagories_example-209-23-37-26-white\n",
      "  warnings.warn(LatexWarning(f'attempting recovering figure {image}'))\n",
      "/opt/hostedtoolcache/Python/3.9.16/x64/lib/python3.9/site-packages/arxiv_on_deck_2/latex.py:118: LatexWarning: attempting recovering figure used_plots/completness\n",
      "  warnings.warn(LatexWarning(f'attempting recovering figure {image}'))\n",
      "/opt/hostedtoolcache/Python/3.9.16/x64/lib/python3.9/site-packages/arxiv_on_deck_2/latex.py:118: LatexWarning: attempting recovering figure used_plots/expansion_diagram\n",
      "  warnings.warn(LatexWarning(f'attempting recovering figure {image}'))\n",
      "/opt/hostedtoolcache/Python/3.9.16/x64/lib/python3.9/site-packages/arxiv_on_deck_2/latex.py:118: LatexWarning: attempting recovering figure used_plots/age_vs_radius-16pc-zero_yinter_peer_reviewed-0.25_v1p3-correct-err\n",
      "  warnings.warn(LatexWarning(f'attempting recovering figure {image}'))\n",
      "/opt/hostedtoolcache/Python/3.9.16/x64/lib/python3.9/site-packages/arxiv_on_deck_2/latex.py:118: LatexWarning: attempting recovering figure used_plots/method_illistration_2\n",
      "  warnings.warn(LatexWarning(f'attempting recovering figure {image}'))\n",
      "/opt/hostedtoolcache/Python/3.9.16/x64/lib/python3.9/site-packages/arxiv_on_deck_2/latex.py:118: LatexWarning: attempting recovering figure used_plots/mass_ages_hst_peer_reviewed-hst_v1p3-correct-avg_velo\n",
      "  warnings.warn(LatexWarning(f'attempting recovering figure {image}'))\n",
      "/opt/hostedtoolcache/Python/3.9.16/x64/lib/python3.9/site-packages/arxiv_on_deck_2/latex.py:118: LatexWarning: attempting recovering figure used_plots/shell_growth-mass_vs_mass-peer_reviewed-v1p3-avg_velo-residual-lab\n",
      "  warnings.warn(LatexWarning(f'attempting recovering figure {image}'))\n"
     ]
    },
    {
     "name": "stdout",
     "output_type": "stream",
     "text": [
      "Retrieving document from  https://arxiv.org/e-print/2302.03700\n"
     ]
    },
    {
     "name": "stdout",
     "output_type": "stream",
     "text": [
      "extracting tarball to tmp_2302.03700..."
     ]
    },
    {
     "name": "stdout",
     "output_type": "stream",
     "text": [
      " done.\n",
      "Retrieving document from  https://arxiv.org/e-print/2302.03708\n"
     ]
    },
    {
     "name": "stdout",
     "output_type": "stream",
     "text": [
      "extracting tarball to tmp_2302.03708..."
     ]
    },
    {
     "name": "stdout",
     "output_type": "stream",
     "text": [
      " done.\n",
      "Retrieving document from  https://arxiv.org/e-print/2302.03713\n"
     ]
    },
    {
     "name": "stderr",
     "output_type": "stream",
     "text": [
      "/opt/hostedtoolcache/Python/3.9.16/x64/lib/python3.9/site-packages/IPython/core/interactiveshell.py:3442: LatexWarning: Multiple tex files.\n",
      "\n",
      "  exec(code_obj, self.user_global_ns, self.user_ns)\n",
      "/opt/hostedtoolcache/Python/3.9.16/x64/lib/python3.9/site-packages/IPython/core/interactiveshell.py:3442: LatexWarning: Found documentclass in tmp_2302.03708/main.tex\n",
      "\n",
      "  exec(code_obj, self.user_global_ns, self.user_ns)\n",
      "/opt/hostedtoolcache/Python/3.9.16/x64/lib/python3.9/site-packages/arxiv_on_deck_2/latex.py:292: LatexWarning: Latex injecting: 'Binary' from 'tmp_2302.03708/Binary.tex'\n",
      "  warnings.warn(LatexWarning(f\"Latex injecting: '{ext}' from '{subsource}'\"))\n",
      "/opt/hostedtoolcache/Python/3.9.16/x64/lib/python3.9/site-packages/arxiv_on_deck_2/latex.py:292: LatexWarning: Latex injecting: 'table3' from 'tmp_2302.03708/table3.tex'\n",
      "  warnings.warn(LatexWarning(f\"Latex injecting: '{ext}' from '{subsource}'\"))\n",
      "/opt/hostedtoolcache/Python/3.9.16/x64/lib/python3.9/site-packages/arxiv_on_deck_2/latex.py:292: LatexWarning: Latex injecting: 'table2' from 'tmp_2302.03708/table2.tex'\n",
      "  warnings.warn(LatexWarning(f\"Latex injecting: '{ext}' from '{subsource}'\"))\n",
      "/opt/hostedtoolcache/Python/3.9.16/x64/lib/python3.9/site-packages/arxiv_on_deck_2/latex.py:292: LatexWarning: Latex injecting: 'DGtable' from 'tmp_2302.03708/DGtable.tex'\n",
      "  warnings.warn(LatexWarning(f\"Latex injecting: '{ext}' from '{subsource}'\"))\n",
      "/opt/hostedtoolcache/Python/3.9.16/x64/lib/python3.9/site-packages/arxiv_on_deck_2/latex.py:292: LatexWarning: Latex injecting: 'table1' from 'tmp_2302.03708/table1.tex'\n",
      "  warnings.warn(LatexWarning(f\"Latex injecting: '{ext}' from '{subsource}'\"))\n",
      "/opt/hostedtoolcache/Python/3.9.16/x64/lib/python3.9/site-packages/arxiv_on_deck_2/latex.py:292: LatexWarning: Latex injecting: 'author' from 'tmp_2302.03708/author.tex'\n",
      "  warnings.warn(LatexWarning(f\"Latex injecting: '{ext}' from '{subsource}'\"))\n"
     ]
    },
    {
     "name": "stdout",
     "output_type": "stream",
     "text": [
      "extracting tarball to tmp_2302.03713..."
     ]
    },
    {
     "name": "stdout",
     "output_type": "stream",
     "text": [
      " done.\n"
     ]
    },
    {
     "name": "stderr",
     "output_type": "stream",
     "text": [
      "/opt/hostedtoolcache/Python/3.9.16/x64/lib/python3.9/site-packages/arxiv_on_deck_2/latex.py:118: LatexWarning: attempting recovering figure Lprime_v_z.pdf\n",
      "  warnings.warn(LatexWarning(f'attempting recovering figure {image}'))\n",
      "/tmp/ipykernel_2057/4030337529.py:34: LatexWarning: 2302.03713 did not run properly\n",
      "Could not find figure Lprime_v_z.pdf\n",
      "  warnings.warn(latex.LatexWarning(f\"{paper_id:s} did not run properly\\n\" +\n"
     ]
    },
    {
     "name": "stdout",
     "output_type": "stream",
     "text": [
      "Retrieving document from  https://arxiv.org/e-print/2302.03721\n"
     ]
    },
    {
     "name": "stdout",
     "output_type": "stream",
     "text": [
      "extracting tarball to tmp_2302.03721..."
     ]
    },
    {
     "name": "stdout",
     "output_type": "stream",
     "text": [
      " done.\n",
      "Retrieving document from  https://arxiv.org/e-print/2302.03726\n"
     ]
    },
    {
     "name": "stdout",
     "output_type": "stream",
     "text": [
      "extracting tarball to tmp_2302.03726..."
     ]
    },
    {
     "name": "stdout",
     "output_type": "stream",
     "text": [
      " done.\n",
      "Retrieving document from  https://arxiv.org/e-print/2302.03779\n"
     ]
    },
    {
     "name": "stdout",
     "output_type": "stream",
     "text": [
      "extracting tarball to tmp_2302.03779..."
     ]
    },
    {
     "name": "stdout",
     "output_type": "stream",
     "text": [
      " done.\n",
      "Retrieving document from  https://arxiv.org/e-print/2302.03799\n"
     ]
    },
    {
     "name": "stdout",
     "output_type": "stream",
     "text": [
      "extracting tarball to tmp_2302.03799..."
     ]
    },
    {
     "name": "stdout",
     "output_type": "stream",
     "text": [
      " done.\n",
      "Retrieving document from  https://arxiv.org/e-print/2302.03804\n"
     ]
    },
    {
     "name": "stderr",
     "output_type": "stream",
     "text": [
      "/opt/hostedtoolcache/Python/3.9.16/x64/lib/python3.9/site-packages/IPython/core/interactiveshell.py:3442: LatexWarning: Multiple tex files.\n",
      "\n",
      "  exec(code_obj, self.user_global_ns, self.user_ns)\n",
      "/opt/hostedtoolcache/Python/3.9.16/x64/lib/python3.9/site-packages/IPython/core/interactiveshell.py:3442: LatexWarning: Found documentclass in tmp_2302.03799/elsarticle-template-harv.tex\n",
      "\n",
      "  exec(code_obj, self.user_global_ns, self.user_ns)\n"
     ]
    },
    {
     "name": "stdout",
     "output_type": "stream",
     "text": [
      "extracting tarball to tmp_2302.03804..."
     ]
    },
    {
     "name": "stdout",
     "output_type": "stream",
     "text": [
      " done.\n",
      "Retrieving document from  https://arxiv.org/e-print/2302.03814\n"
     ]
    },
    {
     "name": "stdout",
     "output_type": "stream",
     "text": [
      "extracting tarball to tmp_2302.03814... done.\n",
      "Retrieving document from  https://arxiv.org/e-print/2302.03829\n"
     ]
    },
    {
     "name": "stdout",
     "output_type": "stream",
     "text": [
      "extracting tarball to tmp_2302.03829..."
     ]
    },
    {
     "name": "stdout",
     "output_type": "stream",
     "text": [
      " done.\n",
      "Retrieving document from  https://arxiv.org/e-print/2302.03859\n"
     ]
    },
    {
     "name": "stderr",
     "output_type": "stream",
     "text": [
      "/opt/hostedtoolcache/Python/3.9.16/x64/lib/python3.9/site-packages/IPython/core/interactiveshell.py:3442: LatexWarning: Multiple tex files.\n",
      "\n",
      "  exec(code_obj, self.user_global_ns, self.user_ns)\n",
      "/opt/hostedtoolcache/Python/3.9.16/x64/lib/python3.9/site-packages/IPython/core/interactiveshell.py:3442: LatexWarning: Found documentclass in tmp_2302.03829/GRB221009A.tex\n",
      "\n",
      "  exec(code_obj, self.user_global_ns, self.user_ns)\n",
      "/opt/hostedtoolcache/Python/3.9.16/x64/lib/python3.9/site-packages/arxiv_on_deck_2/latex.py:292: LatexWarning: Latex injecting: 'author' from 'tmp_2302.03829/author.tex'\n",
      "  warnings.warn(LatexWarning(f\"Latex injecting: '{ext}' from '{subsource}'\"))\n",
      "/opt/hostedtoolcache/Python/3.9.16/x64/lib/python3.9/site-packages/arxiv_on_deck_2/latex.py:292: LatexWarning: Latex injecting: 'affiliation' from 'tmp_2302.03829/affiliation.tex'\n",
      "  warnings.warn(LatexWarning(f\"Latex injecting: '{ext}' from '{subsource}'\"))\n"
     ]
    },
    {
     "name": "stdout",
     "output_type": "stream",
     "text": [
      "extracting tarball to tmp_2302.03859..."
     ]
    },
    {
     "name": "stdout",
     "output_type": "stream",
     "text": [
      " done.\n",
      "Retrieving document from  https://arxiv.org/e-print/2302.03871\n"
     ]
    },
    {
     "name": "stderr",
     "output_type": "stream",
     "text": [
      "/opt/hostedtoolcache/Python/3.9.16/x64/lib/python3.9/site-packages/IPython/core/interactiveshell.py:3442: LatexWarning: Multiple tex files.\n",
      "\n",
      "  exec(code_obj, self.user_global_ns, self.user_ns)\n",
      "/opt/hostedtoolcache/Python/3.9.16/x64/lib/python3.9/site-packages/IPython/core/interactiveshell.py:3442: LatexWarning: Found documentclass in tmp_2302.03859/sn-article.tex\n",
      "\n",
      "  exec(code_obj, self.user_global_ns, self.user_ns)\n"
     ]
    },
    {
     "name": "stdout",
     "output_type": "stream",
     "text": [
      "extracting tarball to tmp_2302.03871..."
     ]
    },
    {
     "name": "stdout",
     "output_type": "stream",
     "text": [
      " done.\n",
      "Retrieving document from  https://arxiv.org/e-print/2302.03909\n"
     ]
    },
    {
     "name": "stderr",
     "output_type": "stream",
     "text": [
      "/tmp/ipykernel_2057/4030337529.py:34: LatexWarning: 2302.03871 did not run properly\n",
      "'utf-8' codec can't decode byte 0xe3 in position 993: invalid continuation byte\n",
      "  warnings.warn(latex.LatexWarning(f\"{paper_id:s} did not run properly\\n\" +\n"
     ]
    },
    {
     "name": "stdout",
     "output_type": "stream",
     "text": [
      "extracting tarball to tmp_2302.03909..."
     ]
    },
    {
     "name": "stdout",
     "output_type": "stream",
     "text": [
      " done.\n",
      "Retrieving document from  https://arxiv.org/e-print/2302.03988\n"
     ]
    },
    {
     "name": "stdout",
     "output_type": "stream",
     "text": [
      "extracting tarball to tmp_2302.03988..."
     ]
    },
    {
     "name": "stdout",
     "output_type": "stream",
     "text": [
      " done.\n",
      "Retrieving document from  https://arxiv.org/e-print/2302.04007\n"
     ]
    },
    {
     "name": "stderr",
     "output_type": "stream",
     "text": [
      "/opt/hostedtoolcache/Python/3.9.16/x64/lib/python3.9/site-packages/IPython/core/interactiveshell.py:3442: LatexWarning: Multiple tex files.\n",
      "\n",
      "  exec(code_obj, self.user_global_ns, self.user_ns)\n",
      "/opt/hostedtoolcache/Python/3.9.16/x64/lib/python3.9/site-packages/IPython/core/interactiveshell.py:3442: LatexWarning: Found documentclass in tmp_2302.03988/sn-article.tex\n",
      "\n",
      "  exec(code_obj, self.user_global_ns, self.user_ns)\n"
     ]
    },
    {
     "name": "stdout",
     "output_type": "stream",
     "text": [
      "extracting tarball to tmp_2302.04007..."
     ]
    },
    {
     "name": "stdout",
     "output_type": "stream",
     "text": [
      " done.\n",
      "Retrieving document from  https://arxiv.org/e-print/2302.04015\n"
     ]
    },
    {
     "name": "stdout",
     "output_type": "stream",
     "text": [
      "extracting tarball to tmp_2302.04015..."
     ]
    },
    {
     "name": "stdout",
     "output_type": "stream",
     "text": [
      " done.\n",
      "Retrieving document from  https://arxiv.org/e-print/2302.04100\n"
     ]
    },
    {
     "name": "stderr",
     "output_type": "stream",
     "text": [
      "/opt/hostedtoolcache/Python/3.9.16/x64/lib/python3.9/site-packages/IPython/core/interactiveshell.py:3442: LatexWarning: Multiple tex files.\n",
      "\n",
      "  exec(code_obj, self.user_global_ns, self.user_ns)\n",
      "/opt/hostedtoolcache/Python/3.9.16/x64/lib/python3.9/site-packages/IPython/core/interactiveshell.py:3442: LatexWarning: Found documentclass in tmp_2302.04015/mn.tex\n",
      "\n",
      "  exec(code_obj, self.user_global_ns, self.user_ns)\n"
     ]
    },
    {
     "name": "stdout",
     "output_type": "stream",
     "text": [
      "extracting tarball to tmp_2302.04100..."
     ]
    },
    {
     "name": "stdout",
     "output_type": "stream",
     "text": [
      " done.\n",
      "Retrieving document from  https://arxiv.org/e-print/2302.04138\n"
     ]
    },
    {
     "name": "stderr",
     "output_type": "stream",
     "text": [
      "/opt/hostedtoolcache/Python/3.9.16/x64/lib/python3.9/site-packages/IPython/core/interactiveshell.py:3442: LatexWarning: Multiple tex files.\n",
      "\n",
      "  exec(code_obj, self.user_global_ns, self.user_ns)\n",
      "/opt/hostedtoolcache/Python/3.9.16/x64/lib/python3.9/site-packages/IPython/core/interactiveshell.py:3442: LatexWarning: Found documentclass in tmp_2302.04100/corsico.tex\n",
      "\n",
      "  exec(code_obj, self.user_global_ns, self.user_ns)\n",
      "/opt/hostedtoolcache/Python/3.9.16/x64/lib/python3.9/site-packages/arxiv_on_deck_2/latex.py:292: LatexWarning: Latex injecting: 'structure.tex' from 'tmp_2302.04100/structure.tex'\n",
      "  warnings.warn(LatexWarning(f\"Latex injecting: '{ext}' from '{subsource}'\"))\n"
     ]
    },
    {
     "name": "stdout",
     "output_type": "stream",
     "text": [
      "extracting tarball to tmp_2302.04138..."
     ]
    },
    {
     "name": "stdout",
     "output_type": "stream",
     "text": [
      " done.\n"
     ]
    },
    {
     "name": "stderr",
     "output_type": "stream",
     "text": [
      "/opt/hostedtoolcache/Python/3.9.16/x64/lib/python3.9/site-packages/IPython/core/interactiveshell.py:3442: LatexWarning: Multiple tex files.\n",
      "\n",
      "  exec(code_obj, self.user_global_ns, self.user_ns)\n",
      "/opt/hostedtoolcache/Python/3.9.16/x64/lib/python3.9/site-packages/IPython/core/interactiveshell.py:3442: LatexWarning: Found documentclass in tmp_2302.04138/main.tex\n",
      "\n",
      "  exec(code_obj, self.user_global_ns, self.user_ns)\n"
     ]
    },
    {
     "name": "stdout",
     "output_type": "stream",
     "text": [
      "Retrieving document from  https://arxiv.org/e-print/2302.04194\n"
     ]
    },
    {
     "name": "stdout",
     "output_type": "stream",
     "text": [
      "extracting tarball to tmp_2302.04194..."
     ]
    },
    {
     "name": "stdout",
     "output_type": "stream",
     "text": [
      " done.\n",
      "Retrieving document from  https://arxiv.org/e-print/2302.04239\n"
     ]
    },
    {
     "name": "stderr",
     "output_type": "stream",
     "text": [
      "/opt/hostedtoolcache/Python/3.9.16/x64/lib/python3.9/site-packages/IPython/core/interactiveshell.py:3442: LatexWarning: Multiple tex files.\n",
      "\n",
      "  exec(code_obj, self.user_global_ns, self.user_ns)\n",
      "/opt/hostedtoolcache/Python/3.9.16/x64/lib/python3.9/site-packages/IPython/core/interactiveshell.py:3442: LatexWarning: Found documentclass in tmp_2302.04194/main.tex\n",
      "\n",
      "  exec(code_obj, self.user_global_ns, self.user_ns)\n",
      "/opt/hostedtoolcache/Python/3.9.16/x64/lib/python3.9/site-packages/arxiv_on_deck_2/latex.py:292: LatexWarning: Latex injecting: 'appendix.tex' from 'tmp_2302.04194/appendix.tex'\n",
      "  warnings.warn(LatexWarning(f\"Latex injecting: '{ext}' from '{subsource}'\"))\n",
      "/opt/hostedtoolcache/Python/3.9.16/x64/lib/python3.9/site-packages/arxiv_on_deck_2/latex.py:292: LatexWarning: Latex injecting: 'authors' from 'tmp_2302.04194/authors.tex'\n",
      "  warnings.warn(LatexWarning(f\"Latex injecting: '{ext}' from '{subsource}'\"))\n"
     ]
    },
    {
     "name": "stdout",
     "output_type": "stream",
     "text": [
      "extracting tarball to tmp_2302.04239..."
     ]
    },
    {
     "name": "stdout",
     "output_type": "stream",
     "text": [
      " done.\n"
     ]
    },
    {
     "name": "stdout",
     "output_type": "stream",
     "text": [
      "Retrieving document from  https://arxiv.org/e-print/2302.04258\n"
     ]
    },
    {
     "name": "stdout",
     "output_type": "stream",
     "text": [
      "extracting tarball to tmp_2302.04258..."
     ]
    },
    {
     "name": "stdout",
     "output_type": "stream",
     "text": [
      " done.\n"
     ]
    }
   ],
   "source": [
    "documents = []\n",
    "failed = []\n",
    "for paper in tqdm(candidates[:-1]):\n",
    "    paper_id = paper['identifier'].lower().replace('arxiv:', '')\n",
    "    \n",
    "    folder = f'tmp_{paper_id}'\n",
    "\n",
    "    try:\n",
    "        if not os.path.isdir(folder):\n",
    "            folder = retrieve_document_source(f\"{paper_id}\", f'tmp_{paper_id}')\n",
    "        \n",
    "        try:\n",
    "            doc = latex.LatexDocument(folder, validation=validation)    \n",
    "        except AffiliationError as affilerror:\n",
    "            msg = f\"ArXiv:{paper_id:s} is not an MPIA paper... \" + str(affilerror)\n",
    "            failed.append((paper, \"affiliation error: \" + str(affilerror) ))\n",
    "            continue\n",
    "        \n",
    "        # Hack because sometimes author parsing does not work well\n",
    "        if (len(doc.authors) != len(paper['authors'])):\n",
    "            doc._authors = paper['authors']\n",
    "        if (doc.abstract) in (None, ''):\n",
    "            doc._abstract = paper['abstract']\n",
    "            \n",
    "        doc.comment = (get_markdown_badge(paper_id) + \n",
    "                       \"<mark>Appeared on: \" + paper['date'] + \"</mark> - \" +\n",
    "                       \"_\" + paper['comments'] + \"_\")\n",
    "        doc.highlight_authors_in_list(hl_list)\n",
    "\n",
    "        full_md = doc.generate_markdown_text()\n",
    "        \n",
    "        documents.append((paper_id, full_md))\n",
    "    except Exception as e:\n",
    "        warnings.warn(latex.LatexWarning(f\"{paper_id:s} did not run properly\\n\" +\n",
    "                                         str(e)\n",
    "                                        ))\n",
    "        failed.append((paper, \"latex error \" + str(e)))"
   ]
  },
  {
   "cell_type": "markdown",
   "id": "2505a25c",
   "metadata": {
    "papermill": {
     "duration": 0.009013,
     "end_time": "2023-02-09T04:10:52.669754",
     "exception": false,
     "start_time": "2023-02-09T04:10:52.660741",
     "status": "completed"
    },
    "tags": []
   },
   "source": [
    "### Export the logs\n",
    "\n",
    "Throughout, we also keep track of the logs per paper. see `logs-{today date}.md` "
   ]
  },
  {
   "cell_type": "code",
   "execution_count": 6,
   "id": "d733828a",
   "metadata": {
    "execution": {
     "iopub.execute_input": "2023-02-09T04:10:52.691157Z",
     "iopub.status.busy": "2023-02-09T04:10:52.690252Z",
     "iopub.status.idle": "2023-02-09T04:10:52.732946Z",
     "shell.execute_reply": "2023-02-09T04:10:52.732056Z"
    },
    "papermill": {
     "duration": 0.056585,
     "end_time": "2023-02-09T04:10:52.734817",
     "exception": false,
     "start_time": "2023-02-09T04:10:52.678232",
     "status": "completed"
    },
    "scrolled": false,
    "tags": []
   },
   "outputs": [
    {
     "data": {
      "text/markdown": [
       "## Successful papers"
      ],
      "text/plain": [
       "<IPython.core.display.Markdown object>"
      ]
     },
     "metadata": {},
     "output_type": "display_data"
    },
    {
     "data": {
      "text/markdown": [
       "\n",
       "|||\n",
       "|---:|:---|\n",
       "| [![arXiv](https://img.shields.io/badge/arXiv-arXiv:2302.03699-b31b1b.svg)](https://arxiv.org/abs/arXiv:2302.03699) | **Quantifying the energetics of molecular superbubbles in PHANGS galaxies**  |\n",
       "|| E. J. Watkins, et al. -- incl., <mark>K. Kreckel</mark>, <mark>E. Schinnerer</mark>, <mark>J. C. Lee</mark>, <mark>J. Li</mark> |\n",
       "|*Appeared on*| *2023-02-09*|\n",
       "|*Comments*| *20 pages, 14 figures, 3 tables. Submitted to A&A. Abstract abridged for arXiv*|\n",
       "|**Abstract**| Star formation and stellar feedback are interlinked processes that redistribute energy and matter throughout galaxies. When young, massive stars form in spatially clustered environments, they create pockets of expanding gas termed superbubbles. As these processes play a critical role in shaping galaxy discs and regulating the baryon cycle, measuring the properties of superbubbles provides important input for galaxy evolution models. With wide coverage and high angular resolution ($\\sim$50-150 pc) of the PHANGS-ALMA $^{12}$CO (2-1) survey, we can now resolve and identify a statistically representative number of superbubbles with molecular gas in nearby galaxies. We identify superbubbles by requiring spatial correspondence between shells in CO with stellar populations identified in PHANGS-HST, and combine the properties of the stellar populations with CO to constrain feedback models and quantify their energetics. We visually identify 325 cavities across 18 PHANGS-ALMA galaxies, 88 of which have clear superbubble signatures (unbroken shells, central clusters, kinematic signatures of expansion). We measure their radii and expansion velocities using CO to dynamically derive their ages and the mechanical power driving the bubbles, which we use to compute the expected properties of the parent stellar populations driving the bubbles. We find consistency between the predicted and derived stellar ages and masses of the stellar populations if we use a supernova (SN) model that injects energy with a coupling efficiency of 5-12%, whereas wind models fail to explain stellar ages we measure. Not only does this confirm molecular gas accurately traces superbubble properties, but it also provides key observational constraints for superbubble models. We also find evidence that the bubbles are sweeping up gas as they expand and speculate that these sites have the potential to host new generations of stars. |"
      ],
      "text/plain": [
       "[arXiv:2302.03699] Quantifying the energetics of molecular superbubbles in PHANGS galaxies\n",
       "\tE. J. Watkins, et al. -- incl., <mark>K. Kreckel</mark>, <mark>E. Schinnerer</mark>, <mark>J. C. Lee</mark>, <mark>J. Li</mark>"
      ]
     },
     "metadata": {},
     "output_type": "display_data"
    },
    {
     "data": {
      "text/markdown": [
       "\n",
       "|||\n",
       "|---:|:---|\n",
       "| [![arXiv](https://img.shields.io/badge/arXiv-arXiv:2302.04138-b31b1b.svg)](https://arxiv.org/abs/arXiv:2302.04138) | **EDEN Survey: Small Transiting Planet Detection Limits and Constraints on  the Occurrence Rates for Late M Dwarfs within 15 pc**  |\n",
       "|| Jeremy Dietrich, et al. -- incl., <mark>Nicolas Kurtovic</mark>, <mark>Thomas Henning</mark>, <mark>Samantha Brown-Sevilla</mark>, <mark>Remo Burn</mark>, <mark>Timmy N. Delage</mark>, <mark>Lizxandra Flores-Rivera</mark>, <mark>Riccardo Franceschi</mark>, <mark>Sofia Savvidou</mark>, <mark>Jonas Syed</mark>, <mark>An-Li Tsai</mark>, <mark>Chia-Lung Lin</mark>, <mark>Chi-Sheng Lin</mark>, <mark>Hung-Chin Lin</mark> |\n",
       "|*Appeared on*| *2023-02-09*|\n",
       "|*Comments*| *27 pages, 11 figures*|\n",
       "|**Abstract**| Earth-sized exoplanets that transit nearby, late spectral type red dwarfs will be prime targets for atmospheric characterization in the coming decade. Such systems, however, are difficult to find via wide-field transit surveys like Kepler or TESS. Consequently, the presence of such transiting planets is unexplored and the occurrence rates of short-period Earth-sized planets around late M dwarfs remain poorly constrained. Here, we present the deepest photometric monitoring campaign of 22 nearby late M dwarf stars, using data from over 500 nights on seven 1-2 meter class telescopes. Our survey includes all known single quiescent northern late M dwarfs within 15 pc. We use transit-injection-and-recovery tests to quantify the completeness of our survey, successfully identify most ($>80\\%$) transiting short-period (0.5-1 d) super-Earths ($R > 1.9 R_\\oplus$), and are sensitive ($\\sim50\\%$) to transiting Earth-sized planets ($1.0-1.2 R_\\oplus$). Our high sensitivity to transits with a near-zero false positive rate demonstrates an efficient survey strategy. Our survey does not yield a transiting planet detection, yet it provides the most sensitive upper limits on transiting planets orbiting our target stars. Finally, we explore multiple hypotheses about the occurrence rates of short-period planets (from Earth-sized planets to giant planets) around late M dwarfs. We show, for example, that giant planets at short periods ($<1$ day) are uncommon around our target stars. Our dataset provides some insight into occurrence rates of short-period planets around TRAPPIST-1-like stars, and our results can help test planetary formation and system evolution models, as well as guide future observations of nearby late M dwarfs. |"
      ],
      "text/plain": [
       "[arXiv:2302.04138] EDEN Survey: Small Transiting Planet Detection Limits and Constraints on  the Occurrence Rates for Late M Dwarfs within 15 pc\n",
       "\tJeremy Dietrich, et al. -- incl., <mark>Nicolas Kurtovic</mark>, <mark>Thomas Henning</mark>, <mark>Samantha Brown-Sevilla</mark>, <mark>Remo Burn</mark>, <mark>Timmy N. Delage</mark>, <mark>Lizxandra Flores-Rivera</mark>, <mark>Riccardo Franceschi</mark>, <mark>Sofia Savvidou</mark>, <mark>Jonas Syed</mark>, <mark>An-Li Tsai</mark>, <mark>Chia-Lung Lin</mark>, <mark>Chi-Sheng Lin</mark>, <mark>Hung-Chin Lin</mark>"
      ]
     },
     "metadata": {},
     "output_type": "display_data"
    },
    {
     "data": {
      "text/markdown": [
       "\n",
       "|||\n",
       "|---:|:---|\n",
       "| [![arXiv](https://img.shields.io/badge/arXiv-arXiv:2302.04239-b31b1b.svg)](https://arxiv.org/abs/arXiv:2302.04239) | **Simulation of CH$_3$OH ice UV photolysis under laboratory conditions**  |\n",
       "|| W. R. M. Rocha, et al. -- incl., <mark>G. Perotti</mark> |\n",
       "|*Appeared on*| *2023-02-09*|\n",
       "|*Comments*| *Accepted for publication in A&A on 08-Feb-2023*|\n",
       "|**Abstract**| Methanol is the most complex molecule securely identified in interstellar ices and is a key chemical species for understanding chemical complexity in astrophysical environments. Important aspects of the methanol ice photochemistry are still unclear such as the branching ratios and photo-dissociation cross-sections at different temperatures and irradiation fluxes. This work aims at a quantitative agreement between laboratory experiments and astrochemical modelling of the CH3OH ice UV photolysis. This work also allows us to better understand which processes govern the methanol ice photochemistry present in laboratory experiments. We use ProDiMo to simulate the conditions of laboratory measurements. The simulations start with simple chemistry consisting only of methanol ice and helium to mimic the residual gas in the experimental chamber. A surface chemical network enlarged by photo-dissociation reactions is used to study the chemical reactions within the ice. Additionally, different surface chemistry parameters (surface competition, tunnelling, thermal diffusion and reactive desorption) are adopted to check those that reproduce the experimental results. The chemical models with ProDiMo can reproduce the methanol ice destruction via UV photodissociation at temperatures of 20, 30, 50 and 70 K as observed in the experiments. We note that the results are sensitive to different branching ratios after photolysis and to the mechanisms of reactive desorption. In the simulations of a molecular cloud at 20 K, we observed an increase in the methanol gas abundance of one order of magnitude, with a similar decrease in the solid-phase abundance. Comprehensive astrochemical models provide new insights into laboratory experiments as the quantitative understanding of the processes that govern the reactions within the ice. Ultimately, those insights can help to better interpret astronomical observations. |"
      ],
      "text/plain": [
       "[arXiv:2302.04239] Simulation of CH$_3$OH ice UV photolysis under laboratory conditions\n",
       "\tW. R. M. Rocha, et al. -- incl., <mark>G. Perotti</mark>"
      ]
     },
     "metadata": {},
     "output_type": "display_data"
    },
    {
     "data": {
      "text/markdown": [
       "## Failed papers"
      ],
      "text/plain": [
       "<IPython.core.display.Markdown object>"
      ]
     },
     "metadata": {},
     "output_type": "display_data"
    },
    {
     "data": {
      "text/markdown": [
       "\n",
       "|||\n",
       "|---:|:---|\n",
       "| [![arXiv](https://img.shields.io/badge/arXiv-arXiv:2302.03697-b31b1b.svg)](https://arxiv.org/abs/arXiv:2302.03697) | **Comet 108P/Ciffreo: The Blob**  |\n",
       "|| Yoonyoung Kim, et al. -- incl., <mark>Jing Li</mark> |\n",
       "|*Appeared on*| *2023-02-09*|\n",
       "|*Comments*| *31 pages, 8 figures, accepted for publication in AJ*|\n",
       "|**Abstract**| Short-period comet 108P/Ciffreo is known for its peculiar double morphology, in which the nucleus is accompanied by a co-moving, detached, diffuse 'blob'. We report new observations of 108P/Ciffreo taken with the Hubble Space Telescope and the Nordic Optical Telescope and use them to determine the cause of this unusual morphology. The separation and the longevity of the blob across several orbits together rule out the possibility of a single, slow-moving secondary object near the primary nucleus. We use a model of coma particle dynamics under the action of solar gravity and radiation pressure to show that the blob is an artifact of the turn-around of particles ejected sunward and repelled by sunlight. Numerical experiments limit the range of directions which can reproduce the morphology and explain why the co-moving blob appearance is rare. |\n",
       "|<p style=\"color:green\"> **ERROR** </p>| <p style=\"color:green\">affiliation error: mpia.affiliation_verifications: 'Heidelberg' keyword not found.</p> |"
      ],
      "text/plain": [
       "<IPython.core.display.Markdown object>"
      ]
     },
     "metadata": {},
     "output_type": "display_data"
    },
    {
     "data": {
      "text/markdown": [
       "\n",
       "|||\n",
       "|---:|:---|\n",
       "| [![arXiv](https://img.shields.io/badge/arXiv-arXiv:2302.03700-b31b1b.svg)](https://arxiv.org/abs/arXiv:2302.03700) | **Scientific CMOS sensors in Astronomy: QHY600 and QHY411**  |\n",
       "|| Miguel R. Alarcon, et al. -- incl., <mark>Javier Licandro</mark> |\n",
       "|*Appeared on*| *2023-02-09*|\n",
       "|*Comments*| *13 pages, 15 figures*|\n",
       "|**Abstract**| Scientific Complementary Metal-Oxide-Semiconductor (CMOS) detectors have developed quickly in recent years, owing to their low cost, high availability and some advantages over CCDs, such as high frame rate or typically lower readout noise. With the development of the first back-illuminated models, these sensors started to be used in astronomy, so it is worth studying their characteristics, advantages and weaknesses. In this paper, we present the results of the laboratory characterization of the IMX455M and IMX411M sensors, integrated into the QHY600 and QHY411 cameras respectively. These are large (36$\\times$24 and 54$\\times$40 mm) native 16-bit sensors with 3.76 $\\mu$m pixels sensitive in the optical range. Their quantum efficiency has been found to peak at 80% at 475 nm, 40% at 700 nm and 10% at 900 nm. Their linearity and photon transfer performance have been evaluated, as well as their dark behaviour. They showed a low dark current, but also the presence of warm pixels of about 0.024% in the QHY600 and 0.005% in the QHY411, which were proved to be stable and linear with exposure time. We have analysed in detail the effect of random telegraph noise, also called Salt & Pepper noise, one of the most important issues to be addressed with these two sensors, since it affects around 2% of the pixels in each exposure. Sky tests are also presented and the effect of this noise on astronomical images is discussed. |\n",
       "|<p style=\"color:green\"> **ERROR** </p>| <p style=\"color:green\">affiliation error: mpia.affiliation_verifications: 'Heidelberg' keyword not found.</p> |"
      ],
      "text/plain": [
       "<IPython.core.display.Markdown object>"
      ]
     },
     "metadata": {},
     "output_type": "display_data"
    },
    {
     "data": {
      "text/markdown": [
       "\n",
       "|||\n",
       "|---:|:---|\n",
       "| [![arXiv](https://img.shields.io/badge/arXiv-arXiv:2302.03708-b31b1b.svg)](https://arxiv.org/abs/arXiv:2302.03708) | **Spectroscopic analysis of Milky Way outer halo satellites: Aquarius II  and Bootes II**  |\n",
       "|| Jordan Bruce, et al. -- incl., <mark>Ting S. Li</mark>, <mark>Mairead Heiger</mark> |\n",
       "|*Appeared on*| *2023-02-09*|\n",
       "|*Comments*| *21 pages, 7 figures, 5 tables. Submitted to AAS Journal*|\n",
       "|**Abstract**| In this paper we present a chemical and kinematic analysis of two ultra-faint dwarf galaxies (UFDs), Aquarius II (Aqu~II) and \\text{Bo\\\"{o}tes II} (Boo~II), using Magellan/IMACS spectroscopy. We present the largest sample of member stars for Boo~II (12), and the largest sample of red-giant-branch members with metallicity measurements for Aqu~II (8). In both UFDs, over 80\\% of targets selected based on $Gaia$ proper motions turned out to be spectroscopic members. In order to maximize the accuracy of stellar kinematic measurements, we remove the identified binary stars and RR Lyrae variables. For Aqu~II we measure a systemic velocity of $-65.3 \\pm 1.8$ km s$^{-1}$ and a metallicity of [Fe/H] = $-2.57^{+0.17}_{-0.17}$. When compared with previous measurements, these values display a $\\sim 6$ km s$^{-1}$ difference in radial velocity and a decrease of 0.27 dex in metallicity. Similarly for Boo~II, we measure a systemic velocity of $-130.4^{+1.4}_{-1.1}$ km s$^{-1}$, more than 10 km s$^{-1}$ different from the literature, a metallicity almost 1 dex smaller at [Fe/H] = $-2.71^{+0.11}_{-0.10}$, and a velocity dispersion 3 times smaller at $\\sigma_{v_{\\rm hel}} = 2.9^{+1.6}_{-1.2}$ km s$^{-1}$. Additionally, we derive systemic proper motion parameters and model the orbits of both UFDs. Finally, we highlight the extremely dark matter dominated nature of Aqu~II and compute the J-factor for both galaxies to aid searches of dark matter annihilation. Despite the small size and close proximity of Boo~II, it is an intermediate target for the indirect detection of dark matter annihilation due to its low velocity dispersion and corresponding low dark matter density. |\n",
       "|<p style=\"color:green\"> **ERROR** </p>| <p style=\"color:green\">affiliation error: mpia.affiliation_verifications: 'Heidelberg' keyword not found.</p> |"
      ],
      "text/plain": [
       "<IPython.core.display.Markdown object>"
      ]
     },
     "metadata": {},
     "output_type": "display_data"
    },
    {
     "data": {
      "text/markdown": [
       "\n",
       "|||\n",
       "|---:|:---|\n",
       "| [![arXiv](https://img.shields.io/badge/arXiv-arXiv:2302.03726-b31b1b.svg)](https://arxiv.org/abs/arXiv:2302.03726) | **A potential site for wide-orbit giant planet formation in the IM Lup  disk**  |\n",
       "|| <mark>Arthur Bosman</mark>, et al. |\n",
       "|*Appeared on*| *2023-02-09*|\n",
       "|*Comments*| *12 pages, 9 figures, Accepted by Astrophysical Journal Letters*|\n",
       "|**Abstract**| The radial transport, or drift, of dust has taken a critical role in giant planet formation theory. However, it has been challenging to identify dust drift pile ups in the hard-to-observe inner disk. We find that the IM Lup disk shows evidence that it has been shaped by an episode of dust drift. Using radiative transfer and dust dynamical modeling we study the radial and vertical dust distribution. We find that high dust drift rates exceeding 110 M_earth/Myr are necessary to explain both the dust and CO observations. Furthermore, the bulk of the large dust present in the inner 20 au needs to be vertically extended, implying high turbulence alpha_z > 10^{-3} and small grains (0.2-1 mm). We suggest that this increased level of particle stirring is consistent with the inner dust-rich disk undergoing turbulence triggered by the vertical shear instability. The conditions in the IM Lup disk imply that giant planet formation through pebble accretion is only effective outside 20 au. If such an early, high turbulence inner region is a natural consequence of high dust drift rates, then this has major implications for understanding the formation regions of giant planets including Jupiter and Saturn. |\n",
       "|<p style=\"color:green\"> **ERROR** </p>| <p style=\"color:green\">affiliation error: mpia.affiliation_verifications: 'Heidelberg' keyword not found.</p> |"
      ],
      "text/plain": [
       "<IPython.core.display.Markdown object>"
      ]
     },
     "metadata": {},
     "output_type": "display_data"
    },
    {
     "data": {
      "text/markdown": [
       "\n",
       "|||\n",
       "|---:|:---|\n",
       "| [![arXiv](https://img.shields.io/badge/arXiv-arXiv:2302.03779-b31b1b.svg)](https://arxiv.org/abs/arXiv:2302.03779) | **Swarm Intelligence-based Extraction and Manifold Crawling Along the  Large-Scale Structure**  |\n",
       "|| Petra Awad, et al. -- incl., <mark>Rory Smith</mark> |\n",
       "|*Appeared on*| *2023-02-09*|\n",
       "|*Comments*| **|\n",
       "|**Abstract**| The distribution of galaxies and clusters of galaxies on the mega-parsec scale of the Universe follows an intricate pattern now famously known as the Large-Scale Structure or the Cosmic Web. To study the environments of this network, several techniques have been developed that are able to describe its properties and the properties of groups of galaxies as a function of their environment. In this work we analyze the previously introduced framework: 1-Dimensional Recovery, Extraction, and Analysis of Manifolds (1-DREAM) on N-body cosmological simulation data of the Cosmic Web. The 1-DREAM toolbox consists of five Machine Learning methods, whose aim is the extraction and modelling of 1-dimensional structures in astronomical big data settings. We show that 1-DREAM can be used to extract structures of different density ranges within the Cosmic Web and to create probabilistic models of them. For demonstration, we construct a probabilistic model of an extracted filament and move through the structure to measure properties such as local density and velocity. We also compare our toolbox with a collection of methodologies which trace the Cosmic Web. We show that 1-DREAM is able to split the network into its various environments with results comparable to the state-of-the-art methodologies. A detailed comparison is then made with the public code DisPerSE, in which we find that 1-DREAM is robust against changes in sample size making it suitable for analyzing sparse observational data, and finding faint and diffuse manifolds in low density regions. |\n",
       "|<p style=\"color:green\"> **ERROR** </p>| <p style=\"color:green\">affiliation error: mpia.affiliation_verifications: 'Heidelberg' keyword not found.</p> |"
      ],
      "text/plain": [
       "<IPython.core.display.Markdown object>"
      ]
     },
     "metadata": {},
     "output_type": "display_data"
    },
    {
     "data": {
      "text/markdown": [
       "\n",
       "|||\n",
       "|---:|:---|\n",
       "| [![arXiv](https://img.shields.io/badge/arXiv-arXiv:2302.03799-b31b1b.svg)](https://arxiv.org/abs/arXiv:2302.03799) | **STARFIRE: An algorithm for estimating radio frequency interference in  orbits around Earth**  |\n",
       "|| <mark>Sonia Ghosh</mark>, Mayuri Sathyanarayana Rao, Saurabh Singh |\n",
       "|*Appeared on*| *2023-02-09*|\n",
       "|*Comments*| *14 pages, 12 figures, 2 tables. Submitted to Astronomy and Computing*|\n",
       "|**Abstract**| Ground-based 21-cm experiments targeting the global signal from the periods of Cosmic Dawn (CD) and Epoch of Reionization (EoR) are susceptible to adverse effects presented by i) the ionosphere ii) antenna chromaticity induced by objects in its vicinity iii) terrestrial radio frequency interference (RFI). Terrestrial RFI is particularly challenging as the FM radio band spanning over 88-108 MHz lies entirely within the frequency range of the CD/EoR experiments ($\\sim 40-200$ MHz). Multiple space-based experiments have been proposed to operate in the radio-quiet zone on the lunar farside. An intermediate option in cost and complexity is an experiment operating in space in an orbit around Earth, which readily alleviates the first two challenges. However, the effect of RFI in Earth's orbit on the detection of global signal needs to be quantitatively evaluated. We present STARFIRE -- Simulation of TerrestriAl Radio Frequency Interference in oRbits around Earth -- an algorithm that provides an expectation of FM seeded RFI at different altitudes over Earth. Using a limited set of publicly available FM transmitter databases, which can be extended by the user community, we demonstrate the use of the STARFIRE framework to generate a three-dimensional spatio-spectral cube of RFI as would be measured in Earth orbit. Applications of STARFIRE include identifying minimum RFI orbits around Earth, producing RFI spectra over a particular location, and generating RFI heatmaps at specific frequencies for a range of altitudes. STARFIRE can be easily adapted for different frequencies, altitudes, antenna properties, RFI databases, and combined with astrophysical sky-models. This can be used to estimate the effect of RFI on the detection of global 21-cm signal from Earth-orbit, and hence for sensitivity estimates and experiment design of an Earth orbiting CD/EoR detection experiment. |\n",
       "|<p style=\"color:green\"> **ERROR** </p>| <p style=\"color:green\">affiliation error: mpia.affiliation_verifications: 'Heidelberg' keyword not found.</p> |"
      ],
      "text/plain": [
       "<IPython.core.display.Markdown object>"
      ]
     },
     "metadata": {},
     "output_type": "display_data"
    },
    {
     "data": {
      "text/markdown": [
       "\n",
       "|||\n",
       "|---:|:---|\n",
       "| [![arXiv](https://img.shields.io/badge/arXiv-arXiv:2302.03804-b31b1b.svg)](https://arxiv.org/abs/arXiv:2302.03804) | **Composition Comparison between ICMEs from Active Regions and Quiet-Sun  Regions**  |\n",
       "|| <mark>Jinrong Li</mark>, et al. -- incl., <mark>Leping Li</mark> |\n",
       "|*Appeared on*| *2023-02-09*|\n",
       "|*Comments*| *13 pages, 4 figures*|\n",
       "|**Abstract**| The composition, including the ionic charge states and elemental abundances of heavy elements, within interplanetary coronal mass ejections (ICMEs) has tight correlations with their source regions and eruption processes. This can help analyze the eruption mechanisms and plasma origins of CMEs, and deepen our understanding of energetic solar activities. The active regions and quiet-Sun regions have different physical properties, thus from a statistical point of view, ICMEs originating from the two types of regions should exhibit different compositional characteristics. To demonstrate the differences comprehensively, we conduct survey studies on the ionic charge states of five elements (Mg, Fe, Si, C, and O) and the relative abundances of six elements (Mg/O, Fe/O, Si/O, C/O, Ne/O, and He/O) within ICMEs from 1998 February to 2011 August through the data of advanced composition explorer. The results show that ICMEs from active regions have higher ionic charge states and relative abundances than those from quiet-Sun regions. For the active-region ICMEs, we further analyze the relations between their composition and flare class, and find a positive relationship between them, i.e., the higher classes of the associated flares, the larger means of ionic charge states and relative abundances (except the C/O) within ICMEs. As more (less) fractions of ICMEs originate from active regions around solar maximum (minimum), and active-region ICMEs usually are associated with higher-class flares, our studies might answer why ICME composition measured near 1 au exhibits the solar cycle dependence. |\n",
       "|<p style=\"color:green\"> **ERROR** </p>| <p style=\"color:green\">affiliation error: mpia.affiliation_verifications: 'Heidelberg' keyword not found.</p> |"
      ],
      "text/plain": [
       "<IPython.core.display.Markdown object>"
      ]
     },
     "metadata": {},
     "output_type": "display_data"
    },
    {
     "data": {
      "text/markdown": [
       "\n",
       "|||\n",
       "|---:|:---|\n",
       "| [![arXiv](https://img.shields.io/badge/arXiv-arXiv:2302.03814-b31b1b.svg)](https://arxiv.org/abs/arXiv:2302.03814) | **Rotation curve of the Milky Way and the mass of Sagittarius A***  |\n",
       "|| <mark>José Enrique Hernández Ramírez</mark> |\n",
       "|*Appeared on*| *2023-02-09*|\n",
       "|*Comments*| *6 pages, 4 figures*|\n",
       "|**Abstract**| In the present work we derive an analytical expression for the mass density of an object with spherical symmetry, whose corresponding potential allows obtaining a circular velocity around it that is in agreement with the observed rotation curve of galaxies. The rotation curve of our galaxy is analyzed, determining the properties of the central object, its radius and mass whose value obtained is very close to that reported in the literature. |\n",
       "|<p style=\"color:green\"> **ERROR** </p>| <p style=\"color:green\">affiliation error: mpia.affiliation_verifications: 'Heidelberg' keyword not found.</p> |"
      ],
      "text/plain": [
       "<IPython.core.display.Markdown object>"
      ]
     },
     "metadata": {},
     "output_type": "display_data"
    },
    {
     "data": {
      "text/markdown": [
       "\n",
       "|||\n",
       "|---:|:---|\n",
       "| [![arXiv](https://img.shields.io/badge/arXiv-arXiv:2302.03829-b31b1b.svg)](https://arxiv.org/abs/arXiv:2302.03829) | **Lack of Bright Supernova Emission in the Brightest Gamma-ray Burst,  GRB~221009A**  |\n",
       "|| Manisha Shrestha, et al. -- incl., <mark>Joseph Farah</mark>, <mark>Nathan Smith</mark>, <mark>Clara Martínez-Vázquez</mark> |\n",
       "|*Appeared on*| *2023-02-09*|\n",
       "|*Comments*| *19 pages, 8 figures, 4 tables, submitted to ApJL*|\n",
       "|**Abstract**| We present photometric and spectroscopic observations of the extraordinary gamma-ray burst (GRB) 221009A in search of an associated supernova. Some past GRBs have shown bumps in the optical light curve that coincide with the emergence of supernova spectral features, but we do not detect any significant light curve features in GRB~221009A, nor do we detect any clear sign of supernova spectral features. Using two well-studied GRB-associated supernovae (SN~2013dx, $M_{r,max} = -19.54$; SN~2016jca, $M_{r,max} = -19.04$) at a similar redshift as GRB~221009A ($z=0.151$), we modeled how the emergence of a supernova would affect the light curve. If we assume the GRB afterglow to decay at the same rate as the X-ray data, the combination of afterglow and a supernova component is fainter than the observed GRB brightness. For the case where we assume the best-fit power law to the optical data as the GRB afterglow component, a supernova contribution should have created a clear bump in the light curve, assuming only extinction from the Milky Way. If we assume a higher extinction of $E(B-V)$=$1.74$ mag (as has been suggested elsewhere), the supernova contribution would have been hard to detect, with a limit on the associated supernova of $M_{r,max} \\approx-$19.54. We do not observe any clear supernova features in our spectra, which were taken around the time of expected maximum light. The lack of a bright supernova associated with GRB~221009A may indicate that the energy from the explosion is mostly concentrated in the jet, leaving a lower energy budget available for the supernova. |\n",
       "|<p style=\"color:green\"> **ERROR** </p>| <p style=\"color:green\">affiliation error: mpia.affiliation_verifications: 'Heidelberg' keyword not found.</p> |"
      ],
      "text/plain": [
       "<IPython.core.display.Markdown object>"
      ]
     },
     "metadata": {},
     "output_type": "display_data"
    },
    {
     "data": {
      "text/markdown": [
       "\n",
       "|||\n",
       "|---:|:---|\n",
       "| [![arXiv](https://img.shields.io/badge/arXiv-arXiv:2302.03859-b31b1b.svg)](https://arxiv.org/abs/arXiv:2302.03859) | **In-orbit performance of HE onboard Insight-HXMT in the first 5 years**  |\n",
       "|| <mark>Xu-Fang Li</mark>, et al. -- incl., <mark>Cong-Zhan Liu</mark>, <mark>Yi-Fei Zhang</mark>, <mark>Xiao-Bo Li</mark>, <mark>Zheng-Wei Li</mark>, <mark>Juan Zhang</mark>, <mark>Li-Ming Song</mark>, <mark>Shuang-Nan Zhang</mark> |\n",
       "|*Appeared on*| *2023-02-09*|\n",
       "|*Comments*| *19 pages, 16 figures, Accepted by Insight-HXMT special issue on RDTM*|\n",
       "|**Abstract**| Purpose: The High-Energy X-ray telescope (HE), one of the three main payloads of the \\textit{Insight}-HXMT mission, is composed of eighteen NaI(Tl)/CsI(Na) phoswich detectors, where NaI(Tl) serves as the primary detector covering 20--250\\,keV, and CsI(Na) is used as an active shield detector to suppress the background of NaI(Tl) and also serves as an all-sky gamma-ray burst monitor covering 0.2--3\\,MeV. In this paper, we review the in-orbit performance of HE in the first 5 years since \\textit{Insight}-HXMT was launched on June 15, 2017. Methods: The major performances we concern include the gain and energy resolution of NaI(Tl) and CsI(Na) detectors, the performance of pulse-shape-discriminator (PSD) and system dead-time. In this work, we investigate these performances mainly using the data of blank-sky observations and the data when the telescope in earth occultation. Results: The overall performance of HE/NaI(Tl) is very stable in the first 5 years, whereas the gain of HE/CsI(Na) shows a continuously increasing trend and should be calibrated regularly. Conclusion: In general, HE is still in good health and well-calibrated status after five-year's operation. The in-orbit performance of HE has no significant deviation from expectation. HE is expected to be in operation healthily for another several years of extended mission life. |\n",
       "|<p style=\"color:green\"> **ERROR** </p>| <p style=\"color:green\">affiliation error: mpia.affiliation_verifications: 'Heidelberg' keyword not found.</p> |"
      ],
      "text/plain": [
       "<IPython.core.display.Markdown object>"
      ]
     },
     "metadata": {},
     "output_type": "display_data"
    },
    {
     "data": {
      "text/markdown": [
       "\n",
       "|||\n",
       "|---:|:---|\n",
       "| [![arXiv](https://img.shields.io/badge/arXiv-arXiv:2302.03909-b31b1b.svg)](https://arxiv.org/abs/arXiv:2302.03909) | **Comparisons between fast algorithms for the continuous wavelet transform  and applications in cosmology: the one-dimensional case**  |\n",
       "|| Yun Wang, <mark>Ping He</mark> |\n",
       "|*Appeared on*| *2023-02-09*|\n",
       "|*Comments*| *17 pages, 17 figures, 3 tables*|\n",
       "|**Abstract**| The continuous wavelet transform (CWT) is very useful for processing signals with intricate and irregular structures in astrophysics and cosmology. It is crucial to propose precise and fast algorithms for the CWT. In this work, we review and compare four different fast CWT algorithms for the 1D signals, including the FFTCWT, the V97CWT, the M02CWT, and the A19CWT. The FFTCWT algorithm implements the CWT using the Fast Fourier Transform (FFT) with a computational complexity of $\\mathcal{O}(N\\log_2N)$ per scale. The rest algorithms achieve the complexity of $\\mathcal{O}(N)$ per scale by simplifying the CWT into some smaller convolutions. We illustrate explicitly how to set the parameters as well as the boundary conditions for them. To examine the actual performance of these algorithms, we use them to perform the CWT of signals with different wavelets. From the aspect of accuracy, we find that the FFTCWT is the most accurate algorithm, though its accuracy degrades a lot when processing the non-periodic signal with zero boundaries. The accuracy of $\\mathcal{O}(N)$ algorithms is robust to signals with different boundaries, and the M02CWT is more accurate than the V97CWT and A19CWT. From the aspect of speed, the $\\mathcal{O}(N)$ algorithms do not show an overall speed superiority over the FFTCWT at sampling numbers of $N\\lesssim10^6$, which is due to their large leading constants. Only the speed of the V97CWT with real wavelets is comparable to that of the FFTCWT. However, both the FFTCWT and V97CWT are substantially less efficient in processing the non-periodic signal because of zero padding. Finally, we conduct wavelet analysis of the 1D density fields, which demonstrate the convenience and power of techniques based on the CWT. We publicly release our CWT codes as resources for the community. |\n",
       "|<p style=\"color:green\"> **ERROR** </p>| <p style=\"color:green\">affiliation error: mpia.affiliation_verifications: 'Heidelberg' keyword not found.</p> |"
      ],
      "text/plain": [
       "<IPython.core.display.Markdown object>"
      ]
     },
     "metadata": {},
     "output_type": "display_data"
    },
    {
     "data": {
      "text/markdown": [
       "\n",
       "|||\n",
       "|---:|:---|\n",
       "| [![arXiv](https://img.shields.io/badge/arXiv-arXiv:2302.03988-b31b1b.svg)](https://arxiv.org/abs/arXiv:2302.03988) | **On Cosmological Low Entropy After the Big Bang: Universal Expansion and  Nucleosynthesis**  |\n",
       "|| Charlie F. Sharpe, Luke A. Barnes, <mark>Geraint F. Lewis</mark> |\n",
       "|*Appeared on*| *2023-02-09*|\n",
       "|*Comments*| *15 pages, 5 figures. It has been accepted for publishing but has not yet appeared. The journal is General Relativity and Gravitation*|\n",
       "|**Abstract**| We investigate the sensitivity of a universe's nuclear entropy after Big Bang nucleosynthesis (BBN) to variations in both the baryon-to-photon ratio and the temporal evolution of cosmological expansion. Specifically, we construct counterfactual cosmologies to quantify the degree by which these two parameters must vary from those in our Universe before we observe a substantial change in the degree of fusion, and thus nuclear entropy, during BBN. We find that, while the post-BBN nuclear entropy is indeed linked to baryogenesis and the Universe's expansion history, the requirement of leftover light elements does not place strong constraints on the properties of these two cosmological processes. |\n",
       "|<p style=\"color:green\"> **ERROR** </p>| <p style=\"color:green\">affiliation error: mpia.affiliation_verifications: 'Heidelberg' keyword not found.</p> |"
      ],
      "text/plain": [
       "<IPython.core.display.Markdown object>"
      ]
     },
     "metadata": {},
     "output_type": "display_data"
    },
    {
     "data": {
      "text/markdown": [
       "\n",
       "|||\n",
       "|---:|:---|\n",
       "| [![arXiv](https://img.shields.io/badge/arXiv-arXiv:2302.04007-b31b1b.svg)](https://arxiv.org/abs/arXiv:2302.04007) | **A NICER look at the jet-like corona of MAXI J1535-571 through type-B  quasi-periodic oscillation**  |\n",
       "|| <mark>Yuexin Zhang</mark>, et al. -- incl., <mark>Liang Zhang</mark> |\n",
       "|*Appeared on*| *2023-02-09*|\n",
       "|*Comments*| *13 pages, 7 figures, accepted for publication in MNRAS*|\n",
       "|**Abstract**| MAXI J1535-571 is a black-hole X-ray binary that in 2017 exhibited a very bright outburst which reached a peak flux of up to 5 Crab in the 2-20 keV band. Given the high flux, several X-ray space observatories obtained unprecedented high signal-to-noise data of key parts of the outburst. In our previous paper we studied the corona of MAXI J1535-571 in the hard-intermediate state (HIMS) with Insight-HXMT. In this paper we focus on the study of the corona in the soft-intermediate state (SIMS) through the spectral-timing analysis of 26 NICER detections of the type-B quasi-periodic oscillations (QPOs). From simultaneous fits of the energy, rms and lag spectra of these QPOs with our time-dependent Comptonization model, we find that in the SIMS the corona size is ~ 6500 km and vertically extended. We detect a narrow iron line in the energy spectra, which we interpret to be due to the illumination of the outer part of the accretion disk by this large corona. We follow the evolution of the corona and the radio jet during the HIMS-SIMS transition, and find that the jet flux peaks after the time when the corona extends to its maximum vertical size. The jet flux starts to decay after the corona contracts vertically towards the black hole. This behavior points to a connection between the X-ray corona and the radio jet similar to that seen in other sources. |\n",
       "|<p style=\"color:green\"> **ERROR** </p>| <p style=\"color:green\">affiliation error: mpia.affiliation_verifications: 'Heidelberg' keyword not found.</p> |"
      ],
      "text/plain": [
       "<IPython.core.display.Markdown object>"
      ]
     },
     "metadata": {},
     "output_type": "display_data"
    },
    {
     "data": {
      "text/markdown": [
       "\n",
       "|||\n",
       "|---:|:---|\n",
       "| [![arXiv](https://img.shields.io/badge/arXiv-arXiv:2302.04015-b31b1b.svg)](https://arxiv.org/abs/arXiv:2302.04015) | **The appearance of a merging binary black hole very close to a spinning  supermassive black hole**  |\n",
       "|| <mark>Xiaoyue Zhang</mark>, Xian Chen |\n",
       "|*Appeared on*| *2023-02-09*|\n",
       "|*Comments*| **|\n",
       "|**Abstract**| The mass and distance of a binary black hole (BBH) are fundamental parameters to measure in gravitational-wave (GW) astronomy. It is well-known that the measurement is affected by cosmological redshift, and recent works also showed that Doppler and gravitational redshifts could further affect the result if the BBH coalesces close to a supermassive black hole (SMBH). Here we consider the additional lensing effect induced by the nearby SMBH on the measurement. We compute the null geodesics originating within $10$ gravitational radii of a Kerr SMBH to determine the redshift and magnification of the GWs emitted by the BBH. We find a positive correlation between redshift and demagnification, which results in a positive correlation between the mass and distance of the BBH in the detector frame. More importantly, we find a higher probability for the signal to appear redshifted and demagnified to a distant observer, rather than blueshifted and magnified. Based on these results, we show that a binary at a cosmological redshift of $z_{\\rm cos}=(10^{-2}-10^{-1})$ and composed of BHs of $(10-20)M_\\odot$ could masquerade as a BBH at a redshift of $z_{\\rm cos}\\sim1$ and containing BHs as large as $(44-110)M_\\odot$. In the case of extreme demagnification, we also find that the same BBH could appear to be at $z_{\\rm cos}>10$ and contain subsolar-mass BHs. Such an effect, if not accounted for, could bias our understanding of the origin of the BHs detected via GWs. |\n",
       "|<p style=\"color:green\"> **ERROR** </p>| <p style=\"color:green\">affiliation error: mpia.affiliation_verifications: 'Heidelberg' keyword not found.</p> |"
      ],
      "text/plain": [
       "<IPython.core.display.Markdown object>"
      ]
     },
     "metadata": {},
     "output_type": "display_data"
    },
    {
     "data": {
      "text/markdown": [
       "\n",
       "|||\n",
       "|---:|:---|\n",
       "| [![arXiv](https://img.shields.io/badge/arXiv-arXiv:2302.04100-b31b1b.svg)](https://arxiv.org/abs/arXiv:2302.04100) | **Newtonian pulsations of relativistic ONe-core ultra-massive DA white  dwarfs**  |\n",
       "|| Alejandro H. Córsico, <mark>Leandro G. Althaus</mark>, María E. Camisassa |\n",
       "|*Appeared on*| *2023-02-09*|\n",
       "|*Comments*| *4 pages, 4 figures. Presented as a poster in the 22 European Workshop on White Dwarfs, that took place on August 15-19, 2022, in T\\\"ubingen, Germany. No proceedings were published at the conference*|\n",
       "|**Abstract**| Ultra-massive H-rich (DA spectral type) white dwarf stars ($M_{\\star} > 1.05 M_{\\odot}$) are expected to be substantially crystallized by the time they reach the ZZ Ceti instability strip ($T_{\\rm eff} \\sim 12\\,000$ K). Crystallization leads to a separation of $^{16}$O and $^{20}$Ne (or $^{12}$C and $^{16}$O) in the core of ultra-massive WDs, which strongly impacts their pulsational properties. An additional factor to take into account when modeling the evolution and pulsations of WDs in this range of masses are the relativistic effects, which induce changes in the cooling times and the stellar masses derived from the effective temperature and surface gravity. Given the arrival of large amounts of photometric data from space missions such as {\\it Kepler}/{\\it K2} and {\\it TESS}, it is important to assess the impact of General Relativity in the context of pulsations of ultra-massive ZZ Ceti stars. In this work, we present results of Newtonian gravity($g$)-mode pulsation calculations in evolutionary ultra-massive WD models computed in the frame of the General Relativity theory. |\n",
       "|<p style=\"color:green\"> **ERROR** </p>| <p style=\"color:green\">affiliation error: mpia.affiliation_verifications: 'Heidelberg' keyword not found.</p> |"
      ],
      "text/plain": [
       "<IPython.core.display.Markdown object>"
      ]
     },
     "metadata": {},
     "output_type": "display_data"
    },
    {
     "data": {
      "text/markdown": [
       "\n",
       "|||\n",
       "|---:|:---|\n",
       "| [![arXiv](https://img.shields.io/badge/arXiv-arXiv:2302.04194-b31b1b.svg)](https://arxiv.org/abs/arXiv:2302.04194) | **Modeling the Galaxy Distribution in Clusters using Halo Cores**  |\n",
       "|| Danila Korytov, et al. -- incl., <mark>Lindsey Bleem</mark>, <mark>Katrin Heitmann</mark>, <mark>Joseph Hollowed</mark> |\n",
       "|*Appeared on*| *2023-02-09*|\n",
       "|*Comments*| *17 pages, 19 figures, 1 Appendix*|\n",
       "|**Abstract**| The galaxy distribution in dark matter-dominated halos is expected to approximately trace the details of the underlying dark matter substructure. In this paper we introduce halo `core-tracking' as a way to efficiently follow the small-scale substructure in cosmological simulations and apply the technique to model the galaxy distribution in observed clusters. The method relies on explicitly tracking the set of particles identified as belonging to a halo's central density core, once a halo has attained a certain threshold mass. The halo cores are then followed throughout the entire evolution of the simulation. The aim of core-tracking is to simplify substructure analysis tasks by avoiding the use of subhalos and, at the same time, to more easily account for the so-called ``orphan'' galaxies, which have lost substantial dark mass due to tidal stripping. We show that simple models based on halo cores can reproduce the number and spatial distribution of galaxies found in optically-selected clusters in the Sloan Digital Sky Survey. We also discuss future applications of the core-tracking methodology in studying the galaxy-halo connection. |\n",
       "|<p style=\"color:green\"> **ERROR** </p>| <p style=\"color:green\">affiliation error: mpia.affiliation_verifications: 'Heidelberg' keyword not found.</p> |"
      ],
      "text/plain": [
       "<IPython.core.display.Markdown object>"
      ]
     },
     "metadata": {},
     "output_type": "display_data"
    },
    {
     "data": {
      "text/markdown": [
       "\n",
       "|||\n",
       "|---:|:---|\n",
       "| [![arXiv](https://img.shields.io/badge/arXiv-arXiv:2302.04258-b31b1b.svg)](https://arxiv.org/abs/arXiv:2302.04258) | **Estimating the longitudinal magnetic field in the chromosphere of  quiet-Sun magnetic concentrations**  |\n",
       "|| S. Esteban Pozuelo, et al. -- incl., <mark>A. Asensio Ramos</mark> |\n",
       "|*Appeared on*| *2023-02-09*|\n",
       "|*Comments*| *14 pages, 14 figures. Accepted for publication in Astronomy & Astrophysics; abstract has been abridged*|\n",
       "|**Abstract**| Details of the magnetic field in the quiet Sun chromosphere are key to our understanding of essential aspects of the solar atmosphere. We aim to determine the longitudinal magnetic field component (B_lon) of quiet Sun regions depending on their size. We estimated B_lon by applying the weak-field approximation (WFA) to high-spatial-resolution Ca II 854.2 nm data taken with the Swedish 1m Solar Telescope. Specifically, we analyzed the estimates inferred for different spectral ranges using the data at the original cadence and temporally integrated signals. The longitudinal magnetic field in each considered plasma structure correlates with its size. Using a spectral range restricted to the line core leads to chromospheric longitudinal fields varying from 50 G at the edges to 150-500 G at the center of the structure. These values increase as the spectral range widens due to the photospheric contribution. However, the difference between this contribution and the chromospheric one is not uniform for all structures. Small and medium-sized concentrations show a steeper height gradient in B_lon compared to their chromospheric values, so estimates for wider ranges are less trustworthy. Signal addition does not alleviate this situation as the height gradients in B_lon are consistent with time. Finally, despite the amplified noise levels that deconvolving processes may cause, data restored with the destretching technique show similar results, though are affected by smearing. We obtained B_lon estimates similar to those previously found, except for large concentrations and wide spectral ranges. In addition, we report a correlation between the height variation of B_lon compared to the chromospheric estimates and the concentration size. This correlation affects the difference between the photospheric and chromospheric magnetic flux values and the reliability of the estimates for wider spectral ranges. |\n",
       "|<p style=\"color:green\"> **ERROR** </p>| <p style=\"color:green\">affiliation error: mpia.affiliation_verifications: 'Heidelberg' keyword not found.</p> |"
      ],
      "text/plain": [
       "<IPython.core.display.Markdown object>"
      ]
     },
     "metadata": {},
     "output_type": "display_data"
    },
    {
     "data": {
      "text/markdown": [
       "\n",
       "|||\n",
       "|---:|:---|\n",
       "| [![arXiv](https://img.shields.io/badge/arXiv-arXiv:2302.03721-b31b1b.svg)](https://arxiv.org/abs/arXiv:2302.03721) | **Radiation shielding of protoplanetary discs in young star-forming  regions**  |\n",
       "|| Martijn J. C. Wilhelm, et al. -- incl., <mark>Sean C. Lewis</mark> |\n",
       "|*Appeared on*| *2023-02-09*|\n",
       "|*Comments*| *23 pages, 22 figures, 1 table, accepted for publication in MNRAS*|\n",
       "|**Abstract**| Protoplanetary discs spend their lives in the dense environment of a star forming region. While there, they can be affected by nearby stars through external photoevaporation and dynamic truncations. We present simulations that use the AMUSE framework to couple the Torch model for star cluster formation from a molecular cloud with a model for the evolution of protoplanetary discs under these two environmental processes. We compare simulations with and without extinction of photoevaporation-driving radiation. We find that the majority of discs in our simulations are considerably shielded from photoevaporation-driving radiation for at least 0.5 Myr after the formation of the first massive stars. Radiation shielding increases disc lifetimes by an order of magnitude and can let a disc retain more solid material for planet formation. The reduction in external photoevaporation leaves discs larger and more easily dynamically truncated, although external photoevaporation remains the dominant mass loss process. Finally, we find that the correlation between disc mass and projected distance to the most massive nearby star (often interpreted as a sign of external photoevaporation) can be erased by the presence of less massive stars that dominate their local radiation field. Overall, we find that the presence and dynamics of gas in embedded clusters with massive stars is important for the evolution of protoplanetary discs. |\n",
       "|<p style=\"color:green\"> **ERROR** </p>| <p style=\"color:green\">affiliation error: mpia.affiliation_verifications: 'Planck' keyword not found.</p> |"
      ],
      "text/plain": [
       "<IPython.core.display.Markdown object>"
      ]
     },
     "metadata": {},
     "output_type": "display_data"
    },
    {
     "data": {
      "text/markdown": [
       "\n",
       "|||\n",
       "|---:|:---|\n",
       "| [![arXiv](https://img.shields.io/badge/arXiv-arXiv:2302.03871-b31b1b.svg)](https://arxiv.org/abs/arXiv:2302.03871) | **A Three-Dimensional Analytical Model of the Interstellar Extinction  within the Nearest Kiloparsec**  |\n",
       "|| G. A. Gontcharov, et al. -- incl., <mark>N. Hebdon</mark> |\n",
       "|*Appeared on*| *2023-02-09*|\n",
       "|*Comments*| *Published in Astronomy Letters, 2022, 48, 578-600*|\n",
       "|**Abstract**| We present a new version of our analytical model of the spatial interstellar extinction variations within the nearest kiloparsec. This model treats the 3D dust distribution as a superposition of three overlapping layers: (1) the layer along the Galactic midplane, (2) the layer in the Gould Belt, and (3) the layer passing through the Cepheus and Chamaeleon dust cloud complexes. In each layer the dust density decreases exponentially with increasing distance from the midplane of the layer. In addition, there are sinusoidal longitudinal extinction variations along the midplane of each layer. We have found the most probable values of 29 parameters of our model using four data sets: the 3D stellar reddening maps by Gontcharov (2017), Lallement et al. (2019), and Green et al. (2019) and the extinctions inferred by Anders et al. (2022) for 993291 giants from the Gaia EDR3. All of the data give similar estimates of the model parameters. The extinction for a star or a point in space is predicted by our model with an accuracy from $\\sigma(A_\\mathrm{V})=0.07$ to 0.37 for high and low Galactic latitudes, respectively. The natural fluctuations of the dust medium dominate in these values. When ignoring the fluctuations of the medium, the average extinction for an extended object (a galaxy, a star cluster, a dust cloud) or a small region of space is predicted by our model with an accuracy from $\\sigma(A_\\mathrm{V})=0.04$ to 0.15 for high and low Galactic latitudes, respectively. Green et al. (2019) and Anders et al. (2022) give in unison an estimate of $A_\\mathrm{V}=0.12^m$ for the extinction at high latitudes across the whole Galactic dust half-layer above or below the Sun with the natural fluctuations of the medium $\\sigma(A_\\mathrm{V})=0.06^m$. Our model is a step to explain how a substantial amount of dust ended up far from the Galactic midplane. |\n",
       "|<p style=\"color:red\"> **ERROR** </p>| <p style=\"color:red\">latex error 'utf-8' codec can't decode byte 0xe3 in position 993: invalid continuation byte</p> |"
      ],
      "text/plain": [
       "<IPython.core.display.Markdown object>"
      ]
     },
     "metadata": {},
     "output_type": "display_data"
    },
    {
     "data": {
      "text/markdown": [
       "\n",
       "|||\n",
       "|---:|:---|\n",
       "| [![arXiv](https://img.shields.io/badge/arXiv-arXiv:2302.03713-b31b1b.svg)](https://arxiv.org/abs/arXiv:2302.03713) | **VLA Legacy Survey of Molecular Gas in Massive Star-forming Galaxies at  High Redshift**  |\n",
       "|| Marta Frias Castillo, et al. -- incl., <mark>Cheng-Lin Liao</mark>, <mark>Fabian Walter</mark>, <mark>Helmut Dannerbauer</mark> |\n",
       "|*Appeared on*| *2023-02-09*|\n",
       "|*Comments*| *10 pages, 15 figures. Accepted for publication in ApJ*|\n",
       "|**Abstract**| We present initial results of an ongoing survey with the Karl G. Jansky Very Large Array targeting the CO($J$ = 1-0) transition in a sample of 30 submillimeter-selected, dusty star-forming galaxies at $z =$ 2-5 with existing mid--$J$ CO detections from ALMA and NOEMA, of which 17 have been fully observed. We detect CO(1-0) emission in 11 targets, along with three tentative ($\\sim$1.5-2$\\sigma$) detections; three galaxies are undetected. Our results yield total molecular gas masses of 6-23$\\times$10$^{10}$ ($\\alpha_\\mathrm{CO}$/1) M$_\\odot$, with gas mass fractions, $f_\\mathrm{gas}$=$M_\\mathrm{mol}$/($M_*$+$M_\\mathrm{mol}$), of 0.1-0.8 and a median depletion time of (140$\\pm$70) Myr. We find median CO excitation ratios of $r_{31}$ = 0.75$\\pm$0.39 and $r_{41}$ = 0.63$\\pm$0.44, with a significant scatter. We find no significant correlation between the excitation ratio and a number of key parameters such as redshift, CO(1-0) line width or $\\Sigma_\\mathrm{SFR}$. We only find a tentative positive correlation between $r_{41}$ and the star-forming efficiency, but we are limited by our small sample size. Finally, we compare our results to predictions from the SHARK semi-analytical model, finding a good agreement between the molecular gas masses, depletion times and gas fractions of our sources and their SHARK counterparts. Our results highlight the heterogeneous nature of the most massive star-forming galaxies at high-redshift, and the importance of CO(1--0) observations to robustly constrain their total molecular gas content and ISM properties. |\n",
       "|<p style=\"color:red\"> **ERROR** </p>| <p style=\"color:red\">latex error Could not find figure Lprime_v_z.pdf</p> |"
      ],
      "text/plain": [
       "<IPython.core.display.Markdown object>"
      ]
     },
     "metadata": {},
     "output_type": "display_data"
    }
   ],
   "source": [
    "import datetime\n",
    "today = str(datetime.date.today())\n",
    "logfile = f\"_build/html/logs/log-{today}.md\"\n",
    "\n",
    "\n",
    "with open(logfile, 'w') as logs:\n",
    "    # Success\n",
    "    logs.write(f'# Arxiv on Deck 2: Logs - {today}\\n\\n')\n",
    "    logs.write(\"\"\"* Arxiv had {0:,d} new papers\\n\"\"\".format(len(new_papers)))\n",
    "    logs.write(\"\"\"    * {0:,d} with possible author matches\\n\\n\"\"\".format(len(candidates)))\n",
    "    logs.write(\"## Sucessful papers\\n\\n\")\n",
    "    display(Markdown(\"## Successful papers\"))\n",
    "    success = [k[0] for k in documents]\n",
    "    for candid in candidates:\n",
    "        if candid['identifier'].split(':')[-1] in success:\n",
    "            display(candid)\n",
    "            logs.write(candid.generate_markdown_text() + '\\n\\n')\n",
    "\n",
    "    ## failed\n",
    "    logs.write(\"## Failed papers\\n\\n\")\n",
    "    display(Markdown(\"## Failed papers\"))\n",
    "    failed = sorted(failed, key=lambda x: x[1])\n",
    "    current_reason = \"\"\n",
    "    for paper, reason in failed:\n",
    "        if 'affiliation' in reason:\n",
    "            color = 'green'\n",
    "        else:\n",
    "            color = 'red'\n",
    "        data = Markdown(\n",
    "                paper.generate_markdown_text() + \n",
    "                f'\\n|<p style=\"color:{color:s}\"> **ERROR** </p>| <p style=\"color:{color:s}\">{reason:s}</p> |'\n",
    "               )\n",
    "        if reason != current_reason:\n",
    "            logs.write(f'### {reason:s} \\n\\n')\n",
    "            current_reason = reason\n",
    "        logs.write(data.data + '\\n\\n')\n",
    "        \n",
    "        # only display here the important errors (all in logs)\n",
    "        # if color in ('red',):\n",
    "        display(data)"
   ]
  },
  {
   "cell_type": "markdown",
   "id": "472d20ee",
   "metadata": {
    "papermill": {
     "duration": 0.012804,
     "end_time": "2023-02-09T04:10:52.760208",
     "exception": false,
     "start_time": "2023-02-09T04:10:52.747404",
     "status": "completed"
    },
    "tags": []
   },
   "source": [
    "## Export documents\n",
    "\n",
    "We now write the .md files and export relevant images"
   ]
  },
  {
   "cell_type": "code",
   "execution_count": 7,
   "id": "d426aed9",
   "metadata": {
    "execution": {
     "iopub.execute_input": "2023-02-09T04:10:52.789114Z",
     "iopub.status.busy": "2023-02-09T04:10:52.788658Z",
     "iopub.status.idle": "2023-02-09T04:10:52.797443Z",
     "shell.execute_reply": "2023-02-09T04:10:52.796762Z"
    },
    "papermill": {
     "duration": 0.024251,
     "end_time": "2023-02-09T04:10:52.799193",
     "exception": false,
     "start_time": "2023-02-09T04:10:52.774942",
     "status": "completed"
    },
    "tags": []
   },
   "outputs": [],
   "source": [
    "def export_markdown_summary(md: str, md_fname:str, directory: str):\n",
    "    \"\"\"Export MD document and associated relevant images\"\"\"\n",
    "    import os\n",
    "    import shutil\n",
    "    import re\n",
    "\n",
    "    if (os.path.exists(directory) and not os.path.isdir(directory)):\n",
    "        raise RuntimeError(f\"a non-directory file exists with name {directory:s}\")\n",
    "\n",
    "    if (not os.path.exists(directory)):\n",
    "        print(f\"creating directory {directory:s}\")\n",
    "        os.mkdir(directory)\n",
    "\n",
    "    fig_fnames = (re.compile(r'\\[Fig.*\\]\\((.*)\\)').findall(md) + \n",
    "                  re.compile(r'\\<img src=\"([^>\\s]*)\"[^>]*/>').findall(md))\n",
    "    for fname in fig_fnames:\n",
    "        if 'http' in fname:\n",
    "            # No need to copy online figures\n",
    "            continue\n",
    "        destdir = os.path.join(directory, os.path.dirname(fname))\n",
    "        destfname = os.path.join(destdir, os.path.basename(fname))\n",
    "        try:\n",
    "            os.makedirs(destdir)\n",
    "        except FileExistsError:\n",
    "            pass\n",
    "        shutil.copy(fname, destfname)\n",
    "    with open(os.path.join(directory, md_fname), 'w') as fout:\n",
    "        fout.write(md)\n",
    "    print(\"exported in \", os.path.join(directory, md_fname))\n",
    "    [print(\"    + \" + os.path.join(directory,fk)) for fk in fig_fnames]"
   ]
  },
  {
   "cell_type": "code",
   "execution_count": 8,
   "id": "014d04a4",
   "metadata": {
    "execution": {
     "iopub.execute_input": "2023-02-09T04:10:52.872812Z",
     "iopub.status.busy": "2023-02-09T04:10:52.872464Z",
     "iopub.status.idle": "2023-02-09T04:10:52.890438Z",
     "shell.execute_reply": "2023-02-09T04:10:52.889763Z"
    },
    "papermill": {
     "duration": 0.080813,
     "end_time": "2023-02-09T04:10:52.892254",
     "exception": false,
     "start_time": "2023-02-09T04:10:52.811441",
     "status": "completed"
    },
    "tags": []
   },
   "outputs": [
    {
     "name": "stdout",
     "output_type": "stream",
     "text": [
      "exported in  _build/html/2302.03699.md\n",
      "    + _build/html/tmp_2302.03699/./used_plots/method_illistration_2.png\n",
      "    + _build/html/tmp_2302.03699/./used_plots/measured_bub_props-v1p3-peer-avg_velo.png\n",
      "    + _build/html/tmp_2302.03699/./used_plots/average_tpeak_intensity-all_norm-err-peer_reviewed.png\n",
      "exported in  _build/html/2302.04138.md\n",
      "    + _build/html/tmp_2302.04138/./TOIs_EDENSensitivity-01.png\n",
      "    + _build/html/tmp_2302.04138/./LOT_20201118_J0419.png\n",
      "    + _build/html/tmp_2302.04138/./KUIPER_20201118_J0419.png\n",
      "    + _build/html/tmp_2302.04138/./VATT_20201222_J0419.png\n",
      "    + _build/html/tmp_2302.04138/./average_sensitivity_map.png\n",
      "    + _build/html/tmp_2302.04138/./average_detection_map.png\n",
      "exported in  _build/html/2302.04239.md\n",
      "    + _build/html/tmp_2302.04239/./Figures/M1_50K.png\n",
      "    + _build/html/tmp_2302.04239/./Figures/M3_30K.png\n",
      "    + _build/html/tmp_2302.04239/./Figures/CH2OH_Formations_row_V2.png\n",
      "    + _build/html/tmp_2302.04239/./Figures/CO_Formations_row_V2.png\n",
      "    + _build/html/tmp_2302.04239/./Figures/CO2_Formations_row_V2.png\n",
      "    + _build/html/tmp_2302.04239/./Figures/CH4_Formations_row_V2.png\n",
      "    + _build/html/tmp_2302.04239/./Figures/HCO_Formations_row_V3.png\n",
      "    + _build/html/tmp_2302.04239/./Figures/H2CO_Formations_row_V22.png\n"
     ]
    }
   ],
   "source": [
    "for paper_id, md in documents:\n",
    "    export_markdown_summary(md, f\"{paper_id:s}.md\", '_build/html/')"
   ]
  },
  {
   "cell_type": "markdown",
   "id": "f087a0a7",
   "metadata": {
    "papermill": {
     "duration": 0.012225,
     "end_time": "2023-02-09T04:10:52.917007",
     "exception": false,
     "start_time": "2023-02-09T04:10:52.904782",
     "status": "completed"
    },
    "tags": []
   },
   "source": [
    "## Display the papers\n",
    "\n",
    "Not necessary but allows for a quick check."
   ]
  },
  {
   "cell_type": "code",
   "execution_count": 9,
   "id": "fd25f625",
   "metadata": {
    "execution": {
     "iopub.execute_input": "2023-02-09T04:10:52.943009Z",
     "iopub.status.busy": "2023-02-09T04:10:52.942672Z",
     "iopub.status.idle": "2023-02-09T04:10:52.955379Z",
     "shell.execute_reply": "2023-02-09T04:10:52.954676Z"
    },
    "papermill": {
     "duration": 0.028409,
     "end_time": "2023-02-09T04:10:52.957512",
     "exception": false,
     "start_time": "2023-02-09T04:10:52.929103",
     "status": "completed"
    },
    "scrolled": false,
    "tags": []
   },
   "outputs": [
    {
     "data": {
      "text/markdown": [
       "<div class=\"macros\" style=\"visibility:hidden;\">\n",
       "$\\newcommand{\\ensuremath}{}$\n",
       "$\\newcommand{\\xspace}{}$\n",
       "$\\newcommand{\\object}[1]{\\texttt{#1}}$\n",
       "$\\newcommand{\\farcs}{{.}''}$\n",
       "$\\newcommand{\\farcm}{{.}'}$\n",
       "$\\newcommand{\\arcsec}{''}$\n",
       "$\\newcommand{\\arcmin}{'}$\n",
       "$\\newcommand{\\ion}[2]{#1#2}$\n",
       "$\\newcommand{\\textsc}[1]{\\textrm{#1}}$\n",
       "$\\newcommand{\\hl}[1]{\\textrm{#1}}$\n",
       "$\\newcommand{\\SII}{[S\\textsc{ii}]}$\n",
       "$\\newcommand{\\OI}{[O\\textsc{i}]}$\n",
       "$\\newcommand{\\OIII}{[O\\textsc{iii}]}$\n",
       "$\\newcommand{\\NII}{[N\\textsc{ii}]}$\n",
       "$\\newcommand{\\kms}{km~s^{-1}}$\n",
       "$\\newcommand{\\h}{H_2}$\n",
       "$\\newcommand{\\msun}{M_\\odot}$\n",
       "$\\newcommand{\\e}{\\times10}$\n",
       "$\\newcommand{\\HII}{H\\textsc{ii}}$\n",
       "$\\newcommand{\\HI}{H\\textsc{i}}$\n",
       "$\\newcommand{\\Ha}{H\\alpha}$\n",
       "$\\newcommand{\\Hb}{H\\beta}$\n",
       "$\\newcommand{\\CO}{^{12}CO}$\n",
       "$\\newcommand{\\Tpeak}{T_\\text{peak}}$</div>\n",
       "\n",
       "<div class=\"macros\" style=\"visibility:hidden;\">\n",
       "$\\newcommand{$\\ensuremath$}{}$\n",
       "$\\newcommand{$\\xspace$}{}$\n",
       "$\\newcommand{$\\object$}[1]{\\texttt{#1}}$\n",
       "$\\newcommand{$\\farcs$}{{.}''}$\n",
       "$\\newcommand{$\\farcm$}{{.}'}$\n",
       "$\\newcommand{$\\arcsec$}{''}$\n",
       "$\\newcommand{$\\arcmin$}{'}$\n",
       "$\\newcommand{$\\ion$}[2]{#1#2}$\n",
       "$\\newcommand{$\\textsc$}[1]{\\textrm{#1}}$\n",
       "$\\newcommand{$\\hl$}[1]{\\textrm{#1}}$\n",
       "$\\newcommand{$\\SII$}{[S$\\textsc${ii}]}$\n",
       "$\\newcommand{$\\OI$}{[O$\\textsc${i}]}$\n",
       "$\\newcommand{$\\OI$II}{[O$\\textsc${iii}]}$\n",
       "$\\newcommand{$\\NII$}{[N$\\textsc${ii}]}$\n",
       "$\\newcommand{$\\kms$}{km~s^{-1}}$\n",
       "$\\newcommand{$\\h$}{H_2}$\n",
       "$\\newcommand{$\\msun$}{M_\\odot}$\n",
       "$\\newcommand{$\\e$}{\\times10}$\n",
       "$\\newcommand{$\\HII$}{H$\\textsc${ii}}$\n",
       "$\\newcommand{$\\HI$}{H$\\textsc${i}}$\n",
       "$\\newcommand{$\\Ha$}{H\\alpha}$\n",
       "$\\newcommand{$\\Hb$}{H\\beta}$\n",
       "$\\newcommand{$\\CO$}{^{12}CO}$\n",
       "$\\newcommand{$\\Tpeak$}{T_\\text{peak}}$</div>\n",
       "\n",
       "\n",
       "\n",
       "<div id=\"title\">\n",
       "\n",
       "# Quantifying the energetics of molecular superbubbles in PHANGS galaxies\n",
       "\n",
       "</div>\n",
       "<div id=\"comments\">\n",
       "\n",
       "[![arXiv](https://img.shields.io/badge/arXiv-2302.03699-b31b1b.svg)](https://arxiv.org/abs/2302.03699)<mark>Appeared on: 2023-02-09</mark> - _20 pages, 14 figures, 3 tables. Submitted to A&A. Abstract abridged for arXiv_\n",
       "\n",
       "</div>\n",
       "<div id=\"authors\">\n",
       "\n",
       "E. J. Watkins, et al. -- incl., <mark>K. Kreckel</mark>, <mark>E. Schinnerer</mark>, <mark>J. C. Lee</mark>, <mark>J. Li</mark>\n",
       "\n",
       "</div>\n",
       "<div id=\"abstract\">\n",
       "\n",
       "**Abstract:** Star formation and stellar feedback are interlinked processes that redistribute energy, turbulence and material throughout galaxies. Because young, and massive stars form in spatially clustered environments, they create pockets of expanding gas termed superbubbles, which retain information about the physical processes that drive them. As these processes play a critical role in shaping galaxy discs and regulating the baryon cycle, measuring the properties of superbubbles provides important input for galaxy evolution models.With wide coverage and high angular resolution ($\\sim$50--150 pc) of the PHANGS--ALMA$\\CO$({\\it J}=2$-$1) survey, we can now resolve, identify and characterise statistically representative numbers of superbubbles with molecular gas in nearby galaxies.We identify superbubbles by requiring spatial correspondence between shells in CO with stellar populations identified in PHANGS--HST, and combine the properties of the stellar populations with CO to constrain feedback models and quantify their energetics. We visually identify 325 cavities across 18 PHANGS--ALMA galaxies, 88 of which have clear superbubble signatures (unbroken shells, central clusters, kinematic signatures of expansion). We measure their radii and expansion velocities using CO (2--1) to dynamically derive their ages and the mechanical power driving the bubbles, which we use to compute the expected properties of the parent stellar populations driving the bubbles.We find consistency between the predicted and derived stellar ages and masses of the stellar populations if we use a supernova (SN) model that injects energy with a coupling efficiency of 5--12\\%, whereas wind models fail to explain stellar ages we measure. Not only does this confirm molecular gas accurately traces superbubble properties, but it also provides key observational constraints for superbubble models. We also find evidence that the bubbles are sweeping up gas as they expand and speculate that these sites have the potential to host new generations of stars.This work demonstrates that molecular superbubbles provide  novel quantitative constraints on SNe feedback efficiencies and gas clearing times, and represent a promising environment to search for the propagation of star formation, all of which are needed to understand what sets the observed star formation rates in galaxies.\n",
       "\n",
       "</div>\n",
       "\n",
       "<div id=\"div_fig1\">\n",
       "\n",
       "<img src=\"tmp_2302.03699/./used_plots/method_illistration_2.png\" alt=\"Fig10\" width=\"100%\"/>\n",
       "\n",
       "**Figure 10. -** Illustrating bubble identification and elimination criteria in section of NGC 1566. \\textbf{1.} CO $\\Tpeak$(red), $\\Ha$(green), and HST \\textit{B}-band (blue) combined into a false colour image at their original resolution to identify superbubbles using multi-wavelength information. \\textbf{2.} Manually fitting radii and their centres using the CO $\\Tpeak$ map. Cyan and dashed white circles show catalogued bubbles that were analysed or ignored respectively. The blue box outlines the bubble examined in all remaining panels (Bubble 36 in Table \\ref{tab:props}). \\textbf{3.} Checking three channel maps in CO to confirm if bubble emission is significant in multiple consecutive velocity bands. If not, the bubble is removed from the sample. \\textbf{4.} Horizontal and vertical PV diagrams to confirm expansion signature is present. Grey ellipse shows present expansion signature. If unable to confirm, bubble is removed. \\textbf{5.} Illustrating average spectra around the bubble. If identifiable background or foreground emission is found, bubble is removed. All spectra shown here are free of contaminating emission. (*fig:method*)\n",
       "\n",
       "</div>\n",
       "<div id=\"div_fig2\">\n",
       "\n",
       "<img src=\"tmp_2302.03699/./used_plots/measured_bub_props-v1p3-peer-avg_velo.png\" alt=\"Fig12\" width=\"100%\"/>\n",
       "\n",
       "**Figure 12. -** Histogram distributions of the bubble radii \\textit{(left)}, expansion velocity \\textit{(middle)} and shell mass \\textit{(right)} for all 88 superbubbles. The dashed red line in the left panel shows a power-law fit to the radii with an exponent of $-3.2$. Thick vertical grey and black lines show the mean and median of each distribution, respectively, and coloured filled regions show the 16\\textsuperscript{th}--84\\textsuperscript{th} sigma percentiles. (*fig:meas-bub_props*)\n",
       "\n",
       "</div>\n",
       "<div id=\"div_fig3\">\n",
       "\n",
       "<img src=\"tmp_2302.03699/./used_plots/average_tpeak_intensity-all_norm-err-peer_reviewed.png\" alt=\"Fig1\" width=\"100%\"/>\n",
       "\n",
       "**Figure 1. -** Averaged normalised intensity profile of bubbles categorised as \\textit{closed rings}. Solid red line shows the mean profile, dashed black line shows the median profile and filled grey region shows the statistical spread of the data measured using the standard deviation ($\\sigma$). (*fig:profile*)\n",
       "\n",
       "</div>"
      ],
      "text/plain": [
       "<IPython.core.display.Markdown object>"
      ]
     },
     "metadata": {},
     "output_type": "display_data"
    },
    {
     "data": {
      "text/markdown": [
       "<div class=\"macros\" style=\"visibility:hidden;\">\n",
       "$\\newcommand{\\ensuremath}{}$\n",
       "$\\newcommand{\\xspace}{}$\n",
       "$\\newcommand{\\object}[1]{\\texttt{#1}}$\n",
       "$\\newcommand{\\farcs}{{.}''}$\n",
       "$\\newcommand{\\farcm}{{.}'}$\n",
       "$\\newcommand{\\arcsec}{''}$\n",
       "$\\newcommand{\\arcmin}{'}$\n",
       "$\\newcommand{\\ion}[2]{#1#2}$\n",
       "$\\newcommand{\\textsc}[1]{\\textrm{#1}}$\n",
       "$\\newcommand{\\hl}[1]{\\textrm{#1}}$\n",
       "$\\newcommand{\\vdag}{(v)^\\dagger}$\n",
       "$\\newcommand$\n",
       "$\\newcommand$\n",
       "$\\newcommand$\n",
       "$\\newcommand$\n",
       "$\\newcommand$</div>\n",
       "\n",
       "<div class=\"macros\" style=\"visibility:hidden;\">\n",
       "$\\newcommand{$\\ensuremath$}{}$\n",
       "$\\newcommand{$\\xspace$}{}$\n",
       "$\\newcommand{$\\object$}[1]{\\texttt{#1}}$\n",
       "$\\newcommand{$\\farcs$}{{.}''}$\n",
       "$\\newcommand{$\\farcm$}{{.}'}$\n",
       "$\\newcommand{$\\arcsec$}{''}$\n",
       "$\\newcommand{$\\arcmin$}{'}$\n",
       "$\\newcommand{$\\ion$}[2]{#1#2}$\n",
       "$\\newcommand{$\\textsc$}[1]{\\textrm{#1}}$\n",
       "$\\newcommand{$\\hl$}[1]{\\textrm{#1}}$\n",
       "$\\newcommand{$\\vdag$}{(v)^\\dagger}$\n",
       "$\\newcommand$\n",
       "$\\newcommand$\n",
       "$\\newcommand$\n",
       "$\\newcommand$\n",
       "$\\newcommand$</div>\n",
       "\n",
       "\n",
       "\n",
       "<div id=\"title\">\n",
       "\n",
       "# \n",
       "\n",
       "</div>\n",
       "<div id=\"comments\">\n",
       "\n",
       "[![arXiv](https://img.shields.io/badge/arXiv-2302.04138-b31b1b.svg)](https://arxiv.org/abs/2302.04138)<mark>Appeared on: 2023-02-09</mark> - _27 pages, 11 figures_\n",
       "\n",
       "</div>\n",
       "<div id=\"authors\">\n",
       "\n",
       "Jeremy Dietrich, et al. -- incl., <mark>Nicolas Kurtovic</mark>, <mark>Thomas Henning</mark>, <mark>Samantha Brown-Sevilla</mark>, <mark>Remo Burn</mark>, <mark>Timmy N. Delage</mark>, <mark>Lizxandra Flores-Rivera</mark>, <mark>Riccardo Franceschi</mark>, <mark>Sofia Savvidou</mark>, <mark>Jonas Syed</mark>, <mark>An-Li Tsai</mark>, <mark>Chia-Lung Lin</mark>, <mark>Chi-Sheng Lin</mark>, <mark>Hung-Chin Lin</mark>\n",
       "\n",
       "</div>\n",
       "<div id=\"abstract\">\n",
       "\n",
       "**Abstract:** Earth-sized exoplanets that transit nearby, late spectral type red dwarfs will be prime targets for atmospheric characterization in the coming decade. Such systems, however, are difficult to find via wide-field transit surveys like\\textit{Kepler}or TESS. Consequently, the presence of such transiting planets is unexplored and the occurrence rates of short-period Earth-sized planets around late M dwarfs remain poorly constrained. Here, we present the deepest photometric monitoring campaign of\\ntargetsnearby late M dwarf stars, using data from over 500 nights on seven 1-2 meter class telescopes. Our survey includes all known single quiescent northern late M dwarfs within 15 pc.  We use transit-injection-and-recovery tests to quantify the completeness of our survey, successfully identify most ($>80\\%$) transiting short-period (0.5-1 d) super-Earths (R$>1.9 R_\\oplus$), and are sensitive ($\\sim$50\\%) to transiting Earth-sized planets (1.0--1.2$R_\\oplus$). Our high sensitivity to transits with a near-zero false positive rate demonstrates an efficient survey strategy. Our survey does not yield a transiting planet detection, yet it provides the most sensitive upper limits on transiting planets orbiting our target stars. Finally, we explore multiple hypotheses about the occurrence rates of short-period planets (from Earth-sized planets to giant planets) around late M dwarfs. We show, for example, that giant planets at short periods ($<$1 day) are uncommon around our target stars. Our dataset provides some insight into occurrence rates of short-period planets around TRAPPIST-1-like stars, and our results can help test planetary formation and system evolution models, as well as guide future observations of nearby late M dwarfs.\n",
       "\n",
       "</div>\n",
       "\n",
       "<div id=\"div_fig1\">\n",
       "\n",
       "<img src=\"tmp_2302.04138/./TOIs_EDENSensitivity-01.png\" alt=\"Fig5\" width=\"100%\"/>\n",
       "\n",
       "**Figure 5. -** TESS objects of interest (TOIs) by stellar effective temperature and planet candidate radius. The temperature and planet radius distributions of the TOIs show a marked drop toward late spectral types ($>$M4--M6) and for small planets ($R_p<2$ $R_\\oplus$). The green shaded region represents the sensitivity of our EDEN survey, which is complementary to that of TESS. (*fig:TESSTOIST*)\n",
       "\n",
       "</div>\n",
       "<div id=\"div_fig2\">\n",
       "\n",
       "<img src=\"tmp_2302.04138/./LOT_20201118_J0419.png\" alt=\"Fig9.1\" width=\"33%\"/><img src=\"tmp_2302.04138/./KUIPER_20201118_J0419.png\" alt=\"Fig9.2\" width=\"33%\"/><img src=\"tmp_2302.04138/./VATT_20201222_J0419.png\" alt=\"Fig9.3\" width=\"33%\"/>\n",
       "\n",
       "**Figure 9. -** The first look at the non-detrended light curves from a simple reference star calibration of each potential transit event, before full detrending is done. The transit-like features are marked with green lines and the name of the Project EDEN member who analyzed the quick look data. (*fig:EIC9FL*)\n",
       "\n",
       "</div>\n",
       "<div id=\"div_fig3\">\n",
       "\n",
       "<img src=\"tmp_2302.04138/./average_sensitivity_map.png\" alt=\"Fig7.1\" width=\"50%\"/><img src=\"tmp_2302.04138/./average_detection_map.png\" alt=\"Fig7.2\" width=\"50%\"/>\n",
       "\n",
       "**Figure 7. -** The average sensitivity (top) and full detection probability including geometric transit likelihood (bottom) of the EDEN survey for planets with periods between 0.5 and 10 days and sizes between 0.6 and 3.5 Earth radii.  For ultra-short-period planets ($<$ 1 day), we reach 50\\% sensitivity for planets with radius $1.5 R_\\oplus$ or larger.  Due to the low geometric transit probability, the overall completeness is much lower and drops sharply with the orbital period.  The inner edge of the habitable zone is defined using the \\citet[][]{Kopparapu2013} model based on the temperature and insolation (assuming a stellar effective temperature of 2600 K and a planetary albedo of 0.3). (*fig:map1*)\n",
       "\n",
       "</div>"
      ],
      "text/plain": [
       "<IPython.core.display.Markdown object>"
      ]
     },
     "metadata": {},
     "output_type": "display_data"
    },
    {
     "data": {
      "text/markdown": [
       "<div class=\"macros\" style=\"visibility:hidden;\">\n",
       "$\\newcommand{\\ensuremath}{}$\n",
       "$\\newcommand{\\xspace}{}$\n",
       "$\\newcommand{\\object}[1]{\\texttt{#1}}$\n",
       "$\\newcommand{\\farcs}{{.}''}$\n",
       "$\\newcommand{\\farcm}{{.}'}$\n",
       "$\\newcommand{\\arcsec}{''}$\n",
       "$\\newcommand{\\arcmin}{'}$\n",
       "$\\newcommand{\\ion}[2]{#1#2}$\n",
       "$\\newcommand{\\textsc}[1]{\\textrm{#1}}$\n",
       "$\\newcommand{\\hl}[1]{\\textrm{#1}}$\n",
       "$\\newcommand{\\arraystretch}{1.5}$\n",
       "$\\newcommand{\\arraystretch}{1.1}$\n",
       "$\\newcommand{\\arraystretch}{1.3}$\n",
       "$\\newcommand{\\arraystretch}{1.5}$\n",
       "$\\newcommand{\\theequation}{R\\arabic{equation}}$\n",
       "$\\newcommand{\\theequation}{R\\arabic{equation}}$\n",
       "$\\newcommand{\\theequation}{R\\arabic{equation}}$\n",
       "$\\newcommand{\\theequation}{R\\arabic{equation}}$\n",
       "$\\newcommand{\\theequation}{R\\arabic{equation}}$\n",
       "$\\newcommand{\\arraystretch}{1.}$\n",
       "$\\newcommand{\\arraystretch}{1.2}$\n",
       "$\\newcommand{\\arraystretch}{1.2}$\n",
       "$\\newcommand{\\arraystretch}{1.2}$\n",
       "$\\newcommand{\\@}{currentlabel}$\n",
       "$\\newcommand{\\@}{currentlabel}$\n",
       "$\\newcommand{\\@}{currentlabel}$\n",
       "$\\newcommand{\\@}{currentlabel}$\n",
       "$\\newcommand{\\@}{currentlabel}$</div>\n",
       "\n",
       "<div class=\"macros\" style=\"visibility:hidden;\">\n",
       "$\\newcommand{$\\ensuremath$}{}$\n",
       "$\\newcommand{$\\xspace$}{}$\n",
       "$\\newcommand{$\\object$}[1]{\\texttt{#1}}$\n",
       "$\\newcommand{$\\farcs$}{{.}''}$\n",
       "$\\newcommand{$\\farcm$}{{.}'}$\n",
       "$\\newcommand{$\\arcsec$}{''}$\n",
       "$\\newcommand{$\\arcmin$}{'}$\n",
       "$\\newcommand{$\\ion$}[2]{#1#2}$\n",
       "$\\newcommand{$\\textsc$}[1]{\\textrm{#1}}$\n",
       "$\\newcommand{$\\hl$}[1]{\\textrm{#1}}$\n",
       "$\\newcommand{$\\arraystretch$}{1.5}$\n",
       "$\\newcommand{$\\arraystretch$}{1.1}$\n",
       "$\\newcommand{$\\arraystretch$}{1.3}$\n",
       "$\\newcommand{$\\arraystretch$}{1.5}$\n",
       "$\\newcommand{$\\theequation$}{R\\arabic{equation}}$\n",
       "$\\newcommand{$\\theequation$}{R\\arabic{equation}}$\n",
       "$\\newcommand{$\\theequation$}{R\\arabic{equation}}$\n",
       "$\\newcommand{$\\theequation$}{R\\arabic{equation}}$\n",
       "$\\newcommand{$\\theequation$}{R\\arabic{equation}}$\n",
       "$\\newcommand{$\\arraystretch$}{1.}$\n",
       "$\\newcommand{$\\arraystretch$}{1.2}$\n",
       "$\\newcommand{$\\arraystretch$}{1.2}$\n",
       "$\\newcommand{$\\arraystretch$}{1.2}$\n",
       "$\\newcommand{\\@}{currentlabel}$\n",
       "$\\newcommand{\\@}{currentlabel}$\n",
       "$\\newcommand{\\@}{currentlabel}$\n",
       "$\\newcommand{\\@}{currentlabel}$\n",
       "$\\newcommand{\\@}{currentlabel}$</div>\n",
       "\n",
       "\n",
       "\n",
       "<div id=\"title\">\n",
       "\n",
       "# OH ice UV photolysis under laboratory conditions\n",
       "\n",
       "</div>\n",
       "<div id=\"comments\">\n",
       "\n",
       "[![arXiv](https://img.shields.io/badge/arXiv-2302.04239-b31b1b.svg)](https://arxiv.org/abs/2302.04239)<mark>Appeared on: 2023-02-09</mark> - _Accepted for publication in A&A on 08-Feb-2023_\n",
       "\n",
       "</div>\n",
       "<div id=\"authors\">\n",
       "\n",
       "W. R. M. Rocha, et al. -- incl., <mark><mark>G. Perotti</mark></mark>\n",
       "\n",
       "</div>\n",
       "<div id=\"abstract\">\n",
       "\n",
       "**Abstract:** Methanol is the most complex molecule securely identified in interstellar ices and is a key chemical species for understanding chemical complexity in astrophysical environments. Important aspects of the methanol ice photochemistry are still unclear such as the branching ratios and photo-dissociation cross-sections at different temperatures and irradiation fluxes.This work aims at a quantitative agreement between laboratory experiments and astrochemical modelling of the CH$_3$OH ice UV photolysis. Ultimately, this work allows us to better understand which processes govern the methanol ice photochemistry present in laboratory experiments.We use the\\texttt{ProDiMo}code to simulate the radiation fields, pressures and pumping efficiencies characteristic of laboratory measurements. The simulations start with simple chemistry consisting only of methanol ice and helium to mimic the residual gas in the experimental chamber. A surface chemical network enlarged by photo-dissociation reactions is used to study the chemical reactions within the ice. Additionally, different surface chemistry parameters such as surface competition, tunnelling, thermal diffusion and reactive desorption are adopted to check those that reproduce the experimental results.The chemical models with the\\texttt{ProDiMo}code including surface chemistry parameters can reproduce the methanol ice destruction via UV photodissociation at temperatures of 20, 30, 50 and 70 K as observed in the experiments. We also note that the results are sensitive to different branching ratios after photolysis and to the mechanisms of reactive desorption. In the simulations of a molecular cloud at 20 K, we observed an increase in the methanol gas abundance of one order of magnitude, with a similar decrease in the solid-phase abundance.Comprehensive astrochemical models provide new insights into laboratory experiments as the quantitative understanding of the processes that govern the reactions within the ice. Ultimately, those insights can help to better interpret astronomical observations.\n",
       "\n",
       "</div>\n",
       "\n",
       "<div id=\"div_fig1\">\n",
       "\n",
       "<img src=\"tmp_2302.04239/./Figures/M1_50K.png\" alt=\"Fig18\" width=\"100%\"/>\n",
       "\n",
       "**Figure 18. -** Grid of methanol ice photodissociation models at 50 K assuming different photodissociation cross-sections and BRs. The Model 1 in Table \\ref{t7} is adopted in these plots. (*M1_50*)\n",
       "\n",
       "</div>\n",
       "<div id=\"div_fig2\">\n",
       "\n",
       "<img src=\"tmp_2302.04239/./Figures/M3_30K.png\" alt=\"Fig13\" width=\"100%\"/>\n",
       "\n",
       "**Figure 13. -** Grid of methanol ice photodissociation models at 30 K assuming different photodissociation cross-sections and BRs. The Model 3 in Table \\ref{t7} is adopted in these plots. (*M3_30*)\n",
       "\n",
       "</div>\n",
       "<div id=\"div_fig3\">\n",
       "\n",
       "<img src=\"tmp_2302.04239/./Figures/CH2OH_Formations_row_V2.png\" alt=\"Fig37.1\" width=\"16%\"/><img src=\"tmp_2302.04239/./Figures/CO_Formations_row_V2.png\" alt=\"Fig37.2\" width=\"16%\"/><img src=\"tmp_2302.04239/./Figures/CO2_Formations_row_V2.png\" alt=\"Fig37.3\" width=\"16%\"/><img src=\"tmp_2302.04239/./Figures/CH4_Formations_row_V2.png\" alt=\"Fig37.4\" width=\"16%\"/><img src=\"tmp_2302.04239/./Figures/HCO_Formations_row_V3.png\" alt=\"Fig37.5\" width=\"16%\"/><img src=\"tmp_2302.04239/./Figures/H2CO_Formations_row_V22.png\" alt=\"Fig37.6\" width=\"16%\"/>\n",
       "\n",
       "**Figure 37. -** Formation curves of selected daughter species (CH$_2$OH, CO, CO$_2$, CH$_4$, HCO and H$_2$CO) due to CH$_3$OH photolysis over fluence with respect to the initial methanol ice column density at four temperatures. The symbols are the experimental measurements and the solid lines are the results of ProDiMo simulations of the best photodissociation models (see Figure \\ref{fits}). (*growth*)\n",
       "\n",
       "</div>"
      ],
      "text/plain": [
       "<IPython.core.display.Markdown object>"
      ]
     },
     "metadata": {},
     "output_type": "display_data"
    }
   ],
   "source": [
    "[display(Markdown(k[1])) for k in documents];"
   ]
  },
  {
   "cell_type": "markdown",
   "id": "873873a4",
   "metadata": {
    "papermill": {
     "duration": 0.035712,
     "end_time": "2023-02-09T04:10:53.019334",
     "exception": false,
     "start_time": "2023-02-09T04:10:52.983622",
     "status": "completed"
    },
    "tags": []
   },
   "source": [
    "# Create HTML index"
   ]
  },
  {
   "cell_type": "code",
   "execution_count": 10,
   "id": "cf665672",
   "metadata": {
    "execution": {
     "iopub.execute_input": "2023-02-09T04:10:53.051209Z",
     "iopub.status.busy": "2023-02-09T04:10:53.050865Z",
     "iopub.status.idle": "2023-02-09T04:10:53.068830Z",
     "shell.execute_reply": "2023-02-09T04:10:53.068038Z"
    },
    "papermill": {
     "duration": 0.034549,
     "end_time": "2023-02-09T04:10:53.070979",
     "exception": false,
     "start_time": "2023-02-09T04:10:53.036430",
     "status": "completed"
    },
    "tags": []
   },
   "outputs": [
    {
     "name": "stdout",
     "output_type": "stream",
     "text": [
      "198  publications in the last 7 days.\n",
      "\t _build/html/2302.04239.md\n",
      "\t _build/html/2302.04138.md\n",
      "\t _build/html/2302.03699.md\n",
      "\t _build/html/2302.03576.md\n",
      "\t _build/html/2302.03042.md\n",
      "\t _build/html/2302.03039.md\n",
      "\t _build/html/2302.02890.md\n",
      "\t _build/html/2302.02611.md\n",
      "\t _build/html/2302.02429.md\n",
      "\t _build/html/2302.01678.md\n",
      "\t _build/html/2302.00450.md\n",
      "\t _build/html/2301.13766.md\n",
      "\t _build/html/2301.13526.md\n",
      "\t _build/html/2301.12890.md\n",
      "\t _build/html/2301.11942.md\n",
      "\t _build/html/2301.10717.md\n",
      "\t _build/html/2301.10666.md\n",
      "\t _build/html/2301.10496.md\n",
      "\t _build/html/2301.09621.md\n",
      "\t _build/html/2301.09140.md\n",
      "\t _build/html/2301.08770.md\n",
      "\t _build/html/2301.08310.md\n",
      "\t _build/html/2301.07990.md\n",
      "\t _build/html/2301.07366.md\n",
      "\t _build/html/2301.07199.md\n",
      "\t _build/html/2301.07116.md\n",
      "\t _build/html/2301.06873.md\n",
      "\t _build/html/2301.06819.md\n",
      "\t _build/html/2301.06575.md\n",
      "\t _build/html/2301.05720.md\n",
      "\t _build/html/2301.05718.md\n",
      "\t _build/html/2301.05034.md\n",
      "\t _build/html/2301.04656.md\n",
      "\t _build/html/2301.04533.md\n",
      "\t _build/html/2301.04442.md\n",
      "\t _build/html/2301.03811.md\n",
      "\t _build/html/2301.03689.md\n",
      "\t _build/html/2301.03387.md\n",
      "\t _build/html/2301.03209.md\n",
      "\t _build/html/2301.02671.md\n",
      "\t _build/html/2301.02477.md\n",
      "\t _build/html/2301.02313.md\n",
      "\t _build/html/2301.02265.md\n",
      "\t _build/html/2301.01937.md\n",
      "\t _build/html/2301.01895.md\n",
      "\t _build/html/2301.01684.md\n",
      "\t _build/html/2301.01306.md\n",
      "\t _build/html/2301.00881.md\n",
      "\t _build/html/2301.00854.md\n",
      "\t _build/html/2301.00578.md\n",
      "\t _build/html/2212.12039.md\n",
      "\t _build/html/2212.11991.md\n",
      "\t _build/html/2212.11425.md\n",
      "\t _build/html/2212.11177.md\n",
      "\t _build/html/2212.10804.md\n",
      "\t _build/html/2212.10512.md\n",
      "\t _build/html/2212.09766.md\n",
      "\t _build/html/2212.09675.md\n",
      "\t _build/html/2212.09661.md\n",
      "\t _build/html/2212.09652.md\n",
      "\t _build/html/2212.09443.md\n",
      "\t _build/html/2212.09307.md\n",
      "\t _build/html/2212.09168.md\n",
      "\t _build/html/2212.09159.md\n",
      "\t _build/html/2212.08702.md\n",
      "\t _build/html/2212.07332.md\n",
      "\t _build/html/2212.06434.md\n",
      "\t _build/html/2212.04710.md\n",
      "\t _build/html/2212.04026.md\n",
      "\t _build/html/2212.03563.md\n",
      "\t _build/html/2212.03514.md\n",
      "\t _build/html/2212.02667.md\n",
      "\t _build/html/2212.02627.md\n",
      "\t _build/html/2212.02235.md\n",
      "\t _build/html/2212.01707.md\n",
      "\t _build/html/2212.01526.md\n",
      "\t _build/html/2212.01397.md\n",
      "\t _build/html/2212.01291.md\n",
      "\t _build/html/2212.01281.md\n",
      "\t _build/html/2212.00812.md\n",
      "\t _build/html/2212.00811.md\n",
      "\t _build/html/2212.00806.md\n",
      "\t _build/html/2212.00047.md\n",
      "\t _build/html/2212.00032.md\n",
      "\t _build/html/2211.16996.md\n",
      "\t _build/html/2211.16510.md\n",
      "\t _build/html/2211.16123.md\n",
      "\t _build/html/2211.15816.md\n",
      "\t _build/html/2211.15698.md\n",
      "\t _build/html/2211.15576.md\n",
      "\t _build/html/2211.15434.md\n",
      "\t _build/html/2211.15288.md\n",
      "\t _build/html/2211.15224.md\n",
      "\t _build/html/2211.14543.md\n",
      "\t _build/html/2211.14330.md\n",
      "\t _build/html/2211.14322.md\n",
      "\t _build/html/2211.14132.md\n",
      "\t _build/html/2211.13811.md\n",
      "\t _build/html/2211.13426.md\n",
      "\t _build/html/2211.13318.md\n",
      "\t _build/html/2211.13146.md\n",
      "\t _build/html/2211.12613.md\n",
      "\t _build/html/2211.11767.md\n",
      "\t _build/html/2211.09840.md\n",
      "\t _build/html/2211.09217.md\n",
      "\t _build/html/2211.08493.md\n",
      "\t _build/html/2211.08487.md\n",
      "\t _build/html/2211.08294.md\n",
      "\t _build/html/2211.07667.md\n",
      "\t _build/html/2211.07659.md\n",
      "\t _build/html/2211.06454.md\n",
      "\t _build/html/2211.06205.md\n",
      "\t _build/html/2211.06194.md\n",
      "\t _build/html/2211.05022.md\n",
      "\t _build/html/2211.04048.md\n",
      "\t _build/html/2211.03641.md\n",
      "\t _build/html/2211.02502.md\n",
      "\t _build/html/2211.01474.md\n",
      "\t _build/html/2211.00667.md\n",
      "\t _build/html/2211.00657.md\n",
      "\t _build/html/2211.00087.md\n",
      "\t _build/html/2211.00036.md\n",
      "\t _build/html/2211.00020.md\n",
      "\t _build/html/2211.00010.md\n",
      "\t _build/html/2210.17434.md\n",
      "\t _build/html/2210.12412.md\n",
      "\t _build/html/2210.11926.md\n",
      "\t _build/html/2210.11551.md\n",
      "\t _build/html/2210.11103.md\n",
      "\t _build/html/2210.10707.md\n",
      "\t _build/html/2210.09930.md\n",
      "\t _build/html/2210.08996.md\n",
      "\t _build/html/2210.08517.md\n",
      "\t _build/html/2210.08510.md\n",
      "\t _build/html/2210.08078.md\n",
      "\t _build/html/2210.06504.md\n",
      "\t _build/html/2210.05695.md\n",
      "\t _build/html/2210.05595.md\n",
      "\t _build/html/2210.05505.md\n",
      "\t _build/html/2210.04721.md\n",
      "\t _build/html/2210.03615.md\n",
      "\t _build/html/2210.01811.md\n",
      "\t _build/html/2210.01809.md\n",
      "\t _build/html/2210.01556.md\n",
      "\t _build/html/2210.00863.md\n",
      "\t _build/html/2210.00560.md\n",
      "\t _build/html/2209.15403.md\n",
      "\t _build/html/2209.15110.md\n",
      "\t _build/html/2209.14410.md\n",
      "\t _build/html/2209.14396.md\n",
      "\t _build/html/2209.13717.md\n",
      "\t _build/html/2209.13336.md\n",
      "\t _build/html/2209.12906.md\n",
      "\t _build/html/2209.11781.md\n",
      "\t _build/html/2209.11602.md\n",
      "\t _build/html/2209.11248.md\n",
      "\t _build/html/2209.11096.md\n",
      "\t _build/html/2209.10618.md\n",
      "\t _build/html/2209.09914.md\n",
      "\t _build/html/2209.09823.md\n",
      "\t _build/html/2209.08242.md\n",
      "\t _build/html/2209.08120.md\n",
      "\t _build/html/2209.08106.md\n",
      "\t _build/html/2209.07962.md\n",
      "\t _build/html/2209.07931.md\n",
      "\t _build/html/2209.06833.md\n",
      "\t _build/html/2209.05814.md\n",
      "\t _build/html/2209.05593.md\n",
      "\t _build/html/2209.04304.md\n",
      "\t _build/html/2209.03367.md\n",
      "\t _build/html/2209.02872.md\n",
      "\t _build/html/2209.02725.md\n",
      "\t _build/html/2209.02722.md\n",
      "\t _build/html/2209.02092.md\n",
      "\t _build/html/2209.01125.md\n",
      "\t _build/html/2209.00828.md\n",
      "\t _build/html/2209.00363.md\n",
      "\t _build/html/2208.14927.md\n",
      "\t _build/html/2208.09335.md\n",
      "\t _build/html/2208.08872.md\n",
      "\t _build/html/2204.06393.md\n",
      "\t _build/html/2204.03335.md\n",
      "\t _build/html/2204.03253.md\n",
      "\t _build/html/2204.02998.md\n",
      "\t _build/html/2204.02109.md\n",
      "\t _build/html/2204.02017.md\n",
      "\t _build/html/2204.01824.md\n",
      "\t _build/html/2204.01758.md\n",
      "\t _build/html/2204.01245.md\n",
      "\t _build/html/2204.00793.md\n",
      "\t _build/html/2204.00342.md\n",
      "\t _build/html/2203.16959.md\n",
      "\t _build/html/2203.16856.md\n",
      "\t _build/html/2203.16735.md\n",
      "\t _build/html/2203.16734.md\n",
      "\t _build/html/2203.16504.md\n",
      "\t _build/html/2203.15822.md\n",
      "\t _build/html/2203.15811.md\n"
     ]
    }
   ],
   "source": [
    "from datetime import datetime, timedelta, timezone\n",
    "from glob import glob\n",
    "\n",
    "files = glob('_build/html/*.md')\n",
    "days = 7\n",
    "now = datetime.today()\n",
    "res = []\n",
    "for fk in files:\n",
    "    stat_result = os.stat(fk).st_ctime\n",
    "    modified = datetime.fromtimestamp(stat_result, tz=timezone.utc).replace(tzinfo=None)\n",
    "    delta = now.today() - modified\n",
    "    if delta <= timedelta(days=days):\n",
    "        res.append((delta.seconds, fk))\n",
    "res = [k[1] for k in reversed(sorted(res, key=lambda x:x[1]))]\n",
    "npub = len(res)\n",
    "print(len(res), f\" publications in the last {days:d} days.\")\n",
    "[ print('\\t', k) for k in res ];"
   ]
  },
  {
   "cell_type": "code",
   "execution_count": 11,
   "id": "015de740",
   "metadata": {
    "execution": {
     "iopub.execute_input": "2023-02-09T04:10:53.111811Z",
     "iopub.status.busy": "2023-02-09T04:10:53.111354Z",
     "iopub.status.idle": "2023-02-09T04:10:53.137418Z",
     "shell.execute_reply": "2023-02-09T04:10:53.136664Z"
    },
    "papermill": {
     "duration": 0.042882,
     "end_time": "2023-02-09T04:10:53.139144",
     "exception": false,
     "start_time": "2023-02-09T04:10:53.096262",
     "status": "completed"
    },
    "tags": []
   },
   "outputs": [
    {
     "name": "stdout",
     "output_type": "stream",
     "text": [
      "11  publications in the last 7 days.\n"
     ]
    }
   ],
   "source": [
    "import datetime\n",
    "from glob import glob\n",
    "\n",
    "def get_last_n_days(lst, days=1):\n",
    "    \"\"\" Get the documents from the last n days \"\"\"\n",
    "    sorted_lst = sorted(lst, key=lambda x: x[1], reverse=True)\n",
    "    for fname, date in sorted_lst:\n",
    "        if date >= str(datetime.date.today() - datetime.timedelta(days=days)):\n",
    "            yield fname\n",
    "\n",
    "def extract_appearance_dates(lst_file):\n",
    "    dates = []\n",
    "\n",
    "    def get_date(line):\n",
    "        return line\\\n",
    "            .split('Appeared on:')[-1]\\\n",
    "            .split('</mark>')[0].strip()\n",
    "\n",
    "    for fname in lst:\n",
    "        with open(fname, 'r') as f:\n",
    "            found_date = False\n",
    "            for line in f:\n",
    "                if not found_date:\n",
    "                    if \"Appeared on\" in line:\n",
    "                        found_date = True\n",
    "                        dates.append((fname, get_date(line)))\n",
    "                else:\n",
    "                    break\n",
    "    return dates\n",
    "\n",
    "from glob import glob\n",
    "lst = glob('_build/html/*md')\n",
    "days = 7\n",
    "dates = extract_appearance_dates(lst)\n",
    "res = list(get_last_n_days(dates, days))\n",
    "npub = len(res)\n",
    "print(len(res), f\" publications in the last {days:d} days.\")"
   ]
  },
  {
   "cell_type": "code",
   "execution_count": 12,
   "id": "52ca0208",
   "metadata": {
    "execution": {
     "iopub.execute_input": "2023-02-09T04:10:53.167545Z",
     "iopub.status.busy": "2023-02-09T04:10:53.167007Z",
     "iopub.status.idle": "2023-02-09T04:10:53.176611Z",
     "shell.execute_reply": "2023-02-09T04:10:53.175905Z"
    },
    "papermill": {
     "duration": 0.025866,
     "end_time": "2023-02-09T04:10:53.178421",
     "exception": false,
     "start_time": "2023-02-09T04:10:53.152555",
     "status": "completed"
    },
    "scrolled": false,
    "tags": []
   },
   "outputs": [],
   "source": [
    "def create_carousel(npub=4):\n",
    "    \"\"\" Generate the HTML code for a carousel with `npub` slides \"\"\"\n",
    "    carousel = [\"\"\"<section class=\"carousel\" aria-label=\"Gallery\">\"\"\",\n",
    "                \"\"\"  <ol class=\"carousel__viewport\">\"\"\",\n",
    "    ]\n",
    "    for k in range(1, npub + 1):\n",
    "        prev_ = k - 1\n",
    "        next_ = k + 1\n",
    "        if prev_ <= 0:\n",
    "            prev_ = npub\n",
    "        if next_ > npub:\n",
    "            next_ = 1\n",
    "        text  = f\"\"\"    <li id=\"carousel__slide{k}\" tabindex=\"0\" class=\"carousel__slide\">\\n\"\"\"\n",
    "        text += f\"\"\"       <div class=\"carousel__snapper\">\\n\"\"\"\n",
    "        text += f\"\"\"         <a href=\"#carousel__slide{prev_}\" class=\"carousel__prev\">Go to previous slide</a>\\n\"\"\"\n",
    "        text += f\"\"\"         <a href=\"#carousel__slide{next_}\" class=\"carousel__next\">Go to next slide</a>\\n\"\"\"\n",
    "        text += f\"\"\"         <div id=\"slide{k}_content\" class=\"md_view\" >Content {k}</div>\\n\"\"\"\n",
    "        text += f\"\"\"       </div>\\n\"\"\"\n",
    "        text += f\"\"\"    </li>\"\"\"\n",
    "        carousel.append(text)\n",
    "\n",
    "    carousel.extend([\n",
    "        \"\"\"  </ol>\"\"\",\n",
    "        \"\"\"  <aside class=\"carousel__navigation\">\"\"\",\n",
    "        \"\"\"    <ol class=\"carousel__navigation-list\">\"\"\"])\n",
    "\n",
    "    for k in range(1, npub + 1):\n",
    "        text  = f\"\"\"      <li class=\"carousel__navigation-item\">\\n\"\"\"\n",
    "        text += f\"\"\"        <a href=\"#carousel__slide{k}\" class=\"carousel__navigation-button\">Go to {k}</a>\\n\"\"\"\n",
    "        text += f\"\"\"      </li>\"\"\"\n",
    "        carousel.append(text)\n",
    "    carousel.extend([\"\"\"    </ol>\"\"\", \"\"\"  </aside>\"\"\", \"\"\"</section>\"\"\"])\n",
    "\n",
    "    return '\\n'.join(carousel)"
   ]
  },
  {
   "cell_type": "code",
   "execution_count": 13,
   "id": "a6eac5b6",
   "metadata": {
    "execution": {
     "iopub.execute_input": "2023-02-09T04:10:53.207567Z",
     "iopub.status.busy": "2023-02-09T04:10:53.206829Z",
     "iopub.status.idle": "2023-02-09T04:10:53.214709Z",
     "shell.execute_reply": "2023-02-09T04:10:53.213978Z"
    },
    "papermill": {
     "duration": 0.025275,
     "end_time": "2023-02-09T04:10:53.216928",
     "exception": false,
     "start_time": "2023-02-09T04:10:53.191653",
     "status": "completed"
    },
    "scrolled": false,
    "tags": []
   },
   "outputs": [],
   "source": [
    "carousel = create_carousel(npub)\n",
    "docs = ', '.join(['\"{0:s}\"'.format(k.split('/')[-1]) for k in res])\n",
    "slides = ', '.join([f'\"slide{k}_content\"' for k in range(1, npub + 1)])\n",
    "\n",
    "script = f\"\"\"\n",
    "const docs = [{docs}]\n",
    "\n",
    "const slides = [{slides}]\n",
    "\"\"\" + \"\"\"\n",
    "async function run() {\n",
    "    for (let i = 0; i < docs.length; i++) {\n",
    "        let file = await fetch(docs[i]);\n",
    "        let text = await file.text()\n",
    "        document.getElementById(slides[i]).innerHTML =\n",
    "            marked.parse(text);\n",
    "    }\n",
    "    hljs.highlightAll();\n",
    "}\n",
    "run()\n",
    "\"\"\"\n",
    "\n",
    "page = f\"\"\"<!doctype html>\n",
    "<html lang=\"en\">\n",
    "\n",
    "<head>\n",
    "  <meta charset=\"utf-8\">\n",
    "  <meta name=\"viewport\" content=\"width=device-width, initial-scale=1\">\n",
    "  <!-- Bootstrap CSS -->\n",
    "  <link href=\"https://cdn.jsdelivr.net/npm/bootstrap@5.0.2/dist/css/bootstrap.min.css\" rel=\"stylesheet\"\n",
    "   integrity=\"sha384-EVSTQN3/azprG1Anm3QDgpJLIm9Nao0Yz1ztcQTwFspd3yD65VohhpuuCOmLASjC\" crossorigin=\"anonymous\">\n",
    "  <!-- highlight.js CSS -->\n",
    "  <link rel=\"stylesheet\" href=\"https://cdnjs.cloudflare.com/ajax/libs/highlight.js/11.1.0/styles/default.min.css\">\n",
    "  <!-- Mathjax 3 -->\n",
    "  <script type=\"text/javascript\" id=\"MathJax-config\" src=\"mathjax_config.js\"> </script>\n",
    "  <script type=\"text/javascript\" id=\"MathJax-script\" async \n",
    "    src=\"https://cdn.jsdelivr.net/npm/mathjax@3/es5/tex-mml-chtml.js\">\n",
    "  </script>\n",
    "  <link rel=\"stylesheet\" href=\"index_carousel.css\">\n",
    "  <link rel=\"icon\" type=\"image/x-icon\" href=\"https://www.mpia.de/assets/touch-icon-32x32-a66937bcebc4e8894ebff1f41a366c7c7220fd97a38869ee0f2db65a9f59b6c1.png\">\n",
    "  <title>MPIA Arxiv on deck!</title>\n",
    "</head>\n",
    "\n",
    "<body>\n",
    "  <div id=\"header\"> <img src=\"header_banner.png\" width=\"100%\"></div>\n",
    "  <div id=\"suptitle\"> 7-day archives </div>\n",
    "  <div id=\"info\">\n",
    "    <img src=\"https://pngimg.com/uploads/github/github_PNG58.png\" height=30rem></img>\n",
    "    <a href=https://github.com/mpi-astronomy/arxiv_display style=\"color:black;\">github/mpi-astronomy/arxiv_display</a> \n",
    "  </div>\n",
    "  {carousel:s}\n",
    "</body>\n",
    "\n",
    "<!-- Render Markdown -->\n",
    "\n",
    "<body>\n",
    "  <!-- highlight.js: https://highlightjs.org/download/ -->\n",
    "  <script src=\"https://cdnjs.cloudflare.com/ajax/libs/highlight.js/11.5.0/highlight.min.js\"></script>\n",
    "  <!-- marked.js -->\n",
    "  <script src=\"https://cdn.jsdelivr.net/npm/marked/marked.min.js\"></script>\n",
    "  <script>{script:s}</script>\n",
    "</body>\n",
    "</html>\n",
    "\"\"\"\n",
    "with open(\"_build/html/index_7days.html\", 'w') as fout:\n",
    "    fout.write(page)"
   ]
  },
  {
   "cell_type": "markdown",
   "id": "1cebacbc",
   "metadata": {
    "papermill": {
     "duration": 0.013022,
     "end_time": "2023-02-09T04:10:53.243031",
     "exception": false,
     "start_time": "2023-02-09T04:10:53.230009",
     "status": "completed"
    },
    "tags": []
   },
   "source": [
    "# Debugging papers"
   ]
  },
  {
   "cell_type": "raw",
   "id": "debe7cc6",
   "metadata": {
    "papermill": {
     "duration": 0.012946,
     "end_time": "2023-02-09T04:10:53.269230",
     "exception": false,
     "start_time": "2023-02-09T04:10:53.256284",
     "status": "completed"
    },
    "tags": []
   },
   "source": [
    "raise NotImplementedError(\"Manual Stop\")"
   ]
  },
  {
   "cell_type": "raw",
   "id": "eb169192",
   "metadata": {
    "papermill": {
     "duration": 0.012881,
     "end_time": "2023-02-09T04:10:53.295098",
     "exception": false,
     "start_time": "2023-02-09T04:10:53.282217",
     "status": "completed"
    },
    "scrolled": true,
    "tags": []
   },
   "source": [
    "from IPython.display import display, Markdown\n",
    "from TexSoup import TexSoup\n",
    "import re\n",
    "\n",
    "def bracket_error(source: str):\n",
    "    \"\"\" Find problematic portions of the document \"\"\"\n",
    "    \n",
    "    print(\"len(source)\", len(source))\n",
    "    \n",
    "    # Checking header\n",
    "    begin_doc = next(re.finditer(r'\\\\begin\\{document\\}', doc.source)).span()[1]\n",
    "    header = source[:begin_doc]\n",
    "    text = header + r\"\\n\\end{document}\"\n",
    "\n",
    "    try:\n",
    "        # print(\"Header check... \", end='')\n",
    "        TexSoup(text)\n",
    "        display(Markdown(f\"**[OK]** - Header\"))\n",
    "    except:\n",
    "        raise RuntimeError(\"Error in the header\")\n",
    "        \n",
    "    # Check the text per section until the end.\n",
    "    # Do not stop and try them all.\n",
    "    \n",
    "    problematic_text = []\n",
    "    \n",
    "    sections = ([(0, begin_doc, 'until first section')] + \n",
    "                [(g.span()[0], g.span()[1], g.group()) for g in re.finditer(r'\\\\section\\{.*\\}', source)] +\n",
    "                [(g.span()[0], g.span()[1], g.group()) for g in re.finditer(r'\\\\begin\\{appendix\\}', source)]\n",
    "               )\n",
    "    sections.append([len(source), len(source), 'end'])\n",
    "    \n",
    "    sections = sorted(sections, key=lambda x: x[0])\n",
    "    \n",
    "    prev_pos, prev_name = (0, 'header')\n",
    "    parsed = []\n",
    "    \n",
    "    for span, span_end, name in sections:\n",
    "\n",
    "        if span - prev_pos <= 0:\n",
    "            continue\n",
    "            \n",
    "\n",
    "        text = source[prev_pos:span]\n",
    "        if prev_pos > begin_doc:\n",
    "            text = r\"\\n\\begin{document}\" + text + r\"\\n\\end{document}\"\n",
    "        else:\n",
    "            text = text + r\"\\n\\end{document}\"\n",
    "        try:\n",
    "            #print(f\"{prev_pos}:{prev_name}-->{span}:{name} check... \", end='')\n",
    "            parsed.append(TexSoup(text, tolerance=1))  # allow not ending env\n",
    "            display(Markdown(f\"**[OK]** - *{prev_pos}*:{prev_name} &rarr; *{span}*:{name}\"))\n",
    "            # print(\"ok\")\n",
    "\n",
    "            prev_pos = span\n",
    "            prev_name = name\n",
    "        except:\n",
    "            # print(f\"error between {prev_pos} and {span}\")\n",
    "            display(Markdown(f\"**[ERR]** *{prev_pos}*:{prev_name} &rarr; *{span}*:{name}\"))\n",
    "            problematic_text.append((prev_pos, source[prev_pos:span]))\n",
    "            prev_pos = span\n",
    "            prev_name = name\n",
    "            # raise\n",
    "    return problematic_text, parsed\n",
    "\n",
    "\n",
    "def check_environment(text, offset=0):\n",
    "    \"\"\" Check environment \"\"\"\n",
    "    env = re.compile(r\"\\\\begin\\{(?P<env>.*)\\}(.*)\\\\end\\{(?P=env)\\}\", re.DOTALL)\n",
    "\n",
    "    for match in env.finditer(text):\n",
    "        beg, end = match.span()\n",
    "        beg += offset\n",
    "        end += offset\n",
    "        envname = match.groups()[0]\n",
    "        try:\n",
    "            latex.TexSoup(match.group())\n",
    "        except Exception as e:\n",
    "            display(e)\n",
    "            print(f\"Error in {envname:s} between {beg} and {end}\")\n",
    "            return match.groups()[1], beg, end"
   ]
  },
  {
   "cell_type": "raw",
   "id": "2315e835",
   "metadata": {
    "papermill": {
     "duration": 0.012935,
     "end_time": "2023-02-09T04:10:53.320922",
     "exception": false,
     "start_time": "2023-02-09T04:10:53.307987",
     "status": "completed"
    },
    "scrolled": false,
    "tags": []
   },
   "source": [
    "import importlib\n",
    "importlib.reload(latex)\n",
    "which = \"2204.03253\"\n",
    "paper_id = f'{which:s}'\n",
    "folder = f'tmp_{paper_id:s}'\n",
    "\n",
    "if not os.path.isdir(folder):\n",
    "    folder = retrieve_document_source(f\"{paper_id}\", f'tmp_{paper_id}')\n",
    "\n",
    "try:\n",
    "    doc = latex.LatexDocument(folder, validation=validation)    \n",
    "except AffiliationError as affilerror:\n",
    "    msg = f\"ArXiv:{paper_id:s} is not an MPIA paper... \" + str(affilerror)\n",
    "    print(msg)\n",
    "\n",
    "\n",
    "# Hack because sometimes author parsing does not work well\n",
    "if (len(doc.authors) != len(paper['authors'])):\n",
    "    doc._authors = paper['authors']\n",
    "if (doc.abstract) in (None, ''):\n",
    "    doc._abstract = paper['abstract']\n",
    "\n",
    "doc.comment = get_markdown_badge(paper_id) + \" _\" + paper['comments'] + \"_\"\n",
    "doc.highlight_authors_in_list(hl_list)\n",
    "\n",
    "full_md = doc.generate_markdown_text()"
   ]
  },
  {
   "cell_type": "raw",
   "id": "dd3781db",
   "metadata": {
    "papermill": {
     "duration": 0.012894,
     "end_time": "2023-02-09T04:10:53.346758",
     "exception": false,
     "start_time": "2023-02-09T04:10:53.333864",
     "status": "completed"
    },
    "scrolled": false,
    "tags": []
   },
   "source": [
    "doc"
   ]
  },
  {
   "cell_type": "raw",
   "id": "c6eed834",
   "metadata": {
    "papermill": {
     "duration": 0.012828,
     "end_time": "2023-02-09T04:10:53.372647",
     "exception": false,
     "start_time": "2023-02-09T04:10:53.359819",
     "status": "completed"
    },
    "tags": []
   },
   "source": [
    "# [check_environment(k) for k in bracket_error(doc.source)]\n",
    "_, _, a = latex.get_content_per_section(doc.source, verbose=True)\n",
    "if not a:\n",
    "    print(\"no issues per section\")\n",
    "for ak in a:\n",
    "    r = check_environment(ak[1], offset=ak[0])\n",
    "    print(r[1], r[2])\n",
    "    print(r[0])"
   ]
  },
  {
   "cell_type": "code",
   "execution_count": null,
   "id": "71ce768a",
   "metadata": {
    "papermill": {
     "duration": 0.012846,
     "end_time": "2023-02-09T04:10:53.398272",
     "exception": false,
     "start_time": "2023-02-09T04:10:53.385426",
     "status": "completed"
    },
    "tags": []
   },
   "outputs": [],
   "source": []
  }
 ],
 "metadata": {
  "kernelspec": {
   "display_name": "Python 3",
   "language": "python",
   "name": "python3"
  },
  "language_info": {
   "codemirror_mode": {
    "name": "ipython",
    "version": 3
   },
   "file_extension": ".py",
   "mimetype": "text/x-python",
   "name": "python",
   "nbconvert_exporter": "python",
   "pygments_lexer": "ipython3",
   "version": "3.9.16"
  },
  "papermill": {
   "default_parameters": {},
   "duration": 445.486695,
   "end_time": "2023-02-09T04:10:53.832138",
   "environment_variables": {},
   "exception": null,
   "input_path": "MPIA daily digest.ipynb",
   "output_path": "log.ipynb",
   "parameters": {},
   "start_time": "2023-02-09T04:03:28.345443",
   "version": "2.4.0"
  },
  "vscode": {
   "interpreter": {
    "hash": "aee8b7b246df8f9039afb4144a1f6fd8d2ca17a180786b69acc140d282b71a49"
   }
  },
  "widgets": {
   "application/vnd.jupyter.widget-state+json": {
    "state": {
     "587b2f4920934e80a9800805188091db": {
      "model_module": "@jupyter-widgets/controls",
      "model_module_version": "2.0.0",
      "model_name": "HTMLStyleModel",
      "state": {
       "_model_module": "@jupyter-widgets/controls",
       "_model_module_version": "2.0.0",
       "_model_name": "HTMLStyleModel",
       "_view_count": null,
       "_view_module": "@jupyter-widgets/base",
       "_view_module_version": "2.0.0",
       "_view_name": "StyleView",
       "background": null,
       "description_width": "",
       "font_size": null,
       "text_color": null
      }
     },
     "621c574810894f5e938464aa007edaa5": {
      "model_module": "@jupyter-widgets/base",
      "model_module_version": "2.0.0",
      "model_name": "LayoutModel",
      "state": {
       "_model_module": "@jupyter-widgets/base",
       "_model_module_version": "2.0.0",
       "_model_name": "LayoutModel",
       "_view_count": null,
       "_view_module": "@jupyter-widgets/base",
       "_view_module_version": "2.0.0",
       "_view_name": "LayoutView",
       "align_content": null,
       "align_items": null,
       "align_self": null,
       "border_bottom": null,
       "border_left": null,
       "border_right": null,
       "border_top": null,
       "bottom": null,
       "display": null,
       "flex": null,
       "flex_flow": null,
       "grid_area": null,
       "grid_auto_columns": null,
       "grid_auto_flow": null,
       "grid_auto_rows": null,
       "grid_column": null,
       "grid_gap": null,
       "grid_row": null,
       "grid_template_areas": null,
       "grid_template_columns": null,
       "grid_template_rows": null,
       "height": null,
       "justify_content": null,
       "justify_items": null,
       "left": null,
       "margin": null,
       "max_height": null,
       "max_width": null,
       "min_height": null,
       "min_width": null,
       "object_fit": null,
       "object_position": null,
       "order": null,
       "overflow": null,
       "padding": null,
       "right": null,
       "top": null,
       "visibility": null,
       "width": null
      }
     },
     "6907b8543a144f25848920eb310df79b": {
      "model_module": "@jupyter-widgets/controls",
      "model_module_version": "2.0.0",
      "model_name": "FloatProgressModel",
      "state": {
       "_dom_classes": [],
       "_model_module": "@jupyter-widgets/controls",
       "_model_module_version": "2.0.0",
       "_model_name": "FloatProgressModel",
       "_view_count": null,
       "_view_module": "@jupyter-widgets/controls",
       "_view_module_version": "2.0.0",
       "_view_name": "ProgressView",
       "bar_style": "success",
       "description": "",
       "description_allow_html": false,
       "layout": "IPY_MODEL_74751284ec664d31901f653f2e6c9cb8",
       "max": 23.0,
       "min": 0.0,
       "orientation": "horizontal",
       "style": "IPY_MODEL_aaeb22208cdf4696b63697445f46221c",
       "tabbable": null,
       "tooltip": null,
       "value": 23.0
      }
     },
     "74751284ec664d31901f653f2e6c9cb8": {
      "model_module": "@jupyter-widgets/base",
      "model_module_version": "2.0.0",
      "model_name": "LayoutModel",
      "state": {
       "_model_module": "@jupyter-widgets/base",
       "_model_module_version": "2.0.0",
       "_model_name": "LayoutModel",
       "_view_count": null,
       "_view_module": "@jupyter-widgets/base",
       "_view_module_version": "2.0.0",
       "_view_name": "LayoutView",
       "align_content": null,
       "align_items": null,
       "align_self": null,
       "border_bottom": null,
       "border_left": null,
       "border_right": null,
       "border_top": null,
       "bottom": null,
       "display": null,
       "flex": null,
       "flex_flow": null,
       "grid_area": null,
       "grid_auto_columns": null,
       "grid_auto_flow": null,
       "grid_auto_rows": null,
       "grid_column": null,
       "grid_gap": null,
       "grid_row": null,
       "grid_template_areas": null,
       "grid_template_columns": null,
       "grid_template_rows": null,
       "height": null,
       "justify_content": null,
       "justify_items": null,
       "left": null,
       "margin": null,
       "max_height": null,
       "max_width": null,
       "min_height": null,
       "min_width": null,
       "object_fit": null,
       "object_position": null,
       "order": null,
       "overflow": null,
       "padding": null,
       "right": null,
       "top": null,
       "visibility": null,
       "width": null
      }
     },
     "a7ce3ba45ea64561a55c079227e65b2c": {
      "model_module": "@jupyter-widgets/controls",
      "model_module_version": "2.0.0",
      "model_name": "HBoxModel",
      "state": {
       "_dom_classes": [],
       "_model_module": "@jupyter-widgets/controls",
       "_model_module_version": "2.0.0",
       "_model_name": "HBoxModel",
       "_view_count": null,
       "_view_module": "@jupyter-widgets/controls",
       "_view_module_version": "2.0.0",
       "_view_name": "HBoxView",
       "box_style": "",
       "children": [
        "IPY_MODEL_fcc663e399f141529c7c00fd10e2d8aa",
        "IPY_MODEL_6907b8543a144f25848920eb310df79b",
        "IPY_MODEL_d8b619686c0d48e5afe6b57da966de62"
       ],
       "layout": "IPY_MODEL_c406575a1a644ee4acb4f2c7e3c9b225",
       "tabbable": null,
       "tooltip": null
      }
     },
     "aaeb22208cdf4696b63697445f46221c": {
      "model_module": "@jupyter-widgets/controls",
      "model_module_version": "2.0.0",
      "model_name": "ProgressStyleModel",
      "state": {
       "_model_module": "@jupyter-widgets/controls",
       "_model_module_version": "2.0.0",
       "_model_name": "ProgressStyleModel",
       "_view_count": null,
       "_view_module": "@jupyter-widgets/base",
       "_view_module_version": "2.0.0",
       "_view_name": "StyleView",
       "bar_color": null,
       "description_width": ""
      }
     },
     "bdf696550b064384b9a7c1bbb4642d16": {
      "model_module": "@jupyter-widgets/controls",
      "model_module_version": "2.0.0",
      "model_name": "HTMLStyleModel",
      "state": {
       "_model_module": "@jupyter-widgets/controls",
       "_model_module_version": "2.0.0",
       "_model_name": "HTMLStyleModel",
       "_view_count": null,
       "_view_module": "@jupyter-widgets/base",
       "_view_module_version": "2.0.0",
       "_view_name": "StyleView",
       "background": null,
       "description_width": "",
       "font_size": null,
       "text_color": null
      }
     },
     "c406575a1a644ee4acb4f2c7e3c9b225": {
      "model_module": "@jupyter-widgets/base",
      "model_module_version": "2.0.0",
      "model_name": "LayoutModel",
      "state": {
       "_model_module": "@jupyter-widgets/base",
       "_model_module_version": "2.0.0",
       "_model_name": "LayoutModel",
       "_view_count": null,
       "_view_module": "@jupyter-widgets/base",
       "_view_module_version": "2.0.0",
       "_view_name": "LayoutView",
       "align_content": null,
       "align_items": null,
       "align_self": null,
       "border_bottom": null,
       "border_left": null,
       "border_right": null,
       "border_top": null,
       "bottom": null,
       "display": null,
       "flex": null,
       "flex_flow": null,
       "grid_area": null,
       "grid_auto_columns": null,
       "grid_auto_flow": null,
       "grid_auto_rows": null,
       "grid_column": null,
       "grid_gap": null,
       "grid_row": null,
       "grid_template_areas": null,
       "grid_template_columns": null,
       "grid_template_rows": null,
       "height": null,
       "justify_content": null,
       "justify_items": null,
       "left": null,
       "margin": null,
       "max_height": null,
       "max_width": null,
       "min_height": null,
       "min_width": null,
       "object_fit": null,
       "object_position": null,
       "order": null,
       "overflow": null,
       "padding": null,
       "right": null,
       "top": null,
       "visibility": null,
       "width": null
      }
     },
     "d8b619686c0d48e5afe6b57da966de62": {
      "model_module": "@jupyter-widgets/controls",
      "model_module_version": "2.0.0",
      "model_name": "HTMLModel",
      "state": {
       "_dom_classes": [],
       "_model_module": "@jupyter-widgets/controls",
       "_model_module_version": "2.0.0",
       "_model_name": "HTMLModel",
       "_view_count": null,
       "_view_module": "@jupyter-widgets/controls",
       "_view_module_version": "2.0.0",
       "_view_name": "HTMLView",
       "description": "",
       "description_allow_html": false,
       "layout": "IPY_MODEL_621c574810894f5e938464aa007edaa5",
       "placeholder": "​",
       "style": "IPY_MODEL_bdf696550b064384b9a7c1bbb4642d16",
       "tabbable": null,
       "tooltip": null,
       "value": " 23/23 [06:54&lt;00:00, 57.72s/it]"
      }
     },
     "fcc663e399f141529c7c00fd10e2d8aa": {
      "model_module": "@jupyter-widgets/controls",
      "model_module_version": "2.0.0",
      "model_name": "HTMLModel",
      "state": {
       "_dom_classes": [],
       "_model_module": "@jupyter-widgets/controls",
       "_model_module_version": "2.0.0",
       "_model_name": "HTMLModel",
       "_view_count": null,
       "_view_module": "@jupyter-widgets/controls",
       "_view_module_version": "2.0.0",
       "_view_name": "HTMLView",
       "description": "",
       "description_allow_html": false,
       "layout": "IPY_MODEL_fd9788e98a6343f98cabe8e8340acaa6",
       "placeholder": "​",
       "style": "IPY_MODEL_587b2f4920934e80a9800805188091db",
       "tabbable": null,
       "tooltip": null,
       "value": "100%"
      }
     },
     "fd9788e98a6343f98cabe8e8340acaa6": {
      "model_module": "@jupyter-widgets/base",
      "model_module_version": "2.0.0",
      "model_name": "LayoutModel",
      "state": {
       "_model_module": "@jupyter-widgets/base",
       "_model_module_version": "2.0.0",
       "_model_name": "LayoutModel",
       "_view_count": null,
       "_view_module": "@jupyter-widgets/base",
       "_view_module_version": "2.0.0",
       "_view_name": "LayoutView",
       "align_content": null,
       "align_items": null,
       "align_self": null,
       "border_bottom": null,
       "border_left": null,
       "border_right": null,
       "border_top": null,
       "bottom": null,
       "display": null,
       "flex": null,
       "flex_flow": null,
       "grid_area": null,
       "grid_auto_columns": null,
       "grid_auto_flow": null,
       "grid_auto_rows": null,
       "grid_column": null,
       "grid_gap": null,
       "grid_row": null,
       "grid_template_areas": null,
       "grid_template_columns": null,
       "grid_template_rows": null,
       "height": null,
       "justify_content": null,
       "justify_items": null,
       "left": null,
       "margin": null,
       "max_height": null,
       "max_width": null,
       "min_height": null,
       "min_width": null,
       "object_fit": null,
       "object_position": null,
       "order": null,
       "overflow": null,
       "padding": null,
       "right": null,
       "top": null,
       "visibility": null,
       "width": null
      }
     }
    },
    "version_major": 2,
    "version_minor": 0
   }
  }
 },
 "nbformat": 4,
 "nbformat_minor": 5
}