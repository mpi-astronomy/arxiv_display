{
 "cells": [
  {
   "cell_type": "markdown",
   "id": "92bcb855",
   "metadata": {
    "papermill": {
     "duration": 0.00453,
     "end_time": "2023-07-26T04:03:49.350147",
     "exception": false,
     "start_time": "2023-07-26T04:03:49.345617",
     "status": "completed"
    },
    "tags": []
   },
   "source": [
    "# MPIA Arxiv on Deck 2\n",
    "\n",
    "Contains the steps to produce the paper extractions."
   ]
  },
  {
   "cell_type": "code",
   "execution_count": 1,
   "id": "3a0d6e11",
   "metadata": {
    "execution": {
     "iopub.execute_input": "2023-07-26T04:03:49.358811Z",
     "iopub.status.busy": "2023-07-26T04:03:49.358347Z",
     "iopub.status.idle": "2023-07-26T04:03:49.579818Z",
     "shell.execute_reply": "2023-07-26T04:03:49.579188Z"
    },
    "papermill": {
     "duration": 0.227849,
     "end_time": "2023-07-26T04:03:49.581688",
     "exception": false,
     "start_time": "2023-07-26T04:03:49.353839",
     "status": "completed"
    },
    "tags": []
   },
   "outputs": [],
   "source": [
    "# Imports\n",
    "import os\n",
    "from IPython.display import Markdown, display\n",
    "from tqdm.notebook import tqdm\n",
    "import warnings\n",
    "from PIL import Image \n",
    "\n",
    "# requires arxiv_on_deck_2\n",
    "\n",
    "from arxiv_on_deck_2.arxiv2 import (get_new_papers, \n",
    "                                    get_paper_from_identifier,\n",
    "                                    retrieve_document_source, \n",
    "                                    get_markdown_badge)\n",
    "from arxiv_on_deck_2 import (latex,\n",
    "                             latex_bib,\n",
    "                             mpia,\n",
    "                             highlight_authors_in_list)\n",
    "\n",
    "# Sometimes images are really big\n",
    "Image.MAX_IMAGE_PIXELS = 1000000000 "
   ]
  },
  {
   "cell_type": "code",
   "execution_count": 2,
   "id": "22aa9d44",
   "metadata": {
    "execution": {
     "iopub.execute_input": "2023-07-26T04:03:49.590542Z",
     "iopub.status.busy": "2023-07-26T04:03:49.589900Z",
     "iopub.status.idle": "2023-07-26T04:03:49.596958Z",
     "shell.execute_reply": "2023-07-26T04:03:49.596307Z"
    },
    "papermill": {
     "duration": 0.013315,
     "end_time": "2023-07-26T04:03:49.598720",
     "exception": false,
     "start_time": "2023-07-26T04:03:49.585405",
     "status": "completed"
    },
    "tags": []
   },
   "outputs": [],
   "source": [
    "# Some useful definitions.\n",
    "\n",
    "class AffiliationWarning(UserWarning):\n",
    "    pass\n",
    "\n",
    "class AffiliationError(RuntimeError):\n",
    "    pass\n",
    "\n",
    "def validation(source: str):\n",
    "    \"\"\"Raises error paper during parsing of source file\n",
    "    \n",
    "    Allows checks before parsing TeX code.\n",
    "    \n",
    "    Raises AffiliationWarning\n",
    "    \"\"\"\n",
    "    check = mpia.affiliation_verifications(source, verbose=True)\n",
    "    if check is not True:\n",
    "        raise AffiliationError(\"mpia.affiliation_verifications: \" + check)\n",
    "\n",
    "        \n",
    "warnings.simplefilter('always', AffiliationWarning)\n",
    "\n",
    "\n",
    "def get_markdown_qrcode(paper_id: str):\n",
    "    \"\"\" Generate a qrcode to the arxiv page using qrserver.com\n",
    "    \n",
    "    :param paper: Arxiv paper\n",
    "    :returns: markdown text\n",
    "    \"\"\"\n",
    "    url = r\"https://api.qrserver.com/v1/create-qr-code/?size=100x100&data=\"\n",
    "    txt = f\"\"\"<img src={url}\"https://arxiv.org/abs/{paper_id}\">\"\"\"\n",
    "    txt = '<div id=\"qrcode\">' + txt + '</div>'\n",
    "    return txt"
   ]
  },
  {
   "cell_type": "markdown",
   "id": "14bd6310",
   "metadata": {
    "papermill": {
     "duration": 0.003386,
     "end_time": "2023-07-26T04:03:49.605637",
     "exception": false,
     "start_time": "2023-07-26T04:03:49.602251",
     "status": "completed"
    },
    "tags": []
   },
   "source": [
    "## get list of arxiv paper candidates\n",
    "\n",
    "We use the MPIA mitarbeiter list webpage from mpia.de to get author names\n",
    "We then get all new papers from Arxiv and match authors"
   ]
  },
  {
   "cell_type": "code",
   "execution_count": 3,
   "id": "2645e73a",
   "metadata": {
    "execution": {
     "iopub.execute_input": "2023-07-26T04:03:49.614086Z",
     "iopub.status.busy": "2023-07-26T04:03:49.613429Z",
     "iopub.status.idle": "2023-07-26T04:04:10.784178Z",
     "shell.execute_reply": "2023-07-26T04:04:10.783183Z"
    },
    "papermill": {
     "duration": 21.1767,
     "end_time": "2023-07-26T04:04:10.785801",
     "exception": false,
     "start_time": "2023-07-26T04:03:49.609101",
     "status": "completed"
    },
    "tags": []
   },
   "outputs": [
    {
     "name": "stdout",
     "output_type": "stream",
     "text": [
      "A. Hughes  ->  A. Hughes  |  ['A. Hughes']\n",
      "X. Zhang  ->  X. Zhang  |  ['X. Zhang']\n",
      "L. Boogaard  ->  L. Boogaard  |  ['L. Boogaard']\n",
      "A. Gould  ->  A. Gould  |  ['A. Gould']\n"
     ]
    },
    {
     "name": "stdout",
     "output_type": "stream",
     "text": [
      "X. Zhang  ->  X. Zhang  |  ['X. Zhang']\n",
      "X. Zhang  ->  X. Zhang  |  ['X. Zhang']\n",
      "M. Smith  ->  M. Smith  |  ['M. Smith']\n",
      "Arxiv has 69 new papers today\n",
      "          9 with possible author matches\n"
     ]
    }
   ],
   "source": [
    "# get list from MPIA website\n",
    "# it automatically filters identified non-scientists :func:`mpia.filter_non_scientists`\n",
    "mpia_authors = mpia.get_mpia_mitarbeiter_list()\n",
    "normed_mpia_authors = [k[1] for k in mpia_authors]   # initials + fullname\n",
    "new_papers = get_new_papers()\n",
    "# add manual references\n",
    "add_paper_refs = []\n",
    "new_papers.extend([get_paper_from_identifier(k) for k in add_paper_refs])\n",
    "\n",
    "candidates = []\n",
    "for paperk in new_papers:\n",
    "    # Check author list with their initials\n",
    "    normed_author_list = [mpia.get_initials(k) for k in paperk['authors']]\n",
    "    hl_authors = highlight_authors_in_list(normed_author_list, normed_mpia_authors, verbose=True)\n",
    "    matches = [(hl, orig) for hl, orig in zip(hl_authors, paperk['authors']) if 'mark' in hl]\n",
    "    paperk['authors'] = hl_authors\n",
    "    if matches:\n",
    "        # only select paper if an author matched our list\n",
    "        candidates.append(paperk)\n",
    "print(\"\"\"Arxiv has {0:,d} new papers today\"\"\".format(len(new_papers)))        \n",
    "print(\"\"\"          {0:,d} with possible author matches\"\"\".format(len(candidates)))"
   ]
  },
  {
   "cell_type": "markdown",
   "id": "3543b34a",
   "metadata": {
    "papermill": {
     "duration": 0.005051,
     "end_time": "2023-07-26T04:04:10.794711",
     "exception": false,
     "start_time": "2023-07-26T04:04:10.789660",
     "status": "completed"
    },
    "tags": []
   },
   "source": [
    "# Parse sources and generate relevant outputs\n",
    "\n",
    "From the candidates, we do the following steps:\n",
    "* get their tarball from ArXiv (and extract data)\n",
    "* find the main .tex file: find one with \\documentclass{...} (sometimes it's non trivial)\n",
    "* Check affiliations with :func:`validation`, which uses :func:`mpia.affiliation_verifications`\n",
    "* If passing the affiliations: we parse the .tex source\n",
    "   * inject sub-documents into the main (flatten the main document)\n",
    "   * parse structure, extract information (title, abstract, authors, figures...)\n",
    "   * handles `\\graphicspath` if provided\n",
    "* Generate the .md document."
   ]
  },
  {
   "cell_type": "code",
   "execution_count": 4,
   "id": "9576b79e",
   "metadata": {
    "execution": {
     "iopub.execute_input": "2023-07-26T04:04:10.803379Z",
     "iopub.status.busy": "2023-07-26T04:04:10.802708Z",
     "iopub.status.idle": "2023-07-26T04:04:48.173953Z",
     "shell.execute_reply": "2023-07-26T04:04:48.173384Z"
    },
    "papermill": {
     "duration": 37.377915,
     "end_time": "2023-07-26T04:04:48.176191",
     "exception": false,
     "start_time": "2023-07-26T04:04:10.798276",
     "status": "completed"
    },
    "scrolled": false,
    "tags": []
   },
   "outputs": [
    {
     "data": {
      "application/vnd.jupyter.widget-view+json": {
       "model_id": "3a1f154394714ea8955b38540ed6fa0c",
       "version_major": 2,
       "version_minor": 0
      },
      "text/plain": [
       "  0%|          | 0/9 [00:00<?, ?it/s]"
      ]
     },
     "metadata": {},
     "output_type": "display_data"
    },
    {
     "name": "stdout",
     "output_type": "stream",
     "text": [
      "Retrieving document from  https://arxiv.org/e-print/2307.13009\n"
     ]
    },
    {
     "name": "stdout",
     "output_type": "stream",
     "text": [
      "extracting tarball to tmp_2307.13009..."
     ]
    },
    {
     "name": "stdout",
     "output_type": "stream",
     "text": [
      " done.\n",
      "Retrieving document from  https://arxiv.org/e-print/2307.13023\n"
     ]
    },
    {
     "name": "stdout",
     "output_type": "stream",
     "text": [
      "extracting tarball to tmp_2307.13023..."
     ]
    },
    {
     "name": "stdout",
     "output_type": "stream",
     "text": [
      " done.\n",
      "Retrieving document from  https://arxiv.org/e-print/2307.13238\n"
     ]
    },
    {
     "name": "stderr",
     "output_type": "stream",
     "text": [
      "/tmp/ipykernel_2115/3009462391.py:49: LatexWarning: 2307.13238 did not run properly\n",
      "not a gzip file\n",
      "  warnings.warn(latex.LatexWarning(f\"{paper_id:s} did not run properly\\n\" +\n"
     ]
    },
    {
     "name": "stdout",
     "output_type": "stream",
     "text": [
      "Retrieving document from  https://arxiv.org/e-print/2307.13355\n"
     ]
    },
    {
     "name": "stdout",
     "output_type": "stream",
     "text": [
      "extracting tarball to tmp_2307.13355..."
     ]
    },
    {
     "name": "stdout",
     "output_type": "stream",
     "text": [
      " done.\n"
     ]
    },
    {
     "name": "stderr",
     "output_type": "stream",
     "text": [
      "/opt/hostedtoolcache/Python/3.9.17/x64/lib/python3.9/site-packages/arxiv_on_deck_2/latex.py:120: LatexWarning: attempting recovering figure selection_new\n",
      "  warnings.warn(LatexWarning(f'attempting recovering figure {image}'))\n",
      "/opt/hostedtoolcache/Python/3.9.17/x64/lib/python3.9/site-packages/arxiv_on_deck_2/latex.py:125: LatexWarning: Recovered figure selection_new as tmp_2307.13355/graphics/selection_new.pdf\n",
      "  warnings.warn(LatexWarning(f'Recovered figure {image} as {fname}'))\n"
     ]
    },
    {
     "name": "stderr",
     "output_type": "stream",
     "text": [
      "/opt/hostedtoolcache/Python/3.9.17/x64/lib/python3.9/site-packages/arxiv_on_deck_2/latex.py:120: LatexWarning: attempting recovering figure momentum_mass_in_R22_normR22\n",
      "  warnings.warn(LatexWarning(f'attempting recovering figure {image}'))\n",
      "/opt/hostedtoolcache/Python/3.9.17/x64/lib/python3.9/site-packages/arxiv_on_deck_2/latex.py:125: LatexWarning: Recovered figure momentum_mass_in_R22_normR22 as tmp_2307.13355/graphics/momentum_mass_in_R22_normR22.pdf\n",
      "  warnings.warn(LatexWarning(f'Recovered figure {image} as {fname}'))\n"
     ]
    },
    {
     "name": "stderr",
     "output_type": "stream",
     "text": [
      "/opt/hostedtoolcache/Python/3.9.17/x64/lib/python3.9/site-packages/arxiv_on_deck_2/latex.py:120: LatexWarning: attempting recovering figure momentum_mass_in_R22_normR22_vs_env\n",
      "  warnings.warn(LatexWarning(f'attempting recovering figure {image}'))\n",
      "/opt/hostedtoolcache/Python/3.9.17/x64/lib/python3.9/site-packages/arxiv_on_deck_2/latex.py:125: LatexWarning: Recovered figure momentum_mass_in_R22_normR22_vs_env as tmp_2307.13355/graphics/momentum_mass_in_R22_normR22_vs_env.pdf\n",
      "  warnings.warn(LatexWarning(f'Recovered figure {image} as {fname}'))\n"
     ]
    },
    {
     "name": "stderr",
     "output_type": "stream",
     "text": [
      "/opt/hostedtoolcache/Python/3.9.17/x64/lib/python3.9/site-packages/arxiv_on_deck_2/latex.py:120: LatexWarning: attempting recovering figure momentum_mass_in_R22_normR22_vs_eta_alone\n",
      "  warnings.warn(LatexWarning(f'attempting recovering figure {image}'))\n",
      "/opt/hostedtoolcache/Python/3.9.17/x64/lib/python3.9/site-packages/arxiv_on_deck_2/latex.py:125: LatexWarning: Recovered figure momentum_mass_in_R22_normR22_vs_eta_alone as tmp_2307.13355/graphics/momentum_mass_in_R22_normR22_vs_eta_alone.pdf\n",
      "  warnings.warn(LatexWarning(f'Recovered figure {image} as {fname}'))\n"
     ]
    },
    {
     "name": "stderr",
     "output_type": "stream",
     "text": [
      "/opt/hostedtoolcache/Python/3.9.17/x64/lib/python3.9/site-packages/arxiv_on_deck_2/latex.py:120: LatexWarning: attempting recovering figure momentum_mass_in_R22_normR22_vs_dV_sigma_alone\n",
      "  warnings.warn(LatexWarning(f'attempting recovering figure {image}'))\n",
      "/opt/hostedtoolcache/Python/3.9.17/x64/lib/python3.9/site-packages/arxiv_on_deck_2/latex.py:125: LatexWarning: Recovered figure momentum_mass_in_R22_normR22_vs_dV_sigma_alone as tmp_2307.13355/graphics/momentum_mass_in_R22_normR22_vs_dV_sigma_alone.pdf\n",
      "  warnings.warn(LatexWarning(f'Recovered figure {image} as {fname}'))\n"
     ]
    },
    {
     "name": "stderr",
     "output_type": "stream",
     "text": [
      "/opt/hostedtoolcache/Python/3.9.17/x64/lib/python3.9/site-packages/arxiv_on_deck_2/latex.py:120: LatexWarning: attempting recovering figure momentum_mass_in_R22_normR22_vs_sigma_gas\n",
      "  warnings.warn(LatexWarning(f'attempting recovering figure {image}'))\n",
      "/opt/hostedtoolcache/Python/3.9.17/x64/lib/python3.9/site-packages/arxiv_on_deck_2/latex.py:125: LatexWarning: Recovered figure momentum_mass_in_R22_normR22_vs_sigma_gas as tmp_2307.13355/graphics/momentum_mass_in_R22_normR22_vs_sigma_gas.pdf\n",
      "  warnings.warn(LatexWarning(f'Recovered figure {image} as {fname}'))\n"
     ]
    },
    {
     "name": "stderr",
     "output_type": "stream",
     "text": [
      "/opt/hostedtoolcache/Python/3.9.17/x64/lib/python3.9/site-packages/arxiv_on_deck_2/latex.py:120: LatexWarning: attempting recovering figure momentum_mass_in_R22_normR22_vs_env_flat\n",
      "  warnings.warn(LatexWarning(f'attempting recovering figure {image}'))\n",
      "/opt/hostedtoolcache/Python/3.9.17/x64/lib/python3.9/site-packages/arxiv_on_deck_2/latex.py:125: LatexWarning: Recovered figure momentum_mass_in_R22_normR22_vs_env_flat as tmp_2307.13355/graphics/momentum_mass_in_R22_normR22_vs_env_flat.pdf\n",
      "  warnings.warn(LatexWarning(f'Recovered figure {image} as {fname}'))\n"
     ]
    },
    {
     "name": "stderr",
     "output_type": "stream",
     "text": [
      "/opt/hostedtoolcache/Python/3.9.17/x64/lib/python3.9/site-packages/arxiv_on_deck_2/latex.py:120: LatexWarning: attempting recovering figure momentum_mass_in_R22_normR22_vs_eta_alone_flat\n",
      "  warnings.warn(LatexWarning(f'attempting recovering figure {image}'))\n",
      "/opt/hostedtoolcache/Python/3.9.17/x64/lib/python3.9/site-packages/arxiv_on_deck_2/latex.py:125: LatexWarning: Recovered figure momentum_mass_in_R22_normR22_vs_eta_alone_flat as tmp_2307.13355/graphics/momentum_mass_in_R22_normR22_vs_eta_alone_flat.pdf\n",
      "  warnings.warn(LatexWarning(f'Recovered figure {image} as {fname}'))\n"
     ]
    },
    {
     "name": "stderr",
     "output_type": "stream",
     "text": [
      "/opt/hostedtoolcache/Python/3.9.17/x64/lib/python3.9/site-packages/arxiv_on_deck_2/latex.py:120: LatexWarning: attempting recovering figure momentum_mass_in_R22_normR22_vs_voronoi_Brian\n",
      "  warnings.warn(LatexWarning(f'attempting recovering figure {image}'))\n",
      "/opt/hostedtoolcache/Python/3.9.17/x64/lib/python3.9/site-packages/arxiv_on_deck_2/latex.py:125: LatexWarning: Recovered figure momentum_mass_in_R22_normR22_vs_voronoi_Brian as tmp_2307.13355/graphics/momentum_mass_in_R22_normR22_vs_voronoi_Brian.pdf\n",
      "  warnings.warn(LatexWarning(f'Recovered figure {image} as {fname}'))\n"
     ]
    },
    {
     "name": "stderr",
     "output_type": "stream",
     "text": [
      "/opt/hostedtoolcache/Python/3.9.17/x64/lib/python3.9/site-packages/arxiv_on_deck_2/latex.py:120: LatexWarning: attempting recovering figure momentum_mass_in_R22_normR22_vs_voronoi_Brian_flat\n",
      "  warnings.warn(LatexWarning(f'attempting recovering figure {image}'))\n",
      "/opt/hostedtoolcache/Python/3.9.17/x64/lib/python3.9/site-packages/arxiv_on_deck_2/latex.py:125: LatexWarning: Recovered figure momentum_mass_in_R22_normR22_vs_voronoi_Brian_flat as tmp_2307.13355/graphics/momentum_mass_in_R22_normR22_vs_voronoi_Brian_flat.pdf\n",
      "  warnings.warn(LatexWarning(f'Recovered figure {image} as {fname}'))\n"
     ]
    },
    {
     "name": "stderr",
     "output_type": "stream",
     "text": [
      "/opt/hostedtoolcache/Python/3.9.17/x64/lib/python3.9/site-packages/arxiv_on_deck_2/latex.py:120: LatexWarning: attempting recovering figure momentum_mass_in_R22_normR22_vs_dV_sigma_alone_flat\n",
      "  warnings.warn(LatexWarning(f'attempting recovering figure {image}'))\n",
      "/opt/hostedtoolcache/Python/3.9.17/x64/lib/python3.9/site-packages/arxiv_on_deck_2/latex.py:125: LatexWarning: Recovered figure momentum_mass_in_R22_normR22_vs_dV_sigma_alone_flat as tmp_2307.13355/graphics/momentum_mass_in_R22_normR22_vs_dV_sigma_alone_flat.pdf\n",
      "  warnings.warn(LatexWarning(f'Recovered figure {image} as {fname}'))\n"
     ]
    },
    {
     "name": "stderr",
     "output_type": "stream",
     "text": [
      "/opt/hostedtoolcache/Python/3.9.17/x64/lib/python3.9/site-packages/arxiv_on_deck_2/latex.py:120: LatexWarning: attempting recovering figure momentum_mass_in_R22_normR22_vs_sigma_gas_flat\n",
      "  warnings.warn(LatexWarning(f'attempting recovering figure {image}'))\n",
      "/opt/hostedtoolcache/Python/3.9.17/x64/lib/python3.9/site-packages/arxiv_on_deck_2/latex.py:125: LatexWarning: Recovered figure momentum_mass_in_R22_normR22_vs_sigma_gas_flat as tmp_2307.13355/graphics/momentum_mass_in_R22_normR22_vs_sigma_gas_flat.pdf\n",
      "  warnings.warn(LatexWarning(f'Recovered figure {image} as {fname}'))\n"
     ]
    },
    {
     "name": "stderr",
     "output_type": "stream",
     "text": [
      "/opt/hostedtoolcache/Python/3.9.17/x64/lib/python3.9/site-packages/arxiv_on_deck_2/latex.py:120: LatexWarning: attempting recovering figure Fall_relation_comp_full\n",
      "  warnings.warn(LatexWarning(f'attempting recovering figure {image}'))\n",
      "/opt/hostedtoolcache/Python/3.9.17/x64/lib/python3.9/site-packages/arxiv_on_deck_2/latex.py:125: LatexWarning: Recovered figure Fall_relation_comp_full as tmp_2307.13355/graphics/Fall_relation_comp_full.pdf\n",
      "  warnings.warn(LatexWarning(f'Recovered figure {image} as {fname}'))\n"
     ]
    },
    {
     "name": "stderr",
     "output_type": "stream",
     "text": [
      "/opt/hostedtoolcache/Python/3.9.17/x64/lib/python3.9/site-packages/arxiv_on_deck_2/latex.py:120: LatexWarning: attempting recovering figure 18_CGr114\n",
      "  warnings.warn(LatexWarning(f'attempting recovering figure {image}'))\n",
      "/opt/hostedtoolcache/Python/3.9.17/x64/lib/python3.9/site-packages/arxiv_on_deck_2/latex.py:125: LatexWarning: Recovered figure 18_CGr114 as tmp_2307.13355/graphics/18_CGr114.pdf\n",
      "  warnings.warn(LatexWarning(f'Recovered figure {image} as {fname}'))\n",
      "/opt/hostedtoolcache/Python/3.9.17/x64/lib/python3.9/site-packages/arxiv_on_deck_2/latex.py:120: LatexWarning: attempting recovering figure 70_CGr79\n",
      "  warnings.warn(LatexWarning(f'attempting recovering figure {image}'))\n",
      "/opt/hostedtoolcache/Python/3.9.17/x64/lib/python3.9/site-packages/arxiv_on_deck_2/latex.py:125: LatexWarning: Recovered figure 70_CGr79 as tmp_2307.13355/graphics/70_CGr79.pdf\n",
      "  warnings.warn(LatexWarning(f'Recovered figure {image} as {fname}'))\n",
      "/opt/hostedtoolcache/Python/3.9.17/x64/lib/python3.9/site-packages/arxiv_on_deck_2/latex.py:120: LatexWarning: attempting recovering figure 17_CGr34\n",
      "  warnings.warn(LatexWarning(f'attempting recovering figure {image}'))\n",
      "/opt/hostedtoolcache/Python/3.9.17/x64/lib/python3.9/site-packages/arxiv_on_deck_2/latex.py:125: LatexWarning: Recovered figure 17_CGr34 as tmp_2307.13355/graphics/17_CGr34.pdf\n",
      "  warnings.warn(LatexWarning(f'Recovered figure {image} as {fname}'))\n",
      "/opt/hostedtoolcache/Python/3.9.17/x64/lib/python3.9/site-packages/arxiv_on_deck_2/latex.py:120: LatexWarning: attempting recovering figure 278_CGr84\n",
      "  warnings.warn(LatexWarning(f'attempting recovering figure {image}'))\n",
      "/opt/hostedtoolcache/Python/3.9.17/x64/lib/python3.9/site-packages/arxiv_on_deck_2/latex.py:125: LatexWarning: Recovered figure 278_CGr84 as tmp_2307.13355/graphics/278_CGr84.pdf\n",
      "  warnings.warn(LatexWarning(f'Recovered figure {image} as {fname}'))\n"
     ]
    },
    {
     "name": "stdout",
     "output_type": "stream",
     "text": [
      "Found 89 bibliographic references in tmp_2307.13355/main.bbl.\n",
      "syntax error in line 375: '=' expected\n",
      "Retrieving document from  https://arxiv.org/e-print/2307.13359\n"
     ]
    },
    {
     "name": "stdout",
     "output_type": "stream",
     "text": [
      "extracting tarball to tmp_2307.13359..."
     ]
    },
    {
     "name": "stdout",
     "output_type": "stream",
     "text": [
      " done.\n",
      "Retrieving document from  https://arxiv.org/e-print/2307.13398\n"
     ]
    },
    {
     "name": "stderr",
     "output_type": "stream",
     "text": [
      "/opt/hostedtoolcache/Python/3.9.17/x64/lib/python3.9/site-packages/IPython/core/interactiveshell.py:3508: LatexWarning: Multiple tex files.\n",
      "\n",
      "  exec(code_obj, self.user_global_ns, self.user_ns)\n",
      "/opt/hostedtoolcache/Python/3.9.17/x64/lib/python3.9/site-packages/IPython/core/interactiveshell.py:3508: LatexWarning: Found documentclass in tmp_2307.13359/ms5.tex\n",
      "\n",
      "  exec(code_obj, self.user_global_ns, self.user_ns)\n"
     ]
    },
    {
     "name": "stdout",
     "output_type": "stream",
     "text": [
      "extracting tarball to tmp_2307.13398..."
     ]
    },
    {
     "name": "stdout",
     "output_type": "stream",
     "text": [
      " done.\n",
      "Retrieving document from  https://arxiv.org/e-print/2307.13574\n"
     ]
    },
    {
     "name": "stdout",
     "output_type": "stream",
     "text": [
      "extracting tarball to tmp_2307.13574..."
     ]
    },
    {
     "name": "stdout",
     "output_type": "stream",
     "text": [
      " done.\n",
      "Retrieving document from  https://arxiv.org/e-print/2307.13672\n"
     ]
    },
    {
     "name": "stdout",
     "output_type": "stream",
     "text": [
      "extracting tarball to tmp_2307.13672..."
     ]
    },
    {
     "name": "stdout",
     "output_type": "stream",
     "text": [
      " done.\n",
      "Retrieving document from  https://arxiv.org/e-print/2307.13696\n"
     ]
    },
    {
     "name": "stderr",
     "output_type": "stream",
     "text": [
      "/opt/hostedtoolcache/Python/3.9.17/x64/lib/python3.9/site-packages/IPython/core/interactiveshell.py:3508: LatexWarning: Multiple tex files.\n",
      "\n",
      "  exec(code_obj, self.user_global_ns, self.user_ns)\n",
      "/opt/hostedtoolcache/Python/3.9.17/x64/lib/python3.9/site-packages/IPython/core/interactiveshell.py:3508: LatexWarning: Found documentclass in tmp_2307.13672/aanda.tex\n",
      "\n",
      "  exec(code_obj, self.user_global_ns, self.user_ns)\n",
      "/opt/hostedtoolcache/Python/3.9.17/x64/lib/python3.9/site-packages/arxiv_on_deck_2/latex.py:399: LatexWarning: Latex injecting: 'latex_table.tex' from 'tmp_2307.13672/latex_table.tex'\n",
      "  warnings.warn(LatexWarning(f\"Latex injecting: '{ext}' from '{subsource}'\"))\n"
     ]
    },
    {
     "name": "stdout",
     "output_type": "stream",
     "text": [
      "extracting tarball to tmp_2307.13696..."
     ]
    },
    {
     "name": "stdout",
     "output_type": "stream",
     "text": [
      " done.\n"
     ]
    },
    {
     "name": "stderr",
     "output_type": "stream",
     "text": [
      "/opt/hostedtoolcache/Python/3.9.17/x64/lib/python3.9/site-packages/IPython/core/interactiveshell.py:3508: LatexWarning: Multiple tex files.\n",
      "\n",
      "  exec(code_obj, self.user_global_ns, self.user_ns)\n",
      "/opt/hostedtoolcache/Python/3.9.17/x64/lib/python3.9/site-packages/IPython/core/interactiveshell.py:3508: LatexWarning: Found documentclass in tmp_2307.13696/main.tex\n",
      "\n",
      "  exec(code_obj, self.user_global_ns, self.user_ns)\n"
     ]
    }
   ],
   "source": [
    "documents = []\n",
    "failed = []\n",
    "for paper in tqdm(candidates):\n",
    "    paper_id = paper['identifier'].lower().replace('arxiv:', '')\n",
    "    \n",
    "    folder = f'tmp_{paper_id}'\n",
    "\n",
    "    try:\n",
    "        if not os.path.isdir(folder):\n",
    "            folder = retrieve_document_source(f\"{paper_id}\", f'tmp_{paper_id}')\n",
    "        \n",
    "        try:\n",
    "            doc = latex.LatexDocument(folder, validation=validation)    \n",
    "        except AffiliationError as affilerror:\n",
    "            msg = f\"ArXiv:{paper_id:s} is not an MPIA paper... \" + str(affilerror)\n",
    "            failed.append((paper, \"affiliation error: \" + str(affilerror) ))\n",
    "            continue\n",
    "        \n",
    "        # Hack because sometimes author parsing does not work well\n",
    "        if (len(doc.authors) != len(paper['authors'])):\n",
    "            doc._authors = paper['authors']\n",
    "        else:\n",
    "            # highlight authors (FIXME: doc.highlight_authors)\n",
    "            # done on arxiv paper already\n",
    "            doc._authors = highlight_authors_in_list(\n",
    "                [mpia.get_initials(k) for k in doc.authors], \n",
    "                normed_mpia_authors, verbose=True)\n",
    "        if (doc.abstract) in (None, ''):\n",
    "            doc._abstract = paper['abstract']\n",
    "            \n",
    "        doc.comment = (get_markdown_badge(paper_id) + \n",
    "                       \"<mark>Appeared on: \" + paper['date'] + \"</mark> - \")\n",
    "        if paper['comments']:\n",
    "            doc.comment += \" _\" + paper['comments'] + \"_\"\n",
    "        \n",
    "        full_md = doc.generate_markdown_text()\n",
    "        \n",
    "        full_md += get_markdown_qrcode(paper_id)\n",
    "        \n",
    "        # replace citations\n",
    "        try:\n",
    "            bibdata = latex_bib.LatexBib.from_doc(doc)\n",
    "            full_md = latex_bib.replace_citations(full_md, bibdata)\n",
    "        except Exception as e:\n",
    "            print(e)\n",
    "        \n",
    "        documents.append((paper_id, full_md))\n",
    "    except Exception as e:\n",
    "        warnings.warn(latex.LatexWarning(f\"{paper_id:s} did not run properly\\n\" +\n",
    "                                         str(e)\n",
    "                                        ))\n",
    "        failed.append((paper, \"latex error \" + str(e)))"
   ]
  },
  {
   "cell_type": "markdown",
   "id": "2505a25c",
   "metadata": {
    "papermill": {
     "duration": 0.005888,
     "end_time": "2023-07-26T04:04:48.188208",
     "exception": false,
     "start_time": "2023-07-26T04:04:48.182320",
     "status": "completed"
    },
    "tags": []
   },
   "source": [
    "### Export the logs\n",
    "\n",
    "Throughout, we also keep track of the logs per paper. see `logs-{today date}.md` "
   ]
  },
  {
   "cell_type": "code",
   "execution_count": 5,
   "id": "d733828a",
   "metadata": {
    "execution": {
     "iopub.execute_input": "2023-07-26T04:04:48.201267Z",
     "iopub.status.busy": "2023-07-26T04:04:48.200770Z",
     "iopub.status.idle": "2023-07-26T04:04:48.219953Z",
     "shell.execute_reply": "2023-07-26T04:04:48.219343Z"
    },
    "papermill": {
     "duration": 0.030124,
     "end_time": "2023-07-26T04:04:48.224124",
     "exception": false,
     "start_time": "2023-07-26T04:04:48.194000",
     "status": "completed"
    },
    "scrolled": false,
    "tags": []
   },
   "outputs": [
    {
     "data": {
      "text/markdown": [
       "## Successful papers"
      ],
      "text/plain": [
       "<IPython.core.display.Markdown object>"
      ]
     },
     "metadata": {},
     "output_type": "display_data"
    },
    {
     "data": {
      "text/markdown": [
       "\n",
       "|||\n",
       "|---:|:---|\n",
       "| [![arXiv](https://img.shields.io/badge/arXiv-arXiv:2307.13355-b31b1b.svg)](https://arxiv.org/abs/arXiv:2307.13355) | **Stellar angular momentum of disk galaxies at z = 0.7 in the MAGIC survey  I. Impact of the environment**  |\n",
       "|| W. Mercier, et al. -- incl., <mark>L. Boogaard</mark> |\n",
       "|*Appeared on*| *2023-07-26*|\n",
       "|*Comments*| *23 pages, including 5 appendices, 14 figures, accepted version before language correction*|\n",
       "|**Abstract**| Aims: At intermediate redshift, galaxy groups/clusters are thought to impact galaxies (e.g. their angular momentum). We investigate whether the environment has an impact on the galaxies' angular momentum and identify underlying driving physical mechanisms. Methods: We derive robust estimates of the stellar angular momentum using Hubble Space Telescope (HST) images combined with spatially resolved ionised gas kinematics from the Multi-Unit Spectroscopic Explorer (MUSE) for a sample of ~200 galaxies in groups and in the field at z~0.7 drawn from the MAGIC survey. Using various environmental tracers, we study the position of the galaxies in the the angular momentum-stellar mass (Fall) relation as a function of environment. Results: We measure a 0.12 dex (2sigma significant) depletion of angular momentum for low-mass galaxies (M* < 10^10 Msun) in groups with respect to the field. Massive galaxies located in dense environments have less angular momentum than expected from the low-mass Fall relation but, without a comparable field sample, we cannot infer whether this effect is mass- or environmentally-driven. Furthermore, massive galaxies are found in the centre of the structures and have low systemic velocities. The observed depletion of angular momentum at low mass does not appear linked with the strength of the over-density around the galaxies but it is strongly correlated with the galaxies' systemic velocity normalised by the dispersion of their host group and with their ionised gas velocity dispersion. Conclusions: Group galaxies seem depleted in angular momentum, especially at low mass. Our results suggest that this depletion might be induced by physical mechanisms that scale with the systemic velocity of the galaxies (e.g. stripping or merging) and that such mechanism might be responsible for enhancing the velocity dispersion of the gas as galaxies lose angular momentum. |"
      ],
      "text/plain": [
       "[arXiv:2307.13355] Stellar angular momentum of disk galaxies at z = 0.7 in the MAGIC survey  I. Impact of the environment\n",
       "\tW. Mercier, et al. -- incl., <mark>L. Boogaard</mark>"
      ]
     },
     "metadata": {},
     "output_type": "display_data"
    },
    {
     "data": {
      "text/markdown": [
       "## Failed papers"
      ],
      "text/plain": [
       "<IPython.core.display.Markdown object>"
      ]
     },
     "metadata": {},
     "output_type": "display_data"
    },
    {
     "data": {
      "text/markdown": [
       "\n",
       "|||\n",
       "|---:|:---|\n",
       "| [![arXiv](https://img.shields.io/badge/arXiv-arXiv:2307.13009-b31b1b.svg)](https://arxiv.org/abs/arXiv:2307.13009) | **Deep learning denoising by dimension reduction: Application to the  ORION-B line cubes**  |\n",
       "|| L. Einig, et al. -- incl., <mark>A. Hughes</mark> |\n",
       "|*Appeared on*| *2023-07-26*|\n",
       "|*Comments*| **|\n",
       "|**Abstract**| Context. The availability of large bandwidth receivers for millimeter radio telescopes allows the acquisition of position-position-frequency data cubes over a wide field of view and a broad frequency coverage. These cubes contain much information on the physical, chemical, and kinematical properties of the emitting gas. However, their large size coupled with inhomogenous signal-to-noise ratio (SNR) are major challenges for consistent analysis and interpretation.Aims. We search for a denoising method of the low SNR regions of the studied data cubes that would allow to recover the low SNR emission without distorting the signals with high SNR.Methods. We perform an in-depth data analysis of the 13 CO and C 17 O (1 -- 0) data cubes obtained as part of the ORION-B large program performed at the IRAM 30m telescope. We analyse the statistical properties of the noise and the evolution of the correlation of the signal in a given frequency channel with that of the adjacent channels. This allows us to propose significant improvements of typical autoassociative neural networks, often used to denoise hyperspectral Earth remote sensing data. Applying this method to the 13 CO (1 -- 0) cube, we compare the denoised data with those derived with the multiple Gaussian fitting algorithm ROHSA, considered as the state of the art procedure for data line cubes.Results. The nature of astronomical spectral data cubes is distinct from that of the hyperspectral data usually studied in the Earth remote sensing literature because the observed intensities become statistically independent beyond a short channel separation. This lack of redundancy in data has led us to adapt the method, notably by taking into account the sparsity of the signal along the spectral axis. The application of the proposed algorithm leads to an increase of the SNR in voxels with weak signal, while preserving the spectral shape of the data in high SNR voxels.Conclusions. The proposed algorithm that combines a detailed analysis of the noise statistics with an innovative autoencoder architecture is a promising path to denoise radio-astronomy line data cubes. In the future, exploring whether a better use of the spatial correlations of the noise may further improve the denoising performances seems a promising avenue. In addition, |\n",
       "|<p style=\"color:green\"> **ERROR** </p>| <p style=\"color:green\">affiliation error: mpia.affiliation_verifications: 'Heidelberg' keyword not found.</p> |"
      ],
      "text/plain": [
       "<IPython.core.display.Markdown object>"
      ]
     },
     "metadata": {},
     "output_type": "display_data"
    },
    {
     "data": {
      "text/markdown": [
       "\n",
       "|||\n",
       "|---:|:---|\n",
       "| [![arXiv](https://img.shields.io/badge/arXiv-arXiv:2307.13023-b31b1b.svg)](https://arxiv.org/abs/arXiv:2307.13023) | **Limits on dark matter annihilation in prompt cusps from the isotropic  gamma-ray background**  |\n",
       "|| M. S. Delos, et al. |\n",
       "|*Appeared on*| *2023-07-26*|\n",
       "|*Comments*| *11 pages, 10 figures*|\n",
       "|**Abstract**| Recent studies indicate that thermally produced dark matter will form highly concentrated, low-mass cusps in the early universe that often survive until the present. While these cusps contain a small fraction of the dark matter, their high density significantly increases the expected gamma-ray flux from dark matter annihilation, particularly in searches of large angular regions. We utilize 14 years of Fermi-LAT data to set strong constraints on dark matter annihilation through a detailed study of the isotropic gamma-ray background, excluding with 95% confidence dark matter annihilation to $b\\bar{b}$ final states for dark matter masses below 120 GeV. |\n",
       "|<p style=\"color:green\"> **ERROR** </p>| <p style=\"color:green\">affiliation error: mpia.affiliation_verifications: 'Heidelberg' keyword not found.</p> |"
      ],
      "text/plain": [
       "<IPython.core.display.Markdown object>"
      ]
     },
     "metadata": {},
     "output_type": "display_data"
    },
    {
     "data": {
      "text/markdown": [
       "\n",
       "|||\n",
       "|---:|:---|\n",
       "| [![arXiv](https://img.shields.io/badge/arXiv-arXiv:2307.13359-b31b1b.svg)](https://arxiv.org/abs/arXiv:2307.13359) | **Systematic KMTNet Planetary Anomaly Search. X. Complete Sample of 2017  Prime-Field Planets**  |\n",
       "|| Y.-H. Ryu, et al. -- incl., <mark>A. Gould</mark> |\n",
       "|*Appeared on*| *2023-07-26*|\n",
       "|*Comments*| *67 pages, 13 figures, 16 tables*|\n",
       "|**Abstract**| We complete the analysis of planetary candidates found by the KMT AnomalyFinder for the 2017 prime fields that cover $\\sim 13\\,{\\rm deg}^2$. We report 3 unambiguous planets: OGLE-2017-BLG-0640, OGLE-2017-BLG-1275, and OGLE-2017-BLG-1237. The first two of these were not previously identified, while the last was not previously published due to technical complications induced by a nearby variable. We further report that a fourth anomalous event, the previously recognized OGLE-2017-BLG-1777, is very likely to be planetary, although its light curve requires unusually complex modeling because the lens and source both have orbiting companions. One of the 3 unambiguous planets, OGLE-2017-BLG-1275 is the first AnomalyFinder discovery that has a {\\it Spitzer} microlens parallax measurement, $\\pi_E \\sim 0.045\\pm0.015$, implying that this planetary system almost certainly lies in the Galactic bulge. In the order listed, the four planetary events have planet-host mass ratios $q$, and normalized projected separations $s$, of $(\\log q,s)$ = $(-2.31,0.61)$, $(-2.06,0.63/1.09)$, $(-2.10,1.04)$, and $(-2.86,0.72)$. Combined with previously published events, the 2017 AnomalyFinder prime fields contain 11 unambiguous planets with well-measured $q$ and one very likely candidate, of which 3 are AnomalyFinder discoveries. In addition to these 12, there are three other unambiguous planets with large uncertainties in $q$. |\n",
       "|<p style=\"color:green\"> **ERROR** </p>| <p style=\"color:green\">affiliation error: mpia.affiliation_verifications: 'Heidelberg' keyword not found.</p> |"
      ],
      "text/plain": [
       "<IPython.core.display.Markdown object>"
      ]
     },
     "metadata": {},
     "output_type": "display_data"
    },
    {
     "data": {
      "text/markdown": [
       "\n",
       "|||\n",
       "|---:|:---|\n",
       "| [![arXiv](https://img.shields.io/badge/arXiv-arXiv:2307.13398-b31b1b.svg)](https://arxiv.org/abs/arXiv:2307.13398) | **The missing radial velocities of Gaia: a catalogue of Bayesian estimates  for DR3**  |\n",
       "|| A. P. Naik, A. Widmark |\n",
       "|*Appeared on*| *2023-07-26*|\n",
       "|*Comments*| *11 pages, 9 figures (excluding appendices). Submitted to MNRAS. RV catalogues available for download at this http URL . Source code, plotting scripts etc. accessible at this https URL*|\n",
       "|**Abstract**| In an earlier work, we demonstrated the effectiveness of Bayesian neural networks in estimating the missing line-of-sight velocities of Gaia stars, and published an accompanying catalogue of blind predictions for the line-of-sight velocities of stars in Gaia DR3. These were not merely point predictions, but probability distributions reflecting our state of knowledge about each star. Here, we verify that these predictions were highly accurate: the DR3 measurements were statistically consistent with our prediction distributions, with an approximate error rate of 1.5%. We use this same technique to produce a publicly available catalogue of predictive probability distributions for the 185 million stars up to a G-band magnitude of 17.5 still missing line-of-sight velocities in Gaia DR3. Validation tests demonstrate that the predictions are reliable for stars within approximately 7 kpc from the Sun and with distance precisions better than around 20%. For such stars, the typical prediction uncertainty is 25-30 km/s. We invite the community to use these radial velocities in analyses of stellar kinematics and dynamics, and give an example of such an application. |\n",
       "|<p style=\"color:green\"> **ERROR** </p>| <p style=\"color:green\">affiliation error: mpia.affiliation_verifications: 'Heidelberg' keyword not found.</p> |"
      ],
      "text/plain": [
       "<IPython.core.display.Markdown object>"
      ]
     },
     "metadata": {},
     "output_type": "display_data"
    },
    {
     "data": {
      "text/markdown": [
       "\n",
       "|||\n",
       "|---:|:---|\n",
       "| [![arXiv](https://img.shields.io/badge/arXiv-arXiv:2307.13574-b31b1b.svg)](https://arxiv.org/abs/arXiv:2307.13574) | **Exploring the Equation of State of the Early Universe: Insights from  BBN, CMB, and PTA Observations**  |\n",
       "|| Z.-C. Zhao, Q.-H. Zhu, S. Wang, <mark>X. Zhang</mark> |\n",
       "|*Appeared on*| *2023-07-26*|\n",
       "|*Comments*| *13 pages, 3 figures*|\n",
       "|**Abstract**| Strong evidence for a gravitational-wave background (GWB) has been reported in the nano-Hertz band. Interpreting the origin of this background to be scalar-induced gravitational waves (SIGWs), we explore the equation of state (EoS) of the early universe by performing Bayes parameter inferences across the big-bang nucleosynthesis (BBN), cosmic microwave background (CMB), and pulsar timing array (PTA) joint observations for the first time. Assuming a monochromatic power spectrum for primordial curvature perturbations, we obtain the spectral amplitude $A\\sim10^{-3}-10^{-1}$ and spectral peak frequency $f_\\ast\\sim10^{-7}-10^{-6}$ Hz. We find that the radiation domination with EoS $w=1/3$ is compatible with the current observational data, the kination domination with EoS $w=1$ is not forbidden, while the early matter domination with EoS $w=0$ is excluded at more than $2\\sigma$ confidence level. These results can be tested with future observations. |\n",
       "|<p style=\"color:green\"> **ERROR** </p>| <p style=\"color:green\">affiliation error: mpia.affiliation_verifications: 'Heidelberg' keyword not found.</p> |"
      ],
      "text/plain": [
       "<IPython.core.display.Markdown object>"
      ]
     },
     "metadata": {},
     "output_type": "display_data"
    },
    {
     "data": {
      "text/markdown": [
       "\n",
       "|||\n",
       "|---:|:---|\n",
       "| [![arXiv](https://img.shields.io/badge/arXiv-arXiv:2307.13672-b31b1b.svg)](https://arxiv.org/abs/arXiv:2307.13672) | **Central radio galaxies in galaxy clusters: joint surveys by eROSITA and  ASKAP**  |\n",
       "|| K. Böckmann, et al. -- incl., <mark>X. Zhang</mark> |\n",
       "|*Appeared on*| *2023-07-26*|\n",
       "|*Comments*| *16 pages, 12 figures, accepted for publication in A&A*|\n",
       "|**Abstract**| The extended ROentgen Survey with an Imaging Telescope Array (eROSITA) telescope onboard the Spectrum-Roentgen-Gamma (SRG) mission has finished the first eROSITA All-Sky Survey (eRASS:1), and detected 10$^4$ galaxy clusters in the western Galactic hemisphere. In the radio band, the Australian Square Kilometre Array Pathfinder (ASKAP) telescope finished its pilot 1 phase of the project 'Evolutionary Map of the Universe' (EMU) with 220.000 sources in a 270 deg$^2$ field overlapping with eRASS:1. These two surveys are used to study radio-mode Active Galactic Nuclei (AGN) in clusters. In order to understand the efficiency of radio-mode feedback at the centers of galaxy clusters, we relate the radio properties of brightest cluster galaxies (BCG) to the X-ray properties of the host clusters. We identify the central radio sources in eRASS:1 clusters or calculate corresponding upper limits on the radio luminosity. Then, we derive relations between the X-ray properties of the clusters and the radio properties of the corresponding central radio source. We also apply a mid-infrared color criterion using WISE colors to identify AGN. In total we investigate a sample of 75 clusters. We find a statistically significant between the X-ray luminosity of the cluster and the 944 MHz radio luminosity of the corresponding central radio galaxy. There is also a positive trend between the radio power and the largest linear size (LLS) of the radio source. The density and the LLS do not show any correlation. We find that in high luminosity clusters with L_X > $10^{43}$ erg s$^{-1}$ the kinetic luminosity of the radio jets is not longer correlated with the X-ray luminosity and discuss various reasons. We find an anti-correlation between the central cooling time t_cool and the radio luminosity L_R indicating a need for more powerful AGN in clusters with short central cooling times. |\n",
       "|<p style=\"color:green\"> **ERROR** </p>| <p style=\"color:green\">affiliation error: mpia.affiliation_verifications: 'Heidelberg' keyword not found.</p> |"
      ],
      "text/plain": [
       "<IPython.core.display.Markdown object>"
      ]
     },
     "metadata": {},
     "output_type": "display_data"
    },
    {
     "data": {
      "text/markdown": [
       "\n",
       "|||\n",
       "|---:|:---|\n",
       "| [![arXiv](https://img.shields.io/badge/arXiv-arXiv:2307.13696-b31b1b.svg)](https://arxiv.org/abs/arXiv:2307.13696) | **The Dark Energy Survey Supernova Program: Cosmological Biases from Host  Galaxy Mismatch of Type Ia Supernovae**  |\n",
       "|| H. Qu, et al. -- incl., <mark>M. Smith</mark> |\n",
       "|*Appeared on*| *2023-07-26*|\n",
       "|*Comments*| *Submitted to ApJ*|\n",
       "|**Abstract**| Redshift measurements, primarily obtained from host galaxies, are essential for inferring cosmological parameters from type Ia supernovae (SNe Ia). Matching SNe to host galaxies using images is non-trivial, resulting in a subset of SNe with mismatched hosts and thus incorrect redshifts. We evaluate the host galaxy mismatch rate and resulting biases on cosmological parameters from simulations modeled after the Dark Energy Survey 5-Year (DES-SN5YR) photometric sample. For both DES-SN5YR data and simulations, we employ the directional light radius method for host galaxy matching. In our SN Ia simulations, we find that 1.7% of SNe are matched to the wrong host galaxy, with redshift difference between the true and matched host of up to 0.6. Using our analysis pipeline, we determine the shift in the dark energy equation of state parameter (Dw) due to including SNe with incorrect host galaxy matches. For SN Ia-only simulations, we find Dw = 0.0013 +/- 0.0026 with constraints from the cosmic microwave background (CMB). Including core-collapse SNe and peculiar SNe Ia in the simulation, we find that Dw ranges from 0.0009 to 0.0032 depending on the photometric classifier used. This bias is an order of magnitude smaller than the expected total uncertainty on w from the DES-SN5YR sample of around 0.03. We conclude that the bias on w from host galaxy mismatch is much smaller than the uncertainties expected from the DES-SN5YR sample, but we encourage further studies to reduce this bias through better host-matching algorithms or selection cuts. |\n",
       "|<p style=\"color:green\"> **ERROR** </p>| <p style=\"color:green\">affiliation error: mpia.affiliation_verifications: 'Heidelberg' keyword not found.</p> |"
      ],
      "text/plain": [
       "<IPython.core.display.Markdown object>"
      ]
     },
     "metadata": {},
     "output_type": "display_data"
    },
    {
     "data": {
      "text/markdown": [
       "\n",
       "|||\n",
       "|---:|:---|\n",
       "| [![arXiv](https://img.shields.io/badge/arXiv-arXiv:2307.13238-b31b1b.svg)](https://arxiv.org/abs/arXiv:2307.13238) | **Photometric calibration of the Stellar Abundance and Galactic Evolution  Survey (SAGES): Nanshan One-meter Wide-field Telescope g, r, and i band  imaging data**  |\n",
       "|| K. Xiao, et al. -- incl., <mark>X. Zhang</mark> |\n",
       "|*Appeared on*| *2023-07-26*|\n",
       "|*Comments*| *15 pages in Chinese language, 8 figures, Chinese Science Bulletin accepted and published online (this https URL), see main results in Figures 6, 7 and 8*|\n",
       "|**Abstract**| In this paper, a total of approximately 2.6 million dwarfs were constructed as standard stars, with an accuracy of about 0.01-0.02 mag for each band, by combining spectroscopic data from the Large Sky Area Multi-Object Fiber Spectroscopic Telescope Data Release 7, photometric data from the corrected Gaia Early Data Release 3, and photometric metallicities. Using the spectroscopy based stellar color regression method (SCR method) and the photometric-based SCR method (SCR' method), we performed the relative calibration of the Nanshan One-meter Wide-field Telescope imaging data. Based on the corrected Pan-STARRS DR1 photometry, the absolute calibration was also performed. In the photometric calibration process, we analyzed the dependence of the calibration zero points on different images (observation time), different gates of the CCD detector, and different CCD positions. We found that the stellar flat and the relative gain between different gates depend on time. The amplitude of gain variation in three channels is approximately 0.5%-0.7% relative to the other channel, with a maximum value of 4%. In addition, significant spatial variations of the stellar flat fitting residual are found and corrected. Using repeated sources in the adjacent images, we checked and discovered internal consistency of about 1-2 mmag in all the filters. Using the PS1 magnitudes synthesized by Gaia DR3 BP/RP spectra by the synthetic photometry method, we found that the photometric calibration uniformity is about 1-2 mmag for all the bands, at a spatial resolution of 1.3 degree. A detailed comparison between the spectroscopy-based SCR and photometric-based SCR method magnitude offsets was performed, and we achieved an internal consistency precision of about 2 mmag or better with resolutions of 1.3 degree for all the filters. Which is mainly from the position-dependent errors of the E(B-V) used in SCR' method. |\n",
       "|<p style=\"color:red\"> **ERROR** </p>| <p style=\"color:red\">latex error not a gzip file</p> |"
      ],
      "text/plain": [
       "<IPython.core.display.Markdown object>"
      ]
     },
     "metadata": {},
     "output_type": "display_data"
    }
   ],
   "source": [
    "import datetime\n",
    "today = str(datetime.date.today())\n",
    "logfile = f\"_build/html/logs/log-{today}.md\"\n",
    "\n",
    "\n",
    "with open(logfile, 'w') as logs:\n",
    "    # Success\n",
    "    logs.write(f'# Arxiv on Deck 2: Logs - {today}\\n\\n')\n",
    "    logs.write(\"\"\"* Arxiv had {0:,d} new papers\\n\"\"\".format(len(new_papers)))\n",
    "    logs.write(\"\"\"    * {0:,d} with possible author matches\\n\\n\"\"\".format(len(candidates)))\n",
    "    logs.write(\"## Sucessful papers\\n\\n\")\n",
    "    display(Markdown(\"## Successful papers\"))\n",
    "    success = [k[0] for k in documents]\n",
    "    for candid in candidates:\n",
    "        if candid['identifier'].split(':')[-1] in success:\n",
    "            display(candid)\n",
    "            logs.write(candid.generate_markdown_text() + '\\n\\n')\n",
    "\n",
    "    ## failed\n",
    "    logs.write(\"## Failed papers\\n\\n\")\n",
    "    display(Markdown(\"## Failed papers\"))\n",
    "    failed = sorted(failed, key=lambda x: x[1])\n",
    "    current_reason = \"\"\n",
    "    for paper, reason in failed:\n",
    "        if 'affiliation' in reason:\n",
    "            color = 'green'\n",
    "        else:\n",
    "            color = 'red'\n",
    "        data = Markdown(\n",
    "                paper.generate_markdown_text() + \n",
    "                f'\\n|<p style=\"color:{color:s}\"> **ERROR** </p>| <p style=\"color:{color:s}\">{reason:s}</p> |'\n",
    "               )\n",
    "        if reason != current_reason:\n",
    "            logs.write(f'### {reason:s} \\n\\n')\n",
    "            current_reason = reason\n",
    "        logs.write(data.data + '\\n\\n')\n",
    "        \n",
    "        # only display here the important errors (all in logs)\n",
    "        # if color in ('red',):\n",
    "        display(data)"
   ]
  },
  {
   "cell_type": "markdown",
   "id": "472d20ee",
   "metadata": {
    "papermill": {
     "duration": 0.007435,
     "end_time": "2023-07-26T04:04:48.240830",
     "exception": false,
     "start_time": "2023-07-26T04:04:48.233395",
     "status": "completed"
    },
    "tags": []
   },
   "source": [
    "## Export documents\n",
    "\n",
    "We now write the .md files and export relevant images"
   ]
  },
  {
   "cell_type": "code",
   "execution_count": 6,
   "id": "d426aed9",
   "metadata": {
    "execution": {
     "iopub.execute_input": "2023-07-26T04:04:48.256456Z",
     "iopub.status.busy": "2023-07-26T04:04:48.255997Z",
     "iopub.status.idle": "2023-07-26T04:04:48.263103Z",
     "shell.execute_reply": "2023-07-26T04:04:48.262478Z"
    },
    "papermill": {
     "duration": 0.016493,
     "end_time": "2023-07-26T04:04:48.264543",
     "exception": false,
     "start_time": "2023-07-26T04:04:48.248050",
     "status": "completed"
    },
    "tags": []
   },
   "outputs": [],
   "source": [
    "def export_markdown_summary(md: str, md_fname:str, directory: str):\n",
    "    \"\"\"Export MD document and associated relevant images\"\"\"\n",
    "    import os\n",
    "    import shutil\n",
    "    import re\n",
    "\n",
    "    if (os.path.exists(directory) and not os.path.isdir(directory)):\n",
    "        raise RuntimeError(f\"a non-directory file exists with name {directory:s}\")\n",
    "\n",
    "    if (not os.path.exists(directory)):\n",
    "        print(f\"creating directory {directory:s}\")\n",
    "        os.mkdir(directory)\n",
    "\n",
    "    fig_fnames = (re.compile(r'\\[Fig.*\\]\\((.*)\\)').findall(md) + \n",
    "                  re.compile(r'\\<img src=\"([^>\\s]*)\"[^>]*/>').findall(md))\n",
    "    for fname in fig_fnames:\n",
    "        if 'http' in fname:\n",
    "            # No need to copy online figures\n",
    "            continue\n",
    "        destdir = os.path.join(directory, os.path.dirname(fname))\n",
    "        destfname = os.path.join(destdir, os.path.basename(fname))\n",
    "        try:\n",
    "            os.makedirs(destdir)\n",
    "        except FileExistsError:\n",
    "            pass\n",
    "        shutil.copy(fname, destfname)\n",
    "    with open(os.path.join(directory, md_fname), 'w') as fout:\n",
    "        fout.write(md)\n",
    "    print(\"exported in \", os.path.join(directory, md_fname))\n",
    "    [print(\"    + \" + os.path.join(directory,fk)) for fk in fig_fnames]"
   ]
  },
  {
   "cell_type": "code",
   "execution_count": 7,
   "id": "014d04a4",
   "metadata": {
    "execution": {
     "iopub.execute_input": "2023-07-26T04:04:48.280310Z",
     "iopub.status.busy": "2023-07-26T04:04:48.279880Z",
     "iopub.status.idle": "2023-07-26T04:04:48.285787Z",
     "shell.execute_reply": "2023-07-26T04:04:48.285189Z"
    },
    "papermill": {
     "duration": 0.015549,
     "end_time": "2023-07-26T04:04:48.287260",
     "exception": false,
     "start_time": "2023-07-26T04:04:48.271711",
     "status": "completed"
    },
    "tags": []
   },
   "outputs": [
    {
     "name": "stdout",
     "output_type": "stream",
     "text": [
      "exported in  _build/html/2307.13355.md\n",
      "    + _build/html/tmp_2307.13355/graphics/selection_new.png\n",
      "    + _build/html/tmp_2307.13355/graphics/Fall_relation_comp_full.png\n",
      "    + _build/html/tmp_2307.13355/graphics/momentum_mass_in_R22_normR22.png\n"
     ]
    }
   ],
   "source": [
    "for paper_id, md in documents:\n",
    "    export_markdown_summary(md, f\"{paper_id:s}.md\", '_build/html/')"
   ]
  },
  {
   "cell_type": "markdown",
   "id": "f087a0a7",
   "metadata": {
    "papermill": {
     "duration": 0.007189,
     "end_time": "2023-07-26T04:04:48.301847",
     "exception": false,
     "start_time": "2023-07-26T04:04:48.294658",
     "status": "completed"
    },
    "tags": []
   },
   "source": [
    "## Display the papers\n",
    "\n",
    "Not necessary but allows for a quick check."
   ]
  },
  {
   "cell_type": "code",
   "execution_count": 8,
   "id": "fd25f625",
   "metadata": {
    "execution": {
     "iopub.execute_input": "2023-07-26T04:04:48.317732Z",
     "iopub.status.busy": "2023-07-26T04:04:48.317188Z",
     "iopub.status.idle": "2023-07-26T04:04:48.321705Z",
     "shell.execute_reply": "2023-07-26T04:04:48.321226Z"
    },
    "papermill": {
     "duration": 0.013944,
     "end_time": "2023-07-26T04:04:48.323056",
     "exception": false,
     "start_time": "2023-07-26T04:04:48.309112",
     "status": "completed"
    },
    "scrolled": false,
    "tags": []
   },
   "outputs": [
    {
     "data": {
      "text/markdown": [
       "<div class=\"macros\" style=\"visibility:hidden;\">\n",
       "$\\newcommand{\\ensuremath}{}$\n",
       "$\\newcommand{\\xspace}{}$\n",
       "$\\newcommand{\\object}[1]{\\texttt{#1}}$\n",
       "$\\newcommand{\\farcs}{{.}''}$\n",
       "$\\newcommand{\\farcm}{{.}'}$\n",
       "$\\newcommand{\\arcsec}{''}$\n",
       "$\\newcommand{\\arcmin}{'}$\n",
       "$\\newcommand{\\ion}[2]{#1#2}$\n",
       "$\\newcommand{\\textsc}[1]{\\textrm{#1}}$\n",
       "$\\newcommand{\\hl}[1]{\\textrm{#1}}$\n",
       "$\\newcommand{\\footnote}[1]{}$\n",
       "$\\newcommand{\\todo}[1]{{\\textcolor{red}{#1}}}$\n",
       "$\\newcommand{\\OII}{[\\ion{O}{ii}]}$\n",
       "$\\newcommand{\\OIII}{[\\ion{O}{iii}]}$\n",
       "$\\newcommand{\\Halpha}{H\\alpha}$\n",
       "$\\newcommand{\\Halphamath}{{\\rm{H}}\\alpha}$\n",
       "$\\newcommand{\\HST}{\\textsc{HST}}$\n",
       "$\\newcommand{\\HSTACS}{\\textsc{HST-ACS}}$\n",
       "$\\newcommand{\\zCOSMOS}{\\textsc{zCOSMOS}}$\n",
       "$\\newcommand{\\VUDS}{\\textsc{VUDS}}$\n",
       "$\\newcommand{\\MUSE}{\\textsc{MUSE}}$\n",
       "$\\newcommand{\\MAGIC}{\\textsc{MAGIC}}$\n",
       "$\\newcommand{\\COSMOS}{\\textsc{Cosmos}}$\n",
       "$\\newcommand{\\COSMOStwenty}{\\textsc{Cosmos2020}}$\n",
       "$\\newcommand{\\COSMOSWall}{\\textsc{Cosmos-Wall}}$\n",
       "$\\newcommand{\\MUSCATEL}{\\textsc{MUSCATEL}}$\n",
       "$\\newcommand{\\MUSEWIDE}{\\textsc{MUSE-Wide}}$\n",
       "$\\newcommand{\\HUDF}{\\textsc{MUSE-HUDF}}$\n",
       "$\\newcommand{\\HDFS}{\\textsc{MUSE-HDFS}}$\n",
       "$\\newcommand{\\Galfit}{\\textsc{Galfit}}$\n",
       "$\\newcommand{\\Cigale}{\\textsc{Cigale}}$\n",
       "$\\newcommand{\\FAST}{\\textsc{FAST}}$\n",
       "$\\newcommand{\\MPFIT}{\\textsc{MPFIT}}$\n",
       "$\\newcommand{\\MPFITEXY}{\\textsc{MPFITEXY}}$\n",
       "$\\newcommand{\\Ltsfit}{\\textsc{LtsFit}}$\n",
       "$\\newcommand{\\Mocking}{\\textsc{MocKinG}}$\n",
       "$\\newcommand{\\Camel}{\\textsc{Camel}}$\n",
       "$\\newcommand{\\Multinest}{\\textsc{MultiNest}}$\n",
       "$\\newcommand{\\Lephare}{\\textsc{LePhare}}$\n",
       "$\\newcommand{\\matplotlib}{\\textsc{matplotlib}}$\n",
       "$\\newcommand{\\scipy}{\\textsc{scipy}}$\n",
       "$\\newcommand{\\numpy}{\\textsc{numpy}}$\n",
       "$\\newcommand{\\astropy}{\\textsc{astropy}}$\n",
       "$\\newcommand{\\NMAGIC}{2730}$\n",
       "$\\newcommand{\\NOIISample}{1142}$\n",
       "$\\newcommand{\\NMorphoSample}{890}$\n",
       "$\\newcommand{\\NKinematicSample}{571}$\n",
       "$\\newcommand{\\Nselection}{182}$\n",
       "$\\newcommand{\\NselectionOld}{207}$\n",
       "$\\newcommand{\\NselectionFull}{156}$\n",
       "$\\newcommand{\\NMSSample}{447}$\n",
       "$\\newcommand{\\NTFRSample}{146}$</div>\n",
       "\n",
       "\n",
       "\n",
       "<div id=\"title\">\n",
       "\n",
       "# Stellar angular momentum of disk galaxies at $z \\approx 0.7$ in the $\\MAGIC$  survey$\\thanks{Table \\ref{tab:catalog_CDS} is only available in electronic form at the CDS via anonymous ftp to cdsarc.u-strasbg.fr (130.79.128.5) or via http://cdsweb.u-strasbg.fr/cgi-bin/qcat?J/A+A/}$$\\fnmsep$$\\thanks{Based on observations made with ESO telescopes at the Paranal Observatory under programs 094.A-0247, 095.A-0118, 096.A-0596, 097.A-0254, 099.A-0246, 100.A-0607, 101.A-0282, 102.A-0327, and 103.A-0563.}$\n",
       "\n",
       "</div>\n",
       "<div id=\"comments\">\n",
       "\n",
       "[![arXiv](https://img.shields.io/badge/arXiv-2307.13355-b31b1b.svg)](https://arxiv.org/abs/2307.13355)<mark>Appeared on: 2023-07-26</mark> -  _23 pages, including 5 appendices, 14 figures, accepted version before language correction_\n",
       "\n",
       "</div>\n",
       "<div id=\"authors\">\n",
       "\n",
       "W. Mercier, et al. -- incl., <mark>L. Boogaard</mark>\n",
       "\n",
       "</div>\n",
       "<div id=\"abstract\">\n",
       "\n",
       "**Abstract:** At intermediate redshift, galaxy groups/clusters are thought to impact galaxy properties such as their angular momentum. We investigate whether the environment has an impact on the galaxies' stellar angular momentum and identify underlying driving physical mechanisms. We derive robust estimates of the stellar angular momentum using Hubble Space Telescope ( $\\HST$ ) images combined with spatially resolved ionised gas kinematics from the Multi-Unit Spectroscopic Explorer ( $\\MUSE$ ) for a sample of $\\sim 200$ galaxies in groups and in the field at $z \\sim 0.7$ drawn from the MAGIC survey. Using various environmental tracers, we study the position of the galaxies in the the angular momentum-stellar mass (Fall) relation as a function of environment. We measure a $\\SI{0.12}{dex}$ ( $2\\sigma$ significant) depletion of stellar angular momentum for low-mass galaxies ( $M_\\star < \\SI{e10}{\\Msun}$ ) located in groups with respect to the field. Massive galaxies located in dense environments have less angular momentum than expected from the low-mass Fall relation but, without a comparable field sample, we cannot infer whether this effect is mass- or environmentally-driven. Furthermore, these massive galaxies are found in the central parts of the structures and have low systemic velocities.\tThe observed depletion of angular momentum at low stellar mass does not appear linked with the strength of the over-density around the galaxies but it is strongly correlated with (i) the systemic velocity of the galaxies normalised by the dispersion of their host group and (ii) their ionised gas velocity dispersion. Galaxies in groups appear depleted in angular momentum, especially at low stellar mass. Our results suggest that this depletion might be induced by physical mechanisms that scale with the systemic velocity of the galaxies (e.g. stripping or merging) and that such mechanism might be responsible for enhancing the velocity dispersion of the gas as galaxies lose angular momentum.\n",
       "\n",
       "</div>\n",
       "\n",
       "<div id=\"div_fig1\">\n",
       "\n",
       "<img src=\"tmp_2307.13355/graphics/selection_new.png\" alt=\"Fig1\" width=\"100%\"/>\n",
       "\n",
       "**Figure 1. -** Criteria used for the selection of the kinematics sample. The black points represent galaxies selected according to the surface, S/N, and inclination (removing face-on galaxies only) criteria. Removed galaxies are represented as follows and in this specific order: (i) those removed by the inclination criterion (pink squares), (ii) those removed by the S/N criterion among the remaining galaxies (orange downward pointing triangles), (iii) those removed by the surface criterion among the remaining galaxies but that would have been kept by our previous size criterion used in \\citet[][blue upward pointing triangles]{mercier_scaling_2022}, and (iv) those removed by the full selection and by our previous size criterion as well (grey dots). We also show galaxies flagged with peculiar kinematics with red contours. The vertical black line shows the surface selection criterion given in Eq. \\ref{eq:sample/selection/surface} and the other black lines represent the S/N selection for different disk axis ratios (see Eq.\\ref{eq:sample/selection/S/N}). (*fig:sample/selection/selection*)\n",
       "\n",
       "</div>\n",
       "<div id=\"div_fig2\">\n",
       "\n",
       "<img src=\"tmp_2307.13355/graphics/Fall_relation_comp_full.png\" alt=\"Fig13\" width=\"100%\"/>\n",
       "\n",
       "**Figure 13. -** Fall relation for the kinematics sample using various formalisms. On the top row is shown the angular momentum derived using $\\HST$  maps and on the bottom row that derived using an exponential disk model. The leftmost column represents the Fall relation when using the rotation curve derived from the mass modelling and the rightmost column the Fall relation when using a flat model rotation curve (the top-left plot is similar to Fig. \\ref{fig:analysis/momentum first plot}). Galaxies selected for the analysis are shown as black points and those flagged with peculiar kinematics with red contours. Other symbols correspond to galaxies removed by the selection (see Fig. \\ref{fig:sample/selection/selection} for more details). The typical uncertainty is shown on the bottom of each plot as a black error-bar. The two black lines show the limit of the Fall relation for an exponential disk without DM halo and with two different disk scale lengths of \\SI{5}{\\kilo\\pc}(dashed line) and \\SI{15}{\\kilo\\pc}(plain line, see Eq. \\ref{eq:appendix/angular momentum/special/disk/R22}). (*fig:analysis/reliability/Fall relation HST comparison*)\n",
       "\n",
       "</div>\n",
       "<div id=\"div_fig3\">\n",
       "\n",
       "<img src=\"tmp_2307.13355/graphics/momentum_mass_in_R22_normR22.png\" alt=\"Fig2\" width=\"100%\"/>\n",
       "\n",
       "**Figure 2. -** Fall relation for the entire kinematics sample, using bulge-removed $\\HST$  images. Galaxies selected from the kinematics sample are represented with black points and other symbols represent galaxies removed by different selection criteria (see Fig. \\ref{fig:sample/selection/selection}). Red contours correspond to galaxies flagged with peculiar kinematics. The typical uncertainty (including systematic uncertainties added when fitting the relation) is shown as an error bar on the bottom right corner. $^\\dagger$Galaxies removed by the surface criterion defined in Sect. \\ref{sec:sample/selection} but that would have been kept by the size selection criterion used in \\citet{mercier_scaling_2022}. (*fig:analysis/momentum first plot*)\n",
       "\n",
       "</div><div id=\"qrcode\"><img src=https://api.qrserver.com/v1/create-qr-code/?size=100x100&data=\"https://arxiv.org/abs/2307.13355\"></div>"
      ],
      "text/plain": [
       "<IPython.core.display.Markdown object>"
      ]
     },
     "metadata": {},
     "output_type": "display_data"
    }
   ],
   "source": [
    "[display(Markdown(k[1])) for k in documents];"
   ]
  },
  {
   "cell_type": "markdown",
   "id": "873873a4",
   "metadata": {
    "papermill": {
     "duration": 0.007495,
     "end_time": "2023-07-26T04:04:48.338104",
     "exception": false,
     "start_time": "2023-07-26T04:04:48.330609",
     "status": "completed"
    },
    "tags": []
   },
   "source": [
    "# Create HTML index"
   ]
  },
  {
   "cell_type": "code",
   "execution_count": 9,
   "id": "cf665672",
   "metadata": {
    "execution": {
     "iopub.execute_input": "2023-07-26T04:04:48.354608Z",
     "iopub.status.busy": "2023-07-26T04:04:48.354089Z",
     "iopub.status.idle": "2023-07-26T04:04:48.363963Z",
     "shell.execute_reply": "2023-07-26T04:04:48.363358Z"
    },
    "papermill": {
     "duration": 0.019701,
     "end_time": "2023-07-26T04:04:48.365457",
     "exception": false,
     "start_time": "2023-07-26T04:04:48.345756",
     "status": "completed"
    },
    "tags": []
   },
   "outputs": [
    {
     "name": "stdout",
     "output_type": "stream",
     "text": [
      "234  publications files modified in the last 7 days.\n"
     ]
    }
   ],
   "source": [
    "from datetime import datetime, timedelta, timezone\n",
    "from glob import glob\n",
    "import os\n",
    "\n",
    "files = glob('_build/html/*.md')\n",
    "days = 7\n",
    "now = datetime.today()\n",
    "res = []\n",
    "for fk in files:\n",
    "    stat_result = os.stat(fk).st_ctime\n",
    "    modified = datetime.fromtimestamp(stat_result, tz=timezone.utc).replace(tzinfo=None)\n",
    "    delta = now.today() - modified\n",
    "    if delta <= timedelta(days=days):\n",
    "        res.append((delta.seconds, fk))\n",
    "res = [k[1] for k in reversed(sorted(res, key=lambda x:x[1]))]\n",
    "npub = len(res)\n",
    "print(len(res), f\" publications files modified in the last {days:d} days.\")\n",
    "# [ print('\\t', k) for k in res ];"
   ]
  },
  {
   "cell_type": "code",
   "execution_count": 10,
   "id": "015de740",
   "metadata": {
    "execution": {
     "iopub.execute_input": "2023-07-26T04:04:48.382282Z",
     "iopub.status.busy": "2023-07-26T04:04:48.381699Z",
     "iopub.status.idle": "2023-07-26T04:04:48.399315Z",
     "shell.execute_reply": "2023-07-26T04:04:48.398670Z"
    },
    "papermill": {
     "duration": 0.027614,
     "end_time": "2023-07-26T04:04:48.400760",
     "exception": false,
     "start_time": "2023-07-26T04:04:48.373146",
     "status": "completed"
    },
    "tags": []
   },
   "outputs": [
    {
     "name": "stdout",
     "output_type": "stream",
     "text": [
      "5  publications in the last 7 days.\n"
     ]
    }
   ],
   "source": [
    "import datetime\n",
    "from glob import glob\n",
    "\n",
    "def get_last_n_days(lst, days=1):\n",
    "    \"\"\" Get the documents from the last n days \"\"\"\n",
    "    sorted_lst = sorted(lst, key=lambda x: x[1], reverse=True)\n",
    "    for fname, date in sorted_lst:\n",
    "        if date >= str(datetime.date.today() - datetime.timedelta(days=days)):\n",
    "            yield fname\n",
    "\n",
    "def extract_appearance_dates(lst_file):\n",
    "    dates = []\n",
    "\n",
    "    def get_date(line):\n",
    "        return line\\\n",
    "            .split('Appeared on:')[-1]\\\n",
    "            .split('</mark>')[0].strip()\n",
    "\n",
    "    for fname in lst:\n",
    "        with open(fname, 'r') as f:\n",
    "            found_date = False\n",
    "            for line in f:\n",
    "                if not found_date:\n",
    "                    if \"Appeared on\" in line:\n",
    "                        found_date = True\n",
    "                        dates.append((fname, get_date(line)))\n",
    "                else:\n",
    "                    break\n",
    "    return dates\n",
    "\n",
    "from glob import glob\n",
    "lst = glob('_build/html/*md')\n",
    "days = 7\n",
    "dates = extract_appearance_dates(lst)\n",
    "res = list(get_last_n_days(dates, days))\n",
    "npub = len(res)\n",
    "print(len(res), f\" publications in the last {days:d} days.\")"
   ]
  },
  {
   "cell_type": "code",
   "execution_count": 11,
   "id": "52ca0208",
   "metadata": {
    "execution": {
     "iopub.execute_input": "2023-07-26T04:04:48.417810Z",
     "iopub.status.busy": "2023-07-26T04:04:48.417379Z",
     "iopub.status.idle": "2023-07-26T04:04:48.422636Z",
     "shell.execute_reply": "2023-07-26T04:04:48.422029Z"
    },
    "papermill": {
     "duration": 0.015371,
     "end_time": "2023-07-26T04:04:48.424032",
     "exception": false,
     "start_time": "2023-07-26T04:04:48.408661",
     "status": "completed"
    },
    "scrolled": false,
    "tags": []
   },
   "outputs": [],
   "source": [
    "def create_carousel(npub=4):\n",
    "    \"\"\" Generate the HTML code for a carousel with `npub` slides \"\"\"\n",
    "    carousel = [\"\"\"  <div class=\"carousel\" \"\"\",\n",
    "                \"\"\"       data-flickity='{ \"autoPlay\": 10000, \"adaptiveHeight\": true, \"resize\": true, \"wrapAround\": true, \"pauseAutoPlayOnHover\": true, \"groupCells\": 1 }' id=\"asyncTypeset\">\"\"\"\n",
    "                ]\n",
    "    \n",
    "    item_str = \"\"\"    <div class=\"carousel-cell\"> <div id=\"slide{k}\" class=\"md_view\">Content {k}</div> </div>\"\"\"\n",
    "    for k in range(1, npub + 1):\n",
    "        carousel.append(item_str.format(k=k))\n",
    "    carousel.append(\"  </div>\")\n",
    "    return '\\n'.join(carousel)\n",
    "\n",
    "def create_grid(npub=4):\n",
    "    \"\"\" Generate the HTML code for a flat grid with `npub` slides \"\"\"\n",
    "    grid = [\"\"\"  <div class=\"grid\"> \"\"\",\n",
    "                ]\n",
    "    \n",
    "    item_str = \"\"\"    <div class=\"grid-item\"> <div id=\"slide{k}\" class=\"md_view\">Content {k}</div> </div>\"\"\"\n",
    "    for k in range(1, npub + 1):\n",
    "        grid.append(item_str.format(k=k))\n",
    "    grid.append(\"  </div>\")\n",
    "    return '\\n'.join(grid)"
   ]
  },
  {
   "cell_type": "code",
   "execution_count": 12,
   "id": "a6eac5b6",
   "metadata": {
    "execution": {
     "iopub.execute_input": "2023-07-26T04:04:48.441039Z",
     "iopub.status.busy": "2023-07-26T04:04:48.440484Z",
     "iopub.status.idle": "2023-07-26T04:04:48.446317Z",
     "shell.execute_reply": "2023-07-26T04:04:48.445692Z"
    },
    "papermill": {
     "duration": 0.01579,
     "end_time": "2023-07-26T04:04:48.447700",
     "exception": false,
     "start_time": "2023-07-26T04:04:48.431910",
     "status": "completed"
    },
    "scrolled": false,
    "tags": []
   },
   "outputs": [],
   "source": [
    "carousel = create_carousel(npub)\n",
    "docs = ', '.join(['\"{0:s}\"'.format(k.split('/')[-1]) for k in res])\n",
    "slides = ', '.join([f'\"slide{k}\"' for k in range(1, npub + 1)])\n",
    "\n",
    "with open(\"daily_template.html\", \"r\") as tpl:\n",
    "    page = tpl.read()\n",
    "    page = page.replace(\"{%-- carousel:s --%}\", carousel)\\\n",
    "               .replace(\"{%-- suptitle:s --%}\",  \"7-day archives\" )\\\n",
    "               .replace(\"{%-- docs:s --%}\", docs)\\\n",
    "               .replace(\"{%-- slides:s --%}\", slides)\n",
    "    \n",
    "with open(\"_build/html/index_7days.html\", 'w') as fout:\n",
    "    fout.write(page)"
   ]
  },
  {
   "cell_type": "code",
   "execution_count": 13,
   "id": "adc1a1ec",
   "metadata": {
    "execution": {
     "iopub.execute_input": "2023-07-26T04:04:48.464520Z",
     "iopub.status.busy": "2023-07-26T04:04:48.464103Z",
     "iopub.status.idle": "2023-07-26T04:04:48.471096Z",
     "shell.execute_reply": "2023-07-26T04:04:48.470487Z"
    },
    "papermill": {
     "duration": 0.016993,
     "end_time": "2023-07-26T04:04:48.472498",
     "exception": false,
     "start_time": "2023-07-26T04:04:48.455505",
     "status": "completed"
    },
    "tags": []
   },
   "outputs": [
    {
     "name": "stdout",
     "output_type": "stream",
     "text": [
      "2  publications in the last day.\n"
     ]
    }
   ],
   "source": [
    "# redo for today\n",
    "days = 1\n",
    "res = list(get_last_n_days(dates, days))\n",
    "npub = len(res)\n",
    "print(len(res), f\" publications in the last day.\")\n",
    "\n",
    "carousel = create_carousel(npub)\n",
    "docs = ', '.join(['\"{0:s}\"'.format(k.split('/')[-1]) for k in res])\n",
    "slides = ', '.join([f'\"slide{k}\"' for k in range(1, npub + 1)])\n",
    "\n",
    "with open(\"daily_template.html\", \"r\") as tpl:\n",
    "    page = tpl.read()\n",
    "    page = page.replace(\"{%-- carousel:s --%}\", carousel)\\\n",
    "               .replace(\"{%-- suptitle:s --%}\",  \"Daily\" )\\\n",
    "               .replace(\"{%-- docs:s --%}\", docs)\\\n",
    "               .replace(\"{%-- slides:s --%}\", slides)\n",
    "    \n",
    "# print(carousel, docs, slides)\n",
    "# print(page)\n",
    "with open(\"_build/html/index_daily.html\", 'w') as fout:\n",
    "    fout.write(page)"
   ]
  },
  {
   "cell_type": "code",
   "execution_count": 14,
   "id": "00eece82",
   "metadata": {
    "execution": {
     "iopub.execute_input": "2023-07-26T04:04:48.489613Z",
     "iopub.status.busy": "2023-07-26T04:04:48.489009Z",
     "iopub.status.idle": "2023-07-26T04:04:48.495861Z",
     "shell.execute_reply": "2023-07-26T04:04:48.495249Z"
    },
    "papermill": {
     "duration": 0.016906,
     "end_time": "2023-07-26T04:04:48.497317",
     "exception": false,
     "start_time": "2023-07-26T04:04:48.480411",
     "status": "completed"
    },
    "scrolled": false,
    "tags": []
   },
   "outputs": [
    {
     "name": "stdout",
     "output_type": "stream",
     "text": [
      "6  6 publications selected.\n"
     ]
    }
   ],
   "source": [
    "# Create the flat grid of the last N papers (fixed number regardless of dates)\n",
    "from itertools import islice \n",
    "\n",
    "npub = 6\n",
    "res = [k[0] for k in (islice(reversed(sorted(dates, key=lambda x: x[1])), 6))]\n",
    "print(len(res), f\" {npub} publications selected.\")\n",
    "\n",
    "grid = create_grid(npub)\n",
    "docs = ', '.join(['\"{0:s}\"'.format(k.split('/')[-1]) for k in res])\n",
    "slides = ', '.join([f'\"slide{k}\"' for k in range(1, npub + 1)])\n",
    "\n",
    "with open(\"grid_template.html\", \"r\") as tpl:\n",
    "    page = tpl.read()\n",
    "    page = page.replace(\"{%-- grid-content:s --%}\", grid)\\\n",
    "               .replace(\"{%-- suptitle:s --%}\",  f\"Last {npub:,d} papers\" )\\\n",
    "               .replace(\"{%-- docs:s --%}\", docs)\\\n",
    "               .replace(\"{%-- slides:s --%}\", slides)\n",
    "    \n",
    "# print(grid, docs, slides)\n",
    "# print(page)\n",
    "with open(\"_build/html/index_npub_grid.html\", 'w') as fout:\n",
    "    fout.write(page)"
   ]
  }
 ],
 "metadata": {
  "kernelspec": {
   "display_name": "Python 3 (ipykernel)",
   "language": "python",
   "name": "python3"
  },
  "language_info": {
   "codemirror_mode": {
    "name": "ipython",
    "version": 3
   },
   "file_extension": ".py",
   "mimetype": "text/x-python",
   "name": "python",
   "nbconvert_exporter": "python",
   "pygments_lexer": "ipython3",
   "version": "3.9.17"
  },
  "papermill": {
   "default_parameters": {},
   "duration": 60.697169,
   "end_time": "2023-07-26T04:04:48.723417",
   "environment_variables": {},
   "exception": null,
   "input_path": "MPIA daily digest.ipynb",
   "output_path": "log.ipynb",
   "parameters": {},
   "start_time": "2023-07-26T04:03:48.026248",
   "version": "2.4.0"
  },
  "vscode": {
   "interpreter": {
    "hash": "aee8b7b246df8f9039afb4144a1f6fd8d2ca17a180786b69acc140d282b71a49"
   }
  },
  "widgets": {
   "application/vnd.jupyter.widget-state+json": {
    "state": {
     "3949926a9f1d4864b2cc50a4ca83d8b3": {
      "model_module": "@jupyter-widgets/controls",
      "model_module_version": "2.0.0",
      "model_name": "HTMLStyleModel",
      "state": {
       "_model_module": "@jupyter-widgets/controls",
       "_model_module_version": "2.0.0",
       "_model_name": "HTMLStyleModel",
       "_view_count": null,
       "_view_module": "@jupyter-widgets/base",
       "_view_module_version": "2.0.0",
       "_view_name": "StyleView",
       "background": null,
       "description_width": "",
       "font_size": null,
       "text_color": null
      }
     },
     "3a1f154394714ea8955b38540ed6fa0c": {
      "model_module": "@jupyter-widgets/controls",
      "model_module_version": "2.0.0",
      "model_name": "HBoxModel",
      "state": {
       "_dom_classes": [],
       "_model_module": "@jupyter-widgets/controls",
       "_model_module_version": "2.0.0",
       "_model_name": "HBoxModel",
       "_view_count": null,
       "_view_module": "@jupyter-widgets/controls",
       "_view_module_version": "2.0.0",
       "_view_name": "HBoxView",
       "box_style": "",
       "children": [
        "IPY_MODEL_6ab154e5bb894603a9dc52cd6d63f16c",
        "IPY_MODEL_60661353555546fdbab9479eded39509",
        "IPY_MODEL_6cdb2346b33c43f3b0eac2264f719ad3"
       ],
       "layout": "IPY_MODEL_46cdee53120642d29b368a02b5870210",
       "tabbable": null,
       "tooltip": null
      }
     },
     "4210af8c598a480eb96dad8f978c0130": {
      "model_module": "@jupyter-widgets/base",
      "model_module_version": "2.0.0",
      "model_name": "LayoutModel",
      "state": {
       "_model_module": "@jupyter-widgets/base",
       "_model_module_version": "2.0.0",
       "_model_name": "LayoutModel",
       "_view_count": null,
       "_view_module": "@jupyter-widgets/base",
       "_view_module_version": "2.0.0",
       "_view_name": "LayoutView",
       "align_content": null,
       "align_items": null,
       "align_self": null,
       "border_bottom": null,
       "border_left": null,
       "border_right": null,
       "border_top": null,
       "bottom": null,
       "display": null,
       "flex": null,
       "flex_flow": null,
       "grid_area": null,
       "grid_auto_columns": null,
       "grid_auto_flow": null,
       "grid_auto_rows": null,
       "grid_column": null,
       "grid_gap": null,
       "grid_row": null,
       "grid_template_areas": null,
       "grid_template_columns": null,
       "grid_template_rows": null,
       "height": null,
       "justify_content": null,
       "justify_items": null,
       "left": null,
       "margin": null,
       "max_height": null,
       "max_width": null,
       "min_height": null,
       "min_width": null,
       "object_fit": null,
       "object_position": null,
       "order": null,
       "overflow": null,
       "padding": null,
       "right": null,
       "top": null,
       "visibility": null,
       "width": null
      }
     },
     "46cdee53120642d29b368a02b5870210": {
      "model_module": "@jupyter-widgets/base",
      "model_module_version": "2.0.0",
      "model_name": "LayoutModel",
      "state": {
       "_model_module": "@jupyter-widgets/base",
       "_model_module_version": "2.0.0",
       "_model_name": "LayoutModel",
       "_view_count": null,
       "_view_module": "@jupyter-widgets/base",
       "_view_module_version": "2.0.0",
       "_view_name": "LayoutView",
       "align_content": null,
       "align_items": null,
       "align_self": null,
       "border_bottom": null,
       "border_left": null,
       "border_right": null,
       "border_top": null,
       "bottom": null,
       "display": null,
       "flex": null,
       "flex_flow": null,
       "grid_area": null,
       "grid_auto_columns": null,
       "grid_auto_flow": null,
       "grid_auto_rows": null,
       "grid_column": null,
       "grid_gap": null,
       "grid_row": null,
       "grid_template_areas": null,
       "grid_template_columns": null,
       "grid_template_rows": null,
       "height": null,
       "justify_content": null,
       "justify_items": null,
       "left": null,
       "margin": null,
       "max_height": null,
       "max_width": null,
       "min_height": null,
       "min_width": null,
       "object_fit": null,
       "object_position": null,
       "order": null,
       "overflow": null,
       "padding": null,
       "right": null,
       "top": null,
       "visibility": null,
       "width": null
      }
     },
     "60661353555546fdbab9479eded39509": {
      "model_module": "@jupyter-widgets/controls",
      "model_module_version": "2.0.0",
      "model_name": "FloatProgressModel",
      "state": {
       "_dom_classes": [],
       "_model_module": "@jupyter-widgets/controls",
       "_model_module_version": "2.0.0",
       "_model_name": "FloatProgressModel",
       "_view_count": null,
       "_view_module": "@jupyter-widgets/controls",
       "_view_module_version": "2.0.0",
       "_view_name": "ProgressView",
       "bar_style": "success",
       "description": "",
       "description_allow_html": false,
       "layout": "IPY_MODEL_4210af8c598a480eb96dad8f978c0130",
       "max": 9.0,
       "min": 0.0,
       "orientation": "horizontal",
       "style": "IPY_MODEL_97ea489fa46f42bfb2386728b285a5f0",
       "tabbable": null,
       "tooltip": null,
       "value": 9.0
      }
     },
     "65f4c64785ff492698c38daeee2cb51a": {
      "model_module": "@jupyter-widgets/controls",
      "model_module_version": "2.0.0",
      "model_name": "HTMLStyleModel",
      "state": {
       "_model_module": "@jupyter-widgets/controls",
       "_model_module_version": "2.0.0",
       "_model_name": "HTMLStyleModel",
       "_view_count": null,
       "_view_module": "@jupyter-widgets/base",
       "_view_module_version": "2.0.0",
       "_view_name": "StyleView",
       "background": null,
       "description_width": "",
       "font_size": null,
       "text_color": null
      }
     },
     "6ab154e5bb894603a9dc52cd6d63f16c": {
      "model_module": "@jupyter-widgets/controls",
      "model_module_version": "2.0.0",
      "model_name": "HTMLModel",
      "state": {
       "_dom_classes": [],
       "_model_module": "@jupyter-widgets/controls",
       "_model_module_version": "2.0.0",
       "_model_name": "HTMLModel",
       "_view_count": null,
       "_view_module": "@jupyter-widgets/controls",
       "_view_module_version": "2.0.0",
       "_view_name": "HTMLView",
       "description": "",
       "description_allow_html": false,
       "layout": "IPY_MODEL_ea6f5114b9624d5787a9b7aadbc12814",
       "placeholder": "​",
       "style": "IPY_MODEL_65f4c64785ff492698c38daeee2cb51a",
       "tabbable": null,
       "tooltip": null,
       "value": "100%"
      }
     },
     "6cdb2346b33c43f3b0eac2264f719ad3": {
      "model_module": "@jupyter-widgets/controls",
      "model_module_version": "2.0.0",
      "model_name": "HTMLModel",
      "state": {
       "_dom_classes": [],
       "_model_module": "@jupyter-widgets/controls",
       "_model_module_version": "2.0.0",
       "_model_name": "HTMLModel",
       "_view_count": null,
       "_view_module": "@jupyter-widgets/controls",
       "_view_module_version": "2.0.0",
       "_view_name": "HTMLView",
       "description": "",
       "description_allow_html": false,
       "layout": "IPY_MODEL_b005e6b8c7594b6b942b856fb5a8d68b",
       "placeholder": "​",
       "style": "IPY_MODEL_3949926a9f1d4864b2cc50a4ca83d8b3",
       "tabbable": null,
       "tooltip": null,
       "value": " 9/9 [00:37&lt;00:00,  2.44s/it]"
      }
     },
     "97ea489fa46f42bfb2386728b285a5f0": {
      "model_module": "@jupyter-widgets/controls",
      "model_module_version": "2.0.0",
      "model_name": "ProgressStyleModel",
      "state": {
       "_model_module": "@jupyter-widgets/controls",
       "_model_module_version": "2.0.0",
       "_model_name": "ProgressStyleModel",
       "_view_count": null,
       "_view_module": "@jupyter-widgets/base",
       "_view_module_version": "2.0.0",
       "_view_name": "StyleView",
       "bar_color": null,
       "description_width": ""
      }
     },
     "b005e6b8c7594b6b942b856fb5a8d68b": {
      "model_module": "@jupyter-widgets/base",
      "model_module_version": "2.0.0",
      "model_name": "LayoutModel",
      "state": {
       "_model_module": "@jupyter-widgets/base",
       "_model_module_version": "2.0.0",
       "_model_name": "LayoutModel",
       "_view_count": null,
       "_view_module": "@jupyter-widgets/base",
       "_view_module_version": "2.0.0",
       "_view_name": "LayoutView",
       "align_content": null,
       "align_items": null,
       "align_self": null,
       "border_bottom": null,
       "border_left": null,
       "border_right": null,
       "border_top": null,
       "bottom": null,
       "display": null,
       "flex": null,
       "flex_flow": null,
       "grid_area": null,
       "grid_auto_columns": null,
       "grid_auto_flow": null,
       "grid_auto_rows": null,
       "grid_column": null,
       "grid_gap": null,
       "grid_row": null,
       "grid_template_areas": null,
       "grid_template_columns": null,
       "grid_template_rows": null,
       "height": null,
       "justify_content": null,
       "justify_items": null,
       "left": null,
       "margin": null,
       "max_height": null,
       "max_width": null,
       "min_height": null,
       "min_width": null,
       "object_fit": null,
       "object_position": null,
       "order": null,
       "overflow": null,
       "padding": null,
       "right": null,
       "top": null,
       "visibility": null,
       "width": null
      }
     },
     "ea6f5114b9624d5787a9b7aadbc12814": {
      "model_module": "@jupyter-widgets/base",
      "model_module_version": "2.0.0",
      "model_name": "LayoutModel",
      "state": {
       "_model_module": "@jupyter-widgets/base",
       "_model_module_version": "2.0.0",
       "_model_name": "LayoutModel",
       "_view_count": null,
       "_view_module": "@jupyter-widgets/base",
       "_view_module_version": "2.0.0",
       "_view_name": "LayoutView",
       "align_content": null,
       "align_items": null,
       "align_self": null,
       "border_bottom": null,
       "border_left": null,
       "border_right": null,
       "border_top": null,
       "bottom": null,
       "display": null,
       "flex": null,
       "flex_flow": null,
       "grid_area": null,
       "grid_auto_columns": null,
       "grid_auto_flow": null,
       "grid_auto_rows": null,
       "grid_column": null,
       "grid_gap": null,
       "grid_row": null,
       "grid_template_areas": null,
       "grid_template_columns": null,
       "grid_template_rows": null,
       "height": null,
       "justify_content": null,
       "justify_items": null,
       "left": null,
       "margin": null,
       "max_height": null,
       "max_width": null,
       "min_height": null,
       "min_width": null,
       "object_fit": null,
       "object_position": null,
       "order": null,
       "overflow": null,
       "padding": null,
       "right": null,
       "top": null,
       "visibility": null,
       "width": null
      }
     }
    },
    "version_major": 2,
    "version_minor": 0
   }
  }
 },
 "nbformat": 4,
 "nbformat_minor": 5
}