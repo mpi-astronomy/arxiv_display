{
 "cells": [
  {
   "cell_type": "markdown",
   "id": "92bcb855",
   "metadata": {
    "papermill": {
     "duration": 0.005077,
     "end_time": "2023-03-09T12:53:51.261758",
     "exception": false,
     "start_time": "2023-03-09T12:53:51.256681",
     "status": "completed"
    },
    "tags": []
   },
   "source": [
    "# MPIA Arxiv on Deck 2\n",
    "\n",
    "Contains the steps to produce the paper extractions."
   ]
  },
  {
   "cell_type": "code",
   "execution_count": 1,
   "id": "3a0d6e11",
   "metadata": {
    "execution": {
     "iopub.execute_input": "2023-03-09T12:53:51.270520Z",
     "iopub.status.busy": "2023-03-09T12:53:51.270001Z",
     "iopub.status.idle": "2023-03-09T12:53:51.503486Z",
     "shell.execute_reply": "2023-03-09T12:53:51.502737Z"
    },
    "papermill": {
     "duration": 0.24046,
     "end_time": "2023-03-09T12:53:51.505912",
     "exception": false,
     "start_time": "2023-03-09T12:53:51.265452",
     "status": "completed"
    },
    "tags": []
   },
   "outputs": [],
   "source": [
    "# Imports\n",
    "import os\n",
    "from IPython.display import Markdown, display\n",
    "from tqdm.notebook import tqdm\n",
    "import warnings\n",
    "from PIL import Image \n",
    "\n",
    "# requires arxiv_on_deck_2\n",
    "\n",
    "from arxiv_on_deck_2.arxiv2 import (get_new_papers, \n",
    "                                    get_paper_from_identifier,\n",
    "                                    retrieve_document_source, \n",
    "                                    get_markdown_badge)\n",
    "from arxiv_on_deck_2 import (latex,\n",
    "                             latex_bib,\n",
    "                             mpia,\n",
    "                             highlight_authors_in_list)\n",
    "\n",
    "# Sometimes images are really big\n",
    "Image.MAX_IMAGE_PIXELS = 1000000000 "
   ]
  },
  {
   "cell_type": "code",
   "execution_count": 2,
   "id": "22aa9d44",
   "metadata": {
    "execution": {
     "iopub.execute_input": "2023-03-09T12:53:51.514575Z",
     "iopub.status.busy": "2023-03-09T12:53:51.514157Z",
     "iopub.status.idle": "2023-03-09T12:53:51.520333Z",
     "shell.execute_reply": "2023-03-09T12:53:51.519660Z"
    },
    "papermill": {
     "duration": 0.012224,
     "end_time": "2023-03-09T12:53:51.521930",
     "exception": false,
     "start_time": "2023-03-09T12:53:51.509706",
     "status": "completed"
    },
    "tags": []
   },
   "outputs": [],
   "source": [
    "# Some useful definitions.\n",
    "\n",
    "class AffiliationWarning(UserWarning):\n",
    "    pass\n",
    "\n",
    "class AffiliationError(RuntimeError):\n",
    "    pass\n",
    "\n",
    "def validation(source: str):\n",
    "    \"\"\"Raises error paper during parsing of source file\n",
    "    \n",
    "    Allows checks before parsing TeX code.\n",
    "    \n",
    "    Raises AffiliationWarning\n",
    "    \"\"\"\n",
    "    check = mpia.affiliation_verifications(source, verbose=True)\n",
    "    if check is not True:\n",
    "        raise AffiliationError(\"mpia.affiliation_verifications: \" + check)\n",
    "\n",
    "        \n",
    "warnings.simplefilter('always', AffiliationWarning)"
   ]
  },
  {
   "cell_type": "code",
   "execution_count": 3,
   "id": "14622700",
   "metadata": {
    "execution": {
     "iopub.execute_input": "2023-03-09T12:53:51.529991Z",
     "iopub.status.busy": "2023-03-09T12:53:51.529413Z",
     "iopub.status.idle": "2023-03-09T12:53:51.533300Z",
     "shell.execute_reply": "2023-03-09T12:53:51.532667Z"
    },
    "papermill": {
     "duration": 0.009672,
     "end_time": "2023-03-09T12:53:51.534929",
     "exception": false,
     "start_time": "2023-03-09T12:53:51.525257",
     "status": "completed"
    },
    "tags": []
   },
   "outputs": [],
   "source": [
    "# additional CSS to consider. \n",
    "# TODO: Current into each exported file. \n",
    "#       This should be set once into the webpages directly.\n",
    "#       With only the class/id definitions in the .md files.\n",
    "\n",
    "debug_html = \"\"\"\n",
    "<style>\n",
    "#wrap{ overflow:auto; }\n",
    "#fig1{ background:yellow; width:100%; float:left; padding:5px;  }\n",
    "#fig2{ background:red; width:50%; float:left; clear:left; padding:5px;  }\n",
    "#fig3{ background:green; width:50%; float:left; padding:5px;   }\n",
    ".macros{ background:yellow; visibility:visible;}\n",
    "h1 {margin: 0 0 0 0;}\n",
    "mark {background-color:#fff3b6;}\n",
    "img {object-fit:contain; max-height:250px; display:inline-block; text-align: center;}\n",
    "</style>\n",
    "\"\"\" \n",
    "html = \"\"\"\n",
    "<style>\n",
    "#wrap{ overflow:auto; }\n",
    "#fig1{ width:100%; float:left; padding: 5px;  }\n",
    "#fig2{ width:50%; float:left; clear:left; padding: 5px;  }\n",
    "#fig3{ width:50%; float:left; padding: 5px;  }\n",
    ".macros{ visibility:hidden; height:0px; }\n",
    "h1 {margin: 0em 0 0 0;}\n",
    "mark {background-color:#fff3b6;}\n",
    "img {object-fit:contain; max-height:250px; display:inline-block; text-align: center;}\n",
    "</style>\n",
    "\"\"\""
   ]
  },
  {
   "cell_type": "markdown",
   "id": "14bd6310",
   "metadata": {
    "papermill": {
     "duration": 0.003279,
     "end_time": "2023-03-09T12:53:51.541582",
     "exception": false,
     "start_time": "2023-03-09T12:53:51.538303",
     "status": "completed"
    },
    "tags": []
   },
   "source": [
    "## get list of arxiv paper candidates\n",
    "\n",
    "We use the MPIA mitarbeiter list webpage from mpia.de to get author names\n",
    "We then get all new papers from Arxiv and match authors"
   ]
  },
  {
   "cell_type": "code",
   "execution_count": 4,
   "id": "2645e73a",
   "metadata": {
    "execution": {
     "iopub.execute_input": "2023-03-09T12:53:51.549830Z",
     "iopub.status.busy": "2023-03-09T12:53:51.549257Z",
     "iopub.status.idle": "2023-03-09T12:54:15.558596Z",
     "shell.execute_reply": "2023-03-09T12:54:15.557701Z"
    },
    "papermill": {
     "duration": 24.015507,
     "end_time": "2023-03-09T12:54:15.560392",
     "exception": false,
     "start_time": "2023-03-09T12:53:51.544885",
     "status": "completed"
    },
    "tags": []
   },
   "outputs": [
    {
     "name": "stdout",
     "output_type": "stream",
     "text": [
      "Arxiv has 47 new papers today\n",
      "          8 with possible author matches\n"
     ]
    }
   ],
   "source": [
    "# get list from MPIA website\n",
    "# it automatically filters identified non-scientists :func:`mpia.filter_non_scientists`\n",
    "mpia_authors = mpia.get_mpia_mitarbeiter_list()\n",
    "new_papers = get_new_papers()\n",
    "# add manual references\n",
    "add_paper_refs = []\n",
    "new_papers.extend([get_paper_from_identifier(k) for k in add_paper_refs])\n",
    "\n",
    "# select only papers with matching author names and highlight authors\n",
    "hl_list = [k[0] for k in mpia_authors]\n",
    "\n",
    "candidates = []\n",
    "for paperk in new_papers:\n",
    "    hl_authors = highlight_authors_in_list(paperk['authors'], hl_list)\n",
    "    matches = [(hl, orig) for hl, orig in zip(hl_authors, paperk['authors']) if 'mark' in hl]\n",
    "    paperk['authors'] = hl_authors\n",
    "    if matches:\n",
    "        candidates.append(paperk)\n",
    "print(\"\"\"Arxiv has {0:,d} new papers today\"\"\".format(len(new_papers)))        \n",
    "print(\"\"\"          {0:,d} with possible author matches\"\"\".format(len(candidates)))"
   ]
  },
  {
   "cell_type": "markdown",
   "id": "3543b34a",
   "metadata": {
    "papermill": {
     "duration": 0.003795,
     "end_time": "2023-03-09T12:54:15.568639",
     "exception": false,
     "start_time": "2023-03-09T12:54:15.564844",
     "status": "completed"
    },
    "tags": []
   },
   "source": [
    "# Parse sources and generate relevant outputs\n",
    "\n",
    "From the candidates, we do the following steps:\n",
    "* get their tarball from ArXiv (and extract data)\n",
    "* find the main .tex file: find one with \\documentclass{...} (sometimes it's non trivial)\n",
    "* Check affiliations with :func:`validation`, which uses :func:`mpia.affiliation_verifications`\n",
    "* If passing the affiliations: we parse the .tex source\n",
    "   * inject sub-documents into the main (flatten the main document)\n",
    "   * parse structure, extract information (title, abstract, authors, figures...)\n",
    "   * handles `\\graphicspath` if provided\n",
    "* Generate the .md document."
   ]
  },
  {
   "cell_type": "code",
   "execution_count": 5,
   "id": "9576b79e",
   "metadata": {
    "execution": {
     "iopub.execute_input": "2023-03-09T12:54:15.577043Z",
     "iopub.status.busy": "2023-03-09T12:54:15.576609Z",
     "iopub.status.idle": "2023-03-09T12:57:12.743994Z",
     "shell.execute_reply": "2023-03-09T12:57:12.743201Z"
    },
    "papermill": {
     "duration": 177.18018,
     "end_time": "2023-03-09T12:57:12.752238",
     "exception": false,
     "start_time": "2023-03-09T12:54:15.572058",
     "status": "completed"
    },
    "scrolled": false,
    "tags": []
   },
   "outputs": [
    {
     "data": {
      "application/vnd.jupyter.widget-view+json": {
       "model_id": "2b37d061a4844a2baba6dc7df639c794",
       "version_major": 2,
       "version_minor": 0
      },
      "text/plain": [
       "  0%|          | 0/7 [00:00<?, ?it/s]"
      ]
     },
     "metadata": {},
     "output_type": "display_data"
    },
    {
     "name": "stdout",
     "output_type": "stream",
     "text": [
      "Retrieving document from  https://arxiv.org/e-print/2303.04157\n"
     ]
    },
    {
     "name": "stdout",
     "output_type": "stream",
     "text": [
      "extracting tarball to tmp_2303.04157..."
     ]
    },
    {
     "name": "stdout",
     "output_type": "stream",
     "text": [
      " done.\n"
     ]
    },
    {
     "name": "stderr",
     "output_type": "stream",
     "text": [
      "/opt/hostedtoolcache/Python/3.9.16/x64/lib/python3.9/site-packages/IPython/core/interactiveshell.py:3460: LatexWarning: Multiple tex files.\n",
      "\n",
      "  exec(code_obj, self.user_global_ns, self.user_ns)\n",
      "/opt/hostedtoolcache/Python/3.9.16/x64/lib/python3.9/site-packages/IPython/core/interactiveshell.py:3460: LatexWarning: Found documentclass in tmp_2303.04157/h4dev.tex\n",
      "\n",
      "  exec(code_obj, self.user_global_ns, self.user_ns)\n",
      "/opt/hostedtoolcache/Python/3.9.16/x64/lib/python3.9/site-packages/arxiv_on_deck_2/latex.py:359: LatexWarning: Latex injecting: 'app_sel' from 'tmp_2303.04157/app_sel.tex'\n",
      "  warnings.warn(LatexWarning(f\"Latex injecting: '{ext}' from '{subsource}'\"))\n",
      "/opt/hostedtoolcache/Python/3.9.16/x64/lib/python3.9/site-packages/arxiv_on_deck_2/latex.py:359: LatexWarning: Latex injecting: 'app_agebias' from 'tmp_2303.04157/app_agebias.tex'\n",
      "  warnings.warn(LatexWarning(f\"Latex injecting: '{ext}' from '{subsource}'\"))\n",
      "/opt/hostedtoolcache/Python/3.9.16/x64/lib/python3.9/site-packages/arxiv_on_deck_2/latex.py:359: LatexWarning: Latex injecting: 'app_libbias' from 'tmp_2303.04157/app_libbias.tex'\n",
      "  warnings.warn(LatexWarning(f\"Latex injecting: '{ext}' from '{subsource}'\"))\n",
      "/opt/hostedtoolcache/Python/3.9.16/x64/lib/python3.9/site-packages/arxiv_on_deck_2/latex.py:359: LatexWarning: Latex injecting: 'app_emlsub' from 'tmp_2303.04157/app_emlsub.tex'\n",
      "  warnings.warn(LatexWarning(f\"Latex injecting: '{ext}' from '{subsource}'\"))\n",
      "/opt/hostedtoolcache/Python/3.9.16/x64/lib/python3.9/site-packages/arxiv_on_deck_2/latex.py:359: LatexWarning: Latex injecting: 'table_main' from 'tmp_2303.04157/table_main.tex'\n",
      "  warnings.warn(LatexWarning(f\"Latex injecting: '{ext}' from '{subsource}'\"))\n",
      "/opt/hostedtoolcache/Python/3.9.16/x64/lib/python3.9/site-packages/arxiv_on_deck_2/latex.py:359: LatexWarning: Latex injecting: 'table_sfq' from 'tmp_2303.04157/table_sfq.tex'\n",
      "  warnings.warn(LatexWarning(f\"Latex injecting: '{ext}' from '{subsource}'\"))\n",
      "/opt/hostedtoolcache/Python/3.9.16/x64/lib/python3.9/site-packages/arxiv_on_deck_2/latex.py:359: LatexWarning: Latex injecting: 'table_model' from 'tmp_2303.04157/table_model.tex'\n",
      "  warnings.warn(LatexWarning(f\"Latex injecting: '{ext}' from '{subsource}'\"))\n"
     ]
    },
    {
     "name": "stderr",
     "output_type": "stream",
     "text": [
      "/opt/hostedtoolcache/Python/3.9.16/x64/lib/python3.9/site-packages/arxiv_on_deck_2/latex.py:120: LatexWarning: attempting recovering figure f.tmods.models.b\n",
      "  warnings.warn(LatexWarning(f'attempting recovering figure {image}'))\n",
      "/tmp/ipykernel_2005/4289671964.py:41: LatexWarning: 2303.04157 did not run properly\n",
      "Could not find figure f.tmods.models.b\n",
      "  warnings.warn(latex.LatexWarning(f\"{paper_id:s} did not run properly\\n\" +\n"
     ]
    },
    {
     "name": "stdout",
     "output_type": "stream",
     "text": [
      "Retrieving document from  https://arxiv.org/e-print/2303.04180\n"
     ]
    },
    {
     "name": "stdout",
     "output_type": "stream",
     "text": [
      "extracting tarball to tmp_2303.04180..."
     ]
    },
    {
     "name": "stdout",
     "output_type": "stream",
     "text": [
      " done.\n",
      "Retrieving document from  https://arxiv.org/e-print/2303.04184\n"
     ]
    },
    {
     "name": "stderr",
     "output_type": "stream",
     "text": [
      "/opt/hostedtoolcache/Python/3.9.16/x64/lib/python3.9/site-packages/IPython/core/interactiveshell.py:3460: LatexWarning: Multiple tex files.\n",
      "\n",
      "  exec(code_obj, self.user_global_ns, self.user_ns)\n",
      "/opt/hostedtoolcache/Python/3.9.16/x64/lib/python3.9/site-packages/IPython/core/interactiveshell.py:3460: LatexWarning: Found documentclass in tmp_2303.04180/main.tex\n",
      "\n",
      "  exec(code_obj, self.user_global_ns, self.user_ns)\n",
      "/opt/hostedtoolcache/Python/3.9.16/x64/lib/python3.9/site-packages/arxiv_on_deck_2/latex.py:359: LatexWarning: Latex injecting: 'authors' from 'tmp_2303.04180/authors.tex'\n",
      "  warnings.warn(LatexWarning(f\"Latex injecting: '{ext}' from '{subsource}'\"))\n"
     ]
    },
    {
     "name": "stdout",
     "output_type": "stream",
     "text": [
      "extracting tarball to tmp_2303.04184..."
     ]
    },
    {
     "name": "stdout",
     "output_type": "stream",
     "text": [
      " done.\n",
      "Retrieving document from  https://arxiv.org/e-print/2303.04412\n"
     ]
    },
    {
     "name": "stderr",
     "output_type": "stream",
     "text": [
      "/opt/hostedtoolcache/Python/3.9.16/x64/lib/python3.9/site-packages/IPython/core/interactiveshell.py:3460: LatexWarning: Multiple tex files.\n",
      "\n",
      "  exec(code_obj, self.user_global_ns, self.user_ns)\n",
      "/opt/hostedtoolcache/Python/3.9.16/x64/lib/python3.9/site-packages/IPython/core/interactiveshell.py:3460: LatexWarning: Found documentclass in tmp_2303.04184/mnras_template.tex\n",
      "\n",
      "  exec(code_obj, self.user_global_ns, self.user_ns)\n"
     ]
    },
    {
     "name": "stdout",
     "output_type": "stream",
     "text": [
      "extracting tarball to tmp_2303.04412..."
     ]
    },
    {
     "name": "stdout",
     "output_type": "stream",
     "text": [
      " done.\n",
      "Retrieving document from  https://arxiv.org/e-print/2303.04421\n"
     ]
    },
    {
     "name": "stderr",
     "output_type": "stream",
     "text": [
      "/opt/hostedtoolcache/Python/3.9.16/x64/lib/python3.9/site-packages/IPython/core/interactiveshell.py:3460: LatexWarning: Multiple tex files.\n",
      "\n",
      "  exec(code_obj, self.user_global_ns, self.user_ns)\n",
      "/opt/hostedtoolcache/Python/3.9.16/x64/lib/python3.9/site-packages/IPython/core/interactiveshell.py:3460: LatexWarning: Found documentclass in tmp_2303.04412/mnras_template.tex\n",
      "\n",
      "  exec(code_obj, self.user_global_ns, self.user_ns)\n"
     ]
    },
    {
     "name": "stdout",
     "output_type": "stream",
     "text": [
      "extracting tarball to tmp_2303.04421..."
     ]
    },
    {
     "name": "stdout",
     "output_type": "stream",
     "text": [
      " done.\n",
      "Retrieving document from  https://arxiv.org/e-print/2303.04726\n"
     ]
    },
    {
     "name": "stderr",
     "output_type": "stream",
     "text": [
      "/opt/hostedtoolcache/Python/3.9.16/x64/lib/python3.9/site-packages/IPython/core/interactiveshell.py:3460: LatexWarning: Multiple tex files.\n",
      "\n",
      "  exec(code_obj, self.user_global_ns, self.user_ns)\n",
      "/opt/hostedtoolcache/Python/3.9.16/x64/lib/python3.9/site-packages/IPython/core/interactiveshell.py:3460: LatexWarning: Found documentclass in tmp_2303.04421/galaxies.tex\n",
      "\n",
      "  exec(code_obj, self.user_global_ns, self.user_ns)\n"
     ]
    },
    {
     "name": "stdout",
     "output_type": "stream",
     "text": [
      "extracting tarball to tmp_2303.04726..."
     ]
    },
    {
     "name": "stdout",
     "output_type": "stream",
     "text": [
      " done.\n",
      "Retrieving document from  https://arxiv.org/e-print/2303.04727\n"
     ]
    },
    {
     "name": "stdout",
     "output_type": "stream",
     "text": [
      "extracting tarball to tmp_2303.04727..."
     ]
    },
    {
     "name": "stdout",
     "output_type": "stream",
     "text": [
      " done.\n"
     ]
    },
    {
     "name": "stderr",
     "output_type": "stream",
     "text": [
      "/opt/hostedtoolcache/Python/3.9.16/x64/lib/python3.9/site-packages/IPython/core/interactiveshell.py:3460: LatexWarning: Multiple tex files.\n",
      "\n",
      "  exec(code_obj, self.user_global_ns, self.user_ns)\n",
      "/opt/hostedtoolcache/Python/3.9.16/x64/lib/python3.9/site-packages/IPython/core/interactiveshell.py:3460: LatexWarning: Found documentclass in tmp_2303.04727/aanda.tex\n",
      "\n",
      "  exec(code_obj, self.user_global_ns, self.user_ns)\n",
      "/opt/hostedtoolcache/Python/3.9.16/x64/lib/python3.9/site-packages/arxiv_on_deck_2/latex.py:359: LatexWarning: Latex injecting: 'Tables/Bond_Albedo_Table' from 'tmp_2303.04727/Tables/Bond_Albedo_Table.tex'\n",
      "  warnings.warn(LatexWarning(f\"Latex injecting: '{ext}' from '{subsource}'\"))\n",
      "/opt/hostedtoolcache/Python/3.9.16/x64/lib/python3.9/site-packages/arxiv_on_deck_2/latex.py:359: LatexWarning: Latex injecting: 'Tables/LIFEreq_Baye' from 'tmp_2303.04727/Tables/LIFEreq_Baye.tex'\n",
      "  warnings.warn(LatexWarning(f\"Latex injecting: '{ext}' from '{subsource}'\"))\n",
      "/opt/hostedtoolcache/Python/3.9.16/x64/lib/python3.9/site-packages/arxiv_on_deck_2/latex.py:359: LatexWarning: Latex injecting: 'Tables/Jeffrey_Scale' from 'tmp_2303.04727/Tables/Jeffrey_Scale.tex'\n",
      "  warnings.warn(LatexWarning(f\"Latex injecting: '{ext}' from '{subsource}'\"))\n",
      "/opt/hostedtoolcache/Python/3.9.16/x64/lib/python3.9/site-packages/arxiv_on_deck_2/latex.py:359: LatexWarning: Latex injecting: 'Tables/Opacities_Table2' from 'tmp_2303.04727/Tables/Opacities_Table2.tex'\n",
      "  warnings.warn(LatexWarning(f\"Latex injecting: '{ext}' from '{subsource}'\"))\n",
      "/opt/hostedtoolcache/Python/3.9.16/x64/lib/python3.9/site-packages/arxiv_on_deck_2/latex.py:359: LatexWarning: Latex injecting: 'Tables/Opacities_Table' from 'tmp_2303.04727/Tables/Opacities_Table.tex'\n",
      "  warnings.warn(LatexWarning(f\"Latex injecting: '{ext}' from '{subsource}'\"))\n",
      "/opt/hostedtoolcache/Python/3.9.16/x64/lib/python3.9/site-packages/arxiv_on_deck_2/latex.py:359: LatexWarning: Latex injecting: 'Tables/Retrieval_input' from 'tmp_2303.04727/Tables/Retrieval_input.tex'\n",
      "  warnings.warn(LatexWarning(f\"Latex injecting: '{ext}' from '{subsource}'\"))\n",
      "/opt/hostedtoolcache/Python/3.9.16/x64/lib/python3.9/site-packages/arxiv_on_deck_2/latex.py:359: LatexWarning: Latex injecting: 'commands' from 'tmp_2303.04727/commands.tex'\n",
      "  warnings.warn(LatexWarning(f\"Latex injecting: '{ext}' from '{subsource}'\"))\n"
     ]
    },
    {
     "name": "stderr",
     "output_type": "stream",
     "text": [
      "/opt/hostedtoolcache/Python/3.9.16/x64/lib/python3.9/site-packages/arxiv_on_deck_2/latex.py:433: LatexWarning: Error parsing the document directly. Trying to recover.\n",
      "  warnings.warn(LatexWarning(f\"Error parsing the document directly. Trying to recover.\"))\n"
     ]
    },
    {
     "name": "stdout",
     "output_type": "stream",
     "text": [
      "✔ → 0:header\n",
      "  ↳ 7085:\\section{Introduction}\n"
     ]
    },
    {
     "name": "stdout",
     "output_type": "stream",
     "text": [
      "✔ → 7085:\\section{Introduction}\n",
      "  ↳ 14750:\\section{Methods}\\label{sec:Methods}\n"
     ]
    },
    {
     "name": "stdout",
     "output_type": "stream",
     "text": [
      "✘ → 14750:\\section{Methods}\\label{sec:Methods}\n",
      "  ↳ 44425:\\section{Retrieval results}\\label{sec:results}\n"
     ]
    },
    {
     "name": "stdout",
     "output_type": "stream",
     "text": [
      "✔ → 44425:\\section{Retrieval results}\\label{sec:results}\n",
      "  ↳ 65319:\\section{Discussion}\\label{sec:discussion}\n"
     ]
    },
    {
     "name": "stdout",
     "output_type": "stream",
     "text": [
      "✔ → 65319:\\section{Discussion}\\label{sec:discussion}\n",
      "  ↳ 90925:\\section{Conclusions and outlook}\\label{sec:conclusion}\n",
      "✔ → 90925:\\section{Conclusions and outlook}\\label{sec:conclusion}\n",
      "  ↳ 95364:\\begin{appendix}\n",
      "✔ → 95364:\\begin{appendix}\n",
      "  ↳ 95381:\\section{Cloud retrieval validation}\\label{sec:validation}\n"
     ]
    },
    {
     "name": "stdout",
     "output_type": "stream",
     "text": [
      "✔ → 95381:\\section{Cloud retrieval validation}\\label{sec:validation}\n",
      "  ↳ 103682:\\section{Equilibrium temperature and Bond albedo}\\label{sec:albedo_calc}\n",
      "✘ → 103682:\\section{Equilibrium temperature and Bond albedo}\\label{sec:albedo_calc}\n",
      "  ↳ 106102:\\section{Additional plots for retrieval results}\\label{app:corners}\n"
     ]
    },
    {
     "name": "stdout",
     "output_type": "stream",
     "text": [
      "✔ → 106102:\\section{Additional plots for retrieval results}\\label{app:corners}\n",
      "  ↳ 114276:\\section{Supplementary results from retrievals on higher quality input spectra}\\label{app:extended_retrievals}\n"
     ]
    },
    {
     "name": "stdout",
     "output_type": "stream",
     "text": [
      "✔ → 114276:\\section{Supplementary results from retrievals on higher quality input spectra}\\label{app:extended_retrievals}\n",
      "  ↳ 121913:\\section{Cloudy vs. icy scenario - comparison of absolute fluxes}\\label{app:abs_flux_comp}\n",
      "✔ → 121913:\\section{Cloudy vs. icy scenario - comparison of absolute fluxes}\\label{app:abs_flux_comp}\n",
      "  ↳ 124034:end\n"
     ]
    },
    {
     "name": "stdout",
     "output_type": "stream",
     "text": [
      "Found 97 bibliographic references in tmp_2303.04727/aanda.bbl.\n",
      "syntax error in line 95: '=' expected\n"
     ]
    }
   ],
   "source": [
    "documents = []\n",
    "failed = []\n",
    "for paper in tqdm(candidates[:-1]):\n",
    "    paper_id = paper['identifier'].lower().replace('arxiv:', '')\n",
    "    \n",
    "    folder = f'tmp_{paper_id}'\n",
    "\n",
    "    try:\n",
    "        if not os.path.isdir(folder):\n",
    "            folder = retrieve_document_source(f\"{paper_id}\", f'tmp_{paper_id}')\n",
    "        \n",
    "        try:\n",
    "            doc = latex.LatexDocument(folder, validation=validation)    \n",
    "        except AffiliationError as affilerror:\n",
    "            msg = f\"ArXiv:{paper_id:s} is not an MPIA paper... \" + str(affilerror)\n",
    "            failed.append((paper, \"affiliation error: \" + str(affilerror) ))\n",
    "            continue\n",
    "        \n",
    "        # Hack because sometimes author parsing does not work well\n",
    "        if (len(doc.authors) != len(paper['authors'])):\n",
    "            doc._authors = paper['authors']\n",
    "        if (doc.abstract) in (None, ''):\n",
    "            doc._abstract = paper['abstract']\n",
    "            \n",
    "        doc.comment = (get_markdown_badge(paper_id) + \n",
    "                       \"<mark>Appeared on: \" + paper['date'] + \"</mark> - \" +\n",
    "                       \"_\" + paper['comments'] + \"_\")\n",
    "        doc.highlight_authors_in_list(hl_list)\n",
    "\n",
    "        full_md = doc.generate_markdown_text()\n",
    "        \n",
    "        # replace citations\n",
    "        try:\n",
    "            bibdata = latex_bib.LatexBib.from_doc(doc)\n",
    "            full_md = latex_bib.replace_citations(full_md, bibdata)\n",
    "        except Exception as e:\n",
    "            print(e)\n",
    "        \n",
    "        documents.append((paper_id, full_md))\n",
    "    except Exception as e:\n",
    "        warnings.warn(latex.LatexWarning(f\"{paper_id:s} did not run properly\\n\" +\n",
    "                                         str(e)\n",
    "                                        ))\n",
    "        failed.append((paper, \"latex error \" + str(e)))"
   ]
  },
  {
   "cell_type": "markdown",
   "id": "2505a25c",
   "metadata": {
    "papermill": {
     "duration": 0.005386,
     "end_time": "2023-03-09T12:57:12.763184",
     "exception": false,
     "start_time": "2023-03-09T12:57:12.757798",
     "status": "completed"
    },
    "tags": []
   },
   "source": [
    "### Export the logs\n",
    "\n",
    "Throughout, we also keep track of the logs per paper. see `logs-{today date}.md` "
   ]
  },
  {
   "cell_type": "code",
   "execution_count": 6,
   "id": "d733828a",
   "metadata": {
    "execution": {
     "iopub.execute_input": "2023-03-09T12:57:12.776264Z",
     "iopub.status.busy": "2023-03-09T12:57:12.775671Z",
     "iopub.status.idle": "2023-03-09T12:57:12.799836Z",
     "shell.execute_reply": "2023-03-09T12:57:12.799088Z"
    },
    "papermill": {
     "duration": 0.035322,
     "end_time": "2023-03-09T12:57:12.803890",
     "exception": false,
     "start_time": "2023-03-09T12:57:12.768568",
     "status": "completed"
    },
    "scrolled": false,
    "tags": []
   },
   "outputs": [
    {
     "data": {
      "text/markdown": [
       "## Successful papers"
      ],
      "text/plain": [
       "<IPython.core.display.Markdown object>"
      ]
     },
     "metadata": {},
     "output_type": "display_data"
    },
    {
     "data": {
      "text/markdown": [
       "\n",
       "|||\n",
       "|---:|:---|\n",
       "| [![arXiv](https://img.shields.io/badge/arXiv-arXiv:2303.04727-b31b1b.svg)](https://arxiv.org/abs/arXiv:2303.04727) | **Large Interferometer For Exoplanets (LIFE): X. Assessing the Impact of  Clouds on Atmospheric Retrievals at Mid-Infrared Wavelengths with a  Venus-Twin Exoplanet**  |\n",
       "|| B. S. Konrad, et al. -- incl., <mark>P. Mollière</mark> |\n",
       "|*Appeared on*| *2023-03-09*|\n",
       "|*Comments*| *Re-submitted to A&A after a first iteration with referee; 15 pages (main text incl. 8 figures and 6 tables) + appendix; comments are welcome. This paper is part of a series on the LIFE telescope. Related series papers: arXiv:2101.07500, arXiv:2203.00471, arXiv:2112.02054, arXiv:2204.10041*|\n",
       "|**Abstract**| The Large Interferometer For Exoplanets (LIFE) initiative aims to develop a space based mid-infrared (MIR) nulling interferometer to measure the thermal emission spectra of temperate terrestrial exoplanets. We investigate how well LIFE could characterize a cloudy Venus-twin exoplanet to: (1) test our retrieval routine on a realistic non-Earth-like MIR spectrum of a known planet, (2) investigate how clouds impact retrievals, (3) refine the LIFE requirements derived in previous Earth-centered studies. We run retrievals for simulated LIFE observations of a Venus-twin exoplanet orbiting a Sun-like star located 10 pc from the observer. By assuming different models (cloudy and cloud-free) we analyze the performance as a function of the quality of the LIFE observation. This allows us to determine how well atmosphere and clouds are characterizable depending on the quality of the spectrum. Our study shows that the current minimal resolution ($R=50$) and signal-to-noise ($S/N=10$ at $11.2\\mu$m) requirements for LIFE suffice to characterize the structure and composition of a Venus-like atmosphere above the cloud deck if an adequate model is chosen. However, we cannot infer cloud properties. The accuracy of the retrieved planet radius ($R_{pl}$), equilibrium temperature ($T_{eq}$), and Bond albedo ($A_B$) depend on the choice of model. Generally, a cloud-free model performs best and thus the presence of clouds cannot be inferred. This model dependence of retrieval results emphasizes the importance of developing a community-wide best-practice for atmospheric retrieval studies. If we consider higher quality spectra (especially $S/N=20$), we can infer the presence of clouds and pose first constraints on their structure. |"
      ],
      "text/plain": [
       "[arXiv:2303.04727] Large Interferometer For Exoplanets (LIFE): X. Assessing the Impact of  Clouds on Atmospheric Retrievals at Mid-Infrared Wavelengths with a  Venus-Twin Exoplanet\n",
       "\tB. S. Konrad, et al. -- incl., <mark>P. Mollière</mark>"
      ]
     },
     "metadata": {},
     "output_type": "display_data"
    },
    {
     "data": {
      "text/markdown": [
       "## Failed papers"
      ],
      "text/plain": [
       "<IPython.core.display.Markdown object>"
      ]
     },
     "metadata": {},
     "output_type": "display_data"
    },
    {
     "data": {
      "text/markdown": [
       "\n",
       "|||\n",
       "|---:|:---|\n",
       "| [![arXiv](https://img.shields.io/badge/arXiv-arXiv:2303.04180-b31b1b.svg)](https://arxiv.org/abs/arXiv:2303.04180) | **The Atacama Cosmology Telescope: Map-Based Noise Simulations for DR6**  |\n",
       "|| Zachary Atkins, et al. -- incl., <mark>Frank J. Qu</mark>, <mark>Zack Li</mark> |\n",
       "|*Appeared on*| *2023-03-09*|\n",
       "|*Comments*| *41 pages (+10 appendix), 22 figures (+5 appendix), submitted to JCAP*|\n",
       "|**Abstract**| The increasing statistical power of cosmic microwave background (CMB) datasets requires a commensurate effort in understanding their noise properties. The noise in maps from ground-based instruments is dominated by large-scale correlations, which poses a modeling challenge. This paper develops novel models of the complex noise covariance structure in the Atacama Cosmology Telescope Data Release 6 (ACT DR6) maps. We first enumerate the noise properties that arise from the combination of the atmosphere and the ACT scan strategy. We then prescribe a class of Gaussian, map-based noise models, including a new wavelet-based approach that uses directional wavelet kernels for modeling correlated instrumental noise. The models are empirical, whose only inputs are a small number of independent realizations of the same region of sky. We evaluate the performance of these models against the ACT DR6 data by drawing ensembles of noise realizations. Applying these simulations to the ACT DR6 power spectrum pipeline reveals a $\\sim 20\\%$ excess in the covariance matrix diagonal when compared to an analytic expression that assumes noise properties are uniquely described by their power spectrum. Along with our public code, $\\mathtt{mnms}$, this work establishes a necessary element in the science pipelines of both ACT DR6 and future ground-based CMB experiments such as the Simons Observatory (SO). |\n",
       "|<p style=\"color:green\"> **ERROR** </p>| <p style=\"color:green\">affiliation error: mpia.affiliation_verifications: 'Heidelberg' keyword not found.</p> |"
      ],
      "text/plain": [
       "<IPython.core.display.Markdown object>"
      ]
     },
     "metadata": {},
     "output_type": "display_data"
    },
    {
     "data": {
      "text/markdown": [
       "\n",
       "|||\n",
       "|---:|:---|\n",
       "| [![arXiv](https://img.shields.io/badge/arXiv-arXiv:2303.04184-b31b1b.svg)](https://arxiv.org/abs/arXiv:2303.04184) | **A candidate magnetic helium core white dwarf in the globular cluster NGC  6397**  |\n",
       "|| Manuel Pichardo Marcano, et al. -- incl., <mark>Leandro G. Althaus</mark> |\n",
       "|*Appeared on*| *2023-03-09*|\n",
       "|*Comments*| *Accepted for publication in MNRAS*|\n",
       "|**Abstract**| We report a peculiar variable blue star in the globular cluster NGC 6397, using Hubble Space Telescope optical imaging. Its position in the colour-magnitude diagrams, and its spectrum, are consistent with this star being a helium core white dwarf (He WD) in a binary system. The optical light curve shows a periodicity at 18.5 hours. We argue that this periodicity is due to the rotation of the WD and possibly due to magnetic spots on the surface of the WD. This would make this object the first candidate magnetic He WD in any globular cluster (GC), and the first candidate magnetic WD in a detached binary system in any GC and one of the few He WDs with a known rotation period and of magnetic nature. Another possibility is that this system is a He WD in a binary system with another WD or another degenerate object, which would make this object one of the few candidate non-accreting double degenerate binaries in any GC. |\n",
       "|<p style=\"color:green\"> **ERROR** </p>| <p style=\"color:green\">affiliation error: mpia.affiliation_verifications: 'Heidelberg' keyword not found.</p> |"
      ],
      "text/plain": [
       "<IPython.core.display.Markdown object>"
      ]
     },
     "metadata": {},
     "output_type": "display_data"
    },
    {
     "data": {
      "text/markdown": [
       "\n",
       "|||\n",
       "|---:|:---|\n",
       "| [![arXiv](https://img.shields.io/badge/arXiv-arXiv:2303.04412-b31b1b.svg)](https://arxiv.org/abs/arXiv:2303.04412) | **Multiwavelength observations of the extraordinary accretion event  AT2021lwx**  |\n",
       "|| P. Wiseman, et al. -- incl., <mark>T. E. Müller-Bravo</mark>, <mark>K. Smith</mark>, <mark>M. Smith</mark>, <mark>M. Huber</mark> |\n",
       "|*Appeared on*| *2023-03-09*|\n",
       "|*Comments*| *11 pages, 5 figures, submitted to MNRAS*|\n",
       "|**Abstract**| We present observations from X-ray to mid-infrared wavelengths of the most energetic non-quasar transient ever observed, AT2021lwx. Our data show a single optical brightening by a factor $>100$ to a luminosity of $7\\times10^{45}$ erg s$^{-1}$, and a total radiated energy of $1.5\\times10^{53}$ erg, both greater than any known optical transient. The decline is smooth and exponential and the ultra-violet - optical spectral energy distribution resembles a black body with temperature $1.2\\times10^4$ K. Tentative X-ray detections indicate a secondary mode of emission, while a delayed mid-infrared flare points to the presence of dust surrounding the transient. The spectra are similar to recently discovered optical flares in known active galactic nuclei but lack some characteristic features. The lack of emission for the previous seven years is inconsistent with the short-term, stochastic variability observed in quasars, while the extreme luminosity and long timescale of the transient disfavour the disruption of a single solar-mass star. The luminosity could be generated by the disruption of a much more massive star, but the likelihood of such an event occurring is small. A plausible scenario is the accretion of a giant molecular cloud by a dormant black hole of $10^8 - 10^9$ solar masses. AT2021lwx thus represents an extreme extension of the known scenarios of black hole accretion. |\n",
       "|<p style=\"color:green\"> **ERROR** </p>| <p style=\"color:green\">affiliation error: mpia.affiliation_verifications: 'Heidelberg' keyword not found.</p> |"
      ],
      "text/plain": [
       "<IPython.core.display.Markdown object>"
      ]
     },
     "metadata": {},
     "output_type": "display_data"
    },
    {
     "data": {
      "text/markdown": [
       "\n",
       "|||\n",
       "|---:|:---|\n",
       "| [![arXiv](https://img.shields.io/badge/arXiv-arXiv:2303.04421-b31b1b.svg)](https://arxiv.org/abs/arXiv:2303.04421) | **Monitoring the Size and Flux Density of Sgr A* during the Active State  in 2019 with East Asian VLBI Network**  |\n",
       "|| Xiaopeng Cheng, et al. -- incl., <mark>Guang-Yao Zhao</mark>, <mark>Sang-Sung Lee</mark>, <mark>Jee-Won Lee</mark> |\n",
       "|*Appeared on*| *2023-03-09*|\n",
       "|*Comments*| *15 pages, 7 figures, 3 tables, Published in the Galaxies Special Issue \"Challenges in Understanding Black Hole Powered Jets with VLBI\"*|\n",
       "|**Abstract**| In this work, we studied the Galactic Center supermassive black hole (SMBH), Sagittarius A* (Sgr A*), with the KVN and VERA Array (KaVA)/East Asian VLBI Network (EAVN) monitoring observations. Especially on 13 May 2019, Sgr A* experienced an unprecedented bright near infra-red (NIR) flare; so, we find a possible counterpart at 43 GHz (7 mm). As a result, a large temporal variation of the flux density at the level 15.4%, with the highest flux density of 2.04 Jy, is found on 11 May 2019. Interestingly, the intrinsic sizes are also variable, and the area and major-axis size show a marginal correlation with flux density with >2{\\sigma}. Thus, we interpret that the emission region at 43 GHz follows the larger-when-brighter relation in 2019. The possible origins are discussed with an emergence of a weak jet/outflow component and the position angle change of the rotation axis of the accretion disk in time. |\n",
       "|<p style=\"color:green\"> **ERROR** </p>| <p style=\"color:green\">affiliation error: mpia.affiliation_verifications: 'Heidelberg' keyword not found.</p> |"
      ],
      "text/plain": [
       "<IPython.core.display.Markdown object>"
      ]
     },
     "metadata": {},
     "output_type": "display_data"
    },
    {
     "data": {
      "text/markdown": [
       "\n",
       "|||\n",
       "|---:|:---|\n",
       "| [![arXiv](https://img.shields.io/badge/arXiv-arXiv:2303.04726-b31b1b.svg)](https://arxiv.org/abs/arXiv:2303.04726) | **PEARLS: Low Stellar Density Galaxies in the El Gordo Cluster Observed  with JWST**  |\n",
       "|| Timothy Carleton, et al. -- incl., <mark>Jiashuo Zhang</mark> |\n",
       "|*Appeared on*| *2023-03-09*|\n",
       "|*Comments*| *Submitted to ApJ. Comments welcome!*|\n",
       "|**Abstract**| A full understanding of how unusually large \"Ultra Diffuse Galaxies\" (UDGs) fit into our conventional theory of dwarf galaxy formation remains elusive, despite the large number of objects identified locally. A natural extension of UDG research is the study of similar galaxies at higher redshift to establish how their properties may evolve over time. However, this has been a challenging task given how severely cosmological surface brightness dimming inhibits our ability to detect low-surface brightness galaxies at high-$z$. Here, we present a sample of low stellar surface density galaxies (LDGs) at moderate redshift, likely the progenitors of local UDGs, identified in deep near-IR {\\it JWST} observations of the El Gordo cluster at $z=0.87$. By stacking 8 NIRCAM filters, reach an apparent surface brightness sensitivity of 24.59~mag~arcsec$^{-2}$, faint enough to be complete to the bright end of the LDG population. Our analysis identifies significant differences between this population and UDGs observed locally, including differences in their color and size distributions, which suggest that the UDG progenitors at high-$z$ are bluer and more extended than UDGs at $z=0$. This suggests that multiple mechanisms are responsible for UDG formation and that prolonged transformation of cluster dwarfs is not a primary UDG formation mechanism at high-$z$. Furthermore, we find a slight overabundance of LDGs in El Gordo, and, in contrast to findings in local clusters, our analysis does not show a deficit of LDGs in the center of El Gordo, implying that tidal destruction of LDGs is significant between $z=0.87$ and $z=0$. |\n",
       "|<p style=\"color:green\"> **ERROR** </p>| <p style=\"color:green\">affiliation error: mpia.affiliation_verifications: 'Heidelberg' keyword not found.</p> |"
      ],
      "text/plain": [
       "<IPython.core.display.Markdown object>"
      ]
     },
     "metadata": {},
     "output_type": "display_data"
    },
    {
     "data": {
      "text/markdown": [
       "\n",
       "|||\n",
       "|---:|:---|\n",
       "| [![arXiv](https://img.shields.io/badge/arXiv-arXiv:2303.04157-b31b1b.svg)](https://arxiv.org/abs/arXiv:2303.04157) | **Different higher-order kinematics between star-forming and quiescent  galaxies based on the SAMI, MAGPI and LEGA-C surveys**  |\n",
       "|| Francesco D'Eugenio, et al. -- incl., <mark>Anna de Graaff</mark>, <mark>Gauri Sharma</mark> |\n",
       "|*Appeared on*| *2023-03-09*|\n",
       "|*Comments*| *26 pages, 15 figures Accepted for publication in MNRAS*|\n",
       "|**Abstract**| We present the first statistical study of spatially integrated non-Gaussian stellar kinematics spanning 7 Gyr in cosmic time. We use deep, rest-frame optical spectroscopy of massive galaxies (stellar mass $M_\\star > 10^{10.5} {\\rm M}_\\odot$) at redshifts z = 0.05, 0.3 and 0.8 from the SAMI, MAGPI and LEGA-C surveys, to measure the excess kurtosis $h_4$ of the stellar velocity distribution, the latter parametrised as a Gauss-Hermite series. We find that at all redshifts where we have large enough samples, $h_4$ anti-correlates with the ratio between rotation and dispersion, highlighting the physical connection between these two kinematic observables. In addition, and independently from the anti-correlation with rotation-to-dispersion ratio, we also find a correlation between $h_4$ and $M_\\star$, potentially connected to the assembly history of galaxies. In contrast, after controlling for mass, we find no evidence of independent correlation between $h_4$ and aperture velocity dispersion or galaxy size. These results hold for both star-forming and quiescent galaxies. For quiescent galaxies, $h_4$ also correlates with projected shape, even after controlling for the rotation-to-dispersion ratio. At any given redshift, star-forming galaxies have lower $h_4$ compared to quiescent galaxies, highlighting the link between kinematic structure and star-forming activity. |\n",
       "|<p style=\"color:red\"> **ERROR** </p>| <p style=\"color:red\">latex error Could not find figure f.tmods.models.b</p> |"
      ],
      "text/plain": [
       "<IPython.core.display.Markdown object>"
      ]
     },
     "metadata": {},
     "output_type": "display_data"
    }
   ],
   "source": [
    "import datetime\n",
    "today = str(datetime.date.today())\n",
    "logfile = f\"_build/html/logs/log-{today}.md\"\n",
    "\n",
    "\n",
    "with open(logfile, 'w') as logs:\n",
    "    # Success\n",
    "    logs.write(f'# Arxiv on Deck 2: Logs - {today}\\n\\n')\n",
    "    logs.write(\"\"\"* Arxiv had {0:,d} new papers\\n\"\"\".format(len(new_papers)))\n",
    "    logs.write(\"\"\"    * {0:,d} with possible author matches\\n\\n\"\"\".format(len(candidates)))\n",
    "    logs.write(\"## Sucessful papers\\n\\n\")\n",
    "    display(Markdown(\"## Successful papers\"))\n",
    "    success = [k[0] for k in documents]\n",
    "    for candid in candidates:\n",
    "        if candid['identifier'].split(':')[-1] in success:\n",
    "            display(candid)\n",
    "            logs.write(candid.generate_markdown_text() + '\\n\\n')\n",
    "\n",
    "    ## failed\n",
    "    logs.write(\"## Failed papers\\n\\n\")\n",
    "    display(Markdown(\"## Failed papers\"))\n",
    "    failed = sorted(failed, key=lambda x: x[1])\n",
    "    current_reason = \"\"\n",
    "    for paper, reason in failed:\n",
    "        if 'affiliation' in reason:\n",
    "            color = 'green'\n",
    "        else:\n",
    "            color = 'red'\n",
    "        data = Markdown(\n",
    "                paper.generate_markdown_text() + \n",
    "                f'\\n|<p style=\"color:{color:s}\"> **ERROR** </p>| <p style=\"color:{color:s}\">{reason:s}</p> |'\n",
    "               )\n",
    "        if reason != current_reason:\n",
    "            logs.write(f'### {reason:s} \\n\\n')\n",
    "            current_reason = reason\n",
    "        logs.write(data.data + '\\n\\n')\n",
    "        \n",
    "        # only display here the important errors (all in logs)\n",
    "        # if color in ('red',):\n",
    "        display(data)"
   ]
  },
  {
   "cell_type": "markdown",
   "id": "472d20ee",
   "metadata": {
    "papermill": {
     "duration": 0.006426,
     "end_time": "2023-03-09T12:57:12.816989",
     "exception": false,
     "start_time": "2023-03-09T12:57:12.810563",
     "status": "completed"
    },
    "tags": []
   },
   "source": [
    "## Export documents\n",
    "\n",
    "We now write the .md files and export relevant images"
   ]
  },
  {
   "cell_type": "code",
   "execution_count": 7,
   "id": "d426aed9",
   "metadata": {
    "execution": {
     "iopub.execute_input": "2023-03-09T12:57:12.831986Z",
     "iopub.status.busy": "2023-03-09T12:57:12.831311Z",
     "iopub.status.idle": "2023-03-09T12:57:12.839395Z",
     "shell.execute_reply": "2023-03-09T12:57:12.838791Z"
    },
    "papermill": {
     "duration": 0.017539,
     "end_time": "2023-03-09T12:57:12.840954",
     "exception": false,
     "start_time": "2023-03-09T12:57:12.823415",
     "status": "completed"
    },
    "tags": []
   },
   "outputs": [],
   "source": [
    "def export_markdown_summary(md: str, md_fname:str, directory: str):\n",
    "    \"\"\"Export MD document and associated relevant images\"\"\"\n",
    "    import os\n",
    "    import shutil\n",
    "    import re\n",
    "\n",
    "    if (os.path.exists(directory) and not os.path.isdir(directory)):\n",
    "        raise RuntimeError(f\"a non-directory file exists with name {directory:s}\")\n",
    "\n",
    "    if (not os.path.exists(directory)):\n",
    "        print(f\"creating directory {directory:s}\")\n",
    "        os.mkdir(directory)\n",
    "\n",
    "    fig_fnames = (re.compile(r'\\[Fig.*\\]\\((.*)\\)').findall(md) + \n",
    "                  re.compile(r'\\<img src=\"([^>\\s]*)\"[^>]*/>').findall(md))\n",
    "    for fname in fig_fnames:\n",
    "        if 'http' in fname:\n",
    "            # No need to copy online figures\n",
    "            continue\n",
    "        destdir = os.path.join(directory, os.path.dirname(fname))\n",
    "        destfname = os.path.join(destdir, os.path.basename(fname))\n",
    "        try:\n",
    "            os.makedirs(destdir)\n",
    "        except FileExistsError:\n",
    "            pass\n",
    "        shutil.copy(fname, destfname)\n",
    "    with open(os.path.join(directory, md_fname), 'w') as fout:\n",
    "        fout.write(md)\n",
    "    print(\"exported in \", os.path.join(directory, md_fname))\n",
    "    [print(\"    + \" + os.path.join(directory,fk)) for fk in fig_fnames]"
   ]
  },
  {
   "cell_type": "code",
   "execution_count": 8,
   "id": "014d04a4",
   "metadata": {
    "execution": {
     "iopub.execute_input": "2023-03-09T12:57:12.855677Z",
     "iopub.status.busy": "2023-03-09T12:57:12.855127Z",
     "iopub.status.idle": "2023-03-09T12:57:12.874950Z",
     "shell.execute_reply": "2023-03-09T12:57:12.874323Z"
    },
    "papermill": {
     "duration": 0.029007,
     "end_time": "2023-03-09T12:57:12.876535",
     "exception": false,
     "start_time": "2023-03-09T12:57:12.847528",
     "status": "completed"
    },
    "tags": []
   },
   "outputs": [
    {
     "name": "stdout",
     "output_type": "stream",
     "text": [
      "exported in  _build/html/2303.04727.md\n",
      "    + _build/html/tmp_2303.04727/./Figures/Validation/val_corner.png\n",
      "    + _build/html/tmp_2303.04727/./Figures/Validation/val_pt_structure_residual.png\n",
      "    + _build/html/tmp_2303.04727/./Figures/Validation/val_spectrum_residual.png\n",
      "    + _build/html/tmp_2303.04727/./Figures/R50_SN10/Corner_O_H2SO4.png\n",
      "    + _build/html/tmp_2303.04727/./Figures/R50_SN10/PT_O_H2SO4.png\n",
      "    + _build/html/tmp_2303.04727/./Figures/R50_SN10/Spec_O_H2SO4.png\n",
      "    + _build/html/tmp_2303.04727/./Figures/R50_SN10/EmCont_O_H2SO4.png\n",
      "    + _build/html/tmp_2303.04727/./Figures/Venus_Cloud_vs_Icy.png\n"
     ]
    }
   ],
   "source": [
    "for paper_id, md in documents:\n",
    "    export_markdown_summary(md, f\"{paper_id:s}.md\", '_build/html/')"
   ]
  },
  {
   "cell_type": "markdown",
   "id": "f087a0a7",
   "metadata": {
    "papermill": {
     "duration": 0.006602,
     "end_time": "2023-03-09T12:57:12.890002",
     "exception": false,
     "start_time": "2023-03-09T12:57:12.883400",
     "status": "completed"
    },
    "tags": []
   },
   "source": [
    "## Display the papers\n",
    "\n",
    "Not necessary but allows for a quick check."
   ]
  },
  {
   "cell_type": "code",
   "execution_count": 9,
   "id": "fd25f625",
   "metadata": {
    "execution": {
     "iopub.execute_input": "2023-03-09T12:57:12.905156Z",
     "iopub.status.busy": "2023-03-09T12:57:12.904289Z",
     "iopub.status.idle": "2023-03-09T12:57:12.909877Z",
     "shell.execute_reply": "2023-03-09T12:57:12.909333Z"
    },
    "papermill": {
     "duration": 0.01478,
     "end_time": "2023-03-09T12:57:12.911283",
     "exception": false,
     "start_time": "2023-03-09T12:57:12.896503",
     "status": "completed"
    },
    "scrolled": false,
    "tags": []
   },
   "outputs": [
    {
     "data": {
      "text/markdown": [
       "<div class=\"macros\" style=\"visibility:hidden;\">\n",
       "$\\newcommand{\\ensuremath}{}$\n",
       "$\\newcommand{\\xspace}{}$\n",
       "$\\newcommand{\\object}[1]{\\texttt{#1}}$\n",
       "$\\newcommand{\\farcs}{{.}''}$\n",
       "$\\newcommand{\\farcm}{{.}'}$\n",
       "$\\newcommand{\\arcsec}{''}$\n",
       "$\\newcommand{\\arcmin}{'}$\n",
       "$\\newcommand{\\ion}[2]{#1#2}$\n",
       "$\\newcommand{\\textsc}[1]{\\textrm{#1}}$\n",
       "$\\newcommand{\\hl}[1]{\\textrm{#1}}$\n",
       "$\\newcommand{\\footnote}[1]{}$\n",
       "$\\newcommand{\\R}[0]{\\ensuremath{R}}$\n",
       "$\\newcommand{\\Rv}[1]{\\ensuremath{R = #1}}$\n",
       "$\\newcommand{\\SN}[0]{\\ensuremath{S/N}}$\n",
       "$\\newcommand{\\SNv}[1]{\\ensuremath{S/N = #1}}$\n",
       "$\\newcommand{\\mic}[1]{\\ensuremath{#1}~\\textmu m}$\n",
       "$\\newcommand{\\pt}[0]{\\textit{P}-\\textit{T}}$\n",
       "$\\newcommand{\\Rpl}[0]{\\ensuremath{R_{\\text{pl}}}}$\n",
       "$\\newcommand{\\Mpl}[0]{\\ensuremath{M_{\\text{pl}}}}$\n",
       "$\\newcommand{\\Pct}[0]{\\ensuremath{P\\mathrm{^{cloud}_{top}}}}$\n",
       "$\\newcommand{\\Tct}[0]{\\ensuremath{T\\mathrm{^{cloud}_{top}}}}$\n",
       "$\\newcommand{\\Teq}[0]{\\ensuremath{T_\\mathrm{eq}}}$\n",
       "$\\newcommand{\\Pcs}[0]{\\ensuremath{P\\mathrm{^{cloud}_{span}}}}$\n",
       "$\\newcommand{\\Rcm}[0]{\\ensuremath{\\bar{R}\\mathrm{^{cloud}}}}$\n",
       "$\\newcommand{\\Sc}[0]{\\ensuremath{\\sigma\\mathrm{^{cloud}}}}$\n",
       "$\\newcommand{\\Ab}[0]{\\ensuremath{A_\\mathrm{B}}}$\n",
       "$\\newcommand{\\Ps}[0]{\\ensuremath{P_0}}$\n",
       "$\\newcommand{\\Ts}[0]{\\ensuremath{T_0}}$\n",
       "$\\newcommand{\\MSaOp}[0]{\\ensuremath{\\mathcal{M}^{\\ce{H2SO4}}_{\\mathrm{Op.}}}}$\n",
       "$\\newcommand{\\MSaTr}[0]{\\ensuremath{\\mathcal{M}^{\\ce{H2SO4}}_{\\mathrm{Tr.}}}}$\n",
       "$\\newcommand{\\MWaOp}[0]{\\ensuremath{\\mathcal{M}^{\\ce{H2O}}_{\\mathrm{Op.}}}}$\n",
       "$\\newcommand{\\MCf}[0]{\\ensuremath{\\mathcal{M}^\\mathrm{CF}}}$\n",
       "$\\newcommand{\\lgrt}[1]{\\ensuremath{\\log_{10}(#1)}}$\n",
       "$\\newcommand{\\lgrtdaj}[1]{\\ensuremath{\\log_{10}\\left(#1\\right)}}$\n",
       "$\\newcommand{\\life}[0]{LIFE}$\n",
       "$\\newcommand{\\lifesim}[0]{LIFE\\textsc{sim}}$\n",
       "$\\newcommand{\\pI}[0]{Paper~I}$\n",
       "$\\newcommand{\\pII}[0]{Paper~II}$\n",
       "$\\newcommand{\\pIII}[0]{Paper~III}$\n",
       "$\\newcommand{\\pV}[0]{Paper~V}$\n",
       "$\\newcommand{\\pIIIaV}[0]{Papers~III and~V}$\n",
       "$\\newcommandinecolor{tab:OpH2SO4}{RGB}{0, 158, 115}$\n",
       "$\\newcommandinecolor{tab:OpH2SO4t}{RGB}{191, 230, 219}$\n",
       "$\\newcommandinecolor{tab:TrH2SO4}{RGB}{0, 114, 178}$\n",
       "$\\newcommandinecolor{tab:TrH2SO4t}{RGB}{191, 219, 235}$\n",
       "$\\newcommandinecolor{tab:OpH2O}{RGB}{213, 94, 0}$\n",
       "$\\newcommandinecolor{tab:OpH2Ot}{RGB}{244, 214, 191}$\n",
       "$\\newcommandinecolor{tab:CF}{RGB}{230, 159, 0}$\n",
       "$\\newcommandinecolor{tab:CFt}{RGB}{248, 230, 191}$\n",
       "$   \\title{Large Interferometer For Exoplanets (LIFE):}$\n",
       "$   \\subtitle{X. Assessing the Impact of Clouds on Atmospheric Retrievals at Mid-Infrared Wavelengths with a Venus-Twin Exoplanet}$\n",
       "$   \\titlerunning{LIFE: X. Assessing the Impact of Clouds on Atmospheric Retrievals with a Venus-Twin Exoplanet}$\n",
       "$   \\authorrunning{Konrad et al.}$\n",
       "$   \\author{$\n",
       "$    B.S. Konrad \\inst{1,2}$\n",
       "$    \\and$\n",
       "$    E. Alei \\inst{1,2}$\n",
       "$    \\and$\n",
       "$    S.P. Quanz \\inst{1,2,3}$\n",
       "$    \\and$\n",
       "$    P. Mollière \\inst{4}$\n",
       "$    \\and$\n",
       "$    D. Angerhausen \\inst{1,2}$\n",
       "$    \\and$\n",
       "$    J.J. Fortney \\inst{5}$\n",
       "$    \\and$\n",
       "$    K. Hakim \\inst{2,6}$\n",
       "$    \\and$\n",
       "$    S. Jordan \\inst{7}$\n",
       "$    \\and$\n",
       "$    D. Kitzmann \\inst{2,6}$\n",
       "$    \\and$\n",
       "$    S. Rugheimer \\inst{8}$\n",
       "$    \\and$\n",
       "$    O. Shorttle \\inst{7,9}$\n",
       "$    \\and$\n",
       "$    R. Wordsworth \\inst{10}$\n",
       "$   \\and$\n",
       "$   the \\textit{LIFE} Collaboration\\thanks{Webpage: \\url{www.life-space-mission.com}}$\n",
       "$   }$\n",
       "$  \\institute{$\n",
       "$    ETH Zurich, Institute for Particle Physics \\& Astrophysics, Wolfgang-Pauli-Str. 27, 8093 Zurich, Switzerland\\e-mail:\\texttt{konradb@ethz.ch}; \\texttt{sascha.quanz@phys.ethz.ch}$\n",
       "$    \\and$\n",
       "$    National Center of Competence in Research PlanetS (www.nccr-planets.ch)$\n",
       "$    \\and$\n",
       "$    ETH Centre for Origin and Prevalence of Life, Wolfgang-Pauli-Str. 27, 8093 Zurich, Switzerland$\n",
       "$    \\and$\n",
       "$    Max-Planck-Institut für Astronomie, Königstuhl 17, 69117 Heidelberg, Germany$\n",
       "$    \\and$\n",
       "$    Department of Astronomy and Astrophysics, University of California, Santa Cruz, CA, USA 95064$\n",
       "$    \\and$\n",
       "$    University of Bern, Center for Space and Habitability, Gesellschaftsstrasse 6, 3012 Bern, Switzerland$\n",
       "$    \\and$\n",
       "$    Institute of Astronomy, University of Cambridge, CB3 0HA, UK$\n",
       "$    \\and$\n",
       "$    Department of Physics and Astronomy, York University, 4700 Keele Street, North York, Ontario 3MJ 1P3, Canada$\n",
       "$    \\and$\n",
       "$    Department of Earth Sciences, University of Cambridge, CB2 3EQ, UK$\n",
       "$    \\and$\n",
       "$    School of Engineering and Applied Sciences, Harvard University, Cambridge, MA 02138, USA$\n",
       "$}$\n",
       "$   \\date{Received -; accepted -}$\n",
       "$  \\abstract{Terrestrial exoplanets in the habitable zone are likely a common occurrence. The long-term goal is to characterize the atmospheres of dozens of such objects. The Large Interferometer For Exoplanets (\\life ) initiative aims to develop a spacebased mid-infrared (MIR) nulling interferometer to measure the thermal emission spectra of such exoplanets.}{We investigate how well \\life  could characterize a cloudy Venus-twin exoplanet. This allows us to: (1) test our atmospheric retrieval routine on a realistic non-Earth-like MIR emission spectrum of a known planet, (2) investigate how clouds impact retrievals, (3) further refine the \\life  requirements derived in previous Earth-centered studies.}{We run Bayesian atmospheric retrievals for simulated \\life  observations of a Venus-twin exoplanet. Our exoplanet orbits a Sun-like star located 10~pc from the observer. The \\lifesim  noise model accounts for all major astrophysical noise sources. We run retrievals using different models (cloudy and cloud-free) and analyze the performance as a function of the quality of the \\life  observation. This allows us to determine how well atmosphere and clouds are characterizable depending on the quality of the spectrum.}{At the current minimal resolution (\\Rv{50}) and signal-to-noise (\\SNv{10} at \\mic{11.2}) requirements for \\life , all tested models suggest a \\ce{CO2}-rich atmosphere (\\geq30\\% in mass fraction). Further, we successfully constrain the atmospheric pressure-temperature (\\pt ) structure above the cloud deck (\\pt  uncertainty \\leq\\pm15~K). However, we struggle to infer the main cloud properties. Further, the retrieved planetary radius (\\Rpl ), equilibrium temperature (\\Teq ), and Bond albedo (\\Ab ) depend on the model. Generally, a cloud-free model performs best at the current minimal quality and accurately estimates \\Rpl , \\Teq , and \\Ab . If we consider higher quality spectra (especially \\SNv{20}), we can infer the presence of clouds and pose first constraints on their structure.}{Our study shows that the minimal \\R  and \\SN  requirements for \\life  suffice to characterize the structure and composition of a Venus-like atmosphere above the cloud deck if an adequate model is chosen. Crucially, the cloud-free model is preferred by the retreival for low spectral qualities. We thus find no direct evidence for clouds at the minimal \\R  and \\SN  requirements and cannot infer the thickness of the atmosphere. Clouds are only constrainable in MIR retrievals of spectra with \\SN \\geq20. The model dependence of our retrieval results emphasizes the importance of developing a community-wide best-practice for atmospheric retrieval studies.$\n",
       "$  }$\n",
       "$   \\keywords{   Methods: statistical --$\n",
       "$                Planets and satellites: terrestrial planets --$\n",
       "$                Planets and satellites: atmospheres$\n",
       "$                }$\n",
       "$   \\maketitle$\n",
       "$\\n\\end{document}}$\n",
       "$\\newcommand{\\life}[0]{LIFE}$\n",
       "$\\newcommand{\\lifesim}[0]{LIFE\\textsc{sim}}$\n",
       "$\\newcommand{\\pI}[0]{Paper~I}$\n",
       "$\\newcommand{\\pII}[0]{Paper~II}$\n",
       "$\\newcommand{\\pIII}[0]{Paper~III}$\n",
       "$\\newcommand{\\pV}[0]{Paper~V}$\n",
       "$\\newcommand{\\pIIIaV}[0]{Papers~III and~V}$</div>\n",
       "\n",
       "<div class=\"macros\" style=\"visibility:hidden;\">\n",
       "$\\newcommand{\\ensuremath}{}$\n",
       "$\\newcommand{\\xspace}{}$\n",
       "$\\newcommand{\\object}[1]{\\texttt{#1}}$\n",
       "$\\newcommand{\\farcs}{{.}''}$\n",
       "$\\newcommand{\\farcm}{{.}'}$\n",
       "$\\newcommand{\\arcsec}{''}$\n",
       "$\\newcommand{\\arcmin}{'}$\n",
       "$\\newcommand{\\ion}[2]{#1#2}$\n",
       "$\\newcommand{\\textsc}[1]{\\textrm{#1}}$\n",
       "$\\newcommand{\\hl}[1]{\\textrm{#1}}$\n",
       "$\\newcommand{\\footnote}[1]{}$\n",
       "$\\newcommand{\\R}[0]{\\ensuremath{R}}$\n",
       "$\\newcommand{\\Rv}[1]{\\ensuremath{R = #1}}$\n",
       "$\\newcommand{\\SN}[0]{\\ensuremath{S/N}}$\n",
       "$\\newcommand{\\SNv}[1]{\\ensuremath{S/N = #1}}$\n",
       "$\\newcommand{\\mic}[1]{\\ensuremath{#1}~\\textmu m}$\n",
       "$\\newcommand{\\pt}[0]{\\textit{P}-\\textit{T}}$\n",
       "$\\newcommand{\\Rpl}[0]{\\ensuremath{R_{\\text{pl}}}}$\n",
       "$\\newcommand{\\Mpl}[0]{\\ensuremath{M_{\\text{pl}}}}$\n",
       "$\\newcommand{\\Pct}[0]{\\ensuremath{P\\mathrm{^{cloud}_{top}}}}$\n",
       "$\\newcommand{\\Tct}[0]{\\ensuremath{T\\mathrm{^{cloud}_{top}}}}$\n",
       "$\\newcommand{\\Teq}[0]{\\ensuremath{T_\\mathrm{eq}}}$\n",
       "$\\newcommand{\\Pcs}[0]{\\ensuremath{P\\mathrm{^{cloud}_{span}}}}$\n",
       "$\\newcommand{\\Rcm}[0]{\\ensuremath{\\bar{R}\\mathrm{^{cloud}}}}$\n",
       "$\\newcommand{\\Sc}[0]{\\ensuremath{\\sigma\\mathrm{^{cloud}}}}$\n",
       "$\\newcommand{\\Ab}[0]{\\ensuremath{A_\\mathrm{B}}}$\n",
       "$\\newcommand{\\Ps}[0]{\\ensuremath{P_0}}$\n",
       "$\\newcommand{\\Ts}[0]{\\ensuremath{T_0}}$\n",
       "$\\newcommand{\\MSaOp}[0]{\\ensuremath{\\mathcal{M}^{\\ce{H2SO4}}_{\\mathrm{Op.}}}}$\n",
       "$\\newcommand{\\MSaTr}[0]{\\ensuremath{\\mathcal{M}^{\\ce{H2SO4}}_{\\mathrm{Tr.}}}}$\n",
       "$\\newcommand{\\MWaOp}[0]{\\ensuremath{\\mathcal{M}^{\\ce{H2O}}_{\\mathrm{Op.}}}}$\n",
       "$\\newcommand{\\MCf}[0]{\\ensuremath{\\mathcal{M}^\\mathrm{CF}}}$\n",
       "$\\newcommand{\\lgrt}[1]{\\ensuremath{\\log_{10}(#1)}}$\n",
       "$\\newcommand{\\lgrtdaj}[1]{\\ensuremath{\\log_{10}\\left(#1\\right)}}$\n",
       "$\\newcommand{\\life}[0]{LIFE}$\n",
       "$\\newcommand{\\lifesim}[0]{LIFE\\textsc{sim}}$\n",
       "$\\newcommand{\\pI}[0]{Paper~I}$\n",
       "$\\newcommand{\\pII}[0]{Paper~II}$\n",
       "$\\newcommand{\\pIII}[0]{Paper~III}$\n",
       "$\\newcommand{\\pV}[0]{Paper~V}$\n",
       "$\\newcommand{\\pIIIaV}[0]{Papers~III and~V}$\n",
       "$\\newcommandinecolor{tab:OpH2SO4}{RGB}{0, 158, 115}$\n",
       "$\\newcommandinecolor{tab:OpH2SO4t}{RGB}{191, 230, 219}$\n",
       "$\\newcommandinecolor{tab:TrH2SO4}{RGB}{0, 114, 178}$\n",
       "$\\newcommandinecolor{tab:TrH2SO4t}{RGB}{191, 219, 235}$\n",
       "$\\newcommandinecolor{tab:OpH2O}{RGB}{213, 94, 0}$\n",
       "$\\newcommandinecolor{tab:OpH2Ot}{RGB}{244, 214, 191}$\n",
       "$\\newcommandinecolor{tab:CF}{RGB}{230, 159, 0}$\n",
       "$\\newcommandinecolor{tab:CFt}{RGB}{248, 230, 191}$\n",
       "$   \\title{Large Interferometer For Exoplanets (LIFE):}$\n",
       "$   \\subtitle{X. Assessing the Impact of Clouds on Atmospheric Retrievals at Mid-Infrared Wavelengths with a Venus-Twin Exoplanet}$\n",
       "$   \\titlerunning{LIFE: X. Assessing the Impact of Clouds on Atmospheric Retrievals with a Venus-Twin Exoplanet}$\n",
       "$   \\authorrunning{Konrad et al.}$\n",
       "$   \\author{$\n",
       "$    B.S. Konrad \\inst{1,2}$\n",
       "$    \\and$\n",
       "$    E. Alei \\inst{1,2}$\n",
       "$    \\and$\n",
       "$    S.P. Quanz \\inst{1,2,3}$\n",
       "$    \\and$\n",
       "$    P. Mollière \\inst{4}$\n",
       "$    \\and$\n",
       "$    D. Angerhausen \\inst{1,2}$\n",
       "$    \\and$\n",
       "$    J.J. Fortney \\inst{5}$\n",
       "$    \\and$\n",
       "$    K. Hakim \\inst{2,6}$\n",
       "$    \\and$\n",
       "$    S. Jordan \\inst{7}$\n",
       "$    \\and$\n",
       "$    D. Kitzmann \\inst{2,6}$\n",
       "$    \\and$\n",
       "$    S. Rugheimer \\inst{8}$\n",
       "$    \\and$\n",
       "$    O. Shorttle \\inst{7,9}$\n",
       "$    \\and$\n",
       "$    R. Wordsworth \\inst{10}$\n",
       "$   \\and$\n",
       "$   the \\textit{LIFE} Collaboration\\thanks{Webpage: \\url{www.life-space-mission.com}}$\n",
       "$   }$\n",
       "$  \\institute{$\n",
       "$    ETH Zurich, Institute for Particle Physics \\& Astrophysics, Wolfgang-Pauli-Str. 27, 8093 Zurich, Switzerland\\e-mail:\\texttt{konradb@ethz.ch}; \\texttt{sascha.quanz@phys.ethz.ch}$\n",
       "$    \\and$\n",
       "$    National Center of Competence in Research PlanetS (www.nccr-planets.ch)$\n",
       "$    \\and$\n",
       "$    ETH Centre for Origin and Prevalence of Life, Wolfgang-Pauli-Str. 27, 8093 Zurich, Switzerland$\n",
       "$    \\and$\n",
       "$    Max-Planck-Institut für Astronomie, Königstuhl 17, 69117 Heidelberg, Germany$\n",
       "$    \\and$\n",
       "$    Department of Astronomy and Astrophysics, University of California, Santa Cruz, CA, USA 95064$\n",
       "$    \\and$\n",
       "$    University of Bern, Center for Space and Habitability, Gesellschaftsstrasse 6, 3012 Bern, Switzerland$\n",
       "$    \\and$\n",
       "$    Institute of Astronomy, University of Cambridge, CB3 0HA, UK$\n",
       "$    \\and$\n",
       "$    Department of Physics and Astronomy, York University, 4700 Keele Street, North York, Ontario 3MJ 1P3, Canada$\n",
       "$    \\and$\n",
       "$    Department of Earth Sciences, University of Cambridge, CB2 3EQ, UK$\n",
       "$    \\and$\n",
       "$    School of Engineering and Applied Sciences, Harvard University, Cambridge, MA 02138, USA$\n",
       "$}$\n",
       "$   \\date{Received -; accepted -}$\n",
       "$  \\abstract{Terrestrial exoplanets in the habitable zone are likely a common occurrence. The long-term goal is to characterize the atmospheres of dozens of such objects. The Large Interferometer For Exoplanets (\\life ) initiative aims to develop a spacebased mid-infrared (MIR) nulling interferometer to measure the thermal emission spectra of such exoplanets.}{We investigate how well \\life  could characterize a cloudy Venus-twin exoplanet. This allows us to: (1) test our atmospheric retrieval routine on a realistic non-Earth-like MIR emission spectrum of a known planet, (2) investigate how clouds impact retrievals, (3) further refine the \\life  requirements derived in previous Earth-centered studies.}{We run Bayesian atmospheric retrievals for simulated \\life  observations of a Venus-twin exoplanet. Our exoplanet orbits a Sun-like star located 10~pc from the observer. The \\lifesim  noise model accounts for all major astrophysical noise sources. We run retrievals using different models (cloudy and cloud-free) and analyze the performance as a function of the quality of the \\life  observation. This allows us to determine how well atmosphere and clouds are characterizable depending on the quality of the spectrum.}{At the current minimal resolution (\\Rv{50}) and signal-to-noise (\\SNv{10} at \\mic{11.2}) requirements for \\life , all tested models suggest a \\ce{CO2}-rich atmosphere (\\geq30\\% in mass fraction). Further, we successfully constrain the atmospheric pressure-temperature (\\pt ) structure above the cloud deck (\\pt  uncertainty \\leq\\pm15~K). However, we struggle to infer the main cloud properties. Further, the retrieved planetary radius (\\Rpl ), equilibrium temperature (\\Teq ), and Bond albedo (\\Ab ) depend on the model. Generally, a cloud-free model performs best at the current minimal quality and accurately estimates \\Rpl , \\Teq , and \\Ab . If we consider higher quality spectra (especially \\SNv{20}), we can infer the presence of clouds and pose first constraints on their structure.}{Our study shows that the minimal \\R  and \\SN  requirements for \\life  suffice to characterize the structure and composition of a Venus-like atmosphere above the cloud deck if an adequate model is chosen. Crucially, the cloud-free model is preferred by the retreival for low spectral qualities. We thus find no direct evidence for clouds at the minimal \\R  and \\SN  requirements and cannot infer the thickness of the atmosphere. Clouds are only constrainable in MIR retrievals of spectra with \\SN \\geq20. The model dependence of our retrieval results emphasizes the importance of developing a community-wide best-practice for atmospheric retrieval studies.$\n",
       "$  }$\n",
       "$   \\keywords{   Methods: statistical --$\n",
       "$                Planets and satellites: terrestrial planets --$\n",
       "$                Planets and satellites: atmospheres$\n",
       "$                }$\n",
       "$   \\maketitle$\n",
       "$\\n\\end{document}}$\n",
       "$\\newcommand{\\life}[0]{LIFE}$\n",
       "$\\newcommand{\\lifesim}[0]{LIFE\\textsc{sim}}$\n",
       "$\\newcommand{\\pI}[0]{Paper~I}$\n",
       "$\\newcommand{\\pII}[0]{Paper~II}$\n",
       "$\\newcommand{\\pIII}[0]{Paper~III}$\n",
       "$\\newcommand{\\pV}[0]{Paper~V}$\n",
       "$\\newcommand{\\pIIIaV}[0]{Papers~III and~V}$</div>\n",
       "\n",
       "\n",
       "\n",
       "<div id=\"title\">\n",
       "\n",
       "# Large Interferometer For Exoplanets (LIFE):\n",
       "\n",
       "</div>\n",
       "<div id=\"comments\">\n",
       "\n",
       "[![arXiv](https://img.shields.io/badge/arXiv-2303.04727-b31b1b.svg)](https://arxiv.org/abs/2303.04727)<mark>Appeared on: 2023-03-09</mark> - _Re-submitted to A&A after a first iteration with referee; 15 pages (main text incl. 8 figures and 6 tables) + appendix; comments are welcome. This paper is part of a series on the LIFE telescope. Related series papers: arXiv:2101.07500, arXiv:2203.00471, arXiv:2112.02054, arXiv:2204.10041_\n",
       "\n",
       "</div>\n",
       "<div id=\"authors\">\n",
       "\n",
       "B. S. Konrad, et al. -- incl., <mark><mark>P. Mollière</mark></mark>\n",
       "\n",
       "</div>\n",
       "<div id=\"abstract\">\n",
       "\n",
       "**Abstract:** Terrestrial exoplanets in the habitable zone are likely a common occurrence. The long-term goal is to characterize the atmospheres of dozens of such objects. The Large Interferometer For Exoplanets ( $\\life$ ) initiative aims to develop a spacebased mid-infrared (MIR) nulling interferometer to measure the thermal emission spectra of such exoplanets. We investigate how well $\\life$ could characterize a cloudy Venus-twin exoplanet. This allows us to: (1) test our atmospheric retrieval routine on a realistic non-Earth-like MIR emission spectrum of a known planet, (2) investigate how clouds impact retrievals, (3) further refine the $\\life$ requirements derived in previous Earth-centered studies. We run Bayesian atmospheric retrievals for simulated $\\life$ observations of a Venus-twin exoplanet. Our exoplanet orbits a Sun-like star located $10$ pc from the observer. The $\\lifesim$ noise model accounts for all major astrophysical noise sources. We run retrievals using different models (cloudy and cloud-free) and analyze the performance as a function of the quality of the $\\life$ observation. This allows us to determine how well atmosphere and clouds are characterizable depending on the quality of the spectrum. At the current minimal resolution ( $\\Rv{50}$ ) and signal-to-noise ( $\\SNv{10}$ at $\\mic{11.2}$ ) requirements for $\\life$ , all tested models suggest a $\\ce{CO2}$ -rich atmosphere ( $\\geq30\\%$ in mass fraction). Further, we successfully constrain the atmospheric pressure-temperature ( $\\pt$ ) structure above the cloud deck ( $\\pt$ uncertainty $\\leq\\pm15$ K). However, we struggle to infer the main cloud properties. Further, the retrieved planetary radius ( $\\Rpl$ ), equilibrium temperature ( $\\Teq$ ), and Bond albedo ( $\\Ab$ ) depend on the model. Generally, a cloud-free model performs best at the current minimal quality and accurately estimates $\\Rpl$ , $\\Teq$ , and $\\Ab$ . If we consider higher quality spectra (especially $\\SNv{20}$ ), we can infer the presence of clouds and pose first constraints on their structure. Our study shows that the minimal $\\R$ and $\\SN$ requirements for $\\life$ suffice to characterize the structure and composition of a Venus-like atmosphere above the cloud deck if an adequate model is chosen. Crucially, the cloud-free model is preferred by the retreival for low spectral qualities. We thus find no direct evidence for clouds at the minimal $\\R$ and $\\SN$ requirements and cannot infer the thickness of the atmosphere. Clouds are only constrainable in MIR retrievals of spectra with $\\SN \\geq20$ . The model dependence of our retrieval results emphasizes the importance of developing a community-wide best-practice for atmospheric retrieval studies.\n",
       "\n",
       "</div>\n",
       "\n",
       "<div id=\"div_fig1\">\n",
       "\n",
       "<img src=\"tmp_2303.04727/./Figures/Validation/val_corner.png\" alt=\"Fig8.1\" width=\"33%\"/><img src=\"tmp_2303.04727/./Figures/Validation/val_pt_structure_residual.png\" alt=\"Fig8.2\" width=\"33%\"/><img src=\"tmp_2303.04727/./Figures/Validation/val_spectrum_residual.png\" alt=\"Fig8.3\" width=\"33%\"/>\n",
       "\n",
       "**Figure 8. -** {Results from the validation retrieval on the $\\mic${3-20}, $\\R$v{1000}, and photon noise $\\SN$v{50} Venus-twin spectrum (opaque \\ce{H2SO4} clouds) using the opaque \\ce{H2SO4} cloud forward model. *Top left*: Corner plot of the posterior distribution of the forward model parameters. Here, $L(\\cdot)$ stands for $\\lgrt${\\cdot}. We derived the equilibrium temperature $\\Teq$  and the Bond albedo $\\Ab$  from the other posteriors (see Appendix \\ref{sec:albedo_calc}). The dotted black lines indicate the true values. In the 1D posteriors, we show the 16th, 50th, and 84th percentiles as black dashed lines. *Top right*: $\\pt$  profile residuals relative to the retrieved median $\\pt$  profile. Color-shaded regions indicate percentiles of the retrieved $\\pt$  profiles. The gray shaded regions indicate percentiles of the retrieved cloud-top pressure. The solid black line, the orange circular marker, and the red square marker represent the true Venus-twin $\\pt$  profile relative to the median retrieved $\\pt$  profile. In the inset figure, we plot the 2D $\\Ps$ -$\\Ts$  posterior. *Bottom*: Residuals of the spectra corresponding to the retrieved posteriors relative to the Venus-twin input. Color-shaded areas represent different quantiles of the residuals. The gray area marks the 1$\\sigma$ photon noise-level.} (*fig:valid*)\n",
       "\n",
       "</div>\n",
       "<div id=\"div_fig2\">\n",
       "\n",
       "<img src=\"tmp_2303.04727/./Figures/R50_SN10/Corner_O_H2SO4.png\" alt=\"Fig10.1\" width=\"25%\"/><img src=\"tmp_2303.04727/./Figures/R50_SN10/PT_O_H2SO4.png\" alt=\"Fig10.2\" width=\"25%\"/><img src=\"tmp_2303.04727/./Figures/R50_SN10/Spec_O_H2SO4.png\" alt=\"Fig10.3\" width=\"25%\"/><img src=\"tmp_2303.04727/./Figures/R50_SN10/EmCont_O_H2SO4.png\" alt=\"Fig10.4\" width=\"25%\"/>\n",
       "\n",
       "**Figure 10. -** Results from the retrieval on the $\\mic${4-18.5}, $\\R$v{50}, and $\\life$sim  noise $\\SN$v{10} Venus-twin spectrum (opaque \\ce{H2SO4} clouds) using the opaque \\ce{H2SO4} cloud forward model (see Sect. \\ref{sec:LIFEsim_papIII_ret_res}). *Lower left half*: Corner plot of the posterior distribution of the forward model parameters. Here, $L(\\cdot)$ stands for $\\lgrt${\\cdot}. We derived the equilibrium temperature $\\Teq$  and the Bond albedo $\\Ab$  from the other posteriors (see Appendix \\ref{sec:albedo_calc}). The dotted black lines indicate the true values. In the 1D posteriors, we show the 16th, 50th, and 84th percentiles as black dashed lines. *Top center*: $\\pt$  profiles corresponding to the retrieved $\\pt$  parameters. Color-shaded regions indicate percentiles of the retrieved $\\pt$  profiles. The gray shaded regions indicate percentiles of the retrieved cloud-top pressure. The solid black line, the orange circular marker, and the red square marker represent the true Venus-twin $\\pt$  profile. In the inset figure, we plot the 2D $\\Ps$ -$\\Ts$  posterior (if retrieved; otherwise $\\Pct$ -$\\Tct$). *Top right*: A table summarizing the true values of the forward model parameters and the 16th, 50th, and 84th percentiles of the parameter posteriors. *Center right*: Spectra corresponding to the retrieved posteriors in comparison to the Venus-twin input. Color-shaded areas represent different quantiles of the retrieved spectra. The solid black line represents the Venus-twin input spectrum. The gray area marks the 1$\\sigma$\\lifesim  noise-level. Below the spectrum plot, we show the mean wavelength-dependent contribution of the atmospheric layers to the emission spectrum corresponding to the retrieved parameter posteriors. Darker colors indicate higher contributions. The dashed black line indicates the position of the cloud-deck assumed to simulate the input spectrum (opaque \\ce{H2SO4} clouds). (*fig:corner_O_H2SO4*)\n",
       "\n",
       "</div>\n",
       "<div id=\"div_fig3\">\n",
       "\n",
       "<img src=\"tmp_2303.04727/./Figures/Venus_Cloud_vs_Icy.png\" alt=\"Fig1\" width=\"100%\"/>\n",
       "\n",
       "**Figure 1. -** Flux of a cloudy Venus-twin exoplanet (opaque \\ce{H2SO4} clouds; dashed green line) compared to an icy world with a thin \\ce{CO2}-dominated atmosphere (solid brown line). In the top panel, we plot the UV/O/IR wavelength range. The hatched area represents the expected wavelength-dependent $\\SN$v{10} noise for the LUVOIR A mission concept \\citep{2017AAS...22940504P}. The thick, solid black line represents the expected $\\SN$v{10} noise for the HabEx + Starshade mission concept \\citep{2020arXiv200106683G}. In the bottom panel, we plot the MIR wavelength range. The gray shaded region indicates the 1$\\sigma$\\lifesim  noise level at $\\SN$v{10}. (*fig:Clouds_VS_Ice_absolute*)\n",
       "\n",
       "</div>"
      ],
      "text/plain": [
       "<IPython.core.display.Markdown object>"
      ]
     },
     "metadata": {},
     "output_type": "display_data"
    }
   ],
   "source": [
    "[display(Markdown(k[1])) for k in documents];"
   ]
  },
  {
   "cell_type": "markdown",
   "id": "873873a4",
   "metadata": {
    "papermill": {
     "duration": 0.007023,
     "end_time": "2023-03-09T12:57:12.925493",
     "exception": false,
     "start_time": "2023-03-09T12:57:12.918470",
     "status": "completed"
    },
    "tags": []
   },
   "source": [
    "# Create HTML index"
   ]
  },
  {
   "cell_type": "code",
   "execution_count": 10,
   "id": "cf665672",
   "metadata": {
    "execution": {
     "iopub.execute_input": "2023-03-09T12:57:12.941383Z",
     "iopub.status.busy": "2023-03-09T12:57:12.940802Z",
     "iopub.status.idle": "2023-03-09T12:57:12.952792Z",
     "shell.execute_reply": "2023-03-09T12:57:12.952070Z"
    },
    "papermill": {
     "duration": 0.021839,
     "end_time": "2023-03-09T12:57:12.954320",
     "exception": false,
     "start_time": "2023-03-09T12:57:12.932481",
     "status": "completed"
    },
    "tags": []
   },
   "outputs": [
    {
     "name": "stdout",
     "output_type": "stream",
     "text": [
      "194  publications in the last 7 days.\n",
      "\t _build/html/2303.04727.md\n",
      "\t _build/html/2303.04067.md\n",
      "\t _build/html/2303.03420.md\n",
      "\t _build/html/2303.02816.md\n",
      "\t _build/html/2303.01528.md\n",
      "\t _build/html/2303.00044.md\n",
      "\t _build/html/2303.00012.md\n",
      "\t _build/html/2302.14137.md\n",
      "\t _build/html/2302.12805.md\n",
      "\t _build/html/2302.10943.md\n",
      "\t _build/html/2302.10528.md\n",
      "\t _build/html/2302.10008.md\n",
      "\t _build/html/2302.08962.md\n",
      "\t _build/html/2302.08628.md\n",
      "\t _build/html/2302.07916.md\n",
      "\t _build/html/2302.07880.md\n",
      "\t _build/html/2302.07497.md\n",
      "\t _build/html/2302.07277.md\n",
      "\t _build/html/2302.07256.md\n",
      "\t _build/html/2302.07234.md\n",
      "\t _build/html/2302.07057.md\n",
      "\t _build/html/2302.05694.md\n",
      "\t _build/html/2302.05465.md\n",
      "\t _build/html/2302.04507.md\n",
      "\t _build/html/2302.04239.md\n",
      "\t _build/html/2302.04138.md\n",
      "\t _build/html/2302.03699.md\n",
      "\t _build/html/2302.03576.md\n",
      "\t _build/html/2302.03042.md\n",
      "\t _build/html/2302.02611.md\n",
      "\t _build/html/2302.02429.md\n",
      "\t _build/html/2302.01678.md\n",
      "\t _build/html/2302.00450.md\n",
      "\t _build/html/2301.13766.md\n",
      "\t _build/html/2301.13526.md\n",
      "\t _build/html/2301.12890.md\n",
      "\t _build/html/2301.11942.md\n",
      "\t _build/html/2301.10717.md\n",
      "\t _build/html/2301.10666.md\n",
      "\t _build/html/2301.09621.md\n",
      "\t _build/html/2301.09140.md\n",
      "\t _build/html/2301.08770.md\n",
      "\t _build/html/2301.08310.md\n",
      "\t _build/html/2301.07990.md\n",
      "\t _build/html/2301.07199.md\n",
      "\t _build/html/2301.07116.md\n",
      "\t _build/html/2301.06873.md\n",
      "\t _build/html/2301.06819.md\n",
      "\t _build/html/2301.06575.md\n",
      "\t _build/html/2301.05720.md\n",
      "\t _build/html/2301.05718.md\n",
      "\t _build/html/2301.05034.md\n",
      "\t _build/html/2301.04656.md\n",
      "\t _build/html/2301.04533.md\n",
      "\t _build/html/2301.04442.md\n",
      "\t _build/html/2301.03811.md\n",
      "\t _build/html/2301.03689.md\n",
      "\t _build/html/2301.03209.md\n",
      "\t _build/html/2301.02671.md\n",
      "\t _build/html/2301.02477.md\n",
      "\t _build/html/2301.02313.md\n",
      "\t _build/html/2301.01937.md\n",
      "\t _build/html/2301.01895.md\n",
      "\t _build/html/2301.01684.md\n",
      "\t _build/html/2301.01306.md\n",
      "\t _build/html/2301.00881.md\n",
      "\t _build/html/2301.00854.md\n",
      "\t _build/html/2301.00578.md\n",
      "\t _build/html/2212.12039.md\n",
      "\t _build/html/2212.11425.md\n",
      "\t _build/html/2212.11177.md\n",
      "\t _build/html/2212.10512.md\n",
      "\t _build/html/2212.09766.md\n",
      "\t _build/html/2212.09675.md\n",
      "\t _build/html/2212.09661.md\n",
      "\t _build/html/2212.09652.md\n",
      "\t _build/html/2212.09168.md\n",
      "\t _build/html/2212.09159.md\n",
      "\t _build/html/2212.08702.md\n",
      "\t _build/html/2212.06434.md\n",
      "\t _build/html/2212.04710.md\n",
      "\t _build/html/2212.04026.md\n",
      "\t _build/html/2212.03563.md\n",
      "\t _build/html/2212.03514.md\n",
      "\t _build/html/2212.02667.md\n",
      "\t _build/html/2212.02627.md\n",
      "\t _build/html/2212.02235.md\n",
      "\t _build/html/2212.01707.md\n",
      "\t _build/html/2212.01526.md\n",
      "\t _build/html/2212.01397.md\n",
      "\t _build/html/2212.01291.md\n",
      "\t _build/html/2212.01281.md\n",
      "\t _build/html/2212.00812.md\n",
      "\t _build/html/2212.00811.md\n",
      "\t _build/html/2212.00806.md\n",
      "\t _build/html/2212.00032.md\n",
      "\t _build/html/2211.16510.md\n",
      "\t _build/html/2211.16123.md\n",
      "\t _build/html/2211.15816.md\n",
      "\t _build/html/2211.15698.md\n",
      "\t _build/html/2211.15576.md\n",
      "\t _build/html/2211.15434.md\n",
      "\t _build/html/2211.15288.md\n",
      "\t _build/html/2211.15224.md\n",
      "\t _build/html/2211.14543.md\n",
      "\t _build/html/2211.14330.md\n",
      "\t _build/html/2211.14322.md\n",
      "\t _build/html/2211.14132.md\n",
      "\t _build/html/2211.13811.md\n",
      "\t _build/html/2211.13426.md\n",
      "\t _build/html/2211.13146.md\n",
      "\t _build/html/2211.12613.md\n",
      "\t _build/html/2211.11767.md\n",
      "\t _build/html/2211.09840.md\n",
      "\t _build/html/2211.08493.md\n",
      "\t _build/html/2211.08487.md\n",
      "\t _build/html/2211.08294.md\n",
      "\t _build/html/2211.07667.md\n",
      "\t _build/html/2211.07659.md\n",
      "\t _build/html/2211.06205.md\n",
      "\t _build/html/2211.06194.md\n",
      "\t _build/html/2211.05022.md\n",
      "\t _build/html/2211.04048.md\n",
      "\t _build/html/2211.03641.md\n",
      "\t _build/html/2211.02502.md\n",
      "\t _build/html/2211.01474.md\n",
      "\t _build/html/2211.00657.md\n",
      "\t _build/html/2211.00087.md\n",
      "\t _build/html/2211.00036.md\n",
      "\t _build/html/2211.00020.md\n",
      "\t _build/html/2211.00010.md\n",
      "\t _build/html/2210.17434.md\n",
      "\t _build/html/2210.12412.md\n",
      "\t _build/html/2210.11926.md\n",
      "\t _build/html/2210.11551.md\n",
      "\t _build/html/2210.10707.md\n",
      "\t _build/html/2210.09930.md\n",
      "\t _build/html/2210.08996.md\n",
      "\t _build/html/2210.08517.md\n",
      "\t _build/html/2210.08510.md\n",
      "\t _build/html/2210.06504.md\n",
      "\t _build/html/2210.05695.md\n",
      "\t _build/html/2210.05595.md\n",
      "\t _build/html/2210.05505.md\n",
      "\t _build/html/2210.04721.md\n",
      "\t _build/html/2210.03615.md\n",
      "\t _build/html/2210.01811.md\n",
      "\t _build/html/2210.01809.md\n",
      "\t _build/html/2210.01556.md\n",
      "\t _build/html/2210.00560.md\n",
      "\t _build/html/2209.15403.md\n",
      "\t _build/html/2209.15110.md\n",
      "\t _build/html/2209.14410.md\n",
      "\t _build/html/2209.14396.md\n",
      "\t _build/html/2209.13717.md\n",
      "\t _build/html/2209.13336.md\n",
      "\t _build/html/2209.12906.md\n",
      "\t _build/html/2209.11602.md\n",
      "\t _build/html/2209.11248.md\n",
      "\t _build/html/2209.10618.md\n",
      "\t _build/html/2209.09914.md\n",
      "\t _build/html/2209.08242.md\n",
      "\t _build/html/2209.08120.md\n",
      "\t _build/html/2209.08106.md\n",
      "\t _build/html/2209.07962.md\n",
      "\t _build/html/2209.07931.md\n",
      "\t _build/html/2209.06833.md\n",
      "\t _build/html/2209.05814.md\n",
      "\t _build/html/2209.05593.md\n",
      "\t _build/html/2209.04304.md\n",
      "\t _build/html/2209.03367.md\n",
      "\t _build/html/2209.02872.md\n",
      "\t _build/html/2209.02725.md\n",
      "\t _build/html/2209.02722.md\n",
      "\t _build/html/2209.02092.md\n",
      "\t _build/html/2209.01125.md\n",
      "\t _build/html/2209.00828.md\n",
      "\t _build/html/2209.00363.md\n",
      "\t _build/html/2208.14927.md\n",
      "\t _build/html/2208.09335.md\n",
      "\t _build/html/2208.08872.md\n",
      "\t _build/html/2204.06393.md\n",
      "\t _build/html/2204.03335.md\n",
      "\t _build/html/2204.03253.md\n",
      "\t _build/html/2204.02017.md\n",
      "\t _build/html/2204.01824.md\n",
      "\t _build/html/2204.01245.md\n",
      "\t _build/html/2204.00793.md\n",
      "\t _build/html/2204.00342.md\n",
      "\t _build/html/2203.16959.md\n",
      "\t _build/html/2203.16734.md\n",
      "\t _build/html/2203.16504.md\n",
      "\t _build/html/2203.15822.md\n",
      "\t _build/html/2203.15811.md\n"
     ]
    }
   ],
   "source": [
    "from datetime import datetime, timedelta, timezone\n",
    "from glob import glob\n",
    "\n",
    "files = glob('_build/html/*.md')\n",
    "days = 7\n",
    "now = datetime.today()\n",
    "res = []\n",
    "for fk in files:\n",
    "    stat_result = os.stat(fk).st_ctime\n",
    "    modified = datetime.fromtimestamp(stat_result, tz=timezone.utc).replace(tzinfo=None)\n",
    "    delta = now.today() - modified\n",
    "    if delta <= timedelta(days=days):\n",
    "        res.append((delta.seconds, fk))\n",
    "res = [k[1] for k in reversed(sorted(res, key=lambda x:x[1]))]\n",
    "npub = len(res)\n",
    "print(len(res), f\" publications in the last {days:d} days.\")\n",
    "[ print('\\t', k) for k in res ];"
   ]
  },
  {
   "cell_type": "code",
   "execution_count": 11,
   "id": "015de740",
   "metadata": {
    "execution": {
     "iopub.execute_input": "2023-03-09T12:57:12.970802Z",
     "iopub.status.busy": "2023-03-09T12:57:12.970051Z",
     "iopub.status.idle": "2023-03-09T12:57:12.994314Z",
     "shell.execute_reply": "2023-03-09T12:57:12.993717Z"
    },
    "papermill": {
     "duration": 0.034252,
     "end_time": "2023-03-09T12:57:12.995928",
     "exception": false,
     "start_time": "2023-03-09T12:57:12.961676",
     "status": "completed"
    },
    "tags": []
   },
   "outputs": [
    {
     "name": "stdout",
     "output_type": "stream",
     "text": [
      "4  publications in the last 7 days.\n"
     ]
    }
   ],
   "source": [
    "import datetime\n",
    "from glob import glob\n",
    "\n",
    "def get_last_n_days(lst, days=1):\n",
    "    \"\"\" Get the documents from the last n days \"\"\"\n",
    "    sorted_lst = sorted(lst, key=lambda x: x[1], reverse=True)\n",
    "    for fname, date in sorted_lst:\n",
    "        if date >= str(datetime.date.today() - datetime.timedelta(days=days)):\n",
    "            yield fname\n",
    "\n",
    "def extract_appearance_dates(lst_file):\n",
    "    dates = []\n",
    "\n",
    "    def get_date(line):\n",
    "        return line\\\n",
    "            .split('Appeared on:')[-1]\\\n",
    "            .split('</mark>')[0].strip()\n",
    "\n",
    "    for fname in lst:\n",
    "        with open(fname, 'r') as f:\n",
    "            found_date = False\n",
    "            for line in f:\n",
    "                if not found_date:\n",
    "                    if \"Appeared on\" in line:\n",
    "                        found_date = True\n",
    "                        dates.append((fname, get_date(line)))\n",
    "                else:\n",
    "                    break\n",
    "    return dates\n",
    "\n",
    "from glob import glob\n",
    "lst = glob('_build/html/*md')\n",
    "days = 7\n",
    "dates = extract_appearance_dates(lst)\n",
    "res = list(get_last_n_days(dates, days))\n",
    "npub = len(res)\n",
    "print(len(res), f\" publications in the last {days:d} days.\")"
   ]
  },
  {
   "cell_type": "code",
   "execution_count": 12,
   "id": "52ca0208",
   "metadata": {
    "execution": {
     "iopub.execute_input": "2023-03-09T12:57:13.012908Z",
     "iopub.status.busy": "2023-03-09T12:57:13.012364Z",
     "iopub.status.idle": "2023-03-09T12:57:13.018136Z",
     "shell.execute_reply": "2023-03-09T12:57:13.017521Z"
    },
    "papermill": {
     "duration": 0.01594,
     "end_time": "2023-03-09T12:57:13.019708",
     "exception": false,
     "start_time": "2023-03-09T12:57:13.003768",
     "status": "completed"
    },
    "scrolled": false,
    "tags": []
   },
   "outputs": [],
   "source": [
    "def create_carousel(npub=4):\n",
    "    \"\"\" Generate the HTML code for a carousel with `npub` slides \"\"\"\n",
    "    carousel = [\"\"\"  <div class=\"carousel\" \"\"\",\n",
    "                \"\"\"       data-flickity='{ \"autoPlay\": 10000, \"adaptiveHeight\": true, \"resize\": true, \"wrapAround\": true, \"pauseAutoPlayOnHover\": true, \"groupCells\": 1 }' id=\"asyncTypeset\">\"\"\"\n",
    "                ]\n",
    "    \n",
    "    item_str = \"\"\"    <div class=\"carousel-cell\"> <div id=\"slide{k}\" class=\"md_view\">Content {k}</div> </div>\"\"\"\n",
    "    for k in range(1, npub + 1):\n",
    "        carousel.append(item_str.format(k=k))\n",
    "    carousel.append(\"  </div>\")\n",
    "    return '\\n'.join(carousel)"
   ]
  },
  {
   "cell_type": "code",
   "execution_count": 13,
   "id": "a6eac5b6",
   "metadata": {
    "execution": {
     "iopub.execute_input": "2023-03-09T12:57:13.035907Z",
     "iopub.status.busy": "2023-03-09T12:57:13.035410Z",
     "iopub.status.idle": "2023-03-09T12:57:13.041206Z",
     "shell.execute_reply": "2023-03-09T12:57:13.040536Z"
    },
    "papermill": {
     "duration": 0.015658,
     "end_time": "2023-03-09T12:57:13.042741",
     "exception": false,
     "start_time": "2023-03-09T12:57:13.027083",
     "status": "completed"
    },
    "scrolled": false,
    "tags": []
   },
   "outputs": [],
   "source": [
    "carousel = create_carousel(npub)\n",
    "docs = ', '.join(['\"{0:s}\"'.format(k.split('/')[-1]) for k in res])\n",
    "slides = ', '.join([f'\"slide{k}\"' for k in range(1, npub + 1)])\n",
    "\n",
    "with open(\"daily_template.html\", \"r\") as tpl:\n",
    "    page = tpl.read()\n",
    "    page = page.replace(\"{%-- carousel:s --%}\", carousel)\\\n",
    "               .replace(\"{%-- suptitle:s --%}\",  \"7-day archives\" )\\\n",
    "               .replace(\"{%-- docs:s --%}\", docs)\\\n",
    "               .replace(\"{%-- slides:s --%}\", slides)\n",
    "    \n",
    "with open(\"_build/html/index_7days.html\", 'w') as fout:\n",
    "    fout.write(page)"
   ]
  },
  {
   "cell_type": "code",
   "execution_count": 14,
   "id": "adc1a1ec",
   "metadata": {
    "execution": {
     "iopub.execute_input": "2023-03-09T12:57:13.060145Z",
     "iopub.status.busy": "2023-03-09T12:57:13.059371Z",
     "iopub.status.idle": "2023-03-09T12:57:13.067772Z",
     "shell.execute_reply": "2023-03-09T12:57:13.067176Z"
    },
    "papermill": {
     "duration": 0.019592,
     "end_time": "2023-03-09T12:57:13.070331",
     "exception": false,
     "start_time": "2023-03-09T12:57:13.050739",
     "status": "completed"
    },
    "tags": []
   },
   "outputs": [
    {
     "name": "stdout",
     "output_type": "stream",
     "text": [
      "1  publications in the last day.\n",
      "  <div class=\"carousel\" \n",
      "       data-flickity='{ \"autoPlay\": 10000, \"adaptiveHeight\": true, \"resize\": true, \"wrapAround\": true, \"pauseAutoPlayOnHover\": true, \"groupCells\": 1 }' id=\"asyncTypeset\">\n",
      "    <div class=\"carousel-cell\"> <div id=\"slide1\" class=\"md_view\">Content 1</div> </div>\n",
      "  </div> \"2303.04727.md\" \"slide1\"\n",
      "<!DOCTYPE html>\n",
      "<html lang=\"en\">\n",
      "\n",
      "<head>\n",
      "    <meta charset=\"utf-8\">\n",
      "    <meta name=\"viewport\" content=\"width=device-width, initial-scale=1.0\" />\n",
      "    <!-- Remove caching as much as possible -->\n",
      "    <meta http-equiv=\"cache-control\" content=\"no-cache\" />\n",
      "    <meta http-equiv=\"Pragma\" content=\"no-cache\" />\n",
      "    <meta http-equiv=\"Expires\" content=\"-1\" />\n",
      "    <!-- flickity bootstrap CSS -->\n",
      "    <link rel=\"stylesheet\" href=\"https://unpkg.com/flickity@2/dist/flickity.min.css\">\n",
      "    <!-- Bootstrap CSS -->\n",
      "    <link href=\"https://cdn.jsdelivr.net/npm/bootstrap@5.0.2/dist/css/bootstrap.min.css\" rel=\"stylesheet\"\n",
      "        integrity=\"sha384-EVSTQN3/azprG1Anm3QDgpJLIm9Nao0Yz1ztcQTwFspd3yD65VohhpuuCOmLASjC\" crossorigin=\"anonymous\">\n",
      "    <!-- highlight.js CSS -->\n",
      "    <link rel=\"stylesheet\" href=\"https://cdnjs.cloudflare.com/ajax/libs/highlight.js/11.1.0/styles/default.min.css\">\n",
      "    <!-- flickity local CSS -->\n",
      "    <link rel=\"stylesheet\" href=\"flickity.css\">\n",
      "    <!-- markdown local CSS -->\n",
      "    <link rel=\"stylesheet\" href=\"markdown.css\">\n",
      "\n",
      "    <link rel=\"icon\" type=\"image/x-icon\"\n",
      "        href=\"https://www.mpia.de/assets/touch-icon-32x32-a66937bcebc4e8894ebff1f41a366c7c7220fd97a38869ee0f2db65a9f59b6c1.png\">\n",
      "    <title>MPIA Arxiv on deck!</title>\n",
      "</head>\n",
      "\n",
      "<body>\n",
      "    <div id=\"header\"> <img src=\"header_banner.png\" width=\"100%\"></div>\n",
      "    <div id=\"suptitle\"> Daily </div>\n",
      "    <div id=\"info\">\n",
      "        <img src=\"https://pngimg.com/uploads/github/github_PNG58.png\" height=30rem></img>\n",
      "        <a href=https://github.com/mpi-astronomy/arxiv_display style=\"color:black;\">github/mpi-astronomy/arxiv_display</a>\n",
      "    </div>\n",
      "\n",
      "    <!-- Flickity HTML init -->\n",
      "      <div class=\"carousel\" \n",
      "       data-flickity='{ \"autoPlay\": 10000, \"adaptiveHeight\": true, \"resize\": true, \"wrapAround\": true, \"pauseAutoPlayOnHover\": true, \"groupCells\": 1 }' id=\"asyncTypeset\">\n",
      "    <div class=\"carousel-cell\"> <div id=\"slide1\" class=\"md_view\">Content 1</div> </div>\n",
      "  </div>\n",
      "\n",
      "</body>\n",
      "\n",
      "<script src=\"//cdnjs.cloudflare.com/ajax/libs/jquery/2.1.3/jquery.min.js\"></script>\n",
      "<script src=\"https://unpkg.com/flickity@2/dist/flickity.pkgd.min.js\"></script>\n",
      "<script src=\"https://cdnjs.cloudflare.com/ajax/libs/highlight.js/11.5.0/highlight.min.js\"></script>\n",
      "<!-- marked.js -->\n",
      "<script src=\"https://cdn.jsdelivr.net/npm/marked/marked.min.js\"></script>\n",
      "<!-- MD content -->\n",
      "<script>\n",
      "    const docs = [\"2303.04727.md\"];\n",
      "    const slides = [\"slide1\"];\n",
      "\n",
      "    async function run() {\n",
      "        for (let i = 0; i < docs.length; i++) {\n",
      "            let file = await fetch(docs[i]);\n",
      "            let text = await file.text()\n",
      "            document.getElementById(slides[i]).innerHTML =\n",
      "                marked.parse(text);\n",
      "        }\n",
      "        hljs.highlightAll();\n",
      "    }\n",
      "    run()\n",
      "</script>\n",
      "<!-- Mathjax 3 -->\n",
      "<script type=\"text/javascript\" id=\"MathJax-config\" src=\"mathjax_config.js\"> </script>\n",
      "<script type=\"text/javascript\" id=\"MathJax-script\" async src=\"https://cdn.jsdelivr.net/npm/mathjax@3/es5/tex-svg.js\"></script>\n",
      "<!-- Mathjax 3 async promise refresh for dynamic text -->\n",
      "<script>\n",
      "    const asyncTypeset = document.querySelector('#asyncTypeset')\n",
      "    setTimeout(async function () {\n",
      "        await MathJax.typesetPromise().catch((err) => console.log('Typeset failed: ' + err.message));\n",
      "        console.log('refreshed MathJax typeset');\n",
      "    }, 3000)\n",
      "</script>\n",
      "\n",
      "</html>\n"
     ]
    }
   ],
   "source": [
    "# redo for today\n",
    "days = 1\n",
    "res = list(get_last_n_days(dates, days))\n",
    "npub = len(res)\n",
    "print(len(res), f\" publications in the last day.\")\n",
    "\n",
    "carousel = create_carousel(npub)\n",
    "docs = ', '.join(['\"{0:s}\"'.format(k.split('/')[-1]) for k in res])\n",
    "slides = ', '.join([f'\"slide{k}\"' for k in range(1, npub + 1)])\n",
    "\n",
    "with open(\"daily_template.html\", \"r\") as tpl:\n",
    "    page = tpl.read()\n",
    "    page = page.replace(\"{%-- carousel:s --%}\", carousel)\\\n",
    "               .replace(\"{%-- suptitle:s --%}\",  \"Daily\" )\\\n",
    "               .replace(\"{%-- docs:s --%}\", docs)\\\n",
    "               .replace(\"{%-- slides:s --%}\", slides)\n",
    "    \n",
    "print(carousel, docs, slides)\n",
    "print(page)\n",
    "with open(\"_build/html/index_daily.html\", 'w') as fout:\n",
    "    fout.write(page)"
   ]
  }
 ],
 "metadata": {
  "kernelspec": {
   "display_name": "Python 3 (ipykernel)",
   "language": "python",
   "name": "python3"
  },
  "language_info": {
   "codemirror_mode": {
    "name": "ipython",
    "version": 3
   },
   "file_extension": ".py",
   "mimetype": "text/x-python",
   "name": "python",
   "nbconvert_exporter": "python",
   "pygments_lexer": "ipython3",
   "version": "3.9.16"
  },
  "papermill": {
   "default_parameters": {},
   "duration": 203.464463,
   "end_time": "2023-03-09T12:57:13.396233",
   "environment_variables": {},
   "exception": null,
   "input_path": "MPIA daily digest.ipynb",
   "output_path": "log.ipynb",
   "parameters": {},
   "start_time": "2023-03-09T12:53:49.931770",
   "version": "2.4.0"
  },
  "vscode": {
   "interpreter": {
    "hash": "aee8b7b246df8f9039afb4144a1f6fd8d2ca17a180786b69acc140d282b71a49"
   }
  },
  "widgets": {
   "application/vnd.jupyter.widget-state+json": {
    "state": {
     "0121bdb68c9947bdbba12430d4bf187e": {
      "model_module": "@jupyter-widgets/controls",
      "model_module_version": "2.0.0",
      "model_name": "HTMLStyleModel",
      "state": {
       "_model_module": "@jupyter-widgets/controls",
       "_model_module_version": "2.0.0",
       "_model_name": "HTMLStyleModel",
       "_view_count": null,
       "_view_module": "@jupyter-widgets/base",
       "_view_module_version": "2.0.0",
       "_view_name": "StyleView",
       "background": null,
       "description_width": "",
       "font_size": null,
       "text_color": null
      }
     },
     "2296a09148784d2386d303b64e006476": {
      "model_module": "@jupyter-widgets/base",
      "model_module_version": "2.0.0",
      "model_name": "LayoutModel",
      "state": {
       "_model_module": "@jupyter-widgets/base",
       "_model_module_version": "2.0.0",
       "_model_name": "LayoutModel",
       "_view_count": null,
       "_view_module": "@jupyter-widgets/base",
       "_view_module_version": "2.0.0",
       "_view_name": "LayoutView",
       "align_content": null,
       "align_items": null,
       "align_self": null,
       "border_bottom": null,
       "border_left": null,
       "border_right": null,
       "border_top": null,
       "bottom": null,
       "display": null,
       "flex": null,
       "flex_flow": null,
       "grid_area": null,
       "grid_auto_columns": null,
       "grid_auto_flow": null,
       "grid_auto_rows": null,
       "grid_column": null,
       "grid_gap": null,
       "grid_row": null,
       "grid_template_areas": null,
       "grid_template_columns": null,
       "grid_template_rows": null,
       "height": null,
       "justify_content": null,
       "justify_items": null,
       "left": null,
       "margin": null,
       "max_height": null,
       "max_width": null,
       "min_height": null,
       "min_width": null,
       "object_fit": null,
       "object_position": null,
       "order": null,
       "overflow": null,
       "padding": null,
       "right": null,
       "top": null,
       "visibility": null,
       "width": null
      }
     },
     "2b37d061a4844a2baba6dc7df639c794": {
      "model_module": "@jupyter-widgets/controls",
      "model_module_version": "2.0.0",
      "model_name": "HBoxModel",
      "state": {
       "_dom_classes": [],
       "_model_module": "@jupyter-widgets/controls",
       "_model_module_version": "2.0.0",
       "_model_name": "HBoxModel",
       "_view_count": null,
       "_view_module": "@jupyter-widgets/controls",
       "_view_module_version": "2.0.0",
       "_view_name": "HBoxView",
       "box_style": "",
       "children": [
        "IPY_MODEL_5259a5c2658f4d32a55750afb6a24011",
        "IPY_MODEL_52c37ea30a4c438384b8494454cae52d",
        "IPY_MODEL_dd877ae1164642c4a8e8d355a164eef6"
       ],
       "layout": "IPY_MODEL_704d446e170f48cd82088d9509674d28",
       "tabbable": null,
       "tooltip": null
      }
     },
     "4a59b711e2c64658a1d79c8acfc75900": {
      "model_module": "@jupyter-widgets/controls",
      "model_module_version": "2.0.0",
      "model_name": "ProgressStyleModel",
      "state": {
       "_model_module": "@jupyter-widgets/controls",
       "_model_module_version": "2.0.0",
       "_model_name": "ProgressStyleModel",
       "_view_count": null,
       "_view_module": "@jupyter-widgets/base",
       "_view_module_version": "2.0.0",
       "_view_name": "StyleView",
       "bar_color": null,
       "description_width": ""
      }
     },
     "5259a5c2658f4d32a55750afb6a24011": {
      "model_module": "@jupyter-widgets/controls",
      "model_module_version": "2.0.0",
      "model_name": "HTMLModel",
      "state": {
       "_dom_classes": [],
       "_model_module": "@jupyter-widgets/controls",
       "_model_module_version": "2.0.0",
       "_model_name": "HTMLModel",
       "_view_count": null,
       "_view_module": "@jupyter-widgets/controls",
       "_view_module_version": "2.0.0",
       "_view_name": "HTMLView",
       "description": "",
       "description_allow_html": false,
       "layout": "IPY_MODEL_fbbe3772d00f4b31aef71bfe34363828",
       "placeholder": "​",
       "style": "IPY_MODEL_bc79ebaebb8d4e1c95075d78dbfb4c95",
       "tabbable": null,
       "tooltip": null,
       "value": "100%"
      }
     },
     "52c37ea30a4c438384b8494454cae52d": {
      "model_module": "@jupyter-widgets/controls",
      "model_module_version": "2.0.0",
      "model_name": "FloatProgressModel",
      "state": {
       "_dom_classes": [],
       "_model_module": "@jupyter-widgets/controls",
       "_model_module_version": "2.0.0",
       "_model_name": "FloatProgressModel",
       "_view_count": null,
       "_view_module": "@jupyter-widgets/controls",
       "_view_module_version": "2.0.0",
       "_view_name": "ProgressView",
       "bar_style": "success",
       "description": "",
       "description_allow_html": false,
       "layout": "IPY_MODEL_9678ad1c214d4f88bad2106c82cea216",
       "max": 7.0,
       "min": 0.0,
       "orientation": "horizontal",
       "style": "IPY_MODEL_4a59b711e2c64658a1d79c8acfc75900",
       "tabbable": null,
       "tooltip": null,
       "value": 7.0
      }
     },
     "704d446e170f48cd82088d9509674d28": {
      "model_module": "@jupyter-widgets/base",
      "model_module_version": "2.0.0",
      "model_name": "LayoutModel",
      "state": {
       "_model_module": "@jupyter-widgets/base",
       "_model_module_version": "2.0.0",
       "_model_name": "LayoutModel",
       "_view_count": null,
       "_view_module": "@jupyter-widgets/base",
       "_view_module_version": "2.0.0",
       "_view_name": "LayoutView",
       "align_content": null,
       "align_items": null,
       "align_self": null,
       "border_bottom": null,
       "border_left": null,
       "border_right": null,
       "border_top": null,
       "bottom": null,
       "display": null,
       "flex": null,
       "flex_flow": null,
       "grid_area": null,
       "grid_auto_columns": null,
       "grid_auto_flow": null,
       "grid_auto_rows": null,
       "grid_column": null,
       "grid_gap": null,
       "grid_row": null,
       "grid_template_areas": null,
       "grid_template_columns": null,
       "grid_template_rows": null,
       "height": null,
       "justify_content": null,
       "justify_items": null,
       "left": null,
       "margin": null,
       "max_height": null,
       "max_width": null,
       "min_height": null,
       "min_width": null,
       "object_fit": null,
       "object_position": null,
       "order": null,
       "overflow": null,
       "padding": null,
       "right": null,
       "top": null,
       "visibility": null,
       "width": null
      }
     },
     "9678ad1c214d4f88bad2106c82cea216": {
      "model_module": "@jupyter-widgets/base",
      "model_module_version": "2.0.0",
      "model_name": "LayoutModel",
      "state": {
       "_model_module": "@jupyter-widgets/base",
       "_model_module_version": "2.0.0",
       "_model_name": "LayoutModel",
       "_view_count": null,
       "_view_module": "@jupyter-widgets/base",
       "_view_module_version": "2.0.0",
       "_view_name": "LayoutView",
       "align_content": null,
       "align_items": null,
       "align_self": null,
       "border_bottom": null,
       "border_left": null,
       "border_right": null,
       "border_top": null,
       "bottom": null,
       "display": null,
       "flex": null,
       "flex_flow": null,
       "grid_area": null,
       "grid_auto_columns": null,
       "grid_auto_flow": null,
       "grid_auto_rows": null,
       "grid_column": null,
       "grid_gap": null,
       "grid_row": null,
       "grid_template_areas": null,
       "grid_template_columns": null,
       "grid_template_rows": null,
       "height": null,
       "justify_content": null,
       "justify_items": null,
       "left": null,
       "margin": null,
       "max_height": null,
       "max_width": null,
       "min_height": null,
       "min_width": null,
       "object_fit": null,
       "object_position": null,
       "order": null,
       "overflow": null,
       "padding": null,
       "right": null,
       "top": null,
       "visibility": null,
       "width": null
      }
     },
     "bc79ebaebb8d4e1c95075d78dbfb4c95": {
      "model_module": "@jupyter-widgets/controls",
      "model_module_version": "2.0.0",
      "model_name": "HTMLStyleModel",
      "state": {
       "_model_module": "@jupyter-widgets/controls",
       "_model_module_version": "2.0.0",
       "_model_name": "HTMLStyleModel",
       "_view_count": null,
       "_view_module": "@jupyter-widgets/base",
       "_view_module_version": "2.0.0",
       "_view_name": "StyleView",
       "background": null,
       "description_width": "",
       "font_size": null,
       "text_color": null
      }
     },
     "dd877ae1164642c4a8e8d355a164eef6": {
      "model_module": "@jupyter-widgets/controls",
      "model_module_version": "2.0.0",
      "model_name": "HTMLModel",
      "state": {
       "_dom_classes": [],
       "_model_module": "@jupyter-widgets/controls",
       "_model_module_version": "2.0.0",
       "_model_name": "HTMLModel",
       "_view_count": null,
       "_view_module": "@jupyter-widgets/controls",
       "_view_module_version": "2.0.0",
       "_view_name": "HTMLView",
       "description": "",
       "description_allow_html": false,
       "layout": "IPY_MODEL_2296a09148784d2386d303b64e006476",
       "placeholder": "​",
       "style": "IPY_MODEL_0121bdb68c9947bdbba12430d4bf187e",
       "tabbable": null,
       "tooltip": null,
       "value": " 7/7 [02:57&lt;00:00, 53.42s/it]"
      }
     },
     "fbbe3772d00f4b31aef71bfe34363828": {
      "model_module": "@jupyter-widgets/base",
      "model_module_version": "2.0.0",
      "model_name": "LayoutModel",
      "state": {
       "_model_module": "@jupyter-widgets/base",
       "_model_module_version": "2.0.0",
       "_model_name": "LayoutModel",
       "_view_count": null,
       "_view_module": "@jupyter-widgets/base",
       "_view_module_version": "2.0.0",
       "_view_name": "LayoutView",
       "align_content": null,
       "align_items": null,
       "align_self": null,
       "border_bottom": null,
       "border_left": null,
       "border_right": null,
       "border_top": null,
       "bottom": null,
       "display": null,
       "flex": null,
       "flex_flow": null,
       "grid_area": null,
       "grid_auto_columns": null,
       "grid_auto_flow": null,
       "grid_auto_rows": null,
       "grid_column": null,
       "grid_gap": null,
       "grid_row": null,
       "grid_template_areas": null,
       "grid_template_columns": null,
       "grid_template_rows": null,
       "height": null,
       "justify_content": null,
       "justify_items": null,
       "left": null,
       "margin": null,
       "max_height": null,
       "max_width": null,
       "min_height": null,
       "min_width": null,
       "object_fit": null,
       "object_position": null,
       "order": null,
       "overflow": null,
       "padding": null,
       "right": null,
       "top": null,
       "visibility": null,
       "width": null
      }
     }
    },
    "version_major": 2,
    "version_minor": 0
   }
  }
 },
 "nbformat": 4,
 "nbformat_minor": 5
}