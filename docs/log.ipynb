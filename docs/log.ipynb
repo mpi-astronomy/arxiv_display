{
 "cells": [
  {
   "cell_type": "markdown",
   "id": "92bcb855",
   "metadata": {
    "papermill": {
     "duration": 0.004898,
     "end_time": "2022-12-06T04:03:12.850714",
     "exception": false,
     "start_time": "2022-12-06T04:03:12.845816",
     "status": "completed"
    },
    "tags": []
   },
   "source": [
    "# MPIA Arxiv on Deck 2\n",
    "\n",
    "Contains the steps to produce the paper extractions."
   ]
  },
  {
   "cell_type": "code",
   "execution_count": 1,
   "id": "3a0d6e11",
   "metadata": {
    "execution": {
     "iopub.execute_input": "2022-12-06T04:03:12.860680Z",
     "iopub.status.busy": "2022-12-06T04:03:12.859961Z",
     "iopub.status.idle": "2022-12-06T04:03:13.028978Z",
     "shell.execute_reply": "2022-12-06T04:03:13.028328Z"
    },
    "papermill": {
     "duration": 0.176032,
     "end_time": "2022-12-06T04:03:13.030980",
     "exception": false,
     "start_time": "2022-12-06T04:03:12.854948",
     "status": "completed"
    },
    "tags": []
   },
   "outputs": [],
   "source": [
    "# Imports\n",
    "import os\n",
    "from IPython.display import Markdown, display\n",
    "from tqdm.notebook import tqdm\n",
    "import warnings\n",
    "from PIL import Image \n",
    "\n",
    "# requires arxiv_on_deck_2\n",
    "\n",
    "from arxiv_on_deck_2.arxiv2 import (get_new_papers, \n",
    "                                    get_paper_from_identifier,\n",
    "                                    retrieve_document_source, \n",
    "                                    get_markdown_badge)\n",
    "from arxiv_on_deck_2 import (latex, \n",
    "                             mpia,\n",
    "                             highlight_authors_in_list)\n",
    "\n",
    "# Sometimes images are really big\n",
    "Image.MAX_IMAGE_PIXELS = 1000000000 "
   ]
  },
  {
   "cell_type": "code",
   "execution_count": 2,
   "id": "22aa9d44",
   "metadata": {
    "execution": {
     "iopub.execute_input": "2022-12-06T04:03:13.042443Z",
     "iopub.status.busy": "2022-12-06T04:03:13.041784Z",
     "iopub.status.idle": "2022-12-06T04:03:13.047752Z",
     "shell.execute_reply": "2022-12-06T04:03:13.047092Z"
    },
    "papermill": {
     "duration": 0.014259,
     "end_time": "2022-12-06T04:03:13.049415",
     "exception": false,
     "start_time": "2022-12-06T04:03:13.035156",
     "status": "completed"
    },
    "tags": []
   },
   "outputs": [],
   "source": [
    "# Some useful definitions.\n",
    "\n",
    "class AffiliationWarning(UserWarning):\n",
    "    pass\n",
    "\n",
    "class AffiliationError(RuntimeError):\n",
    "    pass\n",
    "\n",
    "def validation(source: str):\n",
    "    \"\"\"Raises error paper during parsing of source file\n",
    "    \n",
    "    Allows checks before parsing TeX code.\n",
    "    \n",
    "    Raises AffiliationWarning\n",
    "    \"\"\"\n",
    "    check = mpia.affiliation_verifications(source, verbose=True)\n",
    "    if check is not True:\n",
    "        raise AffiliationError(\"mpia.affiliation_verifications: \" + check)\n",
    "\n",
    "        \n",
    "warnings.simplefilter('always', AffiliationWarning)"
   ]
  },
  {
   "cell_type": "code",
   "execution_count": 3,
   "id": "14622700",
   "metadata": {
    "execution": {
     "iopub.execute_input": "2022-12-06T04:03:13.058981Z",
     "iopub.status.busy": "2022-12-06T04:03:13.058349Z",
     "iopub.status.idle": "2022-12-06T04:03:13.062166Z",
     "shell.execute_reply": "2022-12-06T04:03:13.061668Z"
    },
    "papermill": {
     "duration": 0.010743,
     "end_time": "2022-12-06T04:03:13.064159",
     "exception": false,
     "start_time": "2022-12-06T04:03:13.053416",
     "status": "completed"
    },
    "tags": []
   },
   "outputs": [],
   "source": [
    "# additional CSS to consider. \n",
    "# TODO: Current into each exported file. \n",
    "#       This should be set once into the webpages directly.\n",
    "#       With only the class/id definitions in the .md files.\n",
    "\n",
    "debug_html = \"\"\"\n",
    "<style>\n",
    "#wrap{ overflow:auto; }\n",
    "#fig1{ background:yellow; width:100%; float:left; padding:5px;  }\n",
    "#fig2{ background:red; width:50%; float:left; clear:left; padding:5px;  }\n",
    "#fig3{ background:green; width:50%; float:left; padding:5px;   }\n",
    ".macros{ background:yellow; visibility:visible;}\n",
    "h1 {margin: 0 0 0 0;}\n",
    "mark {background-color:#fff3b6;}\n",
    "img {object-fit:contain; max-height:250px; display:inline-block; text-align: center;}\n",
    "</style>\n",
    "\"\"\" \n",
    "html = \"\"\"\n",
    "<style>\n",
    "#wrap{ overflow:auto; }\n",
    "#fig1{ width:100%; float:left; padding: 5px;  }\n",
    "#fig2{ width:50%; float:left; clear:left; padding: 5px;  }\n",
    "#fig3{ width:50%; float:left; padding: 5px;  }\n",
    ".macros{ visibility:hidden; height:0px; }\n",
    "h1 {margin: 0em 0 0 0;}\n",
    "mark {background-color:#fff3b6;}\n",
    "img {object-fit:contain; max-height:250px; display:inline-block; text-align: center;}\n",
    "</style>\n",
    "\"\"\""
   ]
  },
  {
   "cell_type": "markdown",
   "id": "14bd6310",
   "metadata": {
    "papermill": {
     "duration": 0.003835,
     "end_time": "2022-12-06T04:03:13.072040",
     "exception": false,
     "start_time": "2022-12-06T04:03:13.068205",
     "status": "completed"
    },
    "tags": []
   },
   "source": [
    "## get list of arxiv paper candidates\n",
    "\n",
    "We use the MPIA mitarbeiter list webpage from mpia.de to get author names\n",
    "We then get all new papers from Arxiv and match authors"
   ]
  },
  {
   "cell_type": "code",
   "execution_count": 4,
   "id": "2645e73a",
   "metadata": {
    "execution": {
     "iopub.execute_input": "2022-12-06T04:03:13.081505Z",
     "iopub.status.busy": "2022-12-06T04:03:13.080979Z",
     "iopub.status.idle": "2022-12-06T04:03:39.463665Z",
     "shell.execute_reply": "2022-12-06T04:03:39.462943Z"
    },
    "papermill": {
     "duration": 26.389593,
     "end_time": "2022-12-06T04:03:39.465593",
     "exception": false,
     "start_time": "2022-12-06T04:03:13.076000",
     "status": "completed"
    },
    "tags": []
   },
   "outputs": [
    {
     "name": "stdout",
     "output_type": "stream",
     "text": [
      "Arxiv has 72 new papers today\n",
      "          39 with possible author matches\n"
     ]
    }
   ],
   "source": [
    "# get list from MPIA website\n",
    "# it automatically filters identified non-scientists :func:`mpia.filter_non_scientists`\n",
    "mpia_authors = mpia.get_mpia_mitarbeiter_list()\n",
    "new_papers = get_new_papers()\n",
    "# add manual references\n",
    "add_paper_refs = []\n",
    "new_papers.extend([get_paper_from_identifier(k) for k in add_paper_refs])\n",
    "\n",
    "# select only papers with matching author names and highlight authors\n",
    "hl_list = [k[0] for k in mpia_authors]\n",
    "\n",
    "candidates = []\n",
    "for paperk in new_papers:\n",
    "    hl_authors = highlight_authors_in_list(paperk['authors'], hl_list)\n",
    "    matches = [(hl, orig) for hl, orig in zip(hl_authors, paperk['authors']) if 'mark' in hl]\n",
    "    paperk['authors'] = hl_authors\n",
    "    if matches:\n",
    "        candidates.append(paperk)\n",
    "print(\"\"\"Arxiv has {0:,d} new papers today\"\"\".format(len(new_papers)))        \n",
    "print(\"\"\"          {0:,d} with possible author matches\"\"\".format(len(candidates)))"
   ]
  },
  {
   "cell_type": "markdown",
   "id": "3543b34a",
   "metadata": {
    "papermill": {
     "duration": 0.004387,
     "end_time": "2022-12-06T04:03:39.474321",
     "exception": false,
     "start_time": "2022-12-06T04:03:39.469934",
     "status": "completed"
    },
    "tags": []
   },
   "source": [
    "# Parse sources and generate relevant outputs\n",
    "\n",
    "From the candidates, we do the following steps:\n",
    "* get their tarball from ArXiv (and extract data)\n",
    "* find the main .tex file: find one with \\documentclass{...} (sometimes it's non trivial)\n",
    "* Check affiliations with :func:`validation`, which uses :func:`mpia.affiliation_verifications`\n",
    "* If passing the affiliations: we parse the .tex source\n",
    "   * inject sub-documents into the main (flatten the main document)\n",
    "   * parse structure, extract information (title, abstract, authors, figures...)\n",
    "   * handles `\\graphicspath` if provided\n",
    "* Generate the .md document."
   ]
  },
  {
   "cell_type": "code",
   "execution_count": 5,
   "id": "9576b79e",
   "metadata": {
    "execution": {
     "iopub.execute_input": "2022-12-06T04:03:39.483927Z",
     "iopub.status.busy": "2022-12-06T04:03:39.483272Z",
     "iopub.status.idle": "2022-12-06T04:07:08.071307Z",
     "shell.execute_reply": "2022-12-06T04:07:08.070466Z"
    },
    "papermill": {
     "duration": 208.594714,
     "end_time": "2022-12-06T04:07:08.073033",
     "exception": false,
     "start_time": "2022-12-06T04:03:39.478319",
     "status": "completed"
    },
    "scrolled": false,
    "tags": []
   },
   "outputs": [
    {
     "data": {
      "application/vnd.jupyter.widget-view+json": {
       "model_id": "7deb549932aa4f09b7008f2a541dff45",
       "version_major": 2,
       "version_minor": 0
      },
      "text/plain": [
       "  0%|          | 0/38 [00:00<?, ?it/s]"
      ]
     },
     "metadata": {},
     "output_type": "display_data"
    },
    {
     "name": "stdout",
     "output_type": "stream",
     "text": [
      "Retrieving document from  https://arxiv.org/e-print/2212.01397\n"
     ]
    },
    {
     "name": "stdout",
     "output_type": "stream",
     "text": [
      "extracting tarball to tmp_2212.01397..."
     ]
    },
    {
     "name": "stdout",
     "output_type": "stream",
     "text": [
      " done.\n"
     ]
    },
    {
     "name": "stderr",
     "output_type": "stream",
     "text": [
      "/opt/hostedtoolcache/Python/3.9.15/x64/lib/python3.9/site-packages/IPython/core/interactiveshell.py:3433: LatexWarning: Multiple tex files.\n",
      "\n",
      "  exec(code_obj, self.user_global_ns, self.user_ns)\n",
      "/opt/hostedtoolcache/Python/3.9.15/x64/lib/python3.9/site-packages/IPython/core/interactiveshell.py:3433: LatexWarning: Found documentclass in tmp_2212.01397/main.tex\n",
      "\n",
      "  exec(code_obj, self.user_global_ns, self.user_ns)\n",
      "/opt/hostedtoolcache/Python/3.9.15/x64/lib/python3.9/site-packages/arxiv_on_deck_2/latex.py:292: LatexWarning: Latex injecting: 'bib' from 'tmp_2212.01397/bib.tex'\n",
      "  warnings.warn(LatexWarning(f\"Latex injecting: '{ext}' from '{subsource}'\"))\n"
     ]
    },
    {
     "name": "stdout",
     "output_type": "stream",
     "text": [
      "Retrieving document from  https://arxiv.org/e-print/2212.01399\n"
     ]
    },
    {
     "name": "stdout",
     "output_type": "stream",
     "text": [
      "extracting tarball to tmp_2212.01399..."
     ]
    },
    {
     "name": "stdout",
     "output_type": "stream",
     "text": [
      " done.\n",
      "Retrieving document from  https://arxiv.org/e-print/2212.01402\n"
     ]
    },
    {
     "name": "stdout",
     "output_type": "stream",
     "text": [
      "extracting tarball to tmp_2212.01402..."
     ]
    },
    {
     "name": "stdout",
     "output_type": "stream",
     "text": [
      " done.\n",
      "Retrieving document from  https://arxiv.org/e-print/2212.01405\n"
     ]
    },
    {
     "name": "stdout",
     "output_type": "stream",
     "text": [
      "extracting tarball to tmp_2212.01405..."
     ]
    },
    {
     "name": "stdout",
     "output_type": "stream",
     "text": [
      " done.\n",
      "Retrieving document from  https://arxiv.org/e-print/2212.01417\n"
     ]
    },
    {
     "name": "stdout",
     "output_type": "stream",
     "text": [
      "extracting tarball to tmp_2212.01417..."
     ]
    },
    {
     "name": "stdout",
     "output_type": "stream",
     "text": [
      " done.\n",
      "Retrieving document from  https://arxiv.org/e-print/2212.01456\n"
     ]
    },
    {
     "name": "stderr",
     "output_type": "stream",
     "text": [
      "/opt/hostedtoolcache/Python/3.9.15/x64/lib/python3.9/site-packages/IPython/core/interactiveshell.py:3433: LatexWarning: Multiple tex files.\n",
      "\n",
      "  exec(code_obj, self.user_global_ns, self.user_ns)\n",
      "/opt/hostedtoolcache/Python/3.9.15/x64/lib/python3.9/site-packages/IPython/core/interactiveshell.py:3433: LatexWarning: Found documentclass in tmp_2212.01417/mnras_guide.tex\n",
      "\n",
      "  exec(code_obj, self.user_global_ns, self.user_ns)\n"
     ]
    },
    {
     "name": "stdout",
     "output_type": "stream",
     "text": [
      "extracting tarball to tmp_2212.01456..."
     ]
    },
    {
     "name": "stdout",
     "output_type": "stream",
     "text": [
      " done.\n",
      "Retrieving document from  https://arxiv.org/e-print/2212.01465\n"
     ]
    },
    {
     "name": "stderr",
     "output_type": "stream",
     "text": [
      "/opt/hostedtoolcache/Python/3.9.15/x64/lib/python3.9/site-packages/IPython/core/interactiveshell.py:3433: LatexWarning: Multiple tex files.\n",
      "\n",
      "  exec(code_obj, self.user_global_ns, self.user_ns)\n",
      "/opt/hostedtoolcache/Python/3.9.15/x64/lib/python3.9/site-packages/IPython/core/interactiveshell.py:3433: LatexWarning: Found documentclass in tmp_2212.01456/sample631.tex\n",
      "\n",
      "  exec(code_obj, self.user_global_ns, self.user_ns)\n"
     ]
    },
    {
     "name": "stdout",
     "output_type": "stream",
     "text": [
      "extracting tarball to tmp_2212.01465..."
     ]
    },
    {
     "name": "stdout",
     "output_type": "stream",
     "text": [
      " done.\n",
      "Retrieving document from  https://arxiv.org/e-print/2212.01493\n"
     ]
    },
    {
     "name": "stderr",
     "output_type": "stream",
     "text": [
      "/tmp/ipykernel_2008/4030337529.py:34: LatexWarning: 2212.01493 did not run properly\n",
      "not a gzip file\n",
      "  warnings.warn(latex.LatexWarning(f\"{paper_id:s} did not run properly\\n\" +\n"
     ]
    },
    {
     "name": "stdout",
     "output_type": "stream",
     "text": [
      "Retrieving document from  https://arxiv.org/e-print/2212.01526\n"
     ]
    },
    {
     "name": "stdout",
     "output_type": "stream",
     "text": [
      "extracting tarball to tmp_2212.01526..."
     ]
    },
    {
     "name": "stdout",
     "output_type": "stream",
     "text": [
      " done.\n"
     ]
    },
    {
     "name": "stderr",
     "output_type": "stream",
     "text": [
      "/opt/hostedtoolcache/Python/3.9.15/x64/lib/python3.9/site-packages/IPython/core/interactiveshell.py:3433: LatexWarning: Multiple tex files.\n",
      "\n",
      "  exec(code_obj, self.user_global_ns, self.user_ns)\n",
      "/opt/hostedtoolcache/Python/3.9.15/x64/lib/python3.9/site-packages/IPython/core/interactiveshell.py:3433: LatexWarning: Found documentclass in tmp_2212.01526/ms.tex\n",
      "\n",
      "  exec(code_obj, self.user_global_ns, self.user_ns)\n",
      "/opt/hostedtoolcache/Python/3.9.15/x64/lib/python3.9/site-packages/arxiv_on_deck_2/latex.py:292: LatexWarning: Latex injecting: 'authors.tex' from 'tmp_2212.01526/authors.tex'\n",
      "  warnings.warn(LatexWarning(f\"Latex injecting: '{ext}' from '{subsource}'\"))\n"
     ]
    },
    {
     "name": "stdout",
     "output_type": "stream",
     "text": [
      "Retrieving document from  https://arxiv.org/e-print/2212.01532\n"
     ]
    },
    {
     "name": "stdout",
     "output_type": "stream",
     "text": [
      "extracting tarball to tmp_2212.01532..."
     ]
    },
    {
     "name": "stdout",
     "output_type": "stream",
     "text": [
      " done.\n",
      "Retrieving document from  https://arxiv.org/e-print/2212.01547\n"
     ]
    },
    {
     "name": "stdout",
     "output_type": "stream",
     "text": [
      "extracting tarball to tmp_2212.01547..."
     ]
    },
    {
     "name": "stdout",
     "output_type": "stream",
     "text": [
      " done.\n",
      "Retrieving document from  https://arxiv.org/e-print/2212.01592\n"
     ]
    },
    {
     "name": "stdout",
     "output_type": "stream",
     "text": [
      "extracting tarball to tmp_2212.01592..."
     ]
    },
    {
     "name": "stdout",
     "output_type": "stream",
     "text": [
      " done.\n",
      "Retrieving document from  https://arxiv.org/e-print/2212.01707\n"
     ]
    },
    {
     "name": "stderr",
     "output_type": "stream",
     "text": [
      "/opt/hostedtoolcache/Python/3.9.15/x64/lib/python3.9/site-packages/IPython/core/interactiveshell.py:3433: LatexWarning: Multiple tex files.\n",
      "\n",
      "  exec(code_obj, self.user_global_ns, self.user_ns)\n",
      "/opt/hostedtoolcache/Python/3.9.15/x64/lib/python3.9/site-packages/IPython/core/interactiveshell.py:3433: LatexWarning: Found documentclass in tmp_2212.01592/main.tex\n",
      "\n",
      "  exec(code_obj, self.user_global_ns, self.user_ns)\n",
      "/opt/hostedtoolcache/Python/3.9.15/x64/lib/python3.9/site-packages/arxiv_on_deck_2/latex.py:292: LatexWarning: Latex injecting: 'main.bbl' from 'tmp_2212.01592/main.tex'\n",
      "  warnings.warn(LatexWarning(f\"Latex injecting: '{ext}' from '{subsource}'\"))\n",
      "/opt/hostedtoolcache/Python/3.9.15/x64/lib/python3.9/site-packages/arxiv_on_deck_2/latex.py:292: LatexWarning: Latex injecting: 'main.bbl' from 'tmp_2212.01592/Solar relation_ statistical study_new/main.tex'\n",
      "  warnings.warn(LatexWarning(f\"Latex injecting: '{ext}' from '{subsource}'\"))\n"
     ]
    },
    {
     "name": "stdout",
     "output_type": "stream",
     "text": [
      "extracting tarball to tmp_2212.01707..."
     ]
    },
    {
     "name": "stdout",
     "output_type": "stream",
     "text": [
      " done.\n"
     ]
    },
    {
     "name": "stdout",
     "output_type": "stream",
     "text": [
      "Retrieving document from  https://arxiv.org/e-print/2212.01730\n"
     ]
    },
    {
     "name": "stdout",
     "output_type": "stream",
     "text": [
      "extracting tarball to tmp_2212.01730..."
     ]
    },
    {
     "name": "stdout",
     "output_type": "stream",
     "text": [
      " done.\n",
      "Retrieving document from  https://arxiv.org/e-print/2212.01804\n"
     ]
    },
    {
     "name": "stderr",
     "output_type": "stream",
     "text": [
      "/opt/hostedtoolcache/Python/3.9.15/x64/lib/python3.9/site-packages/IPython/core/interactiveshell.py:3433: LatexWarning: Multiple tex files.\n",
      "\n",
      "  exec(code_obj, self.user_global_ns, self.user_ns)\n",
      "/opt/hostedtoolcache/Python/3.9.15/x64/lib/python3.9/site-packages/IPython/core/interactiveshell.py:3433: LatexWarning: Found documentclass in tmp_2212.01730/frontiers.tex\n",
      "\n",
      "  exec(code_obj, self.user_global_ns, self.user_ns)\n"
     ]
    },
    {
     "name": "stdout",
     "output_type": "stream",
     "text": [
      "extracting tarball to tmp_2212.01804..."
     ]
    },
    {
     "name": "stdout",
     "output_type": "stream",
     "text": [
      " done.\n",
      "Retrieving document from  https://arxiv.org/e-print/2212.01843\n"
     ]
    },
    {
     "name": "stderr",
     "output_type": "stream",
     "text": [
      "/opt/hostedtoolcache/Python/3.9.15/x64/lib/python3.9/site-packages/IPython/core/interactiveshell.py:3433: LatexWarning: Multiple tex files.\n",
      "\n",
      "  exec(code_obj, self.user_global_ns, self.user_ns)\n",
      "/opt/hostedtoolcache/Python/3.9.15/x64/lib/python3.9/site-packages/IPython/core/interactiveshell.py:3433: LatexWarning: Found documentclass in tmp_2212.01804/main.tex\n",
      "\n",
      "  exec(code_obj, self.user_global_ns, self.user_ns)\n"
     ]
    },
    {
     "name": "stdout",
     "output_type": "stream",
     "text": [
      "extracting tarball to tmp_2212.01843..."
     ]
    },
    {
     "name": "stdout",
     "output_type": "stream",
     "text": [
      " done.\n",
      "Retrieving document from  https://arxiv.org/e-print/2212.01915\n"
     ]
    },
    {
     "name": "stderr",
     "output_type": "stream",
     "text": [
      "/opt/hostedtoolcache/Python/3.9.15/x64/lib/python3.9/site-packages/IPython/core/interactiveshell.py:3433: LatexWarning: Multiple tex files.\n",
      "\n",
      "  exec(code_obj, self.user_global_ns, self.user_ns)\n",
      "/opt/hostedtoolcache/Python/3.9.15/x64/lib/python3.9/site-packages/IPython/core/interactiveshell.py:3433: LatexWarning: Found documentclass in tmp_2212.01843/EP-PCA.tex\n",
      "\n",
      "  exec(code_obj, self.user_global_ns, self.user_ns)\n"
     ]
    },
    {
     "name": "stdout",
     "output_type": "stream",
     "text": [
      "extracting tarball to tmp_2212.01915..."
     ]
    },
    {
     "name": "stdout",
     "output_type": "stream",
     "text": [
      " done.\n",
      "Retrieving document from  https://arxiv.org/e-print/2212.01918\n"
     ]
    },
    {
     "name": "stdout",
     "output_type": "stream",
     "text": [
      "extracting tarball to tmp_2212.01918..."
     ]
    },
    {
     "name": "stdout",
     "output_type": "stream",
     "text": [
      " done.\n",
      "Retrieving document from  https://arxiv.org/e-print/2212.01974\n"
     ]
    },
    {
     "name": "stderr",
     "output_type": "stream",
     "text": [
      "/opt/hostedtoolcache/Python/3.9.15/x64/lib/python3.9/site-packages/IPython/core/interactiveshell.py:3433: LatexWarning: Multiple tex files.\n",
      "\n",
      "  exec(code_obj, self.user_global_ns, self.user_ns)\n",
      "/opt/hostedtoolcache/Python/3.9.15/x64/lib/python3.9/site-packages/IPython/core/interactiveshell.py:3433: LatexWarning: Found documentclass in tmp_2212.01918/main.tex\n",
      "\n",
      "  exec(code_obj, self.user_global_ns, self.user_ns)\n"
     ]
    },
    {
     "name": "stdout",
     "output_type": "stream",
     "text": [
      "extracting tarball to tmp_2212.01974... done.\n",
      "Retrieving document from  https://arxiv.org/e-print/2212.01979\n"
     ]
    },
    {
     "name": "stdout",
     "output_type": "stream",
     "text": [
      "extracting tarball to tmp_2212.01979... done.\n",
      "Retrieving document from  https://arxiv.org/e-print/2212.01981\n"
     ]
    },
    {
     "name": "stdout",
     "output_type": "stream",
     "text": [
      "extracting tarball to tmp_2212.01981..."
     ]
    },
    {
     "name": "stdout",
     "output_type": "stream",
     "text": [
      " done.\n",
      "Retrieving document from  https://arxiv.org/e-print/2212.02018\n"
     ]
    },
    {
     "name": "stdout",
     "output_type": "stream",
     "text": [
      "extracting tarball to tmp_2212.02018..."
     ]
    },
    {
     "name": "stdout",
     "output_type": "stream",
     "text": [
      " done.\n",
      "Retrieving document from  https://arxiv.org/e-print/2212.02050\n"
     ]
    },
    {
     "name": "stdout",
     "output_type": "stream",
     "text": [
      "extracting tarball to tmp_2212.02050... done.\n",
      "Retrieving document from  https://arxiv.org/e-print/2212.02061\n"
     ]
    },
    {
     "name": "stdout",
     "output_type": "stream",
     "text": [
      "extracting tarball to tmp_2212.02061..."
     ]
    },
    {
     "name": "stdout",
     "output_type": "stream",
     "text": [
      " done.\n",
      "Retrieving document from  https://arxiv.org/e-print/2212.02066\n"
     ]
    },
    {
     "name": "stderr",
     "output_type": "stream",
     "text": [
      "/opt/hostedtoolcache/Python/3.9.15/x64/lib/python3.9/site-packages/IPython/core/interactiveshell.py:3433: LatexWarning: Multiple tex files.\n",
      "\n",
      "  exec(code_obj, self.user_global_ns, self.user_ns)\n",
      "/opt/hostedtoolcache/Python/3.9.15/x64/lib/python3.9/site-packages/IPython/core/interactiveshell.py:3433: LatexWarning: Found documentclass in tmp_2212.02061/main.tex\n",
      "\n",
      "  exec(code_obj, self.user_global_ns, self.user_ns)\n"
     ]
    },
    {
     "name": "stdout",
     "output_type": "stream",
     "text": [
      "extracting tarball to tmp_2212.02066..."
     ]
    },
    {
     "name": "stdout",
     "output_type": "stream",
     "text": [
      " done.\n",
      "Retrieving document from  https://arxiv.org/e-print/2212.02123\n"
     ]
    },
    {
     "name": "stderr",
     "output_type": "stream",
     "text": [
      "/opt/hostedtoolcache/Python/3.9.15/x64/lib/python3.9/site-packages/IPython/core/interactiveshell.py:3433: LatexWarning: Multiple tex files.\n",
      "\n",
      "  exec(code_obj, self.user_global_ns, self.user_ns)\n",
      "/opt/hostedtoolcache/Python/3.9.15/x64/lib/python3.9/site-packages/IPython/core/interactiveshell.py:3433: LatexWarning: Found documentclass in tmp_2212.02066/natbib.tex\n",
      "\n",
      "  exec(code_obj, self.user_global_ns, self.user_ns)\n"
     ]
    },
    {
     "name": "stdout",
     "output_type": "stream",
     "text": [
      "extracting tarball to tmp_2212.02123... done.\n",
      "Retrieving document from  https://arxiv.org/e-print/2212.02141\n"
     ]
    },
    {
     "name": "stdout",
     "output_type": "stream",
     "text": [
      "extracting tarball to tmp_2212.02141..."
     ]
    },
    {
     "name": "stdout",
     "output_type": "stream",
     "text": [
      " done.\n",
      "Retrieving document from  https://arxiv.org/e-print/2212.02161\n"
     ]
    },
    {
     "name": "stdout",
     "output_type": "stream",
     "text": [
      "extracting tarball to tmp_2212.02161..."
     ]
    },
    {
     "name": "stdout",
     "output_type": "stream",
     "text": [
      " done.\n",
      "Retrieving document from  https://arxiv.org/e-print/2212.02203\n"
     ]
    },
    {
     "name": "stdout",
     "output_type": "stream",
     "text": [
      "extracting tarball to tmp_2212.02203..."
     ]
    },
    {
     "name": "stdout",
     "output_type": "stream",
     "text": [
      " done.\n",
      "Retrieving document from  https://arxiv.org/e-print/2212.02235\n"
     ]
    },
    {
     "name": "stdout",
     "output_type": "stream",
     "text": [
      "extracting tarball to tmp_2212.02235..."
     ]
    },
    {
     "name": "stdout",
     "output_type": "stream",
     "text": [
      " done.\n"
     ]
    },
    {
     "name": "stdout",
     "output_type": "stream",
     "text": [
      "Retrieving document from  https://arxiv.org/e-print/2212.02270\n"
     ]
    },
    {
     "name": "stdout",
     "output_type": "stream",
     "text": [
      "extracting tarball to tmp_2212.02270..."
     ]
    },
    {
     "name": "stdout",
     "output_type": "stream",
     "text": [
      " done.\n",
      "Retrieving document from  https://arxiv.org/e-print/2212.02321\n"
     ]
    },
    {
     "name": "stdout",
     "output_type": "stream",
     "text": [
      "extracting tarball to tmp_2212.02321..."
     ]
    },
    {
     "name": "stdout",
     "output_type": "stream",
     "text": [
      " done.\n",
      "Retrieving document from  https://arxiv.org/e-print/2212.02337\n"
     ]
    },
    {
     "name": "stdout",
     "output_type": "stream",
     "text": [
      "extracting tarball to tmp_2212.02337..."
     ]
    },
    {
     "name": "stdout",
     "output_type": "stream",
     "text": [
      " done.\n",
      "Retrieving document from  https://arxiv.org/e-print/2212.02353\n"
     ]
    },
    {
     "name": "stdout",
     "output_type": "stream",
     "text": [
      "extracting tarball to tmp_2212.02353..."
     ]
    },
    {
     "name": "stdout",
     "output_type": "stream",
     "text": [
      " done.\n",
      "Retrieving document from  https://arxiv.org/e-print/2212.02357\n"
     ]
    },
    {
     "name": "stdout",
     "output_type": "stream",
     "text": [
      "extracting tarball to tmp_2212.02357..."
     ]
    },
    {
     "name": "stdout",
     "output_type": "stream",
     "text": [
      " done.\n",
      "Retrieving document from  https://arxiv.org/e-print/2212.02423\n"
     ]
    },
    {
     "name": "stdout",
     "output_type": "stream",
     "text": [
      "extracting tarball to tmp_2212.02423..."
     ]
    },
    {
     "name": "stdout",
     "output_type": "stream",
     "text": [
      " done.\n",
      "Retrieving document from  https://arxiv.org/e-print/2212.02458\n"
     ]
    },
    {
     "name": "stdout",
     "output_type": "stream",
     "text": [
      "extracting tarball to tmp_2212.02458..."
     ]
    },
    {
     "name": "stdout",
     "output_type": "stream",
     "text": [
      " done.\n",
      "Retrieving document from  https://arxiv.org/e-print/2212.02491\n"
     ]
    },
    {
     "name": "stdout",
     "output_type": "stream",
     "text": [
      "extracting tarball to tmp_2212.02491..."
     ]
    },
    {
     "name": "stdout",
     "output_type": "stream",
     "text": [
      " done.\n"
     ]
    },
    {
     "name": "stderr",
     "output_type": "stream",
     "text": [
      "/opt/hostedtoolcache/Python/3.9.15/x64/lib/python3.9/site-packages/IPython/core/interactiveshell.py:3433: LatexWarning: Multiple tex files.\n",
      "\n",
      "  exec(code_obj, self.user_global_ns, self.user_ns)\n",
      "/opt/hostedtoolcache/Python/3.9.15/x64/lib/python3.9/site-packages/IPython/core/interactiveshell.py:3433: LatexWarning: Found documentclass in tmp_2212.02491/main.tex\n",
      "\n",
      "  exec(code_obj, self.user_global_ns, self.user_ns)\n"
     ]
    }
   ],
   "source": [
    "documents = []\n",
    "failed = []\n",
    "for paper in tqdm(candidates[:-1]):\n",
    "    paper_id = paper['identifier'].lower().replace('arxiv:', '')\n",
    "    \n",
    "    folder = f'tmp_{paper_id}'\n",
    "\n",
    "    try:\n",
    "        if not os.path.isdir(folder):\n",
    "            folder = retrieve_document_source(f\"{paper_id}\", f'tmp_{paper_id}')\n",
    "        \n",
    "        try:\n",
    "            doc = latex.LatexDocument(folder, validation=validation)    \n",
    "        except AffiliationError as affilerror:\n",
    "            msg = f\"ArXiv:{paper_id:s} is not an MPIA paper... \" + str(affilerror)\n",
    "            failed.append((paper, \"affiliation error: \" + str(affilerror) ))\n",
    "            continue\n",
    "        \n",
    "        # Hack because sometimes author parsing does not work well\n",
    "        if (len(doc.authors) != len(paper['authors'])):\n",
    "            doc._authors = paper['authors']\n",
    "        if (doc.abstract) in (None, ''):\n",
    "            doc._abstract = paper['abstract']\n",
    "            \n",
    "        doc.comment = (get_markdown_badge(paper_id) + \n",
    "                       \"<mark>Appeared on: \" + paper['date'] + \"</mark> - \" +\n",
    "                       \"_\" + paper['comments'] + \"_\")\n",
    "        doc.highlight_authors_in_list(hl_list)\n",
    "\n",
    "        full_md = doc.generate_markdown_text()\n",
    "        \n",
    "        documents.append((paper_id, full_md))\n",
    "    except Exception as e:\n",
    "        warnings.warn(latex.LatexWarning(f\"{paper_id:s} did not run properly\\n\" +\n",
    "                                         str(e)\n",
    "                                        ))\n",
    "        failed.append((paper, \"latex error \" + str(e)))"
   ]
  },
  {
   "cell_type": "markdown",
   "id": "2505a25c",
   "metadata": {
    "papermill": {
     "duration": 0.00842,
     "end_time": "2022-12-06T04:07:08.090092",
     "exception": false,
     "start_time": "2022-12-06T04:07:08.081672",
     "status": "completed"
    },
    "tags": []
   },
   "source": [
    "### Export the logs\n",
    "\n",
    "Throughout, we also keep track of the logs per paper. see `logs-{today date}.md` "
   ]
  },
  {
   "cell_type": "code",
   "execution_count": 6,
   "id": "d733828a",
   "metadata": {
    "execution": {
     "iopub.execute_input": "2022-12-06T04:07:08.109702Z",
     "iopub.status.busy": "2022-12-06T04:07:08.108249Z",
     "iopub.status.idle": "2022-12-06T04:07:08.161748Z",
     "shell.execute_reply": "2022-12-06T04:07:08.161009Z"
    },
    "papermill": {
     "duration": 0.065025,
     "end_time": "2022-12-06T04:07:08.163379",
     "exception": false,
     "start_time": "2022-12-06T04:07:08.098354",
     "status": "completed"
    },
    "scrolled": false,
    "tags": []
   },
   "outputs": [
    {
     "data": {
      "text/markdown": [
       "## Successful papers"
      ],
      "text/plain": [
       "<IPython.core.display.Markdown object>"
      ]
     },
     "metadata": {},
     "output_type": "display_data"
    },
    {
     "data": {
      "text/markdown": [
       "\n",
       "|||\n",
       "|---:|:---|\n",
       "| [![arXiv](https://img.shields.io/badge/arXiv-arXiv:2212.01397-b31b1b.svg)](https://arxiv.org/abs/arXiv:2212.01397) | **The Star Formation History of the Milky Way's Nuclear Star Cluster**  |\n",
       "|| Zhuo Chen, et al. -- incl., <mark>Anja Feldmeier-Krause</mark> |\n",
       "|*Appeared on*| *2022-12-06*|\n",
       "|*Comments*| *37 pages, 23 figures, Accepted to ApJ*|\n",
       "|**Abstract**| We report the first star formation history study of the Milky Way's nuclear star cluster (NSC) that includes observational constraints from a large sample of stellar metallicity measurements. These metallicity measurements were obtained from recent surveys from Gemini and VLT of 770 late-type stars within the central 1.5 pc. These metallicity measurements, along with photometry and spectroscopically derived temperatures, are forward modeled with a Bayesian inference approach. Including metallicity measurements improves the overall fit quality, as the low-temperature red giants that were previously difficult to constrain are now accounted for, and the best fit favors a two-component model. The dominant component contains 93%$\\pm$3% of the mass, is metal-rich ($\\overline{[M/H]}\\sim$0.45), and has an age of 5$^{+3}_{-2}$ Gyr, which is $\\sim$3 Gyr younger than earlier studies with fixed (solar) metallicity; this younger age challenges co-evolutionary models in which the NSC and supermassive black holes formed simultaneously at early times. The minor population component has low metallicity ($\\overline{[M/H]}\\sim$ -1.1) and contains $\\sim$7% of the stellar mass. The age of the minor component is uncertain (0.1 - 5 Gyr old). Using the estimated parameters, we infer the following NSC stellar remnant population (with $\\sim$18% uncertainty): 1.5$\\times$10$^5$ neutron stars, 2.5$\\times$10$^5$ stellar mass black holes (BHs) and 2.2$\\times$10$^4$ BH-BH binaries. These predictions result in 2-4 times fewer neutron stars compared to earlier predictions that assume solar metallicity, introducing a possible new path to understand the so-called \"missing pulsar problem\". Finally, we present updated predictions for the BH-BH merger rates (0.01-3 Gpc$^{-3}$yr$^{-1}$). |"
      ],
      "text/plain": [
       "[arXiv:2212.01397] The Star Formation History of the Milky Way's Nuclear Star Cluster\n",
       "\tZhuo Chen, et al. -- incl., <mark>Anja Feldmeier-Krause</mark>"
      ]
     },
     "metadata": {},
     "output_type": "display_data"
    },
    {
     "data": {
      "text/markdown": [
       "\n",
       "|||\n",
       "|---:|:---|\n",
       "| [![arXiv](https://img.shields.io/badge/arXiv-arXiv:2212.01526-b31b1b.svg)](https://arxiv.org/abs/arXiv:2212.01526) | **PHANGS-JWST First Results: The 21 $μ$m Compact Source Population**  |\n",
       "|| Hamid Hassani, et al. -- incl., <mark>Janice C. Lee</mark>, <mark>Frank Bigiel</mark>, <mark>Kathryn Kreckel</mark>, <mark>Eva Schinnerer</mark> |\n",
       "|*Appeared on*| *2022-12-06*|\n",
       "|*Comments*| *15 pages, 5 figures, Accepted as part of a PHANGS-JWST Focus Issue to appear in ApJ*|\n",
       "|**Abstract**| We use PHANGS-JWST data to identify and classify 1271 compact 21 $\\mu$m sources in four nearby galaxies using MIRI F2100W data. We identify sources using a dendrogram-based algorithm, and we measure the background-subtracted flux densities for JWST bands from 2 $\\mu$m to 21 $\\mu$m. Using the SED in JWST as well as HST bands, plus ALMA and MUSE/VLT observations, we classify the sources by eye. Then we use this classification to define regions in color-color space, and so establish a quantitative framework for classifying sources. We identify 1085 sources as belonging to the ISM of the target galaxies with the remainder being dusty stars or background galaxies. These 21 $\\mu$m sources are strongly spatially associated with HII regions ($>92\\%$ of sources), while 74$\\%$ of sources are coincident with a stellar association defined in the HST data. Using SED fitting, we find that the stellar masses of the 21 $\\mu$m sources span a range of 10$^{2}$ to 10$^{4}~M_\\odot$ with mass-weighted ages down to 2 Myr. There is a tight correlation between attenuation-corrected H$\\alpha$ and 21 $\\mu$m luminosity for $L_{\\nu,\\mathrm{F2100W}}>10^{19}~\\mathrm{W~Hz}^{-1}$. Young embedded source candidates selected at 21 $\\mu$m are found below this threshold and have $M_\\star < 10^{3}~M_\\odot$. |"
      ],
      "text/plain": [
       "[arXiv:2212.01526] PHANGS-JWST First Results: The 21 $μ$m Compact Source Population\n",
       "\tHamid Hassani, et al. -- incl., <mark>Janice C. Lee</mark>, <mark>Frank Bigiel</mark>, <mark>Kathryn Kreckel</mark>, <mark>Eva Schinnerer</mark>"
      ]
     },
     "metadata": {},
     "output_type": "display_data"
    },
    {
     "data": {
      "text/markdown": [
       "\n",
       "|||\n",
       "|---:|:---|\n",
       "| [![arXiv](https://img.shields.io/badge/arXiv-arXiv:2212.01707-b31b1b.svg)](https://arxiv.org/abs/arXiv:2212.01707) | **Powerful yet lonely: Is 3C 297 a high-redshift fossil group?**  |\n",
       "|| Valentina Missaglia, et al. -- incl., <mark>Mischa Schirmer</mark> |\n",
       "|*Appeared on*| *2022-12-06*|\n",
       "|*Comments*| *The Astrophysical Journal Supplement Series, in press*|\n",
       "|**Abstract**| The environment of the high-redshift (z=1.408), powerful radio-loud galaxy 3C 297 has several distinctive features of a galaxy cluster. Among them, a characteristic halo of hot gas revealed by Chandra X-ray observations. In addition, a radio map obtained with the Very Large Array (VLA) shows a bright hotspot in the northwestern direction, created by the interaction of the AGN jet arising from 3C 297 with its environment. In the X-ray images, emission cospatial with the northwestern radio lobe is detected, and peaks at the position of the radio hotspot. The extended, complex X-ray emission observed with our new Chandra data is largely unrelated to its radio structure. Despite having attributes of a galaxy cluster, no companion galaxies have been identified from 39 new spectra of neighboring targets of 3C 297 obtained with the Gemini Multi-Object Spectrograph. None of the 19 galaxies for which a redshift was determined lies at the same distance as 3C 297. The optical spectral analysis of the new Gemini spectrum of 3C 297 reveals an isolated Type-II radio-loud AGN. We also detected line broadening in [O II](3728) with a FWHM about 1700 km/s and possible line shifts of up to 500-600 km/s. We postulate that the host galaxy of 3C 297 is a fossil group, in which most of the stellar mass has merged into a single object, leaving behind an X-ray halo. |"
      ],
      "text/plain": [
       "[arXiv:2212.01707] Powerful yet lonely: Is 3C 297 a high-redshift fossil group?\n",
       "\tValentina Missaglia, et al. -- incl., <mark>Mischa Schirmer</mark>"
      ]
     },
     "metadata": {},
     "output_type": "display_data"
    },
    {
     "data": {
      "text/markdown": [
       "\n",
       "|||\n",
       "|---:|:---|\n",
       "| [![arXiv](https://img.shields.io/badge/arXiv-arXiv:2212.02235-b31b1b.svg)](https://arxiv.org/abs/arXiv:2212.02235) | **CONCERTO: Simulating the CO, [CII], and [CI] line emission of galaxies  in a 117 $\\rm deg^2$ field and the impact of field-to-field variance**  |\n",
       "|| A. Gkogkou, et al. -- incl., <mark>F. Walter</mark> |\n",
       "|*Appeared on*| *2022-12-06*|\n",
       "|*Comments*| **|\n",
       "|**Abstract**| In the submm regime, spectral line scans and line intensity mapping (LIM) are new promising probes for the cold gas content and star formation rate of galaxies across cosmic time. However, both of these two measurements suffer from field-to-field variance. We study the effect of field-to-field variance on the predicted CO and [CII] power spectra from future LIM experiments such as CONCERTO, as well as on the line luminosity functions (LFs) and the cosmic molecular gas mass density that are currently derived from spectral line scans. We combined a 117 $\\rm deg^2$ dark matter lightcone from the Uchuu cosmological simulation with the simulated infrared dusty extragalactic sky (SIDES) approach. We find that in order to constrain the CO LF with an uncertainty below 20%, we need survey sizes of at least 0.1 $\\rm deg^2$. Furthermore, accounting for the field-to-field variance using only the Poisson variance can underestimate the total variance by up to 80%. The lower the luminosity is and the larger the survey size is, the higher the level of underestimate. At $z$<3, the impact of field-to-field variance on the cosmic molecular gas density can be as high as 40% for the 4.6 arcmin$^2$ field, but drops below 10% for areas larger than 0.2 deg$^2$. However, at $z>3$ the variance decreases more slowly with survey size and for example drops below 10% for 1 deg$^2$ fields. Finally, we find that the CO and [CII] LIM power spectra can vary by up to 50% in $\\rm 1 deg^2$ fields. This limits the accuracy of the constraints provided by the first 1 deg$^2$ surveys. The level of the shot noise power is always dominated by the sources that are just below the detection thresholds. We provide an analytical formula to estimate the field-to-field variance of current or future LIM experiments. The code and the full SIDES-Uchuu products (catalogs, cubes, and maps) are publicly available. |"
      ],
      "text/plain": [
       "[arXiv:2212.02235] CONCERTO: Simulating the CO, [CII], and [CI] line emission of galaxies  in a 117 $\\rm deg^2$ field and the impact of field-to-field variance\n",
       "\tA. Gkogkou, et al. -- incl., <mark>F. Walter</mark>"
      ]
     },
     "metadata": {},
     "output_type": "display_data"
    },
    {
     "data": {
      "text/markdown": [
       "## Failed papers"
      ],
      "text/plain": [
       "<IPython.core.display.Markdown object>"
      ]
     },
     "metadata": {},
     "output_type": "display_data"
    },
    {
     "data": {
      "text/markdown": [
       "\n",
       "|||\n",
       "|---:|:---|\n",
       "| [![arXiv](https://img.shields.io/badge/arXiv-arXiv:2212.01465-b31b1b.svg)](https://arxiv.org/abs/arXiv:2212.01465) | **Early Forming Massive Stars Suppress Star Formation and Hierarchical  Cluster Assembly**  |\n",
       "|| <mark>Sean C. Lewis</mark>, et al. |\n",
       "|*Appeared on*| *2022-12-06*|\n",
       "|*Comments*| *16 pages, 6 figures. Submitted to ApJ*|\n",
       "|**Abstract**| Feedback from massive stars plays an important role in the formation of star clusters. Whether a very massive star is born early or late in the cluster formation timeline has profound implications for the star cluster formation and assembly processes. We carry out a controlled experiment to characterize the effects of early forming massive stars on star cluster formation. We use the star formation software suite $\\texttt{Torch}$, combining self-gravitating magnetohydrodynamics, ray-tracing radiative transfer, $N$-body dynamics, and stellar feedback to model four initially identical $10^4$ M$_\\odot$ giant molecular clouds with a Gaussian density profile peaking at $521.5 \\mbox{ cm}^{-3}$. Using the $\\texttt{Torch}$ software suite through the $\\texttt{AMUSE}$ framework we modify three of the models to ensure that the first star that forms is very massive (50, 70, 100 M$_\\odot$). Early forming massive stars disrupt the natal gas structure, resulting in fast evacuation of the gas from the star forming region. The star formation rate is suppressed, reducing the total mass of stars formed. Our fiducial control model without an early massive star has a larger star formation rate and efficiency by up to a factor of three compared to the other models. Early forming massive stars promote the buildup of spatially separate and gravitationally unbound subclusters, while the control model forms a single massive cluster. |\n",
       "|<p style=\"color:green\"> **ERROR** </p>| <p style=\"color:green\">affiliation error: mpia.affiliation_verifications: '69117' keyword not found.</p> |"
      ],
      "text/plain": [
       "<IPython.core.display.Markdown object>"
      ]
     },
     "metadata": {},
     "output_type": "display_data"
    },
    {
     "data": {
      "text/markdown": [
       "\n",
       "|||\n",
       "|---:|:---|\n",
       "| [![arXiv](https://img.shields.io/badge/arXiv-arXiv:2212.02123-b31b1b.svg)](https://arxiv.org/abs/arXiv:2212.02123) | **Observation of the galactic PeVatron candidate LHAASO J2108+5157 with  the Large-Sized Telescope for Cherenkov Telescope Array**  |\n",
       "|| Jakub Juryšek, et al. -- incl., <mark>Roland Walter</mark> |\n",
       "|*Appeared on*| *2022-12-06*|\n",
       "|*Comments*| *6 pages, 2 figures, Proceedings of the 7th Heidelberg International Symposium on High-Energy Gamma-Ray Astronomy (Gamma2022), 4-8 July 2022, Barcelona, Spain*|\n",
       "|**Abstract**| The Cherenkov Telescope Array (CTA) Observatory will be the next-generation ground-based very-high-energy gamma-ray observatory, sensitive from 20 GeV up to 300 TeV. The Large-Sized Telescope prototype (LST-1), currently in the commissioning phase, was inaugurated in October 2018 on La Palma (Spain). It is the first of four LST telescopes for CTA, to be built in La Palma. In 2021, LST-1 performed observations of one of the Galactic PeVatron candidates, LHAASO J2108+5157, recently discovered by the LHAASO collaboration. We present results of our analysis of the LST-1 data, putting strong constraints on the emission of the source in the multi-TeV band. We also present results of multi-wavelength modeling using 12-years Fermi-LAT data and Target of Opportunity observations with XMM-Newton. We test different scenarios for the parent particles producing the high energy emission and put constraints on their spectra. |\n",
       "|<p style=\"color:green\"> **ERROR** </p>| <p style=\"color:green\">affiliation error: mpia.affiliation_verifications: '69117' keyword not found.</p> |"
      ],
      "text/plain": [
       "<IPython.core.display.Markdown object>"
      ]
     },
     "metadata": {},
     "output_type": "display_data"
    },
    {
     "data": {
      "text/markdown": [
       "\n",
       "|||\n",
       "|---:|:---|\n",
       "| [![arXiv](https://img.shields.io/badge/arXiv-arXiv:2212.02321-b31b1b.svg)](https://arxiv.org/abs/arXiv:2212.02321) | **Dwarf AGNs from Variability for the Origins of Seeds (DAVOS): Optical  Variability of Broad-line Dwarf AGNs from the Zwicky Transient Facility**  |\n",
       "|| <mark>Z. Franklin Wang</mark>, Colin J. Burke, <mark>Xin Liu</mark>, Yue Shen |\n",
       "|*Appeared on*| *2022-12-06*|\n",
       "|*Comments*| *9 pages plus 6 appendix, 7 figures*|\n",
       "|**Abstract**| We study the optical variability of a sample of candidate low-mass (dwarf ang Seyfert) active galactic nuclei (AGNs) using Zwicky Transient Facility g-band light curves. Our sample is compiled from broad-line AGNs in dwarf galaxies reported in the literature with single-epoch virial black hole (BH) masses in the range $M_{\\rm{BH}} \\sim 10^{4}$--$10^{8}\\ M_{\\odot}$. We measure the characteristic ``damping'' timescale of the optical variability $\\tau_{\\rm{DRW}}$, beyond which the power spectral density flattens, of a final sample of 79 candidate low-mass AGNs with high-quality light curves. Our results provide further confirmation of the $M_{\\rm{BH}} - \\tau_{\\rm{DRW}}$ relation from Burke et al. 2022 within $1\\sigma$ agreement, adding 78 new low-mass AGNs to the relation. The agreement suggests that the virial BH mass estimates for these AGNs are generally reasonable. We expect that the optical light curve of an accreting intermediate-mass black hole (IMBH) to vary with a rest-frame damping timescale of $\\sim$ tens of hours, which could enable detection and direct mass estimation of accreting IMBHs in wide-field time-domain imaging surveys with sufficient cadence like with the Vera C. Rubin Observatory. |\n",
       "|<p style=\"color:green\"> **ERROR** </p>| <p style=\"color:green\">affiliation error: mpia.affiliation_verifications: '69117' keyword not found.</p> |"
      ],
      "text/plain": [
       "<IPython.core.display.Markdown object>"
      ]
     },
     "metadata": {},
     "output_type": "display_data"
    },
    {
     "data": {
      "text/markdown": [
       "\n",
       "|||\n",
       "|---:|:---|\n",
       "| [![arXiv](https://img.shields.io/badge/arXiv-arXiv:2212.01399-b31b1b.svg)](https://arxiv.org/abs/arXiv:2212.01399) | **Time Evolving Photo Ionisation Device (TEPID): a novel code for  out-of-equilibrium gas ionisation**  |\n",
       "|| Alfredo Luminari, et al. -- incl., <mark>Aishwarya Linesh Thakur</mark> |\n",
       "|*Appeared on*| *2022-12-06*|\n",
       "|*Comments*| *Submitted to Astronomy & Astrophysics. 21 pages, 18 figures*|\n",
       "|**Abstract**| Photoionisation is one of the main mechanisms at work in the gaseous environment of bright astrophysical sources. Many information on the gas physics, chemistry and kinematics, as well as on the ionising source itself, can be gathered through optical to X-ray spectroscopy. While several public time equilibrium photoionisation codes are readily available and can be used to infer average gas properties at equilibrium, time-evolving photoionisation models have only very recently started to become available. They are needed when the ionising source varies faster than the typical gas equilibration timescale. Indeed, using equilibrium models to analyse spectra of non-equilibrium gas may lead to inaccurate results and prevents a solid assessment of the gas density, physics and geometry. We present our novel Time-Evolving PhotoIonisation Device (TEPID), which self-consistently solves time evolving photoionisation equations (thermal and ionisation balance) and follows the response of the gas to changes of the ionising source. The code can be applied to a variety of astrophysical scenarios and produces time-resolved gas absorption spectra to fit the data. To describe the main features of TEPID, we apply it to two dramatically different astrophysical scenarios: a typical ionised absorber observed in the X-ray spectra of Active Galactic Nuclei (e.g. Warm Absorbers and UFOs) and the circumburst environment of a Gamma-Ray Burst. In both cases, the gas energy and ionisation balances vary as a function of time, gas density and distance from the ionising source. Time evolving ionisation leads to unique ionisation patterns which cannot be reproduced by stationary codes when the gas is out of equilibrium. This demonstrates the need for codes such as TEPID in view of the up-coming high-resolution X-ray spectrometers onboard missions like XRISM or Athena. |\n",
       "|<p style=\"color:green\"> **ERROR** </p>| <p style=\"color:green\">affiliation error: mpia.affiliation_verifications: 'Heidelberg' keyword not found.</p> |"
      ],
      "text/plain": [
       "<IPython.core.display.Markdown object>"
      ]
     },
     "metadata": {},
     "output_type": "display_data"
    },
    {
     "data": {
      "text/markdown": [
       "\n",
       "|||\n",
       "|---:|:---|\n",
       "| [![arXiv](https://img.shields.io/badge/arXiv-arXiv:2212.01402-b31b1b.svg)](https://arxiv.org/abs/arXiv:2212.01402) | **Constraints on galactic outflows from the metallicity-stellar mass-SFR  relation of EAGLE simulation and SDSS galaxies**  |\n",
       "|| <mark>Yuanye Lin</mark>, Ying Zu |\n",
       "|*Appeared on*| *2022-12-06*|\n",
       "|*Comments*| *22 pages, 17 figures, with key results in Fig. 13, 15, & 16. Comments welcome!*|\n",
       "|**Abstract**| Stellar feedback-driven outflows regulate the stellar formation and chemical enrichment of galaxies, yet the underlying dependence of mass outflow rate on galaxy properties remains largely unknown. We develop a simple yet comprehensive non-equilibrium chemical evolution model~(NE-CEM) to constrain the mass-loading factor $\\eta$ of outflows using the metallicity-stellar mass-SFR relation observed by SDSS at $z{=}0$. Our NE-CEM predicts the chemical enrichment by explicitly tracking both the histories of star formation and mass-loading. After exploring the EAGLE simulation, we discover a compact yet flexible model that accurately describes the average star formation histories of galaxies. Applying a novel method of chemically measuring $\\eta$ to EAGLE, we find $\\eta$ can be parametrised by its dependence on stellar mass and specific SFR as $\\log\\eta\\propto M_*^{\\alpha}s{\\mathrm{SFR}}^{\\beta}$, with $\\alpha{=}{-}0.12$ and $\\beta{=}0.32$ in EAGLE. Our chemically-inferred $\\eta$ agrees remarkably well with the kinematic measurements by Mitchell et al. After extensive tests with EAGLE, we apply an NE-CEM Bayesian analysis to the SDSS data, yielding a tight constraint of $\\log(\\eta/1.585)=0.731{\\pm}0.002\\times(M_*/10^{9.5}M_{\\odot})^{-0.222\\pm0.004} (s{\\mathrm{SFR}}/10^{-9.5}yr^{-1})^{0.078\\pm0.003}$, in good agreement with the down-the-barrel measurements. Our best-fitting NE-CEM not only accurately describes the metallicity-stellar mass-SFR relation at $z{=}0$, but also successfully reproduce the so-called \"fundamental metallicity relation'' at higher redshifts. Our results reveal that different galaxies form stars and enrich their gas in a non-equilibrium but strikingly coherent fashion across cosmic time. |\n",
       "|<p style=\"color:green\"> **ERROR** </p>| <p style=\"color:green\">affiliation error: mpia.affiliation_verifications: 'Heidelberg' keyword not found.</p> |"
      ],
      "text/plain": [
       "<IPython.core.display.Markdown object>"
      ]
     },
     "metadata": {},
     "output_type": "display_data"
    },
    {
     "data": {
      "text/markdown": [
       "\n",
       "|||\n",
       "|---:|:---|\n",
       "| [![arXiv](https://img.shields.io/badge/arXiv-arXiv:2212.01405-b31b1b.svg)](https://arxiv.org/abs/arXiv:2212.01405) | **A 3D View of Orion: I. Barnard's Loop**  |\n",
       "|| Michael M. Foley, et al. -- incl., <mark>Josefa E. Großschedl</mark> |\n",
       "|*Appeared on*| *2022-12-06*|\n",
       "|*Comments*| *25 pages, 10 figures. Submitted to ApJ*|\n",
       "|**Abstract**| Barnard's Loop is a famous arc of H$\\alpha$ emission located in the Orion star-forming region. Here, we provide evidence of a possible formation mechanism for Barnard's Loop and compare our results with recent work suggesting a major feedback event occurred in the region around 6 Myr ago. We present a 3D model of the large-scale Orion region, indicating coherent, radial, 3D expansion of the OBP-Near/Brice\\~{n}o-1 (OBP-B1) cluster in the middle of a large dust cavity. The large-scale gas in the region also appears to be expanding from a central point, originally proposed to be Orion X. OBP-B1 appears to serve as another possible center, and we evaluate whether Orion X or OBP-B1 is more likely to be the cause of the expansion. We find that neither cluster served as the single expansion center, but rather a combination of feedback from both likely propelled the expansion. Recent 3D dust maps are used to characterize the 3D topology of the entire region, which shows Barnard's Loop's correspondence with a large dust cavity around the OPB-B1 cluster. The molecular clouds Orion A, Orion B, and Orion $\\lambda$ reside on the shell of this cavity. Simple estimates of gravitational effects from both stars and gas indicate that the expansion of this asymmetric cavity likely induced anisotropy in the kinematics of OBP-B1. We conclude that feedback from OBP-B1 has affected the structure of the Orion A, Orion B, and Orion $\\lambda$ molecular clouds and may have played a major role in the formation of Barnard's Loop. |\n",
       "|<p style=\"color:green\"> **ERROR** </p>| <p style=\"color:green\">affiliation error: mpia.affiliation_verifications: 'Heidelberg' keyword not found.</p> |"
      ],
      "text/plain": [
       "<IPython.core.display.Markdown object>"
      ]
     },
     "metadata": {},
     "output_type": "display_data"
    },
    {
     "data": {
      "text/markdown": [
       "\n",
       "|||\n",
       "|---:|:---|\n",
       "| [![arXiv](https://img.shields.io/badge/arXiv-arXiv:2212.01417-b31b1b.svg)](https://arxiv.org/abs/arXiv:2212.01417) | **High Resolution VLBI Astrometry with the $θ-θ$ Transform**  |\n",
       "|| Daniel Baker, et al. -- incl., <mark>Walter Brisken</mark>, <mark>Rik van Lieshout</mark>, <mark>Ue-Li Pen</mark> |\n",
       "|*Appeared on*| *2022-12-06*|\n",
       "|*Comments*| **|\n",
       "|**Abstract**| The recent development of $\\theta-\\theta$ techniques in pulsar scintillometry has opened the door for new high resolution imaging techniques of the scattering medium. By solving the phase retrieval problem and recovering the wavefield from a pulsar dynamic spectrum, the Doppler shift, time delay, and phase offset of individual images can be determined. However, the results of phase retrieval from a single dish are only know up to a constant phase rotation, which prevents their use for astrometry using Very Long Baseline Interferometry. We present an extension to previous $\\theta-\\theta$ methods using the interferometric visibilities between multiple stations to calibrate the wavefields. When applied to existing data for PSR B0834+06 we measure the effective screen distance and lens orientation with five times greater precision than previous works. |\n",
       "|<p style=\"color:green\"> **ERROR** </p>| <p style=\"color:green\">affiliation error: mpia.affiliation_verifications: 'Heidelberg' keyword not found.</p> |"
      ],
      "text/plain": [
       "<IPython.core.display.Markdown object>"
      ]
     },
     "metadata": {},
     "output_type": "display_data"
    },
    {
     "data": {
      "text/markdown": [
       "\n",
       "|||\n",
       "|---:|:---|\n",
       "| [![arXiv](https://img.shields.io/badge/arXiv-arXiv:2212.01456-b31b1b.svg)](https://arxiv.org/abs/arXiv:2212.01456) | **A Standardized Framework for Collecting Graduate Student Input in  Faculty Searches**  |\n",
       "|| Yasmeen Asali, et al. -- incl., <mark>Aritra Ghosh</mark>, <mark>Christopher Lindsay</mark> |\n",
       "|*Appeared on*| *2022-12-06*|\n",
       "|*Comments*| *9 Pages, 6 Figures, Posted on Bulletin of the American Astronomical Society (BAAS)*|\n",
       "|**Abstract**| We present a procedure designed to standardize input received during faculty searches with the goal of amplifying student voices. The framework was originally used to collect feedback from graduate students, but it can be adapted easily to collect feedback from undergraduate students, faculty, staff or other stakeholders. Implementing this framework requires agreement across participating parties and minimal organization prior to the start of faculty candidate visits. |\n",
       "|<p style=\"color:green\"> **ERROR** </p>| <p style=\"color:green\">affiliation error: mpia.affiliation_verifications: 'Heidelberg' keyword not found.</p> |"
      ],
      "text/plain": [
       "<IPython.core.display.Markdown object>"
      ]
     },
     "metadata": {},
     "output_type": "display_data"
    },
    {
     "data": {
      "text/markdown": [
       "\n",
       "|||\n",
       "|---:|:---|\n",
       "| [![arXiv](https://img.shields.io/badge/arXiv-arXiv:2212.01532-b31b1b.svg)](https://arxiv.org/abs/arXiv:2212.01532) | **Algorithms and radiation dynamics for the vicinity of black holes I.  Methods and codes**  |\n",
       "|| <mark>Leela Elpida Koutsantoniou</mark> |\n",
       "|*Appeared on*| *2022-12-06*|\n",
       "|*Comments*| *22 pages, 20 figures, 4 tables, accepted in Astronomy & Astrophysics*|\n",
       "|**Abstract**| We examine radiation and its effects on accretion disks orbiting astrophysical black holes. These disks are thermally radiating and can be geometrically and optically thin or thick. In this first paper of the series, we discuss the physics and the formulation required for this study. Subsequently, we construct and solve the relativistic radiative transfer equation, or find suitable solutions where that is not possible. We continue by presenting some of the accretion disks we considered for this work. We then describe the families of codes developed in order to study particle trajectories in strong gravity, calculate radiation forces exerted onto the disk material, and generate observation pictures of black hole systems at infinity. Furthermore, we also examine the veracity and accuracy of our work. Finally, we investigate how we can further use our results to estimate the black hole spin and the motion of disk material subjected to these radiation forces. |\n",
       "|<p style=\"color:green\"> **ERROR** </p>| <p style=\"color:green\">affiliation error: mpia.affiliation_verifications: 'Heidelberg' keyword not found.</p> |"
      ],
      "text/plain": [
       "<IPython.core.display.Markdown object>"
      ]
     },
     "metadata": {},
     "output_type": "display_data"
    },
    {
     "data": {
      "text/markdown": [
       "\n",
       "|||\n",
       "|---:|:---|\n",
       "| [![arXiv](https://img.shields.io/badge/arXiv-arXiv:2212.01547-b31b1b.svg)](https://arxiv.org/abs/arXiv:2212.01547) | **Radio continuum and OH line emission of high-z OH megamaser galaxies**  |\n",
       "|| Zhongzu Wu, et al. -- incl., <mark>Bo Zhang</mark> |\n",
       "|*Appeared on*| *2022-12-06*|\n",
       "|*Comments*| *25 pages,7 figures,accepted by A&A*|\n",
       "|**Abstract**| We present the study of arcsecond scale radio continuum and OH line emission of a sample of known OH megamaser galaxies with $z \\geq$ 0.15 using archival Very Large Array (VLA) data. And also the results of our pilot Five hundred meter aperture spherical radio telescope (FAST) observations of 12 of these OHM galaxies. The arcsecond-scale resolution images show that the OH emission is distributed in one compact structure and spatially associated with radio continuum emission. Furthermore, nearly all the fitted components are likely smaller than the beam size ($\\sim$ 1.4\"), which indicates that the broad OH line profiles of these sources originated from one masing region or that more components are distributed in sub-arcsec scales. The radio parameters, including brightness temperature, spectral index, and q-index, show no significant differences with the low-redshift OHM galaxies, which have significantly lower OH line luminosities. Because these parameters are indicators of the central power sources (AGN, starburst, or both), our results indicate that the presence of radio AGN in the nuclei may not be essential for the formation of OH emission. Over 1/3 of OHMs in this sample (6/17) show possible variable features likely caused by interstellar scintillation due to small angular sizes. We might underestimate this value because these sources are associated with this sample's highest OH line flux densities. Those with low OH line flux densities might need higher sensitivity observations to study the variabilities. These results support the compact nature of OH maser emission and a starburst origin for the OHMs in our selected sample. |\n",
       "|<p style=\"color:green\"> **ERROR** </p>| <p style=\"color:green\">affiliation error: mpia.affiliation_verifications: 'Heidelberg' keyword not found.</p> |"
      ],
      "text/plain": [
       "<IPython.core.display.Markdown object>"
      ]
     },
     "metadata": {},
     "output_type": "display_data"
    },
    {
     "data": {
      "text/markdown": [
       "\n",
       "|||\n",
       "|---:|:---|\n",
       "| [![arXiv](https://img.shields.io/badge/arXiv-arXiv:2212.01592-b31b1b.svg)](https://arxiv.org/abs/arXiv:2212.01592) | **Solar activity relations in energetic electron events measured by the  MESSENGER mission**  |\n",
       "|| L. Rodríguez-García, et al. -- incl., <mark>R. Gómez-Herrero</mark>, <mark>F. Espinosa Lara</mark> |\n",
       "|*Appeared on*| *2022-12-06*|\n",
       "|*Comments*| *16 pages, 4 figures*|\n",
       "|**Abstract**| Aims. We perform a statistical study of the relations between the properties of solar energetic electron (SEE) events measured by the MESSENGER mission from 2010 to 2015 and the parameters of the respective parent solar activity phenomena to identify the potential correlations between them. During the time of analysis MESSENGER heliocentric distance varied between 0.31 and 0.47 au. Conclusions. (1) In this particular sample of events, with a majority of SEE events being widespread in heliolongitude and displaying relativistic electron intensity enhancements, a shock-related acceleration mechanism might be more relevant than a flare-related process in the acceleration of near-relativistic electrons. This result is mainly based on the stronger and more significant correlation found between the SEE peak intensities and the shock speed in comparison to the flare intensity; and on the asymmetry to the east of the range of connection angles (CAs) for which the SEE events present higher peak intensities and higher correlations with the solar activity, which might be related to the evolution of the magnetic field connection to the shock front. We note that the CA is the angular distance between the footpoint of the magnetic field connecting to the spacecraft and the longitude of the source region. (2) The correlations between the peak intensity of the SEE event and the shock speed or the flare intensity are stronger than in previous studies using measurements by spacecraft near 1 au. |\n",
       "|<p style=\"color:green\"> **ERROR** </p>| <p style=\"color:green\">affiliation error: mpia.affiliation_verifications: 'Heidelberg' keyword not found.</p> |"
      ],
      "text/plain": [
       "<IPython.core.display.Markdown object>"
      ]
     },
     "metadata": {},
     "output_type": "display_data"
    },
    {
     "data": {
      "text/markdown": [
       "\n",
       "|||\n",
       "|---:|:---|\n",
       "| [![arXiv](https://img.shields.io/badge/arXiv-arXiv:2212.01730-b31b1b.svg)](https://arxiv.org/abs/arXiv:2212.01730) | **Incorporating Polar Field Data for Improved Solar Flare Prediction**  |\n",
       "|| Mehmet Aktukmak, et al. -- incl., <mark>Alfred Hero</mark> |\n",
       "|*Appeared on*| *2022-12-06*|\n",
       "|*Comments*| **|\n",
       "|**Abstract**| In this paper, we consider incorporating data associated with the sun's north and south polar field strengths to improve solar flare prediction performance using machine learning models. When used to supplement local data from active regions on the photospheric magnetic field of the sun, the polar field data provides global information to the predictor. While such global features have been previously proposed for predicting the next solar cycle's intensity, in this paper we propose using them to help classify individual solar flares. We conduct experiments using HMI data employing four different machine learning algorithms that can exploit polar field information. Additionally, we propose a novel probabilistic mixture of experts model that can simply and effectively incorporate polar field data and provide on-par prediction performance with state-of-the-art solar flare prediction algorithms such as the Recurrent Neural Network (RNN). Our experimental results indicate the usefulness of the polar field data for solar flare prediction, which can improve Heidke Skill Score (HSS2) by as much as 10.1%. |\n",
       "|<p style=\"color:green\"> **ERROR** </p>| <p style=\"color:green\">affiliation error: mpia.affiliation_verifications: 'Heidelberg' keyword not found.</p> |"
      ],
      "text/plain": [
       "<IPython.core.display.Markdown object>"
      ]
     },
     "metadata": {},
     "output_type": "display_data"
    },
    {
     "data": {
      "text/markdown": [
       "\n",
       "|||\n",
       "|---:|:---|\n",
       "| [![arXiv](https://img.shields.io/badge/arXiv-arXiv:2212.01804-b31b1b.svg)](https://arxiv.org/abs/arXiv:2212.01804) | **Comparing accretion flow morphology in numerical simulations of black  holes from the ngEHT Model Library: the impact of radiation physics**  |\n",
       "|| Koushik Chatterjee, et al. -- incl., <mark>Lindy Blackburn</mark>, <mark>Greg Lindahl</mark>, <mark>Hendrik Müller</mark> |\n",
       "|*Appeared on*| *2022-12-06*|\n",
       "|*Comments*| *Submitted to Galaxies; 24 pages, 6 figures. Comments welcome*|\n",
       "|**Abstract**| In the past few years, the Event Horizon Telescope (EHT) has provided the first-ever event horizon-scale images of the supermassive black holes (BHs) M87* and Sagittarius A* (Sgr A*). The next-generation EHT project is an extension of the EHT array that promises larger angular resolution and higher sensitivity to the dim, extended flux around the central ring-like structure, possibly connecting the accretion flow and the jet. The ngEHT Analysis Challenges aim to understand the science extractability from synthetic images and movies so as to inform the ngEHT array design and analysis algorithm development. In this work, we take a look at the numerical fluid simulations used to construct the source models in the challenge set, which currently target M87* and Sgr A*. We have a rich set of models encompassing steady-state radiatively-inefficient accretion flows with time-dependent shearing hotspots, radiative and non-radiative general relativistic magneto-hydrodynamic simulations that incorporate electron heating and cooling. We find that the models exhibit remarkably similar temporal and spatial properties, except for the electron temperature since radiative losses substantially cool down electrons near the BH and the jet sheath. We restrict ourselves to standard torus accretion flows, and leave larger explorations of alternate accretion models to future work. |\n",
       "|<p style=\"color:green\"> **ERROR** </p>| <p style=\"color:green\">affiliation error: mpia.affiliation_verifications: 'Heidelberg' keyword not found.</p> |"
      ],
      "text/plain": [
       "<IPython.core.display.Markdown object>"
      ]
     },
     "metadata": {},
     "output_type": "display_data"
    },
    {
     "data": {
      "text/markdown": [
       "\n",
       "|||\n",
       "|---:|:---|\n",
       "| [![arXiv](https://img.shields.io/badge/arXiv-arXiv:2212.01843-b31b1b.svg)](https://arxiv.org/abs/arXiv:2212.01843) | **An Unsupervised Machine Learning Method for Electron--Proton  Discrimination of the DAMPE Experiment**  |\n",
       "|| Zhihui Xu, et al. -- incl., <mark>Xiang Li</mark>, <mark>Wenhao Li</mark> |\n",
       "|*Appeared on*| *2022-12-06*|\n",
       "|*Comments*| *10 pages, 5 figures, 1 table*|\n",
       "|**Abstract**| Galactic cosmic rays are mostly made up of energetic nuclei, with less than $1\\%$ of electrons (and positrons). Precise measurement of the electron and positron component requires a very efficient method to reject the nuclei background, mainly protons. In this work, we develop an unsupervised machine learning method to identify electrons and positrons from cosmic ray protons for the Dark Matter Particle Explorer (DAMPE) experiment. Compared with the supervised learning method used in the DAMPE experiment, this unsupervised method relies solely on real data except for the background estimation process. As a result, it could effectively reduce the uncertainties from simulations. For three energy ranges of electrons and positrons, 80--128 GeV, 350--700 GeV, and 2--5 TeV, the residual background fractions in the electron sample are found to be about (0.45 $\\pm$ 0.02)$\\%$, (0.52 $\\pm$ 0.04)$\\%$, and (10.55 $\\pm$ 1.80)$\\%$, and the background rejection power is about (6.21 $\\pm$ 0.03) $\\times$ $10^4$, (9.03 $\\pm$ 0.05) $\\times$ $10^4$, and (3.06 $\\pm$ 0.32) $\\times$ $10^4$, respectively. This method gives a higher background rejection power in all energy ranges than the traditional morphological parameterization method and reaches comparable background rejection performance compared with supervised machine learning~methods. |\n",
       "|<p style=\"color:green\"> **ERROR** </p>| <p style=\"color:green\">affiliation error: mpia.affiliation_verifications: 'Heidelberg' keyword not found.</p> |"
      ],
      "text/plain": [
       "<IPython.core.display.Markdown object>"
      ]
     },
     "metadata": {},
     "output_type": "display_data"
    },
    {
     "data": {
      "text/markdown": [
       "\n",
       "|||\n",
       "|---:|:---|\n",
       "| [![arXiv](https://img.shields.io/badge/arXiv-arXiv:2212.01915-b31b1b.svg)](https://arxiv.org/abs/arXiv:2212.01915) | **The Art of Measuring Physical Parameters in Galaxies: A Critical  Assessment of Spectral Energy Distribution Fitting Techniques**  |\n",
       "|| Camilla Pacifici, et al. -- incl., <mark>Michael J. I. Brown</mark>, <mark>Yicheng Guo</mark>, <mark>Shoubaneh Hemmati</mark>, <mark>Bomee Lee</mark> |\n",
       "|*Appeared on*| *2022-12-06*|\n",
       "|*Comments*| *25 pages, 11 figures. Accepted for publication in ApJ*|\n",
       "|**Abstract**| The study of galaxy evolution hinges on our ability to interpret multi-wavelength galaxy observations in terms of their physical properties. To do this, we rely on spectral energy distribution (SED) models which allow us to infer physical parameters from spectrophotometric data. In recent years, thanks to the wide and deep multi-waveband galaxy surveys, the volume of high quality data have significantly increased. Alongside the increased data, algorithms performing SED fitting have improved, including better modeling prescriptions, newer templates, and more extensive sampling in wavelength space. We present a comprehensive analysis of different SED fitting codes including their methods and output with the aim of measuring the uncertainties caused by the modeling assumptions. We apply fourteen of the most commonly used SED fitting codes on samples from the CANDELS photometric catalogs at z~1 and z~3. We find agreement on the stellar mass, while we observe some discrepancies in the star formation rate (SFR) and dust attenuation results. To explore the differences and biases among the codes, we explore the impact of the various modeling assumptions as they are set in the codes (e.g., star formation histories, nebular, dust, and AGN models) on the derived stellar masses, SFRs, and A_V values. We then assess the difference among the codes on the SFR-stellar mass relation and we measure the contribution to the uncertainties by the modeling choices (i.e., the modeling uncertainties) in stellar mass (~0.1dex), SFR (~0.3dex), and dust attenuation (~0.3mag). Finally, we present some resources summarizing best practices in SED fitting. |\n",
       "|<p style=\"color:green\"> **ERROR** </p>| <p style=\"color:green\">affiliation error: mpia.affiliation_verifications: 'Heidelberg' keyword not found.</p> |"
      ],
      "text/plain": [
       "<IPython.core.display.Markdown object>"
      ]
     },
     "metadata": {},
     "output_type": "display_data"
    },
    {
     "data": {
      "text/markdown": [
       "\n",
       "|||\n",
       "|---:|:---|\n",
       "| [![arXiv](https://img.shields.io/badge/arXiv-arXiv:2212.01918-b31b1b.svg)](https://arxiv.org/abs/arXiv:2212.01918) | **Mapping dust attenuation and the 2175 Å bump at kpc scales in nearby  galaxies**  |\n",
       "|| Shuang Zhou, et al. -- incl., <mark>Cheng Li</mark>, <mark>Niu Li</mark> |\n",
       "|*Appeared on*| *2022-12-06*|\n",
       "|*Comments*| *14 pages,9 figures*|\n",
       "|**Abstract**| We develop a novel approach to measure dust attenuation properties of galaxies,including the dust opacity and shape of the attenuation curve in both optical and NUV, as well as the strength of the 2175{\\AA} absorption feature. From an observed spectrum the method uses a model-independent approach to derive a relative attenuation curve.The absolute amplitude is then calibrated with the NIR photometry. The dust-corrected spectrum is fitted with stellar population models to derive the dust-free model spectrum covering the whole wavelength range from NUV to NIR and is compared with the observed SED/spectrum to determine dust attenuation properties. We apply this method to investigate dust attenuation on kpc scales, using a sample of 134 galaxies with the integral field spectroscopy from MaNGA, the NIR imaging from 2MASS, and the NUV imaging from Swift/UVOT. We find that the attenuation curves in regions of kpc scales span a wide range of slopes in both optical and UV. The slope is shallower at higher optical opacity, a trend that is held even when the sample is limited to narrow ranges of specific star formation rate (sSFR), minor-to-major axis ratio (b/a) and the location within individual galaxies. The 2175{\\AA} bump in the attenuation curve at kpc scales presents a wide range of strength. The strength shows a strong negative correlation with the sSFR, but the correlations with the optical opacity, $b/a$ and the location within individual galaxies are all weak. All these trends appear to be independent of the stellar mass of galaxies, implying that the dust attenuation is regulated by local processes rather than by global properties of galaxies. Our results support the scenario that the variation of the 2175{\\AA} bump is driven predominantly by processes related to star formation, such as destruction of small dust grains by UV radiation in star-forming regions. |\n",
       "|<p style=\"color:green\"> **ERROR** </p>| <p style=\"color:green\">affiliation error: mpia.affiliation_verifications: 'Heidelberg' keyword not found.</p> |"
      ],
      "text/plain": [
       "<IPython.core.display.Markdown object>"
      ]
     },
     "metadata": {},
     "output_type": "display_data"
    },
    {
     "data": {
      "text/markdown": [
       "\n",
       "|||\n",
       "|---:|:---|\n",
       "| [![arXiv](https://img.shields.io/badge/arXiv-arXiv:2212.01974-b31b1b.svg)](https://arxiv.org/abs/arXiv:2212.01974) | **An exponential equation of state of dark energy in the light of 2018 CMB  Planck data**  |\n",
       "|| Mónica N. Castillo-Santos, <mark>A. Hernández-Almada</mark>, Miguel A. García-Aspeitia, Juan Magaña |\n",
       "|*Appeared on*| *2022-12-06*|\n",
       "|*Comments*| *Submitted in MNRAS*|\n",
       "|**Abstract**| The dynamics of the Universe is analyzed using an exponential function for the dark energy equation of state, known as Gong-Zhang parameterization. The phase space of the free parameters presented in the model is constrained using Cosmic Microwave Background radiation, Cosmic Chronometers, modulus distance from Hydrogen II Galaxies, Type Ia Supernovae and measurements from Baryon Acoustic Oscillations, together with a stronger bound from a Joint analysis. The cosmological model is confronted with $\\Lambda$CDM, observing there is a strong evidence for $\\Lambda$CDM in the Joint analysis although the exponential model is preferred when the data are separated. Based on the Joint analysis, a value of $\\omega_0 = -1.202^{+0.027}_{-0.026}$ is found for the characteristic parameter presented in the equation of state. Additionally, the cosmographic parameters at current times are reported, having $q_0 = -0.789^{+0.034}_{-0.036}$, $j_0=1.779^{+0.130}_{-0.119}$, and a transition deceleration-acceleration redshift $z_T = 0.644^{+0.011}_{-0.012}$. Furthermore, the age of the Universe is estimated as $t_U = 13.788^{+0.019}_{-0.019}$ Gyrs. Finally, under the $\\mathbf{\\mathbb{H}}0(z)$ diagnostic, we discuss this model could alleviate the $H_0$ tension. |\n",
       "|<p style=\"color:green\"> **ERROR** </p>| <p style=\"color:green\">affiliation error: mpia.affiliation_verifications: 'Heidelberg' keyword not found.</p> |"
      ],
      "text/plain": [
       "<IPython.core.display.Markdown object>"
      ]
     },
     "metadata": {},
     "output_type": "display_data"
    },
    {
     "data": {
      "text/markdown": [
       "\n",
       "|||\n",
       "|---:|:---|\n",
       "| [![arXiv](https://img.shields.io/badge/arXiv-arXiv:2212.01979-b31b1b.svg)](https://arxiv.org/abs/arXiv:2212.01979) | **Crossing the dark matter soliton core: a possible reversed orbital  precession**  |\n",
       "|| Man Ho Chan, <mark>Chak Man Lee</mark> |\n",
       "|*Appeared on*| *2022-12-06*|\n",
       "|*Comments*| *Accepted in Phys. Rev. D*|\n",
       "|**Abstract**| The ultra-light dark matter (ULDM) model has become a popular dark matter scenario nowadays. The mass of the ULDM particles is extremely small so that they can exhibit wave properties in the central dark matter halo region. Numerical simulations show that a soliton core with an almost constant mass density would be formed inside the ULDM halo. If our Galactic Centre has a dark matter soliton core, some of the stars orbiting about the supermassive black hole (Sgr A*) would be crossing the soliton core boundary. In this article, we report the first theoretical study on how the dark matter soliton core near the Sgr A* could affect the surrounding stellar orbital precession. We show that some particular stellar orbital precession may become retrograde in direction, which is opposite to the prograde direction predicted by General Relativity. We anticipate that future orbital data of the stars S2, S12 and S4716 can provide crucial tests for the ULDM model for $m \\sim 10^{-19}-10^{-17}$ eV. |\n",
       "|<p style=\"color:green\"> **ERROR** </p>| <p style=\"color:green\">affiliation error: mpia.affiliation_verifications: 'Heidelberg' keyword not found.</p> |"
      ],
      "text/plain": [
       "<IPython.core.display.Markdown object>"
      ]
     },
     "metadata": {},
     "output_type": "display_data"
    },
    {
     "data": {
      "text/markdown": [
       "\n",
       "|||\n",
       "|---:|:---|\n",
       "| [![arXiv](https://img.shields.io/badge/arXiv-arXiv:2212.01981-b31b1b.svg)](https://arxiv.org/abs/arXiv:2212.01981) | **The JCMT BISTRO-2 Survey: Magnetic Fields of the Massive DR21 Filament**  |\n",
       "|| Tao-Chung Ching, et al. -- incl., <mark>Di Li</mark>, <mark>Chang Won Lee</mark>, <mark>Kyoung Hee Kim</mark>, <mark>Junhao Liu</mark>, <mark>Tie Liu</mark>, <mark>Hong-Li Liu</mark>, <mark>Dalei Li</mark> |\n",
       "|*Appeared on*| *2022-12-06*|\n",
       "|*Comments*| *26 pages, 13 figures, ApJ accepted*|\n",
       "|**Abstract**| We present 850 $\\mu$m dust polarization observations of the massive DR21 filament from the B-fields In STar-forming Region Observations (BISTRO) survey, using the POL-2 polarimeter and the SCUBA-2 camera on the James Clerk Maxwell Telescope. We detect ordered magnetic fields perpendicular to the parsec-scale ridge of the DR21 main filament. In the sub-filaments, the magnetic fields are mainly parallel to the filamentary structures and smoothly connect to the magnetic fields of the main filament. We compare the POL-2 and Planck dust polarization observations to study the magnetic field structures of the DR21 filament on 0.1--10 pc scales. The magnetic fields revealed in the Planck data are well aligned with those of the POL-2 data, indicating a smooth variation of magnetic fields from large to small scales. The plane-of-sky magnetic field strengths derived from angular dispersion functions of dust polarization are 0.6--1.0 mG in the DR21 filament and $\\sim$ 0.1 mG in the surrounding ambient gas. The mass-to-flux ratios are found to be magnetically supercritical in the filament and slightly subcritical to nearly critical in the ambient gas. The alignment between column density structures and magnetic fields changes from random alignment in the low-density ambient gas probed by Planck to mostly perpendicular in the high-density main filament probed by JCMT. The magnetic field structures of the DR21 filament are in agreement with MHD simulations of a strongly magnetized medium, suggesting that magnetic fields play an important role in shaping the DR21 main filament and sub-filaments. |\n",
       "|<p style=\"color:green\"> **ERROR** </p>| <p style=\"color:green\">affiliation error: mpia.affiliation_verifications: 'Heidelberg' keyword not found.</p> |"
      ],
      "text/plain": [
       "<IPython.core.display.Markdown object>"
      ]
     },
     "metadata": {},
     "output_type": "display_data"
    },
    {
     "data": {
      "text/markdown": [
       "\n",
       "|||\n",
       "|---:|:---|\n",
       "| [![arXiv](https://img.shields.io/badge/arXiv-arXiv:2212.02018-b31b1b.svg)](https://arxiv.org/abs/arXiv:2212.02018) | **Correction factors of the measurement errors of the LAMOST-LRS stellar  parameters**  |\n",
       "|| <mark>Shuhui Zhang</mark>, et al. -- incl., <mark>Guozhen Hu</mark>, <mark>Rongrong Liu</mark>, <mark>Lu Li</mark> |\n",
       "|*Appeared on*| *2022-12-06*|\n",
       "|*Comments*| *17 pages, 9 figures, 4 Tables, Accepted for publication in Research in Astronomy and Astrophysics (RAA)*|\n",
       "|**Abstract**| We aim to investigate the propriety of stellar parameter errors of the official data release of the LAMOST low-resolution spectroscopy (LRS) survey. We diagnose the errors of radial velocity (RV), atmospheric parameters ([Fe/H], T eff , log g) and {\\alpha}-enhancement ([{\\alpha}/M]) for the latest data release version of DR7, including 6,079,235 effective spectra of 4,546,803 stars. Based on the duplicate observational sample and comparing the deviation of multiple measurements to their given errors, we find that, in general, the error of [{\\alpha}/M] is largely underestimated, and the error of radial velocity is slightly overestimated. We define a correction factor k to quantify these misestimations and correct the errors to be expressed as proper internal uncertainties. Using this self-calibration technique, we find that the k-factors significantly vary with the stellar spectral types and the spectral signal-to-noise ratio (SNR). Particularly, we reveal a strange but evident trend between k-factors and error themselves for all five stellar parameters. Larger errors tend to have smaller k-factor values, i.e., they were more overestimated. After the correction, we recreate and quantify the tight correlations between SNR and errors, for all five parameters, while these correlations have dependence on spectral types. It also suggests that the parameter errors from each spectrum should be corrected individually. Finally, we provide the error correction factors of each derived parameter of each spectrum for the entire LAMOST-LRS DR7. |\n",
       "|<p style=\"color:green\"> **ERROR** </p>| <p style=\"color:green\">affiliation error: mpia.affiliation_verifications: 'Heidelberg' keyword not found.</p> |"
      ],
      "text/plain": [
       "<IPython.core.display.Markdown object>"
      ]
     },
     "metadata": {},
     "output_type": "display_data"
    },
    {
     "data": {
      "text/markdown": [
       "\n",
       "|||\n",
       "|---:|:---|\n",
       "| [![arXiv](https://img.shields.io/badge/arXiv-arXiv:2212.02050-b31b1b.svg)](https://arxiv.org/abs/arXiv:2212.02050) | **Constraining interacting dark energy models with the halo concentration  - mass relation**  |\n",
       "|| <mark>Yu Zhao</mark>, et al. -- incl., <mark>Yun Liu</mark>, <mark>Shihong Liao</mark>, <mark>Jiajun Zhang</mark>, <mark>Xiangkun Liu</mark> |\n",
       "|*Appeared on*| *2022-12-06*|\n",
       "|*Comments*| *9 pages, 5 figures, 5 tables*|\n",
       "|**Abstract**| The interacting dark energy (IDE) model is a promising alternative cosmological model which has the potential to solve the fine-tuning and coincidence problems by considering the interaction between dark matter and dark energy. Previous studies have shown that the energy exchange between the dark sectors in this model can significantly affect the dark matter halo properties. In this study, utilising a large set of cosmological $N$-body simulations, we analyse the redshift evolution of the halo concentration - mass ($c$ - $M$) relation in the IDE model, and show that the $c$ - $M$ relation is a sensitive proxy of the interaction strength parameter $\\xi_2$, especially at lower redshifts. Furthermore, we construct parametrized formulae to quantify the dependence of the $c$ - $M$ relation on $\\xi_2$ at redshifts ranging from $z=0$ to $0.6$. Our parametrized formulae provide a useful tool in constraining $\\xi_2$ with the observational $c$ - $M$ relation. As a first attempt, we use the data from X-ray, gravitational lensing, and galaxy rotational curve observations and obtain a tight constraint on $\\xi_2$, i.e. $\\xi_2 = 0.071 \\pm 0.034$. Our work demonstrates that the halo $c$ - $M$ relation, which reflects the halo assembly history, is a powerful probe to constrain the IDE model. |\n",
       "|<p style=\"color:green\"> **ERROR** </p>| <p style=\"color:green\">affiliation error: mpia.affiliation_verifications: 'Heidelberg' keyword not found.</p> |"
      ],
      "text/plain": [
       "<IPython.core.display.Markdown object>"
      ]
     },
     "metadata": {},
     "output_type": "display_data"
    },
    {
     "data": {
      "text/markdown": [
       "\n",
       "|||\n",
       "|---:|:---|\n",
       "| [![arXiv](https://img.shields.io/badge/arXiv-arXiv:2212.02061-b31b1b.svg)](https://arxiv.org/abs/arXiv:2212.02061) | **Offsets between X-ray and Radio Components in X-ray Jets: The AtlasX**  |\n",
       "|| Karthik Reddy, et al. -- incl., <mark>Eileen T. Meyer</mark> |\n",
       "|*Appeared on*| *2022-12-06*|\n",
       "|*Comments*| **|\n",
       "|**Abstract**| The X-ray emission mechanism of powerful extragalactic jets, which has important implications for their environmental impact, is poorly understood. The X-ray/radio positional offsets in individual features of jets provide important clues. Extending the previous work in Reddy et al. 2021, we present a detailed comparison between X-ray maps deconvolved using the Low Count Image Reconstruction and Analysis (LIRA) tool and radio maps of 164 components from 77 Chandra-detected X-ray jets. We detect 94 offsets (57%), with 58 new detections. In FR II-type jet knots, the X-rays peak and decay before the radio in about half the cases, disagreeing with the predictions of one-zone models. While a similar number of knots lack statistically significant offsets, we argue that projection and distance effects result in offsets below the detection level. Similar de-projected offsets imply that X-rays could be more compact than radio for most knots, and we qualitatively reproduce this finding with a \"moving-knot\" model. The bulk Lorentz factor derived for knots under this model is consistent with previous radio-based estimates, suggesting kpc-scale jets are only mildly relativistic. An analysis of X-ray/radio flux ratio distributions does not support the commonly invoked mechanism of X-ray production from inverse Compton scattering of the cosmic microwave background but does show a marginally significant trend of declining flux ratio as a function of distance from the core. Our results imply the need for multi-zone models to explain the X-ray emission from powerful jets. We provide an interactive list of our X-ray jet samples at this http URL |\n",
       "|<p style=\"color:green\"> **ERROR** </p>| <p style=\"color:green\">affiliation error: mpia.affiliation_verifications: 'Heidelberg' keyword not found.</p> |"
      ],
      "text/plain": [
       "<IPython.core.display.Markdown object>"
      ]
     },
     "metadata": {},
     "output_type": "display_data"
    },
    {
     "data": {
      "text/markdown": [
       "\n",
       "|||\n",
       "|---:|:---|\n",
       "| [![arXiv](https://img.shields.io/badge/arXiv-arXiv:2212.02066-b31b1b.svg)](https://arxiv.org/abs/arXiv:2212.02066) | **On the Spatial Distribution of $^{13}$CO Structures within $^{12}$CO  Molecular Clouds**  |\n",
       "|| <mark>Lixia Yuan</mark>, et al. -- incl., <mark>Xunchuan Liu</mark>, <mark>Shaobo Zhang</mark> |\n",
       "|*Appeared on*| *2022-12-06*|\n",
       "|*Comments*| *14 pages, 12 figures, accepted for publication in ApJ*|\n",
       "|**Abstract**| We look into the 2851 $^{12}$CO molecular clouds harboring $^{13}$CO structures to reveal the distribution of the projected angular separations and radial velocity separations between their internal $^{13}$CO structures. The projected angular separations are determined using the minimal spanning tree algorithm. We find that $\\sim$ 50$\\%$ of the angular separations fall in a narrow range of $\\sim$ 3 -- 7 arcmin with a median of $\\sim$ 5 arcmin, and the corresponding radial velocity separations mainly range from $\\sim$ 0.3 km s$^{-1}$ to 2.5 km s$^{-1}$. The mean and standard deviation of the angular separations of the internal $^{13}$CO structures within $^{12}$CO clouds appear to be universal, independent of the $^{12}$CO cloud angular areas and the counts of their internal $^{13}$CO structures. We also reveal a scaling relation between the $^{12}$CO cloud angular area and its harbored $^{13}$CO structure count. These results suggest there is a preferred angular separation between $^{13}$CO structures in these $^{12}$CO clouds, considering the distance effects. According to that, we propose an alternative picture for the assembly and destruction of molecular clouds: there is a fundamental separation for the internal structures of molecular clouds, the build-up and destruction of molecular clouds proceeds under this fundamental unit. |\n",
       "|<p style=\"color:green\"> **ERROR** </p>| <p style=\"color:green\">affiliation error: mpia.affiliation_verifications: 'Heidelberg' keyword not found.</p> |"
      ],
      "text/plain": [
       "<IPython.core.display.Markdown object>"
      ]
     },
     "metadata": {},
     "output_type": "display_data"
    },
    {
     "data": {
      "text/markdown": [
       "\n",
       "|||\n",
       "|---:|:---|\n",
       "| [![arXiv](https://img.shields.io/badge/arXiv-arXiv:2212.02141-b31b1b.svg)](https://arxiv.org/abs/arXiv:2212.02141) | **A Cosmological Fireball with Sixteen-Percent Gamma-Ray Radiative  Efficiency**  |\n",
       "|| <mark>Liang Li</mark>, et al. -- incl., <mark>Bing Zhang</mark> |\n",
       "|*Appeared on*| *2022-12-06*|\n",
       "|*Comments*| *27 pages, 9 figures, 6 tables*|\n",
       "|**Abstract**| Gamma-ray bursts (GRBs) are the most powerful explosions in the universe. The standard model invokes a relativistic fireball with a bright photosphere emission component. How efficiently the jet converts its energy to radiation is a long-standing problem and it is poorly constrained. A definitive diagnosis of GRB radiation components and measurement of GRB radiative efficiency requires prompt emission and afterglow data with high-resolution and wide-band coverage in time and energy. Here we report a comprehensive temporal and spectral analysis of the TeV-emitting bright GRB 190114C. Its fluence is one of the highest of all GRBs detected so far, which allows us to perform a high-resolution study of the prompt emission spectral properties and their temporal evolution down to a timescale of about 0.1 s. We observe that each of the initial pulses has a thermal component contributing $\\sim20\\%$ of the total energy, the corresponding temperature and the inferred Lorentz factor of the photosphere evolve following broken power-law shapes. From the observation of the non-thermal spectra and the light-curve, the onset of afterglow corresponding to the deceleration of the fireball is considered at $\\sim 6$~s. By incorporating the thermal and the non-thermal observations, as well as the photosphere and the synchrotron radiative mechanisms, we can directly derive the fireball energy budget with little dependence on hypothetical parameters and to measure a $\\sim 16\\%$ radiative efficiency for this GRB. With the fireball energy budget derived, the afterglow microphysics parameters can also be constrained directly from the data. |\n",
       "|<p style=\"color:green\"> **ERROR** </p>| <p style=\"color:green\">affiliation error: mpia.affiliation_verifications: 'Heidelberg' keyword not found.</p> |"
      ],
      "text/plain": [
       "<IPython.core.display.Markdown object>"
      ]
     },
     "metadata": {},
     "output_type": "display_data"
    },
    {
     "data": {
      "text/markdown": [
       "\n",
       "|||\n",
       "|---:|:---|\n",
       "| [![arXiv](https://img.shields.io/badge/arXiv-arXiv:2212.02161-b31b1b.svg)](https://arxiv.org/abs/arXiv:2212.02161) | **Deriving Large Coronal Magnetic Loop Parameters Using LOFAR J burst  Observations**  |\n",
       "|| <mark>Jinge Zhang</mark>, et al. |\n",
       "|*Appeared on*| *2022-12-06*|\n",
       "|*Comments*| **|\n",
       "|**Abstract**| Large coronal loops around one solar radius in altitude are an important connection between the solar wind and the low solar corona. However, their plasma properties are ill-defined as standard X-ray and UV techniques are not suited to these low-density environments. Diagnostics from type J solar radio bursts at frequencies above 10 MHz are ideally suited to understand these coronal loops. Despite this, J-bursts are less frequently studied than their type III cousins, in part because the curvature of the coronal loop makes them unsuited for using standard coronal density models. We used LOw-Frequency-ARray (LOFAR) and Parker Solar Probe (PSP) solar radio dynamic spectrum to identify 27 type III bursts and 27 J-bursts during a solar radio noise storm observed on 10 April 2019. We found that their exciter velocities were similar, implying a common acceleration region that injects electrons along open and closed magnetic structures. We describe a novel technique to estimate the density model in coronal loops from J-burst dynamic spectra, finding typical loop apex altitudes around 1.3 solar radius. At this altitude, the average scale heights were 0.36 solar radius, the average temperature was around 1 MK, the average pressure was 0.7 mdyn cm$^{-2}$, and the average minimum magnetic field strength was 0.13 G. We discuss how these parameters compare with much smaller coronal loops. |\n",
       "|<p style=\"color:green\"> **ERROR** </p>| <p style=\"color:green\">affiliation error: mpia.affiliation_verifications: 'Heidelberg' keyword not found.</p> |"
      ],
      "text/plain": [
       "<IPython.core.display.Markdown object>"
      ]
     },
     "metadata": {},
     "output_type": "display_data"
    },
    {
     "data": {
      "text/markdown": [
       "\n",
       "|||\n",
       "|---:|:---|\n",
       "| [![arXiv](https://img.shields.io/badge/arXiv-arXiv:2212.02203-b31b1b.svg)](https://arxiv.org/abs/arXiv:2212.02203) | **Hubble constant by natural selection: Evolution chips in the Hubble  tension**  |\n",
       "|| Reginald Christian Bernardo, <mark>You-Ru Lee</mark> |\n",
       "|*Appeared on*| *2022-12-06*|\n",
       "|*Comments*| *11 pages, 5 figures, comments welcome*|\n",
       "|**Abstract**| The Approximate Bayesian Computation (ABC) algorithm considers natural selection in biology as a guiding principle for statistical model selection and parameter estimation. We take this ABC approach to cosmology and use it to infer which model anchored on a choice of a Hubble constant prior would be preferred by the data. We find in all of our runs that the Planck Hubble constant ($H_0 = 67.4 \\pm 0.5$ km s$^{-1}$Mpc$^{-1}$) always emerge naturally selected by the ABC over the SH$0$ES estimate ($H_0 = 73.30 \\pm 1.04$ km s$^{-1}$Mpc$^{-1}$). The result holds regardless of how we mix our data sets, including supernovae, cosmic chronometers, baryon acoustic oscillations, and growth data. Compared with the traditional MCMC, we find that the ABC always results with narrower cosmological constraints, but remain consistent inside the corresponding MCMC posteriors. |\n",
       "|<p style=\"color:green\"> **ERROR** </p>| <p style=\"color:green\">affiliation error: mpia.affiliation_verifications: 'Heidelberg' keyword not found.</p> |"
      ],
      "text/plain": [
       "<IPython.core.display.Markdown object>"
      ]
     },
     "metadata": {},
     "output_type": "display_data"
    },
    {
     "data": {
      "text/markdown": [
       "\n",
       "|||\n",
       "|---:|:---|\n",
       "| [![arXiv](https://img.shields.io/badge/arXiv-arXiv:2212.02270-b31b1b.svg)](https://arxiv.org/abs/arXiv:2212.02270) | **Asymmetric eROSITA Bubbles as the Evidence of a CGM Wind**  |\n",
       "|| <mark>Guobin Mou</mark>, et al. -- incl., <mark>Ruiyu Zhang</mark>, <mark>Zhicheng He</mark> |\n",
       "|*Appeared on*| *2022-12-06*|\n",
       "|*Comments*| *26 pages including Supplementary, file size 23 MB, accepted for publication in Nature Communications*|\n",
       "|**Abstract**| The recently revealed eROSITA bubbles (eRBs) suggest past activities in the Galactic center. The northern eRB shows noticeable asymmetric features, including distortion to the west/right and enhancement in the eastern edge, while the southern counterpart is significantly dimmer. We performed hydrodynamic simulations on the formation of eRBs, paying particular attention to the asymmetry that is also present in radio band. Our results suggest that, asymmetric eRBs favor a dynamic, circumgalactic medium (CGM) wind model, but disfavor other mechanisms such as a non-axisymmetric halo gas or a tilted nuclear outflow. The CGM wind from the east/left by north direction in Galactic coordinates blows across the northern halo with a velocity of ~200 km s-1, and part of the wind enters the southern halo. This interaction strongly disturbs the halo, creating a dynamic halo medium and redistributing both density and metallicity within. This naturally explains the asymmetric bubbles seen in both the morphology and surface brightness. Our results suggest that our Galaxy is accreting low-abundance CGM from one side while providing outflow feedback. |\n",
       "|<p style=\"color:green\"> **ERROR** </p>| <p style=\"color:green\">affiliation error: mpia.affiliation_verifications: 'Heidelberg' keyword not found.</p> |"
      ],
      "text/plain": [
       "<IPython.core.display.Markdown object>"
      ]
     },
     "metadata": {},
     "output_type": "display_data"
    },
    {
     "data": {
      "text/markdown": [
       "\n",
       "|||\n",
       "|---:|:---|\n",
       "| [![arXiv](https://img.shields.io/badge/arXiv-arXiv:2212.02337-b31b1b.svg)](https://arxiv.org/abs/arXiv:2212.02337) | **Gaia-IGRINS synergy: Orbits of Newly Identified Milky Way Star Clusters**  |\n",
       "|| Elisa R. Garro, et al. -- incl., <mark>Heinz Frelijj</mark> |\n",
       "|*Appeared on*| *2022-12-06*|\n",
       "|*Comments*| *21 pages, 8 figures. Accepted for publication in A&A*|\n",
       "|**Abstract**| The recent exquisite Gaia astrometric, photometric, and radial velocity (RV) measurements resulted in a substantial advancement for the determination of the orbits for old star clusters, including the oldest Milky Way globular clusters (MW GCs). The main goal of this paper is to use the Gaia DR3 and the VVVX measurements to obtain the orbits for nearly a dozen new Galactic GC candidates that have been poorly studied or previously unexplored. We use the Gaia DR3 and VVVX databases to identify bonafide members of the Galactic GC candidates: VVV-CL160, Patchick122, Patchick125, Patchick126, Kronberger99, Kronberger119, Kronberger143, ESO92-18, ESO93-08, Gaia2, and Ferrero54. The relevant mean cluster physical parameters are derived (distances, Galactic coordinates, proper motions, RVs). We measure accurate mean RVs for the GCs VVV-CL160 and Patchick126, using observations acquired at the Gemini-South telescope with the IGRINS high-resolution spectrograph. Orbits for each cluster are then computed using the GravPot16 model, assuming typical Galactic bar pattern speeds. We reconstruct the orbits for these clusters for the first time. These include star clusters with retrograde and prograde orbital motions, both in the Galactic bulge and disk. Orbital properties, such as the mean time-variations of perigalactic and apogalactic distances, eccentricities, vertical excursions from the Galactic plane, and Z-components of the angular momentum are obtained for our sample. Our main conclusion is that, based on the orbital parameters, Patchick125 and Patchick126 are genuine MW bulge/halo GCs; Ferrero54, Gaia2 and Patchick122 are MW disk GCs. The orbits of Kronberger99, Kronberger119, Kronberger143, ESO92-18, and ESO93-08 are more consistent with old MW disk open clusters. VVV-CL160 falls very close to the Galactic centre, but reaches larger distances beyond the Sun, thus its origin is still unclear. |\n",
       "|<p style=\"color:green\"> **ERROR** </p>| <p style=\"color:green\">affiliation error: mpia.affiliation_verifications: 'Heidelberg' keyword not found.</p> |"
      ],
      "text/plain": [
       "<IPython.core.display.Markdown object>"
      ]
     },
     "metadata": {},
     "output_type": "display_data"
    },
    {
     "data": {
      "text/markdown": [
       "\n",
       "|||\n",
       "|---:|:---|\n",
       "| [![arXiv](https://img.shields.io/badge/arXiv-arXiv:2212.02353-b31b1b.svg)](https://arxiv.org/abs/arXiv:2212.02353) | **Observation of night-time emissions of the Earth in the near UV range  from the International Space Station with the Mini-EUSO detector**  |\n",
       "|| M. Casolino, et al. -- incl., <mark>M. A. Franceschi</mark> |\n",
       "|*Appeared on*| *2022-12-06*|\n",
       "|*Comments*| *49 pages, 27 figures, 1 table, published in Remote Sensing of Environment*|\n",
       "|**Abstract**| Mini-EUSO (Multiwavelength Imaging New Instrument for the Extreme Universe Space Observatory) is a telescope observing the Earth from the International Space Station since 2019. The instrument employs a Fresnel-lens optical system and a focal surface composed of 36 multi-anode photomultiplier tubes, 64 channels each, for a total of 2304 channels with single photon counting sensitivity. Mini-EUSO also contains two ancillary cameras to complement measurements in the near infrared and visible ranges. The scientific objectives of the mission range from the search for extensive air showers generated by Ultra-High Energy Cosmic Rays (UHECRs) with energies above 10$^{21}$ eV, the search for nuclearites and Strange Quark Matter (SQM), up to the study of atmospheric phenomena such as Transient Luminous Events (TLEs), meteors and meteoroids. Mini-EUSO can map the night-time Earth in the near UV range (between 290-430 nm) with a spatial resolution of about 6.3 km (full field of view of 44{\\deg}) and a maximum temporal resolution of 2.5 $\\mu$s, observing our planet through a nadir-facing UV-transparent window in the Russian Zvezda module. The detector saves triggered transient phenomena with a sampling rate of 2.5 $\\mu$s and 320 $\\mu$s, as well as continuous acquisition at 40.96 ms scale. In this paper we discuss the detector response and the flat-fielding and calibration procedures. Using the 40.96 ms data, we present $\\simeq$6.3 km resolution night-time Earth maps in the UV band, and report on various emissions of anthropogenic and natural origin. We measure ionospheric airglow emissions of dark moonless nights over the sea and ground, studying the effect of clouds, moonlight, and artificial (towns, boats) lights. In addition to paving the way forward for the study of long-term variations of natural and artificial light, we also estimate the observation live-time of future UHECR detectors. |\n",
       "|<p style=\"color:green\"> **ERROR** </p>| <p style=\"color:green\">affiliation error: mpia.affiliation_verifications: 'Heidelberg' keyword not found.</p> |"
      ],
      "text/plain": [
       "<IPython.core.display.Markdown object>"
      ]
     },
     "metadata": {},
     "output_type": "display_data"
    },
    {
     "data": {
      "text/markdown": [
       "\n",
       "|||\n",
       "|---:|:---|\n",
       "| [![arXiv](https://img.shields.io/badge/arXiv-arXiv:2212.02357-b31b1b.svg)](https://arxiv.org/abs/arXiv:2212.02357) | **Astrometric precision tests on TESS data**  |\n",
       "|| Mario Gai, et al. -- incl., <mark>Zhaoxiang Qi</mark> |\n",
       "|*Appeared on*| *2022-12-06*|\n",
       "|*Comments*| *13 pages, 8 figures*|\n",
       "|**Abstract**| Background. Astrometry at or below the micro-arcsec level with an imaging telescope assumes that the uncertainty on the location of an unresolved source can be an arbitrarily small fraction of the detector pixel, given a sufficient photon budget. Aim. This paper investigates the geometric limiting precision, in terms of CCD pixel fraction, achieved by a large set of star field images, selected among the publicly available science data of the TESS mission. Method. The statistics of the distance between selected bright stars ($G \\simeq 5\\,mag$), in pixel units, is evaluated, using the position estimate provided in the TESS light curve files. Results. The dispersion of coordinate differences appears to be affected by long term variation and noisy periods, at the level of $0.01$ pixel. The residuals with respect to low-pass filtered data (tracing the secular evolution), which are interpreted as the experimental astrometric noise, reach the level of a few milli-pixel or below, down to $1/5,900$ pixel. Saturated images are present, evidencing that the astrometric precision is mostly preserved across the CCD columns, whereas it features a graceful degradation in the along column direction. The cumulative performance of the image set is a few micro-pixel across columns, or a few 10 micro-pixel along columns. Conclusions. The idea of astrometric precision down to a small fraction of a CCD pixel, given sufficient signal to noise ratio, is confirmed by real data from an in-flight science instrument to the $10^{-6}$ pixel level. Implications for future high precision astrometry missions are briefly discussed. |\n",
       "|<p style=\"color:green\"> **ERROR** </p>| <p style=\"color:green\">affiliation error: mpia.affiliation_verifications: 'Heidelberg' keyword not found.</p> |"
      ],
      "text/plain": [
       "<IPython.core.display.Markdown object>"
      ]
     },
     "metadata": {},
     "output_type": "display_data"
    },
    {
     "data": {
      "text/markdown": [
       "\n",
       "|||\n",
       "|---:|:---|\n",
       "| [![arXiv](https://img.shields.io/badge/arXiv-arXiv:2212.02423-b31b1b.svg)](https://arxiv.org/abs/arXiv:2212.02423) | **Ultraviolet imaging observations of three jellyfish galaxies: Star  formation suppression in the centre and ongoing star formation in stripped  tails**  |\n",
       "|| Koshy George, et al. -- incl., <mark>S. K. Ghosh</mark> |\n",
       "|*Appeared on*| *2022-12-06*|\n",
       "|*Comments*| *Accepted for publication in MNRAS*|\n",
       "|**Abstract**| Spiral galaxies undergo strong ram-pressure effects when they fall into the galaxy cluster potential. As a consequence, their gas is stripped to form extended tails within which star formation can happen, giving them the typical jellyfish appearance. The ultraviolet imaging observations of jellyfish galaxies provide an opportunity to understand ongoing star formation in the stripped tails. We report the ultraviolet observations of the jellyfish galaxies JW39, JO60, JO194 and compare with observations in optical continuum and $\\mathrm{H}{\\alpha}$. We detect knots of star formation in the disk and tails of the galaxies and find that their UV and H$\\alpha$ flux are well correlated. The optical emission line ratio maps of these galaxies are used to identify for every region the emission mechanism, due to either star formation, LINER or a mix of the two phenomena. The star-forming regions in the emission line maps match very well with the regions having significant UV flux. The central regions of two galaxies (JW39, JO194) show a reduction in UV flux which coincides with composite or LINER regions in the emission line maps. The galaxies studied here demonstrate significant star formation in the stripped tails, suppressed star formation in the central regions and present a possible case of accelerated quenching happening in jellyfish galaxies. |\n",
       "|<p style=\"color:green\"> **ERROR** </p>| <p style=\"color:green\">affiliation error: mpia.affiliation_verifications: 'Heidelberg' keyword not found.</p> |"
      ],
      "text/plain": [
       "<IPython.core.display.Markdown object>"
      ]
     },
     "metadata": {},
     "output_type": "display_data"
    },
    {
     "data": {
      "text/markdown": [
       "\n",
       "|||\n",
       "|---:|:---|\n",
       "| [![arXiv](https://img.shields.io/badge/arXiv-arXiv:2212.02458-b31b1b.svg)](https://arxiv.org/abs/arXiv:2212.02458) | **Methods for quasar absorption system measurements of the fine structure  constant in the 2020s and beyond**  |\n",
       "|| Dinko Milaković, <mark>Chung-Chi Lee</mark>, Paolo Molaro, John K. Webb |\n",
       "|*Appeared on*| *2022-12-06*|\n",
       "|*Comments*| *10 pages, part of the HACK100 conference proceedings*|\n",
       "|**Abstract**| This article reviews the two major recent developments that significantly improved cosmological measurements of fundamental constants derived from high resolution quasar spectroscopy. The first one is the deployment of astronomical Laser Frequency Combs on high resolution spectrographs and the second one is the development of spectral analysis tools based on Artificial Intelligence methods. The former all but eliminated the previously dominant source of instrumental uncertainty whereas the latter established optimal methods for measuring the fine structure constant ($\\alpha$) in quasar absorption systems. The methods can be used on data collected by the new ESPRESSO spectrograph and the future ANDES spectrograph on the Extremely Large Telescope to produce unbiased $\\Delta\\alpha/\\alpha$ measurements with unprecedented precision. |\n",
       "|<p style=\"color:green\"> **ERROR** </p>| <p style=\"color:green\">affiliation error: mpia.affiliation_verifications: 'Heidelberg' keyword not found.</p> |"
      ],
      "text/plain": [
       "<IPython.core.display.Markdown object>"
      ]
     },
     "metadata": {},
     "output_type": "display_data"
    },
    {
     "data": {
      "text/markdown": [
       "\n",
       "|||\n",
       "|---:|:---|\n",
       "| [![arXiv](https://img.shields.io/badge/arXiv-arXiv:2212.02491-b31b1b.svg)](https://arxiv.org/abs/arXiv:2212.02491) | **Evolution of the Mass-Metallicity Relation from Redshift $z\\approx8$ to  the Local Universe**  |\n",
       "|| <mark>Danial Langeroodi</mark>, et al. -- incl., <mark>Yu-Heng Lin</mark> |\n",
       "|*Appeared on*| *2022-12-06*|\n",
       "|*Comments*| *Submitted to ApJ, 29 pages, 18 figures, 3 tables*|\n",
       "|**Abstract**| A tight positive correlation between the stellar mass and the gas-phase metallicity of galaxies has been observed at low redshifts, with only $\\sim 0.1$ dex scatter in metallicity. The shape and normalization of this correlation can set strong constraints on theories of galaxy evolution. In particular, its redshift evolution is thought to be determined by stellar and active galactic nucleus feedback-driven outflows, the redshift evolution of the stellar initial mass function or stellar yields, and broadly the star-formation histories of galaxies. The advent of \\jwst\\ allows probing the mass--metallicity relation at redshifts far beyond what was previously accessible. Here we report the discovery of two emission-line galaxies at redshift $z = 8.15$ and $z = 8.16$ in \\jwst\\ NIRCam imaging and NIRSpec spectroscopy of galaxies gravitationally lensed by the cluster RX\\,J2129.4$+$0009. We measure their metallicities using the strong-line method and their stellar masses through spectral-energy-distribution fitting with a nonparametric star-formation history. We combine these with nine similarly re-analysed galaxies at $7.2 < z < 9.5$ to compile a sample of eleven galaxies at $z \\approx 8$ (six with \\jwst\\ metallicities and five with ALMA metallicities). Based on this sample, we report the first quantitative statistical inference of the mass--metallicity relation at $z\\approx8$ (median $z = 8.15$). We measure a $\\sim 1.0$ dex redshift evolution in the normalization of the mass--metallicity relation from $z \\approx 8$ to the local Universe; at fixed stellar mass, galaxies are 10 times less metal enriched at $z \\approx 8$ compared to the present day (abridged). |\n",
       "|<p style=\"color:green\"> **ERROR** </p>| <p style=\"color:green\">affiliation error: mpia.affiliation_verifications: 'Heidelberg' keyword not found.</p> |"
      ],
      "text/plain": [
       "<IPython.core.display.Markdown object>"
      ]
     },
     "metadata": {},
     "output_type": "display_data"
    },
    {
     "data": {
      "text/markdown": [
       "\n",
       "|||\n",
       "|---:|:---|\n",
       "| [![arXiv](https://img.shields.io/badge/arXiv-arXiv:2212.01493-b31b1b.svg)](https://arxiv.org/abs/arXiv:2212.01493) | **Applications of AI in Astronomy**  |\n",
       "|| S. G. Djorgovski, et al. -- incl., <mark>A. A. Mahabal</mark> |\n",
       "|*Appeared on*| *2022-12-06*|\n",
       "|*Comments*| *12 pages, 1 figure, an invited review chapter, to appear in: Artificial Intelligence for Science, eds. A. Choudhary, G. Fox and T. Hey, Singapore: World Scientific, in press (2023)*|\n",
       "|**Abstract**| We provide a brief, and inevitably incomplete overview of the use of Machine Learning (ML) and other AI methods in astronomy, astrophysics, and cosmology. Astronomy entered the big data era with the first digital sky surveys in the early 1990s and the resulting Terascale data sets, which required automating of many data processing and analysis tasks, for example the star-galaxy separation, with billions of feature vectors in hundreds of dimensions. The exponential data growth continued, with the rise of synoptic sky surveys and the Time Domain Astronomy, with the resulting Petascale data streams and the need for a real-time processing, classification, and decision making. A broad variety of classification and clustering methods have been applied for these tasks, and this remains a very active area of research. Over the past decade we have seen an exponential growth of the astronomical literature involving a variety of ML/AI applications of an ever increasing complexity and sophistication. ML and AI are now a standard part of the astronomical toolkit. As the data complexity continues to increase, we anticipate further advances leading towards a collaborative human-AI discovery. |\n",
       "|<p style=\"color:red\"> **ERROR** </p>| <p style=\"color:red\">latex error not a gzip file</p> |"
      ],
      "text/plain": [
       "<IPython.core.display.Markdown object>"
      ]
     },
     "metadata": {},
     "output_type": "display_data"
    }
   ],
   "source": [
    "import datetime\n",
    "today = str(datetime.date.today())\n",
    "logfile = f\"_build/html/logs/log-{today}.md\"\n",
    "\n",
    "\n",
    "with open(logfile, 'w') as logs:\n",
    "    # Success\n",
    "    logs.write(f'# Arxiv on Deck 2: Logs - {today}\\n\\n')\n",
    "    logs.write(\"\"\"* Arxiv had {0:,d} new papers\\n\"\"\".format(len(new_papers)))\n",
    "    logs.write(\"\"\"    * {0:,d} with possible author matches\\n\\n\"\"\".format(len(candidates)))\n",
    "    logs.write(\"## Sucessful papers\\n\\n\")\n",
    "    display(Markdown(\"## Successful papers\"))\n",
    "    success = [k[0] for k in documents]\n",
    "    for candid in candidates:\n",
    "        if candid['identifier'].split(':')[-1] in success:\n",
    "            display(candid)\n",
    "            logs.write(candid.generate_markdown_text() + '\\n\\n')\n",
    "\n",
    "    ## failed\n",
    "    logs.write(\"## Failed papers\\n\\n\")\n",
    "    display(Markdown(\"## Failed papers\"))\n",
    "    failed = sorted(failed, key=lambda x: x[1])\n",
    "    current_reason = \"\"\n",
    "    for paper, reason in failed:\n",
    "        if 'affiliation' in reason:\n",
    "            color = 'green'\n",
    "        else:\n",
    "            color = 'red'\n",
    "        data = Markdown(\n",
    "                paper.generate_markdown_text() + \n",
    "                f'\\n|<p style=\"color:{color:s}\"> **ERROR** </p>| <p style=\"color:{color:s}\">{reason:s}</p> |'\n",
    "               )\n",
    "        if reason != current_reason:\n",
    "            logs.write(f'### {reason:s} \\n\\n')\n",
    "            current_reason = reason\n",
    "        logs.write(data.data + '\\n\\n')\n",
    "        \n",
    "        # only display here the important errors (all in logs)\n",
    "        # if color in ('red',):\n",
    "        display(data)"
   ]
  },
  {
   "cell_type": "markdown",
   "id": "472d20ee",
   "metadata": {
    "papermill": {
     "duration": 0.013224,
     "end_time": "2022-12-06T04:07:08.191114",
     "exception": false,
     "start_time": "2022-12-06T04:07:08.177890",
     "status": "completed"
    },
    "tags": []
   },
   "source": [
    "## Export documents\n",
    "\n",
    "We now write the .md files and export relevant images"
   ]
  },
  {
   "cell_type": "code",
   "execution_count": 7,
   "id": "d426aed9",
   "metadata": {
    "execution": {
     "iopub.execute_input": "2022-12-06T04:07:08.218610Z",
     "iopub.status.busy": "2022-12-06T04:07:08.218295Z",
     "iopub.status.idle": "2022-12-06T04:07:08.227891Z",
     "shell.execute_reply": "2022-12-06T04:07:08.227211Z"
    },
    "papermill": {
     "duration": 0.025269,
     "end_time": "2022-12-06T04:07:08.229542",
     "exception": false,
     "start_time": "2022-12-06T04:07:08.204273",
     "status": "completed"
    },
    "tags": []
   },
   "outputs": [],
   "source": [
    "def export_markdown_summary(md: str, md_fname:str, directory: str):\n",
    "    \"\"\"Export MD document and associated relevant images\"\"\"\n",
    "    import os\n",
    "    import shutil\n",
    "    import re\n",
    "\n",
    "    if (os.path.exists(directory) and not os.path.isdir(directory)):\n",
    "        raise RuntimeError(f\"a non-directory file exists with name {directory:s}\")\n",
    "\n",
    "    if (not os.path.exists(directory)):\n",
    "        print(f\"creating directory {directory:s}\")\n",
    "        os.mkdir(directory)\n",
    "\n",
    "    fig_fnames = (re.compile(r'\\[Fig.*\\]\\((.*)\\)').findall(md) + \n",
    "                  re.compile(r'\\<img src=\"([^>\\s]*)\"[^>]*/>').findall(md))\n",
    "    for fname in fig_fnames:\n",
    "        if 'http' in fname:\n",
    "            # No need to copy online figures\n",
    "            continue\n",
    "        destdir = os.path.join(directory, os.path.dirname(fname))\n",
    "        destfname = os.path.join(destdir, os.path.basename(fname))\n",
    "        try:\n",
    "            os.makedirs(destdir)\n",
    "        except FileExistsError:\n",
    "            pass\n",
    "        shutil.copy(fname, destfname)\n",
    "    with open(os.path.join(directory, md_fname), 'w') as fout:\n",
    "        fout.write(md)\n",
    "    print(\"exported in \", os.path.join(directory, md_fname))\n",
    "    [print(\"    + \" + os.path.join(directory,fk)) for fk in fig_fnames]"
   ]
  },
  {
   "cell_type": "code",
   "execution_count": 8,
   "id": "014d04a4",
   "metadata": {
    "execution": {
     "iopub.execute_input": "2022-12-06T04:07:08.257021Z",
     "iopub.status.busy": "2022-12-06T04:07:08.256731Z",
     "iopub.status.idle": "2022-12-06T04:07:08.273829Z",
     "shell.execute_reply": "2022-12-06T04:07:08.273127Z"
    },
    "papermill": {
     "duration": 0.032677,
     "end_time": "2022-12-06T04:07:08.275328",
     "exception": false,
     "start_time": "2022-12-06T04:07:08.242651",
     "status": "completed"
    },
    "tags": []
   },
   "outputs": [
    {
     "name": "stdout",
     "output_type": "stream",
     "text": [
      "exported in  _build/html/2212.01397.md\n",
      "    + _build/html/tmp_2212.01397/./figure23.png\n",
      "    + _build/html/tmp_2212.01397/./figure10.jpg\n",
      "    + _build/html/tmp_2212.01397/./figure17.jpg\n"
     ]
    },
    {
     "name": "stdout",
     "output_type": "stream",
     "text": [
      "exported in  _build/html/2212.01526.md\n",
      "    + _build/html/tmp_2212.01526/./lumdist2.png\n",
      "    + _build/html/tmp_2212.01526/./colorcolor.png\n",
      "    + _build/html/tmp_2212.01526/./age_mass_color.png\n",
      "exported in  _build/html/2212.01707.md\n",
      "    + _build/html/tmp_2212.01707/./spec_reg.png\n",
      "    + _build/html/tmp_2212.01707/./spec3c297.png\n",
      "    + _build/html/tmp_2212.01707/./3c279_ne5_new.png\n",
      "    + _build/html/tmp_2212.01707/./3c279_o2_new.png\n",
      "exported in  _build/html/2212.02235.md\n",
      "    + _build/html/tmp_2212.02235/./figures/rho_mol_vs_redshift_TOTAL_and_LF-CUT.png\n",
      "    + _build/html/tmp_2212.02235/./figures/rho_mol_vs_redshift_poisson_percentage.png\n",
      "    + _build/html/tmp_2212.02235/./figures/CO_LFs_4.6arcmin2_3.png\n",
      "    + _build/html/tmp_2212.02235/./figures/CO_number_counts.png\n",
      "    + _build/html/tmp_2212.02235/./figures/CII_number_counts.png\n"
     ]
    }
   ],
   "source": [
    "for paper_id, md in documents:\n",
    "    export_markdown_summary(md, f\"{paper_id:s}.md\", '_build/html/')"
   ]
  },
  {
   "cell_type": "markdown",
   "id": "f087a0a7",
   "metadata": {
    "papermill": {
     "duration": 0.013037,
     "end_time": "2022-12-06T04:07:08.301813",
     "exception": false,
     "start_time": "2022-12-06T04:07:08.288776",
     "status": "completed"
    },
    "tags": []
   },
   "source": [
    "## Display the papers\n",
    "\n",
    "Not necessary but allows for a quick check."
   ]
  },
  {
   "cell_type": "code",
   "execution_count": 9,
   "id": "fd25f625",
   "metadata": {
    "execution": {
     "iopub.execute_input": "2022-12-06T04:07:08.329412Z",
     "iopub.status.busy": "2022-12-06T04:07:08.329121Z",
     "iopub.status.idle": "2022-12-06T04:07:08.341036Z",
     "shell.execute_reply": "2022-12-06T04:07:08.340342Z"
    },
    "papermill": {
     "duration": 0.027896,
     "end_time": "2022-12-06T04:07:08.342927",
     "exception": false,
     "start_time": "2022-12-06T04:07:08.315031",
     "status": "completed"
    },
    "scrolled": false,
    "tags": []
   },
   "outputs": [
    {
     "data": {
      "text/markdown": [
       "<div class=\"macros\" style=\"visibility:hidden;\">\n",
       "$\\newcommand{\\ensuremath}{}$\n",
       "$\\newcommand{\\xspace}{}$\n",
       "$\\newcommand{\\object}[1]{\\texttt{#1}}$\n",
       "$\\newcommand{\\farcs}{{.}''}$\n",
       "$\\newcommand{\\farcm}{{.}'}$\n",
       "$\\newcommand{\\arcsec}{''}$\n",
       "$\\newcommand{\\arcmin}{'}$\n",
       "$\\newcommand{\\ion}[2]{#1#2}$\n",
       "$\\newcommand{\\textsc}[1]{\\textrm{#1}}$\n",
       "$\\newcommand{\\hl}[1]{\\textrm{#1}}$\n",
       "$\\newcommand{\\vdag}{(v)^\\dagger}$\n",
       "$\\newcommand$\n",
       "$\\newcommand$</div>\n",
       "\n",
       "<div class=\"macros\" style=\"visibility:hidden;\">\n",
       "$\\newcommand{$\\ensuremath$}{}$\n",
       "$\\newcommand{$\\xspace$}{}$\n",
       "$\\newcommand{$\\object$}[1]{\\texttt{#1}}$\n",
       "$\\newcommand{$\\farcs$}{{.}''}$\n",
       "$\\newcommand{$\\farcm$}{{.}'}$\n",
       "$\\newcommand{$\\arcsec$}{''}$\n",
       "$\\newcommand{$\\arcmin$}{'}$\n",
       "$\\newcommand{$\\ion$}[2]{#1#2}$\n",
       "$\\newcommand{$\\textsc$}[1]{\\textrm{#1}}$\n",
       "$\\newcommand{$\\hl$}[1]{\\textrm{#1}}$\n",
       "$\\newcommand{$\\vdag$}{(v)^\\dagger}$\n",
       "$\\newcommand$\n",
       "$\\newcommand$</div>\n",
       "\n",
       "\n",
       "\n",
       "<div id=\"title\">\n",
       "\n",
       "# THE STAR FORMATION HISTORY OF THE MILKY WAY'S NUCLEAR STAR CLUSTER\n",
       "\n",
       "</div>\n",
       "<div id=\"comments\">\n",
       "\n",
       "[![arXiv](https://img.shields.io/badge/arXiv-2212.01397-b31b1b.svg)](https://arxiv.org/abs/2212.01397)<mark>Appeared on: 2022-12-06</mark> - _37 pages, 23 figures, Accepted to ApJ_\n",
       "\n",
       "</div>\n",
       "<div id=\"authors\">\n",
       "\n",
       "Zhuo Chen, et al. -- incl., <mark>Anja Feldmeier-Krause</mark>\n",
       "\n",
       "</div>\n",
       "<div id=\"abstract\">\n",
       "\n",
       "**Abstract:** We report the first star formation history study of the Milky Way’s nuclear star cluster (NSC) that includes observational constraints from a large sample of stellar metallicity measurements. These metallicity measurements were obtained from recent surveys from Gemini and VLT of 770 late-type stars within the central 1.5 pc. These metallicity measurements, along with photometry and spectroscopically derived temperatures, are forward modeled with a Bayesian inference approach.  Including metallicity measurements improves the overall fit quality, as the low-temperature red giants that were previously difficult to constrain are now accounted for, and the best fit favors a two-component model. The dominant component contains 93\\%$\\pm$3\\%of the mass, is metal-rich ($\\overline{[M/H]}\\sim$0.45), and has an age of 5$^{+3}_{-2}$Gyr, which is$\\sim$3 Gyr younger than earlier studies with fixed (solar) metallicity; this younger age challenges co-evolutionary models in which the NSC and supermassive black holes formed simultaneously at early times. The minor population component has low metallicity ($\\overline{[M/H]}\\sim$-1.1) and contains$\\sim$7\\%of the stellar mass. The age of the minor component is uncertain (0.1 - 5 Gyr old). Using the estimated parameters, we infer the following NSC stellar remnant population (with$\\sim$18\\%uncertainty): 1.5$\\times$10$^5$neutron stars, 2.5$\\times$10$^5$stellar mass black holes (BHs) and 2.2$\\times$10$^4$BH-BH binaries. These predictions result in 2-4 times fewer neutron stars compared to earlier predictions that assume solar metallicity, introducing a possible new path to understand the so-called \"missing pulsar problem”.  Finally, we present updated predictions for the BH-BH merger rates (0.01-3 Gpc$^{-3}$yr$^{-1}$).\n",
       "\n",
       "</div>\n",
       "\n",
       "<div id=\"div_fig1\">\n",
       "\n",
       "<img src=\"tmp_2212.01397/./figure23.png\" alt=\"Fig7\" width=\"100%\"/>\n",
       "\n",
       "**Figure 7. -** Comparison of the metallicity measurements for the 27 common stars from both datasets. Blue crosses show the metallicities as measured from the AO spectra using MARCS grid \\citep{Do et al. 2015}, compared to those as measured from the seeing-limited spectra using PHOENIX grid \\citep{Feldmeier-Krause et al. 2017}. We investigated the effects of spectral resolution and grids on the measurements by re-fitting the AO spectra using the PHOENIX grid (see orange open circles with updated x-axis values). The grey error bar on the lower right shows average uncertainties. \\label{fig:mh_grids_comp} (*fig:mh_grids_comp*)\n",
       "\n",
       "</div>\n",
       "<div id=\"div_fig2\">\n",
       "\n",
       "<img src=\"tmp_2212.01397/./figure10.jpg\" alt=\"Fig13\" width=\"100%\"/>\n",
       "\n",
       "**Figure 13. -** IMF and metallicity are crucial properties for predicting the number of compact objects and their merger rates at the Galactic center. \\textbf{Left panel}: The high metallicity of the main population of the NSC ($\\overline{[M/H]}$ = 0.35, blue bar) predicts 2 - 4 times fewer neutron stars than those assuming a solar metallicity ($\\overline{[M/H]}$ = 0, yellow bar). \\textbf{Middle panel}: A cluster with a top-heavy IMF ($\\alpha$ = -1.7 $\\pm$ 0.2, red) produces 3 - 6 times more black holes and 2 - 3 times more neutron stars than a cluster with a Kroupa IMF. \\textbf{Right panel}: Comparison of the predicted BH-BH merger rate per volume assuming different IMFs, as calculated from a range of possible 3-d radial density profile of BHs with a power-law indice range of 7/4 $<$$\\beta$$<$ 11/4 \\citep{Alexander et al. 2009} covering both severe and weak (Buhcall-Wolf profile) mass segregation scenarios. The width in the band corresponds to the assumption of ellipticity of the NSC from 0.1 to 1. The top-heavy IMF predicts the BH-BH mergers with a rate of up to 19 times higher than that with a Kroupa IMF. \\label{fig:comp_merger} (*fig:comp_merger*)\n",
       "\n",
       "</div>\n",
       "<div id=\"div_fig3\">\n",
       "\n",
       "<img src=\"tmp_2212.01397/./figure17.jpg\" alt=\"Fig18\" width=\"100%\"/>\n",
       "\n",
       "**Figure 18. -** \\textbf{Left:} Stellar metallicity distribution from a synthetic cluster. The input cluster metallicity is shown as a vertical line. Uncertainty is added for each star as a Gaussian distribution. A random bias to $[M/H]$ is artificially introduced to simulate an apparent tail in the measured metallicity distribution out to $[M/H]$$\\sim$ +1 dex. \\textbf{Middle:} Test-cluster's marginalized 1D posterior probability density function for a simulated cluster with an age of 5 Gyr (log(Age) = 9.7). We find that the best fit cluster age of 5.7 $^{+3.8}_{-3.5}$ Gyr is consistent with the input age (red line). \\textbf{Right:} Example for a simulated cluster with an age of 10 Gyr (log(Age) = 10). The best fit cluster age of 8.9 $^{+4.0}_{-3.6}$ Gyr is consistent with the input age (red line). Our methodology is able to recover the cluster age with no substantial systematic biases.\n",
       "\\label{fig:mhfittertest} (*fig:mhfittertest*)\n",
       "\n",
       "</div>"
      ],
      "text/plain": [
       "<IPython.core.display.Markdown object>"
      ]
     },
     "metadata": {},
     "output_type": "display_data"
    },
    {
     "data": {
      "text/markdown": [
       "<div class=\"macros\" style=\"visibility:hidden;\">\n",
       "$\\newcommand{\\ensuremath}{}$\n",
       "$\\newcommand{\\xspace}{}$\n",
       "$\\newcommand{\\object}[1]{\\texttt{#1}}$\n",
       "$\\newcommand{\\farcs}{{.}''}$\n",
       "$\\newcommand{\\farcm}{{.}'}$\n",
       "$\\newcommand{\\arcsec}{''}$\n",
       "$\\newcommand{\\arcmin}{'}$\n",
       "$\\newcommand{\\ion}[2]{#1#2}$\n",
       "$\\newcommand{\\textsc}[1]{\\textrm{#1}}$\n",
       "$\\newcommand{\\hl}[1]{\\textrm{#1}}$\n",
       "$\\newcommand{\\vdag}{(v)^\\dagger}$\n",
       "$\\newcommand$\n",
       "$\\newcommand$\n",
       "$\\newcommand$\n",
       "$\\newcommand{\\STScI}{\\affiliation{Space Telescope Science Institute, 3700 San Martin Drive, Baltimore, MD 21218, USA}}$</div>\n",
       "\n",
       "<div class=\"macros\" style=\"visibility:hidden;\">\n",
       "$\\newcommand{$\\ensuremath$}{}$\n",
       "$\\newcommand{$\\xspace$}{}$\n",
       "$\\newcommand{$\\object$}[1]{\\texttt{#1}}$\n",
       "$\\newcommand{$\\farcs$}{{.}''}$\n",
       "$\\newcommand{$\\farcm$}{{.}'}$\n",
       "$\\newcommand{$\\arcsec$}{''}$\n",
       "$\\newcommand{$\\arcmin$}{'}$\n",
       "$\\newcommand{$\\ion$}[2]{#1#2}$\n",
       "$\\newcommand{$\\textsc$}[1]{\\textrm{#1}}$\n",
       "$\\newcommand{$\\hl$}[1]{\\textrm{#1}}$\n",
       "$\\newcommand{$\\vdag$}{(v)^\\dagger}$\n",
       "$\\newcommand$\n",
       "$\\newcommand$\n",
       "$\\newcommand$\n",
       "$\\newcommand{$\\STScI$}{\\affiliation{Space Telescope Science Institute, 3700 San Martin Drive, Baltimore, MD 21218, USA}}$</div>\n",
       "\n",
       "\n",
       "\n",
       "<div id=\"title\">\n",
       "\n",
       "#  Compact Source Population\n",
       "\n",
       "</div>\n",
       "<div id=\"comments\">\n",
       "\n",
       "[![arXiv](https://img.shields.io/badge/arXiv-2212.01526-b31b1b.svg)](https://arxiv.org/abs/2212.01526)<mark>Appeared on: 2022-12-06</mark> - _15 pages, 5 figures, Accepted as part of a PHANGS-JWST Focus Issue to appear in ApJ_\n",
       "\n",
       "</div>\n",
       "<div id=\"authors\">\n",
       "\n",
       "Hamid Hassani, et al. -- incl., <mark>Janice C. Lee</mark>, <mark>Kathryn Kreckel</mark>, <mark>Eva Schinnerer</mark>\n",
       "\n",
       "</div>\n",
       "<div id=\"abstract\">\n",
       "\n",
       "**Abstract:** We use PHANGS-JWST data to identify and classify 1271 compact 21\\umsources in four nearby galaxies using MIRI F2100W data. We identify sources using a dendrogram-based algorithm, and we measure the background-subtracted flux densities for JWST bands from 2$\\um$to 21$\\um$. Using the SED in JWST as well as HST bands, plus ALMA and MUSE/VLT observations, we classify the sources by eye. Then we use this classification to define regions in color-color space, and so establish a quantitative framework for classifying sources. We identify 1085 sources as belonging to the ISM of the target galaxies with the remainder being dusty stars or background galaxies.  These 21\\umsources are strongly spatially associated with$\\ion${H}{2}regions ($>92\\%$of sources), while 74\\%of sources are coincident with a stellar association defined in the HST data. Using SED fitting, we find that the stellar masses of the 21\\umsources span a range of 10$^{2}$to 10$^{4} M_\\odot$with mass-weighted ages down to 2 Myr. There is a tight correlation between attenuation-corrected H$\\alpha$and 21\\umluminosity for$L_{\\nu,\\mathrm{F2100W}}>10^{19} \\mathrm{W Hz}^{-1}$. Young embedded source candidates selected at 21\\umare found below this threshold and have$M_\\star < 10^{3} M_\\odot$.\n",
       "\n",
       "</div>\n",
       "\n",
       "<div id=\"div_fig1\">\n",
       "\n",
       "<img src=\"tmp_2212.01526/./lumdist2.png\" alt=\"Fig1\" width=\"100%\"/>\n",
       "\n",
       "**Figure 1. -** Luminosity distribution of 21 \\um sources classified as ISM sources in the JWST MIRI data.  The distributions are grouped by host galaxy in order of increasing distance (top to bottom). The blue dotted line indicates the mean $5\\sigma$ error in source luminosity. The red lines indicate a fit to the power-law distribution with $dN/dL_\\nu \\propto L_\\nu^{\\beta}$ over two orders of magnitude. The value of $\\beta$ is labeled in each panel.  The mass scale on the top axis translates the luminosity measurements to equivalent masses using the median ratio we determine from SED fitting (Section \\ref{sec:sedfit}). (*fig:lumdist*)\n",
       "\n",
       "</div>\n",
       "<div id=\"div_fig2\">\n",
       "\n",
       "<img src=\"tmp_2212.01526/./colorcolor.png\" alt=\"Fig4\" width=\"100%\"/>\n",
       "\n",
       "**Figure 4. -** Color-color plots of the 21 \\um selected sources in the MIRI (left) and NIRCam (right) bands constructed from band ratios that highlight significant PAH emission for $z=0$ sources.  Dashed lines indicate loci that partition the color-color space into sources with bright ISM emission \\edit1{(ISM)} vs. background galaxies \\edit1{(HZ)} and extreme AGB stars that lack a PAH feature \\edit1{(STAR)}.  Classifications are made by eye in examining the full SED and morphology of sources in the full PHANGS data set. The L20 line indicates the proposed line for stellar colors from \\citet{lai20}.  The green line in the right-hand plot indicates the expected flux ratios for PAH emission in \\citet{SANDSTROM2_PHANGSJWST}. (*fig:colors*)\n",
       "\n",
       "</div>\n",
       "<div id=\"div_fig3\">\n",
       "\n",
       "<img src=\"tmp_2212.01526/./age_mass_color.png\" alt=\"Fig5\" width=\"100%\"/>\n",
       "\n",
       "**Figure 5. -** Correlation between luminosity in the extinction corrected H$\\alpha$ line as a function of 21 \\um luminosity density. The color bar shows age of the sources and the total stellar mass of each region is represented by its size. Both age and mass are estimated via SED fitting using $\\textsc${cigale}(Section \\ref{sec:sedfit}). Most regions show an excellent correlation between 21 \\um and H$\\alpha$ luminosity.  The black dashed line indicates the threshold below which we regard a 21 \\um source as being H$\\alpha$-faint \\edit1{($L_\\mathrm{H\\alpha} / \\nu L_{\\nu, \\mathrm{F2100W}}=0.05<1/80$)}, and the red line indicates the mean $L_\\mathrm{H\\alpha} / \\nu L_{\\nu, \\mathrm{F2100W}}=0.05$.  The vertical line at $L_\\nu = 10^{19} \\mathrm{W Hz^{-1}}$ is the threshold below which we search for embedded sources. \\edit1{We plot representative fractional error bars in the bottom of the plot in five different $L_{\\nu, \\mathrm{F2100W}}$ ranges.} (*fig:hacorr*)\n",
       "\n",
       "</div>"
      ],
      "text/plain": [
       "<IPython.core.display.Markdown object>"
      ]
     },
     "metadata": {},
     "output_type": "display_data"
    },
    {
     "data": {
      "text/markdown": [
       "<div class=\"macros\" style=\"visibility:hidden;\">\n",
       "$\\newcommand{\\ensuremath}{}$\n",
       "$\\newcommand{\\xspace}{}$\n",
       "$\\newcommand{\\object}[1]{\\texttt{#1}}$\n",
       "$\\newcommand{\\farcs}{{.}''}$\n",
       "$\\newcommand{\\farcm}{{.}'}$\n",
       "$\\newcommand{\\arcsec}{''}$\n",
       "$\\newcommand{\\arcmin}{'}$\n",
       "$\\newcommand{\\ion}[2]{#1#2}$\n",
       "$\\newcommand{\\textsc}[1]{\\textrm{#1}}$\n",
       "$\\newcommand{\\hl}[1]{\\textrm{#1}}$\n",
       "$\\newcommand{\\vdag}{(v)^\\dagger}$\n",
       "$\\newcommand$\n",
       "$\\newcommand$\n",
       "$\\newcommand{\\chn}{{\\it Chandra}}$</div>\n",
       "\n",
       "<div class=\"macros\" style=\"visibility:hidden;\">\n",
       "$\\newcommand{$\\ensuremath$}{}$\n",
       "$\\newcommand{$\\xspace$}{}$\n",
       "$\\newcommand{$\\object$}[1]{\\texttt{#1}}$\n",
       "$\\newcommand{$\\farcs$}{{.}''}$\n",
       "$\\newcommand{$\\farcm$}{{.}'}$\n",
       "$\\newcommand{$\\arcsec$}{''}$\n",
       "$\\newcommand{$\\arcmin$}{'}$\n",
       "$\\newcommand{$\\ion$}[2]{#1#2}$\n",
       "$\\newcommand{$\\textsc$}[1]{\\textrm{#1}}$\n",
       "$\\newcommand{$\\hl$}[1]{\\textrm{#1}}$\n",
       "$\\newcommand{$\\vdag$}{(v)^\\dagger}$\n",
       "$\\newcommand$\n",
       "$\\newcommand$\n",
       "$\\newcommand{$\\chn$}{{\\it Chandra}}$</div>\n",
       "\n",
       "\n",
       "\n",
       "<div id=\"title\">\n",
       "\n",
       "# ?\n",
       "\n",
       "</div>\n",
       "<div id=\"comments\">\n",
       "\n",
       "[![arXiv](https://img.shields.io/badge/arXiv-2212.01707-b31b1b.svg)](https://arxiv.org/abs/2212.01707)<mark>Appeared on: 2022-12-06</mark> - _The Astrophysical Journal Supplement Series, in press_\n",
       "\n",
       "</div>\n",
       "<div id=\"authors\">\n",
       "\n",
       "Valentina Missaglia, et al. -- incl., <mark>Mischa Schirmer</mark>\n",
       "\n",
       "</div>\n",
       "<div id=\"abstract\">\n",
       "\n",
       "**Abstract:** The environment of the high-redshift ($z=1.408$), powerful radio-loud galaxy 3C 297 has several distinctive features of a galaxy cluster. Among them, a characteristic halo of hot gas revealed by Chandra X-ray observations. In addition, a radio mapobtained with the Very Large Array (VLA) shows a bright hotspot in the northwestern direction, created by the interaction of the AGN jet arising from 3C 297 with its environment. In the X-ray images, emission cospatial with the northwestern radio lobe is detected, and peaks at the position of the radio hotspot. The extended, complex X-ray emission observed with our new Chandra data is largely unrelated to its radio structure. Despite having attributes of a galaxy cluster, no companion galaxies have been identified from 39 new spectra of neighboring targets of 3C 297 obtained with the Gemini Multi-Object Spectrograph. None of the 19 galaxies for which a redshift was determined lies at the same distance as 3C 297. The optical spectral analysis of the new Gemini spectrum of 3C 297 reveals an isolated Type-II radio-loud AGN. We also detected line broadening in[O{\\sc ii}]$\\lambda$3728 with a FWHM about 1700 km s$^{-1}$and possible line shifts of up to 500-600 km s$^{-1}$. We postulate that the host galaxy of 3C 297 is a fossil group, in which most of the stellar mass has merged into a single object, leaving behind an X-ray halo.\n",
       "\n",
       "</div>\n",
       "\n",
       "<div id=\"div_fig1\">\n",
       "\n",
       "<img src=\"tmp_2212.01707/./spec_reg.png\" alt=\"Fig2\" width=\"100%\"/>\n",
       "\n",
       "**Figure 2. -** Unbinned, unsmoothed $\\chn$ merged image of 3C 297 in the energy band 0.3-7 keV. The three regions in which spectral analyses have been performed are highlighted in the blue regions (two circles and one ellipse). We detected 159 net counts in the extended emission region, 115 net counts in the nuclear region and 315 net counts in the hotspot region. The red dashed circle and ellipse mark the regions in which we observe an X-ray counts excess, due to the outflow (see Section \\ref{outflow} for more details). \\\\label{regions} (*regions*)\n",
       "\n",
       "</div>\n",
       "<div id=\"div_fig2\">\n",
       "\n",
       "<img src=\"tmp_2212.01707/./spec3c297.png\" alt=\"Fig5\" width=\"100%\"/>\n",
       "\n",
       "**Figure 5. -** New GMOS spectrum of 3C 297. The spectrum is displayed with a redshift correction of $z$=1.408.\n",
       "\\label{spec3c297} (*spec3c297*)\n",
       "\n",
       "</div>\n",
       "<div id=\"div_fig3\">\n",
       "\n",
       "<img src=\"tmp_2212.01707/./3c279_ne5_new.png\" alt=\"Fig6.1\" width=\"50%\"/><img src=\"tmp_2212.01707/./3c279_o2_new.png\" alt=\"Fig6.2\" width=\"50%\"/>\n",
       "\n",
       "**Figure 6. -** Example of the Gaussian decomposition applied to the observed emission line profiles.\n",
       "\\textit{Left}: Fit to the coronal lines [Ne {\\sc v}] $\\lambda\\lambda$ 3345, 3425. \\textit{Right}:\n",
       "[O {\\sc ii}] $\\lambda\\lambda$ 37286, 3729. For this latter line, a second blueshifted, broad component of\n",
       "FWHM=1790 km s$^{-1}$ was necessary to reproduce the observed profile. In both panels, the\n",
       "observed profile is in black, individual Gaussians are in blue, the total fit in red. The green\n",
       "line is the continuum level and the dashed maroon line is the residual after subtraction of the fit.\n",
       "\\label{fig:gaussfit} (*fig:gaussfit*)\n",
       "\n",
       "</div>"
      ],
      "text/plain": [
       "<IPython.core.display.Markdown object>"
      ]
     },
     "metadata": {},
     "output_type": "display_data"
    },
    {
     "data": {
      "text/markdown": [
       "<div class=\"macros\" style=\"visibility:hidden;\">\n",
       "$\\newcommand{\\ensuremath}{}$\n",
       "$\\newcommand{\\xspace}{}$\n",
       "$\\newcommand{\\object}[1]{\\texttt{#1}}$\n",
       "$\\newcommand{\\farcs}{{.}''}$\n",
       "$\\newcommand{\\farcm}{{.}'}$\n",
       "$\\newcommand{\\arcsec}{''}$\n",
       "$\\newcommand{\\arcmin}{'}$\n",
       "$\\newcommand{\\ion}[2]{#1#2}$\n",
       "$\\newcommand{\\textsc}[1]{\\textrm{#1}}$\n",
       "$\\newcommand{\\hl}[1]{\\textrm{#1}}$</div>\n",
       "\n",
       "<div class=\"macros\" style=\"visibility:hidden;\">\n",
       "$\\newcommand{$\\ensuremath$}{}$\n",
       "$\\newcommand{$\\xspace$}{}$\n",
       "$\\newcommand{$\\object$}[1]{\\texttt{#1}}$\n",
       "$\\newcommand{$\\farcs$}{{.}''}$\n",
       "$\\newcommand{$\\farcm$}{{.}'}$\n",
       "$\\newcommand{$\\arcsec$}{''}$\n",
       "$\\newcommand{$\\arcmin$}{'}$\n",
       "$\\newcommand{$\\ion$}[2]{#1#2}$\n",
       "$\\newcommand{$\\textsc$}[1]{\\textrm{#1}}$\n",
       "$\\newcommand{$\\hl$}[1]{\\textrm{#1}}$</div>\n",
       "\n",
       "\n",
       "\n",
       "<div id=\"title\">\n",
       "\n",
       "#  field and the impact of field-to-field variance\n",
       "\n",
       "</div>\n",
       "<div id=\"comments\">\n",
       "\n",
       "[![arXiv](https://img.shields.io/badge/arXiv-2212.02235-b31b1b.svg)](https://arxiv.org/abs/2212.02235)<mark>Appeared on: 2022-12-06</mark> - __\n",
       "\n",
       "</div>\n",
       "<div id=\"authors\">\n",
       "\n",
       "A. Gkogkou, et al. -- incl., <mark>F. Walter</mark>\n",
       "\n",
       "</div>\n",
       "<div id=\"abstract\">\n",
       "\n",
       "**Abstract:** In the submillimeter regime, spectral line scans and line intensity mapping (LIM) are new promising probes for the cold gas content and star formation rate of galaxies across cosmic time. However, both of these two measurements suffer from field-to-field variance. We study the effect of field-to-field variance on the predicted CO and[CII]power spectra from future LIM experiments such as CONCERTO, as well as on the line luminosity functions (LFs) and the cosmic molecular gas mass density that are currently derived from spectral line scans. We combined a$\\rm 117   deg^2$dark matter lightcone from the Uchuu cosmological simulation with the simulated infrared dusty extragalactic sky (SIDES) approach. The clustering of the dusty galaxies in the SIDES-Uchuu product is validated by reproducing the cosmic infrared background anisotropies measured by\\textit{Herschel}and\\textit{Planck}. We find that in order to constrain the CO LF with an uncertainty below 20\\%, we need survey sizes of at least$\\rm 0.1   deg^2$. Furthermore, accounting for the field-to-field variance using only the Poisson variance can underestimate the total variance by up to 80\\%. The lower the luminosity is and the larger the survey size is, the higher the level of underestimate. At$z<3$, the impact of field-to-field variance on the cosmic molecular gas density can be as high as 40\\%for the 4.6 arcmin$^2$field, but drops below 10\\%for areas larger than 0.2 deg$^2$. However, at$z>3$the variance decreases more slowly with survey size and for example drops below 10\\%for 1 deg$^2$fields. Finally, we find that the CO and[CII]LIM power spectra can vary by up to 50\\%in$\\rm 1   deg^2$fields. This limits the accuracy of the constraints provided by the first 1 deg$^2$surveys. In addition the level of the shot noise power is always dominated by the sources that are just below the detection thresholds, which limits its potential for deriving number densities of faint[CII]emitters. We provide an analytical formula to estimate the field-to-field variance of current or future LIM experiments given their observed frequency and survey size. The underlying code to derive the field-to-field variance and the full SIDES-Uchuu products (catalogs, cubes, and maps) are publicly available.\n",
       "\n",
       "</div>\n",
       "\n",
       "<div id=\"div_fig1\">\n",
       "\n",
       "<img src=\"tmp_2212.02235/./figures/rho_mol_vs_redshift_TOTAL_and_LF-CUT.png\" alt=\"Fig14.1\" width=\"50%\"/><img src=\"tmp_2212.02235/./figures/rho_mol_vs_redshift_poisson_percentage.png\" alt=\"Fig14.2\" width=\"50%\"/>\n",
       "\n",
       "**Figure 14. -** Field-to-field variance of the molecular gas mass density, $\\rm \\rho_{H_2}$, at several redshift slices where observational data are available. Left: Evolution of $\\rm \\rho_{H_2}$ with redshift. The empty boxes are the observational data from ASPECS \\citep{decarli2020} and COLDz \\citep{riechers2019}. We also include the upper limit offered by COLDz assuming that all the galaxies could be CO(2-1) emitters at high z. The black dashed line is the SIDES model without a luminosity cut and the black dotted line is the SIDES model with a luminosity cut at $\\rm \\sim 5 \\times 10^{9}   K  km   s^{-1} pc^2$. The steps in both lines are caused by the selected redshift grid that the cosmological simulation snapshots were taken. The shaded gray areas correspond to the $\\rm \\rho_{H_2}$ field-to-field variance which has been computed for the same redshift ranges and sizes as the corresponding surveys. Right: Field-to-field variance in the molecular gas density in different redshift bins. The light-colored areas show the total field-to-field variance introduced in the molecular gas density estimates, while the dark-colored areas show the Poisson-only variance. The contribution of the latter to the total variance is given as a percentage on top of each rectangle. The different colors indicate the different surveys, hence different size and redshift slice. (*fig:rho_mol_vs_redshift*)\n",
       "\n",
       "</div>\n",
       "<div id=\"div_fig2\">\n",
       "\n",
       "<img src=\"tmp_2212.02235/./figures/CO_LFs_4.6arcmin2_3.png\" alt=\"Fig13\" width=\"100%\"/>\n",
       "\n",
       "**Figure 13. -** Comparison of the CO LF resulting from the SIDES simulation with ASPECS observational data. Each LF is created using sources from 117 different $\\rm 4.6   arcmin^2$-sized simulated subfields. This field size is chosen to match the size of ASPECS. The gray shaded areas with different transparencies correspond to the 16th-84th and 5th-95th percentile confidence intervals. The black solid line is the LF of the entire volume of the Uchuu simulation, and the dashed line is the median of the multiple LFs computed from all the subfields. The red line shows the resulting LF presented in B22 where the Bolshoi-Planck cosmological simulation was used, while the arrows show the last luminosity bin of the SIDES-Uchuu LFs that contains at least one source. The different colors stand for a different number of sources. (*fig:CO_LF*)\n",
       "\n",
       "</div>\n",
       "<div id=\"div_fig3\">\n",
       "\n",
       "<img src=\"tmp_2212.02235/./figures/CO_number_counts.png\" alt=\"Fig8.1\" width=\"50%\"/><img src=\"tmp_2212.02235/./figures/CII_number_counts.png\" alt=\"Fig8.2\" width=\"50%\"/>\n",
       "\n",
       "**Figure 8. -** Source flux contribution to the CO (top) and [CII](bottom) shot noise power spectrum (see Eq. \\ref{eq:shot_noise}). The different color lines correspond to different frequency slices with the CONCERTO frequency resolution ($\\rm1.5   GHz$) within the whole CONCERTO observing frequency range. The dashed lines are the expected shot noise level as computed by Eq. \\ref{eq:shot_noise}. (*fig:number_counts*)\n",
       "\n",
       "</div>"
      ],
      "text/plain": [
       "<IPython.core.display.Markdown object>"
      ]
     },
     "metadata": {},
     "output_type": "display_data"
    }
   ],
   "source": [
    "[display(Markdown(k[1])) for k in documents];"
   ]
  },
  {
   "cell_type": "markdown",
   "id": "873873a4",
   "metadata": {
    "papermill": {
     "duration": 0.018731,
     "end_time": "2022-12-06T04:07:08.375727",
     "exception": false,
     "start_time": "2022-12-06T04:07:08.356996",
     "status": "completed"
    },
    "tags": []
   },
   "source": [
    "# Create HTML index"
   ]
  },
  {
   "cell_type": "code",
   "execution_count": 10,
   "id": "cf665672",
   "metadata": {
    "execution": {
     "iopub.execute_input": "2022-12-06T04:07:08.434284Z",
     "iopub.status.busy": "2022-12-06T04:07:08.433995Z",
     "iopub.status.idle": "2022-12-06T04:07:08.446512Z",
     "shell.execute_reply": "2022-12-06T04:07:08.445779Z"
    },
    "papermill": {
     "duration": 0.058481,
     "end_time": "2022-12-06T04:07:08.448187",
     "exception": false,
     "start_time": "2022-12-06T04:07:08.389706",
     "status": "completed"
    },
    "tags": []
   },
   "outputs": [
    {
     "name": "stdout",
     "output_type": "stream",
     "text": [
      "125  publications in the last 7 days.\n",
      "\t _build/html/2212.02235.md\n",
      "\t _build/html/2212.01707.md\n",
      "\t _build/html/2212.01526.md\n",
      "\t _build/html/2212.01397.md\n",
      "\t _build/html/2212.01291.md\n",
      "\t _build/html/2212.01281.md\n",
      "\t _build/html/2212.00812.md\n",
      "\t _build/html/2212.00811.md\n",
      "\t _build/html/2212.00806.md\n",
      "\t _build/html/2212.00047.md\n",
      "\t _build/html/2212.00032.md\n",
      "\t _build/html/2211.16996.md\n",
      "\t _build/html/2211.16510.md\n",
      "\t _build/html/2211.16123.md\n",
      "\t _build/html/2211.15816.md\n",
      "\t _build/html/2211.15698.md\n",
      "\t _build/html/2211.15576.md\n",
      "\t _build/html/2211.15434.md\n",
      "\t _build/html/2211.15288.md\n",
      "\t _build/html/2211.15224.md\n",
      "\t _build/html/2211.14543.md\n",
      "\t _build/html/2211.14330.md\n",
      "\t _build/html/2211.14322.md\n",
      "\t _build/html/2211.14132.md\n",
      "\t _build/html/2211.13811.md\n",
      "\t _build/html/2211.13426.md\n",
      "\t _build/html/2211.13318.md\n",
      "\t _build/html/2211.13146.md\n",
      "\t _build/html/2211.12613.md\n",
      "\t _build/html/2211.11767.md\n",
      "\t _build/html/2211.09840.md\n",
      "\t _build/html/2211.09217.md\n",
      "\t _build/html/2211.08493.md\n",
      "\t _build/html/2211.08487.md\n",
      "\t _build/html/2211.08294.md\n",
      "\t _build/html/2211.07667.md\n",
      "\t _build/html/2211.07659.md\n",
      "\t _build/html/2211.06454.md\n",
      "\t _build/html/2211.06205.md\n",
      "\t _build/html/2211.06194.md\n",
      "\t _build/html/2211.05022.md\n",
      "\t _build/html/2211.04048.md\n",
      "\t _build/html/2211.03641.md\n",
      "\t _build/html/2211.02502.md\n",
      "\t _build/html/2211.01474.md\n",
      "\t _build/html/2211.00667.md\n",
      "\t _build/html/2211.00657.md\n",
      "\t _build/html/2211.00087.md\n",
      "\t _build/html/2211.00036.md\n",
      "\t _build/html/2211.00020.md\n",
      "\t _build/html/2211.00010.md\n",
      "\t _build/html/2210.17434.md\n",
      "\t _build/html/2210.12412.md\n",
      "\t _build/html/2210.11926.md\n",
      "\t _build/html/2210.11551.md\n",
      "\t _build/html/2210.11103.md\n",
      "\t _build/html/2210.10707.md\n",
      "\t _build/html/2210.09930.md\n",
      "\t _build/html/2210.08996.md\n",
      "\t _build/html/2210.08517.md\n",
      "\t _build/html/2210.08510.md\n",
      "\t _build/html/2210.08078.md\n",
      "\t _build/html/2210.06504.md\n",
      "\t _build/html/2210.05695.md\n",
      "\t _build/html/2210.05595.md\n",
      "\t _build/html/2210.05505.md\n",
      "\t _build/html/2210.04721.md\n",
      "\t _build/html/2210.03615.md\n",
      "\t _build/html/2210.01811.md\n",
      "\t _build/html/2210.01809.md\n",
      "\t _build/html/2210.01556.md\n",
      "\t _build/html/2210.00863.md\n",
      "\t _build/html/2210.00560.md\n",
      "\t _build/html/2209.15403.md\n",
      "\t _build/html/2209.15110.md\n",
      "\t _build/html/2209.14410.md\n",
      "\t _build/html/2209.14396.md\n",
      "\t _build/html/2209.13717.md\n",
      "\t _build/html/2209.13336.md\n",
      "\t _build/html/2209.12906.md\n",
      "\t _build/html/2209.11781.md\n",
      "\t _build/html/2209.11602.md\n",
      "\t _build/html/2209.11248.md\n",
      "\t _build/html/2209.11096.md\n",
      "\t _build/html/2209.10618.md\n",
      "\t _build/html/2209.09914.md\n",
      "\t _build/html/2209.09823.md\n",
      "\t _build/html/2209.08242.md\n",
      "\t _build/html/2209.08120.md\n",
      "\t _build/html/2209.08106.md\n",
      "\t _build/html/2209.07962.md\n",
      "\t _build/html/2209.07931.md\n",
      "\t _build/html/2209.06833.md\n",
      "\t _build/html/2209.05814.md\n",
      "\t _build/html/2209.05593.md\n",
      "\t _build/html/2209.04304.md\n",
      "\t _build/html/2209.03367.md\n",
      "\t _build/html/2209.02872.md\n",
      "\t _build/html/2209.02725.md\n",
      "\t _build/html/2209.02722.md\n",
      "\t _build/html/2209.02092.md\n",
      "\t _build/html/2209.01125.md\n",
      "\t _build/html/2209.00828.md\n",
      "\t _build/html/2209.00363.md\n",
      "\t _build/html/2208.14927.md\n",
      "\t _build/html/2208.09335.md\n",
      "\t _build/html/2208.08872.md\n",
      "\t _build/html/2204.06393.md\n",
      "\t _build/html/2204.03335.md\n",
      "\t _build/html/2204.03253.md\n",
      "\t _build/html/2204.02998.md\n",
      "\t _build/html/2204.02109.md\n",
      "\t _build/html/2204.02017.md\n",
      "\t _build/html/2204.01824.md\n",
      "\t _build/html/2204.01758.md\n",
      "\t _build/html/2204.01245.md\n",
      "\t _build/html/2204.00793.md\n",
      "\t _build/html/2204.00342.md\n",
      "\t _build/html/2203.16959.md\n",
      "\t _build/html/2203.16856.md\n",
      "\t _build/html/2203.16735.md\n",
      "\t _build/html/2203.16734.md\n",
      "\t _build/html/2203.16504.md\n",
      "\t _build/html/2203.15822.md\n",
      "\t _build/html/2203.15811.md\n"
     ]
    }
   ],
   "source": [
    "from datetime import datetime, timedelta, timezone\n",
    "from glob import glob\n",
    "\n",
    "files = glob('_build/html/*.md')\n",
    "days = 7\n",
    "now = datetime.today()\n",
    "res = []\n",
    "for fk in files:\n",
    "    stat_result = os.stat(fk).st_ctime\n",
    "    modified = datetime.fromtimestamp(stat_result, tz=timezone.utc).replace(tzinfo=None)\n",
    "    delta = now.today() - modified\n",
    "    if delta <= timedelta(days=days):\n",
    "        res.append((delta.seconds, fk))\n",
    "res = [k[1] for k in reversed(sorted(res, key=lambda x:x[1]))]\n",
    "npub = len(res)\n",
    "print(len(res), f\" publications in the last {days:d} days.\")\n",
    "[ print('\\t', k) for k in res ];"
   ]
  },
  {
   "cell_type": "code",
   "execution_count": 11,
   "id": "52ca0208",
   "metadata": {
    "execution": {
     "iopub.execute_input": "2022-12-06T04:07:08.478176Z",
     "iopub.status.busy": "2022-12-06T04:07:08.477892Z",
     "iopub.status.idle": "2022-12-06T04:07:08.486118Z",
     "shell.execute_reply": "2022-12-06T04:07:08.485186Z"
    },
    "papermill": {
     "duration": 0.025427,
     "end_time": "2022-12-06T04:07:08.488090",
     "exception": false,
     "start_time": "2022-12-06T04:07:08.462663",
     "status": "completed"
    },
    "scrolled": false,
    "tags": []
   },
   "outputs": [],
   "source": [
    "def create_carousel(npub=4):\n",
    "    \"\"\" Generate the HTML code for a carousel with `npub` slides \"\"\"\n",
    "    carousel = [\"\"\"<section class=\"carousel\" aria-label=\"Gallery\">\"\"\",\n",
    "                \"\"\"  <ol class=\"carousel__viewport\">\"\"\",\n",
    "    ]\n",
    "    for k in range(1, npub + 1):\n",
    "        prev_ = k - 1\n",
    "        next_ = k + 1\n",
    "        if prev_ <= 0:\n",
    "            prev_ = npub\n",
    "        if next_ > npub:\n",
    "            next_ = 1\n",
    "        text  = f\"\"\"    <li id=\"carousel__slide{k}\" tabindex=\"0\" class=\"carousel__slide\">\\n\"\"\"\n",
    "        text += f\"\"\"       <div class=\"carousel__snapper\">\\n\"\"\"\n",
    "        text += f\"\"\"         <a href=\"#carousel__slide{prev_}\" class=\"carousel__prev\">Go to previous slide</a>\\n\"\"\"\n",
    "        text += f\"\"\"         <a href=\"#carousel__slide{next_}\" class=\"carousel__next\">Go to next slide</a>\\n\"\"\"\n",
    "        text += f\"\"\"         <div id=\"slide{k}_content\" class=\"md_view\" >Content {k}</div>\\n\"\"\"\n",
    "        text += f\"\"\"       </div>\\n\"\"\"\n",
    "        text += f\"\"\"    </li>\"\"\"\n",
    "        carousel.append(text)\n",
    "\n",
    "    carousel.extend([\n",
    "        \"\"\"  </ol>\"\"\",\n",
    "        \"\"\"  <aside class=\"carousel__navigation\">\"\"\",\n",
    "        \"\"\"    <ol class=\"carousel__navigation-list\">\"\"\"])\n",
    "\n",
    "    for k in range(1, npub + 1):\n",
    "        text  = f\"\"\"      <li class=\"carousel__navigation-item\">\\n\"\"\"\n",
    "        text += f\"\"\"        <a href=\"#carousel__slide{k}\" class=\"carousel__navigation-button\">Go to {k}</a>\\n\"\"\"\n",
    "        text += f\"\"\"      </li>\"\"\"\n",
    "        carousel.append(text)\n",
    "    carousel.extend([\"\"\"    </ol>\"\"\", \"\"\"  </aside>\"\"\", \"\"\"</section>\"\"\"])\n",
    "\n",
    "    return '\\n'.join(carousel)"
   ]
  },
  {
   "cell_type": "code",
   "execution_count": 12,
   "id": "a6eac5b6",
   "metadata": {
    "execution": {
     "iopub.execute_input": "2022-12-06T04:07:08.518713Z",
     "iopub.status.busy": "2022-12-06T04:07:08.518381Z",
     "iopub.status.idle": "2022-12-06T04:07:08.525008Z",
     "shell.execute_reply": "2022-12-06T04:07:08.524336Z"
    },
    "papermill": {
     "duration": 0.024056,
     "end_time": "2022-12-06T04:07:08.526550",
     "exception": false,
     "start_time": "2022-12-06T04:07:08.502494",
     "status": "completed"
    },
    "scrolled": false,
    "tags": []
   },
   "outputs": [],
   "source": [
    "carousel = create_carousel(npub)\n",
    "docs = ', '.join(['\"{0:s}\"'.format(k.split('/')[-1]) for k in res])\n",
    "slides = ', '.join([f'\"slide{k}_content\"' for k in range(1, npub + 1)])\n",
    "\n",
    "script = f\"\"\"\n",
    "const docs = [{docs}]\n",
    "\n",
    "const slides = [{slides}]\n",
    "\"\"\" + \"\"\"\n",
    "async function run() {\n",
    "    for (let i = 0; i < docs.length; i++) {\n",
    "        let file = await fetch(docs[i]);\n",
    "        let text = await file.text()\n",
    "        document.getElementById(slides[i]).innerHTML =\n",
    "            marked.parse(text);\n",
    "    }\n",
    "    hljs.highlightAll();\n",
    "}\n",
    "run()\n",
    "\"\"\"\n",
    "\n",
    "page = f\"\"\"<!doctype html>\n",
    "<html lang=\"en\">\n",
    "\n",
    "<head>\n",
    "  <meta charset=\"utf-8\">\n",
    "  <meta name=\"viewport\" content=\"width=device-width, initial-scale=1\">\n",
    "  <!-- Bootstrap CSS -->\n",
    "  <link href=\"https://cdn.jsdelivr.net/npm/bootstrap@5.0.2/dist/css/bootstrap.min.css\" rel=\"stylesheet\"\n",
    "   integrity=\"sha384-EVSTQN3/azprG1Anm3QDgpJLIm9Nao0Yz1ztcQTwFspd3yD65VohhpuuCOmLASjC\" crossorigin=\"anonymous\">\n",
    "  <!-- highlight.js CSS -->\n",
    "  <link rel=\"stylesheet\" href=\"https://cdnjs.cloudflare.com/ajax/libs/highlight.js/11.1.0/styles/default.min.css\">\n",
    "  <!-- Mathjax 3 -->\n",
    "  <script type=\"text/javascript\" id=\"MathJax-config\" src=\"mathjax_config.js\"> </script>\n",
    "  <script type=\"text/javascript\" id=\"MathJax-script\" async \n",
    "    src=\"https://cdn.jsdelivr.net/npm/mathjax@3/es5/tex-mml-chtml.js\">\n",
    "  </script>\n",
    "  <link rel=\"stylesheet\" href=\"index_carousel.css\">\n",
    "  <link rel=\"icon\" type=\"image/x-icon\" href=\"https://www.mpia.de/assets/touch-icon-32x32-a66937bcebc4e8894ebff1f41a366c7c7220fd97a38869ee0f2db65a9f59b6c1.png\">\n",
    "  <title>MPIA Arxiv on deck!</title>\n",
    "</head>\n",
    "\n",
    "<body>\n",
    "  <div id=\"header\"> <img src=\"header_banner.png\" width=\"100%\"></div>\n",
    "  <div id=\"suptitle\"> 7-day archives </div>\n",
    "  <div id=\"info\">\n",
    "    <img src=\"https://pngimg.com/uploads/github/github_PNG58.png\" height=30rem></img>\n",
    "    <a href=https://github.com/mpi-astronomy/arxiv_display style=\"color:black;\">github/mpi-astronomy/arxiv_display</a> \n",
    "  </div>\n",
    "  {carousel:s}\n",
    "</body>\n",
    "\n",
    "<!-- Render Markdown -->\n",
    "\n",
    "<body>\n",
    "  <!-- highlight.js: https://highlightjs.org/download/ -->\n",
    "  <script src=\"https://cdnjs.cloudflare.com/ajax/libs/highlight.js/11.5.0/highlight.min.js\"></script>\n",
    "  <!-- marked.js -->\n",
    "  <script src=\"https://cdn.jsdelivr.net/npm/marked/marked.min.js\"></script>\n",
    "  <script>{script:s}</script>\n",
    "</body>\n",
    "</html>\n",
    "\"\"\"\n",
    "with open(\"_build/html/index_7days.html\", 'w') as fout:\n",
    "    fout.write(page)"
   ]
  },
  {
   "cell_type": "markdown",
   "id": "1cebacbc",
   "metadata": {
    "papermill": {
     "duration": 0.014361,
     "end_time": "2022-12-06T04:07:08.555366",
     "exception": false,
     "start_time": "2022-12-06T04:07:08.541005",
     "status": "completed"
    },
    "tags": []
   },
   "source": [
    "# Debugging papers"
   ]
  },
  {
   "cell_type": "raw",
   "id": "debe7cc6",
   "metadata": {
    "papermill": {
     "duration": 0.014275,
     "end_time": "2022-12-06T04:07:08.584163",
     "exception": false,
     "start_time": "2022-12-06T04:07:08.569888",
     "status": "completed"
    },
    "tags": []
   },
   "source": [
    "raise NotImplementedError(\"Manual Stop\")"
   ]
  },
  {
   "cell_type": "raw",
   "id": "eb169192",
   "metadata": {
    "papermill": {
     "duration": 0.014236,
     "end_time": "2022-12-06T04:07:08.612813",
     "exception": false,
     "start_time": "2022-12-06T04:07:08.598577",
     "status": "completed"
    },
    "scrolled": true,
    "tags": []
   },
   "source": [
    "from IPython.display import display, Markdown\n",
    "from TexSoup import TexSoup\n",
    "import re\n",
    "\n",
    "def bracket_error(source: str):\n",
    "    \"\"\" Find problematic portions of the document \"\"\"\n",
    "    \n",
    "    print(\"len(source)\", len(source))\n",
    "    \n",
    "    # Checking header\n",
    "    begin_doc = next(re.finditer(r'\\\\begin\\{document\\}', doc.source)).span()[1]\n",
    "    header = source[:begin_doc]\n",
    "    text = header + r\"\\n\\end{document}\"\n",
    "\n",
    "    try:\n",
    "        # print(\"Header check... \", end='')\n",
    "        TexSoup(text)\n",
    "        display(Markdown(f\"**[OK]** - Header\"))\n",
    "    except:\n",
    "        raise RuntimeError(\"Error in the header\")\n",
    "        \n",
    "    # Check the text per section until the end.\n",
    "    # Do not stop and try them all.\n",
    "    \n",
    "    problematic_text = []\n",
    "    \n",
    "    sections = ([(0, begin_doc, 'until first section')] + \n",
    "                [(g.span()[0], g.span()[1], g.group()) for g in re.finditer(r'\\\\section\\{.*\\}', source)] +\n",
    "                [(g.span()[0], g.span()[1], g.group()) for g in re.finditer(r'\\\\begin\\{appendix\\}', source)]\n",
    "               )\n",
    "    sections.append([len(source), len(source), 'end'])\n",
    "    \n",
    "    sections = sorted(sections, key=lambda x: x[0])\n",
    "    \n",
    "    prev_pos, prev_name = (0, 'header')\n",
    "    parsed = []\n",
    "    \n",
    "    for span, span_end, name in sections:\n",
    "\n",
    "        if span - prev_pos <= 0:\n",
    "            continue\n",
    "            \n",
    "\n",
    "        text = source[prev_pos:span]\n",
    "        if prev_pos > begin_doc:\n",
    "            text = r\"\\n\\begin{document}\" + text + r\"\\n\\end{document}\"\n",
    "        else:\n",
    "            text = text + r\"\\n\\end{document}\"\n",
    "        try:\n",
    "            #print(f\"{prev_pos}:{prev_name}-->{span}:{name} check... \", end='')\n",
    "            parsed.append(TexSoup(text, tolerance=1))  # allow not ending env\n",
    "            display(Markdown(f\"**[OK]** - *{prev_pos}*:{prev_name} &rarr; *{span}*:{name}\"))\n",
    "            # print(\"ok\")\n",
    "\n",
    "            prev_pos = span\n",
    "            prev_name = name\n",
    "        except:\n",
    "            # print(f\"error between {prev_pos} and {span}\")\n",
    "            display(Markdown(f\"**[ERR]** *{prev_pos}*:{prev_name} &rarr; *{span}*:{name}\"))\n",
    "            problematic_text.append((prev_pos, source[prev_pos:span]))\n",
    "            prev_pos = span\n",
    "            prev_name = name\n",
    "            # raise\n",
    "    return problematic_text, parsed\n",
    "\n",
    "\n",
    "def check_environment(text, offset=0):\n",
    "    \"\"\" Check environment \"\"\"\n",
    "    env = re.compile(r\"\\\\begin\\{(?P<env>.*)\\}(.*)\\\\end\\{(?P=env)\\}\", re.DOTALL)\n",
    "\n",
    "    for match in env.finditer(text):\n",
    "        beg, end = match.span()\n",
    "        beg += offset\n",
    "        end += offset\n",
    "        envname = match.groups()[0]\n",
    "        try:\n",
    "            latex.TexSoup(match.group())\n",
    "        except Exception as e:\n",
    "            display(e)\n",
    "            print(f\"Error in {envname:s} between {beg} and {end}\")\n",
    "            return match.groups()[1], beg, end"
   ]
  },
  {
   "cell_type": "raw",
   "id": "2315e835",
   "metadata": {
    "papermill": {
     "duration": 0.014272,
     "end_time": "2022-12-06T04:07:08.641324",
     "exception": false,
     "start_time": "2022-12-06T04:07:08.627052",
     "status": "completed"
    },
    "scrolled": false,
    "tags": []
   },
   "source": [
    "import importlib\n",
    "importlib.reload(latex)\n",
    "which = \"2204.03253\"\n",
    "paper_id = f'{which:s}'\n",
    "folder = f'tmp_{paper_id:s}'\n",
    "\n",
    "if not os.path.isdir(folder):\n",
    "    folder = retrieve_document_source(f\"{paper_id}\", f'tmp_{paper_id}')\n",
    "\n",
    "try:\n",
    "    doc = latex.LatexDocument(folder, validation=validation)    \n",
    "except AffiliationError as affilerror:\n",
    "    msg = f\"ArXiv:{paper_id:s} is not an MPIA paper... \" + str(affilerror)\n",
    "    print(msg)\n",
    "\n",
    "\n",
    "# Hack because sometimes author parsing does not work well\n",
    "if (len(doc.authors) != len(paper['authors'])):\n",
    "    doc._authors = paper['authors']\n",
    "if (doc.abstract) in (None, ''):\n",
    "    doc._abstract = paper['abstract']\n",
    "\n",
    "doc.comment = get_markdown_badge(paper_id) + \" _\" + paper['comments'] + \"_\"\n",
    "doc.highlight_authors_in_list(hl_list)\n",
    "\n",
    "full_md = doc.generate_markdown_text()"
   ]
  },
  {
   "cell_type": "raw",
   "id": "dd3781db",
   "metadata": {
    "papermill": {
     "duration": 0.014201,
     "end_time": "2022-12-06T04:07:08.669870",
     "exception": false,
     "start_time": "2022-12-06T04:07:08.655669",
     "status": "completed"
    },
    "scrolled": false,
    "tags": []
   },
   "source": [
    "doc"
   ]
  },
  {
   "cell_type": "raw",
   "id": "c6eed834",
   "metadata": {
    "papermill": {
     "duration": 0.014228,
     "end_time": "2022-12-06T04:07:08.698542",
     "exception": false,
     "start_time": "2022-12-06T04:07:08.684314",
     "status": "completed"
    },
    "tags": []
   },
   "source": [
    "# [check_environment(k) for k in bracket_error(doc.source)]\n",
    "_, _, a = latex.get_content_per_section(doc.source, verbose=True)\n",
    "if not a:\n",
    "    print(\"no issues per section\")\n",
    "for ak in a:\n",
    "    r = check_environment(ak[1], offset=ak[0])\n",
    "    print(r[1], r[2])\n",
    "    print(r[0])"
   ]
  },
  {
   "cell_type": "code",
   "execution_count": null,
   "id": "71ce768a",
   "metadata": {
    "papermill": {
     "duration": 0.014211,
     "end_time": "2022-12-06T04:07:08.727051",
     "exception": false,
     "start_time": "2022-12-06T04:07:08.712840",
     "status": "completed"
    },
    "tags": []
   },
   "outputs": [],
   "source": []
  }
 ],
 "metadata": {
  "kernelspec": {
   "display_name": "Python 3.10.6 64-bit",
   "language": "python",
   "name": "python3"
  },
  "language_info": {
   "codemirror_mode": {
    "name": "ipython",
    "version": 3
   },
   "file_extension": ".py",
   "mimetype": "text/x-python",
   "name": "python",
   "nbconvert_exporter": "python",
   "pygments_lexer": "ipython3",
   "version": "3.9.15"
  },
  "papermill": {
   "default_parameters": {},
   "duration": 237.421433,
   "end_time": "2022-12-06T04:07:08.959368",
   "environment_variables": {},
   "exception": null,
   "input_path": "MPIA daily digest.ipynb",
   "output_path": "log.ipynb",
   "parameters": {},
   "start_time": "2022-12-06T04:03:11.537935",
   "version": "2.4.0"
  },
  "vscode": {
   "interpreter": {
    "hash": "e7370f93d1d0cde622a1f8e1c04877d8463912d04d973331ad4851f04de6915a"
   }
  },
  "widgets": {
   "application/vnd.jupyter.widget-state+json": {
    "state": {
     "6aaaf30757e6423fbb78ce96800ee961": {
      "model_module": "@jupyter-widgets/controls",
      "model_module_version": "2.0.0",
      "model_name": "HTMLStyleModel",
      "state": {
       "_model_module": "@jupyter-widgets/controls",
       "_model_module_version": "2.0.0",
       "_model_name": "HTMLStyleModel",
       "_view_count": null,
       "_view_module": "@jupyter-widgets/base",
       "_view_module_version": "2.0.0",
       "_view_name": "StyleView",
       "background": null,
       "description_width": "",
       "font_size": null,
       "text_color": null
      }
     },
     "7deb549932aa4f09b7008f2a541dff45": {
      "model_module": "@jupyter-widgets/controls",
      "model_module_version": "2.0.0",
      "model_name": "HBoxModel",
      "state": {
       "_dom_classes": [],
       "_model_module": "@jupyter-widgets/controls",
       "_model_module_version": "2.0.0",
       "_model_name": "HBoxModel",
       "_view_count": null,
       "_view_module": "@jupyter-widgets/controls",
       "_view_module_version": "2.0.0",
       "_view_name": "HBoxView",
       "box_style": "",
       "children": [
        "IPY_MODEL_a44984525652429787ff6a29fed895f9",
        "IPY_MODEL_ca7d694ac35c4bdd87ee74fd67ad4d48",
        "IPY_MODEL_efcad15f27064fba98d64c5655fe1d06"
       ],
       "layout": "IPY_MODEL_abd21e7101cf4a1b8eae51065e42ef90",
       "tabbable": null,
       "tooltip": null
      }
     },
     "8aed813bbad742e89653d260dbfca8d6": {
      "model_module": "@jupyter-widgets/controls",
      "model_module_version": "2.0.0",
      "model_name": "HTMLStyleModel",
      "state": {
       "_model_module": "@jupyter-widgets/controls",
       "_model_module_version": "2.0.0",
       "_model_name": "HTMLStyleModel",
       "_view_count": null,
       "_view_module": "@jupyter-widgets/base",
       "_view_module_version": "2.0.0",
       "_view_name": "StyleView",
       "background": null,
       "description_width": "",
       "font_size": null,
       "text_color": null
      }
     },
     "a44984525652429787ff6a29fed895f9": {
      "model_module": "@jupyter-widgets/controls",
      "model_module_version": "2.0.0",
      "model_name": "HTMLModel",
      "state": {
       "_dom_classes": [],
       "_model_module": "@jupyter-widgets/controls",
       "_model_module_version": "2.0.0",
       "_model_name": "HTMLModel",
       "_view_count": null,
       "_view_module": "@jupyter-widgets/controls",
       "_view_module_version": "2.0.0",
       "_view_name": "HTMLView",
       "description": "",
       "description_allow_html": false,
       "layout": "IPY_MODEL_f44fcfcff5394aa784a6381350bca6dd",
       "placeholder": "​",
       "style": "IPY_MODEL_6aaaf30757e6423fbb78ce96800ee961",
       "tabbable": null,
       "tooltip": null,
       "value": "100%"
      }
     },
     "abd21e7101cf4a1b8eae51065e42ef90": {
      "model_module": "@jupyter-widgets/base",
      "model_module_version": "2.0.0",
      "model_name": "LayoutModel",
      "state": {
       "_model_module": "@jupyter-widgets/base",
       "_model_module_version": "2.0.0",
       "_model_name": "LayoutModel",
       "_view_count": null,
       "_view_module": "@jupyter-widgets/base",
       "_view_module_version": "2.0.0",
       "_view_name": "LayoutView",
       "align_content": null,
       "align_items": null,
       "align_self": null,
       "border_bottom": null,
       "border_left": null,
       "border_right": null,
       "border_top": null,
       "bottom": null,
       "display": null,
       "flex": null,
       "flex_flow": null,
       "grid_area": null,
       "grid_auto_columns": null,
       "grid_auto_flow": null,
       "grid_auto_rows": null,
       "grid_column": null,
       "grid_gap": null,
       "grid_row": null,
       "grid_template_areas": null,
       "grid_template_columns": null,
       "grid_template_rows": null,
       "height": null,
       "justify_content": null,
       "justify_items": null,
       "left": null,
       "margin": null,
       "max_height": null,
       "max_width": null,
       "min_height": null,
       "min_width": null,
       "object_fit": null,
       "object_position": null,
       "order": null,
       "overflow": null,
       "padding": null,
       "right": null,
       "top": null,
       "visibility": null,
       "width": null
      }
     },
     "ae1dc9100cc1456280cece709287303e": {
      "model_module": "@jupyter-widgets/controls",
      "model_module_version": "2.0.0",
      "model_name": "ProgressStyleModel",
      "state": {
       "_model_module": "@jupyter-widgets/controls",
       "_model_module_version": "2.0.0",
       "_model_name": "ProgressStyleModel",
       "_view_count": null,
       "_view_module": "@jupyter-widgets/base",
       "_view_module_version": "2.0.0",
       "_view_name": "StyleView",
       "bar_color": null,
       "description_width": ""
      }
     },
     "c173e96c1c184c919afceeff4f8cc562": {
      "model_module": "@jupyter-widgets/base",
      "model_module_version": "2.0.0",
      "model_name": "LayoutModel",
      "state": {
       "_model_module": "@jupyter-widgets/base",
       "_model_module_version": "2.0.0",
       "_model_name": "LayoutModel",
       "_view_count": null,
       "_view_module": "@jupyter-widgets/base",
       "_view_module_version": "2.0.0",
       "_view_name": "LayoutView",
       "align_content": null,
       "align_items": null,
       "align_self": null,
       "border_bottom": null,
       "border_left": null,
       "border_right": null,
       "border_top": null,
       "bottom": null,
       "display": null,
       "flex": null,
       "flex_flow": null,
       "grid_area": null,
       "grid_auto_columns": null,
       "grid_auto_flow": null,
       "grid_auto_rows": null,
       "grid_column": null,
       "grid_gap": null,
       "grid_row": null,
       "grid_template_areas": null,
       "grid_template_columns": null,
       "grid_template_rows": null,
       "height": null,
       "justify_content": null,
       "justify_items": null,
       "left": null,
       "margin": null,
       "max_height": null,
       "max_width": null,
       "min_height": null,
       "min_width": null,
       "object_fit": null,
       "object_position": null,
       "order": null,
       "overflow": null,
       "padding": null,
       "right": null,
       "top": null,
       "visibility": null,
       "width": null
      }
     },
     "ca7d694ac35c4bdd87ee74fd67ad4d48": {
      "model_module": "@jupyter-widgets/controls",
      "model_module_version": "2.0.0",
      "model_name": "FloatProgressModel",
      "state": {
       "_dom_classes": [],
       "_model_module": "@jupyter-widgets/controls",
       "_model_module_version": "2.0.0",
       "_model_name": "FloatProgressModel",
       "_view_count": null,
       "_view_module": "@jupyter-widgets/controls",
       "_view_module_version": "2.0.0",
       "_view_name": "ProgressView",
       "bar_style": "success",
       "description": "",
       "description_allow_html": false,
       "layout": "IPY_MODEL_fef98f14b8aa41d4bb108886df00fa95",
       "max": 38.0,
       "min": 0.0,
       "orientation": "horizontal",
       "style": "IPY_MODEL_ae1dc9100cc1456280cece709287303e",
       "tabbable": null,
       "tooltip": null,
       "value": 38.0
      }
     },
     "efcad15f27064fba98d64c5655fe1d06": {
      "model_module": "@jupyter-widgets/controls",
      "model_module_version": "2.0.0",
      "model_name": "HTMLModel",
      "state": {
       "_dom_classes": [],
       "_model_module": "@jupyter-widgets/controls",
       "_model_module_version": "2.0.0",
       "_model_name": "HTMLModel",
       "_view_count": null,
       "_view_module": "@jupyter-widgets/controls",
       "_view_module_version": "2.0.0",
       "_view_name": "HTMLView",
       "description": "",
       "description_allow_html": false,
       "layout": "IPY_MODEL_c173e96c1c184c919afceeff4f8cc562",
       "placeholder": "​",
       "style": "IPY_MODEL_8aed813bbad742e89653d260dbfca8d6",
       "tabbable": null,
       "tooltip": null,
       "value": " 38/38 [03:28&lt;00:00,  3.93s/it]"
      }
     },
     "f44fcfcff5394aa784a6381350bca6dd": {
      "model_module": "@jupyter-widgets/base",
      "model_module_version": "2.0.0",
      "model_name": "LayoutModel",
      "state": {
       "_model_module": "@jupyter-widgets/base",
       "_model_module_version": "2.0.0",
       "_model_name": "LayoutModel",
       "_view_count": null,
       "_view_module": "@jupyter-widgets/base",
       "_view_module_version": "2.0.0",
       "_view_name": "LayoutView",
       "align_content": null,
       "align_items": null,
       "align_self": null,
       "border_bottom": null,
       "border_left": null,
       "border_right": null,
       "border_top": null,
       "bottom": null,
       "display": null,
       "flex": null,
       "flex_flow": null,
       "grid_area": null,
       "grid_auto_columns": null,
       "grid_auto_flow": null,
       "grid_auto_rows": null,
       "grid_column": null,
       "grid_gap": null,
       "grid_row": null,
       "grid_template_areas": null,
       "grid_template_columns": null,
       "grid_template_rows": null,
       "height": null,
       "justify_content": null,
       "justify_items": null,
       "left": null,
       "margin": null,
       "max_height": null,
       "max_width": null,
       "min_height": null,
       "min_width": null,
       "object_fit": null,
       "object_position": null,
       "order": null,
       "overflow": null,
       "padding": null,
       "right": null,
       "top": null,
       "visibility": null,
       "width": null
      }
     },
     "fef98f14b8aa41d4bb108886df00fa95": {
      "model_module": "@jupyter-widgets/base",
      "model_module_version": "2.0.0",
      "model_name": "LayoutModel",
      "state": {
       "_model_module": "@jupyter-widgets/base",
       "_model_module_version": "2.0.0",
       "_model_name": "LayoutModel",
       "_view_count": null,
       "_view_module": "@jupyter-widgets/base",
       "_view_module_version": "2.0.0",
       "_view_name": "LayoutView",
       "align_content": null,
       "align_items": null,
       "align_self": null,
       "border_bottom": null,
       "border_left": null,
       "border_right": null,
       "border_top": null,
       "bottom": null,
       "display": null,
       "flex": null,
       "flex_flow": null,
       "grid_area": null,
       "grid_auto_columns": null,
       "grid_auto_flow": null,
       "grid_auto_rows": null,
       "grid_column": null,
       "grid_gap": null,
       "grid_row": null,
       "grid_template_areas": null,
       "grid_template_columns": null,
       "grid_template_rows": null,
       "height": null,
       "justify_content": null,
       "justify_items": null,
       "left": null,
       "margin": null,
       "max_height": null,
       "max_width": null,
       "min_height": null,
       "min_width": null,
       "object_fit": null,
       "object_position": null,
       "order": null,
       "overflow": null,
       "padding": null,
       "right": null,
       "top": null,
       "visibility": null,
       "width": null
      }
     }
    },
    "version_major": 2,
    "version_minor": 0
   }
  }
 },
 "nbformat": 4,
 "nbformat_minor": 5
}