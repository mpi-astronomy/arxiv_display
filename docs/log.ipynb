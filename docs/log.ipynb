{
 "cells": [
  {
   "cell_type": "markdown",
   "id": "92bcb855",
   "metadata": {
    "papermill": {
     "duration": 0.003957,
     "end_time": "2025-08-26T04:14:29.082294",
     "exception": false,
     "start_time": "2025-08-26T04:14:29.078337",
     "status": "completed"
    },
    "tags": []
   },
   "source": [
    "# MPIA Arxiv on Deck 2\n",
    "\n",
    "Contains the steps to produce the paper extractions."
   ]
  },
  {
   "cell_type": "code",
   "execution_count": 1,
   "id": "3a0d6e11",
   "metadata": {
    "execution": {
     "iopub.execute_input": "2025-08-26T04:14:29.089861Z",
     "iopub.status.busy": "2025-08-26T04:14:29.089566Z",
     "iopub.status.idle": "2025-08-26T04:14:29.303376Z",
     "shell.execute_reply": "2025-08-26T04:14:29.302715Z"
    },
    "papermill": {
     "duration": 0.219079,
     "end_time": "2025-08-26T04:14:29.304677",
     "exception": false,
     "start_time": "2025-08-26T04:14:29.085598",
     "status": "completed"
    },
    "tags": []
   },
   "outputs": [],
   "source": [
    "# Imports\n",
    "import os\n",
    "from IPython.display import Markdown, display\n",
    "from tqdm.notebook import tqdm\n",
    "import warnings\n",
    "from PIL import Image \n",
    "import re\n",
    "\n",
    "# requires arxiv_on_deck_2\n",
    "\n",
    "from arxiv_on_deck_2.arxiv2 import (get_new_papers, \n",
    "                                    get_paper_from_identifier,\n",
    "                                    retrieve_document_source, \n",
    "                                    get_markdown_badge)\n",
    "from arxiv_on_deck_2 import (latex,\n",
    "                             latex_bib,\n",
    "                             mpia,\n",
    "                             highlight_authors_in_list)\n",
    "\n",
    "# Sometimes images are really big\n",
    "Image.MAX_IMAGE_PIXELS = 1000000000 "
   ]
  },
  {
   "cell_type": "code",
   "execution_count": 2,
   "id": "22aa9d44",
   "metadata": {
    "execution": {
     "iopub.execute_input": "2025-08-26T04:14:29.311882Z",
     "iopub.status.busy": "2025-08-26T04:14:29.311682Z",
     "iopub.status.idle": "2025-08-26T04:14:29.319672Z",
     "shell.execute_reply": "2025-08-26T04:14:29.319020Z"
    },
    "papermill": {
     "duration": 0.012587,
     "end_time": "2025-08-26T04:14:29.320626",
     "exception": false,
     "start_time": "2025-08-26T04:14:29.308039",
     "status": "completed"
    },
    "tags": []
   },
   "outputs": [],
   "source": [
    "# Some useful definitions.\n",
    "\n",
    "class AffiliationWarning(UserWarning):\n",
    "    pass\n",
    "\n",
    "class AffiliationError(RuntimeError):\n",
    "    pass\n",
    "\n",
    "def validation(source: str):\n",
    "    \"\"\"Raises error paper during parsing of source file\n",
    "    \n",
    "    Allows checks before parsing TeX code.\n",
    "    \n",
    "    Raises AffiliationWarning\n",
    "    \"\"\"\n",
    "    check = mpia.affiliation_verifications(source, verbose=True)\n",
    "    if check is not True:\n",
    "        raise AffiliationError(\"mpia.affiliation_verifications: \" + check)\n",
    "\n",
    "        \n",
    "warnings.simplefilter('always', AffiliationWarning)\n",
    "\n",
    "\n",
    "def get_markdown_qrcode(paper_id: str):\n",
    "    \"\"\" Generate a qrcode to the arxiv page using qrserver.com\n",
    "    \n",
    "    :param paper: Arxiv paper\n",
    "    :returns: markdown text\n",
    "    \"\"\"\n",
    "    url = r\"https://api.qrserver.com/v1/create-qr-code/?size=100x100&data=\"\n",
    "    txt = f\"\"\"<img src={url}\"https://arxiv.org/abs/{paper_id}\">\"\"\"\n",
    "    txt = '<div id=\"qrcode\">' + txt + '</div>'\n",
    "    return txt\n",
    "\n",
    "\n",
    "def clean_non_western_encoded_characters_commands(text: str) -> str:\n",
    "    \"\"\" Remove non-western encoded characters from a string\n",
    "    List may need to grow.\n",
    "    \n",
    "    :param text: the text to clean\n",
    "    :return: the cleaned text\n",
    "    \"\"\"\n",
    "    text = re.sub(r\"(\\\\begin{CJK}{UTF8}{gbsn})(.*?)(\\\\end{CJK})\", r\"\\2\", text)\n",
    "    return text\n",
    "\n",
    "\n",
    "def get_initials(name: str) -> str:\n",
    "    \"\"\" Get the short name, e.g., A.-B. FamName\n",
    "    :param name: full name\n",
    "    :returns: initials\n",
    "    \"\"\"\n",
    "    initials = []\n",
    "    # account for non western names often in ()\n",
    "    if '(' in name:\n",
    "        name = clean_non_western_encoded_characters_commands(name)\n",
    "        suffix = re.findall(r\"\\((.*?)\\)\", name)[0]\n",
    "        name = name.replace(f\"({suffix})\", '')\n",
    "    else:\n",
    "        suffix = ''\n",
    "    split = name.split()\n",
    "    for token in split[:-1]:\n",
    "        if '-' in token:\n",
    "            current = '-'.join([k[0] + '.' for k in token.split('-')])\n",
    "        else:\n",
    "            current = token[0] + '.'\n",
    "        initials.append(current)\n",
    "    initials.append(split[-1].strip())\n",
    "    if suffix:\n",
    "        initials.append(f\"({suffix})\")\n",
    "    return ' '.join(initials)"
   ]
  },
  {
   "cell_type": "markdown",
   "id": "14bd6310",
   "metadata": {
    "papermill": {
     "duration": 0.002963,
     "end_time": "2025-08-26T04:14:29.326601",
     "exception": false,
     "start_time": "2025-08-26T04:14:29.323638",
     "status": "completed"
    },
    "tags": []
   },
   "source": [
    "## get list of arxiv paper candidates\n",
    "\n",
    "We use the MPIA mitarbeiter list webpage from mpia.de to get author names\n",
    "We then get all new papers from Arxiv and match authors"
   ]
  },
  {
   "cell_type": "code",
   "execution_count": 3,
   "id": "7ea813a8",
   "metadata": {
    "execution": {
     "iopub.execute_input": "2025-08-26T04:14:29.333614Z",
     "iopub.status.busy": "2025-08-26T04:14:29.333392Z",
     "iopub.status.idle": "2025-08-26T04:14:52.886580Z",
     "shell.execute_reply": "2025-08-26T04:14:52.885929Z"
    },
    "papermill": {
     "duration": 23.557996,
     "end_time": "2025-08-26T04:14:52.887836",
     "exception": false,
     "start_time": "2025-08-26T04:14:29.329840",
     "status": "completed"
    },
    "tags": []
   },
   "outputs": [],
   "source": [
    "# deal with the author list and edge cases of people that cannot be consistent on their name  \n",
    "\n",
    "def filter_non_scientists(name: str) -> bool:\n",
    "    \"\"\" Loose filter on expected authorships\n",
    "\n",
    "    removing IT, administration, technical staff\n",
    "    :param name: name\n",
    "    :returns: False if name is not a scientist\n",
    "    \"\"\"\n",
    "    remove_list = ['Licht', 'Binroth', 'Witzel', 'Jordan',\n",
    "                   'Zähringer', 'Scheerer', 'Hoffmann', 'Düe',\n",
    "                   'Hellmich', 'Enkler-Scharpegge', 'Witte-Nguy',\n",
    "                   'Dehen', 'Beckmann', 'Jager', 'Jäger'\n",
    "                  ]\n",
    "\n",
    "    for k in remove_list:\n",
    "        if k in name:\n",
    "            return False\n",
    "    return True\n",
    "\n",
    "def add_author_to_list(author_list: list) -> list:\n",
    "    \"\"\" Add author to list if not already in list\n",
    "    \n",
    "    :param author: author name\n",
    "    :param author_list: list of authors\n",
    "    :returns: updated list of authors\n",
    "    \"\"\"\n",
    "    add_list = ['T. Henning']\n",
    "\n",
    "    for author in add_list:\n",
    "        if author not in author_list:\n",
    "            author_list.append(author)\n",
    "    return author_list\n",
    "\n",
    "# get list from MPIA website\n",
    "# filter for non-scientists (mpia.get_mpia_mitarbeiter_list() does some filtering)\n",
    "mpia_authors = [k[1] for k in mpia.get_mpia_mitarbeiter_list() if filter_non_scientists(k[1])]\n",
    "# add some missing author because of inconsistencies in their MPIA name and author name on papers\n",
    "mpia_authors = add_author_to_list(mpia_authors)"
   ]
  },
  {
   "cell_type": "code",
   "execution_count": 4,
   "id": "2645e73a",
   "metadata": {
    "execution": {
     "iopub.execute_input": "2025-08-26T04:14:52.895142Z",
     "iopub.status.busy": "2025-08-26T04:14:52.894848Z",
     "iopub.status.idle": "2025-08-26T04:14:53.920183Z",
     "shell.execute_reply": "2025-08-26T04:14:53.919421Z"
    },
    "papermill": {
     "duration": 1.030014,
     "end_time": "2025-08-26T04:14:53.921223",
     "exception": false,
     "start_time": "2025-08-26T04:14:52.891209",
     "status": "completed"
    },
    "tags": []
   },
   "outputs": [
    {
     "name": "stdout",
     "output_type": "stream",
     "text": [
      "A. P. Garcia  ->  A. P. Garcia  |  ['A. P. Garcia']\n",
      "J. Li  ->  J. Li  |  ['J. Li']\n",
      "A. Frank  ->  A. Frank  |  ['A. Frank']\n",
      "F. Walter  ->  F. Walter  |  ['F. Walter']\n",
      "Y. Wang  ->  Y. Wang  |  ['Y. Wang']\n",
      "J. Liu  ->  J. Liu  |  ['J. Liu']\n"
     ]
    },
    {
     "name": "stdout",
     "output_type": "stream",
     "text": [
      "E. Schinnerer  ->  E. Schinnerer  |  ['E. Schinnerer']\n",
      "J. Baier  ->  J. Baier  |  ['J. Baier']\n",
      "Arxiv has 95 new papers today\n",
      "          7 with possible author matches\n"
     ]
    }
   ],
   "source": [
    "new_papers = get_new_papers()\n",
    "# add manual references\n",
    "add_paper_refs = []\n",
    "new_papers.extend([get_paper_from_identifier(k) for k in add_paper_refs])\n",
    "\n",
    "def robust_call(fn, value, *args, **kwargs):\n",
    "    try:\n",
    "        return fn(value, *args, **kwargs)\n",
    "    except Exception:\n",
    "        return value\n",
    "\n",
    "candidates = []\n",
    "for paperk in new_papers:\n",
    "    # Check author list with their initials\n",
    "    normed_author_list = [robust_call(mpia.get_initials, k) for k in paperk['authors']]\n",
    "    hl_authors = highlight_authors_in_list(normed_author_list, mpia_authors, verbose=True)\n",
    "    matches = [(hl, orig) for hl, orig in zip(hl_authors, paperk['authors']) if 'mark' in hl]\n",
    "    paperk['authors'] = hl_authors\n",
    "    if matches:\n",
    "        # only select paper if an author matched our list\n",
    "        candidates.append(paperk)\n",
    "print(\"\"\"Arxiv has {0:,d} new papers today\"\"\".format(len(new_papers)))        \n",
    "print(\"\"\"          {0:,d} with possible author matches\"\"\".format(len(candidates)))"
   ]
  },
  {
   "cell_type": "markdown",
   "id": "3543b34a",
   "metadata": {
    "papermill": {
     "duration": 0.00322,
     "end_time": "2025-08-26T04:14:53.928005",
     "exception": false,
     "start_time": "2025-08-26T04:14:53.924785",
     "status": "completed"
    },
    "tags": []
   },
   "source": [
    "# Parse sources and generate relevant outputs\n",
    "\n",
    "From the candidates, we do the following steps:\n",
    "* get their tarball from ArXiv (and extract data)\n",
    "* find the main .tex file: find one with \\documentclass{...} (sometimes it's non trivial)\n",
    "* Check affiliations with :func:`validation`, which uses :func:`mpia.affiliation_verifications`\n",
    "* If passing the affiliations: we parse the .tex source\n",
    "   * inject sub-documents into the main (flatten the main document)\n",
    "   * parse structure, extract information (title, abstract, authors, figures...)\n",
    "   * handles `\\graphicspath` if provided\n",
    "* Generate the .md document."
   ]
  },
  {
   "cell_type": "code",
   "execution_count": 5,
   "id": "9576b79e",
   "metadata": {
    "execution": {
     "iopub.execute_input": "2025-08-26T04:14:53.935193Z",
     "iopub.status.busy": "2025-08-26T04:14:53.934895Z",
     "iopub.status.idle": "2025-08-26T04:15:17.643528Z",
     "shell.execute_reply": "2025-08-26T04:15:17.642861Z"
    },
    "papermill": {
     "duration": 23.713687,
     "end_time": "2025-08-26T04:15:17.644825",
     "exception": false,
     "start_time": "2025-08-26T04:14:53.931138",
     "status": "completed"
    },
    "scrolled": false,
    "tags": []
   },
   "outputs": [
    {
     "data": {
      "application/vnd.jupyter.widget-view+json": {
       "model_id": "e37a147139784485bbe833eff5edd639",
       "version_major": 2,
       "version_minor": 0
      },
      "text/plain": [
       "  0%|          | 0/7 [00:00<?, ?it/s]"
      ]
     },
     "metadata": {},
     "output_type": "display_data"
    },
    {
     "name": "stdout",
     "output_type": "stream",
     "text": [
      "Retrieving document from  https://arxiv.org/e-print/2508.16775\n"
     ]
    },
    {
     "name": "stdout",
     "output_type": "stream",
     "text": [
      "extracting tarball to tmp_2508.16775..."
     ]
    },
    {
     "name": "stdout",
     "output_type": "stream",
     "text": [
      " done.\n"
     ]
    },
    {
     "name": "stdout",
     "output_type": "stream",
     "text": [
      "Found 88 bibliographic references in tmp_2508.16775/aa56452-25.bbl.\n",
      "Retrieving document from  https://arxiv.org/e-print/2508.16781\n"
     ]
    },
    {
     "name": "stdout",
     "output_type": "stream",
     "text": [
      "extracting tarball to tmp_2508.16781..."
     ]
    },
    {
     "name": "stdout",
     "output_type": "stream",
     "text": [
      " done.\n",
      "Retrieving document from  https://arxiv.org/e-print/2508.16825\n"
     ]
    },
    {
     "name": "stdout",
     "output_type": "stream",
     "text": [
      "extracting tarball to tmp_2508.16825... done.\n",
      "Retrieving document from  https://arxiv.org/e-print/2508.16951\n"
     ]
    },
    {
     "name": "stderr",
     "output_type": "stream",
     "text": [
      "/tmp/ipykernel_3394/2822249172.py:52: LatexWarning: 2508.16951 did not run properly\n",
      "not a gzip file\n",
      "  warnings.warn(latex.LatexWarning(f\"{paper_id:s} did not run properly\\n\" +\n"
     ]
    },
    {
     "name": "stdout",
     "output_type": "stream",
     "text": [
      "Retrieving document from  https://arxiv.org/e-print/2508.17307\n"
     ]
    },
    {
     "name": "stdout",
     "output_type": "stream",
     "text": [
      "extracting tarball to tmp_2508.17307... done.\n",
      "Retrieving document from  https://arxiv.org/e-print/2508.18097\n"
     ]
    },
    {
     "name": "stdout",
     "output_type": "stream",
     "text": [
      "extracting tarball to tmp_2508.18097... done.\n",
      "Retrieving document from  https://arxiv.org/e-print/2508.18126\n"
     ]
    },
    {
     "name": "stdout",
     "output_type": "stream",
     "text": [
      "extracting tarball to tmp_2508.18126..."
     ]
    },
    {
     "name": "stdout",
     "output_type": "stream",
     "text": [
      " done.\n"
     ]
    },
    {
     "name": "stderr",
     "output_type": "stream",
     "text": [
      "/opt/hostedtoolcache/Python/3.9.23/x64/lib/python3.9/site-packages/IPython/core/interactiveshell.py:3550: LatexWarning: Multiple tex files.\n",
      "\n",
      "  exec(code_obj, self.user_global_ns, self.user_ns)\n",
      "/opt/hostedtoolcache/Python/3.9.23/x64/lib/python3.9/site-packages/IPython/core/interactiveshell.py:3550: LatexWarning: Found documentclass in tmp_2508.18126/main.tex\n",
      "\n",
      "  exec(code_obj, self.user_global_ns, self.user_ns)\n",
      "/opt/hostedtoolcache/Python/3.9.23/x64/lib/python3.9/site-packages/arxiv_on_deck_2/latex.py:414: LatexWarning: Latex injecting: 'acks' from 'tmp_2508.18126/acks.tex'\n",
      "  warnings.warn(LatexWarning(f\"Latex injecting: '{ext}' from '{subsource}'\"))\n",
      "/opt/hostedtoolcache/Python/3.9.23/x64/lib/python3.9/site-packages/arxiv_on_deck_2/latex.py:414: LatexWarning: Latex injecting: 'authors_arx' from 'tmp_2508.18126/authors_arx.tex'\n",
      "  warnings.warn(LatexWarning(f\"Latex injecting: '{ext}' from '{subsource}'\"))\n"
     ]
    }
   ],
   "source": [
    "documents = []\n",
    "failed = []\n",
    "for paper in tqdm(candidates):\n",
    "    # debug crap\n",
    "    paper['identifier'] = paper['identifier'].lower().replace('arxiv:', '').replace(r'\\n', '').strip()\n",
    "    paper_id = paper['identifier']\n",
    "    \n",
    "    folder = f'tmp_{paper_id}'\n",
    "\n",
    "    try:\n",
    "        if not os.path.isdir(folder):\n",
    "            folder = retrieve_document_source(f\"{paper_id}\", f'tmp_{paper_id}')\n",
    "        \n",
    "        try:\n",
    "            doc = latex.LatexDocument(folder, validation=validation)    \n",
    "        except AffiliationError as affilerror:\n",
    "            msg = f\"ArXiv:{paper_id:s} is not an MPIA paper... \" + str(affilerror)\n",
    "            failed.append((paper, \"affiliation error: \" + str(affilerror) ))\n",
    "            continue\n",
    "        \n",
    "        # Hack because sometimes author parsing does not work well\n",
    "        if (len(doc.authors) != len(paper['authors'])):\n",
    "            doc._authors = paper['authors']\n",
    "        else:\n",
    "            # highlight authors (FIXME: doc.highlight_authors)\n",
    "            # done on arxiv paper already\n",
    "            doc._authors = highlight_authors_in_list(\n",
    "                [get_initials(k) for k in doc.authors], \n",
    "                mpia_authors, verbose=True)\n",
    "        if (doc.abstract) in (None, ''):\n",
    "            doc._abstract = paper['abstract']\n",
    "            \n",
    "        doc.comment = (get_markdown_badge(paper_id) + \n",
    "                       \"<mark>Appeared on: \" + paper['date'] + \"</mark> - \")\n",
    "        if paper['comments']:\n",
    "            doc.comment += \" _\" + paper['comments'] + \"_\"\n",
    "        \n",
    "        full_md = doc.generate_markdown_text()\n",
    "        \n",
    "        full_md += get_markdown_qrcode(paper_id)\n",
    "        \n",
    "        # replace citations\n",
    "        try:\n",
    "            bibdata = latex_bib.LatexBib.from_doc(doc)\n",
    "            full_md = latex_bib.replace_citations(full_md, bibdata)\n",
    "        except Exception as e:\n",
    "            print(\"Issues with the citations\")\n",
    "            print(e)\n",
    "        \n",
    "        documents.append((paper_id, full_md))\n",
    "    except Exception as e:\n",
    "        warnings.warn(latex.LatexWarning(f\"{paper_id:s} did not run properly\\n\" +\n",
    "                                         str(e)\n",
    "                                        ))\n",
    "        failed.append((paper, \"latex error \" + str(e)))"
   ]
  },
  {
   "cell_type": "markdown",
   "id": "2505a25c",
   "metadata": {
    "papermill": {
     "duration": 0.003967,
     "end_time": "2025-08-26T04:15:17.653215",
     "exception": false,
     "start_time": "2025-08-26T04:15:17.649248",
     "status": "completed"
    },
    "tags": []
   },
   "source": [
    "### Export the logs\n",
    "\n",
    "Throughout, we also keep track of the logs per paper. see `logs-{today date}.md` "
   ]
  },
  {
   "cell_type": "code",
   "execution_count": 6,
   "id": "d733828a",
   "metadata": {
    "execution": {
     "iopub.execute_input": "2025-08-26T04:15:17.662254Z",
     "iopub.status.busy": "2025-08-26T04:15:17.661934Z",
     "iopub.status.idle": "2025-08-26T04:15:17.681000Z",
     "shell.execute_reply": "2025-08-26T04:15:17.680425Z"
    },
    "papermill": {
     "duration": 0.024902,
     "end_time": "2025-08-26T04:15:17.682020",
     "exception": false,
     "start_time": "2025-08-26T04:15:17.657118",
     "status": "completed"
    },
    "scrolled": false,
    "tags": []
   },
   "outputs": [
    {
     "data": {
      "text/markdown": [
       "## Successful papers"
      ],
      "text/plain": [
       "<IPython.core.display.Markdown object>"
      ]
     },
     "metadata": {},
     "output_type": "display_data"
    },
    {
     "data": {
      "text/markdown": [
       "\n",
       "|||\n",
       "|---:|:---|\n",
       "| [![arXiv](https://img.shields.io/badge/arXiv-2508.16775-b31b1b.svg)](https://arxiv.org/abs/2508.16775) | **Characterising the short-orbital period X-ray transient Swift J1910.2-0546**  |\n",
       "|| J. M. Corral-Santana, et al. -- incl., <mark>A. P. Garcia</mark> |\n",
       "|*Appeared on*| *2025-08-26*|\n",
       "|*Comments*| *13 pages, 10 figures. Accepted for publication in A&A*|\n",
       "|**Abstract**|            SwiftJ1910.2-0546 is a Galactic X-ray transient discovered during a bright outburst in 2012. We use time-series optical photometry and spectroscopy to estimate the orbital period, characterise the donor star, determine the interstellar extinction, distance, and system geometry, and constrain the component masses. Multi-site r-band and clear-filter light curves and WHT/ACAM spectra from the 2012 outburst are combined with time-series spectroscopy from GTC/OSIRIS and VLT/FORS2 in quiescence. Period searches are conducted using generalised Lomb-Scargle, phase-dispersion minimisation, and analysis-of-variance algorithms. Diffuse interstellar bands constrain E(B-V), while empirical correlations involving H$\\alpha$ yield estimates of K2, q, and i. We detect a double-humped modulation with a period of $0.0941\\pm0.0007$d ($2.26\\pm0.02$h) during the outburst. Its morphology is consistent with an early superhump, suggesting that the true orbital period may be slightly shorter than 4.52h. The H$\\alpha$ radial velocity curves do not yield a definitive orbital period. In quiescence, TiO bands indicate an M3-M3.5 donor contributing 70% of the red continuum. Diffuse interstellar bands give E(B-V)=$0.60\\pm0.05$ and N_H=$(3.9\\pm1.3)$x10$^{21}$cm$^{-2}$, placing the system at a distance of 2.8-4.0 kpc. The H$\\alpha$ line width in quiescence (FWHM_0 =$990\\pm45$km/s), via a FWHM-K_2 calibration, provides an estimate of K_2, while its double peaked profile gives q and i. Adopting the resulting K_2=$230\\pm17$km/s and q=$0.032\\pm0.010$, and two orbital period scenarios (2.25 and 4.50h), Monte Carlo sampling returns a compact object mass M_1=8-11M_sun and an inclination i=13-18 deg for plausible donor masses (M_2=0.25-0.35M_sun). We favour an orbital period of 4.5h. Further phase-resolved spectroscopy and photometry during quiescence are needed to better determine its fundamental parameters.         |"
      ],
      "text/plain": [
       "[2508.16775] Characterising the short-orbital period X-ray transient Swift J1910.2-0546\n",
       "\tJ. M. Corral-Santana, et al. -- incl., <mark>A. P. Garcia</mark>"
      ]
     },
     "metadata": {},
     "output_type": "display_data"
    },
    {
     "data": {
      "text/markdown": [
       "## Failed papers"
      ],
      "text/plain": [
       "<IPython.core.display.Markdown object>"
      ]
     },
     "metadata": {},
     "output_type": "display_data"
    },
    {
     "data": {
      "text/markdown": [
       "\n",
       "|||\n",
       "|---:|:---|\n",
       "| [![arXiv](https://img.shields.io/badge/arXiv-2508.16781-b31b1b.svg)](https://arxiv.org/abs/2508.16781) | **Soot Planets instead of Water Worlds**  |\n",
       "|| <mark>J. Li</mark>, et al. |\n",
       "|*Appeared on*| *2025-08-26*|\n",
       "|*Comments*| *20 pages, 8 figures, submitted to ApJ Letters*|\n",
       "|**Abstract**|            Some low-density exoplanets are thought to be water-rich worlds that formed beyond the snow line of their protoplanetary disc, possibly accreting coequal portions of rock and water. However, the compositions of bodies within the Solar System and the stability of volatile-rich solids in accretionary disks suggest that a planet rich in water should also acquire as much as 40% refractory organic carbon (\"soot\"). This would reduce the water mass fraction well below 50%, making the composition of these planets similar to those of Solar System comets. Here we show that soot-rich planets, with or without water, can account for the low average densities of exoplanets that were previously attributed to a binary combination of rock and water. Formed in locations beyond the soot and/or snow lines in disks, these planets are likely common in our galaxy and already observed by JWST. The surfaces and interiors of soot-rich planets will be influenced by the chemical and physical properties of carbonaceous phases, and the atmospheres of such planets may contain plentiful methane and other hydrocarbons, with implications for photochemical haze generation and habitability.         |\n",
       "|<p style=\"color:green\"> **ERROR** </p>| <p style=\"color:green\">affiliation error: mpia.affiliation_verifications: 'Heidelberg' keyword not found.</p> |"
      ],
      "text/plain": [
       "<IPython.core.display.Markdown object>"
      ]
     },
     "metadata": {},
     "output_type": "display_data"
    },
    {
     "data": {
      "text/markdown": [
       "\n",
       "|||\n",
       "|---:|:---|\n",
       "| [![arXiv](https://img.shields.io/badge/arXiv-2508.16825-b31b1b.svg)](https://arxiv.org/abs/2508.16825) | **Technosignature Searches of Interstellar Objects**  |\n",
       "|| J. R. A. Davenport, et al. -- incl., <mark>A. Frank</mark> |\n",
       "|*Appeared on*| *2025-08-26*|\n",
       "|*Comments*| *17 pages, 5 figures. Submitted to journal for peer review, community feedback welcomed*|\n",
       "|**Abstract**|            With the discovery of the third confirmed interstellar object (ISO), 3I/ATLAS, we have entered a new phase in the exploration of these long-predicted objects. Though confirmed discovery of ISOs is quite recent, their utility as targets in the search for technosignatures (historically known as the Search for Extraterrestrial Intelligence -- SETI) has been discussed for many decades. With the upcoming NSF-DOE Vera C. Rubin Observatory's Legacy Survey of Space and Time (LSST), the discovery and tracking of such objects is expected to become routine, and thus so must our examination of these objects for possible technosignatures. Here we review the literature surrounding ISOs as targets for technosignatures, which provides a well-developed motivation for such exploration. We outline four broad classes of technosignatures that are well suited for ISO follow-up, including the type of data needed and the best timing for study. Given the limitations in the current understanding of ISOs, we show that care must be taken in identifying technosignatures based primarily on comparison to objects in the Solar System. We therefore provide a roadmap for careful and consistent study of the population of ISOs in the hope of identifying technosignatures.         |\n",
       "|<p style=\"color:green\"> **ERROR** </p>| <p style=\"color:green\">affiliation error: mpia.affiliation_verifications: 'Heidelberg' keyword not found.</p> |"
      ],
      "text/plain": [
       "<IPython.core.display.Markdown object>"
      ]
     },
     "metadata": {},
     "output_type": "display_data"
    },
    {
     "data": {
      "text/markdown": [
       "\n",
       "|||\n",
       "|---:|:---|\n",
       "| [![arXiv](https://img.shields.io/badge/arXiv-2508.17307-b31b1b.svg)](https://arxiv.org/abs/2508.17307) | **IGR J17091-3624: Newly Formed Periodic Dips Detected in the 2025 Outburst**  |\n",
       "|| Z. Lin, et al. -- incl., <mark>Y. Wang</mark>, <mark>J. Liu</mark> |\n",
       "|*Appeared on*| *2025-08-26*|\n",
       "|*Comments*| *16 pages, 10 figures, 1 tables; submitted*|\n",
       "|**Abstract**|            The black hole low-mass X-ray binary (LMXB) candidate IGR J17091-3624 experienced a hard-state-only outburst in 2025. In this paper, we show that IXPE detected a series of intermittent X-ray dips, spanning a total interval of ~1 day. Subsequent observations with NICER, EP, NuSTAR, and Swift reveal that these dips recur with a period of 2.83$\\pm$0.07 days and are accompanied by an increase in spectral hardness. This is the first time such quasi-periodic dipping behavior has been observed in this target since discovery. Our spectral analysis shows that the dips can be explained by obscuration from an ionized absorber characterized by an ionization parameter of $log{\\xi}$ ~1-3 erg cm s$^{-1}$ and an equivalent hydrogen column density of $N^{\\rm zxipcf}_{\\rm H}$~(1-30)$\\times10^{22}$ cm$^{-2}$. The periodic reappearance of the absorber is likely caused by obscuring material located in the outer accretion disk, modulated by the binary orbital period. If confirmed, this period would suggest that the donor star in IGR J17091-3624 has deviated from the standard main-sequence evolutionary path and is likely a (partially) stripped giant. In the optical band, no significant periodicity or correlation with the X-ray dips was detected, whereas the radio counterpart exhibited a flat to steep spectrum, in contrast to the inverted spectrum typically observed during the hard state of LMXBs.         |\n",
       "|<p style=\"color:green\"> **ERROR** </p>| <p style=\"color:green\">affiliation error: mpia.affiliation_verifications: 'Heidelberg' keyword not found.</p> |"
      ],
      "text/plain": [
       "<IPython.core.display.Markdown object>"
      ]
     },
     "metadata": {},
     "output_type": "display_data"
    },
    {
     "data": {
      "text/markdown": [
       "\n",
       "|||\n",
       "|---:|:---|\n",
       "| [![arXiv](https://img.shields.io/badge/arXiv-2508.18097-b31b1b.svg)](https://arxiv.org/abs/2508.18097) | **A$^3$COSMOS: The dust content of massive quiescent galaxies and its evolution with cosmic time**  |\n",
       "|| S. Adscheid, et al. -- incl., <mark>E. Schinnerer</mark> |\n",
       "|*Appeared on*| *2025-08-26*|\n",
       "|*Comments*| *Accepted for publication in A&A; 10 pages, 5 pages appendix, 10 figures; Acknowledgements can be found in the appendix*|\n",
       "|**Abstract**|            We study the dust content of massive ($\\log(M_*/M_{\\odot})\\geq10.8$) quiescent galaxies (QGs) at redshift $z=0.5-3$ to place constraints on the evolution of their cold interstellar medium (ISM), and thereby obtain insights on the processes of galaxy quenching throughout cosmic time. We use a robust sample of 458 colour-selected QGs covered by the A$^3$COSMOS+A$^3$GOODSS database to perform a stacking analysis in the $uv$-domain and measure their mean dust masses from their stacked submillimetre luminosities. We use the CIGALE SED-fitting code to obtain star formation histories and infer the time since quenching for all QGs in our sample. We use this information to gain insight on the time evolution of the dust content after quenching. Most QGs in our sample quenched around a redshift of $z\\sim1.3$, following the peak of cosmic star formation. The majority of QGs observed at $z>1$ are recently quenched (i.e., quenched for no longer than $500\\,$Myr), whereas the majority of QGs observed at $z<1$ have already been quenched for a significant amount of time ($\\gtrsim1\\,$Gyr). This implies that high-redshift galaxies ($z\\gtrsim2$) are ideal for studying the mechanisms of quenching and its effects on the ISM, while lower-redshift galaxies are more suitable for studying the long-term effects of the QG environment on their ISM. We obtain upper limits on the dust mass fraction of the QG population, pointing towards lower dust content in high-redshift massive QGs than found by earlier stacking studies, and significantly lower (by a factor $\\sim2-6$) than that of normal star forming galaxies. We also place constraints on the initial gas fraction right after quenching. We find that within the first $\\sim600\\,$Myr after quenching, QGs already lose on average $\\gtrsim70\\%$ of their cold ISM. Our findings support a gas consumption or removal scenario acting on short timescales.         |\n",
       "|<p style=\"color:green\"> **ERROR** </p>| <p style=\"color:green\">affiliation error: mpia.affiliation_verifications: 'Heidelberg' keyword not found.</p> |"
      ],
      "text/plain": [
       "<IPython.core.display.Markdown object>"
      ]
     },
     "metadata": {},
     "output_type": "display_data"
    },
    {
     "data": {
      "text/markdown": [
       "\n",
       "|||\n",
       "|---:|:---|\n",
       "| [![arXiv](https://img.shields.io/badge/arXiv-2508.18126-b31b1b.svg)](https://arxiv.org/abs/2508.18126) | **Inferring Mbh-Mbulge Evolution from the Gravitational Wave Background**  |\n",
       "|| C. Matt, et al. -- incl., <mark>J. Baier</mark> |\n",
       "|*Appeared on*| *2025-08-26*|\n",
       "|*Comments*| **|\n",
       "|**Abstract**|            We test the impact of an evolving supermassive black hole (SMBH) mass scaling relation (Mbh-Mbulge) on the predictions for the gravitational wave background (GWB). The observed GWB amplitude is 2-3 times higher than predicted by astrophysically informed models which suggests the need to revise the assumptions in those models. We compare a semi-analytic model's ability to reproduce the observed GWB spectrum with a static versus evolving-amplitude Mbh-Mbulge relation. We additionally consider the influence of the choice of galaxy stellar mass function on the modeled GWB spectra. Our models are able to reproduce the GWB amplitude with either a large number density of massive galaxies or a positively evolving Mbh-Mbulge amplitude (i.e., the Mbh / Mbulge ratio was higher in the past). If we assume that the Mbh-Mbulge amplitude does not evolve, our models require a galaxy stellar mass function that implies an undetected population of massive galaxies (Mstellar > 10^11 Msun at z > 1). When the Mbh-Mbulge amplitude is allowed to evolve, we can model the GWB spectrum with all fiducial values and an Mbh-Mbulge amplitude that evolves as alpha(z) = alpha_0 (1 + z)^(1.04 +/- 0.5).         |\n",
       "|<p style=\"color:green\"> **ERROR** </p>| <p style=\"color:green\">affiliation error: mpia.affiliation_verifications: 'Heidelberg' keyword not found.</p> |"
      ],
      "text/plain": [
       "<IPython.core.display.Markdown object>"
      ]
     },
     "metadata": {},
     "output_type": "display_data"
    },
    {
     "data": {
      "text/markdown": [
       "\n",
       "|||\n",
       "|---:|:---|\n",
       "| [![arXiv](https://img.shields.io/badge/arXiv-2508.16951-b31b1b.svg)](https://arxiv.org/abs/2508.16951) | **MIDIS: Unveiling the Star Formation History in massive galaxies at $1<z<4.5$ with spectro-photometric analysis**  |\n",
       "|| M. Annunziatella, et al. -- incl., <mark>F. Walter</mark> |\n",
       "|*Appeared on*| *2025-08-26*|\n",
       "|*Comments*| *accepted for publication in A&A*|\n",
       "|**Abstract**|            We investigate the star formation histories (SFHs) of a sample of massive galaxies ($M_\\star \\geq 10^{10} \\, M_\\odot$) in the redshift range $1 < z < 4.5$. We analyze spectro-photometric data combining broadband photometry from HST and JWST with low-resolution grism spectroscopy from JWST/NIRISS, obtained as part of the MIDIS (MIRI Deep Imaging Survey) program. SFHs are derived through spectral energy distribution (SED) fitting using two independent codes, BAGPIPES and Synthesizer, under various SFH assumptions. This approach enables a comprehensive assessment of the biases introduced by different modeling choices. The inclusion of NIRISS spectroscopy, even with its low resolution, significantly improves constraints on key physical parameters, such as the mass-weighted stellar age ($t_M$) and formation redshift ($z_{\\mathrm{form}}$), by narrowing their posterior distributions. The massive galaxies in our sample exhibit rapid stellar mass assembly, forming 50\\% of their mass between $3 \\leq z \\leq 9$. The highest inferred formation redshifts are compatible with elevated star formation efficiencies ($\\epsilon$) at early epochs. Non-parametric SFHs generally imply an earlier and slower mass assembly compared to parametric forms, highlighting the sensitivity of inferred formation timescales to the chosen SFH model, particularly for galaxies at $z < 2$. Quiescent galaxies are, on average, older ($t_M \\sim 1.1$ Gyr) and assembled more rapidly at earlier times than their star-forming counterparts. These findings support the ``downsizing'' scenario, in which more massive and passive systems form earlier and more efficiently.         |\n",
       "|<p style=\"color:red\"> **ERROR** </p>| <p style=\"color:red\">latex error not a gzip file</p> |"
      ],
      "text/plain": [
       "<IPython.core.display.Markdown object>"
      ]
     },
     "metadata": {},
     "output_type": "display_data"
    }
   ],
   "source": [
    "import datetime\n",
    "today = str(datetime.date.today())\n",
    "logfile = f\"_build/html/logs/log-{today}.md\"\n",
    "\n",
    "\n",
    "with open(logfile, 'w') as logs:\n",
    "    # Success\n",
    "    logs.write(f'# Arxiv on Deck 2: Logs - {today}\\n\\n')\n",
    "    logs.write(\"\"\"* Arxiv had {0:,d} new papers\\n\"\"\".format(len(new_papers)))\n",
    "    logs.write(\"\"\"    * {0:,d} with possible author matches\\n\\n\"\"\".format(len(candidates)))\n",
    "    logs.write(\"## Sucessful papers\\n\\n\")\n",
    "    display(Markdown(\"## Successful papers\"))\n",
    "    success = [k[0] for k in documents]\n",
    "    for candid in candidates:\n",
    "        if candid['identifier'].split(':')[-1] in success:\n",
    "            display(candid)\n",
    "            logs.write(candid.generate_markdown_text() + '\\n\\n')\n",
    "\n",
    "    ## failed\n",
    "    logs.write(\"## Failed papers\\n\\n\")\n",
    "    display(Markdown(\"## Failed papers\"))\n",
    "    failed = sorted(failed, key=lambda x: x[1])\n",
    "    current_reason = \"\"\n",
    "    for paper, reason in failed:\n",
    "        if 'affiliation' in reason:\n",
    "            color = 'green'\n",
    "        else:\n",
    "            color = 'red'\n",
    "        data = Markdown(\n",
    "                paper.generate_markdown_text() + \n",
    "                f'\\n|<p style=\"color:{color:s}\"> **ERROR** </p>| <p style=\"color:{color:s}\">{reason:s}</p> |'\n",
    "               )\n",
    "        if reason != current_reason:\n",
    "            logs.write(f'### {reason:s} \\n\\n')\n",
    "            current_reason = reason\n",
    "        logs.write(data.data + '\\n\\n')\n",
    "        \n",
    "        # only display here the important errors (all in logs)\n",
    "        # if color in ('red',):\n",
    "        display(data)"
   ]
  },
  {
   "cell_type": "markdown",
   "id": "472d20ee",
   "metadata": {
    "papermill": {
     "duration": 0.004801,
     "end_time": "2025-08-26T04:15:17.691865",
     "exception": false,
     "start_time": "2025-08-26T04:15:17.687064",
     "status": "completed"
    },
    "tags": []
   },
   "source": [
    "## Export documents\n",
    "\n",
    "We now write the .md files and export relevant images"
   ]
  },
  {
   "cell_type": "code",
   "execution_count": 7,
   "id": "d426aed9",
   "metadata": {
    "execution": {
     "iopub.execute_input": "2025-08-26T04:15:17.702555Z",
     "iopub.status.busy": "2025-08-26T04:15:17.702298Z",
     "iopub.status.idle": "2025-08-26T04:15:17.709387Z",
     "shell.execute_reply": "2025-08-26T04:15:17.708799Z"
    },
    "papermill": {
     "duration": 0.013665,
     "end_time": "2025-08-26T04:15:17.710370",
     "exception": false,
     "start_time": "2025-08-26T04:15:17.696705",
     "status": "completed"
    },
    "tags": []
   },
   "outputs": [],
   "source": [
    "def export_markdown_summary(md: str, md_fname:str, directory: str):\n",
    "    \"\"\"Export MD document and associated relevant images\"\"\"\n",
    "    import os\n",
    "    import shutil\n",
    "    import re\n",
    "\n",
    "    if (os.path.exists(directory) and not os.path.isdir(directory)):\n",
    "        raise RuntimeError(f\"a non-directory file exists with name {directory:s}\")\n",
    "\n",
    "    if (not os.path.exists(directory)):\n",
    "        print(f\"creating directory {directory:s}\")\n",
    "        os.mkdir(directory)\n",
    "\n",
    "    fig_fnames = (re.compile(r'\\[Fig.*\\]\\((.*)\\)').findall(md) + \n",
    "                  re.compile(r'\\<img src=\"([^>\\s]*)\"[^>]*/>').findall(md))\n",
    "    print(\"found figures\", fig_fnames)\n",
    "    for fname in fig_fnames:\n",
    "        if 'http' in fname:\n",
    "            # No need to copy online figures\n",
    "            continue\n",
    "        if not os.path.exists(fname):\n",
    "            print(\"file not found\", fname)\n",
    "            continue\n",
    "        print(\"copying \", fname, \"to\", directory)\n",
    "        destdir = os.path.join(directory, os.path.dirname(fname))\n",
    "        destfname = os.path.join(destdir, os.path.basename(fname))\n",
    "        try:\n",
    "            os.makedirs(destdir)\n",
    "        except FileExistsError:\n",
    "            pass\n",
    "        shutil.copy(fname, destfname)\n",
    "    with open(os.path.join(directory, md_fname), 'w') as fout:\n",
    "        fout.write(md)\n",
    "    print(\"exported in \", os.path.join(directory, md_fname))\n",
    "    [print(\"    + \" + os.path.join(directory,fk)) for fk in fig_fnames]"
   ]
  },
  {
   "cell_type": "code",
   "execution_count": 8,
   "id": "014d04a4",
   "metadata": {
    "execution": {
     "iopub.execute_input": "2025-08-26T04:15:17.721676Z",
     "iopub.status.busy": "2025-08-26T04:15:17.721416Z",
     "iopub.status.idle": "2025-08-26T04:15:17.728052Z",
     "shell.execute_reply": "2025-08-26T04:15:17.727484Z"
    },
    "papermill": {
     "duration": 0.013617,
     "end_time": "2025-08-26T04:15:17.729037",
     "exception": false,
     "start_time": "2025-08-26T04:15:17.715420",
     "status": "completed"
    },
    "tags": []
   },
   "outputs": [
    {
     "name": "stdout",
     "output_type": "stream",
     "text": [
      "found figures ['tmp_2508.16775/./figures/fig_SwiftJ1910_I_BESS_1.2arcmin_FORS2.png', 'tmp_2508.16775/./figures/fig_j1910_smarts_wfc_sdssr_GLS_n1_n2_n3_NEW.png', 'tmp_2508.16775/./figures/fig_j1910_Ha_osiris_fors2_period_vs_Gauss_sep.png']\n",
      "copying  tmp_2508.16775/./figures/fig_SwiftJ1910_I_BESS_1.2arcmin_FORS2.png to _build/html/\n",
      "copying  tmp_2508.16775/./figures/fig_j1910_smarts_wfc_sdssr_GLS_n1_n2_n3_NEW.png to _build/html/\n",
      "copying  tmp_2508.16775/./figures/fig_j1910_Ha_osiris_fors2_period_vs_Gauss_sep.png to _build/html/\n",
      "exported in  _build/html/2508.16775.md\n",
      "    + _build/html/tmp_2508.16775/./figures/fig_SwiftJ1910_I_BESS_1.2arcmin_FORS2.png\n",
      "    + _build/html/tmp_2508.16775/./figures/fig_j1910_smarts_wfc_sdssr_GLS_n1_n2_n3_NEW.png\n",
      "    + _build/html/tmp_2508.16775/./figures/fig_j1910_Ha_osiris_fors2_period_vs_Gauss_sep.png\n"
     ]
    }
   ],
   "source": [
    "for paper_id, md in documents:\n",
    "    export_markdown_summary(md, f\"{paper_id:s}.md\", '_build/html/')"
   ]
  },
  {
   "cell_type": "markdown",
   "id": "f087a0a7",
   "metadata": {
    "papermill": {
     "duration": 0.00489,
     "end_time": "2025-08-26T04:15:17.739026",
     "exception": false,
     "start_time": "2025-08-26T04:15:17.734136",
     "status": "completed"
    },
    "tags": []
   },
   "source": [
    "## Display the papers\n",
    "\n",
    "Not necessary but allows for a quick check."
   ]
  },
  {
   "cell_type": "code",
   "execution_count": 9,
   "id": "fd25f625",
   "metadata": {
    "execution": {
     "iopub.execute_input": "2025-08-26T04:15:17.750086Z",
     "iopub.status.busy": "2025-08-26T04:15:17.749764Z",
     "iopub.status.idle": "2025-08-26T04:15:17.754694Z",
     "shell.execute_reply": "2025-08-26T04:15:17.754107Z"
    },
    "papermill": {
     "duration": 0.011734,
     "end_time": "2025-08-26T04:15:17.755684",
     "exception": false,
     "start_time": "2025-08-26T04:15:17.743950",
     "status": "completed"
    },
    "scrolled": false,
    "tags": []
   },
   "outputs": [
    {
     "data": {
      "text/markdown": [
       "<div class=\"macros\" style=\"visibility:hidden;\">\n",
       "$\\newcommand{\\ensuremath}{}$\n",
       "$\\newcommand{\\xspace}{}$\n",
       "$\\newcommand{\\object}[1]{\\texttt{#1}}$\n",
       "$\\newcommand{\\farcs}{{.}''}$\n",
       "$\\newcommand{\\farcm}{{.}'}$\n",
       "$\\newcommand{\\arcsec}{''}$\n",
       "$\\newcommand{\\arcmin}{'}$\n",
       "$\\newcommand{\\ion}[2]{#1#2}$\n",
       "$\\newcommand{\\textsc}[1]{\\textrm{#1}}$\n",
       "$\\newcommand{\\hl}[1]{\\textrm{#1}}$\n",
       "$\\newcommand{\\footnote}[1]{}$\n",
       "$\\newcommand{\\Ha}{H\\textalpha}$\n",
       "$\\newcommand{\\Hb}{H\\textbeta}$\n",
       "$\\newcommand{\\Hg}{H\\textgamma}$\n",
       "$\\newcommand{\\Hd}{H\\textdelta}$\n",
       "$\\newcommand{\\Hep}{H\\textepsilon}$\n",
       "$\\newcommand{\\Ion}[2]{#1 {\\sc #2}}$\n",
       "$\\newcommand{\\Line}[3]{#1 {\\sc #2}~\\textlambda #3}$\n",
       "$\\newcommand{\\kms}{\\mbox{\\mathrm{km~s^{-1}}}}$\n",
       "$\\newcommand{\\he}[1]$\n",
       "$\\newcommand{\\hel}[2]$\n",
       "$\\newcommand{\\Msun}{\\mbox{M_{\\rm \\odot}}}$\n",
       "$\\newcommand{\\Rsun}{\\mbox{R_{\\rm \\odot}}}$\n",
       "$\\newcommand{\\sw}{\\textit{Swift} J1910.2--0546}$\n",
       "$\\newcommand{\\jj}{J1910}$\n",
       "$\\newcommand{\\porb}{P}$\n",
       "$\\newcommand{\\ebv}{E(B-V)}$\n",
       "$\\newcommand{\\ebvval}[1]{E(B-V) = #1}$\n",
       "$\\newcommand{\\ergs}{erg s^{-1} cm^{-2}}$\n",
       "$\\newcommand{\\savefootnote}[2]{\\footnote{\\label{#1}#2}}$\n",
       "$\\newcommand{\\repeatfootnote}[1]{\\textsuperscript{\\ref{#1}}}$</div>\n",
       "\n",
       "\n",
       "\n",
       "<div id=\"title\">\n",
       "\n",
       "# Characterising the short-orbital period X-ray transient $\\sw$\n",
       "\n",
       "</div>\n",
       "<div id=\"comments\">\n",
       "\n",
       "[![arXiv](https://img.shields.io/badge/arXiv-2508.16775-b31b1b.svg)](https://arxiv.org/abs/2508.16775)<mark>Appeared on: 2025-08-26</mark> -  _13 pages, 10 figures. Accepted for publication in A&A_\n",
       "\n",
       "</div>\n",
       "<div id=\"authors\">\n",
       "\n",
       "J. M. Corral-Santana, et al. -- incl., <mark>A. P. Garcia</mark>\n",
       "\n",
       "</div>\n",
       "<div id=\"abstract\">\n",
       "\n",
       "**Abstract:** $\\sw$ (=MAXI J1910 $-$ 057) is a Galactic X-ray transient discovered during a bright outburst in 2012. Its X-ray spectral and timing properties point to a black-hole accretor, yet the orbital period remains uncertain, and no reliable dynamical constraints on the binary parameters are available.The 2012 event, extensively monitored at X-ray and optical wavelengths, offers a rare opportunity to investigate the structure and dynamics of the system and to constrain its fundamental properties. We use time-series optical photometry and spectroscopy, obtained during outburst and quiescence, to estimate the orbital period, characterise the donor star, determine the interstellar extinction, distance, and system geometry, and constrain the component masses. Multi-site $r$ -band and clear-filter light curves and WHT/ACAM spectra from the 2012 outburst are combined with time-series spectroscopy from GTC/OSIRIS and VLT/FORS2 in quiescence.  Period searches are conducted using generalised Lomb–Scargle, phase-dispersion minimisation, and analysis-of-variance algorithms. Diffuse interstellar bands constrain $E(B\\!-\\!V)$ , while empirical correlations involving $\\Ha$ yield estimates of $K_2$ , $q$ , and $i$ . We detect a coherent, double-humped modulation with a period of $0.0941\\pm0.0007$ d ( $2.26\\pm0.02$ h) during the outburst. Its morphology is consistent with an early superhump, suggesting that the true orbital period may be slightly shorter than 4.52 h. The $\\Ha$ radial velocity curves do not yield a definitive orbital period. In quiescence, TiO bands indicate an M3--M3.5 donor contributing $\\simeq\\!70\\%$ of the red continuum. Diffuse interstellar bands give $E(B\\!-\\!V)=0.60\\pm0.05$ and $N_{\\mathrm{H}}=(3.9\\pm1.3)\\times10^{21}$ cm $^{-2}$ , placing the system at a distance of 2.8–4.0 kpc. The $\\Ha$ line width in quiescence ( $\\mathrm{FWHM}_0 = 990\\pm45$ $\\kms$ ), via a FWHM- $K_2$ calibration, provides an estimate of $K_2$ , while its double-peaked profile gives $q$ and the orbital inclination. The latter appears much higher than estimates from X-ray studies. Adopting the resulting $K_{2}=230\\pm17$ $\\kms$ and $q=0.032\\pm0.010$ , and two orbital period scenarios (2.25 and 4.50 \\; h), Monte Carlo sampling returns a compact object mass $M_{1}=8$ -- $11$ $\\Msun$ and an inclination $i = 13^{\\circ}$ – $18^{\\circ}$ for plausible donor masses ( $M_{2}=0.25$ -- $0.35$ $\\Msun$ ). We favour an orbital period of 4.5 \\; h. $\\sw$ may be a short-period, low-inclination black hole X-ray transient, although a neutron star accretor cannot be completely ruled out. Further phase-resolved spectroscopy and photometry during quiescence are needed to better determine its fundamental parameters.\n",
       "\n",
       "</div>\n",
       "\n",
       "<div id=\"div_fig1\">\n",
       "\n",
       "<img src=\"tmp_2508.16775/./figures/fig_SwiftJ1910_I_BESS_1.2arcmin_FORS2.png\" alt=\"Fig1\" width=\"100%\"/>\n",
       "\n",
       "**Figure 1. -** VLT/FORS2 $I$-band acquisition image obtained during quiescence. $\\jj$ is marked with a red cross at the centre of the 1.2$\\arcmin$ field. North is up, east is to the left.\n",
       "     (*fig:fc*)\n",
       "\n",
       "</div>\n",
       "<div id=\"div_fig2\">\n",
       "\n",
       "<img src=\"tmp_2508.16775/./figures/fig_j1910_smarts_wfc_sdssr_GLS_n1_n2_n3_NEW.png\" alt=\"Fig7\" width=\"100%\"/>\n",
       "\n",
       "**Figure 7. -** Top panel: $r$-band light curves from SMARTS 0.9-m and INT/WFC, expressed as flux ratios and magnitudes, relative to the comparison star. Middle panels: SMARTS light curve (top left) and INT/WFC light curves from the first three nights when $\\jj$ maintained an almost constant flux level, after subtracting the nightly averages. The red dashed curve represents the best-fit sine wave with a period corresponding to the highest peak in the periodogram shown below. Bottom left panel: GLS periodogram of the four $r$-band light curves displayed in the middle panels (4, 9, 10, and 11 Jun 2012). The highest peak corresponds to a period of $0.0941$\\;d ($= 2.26$\\;h). Bottom middle and right panels: The four light curves folded on this period and twice that value. The pale blue points represent the unbinned data, while the purple points are binned data across 40 phase intervals. Zero phase corresponds to the HJD of the first data point, and a full cycle is repeated for continuity. (*j1910_mnras_fig_GLS_01*)\n",
       "\n",
       "</div>\n",
       "<div id=\"div_fig3\">\n",
       "\n",
       "<img src=\"tmp_2508.16775/./figures/fig_j1910_Ha_osiris_fors2_period_vs_Gauss_sep.png\" alt=\"Fig3\" width=\"100%\"/>\n",
       "\n",
       "**Figure 3. -** Top panel: Best sine-fit periods derived from the radial velocity curves of the $\\Ha$ emission line in the OSIRIS spectra, as a function of the double-Gaussian separation used in the velocity extraction. The shaded horizontal band indicates the periods derived from the light curves. Error bars represent 1$\\sigma$ uncertainties. Bottom panel: Periods corresponding to the highest peaks in the GLS (blue circles) and AOV (orange squares) periodograms derived from the quiescent FORS2 $\\Ha$ radial velocity curves, as a function of the Gaussian separation used to extract the velocities. The period search was restricted to the range 0.068--0.25\\;d. The lower shaded horizontal band marks the periods observed in the photometric light curves, while the upper band corresponds to twice these values. (*fig:j1910_mnras_fig_Ha_RVC*)\n",
       "\n",
       "</div><div id=\"qrcode\"><img src=https://api.qrserver.com/v1/create-qr-code/?size=100x100&data=\"https://arxiv.org/abs/2508.16775\"></div>"
      ],
      "text/plain": [
       "<IPython.core.display.Markdown object>"
      ]
     },
     "metadata": {},
     "output_type": "display_data"
    }
   ],
   "source": [
    "[display(Markdown(k[1])) for k in documents];"
   ]
  },
  {
   "cell_type": "markdown",
   "id": "873873a4",
   "metadata": {
    "papermill": {
     "duration": 0.005172,
     "end_time": "2025-08-26T04:15:17.766278",
     "exception": false,
     "start_time": "2025-08-26T04:15:17.761106",
     "status": "completed"
    },
    "tags": []
   },
   "source": [
    "# Create HTML index"
   ]
  },
  {
   "cell_type": "code",
   "execution_count": 10,
   "id": "cf665672",
   "metadata": {
    "execution": {
     "iopub.execute_input": "2025-08-26T04:15:17.777642Z",
     "iopub.status.busy": "2025-08-26T04:15:17.777376Z",
     "iopub.status.idle": "2025-08-26T04:15:17.784736Z",
     "shell.execute_reply": "2025-08-26T04:15:17.784175Z"
    },
    "papermill": {
     "duration": 0.014351,
     "end_time": "2025-08-26T04:15:17.785763",
     "exception": false,
     "start_time": "2025-08-26T04:15:17.771412",
     "status": "completed"
    },
    "tags": []
   },
   "outputs": [
    {
     "name": "stdout",
     "output_type": "stream",
     "text": [
      "127  publications files modified in the last 7 days.\n"
     ]
    }
   ],
   "source": [
    "from datetime import datetime, timedelta, timezone\n",
    "from glob import glob\n",
    "import os\n",
    "\n",
    "files = glob('_build/html/*.md')\n",
    "days = 7\n",
    "now = datetime.today()\n",
    "res = []\n",
    "for fk in files:\n",
    "    stat_result = os.stat(fk).st_ctime\n",
    "    modified = datetime.fromtimestamp(stat_result, tz=timezone.utc).replace(tzinfo=None)\n",
    "    delta = now.today() - modified\n",
    "    if delta <= timedelta(days=days):\n",
    "        res.append((delta.seconds, fk))\n",
    "res = [k[1] for k in reversed(sorted(res, key=lambda x:x[1]))]\n",
    "npub = len(res)\n",
    "print(len(res), f\" publications files modified in the last {days:d} days.\")\n",
    "# [ print('\\t', k) for k in res ];"
   ]
  },
  {
   "cell_type": "code",
   "execution_count": 11,
   "id": "015de740",
   "metadata": {
    "execution": {
     "iopub.execute_input": "2025-08-26T04:15:17.797207Z",
     "iopub.status.busy": "2025-08-26T04:15:17.796999Z",
     "iopub.status.idle": "2025-08-26T04:15:17.809179Z",
     "shell.execute_reply": "2025-08-26T04:15:17.808591Z"
    },
    "papermill": {
     "duration": 0.019017,
     "end_time": "2025-08-26T04:15:17.810207",
     "exception": false,
     "start_time": "2025-08-26T04:15:17.791190",
     "status": "completed"
    },
    "tags": []
   },
   "outputs": [
    {
     "name": "stdout",
     "output_type": "stream",
     "text": [
      "6  publications in the last 7 days.\n"
     ]
    }
   ],
   "source": [
    "import datetime\n",
    "from glob import glob\n",
    "\n",
    "def get_last_n_days(lst, days=1):\n",
    "    \"\"\" Get the documents from the last n days \"\"\"\n",
    "    sorted_lst = sorted(lst, key=lambda x: x[1], reverse=True)\n",
    "    for fname, date in sorted_lst:\n",
    "        if date >= str(datetime.date.today() - datetime.timedelta(days=days)):\n",
    "            yield fname\n",
    "\n",
    "def extract_appearance_dates(lst_file):\n",
    "    dates = []\n",
    "\n",
    "    def get_date(line):\n",
    "        return line\\\n",
    "            .split('Appeared on:')[-1]\\\n",
    "            .split('</mark>')[0].strip()\n",
    "\n",
    "    for fname in lst:\n",
    "        with open(fname, 'r') as f:\n",
    "            found_date = False\n",
    "            for line in f:\n",
    "                if not found_date:\n",
    "                    if \"Appeared on\" in line:\n",
    "                        found_date = True\n",
    "                        dates.append((fname, get_date(line)))\n",
    "                else:\n",
    "                    break\n",
    "    return dates\n",
    "\n",
    "from glob import glob\n",
    "lst = glob('_build/html/*md')\n",
    "days = 7\n",
    "dates = extract_appearance_dates(lst)\n",
    "res = list(get_last_n_days(dates, days))\n",
    "npub = len(res)\n",
    "print(len(res), f\" publications in the last {days:d} days.\")"
   ]
  },
  {
   "cell_type": "code",
   "execution_count": 12,
   "id": "52ca0208",
   "metadata": {
    "execution": {
     "iopub.execute_input": "2025-08-26T04:15:17.822054Z",
     "iopub.status.busy": "2025-08-26T04:15:17.821786Z",
     "iopub.status.idle": "2025-08-26T04:15:17.826992Z",
     "shell.execute_reply": "2025-08-26T04:15:17.826422Z"
    },
    "papermill": {
     "duration": 0.012278,
     "end_time": "2025-08-26T04:15:17.828009",
     "exception": false,
     "start_time": "2025-08-26T04:15:17.815731",
     "status": "completed"
    },
    "scrolled": false,
    "tags": []
   },
   "outputs": [],
   "source": [
    "def create_carousel(npub=4):\n",
    "    \"\"\" Generate the HTML code for a carousel with `npub` slides \"\"\"\n",
    "    carousel = [\"\"\"  <div class=\"carousel\" \"\"\",\n",
    "                \"\"\"       data-flickity='{ \"autoPlay\": 10000, \"adaptiveHeight\": true, \"resize\": true, \"wrapAround\": true, \"pauseAutoPlayOnHover\": true, \"groupCells\": 1 }' id=\"asyncTypeset\">\"\"\"\n",
    "                ]\n",
    "    \n",
    "    item_str = \"\"\"    <div class=\"carousel-cell\"> <div id=\"slide{k}\" class=\"md_view\">Content {k}</div> </div>\"\"\"\n",
    "    for k in range(1, npub + 1):\n",
    "        carousel.append(item_str.format(k=k))\n",
    "    carousel.append(\"  </div>\")\n",
    "    return '\\n'.join(carousel)\n",
    "\n",
    "def create_grid(npub=4):\n",
    "    \"\"\" Generate the HTML code for a flat grid with `npub` slides \"\"\"\n",
    "    grid = [\"\"\"  <div class=\"grid\"> \"\"\",\n",
    "                ]\n",
    "    \n",
    "    item_str = \"\"\"    <div class=\"grid-item\"> <div id=\"slide{k}\" class=\"md_view\">Content {k}</div> </div>\"\"\"\n",
    "    for k in range(1, npub + 1):\n",
    "        grid.append(item_str.format(k=k))\n",
    "    grid.append(\"  </div>\")\n",
    "    return '\\n'.join(grid)"
   ]
  },
  {
   "cell_type": "code",
   "execution_count": 13,
   "id": "a6eac5b6",
   "metadata": {
    "execution": {
     "iopub.execute_input": "2025-08-26T04:15:17.839714Z",
     "iopub.status.busy": "2025-08-26T04:15:17.839497Z",
     "iopub.status.idle": "2025-08-26T04:15:17.844658Z",
     "shell.execute_reply": "2025-08-26T04:15:17.844036Z"
    },
    "papermill": {
     "duration": 0.012256,
     "end_time": "2025-08-26T04:15:17.845724",
     "exception": false,
     "start_time": "2025-08-26T04:15:17.833468",
     "status": "completed"
    },
    "scrolled": false,
    "tags": []
   },
   "outputs": [],
   "source": [
    "carousel = create_carousel(npub)\n",
    "docs = ', '.join(['\"{0:s}\"'.format(k.split('/')[-1]) for k in res])\n",
    "slides = ', '.join([f'\"slide{k}\"' for k in range(1, npub + 1)])\n",
    "\n",
    "with open(\"daily_template.html\", \"r\") as tpl:\n",
    "    page = tpl.read()\n",
    "    page = page.replace(\"{%-- carousel:s --%}\", carousel)\\\n",
    "               .replace(\"{%-- suptitle:s --%}\",  \"7-day archives\" )\\\n",
    "               .replace(\"{%-- docs:s --%}\", docs)\\\n",
    "               .replace(\"{%-- slides:s --%}\", slides)\n",
    "    \n",
    "with open(\"_build/html/index_7days.html\", 'w') as fout:\n",
    "    fout.write(page)"
   ]
  },
  {
   "cell_type": "code",
   "execution_count": 14,
   "id": "adc1a1ec",
   "metadata": {
    "execution": {
     "iopub.execute_input": "2025-08-26T04:15:17.857461Z",
     "iopub.status.busy": "2025-08-26T04:15:17.857241Z",
     "iopub.status.idle": "2025-08-26T04:15:17.863738Z",
     "shell.execute_reply": "2025-08-26T04:15:17.863174Z"
    },
    "papermill": {
     "duration": 0.013509,
     "end_time": "2025-08-26T04:15:17.864723",
     "exception": false,
     "start_time": "2025-08-26T04:15:17.851214",
     "status": "completed"
    },
    "tags": []
   },
   "outputs": [
    {
     "name": "stdout",
     "output_type": "stream",
     "text": [
      "3  publications in the last day.\n"
     ]
    }
   ],
   "source": [
    "# redo for today\n",
    "days = 1\n",
    "res = list(get_last_n_days(dates, days))\n",
    "npub = len(res)\n",
    "print(len(res), f\" publications in the last day.\")\n",
    "\n",
    "carousel = create_carousel(npub)\n",
    "docs = ', '.join(['\"{0:s}\"'.format(k.split('/')[-1]) for k in res])\n",
    "slides = ', '.join([f'\"slide{k}\"' for k in range(1, npub + 1)])\n",
    "\n",
    "with open(\"daily_template.html\", \"r\") as tpl:\n",
    "    page = tpl.read()\n",
    "    page = page.replace(\"{%-- carousel:s --%}\", carousel)\\\n",
    "               .replace(\"{%-- suptitle:s --%}\",  \"Daily\" )\\\n",
    "               .replace(\"{%-- docs:s --%}\", docs)\\\n",
    "               .replace(\"{%-- slides:s --%}\", slides)\n",
    "    \n",
    "# print(carousel, docs, slides)\n",
    "# print(page)\n",
    "with open(\"_build/html/index_daily.html\", 'w') as fout:\n",
    "    fout.write(page)"
   ]
  },
  {
   "cell_type": "code",
   "execution_count": 15,
   "id": "00eece82",
   "metadata": {
    "execution": {
     "iopub.execute_input": "2025-08-26T04:15:17.877006Z",
     "iopub.status.busy": "2025-08-26T04:15:17.876711Z",
     "iopub.status.idle": "2025-08-26T04:15:17.883554Z",
     "shell.execute_reply": "2025-08-26T04:15:17.882981Z"
    },
    "papermill": {
     "duration": 0.014162,
     "end_time": "2025-08-26T04:15:17.884601",
     "exception": false,
     "start_time": "2025-08-26T04:15:17.870439",
     "status": "completed"
    },
    "scrolled": false,
    "tags": []
   },
   "outputs": [
    {
     "name": "stdout",
     "output_type": "stream",
     "text": [
      "6  6 publications selected.\n"
     ]
    }
   ],
   "source": [
    "# Create the flat grid of the last N papers (fixed number regardless of dates)\n",
    "from itertools import islice \n",
    "\n",
    "npub = 6\n",
    "res = [k[0] for k in (islice(reversed(sorted(dates, key=lambda x: x[1])), 6))]\n",
    "print(len(res), f\" {npub} publications selected.\")\n",
    "\n",
    "grid = create_grid(npub)\n",
    "docs = ', '.join(['\"{0:s}\"'.format(k.split('/')[-1]) for k in res])\n",
    "slides = ', '.join([f'\"slide{k}\"' for k in range(1, npub + 1)])\n",
    "\n",
    "with open(\"grid_template.html\", \"r\") as tpl:\n",
    "    page = tpl.read()\n",
    "    page = page.replace(\"{%-- grid-content:s --%}\", grid)\\\n",
    "               .replace(\"{%-- suptitle:s --%}\",  f\"Last {npub:,d} papers\" )\\\n",
    "               .replace(\"{%-- docs:s --%}\", docs)\\\n",
    "               .replace(\"{%-- slides:s --%}\", slides)\n",
    "    \n",
    "# print(grid, docs, slides)\n",
    "# print(page)\n",
    "with open(\"_build/html/index_npub_grid.html\", 'w') as fout:\n",
    "    fout.write(page)"
   ]
  }
 ],
 "metadata": {
  "kernelspec": {
   "display_name": "Python 3 (ipykernel)",
   "language": "python",
   "name": "python3"
  },
  "language_info": {
   "codemirror_mode": {
    "name": "ipython",
    "version": 3
   },
   "file_extension": ".py",
   "mimetype": "text/x-python",
   "name": "python",
   "nbconvert_exporter": "python",
   "pygments_lexer": "ipython3",
   "version": "3.9.23"
  },
  "papermill": {
   "default_parameters": {},
   "duration": 50.003823,
   "end_time": "2025-08-26T04:15:18.105635",
   "environment_variables": {},
   "exception": null,
   "input_path": "MPIA daily digest.ipynb",
   "output_path": "log.ipynb",
   "parameters": {},
   "start_time": "2025-08-26T04:14:28.101812",
   "version": "2.6.0"
  },
  "vscode": {
   "interpreter": {
    "hash": "aee8b7b246df8f9039afb4144a1f6fd8d2ca17a180786b69acc140d282b71a49"
   }
  },
  "widgets": {
   "application/vnd.jupyter.widget-state+json": {
    "state": {
     "05c216dd705b4b53aec496adc4f4215e": {
      "model_module": "@jupyter-widgets/base",
      "model_module_version": "2.0.0",
      "model_name": "LayoutModel",
      "state": {
       "_model_module": "@jupyter-widgets/base",
       "_model_module_version": "2.0.0",
       "_model_name": "LayoutModel",
       "_view_count": null,
       "_view_module": "@jupyter-widgets/base",
       "_view_module_version": "2.0.0",
       "_view_name": "LayoutView",
       "align_content": null,
       "align_items": null,
       "align_self": null,
       "border_bottom": null,
       "border_left": null,
       "border_right": null,
       "border_top": null,
       "bottom": null,
       "display": null,
       "flex": null,
       "flex_flow": null,
       "grid_area": null,
       "grid_auto_columns": null,
       "grid_auto_flow": null,
       "grid_auto_rows": null,
       "grid_column": null,
       "grid_gap": null,
       "grid_row": null,
       "grid_template_areas": null,
       "grid_template_columns": null,
       "grid_template_rows": null,
       "height": null,
       "justify_content": null,
       "justify_items": null,
       "left": null,
       "margin": null,
       "max_height": null,
       "max_width": null,
       "min_height": null,
       "min_width": null,
       "object_fit": null,
       "object_position": null,
       "order": null,
       "overflow": null,
       "padding": null,
       "right": null,
       "top": null,
       "visibility": null,
       "width": null
      }
     },
     "11a0d2fb519e44cf9c4bf52b6d4cebb8": {
      "model_module": "@jupyter-widgets/controls",
      "model_module_version": "2.0.0",
      "model_name": "FloatProgressModel",
      "state": {
       "_dom_classes": [],
       "_model_module": "@jupyter-widgets/controls",
       "_model_module_version": "2.0.0",
       "_model_name": "FloatProgressModel",
       "_view_count": null,
       "_view_module": "@jupyter-widgets/controls",
       "_view_module_version": "2.0.0",
       "_view_name": "ProgressView",
       "bar_style": "success",
       "description": "",
       "description_allow_html": false,
       "layout": "IPY_MODEL_4eab370109964a918fbafff6525baf33",
       "max": 7.0,
       "min": 0.0,
       "orientation": "horizontal",
       "style": "IPY_MODEL_a9a8aa67fe8e448fa5978b233496035b",
       "tabbable": null,
       "tooltip": null,
       "value": 7.0
      }
     },
     "155dc08097ad4306ad06abe683036311": {
      "model_module": "@jupyter-widgets/base",
      "model_module_version": "2.0.0",
      "model_name": "LayoutModel",
      "state": {
       "_model_module": "@jupyter-widgets/base",
       "_model_module_version": "2.0.0",
       "_model_name": "LayoutModel",
       "_view_count": null,
       "_view_module": "@jupyter-widgets/base",
       "_view_module_version": "2.0.0",
       "_view_name": "LayoutView",
       "align_content": null,
       "align_items": null,
       "align_self": null,
       "border_bottom": null,
       "border_left": null,
       "border_right": null,
       "border_top": null,
       "bottom": null,
       "display": null,
       "flex": null,
       "flex_flow": null,
       "grid_area": null,
       "grid_auto_columns": null,
       "grid_auto_flow": null,
       "grid_auto_rows": null,
       "grid_column": null,
       "grid_gap": null,
       "grid_row": null,
       "grid_template_areas": null,
       "grid_template_columns": null,
       "grid_template_rows": null,
       "height": null,
       "justify_content": null,
       "justify_items": null,
       "left": null,
       "margin": null,
       "max_height": null,
       "max_width": null,
       "min_height": null,
       "min_width": null,
       "object_fit": null,
       "object_position": null,
       "order": null,
       "overflow": null,
       "padding": null,
       "right": null,
       "top": null,
       "visibility": null,
       "width": null
      }
     },
     "2de1a6c0859a41e5aad760bec3836c18": {
      "model_module": "@jupyter-widgets/controls",
      "model_module_version": "2.0.0",
      "model_name": "HTMLModel",
      "state": {
       "_dom_classes": [],
       "_model_module": "@jupyter-widgets/controls",
       "_model_module_version": "2.0.0",
       "_model_name": "HTMLModel",
       "_view_count": null,
       "_view_module": "@jupyter-widgets/controls",
       "_view_module_version": "2.0.0",
       "_view_name": "HTMLView",
       "description": "",
       "description_allow_html": false,
       "layout": "IPY_MODEL_fa7b0eec1e7b4decac0caf74abebad1e",
       "placeholder": "​",
       "style": "IPY_MODEL_fd5557a7025d43f0a0fdf72989ac0d0a",
       "tabbable": null,
       "tooltip": null,
       "value": " 7/7 [00:23&lt;00:00,  1.95s/it]"
      }
     },
     "3dd7c6e73c6f4e0f920feff2231a446c": {
      "model_module": "@jupyter-widgets/controls",
      "model_module_version": "2.0.0",
      "model_name": "HTMLStyleModel",
      "state": {
       "_model_module": "@jupyter-widgets/controls",
       "_model_module_version": "2.0.0",
       "_model_name": "HTMLStyleModel",
       "_view_count": null,
       "_view_module": "@jupyter-widgets/base",
       "_view_module_version": "2.0.0",
       "_view_name": "StyleView",
       "background": null,
       "description_width": "",
       "font_size": null,
       "text_color": null
      }
     },
     "4eab370109964a918fbafff6525baf33": {
      "model_module": "@jupyter-widgets/base",
      "model_module_version": "2.0.0",
      "model_name": "LayoutModel",
      "state": {
       "_model_module": "@jupyter-widgets/base",
       "_model_module_version": "2.0.0",
       "_model_name": "LayoutModel",
       "_view_count": null,
       "_view_module": "@jupyter-widgets/base",
       "_view_module_version": "2.0.0",
       "_view_name": "LayoutView",
       "align_content": null,
       "align_items": null,
       "align_self": null,
       "border_bottom": null,
       "border_left": null,
       "border_right": null,
       "border_top": null,
       "bottom": null,
       "display": null,
       "flex": null,
       "flex_flow": null,
       "grid_area": null,
       "grid_auto_columns": null,
       "grid_auto_flow": null,
       "grid_auto_rows": null,
       "grid_column": null,
       "grid_gap": null,
       "grid_row": null,
       "grid_template_areas": null,
       "grid_template_columns": null,
       "grid_template_rows": null,
       "height": null,
       "justify_content": null,
       "justify_items": null,
       "left": null,
       "margin": null,
       "max_height": null,
       "max_width": null,
       "min_height": null,
       "min_width": null,
       "object_fit": null,
       "object_position": null,
       "order": null,
       "overflow": null,
       "padding": null,
       "right": null,
       "top": null,
       "visibility": null,
       "width": null
      }
     },
     "a9a8aa67fe8e448fa5978b233496035b": {
      "model_module": "@jupyter-widgets/controls",
      "model_module_version": "2.0.0",
      "model_name": "ProgressStyleModel",
      "state": {
       "_model_module": "@jupyter-widgets/controls",
       "_model_module_version": "2.0.0",
       "_model_name": "ProgressStyleModel",
       "_view_count": null,
       "_view_module": "@jupyter-widgets/base",
       "_view_module_version": "2.0.0",
       "_view_name": "StyleView",
       "bar_color": null,
       "description_width": ""
      }
     },
     "ae0e9016ce254985846020559423b99f": {
      "model_module": "@jupyter-widgets/controls",
      "model_module_version": "2.0.0",
      "model_name": "HTMLModel",
      "state": {
       "_dom_classes": [],
       "_model_module": "@jupyter-widgets/controls",
       "_model_module_version": "2.0.0",
       "_model_name": "HTMLModel",
       "_view_count": null,
       "_view_module": "@jupyter-widgets/controls",
       "_view_module_version": "2.0.0",
       "_view_name": "HTMLView",
       "description": "",
       "description_allow_html": false,
       "layout": "IPY_MODEL_05c216dd705b4b53aec496adc4f4215e",
       "placeholder": "​",
       "style": "IPY_MODEL_3dd7c6e73c6f4e0f920feff2231a446c",
       "tabbable": null,
       "tooltip": null,
       "value": "100%"
      }
     },
     "e37a147139784485bbe833eff5edd639": {
      "model_module": "@jupyter-widgets/controls",
      "model_module_version": "2.0.0",
      "model_name": "HBoxModel",
      "state": {
       "_dom_classes": [],
       "_model_module": "@jupyter-widgets/controls",
       "_model_module_version": "2.0.0",
       "_model_name": "HBoxModel",
       "_view_count": null,
       "_view_module": "@jupyter-widgets/controls",
       "_view_module_version": "2.0.0",
       "_view_name": "HBoxView",
       "box_style": "",
       "children": [
        "IPY_MODEL_ae0e9016ce254985846020559423b99f",
        "IPY_MODEL_11a0d2fb519e44cf9c4bf52b6d4cebb8",
        "IPY_MODEL_2de1a6c0859a41e5aad760bec3836c18"
       ],
       "layout": "IPY_MODEL_155dc08097ad4306ad06abe683036311",
       "tabbable": null,
       "tooltip": null
      }
     },
     "fa7b0eec1e7b4decac0caf74abebad1e": {
      "model_module": "@jupyter-widgets/base",
      "model_module_version": "2.0.0",
      "model_name": "LayoutModel",
      "state": {
       "_model_module": "@jupyter-widgets/base",
       "_model_module_version": "2.0.0",
       "_model_name": "LayoutModel",
       "_view_count": null,
       "_view_module": "@jupyter-widgets/base",
       "_view_module_version": "2.0.0",
       "_view_name": "LayoutView",
       "align_content": null,
       "align_items": null,
       "align_self": null,
       "border_bottom": null,
       "border_left": null,
       "border_right": null,
       "border_top": null,
       "bottom": null,
       "display": null,
       "flex": null,
       "flex_flow": null,
       "grid_area": null,
       "grid_auto_columns": null,
       "grid_auto_flow": null,
       "grid_auto_rows": null,
       "grid_column": null,
       "grid_gap": null,
       "grid_row": null,
       "grid_template_areas": null,
       "grid_template_columns": null,
       "grid_template_rows": null,
       "height": null,
       "justify_content": null,
       "justify_items": null,
       "left": null,
       "margin": null,
       "max_height": null,
       "max_width": null,
       "min_height": null,
       "min_width": null,
       "object_fit": null,
       "object_position": null,
       "order": null,
       "overflow": null,
       "padding": null,
       "right": null,
       "top": null,
       "visibility": null,
       "width": null
      }
     },
     "fd5557a7025d43f0a0fdf72989ac0d0a": {
      "model_module": "@jupyter-widgets/controls",
      "model_module_version": "2.0.0",
      "model_name": "HTMLStyleModel",
      "state": {
       "_model_module": "@jupyter-widgets/controls",
       "_model_module_version": "2.0.0",
       "_model_name": "HTMLStyleModel",
       "_view_count": null,
       "_view_module": "@jupyter-widgets/base",
       "_view_module_version": "2.0.0",
       "_view_name": "StyleView",
       "background": null,
       "description_width": "",
       "font_size": null,
       "text_color": null
      }
     }
    },
    "version_major": 2,
    "version_minor": 0
   }
  }
 },
 "nbformat": 4,
 "nbformat_minor": 5
}