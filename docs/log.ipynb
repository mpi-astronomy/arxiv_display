{
 "cells": [
  {
   "cell_type": "markdown",
   "id": "92bcb855",
   "metadata": {
    "papermill": {
     "duration": 0.005329,
     "end_time": "2022-10-07T04:40:31.077292",
     "exception": false,
     "start_time": "2022-10-07T04:40:31.071963",
     "status": "completed"
    },
    "tags": []
   },
   "source": [
    "# MPIA Arxiv on Deck 2\n",
    "\n",
    "Contains the steps to produce the paper extractions."
   ]
  },
  {
   "cell_type": "code",
   "execution_count": 1,
   "id": "3a0d6e11",
   "metadata": {
    "execution": {
     "iopub.execute_input": "2022-10-07T04:40:31.087058Z",
     "iopub.status.busy": "2022-10-07T04:40:31.086364Z",
     "iopub.status.idle": "2022-10-07T04:40:31.255434Z",
     "shell.execute_reply": "2022-10-07T04:40:31.254677Z"
    },
    "papermill": {
     "duration": 0.17616,
     "end_time": "2022-10-07T04:40:31.257577",
     "exception": false,
     "start_time": "2022-10-07T04:40:31.081417",
     "status": "completed"
    },
    "tags": []
   },
   "outputs": [],
   "source": [
    "# Imports\n",
    "import os\n",
    "from IPython.display import Markdown, display\n",
    "from tqdm.notebook import tqdm\n",
    "import warnings\n",
    "from PIL import Image \n",
    "\n",
    "# requires arxiv_on_deck_2\n",
    "\n",
    "from arxiv_on_deck_2.arxiv2 import (get_new_papers, \n",
    "                                    get_paper_from_identifier,\n",
    "                                    retrieve_document_source, \n",
    "                                    get_markdown_badge)\n",
    "from arxiv_on_deck_2 import (latex, \n",
    "                             mpia,\n",
    "                             highlight_authors_in_list)\n",
    "\n",
    "# Sometimes images are really big\n",
    "Image.MAX_IMAGE_PIXELS = 1000000000 "
   ]
  },
  {
   "cell_type": "code",
   "execution_count": 2,
   "id": "22aa9d44",
   "metadata": {
    "execution": {
     "iopub.execute_input": "2022-10-07T04:40:31.266948Z",
     "iopub.status.busy": "2022-10-07T04:40:31.266721Z",
     "iopub.status.idle": "2022-10-07T04:40:31.272776Z",
     "shell.execute_reply": "2022-10-07T04:40:31.272031Z"
    },
    "papermill": {
     "duration": 0.012935,
     "end_time": "2022-10-07T04:40:31.274592",
     "exception": false,
     "start_time": "2022-10-07T04:40:31.261657",
     "status": "completed"
    },
    "tags": []
   },
   "outputs": [],
   "source": [
    "# Some useful definitions.\n",
    "\n",
    "class AffiliationWarning(UserWarning):\n",
    "    pass\n",
    "\n",
    "class AffiliationError(RuntimeError):\n",
    "    pass\n",
    "\n",
    "def validation(source: str):\n",
    "    \"\"\"Raises error paper during parsing of source file\n",
    "    \n",
    "    Allows checks before parsing TeX code.\n",
    "    \n",
    "    Raises AffiliationWarning\n",
    "    \"\"\"\n",
    "    check = mpia.affiliation_verifications(source, verbose=True)\n",
    "    if check is not True:\n",
    "        raise AffiliationError(\"mpia.affiliation_verifications: \" + check)\n",
    "\n",
    "        \n",
    "warnings.simplefilter('always', AffiliationWarning)"
   ]
  },
  {
   "cell_type": "code",
   "execution_count": 3,
   "id": "14622700",
   "metadata": {
    "execution": {
     "iopub.execute_input": "2022-10-07T04:40:31.284906Z",
     "iopub.status.busy": "2022-10-07T04:40:31.284361Z",
     "iopub.status.idle": "2022-10-07T04:40:31.288232Z",
     "shell.execute_reply": "2022-10-07T04:40:31.287471Z"
    },
    "papermill": {
     "duration": 0.012112,
     "end_time": "2022-10-07T04:40:31.290152",
     "exception": false,
     "start_time": "2022-10-07T04:40:31.278040",
     "status": "completed"
    },
    "tags": []
   },
   "outputs": [],
   "source": [
    "# additional CSS to consider. \n",
    "# TODO: Current into each exported file. \n",
    "#       This should be set once into the webpages directly.\n",
    "#       With only the class/id definitions in the .md files.\n",
    "\n",
    "debug_html = \"\"\"\n",
    "<style>\n",
    "#wrap{ overflow:auto; }\n",
    "#fig1{ background:yellow; width:100%; float:left; padding:5px;  }\n",
    "#fig2{ background:red; width:50%; float:left; clear:left; padding:5px;  }\n",
    "#fig3{ background:green; width:50%; float:left; padding:5px;   }\n",
    ".macros{ background:yellow; visibility:visible;}\n",
    "h1 {margin: 0 0 0 0;}\n",
    "mark {background-color:#fff3b6;}\n",
    "img {object-fit:contain; max-height:250px; display:inline-block; text-align: center;}\n",
    "</style>\n",
    "\"\"\" \n",
    "html = \"\"\"\n",
    "<style>\n",
    "#wrap{ overflow:auto; }\n",
    "#fig1{ width:100%; float:left; padding: 5px;  }\n",
    "#fig2{ width:50%; float:left; clear:left; padding: 5px;  }\n",
    "#fig3{ width:50%; float:left; padding: 5px;  }\n",
    ".macros{ visibility:hidden; height:0px; }\n",
    "h1 {margin: 0em 0 0 0;}\n",
    "mark {background-color:#fff3b6;}\n",
    "img {object-fit:contain; max-height:250px; display:inline-block; text-align: center;}\n",
    "</style>\n",
    "\"\"\""
   ]
  },
  {
   "cell_type": "markdown",
   "id": "14bd6310",
   "metadata": {
    "papermill": {
     "duration": 0.0038,
     "end_time": "2022-10-07T04:40:31.297749",
     "exception": false,
     "start_time": "2022-10-07T04:40:31.293949",
     "status": "completed"
    },
    "tags": []
   },
   "source": [
    "## get list of arxiv paper candidates\n",
    "\n",
    "We use the MPIA mitarbeiter list webpage from mpia.de to get author names\n",
    "We then get all new papers from Arxiv and match authors"
   ]
  },
  {
   "cell_type": "code",
   "execution_count": 4,
   "id": "2645e73a",
   "metadata": {
    "execution": {
     "iopub.execute_input": "2022-10-07T04:40:31.306607Z",
     "iopub.status.busy": "2022-10-07T04:40:31.306384Z",
     "iopub.status.idle": "2022-10-07T04:40:59.777643Z",
     "shell.execute_reply": "2022-10-07T04:40:59.776977Z"
    },
    "papermill": {
     "duration": 28.478422,
     "end_time": "2022-10-07T04:40:59.779962",
     "exception": false,
     "start_time": "2022-10-07T04:40:31.301540",
     "status": "completed"
    },
    "tags": []
   },
   "outputs": [
    {
     "name": "stdout",
     "output_type": "stream",
     "text": [
      "Arxiv has 54 new papers today\n",
      "          21 with possible author matches\n"
     ]
    }
   ],
   "source": [
    "# get list from MPIA website\n",
    "# it automatically filters identified non-scientists :func:`mpia.filter_non_scientists`\n",
    "mpia_authors = mpia.get_mpia_mitarbeiter_list()\n",
    "new_papers = get_new_papers()\n",
    "# add manual references\n",
    "add_paper_refs = []\n",
    "new_papers.extend([get_paper_from_identifier(k) for k in add_paper_refs])\n",
    "\n",
    "# select only papers with matching author names and highlight authors\n",
    "hl_list = [k[0] for k in mpia_authors]\n",
    "\n",
    "candidates = []\n",
    "for paperk in new_papers:\n",
    "    hl_authors = highlight_authors_in_list(paperk['authors'], hl_list)\n",
    "    matches = [(hl, orig) for hl, orig in zip(hl_authors, paperk['authors']) if 'mark' in hl]\n",
    "    paperk['authors'] = hl_authors\n",
    "    if matches:\n",
    "        candidates.append(paperk)\n",
    "print(\"\"\"Arxiv has {0:,d} new papers today\"\"\".format(len(new_papers)))        \n",
    "print(\"\"\"          {0:,d} with possible author matches\"\"\".format(len(candidates)))"
   ]
  },
  {
   "cell_type": "markdown",
   "id": "3543b34a",
   "metadata": {
    "papermill": {
     "duration": 0.00409,
     "end_time": "2022-10-07T04:40:59.788702",
     "exception": false,
     "start_time": "2022-10-07T04:40:59.784612",
     "status": "completed"
    },
    "tags": []
   },
   "source": [
    "# Parse sources and generate relevant outputs\n",
    "\n",
    "From the candidates, we do the following steps:\n",
    "* get their tarball from ArXiv (and extract data)\n",
    "* find the main .tex file: find one with \\documentclass{...} (sometimes it's non trivial)\n",
    "* Check affiliations with :func:`validation`, which uses :func:`mpia.affiliation_verifications`\n",
    "* If passing the affiliations: we parse the .tex source\n",
    "   * inject sub-documents into the main (flatten the main document)\n",
    "   * parse structure, extract information (title, abstract, authors, figures...)\n",
    "   * handles `\\graphicspath` if provided\n",
    "* Generate the .md document."
   ]
  },
  {
   "cell_type": "code",
   "execution_count": 5,
   "id": "9576b79e",
   "metadata": {
    "execution": {
     "iopub.execute_input": "2022-10-07T04:40:59.798167Z",
     "iopub.status.busy": "2022-10-07T04:40:59.797933Z",
     "iopub.status.idle": "2022-10-07T04:42:08.200314Z",
     "shell.execute_reply": "2022-10-07T04:42:08.199280Z"
    },
    "papermill": {
     "duration": 68.410883,
     "end_time": "2022-10-07T04:42:08.203477",
     "exception": false,
     "start_time": "2022-10-07T04:40:59.792594",
     "status": "completed"
    },
    "scrolled": false,
    "tags": []
   },
   "outputs": [
    {
     "data": {
      "application/vnd.jupyter.widget-view+json": {
       "model_id": "ec4b9dc30de244b0a8d5008aea7854ed",
       "version_major": 2,
       "version_minor": 0
      },
      "text/plain": [
       "  0%|          | 0/20 [00:00<?, ?it/s]"
      ]
     },
     "metadata": {},
     "output_type": "display_data"
    },
    {
     "name": "stdout",
     "output_type": "stream",
     "text": [
      "Retrieving document from  https://arxiv.org/e-print/2210.02463\n"
     ]
    },
    {
     "name": "stdout",
     "output_type": "stream",
     "text": [
      "extracting tarball to tmp_2210.02463..."
     ]
    },
    {
     "name": "stdout",
     "output_type": "stream",
     "text": [
      " done.\n",
      "Retrieving document from  https://arxiv.org/e-print/2210.02465\n"
     ]
    },
    {
     "name": "stdout",
     "output_type": "stream",
     "text": [
      "extracting tarball to tmp_2210.02465..."
     ]
    },
    {
     "name": "stdout",
     "output_type": "stream",
     "text": [
      " done.\n",
      "Retrieving document from  https://arxiv.org/e-print/2210.02471\n"
     ]
    },
    {
     "name": "stdout",
     "output_type": "stream",
     "text": [
      "extracting tarball to tmp_2210.02471..."
     ]
    },
    {
     "name": "stdout",
     "output_type": "stream",
     "text": [
      " done.\n",
      "Retrieving document from  https://arxiv.org/e-print/2210.02484\n"
     ]
    },
    {
     "name": "stdout",
     "output_type": "stream",
     "text": [
      "extracting tarball to tmp_2210.02484..."
     ]
    },
    {
     "name": "stdout",
     "output_type": "stream",
     "text": [
      " done.\n",
      "Retrieving document from  https://arxiv.org/e-print/2210.02518\n"
     ]
    },
    {
     "name": "stdout",
     "output_type": "stream",
     "text": [
      "extracting tarball to tmp_2210.02518..."
     ]
    },
    {
     "name": "stdout",
     "output_type": "stream",
     "text": [
      " done.\n"
     ]
    },
    {
     "name": "stderr",
     "output_type": "stream",
     "text": [
      "/opt/hostedtoolcache/Python/3.9.14/x64/lib/python3.9/site-packages/arxiv_on_deck_2/latex.py:118: LatexWarning: attempting recovering figure ./bhmf-erdf-term.png\n",
      "  warnings.warn(LatexWarning(f'attempting recovering figure {image}'))\n",
      "/tmp/ipykernel_2370/4030337529.py:34: LatexWarning: 2210.02518 did not run properly\n",
      "Could not find figure ./bhmf-erdf-term.png\n",
      "  warnings.warn(latex.LatexWarning(f\"{paper_id:s} did not run properly\\n\" +\n"
     ]
    },
    {
     "name": "stdout",
     "output_type": "stream",
     "text": [
      "Retrieving document from  https://arxiv.org/e-print/2210.02554\n"
     ]
    },
    {
     "name": "stdout",
     "output_type": "stream",
     "text": [
      "extracting tarball to tmp_2210.02554..."
     ]
    },
    {
     "name": "stdout",
     "output_type": "stream",
     "text": [
      " done.\n",
      "Retrieving document from  https://arxiv.org/e-print/2210.02603\n"
     ]
    },
    {
     "name": "stderr",
     "output_type": "stream",
     "text": [
      "/opt/hostedtoolcache/Python/3.9.14/x64/lib/python3.9/site-packages/IPython/core/interactiveshell.py:3378: LatexWarning: Multiple tex files.\n",
      "\n",
      "  exec(code_obj, self.user_global_ns, self.user_ns)\n",
      "/opt/hostedtoolcache/Python/3.9.14/x64/lib/python3.9/site-packages/IPython/core/interactiveshell.py:3378: LatexWarning: Found documentclass in tmp_2210.02554/main.tex\n",
      "\n",
      "  exec(code_obj, self.user_global_ns, self.user_ns)\n",
      "/opt/hostedtoolcache/Python/3.9.14/x64/lib/python3.9/site-packages/arxiv_on_deck_2/latex.py:292: LatexWarning: Latex injecting: 'tables/tab_hostphot' from 'tmp_2210.02554/tables/tab_hostphot.tex'\n",
      "  warnings.warn(LatexWarning(f\"Latex injecting: '{ext}' from '{subsource}'\"))\n",
      "/opt/hostedtoolcache/Python/3.9.14/x64/lib/python3.9/site-packages/arxiv_on_deck_2/latex.py:292: LatexWarning: Latex injecting: 'tables/powerlaw_fits' from 'tmp_2210.02554/tables/powerlaw_fits.tex'\n",
      "  warnings.warn(LatexWarning(f\"Latex injecting: '{ext}' from '{subsource}'\"))\n",
      "/opt/hostedtoolcache/Python/3.9.14/x64/lib/python3.9/site-packages/arxiv_on_deck_2/latex.py:292: LatexWarning: Latex injecting: 'tables/bb_fits' from 'tmp_2210.02554/tables/bb_fits.tex'\n",
      "  warnings.warn(LatexWarning(f\"Latex injecting: '{ext}' from '{subsource}'\"))\n",
      "/opt/hostedtoolcache/Python/3.9.14/x64/lib/python3.9/site-packages/arxiv_on_deck_2/latex.py:292: LatexWarning: Latex injecting: 'tables/phot.tex' from 'tmp_2210.02554/tables/phot.tex'\n",
      "  warnings.warn(LatexWarning(f\"Latex injecting: '{ext}' from '{subsource}'\"))\n",
      "/opt/hostedtoolcache/Python/3.9.14/x64/lib/python3.9/site-packages/arxiv_on_deck_2/latex.py:292: LatexWarning: Latex injecting: 'tables/spectra_log' from 'tmp_2210.02554/tables/spectra_log.tex'\n",
      "  warnings.warn(LatexWarning(f\"Latex injecting: '{ext}' from '{subsource}'\"))\n"
     ]
    },
    {
     "name": "stdout",
     "output_type": "stream",
     "text": [
      "extracting tarball to tmp_2210.02603..."
     ]
    },
    {
     "name": "stdout",
     "output_type": "stream",
     "text": [
      " done.\n",
      "Retrieving document from  https://arxiv.org/e-print/2210.02682\n"
     ]
    },
    {
     "name": "stdout",
     "output_type": "stream",
     "text": [
      "extracting tarball to tmp_2210.02682... done.\n",
      "Retrieving document from  https://arxiv.org/e-print/2210.02765\n"
     ]
    },
    {
     "name": "stdout",
     "output_type": "stream",
     "text": [
      "extracting tarball to tmp_2210.02765..."
     ]
    },
    {
     "name": "stdout",
     "output_type": "stream",
     "text": [
      " done.\n",
      "Retrieving document from  https://arxiv.org/e-print/2210.02767\n"
     ]
    },
    {
     "name": "stdout",
     "output_type": "stream",
     "text": [
      "extracting tarball to tmp_2210.02767... done.\n",
      "Retrieving document from  https://arxiv.org/e-print/2210.02812\n"
     ]
    },
    {
     "name": "stdout",
     "output_type": "stream",
     "text": [
      "extracting tarball to tmp_2210.02812..."
     ]
    },
    {
     "name": "stdout",
     "output_type": "stream",
     "text": [
      " done.\n",
      "Retrieving document from  https://arxiv.org/e-print/2210.02816\n"
     ]
    },
    {
     "name": "stdout",
     "output_type": "stream",
     "text": [
      "extracting tarball to tmp_2210.02816..."
     ]
    },
    {
     "name": "stdout",
     "output_type": "stream",
     "text": [
      " done.\n",
      "Retrieving document from  https://arxiv.org/e-print/2210.02820\n"
     ]
    },
    {
     "name": "stdout",
     "output_type": "stream",
     "text": [
      "extracting tarball to tmp_2210.02820..."
     ]
    },
    {
     "name": "stdout",
     "output_type": "stream",
     "text": [
      " done.\n",
      "Retrieving document from  https://arxiv.org/e-print/2210.02828\n"
     ]
    },
    {
     "name": "stderr",
     "output_type": "stream",
     "text": [
      "/opt/hostedtoolcache/Python/3.9.14/x64/lib/python3.9/site-packages/IPython/core/interactiveshell.py:3378: LatexWarning: Multiple tex files.\n",
      "\n",
      "  exec(code_obj, self.user_global_ns, self.user_ns)\n",
      "/opt/hostedtoolcache/Python/3.9.14/x64/lib/python3.9/site-packages/IPython/core/interactiveshell.py:3378: LatexWarning: Found documentclass in tmp_2210.02820/base.tex\n",
      "\n",
      "  exec(code_obj, self.user_global_ns, self.user_ns)\n",
      "/opt/hostedtoolcache/Python/3.9.14/x64/lib/python3.9/site-packages/arxiv_on_deck_2/latex.py:292: LatexWarning: Latex injecting: 'clusters.tex' from 'tmp_2210.02820/clusters.tex'\n",
      "  warnings.warn(LatexWarning(f\"Latex injecting: '{ext}' from '{subsource}'\"))\n"
     ]
    },
    {
     "name": "stdout",
     "output_type": "stream",
     "text": [
      "extracting tarball to tmp_2210.02828..."
     ]
    },
    {
     "name": "stdout",
     "output_type": "stream",
     "text": [
      " done.\n",
      "Retrieving document from  https://arxiv.org/e-print/2210.02879\n"
     ]
    },
    {
     "name": "stderr",
     "output_type": "stream",
     "text": [
      "/opt/hostedtoolcache/Python/3.9.14/x64/lib/python3.9/site-packages/IPython/core/interactiveshell.py:3378: LatexWarning: Multiple tex files.\n",
      "\n",
      "  exec(code_obj, self.user_global_ns, self.user_ns)\n",
      "/opt/hostedtoolcache/Python/3.9.14/x64/lib/python3.9/site-packages/IPython/core/interactiveshell.py:3378: LatexWarning: Found documentclass in tmp_2210.02828/paper.tex\n",
      "\n",
      "  exec(code_obj, self.user_global_ns, self.user_ns)\n"
     ]
    },
    {
     "name": "stdout",
     "output_type": "stream",
     "text": [
      "extracting tarball to tmp_2210.02879..."
     ]
    },
    {
     "name": "stdout",
     "output_type": "stream",
     "text": [
      " done.\n",
      "Retrieving document from  https://arxiv.org/e-print/2210.02962\n"
     ]
    },
    {
     "name": "stderr",
     "output_type": "stream",
     "text": [
      "/opt/hostedtoolcache/Python/3.9.14/x64/lib/python3.9/site-packages/IPython/core/interactiveshell.py:3378: LatexWarning: Multiple tex files.\n",
      "\n",
      "  exec(code_obj, self.user_global_ns, self.user_ns)\n",
      "/opt/hostedtoolcache/Python/3.9.14/x64/lib/python3.9/site-packages/IPython/core/interactiveshell.py:3378: LatexWarning: Found documentclass in tmp_2210.02879/main.tex\n",
      "\n",
      "  exec(code_obj, self.user_global_ns, self.user_ns)\n",
      "/opt/hostedtoolcache/Python/3.9.14/x64/lib/python3.9/site-packages/arxiv_on_deck_2/latex.py:292: LatexWarning: Latex injecting: 'reflist' from 'tmp_2210.02879/reflist.tex'\n",
      "  warnings.warn(LatexWarning(f\"Latex injecting: '{ext}' from '{subsource}'\"))\n"
     ]
    },
    {
     "name": "stdout",
     "output_type": "stream",
     "text": [
      "extracting tarball to tmp_2210.02962..."
     ]
    },
    {
     "name": "stdout",
     "output_type": "stream",
     "text": [
      " done.\n",
      "Retrieving document from  https://arxiv.org/e-print/2210.03033\n"
     ]
    },
    {
     "name": "stdout",
     "output_type": "stream",
     "text": [
      "extracting tarball to tmp_2210.03033..."
     ]
    },
    {
     "name": "stdout",
     "output_type": "stream",
     "text": [
      " done.\n",
      "Retrieving document from  https://arxiv.org/e-print/2210.03056\n"
     ]
    },
    {
     "name": "stderr",
     "output_type": "stream",
     "text": [
      "/tmp/ipykernel_2370/4030337529.py:34: LatexWarning: 2210.03056 did not run properly\n",
      "not a gzip file\n",
      "  warnings.warn(latex.LatexWarning(f\"{paper_id:s} did not run properly\\n\" +\n"
     ]
    },
    {
     "name": "stdout",
     "output_type": "stream",
     "text": [
      "Retrieving document from  https://arxiv.org/e-print/2210.03090\n"
     ]
    },
    {
     "name": "stdout",
     "output_type": "stream",
     "text": [
      "extracting tarball to tmp_2210.03090..."
     ]
    },
    {
     "name": "stdout",
     "output_type": "stream",
     "text": [
      " done.\n",
      "Retrieving document from  https://arxiv.org/e-print/2210.03106\n"
     ]
    },
    {
     "name": "stderr",
     "output_type": "stream",
     "text": [
      "/opt/hostedtoolcache/Python/3.9.14/x64/lib/python3.9/site-packages/IPython/core/interactiveshell.py:3378: LatexWarning: Multiple tex files.\n",
      "\n",
      "  exec(code_obj, self.user_global_ns, self.user_ns)\n",
      "/opt/hostedtoolcache/Python/3.9.14/x64/lib/python3.9/site-packages/IPython/core/interactiveshell.py:3378: LatexWarning: Found documentclass in tmp_2210.03090/natnotes.tex\n",
      "\n",
      "  exec(code_obj, self.user_global_ns, self.user_ns)\n"
     ]
    },
    {
     "name": "stdout",
     "output_type": "stream",
     "text": [
      "extracting tarball to tmp_2210.03106..."
     ]
    },
    {
     "name": "stdout",
     "output_type": "stream",
     "text": [
      " done.\n"
     ]
    }
   ],
   "source": [
    "documents = []\n",
    "failed = []\n",
    "for paper in tqdm(candidates[:-1]):\n",
    "    paper_id = paper['identifier'].lower().replace('arxiv:', '')\n",
    "    \n",
    "    folder = f'tmp_{paper_id}'\n",
    "\n",
    "    try:\n",
    "        if not os.path.isdir(folder):\n",
    "            folder = retrieve_document_source(f\"{paper_id}\", f'tmp_{paper_id}')\n",
    "        \n",
    "        try:\n",
    "            doc = latex.LatexDocument(folder, validation=validation)    \n",
    "        except AffiliationError as affilerror:\n",
    "            msg = f\"ArXiv:{paper_id:s} is not an MPIA paper... \" + str(affilerror)\n",
    "            failed.append((paper, \"affiliation error: \" + str(affilerror) ))\n",
    "            continue\n",
    "        \n",
    "        # Hack because sometimes author parsing does not work well\n",
    "        if (len(doc.authors) != len(paper['authors'])):\n",
    "            doc._authors = paper['authors']\n",
    "        if (doc.abstract) in (None, ''):\n",
    "            doc._abstract = paper['abstract']\n",
    "            \n",
    "        doc.comment = (get_markdown_badge(paper_id) + \n",
    "                       \"<mark>Appeared on: \" + paper['date'] + \"</mark> - \" +\n",
    "                       \"_\" + paper['comments'] + \"_\")\n",
    "        doc.highlight_authors_in_list(hl_list)\n",
    "\n",
    "        full_md = doc.generate_markdown_text()\n",
    "        \n",
    "        documents.append((paper_id, full_md))\n",
    "    except Exception as e:\n",
    "        warnings.warn(latex.LatexWarning(f\"{paper_id:s} did not run properly\\n\" +\n",
    "                                         str(e)\n",
    "                                        ))\n",
    "        failed.append((paper, \"latex error \" + str(e)))"
   ]
  },
  {
   "cell_type": "markdown",
   "id": "2505a25c",
   "metadata": {
    "papermill": {
     "duration": 0.006331,
     "end_time": "2022-10-07T04:42:08.216236",
     "exception": false,
     "start_time": "2022-10-07T04:42:08.209905",
     "status": "completed"
    },
    "tags": []
   },
   "source": [
    "### Export the logs\n",
    "\n",
    "Throughout, we also keep track of the logs per paper. see `logs-{today date}.md` "
   ]
  },
  {
   "cell_type": "code",
   "execution_count": 6,
   "id": "d733828a",
   "metadata": {
    "execution": {
     "iopub.execute_input": "2022-10-07T04:42:08.229802Z",
     "iopub.status.busy": "2022-10-07T04:42:08.229384Z",
     "iopub.status.idle": "2022-10-07T04:42:08.264810Z",
     "shell.execute_reply": "2022-10-07T04:42:08.264031Z"
    },
    "papermill": {
     "duration": 0.044244,
     "end_time": "2022-10-07T04:42:08.266434",
     "exception": false,
     "start_time": "2022-10-07T04:42:08.222190",
     "status": "completed"
    },
    "scrolled": false,
    "tags": []
   },
   "outputs": [
    {
     "data": {
      "text/markdown": [
       "## Successful papers"
      ],
      "text/plain": [
       "<IPython.core.display.Markdown object>"
      ]
     },
     "metadata": {},
     "output_type": "display_data"
    },
    {
     "data": {
      "text/markdown": [
       "## Failed papers"
      ],
      "text/plain": [
       "<IPython.core.display.Markdown object>"
      ]
     },
     "metadata": {},
     "output_type": "display_data"
    },
    {
     "data": {
      "text/markdown": [
       "\n",
       "|||\n",
       "|---:|:---|\n",
       "| [![arXiv](https://img.shields.io/badge/arXiv-arXiv:2210.02820-b31b1b.svg)](https://arxiv.org/abs/arXiv:2210.02820) | **The SDSS-Gaia View of the Color-Magnitude Relation for Blue  Horizontal-Branch Stars**  |\n",
       "|| Fabrícia O. Barbosa, et al. -- incl., <mark>Guilherme Limberg</mark> |\n",
       "|*Appeared on*| *2022-10-07*|\n",
       "|*Comments*| *Accepted for publication in The Astrophysical Journal*|\n",
       "|**Abstract**| We present an updated sample of blue horizontal-branch (BHB) stars selected from the photometric and spectroscopic data from Sloan Digital Sky Survey and its associated project Sloan Extension for Galactic Understanding and Exploration (SEGUE). With this data, we selected candidates for A-type stars in the color-color space and then a mixture modeling technique was implemented in order to distinguish between BHB and main-sequence/blue-straggler stars based on their surface gravity values ($\\log \\rm{g}$) estimated by the SEGUE Stellar Parameter Pipeline. Our robust approach allows us to attribute individual probabilities of each star truly being in the BHB stage. Hence, our method is advantageous in comparison to previous SEGUE BHB selections that adopted simple $\\log \\rm{g}$ cuts. We also revisit the color-magnitude relation for these stars and propose two calibrations, based on updated distances for Galactic globular clusters, to estimate absolute magnitudes with $(g-r)_0$ and $(u-r)_0$ colors. |\n",
       "|<p style=\"color:green\"> **ERROR** </p>| <p style=\"color:green\">affiliation error: mpia.affiliation_verifications: '69117' keyword not found.</p> |"
      ],
      "text/plain": [
       "<IPython.core.display.Markdown object>"
      ]
     },
     "metadata": {},
     "output_type": "display_data"
    },
    {
     "data": {
      "text/markdown": [
       "\n",
       "|||\n",
       "|---:|:---|\n",
       "| [![arXiv](https://img.shields.io/badge/arXiv-arXiv:2210.02463-b31b1b.svg)](https://arxiv.org/abs/arXiv:2210.02463) | **Machine learning classification of fast radio bursts: I. supervised  methods**  |\n",
       "|| Jia-Wei Luo, Jia-Ming Zhu-Ge, <mark>Bing Zhang</mark> |\n",
       "|*Appeared on*| *2022-10-07*|\n",
       "|*Comments*| *12 pages, 13 figures, 2 tables, submitted to MNRAS*|\n",
       "|**Abstract**| Observationally, the mysterious fast radio bursts (FRBs) are classified as repeating ones and apparently non-repeating ones. While repeating FRBs cannot be classified into the non-repeating group, it is unknown whether the apparently non-repeating FRBs are actually repeating FRBs whose repetitions are yet to be discovered, or whether they belong to another physically distinct type from the repeating ones. In a series of two papers, we attempt to disentangle this mystery with machine learning methods. In this first paper, we focus on an array of supervised machine learning methods. We train the machine learning algorithms with a fraction of the observed FRBs in the first CHIME/FRB catalog, telling them which ones are apparently non-repeating and which ones are repeating. We then let the trained models predict the repetitiveness of the rest of the FRB data with the observed parameters, and we compare the predictions with the observed repetitiveness. We find that the models can predict most FRBs correctly, hinting towards distinct mechanisms behind repeating and non-repeating FRBs. We also find that the two most important distinguishing factors between non-repeating and repeating FRBs are brightness temperature and rest-frame frequency bandwidth. By applying the trained models back to the entire first CHIME catalog, we further identify some potentially repeating FRBs currently reported as non-repeating. We recommend a list of these bursts as targets for future observing campaigns to search for repeated bursts in a combination with the results presented in Paper II using unsupervised machine learning methods. |\n",
       "|<p style=\"color:green\"> **ERROR** </p>| <p style=\"color:green\">affiliation error: mpia.affiliation_verifications: 'Heidelberg' keyword not found.</p> |"
      ],
      "text/plain": [
       "<IPython.core.display.Markdown object>"
      ]
     },
     "metadata": {},
     "output_type": "display_data"
    },
    {
     "data": {
      "text/markdown": [
       "\n",
       "|||\n",
       "|---:|:---|\n",
       "| [![arXiv](https://img.shields.io/badge/arXiv-arXiv:2210.02465-b31b1b.svg)](https://arxiv.org/abs/arXiv:2210.02465) | **The Circumgalactic Medium of Extreme Emission Line Galaxies at z ~ 2:  Resolved Spectroscopy and Radiative Transfer Modeling of Spatially Extended  Lyman-alpha Emission in the KBSS-KCWI Survey**  |\n",
       "|| Dawn K. Erb, et al. -- incl., <mark>Zhihui Li</mark> |\n",
       "|*Appeared on*| *2022-10-07*|\n",
       "|*Comments*| *41 pages, 17 figures. Submitted to ApJ*|\n",
       "|**Abstract**| The resonantly scattered Lyman-$\\alpha$ line illuminates the extended halos of neutral hydrogen in the circumgalactic medium of galaxies. We present integral field Keck Cosmic Web Imager observations of double-peaked, spatially extended Ly$\\alpha$ emission in 12 relatively low-mass ($M_{\\star} \\sim10^9 \\, M_{\\odot}$) $z\\sim2$ galaxies characterized by extreme nebular emission lines. Using individual spaxels and small bins as well as radially binned profiles of larger regions, we find that for most objects in the sample the Ly$\\alpha$ blue-to-red peak ratio increases, the peak separation decreases, and the fraction of flux emerging at line center increases with radius. We use new radiative transfer simulations to model each galaxy with a clumpy, multiphase outflow with radially varying outflow velocity, and self-consistently apply the same velocity model to the low ionization interstellar absorption lines. These models reproduce the trends of peak ratio, peak separation and trough depth with radius, and broadly reconcile outflow velocities inferred from Ly$\\alpha$ and absorption lines. The galaxies in our sample are well-described by a model in which neutral, outflowing clumps are embedded in a hotter, more highly ionized inter-clump medium (ICM), whose residual neutral content produces absorption at the systemic redshift. The peak ratio, peak separation and trough flux fraction are primarily governed by the line-of-sight component of the outflow velocity, the HI column density, and the residual neutral density in the ICM respectively. Azimuthal asymmetries in the line profile further suggest non-radial gas motions at large radii and variations in the HI column density in the outer halos. |\n",
       "|<p style=\"color:green\"> **ERROR** </p>| <p style=\"color:green\">affiliation error: mpia.affiliation_verifications: 'Heidelberg' keyword not found.</p> |"
      ],
      "text/plain": [
       "<IPython.core.display.Markdown object>"
      ]
     },
     "metadata": {},
     "output_type": "display_data"
    },
    {
     "data": {
      "text/markdown": [
       "\n",
       "|||\n",
       "|---:|:---|\n",
       "| [![arXiv](https://img.shields.io/badge/arXiv-arXiv:2210.02471-b31b1b.svg)](https://arxiv.org/abs/arXiv:2210.02471) | **Machine Learning Classification of Fast Radio Bursts: II. Unsupervised  Methods**  |\n",
       "|| Jia-Ming Zhu-Ge, Jia-Wei Luo, <mark>Bing Zhang</mark> |\n",
       "|*Appeared on*| *2022-10-07*|\n",
       "|*Comments*| *12 pages, 15 figures, 2 tables, submitted to MNRAS*|\n",
       "|**Abstract**| Fast radio bursts (FRBs) are one of the most mysterious astronomical transients. Observationally, they can be classified into repeaters and apparently non-repeaters. However, due to the lack of continuous observations, some apparently repeaters may have been incorrectly recognized as non-repeaters. In a series of two papers, we intend to solve such problem with machine learning. In this second paper of the series, we focus on an array of unsupervised machine learning methods. We apply multiple unsupervised machine learning algorithms to the first CHIME/FRB catalog to learn their features and classify FRBs into different clusters without any premise about the FRBs being repeaters or non-repeaters. These clusters reveal the differences between repeaters and non-repeaters. Then, by comparing with the identities of the FRBs in the observed classes, we evaluate the performance of various algorithms and analyze the physical meaning behind the results. Finally, we recommend a list of most credible repeater candidates as targets for future observing campaigns to search for repeated bursts in combination of the results presented in Paper I using supervised machine learning methods. |\n",
       "|<p style=\"color:green\"> **ERROR** </p>| <p style=\"color:green\">affiliation error: mpia.affiliation_verifications: 'Heidelberg' keyword not found.</p> |"
      ],
      "text/plain": [
       "<IPython.core.display.Markdown object>"
      ]
     },
     "metadata": {},
     "output_type": "display_data"
    },
    {
     "data": {
      "text/markdown": [
       "\n",
       "|||\n",
       "|---:|:---|\n",
       "| [![arXiv](https://img.shields.io/badge/arXiv-arXiv:2210.02484-b31b1b.svg)](https://arxiv.org/abs/arXiv:2210.02484) | **A Catalog of Habitable Zone Exoplanets**  |\n",
       "|| Michelle L. Hill, et al. -- incl., <mark>Zhexing Li</mark> |\n",
       "|*Appeared on*| *2022-10-07*|\n",
       "|*Comments*| *Accepted for publication in AJ. 34 pages including 8 figures and 3 tables*|\n",
       "|**Abstract**| The search for habitable planets has revealed many planets that can vary greatly from an Earth analog environment. These include highly eccentric orbits, giant planets, different bulk densities, relatively active stars, and evolved stars. This work catalogs all planets found to reside in the HZ and provides HZ boundaries, orbit characterization, and the potential for spectroscopic follow-up observations. Demographics of the HZ planets are compared with a full catalog of exoplanets. Extreme planets within the HZ are highlighted, and how their unique properties may affect their potential habitability. Kepler-296 f is the most eccentric <2 $R_\\oplus$ planet that spends 100% of its orbit in the HZ. HD 106270 b and HD 38529 c are the most massive planets (<13 $M_J$) that orbit within the HZ, and are ideal targets for determining the properties of potential hosts of HZ exomoons. These planets, along with the others highlighted, will serve as special edge-cases to the Earth-based scenario and observations of these targets will help test the resilience of habitability outside the standard model. The most promising observational targets are HD 102365 b and 55 Cnc f, and the best candidates that are <2 $R_\\oplus$ are GJ 667 C c, Wolf 1061 c, Teegarden's Star b, and Proxima Cen b. |\n",
       "|<p style=\"color:green\"> **ERROR** </p>| <p style=\"color:green\">affiliation error: mpia.affiliation_verifications: 'Heidelberg' keyword not found.</p> |"
      ],
      "text/plain": [
       "<IPython.core.display.Markdown object>"
      ]
     },
     "metadata": {},
     "output_type": "display_data"
    },
    {
     "data": {
      "text/markdown": [
       "\n",
       "|||\n",
       "|---:|:---|\n",
       "| [![arXiv](https://img.shields.io/badge/arXiv-arXiv:2210.02554-b31b1b.svg)](https://arxiv.org/abs/arXiv:2210.02554) | **SN 2022oqm -- a Ca-rich explosion of a compact progenitor embedded in  C/O circumstellar material**  |\n",
       "|| I. Irani, et al. -- incl., <mark>Yashvi Sharma</mark> |\n",
       "|*Appeared on*| *2022-10-07*|\n",
       "|*Comments*| *36 pages, 23 figures. Comments are welcome ido.irani@weizmann.ac.il*|\n",
       "|**Abstract**| We present the discovery and analysis of SN 2022oqm, a Type Ic supernova (SN) detected <1 day after explosion. The SN rises to a blue and short-lived (2 days) initial peak. Early spectral observations of SN 2022oqm show a hot (40,000 K) continuum with high-ionization C and O absorption features at velocities of 4,000 km s$^{-1}$, while its photospheric radius expands at 20,000 km s$^{-1}$, indicating a pre-existing distribution of expanding C/O material, likely ejected around 2 weeks before the explosion. After around 2.5 days, both the spectrum and light curves evolve into those of a typical SN Ic, with line velocities of 10,000 km s$^{-1}$, in agreement with the photospheric radius evolution. The optical light curves reach a second peak around t ~15 days. By t=60 days, the spectrum of SN 2022oqm becomes nearly nebular, displaying strong C II and [Ca II] emission with no detectable [O I] and marking this event as Ca-rich. The early behavior can be explained by $10^{-3}$ solar mass of optically thin circumstellar material (CSM) surrounding either (1) a massive compact progenitor such as a Wolf-Rayet star, (2) a massive stripped progenitor with an extended envelope, or (3) a binary system with a white dwarf. We propose that the early-time light curve is powered by a combination of interaction of the ejecta with the optically thin CSM and shock cooling (in the massive-star scenario), until the radioactive decay of $^{56}$Ni becomes the dominant power source. The observations can be explained by CSM that is optically thick to X-ray photons which are down converted, is optically thick in the lines as seen in the spectra, and is optically thin to visible-light continuum photons that come either from down-converted X-rays or from the shock-heated ejecta. Calculations show that this scenario is self-consistent. |\n",
       "|<p style=\"color:green\"> **ERROR** </p>| <p style=\"color:green\">affiliation error: mpia.affiliation_verifications: 'Heidelberg' keyword not found.</p> |"
      ],
      "text/plain": [
       "<IPython.core.display.Markdown object>"
      ]
     },
     "metadata": {},
     "output_type": "display_data"
    },
    {
     "data": {
      "text/markdown": [
       "\n",
       "|||\n",
       "|---:|:---|\n",
       "| [![arXiv](https://img.shields.io/badge/arXiv-arXiv:2210.02603-b31b1b.svg)](https://arxiv.org/abs/arXiv:2210.02603) | **Consequences of dynamically unstable moons in extrasolar systems**  |\n",
       "|| <mark>Bradley M. S. Hansen</mark> |\n",
       "|*Appeared on*| *2022-10-07*|\n",
       "|*Comments*| *to appear in Monthly Notices of the Royal Astronomical Society*|\n",
       "|**Abstract**| Moons orbiting rocky exoplanets in compact orbits about other stars experience an accelerated tidal evolution, and can either merge with their parent planet or reach the limit of dynamical instability within a Hubble time. We review the parameter space over which moons become unbound, including the effects of atmospheric tides on the planetary spin. We find that such tides can change the final outcome from merger to escape, albeit over a limited parameter space. We also follow the further evolution of unbound moons, and demonstrate that the overwhelmingly most likely long-term outcome is that the unbound moon returns to collide with its original parent planet. The dust released by such a collision is estimated to reach optical depths approximately 0.001, exhibit characteristic temperatures of a few hundred degrees Kelvin, and last for a few thousand years. These properties make such events an attractive model for the emerging class of middle-aged main sequence stars that are observed to show transient clouds of warm dust. Furthermore, a late collision between a planet and a returning moon on a hyperbolic orbit may sterilise an otherwise habitable planet. |\n",
       "|<p style=\"color:green\"> **ERROR** </p>| <p style=\"color:green\">affiliation error: mpia.affiliation_verifications: 'Heidelberg' keyword not found.</p> |"
      ],
      "text/plain": [
       "<IPython.core.display.Markdown object>"
      ]
     },
     "metadata": {},
     "output_type": "display_data"
    },
    {
     "data": {
      "text/markdown": [
       "\n",
       "|||\n",
       "|---:|:---|\n",
       "| [![arXiv](https://img.shields.io/badge/arXiv-arXiv:2210.02682-b31b1b.svg)](https://arxiv.org/abs/arXiv:2210.02682) | **Synchrotron cutoff in Ultraluminous X-ray sources**  |\n",
       "|| <mark>Tanuman Ghosh</mark>, Shiv Sethi, Vikram Rana |\n",
       "|*Appeared on*| *2022-10-07*|\n",
       "|*Comments*| *9 pages, 3 figures, submitted to ApJ*|\n",
       "|**Abstract**| The origin of spectral curvature at energies $E\\simeq 10$ keV in ultraluminous X-ray sources is not well understood. In this paper, we propose a novel mechanism based on synchrotron radiation to explain this cutoff. We show that relativistic plasma can give rise to observed spectral curvature for neutron star magnetic fields due to the variation in the latitude of synchrotron radiation. We analyze the NuSTAR data of two bright pulsar ULXs, NGC 5907 ULX1 and NGC 7793 P13, and provide estimates of the physical parameters of these sources. We fit the data for synchrotron emission at various latitudes and show that the spectral cutoff in these cases can be explained for a large range of acceptable physical parameters, e.g., a semi-relativistic plasma with $\\gamma \\simeq 10$ and $B\\simeq 10^{12} \\, \\rm G$. We also discuss how such an emission mechanism can be distinguished from other proposed models. A corollary to our study is that most ULXs might be neutron stars as they display such a spectral cutoff. |\n",
       "|<p style=\"color:green\"> **ERROR** </p>| <p style=\"color:green\">affiliation error: mpia.affiliation_verifications: 'Heidelberg' keyword not found.</p> |"
      ],
      "text/plain": [
       "<IPython.core.display.Markdown object>"
      ]
     },
     "metadata": {},
     "output_type": "display_data"
    },
    {
     "data": {
      "text/markdown": [
       "\n",
       "|||\n",
       "|---:|:---|\n",
       "| [![arXiv](https://img.shields.io/badge/arXiv-arXiv:2210.02765-b31b1b.svg)](https://arxiv.org/abs/arXiv:2210.02765) | **Revising the Hubble constant, spatial curvature and dark energy dynamics  with the latest observations of quasars**  |\n",
       "|| <mark>Tonghua Liu</mark>, et al. -- incl., <mark>Xiaolei Li</mark>, <mark>Yuting Liu</mark>, <mark>Wuzheng Guo</mark> |\n",
       "|*Appeared on*| *2022-10-07*|\n",
       "|*Comments*| *11 pages, 5 figures, accepted for publication in A&A*|\n",
       "|**Abstract**| In this paper, we use a newly compiled sample of ultra-compact structure in radio quasars and strong gravitational lensing systems with quasars acting as background sources to constrain six spatially flat and non-flat cosmological models ($\\Lambda$CDM, PEDE and DGP). These two sets of quasar data (the time-delay measurements of six strong lensing systems and 120 intermediate-luminosity quasars calibrated as standard rulers) could break the degeneracy between cosmological parameters ($H_0$, $\\Omega_m$ and $\\Omega_k$) and therefore provide more stringent cosmological constraints for the six cosmological models we study. A joint analysis of the quasar sample provides model-independent estimations of the Hubble constant $H_0$, which is strongly consistent with that derived from the local distance ladder by SH0ES collaboration in the $\\Lambda$CDM and PEDE model. However, in the framework of a DGP cosmology (especially for the flat universe), the measured Hubble constant is in good agreement with that derived from the the recent Planck 2018 results. In addition, our results show that zero spatial curvature is supported by the current lensed and unlensed quasar observations and there is no significant deviation from a flat universe. For most of cosmological model we study (the flat $\\Lambda$CDM, non-flat $\\Lambda$CDM, flat PEDE, and non-flat PEDE models), the derived matter density parameter is completely consistent with $\\Omega_m\\sim 0.30$ in all the data sets, as expected by the latest cosmological observations. Finally, according to the the statistical criteria DIC, although the joint constraints provide substantial observational support to the flat PEDE model, they do not rule out dark energy being a cosmological constant and non-flat spatial hypersurfaces. |\n",
       "|<p style=\"color:green\"> **ERROR** </p>| <p style=\"color:green\">affiliation error: mpia.affiliation_verifications: 'Heidelberg' keyword not found.</p> |"
      ],
      "text/plain": [
       "<IPython.core.display.Markdown object>"
      ]
     },
     "metadata": {},
     "output_type": "display_data"
    },
    {
     "data": {
      "text/markdown": [
       "\n",
       "|||\n",
       "|---:|:---|\n",
       "| [![arXiv](https://img.shields.io/badge/arXiv-arXiv:2210.02767-b31b1b.svg)](https://arxiv.org/abs/arXiv:2210.02767) | **CN 2-1 and CS 5-4 observations toward Arp 299 with the SMA**  |\n",
       "|| Junzhi Wang, Chunhua Qi, <mark>Shanghuo Li</mark>, Jingwen Wu |\n",
       "|*Appeared on*| *2022-10-07*|\n",
       "|*Comments*| *6pages, 2 Figures*|\n",
       "|**Abstract**| Dense gas is the key for understanding star formation in galaxies. We present high resolution ($\\sim3''$) observations of CN 2-1 and CS 5-4 as dense gas tracers toward Arp 299, a mid stage major merger of galaxies, with the Submillimeter Array (SMA). The spatial distribution of CN 2-1 and CS 5-4 are generally consistent with each other, as well as HCN 1-0 in literature. However, different line ratios of CS 5-4 and CN 2-1 are found in A, B, and C regions, with highest value in B. Dense gas fraction decreases from IC 694 (A), to NGC 3690 (B) and the overlap starburst region (C and C$'$), which indicates that circum-nuclear upcoming starburst in A and B will be more efficient than that in the overlap region of Arp 299. |\n",
       "|<p style=\"color:green\"> **ERROR** </p>| <p style=\"color:green\">affiliation error: mpia.affiliation_verifications: 'Heidelberg' keyword not found.</p> |"
      ],
      "text/plain": [
       "<IPython.core.display.Markdown object>"
      ]
     },
     "metadata": {},
     "output_type": "display_data"
    },
    {
     "data": {
      "text/markdown": [
       "\n",
       "|||\n",
       "|---:|:---|\n",
       "| [![arXiv](https://img.shields.io/badge/arXiv-arXiv:2210.02812-b31b1b.svg)](https://arxiv.org/abs/arXiv:2210.02812) | **The Astrometric Animation of Water Masers towards the Mira Variable BX  Cam**  |\n",
       "|| Shuangjing Xu, et al. -- incl., <mark>Bo Zhang</mark>, <mark>Lang Cui</mark>, <mark>Jingdong Zhang</mark> |\n",
       "|*Appeared on*| *2022-10-07*|\n",
       "|*Comments*| *31 pages, 16 figures, accepted by ApJ*|\n",
       "|**Abstract**| We report VLBI monitoring observations of the 22 GHz water (H$_{2}$O) masers around the Mira variable BX Cam, which were carried out as a part of the EAVN Synthesis of Stellar Maser Animations (ESTEMA) project. Data of 37 epochs in total were obtained from 2018 May to 2021 June with a time interval of 3-4 weeks, spanning approximately three stellar pulsation periods ($P= \\sim$440 d). In particular, the dual-beam system equipped on the VERA stations was used to measure the kinematics and parallaxes of the H$_{2}$O maser features. The measured parallax, $\\pi=1.79\\pm 0.08$ mas, is consistent with $Gaia$ EDR3 and previously measured VLBI parallaxes within a 1-$\\sigma$ error level. The position of the central star was estimated, based on both the $Gaia$ EDR3 data and the center position of the ring-like 43 GHz silicon-monoxide (SiO) maser distribution imaged with the KVN. The three-dimensional H$_{2}$O maser kinematics indicates that the circumstellar envelope is expanding at a velocity of $13\\pm4$ km s$^{-1}$, while there are asymmetries in both the spatial and velocity distributions of the maser features. Furthermore, the H$_{2}$O maser animation achieved by our dense monitoring program manifests the propagation of shock waves in the circumstellar envelope of BX Cam. |\n",
       "|<p style=\"color:green\"> **ERROR** </p>| <p style=\"color:green\">affiliation error: mpia.affiliation_verifications: 'Heidelberg' keyword not found.</p> |"
      ],
      "text/plain": [
       "<IPython.core.display.Markdown object>"
      ]
     },
     "metadata": {},
     "output_type": "display_data"
    },
    {
     "data": {
      "text/markdown": [
       "\n",
       "|||\n",
       "|---:|:---|\n",
       "| [![arXiv](https://img.shields.io/badge/arXiv-arXiv:2210.02816-b31b1b.svg)](https://arxiv.org/abs/arXiv:2210.02816) | **Redshift Evolution and Non-Universal Dispersion of Quasar Luminosity  Correlation**  |\n",
       "|| <mark>Zhuoyang Li</mark>, Lu Huang, Junchao Wang |\n",
       "|*Appeared on*| *2022-10-07*|\n",
       "|*Comments*| *6 pages, 3 figures*|\n",
       "|**Abstract**| The standard $\\Lambda$CDM model is recently reported to deviate from the high-redshift Hubble diagram of type Ia supernovae (SNe) and quasars (QSOs) at $\\sim4\\sigma$ confidence level. In this work, we combine the PAge approximation (a nearly model-independent parameterization) and a high-quality QSO sample to search for the origins of the deviation. By visualizing the $\\Lambda$CDM model and the marginalized $3\\sigma$ constraints of SNe+QSOs into PAge space, we confirm that the SNe+QSOs constraints in both flat and non-flat PAge cases are in remarkable tension with the standard $\\Lambda$CDM cosmology. Next, we investigate the tension from the perspective of redshift-evolution effects. We find that the QSO correlation coefficient $\\gamma$ calibrated by SNe+low-z QSOs and SNe+high-z QSOs shows $\\sim2.7\\sigma$ and $\\sim4\\sigma$ tensions in flat and non-flat universes, respectively. The tensions for intrinsic dispersion $\\delta$ between different data sets are found to be $>4\\sigma$ in both flat and non-flat cases. These results indicate that the QSO luminosity correlation suffers from significant redshift evolution and non-universal intrinsic dispersion. Using a redshift-dependence correlation to build QSO Hubble diagram could lead to biases. Thus, the $\\sim4\\sigma$ deviation from the standard $\\Lambda$CDM probably originates from the redshift-evolution effects and non-universal dispersion of the QSO luminosity correlation rather than new physics. |\n",
       "|<p style=\"color:green\"> **ERROR** </p>| <p style=\"color:green\">affiliation error: mpia.affiliation_verifications: 'Heidelberg' keyword not found.</p> |"
      ],
      "text/plain": [
       "<IPython.core.display.Markdown object>"
      ]
     },
     "metadata": {},
     "output_type": "display_data"
    },
    {
     "data": {
      "text/markdown": [
       "\n",
       "|||\n",
       "|---:|:---|\n",
       "| [![arXiv](https://img.shields.io/badge/arXiv-arXiv:2210.02828-b31b1b.svg)](https://arxiv.org/abs/arXiv:2210.02828) | **Exploring the Fundamental Mechanism in Driving Highest-velocity Ionized  Outflows in Radio AGNs**  |\n",
       "|| Ashraf Ayubinia, et al. -- incl., <mark>Zhicheng He</mark>, <mark>Xiaozhi Lin</mark> |\n",
       "|*Appeared on*| *2022-10-07*|\n",
       "|*Comments*| *23 pages, 14 figures, Accepted to Universe*|\n",
       "|**Abstract**| We investigate the ionized gas kinematics relationship with X-ray, radio and accreting properties using a sample of 348 nearby ($z < 0.4$) SDSS-FIRST-X-ray detected AGNs. X-ray properties of our sample are obtained from XMM-$Newton$, $Swift$ and $Chandra$ observations. We unveil the ionized gas outflows in our sample manifested by the non-gravitational broad component in [OIII] $\\lambda$5007$\\overset{\\circ}{A}$. emission line profiles. From the comparison of the correlation of non-parametric outflow velocities (i.e., the velocity width, the maximal velocity of outflow and line dispersion) with X-ray luminosity and radio luminosity, we find that outflow velocities have similarly positive {correlations} with both X-ray and radio luminosity. After correcting for the gravitational component, we find that the [OIII] velocity dispersion normalized by stellar mass also increases with both X-ray luminosity and radio luminosity. We also find that for a given X-ray (radio) luminosity, radio (X-ray) luminous AGNs have higher outflow velocities than non-radio (non-X-ray) luminous AGNs. Therefore, we find no clear preference between X-ray luminosity and radio luminosity in driving high-velocity ionized outflows and conclude that both AGN activity and small-scale jets contribute comparably. Moreover, there is no evidence that our obscured AGNs are preferentially associated with higher velocity outflows. Finally, we find a turning point around log$(\\lambda_{Edd}) \\simeq -1.3$ when we explore the dependency of outflow velocity on Eddington ratio. It can be interpreted considering the role of high radiation pressure (log$(\\lambda_{Edd}) \\gtrsim -1.3$) in drastic reduction in the covering factor of the circumnuclear materials. |\n",
       "|<p style=\"color:green\"> **ERROR** </p>| <p style=\"color:green\">affiliation error: mpia.affiliation_verifications: 'Heidelberg' keyword not found.</p> |"
      ],
      "text/plain": [
       "<IPython.core.display.Markdown object>"
      ]
     },
     "metadata": {},
     "output_type": "display_data"
    },
    {
     "data": {
      "text/markdown": [
       "\n",
       "|||\n",
       "|---:|:---|\n",
       "| [![arXiv](https://img.shields.io/badge/arXiv-arXiv:2210.02879-b31b1b.svg)](https://arxiv.org/abs/arXiv:2210.02879) | **Observational Constrains on Direct Electron Heating in Hot Accretion  Flows from Sgr A* and M87***  |\n",
       "|| <mark>Fu-Guo Xie</mark>, Ramesh Narayan, Feng Yuan |\n",
       "|*Appeared on*| *2022-10-07*|\n",
       "|*Comments*| *8 pages, 2 figures. Submitted to AAS journal. Comments welcomed*|\n",
       "|**Abstract**| An important parameter in the theory of hot accretion flows around black holes is $\\delta$, which describes the fraction of ``viscously'' dissipated energy in the accretion flow that directly heats the electrons. The radiative efficiency of a hot accretion flow is determined by its value if other parameters, such as the accretion rate, are determined. Unfortunately, the value of $\\delta$ is hard to determine from first principles. The recent Event Horizon Telescope Collaboration (EHTC) results on M87* and Sgr A* provide us with a different way of constraining $\\delta$. By combining the mass accretion rates in M87* and Sgr A* estimated by the EHTC with the measured bolometric luminosities of the two sources, we derive good constraints on the radiative efficiencies of the respective accretion flows. In parallel, we use a theoretical model of hot magnetically arrested disks (MAD) to calculate the expected radiative efficiency as a function of $\\delta$ (and accretion rate). By comparing the EHTC-derived radiative efficiencies with the theoretical MAD model, we find that Sgr A* requires $\\delta > 0.3$, with the most likely value being $\\delta \\sim 0.5$. A similar comparison in the case of M87* gives inconclusive results, because there is still a large uncertainty in the accretion rate in this source. |\n",
       "|<p style=\"color:green\"> **ERROR** </p>| <p style=\"color:green\">affiliation error: mpia.affiliation_verifications: 'Heidelberg' keyword not found.</p> |"
      ],
      "text/plain": [
       "<IPython.core.display.Markdown object>"
      ]
     },
     "metadata": {},
     "output_type": "display_data"
    },
    {
     "data": {
      "text/markdown": [
       "\n",
       "|||\n",
       "|---:|:---|\n",
       "| [![arXiv](https://img.shields.io/badge/arXiv-arXiv:2210.02962-b31b1b.svg)](https://arxiv.org/abs/arXiv:2210.02962) | **Development of the ComPair gamma-ray telescope prototype**  |\n",
       "|| Daniel Shy, et al. -- incl., <mark>Iker Liceaga-Indart</mark>, <mark>Jacob Smith</mark>, <mark>Lucas D. Smith</mark> |\n",
       "|*Appeared on*| *2022-10-07*|\n",
       "|*Comments*| **|\n",
       "|**Abstract**| There is a growing interest in the science uniquely enabled by observations in the MeV range, particularly in light of multi-messenger astrophysics. The Compton Pair (ComPair) telescope, a prototype of the AMEGO Probe-class concept, consists of four subsystems that together detect and characterize gamma rays in the MeV regime. A double-sided strip silicon Tracker gives a precise measure of the first Compton scatter interaction and tracks pair-conversion products. A novel cadmium zinc telluride (CZT) detector with excellent position and energy resolution beneath the Tracker detects the Compton-scattered photons. A thick cesium iodide (CsI) calorimeter contains the high-energy Compton and pair events. The instrument is surrounded by a plastic anti-coincidence (ACD) detector to veto the cosmic-ray background. In this work, we will give an overview of the science motivation and a description of the prototype development and performance. |\n",
       "|<p style=\"color:green\"> **ERROR** </p>| <p style=\"color:green\">affiliation error: mpia.affiliation_verifications: 'Heidelberg' keyword not found.</p> |"
      ],
      "text/plain": [
       "<IPython.core.display.Markdown object>"
      ]
     },
     "metadata": {},
     "output_type": "display_data"
    },
    {
     "data": {
      "text/markdown": [
       "\n",
       "|||\n",
       "|---:|:---|\n",
       "| [![arXiv](https://img.shields.io/badge/arXiv-arXiv:2210.03033-b31b1b.svg)](https://arxiv.org/abs/arXiv:2210.03033) | **$JetCurry$ I. Reconstructing Three-Dimensional Jet Geometry from  Two-Dimensional Images**  |\n",
       "|| Sailee M. Sawant, et al. -- incl., <mark>Kunyang Li</mark> |\n",
       "|*Appeared on*| *2022-10-07*|\n",
       "|*Comments*| *arXiv admin note: substantial text overlap with arXiv:1702.00534*|\n",
       "|**Abstract**| We present a three-dimensional (3-D) visualization of jet geometry using numerical methods based on a Markov Chain Monte Carlo (MCMC) and limited memory Broyden-Fletcher-Goldfarb-Shanno (BFGS) optimized algorithm. Our aim is to visualize the 3-D geometry of an active galactic nucleus (AGN) jet using observations, which are inherently two-dimensional (2-D) images. Many AGN jets display complex structures that include hotspots and bends. The structure of these bends in the jet's frame may appear quite different than what we see in the sky frame, where it is transformed by our particular viewing geometry. The knowledge of the intrinsic structure will be helpful in understanding the appearance of the magnetic field and hence emission and particle acceleration processes over the length of the jet. We present the $JetCurry$ algorithm to visualize the jet's 3-D geometry from its 2-D image. We discuss the underlying geometrical framework and outline the method used to decompose the 2-D image. We report the results of our 3-D visualization of the jet of M87, using the test case of the knot D region. Our 3-D visualization is broadly consistent with the expected double helical magnetic field structure of the knot D region of the jet. We also discuss the next steps in the development of the $JetCurry$ algorithm. |\n",
       "|<p style=\"color:green\"> **ERROR** </p>| <p style=\"color:green\">affiliation error: mpia.affiliation_verifications: 'Heidelberg' keyword not found.</p> |"
      ],
      "text/plain": [
       "<IPython.core.display.Markdown object>"
      ]
     },
     "metadata": {},
     "output_type": "display_data"
    },
    {
     "data": {
      "text/markdown": [
       "\n",
       "|||\n",
       "|---:|:---|\n",
       "| [![arXiv](https://img.shields.io/badge/arXiv-arXiv:2210.03090-b31b1b.svg)](https://arxiv.org/abs/arXiv:2210.03090) | **Dynamical masses of the primary Be star and the secondary sdB star in  the single-lined binary kappa Dra (B6 IIIe)**  |\n",
       "|| R. Klement, et al. -- incl., <mark>C. L. Davies</mark> |\n",
       "|*Appeared on*| *2022-10-07*|\n",
       "|*Comments*| *Accepted to ApJ. Figure sets available on request*|\n",
       "|**Abstract**| Because many classical Be stars may owe their nature to mass and angular-momentum transfer in a close binary, the present masses, temperatures, and radii of their components are of high interest for comparison to stellar evolution models. Kappa Dra is a 61.5-day single-lined binary with a B6 IIIe primary. With the CHARA Array instruments MIRC/MIRC-X and MYSTIC, we detected the secondary at (approximately photospheric) flux ratios of 1.49 +- 0.10% and 1.63 +- 0.09% in the H and K band, respectively. From a large and diverse optical spectroscopic database only the radial velocity curve of the Be star could be extracted. However, employing the parallaxes from Hipparcos and Gaia, which agree within their nominal 1-sigma errors, we could derive the total mass and found component masses of 3.65 +- 0.48 Msun and 0.426 +- 0.043 Msun for the Be star and the companion, respectively. Previous cross-correlation of the observed far-UV spectrum with sdO spectral model templates had not detected a companion belonging to the hot O-type subdwarf (sdO) population known from ~20 earlier-type Be stars. Guided by our full 3D orbital solution, we found a strong cross-correlation signal for a stripped subdwarf B-type companion (far-UV flux ratio of 2.3 +- 0.5%), enabling the first firm characterization of such a star, and making kappa Dra the first mid- to late-type Be star with a directly-observed subdwarf companion. |\n",
       "|<p style=\"color:green\"> **ERROR** </p>| <p style=\"color:green\">affiliation error: mpia.affiliation_verifications: 'Heidelberg' keyword not found.</p> |"
      ],
      "text/plain": [
       "<IPython.core.display.Markdown object>"
      ]
     },
     "metadata": {},
     "output_type": "display_data"
    },
    {
     "data": {
      "text/markdown": [
       "\n",
       "|||\n",
       "|---:|:---|\n",
       "| [![arXiv](https://img.shields.io/badge/arXiv-arXiv:2210.03106-b31b1b.svg)](https://arxiv.org/abs/arXiv:2210.03106) | **Galaxy kinematics and mass estimates at z~1 from ionised gas and stars**  |\n",
       "|| Hannah Übler, et al. -- incl., <mark>Natascha M. Förster Schreiber</mark>, <mark>Linda J. Tacconi</mark>, <mark>Ric Davies</mark>, <mark>Daizhong Liu</mark> |\n",
       "|*Appeared on*| *2022-10-07*|\n",
       "|*Comments*| *21 pages, 13 figures, 4 tables; submitted to MNRAS; comments are welcome*|\n",
       "|**Abstract**| We compare ionised gas and stellar kinematics of 16 star-forming galaxies ($\\log(M_\\star/M_\\odot)=9.7-11.2$, SFR=6-86 $M_\\odot/yr$) at $z\\sim1$ using near-infrared integral field spectroscopy (IFS) of H$\\alpha$ emission from the KMOS$^{\\rm 3D}$ survey and optical slit spectroscopy of stellar absorption and gas emission from the LEGA-C survey. H$\\alpha$ is dynamically colder than stars, with higher disc rotation velocities (by ~45 per cent) and lower disc velocity dispersions (by a factor ~2). This is similar to trends observed in the local Universe. We find higher rotational support for H$\\alpha$ relative to [OII], potentially explaining systematic offsets in kinematic scaling relations found in the literature. Regarding dynamical mass measurements, for six galaxies with cumulative mass profiles from Jeans Anisotropic Multi-Gaussian Expansion (JAM) models the H$\\alpha$ dynamical mass models agree remarkably well out to ~10 kpc for all but one galaxy (average $\\Delta M_{\\rm dyn}(R_{e,\\rm F814W})<0.1$ dex). Simpler dynamical mass estimates based on integrated stellar velocity dispersion are less accurate (standard deviation 0.24 dex). Differences in dynamical mass estimates are larger, for example, for galaxies with stronger misalignments of the H$\\alpha$ kinematic major axis and the photometric position angle, highlighting the added value of IFS observations for dynamics studies. The good agreement between the JAM models and the dynamical models based on H$\\alpha$ kinematics at $z\\sim1$ corroborates the validity of dynamical mass measurements from H$\\alpha$ IFS observations also for higher redshift rotating disc galaxies. |\n",
       "|<p style=\"color:green\"> **ERROR** </p>| <p style=\"color:green\">affiliation error: mpia.affiliation_verifications: 'Heidelberg' keyword not found.</p> |"
      ],
      "text/plain": [
       "<IPython.core.display.Markdown object>"
      ]
     },
     "metadata": {},
     "output_type": "display_data"
    },
    {
     "data": {
      "text/markdown": [
       "\n",
       "|||\n",
       "|---:|:---|\n",
       "| [![arXiv](https://img.shields.io/badge/arXiv-arXiv:2210.02518-b31b1b.svg)](https://arxiv.org/abs/arXiv:2210.02518) | **Demographics of z ~ 6 Quasars in the Black Hole Mass-Luminosity Plane**  |\n",
       "|| Jin Wu, et al. -- incl., <mark>Linhua Jiang</mark> |\n",
       "|*Appeared on*| *2022-10-07*|\n",
       "|*Comments*| *21 pages, 12 figures; accepted for publication in MNRAS*|\n",
       "|**Abstract**| We study the demographics of z ~ 6 broad-line quasars in the black hole (BH) mass-luminosity plane using a sample of more than 100 quasars at 5.7 < z < 6.5. These quasars have well quantified selection functions and nearly one third of them also have virial BH masses estimated from near-IR spectroscopy. We use forward modeling of parameterized intrinsic distributions of BH masses and Eddington ratios, and account for the sample flux limits and measurement uncertainties of the BH masses and luminosities. We find significant differences between the intrinsic and observed distributions of the quantities due to measurement uncertainties and sample flux limits. There is also marginal evidence that the virial BH masses are susceptible to a positive luminosity-dependent bias (BH mass is overestimated when luminosity is above the average), and that the mean Eddington ratio increases with BH mass. Our models provide reliable constraints on the z ~ 6 black hole mass function at M_BH > 10^8.5 M_Sun, with a median 1-sigma uncertainty of ~0.5 dex in abundance. The intrinsic Eddington ratio distribution of M_BH > 10^8.5 M_Sun quasars can be approximated by a mass-dependent Schechter model, with a broad peak around log(L_bol/L_Edd}) ~ -0.9. We also find that, at 4.5 < z < 6, the number densities of more massive BHs tend to decline more rapidly with increasing redshift, contrary to the trend at 2.5 < z < 4.5 reported previously. |\n",
       "|<p style=\"color:red\"> **ERROR** </p>| <p style=\"color:red\">latex error Could not find figure ./bhmf-erdf-term.png</p> |"
      ],
      "text/plain": [
       "<IPython.core.display.Markdown object>"
      ]
     },
     "metadata": {},
     "output_type": "display_data"
    },
    {
     "data": {
      "text/markdown": [
       "\n",
       "|||\n",
       "|---:|:---|\n",
       "| [![arXiv](https://img.shields.io/badge/arXiv-arXiv:2210.03056-b31b1b.svg)](https://arxiv.org/abs/arXiv:2210.03056) | **Lava World: Exoplanet Surfaces**  |\n",
       "|| Marc-Antoine Fortin, Esteban Gazel, <mark>Lisa Kaltenegger</mark>, Megan E. Holycross |\n",
       "|*Appeared on*| *2022-10-07*|\n",
       "|*Comments*| *published in Monthly Notices of the Royal Astronomical Society*|\n",
       "|**Abstract**| The recent first measurements of the reflection of the surface of a lava world provides an unprecedented opportunity to investigate different stages of rocky planet evolution. The spectral features of the surfaces of rocky lava world exoplanets give insights into their evolution, mantle composition and inner workings. However, no database exists yet that contains spectral reflectivity and emission of a wide range of potential exoplanet surface materials. Here we first synthesized 16 potential exoplanet surfaces, spanning a wide range of chemical compositions based on potential mantle material guided by the metallicity of different host stars. Then we measured their infrared reflection spectrum (2.5 - 28 {\\mu}m, 350 - 4000 cm^{-1}), from which we can obtain their emission spectra and establish the link between the composition and a strong spectral feature at 8 {\\mu}m, the Christiansen feature (CF). Our analysis suggests a new multi-component composition relationship with the CF, as well as a correlation with the silica content of the exoplanet mantle. We also report the mineralogies of our materials as possibilities for that of lava worlds. This database is a tool to aid in the interpretation of future spectra of lava worlds that will be collected by the James Webb Space Telescope and future missions |\n",
       "|<p style=\"color:red\"> **ERROR** </p>| <p style=\"color:red\">latex error not a gzip file</p> |"
      ],
      "text/plain": [
       "<IPython.core.display.Markdown object>"
      ]
     },
     "metadata": {},
     "output_type": "display_data"
    }
   ],
   "source": [
    "import datetime\n",
    "today = str(datetime.date.today())\n",
    "logfile = f\"_build/html/logs/log-{today}.md\"\n",
    "\n",
    "\n",
    "with open(logfile, 'w') as logs:\n",
    "    # Success\n",
    "    logs.write(f'# Arxiv on Deck 2: Logs - {today}\\n\\n')\n",
    "    logs.write(\"\"\"* Arxiv had {0:,d} new papers\\n\"\"\".format(len(new_papers)))\n",
    "    logs.write(\"\"\"    * {0:,d} with possible author matches\\n\\n\"\"\".format(len(candidates)))\n",
    "    logs.write(\"## Sucessful papers\\n\\n\")\n",
    "    display(Markdown(\"## Successful papers\"))\n",
    "    success = [k[0] for k in documents]\n",
    "    for candid in candidates:\n",
    "        if candid['identifier'].split(':')[-1] in success:\n",
    "            display(candid)\n",
    "            logs.write(candid.generate_markdown_text() + '\\n\\n')\n",
    "\n",
    "    ## failed\n",
    "    logs.write(\"## Failed papers\\n\\n\")\n",
    "    display(Markdown(\"## Failed papers\"))\n",
    "    failed = sorted(failed, key=lambda x: x[1])\n",
    "    current_reason = \"\"\n",
    "    for paper, reason in failed:\n",
    "        if 'affiliation' in reason:\n",
    "            color = 'green'\n",
    "        else:\n",
    "            color = 'red'\n",
    "        data = Markdown(\n",
    "                paper.generate_markdown_text() + \n",
    "                f'\\n|<p style=\"color:{color:s}\"> **ERROR** </p>| <p style=\"color:{color:s}\">{reason:s}</p> |'\n",
    "               )\n",
    "        if reason != current_reason:\n",
    "            logs.write(f'### {reason:s} \\n\\n')\n",
    "            current_reason = reason\n",
    "        logs.write(data.data + '\\n\\n')\n",
    "        \n",
    "        # only display here the important errors (all in logs)\n",
    "        # if color in ('red',):\n",
    "        display(data)"
   ]
  },
  {
   "cell_type": "markdown",
   "id": "472d20ee",
   "metadata": {
    "papermill": {
     "duration": 0.008619,
     "end_time": "2022-10-07T04:42:08.283431",
     "exception": false,
     "start_time": "2022-10-07T04:42:08.274812",
     "status": "completed"
    },
    "tags": []
   },
   "source": [
    "## Export documents\n",
    "\n",
    "We now write the .md files and export relevant images"
   ]
  },
  {
   "cell_type": "code",
   "execution_count": 7,
   "id": "d426aed9",
   "metadata": {
    "execution": {
     "iopub.execute_input": "2022-10-07T04:42:08.301405Z",
     "iopub.status.busy": "2022-10-07T04:42:08.301139Z",
     "iopub.status.idle": "2022-10-07T04:42:08.307585Z",
     "shell.execute_reply": "2022-10-07T04:42:08.306900Z"
    },
    "papermill": {
     "duration": 0.01766,
     "end_time": "2022-10-07T04:42:08.309440",
     "exception": false,
     "start_time": "2022-10-07T04:42:08.291780",
     "status": "completed"
    },
    "tags": []
   },
   "outputs": [],
   "source": [
    "def export_markdown_summary(md: str, md_fname:str, directory: str):\n",
    "    \"\"\"Export MD document and associated relevant images\"\"\"\n",
    "    import os\n",
    "    import shutil\n",
    "    import re\n",
    "\n",
    "    if (os.path.exists(directory) and not os.path.isdir(directory)):\n",
    "        raise RuntimeError(f\"a non-directory file exists with name {directory:s}\")\n",
    "\n",
    "    if (not os.path.exists(directory)):\n",
    "        print(f\"creating directory {directory:s}\")\n",
    "        os.mkdir(directory)\n",
    "\n",
    "    fig_fnames = (re.compile(r'\\[Fig.*\\]\\((.*)\\)').findall(md) + \n",
    "                  re.compile(r'\\<img src=\"([^>\\s]*)\"[^>]*/>').findall(md))\n",
    "    for fname in fig_fnames:\n",
    "        if 'http' in fname:\n",
    "            # No need to copy online figures\n",
    "            continue\n",
    "        destdir = os.path.join(directory, os.path.dirname(fname))\n",
    "        destfname = os.path.join(destdir, os.path.basename(fname))\n",
    "        try:\n",
    "            os.makedirs(destdir)\n",
    "        except FileExistsError:\n",
    "            pass\n",
    "        shutil.copy(fname, destfname)\n",
    "    with open(os.path.join(directory, md_fname), 'w') as fout:\n",
    "        fout.write(md)\n",
    "    print(\"exported in \", os.path.join(directory, md_fname))\n",
    "    [print(\"    + \" + os.path.join(directory,fk)) for fk in fig_fnames]"
   ]
  },
  {
   "cell_type": "code",
   "execution_count": 8,
   "id": "014d04a4",
   "metadata": {
    "execution": {
     "iopub.execute_input": "2022-10-07T04:42:08.329612Z",
     "iopub.status.busy": "2022-10-07T04:42:08.329289Z",
     "iopub.status.idle": "2022-10-07T04:42:08.332659Z",
     "shell.execute_reply": "2022-10-07T04:42:08.331872Z"
    },
    "papermill": {
     "duration": 0.014874,
     "end_time": "2022-10-07T04:42:08.334296",
     "exception": false,
     "start_time": "2022-10-07T04:42:08.319422",
     "status": "completed"
    },
    "tags": []
   },
   "outputs": [],
   "source": [
    "for paper_id, md in documents:\n",
    "    export_markdown_summary(md, f\"{paper_id:s}.md\", '_build/html/')"
   ]
  },
  {
   "cell_type": "markdown",
   "id": "f087a0a7",
   "metadata": {
    "papermill": {
     "duration": 0.008751,
     "end_time": "2022-10-07T04:42:08.351705",
     "exception": false,
     "start_time": "2022-10-07T04:42:08.342954",
     "status": "completed"
    },
    "tags": []
   },
   "source": [
    "## Display the papers\n",
    "\n",
    "Not necessary but allows for a quick check."
   ]
  },
  {
   "cell_type": "code",
   "execution_count": 9,
   "id": "fd25f625",
   "metadata": {
    "execution": {
     "iopub.execute_input": "2022-10-07T04:42:08.371597Z",
     "iopub.status.busy": "2022-10-07T04:42:08.371012Z",
     "iopub.status.idle": "2022-10-07T04:42:08.375247Z",
     "shell.execute_reply": "2022-10-07T04:42:08.374279Z"
    },
    "papermill": {
     "duration": 0.015226,
     "end_time": "2022-10-07T04:42:08.376838",
     "exception": false,
     "start_time": "2022-10-07T04:42:08.361612",
     "status": "completed"
    },
    "scrolled": false,
    "tags": []
   },
   "outputs": [],
   "source": [
    "[display(Markdown(k[1])) for k in documents];"
   ]
  },
  {
   "cell_type": "markdown",
   "id": "873873a4",
   "metadata": {
    "papermill": {
     "duration": 0.008696,
     "end_time": "2022-10-07T04:42:08.393711",
     "exception": false,
     "start_time": "2022-10-07T04:42:08.385015",
     "status": "completed"
    },
    "tags": []
   },
   "source": [
    "# Create HTML index"
   ]
  },
  {
   "cell_type": "code",
   "execution_count": 10,
   "id": "cf665672",
   "metadata": {
    "execution": {
     "iopub.execute_input": "2022-10-07T04:42:08.414711Z",
     "iopub.status.busy": "2022-10-07T04:42:08.413930Z",
     "iopub.status.idle": "2022-10-07T04:42:08.422936Z",
     "shell.execute_reply": "2022-10-07T04:42:08.422182Z"
    },
    "papermill": {
     "duration": 0.021813,
     "end_time": "2022-10-07T04:42:08.425059",
     "exception": false,
     "start_time": "2022-10-07T04:42:08.403246",
     "status": "completed"
    },
    "tags": []
   },
   "outputs": [
    {
     "name": "stdout",
     "output_type": "stream",
     "text": [
      "57  publications in the last 7 days.\n",
      "\t _build/html/2210.01811.md\n",
      "\t _build/html/2210.01809.md\n",
      "\t _build/html/2210.01556.md\n",
      "\t _build/html/2210.00863.md\n",
      "\t _build/html/2210.00560.md\n",
      "\t _build/html/2209.15403.md\n",
      "\t _build/html/2209.15110.md\n",
      "\t _build/html/2209.14410.md\n",
      "\t _build/html/2209.14396.md\n",
      "\t _build/html/2209.13717.md\n",
      "\t _build/html/2209.13336.md\n",
      "\t _build/html/2209.12906.md\n",
      "\t _build/html/2209.11781.md\n",
      "\t _build/html/2209.11602.md\n",
      "\t _build/html/2209.11248.md\n",
      "\t _build/html/2209.11096.md\n",
      "\t _build/html/2209.10618.md\n",
      "\t _build/html/2209.09914.md\n",
      "\t _build/html/2209.09823.md\n",
      "\t _build/html/2209.08242.md\n",
      "\t _build/html/2209.08120.md\n",
      "\t _build/html/2209.08106.md\n",
      "\t _build/html/2209.07962.md\n",
      "\t _build/html/2209.07931.md\n",
      "\t _build/html/2209.06833.md\n",
      "\t _build/html/2209.05814.md\n",
      "\t _build/html/2209.05593.md\n",
      "\t _build/html/2209.04304.md\n",
      "\t _build/html/2209.03367.md\n",
      "\t _build/html/2209.02872.md\n",
      "\t _build/html/2209.02725.md\n",
      "\t _build/html/2209.02722.md\n",
      "\t _build/html/2209.02092.md\n",
      "\t _build/html/2209.01125.md\n",
      "\t _build/html/2209.00828.md\n",
      "\t _build/html/2209.00363.md\n",
      "\t _build/html/2208.14927.md\n",
      "\t _build/html/2208.09335.md\n",
      "\t _build/html/2208.08872.md\n",
      "\t _build/html/2204.06393.md\n",
      "\t _build/html/2204.03335.md\n",
      "\t _build/html/2204.03253.md\n",
      "\t _build/html/2204.02998.md\n",
      "\t _build/html/2204.02109.md\n",
      "\t _build/html/2204.02017.md\n",
      "\t _build/html/2204.01824.md\n",
      "\t _build/html/2204.01758.md\n",
      "\t _build/html/2204.01245.md\n",
      "\t _build/html/2204.00793.md\n",
      "\t _build/html/2204.00342.md\n",
      "\t _build/html/2203.16959.md\n",
      "\t _build/html/2203.16856.md\n",
      "\t _build/html/2203.16735.md\n",
      "\t _build/html/2203.16734.md\n",
      "\t _build/html/2203.16504.md\n",
      "\t _build/html/2203.15822.md\n",
      "\t _build/html/2203.15811.md\n"
     ]
    }
   ],
   "source": [
    "from datetime import datetime, timedelta, timezone\n",
    "from glob import glob\n",
    "\n",
    "files = glob('_build/html/*.md')\n",
    "days = 7\n",
    "now = datetime.today()\n",
    "res = []\n",
    "for fk in files:\n",
    "    stat_result = os.stat(fk).st_ctime\n",
    "    modified = datetime.fromtimestamp(stat_result, tz=timezone.utc).replace(tzinfo=None)\n",
    "    delta = now.today() - modified\n",
    "    if delta <= timedelta(days=days):\n",
    "        res.append((delta.seconds, fk))\n",
    "res = [k[1] for k in reversed(sorted(res, key=lambda x:x[1]))]\n",
    "npub = len(res)\n",
    "print(len(res), f\" publications in the last {days:d} days.\")\n",
    "[ print('\\t', k) for k in res ];"
   ]
  },
  {
   "cell_type": "code",
   "execution_count": 11,
   "id": "52ca0208",
   "metadata": {
    "execution": {
     "iopub.execute_input": "2022-10-07T04:42:08.443440Z",
     "iopub.status.busy": "2022-10-07T04:42:08.442965Z",
     "iopub.status.idle": "2022-10-07T04:42:08.449179Z",
     "shell.execute_reply": "2022-10-07T04:42:08.448458Z"
    },
    "papermill": {
     "duration": 0.017507,
     "end_time": "2022-10-07T04:42:08.450864",
     "exception": false,
     "start_time": "2022-10-07T04:42:08.433357",
     "status": "completed"
    },
    "scrolled": false,
    "tags": []
   },
   "outputs": [],
   "source": [
    "def create_carousel(npub=4):\n",
    "    \"\"\" Generate the HTML code for a carousel with `npub` slides \"\"\"\n",
    "    carousel = [\"\"\"<section class=\"carousel\" aria-label=\"Gallery\">\"\"\",\n",
    "                \"\"\"  <ol class=\"carousel__viewport\">\"\"\",\n",
    "    ]\n",
    "    for k in range(1, npub + 1):\n",
    "        prev_ = k - 1\n",
    "        next_ = k + 1\n",
    "        if prev_ <= 0:\n",
    "            prev_ = npub\n",
    "        if next_ > npub:\n",
    "            next_ = 1\n",
    "        text  = f\"\"\"    <li id=\"carousel__slide{k}\" tabindex=\"0\" class=\"carousel__slide\">\\n\"\"\"\n",
    "        text += f\"\"\"       <div class=\"carousel__snapper\">\\n\"\"\"\n",
    "        text += f\"\"\"         <a href=\"#carousel__slide{prev_}\" class=\"carousel__prev\">Go to previous slide</a>\\n\"\"\"\n",
    "        text += f\"\"\"         <a href=\"#carousel__slide{next_}\" class=\"carousel__next\">Go to next slide</a>\\n\"\"\"\n",
    "        text += f\"\"\"         <div id=\"slide{k}_content\" class=\"md_view\" >Content {k}</div>\\n\"\"\"\n",
    "        text += f\"\"\"       </div>\\n\"\"\"\n",
    "        text += f\"\"\"    </li>\"\"\"\n",
    "        carousel.append(text)\n",
    "\n",
    "    carousel.extend([\n",
    "        \"\"\"  </ol>\"\"\",\n",
    "        \"\"\"  <aside class=\"carousel__navigation\">\"\"\",\n",
    "        \"\"\"    <ol class=\"carousel__navigation-list\">\"\"\"])\n",
    "\n",
    "    for k in range(1, npub + 1):\n",
    "        text  = f\"\"\"      <li class=\"carousel__navigation-item\">\\n\"\"\"\n",
    "        text += f\"\"\"        <a href=\"#carousel__slide{k}\" class=\"carousel__navigation-button\">Go to {k}</a>\\n\"\"\"\n",
    "        text += f\"\"\"      </li>\"\"\"\n",
    "        carousel.append(text)\n",
    "    carousel.extend([\"\"\"    </ol>\"\"\", \"\"\"  </aside>\"\"\", \"\"\"</section>\"\"\"])\n",
    "\n",
    "    return '\\n'.join(carousel)"
   ]
  },
  {
   "cell_type": "code",
   "execution_count": 12,
   "id": "a6eac5b6",
   "metadata": {
    "execution": {
     "iopub.execute_input": "2022-10-07T04:42:08.469777Z",
     "iopub.status.busy": "2022-10-07T04:42:08.469485Z",
     "iopub.status.idle": "2022-10-07T04:42:08.476234Z",
     "shell.execute_reply": "2022-10-07T04:42:08.475442Z"
    },
    "papermill": {
     "duration": 0.01844,
     "end_time": "2022-10-07T04:42:08.477894",
     "exception": false,
     "start_time": "2022-10-07T04:42:08.459454",
     "status": "completed"
    },
    "scrolled": false,
    "tags": []
   },
   "outputs": [],
   "source": [
    "carousel = create_carousel(npub)\n",
    "docs = ', '.join(['\"{0:s}\"'.format(k.split('/')[-1]) for k in res])\n",
    "slides = ', '.join([f'\"slide{k}_content\"' for k in range(1, npub + 1)])\n",
    "\n",
    "script = f\"\"\"\n",
    "const docs = [{docs}]\n",
    "\n",
    "const slides = [{slides}]\n",
    "\"\"\" + \"\"\"\n",
    "async function run() {\n",
    "    for (let i = 0; i < docs.length; i++) {\n",
    "        let file = await fetch(docs[i]);\n",
    "        let text = await file.text()\n",
    "        document.getElementById(slides[i]).innerHTML =\n",
    "            marked.parse(text);\n",
    "    }\n",
    "    hljs.highlightAll();\n",
    "}\n",
    "run()\n",
    "\"\"\"\n",
    "\n",
    "page = f\"\"\"<!doctype html>\n",
    "<html lang=\"en\">\n",
    "\n",
    "<head>\n",
    "  <meta charset=\"utf-8\">\n",
    "  <meta name=\"viewport\" content=\"width=device-width, initial-scale=1\">\n",
    "  <!-- Bootstrap CSS -->\n",
    "  <link href=\"https://cdn.jsdelivr.net/npm/bootstrap@5.0.2/dist/css/bootstrap.min.css\" rel=\"stylesheet\"\n",
    "   integrity=\"sha384-EVSTQN3/azprG1Anm3QDgpJLIm9Nao0Yz1ztcQTwFspd3yD65VohhpuuCOmLASjC\" crossorigin=\"anonymous\">\n",
    "  <!-- highlight.js CSS -->\n",
    "  <link rel=\"stylesheet\" href=\"https://cdnjs.cloudflare.com/ajax/libs/highlight.js/11.1.0/styles/default.min.css\">\n",
    "  <!-- Mathjax 3 -->\n",
    "  <script type=\"text/javascript\" id=\"MathJax-config\" src=\"mathjax_config.js\"> </script>\n",
    "  <script type=\"text/javascript\" id=\"MathJax-script\" async \n",
    "    src=\"https://cdn.jsdelivr.net/npm/mathjax@3/es5/tex-mml-chtml.js\">\n",
    "  </script>\n",
    "  <link rel=\"stylesheet\" href=\"index_carousel.css\">\n",
    "  <link rel=\"icon\" type=\"image/x-icon\" href=\"https://www.mpia.de/assets/touch-icon-32x32-a66937bcebc4e8894ebff1f41a366c7c7220fd97a38869ee0f2db65a9f59b6c1.png\">\n",
    "  <title>MPIA Arxiv on deck!</title>\n",
    "</head>\n",
    "\n",
    "<body>\n",
    "  <div id=\"header\"> <img src=\"header_banner.png\" width=\"100%\"></div>\n",
    "  <div id=\"suptitle\"> 7-day archives </div>\n",
    "  <div id=\"info\">\n",
    "    <img src=\"https://pngimg.com/uploads/github/github_PNG58.png\" height=30rem></img>\n",
    "    <a href=https://github.com/mpi-astronomy/arxiv_display style=\"color:black;\">github/mpi-astronomy/arxiv_display</a> \n",
    "  </div>\n",
    "  {carousel:s}\n",
    "</body>\n",
    "\n",
    "<!-- Render Markdown -->\n",
    "\n",
    "<body>\n",
    "  <!-- highlight.js: https://highlightjs.org/download/ -->\n",
    "  <script src=\"https://cdnjs.cloudflare.com/ajax/libs/highlight.js/11.5.0/highlight.min.js\"></script>\n",
    "  <!-- marked.js -->\n",
    "  <script src=\"https://cdn.jsdelivr.net/npm/marked/marked.min.js\"></script>\n",
    "  <script>{script:s}</script>\n",
    "</body>\n",
    "</html>\n",
    "\"\"\"\n",
    "with open(\"_build/html/index_7days.html\", 'w') as fout:\n",
    "    fout.write(page)"
   ]
  },
  {
   "cell_type": "markdown",
   "id": "1cebacbc",
   "metadata": {
    "papermill": {
     "duration": 0.008814,
     "end_time": "2022-10-07T04:42:08.495145",
     "exception": false,
     "start_time": "2022-10-07T04:42:08.486331",
     "status": "completed"
    },
    "tags": []
   },
   "source": [
    "# Debugging papers"
   ]
  },
  {
   "cell_type": "raw",
   "id": "debe7cc6",
   "metadata": {
    "papermill": {
     "duration": 0.008527,
     "end_time": "2022-10-07T04:42:08.512321",
     "exception": false,
     "start_time": "2022-10-07T04:42:08.503794",
     "status": "completed"
    },
    "tags": []
   },
   "source": [
    "raise NotImplementedError(\"Manual Stop\")"
   ]
  },
  {
   "cell_type": "raw",
   "id": "eb169192",
   "metadata": {
    "papermill": {
     "duration": 0.008465,
     "end_time": "2022-10-07T04:42:08.529195",
     "exception": false,
     "start_time": "2022-10-07T04:42:08.520730",
     "status": "completed"
    },
    "scrolled": true,
    "tags": []
   },
   "source": [
    "from IPython.display import display, Markdown\n",
    "from TexSoup import TexSoup\n",
    "import re\n",
    "\n",
    "def bracket_error(source: str):\n",
    "    \"\"\" Find problematic portions of the document \"\"\"\n",
    "    \n",
    "    print(\"len(source)\", len(source))\n",
    "    \n",
    "    # Checking header\n",
    "    begin_doc = next(re.finditer(r'\\\\begin\\{document\\}', doc.source)).span()[1]\n",
    "    header = source[:begin_doc]\n",
    "    text = header + r\"\\n\\end{document}\"\n",
    "\n",
    "    try:\n",
    "        # print(\"Header check... \", end='')\n",
    "        TexSoup(text)\n",
    "        display(Markdown(f\"**[OK]** - Header\"))\n",
    "    except:\n",
    "        raise RuntimeError(\"Error in the header\")\n",
    "        \n",
    "    # Check the text per section until the end.\n",
    "    # Do not stop and try them all.\n",
    "    \n",
    "    problematic_text = []\n",
    "    \n",
    "    sections = ([(0, begin_doc, 'until first section')] + \n",
    "                [(g.span()[0], g.span()[1], g.group()) for g in re.finditer(r'\\\\section\\{.*\\}', source)] +\n",
    "                [(g.span()[0], g.span()[1], g.group()) for g in re.finditer(r'\\\\begin\\{appendix\\}', source)]\n",
    "               )\n",
    "    sections.append([len(source), len(source), 'end'])\n",
    "    \n",
    "    sections = sorted(sections, key=lambda x: x[0])\n",
    "    \n",
    "    prev_pos, prev_name = (0, 'header')\n",
    "    parsed = []\n",
    "    \n",
    "    for span, span_end, name in sections:\n",
    "\n",
    "        if span - prev_pos <= 0:\n",
    "            continue\n",
    "            \n",
    "\n",
    "        text = source[prev_pos:span]\n",
    "        if prev_pos > begin_doc:\n",
    "            text = r\"\\n\\begin{document}\" + text + r\"\\n\\end{document}\"\n",
    "        else:\n",
    "            text = text + r\"\\n\\end{document}\"\n",
    "        try:\n",
    "            #print(f\"{prev_pos}:{prev_name}-->{span}:{name} check... \", end='')\n",
    "            parsed.append(TexSoup(text, tolerance=1))  # allow not ending env\n",
    "            display(Markdown(f\"**[OK]** - *{prev_pos}*:{prev_name} &rarr; *{span}*:{name}\"))\n",
    "            # print(\"ok\")\n",
    "\n",
    "            prev_pos = span\n",
    "            prev_name = name\n",
    "        except:\n",
    "            # print(f\"error between {prev_pos} and {span}\")\n",
    "            display(Markdown(f\"**[ERR]** *{prev_pos}*:{prev_name} &rarr; *{span}*:{name}\"))\n",
    "            problematic_text.append((prev_pos, source[prev_pos:span]))\n",
    "            prev_pos = span\n",
    "            prev_name = name\n",
    "            # raise\n",
    "    return problematic_text, parsed\n",
    "\n",
    "\n",
    "def check_environment(text, offset=0):\n",
    "    \"\"\" Check environment \"\"\"\n",
    "    env = re.compile(r\"\\\\begin\\{(?P<env>.*)\\}(.*)\\\\end\\{(?P=env)\\}\", re.DOTALL)\n",
    "\n",
    "    for match in env.finditer(text):\n",
    "        beg, end = match.span()\n",
    "        beg += offset\n",
    "        end += offset\n",
    "        envname = match.groups()[0]\n",
    "        try:\n",
    "            latex.TexSoup(match.group())\n",
    "        except Exception as e:\n",
    "            display(e)\n",
    "            print(f\"Error in {envname:s} between {beg} and {end}\")\n",
    "            return match.groups()[1], beg, end"
   ]
  },
  {
   "cell_type": "raw",
   "id": "2315e835",
   "metadata": {
    "papermill": {
     "duration": 0.008413,
     "end_time": "2022-10-07T04:42:08.546621",
     "exception": false,
     "start_time": "2022-10-07T04:42:08.538208",
     "status": "completed"
    },
    "scrolled": false,
    "tags": []
   },
   "source": [
    "import importlib\n",
    "importlib.reload(latex)\n",
    "which = \"2204.03253\"\n",
    "paper_id = f'{which:s}'\n",
    "folder = f'tmp_{paper_id:s}'\n",
    "\n",
    "if not os.path.isdir(folder):\n",
    "    folder = retrieve_document_source(f\"{paper_id}\", f'tmp_{paper_id}')\n",
    "\n",
    "try:\n",
    "    doc = latex.LatexDocument(folder, validation=validation)    \n",
    "except AffiliationError as affilerror:\n",
    "    msg = f\"ArXiv:{paper_id:s} is not an MPIA paper... \" + str(affilerror)\n",
    "    print(msg)\n",
    "\n",
    "\n",
    "# Hack because sometimes author parsing does not work well\n",
    "if (len(doc.authors) != len(paper['authors'])):\n",
    "    doc._authors = paper['authors']\n",
    "if (doc.abstract) in (None, ''):\n",
    "    doc._abstract = paper['abstract']\n",
    "\n",
    "doc.comment = get_markdown_badge(paper_id) + \" _\" + paper['comments'] + \"_\"\n",
    "doc.highlight_authors_in_list(hl_list)\n",
    "\n",
    "full_md = doc.generate_markdown_text()"
   ]
  },
  {
   "cell_type": "raw",
   "id": "dd3781db",
   "metadata": {
    "papermill": {
     "duration": 0.008428,
     "end_time": "2022-10-07T04:42:08.563518",
     "exception": false,
     "start_time": "2022-10-07T04:42:08.555090",
     "status": "completed"
    },
    "scrolled": false,
    "tags": []
   },
   "source": [
    "doc"
   ]
  },
  {
   "cell_type": "raw",
   "id": "c6eed834",
   "metadata": {
    "papermill": {
     "duration": 0.00826,
     "end_time": "2022-10-07T04:42:08.580406",
     "exception": false,
     "start_time": "2022-10-07T04:42:08.572146",
     "status": "completed"
    },
    "tags": []
   },
   "source": [
    "# [check_environment(k) for k in bracket_error(doc.source)]\n",
    "_, _, a = latex.get_content_per_section(doc.source, verbose=True)\n",
    "if not a:\n",
    "    print(\"no issues per section\")\n",
    "for ak in a:\n",
    "    r = check_environment(ak[1], offset=ak[0])\n",
    "    print(r[1], r[2])\n",
    "    print(r[0])"
   ]
  },
  {
   "cell_type": "code",
   "execution_count": null,
   "id": "71ce768a",
   "metadata": {
    "papermill": {
     "duration": 0.008342,
     "end_time": "2022-10-07T04:42:08.597392",
     "exception": false,
     "start_time": "2022-10-07T04:42:08.589050",
     "status": "completed"
    },
    "tags": []
   },
   "outputs": [],
   "source": []
  }
 ],
 "metadata": {
  "kernelspec": {
   "display_name": "Python 3.10.6 64-bit",
   "language": "python",
   "name": "python3"
  },
  "language_info": {
   "codemirror_mode": {
    "name": "ipython",
    "version": 3
   },
   "file_extension": ".py",
   "mimetype": "text/x-python",
   "name": "python",
   "nbconvert_exporter": "python",
   "pygments_lexer": "ipython3",
   "version": "3.9.14"
  },
  "papermill": {
   "default_parameters": {},
   "duration": 99.077921,
   "end_time": "2022-10-07T04:42:08.824054",
   "environment_variables": {},
   "exception": null,
   "input_path": "MPIA daily digest.ipynb",
   "output_path": "log.ipynb",
   "parameters": {},
   "start_time": "2022-10-07T04:40:29.746133",
   "version": "2.4.0"
  },
  "vscode": {
   "interpreter": {
    "hash": "e7370f93d1d0cde622a1f8e1c04877d8463912d04d973331ad4851f04de6915a"
   }
  },
  "widgets": {
   "application/vnd.jupyter.widget-state+json": {
    "state": {
     "03e171a85c1c486a90a0059f5e7dc31b": {
      "model_module": "@jupyter-widgets/base",
      "model_module_version": "2.0.0",
      "model_name": "LayoutModel",
      "state": {
       "_model_module": "@jupyter-widgets/base",
       "_model_module_version": "2.0.0",
       "_model_name": "LayoutModel",
       "_view_count": null,
       "_view_module": "@jupyter-widgets/base",
       "_view_module_version": "2.0.0",
       "_view_name": "LayoutView",
       "align_content": null,
       "align_items": null,
       "align_self": null,
       "border_bottom": null,
       "border_left": null,
       "border_right": null,
       "border_top": null,
       "bottom": null,
       "display": null,
       "flex": null,
       "flex_flow": null,
       "grid_area": null,
       "grid_auto_columns": null,
       "grid_auto_flow": null,
       "grid_auto_rows": null,
       "grid_column": null,
       "grid_gap": null,
       "grid_row": null,
       "grid_template_areas": null,
       "grid_template_columns": null,
       "grid_template_rows": null,
       "height": null,
       "justify_content": null,
       "justify_items": null,
       "left": null,
       "margin": null,
       "max_height": null,
       "max_width": null,
       "min_height": null,
       "min_width": null,
       "object_fit": null,
       "object_position": null,
       "order": null,
       "overflow": null,
       "padding": null,
       "right": null,
       "top": null,
       "visibility": null,
       "width": null
      }
     },
     "1d53f877ac2b466eaeb4da2b5e2a60b1": {
      "model_module": "@jupyter-widgets/base",
      "model_module_version": "2.0.0",
      "model_name": "LayoutModel",
      "state": {
       "_model_module": "@jupyter-widgets/base",
       "_model_module_version": "2.0.0",
       "_model_name": "LayoutModel",
       "_view_count": null,
       "_view_module": "@jupyter-widgets/base",
       "_view_module_version": "2.0.0",
       "_view_name": "LayoutView",
       "align_content": null,
       "align_items": null,
       "align_self": null,
       "border_bottom": null,
       "border_left": null,
       "border_right": null,
       "border_top": null,
       "bottom": null,
       "display": null,
       "flex": null,
       "flex_flow": null,
       "grid_area": null,
       "grid_auto_columns": null,
       "grid_auto_flow": null,
       "grid_auto_rows": null,
       "grid_column": null,
       "grid_gap": null,
       "grid_row": null,
       "grid_template_areas": null,
       "grid_template_columns": null,
       "grid_template_rows": null,
       "height": null,
       "justify_content": null,
       "justify_items": null,
       "left": null,
       "margin": null,
       "max_height": null,
       "max_width": null,
       "min_height": null,
       "min_width": null,
       "object_fit": null,
       "object_position": null,
       "order": null,
       "overflow": null,
       "padding": null,
       "right": null,
       "top": null,
       "visibility": null,
       "width": null
      }
     },
     "383b2cc470964a53a729daf177158148": {
      "model_module": "@jupyter-widgets/controls",
      "model_module_version": "2.0.0",
      "model_name": "HTMLStyleModel",
      "state": {
       "_model_module": "@jupyter-widgets/controls",
       "_model_module_version": "2.0.0",
       "_model_name": "HTMLStyleModel",
       "_view_count": null,
       "_view_module": "@jupyter-widgets/base",
       "_view_module_version": "2.0.0",
       "_view_name": "StyleView",
       "background": null,
       "description_width": "",
       "font_size": null,
       "text_color": null
      }
     },
     "4ff635bd3b9d4eba8811b8e7a9b6bb8a": {
      "model_module": "@jupyter-widgets/controls",
      "model_module_version": "2.0.0",
      "model_name": "ProgressStyleModel",
      "state": {
       "_model_module": "@jupyter-widgets/controls",
       "_model_module_version": "2.0.0",
       "_model_name": "ProgressStyleModel",
       "_view_count": null,
       "_view_module": "@jupyter-widgets/base",
       "_view_module_version": "2.0.0",
       "_view_name": "StyleView",
       "bar_color": null,
       "description_width": ""
      }
     },
     "ba7016541f5843c8af2d2333d93cc8c9": {
      "model_module": "@jupyter-widgets/base",
      "model_module_version": "2.0.0",
      "model_name": "LayoutModel",
      "state": {
       "_model_module": "@jupyter-widgets/base",
       "_model_module_version": "2.0.0",
       "_model_name": "LayoutModel",
       "_view_count": null,
       "_view_module": "@jupyter-widgets/base",
       "_view_module_version": "2.0.0",
       "_view_name": "LayoutView",
       "align_content": null,
       "align_items": null,
       "align_self": null,
       "border_bottom": null,
       "border_left": null,
       "border_right": null,
       "border_top": null,
       "bottom": null,
       "display": null,
       "flex": null,
       "flex_flow": null,
       "grid_area": null,
       "grid_auto_columns": null,
       "grid_auto_flow": null,
       "grid_auto_rows": null,
       "grid_column": null,
       "grid_gap": null,
       "grid_row": null,
       "grid_template_areas": null,
       "grid_template_columns": null,
       "grid_template_rows": null,
       "height": null,
       "justify_content": null,
       "justify_items": null,
       "left": null,
       "margin": null,
       "max_height": null,
       "max_width": null,
       "min_height": null,
       "min_width": null,
       "object_fit": null,
       "object_position": null,
       "order": null,
       "overflow": null,
       "padding": null,
       "right": null,
       "top": null,
       "visibility": null,
       "width": null
      }
     },
     "bc543de232944db298eea3ec94fc09c3": {
      "model_module": "@jupyter-widgets/base",
      "model_module_version": "2.0.0",
      "model_name": "LayoutModel",
      "state": {
       "_model_module": "@jupyter-widgets/base",
       "_model_module_version": "2.0.0",
       "_model_name": "LayoutModel",
       "_view_count": null,
       "_view_module": "@jupyter-widgets/base",
       "_view_module_version": "2.0.0",
       "_view_name": "LayoutView",
       "align_content": null,
       "align_items": null,
       "align_self": null,
       "border_bottom": null,
       "border_left": null,
       "border_right": null,
       "border_top": null,
       "bottom": null,
       "display": null,
       "flex": null,
       "flex_flow": null,
       "grid_area": null,
       "grid_auto_columns": null,
       "grid_auto_flow": null,
       "grid_auto_rows": null,
       "grid_column": null,
       "grid_gap": null,
       "grid_row": null,
       "grid_template_areas": null,
       "grid_template_columns": null,
       "grid_template_rows": null,
       "height": null,
       "justify_content": null,
       "justify_items": null,
       "left": null,
       "margin": null,
       "max_height": null,
       "max_width": null,
       "min_height": null,
       "min_width": null,
       "object_fit": null,
       "object_position": null,
       "order": null,
       "overflow": null,
       "padding": null,
       "right": null,
       "top": null,
       "visibility": null,
       "width": null
      }
     },
     "c45308f727f545589da235ba7e7d01e7": {
      "model_module": "@jupyter-widgets/controls",
      "model_module_version": "2.0.0",
      "model_name": "HTMLModel",
      "state": {
       "_dom_classes": [],
       "_model_module": "@jupyter-widgets/controls",
       "_model_module_version": "2.0.0",
       "_model_name": "HTMLModel",
       "_view_count": null,
       "_view_module": "@jupyter-widgets/controls",
       "_view_module_version": "2.0.0",
       "_view_name": "HTMLView",
       "description": "",
       "description_allow_html": false,
       "layout": "IPY_MODEL_1d53f877ac2b466eaeb4da2b5e2a60b1",
       "placeholder": "​",
       "style": "IPY_MODEL_383b2cc470964a53a729daf177158148",
       "tabbable": null,
       "tooltip": null,
       "value": "100%"
      }
     },
     "ca7feea3b5d342cc96f6adcd52dafc6e": {
      "model_module": "@jupyter-widgets/controls",
      "model_module_version": "2.0.0",
      "model_name": "HTMLModel",
      "state": {
       "_dom_classes": [],
       "_model_module": "@jupyter-widgets/controls",
       "_model_module_version": "2.0.0",
       "_model_name": "HTMLModel",
       "_view_count": null,
       "_view_module": "@jupyter-widgets/controls",
       "_view_module_version": "2.0.0",
       "_view_name": "HTMLView",
       "description": "",
       "description_allow_html": false,
       "layout": "IPY_MODEL_ba7016541f5843c8af2d2333d93cc8c9",
       "placeholder": "​",
       "style": "IPY_MODEL_dc8ebdd0e47f48818633675bfb8e2989",
       "tabbable": null,
       "tooltip": null,
       "value": " 20/20 [01:08&lt;00:00,  3.56s/it]"
      }
     },
     "cf3d4068ab4549cb97c3a46bc70bc97a": {
      "model_module": "@jupyter-widgets/controls",
      "model_module_version": "2.0.0",
      "model_name": "FloatProgressModel",
      "state": {
       "_dom_classes": [],
       "_model_module": "@jupyter-widgets/controls",
       "_model_module_version": "2.0.0",
       "_model_name": "FloatProgressModel",
       "_view_count": null,
       "_view_module": "@jupyter-widgets/controls",
       "_view_module_version": "2.0.0",
       "_view_name": "ProgressView",
       "bar_style": "success",
       "description": "",
       "description_allow_html": false,
       "layout": "IPY_MODEL_03e171a85c1c486a90a0059f5e7dc31b",
       "max": 20.0,
       "min": 0.0,
       "orientation": "horizontal",
       "style": "IPY_MODEL_4ff635bd3b9d4eba8811b8e7a9b6bb8a",
       "tabbable": null,
       "tooltip": null,
       "value": 20.0
      }
     },
     "dc8ebdd0e47f48818633675bfb8e2989": {
      "model_module": "@jupyter-widgets/controls",
      "model_module_version": "2.0.0",
      "model_name": "HTMLStyleModel",
      "state": {
       "_model_module": "@jupyter-widgets/controls",
       "_model_module_version": "2.0.0",
       "_model_name": "HTMLStyleModel",
       "_view_count": null,
       "_view_module": "@jupyter-widgets/base",
       "_view_module_version": "2.0.0",
       "_view_name": "StyleView",
       "background": null,
       "description_width": "",
       "font_size": null,
       "text_color": null
      }
     },
     "ec4b9dc30de244b0a8d5008aea7854ed": {
      "model_module": "@jupyter-widgets/controls",
      "model_module_version": "2.0.0",
      "model_name": "HBoxModel",
      "state": {
       "_dom_classes": [],
       "_model_module": "@jupyter-widgets/controls",
       "_model_module_version": "2.0.0",
       "_model_name": "HBoxModel",
       "_view_count": null,
       "_view_module": "@jupyter-widgets/controls",
       "_view_module_version": "2.0.0",
       "_view_name": "HBoxView",
       "box_style": "",
       "children": [
        "IPY_MODEL_c45308f727f545589da235ba7e7d01e7",
        "IPY_MODEL_cf3d4068ab4549cb97c3a46bc70bc97a",
        "IPY_MODEL_ca7feea3b5d342cc96f6adcd52dafc6e"
       ],
       "layout": "IPY_MODEL_bc543de232944db298eea3ec94fc09c3",
       "tabbable": null,
       "tooltip": null
      }
     }
    },
    "version_major": 2,
    "version_minor": 0
   }
  }
 },
 "nbformat": 4,
 "nbformat_minor": 5
}