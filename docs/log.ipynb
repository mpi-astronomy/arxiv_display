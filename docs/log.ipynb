{
 "cells": [
  {
   "cell_type": "markdown",
   "id": "92bcb855",
   "metadata": {
    "papermill": {
     "duration": 0.003602,
     "end_time": "2025-10-16T04:12:08.641518",
     "exception": false,
     "start_time": "2025-10-16T04:12:08.637916",
     "status": "completed"
    },
    "tags": []
   },
   "source": [
    "# MPIA Arxiv on Deck 2\n",
    "\n",
    "Contains the steps to produce the paper extractions."
   ]
  },
  {
   "cell_type": "code",
   "execution_count": 1,
   "id": "3a0d6e11",
   "metadata": {
    "execution": {
     "iopub.execute_input": "2025-10-16T04:12:08.648419Z",
     "iopub.status.busy": "2025-10-16T04:12:08.648228Z",
     "iopub.status.idle": "2025-10-16T04:12:08.851050Z",
     "shell.execute_reply": "2025-10-16T04:12:08.850440Z"
    },
    "papermill": {
     "duration": 0.207668,
     "end_time": "2025-10-16T04:12:08.852370",
     "exception": false,
     "start_time": "2025-10-16T04:12:08.644702",
     "status": "completed"
    },
    "tags": []
   },
   "outputs": [],
   "source": [
    "# Imports\n",
    "import os\n",
    "from IPython.display import Markdown, display\n",
    "from tqdm.notebook import tqdm\n",
    "import warnings\n",
    "from PIL import Image \n",
    "import re\n",
    "\n",
    "# requires arxiv_on_deck_2\n",
    "\n",
    "from arxiv_on_deck_2.arxiv2 import (get_new_papers, \n",
    "                                    get_paper_from_identifier,\n",
    "                                    retrieve_document_source, \n",
    "                                    get_markdown_badge)\n",
    "from arxiv_on_deck_2 import (latex,\n",
    "                             latex_bib,\n",
    "                             mpia,\n",
    "                             highlight_authors_in_list)\n",
    "\n",
    "# Sometimes images are really big\n",
    "Image.MAX_IMAGE_PIXELS = 1000000000 "
   ]
  },
  {
   "cell_type": "code",
   "execution_count": 2,
   "id": "22aa9d44",
   "metadata": {
    "execution": {
     "iopub.execute_input": "2025-10-16T04:12:08.859438Z",
     "iopub.status.busy": "2025-10-16T04:12:08.859238Z",
     "iopub.status.idle": "2025-10-16T04:12:08.867236Z",
     "shell.execute_reply": "2025-10-16T04:12:08.866643Z"
    },
    "papermill": {
     "duration": 0.012575,
     "end_time": "2025-10-16T04:12:08.868252",
     "exception": false,
     "start_time": "2025-10-16T04:12:08.855677",
     "status": "completed"
    },
    "tags": []
   },
   "outputs": [],
   "source": [
    "# Some useful definitions.\n",
    "\n",
    "class AffiliationWarning(UserWarning):\n",
    "    pass\n",
    "\n",
    "class AffiliationError(RuntimeError):\n",
    "    pass\n",
    "\n",
    "def validation(source: str):\n",
    "    \"\"\"Raises error paper during parsing of source file\n",
    "    \n",
    "    Allows checks before parsing TeX code.\n",
    "    \n",
    "    Raises AffiliationWarning\n",
    "    \"\"\"\n",
    "    check = mpia.affiliation_verifications(source, verbose=True)\n",
    "    if check is not True:\n",
    "        raise AffiliationError(\"mpia.affiliation_verifications: \" + check)\n",
    "\n",
    "        \n",
    "warnings.simplefilter('always', AffiliationWarning)\n",
    "\n",
    "\n",
    "def get_markdown_qrcode(paper_id: str):\n",
    "    \"\"\" Generate a qrcode to the arxiv page using qrserver.com\n",
    "    \n",
    "    :param paper: Arxiv paper\n",
    "    :returns: markdown text\n",
    "    \"\"\"\n",
    "    url = r\"https://api.qrserver.com/v1/create-qr-code/?size=100x100&data=\"\n",
    "    txt = f\"\"\"<img src={url}\"https://arxiv.org/abs/{paper_id}\">\"\"\"\n",
    "    txt = '<div id=\"qrcode\">' + txt + '</div>'\n",
    "    return txt\n",
    "\n",
    "\n",
    "def clean_non_western_encoded_characters_commands(text: str) -> str:\n",
    "    \"\"\" Remove non-western encoded characters from a string\n",
    "    List may need to grow.\n",
    "    \n",
    "    :param text: the text to clean\n",
    "    :return: the cleaned text\n",
    "    \"\"\"\n",
    "    text = re.sub(r\"(\\\\begin{CJK}{UTF8}{gbsn})(.*?)(\\\\end{CJK})\", r\"\\2\", text)\n",
    "    return text\n",
    "\n",
    "\n",
    "def get_initials(name: str) -> str:\n",
    "    \"\"\" Get the short name, e.g., A.-B. FamName\n",
    "    :param name: full name\n",
    "    :returns: initials\n",
    "    \"\"\"\n",
    "    initials = []\n",
    "    # account for non western names often in ()\n",
    "    if '(' in name:\n",
    "        name = clean_non_western_encoded_characters_commands(name)\n",
    "        suffix = re.findall(r\"\\((.*?)\\)\", name)[0]\n",
    "        name = name.replace(f\"({suffix})\", '')\n",
    "    else:\n",
    "        suffix = ''\n",
    "    split = name.split()\n",
    "    for token in split[:-1]:\n",
    "        if '-' in token:\n",
    "            current = '-'.join([k[0] + '.' for k in token.split('-')])\n",
    "        else:\n",
    "            current = token[0] + '.'\n",
    "        initials.append(current)\n",
    "    initials.append(split[-1].strip())\n",
    "    if suffix:\n",
    "        initials.append(f\"({suffix})\")\n",
    "    return ' '.join(initials)"
   ]
  },
  {
   "cell_type": "markdown",
   "id": "14bd6310",
   "metadata": {
    "papermill": {
     "duration": 0.002884,
     "end_time": "2025-10-16T04:12:08.874110",
     "exception": false,
     "start_time": "2025-10-16T04:12:08.871226",
     "status": "completed"
    },
    "tags": []
   },
   "source": [
    "## get list of arxiv paper candidates\n",
    "\n",
    "We use the MPIA mitarbeiter list webpage from mpia.de to get author names\n",
    "We then get all new papers from Arxiv and match authors"
   ]
  },
  {
   "cell_type": "code",
   "execution_count": 3,
   "id": "7ea813a8",
   "metadata": {
    "execution": {
     "iopub.execute_input": "2025-10-16T04:12:08.880685Z",
     "iopub.status.busy": "2025-10-16T04:12:08.880490Z",
     "iopub.status.idle": "2025-10-16T04:12:30.659671Z",
     "shell.execute_reply": "2025-10-16T04:12:30.659062Z"
    },
    "papermill": {
     "duration": 21.783767,
     "end_time": "2025-10-16T04:12:30.660852",
     "exception": false,
     "start_time": "2025-10-16T04:12:08.877085",
     "status": "completed"
    },
    "tags": []
   },
   "outputs": [],
   "source": [
    "# deal with the author list and edge cases of people that cannot be consistent on their name  \n",
    "\n",
    "def filter_non_scientists(name: str) -> bool:\n",
    "    \"\"\" Loose filter on expected authorships\n",
    "\n",
    "    removing IT, administration, technical staff\n",
    "    :param name: name\n",
    "    :returns: False if name is not a scientist\n",
    "    \"\"\"\n",
    "    remove_list = ['Licht', 'Binroth', 'Witzel', 'Jordan',\n",
    "                   'Zähringer', 'Scheerer', 'Hoffmann', 'Düe',\n",
    "                   'Hellmich', 'Enkler-Scharpegge', 'Witte-Nguy',\n",
    "                   'Dehen', 'Beckmann', 'Jager', 'Jäger'\n",
    "                  ]\n",
    "\n",
    "    for k in remove_list:\n",
    "        if k in name:\n",
    "            return False\n",
    "    return True\n",
    "\n",
    "def add_author_to_list(author_list: list) -> list:\n",
    "    \"\"\" Add author to list if not already in list\n",
    "    \n",
    "    :param author: author name\n",
    "    :param author_list: list of authors\n",
    "    :returns: updated list of authors\n",
    "    \"\"\"\n",
    "    add_list = ['T. Henning']\n",
    "\n",
    "    for author in add_list:\n",
    "        if author not in author_list:\n",
    "            author_list.append(author)\n",
    "    return author_list\n",
    "\n",
    "# get list from MPIA website\n",
    "# filter for non-scientists (mpia.get_mpia_mitarbeiter_list() does some filtering)\n",
    "mpia_authors = [k[1] for k in mpia.get_mpia_mitarbeiter_list() if filter_non_scientists(k[1])]\n",
    "# add some missing author because of inconsistencies in their MPIA name and author name on papers\n",
    "mpia_authors = add_author_to_list(mpia_authors)"
   ]
  },
  {
   "cell_type": "code",
   "execution_count": 4,
   "id": "2645e73a",
   "metadata": {
    "execution": {
     "iopub.execute_input": "2025-10-16T04:12:30.668114Z",
     "iopub.status.busy": "2025-10-16T04:12:30.667915Z",
     "iopub.status.idle": "2025-10-16T04:12:31.579775Z",
     "shell.execute_reply": "2025-10-16T04:12:31.579097Z"
    },
    "papermill": {
     "duration": 0.916613,
     "end_time": "2025-10-16T04:12:31.580804",
     "exception": false,
     "start_time": "2025-10-16T04:12:30.664191",
     "status": "completed"
    },
    "tags": []
   },
   "outputs": [
    {
     "name": "stdout",
     "output_type": "stream",
     "text": [
      "H. Beuther  ->  H. Beuther  |  ['H. Beuther']\n"
     ]
    },
    {
     "name": "stdout",
     "output_type": "stream",
     "text": [
      "K. Jahnke  ->  K. Jahnke  |  ['K. Jahnke']\n",
      "A. P  ->  A. P. Garcia  |  ['A. P']\n",
      "Arxiv has 73 new papers today\n",
      "          3 with possible author matches\n"
     ]
    }
   ],
   "source": [
    "new_papers = get_new_papers()\n",
    "# add manual references\n",
    "add_paper_refs = []\n",
    "new_papers.extend([get_paper_from_identifier(k) for k in add_paper_refs])\n",
    "\n",
    "def robust_call(fn, value, *args, **kwargs):\n",
    "    try:\n",
    "        return fn(value, *args, **kwargs)\n",
    "    except Exception:\n",
    "        return value\n",
    "\n",
    "candidates = []\n",
    "for paperk in new_papers:\n",
    "    # Check author list with their initials\n",
    "    normed_author_list = [robust_call(mpia.get_initials, k) for k in paperk['authors']]\n",
    "    hl_authors = highlight_authors_in_list(normed_author_list, mpia_authors, verbose=True)\n",
    "    matches = [(hl, orig) for hl, orig in zip(hl_authors, paperk['authors']) if 'mark' in hl]\n",
    "    paperk['authors'] = hl_authors\n",
    "    if matches:\n",
    "        # only select paper if an author matched our list\n",
    "        candidates.append(paperk)\n",
    "print(\"\"\"Arxiv has {0:,d} new papers today\"\"\".format(len(new_papers)))        \n",
    "print(\"\"\"          {0:,d} with possible author matches\"\"\".format(len(candidates)))"
   ]
  },
  {
   "cell_type": "markdown",
   "id": "3543b34a",
   "metadata": {
    "papermill": {
     "duration": 0.003124,
     "end_time": "2025-10-16T04:12:31.587387",
     "exception": false,
     "start_time": "2025-10-16T04:12:31.584263",
     "status": "completed"
    },
    "tags": []
   },
   "source": [
    "# Parse sources and generate relevant outputs\n",
    "\n",
    "From the candidates, we do the following steps:\n",
    "* get their tarball from ArXiv (and extract data)\n",
    "* find the main .tex file: find one with \\documentclass{...} (sometimes it's non trivial)\n",
    "* Check affiliations with :func:`validation`, which uses :func:`mpia.affiliation_verifications`\n",
    "* If passing the affiliations: we parse the .tex source\n",
    "   * inject sub-documents into the main (flatten the main document)\n",
    "   * parse structure, extract information (title, abstract, authors, figures...)\n",
    "   * handles `\\graphicspath` if provided\n",
    "* Generate the .md document."
   ]
  },
  {
   "cell_type": "code",
   "execution_count": 5,
   "id": "9576b79e",
   "metadata": {
    "execution": {
     "iopub.execute_input": "2025-10-16T04:12:31.594297Z",
     "iopub.status.busy": "2025-10-16T04:12:31.594101Z",
     "iopub.status.idle": "2025-10-16T04:13:06.149939Z",
     "shell.execute_reply": "2025-10-16T04:13:06.149172Z"
    },
    "papermill": {
     "duration": 34.560459,
     "end_time": "2025-10-16T04:13:06.150962",
     "exception": false,
     "start_time": "2025-10-16T04:12:31.590503",
     "status": "completed"
    },
    "scrolled": false,
    "tags": []
   },
   "outputs": [
    {
     "data": {
      "application/vnd.jupyter.widget-view+json": {
       "model_id": "3af15cbeb3d34c3fa5bb9f7786bc3951",
       "version_major": 2,
       "version_minor": 0
      },
      "text/plain": [
       "  0%|          | 0/3 [00:00<?, ?it/s]"
      ]
     },
     "metadata": {},
     "output_type": "display_data"
    },
    {
     "name": "stdout",
     "output_type": "stream",
     "text": [
      "Retrieving document from  https://arxiv.org/e-print/2510.12892\n"
     ]
    },
    {
     "name": "stdout",
     "output_type": "stream",
     "text": [
      "extracting tarball to tmp_2510.12892..."
     ]
    },
    {
     "name": "stdout",
     "output_type": "stream",
     "text": [
      " done.\n"
     ]
    },
    {
     "name": "stderr",
     "output_type": "stream",
     "text": [
      "/opt/hostedtoolcache/Python/3.9.23/x64/lib/python3.9/site-packages/IPython/core/interactiveshell.py:3550: LatexWarning: Multiple tex files.\n",
      "\n",
      "  exec(code_obj, self.user_global_ns, self.user_ns)\n",
      "/opt/hostedtoolcache/Python/3.9.23/x64/lib/python3.9/site-packages/IPython/core/interactiveshell.py:3550: LatexWarning: Found documentclass in tmp_2510.12892/main.tex\n",
      "\n",
      "  exec(code_obj, self.user_global_ns, self.user_ns)\n",
      "/opt/hostedtoolcache/Python/3.9.23/x64/lib/python3.9/site-packages/arxiv_on_deck_2/latex.py:414: LatexWarning: Latex injecting: 'authors.tex' from 'tmp_2510.12892/authors.tex'\n",
      "  warnings.warn(LatexWarning(f\"Latex injecting: '{ext}' from '{subsource}'\"))\n"
     ]
    },
    {
     "name": "stdout",
     "output_type": "stream",
     "text": [
      "H. Beuther  ->  H. Beuther  |  ['H. Beuther']\n"
     ]
    },
    {
     "name": "stderr",
     "output_type": "stream",
     "text": [
      "/opt/hostedtoolcache/Python/3.9.23/x64/lib/python3.9/site-packages/arxiv_on_deck_2/latex.py:132: LatexWarning: attempting recovering figure almagal_near_max_thresh.pdf\n",
      "  warnings.warn(LatexWarning(f'attempting recovering figure {image}'))\n",
      "/opt/hostedtoolcache/Python/3.9.23/x64/lib/python3.9/site-packages/arxiv_on_deck_2/latex.py:707: LatexWarning: Could not find graphic \\includegraphics{almagal_near_max_thresh.pdf}\n",
      "  warnings.warn(LatexWarning(f\"Could not find graphic {k}\"))\n",
      "/opt/hostedtoolcache/Python/3.9.23/x64/lib/python3.9/site-packages/arxiv_on_deck_2/latex.py:132: LatexWarning: attempting recovering figure almagal_far_max_thresh.pdf\n",
      "  warnings.warn(LatexWarning(f'attempting recovering figure {image}'))\n",
      "/opt/hostedtoolcache/Python/3.9.23/x64/lib/python3.9/site-packages/arxiv_on_deck_2/latex.py:707: LatexWarning: Could not find graphic \\includegraphics{almagal_far_max_thresh.pdf}\n",
      "  warnings.warn(LatexWarning(f\"Could not find graphic {k}\"))\n"
     ]
    },
    {
     "name": "stdout",
     "output_type": "stream",
     "text": [
      "Found 57 bibliographic references in tmp_2510.12892/main.bbl.\n",
      "Retrieving document from  https://arxiv.org/e-print/2510.13509\n"
     ]
    },
    {
     "name": "stdout",
     "output_type": "stream",
     "text": [
      "extracting tarball to tmp_2510.13509..."
     ]
    },
    {
     "name": "stdout",
     "output_type": "stream",
     "text": [
      " done.\n"
     ]
    },
    {
     "name": "stdout",
     "output_type": "stream",
     "text": [
      "Found 66 bibliographic references in tmp_2510.13509/main.bbl.\n",
      "Retrieving document from  https://arxiv.org/e-print/2510.13556\n"
     ]
    },
    {
     "name": "stdout",
     "output_type": "stream",
     "text": [
      "extracting tarball to tmp_2510.13556..."
     ]
    },
    {
     "name": "stdout",
     "output_type": "stream",
     "text": [
      " done.\n"
     ]
    }
   ],
   "source": [
    "documents = []\n",
    "failed = []\n",
    "for paper in tqdm(candidates):\n",
    "    # debug crap\n",
    "    paper['identifier'] = paper['identifier'].lower().replace('arxiv:', '').replace(r'\\n', '').strip()\n",
    "    paper_id = paper['identifier']\n",
    "    \n",
    "    folder = f'tmp_{paper_id}'\n",
    "\n",
    "    try:\n",
    "        if not os.path.isdir(folder):\n",
    "            folder = retrieve_document_source(f\"{paper_id}\", f'tmp_{paper_id}')\n",
    "        \n",
    "        try:\n",
    "            doc = latex.LatexDocument(folder, validation=validation)    \n",
    "        except AffiliationError as affilerror:\n",
    "            msg = f\"ArXiv:{paper_id:s} is not an MPIA paper... \" + str(affilerror)\n",
    "            failed.append((paper, \"affiliation error: \" + str(affilerror) ))\n",
    "            continue\n",
    "        \n",
    "        # Hack because sometimes author parsing does not work well\n",
    "        if (len(doc.authors) != len(paper['authors'])):\n",
    "            doc._authors = paper['authors']\n",
    "        else:\n",
    "            # highlight authors (FIXME: doc.highlight_authors)\n",
    "            # done on arxiv paper already\n",
    "            doc._authors = highlight_authors_in_list(\n",
    "                [get_initials(k) for k in doc.authors], \n",
    "                mpia_authors, verbose=True)\n",
    "        if (doc.abstract) in (None, ''):\n",
    "            doc._abstract = paper['abstract']\n",
    "            \n",
    "        doc.comment = (get_markdown_badge(paper_id) + \n",
    "                       \"<mark>Appeared on: \" + paper['date'] + \"</mark> - \")\n",
    "        if paper['comments']:\n",
    "            doc.comment += \" _\" + paper['comments'] + \"_\"\n",
    "        \n",
    "        full_md = doc.generate_markdown_text()\n",
    "        \n",
    "        full_md += get_markdown_qrcode(paper_id)\n",
    "        \n",
    "        # replace citations\n",
    "        try:\n",
    "            bibdata = latex_bib.LatexBib.from_doc(doc)\n",
    "            full_md = latex_bib.replace_citations(full_md, bibdata)\n",
    "        except Exception as e:\n",
    "            print(\"Issues with the citations\")\n",
    "            print(e)\n",
    "        \n",
    "        documents.append((paper_id, full_md))\n",
    "    except Exception as e:\n",
    "        warnings.warn(latex.LatexWarning(f\"{paper_id:s} did not run properly\\n\" +\n",
    "                                         str(e)\n",
    "                                        ))\n",
    "        failed.append((paper, \"latex error \" + str(e)))"
   ]
  },
  {
   "cell_type": "markdown",
   "id": "2505a25c",
   "metadata": {
    "papermill": {
     "duration": 0.003731,
     "end_time": "2025-10-16T04:13:06.158647",
     "exception": false,
     "start_time": "2025-10-16T04:13:06.154916",
     "status": "completed"
    },
    "tags": []
   },
   "source": [
    "### Export the logs\n",
    "\n",
    "Throughout, we also keep track of the logs per paper. see `logs-{today date}.md` "
   ]
  },
  {
   "cell_type": "code",
   "execution_count": 6,
   "id": "d733828a",
   "metadata": {
    "execution": {
     "iopub.execute_input": "2025-10-16T04:13:06.167203Z",
     "iopub.status.busy": "2025-10-16T04:13:06.167010Z",
     "iopub.status.idle": "2025-10-16T04:13:06.180717Z",
     "shell.execute_reply": "2025-10-16T04:13:06.180059Z"
    },
    "papermill": {
     "duration": 0.019039,
     "end_time": "2025-10-16T04:13:06.181656",
     "exception": false,
     "start_time": "2025-10-16T04:13:06.162617",
     "status": "completed"
    },
    "scrolled": false,
    "tags": []
   },
   "outputs": [
    {
     "data": {
      "text/markdown": [
       "## Successful papers"
      ],
      "text/plain": [
       "<IPython.core.display.Markdown object>"
      ]
     },
     "metadata": {},
     "output_type": "display_data"
    },
    {
     "data": {
      "text/markdown": [
       "\n",
       "|||\n",
       "|---:|:---|\n",
       "| [![arXiv](https://img.shields.io/badge/arXiv-2510.12892-b31b1b.svg)](https://arxiv.org/abs/2510.12892) | **ALMAGAL VIII. Cataloging Hierarchical Mass Structure from Cores to Clumps across the Galactic Disk**  |\n",
       "|| J. Wallace, et al. -- incl., <mark>H. Beuther</mark> |\n",
       "|*Appeared on*| *2025-10-16*|\n",
       "|*Comments*| *29 pages, 12 figures, submitted to the Astrophysical Journal*|\n",
       "|**Abstract**|            Investigating the multi-scale fragmentation of dense clumps into compact cores is essential for understanding the processes that govern the initial distribution of mass in stellar clusters and how high-mass stars ($>8~M_{\\odot}$) form. We present a catalog of the hierarchical continuum structure from 904 clumps observed in the ALMAGAL program, a high resolution ($0.15-0.8$\\arcsec) 1.38 mm Atacama Large Millimeter/submillimeter Array (ALMA) large program targeting dense clumps capable of high-mass star formation throughout the Galactic disk. We use \\verb|astrodendro|, a dendrogram-based algorithm, on a uniform linear resolution (2000 au) version of the data to extract 5160 continuum structures with effective radii spanning $800-42000$ au and estimated masses between $~0.05-670~M_{\\odot}$. With our large sample, we statistically examine the difference in clump properties for regions with varying levels of hierarchical complexity. We find that clumps exhibiting the richest hierarchical morphology have distributions with higher dust temperatures, surface densities, luminosity-to-mass (\\textit{L/M}) ratios, and most massive core (MMC) masses, indicating that these regions tend to be at later evolutionary stages. We find a positive correlation between the mass of cores from the ALMAGAL core catalog and the surface density of their surrounding structures identified in this work. However, this correlation is weaker for cores in more evolved clumps, where lower mass cores can be found at higher local surface densities. This could indicate that some cores accrete mass less efficiently from the intra-clump reservoir than others, despite the total available mass increasing over time, a scenario that is congruent with a clump-fed core accretion model.         |"
      ],
      "text/plain": [
       "[2510.12892] ALMAGAL VIII. Cataloging Hierarchical Mass Structure from Cores to Clumps across the Galactic Disk\n",
       "\tJ. Wallace, et al. -- incl., <mark>H. Beuther</mark>"
      ]
     },
     "metadata": {},
     "output_type": "display_data"
    },
    {
     "data": {
      "text/markdown": [
       "\n",
       "|||\n",
       "|---:|:---|\n",
       "| [![arXiv](https://img.shields.io/badge/arXiv-2510.13509-b31b1b.svg)](https://arxiv.org/abs/2510.13509) | **Euclid: Exploring observational systematics in cluster cosmology -- a comprehensive analysis of cluster counts and clustering**  |\n",
       "|| A. Fumagalli, et al. -- incl., <mark>K. Jahnke</mark> |\n",
       "|*Appeared on*| *2025-10-16*|\n",
       "|*Comments*| *16 pages, 14 figures*|\n",
       "|**Abstract**|            This study explores the impact of observational and modelling systematic effects on cluster number counts and cluster clustering and provides model prescriptions for their joint analysis, in the context of the \\Euclid survey. Using 1000 \\Euclid-like cluster catalogues, we investigate the effect of systematic uncertainties on cluster summary statistics and their auto- and cross-covariance, and perform a likelihood analysis to evaluate their impact on cosmological constraints, with a focus on the matter density parameter $\\Omega_{\\rm m}$ and on the power spectrum amplitude $\\sigma_8$. Combining cluster clustering with number counts significantly improves cosmological constraints, with the figure of merit increasing by over 300\\% compared to number counts alone. We confirm that the two probes are uncorrelated, and the cosmological constraints derived from their combination are almost insensitive to the cosmology dependence of the covariance. We find that photometric redshift uncertainties broaden cosmological posteriors by 20--30\\%, while secondary effects like redshift-space distortions (RSDs) have a smaller impact on the posteriors -- 5\\% for clustering alone, 10\\% when combining probes -- but can significantly bias the constraints if neglected. We show that clustering data below $60\\,h^{-1}\\,$Mpc provides additional constraining power, while scales larger than acoustic oscillation scale add almost no information on $\\Omega_{\\rm m}$ and $\\sigma_8$ parameters. RSDs and photo-$z$ uncertainties also influence the number count covariance, with a significant impact, of about 15--20\\%, on the parameter constraints.         |"
      ],
      "text/plain": [
       "[2510.13509] Euclid: Exploring observational systematics in cluster cosmology -- a comprehensive analysis of cluster counts and clustering\n",
       "\tA. Fumagalli, et al. -- incl., <mark>K. Jahnke</mark>"
      ]
     },
     "metadata": {},
     "output_type": "display_data"
    },
    {
     "data": {
      "text/markdown": [
       "## Failed papers"
      ],
      "text/plain": [
       "<IPython.core.display.Markdown object>"
      ]
     },
     "metadata": {},
     "output_type": "display_data"
    },
    {
     "data": {
      "text/markdown": [
       "\n",
       "|||\n",
       "|---:|:---|\n",
       "| [![arXiv](https://img.shields.io/badge/arXiv-2510.13556-b31b1b.svg)](https://arxiv.org/abs/2510.13556) | **The 2024 outburst of the neutron star LMXB EXO 0748-676: an investigation of bursts and eclipses with AstroSat**  |\n",
       "|| <mark>A. P</mark>, et al. |\n",
       "|*Appeared on*| *2025-10-16*|\n",
       "|*Comments*| *32 pages, 12 figures, 5 tables*|\n",
       "|**Abstract**|            We present a detailed analysis of the Type-I (thermonuclear) X-ray bursts and eclipses observed from the neutron star low-mass X-ray binary (LMXB) EXO 0748--676 with AstroSat during the second known outburst of the source following a 16-year-long quiescence period. We detect three thermonuclear X-ray bursts, with two displaying simultaneous coverage in the soft X-rays. Simultaneous UV observations show evidence of reprocessed burst emissions in the far-ultraviolet band. The time-resolved spectral analysis reveals the photospheric radius expansion (PRE) nature for two bursts. We estimate the distance to the source to be $7.42\\pm0.53$ kpc using the peak flux of PRE. Notably, one of the bursts exhibited a secondary peak, $\\sim30$ s after the primary, particularly dominating in the softer X-rays, which reveals a correlation with the evolution of burst hotspot radius with no temperature dependence. The burst properties and corresponding flux values suggest that mixed H/He burning may have fueled the bursts. We also detect evidence of a soft excess during one burst, likely arising from the interaction of the burst photons with the surroundings. We uncover evidence for a hard X-ray deficit during the peak of all bursts and a hard lag of $\\sim4$ s, which can be attributed to the Compton cooling of the corona by the burst photons. We also probe the temporal evolution and the energy dependence of the eclipses, which offer insights into the binary environment. Our study helps gain deeper insight into the physics of burst ignition, flame propagation, the burst-accretion interaction, and the evolution of LMXBs.         |\n",
       "|<p style=\"color:green\"> **ERROR** </p>| <p style=\"color:green\">affiliation error: mpia.affiliation_verifications: 'Heidelberg' keyword not found.</p> |"
      ],
      "text/plain": [
       "<IPython.core.display.Markdown object>"
      ]
     },
     "metadata": {},
     "output_type": "display_data"
    }
   ],
   "source": [
    "import datetime\n",
    "today = str(datetime.date.today())\n",
    "logfile = f\"_build/html/logs/log-{today}.md\"\n",
    "\n",
    "\n",
    "with open(logfile, 'w') as logs:\n",
    "    # Success\n",
    "    logs.write(f'# Arxiv on Deck 2: Logs - {today}\\n\\n')\n",
    "    logs.write(\"\"\"* Arxiv had {0:,d} new papers\\n\"\"\".format(len(new_papers)))\n",
    "    logs.write(\"\"\"    * {0:,d} with possible author matches\\n\\n\"\"\".format(len(candidates)))\n",
    "    logs.write(\"## Sucessful papers\\n\\n\")\n",
    "    display(Markdown(\"## Successful papers\"))\n",
    "    success = [k[0] for k in documents]\n",
    "    for candid in candidates:\n",
    "        if candid['identifier'].split(':')[-1] in success:\n",
    "            display(candid)\n",
    "            logs.write(candid.generate_markdown_text() + '\\n\\n')\n",
    "\n",
    "    ## failed\n",
    "    logs.write(\"## Failed papers\\n\\n\")\n",
    "    display(Markdown(\"## Failed papers\"))\n",
    "    failed = sorted(failed, key=lambda x: x[1])\n",
    "    current_reason = \"\"\n",
    "    for paper, reason in failed:\n",
    "        if 'affiliation' in reason:\n",
    "            color = 'green'\n",
    "        else:\n",
    "            color = 'red'\n",
    "        data = Markdown(\n",
    "                paper.generate_markdown_text() + \n",
    "                f'\\n|<p style=\"color:{color:s}\"> **ERROR** </p>| <p style=\"color:{color:s}\">{reason:s}</p> |'\n",
    "               )\n",
    "        if reason != current_reason:\n",
    "            logs.write(f'### {reason:s} \\n\\n')\n",
    "            current_reason = reason\n",
    "        logs.write(data.data + '\\n\\n')\n",
    "        \n",
    "        # only display here the important errors (all in logs)\n",
    "        # if color in ('red',):\n",
    "        display(data)"
   ]
  },
  {
   "cell_type": "markdown",
   "id": "472d20ee",
   "metadata": {
    "papermill": {
     "duration": 0.004665,
     "end_time": "2025-10-16T04:13:06.190678",
     "exception": false,
     "start_time": "2025-10-16T04:13:06.186013",
     "status": "completed"
    },
    "tags": []
   },
   "source": [
    "## Export documents\n",
    "\n",
    "We now write the .md files and export relevant images"
   ]
  },
  {
   "cell_type": "code",
   "execution_count": 7,
   "id": "d426aed9",
   "metadata": {
    "execution": {
     "iopub.execute_input": "2025-10-16T04:13:06.199859Z",
     "iopub.status.busy": "2025-10-16T04:13:06.199647Z",
     "iopub.status.idle": "2025-10-16T04:13:06.206300Z",
     "shell.execute_reply": "2025-10-16T04:13:06.205755Z"
    },
    "papermill": {
     "duration": 0.012316,
     "end_time": "2025-10-16T04:13:06.207240",
     "exception": false,
     "start_time": "2025-10-16T04:13:06.194924",
     "status": "completed"
    },
    "tags": []
   },
   "outputs": [],
   "source": [
    "def export_markdown_summary(md: str, md_fname:str, directory: str):\n",
    "    \"\"\"Export MD document and associated relevant images\"\"\"\n",
    "    import os\n",
    "    import shutil\n",
    "    import re\n",
    "\n",
    "    if (os.path.exists(directory) and not os.path.isdir(directory)):\n",
    "        raise RuntimeError(f\"a non-directory file exists with name {directory:s}\")\n",
    "\n",
    "    if (not os.path.exists(directory)):\n",
    "        print(f\"creating directory {directory:s}\")\n",
    "        os.mkdir(directory)\n",
    "\n",
    "    fig_fnames = (re.compile(r'\\[Fig.*\\]\\((.*)\\)').findall(md) + \n",
    "                  re.compile(r'\\<img src=\"([^>\\s]*)\"[^>]*/>').findall(md))\n",
    "    print(\"found figures\", fig_fnames)\n",
    "    for fname in fig_fnames:\n",
    "        if 'http' in fname:\n",
    "            # No need to copy online figures\n",
    "            continue\n",
    "        if not os.path.exists(fname):\n",
    "            print(\"file not found\", fname)\n",
    "            continue\n",
    "        print(\"copying \", fname, \"to\", directory)\n",
    "        destdir = os.path.join(directory, os.path.dirname(fname))\n",
    "        destfname = os.path.join(destdir, os.path.basename(fname))\n",
    "        try:\n",
    "            os.makedirs(destdir)\n",
    "        except FileExistsError:\n",
    "            pass\n",
    "        shutil.copy(fname, destfname)\n",
    "    with open(os.path.join(directory, md_fname), 'w') as fout:\n",
    "        fout.write(md)\n",
    "    print(\"exported in \", os.path.join(directory, md_fname))\n",
    "    [print(\"    + \" + os.path.join(directory,fk)) for fk in fig_fnames]"
   ]
  },
  {
   "cell_type": "code",
   "execution_count": 8,
   "id": "014d04a4",
   "metadata": {
    "execution": {
     "iopub.execute_input": "2025-10-16T04:13:06.216468Z",
     "iopub.status.busy": "2025-10-16T04:13:06.216278Z",
     "iopub.status.idle": "2025-10-16T04:13:06.223292Z",
     "shell.execute_reply": "2025-10-16T04:13:06.222628Z"
    },
    "papermill": {
     "duration": 0.012778,
     "end_time": "2025-10-16T04:13:06.224315",
     "exception": false,
     "start_time": "2025-10-16T04:13:06.211537",
     "status": "completed"
    },
    "tags": []
   },
   "outputs": [
    {
     "name": "stdout",
     "output_type": "stream",
     "text": [
      "found figures ['tmp_2510.12892/./ALMAGAL_masssigma_mmcmass_update.png', 'tmp_2510.12892/./ALMAGAL_masssigma_mcore_evstages_update.png', 'tmp_2510.12892/./ALMAGAL_MvR_leafbranch_full_catalog.png', 'tmp_2510.12892/./ALMAGAL_MvR_RIS_catalogs.png', '', '']\n",
      "copying  tmp_2510.12892/./ALMAGAL_masssigma_mmcmass_update.png to _build/html/\n",
      "copying  tmp_2510.12892/./ALMAGAL_masssigma_mcore_evstages_update.png to _build/html/\n",
      "copying  tmp_2510.12892/./ALMAGAL_MvR_leafbranch_full_catalog.png to _build/html/\n",
      "copying  tmp_2510.12892/./ALMAGAL_MvR_RIS_catalogs.png to _build/html/\n",
      "file not found \n",
      "file not found \n",
      "exported in  _build/html/2510.12892.md\n",
      "    + _build/html/tmp_2510.12892/./ALMAGAL_masssigma_mmcmass_update.png\n",
      "    + _build/html/tmp_2510.12892/./ALMAGAL_masssigma_mcore_evstages_update.png\n",
      "    + _build/html/tmp_2510.12892/./ALMAGAL_MvR_leafbranch_full_catalog.png\n",
      "    + _build/html/tmp_2510.12892/./ALMAGAL_MvR_RIS_catalogs.png\n",
      "    + _build/html/\n",
      "    + _build/html/\n",
      "found figures ['tmp_2510.13509/./images/cov_diff.png', 'tmp_2510.13509/./images/NC_cov_RSD.png', 'tmp_2510.13509/./images/cross_cov.png', 'tmp_2510.13509/./images/cross_logl.png']\n",
      "copying  tmp_2510.13509/./images/cov_diff.png to _build/html/\n",
      "copying  tmp_2510.13509/./images/NC_cov_RSD.png to _build/html/\n",
      "copying  tmp_2510.13509/./images/cross_cov.png to _build/html/\n",
      "copying  tmp_2510.13509/./images/cross_logl.png to _build/html/\n",
      "exported in  _build/html/2510.13509.md\n",
      "    + _build/html/tmp_2510.13509/./images/cov_diff.png\n",
      "    + _build/html/tmp_2510.13509/./images/NC_cov_RSD.png\n",
      "    + _build/html/tmp_2510.13509/./images/cross_cov.png\n",
      "    + _build/html/tmp_2510.13509/./images/cross_logl.png\n"
     ]
    }
   ],
   "source": [
    "for paper_id, md in documents:\n",
    "    export_markdown_summary(md, f\"{paper_id:s}.md\", '_build/html/')"
   ]
  },
  {
   "cell_type": "markdown",
   "id": "f087a0a7",
   "metadata": {
    "papermill": {
     "duration": 0.004252,
     "end_time": "2025-10-16T04:13:06.233055",
     "exception": false,
     "start_time": "2025-10-16T04:13:06.228803",
     "status": "completed"
    },
    "tags": []
   },
   "source": [
    "## Display the papers\n",
    "\n",
    "Not necessary but allows for a quick check."
   ]
  },
  {
   "cell_type": "code",
   "execution_count": 9,
   "id": "fd25f625",
   "metadata": {
    "execution": {
     "iopub.execute_input": "2025-10-16T04:13:06.242471Z",
     "iopub.status.busy": "2025-10-16T04:13:06.242250Z",
     "iopub.status.idle": "2025-10-16T04:13:06.247972Z",
     "shell.execute_reply": "2025-10-16T04:13:06.247417Z"
    },
    "papermill": {
     "duration": 0.011545,
     "end_time": "2025-10-16T04:13:06.248907",
     "exception": false,
     "start_time": "2025-10-16T04:13:06.237362",
     "status": "completed"
    },
    "scrolled": false,
    "tags": []
   },
   "outputs": [
    {
     "data": {
      "text/markdown": [
       "<div class=\"macros\" style=\"visibility:hidden;\">\n",
       "$\\newcommand{\\ensuremath}{}$\n",
       "$\\newcommand{\\xspace}{}$\n",
       "$\\newcommand{\\object}[1]{\\texttt{#1}}$\n",
       "$\\newcommand{\\farcs}{{.}''}$\n",
       "$\\newcommand{\\farcm}{{.}'}$\n",
       "$\\newcommand{\\arcsec}{''}$\n",
       "$\\newcommand{\\arcmin}{'}$\n",
       "$\\newcommand{\\ion}[2]{#1#2}$\n",
       "$\\newcommand{\\textsc}[1]{\\textrm{#1}}$\n",
       "$\\newcommand{\\hl}[1]{\\textrm{#1}}$\n",
       "$\\newcommand{\\footnote}[1]{}$\n",
       "$\\newcommand{\\vdag}{(v)^\\dagger}$\n",
       "$\\newcommand$\n",
       "$\\newcommand$\n",
       "$\\newcommand{\\GG}[1]$</div>\n",
       "\n",
       "\n",
       "\n",
       "<div id=\"title\">\n",
       "\n",
       "# ALMAGAL VIII. Cataloging Hierarchical Mass Structure from Cores to Clumps\\ across the Galactic Disk\n",
       "\n",
       "</div>\n",
       "<div id=\"comments\">\n",
       "\n",
       "[![arXiv](https://img.shields.io/badge/arXiv-2510.12892-b31b1b.svg)](https://arxiv.org/abs/2510.12892)<mark>Appeared on: 2025-10-16</mark> -  _29 pages, 12 figures, submitted to the Astrophysical Journal_\n",
       "\n",
       "</div>\n",
       "<div id=\"authors\">\n",
       "\n",
       "J. Wallace, et al. -- incl., <mark>H. Beuther</mark>\n",
       "\n",
       "</div>\n",
       "<div id=\"abstract\">\n",
       "\n",
       "**Abstract:** Investigating the multi-scale fragmentation of dense clumps into compact cores is essential for understanding the processes that govern the initial distribution of mass in stellar clusters and how high-mass stars ( $>8 M_{\\odot}$ ) form. We present a catalog of the hierarchical continuum structure from 904 clumps observed in the ALMAGAL program, a high resolution ( $0.15-0.8$ $\\arcsec$ ) 1.38 mm Atacama Large Millimeter/submillimeter Array (ALMA) large program targeting dense clumps capable of high-mass star formation throughout the Galactic disk. We use $\\verb$ |astrodendro|, a dendrogram-based algorithm, on a uniform linear resolution (2000 au) version of the data to extract 5160 continuum structures with effective radii spanning $800-42000$ au and estimated masses between $ 0.05-670 M_{\\odot}$ . With our large sample, we statistically examine the difference in clump properties for regions with varying levels of hierarchical complexity. We find that clumps exhibiting the richest hierarchical morphology have distributions with higher dust temperatures, surface densities, luminosity-to-mass ( _L/M_ ) ratios, and most massive core (MMC) masses, indicating that these regions tend to be at later evolutionary stages. We find a positive correlation between the mass of cores from the ALMAGAL core catalog and the surface density of their surrounding structures identified in this work. However, this correlation is weaker for cores in more evolved clumps, where lower mass cores can be found at higher local surface densities. This could indicate that some cores accrete mass less efficiently from the intra-clump reservoir than others, despite the total available mass increasing over time, a scenario that is congruent with a clump-fed core accretion model.\n",
       "\n",
       "</div>\n",
       "\n",
       "<div id=\"div_fig1\">\n",
       "\n",
       "<img src=\"tmp_2510.12892/./ALMAGAL_masssigma_mmcmass_update.png\" alt=\"Fig9.1\" width=\"50%\"/><img src=\"tmp_2510.12892/./ALMAGAL_masssigma_mcore_evstages_update.png\" alt=\"Fig9.2\" width=\"50%\"/>\n",
       "\n",
       "**Figure 9. -** (Left panel) A 2D kernel density estimate plot of the mass of the MMC as a function of the surface density of its most immediate underlying dendrogram structure that has an effective radius at least 3 times the radius of the core ($\\Sigma_{\\text{surr}}$). (Right panel) The same figure, but we include all cores from the ALMAGAL core catalog. ALMAGAL targets are divided into three evolutionary categories based on their _L/M_ ratio.  Contours indicate the shape of the distribution for the inner [90, 70, 40]\\% of the data.  Marginal plots indicate the 1D kernel density estimates of the dendrogram structure surface density and core mass on the _x_- and _y_-axes, respectively.  (*fig:surfd_mcore*)\n",
       "\n",
       "</div>\n",
       "<div id=\"div_fig2\">\n",
       "\n",
       "<img src=\"tmp_2510.12892/./ALMAGAL_MvR_leafbranch_full_catalog.png\" alt=\"Fig8.1\" width=\"50%\"/><img src=\"tmp_2510.12892/./ALMAGAL_MvR_RIS_catalogs.png\" alt=\"Fig8.2\" width=\"50%\"/>\n",
       "\n",
       "**Figure 8. -** (Left) A 2D Kernel density estimate plot of the mass-radius relation for leaf (green) and branch structures (red) in the ALMAGAL hierarchical structure catalog. Best fits corresponding to the power law relation $M \\propto R^{\\alpha}$ for each population are indicated with the solid and dashed black lines. (Right) A 2D kernel density estimate plot for the mass-radius relation for all dendrogram structures in the Rich (orange), Simple (green), and Isolated (purple) sub-samples. For both panels, the contours indicate the shape of the distributions for the inner [90, 50, 20]\\% of the data (*fig:mvr_full*)\n",
       "\n",
       "</div>\n",
       "<div id=\"div_fig3\">\n",
       "\n",
       "<img src=\"\" alt=\"Fig1.1\" width=\"50%\"/><img src=\"\" alt=\"Fig1.2\" width=\"50%\"/>\n",
       "\n",
       "**Figure 1. -** The maximum dendrogram level distribution for the near (top panel) and far (bottom panel) clumps in our ALMAGAL sample. The vertical dashed lines indicate the 1$\\sigma_{\\text{level}}$ and 3$\\sigma_{\\text{level}}$ of the fitted exponential distribution, shown by the solid black line. Since we cannot use the exact 1$\\sigma_{\\text{level}}$ and 3$\\sigma_{\\text{level}}$ values as thresholds on the integer-valued dendrogram levels, we instead round each value to the nearest integer and use that as a threshold. The integer ranges for the maximum level are shown for the Rich, Simple, and Isolated targets. The Empty targets do not have a threshold value, since they represent regions with non-detections and do not have an associated dendrogram level. (*fig:max_lvl_dists*)\n",
       "\n",
       "</div><div id=\"qrcode\"><img src=https://api.qrserver.com/v1/create-qr-code/?size=100x100&data=\"https://arxiv.org/abs/2510.12892\"></div>"
      ],
      "text/plain": [
       "<IPython.core.display.Markdown object>"
      ]
     },
     "metadata": {},
     "output_type": "display_data"
    },
    {
     "data": {
      "text/markdown": [
       "<div class=\"macros\" style=\"visibility:hidden;\">\n",
       "$\\newcommand{\\ensuremath}{}$\n",
       "$\\newcommand{\\xspace}{}$\n",
       "$\\newcommand{\\object}[1]{\\texttt{#1}}$\n",
       "$\\newcommand{\\farcs}{{.}''}$\n",
       "$\\newcommand{\\farcm}{{.}'}$\n",
       "$\\newcommand{\\arcsec}{''}$\n",
       "$\\newcommand{\\arcmin}{'}$\n",
       "$\\newcommand{\\ion}[2]{#1#2}$\n",
       "$\\newcommand{\\textsc}[1]{\\textrm{#1}}$\n",
       "$\\newcommand{\\hl}[1]{\\textrm{#1}}$\n",
       "$\\newcommand{\\footnote}[1]{}$\n",
       "$\\newcommand{\\af}[1]{\\textcolor{red1}{AF:~#1}}$\n",
       "$\\newcommand{\\todo}[1]{\\textcolor{red1}{TO DO:~#1}}$\n",
       "$\\newcommand{\\comm}[1]{\\textcolor{blue1}{#1}}$\n",
       "$\\newcommand{\\orcid}[1]$\n",
       "$\\newcommand{\\om}{\\Omega_{\\rm m}}$\n",
       "$\\newcommand{\\logas}{\\logten(A_{\\rm s})}$\n",
       "$\\newcommand{\\lnas}{\\ln(10^{10} A_s)}$\n",
       "$\\newcommand{\\mwl}{{\\rm M}_{\\rm WL}}$\n",
       "$\\newcommand{\\lob}{\\lambda^{\\rm ob}}$\n",
       "$\\newcommand{\\ltr}{\\lambda^{\\rm tr}}$\n",
       "$\\newcommand{\\zob}{z^{\\rm ob}}$\n",
       "$\\newcommand{\\ztr}{z^{\\rm tr}}$\n",
       "$\\newcommand{\\mmin}{M_{\\rm min}}$\n",
       "$\\newcommand{\\arraystretch}{1.3}$</div>\n",
       "\n",
       "\n",
       "\n",
       "<div id=\"title\">\n",
       "\n",
       "# $\\Euclid$: Exploring systematics effects in cluster cosmology -- a comprehensive analysis of cluster counts and clustering$\\thanks{This paper is published on behalf of the Euclid Consortium.}$\n",
       "\n",
       "</div>\n",
       "<div id=\"comments\">\n",
       "\n",
       "[![arXiv](https://img.shields.io/badge/arXiv-2510.13509-b31b1b.svg)](https://arxiv.org/abs/2510.13509)<mark>Appeared on: 2025-10-16</mark> -  _16 pages, 14 figures_\n",
       "\n",
       "</div>\n",
       "<div id=\"authors\">\n",
       "\n",
       "A. Fumagalli, et al. -- incl., <mark>K. Jahnke</mark>\n",
       "\n",
       "</div>\n",
       "<div id=\"abstract\">\n",
       "\n",
       "**Abstract:** This study explores the impact of observational and modelling systematic effects on cluster number counts and cluster clustering and provides model prescriptions for their joint analysis, in the context of the $\\Euclid$ survey.   Using 1000 $\\Euclid$ -like cluster catalogues, we investigate the effect of systematic uncertainties on cluster summary statistics and their auto- and cross-covariance, and perform a likelihood analysis to evaluate their impact on cosmological constraints, with a focus on the matter density parameter $\\om$ and on the power spectrum amplitude $\\sigma_8$ .   Combining cluster clustering with number counts significantly improves cosmological constraints, with the figure of merit increasing by over 300 \\% compared to number counts alone. We confirm that the two probes are uncorrelated, and the cosmological constraints derived from their combination are almost insensitive to the cosmology dependence of the covariance. We find that photometric redshift uncertainties broaden cosmological posteriors by 20--30 \\% , while secondary effects like redshift-space distortions (RSDs) have a smaller impact on the posteriors -- 5 \\% for clustering alone, 10 \\% when combining probes -- but can significantly bias the constraints if neglected. We show that clustering data below $60 h^{-1} $ Mpc provides additional constraining power, while scales larger than acoustic oscillation scale add almost no information on $\\om$ and $\\sigma_8$ parameters. RSDs and photo- $z$ uncertainties also influence the number count covariance, with a significant impact, of about 15--20 \\% , on the parameter constraints.\n",
       "\n",
       "</div>\n",
       "\n",
       "<div id=\"div_fig1\">\n",
       "\n",
       "<img src=\"tmp_2510.13509/./images/cov_diff.png\" alt=\"Fig3\" width=\"100%\"/>\n",
       "\n",
       "**Figure 3. -** Residuals of the clustering covariance diagonal terms for the lowest (blue) and highest (red) redshift bins and $\\lambda \\in [20, 30]$. The grey area marks the 10\\% region. _Top_: Residuals of the distorted numerical covariance relative to the undistorted redshift case. Solid lines indicate the RSDs case, while dashed lines include both RSDs and photo-$z$ effects ($\\sigma_{z0} = 0.01$). _Bottom_: Residuals between analytical and numerical covariances for different cases: solid lines for true redshift, dashed for RSDs, and dotted for both RSDs and photo-$z$ effects. (*fig:cl_cov_diff*)\n",
       "\n",
       "</div>\n",
       "<div id=\"div_fig2\">\n",
       "\n",
       "<img src=\"tmp_2510.13509/./images/NC_cov_RSD.png\" alt=\"Fig6\" width=\"100%\"/>\n",
       "\n",
       "**Figure 6. -** Number count covariance terms:  numerical matrix (shaded areas, representing the 1$\\sigma$ region), analytical model with power spectrum monopole (solid lines), and model with effective power spectrum (see Eq. \\ref{eq:eff_pk}, dashed lines). Colour-coded terms represent different components: grey for diagonal shot-noise, blue for diagonal sample variance, red and yellow for first and second off-diagonal sample covariance between mass bins, respectively, and green for first off-diagonal sample covariance in redshift bins.  (*fig:nc_cov_RSD*)\n",
       "\n",
       "</div>\n",
       "<div id=\"div_fig3\">\n",
       "\n",
       "<img src=\"tmp_2510.13509/./images/cross_cov.png\" alt=\"Fig12.1\" width=\"50%\"/><img src=\"tmp_2510.13509/./images/cross_logl.png\" alt=\"Fig12.2\" width=\"50%\"/>\n",
       "\n",
       "**Figure 12. -** Cross-covariance between number counts and clustering. For better visualisation, here we use redshift bins of width $\\Delta z=0.2$ for counts and $\\Delta z=0.5$ for the 2PCF. _Left_: Auto- and cross-correlation matrix of number counts and clustering, computed from 1000 mocks. _Right_: Log-likelihood residuals for number counts and clustering, for each one of the 1000 lightcones, with respect to the mean value assuming the fiducial model parameters. (*fig:cross_cov*)\n",
       "\n",
       "</div><div id=\"qrcode\"><img src=https://api.qrserver.com/v1/create-qr-code/?size=100x100&data=\"https://arxiv.org/abs/2510.13509\"></div>"
      ],
      "text/plain": [
       "<IPython.core.display.Markdown object>"
      ]
     },
     "metadata": {},
     "output_type": "display_data"
    }
   ],
   "source": [
    "[display(Markdown(k[1])) for k in documents];"
   ]
  },
  {
   "cell_type": "markdown",
   "id": "873873a4",
   "metadata": {
    "papermill": {
     "duration": 0.004612,
     "end_time": "2025-10-16T04:13:06.258341",
     "exception": false,
     "start_time": "2025-10-16T04:13:06.253729",
     "status": "completed"
    },
    "tags": []
   },
   "source": [
    "# Create HTML index"
   ]
  },
  {
   "cell_type": "code",
   "execution_count": 10,
   "id": "cf665672",
   "metadata": {
    "execution": {
     "iopub.execute_input": "2025-10-16T04:13:06.268655Z",
     "iopub.status.busy": "2025-10-16T04:13:06.268442Z",
     "iopub.status.idle": "2025-10-16T04:13:06.276607Z",
     "shell.execute_reply": "2025-10-16T04:13:06.276066Z"
    },
    "papermill": {
     "duration": 0.01446,
     "end_time": "2025-10-16T04:13:06.277576",
     "exception": false,
     "start_time": "2025-10-16T04:13:06.263116",
     "status": "completed"
    },
    "tags": []
   },
   "outputs": [
    {
     "name": "stdout",
     "output_type": "stream",
     "text": [
      "121  publications files modified in the last 7 days.\n"
     ]
    }
   ],
   "source": [
    "from datetime import datetime, timedelta, timezone\n",
    "from glob import glob\n",
    "import os\n",
    "\n",
    "files = glob('_build/html/*.md')\n",
    "days = 7\n",
    "now = datetime.today()\n",
    "res = []\n",
    "for fk in files:\n",
    "    stat_result = os.stat(fk).st_ctime\n",
    "    modified = datetime.fromtimestamp(stat_result, tz=timezone.utc).replace(tzinfo=None)\n",
    "    delta = now.today() - modified\n",
    "    if delta <= timedelta(days=days):\n",
    "        res.append((delta.seconds, fk))\n",
    "res = [k[1] for k in reversed(sorted(res, key=lambda x:x[1]))]\n",
    "npub = len(res)\n",
    "print(len(res), f\" publications files modified in the last {days:d} days.\")\n",
    "# [ print('\\t', k) for k in res ];"
   ]
  },
  {
   "cell_type": "code",
   "execution_count": 11,
   "id": "015de740",
   "metadata": {
    "execution": {
     "iopub.execute_input": "2025-10-16T04:13:06.287935Z",
     "iopub.status.busy": "2025-10-16T04:13:06.287747Z",
     "iopub.status.idle": "2025-10-16T04:13:06.298919Z",
     "shell.execute_reply": "2025-10-16T04:13:06.298340Z"
    },
    "papermill": {
     "duration": 0.01739,
     "end_time": "2025-10-16T04:13:06.299898",
     "exception": false,
     "start_time": "2025-10-16T04:13:06.282508",
     "status": "completed"
    },
    "tags": []
   },
   "outputs": [
    {
     "name": "stdout",
     "output_type": "stream",
     "text": [
      "8  publications in the last 7 days.\n"
     ]
    }
   ],
   "source": [
    "import datetime\n",
    "from glob import glob\n",
    "\n",
    "def get_last_n_days(lst, days=1):\n",
    "    \"\"\" Get the documents from the last n days \"\"\"\n",
    "    sorted_lst = sorted(lst, key=lambda x: x[1], reverse=True)\n",
    "    for fname, date in sorted_lst:\n",
    "        if date >= str(datetime.date.today() - datetime.timedelta(days=days)):\n",
    "            yield fname\n",
    "\n",
    "def extract_appearance_dates(lst_file):\n",
    "    dates = []\n",
    "\n",
    "    def get_date(line):\n",
    "        return line\\\n",
    "            .split('Appeared on:')[-1]\\\n",
    "            .split('</mark>')[0].strip()\n",
    "\n",
    "    for fname in lst:\n",
    "        with open(fname, 'r') as f:\n",
    "            found_date = False\n",
    "            for line in f:\n",
    "                if not found_date:\n",
    "                    if \"Appeared on\" in line:\n",
    "                        found_date = True\n",
    "                        dates.append((fname, get_date(line)))\n",
    "                else:\n",
    "                    break\n",
    "    return dates\n",
    "\n",
    "from glob import glob\n",
    "lst = glob('_build/html/*md')\n",
    "days = 7\n",
    "dates = extract_appearance_dates(lst)\n",
    "res = list(get_last_n_days(dates, days))\n",
    "npub = len(res)\n",
    "print(len(res), f\" publications in the last {days:d} days.\")"
   ]
  },
  {
   "cell_type": "code",
   "execution_count": 12,
   "id": "52ca0208",
   "metadata": {
    "execution": {
     "iopub.execute_input": "2025-10-16T04:13:06.310274Z",
     "iopub.status.busy": "2025-10-16T04:13:06.310097Z",
     "iopub.status.idle": "2025-10-16T04:13:06.314774Z",
     "shell.execute_reply": "2025-10-16T04:13:06.314244Z"
    },
    "papermill": {
     "duration": 0.011064,
     "end_time": "2025-10-16T04:13:06.315776",
     "exception": false,
     "start_time": "2025-10-16T04:13:06.304712",
     "status": "completed"
    },
    "scrolled": false,
    "tags": []
   },
   "outputs": [],
   "source": [
    "def create_carousel(npub=4):\n",
    "    \"\"\" Generate the HTML code for a carousel with `npub` slides \"\"\"\n",
    "    carousel = [\"\"\"  <div class=\"carousel\" \"\"\",\n",
    "                \"\"\"       data-flickity='{ \"autoPlay\": 10000, \"adaptiveHeight\": true, \"resize\": true, \"wrapAround\": true, \"pauseAutoPlayOnHover\": true, \"groupCells\": 1 }' id=\"asyncTypeset\">\"\"\"\n",
    "                ]\n",
    "    \n",
    "    item_str = \"\"\"    <div class=\"carousel-cell\"> <div id=\"slide{k}\" class=\"md_view\">Content {k}</div> </div>\"\"\"\n",
    "    for k in range(1, npub + 1):\n",
    "        carousel.append(item_str.format(k=k))\n",
    "    carousel.append(\"  </div>\")\n",
    "    return '\\n'.join(carousel)\n",
    "\n",
    "def create_grid(npub=4):\n",
    "    \"\"\" Generate the HTML code for a flat grid with `npub` slides \"\"\"\n",
    "    grid = [\"\"\"  <div class=\"grid\"> \"\"\",\n",
    "                ]\n",
    "    \n",
    "    item_str = \"\"\"    <div class=\"grid-item\"> <div id=\"slide{k}\" class=\"md_view\">Content {k}</div> </div>\"\"\"\n",
    "    for k in range(1, npub + 1):\n",
    "        grid.append(item_str.format(k=k))\n",
    "    grid.append(\"  </div>\")\n",
    "    return '\\n'.join(grid)"
   ]
  },
  {
   "cell_type": "code",
   "execution_count": 13,
   "id": "a6eac5b6",
   "metadata": {
    "execution": {
     "iopub.execute_input": "2025-10-16T04:13:06.326324Z",
     "iopub.status.busy": "2025-10-16T04:13:06.326135Z",
     "iopub.status.idle": "2025-10-16T04:13:06.330929Z",
     "shell.execute_reply": "2025-10-16T04:13:06.330287Z"
    },
    "papermill": {
     "duration": 0.01116,
     "end_time": "2025-10-16T04:13:06.331913",
     "exception": false,
     "start_time": "2025-10-16T04:13:06.320753",
     "status": "completed"
    },
    "scrolled": false,
    "tags": []
   },
   "outputs": [],
   "source": [
    "carousel = create_carousel(npub)\n",
    "docs = ', '.join(['\"{0:s}\"'.format(k.split('/')[-1]) for k in res])\n",
    "slides = ', '.join([f'\"slide{k}\"' for k in range(1, npub + 1)])\n",
    "\n",
    "with open(\"daily_template.html\", \"r\") as tpl:\n",
    "    page = tpl.read()\n",
    "    page = page.replace(\"{%-- carousel:s --%}\", carousel)\\\n",
    "               .replace(\"{%-- suptitle:s --%}\",  \"7-day archives\" )\\\n",
    "               .replace(\"{%-- docs:s --%}\", docs)\\\n",
    "               .replace(\"{%-- slides:s --%}\", slides)\n",
    "    \n",
    "with open(\"_build/html/index_7days.html\", 'w') as fout:\n",
    "    fout.write(page)"
   ]
  },
  {
   "cell_type": "code",
   "execution_count": 14,
   "id": "adc1a1ec",
   "metadata": {
    "execution": {
     "iopub.execute_input": "2025-10-16T04:13:06.342468Z",
     "iopub.status.busy": "2025-10-16T04:13:06.342288Z",
     "iopub.status.idle": "2025-10-16T04:13:06.348507Z",
     "shell.execute_reply": "2025-10-16T04:13:06.347843Z"
    },
    "papermill": {
     "duration": 0.012612,
     "end_time": "2025-10-16T04:13:06.349502",
     "exception": false,
     "start_time": "2025-10-16T04:13:06.336890",
     "status": "completed"
    },
    "tags": []
   },
   "outputs": [
    {
     "name": "stdout",
     "output_type": "stream",
     "text": [
      "4  publications in the last day.\n"
     ]
    }
   ],
   "source": [
    "# redo for today\n",
    "days = 1\n",
    "res = list(get_last_n_days(dates, days))\n",
    "npub = len(res)\n",
    "print(len(res), f\" publications in the last day.\")\n",
    "\n",
    "carousel = create_carousel(npub)\n",
    "docs = ', '.join(['\"{0:s}\"'.format(k.split('/')[-1]) for k in res])\n",
    "slides = ', '.join([f'\"slide{k}\"' for k in range(1, npub + 1)])\n",
    "\n",
    "with open(\"daily_template.html\", \"r\") as tpl:\n",
    "    page = tpl.read()\n",
    "    page = page.replace(\"{%-- carousel:s --%}\", carousel)\\\n",
    "               .replace(\"{%-- suptitle:s --%}\",  \"Daily\" )\\\n",
    "               .replace(\"{%-- docs:s --%}\", docs)\\\n",
    "               .replace(\"{%-- slides:s --%}\", slides)\n",
    "    \n",
    "# print(carousel, docs, slides)\n",
    "# print(page)\n",
    "with open(\"_build/html/index_daily.html\", 'w') as fout:\n",
    "    fout.write(page)"
   ]
  },
  {
   "cell_type": "code",
   "execution_count": 15,
   "id": "00eece82",
   "metadata": {
    "execution": {
     "iopub.execute_input": "2025-10-16T04:13:06.360329Z",
     "iopub.status.busy": "2025-10-16T04:13:06.360147Z",
     "iopub.status.idle": "2025-10-16T04:13:06.366220Z",
     "shell.execute_reply": "2025-10-16T04:13:06.365653Z"
    },
    "papermill": {
     "duration": 0.012562,
     "end_time": "2025-10-16T04:13:06.367169",
     "exception": false,
     "start_time": "2025-10-16T04:13:06.354607",
     "status": "completed"
    },
    "scrolled": false,
    "tags": []
   },
   "outputs": [
    {
     "name": "stdout",
     "output_type": "stream",
     "text": [
      "6  6 publications selected.\n"
     ]
    }
   ],
   "source": [
    "# Create the flat grid of the last N papers (fixed number regardless of dates)\n",
    "from itertools import islice \n",
    "\n",
    "npub = 6\n",
    "res = [k[0] for k in (islice(reversed(sorted(dates, key=lambda x: x[1])), 6))]\n",
    "print(len(res), f\" {npub} publications selected.\")\n",
    "\n",
    "grid = create_grid(npub)\n",
    "docs = ', '.join(['\"{0:s}\"'.format(k.split('/')[-1]) for k in res])\n",
    "slides = ', '.join([f'\"slide{k}\"' for k in range(1, npub + 1)])\n",
    "\n",
    "with open(\"grid_template.html\", \"r\") as tpl:\n",
    "    page = tpl.read()\n",
    "    page = page.replace(\"{%-- grid-content:s --%}\", grid)\\\n",
    "               .replace(\"{%-- suptitle:s --%}\",  f\"Last {npub:,d} papers\" )\\\n",
    "               .replace(\"{%-- docs:s --%}\", docs)\\\n",
    "               .replace(\"{%-- slides:s --%}\", slides)\n",
    "    \n",
    "# print(grid, docs, slides)\n",
    "# print(page)\n",
    "with open(\"_build/html/index_npub_grid.html\", 'w') as fout:\n",
    "    fout.write(page)"
   ]
  }
 ],
 "metadata": {
  "kernelspec": {
   "display_name": "Python 3 (ipykernel)",
   "language": "python",
   "name": "python3"
  },
  "language_info": {
   "codemirror_mode": {
    "name": "ipython",
    "version": 3
   },
   "file_extension": ".py",
   "mimetype": "text/x-python",
   "name": "python",
   "nbconvert_exporter": "python",
   "pygments_lexer": "ipython3",
   "version": "3.9.23"
  },
  "papermill": {
   "default_parameters": {},
   "duration": 58.822724,
   "end_time": "2025-10-16T04:13:06.588086",
   "environment_variables": {},
   "exception": null,
   "input_path": "MPIA daily digest.ipynb",
   "output_path": "log.ipynb",
   "parameters": {},
   "start_time": "2025-10-16T04:12:07.765362",
   "version": "2.6.0"
  },
  "vscode": {
   "interpreter": {
    "hash": "aee8b7b246df8f9039afb4144a1f6fd8d2ca17a180786b69acc140d282b71a49"
   }
  },
  "widgets": {
   "application/vnd.jupyter.widget-state+json": {
    "state": {
     "192f6580bf514da2a83dcda05f502c54": {
      "model_module": "@jupyter-widgets/controls",
      "model_module_version": "2.0.0",
      "model_name": "ProgressStyleModel",
      "state": {
       "_model_module": "@jupyter-widgets/controls",
       "_model_module_version": "2.0.0",
       "_model_name": "ProgressStyleModel",
       "_view_count": null,
       "_view_module": "@jupyter-widgets/base",
       "_view_module_version": "2.0.0",
       "_view_name": "StyleView",
       "bar_color": null,
       "description_width": ""
      }
     },
     "3360e15a4e8b4a72a7f182735815aaec": {
      "model_module": "@jupyter-widgets/controls",
      "model_module_version": "2.0.0",
      "model_name": "FloatProgressModel",
      "state": {
       "_dom_classes": [],
       "_model_module": "@jupyter-widgets/controls",
       "_model_module_version": "2.0.0",
       "_model_name": "FloatProgressModel",
       "_view_count": null,
       "_view_module": "@jupyter-widgets/controls",
       "_view_module_version": "2.0.0",
       "_view_name": "ProgressView",
       "bar_style": "success",
       "description": "",
       "description_allow_html": false,
       "layout": "IPY_MODEL_e770e37d7c774ed2813fd2d7db37a72b",
       "max": 3.0,
       "min": 0.0,
       "orientation": "horizontal",
       "style": "IPY_MODEL_192f6580bf514da2a83dcda05f502c54",
       "tabbable": null,
       "tooltip": null,
       "value": 3.0
      }
     },
     "3af15cbeb3d34c3fa5bb9f7786bc3951": {
      "model_module": "@jupyter-widgets/controls",
      "model_module_version": "2.0.0",
      "model_name": "HBoxModel",
      "state": {
       "_dom_classes": [],
       "_model_module": "@jupyter-widgets/controls",
       "_model_module_version": "2.0.0",
       "_model_name": "HBoxModel",
       "_view_count": null,
       "_view_module": "@jupyter-widgets/controls",
       "_view_module_version": "2.0.0",
       "_view_name": "HBoxView",
       "box_style": "",
       "children": [
        "IPY_MODEL_df4eb2fada154b5fa5229ee3a400c010",
        "IPY_MODEL_3360e15a4e8b4a72a7f182735815aaec",
        "IPY_MODEL_b5013768392e4e0f9e5fc06c63a67d75"
       ],
       "layout": "IPY_MODEL_840d659859e54d85a44588a0ce11bbdb",
       "tabbable": null,
       "tooltip": null
      }
     },
     "58d6ffb24f534aed91114b2a8f30d71d": {
      "model_module": "@jupyter-widgets/controls",
      "model_module_version": "2.0.0",
      "model_name": "HTMLStyleModel",
      "state": {
       "_model_module": "@jupyter-widgets/controls",
       "_model_module_version": "2.0.0",
       "_model_name": "HTMLStyleModel",
       "_view_count": null,
       "_view_module": "@jupyter-widgets/base",
       "_view_module_version": "2.0.0",
       "_view_name": "StyleView",
       "background": null,
       "description_width": "",
       "font_size": null,
       "text_color": null
      }
     },
     "840d659859e54d85a44588a0ce11bbdb": {
      "model_module": "@jupyter-widgets/base",
      "model_module_version": "2.0.0",
      "model_name": "LayoutModel",
      "state": {
       "_model_module": "@jupyter-widgets/base",
       "_model_module_version": "2.0.0",
       "_model_name": "LayoutModel",
       "_view_count": null,
       "_view_module": "@jupyter-widgets/base",
       "_view_module_version": "2.0.0",
       "_view_name": "LayoutView",
       "align_content": null,
       "align_items": null,
       "align_self": null,
       "border_bottom": null,
       "border_left": null,
       "border_right": null,
       "border_top": null,
       "bottom": null,
       "display": null,
       "flex": null,
       "flex_flow": null,
       "grid_area": null,
       "grid_auto_columns": null,
       "grid_auto_flow": null,
       "grid_auto_rows": null,
       "grid_column": null,
       "grid_gap": null,
       "grid_row": null,
       "grid_template_areas": null,
       "grid_template_columns": null,
       "grid_template_rows": null,
       "height": null,
       "justify_content": null,
       "justify_items": null,
       "left": null,
       "margin": null,
       "max_height": null,
       "max_width": null,
       "min_height": null,
       "min_width": null,
       "object_fit": null,
       "object_position": null,
       "order": null,
       "overflow": null,
       "padding": null,
       "right": null,
       "top": null,
       "visibility": null,
       "width": null
      }
     },
     "b5013768392e4e0f9e5fc06c63a67d75": {
      "model_module": "@jupyter-widgets/controls",
      "model_module_version": "2.0.0",
      "model_name": "HTMLModel",
      "state": {
       "_dom_classes": [],
       "_model_module": "@jupyter-widgets/controls",
       "_model_module_version": "2.0.0",
       "_model_name": "HTMLModel",
       "_view_count": null,
       "_view_module": "@jupyter-widgets/controls",
       "_view_module_version": "2.0.0",
       "_view_name": "HTMLView",
       "description": "",
       "description_allow_html": false,
       "layout": "IPY_MODEL_b83dea22127947d7b82995fdbce37eba",
       "placeholder": "​",
       "style": "IPY_MODEL_58d6ffb24f534aed91114b2a8f30d71d",
       "tabbable": null,
       "tooltip": null,
       "value": " 3/3 [00:34&lt;00:00,  8.62s/it]"
      }
     },
     "b83dea22127947d7b82995fdbce37eba": {
      "model_module": "@jupyter-widgets/base",
      "model_module_version": "2.0.0",
      "model_name": "LayoutModel",
      "state": {
       "_model_module": "@jupyter-widgets/base",
       "_model_module_version": "2.0.0",
       "_model_name": "LayoutModel",
       "_view_count": null,
       "_view_module": "@jupyter-widgets/base",
       "_view_module_version": "2.0.0",
       "_view_name": "LayoutView",
       "align_content": null,
       "align_items": null,
       "align_self": null,
       "border_bottom": null,
       "border_left": null,
       "border_right": null,
       "border_top": null,
       "bottom": null,
       "display": null,
       "flex": null,
       "flex_flow": null,
       "grid_area": null,
       "grid_auto_columns": null,
       "grid_auto_flow": null,
       "grid_auto_rows": null,
       "grid_column": null,
       "grid_gap": null,
       "grid_row": null,
       "grid_template_areas": null,
       "grid_template_columns": null,
       "grid_template_rows": null,
       "height": null,
       "justify_content": null,
       "justify_items": null,
       "left": null,
       "margin": null,
       "max_height": null,
       "max_width": null,
       "min_height": null,
       "min_width": null,
       "object_fit": null,
       "object_position": null,
       "order": null,
       "overflow": null,
       "padding": null,
       "right": null,
       "top": null,
       "visibility": null,
       "width": null
      }
     },
     "d2341eacc7a6427898f5efd9bf65aaf5": {
      "model_module": "@jupyter-widgets/base",
      "model_module_version": "2.0.0",
      "model_name": "LayoutModel",
      "state": {
       "_model_module": "@jupyter-widgets/base",
       "_model_module_version": "2.0.0",
       "_model_name": "LayoutModel",
       "_view_count": null,
       "_view_module": "@jupyter-widgets/base",
       "_view_module_version": "2.0.0",
       "_view_name": "LayoutView",
       "align_content": null,
       "align_items": null,
       "align_self": null,
       "border_bottom": null,
       "border_left": null,
       "border_right": null,
       "border_top": null,
       "bottom": null,
       "display": null,
       "flex": null,
       "flex_flow": null,
       "grid_area": null,
       "grid_auto_columns": null,
       "grid_auto_flow": null,
       "grid_auto_rows": null,
       "grid_column": null,
       "grid_gap": null,
       "grid_row": null,
       "grid_template_areas": null,
       "grid_template_columns": null,
       "grid_template_rows": null,
       "height": null,
       "justify_content": null,
       "justify_items": null,
       "left": null,
       "margin": null,
       "max_height": null,
       "max_width": null,
       "min_height": null,
       "min_width": null,
       "object_fit": null,
       "object_position": null,
       "order": null,
       "overflow": null,
       "padding": null,
       "right": null,
       "top": null,
       "visibility": null,
       "width": null
      }
     },
     "df4eb2fada154b5fa5229ee3a400c010": {
      "model_module": "@jupyter-widgets/controls",
      "model_module_version": "2.0.0",
      "model_name": "HTMLModel",
      "state": {
       "_dom_classes": [],
       "_model_module": "@jupyter-widgets/controls",
       "_model_module_version": "2.0.0",
       "_model_name": "HTMLModel",
       "_view_count": null,
       "_view_module": "@jupyter-widgets/controls",
       "_view_module_version": "2.0.0",
       "_view_name": "HTMLView",
       "description": "",
       "description_allow_html": false,
       "layout": "IPY_MODEL_d2341eacc7a6427898f5efd9bf65aaf5",
       "placeholder": "​",
       "style": "IPY_MODEL_f3f6cfa054f2487e94b7e35f0398df5a",
       "tabbable": null,
       "tooltip": null,
       "value": "100%"
      }
     },
     "e770e37d7c774ed2813fd2d7db37a72b": {
      "model_module": "@jupyter-widgets/base",
      "model_module_version": "2.0.0",
      "model_name": "LayoutModel",
      "state": {
       "_model_module": "@jupyter-widgets/base",
       "_model_module_version": "2.0.0",
       "_model_name": "LayoutModel",
       "_view_count": null,
       "_view_module": "@jupyter-widgets/base",
       "_view_module_version": "2.0.0",
       "_view_name": "LayoutView",
       "align_content": null,
       "align_items": null,
       "align_self": null,
       "border_bottom": null,
       "border_left": null,
       "border_right": null,
       "border_top": null,
       "bottom": null,
       "display": null,
       "flex": null,
       "flex_flow": null,
       "grid_area": null,
       "grid_auto_columns": null,
       "grid_auto_flow": null,
       "grid_auto_rows": null,
       "grid_column": null,
       "grid_gap": null,
       "grid_row": null,
       "grid_template_areas": null,
       "grid_template_columns": null,
       "grid_template_rows": null,
       "height": null,
       "justify_content": null,
       "justify_items": null,
       "left": null,
       "margin": null,
       "max_height": null,
       "max_width": null,
       "min_height": null,
       "min_width": null,
       "object_fit": null,
       "object_position": null,
       "order": null,
       "overflow": null,
       "padding": null,
       "right": null,
       "top": null,
       "visibility": null,
       "width": null
      }
     },
     "f3f6cfa054f2487e94b7e35f0398df5a": {
      "model_module": "@jupyter-widgets/controls",
      "model_module_version": "2.0.0",
      "model_name": "HTMLStyleModel",
      "state": {
       "_model_module": "@jupyter-widgets/controls",
       "_model_module_version": "2.0.0",
       "_model_name": "HTMLStyleModel",
       "_view_count": null,
       "_view_module": "@jupyter-widgets/base",
       "_view_module_version": "2.0.0",
       "_view_name": "StyleView",
       "background": null,
       "description_width": "",
       "font_size": null,
       "text_color": null
      }
     }
    },
    "version_major": 2,
    "version_minor": 0
   }
  }
 },
 "nbformat": 4,
 "nbformat_minor": 5
}