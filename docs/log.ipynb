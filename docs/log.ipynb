{
 "cells": [
  {
   "cell_type": "markdown",
   "id": "92bcb855",
   "metadata": {
    "papermill": {
     "duration": 0.005391,
     "end_time": "2022-08-24T07:06:54.201467",
     "exception": false,
     "start_time": "2022-08-24T07:06:54.196076",
     "status": "completed"
    },
    "tags": []
   },
   "source": [
    "# MPIA Arxiv on Deck 2\n",
    "\n",
    "Contains the steps to produce the paper extractions."
   ]
  },
  {
   "cell_type": "code",
   "execution_count": 1,
   "id": "3a0d6e11",
   "metadata": {
    "execution": {
     "iopub.execute_input": "2022-08-24T07:06:54.212277Z",
     "iopub.status.busy": "2022-08-24T07:06:54.211380Z",
     "iopub.status.idle": "2022-08-24T07:06:54.386749Z",
     "shell.execute_reply": "2022-08-24T07:06:54.386020Z"
    },
    "papermill": {
     "duration": 0.183076,
     "end_time": "2022-08-24T07:06:54.388903",
     "exception": false,
     "start_time": "2022-08-24T07:06:54.205827",
     "status": "completed"
    },
    "tags": []
   },
   "outputs": [],
   "source": [
    "# Imports\n",
    "import os\n",
    "from IPython.display import Markdown, display\n",
    "from tqdm.notebook import tqdm\n",
    "import warnings\n",
    "from PIL import Image \n",
    "\n",
    "# requires arxiv_on_deck_2\n",
    "\n",
    "from arxiv_on_deck_2.arxiv2 import (get_new_papers, \n",
    "                                    get_paper_from_identifier,\n",
    "                                    retrieve_document_source, \n",
    "                                    get_markdown_badge)\n",
    "from arxiv_on_deck_2 import (latex, \n",
    "                             mpia,\n",
    "                             highlight_authors_in_list)\n",
    "\n",
    "# Sometimes images are really big\n",
    "Image.MAX_IMAGE_PIXELS = 1000000000 "
   ]
  },
  {
   "cell_type": "code",
   "execution_count": 2,
   "id": "22aa9d44",
   "metadata": {
    "execution": {
     "iopub.execute_input": "2022-08-24T07:06:54.399496Z",
     "iopub.status.busy": "2022-08-24T07:06:54.398986Z",
     "iopub.status.idle": "2022-08-24T07:06:54.404897Z",
     "shell.execute_reply": "2022-08-24T07:06:54.404341Z"
    },
    "papermill": {
     "duration": 0.013412,
     "end_time": "2022-08-24T07:06:54.406583",
     "exception": false,
     "start_time": "2022-08-24T07:06:54.393171",
     "status": "completed"
    },
    "tags": []
   },
   "outputs": [],
   "source": [
    "# Some useful definitions.\n",
    "\n",
    "class AffiliationWarning(UserWarning):\n",
    "    pass\n",
    "\n",
    "class AffiliationError(RuntimeError):\n",
    "    pass\n",
    "\n",
    "def validation(source: str):\n",
    "    \"\"\"Raises error paper during parsing of source file\n",
    "    \n",
    "    Allows checks before parsing TeX code.\n",
    "    \n",
    "    Raises AffiliationWarning\n",
    "    \"\"\"\n",
    "    check = mpia.affiliation_verifications(source, verbose=True)\n",
    "    if check is not True:\n",
    "        raise AffiliationError(\"mpia.affiliation_verifications: \" + check)\n",
    "\n",
    "        \n",
    "warnings.simplefilter('always', AffiliationWarning)"
   ]
  },
  {
   "cell_type": "code",
   "execution_count": 3,
   "id": "14622700",
   "metadata": {
    "execution": {
     "iopub.execute_input": "2022-08-24T07:06:54.416086Z",
     "iopub.status.busy": "2022-08-24T07:06:54.415461Z",
     "iopub.status.idle": "2022-08-24T07:06:54.419803Z",
     "shell.execute_reply": "2022-08-24T07:06:54.419108Z"
    },
    "papermill": {
     "duration": 0.010883,
     "end_time": "2022-08-24T07:06:54.421358",
     "exception": false,
     "start_time": "2022-08-24T07:06:54.410475",
     "status": "completed"
    },
    "tags": []
   },
   "outputs": [],
   "source": [
    "# additional CSS to consider. \n",
    "# TODO: Current into each exported file. \n",
    "#       This should be set once into the webpages directly.\n",
    "#       With only the class/id definitions in the .md files.\n",
    "\n",
    "debug_html = \"\"\"\n",
    "<style>\n",
    "#wrap{ overflow:auto; }\n",
    "#fig1{ background:yellow; width:100%; float:left; padding:5px;  }\n",
    "#fig2{ background:red; width:50%; float:left; clear:left; padding:5px;  }\n",
    "#fig3{ background:green; width:50%; float:left; padding:5px;   }\n",
    ".macros{ background:yellow; visibility:visible;}\n",
    "h1 {margin: 0 0 0 0;}\n",
    "mark {background-color:#fff3b6;}\n",
    "img {object-fit:contain; max-height:250px; display:inline-block; text-align: center;}\n",
    "</style>\n",
    "\"\"\" \n",
    "html = \"\"\"\n",
    "<style>\n",
    "#wrap{ overflow:auto; }\n",
    "#fig1{ width:100%; float:left; padding: 5px;  }\n",
    "#fig2{ width:50%; float:left; clear:left; padding: 5px;  }\n",
    "#fig3{ width:50%; float:left; padding: 5px;  }\n",
    ".macros{ visibility:hidden; height:0px; }\n",
    "h1 {margin: 0em 0 0 0;}\n",
    "mark {background-color:#fff3b6;}\n",
    "img {object-fit:contain; max-height:250px; display:inline-block; text-align: center;}\n",
    "</style>\n",
    "\"\"\""
   ]
  },
  {
   "cell_type": "markdown",
   "id": "14bd6310",
   "metadata": {
    "papermill": {
     "duration": 0.003917,
     "end_time": "2022-08-24T07:06:54.429149",
     "exception": false,
     "start_time": "2022-08-24T07:06:54.425232",
     "status": "completed"
    },
    "tags": []
   },
   "source": [
    "## get list of arxiv paper candidates\n",
    "\n",
    "We use the MPIA mitarbeiter list webpage from mpia.de to get author names\n",
    "We then get all new papers from Arxiv and match authors"
   ]
  },
  {
   "cell_type": "code",
   "execution_count": 4,
   "id": "2645e73a",
   "metadata": {
    "execution": {
     "iopub.execute_input": "2022-08-24T07:06:54.440567Z",
     "iopub.status.busy": "2022-08-24T07:06:54.440053Z",
     "iopub.status.idle": "2022-08-24T07:07:18.717024Z",
     "shell.execute_reply": "2022-08-24T07:07:18.716216Z"
    },
    "papermill": {
     "duration": 24.283963,
     "end_time": "2022-08-24T07:07:18.718574",
     "exception": false,
     "start_time": "2022-08-24T07:06:54.434611",
     "status": "completed"
    },
    "tags": []
   },
   "outputs": [
    {
     "name": "stdout",
     "output_type": "stream",
     "text": [
      "Arxiv has 56 new papers today\n",
      "          24 with possible author matches\n"
     ]
    }
   ],
   "source": [
    "# get list from MPIA website\n",
    "# it automatically filters identified non-scientists :func:`mpia.filter_non_scientists`\n",
    "mpia_authors = mpia.get_mpia_mitarbeiter_list()\n",
    "new_papers = get_new_papers()\n",
    "# add manual references\n",
    "add_paper_refs = []\n",
    "new_papers.extend([get_paper_from_identifier(k) for k in add_paper_refs])\n",
    "\n",
    "# select only papers with matching author names and highlight authors\n",
    "hl_list = [k[0] for k in mpia_authors]\n",
    "\n",
    "candidates = []\n",
    "for paperk in new_papers:\n",
    "    hl_authors = highlight_authors_in_list(paperk['authors'], hl_list)\n",
    "    matches = [(hl, orig) for hl, orig in zip(hl_authors, paperk['authors']) if 'mark' in hl]\n",
    "    paperk['authors'] = hl_authors\n",
    "    if matches:\n",
    "        candidates.append(paperk)\n",
    "print(\"\"\"Arxiv has {0:,d} new papers today\"\"\".format(len(new_papers)))        \n",
    "print(\"\"\"          {0:,d} with possible author matches\"\"\".format(len(candidates)))"
   ]
  },
  {
   "cell_type": "markdown",
   "id": "3543b34a",
   "metadata": {
    "papermill": {
     "duration": 0.003964,
     "end_time": "2022-08-24T07:07:18.726572",
     "exception": false,
     "start_time": "2022-08-24T07:07:18.722608",
     "status": "completed"
    },
    "tags": []
   },
   "source": [
    "# Parse sources and generate relevant outputs\n",
    "\n",
    "From the candidates, we do the following steps:\n",
    "* get their tarball from ArXiv (and extract data)\n",
    "* find the main .tex file: find one with \\documentclass{...} (sometimes it's non trivial)\n",
    "* Check affiliations with :func:`validation`, which uses :func:`mpia.affiliation_verifications`\n",
    "* If passing the affiliations: we parse the .tex source\n",
    "   * inject sub-documents into the main (flatten the main document)\n",
    "   * parse structure, extract information (title, abstract, authors, figures...)\n",
    "   * handles `\\graphicspath` if provided\n",
    "* Generate the .md document."
   ]
  },
  {
   "cell_type": "code",
   "execution_count": 5,
   "id": "9576b79e",
   "metadata": {
    "execution": {
     "iopub.execute_input": "2022-08-24T07:07:18.735332Z",
     "iopub.status.busy": "2022-08-24T07:07:18.734901Z",
     "iopub.status.idle": "2022-08-24T07:10:37.357880Z",
     "shell.execute_reply": "2022-08-24T07:10:37.357143Z"
    },
    "papermill": {
     "duration": 198.637095,
     "end_time": "2022-08-24T07:10:37.367236",
     "exception": false,
     "start_time": "2022-08-24T07:07:18.730141",
     "status": "completed"
    },
    "scrolled": false,
    "tags": []
   },
   "outputs": [
    {
     "data": {
      "application/json": {
       "ascii": false,
       "bar_format": null,
       "colour": null,
       "elapsed": 0.018534421920776367,
       "initial": 0,
       "n": 0,
       "ncols": null,
       "nrows": null,
       "postfix": null,
       "prefix": "",
       "rate": null,
       "total": 23,
       "unit": "it",
       "unit_divisor": 1000,
       "unit_scale": false
      },
      "application/vnd.jupyter.widget-view+json": {
       "model_id": "f392bbbb9dba47708775836489e8f6cc",
       "version_major": 2,
       "version_minor": 0
      },
      "text/plain": [
       "  0%|          | 0/23 [00:00<?, ?it/s]"
      ]
     },
     "metadata": {},
     "output_type": "display_data"
    },
    {
     "name": "stdout",
     "output_type": "stream",
     "text": [
      "Retrieving document from  https://arxiv.org/e-print/2208.10503\n"
     ]
    },
    {
     "name": "stdout",
     "output_type": "stream",
     "text": [
      "extracting tarball to tmp_2208.10503..."
     ]
    },
    {
     "name": "stdout",
     "output_type": "stream",
     "text": [
      " done.\n"
     ]
    },
    {
     "name": "stderr",
     "output_type": "stream",
     "text": [
      "/opt/hostedtoolcache/Python/3.9.13/x64/lib/python3.9/site-packages/arxiv_on_deck_2/latex.py:366: LatexWarning: Error parsing the document directly. Trying to recover.\n",
      "  warnings.warn(LatexWarning(f\"Error parsing the document directly. Trying to recover.\"))\n"
     ]
    },
    {
     "name": "stdout",
     "output_type": "stream",
     "text": [
      "✔ → 0:header\n",
      "  ↳ 17694:\\section{Introduction}\n"
     ]
    },
    {
     "name": "stdout",
     "output_type": "stream",
     "text": [
      "✔ → 17694:\\section{Introduction}\n",
      "  ↳ 25272:\\section{Data: simulated photometric and spectroscopic samples}\n"
     ]
    },
    {
     "name": "stdout",
     "output_type": "stream",
     "text": [
      "✔ → 25272:\\section{Data: simulated photometric and spectroscopic samples}\n",
      "  ↳ 39082:\\section{Method}\n"
     ]
    },
    {
     "name": "stdout",
     "output_type": "stream",
     "text": [
      "✔ → 39082:\\section{Method}\n",
      "  ↳ 55627:\\section{Results}\n"
     ]
    },
    {
     "name": "stdout",
     "output_type": "stream",
     "text": [
      "✘ → 55627:\\section{Results}\n",
      "  ↳ 66923:\\section{Conclusion}\n",
      "✔ → 66923:\\section{Conclusion}\n",
      "  ↳ 71828:end\n"
     ]
    },
    {
     "name": "stderr",
     "output_type": "stream",
     "text": [
      "/opt/hostedtoolcache/Python/3.9.13/x64/lib/python3.9/site-packages/arxiv_on_deck_2/latex.py:118: LatexWarning: attempting recovering figure plots/suppressed_GP_example.pdf\n",
      "  warnings.warn(LatexWarning(f'attempting recovering figure {image}'))\n",
      "/tmp/ipykernel_2246/4030337529.py:34: LatexWarning: 2208.10503 did not run properly\n",
      "Could not find figure plots/suppressed_GP_example.pdf\n",
      "  warnings.warn(latex.LatexWarning(f\"{paper_id:s} did not run properly\\n\" +\n"
     ]
    },
    {
     "name": "stdout",
     "output_type": "stream",
     "text": [
      "Retrieving document from  https://arxiv.org/e-print/2208.10528\n"
     ]
    },
    {
     "name": "stdout",
     "output_type": "stream",
     "text": [
      "extracting tarball to tmp_2208.10528..."
     ]
    },
    {
     "name": "stdout",
     "output_type": "stream",
     "text": [
      " done.\n"
     ]
    },
    {
     "name": "stderr",
     "output_type": "stream",
     "text": [
      "/opt/hostedtoolcache/Python/3.9.13/x64/lib/python3.9/site-packages/arxiv_on_deck_2/latex.py:366: LatexWarning: Error parsing the document directly. Trying to recover.\n",
      "  warnings.warn(LatexWarning(f\"Error parsing the document directly. Trying to recover.\"))\n"
     ]
    },
    {
     "name": "stdout",
     "output_type": "stream",
     "text": [
      "✔ → 0:header\n",
      "  ↳ 4521:\\section{Introduction} \\label{sec:intro}\n",
      "✔ → 4521:\\section{Introduction} \\label{sec:intro}\n",
      "  ↳ 10150:\\section{Numerical Methods} \\label{sec:methods}\n"
     ]
    },
    {
     "name": "stdout",
     "output_type": "stream",
     "text": [
      "✔ → 10150:\\section{Numerical Methods} \\label{sec:methods}\n",
      "  ↳ 27457:\\section{Results}\\label{sec:results}\n"
     ]
    },
    {
     "name": "stdout",
     "output_type": "stream",
     "text": [
      "✘ → 27457:\\section{Results}\\label{sec:results}\n",
      "  ↳ 56839:\\section{Discussion} \\label{sec:diss}\n"
     ]
    },
    {
     "name": "stdout",
     "output_type": "stream",
     "text": [
      "✔ → 56839:\\section{Discussion} \\label{sec:diss}\n",
      "  ↳ 67627:\\section{Summary} \\label{sec:sum}\n",
      "✔ → 67627:\\section{Summary} \\label{sec:sum}\n",
      "  ↳ 71287:\\section{Photoelectric heating efficiency}\\label{app:PEeff}\n"
     ]
    },
    {
     "name": "stdout",
     "output_type": "stream",
     "text": [
      "✔ → 71287:\\section{Photoelectric heating efficiency}\\label{app:PEeff}\n",
      "  ↳ 76655:end\n"
     ]
    },
    {
     "name": "stdout",
     "output_type": "stream",
     "text": [
      "Retrieving document from  https://arxiv.org/e-print/2208.10529\n"
     ]
    },
    {
     "name": "stdout",
     "output_type": "stream",
     "text": [
      "extracting tarball to tmp_2208.10529..."
     ]
    },
    {
     "name": "stdout",
     "output_type": "stream",
     "text": [
      " done.\n",
      "Retrieving document from  https://arxiv.org/e-print/2208.10534\n"
     ]
    },
    {
     "name": "stdout",
     "output_type": "stream",
     "text": [
      "extracting tarball to tmp_2208.10534..."
     ]
    },
    {
     "name": "stdout",
     "output_type": "stream",
     "text": [
      " done.\n",
      "Retrieving document from  https://arxiv.org/e-print/2208.10560\n"
     ]
    },
    {
     "name": "stderr",
     "output_type": "stream",
     "text": [
      "/opt/hostedtoolcache/Python/3.9.13/x64/lib/python3.9/site-packages/IPython/core/interactiveshell.py:3398: LatexWarning: Multiple tex files.\n",
      "\n",
      "  exec(code_obj, self.user_global_ns, self.user_ns)\n",
      "/opt/hostedtoolcache/Python/3.9.13/x64/lib/python3.9/site-packages/IPython/core/interactiveshell.py:3398: LatexWarning: Found documentclass in tmp_2208.10534/EBLMIX.tex\n",
      "\n",
      "  exec(code_obj, self.user_global_ns, self.user_ns)\n"
     ]
    },
    {
     "name": "stdout",
     "output_type": "stream",
     "text": [
      "extracting tarball to tmp_2208.10560..."
     ]
    },
    {
     "name": "stdout",
     "output_type": "stream",
     "text": [
      " done.\n",
      "Retrieving document from  https://arxiv.org/e-print/2208.10634\n"
     ]
    },
    {
     "name": "stdout",
     "output_type": "stream",
     "text": [
      "extracting tarball to tmp_2208.10634..."
     ]
    },
    {
     "name": "stdout",
     "output_type": "stream",
     "text": [
      " done.\n",
      "Retrieving document from  https://arxiv.org/e-print/2208.10643\n"
     ]
    },
    {
     "name": "stdout",
     "output_type": "stream",
     "text": [
      "extracting tarball to tmp_2208.10643..."
     ]
    },
    {
     "name": "stdout",
     "output_type": "stream",
     "text": [
      " done.\n",
      "Retrieving document from  https://arxiv.org/e-print/2208.10647\n"
     ]
    },
    {
     "name": "stdout",
     "output_type": "stream",
     "text": [
      "extracting tarball to tmp_2208.10647..."
     ]
    },
    {
     "name": "stdout",
     "output_type": "stream",
     "text": [
      " done.\n",
      "Retrieving document from  https://arxiv.org/e-print/2208.10673\n"
     ]
    },
    {
     "name": "stderr",
     "output_type": "stream",
     "text": [
      "/opt/hostedtoolcache/Python/3.9.13/x64/lib/python3.9/site-packages/IPython/core/interactiveshell.py:3398: LatexWarning: Multiple tex files.\n",
      "\n",
      "  exec(code_obj, self.user_global_ns, self.user_ns)\n",
      "/opt/hostedtoolcache/Python/3.9.13/x64/lib/python3.9/site-packages/IPython/core/interactiveshell.py:3398: LatexWarning: Found documentclass in tmp_2208.10647/IIZw96_MIRI_sub128_subm1.tex\n",
      "\n",
      "  exec(code_obj, self.user_global_ns, self.user_ns)\n",
      "/opt/hostedtoolcache/Python/3.9.13/x64/lib/python3.9/site-packages/arxiv_on_deck_2/latex.py:292: LatexWarning: Latex injecting: 'IIZw96_MIRI_SUB128_tbl_phot.tex' from 'tmp_2208.10647/IIZw96_MIRI_SUB128_tbl_phot.tex'\n",
      "  warnings.warn(LatexWarning(f\"Latex injecting: '{ext}' from '{subsource}'\"))\n"
     ]
    },
    {
     "name": "stdout",
     "output_type": "stream",
     "text": [
      "extracting tarball to tmp_2208.10673..."
     ]
    },
    {
     "name": "stdout",
     "output_type": "stream",
     "text": [
      " done.\n",
      "Retrieving document from  https://arxiv.org/e-print/2208.10693\n"
     ]
    },
    {
     "name": "stdout",
     "output_type": "stream",
     "text": [
      "extracting tarball to tmp_2208.10693..."
     ]
    },
    {
     "name": "stdout",
     "output_type": "stream",
     "text": [
      " done.\n",
      "Retrieving document from  https://arxiv.org/e-print/2208.10721\n"
     ]
    },
    {
     "name": "stdout",
     "output_type": "stream",
     "text": [
      "extracting tarball to tmp_2208.10721..."
     ]
    },
    {
     "name": "stdout",
     "output_type": "stream",
     "text": [
      " done.\n",
      "Retrieving document from  https://arxiv.org/e-print/2208.10726\n"
     ]
    },
    {
     "name": "stdout",
     "output_type": "stream",
     "text": [
      "extracting tarball to tmp_2208.10726..."
     ]
    },
    {
     "name": "stdout",
     "output_type": "stream",
     "text": [
      " done.\n"
     ]
    },
    {
     "name": "stderr",
     "output_type": "stream",
     "text": [
      "/opt/hostedtoolcache/Python/3.9.13/x64/lib/python3.9/site-packages/arxiv_on_deck_2/latex.py:366: LatexWarning: Error parsing the document directly. Trying to recover.\n",
      "  warnings.warn(LatexWarning(f\"Error parsing the document directly. Trying to recover.\"))\n"
     ]
    },
    {
     "name": "stdout",
     "output_type": "stream",
     "text": [
      "✔ → 0:header\n",
      "  ↳ 2791:\\section{Introduction}\n",
      "✔ → 2791:\\section{Introduction}\n",
      "  ↳ 8795:\\section{Numerical setup}\n"
     ]
    },
    {
     "name": "stdout",
     "output_type": "stream",
     "text": [
      "✔ → 8795:\\section{Numerical setup}\n",
      "  ↳ 17123:\\section{Dynamical Characteristics}\n"
     ]
    },
    {
     "name": "stdout",
     "output_type": "stream",
     "text": [
      "✔ → 17123:\\section{Dynamical Characteristics}\n",
      "  ↳ 42442:\\section{Temporal characteristics}\n"
     ]
    },
    {
     "name": "stdout",
     "output_type": "stream",
     "text": [
      "✔ → 42442:\\section{Temporal characteristics}\n",
      "  ↳ 53740:\\section{Radiative characteristics}\n"
     ]
    },
    {
     "name": "stdout",
     "output_type": "stream",
     "text": [
      "✘ → 53740:\\section{Radiative characteristics}\n",
      "  ↳ 65726:\\section{Summary and discussion}\n"
     ]
    },
    {
     "name": "stdout",
     "output_type": "stream",
     "text": [
      "✔ → 65726:\\section{Summary and discussion}\n",
      "  ↳ 74734:\\section{MRI quality factor}\n",
      "✔ → 74734:\\section{MRI quality factor}\n",
      "  ↳ 76320:\\section{3D low resolution comparison run}\n"
     ]
    },
    {
     "name": "stdout",
     "output_type": "stream",
     "text": [
      "✔ → 76320:\\section{3D low resolution comparison run}\n",
      "  ↳ 80840:end\n"
     ]
    },
    {
     "name": "stdout",
     "output_type": "stream",
     "text": [
      "Retrieving document from  https://arxiv.org/e-print/2208.10775\n"
     ]
    },
    {
     "name": "stdout",
     "output_type": "stream",
     "text": [
      "extracting tarball to tmp_2208.10775..."
     ]
    },
    {
     "name": "stdout",
     "output_type": "stream",
     "text": [
      " done.\n",
      "Retrieving document from  https://arxiv.org/e-print/2208.10843\n"
     ]
    },
    {
     "name": "stdout",
     "output_type": "stream",
     "text": [
      "extracting tarball to tmp_2208.10843..."
     ]
    },
    {
     "name": "stdout",
     "output_type": "stream",
     "text": [
      " done.\n",
      "Retrieving document from  https://arxiv.org/e-print/2208.10845\n"
     ]
    },
    {
     "name": "stderr",
     "output_type": "stream",
     "text": [
      "/opt/hostedtoolcache/Python/3.9.13/x64/lib/python3.9/site-packages/IPython/core/interactiveshell.py:3398: LatexWarning: Multiple tex files.\n",
      "\n",
      "  exec(code_obj, self.user_global_ns, self.user_ns)\n",
      "/opt/hostedtoolcache/Python/3.9.13/x64/lib/python3.9/site-packages/IPython/core/interactiveshell.py:3398: LatexWarning: Found documentclass in tmp_2208.10843/natbib.tex\n",
      "\n",
      "  exec(code_obj, self.user_global_ns, self.user_ns)\n"
     ]
    },
    {
     "name": "stdout",
     "output_type": "stream",
     "text": [
      "extracting tarball to tmp_2208.10845..."
     ]
    },
    {
     "name": "stdout",
     "output_type": "stream",
     "text": [
      " done.\n"
     ]
    },
    {
     "name": "stderr",
     "output_type": "stream",
     "text": [
      "/opt/hostedtoolcache/Python/3.9.13/x64/lib/python3.9/site-packages/arxiv_on_deck_2/latex.py:118: LatexWarning: attempting recovering figure Figure_extract_spectra_v4\n",
      "  warnings.warn(LatexWarning(f'attempting recovering figure {image}'))\n",
      "/opt/hostedtoolcache/Python/3.9.13/x64/lib/python3.9/site-packages/arxiv_on_deck_2/latex.py:118: LatexWarning: attempting recovering figure 3D_spectra_geometrical_model_LM.png\n",
      "  warnings.warn(LatexWarning(f'attempting recovering figure {image}'))\n",
      "/tmp/ipykernel_2246/4030337529.py:34: LatexWarning: 2208.10845 did not run properly\n",
      "Could not find figure 3D_spectra_geometrical_model_LM.png\n",
      "  warnings.warn(latex.LatexWarning(f\"{paper_id:s} did not run properly\\n\" +\n"
     ]
    },
    {
     "name": "stdout",
     "output_type": "stream",
     "text": [
      "Retrieving document from  https://arxiv.org/e-print/2208.10854\n"
     ]
    },
    {
     "name": "stdout",
     "output_type": "stream",
     "text": [
      "extracting tarball to tmp_2208.10854..."
     ]
    },
    {
     "name": "stdout",
     "output_type": "stream",
     "text": [
      " done.\n"
     ]
    },
    {
     "name": "stderr",
     "output_type": "stream",
     "text": [
      "/opt/hostedtoolcache/Python/3.9.13/x64/lib/python3.9/site-packages/IPython/core/interactiveshell.py:3398: LatexWarning: Multiple tex files.\n",
      "\n",
      "  exec(code_obj, self.user_global_ns, self.user_ns)\n",
      "/opt/hostedtoolcache/Python/3.9.13/x64/lib/python3.9/site-packages/IPython/core/interactiveshell.py:3398: LatexWarning: Found documentclass in tmp_2208.10854/main.tex\n",
      "\n",
      "  exec(code_obj, self.user_global_ns, self.user_ns)\n",
      "/opt/hostedtoolcache/Python/3.9.13/x64/lib/python3.9/site-packages/arxiv_on_deck_2/latex.py:292: LatexWarning: Latex injecting: 'Tables/RVs' from 'tmp_2208.10854/Tables/RVs.tex'\n",
      "  warnings.warn(LatexWarning(f\"Latex injecting: '{ext}' from '{subsource}'\"))\n",
      "/opt/hostedtoolcache/Python/3.9.13/x64/lib/python3.9/site-packages/arxiv_on_deck_2/latex.py:292: LatexWarning: Latex injecting: 'Tables/Upcoming_transits' from 'tmp_2208.10854/Tables/Upcoming_transits.tex'\n",
      "  warnings.warn(LatexWarning(f\"Latex injecting: '{ext}' from '{subsource}'\"))\n",
      "/opt/hostedtoolcache/Python/3.9.13/x64/lib/python3.9/site-packages/arxiv_on_deck_2/latex.py:292: LatexWarning: Latex injecting: 'Tables/Planet_parameters' from 'tmp_2208.10854/Tables/Planet_parameters.tex'\n",
      "  warnings.warn(LatexWarning(f\"Latex injecting: '{ext}' from '{subsource}'\"))\n",
      "/opt/hostedtoolcache/Python/3.9.13/x64/lib/python3.9/site-packages/arxiv_on_deck_2/latex.py:292: LatexWarning: Latex injecting: 'Tables/Stellar_parameters' from 'tmp_2208.10854/Tables/Stellar_parameters.tex'\n",
      "  warnings.warn(LatexWarning(f\"Latex injecting: '{ext}' from '{subsource}'\"))\n"
     ]
    },
    {
     "name": "stdout",
     "output_type": "stream",
     "text": [
      "Retrieving document from  https://arxiv.org/e-print/2208.10875\n"
     ]
    },
    {
     "name": "stdout",
     "output_type": "stream",
     "text": [
      "extracting tarball to tmp_2208.10875..."
     ]
    },
    {
     "name": "stdout",
     "output_type": "stream",
     "text": [
      " done.\n",
      "Retrieving document from  https://arxiv.org/e-print/2208.10883\n"
     ]
    },
    {
     "name": "stdout",
     "output_type": "stream",
     "text": [
      "extracting tarball to tmp_2208.10883..."
     ]
    },
    {
     "name": "stdout",
     "output_type": "stream",
     "text": [
      " done.\n",
      "Retrieving document from  https://arxiv.org/e-print/2208.10935\n"
     ]
    },
    {
     "name": "stdout",
     "output_type": "stream",
     "text": [
      "extracting tarball to tmp_2208.10935..."
     ]
    },
    {
     "name": "stdout",
     "output_type": "stream",
     "text": [
      " done.\n",
      "Retrieving document from  https://arxiv.org/e-print/2208.10997\n"
     ]
    },
    {
     "name": "stderr",
     "output_type": "stream",
     "text": [
      "/tmp/ipykernel_2246/4030337529.py:34: LatexWarning: 2208.10997 did not run properly\n",
      "not a gzip file\n",
      "  warnings.warn(latex.LatexWarning(f\"{paper_id:s} did not run properly\\n\" +\n"
     ]
    },
    {
     "name": "stdout",
     "output_type": "stream",
     "text": [
      "Retrieving document from  https://arxiv.org/e-print/2208.11013\n"
     ]
    },
    {
     "name": "stdout",
     "output_type": "stream",
     "text": [
      "extracting tarball to tmp_2208.11013..."
     ]
    },
    {
     "name": "stdout",
     "output_type": "stream",
     "text": [
      " done.\n",
      "Retrieving document from  https://arxiv.org/e-print/2208.11063\n"
     ]
    },
    {
     "name": "stdout",
     "output_type": "stream",
     "text": [
      "extracting tarball to tmp_2208.11063..."
     ]
    },
    {
     "name": "stdout",
     "output_type": "stream",
     "text": [
      " done.\n",
      "Retrieving document from  https://arxiv.org/e-print/2208.11068\n"
     ]
    },
    {
     "name": "stdout",
     "output_type": "stream",
     "text": [
      "extracting tarball to tmp_2208.11068..."
     ]
    },
    {
     "name": "stdout",
     "output_type": "stream",
     "text": [
      " done.\n"
     ]
    },
    {
     "name": "stderr",
     "output_type": "stream",
     "text": [
      "/opt/hostedtoolcache/Python/3.9.13/x64/lib/python3.9/site-packages/IPython/core/interactiveshell.py:3398: LatexWarning: Multiple tex files.\n",
      "\n",
      "  exec(code_obj, self.user_global_ns, self.user_ns)\n",
      "/opt/hostedtoolcache/Python/3.9.13/x64/lib/python3.9/site-packages/IPython/core/interactiveshell.py:3398: LatexWarning: Found documentclass in tmp_2208.11068/bfields.tex\n",
      "\n",
      "  exec(code_obj, self.user_global_ns, self.user_ns)\n",
      "/opt/hostedtoolcache/Python/3.9.13/x64/lib/python3.9/site-packages/arxiv_on_deck_2/latex.py:292: LatexWarning: Latex injecting: 'tables/correlations-table' from 'tmp_2208.11068/tables/correlations-table.tex'\n",
      "  warnings.warn(LatexWarning(f\"Latex injecting: '{ext}' from '{subsource}'\"))\n",
      "/opt/hostedtoolcache/Python/3.9.13/x64/lib/python3.9/site-packages/arxiv_on_deck_2/latex.py:292: LatexWarning: Latex injecting: 'tables/radial' from 'tmp_2208.11068/tables/radial.tex'\n",
      "  warnings.warn(LatexWarning(f\"Latex injecting: '{ext}' from '{subsource}'\"))\n",
      "/opt/hostedtoolcache/Python/3.9.13/x64/lib/python3.9/site-packages/arxiv_on_deck_2/latex.py:292: LatexWarning: Latex injecting: 'tables/diffusion' from 'tmp_2208.11068/tables/diffusion.tex'\n",
      "  warnings.warn(LatexWarning(f\"Latex injecting: '{ext}' from '{subsource}'\"))\n",
      "/opt/hostedtoolcache/Python/3.9.13/x64/lib/python3.9/site-packages/arxiv_on_deck_2/latex.py:292: LatexWarning: Latex injecting: 'tables/btherm' from 'tmp_2208.11068/tables/btherm.tex'\n",
      "  warnings.warn(LatexWarning(f\"Latex injecting: '{ext}' from '{subsource}'\"))\n",
      "/opt/hostedtoolcache/Python/3.9.13/x64/lib/python3.9/site-packages/arxiv_on_deck_2/latex.py:292: LatexWarning: Latex injecting: 'tables/data-table' from 'tmp_2208.11068/tables/data-table.tex'\n",
      "  warnings.warn(LatexWarning(f\"Latex injecting: '{ext}' from '{subsource}'\"))\n"
     ]
    }
   ],
   "source": [
    "documents = []\n",
    "failed = []\n",
    "for paper in tqdm(candidates[:-1]):\n",
    "    paper_id = paper['identifier'].lower().replace('arxiv:', '')\n",
    "    \n",
    "    folder = f'tmp_{paper_id}'\n",
    "\n",
    "    try:\n",
    "        if not os.path.isdir(folder):\n",
    "            folder = retrieve_document_source(f\"{paper_id}\", f'tmp_{paper_id}')\n",
    "        \n",
    "        try:\n",
    "            doc = latex.LatexDocument(folder, validation=validation)    \n",
    "        except AffiliationError as affilerror:\n",
    "            msg = f\"ArXiv:{paper_id:s} is not an MPIA paper... \" + str(affilerror)\n",
    "            failed.append((paper, \"affiliation error: \" + str(affilerror) ))\n",
    "            continue\n",
    "        \n",
    "        # Hack because sometimes author parsing does not work well\n",
    "        if (len(doc.authors) != len(paper['authors'])):\n",
    "            doc._authors = paper['authors']\n",
    "        if (doc.abstract) in (None, ''):\n",
    "            doc._abstract = paper['abstract']\n",
    "            \n",
    "        doc.comment = (get_markdown_badge(paper_id) + \n",
    "                       \"<mark>Appeared on: \" + paper['date'] + \"</mark> - \" +\n",
    "                       \"_\" + paper['comments'] + \"_\")\n",
    "        doc.highlight_authors_in_list(hl_list)\n",
    "\n",
    "        full_md = doc.generate_markdown_text()\n",
    "        \n",
    "        documents.append((paper_id, full_md))\n",
    "    except Exception as e:\n",
    "        warnings.warn(latex.LatexWarning(f\"{paper_id:s} did not run properly\\n\" +\n",
    "                                         str(e)\n",
    "                                        ))\n",
    "        failed.append((paper, \"latex error \" + str(e)))"
   ]
  },
  {
   "cell_type": "markdown",
   "id": "2505a25c",
   "metadata": {
    "papermill": {
     "duration": 0.007144,
     "end_time": "2022-08-24T07:10:37.381629",
     "exception": false,
     "start_time": "2022-08-24T07:10:37.374485",
     "status": "completed"
    },
    "tags": []
   },
   "source": [
    "### Export the logs\n",
    "\n",
    "Throughout, we also keep track of the logs per paper. see `logs-{today date}.md` "
   ]
  },
  {
   "cell_type": "code",
   "execution_count": 6,
   "id": "d733828a",
   "metadata": {
    "execution": {
     "iopub.execute_input": "2022-08-24T07:10:37.398337Z",
     "iopub.status.busy": "2022-08-24T07:10:37.397516Z",
     "iopub.status.idle": "2022-08-24T07:10:37.440080Z",
     "shell.execute_reply": "2022-08-24T07:10:37.439174Z"
    },
    "papermill": {
     "duration": 0.053882,
     "end_time": "2022-08-24T07:10:37.442547",
     "exception": false,
     "start_time": "2022-08-24T07:10:37.388665",
     "status": "completed"
    },
    "scrolled": false,
    "tags": []
   },
   "outputs": [
    {
     "data": {
      "text/markdown": [
       "## Successful papers"
      ],
      "text/plain": [
       "<IPython.core.display.Markdown object>"
      ]
     },
     "metadata": {},
     "output_type": "display_data"
    },
    {
     "data": {
      "text/markdown": [
       "\n",
       "|||\n",
       "|---:|:---|\n",
       "| [![arXiv](https://img.shields.io/badge/arXiv-arXiv:2208.10528-b31b1b.svg)](https://arxiv.org/abs/arXiv:2208.10528) | **Code Comparison in Galaxy Scale Simulations with Resolved Supernova  Feedback:\\\\ Lagrangian vs. Eulerian Methods**  |\n",
       "|| Chia-Yu Hu, et al. -- incl., <mark>Matthew C. Smith</mark> |\n",
       "|*Appeared on*| *2022-08-24*|\n",
       "|*Comments*| *submitted; comments welcome*|\n",
       "|**Abstract**| We present a suite of high-resolution simulations of an isolated dwarf galaxy using four different hydrodynamical codes: {\\sc Gizmo}, {\\sc Arepo}, {\\sc Gadget}, and {\\sc Ramses}. All codes adopt the same physical model which includes radiative cooling, photoelectric heating, star formation, and supernova (SN) feedback. Individual SN explosions are directly resolved without resorting to sub-grid models, eliminating one of the major uncertainties in cosmological simulations. We find reasonable agreement on the time-averaged star formation rates as well as the joint density-temperature distributions between all codes. However, the Lagrangian codes show significantly burstier star formation, larger supernova-driven bubbles, and stronger galactic outflows compared to the Eulerian code. This is caused by the behavior in the dense, collapsing gas clouds when the Jeans length becomes unresolved: gas in Lagrangian codes collapses to much higher densities than in Eulerian codes, as the latter is stabilized by the minimal cell size. Therefore, more of the gas cloud is converted to stars and SNe are much more clustered in the Lagrangian models, amplifying their dynamical impact. The differences between Lagrangian and Eulerian codes can be reduced by adopting a higher star formation efficiency in Eulerian codes, which significantly enhances SN clustering in the latter. Adopting a zero SN delay time reduces burstiness in all codes, resulting in vanishing outflows as SN clustering is suppressed. |"
      ],
      "text/plain": [
       "[arXiv:2208.10528] Code Comparison in Galaxy Scale Simulations with Resolved Supernova  Feedback:\\\\ Lagrangian vs. Eulerian Methods\n",
       "\tChia-Yu Hu, et al. -- incl., <mark>Matthew C. Smith</mark>"
      ]
     },
     "metadata": {},
     "output_type": "display_data"
    },
    {
     "data": {
      "text/markdown": [
       "\n",
       "|||\n",
       "|---:|:---|\n",
       "| [![arXiv](https://img.shields.io/badge/arXiv-arXiv:2208.10726-b31b1b.svg)](https://arxiv.org/abs/arXiv:2208.10726) | **Truncated accretion discs in black hole X-ray binaries: dynamics and  variability signatures**  |\n",
       "|| Indu K. Dihingia, Bhargav Vaidya, <mark>Christian Fendt</mark> |\n",
       "|*Appeared on*| *2022-08-24*|\n",
       "|*Comments*| *19 pages, 25 figures*|\n",
       "|**Abstract**| Variable features in black hole X-ray Binaries (BH-XRBs) are observed in different energy ranges and time scales. The physical origin of different spectral states in BH-XRBs and their relations with the underlying accretion disc are still elusive. To investigate the intermediate state of BH-XRBs during outburst, we simulate a truncated accretion disc around a Kerr black hole using a general relativistic magneto-hydrodynamical (GRMHD) framework under axisymmetry with adaptively refined mesh. Additionally, we have also carried out radiative transfer calculations for understanding the implications of disc dynamics on emission. Dynamically, the inner edge of the truncated accretion disc oscillates in a quasi-periodic fashion (QPO). The QPO frequency of oscillations $(\\nu_{\\rm QPO, max})$ increases as the magnetic field strength and magnetic resistivity increase. However, as the truncation radius increases, $\\nu_{\\rm QPO, max}$ decreases. In our simulation models, frequency varies between $7\\times(10M_{\\odot}/M_{\\rm BH})$ Hz $\\lesssim\\nu_{\\rm QPO, max}\\lesssim20 \\times (10M_{\\odot}/M_{\\rm BH})$ Hz, which is in the range of low-frequency QPOs. We further find evidence of transient shocks in the highly accreting stage during oscillation. Such a transient shock acts as an extended hot post-shock corona around the black hole that has an impact on its radiative properties. The radiative transfer calculations show signatures of these oscillations in the form of modulation in the edge-brightened structure of the accretion disc. |"
      ],
      "text/plain": [
       "[arXiv:2208.10726] Truncated accretion discs in black hole X-ray binaries: dynamics and  variability signatures\n",
       "\tIndu K. Dihingia, Bhargav Vaidya, <mark>Christian Fendt</mark>"
      ]
     },
     "metadata": {},
     "output_type": "display_data"
    },
    {
     "data": {
      "text/markdown": [
       "\n",
       "|||\n",
       "|---:|:---|\n",
       "| [![arXiv](https://img.shields.io/badge/arXiv-arXiv:2208.10854-b31b1b.svg)](https://arxiv.org/abs/arXiv:2208.10854) | **TOI-4562 b: A highly eccentric temperate Jupiter analog orbiting a young  field star**  |\n",
       "|| <mark>Alexis Heitzmann</mark>, et al. -- incl., <mark>Melissa Hobson</mark>, <mark>Coel Hellier</mark>, <mark>Carl Ziegler</mark> |\n",
       "|*Appeared on*| *2022-08-24*|\n",
       "|*Comments*| *23 pages, 12 figures, 4 tables. Submitted to the Astrophysical Journal (23/08/2022)*|\n",
       "|**Abstract**| We report the discovery of TOI-4562 b (TIC-349576261), a Jovian planet orbiting a young F7V-type star, younger than the Praesepe/Hyades clusters ($\\sim$ 300-400 Myr). This planet stands out because of its unusually long orbital period for transiting planets with known masses ($P_{\\mathrm{orb}}$ = $225.11757^{+0.00027}_{-0.00025}$ days), and because it has a substantial eccentricity ($e$ = $0.81^{+0.05}_{-0.05}$). The location of TOI-4562 near the southern continuous viewing zone of TESS allowed observations throughout 25 sectors, enabling an unambiguous period measurement from TESS alone. Alongside the four available TESS transits, we performed follow-up photometry using the South African Astronomical Observatory node of the Las Cumbres Observatory, and spectroscopy with the CHIRON spectrograph on the 1.5 m SMARTS telescope. We measure a radius of $1.072_{-0.043}^{+0.044}$ R$_{\\mathrm{Jup}}$, and a mass of $3.29^{+1.88}_{-0.82}$ M$_{\\mathrm{Jup}}$,for TOI-4562 b. The radius of the planet is consistent with contraction models describing the early evolution of the size of giant planets. We detect tentative transit timing variations at the $\\sim$ 20 min level from five transit events, favouring the presence of a companion that could explain the dynamical history of this system if confirmed by future follow-up observations. With its current orbital configuration, tidal timescales are too long for TOI-4562 b to become a hot-Jupiter via high eccentricity migration, though it is not excluded that interactions with the possible companion could modify TOI-4562 b's eccentricity and trigger circularization. The characterisation of more such young systems is essential to set constraints on models describing giant planet evolution. |"
      ],
      "text/plain": [
       "[arXiv:2208.10854] TOI-4562 b: A highly eccentric temperate Jupiter analog orbiting a young  field star\n",
       "\t<mark>Alexis Heitzmann</mark>, et al. -- incl., <mark>Melissa Hobson</mark>, <mark>Coel Hellier</mark>, <mark>Carl Ziegler</mark>"
      ]
     },
     "metadata": {},
     "output_type": "display_data"
    },
    {
     "data": {
      "text/markdown": [
       "## Failed papers"
      ],
      "text/plain": [
       "<IPython.core.display.Markdown object>"
      ]
     },
     "metadata": {},
     "output_type": "display_data"
    },
    {
     "data": {
      "text/markdown": [
       "\n",
       "|||\n",
       "|---:|:---|\n",
       "| [![arXiv](https://img.shields.io/badge/arXiv-arXiv:2208.10529-b31b1b.svg)](https://arxiv.org/abs/arXiv:2208.10529) | **Evidence of Deep Mixing in IRS 7, a Cool Massive Supergiant Member of  the Galactic Nuclear Star Cluster**  |\n",
       "|| Rafael Guerço, et al. -- incl., <mark>Verne V. Smith</mark> |\n",
       "|*Appeared on*| *2022-08-24*|\n",
       "|*Comments*| *11 pages, 6 figures, 2 tables*|\n",
       "|**Abstract**| The center of the Milky Way contains stellar populations spanning a range in age and metallicity, with a recent star formation burst producing young and massive stars. Chemical abundances in the most luminous stellar member of the Nuclear Star Cluster (NSC), IRS 7, are presented for $^{19}$F, $^{12}$C, $^{13}$C, $^{14}$N, $^{16}$O, $^{17}$O, and Fe from an LTE analysis based on spherical modeling and radiative transfer with a 25M$_{\\odot}$ model atmosphere, whose chemistry was tailored to the derived photospheric abundances. We find IRS 7 to be depleted heavily in both $^{12}$C (~-0.8 dex) and $^{16}$O (~-0.4 dex), while exhibiting an extremely enhanced $^{14}$N abundance (~+1.1 dex), which are isotopic signatures of the deep mixing of CNO-cycled material to the stellar surface. The $^{19}$F abundance is also heavily depleted by ~1 dex relative to the baseline fluorine of the Nuclear Star Cluster, providing evidence that fluorine along with carbon constrain the nature of the deep mixing in this very luminous supergiant. The abundances of the minor isotopes $^{13}$C and $^{17}$O are also derived, with ratios of $^{12}$C/$^{13}$C~5.3 and $^{16}$O/$^{17}$O~525. The derived abundances for IRS 7, in conjunction with previous abundance results for massive stars in the NSC, are compared with rotating and non-rotating models of massive stars and it is found that the IRS 7 abundances overall follow the behavior predicted by stellar models. The depleted fluorine abundance in IRS 7 illustrates, for the first time, the potential of using the $^{19}$F abundance as a mixing probe in luminous red giants. |\n",
       "|<p style=\"color:green\"> **ERROR** </p>| <p style=\"color:green\">affiliation error: mpia.affiliation_verifications: 'Heidelberg' keyword not found.</p> |"
      ],
      "text/plain": [
       "<IPython.core.display.Markdown object>"
      ]
     },
     "metadata": {},
     "output_type": "display_data"
    },
    {
     "data": {
      "text/markdown": [
       "\n",
       "|||\n",
       "|---:|:---|\n",
       "| [![arXiv](https://img.shields.io/badge/arXiv-arXiv:2208.10534-b31b1b.svg)](https://arxiv.org/abs/arXiv:2208.10534) | **The EBLM project X. Benchmark masses, radii and temperatures for two  fully convective M-dwarfs using K2**  |\n",
       "|| Alison Duck, et al. -- incl., <mark>Coel Hellier</mark> |\n",
       "|*Appeared on*| *2022-08-24*|\n",
       "|*Comments*| *13 Pages, MNRAS Submission, Comments welcome*|\n",
       "|**Abstract**| M-dwarfs are the most abundant stars in the galaxy and popular targets for exoplanet searches. However, their intrinsic faintness and complex spectra inhibit precise characterisation. We only know of dozens of M-dwarfs with fundamental parameters of mass, radius and effective temperature characterised to better than a few per cent. Eclipsing binaries remain the most robust means of stellar characterisation. Here we present two targets from the Eclipsing Binary Low Mass (EBLM) survey that were observed with K2: EBLM J0055-00 and EBLM J2217-04. Combined with HARPS and CORALIE spectroscopy, we measure M-dwarf masses with precisions better than 5%, radii better than 3% and effective temperatures on order 1%. However, our fits require invoking a model to derive parameters for the primary star. By investigating three popular models, we determine that the model uncertainty is of similar magnitude to the statistical uncertainty in the model fits. Therefore, whilst these can be considered benchmark M-dwarfs, we caution the community to consider model uncertainty when pushing the limits of precise stellar characterisation. |\n",
       "|<p style=\"color:green\"> **ERROR** </p>| <p style=\"color:green\">affiliation error: mpia.affiliation_verifications: 'Heidelberg' keyword not found.</p> |"
      ],
      "text/plain": [
       "<IPython.core.display.Markdown object>"
      ]
     },
     "metadata": {},
     "output_type": "display_data"
    },
    {
     "data": {
      "text/markdown": [
       "\n",
       "|||\n",
       "|---:|:---|\n",
       "| [![arXiv](https://img.shields.io/badge/arXiv-arXiv:2208.10560-b31b1b.svg)](https://arxiv.org/abs/arXiv:2208.10560) | **Constraining effective neutrino species with bispectrum of large scale  structures**  |\n",
       "|| Yanlong Shi, <mark>Chen Heinrich</mark>, Olivier Doré |\n",
       "|*Appeared on*| *2022-08-24*|\n",
       "|*Comments*| **|\n",
       "|**Abstract**| Relativistic and free-streaming particles like neutrinos leave imprints in large scale structures (LSS), providing probes of the effective number of neutrino species $N_{\\rm eff}$. In this paper, we use the Fisher formalism to forecast $N_{\\rm eff}$ constraints from the bispectrum (B) of LSS for current and future galaxy redshift surveys, specifically using information from the baryon acoustic oscillations (BAOs). Modeling the galaxy bispectrum at the tree-level, we find that adding the bispectrum constraints to current CMB constraints from Planck can improve upon the Planck-only constraints on $N_{\\rm eff}$ by about 10\\% -- 40\\% depending on the survey. Compared to the Planck + power spectrum (P) constraints previously explored in the literature, using Planck+P+B provides a further improvement of about 5\\% -- 30\\%. Besides using BAO wiggles alone, we also explore using the total information which includes both the wiggles and the broadband information (which is subject to systematics challenges), generally yielding better results. Finally, we exploit the interference feature of the BAOs in the bispectrum to select a subset of triangles with the most information on $N_{\\rm eff}$. This allows for the reduction of computational cost while keeping most of the information, as well as for circumventing some of the shortcomings of applying directly to the bispectrum the current wiggle extraction algorithm valid for the power spectrum. In sum, our study validates that the current Planck constraint on $N_{\\rm eff}$ can be significantly improved with the aid of galaxy surveys before the next-generation CMB experiments like CMB-Stage 4. |\n",
       "|<p style=\"color:green\"> **ERROR** </p>| <p style=\"color:green\">affiliation error: mpia.affiliation_verifications: 'Heidelberg' keyword not found.</p> |"
      ],
      "text/plain": [
       "<IPython.core.display.Markdown object>"
      ]
     },
     "metadata": {},
     "output_type": "display_data"
    },
    {
     "data": {
      "text/markdown": [
       "\n",
       "|||\n",
       "|---:|:---|\n",
       "| [![arXiv](https://img.shields.io/badge/arXiv-arXiv:2208.10634-b31b1b.svg)](https://arxiv.org/abs/arXiv:2208.10634) | **CCAT-prime: The 850 GHz camera for Prime-Cam on FYST**  |\n",
       "|| Scott C. Chapman, et al. -- incl., <mark>Anthony I. Huber</mark>, <mark>Doug Henke</mark>, <mark>Terry Herter</mark>, <mark>Lewis B. G. Knee</mark> |\n",
       "|*Appeared on*| *2022-08-24*|\n",
       "|*Comments*| *15 pages, accepted for publication in SPIE*|\n",
       "|**Abstract**| The Fred Young Submillimeter Telescope (FYST) at the Cerro-Chajnantor Atacama Telescope prime (CCAT- prime) Facility will host Prime-Cam as a powerful, first generation camera with imaging polarimeters working at several wavelengths and spectroscopic instruments aimed at intensity mapping during the Epoch of Reionization. Here we introduce the 850 GHz (350 micron) instrument module. This will be the highest frequency module in Prime-Cam and the most novel for astronomical and cosmological surveys, taking full advantage of the atmospheric transparency at the high 5600 meter CCAT-prime siting on Cerro Chajnantor. With a 1.1 deg diameter field, the 850 GHz module will deploy ~40,000 Kinetic Inductance Detectors (KIDs) with Silicon platelet feedhorn coupling (both fabricated at NIST), and will provide unprecedented broadband intensity and polarization measurement capabilities. The 850 GHz module will be key to addressing pressing astrophysical questions regarding galaxy formation, Big Bang cosmology, and star formation within our own Galaxy. We present the motivation and overall design for the module, and initial laboratory characterization. |\n",
       "|<p style=\"color:green\"> **ERROR** </p>| <p style=\"color:green\">affiliation error: mpia.affiliation_verifications: 'Heidelberg' keyword not found.</p> |"
      ],
      "text/plain": [
       "<IPython.core.display.Markdown object>"
      ]
     },
     "metadata": {},
     "output_type": "display_data"
    },
    {
     "data": {
      "text/markdown": [
       "\n",
       "|||\n",
       "|---:|:---|\n",
       "| [![arXiv](https://img.shields.io/badge/arXiv-arXiv:2208.10643-b31b1b.svg)](https://arxiv.org/abs/arXiv:2208.10643) | **Core Collapse Supernova Gravitational Wave Emission for Progenitors of  9.6, 15, and 25 Solar Masses**  |\n",
       "|| Anthony Mezzacappa, et al. -- incl., <mark>J. Austin Harris</mark> |\n",
       "|*Appeared on*| *2022-08-24*|\n",
       "|*Comments*| *Submitted to Physical Review D*|\n",
       "|**Abstract**| We present gravitational wave emission predictions based on three core collapse supernova simulations corresponding to three different progenitor masses. The masses span a large range, between 9.6 and 25 Solar masses, are all initially non-rotating, and are of two metallicities: zero and Solar. We compute both the temporal evolution of the gravitational wave strains for both the plus and the cross polarizations, as well as their spectral decomposition and characteristic strains. |\n",
       "|<p style=\"color:green\"> **ERROR** </p>| <p style=\"color:green\">affiliation error: mpia.affiliation_verifications: 'Heidelberg' keyword not found.</p> |"
      ],
      "text/plain": [
       "<IPython.core.display.Markdown object>"
      ]
     },
     "metadata": {},
     "output_type": "display_data"
    },
    {
     "data": {
      "text/markdown": [
       "\n",
       "|||\n",
       "|---:|:---|\n",
       "| [![arXiv](https://img.shields.io/badge/arXiv-arXiv:2208.10647-b31b1b.svg)](https://arxiv.org/abs/arXiv:2208.10647) | **GOALS-JWST: Unveiling the Heavily Dust Obscured Compact Sources in the  Merging Galaxy IIZw096**  |\n",
       "|| Hanae Inami, et al. -- incl., <mark>Lee Armus</mark>, <mark>Joseph M. Mazzarella</mark>, <mark>Michael J. I. Brown</mark> |\n",
       "|*Appeared on*| *2022-08-24*|\n",
       "|*Comments*| *2 figures, 1 table, Submitted to ApJL*|\n",
       "|**Abstract**| We have used the Mid-InfraRed Instrument (MIRI) on the James Webb Space Telescope (JWST) to obtain the first spatially resolved, mid-infrared (mid-IR) images of IIZw096, a merging luminous infrared galaxy (LIRG) at $z = 0.036$. Previous observations with the Spitzer Space Telescope suggested that the vast majority of the total IR luminosity (LIR) of the system originated from a small region outside of the two merging nuclei. New observations with JWST/MIRI now allow an accurate measurement of the location and luminosity density of the source that is responsible for the bulk of the IR emission. We estimate that 40-70% of the IR bolometric luminosity, or $3-5 \\times 10^{11}\\,{\\rm{L_{\\odot}}}$, arises from a source no larger than 175pc in radius, suggesting a luminosity density of at least $3-5 \\times 10^{12} \\, {\\rm{L_{\\odot} \\, kpc^{-2}}}$. In addition, we detect 11 other star forming sources, five of which were previously unknown. The MIRI F1500W/F560W colors of most of these sources, including the source responsible for the bulk of the far-IR emission, are much redder than the nuclei of local LIRGs. These observations reveal the power of JWST to disentangle the complex regions at the hearts of merging, dusty galaxies. |\n",
       "|<p style=\"color:green\"> **ERROR** </p>| <p style=\"color:green\">affiliation error: mpia.affiliation_verifications: 'Heidelberg' keyword not found.</p> |"
      ],
      "text/plain": [
       "<IPython.core.display.Markdown object>"
      ]
     },
     "metadata": {},
     "output_type": "display_data"
    },
    {
     "data": {
      "text/markdown": [
       "\n",
       "|||\n",
       "|---:|:---|\n",
       "| [![arXiv](https://img.shields.io/badge/arXiv-arXiv:2208.10673-b31b1b.svg)](https://arxiv.org/abs/arXiv:2208.10673) | **CORINOS I: JWST/MIRI Spectroscopy and Imaging of a Class 0 protostar  IRAS 15398-3359**  |\n",
       "|| Yao-Lun Yang, et al. -- incl., <mark>Joel D. Green</mark>, <mark>Jeong-Eun Lee</mark> |\n",
       "|*Appeared on*| *2022-08-24*|\n",
       "|*Comments*| *Submitted to ApJL. Comments are welcome*|\n",
       "|**Abstract**| The origin of complex organic molecules (COMs) in young Class 0 protostars has been one of the major questions in astrochemistry and star formation. While COMs are thought to form on icy dust grains via gas-grain chemistry, observational constraints on their formation pathways have been limited to gas-phase detection. Sensitive mid-infrared spectroscopy with JWST enables unprecedented investigation of COM formation by measuring their ice absorption features. We present an overview of JWST/MIRI MRS spectroscopy and imaging of a young Class 0 protostar, IRAS 15398-3359, and identify several major solid-state absorption features in the 4.9-28 $\\mu$m wavelength range. These can be attributed to common ice species, such as H$_2$O, CH$_3$OH, NH$_3$, and CH$_4$, and may have contributions from more complex organic species, such as C$_2$H$_5$OH and CH$_3$CHO. The MRS spectra show many weaker emission lines at 6-8 $\\mu$m, which are due to warm CO gas and water vapor, possibly from a young embedded disk previously unseen. Finally, we detect emission lines from [Fe II], [Ne II], [S I], and H$_2$, tracing a bipolar jet and outflow cavities. MIRI imaging serendipitously covers the south-western (blue-shifted) outflow lobe of IRAS 15398-3359, showing four shell-like structures similar to the outflows traced by molecular emission at sub-mm wavelengths. This overview analysis highlights the vast potential of JWST/MIRI observations and previews scientific discoveries in the coming years. |\n",
       "|<p style=\"color:green\"> **ERROR** </p>| <p style=\"color:green\">affiliation error: mpia.affiliation_verifications: 'Heidelberg' keyword not found.</p> |"
      ],
      "text/plain": [
       "<IPython.core.display.Markdown object>"
      ]
     },
     "metadata": {},
     "output_type": "display_data"
    },
    {
     "data": {
      "text/markdown": [
       "\n",
       "|||\n",
       "|---:|:---|\n",
       "| [![arXiv](https://img.shields.io/badge/arXiv-arXiv:2208.10693-b31b1b.svg)](https://arxiv.org/abs/arXiv:2208.10693) | **Stratified Distribution of Organic Molecules at the Planet-Formation  Scale in the HH 212 Disk Atmosphere**  |\n",
       "|| <mark>Chin-Fei Lee</mark>, Claudio Codella, Cecilia Ceccarelli, Ana Lopez-Sepulcre |\n",
       "|*Appeared on*| *2022-08-24*|\n",
       "|*Comments*| *22 pages, 5 figures*|\n",
       "|**Abstract**| Formamide (NH2CHO) is considered an important prebiotic molecule because of its potential to form peptide bonds. It was recently detected in the atmosphere of the HH 212 protostellar disk on the Solar-System scale where planets will form. Here we have mapped it and its potential parent molecules HNCO and H2CO, along with other molecules CH3OH and CH3CHO, in the disk atmosphere, studying its formation mechanism. Interestingly, we find a stratified distribution of these molecules, with the outer emission radius increasing from ~ 24 au for NH2CHO and HNCO, to 36 au for CH3CHO, to 40 au for CH3OH, and then to 48 au for H2CO. More importantly, we find that the increasing order of the outer emission radius of NH2CHO, CH3OH, and H2CO is consistent with the decreasing order of their binding energies, supporting that they are thermally desorbed from the ice mantle on dust grains. We also find that HNCO, which has much lower binding energy than NH2CHO, has almost the same spatial distribution, kinematics, and temperature as NH2CHO, and is thus more likely a daughter species of desorbed NH2CHO. On the other hand, we find that H2CO has a more extended spatial distribution with different kinematics from NH2CHO, thus questioning whether it can be the gas-phase parent molecule of NH2CHO. |\n",
       "|<p style=\"color:green\"> **ERROR** </p>| <p style=\"color:green\">affiliation error: mpia.affiliation_verifications: 'Heidelberg' keyword not found.</p> |"
      ],
      "text/plain": [
       "<IPython.core.display.Markdown object>"
      ]
     },
     "metadata": {},
     "output_type": "display_data"
    },
    {
     "data": {
      "text/markdown": [
       "\n",
       "|||\n",
       "|---:|:---|\n",
       "| [![arXiv](https://img.shields.io/badge/arXiv-arXiv:2208.10721-b31b1b.svg)](https://arxiv.org/abs/arXiv:2208.10721) | **Design of SCALES: A 2-5 Micron Coronagraphic Integral Field Spectrograph  for Keck Observatory**  |\n",
       "|| Andrew Skemer, et al. -- incl., <mark>Thomas Greene</mark> |\n",
       "|*Appeared on*| *2022-08-24*|\n",
       "|*Comments*| *19 pages, 12 Figures, SPIE Astronomical Telescopes + Instrumentation, (#12184-18), 2022, Montreal, Canada*|\n",
       "|**Abstract**| We present the design of SCALES (Slicer Combined with Array of Lenslets for Exoplanet Spectroscopy) a new 2-5 micron coronagraphic integral field spectrograph under construction for Keck Observatory. SCALES enables low-resolution (R~50) spectroscopy, as well as medium-resolution (R~4,000) spectroscopy with the goal of discovering and characterizing cold exoplanets that are brightest in the thermal infrared. Additionally, SCALES has a 12x12\" field-of-view imager that will be used for general adaptive optics science at Keck. We present SCALES's specifications, its science case, its overall design, and simulations of its expected performance. Additionally, we present progress on procuring, fabricating and testing long lead-time components. |\n",
       "|<p style=\"color:green\"> **ERROR** </p>| <p style=\"color:green\">affiliation error: mpia.affiliation_verifications: 'Heidelberg' keyword not found.</p> |"
      ],
      "text/plain": [
       "<IPython.core.display.Markdown object>"
      ]
     },
     "metadata": {},
     "output_type": "display_data"
    },
    {
     "data": {
      "text/markdown": [
       "\n",
       "|||\n",
       "|---:|:---|\n",
       "| [![arXiv](https://img.shields.io/badge/arXiv-arXiv:2208.10775-b31b1b.svg)](https://arxiv.org/abs/arXiv:2208.10775) | **Mitigation of the Magnetic Field Susceptibility of Transition Edge  Sensors using a Superconducting Groundplane**  |\n",
       "|| Martin de Wit, et al. -- incl., <mark>Jan-Willem A. den Herder</mark> |\n",
       "|*Appeared on*| *2022-08-24*|\n",
       "|*Comments*| *11 pages, 8 figures*|\n",
       "|**Abstract**| Transition edge sensor (TES) microcalorimeters and bolometers are used for a variety of applications. The sensors are based on the steep temperature-dependent resistance of the normal-to-superconducting transition, and are thus intrinsically sensitive to magnetic fields. Conventionally the detectors are shielded from stray magnetic fields using external magnetic shields. However, in particular for applications with strict limits on the available space and mass of an instrument, external magnetic shields might not be enough to obtain the required shielding factors or field homogeneity. Additionally, these shields are only effective for magnetic fields generated external to the TES array, and are ineffective to mitigate the impact of internally generated magnetic fields. Here we present an alternative shielding method based on a superconducting groundplane deposited directly on the backside of the silicon nitride membrane on which the TESs are located. We demonstrate that this local shielding for external magnetic fields has a shielding factor of at the least ~ 75, and is also effective at reducing internal self-induced magnetic fields, as demonstrated by measurements and simulation of the eddy current losses in our AC biased detectors. Measurements of 5.9 keV X-ray photons show that our shielded detectors have a high resilience to external magnetic fields, showing no degradation of the energy resolution or shifts of the energy scale calibration for fields of several microTesla, values higher than expected in typical real-world applications. |\n",
       "|<p style=\"color:green\"> **ERROR** </p>| <p style=\"color:green\">affiliation error: mpia.affiliation_verifications: 'Heidelberg' keyword not found.</p> |"
      ],
      "text/plain": [
       "<IPython.core.display.Markdown object>"
      ]
     },
     "metadata": {},
     "output_type": "display_data"
    },
    {
     "data": {
      "text/markdown": [
       "\n",
       "|||\n",
       "|---:|:---|\n",
       "| [![arXiv](https://img.shields.io/badge/arXiv-arXiv:2208.10843-b31b1b.svg)](https://arxiv.org/abs/arXiv:2208.10843) | **The role of binarity and stellar rotation in the split main sequence of  NGC 2422**  |\n",
       "|| <mark>Chenyu He</mark>, et al. -- incl., <mark>Jing Zhong</mark> |\n",
       "|*Appeared on*| *2022-08-24*|\n",
       "|*Comments*| *20 pages, 12 figures, 1 table; Accepted for publication in The Astrophysical Journal (ApJ)*|\n",
       "|**Abstract**| In addition to the extended main-sequence turnoffs widely found in young and intermediate-age (~ 600 Myr-2 Gyr-old) star clusters, some younger clusters even exhibit split main sequences (MSs). Different stellar rotation rates are proposed to account for the bifurcated MS pattern, with red and blue MSs (rMS and bMS) populated by fast and slowly rotating stars, respectively. Using photometry from Gaia Early Data Release 3, we report a Galactic open cluster with a bifurcated MS, NGC 2422 ( ~ 90 Myr). We exclude the possibilities that the bifurcated MS pattern is caused by photometric noise or differential reddening. We aim to examine if stellar rotation can account for the split MSs. We use spectra observed with the Canada-France-Hawaii Telescope and the Southern African Large Telescope, and directly measured v sin i, the projected rotational velocities, for stars populating the bMS and rMS. We find that their v sin i values are weakly correlated with their loci in the color-magnitude diagram because of contamination caused by a large fraction of rMS stars with low projected rotational velocities. Based on the spectral energy distribution fitting method, we suggest that these slowly rotating stars at the rMS may hide a binary companion, which breaks the expected v sin i-color correlation. Future time-domain studies focusing on whether these slowly rotating stars are radial velocity variables are crucial to test the roles of stellar rotation and binarity in generating the split MSs. |\n",
       "|<p style=\"color:green\"> **ERROR** </p>| <p style=\"color:green\">affiliation error: mpia.affiliation_verifications: 'Heidelberg' keyword not found.</p> |"
      ],
      "text/plain": [
       "<IPython.core.display.Markdown object>"
      ]
     },
     "metadata": {},
     "output_type": "display_data"
    },
    {
     "data": {
      "text/markdown": [
       "\n",
       "|||\n",
       "|---:|:---|\n",
       "| [![arXiv](https://img.shields.io/badge/arXiv-arXiv:2208.10875-b31b1b.svg)](https://arxiv.org/abs/arXiv:2208.10875) | **Susceptibility study of TES micro-calorimeters for X-ray spectroscopy  under FDM readout**  |\n",
       "|| Davide Vaccaro, et al. -- incl., <mark>Jan-Willem A. den Herder</mark> |\n",
       "|*Appeared on*| *2022-08-24*|\n",
       "|*Comments*| *This paper has been accepted for publication in Journal of Low Temperature Physics*|\n",
       "|**Abstract**| We present a characterization of the sensitivity of TES X-ray micro-calorimeters to environmental conditions under frequency-domain multiplexing (FDM) readout. In the FDM scheme, each TES in a readout chain is in series with a LC band-pass filter and AC biased with an independent carrier at MHz range. Using TES arrays, cold readout circuitry and warm electronics fabricated at SRON and SQUIDs produced at VTT Finland, we characterize the sensitivity of the detectors to bias voltage, bath temperature and magnetic field. We compare our results with the requirements for the Athena X-IFU instrument, showing the compliance of the measured sensitivities. We find in particular that FDM is intrinsically insensitive to the magnetic field because of TES design and AC readout. |\n",
       "|<p style=\"color:green\"> **ERROR** </p>| <p style=\"color:green\">affiliation error: mpia.affiliation_verifications: 'Heidelberg' keyword not found.</p> |"
      ],
      "text/plain": [
       "<IPython.core.display.Markdown object>"
      ]
     },
     "metadata": {},
     "output_type": "display_data"
    },
    {
     "data": {
      "text/markdown": [
       "\n",
       "|||\n",
       "|---:|:---|\n",
       "| [![arXiv](https://img.shields.io/badge/arXiv-arXiv:2208.10883-b31b1b.svg)](https://arxiv.org/abs/arXiv:2208.10883) | **Explosion Imminent: the appearance of Red Supergiants at the point of  core-collapse**  |\n",
       "|| <mark>Ben Davies</mark>, Bertrand Plez, Mike Petrault |\n",
       "|*Appeared on*| *2022-08-24*|\n",
       "|*Comments*| *8 pages, 7 figures. Accepted for publication in MNRAS*|\n",
       "|**Abstract**| From the early radiation of type II-P supernovae (SNe), it has been claimed that the majority of their red supergiant (RSG) progenitors are enshrouded by large amounts of circumstellar material (CSM) at the point of explosion. The inferred density of this CSM is orders of magnitude above that seen around RSGs in the field, and is therefore indicative of a short phase of elevated mass-loss prior to explosion. It is not known over what timescale this material gets there: is it formed over several decades by a `superwind' with mass-loss rate $\\dot{M} \\sim10^{-3}\\,{\\rm M_\\odot\\,yr^{-1}}$; or is it formed in less than a year by a brief `outburst' with $\\dot{M}\\sim10^{-1}\\,{\\rm M_\\odot\\,yr^{-1}}$? In this paper, we simulate spectra for RSGs undergoing such mass-loss events, and demonstrate that in either scenario the CSM suppresses the optical flux by over a factor of 100, and that of the near-IR by a factor of 10. We argue that the `superwind' model can be excluded as it causes the progenitor to be heavily obscured for decades before explosion, and is strongly at odds with observations of II-P progenitors taken within 10 years of core-collapse. Instead, our results favour abrupt outbursts $<$1 year before explosion as the explanation for the early optical radiation of II-P SNe. We therefore predict that RSGs will undergo dramatic photometric variability in the optical and infrared in the weeks-to-months before core-collapse. |\n",
       "|<p style=\"color:green\"> **ERROR** </p>| <p style=\"color:green\">affiliation error: mpia.affiliation_verifications: 'Heidelberg' keyword not found.</p> |"
      ],
      "text/plain": [
       "<IPython.core.display.Markdown object>"
      ]
     },
     "metadata": {},
     "output_type": "display_data"
    },
    {
     "data": {
      "text/markdown": [
       "\n",
       "|||\n",
       "|---:|:---|\n",
       "| [![arXiv](https://img.shields.io/badge/arXiv-arXiv:2208.10935-b31b1b.svg)](https://arxiv.org/abs/arXiv:2208.10935) | **SOFIA/HAWC+ observations of the Crab Nebula: dust properties from  polarised emission**  |\n",
       "|| Jérémy Chastenet, et al. -- incl., <mark>Brandon S. Hensley</mark> |\n",
       "|*Appeared on*| *2022-08-24*|\n",
       "|*Comments*| *Accepted for publication in MNRAS. 16 pages, 8 figures + 2 Appendices, 2 figures*|\n",
       "|**Abstract**| Supernova remnants (SNRs) are well-recognised dust producers, but their net dust production rate remains elusive due to uncertainties in grain properties that propagate into observed dust mass uncertainties, and determine how efficiently these grains are processed by reverse shocks. In this paper, we present a detection of polarised dust emission in the Crab pulsar wind nebula, the second SNR with confirmed polarised dust emission after Cassiopeia A. We constrain the bulk composition of the dust with new SOFIA/HAWC+ polarimetric data in band C 89 um and band D 154 um. After correcting for synchrotron polarisation, we report dust polarisation fractions ranging between 3.7-9.6 per cent and 2.7-7.6 per cent in three individual dusty filaments at 89 and 154 um, respectively. The detected polarised signal suggests the presence of large (> 0.05-0.1 um) grains in the Crab Nebula. With the observed polarisation, and polarised and total fluxes, we constrain the temperatures and masses of carbonaceous and silicate grains. We find that the carbon-rich grain mass fraction varies between 12 and 70 per cent, demonstrating that carbonaceous and silicate grains co-exist in this SNR. Temperatures range from 40 K to 70 K and from 30 K to 50 K for carbonaceous and silicate grains, respectively. Dust masses range from 10^{-4} Msol to 10^{-2} Msol for carbonaceous grains and to 10^{-1} Msol for silicate grains, in three individual regions. |\n",
       "|<p style=\"color:green\"> **ERROR** </p>| <p style=\"color:green\">affiliation error: mpia.affiliation_verifications: 'Heidelberg' keyword not found.</p> |"
      ],
      "text/plain": [
       "<IPython.core.display.Markdown object>"
      ]
     },
     "metadata": {},
     "output_type": "display_data"
    },
    {
     "data": {
      "text/markdown": [
       "\n",
       "|||\n",
       "|---:|:---|\n",
       "| [![arXiv](https://img.shields.io/badge/arXiv-arXiv:2208.11013-b31b1b.svg)](https://arxiv.org/abs/arXiv:2208.11013) | **IRIS burst properties in active regions**  |\n",
       "|| C. J. Nelson, <mark>L. Kleint</mark> |\n",
       "|*Appeared on*| *2022-08-24*|\n",
       "|*Comments*| *12 pages, 7 figures, accepted by A&A*|\n",
       "|**Abstract**| Interface Region Imaging Spectrograph (IRIS) bursts are localised features thought to be driven by magnetic reconnection. Although these events are well-studied, it remains unknown whether their properties vary as their host active regions (ARs) evolve. Here, we aim to understand whether the measurable properties of IRIS bursts are consistent during the evolution of their host ARs. We study 42 dense 400-step rasters sampled by IRIS. These rasters each covered one of seven ARs, with each AR being sampled at least four times over a minimum of 48 hours. An automated detection algorithm is used to identify IRIS burst profiles. Data from the Solar Dynamics Observatory's Helioseismic and Magnetic Imager are also used to provide context about the co-spatial line-of-sight magnetic field. Of the rasters studied, 36 were found to contain IRIS burst profiles. Five ARs (11850, 11909, 11916, 12104, and 12139) contained IRIS burst profiles in each raster that sampled them whilst one AR (11871) was found to contain no such spectra at any time. A total of 4019 IRIS burst profiles belonging to 752 connected objects, which we define as parent IRIS bursts, were identified. IRIS burst profiles were only detected within compact regions in each raster, with these regions appearing to increase in size as the host ARs aged. No systematic changes in the frequency of IRIS burst profiles or the spectral characteristic of IRIS burst profiles through time were found for these ARs. Finally, 93 % of parent IRIS bursts with areas between 1 arcsec^2 and 4 arcsec^2 occurred co-spatial to bi-poles in the photosphere. Overall, IRIS bursts have remarkably consistent spectral and spatial properties throughout the evolution of ARs. These events predominantly form within the cores of larger and more complex ARs, with the regions containing these events appearing to increase in size as the host region itself evolves. |\n",
       "|<p style=\"color:green\"> **ERROR** </p>| <p style=\"color:green\">affiliation error: mpia.affiliation_verifications: 'Heidelberg' keyword not found.</p> |"
      ],
      "text/plain": [
       "<IPython.core.display.Markdown object>"
      ]
     },
     "metadata": {},
     "output_type": "display_data"
    },
    {
     "data": {
      "text/markdown": [
       "\n",
       "|||\n",
       "|---:|:---|\n",
       "| [![arXiv](https://img.shields.io/badge/arXiv-arXiv:2208.11063-b31b1b.svg)](https://arxiv.org/abs/arXiv:2208.11063) | **Towards 21-cm Intensity Mapping at $z=2.28$ with uGMRT using the Tapered  Gridded Estimator I: Foreground Avoidance**  |\n",
       "|| Srijita Pal, et al. -- incl., <mark>Abhik Ghosh</mark> |\n",
       "|*Appeared on*| *2022-08-24*|\n",
       "|*Comments*| *13 pages, 11 figures, accepted for publication in MNRAS*|\n",
       "|**Abstract**| The post-reionization $(z \\le 6)$ neutral hydrogen (HI) 21-cm intensity mapping signal holds the potential to probe the large scale structures, study the expansion history and constrain various cosmological parameters. Here we apply the Tapered Gridded Estimator (TGE) to estimate $P(k_{\\perp},k_{\\parallel})$ the power spectrum of the $z = 2.28$ $(432.8\\, {\\rm MHz})$ redshifted 21-cm signal using a $24.4\\,{\\rm MHz}$ sub-band drawn from uGMRT Band 3 observations of European Large-Area ISO Survey-North 1 (ELAIS-N1). The TGE allows us to taper the sky response which suppresses the foreground contribution from sources in the periphery of the telescope's field of view. We apply the TGE on the measured visibility data to estimate the multi-frequency angular power spectrum (MAPS) $C_{\\ell}(\\Delta\\nu)$ from which we determine $P(k_{\\perp},k_{\\parallel})$ using maximum-likelihood which naturally overcomes the issue of missing frequency channels (55 \\% here). The entire methodology is validated using simulations. For the data, using the foreground avoidance technique, we obtain a $2\\,\\sigma$ upper limit of $\\Delta^2(k) \\le (133.97)^2 \\, {\\rm mK}^{2}$ for the 21-cm brightness temperature fluctuation at $k = 0.347 \\, \\textrm{Mpc}^{-1}$. This corresponds to $[\\Omega_{\\rm HI}b_{\\rm HI}] \\le 0.23$, where $\\Omega_{\\rm HI}$ and $b_{\\rm HI}$ respectively denote the cosmic \\HI mass density and the \\HI bias parameter. A previous work has analyzed $8 \\, {\\rm MHz}$ of the same data at $z=2.19$, and reported $\\Delta^{2}(k) \\le (61.49)^{2} \\, {\\rm mK}^{2}$ and $[\\Omega_{\\rm HI} b_{\\rm HI}] \\le 0.11$ at $k=1 \\, {\\rm Mpc}^{-1}$. The upper limits presented here are still orders of magnitude larger than the expected signal corresponding to $\\Omega_{\\rm HI} \\sim 10^{-3}$ and $b_{\\rm HI} \\sim 2 $. |\n",
       "|<p style=\"color:green\"> **ERROR** </p>| <p style=\"color:green\">affiliation error: mpia.affiliation_verifications: 'Heidelberg' keyword not found.</p> |"
      ],
      "text/plain": [
       "<IPython.core.display.Markdown object>"
      ]
     },
     "metadata": {},
     "output_type": "display_data"
    },
    {
     "data": {
      "text/markdown": [
       "\n",
       "|||\n",
       "|---:|:---|\n",
       "| [![arXiv](https://img.shields.io/badge/arXiv-arXiv:2208.11068-b31b1b.svg)](https://arxiv.org/abs/arXiv:2208.11068) | **Nearby galaxies in the LOFAR Two-metre Sky Survey II. The magnetic  field-gas relation**  |\n",
       "|| <mark>V. Heesen</mark>, et al. |\n",
       "|*Appeared on*| *2022-08-24*|\n",
       "|*Comments*| *Accepted to Astronomy and Astrophysics. 13 pages plus appendix including atlas of magnetic fields*|\n",
       "|**Abstract**| Context. Magnetic fields are key to understand galaxy evolution, regulating stellar feedback and star formation in galaxies. Aims. We probe the origin of magnetic fields in late-type galaxies, measuring magnetic field strengths, exploring whether magnetic fields are only passive constituents of the interstellar medium, or whether they are active constituents being part of the local energy equilibrium. Methods. We measure equipartition magnetic field strengths in 39 galaxies from LoTSS-DR2 using LOFAR observations at 144 MHz with 6 arcsec angular resolution which (0.1-0.7 kpc). For a subset of 9 galaxies, we obtain atomic and molecular mass surface densities using HI and CO(2-1) data, from the THINGS and HERACLES surveys, respectively. These data are at 13 arcsec angular resolution, which corresponds to 0.3-1.2 kpc at the distances of our galaxies. We measure kinetic energy densities using HI and CO velocity dispersions. Results. We found a mean magnetic field strength of 3.6-12.5 $\\mu$G with a mean of $7.9 \\pm 2.0$ $\\mu$G across the full sample. The magnetic field strength has the tightest and steepest relation with the total gas surface density with $B\\propto \\Sigma_{\\rm HI+H2}^{0.309\\pm0.006}$. The relation with the star-formation rate surface density and molecular gas surface density has significantly flatter slopes. After accounting for the influence of cosmic-ray transport, we found an even steeper relation of $B\\propto \\Sigma_{\\rm HI+H2}^{0.393\\pm0.009}$. Conclusions. These results suggest that the magnetic field is regulated by a $B$-$\\rho$ relation, which has its origin in the saturation of the small-scale dynamo. This is borne out by an agreement of kinetic and magnetic energy densities although local deviations do exist in particular in areas of high kinetic energy densities where the magnetic field is sub-dominant. |\n",
       "|<p style=\"color:green\"> **ERROR** </p>| <p style=\"color:green\">affiliation error: mpia.affiliation_verifications: 'Heidelberg' keyword not found.</p> |"
      ],
      "text/plain": [
       "<IPython.core.display.Markdown object>"
      ]
     },
     "metadata": {},
     "output_type": "display_data"
    },
    {
     "data": {
      "text/markdown": [
       "\n",
       "|||\n",
       "|---:|:---|\n",
       "| [![arXiv](https://img.shields.io/badge/arXiv-arXiv:2208.10845-b31b1b.svg)](https://arxiv.org/abs/arXiv:2208.10845) | **Locating dust and molecules in the inner circumstellar environment of  R~Sculptoris with MATISSE**  |\n",
       "|| Julien Drevon, et al. -- incl., <mark>M. Heininger</mark>, <mark>Thomas Henning</mark>, <mark>Jacob W. Isbell</mark>, <mark>Walter Jaffe</mark>, <mark>Michael Lehmitz</mark>, <mark>Roy van Boekel</mark> |\n",
       "|*Appeared on*| *2022-08-24*|\n",
       "|*Comments*| *19 pages, published in A&A*|\n",
       "|**Abstract**| AGB stars are one of the main sources of dust production in the Galaxy. However, it is not clear what this process looks like and where the dust is condensing in the circumstellar environment. By characterizing the location of the dust and the molecules in the close environment of an AGB star, we aim to achieve a better understanding the history of the dust formation process. We observed the carbon star R Scl with the VLTI-MATISSE instrument in L- and N-bands. The high angular resolution of the VLTI observations, combined with a large uv-plane coverage allowed us to use image reconstruction methods. To constrain the dust and molecules' location, we used two different methods: MIRA image reconstruction and the 1D code RHAPSODY. We found evidence of C2H2 and HCN molecules between 1 and 3.4 Rstar which is much closer to the star than the location of the dust (between 3.8 and 17.0 Rstar). We also estimated a mass-loss rate of 1.2+-0.4x10-6 Msun per yr. In the meantime, we confirmed the previously published characteristics of a thin dust shell, composed of amorphous carbon (amC) and silicon carbide (SiC). However, no clear SiC feature has been detected in the MATISSE visibilities. This might be caused by molecular absorption that can affect the shape of the SiC band at 11.3 micron. The appearance of the molecular shells is in good agreement with predictions from dynamical atmosphere models. For the first time, we co-located dust and molecules in the environment of an AGB star. We confirm that the molecules are located closer to the star than the dust. The MIRA images unveil the presence of a clumpy environment in the fuzzy emission region beyond 4.0 Rstar. Furthermore, with the available dynamic range and angular resolution, we did not detect the presence of a binary companion. Additional observations combining MATISSE and SAM-VISIR instrument should enable this detection in future studies. |\n",
       "|<p style=\"color:red\"> **ERROR** </p>| <p style=\"color:red\">latex error Could not find figure 3D_spectra_geometrical_model_LM.png</p> |"
      ],
      "text/plain": [
       "<IPython.core.display.Markdown object>"
      ]
     },
     "metadata": {},
     "output_type": "display_data"
    },
    {
     "data": {
      "text/markdown": [
       "\n",
       "|||\n",
       "|---:|:---|\n",
       "| [![arXiv](https://img.shields.io/badge/arXiv-arXiv:2208.10503-b31b1b.svg)](https://arxiv.org/abs/arXiv:2208.10503) | **Euclid: Calibrating photometric redshifts with spectroscopic  cross-correlations**  |\n",
       "|| K. Naidoo, et al. -- incl., <mark>E. Franceschi</mark>, <mark>K. Jahnke</mark> |\n",
       "|*Appeared on*| *2022-08-24*|\n",
       "|*Comments*| *14 pages, 8 figures, submitted to A&A*|\n",
       "|**Abstract**| Cosmological constraints from key probes of the Euclid imaging survey rely critically on the accurate determination of the true redshift distributions $n(z)$ of tomographic redshift bins. We determine whether the mean redshift $<z>$ of ten Euclid tomographic redshift bins can be calibrated to the Euclid target uncertainties of $\\sigma(<z>)<0.002\\,(1+z)$ via cross-correlation, with spectroscopic samples akin to those from the Baryon Oscillation Spectroscopic Survey (BOSS), Dark Energy Spectroscopic Instrument (DESI), and Euclid's NISP spectroscopic survey. We construct mock Euclid and spectroscopic galaxy samples from the Flagship simulation and measure small-scale clustering redshifts up to redshift $z<1.8$ with an algorithm that performs well on current galaxy survey data. The clustering measurements are then fitted to two $n(z)$ models: one is the true $n(z)$ with a free mean; the other a Gaussian Process modified to be restricted to non-negative values. We show that $<z>$ is measured in each tomographic redshift bin to an accuracy of order 0.01 or better. By measuring the clustering redshifts on subsets of the full Flagship area, we construct scaling relations that allow us to extrapolate the method performance to larger sky areas than are currently available in the mock. For the full expected Euclid, BOSS, and DESI overlap region of approximately 6000 deg$^{2}$, the uncertainties attainable by clustering redshifts exceeds the Euclid requirement by at least a factor of three for both $n(z)$ models considered, although systematic biases limit the accuracy. Clustering redshifts are an extremely effective method for redshift calibration for Euclid if the sources of systematic biases can be determined and removed, or calibrated-out with sufficiently realistic simulations. We outline possible future work, in particular an extension to higher redshifts with quasar reference samples. |\n",
       "|<p style=\"color:red\"> **ERROR** </p>| <p style=\"color:red\">latex error Could not find figure plots/suppressed_GP_example.pdf</p> |"
      ],
      "text/plain": [
       "<IPython.core.display.Markdown object>"
      ]
     },
     "metadata": {},
     "output_type": "display_data"
    },
    {
     "data": {
      "text/markdown": [
       "\n",
       "|||\n",
       "|---:|:---|\n",
       "| [![arXiv](https://img.shields.io/badge/arXiv-arXiv:2208.10997-b31b1b.svg)](https://arxiv.org/abs/arXiv:2208.10997) | **Reconstructing the lost eclipse events of the Saros spiral applying the  Draconic gearing on the Antikythera Mechanism. The impact of the gearing  errors on the pointers position**  |\n",
       "|| Aristeidis Voulgaris, Christophoros Mouratidis, <mark>Andreas Vossinakis</mark> |\n",
       "|*Appeared on*| *2022-08-24*|\n",
       "|*Comments*| *Manuscript (26 pages and 13 figures) and Supplementary material (36 pages and 92 figures)*|\n",
       "|**Abstract**| We present new observations concerning the procedure for the reconstruction of the lost eclipse events engraved in the Saros spiral cells of the Antikythera Mechanism. For the reconstructed eclipse events we applied the assumed, albeit missing, Draconic gearing of the Antikythera Mechanism, which was probably a part of the Mechanism gearing, representing the fourth lunar motion, the Draconic cycle. The Draconic gearing is very critical for the eclipse prediction and defines whether an eclipse will occur. For our research we created a program which presents the phase of the four lunar cycles and the position of the Draconic pointer relative to the ecliptic limits. After calibrating the software according to the preserved eclipse events, the lost eclipse events of the Saros spiral were calculated and discussed. The procedure for the calculation of the events times by using solely the Mechanism is also presented. The eccentricity error of a gear which is preserved on the ancient prototype is discussed. An experimental setup facilitated the analysis of the mechanical characteristics of gears with triangular teeth and the errors. The experimental study of the gears errors revealed the strong impact the Antikythera Mechanism pointers have on the results. |\n",
       "|<p style=\"color:red\"> **ERROR** </p>| <p style=\"color:red\">latex error not a gzip file</p> |"
      ],
      "text/plain": [
       "<IPython.core.display.Markdown object>"
      ]
     },
     "metadata": {},
     "output_type": "display_data"
    }
   ],
   "source": [
    "import datetime\n",
    "today = str(datetime.date.today())\n",
    "logfile = f\"_build/html/logs/log-{today}.md\"\n",
    "\n",
    "\n",
    "with open(logfile, 'w') as logs:\n",
    "    # Success\n",
    "    logs.write(f'# Arxiv on Deck 2: Logs - {today}\\n\\n')\n",
    "    logs.write(\"\"\"* Arxiv had {0:,d} new papers\\n\"\"\".format(len(new_papers)))\n",
    "    logs.write(\"\"\"    * {0:,d} with possible author matches\\n\\n\"\"\".format(len(candidates)))\n",
    "    logs.write(\"## Sucessful papers\\n\\n\")\n",
    "    display(Markdown(\"## Successful papers\"))\n",
    "    success = [k[0] for k in documents]\n",
    "    for candid in candidates:\n",
    "        if candid['identifier'].split(':')[-1] in success:\n",
    "            display(candid)\n",
    "            logs.write(candid.generate_markdown_text() + '\\n\\n')\n",
    "\n",
    "    ## failed\n",
    "    logs.write(\"## Failed papers\\n\\n\")\n",
    "    display(Markdown(\"## Failed papers\"))\n",
    "    failed = sorted(failed, key=lambda x: x[1])\n",
    "    current_reason = \"\"\n",
    "    for paper, reason in failed:\n",
    "        if 'affiliation' in reason:\n",
    "            color = 'green'\n",
    "        else:\n",
    "            color = 'red'\n",
    "        data = Markdown(\n",
    "                paper.generate_markdown_text() + \n",
    "                f'\\n|<p style=\"color:{color:s}\"> **ERROR** </p>| <p style=\"color:{color:s}\">{reason:s}</p> |'\n",
    "               )\n",
    "        if reason != current_reason:\n",
    "            logs.write(f'### {reason:s} \\n\\n')\n",
    "            current_reason = reason\n",
    "        logs.write(data.data + '\\n\\n')\n",
    "        \n",
    "        # only display here the important errors (all in logs)\n",
    "        # if color in ('red',):\n",
    "        display(data)"
   ]
  },
  {
   "cell_type": "markdown",
   "id": "472d20ee",
   "metadata": {
    "papermill": {
     "duration": 0.00974,
     "end_time": "2022-08-24T07:10:37.462377",
     "exception": false,
     "start_time": "2022-08-24T07:10:37.452637",
     "status": "completed"
    },
    "tags": []
   },
   "source": [
    "## Export documents\n",
    "\n",
    "We now write the .md files and export relevant images"
   ]
  },
  {
   "cell_type": "code",
   "execution_count": 7,
   "id": "d426aed9",
   "metadata": {
    "execution": {
     "iopub.execute_input": "2022-08-24T07:10:37.484127Z",
     "iopub.status.busy": "2022-08-24T07:10:37.483448Z",
     "iopub.status.idle": "2022-08-24T07:10:37.493782Z",
     "shell.execute_reply": "2022-08-24T07:10:37.493043Z"
    },
    "papermill": {
     "duration": 0.022922,
     "end_time": "2022-08-24T07:10:37.495280",
     "exception": false,
     "start_time": "2022-08-24T07:10:37.472358",
     "status": "completed"
    },
    "tags": []
   },
   "outputs": [],
   "source": [
    "def export_markdown_summary(md: str, md_fname:str, directory: str):\n",
    "    \"\"\"Export MD document and associated relevant images\"\"\"\n",
    "    import os\n",
    "    import shutil\n",
    "    import re\n",
    "\n",
    "    if (os.path.exists(directory) and not os.path.isdir(directory)):\n",
    "        raise RuntimeError(f\"a non-directory file exists with name {directory:s}\")\n",
    "\n",
    "    if (not os.path.exists(directory)):\n",
    "        print(f\"creating directory {directory:s}\")\n",
    "        os.mkdir(directory)\n",
    "\n",
    "    fig_fnames = (re.compile(r'\\[Fig.*\\]\\((.*)\\)').findall(md) + \n",
    "                  re.compile(r'\\<img src=\"([^>\\s]*)\"[^>]*/>').findall(md))\n",
    "    for fname in fig_fnames:\n",
    "        if 'http' in fname:\n",
    "            # No need to copy online figures\n",
    "            continue\n",
    "        destdir = os.path.join(directory, os.path.dirname(fname))\n",
    "        destfname = os.path.join(destdir, os.path.basename(fname))\n",
    "        try:\n",
    "            os.makedirs(destdir)\n",
    "        except FileExistsError:\n",
    "            pass\n",
    "        shutil.copy(fname, destfname)\n",
    "    with open(os.path.join(directory, md_fname), 'w') as fout:\n",
    "        fout.write(md)\n",
    "    print(\"exported in \", os.path.join(directory, md_fname))\n",
    "    [print(\"    + \" + os.path.join(directory,fk)) for fk in fig_fnames]"
   ]
  },
  {
   "cell_type": "code",
   "execution_count": 8,
   "id": "014d04a4",
   "metadata": {
    "execution": {
     "iopub.execute_input": "2022-08-24T07:10:37.517239Z",
     "iopub.status.busy": "2022-08-24T07:10:37.516352Z",
     "iopub.status.idle": "2022-08-24T07:10:37.528917Z",
     "shell.execute_reply": "2022-08-24T07:10:37.528183Z"
    },
    "papermill": {
     "duration": 0.025215,
     "end_time": "2022-08-24T07:10:37.530450",
     "exception": false,
     "start_time": "2022-08-24T07:10:37.505235",
     "status": "completed"
    },
    "tags": []
   },
   "outputs": [
    {
     "name": "stdout",
     "output_type": "stream",
     "text": [
      "exported in  _build/html/2208.10528.md\n",
      "    + _build/html/tmp_2208.10528/./cooling_rates_grackle_vs_SG.png\n",
      "exported in  _build/html/2208.10726.md\n",
      "    + _build/html/tmp_2208.10726/./fig-01.png\n",
      "    + _build/html/tmp_2208.10726/./fig-10.png\n",
      "    + _build/html/tmp_2208.10726/./fig-12a.png\n",
      "    + _build/html/tmp_2208.10726/./fig-12b.png\n",
      "exported in  _build/html/2208.10854.md\n",
      "    + _build/html/tmp_2208.10854/./Figures/tess_individual.png\n",
      "    + _build/html/tmp_2208.10854/./Figures/RV.png\n",
      "    + _build/html/tmp_2208.10854/./Figures/TOI4562_AO_Gemini.png\n",
      "    + _build/html/tmp_2208.10854/./Figures/TOI_4562_SOAR_speckle.png\n"
     ]
    }
   ],
   "source": [
    "for paper_id, md in documents:\n",
    "    export_markdown_summary(md, f\"{paper_id:s}.md\", '_build/html/')"
   ]
  },
  {
   "cell_type": "markdown",
   "id": "f087a0a7",
   "metadata": {
    "papermill": {
     "duration": 0.009686,
     "end_time": "2022-08-24T07:10:37.549988",
     "exception": false,
     "start_time": "2022-08-24T07:10:37.540302",
     "status": "completed"
    },
    "tags": []
   },
   "source": [
    "## Display the papers\n",
    "\n",
    "Not necessary but allows for a quick check."
   ]
  },
  {
   "cell_type": "code",
   "execution_count": 9,
   "id": "fd25f625",
   "metadata": {
    "execution": {
     "iopub.execute_input": "2022-08-24T07:10:37.571262Z",
     "iopub.status.busy": "2022-08-24T07:10:37.570705Z",
     "iopub.status.idle": "2022-08-24T07:10:37.582793Z",
     "shell.execute_reply": "2022-08-24T07:10:37.582040Z"
    },
    "papermill": {
     "duration": 0.024568,
     "end_time": "2022-08-24T07:10:37.584184",
     "exception": false,
     "start_time": "2022-08-24T07:10:37.559616",
     "status": "completed"
    },
    "scrolled": false,
    "tags": []
   },
   "outputs": [
    {
     "data": {
      "text/markdown": [
       "<div class=\"macros\" style=\"visibility:hidden;\">\n",
       "$\\newcommand{\\ensuremath}{}$\n",
       "$\\newcommand{\\xspace}{}$\n",
       "$\\newcommand{\\object}[1]{\\texttt{#1}}$\n",
       "$\\newcommand{\\farcs}{{.}''}$\n",
       "$\\newcommand{\\farcm}{{.}'}$\n",
       "$\\newcommand{\\arcsec}{''}$\n",
       "$\\newcommand{\\arcmin}{'}$\n",
       "$\\newcommand{\\ion}[2]{#1#2}$\n",
       "$\\newcommand{\\textsc}[1]{\\textrm{#1}}$\n",
       "$\\newcommand{\\hl}[1]{\\textrm{#1}}$\n",
       "$\\newcommand{\\vdag}{(v)^\\dagger}$\n",
       "$\\newcommand$\n",
       "$\\newcommand$\n",
       "$\\newcommand{\\m}[1]{\\underline{\\underline{#1}}}$\n",
       "$\\newcommand{\\wt}{\\widetilde}$\n",
       "$\\newcommand{\\cntext}[1]{\\begin{CJK}{UTF8}{bsmi}#1\\end{CJK}}$\n",
       "$\\newcommand{\\ol}{\\overline}$</div>\n",
       "\n",
       "<div class=\"macros\" style=\"visibility:hidden;\">\n",
       "$\\newcommand{$\\ensuremath$}{}$\n",
       "$\\newcommand{$\\xspace$}{}$\n",
       "$\\newcommand{$\\object$}[1]{\\texttt{#1}}$\n",
       "$\\newcommand{$\\farcs$}{{.}''}$\n",
       "$\\newcommand{$\\farcm$}{{.}'}$\n",
       "$\\newcommand{$\\arcsec$}{''}$\n",
       "$\\newcommand{$\\arcmin$}{'}$\n",
       "$\\newcommand{$\\ion$}[2]{#1#2}$\n",
       "$\\newcommand{$\\textsc$}[1]{\\textrm{#1}}$\n",
       "$\\newcommand{$\\hl$}[1]{\\textrm{#1}}$\n",
       "$\\newcommand{$\\vdag$}{(v)^\\dagger}$\n",
       "$\\newcommand$\n",
       "$\\newcommand$\n",
       "$\\newcommand{$\\m$}[1]{\\underline{\\underline{#1}}}$\n",
       "$\\newcommand{$\\wt$}{\\widetilde}$\n",
       "$\\newcommand{$\\cntext$}[1]{\\begin{CJK}{UTF8}{bsmi}#1\\end{CJK}}$\n",
       "$\\newcommand{$\\ol$}{\\overline}$</div>\n",
       "\n",
       "\n",
       "\n",
       "<div id=\"title\">\n",
       "\n",
       "# \n",
       "\n",
       "</div>\n",
       "<div id=\"comments\">\n",
       "\n",
       "[![arXiv](https://img.shields.io/badge/arXiv-2208.10528-b31b1b.svg)](https://arxiv.org/abs/2208.10528)<mark>Appeared on: 2022-08-24</mark> - _submitted; comments welcome_\n",
       "\n",
       "</div>\n",
       "<div id=\"authors\">\n",
       "\n",
       "Chia-Yu Hu ($\\cntext${胡家瑜}), et al. -- incl., <mark>Matthew C. Smith</mark>\n",
       "\n",
       "</div>\n",
       "<div id=\"abstract\">\n",
       "\n",
       "**Abstract:** We present a suite of high-resolution simulations of an isolated dwarf galaxy usingfour different hydrodynamical codes:{\\sc Gizmo},{\\sc Arepo},{\\sc Gadget}, and{\\sc Ramses}.All codes adopt the same physical modelwhichincludes radiative cooling,photoelectric heating,star formation,and supernova (SN) feedback.Individual SN explosions are directly resolved without resorting to sub-grid models,eliminating one of the major uncertainties in cosmological simulations.We findreasonable agreement onthe time-averaged star formation ratesas well as the joint density-temperature distributionsbetween all codes.However,the Lagrangian codes show significantly burstier star formation,larger supernova-driven bubbles,and stronger galactic outflowscompared to the Eulerian code.This is caused by the behavior in the dense, collapsing gas cloudswhen the Jeans length becomes unresolved:gas in Lagrangian codescollapses to much higher densitiesthan in Eulerian codes,as the latter is stabilized by the minimal cell size.Therefore,more of the gas cloud is converted to stars andSNe are much more clustered in the Lagrangian models,amplifying their dynamical impact.The differences between Lagrangian and Eulerian codescan be reducedby adopting a higher star formation efficiency in Eulerian codes,which significantly enhances SN clustering in the latter.Adopting a zero SN delay timereduces burstiness in all codes, resulting in vanishing outflowsas SN clustering is suppressed.\n",
       "\n",
       "</div>\n",
       "\n",
       "<div id=\"div_fig1\">\n",
       "\n",
       "<img src=\"tmp_2208.10528/./cooling_rates_grackle_vs_SG.png\" alt=\"Fig1\" width=\"100%\"/>\n",
       "\n",
       "**Figure 1. -** \\textit{Upper left}:\n",
       "\t\tequilibrium temperature as a function of density for the {\\sc Grackle} equilibrium module (dotted green),\n",
       "\t\t{\\sc SGchem}(see text) with cosmic rate ionization rate $\\zeta = 10^{-16} {\\rm s^{-1}}$(solid blue),\n",
       "\t\tand {\\sc SGchem} with $\\zeta = 0$(dashed orange).\n",
       "\t\t\\textit{Upper right}:\n",
       "\t\tphotoelectric efficiency ($\\epsilon_{\\rm PE}$, blue) and electron abundance ($x_{\\rm e}$, orange) as a function of density\n",
       "\t\tfor {\\sc SGchem} with $\\zeta = 10^{-16} {\\rm s^{-1}}$(solid) and $\\zeta = 0$(dashed).\n",
       "\t\t\\textit{Lower left}:\n",
       "\t\tindividual cooling and heating processes as a function of density in {\\sc SGchem} with $\\zeta = 10^{-16} {\\rm s^{-1}}$.\n",
       "\t\t\\textit{Lower right}:\n",
       "\t\tsame as lower left, but with $\\zeta = 0$.\n",
       "\t\tAdopting a constant $\\epsilon_{\\rm PE}$ is a fair approximation\n",
       "\t\tof the more realistic situation where both photoelectric effect and cosmic ray ionization are present.\n",
       "\t (*fig:cooling_gr_vs_SG*)\n",
       "\n",
       "</div>"
      ],
      "text/plain": [
       "<IPython.core.display.Markdown object>"
      ]
     },
     "metadata": {},
     "output_type": "display_data"
    },
    {
     "data": {
      "text/markdown": [
       "<div class=\"macros\" style=\"visibility:hidden;\">\n",
       "$\\newcommand{\\ensuremath}{}$\n",
       "$\\newcommand{\\xspace}{}$\n",
       "$\\newcommand{\\object}[1]{\\texttt{#1}}$\n",
       "$\\newcommand{\\farcs}{{.}''}$\n",
       "$\\newcommand{\\farcm}{{.}'}$\n",
       "$\\newcommand{\\arcsec}{''}$\n",
       "$\\newcommand{\\arcmin}{'}$\n",
       "$\\newcommand{\\ion}[2]{#1#2}$\n",
       "$\\newcommand{\\textsc}[1]{\\textrm{#1}}$\n",
       "$\\newcommand{\\hl}[1]{\\textrm{#1}}$\n",
       "$\\newcommand{\\ic}{\\color{red}}$\n",
       "$\\newcommand{\\cf}{\\color{blue}}$\n",
       "$\\newcommand{\\bvc}[1]{\\textbf{\\color{green}#1}}$\n",
       "$\\newcommand{\\thebibliography}{\\DeclareRobustCommand{\\VAN}[3]{##3}\\VANthebibliography}$</div>\n",
       "\n",
       "<div class=\"macros\" style=\"visibility:hidden;\">\n",
       "$\\newcommand{$\\ensuremath$}{}$\n",
       "$\\newcommand{$\\xspace$}{}$\n",
       "$\\newcommand{$\\object$}[1]{\\texttt{#1}}$\n",
       "$\\newcommand{$\\farcs$}{{.}''}$\n",
       "$\\newcommand{$\\farcm$}{{.}'}$\n",
       "$\\newcommand{$\\arcsec$}{''}$\n",
       "$\\newcommand{$\\arcmin$}{'}$\n",
       "$\\newcommand{$\\ion$}[2]{#1#2}$\n",
       "$\\newcommand{$\\textsc$}[1]{\\textrm{#1}}$\n",
       "$\\newcommand{$\\hl$}[1]{\\textrm{#1}}$\n",
       "$\\newcommand{$\\ic$}{\\color{red}}$\n",
       "$\\newcommand{$\\cf$}{\\color{blue}}$\n",
       "$\\newcommand{$\\bvc$}[1]{\\textbf{\\color{green}#1}}$\n",
       "$\\newcommand{$\\thebibliography$}{\\DeclareRobustCommand{\\VAN}[3]{##3}\\VANthebibliography}$</div>\n",
       "\n",
       "\n",
       "\n",
       "<div id=\"title\">\n",
       "\n",
       "# Truncated accretion discs in black hole X-ray binaries: dynamics and variability signatures\n",
       "\n",
       "</div>\n",
       "<div id=\"comments\">\n",
       "\n",
       "[![arXiv](https://img.shields.io/badge/arXiv-2208.10726-b31b1b.svg)](https://arxiv.org/abs/2208.10726)<mark>Appeared on: 2022-08-24</mark> - _19 pages, 25 figures_\n",
       "\n",
       "</div>\n",
       "<div id=\"authors\">\n",
       "\n",
       "Indu K. Dihingia, Bhargav Vaidya, <mark><mark>Christian Fendt</mark></mark>\n",
       "\n",
       "</div>\n",
       "<div id=\"abstract\">\n",
       "\n",
       "**Abstract:** Variable features in black hole X-ray Binaries (BH-XRBs) are observed in different energy ranges and time scales. The physical origin of different spectral states in BH-XRBs and their relations with the underlying accretion disc are still elusive. To investigate the intermediate state of BH-XRBs during outburst, we simulate a truncated accretion disc around a Kerr black hole using a general relativistic magneto-hydrodynamical (GRMHD) framework under axisymmetry with adaptively refined mesh. Additionally, we have also carried out radiative transfer calculations for understanding the implications of disc dynamics on emission. Dynamically, the inner edge of the truncated accretion disc oscillates in a quasi-periodic fashion (QPO). The QPO frequency of oscillations$(\\nu_{\\rm QPO, max})$increases as the magnetic field strength and magnetic resistivity increase.  However, as the truncation radius increases,$\\nu_{\\rm QPO, max}$decreases. In our simulation models, frequency varies between$7\\times(10M_{\\odot}/M_{\\rm BH})$Hz$\\lesssim\\nu_{\\rm QPO, max}\\lesssim20 \\times (10M_{\\odot}/M_{\\rm BH})$Hz, which is in the range of low-frequency QPOs.We further find evidence of transient shocks in the highly accreting stage during oscillation. Such a transient shock acts as an extended hot post-shock corona around the black hole that has an impact on its radiative properties. The radiative transfer calculations show signatures of these oscillations in the form of modulation in the edge-brightened structure of the accretion disc.\n",
       "\n",
       "</div>\n",
       "\n",
       "<div id=\"div_fig1\">\n",
       "\n",
       "<img src=\"tmp_2208.10726/./fig-01.png\" alt=\"Fig12\" width=\"100%\"/>\n",
       "\n",
       "**Figure 12. -** Distribution of logarithmic normalised density distribution $(\\rho/\\rho^{\\rm tr})$ and magnetic field lines for reference model 2D40AH in ideal MHD at times (a) $t=3240$, (b) $t=3800$, (c) $t=4080$, (d) $t=4220$, and (e) $t=4380$. (*fig-rho*)\n",
       "\n",
       "</div>\n",
       "<div id=\"div_fig2\">\n",
       "\n",
       "<img src=\"tmp_2208.10726/./fig-10.png\" alt=\"Fig5\" width=\"100%\"/>\n",
       "\n",
       "**Figure 5. -** Profile of (a) radial four velocity $(u^r)$, (b) logarithmic density $(\\log(\\rho/\\rho^{\\rm tr}))$, (c) gas pressure $(p/p^{\\rm tr})$, (d) Bernoulli parameter $(-hu_t)$, and (e) Mach number ($M_s$) as a function of radial distance for model 2D40AH at time $t=4220$. The gray vertical line indicates the location of the shock transition. We show the shock transition region as an inset in panel (a). The gray horizontal dotted line in panel (e) corresponds to $M_s=1$.\n",
       "The plots are shown along a parabolic streamline $y=c x^{2.5}$. See the text for more detail. (*fig-shock*)\n",
       "\n",
       "</div>\n",
       "<div id=\"div_fig3\">\n",
       "\n",
       "<img src=\"tmp_2208.10726/./fig-12a.png\" alt=\"Fig17.1\" width=\"50%\"/><img src=\"tmp_2208.10726/./fig-12b.png\" alt=\"Fig17.2\" width=\"50%\"/>\n",
       "\n",
       "**Figure 17. -** Profiles of accretion rate $(\\dot{M}_{\\rm acc})$, mass flux through funnel $(\\dot{M}_{\\rm jet})$, mass flux through wind  $(\\dot{M}_{\\rm wind})$, and magnetic flux accumulated at the event horizon  $(\\dot{\\phi}_{\\rm BH})$ for models with different $\\beta_{\\rm tr}$ and $r_{\\rm tr}$. In panels a-d (left), plots are shown for models 2D40A, 2D40B, and 2D40C, corresponding to $\\beta_{\\rm tr}=100, 500,$ and $1000$, respectively, with $r_{\\rm tr}=40$. In panels e-h (right), plots are shown for models 2D40A, 2D50, and 2D60, corresponding to $r_{\\rm tr}=40, 50,$ and $60$, respectively, with $\\beta_{\\rm tr}=100$. The gray horizontal line in panels (d) and (h) correspond to $\\dot{\\phi}_{\\rm BH}=15$. (*fig-fluxes*)\n",
       "\n",
       "</div>"
      ],
      "text/plain": [
       "<IPython.core.display.Markdown object>"
      ]
     },
     "metadata": {},
     "output_type": "display_data"
    },
    {
     "data": {
      "text/markdown": [
       "<div class=\"macros\" style=\"visibility:hidden;\">\n",
       "$\\newcommand{\\ensuremath}{}$\n",
       "$\\newcommand{\\xspace}{}$\n",
       "$\\newcommand{\\object}[1]{\\texttt{#1}}$\n",
       "$\\newcommand{\\farcs}{{.}''}$\n",
       "$\\newcommand{\\farcm}{{.}'}$\n",
       "$\\newcommand{\\arcsec}{''}$\n",
       "$\\newcommand{\\arcmin}{'}$\n",
       "$\\newcommand{\\ion}[2]{#1#2}$\n",
       "$\\newcommand{\\textsc}[1]{\\textrm{#1}}$\n",
       "$\\newcommand{\\hl}[1]{\\textrm{#1}}$\n",
       "$\\newcommand{\\vdag}{(v)^\\dagger}$\n",
       "$\\newcommand$\n",
       "$\\newcommand$\n",
       "$\\newcommand$\n",
       "$\\newcommand{\\rev}$\n",
       "$\\newcommand{\\TESS}{\\emph{TESS}\\xspace}$\n",
       "$\\newcommand{\\toi}{TOI-4562\\xspace}$\n",
       "$\\newcommand{\\toib}{TOI-4562 b\\xspace}$\n",
       "$\\newcommand{\\tcvalue}{1456.874636^{+0.001172}_{-0.001249}}$\n",
       "$\\newcommand{\\pervalue}{225.11757^{+0.00027}_{-0.00025}}$\n",
       "$\\newcommand{\\rprstarvalue}{0.09450^{+0.00050}_{-0.00042}}$\n",
       "$\\newcommand{\\incvalue}{89.72^{+0.17}_{-0.15}}$\n",
       "$\\newcommand{\\secoswvalue}{0.37^{+0.11}_{-0.12}}$\n",
       "$\\newcommand{\\sesinwvalue}{0.808^{+0.046}_{-0.052}}$\n",
       "$\\newcommand{\\mpvalue}{0.0023 \\pm 0.0005}$\n",
       "$\\newcommand{\\mStarvalue}{1.218^{+0.054}_{-0.048}}$\n",
       "$\\newcommand{\\teffvalue}{6270 \\pm 50}$\n",
       "$\\newcommand{\\loggvalue}{4.42 \\pm 0.04}$\n",
       "$\\newcommand{\\fehvalue}{0.24 \\pm 0.10}$\n",
       "$\\newcommand{\\agevalue}{300--400}$\n",
       "$\\newcommand{\\parallaxvalue}{2.88356^{+0.0104}_{-0.0099}}$\n",
       "$\\newcommand{\\meanvalue}{5352\\pm13}$\n",
       "$\\newcommand{\\jitavalue}{73^{+15}_{-15}}$\n",
       "$\\newcommand{\\jitbvalue}{28.5^{+18.7}_{-20.9}}$\n",
       "$\\newcommand{\\ebvvalue}{<0.01  (3\\sigma)}$\n",
       "$\\newcommand{\\rStarvalue}{1.126^{+0.014}_{-0.012}}$\n",
       "$\\newcommand{\\densityStarvalue}{1.14^{+0.07}_{-0.037}}$\n",
       "$\\newcommand{\\smarStarvalue}{147.1_{-6.1}^{+6.6}}$\n",
       "$\\newcommand{\\smaAUvalue}{0.771^{+0.013}_{-0.013}}$\n",
       "$\\newcommand{\\distvalue}{346.9\\pm3.8}$\n",
       "$\\newcommand{\\kampvalue}{353^{+73}_{-88}}$\n",
       "$\\newcommand{\\mpjupvalue}{3.29^{+1.88}_{-0.82}}$\n",
       "$\\newcommand{\\mpearthvalue}{768^{+170}_{-165}}$\n",
       "$\\newcommand{\\rpjupvalue}{1.072_{-0.043}^{+0.044}}$\n",
       "$\\newcommand{\\rpearthvalue}{11.72 \\pm 0.28}$\n",
       "$\\newcommand{\\densityvalue}{2.63^{+0.58}_{-0.56}}$\n",
       "$\\newcommand{\\eccvalue}{0.81^{+0.05}_{-0.05}}$\n",
       "$\\newcommand{\\wvalue}{63 \\pm 5}$\n",
       "$\\newcommand{\\bvalue}{0.29^{+0.24}_{-0.32}}$\n",
       "$\\newcommand{\\tdepthvalue}{9066^{+225}_{-243}}$\n",
       "$\\newcommand{\\tdurvalue}{4.23\\pm{0.14}}$\n",
       "$\\newcommand{\\teqvalue}{349\\pm10}$\n",
       "$\\newcommand{\\tperivalue}{731_{-34}^{+55}}$\n",
       "$\\newcommand{\\tapovalue}{261_{-3}^{+2}}$\n",
       "$\\newcommand{\\sepvalue}{35}$\n",
       "$\\newcommand{\\teffCHIRON}{6096 \\pm 50}$\n",
       "$\\newcommand{\\loggCHIRON}{4.4 \\pm 0.1}$\n",
       "$\\newcommand{\\fehCHIRON}{0.1 \\pm 0.1}$\n",
       "$\\newcommand{\\vsiniCHIRON}{15.67 \\pm 0.5}$\n",
       "$\\newcommand{\\Protvalue}{3.82 \\pm 0.05}$\n",
       "$\\newcommand{\\incstarvalue}{89.7_{-12.7}^{+0.3}}$\n",
       "$\\newcommand$\n",
       "$\\newcommand{\\teff}{\\ensuremath{T_{\\rm eff}}}$\n",
       "$\\newcommand{\\met}{[M/H]}$\n",
       "$\\newcommand{\\vsini}{v~sin i}$\n",
       "$\\newcommand{\\kms}{ km s^{-1}}$\n",
       "$\\newcommand{\\ms}{ m s^{-1}}$\n",
       "$\\newcommand{\\radd}{ rad d^{-1}}$\n",
       "$\\newcommand{\\degree}{^{\\circ}}$\n",
       "$\\newcommand{\\masyr}{mas yr^{-1}}$\n",
       "$\\newcommand{\\Bmag}{B}$\n",
       "$\\newcommand{\\Vmag}{V}$\n",
       "$\\newcommand{\\Tmag}{T}$\n",
       "$\\newcommand{\\gaiaG}{G}$\n",
       "$\\newcommand{\\gaiaBP}{B_{\\mathrm{p}}}$\n",
       "$\\newcommand{\\gaiaRp}{R_{\\mathrm{p}}}$\n",
       "$\\newcommand{\\Jmag}{J}$\n",
       "$\\newcommand{\\Hmag}{H}$\n",
       "$\\newcommand{\\Kmag}{K_{\\mathrm{s}}}$\n",
       "$\\newcommand{\\Wi}{W_{\\mathrm{1}}}$\n",
       "$\\newcommand{\\Wii}{W_{\\mathrm{2}}}$\n",
       "$\\newcommand{\\Wiii}{W_{\\mathrm{3}}}$\n",
       "$\\newcommand{\\Rstar}{R_{\\mathrm{\\star}}}$\n",
       "$\\newcommand{\\Mstar}{M_{\\mathrm{\\star}}}$\n",
       "$\\newcommand{\\Lstar}{L_{\\mathrm{\\star}}}$\n",
       "$\\newcommand{\\rhostar}{\\rho_{\\mathrm{\\star}}}$\n",
       "$\\newcommand{\\rhoSun}{\\rho_{\\mathrm{\\odot}}}$\n",
       "$\\newcommand{\\Msun}{M_{\\odot}}$\n",
       "$\\newcommand{\\Rsun}{R_{\\odot}}$\n",
       "$\\newcommand{\\TBJD}{BJD_{TDB}}$\n",
       "$\\newcommand{\\REarth}{R_{\\oplus}}$\n",
       "$\\newcommand{\\MEarth}{M_{\\oplus}}$\n",
       "$\\newcommand{\\RJup}{R_{\\mathrm{J}}}$\n",
       "$\\newcommand{\\MJup}{M_{\\mathrm{J}}}$\n",
       "$\\newcommand{\\Porb}{P_{\\mathrm{orb}}}$\n",
       "$\\newcommand{\\Prot}{P_{\\star}}$\n",
       "$\\newcommand{\\Mp}{M_{\\mathrm{p}}}$\n",
       "$\\newcommand{\\Rp}{R_{\\mathrm{p}}}$\n",
       "$\\newcommand{\\ars}{a/R_{\\mathrm{\\star}}}$\n",
       "$\\newcommand{\\tc}{T_{\\mathrm{c}}}$\n",
       "$\\newcommand{\\secosw}{\\sqrt{e}\\cos\\omega}$\n",
       "$\\newcommand{\\sesinw}{\\sqrt{e}\\sin\\omega}$\n",
       "$\\newcommand{\\offsetchiron}{\\gamma_{\\mathrm{rel}}}$\n",
       "$\\newcommand{\\jitterchiron}{\\sigma_{\\mathrm{j}}}$\n",
       "$\\newcommand{\\Kamp}{K_{\\mathrm{amp}}}$\n",
       "$\\newcommand{\\tikzcircle}[2][red,fill=red]{\\tikz[baseline=-0.5ex]\\draw[#1,radius=#2] (0,0) circle ;}$\n",
       "$\\newcommand{\\USQ}{University of Southern Queensland, Centre for Astrophysics, West Street, Toowoomba, QLD 4350 Australia}$\n",
       "$\\newcommand{\\PennStateAA}{Department of Astronomy \\& Astrophysics, 525 Davey Laboratory, The Pennsylvania State University, University Park, PA, 16802, USA}$\n",
       "$\\newcommand{\\PennStateCEHW}{Center for Exoplanets and Habitable Worlds, 525 Davey Laboratory, The Pennsylvania State University, University Park, PA, 16802, USA}$\n",
       "$\\newcommand{\\CCA}{Center for Computational Astrophysics, Flatiron Institute, 162 Fifth Avenue, New York, NY 10010, USA}$\n",
       "$\\newcommand{\\CfA}{Center for Astrophysics \\textbar  Harvard \\& Smithsonian, 60 Garden Street, Cambridge, MA 02138, USA}$\n",
       "$\\newcommand{\\Caltech}{Cahill Center for Astrophysics, California Institute of Technology, Pasadena, CA 91125, USA}$\n",
       "$\\newcommand{\\IRAP}{Institut de Recherche en Astrophysique et Planétologie, Université de Toulouse, CNRS, CNES, 14 avenue Edouard Belin, 31400 Toulouse, France}$\n",
       "$\\newcommand{\\LiegeUni}{Astrobiology Research Unit, Université de Liège, 19C Allée du 6 Août, 4000 Liège, Belgium}$\n",
       "$\\newcommand{\\MITAtmo}{Department of Earth, Atmospheric and Planetary Science, Massachusetts Institute of Technology, 77 Massachusetts Avenue, Cambridge, MA 02139, USA}$\n",
       "$\\newcommand{\\IACSpain}{Instituto de Astrof\\'isica de Canarias (IAC), Calle V\\'ia L\\'actea s/n, 38200, La Laguna, Tenerife, Spain}$\n",
       "$\\newcommand{\\QMU}{Astronomy Unit, Queen Mary University of London, Mile End Road, London E1 4NS, UK}$\n",
       "$\\newcommand{\\CAM}{Astrophysics Group, Cavendish Laboratory, J.J. Thomson Avenue, Cambridge CB3 0HE, UK}$\n",
       "$\\newcommand{\\WarwickUni}{Department of Physics, University of Warwick, Gibbet Hill Road, Coventry CV4 7AL, UK}$\n",
       "$\\newcommand{\\CEHWarwick}{Centre for Exoplanets and Habitability, University of Warwick, Gibbet Hill Road, Coventry CV4 7AL, UK}$\n",
       "$\\newcommand{\\BirminghamUni}{School of Physics \\& Astronomy, University of Birmingham, Edgbaston, Birmingham, B15 2TT, UK}$\n",
       "$\\newcommand{\\AIUniChile}{Facultad de Ingeniería y Ciencias, Universidad Adolfo Ib\\'a\\~nez, Av. Diagonal las Torres 2640, Pe\\~nalol\\'en, Santiago, Chile}$\n",
       "$\\newcommand{\\MIAChile}{Millennium Institute of Astrophysics MAS, Nuncio Monsenor Sotero Sanz 100, Of. 104, Providencia, Santiago, Chile}$\n",
       "$\\newcommand{\\MaxPlank}{Max Planck Institute for Astronomy, K\\\"onigstuhl 17, D-69117—Heidelberg, Germany}$\n",
       "$\\newcommand{\\KeeleUni}{Astrophysics Group, Keele University, Staffordshire, ST5 5BG, UK}$\n",
       "$\\newcommand{\\kavlimit}{Department of Physics and Kavli Institute for Astrophysics and Space Research, Massachusetts Institute of Technology, Cambridge, MA 02139, USA}$\n",
       "$\\newcommand{\\NESI}{NASA Exoplanet Science Institute, Caltech/IPAC, 1200 E. California Ave, Pasadena, CA 91125, USA}$\n",
       "$\\newcommand{\\WisconsinMadisonUni}{Department of Astronomy, University of Wisconsin-Madison, Madison, WI 53706, USA}$\n",
       "$\\newcommand{\\UTAustin}{Department of Astronomy, The University of Texas at Austin, Austin, TX 78712, USA}$\n",
       "$\\newcommand{\\plahunters}{Citizen Scientist, Zooniverse c/o University of Oxford, Keble Road, Oxford OX1 3RH, UK}$</div>\n",
       "\n",
       "<div class=\"macros\" style=\"visibility:hidden;\">\n",
       "$\\newcommand{$\\ensuremath$}{}$\n",
       "$\\newcommand{$\\xspace$}{}$\n",
       "$\\newcommand{$\\object$}[1]{\\texttt{#1}}$\n",
       "$\\newcommand{$\\farcs$}{{.}''}$\n",
       "$\\newcommand{$\\farcm$}{{.}'}$\n",
       "$\\newcommand{$\\arcsec$}{''}$\n",
       "$\\newcommand{$\\arcmin$}{'}$\n",
       "$\\newcommand{$\\ion$}[2]{#1#2}$\n",
       "$\\newcommand{$\\textsc$}[1]{\\textrm{#1}}$\n",
       "$\\newcommand{$\\hl$}[1]{\\textrm{#1}}$\n",
       "$\\newcommand{$\\vdag$}{(v)^\\dagger}$\n",
       "$\\newcommand$\n",
       "$\\newcommand$\n",
       "$\\newcommand$\n",
       "$\\newcommand{$\\rev$}$\n",
       "$\\newcommand{$\\TESS$}{\\emph{TESS}$\\xspace$}$\n",
       "$\\newcommand{$\\toi$}{TOI-4562$\\xspace$}$\n",
       "$\\newcommand{$\\toi$b}{TOI-4562 b$\\xspace$}$\n",
       "$\\newcommand{$\\tcvalue$}{1456.874636^{+0.001172}_{-0.001249}}$\n",
       "$\\newcommand{$\\pervalue$}{225.11757^{+0.00027}_{-0.00025}}$\n",
       "$\\newcommand{$\\rprstarvalue$}{0.09450^{+0.00050}_{-0.00042}}$\n",
       "$\\newcommand{$\\incvalue$}{89.72^{+0.17}_{-0.15}}$\n",
       "$\\newcommand{$\\secoswvalue$}{0.37^{+0.11}_{-0.12}}$\n",
       "$\\newcommand{$\\sesinwvalue$}{0.808^{+0.046}_{-0.052}}$\n",
       "$\\newcommand{$\\mpvalue$}{0.0023 \\pm 0.0005}$\n",
       "$\\newcommand{$\\mStarvalue$}{1.218^{+0.054}_{-0.048}}$\n",
       "$\\newcommand{$\\teffvalue$}{6270 \\pm 50}$\n",
       "$\\newcommand{$\\loggvalue$}{4.42 \\pm 0.04}$\n",
       "$\\newcommand{$\\fehvalue$}{0.24 \\pm 0.10}$\n",
       "$\\newcommand{$\\agevalue$}{300--400}$\n",
       "$\\newcommand{$\\parallaxvalue$}{2.88356^{+0.0104}_{-0.0099}}$\n",
       "$\\newcommand{$\\meanvalue$}{5352\\pm13}$\n",
       "$\\newcommand{$\\jitavalue$}{73^{+15}_{-15}}$\n",
       "$\\newcommand{$\\jitbvalue$}{28.5^{+18.7}_{-20.9}}$\n",
       "$\\newcommand{$\\ebvvalue$}{<0.01  (3\\sigma)}$\n",
       "$\\newcommand{$\\rStarvalue$}{1.126^{+0.014}_{-0.012}}$\n",
       "$\\newcommand{$\\densityStarvalue$}{1.14^{+0.07}_{-0.037}}$\n",
       "$\\newcommand{$\\smarStarvalue$}{147.1_{-6.1}^{+6.6}}$\n",
       "$\\newcommand{$\\smaAUvalue$}{0.771^{+0.013}_{-0.013}}$\n",
       "$\\newcommand{$\\distvalue$}{346.9\\pm3.8}$\n",
       "$\\newcommand{$\\kampvalue$}{353^{+73}_{-88}}$\n",
       "$\\newcommand{$\\mpjupvalue$}{3.29^{+1.88}_{-0.82}}$\n",
       "$\\newcommand{$\\mpearthvalue$}{768^{+170}_{-165}}$\n",
       "$\\newcommand{$\\rpjupvalue$}{1.072_{-0.043}^{+0.044}}$\n",
       "$\\newcommand{$\\rpearthvalue$}{11.72 \\pm 0.28}$\n",
       "$\\newcommand{$\\densityvalue$}{2.63^{+0.58}_{-0.56}}$\n",
       "$\\newcommand{$\\eccvalue$}{0.81^{+0.05}_{-0.05}}$\n",
       "$\\newcommand{$\\wvalue$}{63 \\pm 5}$\n",
       "$\\newcommand{$\\bvalue$}{0.29^{+0.24}_{-0.32}}$\n",
       "$\\newcommand{$\\tdepthvalue$}{9066^{+225}_{-243}}$\n",
       "$\\newcommand{$\\tdurvalue$}{4.23\\pm{0.14}}$\n",
       "$\\newcommand{$\\teqvalue$}{349\\pm10}$\n",
       "$\\newcommand{$\\tperivalue$}{731_{-34}^{+55}}$\n",
       "$\\newcommand{$\\tapovalue$}{261_{-3}^{+2}}$\n",
       "$\\newcommand{$\\sepvalue$}{35}$\n",
       "$\\newcommand{$\\teffCHIRON$}{6096 \\pm 50}$\n",
       "$\\newcommand{$\\loggCHIRON$}{4.4 \\pm 0.1}$\n",
       "$\\newcommand{$\\fehCHIRON$}{0.1 \\pm 0.1}$\n",
       "$\\newcommand{$\\vsiniCHIRON$}{15.67 \\pm 0.5}$\n",
       "$\\newcommand{$\\Protvalue$}{3.82 \\pm 0.05}$\n",
       "$\\newcommand{$\\incstarvalue$}{89.7_{-12.7}^{+0.3}}$\n",
       "$\\newcommand$\n",
       "$\\newcommand{$\\teff$}{$\\ensuremath${T_{\\rm eff}}}$\n",
       "$\\newcommand{$\\met$}{[M/H]}$\n",
       "$\\newcommand{$\\vsini$}{v~sin i}$\n",
       "$\\newcommand{$\\kms$}{ km s^{-1}}$\n",
       "$\\newcommand{$\\ms$}{ m s^{-1}}$\n",
       "$\\newcommand{$\\radd$}{ rad d^{-1}}$\n",
       "$\\newcommand{$\\degree$}{^{\\circ}}$\n",
       "$\\newcommand{$\\masyr$}{mas yr^{-1}}$\n",
       "$\\newcommand{$\\Bmag$}{B}$\n",
       "$\\newcommand{$\\Vmag$}{V}$\n",
       "$\\newcommand{$\\Tmag$}{T}$\n",
       "$\\newcommand{$\\gaiaG$}{G}$\n",
       "$\\newcommand{$\\gaiaBP$}{B_{\\mathrm{p}}}$\n",
       "$\\newcommand{$\\gaiaRp$}{R_{\\mathrm{p}}}$\n",
       "$\\newcommand{$\\Jmag$}{J}$\n",
       "$\\newcommand{$\\Hmag$}{H}$\n",
       "$\\newcommand{$\\Kmag$}{K_{\\mathrm{s}}}$\n",
       "$\\newcommand{$\\Wi$}{W_{\\mathrm{1}}}$\n",
       "$\\newcommand{$\\Wi$i}{W_{\\mathrm{2}}}$\n",
       "$\\newcommand{$\\Wi$ii}{W_{\\mathrm{3}}}$\n",
       "$\\newcommand{$\\Rstar$}{R_{\\mathrm{\\star}}}$\n",
       "$\\newcommand{$\\Mstar$}{M_{\\mathrm{\\star}}}$\n",
       "$\\newcommand{$\\Lstar$}{L_{\\mathrm{\\star}}}$\n",
       "$\\newcommand{$\\rhostar$}{\\rho_{\\mathrm{\\star}}}$\n",
       "$\\newcommand{$\\rhoSun$}{\\rho_{\\mathrm{\\odot}}}$\n",
       "$\\newcommand{$\\Msun$}{M_{\\odot}}$\n",
       "$\\newcommand{$\\Rsun$}{R_{\\odot}}$\n",
       "$\\newcommand{$\\TBJD$}{BJD_{TDB}}$\n",
       "$\\newcommand{$\\REarth$}{R_{\\oplus}}$\n",
       "$\\newcommand{$\\MEarth$}{M_{\\oplus}}$\n",
       "$\\newcommand{$\\RJup$}{R_{\\mathrm{J}}}$\n",
       "$\\newcommand{$\\MJup$}{M_{\\mathrm{J}}}$\n",
       "$\\newcommand{$\\Porb$}{P_{\\mathrm{orb}}}$\n",
       "$\\newcommand{$\\Prot$}{P_{\\star}}$\n",
       "$\\newcommand{$\\Mp$}{M_{\\mathrm{p}}}$\n",
       "$\\newcommand{$\\Rp$}{R_{\\mathrm{p}}}$\n",
       "$\\newcommand{$\\ars$}{a/R_{\\mathrm{\\star}}}$\n",
       "$\\newcommand{$\\tc$}{T_{\\mathrm{c}}}$\n",
       "$\\newcommand{$\\secosw$}{\\sqrt{e}\\cos\\omega}$\n",
       "$\\newcommand{$\\sesinw$}{\\sqrt{e}\\sin\\omega}$\n",
       "$\\newcommand{$\\offsetchiron$}{\\gamma_{\\mathrm{rel}}}$\n",
       "$\\newcommand{$\\jitterchiron$}{\\sigma_{\\mathrm{j}}}$\n",
       "$\\newcommand{$\\Kamp$}{K_{\\mathrm{amp}}}$\n",
       "$\\newcommand{$\\tikzcircle$}[2][red,fill=red]{\\tikz[baseline=-0.5ex]\\draw[#1,radius=#2] (0,0) circle ;}$\n",
       "$\\newcommand{$\\USQ$}{University of Southern Queensland, Centre for Astrophysics, West Street, Toowoomba, QLD 4350 Australia}$\n",
       "$\\newcommand{$\\PennStateAA$}{Department of Astronomy \\& Astrophysics, 525 Davey Laboratory, The Pennsylvania State University, University Park, PA, 16802, USA}$\n",
       "$\\newcommand{$\\PennStateCEHW$}{Center for Exoplanets and Habitable Worlds, 525 Davey Laboratory, The Pennsylvania State University, University Park, PA, 16802, USA}$\n",
       "$\\newcommand{$\\CCA$}{Center for Computational Astrophysics, Flatiron Institute, 162 Fifth Avenue, New York, NY 10010, USA}$\n",
       "$\\newcommand{$\\CfA$}{Center for Astrophysics \\textbar  Harvard \\& Smithsonian, 60 Garden Street, Cambridge, MA 02138, USA}$\n",
       "$\\newcommand{$\\Caltech$}{Cahill Center for Astrophysics, California Institute of Technology, Pasadena, CA 91125, USA}$\n",
       "$\\newcommand{$\\IRAP$}{Institut de Recherche en Astrophysique et Planétologie, Université de Toulouse, CNRS, CNES, 14 avenue Edouard Belin, 31400 Toulouse, France}$\n",
       "$\\newcommand{$\\LiegeUni$}{Astrobiology Research Unit, Université de Liège, 19C Allée du 6 Août, 4000 Liège, Belgium}$\n",
       "$\\newcommand{$\\MITAtmo$}{Department of Earth, Atmospheric and Planetary Science, Massachusetts Institute of Technology, 77 Massachusetts Avenue, Cambridge, MA 02139, USA}$\n",
       "$\\newcommand{$\\IACSpain$}{Instituto de Astrof\\'isica de Canarias (IAC), Calle V\\'ia L\\'actea s/n, 38200, La Laguna, Tenerife, Spain}$\n",
       "$\\newcommand{$\\QMU$}{Astronomy Unit, Queen Mary University of London, Mile End Road, London E1 4NS, UK}$\n",
       "$\\newcommand{$\\CAM$}{Astrophysics Group, Cavendish Laboratory, J.J. Thomson Avenue, Cambridge CB3 0HE, UK}$\n",
       "$\\newcommand{$\\WarwickUni$}{Department of Physics, University of Warwick, Gibbet Hill Road, Coventry CV4 7AL, UK}$\n",
       "$\\newcommand{$\\CEHWarwick$}{Centre for Exoplanets and Habitability, University of Warwick, Gibbet Hill Road, Coventry CV4 7AL, UK}$\n",
       "$\\newcommand{$\\BirminghamUni$}{School of Physics \\& Astronomy, University of Birmingham, Edgbaston, Birmingham, B15 2TT, UK}$\n",
       "$\\newcommand{$\\AIUniChile$}{Facultad de Ingeniería y Ciencias, Universidad Adolfo Ib\\'a\\~nez, Av. Diagonal las Torres 2640, Pe\\~nalol\\'en, Santiago, Chile}$\n",
       "$\\newcommand{$\\MIAChile$}{Millennium Institute of Astrophysics MAS, Nuncio Monsenor Sotero Sanz 100, Of. 104, Providencia, Santiago, Chile}$\n",
       "$\\newcommand{$\\MaxPlank$}{Max Planck Institute for Astronomy, K\\\"onigstuhl 17, D-69117—Heidelberg, Germany}$\n",
       "$\\newcommand{$\\KeeleUni$}{Astrophysics Group, Keele University, Staffordshire, ST5 5BG, UK}$\n",
       "$\\newcommand{$\\kavlimit$}{Department of Physics and Kavli Institute for Astrophysics and Space Research, Massachusetts Institute of Technology, Cambridge, MA 02139, USA}$\n",
       "$\\newcommand{$\\NESI$}{NASA Exoplanet Science Institute, Caltech/IPAC, 1200 E. California Ave, Pasadena, CA 91125, USA}$\n",
       "$\\newcommand{$\\Wi$sconsinMadisonUni}{Department of Astronomy, University of Wisconsin-Madison, Madison, WI 53706, USA}$\n",
       "$\\newcommand{$\\UTAustin$}{Department of Astronomy, The University of Texas at Austin, Austin, TX 78712, USA}$\n",
       "$\\newcommand{$\\plahunters$}{Citizen Scientist, Zooniverse c/o University of Oxford, Keble Road, Oxford OX1 3RH, UK}$</div>\n",
       "\n",
       "\n",
       "\n",
       "<div id=\"title\">\n",
       "\n",
       "# : A highly eccentric temperate Jupiter analog orbiting a young field star.\n",
       "\n",
       "</div>\n",
       "<div id=\"comments\">\n",
       "\n",
       "[![arXiv](https://img.shields.io/badge/arXiv-2208.10854-b31b1b.svg)](https://arxiv.org/abs/2208.10854)<mark>Appeared on: 2022-08-24</mark> - _23 pages, 12 figures, 4 tables. Submitted to the Astrophysical Journal (23/08/2022)_\n",
       "\n",
       "</div>\n",
       "<div id=\"authors\">\n",
       "\n",
       "<mark><mark>Alexis Heitzmann</mark></mark>, et al. -- incl., <mark><mark>Melissa Hobson</mark></mark>, <mark><mark>Coel Hellier</mark></mark>, <mark><mark>Carl Ziegler</mark></mark>\n",
       "\n",
       "</div>\n",
       "<div id=\"abstract\">\n",
       "\n",
       "**Abstract:** We report the discovery of$\\toi$b(TIC-349576261), a Jovian planet orbiting a young F7V-type star, younger than the Praesepe/Hyades clusters ($\\sim$300--400 Myr). This planet stands out because of its unusually long orbital period for transiting planets with known masses ($\\Porb$=$\\pervalue$days), and because it has a substantial eccentricity ($e$=$\\eccvalue$). The location of$\\toi$near the southern continuous viewing zone of$\\TESS$allowed observations throughout 25 sectors, enabling an unambiguous period measurement from$\\TESS$alone. Alongside the four available$\\TESS$transits, we performed follow-up photometry using the South African Astronomical Observatory node of the Las Cumbres Observatory, and spectroscopy with the CHIRON spectrograph on the 1.5 m SMARTS telescope. We measure a radius of$\\rpjupvalue$\\RJup, and a mass of$\\mpjupvalue$\\MJupfor$\\toi$b. The radius of the planet is consistent with contraction models describing the early evolution of the size of giant planets. We detect tentative transit timing variations at the$\\sim$20 min level from five transit events, favouring the presence of a companion that could explain the dynamical history of this system if confirmed by future follow-up observations. With its current orbital configuration, tidal timescales are too long for$\\toi$bto become a hot-Jupiter via high eccentricity migration, though it is not excluded that interactions with the possible companion could modify$\\toi$b's eccentricity and trigger circularization. The characterisation of more such young systems is essential to set constraints on models describing giant planet evolution.\n",
       "\n",
       "</div>\n",
       "\n",
       "<div id=\"div_fig1\">\n",
       "\n",
       "<img src=\"tmp_2208.10854/./Figures/tess_individual.png\" alt=\"Fig9\" width=\"100%\"/>\n",
       "\n",
       "**Figure 9. -** \\textbf{Top} Individual transits from $\\TESS$ from Sectors 5 and 13 at 30 minute cadence, and from Sectors 30 and 38 at 2 minute cadence. The red circles indicate the measured data for sectors 5 and 13, and the binned data at 30 minute cadence for Sectors 30 and 38. The 2-minute cadence data for Sectors 30 and 38 are plotted as brown points. The best fit model, incorporating the transit timing variations in Section \\ref{sec:analysis}, and out-of-transit trends, are shown by the red lines. \\textbf{Bottom left} The phase folded $\\TESS$ transit and best fit model. \\textbf{Bottom right} The combined follow-up LCOGT 1 m observations from 2022-01-03 in $i'$ band. (*fig:transits*)\n",
       "\n",
       "</div>\n",
       "<div id=\"div_fig2\">\n",
       "\n",
       "<img src=\"tmp_2208.10854/./Figures/RV.png\" alt=\"Fig10\" width=\"100%\"/>\n",
       "\n",
       "**Figure 10. -** \\textbf{Top}: 2-year radial velocity time series of $\\toi$ obtained with the CHIRON spectrograph (brown points) with the associated error bars. The Keplerian orbit fit from our global modelling is shown in red. Transits are highlighted in light brown. \\textbf{Bottom}: Phase folded RVs (brown) with the Keplerian orbit best fits in red. (*fig:RV*)\n",
       "\n",
       "</div>\n",
       "<div id=\"div_fig3\">\n",
       "\n",
       "<img src=\"tmp_2208.10854/./Figures/TOI4562_AO_Gemini.png\" alt=\"Fig1.1\" width=\"50%\"/><img src=\"tmp_2208.10854/./Figures/TOI_4562_SOAR_speckle.png\" alt=\"Fig1.2\" width=\"50%\"/>\n",
       "\n",
       "**Figure 1. -** \\textbf{Top} High resolution image of $\\toi$ obtained with the Zorro camera attached to the 8.1 m Gemini South telescope. The blue and red curves show difference in magnitude as a function of orbital separation from $\\toi$ obtained at wavelengths of respectively 562 and 832 nm. The inset plot shows the reconstructed image at 832 nm where no companion is detected. \\textbf{Bottom} SOAR HRCam high resolution imaging of $\\toi$. The difference in magnitude as a function of orbital separation from $\\toi$ is shown by the black line and the autocorrelation function on the inset image. There is no sign of a stellar sized companion to $\\toi$.  (*fig:highres*)\n",
       "\n",
       "</div>"
      ],
      "text/plain": [
       "<IPython.core.display.Markdown object>"
      ]
     },
     "metadata": {},
     "output_type": "display_data"
    }
   ],
   "source": [
    "[display(Markdown(k[1])) for k in documents];"
   ]
  },
  {
   "cell_type": "markdown",
   "id": "873873a4",
   "metadata": {
    "papermill": {
     "duration": 0.010549,
     "end_time": "2022-08-24T07:10:37.605350",
     "exception": false,
     "start_time": "2022-08-24T07:10:37.594801",
     "status": "completed"
    },
    "tags": []
   },
   "source": [
    "# Create HTML index"
   ]
  },
  {
   "cell_type": "code",
   "execution_count": 10,
   "id": "cf665672",
   "metadata": {
    "execution": {
     "iopub.execute_input": "2022-08-24T07:10:37.628306Z",
     "iopub.status.busy": "2022-08-24T07:10:37.627794Z",
     "iopub.status.idle": "2022-08-24T07:10:37.636460Z",
     "shell.execute_reply": "2022-08-24T07:10:37.635785Z"
    },
    "papermill": {
     "duration": 0.022014,
     "end_time": "2022-08-24T07:10:37.637885",
     "exception": false,
     "start_time": "2022-08-24T07:10:37.615871",
     "status": "completed"
    },
    "tags": []
   },
   "outputs": [
    {
     "name": "stdout",
     "output_type": "stream",
     "text": [
      "23  publications in the last 7 days.\n",
      "\t _build/html/2208.10854.md\n",
      "\t _build/html/2208.10726.md\n",
      "\t _build/html/2208.10528.md\n",
      "\t _build/html/2208.09335.md\n",
      "\t _build/html/2208.08872.md\n",
      "\t _build/html/2204.06393.md\n",
      "\t _build/html/2204.03335.md\n",
      "\t _build/html/2204.03253.md\n",
      "\t _build/html/2204.02998.md\n",
      "\t _build/html/2204.02109.md\n",
      "\t _build/html/2204.02017.md\n",
      "\t _build/html/2204.01824.md\n",
      "\t _build/html/2204.01758.md\n",
      "\t _build/html/2204.01245.md\n",
      "\t _build/html/2204.00793.md\n",
      "\t _build/html/2204.00342.md\n",
      "\t _build/html/2203.16959.md\n",
      "\t _build/html/2203.16856.md\n",
      "\t _build/html/2203.16735.md\n",
      "\t _build/html/2203.16734.md\n",
      "\t _build/html/2203.16504.md\n",
      "\t _build/html/2203.15822.md\n",
      "\t _build/html/2203.15811.md\n"
     ]
    }
   ],
   "source": [
    "from datetime import datetime, timedelta, timezone\n",
    "from glob import glob\n",
    "\n",
    "files = glob('_build/html/*.md')\n",
    "days = 7\n",
    "now = datetime.today()\n",
    "res = []\n",
    "for fk in files:\n",
    "    stat_result = os.stat(fk).st_ctime\n",
    "    modified = datetime.fromtimestamp(stat_result, tz=timezone.utc).replace(tzinfo=None)\n",
    "    delta = now.today() - modified\n",
    "    if delta <= timedelta(days=days):\n",
    "        res.append((delta.seconds, fk))\n",
    "res = [k[1] for k in reversed(sorted(res, key=lambda x:x[1]))]\n",
    "npub = len(res)\n",
    "print(len(res), f\" publications in the last {days:d} days.\")\n",
    "[ print('\\t', k) for k in res ];"
   ]
  },
  {
   "cell_type": "code",
   "execution_count": 11,
   "id": "52ca0208",
   "metadata": {
    "execution": {
     "iopub.execute_input": "2022-08-24T07:10:37.703789Z",
     "iopub.status.busy": "2022-08-24T07:10:37.703244Z",
     "iopub.status.idle": "2022-08-24T07:10:37.711700Z",
     "shell.execute_reply": "2022-08-24T07:10:37.710936Z"
    },
    "papermill": {
     "duration": 0.064863,
     "end_time": "2022-08-24T07:10:37.713631",
     "exception": false,
     "start_time": "2022-08-24T07:10:37.648768",
     "status": "completed"
    },
    "scrolled": false,
    "tags": []
   },
   "outputs": [],
   "source": [
    "def create_carousel(npub=4):\n",
    "    \"\"\" Generate the HTML code for a carousel with `npub` slides \"\"\"\n",
    "    carousel = [\"\"\"<section class=\"carousel\" aria-label=\"Gallery\">\"\"\",\n",
    "                \"\"\"  <ol class=\"carousel__viewport\">\"\"\",\n",
    "    ]\n",
    "    for k in range(1, npub + 1):\n",
    "        prev_ = k - 1\n",
    "        next_ = k + 1\n",
    "        if prev_ <= 0:\n",
    "            prev_ = npub\n",
    "        if next_ > npub:\n",
    "            next_ = 1\n",
    "        text  = f\"\"\"    <li id=\"carousel__slide{k}\" tabindex=\"0\" class=\"carousel__slide\">\\n\"\"\"\n",
    "        text += f\"\"\"       <div class=\"carousel__snapper\">\\n\"\"\"\n",
    "        text += f\"\"\"         <a href=\"#carousel__slide{prev_}\" class=\"carousel__prev\">Go to previous slide</a>\\n\"\"\"\n",
    "        text += f\"\"\"         <a href=\"#carousel__slide{next_}\" class=\"carousel__next\">Go to next slide</a>\\n\"\"\"\n",
    "        text += f\"\"\"         <div id=\"slide{k}_content\" class=\"md_view\" >Content {k}</div>\\n\"\"\"\n",
    "        text += f\"\"\"       </div>\\n\"\"\"\n",
    "        text += f\"\"\"    </li>\"\"\"\n",
    "        carousel.append(text)\n",
    "\n",
    "    carousel.extend([\n",
    "        \"\"\"  </ol>\"\"\",\n",
    "        \"\"\"  <aside class=\"carousel__navigation\">\"\"\",\n",
    "        \"\"\"    <ol class=\"carousel__navigation-list\">\"\"\"])\n",
    "\n",
    "    for k in range(1, npub + 1):\n",
    "        text  = f\"\"\"      <li class=\"carousel__navigation-item\">\\n\"\"\"\n",
    "        text += f\"\"\"        <a href=\"#carousel__slide{k}\" class=\"carousel__navigation-button\">Go to {k}</a>\\n\"\"\"\n",
    "        text += f\"\"\"      </li>\"\"\"\n",
    "        carousel.append(text)\n",
    "    carousel.extend([\"\"\"    </ol>\"\"\", \"\"\"  </aside>\"\"\", \"\"\"</section>\"\"\"])\n",
    "\n",
    "    return '\\n'.join(carousel)"
   ]
  },
  {
   "cell_type": "code",
   "execution_count": 12,
   "id": "a6eac5b6",
   "metadata": {
    "execution": {
     "iopub.execute_input": "2022-08-24T07:10:37.739871Z",
     "iopub.status.busy": "2022-08-24T07:10:37.739547Z",
     "iopub.status.idle": "2022-08-24T07:10:37.746125Z",
     "shell.execute_reply": "2022-08-24T07:10:37.745101Z"
    },
    "papermill": {
     "duration": 0.022144,
     "end_time": "2022-08-24T07:10:37.747915",
     "exception": false,
     "start_time": "2022-08-24T07:10:37.725771",
     "status": "completed"
    },
    "scrolled": false,
    "tags": []
   },
   "outputs": [],
   "source": [
    "carousel = create_carousel(npub)\n",
    "docs = ', '.join(['\"{0:s}\"'.format(k.split('/')[-1]) for k in res])\n",
    "slides = ', '.join([f'\"slide{k}_content\"' for k in range(1, npub + 1)])\n",
    "\n",
    "script = f\"\"\"\n",
    "const docs = [{docs}]\n",
    "\n",
    "const slides = [{slides}]\n",
    "\"\"\" + \"\"\"\n",
    "async function run() {\n",
    "    for (let i = 0; i < docs.length; i++) {\n",
    "        let file = await fetch(docs[i]);\n",
    "        let text = await file.text()\n",
    "        document.getElementById(slides[i]).innerHTML =\n",
    "            marked.parse(text);\n",
    "    }\n",
    "    hljs.highlightAll();\n",
    "}\n",
    "run()\n",
    "\"\"\"\n",
    "\n",
    "page = f\"\"\"<!doctype html>\n",
    "<html lang=\"en\">\n",
    "\n",
    "<head>\n",
    "  <meta charset=\"utf-8\">\n",
    "  <meta name=\"viewport\" content=\"width=device-width, initial-scale=1\">\n",
    "  <!-- Bootstrap CSS -->\n",
    "  <link href=\"https://cdn.jsdelivr.net/npm/bootstrap@5.0.2/dist/css/bootstrap.min.css\" rel=\"stylesheet\"\n",
    "   integrity=\"sha384-EVSTQN3/azprG1Anm3QDgpJLIm9Nao0Yz1ztcQTwFspd3yD65VohhpuuCOmLASjC\" crossorigin=\"anonymous\">\n",
    "  <!-- highlight.js CSS -->\n",
    "  <link rel=\"stylesheet\" href=\"https://cdnjs.cloudflare.com/ajax/libs/highlight.js/11.1.0/styles/default.min.css\">\n",
    "  <!-- Mathjax 3 -->\n",
    "  <script type=\"text/javascript\" id=\"MathJax-config\" src=\"mathjax_config.js\"> </script>\n",
    "  <script type=\"text/javascript\" id=\"MathJax-script\" async \n",
    "    src=\"https://cdn.jsdelivr.net/npm/mathjax@3/es5/tex-mml-chtml.js\">\n",
    "  </script>\n",
    "  <link rel=\"stylesheet\" href=\"index_carousel.css\">\n",
    "  <link rel=\"icon\" type=\"image/x-icon\" href=\"https://www.mpia.de/assets/touch-icon-32x32-a66937bcebc4e8894ebff1f41a366c7c7220fd97a38869ee0f2db65a9f59b6c1.png\">\n",
    "  <title>MPIA Arxiv on deck!</title>\n",
    "</head>\n",
    "\n",
    "<body>\n",
    "  <div id=\"header\"> <img src=\"header_banner.png\" width=\"100%\"></div>\n",
    "  <div id=\"suptitle\"> 7-day archives </div>\n",
    "  <div id=\"info\">\n",
    "    <img src=\"https://pngimg.com/uploads/github/github_PNG58.png\" height=30rem></img>\n",
    "    <a href=https://github.com/mpi-astronomy/arxiv_display style=\"color:black;\">github/mpi-astronomy/arxiv_display</a> \n",
    "  </div>\n",
    "  {carousel:s}\n",
    "</body>\n",
    "\n",
    "<!-- Render Markdown -->\n",
    "\n",
    "<body>\n",
    "  <!-- highlight.js: https://highlightjs.org/download/ -->\n",
    "  <script src=\"https://cdnjs.cloudflare.com/ajax/libs/highlight.js/11.5.0/highlight.min.js\"></script>\n",
    "  <!-- marked.js -->\n",
    "  <script src=\"https://cdn.jsdelivr.net/npm/marked/marked.min.js\"></script>\n",
    "  <script>{script:s}</script>\n",
    "</body>\n",
    "</html>\n",
    "\"\"\"\n",
    "with open(\"_build/html/index_7days.html\", 'w') as fout:\n",
    "    fout.write(page)"
   ]
  },
  {
   "cell_type": "markdown",
   "id": "1cebacbc",
   "metadata": {
    "papermill": {
     "duration": 0.012132,
     "end_time": "2022-08-24T07:10:37.772381",
     "exception": false,
     "start_time": "2022-08-24T07:10:37.760249",
     "status": "completed"
    },
    "tags": []
   },
   "source": [
    "# Debugging papers"
   ]
  },
  {
   "cell_type": "raw",
   "id": "debe7cc6",
   "metadata": {
    "papermill": {
     "duration": 0.012011,
     "end_time": "2022-08-24T07:10:37.796315",
     "exception": false,
     "start_time": "2022-08-24T07:10:37.784304",
     "status": "completed"
    },
    "tags": []
   },
   "source": [
    "raise NotImplementedError(\"Manual Stop\")"
   ]
  },
  {
   "cell_type": "raw",
   "id": "eb169192",
   "metadata": {
    "papermill": {
     "duration": 0.012114,
     "end_time": "2022-08-24T07:10:37.820340",
     "exception": false,
     "start_time": "2022-08-24T07:10:37.808226",
     "status": "completed"
    },
    "scrolled": true,
    "tags": []
   },
   "source": [
    "from IPython.display import display, Markdown\n",
    "from TexSoup import TexSoup\n",
    "import re\n",
    "\n",
    "def bracket_error(source: str):\n",
    "    \"\"\" Find problematic portions of the document \"\"\"\n",
    "    \n",
    "    print(\"len(source)\", len(source))\n",
    "    \n",
    "    # Checking header\n",
    "    begin_doc = next(re.finditer(r'\\\\begin\\{document\\}', doc.source)).span()[1]\n",
    "    header = source[:begin_doc]\n",
    "    text = header + r\"\\n\\end{document}\"\n",
    "\n",
    "    try:\n",
    "        # print(\"Header check... \", end='')\n",
    "        TexSoup(text)\n",
    "        display(Markdown(f\"**[OK]** - Header\"))\n",
    "    except:\n",
    "        raise RuntimeError(\"Error in the header\")\n",
    "        \n",
    "    # Check the text per section until the end.\n",
    "    # Do not stop and try them all.\n",
    "    \n",
    "    problematic_text = []\n",
    "    \n",
    "    sections = ([(0, begin_doc, 'until first section')] + \n",
    "                [(g.span()[0], g.span()[1], g.group()) for g in re.finditer(r'\\\\section\\{.*\\}', source)] +\n",
    "                [(g.span()[0], g.span()[1], g.group()) for g in re.finditer(r'\\\\begin\\{appendix\\}', source)]\n",
    "               )\n",
    "    sections.append([len(source), len(source), 'end'])\n",
    "    \n",
    "    sections = sorted(sections, key=lambda x: x[0])\n",
    "    \n",
    "    prev_pos, prev_name = (0, 'header')\n",
    "    parsed = []\n",
    "    \n",
    "    for span, span_end, name in sections:\n",
    "\n",
    "        if span - prev_pos <= 0:\n",
    "            continue\n",
    "            \n",
    "\n",
    "        text = source[prev_pos:span]\n",
    "        if prev_pos > begin_doc:\n",
    "            text = r\"\\n\\begin{document}\" + text + r\"\\n\\end{document}\"\n",
    "        else:\n",
    "            text = text + r\"\\n\\end{document}\"\n",
    "        try:\n",
    "            #print(f\"{prev_pos}:{prev_name}-->{span}:{name} check... \", end='')\n",
    "            parsed.append(TexSoup(text, tolerance=1))  # allow not ending env\n",
    "            display(Markdown(f\"**[OK]** - *{prev_pos}*:{prev_name} &rarr; *{span}*:{name}\"))\n",
    "            # print(\"ok\")\n",
    "\n",
    "            prev_pos = span\n",
    "            prev_name = name\n",
    "        except:\n",
    "            # print(f\"error between {prev_pos} and {span}\")\n",
    "            display(Markdown(f\"**[ERR]** *{prev_pos}*:{prev_name} &rarr; *{span}*:{name}\"))\n",
    "            problematic_text.append((prev_pos, source[prev_pos:span]))\n",
    "            prev_pos = span\n",
    "            prev_name = name\n",
    "            # raise\n",
    "    return problematic_text, parsed\n",
    "\n",
    "\n",
    "def check_environment(text, offset=0):\n",
    "    \"\"\" Check environment \"\"\"\n",
    "    env = re.compile(r\"\\\\begin\\{(?P<env>.*)\\}(.*)\\\\end\\{(?P=env)\\}\", re.DOTALL)\n",
    "\n",
    "    for match in env.finditer(text):\n",
    "        beg, end = match.span()\n",
    "        beg += offset\n",
    "        end += offset\n",
    "        envname = match.groups()[0]\n",
    "        try:\n",
    "            latex.TexSoup(match.group())\n",
    "        except Exception as e:\n",
    "            display(e)\n",
    "            print(f\"Error in {envname:s} between {beg} and {end}\")\n",
    "            return match.groups()[1], beg, end"
   ]
  },
  {
   "cell_type": "raw",
   "id": "2315e835",
   "metadata": {
    "papermill": {
     "duration": 0.013232,
     "end_time": "2022-08-24T07:10:37.846484",
     "exception": false,
     "start_time": "2022-08-24T07:10:37.833252",
     "status": "completed"
    },
    "scrolled": false,
    "tags": []
   },
   "source": [
    "import importlib\n",
    "importlib.reload(latex)\n",
    "which = \"2204.03253\"\n",
    "paper_id = f'{which:s}'\n",
    "folder = f'tmp_{paper_id:s}'\n",
    "\n",
    "if not os.path.isdir(folder):\n",
    "    folder = retrieve_document_source(f\"{paper_id}\", f'tmp_{paper_id}')\n",
    "\n",
    "try:\n",
    "    doc = latex.LatexDocument(folder, validation=validation)    \n",
    "except AffiliationError as affilerror:\n",
    "    msg = f\"ArXiv:{paper_id:s} is not an MPIA paper... \" + str(affilerror)\n",
    "    print(msg)\n",
    "\n",
    "\n",
    "# Hack because sometimes author parsing does not work well\n",
    "if (len(doc.authors) != len(paper['authors'])):\n",
    "    doc._authors = paper['authors']\n",
    "if (doc.abstract) in (None, ''):\n",
    "    doc._abstract = paper['abstract']\n",
    "\n",
    "doc.comment = get_markdown_badge(paper_id) + \" _\" + paper['comments'] + \"_\"\n",
    "doc.highlight_authors_in_list(hl_list)\n",
    "\n",
    "full_md = doc.generate_markdown_text()"
   ]
  },
  {
   "cell_type": "raw",
   "id": "dd3781db",
   "metadata": {
    "papermill": {
     "duration": 0.013756,
     "end_time": "2022-08-24T07:10:37.873366",
     "exception": false,
     "start_time": "2022-08-24T07:10:37.859610",
     "status": "completed"
    },
    "scrolled": false,
    "tags": []
   },
   "source": [
    "doc"
   ]
  },
  {
   "cell_type": "raw",
   "id": "c6eed834",
   "metadata": {
    "papermill": {
     "duration": 0.012272,
     "end_time": "2022-08-24T07:10:37.898027",
     "exception": false,
     "start_time": "2022-08-24T07:10:37.885755",
     "status": "completed"
    },
    "tags": []
   },
   "source": [
    "# [check_environment(k) for k in bracket_error(doc.source)]\n",
    "_, _, a = latex.get_content_per_section(doc.source, verbose=True)\n",
    "if not a:\n",
    "    print(\"no issues per section\")\n",
    "for ak in a:\n",
    "    r = check_environment(ak[1], offset=ak[0])\n",
    "    print(r[1], r[2])\n",
    "    print(r[0])"
   ]
  },
  {
   "cell_type": "code",
   "execution_count": null,
   "id": "71ce768a",
   "metadata": {
    "papermill": {
     "duration": 0.012248,
     "end_time": "2022-08-24T07:10:37.922292",
     "exception": false,
     "start_time": "2022-08-24T07:10:37.910044",
     "status": "completed"
    },
    "tags": []
   },
   "outputs": [],
   "source": []
  }
 ],
 "metadata": {
  "kernelspec": {
   "display_name": "Python 3.10.6 64-bit",
   "language": "python",
   "name": "python3"
  },
  "language_info": {
   "codemirror_mode": {
    "name": "ipython",
    "version": 3
   },
   "file_extension": ".py",
   "mimetype": "text/x-python",
   "name": "python",
   "nbconvert_exporter": "python",
   "pygments_lexer": "ipython3",
   "version": "3.9.13"
  },
  "papermill": {
   "default_parameters": {},
   "duration": 225.403255,
   "end_time": "2022-08-24T07:10:38.253400",
   "environment_variables": {},
   "exception": null,
   "input_path": "MPIA daily digest.ipynb",
   "output_path": "log.ipynb",
   "parameters": {},
   "start_time": "2022-08-24T07:06:52.850145",
   "version": "2.4.0"
  },
  "vscode": {
   "interpreter": {
    "hash": "e7370f93d1d0cde622a1f8e1c04877d8463912d04d973331ad4851f04de6915a"
   }
  },
  "widgets": {
   "application/vnd.jupyter.widget-state+json": {
    "state": {
     "055b4f28f26b439ca57fae36fe372a91": {
      "model_module": "@jupyter-widgets/base",
      "model_module_version": "2.0.0",
      "model_name": "LayoutModel",
      "state": {
       "_model_module": "@jupyter-widgets/base",
       "_model_module_version": "2.0.0",
       "_model_name": "LayoutModel",
       "_view_count": null,
       "_view_module": "@jupyter-widgets/base",
       "_view_module_version": "2.0.0",
       "_view_name": "LayoutView",
       "align_content": null,
       "align_items": null,
       "align_self": null,
       "border_bottom": null,
       "border_left": null,
       "border_right": null,
       "border_top": null,
       "bottom": null,
       "display": null,
       "flex": null,
       "flex_flow": null,
       "grid_area": null,
       "grid_auto_columns": null,
       "grid_auto_flow": null,
       "grid_auto_rows": null,
       "grid_column": null,
       "grid_gap": null,
       "grid_row": null,
       "grid_template_areas": null,
       "grid_template_columns": null,
       "grid_template_rows": null,
       "height": null,
       "justify_content": null,
       "justify_items": null,
       "left": null,
       "margin": null,
       "max_height": null,
       "max_width": null,
       "min_height": null,
       "min_width": null,
       "object_fit": null,
       "object_position": null,
       "order": null,
       "overflow": null,
       "padding": null,
       "right": null,
       "top": null,
       "visibility": null,
       "width": null
      }
     },
     "09c216bb814b44d4a0eba9ec22f6206c": {
      "model_module": "@jupyter-widgets/controls",
      "model_module_version": "2.0.0",
      "model_name": "HTMLModel",
      "state": {
       "_dom_classes": [],
       "_model_module": "@jupyter-widgets/controls",
       "_model_module_version": "2.0.0",
       "_model_name": "HTMLModel",
       "_view_count": null,
       "_view_module": "@jupyter-widgets/controls",
       "_view_module_version": "2.0.0",
       "_view_name": "HTMLView",
       "description": "",
       "description_allow_html": false,
       "layout": "IPY_MODEL_86a2985e8c574b05b8e879121416bce8",
       "placeholder": "​",
       "style": "IPY_MODEL_7aa264bc5faa413d8853f1c115b677c5",
       "tabbable": null,
       "tooltip": null,
       "value": " 23/23 [03:18&lt;00:00, 12.48s/it]"
      }
     },
     "0dc052371bce45be94b49acc5ababbc4": {
      "model_module": "@jupyter-widgets/controls",
      "model_module_version": "2.0.0",
      "model_name": "HTMLModel",
      "state": {
       "_dom_classes": [],
       "_model_module": "@jupyter-widgets/controls",
       "_model_module_version": "2.0.0",
       "_model_name": "HTMLModel",
       "_view_count": null,
       "_view_module": "@jupyter-widgets/controls",
       "_view_module_version": "2.0.0",
       "_view_name": "HTMLView",
       "description": "",
       "description_allow_html": false,
       "layout": "IPY_MODEL_055b4f28f26b439ca57fae36fe372a91",
       "placeholder": "​",
       "style": "IPY_MODEL_778ef9f4c8024244acf30ac5be00cfc4",
       "tabbable": null,
       "tooltip": null,
       "value": "100%"
      }
     },
     "319e04b5869e4ccdb8bad6ff50e606d8": {
      "model_module": "@jupyter-widgets/base",
      "model_module_version": "2.0.0",
      "model_name": "LayoutModel",
      "state": {
       "_model_module": "@jupyter-widgets/base",
       "_model_module_version": "2.0.0",
       "_model_name": "LayoutModel",
       "_view_count": null,
       "_view_module": "@jupyter-widgets/base",
       "_view_module_version": "2.0.0",
       "_view_name": "LayoutView",
       "align_content": null,
       "align_items": null,
       "align_self": null,
       "border_bottom": null,
       "border_left": null,
       "border_right": null,
       "border_top": null,
       "bottom": null,
       "display": null,
       "flex": null,
       "flex_flow": null,
       "grid_area": null,
       "grid_auto_columns": null,
       "grid_auto_flow": null,
       "grid_auto_rows": null,
       "grid_column": null,
       "grid_gap": null,
       "grid_row": null,
       "grid_template_areas": null,
       "grid_template_columns": null,
       "grid_template_rows": null,
       "height": null,
       "justify_content": null,
       "justify_items": null,
       "left": null,
       "margin": null,
       "max_height": null,
       "max_width": null,
       "min_height": null,
       "min_width": null,
       "object_fit": null,
       "object_position": null,
       "order": null,
       "overflow": null,
       "padding": null,
       "right": null,
       "top": null,
       "visibility": null,
       "width": null
      }
     },
     "778ef9f4c8024244acf30ac5be00cfc4": {
      "model_module": "@jupyter-widgets/controls",
      "model_module_version": "2.0.0",
      "model_name": "HTMLStyleModel",
      "state": {
       "_model_module": "@jupyter-widgets/controls",
       "_model_module_version": "2.0.0",
       "_model_name": "HTMLStyleModel",
       "_view_count": null,
       "_view_module": "@jupyter-widgets/base",
       "_view_module_version": "2.0.0",
       "_view_name": "StyleView",
       "background": null,
       "description_width": "",
       "font_size": null,
       "text_color": null
      }
     },
     "7aa264bc5faa413d8853f1c115b677c5": {
      "model_module": "@jupyter-widgets/controls",
      "model_module_version": "2.0.0",
      "model_name": "HTMLStyleModel",
      "state": {
       "_model_module": "@jupyter-widgets/controls",
       "_model_module_version": "2.0.0",
       "_model_name": "HTMLStyleModel",
       "_view_count": null,
       "_view_module": "@jupyter-widgets/base",
       "_view_module_version": "2.0.0",
       "_view_name": "StyleView",
       "background": null,
       "description_width": "",
       "font_size": null,
       "text_color": null
      }
     },
     "86a2985e8c574b05b8e879121416bce8": {
      "model_module": "@jupyter-widgets/base",
      "model_module_version": "2.0.0",
      "model_name": "LayoutModel",
      "state": {
       "_model_module": "@jupyter-widgets/base",
       "_model_module_version": "2.0.0",
       "_model_name": "LayoutModel",
       "_view_count": null,
       "_view_module": "@jupyter-widgets/base",
       "_view_module_version": "2.0.0",
       "_view_name": "LayoutView",
       "align_content": null,
       "align_items": null,
       "align_self": null,
       "border_bottom": null,
       "border_left": null,
       "border_right": null,
       "border_top": null,
       "bottom": null,
       "display": null,
       "flex": null,
       "flex_flow": null,
       "grid_area": null,
       "grid_auto_columns": null,
       "grid_auto_flow": null,
       "grid_auto_rows": null,
       "grid_column": null,
       "grid_gap": null,
       "grid_row": null,
       "grid_template_areas": null,
       "grid_template_columns": null,
       "grid_template_rows": null,
       "height": null,
       "justify_content": null,
       "justify_items": null,
       "left": null,
       "margin": null,
       "max_height": null,
       "max_width": null,
       "min_height": null,
       "min_width": null,
       "object_fit": null,
       "object_position": null,
       "order": null,
       "overflow": null,
       "padding": null,
       "right": null,
       "top": null,
       "visibility": null,
       "width": null
      }
     },
     "aee21be85ad949ca950fcc4516d2a837": {
      "model_module": "@jupyter-widgets/controls",
      "model_module_version": "2.0.0",
      "model_name": "ProgressStyleModel",
      "state": {
       "_model_module": "@jupyter-widgets/controls",
       "_model_module_version": "2.0.0",
       "_model_name": "ProgressStyleModel",
       "_view_count": null,
       "_view_module": "@jupyter-widgets/base",
       "_view_module_version": "2.0.0",
       "_view_name": "StyleView",
       "bar_color": null,
       "description_width": ""
      }
     },
     "f392bbbb9dba47708775836489e8f6cc": {
      "model_module": "@jupyter-widgets/controls",
      "model_module_version": "2.0.0",
      "model_name": "HBoxModel",
      "state": {
       "_dom_classes": [],
       "_model_module": "@jupyter-widgets/controls",
       "_model_module_version": "2.0.0",
       "_model_name": "HBoxModel",
       "_view_count": null,
       "_view_module": "@jupyter-widgets/controls",
       "_view_module_version": "2.0.0",
       "_view_name": "HBoxView",
       "box_style": "",
       "children": [
        "IPY_MODEL_0dc052371bce45be94b49acc5ababbc4",
        "IPY_MODEL_ff18bee81d1f4f4aa369f3b418140ce2",
        "IPY_MODEL_09c216bb814b44d4a0eba9ec22f6206c"
       ],
       "layout": "IPY_MODEL_319e04b5869e4ccdb8bad6ff50e606d8",
       "tabbable": null,
       "tooltip": null
      }
     },
     "faf63146b3204fff8e389b041a5c6f31": {
      "model_module": "@jupyter-widgets/base",
      "model_module_version": "2.0.0",
      "model_name": "LayoutModel",
      "state": {
       "_model_module": "@jupyter-widgets/base",
       "_model_module_version": "2.0.0",
       "_model_name": "LayoutModel",
       "_view_count": null,
       "_view_module": "@jupyter-widgets/base",
       "_view_module_version": "2.0.0",
       "_view_name": "LayoutView",
       "align_content": null,
       "align_items": null,
       "align_self": null,
       "border_bottom": null,
       "border_left": null,
       "border_right": null,
       "border_top": null,
       "bottom": null,
       "display": null,
       "flex": null,
       "flex_flow": null,
       "grid_area": null,
       "grid_auto_columns": null,
       "grid_auto_flow": null,
       "grid_auto_rows": null,
       "grid_column": null,
       "grid_gap": null,
       "grid_row": null,
       "grid_template_areas": null,
       "grid_template_columns": null,
       "grid_template_rows": null,
       "height": null,
       "justify_content": null,
       "justify_items": null,
       "left": null,
       "margin": null,
       "max_height": null,
       "max_width": null,
       "min_height": null,
       "min_width": null,
       "object_fit": null,
       "object_position": null,
       "order": null,
       "overflow": null,
       "padding": null,
       "right": null,
       "top": null,
       "visibility": null,
       "width": null
      }
     },
     "ff18bee81d1f4f4aa369f3b418140ce2": {
      "model_module": "@jupyter-widgets/controls",
      "model_module_version": "2.0.0",
      "model_name": "FloatProgressModel",
      "state": {
       "_dom_classes": [],
       "_model_module": "@jupyter-widgets/controls",
       "_model_module_version": "2.0.0",
       "_model_name": "FloatProgressModel",
       "_view_count": null,
       "_view_module": "@jupyter-widgets/controls",
       "_view_module_version": "2.0.0",
       "_view_name": "ProgressView",
       "bar_style": "success",
       "description": "",
       "description_allow_html": false,
       "layout": "IPY_MODEL_faf63146b3204fff8e389b041a5c6f31",
       "max": 23.0,
       "min": 0.0,
       "orientation": "horizontal",
       "style": "IPY_MODEL_aee21be85ad949ca950fcc4516d2a837",
       "tabbable": null,
       "tooltip": null,
       "value": 23.0
      }
     }
    },
    "version_major": 2,
    "version_minor": 0
   }
  }
 },
 "nbformat": 4,
 "nbformat_minor": 5
}