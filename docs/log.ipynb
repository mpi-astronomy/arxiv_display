{
 "cells": [
  {
   "cell_type": "markdown",
   "id": "92bcb855",
   "metadata": {
    "papermill": {
     "duration": 0.003806,
     "end_time": "2024-05-10T04:09:03.927003",
     "exception": false,
     "start_time": "2024-05-10T04:09:03.923197",
     "status": "completed"
    },
    "tags": []
   },
   "source": [
    "# MPIA Arxiv on Deck 2\n",
    "\n",
    "Contains the steps to produce the paper extractions."
   ]
  },
  {
   "cell_type": "code",
   "execution_count": 1,
   "id": "3a0d6e11",
   "metadata": {
    "execution": {
     "iopub.execute_input": "2024-05-10T04:09:03.934450Z",
     "iopub.status.busy": "2024-05-10T04:09:03.933954Z",
     "iopub.status.idle": "2024-05-10T04:09:04.473812Z",
     "shell.execute_reply": "2024-05-10T04:09:04.473170Z"
    },
    "papermill": {
     "duration": 0.545443,
     "end_time": "2024-05-10T04:09:04.475511",
     "exception": false,
     "start_time": "2024-05-10T04:09:03.930068",
     "status": "completed"
    },
    "tags": []
   },
   "outputs": [],
   "source": [
    "# Imports\n",
    "import os\n",
    "from IPython.display import Markdown, display\n",
    "from tqdm.notebook import tqdm\n",
    "import warnings\n",
    "from PIL import Image \n",
    "\n",
    "# requires arxiv_on_deck_2\n",
    "\n",
    "from arxiv_on_deck_2.arxiv2 import (get_new_papers, \n",
    "                                    get_paper_from_identifier,\n",
    "                                    retrieve_document_source, \n",
    "                                    get_markdown_badge)\n",
    "from arxiv_on_deck_2 import (latex,\n",
    "                             latex_bib,\n",
    "                             mpia,\n",
    "                             highlight_authors_in_list)\n",
    "\n",
    "# Sometimes images are really big\n",
    "Image.MAX_IMAGE_PIXELS = 1000000000 "
   ]
  },
  {
   "cell_type": "code",
   "execution_count": 2,
   "id": "22aa9d44",
   "metadata": {
    "execution": {
     "iopub.execute_input": "2024-05-10T04:09:04.482765Z",
     "iopub.status.busy": "2024-05-10T04:09:04.482227Z",
     "iopub.status.idle": "2024-05-10T04:09:04.487650Z",
     "shell.execute_reply": "2024-05-10T04:09:04.487093Z"
    },
    "papermill": {
     "duration": 0.010441,
     "end_time": "2024-05-10T04:09:04.489024",
     "exception": false,
     "start_time": "2024-05-10T04:09:04.478583",
     "status": "completed"
    },
    "tags": []
   },
   "outputs": [],
   "source": [
    "# Some useful definitions.\n",
    "\n",
    "class AffiliationWarning(UserWarning):\n",
    "    pass\n",
    "\n",
    "class AffiliationError(RuntimeError):\n",
    "    pass\n",
    "\n",
    "def validation(source: str):\n",
    "    \"\"\"Raises error paper during parsing of source file\n",
    "    \n",
    "    Allows checks before parsing TeX code.\n",
    "    \n",
    "    Raises AffiliationWarning\n",
    "    \"\"\"\n",
    "    check = mpia.affiliation_verifications(source, verbose=True)\n",
    "    if check is not True:\n",
    "        raise AffiliationError(\"mpia.affiliation_verifications: \" + check)\n",
    "\n",
    "        \n",
    "warnings.simplefilter('always', AffiliationWarning)\n",
    "\n",
    "\n",
    "def get_markdown_qrcode(paper_id: str):\n",
    "    \"\"\" Generate a qrcode to the arxiv page using qrserver.com\n",
    "    \n",
    "    :param paper: Arxiv paper\n",
    "    :returns: markdown text\n",
    "    \"\"\"\n",
    "    url = r\"https://api.qrserver.com/v1/create-qr-code/?size=100x100&data=\"\n",
    "    txt = f\"\"\"<img src={url}\"https://arxiv.org/abs/{paper_id}\">\"\"\"\n",
    "    txt = '<div id=\"qrcode\">' + txt + '</div>'\n",
    "    return txt"
   ]
  },
  {
   "cell_type": "markdown",
   "id": "14bd6310",
   "metadata": {
    "papermill": {
     "duration": 0.002781,
     "end_time": "2024-05-10T04:09:04.494605",
     "exception": false,
     "start_time": "2024-05-10T04:09:04.491824",
     "status": "completed"
    },
    "tags": []
   },
   "source": [
    "## get list of arxiv paper candidates\n",
    "\n",
    "We use the MPIA mitarbeiter list webpage from mpia.de to get author names\n",
    "We then get all new papers from Arxiv and match authors"
   ]
  },
  {
   "cell_type": "code",
   "execution_count": 3,
   "id": "2645e73a",
   "metadata": {
    "execution": {
     "iopub.execute_input": "2024-05-10T04:09:04.501463Z",
     "iopub.status.busy": "2024-05-10T04:09:04.501053Z",
     "iopub.status.idle": "2024-05-10T04:09:25.058462Z",
     "shell.execute_reply": "2024-05-10T04:09:25.057706Z"
    },
    "papermill": {
     "duration": 20.562469,
     "end_time": "2024-05-10T04:09:25.059911",
     "exception": false,
     "start_time": "2024-05-10T04:09:04.497442",
     "status": "completed"
    },
    "tags": []
   },
   "outputs": [
    {
     "name": "stdout",
     "output_type": "stream",
     "text": [
      "J. Li  ->  J. Li  |  ['J. Li']\n",
      "M. Habouzit  ->  M. Habouzit  |  ['M. Habouzit']\n",
      "E. Schinnerer  ->  E. Schinnerer  |  ['E. Schinnerer']\n",
      "S. Stuber  ->  S. Stuber  |  ['S. Stuber']\n",
      "J. Liu  ->  J. Liu  |  ['J. Liu']\n",
      "M. Cecil  ->  M. Cecil  |  ['M. Cecil']\n",
      "Arxiv has 54 new papers today\n",
      "          5 with possible author matches\n"
     ]
    }
   ],
   "source": [
    "# get list from MPIA website\n",
    "# it automatically filters identified non-scientists :func:`mpia.filter_non_scientists`\n",
    "mpia_authors = mpia.get_mpia_mitarbeiter_list()\n",
    "normed_mpia_authors = [k[1] for k in mpia_authors]   # initials + fullname\n",
    "new_papers = get_new_papers()\n",
    "# add manual references\n",
    "add_paper_refs = []\n",
    "new_papers.extend([get_paper_from_identifier(k) for k in add_paper_refs])\n",
    "\n",
    "candidates = []\n",
    "for paperk in new_papers:\n",
    "    # Check author list with their initials\n",
    "    normed_author_list = [mpia.get_initials(k) for k in paperk['authors']]\n",
    "    hl_authors = highlight_authors_in_list(normed_author_list, normed_mpia_authors, verbose=True)\n",
    "    matches = [(hl, orig) for hl, orig in zip(hl_authors, paperk['authors']) if 'mark' in hl]\n",
    "    paperk['authors'] = hl_authors\n",
    "    if matches:\n",
    "        # only select paper if an author matched our list\n",
    "        candidates.append(paperk)\n",
    "print(\"\"\"Arxiv has {0:,d} new papers today\"\"\".format(len(new_papers)))        \n",
    "print(\"\"\"          {0:,d} with possible author matches\"\"\".format(len(candidates)))"
   ]
  },
  {
   "cell_type": "markdown",
   "id": "3543b34a",
   "metadata": {
    "papermill": {
     "duration": 0.003017,
     "end_time": "2024-05-10T04:09:25.066196",
     "exception": false,
     "start_time": "2024-05-10T04:09:25.063179",
     "status": "completed"
    },
    "tags": []
   },
   "source": [
    "# Parse sources and generate relevant outputs\n",
    "\n",
    "From the candidates, we do the following steps:\n",
    "* get their tarball from ArXiv (and extract data)\n",
    "* find the main .tex file: find one with \\documentclass{...} (sometimes it's non trivial)\n",
    "* Check affiliations with :func:`validation`, which uses :func:`mpia.affiliation_verifications`\n",
    "* If passing the affiliations: we parse the .tex source\n",
    "   * inject sub-documents into the main (flatten the main document)\n",
    "   * parse structure, extract information (title, abstract, authors, figures...)\n",
    "   * handles `\\graphicspath` if provided\n",
    "* Generate the .md document."
   ]
  },
  {
   "cell_type": "code",
   "execution_count": 4,
   "id": "9576b79e",
   "metadata": {
    "execution": {
     "iopub.execute_input": "2024-05-10T04:09:25.073427Z",
     "iopub.status.busy": "2024-05-10T04:09:25.072885Z",
     "iopub.status.idle": "2024-05-10T04:09:25.099621Z",
     "shell.execute_reply": "2024-05-10T04:09:25.098970Z"
    },
    "papermill": {
     "duration": 0.032889,
     "end_time": "2024-05-10T04:09:25.101984",
     "exception": false,
     "start_time": "2024-05-10T04:09:25.069095",
     "status": "completed"
    },
    "scrolled": false,
    "tags": []
   },
   "outputs": [
    {
     "data": {
      "application/vnd.jupyter.widget-view+json": {
       "model_id": "a4e5a9c6146242d2a7178936305ef64c",
       "version_major": 2,
       "version_minor": 0
      },
      "text/plain": [
       "  0%|          | 0/5 [00:00<?, ?it/s]"
      ]
     },
     "metadata": {},
     "output_type": "display_data"
    },
    {
     "name": "stdout",
     "output_type": "stream",
     "text": [
      "Retrieving document from  https://arxiv.org/e-print/\n",
      "        2405.05308\n",
      "      \n",
      "Retrieving document from  https://arxiv.org/e-print/\n",
      "        2405.05319\n",
      "      \n",
      "Retrieving document from  https://arxiv.org/e-print/\n",
      "        2405.05364\n",
      "      \n",
      "Retrieving document from  https://arxiv.org/e-print/\n",
      "        2405.05798\n",
      "      \n",
      "Retrieving document from  https://arxiv.org/e-print/\n",
      "        2405.05816\n",
      "      \n"
     ]
    },
    {
     "name": "stderr",
     "output_type": "stream",
     "text": [
      "/tmp/ipykernel_2193/3009462391.py:49: LatexWarning: \n",
      "        2405.05308\n",
      "       did not run properly\n",
      "URL can't contain control characters. '/e-print/\\n        2405.05308' (found at least '\\n')\n",
      "  warnings.warn(latex.LatexWarning(f\"{paper_id:s} did not run properly\\n\" +\n",
      "/tmp/ipykernel_2193/3009462391.py:49: LatexWarning: \n",
      "        2405.05319\n",
      "       did not run properly\n",
      "URL can't contain control characters. '/e-print/\\n        2405.05319' (found at least '\\n')\n",
      "  warnings.warn(latex.LatexWarning(f\"{paper_id:s} did not run properly\\n\" +\n",
      "/tmp/ipykernel_2193/3009462391.py:49: LatexWarning: \n",
      "        2405.05364\n",
      "       did not run properly\n",
      "URL can't contain control characters. '/e-print/\\n        2405.05364' (found at least '\\n')\n",
      "  warnings.warn(latex.LatexWarning(f\"{paper_id:s} did not run properly\\n\" +\n",
      "/tmp/ipykernel_2193/3009462391.py:49: LatexWarning: \n",
      "        2405.05798\n",
      "       did not run properly\n",
      "URL can't contain control characters. '/e-print/\\n        2405.05798' (found at least '\\n')\n",
      "  warnings.warn(latex.LatexWarning(f\"{paper_id:s} did not run properly\\n\" +\n",
      "/tmp/ipykernel_2193/3009462391.py:49: LatexWarning: \n",
      "        2405.05816\n",
      "       did not run properly\n",
      "URL can't contain control characters. '/e-print/\\n        2405.05816' (found at least '\\n')\n",
      "  warnings.warn(latex.LatexWarning(f\"{paper_id:s} did not run properly\\n\" +\n"
     ]
    }
   ],
   "source": [
    "documents = []\n",
    "failed = []\n",
    "for paper in tqdm(candidates):\n",
    "    paper_id = paper['identifier'].lower().replace('arxiv:', '')\n",
    "    \n",
    "    folder = f'tmp_{paper_id}'\n",
    "\n",
    "    try:\n",
    "        if not os.path.isdir(folder):\n",
    "            folder = retrieve_document_source(f\"{paper_id}\", f'tmp_{paper_id}')\n",
    "        \n",
    "        try:\n",
    "            doc = latex.LatexDocument(folder, validation=validation)    \n",
    "        except AffiliationError as affilerror:\n",
    "            msg = f\"ArXiv:{paper_id:s} is not an MPIA paper... \" + str(affilerror)\n",
    "            failed.append((paper, \"affiliation error: \" + str(affilerror) ))\n",
    "            continue\n",
    "        \n",
    "        # Hack because sometimes author parsing does not work well\n",
    "        if (len(doc.authors) != len(paper['authors'])):\n",
    "            doc._authors = paper['authors']\n",
    "        else:\n",
    "            # highlight authors (FIXME: doc.highlight_authors)\n",
    "            # done on arxiv paper already\n",
    "            doc._authors = highlight_authors_in_list(\n",
    "                [mpia.get_initials(k) for k in doc.authors], \n",
    "                normed_mpia_authors, verbose=True)\n",
    "        if (doc.abstract) in (None, ''):\n",
    "            doc._abstract = paper['abstract']\n",
    "            \n",
    "        doc.comment = (get_markdown_badge(paper_id) + \n",
    "                       \"<mark>Appeared on: \" + paper['date'] + \"</mark> - \")\n",
    "        if paper['comments']:\n",
    "            doc.comment += \" _\" + paper['comments'] + \"_\"\n",
    "        \n",
    "        full_md = doc.generate_markdown_text()\n",
    "        \n",
    "        full_md += get_markdown_qrcode(paper_id)\n",
    "        \n",
    "        # replace citations\n",
    "        try:\n",
    "            bibdata = latex_bib.LatexBib.from_doc(doc)\n",
    "            full_md = latex_bib.replace_citations(full_md, bibdata)\n",
    "        except Exception as e:\n",
    "            print(e)\n",
    "        \n",
    "        documents.append((paper_id, full_md))\n",
    "    except Exception as e:\n",
    "        warnings.warn(latex.LatexWarning(f\"{paper_id:s} did not run properly\\n\" +\n",
    "                                         str(e)\n",
    "                                        ))\n",
    "        failed.append((paper, \"latex error \" + str(e)))"
   ]
  },
  {
   "cell_type": "markdown",
   "id": "2505a25c",
   "metadata": {
    "papermill": {
     "duration": 0.003159,
     "end_time": "2024-05-10T04:09:25.108511",
     "exception": false,
     "start_time": "2024-05-10T04:09:25.105352",
     "status": "completed"
    },
    "tags": []
   },
   "source": [
    "### Export the logs\n",
    "\n",
    "Throughout, we also keep track of the logs per paper. see `logs-{today date}.md` "
   ]
  },
  {
   "cell_type": "code",
   "execution_count": 5,
   "id": "d733828a",
   "metadata": {
    "execution": {
     "iopub.execute_input": "2024-05-10T04:09:25.115979Z",
     "iopub.status.busy": "2024-05-10T04:09:25.115521Z",
     "iopub.status.idle": "2024-05-10T04:09:25.130664Z",
     "shell.execute_reply": "2024-05-10T04:09:25.130022Z"
    },
    "papermill": {
     "duration": 0.020437,
     "end_time": "2024-05-10T04:09:25.132015",
     "exception": false,
     "start_time": "2024-05-10T04:09:25.111578",
     "status": "completed"
    },
    "scrolled": false,
    "tags": []
   },
   "outputs": [
    {
     "data": {
      "text/markdown": [
       "## Successful papers"
      ],
      "text/plain": [
       "<IPython.core.display.Markdown object>"
      ]
     },
     "metadata": {},
     "output_type": "display_data"
    },
    {
     "data": {
      "text/markdown": [
       "## Failed papers"
      ],
      "text/plain": [
       "<IPython.core.display.Markdown object>"
      ]
     },
     "metadata": {},
     "output_type": "display_data"
    },
    {
     "data": {
      "text/markdown": [
       "\n",
       "|||\n",
       "|---:|:---|\n",
       "| [![arXiv](https://img.shields.io/badge/arXiv-\n",
       "        arXiv:2405.05308\n",
       "      -b31b1b.svg)](https://arxiv.org/abs/\n",
       "        arXiv:2405.05308\n",
       "      ) | **The Variation of the Galaxy-Wide IMF for Low-Mass Stars: Modeling and Observational Insights**  |\n",
       "|| Z. Yan, et al. -- incl., <mark>J. Li</mark> |\n",
       "|*Appeared on*| *2024-05-10*|\n",
       "|*Comments*| *15 pages, 5 figures, accepted for publication in The Astrophysical Journal*|\n",
       "|**Abstract**|            The Stellar Initial Mass Function (IMF) characterizes the mass distribution of newly formed stars in various cosmic environments, serving as a fundamental assumption in astrophysical research. Recent findings challenge the prevalent notion of a universal and static IMF, proposing instead that the IMF's shape is contingent upon the star formation environment. In this study, we analyze the galaxy-wide variation of the IMF for low-mass stars in both dwarf and massive galaxies with diverse observational methods. Despite systematic discrepancies between different approaches, an IMF model with a metallicity-dependent slope for the low-mass stars aligns with the majority of observations, indicating a high degree of uniformity in the star formation processes across the universe. We also emphasize the need for a more comprehensive understanding of the variation of the low-mass IMF, considering measurement biases and factors beyond metallicity.         |\n",
       "|<p style=\"color:red\"> **ERROR** </p>| <p style=\"color:red\">latex error URL can't contain control characters. '/e-print/\\n        2405.05308' (found at least '\\n')</p> |"
      ],
      "text/plain": [
       "<IPython.core.display.Markdown object>"
      ]
     },
     "metadata": {},
     "output_type": "display_data"
    },
    {
     "data": {
      "text/markdown": [
       "\n",
       "|||\n",
       "|---:|:---|\n",
       "| [![arXiv](https://img.shields.io/badge/arXiv-\n",
       "        arXiv:2405.05319\n",
       "      -b31b1b.svg)](https://arxiv.org/abs/\n",
       "        arXiv:2405.05319\n",
       "      ) | **Is the James Webb Space Telescope detecting too many AGN candidates?**  |\n",
       "|| <mark>M. Habouzit</mark> |\n",
       "|*Appeared on*| *2024-05-10*|\n",
       "|*Comments*| *11 pages, submitted to the journal*|\n",
       "|**Abstract**|            In less than two years of operation, the James Webb Space Telescope (JWST) has already accelerated significantly our quest to identify active massive black holes (BHs) in the first billion years of the Universe's history. At the time of writing, about 50 AGN detections and candidates have been identified through spectroscopy, photometry, and/or morphology. Broad-line AGN are about a hundred times more numerous than the faint end of the UV-bright quasar population at z~5-6. In this paper, we compare the observational constraints on the abundance of these AGN at z~5 to the populations of AGN produced in large-scale cosmological simulations. Assuming a null fraction of obscured simulated AGN, we find that while some simulations produce more AGN than discovered so far, some others produce a similar abundance or even fewer AGN in the bolometric luminosity range probed by JWST. Keeping in mind the large uncertainty on the constraints, we discuss the implications for the theoretical modeling of BH formation and evolution in case similar constraints continue to accumulate. At the redshift of interest, the simulated AGN populations diverge the most at Lbol~1e44 erg/s (by more than a dex in the bolometric luminosity function). This regime is most affected by incompleteness in JWST surveys. However, it holds significant potential for constraining the physical processes determining the assembly of BHs (e.g., seeding, feedback from supernova and AGN) and the current abundance of broad-line AGN with >1e44.5 erg/s.         |\n",
       "|<p style=\"color:red\"> **ERROR** </p>| <p style=\"color:red\">latex error URL can't contain control characters. '/e-print/\\n        2405.05319' (found at least '\\n')</p> |"
      ],
      "text/plain": [
       "<IPython.core.display.Markdown object>"
      ]
     },
     "metadata": {},
     "output_type": "display_data"
    },
    {
     "data": {
      "text/markdown": [
       "\n",
       "|||\n",
       "|---:|:---|\n",
       "| [![arXiv](https://img.shields.io/badge/arXiv-\n",
       "        arXiv:2405.05364\n",
       "      -b31b1b.svg)](https://arxiv.org/abs/\n",
       "        arXiv:2405.05364\n",
       "      ) | **Do spiral arms enhance star formation efficiency?**  |\n",
       "|| M. Querejeta, et al. -- incl., <mark>E. Schinnerer</mark>, <mark>S. Stuber</mark> |\n",
       "|*Appeared on*| *2024-05-10*|\n",
       "|*Comments*| *26 pages, 16 figures. Accepted for publication in A&A*|\n",
       "|**Abstract**|            Spiral arms are some of the most spectacular features in disc galaxies, and also present in our own Milky Way. It has been argued that star formation should proceed more efficiently in spiral arms as a result of gas compression. Yet, observational studies have so far yielded contradictory results. Here we examine arm/interarm surface density contrasts at ~100 pc resolution in 28 spiral galaxies from the PHANGS survey. We find that the arm/interarm contrast in stellar mass surface density (Sigma_*) is very modest, typically a few tens of percent. This is much smaller than the contrasts measured for molecular gas (Sigma_mol) or star formation rate (Sigma_SFR) surface density, which typically reach a factor of ~2-3. Yet, Sigma_mol and Sigma_SFR contrasts show a significant correlation with the enhancement in Sigma_*, suggesting that the small stellar contrast largely dictates the stronger accumulation of gas and star formation. All these contrasts increase for grand-design spirals compared to multi-armed and flocculent systems (and for galaxies with high stellar mass). The median star formation efficiency (SFE) of the molecular gas is 16% higher in spiral arms than in interarm regions, with a large scatter, and the contrast increases significantly (median SFE contrast 2.34) for regions of particularly enhanced stellar contrast (Sigma_* contrast >1.97). The molecular-to-atomic gas ratio (Sigma_mol/Sigma_atom) is higher in spiral arms, pointing to a transformation of atomic to molecular gas. In conclusion, the boost in the star formation efficiency of molecular gas in spiral arms is generally modest or absent, except for locations with exceptionally large stellar contrasts. (abridged)         |\n",
       "|<p style=\"color:red\"> **ERROR** </p>| <p style=\"color:red\">latex error URL can't contain control characters. '/e-print/\\n        2405.05364' (found at least '\\n')</p> |"
      ],
      "text/plain": [
       "<IPython.core.display.Markdown object>"
      ]
     },
     "metadata": {},
     "output_type": "display_data"
    },
    {
     "data": {
      "text/markdown": [
       "\n",
       "|||\n",
       "|---:|:---|\n",
       "| [![arXiv](https://img.shields.io/badge/arXiv-\n",
       "        arXiv:2405.05798\n",
       "      -b31b1b.svg)](https://arxiv.org/abs/\n",
       "        arXiv:2405.05798\n",
       "      ) | **A PAge-like Unified Dark Fluid Model**  |\n",
       "|| J. Wang, et al. -- incl., <mark>J. Liu</mark> |\n",
       "|*Appeared on*| *2024-05-10*|\n",
       "|*Comments*| *6 pages, 4 figures, 1 table*|\n",
       "|**Abstract**|            The unified dark fluid model unifies dark matter and dark energy into a single component, providing an alternative and more concise framework for interpreting cosmological observations. We introduce a PAge-like Unified Dark Fluid (PUDF) model based on the PAge approximation (Huang 2020), which is parameterized by the age of the universe and an $\\eta$ parameter indicating the deviation from Einstein-De Sitter Universe. The PUDF model shares many similar features of the standard Lambda cold dark matter ($\\Lambda$CDM) model and can effectively describe the large-scale structure formation and late-time cosmic acceleration. We constrain the PUDF model with the Planck 2018 cosmic microwave background anisotropies, baryon acoustic oscillation measurements including those from the most recent DESI 2024, the Pantheon+ sample of Type Ia supernovae, and the Cosmic Chronometers compilation. Although the PUDF performs well in fitting all the cosmological datasets, the joint analysis of the data still favors the $\\Lambda$CDM model over the PUDF model, according to the Bayesian evidence of model comparison.         |\n",
       "|<p style=\"color:red\"> **ERROR** </p>| <p style=\"color:red\">latex error URL can't contain control characters. '/e-print/\\n        2405.05798' (found at least '\\n')</p> |"
      ],
      "text/plain": [
       "<IPython.core.display.Markdown object>"
      ]
     },
     "metadata": {},
     "output_type": "display_data"
    },
    {
     "data": {
      "text/markdown": [
       "\n",
       "|||\n",
       "|---:|:---|\n",
       "| [![arXiv](https://img.shields.io/badge/arXiv-\n",
       "        arXiv:2405.05816\n",
       "      -b31b1b.svg)](https://arxiv.org/abs/\n",
       "        arXiv:2405.05816\n",
       "      ) | **Time-dependent long-term hydrodynamic simulations of the inner protoplanetary disk III: The influence of photoevaporation**  |\n",
       "|| <mark>M. Cecil</mark>, L. Gehrig, D. Steiner |\n",
       "|*Appeared on*| *2024-05-10*|\n",
       "|*Comments*| *15 pages, 10 figures, to be published in Astronomy & Astrophysics*|\n",
       "|**Abstract**|            The final stages of a protoplanetary disk are essential for our understanding of the formation and evolution of planets. Photoevaporation is an important mechanism that contributes to the dispersal of an accretion disk and has significant consequences for the disk's lifetime. However, the combined effects of photoevaporation and star-disk interaction have not been investigated in previous studies. We combined an implicit disk evolution model with a photoevaporative mass-loss profile. By including the innermost disk regions down to 0.01 AU, we could calculate the star-disk interaction, the stellar spin evolution, and the transition from an accreting disk to the propeller regime self-consistently. Starting from an early Class II star-disk system, we calculated the long-term evolution of the system until the disk becomes almost completely dissolved. Photoevaporation has a significant effect on disk structure and evolution. The radial extent of the dead zone decreases, and the number of episodic accretion events (outbursts) is reduced by high stellar X-ray luminosities. Reasonable accretion rates in combination with photoevaporative gaps are possible for a dead zone that is still massive enough to develop episodic accretion events. Furthermore, the stellar spin evolution during the Class II evolution is less affected by the star-disk interaction in the case of high X-ray luminosities. Our results suggest that the formation of planets, especially habitable planets, in the dead zone is strongly impaired in the case of strong X-ray luminosities. Additionally, the importance of the star-disk interaction during the Class II phase with respect to the stellar spin evolution is reduced.         |\n",
       "|<p style=\"color:red\"> **ERROR** </p>| <p style=\"color:red\">latex error URL can't contain control characters. '/e-print/\\n        2405.05816' (found at least '\\n')</p> |"
      ],
      "text/plain": [
       "<IPython.core.display.Markdown object>"
      ]
     },
     "metadata": {},
     "output_type": "display_data"
    }
   ],
   "source": [
    "import datetime\n",
    "today = str(datetime.date.today())\n",
    "logfile = f\"_build/html/logs/log-{today}.md\"\n",
    "\n",
    "\n",
    "with open(logfile, 'w') as logs:\n",
    "    # Success\n",
    "    logs.write(f'# Arxiv on Deck 2: Logs - {today}\\n\\n')\n",
    "    logs.write(\"\"\"* Arxiv had {0:,d} new papers\\n\"\"\".format(len(new_papers)))\n",
    "    logs.write(\"\"\"    * {0:,d} with possible author matches\\n\\n\"\"\".format(len(candidates)))\n",
    "    logs.write(\"## Sucessful papers\\n\\n\")\n",
    "    display(Markdown(\"## Successful papers\"))\n",
    "    success = [k[0] for k in documents]\n",
    "    for candid in candidates:\n",
    "        if candid['identifier'].split(':')[-1] in success:\n",
    "            display(candid)\n",
    "            logs.write(candid.generate_markdown_text() + '\\n\\n')\n",
    "\n",
    "    ## failed\n",
    "    logs.write(\"## Failed papers\\n\\n\")\n",
    "    display(Markdown(\"## Failed papers\"))\n",
    "    failed = sorted(failed, key=lambda x: x[1])\n",
    "    current_reason = \"\"\n",
    "    for paper, reason in failed:\n",
    "        if 'affiliation' in reason:\n",
    "            color = 'green'\n",
    "        else:\n",
    "            color = 'red'\n",
    "        data = Markdown(\n",
    "                paper.generate_markdown_text() + \n",
    "                f'\\n|<p style=\"color:{color:s}\"> **ERROR** </p>| <p style=\"color:{color:s}\">{reason:s}</p> |'\n",
    "               )\n",
    "        if reason != current_reason:\n",
    "            logs.write(f'### {reason:s} \\n\\n')\n",
    "            current_reason = reason\n",
    "        logs.write(data.data + '\\n\\n')\n",
    "        \n",
    "        # only display here the important errors (all in logs)\n",
    "        # if color in ('red',):\n",
    "        display(data)"
   ]
  },
  {
   "cell_type": "markdown",
   "id": "472d20ee",
   "metadata": {
    "papermill": {
     "duration": 0.003819,
     "end_time": "2024-05-10T04:09:25.140620",
     "exception": false,
     "start_time": "2024-05-10T04:09:25.136801",
     "status": "completed"
    },
    "tags": []
   },
   "source": [
    "## Export documents\n",
    "\n",
    "We now write the .md files and export relevant images"
   ]
  },
  {
   "cell_type": "code",
   "execution_count": 6,
   "id": "d426aed9",
   "metadata": {
    "execution": {
     "iopub.execute_input": "2024-05-10T04:09:25.149875Z",
     "iopub.status.busy": "2024-05-10T04:09:25.149393Z",
     "iopub.status.idle": "2024-05-10T04:09:25.156144Z",
     "shell.execute_reply": "2024-05-10T04:09:25.155516Z"
    },
    "papermill": {
     "duration": 0.013199,
     "end_time": "2024-05-10T04:09:25.157632",
     "exception": false,
     "start_time": "2024-05-10T04:09:25.144433",
     "status": "completed"
    },
    "tags": []
   },
   "outputs": [],
   "source": [
    "def export_markdown_summary(md: str, md_fname:str, directory: str):\n",
    "    \"\"\"Export MD document and associated relevant images\"\"\"\n",
    "    import os\n",
    "    import shutil\n",
    "    import re\n",
    "\n",
    "    if (os.path.exists(directory) and not os.path.isdir(directory)):\n",
    "        raise RuntimeError(f\"a non-directory file exists with name {directory:s}\")\n",
    "\n",
    "    if (not os.path.exists(directory)):\n",
    "        print(f\"creating directory {directory:s}\")\n",
    "        os.mkdir(directory)\n",
    "\n",
    "    fig_fnames = (re.compile(r'\\[Fig.*\\]\\((.*)\\)').findall(md) + \n",
    "                  re.compile(r'\\<img src=\"([^>\\s]*)\"[^>]*/>').findall(md))\n",
    "    for fname in fig_fnames:\n",
    "        if 'http' in fname:\n",
    "            # No need to copy online figures\n",
    "            continue\n",
    "        destdir = os.path.join(directory, os.path.dirname(fname))\n",
    "        destfname = os.path.join(destdir, os.path.basename(fname))\n",
    "        try:\n",
    "            os.makedirs(destdir)\n",
    "        except FileExistsError:\n",
    "            pass\n",
    "        shutil.copy(fname, destfname)\n",
    "    with open(os.path.join(directory, md_fname), 'w') as fout:\n",
    "        fout.write(md)\n",
    "    print(\"exported in \", os.path.join(directory, md_fname))\n",
    "    [print(\"    + \" + os.path.join(directory,fk)) for fk in fig_fnames]"
   ]
  },
  {
   "cell_type": "code",
   "execution_count": 7,
   "id": "014d04a4",
   "metadata": {
    "execution": {
     "iopub.execute_input": "2024-05-10T04:09:25.166697Z",
     "iopub.status.busy": "2024-05-10T04:09:25.166465Z",
     "iopub.status.idle": "2024-05-10T04:09:25.169620Z",
     "shell.execute_reply": "2024-05-10T04:09:25.169063Z"
    },
    "papermill": {
     "duration": 0.009317,
     "end_time": "2024-05-10T04:09:25.170917",
     "exception": false,
     "start_time": "2024-05-10T04:09:25.161600",
     "status": "completed"
    },
    "tags": []
   },
   "outputs": [],
   "source": [
    "for paper_id, md in documents:\n",
    "    export_markdown_summary(md, f\"{paper_id:s}.md\", '_build/html/')"
   ]
  },
  {
   "cell_type": "markdown",
   "id": "f087a0a7",
   "metadata": {
    "papermill": {
     "duration": 0.004,
     "end_time": "2024-05-10T04:09:25.179095",
     "exception": false,
     "start_time": "2024-05-10T04:09:25.175095",
     "status": "completed"
    },
    "tags": []
   },
   "source": [
    "## Display the papers\n",
    "\n",
    "Not necessary but allows for a quick check."
   ]
  },
  {
   "cell_type": "code",
   "execution_count": 8,
   "id": "fd25f625",
   "metadata": {
    "execution": {
     "iopub.execute_input": "2024-05-10T04:09:25.188297Z",
     "iopub.status.busy": "2024-05-10T04:09:25.187656Z",
     "iopub.status.idle": "2024-05-10T04:09:25.191246Z",
     "shell.execute_reply": "2024-05-10T04:09:25.190710Z"
    },
    "papermill": {
     "duration": 0.009712,
     "end_time": "2024-05-10T04:09:25.192628",
     "exception": false,
     "start_time": "2024-05-10T04:09:25.182916",
     "status": "completed"
    },
    "scrolled": false,
    "tags": []
   },
   "outputs": [],
   "source": [
    "[display(Markdown(k[1])) for k in documents];"
   ]
  },
  {
   "cell_type": "markdown",
   "id": "873873a4",
   "metadata": {
    "papermill": {
     "duration": 0.003978,
     "end_time": "2024-05-10T04:09:25.200660",
     "exception": false,
     "start_time": "2024-05-10T04:09:25.196682",
     "status": "completed"
    },
    "tags": []
   },
   "source": [
    "# Create HTML index"
   ]
  },
  {
   "cell_type": "code",
   "execution_count": 9,
   "id": "cf665672",
   "metadata": {
    "execution": {
     "iopub.execute_input": "2024-05-10T04:09:25.209827Z",
     "iopub.status.busy": "2024-05-10T04:09:25.209334Z",
     "iopub.status.idle": "2024-05-10T04:09:25.220037Z",
     "shell.execute_reply": "2024-05-10T04:09:25.219468Z"
    },
    "papermill": {
     "duration": 0.016822,
     "end_time": "2024-05-10T04:09:25.221378",
     "exception": false,
     "start_time": "2024-05-10T04:09:25.204556",
     "status": "completed"
    },
    "tags": []
   },
   "outputs": [
    {
     "name": "stdout",
     "output_type": "stream",
     "text": [
      "414  publications files modified in the last 7 days.\n"
     ]
    }
   ],
   "source": [
    "from datetime import datetime, timedelta, timezone\n",
    "from glob import glob\n",
    "import os\n",
    "\n",
    "files = glob('_build/html/*.md')\n",
    "days = 7\n",
    "now = datetime.today()\n",
    "res = []\n",
    "for fk in files:\n",
    "    stat_result = os.stat(fk).st_ctime\n",
    "    modified = datetime.fromtimestamp(stat_result, tz=timezone.utc).replace(tzinfo=None)\n",
    "    delta = now.today() - modified\n",
    "    if delta <= timedelta(days=days):\n",
    "        res.append((delta.seconds, fk))\n",
    "res = [k[1] for k in reversed(sorted(res, key=lambda x:x[1]))]\n",
    "npub = len(res)\n",
    "print(len(res), f\" publications files modified in the last {days:d} days.\")\n",
    "# [ print('\\t', k) for k in res ];"
   ]
  },
  {
   "cell_type": "code",
   "execution_count": 10,
   "id": "015de740",
   "metadata": {
    "execution": {
     "iopub.execute_input": "2024-05-10T04:09:25.230701Z",
     "iopub.status.busy": "2024-05-10T04:09:25.230448Z",
     "iopub.status.idle": "2024-05-10T04:09:25.254071Z",
     "shell.execute_reply": "2024-05-10T04:09:25.253482Z"
    },
    "papermill": {
     "duration": 0.029791,
     "end_time": "2024-05-10T04:09:25.255445",
     "exception": false,
     "start_time": "2024-05-10T04:09:25.225654",
     "status": "completed"
    },
    "tags": []
   },
   "outputs": [
    {
     "name": "stdout",
     "output_type": "stream",
     "text": [
      "2  publications in the last 7 days.\n"
     ]
    }
   ],
   "source": [
    "import datetime\n",
    "from glob import glob\n",
    "\n",
    "def get_last_n_days(lst, days=1):\n",
    "    \"\"\" Get the documents from the last n days \"\"\"\n",
    "    sorted_lst = sorted(lst, key=lambda x: x[1], reverse=True)\n",
    "    for fname, date in sorted_lst:\n",
    "        if date >= str(datetime.date.today() - datetime.timedelta(days=days)):\n",
    "            yield fname\n",
    "\n",
    "def extract_appearance_dates(lst_file):\n",
    "    dates = []\n",
    "\n",
    "    def get_date(line):\n",
    "        return line\\\n",
    "            .split('Appeared on:')[-1]\\\n",
    "            .split('</mark>')[0].strip()\n",
    "\n",
    "    for fname in lst:\n",
    "        with open(fname, 'r') as f:\n",
    "            found_date = False\n",
    "            for line in f:\n",
    "                if not found_date:\n",
    "                    if \"Appeared on\" in line:\n",
    "                        found_date = True\n",
    "                        dates.append((fname, get_date(line)))\n",
    "                else:\n",
    "                    break\n",
    "    return dates\n",
    "\n",
    "from glob import glob\n",
    "lst = glob('_build/html/*md')\n",
    "days = 7\n",
    "dates = extract_appearance_dates(lst)\n",
    "res = list(get_last_n_days(dates, days))\n",
    "npub = len(res)\n",
    "print(len(res), f\" publications in the last {days:d} days.\")"
   ]
  },
  {
   "cell_type": "code",
   "execution_count": 11,
   "id": "52ca0208",
   "metadata": {
    "execution": {
     "iopub.execute_input": "2024-05-10T04:09:25.265137Z",
     "iopub.status.busy": "2024-05-10T04:09:25.264716Z",
     "iopub.status.idle": "2024-05-10T04:09:25.269781Z",
     "shell.execute_reply": "2024-05-10T04:09:25.269229Z"
    },
    "papermill": {
     "duration": 0.011301,
     "end_time": "2024-05-10T04:09:25.271049",
     "exception": false,
     "start_time": "2024-05-10T04:09:25.259748",
     "status": "completed"
    },
    "scrolled": false,
    "tags": []
   },
   "outputs": [],
   "source": [
    "def create_carousel(npub=4):\n",
    "    \"\"\" Generate the HTML code for a carousel with `npub` slides \"\"\"\n",
    "    carousel = [\"\"\"  <div class=\"carousel\" \"\"\",\n",
    "                \"\"\"       data-flickity='{ \"autoPlay\": 10000, \"adaptiveHeight\": true, \"resize\": true, \"wrapAround\": true, \"pauseAutoPlayOnHover\": true, \"groupCells\": 1 }' id=\"asyncTypeset\">\"\"\"\n",
    "                ]\n",
    "    \n",
    "    item_str = \"\"\"    <div class=\"carousel-cell\"> <div id=\"slide{k}\" class=\"md_view\">Content {k}</div> </div>\"\"\"\n",
    "    for k in range(1, npub + 1):\n",
    "        carousel.append(item_str.format(k=k))\n",
    "    carousel.append(\"  </div>\")\n",
    "    return '\\n'.join(carousel)\n",
    "\n",
    "def create_grid(npub=4):\n",
    "    \"\"\" Generate the HTML code for a flat grid with `npub` slides \"\"\"\n",
    "    grid = [\"\"\"  <div class=\"grid\"> \"\"\",\n",
    "                ]\n",
    "    \n",
    "    item_str = \"\"\"    <div class=\"grid-item\"> <div id=\"slide{k}\" class=\"md_view\">Content {k}</div> </div>\"\"\"\n",
    "    for k in range(1, npub + 1):\n",
    "        grid.append(item_str.format(k=k))\n",
    "    grid.append(\"  </div>\")\n",
    "    return '\\n'.join(grid)"
   ]
  },
  {
   "cell_type": "code",
   "execution_count": 12,
   "id": "a6eac5b6",
   "metadata": {
    "execution": {
     "iopub.execute_input": "2024-05-10T04:09:25.280654Z",
     "iopub.status.busy": "2024-05-10T04:09:25.280386Z",
     "iopub.status.idle": "2024-05-10T04:09:25.285815Z",
     "shell.execute_reply": "2024-05-10T04:09:25.285192Z"
    },
    "papermill": {
     "duration": 0.011864,
     "end_time": "2024-05-10T04:09:25.287215",
     "exception": false,
     "start_time": "2024-05-10T04:09:25.275351",
     "status": "completed"
    },
    "scrolled": false,
    "tags": []
   },
   "outputs": [],
   "source": [
    "carousel = create_carousel(npub)\n",
    "docs = ', '.join(['\"{0:s}\"'.format(k.split('/')[-1]) for k in res])\n",
    "slides = ', '.join([f'\"slide{k}\"' for k in range(1, npub + 1)])\n",
    "\n",
    "with open(\"daily_template.html\", \"r\") as tpl:\n",
    "    page = tpl.read()\n",
    "    page = page.replace(\"{%-- carousel:s --%}\", carousel)\\\n",
    "               .replace(\"{%-- suptitle:s --%}\",  \"7-day archives\" )\\\n",
    "               .replace(\"{%-- docs:s --%}\", docs)\\\n",
    "               .replace(\"{%-- slides:s --%}\", slides)\n",
    "    \n",
    "with open(\"_build/html/index_7days.html\", 'w') as fout:\n",
    "    fout.write(page)"
   ]
  },
  {
   "cell_type": "code",
   "execution_count": 13,
   "id": "adc1a1ec",
   "metadata": {
    "execution": {
     "iopub.execute_input": "2024-05-10T04:09:25.296743Z",
     "iopub.status.busy": "2024-05-10T04:09:25.296490Z",
     "iopub.status.idle": "2024-05-10T04:09:25.303813Z",
     "shell.execute_reply": "2024-05-10T04:09:25.303159Z"
    },
    "papermill": {
     "duration": 0.013872,
     "end_time": "2024-05-10T04:09:25.305269",
     "exception": false,
     "start_time": "2024-05-10T04:09:25.291397",
     "status": "completed"
    },
    "tags": []
   },
   "outputs": [
    {
     "name": "stdout",
     "output_type": "stream",
     "text": [
      "0  publications in the last day.\n"
     ]
    }
   ],
   "source": [
    "# redo for today\n",
    "days = 1\n",
    "res = list(get_last_n_days(dates, days))\n",
    "npub = len(res)\n",
    "print(len(res), f\" publications in the last day.\")\n",
    "\n",
    "carousel = create_carousel(npub)\n",
    "docs = ', '.join(['\"{0:s}\"'.format(k.split('/')[-1]) for k in res])\n",
    "slides = ', '.join([f'\"slide{k}\"' for k in range(1, npub + 1)])\n",
    "\n",
    "with open(\"daily_template.html\", \"r\") as tpl:\n",
    "    page = tpl.read()\n",
    "    page = page.replace(\"{%-- carousel:s --%}\", carousel)\\\n",
    "               .replace(\"{%-- suptitle:s --%}\",  \"Daily\" )\\\n",
    "               .replace(\"{%-- docs:s --%}\", docs)\\\n",
    "               .replace(\"{%-- slides:s --%}\", slides)\n",
    "    \n",
    "# print(carousel, docs, slides)\n",
    "# print(page)\n",
    "with open(\"_build/html/index_daily.html\", 'w') as fout:\n",
    "    fout.write(page)"
   ]
  },
  {
   "cell_type": "code",
   "execution_count": 14,
   "id": "00eece82",
   "metadata": {
    "execution": {
     "iopub.execute_input": "2024-05-10T04:09:25.315137Z",
     "iopub.status.busy": "2024-05-10T04:09:25.314721Z",
     "iopub.status.idle": "2024-05-10T04:09:25.321592Z",
     "shell.execute_reply": "2024-05-10T04:09:25.320992Z"
    },
    "papermill": {
     "duration": 0.0133,
     "end_time": "2024-05-10T04:09:25.322927",
     "exception": false,
     "start_time": "2024-05-10T04:09:25.309627",
     "status": "completed"
    },
    "scrolled": false,
    "tags": []
   },
   "outputs": [
    {
     "name": "stdout",
     "output_type": "stream",
     "text": [
      "6  6 publications selected.\n"
     ]
    }
   ],
   "source": [
    "# Create the flat grid of the last N papers (fixed number regardless of dates)\n",
    "from itertools import islice \n",
    "\n",
    "npub = 6\n",
    "res = [k[0] for k in (islice(reversed(sorted(dates, key=lambda x: x[1])), 6))]\n",
    "print(len(res), f\" {npub} publications selected.\")\n",
    "\n",
    "grid = create_grid(npub)\n",
    "docs = ', '.join(['\"{0:s}\"'.format(k.split('/')[-1]) for k in res])\n",
    "slides = ', '.join([f'\"slide{k}\"' for k in range(1, npub + 1)])\n",
    "\n",
    "with open(\"grid_template.html\", \"r\") as tpl:\n",
    "    page = tpl.read()\n",
    "    page = page.replace(\"{%-- grid-content:s --%}\", grid)\\\n",
    "               .replace(\"{%-- suptitle:s --%}\",  f\"Last {npub:,d} papers\" )\\\n",
    "               .replace(\"{%-- docs:s --%}\", docs)\\\n",
    "               .replace(\"{%-- slides:s --%}\", slides)\n",
    "    \n",
    "# print(grid, docs, slides)\n",
    "# print(page)\n",
    "with open(\"_build/html/index_npub_grid.html\", 'w') as fout:\n",
    "    fout.write(page)"
   ]
  }
 ],
 "metadata": {
  "kernelspec": {
   "display_name": "Python 3 (ipykernel)",
   "language": "python",
   "name": "python3"
  },
  "language_info": {
   "codemirror_mode": {
    "name": "ipython",
    "version": 3
   },
   "file_extension": ".py",
   "mimetype": "text/x-python",
   "name": "python",
   "nbconvert_exporter": "python",
   "pygments_lexer": "ipython3",
   "version": "3.9.19"
  },
  "papermill": {
   "default_parameters": {},
   "duration": 22.544008,
   "end_time": "2024-05-10T04:09:25.544262",
   "environment_variables": {},
   "exception": null,
   "input_path": "MPIA daily digest.ipynb",
   "output_path": "log.ipynb",
   "parameters": {},
   "start_time": "2024-05-10T04:09:03.000254",
   "version": "2.6.0"
  },
  "vscode": {
   "interpreter": {
    "hash": "aee8b7b246df8f9039afb4144a1f6fd8d2ca17a180786b69acc140d282b71a49"
   }
  },
  "widgets": {
   "application/vnd.jupyter.widget-state+json": {
    "state": {
     "02c121522cbb406fb7bec9e2a988da07": {
      "model_module": "@jupyter-widgets/controls",
      "model_module_version": "2.0.0",
      "model_name": "HTMLModel",
      "state": {
       "_dom_classes": [],
       "_model_module": "@jupyter-widgets/controls",
       "_model_module_version": "2.0.0",
       "_model_name": "HTMLModel",
       "_view_count": null,
       "_view_module": "@jupyter-widgets/controls",
       "_view_module_version": "2.0.0",
       "_view_name": "HTMLView",
       "description": "",
       "description_allow_html": false,
       "layout": "IPY_MODEL_d209b048921f4ce1a1ecaec629798ca3",
       "placeholder": "​",
       "style": "IPY_MODEL_8ba6e27fe30c46dfa6e281741b5d9657",
       "tabbable": null,
       "tooltip": null,
       "value": " 5/5 [00:00&lt;00:00, 424.42it/s]"
      }
     },
     "467f1aa962b74d15a38acbfbc12e90c4": {
      "model_module": "@jupyter-widgets/controls",
      "model_module_version": "2.0.0",
      "model_name": "ProgressStyleModel",
      "state": {
       "_model_module": "@jupyter-widgets/controls",
       "_model_module_version": "2.0.0",
       "_model_name": "ProgressStyleModel",
       "_view_count": null,
       "_view_module": "@jupyter-widgets/base",
       "_view_module_version": "2.0.0",
       "_view_name": "StyleView",
       "bar_color": null,
       "description_width": ""
      }
     },
     "8ba6e27fe30c46dfa6e281741b5d9657": {
      "model_module": "@jupyter-widgets/controls",
      "model_module_version": "2.0.0",
      "model_name": "HTMLStyleModel",
      "state": {
       "_model_module": "@jupyter-widgets/controls",
       "_model_module_version": "2.0.0",
       "_model_name": "HTMLStyleModel",
       "_view_count": null,
       "_view_module": "@jupyter-widgets/base",
       "_view_module_version": "2.0.0",
       "_view_name": "StyleView",
       "background": null,
       "description_width": "",
       "font_size": null,
       "text_color": null
      }
     },
     "a4e5a9c6146242d2a7178936305ef64c": {
      "model_module": "@jupyter-widgets/controls",
      "model_module_version": "2.0.0",
      "model_name": "HBoxModel",
      "state": {
       "_dom_classes": [],
       "_model_module": "@jupyter-widgets/controls",
       "_model_module_version": "2.0.0",
       "_model_name": "HBoxModel",
       "_view_count": null,
       "_view_module": "@jupyter-widgets/controls",
       "_view_module_version": "2.0.0",
       "_view_name": "HBoxView",
       "box_style": "",
       "children": [
        "IPY_MODEL_fe581323078f4386a6385ad0971de3ec",
        "IPY_MODEL_b4e040b274904691aac99e64213533d7",
        "IPY_MODEL_02c121522cbb406fb7bec9e2a988da07"
       ],
       "layout": "IPY_MODEL_a59684c7908b4b8ea5bbf47c235a0bf2",
       "tabbable": null,
       "tooltip": null
      }
     },
     "a59684c7908b4b8ea5bbf47c235a0bf2": {
      "model_module": "@jupyter-widgets/base",
      "model_module_version": "2.0.0",
      "model_name": "LayoutModel",
      "state": {
       "_model_module": "@jupyter-widgets/base",
       "_model_module_version": "2.0.0",
       "_model_name": "LayoutModel",
       "_view_count": null,
       "_view_module": "@jupyter-widgets/base",
       "_view_module_version": "2.0.0",
       "_view_name": "LayoutView",
       "align_content": null,
       "align_items": null,
       "align_self": null,
       "border_bottom": null,
       "border_left": null,
       "border_right": null,
       "border_top": null,
       "bottom": null,
       "display": null,
       "flex": null,
       "flex_flow": null,
       "grid_area": null,
       "grid_auto_columns": null,
       "grid_auto_flow": null,
       "grid_auto_rows": null,
       "grid_column": null,
       "grid_gap": null,
       "grid_row": null,
       "grid_template_areas": null,
       "grid_template_columns": null,
       "grid_template_rows": null,
       "height": null,
       "justify_content": null,
       "justify_items": null,
       "left": null,
       "margin": null,
       "max_height": null,
       "max_width": null,
       "min_height": null,
       "min_width": null,
       "object_fit": null,
       "object_position": null,
       "order": null,
       "overflow": null,
       "padding": null,
       "right": null,
       "top": null,
       "visibility": null,
       "width": null
      }
     },
     "aa5bbdc2f4ee46a1b47ed50777fea957": {
      "model_module": "@jupyter-widgets/base",
      "model_module_version": "2.0.0",
      "model_name": "LayoutModel",
      "state": {
       "_model_module": "@jupyter-widgets/base",
       "_model_module_version": "2.0.0",
       "_model_name": "LayoutModel",
       "_view_count": null,
       "_view_module": "@jupyter-widgets/base",
       "_view_module_version": "2.0.0",
       "_view_name": "LayoutView",
       "align_content": null,
       "align_items": null,
       "align_self": null,
       "border_bottom": null,
       "border_left": null,
       "border_right": null,
       "border_top": null,
       "bottom": null,
       "display": null,
       "flex": null,
       "flex_flow": null,
       "grid_area": null,
       "grid_auto_columns": null,
       "grid_auto_flow": null,
       "grid_auto_rows": null,
       "grid_column": null,
       "grid_gap": null,
       "grid_row": null,
       "grid_template_areas": null,
       "grid_template_columns": null,
       "grid_template_rows": null,
       "height": null,
       "justify_content": null,
       "justify_items": null,
       "left": null,
       "margin": null,
       "max_height": null,
       "max_width": null,
       "min_height": null,
       "min_width": null,
       "object_fit": null,
       "object_position": null,
       "order": null,
       "overflow": null,
       "padding": null,
       "right": null,
       "top": null,
       "visibility": null,
       "width": null
      }
     },
     "b4e040b274904691aac99e64213533d7": {
      "model_module": "@jupyter-widgets/controls",
      "model_module_version": "2.0.0",
      "model_name": "FloatProgressModel",
      "state": {
       "_dom_classes": [],
       "_model_module": "@jupyter-widgets/controls",
       "_model_module_version": "2.0.0",
       "_model_name": "FloatProgressModel",
       "_view_count": null,
       "_view_module": "@jupyter-widgets/controls",
       "_view_module_version": "2.0.0",
       "_view_name": "ProgressView",
       "bar_style": "success",
       "description": "",
       "description_allow_html": false,
       "layout": "IPY_MODEL_aa5bbdc2f4ee46a1b47ed50777fea957",
       "max": 5.0,
       "min": 0.0,
       "orientation": "horizontal",
       "style": "IPY_MODEL_467f1aa962b74d15a38acbfbc12e90c4",
       "tabbable": null,
       "tooltip": null,
       "value": 5.0
      }
     },
     "d209b048921f4ce1a1ecaec629798ca3": {
      "model_module": "@jupyter-widgets/base",
      "model_module_version": "2.0.0",
      "model_name": "LayoutModel",
      "state": {
       "_model_module": "@jupyter-widgets/base",
       "_model_module_version": "2.0.0",
       "_model_name": "LayoutModel",
       "_view_count": null,
       "_view_module": "@jupyter-widgets/base",
       "_view_module_version": "2.0.0",
       "_view_name": "LayoutView",
       "align_content": null,
       "align_items": null,
       "align_self": null,
       "border_bottom": null,
       "border_left": null,
       "border_right": null,
       "border_top": null,
       "bottom": null,
       "display": null,
       "flex": null,
       "flex_flow": null,
       "grid_area": null,
       "grid_auto_columns": null,
       "grid_auto_flow": null,
       "grid_auto_rows": null,
       "grid_column": null,
       "grid_gap": null,
       "grid_row": null,
       "grid_template_areas": null,
       "grid_template_columns": null,
       "grid_template_rows": null,
       "height": null,
       "justify_content": null,
       "justify_items": null,
       "left": null,
       "margin": null,
       "max_height": null,
       "max_width": null,
       "min_height": null,
       "min_width": null,
       "object_fit": null,
       "object_position": null,
       "order": null,
       "overflow": null,
       "padding": null,
       "right": null,
       "top": null,
       "visibility": null,
       "width": null
      }
     },
     "db3082f1a2ae4c8f99aa18399c00f828": {
      "model_module": "@jupyter-widgets/base",
      "model_module_version": "2.0.0",
      "model_name": "LayoutModel",
      "state": {
       "_model_module": "@jupyter-widgets/base",
       "_model_module_version": "2.0.0",
       "_model_name": "LayoutModel",
       "_view_count": null,
       "_view_module": "@jupyter-widgets/base",
       "_view_module_version": "2.0.0",
       "_view_name": "LayoutView",
       "align_content": null,
       "align_items": null,
       "align_self": null,
       "border_bottom": null,
       "border_left": null,
       "border_right": null,
       "border_top": null,
       "bottom": null,
       "display": null,
       "flex": null,
       "flex_flow": null,
       "grid_area": null,
       "grid_auto_columns": null,
       "grid_auto_flow": null,
       "grid_auto_rows": null,
       "grid_column": null,
       "grid_gap": null,
       "grid_row": null,
       "grid_template_areas": null,
       "grid_template_columns": null,
       "grid_template_rows": null,
       "height": null,
       "justify_content": null,
       "justify_items": null,
       "left": null,
       "margin": null,
       "max_height": null,
       "max_width": null,
       "min_height": null,
       "min_width": null,
       "object_fit": null,
       "object_position": null,
       "order": null,
       "overflow": null,
       "padding": null,
       "right": null,
       "top": null,
       "visibility": null,
       "width": null
      }
     },
     "fe581323078f4386a6385ad0971de3ec": {
      "model_module": "@jupyter-widgets/controls",
      "model_module_version": "2.0.0",
      "model_name": "HTMLModel",
      "state": {
       "_dom_classes": [],
       "_model_module": "@jupyter-widgets/controls",
       "_model_module_version": "2.0.0",
       "_model_name": "HTMLModel",
       "_view_count": null,
       "_view_module": "@jupyter-widgets/controls",
       "_view_module_version": "2.0.0",
       "_view_name": "HTMLView",
       "description": "",
       "description_allow_html": false,
       "layout": "IPY_MODEL_db3082f1a2ae4c8f99aa18399c00f828",
       "placeholder": "​",
       "style": "IPY_MODEL_ff32be8edebd49cfbb30b05c09238237",
       "tabbable": null,
       "tooltip": null,
       "value": "100%"
      }
     },
     "ff32be8edebd49cfbb30b05c09238237": {
      "model_module": "@jupyter-widgets/controls",
      "model_module_version": "2.0.0",
      "model_name": "HTMLStyleModel",
      "state": {
       "_model_module": "@jupyter-widgets/controls",
       "_model_module_version": "2.0.0",
       "_model_name": "HTMLStyleModel",
       "_view_count": null,
       "_view_module": "@jupyter-widgets/base",
       "_view_module_version": "2.0.0",
       "_view_name": "StyleView",
       "background": null,
       "description_width": "",
       "font_size": null,
       "text_color": null
      }
     }
    },
    "version_major": 2,
    "version_minor": 0
   }
  }
 },
 "nbformat": 4,
 "nbformat_minor": 5
}