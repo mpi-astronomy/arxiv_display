{
 "cells": [
  {
   "cell_type": "markdown",
   "id": "92bcb855",
   "metadata": {
    "papermill": {
     "duration": 0.005218,
     "end_time": "2022-10-31T04:39:07.621859",
     "exception": false,
     "start_time": "2022-10-31T04:39:07.616641",
     "status": "completed"
    },
    "tags": []
   },
   "source": [
    "# MPIA Arxiv on Deck 2\n",
    "\n",
    "Contains the steps to produce the paper extractions."
   ]
  },
  {
   "cell_type": "code",
   "execution_count": 1,
   "id": "3a0d6e11",
   "metadata": {
    "execution": {
     "iopub.execute_input": "2022-10-31T04:39:07.631680Z",
     "iopub.status.busy": "2022-10-31T04:39:07.631090Z",
     "iopub.status.idle": "2022-10-31T04:39:07.797171Z",
     "shell.execute_reply": "2022-10-31T04:39:07.796540Z"
    },
    "papermill": {
     "duration": 0.173054,
     "end_time": "2022-10-31T04:39:07.799142",
     "exception": false,
     "start_time": "2022-10-31T04:39:07.626088",
     "status": "completed"
    },
    "tags": []
   },
   "outputs": [],
   "source": [
    "# Imports\n",
    "import os\n",
    "from IPython.display import Markdown, display\n",
    "from tqdm.notebook import tqdm\n",
    "import warnings\n",
    "from PIL import Image \n",
    "\n",
    "# requires arxiv_on_deck_2\n",
    "\n",
    "from arxiv_on_deck_2.arxiv2 import (get_new_papers, \n",
    "                                    get_paper_from_identifier,\n",
    "                                    retrieve_document_source, \n",
    "                                    get_markdown_badge)\n",
    "from arxiv_on_deck_2 import (latex, \n",
    "                             mpia,\n",
    "                             highlight_authors_in_list)\n",
    "\n",
    "# Sometimes images are really big\n",
    "Image.MAX_IMAGE_PIXELS = 1000000000 "
   ]
  },
  {
   "cell_type": "code",
   "execution_count": 2,
   "id": "22aa9d44",
   "metadata": {
    "execution": {
     "iopub.execute_input": "2022-10-31T04:39:07.808753Z",
     "iopub.status.busy": "2022-10-31T04:39:07.808509Z",
     "iopub.status.idle": "2022-10-31T04:39:07.813355Z",
     "shell.execute_reply": "2022-10-31T04:39:07.812796Z"
    },
    "papermill": {
     "duration": 0.011548,
     "end_time": "2022-10-31T04:39:07.814967",
     "exception": false,
     "start_time": "2022-10-31T04:39:07.803419",
     "status": "completed"
    },
    "tags": []
   },
   "outputs": [],
   "source": [
    "# Some useful definitions.\n",
    "\n",
    "class AffiliationWarning(UserWarning):\n",
    "    pass\n",
    "\n",
    "class AffiliationError(RuntimeError):\n",
    "    pass\n",
    "\n",
    "def validation(source: str):\n",
    "    \"\"\"Raises error paper during parsing of source file\n",
    "    \n",
    "    Allows checks before parsing TeX code.\n",
    "    \n",
    "    Raises AffiliationWarning\n",
    "    \"\"\"\n",
    "    check = mpia.affiliation_verifications(source, verbose=True)\n",
    "    if check is not True:\n",
    "        raise AffiliationError(\"mpia.affiliation_verifications: \" + check)\n",
    "\n",
    "        \n",
    "warnings.simplefilter('always', AffiliationWarning)"
   ]
  },
  {
   "cell_type": "code",
   "execution_count": 3,
   "id": "14622700",
   "metadata": {
    "execution": {
     "iopub.execute_input": "2022-10-31T04:39:07.825033Z",
     "iopub.status.busy": "2022-10-31T04:39:07.824817Z",
     "iopub.status.idle": "2022-10-31T04:39:07.828423Z",
     "shell.execute_reply": "2022-10-31T04:39:07.827837Z"
    },
    "papermill": {
     "duration": 0.011347,
     "end_time": "2022-10-31T04:39:07.830088",
     "exception": false,
     "start_time": "2022-10-31T04:39:07.818741",
     "status": "completed"
    },
    "tags": []
   },
   "outputs": [],
   "source": [
    "# additional CSS to consider. \n",
    "# TODO: Current into each exported file. \n",
    "#       This should be set once into the webpages directly.\n",
    "#       With only the class/id definitions in the .md files.\n",
    "\n",
    "debug_html = \"\"\"\n",
    "<style>\n",
    "#wrap{ overflow:auto; }\n",
    "#fig1{ background:yellow; width:100%; float:left; padding:5px;  }\n",
    "#fig2{ background:red; width:50%; float:left; clear:left; padding:5px;  }\n",
    "#fig3{ background:green; width:50%; float:left; padding:5px;   }\n",
    ".macros{ background:yellow; visibility:visible;}\n",
    "h1 {margin: 0 0 0 0;}\n",
    "mark {background-color:#fff3b6;}\n",
    "img {object-fit:contain; max-height:250px; display:inline-block; text-align: center;}\n",
    "</style>\n",
    "\"\"\" \n",
    "html = \"\"\"\n",
    "<style>\n",
    "#wrap{ overflow:auto; }\n",
    "#fig1{ width:100%; float:left; padding: 5px;  }\n",
    "#fig2{ width:50%; float:left; clear:left; padding: 5px;  }\n",
    "#fig3{ width:50%; float:left; padding: 5px;  }\n",
    ".macros{ visibility:hidden; height:0px; }\n",
    "h1 {margin: 0em 0 0 0;}\n",
    "mark {background-color:#fff3b6;}\n",
    "img {object-fit:contain; max-height:250px; display:inline-block; text-align: center;}\n",
    "</style>\n",
    "\"\"\""
   ]
  },
  {
   "cell_type": "markdown",
   "id": "14bd6310",
   "metadata": {
    "papermill": {
     "duration": 0.004001,
     "end_time": "2022-10-31T04:39:07.837905",
     "exception": false,
     "start_time": "2022-10-31T04:39:07.833904",
     "status": "completed"
    },
    "tags": []
   },
   "source": [
    "## get list of arxiv paper candidates\n",
    "\n",
    "We use the MPIA mitarbeiter list webpage from mpia.de to get author names\n",
    "We then get all new papers from Arxiv and match authors"
   ]
  },
  {
   "cell_type": "code",
   "execution_count": 4,
   "id": "2645e73a",
   "metadata": {
    "execution": {
     "iopub.execute_input": "2022-10-31T04:39:07.847153Z",
     "iopub.status.busy": "2022-10-31T04:39:07.846502Z",
     "iopub.status.idle": "2022-10-31T04:39:30.998727Z",
     "shell.execute_reply": "2022-10-31T04:39:30.998179Z"
    },
    "papermill": {
     "duration": 23.158668,
     "end_time": "2022-10-31T04:39:31.000457",
     "exception": false,
     "start_time": "2022-10-31T04:39:07.841789",
     "status": "completed"
    },
    "tags": []
   },
   "outputs": [
    {
     "name": "stdout",
     "output_type": "stream",
     "text": [
      "Arxiv has 50 new papers today\n",
      "          20 with possible author matches\n"
     ]
    }
   ],
   "source": [
    "# get list from MPIA website\n",
    "# it automatically filters identified non-scientists :func:`mpia.filter_non_scientists`\n",
    "mpia_authors = mpia.get_mpia_mitarbeiter_list()\n",
    "new_papers = get_new_papers()\n",
    "# add manual references\n",
    "add_paper_refs = []\n",
    "new_papers.extend([get_paper_from_identifier(k) for k in add_paper_refs])\n",
    "\n",
    "# select only papers with matching author names and highlight authors\n",
    "hl_list = [k[0] for k in mpia_authors]\n",
    "\n",
    "candidates = []\n",
    "for paperk in new_papers:\n",
    "    hl_authors = highlight_authors_in_list(paperk['authors'], hl_list)\n",
    "    matches = [(hl, orig) for hl, orig in zip(hl_authors, paperk['authors']) if 'mark' in hl]\n",
    "    paperk['authors'] = hl_authors\n",
    "    if matches:\n",
    "        candidates.append(paperk)\n",
    "print(\"\"\"Arxiv has {0:,d} new papers today\"\"\".format(len(new_papers)))        \n",
    "print(\"\"\"          {0:,d} with possible author matches\"\"\".format(len(candidates)))"
   ]
  },
  {
   "cell_type": "markdown",
   "id": "3543b34a",
   "metadata": {
    "papermill": {
     "duration": 0.004535,
     "end_time": "2022-10-31T04:39:31.009362",
     "exception": false,
     "start_time": "2022-10-31T04:39:31.004827",
     "status": "completed"
    },
    "tags": []
   },
   "source": [
    "# Parse sources and generate relevant outputs\n",
    "\n",
    "From the candidates, we do the following steps:\n",
    "* get their tarball from ArXiv (and extract data)\n",
    "* find the main .tex file: find one with \\documentclass{...} (sometimes it's non trivial)\n",
    "* Check affiliations with :func:`validation`, which uses :func:`mpia.affiliation_verifications`\n",
    "* If passing the affiliations: we parse the .tex source\n",
    "   * inject sub-documents into the main (flatten the main document)\n",
    "   * parse structure, extract information (title, abstract, authors, figures...)\n",
    "   * handles `\\graphicspath` if provided\n",
    "* Generate the .md document."
   ]
  },
  {
   "cell_type": "code",
   "execution_count": 5,
   "id": "9576b79e",
   "metadata": {
    "execution": {
     "iopub.execute_input": "2022-10-31T04:39:31.018765Z",
     "iopub.status.busy": "2022-10-31T04:39:31.018292Z",
     "iopub.status.idle": "2022-10-31T04:40:00.401793Z",
     "shell.execute_reply": "2022-10-31T04:40:00.401277Z"
    },
    "papermill": {
     "duration": 29.391074,
     "end_time": "2022-10-31T04:40:00.404375",
     "exception": false,
     "start_time": "2022-10-31T04:39:31.013301",
     "status": "completed"
    },
    "scrolled": false,
    "tags": []
   },
   "outputs": [
    {
     "data": {
      "application/vnd.jupyter.widget-view+json": {
       "model_id": "070a85d2650342f1a01c94bb26ab63ed",
       "version_major": 2,
       "version_minor": 0
      },
      "text/plain": [
       "  0%|          | 0/19 [00:00<?, ?it/s]"
      ]
     },
     "metadata": {},
     "output_type": "display_data"
    },
    {
     "name": "stdout",
     "output_type": "stream",
     "text": [
      "Retrieving document from  https://arxiv.org/e-print/2210.15699\n"
     ]
    },
    {
     "name": "stdout",
     "output_type": "stream",
     "text": [
      "extracting tarball to tmp_2210.15699..."
     ]
    },
    {
     "name": "stdout",
     "output_type": "stream",
     "text": [
      " done.\n",
      "Retrieving document from  https://arxiv.org/e-print/2210.15705\n"
     ]
    },
    {
     "name": "stdout",
     "output_type": "stream",
     "text": [
      "extracting tarball to tmp_2210.15705..."
     ]
    },
    {
     "name": "stdout",
     "output_type": "stream",
     "text": [
      " done.\n",
      "Retrieving document from  https://arxiv.org/e-print/2210.15768\n"
     ]
    },
    {
     "name": "stderr",
     "output_type": "stream",
     "text": [
      "/opt/hostedtoolcache/Python/3.9.15/x64/lib/python3.9/site-packages/IPython/core/interactiveshell.py:3433: LatexWarning: Multiple tex files.\n",
      "\n",
      "  exec(code_obj, self.user_global_ns, self.user_ns)\n",
      "/opt/hostedtoolcache/Python/3.9.15/x64/lib/python3.9/site-packages/IPython/core/interactiveshell.py:3433: LatexWarning: Found documentclass in tmp_2210.15705/natnotes.tex\n",
      "\n",
      "  exec(code_obj, self.user_global_ns, self.user_ns)\n"
     ]
    },
    {
     "name": "stdout",
     "output_type": "stream",
     "text": [
      "extracting tarball to tmp_2210.15768..."
     ]
    },
    {
     "name": "stdout",
     "output_type": "stream",
     "text": [
      " done.\n",
      "Retrieving document from  https://arxiv.org/e-print/2210.15802\n"
     ]
    },
    {
     "name": "stderr",
     "output_type": "stream",
     "text": [
      "/opt/hostedtoolcache/Python/3.9.15/x64/lib/python3.9/site-packages/IPython/core/interactiveshell.py:3433: LatexWarning: Multiple tex files.\n",
      "\n",
      "  exec(code_obj, self.user_global_ns, self.user_ns)\n",
      "/opt/hostedtoolcache/Python/3.9.15/x64/lib/python3.9/site-packages/IPython/core/interactiveshell.py:3433: LatexWarning: Found documentclass in tmp_2210.15768/GonzalezDiaz_mnras_Laser.tex\n",
      "\n",
      "  exec(code_obj, self.user_global_ns, self.user_ns)\n"
     ]
    },
    {
     "name": "stdout",
     "output_type": "stream",
     "text": [
      "extracting tarball to tmp_2210.15802..."
     ]
    },
    {
     "name": "stdout",
     "output_type": "stream",
     "text": [
      " done.\n",
      "Retrieving document from  https://arxiv.org/e-print/2210.15840\n"
     ]
    },
    {
     "name": "stderr",
     "output_type": "stream",
     "text": [
      "/opt/hostedtoolcache/Python/3.9.15/x64/lib/python3.9/site-packages/IPython/core/interactiveshell.py:3433: LatexWarning: Multiple tex files.\n",
      "\n",
      "  exec(code_obj, self.user_global_ns, self.user_ns)\n",
      "/opt/hostedtoolcache/Python/3.9.15/x64/lib/python3.9/site-packages/IPython/core/interactiveshell.py:3433: LatexWarning: Found documentclass in tmp_2210.15802/Corrected_file.tex\n",
      "\n",
      "  exec(code_obj, self.user_global_ns, self.user_ns)\n"
     ]
    },
    {
     "name": "stdout",
     "output_type": "stream",
     "text": [
      "extracting tarball to tmp_2210.15840..."
     ]
    },
    {
     "name": "stdout",
     "output_type": "stream",
     "text": [
      " done.\n",
      "Retrieving document from  https://arxiv.org/e-print/2210.15857\n"
     ]
    },
    {
     "name": "stdout",
     "output_type": "stream",
     "text": [
      "extracting tarball to tmp_2210.15857... done.\n",
      "Retrieving document from  https://arxiv.org/e-print/2210.15892\n"
     ]
    },
    {
     "name": "stdout",
     "output_type": "stream",
     "text": [
      "extracting tarball to tmp_2210.15892..."
     ]
    },
    {
     "name": "stdout",
     "output_type": "stream",
     "text": [
      " done.\n",
      "Retrieving document from  https://arxiv.org/e-print/2210.15905\n"
     ]
    },
    {
     "name": "stderr",
     "output_type": "stream",
     "text": [
      "/opt/hostedtoolcache/Python/3.9.15/x64/lib/python3.9/site-packages/arxiv_on_deck_2/latex.py:292: LatexWarning: Latex injecting: 'main.bbl' from 'tmp_2210.15892/main.tex'\n",
      "  warnings.warn(LatexWarning(f\"Latex injecting: '{ext}' from '{subsource}'\"))\n"
     ]
    },
    {
     "name": "stdout",
     "output_type": "stream",
     "text": [
      "extracting tarball to tmp_2210.15905... done.\n",
      "Retrieving document from  https://arxiv.org/e-print/2210.15918\n"
     ]
    },
    {
     "name": "stdout",
     "output_type": "stream",
     "text": [
      "extracting tarball to tmp_2210.15918..."
     ]
    },
    {
     "name": "stdout",
     "output_type": "stream",
     "text": [
      " done.\n",
      "Retrieving document from  https://arxiv.org/e-print/2210.15983\n"
     ]
    },
    {
     "name": "stderr",
     "output_type": "stream",
     "text": [
      "/opt/hostedtoolcache/Python/3.9.15/x64/lib/python3.9/site-packages/IPython/core/interactiveshell.py:3433: LatexWarning: Multiple tex files.\n",
      "\n",
      "  exec(code_obj, self.user_global_ns, self.user_ns)\n",
      "/opt/hostedtoolcache/Python/3.9.15/x64/lib/python3.9/site-packages/IPython/core/interactiveshell.py:3433: LatexWarning: Found documentclass in tmp_2210.15918/natnotes.tex\n",
      "\n",
      "  exec(code_obj, self.user_global_ns, self.user_ns)\n"
     ]
    },
    {
     "name": "stderr",
     "output_type": "stream",
     "text": [
      "/tmp/ipykernel_2413/4030337529.py:34: LatexWarning: 2210.15983 did not run properly\n",
      "invalid header\n",
      "  warnings.warn(latex.LatexWarning(f\"{paper_id:s} did not run properly\\n\" +\n"
     ]
    },
    {
     "name": "stdout",
     "output_type": "stream",
     "text": [
      "Retrieving document from  https://arxiv.org/e-print/2210.15993\n"
     ]
    },
    {
     "name": "stdout",
     "output_type": "stream",
     "text": [
      "extracting tarball to tmp_2210.15993..."
     ]
    },
    {
     "name": "stdout",
     "output_type": "stream",
     "text": [
      " done.\n",
      "Retrieving document from  https://arxiv.org/e-print/2210.16013\n"
     ]
    },
    {
     "name": "stdout",
     "output_type": "stream",
     "text": [
      "extracting tarball to tmp_2210.16013..."
     ]
    },
    {
     "name": "stdout",
     "output_type": "stream",
     "text": [
      " done.\n",
      "Retrieving document from  https://arxiv.org/e-print/2210.16014\n"
     ]
    },
    {
     "name": "stderr",
     "output_type": "stream",
     "text": [
      "/opt/hostedtoolcache/Python/3.9.15/x64/lib/python3.9/site-packages/IPython/core/interactiveshell.py:3433: LatexWarning: Multiple tex files.\n",
      "\n",
      "  exec(code_obj, self.user_global_ns, self.user_ns)\n",
      "/opt/hostedtoolcache/Python/3.9.15/x64/lib/python3.9/site-packages/IPython/core/interactiveshell.py:3433: LatexWarning: Found documentclass in tmp_2210.16013/natnotes.tex\n",
      "\n",
      "  exec(code_obj, self.user_global_ns, self.user_ns)\n"
     ]
    },
    {
     "name": "stdout",
     "output_type": "stream",
     "text": [
      "extracting tarball to tmp_2210.16014..."
     ]
    },
    {
     "name": "stdout",
     "output_type": "stream",
     "text": [
      " done.\n",
      "Retrieving document from  https://arxiv.org/e-print/2210.16091\n"
     ]
    },
    {
     "name": "stdout",
     "output_type": "stream",
     "text": [
      "extracting tarball to tmp_2210.16091... done.\n",
      "Retrieving document from  https://arxiv.org/e-print/2210.16094\n"
     ]
    },
    {
     "name": "stdout",
     "output_type": "stream",
     "text": [
      "extracting tarball to tmp_2210.16094... done.\n",
      "Retrieving document from  https://arxiv.org/e-print/2210.16104\n"
     ]
    },
    {
     "name": "stdout",
     "output_type": "stream",
     "text": [
      "extracting tarball to tmp_2210.16104..."
     ]
    },
    {
     "name": "stdout",
     "output_type": "stream",
     "text": [
      " done.\n",
      "Retrieving document from  https://arxiv.org/e-print/2210.16112\n"
     ]
    },
    {
     "name": "stdout",
     "output_type": "stream",
     "text": [
      "extracting tarball to tmp_2210.16112..."
     ]
    },
    {
     "name": "stdout",
     "output_type": "stream",
     "text": [
      " done.\n",
      "Retrieving document from  https://arxiv.org/e-print/2210.16130\n"
     ]
    },
    {
     "name": "stderr",
     "output_type": "stream",
     "text": [
      "/opt/hostedtoolcache/Python/3.9.15/x64/lib/python3.9/site-packages/IPython/core/interactiveshell.py:3433: LatexWarning: Multiple tex files.\n",
      "\n",
      "  exec(code_obj, self.user_global_ns, self.user_ns)\n",
      "/opt/hostedtoolcache/Python/3.9.15/x64/lib/python3.9/site-packages/IPython/core/interactiveshell.py:3433: LatexWarning: Found documentclass in tmp_2210.16112/astro_paper.tex\n",
      "\n",
      "  exec(code_obj, self.user_global_ns, self.user_ns)\n",
      "/opt/hostedtoolcache/Python/3.9.15/x64/lib/python3.9/site-packages/arxiv_on_deck_2/latex.py:292: LatexWarning: Latex injecting: 'sections/appendix' from 'tmp_2210.16112/sections/appendix.tex'\n",
      "  warnings.warn(LatexWarning(f\"Latex injecting: '{ext}' from '{subsource}'\"))\n",
      "/opt/hostedtoolcache/Python/3.9.15/x64/lib/python3.9/site-packages/arxiv_on_deck_2/latex.py:292: LatexWarning: Latex injecting: 'sections/conclusion' from 'tmp_2210.16112/sections/conclusion.tex'\n",
      "  warnings.warn(LatexWarning(f\"Latex injecting: '{ext}' from '{subsource}'\"))\n",
      "/opt/hostedtoolcache/Python/3.9.15/x64/lib/python3.9/site-packages/arxiv_on_deck_2/latex.py:292: LatexWarning: Latex injecting: 'sections/results_discussion' from 'tmp_2210.16112/sections/results_discussion.tex'\n",
      "  warnings.warn(LatexWarning(f\"Latex injecting: '{ext}' from '{subsource}'\"))\n",
      "/opt/hostedtoolcache/Python/3.9.15/x64/lib/python3.9/site-packages/arxiv_on_deck_2/latex.py:292: LatexWarning: Latex injecting: 'sections/methodology' from 'tmp_2210.16112/sections/methodology.tex'\n",
      "  warnings.warn(LatexWarning(f\"Latex injecting: '{ext}' from '{subsource}'\"))\n",
      "/opt/hostedtoolcache/Python/3.9.15/x64/lib/python3.9/site-packages/arxiv_on_deck_2/latex.py:292: LatexWarning: Latex injecting: 'sections/data' from 'tmp_2210.16112/sections/data.tex'\n",
      "  warnings.warn(LatexWarning(f\"Latex injecting: '{ext}' from '{subsource}'\"))\n",
      "/opt/hostedtoolcache/Python/3.9.15/x64/lib/python3.9/site-packages/arxiv_on_deck_2/latex.py:292: LatexWarning: Latex injecting: 'sections/introduction' from 'tmp_2210.16112/sections/introduction.tex'\n",
      "  warnings.warn(LatexWarning(f\"Latex injecting: '{ext}' from '{subsource}'\"))\n"
     ]
    },
    {
     "name": "stdout",
     "output_type": "stream",
     "text": [
      "extracting tarball to tmp_2210.16130... done.\n",
      "Retrieving document from  https://arxiv.org/e-print/2210.16275\n"
     ]
    },
    {
     "name": "stdout",
     "output_type": "stream",
     "text": [
      "extracting tarball to tmp_2210.16275..."
     ]
    },
    {
     "name": "stdout",
     "output_type": "stream",
     "text": [
      " done.\n"
     ]
    },
    {
     "name": "stderr",
     "output_type": "stream",
     "text": [
      "/opt/hostedtoolcache/Python/3.9.15/x64/lib/python3.9/site-packages/IPython/core/interactiveshell.py:3433: LatexWarning: Multiple tex files.\n",
      "\n",
      "  exec(code_obj, self.user_global_ns, self.user_ns)\n",
      "/opt/hostedtoolcache/Python/3.9.15/x64/lib/python3.9/site-packages/IPython/core/interactiveshell.py:3433: LatexWarning: Found documentclass in tmp_2210.16275/main.tex\n",
      "\n",
      "  exec(code_obj, self.user_global_ns, self.user_ns)\n"
     ]
    }
   ],
   "source": [
    "documents = []\n",
    "failed = []\n",
    "for paper in tqdm(candidates[:-1]):\n",
    "    paper_id = paper['identifier'].lower().replace('arxiv:', '')\n",
    "    \n",
    "    folder = f'tmp_{paper_id}'\n",
    "\n",
    "    try:\n",
    "        if not os.path.isdir(folder):\n",
    "            folder = retrieve_document_source(f\"{paper_id}\", f'tmp_{paper_id}')\n",
    "        \n",
    "        try:\n",
    "            doc = latex.LatexDocument(folder, validation=validation)    \n",
    "        except AffiliationError as affilerror:\n",
    "            msg = f\"ArXiv:{paper_id:s} is not an MPIA paper... \" + str(affilerror)\n",
    "            failed.append((paper, \"affiliation error: \" + str(affilerror) ))\n",
    "            continue\n",
    "        \n",
    "        # Hack because sometimes author parsing does not work well\n",
    "        if (len(doc.authors) != len(paper['authors'])):\n",
    "            doc._authors = paper['authors']\n",
    "        if (doc.abstract) in (None, ''):\n",
    "            doc._abstract = paper['abstract']\n",
    "            \n",
    "        doc.comment = (get_markdown_badge(paper_id) + \n",
    "                       \"<mark>Appeared on: \" + paper['date'] + \"</mark> - \" +\n",
    "                       \"_\" + paper['comments'] + \"_\")\n",
    "        doc.highlight_authors_in_list(hl_list)\n",
    "\n",
    "        full_md = doc.generate_markdown_text()\n",
    "        \n",
    "        documents.append((paper_id, full_md))\n",
    "    except Exception as e:\n",
    "        warnings.warn(latex.LatexWarning(f\"{paper_id:s} did not run properly\\n\" +\n",
    "                                         str(e)\n",
    "                                        ))\n",
    "        failed.append((paper, \"latex error \" + str(e)))"
   ]
  },
  {
   "cell_type": "markdown",
   "id": "2505a25c",
   "metadata": {
    "papermill": {
     "duration": 0.006308,
     "end_time": "2022-10-31T04:40:00.417278",
     "exception": false,
     "start_time": "2022-10-31T04:40:00.410970",
     "status": "completed"
    },
    "tags": []
   },
   "source": [
    "### Export the logs\n",
    "\n",
    "Throughout, we also keep track of the logs per paper. see `logs-{today date}.md` "
   ]
  },
  {
   "cell_type": "code",
   "execution_count": 6,
   "id": "d733828a",
   "metadata": {
    "execution": {
     "iopub.execute_input": "2022-10-31T04:40:00.430907Z",
     "iopub.status.busy": "2022-10-31T04:40:00.430439Z",
     "iopub.status.idle": "2022-10-31T04:40:00.457795Z",
     "shell.execute_reply": "2022-10-31T04:40:00.457119Z"
    },
    "papermill": {
     "duration": 0.035856,
     "end_time": "2022-10-31T04:40:00.459292",
     "exception": false,
     "start_time": "2022-10-31T04:40:00.423436",
     "status": "completed"
    },
    "scrolled": false,
    "tags": []
   },
   "outputs": [
    {
     "data": {
      "text/markdown": [
       "## Successful papers"
      ],
      "text/plain": [
       "<IPython.core.display.Markdown object>"
      ]
     },
     "metadata": {},
     "output_type": "display_data"
    },
    {
     "data": {
      "text/markdown": [
       "## Failed papers"
      ],
      "text/plain": [
       "<IPython.core.display.Markdown object>"
      ]
     },
     "metadata": {},
     "output_type": "display_data"
    },
    {
     "data": {
      "text/markdown": [
       "\n",
       "|||\n",
       "|---:|:---|\n",
       "| [![arXiv](https://img.shields.io/badge/arXiv-arXiv:2210.15699-b31b1b.svg)](https://arxiv.org/abs/arXiv:2210.15699) | **Spectroscopy from Lyman alpha to [O III] 5007 of a Triply Imaged  Magnified Galaxy at Redshift z = 9.5**  |\n",
       "|| Hayley Williams, et al. -- incl., <mark>Yu-Heng Lin</mark> |\n",
       "|*Appeared on*| *2022-10-31*|\n",
       "|*Comments*| **|\n",
       "|**Abstract**| Given their extremely faint apparent brightness, the nature of the first galaxies and how they reionized the Universe's gas are not yet understood. Here we report the discovery, in James Webb Space Telescope (JWST) imaging, of a highly magnified, low-mass (log(M_*/M_sol)=7.70^{+0.11}_{-0.09}) galaxy visible when the Universe was only 510 Myr old, and follow-up prism spectroscopy of the galaxy extending from Lyman alpha to [O III] 5007 in its rest frame. Our JWST spectrum provides [O III] 5007 and H beta detections with a respective signal-to-noise ratio (S/N) of 33 and 7, as well as four additional lines with S/N > 2. These emission lines yield a redshift of z=9.51 and star-formation rate of 0.26^{+0.07}_{-0.05} M_sol per year. The galaxy's large inferred value of [O III]/[O II] = 16 +- 6 suggests that this galaxy has an escape fraction of ionizing radiation larger than 10%, indicating that a population of similar objects could contribute substantially to the reionization budget. Using multiple techniques, we infer a gas oxygen abundance of 12 + log(O/H) = 7.47 +- 0.10 dex, consistent within 2 sigma of the mass-metallicity relation observed for dwarf galaxies in the local Universe. |\n",
       "|<p style=\"color:green\"> **ERROR** </p>| <p style=\"color:green\">affiliation error: mpia.affiliation_verifications: 'Heidelberg' keyword not found.</p> |"
      ],
      "text/plain": [
       "<IPython.core.display.Markdown object>"
      ]
     },
     "metadata": {},
     "output_type": "display_data"
    },
    {
     "data": {
      "text/markdown": [
       "\n",
       "|||\n",
       "|---:|:---|\n",
       "| [![arXiv](https://img.shields.io/badge/arXiv-arXiv:2210.15705-b31b1b.svg)](https://arxiv.org/abs/arXiv:2210.15705) | **Distorted-Toroidal Flux Rope model for Heliospheric Flux Ropes**  |\n",
       "|| Teresa Nieves-Chinchilla, Miguel Angel Hidalgo, <mark>Hebe Cremades</mark> |\n",
       "|*Appeared on*| *2022-10-31*|\n",
       "|*Comments*| *19 pages, 8 figures*|\n",
       "|**Abstract**| The three-dimensional characterization of magnetic flux-ropes observed in the heliosphere has been a challenging task for decades. This is mainly due to the limitation to infer the 3D global topology and the physical properties from the 1D time series from any spacecraft. To advance our understanding of magnetic flux-ropes whose configuration departs from the typical stiff geometries, here we present the analytical solution for a 3D flux-rope model with an arbitrary cross-section and a toroidal global shape. This constitutes the next level of complexity following the elliptic-cylindrical (EC) geometry. The mathematical framework was established by Nieves-Chinchilla et al. (2018) ApJ, with the EC flux-rope model that describes the magnetic topology with elliptical cross-section as a first approach to changes in the cross-section. In the distorted-toroidal flux rope model, the cross-section is described by a general function. The model is completely described by a non-orthogonal geometry and the Maxwell equations can be consistently solved to obtain the magnetic field and relevant physical quantities. As a proof of concept, this model is generalized in terms of the radial dependence of current density components. The last part of this paper is dedicated to a specific function, $F(\\varphi)=\\delta(1-\\lambda\\cos\\varphi)$, to illustrate possibilities of the model. This model paves the way to investigate complex distortions of the magnetic structures in the solar wind. Future investigations will in-depth explore these distortions by analyzing specific events, the implications in the physical quantities, such as magnetic fluxes, heliciy or energy, and evaluating the force balance with the ambient solar wind that allows such distortions. |\n",
       "|<p style=\"color:green\"> **ERROR** </p>| <p style=\"color:green\">affiliation error: mpia.affiliation_verifications: 'Heidelberg' keyword not found.</p> |"
      ],
      "text/plain": [
       "<IPython.core.display.Markdown object>"
      ]
     },
     "metadata": {},
     "output_type": "display_data"
    },
    {
     "data": {
      "text/markdown": [
       "\n",
       "|||\n",
       "|---:|:---|\n",
       "| [![arXiv](https://img.shields.io/badge/arXiv-arXiv:2210.15768-b31b1b.svg)](https://arxiv.org/abs/arXiv:2210.15768) | **Density and infrared band strength of interstellar carbon monoxide (CO)  ice analogues**  |\n",
       "|| Cristóbal González Díaz, et al. -- incl., <mark>Hector Carrascosa</mark> |\n",
       "|*Appeared on*| *2022-10-31*|\n",
       "|*Comments*| *21 pages, 9 figures*|\n",
       "|**Abstract**| The motivation to study experimentally CO ice under mimicked interstellar conditions is supported by the large CO gas abundances and ubiquitous presence of CO in icy grain mantles. Upon irradiation in its pure ice form, this highly stable species presents a limited ion and photon-induced chemistry, and an efficient non-thermal desorption. Using infrared spectroscopy, single laser interference, and quadrupole mass spectrometry during CO ice deposition, the CO ice density was estimated as a function of deposition temperature. Only minor variations in the density were found. The proposed methodology can be used to obtain the density of other ice components at various deposition temperatures provided that this value of the density is known for one of these temperatures, which is typically the temperature corresponding to the crystalline form. The apparent tendency of the CO ice density to decrease at deposition temperatures below 14 K is in line with recently published colorimetric measurements. This work allowed to revisit the value of the infrared band strength needed for calculation of the CO ice column density in infrared observations, $8.7 \\times 10^{-18} ~ {\\rm cm ~ molecule}^{-1}$ at 20 K deposition temperature. |\n",
       "|<p style=\"color:green\"> **ERROR** </p>| <p style=\"color:green\">affiliation error: mpia.affiliation_verifications: 'Heidelberg' keyword not found.</p> |"
      ],
      "text/plain": [
       "<IPython.core.display.Markdown object>"
      ]
     },
     "metadata": {},
     "output_type": "display_data"
    },
    {
     "data": {
      "text/markdown": [
       "\n",
       "|||\n",
       "|---:|:---|\n",
       "| [![arXiv](https://img.shields.io/badge/arXiv-arXiv:2210.15802-b31b1b.svg)](https://arxiv.org/abs/arXiv:2210.15802) | **The crater-induced YORP effect**  |\n",
       "|| Wen-Han Zhou, <mark>Yun Zhang</mark>, Xiaoran Yan, Patrick Michel |\n",
       "|*Appeared on*| *2022-10-31*|\n",
       "|*Comments*| *13 pages, 7 figures. Accepted by A&A*|\n",
       "|**Abstract**| The Yarkovsky-O'Keefe-Radzievskii-Paddack (YORP) effect plays an important role in the rotational properties and evolution of asteroids. While the YORP effect induced by the macroscopic shape of the asteroid and by the presence of surface boulders has been well studied, no investigation has been performed yet regarding how craters with given properties influence this effect. We introduce and estimate the crater-induced YORP effect (CYORP), which arises from the concave structure of the crater, to investigate the magnitude of the resulting torques as a function of varying properties of the crater and the asteroid by a semi-analytical method. The CYORP torque can be comparable to the normal YORP torque when the size of the crater is about one-tenth of the size of the asteroid, or equivalently when the crater/roughness covers one-tenth of the asteroid's surface. Although the torque decreases with the crater size, the combined contribution of all small craters can become non-negligible due to their large number when the commonly used power-law crater size distribution is considered. The CYORP torque of small concave structures, usually considered as surface roughness, is essential to the accurate calculation of the complete YORP torque. Under the CYORP effect that is produced by collisions, asteroids go through a random walk in spin rate and obliquity, with a YORP reset timescale typically of 0.4 Myr. This has strong implications for the rotational evolution and orbital evolution of asteroids. Craters and roughness on asteroid surfaces can influence the YORP torques and therefore the rotational properties and evolution of asteroids. We suggest that the CYORP effect should be considered in the future investigation of the YORP effect on asteroids. |\n",
       "|<p style=\"color:green\"> **ERROR** </p>| <p style=\"color:green\">affiliation error: mpia.affiliation_verifications: 'Heidelberg' keyword not found.</p> |"
      ],
      "text/plain": [
       "<IPython.core.display.Markdown object>"
      ]
     },
     "metadata": {},
     "output_type": "display_data"
    },
    {
     "data": {
      "text/markdown": [
       "\n",
       "|||\n",
       "|---:|:---|\n",
       "| [![arXiv](https://img.shields.io/badge/arXiv-arXiv:2210.15840-b31b1b.svg)](https://arxiv.org/abs/arXiv:2210.15840) | **The 100-m X-ray Test Facility at IHEP**  |\n",
       "|| Yusa Wang, et al. -- incl., <mark>Zijian Zhao</mark>, <mark>Xinqiao Li</mark>, <mark>Xiaofan Zhao</mark>, <mark>He Xu</mark>, <mark>Guofeng Wang</mark>, <mark>Shuangnan Zhang</mark>, <mark>Shu Zhang</mark> |\n",
       "|*Appeared on*| *2022-10-31*|\n",
       "|*Comments*| **|\n",
       "|**Abstract**| The 100-m X-ray Test Facility of the Institute of High Energy Physics (IHEP) was initially proposed in 2012 for the test and calibration of the X-ray detectors of the Hard X-ray Modulation Telescope (HXMT) with the capability to support future X-ray missions. The large instrument chamber connected with a long vacuum tube can accommodate the X-ray mirror, focal plane detector and other instruments. The X-ray sources are installed at the other end of the vacuum tube with a distance of 105 m, which can provide an almost parallel X-ray beam covering 0.2$\\sim$60 keV energy band. The X-ray mirror modules of the Einstein Probe (EP) and the enhanced X-ray Timing and Polarimetry mission (eXTP) and payload of the Gravitational wave high-energy Electromagnetic Counterpart All-sky Monitor (GECAM) have been tested and calibrated with this facility. It has been also used to characterize the focal plane camera and aluminum filter used on the Einstein Probe. In this paper, we will introduce the overall configuration and capability of the facility, and give a brief introduction of some calibration results performed with this facility. |\n",
       "|<p style=\"color:green\"> **ERROR** </p>| <p style=\"color:green\">affiliation error: mpia.affiliation_verifications: 'Heidelberg' keyword not found.</p> |"
      ],
      "text/plain": [
       "<IPython.core.display.Markdown object>"
      ]
     },
     "metadata": {},
     "output_type": "display_data"
    },
    {
     "data": {
      "text/markdown": [
       "\n",
       "|||\n",
       "|---:|:---|\n",
       "| [![arXiv](https://img.shields.io/badge/arXiv-arXiv:2210.15857-b31b1b.svg)](https://arxiv.org/abs/arXiv:2210.15857) | **GRB 221009A: A light dark matter burst or an extremely bright Inverse  Compton component?**  |\n",
       "|| M. M. González, et al. -- incl., <mark>S Hernández</mark>, <mark>R. Alfaro</mark> |\n",
       "|*Appeared on*| *2022-10-31*|\n",
       "|*Comments*| *15 pages, 5 figures, 5 tables*|\n",
       "|**Abstract**| Gamma-ray bursts (GRBs) have been considered as potential very high-energy photon emitters due to the large amount of energy released as well as the strong magnetic fields involved. However, the detection of TeV photons is not expected from bursts beyond a redshift of $z\\gtrsim 0.1$ due to the attenuation caused by the interaction with photons from the extragalactic background light (EBL). The observation of an 18-TeV photon from GRB 221009A (z=0.15) last October 9th, 2022 has challenged what we know about the TeV-emission mechanisms and the extragalactic background. Recent explanations exploiting candidates of dark matter have started to appear. In this paper, we discuss the required conditions and limitations within the most plausible scenario, synchrotron-self Compton (SSC) radiation in the GRB afterglow, to interpret the one 18-TeV photon observation besides the EBL. To avoid the Klein-Nishina effect, we find an improbable value of the microphysical magnetic parameter below $10^{-6}$ for a circumburst medium $>{\\rm cm^{-3}}$ (expected in the collapsar scenario). Therefore, we explore possible scenarios in terms of ALPs and dark photon mechanisms to interpret this highly-energetic photon and discuss the implications in the GRB energetics. We find the ALPs and dark photon scenarios explain the 18 TeV photon but not the 251 TeV photon. |\n",
       "|<p style=\"color:green\"> **ERROR** </p>| <p style=\"color:green\">affiliation error: mpia.affiliation_verifications: 'Heidelberg' keyword not found.</p> |"
      ],
      "text/plain": [
       "<IPython.core.display.Markdown object>"
      ]
     },
     "metadata": {},
     "output_type": "display_data"
    },
    {
     "data": {
      "text/markdown": [
       "\n",
       "|||\n",
       "|---:|:---|\n",
       "| [![arXiv](https://img.shields.io/badge/arXiv-arXiv:2210.15892-b31b1b.svg)](https://arxiv.org/abs/arXiv:2210.15892) | **Artificial Intelligence Assisted Inversion (AIAI): Quantifying the  Spectral Features of $^{56}$Ni of Type Ia Supernovae**  |\n",
       "|| Xingzhuo Chen, Lei Hu, <mark>Lifan Wang</mark>, <mark>Peter J. Brown</mark> |\n",
       "|*Appeared on*| *2022-10-31*|\n",
       "|*Comments*| *DLTD*|\n",
       "|**Abstract**| Following our previous study of Artificial Intelligence Assisted Inversion (AIAI) of supernova analyses \\citep{Xingzhuo2020AIAI}, we trained a set of deep neural networks based on the one-dimensional radiative transfer code TARDIS \\citep{tardis} to simulate the optical spectra of Type Ia supernovae (SNe~Ia) between 10 and 40 days after the explosion. The neural network can be applied to derive the elemental abundances from the observed spectra. In this paper, we focus on the mass of $^{56}$Ni and its associated spectral features for a sample of 153 well-observed SNe~Ia. Many of the SNe have multi-epoch observations for which the decay of the radioactive $^{56}$Ni can be tested quantitatively. The $^{56}$Ni mass derived from AIAI using the observed spectra as input for the sample is found to be in agreement with the theoretical $^{56}$Ni decay rate. The AIAI reveals a spectral signature near 3890 \\AA\\ which can be identified as being produced by multiple Ni II lines between $3950$ and $4100\\ \\AA$. The mass deduced from AIAI is found to be correlated to the light-curve shapes of SNe~Ia, with the SNe~Ia with broader light curves showing larger $^{56}$Ni mass in the envelope, further strengthening the validity of the AIAI approach. AIAI enables spectral data of SNe to be quantitatively analyzed under a given theoretical framework and provides insights into the ejecta structure and explosion physics of SNe~Ia. |\n",
       "|<p style=\"color:green\"> **ERROR** </p>| <p style=\"color:green\">affiliation error: mpia.affiliation_verifications: 'Heidelberg' keyword not found.</p> |"
      ],
      "text/plain": [
       "<IPython.core.display.Markdown object>"
      ]
     },
     "metadata": {},
     "output_type": "display_data"
    },
    {
     "data": {
      "text/markdown": [
       "\n",
       "|||\n",
       "|---:|:---|\n",
       "| [![arXiv](https://img.shields.io/badge/arXiv-arXiv:2210.15905-b31b1b.svg)](https://arxiv.org/abs/arXiv:2210.15905) | **Radius-Dependent Spin Transition of Dark Matter Halos**  |\n",
       "|| Jun-Sung Moon, <mark>Jounghun Lee</mark> |\n",
       "|*Appeared on*| *2022-10-31*|\n",
       "|*Comments*| *submitted for publication in ApJ, 18 figures, comments welcome*|\n",
       "|**Abstract**| A numerical detection of the radius-dependent spin transition of dark matter halos is reported. Analyzing the data from the IllustrisTNG simulations, we measure the halo spin vectors at several inner radii within the virial boundaries and investigate their orientations in the principal frames of the tidal and velocity shear fields, called the Tweb and Vweb, respectively. The halo spin vectors in the high-mass section exhibit a transition from the Tweb intermediate to major principal axes as they are measured at more inner radii, which holds for both of the dark matter and baryonic components. The radius threshold at which the transition occurs depends on the smoothing scale, $R_{f}$, becoming larger as $R_{f}$ decreases. For the case of the Vweb, the occurrence of the radius-dependent spin transition is witnessed only when $R_{f}\\ge 1\\, h^{-1}$Mpc. Repeating the same analysis but with the vorticity vectors, we reveal a critical difference from the spins. The vorticity vectors are always perpendicular to the Tweb (Vweb) major principal axes, regardless of $R_{f}$, which indicates that the halo inner spins are not strongly affected by the generation of vorticity. It is also shown that the halo spins, as well as the Tweb (Vweb) principal axes, have more directional coherence over a wide range of radial distances in the regions where the vorticity vectors have higher magnitudes. The physical interpretations and implications of our results are discussed. |\n",
       "|<p style=\"color:green\"> **ERROR** </p>| <p style=\"color:green\">affiliation error: mpia.affiliation_verifications: 'Heidelberg' keyword not found.</p> |"
      ],
      "text/plain": [
       "<IPython.core.display.Markdown object>"
      ]
     },
     "metadata": {},
     "output_type": "display_data"
    },
    {
     "data": {
      "text/markdown": [
       "\n",
       "|||\n",
       "|---:|:---|\n",
       "| [![arXiv](https://img.shields.io/badge/arXiv-arXiv:2210.15918-b31b1b.svg)](https://arxiv.org/abs/arXiv:2210.15918) | **Empirical temperature- and extinction-dependent extinction coefficients  for the GALEX, Pan-STARRS1, Gaia, SDSS, 2MASS, and WISE passbands**  |\n",
       "|| <mark>Ruoyi Zhang</mark>, Haibo Yuan |\n",
       "|*Appeared on*| *2022-10-31*|\n",
       "|*Comments*| *21 pages, 9 figures, 4 table (including appendix), submitted to ApJS. Comments are welcome!*|\n",
       "|**Abstract**| We have obtained accurate dust reddening from far-ultraviolet (UV) to the mid-infrared (IR) for up to 5 million stars by the star-pair algorithm based on LAMOST stellar parameters along with GALEX, Pan-STARRS 1, Gaia, SDSS, 2MASS, and WISE photometric data. The typical errors are between 0.01-0.03 mag for most colors. We derived the empirical reddening coefficients for 21 colors both in the traditional (single valued) way and as a function of Teff and E(B-V) by using the largest samples of accurate reddening measurements, together with the extinction values from Schlegel et al. The corresponding extinction coefficients have also been obtained. The results are compared with model predictions and generally in good agreement. Comparisons with measurements in the literature show that the Teff- and E(B-V)-dependent coefficients explain the discrepancies between different measurements naturally, i.e., using sample stars of different temperatures and reddening. Our coefficients are mostly valid in the extinction range of 0-0.5 mag and the temperature range of 4000-10000 K. We recommend that the new Teff and E(B-V) dependent reddening and extinction coefficients should be used in the future. A Python package is also provided for the usage of the coefficient |\n",
       "|<p style=\"color:green\"> **ERROR** </p>| <p style=\"color:green\">affiliation error: mpia.affiliation_verifications: 'Heidelberg' keyword not found.</p> |"
      ],
      "text/plain": [
       "<IPython.core.display.Markdown object>"
      ]
     },
     "metadata": {},
     "output_type": "display_data"
    },
    {
     "data": {
      "text/markdown": [
       "\n",
       "|||\n",
       "|---:|:---|\n",
       "| [![arXiv](https://img.shields.io/badge/arXiv-arXiv:2210.15993-b31b1b.svg)](https://arxiv.org/abs/arXiv:2210.15993) | **The resolved scaling relations in DustPedia: Zooming in on the local  Universe**  |\n",
       "|| Viviana Casasola, et al. -- incl., <mark>Elisabetta Liuzzo</mark>, <mark>Lara Pantoni</mark> |\n",
       "|*Appeared on*| *2022-10-31*|\n",
       "|*Comments*| *42 pages, 11 figures and 5 tables in the main text, 2 figures and 1 table in Appendix. Accepted for publication in A&A*|\n",
       "|**Abstract**| We perform a homogeneous analysis of an unprecedented set of spatially resolved scaling relations (SRs) between ISM components and other properties in the range of scales 0.3-3.4 kpc. We also study some ratios: dust-to-stellar, dust-to-gas, and dust-to-metal. We use a sample of 18 large, spiral, face-on DustPedia galaxies. All the SRs are moderate/strong correlations except the dust-HI SR that does not exist or is weak for most galaxies. The SRs do not have a universal form but each galaxy is characterized by distinct correlations, affected by local processes and galaxy peculiarities. The SRs hold starting from 0.3 kpc, and if a breaking down scale exists it is < 0.3 kpc. By evaluating all galaxies at 3.4 kpc, differences due to peculiarities of individual galaxies are cancelled out and the corresponding SRs are consistent with those of whole galaxies. By comparing subgalactic and global scales, the most striking result emerges from the SRs involving ISM components: the dust-total gas SR is a good correlation at all scales, while the dust-H2 and dust-HI SRs are good correlations at subkpc/kpc and total scales, respectively. For the other explored SRs, there is a good agreement between small and global scales and this may support the picture where the main physical processes regulating the properties and evolution of galaxies occur locally. Our results are consistent with the hypothesis of self-regulation of the SF process. The analysis of subgalactic ratios shows that they are consistent with those derived for whole galaxies, from low to high z, supporting the idea that also these ratios could be set by local processes. Our results highlight the heterogeneity of galaxy properties and the importance of resolved studies on local galaxies in the context of galaxy evolution. They also provide observational constraints to theoretical models and updated references for high-z studies. |\n",
       "|<p style=\"color:green\"> **ERROR** </p>| <p style=\"color:green\">affiliation error: mpia.affiliation_verifications: 'Heidelberg' keyword not found.</p> |"
      ],
      "text/plain": [
       "<IPython.core.display.Markdown object>"
      ]
     },
     "metadata": {},
     "output_type": "display_data"
    },
    {
     "data": {
      "text/markdown": [
       "\n",
       "|||\n",
       "|---:|:---|\n",
       "| [![arXiv](https://img.shields.io/badge/arXiv-arXiv:2210.16013-b31b1b.svg)](https://arxiv.org/abs/arXiv:2210.16013) | **LoTSS Jellyfish Galaxies IV: Enhanced Star Formation on the Leading Half  of Cluster Galaxies and Gas Compression in IC3949**  |\n",
       "|| Ian D. Roberts, et al. -- incl., <mark>Maojin Lang</mark>, <mark>Lihwai Lin</mark> |\n",
       "|*Appeared on*| *2022-10-31*|\n",
       "|*Comments*| *16 pages, 10 figures, accepted for publication in ApJ*|\n",
       "|**Abstract**| With MaNGA integral field spectroscopy, we present a resolved analysis of star formation for 29 jellyfish galaxies in nearby clusters, identified from radio continuum imaging taken by the Low Frequency Array. Simulations predict enhanced star formation on the \"leading half\" of galaxies undergoing ram pressure stripping, and in this work we report observational evidence for this elevated star formation. The dividing line (through the galaxy center) that maximizes this star formation enhancement is systematically tied to the observed direction of the ram pressure stripped tail, suggesting a physical connection between ram pressure and this star formation enhancement. We also present a case study on the distribution of molecular gas in one jellyfish galaxy from our sample, IC3949, using ALMA CO J=1-0, HCN J=1-0, and HCO$^+$ J=1-0 observations from the ALMaQUEST survey. The $\\mathrm{H_2}$ depletion time (as traced by CO) in IC3949 ranges from $\\sim\\!1\\,\\mathrm{Gyr}$ in the outskirts of the molecular gas disk to $\\sim\\!11\\,\\mathrm{Gyr}$ near the galaxy center. IC3949 shows a clear region of enhanced star formation on the leading half of the galaxy where the average depletion time is $\\sim\\!2.7\\,\\mathrm{Gyr}$, in line with the median value for the galaxy on the whole. Dense gas tracers, HCN and HCO$^+$, are only detected at the galaxy center and on the leading half of IC3949. Our results favour a scenario in which ram pressure compresses the interstellar medium, promoting the formation of molecular gas that in turn fuels a localized increase of star formation. |\n",
       "|<p style=\"color:green\"> **ERROR** </p>| <p style=\"color:green\">affiliation error: mpia.affiliation_verifications: 'Heidelberg' keyword not found.</p> |"
      ],
      "text/plain": [
       "<IPython.core.display.Markdown object>"
      ]
     },
     "metadata": {},
     "output_type": "display_data"
    },
    {
     "data": {
      "text/markdown": [
       "\n",
       "|||\n",
       "|---:|:---|\n",
       "| [![arXiv](https://img.shields.io/badge/arXiv-arXiv:2210.16091-b31b1b.svg)](https://arxiv.org/abs/arXiv:2210.16091) | **Oblique Quasi-Kink Modes in Solar Coronal Slabs Embedded in an  Asymmetric Magnetic Environment: Resonant Damping, Phase and Group Diagrams**  |\n",
       "|| Shao-Xia Chen, et al. -- incl., <mark>Bo Li</mark>, <mark>Mingzhe Guo</mark> |\n",
       "|*Appeared on*| *2022-10-31*|\n",
       "|*Comments*| *31 pages (single column), 8 figures, accepted for publication in ApJ*|\n",
       "|**Abstract**| There has been considerable interest in magnetoacoustic waves in static, straight, field-aligned, one-dimensional equilibria where the exteriors of a magnetic slab are different between the two sides. We focus on trapped, transverse fundamental, oblique quasi-kink modes in pressureless setups where the density varies continuously from a uniform interior (with density $\\rho_{\\rm i}$) to a uniform exterior on either side (with density $\\rho_{\\rm L}$ or $\\rho_{\\rm R}$), assuming $\\rho_{\\rm L}\\le\\rho_{\\rm R}\\le\\rho_{\\rm i}$. The continuous structuring and oblique propagation make our study new relative to pertinent studies, and lead to wave damping via the Alfv$\\acute{\\rm e}$n resonance. We compute resonantly damped quasi-kink modes as resistive eigenmodes, and isolate the effects of system asymmetry by varying $\\rho_{\\rm i}/\\rho_{\\rm R}$ from the ``Fully Symmetric'' ($\\rho_{\\rm i}/\\rho_{\\rm R}=\\rho_{\\rm i}/\\rho_{\\rm L}$) to the ``Fully Asymmetric'' limit ($\\rho_{\\rm i}/\\rho_{\\rm R}=1$). We find that the damping rates possess a nonmonotonic $\\rho_{\\rm i}/\\rho_{\\rm R}$-dependence as a result of the difference between the two Alfv$\\acute{\\rm e}$n continua, and resonant absorption occurs only in one continuum when $\\rho_{\\rm i}/\\rho_{\\rm R}$ is below some threshold. We also find that the system asymmetry results in two qualitatively different regimes for the phase and group diagrams. The phase and group trajectories lie essentially on the same side (different sides) relative to the equilibrium magnetic field when the configuration is not far from a ``Fully Asymmetric'' (``Fully Symmetric'') one. Our numerical results are understood by making analytical progress in the thin-boundary limit, and discussed for imaging observations of axial standing modes and impulsively excited wavetrains. |\n",
       "|<p style=\"color:green\"> **ERROR** </p>| <p style=\"color:green\">affiliation error: mpia.affiliation_verifications: 'Heidelberg' keyword not found.</p> |"
      ],
      "text/plain": [
       "<IPython.core.display.Markdown object>"
      ]
     },
     "metadata": {},
     "output_type": "display_data"
    },
    {
     "data": {
      "text/markdown": [
       "\n",
       "|||\n",
       "|---:|:---|\n",
       "| [![arXiv](https://img.shields.io/badge/arXiv-arXiv:2210.16094-b31b1b.svg)](https://arxiv.org/abs/arXiv:2210.16094) | **Constrain the Merger History of Primordial-Black-Hole Binaries from  GWTC-3**  |\n",
       "|| <mark>Lang Liu</mark>, Zhi-Qiang You, You Wu, Zu-Cheng Chen |\n",
       "|*Appeared on*| *2022-10-31*|\n",
       "|*Comments*| *10 pages, 8 figures, 2 tables*|\n",
       "|**Abstract**| Primordial black holes (PBHs) can be not only cold dark matter candidates but also progenitors of binary black holes observed by LIGO-Virgo-KAGRA (LVK) Collaboration. The PBH mass can be shifted to the heavy distribution if multi-merger processes occur. In this work, we constrain the merger history of PBH binaries using the gravitational wave events from the third Gravitational-Wave Transient Catalog (GWTC-3). Considering four commonly used PBH mass functions, namely the log-normal, power-law, broken power-law, and critical collapse forms, we find that the multi-merger processes make a subdominant contribution to the total merger rate. Therefore, the effect of merger history can be safely ignored when estimating the merger rate of PBH binaries. We also find that GWTC-3 is best fitted by the log-normal form among the four PBH mass functions and confirm that the stellar-mass PBHs cannot dominate cold dark matter. |\n",
       "|<p style=\"color:green\"> **ERROR** </p>| <p style=\"color:green\">affiliation error: mpia.affiliation_verifications: 'Heidelberg' keyword not found.</p> |"
      ],
      "text/plain": [
       "<IPython.core.display.Markdown object>"
      ]
     },
     "metadata": {},
     "output_type": "display_data"
    },
    {
     "data": {
      "text/markdown": [
       "\n",
       "|||\n",
       "|---:|:---|\n",
       "| [![arXiv](https://img.shields.io/badge/arXiv-arXiv:2210.16104-b31b1b.svg)](https://arxiv.org/abs/arXiv:2210.16104) | **Three-Dimensional Propagation of Kink Wave Trains in Solar Coronal Slabs**  |\n",
       "|| <mark>Bo Li</mark>, et al. -- incl., <mark>Mingzhe Guo</mark> |\n",
       "|*Appeared on*| *2022-10-31*|\n",
       "|*Comments*| *5 pages, 4 figures, accepted for publication in MNRAS Letters*|\n",
       "|**Abstract**| Impulsively excited wave trains are of considerable interest in solar coronal seismology. To our knowledge, however, it remains to examine the three-dimensional (3D) dispersive propagation of impulsive kink waves in straight, field-aligned, symmetric, low-beta, slab equilibria that are structured only in one transverse direction. We offer a study here, starting with an analysis of linear oblique kink modes from an eigenvalue problem perspective. Two features are numerically found for continuous and step structuring alike, one being that the group and phase velocities may lie on opposite sides of the equilibrium magnetic field ($\\vec{B}_0$), and the other being that the group trajectories extend only to a limited angle from $\\vec{B}_0$. We justify these features by making analytical progress for the step structuring. More importantly, we demonstrate by a 3D time-dependent simulation that these features show up in the intricate interference patterns of kink wave trains that arise from a localized initial perturbation. In a plane perpendicular to the direction of inhomogeneity, the large-time slab-guided patterns are confined to a narrow sector about $\\vec{B}_0$, with some wavefronts propagating toward $\\vec{B}_0$. We conclude that the phase and group diagrams lay the necessary framework for understanding the complicated time-dependent behavior of impulsive waves. |\n",
       "|<p style=\"color:green\"> **ERROR** </p>| <p style=\"color:green\">affiliation error: mpia.affiliation_verifications: 'Heidelberg' keyword not found.</p> |"
      ],
      "text/plain": [
       "<IPython.core.display.Markdown object>"
      ]
     },
     "metadata": {},
     "output_type": "display_data"
    },
    {
     "data": {
      "text/markdown": [
       "\n",
       "|||\n",
       "|---:|:---|\n",
       "| [![arXiv](https://img.shields.io/badge/arXiv-arXiv:2210.16112-b31b1b.svg)](https://arxiv.org/abs/arXiv:2210.16112) | **Red riding on hood: Exploring how galaxy colour depends on environment**  |\n",
       "|| Pankaj C. Bhambhani, et al. -- incl., <mark>M. A. Lara-Lopez</mark> |\n",
       "|*Appeared on*| *2022-10-31*|\n",
       "|*Comments*| *submitted to MNRAS; 15 pages; 12 figures; 1 table; comments welcome*|\n",
       "|**Abstract**| Galaxy populations are known to exhibit a strong colour bimodality, corresponding to blue star-forming and red quiescent subpopulations. The relative abundance of the two populations has been found to vary with stellar mass and environment. In this paper, we explore the effect of environment considering different types of measurements. We choose a sample of 49, 911 galaxie with $0.05 < z < 0.18$ from the Galaxy And Mass Assembly survey. We study the dependence of the fraction of red galaxies on different measures of the local environment as well as the large-scale \"geometric\" environment arXiv:1412.2141 [astro-ph.CO] defined by density gradients in the surrounding cosmic web. We find that the red galaxy fraction varies with the environment independently of stellar mass. The local environmental measures exhibit a larger variation in red fraction from lower to higher density, as compared to the geometric environment. By comparing the different environmental densities pairwise, we show that no density measurement fully explains the observed environmental red fraction variation, suggesting the different densities contain different information. We test whether the local environmental measures, when combined together, can explain all the observed environmental red fraction variation. The geometric environment has a small residual effect, and this effect is larger for voids than any other type of geometric environment. This could provide a test of the physics applied to cosmological-scale galaxy evolution simulations as it combines large-scale effects with local environmental impact. |\n",
       "|<p style=\"color:green\"> **ERROR** </p>| <p style=\"color:green\">affiliation error: mpia.affiliation_verifications: 'Heidelberg' keyword not found.</p> |"
      ],
      "text/plain": [
       "<IPython.core.display.Markdown object>"
      ]
     },
     "metadata": {},
     "output_type": "display_data"
    },
    {
     "data": {
      "text/markdown": [
       "\n",
       "|||\n",
       "|---:|:---|\n",
       "| [![arXiv](https://img.shields.io/badge/arXiv-arXiv:2210.16130-b31b1b.svg)](https://arxiv.org/abs/arXiv:2210.16130) | **Prospects for Constraining the Yukawa Gravity with Pulsars around  Sagittarius A***  |\n",
       "|| Yiming Dong, et al. -- incl., <mark>Lijing Shao</mark> |\n",
       "|*Appeared on*| *2022-10-31*|\n",
       "|*Comments*| *17 pages, 5 figures*|\n",
       "|**Abstract**| The discovery of radio pulsars (PSRs) around the supermassive black hole (SMBH) in our Galactic Center (GC), Sagittarius A* (Sgr A*), will have significant implications for tests of gravity. In this paper, we predict restrictions on the parameters of the Yukawa gravity by timing a pulsar around Sgr A* with a variety of orbital parameters. Based on a realistic timing accuracy of the times of arrival (TOAs), $\\sigma_{\\rm TOA}=100\\,\\mu{\\rm s}$, and using a number of 960 TOAs in a 20-yr observation, our numerical simulations show that the PSR-SMBH system will improve current tests of the Yukawa gravity when the range of the Yukawa interaction varies between $10^{1}$-$10^{4}\\,{\\rm AU}$, and it can limit the graviton mass to be $m_g \\lesssim 10^{-24}\\,{\\rm eV}/c^2$. |\n",
       "|<p style=\"color:green\"> **ERROR** </p>| <p style=\"color:green\">affiliation error: mpia.affiliation_verifications: 'Heidelberg' keyword not found.</p> |"
      ],
      "text/plain": [
       "<IPython.core.display.Markdown object>"
      ]
     },
     "metadata": {},
     "output_type": "display_data"
    },
    {
     "data": {
      "text/markdown": [
       "\n",
       "|||\n",
       "|---:|:---|\n",
       "| [![arXiv](https://img.shields.io/badge/arXiv-arXiv:2210.16275-b31b1b.svg)](https://arxiv.org/abs/arXiv:2210.16275) | **The THESAN project: Lyman-alpha emitter luminosity function calibration**  |\n",
       "|| Clara Xu, et al. -- incl., <mark>Aaron Smith</mark>, <mark>Lars Hernquist</mark> |\n",
       "|*Appeared on*| *2022-10-31*|\n",
       "|*Comments*| *17 pages, 15 figures. Comments welcome. Please visit www.thesan-project.com for more details*|\n",
       "|**Abstract**| The observability of Lyman-alpha emitting galaxies (LAEs) during the Epoch of Reionization can provide a sensitive probe of the evolving neutral hydrogen gas distribution, thus setting valuable constraints to distinguish different reionization models. In this study, we utilize the new THESAN suite of large-volume (95.5 cMpc) cosmological radiation-hydrodynamic simulations to directly model the Ly$\\alpha$ emission from individual galaxies and the subsequent transmission through the intergalactic medium. THESAN combines the AREPO-RT radiation-hydrodynamic solver with the IllustrisTNG galaxy formation model and includes high- and medium-resolution simulations designed to investigate the impacts of halo-mass-dependent escape fractions, alternative dark matter models, and numerical convergence. We find important differences in the Ly$\\alpha$ transmission based on reionization history, bubble morphology, frequency offset from line centre, and galaxy brightness. For a given global neutral fraction, Ly$\\alpha$ transmission reduces slightly when low mass haloes dominate reionization over high mass haloes. Furthermore, the variation across sightlines for a single galaxy is greater than the variation across all galaxies. This collectively affects the visibility of LAEs, directly impacting observed Ly$\\alpha$ luminosity functions (LFs). We employ Gaussian Process Regression using SWIFTEmulator to rapidly constrain an empirical model for dust escape fractions and emergent spectral line profiles to match observed LFs. We find that dust strongly impacts the Ly$\\alpha$ transmission and covering fractions of $M_{UV} < -19$ galaxies in $M_{vir} > 10^{11} {\\rm M}_{\\odot}$ haloes, such that the dominant mode of removing Ly$\\alpha$ photons in non-LAEs changes from low IGM transmission to high dust absorption around $z \\sim 7$. |\n",
       "|<p style=\"color:green\"> **ERROR** </p>| <p style=\"color:green\">affiliation error: mpia.affiliation_verifications: 'Heidelberg' keyword not found.</p> |"
      ],
      "text/plain": [
       "<IPython.core.display.Markdown object>"
      ]
     },
     "metadata": {},
     "output_type": "display_data"
    },
    {
     "data": {
      "text/markdown": [
       "\n",
       "|||\n",
       "|---:|:---|\n",
       "| [![arXiv](https://img.shields.io/badge/arXiv-arXiv:2210.16014-b31b1b.svg)](https://arxiv.org/abs/arXiv:2210.16014) | **Kinetic field theory: Generic effects of alternative gravity theories on  non-linear cosmic density-fluctuations**  |\n",
       "|| Alexander Oestreicher, et al. -- incl., <mark>Lavinia Heisenberg</mark> |\n",
       "|*Appeared on*| *2022-10-31*|\n",
       "|*Comments*| *Submitted to JCAP*|\n",
       "|**Abstract**| Non-linear cosmic structures contain valuable information on the expansion history of the background space-time, the nature of dark matter, and the gravitational interaction. The recently developed kinetic field theory of cosmic structure formation (KFT) allows to accurately calculate the non-linear power spectrum of cosmic density fluctuations up to wave numbers of $k\\lesssim10\\,h\\,\\mathrm{Mpc}^{-1}$ at redshift zero. Cosmology and gravity enter this calculation via two functions, viz. the background expansion function and possibly a time-dependent modification of the gravitational coupling strength. The success of the cosmological standard model based on general relativity suggests that cosmological models in generalized theories of gravity should have observable effects differing only weakly from those in standard cosmology. Based on this assumption, we derive the functional, first-order Taylor expansion of the non-linear power spectrum of cosmic density fluctuations obtained from the mean-field approximation in KFT in terms of the expansion function and the gravitational coupling strength. This allows us to study non-linear power spectra expected in large classes of generalized gravity theories. To give one example, we apply our formalism to generalized Proca theories. |\n",
       "|<p style=\"color:green\"> **ERROR** </p>| <p style=\"color:green\">affiliation error: mpia.affiliation_verifications: 'Max' keyword not found.</p> |"
      ],
      "text/plain": [
       "<IPython.core.display.Markdown object>"
      ]
     },
     "metadata": {},
     "output_type": "display_data"
    },
    {
     "data": {
      "text/markdown": [
       "\n",
       "|||\n",
       "|---:|:---|\n",
       "| [![arXiv](https://img.shields.io/badge/arXiv-arXiv:2210.15983-b31b1b.svg)](https://arxiv.org/abs/arXiv:2210.15983) | **Re-investigating stellar, solar and galactic spectral modulations:  rapidly oscillating spacetime effects due to axions or numerical ghosts?**  |\n",
       "|| Fabrizio Tamburini, <mark>Ignazio Licata</mark> |\n",
       "|*Appeared on*| *2022-10-31*|\n",
       "|*Comments*| *9 pages, 1 table*|\n",
       "|**Abstract**| In our previous work [Tamburini and Licata (2017)] we discussed the hypothesis that the ultrafast periodic spectral modulations with frequency $f_S \\simeq 0.61$ THz found by Borra and Trottier (2016) in $236$ main sequence stars from a sample of $2.5$ million spectra of galactic halo stars of the Sloan Digital Sky Survey were due to axion-like dark matter piled up in the center of these stars. These temporary matter/dark matter structures are characterized by a spacetime geometry rapidly oscillating at frequencies that depend on the axion mass $m_a$ [Brito {\\it et~al.} (2015); Brito {\\it et~al.} (2016)]. Borra (2013) found two additional frequencies, $ f_{1,G} \\simeq 9.5$ THz and $f_{2,G} \\simeq 8.9$ THz, in the Sloan dataset of galaxies, redshifted by the cosmological expansion and, for any redshift value, $f_S + f_{2,G} = f_{1,G}$ is found. Hippke (2019) showed that $f_{2,G}$ is spurious and introduced by the data analysis procedure due to the nonrandom spacing of the spectral absorption lines. This was not even found by Isaacson (2019) when re-observed four of these stars with different instrumentation and data reduction procedure. Interestingly, Hippke found $f_S$ in the solar spectrum but not in the Kurucz (2005) artificial solar spectrum whilst its spectral power estimated by Isaacson resulted below the accepted error $(1\\%)$. From these results, we discuss the validity of our ansatz by analyzing the common features present in all the spectra. In the worst case, if all the three frequencies are not real the oscillating axion core models is not valid. Assuming, instead, the validity of $f_S$ from the results from the analysis of the solar spectra, those oscillating modes may be transient modes favoring the axion hypothesis in the mass range $(10^{- 3} < m_a < 2.4 \\times 10^{3})~ \\mathrm{\\mu eV}$, also according to the recent limits from the gamma ray burst GRB221009A. |\n",
       "|<p style=\"color:red\"> **ERROR** </p>| <p style=\"color:red\">latex error invalid header</p> |"
      ],
      "text/plain": [
       "<IPython.core.display.Markdown object>"
      ]
     },
     "metadata": {},
     "output_type": "display_data"
    }
   ],
   "source": [
    "import datetime\n",
    "today = str(datetime.date.today())\n",
    "logfile = f\"_build/html/logs/log-{today}.md\"\n",
    "\n",
    "\n",
    "with open(logfile, 'w') as logs:\n",
    "    # Success\n",
    "    logs.write(f'# Arxiv on Deck 2: Logs - {today}\\n\\n')\n",
    "    logs.write(\"\"\"* Arxiv had {0:,d} new papers\\n\"\"\".format(len(new_papers)))\n",
    "    logs.write(\"\"\"    * {0:,d} with possible author matches\\n\\n\"\"\".format(len(candidates)))\n",
    "    logs.write(\"## Sucessful papers\\n\\n\")\n",
    "    display(Markdown(\"## Successful papers\"))\n",
    "    success = [k[0] for k in documents]\n",
    "    for candid in candidates:\n",
    "        if candid['identifier'].split(':')[-1] in success:\n",
    "            display(candid)\n",
    "            logs.write(candid.generate_markdown_text() + '\\n\\n')\n",
    "\n",
    "    ## failed\n",
    "    logs.write(\"## Failed papers\\n\\n\")\n",
    "    display(Markdown(\"## Failed papers\"))\n",
    "    failed = sorted(failed, key=lambda x: x[1])\n",
    "    current_reason = \"\"\n",
    "    for paper, reason in failed:\n",
    "        if 'affiliation' in reason:\n",
    "            color = 'green'\n",
    "        else:\n",
    "            color = 'red'\n",
    "        data = Markdown(\n",
    "                paper.generate_markdown_text() + \n",
    "                f'\\n|<p style=\"color:{color:s}\"> **ERROR** </p>| <p style=\"color:{color:s}\">{reason:s}</p> |'\n",
    "               )\n",
    "        if reason != current_reason:\n",
    "            logs.write(f'### {reason:s} \\n\\n')\n",
    "            current_reason = reason\n",
    "        logs.write(data.data + '\\n\\n')\n",
    "        \n",
    "        # only display here the important errors (all in logs)\n",
    "        # if color in ('red',):\n",
    "        display(data)"
   ]
  },
  {
   "cell_type": "markdown",
   "id": "472d20ee",
   "metadata": {
    "papermill": {
     "duration": 0.008496,
     "end_time": "2022-10-31T04:40:00.476438",
     "exception": false,
     "start_time": "2022-10-31T04:40:00.467942",
     "status": "completed"
    },
    "tags": []
   },
   "source": [
    "## Export documents\n",
    "\n",
    "We now write the .md files and export relevant images"
   ]
  },
  {
   "cell_type": "code",
   "execution_count": 7,
   "id": "d426aed9",
   "metadata": {
    "execution": {
     "iopub.execute_input": "2022-10-31T04:40:00.494681Z",
     "iopub.status.busy": "2022-10-31T04:40:00.494249Z",
     "iopub.status.idle": "2022-10-31T04:40:00.501191Z",
     "shell.execute_reply": "2022-10-31T04:40:00.500581Z"
    },
    "papermill": {
     "duration": 0.017591,
     "end_time": "2022-10-31T04:40:00.502535",
     "exception": false,
     "start_time": "2022-10-31T04:40:00.484944",
     "status": "completed"
    },
    "tags": []
   },
   "outputs": [],
   "source": [
    "def export_markdown_summary(md: str, md_fname:str, directory: str):\n",
    "    \"\"\"Export MD document and associated relevant images\"\"\"\n",
    "    import os\n",
    "    import shutil\n",
    "    import re\n",
    "\n",
    "    if (os.path.exists(directory) and not os.path.isdir(directory)):\n",
    "        raise RuntimeError(f\"a non-directory file exists with name {directory:s}\")\n",
    "\n",
    "    if (not os.path.exists(directory)):\n",
    "        print(f\"creating directory {directory:s}\")\n",
    "        os.mkdir(directory)\n",
    "\n",
    "    fig_fnames = (re.compile(r'\\[Fig.*\\]\\((.*)\\)').findall(md) + \n",
    "                  re.compile(r'\\<img src=\"([^>\\s]*)\"[^>]*/>').findall(md))\n",
    "    for fname in fig_fnames:\n",
    "        if 'http' in fname:\n",
    "            # No need to copy online figures\n",
    "            continue\n",
    "        destdir = os.path.join(directory, os.path.dirname(fname))\n",
    "        destfname = os.path.join(destdir, os.path.basename(fname))\n",
    "        try:\n",
    "            os.makedirs(destdir)\n",
    "        except FileExistsError:\n",
    "            pass\n",
    "        shutil.copy(fname, destfname)\n",
    "    with open(os.path.join(directory, md_fname), 'w') as fout:\n",
    "        fout.write(md)\n",
    "    print(\"exported in \", os.path.join(directory, md_fname))\n",
    "    [print(\"    + \" + os.path.join(directory,fk)) for fk in fig_fnames]"
   ]
  },
  {
   "cell_type": "code",
   "execution_count": 8,
   "id": "014d04a4",
   "metadata": {
    "execution": {
     "iopub.execute_input": "2022-10-31T04:40:00.520689Z",
     "iopub.status.busy": "2022-10-31T04:40:00.520479Z",
     "iopub.status.idle": "2022-10-31T04:40:00.524398Z",
     "shell.execute_reply": "2022-10-31T04:40:00.523776Z"
    },
    "papermill": {
     "duration": 0.014689,
     "end_time": "2022-10-31T04:40:00.525841",
     "exception": false,
     "start_time": "2022-10-31T04:40:00.511152",
     "status": "completed"
    },
    "tags": []
   },
   "outputs": [],
   "source": [
    "for paper_id, md in documents:\n",
    "    export_markdown_summary(md, f\"{paper_id:s}.md\", '_build/html/')"
   ]
  },
  {
   "cell_type": "markdown",
   "id": "f087a0a7",
   "metadata": {
    "papermill": {
     "duration": 0.008474,
     "end_time": "2022-10-31T04:40:00.542783",
     "exception": false,
     "start_time": "2022-10-31T04:40:00.534309",
     "status": "completed"
    },
    "tags": []
   },
   "source": [
    "## Display the papers\n",
    "\n",
    "Not necessary but allows for a quick check."
   ]
  },
  {
   "cell_type": "code",
   "execution_count": 9,
   "id": "fd25f625",
   "metadata": {
    "execution": {
     "iopub.execute_input": "2022-10-31T04:40:00.561118Z",
     "iopub.status.busy": "2022-10-31T04:40:00.560494Z",
     "iopub.status.idle": "2022-10-31T04:40:00.564793Z",
     "shell.execute_reply": "2022-10-31T04:40:00.563744Z"
    },
    "papermill": {
     "duration": 0.014886,
     "end_time": "2022-10-31T04:40:00.566219",
     "exception": false,
     "start_time": "2022-10-31T04:40:00.551333",
     "status": "completed"
    },
    "scrolled": false,
    "tags": []
   },
   "outputs": [],
   "source": [
    "[display(Markdown(k[1])) for k in documents];"
   ]
  },
  {
   "cell_type": "markdown",
   "id": "873873a4",
   "metadata": {
    "papermill": {
     "duration": 0.008453,
     "end_time": "2022-10-31T04:40:00.583220",
     "exception": false,
     "start_time": "2022-10-31T04:40:00.574767",
     "status": "completed"
    },
    "tags": []
   },
   "source": [
    "# Create HTML index"
   ]
  },
  {
   "cell_type": "code",
   "execution_count": 10,
   "id": "cf665672",
   "metadata": {
    "execution": {
     "iopub.execute_input": "2022-10-31T04:40:00.602014Z",
     "iopub.status.busy": "2022-10-31T04:40:00.601445Z",
     "iopub.status.idle": "2022-10-31T04:40:00.610035Z",
     "shell.execute_reply": "2022-10-31T04:40:00.609424Z"
    },
    "papermill": {
     "duration": 0.019328,
     "end_time": "2022-10-31T04:40:00.611520",
     "exception": false,
     "start_time": "2022-10-31T04:40:00.592192",
     "status": "completed"
    },
    "tags": []
   },
   "outputs": [
    {
     "name": "stdout",
     "output_type": "stream",
     "text": [
      "73  publications in the last 7 days.\n",
      "\t _build/html/2210.12412.md\n",
      "\t _build/html/2210.11926.md\n",
      "\t _build/html/2210.11551.md\n",
      "\t _build/html/2210.11103.md\n",
      "\t _build/html/2210.10707.md\n",
      "\t _build/html/2210.09930.md\n",
      "\t _build/html/2210.08996.md\n",
      "\t _build/html/2210.08517.md\n",
      "\t _build/html/2210.08510.md\n",
      "\t _build/html/2210.08078.md\n",
      "\t _build/html/2210.06504.md\n",
      "\t _build/html/2210.05695.md\n",
      "\t _build/html/2210.05595.md\n",
      "\t _build/html/2210.05505.md\n",
      "\t _build/html/2210.04721.md\n",
      "\t _build/html/2210.03615.md\n",
      "\t _build/html/2210.01811.md\n",
      "\t _build/html/2210.01809.md\n",
      "\t _build/html/2210.01556.md\n",
      "\t _build/html/2210.00863.md\n",
      "\t _build/html/2210.00560.md\n",
      "\t _build/html/2209.15403.md\n",
      "\t _build/html/2209.15110.md\n",
      "\t _build/html/2209.14410.md\n",
      "\t _build/html/2209.14396.md\n",
      "\t _build/html/2209.13717.md\n",
      "\t _build/html/2209.13336.md\n",
      "\t _build/html/2209.12906.md\n",
      "\t _build/html/2209.11781.md\n",
      "\t _build/html/2209.11602.md\n",
      "\t _build/html/2209.11248.md\n",
      "\t _build/html/2209.11096.md\n",
      "\t _build/html/2209.10618.md\n",
      "\t _build/html/2209.09914.md\n",
      "\t _build/html/2209.09823.md\n",
      "\t _build/html/2209.08242.md\n",
      "\t _build/html/2209.08120.md\n",
      "\t _build/html/2209.08106.md\n",
      "\t _build/html/2209.07962.md\n",
      "\t _build/html/2209.07931.md\n",
      "\t _build/html/2209.06833.md\n",
      "\t _build/html/2209.05814.md\n",
      "\t _build/html/2209.05593.md\n",
      "\t _build/html/2209.04304.md\n",
      "\t _build/html/2209.03367.md\n",
      "\t _build/html/2209.02872.md\n",
      "\t _build/html/2209.02725.md\n",
      "\t _build/html/2209.02722.md\n",
      "\t _build/html/2209.02092.md\n",
      "\t _build/html/2209.01125.md\n",
      "\t _build/html/2209.00828.md\n",
      "\t _build/html/2209.00363.md\n",
      "\t _build/html/2208.14927.md\n",
      "\t _build/html/2208.09335.md\n",
      "\t _build/html/2208.08872.md\n",
      "\t _build/html/2204.06393.md\n",
      "\t _build/html/2204.03335.md\n",
      "\t _build/html/2204.03253.md\n",
      "\t _build/html/2204.02998.md\n",
      "\t _build/html/2204.02109.md\n",
      "\t _build/html/2204.02017.md\n",
      "\t _build/html/2204.01824.md\n",
      "\t _build/html/2204.01758.md\n",
      "\t _build/html/2204.01245.md\n",
      "\t _build/html/2204.00793.md\n",
      "\t _build/html/2204.00342.md\n",
      "\t _build/html/2203.16959.md\n",
      "\t _build/html/2203.16856.md\n",
      "\t _build/html/2203.16735.md\n",
      "\t _build/html/2203.16734.md\n",
      "\t _build/html/2203.16504.md\n",
      "\t _build/html/2203.15822.md\n",
      "\t _build/html/2203.15811.md\n"
     ]
    }
   ],
   "source": [
    "from datetime import datetime, timedelta, timezone\n",
    "from glob import glob\n",
    "\n",
    "files = glob('_build/html/*.md')\n",
    "days = 7\n",
    "now = datetime.today()\n",
    "res = []\n",
    "for fk in files:\n",
    "    stat_result = os.stat(fk).st_ctime\n",
    "    modified = datetime.fromtimestamp(stat_result, tz=timezone.utc).replace(tzinfo=None)\n",
    "    delta = now.today() - modified\n",
    "    if delta <= timedelta(days=days):\n",
    "        res.append((delta.seconds, fk))\n",
    "res = [k[1] for k in reversed(sorted(res, key=lambda x:x[1]))]\n",
    "npub = len(res)\n",
    "print(len(res), f\" publications in the last {days:d} days.\")\n",
    "[ print('\\t', k) for k in res ];"
   ]
  },
  {
   "cell_type": "code",
   "execution_count": 11,
   "id": "52ca0208",
   "metadata": {
    "execution": {
     "iopub.execute_input": "2022-10-31T04:40:00.630343Z",
     "iopub.status.busy": "2022-10-31T04:40:00.629774Z",
     "iopub.status.idle": "2022-10-31T04:40:00.635889Z",
     "shell.execute_reply": "2022-10-31T04:40:00.635338Z"
    },
    "papermill": {
     "duration": 0.016995,
     "end_time": "2022-10-31T04:40:00.637326",
     "exception": false,
     "start_time": "2022-10-31T04:40:00.620331",
     "status": "completed"
    },
    "scrolled": false,
    "tags": []
   },
   "outputs": [],
   "source": [
    "def create_carousel(npub=4):\n",
    "    \"\"\" Generate the HTML code for a carousel with `npub` slides \"\"\"\n",
    "    carousel = [\"\"\"<section class=\"carousel\" aria-label=\"Gallery\">\"\"\",\n",
    "                \"\"\"  <ol class=\"carousel__viewport\">\"\"\",\n",
    "    ]\n",
    "    for k in range(1, npub + 1):\n",
    "        prev_ = k - 1\n",
    "        next_ = k + 1\n",
    "        if prev_ <= 0:\n",
    "            prev_ = npub\n",
    "        if next_ > npub:\n",
    "            next_ = 1\n",
    "        text  = f\"\"\"    <li id=\"carousel__slide{k}\" tabindex=\"0\" class=\"carousel__slide\">\\n\"\"\"\n",
    "        text += f\"\"\"       <div class=\"carousel__snapper\">\\n\"\"\"\n",
    "        text += f\"\"\"         <a href=\"#carousel__slide{prev_}\" class=\"carousel__prev\">Go to previous slide</a>\\n\"\"\"\n",
    "        text += f\"\"\"         <a href=\"#carousel__slide{next_}\" class=\"carousel__next\">Go to next slide</a>\\n\"\"\"\n",
    "        text += f\"\"\"         <div id=\"slide{k}_content\" class=\"md_view\" >Content {k}</div>\\n\"\"\"\n",
    "        text += f\"\"\"       </div>\\n\"\"\"\n",
    "        text += f\"\"\"    </li>\"\"\"\n",
    "        carousel.append(text)\n",
    "\n",
    "    carousel.extend([\n",
    "        \"\"\"  </ol>\"\"\",\n",
    "        \"\"\"  <aside class=\"carousel__navigation\">\"\"\",\n",
    "        \"\"\"    <ol class=\"carousel__navigation-list\">\"\"\"])\n",
    "\n",
    "    for k in range(1, npub + 1):\n",
    "        text  = f\"\"\"      <li class=\"carousel__navigation-item\">\\n\"\"\"\n",
    "        text += f\"\"\"        <a href=\"#carousel__slide{k}\" class=\"carousel__navigation-button\">Go to {k}</a>\\n\"\"\"\n",
    "        text += f\"\"\"      </li>\"\"\"\n",
    "        carousel.append(text)\n",
    "    carousel.extend([\"\"\"    </ol>\"\"\", \"\"\"  </aside>\"\"\", \"\"\"</section>\"\"\"])\n",
    "\n",
    "    return '\\n'.join(carousel)"
   ]
  },
  {
   "cell_type": "code",
   "execution_count": 12,
   "id": "a6eac5b6",
   "metadata": {
    "execution": {
     "iopub.execute_input": "2022-10-31T04:40:00.656036Z",
     "iopub.status.busy": "2022-10-31T04:40:00.655632Z",
     "iopub.status.idle": "2022-10-31T04:40:00.662069Z",
     "shell.execute_reply": "2022-10-31T04:40:00.661073Z"
    },
    "papermill": {
     "duration": 0.017539,
     "end_time": "2022-10-31T04:40:00.663583",
     "exception": false,
     "start_time": "2022-10-31T04:40:00.646044",
     "status": "completed"
    },
    "scrolled": false,
    "tags": []
   },
   "outputs": [],
   "source": [
    "carousel = create_carousel(npub)\n",
    "docs = ', '.join(['\"{0:s}\"'.format(k.split('/')[-1]) for k in res])\n",
    "slides = ', '.join([f'\"slide{k}_content\"' for k in range(1, npub + 1)])\n",
    "\n",
    "script = f\"\"\"\n",
    "const docs = [{docs}]\n",
    "\n",
    "const slides = [{slides}]\n",
    "\"\"\" + \"\"\"\n",
    "async function run() {\n",
    "    for (let i = 0; i < docs.length; i++) {\n",
    "        let file = await fetch(docs[i]);\n",
    "        let text = await file.text()\n",
    "        document.getElementById(slides[i]).innerHTML =\n",
    "            marked.parse(text);\n",
    "    }\n",
    "    hljs.highlightAll();\n",
    "}\n",
    "run()\n",
    "\"\"\"\n",
    "\n",
    "page = f\"\"\"<!doctype html>\n",
    "<html lang=\"en\">\n",
    "\n",
    "<head>\n",
    "  <meta charset=\"utf-8\">\n",
    "  <meta name=\"viewport\" content=\"width=device-width, initial-scale=1\">\n",
    "  <!-- Bootstrap CSS -->\n",
    "  <link href=\"https://cdn.jsdelivr.net/npm/bootstrap@5.0.2/dist/css/bootstrap.min.css\" rel=\"stylesheet\"\n",
    "   integrity=\"sha384-EVSTQN3/azprG1Anm3QDgpJLIm9Nao0Yz1ztcQTwFspd3yD65VohhpuuCOmLASjC\" crossorigin=\"anonymous\">\n",
    "  <!-- highlight.js CSS -->\n",
    "  <link rel=\"stylesheet\" href=\"https://cdnjs.cloudflare.com/ajax/libs/highlight.js/11.1.0/styles/default.min.css\">\n",
    "  <!-- Mathjax 3 -->\n",
    "  <script type=\"text/javascript\" id=\"MathJax-config\" src=\"mathjax_config.js\"> </script>\n",
    "  <script type=\"text/javascript\" id=\"MathJax-script\" async \n",
    "    src=\"https://cdn.jsdelivr.net/npm/mathjax@3/es5/tex-mml-chtml.js\">\n",
    "  </script>\n",
    "  <link rel=\"stylesheet\" href=\"index_carousel.css\">\n",
    "  <link rel=\"icon\" type=\"image/x-icon\" href=\"https://www.mpia.de/assets/touch-icon-32x32-a66937bcebc4e8894ebff1f41a366c7c7220fd97a38869ee0f2db65a9f59b6c1.png\">\n",
    "  <title>MPIA Arxiv on deck!</title>\n",
    "</head>\n",
    "\n",
    "<body>\n",
    "  <div id=\"header\"> <img src=\"header_banner.png\" width=\"100%\"></div>\n",
    "  <div id=\"suptitle\"> 7-day archives </div>\n",
    "  <div id=\"info\">\n",
    "    <img src=\"https://pngimg.com/uploads/github/github_PNG58.png\" height=30rem></img>\n",
    "    <a href=https://github.com/mpi-astronomy/arxiv_display style=\"color:black;\">github/mpi-astronomy/arxiv_display</a> \n",
    "  </div>\n",
    "  {carousel:s}\n",
    "</body>\n",
    "\n",
    "<!-- Render Markdown -->\n",
    "\n",
    "<body>\n",
    "  <!-- highlight.js: https://highlightjs.org/download/ -->\n",
    "  <script src=\"https://cdnjs.cloudflare.com/ajax/libs/highlight.js/11.5.0/highlight.min.js\"></script>\n",
    "  <!-- marked.js -->\n",
    "  <script src=\"https://cdn.jsdelivr.net/npm/marked/marked.min.js\"></script>\n",
    "  <script>{script:s}</script>\n",
    "</body>\n",
    "</html>\n",
    "\"\"\"\n",
    "with open(\"_build/html/index_7days.html\", 'w') as fout:\n",
    "    fout.write(page)"
   ]
  },
  {
   "cell_type": "markdown",
   "id": "1cebacbc",
   "metadata": {
    "papermill": {
     "duration": 0.008651,
     "end_time": "2022-10-31T04:40:00.680961",
     "exception": false,
     "start_time": "2022-10-31T04:40:00.672310",
     "status": "completed"
    },
    "tags": []
   },
   "source": [
    "# Debugging papers"
   ]
  },
  {
   "cell_type": "raw",
   "id": "debe7cc6",
   "metadata": {
    "papermill": {
     "duration": 0.008711,
     "end_time": "2022-10-31T04:40:00.698409",
     "exception": false,
     "start_time": "2022-10-31T04:40:00.689698",
     "status": "completed"
    },
    "tags": []
   },
   "source": [
    "raise NotImplementedError(\"Manual Stop\")"
   ]
  },
  {
   "cell_type": "raw",
   "id": "eb169192",
   "metadata": {
    "papermill": {
     "duration": 0.008711,
     "end_time": "2022-10-31T04:40:00.715902",
     "exception": false,
     "start_time": "2022-10-31T04:40:00.707191",
     "status": "completed"
    },
    "scrolled": true,
    "tags": []
   },
   "source": [
    "from IPython.display import display, Markdown\n",
    "from TexSoup import TexSoup\n",
    "import re\n",
    "\n",
    "def bracket_error(source: str):\n",
    "    \"\"\" Find problematic portions of the document \"\"\"\n",
    "    \n",
    "    print(\"len(source)\", len(source))\n",
    "    \n",
    "    # Checking header\n",
    "    begin_doc = next(re.finditer(r'\\\\begin\\{document\\}', doc.source)).span()[1]\n",
    "    header = source[:begin_doc]\n",
    "    text = header + r\"\\n\\end{document}\"\n",
    "\n",
    "    try:\n",
    "        # print(\"Header check... \", end='')\n",
    "        TexSoup(text)\n",
    "        display(Markdown(f\"**[OK]** - Header\"))\n",
    "    except:\n",
    "        raise RuntimeError(\"Error in the header\")\n",
    "        \n",
    "    # Check the text per section until the end.\n",
    "    # Do not stop and try them all.\n",
    "    \n",
    "    problematic_text = []\n",
    "    \n",
    "    sections = ([(0, begin_doc, 'until first section')] + \n",
    "                [(g.span()[0], g.span()[1], g.group()) for g in re.finditer(r'\\\\section\\{.*\\}', source)] +\n",
    "                [(g.span()[0], g.span()[1], g.group()) for g in re.finditer(r'\\\\begin\\{appendix\\}', source)]\n",
    "               )\n",
    "    sections.append([len(source), len(source), 'end'])\n",
    "    \n",
    "    sections = sorted(sections, key=lambda x: x[0])\n",
    "    \n",
    "    prev_pos, prev_name = (0, 'header')\n",
    "    parsed = []\n",
    "    \n",
    "    for span, span_end, name in sections:\n",
    "\n",
    "        if span - prev_pos <= 0:\n",
    "            continue\n",
    "            \n",
    "\n",
    "        text = source[prev_pos:span]\n",
    "        if prev_pos > begin_doc:\n",
    "            text = r\"\\n\\begin{document}\" + text + r\"\\n\\end{document}\"\n",
    "        else:\n",
    "            text = text + r\"\\n\\end{document}\"\n",
    "        try:\n",
    "            #print(f\"{prev_pos}:{prev_name}-->{span}:{name} check... \", end='')\n",
    "            parsed.append(TexSoup(text, tolerance=1))  # allow not ending env\n",
    "            display(Markdown(f\"**[OK]** - *{prev_pos}*:{prev_name} &rarr; *{span}*:{name}\"))\n",
    "            # print(\"ok\")\n",
    "\n",
    "            prev_pos = span\n",
    "            prev_name = name\n",
    "        except:\n",
    "            # print(f\"error between {prev_pos} and {span}\")\n",
    "            display(Markdown(f\"**[ERR]** *{prev_pos}*:{prev_name} &rarr; *{span}*:{name}\"))\n",
    "            problematic_text.append((prev_pos, source[prev_pos:span]))\n",
    "            prev_pos = span\n",
    "            prev_name = name\n",
    "            # raise\n",
    "    return problematic_text, parsed\n",
    "\n",
    "\n",
    "def check_environment(text, offset=0):\n",
    "    \"\"\" Check environment \"\"\"\n",
    "    env = re.compile(r\"\\\\begin\\{(?P<env>.*)\\}(.*)\\\\end\\{(?P=env)\\}\", re.DOTALL)\n",
    "\n",
    "    for match in env.finditer(text):\n",
    "        beg, end = match.span()\n",
    "        beg += offset\n",
    "        end += offset\n",
    "        envname = match.groups()[0]\n",
    "        try:\n",
    "            latex.TexSoup(match.group())\n",
    "        except Exception as e:\n",
    "            display(e)\n",
    "            print(f\"Error in {envname:s} between {beg} and {end}\")\n",
    "            return match.groups()[1], beg, end"
   ]
  },
  {
   "cell_type": "raw",
   "id": "2315e835",
   "metadata": {
    "papermill": {
     "duration": 0.008689,
     "end_time": "2022-10-31T04:40:00.733440",
     "exception": false,
     "start_time": "2022-10-31T04:40:00.724751",
     "status": "completed"
    },
    "scrolled": false,
    "tags": []
   },
   "source": [
    "import importlib\n",
    "importlib.reload(latex)\n",
    "which = \"2204.03253\"\n",
    "paper_id = f'{which:s}'\n",
    "folder = f'tmp_{paper_id:s}'\n",
    "\n",
    "if not os.path.isdir(folder):\n",
    "    folder = retrieve_document_source(f\"{paper_id}\", f'tmp_{paper_id}')\n",
    "\n",
    "try:\n",
    "    doc = latex.LatexDocument(folder, validation=validation)    \n",
    "except AffiliationError as affilerror:\n",
    "    msg = f\"ArXiv:{paper_id:s} is not an MPIA paper... \" + str(affilerror)\n",
    "    print(msg)\n",
    "\n",
    "\n",
    "# Hack because sometimes author parsing does not work well\n",
    "if (len(doc.authors) != len(paper['authors'])):\n",
    "    doc._authors = paper['authors']\n",
    "if (doc.abstract) in (None, ''):\n",
    "    doc._abstract = paper['abstract']\n",
    "\n",
    "doc.comment = get_markdown_badge(paper_id) + \" _\" + paper['comments'] + \"_\"\n",
    "doc.highlight_authors_in_list(hl_list)\n",
    "\n",
    "full_md = doc.generate_markdown_text()"
   ]
  },
  {
   "cell_type": "raw",
   "id": "dd3781db",
   "metadata": {
    "papermill": {
     "duration": 0.008657,
     "end_time": "2022-10-31T04:40:00.750813",
     "exception": false,
     "start_time": "2022-10-31T04:40:00.742156",
     "status": "completed"
    },
    "scrolled": false,
    "tags": []
   },
   "source": [
    "doc"
   ]
  },
  {
   "cell_type": "raw",
   "id": "c6eed834",
   "metadata": {
    "papermill": {
     "duration": 0.008689,
     "end_time": "2022-10-31T04:40:00.768229",
     "exception": false,
     "start_time": "2022-10-31T04:40:00.759540",
     "status": "completed"
    },
    "tags": []
   },
   "source": [
    "# [check_environment(k) for k in bracket_error(doc.source)]\n",
    "_, _, a = latex.get_content_per_section(doc.source, verbose=True)\n",
    "if not a:\n",
    "    print(\"no issues per section\")\n",
    "for ak in a:\n",
    "    r = check_environment(ak[1], offset=ak[0])\n",
    "    print(r[1], r[2])\n",
    "    print(r[0])"
   ]
  },
  {
   "cell_type": "code",
   "execution_count": null,
   "id": "71ce768a",
   "metadata": {
    "papermill": {
     "duration": 0.008665,
     "end_time": "2022-10-31T04:40:00.785621",
     "exception": false,
     "start_time": "2022-10-31T04:40:00.776956",
     "status": "completed"
    },
    "tags": []
   },
   "outputs": [],
   "source": []
  }
 ],
 "metadata": {
  "kernelspec": {
   "display_name": "Python 3.10.6 64-bit",
   "language": "python",
   "name": "python3"
  },
  "language_info": {
   "codemirror_mode": {
    "name": "ipython",
    "version": 3
   },
   "file_extension": ".py",
   "mimetype": "text/x-python",
   "name": "python",
   "nbconvert_exporter": "python",
   "pygments_lexer": "ipython3",
   "version": "3.9.15"
  },
  "papermill": {
   "default_parameters": {},
   "duration": 54.463313,
   "end_time": "2022-10-31T04:40:00.912042",
   "environment_variables": {},
   "exception": null,
   "input_path": "MPIA daily digest.ipynb",
   "output_path": "log.ipynb",
   "parameters": {},
   "start_time": "2022-10-31T04:39:06.448729",
   "version": "2.4.0"
  },
  "vscode": {
   "interpreter": {
    "hash": "e7370f93d1d0cde622a1f8e1c04877d8463912d04d973331ad4851f04de6915a"
   }
  },
  "widgets": {
   "application/vnd.jupyter.widget-state+json": {
    "state": {
     "055fb50e592b490cb6d0f782dc526f92": {
      "model_module": "@jupyter-widgets/controls",
      "model_module_version": "2.0.0",
      "model_name": "FloatProgressModel",
      "state": {
       "_dom_classes": [],
       "_model_module": "@jupyter-widgets/controls",
       "_model_module_version": "2.0.0",
       "_model_name": "FloatProgressModel",
       "_view_count": null,
       "_view_module": "@jupyter-widgets/controls",
       "_view_module_version": "2.0.0",
       "_view_name": "ProgressView",
       "bar_style": "success",
       "description": "",
       "description_allow_html": false,
       "layout": "IPY_MODEL_cfd90371495b44849a3a3a319bed85c4",
       "max": 19.0,
       "min": 0.0,
       "orientation": "horizontal",
       "style": "IPY_MODEL_41cff39734d749f3ac18f2e0cdd76a07",
       "tabbable": null,
       "tooltip": null,
       "value": 19.0
      }
     },
     "070a85d2650342f1a01c94bb26ab63ed": {
      "model_module": "@jupyter-widgets/controls",
      "model_module_version": "2.0.0",
      "model_name": "HBoxModel",
      "state": {
       "_dom_classes": [],
       "_model_module": "@jupyter-widgets/controls",
       "_model_module_version": "2.0.0",
       "_model_name": "HBoxModel",
       "_view_count": null,
       "_view_module": "@jupyter-widgets/controls",
       "_view_module_version": "2.0.0",
       "_view_name": "HBoxView",
       "box_style": "",
       "children": [
        "IPY_MODEL_2d91a7393f8b49b197a2fe64178287b4",
        "IPY_MODEL_055fb50e592b490cb6d0f782dc526f92",
        "IPY_MODEL_fc893f365bfa488ba405451dbb7b1a5d"
       ],
       "layout": "IPY_MODEL_64450f1b8c904b91bebb75abf57cfe08",
       "tabbable": null,
       "tooltip": null
      }
     },
     "1313dfa0cb39454285711defd8e91e6c": {
      "model_module": "@jupyter-widgets/base",
      "model_module_version": "2.0.0",
      "model_name": "LayoutModel",
      "state": {
       "_model_module": "@jupyter-widgets/base",
       "_model_module_version": "2.0.0",
       "_model_name": "LayoutModel",
       "_view_count": null,
       "_view_module": "@jupyter-widgets/base",
       "_view_module_version": "2.0.0",
       "_view_name": "LayoutView",
       "align_content": null,
       "align_items": null,
       "align_self": null,
       "border_bottom": null,
       "border_left": null,
       "border_right": null,
       "border_top": null,
       "bottom": null,
       "display": null,
       "flex": null,
       "flex_flow": null,
       "grid_area": null,
       "grid_auto_columns": null,
       "grid_auto_flow": null,
       "grid_auto_rows": null,
       "grid_column": null,
       "grid_gap": null,
       "grid_row": null,
       "grid_template_areas": null,
       "grid_template_columns": null,
       "grid_template_rows": null,
       "height": null,
       "justify_content": null,
       "justify_items": null,
       "left": null,
       "margin": null,
       "max_height": null,
       "max_width": null,
       "min_height": null,
       "min_width": null,
       "object_fit": null,
       "object_position": null,
       "order": null,
       "overflow": null,
       "padding": null,
       "right": null,
       "top": null,
       "visibility": null,
       "width": null
      }
     },
     "2d91a7393f8b49b197a2fe64178287b4": {
      "model_module": "@jupyter-widgets/controls",
      "model_module_version": "2.0.0",
      "model_name": "HTMLModel",
      "state": {
       "_dom_classes": [],
       "_model_module": "@jupyter-widgets/controls",
       "_model_module_version": "2.0.0",
       "_model_name": "HTMLModel",
       "_view_count": null,
       "_view_module": "@jupyter-widgets/controls",
       "_view_module_version": "2.0.0",
       "_view_name": "HTMLView",
       "description": "",
       "description_allow_html": false,
       "layout": "IPY_MODEL_1313dfa0cb39454285711defd8e91e6c",
       "placeholder": "​",
       "style": "IPY_MODEL_343cf299aa1247168a1e375874933be7",
       "tabbable": null,
       "tooltip": null,
       "value": "100%"
      }
     },
     "343cf299aa1247168a1e375874933be7": {
      "model_module": "@jupyter-widgets/controls",
      "model_module_version": "2.0.0",
      "model_name": "HTMLStyleModel",
      "state": {
       "_model_module": "@jupyter-widgets/controls",
       "_model_module_version": "2.0.0",
       "_model_name": "HTMLStyleModel",
       "_view_count": null,
       "_view_module": "@jupyter-widgets/base",
       "_view_module_version": "2.0.0",
       "_view_name": "StyleView",
       "background": null,
       "description_width": "",
       "font_size": null,
       "text_color": null
      }
     },
     "41cff39734d749f3ac18f2e0cdd76a07": {
      "model_module": "@jupyter-widgets/controls",
      "model_module_version": "2.0.0",
      "model_name": "ProgressStyleModel",
      "state": {
       "_model_module": "@jupyter-widgets/controls",
       "_model_module_version": "2.0.0",
       "_model_name": "ProgressStyleModel",
       "_view_count": null,
       "_view_module": "@jupyter-widgets/base",
       "_view_module_version": "2.0.0",
       "_view_name": "StyleView",
       "bar_color": null,
       "description_width": ""
      }
     },
     "64450f1b8c904b91bebb75abf57cfe08": {
      "model_module": "@jupyter-widgets/base",
      "model_module_version": "2.0.0",
      "model_name": "LayoutModel",
      "state": {
       "_model_module": "@jupyter-widgets/base",
       "_model_module_version": "2.0.0",
       "_model_name": "LayoutModel",
       "_view_count": null,
       "_view_module": "@jupyter-widgets/base",
       "_view_module_version": "2.0.0",
       "_view_name": "LayoutView",
       "align_content": null,
       "align_items": null,
       "align_self": null,
       "border_bottom": null,
       "border_left": null,
       "border_right": null,
       "border_top": null,
       "bottom": null,
       "display": null,
       "flex": null,
       "flex_flow": null,
       "grid_area": null,
       "grid_auto_columns": null,
       "grid_auto_flow": null,
       "grid_auto_rows": null,
       "grid_column": null,
       "grid_gap": null,
       "grid_row": null,
       "grid_template_areas": null,
       "grid_template_columns": null,
       "grid_template_rows": null,
       "height": null,
       "justify_content": null,
       "justify_items": null,
       "left": null,
       "margin": null,
       "max_height": null,
       "max_width": null,
       "min_height": null,
       "min_width": null,
       "object_fit": null,
       "object_position": null,
       "order": null,
       "overflow": null,
       "padding": null,
       "right": null,
       "top": null,
       "visibility": null,
       "width": null
      }
     },
     "6629a34fdbd94ff69f1132535c248e3e": {
      "model_module": "@jupyter-widgets/controls",
      "model_module_version": "2.0.0",
      "model_name": "HTMLStyleModel",
      "state": {
       "_model_module": "@jupyter-widgets/controls",
       "_model_module_version": "2.0.0",
       "_model_name": "HTMLStyleModel",
       "_view_count": null,
       "_view_module": "@jupyter-widgets/base",
       "_view_module_version": "2.0.0",
       "_view_name": "StyleView",
       "background": null,
       "description_width": "",
       "font_size": null,
       "text_color": null
      }
     },
     "a3aaa9d5784e45379f3cad4cadeb6244": {
      "model_module": "@jupyter-widgets/base",
      "model_module_version": "2.0.0",
      "model_name": "LayoutModel",
      "state": {
       "_model_module": "@jupyter-widgets/base",
       "_model_module_version": "2.0.0",
       "_model_name": "LayoutModel",
       "_view_count": null,
       "_view_module": "@jupyter-widgets/base",
       "_view_module_version": "2.0.0",
       "_view_name": "LayoutView",
       "align_content": null,
       "align_items": null,
       "align_self": null,
       "border_bottom": null,
       "border_left": null,
       "border_right": null,
       "border_top": null,
       "bottom": null,
       "display": null,
       "flex": null,
       "flex_flow": null,
       "grid_area": null,
       "grid_auto_columns": null,
       "grid_auto_flow": null,
       "grid_auto_rows": null,
       "grid_column": null,
       "grid_gap": null,
       "grid_row": null,
       "grid_template_areas": null,
       "grid_template_columns": null,
       "grid_template_rows": null,
       "height": null,
       "justify_content": null,
       "justify_items": null,
       "left": null,
       "margin": null,
       "max_height": null,
       "max_width": null,
       "min_height": null,
       "min_width": null,
       "object_fit": null,
       "object_position": null,
       "order": null,
       "overflow": null,
       "padding": null,
       "right": null,
       "top": null,
       "visibility": null,
       "width": null
      }
     },
     "cfd90371495b44849a3a3a319bed85c4": {
      "model_module": "@jupyter-widgets/base",
      "model_module_version": "2.0.0",
      "model_name": "LayoutModel",
      "state": {
       "_model_module": "@jupyter-widgets/base",
       "_model_module_version": "2.0.0",
       "_model_name": "LayoutModel",
       "_view_count": null,
       "_view_module": "@jupyter-widgets/base",
       "_view_module_version": "2.0.0",
       "_view_name": "LayoutView",
       "align_content": null,
       "align_items": null,
       "align_self": null,
       "border_bottom": null,
       "border_left": null,
       "border_right": null,
       "border_top": null,
       "bottom": null,
       "display": null,
       "flex": null,
       "flex_flow": null,
       "grid_area": null,
       "grid_auto_columns": null,
       "grid_auto_flow": null,
       "grid_auto_rows": null,
       "grid_column": null,
       "grid_gap": null,
       "grid_row": null,
       "grid_template_areas": null,
       "grid_template_columns": null,
       "grid_template_rows": null,
       "height": null,
       "justify_content": null,
       "justify_items": null,
       "left": null,
       "margin": null,
       "max_height": null,
       "max_width": null,
       "min_height": null,
       "min_width": null,
       "object_fit": null,
       "object_position": null,
       "order": null,
       "overflow": null,
       "padding": null,
       "right": null,
       "top": null,
       "visibility": null,
       "width": null
      }
     },
     "fc893f365bfa488ba405451dbb7b1a5d": {
      "model_module": "@jupyter-widgets/controls",
      "model_module_version": "2.0.0",
      "model_name": "HTMLModel",
      "state": {
       "_dom_classes": [],
       "_model_module": "@jupyter-widgets/controls",
       "_model_module_version": "2.0.0",
       "_model_name": "HTMLModel",
       "_view_count": null,
       "_view_module": "@jupyter-widgets/controls",
       "_view_module_version": "2.0.0",
       "_view_name": "HTMLView",
       "description": "",
       "description_allow_html": false,
       "layout": "IPY_MODEL_a3aaa9d5784e45379f3cad4cadeb6244",
       "placeholder": "​",
       "style": "IPY_MODEL_6629a34fdbd94ff69f1132535c248e3e",
       "tabbable": null,
       "tooltip": null,
       "value": " 19/19 [00:29&lt;00:00,  1.83s/it]"
      }
     }
    },
    "version_major": 2,
    "version_minor": 0
   }
  }
 },
 "nbformat": 4,
 "nbformat_minor": 5
}