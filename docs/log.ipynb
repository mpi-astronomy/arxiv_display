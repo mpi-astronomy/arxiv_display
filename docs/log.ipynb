{
 "cells": [
  {
   "cell_type": "markdown",
   "id": "92bcb855",
   "metadata": {
    "papermill": {
     "duration": 0.003716,
     "end_time": "2025-01-29T04:10:39.319972",
     "exception": false,
     "start_time": "2025-01-29T04:10:39.316256",
     "status": "completed"
    },
    "tags": []
   },
   "source": [
    "# MPIA Arxiv on Deck 2\n",
    "\n",
    "Contains the steps to produce the paper extractions."
   ]
  },
  {
   "cell_type": "code",
   "execution_count": 1,
   "id": "3a0d6e11",
   "metadata": {
    "execution": {
     "iopub.execute_input": "2025-01-29T04:10:39.327572Z",
     "iopub.status.busy": "2025-01-29T04:10:39.327098Z",
     "iopub.status.idle": "2025-01-29T04:10:39.719930Z",
     "shell.execute_reply": "2025-01-29T04:10:39.719207Z"
    },
    "papermill": {
     "duration": 0.397951,
     "end_time": "2025-01-29T04:10:39.721266",
     "exception": false,
     "start_time": "2025-01-29T04:10:39.323315",
     "status": "completed"
    },
    "tags": []
   },
   "outputs": [],
   "source": [
    "# Imports\n",
    "import os\n",
    "from IPython.display import Markdown, display\n",
    "from tqdm.notebook import tqdm\n",
    "import warnings\n",
    "from PIL import Image \n",
    "import re\n",
    "\n",
    "# requires arxiv_on_deck_2\n",
    "\n",
    "from arxiv_on_deck_2.arxiv2 import (get_new_papers, \n",
    "                                    get_paper_from_identifier,\n",
    "                                    retrieve_document_source, \n",
    "                                    get_markdown_badge)\n",
    "from arxiv_on_deck_2 import (latex,\n",
    "                             latex_bib,\n",
    "                             mpia,\n",
    "                             highlight_authors_in_list)\n",
    "\n",
    "# Sometimes images are really big\n",
    "Image.MAX_IMAGE_PIXELS = 1000000000 "
   ]
  },
  {
   "cell_type": "code",
   "execution_count": 2,
   "id": "22aa9d44",
   "metadata": {
    "execution": {
     "iopub.execute_input": "2025-01-29T04:10:39.728495Z",
     "iopub.status.busy": "2025-01-29T04:10:39.728247Z",
     "iopub.status.idle": "2025-01-29T04:10:39.736179Z",
     "shell.execute_reply": "2025-01-29T04:10:39.735539Z"
    },
    "papermill": {
     "duration": 0.012702,
     "end_time": "2025-01-29T04:10:39.737239",
     "exception": false,
     "start_time": "2025-01-29T04:10:39.724537",
     "status": "completed"
    },
    "tags": []
   },
   "outputs": [],
   "source": [
    "# Some useful definitions.\n",
    "\n",
    "class AffiliationWarning(UserWarning):\n",
    "    pass\n",
    "\n",
    "class AffiliationError(RuntimeError):\n",
    "    pass\n",
    "\n",
    "def validation(source: str):\n",
    "    \"\"\"Raises error paper during parsing of source file\n",
    "    \n",
    "    Allows checks before parsing TeX code.\n",
    "    \n",
    "    Raises AffiliationWarning\n",
    "    \"\"\"\n",
    "    check = mpia.affiliation_verifications(source, verbose=True)\n",
    "    if check is not True:\n",
    "        raise AffiliationError(\"mpia.affiliation_verifications: \" + check)\n",
    "\n",
    "        \n",
    "warnings.simplefilter('always', AffiliationWarning)\n",
    "\n",
    "\n",
    "def get_markdown_qrcode(paper_id: str):\n",
    "    \"\"\" Generate a qrcode to the arxiv page using qrserver.com\n",
    "    \n",
    "    :param paper: Arxiv paper\n",
    "    :returns: markdown text\n",
    "    \"\"\"\n",
    "    url = r\"https://api.qrserver.com/v1/create-qr-code/?size=100x100&data=\"\n",
    "    txt = f\"\"\"<img src={url}\"https://arxiv.org/abs/{paper_id}\">\"\"\"\n",
    "    txt = '<div id=\"qrcode\">' + txt + '</div>'\n",
    "    return txt\n",
    "\n",
    "\n",
    "def clean_non_western_encoded_characters_commands(text: str) -> str:\n",
    "    \"\"\" Remove non-western encoded characters from a string\n",
    "    List may need to grow.\n",
    "    \n",
    "    :param text: the text to clean\n",
    "    :return: the cleaned text\n",
    "    \"\"\"\n",
    "    text = re.sub(r\"(\\\\begin{CJK}{UTF8}{gbsn})(.*?)(\\\\end{CJK})\", r\"\\2\", text)\n",
    "    return text\n",
    "\n",
    "\n",
    "def get_initials(name: str) -> str:\n",
    "    \"\"\" Get the short name, e.g., A.-B. FamName\n",
    "    :param name: full name\n",
    "    :returns: initials\n",
    "    \"\"\"\n",
    "    initials = []\n",
    "    # account for non western names often in ()\n",
    "    if '(' in name:\n",
    "        name = clean_non_western_encoded_characters_commands(name)\n",
    "        suffix = re.findall(r\"\\((.*?)\\)\", name)[0]\n",
    "        name = name.replace(f\"({suffix})\", '')\n",
    "    else:\n",
    "        suffix = ''\n",
    "    split = name.split()\n",
    "    for token in split[:-1]:\n",
    "        if '-' in token:\n",
    "            current = '-'.join([k[0] + '.' for k in token.split('-')])\n",
    "        else:\n",
    "            current = token[0] + '.'\n",
    "        initials.append(current)\n",
    "    initials.append(split[-1].strip())\n",
    "    if suffix:\n",
    "        initials.append(f\"({suffix})\")\n",
    "    return ' '.join(initials)"
   ]
  },
  {
   "cell_type": "markdown",
   "id": "14bd6310",
   "metadata": {
    "papermill": {
     "duration": 0.002839,
     "end_time": "2025-01-29T04:10:39.742986",
     "exception": false,
     "start_time": "2025-01-29T04:10:39.740147",
     "status": "completed"
    },
    "tags": []
   },
   "source": [
    "## get list of arxiv paper candidates\n",
    "\n",
    "We use the MPIA mitarbeiter list webpage from mpia.de to get author names\n",
    "We then get all new papers from Arxiv and match authors"
   ]
  },
  {
   "cell_type": "code",
   "execution_count": 3,
   "id": "7ea813a8",
   "metadata": {
    "execution": {
     "iopub.execute_input": "2025-01-29T04:10:39.750000Z",
     "iopub.status.busy": "2025-01-29T04:10:39.749454Z",
     "iopub.status.idle": "2025-01-29T04:10:57.636134Z",
     "shell.execute_reply": "2025-01-29T04:10:57.635543Z"
    },
    "papermill": {
     "duration": 17.891375,
     "end_time": "2025-01-29T04:10:57.637267",
     "exception": false,
     "start_time": "2025-01-29T04:10:39.745892",
     "status": "completed"
    },
    "tags": []
   },
   "outputs": [],
   "source": [
    "# deal with the author list and edge cases of people that cannot be consistent on their name  \n",
    "\n",
    "def filter_non_scientists(name: str) -> bool:\n",
    "    \"\"\" Loose filter on expected authorships\n",
    "\n",
    "    removing IT, administration, technical staff\n",
    "    :param name: name\n",
    "    :returns: False if name is not a scientist\n",
    "    \"\"\"\n",
    "    remove_list = ['Licht', 'Binroth', 'Witzel', 'Jordan',\n",
    "                   'Zähringer', 'Scheerer', 'Hoffmann', 'Düe',\n",
    "                   'Hellmich', 'Enkler-Scharpegge', 'Witte-Nguy',\n",
    "                   'Dehen', 'Beckmann', 'Jager', 'Jäger'\n",
    "                  ]\n",
    "\n",
    "    for k in remove_list:\n",
    "        if k in name:\n",
    "            return False\n",
    "    return True\n",
    "\n",
    "def add_author_to_list(author_list: list) -> list:\n",
    "    \"\"\" Add author to list if not already in list\n",
    "    \n",
    "    :param author: author name\n",
    "    :param author_list: list of authors\n",
    "    :returns: updated list of authors\n",
    "    \"\"\"\n",
    "    add_list = ['T. Henning']\n",
    "\n",
    "    for author in add_list:\n",
    "        if author not in author_list:\n",
    "            author_list.append(author)\n",
    "    return author_list\n",
    "\n",
    "# get list from MPIA website\n",
    "# filter for non-scientists (mpia.get_mpia_mitarbeiter_list() does some filtering)\n",
    "mpia_authors = [k[1] for k in mpia.get_mpia_mitarbeiter_list() if filter_non_scientists(k[1])]\n",
    "# add some missing author because of inconsistencies in their MPIA name and author name on papers\n",
    "mpia_authors = add_author_to_list(mpia_authors)"
   ]
  },
  {
   "cell_type": "code",
   "execution_count": 4,
   "id": "2645e73a",
   "metadata": {
    "execution": {
     "iopub.execute_input": "2025-01-29T04:10:57.644478Z",
     "iopub.status.busy": "2025-01-29T04:10:57.644232Z",
     "iopub.status.idle": "2025-01-29T04:10:58.436961Z",
     "shell.execute_reply": "2025-01-29T04:10:58.436304Z"
    },
    "papermill": {
     "duration": 0.797393,
     "end_time": "2025-01-29T04:10:58.437973",
     "exception": false,
     "start_time": "2025-01-29T04:10:57.640580",
     "status": "completed"
    },
    "tags": []
   },
   "outputs": [
    {
     "name": "stdout",
     "output_type": "stream",
     "text": [
      "K. Jahnke  ->  K. Jahnke  |  ['K. Jahnke']\n",
      "X. Zhang  ->  X. Zhang  |  ['X. Zhang']\n",
      "J. Liu  ->  J. Liu  |  ['J. Liu']\n",
      "S. Jiao  ->  S. Jiao  |  ['S. Jiao']\n",
      "J. Liu  ->  J. Liu  |  ['J. Liu']\n",
      "H. Beuther  ->  H. Beuther  |  ['H. Beuther']\n",
      "G. Guiglion  ->  G. Guiglion  |  ['G. Guiglion']\n",
      "Arxiv has 70 new papers today\n",
      "          7 with possible author matches\n"
     ]
    }
   ],
   "source": [
    "new_papers = get_new_papers()\n",
    "# add manual references\n",
    "add_paper_refs = []\n",
    "new_papers.extend([get_paper_from_identifier(k) for k in add_paper_refs])\n",
    "\n",
    "def robust_call(fn, value, *args, **kwargs):\n",
    "    try:\n",
    "        return fn(value, *args, **kwargs)\n",
    "    except Exception:\n",
    "        return value\n",
    "\n",
    "candidates = []\n",
    "for paperk in new_papers:\n",
    "    # Check author list with their initials\n",
    "    normed_author_list = [robust_call(mpia.get_initials, k) for k in paperk['authors']]\n",
    "    hl_authors = highlight_authors_in_list(normed_author_list, mpia_authors, verbose=True)\n",
    "    matches = [(hl, orig) for hl, orig in zip(hl_authors, paperk['authors']) if 'mark' in hl]\n",
    "    paperk['authors'] = hl_authors\n",
    "    if matches:\n",
    "        # only select paper if an author matched our list\n",
    "        candidates.append(paperk)\n",
    "print(\"\"\"Arxiv has {0:,d} new papers today\"\"\".format(len(new_papers)))        \n",
    "print(\"\"\"          {0:,d} with possible author matches\"\"\".format(len(candidates)))"
   ]
  },
  {
   "cell_type": "markdown",
   "id": "3543b34a",
   "metadata": {
    "papermill": {
     "duration": 0.003022,
     "end_time": "2025-01-29T04:10:58.444470",
     "exception": false,
     "start_time": "2025-01-29T04:10:58.441448",
     "status": "completed"
    },
    "tags": []
   },
   "source": [
    "# Parse sources and generate relevant outputs\n",
    "\n",
    "From the candidates, we do the following steps:\n",
    "* get their tarball from ArXiv (and extract data)\n",
    "* find the main .tex file: find one with \\documentclass{...} (sometimes it's non trivial)\n",
    "* Check affiliations with :func:`validation`, which uses :func:`mpia.affiliation_verifications`\n",
    "* If passing the affiliations: we parse the .tex source\n",
    "   * inject sub-documents into the main (flatten the main document)\n",
    "   * parse structure, extract information (title, abstract, authors, figures...)\n",
    "   * handles `\\graphicspath` if provided\n",
    "* Generate the .md document."
   ]
  },
  {
   "cell_type": "code",
   "execution_count": 5,
   "id": "9576b79e",
   "metadata": {
    "execution": {
     "iopub.execute_input": "2025-01-29T04:10:58.451460Z",
     "iopub.status.busy": "2025-01-29T04:10:58.451186Z",
     "iopub.status.idle": "2025-01-29T04:11:21.290863Z",
     "shell.execute_reply": "2025-01-29T04:11:21.290068Z"
    },
    "papermill": {
     "duration": 22.844364,
     "end_time": "2025-01-29T04:11:21.291848",
     "exception": false,
     "start_time": "2025-01-29T04:10:58.447484",
     "status": "completed"
    },
    "scrolled": false,
    "tags": []
   },
   "outputs": [
    {
     "data": {
      "application/vnd.jupyter.widget-view+json": {
       "model_id": "104fab04a9674043a02ff310b7cdb2d7",
       "version_major": 2,
       "version_minor": 0
      },
      "text/plain": [
       "  0%|          | 0/7 [00:00<?, ?it/s]"
      ]
     },
     "metadata": {},
     "output_type": "display_data"
    },
    {
     "name": "stdout",
     "output_type": "stream",
     "text": [
      "Retrieving document from  https://arxiv.org/e-print/2501.16555\n"
     ]
    },
    {
     "name": "stdout",
     "output_type": "stream",
     "text": [
      "extracting tarball to tmp_2501.16555... done.\n"
     ]
    },
    {
     "name": "stdout",
     "output_type": "stream",
     "text": [
      "Found 39 bibliographic references in tmp_2501.16555/euclid2pcf.bbl.\n",
      "Retrieving document from  https://arxiv.org/e-print/2501.16585\n"
     ]
    },
    {
     "name": "stdout",
     "output_type": "stream",
     "text": [
      "extracting tarball to tmp_2501.16585... done.\n",
      "Retrieving document from  https://arxiv.org/e-print/2501.16648\n"
     ]
    },
    {
     "name": "stdout",
     "output_type": "stream",
     "text": [
      "extracting tarball to tmp_2501.16648... done.\n",
      "Retrieving document from  https://arxiv.org/e-print/2501.16682\n",
      "Retrieving document from  https://arxiv.org/e-print/2501.16694\n"
     ]
    },
    {
     "name": "stderr",
     "output_type": "stream",
     "text": [
      "/tmp/ipykernel_3212/2822249172.py:52: LatexWarning: 2501.16682 did not run properly\n",
      "not a gzip file\n",
      "  warnings.warn(latex.LatexWarning(f\"{paper_id:s} did not run properly\\n\" +\n"
     ]
    },
    {
     "name": "stdout",
     "output_type": "stream",
     "text": [
      "extracting tarball to tmp_2501.16694... done.\n",
      "Retrieving document from  https://arxiv.org/e-print/2501.16866\n"
     ]
    },
    {
     "name": "stdout",
     "output_type": "stream",
     "text": [
      "extracting tarball to tmp_2501.16866..."
     ]
    },
    {
     "name": "stdout",
     "output_type": "stream",
     "text": [
      " done.\n"
     ]
    },
    {
     "name": "stderr",
     "output_type": "stream",
     "text": [
      "/opt/hostedtoolcache/Python/3.9.21/x64/lib/python3.9/site-packages/IPython/core/interactiveshell.py:3550: LatexWarning: Multiple tex files.\n",
      "\n",
      "  exec(code_obj, self.user_global_ns, self.user_ns)\n",
      "/opt/hostedtoolcache/Python/3.9.21/x64/lib/python3.9/site-packages/IPython/core/interactiveshell.py:3550: LatexWarning: Found documentclass in tmp_2501.16866/beuther_kuiper_tafalla2025.tex\n",
      "\n",
      "  exec(code_obj, self.user_global_ns, self.user_ns)\n",
      "/opt/hostedtoolcache/Python/3.9.21/x64/lib/python3.9/site-packages/arxiv_on_deck_2/latex.py:414: LatexWarning: Latex injecting: 'refs' from 'tmp_2501.16866/refs.tex'\n",
      "  warnings.warn(LatexWarning(f\"Latex injecting: '{ext}' from '{subsource}'\"))\n"
     ]
    },
    {
     "name": "stdout",
     "output_type": "stream",
     "text": [
      "Found 482 bibliographic references in tmp_2501.16866/beuther_kuiper_tafalla2025.bbl.\n",
      "Issues with the citations\n",
      "syntax error in line 88: '=' expected\n",
      "Retrieving document from  https://arxiv.org/e-print/2501.17031\n"
     ]
    },
    {
     "name": "stdout",
     "output_type": "stream",
     "text": [
      "extracting tarball to tmp_2501.17031... done.\n"
     ]
    },
    {
     "name": "stdout",
     "output_type": "stream",
     "text": [
      "Issues with the citations\n",
      "list index out of range\n"
     ]
    }
   ],
   "source": [
    "documents = []\n",
    "failed = []\n",
    "for paper in tqdm(candidates):\n",
    "    # debug crap\n",
    "    paper['identifier'] = paper['identifier'].lower().replace('arxiv:', '').replace(r'\\n', '').strip()\n",
    "    paper_id = paper['identifier']\n",
    "    \n",
    "    folder = f'tmp_{paper_id}'\n",
    "\n",
    "    try:\n",
    "        if not os.path.isdir(folder):\n",
    "            folder = retrieve_document_source(f\"{paper_id}\", f'tmp_{paper_id}')\n",
    "        \n",
    "        try:\n",
    "            doc = latex.LatexDocument(folder, validation=validation)    \n",
    "        except AffiliationError as affilerror:\n",
    "            msg = f\"ArXiv:{paper_id:s} is not an MPIA paper... \" + str(affilerror)\n",
    "            failed.append((paper, \"affiliation error: \" + str(affilerror) ))\n",
    "            continue\n",
    "        \n",
    "        # Hack because sometimes author parsing does not work well\n",
    "        if (len(doc.authors) != len(paper['authors'])):\n",
    "            doc._authors = paper['authors']\n",
    "        else:\n",
    "            # highlight authors (FIXME: doc.highlight_authors)\n",
    "            # done on arxiv paper already\n",
    "            doc._authors = highlight_authors_in_list(\n",
    "                [get_initials(k) for k in doc.authors], \n",
    "                mpia_authors, verbose=True)\n",
    "        if (doc.abstract) in (None, ''):\n",
    "            doc._abstract = paper['abstract']\n",
    "            \n",
    "        doc.comment = (get_markdown_badge(paper_id) + \n",
    "                       \"<mark>Appeared on: \" + paper['date'] + \"</mark> - \")\n",
    "        if paper['comments']:\n",
    "            doc.comment += \" _\" + paper['comments'] + \"_\"\n",
    "        \n",
    "        full_md = doc.generate_markdown_text()\n",
    "        \n",
    "        full_md += get_markdown_qrcode(paper_id)\n",
    "        \n",
    "        # replace citations\n",
    "        try:\n",
    "            bibdata = latex_bib.LatexBib.from_doc(doc)\n",
    "            full_md = latex_bib.replace_citations(full_md, bibdata)\n",
    "        except Exception as e:\n",
    "            print(\"Issues with the citations\")\n",
    "            print(e)\n",
    "        \n",
    "        documents.append((paper_id, full_md))\n",
    "    except Exception as e:\n",
    "        warnings.warn(latex.LatexWarning(f\"{paper_id:s} did not run properly\\n\" +\n",
    "                                         str(e)\n",
    "                                        ))\n",
    "        failed.append((paper, \"latex error \" + str(e)))"
   ]
  },
  {
   "cell_type": "markdown",
   "id": "2505a25c",
   "metadata": {
    "papermill": {
     "duration": 0.003914,
     "end_time": "2025-01-29T04:11:21.300076",
     "exception": false,
     "start_time": "2025-01-29T04:11:21.296162",
     "status": "completed"
    },
    "tags": []
   },
   "source": [
    "### Export the logs\n",
    "\n",
    "Throughout, we also keep track of the logs per paper. see `logs-{today date}.md` "
   ]
  },
  {
   "cell_type": "code",
   "execution_count": 6,
   "id": "d733828a",
   "metadata": {
    "execution": {
     "iopub.execute_input": "2025-01-29T04:11:21.309399Z",
     "iopub.status.busy": "2025-01-29T04:11:21.308878Z",
     "iopub.status.idle": "2025-01-29T04:11:21.327309Z",
     "shell.execute_reply": "2025-01-29T04:11:21.326623Z"
    },
    "papermill": {
     "duration": 0.024498,
     "end_time": "2025-01-29T04:11:21.328440",
     "exception": false,
     "start_time": "2025-01-29T04:11:21.303942",
     "status": "completed"
    },
    "scrolled": false,
    "tags": []
   },
   "outputs": [
    {
     "data": {
      "text/markdown": [
       "## Successful papers"
      ],
      "text/plain": [
       "<IPython.core.display.Markdown object>"
      ]
     },
     "metadata": {},
     "output_type": "display_data"
    },
    {
     "data": {
      "text/markdown": [
       "\n",
       "|||\n",
       "|---:|:---|\n",
       "| [![arXiv](https://img.shields.io/badge/arXiv-2501.16555-b31b1b.svg)](https://arxiv.org/abs/2501.16555) | **Euclid preparation. 3-dimensional galaxy clustering in configuration space. Part I. 2-point correlation function estimation**  |\n",
       "|| E. Collaboration, et al. -- incl., <mark>K. Jahnke</mark> |\n",
       "|*Appeared on*| *2025-01-29*|\n",
       "|*Comments*| *17 pages, 13 figures, submitted to A&A*|\n",
       "|**Abstract**|            The 2-point correlation function of the galaxy spatial distribution is a major cosmological observable that enables constraints on the dynamics and geometry of the Universe. The Euclid mission aims at performing an extensive spectroscopic survey of approximately 20--30 million H$\\alpha$-emitting galaxies up to about redshift two. This ambitious project seeks to elucidate the nature of dark energy by mapping the 3-dimensional clustering of galaxies over a significant portion of the sky. This paper presents the methodology and software developed for estimating the 3-dimensional 2-point correlation function within the Euclid Science Ground Segment. The software is designed to overcome the significant challenges posed by the large and complex Euclid data set, which involves millions of galaxies. Key challenges include efficient pair counting, managing computational resources, and ensuring the accuracy of the correlation function estimation. The software leverages advanced algorithms, including kd-tree, octree, and linked-list data partitioning strategies, to optimise the pair-counting process. The implementation also includes parallel processing capabilities using shared-memory open multi-processing to further enhance performance and reduce computation times. Extensive validation and performance testing of the software are presented. The results indicate that the software is robust and can reliably estimate the 2-point correlation function, which is essential for deriving cosmological parameters with high precision. Furthermore, the paper discusses the expected performance of the software during different stages of the Euclid Wide Survey observations and forecasts how the precision of the correlation function measurements will improve over the mission's timeline, highlighting the software's capability to handle large data sets efficiently.         |"
      ],
      "text/plain": [
       "[2501.16555] Euclid preparation. 3-dimensional galaxy clustering in configuration space. Part I. 2-point correlation function estimation\n",
       "\tE. Collaboration, et al. -- incl., <mark>K. Jahnke</mark>"
      ]
     },
     "metadata": {},
     "output_type": "display_data"
    },
    {
     "data": {
      "text/markdown": [
       "\n",
       "|||\n",
       "|---:|:---|\n",
       "| [![arXiv](https://img.shields.io/badge/arXiv-2501.16866-b31b1b.svg)](https://arxiv.org/abs/2501.16866) | **Star formation from low to high mass: A comparative view**  |\n",
       "|| <mark>H. Beuther</mark>, R. Kuiper, M. Tafalla |\n",
       "|*Appeared on*| *2025-01-29*|\n",
       "|*Comments*| *45 pages, 6 figures, accepted for Annual Reviews of Astronomy and Astrophysics*|\n",
       "|**Abstract**|            Star formation has often been studied by separating the low- and high-mass regimes with an approximate boundary at 8M_sun. While some of the outcomes of the star-formation process are different between the two regimes, it is less clear whether the physical processes leading to these outcomes are that different at all. Here, we systematically compare low- and high-mass star formation by reviewing the most important processes and quantities from an observational and theoretical point of view. We identify three regimes where processes are either similar, quantitatively or qualitatively different between low- and high-mass star formation. Similar characteristics can be identified for the turbulent gas properties and density structures of the star-forming regions. Many of the observational characteristics also do not depend that strongly on the environment. Quantitative differences can be found for outflow, infall and accretion rates as well as mean column and volume densities. Also the multiplicity significantly rises from low- to high-mass stars. The importance of the magnetic field for the formation processes appears still less well constrained. Qualitative differences between low- and high-mass star formation relate mainly to the radiative and ionizing feedback that occurs almost exclusively in regions forming high-mass stars. Nevertheless, accretion apparently can continue via disk structures in ionized accretion flows. Finally, we discuss to what extent a unified picture of star formation over all masses is possible and which issues need to be addressed in the future.         |"
      ],
      "text/plain": [
       "[2501.16866] Star formation from low to high mass: A comparative view\n",
       "\t<mark>H. Beuther</mark>, R. Kuiper, M. Tafalla"
      ]
     },
     "metadata": {},
     "output_type": "display_data"
    },
    {
     "data": {
      "text/markdown": [
       "\n",
       "|||\n",
       "|---:|:---|\n",
       "| [![arXiv](https://img.shields.io/badge/arXiv-2501.17031-b31b1b.svg)](https://arxiv.org/abs/2501.17031) | **The interplay between super-metallicity, lithium depletion, and radial migration in nearby stars**  |\n",
       "|| M. L. L. Dantas, et al. -- incl., <mark>G. Guiglion</mark> |\n",
       "|*Appeared on*| *2025-01-29*|\n",
       "|*Comments*| *To appear in the proceedings of IAU Symposium 395 (3 pages)*|\n",
       "|**Abstract**|            We report the discovery of a peculiar set of old super-metal-rich dwarf stars with orbits of low eccentricity that reach a maximum height from the Galactic plane between $\\sim$ 0.5-1.5 kpc observed by the \\emph{Gaia}-ESO Survey. These stars show lithium (Li) depletion, which is anti-correlated with their [Fe/H]. To investigate these stars' chemo-dynamical properties, we used data from the \\emph{Gaia}-ESO Survey. We applied hierarchical clustering to group the stars based on their abundances (excluding Li). Orbits were integrated using \\emph{Gaia} astrometry and radial velocities from \\emph{Gaia}-ESO. Our analysis suggests that the high metallicity of these stars is incompatible with their formation in the solar neighbourhood. We also found that their Li envelope abundance is below the benchmark meteoritic value, in agreement with previous works. This result supports the idea that the Li abundance in old, super-metal-rich dwarf stars should not be considered a proxy for the local interstellar medium Li.         |"
      ],
      "text/plain": [
       "[2501.17031] The interplay between super-metallicity, lithium depletion, and radial migration in nearby stars\n",
       "\tM. L. L. Dantas, et al. -- incl., <mark>G. Guiglion</mark>"
      ]
     },
     "metadata": {},
     "output_type": "display_data"
    },
    {
     "data": {
      "text/markdown": [
       "## Failed papers"
      ],
      "text/plain": [
       "<IPython.core.display.Markdown object>"
      ]
     },
     "metadata": {},
     "output_type": "display_data"
    },
    {
     "data": {
      "text/markdown": [
       "\n",
       "|||\n",
       "|---:|:---|\n",
       "| [![arXiv](https://img.shields.io/badge/arXiv-2501.16585-b31b1b.svg)](https://arxiv.org/abs/2501.16585) | **A central TDE candidate detected through spectroscopic continuum emission properties in a SDSS blue quasar**  |\n",
       "|| <mark>X. Zhang</mark> |\n",
       "|*Appeared on*| *2025-01-29*|\n",
       "|*Comments*| *12 pages, 7 figures, Accepted to be published in ApJ*|\n",
       "|**Abstract**|            In this manuscript, properties of spectroscopic continuum emissions are considered to detect potential tidal disruption event (TDE) candidates among SDSS quasars. After considering the simple blackbody photosphere model applied to describe quasar continuum emissions with parameters of blackbody temperature $T_{BB}$ and blackbody radius $R_{BB}$, SDSS quasars and reported optical TDEs occupy distinct regions in the space of $T_{BB}$ and $R_{BB}$. Then, through the dependence of $R_{BB}$ on $T_{BB}$ for SDSS quasars, 402 outliers in SDSS Stripe82 region can be collected. Among the 402 outliers, the SDSS J2308 at $z=1.16$ is mainly considered, due to its SDSS spectrum observed around the peak brightness of the light curves. With the 7.2-year-long light curves described by theoretical TDE model, the determined $T_{BB}$ and $R_{BB}$ through its spectroscopic continuum emissions are consistent with the TDE model determined values, to support the central TDE. Moreover, considering simulated results on continuum emissions of SDSS quasars around $z\\sim1.16$, confidence level higher than 4$\\sigma$ can be confirmed that the continuum emissions of SDSS J2308 are not related to normal quasars. Furthermore, accepted CAR process to simulate intrinsic AGN variability, the confidence level higher than $3\\sigma$ can be confirmed that the long-term light curves of SDSS J2308 are related to a central TDE. Jointed the probabilities through both spectroscopic and photometric simulations, the confidence level higher than $5\\sigma$ can be confirmed to support the central TDE in SDSS J2308.         |\n",
       "|<p style=\"color:green\"> **ERROR** </p>| <p style=\"color:green\">affiliation error: mpia.affiliation_verifications: 'Heidelberg' keyword not found.</p> |"
      ],
      "text/plain": [
       "<IPython.core.display.Markdown object>"
      ]
     },
     "metadata": {},
     "output_type": "display_data"
    },
    {
     "data": {
      "text/markdown": [
       "\n",
       "|||\n",
       "|---:|:---|\n",
       "| [![arXiv](https://img.shields.io/badge/arXiv-2501.16648-b31b1b.svg)](https://arxiv.org/abs/2501.16648) | **Three Brown Dwarfs Masquerading as High-Redshift Galaxies in JWST Observations**  |\n",
       "|| Z. Tu, S. Wang, X. Chen, <mark>J. Liu</mark> |\n",
       "|*Appeared on*| *2025-01-29*|\n",
       "|*Comments*| *17 pages, 8 figures, accepted for publication in ApJ*|\n",
       "|**Abstract**|            We report the spectroscopic identification of three brown dwarf candidates -- o005_s41280, o006_s00089, and o006_s35616 -- discovered in the RUBIES using James Webb Space Telescope (JWST) Near-Infrared Spectrograph (NIRSpec) PRISM/CLEAR spectroscopy. We fit these sources with multiple substellar atmosphere models and present the atmospheric parameters, including effective temperature ($T_\\mathrm{eff}$), surface gravity, and other derived properties. The results suggest that o005_s41280 and o006_s35616, with $T_\\mathrm{eff}$ in the ranges of 2100--2300 K and 1800--2000 K, are likely L dwarfs, while o006_s00089, with $T_\\mathrm{eff} < 1000$ K, is consistent with a late T dwarf classification. The best-fit model spectra provide a reasonable match to the observed spectra. However, distinct residuals exist in the $Y$, $J$, and $H$ bands for the two L dwarf candidates, particularly for o006_s35616. Incorporating the extinction parameter into the fitting process can significantly reduce these residuals. The distance estimates indicate that these candidates are about 2 kpc away. The analysis of the color-color diagram using multiple JWST NIRcam photometry suggests that cooler T dwarfs, such as o006_s00089, overlap with little red dots (LRDs), while hotter L dwarfs, like o005_s41280 and o006_s35616, tend to contaminate the high-redshift galaxy cluster. These findings suggest a brown dwarf contamination rate of approximately 0.1% in extragalactic deep field surveys, with L dwarfs being more frequently detected than cooler T and Y dwarfs.         |\n",
       "|<p style=\"color:green\"> **ERROR** </p>| <p style=\"color:green\">affiliation error: mpia.affiliation_verifications: 'Heidelberg' keyword not found.</p> |"
      ],
      "text/plain": [
       "<IPython.core.display.Markdown object>"
      ]
     },
     "metadata": {},
     "output_type": "display_data"
    },
    {
     "data": {
      "text/markdown": [
       "\n",
       "|||\n",
       "|---:|:---|\n",
       "| [![arXiv](https://img.shields.io/badge/arXiv-2501.16694-b31b1b.svg)](https://arxiv.org/abs/2501.16694) | **Flaring Activities of Fast Rotating Stars have Solar-like Latitudinal Distribution**  |\n",
       "|| H. Yang, et al. -- incl., <mark>J. Liu</mark> |\n",
       "|*Appeared on*| *2025-01-29*|\n",
       "|*Comments*| *13 pages,10 figures, accepted by A&A*|\n",
       "|**Abstract**|            The dynamo theory has always been one of the biggest mysteries in stellar physics. One key reason for its uncertainty is poor knowledge of the dynamo process on stars except the Sun. The most important observation feature of solar dynamo is that active regions only appear at low latitudes, which provides a crucial constraint to the dynamo theory, while Doppler imaging, the current technique to spatially resolve stellar hemisphere, is difficult to distinguish the equatorial region . Hence, the latitudinal distribution of active regions (LDAR) of stars is ambiguous and controversial, mainly due to the limit of the current technique for spatially resolving the stellar surface. Fast rotating stars, which are young and active, are thought to operate with a different dynamo process than the Sun. We study their LDAR and compare them with the Sun to reveal the underlying dynamo process. Flares are drastic and observational activity events, which occur in active regions. Here, we propose a new method to study how the apparent flaring activity varies with respect to the inclination to determine the LDAR of fast rotating this http URL find that the LDAR of fast rotating stars is consistent with that of the Sun, contrary to expectations. Our results provide a crucial constraint to stellar dynamo, indicating that the solar-like dynamo also applies to fast rotating stars, even spanning different stages of their evolution.         |\n",
       "|<p style=\"color:green\"> **ERROR** </p>| <p style=\"color:green\">affiliation error: mpia.affiliation_verifications: 'Heidelberg' keyword not found.</p> |"
      ],
      "text/plain": [
       "<IPython.core.display.Markdown object>"
      ]
     },
     "metadata": {},
     "output_type": "display_data"
    },
    {
     "data": {
      "text/markdown": [
       "\n",
       "|||\n",
       "|---:|:---|\n",
       "| [![arXiv](https://img.shields.io/badge/arXiv-2501.16682-b31b1b.svg)](https://arxiv.org/abs/2501.16682) | **ATOMS: ALMA Three-millimeter Observations of massive Star-forming regions -XX. Probability distribution function of integrated intensity for dense molecular gas tracers**  |\n",
       "|| C.Zhang, et al. -- incl., <mark>S. Jiao</mark> |\n",
       "|*Appeared on*| *2025-01-29*|\n",
       "|*Comments*| **|\n",
       "|**Abstract**|            We report the observations of J=1-0 of HCN, HCO+, H13CO+, and H13CN, HC3N (J=11-10) emission towards 135 massive star-forming clumps, as part of the ATOMS (ALMA Three-millimeter Observations of Massive Star-forming regions) Survey. We present the integrated intensity probability distribution function for these molecular tracers, modeled as a combination of a log-normal distribution and a power-law tail. The molecular line luminosities for the power-law tail segment, Lmol(p), have been calculated. We have investigated the correlation between the bolometric luminosity, Lbol, and the power-law part of the molecular line luminosity, Lmol(p). Our findings suggest that the scaling relationships between Lbol and Lmol(p) for HCN and HCO+ are sublinear, indicating that these molecules might not be the most effective tracers for the dense gas. In contrast, H13CN and HC3N exhibit a nearly linear relationship between Lbol and Lmol(p), indicating that they can well trace gravitationally bound dense gas. The ratios of Lbol-to-Lmol(p), serving as indicators of star formation efficiency within massive star-forming clumps, exhibit a weak anti-correlation with the power-law index in the I-PDF. In addition, the star formation efficiency is also weakly anti-correlated with the exponent U of the corresponding equivalent density distribution. Our results implie that clumps with substantial gas accumulation may still display low star formation efficiencies.         |\n",
       "|<p style=\"color:red\"> **ERROR** </p>| <p style=\"color:red\">latex error not a gzip file</p> |"
      ],
      "text/plain": [
       "<IPython.core.display.Markdown object>"
      ]
     },
     "metadata": {},
     "output_type": "display_data"
    }
   ],
   "source": [
    "import datetime\n",
    "today = str(datetime.date.today())\n",
    "logfile = f\"_build/html/logs/log-{today}.md\"\n",
    "\n",
    "\n",
    "with open(logfile, 'w') as logs:\n",
    "    # Success\n",
    "    logs.write(f'# Arxiv on Deck 2: Logs - {today}\\n\\n')\n",
    "    logs.write(\"\"\"* Arxiv had {0:,d} new papers\\n\"\"\".format(len(new_papers)))\n",
    "    logs.write(\"\"\"    * {0:,d} with possible author matches\\n\\n\"\"\".format(len(candidates)))\n",
    "    logs.write(\"## Sucessful papers\\n\\n\")\n",
    "    display(Markdown(\"## Successful papers\"))\n",
    "    success = [k[0] for k in documents]\n",
    "    for candid in candidates:\n",
    "        if candid['identifier'].split(':')[-1] in success:\n",
    "            display(candid)\n",
    "            logs.write(candid.generate_markdown_text() + '\\n\\n')\n",
    "\n",
    "    ## failed\n",
    "    logs.write(\"## Failed papers\\n\\n\")\n",
    "    display(Markdown(\"## Failed papers\"))\n",
    "    failed = sorted(failed, key=lambda x: x[1])\n",
    "    current_reason = \"\"\n",
    "    for paper, reason in failed:\n",
    "        if 'affiliation' in reason:\n",
    "            color = 'green'\n",
    "        else:\n",
    "            color = 'red'\n",
    "        data = Markdown(\n",
    "                paper.generate_markdown_text() + \n",
    "                f'\\n|<p style=\"color:{color:s}\"> **ERROR** </p>| <p style=\"color:{color:s}\">{reason:s}</p> |'\n",
    "               )\n",
    "        if reason != current_reason:\n",
    "            logs.write(f'### {reason:s} \\n\\n')\n",
    "            current_reason = reason\n",
    "        logs.write(data.data + '\\n\\n')\n",
    "        \n",
    "        # only display here the important errors (all in logs)\n",
    "        # if color in ('red',):\n",
    "        display(data)"
   ]
  },
  {
   "cell_type": "markdown",
   "id": "472d20ee",
   "metadata": {
    "papermill": {
     "duration": 0.00463,
     "end_time": "2025-01-29T04:11:21.337965",
     "exception": false,
     "start_time": "2025-01-29T04:11:21.333335",
     "status": "completed"
    },
    "tags": []
   },
   "source": [
    "## Export documents\n",
    "\n",
    "We now write the .md files and export relevant images"
   ]
  },
  {
   "cell_type": "code",
   "execution_count": 7,
   "id": "d426aed9",
   "metadata": {
    "execution": {
     "iopub.execute_input": "2025-01-29T04:11:21.348812Z",
     "iopub.status.busy": "2025-01-29T04:11:21.348157Z",
     "iopub.status.idle": "2025-01-29T04:11:21.355541Z",
     "shell.execute_reply": "2025-01-29T04:11:21.354992Z"
    },
    "papermill": {
     "duration": 0.01391,
     "end_time": "2025-01-29T04:11:21.356537",
     "exception": false,
     "start_time": "2025-01-29T04:11:21.342627",
     "status": "completed"
    },
    "tags": []
   },
   "outputs": [],
   "source": [
    "def export_markdown_summary(md: str, md_fname:str, directory: str):\n",
    "    \"\"\"Export MD document and associated relevant images\"\"\"\n",
    "    import os\n",
    "    import shutil\n",
    "    import re\n",
    "\n",
    "    if (os.path.exists(directory) and not os.path.isdir(directory)):\n",
    "        raise RuntimeError(f\"a non-directory file exists with name {directory:s}\")\n",
    "\n",
    "    if (not os.path.exists(directory)):\n",
    "        print(f\"creating directory {directory:s}\")\n",
    "        os.mkdir(directory)\n",
    "\n",
    "    fig_fnames = (re.compile(r'\\[Fig.*\\]\\((.*)\\)').findall(md) + \n",
    "                  re.compile(r'\\<img src=\"([^>\\s]*)\"[^>]*/>').findall(md))\n",
    "    print(\"found figures\", fig_fnames)\n",
    "    for fname in fig_fnames:\n",
    "        if 'http' in fname:\n",
    "            # No need to copy online figures\n",
    "            continue\n",
    "        if not os.path.exists(fname):\n",
    "            print(\"file not found\", fname)\n",
    "            continue\n",
    "        print(\"copying \", fname, \"to\", directory)\n",
    "        destdir = os.path.join(directory, os.path.dirname(fname))\n",
    "        destfname = os.path.join(destdir, os.path.basename(fname))\n",
    "        try:\n",
    "            os.makedirs(destdir)\n",
    "        except FileExistsError:\n",
    "            pass\n",
    "        shutil.copy(fname, destfname)\n",
    "    with open(os.path.join(directory, md_fname), 'w') as fout:\n",
    "        fout.write(md)\n",
    "    print(\"exported in \", os.path.join(directory, md_fname))\n",
    "    [print(\"    + \" + os.path.join(directory,fk)) for fk in fig_fnames]"
   ]
  },
  {
   "cell_type": "code",
   "execution_count": 8,
   "id": "014d04a4",
   "metadata": {
    "execution": {
     "iopub.execute_input": "2025-01-29T04:11:21.367157Z",
     "iopub.status.busy": "2025-01-29T04:11:21.366733Z",
     "iopub.status.idle": "2025-01-29T04:11:21.377276Z",
     "shell.execute_reply": "2025-01-29T04:11:21.376601Z"
    },
    "papermill": {
     "duration": 0.016957,
     "end_time": "2025-01-29T04:11:21.378289",
     "exception": false,
     "start_time": "2025-01-29T04:11:21.361332",
     "status": "completed"
    },
    "tags": []
   },
   "outputs": [
    {
     "name": "stdout",
     "output_type": "stream",
     "text": [
      "found figures ['tmp_2501.16555/./runtimes.png', 'tmp_2501.16555/./xi0.png', 'tmp_2501.16555/./xi_ic.png']\n",
      "copying  tmp_2501.16555/./runtimes.png to _build/html/\n",
      "copying  tmp_2501.16555/./xi0.png to _build/html/\n",
      "copying  tmp_2501.16555/./xi_ic.png to _build/html/\n",
      "exported in  _build/html/2501.16555.md\n",
      "    + _build/html/tmp_2501.16555/./runtimes.png\n",
      "    + _build/html/tmp_2501.16555/./xi0.png\n",
      "    + _build/html/tmp_2501.16555/./xi_ic.png\n",
      "found figures ['tmp_2501.16866/./images/fig4.png', 'tmp_2501.16866/./images/fig6.png', 'tmp_2501.16866/./images/fig2.png']\n",
      "copying  tmp_2501.16866/./images/fig4.png to _build/html/\n",
      "copying  tmp_2501.16866/./images/fig6.png to _build/html/\n",
      "copying  tmp_2501.16866/./images/fig2.png to _build/html/\n",
      "exported in  _build/html/2501.16866.md\n",
      "    + _build/html/tmp_2501.16866/./images/fig4.png\n",
      "    + _build/html/tmp_2501.16866/./images/fig6.png\n",
      "    + _build/html/tmp_2501.16866/./images/fig2.png\n",
      "found figures ['tmp_2501.17031/./figs/MMR_solar_zmax_eccentricity_kde_sunset_PROCEEDINGS.png', 'tmp_2501.17031/./figs/MMR_solar_feh_rguiding_kde_zoom_sunset_PROCEEDINGS.png', 'tmp_2501.17031/./figs/lithium_top6li_all11subgs_lifeh_g19_pastel_PROCEEDINGS.png', 'tmp_2501.17031/./figs/lithium_top6li_all11subgs_liteff_pastel_PROCEEDINGS.png']\n",
      "copying  tmp_2501.17031/./figs/MMR_solar_zmax_eccentricity_kde_sunset_PROCEEDINGS.png to _build/html/\n",
      "copying  tmp_2501.17031/./figs/MMR_solar_feh_rguiding_kde_zoom_sunset_PROCEEDINGS.png to _build/html/\n",
      "copying  tmp_2501.17031/./figs/lithium_top6li_all11subgs_lifeh_g19_pastel_PROCEEDINGS.png to _build/html/\n",
      "copying  tmp_2501.17031/./figs/lithium_top6li_all11subgs_liteff_pastel_PROCEEDINGS.png to _build/html/\n",
      "exported in  _build/html/2501.17031.md\n",
      "    + _build/html/tmp_2501.17031/./figs/MMR_solar_zmax_eccentricity_kde_sunset_PROCEEDINGS.png\n",
      "    + _build/html/tmp_2501.17031/./figs/MMR_solar_feh_rguiding_kde_zoom_sunset_PROCEEDINGS.png\n",
      "    + _build/html/tmp_2501.17031/./figs/lithium_top6li_all11subgs_lifeh_g19_pastel_PROCEEDINGS.png\n",
      "    + _build/html/tmp_2501.17031/./figs/lithium_top6li_all11subgs_liteff_pastel_PROCEEDINGS.png\n"
     ]
    }
   ],
   "source": [
    "for paper_id, md in documents:\n",
    "    export_markdown_summary(md, f\"{paper_id:s}.md\", '_build/html/')"
   ]
  },
  {
   "cell_type": "markdown",
   "id": "f087a0a7",
   "metadata": {
    "papermill": {
     "duration": 0.00472,
     "end_time": "2025-01-29T04:11:21.388148",
     "exception": false,
     "start_time": "2025-01-29T04:11:21.383428",
     "status": "completed"
    },
    "tags": []
   },
   "source": [
    "## Display the papers\n",
    "\n",
    "Not necessary but allows for a quick check."
   ]
  },
  {
   "cell_type": "code",
   "execution_count": 9,
   "id": "fd25f625",
   "metadata": {
    "execution": {
     "iopub.execute_input": "2025-01-29T04:11:21.398982Z",
     "iopub.status.busy": "2025-01-29T04:11:21.398470Z",
     "iopub.status.idle": "2025-01-29T04:11:21.406096Z",
     "shell.execute_reply": "2025-01-29T04:11:21.405458Z"
    },
    "papermill": {
     "duration": 0.014291,
     "end_time": "2025-01-29T04:11:21.407214",
     "exception": false,
     "start_time": "2025-01-29T04:11:21.392923",
     "status": "completed"
    },
    "scrolled": false,
    "tags": []
   },
   "outputs": [
    {
     "data": {
      "text/markdown": [
       "<div class=\"macros\" style=\"visibility:hidden;\">\n",
       "$\\newcommand{\\ensuremath}{}$\n",
       "$\\newcommand{\\xspace}{}$\n",
       "$\\newcommand{\\object}[1]{\\texttt{#1}}$\n",
       "$\\newcommand{\\farcs}{{.}''}$\n",
       "$\\newcommand{\\farcm}{{.}'}$\n",
       "$\\newcommand{\\arcsec}{''}$\n",
       "$\\newcommand{\\arcmin}{'}$\n",
       "$\\newcommand{\\ion}[2]{#1#2}$\n",
       "$\\newcommand{\\textsc}[1]{\\textrm{#1}}$\n",
       "$\\newcommand{\\hl}[1]{\\textrm{#1}}$\n",
       "$\\newcommand{\\footnote}[1]{}$\n",
       "$\\newcommand{\\nc}{\\newcommand}$\n",
       "$\\newcommand{\\orcid}[1]$\n",
       "$\\newcommand$</div>\n",
       "\n",
       "\n",
       "\n",
       "<div id=\"title\">\n",
       "\n",
       "# $\\Euclid$ preparation. 3-dimensional galaxy clustering in configuration space Part \\textrm{I}: 2-point correlation function estimation\n",
       "\n",
       "</div>\n",
       "<div id=\"comments\">\n",
       "\n",
       "[![arXiv](https://img.shields.io/badge/arXiv-2501.16555-b31b1b.svg)](https://arxiv.org/abs/2501.16555)<mark>Appeared on: 2025-01-29</mark> -  _17 pages, 13 figures, submitted to A&A_\n",
       "\n",
       "</div>\n",
       "<div id=\"authors\">\n",
       "\n",
       "E. Collaboration, et al. -- incl., <mark>K. Jahnke</mark>\n",
       "\n",
       "</div>\n",
       "<div id=\"abstract\">\n",
       "\n",
       "**Abstract:** The 2-point correlation function of the galaxy spatial distribution is a major cosmological observable that enables constraints on the dynamics and geometry of the Universe. The $\\Euclid$ mission aims at performing an extensive spectroscopic survey of approximately 20--30 million H $\\alpha$ -emitting galaxies up to about redshift two. This ambitious project seeks to elucidate the nature of dark energy by mapping the 3-dimensional clustering of galaxies over a significant portion of the sky. This paper presents the methodology and software developed for estimating the 3-dimensional 2-point correlation function within the Euclid Science Ground Segment. The software is designed to overcome the significant challenges posed by the large and complex $\\Euclid$ data set, which involves millions of galaxies. Key challenges include efficient pair counting, managing computational resources, and ensuring the accuracy of the correlation function estimation. The software leverages advanced algorithms, including kd-tree, octree, and linked-list data partitioning strategies, to optimise the pair-counting process. These methods are crucial for handling the massive volume of data efficiently. The implementation also includes parallel processing capabilities using shared-memory open multi-processing to further enhance performance and reduce computation times. Extensive validation and performance testing of the software are presented. Those have been performed by using various mock galaxy catalogues to ensure that it meets the stringent accuracy requirement of the $\\Euclid$ mission. The results indicate that the software is robust and can reliably estimate the 2-point correlation function, which is essential for deriving cosmological parameters with high precision. Furthermore, the paper discusses the expected performance of the software during different stages of the Euclid Wide Survey observations and forecasts how the precision of the correlation function measurements will improve over the mission's timeline, highlighting the software's capability to handle large data sets efficiently.\n",
       "\n",
       "</div>\n",
       "\n",
       "<div id=\"div_fig1\">\n",
       "\n",
       "<img src=\"tmp_2501.16555/./runtimes.png\" alt=\"Fig2\" width=\"100%\"/>\n",
       "\n",
       "**Figure 2. -** Runtimes for the calculation of the multipole correlation of galaxies obtained from the ELM mock. The times are expressed in CPU-hour and as a function of the data or random catalogue size. The various symbols represent the time spent on the data structure construction, DD calculation, DR calculation, RR calculation, and the overall 2PCF runtime with and without random split option. The DR calculation times are provided as a function of the number of objects in the data catalogue and assuming a fifty times larger random catalogue. The different curves represent the runtimes obtained with the linked-list (solid), kd-tree (dashed), and octree (dotted) algorithms. The blue vertical band shows the range of expected number densities in the spectroscopic sample at redshifts within $0.9<z<1.8$. The abscissa refers to the number of object in the data catalogue except for RR calculation where it refers to the that in the random catalogue. (*fig:runtimes*)\n",
       "\n",
       "</div>\n",
       "<div id=\"div_fig2\">\n",
       "\n",
       "<img src=\"tmp_2501.16555/./xi0.png\" alt=\"Fig8\" width=\"100%\"/>\n",
       "\n",
       "**Figure 8. -** Monopole correlation function estimated from the FGM mock for galaxies with $\\mathrm{H}\\alpha$ flux above $2\\times10^{-16} \\mathrm{erg}  \\mathrm{s}^{-1} \\mathrm{cm}^{-2}$ at different epochs of observations. The different colours show the monopole in the redshift intervals: $0.9<z<1.1$, $1.1<z<1.3$, $1.3<z<1.5$,$1.5<z<1.8$. (*fig:xi0*)\n",
       "\n",
       "</div>\n",
       "<div id=\"div_fig3\">\n",
       "\n",
       "<img src=\"tmp_2501.16555/./xi_ic.png\" alt=\"Fig12\" width=\"100%\"/>\n",
       "\n",
       "**Figure 12. -** Impact of the integral constraint on the monopole correlation function in the Euclid Wide Survey. The curves with the different different symbols show the absolute value of the ratio between the monopole correlation functions affected by integral constraint and true underlying one, after 1, 3, and 6 years of observation respectively. The solid curves show the same quantity for year 6 observations, but when the integral constraint effect is derived from a model correlation function. The different colours show this quantity for the redshift intervals: $0.9<z<1.1$, $1.1<z<1.3$,$1.3<z<1.5$,$1.5<z<1.8$. The dotted curves delineate the expected $1\\sigma$ statistical uncertainty on the monopole correlation function in the completed Euclid Wide Survey. (*fig:ic*)\n",
       "\n",
       "</div><div id=\"qrcode\"><img src=https://api.qrserver.com/v1/create-qr-code/?size=100x100&data=\"https://arxiv.org/abs/2501.16555\"></div>"
      ],
      "text/plain": [
       "<IPython.core.display.Markdown object>"
      ]
     },
     "metadata": {},
     "output_type": "display_data"
    },
    {
     "data": {
      "text/markdown": [
       "<div class=\"macros\" style=\"visibility:hidden;\">\n",
       "$\\newcommand{\\ensuremath}{}$\n",
       "$\\newcommand{\\xspace}{}$\n",
       "$\\newcommand{\\object}[1]{\\texttt{#1}}$\n",
       "$\\newcommand{\\farcs}{{.}''}$\n",
       "$\\newcommand{\\farcm}{{.}'}$\n",
       "$\\newcommand{\\arcsec}{''}$\n",
       "$\\newcommand{\\arcmin}{'}$\n",
       "$\\newcommand{\\ion}[2]{#1#2}$\n",
       "$\\newcommand{\\textsc}[1]{\\textrm{#1}}$\n",
       "$\\newcommand{\\hl}[1]{\\textrm{#1}}$\n",
       "$\\newcommand{\\footnote}[1]{}$\n",
       "$\\newcommand{\\MTnote}[1]{ {\\color{red} [MT: ~#1]}}$\n",
       "$\\newcommand{\\aj}{AJ}$\n",
       "$\\newcommand{\\araa}{ARA\\&A}$\n",
       "$\\newcommand{\\apj}{ApJ}$\n",
       "$\\newcommand{\\apjl}{ApJ}$\n",
       "$\\newcommand{\\apjs}{ApJS}$\n",
       "$\\newcommand{\\ao}{Appl.~Opt.}$\n",
       "$\\newcommand{\\apss}{Ap\\&SS}$\n",
       "$\\newcommand{\\aap}{A\\&A}$\n",
       "$\\newcommand{\\aapr}{A\\&A~Rev.}$\n",
       "$\\newcommand{\\aaps}{A\\&AS}$\n",
       "$\\newcommand{\\azh}{AZh}$\n",
       "$\\newcommand{\\baas}{BAAS}$\n",
       "$\\newcommand{\\jrasc}{JRASC}$\n",
       "$\\newcommand{\\memras}{MmRAS}$\n",
       "$\\newcommand{\\mnras}{MNRAS}$\n",
       "$\\newcommand{\\pra}{Phys.~Rev.~A}$\n",
       "$\\newcommand{\\prb}{Phys.~Rev.~B}$\n",
       "$\\newcommand{\\prc}{Phys.~Rev.~C}$\n",
       "$\\newcommand{\\prd}{Phys.~Rev.~D}$\n",
       "$\\newcommand{\\pre}{Phys.~Rev.~E}$\n",
       "$\\newcommand{\\prl}{Phys.~Rev.~Lett.}$\n",
       "$\\newcommand{\\pasp}{PASP}$\n",
       "$\\newcommand{\\pasj}{PASJ}$\n",
       "$\\newcommand{\\qjras}{QJRAS}$\n",
       "$\\newcommand{\\skytel}{S\\&T}$\n",
       "$\\newcommand{\\solphys}{Sol.~Phys.}$\n",
       "$\\newcommand{\\sovast}{Soviet~Ast.}$\n",
       "$\\newcommand{\\ssr}{Space~Sci.~Rev.}$\n",
       "$\\newcommand{\\zap}{ZAp}$\n",
       "$\\newcommand{\\nat}{Nature}$\n",
       "$\\newcommand{\\iaucirc}{IAU~Circ.}$\n",
       "$\\newcommand{\\aplett}{Astrophys.~Lett.}$\n",
       "$\\newcommand{\\apspr}{Astrophys.~Space~Phys.~Res.}$\n",
       "$\\newcommand{\\bain}{Bull.~Astron.~Inst.~Netherlands}$\n",
       "$\\newcommand{\\fcp}{Fund.~Cosmic~Phys.}$\n",
       "$\\newcommand{\\gca}{Geochim.~Cosmochim.~Acta}$\n",
       "$\\newcommand{\\grl}{Geophys.~Res.~Lett.}$\n",
       "$\\newcommand{\\jcp}{J.~Chem.~Phys.}$\n",
       "$\\newcommand{\\jgr}{J.~Geophys.~Res.}$\n",
       "$\\newcommand{\\jqsrt}{J.~Quant.~Spec.~Radiat.~Transf.}$\n",
       "$\\newcommand{\\memsai}{Mem.~Soc.~Astron.~Italiana}$\n",
       "$\\newcommand{\\nphysa}{Nucl.~Phys.~A}$\n",
       "$\\newcommand{\\physrep}{Phys.~Rep.}$\n",
       "$\\newcommand{\\physscr}{Phys.~Scr}$\n",
       "$\\newcommand{\\planss}{Planet.~Space~Sci.}$\n",
       "$\\newcommand{\\procspie}{Proc.~SPIE}$</div>\n",
       "\n",
       "\n",
       "\n",
       "<div id=\"title\">\n",
       "\n",
       "# Star formation from low to high mass:\\ A comparative view\n",
       "\n",
       "</div>\n",
       "<div id=\"comments\">\n",
       "\n",
       "[![arXiv](https://img.shields.io/badge/arXiv-2501.16866-b31b1b.svg)](https://arxiv.org/abs/2501.16866)<mark>Appeared on: 2025-01-29</mark> -  _45 pages, 6 figures, accepted for Annual Reviews of Astronomy and Astrophysics_\n",
       "\n",
       "</div>\n",
       "<div id=\"authors\">\n",
       "\n",
       "<mark>H. Beuther</mark>, R. Kuiper, M. Tafalla\n",
       "\n",
       "</div>\n",
       "<div id=\"abstract\">\n",
       "\n",
       "**Abstract:** * Qualitative differences between low- and high-mass star formation relate mainly to the radiative and ionizing feedback that occurs almost exclusively in regions forming high-mass stars. Nevertheless, accretion apparently can continue via disk structures in ionized accretion flows.\\end{itemize}Finally, we discuss to what extent a unified picture of star formation over all masses is possible and which issues need to be addressed in the future.\\end{minipage}$\n",
       "\n",
       "</div>\n",
       "\n",
       "<div id=\"div_fig1\">\n",
       "\n",
       "<img src=\"tmp_2501.16866/./images/fig4.png\" alt=\"Fig3\" width=\"100%\"/>\n",
       "\n",
       "**Figure 3. -** Comparison of core separations and average densities for example low-, intermediate and high-mass star-forming regions on the same physical scales. The left, middle and right panels show data in color and contours for B213 ($N_2$H$^+$(1--0), \\citealt{tafalla2015}), IRDC 19175 ($N_2$H$^+$(1--0), \\citealt{beuther2009}) and IRDC 18310-4 (1.1 mm continuum, \\citealt{beuther2015}). Linear scale-bars and spatial resolution elements are shown to the left and top-right in each panel, respectively. (*jeans-length*)\n",
       "\n",
       "</div>\n",
       "<div id=\"div_fig2\">\n",
       "\n",
       "<img src=\"tmp_2501.16866/./images/fig6.png\" alt=\"Fig4\" width=\"100%\"/>\n",
       "\n",
       "**Figure 4. -** Sketch of a star formation complex encompassing low- and high-mass star formation. While the top-part presents a large, magnetized filamentary cloud with low- and high-mass star formation occurring in different density regimes, the insets in the bottom part outline sub-aspects. While cores, disks and jets can be found in low- and high-mass regions, the feedback processes exclusively stem from high-mass stars. The figure is inspired by observational and numerical data from \\citet{grudic2022,soler2019,traficante2023,oliva2023b}, and a Hubble image of Orion (credit: NASA, C.R. O'Dell and S.K. Wong). The entire figure is created by André Oliva. (*sketch_summary*)\n",
       "\n",
       "</div>\n",
       "<div id=\"div_fig3\">\n",
       "\n",
       "<img src=\"tmp_2501.16866/./images/fig2.png\" alt=\"Fig2\" width=\"100%\"/>\n",
       "\n",
       "**Figure 2. -** Normalized histograms of the $\\delta V$ parameter derived from\n",
       "infall searches towards low-mass\n",
       "starless cores (left panel, \\citealt{lee2001}), low-mass\n",
       "protostars (middle panel, \\citealt{mardones1997}), and high-mass clumps\n",
       "(right panel, \\citealt{jackson2019}). All $\\delta V$ estimates use\n",
       "$N_2$H$^+$ as the thin tracer and the thick tracer indicated in the\n",
       "abscissa label. Despite the large differences between their targets, the three\n",
       "histograms present similar $\\delta V$ distributions in terms of shape, width,\n",
       "and slight excess of negative values (indicative of contraction motions). (*fig_deltav*)\n",
       "\n",
       "</div><div id=\"qrcode\"><img src=https://api.qrserver.com/v1/create-qr-code/?size=100x100&data=\"https://arxiv.org/abs/2501.16866\"></div>"
      ],
      "text/plain": [
       "<IPython.core.display.Markdown object>"
      ]
     },
     "metadata": {},
     "output_type": "display_data"
    },
    {
     "data": {
      "text/markdown": [
       "<div class=\"macros\" style=\"visibility:hidden;\">\n",
       "$\\newcommand{\\ensuremath}{}$\n",
       "$\\newcommand{\\xspace}{}$\n",
       "$\\newcommand{\\object}[1]{\\texttt{#1}}$\n",
       "$\\newcommand{\\farcs}{{.}''}$\n",
       "$\\newcommand{\\farcm}{{.}'}$\n",
       "$\\newcommand{\\arcsec}{''}$\n",
       "$\\newcommand{\\arcmin}{'}$\n",
       "$\\newcommand{\\ion}[2]{#1#2}$\n",
       "$\\newcommand{\\textsc}[1]{\\textrm{#1}}$\n",
       "$\\newcommand{\\hl}[1]{\\textrm{#1}}$\n",
       "$\\newcommand{\\footnote}[1]{}$\n",
       "$\\newcommand{\\feh}{[Fe/H]}$\n",
       "$\\newcommand{\\zmax}{\\langle Z_{\\rm{max}} \\rangle}$\n",
       "$\\newcommand{\\eccentricity}{\\langle e \\rangle}$\n",
       "$\\newcommand{\\aj}{AJ}$\n",
       "$\\newcommand{\\araa}{ARA\\&A}$\n",
       "$\\newcommand{\\apj}{ApJ}$\n",
       "$\\newcommand{\\apjl}{ApJ}$\n",
       "$\\newcommand{\\apjs}{ApJS}$\n",
       "$\\newcommand{\\apss}{Ap\\&SS}$\n",
       "$\\newcommand{\\aap}{A\\&A}$\n",
       "$\\newcommand{\\aapr}{A\\&A~Rev.}$\n",
       "$\\newcommand{\\aaps}{A\\&AS}$\n",
       "$\\newcommand{\\mnras}{MNRAS}$\n",
       "$\\newcommand{\\pasp}{PASP}$\n",
       "$\\newcommand{\\pasj}{PASJ}$\n",
       "$\\newcommand{\\qjras}{QJRAS}$\n",
       "$\\newcommand{\\nat}{Nature}$\n",
       "$\\newcommand{\\aplett}{Astrophys.~Lett.}$\n",
       "$\\newcommand{\\aas}{AAS}$\n",
       "$\\newcommand{\\eprint}{e--print}$</div>\n",
       "\n",
       "\n",
       "\n",
       "<div id=\"title\">\n",
       "\n",
       "# The interplay between super-metallicity, lithium depletion, and radial migration in nearby stars\n",
       "\n",
       "</div>\n",
       "<div id=\"comments\">\n",
       "\n",
       "[![arXiv](https://img.shields.io/badge/arXiv-2501.17031-b31b1b.svg)](https://arxiv.org/abs/2501.17031)<mark>Appeared on: 2025-01-29</mark> -  _To appear in the proceedings of IAU Symposium 395 (3 pages)_\n",
       "\n",
       "</div>\n",
       "<div id=\"authors\">\n",
       "\n",
       "M. L. L. Dantas, et al. -- incl., <mark>G. Guiglion</mark>\n",
       "\n",
       "</div>\n",
       "<div id=\"abstract\">\n",
       "\n",
       "**Abstract:** We report the discovery of a peculiar set of old super-metal-rich dwarf stars with orbits of low eccentricity that reach a maximum height from the Galactic plane between $\\sim$ 0.5-1.5 kpc observed by the $*Gaia*$ -ESO Survey. These stars show lithium (Li) depletion, which is anti-correlated with their [ Fe/H ] . To investigate these stars' chemo-dynamical properties, we used data from the $*Gaia*$ -ESO Survey. We applied hierarchical clustering to group the stars based on their abundances (excluding Li). Orbits were integrated using $*Gaia*$ astrometry and radial velocities from $*Gaia*$ -ESO. Our analysis suggests that the high metallicity of these stars is incompatible with their formation in the solar neighbourhood. We also found that their Li envelope abundance is below the benchmark meteoritic value, in agreement with previous works. This result supports the idea that the Li abundance in old, super-metal-rich dwarf stars should not be considered a proxy for the local interstellar medium Li.\n",
       "\n",
       "</div>\n",
       "\n",
       "<div id=\"div_fig1\">\n",
       "\n",
       "<img src=\"tmp_2501.17031/./figs/MMR_solar_zmax_eccentricity_kde_sunset_PROCEEDINGS.png\" alt=\"Fig2.1\" width=\"50%\"/><img src=\"tmp_2501.17031/./figs/MMR_solar_feh_rguiding_kde_zoom_sunset_PROCEEDINGS.png\" alt=\"Fig2.2\" width=\"50%\"/>\n",
       "\n",
       "**Figure 2. -** *Top panel*: $\\zmax$*vs.*$\\eccentricity$ for the five subgroups of the most metal-rich group. The Solar-metallicity group parameters are shown in grey for comparison. The thin and thick disc scale-heights are shown as black dashed and dot-dashed lines respectively. *Bottom panel*: similar to the top panel, but showing [Fe/H]*vs.*$\\langle R_{\\rm gui} \\rangle$(guiding radius). The dotted, dashed, and dot-dashed black curves respectively depict the 3.3, 8, and 11 Gyr models described in \\citet{Magrini2009}. The analysis encompassing the full sample with all metallicities is discussed in Dantas et al. (in review). (*fig:zmax_ecc*)\n",
       "\n",
       "</div>\n",
       "<div id=\"div_fig2\">\n",
       "\n",
       "<img src=\"tmp_2501.17031/./figs/lithium_top6li_all11subgs_lifeh_g19_pastel_PROCEEDINGS.png\" alt=\"Fig1.1\" width=\"50%\"/><img src=\"tmp_2501.17031/./figs/lithium_top6li_all11subgs_liteff_pastel_PROCEEDINGS.png\" alt=\"Fig1.2\" width=\"50%\"/>\n",
       "\n",
       "**Figure 1. -** *Left panel:*$\\langle{\\rm A(Li)} \\rangle$ vs $\\feh$ for the super-solar groups of the sample, split into those with a direct detection of Li (LiD) and those with an upper limit estimate (LiUL). In this representation, only the median of the top six stars with the highest A(Li) is shown in each marker. The black star-shaped markers display the data from \\citet{Guiglion2016}. *Right panel:*$\\langle{\\rm A(Li)} \\rangle$ vs $\\langle T_{\\rm eff} \\rangle$. It is possible to see that A(Li) seems to decrease with decreasing $T_{\\rm eff}$. Warmer temperatures seem to have a protective effect on A(Li) due to their thinner convective layers of the stars. (*fig:li*)\n",
       "\n",
       "</div><div id=\"qrcode\"><img src=https://api.qrserver.com/v1/create-qr-code/?size=100x100&data=\"https://arxiv.org/abs/2501.17031\"></div>"
      ],
      "text/plain": [
       "<IPython.core.display.Markdown object>"
      ]
     },
     "metadata": {},
     "output_type": "display_data"
    }
   ],
   "source": [
    "[display(Markdown(k[1])) for k in documents];"
   ]
  },
  {
   "cell_type": "markdown",
   "id": "873873a4",
   "metadata": {
    "papermill": {
     "duration": 0.005251,
     "end_time": "2025-01-29T04:11:21.418076",
     "exception": false,
     "start_time": "2025-01-29T04:11:21.412825",
     "status": "completed"
    },
    "tags": []
   },
   "source": [
    "# Create HTML index"
   ]
  },
  {
   "cell_type": "code",
   "execution_count": 10,
   "id": "cf665672",
   "metadata": {
    "execution": {
     "iopub.execute_input": "2025-01-29T04:11:21.430310Z",
     "iopub.status.busy": "2025-01-29T04:11:21.429693Z",
     "iopub.status.idle": "2025-01-29T04:11:21.438891Z",
     "shell.execute_reply": "2025-01-29T04:11:21.438346Z"
    },
    "papermill": {
     "duration": 0.016515,
     "end_time": "2025-01-29T04:11:21.439891",
     "exception": false,
     "start_time": "2025-01-29T04:11:21.423376",
     "status": "completed"
    },
    "tags": []
   },
   "outputs": [
    {
     "name": "stdout",
     "output_type": "stream",
     "text": [
      "322  publications files modified in the last 7 days.\n"
     ]
    }
   ],
   "source": [
    "from datetime import datetime, timedelta, timezone\n",
    "from glob import glob\n",
    "import os\n",
    "\n",
    "files = glob('_build/html/*.md')\n",
    "days = 7\n",
    "now = datetime.today()\n",
    "res = []\n",
    "for fk in files:\n",
    "    stat_result = os.stat(fk).st_ctime\n",
    "    modified = datetime.fromtimestamp(stat_result, tz=timezone.utc).replace(tzinfo=None)\n",
    "    delta = now.today() - modified\n",
    "    if delta <= timedelta(days=days):\n",
    "        res.append((delta.seconds, fk))\n",
    "res = [k[1] for k in reversed(sorted(res, key=lambda x:x[1]))]\n",
    "npub = len(res)\n",
    "print(len(res), f\" publications files modified in the last {days:d} days.\")\n",
    "# [ print('\\t', k) for k in res ];"
   ]
  },
  {
   "cell_type": "code",
   "execution_count": 11,
   "id": "015de740",
   "metadata": {
    "execution": {
     "iopub.execute_input": "2025-01-29T04:11:21.451678Z",
     "iopub.status.busy": "2025-01-29T04:11:21.451395Z",
     "iopub.status.idle": "2025-01-29T04:11:21.469907Z",
     "shell.execute_reply": "2025-01-29T04:11:21.469266Z"
    },
    "papermill": {
     "duration": 0.025525,
     "end_time": "2025-01-29T04:11:21.470864",
     "exception": false,
     "start_time": "2025-01-29T04:11:21.445339",
     "status": "completed"
    },
    "tags": []
   },
   "outputs": [
    {
     "name": "stdout",
     "output_type": "stream",
     "text": [
      "10  publications in the last 7 days.\n"
     ]
    }
   ],
   "source": [
    "import datetime\n",
    "from glob import glob\n",
    "\n",
    "def get_last_n_days(lst, days=1):\n",
    "    \"\"\" Get the documents from the last n days \"\"\"\n",
    "    sorted_lst = sorted(lst, key=lambda x: x[1], reverse=True)\n",
    "    for fname, date in sorted_lst:\n",
    "        if date >= str(datetime.date.today() - datetime.timedelta(days=days)):\n",
    "            yield fname\n",
    "\n",
    "def extract_appearance_dates(lst_file):\n",
    "    dates = []\n",
    "\n",
    "    def get_date(line):\n",
    "        return line\\\n",
    "            .split('Appeared on:')[-1]\\\n",
    "            .split('</mark>')[0].strip()\n",
    "\n",
    "    for fname in lst:\n",
    "        with open(fname, 'r') as f:\n",
    "            found_date = False\n",
    "            for line in f:\n",
    "                if not found_date:\n",
    "                    if \"Appeared on\" in line:\n",
    "                        found_date = True\n",
    "                        dates.append((fname, get_date(line)))\n",
    "                else:\n",
    "                    break\n",
    "    return dates\n",
    "\n",
    "from glob import glob\n",
    "lst = glob('_build/html/*md')\n",
    "days = 7\n",
    "dates = extract_appearance_dates(lst)\n",
    "res = list(get_last_n_days(dates, days))\n",
    "npub = len(res)\n",
    "print(len(res), f\" publications in the last {days:d} days.\")"
   ]
  },
  {
   "cell_type": "code",
   "execution_count": 12,
   "id": "52ca0208",
   "metadata": {
    "execution": {
     "iopub.execute_input": "2025-01-29T04:11:21.483162Z",
     "iopub.status.busy": "2025-01-29T04:11:21.482716Z",
     "iopub.status.idle": "2025-01-29T04:11:21.487927Z",
     "shell.execute_reply": "2025-01-29T04:11:21.487273Z"
    },
    "papermill": {
     "duration": 0.012518,
     "end_time": "2025-01-29T04:11:21.489015",
     "exception": false,
     "start_time": "2025-01-29T04:11:21.476497",
     "status": "completed"
    },
    "scrolled": false,
    "tags": []
   },
   "outputs": [],
   "source": [
    "def create_carousel(npub=4):\n",
    "    \"\"\" Generate the HTML code for a carousel with `npub` slides \"\"\"\n",
    "    carousel = [\"\"\"  <div class=\"carousel\" \"\"\",\n",
    "                \"\"\"       data-flickity='{ \"autoPlay\": 10000, \"adaptiveHeight\": true, \"resize\": true, \"wrapAround\": true, \"pauseAutoPlayOnHover\": true, \"groupCells\": 1 }' id=\"asyncTypeset\">\"\"\"\n",
    "                ]\n",
    "    \n",
    "    item_str = \"\"\"    <div class=\"carousel-cell\"> <div id=\"slide{k}\" class=\"md_view\">Content {k}</div> </div>\"\"\"\n",
    "    for k in range(1, npub + 1):\n",
    "        carousel.append(item_str.format(k=k))\n",
    "    carousel.append(\"  </div>\")\n",
    "    return '\\n'.join(carousel)\n",
    "\n",
    "def create_grid(npub=4):\n",
    "    \"\"\" Generate the HTML code for a flat grid with `npub` slides \"\"\"\n",
    "    grid = [\"\"\"  <div class=\"grid\"> \"\"\",\n",
    "                ]\n",
    "    \n",
    "    item_str = \"\"\"    <div class=\"grid-item\"> <div id=\"slide{k}\" class=\"md_view\">Content {k}</div> </div>\"\"\"\n",
    "    for k in range(1, npub + 1):\n",
    "        grid.append(item_str.format(k=k))\n",
    "    grid.append(\"  </div>\")\n",
    "    return '\\n'.join(grid)"
   ]
  },
  {
   "cell_type": "code",
   "execution_count": 13,
   "id": "a6eac5b6",
   "metadata": {
    "execution": {
     "iopub.execute_input": "2025-01-29T04:11:21.500971Z",
     "iopub.status.busy": "2025-01-29T04:11:21.500591Z",
     "iopub.status.idle": "2025-01-29T04:11:21.505702Z",
     "shell.execute_reply": "2025-01-29T04:11:21.505180Z"
    },
    "papermill": {
     "duration": 0.012087,
     "end_time": "2025-01-29T04:11:21.506628",
     "exception": false,
     "start_time": "2025-01-29T04:11:21.494541",
     "status": "completed"
    },
    "scrolled": false,
    "tags": []
   },
   "outputs": [],
   "source": [
    "carousel = create_carousel(npub)\n",
    "docs = ', '.join(['\"{0:s}\"'.format(k.split('/')[-1]) for k in res])\n",
    "slides = ', '.join([f'\"slide{k}\"' for k in range(1, npub + 1)])\n",
    "\n",
    "with open(\"daily_template.html\", \"r\") as tpl:\n",
    "    page = tpl.read()\n",
    "    page = page.replace(\"{%-- carousel:s --%}\", carousel)\\\n",
    "               .replace(\"{%-- suptitle:s --%}\",  \"7-day archives\" )\\\n",
    "               .replace(\"{%-- docs:s --%}\", docs)\\\n",
    "               .replace(\"{%-- slides:s --%}\", slides)\n",
    "    \n",
    "with open(\"_build/html/index_7days.html\", 'w') as fout:\n",
    "    fout.write(page)"
   ]
  },
  {
   "cell_type": "code",
   "execution_count": 14,
   "id": "adc1a1ec",
   "metadata": {
    "execution": {
     "iopub.execute_input": "2025-01-29T04:11:21.518614Z",
     "iopub.status.busy": "2025-01-29T04:11:21.518208Z",
     "iopub.status.idle": "2025-01-29T04:11:21.524876Z",
     "shell.execute_reply": "2025-01-29T04:11:21.524361Z"
    },
    "papermill": {
     "duration": 0.0137,
     "end_time": "2025-01-29T04:11:21.525837",
     "exception": false,
     "start_time": "2025-01-29T04:11:21.512137",
     "status": "completed"
    },
    "tags": []
   },
   "outputs": [
    {
     "name": "stdout",
     "output_type": "stream",
     "text": [
      "4  publications in the last day.\n"
     ]
    }
   ],
   "source": [
    "# redo for today\n",
    "days = 1\n",
    "res = list(get_last_n_days(dates, days))\n",
    "npub = len(res)\n",
    "print(len(res), f\" publications in the last day.\")\n",
    "\n",
    "carousel = create_carousel(npub)\n",
    "docs = ', '.join(['\"{0:s}\"'.format(k.split('/')[-1]) for k in res])\n",
    "slides = ', '.join([f'\"slide{k}\"' for k in range(1, npub + 1)])\n",
    "\n",
    "with open(\"daily_template.html\", \"r\") as tpl:\n",
    "    page = tpl.read()\n",
    "    page = page.replace(\"{%-- carousel:s --%}\", carousel)\\\n",
    "               .replace(\"{%-- suptitle:s --%}\",  \"Daily\" )\\\n",
    "               .replace(\"{%-- docs:s --%}\", docs)\\\n",
    "               .replace(\"{%-- slides:s --%}\", slides)\n",
    "    \n",
    "# print(carousel, docs, slides)\n",
    "# print(page)\n",
    "with open(\"_build/html/index_daily.html\", 'w') as fout:\n",
    "    fout.write(page)"
   ]
  },
  {
   "cell_type": "code",
   "execution_count": 15,
   "id": "00eece82",
   "metadata": {
    "execution": {
     "iopub.execute_input": "2025-01-29T04:11:21.538445Z",
     "iopub.status.busy": "2025-01-29T04:11:21.537932Z",
     "iopub.status.idle": "2025-01-29T04:11:21.544729Z",
     "shell.execute_reply": "2025-01-29T04:11:21.544072Z"
    },
    "papermill": {
     "duration": 0.014253,
     "end_time": "2025-01-29T04:11:21.545859",
     "exception": false,
     "start_time": "2025-01-29T04:11:21.531606",
     "status": "completed"
    },
    "scrolled": false,
    "tags": []
   },
   "outputs": [
    {
     "name": "stdout",
     "output_type": "stream",
     "text": [
      "6  6 publications selected.\n"
     ]
    }
   ],
   "source": [
    "# Create the flat grid of the last N papers (fixed number regardless of dates)\n",
    "from itertools import islice \n",
    "\n",
    "npub = 6\n",
    "res = [k[0] for k in (islice(reversed(sorted(dates, key=lambda x: x[1])), 6))]\n",
    "print(len(res), f\" {npub} publications selected.\")\n",
    "\n",
    "grid = create_grid(npub)\n",
    "docs = ', '.join(['\"{0:s}\"'.format(k.split('/')[-1]) for k in res])\n",
    "slides = ', '.join([f'\"slide{k}\"' for k in range(1, npub + 1)])\n",
    "\n",
    "with open(\"grid_template.html\", \"r\") as tpl:\n",
    "    page = tpl.read()\n",
    "    page = page.replace(\"{%-- grid-content:s --%}\", grid)\\\n",
    "               .replace(\"{%-- suptitle:s --%}\",  f\"Last {npub:,d} papers\" )\\\n",
    "               .replace(\"{%-- docs:s --%}\", docs)\\\n",
    "               .replace(\"{%-- slides:s --%}\", slides)\n",
    "    \n",
    "# print(grid, docs, slides)\n",
    "# print(page)\n",
    "with open(\"_build/html/index_npub_grid.html\", 'w') as fout:\n",
    "    fout.write(page)"
   ]
  }
 ],
 "metadata": {
  "kernelspec": {
   "display_name": "Python 3 (ipykernel)",
   "language": "python",
   "name": "python3"
  },
  "language_info": {
   "codemirror_mode": {
    "name": "ipython",
    "version": 3
   },
   "file_extension": ".py",
   "mimetype": "text/x-python",
   "name": "python",
   "nbconvert_exporter": "python",
   "pygments_lexer": "ipython3",
   "version": "3.9.21"
  },
  "papermill": {
   "default_parameters": {},
   "duration": 43.353093,
   "end_time": "2025-01-29T04:11:21.767627",
   "environment_variables": {},
   "exception": null,
   "input_path": "MPIA daily digest.ipynb",
   "output_path": "log.ipynb",
   "parameters": {},
   "start_time": "2025-01-29T04:10:38.414534",
   "version": "2.6.0"
  },
  "vscode": {
   "interpreter": {
    "hash": "aee8b7b246df8f9039afb4144a1f6fd8d2ca17a180786b69acc140d282b71a49"
   }
  },
  "widgets": {
   "application/vnd.jupyter.widget-state+json": {
    "state": {
     "104fab04a9674043a02ff310b7cdb2d7": {
      "model_module": "@jupyter-widgets/controls",
      "model_module_version": "2.0.0",
      "model_name": "HBoxModel",
      "state": {
       "_dom_classes": [],
       "_model_module": "@jupyter-widgets/controls",
       "_model_module_version": "2.0.0",
       "_model_name": "HBoxModel",
       "_view_count": null,
       "_view_module": "@jupyter-widgets/controls",
       "_view_module_version": "2.0.0",
       "_view_name": "HBoxView",
       "box_style": "",
       "children": [
        "IPY_MODEL_e0cd107371d849afb4507d7644c11347",
        "IPY_MODEL_17a4350ceb804f85b7e04284f039ea02",
        "IPY_MODEL_748f45a52d524006bbb8d67c6243e9dc"
       ],
       "layout": "IPY_MODEL_5a0f21b586cc4e5b82b95f75e53c6cfa",
       "tabbable": null,
       "tooltip": null
      }
     },
     "17a4350ceb804f85b7e04284f039ea02": {
      "model_module": "@jupyter-widgets/controls",
      "model_module_version": "2.0.0",
      "model_name": "FloatProgressModel",
      "state": {
       "_dom_classes": [],
       "_model_module": "@jupyter-widgets/controls",
       "_model_module_version": "2.0.0",
       "_model_name": "FloatProgressModel",
       "_view_count": null,
       "_view_module": "@jupyter-widgets/controls",
       "_view_module_version": "2.0.0",
       "_view_name": "ProgressView",
       "bar_style": "success",
       "description": "",
       "description_allow_html": false,
       "layout": "IPY_MODEL_945669a4302843099f74abfa3956b3ae",
       "max": 7.0,
       "min": 0.0,
       "orientation": "horizontal",
       "style": "IPY_MODEL_1e4b8bc754cc4ec1b623f16d25241acb",
       "tabbable": null,
       "tooltip": null,
       "value": 7.0
      }
     },
     "1e4b8bc754cc4ec1b623f16d25241acb": {
      "model_module": "@jupyter-widgets/controls",
      "model_module_version": "2.0.0",
      "model_name": "ProgressStyleModel",
      "state": {
       "_model_module": "@jupyter-widgets/controls",
       "_model_module_version": "2.0.0",
       "_model_name": "ProgressStyleModel",
       "_view_count": null,
       "_view_module": "@jupyter-widgets/base",
       "_view_module_version": "2.0.0",
       "_view_name": "StyleView",
       "bar_color": null,
       "description_width": ""
      }
     },
     "3b205ab6b6bc41c489495b8a9dbe9c9e": {
      "model_module": "@jupyter-widgets/controls",
      "model_module_version": "2.0.0",
      "model_name": "HTMLStyleModel",
      "state": {
       "_model_module": "@jupyter-widgets/controls",
       "_model_module_version": "2.0.0",
       "_model_name": "HTMLStyleModel",
       "_view_count": null,
       "_view_module": "@jupyter-widgets/base",
       "_view_module_version": "2.0.0",
       "_view_name": "StyleView",
       "background": null,
       "description_width": "",
       "font_size": null,
       "text_color": null
      }
     },
     "5a0f21b586cc4e5b82b95f75e53c6cfa": {
      "model_module": "@jupyter-widgets/base",
      "model_module_version": "2.0.0",
      "model_name": "LayoutModel",
      "state": {
       "_model_module": "@jupyter-widgets/base",
       "_model_module_version": "2.0.0",
       "_model_name": "LayoutModel",
       "_view_count": null,
       "_view_module": "@jupyter-widgets/base",
       "_view_module_version": "2.0.0",
       "_view_name": "LayoutView",
       "align_content": null,
       "align_items": null,
       "align_self": null,
       "border_bottom": null,
       "border_left": null,
       "border_right": null,
       "border_top": null,
       "bottom": null,
       "display": null,
       "flex": null,
       "flex_flow": null,
       "grid_area": null,
       "grid_auto_columns": null,
       "grid_auto_flow": null,
       "grid_auto_rows": null,
       "grid_column": null,
       "grid_gap": null,
       "grid_row": null,
       "grid_template_areas": null,
       "grid_template_columns": null,
       "grid_template_rows": null,
       "height": null,
       "justify_content": null,
       "justify_items": null,
       "left": null,
       "margin": null,
       "max_height": null,
       "max_width": null,
       "min_height": null,
       "min_width": null,
       "object_fit": null,
       "object_position": null,
       "order": null,
       "overflow": null,
       "padding": null,
       "right": null,
       "top": null,
       "visibility": null,
       "width": null
      }
     },
     "632b533554684b7e8466e4db4d223603": {
      "model_module": "@jupyter-widgets/base",
      "model_module_version": "2.0.0",
      "model_name": "LayoutModel",
      "state": {
       "_model_module": "@jupyter-widgets/base",
       "_model_module_version": "2.0.0",
       "_model_name": "LayoutModel",
       "_view_count": null,
       "_view_module": "@jupyter-widgets/base",
       "_view_module_version": "2.0.0",
       "_view_name": "LayoutView",
       "align_content": null,
       "align_items": null,
       "align_self": null,
       "border_bottom": null,
       "border_left": null,
       "border_right": null,
       "border_top": null,
       "bottom": null,
       "display": null,
       "flex": null,
       "flex_flow": null,
       "grid_area": null,
       "grid_auto_columns": null,
       "grid_auto_flow": null,
       "grid_auto_rows": null,
       "grid_column": null,
       "grid_gap": null,
       "grid_row": null,
       "grid_template_areas": null,
       "grid_template_columns": null,
       "grid_template_rows": null,
       "height": null,
       "justify_content": null,
       "justify_items": null,
       "left": null,
       "margin": null,
       "max_height": null,
       "max_width": null,
       "min_height": null,
       "min_width": null,
       "object_fit": null,
       "object_position": null,
       "order": null,
       "overflow": null,
       "padding": null,
       "right": null,
       "top": null,
       "visibility": null,
       "width": null
      }
     },
     "748f45a52d524006bbb8d67c6243e9dc": {
      "model_module": "@jupyter-widgets/controls",
      "model_module_version": "2.0.0",
      "model_name": "HTMLModel",
      "state": {
       "_dom_classes": [],
       "_model_module": "@jupyter-widgets/controls",
       "_model_module_version": "2.0.0",
       "_model_name": "HTMLModel",
       "_view_count": null,
       "_view_module": "@jupyter-widgets/controls",
       "_view_module_version": "2.0.0",
       "_view_name": "HTMLView",
       "description": "",
       "description_allow_html": false,
       "layout": "IPY_MODEL_632b533554684b7e8466e4db4d223603",
       "placeholder": "​",
       "style": "IPY_MODEL_3b205ab6b6bc41c489495b8a9dbe9c9e",
       "tabbable": null,
       "tooltip": null,
       "value": " 7/7 [00:22&lt;00:00,  4.07s/it]"
      }
     },
     "945669a4302843099f74abfa3956b3ae": {
      "model_module": "@jupyter-widgets/base",
      "model_module_version": "2.0.0",
      "model_name": "LayoutModel",
      "state": {
       "_model_module": "@jupyter-widgets/base",
       "_model_module_version": "2.0.0",
       "_model_name": "LayoutModel",
       "_view_count": null,
       "_view_module": "@jupyter-widgets/base",
       "_view_module_version": "2.0.0",
       "_view_name": "LayoutView",
       "align_content": null,
       "align_items": null,
       "align_self": null,
       "border_bottom": null,
       "border_left": null,
       "border_right": null,
       "border_top": null,
       "bottom": null,
       "display": null,
       "flex": null,
       "flex_flow": null,
       "grid_area": null,
       "grid_auto_columns": null,
       "grid_auto_flow": null,
       "grid_auto_rows": null,
       "grid_column": null,
       "grid_gap": null,
       "grid_row": null,
       "grid_template_areas": null,
       "grid_template_columns": null,
       "grid_template_rows": null,
       "height": null,
       "justify_content": null,
       "justify_items": null,
       "left": null,
       "margin": null,
       "max_height": null,
       "max_width": null,
       "min_height": null,
       "min_width": null,
       "object_fit": null,
       "object_position": null,
       "order": null,
       "overflow": null,
       "padding": null,
       "right": null,
       "top": null,
       "visibility": null,
       "width": null
      }
     },
     "b9f3bd5f690f464fba36899ae7870a42": {
      "model_module": "@jupyter-widgets/base",
      "model_module_version": "2.0.0",
      "model_name": "LayoutModel",
      "state": {
       "_model_module": "@jupyter-widgets/base",
       "_model_module_version": "2.0.0",
       "_model_name": "LayoutModel",
       "_view_count": null,
       "_view_module": "@jupyter-widgets/base",
       "_view_module_version": "2.0.0",
       "_view_name": "LayoutView",
       "align_content": null,
       "align_items": null,
       "align_self": null,
       "border_bottom": null,
       "border_left": null,
       "border_right": null,
       "border_top": null,
       "bottom": null,
       "display": null,
       "flex": null,
       "flex_flow": null,
       "grid_area": null,
       "grid_auto_columns": null,
       "grid_auto_flow": null,
       "grid_auto_rows": null,
       "grid_column": null,
       "grid_gap": null,
       "grid_row": null,
       "grid_template_areas": null,
       "grid_template_columns": null,
       "grid_template_rows": null,
       "height": null,
       "justify_content": null,
       "justify_items": null,
       "left": null,
       "margin": null,
       "max_height": null,
       "max_width": null,
       "min_height": null,
       "min_width": null,
       "object_fit": null,
       "object_position": null,
       "order": null,
       "overflow": null,
       "padding": null,
       "right": null,
       "top": null,
       "visibility": null,
       "width": null
      }
     },
     "e0cd107371d849afb4507d7644c11347": {
      "model_module": "@jupyter-widgets/controls",
      "model_module_version": "2.0.0",
      "model_name": "HTMLModel",
      "state": {
       "_dom_classes": [],
       "_model_module": "@jupyter-widgets/controls",
       "_model_module_version": "2.0.0",
       "_model_name": "HTMLModel",
       "_view_count": null,
       "_view_module": "@jupyter-widgets/controls",
       "_view_module_version": "2.0.0",
       "_view_name": "HTMLView",
       "description": "",
       "description_allow_html": false,
       "layout": "IPY_MODEL_b9f3bd5f690f464fba36899ae7870a42",
       "placeholder": "​",
       "style": "IPY_MODEL_e9f83fb7c3d1404baa211fa40382c3fc",
       "tabbable": null,
       "tooltip": null,
       "value": "100%"
      }
     },
     "e9f83fb7c3d1404baa211fa40382c3fc": {
      "model_module": "@jupyter-widgets/controls",
      "model_module_version": "2.0.0",
      "model_name": "HTMLStyleModel",
      "state": {
       "_model_module": "@jupyter-widgets/controls",
       "_model_module_version": "2.0.0",
       "_model_name": "HTMLStyleModel",
       "_view_count": null,
       "_view_module": "@jupyter-widgets/base",
       "_view_module_version": "2.0.0",
       "_view_name": "StyleView",
       "background": null,
       "description_width": "",
       "font_size": null,
       "text_color": null
      }
     }
    },
    "version_major": 2,
    "version_minor": 0
   }
  }
 },
 "nbformat": 4,
 "nbformat_minor": 5
}