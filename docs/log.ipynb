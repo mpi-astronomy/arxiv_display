{
 "cells": [
  {
   "cell_type": "markdown",
   "id": "92bcb855",
   "metadata": {
    "papermill": {
     "duration": 0.005602,
     "end_time": "2023-09-27T04:04:20.120936",
     "exception": false,
     "start_time": "2023-09-27T04:04:20.115334",
     "status": "completed"
    },
    "tags": []
   },
   "source": [
    "# MPIA Arxiv on Deck 2\n",
    "\n",
    "Contains the steps to produce the paper extractions."
   ]
  },
  {
   "cell_type": "code",
   "execution_count": 1,
   "id": "3a0d6e11",
   "metadata": {
    "execution": {
     "iopub.execute_input": "2023-09-27T04:04:20.134267Z",
     "iopub.status.busy": "2023-09-27T04:04:20.133546Z",
     "iopub.status.idle": "2023-09-27T04:04:20.625939Z",
     "shell.execute_reply": "2023-09-27T04:04:20.625062Z"
    },
    "papermill": {
     "duration": 0.5011,
     "end_time": "2023-09-27T04:04:20.628616",
     "exception": false,
     "start_time": "2023-09-27T04:04:20.127516",
     "status": "completed"
    },
    "tags": []
   },
   "outputs": [],
   "source": [
    "# Imports\n",
    "import os\n",
    "from IPython.display import Markdown, display\n",
    "from tqdm.notebook import tqdm\n",
    "import warnings\n",
    "from PIL import Image \n",
    "\n",
    "# requires arxiv_on_deck_2\n",
    "\n",
    "from arxiv_on_deck_2.arxiv2 import (get_new_papers, \n",
    "                                    get_paper_from_identifier,\n",
    "                                    retrieve_document_source, \n",
    "                                    get_markdown_badge)\n",
    "from arxiv_on_deck_2 import (latex,\n",
    "                             latex_bib,\n",
    "                             mpia,\n",
    "                             highlight_authors_in_list)\n",
    "\n",
    "# Sometimes images are really big\n",
    "Image.MAX_IMAGE_PIXELS = 1000000000 "
   ]
  },
  {
   "cell_type": "code",
   "execution_count": 2,
   "id": "22aa9d44",
   "metadata": {
    "execution": {
     "iopub.execute_input": "2023-09-27T04:04:20.640493Z",
     "iopub.status.busy": "2023-09-27T04:04:20.639549Z",
     "iopub.status.idle": "2023-09-27T04:04:20.648465Z",
     "shell.execute_reply": "2023-09-27T04:04:20.647334Z"
    },
    "papermill": {
     "duration": 0.017166,
     "end_time": "2023-09-27T04:04:20.650638",
     "exception": false,
     "start_time": "2023-09-27T04:04:20.633472",
     "status": "completed"
    },
    "tags": []
   },
   "outputs": [],
   "source": [
    "# Some useful definitions.\n",
    "\n",
    "class AffiliationWarning(UserWarning):\n",
    "    pass\n",
    "\n",
    "class AffiliationError(RuntimeError):\n",
    "    pass\n",
    "\n",
    "def validation(source: str):\n",
    "    \"\"\"Raises error paper during parsing of source file\n",
    "    \n",
    "    Allows checks before parsing TeX code.\n",
    "    \n",
    "    Raises AffiliationWarning\n",
    "    \"\"\"\n",
    "    check = mpia.affiliation_verifications(source, verbose=True)\n",
    "    if check is not True:\n",
    "        raise AffiliationError(\"mpia.affiliation_verifications: \" + check)\n",
    "\n",
    "        \n",
    "warnings.simplefilter('always', AffiliationWarning)\n",
    "\n",
    "\n",
    "def get_markdown_qrcode(paper_id: str):\n",
    "    \"\"\" Generate a qrcode to the arxiv page using qrserver.com\n",
    "    \n",
    "    :param paper: Arxiv paper\n",
    "    :returns: markdown text\n",
    "    \"\"\"\n",
    "    url = r\"https://api.qrserver.com/v1/create-qr-code/?size=100x100&data=\"\n",
    "    txt = f\"\"\"<img src={url}\"https://arxiv.org/abs/{paper_id}\">\"\"\"\n",
    "    txt = '<div id=\"qrcode\">' + txt + '</div>'\n",
    "    return txt"
   ]
  },
  {
   "cell_type": "markdown",
   "id": "14bd6310",
   "metadata": {
    "papermill": {
     "duration": 0.004151,
     "end_time": "2023-09-27T04:04:20.659404",
     "exception": false,
     "start_time": "2023-09-27T04:04:20.655253",
     "status": "completed"
    },
    "tags": []
   },
   "source": [
    "## get list of arxiv paper candidates\n",
    "\n",
    "We use the MPIA mitarbeiter list webpage from mpia.de to get author names\n",
    "We then get all new papers from Arxiv and match authors"
   ]
  },
  {
   "cell_type": "code",
   "execution_count": 3,
   "id": "2645e73a",
   "metadata": {
    "execution": {
     "iopub.execute_input": "2023-09-27T04:04:20.669793Z",
     "iopub.status.busy": "2023-09-27T04:04:20.669482Z",
     "iopub.status.idle": "2023-09-27T04:05:19.844026Z",
     "shell.execute_reply": "2023-09-27T04:05:19.840464Z"
    },
    "papermill": {
     "duration": 59.182528,
     "end_time": "2023-09-27T04:05:19.846499",
     "exception": false,
     "start_time": "2023-09-27T04:04:20.663971",
     "status": "completed"
    },
    "tags": []
   },
   "outputs": [
    {
     "name": "stdout",
     "output_type": "stream",
     "text": [
      "J. He  ->  J. He  |  ['J. He']\n",
      "S. Li  ->  S. Li  |  ['S. Li']\n",
      "T. Trifonov  ->  T. Trifonov  |  ['T. Trifonov']\n",
      "J. Eberhardt  ->  J. Eberhardt  |  ['J. Eberhardt']\n",
      "X. Zhang  ->  X. Zhang  |  ['X. Zhang']\n"
     ]
    },
    {
     "name": "stdout",
     "output_type": "stream",
     "text": [
      "Arxiv has 65 new papers today\n",
      "          3 with possible author matches\n"
     ]
    }
   ],
   "source": [
    "# get list from MPIA website\n",
    "# it automatically filters identified non-scientists :func:`mpia.filter_non_scientists`\n",
    "mpia_authors = mpia.get_mpia_mitarbeiter_list()\n",
    "normed_mpia_authors = [k[1] for k in mpia_authors]   # initials + fullname\n",
    "new_papers = get_new_papers()\n",
    "# add manual references\n",
    "add_paper_refs = []\n",
    "new_papers.extend([get_paper_from_identifier(k) for k in add_paper_refs])\n",
    "\n",
    "candidates = []\n",
    "for paperk in new_papers:\n",
    "    # Check author list with their initials\n",
    "    normed_author_list = [mpia.get_initials(k) for k in paperk['authors']]\n",
    "    hl_authors = highlight_authors_in_list(normed_author_list, normed_mpia_authors, verbose=True)\n",
    "    matches = [(hl, orig) for hl, orig in zip(hl_authors, paperk['authors']) if 'mark' in hl]\n",
    "    paperk['authors'] = hl_authors\n",
    "    if matches:\n",
    "        # only select paper if an author matched our list\n",
    "        candidates.append(paperk)\n",
    "print(\"\"\"Arxiv has {0:,d} new papers today\"\"\".format(len(new_papers)))        \n",
    "print(\"\"\"          {0:,d} with possible author matches\"\"\".format(len(candidates)))"
   ]
  },
  {
   "cell_type": "markdown",
   "id": "3543b34a",
   "metadata": {
    "papermill": {
     "duration": 0.005137,
     "end_time": "2023-09-27T04:05:19.855984",
     "exception": false,
     "start_time": "2023-09-27T04:05:19.850847",
     "status": "completed"
    },
    "tags": []
   },
   "source": [
    "# Parse sources and generate relevant outputs\n",
    "\n",
    "From the candidates, we do the following steps:\n",
    "* get their tarball from ArXiv (and extract data)\n",
    "* find the main .tex file: find one with \\documentclass{...} (sometimes it's non trivial)\n",
    "* Check affiliations with :func:`validation`, which uses :func:`mpia.affiliation_verifications`\n",
    "* If passing the affiliations: we parse the .tex source\n",
    "   * inject sub-documents into the main (flatten the main document)\n",
    "   * parse structure, extract information (title, abstract, authors, figures...)\n",
    "   * handles `\\graphicspath` if provided\n",
    "* Generate the .md document."
   ]
  },
  {
   "cell_type": "code",
   "execution_count": 4,
   "id": "9576b79e",
   "metadata": {
    "execution": {
     "iopub.execute_input": "2023-09-27T04:05:19.867112Z",
     "iopub.status.busy": "2023-09-27T04:05:19.866527Z",
     "iopub.status.idle": "2023-09-27T04:09:22.035818Z",
     "shell.execute_reply": "2023-09-27T04:09:22.034883Z"
    },
    "papermill": {
     "duration": 242.178397,
     "end_time": "2023-09-27T04:09:22.038966",
     "exception": false,
     "start_time": "2023-09-27T04:05:19.860569",
     "status": "completed"
    },
    "scrolled": false,
    "tags": []
   },
   "outputs": [
    {
     "data": {
      "application/vnd.jupyter.widget-view+json": {
       "model_id": "4b75707f78664144b8fc58d2163d5c5a",
       "version_major": 2,
       "version_minor": 0
      },
      "text/plain": [
       "  0%|          | 0/3 [00:00<?, ?it/s]"
      ]
     },
     "metadata": {},
     "output_type": "display_data"
    },
    {
     "name": "stdout",
     "output_type": "stream",
     "text": [
      "Retrieving document from  https://arxiv.org/e-print/2309.14684\n"
     ]
    },
    {
     "name": "stdout",
     "output_type": "stream",
     "text": [
      "extracting tarball to tmp_2309.14684..."
     ]
    },
    {
     "name": "stdout",
     "output_type": "stream",
     "text": [
      " done.\n"
     ]
    },
    {
     "name": "stdout",
     "output_type": "stream",
     "text": [
      "J. He  ->  J. He  |  ['J. He']\n",
      "S. Li  ->  S. Li  |  ['S. Li']\n"
     ]
    },
    {
     "name": "stdout",
     "output_type": "stream",
     "text": [
      "Found 163 bibliographic references in tmp_2309.14684/assemble.bbl.\n",
      "Retrieving document from  https://arxiv.org/e-print/2309.14915\n"
     ]
    },
    {
     "name": "stdout",
     "output_type": "stream",
     "text": [
      "extracting tarball to tmp_2309.14915..."
     ]
    },
    {
     "name": "stdout",
     "output_type": "stream",
     "text": [
      " done.\n"
     ]
    },
    {
     "name": "stderr",
     "output_type": "stream",
     "text": [
      "/opt/hostedtoolcache/Python/3.9.18/x64/lib/python3.9/site-packages/IPython/core/interactiveshell.py:3526: LatexWarning: Multiple tex files.\n",
      "\n",
      "  exec(code_obj, self.user_global_ns, self.user_ns)\n",
      "/opt/hostedtoolcache/Python/3.9.18/x64/lib/python3.9/site-packages/IPython/core/interactiveshell.py:3526: LatexWarning: Found documentclass in tmp_2309.14915/sample63.tex\n",
      "\n",
      "  exec(code_obj, self.user_global_ns, self.user_ns)\n",
      "/opt/hostedtoolcache/Python/3.9.18/x64/lib/python3.9/site-packages/arxiv_on_deck_2/latex.py:399: LatexWarning: Latex injecting: 'juliet_fit_defs.tex' from 'tmp_2309.14915/juliet_fit_defs.tex'\n",
      "  warnings.warn(LatexWarning(f\"Latex injecting: '{ext}' from '{subsource}'\"))\n",
      "/opt/hostedtoolcache/Python/3.9.18/x64/lib/python3.9/site-packages/arxiv_on_deck_2/latex.py:399: LatexWarning: Latex injecting: 'TOI199_param_fit10_commands' from 'tmp_2309.14915/TOI199_param_fit10_commands.tex'\n",
      "  warnings.warn(LatexWarning(f\"Latex injecting: '{ext}' from '{subsource}'\"))\n"
     ]
    },
    {
     "name": "stdout",
     "output_type": "stream",
     "text": [
      "Found 97 bibliographic references in tmp_2309.14915/sample63.bbl.\n",
      "Retrieving document from  https://arxiv.org/e-print/2309.14965\n"
     ]
    },
    {
     "name": "stdout",
     "output_type": "stream",
     "text": [
      "extracting tarball to tmp_2309.14965..."
     ]
    },
    {
     "name": "stdout",
     "output_type": "stream",
     "text": [
      " done.\n"
     ]
    }
   ],
   "source": [
    "documents = []\n",
    "failed = []\n",
    "for paper in tqdm(candidates):\n",
    "    paper_id = paper['identifier'].lower().replace('arxiv:', '')\n",
    "    \n",
    "    folder = f'tmp_{paper_id}'\n",
    "\n",
    "    try:\n",
    "        if not os.path.isdir(folder):\n",
    "            folder = retrieve_document_source(f\"{paper_id}\", f'tmp_{paper_id}')\n",
    "        \n",
    "        try:\n",
    "            doc = latex.LatexDocument(folder, validation=validation)    \n",
    "        except AffiliationError as affilerror:\n",
    "            msg = f\"ArXiv:{paper_id:s} is not an MPIA paper... \" + str(affilerror)\n",
    "            failed.append((paper, \"affiliation error: \" + str(affilerror) ))\n",
    "            continue\n",
    "        \n",
    "        # Hack because sometimes author parsing does not work well\n",
    "        if (len(doc.authors) != len(paper['authors'])):\n",
    "            doc._authors = paper['authors']\n",
    "        else:\n",
    "            # highlight authors (FIXME: doc.highlight_authors)\n",
    "            # done on arxiv paper already\n",
    "            doc._authors = highlight_authors_in_list(\n",
    "                [mpia.get_initials(k) for k in doc.authors], \n",
    "                normed_mpia_authors, verbose=True)\n",
    "        if (doc.abstract) in (None, ''):\n",
    "            doc._abstract = paper['abstract']\n",
    "            \n",
    "        doc.comment = (get_markdown_badge(paper_id) + \n",
    "                       \"<mark>Appeared on: \" + paper['date'] + \"</mark> - \")\n",
    "        if paper['comments']:\n",
    "            doc.comment += \" _\" + paper['comments'] + \"_\"\n",
    "        \n",
    "        full_md = doc.generate_markdown_text()\n",
    "        \n",
    "        full_md += get_markdown_qrcode(paper_id)\n",
    "        \n",
    "        # replace citations\n",
    "        try:\n",
    "            bibdata = latex_bib.LatexBib.from_doc(doc)\n",
    "            full_md = latex_bib.replace_citations(full_md, bibdata)\n",
    "        except Exception as e:\n",
    "            print(e)\n",
    "        \n",
    "        documents.append((paper_id, full_md))\n",
    "    except Exception as e:\n",
    "        warnings.warn(latex.LatexWarning(f\"{paper_id:s} did not run properly\\n\" +\n",
    "                                         str(e)\n",
    "                                        ))\n",
    "        failed.append((paper, \"latex error \" + str(e)))"
   ]
  },
  {
   "cell_type": "markdown",
   "id": "2505a25c",
   "metadata": {
    "papermill": {
     "duration": 0.00556,
     "end_time": "2023-09-27T04:09:22.050513",
     "exception": false,
     "start_time": "2023-09-27T04:09:22.044953",
     "status": "completed"
    },
    "tags": []
   },
   "source": [
    "### Export the logs\n",
    "\n",
    "Throughout, we also keep track of the logs per paper. see `logs-{today date}.md` "
   ]
  },
  {
   "cell_type": "code",
   "execution_count": 5,
   "id": "d733828a",
   "metadata": {
    "execution": {
     "iopub.execute_input": "2023-09-27T04:09:22.063884Z",
     "iopub.status.busy": "2023-09-27T04:09:22.062817Z",
     "iopub.status.idle": "2023-09-27T04:09:22.093339Z",
     "shell.execute_reply": "2023-09-27T04:09:22.092444Z"
    },
    "papermill": {
     "duration": 0.040305,
     "end_time": "2023-09-27T04:09:22.095976",
     "exception": false,
     "start_time": "2023-09-27T04:09:22.055671",
     "status": "completed"
    },
    "scrolled": false,
    "tags": []
   },
   "outputs": [
    {
     "data": {
      "text/markdown": [
       "## Successful papers"
      ],
      "text/plain": [
       "<IPython.core.display.Markdown object>"
      ]
     },
     "metadata": {},
     "output_type": "display_data"
    },
    {
     "data": {
      "text/markdown": [
       "\n",
       "|||\n",
       "|---:|:---|\n",
       "| [![arXiv](https://img.shields.io/badge/arXiv-arXiv:2309.14684-b31b1b.svg)](https://arxiv.org/abs/arXiv:2309.14684) | **The ALMA Survey of Star Formation and Evolution in Massive Protoclusters  with Blue Profiles (ASSEMBLE): Core Growth, Cluster Contraction, and  Primordial Mass Segregation**  |\n",
       "|| F. Xu, et al. -- incl., <mark>J. He</mark>, <mark>S. Li</mark> |\n",
       "|*Appeared on*| *2023-09-27*|\n",
       "|*Comments*| *37 pages, 13 figures, 5 tables; accepted for publication in ApJS*|\n",
       "|**Abstract**| The ALMA Survey of Star Formation and Evolution in Massive Protoclusters with Blue Profiles (ASSEMBLE) aims to investigate the process of mass assembly and its connection to high-mass star formation theories in protoclusters in a dynamic view. We observed 11 massive (Mclump>1000 Msun), luminous (Lbol>10,000 Lsun), and blue-profile (infall signature) clumps by ALMA with resolution of 2200-5500 au at 350 GHz (870 um) in continuum and line emission. 248 dense cores were identified, including 106 cores showing protostellar signatures and 142 prestellar core candidates. Compared to early-stage infrared dark clouds (IRDCs) by ASHES, the core mass and surface density within the ASSEMBLE clumps exhibited significant increment, suggesting concurrent core accretion during the evolution of the clumps. The maximum mass of prestellar cores was found to be 2 times larger than that in IRDCs, indicating evolved protoclusters have the potential to harbor massive prestellar cores. The mass relation between clumps and their most massive core (MMCs) is observed in ASSEMBLE but not in IRDCs, which is suggested to be regulated by multiscale mass accretion. The mass correlation between the core clusters and their MMCs has a steeper slope compared to that observed in stellar clusters, which can be due to fragmentation of the MMC and stellar multiplicity. We observe a decrease in core separation and an increase in central concentration as protoclusters evolve. We confirm primordial mass segregation in the ASSEMBLE protoclusters, possibly resulting from gravitational concentration and/or gas accretion. |"
      ],
      "text/plain": [
       "[arXiv:2309.14684] The ALMA Survey of Star Formation and Evolution in Massive Protoclusters  with Blue Profiles (ASSEMBLE): Core Growth, Cluster Contraction, and  Primordial Mass Segregation\n",
       "\tF. Xu, et al. -- incl., <mark>J. He</mark>, <mark>S. Li</mark>"
      ]
     },
     "metadata": {},
     "output_type": "display_data"
    },
    {
     "data": {
      "text/markdown": [
       "\n",
       "|||\n",
       "|---:|:---|\n",
       "| [![arXiv](https://img.shields.io/badge/arXiv-arXiv:2309.14915-b31b1b.svg)](https://arxiv.org/abs/arXiv:2309.14915) | **TOI-199 b: A well-characterized 100-day transiting warm giant planet  with TTVs seen from Antarctica**  |\n",
       "|| M. J. Hobson, et al. -- incl., <mark>T. Trifonov</mark>, <mark>J. Eberhardt</mark> |\n",
       "|*Appeared on*| *2023-09-27*|\n",
       "|*Comments*| *33 pages, 23 figures. Accepted for publication in AJ*|\n",
       "|**Abstract**| We present the spectroscopic confirmation and precise mass measurement of the warm giant planet TOI-199 b. This planet was first identified in TESS photometry and confirmed using ground-based photometry from ASTEP in Antarctica including a full 6.5$\\,$h long transit, PEST, Hazelwood, and LCO; space photometry from NEOSSat; and radial velocities (RVs) from FEROS, HARPS, CORALIE, and CHIRON. Orbiting a late G-type star, TOI-199\\,b has a $\\mathrm{104.854_{-0.002}^{+0.001} \\, d}$ period, a mass of $\\mathrm{0.17\\pm0.02 \\, M_J}$, and a radius of $\\mathrm{0.810\\pm0.005 \\, R_J}$. It is the first warm exo-Saturn with a precisely determined mass and radius. The TESS and ASTEP transits show strong transit timing variations, pointing to the existence of a second planet in the system. The joint analysis of the RVs and TTVs provides a unique solution for the non-transiting companion TOI-199 c, which has a period of $\\mathrm{273.69_{-0.22}^{+0.26} \\, d}$ and an estimated mass of $\\mathrm{0.28_{-0.01}^{+0.02} \\, M_J}$. This period places it within the conservative Habitable Zone. |"
      ],
      "text/plain": [
       "[arXiv:2309.14915] TOI-199 b: A well-characterized 100-day transiting warm giant planet  with TTVs seen from Antarctica\n",
       "\tM. J. Hobson, et al. -- incl., <mark>T. Trifonov</mark>, <mark>J. Eberhardt</mark>"
      ]
     },
     "metadata": {},
     "output_type": "display_data"
    },
    {
     "data": {
      "text/markdown": [
       "## Failed papers"
      ],
      "text/plain": [
       "<IPython.core.display.Markdown object>"
      ]
     },
     "metadata": {},
     "output_type": "display_data"
    },
    {
     "data": {
      "text/markdown": [
       "\n",
       "|||\n",
       "|---:|:---|\n",
       "| [![arXiv](https://img.shields.io/badge/arXiv-arXiv:2309.14965-b31b1b.svg)](https://arxiv.org/abs/arXiv:2309.14965) | **A comprehensive forecast for cosmological parameter estimation using  joint observations of gravitational-wave standard sirens and short  $γ$-ray bursts**  |\n",
       "|| T. Han, S.-J. Jin, J.-F. Zhang, <mark>X. Zhang</mark> |\n",
       "|*Appeared on*| *2023-09-27*|\n",
       "|*Comments*| *16 pages, 11 figures*|\n",
       "|**Abstract**| In the third-generation (3G) gravitational-wave (GW) detector era, the multi-messenger GW observation for binary neutron star (BNS) merger events can exert great impacts on exploring the cosmic expansion history. In this work, we comprehensively explore the potential of 3G GW standard siren observations in cosmological parameter estimations by considering the 3G GW detectors and the future short $\\gamma$-ray burst (GRB) detector THESEUS-like telescope joint observations. Based on the 10-year observation of different detection strategies, we predict that the numbers of detectable GW-GRB events are 277-685 with the redshifts $z<4$ and the inclination angles $\\iota<17^{\\circ}$. For the cosmological analysis, we consider five typical dark energy models, i.e., the $\\Lambda$CDM, $w$CDM, $w_0w_a$CDM models, and interacting dark energy (IDE) models (I$\\Lambda$CDM and I$w$CDM). We find that GW can tightly constrain the Hubble constant with precisions of $0.09\\%$-$0.37\\%$, but perform not well in constraining other cosmological parameters. Fortunately, GW could effectively break the cosmological parameter degeneracies generated by the mainstream EM observations, CMB+BAO+SN (CBS). When combining the mock GW data with the CBS data, CBS+GW can tightly constrain the equation of state parameter of dark energy $w$ with a precision of $1.36\\%$, close to the standard of precision cosmology. Meanwhile, the addition of GW to CBS could improve constraints on cosmological parameters by $35.3\\%$-$92.0\\%$. In conclusion, GW standard siren observations from 3G GW detectors could play a crucial role in helping solve the Hubble tension and probe the fundamental nature of dark energy. |\n",
       "|<p style=\"color:green\"> **ERROR** </p>| <p style=\"color:green\">affiliation error: mpia.affiliation_verifications: 'Heidelberg' keyword not found.</p> |"
      ],
      "text/plain": [
       "<IPython.core.display.Markdown object>"
      ]
     },
     "metadata": {},
     "output_type": "display_data"
    }
   ],
   "source": [
    "import datetime\n",
    "today = str(datetime.date.today())\n",
    "logfile = f\"_build/html/logs/log-{today}.md\"\n",
    "\n",
    "\n",
    "with open(logfile, 'w') as logs:\n",
    "    # Success\n",
    "    logs.write(f'# Arxiv on Deck 2: Logs - {today}\\n\\n')\n",
    "    logs.write(\"\"\"* Arxiv had {0:,d} new papers\\n\"\"\".format(len(new_papers)))\n",
    "    logs.write(\"\"\"    * {0:,d} with possible author matches\\n\\n\"\"\".format(len(candidates)))\n",
    "    logs.write(\"## Sucessful papers\\n\\n\")\n",
    "    display(Markdown(\"## Successful papers\"))\n",
    "    success = [k[0] for k in documents]\n",
    "    for candid in candidates:\n",
    "        if candid['identifier'].split(':')[-1] in success:\n",
    "            display(candid)\n",
    "            logs.write(candid.generate_markdown_text() + '\\n\\n')\n",
    "\n",
    "    ## failed\n",
    "    logs.write(\"## Failed papers\\n\\n\")\n",
    "    display(Markdown(\"## Failed papers\"))\n",
    "    failed = sorted(failed, key=lambda x: x[1])\n",
    "    current_reason = \"\"\n",
    "    for paper, reason in failed:\n",
    "        if 'affiliation' in reason:\n",
    "            color = 'green'\n",
    "        else:\n",
    "            color = 'red'\n",
    "        data = Markdown(\n",
    "                paper.generate_markdown_text() + \n",
    "                f'\\n|<p style=\"color:{color:s}\"> **ERROR** </p>| <p style=\"color:{color:s}\">{reason:s}</p> |'\n",
    "               )\n",
    "        if reason != current_reason:\n",
    "            logs.write(f'### {reason:s} \\n\\n')\n",
    "            current_reason = reason\n",
    "        logs.write(data.data + '\\n\\n')\n",
    "        \n",
    "        # only display here the important errors (all in logs)\n",
    "        # if color in ('red',):\n",
    "        display(data)"
   ]
  },
  {
   "cell_type": "markdown",
   "id": "472d20ee",
   "metadata": {
    "papermill": {
     "duration": 0.006454,
     "end_time": "2023-09-27T04:09:22.109874",
     "exception": false,
     "start_time": "2023-09-27T04:09:22.103420",
     "status": "completed"
    },
    "tags": []
   },
   "source": [
    "## Export documents\n",
    "\n",
    "We now write the .md files and export relevant images"
   ]
  },
  {
   "cell_type": "code",
   "execution_count": 6,
   "id": "d426aed9",
   "metadata": {
    "execution": {
     "iopub.execute_input": "2023-09-27T04:09:22.124625Z",
     "iopub.status.busy": "2023-09-27T04:09:22.124012Z",
     "iopub.status.idle": "2023-09-27T04:09:22.133968Z",
     "shell.execute_reply": "2023-09-27T04:09:22.132983Z"
    },
    "papermill": {
     "duration": 0.019759,
     "end_time": "2023-09-27T04:09:22.135985",
     "exception": false,
     "start_time": "2023-09-27T04:09:22.116226",
     "status": "completed"
    },
    "tags": []
   },
   "outputs": [],
   "source": [
    "def export_markdown_summary(md: str, md_fname:str, directory: str):\n",
    "    \"\"\"Export MD document and associated relevant images\"\"\"\n",
    "    import os\n",
    "    import shutil\n",
    "    import re\n",
    "\n",
    "    if (os.path.exists(directory) and not os.path.isdir(directory)):\n",
    "        raise RuntimeError(f\"a non-directory file exists with name {directory:s}\")\n",
    "\n",
    "    if (not os.path.exists(directory)):\n",
    "        print(f\"creating directory {directory:s}\")\n",
    "        os.mkdir(directory)\n",
    "\n",
    "    fig_fnames = (re.compile(r'\\[Fig.*\\]\\((.*)\\)').findall(md) + \n",
    "                  re.compile(r'\\<img src=\"([^>\\s]*)\"[^>]*/>').findall(md))\n",
    "    for fname in fig_fnames:\n",
    "        if 'http' in fname:\n",
    "            # No need to copy online figures\n",
    "            continue\n",
    "        destdir = os.path.join(directory, os.path.dirname(fname))\n",
    "        destfname = os.path.join(destdir, os.path.basename(fname))\n",
    "        try:\n",
    "            os.makedirs(destdir)\n",
    "        except FileExistsError:\n",
    "            pass\n",
    "        shutil.copy(fname, destfname)\n",
    "    with open(os.path.join(directory, md_fname), 'w') as fout:\n",
    "        fout.write(md)\n",
    "    print(\"exported in \", os.path.join(directory, md_fname))\n",
    "    [print(\"    + \" + os.path.join(directory,fk)) for fk in fig_fnames]"
   ]
  },
  {
   "cell_type": "code",
   "execution_count": 7,
   "id": "014d04a4",
   "metadata": {
    "execution": {
     "iopub.execute_input": "2023-09-27T04:09:22.152144Z",
     "iopub.status.busy": "2023-09-27T04:09:22.150438Z",
     "iopub.status.idle": "2023-09-27T04:09:22.164308Z",
     "shell.execute_reply": "2023-09-27T04:09:22.163385Z"
    },
    "papermill": {
     "duration": 0.024037,
     "end_time": "2023-09-27T04:09:22.166563",
     "exception": false,
     "start_time": "2023-09-27T04:09:22.142526",
     "status": "completed"
    },
    "tags": []
   },
   "outputs": [
    {
     "name": "stdout",
     "output_type": "stream",
     "text": [
      "exported in  _build/html/2309.14684.md\n",
      "    + _build/html/tmp_2309.14684/./I14382_contdata.png\n",
      "    + _build/html/tmp_2309.14684/./I14382_extsources.png\n",
      "    + _build/html/tmp_2309.14684/./I14498_contdata.png\n",
      "    + _build/html/tmp_2309.14684/./I14498_extsources.png\n",
      "exported in  _build/html/2309.14915.md\n",
      "    + _build/html/tmp_2309.14915/./ground_based_photometry_times.png\n",
      "    + _build/html/tmp_2309.14915/./TOI-199_rvs_all_fit10.png\n",
      "    + _build/html/tmp_2309.14915/./TOI-199_ttvs.png\n",
      "    + _build/html/tmp_2309.14915/./TOI-199_phasefold_1_fit10_bin2.png\n",
      "    + _build/html/tmp_2309.14915/./TOI-199_phasefold_2_fit10_bin2.png\n",
      "    + _build/html/tmp_2309.14915/./comparison_lightcurves_zoom_4.png\n"
     ]
    }
   ],
   "source": [
    "for paper_id, md in documents:\n",
    "    export_markdown_summary(md, f\"{paper_id:s}.md\", '_build/html/')"
   ]
  },
  {
   "cell_type": "markdown",
   "id": "f087a0a7",
   "metadata": {
    "papermill": {
     "duration": 0.006785,
     "end_time": "2023-09-27T04:09:22.180139",
     "exception": false,
     "start_time": "2023-09-27T04:09:22.173354",
     "status": "completed"
    },
    "tags": []
   },
   "source": [
    "## Display the papers\n",
    "\n",
    "Not necessary but allows for a quick check."
   ]
  },
  {
   "cell_type": "code",
   "execution_count": 8,
   "id": "fd25f625",
   "metadata": {
    "execution": {
     "iopub.execute_input": "2023-09-27T04:09:22.196372Z",
     "iopub.status.busy": "2023-09-27T04:09:22.195519Z",
     "iopub.status.idle": "2023-09-27T04:09:22.204319Z",
     "shell.execute_reply": "2023-09-27T04:09:22.203380Z"
    },
    "papermill": {
     "duration": 0.020006,
     "end_time": "2023-09-27T04:09:22.206360",
     "exception": false,
     "start_time": "2023-09-27T04:09:22.186354",
     "status": "completed"
    },
    "scrolled": false,
    "tags": []
   },
   "outputs": [
    {
     "data": {
      "text/markdown": [
       ", and the ASHES Pilot  ([Sanhueza, Contreras and Wu 2019]())  samples are presented in blue, green, and gray colors, respectively. The mean spatial resolution of both the ASSEMBLE and the ASHES surveys are $\\sim0.02$ pc, shown with orange shadow. Lower: the 1000 Monte Carlo runs of the probability density distribution of core separation for the ASSEMBLE (blue lines) and the ASHES (gray lines), respectively, considering the Gaussian-like uncertainty of clump distance. The Mann-Whitney U test is performed on each of the sets of core separation distributions, and the distribution of the p-value is shown in the top right. The p-values are much lower than 0.01, showing that two samples share a significantly different distribution of core separation.  (*fig:separation*)\n",
       "\n",
       "</div>\n",
       "<div id=\"div_fig3\">\n",
       "\n",
       "<img src=\"tmp_2309.14684/./I14382_contdata.png\" alt=\"Fig7.1\" width=\"25%\"/><img src=\"tmp_2309.14684/./I14382_extsources.png\" alt=\"Fig7.2\" width=\"25%\"/><img src=\"tmp_2309.14684/./I14498_contdata.png\" alt=\"Fig7.3\" width=\"25%\"/><img src=\"tmp_2309.14684/./I14498_extsources.png\" alt=\"Fig7.4\" width=\"25%\"/>\n",
       "\n",
       "**Figure 7. -** The ALMA 870 $\\mu$m dust continuum emission without primary beam correction as well as extracted cores for two ASSEMBLE clumps (I14382-6017 and I14498-5856). The ALMA mosaicked primary beam responses of 0.5 and 0.2 are outlined by yellow solid and dashed lines respectively. Only the primary beam response of 0.2 is shown on the right panel. The beam size of each continuum image is shown in the bottom left corner. _Left_: the background color map shows the ALMA 870 $\\mu$m emission with two colorbars, the first one (grayscale) showing -9 to +9 times the rms noise on a linear scale, then a second one (color-scheme) showing the range +9 times the rms noise to the peak value of the image in an arcsinh stretch. The rms noise and peak intensity are given on the top right. The black contours are from the ATLASGAL 870 $\\mu$m continuum emission, with power-law levels that start at $5\\sigma$ and end at $I_\\mathrm{peak}$, increasing in steps following the power law $f(n)=3\\times n^p + 2$ where $n=1,2,3,...N$ and $p$ is determined from $D=3\\times N^p+2$($D=I_\\mathrm{peak}/\\sigma$: the dynamic range; $N=8$: the number of contour levels). The values of each contour level are labeled with a unit of $\\jybeam$. _Right_: the background gray-scale map shows the arcsinh-stretch part in the left panel, outlined by the $5\\sigma$ contour. The ALMA continuum emission map is smoothed to a circular beam with a size equal to the major axis of the original beam. The cores extracted by $\\getsf$ algorithm are presented by red / blue ellipses, as well as black IDs, with numbers in order from North to South. The red and blue ones represent protostellar and prestellar cores defined in Section \\ref{result:coreclass}.  (*fig:continuum*)\n",
       "\n",
       "</div><div id=\"qrcode\"><img src=https://api.qrserver.com/v1/create-qr-code/?size=100x100&data=\"https://arxiv.org/abs/2309.14684\"></div>"
      ],
      "text/plain": [
       "<IPython.core.display.Markdown object>"
      ]
     },
     "metadata": {},
     "output_type": "display_data"
    },
    {
     "data": {
      "text/markdown": [
       "<div class=\"macros\" style=\"visibility:hidden;\">\n",
       "$\\newcommand{\\ensuremath}{}$\n",
       "$\\newcommand{\\xspace}{}$\n",
       "$\\newcommand{\\object}[1]{\\texttt{#1}}$\n",
       "$\\newcommand{\\farcs}{{.}''}$\n",
       "$\\newcommand{\\farcm}{{.}'}$\n",
       "$\\newcommand{\\arcsec}{''}$\n",
       "$\\newcommand{\\arcmin}{'}$\n",
       "$\\newcommand{\\ion}[2]{#1#2}$\n",
       "$\\newcommand{\\textsc}[1]{\\textrm{#1}}$\n",
       "$\\newcommand{\\hl}[1]{\\textrm{#1}}$\n",
       "$\\newcommand{\\footnote}[1]{}$\n",
       "$\\newcommand{\\vdag}{(v)^\\dagger}$\n",
       "$\\newcommand$\n",
       "$\\newcommand$\n",
       "$\\newcommand{\\periodplanetb}{\\ensuremath{104.854_{-0.002}^{+0.001}}}$\n",
       "$\\newcommand{\\Kplanetb}{\\ensuremath{7.7\\pm1.1}}$\n",
       "$\\newcommand{\\eccplanetb}{\\ensuremath{0.09_{-0.02}^{+0.01}}}$\n",
       "$\\newcommand{\\omegaplanetb}{\\ensuremath{350_{-4}^{+2}}}$\n",
       "$\\newcommand{\\Maplanetb}{\\ensuremath{111\\pm2}}$\n",
       "$\\newcommand{\\massplanetb}{\\ensuremath{0.17\\pm0.02}}$\n",
       "$\\newcommand{\\axisplanetb}{\\ensuremath{0.4254 \\pm 0.002}}$\n",
       "$\\newcommand{\\periodplanetc}{\\ensuremath{273.69_{-0.22}^{+0.26}}}$\n",
       "$\\newcommand{\\Kplanetc}{\\ensuremath{9.1_{-0.4}^{+0.5}}}$\n",
       "$\\newcommand{\\eccplanetc}{\\ensuremath{0.096_{-0.009}^{+0.008}}}$\n",
       "$\\newcommand{\\omegaplanetc}{\\ensuremath{8_{-7}^{+4}}}$\n",
       "$\\newcommand{\\Maplanetc}{\\ensuremath{192_{-3}^{+4}}}$\n",
       "$\\newcommand{\\massplanetc}{\\ensuremath{0.28_{-0.01}^{+0.02}}}$\n",
       "$\\newcommand{\\axisplanetc}{\\ensuremath{0.807 \\pm 0.003}}$\n",
       "$\\newcommand{\\RVoffFEROS}{\\ensuremath{51326.7_{-3.1}^{+2.9}}}$\n",
       "$\\newcommand{\\RVoffHARPS}{\\ensuremath{51350.4_{-0.9}^{+1.0}}}$\n",
       "$\\newcommand{\\RVoffCHIRON}{\\ensuremath{-0.5_{-3.9}^{+4.2}}}$\n",
       "$\\newcommand{\\RVoffCORALIE}{\\ensuremath{51331.0_{-3.3}^{+3.1}}}$\n",
       "$\\newcommand{\\RVjittFEROS}{\\ensuremath{19.9_{-2.1}^{+2.6}}}$\n",
       "$\\newcommand{\\RVjittHARPS}{\\ensuremath{5.5_{-0.6}^{+0.8}}}$\n",
       "$\\newcommand{\\RVjittCHIRON}{\\ensuremath{11.9_{-3.7}^{+4.8}}}$\n",
       "$\\newcommand{\\RVjittCORALIE}{\\ensuremath{5.4_{-3.5}^{+4.4}}}$\n",
       "$\\newcommand{\\periodplanetbmaxLn}{\\ensuremath{104.855} }$\n",
       "$\\newcommand{\\KplanetbmaxLn}{\\ensuremath{7.7}}$\n",
       "$\\newcommand{\\eccplanetbmaxLn}{\\ensuremath{0.102}}$\n",
       "$\\newcommand{\\omegaplanetbmaxLn}{\\ensuremath{351}}$\n",
       "$\\newcommand{\\MaplanetbmaxLn}{\\ensuremath{110}}$\n",
       "$\\newcommand{\\massplanetbmaxLn}{\\ensuremath{0.17}}$\n",
       "$\\newcommand{\\axisplanetbmaxLn}{\\ensuremath{0.4254}}$\n",
       "$\\newcommand{\\periodplanetcmaxLn}{\\ensuremath{273.55}}$\n",
       "$\\newcommand{\\KplanetcmaxLn}{\\ensuremath{8.8}}$\n",
       "$\\newcommand{\\eccplanetcmaxLn}{\\ensuremath{0.107}}$\n",
       "$\\newcommand{\\omegaplanetcmaxLn}{\\ensuremath{11}}$\n",
       "$\\newcommand{\\MaplanetcmaxLn}{\\ensuremath{190}}$\n",
       "$\\newcommand{\\massplanetcmaxLn}{\\ensuremath{0.27}}$\n",
       "$\\newcommand{\\axisplanetcmaxLn}{\\ensuremath{0.806}}$\n",
       "$\\newcommand{\\RVoffFEROSmaxLn}{\\ensuremath{51324.5}}$\n",
       "$\\newcommand{\\RVoffHARPSmaxLn}{\\ensuremath{51349.4}}$\n",
       "$\\newcommand{\\RVoffCHIRONmaxLn}{\\ensuremath{-0.2}}$\n",
       "$\\newcommand{\\RVoffCORALIEmaxLn}{\\ensuremath{51327.1}}$\n",
       "$\\newcommand{\\RVjittFEROSmaxLn}{\\ensuremath{21.1}}$\n",
       "$\\newcommand{\\RVjittHARPSmaxLn}{\\ensuremath{5.1}}$\n",
       "$\\newcommand{\\RVjittCHIRONmaxLn}{\\ensuremath{14.9}}$\n",
       "$\\newcommand{\\RVjittCORALIEmaxLn}{\\ensuremath{4.3}}$\n",
       "$\\newcommand{\\julietpb}{\\ensuremath{0.1015\\pm{0.0005}}}$\n",
       "$\\newcommand{\\julietbb}{\\ensuremath{0.45_{-0.03}^{+0.02}}}$\n",
       "$\\newcommand{\\julietrho}{\\ensuremath{3431_{-140}^{+160}}}$\n",
       "$\\newcommand{\\julietqoneTESS}{\\ensuremath{0.30\\pm0.03}}$\n",
       "$\\newcommand{\\julietqtwoTESS}{\\ensuremath{0.36_{-0.06}^{+0.05}}}$\n",
       "$\\newcommand{\\julietqoneASTEP}{\\ensuremath{0.62\\pm0.06}}$\n",
       "$\\newcommand{\\julietqtwoASTEP}{\\ensuremath{0.07\\pm0.04}}$\n",
       "$\\newcommand{\\julietqoneLCOone}{\\ensuremath{0.32_{-0.07}^{+0.08}}}$\n",
       "$\\newcommand{\\julietqtwoLCOone}{\\ensuremath{0.30\\pm0.07}}$\n",
       "$\\newcommand{\\julietqoneLCOtwo}{\\ensuremath{0.61_{-0.06}^{+0.08}}}$\n",
       "$\\newcommand{\\julietqtwoLCOtwo}{\\ensuremath{0.43_{-0.06}^{+0.07}}}$\n",
       "$\\newcommand{\\julietqoneLCOthr}{\\ensuremath{0.29_{-0.06}^{+0.07}}}$\n",
       "$\\newcommand{\\julietqtwoLCOthr}{\\ensuremath{0.22_{-0.06}^{+0.07}}}$\n",
       "$\\newcommand{\\julietqoneLCOfour}{\\ensuremath{0.33_{-0.06}^{+0.07}}}$\n",
       "$\\newcommand{\\julietqtwoLCOfour}{\\ensuremath{0.25_{-0.06}^{+0.07}}}$\n",
       "$\\newcommand{\\julietqoneLCOfive}{\\ensuremath{0.71\\pm0.07}}$\n",
       "$\\newcommand{\\julietqtwoLCOfive}{\\ensuremath{0.43\\pm0.07}}$\n",
       "$\\newcommand{\\julietqoneLCOsix}{\\ensuremath{0.29_{-0.08}^{+0.07}}}$\n",
       "$\\newcommand{\\julietqtwoLCOsix}{\\ensuremath{0.25_{-0.05}^{+0.06}}}$\n",
       "$\\newcommand{\\julietqonePEST}{\\ensuremath{0.83\\pm0.07}}$\n",
       "$\\newcommand{\\julietqtwoPEST}{\\ensuremath{0.49_{-0.07}^{+0.06}}}$\n",
       "$\\newcommand{\\julietqoneNEOS}{\\ensuremath{0.67_{-0.07}^{+0.06}}}$\n",
       "$\\newcommand{\\julietqtwoNEOS}{\\ensuremath{0.41\\pm0.07}}$\n",
       "$\\newcommand{\\julietqoneHwd}{\\ensuremath{0.50_{-0.07}^{+0.08}}}$\n",
       "$\\newcommand{\\julietqtwoHwd}{\\ensuremath{0.35_{-0.07}^{+0.08}}}$\n",
       "$\\newcommand{\\julietmfluxTESStwo}{\\ensuremath{0.0002_{-0.0013}^{+0.0012}}}$\n",
       "$\\newcommand{\\julietsigmaTESStwo}{\\ensuremath{402\\pm8}}$\n",
       "$\\newcommand{\\julietmfluxTESSten}{\\ensuremath{0.003\\pm0.002}}$\n",
       "$\\newcommand{\\julietsigmawTESSten}{\\ensuremath{327\\pm13}}$\n",
       "$\\newcommand{\\julietmfluxTESSthir}{\\ensuremath{-0.0007_{-0.0005}^{+0.0006}}}$\n",
       "$\\newcommand{\\julietsigmawTESSthir}{\\ensuremath{371_{-11}^{+10}}}$\n",
       "$\\newcommand{\\julietmfluxTESStn}{\\ensuremath{0.0010_{-0.0005}^{+0.0006}}}$\n",
       "$\\newcommand{\\julietsigmawTESStn}{\\ensuremath{641\\pm9}}$\n",
       "$\\newcommand{\\julietmfluxTESStt}{\\ensuremath{0.006_{-0.006}^{+0.005}}}$\n",
       "$\\newcommand{\\julietsigmawTESStt}{\\ensuremath{419_{-7}^{+8}}}$\n",
       "$\\newcommand{\\julietmfluxTESSts}{\\ensuremath{0.0012\\pm0.0008}}$\n",
       "$\\newcommand{\\julietsigmawTESSts}{\\ensuremath{604_{-9}^{+10}}}$\n",
       "$\\newcommand{\\julietmfluxTESSst}{\\ensuremath{-0.0003_{-0.0028}^{+0.0030}}}$\n",
       "$\\newcommand{\\julietsigmawTESSst}{\\ensuremath{493\\pm8}}$\n",
       "$\\newcommand{\\julietmfluxASTEPone}{\\ensuremath{0.0004\\pm0.0001}}$\n",
       "$\\newcommand{\\julietsigmawASTEPone}{\\ensuremath{960_{-25}^{+34}}}$\n",
       "$\\newcommand{\\julietmfluxASTEPtwo}{\\ensuremath{0.00027\\pm0.00007}}$\n",
       "$\\newcommand{\\julietsigmawASTEPtwo}{\\ensuremath{999.1_{-0.6}^{+0.9}}}$\n",
       "$\\newcommand{\\julietmfluxASTEPthr}{\\ensuremath{-0.00088\\pm0.00007}}$\n",
       "$\\newcommand{\\julietsigmawASTEPthr}{\\ensuremath{998_{-1}^{+2}}}$\n",
       "$\\newcommand{\\julietmfluxPEST}{\\ensuremath{0.00004_{-0.00009}^{+0.00008}}}$\n",
       "$\\newcommand{\\julietsigmawPEST}{\\ensuremath{996\\pm3}}$\n",
       "$\\newcommand{\\julietmfluxNEOS}{\\ensuremath{-0.00002\\pm0.00003}}$\n",
       "$\\newcommand{\\julietsigmawNEOS}{\\ensuremath{999.92_{-0.05}^{+0.08}}}$\n",
       "$\\newcommand{\\julietmfluxHwd}{\\ensuremath{-0.050\\pm0.0001}}$\n",
       "$\\newcommand{\\julietsigmawHwd}{\\ensuremath{995_{-3}^{+5}}}$\n",
       "$\\newcommand{\\julietmfluxLCOone}{\\ensuremath{-0.000003_{-0.000071}^{+0.000075}}}$\n",
       "$\\newcommand{\\julietsigmawLCOone}{\\ensuremath{779_{-95}^{+91}}}$\n",
       "$\\newcommand{\\julietmfluxLCOtwo}{\\ensuremath{-0.0003\\pm0.0002}}$\n",
       "$\\newcommand{\\julietsigmawLCOtwo}{\\ensuremath{989_{-7}^{+9}}}$\n",
       "$\\newcommand{\\julietmfluxLCOthr}{\\ensuremath{0.0003\\pm0.0001}}$\n",
       "$\\newcommand{\\julietsigmawLCOthr}{\\ensuremath{994_{-4}^{+7}}}$\n",
       "$\\newcommand{\\julietmfluxLCOfo}{\\ensuremath{-0.0001\\pm0.0001}}$\n",
       "$\\newcommand{\\julietsigmawLCOfo}{\\ensuremath{986_{-9}^{+14}}}$\n",
       "$\\newcommand{\\julietmfluxLCOfi}{\\ensuremath{-0.00003\\pm0.00014}}$\n",
       "$\\newcommand{\\julietsigmawLCOfi}{\\ensuremath{990_{-7}^{+12}}}$\n",
       "$\\newcommand{\\julietmfluxLCOsix}{\\ensuremath{-0.0082\\pm0.00006}}$\n",
       "$\\newcommand{\\julietsigmawLCOsix}{\\ensuremath{998_{-1}^{+2}}}$\n",
       "$\\newcommand{\\julietGPsigmaTESStwo}{\\ensuremath{0.0031_{-0.0007}^{+0.0005}}}$\n",
       "$\\newcommand{\\julietGPrhoTESStwo}{\\ensuremath{4.0_{-0.7}^{+0.5}}}$\n",
       "$\\newcommand{\\julietGPsigmaTESSten}{\\ensuremath{0.0086_{-0.0006}^{+0.0005}}}$\n",
       "$\\newcommand{\\julietGPrhoTESSten}{\\ensuremath{0.70_{-0.04}^{+0.03}}}$\n",
       "$\\newcommand{\\julietGPsigmaTESSthir}{\\ensuremath{0.0031\\pm0.0002}}$\n",
       "$\\newcommand{\\julietGPrhoTESSthir}{\\ensuremath{0.71_{-0.04}^{+0.03}}}$\n",
       "$\\newcommand{\\julietGPsigmaTESStn}{\\ensuremath{0.0035\\pm0.0002}}$\n",
       "$\\newcommand{\\julietGPrhoTESStn}{\\ensuremath{0.42\\pm0.02}}$\n",
       "$\\newcommand{\\julietGPsigmaTESStt}{\\ensuremath{0.009_{-0.004}^{+0.002}}}$\n",
       "$\\newcommand{\\julietGPrhoTESStt}{\\ensuremath{9_{-3}^{+2}}}$\n",
       "$\\newcommand{\\julietGPsigmaTESSts}{\\ensuremath{0.0054\\pm0.0003}}$\n",
       "$\\newcommand{\\julietGPrhoTESSts}{\\ensuremath{0.42\\pm0.02}}$\n",
       "$\\newcommand{\\julietGPsigmaTESSst}{\\ensuremath{0.007_{-0.002}^{+0.001}}}$\n",
       "$\\newcommand{\\julietGPrhoTESSst}{\\ensuremath{4.2_{-0.8}^{+0.6}}}$\n",
       "$\\newcommand{\\julietTTESStwo}{\\ensuremath{2458361.0283\\pm0.0008}}$\n",
       "$\\newcommand{\\julietTTESSten}{\\ensuremath{2458570.732\\pm0.001}}$\n",
       "$\\newcommand{\\julietTTESSthir}{\\ensuremath{2458675.6182\\pm0.0009}}$\n",
       "$\\newcommand{\\julietTTESStn}{\\ensuremath{2459095.1087_{-0.0009}^{+0.0010}}}$\n",
       "$\\newcommand{\\julietTTESStt}{\\ensuremath{2459200.0050\\pm0.0006}}$\n",
       "$\\newcommand{\\julietTTESSts}{\\ensuremath{2459304.8770_{-0.0010}^{+0.0009}}}$\n",
       "$\\newcommand{\\julietTTESSst}{\\ensuremath{2460038.9735\\pm0.0004}}$\n",
       "$\\newcommand{\\julietTASTEPone}{\\ensuremath{2459304.8774\\pm0.0008}}$\n",
       "$\\newcommand{\\julietTASTEPtwo}{\\ensuremath{2459409.7229\\pm0.0007}}$\n",
       "$\\newcommand{\\julietTASTEPthr}{\\ensuremath{2459829.2283\\pm0.0005}}$\n",
       "$\\newcommand{\\julietTLCOone}{\\ensuremath{2459200.04\\pm0.03}}$\n",
       "$\\newcommand{\\julietTLCOtwo}{\\ensuremath{2459619.482\\pm0.002}}$\n",
       "$\\newcommand{\\julietTLCOthr}{\\ensuremath{2459619.480\\pm0.001}}$\n",
       "$\\newcommand{\\julietTLCOfo}{\\ensuremath{2459619.486\\pm0.001}}$\n",
       "$\\newcommand{\\julietTLCOfi}{\\ensuremath{2459619.485\\pm0.001}}$\n",
       "$\\newcommand{\\julietTLCOsix}{\\ensuremath{2459934.0818\\pm0.0003}}$\n",
       "$\\newcommand{\\julietTPEST}{\\ensuremath{2459200.019\\pm0.001}}$\n",
       "$\\newcommand{\\julietTNEOS}{\\ensuremath{2459304.900_{-0.003}^{+0.002}}}$\n",
       "$\\newcommand{\\julietTHwd}{\\ensuremath{2459304.759\\pm0.002}}$\n",
       "$\\newcommand{\\julietP}{\\ensuremath{104.87236\\pm0.00005}}$\n",
       "$\\newcommand{\\julietaRs}{\\ensuremath{126\\pm2}}$\n",
       "$\\newcommand{\\juliettzero}{\\ensuremath{2458256.1286\\pm0.0006}}$\n",
       "$\\newcommand{\\julieta}{\\ensuremath{0.480_{-0.008}^{+0.007}}}$\n",
       "$\\newcommand{\\julietRp}{\\ensuremath{0.810\\pm0.005}}$</div>\n",
       "\n",
       "\n",
       "\n",
       "<div id=\"title\">\n",
       "\n",
       "# TOI-199 b: A well-characterized 100-day transiting warm giant planet with TTVs seen from Antarctica\n",
       "\n",
       "</div>\n",
       "<div id=\"comments\">\n",
       "\n",
       "[![arXiv](https://img.shields.io/badge/arXiv-2309.14915-b31b1b.svg)](https://arxiv.org/abs/2309.14915)<mark>Appeared on: 2023-09-27</mark> -  _33 pages, 23 figures. Accepted for publication in AJ_\n",
       "\n",
       "</div>\n",
       "<div id=\"authors\">\n",
       "\n",
       "M. J. Hobson, et al. -- incl., <mark>T. Trifonov</mark>, <mark>J. Eberhardt</mark>\n",
       "\n",
       "</div>\n",
       "<div id=\"abstract\">\n",
       "\n",
       "**Abstract:** We present the spectroscopic confirmation and precise mass measurement of the warm giant planet TOI-199 b. This planet was first identified in _TESS_ photometry and confirmed using ground-based photometry from ASTEP in Antarctica including a full 6.5 h long transit, PEST, Hazelwood, and LCO; space photometry from NEOSSat; and radial velocities (RVs) from FEROS, HARPS, CORALIE, and CHIRON. Orbiting a late G-type star, TOI-199 b has a $\\mathrm{\\periodplanetb   d}$ period, a mass of $\\mathrm{\\massplanetb   M_J}$ , and a radius of $\\mathrm{\\julietRp   R_J}$ . It is the first warm exo-Saturn with a precisely determined mass and radius. The _TESS_ and ASTEP transits show strong transit timing variations, pointing to the existence of a second planet in the system. The joint analysis of the RVs and TTVs provides a unique solution for the non-transiting companion TOI-199 c, which has a period of $\\mathrm{\\periodplanetc   d}$ and an estimated mass of $\\mathrm{\\massplanetc   M_J}$ . This period places it within the conservative Habitable Zone.\n",
       "\n",
       "</div>\n",
       "\n",
       "<div id=\"div_fig1\">\n",
       "\n",
       "<img src=\"tmp_2309.14915/./ground_based_photometry_times.png\" alt=\"Fig9\" width=\"100%\"/>\n",
       "\n",
       "**Figure 9. -** Follow-up photometry for TOI-199. Top row: Light curves for ASTEP observations - an egress on 31st March 2021 (left), a full transit on 13th July 2021 (centre), and a full transit on 6th September 2022 (right). Middle Row: Light curves for PEST (left, egress on 16th December 2020), NEOSSat (centre, full transit on 31st March 2021), and Hazelwood (right, egress on 31st March 2021) observations. Bottom row: light curves for LCO observations - a pre-ingress flat curve on 16th December 2020 (left), two ingresses and egresses on 8th February 2022 (centre), for which the points are colour-coded by filter and site, and a full transit on 20th December 2022 (right). In all panels, the dashed vertical line indicates the transit midpoint, and the dotted vertical lines the egress and ingress. (*fig:followup-lc*)\n",
       "\n",
       "</div>\n",
       "<div id=\"div_fig2\">\n",
       "\n",
       "<img src=\"tmp_2309.14915/./TOI-199_rvs_all_fit10.png\" alt=\"Fig14.1\" width=\"25%\"/><img src=\"tmp_2309.14915/./TOI-199_ttvs.png\" alt=\"Fig14.2\" width=\"25%\"/><img src=\"tmp_2309.14915/./TOI-199_phasefold_1_fit10_bin2.png\" alt=\"Fig14.3\" width=\"25%\"/><img src=\"tmp_2309.14915/./TOI-199_phasefold_2_fit10_bin2.png\" alt=\"Fig14.4\" width=\"25%\"/>\n",
       "\n",
       "**Figure 14. -** * Top*: Radial velocity measurements (FEROS: blue, HARPS: red, CHIRON: purple, CORALIE: green) and best-fit two-planet model (grey line) for the combined data. * Bottom left*: TTVs (blue circles) and fitted model with \\texttt{Exo-Striker}(grey line) for TOI-199 b (top panel) and residuals to the model (bottom panel). The model has been smoothed with a quadratic spline. * Bottom centre and right*:  phase-folded representation of the two planetary signals after the RV signal of the other companion was subtracted. The respective RV residuals are shown under each panel, accordingly. The more precise HARPS RVs, which are the main driver of the fit, are highlighted. The black squares show the binned phase-folded RVs. (*fig:RVs_TTVs*)\n",
       "\n",
       "</div>\n",
       "<div id=\"div_fig3\">\n",
       "\n",
       "<img src=\"tmp_2309.14915/./comparison_lightcurves_zoom_4.png\" alt=\"Fig8\" width=\"100%\"/>\n",
       "\n",
       "**Figure 8. -** _TESS_ light curves for TOI-199, for the seven sectors with transits. The short-cadence PDCSAP light curves are shown in blue, and the FFI light curves extracted with \\texttt{tesseract} in orange. For Sectors 10 and 32 the transits could not be correctly recovered from the PDCSAP light curves. (*fig:lightcurve*)\n",
       "\n",
       "</div><div id=\"qrcode\"><img src=https://api.qrserver.com/v1/create-qr-code/?size=100x100&data=\"https://arxiv.org/abs/2309.14915\"></div>"
      ],
      "text/plain": [
       "<IPython.core.display.Markdown object>"
      ]
     },
     "metadata": {},
     "output_type": "display_data"
    }
   ],
   "source": [
    "[display(Markdown(k[1])) for k in documents];"
   ]
  },
  {
   "cell_type": "markdown",
   "id": "873873a4",
   "metadata": {
    "papermill": {
     "duration": 0.007206,
     "end_time": "2023-09-27T04:09:22.221038",
     "exception": false,
     "start_time": "2023-09-27T04:09:22.213832",
     "status": "completed"
    },
    "tags": []
   },
   "source": [
    "# Create HTML index"
   ]
  },
  {
   "cell_type": "code",
   "execution_count": 9,
   "id": "cf665672",
   "metadata": {
    "execution": {
     "iopub.execute_input": "2023-09-27T04:09:22.237134Z",
     "iopub.status.busy": "2023-09-27T04:09:22.236637Z",
     "iopub.status.idle": "2023-09-27T04:09:22.249666Z",
     "shell.execute_reply": "2023-09-27T04:09:22.248716Z"
    },
    "papermill": {
     "duration": 0.02341,
     "end_time": "2023-09-27T04:09:22.251647",
     "exception": false,
     "start_time": "2023-09-27T04:09:22.228237",
     "status": "completed"
    },
    "tags": []
   },
   "outputs": [
    {
     "name": "stdout",
     "output_type": "stream",
     "text": [
      "279  publications files modified in the last 7 days.\n"
     ]
    }
   ],
   "source": [
    "from datetime import datetime, timedelta, timezone\n",
    "from glob import glob\n",
    "import os\n",
    "\n",
    "files = glob('_build/html/*.md')\n",
    "days = 7\n",
    "now = datetime.today()\n",
    "res = []\n",
    "for fk in files:\n",
    "    stat_result = os.stat(fk).st_ctime\n",
    "    modified = datetime.fromtimestamp(stat_result, tz=timezone.utc).replace(tzinfo=None)\n",
    "    delta = now.today() - modified\n",
    "    if delta <= timedelta(days=days):\n",
    "        res.append((delta.seconds, fk))\n",
    "res = [k[1] for k in reversed(sorted(res, key=lambda x:x[1]))]\n",
    "npub = len(res)\n",
    "print(len(res), f\" publications files modified in the last {days:d} days.\")\n",
    "# [ print('\\t', k) for k in res ];"
   ]
  },
  {
   "cell_type": "code",
   "execution_count": 10,
   "id": "015de740",
   "metadata": {
    "execution": {
     "iopub.execute_input": "2023-09-27T04:09:22.269117Z",
     "iopub.status.busy": "2023-09-27T04:09:22.268351Z",
     "iopub.status.idle": "2023-09-27T04:09:22.297638Z",
     "shell.execute_reply": "2023-09-27T04:09:22.296514Z"
    },
    "papermill": {
     "duration": 0.04032,
     "end_time": "2023-09-27T04:09:22.299778",
     "exception": false,
     "start_time": "2023-09-27T04:09:22.259458",
     "status": "completed"
    },
    "tags": []
   },
   "outputs": [
    {
     "name": "stdout",
     "output_type": "stream",
     "text": [
      "5  publications in the last 7 days.\n"
     ]
    }
   ],
   "source": [
    "import datetime\n",
    "from glob import glob\n",
    "\n",
    "def get_last_n_days(lst, days=1):\n",
    "    \"\"\" Get the documents from the last n days \"\"\"\n",
    "    sorted_lst = sorted(lst, key=lambda x: x[1], reverse=True)\n",
    "    for fname, date in sorted_lst:\n",
    "        if date >= str(datetime.date.today() - datetime.timedelta(days=days)):\n",
    "            yield fname\n",
    "\n",
    "def extract_appearance_dates(lst_file):\n",
    "    dates = []\n",
    "\n",
    "    def get_date(line):\n",
    "        return line\\\n",
    "            .split('Appeared on:')[-1]\\\n",
    "            .split('</mark>')[0].strip()\n",
    "\n",
    "    for fname in lst:\n",
    "        with open(fname, 'r') as f:\n",
    "            found_date = False\n",
    "            for line in f:\n",
    "                if not found_date:\n",
    "                    if \"Appeared on\" in line:\n",
    "                        found_date = True\n",
    "                        dates.append((fname, get_date(line)))\n",
    "                else:\n",
    "                    break\n",
    "    return dates\n",
    "\n",
    "from glob import glob\n",
    "lst = glob('_build/html/*md')\n",
    "days = 7\n",
    "dates = extract_appearance_dates(lst)\n",
    "res = list(get_last_n_days(dates, days))\n",
    "npub = len(res)\n",
    "print(len(res), f\" publications in the last {days:d} days.\")"
   ]
  },
  {
   "cell_type": "code",
   "execution_count": 11,
   "id": "52ca0208",
   "metadata": {
    "execution": {
     "iopub.execute_input": "2023-09-27T04:09:22.320142Z",
     "iopub.status.busy": "2023-09-27T04:09:22.319340Z",
     "iopub.status.idle": "2023-09-27T04:09:22.327059Z",
     "shell.execute_reply": "2023-09-27T04:09:22.326302Z"
    },
    "papermill": {
     "duration": 0.018622,
     "end_time": "2023-09-27T04:09:22.329051",
     "exception": false,
     "start_time": "2023-09-27T04:09:22.310429",
     "status": "completed"
    },
    "scrolled": false,
    "tags": []
   },
   "outputs": [],
   "source": [
    "def create_carousel(npub=4):\n",
    "    \"\"\" Generate the HTML code for a carousel with `npub` slides \"\"\"\n",
    "    carousel = [\"\"\"  <div class=\"carousel\" \"\"\",\n",
    "                \"\"\"       data-flickity='{ \"autoPlay\": 10000, \"adaptiveHeight\": true, \"resize\": true, \"wrapAround\": true, \"pauseAutoPlayOnHover\": true, \"groupCells\": 1 }' id=\"asyncTypeset\">\"\"\"\n",
    "                ]\n",
    "    \n",
    "    item_str = \"\"\"    <div class=\"carousel-cell\"> <div id=\"slide{k}\" class=\"md_view\">Content {k}</div> </div>\"\"\"\n",
    "    for k in range(1, npub + 1):\n",
    "        carousel.append(item_str.format(k=k))\n",
    "    carousel.append(\"  </div>\")\n",
    "    return '\\n'.join(carousel)\n",
    "\n",
    "def create_grid(npub=4):\n",
    "    \"\"\" Generate the HTML code for a flat grid with `npub` slides \"\"\"\n",
    "    grid = [\"\"\"  <div class=\"grid\"> \"\"\",\n",
    "                ]\n",
    "    \n",
    "    item_str = \"\"\"    <div class=\"grid-item\"> <div id=\"slide{k}\" class=\"md_view\">Content {k}</div> </div>\"\"\"\n",
    "    for k in range(1, npub + 1):\n",
    "        grid.append(item_str.format(k=k))\n",
    "    grid.append(\"  </div>\")\n",
    "    return '\\n'.join(grid)"
   ]
  },
  {
   "cell_type": "code",
   "execution_count": 12,
   "id": "a6eac5b6",
   "metadata": {
    "execution": {
     "iopub.execute_input": "2023-09-27T04:09:22.345547Z",
     "iopub.status.busy": "2023-09-27T04:09:22.344930Z",
     "iopub.status.idle": "2023-09-27T04:09:22.352737Z",
     "shell.execute_reply": "2023-09-27T04:09:22.351700Z"
    },
    "papermill": {
     "duration": 0.018555,
     "end_time": "2023-09-27T04:09:22.354866",
     "exception": false,
     "start_time": "2023-09-27T04:09:22.336311",
     "status": "completed"
    },
    "scrolled": false,
    "tags": []
   },
   "outputs": [],
   "source": [
    "carousel = create_carousel(npub)\n",
    "docs = ', '.join(['\"{0:s}\"'.format(k.split('/')[-1]) for k in res])\n",
    "slides = ', '.join([f'\"slide{k}\"' for k in range(1, npub + 1)])\n",
    "\n",
    "with open(\"daily_template.html\", \"r\") as tpl:\n",
    "    page = tpl.read()\n",
    "    page = page.replace(\"{%-- carousel:s --%}\", carousel)\\\n",
    "               .replace(\"{%-- suptitle:s --%}\",  \"7-day archives\" )\\\n",
    "               .replace(\"{%-- docs:s --%}\", docs)\\\n",
    "               .replace(\"{%-- slides:s --%}\", slides)\n",
    "    \n",
    "with open(\"_build/html/index_7days.html\", 'w') as fout:\n",
    "    fout.write(page)"
   ]
  },
  {
   "cell_type": "code",
   "execution_count": 13,
   "id": "adc1a1ec",
   "metadata": {
    "execution": {
     "iopub.execute_input": "2023-09-27T04:09:22.371110Z",
     "iopub.status.busy": "2023-09-27T04:09:22.370480Z",
     "iopub.status.idle": "2023-09-27T04:09:22.379718Z",
     "shell.execute_reply": "2023-09-27T04:09:22.378901Z"
    },
    "papermill": {
     "duration": 0.019429,
     "end_time": "2023-09-27T04:09:22.381487",
     "exception": false,
     "start_time": "2023-09-27T04:09:22.362058",
     "status": "completed"
    },
    "tags": []
   },
   "outputs": [
    {
     "name": "stdout",
     "output_type": "stream",
     "text": [
      "2  publications in the last day.\n"
     ]
    }
   ],
   "source": [
    "# redo for today\n",
    "days = 1\n",
    "res = list(get_last_n_days(dates, days))\n",
    "npub = len(res)\n",
    "print(len(res), f\" publications in the last day.\")\n",
    "\n",
    "carousel = create_carousel(npub)\n",
    "docs = ', '.join(['\"{0:s}\"'.format(k.split('/')[-1]) for k in res])\n",
    "slides = ', '.join([f'\"slide{k}\"' for k in range(1, npub + 1)])\n",
    "\n",
    "with open(\"daily_template.html\", \"r\") as tpl:\n",
    "    page = tpl.read()\n",
    "    page = page.replace(\"{%-- carousel:s --%}\", carousel)\\\n",
    "               .replace(\"{%-- suptitle:s --%}\",  \"Daily\" )\\\n",
    "               .replace(\"{%-- docs:s --%}\", docs)\\\n",
    "               .replace(\"{%-- slides:s --%}\", slides)\n",
    "    \n",
    "# print(carousel, docs, slides)\n",
    "# print(page)\n",
    "with open(\"_build/html/index_daily.html\", 'w') as fout:\n",
    "    fout.write(page)"
   ]
  },
  {
   "cell_type": "code",
   "execution_count": 14,
   "id": "00eece82",
   "metadata": {
    "execution": {
     "iopub.execute_input": "2023-09-27T04:09:22.398461Z",
     "iopub.status.busy": "2023-09-27T04:09:22.397943Z",
     "iopub.status.idle": "2023-09-27T04:09:22.407487Z",
     "shell.execute_reply": "2023-09-27T04:09:22.406491Z"
    },
    "papermill": {
     "duration": 0.020007,
     "end_time": "2023-09-27T04:09:22.409260",
     "exception": false,
     "start_time": "2023-09-27T04:09:22.389253",
     "status": "completed"
    },
    "scrolled": false,
    "tags": []
   },
   "outputs": [
    {
     "name": "stdout",
     "output_type": "stream",
     "text": [
      "6  6 publications selected.\n"
     ]
    }
   ],
   "source": [
    "# Create the flat grid of the last N papers (fixed number regardless of dates)\n",
    "from itertools import islice \n",
    "\n",
    "npub = 6\n",
    "res = [k[0] for k in (islice(reversed(sorted(dates, key=lambda x: x[1])), 6))]\n",
    "print(len(res), f\" {npub} publications selected.\")\n",
    "\n",
    "grid = create_grid(npub)\n",
    "docs = ', '.join(['\"{0:s}\"'.format(k.split('/')[-1]) for k in res])\n",
    "slides = ', '.join([f'\"slide{k}\"' for k in range(1, npub + 1)])\n",
    "\n",
    "with open(\"grid_template.html\", \"r\") as tpl:\n",
    "    page = tpl.read()\n",
    "    page = page.replace(\"{%-- grid-content:s --%}\", grid)\\\n",
    "               .replace(\"{%-- suptitle:s --%}\",  f\"Last {npub:,d} papers\" )\\\n",
    "               .replace(\"{%-- docs:s --%}\", docs)\\\n",
    "               .replace(\"{%-- slides:s --%}\", slides)\n",
    "    \n",
    "# print(grid, docs, slides)\n",
    "# print(page)\n",
    "with open(\"_build/html/index_npub_grid.html\", 'w') as fout:\n",
    "    fout.write(page)"
   ]
  }
 ],
 "metadata": {
  "kernelspec": {
   "display_name": "Python 3 (ipykernel)",
   "language": "python",
   "name": "python3"
  },
  "language_info": {
   "codemirror_mode": {
    "name": "ipython",
    "version": 3
   },
   "file_extension": ".py",
   "mimetype": "text/x-python",
   "name": "python",
   "nbconvert_exporter": "python",
   "pygments_lexer": "ipython3",
   "version": "3.9.18"
  },
  "papermill": {
   "default_parameters": {},
   "duration": 303.993063,
   "end_time": "2023-09-27T04:09:22.840827",
   "environment_variables": {},
   "exception": null,
   "input_path": "MPIA daily digest.ipynb",
   "output_path": "log.ipynb",
   "parameters": {},
   "start_time": "2023-09-27T04:04:18.847764",
   "version": "2.4.0"
  },
  "vscode": {
   "interpreter": {
    "hash": "aee8b7b246df8f9039afb4144a1f6fd8d2ca17a180786b69acc140d282b71a49"
   }
  },
  "widgets": {
   "application/vnd.jupyter.widget-state+json": {
    "state": {
     "07b63cd1a37a426db81aad7e5ee98f31": {
      "model_module": "@jupyter-widgets/base",
      "model_module_version": "2.0.0",
      "model_name": "LayoutModel",
      "state": {
       "_model_module": "@jupyter-widgets/base",
       "_model_module_version": "2.0.0",
       "_model_name": "LayoutModel",
       "_view_count": null,
       "_view_module": "@jupyter-widgets/base",
       "_view_module_version": "2.0.0",
       "_view_name": "LayoutView",
       "align_content": null,
       "align_items": null,
       "align_self": null,
       "border_bottom": null,
       "border_left": null,
       "border_right": null,
       "border_top": null,
       "bottom": null,
       "display": null,
       "flex": null,
       "flex_flow": null,
       "grid_area": null,
       "grid_auto_columns": null,
       "grid_auto_flow": null,
       "grid_auto_rows": null,
       "grid_column": null,
       "grid_gap": null,
       "grid_row": null,
       "grid_template_areas": null,
       "grid_template_columns": null,
       "grid_template_rows": null,
       "height": null,
       "justify_content": null,
       "justify_items": null,
       "left": null,
       "margin": null,
       "max_height": null,
       "max_width": null,
       "min_height": null,
       "min_width": null,
       "object_fit": null,
       "object_position": null,
       "order": null,
       "overflow": null,
       "padding": null,
       "right": null,
       "top": null,
       "visibility": null,
       "width": null
      }
     },
     "19f2b8ce03a7469c8aae0526d4101993": {
      "model_module": "@jupyter-widgets/controls",
      "model_module_version": "2.0.0",
      "model_name": "FloatProgressModel",
      "state": {
       "_dom_classes": [],
       "_model_module": "@jupyter-widgets/controls",
       "_model_module_version": "2.0.0",
       "_model_name": "FloatProgressModel",
       "_view_count": null,
       "_view_module": "@jupyter-widgets/controls",
       "_view_module_version": "2.0.0",
       "_view_name": "ProgressView",
       "bar_style": "success",
       "description": "",
       "description_allow_html": false,
       "layout": "IPY_MODEL_be44dad723004005ae05d99250160697",
       "max": 3.0,
       "min": 0.0,
       "orientation": "horizontal",
       "style": "IPY_MODEL_e9f383c4cb3742a79c9712dbeef34763",
       "tabbable": null,
       "tooltip": null,
       "value": 3.0
      }
     },
     "416a91e54afd49378f1731325171cf20": {
      "model_module": "@jupyter-widgets/controls",
      "model_module_version": "2.0.0",
      "model_name": "HTMLModel",
      "state": {
       "_dom_classes": [],
       "_model_module": "@jupyter-widgets/controls",
       "_model_module_version": "2.0.0",
       "_model_name": "HTMLModel",
       "_view_count": null,
       "_view_module": "@jupyter-widgets/controls",
       "_view_module_version": "2.0.0",
       "_view_name": "HTMLView",
       "description": "",
       "description_allow_html": false,
       "layout": "IPY_MODEL_a031e882d7fa4158937a0a2dff490b1c",
       "placeholder": "​",
       "style": "IPY_MODEL_eceea5f1a3c746bd8d9d4be761fcb809",
       "tabbable": null,
       "tooltip": null,
       "value": " 3/3 [04:02&lt;00:00, 61.57s/it]"
      }
     },
     "4b75707f78664144b8fc58d2163d5c5a": {
      "model_module": "@jupyter-widgets/controls",
      "model_module_version": "2.0.0",
      "model_name": "HBoxModel",
      "state": {
       "_dom_classes": [],
       "_model_module": "@jupyter-widgets/controls",
       "_model_module_version": "2.0.0",
       "_model_name": "HBoxModel",
       "_view_count": null,
       "_view_module": "@jupyter-widgets/controls",
       "_view_module_version": "2.0.0",
       "_view_name": "HBoxView",
       "box_style": "",
       "children": [
        "IPY_MODEL_715fe9c79cf5449cb1f59bd457f2445e",
        "IPY_MODEL_19f2b8ce03a7469c8aae0526d4101993",
        "IPY_MODEL_416a91e54afd49378f1731325171cf20"
       ],
       "layout": "IPY_MODEL_07b63cd1a37a426db81aad7e5ee98f31",
       "tabbable": null,
       "tooltip": null
      }
     },
     "6797d03c69d743fc9c380648ff8378a8": {
      "model_module": "@jupyter-widgets/controls",
      "model_module_version": "2.0.0",
      "model_name": "HTMLStyleModel",
      "state": {
       "_model_module": "@jupyter-widgets/controls",
       "_model_module_version": "2.0.0",
       "_model_name": "HTMLStyleModel",
       "_view_count": null,
       "_view_module": "@jupyter-widgets/base",
       "_view_module_version": "2.0.0",
       "_view_name": "StyleView",
       "background": null,
       "description_width": "",
       "font_size": null,
       "text_color": null
      }
     },
     "715fe9c79cf5449cb1f59bd457f2445e": {
      "model_module": "@jupyter-widgets/controls",
      "model_module_version": "2.0.0",
      "model_name": "HTMLModel",
      "state": {
       "_dom_classes": [],
       "_model_module": "@jupyter-widgets/controls",
       "_model_module_version": "2.0.0",
       "_model_name": "HTMLModel",
       "_view_count": null,
       "_view_module": "@jupyter-widgets/controls",
       "_view_module_version": "2.0.0",
       "_view_name": "HTMLView",
       "description": "",
       "description_allow_html": false,
       "layout": "IPY_MODEL_d4245897517d4b3185ce3bd957b2855b",
       "placeholder": "​",
       "style": "IPY_MODEL_6797d03c69d743fc9c380648ff8378a8",
       "tabbable": null,
       "tooltip": null,
       "value": "100%"
      }
     },
     "a031e882d7fa4158937a0a2dff490b1c": {
      "model_module": "@jupyter-widgets/base",
      "model_module_version": "2.0.0",
      "model_name": "LayoutModel",
      "state": {
       "_model_module": "@jupyter-widgets/base",
       "_model_module_version": "2.0.0",
       "_model_name": "LayoutModel",
       "_view_count": null,
       "_view_module": "@jupyter-widgets/base",
       "_view_module_version": "2.0.0",
       "_view_name": "LayoutView",
       "align_content": null,
       "align_items": null,
       "align_self": null,
       "border_bottom": null,
       "border_left": null,
       "border_right": null,
       "border_top": null,
       "bottom": null,
       "display": null,
       "flex": null,
       "flex_flow": null,
       "grid_area": null,
       "grid_auto_columns": null,
       "grid_auto_flow": null,
       "grid_auto_rows": null,
       "grid_column": null,
       "grid_gap": null,
       "grid_row": null,
       "grid_template_areas": null,
       "grid_template_columns": null,
       "grid_template_rows": null,
       "height": null,
       "justify_content": null,
       "justify_items": null,
       "left": null,
       "margin": null,
       "max_height": null,
       "max_width": null,
       "min_height": null,
       "min_width": null,
       "object_fit": null,
       "object_position": null,
       "order": null,
       "overflow": null,
       "padding": null,
       "right": null,
       "top": null,
       "visibility": null,
       "width": null
      }
     },
     "be44dad723004005ae05d99250160697": {
      "model_module": "@jupyter-widgets/base",
      "model_module_version": "2.0.0",
      "model_name": "LayoutModel",
      "state": {
       "_model_module": "@jupyter-widgets/base",
       "_model_module_version": "2.0.0",
       "_model_name": "LayoutModel",
       "_view_count": null,
       "_view_module": "@jupyter-widgets/base",
       "_view_module_version": "2.0.0",
       "_view_name": "LayoutView",
       "align_content": null,
       "align_items": null,
       "align_self": null,
       "border_bottom": null,
       "border_left": null,
       "border_right": null,
       "border_top": null,
       "bottom": null,
       "display": null,
       "flex": null,
       "flex_flow": null,
       "grid_area": null,
       "grid_auto_columns": null,
       "grid_auto_flow": null,
       "grid_auto_rows": null,
       "grid_column": null,
       "grid_gap": null,
       "grid_row": null,
       "grid_template_areas": null,
       "grid_template_columns": null,
       "grid_template_rows": null,
       "height": null,
       "justify_content": null,
       "justify_items": null,
       "left": null,
       "margin": null,
       "max_height": null,
       "max_width": null,
       "min_height": null,
       "min_width": null,
       "object_fit": null,
       "object_position": null,
       "order": null,
       "overflow": null,
       "padding": null,
       "right": null,
       "top": null,
       "visibility": null,
       "width": null
      }
     },
     "d4245897517d4b3185ce3bd957b2855b": {
      "model_module": "@jupyter-widgets/base",
      "model_module_version": "2.0.0",
      "model_name": "LayoutModel",
      "state": {
       "_model_module": "@jupyter-widgets/base",
       "_model_module_version": "2.0.0",
       "_model_name": "LayoutModel",
       "_view_count": null,
       "_view_module": "@jupyter-widgets/base",
       "_view_module_version": "2.0.0",
       "_view_name": "LayoutView",
       "align_content": null,
       "align_items": null,
       "align_self": null,
       "border_bottom": null,
       "border_left": null,
       "border_right": null,
       "border_top": null,
       "bottom": null,
       "display": null,
       "flex": null,
       "flex_flow": null,
       "grid_area": null,
       "grid_auto_columns": null,
       "grid_auto_flow": null,
       "grid_auto_rows": null,
       "grid_column": null,
       "grid_gap": null,
       "grid_row": null,
       "grid_template_areas": null,
       "grid_template_columns": null,
       "grid_template_rows": null,
       "height": null,
       "justify_content": null,
       "justify_items": null,
       "left": null,
       "margin": null,
       "max_height": null,
       "max_width": null,
       "min_height": null,
       "min_width": null,
       "object_fit": null,
       "object_position": null,
       "order": null,
       "overflow": null,
       "padding": null,
       "right": null,
       "top": null,
       "visibility": null,
       "width": null
      }
     },
     "e9f383c4cb3742a79c9712dbeef34763": {
      "model_module": "@jupyter-widgets/controls",
      "model_module_version": "2.0.0",
      "model_name": "ProgressStyleModel",
      "state": {
       "_model_module": "@jupyter-widgets/controls",
       "_model_module_version": "2.0.0",
       "_model_name": "ProgressStyleModel",
       "_view_count": null,
       "_view_module": "@jupyter-widgets/base",
       "_view_module_version": "2.0.0",
       "_view_name": "StyleView",
       "bar_color": null,
       "description_width": ""
      }
     },
     "eceea5f1a3c746bd8d9d4be761fcb809": {
      "model_module": "@jupyter-widgets/controls",
      "model_module_version": "2.0.0",
      "model_name": "HTMLStyleModel",
      "state": {
       "_model_module": "@jupyter-widgets/controls",
       "_model_module_version": "2.0.0",
       "_model_name": "HTMLStyleModel",
       "_view_count": null,
       "_view_module": "@jupyter-widgets/base",
       "_view_module_version": "2.0.0",
       "_view_name": "StyleView",
       "background": null,
       "description_width": "",
       "font_size": null,
       "text_color": null
      }
     }
    },
    "version_major": 2,
    "version_minor": 0
   }
  }
 },
 "nbformat": 4,
 "nbformat_minor": 5
}