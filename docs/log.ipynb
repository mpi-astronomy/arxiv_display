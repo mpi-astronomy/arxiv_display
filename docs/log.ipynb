{
 "cells": [
  {
   "cell_type": "markdown",
   "id": "92bcb855",
   "metadata": {
    "papermill": {
     "duration": 0.003917,
     "end_time": "2024-10-18T04:11:11.001677",
     "exception": false,
     "start_time": "2024-10-18T04:11:10.997760",
     "status": "completed"
    },
    "tags": []
   },
   "source": [
    "# MPIA Arxiv on Deck 2\n",
    "\n",
    "Contains the steps to produce the paper extractions."
   ]
  },
  {
   "cell_type": "code",
   "execution_count": 1,
   "id": "3a0d6e11",
   "metadata": {
    "execution": {
     "iopub.execute_input": "2024-10-18T04:11:11.009502Z",
     "iopub.status.busy": "2024-10-18T04:11:11.008923Z",
     "iopub.status.idle": "2024-10-18T04:11:11.407303Z",
     "shell.execute_reply": "2024-10-18T04:11:11.406615Z"
    },
    "papermill": {
     "duration": 0.403862,
     "end_time": "2024-10-18T04:11:11.408829",
     "exception": false,
     "start_time": "2024-10-18T04:11:11.004967",
     "status": "completed"
    },
    "tags": []
   },
   "outputs": [],
   "source": [
    "# Imports\n",
    "import os\n",
    "from IPython.display import Markdown, display\n",
    "from tqdm.notebook import tqdm\n",
    "import warnings\n",
    "from PIL import Image \n",
    "import re\n",
    "\n",
    "# requires arxiv_on_deck_2\n",
    "\n",
    "from arxiv_on_deck_2.arxiv2 import (get_new_papers, \n",
    "                                    get_paper_from_identifier,\n",
    "                                    retrieve_document_source, \n",
    "                                    get_markdown_badge)\n",
    "from arxiv_on_deck_2 import (latex,\n",
    "                             latex_bib,\n",
    "                             mpia,\n",
    "                             highlight_authors_in_list)\n",
    "\n",
    "# Sometimes images are really big\n",
    "Image.MAX_IMAGE_PIXELS = 1000000000 "
   ]
  },
  {
   "cell_type": "code",
   "execution_count": 2,
   "id": "22aa9d44",
   "metadata": {
    "execution": {
     "iopub.execute_input": "2024-10-18T04:11:11.416359Z",
     "iopub.status.busy": "2024-10-18T04:11:11.415826Z",
     "iopub.status.idle": "2024-10-18T04:11:11.423783Z",
     "shell.execute_reply": "2024-10-18T04:11:11.423151Z"
    },
    "papermill": {
     "duration": 0.012828,
     "end_time": "2024-10-18T04:11:11.424876",
     "exception": false,
     "start_time": "2024-10-18T04:11:11.412048",
     "status": "completed"
    },
    "tags": []
   },
   "outputs": [],
   "source": [
    "# Some useful definitions.\n",
    "\n",
    "class AffiliationWarning(UserWarning):\n",
    "    pass\n",
    "\n",
    "class AffiliationError(RuntimeError):\n",
    "    pass\n",
    "\n",
    "def validation(source: str):\n",
    "    \"\"\"Raises error paper during parsing of source file\n",
    "    \n",
    "    Allows checks before parsing TeX code.\n",
    "    \n",
    "    Raises AffiliationWarning\n",
    "    \"\"\"\n",
    "    check = mpia.affiliation_verifications(source, verbose=True)\n",
    "    if check is not True:\n",
    "        raise AffiliationError(\"mpia.affiliation_verifications: \" + check)\n",
    "\n",
    "        \n",
    "warnings.simplefilter('always', AffiliationWarning)\n",
    "\n",
    "\n",
    "def get_markdown_qrcode(paper_id: str):\n",
    "    \"\"\" Generate a qrcode to the arxiv page using qrserver.com\n",
    "    \n",
    "    :param paper: Arxiv paper\n",
    "    :returns: markdown text\n",
    "    \"\"\"\n",
    "    url = r\"https://api.qrserver.com/v1/create-qr-code/?size=100x100&data=\"\n",
    "    txt = f\"\"\"<img src={url}\"https://arxiv.org/abs/{paper_id}\">\"\"\"\n",
    "    txt = '<div id=\"qrcode\">' + txt + '</div>'\n",
    "    return txt\n",
    "\n",
    "\n",
    "def clean_non_western_encoded_characters_commands(text: str) -> str:\n",
    "    \"\"\" Remove non-western encoded characters from a string\n",
    "    List may need to grow.\n",
    "    \n",
    "    :param text: the text to clean\n",
    "    :return: the cleaned text\n",
    "    \"\"\"\n",
    "    text = re.sub(r\"(\\\\begin{CJK}{UTF8}{gbsn})(.*?)(\\\\end{CJK})\", r\"\\2\", text)\n",
    "    return text\n",
    "\n",
    "\n",
    "def get_initials(name: str) -> str:\n",
    "    \"\"\" Get the short name, e.g., A.-B. FamName\n",
    "    :param name: full name\n",
    "    :returns: initials\n",
    "    \"\"\"\n",
    "    initials = []\n",
    "    # account for non western names often in ()\n",
    "    if '(' in name:\n",
    "        name = clean_non_western_encoded_characters_commands(name)\n",
    "        suffix = re.findall(r\"\\((.*?)\\)\", name)[0]\n",
    "        name = name.replace(f\"({suffix})\", '')\n",
    "    else:\n",
    "        suffix = ''\n",
    "    split = name.split()\n",
    "    for token in split[:-1]:\n",
    "        if '-' in token:\n",
    "            current = '-'.join([k[0] + '.' for k in token.split('-')])\n",
    "        else:\n",
    "            current = token[0] + '.'\n",
    "        initials.append(current)\n",
    "    initials.append(split[-1].strip())\n",
    "    if suffix:\n",
    "        initials.append(f\"({suffix})\")\n",
    "    return ' '.join(initials)"
   ]
  },
  {
   "cell_type": "markdown",
   "id": "14bd6310",
   "metadata": {
    "papermill": {
     "duration": 0.003005,
     "end_time": "2024-10-18T04:11:11.430875",
     "exception": false,
     "start_time": "2024-10-18T04:11:11.427870",
     "status": "completed"
    },
    "tags": []
   },
   "source": [
    "## get list of arxiv paper candidates\n",
    "\n",
    "We use the MPIA mitarbeiter list webpage from mpia.de to get author names\n",
    "We then get all new papers from Arxiv and match authors"
   ]
  },
  {
   "cell_type": "code",
   "execution_count": 3,
   "id": "7ea813a8",
   "metadata": {
    "execution": {
     "iopub.execute_input": "2024-10-18T04:11:11.437854Z",
     "iopub.status.busy": "2024-10-18T04:11:11.437394Z",
     "iopub.status.idle": "2024-10-18T04:11:28.818648Z",
     "shell.execute_reply": "2024-10-18T04:11:28.818024Z"
    },
    "papermill": {
     "duration": 17.386033,
     "end_time": "2024-10-18T04:11:28.819899",
     "exception": false,
     "start_time": "2024-10-18T04:11:11.433866",
     "status": "completed"
    },
    "tags": []
   },
   "outputs": [],
   "source": [
    "# deal with the author list and edge cases of people that cannot be consistent on their name  \n",
    "\n",
    "def filter_non_scientists(name: str) -> bool:\n",
    "    \"\"\" Loose filter on expected authorships\n",
    "\n",
    "    removing IT, administration, technical staff\n",
    "    :param name: name\n",
    "    :returns: False if name is not a scientist\n",
    "    \"\"\"\n",
    "    remove_list = ['Licht', 'Binroth', 'Witzel', 'Jordan',\n",
    "                   'Zähringer', 'Scheerer', 'Hoffmann', 'Düe',\n",
    "                   'Hellmich', 'Enkler-Scharpegge', 'Witte-Nguy',\n",
    "                   'Dehen', 'Beckmann', 'Jager', 'Jäger'\n",
    "                  ]\n",
    "\n",
    "    for k in remove_list:\n",
    "        if k in name:\n",
    "            return False\n",
    "    return True\n",
    "\n",
    "def add_author_to_list(author_list: list) -> list:\n",
    "    \"\"\" Add author to list if not already in list\n",
    "    \n",
    "    :param author: author name\n",
    "    :param author_list: list of authors\n",
    "    :returns: updated list of authors\n",
    "    \"\"\"\n",
    "    add_list = ['T. Henning']\n",
    "\n",
    "    for author in add_list:\n",
    "        if author not in author_list:\n",
    "            author_list.append(author)\n",
    "    return author_list\n",
    "\n",
    "# get list from MPIA website\n",
    "# filter for non-scientists (mpia.get_mpia_mitarbeiter_list() does some filtering)\n",
    "mpia_authors = [k[1] for k in mpia.get_mpia_mitarbeiter_list() if filter_non_scientists(k[1])]\n",
    "# add some missing author because of inconsistencies in their MPIA name and author name on papers\n",
    "mpia_authors = add_author_to_list(mpia_authors)"
   ]
  },
  {
   "cell_type": "code",
   "execution_count": 4,
   "id": "2645e73a",
   "metadata": {
    "execution": {
     "iopub.execute_input": "2024-10-18T04:11:28.827584Z",
     "iopub.status.busy": "2024-10-18T04:11:28.827184Z",
     "iopub.status.idle": "2024-10-18T04:11:29.485383Z",
     "shell.execute_reply": "2024-10-18T04:11:29.484620Z"
    },
    "papermill": {
     "duration": 0.663188,
     "end_time": "2024-10-18T04:11:29.486486",
     "exception": false,
     "start_time": "2024-10-18T04:11:28.823298",
     "status": "completed"
    },
    "tags": []
   },
   "outputs": [
    {
     "name": "stdout",
     "output_type": "stream",
     "text": [
      "J. Shi  ->  J. Shi  |  ['J. Shi']\n",
      "E. Schinnerer  ->  E. Schinnerer  |  ['E. Schinnerer']\n",
      "S. Kraus  ->  S. Kraus  |  ['S. Kraus']\n",
      "J. Mathew  ->  J. Mathew  |  ['J. Mathew']\n",
      "Arxiv has 56 new papers today\n",
      "          3 with possible author matches\n"
     ]
    }
   ],
   "source": [
    "new_papers = get_new_papers()\n",
    "# add manual references\n",
    "add_paper_refs = []\n",
    "new_papers.extend([get_paper_from_identifier(k) for k in add_paper_refs])\n",
    "\n",
    "def robust_call(fn, value, *args, **kwargs):\n",
    "    try:\n",
    "        return fn(value, *args, **kwargs)\n",
    "    except Exception:\n",
    "        return value\n",
    "\n",
    "candidates = []\n",
    "for paperk in new_papers:\n",
    "    # Check author list with their initials\n",
    "    normed_author_list = [robust_call(mpia.get_initials, k) for k in paperk['authors']]\n",
    "    hl_authors = highlight_authors_in_list(normed_author_list, mpia_authors, verbose=True)\n",
    "    matches = [(hl, orig) for hl, orig in zip(hl_authors, paperk['authors']) if 'mark' in hl]\n",
    "    paperk['authors'] = hl_authors\n",
    "    if matches:\n",
    "        # only select paper if an author matched our list\n",
    "        candidates.append(paperk)\n",
    "print(\"\"\"Arxiv has {0:,d} new papers today\"\"\".format(len(new_papers)))        \n",
    "print(\"\"\"          {0:,d} with possible author matches\"\"\".format(len(candidates)))"
   ]
  },
  {
   "cell_type": "markdown",
   "id": "3543b34a",
   "metadata": {
    "papermill": {
     "duration": 0.003107,
     "end_time": "2024-10-18T04:11:29.493069",
     "exception": false,
     "start_time": "2024-10-18T04:11:29.489962",
     "status": "completed"
    },
    "tags": []
   },
   "source": [
    "# Parse sources and generate relevant outputs\n",
    "\n",
    "From the candidates, we do the following steps:\n",
    "* get their tarball from ArXiv (and extract data)\n",
    "* find the main .tex file: find one with \\documentclass{...} (sometimes it's non trivial)\n",
    "* Check affiliations with :func:`validation`, which uses :func:`mpia.affiliation_verifications`\n",
    "* If passing the affiliations: we parse the .tex source\n",
    "   * inject sub-documents into the main (flatten the main document)\n",
    "   * parse structure, extract information (title, abstract, authors, figures...)\n",
    "   * handles `\\graphicspath` if provided\n",
    "* Generate the .md document."
   ]
  },
  {
   "cell_type": "code",
   "execution_count": 5,
   "id": "9576b79e",
   "metadata": {
    "execution": {
     "iopub.execute_input": "2024-10-18T04:11:29.500615Z",
     "iopub.status.busy": "2024-10-18T04:11:29.500141Z",
     "iopub.status.idle": "2024-10-18T04:16:17.150296Z",
     "shell.execute_reply": "2024-10-18T04:16:17.149572Z"
    },
    "papermill": {
     "duration": 287.655179,
     "end_time": "2024-10-18T04:16:17.151392",
     "exception": false,
     "start_time": "2024-10-18T04:11:29.496213",
     "status": "completed"
    },
    "scrolled": false,
    "tags": []
   },
   "outputs": [
    {
     "data": {
      "application/vnd.jupyter.widget-view+json": {
       "model_id": "47a3db8252a44fc79537af22a7e1f85c",
       "version_major": 2,
       "version_minor": 0
      },
      "text/plain": [
       "  0%|          | 0/3 [00:00<?, ?it/s]"
      ]
     },
     "metadata": {},
     "output_type": "display_data"
    },
    {
     "name": "stdout",
     "output_type": "stream",
     "text": [
      "Retrieving document from  https://arxiv.org/e-print/2410.13177\n"
     ]
    },
    {
     "name": "stdout",
     "output_type": "stream",
     "text": [
      "extracting tarball to tmp_2410.13177... done.\n",
      "Retrieving document from  https://arxiv.org/e-print/2410.13353\n"
     ]
    },
    {
     "name": "stdout",
     "output_type": "stream",
     "text": [
      "extracting tarball to tmp_2410.13353..."
     ]
    },
    {
     "name": "stdout",
     "output_type": "stream",
     "text": [
      " done.\n"
     ]
    },
    {
     "name": "stderr",
     "output_type": "stream",
     "text": [
      "/opt/hostedtoolcache/Python/3.9.20/x64/lib/python3.9/site-packages/IPython/core/interactiveshell.py:3550: LatexWarning: Multiple tex files.\n",
      "\n",
      "  exec(code_obj, self.user_global_ns, self.user_ns)\n",
      "/opt/hostedtoolcache/Python/3.9.20/x64/lib/python3.9/site-packages/IPython/core/interactiveshell.py:3550: LatexWarning: Found documentclass in tmp_2410.13353/AAmain.tex\n",
      "\n",
      "  exec(code_obj, self.user_global_ns, self.user_ns)\n",
      "/opt/hostedtoolcache/Python/3.9.20/x64/lib/python3.9/site-packages/arxiv_on_deck_2/latex.py:414: LatexWarning: Latex injecting: 'authors.tex' from 'tmp_2410.13353/authors.tex'\n",
      "  warnings.warn(LatexWarning(f\"Latex injecting: '{ext}' from '{subsource}'\"))\n"
     ]
    },
    {
     "name": "stdout",
     "output_type": "stream",
     "text": [
      "E. Schinnerer  ->  E. Schinnerer  |  ['E. Schinnerer']\n"
     ]
    },
    {
     "name": "stdout",
     "output_type": "stream",
     "text": [
      "Found 164 bibliographic references in tmp_2410.13353/AAmain.bbl.\n",
      "Issues with the citations\n",
      "syntax error in line 1138: '=' expected\n",
      "Retrieving document from  https://arxiv.org/e-print/2410.13457\n"
     ]
    },
    {
     "name": "stdout",
     "output_type": "stream",
     "text": [
      "extracting tarball to tmp_2410.13457... done.\n"
     ]
    }
   ],
   "source": [
    "documents = []\n",
    "failed = []\n",
    "for paper in tqdm(candidates):\n",
    "    # debug crap\n",
    "    paper['identifier'] = paper['identifier'].lower().replace('arxiv:', '').replace(r'\\n', '').strip()\n",
    "    paper_id = paper['identifier']\n",
    "    \n",
    "    folder = f'tmp_{paper_id}'\n",
    "\n",
    "    try:\n",
    "        if not os.path.isdir(folder):\n",
    "            folder = retrieve_document_source(f\"{paper_id}\", f'tmp_{paper_id}')\n",
    "        \n",
    "        try:\n",
    "            doc = latex.LatexDocument(folder, validation=validation)    \n",
    "        except AffiliationError as affilerror:\n",
    "            msg = f\"ArXiv:{paper_id:s} is not an MPIA paper... \" + str(affilerror)\n",
    "            failed.append((paper, \"affiliation error: \" + str(affilerror) ))\n",
    "            continue\n",
    "        \n",
    "        # Hack because sometimes author parsing does not work well\n",
    "        if (len(doc.authors) != len(paper['authors'])):\n",
    "            doc._authors = paper['authors']\n",
    "        else:\n",
    "            # highlight authors (FIXME: doc.highlight_authors)\n",
    "            # done on arxiv paper already\n",
    "            doc._authors = highlight_authors_in_list(\n",
    "                [get_initials(k) for k in doc.authors], \n",
    "                mpia_authors, verbose=True)\n",
    "        if (doc.abstract) in (None, ''):\n",
    "            doc._abstract = paper['abstract']\n",
    "            \n",
    "        doc.comment = (get_markdown_badge(paper_id) + \n",
    "                       \"<mark>Appeared on: \" + paper['date'] + \"</mark> - \")\n",
    "        if paper['comments']:\n",
    "            doc.comment += \" _\" + paper['comments'] + \"_\"\n",
    "        \n",
    "        full_md = doc.generate_markdown_text()\n",
    "        \n",
    "        full_md += get_markdown_qrcode(paper_id)\n",
    "        \n",
    "        # replace citations\n",
    "        try:\n",
    "            bibdata = latex_bib.LatexBib.from_doc(doc)\n",
    "            full_md = latex_bib.replace_citations(full_md, bibdata)\n",
    "        except Exception as e:\n",
    "            print(\"Issues with the citations\")\n",
    "            print(e)\n",
    "        \n",
    "        documents.append((paper_id, full_md))\n",
    "    except Exception as e:\n",
    "        warnings.warn(latex.LatexWarning(f\"{paper_id:s} did not run properly\\n\" +\n",
    "                                         str(e)\n",
    "                                        ))\n",
    "        failed.append((paper, \"latex error \" + str(e)))"
   ]
  },
  {
   "cell_type": "markdown",
   "id": "2505a25c",
   "metadata": {
    "papermill": {
     "duration": 0.003655,
     "end_time": "2024-10-18T04:16:17.159068",
     "exception": false,
     "start_time": "2024-10-18T04:16:17.155413",
     "status": "completed"
    },
    "tags": []
   },
   "source": [
    "### Export the logs\n",
    "\n",
    "Throughout, we also keep track of the logs per paper. see `logs-{today date}.md` "
   ]
  },
  {
   "cell_type": "code",
   "execution_count": 6,
   "id": "d733828a",
   "metadata": {
    "execution": {
     "iopub.execute_input": "2024-10-18T04:16:17.167414Z",
     "iopub.status.busy": "2024-10-18T04:16:17.167028Z",
     "iopub.status.idle": "2024-10-18T04:16:17.181111Z",
     "shell.execute_reply": "2024-10-18T04:16:17.180572Z"
    },
    "papermill": {
     "duration": 0.019437,
     "end_time": "2024-10-18T04:16:17.182119",
     "exception": false,
     "start_time": "2024-10-18T04:16:17.162682",
     "status": "completed"
    },
    "scrolled": false,
    "tags": []
   },
   "outputs": [
    {
     "data": {
      "text/markdown": [
       "## Successful papers"
      ],
      "text/plain": [
       "<IPython.core.display.Markdown object>"
      ]
     },
     "metadata": {},
     "output_type": "display_data"
    },
    {
     "data": {
      "text/markdown": [
       "\n",
       "|||\n",
       "|---:|:---|\n",
       "| [![arXiv](https://img.shields.io/badge/arXiv-2410.13353-b31b1b.svg)](https://arxiv.org/abs/2410.13353) | **Dynamical resonances in PHANGS galaxies**  |\n",
       "|| M. Ruiz-García, et al. -- incl., <mark>E. Schinnerer</mark> |\n",
       "|*Appeared on*| *2024-10-18*|\n",
       "|*Comments*| **|\n",
       "|**Abstract**|            Bars are remarkable stellar structures that can transport gas toward centers and drive the secular evolution of galaxies. In this context, it is important to locate dynamical resonances associated with bars. For this study, we used ${Spitzer}$ near-infrared images as a proxy for the stellar gravitational potential and the ALMA CO(J=2-1) gas distribution from the PHANGS survey to determine the position of the main dynamical resonances associated with the bars in the PHANGS sample of 74 nearby star-forming galaxies. We used the gravitational torque method to estimate the location of the bar corotation radius ($R_{\\rm CR}$), where stars and gas rotate at the same angular velocity as the bar. Of the 46 barred galaxies in PHANGS, we have successfully determined the corotation (CR) for 38 of them. The mean ratio of the $R_{\\rm CR}$ to the bar radius ($R_{\\rm bar}$) is $\\mathcal{R} = R_{\\rm CR}/R_{\\rm bar} = 1.12$, with a standard deviation of $0.39$. This is consistent with the average value expected from theory and suggests that bars are predominantly fast. We also compared our results with other bar CR measurements from the literature, which employ different methods, and find good agreement ($\\rho = 0.64$). Finally, using rotation curves, we have estimated other relevant resonances such as the inner Lindblad resonance (ILR) and the outer Lindblad resonance (OLR), which are often associated with rings. This work provides a useful catalog of resonances for a large sample of nearby galaxies and emphasizes the clear connection between bar dynamics and morphology.         |"
      ],
      "text/plain": [
       "[2410.13353] Dynamical resonances in PHANGS galaxies\n",
       "\tM. Ruiz-García, et al. -- incl., <mark>E. Schinnerer</mark>"
      ]
     },
     "metadata": {},
     "output_type": "display_data"
    },
    {
     "data": {
      "text/markdown": [
       "## Failed papers"
      ],
      "text/plain": [
       "<IPython.core.display.Markdown object>"
      ]
     },
     "metadata": {},
     "output_type": "display_data"
    },
    {
     "data": {
      "text/markdown": [
       "\n",
       "|||\n",
       "|---:|:---|\n",
       "| [![arXiv](https://img.shields.io/badge/arXiv-2410.13177-b31b1b.svg)](https://arxiv.org/abs/2410.13177) | **Chemical abundances of 20 barium stars from the OHP spectra**  |\n",
       "|| G. Yang, et al. -- incl., <mark>J. Shi</mark> |\n",
       "|*Appeared on*| *2024-10-18*|\n",
       "|*Comments*| *16 pages, 12 figures, accepted for publication in MNRAS*|\n",
       "|**Abstract**|            Based on the high resolution and high signal-to-noise spectra, we derived the chemical abundances of 20 elements for 20 barium (Ba-) stars. For the first time, the detailed abundances of four sample stars, namely HD 92482, HD 150430, HD 151101 and HD 177304 have been analyzed. Additionally, Ba element abundance has been measured using high resolution spectra for the first time in six of the other 16 sample stars. Based on the [s/Fe] ratios, the Ba-unknown star HD 115927 can be classified as a strong Ba-star, while the Ba-likely star HD 160538 can be categorized into a mild Ba-star. Consequently, our sample comprises three strong and 17 mild Ba-stars. The light odd-Z metal elements and Fe-peak elements exhibit near-solar abundances. The [{\\alpha}/Fe] ratios demonstrate decreasing trends with increasing metallicity. Moreover, the abundances of n-capture elements show significant enhancements in different degrees. Using a threshold of the signed distances to the solar r-process abundance pattern ds = 0.6, we find that all of our sample stars are normal Ba-stars, indicating that the enhancements of s-process elements should be attributed to material transfer from their companions. We compare the observed n-capture patterns of sample stars with the FRUITY models, and estimate the mass of the Thermally-Pulsing Asymptotic Giant Branch stars that previously contaminated the Ba-stars. The models with low masses can successfully explain the observations. From a kinematic point of view, we note that most of our sample stars are linked with the thin disk, while HD 130255 may be associated with the thick disk.         |\n",
       "|<p style=\"color:green\"> **ERROR** </p>| <p style=\"color:green\">affiliation error: mpia.affiliation_verifications: 'Heidelberg' keyword not found.</p> |"
      ],
      "text/plain": [
       "<IPython.core.display.Markdown object>"
      ]
     },
     "metadata": {},
     "output_type": "display_data"
    },
    {
     "data": {
      "text/markdown": [
       "\n",
       "|||\n",
       "|---:|:---|\n",
       "| [![arXiv](https://img.shields.io/badge/arXiv-2410.13457-b31b1b.svg)](https://arxiv.org/abs/2410.13457) | **Large Interferometer For Exoplanets (LIFE). XIV. Finding terrestrial protoplanets in the galactic neighborhood**  |\n",
       "|| L. Cesario, et al. -- incl., <mark>S. Kraus</mark>, <mark>J. Mathew</mark> |\n",
       "|*Appeared on*| *2024-10-18*|\n",
       "|*Comments*| *18 pages, 19 figures; accepted for publication in A&A*|\n",
       "|**Abstract**|            The increased brightness temperature of young rocky protoplanets during their magma ocean epoch makes them potentially amenable to atmospheric characterization to distances from the solar system far greater than thermally equilibrated terrestrial exoplanets, offering observational opportunities for unique insights into the origin of secondary atmospheres and the near surface conditions of prebiotic environments. The Large Interferometer For Exoplanets (LIFE) mission will employ a space-based mid-infrared nulling interferometer to directly measure the thermal emission of terrestrial exoplanets. Here, we seek to assess the capabilities of various instrumental design choices of the LIFE mission concept for the detection of cooling protoplanets with transient high-temperature magma ocean atmospheres, in young stellar associations in particular. Using the LIFE mission instrument simulator (LIFEsim) we assess how specific instrumental parameters and design choices, such as wavelength coverage, aperture diameter, and photon throughput, facilitate or disadvantage the detection of protoplanets. We focus on the observational sensitivities of distance to the observed planetary system, protoplanet brightness temperature using a blackbody assumption, and orbital distance of the potential protoplanets around both G- and M-dwarf stars. Our simulations suggest that LIFE will be able to detect (S/N $\\geq$ 7) hot protoplanets in young stellar associations up to distances of $\\approx$100 pc from the solar system for reasonable integration times (up to $\\sim$hours). Detection of an Earth-sized protoplanet orbiting a solar-sized host star at 1 AU requires less than 30 minutes of integration time. M-dwarfs generally need shorter integration times. The contribution from wavelength regions $<$6 $\\mu$m is important for decreasing the detection threshold and discriminating emission temperatures.         |\n",
       "|<p style=\"color:green\"> **ERROR** </p>| <p style=\"color:green\">affiliation error: mpia.affiliation_verifications: 'Planck' keyword not found.</p> |"
      ],
      "text/plain": [
       "<IPython.core.display.Markdown object>"
      ]
     },
     "metadata": {},
     "output_type": "display_data"
    }
   ],
   "source": [
    "import datetime\n",
    "today = str(datetime.date.today())\n",
    "logfile = f\"_build/html/logs/log-{today}.md\"\n",
    "\n",
    "\n",
    "with open(logfile, 'w') as logs:\n",
    "    # Success\n",
    "    logs.write(f'# Arxiv on Deck 2: Logs - {today}\\n\\n')\n",
    "    logs.write(\"\"\"* Arxiv had {0:,d} new papers\\n\"\"\".format(len(new_papers)))\n",
    "    logs.write(\"\"\"    * {0:,d} with possible author matches\\n\\n\"\"\".format(len(candidates)))\n",
    "    logs.write(\"## Sucessful papers\\n\\n\")\n",
    "    display(Markdown(\"## Successful papers\"))\n",
    "    success = [k[0] for k in documents]\n",
    "    for candid in candidates:\n",
    "        if candid['identifier'].split(':')[-1] in success:\n",
    "            display(candid)\n",
    "            logs.write(candid.generate_markdown_text() + '\\n\\n')\n",
    "\n",
    "    ## failed\n",
    "    logs.write(\"## Failed papers\\n\\n\")\n",
    "    display(Markdown(\"## Failed papers\"))\n",
    "    failed = sorted(failed, key=lambda x: x[1])\n",
    "    current_reason = \"\"\n",
    "    for paper, reason in failed:\n",
    "        if 'affiliation' in reason:\n",
    "            color = 'green'\n",
    "        else:\n",
    "            color = 'red'\n",
    "        data = Markdown(\n",
    "                paper.generate_markdown_text() + \n",
    "                f'\\n|<p style=\"color:{color:s}\"> **ERROR** </p>| <p style=\"color:{color:s}\">{reason:s}</p> |'\n",
    "               )\n",
    "        if reason != current_reason:\n",
    "            logs.write(f'### {reason:s} \\n\\n')\n",
    "            current_reason = reason\n",
    "        logs.write(data.data + '\\n\\n')\n",
    "        \n",
    "        # only display here the important errors (all in logs)\n",
    "        # if color in ('red',):\n",
    "        display(data)"
   ]
  },
  {
   "cell_type": "markdown",
   "id": "472d20ee",
   "metadata": {
    "papermill": {
     "duration": 0.004051,
     "end_time": "2024-10-18T04:16:17.190394",
     "exception": false,
     "start_time": "2024-10-18T04:16:17.186343",
     "status": "completed"
    },
    "tags": []
   },
   "source": [
    "## Export documents\n",
    "\n",
    "We now write the .md files and export relevant images"
   ]
  },
  {
   "cell_type": "code",
   "execution_count": 7,
   "id": "d426aed9",
   "metadata": {
    "execution": {
     "iopub.execute_input": "2024-10-18T04:16:17.199700Z",
     "iopub.status.busy": "2024-10-18T04:16:17.199157Z",
     "iopub.status.idle": "2024-10-18T04:16:17.206073Z",
     "shell.execute_reply": "2024-10-18T04:16:17.205468Z"
    },
    "papermill": {
     "duration": 0.012491,
     "end_time": "2024-10-18T04:16:17.207046",
     "exception": false,
     "start_time": "2024-10-18T04:16:17.194555",
     "status": "completed"
    },
    "tags": []
   },
   "outputs": [],
   "source": [
    "def export_markdown_summary(md: str, md_fname:str, directory: str):\n",
    "    \"\"\"Export MD document and associated relevant images\"\"\"\n",
    "    import os\n",
    "    import shutil\n",
    "    import re\n",
    "\n",
    "    if (os.path.exists(directory) and not os.path.isdir(directory)):\n",
    "        raise RuntimeError(f\"a non-directory file exists with name {directory:s}\")\n",
    "\n",
    "    if (not os.path.exists(directory)):\n",
    "        print(f\"creating directory {directory:s}\")\n",
    "        os.mkdir(directory)\n",
    "\n",
    "    fig_fnames = (re.compile(r'\\[Fig.*\\]\\((.*)\\)').findall(md) + \n",
    "                  re.compile(r'\\<img src=\"([^>\\s]*)\"[^>]*/>').findall(md))\n",
    "    print(\"found figures\", fig_fnames)\n",
    "    for fname in fig_fnames:\n",
    "        if 'http' in fname:\n",
    "            # No need to copy online figures\n",
    "            continue\n",
    "        if not os.path.exists(fname):\n",
    "            print(\"file not found\", fname)\n",
    "            continue\n",
    "        print(\"copying \", fname, \"to\", directory)\n",
    "        destdir = os.path.join(directory, os.path.dirname(fname))\n",
    "        destfname = os.path.join(destdir, os.path.basename(fname))\n",
    "        try:\n",
    "            os.makedirs(destdir)\n",
    "        except FileExistsError:\n",
    "            pass\n",
    "        shutil.copy(fname, destfname)\n",
    "    with open(os.path.join(directory, md_fname), 'w') as fout:\n",
    "        fout.write(md)\n",
    "    print(\"exported in \", os.path.join(directory, md_fname))\n",
    "    [print(\"    + \" + os.path.join(directory,fk)) for fk in fig_fnames]"
   ]
  },
  {
   "cell_type": "code",
   "execution_count": 8,
   "id": "014d04a4",
   "metadata": {
    "execution": {
     "iopub.execute_input": "2024-10-18T04:16:17.217169Z",
     "iopub.status.busy": "2024-10-18T04:16:17.216779Z",
     "iopub.status.idle": "2024-10-18T04:16:17.228410Z",
     "shell.execute_reply": "2024-10-18T04:16:17.227809Z"
    },
    "papermill": {
     "duration": 0.017883,
     "end_time": "2024-10-18T04:16:17.229498",
     "exception": false,
     "start_time": "2024-10-18T04:16:17.211615",
     "status": "completed"
    },
    "tags": []
   },
   "outputs": [
    {
     "name": "stdout",
     "output_type": "stream",
     "text": [
      "found figures ['tmp_2410.13353/./Appendix-All_galaxies-with_CR/IC1954-APPENDIX.png', 'tmp_2410.13353/./NGC1097-APPENDIX.png', 'tmp_2410.13353/./FancyR_comparison-QF12.png']\n",
      "copying  tmp_2410.13353/./Appendix-All_galaxies-with_CR/IC1954-APPENDIX.png to _build/html/\n",
      "copying  tmp_2410.13353/./NGC1097-APPENDIX.png to _build/html/\n"
     ]
    },
    {
     "name": "stdout",
     "output_type": "stream",
     "text": [
      "copying  tmp_2410.13353/./FancyR_comparison-QF12.png to _build/html/\n",
      "exported in  _build/html/2410.13353.md\n",
      "    + _build/html/tmp_2410.13353/./Appendix-All_galaxies-with_CR/IC1954-APPENDIX.png\n",
      "    + _build/html/tmp_2410.13353/./NGC1097-APPENDIX.png\n",
      "    + _build/html/tmp_2410.13353/./FancyR_comparison-QF12.png\n"
     ]
    }
   ],
   "source": [
    "for paper_id, md in documents:\n",
    "    export_markdown_summary(md, f\"{paper_id:s}.md\", '_build/html/')"
   ]
  },
  {
   "cell_type": "markdown",
   "id": "f087a0a7",
   "metadata": {
    "papermill": {
     "duration": 0.004278,
     "end_time": "2024-10-18T04:16:17.238128",
     "exception": false,
     "start_time": "2024-10-18T04:16:17.233850",
     "status": "completed"
    },
    "tags": []
   },
   "source": [
    "## Display the papers\n",
    "\n",
    "Not necessary but allows for a quick check."
   ]
  },
  {
   "cell_type": "code",
   "execution_count": 9,
   "id": "fd25f625",
   "metadata": {
    "execution": {
     "iopub.execute_input": "2024-10-18T04:16:17.247574Z",
     "iopub.status.busy": "2024-10-18T04:16:17.247168Z",
     "iopub.status.idle": "2024-10-18T04:16:17.251941Z",
     "shell.execute_reply": "2024-10-18T04:16:17.251329Z"
    },
    "papermill": {
     "duration": 0.010627,
     "end_time": "2024-10-18T04:16:17.252996",
     "exception": false,
     "start_time": "2024-10-18T04:16:17.242369",
     "status": "completed"
    },
    "scrolled": false,
    "tags": []
   },
   "outputs": [
    {
     "data": {
      "text/markdown": [
       "<div class=\"macros\" style=\"visibility:hidden;\">\n",
       "$\\newcommand{\\ensuremath}{}$\n",
       "$\\newcommand{\\xspace}{}$\n",
       "$\\newcommand{\\object}[1]{\\texttt{#1}}$\n",
       "$\\newcommand{\\farcs}{{.}''}$\n",
       "$\\newcommand{\\farcm}{{.}'}$\n",
       "$\\newcommand{\\arcsec}{''}$\n",
       "$\\newcommand{\\arcmin}{'}$\n",
       "$\\newcommand{\\ion}[2]{#1#2}$\n",
       "$\\newcommand{\\textsc}[1]{\\textrm{#1}}$\n",
       "$\\newcommand{\\hl}[1]{\\textrm{#1}}$\n",
       "$\\newcommand{\\footnote}[1]{}$\n",
       "$\\newcommand{\\sqdiamond}[1][fill=black]{\\tikz[x=1.2ex,y=1.85ex,line width=.1ex,line join=round, yshift=-0.285ex] \\draw[#1]  (0,.5) -- (.5,1) -- (1,.5) -- (.5,0) -- (0,.5) -- cycle;}$\n",
       "$\\newcommand{\\sqdiamondDash}[1][fill=black]{$\n",
       "$    \\tikz[x=1.2ex,y=1.85ex,line width=.1ex,line join=round, yshift=-0.285ex]$\n",
       "$        \\draw[#1]$\n",
       "$            (0,.5) -- (.5,1) -- (1,.5) -- (.5,0) -- (0,.5) -- cycle$\n",
       "$            (0,1.1) --  (1,1.1);$\n",
       "$}$\n",
       "$\\newcommand{\\MyDiamond}[1][fill=black]{\\mathop{\\raisebox{-0.275ex}{\\sqdiamond[#1]}}}$\n",
       "$\\newcommand{\\re}{\\ensuremath{r_\\mathrm{e}}}$\n",
       "$\\newcommand{\\SigStar}{\\ensuremath{\\Sigma_\\mathrm{\\star}}}$\n",
       "$\\newcommand{\\SigMol}{\\ensuremath{\\Sigma_\\mathrm{mol}}}$\n",
       "$\\newcommand{\\SigSFR}{\\ensuremath{\\Sigma_\\mathrm{SFR}}}$\n",
       "$\\newcommand{\\tdep}{\\ensuremath{\\tau_\\mathrm{dep}}}$\n",
       "$\\newcommand{\\OSU}{\\label{OSU} Department of Astronomy, The Ohio State University, 140 West 18th Avenue, Columbus, Ohio 43210, USA}$\n",
       "$\\newcommand{\\Alberta}{\\label{Alberta} Department of Physics, University of Alberta, Edmonton, AB T6G 2E1, Canada}$\n",
       "$\\newcommand{\\ANU}{\\label{ANU} Research School of Astronomy and Astrophysics, Australian National University, Canberra, ACT 2611, Australia}$\n",
       "$\\newcommand{\\IPAC}{\\label{IPAC} Caltech-IPAC, 1200 E. California Blvd. Pasadena, CA 91125, USA}$\n",
       "$\\newcommand{\\Carnegie}{\\label{Carnegi} Observatories of the Carnegie Institution for Science, 813 Santa Barbara Street, Pasadena, CA 91101, USA}$\n",
       "$\\newcommand{ÇAPP}{\\label{CCAPP} Center for Cosmology and Astroparticle Physics, 191 West Woodruff Avenue, Columbus, OH 43210, USA}$\n",
       "$\\newcommand{\\CfA}{\\label{CfA} Harvard-Smithsonian Center for Astrophysics, 60 Garden Street, Cambridge, MA 02138, USA}$\n",
       "$\\newcommand{\\CITEVA}{\\label{CITEVA} Centro de Astronomía (CITEVA), Universidad de Antofagasta, Avenida Angamos 601, Antofagasta, Chile}$\n",
       "$\\newcommand{\\CNRS}{\\label{CNRS} CNRS, IRAP, 9 Av. du Colonel Roche, BP 44346, F-31028 Toulouse cedex 4, France}$\n",
       "$\\newcommand{\\ESO}{\\label{ESO} European Southern Observatory, Karl-Schwarzschild Stra{\\ss}e 2, D-85748 Garching bei München, Germany}$\n",
       "$\\newcommand{\\Heidelberg}{\\label{Heidelberg} Astronomisches Rechen-Institut, Zentrum für Astronomie der Universität Heidelberg, Mönchhofstra\\ss e 12-14, D-69120 Heidelberg, Germany}$\n",
       "$\\newcommand{\\COOL}{\\label{COOL} Cosmic Origins Of Life (COOL) Research DAO, coolresearch.io}$\n",
       "$\\newcommand{\\ICRAR}{\\label{ICRAR} International Centre for Radio Astronomy Research, University of Western Australia, 35 Stirling Highway, Crawley, WA 6009, Australia}$\n",
       "$\\newcommand{\\IRAM}{\\label{IRAM} Institut de Radioastronomie Millimétrique (IRAM), 300 Rue de la Piscine, F-38406 Saint Martin d'Hères, France}$\n",
       "$\\newcommand{\\ITA}{\\label{ITA} Universität Heidelberg, Zentrum für Astronomie, Institut für Theoretische Astrophysik, Albert-Ueberle-Str 2, D-69120 Heidelberg, Germany}$\n",
       "$\\newcommand{\\IWR}{\\label{IWR} Universität Heidelberg, Interdisziplinäres Zentrum für Wissenschaftliches Rechnen, Im Neuenheimer Feld 205, D-69120 Heidelberg, Germany}$\n",
       "$\\newcommand{\\JHU}{\\label{JHU} Department of Physics and Astronomy, The Johns Hopkins University, Baltimore, MD 21218, USA}$\n",
       "$\\newcommand{\\Leiden}{\\label{Leiden} Leiden Observatory, Leiden University, P.O. Box 9513, 2300 RA Leiden, The Netherlands}$\n",
       "$\\newcommand{\\Maryland}{\\label{Maryland} Department of Astronomy, University of Maryland, College Park, MD 20742, USA}$\n",
       "$\\newcommand{\\MPE}{\\label{MPE} Max-Planck-Institut für extraterrestrische Physik, Giessenbachstra{\\ss}e 1, D-85748 Garching, Germany}$\n",
       "$\\newcommand{\\MPIA}{\\label{MPIA} Max-Planck-Institut für Astronomie, Königstuhl 17, D-69117, Heidelberg, Germany}$\n",
       "$\\newcommand{\\Nagoya}{\\label{Nagoya} Department of Physics, Nagoya University, Furo-cho, Chikusa-ku, Nagoya, Aichi 464-8602, Japan}$\n",
       "$\\newcommand{\\NRAO}{\\label{NRAO} National Radio Astronomy Observatory, 520 Edgemont Road, Charlottesville, VA 22903-2475, USA}$\n",
       "$\\newcommand{\\OAN}{\\label{OAN} Observatorio Astronómico Nacional (IGN), C/Alfonso XII, 3, E-28014 Madrid, Spain}$\n",
       "$\\newcommand{\\ObsParis}{\\label{ObsParis} Sorbonne Université, Observatoire de Paris, Université PSL, CNRS, LERMA, F-75014, Paris, France}$\n",
       "$\\newcommand{\\Princeton}{\\label{Princeton} Department of Astrophysical Sciences, Princeton University, 4 Ivy Ln., Princeton, NJ 08544 USA}$\n",
       "$\\newcommand{\\UToledo}{\\label{UToledo} University of Toledo, 2801 W. Bancroft St., Mail Stop 111, Toledo, OH, 43606}$\n",
       "$\\newcommand{\\Toulouse}{\\label{Toulouse} Université de Toulouse, UPS-OMP, IRAP, F-31028 Toulouse cedex 4, France}$\n",
       "$\\newcommand{\\UBonn}{\\label{UBonn} Argelander-Institut für Astronomie, Universität Bonn, Auf dem Hügel 71, 53121 Bonn, Germany}$\n",
       "$\\newcommand{\\UChile}{\\label{UChile} Departamento de Astronomía, Universidad de Chile, Camino del Observatorio 1515, Las Condes, Santiago, Chile}$\n",
       "$\\newcommand{\\UConn}{\\label{UConn} Department of Physics, University of Connecticut, Storrs, CT, 06269, USA}$\n",
       "$\\newcommand{\\UCSD}{\\label{UCSD} Center for Astrophysics and Space Sciences, Department of Physics,  University of California, San Diego, 9500 Gilman Drive, La Jolla, CA 92093, USA}$\n",
       "$\\newcommand{\\UCSDAA}{\\label{UCSDAA} Department of Astronomy \\& Astrophysics,  University of California, San Diego, 9500 Gilman Drive, La Jolla, CA 92093, USA}$\n",
       "$\\newcommand{\\UGent}{\\label{UGent} Sterrenkundig Observatorium, Universiteit Gent, Krijgslaan 281 S9, B-9000 Gent, Belgium}$\n",
       "$\\newcommand{\\ULyon}{\\label{ULyon} Univ Lyon, Univ Lyon 1, ENS de Lyon, CNRS, Centre de Recherche Astrophysique de Lyon UMR5574,\\ F-69230 Saint-Genis-Laval, France}$\n",
       "$\\newcommand{\\UMass}{\\label{UMass} University of Massachusetts—Amherst, 710 N. Pleasant Street, Amherst, MA 01003, USA}$\n",
       "$\\newcommand{\\UWyoming}{\\label{UWyoming} Department of Physics and Astronomy, University of Wyoming, Laramie, WY 82071, USA}$\n",
       "$\\newcommand{\\LAM}{\\label{LAM} Aix Marseille Univ, CNRS, CNES, LAM (Laboratoire d’Astrophysique de Marseille), Marseille, France}$\n",
       "$\\newcommand{\\UHawaii}{\\label{UHawaii} Institute for Astronomy, University of Hawaii, 2680 Woodlawn Drive, Honolulu, HI 96822, USA}$\n",
       "$\\newcommand{\\UCM}{\\label{UCM} Departamento de Física de la Tierra y Astrofísica, Universidad Complutense de Madrid, E-28040, Spain}$\n",
       "$\\newcommand{\\IPARC}{\\label{IPARC} Instituto de Física de Partículas y del Cosmos IPARCOS, Facultad de Ciencias Físicas, Universidad Complutense de Madrid, E-28040, Spain}$\n",
       "$\\newcommand{\\STScI}{\\label{STScI} Space Telescope Science Institute, 3700 San Martin Drive, Baltimore, MD 21218, USA}$\n",
       "$\\newcommand{\\McMaster}{\\label{McMaster} Department of Physics and Astronomy, McMaster University, 1280 Main Street West, Hamilton, ON L8S 4M1, Canada}$\n",
       "$\\newcommand{\\INAF}{\\label{INAF} INAF -- Osservatorio Astrofisico di Arcetri, Largo E. Fermi 5, I-50157, Firenze, Italy}$\n",
       "$\\newcommand{\\Sydney}{\\label{Sydney} Sydney Institute for Astronomy, School of Physics A28, The University of Sydney, NSW 2006, Australia}$\n",
       "$\\newcommand{\\UA}{\\label{UA} Centro de Astronomía (CITEVA), Universidad de Antofagasta, Avenida Angamos 601, Antofagasta, Chile}$\n",
       "$\\newcommand{\\CITA}{\\label{CITA} Canadian Institute for Theoretical Astrophysics (CITA), University of Toronto, 60 St George St, Toronto, ON M5S 3H8, Canada}$\n",
       "$\\newcommand{\\ASIAA}{\\label{ASIAA} Institute of Astronomy and Astrophysics, Academia Sinica, No. 1, Sec. 4, Roosevelt Road, Taipei 10617, Taiwan}$\n",
       "$\\newcommand{\\TKU}{\\label{TKU} Department of Physics, Tamkang University, No.151, Yingzhuan Rd., Tamsui Dist., New Taipei City 251301, Taiwan}$\n",
       "$\\newcommand{\\PSMA}{\\label{PSMA} Penn State Mont Alto, 1 Campus Drive, Mont Alto, PA  17237, USA}$\n",
       "$\\newcommand{\\ILL}{\\label{ILL} Institut Laue-Langevin, 71 avenue des Martyrs, F-38042 Grenoble, France}$\n",
       "$\\newcommand{\\TUM}{\\label{TUM} Technical University of Munich, School of Engineering and Design, Department of Aerospace and Geodesy, Chair of Remote Sensing Technology, Arcisstr. 21, 80333 Munich, Germany}$\n",
       "$\\newcommand{\\Surrey}{\\label{Surrey} Department of Physics, University of Surrey, Guildford GU2 7XH, UK}$\n",
       "$\\newcommand{\\Oxford}{\\label{Oxford} Sub-department of Astrophysics, Department of Physics, University of Oxford, Keble Road, Oxford OX1 3RH, UK}$\n",
       "$\\newcommand{\\AIP}{\\label{AIP} Leibniz-Institut for Astrophysik Potsdam (AIP), An der Sternwarte 16, 14482 Potsdam, Germany}$\n",
       "$\\newcommand{\\Insubria}{\\label{Insubria}{Universit{à} dell’Insubria, via Valleggio 11, 22100 Como, Italy}}$\n",
       "$\\newcommand{\\StAndrews}{\\label{StAndrews} School of Physics and Astronomy, University of St Andrews, North Haugh, St Andrews, KY16 9SS}$\n",
       "$\\newcommand{\\IAC}{\\label{IAC}{Instituto de Astrofísica de Canarias, C/ Vía Láctea s/n, E-38205, La Laguna, Spain}}$\n",
       "$\\newcommand{\\ULL}{\\label{ULL}{Departamento de Astrofísica, Universidad de La Laguna, Av. del Astrofísico Francisco Sánchez s/n, E-38206, La Laguna, Spain}}$\n",
       "$\\newcommand{\\AIfA}{\\label{AIfA}{$\n",
       "$Argelander-Institut für Astronomie, Universität Bonn, Auf dem Hügel 71, 53121 Bonn, Germany}}$\n",
       "$\\newcommand{\\Heidel}{\\label{Heidel} Universität Heidelberg, Zentrum für Astronomie, Albert-Ueberle-Str. 2, 69120 Heidelberg, Germany}$\n",
       "$\\newcommand{\\UMich}{\\label{UMich}$\n",
       "$Department of Astronomy, University of Michigan, Ann Arbor, MI 48109, USA}$\n",
       "$\\newcommand{\\Msun}{\\ifmmode{\\mathrm M_\\odot}\\else{M_\\odot}\\fi}$\n",
       "$\\newcommand\\action{#1}$\n",
       "$\\newcommand\\change{#1}$</div>\n",
       "\n",
       "\n",
       "\n",
       "<div id=\"title\">\n",
       "\n",
       "# Dynamical resonances in PHANGS galaxies\n",
       "\n",
       "</div>\n",
       "<div id=\"comments\">\n",
       "\n",
       "[![arXiv](https://img.shields.io/badge/arXiv-2410.13353-b31b1b.svg)](https://arxiv.org/abs/2410.13353)<mark>Appeared on: 2024-10-18</mark> - \n",
       "\n",
       "</div>\n",
       "<div id=\"authors\">\n",
       "\n",
       "M. Ruiz-García, et al. -- incl., <mark>E. Schinnerer</mark>\n",
       "\n",
       "</div>\n",
       "<div id=\"abstract\">\n",
       "\n",
       "**Abstract:** Bars are remarkable stellar structures that can transport gas toward centers and drive the secular evolution of galaxies. In this context, it is important to locate dynamical resonances associated with bars. For this study, we used _Spitzer_ near-infrared images as a proxy for the stellar gravitational potential and the ALMA CO(J=2-1) gas distribution from the PHANGS survey to determine the position of the main dynamical resonances associated with the bars in the PHANGS sample of 74 nearby star-forming galaxies. We used the gravitational torque method to estimate the location of the bar corotation radius ( $R_{\\rm CR}$ ), where stars and gas rotate at the same angular velocity as the bar. Of the 46 barred galaxies in PHANGS, we have successfully determined the corotation (CR) for 38 of them. The mean ratio of the $R_{\\rm CR}$ to the bar radius ( $R_{\\rm bar}$ ) is $\\mathcal{R} = R_{\\rm CR}/R_{\\rm bar} = 1.12$ , with a standard deviation of $0.39$ . This is consistent with the average value expected from theory and suggests that bars are predominantly fast. We also compared our results with other bar CR measurements from the literature, which employ different methods, and find good agreement ( $\\rho = 0.64$ ). Finally, using rotation curves, we have estimated other relevant resonances such as the inner Lindblad resonance (ILR) and the outer Lindblad resonance (OLR), which are often associated with rings. This work provides a useful catalog of resonances for a large sample of nearby galaxies and emphasizes the clear connection between bar dynamics and morphology.\n",
       "\n",
       "</div>\n",
       "\n",
       "<div id=\"div_fig1\">\n",
       "\n",
       "<img src=\"tmp_2410.13353/./Appendix-All_galaxies-with_CR/IC1954-APPENDIX.png\" alt=\"Fig17\" width=\"100%\"/>\n",
       "\n",
       "**Figure 17. -** **IC 1954**(SB, $QF=3$) non-weighted deprojected torque map (left panel), torque profile (upper central panel), comparison with values from the literature (lower central panel), rotation curve (upper right panel), and angular rotation curve (lower right panel). The cyan-contoured ellipse indicates the bar extent. We show contours corresponding to $[5\\sigma, 15\\sigma, 45\\sigma, ..., 0.9\\sigma_{\\rm max}]$ in the CO map, where $\\sigma$ is the mean value of the gas map and $\\sigma_{\\rm max}$ its maximum value. CR (if determined) is represented as a vertical pink line, together with its uncertainties (pink shaded area). This is a statistical uncertainty due to bootstrapping for $i$, PA and center position (see Sect. $\\re$f{sec:bootstrap}). Solid green line represents the bar length (from \\citealt{Querejeta+21}), while shaded green region represents the region where we search for the CR. Brown dashed line represents the radius at which the coverage of CO starts to be non-uniform ($R_{\\rm 100\\%  CO}$ in Table $\\re$f{table:complete_sample}), orange dashed line is the radius at which the coverage of CO is uniform about 50\\%($R_{\\rm 50\\%  CO}$ in Table $\\re$f{table:complete_sample}), and purple dashed line represents the end of CO coverage ($R_{\\rm End  CO}$ in Table $\\re$f{table:complete_sample}). Teal dashed line represents the nuclear bar registered by \\cite{Querejeta+21}(if detected). The shaded gray region shown in this graphic represents the inner region inside which we cannot say anything on $\\tau(R)$ due to the limited spatial resolution of our observations. In addition, on the lower central panel, each dot represents a different measure of the CR (of the main bar) from literature. Finally, on the upper right panel we show the rotation curve from \\cite{Lang+20}, while on the lower right panel we represent in black solid line the angular rotation curve ($\\Omega$) and the curves derived as $\\Omega \\pm \\kappa/2$(light pink and blue curves), together with the derived pattern speed ($\\Omega_p$) and its uncertainties, shown as a dotted pink line and a pink-filled region. In this panel we also represent the Lindblad Resonances if present, as two shades of blue (iILR and oILR) and orange (OLR) dotted lines. (*fig:Appendix-All_galaxies-IC1954*)\n",
       "\n",
       "</div>\n",
       "<div id=\"div_fig2\">\n",
       "\n",
       "<img src=\"tmp_2410.13353/./NGC1097-APPENDIX.png\" alt=\"Fig11\" width=\"100%\"/>\n",
       "\n",
       "**Figure 11. -** **NGC 1097 (SB)** non-weighted deprojected torque map (left panel), torque profile (upper central panel), comparison with values from the literature (lower central panel), rotation curve (upper right panel), and angular rotation curve (lower right panel). The cyan-contoured ellipse in the left panel indicates the bar extent. We show contours corresponding to $[5\\sigma, 15\\sigma, 45\\sigma, \\dots, 0.9\\sigma_{\\rm max}]$ in the CO map, where $\\sigma$ is the mean value of the gas map $\\sigma = 0.59 \\rm K  km  s^{-1}$, and $\\sigma_{\\rm max} = 934.83  \\rm K  km  s^{-1}$. In the central and right panels, CR is represented as a vertical pink line, together with its uncertainties (pink-shaded area). This is a statistical uncertainty due to bootstrapping for $i$, PA and center position (see Sect. $\\re$f{sec:bootstrap}). The solid green line represents the bar length (from \\citealt{Querejeta+21}), while the shaded green region represents the region where we search for the CR. Brown dashed line marks the radius at which the coverage of CO starts to be nonuniform ($R_{\\rm 100 \\% CO}$ in Table $\\re$f{table:complete_sample}), orange dashed line is the radius at which the coverage of CO is uniform about $50\\%$($R_{\\rm 50 \\% CO}$ in Table $\\re$f{table:complete_sample}), and purple dashed line represents the end of CO coverage ($R_{\\rm End  CO}$ in Table $\\re$f{table:complete_sample}). The shaded gray region represents the inner region inside which we cannot say anything on $\\tau(R)$ due to the limited spatial resolution of our observations. Finally, in the lower central panel, each dot represents a different measure of the CR (of the main bar) from the literature, and the $\\MyDiamond$ symbol represents a measure of a nuclear bar CR. For both right panels, the solid black line represents the rotation curve (upper panel) and the angular rotation curve $\\Omega$(lower panel). Solid light pink and light blue lines represent $\\Omega + \\kappa /2$ and $\\Omega - \\kappa /2$, respectively. The OLR and its uncertainties are represented in orange and the oILR (and its uncertainties) in dark blue. Purple vertical line represents the central ring detected by \\cite{Querejeta+21}. (*fig:NGC1097-case_study*)\n",
       "\n",
       "</div>\n",
       "<div id=\"div_fig3\">\n",
       "\n",
       "<img src=\"tmp_2410.13353/./FancyR_comparison-QF12.png\" alt=\"Fig3\" width=\"100%\"/>\n",
       "\n",
       "**Figure 3. -** Slow, fast, and ultra-fast bars containing exclusively galaxies with $QF = 1$ and $QF = 2$. Galaxies with $QF = 2$ are represented with stars, while galaxies with $QF = 1$ are represented with dots. (*fig:QF1&2*)\n",
       "\n",
       "</div><div id=\"qrcode\"><img src=https://api.qrserver.com/v1/create-qr-code/?size=100x100&data=\"https://arxiv.org/abs/2410.13353\"></div>"
      ],
      "text/plain": [
       "<IPython.core.display.Markdown object>"
      ]
     },
     "metadata": {},
     "output_type": "display_data"
    }
   ],
   "source": [
    "[display(Markdown(k[1])) for k in documents];"
   ]
  },
  {
   "cell_type": "markdown",
   "id": "873873a4",
   "metadata": {
    "papermill": {
     "duration": 0.004699,
     "end_time": "2024-10-18T04:16:17.262540",
     "exception": false,
     "start_time": "2024-10-18T04:16:17.257841",
     "status": "completed"
    },
    "tags": []
   },
   "source": [
    "# Create HTML index"
   ]
  },
  {
   "cell_type": "code",
   "execution_count": 10,
   "id": "cf665672",
   "metadata": {
    "execution": {
     "iopub.execute_input": "2024-10-18T04:16:17.272860Z",
     "iopub.status.busy": "2024-10-18T04:16:17.272433Z",
     "iopub.status.idle": "2024-10-18T04:16:17.280635Z",
     "shell.execute_reply": "2024-10-18T04:16:17.280120Z"
    },
    "papermill": {
     "duration": 0.014371,
     "end_time": "2024-10-18T04:16:17.281623",
     "exception": false,
     "start_time": "2024-10-18T04:16:17.267252",
     "status": "completed"
    },
    "tags": []
   },
   "outputs": [
    {
     "name": "stdout",
     "output_type": "stream",
     "text": [
      "222  publications files modified in the last 7 days.\n"
     ]
    }
   ],
   "source": [
    "from datetime import datetime, timedelta, timezone\n",
    "from glob import glob\n",
    "import os\n",
    "\n",
    "files = glob('_build/html/*.md')\n",
    "days = 7\n",
    "now = datetime.today()\n",
    "res = []\n",
    "for fk in files:\n",
    "    stat_result = os.stat(fk).st_ctime\n",
    "    modified = datetime.fromtimestamp(stat_result, tz=timezone.utc).replace(tzinfo=None)\n",
    "    delta = now.today() - modified\n",
    "    if delta <= timedelta(days=days):\n",
    "        res.append((delta.seconds, fk))\n",
    "res = [k[1] for k in reversed(sorted(res, key=lambda x:x[1]))]\n",
    "npub = len(res)\n",
    "print(len(res), f\" publications files modified in the last {days:d} days.\")\n",
    "# [ print('\\t', k) for k in res ];"
   ]
  },
  {
   "cell_type": "code",
   "execution_count": 11,
   "id": "015de740",
   "metadata": {
    "execution": {
     "iopub.execute_input": "2024-10-18T04:16:17.292088Z",
     "iopub.status.busy": "2024-10-18T04:16:17.291632Z",
     "iopub.status.idle": "2024-10-18T04:16:17.307266Z",
     "shell.execute_reply": "2024-10-18T04:16:17.306744Z"
    },
    "papermill": {
     "duration": 0.021929,
     "end_time": "2024-10-18T04:16:17.308276",
     "exception": false,
     "start_time": "2024-10-18T04:16:17.286347",
     "status": "completed"
    },
    "tags": []
   },
   "outputs": [
    {
     "name": "stdout",
     "output_type": "stream",
     "text": [
      "8  publications in the last 7 days.\n"
     ]
    }
   ],
   "source": [
    "import datetime\n",
    "from glob import glob\n",
    "\n",
    "def get_last_n_days(lst, days=1):\n",
    "    \"\"\" Get the documents from the last n days \"\"\"\n",
    "    sorted_lst = sorted(lst, key=lambda x: x[1], reverse=True)\n",
    "    for fname, date in sorted_lst:\n",
    "        if date >= str(datetime.date.today() - datetime.timedelta(days=days)):\n",
    "            yield fname\n",
    "\n",
    "def extract_appearance_dates(lst_file):\n",
    "    dates = []\n",
    "\n",
    "    def get_date(line):\n",
    "        return line\\\n",
    "            .split('Appeared on:')[-1]\\\n",
    "            .split('</mark>')[0].strip()\n",
    "\n",
    "    for fname in lst:\n",
    "        with open(fname, 'r') as f:\n",
    "            found_date = False\n",
    "            for line in f:\n",
    "                if not found_date:\n",
    "                    if \"Appeared on\" in line:\n",
    "                        found_date = True\n",
    "                        dates.append((fname, get_date(line)))\n",
    "                else:\n",
    "                    break\n",
    "    return dates\n",
    "\n",
    "from glob import glob\n",
    "lst = glob('_build/html/*md')\n",
    "days = 7\n",
    "dates = extract_appearance_dates(lst)\n",
    "res = list(get_last_n_days(dates, days))\n",
    "npub = len(res)\n",
    "print(len(res), f\" publications in the last {days:d} days.\")"
   ]
  },
  {
   "cell_type": "code",
   "execution_count": 12,
   "id": "52ca0208",
   "metadata": {
    "execution": {
     "iopub.execute_input": "2024-10-18T04:16:17.319110Z",
     "iopub.status.busy": "2024-10-18T04:16:17.318724Z",
     "iopub.status.idle": "2024-10-18T04:16:17.323330Z",
     "shell.execute_reply": "2024-10-18T04:16:17.322833Z"
    },
    "papermill": {
     "duration": 0.011009,
     "end_time": "2024-10-18T04:16:17.324279",
     "exception": false,
     "start_time": "2024-10-18T04:16:17.313270",
     "status": "completed"
    },
    "scrolled": false,
    "tags": []
   },
   "outputs": [],
   "source": [
    "def create_carousel(npub=4):\n",
    "    \"\"\" Generate the HTML code for a carousel with `npub` slides \"\"\"\n",
    "    carousel = [\"\"\"  <div class=\"carousel\" \"\"\",\n",
    "                \"\"\"       data-flickity='{ \"autoPlay\": 10000, \"adaptiveHeight\": true, \"resize\": true, \"wrapAround\": true, \"pauseAutoPlayOnHover\": true, \"groupCells\": 1 }' id=\"asyncTypeset\">\"\"\"\n",
    "                ]\n",
    "    \n",
    "    item_str = \"\"\"    <div class=\"carousel-cell\"> <div id=\"slide{k}\" class=\"md_view\">Content {k}</div> </div>\"\"\"\n",
    "    for k in range(1, npub + 1):\n",
    "        carousel.append(item_str.format(k=k))\n",
    "    carousel.append(\"  </div>\")\n",
    "    return '\\n'.join(carousel)\n",
    "\n",
    "def create_grid(npub=4):\n",
    "    \"\"\" Generate the HTML code for a flat grid with `npub` slides \"\"\"\n",
    "    grid = [\"\"\"  <div class=\"grid\"> \"\"\",\n",
    "                ]\n",
    "    \n",
    "    item_str = \"\"\"    <div class=\"grid-item\"> <div id=\"slide{k}\" class=\"md_view\">Content {k}</div> </div>\"\"\"\n",
    "    for k in range(1, npub + 1):\n",
    "        grid.append(item_str.format(k=k))\n",
    "    grid.append(\"  </div>\")\n",
    "    return '\\n'.join(grid)"
   ]
  },
  {
   "cell_type": "code",
   "execution_count": 13,
   "id": "a6eac5b6",
   "metadata": {
    "execution": {
     "iopub.execute_input": "2024-10-18T04:16:17.335025Z",
     "iopub.status.busy": "2024-10-18T04:16:17.334460Z",
     "iopub.status.idle": "2024-10-18T04:16:17.339401Z",
     "shell.execute_reply": "2024-10-18T04:16:17.338897Z"
    },
    "papermill": {
     "duration": 0.011242,
     "end_time": "2024-10-18T04:16:17.340386",
     "exception": false,
     "start_time": "2024-10-18T04:16:17.329144",
     "status": "completed"
    },
    "scrolled": false,
    "tags": []
   },
   "outputs": [],
   "source": [
    "carousel = create_carousel(npub)\n",
    "docs = ', '.join(['\"{0:s}\"'.format(k.split('/')[-1]) for k in res])\n",
    "slides = ', '.join([f'\"slide{k}\"' for k in range(1, npub + 1)])\n",
    "\n",
    "with open(\"daily_template.html\", \"r\") as tpl:\n",
    "    page = tpl.read()\n",
    "    page = page.replace(\"{%-- carousel:s --%}\", carousel)\\\n",
    "               .replace(\"{%-- suptitle:s --%}\",  \"7-day archives\" )\\\n",
    "               .replace(\"{%-- docs:s --%}\", docs)\\\n",
    "               .replace(\"{%-- slides:s --%}\", slides)\n",
    "    \n",
    "with open(\"_build/html/index_7days.html\", 'w') as fout:\n",
    "    fout.write(page)"
   ]
  },
  {
   "cell_type": "code",
   "execution_count": 14,
   "id": "adc1a1ec",
   "metadata": {
    "execution": {
     "iopub.execute_input": "2024-10-18T04:16:17.351069Z",
     "iopub.status.busy": "2024-10-18T04:16:17.350692Z",
     "iopub.status.idle": "2024-10-18T04:16:17.357128Z",
     "shell.execute_reply": "2024-10-18T04:16:17.356565Z"
    },
    "papermill": {
     "duration": 0.012776,
     "end_time": "2024-10-18T04:16:17.358047",
     "exception": false,
     "start_time": "2024-10-18T04:16:17.345271",
     "status": "completed"
    },
    "tags": []
   },
   "outputs": [
    {
     "name": "stdout",
     "output_type": "stream",
     "text": [
      "2  publications in the last day.\n"
     ]
    }
   ],
   "source": [
    "# redo for today\n",
    "days = 1\n",
    "res = list(get_last_n_days(dates, days))\n",
    "npub = len(res)\n",
    "print(len(res), f\" publications in the last day.\")\n",
    "\n",
    "carousel = create_carousel(npub)\n",
    "docs = ', '.join(['\"{0:s}\"'.format(k.split('/')[-1]) for k in res])\n",
    "slides = ', '.join([f'\"slide{k}\"' for k in range(1, npub + 1)])\n",
    "\n",
    "with open(\"daily_template.html\", \"r\") as tpl:\n",
    "    page = tpl.read()\n",
    "    page = page.replace(\"{%-- carousel:s --%}\", carousel)\\\n",
    "               .replace(\"{%-- suptitle:s --%}\",  \"Daily\" )\\\n",
    "               .replace(\"{%-- docs:s --%}\", docs)\\\n",
    "               .replace(\"{%-- slides:s --%}\", slides)\n",
    "    \n",
    "# print(carousel, docs, slides)\n",
    "# print(page)\n",
    "with open(\"_build/html/index_daily.html\", 'w') as fout:\n",
    "    fout.write(page)"
   ]
  },
  {
   "cell_type": "code",
   "execution_count": 15,
   "id": "00eece82",
   "metadata": {
    "execution": {
     "iopub.execute_input": "2024-10-18T04:16:17.369392Z",
     "iopub.status.busy": "2024-10-18T04:16:17.368864Z",
     "iopub.status.idle": "2024-10-18T04:16:17.375165Z",
     "shell.execute_reply": "2024-10-18T04:16:17.374628Z"
    },
    "papermill": {
     "duration": 0.012793,
     "end_time": "2024-10-18T04:16:17.376107",
     "exception": false,
     "start_time": "2024-10-18T04:16:17.363314",
     "status": "completed"
    },
    "scrolled": false,
    "tags": []
   },
   "outputs": [
    {
     "name": "stdout",
     "output_type": "stream",
     "text": [
      "6  6 publications selected.\n"
     ]
    }
   ],
   "source": [
    "# Create the flat grid of the last N papers (fixed number regardless of dates)\n",
    "from itertools import islice \n",
    "\n",
    "npub = 6\n",
    "res = [k[0] for k in (islice(reversed(sorted(dates, key=lambda x: x[1])), 6))]\n",
    "print(len(res), f\" {npub} publications selected.\")\n",
    "\n",
    "grid = create_grid(npub)\n",
    "docs = ', '.join(['\"{0:s}\"'.format(k.split('/')[-1]) for k in res])\n",
    "slides = ', '.join([f'\"slide{k}\"' for k in range(1, npub + 1)])\n",
    "\n",
    "with open(\"grid_template.html\", \"r\") as tpl:\n",
    "    page = tpl.read()\n",
    "    page = page.replace(\"{%-- grid-content:s --%}\", grid)\\\n",
    "               .replace(\"{%-- suptitle:s --%}\",  f\"Last {npub:,d} papers\" )\\\n",
    "               .replace(\"{%-- docs:s --%}\", docs)\\\n",
    "               .replace(\"{%-- slides:s --%}\", slides)\n",
    "    \n",
    "# print(grid, docs, slides)\n",
    "# print(page)\n",
    "with open(\"_build/html/index_npub_grid.html\", 'w') as fout:\n",
    "    fout.write(page)"
   ]
  }
 ],
 "metadata": {
  "kernelspec": {
   "display_name": "Python 3 (ipykernel)",
   "language": "python",
   "name": "python3"
  },
  "language_info": {
   "codemirror_mode": {
    "name": "ipython",
    "version": 3
   },
   "file_extension": ".py",
   "mimetype": "text/x-python",
   "name": "python",
   "nbconvert_exporter": "python",
   "pygments_lexer": "ipython3",
   "version": "3.9.20"
  },
  "papermill": {
   "default_parameters": {},
   "duration": 307.581302,
   "end_time": "2024-10-18T04:16:17.697960",
   "environment_variables": {},
   "exception": null,
   "input_path": "MPIA daily digest.ipynb",
   "output_path": "log.ipynb",
   "parameters": {},
   "start_time": "2024-10-18T04:11:10.116658",
   "version": "2.6.0"
  },
  "vscode": {
   "interpreter": {
    "hash": "aee8b7b246df8f9039afb4144a1f6fd8d2ca17a180786b69acc140d282b71a49"
   }
  },
  "widgets": {
   "application/vnd.jupyter.widget-state+json": {
    "state": {
     "0a21b8b8f32e41f4bf44c2180948fa9a": {
      "model_module": "@jupyter-widgets/base",
      "model_module_version": "2.0.0",
      "model_name": "LayoutModel",
      "state": {
       "_model_module": "@jupyter-widgets/base",
       "_model_module_version": "2.0.0",
       "_model_name": "LayoutModel",
       "_view_count": null,
       "_view_module": "@jupyter-widgets/base",
       "_view_module_version": "2.0.0",
       "_view_name": "LayoutView",
       "align_content": null,
       "align_items": null,
       "align_self": null,
       "border_bottom": null,
       "border_left": null,
       "border_right": null,
       "border_top": null,
       "bottom": null,
       "display": null,
       "flex": null,
       "flex_flow": null,
       "grid_area": null,
       "grid_auto_columns": null,
       "grid_auto_flow": null,
       "grid_auto_rows": null,
       "grid_column": null,
       "grid_gap": null,
       "grid_row": null,
       "grid_template_areas": null,
       "grid_template_columns": null,
       "grid_template_rows": null,
       "height": null,
       "justify_content": null,
       "justify_items": null,
       "left": null,
       "margin": null,
       "max_height": null,
       "max_width": null,
       "min_height": null,
       "min_width": null,
       "object_fit": null,
       "object_position": null,
       "order": null,
       "overflow": null,
       "padding": null,
       "right": null,
       "top": null,
       "visibility": null,
       "width": null
      }
     },
     "0d376b7297e9427cb746176405dfb953": {
      "model_module": "@jupyter-widgets/base",
      "model_module_version": "2.0.0",
      "model_name": "LayoutModel",
      "state": {
       "_model_module": "@jupyter-widgets/base",
       "_model_module_version": "2.0.0",
       "_model_name": "LayoutModel",
       "_view_count": null,
       "_view_module": "@jupyter-widgets/base",
       "_view_module_version": "2.0.0",
       "_view_name": "LayoutView",
       "align_content": null,
       "align_items": null,
       "align_self": null,
       "border_bottom": null,
       "border_left": null,
       "border_right": null,
       "border_top": null,
       "bottom": null,
       "display": null,
       "flex": null,
       "flex_flow": null,
       "grid_area": null,
       "grid_auto_columns": null,
       "grid_auto_flow": null,
       "grid_auto_rows": null,
       "grid_column": null,
       "grid_gap": null,
       "grid_row": null,
       "grid_template_areas": null,
       "grid_template_columns": null,
       "grid_template_rows": null,
       "height": null,
       "justify_content": null,
       "justify_items": null,
       "left": null,
       "margin": null,
       "max_height": null,
       "max_width": null,
       "min_height": null,
       "min_width": null,
       "object_fit": null,
       "object_position": null,
       "order": null,
       "overflow": null,
       "padding": null,
       "right": null,
       "top": null,
       "visibility": null,
       "width": null
      }
     },
     "1756abc546b44870aa127b3d151382ce": {
      "model_module": "@jupyter-widgets/controls",
      "model_module_version": "2.0.0",
      "model_name": "FloatProgressModel",
      "state": {
       "_dom_classes": [],
       "_model_module": "@jupyter-widgets/controls",
       "_model_module_version": "2.0.0",
       "_model_name": "FloatProgressModel",
       "_view_count": null,
       "_view_module": "@jupyter-widgets/controls",
       "_view_module_version": "2.0.0",
       "_view_name": "ProgressView",
       "bar_style": "success",
       "description": "",
       "description_allow_html": false,
       "layout": "IPY_MODEL_0a21b8b8f32e41f4bf44c2180948fa9a",
       "max": 3.0,
       "min": 0.0,
       "orientation": "horizontal",
       "style": "IPY_MODEL_4716c38e49394dd5906085490fbc8f7f",
       "tabbable": null,
       "tooltip": null,
       "value": 3.0
      }
     },
     "1ddbf301b4ac43a591b15b03b91580cb": {
      "model_module": "@jupyter-widgets/controls",
      "model_module_version": "2.0.0",
      "model_name": "HTMLStyleModel",
      "state": {
       "_model_module": "@jupyter-widgets/controls",
       "_model_module_version": "2.0.0",
       "_model_name": "HTMLStyleModel",
       "_view_count": null,
       "_view_module": "@jupyter-widgets/base",
       "_view_module_version": "2.0.0",
       "_view_name": "StyleView",
       "background": null,
       "description_width": "",
       "font_size": null,
       "text_color": null
      }
     },
     "4716c38e49394dd5906085490fbc8f7f": {
      "model_module": "@jupyter-widgets/controls",
      "model_module_version": "2.0.0",
      "model_name": "ProgressStyleModel",
      "state": {
       "_model_module": "@jupyter-widgets/controls",
       "_model_module_version": "2.0.0",
       "_model_name": "ProgressStyleModel",
       "_view_count": null,
       "_view_module": "@jupyter-widgets/base",
       "_view_module_version": "2.0.0",
       "_view_name": "StyleView",
       "bar_color": null,
       "description_width": ""
      }
     },
     "47a3db8252a44fc79537af22a7e1f85c": {
      "model_module": "@jupyter-widgets/controls",
      "model_module_version": "2.0.0",
      "model_name": "HBoxModel",
      "state": {
       "_dom_classes": [],
       "_model_module": "@jupyter-widgets/controls",
       "_model_module_version": "2.0.0",
       "_model_name": "HBoxModel",
       "_view_count": null,
       "_view_module": "@jupyter-widgets/controls",
       "_view_module_version": "2.0.0",
       "_view_name": "HBoxView",
       "box_style": "",
       "children": [
        "IPY_MODEL_7cb31f872cd4462aa0a7157776515974",
        "IPY_MODEL_1756abc546b44870aa127b3d151382ce",
        "IPY_MODEL_f9fc44edec644e9ab24ec0e68875184d"
       ],
       "layout": "IPY_MODEL_0d376b7297e9427cb746176405dfb953",
       "tabbable": null,
       "tooltip": null
      }
     },
     "7cb31f872cd4462aa0a7157776515974": {
      "model_module": "@jupyter-widgets/controls",
      "model_module_version": "2.0.0",
      "model_name": "HTMLModel",
      "state": {
       "_dom_classes": [],
       "_model_module": "@jupyter-widgets/controls",
       "_model_module_version": "2.0.0",
       "_model_name": "HTMLModel",
       "_view_count": null,
       "_view_module": "@jupyter-widgets/controls",
       "_view_module_version": "2.0.0",
       "_view_name": "HTMLView",
       "description": "",
       "description_allow_html": false,
       "layout": "IPY_MODEL_da0284804701457486f3218ca37d9fbd",
       "placeholder": "​",
       "style": "IPY_MODEL_1ddbf301b4ac43a591b15b03b91580cb",
       "tabbable": null,
       "tooltip": null,
       "value": "100%"
      }
     },
     "a28d6280cb3e4d8f8aed0e876661ae03": {
      "model_module": "@jupyter-widgets/controls",
      "model_module_version": "2.0.0",
      "model_name": "HTMLStyleModel",
      "state": {
       "_model_module": "@jupyter-widgets/controls",
       "_model_module_version": "2.0.0",
       "_model_name": "HTMLStyleModel",
       "_view_count": null,
       "_view_module": "@jupyter-widgets/base",
       "_view_module_version": "2.0.0",
       "_view_name": "StyleView",
       "background": null,
       "description_width": "",
       "font_size": null,
       "text_color": null
      }
     },
     "da0284804701457486f3218ca37d9fbd": {
      "model_module": "@jupyter-widgets/base",
      "model_module_version": "2.0.0",
      "model_name": "LayoutModel",
      "state": {
       "_model_module": "@jupyter-widgets/base",
       "_model_module_version": "2.0.0",
       "_model_name": "LayoutModel",
       "_view_count": null,
       "_view_module": "@jupyter-widgets/base",
       "_view_module_version": "2.0.0",
       "_view_name": "LayoutView",
       "align_content": null,
       "align_items": null,
       "align_self": null,
       "border_bottom": null,
       "border_left": null,
       "border_right": null,
       "border_top": null,
       "bottom": null,
       "display": null,
       "flex": null,
       "flex_flow": null,
       "grid_area": null,
       "grid_auto_columns": null,
       "grid_auto_flow": null,
       "grid_auto_rows": null,
       "grid_column": null,
       "grid_gap": null,
       "grid_row": null,
       "grid_template_areas": null,
       "grid_template_columns": null,
       "grid_template_rows": null,
       "height": null,
       "justify_content": null,
       "justify_items": null,
       "left": null,
       "margin": null,
       "max_height": null,
       "max_width": null,
       "min_height": null,
       "min_width": null,
       "object_fit": null,
       "object_position": null,
       "order": null,
       "overflow": null,
       "padding": null,
       "right": null,
       "top": null,
       "visibility": null,
       "width": null
      }
     },
     "f9fc44edec644e9ab24ec0e68875184d": {
      "model_module": "@jupyter-widgets/controls",
      "model_module_version": "2.0.0",
      "model_name": "HTMLModel",
      "state": {
       "_dom_classes": [],
       "_model_module": "@jupyter-widgets/controls",
       "_model_module_version": "2.0.0",
       "_model_name": "HTMLModel",
       "_view_count": null,
       "_view_module": "@jupyter-widgets/controls",
       "_view_module_version": "2.0.0",
       "_view_name": "HTMLView",
       "description": "",
       "description_allow_html": false,
       "layout": "IPY_MODEL_fee814a4789a4851bd2a5b0fa45177d9",
       "placeholder": "​",
       "style": "IPY_MODEL_a28d6280cb3e4d8f8aed0e876661ae03",
       "tabbable": null,
       "tooltip": null,
       "value": " 3/3 [04:47&lt;00:00, 91.98s/it]"
      }
     },
     "fee814a4789a4851bd2a5b0fa45177d9": {
      "model_module": "@jupyter-widgets/base",
      "model_module_version": "2.0.0",
      "model_name": "LayoutModel",
      "state": {
       "_model_module": "@jupyter-widgets/base",
       "_model_module_version": "2.0.0",
       "_model_name": "LayoutModel",
       "_view_count": null,
       "_view_module": "@jupyter-widgets/base",
       "_view_module_version": "2.0.0",
       "_view_name": "LayoutView",
       "align_content": null,
       "align_items": null,
       "align_self": null,
       "border_bottom": null,
       "border_left": null,
       "border_right": null,
       "border_top": null,
       "bottom": null,
       "display": null,
       "flex": null,
       "flex_flow": null,
       "grid_area": null,
       "grid_auto_columns": null,
       "grid_auto_flow": null,
       "grid_auto_rows": null,
       "grid_column": null,
       "grid_gap": null,
       "grid_row": null,
       "grid_template_areas": null,
       "grid_template_columns": null,
       "grid_template_rows": null,
       "height": null,
       "justify_content": null,
       "justify_items": null,
       "left": null,
       "margin": null,
       "max_height": null,
       "max_width": null,
       "min_height": null,
       "min_width": null,
       "object_fit": null,
       "object_position": null,
       "order": null,
       "overflow": null,
       "padding": null,
       "right": null,
       "top": null,
       "visibility": null,
       "width": null
      }
     }
    },
    "version_major": 2,
    "version_minor": 0
   }
  }
 },
 "nbformat": 4,
 "nbformat_minor": 5
}