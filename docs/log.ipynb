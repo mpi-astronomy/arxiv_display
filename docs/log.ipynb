{
 "cells": [
  {
   "cell_type": "markdown",
   "id": "92bcb855",
   "metadata": {
    "papermill": {
     "duration": 0.005192,
     "end_time": "2023-09-29T04:07:16.654212",
     "exception": false,
     "start_time": "2023-09-29T04:07:16.649020",
     "status": "completed"
    },
    "tags": []
   },
   "source": [
    "# MPIA Arxiv on Deck 2\n",
    "\n",
    "Contains the steps to produce the paper extractions."
   ]
  },
  {
   "cell_type": "code",
   "execution_count": 1,
   "id": "3a0d6e11",
   "metadata": {
    "execution": {
     "iopub.execute_input": "2023-09-29T04:07:16.668545Z",
     "iopub.status.busy": "2023-09-29T04:07:16.667433Z",
     "iopub.status.idle": "2023-09-29T04:07:17.261203Z",
     "shell.execute_reply": "2023-09-29T04:07:17.260399Z"
    },
    "papermill": {
     "duration": 0.602347,
     "end_time": "2023-09-29T04:07:17.263605",
     "exception": false,
     "start_time": "2023-09-29T04:07:16.661258",
     "status": "completed"
    },
    "tags": []
   },
   "outputs": [],
   "source": [
    "# Imports\n",
    "import os\n",
    "from IPython.display import Markdown, display\n",
    "from tqdm.notebook import tqdm\n",
    "import warnings\n",
    "from PIL import Image \n",
    "\n",
    "# requires arxiv_on_deck_2\n",
    "\n",
    "from arxiv_on_deck_2.arxiv2 import (get_new_papers, \n",
    "                                    get_paper_from_identifier,\n",
    "                                    retrieve_document_source, \n",
    "                                    get_markdown_badge)\n",
    "from arxiv_on_deck_2 import (latex,\n",
    "                             latex_bib,\n",
    "                             mpia,\n",
    "                             highlight_authors_in_list)\n",
    "\n",
    "# Sometimes images are really big\n",
    "Image.MAX_IMAGE_PIXELS = 1000000000 "
   ]
  },
  {
   "cell_type": "code",
   "execution_count": 2,
   "id": "22aa9d44",
   "metadata": {
    "execution": {
     "iopub.execute_input": "2023-09-29T04:07:17.274192Z",
     "iopub.status.busy": "2023-09-29T04:07:17.273652Z",
     "iopub.status.idle": "2023-09-29T04:07:17.281498Z",
     "shell.execute_reply": "2023-09-29T04:07:17.280798Z"
    },
    "papermill": {
     "duration": 0.014735,
     "end_time": "2023-09-29T04:07:17.283339",
     "exception": false,
     "start_time": "2023-09-29T04:07:17.268604",
     "status": "completed"
    },
    "tags": []
   },
   "outputs": [],
   "source": [
    "# Some useful definitions.\n",
    "\n",
    "class AffiliationWarning(UserWarning):\n",
    "    pass\n",
    "\n",
    "class AffiliationError(RuntimeError):\n",
    "    pass\n",
    "\n",
    "def validation(source: str):\n",
    "    \"\"\"Raises error paper during parsing of source file\n",
    "    \n",
    "    Allows checks before parsing TeX code.\n",
    "    \n",
    "    Raises AffiliationWarning\n",
    "    \"\"\"\n",
    "    check = mpia.affiliation_verifications(source, verbose=True)\n",
    "    if check is not True:\n",
    "        raise AffiliationError(\"mpia.affiliation_verifications: \" + check)\n",
    "\n",
    "        \n",
    "warnings.simplefilter('always', AffiliationWarning)\n",
    "\n",
    "\n",
    "def get_markdown_qrcode(paper_id: str):\n",
    "    \"\"\" Generate a qrcode to the arxiv page using qrserver.com\n",
    "    \n",
    "    :param paper: Arxiv paper\n",
    "    :returns: markdown text\n",
    "    \"\"\"\n",
    "    url = r\"https://api.qrserver.com/v1/create-qr-code/?size=100x100&data=\"\n",
    "    txt = f\"\"\"<img src={url}\"https://arxiv.org/abs/{paper_id}\">\"\"\"\n",
    "    txt = '<div id=\"qrcode\">' + txt + '</div>'\n",
    "    return txt"
   ]
  },
  {
   "cell_type": "markdown",
   "id": "14bd6310",
   "metadata": {
    "papermill": {
     "duration": 0.003715,
     "end_time": "2023-09-29T04:07:17.291029",
     "exception": false,
     "start_time": "2023-09-29T04:07:17.287314",
     "status": "completed"
    },
    "tags": []
   },
   "source": [
    "## get list of arxiv paper candidates\n",
    "\n",
    "We use the MPIA mitarbeiter list webpage from mpia.de to get author names\n",
    "We then get all new papers from Arxiv and match authors"
   ]
  },
  {
   "cell_type": "code",
   "execution_count": 3,
   "id": "2645e73a",
   "metadata": {
    "execution": {
     "iopub.execute_input": "2023-09-29T04:07:17.300414Z",
     "iopub.status.busy": "2023-09-29T04:07:17.299734Z",
     "iopub.status.idle": "2023-09-29T04:07:39.564930Z",
     "shell.execute_reply": "2023-09-29T04:07:39.563912Z"
    },
    "papermill": {
     "duration": 22.272453,
     "end_time": "2023-09-29T04:07:39.567129",
     "exception": false,
     "start_time": "2023-09-29T04:07:17.294676",
     "status": "completed"
    },
    "tags": []
   },
   "outputs": [
    {
     "name": "stdout",
     "output_type": "stream",
     "text": [
      "K. El-Badry  ->  K. El-Badry  |  ['K. El-Badry']\n",
      "M. Hobson  ->  M. Hobson  |  ['M. Hobson']\n",
      "F. Walter  ->  F. Walter  |  ['F. Walter']\n",
      "A. Müller  ->  A. Müller  |  ['A. Müller']\n"
     ]
    },
    {
     "name": "stdout",
     "output_type": "stream",
     "text": [
      "J. Li  ->  J. Li  |  ['J. Li']\n",
      "Arxiv has 76 new papers today\n",
      "          5 with possible author matches\n"
     ]
    }
   ],
   "source": [
    "# get list from MPIA website\n",
    "# it automatically filters identified non-scientists :func:`mpia.filter_non_scientists`\n",
    "mpia_authors = mpia.get_mpia_mitarbeiter_list()\n",
    "normed_mpia_authors = [k[1] for k in mpia_authors]   # initials + fullname\n",
    "new_papers = get_new_papers()\n",
    "# add manual references\n",
    "add_paper_refs = []\n",
    "new_papers.extend([get_paper_from_identifier(k) for k in add_paper_refs])\n",
    "\n",
    "candidates = []\n",
    "for paperk in new_papers:\n",
    "    # Check author list with their initials\n",
    "    normed_author_list = [mpia.get_initials(k) for k in paperk['authors']]\n",
    "    hl_authors = highlight_authors_in_list(normed_author_list, normed_mpia_authors, verbose=True)\n",
    "    matches = [(hl, orig) for hl, orig in zip(hl_authors, paperk['authors']) if 'mark' in hl]\n",
    "    paperk['authors'] = hl_authors\n",
    "    if matches:\n",
    "        # only select paper if an author matched our list\n",
    "        candidates.append(paperk)\n",
    "print(\"\"\"Arxiv has {0:,d} new papers today\"\"\".format(len(new_papers)))        \n",
    "print(\"\"\"          {0:,d} with possible author matches\"\"\".format(len(candidates)))"
   ]
  },
  {
   "cell_type": "markdown",
   "id": "3543b34a",
   "metadata": {
    "papermill": {
     "duration": 0.004824,
     "end_time": "2023-09-29T04:07:39.577095",
     "exception": false,
     "start_time": "2023-09-29T04:07:39.572271",
     "status": "completed"
    },
    "tags": []
   },
   "source": [
    "# Parse sources and generate relevant outputs\n",
    "\n",
    "From the candidates, we do the following steps:\n",
    "* get their tarball from ArXiv (and extract data)\n",
    "* find the main .tex file: find one with \\documentclass{...} (sometimes it's non trivial)\n",
    "* Check affiliations with :func:`validation`, which uses :func:`mpia.affiliation_verifications`\n",
    "* If passing the affiliations: we parse the .tex source\n",
    "   * inject sub-documents into the main (flatten the main document)\n",
    "   * parse structure, extract information (title, abstract, authors, figures...)\n",
    "   * handles `\\graphicspath` if provided\n",
    "* Generate the .md document."
   ]
  },
  {
   "cell_type": "code",
   "execution_count": 4,
   "id": "9576b79e",
   "metadata": {
    "execution": {
     "iopub.execute_input": "2023-09-29T04:07:39.587759Z",
     "iopub.status.busy": "2023-09-29T04:07:39.587231Z",
     "iopub.status.idle": "2023-09-29T04:08:02.192943Z",
     "shell.execute_reply": "2023-09-29T04:08:02.192222Z"
    },
    "papermill": {
     "duration": 22.614051,
     "end_time": "2023-09-29T04:08:02.195328",
     "exception": false,
     "start_time": "2023-09-29T04:07:39.581277",
     "status": "completed"
    },
    "scrolled": false,
    "tags": []
   },
   "outputs": [
    {
     "data": {
      "application/vnd.jupyter.widget-view+json": {
       "model_id": "e9a521c6855c4b1083a99c131f3b0cea",
       "version_major": 2,
       "version_minor": 0
      },
      "text/plain": [
       "  0%|          | 0/5 [00:00<?, ?it/s]"
      ]
     },
     "metadata": {},
     "output_type": "display_data"
    },
    {
     "name": "stdout",
     "output_type": "stream",
     "text": [
      "Retrieving document from  https://arxiv.org/e-print/2309.15905\n"
     ]
    },
    {
     "name": "stdout",
     "output_type": "stream",
     "text": [
      "extracting tarball to tmp_2309.15905..."
     ]
    },
    {
     "name": "stdout",
     "output_type": "stream",
     "text": [
      " done.\n"
     ]
    },
    {
     "name": "stderr",
     "output_type": "stream",
     "text": [
      "/opt/hostedtoolcache/Python/3.9.18/x64/lib/python3.9/site-packages/arxiv_on_deck_2/latex.py:473: LatexWarning: Error parsing the document directly. Trying to recover.\n",
      "  warnings.warn(LatexWarning(f\"Error parsing the document directly. Trying to recover.\"))\n"
     ]
    },
    {
     "name": "stdout",
     "output_type": "stream",
     "text": [
      "✔ → 0:header\n",
      "  ↳ 3481:\\section{Introduction}\n",
      "✔ → 3481:\\section{Introduction}\n",
      "  ↳ 9894:\\section{Discovery} \\label{sec:discovery}\n"
     ]
    },
    {
     "name": "stdout",
     "output_type": "stream",
     "text": [
      "✔ → 9894:\\section{Discovery} \\label{sec:discovery}\n",
      "  ↳ 13282:\\section{Follow-up} \\label{sec:follow-up}\n"
     ]
    },
    {
     "name": "stdout",
     "output_type": "stream",
     "text": [
      "✔ → 13282:\\section{Follow-up} \\label{sec:follow-up}\n",
      "  ↳ 34958:\\section{Orbital fits} \\label{sec:rvs}\n"
     ]
    },
    {
     "name": "stdout",
     "output_type": "stream",
     "text": [
      "✘ → 34958:\\section{Orbital fits} \\label{sec:rvs}\n",
      "  ↳ 55659:\\section{Comparison to other binary populations} \\label{sec:comparison}\n"
     ]
    },
    {
     "name": "stdout",
     "output_type": "stream",
     "text": [
      "✔ → 55659:\\section{Comparison to other binary populations} \\label{sec:comparison}\n",
      "  ↳ 67368:\\section{Feasibility of formation through common envelope evolution} \\label{sec:mesa}\n"
     ]
    },
    {
     "name": "stdout",
     "output_type": "stream",
     "text": [
      "✔ → 67368:\\section{Feasibility of formation through common envelope evolution} \\label{sec:mesa}\n",
      "  ↳ 83443:\\section{Discussion} \\label{sec:discussion}\n",
      "✔ → 83443:\\section{Discussion} \\label{sec:discussion}\n",
      "  ↳ 90040:\\section{Conclusions} \\label{sec:conclusion}\n"
     ]
    },
    {
     "name": "stdout",
     "output_type": "stream",
     "text": [
      "✔ → 90040:\\section{Conclusions} \\label{sec:conclusion}\n",
      "  ↳ 141594:\\section{Radial velocities} \\label{appendix:rvs}\n"
     ]
    },
    {
     "name": "stdout",
     "output_type": "stream",
     "text": [
      "✔ → 141594:\\section{Radial velocities} \\label{appendix:rvs}\n",
      "  ↳ 147499:\\section{SED contribution from WDs} \\label{appendix:wd_sed}\n",
      "✔ → 147499:\\section{SED contribution from WDs} \\label{appendix:wd_sed}\n",
      "  ↳ 149522:end\n"
     ]
    },
    {
     "name": "stdout",
     "output_type": "stream",
     "text": [
      "list index out of range\n",
      "Retrieving document from  https://arxiv.org/e-print/2309.15906\n"
     ]
    },
    {
     "name": "stdout",
     "output_type": "stream",
     "text": [
      "extracting tarball to tmp_2309.15906..."
     ]
    },
    {
     "name": "stdout",
     "output_type": "stream",
     "text": [
      " done.\n",
      "Retrieving document from  https://arxiv.org/e-print/2309.15934\n"
     ]
    },
    {
     "name": "stderr",
     "output_type": "stream",
     "text": [
      "/opt/hostedtoolcache/Python/3.9.18/x64/lib/python3.9/site-packages/IPython/core/interactiveshell.py:3526: LatexWarning: Multiple tex files.\n",
      "\n",
      "  exec(code_obj, self.user_global_ns, self.user_ns)\n",
      "/opt/hostedtoolcache/Python/3.9.18/x64/lib/python3.9/site-packages/IPython/core/interactiveshell.py:3526: LatexWarning: Found documentclass in tmp_2309.15906/aassymbols.tex\n",
      "\n",
      "  exec(code_obj, self.user_global_ns, self.user_ns)\n"
     ]
    },
    {
     "name": "stdout",
     "output_type": "stream",
     "text": [
      "extracting tarball to tmp_2309.15934..."
     ]
    },
    {
     "name": "stdout",
     "output_type": "stream",
     "text": [
      " done.\n",
      "Retrieving document from  https://arxiv.org/e-print/2309.16294\n"
     ]
    },
    {
     "name": "stdout",
     "output_type": "stream",
     "text": [
      "extracting tarball to tmp_2309.16294..."
     ]
    },
    {
     "name": "stdout",
     "output_type": "stream",
     "text": [
      " done.\n",
      "Retrieving document from  https://arxiv.org/e-print/2309.16528\n"
     ]
    },
    {
     "name": "stderr",
     "output_type": "stream",
     "text": [
      "/opt/hostedtoolcache/Python/3.9.18/x64/lib/python3.9/site-packages/IPython/core/interactiveshell.py:3526: LatexWarning: Multiple tex files.\n",
      "\n",
      "  exec(code_obj, self.user_global_ns, self.user_ns)\n",
      "/opt/hostedtoolcache/Python/3.9.18/x64/lib/python3.9/site-packages/IPython/core/interactiveshell.py:3526: LatexWarning: Found documentclass in tmp_2309.16294/AugerOpenData.tex\n",
      "\n",
      "  exec(code_obj, self.user_global_ns, self.user_ns)\n",
      "/opt/hostedtoolcache/Python/3.9.18/x64/lib/python3.9/site-packages/arxiv_on_deck_2/latex.py:399: LatexWarning: Latex injecting: 'acknowledgments' from 'tmp_2309.16294/acknowledgments.tex'\n",
      "  warnings.warn(LatexWarning(f\"Latex injecting: '{ext}' from '{subsource}'\"))\n",
      "/opt/hostedtoolcache/Python/3.9.18/x64/lib/python3.9/site-packages/arxiv_on_deck_2/latex.py:399: LatexWarning: Latex injecting: 'latex_authorlist_institutions' from 'tmp_2309.16294/latex_authorlist_institutions.tex'\n",
      "  warnings.warn(LatexWarning(f\"Latex injecting: '{ext}' from '{subsource}'\"))\n",
      "/opt/hostedtoolcache/Python/3.9.18/x64/lib/python3.9/site-packages/arxiv_on_deck_2/latex.py:399: LatexWarning: Latex injecting: 'latex_authorlist_authors' from 'tmp_2309.16294/latex_authorlist_authors.tex'\n",
      "  warnings.warn(LatexWarning(f\"Latex injecting: '{ext}' from '{subsource}'\"))\n"
     ]
    },
    {
     "name": "stdout",
     "output_type": "stream",
     "text": [
      "extracting tarball to tmp_2309.16528..."
     ]
    },
    {
     "name": "stdout",
     "output_type": "stream",
     "text": [
      " done.\n"
     ]
    }
   ],
   "source": [
    "documents = []\n",
    "failed = []\n",
    "for paper in tqdm(candidates):\n",
    "    paper_id = paper['identifier'].lower().replace('arxiv:', '')\n",
    "    \n",
    "    folder = f'tmp_{paper_id}'\n",
    "\n",
    "    try:\n",
    "        if not os.path.isdir(folder):\n",
    "            folder = retrieve_document_source(f\"{paper_id}\", f'tmp_{paper_id}')\n",
    "        \n",
    "        try:\n",
    "            doc = latex.LatexDocument(folder, validation=validation)    \n",
    "        except AffiliationError as affilerror:\n",
    "            msg = f\"ArXiv:{paper_id:s} is not an MPIA paper... \" + str(affilerror)\n",
    "            failed.append((paper, \"affiliation error: \" + str(affilerror) ))\n",
    "            continue\n",
    "        \n",
    "        # Hack because sometimes author parsing does not work well\n",
    "        if (len(doc.authors) != len(paper['authors'])):\n",
    "            doc._authors = paper['authors']\n",
    "        else:\n",
    "            # highlight authors (FIXME: doc.highlight_authors)\n",
    "            # done on arxiv paper already\n",
    "            doc._authors = highlight_authors_in_list(\n",
    "                [mpia.get_initials(k) for k in doc.authors], \n",
    "                normed_mpia_authors, verbose=True)\n",
    "        if (doc.abstract) in (None, ''):\n",
    "            doc._abstract = paper['abstract']\n",
    "            \n",
    "        doc.comment = (get_markdown_badge(paper_id) + \n",
    "                       \"<mark>Appeared on: \" + paper['date'] + \"</mark> - \")\n",
    "        if paper['comments']:\n",
    "            doc.comment += \" _\" + paper['comments'] + \"_\"\n",
    "        \n",
    "        full_md = doc.generate_markdown_text()\n",
    "        \n",
    "        full_md += get_markdown_qrcode(paper_id)\n",
    "        \n",
    "        # replace citations\n",
    "        try:\n",
    "            bibdata = latex_bib.LatexBib.from_doc(doc)\n",
    "            full_md = latex_bib.replace_citations(full_md, bibdata)\n",
    "        except Exception as e:\n",
    "            print(e)\n",
    "        \n",
    "        documents.append((paper_id, full_md))\n",
    "    except Exception as e:\n",
    "        warnings.warn(latex.LatexWarning(f\"{paper_id:s} did not run properly\\n\" +\n",
    "                                         str(e)\n",
    "                                        ))\n",
    "        failed.append((paper, \"latex error \" + str(e)))"
   ]
  },
  {
   "cell_type": "markdown",
   "id": "2505a25c",
   "metadata": {
    "papermill": {
     "duration": 0.00559,
     "end_time": "2023-09-29T04:08:02.206767",
     "exception": false,
     "start_time": "2023-09-29T04:08:02.201177",
     "status": "completed"
    },
    "tags": []
   },
   "source": [
    "### Export the logs\n",
    "\n",
    "Throughout, we also keep track of the logs per paper. see `logs-{today date}.md` "
   ]
  },
  {
   "cell_type": "code",
   "execution_count": 5,
   "id": "d733828a",
   "metadata": {
    "execution": {
     "iopub.execute_input": "2023-09-29T04:08:02.219874Z",
     "iopub.status.busy": "2023-09-29T04:08:02.219064Z",
     "iopub.status.idle": "2023-09-29T04:08:02.238599Z",
     "shell.execute_reply": "2023-09-29T04:08:02.237884Z"
    },
    "papermill": {
     "duration": 0.028052,
     "end_time": "2023-09-29T04:08:02.240247",
     "exception": false,
     "start_time": "2023-09-29T04:08:02.212195",
     "status": "completed"
    },
    "scrolled": false,
    "tags": []
   },
   "outputs": [
    {
     "data": {
      "text/markdown": [
       "## Successful papers"
      ],
      "text/plain": [
       "<IPython.core.display.Markdown object>"
      ]
     },
     "metadata": {},
     "output_type": "display_data"
    },
    {
     "data": {
      "text/markdown": [
       "\n",
       "|||\n",
       "|---:|:---|\n",
       "| [![arXiv](https://img.shields.io/badge/arXiv-arXiv:2309.15905-b31b1b.svg)](https://arxiv.org/abs/arXiv:2309.15905) | **Wide post-common envelope binaries containing ultramassive white dwarfs:  evidence for efficient envelope ejection in massive AGB stars**  |\n",
       "|| N. Yamaguchi, et al. -- incl., <mark>K. El-Badry</mark>, <mark>M. Hobson</mark> |\n",
       "|*Appeared on*| *2023-09-29*|\n",
       "|*Comments*| *19 pages, 9 figures, submitted to MNRAS*|\n",
       "|**Abstract**| Post-common-envelope binaries (PCEBs) containing a white dwarf (WD) and a main-sequence (MS) star can constrain the physics of common envelope evolution and calibrate binary evolution models. Most PCEBs studied to date have short orbital periods ($P_{\\rm orb} \\lesssim 1$ d), implying relatively inefficient harnessing of binaries' orbital energy for envelope expulsion. Here, we present follow-up observations of five binaries from {\\it Gaia} DR3 containing solar-type MS stars and probable ultramassive WDs ($M\\gtrsim 1.2\\,M_{\\odot}$) with significantly wider orbits than previously known PCEBs, $P_{\\rm orb} = 18-49$ d. The WD masses are much higher than expected for systems formed via stable mass transfer at these periods, and their near-circular orbits suggest partial tidal circularization when the WD progenitors were giants. These properties strongly suggest that the binaries are PCEBs. Forming PCEBs at such wide separations requires highly efficient envelope ejection, and we find that the observed periods can only be explained if a significant fraction of the energy released when the envelope recombines goes into ejecting it. Using 1D stellar evolution calculations, we show that the binding energy of massive AGB star envelopes is formally {\\it positive} if recombination energy is included in the energy budget. This suggests that the star's envelope can be efficiently ejected if binary interaction causes it to recombine, and that a wide range of PCEB orbital periods can potentially result from Roche lobe overflow of an AGB star. This evolutionary scenario may also explain the formation of several wide WD+MS binaries discovered via self-lensing. |"
      ],
      "text/plain": [
       "[arXiv:2309.15905] Wide post-common envelope binaries containing ultramassive white dwarfs:  evidence for efficient envelope ejection in massive AGB stars\n",
       "\tN. Yamaguchi, et al. -- incl., <mark>K. El-Badry</mark>, <mark>M. Hobson</mark>"
      ]
     },
     "metadata": {},
     "output_type": "display_data"
    },
    {
     "data": {
      "text/markdown": [
       "## Failed papers"
      ],
      "text/plain": [
       "<IPython.core.display.Markdown object>"
      ]
     },
     "metadata": {},
     "output_type": "display_data"
    },
    {
     "data": {
      "text/markdown": [
       "\n",
       "|||\n",
       "|---:|:---|\n",
       "| [![arXiv](https://img.shields.io/badge/arXiv-arXiv:2309.16528-b31b1b.svg)](https://arxiv.org/abs/arXiv:2309.16528) | **A new discovery space opened by eROSITA: Ionised AGN outflows from X-ray  selected samples**  |\n",
       "|| B. Musiimenta, et al. -- incl., <mark>J. Li</mark> |\n",
       "|*Appeared on*| *2023-09-29*|\n",
       "|*Comments*| *Accepted for publication in Astronomy and Astrophysics(A&A), 24 pages, 18 figures, 5 tables*|\n",
       "|**Abstract**| In the context of an evolutionary model, the outflow phase of an Active Galactic Nuclei (AGN) occurs at the peak of its activity, once the central SMBH is massive enough to generate sufficient power to counterbalance the potential well of the host galaxy. This phase plays a vital role in galaxy evolution. We aim to apply various selection methods to isolate powerful AGNs in the feedback phase, trace and characterise their outflows, and explore the link between AGN luminosity and outflow properties. We applied a combination of methods to the eROSITA Final Equatorial Depth survey (eFEDS) catalogue and isolated ~1400 candidates at z>0.5 out of ~11750 AGNs (~12\\%). We tested the robustness of our selection on the small subsample of 50 sources with available good quality SDSS spectra at 0.5<z<1, for which we fitted the [OIII] emission line complex and searched for the presence of ionised gas outflows. We identified 23 quasars (~45\\%) with evidence of ionised outflows based on the presence of significant broad and shifted components in the [OIII] line. They are on average more luminous and more obscured than the parent sample, although this may be ascribed to selection effects affecting the good quality SDSS spectra sample. By adding 118 outflowing quasars at 0.5<z<3.5 from the literature, we find a weak correlation between the maximum outflow velocity and AGN bolometric luminosity. On the contrary, we find strong correlations between mass outflow rate and outflow kinetic power with the AGN bolometric luminosity. About 30\\% of our sample have kinetic coupling efficiencies >1\\%. We find that the majority of the outflows have momentum flux ratios lower than 20 which rules out an energy-conserving nature. Our present work points to the unequivocal existence of a rather short AGN outflow phase, paving the way towards a new avenue to dissect AGN outflows in large samples within eROSITA and beyond. |\n",
       "|<p style=\"color:green\"> **ERROR** </p>| <p style=\"color:green\">affiliation error: mpia.affiliation_verifications: '69117' keyword not found.</p> |"
      ],
      "text/plain": [
       "<IPython.core.display.Markdown object>"
      ]
     },
     "metadata": {},
     "output_type": "display_data"
    },
    {
     "data": {
      "text/markdown": [
       "\n",
       "|||\n",
       "|---:|:---|\n",
       "| [![arXiv](https://img.shields.io/badge/arXiv-arXiv:2309.15906-b31b1b.svg)](https://arxiv.org/abs/arXiv:2309.15906) | **[CII] Spectral Mapping of the Galactic Wind and Starbursting Disk of M82  with SOFIA**  |\n",
       "|| R. C. Levy, et al. -- incl., <mark>F. Walter</mark> |\n",
       "|*Appeared on*| *2023-09-29*|\n",
       "|*Comments*| *22 pages, 9 figures, Accepted for publication in ApJ*|\n",
       "|**Abstract**| M82 is an archetypal starburst galaxy in the local Universe. The central burst of star formation, thought to be triggered by M82's interaction with other members in the M81 group, is driving a multiphase galaxy-scale wind away from the plane of the disk that has been studied across the electromagnetic spectrum. Here, we present new velocity-resolved observations of the [CII] 158$\\mu$m line in the central disk and the southern outflow of M82 using the upGREAT instrument onboard SOFIA. We also report the first detections of velocity-resolved ($\\Delta V = 10$ km s$^{-1}$) [CII] emission in the outflow of M82 at projected distances of $\\approx1-2$ kpc south of the galaxy center. We compare the [CII] line profiles to observations of CO and HI and find that likely the majority ($>55$%) of the [CII] emission in the outflow is associated with the neutral atomic medium. We find that the fraction of [CII] actually outflowing from M82 is small compared to the bulk gas outside the midplane (which may be in a halo or tidal streamers), which has important implications for observations of [CII] outflows at higher redshift. Finally, by comparing the observed ratio of the [CII] and CO intensities to models of photodissociation regions, we estimate that the far-ultraviolet (FUV) radiation field in the disk is $\\sim10^{3.5}~G_0$, in agreement with previous estimates. In the outflow, however, the FUV radiation field is 2-3 orders of magnitudes lower, which may explain the high fraction of [CII] arising from the neutral medium in the wind. |\n",
       "|<p style=\"color:green\"> **ERROR** </p>| <p style=\"color:green\">affiliation error: mpia.affiliation_verifications: 'Heidelberg' keyword not found.</p> |"
      ],
      "text/plain": [
       "<IPython.core.display.Markdown object>"
      ]
     },
     "metadata": {},
     "output_type": "display_data"
    },
    {
     "data": {
      "text/markdown": [
       "\n",
       "|||\n",
       "|---:|:---|\n",
       "| [![arXiv](https://img.shields.io/badge/arXiv-arXiv:2309.15934-b31b1b.svg)](https://arxiv.org/abs/arXiv:2309.15934) | **The effect of cluster dynamical state on ram-pressure stripping**  |\n",
       "|| A. Lourenço, et al. -- incl., <mark>A. Müller</mark> |\n",
       "|*Appeared on*| *2023-09-29*|\n",
       "|*Comments*| *18 pages, 8 figures. Accepted for publication in MNRAS*|\n",
       "|**Abstract**| Theoretical and observational studies have suggested that ram-pressure stripping by the intracluster medium can be enhanced during cluster interactions, boosting the formation of the \"jellyfish\" galaxies. In this work, we study the incidence of galaxies undergoing ram-pressure stripping in 52 clusters of different dynamical states. We use optical data from the WINGS/OmegaWINGS surveys and archival X-ray data to characterise the dynamical state of our cluster sample, applying eight different proxies. We then compute the number of ram-pressure stripping candidates relative to the infalling population of blue late-type galaxies within a fixed circular aperture in each cluster. We find no clear correlation between the fractions of ram-pressure stripping candidates and the different cluster dynamical state proxies considered. These fractions also show no apparent correlation with cluster mass. To construct a dynamical state classification closer to a merging \"sequence\", we perform a visual classification of the dynamical states of the clusters, combining information available in optical, X-ray, and radio wavelengths. We find a mild increase in the RPS fraction in interacting clusters with respect to all other classes (including post-mergers). This mild enhancement could hint at a short-lived enhanced ram-pressure stripping in ongoing cluster mergers. However, our results are not statistically significant due to the low galaxy numbers. We note this is the first homogeneous attempt to quantify the effect of cluster dynamical state on ram-pressure stripping using a large cluster sample, but even larger (especially wider) multi-wavelength surveys are needed to confirm the results. |\n",
       "|<p style=\"color:green\"> **ERROR** </p>| <p style=\"color:green\">affiliation error: mpia.affiliation_verifications: 'Heidelberg' keyword not found.</p> |"
      ],
      "text/plain": [
       "<IPython.core.display.Markdown object>"
      ]
     },
     "metadata": {},
     "output_type": "display_data"
    },
    {
     "data": {
      "text/markdown": [
       "\n",
       "|||\n",
       "|---:|:---|\n",
       "| [![arXiv](https://img.shields.io/badge/arXiv-arXiv:2309.16294-b31b1b.svg)](https://arxiv.org/abs/arXiv:2309.16294) | **The Pierre Auger Observatory Open Data**  |\n",
       "|| P. A. Collaboration, et al. |\n",
       "|*Appeared on*| *2023-09-29*|\n",
       "|*Comments*| *19 pages, 8 figures*|\n",
       "|**Abstract**| The Pierre Auger Collaboration has embraced the concept of open access to their research data since its foundation, with the aim of giving access to the widest possible community. A gradual process of release began as early as 2007 when 1% of the cosmic-ray data was made public, along with 100% of the space-weather information. In February 2021, a portal was released containing 10% of cosmic-ray data collected from 2004 to 2018, during Phase I of the Observatory. The Portal included detailed documentation about the detection and reconstruction procedures, analysis codes that can be easily used and modified and, additionally, visualization tools. Since then the Portal has been updated and extended. In 2023, a catalog of the 100 highest-energy cosmic-ray events examined in depth has been included. A specific section dedicated to educational use has been developed with the expectation that these data will be explored by a wide and diverse community including professional and citizen-scientists, and used for educational and outreach initiatives. This paper describes the context, the spirit and the technical implementation of the release of data by the largest cosmic-ray detector ever built, and anticipates its future developments. |\n",
       "|<p style=\"color:green\"> **ERROR** </p>| <p style=\"color:green\">affiliation error: mpia.affiliation_verifications: 'Heidelberg' keyword not found.</p> |"
      ],
      "text/plain": [
       "<IPython.core.display.Markdown object>"
      ]
     },
     "metadata": {},
     "output_type": "display_data"
    }
   ],
   "source": [
    "import datetime\n",
    "today = str(datetime.date.today())\n",
    "logfile = f\"_build/html/logs/log-{today}.md\"\n",
    "\n",
    "\n",
    "with open(logfile, 'w') as logs:\n",
    "    # Success\n",
    "    logs.write(f'# Arxiv on Deck 2: Logs - {today}\\n\\n')\n",
    "    logs.write(\"\"\"* Arxiv had {0:,d} new papers\\n\"\"\".format(len(new_papers)))\n",
    "    logs.write(\"\"\"    * {0:,d} with possible author matches\\n\\n\"\"\".format(len(candidates)))\n",
    "    logs.write(\"## Sucessful papers\\n\\n\")\n",
    "    display(Markdown(\"## Successful papers\"))\n",
    "    success = [k[0] for k in documents]\n",
    "    for candid in candidates:\n",
    "        if candid['identifier'].split(':')[-1] in success:\n",
    "            display(candid)\n",
    "            logs.write(candid.generate_markdown_text() + '\\n\\n')\n",
    "\n",
    "    ## failed\n",
    "    logs.write(\"## Failed papers\\n\\n\")\n",
    "    display(Markdown(\"## Failed papers\"))\n",
    "    failed = sorted(failed, key=lambda x: x[1])\n",
    "    current_reason = \"\"\n",
    "    for paper, reason in failed:\n",
    "        if 'affiliation' in reason:\n",
    "            color = 'green'\n",
    "        else:\n",
    "            color = 'red'\n",
    "        data = Markdown(\n",
    "                paper.generate_markdown_text() + \n",
    "                f'\\n|<p style=\"color:{color:s}\"> **ERROR** </p>| <p style=\"color:{color:s}\">{reason:s}</p> |'\n",
    "               )\n",
    "        if reason != current_reason:\n",
    "            logs.write(f'### {reason:s} \\n\\n')\n",
    "            current_reason = reason\n",
    "        logs.write(data.data + '\\n\\n')\n",
    "        \n",
    "        # only display here the important errors (all in logs)\n",
    "        # if color in ('red',):\n",
    "        display(data)"
   ]
  },
  {
   "cell_type": "markdown",
   "id": "472d20ee",
   "metadata": {
    "papermill": {
     "duration": 0.006352,
     "end_time": "2023-09-29T04:08:02.253093",
     "exception": false,
     "start_time": "2023-09-29T04:08:02.246741",
     "status": "completed"
    },
    "tags": []
   },
   "source": [
    "## Export documents\n",
    "\n",
    "We now write the .md files and export relevant images"
   ]
  },
  {
   "cell_type": "code",
   "execution_count": 6,
   "id": "d426aed9",
   "metadata": {
    "execution": {
     "iopub.execute_input": "2023-09-29T04:08:02.267793Z",
     "iopub.status.busy": "2023-09-29T04:08:02.267110Z",
     "iopub.status.idle": "2023-09-29T04:08:02.276318Z",
     "shell.execute_reply": "2023-09-29T04:08:02.275574Z"
    },
    "papermill": {
     "duration": 0.018488,
     "end_time": "2023-09-29T04:08:02.277888",
     "exception": false,
     "start_time": "2023-09-29T04:08:02.259400",
     "status": "completed"
    },
    "tags": []
   },
   "outputs": [],
   "source": [
    "def export_markdown_summary(md: str, md_fname:str, directory: str):\n",
    "    \"\"\"Export MD document and associated relevant images\"\"\"\n",
    "    import os\n",
    "    import shutil\n",
    "    import re\n",
    "\n",
    "    if (os.path.exists(directory) and not os.path.isdir(directory)):\n",
    "        raise RuntimeError(f\"a non-directory file exists with name {directory:s}\")\n",
    "\n",
    "    if (not os.path.exists(directory)):\n",
    "        print(f\"creating directory {directory:s}\")\n",
    "        os.mkdir(directory)\n",
    "\n",
    "    fig_fnames = (re.compile(r'\\[Fig.*\\]\\((.*)\\)').findall(md) + \n",
    "                  re.compile(r'\\<img src=\"([^>\\s]*)\"[^>]*/>').findall(md))\n",
    "    for fname in fig_fnames:\n",
    "        if 'http' in fname:\n",
    "            # No need to copy online figures\n",
    "            continue\n",
    "        destdir = os.path.join(directory, os.path.dirname(fname))\n",
    "        destfname = os.path.join(destdir, os.path.basename(fname))\n",
    "        try:\n",
    "            os.makedirs(destdir)\n",
    "        except FileExistsError:\n",
    "            pass\n",
    "        shutil.copy(fname, destfname)\n",
    "    with open(os.path.join(directory, md_fname), 'w') as fout:\n",
    "        fout.write(md)\n",
    "    print(\"exported in \", os.path.join(directory, md_fname))\n",
    "    [print(\"    + \" + os.path.join(directory,fk)) for fk in fig_fnames]"
   ]
  },
  {
   "cell_type": "code",
   "execution_count": 7,
   "id": "014d04a4",
   "metadata": {
    "execution": {
     "iopub.execute_input": "2023-09-29T04:08:02.292121Z",
     "iopub.status.busy": "2023-09-29T04:08:02.291421Z",
     "iopub.status.idle": "2023-09-29T04:08:02.297452Z",
     "shell.execute_reply": "2023-09-29T04:08:02.296773Z"
    },
    "papermill": {
     "duration": 0.014717,
     "end_time": "2023-09-29T04:08:02.298945",
     "exception": false,
     "start_time": "2023-09-29T04:08:02.284228",
     "status": "completed"
    },
    "tags": []
   },
   "outputs": [
    {
     "name": "stdout",
     "output_type": "stream",
     "text": [
      "exported in  _build/html/2309.15905.md\n",
      "    + _build/html/tmp_2309.15905/./Figures/MESA/HR_Diagram.jpeg\n",
      "    + _build/html/tmp_2309.15905/./Figures/MESA/a_f_plots_a_i.jpeg\n",
      "    + _build/html/tmp_2309.15905/./Figures/avMwd.jpeg\n",
      "    + _build/html/tmp_2309.15905/./Figures/PorbvEcc.jpeg\n"
     ]
    }
   ],
   "source": [
    "for paper_id, md in documents:\n",
    "    export_markdown_summary(md, f\"{paper_id:s}.md\", '_build/html/')"
   ]
  },
  {
   "cell_type": "markdown",
   "id": "f087a0a7",
   "metadata": {
    "papermill": {
     "duration": 0.006668,
     "end_time": "2023-09-29T04:08:02.312156",
     "exception": false,
     "start_time": "2023-09-29T04:08:02.305488",
     "status": "completed"
    },
    "tags": []
   },
   "source": [
    "## Display the papers\n",
    "\n",
    "Not necessary but allows for a quick check."
   ]
  },
  {
   "cell_type": "code",
   "execution_count": 8,
   "id": "fd25f625",
   "metadata": {
    "execution": {
     "iopub.execute_input": "2023-09-29T04:08:02.327015Z",
     "iopub.status.busy": "2023-09-29T04:08:02.326229Z",
     "iopub.status.idle": "2023-09-29T04:08:02.331956Z",
     "shell.execute_reply": "2023-09-29T04:08:02.331276Z"
    },
    "papermill": {
     "duration": 0.01522,
     "end_time": "2023-09-29T04:08:02.333760",
     "exception": false,
     "start_time": "2023-09-29T04:08:02.318540",
     "status": "completed"
    },
    "scrolled": false,
    "tags": []
   },
   "outputs": [
    {
     "data": {
      "text/markdown": [
       "<div class=\"macros\" style=\"visibility:hidden;\">\n",
       "$\\newcommand{\\ensuremath}{}$\n",
       "$\\newcommand{\\xspace}{}$\n",
       "$\\newcommand{\\object}[1]{\\texttt{#1}}$\n",
       "$\\newcommand{\\farcs}{{.}''}$\n",
       "$\\newcommand{\\farcm}{{.}'}$\n",
       "$\\newcommand{\\arcsec}{''}$\n",
       "$\\newcommand{\\arcmin}{'}$\n",
       "$\\newcommand{\\ion}[2]{#1#2}$\n",
       "$\\newcommand{\\textsc}[1]{\\textrm{#1}}$\n",
       "$\\newcommand{\\hl}[1]{\\textrm{#1}}$\n",
       "$\\newcommand{\\footnote}[1]{}$\n",
       "$\\newcommand{\\arraystretch}{1.1}$\n",
       "$\\newcommand{\\thebibliography}{\\DeclareRobustCommand{\\VAN}[3]{##3}\\VANthebibliography}$\n",
       "$\\newcommand{\\}{mn}$\n",
       "$\\newcommand{\\}{mn}$\n",
       "$\\newcommand{\\}{mn}$\n",
       "$\\newcommand{\\}{mn}$\n",
       "$\\newcommand{\\}{mn}$\n",
       "$\\newcommand{\\}{mn}$\n",
       "$\\newcommand{\\}{mn}$\n",
       "$\\newcommand{\\@}{tempa}$\n",
       "$\\newcommand{\\@}{tempa }$\n",
       "$\\newcommand{\\@}{tempb }$\n",
       "$\\newcommand{\\@}{tempc$\n",
       "$  }$\n",
       "$\\newcommand{\\@}{tempb }$</div>\n",
       "\n",
       "\n",
       "\n",
       "<div id=\"title\">\n",
       "\n",
       "# Wide post-common envelope binaries containing ultramassive white dwarfs: evidence for efficient envelope ejection in massive AGB stars\n",
       "\n",
       "</div>\n",
       "<div id=\"comments\">\n",
       "\n",
       "[![arXiv](https://img.shields.io/badge/arXiv-2309.15905-b31b1b.svg)](https://arxiv.org/abs/2309.15905)<mark>Appeared on: 2023-09-29</mark> -  _19 pages, 9 figures, submitted to MNRAS_\n",
       "\n",
       "</div>\n",
       "<div id=\"authors\">\n",
       "\n",
       "N. Yamaguchi, et al. -- incl., <mark>K. El-Badry</mark>, <mark>M. Hobson</mark>\n",
       "\n",
       "</div>\n",
       "<div id=\"abstract\">\n",
       "\n",
       "**Abstract:** Post-common-envelope binaries (PCEBs) containing a white dwarf (WD) and a main-sequence (MS) star can constrain the physics of common envelope evolution and calibrate binary evolution models. Most PCEBs studied to date have short orbital periods ( $P_{\\rm orb} \\lesssim 1$ d), implying relatively inefficient harnessing of binaries' orbital energy for envelope expulsion. Here, we present follow-up observations of five binaries from $_ Gaia_$ DR3 containing solar-type MS stars and probable ultramassive WDs ( $M\\gtrsim 1.2 M_{\\odot}$ ) with significantly wider orbits than previously known PCEBs, $P_{\\rm orb} = 18-49$ d. The WD masses are much higher than expected for systems formed via stable mass transfer at these periods, and their near-circular orbits suggest partial tidal circularization when the WD progenitors were giants. These properties strongly suggest that the binaries are PCEBs. Forming PCEBs at such wide separations requires highly efficient envelope ejection, and we find that the observed periods can only be explained if a significant fraction of the energy released when the envelope recombines goes into ejecting it. Using 1D stellar evolution calculations, we show that the binding energy of massive AGB star envelopes is formally $_ positive_$ if recombination energy is included in the energy budget. This suggests that the star's envelope can be efficiently ejected if binary interaction causes it to recombine, and that a wide range of PCEB orbital periods can potentially result from Roche lobe overflow of an AGB star. This evolutionary scenario may also explain the formation of several wide WD+MS binaries discovered via self-lensing.\n",
       "\n",
       "</div>\n",
       "\n",
       "<div id=\"div_fig1\">\n",
       "\n",
       "<img src=\"tmp_2309.15905/./Figures/MESA/HR_Diagram.jpeg\" alt=\"Fig7.1\" width=\"50%\"/><img src=\"tmp_2309.15905/./Figures/MESA/a_f_plots_a_i.jpeg\" alt=\"Fig7.2\" width=\"50%\"/>\n",
       "\n",
       "**Figure 7. -** _Left_: HR diagram showing the evolution of a $7 M_{\\odot}$ star starting from pre-MS to the AGB. The blue sections indicate what we refer to as the RGB (but which also includes the SGB) and the red sections represents the AGB. _Center_: Plots of the final separation $a_f$(i.e. birth period at the end of CEE) over a range of initial separations $a_i$. $a_i$ is taken to be the orbital semi-major axis when the giant (WD progenitor) fills its Roche lobe. We mark $a_f =$ 0.01 AU $\\sim 2 R_{\\odot}$(red dashed line) below which the MS star would not fit in the orbit and a PCEB cannot form. The orange dashed line is the case where only the gravitational binding energy is considered and $\\alpha_{\\rm CE} = 1$. We see that in this case, no values of $a_i$ result in $a_f > 0.15$ AU (gray dashed line) which is approximately the minimum separation of our objects. The other three lines are the cases where internal energy is added to the binding energy for $\\alpha_{\\rm CE} = 0.3$, 0.6, and 0.9. We see that these lines lie above the dashed line for some range of $a_i$. _Right_: Zoom in on the region where $a_f > 0.15$ AU. We see that overall, $a_i \\sim 3.5 - 4.4$ AU can result in the wide orbital separations of our systems. (*fig:mesa_af*)\n",
       "\n",
       "</div>\n",
       "<div id=\"div_fig2\">\n",
       "\n",
       "<img src=\"tmp_2309.15905/./Figures/avMwd.jpeg\" alt=\"Fig6\" width=\"100%\"/>\n",
       "\n",
       "**Figure 6. -** Periastron separation, $a_{\\rm peri}$, vs. WD mass, $M_{\\rm WD}$, for a sample of PCEBs from \\citet[][circle markers]{Zorotovic2011A&A} and the five objects from this work (stars; the arrows indicate lower limits). IK Peg is distinguished from the other known PCEBs with a triangle marker as it lies very close to our objects. We also plot the PCEBs from the \"white dwarf binary pathways survey\" \\citep[diamond markers;][]{Hernandez2021MNRAS, Hernandez2022MNRAS_vi, Hernandez2022MNRAS}. Finally, we plot self-lensing binaries (SLBs) discovered by \\citet{Kawahara2018AJ} as well as  KOI-3278 \\citep[][also a SLB]{Kruse2014Sci}, which were all detected by _ Kepler_. The colours of the points represents the masses of the luminous MS companions. The dashed gray shows the prediction for stable MT from \\citet{Rappaport1995MNRAS} and the blue line indicates the maximum radius reached by the WD progenitor for a range of WD masses.  (*fig:avMwd*)\n",
       "\n",
       "</div>\n",
       "<div id=\"div_fig3\">\n",
       "\n",
       "<img src=\"tmp_2309.15905/./Figures/PorbvEcc.jpeg\" alt=\"Fig1\" width=\"100%\"/>\n",
       "\n",
       "**Figure 1. -** Eccentricity vs. orbital period. We plot the sample of MSP + WD binaries mainly from the ATNF catalogue (\\citealt{Manchester2005AJ}, with a few others, compiled by \\citealt{Hui2018ApJ}), differentiating between those with minimum WD mass above and below $0.45 M_{\\odot}$(orange triangles and blue circles, respectively). We show our objects with magenta stars. The gray line is the theoretical relation for MSP + He WD binaries formed through stable MT derived by \\citet{Phinney1992RSPTA}. The points circled in red are eMSPs \\citep[e.g., see ][for a description of the five plotted here]{Stovall2019ApJ}. We also circle in green two binaries with massive CO WDs with large eccentricities \\citep{Lorimer2015MNRAS, Berezina2017MNRAS}. (*fig:PvEcc*)\n",
       "\n",
       "</div><div id=\"qrcode\"><img src=https://api.qrserver.com/v1/create-qr-code/?size=100x100&data=\"https://arxiv.org/abs/2309.15905\"></div>"
      ],
      "text/plain": [
       "<IPython.core.display.Markdown object>"
      ]
     },
     "metadata": {},
     "output_type": "display_data"
    }
   ],
   "source": [
    "[display(Markdown(k[1])) for k in documents];"
   ]
  },
  {
   "cell_type": "markdown",
   "id": "873873a4",
   "metadata": {
    "papermill": {
     "duration": 0.006615,
     "end_time": "2023-09-29T04:08:02.347040",
     "exception": false,
     "start_time": "2023-09-29T04:08:02.340425",
     "status": "completed"
    },
    "tags": []
   },
   "source": [
    "# Create HTML index"
   ]
  },
  {
   "cell_type": "code",
   "execution_count": 9,
   "id": "cf665672",
   "metadata": {
    "execution": {
     "iopub.execute_input": "2023-09-29T04:08:02.362338Z",
     "iopub.status.busy": "2023-09-29T04:08:02.361674Z",
     "iopub.status.idle": "2023-09-29T04:08:02.373311Z",
     "shell.execute_reply": "2023-09-29T04:08:02.372503Z"
    },
    "papermill": {
     "duration": 0.021174,
     "end_time": "2023-09-29T04:08:02.374899",
     "exception": false,
     "start_time": "2023-09-29T04:08:02.353725",
     "status": "completed"
    },
    "tags": []
   },
   "outputs": [
    {
     "name": "stdout",
     "output_type": "stream",
     "text": [
      "283  publications files modified in the last 7 days.\n"
     ]
    }
   ],
   "source": [
    "from datetime import datetime, timedelta, timezone\n",
    "from glob import glob\n",
    "import os\n",
    "\n",
    "files = glob('_build/html/*.md')\n",
    "days = 7\n",
    "now = datetime.today()\n",
    "res = []\n",
    "for fk in files:\n",
    "    stat_result = os.stat(fk).st_ctime\n",
    "    modified = datetime.fromtimestamp(stat_result, tz=timezone.utc).replace(tzinfo=None)\n",
    "    delta = now.today() - modified\n",
    "    if delta <= timedelta(days=days):\n",
    "        res.append((delta.seconds, fk))\n",
    "res = [k[1] for k in reversed(sorted(res, key=lambda x:x[1]))]\n",
    "npub = len(res)\n",
    "print(len(res), f\" publications files modified in the last {days:d} days.\")\n",
    "# [ print('\\t', k) for k in res ];"
   ]
  },
  {
   "cell_type": "code",
   "execution_count": 10,
   "id": "015de740",
   "metadata": {
    "execution": {
     "iopub.execute_input": "2023-09-29T04:08:02.390376Z",
     "iopub.status.busy": "2023-09-29T04:08:02.389885Z",
     "iopub.status.idle": "2023-09-29T04:08:02.412513Z",
     "shell.execute_reply": "2023-09-29T04:08:02.411619Z"
    },
    "papermill": {
     "duration": 0.032458,
     "end_time": "2023-09-29T04:08:02.414289",
     "exception": false,
     "start_time": "2023-09-29T04:08:02.381831",
     "status": "completed"
    },
    "tags": []
   },
   "outputs": [
    {
     "name": "stdout",
     "output_type": "stream",
     "text": [
      "6  publications in the last 7 days.\n"
     ]
    }
   ],
   "source": [
    "import datetime\n",
    "from glob import glob\n",
    "\n",
    "def get_last_n_days(lst, days=1):\n",
    "    \"\"\" Get the documents from the last n days \"\"\"\n",
    "    sorted_lst = sorted(lst, key=lambda x: x[1], reverse=True)\n",
    "    for fname, date in sorted_lst:\n",
    "        if date >= str(datetime.date.today() - datetime.timedelta(days=days)):\n",
    "            yield fname\n",
    "\n",
    "def extract_appearance_dates(lst_file):\n",
    "    dates = []\n",
    "\n",
    "    def get_date(line):\n",
    "        return line\\\n",
    "            .split('Appeared on:')[-1]\\\n",
    "            .split('</mark>')[0].strip()\n",
    "\n",
    "    for fname in lst:\n",
    "        with open(fname, 'r') as f:\n",
    "            found_date = False\n",
    "            for line in f:\n",
    "                if not found_date:\n",
    "                    if \"Appeared on\" in line:\n",
    "                        found_date = True\n",
    "                        dates.append((fname, get_date(line)))\n",
    "                else:\n",
    "                    break\n",
    "    return dates\n",
    "\n",
    "from glob import glob\n",
    "lst = glob('_build/html/*md')\n",
    "days = 7\n",
    "dates = extract_appearance_dates(lst)\n",
    "res = list(get_last_n_days(dates, days))\n",
    "npub = len(res)\n",
    "print(len(res), f\" publications in the last {days:d} days.\")"
   ]
  },
  {
   "cell_type": "code",
   "execution_count": 11,
   "id": "52ca0208",
   "metadata": {
    "execution": {
     "iopub.execute_input": "2023-09-29T04:08:02.430890Z",
     "iopub.status.busy": "2023-09-29T04:08:02.430262Z",
     "iopub.status.idle": "2023-09-29T04:08:02.437676Z",
     "shell.execute_reply": "2023-09-29T04:08:02.437034Z"
    },
    "papermill": {
     "duration": 0.017749,
     "end_time": "2023-09-29T04:08:02.439399",
     "exception": false,
     "start_time": "2023-09-29T04:08:02.421650",
     "status": "completed"
    },
    "scrolled": false,
    "tags": []
   },
   "outputs": [],
   "source": [
    "def create_carousel(npub=4):\n",
    "    \"\"\" Generate the HTML code for a carousel with `npub` slides \"\"\"\n",
    "    carousel = [\"\"\"  <div class=\"carousel\" \"\"\",\n",
    "                \"\"\"       data-flickity='{ \"autoPlay\": 10000, \"adaptiveHeight\": true, \"resize\": true, \"wrapAround\": true, \"pauseAutoPlayOnHover\": true, \"groupCells\": 1 }' id=\"asyncTypeset\">\"\"\"\n",
    "                ]\n",
    "    \n",
    "    item_str = \"\"\"    <div class=\"carousel-cell\"> <div id=\"slide{k}\" class=\"md_view\">Content {k}</div> </div>\"\"\"\n",
    "    for k in range(1, npub + 1):\n",
    "        carousel.append(item_str.format(k=k))\n",
    "    carousel.append(\"  </div>\")\n",
    "    return '\\n'.join(carousel)\n",
    "\n",
    "def create_grid(npub=4):\n",
    "    \"\"\" Generate the HTML code for a flat grid with `npub` slides \"\"\"\n",
    "    grid = [\"\"\"  <div class=\"grid\"> \"\"\",\n",
    "                ]\n",
    "    \n",
    "    item_str = \"\"\"    <div class=\"grid-item\"> <div id=\"slide{k}\" class=\"md_view\">Content {k}</div> </div>\"\"\"\n",
    "    for k in range(1, npub + 1):\n",
    "        grid.append(item_str.format(k=k))\n",
    "    grid.append(\"  </div>\")\n",
    "    return '\\n'.join(grid)"
   ]
  },
  {
   "cell_type": "code",
   "execution_count": 12,
   "id": "a6eac5b6",
   "metadata": {
    "execution": {
     "iopub.execute_input": "2023-09-29T04:08:02.455330Z",
     "iopub.status.busy": "2023-09-29T04:08:02.454830Z",
     "iopub.status.idle": "2023-09-29T04:08:02.461389Z",
     "shell.execute_reply": "2023-09-29T04:08:02.460657Z"
    },
    "papermill": {
     "duration": 0.016439,
     "end_time": "2023-09-29T04:08:02.462952",
     "exception": false,
     "start_time": "2023-09-29T04:08:02.446513",
     "status": "completed"
    },
    "scrolled": false,
    "tags": []
   },
   "outputs": [],
   "source": [
    "carousel = create_carousel(npub)\n",
    "docs = ', '.join(['\"{0:s}\"'.format(k.split('/')[-1]) for k in res])\n",
    "slides = ', '.join([f'\"slide{k}\"' for k in range(1, npub + 1)])\n",
    "\n",
    "with open(\"daily_template.html\", \"r\") as tpl:\n",
    "    page = tpl.read()\n",
    "    page = page.replace(\"{%-- carousel:s --%}\", carousel)\\\n",
    "               .replace(\"{%-- suptitle:s --%}\",  \"7-day archives\" )\\\n",
    "               .replace(\"{%-- docs:s --%}\", docs)\\\n",
    "               .replace(\"{%-- slides:s --%}\", slides)\n",
    "    \n",
    "with open(\"_build/html/index_7days.html\", 'w') as fout:\n",
    "    fout.write(page)"
   ]
  },
  {
   "cell_type": "code",
   "execution_count": 13,
   "id": "adc1a1ec",
   "metadata": {
    "execution": {
     "iopub.execute_input": "2023-09-29T04:08:02.479062Z",
     "iopub.status.busy": "2023-09-29T04:08:02.478360Z",
     "iopub.status.idle": "2023-09-29T04:08:02.486423Z",
     "shell.execute_reply": "2023-09-29T04:08:02.485844Z"
    },
    "papermill": {
     "duration": 0.01803,
     "end_time": "2023-09-29T04:08:02.488128",
     "exception": false,
     "start_time": "2023-09-29T04:08:02.470098",
     "status": "completed"
    },
    "tags": []
   },
   "outputs": [
    {
     "name": "stdout",
     "output_type": "stream",
     "text": [
      "4  publications in the last day.\n"
     ]
    }
   ],
   "source": [
    "# redo for today\n",
    "days = 1\n",
    "res = list(get_last_n_days(dates, days))\n",
    "npub = len(res)\n",
    "print(len(res), f\" publications in the last day.\")\n",
    "\n",
    "carousel = create_carousel(npub)\n",
    "docs = ', '.join(['\"{0:s}\"'.format(k.split('/')[-1]) for k in res])\n",
    "slides = ', '.join([f'\"slide{k}\"' for k in range(1, npub + 1)])\n",
    "\n",
    "with open(\"daily_template.html\", \"r\") as tpl:\n",
    "    page = tpl.read()\n",
    "    page = page.replace(\"{%-- carousel:s --%}\", carousel)\\\n",
    "               .replace(\"{%-- suptitle:s --%}\",  \"Daily\" )\\\n",
    "               .replace(\"{%-- docs:s --%}\", docs)\\\n",
    "               .replace(\"{%-- slides:s --%}\", slides)\n",
    "    \n",
    "# print(carousel, docs, slides)\n",
    "# print(page)\n",
    "with open(\"_build/html/index_daily.html\", 'w') as fout:\n",
    "    fout.write(page)"
   ]
  },
  {
   "cell_type": "code",
   "execution_count": 14,
   "id": "00eece82",
   "metadata": {
    "execution": {
     "iopub.execute_input": "2023-09-29T04:08:02.504297Z",
     "iopub.status.busy": "2023-09-29T04:08:02.503521Z",
     "iopub.status.idle": "2023-09-29T04:08:02.512077Z",
     "shell.execute_reply": "2023-09-29T04:08:02.511461Z"
    },
    "papermill": {
     "duration": 0.018438,
     "end_time": "2023-09-29T04:08:02.513625",
     "exception": false,
     "start_time": "2023-09-29T04:08:02.495187",
     "status": "completed"
    },
    "scrolled": false,
    "tags": []
   },
   "outputs": [
    {
     "name": "stdout",
     "output_type": "stream",
     "text": [
      "6  6 publications selected.\n"
     ]
    }
   ],
   "source": [
    "# Create the flat grid of the last N papers (fixed number regardless of dates)\n",
    "from itertools import islice \n",
    "\n",
    "npub = 6\n",
    "res = [k[0] for k in (islice(reversed(sorted(dates, key=lambda x: x[1])), 6))]\n",
    "print(len(res), f\" {npub} publications selected.\")\n",
    "\n",
    "grid = create_grid(npub)\n",
    "docs = ', '.join(['\"{0:s}\"'.format(k.split('/')[-1]) for k in res])\n",
    "slides = ', '.join([f'\"slide{k}\"' for k in range(1, npub + 1)])\n",
    "\n",
    "with open(\"grid_template.html\", \"r\") as tpl:\n",
    "    page = tpl.read()\n",
    "    page = page.replace(\"{%-- grid-content:s --%}\", grid)\\\n",
    "               .replace(\"{%-- suptitle:s --%}\",  f\"Last {npub:,d} papers\" )\\\n",
    "               .replace(\"{%-- docs:s --%}\", docs)\\\n",
    "               .replace(\"{%-- slides:s --%}\", slides)\n",
    "    \n",
    "# print(grid, docs, slides)\n",
    "# print(page)\n",
    "with open(\"_build/html/index_npub_grid.html\", 'w') as fout:\n",
    "    fout.write(page)"
   ]
  }
 ],
 "metadata": {
  "kernelspec": {
   "display_name": "Python 3 (ipykernel)",
   "language": "python",
   "name": "python3"
  },
  "language_info": {
   "codemirror_mode": {
    "name": "ipython",
    "version": 3
   },
   "file_extension": ".py",
   "mimetype": "text/x-python",
   "name": "python",
   "nbconvert_exporter": "python",
   "pygments_lexer": "ipython3",
   "version": "3.9.18"
  },
  "papermill": {
   "default_parameters": {},
   "duration": 47.466499,
   "end_time": "2023-09-29T04:08:02.939829",
   "environment_variables": {},
   "exception": null,
   "input_path": "MPIA daily digest.ipynb",
   "output_path": "log.ipynb",
   "parameters": {},
   "start_time": "2023-09-29T04:07:15.473330",
   "version": "2.4.0"
  },
  "vscode": {
   "interpreter": {
    "hash": "aee8b7b246df8f9039afb4144a1f6fd8d2ca17a180786b69acc140d282b71a49"
   }
  },
  "widgets": {
   "application/vnd.jupyter.widget-state+json": {
    "state": {
     "2ccc9f62e85a469b8eadd3966592d09b": {
      "model_module": "@jupyter-widgets/controls",
      "model_module_version": "2.0.0",
      "model_name": "HTMLStyleModel",
      "state": {
       "_model_module": "@jupyter-widgets/controls",
       "_model_module_version": "2.0.0",
       "_model_name": "HTMLStyleModel",
       "_view_count": null,
       "_view_module": "@jupyter-widgets/base",
       "_view_module_version": "2.0.0",
       "_view_name": "StyleView",
       "background": null,
       "description_width": "",
       "font_size": null,
       "text_color": null
      }
     },
     "786b4d9cb3fe4769ac938e3a9550bda5": {
      "model_module": "@jupyter-widgets/base",
      "model_module_version": "2.0.0",
      "model_name": "LayoutModel",
      "state": {
       "_model_module": "@jupyter-widgets/base",
       "_model_module_version": "2.0.0",
       "_model_name": "LayoutModel",
       "_view_count": null,
       "_view_module": "@jupyter-widgets/base",
       "_view_module_version": "2.0.0",
       "_view_name": "LayoutView",
       "align_content": null,
       "align_items": null,
       "align_self": null,
       "border_bottom": null,
       "border_left": null,
       "border_right": null,
       "border_top": null,
       "bottom": null,
       "display": null,
       "flex": null,
       "flex_flow": null,
       "grid_area": null,
       "grid_auto_columns": null,
       "grid_auto_flow": null,
       "grid_auto_rows": null,
       "grid_column": null,
       "grid_gap": null,
       "grid_row": null,
       "grid_template_areas": null,
       "grid_template_columns": null,
       "grid_template_rows": null,
       "height": null,
       "justify_content": null,
       "justify_items": null,
       "left": null,
       "margin": null,
       "max_height": null,
       "max_width": null,
       "min_height": null,
       "min_width": null,
       "object_fit": null,
       "object_position": null,
       "order": null,
       "overflow": null,
       "padding": null,
       "right": null,
       "top": null,
       "visibility": null,
       "width": null
      }
     },
     "8b3057b64c49438c866ad8619cbbbdb4": {
      "model_module": "@jupyter-widgets/base",
      "model_module_version": "2.0.0",
      "model_name": "LayoutModel",
      "state": {
       "_model_module": "@jupyter-widgets/base",
       "_model_module_version": "2.0.0",
       "_model_name": "LayoutModel",
       "_view_count": null,
       "_view_module": "@jupyter-widgets/base",
       "_view_module_version": "2.0.0",
       "_view_name": "LayoutView",
       "align_content": null,
       "align_items": null,
       "align_self": null,
       "border_bottom": null,
       "border_left": null,
       "border_right": null,
       "border_top": null,
       "bottom": null,
       "display": null,
       "flex": null,
       "flex_flow": null,
       "grid_area": null,
       "grid_auto_columns": null,
       "grid_auto_flow": null,
       "grid_auto_rows": null,
       "grid_column": null,
       "grid_gap": null,
       "grid_row": null,
       "grid_template_areas": null,
       "grid_template_columns": null,
       "grid_template_rows": null,
       "height": null,
       "justify_content": null,
       "justify_items": null,
       "left": null,
       "margin": null,
       "max_height": null,
       "max_width": null,
       "min_height": null,
       "min_width": null,
       "object_fit": null,
       "object_position": null,
       "order": null,
       "overflow": null,
       "padding": null,
       "right": null,
       "top": null,
       "visibility": null,
       "width": null
      }
     },
     "a4a234e0fd564a5089581f414651a7d7": {
      "model_module": "@jupyter-widgets/controls",
      "model_module_version": "2.0.0",
      "model_name": "ProgressStyleModel",
      "state": {
       "_model_module": "@jupyter-widgets/controls",
       "_model_module_version": "2.0.0",
       "_model_name": "ProgressStyleModel",
       "_view_count": null,
       "_view_module": "@jupyter-widgets/base",
       "_view_module_version": "2.0.0",
       "_view_name": "StyleView",
       "bar_color": null,
       "description_width": ""
      }
     },
     "a97e9fcdfce244a787fee10181e48ebd": {
      "model_module": "@jupyter-widgets/base",
      "model_module_version": "2.0.0",
      "model_name": "LayoutModel",
      "state": {
       "_model_module": "@jupyter-widgets/base",
       "_model_module_version": "2.0.0",
       "_model_name": "LayoutModel",
       "_view_count": null,
       "_view_module": "@jupyter-widgets/base",
       "_view_module_version": "2.0.0",
       "_view_name": "LayoutView",
       "align_content": null,
       "align_items": null,
       "align_self": null,
       "border_bottom": null,
       "border_left": null,
       "border_right": null,
       "border_top": null,
       "bottom": null,
       "display": null,
       "flex": null,
       "flex_flow": null,
       "grid_area": null,
       "grid_auto_columns": null,
       "grid_auto_flow": null,
       "grid_auto_rows": null,
       "grid_column": null,
       "grid_gap": null,
       "grid_row": null,
       "grid_template_areas": null,
       "grid_template_columns": null,
       "grid_template_rows": null,
       "height": null,
       "justify_content": null,
       "justify_items": null,
       "left": null,
       "margin": null,
       "max_height": null,
       "max_width": null,
       "min_height": null,
       "min_width": null,
       "object_fit": null,
       "object_position": null,
       "order": null,
       "overflow": null,
       "padding": null,
       "right": null,
       "top": null,
       "visibility": null,
       "width": null
      }
     },
     "ade29246a2a84c01adf95ccae206e83e": {
      "model_module": "@jupyter-widgets/controls",
      "model_module_version": "2.0.0",
      "model_name": "HTMLModel",
      "state": {
       "_dom_classes": [],
       "_model_module": "@jupyter-widgets/controls",
       "_model_module_version": "2.0.0",
       "_model_name": "HTMLModel",
       "_view_count": null,
       "_view_module": "@jupyter-widgets/controls",
       "_view_module_version": "2.0.0",
       "_view_name": "HTMLView",
       "description": "",
       "description_allow_html": false,
       "layout": "IPY_MODEL_a97e9fcdfce244a787fee10181e48ebd",
       "placeholder": "​",
       "style": "IPY_MODEL_2ccc9f62e85a469b8eadd3966592d09b",
       "tabbable": null,
       "tooltip": null,
       "value": " 5/5 [00:22&lt;00:00,  2.78s/it]"
      }
     },
     "c566e9d393d54a5e84dbff9f6812a8e5": {
      "model_module": "@jupyter-widgets/controls",
      "model_module_version": "2.0.0",
      "model_name": "HTMLStyleModel",
      "state": {
       "_model_module": "@jupyter-widgets/controls",
       "_model_module_version": "2.0.0",
       "_model_name": "HTMLStyleModel",
       "_view_count": null,
       "_view_module": "@jupyter-widgets/base",
       "_view_module_version": "2.0.0",
       "_view_name": "StyleView",
       "background": null,
       "description_width": "",
       "font_size": null,
       "text_color": null
      }
     },
     "ce20a544cf344d2c9dbed371ff85023f": {
      "model_module": "@jupyter-widgets/controls",
      "model_module_version": "2.0.0",
      "model_name": "FloatProgressModel",
      "state": {
       "_dom_classes": [],
       "_model_module": "@jupyter-widgets/controls",
       "_model_module_version": "2.0.0",
       "_model_name": "FloatProgressModel",
       "_view_count": null,
       "_view_module": "@jupyter-widgets/controls",
       "_view_module_version": "2.0.0",
       "_view_name": "ProgressView",
       "bar_style": "success",
       "description": "",
       "description_allow_html": false,
       "layout": "IPY_MODEL_8b3057b64c49438c866ad8619cbbbdb4",
       "max": 5.0,
       "min": 0.0,
       "orientation": "horizontal",
       "style": "IPY_MODEL_a4a234e0fd564a5089581f414651a7d7",
       "tabbable": null,
       "tooltip": null,
       "value": 5.0
      }
     },
     "d654190a8abf4022a45c720c592eccc2": {
      "model_module": "@jupyter-widgets/controls",
      "model_module_version": "2.0.0",
      "model_name": "HTMLModel",
      "state": {
       "_dom_classes": [],
       "_model_module": "@jupyter-widgets/controls",
       "_model_module_version": "2.0.0",
       "_model_name": "HTMLModel",
       "_view_count": null,
       "_view_module": "@jupyter-widgets/controls",
       "_view_module_version": "2.0.0",
       "_view_name": "HTMLView",
       "description": "",
       "description_allow_html": false,
       "layout": "IPY_MODEL_786b4d9cb3fe4769ac938e3a9550bda5",
       "placeholder": "​",
       "style": "IPY_MODEL_c566e9d393d54a5e84dbff9f6812a8e5",
       "tabbable": null,
       "tooltip": null,
       "value": "100%"
      }
     },
     "e9a521c6855c4b1083a99c131f3b0cea": {
      "model_module": "@jupyter-widgets/controls",
      "model_module_version": "2.0.0",
      "model_name": "HBoxModel",
      "state": {
       "_dom_classes": [],
       "_model_module": "@jupyter-widgets/controls",
       "_model_module_version": "2.0.0",
       "_model_name": "HBoxModel",
       "_view_count": null,
       "_view_module": "@jupyter-widgets/controls",
       "_view_module_version": "2.0.0",
       "_view_name": "HBoxView",
       "box_style": "",
       "children": [
        "IPY_MODEL_d654190a8abf4022a45c720c592eccc2",
        "IPY_MODEL_ce20a544cf344d2c9dbed371ff85023f",
        "IPY_MODEL_ade29246a2a84c01adf95ccae206e83e"
       ],
       "layout": "IPY_MODEL_fc2346c3d4c54e74b83e621fdd877225",
       "tabbable": null,
       "tooltip": null
      }
     },
     "fc2346c3d4c54e74b83e621fdd877225": {
      "model_module": "@jupyter-widgets/base",
      "model_module_version": "2.0.0",
      "model_name": "LayoutModel",
      "state": {
       "_model_module": "@jupyter-widgets/base",
       "_model_module_version": "2.0.0",
       "_model_name": "LayoutModel",
       "_view_count": null,
       "_view_module": "@jupyter-widgets/base",
       "_view_module_version": "2.0.0",
       "_view_name": "LayoutView",
       "align_content": null,
       "align_items": null,
       "align_self": null,
       "border_bottom": null,
       "border_left": null,
       "border_right": null,
       "border_top": null,
       "bottom": null,
       "display": null,
       "flex": null,
       "flex_flow": null,
       "grid_area": null,
       "grid_auto_columns": null,
       "grid_auto_flow": null,
       "grid_auto_rows": null,
       "grid_column": null,
       "grid_gap": null,
       "grid_row": null,
       "grid_template_areas": null,
       "grid_template_columns": null,
       "grid_template_rows": null,
       "height": null,
       "justify_content": null,
       "justify_items": null,
       "left": null,
       "margin": null,
       "max_height": null,
       "max_width": null,
       "min_height": null,
       "min_width": null,
       "object_fit": null,
       "object_position": null,
       "order": null,
       "overflow": null,
       "padding": null,
       "right": null,
       "top": null,
       "visibility": null,
       "width": null
      }
     }
    },
    "version_major": 2,
    "version_minor": 0
   }
  }
 },
 "nbformat": 4,
 "nbformat_minor": 5
}