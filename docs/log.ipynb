{
 "cells": [
  {
   "cell_type": "markdown",
   "id": "92bcb855",
   "metadata": {
    "papermill": {
     "duration": 0.003535,
     "end_time": "2024-01-26T04:08:36.160793",
     "exception": false,
     "start_time": "2024-01-26T04:08:36.157258",
     "status": "completed"
    },
    "tags": []
   },
   "source": [
    "# MPIA Arxiv on Deck 2\n",
    "\n",
    "Contains the steps to produce the paper extractions."
   ]
  },
  {
   "cell_type": "code",
   "execution_count": 1,
   "id": "3a0d6e11",
   "metadata": {
    "execution": {
     "iopub.execute_input": "2024-01-26T04:08:36.169279Z",
     "iopub.status.busy": "2024-01-26T04:08:36.168788Z",
     "iopub.status.idle": "2024-01-26T04:08:36.479156Z",
     "shell.execute_reply": "2024-01-26T04:08:36.478451Z"
    },
    "papermill": {
     "duration": 0.315928,
     "end_time": "2024-01-26T04:08:36.480914",
     "exception": false,
     "start_time": "2024-01-26T04:08:36.164986",
     "status": "completed"
    },
    "tags": []
   },
   "outputs": [],
   "source": [
    "# Imports\n",
    "import os\n",
    "from IPython.display import Markdown, display\n",
    "from tqdm.notebook import tqdm\n",
    "import warnings\n",
    "from PIL import Image \n",
    "\n",
    "# requires arxiv_on_deck_2\n",
    "\n",
    "from arxiv_on_deck_2.arxiv2 import (get_new_papers, \n",
    "                                    get_paper_from_identifier,\n",
    "                                    retrieve_document_source, \n",
    "                                    get_markdown_badge)\n",
    "from arxiv_on_deck_2 import (latex,\n",
    "                             latex_bib,\n",
    "                             mpia,\n",
    "                             highlight_authors_in_list)\n",
    "\n",
    "# Sometimes images are really big\n",
    "Image.MAX_IMAGE_PIXELS = 1000000000 "
   ]
  },
  {
   "cell_type": "code",
   "execution_count": 2,
   "id": "22aa9d44",
   "metadata": {
    "execution": {
     "iopub.execute_input": "2024-01-26T04:08:36.488341Z",
     "iopub.status.busy": "2024-01-26T04:08:36.487834Z",
     "iopub.status.idle": "2024-01-26T04:08:36.492893Z",
     "shell.execute_reply": "2024-01-26T04:08:36.492300Z"
    },
    "papermill": {
     "duration": 0.010213,
     "end_time": "2024-01-26T04:08:36.494254",
     "exception": false,
     "start_time": "2024-01-26T04:08:36.484041",
     "status": "completed"
    },
    "tags": []
   },
   "outputs": [],
   "source": [
    "# Some useful definitions.\n",
    "\n",
    "class AffiliationWarning(UserWarning):\n",
    "    pass\n",
    "\n",
    "class AffiliationError(RuntimeError):\n",
    "    pass\n",
    "\n",
    "def validation(source: str):\n",
    "    \"\"\"Raises error paper during parsing of source file\n",
    "    \n",
    "    Allows checks before parsing TeX code.\n",
    "    \n",
    "    Raises AffiliationWarning\n",
    "    \"\"\"\n",
    "    check = mpia.affiliation_verifications(source, verbose=True)\n",
    "    if check is not True:\n",
    "        raise AffiliationError(\"mpia.affiliation_verifications: \" + check)\n",
    "\n",
    "        \n",
    "warnings.simplefilter('always', AffiliationWarning)\n",
    "\n",
    "\n",
    "def get_markdown_qrcode(paper_id: str):\n",
    "    \"\"\" Generate a qrcode to the arxiv page using qrserver.com\n",
    "    \n",
    "    :param paper: Arxiv paper\n",
    "    :returns: markdown text\n",
    "    \"\"\"\n",
    "    url = r\"https://api.qrserver.com/v1/create-qr-code/?size=100x100&data=\"\n",
    "    txt = f\"\"\"<img src={url}\"https://arxiv.org/abs/{paper_id}\">\"\"\"\n",
    "    txt = '<div id=\"qrcode\">' + txt + '</div>'\n",
    "    return txt"
   ]
  },
  {
   "cell_type": "markdown",
   "id": "14bd6310",
   "metadata": {
    "papermill": {
     "duration": 0.00278,
     "end_time": "2024-01-26T04:08:36.499901",
     "exception": false,
     "start_time": "2024-01-26T04:08:36.497121",
     "status": "completed"
    },
    "tags": []
   },
   "source": [
    "## get list of arxiv paper candidates\n",
    "\n",
    "We use the MPIA mitarbeiter list webpage from mpia.de to get author names\n",
    "We then get all new papers from Arxiv and match authors"
   ]
  },
  {
   "cell_type": "code",
   "execution_count": 3,
   "id": "2645e73a",
   "metadata": {
    "execution": {
     "iopub.execute_input": "2024-01-26T04:08:36.506714Z",
     "iopub.status.busy": "2024-01-26T04:08:36.506135Z",
     "iopub.status.idle": "2024-01-26T04:08:53.770051Z",
     "shell.execute_reply": "2024-01-26T04:08:53.769322Z"
    },
    "papermill": {
     "duration": 17.268888,
     "end_time": "2024-01-26T04:08:53.771568",
     "exception": false,
     "start_time": "2024-01-26T04:08:36.502680",
     "status": "completed"
    },
    "tags": []
   },
   "outputs": [
    {
     "name": "stdout",
     "output_type": "stream",
     "text": [
      "K. Jahnke  ->  K. Jahnke  |  ['K. Jahnke']\n",
      "Z. Kaczmarek  ->  Z. Kaczmarek  |  ['Z. Kaczmarek']\n",
      "X. Zhang  ->  X. Zhang  |  ['X. Zhang']\n",
      "Arxiv has 50 new papers today\n",
      "          3 with possible author matches\n"
     ]
    }
   ],
   "source": [
    "# get list from MPIA website\n",
    "# it automatically filters identified non-scientists :func:`mpia.filter_non_scientists`\n",
    "mpia_authors = mpia.get_mpia_mitarbeiter_list()\n",
    "normed_mpia_authors = [k[1] for k in mpia_authors]   # initials + fullname\n",
    "new_papers = get_new_papers()\n",
    "# add manual references\n",
    "add_paper_refs = []\n",
    "new_papers.extend([get_paper_from_identifier(k) for k in add_paper_refs])\n",
    "\n",
    "candidates = []\n",
    "for paperk in new_papers:\n",
    "    # Check author list with their initials\n",
    "    normed_author_list = [mpia.get_initials(k) for k in paperk['authors']]\n",
    "    hl_authors = highlight_authors_in_list(normed_author_list, normed_mpia_authors, verbose=True)\n",
    "    matches = [(hl, orig) for hl, orig in zip(hl_authors, paperk['authors']) if 'mark' in hl]\n",
    "    paperk['authors'] = hl_authors\n",
    "    if matches:\n",
    "        # only select paper if an author matched our list\n",
    "        candidates.append(paperk)\n",
    "print(\"\"\"Arxiv has {0:,d} new papers today\"\"\".format(len(new_papers)))        \n",
    "print(\"\"\"          {0:,d} with possible author matches\"\"\".format(len(candidates)))"
   ]
  },
  {
   "cell_type": "markdown",
   "id": "3543b34a",
   "metadata": {
    "papermill": {
     "duration": 0.002835,
     "end_time": "2024-01-26T04:08:53.777710",
     "exception": false,
     "start_time": "2024-01-26T04:08:53.774875",
     "status": "completed"
    },
    "tags": []
   },
   "source": [
    "# Parse sources and generate relevant outputs\n",
    "\n",
    "From the candidates, we do the following steps:\n",
    "* get their tarball from ArXiv (and extract data)\n",
    "* find the main .tex file: find one with \\documentclass{...} (sometimes it's non trivial)\n",
    "* Check affiliations with :func:`validation`, which uses :func:`mpia.affiliation_verifications`\n",
    "* If passing the affiliations: we parse the .tex source\n",
    "   * inject sub-documents into the main (flatten the main document)\n",
    "   * parse structure, extract information (title, abstract, authors, figures...)\n",
    "   * handles `\\graphicspath` if provided\n",
    "* Generate the .md document."
   ]
  },
  {
   "cell_type": "code",
   "execution_count": 4,
   "id": "9576b79e",
   "metadata": {
    "execution": {
     "iopub.execute_input": "2024-01-26T04:08:53.784600Z",
     "iopub.status.busy": "2024-01-26T04:08:53.784134Z",
     "iopub.status.idle": "2024-01-26T04:09:45.000340Z",
     "shell.execute_reply": "2024-01-26T04:09:44.999631Z"
    },
    "papermill": {
     "duration": 51.221282,
     "end_time": "2024-01-26T04:09:45.001838",
     "exception": false,
     "start_time": "2024-01-26T04:08:53.780556",
     "status": "completed"
    },
    "scrolled": false,
    "tags": []
   },
   "outputs": [
    {
     "data": {
      "application/vnd.jupyter.widget-view+json": {
       "model_id": "fd8fd4411bf84addadc5526ccfe78042",
       "version_major": 2,
       "version_minor": 0
      },
      "text/plain": [
       "  0%|          | 0/3 [00:00<?, ?it/s]"
      ]
     },
     "metadata": {},
     "output_type": "display_data"
    },
    {
     "name": "stdout",
     "output_type": "stream",
     "text": [
      "Retrieving document from  https://arxiv.org/e-print/2401.13742\n"
     ]
    },
    {
     "name": "stdout",
     "output_type": "stream",
     "text": [
      "extracting tarball to tmp_2401.13742..."
     ]
    },
    {
     "name": "stdout",
     "output_type": "stream",
     "text": [
      " done.\n"
     ]
    },
    {
     "name": "stderr",
     "output_type": "stream",
     "text": [
      "/opt/hostedtoolcache/Python/3.9.18/x64/lib/python3.9/site-packages/arxiv_on_deck_2/latex.py:473: LatexWarning: Error parsing the document directly. Trying to recover.\n",
      "  warnings.warn(LatexWarning(f\"Error parsing the document directly. Trying to recover.\"))\n"
     ]
    },
    {
     "name": "stdout",
     "output_type": "stream",
     "text": [
      "✔ → 0:header\n",
      "  ↳ 9315:\\section{Introduction} \\label{sec:intro}\n"
     ]
    },
    {
     "name": "stdout",
     "output_type": "stream",
     "text": [
      "✔ → 9315:\\section{Introduction} \\label{sec:intro}\n",
      "  ↳ 17080:\\section{Data} \\label{sec:data}\n"
     ]
    },
    {
     "name": "stdout",
     "output_type": "stream",
     "text": [
      "✔ → 17080:\\section{Data} \\label{sec:data}\n",
      "  ↳ 28743:\\section{Method} \\label{sec:method}\n"
     ]
    },
    {
     "name": "stdout",
     "output_type": "stream",
     "text": [
      "✘ → 28743:\\section{Method} \\label{sec:method}\n",
      "  ↳ 60234:\\section{Results of AGN - host decomposition}\\label{subsec:morphology}\n"
     ]
    },
    {
     "name": "stdout",
     "output_type": "stream",
     "text": [
      "✔ → 60234:\\section{Results of AGN - host decomposition}\\label{subsec:morphology}\n",
      "  ↳ 74113:\\section{$M_{\\rm BH}-M_*$ relation}\\label{subsec:mass-mass}\n"
     ]
    },
    {
     "name": "stdout",
     "output_type": "stream",
     "text": [
      "✔ → 74113:\\section{$M_{\\rm BH}-M_*$ relation}\\label{subsec:mass-mass}\n",
      "  ↳ 91861:\\section{Discussion}\\label{sec:discussion}\n"
     ]
    },
    {
     "name": "stdout",
     "output_type": "stream",
     "text": [
      "✔ → 91861:\\section{Discussion}\\label{sec:discussion}\n",
      "  ↳ 102804:\\section{Conclusions} \\label{sec:conclusion}\n"
     ]
    },
    {
     "name": "stdout",
     "output_type": "stream",
     "text": [
      "✘ → 102804:\\section{Conclusions} \\label{sec:conclusion}\n",
      "  ↳ 110841:\\section{Detected numbers in each filters}\\label{app:detnum}\n",
      "✔ → 110841:\\section{Detected numbers in each filters}\\label{app:detnum}\n",
      "  ↳ 113185:\\section{Detailed comparison of different PSF results}\\label{app:different_PSF}\n"
     ]
    },
    {
     "name": "stdout",
     "output_type": "stream",
     "text": [
      "✔ → 113185:\\section{Detailed comparison of different PSF results}\\label{app:different_PSF}\n",
      "  ↳ 117352:\\section{galight test with mock image}\\label{app:galight_mock}\n"
     ]
    },
    {
     "name": "stdout",
     "output_type": "stream",
     "text": [
      "✘ → 117352:\\section{galight test with mock image}\\label{app:galight_mock}\n",
      "  ↳ 122725:end\n"
     ]
    },
    {
     "name": "stdout",
     "output_type": "stream",
     "text": [
      "K. Jahnke  ->  K. Jahnke  |  ['K. Jahnke']\n"
     ]
    },
    {
     "name": "stderr",
     "output_type": "stream",
     "text": [
      "/opt/hostedtoolcache/Python/3.9.18/x64/lib/python3.9/site-packages/arxiv_on_deck_2/latex.py:120: LatexWarning: attempting recovering figure sample_z_LX_MBH.pdf\n",
      "  warnings.warn(LatexWarning(f'attempting recovering figure {image}'))\n",
      "/opt/hostedtoolcache/Python/3.9.18/x64/lib/python3.9/site-packages/arxiv_on_deck_2/latex.py:692: LatexWarning: Could not find graphic \\includegraphics{sample_z_LX_MBH.pdf}\n",
      "  warnings.warn(LatexWarning(f\"Could not find graphic {k}\"))\n"
     ]
    },
    {
     "name": "stdout",
     "output_type": "stream",
     "text": [
      "Found 135 bibliographic references in tmp_2401.13742/ms_v2.bbl.\n",
      "syntax error in line 270: '=' expected\n",
      "Retrieving document from  https://arxiv.org/e-print/2401.13759\n"
     ]
    },
    {
     "name": "stdout",
     "output_type": "stream",
     "text": [
      "extracting tarball to tmp_2401.13759... done.\n",
      "Retrieving document from  https://arxiv.org/e-print/2401.14234\n"
     ]
    },
    {
     "name": "stdout",
     "output_type": "stream",
     "text": [
      "extracting tarball to tmp_2401.14234..."
     ]
    },
    {
     "name": "stdout",
     "output_type": "stream",
     "text": [
      " done.\n"
     ]
    }
   ],
   "source": [
    "documents = []\n",
    "failed = []\n",
    "for paper in tqdm(candidates):\n",
    "    paper_id = paper['identifier'].lower().replace('arxiv:', '')\n",
    "    \n",
    "    folder = f'tmp_{paper_id}'\n",
    "\n",
    "    try:\n",
    "        if not os.path.isdir(folder):\n",
    "            folder = retrieve_document_source(f\"{paper_id}\", f'tmp_{paper_id}')\n",
    "        \n",
    "        try:\n",
    "            doc = latex.LatexDocument(folder, validation=validation)    \n",
    "        except AffiliationError as affilerror:\n",
    "            msg = f\"ArXiv:{paper_id:s} is not an MPIA paper... \" + str(affilerror)\n",
    "            failed.append((paper, \"affiliation error: \" + str(affilerror) ))\n",
    "            continue\n",
    "        \n",
    "        # Hack because sometimes author parsing does not work well\n",
    "        if (len(doc.authors) != len(paper['authors'])):\n",
    "            doc._authors = paper['authors']\n",
    "        else:\n",
    "            # highlight authors (FIXME: doc.highlight_authors)\n",
    "            # done on arxiv paper already\n",
    "            doc._authors = highlight_authors_in_list(\n",
    "                [mpia.get_initials(k) for k in doc.authors], \n",
    "                normed_mpia_authors, verbose=True)\n",
    "        if (doc.abstract) in (None, ''):\n",
    "            doc._abstract = paper['abstract']\n",
    "            \n",
    "        doc.comment = (get_markdown_badge(paper_id) + \n",
    "                       \"<mark>Appeared on: \" + paper['date'] + \"</mark> - \")\n",
    "        if paper['comments']:\n",
    "            doc.comment += \" _\" + paper['comments'] + \"_\"\n",
    "        \n",
    "        full_md = doc.generate_markdown_text()\n",
    "        \n",
    "        full_md += get_markdown_qrcode(paper_id)\n",
    "        \n",
    "        # replace citations\n",
    "        try:\n",
    "            bibdata = latex_bib.LatexBib.from_doc(doc)\n",
    "            full_md = latex_bib.replace_citations(full_md, bibdata)\n",
    "        except Exception as e:\n",
    "            print(e)\n",
    "        \n",
    "        documents.append((paper_id, full_md))\n",
    "    except Exception as e:\n",
    "        warnings.warn(latex.LatexWarning(f\"{paper_id:s} did not run properly\\n\" +\n",
    "                                         str(e)\n",
    "                                        ))\n",
    "        failed.append((paper, \"latex error \" + str(e)))"
   ]
  },
  {
   "cell_type": "markdown",
   "id": "2505a25c",
   "metadata": {
    "papermill": {
     "duration": 0.003962,
     "end_time": "2024-01-26T04:09:45.010102",
     "exception": false,
     "start_time": "2024-01-26T04:09:45.006140",
     "status": "completed"
    },
    "tags": []
   },
   "source": [
    "### Export the logs\n",
    "\n",
    "Throughout, we also keep track of the logs per paper. see `logs-{today date}.md` "
   ]
  },
  {
   "cell_type": "code",
   "execution_count": 5,
   "id": "d733828a",
   "metadata": {
    "execution": {
     "iopub.execute_input": "2024-01-26T04:09:45.019253Z",
     "iopub.status.busy": "2024-01-26T04:09:45.018802Z",
     "iopub.status.idle": "2024-01-26T04:09:45.032265Z",
     "shell.execute_reply": "2024-01-26T04:09:45.031752Z"
    },
    "papermill": {
     "duration": 0.019557,
     "end_time": "2024-01-26T04:09:45.033561",
     "exception": false,
     "start_time": "2024-01-26T04:09:45.014004",
     "status": "completed"
    },
    "scrolled": false,
    "tags": []
   },
   "outputs": [
    {
     "data": {
      "text/markdown": [
       "## Successful papers"
      ],
      "text/plain": [
       "<IPython.core.display.Markdown object>"
      ]
     },
     "metadata": {},
     "output_type": "display_data"
    },
    {
     "data": {
      "text/markdown": [
       "\n",
       "|||\n",
       "|---:|:---|\n",
       "| [![arXiv](https://img.shields.io/badge/arXiv-arXiv:2401.13742-b31b1b.svg)](https://arxiv.org/abs/arXiv:2401.13742) | **The $M_{\\rm BH}-M_*$ relation up to $z\\sim2$ through decomposition of  COSMOS-Web NIRCam images**  |\n",
       "|| T. S. Tanaka, et al. -- incl., <mark>K. Jahnke</mark> |\n",
       "|*Appeared on*| *2024-01-26*|\n",
       "|*Comments*| *31 pages, 19 figures, submitted to ApJ*|\n",
       "|**Abstract**| Our knowledge of relations between supermassive black holes and their host galaxies at $z\\gtrsim1$ is still limited, even though being actively sought out to $z\\sim6$. Here, we use the high resolution and sensitivity of JWST to measure the host galaxy properties for 61 X-ray-selected type-I AGNs at $0.7<z<2.5$ with rest-frame optical/near-infrared imaging from COSMOS-Web and PRIMER. Black hole masses ($\\log\\left(M_{\\rm BH}/M_\\odot\\right)\\sim7.5-9.5$) are available from previous spectroscopic campaigns. We extract the host galaxy components from four NIRCam broadband images and the HST/ACS F814W image by applying a 2D image decomposition technique. We detect the host galaxy for $\\sim90\\%$ of the sample after subtracting the unresolved AGN emission. With host photometry free of AGN emission, we determine the stellar mass of the host galaxies to be $\\log\\left(M_*/M_\\odot\\right)\\sim10-11.5$ through SED fitting and measure the evolution of the mass relation between SMBHs and their host galaxies. Considering selection biases and measurement uncertainties, we find that the $M_\\mathrm{ BH}/M_*$ ratio evolves as $\\left(1+z\\right)^{0.37_{-0.60}^{+0.35}}$ thus remains essentially constant or exhibits mild evolution up to $z\\sim2.5$. We also see an amount of scatter ($\\sigma_{\\mu}=0.28\\pm0.13$) is similar to the local relation and consistent with low-$z$ studies; this appears to not rule out non-causal cosmic assembly where mergers contribute to the statistical averaging towards the local relation. We highlight improvements to come with larger samples from JWST and, particularly, Euclid, which will exceed the statistical power of wide and deep surveys such as Subaru Hyper Suprime-Cam. |"
      ],
      "text/plain": [
       "[arXiv:2401.13742] The $M_{\\rm BH}-M_*$ relation up to $z\\sim2$ through decomposition of  COSMOS-Web NIRCam images\n",
       "\tT. S. Tanaka, et al. -- incl., <mark>K. Jahnke</mark>"
      ]
     },
     "metadata": {},
     "output_type": "display_data"
    },
    {
     "data": {
      "text/markdown": [
       "## Failed papers"
      ],
      "text/plain": [
       "<IPython.core.display.Markdown object>"
      ]
     },
     "metadata": {},
     "output_type": "display_data"
    },
    {
     "data": {
      "text/markdown": [
       "\n",
       "|||\n",
       "|---:|:---|\n",
       "| [![arXiv](https://img.shields.io/badge/arXiv-arXiv:2401.14234-b31b1b.svg)](https://arxiv.org/abs/arXiv:2401.14234) | **Velocity acoustic oscillations on Cosmic Dawn 21 cm power spectrum as a  probe of small-scale density fluctuations**  |\n",
       "|| <mark>X. Zhang</mark>, et al. |\n",
       "|*Appeared on*| *2024-01-26*|\n",
       "|*Comments*| *22 pages, 21 figures, accepted for publication by ApJ*|\n",
       "|**Abstract**| We investigate the feasibility of using the velocity acoustic oscillations (VAO) features on the Cosmic Dawn 21 cm power spectrum to probe small-scale density fluctuations. In the standard cold dark matter (CDM) model, Pop III stars form in minihalos and affect the 21 cm signal through Ly$\\alpha$ and X-ray radiation. Such a process is modulated by the relative motion between dark matter and baryons, generating the VAO wiggles on the 21 cm power spectrum. In the fuzzy or warm dark matter models for which the number of minihalos is reduced, the VAO wiggles are weaker or even fully invisible. We investigate the wiggle features in the CDM with different astrophysical models and in different dark matter models. We find: 1) In the CDM model the relative streaming velocities can generate the VAO wiggles for broad ranges of parameters $f_*$, $\\zeta_X$ and $f_{\\rm esc,LW}\\zeta_{\\rm LW}$, though for different parameters the wiggles would appear at different redshifts and have different amplitudes. 2) For the axion model with $m_{\\rm a} \\lesssim10^{-19}$ eV, the VAO wiggles are negligible. In the mixed model, the VAO signal is sensitive to the axion fraction. For example, the wiggles almost disappear when $f_{\\rm a} \\gtrsim 10\\%$ for $m_{\\rm a}=10^{-21}$ eV. Therefore, the VAO signal can be an effective indicator for small-scale density fluctuations and a useful probe of the nature of dark matter. The SKA-low with $\\sim$2000 hour observation time has the ability to detect the VAO signal and constraint dark matter models. |\n",
       "|<p style=\"color:green\"> **ERROR** </p>| <p style=\"color:green\">affiliation error: mpia.affiliation_verifications: 'Heidelberg' keyword not found.</p> |"
      ],
      "text/plain": [
       "<IPython.core.display.Markdown object>"
      ]
     },
     "metadata": {},
     "output_type": "display_data"
    },
    {
     "data": {
      "text/markdown": [
       "\n",
       "|||\n",
       "|---:|:---|\n",
       "| [![arXiv](https://img.shields.io/badge/arXiv-arXiv:2401.13759-b31b1b.svg)](https://arxiv.org/abs/arXiv:2401.13759) | **Dark lens candidates from Gaia Data Release 3**  |\n",
       "|| K. Kruszyńska, et al. -- incl., <mark>Z. Kaczmarek</mark> |\n",
       "|*Appeared on*| *2024-01-26*|\n",
       "|*Comments*| *Submitted to Astronomy&Astrophysics, 16 pages, 3 figures, 4 tables*|\n",
       "|**Abstract**| Gravitational microlensing is a phenomenon that allows us to observe dark remnants of stellar evolution even if they no longer emit electromagnetic radiation. In particular, it can be useful to observe solitary neutron stars or stellar-mass black holes, providing a unique window through which to understand stellar evolution. Obtaining direct mass measurements with this technique requires precise observations of both the change in brightness and the position of the microlensed star and the European Space Agency's Gaia satellite can provide both. We analysed events published in Gaia Data Release 3 (GDR3) microlensing catalogue using publicly available data from different surveys. Here we describe our selection of candidate dark lenses, where we suspect the lens is a white dwarf (WD), a neutron star (NS), a black hole (BH), or a mass-gap object, with a mass in a range between the heaviest NS and the least massive BH. We estimated the mass of the lenses using information obtained from the best-fitting microlensing models, the Galactic model and the expected distribution of the parameters. We found eight candidates for WDs or NS, and two mass-gap objects. |\n",
       "|<p style=\"color:green\"> **ERROR** </p>| <p style=\"color:green\">affiliation error: mpia.affiliation_verifications: 'Planck' keyword not found.</p> |"
      ],
      "text/plain": [
       "<IPython.core.display.Markdown object>"
      ]
     },
     "metadata": {},
     "output_type": "display_data"
    }
   ],
   "source": [
    "import datetime\n",
    "today = str(datetime.date.today())\n",
    "logfile = f\"_build/html/logs/log-{today}.md\"\n",
    "\n",
    "\n",
    "with open(logfile, 'w') as logs:\n",
    "    # Success\n",
    "    logs.write(f'# Arxiv on Deck 2: Logs - {today}\\n\\n')\n",
    "    logs.write(\"\"\"* Arxiv had {0:,d} new papers\\n\"\"\".format(len(new_papers)))\n",
    "    logs.write(\"\"\"    * {0:,d} with possible author matches\\n\\n\"\"\".format(len(candidates)))\n",
    "    logs.write(\"## Sucessful papers\\n\\n\")\n",
    "    display(Markdown(\"## Successful papers\"))\n",
    "    success = [k[0] for k in documents]\n",
    "    for candid in candidates:\n",
    "        if candid['identifier'].split(':')[-1] in success:\n",
    "            display(candid)\n",
    "            logs.write(candid.generate_markdown_text() + '\\n\\n')\n",
    "\n",
    "    ## failed\n",
    "    logs.write(\"## Failed papers\\n\\n\")\n",
    "    display(Markdown(\"## Failed papers\"))\n",
    "    failed = sorted(failed, key=lambda x: x[1])\n",
    "    current_reason = \"\"\n",
    "    for paper, reason in failed:\n",
    "        if 'affiliation' in reason:\n",
    "            color = 'green'\n",
    "        else:\n",
    "            color = 'red'\n",
    "        data = Markdown(\n",
    "                paper.generate_markdown_text() + \n",
    "                f'\\n|<p style=\"color:{color:s}\"> **ERROR** </p>| <p style=\"color:{color:s}\">{reason:s}</p> |'\n",
    "               )\n",
    "        if reason != current_reason:\n",
    "            logs.write(f'### {reason:s} \\n\\n')\n",
    "            current_reason = reason\n",
    "        logs.write(data.data + '\\n\\n')\n",
    "        \n",
    "        # only display here the important errors (all in logs)\n",
    "        # if color in ('red',):\n",
    "        display(data)"
   ]
  },
  {
   "cell_type": "markdown",
   "id": "472d20ee",
   "metadata": {
    "papermill": {
     "duration": 0.004475,
     "end_time": "2024-01-26T04:09:45.042475",
     "exception": false,
     "start_time": "2024-01-26T04:09:45.038000",
     "status": "completed"
    },
    "tags": []
   },
   "source": [
    "## Export documents\n",
    "\n",
    "We now write the .md files and export relevant images"
   ]
  },
  {
   "cell_type": "code",
   "execution_count": 6,
   "id": "d426aed9",
   "metadata": {
    "execution": {
     "iopub.execute_input": "2024-01-26T04:09:45.052369Z",
     "iopub.status.busy": "2024-01-26T04:09:45.051980Z",
     "iopub.status.idle": "2024-01-26T04:09:45.058337Z",
     "shell.execute_reply": "2024-01-26T04:09:45.057806Z"
    },
    "papermill": {
     "duration": 0.01266,
     "end_time": "2024-01-26T04:09:45.059606",
     "exception": false,
     "start_time": "2024-01-26T04:09:45.046946",
     "status": "completed"
    },
    "tags": []
   },
   "outputs": [],
   "source": [
    "def export_markdown_summary(md: str, md_fname:str, directory: str):\n",
    "    \"\"\"Export MD document and associated relevant images\"\"\"\n",
    "    import os\n",
    "    import shutil\n",
    "    import re\n",
    "\n",
    "    if (os.path.exists(directory) and not os.path.isdir(directory)):\n",
    "        raise RuntimeError(f\"a non-directory file exists with name {directory:s}\")\n",
    "\n",
    "    if (not os.path.exists(directory)):\n",
    "        print(f\"creating directory {directory:s}\")\n",
    "        os.mkdir(directory)\n",
    "\n",
    "    fig_fnames = (re.compile(r'\\[Fig.*\\]\\((.*)\\)').findall(md) + \n",
    "                  re.compile(r'\\<img src=\"([^>\\s]*)\"[^>]*/>').findall(md))\n",
    "    for fname in fig_fnames:\n",
    "        if 'http' in fname:\n",
    "            # No need to copy online figures\n",
    "            continue\n",
    "        destdir = os.path.join(directory, os.path.dirname(fname))\n",
    "        destfname = os.path.join(destdir, os.path.basename(fname))\n",
    "        try:\n",
    "            os.makedirs(destdir)\n",
    "        except FileExistsError:\n",
    "            pass\n",
    "        shutil.copy(fname, destfname)\n",
    "    with open(os.path.join(directory, md_fname), 'w') as fout:\n",
    "        fout.write(md)\n",
    "    print(\"exported in \", os.path.join(directory, md_fname))\n",
    "    [print(\"    + \" + os.path.join(directory,fk)) for fk in fig_fnames]"
   ]
  },
  {
   "cell_type": "code",
   "execution_count": 7,
   "id": "014d04a4",
   "metadata": {
    "execution": {
     "iopub.execute_input": "2024-01-26T04:09:45.069776Z",
     "iopub.status.busy": "2024-01-26T04:09:45.069256Z",
     "iopub.status.idle": "2024-01-26T04:09:45.081049Z",
     "shell.execute_reply": "2024-01-26T04:09:45.080443Z"
    },
    "papermill": {
     "duration": 0.018343,
     "end_time": "2024-01-26T04:09:45.082412",
     "exception": false,
     "start_time": "2024-01-26T04:09:45.064069",
     "status": "completed"
    },
    "tags": []
   },
   "outputs": [
    {
     "name": "stdout",
     "output_type": "stream",
     "text": [
      "exported in  _build/html/2401.13742.md\n",
      "    + _build/html/tmp_2401.13742/./comp_forpaper.png\n",
      "    + _build/html/tmp_2401.13742/./massmass_together.png\n",
      "    + _build/html/tmp_2401.13742/./alpha.png\n",
      "    + _build/html/tmp_2401.13742/./selbias_top5.png\n",
      "    + _build/html/tmp_2401.13742/./massmass_final.png\n",
      "    + _build/html/tmp_2401.13742/./finalPSF_compare_CW_A5_cid_62_wo814.png\n"
     ]
    }
   ],
   "source": [
    "for paper_id, md in documents:\n",
    "    export_markdown_summary(md, f\"{paper_id:s}.md\", '_build/html/')"
   ]
  },
  {
   "cell_type": "markdown",
   "id": "f087a0a7",
   "metadata": {
    "papermill": {
     "duration": 0.004417,
     "end_time": "2024-01-26T04:09:45.091405",
     "exception": false,
     "start_time": "2024-01-26T04:09:45.086988",
     "status": "completed"
    },
    "tags": []
   },
   "source": [
    "## Display the papers\n",
    "\n",
    "Not necessary but allows for a quick check."
   ]
  },
  {
   "cell_type": "code",
   "execution_count": 8,
   "id": "fd25f625",
   "metadata": {
    "execution": {
     "iopub.execute_input": "2024-01-26T04:09:45.101411Z",
     "iopub.status.busy": "2024-01-26T04:09:45.101049Z",
     "iopub.status.idle": "2024-01-26T04:09:45.105678Z",
     "shell.execute_reply": "2024-01-26T04:09:45.105097Z"
    },
    "papermill": {
     "duration": 0.011165,
     "end_time": "2024-01-26T04:09:45.107012",
     "exception": false,
     "start_time": "2024-01-26T04:09:45.095847",
     "status": "completed"
    },
    "scrolled": false,
    "tags": []
   },
   "outputs": [
    {
     "data": {
      "text/markdown": [
       "<div class=\"macros\" style=\"visibility:hidden;\">\n",
       "$\\newcommand{\\ensuremath}{}$\n",
       "$\\newcommand{\\xspace}{}$\n",
       "$\\newcommand{\\object}[1]{\\texttt{#1}}$\n",
       "$\\newcommand{\\farcs}{{.}''}$\n",
       "$\\newcommand{\\farcm}{{.}'}$\n",
       "$\\newcommand{\\arcsec}{''}$\n",
       "$\\newcommand{\\arcmin}{'}$\n",
       "$\\newcommand{\\ion}[2]{#1#2}$\n",
       "$\\newcommand{\\textsc}[1]{\\textrm{#1}}$\n",
       "$\\newcommand{\\hl}[1]{\\textrm{#1}}$\n",
       "$\\newcommand{\\footnote}[1]{}$\n",
       "$\\newcommand{\\vdag}{(v)^\\dagger}$\n",
       "$\\newcommand$\n",
       "$\\newcommand$\n",
       "$\\newcommand$\n",
       "$\\newcommand{\\sersic}{{Sérsic}\\xspace}$\n",
       "$\\newcommand$\n",
       "$\\newcommand$\n",
       "$\\newcommand$\n",
       "$\\newcommand$</div>\n",
       "\n",
       "\n",
       "\n",
       "<div id=\"title\">\n",
       "\n",
       "# The $M_{\\rm BH}-M_*$ relation up to $z\\sim2$ through decomposition of COSMOS-Web NIRCam images\n",
       "\n",
       "</div>\n",
       "<div id=\"comments\">\n",
       "\n",
       "[![arXiv](https://img.shields.io/badge/arXiv-2401.13742-b31b1b.svg)](https://arxiv.org/abs/2401.13742)<mark>Appeared on: 2024-01-26</mark> -  _31 pages, 19 figures, submitted to ApJ_\n",
       "\n",
       "</div>\n",
       "<div id=\"authors\">\n",
       "\n",
       "T. S. Tanaka, et al. -- incl., <mark>K. Jahnke</mark>\n",
       "\n",
       "</div>\n",
       "<div id=\"abstract\">\n",
       "\n",
       "**Abstract:** Our knowledge of relations between supermassive black holes and their host galaxies at $z\\gtrsim1$ is still limited, even though being actively sought out to $z\\sim6$ .Here, we use the high resolution and sensitivity of JWST to measure the host galaxy properties for 61 X-ray-selected type-I AGNs at $0.7<z<2.5$ with rest-frame optical/near-infrared imaging from COSMOS-Web and PRIMER.Black hole masses ( $\\log\\left(M_{\\rm BH}/M_\\odot\\right)\\sim7.5-9.5$ ) are available from previous spectroscopic campaigns.We extract the host galaxy components from four NIRCam broadband images and the HST/ACS F814W image by applying a 2D image decomposition technique.We detect the host galaxy for $\\sim90\\%$ of the sample after subtracting the unresolved AGN emission.With host photometry free of AGN emission, we determine the stellar mass of the host galaxies to be $\\log\\left(M_*/M_\\odot\\right)\\sim10-11.5$ through SED fitting and measure the evolution of the mass relation between SMBHs and their host galaxies.Considering selection biases and measurement uncertainties, we find that the $M_\\mathrm{ BH}/M_*$ ratio evolves as $\\left(1+z\\right)^{0.37_{-0.60}^{+0.35}}$ thus remains essentially constant or exhibits mild evolution up to $z\\sim2.5$ .We also see an amount of scatter ( $\\sigma_{\\mu}=0.28\\pm0.13$ ) is similar to the local relation and consistent with low- $z$ studies; this appears to not rule out non-causal cosmic assembly where mergers contribute to the statistical averaging towards the local relation.We highlight improvements to come with larger samples from JWST and, particularly, Euclid, which will exceed the statistical power of wide and deep surveys such as Subaru Hyper Suprime-Cam.\n",
       "\n",
       "</div>\n",
       "\n",
       "<div id=\"div_fig1\">\n",
       "\n",
       "<img src=\"tmp_2401.13742/./comp_forpaper.png\" alt=\"Fig5\" width=\"100%\"/>\n",
       "\n",
       "**Figure 5. -** Comparison of the decomposition results ($r_e$ in the unit of arcsec, $n$, and $H/T$) based on the F444W filter using different PSFs (Columns a--c). Data points in red have satisfied our stringent criteria for host detection (Sec. \\ref{subsubsec:detection}).\n",
       "  Column (d) compares $M_*$ estimated by the SED fitting, with colors corresponding to whether each object was detected in more than two bands.\n",
       "  Spearman's correlation coefficient $\\rho$ for each prior is shown in the lower right corner of each panel.\n",
       "  High correlation coefficients and the distribution around $y=x$(black dashed line) suggest consistent results among the fitting with different PSFs.\n",
       "   (*fig:comp_res_deco*)\n",
       "\n",
       "</div>\n",
       "<div id=\"div_fig2\">\n",
       "\n",
       "<img src=\"tmp_2401.13742/./massmass_together.png\" alt=\"Fig9.1\" width=\"25%\"/><img src=\"tmp_2401.13742/./alpha.png\" alt=\"Fig9.2\" width=\"25%\"/><img src=\"tmp_2401.13742/./selbias_top5.png\" alt=\"Fig9.3\" width=\"25%\"/><img src=\"tmp_2401.13742/./massmass_final.png\" alt=\"Fig9.4\" width=\"25%\"/>\n",
       "\n",
       "**Figure 9. -** (_ left_) Observed $M_{\\rm BH}$ and $M_*$ distribution as shown by the red circles. A linear fit is indicated by the red line with the shaded region indicating the $1\\sigma$ confidence range.\n",
       "  The best-fit relation and Spearman's correlation coefficient are reported at the top of the panel.\n",
       "  (_ right_) $\\Delta\\log\\left(M_{\\rm BH}/M_\\odot\\right)$ as a function of redshift where zero corresponds to the local relation as marked by the gray band having a width representing the local dispersion.\n",
       "  In both panels, samples from previous studies using HST are plotted:\n",
       "  gray for low-$z$ \\citep{Haring2004, Bennert2011}, green for intermediate-$z$ \\citep{Jahnke2009,Bennert2011highz,Cisternas2011,Schramm2013}\n",
       "  and orange indicating those from \\cite{Ding2020_HST} at $z\\sim1.5$.\n",
       "  }\n",
       "\\end{figure*}\n",
       "For comparison, we also provide the linear fit to the local sample consisting of 30 inactive galaxies \\citep{Haring2004} and 25 active galaxies \\citep{Bennert2011}. The fit to these 55 galaxies results in $\\alpha_{\\rm local}\\simeq0.97^{+0.10}_{-0.11}$ and $\\beta_{\\rm local}\\simeq-2.48^{+1.15}_{-1.11}$.\n",
       "Note that the local sample and our high-$z$ sample have different selection effects. Thus, we cannot directly compare $\\alpha$ and $\\beta$ with $\\alpha_{\\rm local}$ and $\\beta_{\\rm local}$ (see Sections \\ref{subsec:sel_alpha} and \\ref{subsec:redshift_evolution} for the discussion with consideration of selection bias).\n",
       "For investigating the redshift dependence of the mass relation, we calculate $\\Delta\\log\\left(M_{\\rm BH}/M_\\odot\\right)$, the relative offset of the black hole mass at given $M_*$ from the local relation:\n",
       "\n",
       "\n",
       "$$\n",
       "    \\Delta\\log\\left(M_{\\rm BH}/M_\\odot\\right)= M_{\\rm BH} - \\alpha_{\\rm local}\\log\\left(M_*/M_\\odot\\right)-\\beta_{\\rm local},\n",
       "$$\n",
       "\n",
       "\n",
       "For $\\alpha_{\\rm local}$ and $\\beta_{\\rm local}$, we use the above values from the local samples \\citep{Haring2004, Bennert2011}, i.e., $0.97$ and $-2.48$, respectively.\n",
       "We plot $\\Delta\\log\\left(M_{\\rm BH}/M_\\odot\\right)$ as a function of $z$ in the right panel of Figure \\ref{fig:massmass}. We then parameterize $\\Delta\\log\\left(M_{\\rm BH}/M_\\odot\\right)$ to evolve with $z$ as:\n",
       "\n",
       "\n",
       "$$\n",
       "    \\Delta\\log\\left(M_{\\rm BH}/M_\\odot\\right)= \\gamma\\log\\left(1+z\\right). \n",
       "$$\n",
       "\n",
       "\n",
       "Here, we assume there is no redshift change in $\\alpha$ and $\\beta$ and $\\Delta\\log M_{\\rm BH}$ can be described by only the evolution from the local relation ($\\log M_{\\rm BH} = \\alpha_{\\rm local} \\log M_{\\rm *} + \\beta_{\\rm local}$).\n",
       "Fitting our data with Equation (\\ref{eq:Delta}) without considering the selection bias results in $\\gamma=1.19^{+0.17}_{-0.15}$, suggesting positive evolution.\n",
       "However, because our sample is (X-ray) flux-limited, it's essential to consider the impact of selection bias when determining the mass relation \\citep[e.g.,]{Ding2020_HST, Li2021_HSC, Li2021_EoR}.\n",
       "Thus, for the rest of this section, we measure the intrinsic slope of the mass relation ($\\alpha$) at $z\\sim1.5$ and the redshift evolution parameter ($\\gamma$) by comparing our results with mock catalogs as described in Section \\ref{subsubsec:_mock}. This approach allows us to account for selection bias and measurement uncertainties to determine the intrinsic redshift evolution and dispersion of the mass relation.\n",
       "\\begin{figure*}[ht!]\\epsscale{1.15}\n",
       "  \\includegraphics{alpha.pdf}\n",
       "  \\caption{\n",
       "  (_ left_) Posterior distribution in the $\\alpha-\\beta$ plane obtained through a comparison between mock observation and our sample.\n",
       "  The posterior distributions for $\\alpha$ and $\\beta$ are shown in the right and upper 1D histogram.\n",
       "  Each contour indicates $1$, $2$, and $3\\sigma$ levels.\n",
       "  The median and $1\\sigma$ confidence levels of $\\alpha$ and $\\beta$ are shown in the top-right corner of each panel.\n",
       "  (_ right_) Comparison of mock observed masses generated with each $\\alpha$ and $\\beta$ at $z=1.5$ with the real observed data at $z=1-2$ shown in red circles.\n",
       "  Contours show the distribution of mock observation, indicating $1$, $2$, and $3\\sigma$ levels.\n",
       "  Each parameter set, $\\alpha$ and $\\beta$, is shown in the upper left corner of each panel.\n",
       "  As shown, we cannot reject the scenario that $\\alpha$ does not evolve up to $z\\sim2.5$.\n",
       "  }\n",
       "\\end{figure*}\\subsection{Intrinsic slope ($\\alpha$) of the mass relation at $z\\sim1.5$}\n",
       "Past efforts to establish the evolution of the ratio between black hole and galaxy mass assume that there is a linear relation at higher redshifts and the slope of the relation matches the local relation \\citep[e.g.,][]{Ding2020_HST, Li2021_HSC}.\n",
       "This may not necessarily be the case.\n",
       "Here, we assess how well the parameters of a linear relation can be constrained.\n",
       "In particular, we initially assumed that $\\alpha$ and $\\beta$, for constructing the mock samples (Equation (\\ref{eq:mock_mr}), have constant values independent of the redshift, and the evolution is expressed simply as $\\gamma\\log\\left(1+z\\right)$. However, the results in the previous Section \\ref{subsec:mass-mass} may indicate a different $\\alpha$ from the local value without considering selection biases.\n",
       "In this section, we examine whether the constant $\\alpha$ assumption is valid by estimating the intrinsic value of $\\alpha$ while considering selection bias and provide evidence for an intrinsic relation between $M_{\\rm BH}$ and $M_*$ at $z > 1$ for the first time.\n",
       "Since the parameters $\\alpha$, $\\beta$, and $\\gamma$ exhibit degeneracies, we constrain the $z$ range to $z=1-2$ and perform fitting for $\\alpha$ and $\\beta$ with an assumption of $\\gamma=0$ over this redshift range.\n",
       "Consequently, we cannot compare the estimated $\\beta$ with the values in the local relation directly.\n",
       "For the intrinsic dispersion of the mass relation $\\sigma_\\mu$, we assume 0.3 dex, thus matching local studies.\n",
       "\\begin{figure*}[ht!]\\epsscale{1.15}\n",
       "  \\includegraphics{selbias_top5.pdf}\n",
       "  \\caption{Posterior distribution on the $\\sigma_\\mu-\\gamma$ plane obtained through a comparison between mock observation and our sample (the result with the top-5 stacked PSFs).\n",
       "  Panels (a) to (c) correspond to the result using basic, Gaussian, and realistic prior settings, respectively.\n",
       "  The posterior distribution for $\\sigma_\\mu$ and $\\gamma$ are shown in the right and upper 1D histogram.\n",
       "  Each contour (red to orange) indicates $1$, $2$, and $3\\sigma$ from inner to outer.\n",
       "  The median and $1\\sigma$ confidence levels of $\\gamma$ and $\\sigma_\\mu$ are shown in the top-right corner of each panel.\n",
       "  Only in panel (b), we plot the contour from \\cite{Li2021_HSC} in gray, and their $\\gamma$ and $\\sigma_\\mu$ estimations are shown in the lower left corner based on SDSS quasars at $0.3<z<0.8$ with Subaru HSC imaging.\n",
       "  Regardless of the prior, the results suggest no or mild evolution at $z < 2.5$.\n",
       "  }\n",
       "\\end{figure*}\n",
       "With the mock observed data described in Section \\ref{subsubsec:_mock}, we apply the selection criteria corresponding to our sample (Section \\ref{subsec:sample_selection}) and compare them with the observed results to constrain the evolution parameters.\n",
       "We assume the observation thresholds as;\n",
       "\\begin{align}\n",
       "    F_{\\rm[2-10 keV]} &> F_{\\rm[2-10 keV], lim},\\FWHM_{\\rm line} &> 1000 {\\rm km s^{-1}},\n",
       "\\end{align}\n",
       "where the first and second conditions correspond to the detection limit of the X-ray observation and broad lines for single epoch $M_{\\rm BH}$ estimation.\n",
       "As shown in Figure \\ref{fig:sample_range} (a), excluding the three objects, all sources in our sample have $F_{\\rm[2-10 keV]}$ above the XMM-Newton $F_{\\rm[2-10 keV], lim}$.\n",
       "Note that all of the three targets with $F_{\\rm[2-10 keV]}$ smaller than XMM-Newton $F_{\\rm[2-10 keV], lim}$ are targets observed only with Chandra.\n",
       "Therefore, for the 57 sources other than the three targets, we utilized the XMM-Newton $F_{\\rm[2-10 keV], lim}$, while for the remaining three$\\footnote${\n",
       "We exclude CID-166 manually (Section \\ref{subsubsec:detection}), so the sum $57+3=60$ is smaller than our sample size $61$.}, we employed the Chandra $F_{\\rm[2-10 keV], lim}$; i.e., we changed $F_{\\rm[2-10 keV], lim}$ depending on the compared observation galaxy.\n",
       "Because $M_{\\rm BH}$ of our real targets are based on single epoch estimation with three different lines (${\\rm H\\alpha}$, ${\\rm H\\beta}$, and ${\\rm Mg{\\sc II}}$), we have three different selection thresholds on the mock galaxy using $FWHM_{\\rm H\\alpha}$, $FWHM_{\\rm H\\beta}$, and $FWHM_{\\rm Mg{\\sc II}}$.\n",
       "For each of our targets, we first select the mock galaxies with the corresponding selection bias, i.e., the selection condition using the same line information used to estimate $M_{\\rm BH}$.\n",
       "Furthermore, we select the mock galaxies with a similar redshift; $\\left|z-z_{\\rm mock}\\right|<0.1$.\n",
       "Then, we calculate the probability that the mock galaxies with the similar $z_{\\rm mock}$ as the real galaxy would have the same $\\Tilde{M}_{\\rm *,mock}$ with $\\left|\\Delta M_{\\rm *}\\right|<0.1$ and $M_{\\rm vir,mock}$ with $\\left|\\Delta M_{\\rm BH}\\right|<0.1$, i.e., calculate the probability $p$ following\n",
       "\n",
       "\n",
       "$$\n",
       "    p = \\frac{N_{\\left|\\Delta z\\right|<0.1, \\left|\\Delta M_*\\right|<0.1, \\left|\\Delta M_{\\rm BH}\\right|<0.1}}{N_{\\left|\\Delta z\\right|<0.1}}.\n",
       "$$\n",
       "\n",
       "\n",
       "We then calculate the likelihood of our sample being observed for each parameter combination of $\\alpha$ and $\\beta$.\n",
       "Thereby, we estimate the probability distribution of these parameters using MCMC.\n",
       "In the sampling, we assume a uniform prior between 0.1 to 3 for $\\alpha$, and -25 to 8 for $\\beta$.\n",
       "\\begin{figure*}\\epsscale{0.9}\n",
       "  \\includegraphics{massmass_final.pdf}\n",
       "  \\caption{\n",
       "  (_ left_) Comparison of the observed sample and the mock observation of $z\\sim1.5$ AGN on the $M_{\\rm BH}-M_*$ plane.\n",
       "  The mock data at $z\\sim1.5$ is constructed with the best-fit $\\gamma$ and $\\sigma_\\mu$ (the result with the top-5 stacked PSFs assuming the \"Gaussian\" prior) while assuming $\\alpha_{\\rm local}$ and $\\beta_{\\rm local}$.\n",
       "  Small red circles with error bars and the red dashed lines indicate the observed data and the linear fit results (same with Figure \\ref{fig:massmass}_ left_).\n",
       "  Contours indicate a distribution of mock observed samples, showing $1$, $2$, and $3\\sigma$ from inner to outer.\n",
       "  (_ right_)\n",
       "  Comparison of the intrinsic $M_{\\rm BH}$--$M_*$ relation at $z\\sim1.5$ (the red line) to the local relation (the gray line).\n",
       "  }\n",
       "\\end{figure*}\n",
       "The obtained $\\alpha-\\beta$ distribution is shown on the left panel of Figure \\ref{fig:alpha}, indicating a strong anti-correlated degeneracy between $\\alpha$ and $\\beta$.\n",
       "Because the $1\\sigma$ contour includes values $\\left(\\alpha_{\\rm local}, \\beta_{\\rm local}\\right)$ corresponding to the local relation, our results do not definitively reject the scenario where $\\alpha$ and $\\beta$ do not evolve compared to the local relation up to $z\\sim2.5$.\n",
       "However, our results have a preference to higher $\\alpha$ than the local relation with $\\alpha=1.54^{+0.31}_{-0.36}$.\n",
       "This result suggests high-$z$ mass relation is steeper than the local relation for massive ellipticals, being more consistent with quasar host galaxies at $z\\lesssim0.35$\\citep{Zhuang2023nature}.\n",
       "In the right panels of Figure \\ref{fig:alpha}, we show the $M_{\\rm BH}-M_*$ distribution for mock observed galaxies (similar to Figure \\ref{fig:mockmake}f) generated with manually sampled parameters on the ridge of the $\\alpha-\\beta$ degenerated relation and the real observed galaxies ($\\alpha\\sim0.7-2.1$).\n",
       "The plots suggest that the mock data exhibits a similar distribution to our sample within the comparable mass range.\n",
       "However, because these parameters are constrained only with our results, more significant differences in $M_*$ distribution between the shown parameters become evident at the lower $M_{\\rm BH}$ range ($\\log\\left(M_{\\rm BH}/M_\\odot\\right)< 8$).\n",
       "Therefore, to break this degenerate relation and improve the precision of determining $\\alpha$ and $\\beta$, a larger sample with a wider $M_{\\rm BH}$ range in future studies is essential.\n",
       "Even so, we demonstrate that a relation between $M_{\\rm BH}$ and $M_*$ at high-$z$ is realized based on having a statistical sample afforded by the COSMOS-Web data set. As indicated by Figure \\ref{fig:comp_res_deco}(d), the difference in the PSF reconstruction methods does not significantly affect the $M_*$ estimation. Therefore, the posterior distribution of $\\alpha$ and $\\beta$ that are estimated based on $M_*$ also shows no significant PSF dependency.\n",
       "\\subsection{Intrinsic evolution ($\\gamma$) of the $M_{\\rm BH}/M_*$ relation}\n",
       "To determine the evolution of mass relation with consideration of the selection bias and measurement uncertainties, we generate mock observed catalogs with free parameters of $\\gamma$(evolution rate) and $\\sigma_\\mu$(intrinsic dispersion of the mass relation) and constrain them by comparing the mock catalogs with observational data in a similar manner to Section \\ref{subsec:sel_alpha}. In contrast to Section \\ref{subsec:sel_alpha}, we fixed $\\alpha$ and $\\beta$ in Equation (\\ref{eq:mock_mr}) to the values in the local relation ($\\alpha_{\\rm local}$, $\\beta_{\\rm local}$) to consider the redshift evolution.\n",
       "As illustrated in Section \\ref{subsec:sel_alpha}, we cannot rule out the possibility for evolution of $\\alpha$.\n",
       "However, as described in Section \\ref{subsec:sel_alpha}, $\\alpha$, $\\beta$, and $\\gamma$ are strongly degenerate, and obtaining physically meaningful results is challenging when all three parameters are left free for the sample being considered here.\n",
       "There is still a possibility that $\\sigma_\\mu$ depends on redshift. Nevertheless, as discussed later, imposing strong constraints on $\\sigma_\\mu$ in our results is challenging due to the sample size and its uncertainties.\n",
       "Therefore, we set $\\sigma_\\mu$ as a constant independent of redshift in the fitting.\n",
       "It means $\\sigma_\\mu$ obtained through this method is considered to be an averaged value over $z\\sim0.7-2.5$.\n",
       "Even so, this $\\sigma_\\mu$ estimation has the highest statistical significance for such a study at $z \\gtrsim 1$.\n",
       "We discuss the redshift evolution of $\\sigma_\\mu$ in Section \\ref{subsubsec:scatter_evol}.\n",
       "Finally, in this analysis, we assume no redshift-dependent parameters among the free parameters.\n",
       "Therefore, there is no need to restrict the redshift range within the data, as in Section \\ref{subsec:sel_alpha}.\n",
       "In the fitting process, we assume a uniform prior distribution for $\\gamma$ between $-1<\\gamma<1$.\n",
       "Then, we have three different prior settings for $\\sigma_\\mu$: a uniform distribution between $0.01<\\sigma_\\mu<1.0$(basic), a Gaussian distribution with a mean of 0.3 dex and a standard deviation of 0.1 dex (Gaussian), and a uniform distribution between $0.25<\\sigma_\\mu<1.0$ with a prohibition of $\\sigma_\\mu<0.25$(realistic).\n",
       "Figure \\ref{fig:selbias} shows the estimated posterior distributions of $\\gamma$ and $\\sigma_\\mu$ using each prior setting with the top-5 stacked PSF results.\n",
       "As evident in all panels by the orange contours, the intrinsic dispersion $\\sigma_\\mu$ is strongly degenerate with the evolution rate $\\gamma$ where a smaller $\\gamma$ results in a larger $\\sigma_\\mu$ as demonstrated in previous studies \\citep{Ding2020_HST, Li2021_HSC}.\n",
       "To reiterate, a smaller value for $\\gamma$ biases the mass relation towards relatively lower $M_{\\rm BH}$ values thus a larger $\\sigma_\\mu$ is required to reproduce a certain set of observation data.\n",
       "Considering the likelihood distribution for $\\gamma$, the \"basic\" prior setting shows a slight positive-to-no evolution with $\\gamma=0.34^{+0.37}_{-0.58}$.\n",
       "Similarly, the  \"Gaussian\" prior setting results in $\\gamma=0.37^{+0.35}_{-0.60}$, just slightly closer to the case of \"no evolution ($\\gamma=0$).\n",
       "If we assume that the intrinsic dispersion should not be significantly smaller than the local dispersion, we limit the allowed range for $\\sigma_\\mu$ to be above $0.25$(\"Realistic\" case).\n",
       "In this case, we find $\\gamma=0.06^{+0.37}_{-0.50}$, remarkably close to the case for no evolution.\n",
       "For the latter, the intrinsic dispersion is slightly higher at $0.36^{+0.10}_{-0.07}$.\n",
       "In all cases, our results are consistent with very mild or essentially a lack of evolution with respect to the local relation.\n",
       "Then, the left panel of Figure \\ref{fig:massmass_final} compares mock observations using the median parameters ($\\gamma=0.30$ and $\\sigma_\\mu=0.29$) under the assumption of \"Gaussian\" prior with the actual observational $M_{\\rm BH}$--$M_*$ distribution and relation.\n",
       "We can see that the mock data can explain the observed data well.\n",
       "The right panel of Figure \\ref{fig:massmass_final} compares the intrinsic relationship, i.e., the relation corrected for the selection bias, with the local relation.\n",
       "Again, the resulting intrinsic relation is consistent with the local relation within the range of errors.\n",
       "\\n\\end{document}(_ left_) Posterior distribution in the $\\alpha-\\beta$ plane obtained through a comparison between mock observation and our sample.\n",
       "  The posterior distributions for $\\alpha$ and $\\beta$ are shown in the right and upper 1D histogram.\n",
       "  Each contour indicates $1$, $2$, and $3\\sigma$ levels.\n",
       "  The median and $1\\sigma$ confidence levels of $\\alpha$ and $\\beta$ are shown in the top-right corner of each panel.\n",
       "  (_ right_) Comparison of mock observed masses generated with each $\\alpha$ and $\\beta$ at $z=1.5$ with the real observed data at $z=1-2$ shown in red circles.\n",
       "  Contours show the distribution of mock observation, indicating $1$, $2$, and $3\\sigma$ levels.\n",
       "  Each parameter set, $\\alpha$ and $\\beta$, is shown in the upper left corner of each panel.\n",
       "  As shown, we cannot reject the scenario that $\\alpha$ does not evolve up to $z\\sim2.5$.\n",
       "  Posterior distribution on the $\\sigma_\\mu-\\gamma$ plane obtained through a comparison between mock observation and our sample (the result with the top-5 stacked PSFs).\n",
       "  Panels (a) to (c) correspond to the result using basic, Gaussian, and realistic prior settings, respectively.\n",
       "  The posterior distribution for $\\sigma_\\mu$ and $\\gamma$ are shown in the right and upper 1D histogram.\n",
       "  Each contour (red to orange) indicates $1$, $2$, and $3\\sigma$ from inner to outer.\n",
       "  The median and $1\\sigma$ confidence levels of $\\gamma$ and $\\sigma_\\mu$ are shown in the top-right corner of each panel.\n",
       "  Only in panel (b), we plot the contour from \\cite{Li2021_HSC} in gray, and their $\\gamma$ and $\\sigma_\\mu$ estimations are shown in the lower left corner based on SDSS quasars at $0.3<z<0.8$ with Subaru HSC imaging.\n",
       "  Regardless of the prior, the results suggest no or mild evolution at $z < 2.5$.\n",
       "  (_ left_) Comparison of the observed sample and the mock observation of $z\\sim1.5$ AGN on the $M_{\\rm BH}-M_*$ plane.\n",
       "  The mock data at $z\\sim1.5$ is constructed with the best-fit $\\gamma$ and $\\sigma_\\mu$(the result with the top-5 stacked PSFs assuming the \"Gaussian\" prior) while assuming $\\alpha_{\\rm local}$ and $\\beta_{\\rm local}$.\n",
       "  Small red circles with error bars and the red dashed lines indicate the observed data and the linear fit results (same with Figure \\ref{fig:massmass}_ left_).\n",
       "  Contours indicate a distribution of mock observed samples, showing $1$, $2$, and $3\\sigma$ from inner to outer.\n",
       "  (_ right_)\n",
       "  Comparison of the intrinsic $M_{\\rm BH}$--$M_*$ relation at $z\\sim1.5$(the red line) to the local relation (the gray line).\n",
       "   (*subsec:sel_alpha*)\n",
       "\n",
       "</div>\n",
       "<div id=\"div_fig3\">\n",
       "\n",
       "<img src=\"tmp_2401.13742/./finalPSF_compare_CW_A5_cid_62_wo814.png\" alt=\"Fig13\" width=\"100%\"/>\n",
       "\n",
       "**Figure 13. -** \n",
       "  Comparison of different methods to evaluate empirical models of the PSF.\n",
       "  Columns (a) to (c) show images of the top-5 stacked PSF, the top-75\\% stacked PSF, and the {\\tt PSFEx}-PSF for an example galaxy, CID-62 ($z=1.92$), in F115W, F150W, F277W, and F444W, from top to bottom.\n",
       "  FWHM along the semi-major axis measured from the 2D Gaussian fits shown in the top-left corner of each image.\n",
       "  The white bars in the lower left indicate a scale of $1^{\\prime\\prime}$.\n",
       "  Columns (d) and (e) show the distribution of the FWHM (semi-major axis) and ellipticity $b/a$.\n",
       "  Gray histograms display the distribution of each single PSF in the library (Section \\ref{subsubsec:chisq_PSF}).\n",
       "  The values for the top-5 stacked PSF, the top-75\\% stacked PSF, {\\tt PSFEx}-PSF are marked by the blue, green, and red vertical lines, respectively.\n",
       "   (*fig:final_PSF*)\n",
       "\n",
       "</div><div id=\"qrcode\"><img src=https://api.qrserver.com/v1/create-qr-code/?size=100x100&data=\"https://arxiv.org/abs/2401.13742\"></div>"
      ],
      "text/plain": [
       "<IPython.core.display.Markdown object>"
      ]
     },
     "metadata": {},
     "output_type": "display_data"
    }
   ],
   "source": [
    "[display(Markdown(k[1])) for k in documents];"
   ]
  },
  {
   "cell_type": "markdown",
   "id": "873873a4",
   "metadata": {
    "papermill": {
     "duration": 0.005002,
     "end_time": "2024-01-26T04:09:45.117192",
     "exception": false,
     "start_time": "2024-01-26T04:09:45.112190",
     "status": "completed"
    },
    "tags": []
   },
   "source": [
    "# Create HTML index"
   ]
  },
  {
   "cell_type": "code",
   "execution_count": 9,
   "id": "cf665672",
   "metadata": {
    "execution": {
     "iopub.execute_input": "2024-01-26T04:09:45.127881Z",
     "iopub.status.busy": "2024-01-26T04:09:45.127682Z",
     "iopub.status.idle": "2024-01-26T04:09:45.137322Z",
     "shell.execute_reply": "2024-01-26T04:09:45.136812Z"
    },
    "papermill": {
     "duration": 0.016564,
     "end_time": "2024-01-26T04:09:45.138667",
     "exception": false,
     "start_time": "2024-01-26T04:09:45.122103",
     "status": "completed"
    },
    "tags": []
   },
   "outputs": [
    {
     "name": "stdout",
     "output_type": "stream",
     "text": [
      "362  publications files modified in the last 7 days.\n"
     ]
    }
   ],
   "source": [
    "from datetime import datetime, timedelta, timezone\n",
    "from glob import glob\n",
    "import os\n",
    "\n",
    "files = glob('_build/html/*.md')\n",
    "days = 7\n",
    "now = datetime.today()\n",
    "res = []\n",
    "for fk in files:\n",
    "    stat_result = os.stat(fk).st_ctime\n",
    "    modified = datetime.fromtimestamp(stat_result, tz=timezone.utc).replace(tzinfo=None)\n",
    "    delta = now.today() - modified\n",
    "    if delta <= timedelta(days=days):\n",
    "        res.append((delta.seconds, fk))\n",
    "res = [k[1] for k in reversed(sorted(res, key=lambda x:x[1]))]\n",
    "npub = len(res)\n",
    "print(len(res), f\" publications files modified in the last {days:d} days.\")\n",
    "# [ print('\\t', k) for k in res ];"
   ]
  },
  {
   "cell_type": "code",
   "execution_count": 10,
   "id": "015de740",
   "metadata": {
    "execution": {
     "iopub.execute_input": "2024-01-26T04:09:45.149886Z",
     "iopub.status.busy": "2024-01-26T04:09:45.149501Z",
     "iopub.status.idle": "2024-01-26T04:09:45.170536Z",
     "shell.execute_reply": "2024-01-26T04:09:45.169978Z"
    },
    "papermill": {
     "duration": 0.028244,
     "end_time": "2024-01-26T04:09:45.171928",
     "exception": false,
     "start_time": "2024-01-26T04:09:45.143684",
     "status": "completed"
    },
    "tags": []
   },
   "outputs": [
    {
     "name": "stdout",
     "output_type": "stream",
     "text": [
      "8  publications in the last 7 days.\n"
     ]
    }
   ],
   "source": [
    "import datetime\n",
    "from glob import glob\n",
    "\n",
    "def get_last_n_days(lst, days=1):\n",
    "    \"\"\" Get the documents from the last n days \"\"\"\n",
    "    sorted_lst = sorted(lst, key=lambda x: x[1], reverse=True)\n",
    "    for fname, date in sorted_lst:\n",
    "        if date >= str(datetime.date.today() - datetime.timedelta(days=days)):\n",
    "            yield fname\n",
    "\n",
    "def extract_appearance_dates(lst_file):\n",
    "    dates = []\n",
    "\n",
    "    def get_date(line):\n",
    "        return line\\\n",
    "            .split('Appeared on:')[-1]\\\n",
    "            .split('</mark>')[0].strip()\n",
    "\n",
    "    for fname in lst:\n",
    "        with open(fname, 'r') as f:\n",
    "            found_date = False\n",
    "            for line in f:\n",
    "                if not found_date:\n",
    "                    if \"Appeared on\" in line:\n",
    "                        found_date = True\n",
    "                        dates.append((fname, get_date(line)))\n",
    "                else:\n",
    "                    break\n",
    "    return dates\n",
    "\n",
    "from glob import glob\n",
    "lst = glob('_build/html/*md')\n",
    "days = 7\n",
    "dates = extract_appearance_dates(lst)\n",
    "res = list(get_last_n_days(dates, days))\n",
    "npub = len(res)\n",
    "print(len(res), f\" publications in the last {days:d} days.\")"
   ]
  },
  {
   "cell_type": "code",
   "execution_count": 11,
   "id": "52ca0208",
   "metadata": {
    "execution": {
     "iopub.execute_input": "2024-01-26T04:09:45.183525Z",
     "iopub.status.busy": "2024-01-26T04:09:45.183053Z",
     "iopub.status.idle": "2024-01-26T04:09:45.188212Z",
     "shell.execute_reply": "2024-01-26T04:09:45.187672Z"
    },
    "papermill": {
     "duration": 0.01226,
     "end_time": "2024-01-26T04:09:45.189441",
     "exception": false,
     "start_time": "2024-01-26T04:09:45.177181",
     "status": "completed"
    },
    "scrolled": false,
    "tags": []
   },
   "outputs": [],
   "source": [
    "def create_carousel(npub=4):\n",
    "    \"\"\" Generate the HTML code for a carousel with `npub` slides \"\"\"\n",
    "    carousel = [\"\"\"  <div class=\"carousel\" \"\"\",\n",
    "                \"\"\"       data-flickity='{ \"autoPlay\": 10000, \"adaptiveHeight\": true, \"resize\": true, \"wrapAround\": true, \"pauseAutoPlayOnHover\": true, \"groupCells\": 1 }' id=\"asyncTypeset\">\"\"\"\n",
    "                ]\n",
    "    \n",
    "    item_str = \"\"\"    <div class=\"carousel-cell\"> <div id=\"slide{k}\" class=\"md_view\">Content {k}</div> </div>\"\"\"\n",
    "    for k in range(1, npub + 1):\n",
    "        carousel.append(item_str.format(k=k))\n",
    "    carousel.append(\"  </div>\")\n",
    "    return '\\n'.join(carousel)\n",
    "\n",
    "def create_grid(npub=4):\n",
    "    \"\"\" Generate the HTML code for a flat grid with `npub` slides \"\"\"\n",
    "    grid = [\"\"\"  <div class=\"grid\"> \"\"\",\n",
    "                ]\n",
    "    \n",
    "    item_str = \"\"\"    <div class=\"grid-item\"> <div id=\"slide{k}\" class=\"md_view\">Content {k}</div> </div>\"\"\"\n",
    "    for k in range(1, npub + 1):\n",
    "        grid.append(item_str.format(k=k))\n",
    "    grid.append(\"  </div>\")\n",
    "    return '\\n'.join(grid)"
   ]
  },
  {
   "cell_type": "code",
   "execution_count": 12,
   "id": "a6eac5b6",
   "metadata": {
    "execution": {
     "iopub.execute_input": "2024-01-26T04:09:45.200820Z",
     "iopub.status.busy": "2024-01-26T04:09:45.200335Z",
     "iopub.status.idle": "2024-01-26T04:09:45.205319Z",
     "shell.execute_reply": "2024-01-26T04:09:45.204716Z"
    },
    "papermill": {
     "duration": 0.012172,
     "end_time": "2024-01-26T04:09:45.206739",
     "exception": false,
     "start_time": "2024-01-26T04:09:45.194567",
     "status": "completed"
    },
    "scrolled": false,
    "tags": []
   },
   "outputs": [],
   "source": [
    "carousel = create_carousel(npub)\n",
    "docs = ', '.join(['\"{0:s}\"'.format(k.split('/')[-1]) for k in res])\n",
    "slides = ', '.join([f'\"slide{k}\"' for k in range(1, npub + 1)])\n",
    "\n",
    "with open(\"daily_template.html\", \"r\") as tpl:\n",
    "    page = tpl.read()\n",
    "    page = page.replace(\"{%-- carousel:s --%}\", carousel)\\\n",
    "               .replace(\"{%-- suptitle:s --%}\",  \"7-day archives\" )\\\n",
    "               .replace(\"{%-- docs:s --%}\", docs)\\\n",
    "               .replace(\"{%-- slides:s --%}\", slides)\n",
    "    \n",
    "with open(\"_build/html/index_7days.html\", 'w') as fout:\n",
    "    fout.write(page)"
   ]
  },
  {
   "cell_type": "code",
   "execution_count": 13,
   "id": "adc1a1ec",
   "metadata": {
    "execution": {
     "iopub.execute_input": "2024-01-26T04:09:45.218113Z",
     "iopub.status.busy": "2024-01-26T04:09:45.217644Z",
     "iopub.status.idle": "2024-01-26T04:09:45.224298Z",
     "shell.execute_reply": "2024-01-26T04:09:45.223696Z"
    },
    "papermill": {
     "duration": 0.013642,
     "end_time": "2024-01-26T04:09:45.225560",
     "exception": false,
     "start_time": "2024-01-26T04:09:45.211918",
     "status": "completed"
    },
    "tags": []
   },
   "outputs": [
    {
     "name": "stdout",
     "output_type": "stream",
     "text": [
      "3  publications in the last day.\n"
     ]
    }
   ],
   "source": [
    "# redo for today\n",
    "days = 1\n",
    "res = list(get_last_n_days(dates, days))\n",
    "npub = len(res)\n",
    "print(len(res), f\" publications in the last day.\")\n",
    "\n",
    "carousel = create_carousel(npub)\n",
    "docs = ', '.join(['\"{0:s}\"'.format(k.split('/')[-1]) for k in res])\n",
    "slides = ', '.join([f'\"slide{k}\"' for k in range(1, npub + 1)])\n",
    "\n",
    "with open(\"daily_template.html\", \"r\") as tpl:\n",
    "    page = tpl.read()\n",
    "    page = page.replace(\"{%-- carousel:s --%}\", carousel)\\\n",
    "               .replace(\"{%-- suptitle:s --%}\",  \"Daily\" )\\\n",
    "               .replace(\"{%-- docs:s --%}\", docs)\\\n",
    "               .replace(\"{%-- slides:s --%}\", slides)\n",
    "    \n",
    "# print(carousel, docs, slides)\n",
    "# print(page)\n",
    "with open(\"_build/html/index_daily.html\", 'w') as fout:\n",
    "    fout.write(page)"
   ]
  },
  {
   "cell_type": "code",
   "execution_count": 14,
   "id": "00eece82",
   "metadata": {
    "execution": {
     "iopub.execute_input": "2024-01-26T04:09:45.237357Z",
     "iopub.status.busy": "2024-01-26T04:09:45.237114Z",
     "iopub.status.idle": "2024-01-26T04:09:45.243412Z",
     "shell.execute_reply": "2024-01-26T04:09:45.242879Z"
    },
    "papermill": {
     "duration": 0.013693,
     "end_time": "2024-01-26T04:09:45.244626",
     "exception": false,
     "start_time": "2024-01-26T04:09:45.230933",
     "status": "completed"
    },
    "scrolled": false,
    "tags": []
   },
   "outputs": [
    {
     "name": "stdout",
     "output_type": "stream",
     "text": [
      "6  6 publications selected.\n"
     ]
    }
   ],
   "source": [
    "# Create the flat grid of the last N papers (fixed number regardless of dates)\n",
    "from itertools import islice \n",
    "\n",
    "npub = 6\n",
    "res = [k[0] for k in (islice(reversed(sorted(dates, key=lambda x: x[1])), 6))]\n",
    "print(len(res), f\" {npub} publications selected.\")\n",
    "\n",
    "grid = create_grid(npub)\n",
    "docs = ', '.join(['\"{0:s}\"'.format(k.split('/')[-1]) for k in res])\n",
    "slides = ', '.join([f'\"slide{k}\"' for k in range(1, npub + 1)])\n",
    "\n",
    "with open(\"grid_template.html\", \"r\") as tpl:\n",
    "    page = tpl.read()\n",
    "    page = page.replace(\"{%-- grid-content:s --%}\", grid)\\\n",
    "               .replace(\"{%-- suptitle:s --%}\",  f\"Last {npub:,d} papers\" )\\\n",
    "               .replace(\"{%-- docs:s --%}\", docs)\\\n",
    "               .replace(\"{%-- slides:s --%}\", slides)\n",
    "    \n",
    "# print(grid, docs, slides)\n",
    "# print(page)\n",
    "with open(\"_build/html/index_npub_grid.html\", 'w') as fout:\n",
    "    fout.write(page)"
   ]
  }
 ],
 "metadata": {
  "kernelspec": {
   "display_name": "Python 3 (ipykernel)",
   "language": "python",
   "name": "python3"
  },
  "language_info": {
   "codemirror_mode": {
    "name": "ipython",
    "version": 3
   },
   "file_extension": ".py",
   "mimetype": "text/x-python",
   "name": "python",
   "nbconvert_exporter": "python",
   "pygments_lexer": "ipython3",
   "version": "3.9.18"
  },
  "papermill": {
   "default_parameters": {},
   "duration": 70.192393,
   "end_time": "2024-01-26T04:09:45.467208",
   "environment_variables": {},
   "exception": null,
   "input_path": "MPIA daily digest.ipynb",
   "output_path": "log.ipynb",
   "parameters": {},
   "start_time": "2024-01-26T04:08:35.274815",
   "version": "2.5.0"
  },
  "vscode": {
   "interpreter": {
    "hash": "aee8b7b246df8f9039afb4144a1f6fd8d2ca17a180786b69acc140d282b71a49"
   }
  },
  "widgets": {
   "application/vnd.jupyter.widget-state+json": {
    "state": {
     "67303a776fea41888d9d3af2e39d6212": {
      "model_module": "@jupyter-widgets/base",
      "model_module_version": "2.0.0",
      "model_name": "LayoutModel",
      "state": {
       "_model_module": "@jupyter-widgets/base",
       "_model_module_version": "2.0.0",
       "_model_name": "LayoutModel",
       "_view_count": null,
       "_view_module": "@jupyter-widgets/base",
       "_view_module_version": "2.0.0",
       "_view_name": "LayoutView",
       "align_content": null,
       "align_items": null,
       "align_self": null,
       "border_bottom": null,
       "border_left": null,
       "border_right": null,
       "border_top": null,
       "bottom": null,
       "display": null,
       "flex": null,
       "flex_flow": null,
       "grid_area": null,
       "grid_auto_columns": null,
       "grid_auto_flow": null,
       "grid_auto_rows": null,
       "grid_column": null,
       "grid_gap": null,
       "grid_row": null,
       "grid_template_areas": null,
       "grid_template_columns": null,
       "grid_template_rows": null,
       "height": null,
       "justify_content": null,
       "justify_items": null,
       "left": null,
       "margin": null,
       "max_height": null,
       "max_width": null,
       "min_height": null,
       "min_width": null,
       "object_fit": null,
       "object_position": null,
       "order": null,
       "overflow": null,
       "padding": null,
       "right": null,
       "top": null,
       "visibility": null,
       "width": null
      }
     },
     "76b48496baf3482b801f516f5ee17f8f": {
      "model_module": "@jupyter-widgets/controls",
      "model_module_version": "2.0.0",
      "model_name": "HTMLModel",
      "state": {
       "_dom_classes": [],
       "_model_module": "@jupyter-widgets/controls",
       "_model_module_version": "2.0.0",
       "_model_name": "HTMLModel",
       "_view_count": null,
       "_view_module": "@jupyter-widgets/controls",
       "_view_module_version": "2.0.0",
       "_view_name": "HTMLView",
       "description": "",
       "description_allow_html": false,
       "layout": "IPY_MODEL_9683307c22f147168ca176a8f6d2bf77",
       "placeholder": "​",
       "style": "IPY_MODEL_f623d752a8c24eaeabae5d18c45dc42d",
       "tabbable": null,
       "tooltip": null,
       "value": "100%"
      }
     },
     "7f13b40a3d614b1582fe304ee5d5bb21": {
      "model_module": "@jupyter-widgets/controls",
      "model_module_version": "2.0.0",
      "model_name": "ProgressStyleModel",
      "state": {
       "_model_module": "@jupyter-widgets/controls",
       "_model_module_version": "2.0.0",
       "_model_name": "ProgressStyleModel",
       "_view_count": null,
       "_view_module": "@jupyter-widgets/base",
       "_view_module_version": "2.0.0",
       "_view_name": "StyleView",
       "bar_color": null,
       "description_width": ""
      }
     },
     "9560f8d281e3435c99bd8e54d766e5f0": {
      "model_module": "@jupyter-widgets/controls",
      "model_module_version": "2.0.0",
      "model_name": "FloatProgressModel",
      "state": {
       "_dom_classes": [],
       "_model_module": "@jupyter-widgets/controls",
       "_model_module_version": "2.0.0",
       "_model_name": "FloatProgressModel",
       "_view_count": null,
       "_view_module": "@jupyter-widgets/controls",
       "_view_module_version": "2.0.0",
       "_view_name": "ProgressView",
       "bar_style": "success",
       "description": "",
       "description_allow_html": false,
       "layout": "IPY_MODEL_eadfbc716e57413785f2ecd5c522bf4d",
       "max": 3.0,
       "min": 0.0,
       "orientation": "horizontal",
       "style": "IPY_MODEL_7f13b40a3d614b1582fe304ee5d5bb21",
       "tabbable": null,
       "tooltip": null,
       "value": 3.0
      }
     },
     "9683307c22f147168ca176a8f6d2bf77": {
      "model_module": "@jupyter-widgets/base",
      "model_module_version": "2.0.0",
      "model_name": "LayoutModel",
      "state": {
       "_model_module": "@jupyter-widgets/base",
       "_model_module_version": "2.0.0",
       "_model_name": "LayoutModel",
       "_view_count": null,
       "_view_module": "@jupyter-widgets/base",
       "_view_module_version": "2.0.0",
       "_view_name": "LayoutView",
       "align_content": null,
       "align_items": null,
       "align_self": null,
       "border_bottom": null,
       "border_left": null,
       "border_right": null,
       "border_top": null,
       "bottom": null,
       "display": null,
       "flex": null,
       "flex_flow": null,
       "grid_area": null,
       "grid_auto_columns": null,
       "grid_auto_flow": null,
       "grid_auto_rows": null,
       "grid_column": null,
       "grid_gap": null,
       "grid_row": null,
       "grid_template_areas": null,
       "grid_template_columns": null,
       "grid_template_rows": null,
       "height": null,
       "justify_content": null,
       "justify_items": null,
       "left": null,
       "margin": null,
       "max_height": null,
       "max_width": null,
       "min_height": null,
       "min_width": null,
       "object_fit": null,
       "object_position": null,
       "order": null,
       "overflow": null,
       "padding": null,
       "right": null,
       "top": null,
       "visibility": null,
       "width": null
      }
     },
     "d258c5d0a96f4cac853be185b84444ab": {
      "model_module": "@jupyter-widgets/controls",
      "model_module_version": "2.0.0",
      "model_name": "HTMLModel",
      "state": {
       "_dom_classes": [],
       "_model_module": "@jupyter-widgets/controls",
       "_model_module_version": "2.0.0",
       "_model_name": "HTMLModel",
       "_view_count": null,
       "_view_module": "@jupyter-widgets/controls",
       "_view_module_version": "2.0.0",
       "_view_name": "HTMLView",
       "description": "",
       "description_allow_html": false,
       "layout": "IPY_MODEL_ec152f3e4c8440ed91622419698cadf8",
       "placeholder": "​",
       "style": "IPY_MODEL_f63422e100164bac995756f3597f4b21",
       "tabbable": null,
       "tooltip": null,
       "value": " 3/3 [00:51&lt;00:00, 14.10s/it]"
      }
     },
     "eadfbc716e57413785f2ecd5c522bf4d": {
      "model_module": "@jupyter-widgets/base",
      "model_module_version": "2.0.0",
      "model_name": "LayoutModel",
      "state": {
       "_model_module": "@jupyter-widgets/base",
       "_model_module_version": "2.0.0",
       "_model_name": "LayoutModel",
       "_view_count": null,
       "_view_module": "@jupyter-widgets/base",
       "_view_module_version": "2.0.0",
       "_view_name": "LayoutView",
       "align_content": null,
       "align_items": null,
       "align_self": null,
       "border_bottom": null,
       "border_left": null,
       "border_right": null,
       "border_top": null,
       "bottom": null,
       "display": null,
       "flex": null,
       "flex_flow": null,
       "grid_area": null,
       "grid_auto_columns": null,
       "grid_auto_flow": null,
       "grid_auto_rows": null,
       "grid_column": null,
       "grid_gap": null,
       "grid_row": null,
       "grid_template_areas": null,
       "grid_template_columns": null,
       "grid_template_rows": null,
       "height": null,
       "justify_content": null,
       "justify_items": null,
       "left": null,
       "margin": null,
       "max_height": null,
       "max_width": null,
       "min_height": null,
       "min_width": null,
       "object_fit": null,
       "object_position": null,
       "order": null,
       "overflow": null,
       "padding": null,
       "right": null,
       "top": null,
       "visibility": null,
       "width": null
      }
     },
     "ec152f3e4c8440ed91622419698cadf8": {
      "model_module": "@jupyter-widgets/base",
      "model_module_version": "2.0.0",
      "model_name": "LayoutModel",
      "state": {
       "_model_module": "@jupyter-widgets/base",
       "_model_module_version": "2.0.0",
       "_model_name": "LayoutModel",
       "_view_count": null,
       "_view_module": "@jupyter-widgets/base",
       "_view_module_version": "2.0.0",
       "_view_name": "LayoutView",
       "align_content": null,
       "align_items": null,
       "align_self": null,
       "border_bottom": null,
       "border_left": null,
       "border_right": null,
       "border_top": null,
       "bottom": null,
       "display": null,
       "flex": null,
       "flex_flow": null,
       "grid_area": null,
       "grid_auto_columns": null,
       "grid_auto_flow": null,
       "grid_auto_rows": null,
       "grid_column": null,
       "grid_gap": null,
       "grid_row": null,
       "grid_template_areas": null,
       "grid_template_columns": null,
       "grid_template_rows": null,
       "height": null,
       "justify_content": null,
       "justify_items": null,
       "left": null,
       "margin": null,
       "max_height": null,
       "max_width": null,
       "min_height": null,
       "min_width": null,
       "object_fit": null,
       "object_position": null,
       "order": null,
       "overflow": null,
       "padding": null,
       "right": null,
       "top": null,
       "visibility": null,
       "width": null
      }
     },
     "f623d752a8c24eaeabae5d18c45dc42d": {
      "model_module": "@jupyter-widgets/controls",
      "model_module_version": "2.0.0",
      "model_name": "HTMLStyleModel",
      "state": {
       "_model_module": "@jupyter-widgets/controls",
       "_model_module_version": "2.0.0",
       "_model_name": "HTMLStyleModel",
       "_view_count": null,
       "_view_module": "@jupyter-widgets/base",
       "_view_module_version": "2.0.0",
       "_view_name": "StyleView",
       "background": null,
       "description_width": "",
       "font_size": null,
       "text_color": null
      }
     },
     "f63422e100164bac995756f3597f4b21": {
      "model_module": "@jupyter-widgets/controls",
      "model_module_version": "2.0.0",
      "model_name": "HTMLStyleModel",
      "state": {
       "_model_module": "@jupyter-widgets/controls",
       "_model_module_version": "2.0.0",
       "_model_name": "HTMLStyleModel",
       "_view_count": null,
       "_view_module": "@jupyter-widgets/base",
       "_view_module_version": "2.0.0",
       "_view_name": "StyleView",
       "background": null,
       "description_width": "",
       "font_size": null,
       "text_color": null
      }
     },
     "fd8fd4411bf84addadc5526ccfe78042": {
      "model_module": "@jupyter-widgets/controls",
      "model_module_version": "2.0.0",
      "model_name": "HBoxModel",
      "state": {
       "_dom_classes": [],
       "_model_module": "@jupyter-widgets/controls",
       "_model_module_version": "2.0.0",
       "_model_name": "HBoxModel",
       "_view_count": null,
       "_view_module": "@jupyter-widgets/controls",
       "_view_module_version": "2.0.0",
       "_view_name": "HBoxView",
       "box_style": "",
       "children": [
        "IPY_MODEL_76b48496baf3482b801f516f5ee17f8f",
        "IPY_MODEL_9560f8d281e3435c99bd8e54d766e5f0",
        "IPY_MODEL_d258c5d0a96f4cac853be185b84444ab"
       ],
       "layout": "IPY_MODEL_67303a776fea41888d9d3af2e39d6212",
       "tabbable": null,
       "tooltip": null
      }
     }
    },
    "version_major": 2,
    "version_minor": 0
   }
  }
 },
 "nbformat": 4,
 "nbformat_minor": 5
}