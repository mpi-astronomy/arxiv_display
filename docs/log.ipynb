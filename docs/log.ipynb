{
 "cells": [
  {
   "cell_type": "markdown",
   "id": "92bcb855",
   "metadata": {
    "papermill": {
     "duration": 0.005244,
     "end_time": "2023-02-08T04:07:47.857230",
     "exception": false,
     "start_time": "2023-02-08T04:07:47.851986",
     "status": "completed"
    },
    "tags": []
   },
   "source": [
    "# MPIA Arxiv on Deck 2\n",
    "\n",
    "Contains the steps to produce the paper extractions."
   ]
  },
  {
   "cell_type": "code",
   "execution_count": 1,
   "id": "3a0d6e11",
   "metadata": {
    "execution": {
     "iopub.execute_input": "2023-02-08T04:07:47.867052Z",
     "iopub.status.busy": "2023-02-08T04:07:47.866601Z",
     "iopub.status.idle": "2023-02-08T04:07:48.051809Z",
     "shell.execute_reply": "2023-02-08T04:07:48.050835Z"
    },
    "papermill": {
     "duration": 0.192015,
     "end_time": "2023-02-08T04:07:48.053640",
     "exception": false,
     "start_time": "2023-02-08T04:07:47.861625",
     "status": "completed"
    },
    "tags": []
   },
   "outputs": [],
   "source": [
    "# Imports\n",
    "import os\n",
    "from IPython.display import Markdown, display\n",
    "from tqdm.notebook import tqdm\n",
    "import warnings\n",
    "from PIL import Image \n",
    "\n",
    "# requires arxiv_on_deck_2\n",
    "\n",
    "from arxiv_on_deck_2.arxiv2 import (get_new_papers, \n",
    "                                    get_paper_from_identifier,\n",
    "                                    retrieve_document_source, \n",
    "                                    get_markdown_badge)\n",
    "from arxiv_on_deck_2 import (latex, \n",
    "                             mpia,\n",
    "                             highlight_authors_in_list)\n",
    "\n",
    "# Sometimes images are really big\n",
    "Image.MAX_IMAGE_PIXELS = 1000000000 "
   ]
  },
  {
   "cell_type": "code",
   "execution_count": 2,
   "id": "22aa9d44",
   "metadata": {
    "execution": {
     "iopub.execute_input": "2023-02-08T04:07:48.063487Z",
     "iopub.status.busy": "2023-02-08T04:07:48.062847Z",
     "iopub.status.idle": "2023-02-08T04:07:48.067798Z",
     "shell.execute_reply": "2023-02-08T04:07:48.067214Z"
    },
    "papermill": {
     "duration": 0.011571,
     "end_time": "2023-02-08T04:07:48.069367",
     "exception": false,
     "start_time": "2023-02-08T04:07:48.057796",
     "status": "completed"
    },
    "tags": []
   },
   "outputs": [],
   "source": [
    "# Some useful definitions.\n",
    "\n",
    "class AffiliationWarning(UserWarning):\n",
    "    pass\n",
    "\n",
    "class AffiliationError(RuntimeError):\n",
    "    pass\n",
    "\n",
    "def validation(source: str):\n",
    "    \"\"\"Raises error paper during parsing of source file\n",
    "    \n",
    "    Allows checks before parsing TeX code.\n",
    "    \n",
    "    Raises AffiliationWarning\n",
    "    \"\"\"\n",
    "    check = mpia.affiliation_verifications(source, verbose=True)\n",
    "    if check is not True:\n",
    "        raise AffiliationError(\"mpia.affiliation_verifications: \" + check)\n",
    "\n",
    "        \n",
    "warnings.simplefilter('always', AffiliationWarning)"
   ]
  },
  {
   "cell_type": "code",
   "execution_count": 3,
   "id": "14622700",
   "metadata": {
    "execution": {
     "iopub.execute_input": "2023-02-08T04:07:48.078252Z",
     "iopub.status.busy": "2023-02-08T04:07:48.077920Z",
     "iopub.status.idle": "2023-02-08T04:07:48.081453Z",
     "shell.execute_reply": "2023-02-08T04:07:48.080853Z"
    },
    "papermill": {
     "duration": 0.009729,
     "end_time": "2023-02-08T04:07:48.083071",
     "exception": false,
     "start_time": "2023-02-08T04:07:48.073342",
     "status": "completed"
    },
    "tags": []
   },
   "outputs": [],
   "source": [
    "# additional CSS to consider. \n",
    "# TODO: Current into each exported file. \n",
    "#       This should be set once into the webpages directly.\n",
    "#       With only the class/id definitions in the .md files.\n",
    "\n",
    "debug_html = \"\"\"\n",
    "<style>\n",
    "#wrap{ overflow:auto; }\n",
    "#fig1{ background:yellow; width:100%; float:left; padding:5px;  }\n",
    "#fig2{ background:red; width:50%; float:left; clear:left; padding:5px;  }\n",
    "#fig3{ background:green; width:50%; float:left; padding:5px;   }\n",
    ".macros{ background:yellow; visibility:visible;}\n",
    "h1 {margin: 0 0 0 0;}\n",
    "mark {background-color:#fff3b6;}\n",
    "img {object-fit:contain; max-height:250px; display:inline-block; text-align: center;}\n",
    "</style>\n",
    "\"\"\" \n",
    "html = \"\"\"\n",
    "<style>\n",
    "#wrap{ overflow:auto; }\n",
    "#fig1{ width:100%; float:left; padding: 5px;  }\n",
    "#fig2{ width:50%; float:left; clear:left; padding: 5px;  }\n",
    "#fig3{ width:50%; float:left; padding: 5px;  }\n",
    ".macros{ visibility:hidden; height:0px; }\n",
    "h1 {margin: 0em 0 0 0;}\n",
    "mark {background-color:#fff3b6;}\n",
    "img {object-fit:contain; max-height:250px; display:inline-block; text-align: center;}\n",
    "</style>\n",
    "\"\"\""
   ]
  },
  {
   "cell_type": "markdown",
   "id": "14bd6310",
   "metadata": {
    "papermill": {
     "duration": 0.003936,
     "end_time": "2023-02-08T04:07:48.090909",
     "exception": false,
     "start_time": "2023-02-08T04:07:48.086973",
     "status": "completed"
    },
    "tags": []
   },
   "source": [
    "## get list of arxiv paper candidates\n",
    "\n",
    "We use the MPIA mitarbeiter list webpage from mpia.de to get author names\n",
    "We then get all new papers from Arxiv and match authors"
   ]
  },
  {
   "cell_type": "code",
   "execution_count": 4,
   "id": "2645e73a",
   "metadata": {
    "execution": {
     "iopub.execute_input": "2023-02-08T04:07:48.099796Z",
     "iopub.status.busy": "2023-02-08T04:07:48.099395Z",
     "iopub.status.idle": "2023-02-08T04:08:12.559565Z",
     "shell.execute_reply": "2023-02-08T04:08:12.558102Z"
    },
    "papermill": {
     "duration": 24.466446,
     "end_time": "2023-02-08T04:08:12.561270",
     "exception": false,
     "start_time": "2023-02-08T04:07:48.094824",
     "status": "completed"
    },
    "tags": []
   },
   "outputs": [
    {
     "name": "stdout",
     "output_type": "stream",
     "text": [
      "Arxiv has 47 new papers today\n",
      "          18 with possible author matches\n"
     ]
    }
   ],
   "source": [
    "# get list from MPIA website\n",
    "# it automatically filters identified non-scientists :func:`mpia.filter_non_scientists`\n",
    "mpia_authors = mpia.get_mpia_mitarbeiter_list()\n",
    "new_papers = get_new_papers()\n",
    "# add manual references\n",
    "add_paper_refs = []\n",
    "new_papers.extend([get_paper_from_identifier(k) for k in add_paper_refs])\n",
    "\n",
    "# select only papers with matching author names and highlight authors\n",
    "hl_list = [k[0] for k in mpia_authors]\n",
    "\n",
    "candidates = []\n",
    "for paperk in new_papers:\n",
    "    hl_authors = highlight_authors_in_list(paperk['authors'], hl_list)\n",
    "    matches = [(hl, orig) for hl, orig in zip(hl_authors, paperk['authors']) if 'mark' in hl]\n",
    "    paperk['authors'] = hl_authors\n",
    "    if matches:\n",
    "        candidates.append(paperk)\n",
    "print(\"\"\"Arxiv has {0:,d} new papers today\"\"\".format(len(new_papers)))        \n",
    "print(\"\"\"          {0:,d} with possible author matches\"\"\".format(len(candidates)))"
   ]
  },
  {
   "cell_type": "markdown",
   "id": "3543b34a",
   "metadata": {
    "papermill": {
     "duration": 0.004327,
     "end_time": "2023-02-08T04:08:12.570054",
     "exception": false,
     "start_time": "2023-02-08T04:08:12.565727",
     "status": "completed"
    },
    "tags": []
   },
   "source": [
    "# Parse sources and generate relevant outputs\n",
    "\n",
    "From the candidates, we do the following steps:\n",
    "* get their tarball from ArXiv (and extract data)\n",
    "* find the main .tex file: find one with \\documentclass{...} (sometimes it's non trivial)\n",
    "* Check affiliations with :func:`validation`, which uses :func:`mpia.affiliation_verifications`\n",
    "* If passing the affiliations: we parse the .tex source\n",
    "   * inject sub-documents into the main (flatten the main document)\n",
    "   * parse structure, extract information (title, abstract, authors, figures...)\n",
    "   * handles `\\graphicspath` if provided\n",
    "* Generate the .md document."
   ]
  },
  {
   "cell_type": "code",
   "execution_count": 5,
   "id": "9576b79e",
   "metadata": {
    "execution": {
     "iopub.execute_input": "2023-02-08T04:08:12.579463Z",
     "iopub.status.busy": "2023-02-08T04:08:12.579009Z",
     "iopub.status.idle": "2023-02-08T04:10:35.737913Z",
     "shell.execute_reply": "2023-02-08T04:10:35.737249Z"
    },
    "papermill": {
     "duration": 143.17017,
     "end_time": "2023-02-08T04:10:35.744268",
     "exception": false,
     "start_time": "2023-02-08T04:08:12.574098",
     "status": "completed"
    },
    "scrolled": false,
    "tags": []
   },
   "outputs": [
    {
     "data": {
      "application/vnd.jupyter.widget-view+json": {
       "model_id": "0ac6a2bb6f8c419c9bc7c57c61ba0773",
       "version_major": 2,
       "version_minor": 0
      },
      "text/plain": [
       "  0%|          | 0/17 [00:00<?, ?it/s]"
      ]
     },
     "metadata": {},
     "output_type": "display_data"
    },
    {
     "name": "stdout",
     "output_type": "stream",
     "text": [
      "Retrieving document from  https://arxiv.org/e-print/2302.03039\n"
     ]
    },
    {
     "name": "stdout",
     "output_type": "stream",
     "text": [
      "extracting tarball to tmp_2302.03039..."
     ]
    },
    {
     "name": "stdout",
     "output_type": "stream",
     "text": [
      " done.\n"
     ]
    },
    {
     "name": "stdout",
     "output_type": "stream",
     "text": [
      "Retrieving document from  https://arxiv.org/e-print/2302.03042\n"
     ]
    },
    {
     "name": "stdout",
     "output_type": "stream",
     "text": [
      "extracting tarball to tmp_2302.03042..."
     ]
    },
    {
     "name": "stdout",
     "output_type": "stream",
     "text": [
      " done.\n"
     ]
    },
    {
     "name": "stderr",
     "output_type": "stream",
     "text": [
      "/opt/hostedtoolcache/Python/3.9.16/x64/lib/python3.9/site-packages/IPython/core/interactiveshell.py:3442: LatexWarning: Multiple tex files.\n",
      "\n",
      "  exec(code_obj, self.user_global_ns, self.user_ns)\n",
      "/opt/hostedtoolcache/Python/3.9.16/x64/lib/python3.9/site-packages/IPython/core/interactiveshell.py:3442: LatexWarning: Found documentclass in tmp_2302.03042/Paper_main.tex\n",
      "\n",
      "  exec(code_obj, self.user_global_ns, self.user_ns)\n",
      "/opt/hostedtoolcache/Python/3.9.16/x64/lib/python3.9/site-packages/arxiv_on_deck_2/latex.py:292: LatexWarning: Latex injecting: 'mycommands' from 'tmp_2302.03042/mycommands.tex'\n",
      "  warnings.warn(LatexWarning(f\"Latex injecting: '{ext}' from '{subsource}'\"))\n"
     ]
    },
    {
     "name": "stdout",
     "output_type": "stream",
     "text": [
      "Retrieving document from  https://arxiv.org/e-print/2302.03043\n"
     ]
    },
    {
     "name": "stdout",
     "output_type": "stream",
     "text": [
      "extracting tarball to tmp_2302.03043..."
     ]
    },
    {
     "name": "stdout",
     "output_type": "stream",
     "text": [
      " done.\n",
      "Retrieving document from  https://arxiv.org/e-print/2302.03044\n"
     ]
    },
    {
     "name": "stderr",
     "output_type": "stream",
     "text": [
      "/opt/hostedtoolcache/Python/3.9.16/x64/lib/python3.9/site-packages/IPython/core/interactiveshell.py:3442: LatexWarning: Multiple tex files.\n",
      "\n",
      "  exec(code_obj, self.user_global_ns, self.user_ns)\n",
      "/opt/hostedtoolcache/Python/3.9.16/x64/lib/python3.9/site-packages/IPython/core/interactiveshell.py:3442: LatexWarning: Found documentclass in tmp_2302.03043/nher.tex\n",
      "\n",
      "  exec(code_obj, self.user_global_ns, self.user_ns)\n",
      "/opt/hostedtoolcache/Python/3.9.16/x64/lib/python3.9/site-packages/arxiv_on_deck_2/latex.py:292: LatexWarning: Latex injecting: 'models' from 'tmp_2302.03043/models.tex'\n",
      "  warnings.warn(LatexWarning(f\"Latex injecting: '{ext}' from '{subsource}'\"))\n",
      "/opt/hostedtoolcache/Python/3.9.16/x64/lib/python3.9/site-packages/arxiv_on_deck_2/latex.py:292: LatexWarning: Latex injecting: 'results' from 'tmp_2302.03043/results.tex'\n",
      "  warnings.warn(LatexWarning(f\"Latex injecting: '{ext}' from '{subsource}'\"))\n"
     ]
    },
    {
     "name": "stdout",
     "output_type": "stream",
     "text": [
      "extracting tarball to tmp_2302.03044..."
     ]
    },
    {
     "name": "stdout",
     "output_type": "stream",
     "text": [
      " done.\n"
     ]
    },
    {
     "name": "stderr",
     "output_type": "stream",
     "text": [
      "/opt/hostedtoolcache/Python/3.9.16/x64/lib/python3.9/site-packages/IPython/core/interactiveshell.py:3442: LatexWarning: Multiple tex files.\n",
      "\n",
      "  exec(code_obj, self.user_global_ns, self.user_ns)\n",
      "/opt/hostedtoolcache/Python/3.9.16/x64/lib/python3.9/site-packages/IPython/core/interactiveshell.py:3442: LatexWarning: Found documentclass in tmp_2302.03044/main_v2_arXiv.tex\n",
      "\n",
      "  exec(code_obj, self.user_global_ns, self.user_ns)\n",
      "/opt/hostedtoolcache/Python/3.9.16/x64/lib/python3.9/site-packages/arxiv_on_deck_2/latex.py:292: LatexWarning: Latex injecting: 'Sections_arXiv/appendix' from 'tmp_2302.03044/Sections_arXiv/appendix.tex'\n",
      "  warnings.warn(LatexWarning(f\"Latex injecting: '{ext}' from '{subsource}'\"))\n",
      "/opt/hostedtoolcache/Python/3.9.16/x64/lib/python3.9/site-packages/arxiv_on_deck_2/latex.py:292: LatexWarning: Latex injecting: 'Sections_arXiv/appendix' from 'tmp_2302.03044/M101 Paper A&A/Sections_arXiv/appendix.tex'\n",
      "  warnings.warn(LatexWarning(f\"Latex injecting: '{ext}' from '{subsource}'\"))\n",
      "/opt/hostedtoolcache/Python/3.9.16/x64/lib/python3.9/site-packages/arxiv_on_deck_2/latex.py:292: LatexWarning: Latex injecting: 'Sections_arXiv/06_conclusion' from 'tmp_2302.03044/Sections_arXiv/06_conclusion.tex'\n",
      "  warnings.warn(LatexWarning(f\"Latex injecting: '{ext}' from '{subsource}'\"))\n",
      "/opt/hostedtoolcache/Python/3.9.16/x64/lib/python3.9/site-packages/arxiv_on_deck_2/latex.py:292: LatexWarning: Latex injecting: 'Sections_arXiv/06_conclusion' from 'tmp_2302.03044/M101 Paper A&A/Sections_arXiv/06_conclusion.tex'\n",
      "  warnings.warn(LatexWarning(f\"Latex injecting: '{ext}' from '{subsource}'\"))\n",
      "/opt/hostedtoolcache/Python/3.9.16/x64/lib/python3.9/site-packages/arxiv_on_deck_2/latex.py:292: LatexWarning: Latex injecting: 'Sections_arXiv/05_discussion' from 'tmp_2302.03044/Sections_arXiv/05_discussion.tex'\n",
      "  warnings.warn(LatexWarning(f\"Latex injecting: '{ext}' from '{subsource}'\"))\n",
      "/opt/hostedtoolcache/Python/3.9.16/x64/lib/python3.9/site-packages/arxiv_on_deck_2/latex.py:292: LatexWarning: Latex injecting: 'Sections_arXiv/05_discussion' from 'tmp_2302.03044/M101 Paper A&A/Sections_arXiv/05_discussion.tex'\n",
      "  warnings.warn(LatexWarning(f\"Latex injecting: '{ext}' from '{subsource}'\"))\n",
      "/opt/hostedtoolcache/Python/3.9.16/x64/lib/python3.9/site-packages/arxiv_on_deck_2/latex.py:292: LatexWarning: Latex injecting: 'Sections_arXiv/04_results_aco' from 'tmp_2302.03044/Sections_arXiv/04_results_aco.tex'\n",
      "  warnings.warn(LatexWarning(f\"Latex injecting: '{ext}' from '{subsource}'\"))\n",
      "/opt/hostedtoolcache/Python/3.9.16/x64/lib/python3.9/site-packages/arxiv_on_deck_2/latex.py:292: LatexWarning: Latex injecting: 'Sections_arXiv/04_results_aco' from 'tmp_2302.03044/M101 Paper A&A/Sections_arXiv/04_results_aco.tex'\n",
      "  warnings.warn(LatexWarning(f\"Latex injecting: '{ext}' from '{subsource}'\"))\n",
      "/opt/hostedtoolcache/Python/3.9.16/x64/lib/python3.9/site-packages/arxiv_on_deck_2/latex.py:292: LatexWarning: Latex injecting: 'Sections_arXiv/03_results_CO' from 'tmp_2302.03044/Sections_arXiv/03_results_CO.tex'\n",
      "  warnings.warn(LatexWarning(f\"Latex injecting: '{ext}' from '{subsource}'\"))\n",
      "/opt/hostedtoolcache/Python/3.9.16/x64/lib/python3.9/site-packages/arxiv_on_deck_2/latex.py:292: LatexWarning: Latex injecting: 'Sections_arXiv/03_results_CO' from 'tmp_2302.03044/M101 Paper A&A/Sections_arXiv/03_results_CO.tex'\n",
      "  warnings.warn(LatexWarning(f\"Latex injecting: '{ext}' from '{subsource}'\"))\n",
      "/opt/hostedtoolcache/Python/3.9.16/x64/lib/python3.9/site-packages/arxiv_on_deck_2/latex.py:292: LatexWarning: Latex injecting: 'Sections_arXiv/02_obs_and_reduction' from 'tmp_2302.03044/Sections_arXiv/02_obs_and_reduction.tex'\n",
      "  warnings.warn(LatexWarning(f\"Latex injecting: '{ext}' from '{subsource}'\"))\n",
      "/opt/hostedtoolcache/Python/3.9.16/x64/lib/python3.9/site-packages/arxiv_on_deck_2/latex.py:292: LatexWarning: Latex injecting: 'Sections_arXiv/02_obs_and_reduction' from 'tmp_2302.03044/M101 Paper A&A/Sections_arXiv/02_obs_and_reduction.tex'\n",
      "  warnings.warn(LatexWarning(f\"Latex injecting: '{ext}' from '{subsource}'\"))\n",
      "/opt/hostedtoolcache/Python/3.9.16/x64/lib/python3.9/site-packages/arxiv_on_deck_2/latex.py:292: LatexWarning: Latex injecting: 'Sections_arXiv/01_introduction' from 'tmp_2302.03044/Sections_arXiv/01_introduction.tex'\n",
      "  warnings.warn(LatexWarning(f\"Latex injecting: '{ext}' from '{subsource}'\"))\n",
      "/opt/hostedtoolcache/Python/3.9.16/x64/lib/python3.9/site-packages/arxiv_on_deck_2/latex.py:292: LatexWarning: Latex injecting: 'Sections_arXiv/01_introduction' from 'tmp_2302.03044/M101 Paper A&A/Sections_arXiv/01_introduction.tex'\n",
      "  warnings.warn(LatexWarning(f\"Latex injecting: '{ext}' from '{subsource}'\"))\n",
      "/opt/hostedtoolcache/Python/3.9.16/x64/lib/python3.9/site-packages/arxiv_on_deck_2/latex.py:292: LatexWarning: Latex injecting: 'mycommands' from 'tmp_2302.03044/mycommands.tex'\n",
      "  warnings.warn(LatexWarning(f\"Latex injecting: '{ext}' from '{subsource}'\"))\n",
      "/opt/hostedtoolcache/Python/3.9.16/x64/lib/python3.9/site-packages/arxiv_on_deck_2/latex.py:292: LatexWarning: Latex injecting: 'mycommands' from 'tmp_2302.03044/M101 Paper A&A/mycommands.tex'\n",
      "  warnings.warn(LatexWarning(f\"Latex injecting: '{ext}' from '{subsource}'\"))\n"
     ]
    },
    {
     "name": "stderr",
     "output_type": "stream",
     "text": [
      "/opt/hostedtoolcache/Python/3.9.16/x64/lib/python3.9/site-packages/arxiv_on_deck_2/latex.py:366: LatexWarning: Error parsing the document directly. Trying to recover.\n",
      "  warnings.warn(LatexWarning(f\"Error parsing the document directly. Trying to recover.\"))\n"
     ]
    },
    {
     "name": "stdout",
     "output_type": "stream",
     "text": [
      "✘ → 0:header\n",
      "  ↳ 51126:\\section{Introduction}\n"
     ]
    },
    {
     "name": "stdout",
     "output_type": "stream",
     "text": [
      "✔ → 51126:\\section{Introduction}\n",
      "  ↳ 72036:\\section{Observations and data reduction}\n"
     ]
    },
    {
     "name": "stdout",
     "output_type": "stream",
     "text": [
      "✔ → 72036:\\section{Observations and data reduction}\n",
      "  ↳ 114658:\\section{Results: CO isotopologue line emission}\n"
     ]
    },
    {
     "name": "stdout",
     "output_type": "stream",
     "text": [
      "✔ → 114658:\\section{Results: CO isotopologue line emission}\n",
      "  ↳ 155948:\\section{Results: CO-to-H2 conversion factor}\n",
      "✘ → 155948:\\section{Results: CO-to-H2 conversion factor}\n",
      "  ↳ 230755:\\section{Discussion}\n"
     ]
    },
    {
     "name": "stdout",
     "output_type": "stream",
     "text": [
      "✔ → 230755:\\section{Discussion}\n",
      "  ↳ 269535:\\section{Conclusions}\n"
     ]
    },
    {
     "name": "stdout",
     "output_type": "stream",
     "text": [
      "✔ → 269535:\\section{Conclusions}\n",
      "  ↳ 282726:\\begin{appendix}\n",
      "✔ → 282726:\\begin{appendix}\n",
      "  ↳ 282743:\\section{Single Dish Scale Factor Estimation}\n",
      "✔ → 282743:\\section{Single Dish Scale Factor Estimation}\n",
      "  ↳ 285081:\\section{Censored Line Ratio Regions}\n",
      "✔ → 285081:\\section{Censored Line Ratio Regions}\n",
      "  ↳ 286386:\\section{CO Line Stacks}\n"
     ]
    },
    {
     "name": "stdout",
     "output_type": "stream",
     "text": [
      "✔ → 286386:\\section{CO Line Stacks}\n",
      "  ↳ 289722:\\section{Azimuthal Variation in M101}\n",
      "✘ → 289722:\\section{Azimuthal Variation in M101}\n",
      "  ↳ 292231:\\section{Different Data Sets}\n"
     ]
    },
    {
     "name": "stdout",
     "output_type": "stream",
     "text": [
      "✔ → 292231:\\section{Different Data Sets}\n",
      "  ↳ 296229:\\section{Potential Degeneracy for \\texorpdfstring{$\\rm DGR$}{Lg} and \\texorpdfstring{\\aco}{Lg} with the Scatter Minimization Technique}\n",
      "✔ → 296229:\\section{Potential Degeneracy for \\texorpdfstring{$\\rm DGR$}{Lg} and \\texorpdfstring{\\aco}{Lg} with the Scatter Minimization Technique}\n",
      "  ↳ 299933:\\section{\\texorpdfstring{$\\rm DGR$}{Lg} and \\texorpdfstring{\\aco}{Lg} in M51}\n"
     ]
    },
    {
     "name": "stdout",
     "output_type": "stream",
     "text": [
      "✔ → 299933:\\section{\\texorpdfstring{$\\rm DGR$}{Lg} and \\texorpdfstring{\\aco}{Lg} in M51}\n",
      "  ↳ 300732:\\section{Single Dish Scale Factor Estimation}\n",
      "✔ → 300732:\\section{Single Dish Scale Factor Estimation}\n",
      "  ↳ 303070:\\section{Censored Line Ratio Regions}\n",
      "✔ → 303070:\\section{Censored Line Ratio Regions}\n",
      "  ↳ 304375:\\section{CO Line Stacks}\n"
     ]
    },
    {
     "name": "stdout",
     "output_type": "stream",
     "text": [
      "✔ → 304375:\\section{CO Line Stacks}\n",
      "  ↳ 307711:\\section{Azimuthal Variation in M101}\n"
     ]
    },
    {
     "name": "stdout",
     "output_type": "stream",
     "text": [
      "✘ → 307711:\\section{Azimuthal Variation in M101}\n",
      "  ↳ 310220:\\section{Different Data Sets}\n",
      "✔ → 310220:\\section{Different Data Sets}\n",
      "  ↳ 314218:\\section{Potential Degeneracy for \\texorpdfstring{$\\rm DGR$}{Lg} and \\texorpdfstring{\\aco}{Lg} with the Scatter Minimization Technique}\n"
     ]
    },
    {
     "name": "stdout",
     "output_type": "stream",
     "text": [
      "✔ → 314218:\\section{Potential Degeneracy for \\texorpdfstring{$\\rm DGR$}{Lg} and \\texorpdfstring{\\aco}{Lg} with the Scatter Minimization Technique}\n",
      "  ↳ 317922:\\section{\\texorpdfstring{$\\rm DGR$}{Lg} and \\texorpdfstring{\\aco}{Lg} in M51}\n",
      "✔ → 317922:\\section{\\texorpdfstring{$\\rm DGR$}{Lg} and \\texorpdfstring{\\aco}{Lg} in M51}\n",
      "  ↳ 318747:end\n"
     ]
    },
    {
     "name": "stderr",
     "output_type": "stream",
     "text": [
      "/tmp/ipykernel_2074/4030337529.py:34: LatexWarning: 2302.03044 did not run properly\n",
      "list index out of range\n",
      "  warnings.warn(latex.LatexWarning(f\"{paper_id:s} did not run properly\\n\" +\n"
     ]
    },
    {
     "name": "stdout",
     "output_type": "stream",
     "text": [
      "Retrieving document from  https://arxiv.org/e-print/2302.03046\n"
     ]
    },
    {
     "name": "stdout",
     "output_type": "stream",
     "text": [
      "extracting tarball to tmp_2302.03046..."
     ]
    },
    {
     "name": "stdout",
     "output_type": "stream",
     "text": [
      " done.\n",
      "Retrieving document from  https://arxiv.org/e-print/2302.03055\n"
     ]
    },
    {
     "name": "stdout",
     "output_type": "stream",
     "text": [
      "extracting tarball to tmp_2302.03055..."
     ]
    },
    {
     "name": "stdout",
     "output_type": "stream",
     "text": [
      " done.\n",
      "Retrieving document from  https://arxiv.org/e-print/2302.03062\n"
     ]
    },
    {
     "name": "stdout",
     "output_type": "stream",
     "text": [
      "extracting tarball to tmp_2302.03062..."
     ]
    },
    {
     "name": "stdout",
     "output_type": "stream",
     "text": [
      " done.\n"
     ]
    },
    {
     "name": "stderr",
     "output_type": "stream",
     "text": [
      "/opt/hostedtoolcache/Python/3.9.16/x64/lib/python3.9/site-packages/IPython/core/interactiveshell.py:3442: LatexWarning: Multiple tex files.\n",
      "\n",
      "  exec(code_obj, self.user_global_ns, self.user_ns)\n",
      "/opt/hostedtoolcache/Python/3.9.16/x64/lib/python3.9/site-packages/IPython/core/interactiveshell.py:3442: LatexWarning: Found documentclass in tmp_2302.03062/main.tex\n",
      "\n",
      "  exec(code_obj, self.user_global_ns, self.user_ns)\n",
      "/opt/hostedtoolcache/Python/3.9.16/x64/lib/python3.9/site-packages/arxiv_on_deck_2/latex.py:292: LatexWarning: Latex injecting: 'Sections/appendices' from 'tmp_2302.03062/Sections/appendices.tex'\n",
      "  warnings.warn(LatexWarning(f\"Latex injecting: '{ext}' from '{subsource}'\"))\n",
      "/opt/hostedtoolcache/Python/3.9.16/x64/lib/python3.9/site-packages/arxiv_on_deck_2/latex.py:292: LatexWarning: Latex injecting: 'Sections/conclusions' from 'tmp_2302.03062/Sections/conclusions.tex'\n",
      "  warnings.warn(LatexWarning(f\"Latex injecting: '{ext}' from '{subsource}'\"))\n",
      "/opt/hostedtoolcache/Python/3.9.16/x64/lib/python3.9/site-packages/arxiv_on_deck_2/latex.py:292: LatexWarning: Latex injecting: 'Sections/discussion' from 'tmp_2302.03062/Sections/discussion.tex'\n",
      "  warnings.warn(LatexWarning(f\"Latex injecting: '{ext}' from '{subsource}'\"))\n",
      "/opt/hostedtoolcache/Python/3.9.16/x64/lib/python3.9/site-packages/arxiv_on_deck_2/latex.py:292: LatexWarning: Latex injecting: 'Sections/analysis' from 'tmp_2302.03062/Sections/analysis.tex'\n",
      "  warnings.warn(LatexWarning(f\"Latex injecting: '{ext}' from '{subsource}'\"))\n",
      "/opt/hostedtoolcache/Python/3.9.16/x64/lib/python3.9/site-packages/arxiv_on_deck_2/latex.py:292: LatexWarning: Latex injecting: 'Sections/classification' from 'tmp_2302.03062/Sections/classification.tex'\n",
      "  warnings.warn(LatexWarning(f\"Latex injecting: '{ext}' from '{subsource}'\"))\n",
      "/opt/hostedtoolcache/Python/3.9.16/x64/lib/python3.9/site-packages/arxiv_on_deck_2/latex.py:292: LatexWarning: Latex injecting: 'Sections/cat_creation' from 'tmp_2302.03062/Sections/cat_creation.tex'\n",
      "  warnings.warn(LatexWarning(f\"Latex injecting: '{ext}' from '{subsource}'\"))\n",
      "/opt/hostedtoolcache/Python/3.9.16/x64/lib/python3.9/site-packages/arxiv_on_deck_2/latex.py:292: LatexWarning: Latex injecting: 'Sections/data' from 'tmp_2302.03062/Sections/data.tex'\n",
      "  warnings.warn(LatexWarning(f\"Latex injecting: '{ext}' from '{subsource}'\"))\n",
      "/opt/hostedtoolcache/Python/3.9.16/x64/lib/python3.9/site-packages/arxiv_on_deck_2/latex.py:292: LatexWarning: Latex injecting: 'Sections/introduction' from 'tmp_2302.03062/Sections/introduction.tex'\n",
      "  warnings.warn(LatexWarning(f\"Latex injecting: '{ext}' from '{subsource}'\"))\n"
     ]
    },
    {
     "name": "stderr",
     "output_type": "stream",
     "text": [
      "/tmp/ipykernel_2074/4030337529.py:34: LatexWarning: 2302.03062 did not run properly\n",
      "sequence item 1: expected str instance, TexNode found\n",
      "  warnings.warn(latex.LatexWarning(f\"{paper_id:s} did not run properly\\n\" +\n"
     ]
    },
    {
     "name": "stdout",
     "output_type": "stream",
     "text": [
      "Retrieving document from  https://arxiv.org/e-print/2302.03105\n"
     ]
    },
    {
     "name": "stdout",
     "output_type": "stream",
     "text": [
      "extracting tarball to tmp_2302.03105..."
     ]
    },
    {
     "name": "stdout",
     "output_type": "stream",
     "text": [
      " done.\n",
      "Retrieving document from  https://arxiv.org/e-print/2302.03158\n"
     ]
    },
    {
     "name": "stdout",
     "output_type": "stream",
     "text": [
      "extracting tarball to tmp_2302.03158..."
     ]
    },
    {
     "name": "stdout",
     "output_type": "stream",
     "text": [
      " done.\n",
      "Retrieving document from  https://arxiv.org/e-print/2302.03168\n"
     ]
    },
    {
     "name": "stderr",
     "output_type": "stream",
     "text": [
      "/opt/hostedtoolcache/Python/3.9.16/x64/lib/python3.9/site-packages/IPython/core/interactiveshell.py:3442: LatexWarning: Multiple tex files.\n",
      "\n",
      "  exec(code_obj, self.user_global_ns, self.user_ns)\n",
      "/opt/hostedtoolcache/Python/3.9.16/x64/lib/python3.9/site-packages/IPython/core/interactiveshell.py:3442: LatexWarning: Found documentclass in tmp_2302.03158/MAIN.tex\n",
      "\n",
      "  exec(code_obj, self.user_global_ns, self.user_ns)\n"
     ]
    },
    {
     "name": "stdout",
     "output_type": "stream",
     "text": [
      "extracting tarball to tmp_2302.03168..."
     ]
    },
    {
     "name": "stdout",
     "output_type": "stream",
     "text": [
      " done.\n",
      "Retrieving document from  https://arxiv.org/e-print/2302.03174\n"
     ]
    },
    {
     "name": "stderr",
     "output_type": "stream",
     "text": [
      "/opt/hostedtoolcache/Python/3.9.16/x64/lib/python3.9/site-packages/IPython/core/interactiveshell.py:3442: LatexWarning: Multiple tex files.\n",
      "\n",
      "  exec(code_obj, self.user_global_ns, self.user_ns)\n",
      "/opt/hostedtoolcache/Python/3.9.16/x64/lib/python3.9/site-packages/IPython/core/interactiveshell.py:3442: LatexWarning: Found documentclass in tmp_2302.03168/main.tex\n",
      "\n",
      "  exec(code_obj, self.user_global_ns, self.user_ns)\n"
     ]
    },
    {
     "name": "stdout",
     "output_type": "stream",
     "text": [
      "extracting tarball to tmp_2302.03174..."
     ]
    },
    {
     "name": "stdout",
     "output_type": "stream",
     "text": [
      " done.\n",
      "Retrieving document from  https://arxiv.org/e-print/2302.03176\n"
     ]
    },
    {
     "name": "stdout",
     "output_type": "stream",
     "text": [
      "extracting tarball to tmp_2302.03176..."
     ]
    },
    {
     "name": "stdout",
     "output_type": "stream",
     "text": [
      " done.\n",
      "Retrieving document from  https://arxiv.org/e-print/2302.03215\n"
     ]
    },
    {
     "name": "stderr",
     "output_type": "stream",
     "text": [
      "/opt/hostedtoolcache/Python/3.9.16/x64/lib/python3.9/site-packages/IPython/core/interactiveshell.py:3442: LatexWarning: Multiple tex files.\n",
      "\n",
      "  exec(code_obj, self.user_global_ns, self.user_ns)\n",
      "/opt/hostedtoolcache/Python/3.9.16/x64/lib/python3.9/site-packages/IPython/core/interactiveshell.py:3442: LatexWarning: Found documentclass in tmp_2302.03176/main.tex\n",
      "\n",
      "  exec(code_obj, self.user_global_ns, self.user_ns)\n",
      "/opt/hostedtoolcache/Python/3.9.16/x64/lib/python3.9/site-packages/arxiv_on_deck_2/latex.py:292: LatexWarning: Latex injecting: 'tables/medians_table' from 'tmp_2302.03176/tables/medians_table.tex'\n",
      "  warnings.warn(LatexWarning(f\"Latex injecting: '{ext}' from '{subsource}'\"))\n",
      "/opt/hostedtoolcache/Python/3.9.16/x64/lib/python3.9/site-packages/arxiv_on_deck_2/latex.py:292: LatexWarning: Latex injecting: 'tables/weights_table' from 'tmp_2302.03176/tables/weights_table.tex'\n",
      "  warnings.warn(LatexWarning(f\"Latex injecting: '{ext}' from '{subsource}'\"))\n"
     ]
    },
    {
     "name": "stdout",
     "output_type": "stream",
     "text": [
      "extracting tarball to tmp_2302.03215..."
     ]
    },
    {
     "name": "stdout",
     "output_type": "stream",
     "text": [
      " done.\n",
      "Retrieving document from  https://arxiv.org/e-print/2302.03398\n"
     ]
    },
    {
     "name": "stdout",
     "output_type": "stream",
     "text": [
      "extracting tarball to tmp_2302.03398... done.\n",
      "Retrieving document from  https://arxiv.org/e-print/2302.03425\n"
     ]
    },
    {
     "name": "stdout",
     "output_type": "stream",
     "text": [
      "extracting tarball to tmp_2302.03425... done.\n",
      "Retrieving document from  https://arxiv.org/e-print/2302.03455\n"
     ]
    },
    {
     "name": "stdout",
     "output_type": "stream",
     "text": [
      "extracting tarball to tmp_2302.03455..."
     ]
    },
    {
     "name": "stdout",
     "output_type": "stream",
     "text": [
      " done.\n",
      "Retrieving document from  https://arxiv.org/e-print/2302.03576\n"
     ]
    },
    {
     "name": "stdout",
     "output_type": "stream",
     "text": [
      "extracting tarball to tmp_2302.03576..."
     ]
    },
    {
     "name": "stdout",
     "output_type": "stream",
     "text": [
      " done.\n"
     ]
    }
   ],
   "source": [
    "documents = []\n",
    "failed = []\n",
    "for paper in tqdm(candidates[:-1]):\n",
    "    paper_id = paper['identifier'].lower().replace('arxiv:', '')\n",
    "    \n",
    "    folder = f'tmp_{paper_id}'\n",
    "\n",
    "    try:\n",
    "        if not os.path.isdir(folder):\n",
    "            folder = retrieve_document_source(f\"{paper_id}\", f'tmp_{paper_id}')\n",
    "        \n",
    "        try:\n",
    "            doc = latex.LatexDocument(folder, validation=validation)    \n",
    "        except AffiliationError as affilerror:\n",
    "            msg = f\"ArXiv:{paper_id:s} is not an MPIA paper... \" + str(affilerror)\n",
    "            failed.append((paper, \"affiliation error: \" + str(affilerror) ))\n",
    "            continue\n",
    "        \n",
    "        # Hack because sometimes author parsing does not work well\n",
    "        if (len(doc.authors) != len(paper['authors'])):\n",
    "            doc._authors = paper['authors']\n",
    "        if (doc.abstract) in (None, ''):\n",
    "            doc._abstract = paper['abstract']\n",
    "            \n",
    "        doc.comment = (get_markdown_badge(paper_id) + \n",
    "                       \"<mark>Appeared on: \" + paper['date'] + \"</mark> - \" +\n",
    "                       \"_\" + paper['comments'] + \"_\")\n",
    "        doc.highlight_authors_in_list(hl_list)\n",
    "\n",
    "        full_md = doc.generate_markdown_text()\n",
    "        \n",
    "        documents.append((paper_id, full_md))\n",
    "    except Exception as e:\n",
    "        warnings.warn(latex.LatexWarning(f\"{paper_id:s} did not run properly\\n\" +\n",
    "                                         str(e)\n",
    "                                        ))\n",
    "        failed.append((paper, \"latex error \" + str(e)))"
   ]
  },
  {
   "cell_type": "markdown",
   "id": "2505a25c",
   "metadata": {
    "papermill": {
     "duration": 0.007422,
     "end_time": "2023-02-08T04:10:35.759044",
     "exception": false,
     "start_time": "2023-02-08T04:10:35.751622",
     "status": "completed"
    },
    "tags": []
   },
   "source": [
    "### Export the logs\n",
    "\n",
    "Throughout, we also keep track of the logs per paper. see `logs-{today date}.md` "
   ]
  },
  {
   "cell_type": "code",
   "execution_count": 6,
   "id": "d733828a",
   "metadata": {
    "execution": {
     "iopub.execute_input": "2023-02-08T04:10:35.775013Z",
     "iopub.status.busy": "2023-02-08T04:10:35.774477Z",
     "iopub.status.idle": "2023-02-08T04:10:35.799149Z",
     "shell.execute_reply": "2023-02-08T04:10:35.798655Z"
    },
    "papermill": {
     "duration": 0.034338,
     "end_time": "2023-02-08T04:10:35.800495",
     "exception": false,
     "start_time": "2023-02-08T04:10:35.766157",
     "status": "completed"
    },
    "scrolled": false,
    "tags": []
   },
   "outputs": [
    {
     "data": {
      "text/markdown": [
       "## Successful papers"
      ],
      "text/plain": [
       "<IPython.core.display.Markdown object>"
      ]
     },
     "metadata": {},
     "output_type": "display_data"
    },
    {
     "data": {
      "text/markdown": [
       "\n",
       "|||\n",
       "|---:|:---|\n",
       "| [![arXiv](https://img.shields.io/badge/arXiv-arXiv:2302.03039-b31b1b.svg)](https://arxiv.org/abs/arXiv:2302.03039) | **SUPER VII. Morphology and kinematics of H$α$ emission in AGN host  galaxies at Cosmic noon using SINFONI**  |\n",
       "|| D. Kakkad, et al. -- incl., <mark>C. M. Harrison</mark> |\n",
       "|*Appeared on*| *2023-02-08*|\n",
       "|*Comments*| *16 pages, 11 figures, 2 tables, accepted for publication in MNRAS; Appendix = 2 tables and 3 figures*|\n",
       "|**Abstract**| We present spatially resolved H$\\alpha$ properties of 21 type 1 AGN host galaxies at z$\\sim$2 derived from the SUPER survey. These targets were observed with the adaptive optics capabilities of the SINFONI spectrograph, a near-infrared integral field spectrograph, that provided a median spatial resolution of 0.3 arcsec ($\\sim$2 kpc). We model the H$\\alpha$ emission line profile in each pixel to investigate whether it traces gas in the narrow line region or if it is associated with star formation. To do this, we first investigate the presence of resolved H$\\alpha$ emission by removing the contribution of the AGN PSF. We find extended H$\\alpha$ emission in sixteen out of the 21 type 1 AGN host galaxies (76%). Based on the BPT diagnostics, optical line flux ratios and the line widths (FWHM), we show that the H$\\alpha$ emission in five galaxies is ionised by the AGN (30%), in four galaxies by star formation (25%) and for the rest (45%), the ionisation source is unconstrained. Two galaxies show extended H$\\alpha$ FWHM $>$600 km/s, which is interpreted as a part of an AGN-driven outflow. Morphological and kinematic maps of H$\\alpha$ emission in targets with sufficient signal-to-noise ratio suggest the presence of rotationally supported disks in six galaxies and possible presence of companions in four galaxies. In two galaxies, we find an anti-correlation between the locations of extended H$\\alpha$ emission and [OIII]-based ionised outflows, indicating possible negative feedback at play. However, in the majority of galaxies, we do not find evidence of outflows impacting H$\\alpha$ based star formation. |"
      ],
      "text/plain": [
       "[arXiv:2302.03039] SUPER VII. Morphology and kinematics of H$α$ emission in AGN host  galaxies at Cosmic noon using SINFONI\n",
       "\tD. Kakkad, et al. -- incl., <mark>C. M. Harrison</mark>"
      ]
     },
     "metadata": {},
     "output_type": "display_data"
    },
    {
     "data": {
      "text/markdown": [
       "\n",
       "|||\n",
       "|---:|:---|\n",
       "| [![arXiv](https://img.shields.io/badge/arXiv-arXiv:2302.03042-b31b1b.svg)](https://arxiv.org/abs/arXiv:2302.03042) | **The ALMOND Survey: Molecular cloud properties and gas density tracers  across 25 nearby spiral galaxies with ALMA**  |\n",
       "|| <mark>Lukas Neumann</mark>, et al. -- incl., <mark>Frank Bigiel</mark>, <mark>Jonathan D. Henshaw</mark>, <mark>Daizhong Liu</mark>, <mark>Eva Schinnerer</mark> |\n",
       "|*Appeared on*| *2023-02-08*|\n",
       "|*Comments*| *48 pages, 40 figures*|\n",
       "|**Abstract**| We use new HCN(1-0) data from the ALMOND (ACA Large-sample Mapping Of Nearby galaxies in Dense gas) survey to trace the kpc-scale molecular gas density structure and CO(2-1) data from PHANGS-ALMA to trace the bulk molecular gas across 25 nearby, star-forming galaxies. At 2.1 kpc scale, we measure the density-sensitive HCN/CO line ratio and the SFR/HCN ratio to trace the star formation efficiency in the denser molecular medium. At 150 pc scale, we measure structural and dynamical properties of the molecular gas via CO(2-1) line emission, which is linked to the lower resolution data using an intensity-weighted averaging method. We find positive correlations (negative) of HCN/CO (SFR/HCN) with the surface density, the velocity dispersion and the internal turbulent pressure of the molecular gas. These observed correlations agree with expected trends from turbulent models of star formation, which consider a single free-fall time gravitational collapse. Our results show that the kpc-scale HCN/CO line ratio is a powerful tool to trace the 150 pc scale average density distribution of the molecular clouds. Lastly, we find systematic variations of the SFR/HCN ratio with cloud-scale molecular gas properties, which are incompatible with a universal star formation efficiency. Overall, these findings show that mean molecular gas density, molecular cloud properties and star formation are closely linked in a coherent way, and observations of density-sensitive molecular gas tracers are a useful tool to analyse these variations, linking molecular gas physics to stellar output across galaxy discs. |"
      ],
      "text/plain": [
       "[arXiv:2302.03042] The ALMOND Survey: Molecular cloud properties and gas density tracers  across 25 nearby spiral galaxies with ALMA\n",
       "\t<mark>Lukas Neumann</mark>, et al. -- incl., <mark>Frank Bigiel</mark>, <mark>Jonathan D. Henshaw</mark>, <mark>Daizhong Liu</mark>, <mark>Eva Schinnerer</mark>"
      ]
     },
     "metadata": {},
     "output_type": "display_data"
    },
    {
     "data": {
      "text/markdown": [
       "\n",
       "|||\n",
       "|---:|:---|\n",
       "| [![arXiv](https://img.shields.io/badge/arXiv-arXiv:2302.03576-b31b1b.svg)](https://arxiv.org/abs/arXiv:2302.03576) | **JWST NIRSpec observations of Supernova 1987A -- from the inner ejecta to  the reverse shock**  |\n",
       "|| J. Larsson, et al. -- incl., <mark>M. Meixner</mark>, <mark>O. Krause</mark> |\n",
       "|*Appeared on*| *2023-02-08*|\n",
       "|*Comments*| *Submitted to AAS Journals*|\n",
       "|**Abstract**| We present initial results from JWST NIRSpec integral field unit observations of the nearby Supernova (SN) 1987A. The observations provide the first spatially-resolved spectroscopy of the ejecta and equatorial ring (ER) over the 1-5 $\\mu$m range. We construct 3D emissivity maps of the [Fe I] 1.443 $\\mu$m line from the inner ejecta and the He I 1.083 $\\mu$m line from the reverse shock (RS), where the former probes the explosion geometry and the latter traces the structure of the circumstellar medium. We also present a model for the integrated spectrum of the ejecta. The [Fe I] 3D map reveals a highly-asymmetric morphology resembling a broken dipole, dominated by two large clumps with velocities of ~2300 km/s. We also find evidence that the Fe-rich inner ejecta have started to interact with the RS in the south. The RS surface traced by the He I line extends from just inside the ER to higher latitudes on both sides of the ER with a half-opening angle ~45 degrees, forming a bubble-like structure above and below the ER. The spectral model for the ejecta allows us to identify the many emission lines in this wavelength region, including numerous H$_2$ lines. We find that the H$_2$ is most likely excited by far-UV emission, while the metal lines ratios are consistent with recombination in very low temperature ejecta. |"
      ],
      "text/plain": [
       "[arXiv:2302.03576] JWST NIRSpec observations of Supernova 1987A -- from the inner ejecta to  the reverse shock\n",
       "\tJ. Larsson, et al. -- incl., <mark>M. Meixner</mark>, <mark>O. Krause</mark>"
      ]
     },
     "metadata": {},
     "output_type": "display_data"
    },
    {
     "data": {
      "text/markdown": [
       "## Failed papers"
      ],
      "text/plain": [
       "<IPython.core.display.Markdown object>"
      ]
     },
     "metadata": {},
     "output_type": "display_data"
    },
    {
     "data": {
      "text/markdown": [
       "\n",
       "|||\n",
       "|---:|:---|\n",
       "| [![arXiv](https://img.shields.io/badge/arXiv-arXiv:2302.03043-b31b1b.svg)](https://arxiv.org/abs/arXiv:2302.03043) | **The multi-wavelength view of shocks in the fastest nova V1674 Her**  |\n",
       "|| K. V. Sokolovsky, et al. -- incl., <mark>J. D. Linford</mark>, <mark>C. Smith</mark> |\n",
       "|*Appeared on*| *2023-02-08*|\n",
       "|*Comments*| *20 pages, 9 figures, 3 tables. Submitted to MNRAS. Comments welcome!*|\n",
       "|**Abstract**| Classical novae are shock-powered multi-wavelength transients triggered by a thermonuclear runaway on an accreting white dwarf. V1674 Her is the fastest nova ever recorded (time to declined by two magnitudes is t_2=1.1 d) that challenges our understanding of shock formation in novae. We investigate the physical mechanisms behind nova emission from GeV gamma-rays to cm-band radio using coordinated Fermi-LAT, NuSTAR, Swift and VLA observations supported by optical photometry. Fermi-LAT detected short-lived (18 h) 0.1-100 GeV emission from V1674 Her that appeared 6 h after the eruption began; this was at a level of (1.6 +/- 0.4)x10^-6 photons cm^-2 s^-1. Eleven days later, simultaneous NuSTAR and Swift X-ray observations revealed optically thin thermal plasma shock-heated to kT_shock = 4 keV. The lack of a detectable 6.7 keV Fe K_alpha emission suggests super-solar CNO abundances. The radio emission from V1674 Her was consistent with thermal emission at early times and synchrotron at late times. The radio spectrum steeply rising with frequency may be a result of either free-free absorption of synchrotron and thermal emission by unshocked outer regions of the nova shell or the Razin-Tsytovich effect attenuating synchrotron emission in dense plasma. The development of the shock inside the ejecta is unaffected by the extraordinarily rapid evolution and the intermediate polar host of this nova. |\n",
       "|<p style=\"color:green\"> **ERROR** </p>| <p style=\"color:green\">affiliation error: mpia.affiliation_verifications: 'Heidelberg' keyword not found.</p> |"
      ],
      "text/plain": [
       "<IPython.core.display.Markdown object>"
      ]
     },
     "metadata": {},
     "output_type": "display_data"
    },
    {
     "data": {
      "text/markdown": [
       "\n",
       "|||\n",
       "|---:|:---|\n",
       "| [![arXiv](https://img.shields.io/badge/arXiv-arXiv:2302.03046-b31b1b.svg)](https://arxiv.org/abs/arXiv:2302.03046) | **Beyond Gaussian Noise: A Generalized Approach to Likelihood Analysis  with non-Gaussian Noise**  |\n",
       "|| Ronan Legin, Alexandre Adam, <mark>Yashar Hezaveh</mark>, Laurence Perreault Levasseur |\n",
       "|*Appeared on*| *2023-02-08*|\n",
       "|*Comments*| *8 pages, 4 figures*|\n",
       "|**Abstract**| Likelihood analysis is typically limited to normally distributed noise due to the difficulty of determining the probability density function of complex, high-dimensional, non-Gaussian, and anisotropic noise. This is a major limitation for precision measurements in many domains of science, including astrophysics, for example, for the analysis of the Cosmic Microwave Background, gravitational waves, gravitational lensing, and exoplanets. This work presents Score-based LIkelihood Characterization (SLIC), a framework that resolves this issue by building a data-driven noise model using a set of noise realizations from observations. We show that the approach produces unbiased and precise likelihoods even in the presence of highly non-Gaussian correlated and spatially varying noise. We use diffusion generative models to estimate the gradient of the probability density of noise with respect to data elements. In combination with the Jacobian of the physical model of the signal, we use Langevin sampling to produce independent samples from the unbiased likelihood. We demonstrate the effectiveness of the method using real data from the Hubble Space Telescope and James Webb Space Telescope. |\n",
       "|<p style=\"color:green\"> **ERROR** </p>| <p style=\"color:green\">affiliation error: mpia.affiliation_verifications: 'Heidelberg' keyword not found.</p> |"
      ],
      "text/plain": [
       "<IPython.core.display.Markdown object>"
      ]
     },
     "metadata": {},
     "output_type": "display_data"
    },
    {
     "data": {
      "text/markdown": [
       "\n",
       "|||\n",
       "|---:|:---|\n",
       "| [![arXiv](https://img.shields.io/badge/arXiv-arXiv:2302.03055-b31b1b.svg)](https://arxiv.org/abs/arXiv:2302.03055) | **The Demographics of Terrestrial Planets in the Venus Zone**  |\n",
       "|| Colby Ostberg, et al. -- incl., <mark>Zhexing Li</mark>, <mark>James W. Head</mark> |\n",
       "|*Appeared on*| *2023-02-08*|\n",
       "|*Comments*| *27 pages, 7 figures, accepted for publication in the Astronomical Journal*|\n",
       "|**Abstract**| Understanding the physical characteristics of Venus, including its atmosphere, interior, and its evolutionary pathway with respect to Earth, remains a vital component for terrestrial planet evolution models and the emergence and/or decline of planetary habitability. A statistical strategy for evaluating the evolutionary pathways of terrestrial planets lies in the atmospheric characterization of exoplanets, where the sample size provides sufficient means for determining required runaway greenhouse conditions. Observations of potential exoVenuses can help confirm hypotheses about Venus' past, as well as the occurrence rate of Venus-like planets in other systems. Additionally, the data from future Venus missions, such as DAVINCI, EnVision, and VERITAS, will provide valuable information regarding Venus, and the study of exoVenuses will be complimentary to these missions. To facilitate studies of exoVenus candidates, we provide a catalog of all confirmed terrestrial planets in the Venus Zone, including transiting and non-transiting cases, and quantify their potential for follow-up observations. We examine the demographics of the exoVenus population with relation to stellar and planetary properties, such as the planetary radius gap. We highlight specific high-priority exoVenus targets for follow-up observations including: TOI-2285 b, LTT 1445 A c, TOI-1266 c, LHS 1140 c, and L98-59 d. We also discuss follow-up observations that may yield further insight into the Venus/Earth divergence in atmospheric properties. |\n",
       "|<p style=\"color:green\"> **ERROR** </p>| <p style=\"color:green\">affiliation error: mpia.affiliation_verifications: 'Heidelberg' keyword not found.</p> |"
      ],
      "text/plain": [
       "<IPython.core.display.Markdown object>"
      ]
     },
     "metadata": {},
     "output_type": "display_data"
    },
    {
     "data": {
      "text/markdown": [
       "\n",
       "|||\n",
       "|---:|:---|\n",
       "| [![arXiv](https://img.shields.io/badge/arXiv-arXiv:2302.03158-b31b1b.svg)](https://arxiv.org/abs/arXiv:2302.03158) | **EMPRESS. XI. SDSS and JWST Search for Local and z~4-5 Extremely  Metal-Poor Galaxies (EMPGs): Clustering and Chemical Properties of Local  EMPGs**  |\n",
       "|| Moka Nishigaki, et al. -- incl., <mark>Chien-Hsiu Lee</mark> |\n",
       "|*Appeared on*| *2023-02-08*|\n",
       "|*Comments*| **|\n",
       "|**Abstract**| We search for local extremely metal-poor galaxies (EMPGs), selecting photometric candidates by broadband color excess and machine-learning techniques with the SDSS photometric data. After removing stellar contaminants by shallow spectroscopy with Seimei and Nayuta telescopes, we confirm that three candidates are EMPGs with 0.05--0.1 $Z_\\odot$ by deep Magellan/MagE spectroscopy for faint {\\sc[Oiii]}$\\lambda$4363 lines. Using a statistical sample consisting of 105 spectroscopically-confirmed EMPGs taken from our study and the literature, we calculate cross-correlation function (CCF) of the EMPGs and all SDSS galaxies to quantify environments of EMPGs. Comparing another CCF of all SDSS galaxies and comparison SDSS galaxies in the same stellar mass range ($10^{7.0}-10^{8.4} M_\\odot$), we find no significant ($>1\\sigma$) difference between these two CCFs. We also compare mass-metallicity relations (MZRs) of the EMPGs and those of galaxies at $z\\sim$ 0--4 with a steady chemical evolution model and find that the EMPG MZR is comparable with the model prediction on average. These clustering and chemical properties of EMPGs are explained by a scenario of stochastic metal-poor gas accretion on metal-rich galaxies showing metal-poor star formation. Extending the broadband color-excess technique to a high-$z$ EMPG search, we select 17 candidates of $z\\sim$ 4--5 EMPGs with the deep ($\\simeq30$ mag) near-infrared JWST/NIRCam images obtained by ERO and ERS programs. We find galaxy candidates with negligible {\\sc[Oiii]}$\\lambda\\lambda$4959,5007 emission weaker than the local EMPGs and known high-$z$ galaxies, suggesting that some of these candidates may fall in 0--0.01 $Z_\\odot$, which potentially break the lowest metallicity limit known to date. |\n",
       "|<p style=\"color:green\"> **ERROR** </p>| <p style=\"color:green\">affiliation error: mpia.affiliation_verifications: 'Heidelberg' keyword not found.</p> |"
      ],
      "text/plain": [
       "<IPython.core.display.Markdown object>"
      ]
     },
     "metadata": {},
     "output_type": "display_data"
    },
    {
     "data": {
      "text/markdown": [
       "\n",
       "|||\n",
       "|---:|:---|\n",
       "| [![arXiv](https://img.shields.io/badge/arXiv-arXiv:2302.03168-b31b1b.svg)](https://arxiv.org/abs/arXiv:2302.03168) | **Multiplicity of northern bright O-type stars with optical long baseline  interferometry**  |\n",
       "|| Cyprien Lanthermann, et al. -- incl., <mark>Laurent Mahy</mark>, <mark>Claire L. Davies</mark> |\n",
       "|*Appeared on*| *2023-02-08*|\n",
       "|*Comments*| *15 pages, 9 figures, 5 tables, accepted in A&A*|\n",
       "|**Abstract**| The study of the multiplicity of massive stars gives hints on their formation processes and their evolutionary paths, which are still not fully understood. Large separation binaries (>50 milliseconds of arc, mas) can be probed by adaptive-optics-assisted direct imaging and sparse aperture masking, while close binaries can be resolved by photometry and spectroscopy. However, optical long baseline interferometry is mandatory to establish the multiplicity of Galactic massive stars at the separation gap between 1 and 50 mas. In this paper, we aim to demonstrate the capability of the new interferometric instrument MIRC-X, located at the CHARA Array, to study the multiplicity of O-type stars and therefore probe the full range of separation for more than 120 massive stars (H<7.5 mag). We initiated a pilot survey of bright O-type stars (H<6.5mag) observable with MIRC-X. We observed 29 O-type stars, including two systems in average atmospheric conditions around a magnitude of H=7.5 mag. We systematically reduced the obtained data with the public reduction pipeline of the instrument. We analyzed the reduced data using the dedicated python software CANDID to detect companions. Out of these 29 systems, we resolved 19 companions in 17 different systems with angular separations between ~0.5 and 50 mas. This results in a multiplicity fraction fm=17/29=0.59+/-0.09, and an average number of companions fc=19/29=0.66+/-0.13. Those results are in agreement with the results of the SMASH+ survey in the Southern Hemisphere. Thirteen of these companions have been resolved for the first time, including the companion responsible for the nonthermal emission in Cyg OB2-5 A and the confirmation of the candidate companion of HD 47129 suggested by SMASH+. A large survey on more than 120 northern O-type stars (H<7.5) is possible with MIRC-X and will be fruitful. |\n",
       "|<p style=\"color:green\"> **ERROR** </p>| <p style=\"color:green\">affiliation error: mpia.affiliation_verifications: 'Heidelberg' keyword not found.</p> |"
      ],
      "text/plain": [
       "<IPython.core.display.Markdown object>"
      ]
     },
     "metadata": {},
     "output_type": "display_data"
    },
    {
     "data": {
      "text/markdown": [
       "\n",
       "|||\n",
       "|---:|:---|\n",
       "| [![arXiv](https://img.shields.io/badge/arXiv-arXiv:2302.03174-b31b1b.svg)](https://arxiv.org/abs/arXiv:2302.03174) | **The Evolution of Protostellar Outflow Cavities, Kinematics, and Angular  Distribution of Momentum and Energy in Orion A: Evidence for Dynamical Cores**  |\n",
       "|| Cheng-Han Hsieh, et al. -- incl., <mark>Hector G. Arce</mark>, <mark>Zhi-Yun Li</mark>, <mark>Yichen Zhang</mark> |\n",
       "|*Appeared on*| *2023-02-08*|\n",
       "|*Comments*| *76 pages, 43 figures. Accepted by ApJ 2023.2.5*|\n",
       "|**Abstract**| We present Atacama Large Millimeter/submillimeter Array observations of the $\\sim$10 kAU environment surrounding 21 protostars in the Orion A molecular cloud tracing outflows. Our sample is composed of Class 0 to flat-spectrum protostars, spanning the full $\\sim$1 Myr lifetime. We derive the angular distribution of outflow momentum and energy profiles and obtain the first two-dimensional instantaneous mass, momentum, and energy ejection rate maps using our new approach: the Pixel Flux-tracing Technique (PFT). Our results indicate that by the end of the protostellar phase, outflows will remove $\\sim$2 to 4 M$_\\odot$ from the surrounding $\\sim$1 M$_\\odot$ low-mass core. These high values indicate that outflows remove a significant amount of gas from their parent cores and continuous core accretion from larger scales is needed to replenish core material for star formation. This poses serious challenges to the concept of ``cores as well-defined mass reservoirs\", and hence to the simplified core-to-star conversion prescriptions. Furthermore, we show that cavity opening angles, and momentum and energy distributions all increase with the protostar evolutionary stage. This is clear evidence that even garden-variety protostellar outflows: (a) effectively inject energy and momentum into their environments on $10$ kAU scales, and (b) significantly disrupt their natal cores, ejecting a large fraction of the mass that would have otherwise fed the nascent star. Our results support the conclusion that protostellar outflows have a direct impact on how stars get their mass, and that the natal sites of individual low-mass star formation are far more dynamic than commonly accepted theoretical paradigms. |\n",
       "|<p style=\"color:green\"> **ERROR** </p>| <p style=\"color:green\">affiliation error: mpia.affiliation_verifications: 'Heidelberg' keyword not found.</p> |"
      ],
      "text/plain": [
       "<IPython.core.display.Markdown object>"
      ]
     },
     "metadata": {},
     "output_type": "display_data"
    },
    {
     "data": {
      "text/markdown": [
       "\n",
       "|||\n",
       "|---:|:---|\n",
       "| [![arXiv](https://img.shields.io/badge/arXiv-arXiv:2302.03176-b31b1b.svg)](https://arxiv.org/abs/arXiv:2302.03176) | **TDCOSMO XIV: Practical Techniques for Estimating External Convergence of  Strong Gravitational Lens Systems and Applications to the SDSS J0924+0219  System**  |\n",
       "|| <mark>Patrick Wells</mark>, Christopher D. Fassnacht, C. E. Rusu |\n",
       "|*Appeared on*| *2023-02-08*|\n",
       "|*Comments*| *Submitted to A&A. 10 pages, 5 figures*|\n",
       "|**Abstract**| Time-delay cosmography uses strong gravitational lensing of a time-variable source to infer the Hubble Constant. The measurement is independent from both traditional distance ladder and CMB measurements. An accurate measurement with this technique requires considering the effects of objects along the line of sight outside the primary lens, which is quantified by the external convergence ($\\kappa_{\\rm{ext}}$). In absence of such corrections, $H_0$ will be biased towards higher values in overdense fields and lower values in underdense fields. We discuss the current state of the methods used to account for environment effects. We present a new software package built for this kind of analysis and others that can leverage large astronomical survey datasets. We apply these techniques to the SDSS J0924+0219 strong lens field. We infer the relative density of the SDSS J0924+0219 field by computing weighted number counts for all galaxies in the field, and comparing to weighted number counts computed for a large number of fields in a reference survey. We then compute weighted number counts in the Millennium Simulation and compare these results to infer the external convergence of the lens field.Results. Our results show the SDSS J0924+0219 field is a fairly typical line of sight, with median $\\kappa_{\\rm{ext}} = -0.012$ and standard deviation $\\sigma_{\\kappa} = 0.028$. |\n",
       "|<p style=\"color:green\"> **ERROR** </p>| <p style=\"color:green\">affiliation error: mpia.affiliation_verifications: 'Heidelberg' keyword not found.</p> |"
      ],
      "text/plain": [
       "<IPython.core.display.Markdown object>"
      ]
     },
     "metadata": {},
     "output_type": "display_data"
    },
    {
     "data": {
      "text/markdown": [
       "\n",
       "|||\n",
       "|---:|:---|\n",
       "| [![arXiv](https://img.shields.io/badge/arXiv-arXiv:2302.03215-b31b1b.svg)](https://arxiv.org/abs/arXiv:2302.03215) | **GRB 220408B: A Three-Episode Burst from a Precessing Jet**  |\n",
       "|| <mark>Zijian Zhang</mark>, et al. -- incl., <mark>Zi-Ke Liu</mark>, <mark>Guo-Yin Chen</mark>, <mark>Sihao Li</mark>, <mark>Yihui Liu</mark>, <mark>Shuheng Zhao</mark>, <mark>Bin-Bin Zhang</mark> |\n",
       "|*Appeared on*| *2023-02-08*|\n",
       "|*Comments*| *11 pages, 3 tables, 8 figures*|\n",
       "|**Abstract**| Jet precession has previously been proposed to explain the apparently repeating features in the light curves of a few gamma-ray bursts (GRBs). In this {\\it Letter}, we further apply the precession model to a bright GRB 220408B by examining both its temporal and spectral consistency with the predictions of the model. As one of the recently confirmed GRBs observed by our GRID CubeSat mission, GRB 220408B is noteworthy as it exhibits three apparently similar emission episodes. Furthermore, the similarities are reinforced by their strong temporal correlations and similar features in terms of spectral evolution and spectral lags. Our analysis demonstrates that these features can be well explained by the modulated emission of a Fast-Rise-Exponential-Decay (FRED) shape light curve intrinsically produced by a precessing jet with a precession period of $18.4 \\pm 0.2$ seconds, a nutation period of $11.1 \\pm 0.2$ seconds and viewed off-axis. This study provides a straightforward explanation for the complex yet similar multi-episode GRB light curves. |\n",
       "|<p style=\"color:green\"> **ERROR** </p>| <p style=\"color:green\">affiliation error: mpia.affiliation_verifications: 'Heidelberg' keyword not found.</p> |"
      ],
      "text/plain": [
       "<IPython.core.display.Markdown object>"
      ]
     },
     "metadata": {},
     "output_type": "display_data"
    },
    {
     "data": {
      "text/markdown": [
       "\n",
       "|||\n",
       "|---:|:---|\n",
       "| [![arXiv](https://img.shields.io/badge/arXiv-arXiv:2302.03398-b31b1b.svg)](https://arxiv.org/abs/arXiv:2302.03398) | **First Detection of Radio Recombination Lines of Ions Heavier than Helium**  |\n",
       "|| <mark>Xunchuan Liu</mark>, et al. -- incl., <mark>Tie Liu</mark>, <mark>Sheng-Li Qin</mark>, <mark>Sheng-Yuan Liu</mark>, <mark>Meizhu Liu</mark>, <mark>Chuanshou Li</mark>, <mark>Li Cen</mark>, <mark>Juan Li</mark>, <mark>Rongbing Zhao</mark>, <mark>Bing Li</mark>, <mark>Zhang Zhao</mark>, <mark>Qinghui Liu</mark>, <mark>Li Fu</mark>, <mark>Chao Zhang</mark>, <mark>Lingling Wang</mark>, <mark>Hongli Liu</mark>, <mark>Chao Zhang</mark> |\n",
       "|*Appeared on*| *2023-02-08*|\n",
       "|*Comments*| *3 figures, 2 tables, accepted by A&A Letter*|\n",
       "|**Abstract**| We report the first detection of radio recombination lines (RRLs) of ions heavier than helium. In a highly sensitive multi-band (12--50 GHz) line survey toward Orion KL with the TianMa 65-m Radio Telescope (TMRT), we successfully detected more than fifteen unblended $\\alpha$ lines of RRLs of singly ionized species (XII) recombined from XIII. The Ka-band (35--50 GHz) spectrum also shows tentative signals of $\\beta$ lines of ions. The detected lines can be successfully crossmatched with the the rest frequencies of RRLs of CII and/or OII. This finding greatly expands the connotation of ion RRLs, since before this work only two blended lines (105$\\alpha$ and 121$\\alpha$) of HeII had been reported. Our detected lines can be fitted simultaneously under assumption of local thermodynamic equilibrium (LTE). An abundance of CIII and OIII of 8.8$\\times$10$^{-4}$ is obtained, avoiding the complexities of optical/infrared observations and the blending of RRLs of atoms. It is consistent with but approaches the upper bound of the value (10$^{-4}$--$10^{-3}$) estimated from optical/infrared observations. The effects of dielectronic recombination may contribute to enhancing the level populations even at large $n$. We expect future observations using radio interferometers could break the degeneracy between C and O, and help to reveal the ionization structure and dynamical evolution of various ionized regions. |\n",
       "|<p style=\"color:green\"> **ERROR** </p>| <p style=\"color:green\">affiliation error: mpia.affiliation_verifications: 'Heidelberg' keyword not found.</p> |"
      ],
      "text/plain": [
       "<IPython.core.display.Markdown object>"
      ]
     },
     "metadata": {},
     "output_type": "display_data"
    },
    {
     "data": {
      "text/markdown": [
       "\n",
       "|||\n",
       "|---:|:---|\n",
       "| [![arXiv](https://img.shields.io/badge/arXiv-arXiv:2302.03425-b31b1b.svg)](https://arxiv.org/abs/arXiv:2302.03425) | **Probing the nature of the low state in the extreme ultraluminous X-ray  pulsar NGC 5907 ULX1**  |\n",
       "|| F. Fuerst, et al. -- incl., <mark>M. Heida</mark> |\n",
       "|*Appeared on*| *2023-02-08*|\n",
       "|*Comments*| *10 pages, 1 figure, accepted for publication in A&A*|\n",
       "|**Abstract**| NGC 5907 ULX1 is the most luminous ultra-luminous X-ray pulsar (ULXP) known to date, reaching luminosities in excess of 1e41 erg/s. The pulsar is known for its fast spin-up during the on-state. Here, we present a long-term monitoring of the X-ray flux and the pulse period between 2003-2022. We find that the source was in an off- or low-state between mid-2017 to mid-2020. During this state, our pulse period monitoring shows that the source had spun down considerably. We interpret this spin-down as likely being due to the propeller effect, whereby accretion onto the neutron star surface is inhibited. Using state-of-the-art accretion and torque models, we use the spin-up and spin-down episodes to constrain the magnetic field. For the spin-up episode, we find solutions for magnetic field strengths of either around 1e12G or 1e13G, however, the strong spin-down during the off-state seems only to be consistent with a very high magnetic field, namely, >1e13G. This is the first time a strong spin-down is seen during a low flux state in a ULXP. Based on the assumption that the source entered the propeller regime, this gives us the best estimate so far for the magnetic field of NGC 5907 ULX1. |\n",
       "|<p style=\"color:green\"> **ERROR** </p>| <p style=\"color:green\">affiliation error: mpia.affiliation_verifications: 'Heidelberg' keyword not found.</p> |"
      ],
      "text/plain": [
       "<IPython.core.display.Markdown object>"
      ]
     },
     "metadata": {},
     "output_type": "display_data"
    },
    {
     "data": {
      "text/markdown": [
       "\n",
       "|||\n",
       "|---:|:---|\n",
       "| [![arXiv](https://img.shields.io/badge/arXiv-arXiv:2302.03455-b31b1b.svg)](https://arxiv.org/abs/arXiv:2302.03455) | **Cepheid metallicity in the Leavitt law (C-MetaLL) survey -- III.  Simultaneous derivation of the Gaia parallax offset and  Period-Luminosity-Metallicity coefficients**  |\n",
       "|| R. Molinaro, et al. -- incl., <mark>J. Storm</mark> |\n",
       "|*Appeared on*| *2023-02-08*|\n",
       "|*Comments*| *12 pages, 12 figures, accepted for publication in MNRAS*|\n",
       "|**Abstract**| Classical Cepheids (DCEPs) are the most important standard candles in the extra-galactic distance scale thanks to the Period-Luminosity ($\\rm PL$), Period-Luminosity-Color ($\\rm PLC$) and Period-Wesenheit ($\\rm PW$) relations that hold for these objects. The advent of the {\\it Gaia} mission, and in particular the Early Data Release 3 (EDR3) provided accurate parallaxes to calibrate these relations. In order to fully exploit {\\it Gaia} measurements, the zero point (ZP) of {\\it Gaia} parallaxes should be determined with an accuracy of a few $\\rm \\mu as$. The individual ZP corrections provided by the {\\it Gaia} team depend on the magnitude and the position on the sky of the target. In this paper, we use an implicit method that relies on the Cepheid $\\rm PL$ and $\\rm PW$ relations to evaluate the ensemble {\\it Gaia} parallax zero point. The best inferred estimation of the offset value needed to additionally correct (after the {\\it Gaia} team correction) the {\\it Gaia} parallaxes of the present DCEP sample, amounts to $\\rm -22\\pm 4\\, \\mu as$. This value is in agreement with the most recent literature values and confirms that the correction proposed by the {\\it Gaia} team over-corrected the parallaxes.\\\\ As a further application of our results, we derive an estimate of the Large Magellanic Cloud distance ($\\rm \\mu_0=18.49\\pm 0.06\\, mag$), in very good agreement with the currently accepted value obtained through geometric methods. |\n",
       "|<p style=\"color:green\"> **ERROR** </p>| <p style=\"color:green\">affiliation error: mpia.affiliation_verifications: 'Heidelberg' keyword not found.</p> |"
      ],
      "text/plain": [
       "<IPython.core.display.Markdown object>"
      ]
     },
     "metadata": {},
     "output_type": "display_data"
    },
    {
     "data": {
      "text/markdown": [
       "\n",
       "|||\n",
       "|---:|:---|\n",
       "| [![arXiv](https://img.shields.io/badge/arXiv-arXiv:2302.03105-b31b1b.svg)](https://arxiv.org/abs/arXiv:2302.03105) | **Over 500 Days in the Life of the Photosphere of the Type Iax Supernova  SN 2014dt**  |\n",
       "|| Yssavo Camacho-Neves, et al. -- incl., <mark>Lindsey A. Kwok</mark> |\n",
       "|*Appeared on*| *2023-02-08*|\n",
       "|*Comments*| *submitted to ApJ, 21 pages, 8 figures, 3 tables*|\n",
       "|**Abstract**| Type Iax supernovae (SN Iax) are the largest known class of peculiar white dwarf supernovae, distinct from normal type Ia supernovae (SN Ia). The unique properties of SN Iax, especially their strong photospheric lines out to extremely late-times, allow us to model their optical spectra and derive physical parameters for the long-lasting photosphere. We present an extensive spectral timeseries, including 21 new spectra, of SN Iax 2014dt from +11 to +562 days after maximum light. We are able to reproduce the entire timeseries with a self-consistent, nearly unaltered deflagration explosion model from Fink et al. (2014) using TARDIS, an open-source radiative transfer code (Kerzendorf & Sim 2014; Kerzendorf et al. 2023). We find that the photospheric velocity of SN 2014dt slows its evolution between +64 and +148 days, which closely overlaps the phase when we see SN 2014dt diverge from the normal spectral evolution of SN Ia (+90 to +150 days). The photospheric velocity at these epochs, ~ 400--1000 km s$^{-1}$, may demarcate a boundary within the ejecta below which the physics of SN Iax and normal SN Ia differ. Our results suggest that SN 2014dt is consistent with a weak deflagration explosion model that leaves behind a bound remnant and drives an optically thick, quasi-steady-state wind creating the photospheric lines at late times. The data also suggest that this wind may weaken at epochs past +450 days, perhaps indicating a depleted radioactive power source. |\n",
       "|<p style=\"color:green\"> **ERROR** </p>| <p style=\"color:green\">affiliation error: mpia.affiliation_verifications: 'Planck' keyword not found.</p> |"
      ],
      "text/plain": [
       "<IPython.core.display.Markdown object>"
      ]
     },
     "metadata": {},
     "output_type": "display_data"
    },
    {
     "data": {
      "text/markdown": [
       "\n",
       "|||\n",
       "|---:|:---|\n",
       "| [![arXiv](https://img.shields.io/badge/arXiv-arXiv:2302.03044-b31b1b.svg)](https://arxiv.org/abs/arXiv:2302.03044) | **Wide-field CO isotopologue emission and the CO-to-H$_2$ factor across  the nearby spiral galaxy M101**  |\n",
       "|| Jakob S. den Brok, et al. -- incl., <mark>Frank Bigiel</mark>, <mark>Eva Schinnerer</mark> |\n",
       "|*Appeared on*| *2023-02-08*|\n",
       "|*Comments*| *Accepted for publication in A&A, 25 pages, 15 figures*|\n",
       "|**Abstract**| Carbon monoxide (CO) emission is the most widely used tracer of the bulk molecular gas in the interstellar medium (ISM) in extragalactic studies. The CO-to-H$_2$ conversion factor, $\\alpha_{\\rm CO}$, links the observed CO emission to the total molecular gas mass. However, no single prescription perfectly describes the variation of $\\alpha_{\\rm CO}$ across all environments across galaxies as a function of metallicity, molecular gas opacity, line excitation, and other factors. Using resolved spectral line observations of CO and its isotopologues, we can constrain the molecular gas conditions and link them to a variation in the conversion factor. We present new IRAM 30-m 1mm and 3mm line observations of $^{12}$CO, $^{13}$CO, and C$^{18}$O} across the nearby galaxy M101. Based on the CO isotopologue line ratios, we find that selective nucleosynthesis and opacity changes are the main drivers of the variation in the line emission across the galaxy. Furthermore, we estimated $\\alpha_{\\rm CO(1-0)}$ using different approaches, including (i) the dust mass surface density derived from far-IR emission as an independent tracer of the total gas surface density and (ii) LTE-based measurements using the optically thin $^{13}$CO(1-0) intensity. We find an average value of $\\alpha_{\\rm CO}=4.4{\\pm}0.9\\rm\\,M_\\odot\\,pc^{-2}(K\\,km\\,s^{-1})^{-1}$ across the galaxy, with a decrease by a factor of 10 toward the 2 kpc central region. In contrast, we find LTE-based values are lower by a factor of 2-3 across the disk relative to the dust-based result. Accounting for $\\alpha_{\\rm CO}$ variations, we found significantly reduced molecular gas depletion time by a factor 10 in the galaxy's center. In conclusion, our result suggests implications for commonly derived scaling relations, such as an underestimation of the slope of the Kennicutt Schmidt law, if $\\alpha_{\\rm CO}$ variations are not accounted for. |\n",
       "|<p style=\"color:red\"> **ERROR** </p>| <p style=\"color:red\">latex error list index out of range</p> |"
      ],
      "text/plain": [
       "<IPython.core.display.Markdown object>"
      ]
     },
     "metadata": {},
     "output_type": "display_data"
    },
    {
     "data": {
      "text/markdown": [
       "\n",
       "|||\n",
       "|---:|:---|\n",
       "| [![arXiv](https://img.shields.io/badge/arXiv-arXiv:2302.03062-b31b1b.svg)](https://arxiv.org/abs/arXiv:2302.03062) | **PHANGS-MUSE: Detection and Bayesian classification of ~40000 ionised  nebulae in nearby spiral galaxies**  |\n",
       "|| Enrico Congiu, et al. -- incl., <mark>Kathryn Kreckel</mark>, <mark>Frank Bigiel</mark>, <mark>Eva Schinnerer</mark> |\n",
       "|*Appeared on*| *2023-02-08*|\n",
       "|*Comments*| *58 pages, 46 figures. Paper accepted for pubblications in A&A. The catalogue will be available via the CDS or at the following link: this http URL*|\n",
       "|**Abstract**| In this work, we present a new catalogue of >40000 ionised nebulae distributed across the 19 galaxies observed by the PHANGS-MUSE survey. The nebulae have been classified using a new model-comparison-based algorithm that exploits the odds ratio principle to assign a probabilistic classification to each nebula in the sample. The resulting catalogue is the largest catalogue containing complete spectral and spatial information for a variety of ionised nebulae available so far in the literature. We developed this new algorithm to address some of the limitations of the traditional classification criteria, such as their binarity, the sharpness of the involved limits, and the limited amount of data they rely on for the classification. The analysis of the catalogue shows that the algorithm performs well when selecting H II regions. We can recover their luminosity function, and its properties are in line with what is available in the literature. We also identify a rather significant population of shock-ionised regions (mostly composed of supernova remnants), an order of magnitude larger than any other homogeneous catalogue of supernova remnants currently available in the literature. The number of supernova remnants we identify per galaxy is in line with results in our Galaxy and other very nearby sources. However, limitations in the source detection algorithm result in an incomplete sample of planetary nebulae, even though their classification seems robust. Finally, we demonstrate how applying a correction for the contribution of the diffuse ionised gas to the nebulae's spectra is essential to obtain a robust classification of the objects and how a correct measurement of the extinction using DIG-corrected line fluxes prompts the use of a higher theoretical Ha/Hb ratio (3.03) than what is commonly used when recovering the E(B-V) via the Balmer decrement technique in massive star-forming galaxies. |\n",
       "|<p style=\"color:red\"> **ERROR** </p>| <p style=\"color:red\">latex error sequence item 1: expected str instance, TexNode found</p> |"
      ],
      "text/plain": [
       "<IPython.core.display.Markdown object>"
      ]
     },
     "metadata": {},
     "output_type": "display_data"
    }
   ],
   "source": [
    "import datetime\n",
    "today = str(datetime.date.today())\n",
    "logfile = f\"_build/html/logs/log-{today}.md\"\n",
    "\n",
    "\n",
    "with open(logfile, 'w') as logs:\n",
    "    # Success\n",
    "    logs.write(f'# Arxiv on Deck 2: Logs - {today}\\n\\n')\n",
    "    logs.write(\"\"\"* Arxiv had {0:,d} new papers\\n\"\"\".format(len(new_papers)))\n",
    "    logs.write(\"\"\"    * {0:,d} with possible author matches\\n\\n\"\"\".format(len(candidates)))\n",
    "    logs.write(\"## Sucessful papers\\n\\n\")\n",
    "    display(Markdown(\"## Successful papers\"))\n",
    "    success = [k[0] for k in documents]\n",
    "    for candid in candidates:\n",
    "        if candid['identifier'].split(':')[-1] in success:\n",
    "            display(candid)\n",
    "            logs.write(candid.generate_markdown_text() + '\\n\\n')\n",
    "\n",
    "    ## failed\n",
    "    logs.write(\"## Failed papers\\n\\n\")\n",
    "    display(Markdown(\"## Failed papers\"))\n",
    "    failed = sorted(failed, key=lambda x: x[1])\n",
    "    current_reason = \"\"\n",
    "    for paper, reason in failed:\n",
    "        if 'affiliation' in reason:\n",
    "            color = 'green'\n",
    "        else:\n",
    "            color = 'red'\n",
    "        data = Markdown(\n",
    "                paper.generate_markdown_text() + \n",
    "                f'\\n|<p style=\"color:{color:s}\"> **ERROR** </p>| <p style=\"color:{color:s}\">{reason:s}</p> |'\n",
    "               )\n",
    "        if reason != current_reason:\n",
    "            logs.write(f'### {reason:s} \\n\\n')\n",
    "            current_reason = reason\n",
    "        logs.write(data.data + '\\n\\n')\n",
    "        \n",
    "        # only display here the important errors (all in logs)\n",
    "        # if color in ('red',):\n",
    "        display(data)"
   ]
  },
  {
   "cell_type": "markdown",
   "id": "472d20ee",
   "metadata": {
    "papermill": {
     "duration": 0.009323,
     "end_time": "2023-02-08T04:10:35.819445",
     "exception": false,
     "start_time": "2023-02-08T04:10:35.810122",
     "status": "completed"
    },
    "tags": []
   },
   "source": [
    "## Export documents\n",
    "\n",
    "We now write the .md files and export relevant images"
   ]
  },
  {
   "cell_type": "code",
   "execution_count": 7,
   "id": "d426aed9",
   "metadata": {
    "execution": {
     "iopub.execute_input": "2023-02-08T04:10:35.839563Z",
     "iopub.status.busy": "2023-02-08T04:10:35.839079Z",
     "iopub.status.idle": "2023-02-08T04:10:35.846269Z",
     "shell.execute_reply": "2023-02-08T04:10:35.845763Z"
    },
    "papermill": {
     "duration": 0.018831,
     "end_time": "2023-02-08T04:10:35.847645",
     "exception": false,
     "start_time": "2023-02-08T04:10:35.828814",
     "status": "completed"
    },
    "tags": []
   },
   "outputs": [],
   "source": [
    "def export_markdown_summary(md: str, md_fname:str, directory: str):\n",
    "    \"\"\"Export MD document and associated relevant images\"\"\"\n",
    "    import os\n",
    "    import shutil\n",
    "    import re\n",
    "\n",
    "    if (os.path.exists(directory) and not os.path.isdir(directory)):\n",
    "        raise RuntimeError(f\"a non-directory file exists with name {directory:s}\")\n",
    "\n",
    "    if (not os.path.exists(directory)):\n",
    "        print(f\"creating directory {directory:s}\")\n",
    "        os.mkdir(directory)\n",
    "\n",
    "    fig_fnames = (re.compile(r'\\[Fig.*\\]\\((.*)\\)').findall(md) + \n",
    "                  re.compile(r'\\<img src=\"([^>\\s]*)\"[^>]*/>').findall(md))\n",
    "    for fname in fig_fnames:\n",
    "        if 'http' in fname:\n",
    "            # No need to copy online figures\n",
    "            continue\n",
    "        destdir = os.path.join(directory, os.path.dirname(fname))\n",
    "        destfname = os.path.join(destdir, os.path.basename(fname))\n",
    "        try:\n",
    "            os.makedirs(destdir)\n",
    "        except FileExistsError:\n",
    "            pass\n",
    "        shutil.copy(fname, destfname)\n",
    "    with open(os.path.join(directory, md_fname), 'w') as fout:\n",
    "        fout.write(md)\n",
    "    print(\"exported in \", os.path.join(directory, md_fname))\n",
    "    [print(\"    + \" + os.path.join(directory,fk)) for fk in fig_fnames]"
   ]
  },
  {
   "cell_type": "code",
   "execution_count": 8,
   "id": "014d04a4",
   "metadata": {
    "execution": {
     "iopub.execute_input": "2023-02-08T04:10:35.868405Z",
     "iopub.status.busy": "2023-02-08T04:10:35.867932Z",
     "iopub.status.idle": "2023-02-08T04:10:35.877559Z",
     "shell.execute_reply": "2023-02-08T04:10:35.876876Z"
    },
    "papermill": {
     "duration": 0.021573,
     "end_time": "2023-02-08T04:10:35.878928",
     "exception": false,
     "start_time": "2023-02-08T04:10:35.857355",
     "status": "completed"
    },
    "tags": []
   },
   "outputs": [
    {
     "name": "stdout",
     "output_type": "stream",
     "text": [
      "exported in  _build/html/2302.03039.md\n",
      "    + _build/html/tmp_2302.03039/./X_N_160_22_PSF_subtraction_K_15dec2022.png\n",
      "    + _build/html/tmp_2302.03039/./X_N_81_44_PSF_subtraction_K_15dec2022.png\n",
      "    + _build/html/tmp_2302.03039/./X_N_533_PSF_subtraction_K_15dec2022.png\n",
      "    + _build/html/tmp_2302.03039/./X_N_66_23_PSF_subtraction_K_15dec2022.png\n",
      "    + _build/html/tmp_2302.03039/./X_N_12_26_PSF_subtraction_K_15dec2022.png\n",
      "    + _build/html/tmp_2302.03039/./X_N_4_48_PSF_subtraction_K_15dec2022.png\n",
      "    + _build/html/tmp_2302.03039/./X_N_115_23_PSF_subtraction_K_15dec2022.png\n",
      "    + _build/html/tmp_2302.03039/./cid_166_PSF_subtraction_K_15dec2022.png\n",
      "    + _build/html/tmp_2302.03039/./cid_1605_PSF_subtraction_K_15dec2022.png\n",
      "    + _build/html/tmp_2302.03039/./cid_346_PSF_subtraction_K_15dec2022.png\n",
      "    + _build/html/tmp_2302.03039/./X_N_115_23_HA_OIII_compare_15dec2022.png\n",
      "    + _build/html/tmp_2302.03039/./cid_346_HA_OIII_compare_15dec2022.png\n",
      "    + _build/html/tmp_2302.03039/./J1333_HA_OIII_compare_15dec2022.png\n",
      "    + _build/html/tmp_2302.03039/./S82X1905_HA_OIII_compare_15dec2022.png\n",
      "    + _build/html/tmp_2302.03039/./BPT.png\n",
      "    + _build/html/tmp_2302.03039/./cid_1205_PSF_subtraction_K_15dec2022.png\n",
      "    + _build/html/tmp_2302.03039/./cid_467_PSF_subtraction_K_15dec2022.png\n",
      "    + _build/html/tmp_2302.03039/./J1333_PSF_subtraction_K_15dec2022.png\n",
      "    + _build/html/tmp_2302.03039/./J1549_PSF_subtraction_K_15dec2022.png\n",
      "    + _build/html/tmp_2302.03039/./S82X1905_PSF_subtraction_K_15dec2022.png\n",
      "    + _build/html/tmp_2302.03039/./S82X1940_PSF_subtraction_K_15dec2022.png\n",
      "    + _build/html/tmp_2302.03039/./S82X2058_PSF_subtraction_K_15dec2022.png\n",
      "exported in  _build/html/2302.03042.md\n",
      "exported in  _build/html/2302.03576.md\n",
      "    + _build/html/tmp_2302.03576/./fe1p44_slices_500kms_5x4_er.png\n",
      "    + _build/html/tmp_2302.03576/./specregions_fe1p44_image_fullfov_lab.png\n",
      "    + _build/html/tmp_2302.03576/./fe1p44_3dvol_3views.png\n"
     ]
    }
   ],
   "source": [
    "for paper_id, md in documents:\n",
    "    export_markdown_summary(md, f\"{paper_id:s}.md\", '_build/html/')"
   ]
  },
  {
   "cell_type": "markdown",
   "id": "f087a0a7",
   "metadata": {
    "papermill": {
     "duration": 0.009579,
     "end_time": "2023-02-08T04:10:35.898112",
     "exception": false,
     "start_time": "2023-02-08T04:10:35.888533",
     "status": "completed"
    },
    "tags": []
   },
   "source": [
    "## Display the papers\n",
    "\n",
    "Not necessary but allows for a quick check."
   ]
  },
  {
   "cell_type": "code",
   "execution_count": 9,
   "id": "fd25f625",
   "metadata": {
    "execution": {
     "iopub.execute_input": "2023-02-08T04:10:35.918727Z",
     "iopub.status.busy": "2023-02-08T04:10:35.918214Z",
     "iopub.status.idle": "2023-02-08T04:10:35.925408Z",
     "shell.execute_reply": "2023-02-08T04:10:35.924780Z"
    },
    "papermill": {
     "duration": 0.019219,
     "end_time": "2023-02-08T04:10:35.926819",
     "exception": false,
     "start_time": "2023-02-08T04:10:35.907600",
     "status": "completed"
    },
    "scrolled": false,
    "tags": []
   },
   "outputs": [
    {
     "data": {
      "text/markdown": [
       "<div class=\"macros\" style=\"visibility:hidden;\">\n",
       "$\\newcommand{\\ensuremath}{}$\n",
       "$\\newcommand{\\xspace}{}$\n",
       "$\\newcommand{\\object}[1]{\\texttt{#1}}$\n",
       "$\\newcommand{\\farcs}{{.}''}$\n",
       "$\\newcommand{\\farcm}{{.}'}$\n",
       "$\\newcommand{\\arcsec}{''}$\n",
       "$\\newcommand{\\arcmin}{'}$\n",
       "$\\newcommand{\\ion}[2]{#1#2}$\n",
       "$\\newcommand{\\textsc}[1]{\\textrm{#1}}$\n",
       "$\\newcommand{\\hl}[1]{\\textrm{#1}}$\n",
       "$\\newcommand{\\oiii}{[\\ion{O}{iii}]}$\n",
       "$\\newcommand{\\nii}{[\\ion{N}{ii}]}$\n",
       "$\\newcommand{\\sii}{[\\ion{S}{ii}]}$\n",
       "$\\newcommand{\\thebibliography}{\\DeclareRobustCommand{\\VAN}[3]{##3}\\VANthebibliography}$</div>\n",
       "\n",
       "<div class=\"macros\" style=\"visibility:hidden;\">\n",
       "$\\newcommand{$\\ensuremath$}{}$\n",
       "$\\newcommand{$\\xspace$}{}$\n",
       "$\\newcommand{$\\object$}[1]{\\texttt{#1}}$\n",
       "$\\newcommand{$\\farcs$}{{.}''}$\n",
       "$\\newcommand{$\\farcm$}{{.}'}$\n",
       "$\\newcommand{$\\arcsec$}{''}$\n",
       "$\\newcommand{$\\arcmin$}{'}$\n",
       "$\\newcommand{$\\ion$}[2]{#1#2}$\n",
       "$\\newcommand{$\\textsc$}[1]{\\textrm{#1}}$\n",
       "$\\newcommand{$\\hl$}[1]{\\textrm{#1}}$\n",
       "$\\newcommand{$\\oiii$}{[$\\ion${O}{iii}]}$\n",
       "$\\newcommand{$\\nii$}{[$\\ion${N}{ii}]}$\n",
       "$\\newcommand{$\\sii$}{[$\\ion${S}{ii}]}$\n",
       "$\\newcommand{$\\thebibliography$}{\\DeclareRobustCommand{\\VAN}[3]{##3}\\VANthebibliography}$</div>\n",
       "\n",
       "\n",
       "\n",
       "<div id=\"title\">\n",
       "\n",
       "#  emission in AGN host galaxies at Cosmic noon using SINFONI\n",
       "\n",
       "</div>\n",
       "<div id=\"comments\">\n",
       "\n",
       "[![arXiv](https://img.shields.io/badge/arXiv-2302.03039-b31b1b.svg)](https://arxiv.org/abs/2302.03039)<mark>Appeared on: 2023-02-08</mark> - _16 pages, 11 figures, 2 tables, accepted for publication in MNRAS; Appendix = 2 tables and 3 figures_\n",
       "\n",
       "</div>\n",
       "<div id=\"authors\">\n",
       "\n",
       "D. Kakkad, et al. -- incl., <mark><mark>C. M. Harrison</mark></mark>\n",
       "\n",
       "</div>\n",
       "<div id=\"abstract\">\n",
       "\n",
       "**Abstract:** We present spatially resolved H$\\alpha$properties of 21 type 1 AGN host galaxies at z$\\sim$2 derived from the SUPER survey. These targets were observed with the adaptive optics capabilities of the SINFONI spectrograph, a near-infrared integral field spectrograph, that provided a median spatial resolution of 0.3$\\arcsec$($\\sim$2 kpc). We model the H$\\alpha$emission line profile in each pixel to investigate whether it traces gas in the narrow line region or if it is associated with star formation. To do this, we first investigate the presence of resolved H$\\alpha$emission by removing the contribution of the AGN PSF. We find extended H$\\alpha$emission in sixteen out of the 21 type 1 AGN host galaxies (76\\%). Based on the BPT diagnostics, optical line flux ratios and the line widths (FWHM), we show that the H$\\alpha$emission in five galaxies is ionised by the AGN (30\\%), in four galaxies by star formation (25\\%) and for the rest (45\\%), the ionisation source is unconstrained. Two galaxies show extended H$\\alpha$FWHM$>$600 km/s, which is interpreted as a part of an AGN-driven outflow. Morphological and kinematic maps of H$\\alpha$emission in targets with sufficient signal-to-noise ratio suggest the presence of rotationally supported disks in six galaxies and possible presence of companions in four galaxies. In two galaxies, we find an anti-correlation between the locations of extended H$\\alpha$emission and$\\oiii$-based ionised outflows, indicating possible negative feedback at play. However, in the majority of galaxies, we do not find evidence of outflows impacting H$\\alpha$based star formation.\n",
       "\n",
       "</div>\n",
       "\n",
       "<div id=\"div_fig1\">\n",
       "\n",
       "<img src=\"tmp_2302.03039/./X_N_160_22_PSF_subtraction_K_15dec2022.png\" alt=\"Fig7.1\" width=\"10%\"/><img src=\"tmp_2302.03039/./X_N_81_44_PSF_subtraction_K_15dec2022.png\" alt=\"Fig7.2\" width=\"10%\"/><img src=\"tmp_2302.03039/./X_N_533_PSF_subtraction_K_15dec2022.png\" alt=\"Fig7.3\" width=\"10%\"/><img src=\"tmp_2302.03039/./X_N_66_23_PSF_subtraction_K_15dec2022.png\" alt=\"Fig7.4\" width=\"10%\"/><img src=\"tmp_2302.03039/./X_N_12_26_PSF_subtraction_K_15dec2022.png\" alt=\"Fig7.5\" width=\"10%\"/><img src=\"tmp_2302.03039/./X_N_4_48_PSF_subtraction_K_15dec2022.png\" alt=\"Fig7.6\" width=\"10%\"/><img src=\"tmp_2302.03039/./X_N_115_23_PSF_subtraction_K_15dec2022.png\" alt=\"Fig7.7\" width=\"10%\"/><img src=\"tmp_2302.03039/./cid_166_PSF_subtraction_K_15dec2022.png\" alt=\"Fig7.8\" width=\"10%\"/><img src=\"tmp_2302.03039/./cid_1605_PSF_subtraction_K_15dec2022.png\" alt=\"Fig7.9\" width=\"10%\"/><img src=\"tmp_2302.03039/./cid_346_PSF_subtraction_K_15dec2022.png\" alt=\"Fig7.10\" width=\"10%\"/>\n",
       "\n",
       "**Figure 7. -** The plots in this figure show the results of the PSF-subtraction procedure described in Sect. \\ref{sect3.2}. The maps show the PSF-subtracted H$\\alpha$ channel map and the corresponding right panels show the spectrum extracted from regions above 3$\\sigma$ noise levels (white regions in the channel maps). The noise levels in each map is obtained from object-free regions. The \"X\" in the maps mark the peak of the K-band continuum emission which is used as a proxy for the AGN location. The magenta shaded region in the spectra show the channels that were collapsed to obtain the PSF-subtracted images. The vertical red dashed line shows the expected location of the H$\\alpha$ line based on the redshift of the respective targets. The presence of structure in the PSF-subtracted map and a visible detection of the emission line in the spectra would suggest an extended H$\\alpha$ feature. Each target in this figure show signatures of extended H$\\alpha$ emission (labelled as \"Resolved\"), except X\\_N\\_66\\_23 and cid\\_166 (labelled as \"Resolved?\") where the extension is a possibility but unconfirmed with the current data. Further details are given in Sect. \\ref{sect3.2}. (*fig:BPT_PSF*)\n",
       "\n",
       "</div>\n",
       "<div id=\"div_fig2\">\n",
       "\n",
       "<img src=\"tmp_2302.03039/./X_N_115_23_HA_OIII_compare_15dec2022.png\" alt=\"Fig2.1\" width=\"20%\"/><img src=\"tmp_2302.03039/./cid_346_HA_OIII_compare_15dec2022.png\" alt=\"Fig2.2\" width=\"20%\"/><img src=\"tmp_2302.03039/./J1333_HA_OIII_compare_15dec2022.png\" alt=\"Fig2.3\" width=\"20%\"/><img src=\"tmp_2302.03039/./S82X1905_HA_OIII_compare_15dec2022.png\" alt=\"Fig2.4\" width=\"20%\"/><img src=\"tmp_2302.03039/./BPT.png\" alt=\"Fig2.5\" width=\"20%\"/>\n",
       "\n",
       "**Figure 2. -** The background images in the maps in the top two rows shows the PSF-subtracted H$\\alpha$ images and the overlaid blue contours show the locations of extended $\\oiii$ emission. The contour levels are at 98\\%, 90\\%, 70\\% and 50\\% of the peak $\\oiii$ flux. In four targets, X\\_N\\_115\\_23, cid\\_346, J1333+1649 and S82X1905, the spatial location of the extended H$\\alpha$ emission coincides with that of the $\\oiii$ emission. This made it possible to place the extended H$\\alpha$ emission of these four galaxies in the BPT diagram shown in the bottom panel. In all these four galaxies, the extended emission is ionised by the AGN. The black line shows the division between star forming and AGN ionisation from \\citet{kewley13}. Targets, X\\_N\\_81\\_44 and J1549+1245 do not show the same location of the $\\oiii$ and H$\\alpha$ emission. (*fig:BPT*)\n",
       "\n",
       "</div>\n",
       "<div id=\"div_fig3\">\n",
       "\n",
       "<img src=\"tmp_2302.03039/./cid_1205_PSF_subtraction_K_15dec2022.png\" alt=\"Fig8.1\" width=\"14%\"/><img src=\"tmp_2302.03039/./cid_467_PSF_subtraction_K_15dec2022.png\" alt=\"Fig8.2\" width=\"14%\"/><img src=\"tmp_2302.03039/./J1333_PSF_subtraction_K_15dec2022.png\" alt=\"Fig8.3\" width=\"14%\"/><img src=\"tmp_2302.03039/./J1549_PSF_subtraction_K_15dec2022.png\" alt=\"Fig8.4\" width=\"14%\"/><img src=\"tmp_2302.03039/./S82X1905_PSF_subtraction_K_15dec2022.png\" alt=\"Fig8.5\" width=\"14%\"/><img src=\"tmp_2302.03039/./S82X1940_PSF_subtraction_K_15dec2022.png\" alt=\"Fig8.6\" width=\"14%\"/><img src=\"tmp_2302.03039/./S82X2058_PSF_subtraction_K_15dec2022.png\" alt=\"Fig8.7\" width=\"14%\"/>\n",
       "\n",
       "**Figure 8. -** Same as Fig. \\ref{fig:BPT_PSF}, for the rest of the targets presented in this paper. All the targets, except cid\\_1205 and J1549+1245, show confirmed evidence of extended H$\\alpha$ emission. We detected no extended emission in cid\\_1205 and the detection in J1549+1245 is tentative. (*fig:BPT_PSF2*)\n",
       "\n",
       "</div>"
      ],
      "text/plain": [
       "<IPython.core.display.Markdown object>"
      ]
     },
     "metadata": {},
     "output_type": "display_data"
    },
    {
     "data": {
      "text/markdown": [
       "<div class=\"macros\" style=\"visibility:hidden;\">\n",
       "$\\newcommand{\\ensuremath}{}$\n",
       "$\\newcommand{\\xspace}{}$\n",
       "$\\newcommand{\\object}[1]{\\texttt{#1}}$\n",
       "$\\newcommand{\\farcs}{{.}''}$\n",
       "$\\newcommand{\\farcm}{{.}'}$\n",
       "$\\newcommand{\\arcsec}{''}$\n",
       "$\\newcommand{\\arcmin}{'}$\n",
       "$\\newcommand{\\ion}[2]{#1#2}$\n",
       "$\\newcommand{\\textsc}[1]{\\textrm{#1}}$\n",
       "$\\newcommand{\\hl}[1]{\\textrm{#1}}$\n",
       "$\\newcommand{\\cmark}{\\textcolor{green}{\\ding{51}}}$\n",
       "$\\newcommand{\\xmark}{\\textcolor{red}{\\ding{55}}}$\n",
       "$\\newcommand{\\ubonn}{Argelander-Institut f\\\"ur Astronomie, Universit\\\"at Bonn, Auf dem H\\\"ugel 71, 53121 Bonn, Germany}$\n",
       "$\\newcommand{\\osu}{Department of Astronomy, The Ohio State University, 4055 McPherson Laboratory, 140 West 18th Ave, Columbus, OH 43210, USA}$\n",
       "$\\newcommand{\\oan}{Observatorio Astronómico Nacional (IGN), C/ Alfonso XII, 3, E-28014 Madrid, Spain}$\n",
       "$\\newcommand{\\inaf}{INAF — Osservatorio Astrofisico di Arcetri, Largo E. Fermi 5, I-50125, Florence, Italy}$\n",
       "$\\newcommand{\\mpe}{Max-Planck-Institut f\\\"ur Extraterrestrische Physik (MPE), Giessenbachstr. 1, D-85748 Garching, Germany}$\n",
       "$\\newcommand{\\zah}{Universit\\\"at Heidelberg, Zentrum f\\\"ur Astronomie, Institut f\\\"ur theoretische Astrophysik, Albert-Ueberle-Stra{\\ss}e 2, 69120, Heidelberg, Germany}$\n",
       "$\\newcommand{\\cool}{Cosmic Origins Of Life (COOL) Research DAO, coolresearch.io}$\n",
       "$\\newcommand{\\anu}{Research School of Astronomy and Astrophysics, Australian National University, Canberra, ACT 2611, Australia}$\n",
       "$\\newcommand{\\astrothreed}{ARC Centre of Excellence for All Sky Astrophysics in 3 Dimensions (ASTRO 3D), Australia}$\n",
       "$\\newcommand{\\mpia}{Max Planck Institute for Astronomy, K\\\"onigstuhl 17, D-69117 Heidelberg, Germany}$\n",
       "$\\newcommand{\\hsc}{Centro de Desarrollos Tecnol\\'ogicos, Observatorio de Yebes (IGN), 19141 Yebes, Guadalajara, Spain}$\n",
       "$\\newcommand{\\zw}{Universit\\\"{a}t Heidelberg, Interdisziplin\\\"{a}res Zentrum f\\\"{u}r Wissenschaftliches Rechnen, Im Neuenheimer Feld 205, 69120 Heidelberg, Germany}$\n",
       "$\\newcommand{\\gent}{Sterrenkundig Observatorium, Universiteit Gent, Krijgslaan 281 S9, B-9000 Gent, Belgium}$\n",
       "$\\newcommand{\\iram}{Institut de Radioastronomie Millim\\'etrique (IRAM), 300 Rue de la Piscine, F-38406 Saint Martin d’Hères, France}$\n",
       "$\\newcommand{\\lerma}{LERMA, Observatoire de Paris, PSL Research University, CNRS, Sorbonne Universit\\'es, 75014 Paris, France}$\n",
       "$\\newcommand{\\ucsd}{Center for Astrophysics and Space Sciences, Department of Physics, University of California San Diego, 9500 Gilman Drive, La Jolla, CA 92093, USA}$\n",
       "$\\newcommand{\\mmu}{Department of Physics and Astronomy, McMaster University, 1280 Main Street West, Hamilton, ON L8S 4M1, Canada}$\n",
       "$\\newcommand{\\cita}{Canadian Institute for Theoretical Astrophysics (CITA), University of Toronto, 60 St George Street, Toronto, ON M5S 3H8, Canada}$\n",
       "$\\newcommand{\\wyo}{Department of Physics \\& Astronomy, University of Wyoming, Laramie, WY, 82071, USA}$\n",
       "$\\newcommand{\\alb}{Dept. of Physics, University of Alberta, Edmonton, Alberta, Canada T6G 2E1}$\n",
       "$\\newcommand{\\ox}{Sub-department of Astrophysics, Department of Physics, University of Oxford, Keble Road, Oxford OX1 3RH, UK}$\n",
       "$\\newcommand{\\ESO}{European Southern Observatory, Karl-Schwarzschild Stra{\\ss}e 2, D-85748 Garching bei M\\\"{u}nchen, Germany}$\n",
       "$\\newcommand{\\ljmu}{Astrophysics Research Institute, Liverpool John Moores University, 146 Brownlow Hill, Liverpool L3 5RF, UK}$\n",
       "$\\newcommand{\\SAO}{Center for Astrophysics \\mid Harvard \\& Smithsonian, 60 Garden St., 02138 Cambridge, MA, USA}$\n",
       "$\\newcommand{\\thebibliography}{\\DeclareRobustCommand{\\VAN}[3]{##3}\\VANthebibliography}$\n",
       "$\\newcommand{\\SIUnitSymbolDegree}{\\textsuperscript{h}}$\n",
       "$\\newcommand{\\SIUnitSymbolArcminute}{\\textsuperscript{m}}$\n",
       "$\\newcommand{\\SIUnitSymbolArcsecond}{\\textsuperscript{s}}$</div>\n",
       "\n",
       "<div class=\"macros\" style=\"visibility:hidden;\">\n",
       "$\\newcommand{$\\ensuremath$}{}$\n",
       "$\\newcommand{$\\xspace$}{}$\n",
       "$\\newcommand{$\\object$}[1]{\\texttt{#1}}$\n",
       "$\\newcommand{$\\farcs$}{{.}''}$\n",
       "$\\newcommand{$\\farcm$}{{.}'}$\n",
       "$\\newcommand{$\\arcsec$}{''}$\n",
       "$\\newcommand{$\\arcmin$}{'}$\n",
       "$\\newcommand{$\\ion$}[2]{#1#2}$\n",
       "$\\newcommand{$\\textsc$}[1]{\\textrm{#1}}$\n",
       "$\\newcommand{$\\hl$}[1]{\\textrm{#1}}$\n",
       "$\\newcommand{$\\cmark$}{\\textcolor{green}{\\ding{51}}}$\n",
       "$\\newcommand{$\\xmark$}{\\textcolor{red}{\\ding{55}}}$\n",
       "$\\newcommand{$\\ubonn$}{Argelander-Institut f\\\"ur Astronomie, Universit\\\"at Bonn, Auf dem H\\\"ugel 71, 53121 Bonn, Germany}$\n",
       "$\\newcommand{$\\osu$}{Department of Astronomy, The Ohio State University, 4055 McPherson Laboratory, 140 West 18th Ave, Columbus, OH 43210, USA}$\n",
       "$\\newcommand{$\\oan$}{Observatorio Astronómico Nacional (IGN), C/ Alfonso XII, 3, E-28014 Madrid, Spain}$\n",
       "$\\newcommand{$\\inaf$}{INAF — Osservatorio Astrofisico di Arcetri, Largo E. Fermi 5, I-50125, Florence, Italy}$\n",
       "$\\newcommand{$\\mpe$}{Max-Planck-Institut f\\\"ur Extraterrestrische Physik (MPE), Giessenbachstr. 1, D-85748 Garching, Germany}$\n",
       "$\\newcommand{$\\zah$}{Universit\\\"at Heidelberg, Zentrum f\\\"ur Astronomie, Institut f\\\"ur theoretische Astrophysik, Albert-Ueberle-Stra{\\ss}e 2, 69120, Heidelberg, Germany}$\n",
       "$\\newcommand{$\\cool$}{Cosmic Origins Of Life (COOL) Research DAO, coolresearch.io}$\n",
       "$\\newcommand{$\\anu$}{Research School of Astronomy and Astrophysics, Australian National University, Canberra, ACT 2611, Australia}$\n",
       "$\\newcommand{$\\astrothreed$}{ARC Centre of Excellence for All Sky Astrophysics in 3 Dimensions (ASTRO 3D), Australia}$\n",
       "$\\newcommand{$\\mpia$}{Max Planck Institute for Astronomy, K\\\"onigstuhl 17, D-69117 Heidelberg, Germany}$\n",
       "$\\newcommand{$\\hsc$}{Centro de Desarrollos Tecnol\\'ogicos, Observatorio de Yebes (IGN), 19141 Yebes, Guadalajara, Spain}$\n",
       "$\\newcommand{$\\zw$}{Universit\\\"{a}t Heidelberg, Interdisziplin\\\"{a}res Zentrum f\\\"{u}r Wissenschaftliches Rechnen, Im Neuenheimer Feld 205, 69120 Heidelberg, Germany}$\n",
       "$\\newcommand{$\\gent$}{Sterrenkundig Observatorium, Universiteit Gent, Krijgslaan 281 S9, B-9000 Gent, Belgium}$\n",
       "$\\newcommand{$\\iram$}{Institut de Radioastronomie Millim\\'etrique (IRAM), 300 Rue de la Piscine, F-38406 Saint Martin d’Hères, France}$\n",
       "$\\newcommand{$\\lerma$}{LERMA, Observatoire de Paris, PSL Research University, CNRS, Sorbonne Universit\\'es, 75014 Paris, France}$\n",
       "$\\newcommand{$\\ucsd$}{Center for Astrophysics and Space Sciences, Department of Physics, University of California San Diego, 9500 Gilman Drive, La Jolla, CA 92093, USA}$\n",
       "$\\newcommand{$\\mmu$}{Department of Physics and Astronomy, McMaster University, 1280 Main Street West, Hamilton, ON L8S 4M1, Canada}$\n",
       "$\\newcommand{$\\cita$}{Canadian Institute for Theoretical Astrophysics (CITA), University of Toronto, 60 St George Street, Toronto, ON M5S 3H8, Canada}$\n",
       "$\\newcommand{$\\wyo$}{Department of Physics \\& Astronomy, University of Wyoming, Laramie, WY, 82071, USA}$\n",
       "$\\newcommand{$\\alb$}{Dept. of Physics, University of Alberta, Edmonton, Alberta, Canada T6G 2E1}$\n",
       "$\\newcommand{$\\ox$}{Sub-department of Astrophysics, Department of Physics, University of Oxford, Keble Road, Oxford OX1 3RH, UK}$\n",
       "$\\newcommand{$\\ESO$}{European Southern Observatory, Karl-Schwarzschild Stra{\\ss}e 2, D-85748 Garching bei M\\\"{u}nchen, Germany}$\n",
       "$\\newcommand{$\\ljmu$}{Astrophysics Research Institute, Liverpool John Moores University, 146 Brownlow Hill, Liverpool L3 5RF, UK}$\n",
       "$\\newcommand{$\\SAO$}{Center for Astrophysics \\mid Harvard \\& Smithsonian, 60 Garden St., 02138 Cambridge, MA, USA}$\n",
       "$\\newcommand{$\\thebibliography$}{\\DeclareRobustCommand{\\VAN}[3]{##3}\\VANthebibliography}$\n",
       "$\\newcommand{$\\SIUnitSymbolDegree$}{\\textsuperscript{h}}$\n",
       "$\\newcommand{$\\SIUnitSymbolArcminute$}{\\textsuperscript{m}}$\n",
       "$\\newcommand{$\\SIUnitSymbolArcsecond$}{\\textsuperscript{s}}$</div>\n",
       "\n",
       "\n",
       "\n",
       "<div id=\"title\">\n",
       "\n",
       "# The ALMOND Survey: Molecular cloud properties and gas density tracers across 25 nearby spiral galaxies with ALMA\n",
       "\n",
       "</div>\n",
       "<div id=\"comments\">\n",
       "\n",
       "[![arXiv](https://img.shields.io/badge/arXiv-2302.03042-b31b1b.svg)](https://arxiv.org/abs/2302.03042)<mark>Appeared on: 2023-02-08</mark> - _48 pages, 40 figures_\n",
       "\n",
       "</div>\n",
       "<div id=\"authors\">\n",
       "\n",
       "<mark><mark>Lukas Neumann</mark></mark>, et al. -- incl., <mark><mark>Frank Bigiel</mark></mark>, <mark><mark>Jonathan D. Henshaw</mark></mark>, <mark><mark>Daizhong Liu</mark></mark>, <mark><mark>Eva Schinnerer</mark></mark>\n",
       "\n",
       "</div>\n",
       "<div id=\"abstract\">\n",
       "\n",
       "**Abstract:** We use new\\hcnonedata from the ALMOND (ACA Large-sample Mapping Of Nearby galaxies in Dense gas) survey to trace the kpc-scale molecular gas density structure and\\cotwodata from PHANGS-ALMA to trace the bulk molecular gas across 25 nearby, star-forming galaxies.At\\SI{2.1}{\\kilo\\parsec}scale, we measure the density-sensitive HCN/CO line ratio and the SFR/HCN ratio to trace the star formation efficiency in the denser molecular medium.At\\SI{150}{\\parsec}scale, we measure structural and dynamical properties of the molecular gas via\\cotwoline emission, which is linked to the lower resolution data using an intensity-weighted averaging method.We find positive correlations (negative) of HCN/CO (SFR/HCN) with the surface density, the velocity dispersion and the internal turbulent pressure of the molecular gas.These observed correlations agree with expected trends from turbulent models of star formation, which consider a single free-fall time gravitational collapse.Our results show that the kpc-scale HCN/CO line ratio is a powerful tool to trace the$\\SI{150}{\\parsec}$scale average density distribution of the molecular clouds.Lastly, we find systematic variations of the SFR/HCN ratio with cloud-scale molecular gas properties, which are incompatible with a universal star formation efficiency.Overall, these findings show that mean molecular gas density, molecular cloud properties and star formation are closely linked in a coherent way, and observations of density-sensitive molecular gas tracers are a useful tool to analyse these variations, linking molecular gas physics to stellar output across galaxy discs.\n",
       "\n",
       "</div>\n",
       "\n"
      ],
      "text/plain": [
       "<IPython.core.display.Markdown object>"
      ]
     },
     "metadata": {},
     "output_type": "display_data"
    },
    {
     "data": {
      "text/markdown": [
       "<div class=\"macros\" style=\"visibility:hidden;\">\n",
       "$\\newcommand{\\ensuremath}{}$\n",
       "$\\newcommand{\\xspace}{}$\n",
       "$\\newcommand{\\object}[1]{\\texttt{#1}}$\n",
       "$\\newcommand{\\farcs}{{.}''}$\n",
       "$\\newcommand{\\farcm}{{.}'}$\n",
       "$\\newcommand{\\arcsec}{''}$\n",
       "$\\newcommand{\\arcmin}{'}$\n",
       "$\\newcommand{\\ion}[2]{#1#2}$\n",
       "$\\newcommand{\\textsc}[1]{\\textrm{#1}}$\n",
       "$\\newcommand{\\hl}[1]{\\textrm{#1}}$\n",
       "$\\newcommand{\\msun}{ M_\\odot  }$\n",
       "$\\newcommand{\\dg}{^\\circ}$\n",
       "$\\newcommand{\\kms}{\\rm{km s^{-1}}}$\n",
       "$\\newcommand{\\ergcms}{\\rm erg~cm^{-2}~s^{-1}}$</div>\n",
       "\n",
       "<div class=\"macros\" style=\"visibility:hidden;\">\n",
       "$\\newcommand{$\\ensuremath$}{}$\n",
       "$\\newcommand{$\\xspace$}{}$\n",
       "$\\newcommand{$\\object$}[1]{\\texttt{#1}}$\n",
       "$\\newcommand{$\\farcs$}{{.}''}$\n",
       "$\\newcommand{$\\farcm$}{{.}'}$\n",
       "$\\newcommand{$\\arcsec$}{''}$\n",
       "$\\newcommand{$\\arcmin$}{'}$\n",
       "$\\newcommand{$\\ion$}[2]{#1#2}$\n",
       "$\\newcommand{$\\textsc$}[1]{\\textrm{#1}}$\n",
       "$\\newcommand{$\\hl$}[1]{\\textrm{#1}}$\n",
       "$\\newcommand{$\\msun$}{ M_\\odot  }$\n",
       "$\\newcommand{$\\dg$}{^\\circ}$\n",
       "$\\newcommand{$\\kms$}{\\rm{km s^{-1}}}$\n",
       "$\\newcommand{$\\ergcms$}{\\rm erg~cm^{-2}~s^{-1}}$</div>\n",
       "\n",
       "\n",
       "\n",
       "<div id=\"title\">\n",
       "\n",
       "# JWST NIRSpec observations of Supernova 1987A -- from the inner ejecta to the reverse shock \n",
       "\n",
       "</div>\n",
       "<div id=\"comments\">\n",
       "\n",
       "[![arXiv](https://img.shields.io/badge/arXiv-2302.03576-b31b1b.svg)](https://arxiv.org/abs/2302.03576)<mark>Appeared on: 2023-02-08</mark> - _Submitted to AAS Journals_\n",
       "\n",
       "</div>\n",
       "<div id=\"authors\">\n",
       "\n",
       "J. Larsson, et al. -- incl., <mark>M. Meixner</mark>, <mark>O. Krause</mark>\n",
       "\n",
       "</div>\n",
       "<div id=\"abstract\">\n",
       "\n",
       "**Abstract:** We present initial results from{\\it JWST}NIRSpec integral field unit observations of the nearby Supernova (SN) 1987A. The observations provide the first spatially-resolved spectroscopy of the ejecta and equatorial ring (ER) over the 1--5$\\mu$m range. We construct 3D emissivity maps of the[$\\ion${Fe}{1}]$1.443 \\mu$m line from the inner ejecta and the$\\ion${He}{1}1.083$\\mu$m line from the reverse shock (RS), where the former probes the explosion geometry and the latter traces the structure of the circumstellar medium. We also present a model for the integrated spectrum of the ejecta. The[$\\ion${Fe}{1}]3D map reveals a highly-asymmetric morphology resembling a broken dipole, dominated by two large clumps with  velocities of$\\sim 2300$\\kms. We also find evidence that the Fe-rich inner ejecta have started to interact with the RS in the south. The RS surface traced by the$\\ion${He}{1}line extends from just inside the ER to higher latitudes on both sides of the ER with a half-opening angle$\\sim 45$\\dg, forming a bubble-like structure above and below the ER. The spectral model for the ejecta allows us to identify the many emission lines in this wavelength region, including numerous H$_2$lines. We find that the H$_2$is most likely excited by far-UV emission, while the metal lines ratios are consistent with recombination in very low temperature ejecta.\n",
       "\n",
       "</div>\n",
       "\n",
       "<div id=\"div_fig1\">\n",
       "\n",
       "<img src=\"tmp_2302.03576/./fe1p44_slices_500kms_5x4_er.png\" alt=\"Fig4\" width=\"100%\"/>\n",
       "\n",
       "**Figure 4. -** Images of the [$\\ion${Fe}{1}] 1.443 $\\mu$m emission from the ejecta as a function of Doppler shift, ranging from $V\\rm_z = -4000$ $\\kms$(top left) to $V\\rm_z =5000$ $\\kms$(bottom right). Each image was integrated over an interval of 500 $\\kms$. The velocities of freely-expanding ejecta in the plane of the sky are shown on the x and y axes, where the assumed center of explosion marks 0 velocity (white star symbol). The dashed white line shows the position of the ER. (*fig:fe_slices*)\n",
       "\n",
       "</div>\n",
       "<div id=\"div_fig2\">\n",
       "\n",
       "<img src=\"tmp_2302.03576/./specregions_fe1p44_image_fullfov_lab.png\" alt=\"Fig1\" width=\"100%\"/>\n",
       "\n",
       "**Figure 1. -** NIRSpec image integrated over the wavelength region of [$\\ion${Fe}{1}] 1.443 $\\mu \\rm{m} \\pm 5000$ $\\kms$. This line originates from the ejecta, while the emission from the ER in this wavelength range is due to narrow [$\\ion${Fe}{1}] $1.427 \\mu$m and $\\ion${H}{1} $1.460 \\mu$m lines, as well as continuum. The white lines show the regions used to extract spectra for the ejecta (inner ellipse) and ER (elliptical annulus). The five point sources seen outside the ER are stars. (*fig:fe_image*)\n",
       "\n",
       "</div>\n",
       "<div id=\"div_fig3\">\n",
       "\n",
       "<img src=\"tmp_2302.03576/./fe1p44_3dvol_3views.png\" alt=\"Fig5\" width=\"100%\"/>\n",
       "\n",
       "**Figure 5. -** Volume rendering of the [$\\ion${Fe}{1}] 1.443 $\\mu$m emission from the ejecta. The three panels show the system from different viewing angles, as indicated by the arrows in the lower left corners. In the left and middle panels, the faintest emission (plotted in blue) corresponds to 15\\% of the peak value (red). The right panel only shows ejecta with $V\\rm_z >1000$ $\\kms$ in order to highlight the faint ring structure. In this case, the faintest emission plotted corresponds to 10\\% of the peak value. The gray circle shows the inner edge of the ER. (*fig:fe_3d*)\n",
       "\n",
       "</div>"
      ],
      "text/plain": [
       "<IPython.core.display.Markdown object>"
      ]
     },
     "metadata": {},
     "output_type": "display_data"
    }
   ],
   "source": [
    "[display(Markdown(k[1])) for k in documents];"
   ]
  },
  {
   "cell_type": "markdown",
   "id": "873873a4",
   "metadata": {
    "papermill": {
     "duration": 0.010613,
     "end_time": "2023-02-08T04:10:35.974697",
     "exception": false,
     "start_time": "2023-02-08T04:10:35.964084",
     "status": "completed"
    },
    "tags": []
   },
   "source": [
    "# Create HTML index"
   ]
  },
  {
   "cell_type": "code",
   "execution_count": 10,
   "id": "cf665672",
   "metadata": {
    "execution": {
     "iopub.execute_input": "2023-02-08T04:10:35.996888Z",
     "iopub.status.busy": "2023-02-08T04:10:35.996604Z",
     "iopub.status.idle": "2023-02-08T04:10:36.008238Z",
     "shell.execute_reply": "2023-02-08T04:10:36.007735Z"
    },
    "papermill": {
     "duration": 0.024654,
     "end_time": "2023-02-08T04:10:36.009577",
     "exception": false,
     "start_time": "2023-02-08T04:10:35.984923",
     "status": "completed"
    },
    "tags": []
   },
   "outputs": [
    {
     "name": "stdout",
     "output_type": "stream",
     "text": [
      "195  publications in the last 7 days.\n",
      "\t _build/html/2302.03576.md\n",
      "\t _build/html/2302.03042.md\n",
      "\t _build/html/2302.03039.md\n",
      "\t _build/html/2302.02890.md\n",
      "\t _build/html/2302.02611.md\n",
      "\t _build/html/2302.02429.md\n",
      "\t _build/html/2302.01678.md\n",
      "\t _build/html/2302.00450.md\n",
      "\t _build/html/2301.13766.md\n",
      "\t _build/html/2301.13526.md\n",
      "\t _build/html/2301.12890.md\n",
      "\t _build/html/2301.11942.md\n",
      "\t _build/html/2301.10717.md\n",
      "\t _build/html/2301.10666.md\n",
      "\t _build/html/2301.10496.md\n",
      "\t _build/html/2301.09621.md\n",
      "\t _build/html/2301.09140.md\n",
      "\t _build/html/2301.08770.md\n",
      "\t _build/html/2301.08310.md\n",
      "\t _build/html/2301.07990.md\n",
      "\t _build/html/2301.07366.md\n",
      "\t _build/html/2301.07199.md\n",
      "\t _build/html/2301.07116.md\n",
      "\t _build/html/2301.06873.md\n",
      "\t _build/html/2301.06819.md\n",
      "\t _build/html/2301.06575.md\n",
      "\t _build/html/2301.05720.md\n",
      "\t _build/html/2301.05718.md\n",
      "\t _build/html/2301.05034.md\n",
      "\t _build/html/2301.04656.md\n",
      "\t _build/html/2301.04533.md\n",
      "\t _build/html/2301.04442.md\n",
      "\t _build/html/2301.03811.md\n",
      "\t _build/html/2301.03689.md\n",
      "\t _build/html/2301.03387.md\n",
      "\t _build/html/2301.03209.md\n",
      "\t _build/html/2301.02671.md\n",
      "\t _build/html/2301.02477.md\n",
      "\t _build/html/2301.02313.md\n",
      "\t _build/html/2301.02265.md\n",
      "\t _build/html/2301.01937.md\n",
      "\t _build/html/2301.01895.md\n",
      "\t _build/html/2301.01684.md\n",
      "\t _build/html/2301.01306.md\n",
      "\t _build/html/2301.00881.md\n",
      "\t _build/html/2301.00854.md\n",
      "\t _build/html/2301.00578.md\n",
      "\t _build/html/2212.12039.md\n",
      "\t _build/html/2212.11991.md\n",
      "\t _build/html/2212.11425.md\n",
      "\t _build/html/2212.11177.md\n",
      "\t _build/html/2212.10804.md\n",
      "\t _build/html/2212.10512.md\n",
      "\t _build/html/2212.09766.md\n",
      "\t _build/html/2212.09675.md\n",
      "\t _build/html/2212.09661.md\n",
      "\t _build/html/2212.09652.md\n",
      "\t _build/html/2212.09443.md\n",
      "\t _build/html/2212.09307.md\n",
      "\t _build/html/2212.09168.md\n",
      "\t _build/html/2212.09159.md\n",
      "\t _build/html/2212.08702.md\n",
      "\t _build/html/2212.07332.md\n",
      "\t _build/html/2212.06434.md\n",
      "\t _build/html/2212.04710.md\n",
      "\t _build/html/2212.04026.md\n",
      "\t _build/html/2212.03563.md\n",
      "\t _build/html/2212.03514.md\n",
      "\t _build/html/2212.02667.md\n",
      "\t _build/html/2212.02627.md\n",
      "\t _build/html/2212.02235.md\n",
      "\t _build/html/2212.01707.md\n",
      "\t _build/html/2212.01526.md\n",
      "\t _build/html/2212.01397.md\n",
      "\t _build/html/2212.01291.md\n",
      "\t _build/html/2212.01281.md\n",
      "\t _build/html/2212.00812.md\n",
      "\t _build/html/2212.00811.md\n",
      "\t _build/html/2212.00806.md\n",
      "\t _build/html/2212.00047.md\n",
      "\t _build/html/2212.00032.md\n",
      "\t _build/html/2211.16996.md\n",
      "\t _build/html/2211.16510.md\n",
      "\t _build/html/2211.16123.md\n",
      "\t _build/html/2211.15816.md\n",
      "\t _build/html/2211.15698.md\n",
      "\t _build/html/2211.15576.md\n",
      "\t _build/html/2211.15434.md\n",
      "\t _build/html/2211.15288.md\n",
      "\t _build/html/2211.15224.md\n",
      "\t _build/html/2211.14543.md\n",
      "\t _build/html/2211.14330.md\n",
      "\t _build/html/2211.14322.md\n",
      "\t _build/html/2211.14132.md\n",
      "\t _build/html/2211.13811.md\n",
      "\t _build/html/2211.13426.md\n",
      "\t _build/html/2211.13318.md\n",
      "\t _build/html/2211.13146.md\n",
      "\t _build/html/2211.12613.md\n",
      "\t _build/html/2211.11767.md\n",
      "\t _build/html/2211.09840.md\n",
      "\t _build/html/2211.09217.md\n",
      "\t _build/html/2211.08493.md\n",
      "\t _build/html/2211.08487.md\n",
      "\t _build/html/2211.08294.md\n",
      "\t _build/html/2211.07667.md\n",
      "\t _build/html/2211.07659.md\n",
      "\t _build/html/2211.06454.md\n",
      "\t _build/html/2211.06205.md\n",
      "\t _build/html/2211.06194.md\n",
      "\t _build/html/2211.05022.md\n",
      "\t _build/html/2211.04048.md\n",
      "\t _build/html/2211.03641.md\n",
      "\t _build/html/2211.02502.md\n",
      "\t _build/html/2211.01474.md\n",
      "\t _build/html/2211.00667.md\n",
      "\t _build/html/2211.00657.md\n",
      "\t _build/html/2211.00087.md\n",
      "\t _build/html/2211.00036.md\n",
      "\t _build/html/2211.00020.md\n",
      "\t _build/html/2211.00010.md\n",
      "\t _build/html/2210.17434.md\n",
      "\t _build/html/2210.12412.md\n",
      "\t _build/html/2210.11926.md\n",
      "\t _build/html/2210.11551.md\n",
      "\t _build/html/2210.11103.md\n",
      "\t _build/html/2210.10707.md\n",
      "\t _build/html/2210.09930.md\n",
      "\t _build/html/2210.08996.md\n",
      "\t _build/html/2210.08517.md\n",
      "\t _build/html/2210.08510.md\n",
      "\t _build/html/2210.08078.md\n",
      "\t _build/html/2210.06504.md\n",
      "\t _build/html/2210.05695.md\n",
      "\t _build/html/2210.05595.md\n",
      "\t _build/html/2210.05505.md\n",
      "\t _build/html/2210.04721.md\n",
      "\t _build/html/2210.03615.md\n",
      "\t _build/html/2210.01811.md\n",
      "\t _build/html/2210.01809.md\n",
      "\t _build/html/2210.01556.md\n",
      "\t _build/html/2210.00863.md\n",
      "\t _build/html/2210.00560.md\n",
      "\t _build/html/2209.15403.md\n",
      "\t _build/html/2209.15110.md\n",
      "\t _build/html/2209.14410.md\n",
      "\t _build/html/2209.14396.md\n",
      "\t _build/html/2209.13717.md\n",
      "\t _build/html/2209.13336.md\n",
      "\t _build/html/2209.12906.md\n",
      "\t _build/html/2209.11781.md\n",
      "\t _build/html/2209.11602.md\n",
      "\t _build/html/2209.11248.md\n",
      "\t _build/html/2209.11096.md\n",
      "\t _build/html/2209.10618.md\n",
      "\t _build/html/2209.09914.md\n",
      "\t _build/html/2209.09823.md\n",
      "\t _build/html/2209.08242.md\n",
      "\t _build/html/2209.08120.md\n",
      "\t _build/html/2209.08106.md\n",
      "\t _build/html/2209.07962.md\n",
      "\t _build/html/2209.07931.md\n",
      "\t _build/html/2209.06833.md\n",
      "\t _build/html/2209.05814.md\n",
      "\t _build/html/2209.05593.md\n",
      "\t _build/html/2209.04304.md\n",
      "\t _build/html/2209.03367.md\n",
      "\t _build/html/2209.02872.md\n",
      "\t _build/html/2209.02725.md\n",
      "\t _build/html/2209.02722.md\n",
      "\t _build/html/2209.02092.md\n",
      "\t _build/html/2209.01125.md\n",
      "\t _build/html/2209.00828.md\n",
      "\t _build/html/2209.00363.md\n",
      "\t _build/html/2208.14927.md\n",
      "\t _build/html/2208.09335.md\n",
      "\t _build/html/2208.08872.md\n",
      "\t _build/html/2204.06393.md\n",
      "\t _build/html/2204.03335.md\n",
      "\t _build/html/2204.03253.md\n",
      "\t _build/html/2204.02998.md\n",
      "\t _build/html/2204.02109.md\n",
      "\t _build/html/2204.02017.md\n",
      "\t _build/html/2204.01824.md\n",
      "\t _build/html/2204.01758.md\n",
      "\t _build/html/2204.01245.md\n",
      "\t _build/html/2204.00793.md\n",
      "\t _build/html/2204.00342.md\n",
      "\t _build/html/2203.16959.md\n",
      "\t _build/html/2203.16856.md\n",
      "\t _build/html/2203.16735.md\n",
      "\t _build/html/2203.16734.md\n",
      "\t _build/html/2203.16504.md\n",
      "\t _build/html/2203.15822.md\n",
      "\t _build/html/2203.15811.md\n"
     ]
    }
   ],
   "source": [
    "from datetime import datetime, timedelta, timezone\n",
    "from glob import glob\n",
    "\n",
    "files = glob('_build/html/*.md')\n",
    "days = 7\n",
    "now = datetime.today()\n",
    "res = []\n",
    "for fk in files:\n",
    "    stat_result = os.stat(fk).st_ctime\n",
    "    modified = datetime.fromtimestamp(stat_result, tz=timezone.utc).replace(tzinfo=None)\n",
    "    delta = now.today() - modified\n",
    "    if delta <= timedelta(days=days):\n",
    "        res.append((delta.seconds, fk))\n",
    "res = [k[1] for k in reversed(sorted(res, key=lambda x:x[1]))]\n",
    "npub = len(res)\n",
    "print(len(res), f\" publications in the last {days:d} days.\")\n",
    "[ print('\\t', k) for k in res ];"
   ]
  },
  {
   "cell_type": "code",
   "execution_count": 11,
   "id": "015de740",
   "metadata": {
    "execution": {
     "iopub.execute_input": "2023-02-08T04:10:36.032100Z",
     "iopub.status.busy": "2023-02-08T04:10:36.031429Z",
     "iopub.status.idle": "2023-02-08T04:10:36.052225Z",
     "shell.execute_reply": "2023-02-08T04:10:36.051659Z"
    },
    "papermill": {
     "duration": 0.033531,
     "end_time": "2023-02-08T04:10:36.053542",
     "exception": false,
     "start_time": "2023-02-08T04:10:36.020011",
     "status": "completed"
    },
    "tags": []
   },
   "outputs": [
    {
     "name": "stdout",
     "output_type": "stream",
     "text": [
      "10  publications in the last 7 days.\n"
     ]
    }
   ],
   "source": [
    "import datetime\n",
    "from glob import glob\n",
    "\n",
    "def get_last_n_days(lst, days=1):\n",
    "    \"\"\" Get the documents from the last n days \"\"\"\n",
    "    sorted_lst = sorted(lst, key=lambda x: x[1], reverse=True)\n",
    "    for fname, date in sorted_lst:\n",
    "        if date >= str(datetime.date.today() - datetime.timedelta(days=days)):\n",
    "            yield fname\n",
    "\n",
    "def extract_appearance_dates(lst_file):\n",
    "    dates = []\n",
    "\n",
    "    def get_date(line):\n",
    "        return line\\\n",
    "            .split('Appeared on:')[-1]\\\n",
    "            .split('</mark>')[0].strip()\n",
    "\n",
    "    for fname in lst:\n",
    "        with open(fname, 'r') as f:\n",
    "            found_date = False\n",
    "            for line in f:\n",
    "                if not found_date:\n",
    "                    if \"Appeared on\" in line:\n",
    "                        found_date = True\n",
    "                        dates.append((fname, get_date(line)))\n",
    "                else:\n",
    "                    break\n",
    "    return dates\n",
    "\n",
    "from glob import glob\n",
    "lst = glob('_build/html/*md')\n",
    "days = 7\n",
    "dates = extract_appearance_dates(lst)\n",
    "res = list(get_last_n_days(dates, days))\n",
    "npub = len(res)\n",
    "print(len(res), f\" publications in the last {days:d} days.\")"
   ]
  },
  {
   "cell_type": "code",
   "execution_count": 12,
   "id": "52ca0208",
   "metadata": {
    "execution": {
     "iopub.execute_input": "2023-02-08T04:10:36.076298Z",
     "iopub.status.busy": "2023-02-08T04:10:36.075826Z",
     "iopub.status.idle": "2023-02-08T04:10:36.082287Z",
     "shell.execute_reply": "2023-02-08T04:10:36.081648Z"
    },
    "papermill": {
     "duration": 0.019446,
     "end_time": "2023-02-08T04:10:36.083638",
     "exception": false,
     "start_time": "2023-02-08T04:10:36.064192",
     "status": "completed"
    },
    "scrolled": false,
    "tags": []
   },
   "outputs": [],
   "source": [
    "def create_carousel(npub=4):\n",
    "    \"\"\" Generate the HTML code for a carousel with `npub` slides \"\"\"\n",
    "    carousel = [\"\"\"<section class=\"carousel\" aria-label=\"Gallery\">\"\"\",\n",
    "                \"\"\"  <ol class=\"carousel__viewport\">\"\"\",\n",
    "    ]\n",
    "    for k in range(1, npub + 1):\n",
    "        prev_ = k - 1\n",
    "        next_ = k + 1\n",
    "        if prev_ <= 0:\n",
    "            prev_ = npub\n",
    "        if next_ > npub:\n",
    "            next_ = 1\n",
    "        text  = f\"\"\"    <li id=\"carousel__slide{k}\" tabindex=\"0\" class=\"carousel__slide\">\\n\"\"\"\n",
    "        text += f\"\"\"       <div class=\"carousel__snapper\">\\n\"\"\"\n",
    "        text += f\"\"\"         <a href=\"#carousel__slide{prev_}\" class=\"carousel__prev\">Go to previous slide</a>\\n\"\"\"\n",
    "        text += f\"\"\"         <a href=\"#carousel__slide{next_}\" class=\"carousel__next\">Go to next slide</a>\\n\"\"\"\n",
    "        text += f\"\"\"         <div id=\"slide{k}_content\" class=\"md_view\" >Content {k}</div>\\n\"\"\"\n",
    "        text += f\"\"\"       </div>\\n\"\"\"\n",
    "        text += f\"\"\"    </li>\"\"\"\n",
    "        carousel.append(text)\n",
    "\n",
    "    carousel.extend([\n",
    "        \"\"\"  </ol>\"\"\",\n",
    "        \"\"\"  <aside class=\"carousel__navigation\">\"\"\",\n",
    "        \"\"\"    <ol class=\"carousel__navigation-list\">\"\"\"])\n",
    "\n",
    "    for k in range(1, npub + 1):\n",
    "        text  = f\"\"\"      <li class=\"carousel__navigation-item\">\\n\"\"\"\n",
    "        text += f\"\"\"        <a href=\"#carousel__slide{k}\" class=\"carousel__navigation-button\">Go to {k}</a>\\n\"\"\"\n",
    "        text += f\"\"\"      </li>\"\"\"\n",
    "        carousel.append(text)\n",
    "    carousel.extend([\"\"\"    </ol>\"\"\", \"\"\"  </aside>\"\"\", \"\"\"</section>\"\"\"])\n",
    "\n",
    "    return '\\n'.join(carousel)"
   ]
  },
  {
   "cell_type": "code",
   "execution_count": 13,
   "id": "a6eac5b6",
   "metadata": {
    "execution": {
     "iopub.execute_input": "2023-02-08T04:10:36.106481Z",
     "iopub.status.busy": "2023-02-08T04:10:36.106012Z",
     "iopub.status.idle": "2023-02-08T04:10:36.112094Z",
     "shell.execute_reply": "2023-02-08T04:10:36.111523Z"
    },
    "papermill": {
     "duration": 0.019233,
     "end_time": "2023-02-08T04:10:36.113576",
     "exception": false,
     "start_time": "2023-02-08T04:10:36.094343",
     "status": "completed"
    },
    "scrolled": false,
    "tags": []
   },
   "outputs": [],
   "source": [
    "carousel = create_carousel(npub)\n",
    "docs = ', '.join(['\"{0:s}\"'.format(k.split('/')[-1]) for k in res])\n",
    "slides = ', '.join([f'\"slide{k}_content\"' for k in range(1, npub + 1)])\n",
    "\n",
    "script = f\"\"\"\n",
    "const docs = [{docs}]\n",
    "\n",
    "const slides = [{slides}]\n",
    "\"\"\" + \"\"\"\n",
    "async function run() {\n",
    "    for (let i = 0; i < docs.length; i++) {\n",
    "        let file = await fetch(docs[i]);\n",
    "        let text = await file.text()\n",
    "        document.getElementById(slides[i]).innerHTML =\n",
    "            marked.parse(text);\n",
    "    }\n",
    "    hljs.highlightAll();\n",
    "}\n",
    "run()\n",
    "\"\"\"\n",
    "\n",
    "page = f\"\"\"<!doctype html>\n",
    "<html lang=\"en\">\n",
    "\n",
    "<head>\n",
    "  <meta charset=\"utf-8\">\n",
    "  <meta name=\"viewport\" content=\"width=device-width, initial-scale=1\">\n",
    "  <!-- Bootstrap CSS -->\n",
    "  <link href=\"https://cdn.jsdelivr.net/npm/bootstrap@5.0.2/dist/css/bootstrap.min.css\" rel=\"stylesheet\"\n",
    "   integrity=\"sha384-EVSTQN3/azprG1Anm3QDgpJLIm9Nao0Yz1ztcQTwFspd3yD65VohhpuuCOmLASjC\" crossorigin=\"anonymous\">\n",
    "  <!-- highlight.js CSS -->\n",
    "  <link rel=\"stylesheet\" href=\"https://cdnjs.cloudflare.com/ajax/libs/highlight.js/11.1.0/styles/default.min.css\">\n",
    "  <!-- Mathjax 3 -->\n",
    "  <script type=\"text/javascript\" id=\"MathJax-config\" src=\"mathjax_config.js\"> </script>\n",
    "  <script type=\"text/javascript\" id=\"MathJax-script\" async \n",
    "    src=\"https://cdn.jsdelivr.net/npm/mathjax@3/es5/tex-mml-chtml.js\">\n",
    "  </script>\n",
    "  <link rel=\"stylesheet\" href=\"index_carousel.css\">\n",
    "  <link rel=\"icon\" type=\"image/x-icon\" href=\"https://www.mpia.de/assets/touch-icon-32x32-a66937bcebc4e8894ebff1f41a366c7c7220fd97a38869ee0f2db65a9f59b6c1.png\">\n",
    "  <title>MPIA Arxiv on deck!</title>\n",
    "</head>\n",
    "\n",
    "<body>\n",
    "  <div id=\"header\"> <img src=\"header_banner.png\" width=\"100%\"></div>\n",
    "  <div id=\"suptitle\"> 7-day archives </div>\n",
    "  <div id=\"info\">\n",
    "    <img src=\"https://pngimg.com/uploads/github/github_PNG58.png\" height=30rem></img>\n",
    "    <a href=https://github.com/mpi-astronomy/arxiv_display style=\"color:black;\">github/mpi-astronomy/arxiv_display</a> \n",
    "  </div>\n",
    "  {carousel:s}\n",
    "</body>\n",
    "\n",
    "<!-- Render Markdown -->\n",
    "\n",
    "<body>\n",
    "  <!-- highlight.js: https://highlightjs.org/download/ -->\n",
    "  <script src=\"https://cdnjs.cloudflare.com/ajax/libs/highlight.js/11.5.0/highlight.min.js\"></script>\n",
    "  <!-- marked.js -->\n",
    "  <script src=\"https://cdn.jsdelivr.net/npm/marked/marked.min.js\"></script>\n",
    "  <script>{script:s}</script>\n",
    "</body>\n",
    "</html>\n",
    "\"\"\"\n",
    "with open(\"_build/html/index_7days.html\", 'w') as fout:\n",
    "    fout.write(page)"
   ]
  },
  {
   "cell_type": "markdown",
   "id": "1cebacbc",
   "metadata": {
    "papermill": {
     "duration": 0.010575,
     "end_time": "2023-02-08T04:10:36.134736",
     "exception": false,
     "start_time": "2023-02-08T04:10:36.124161",
     "status": "completed"
    },
    "tags": []
   },
   "source": [
    "# Debugging papers"
   ]
  },
  {
   "cell_type": "raw",
   "id": "debe7cc6",
   "metadata": {
    "papermill": {
     "duration": 0.011279,
     "end_time": "2023-02-08T04:10:36.156563",
     "exception": false,
     "start_time": "2023-02-08T04:10:36.145284",
     "status": "completed"
    },
    "tags": []
   },
   "source": [
    "raise NotImplementedError(\"Manual Stop\")"
   ]
  },
  {
   "cell_type": "raw",
   "id": "eb169192",
   "metadata": {
    "papermill": {
     "duration": 0.010525,
     "end_time": "2023-02-08T04:10:36.177887",
     "exception": false,
     "start_time": "2023-02-08T04:10:36.167362",
     "status": "completed"
    },
    "scrolled": true,
    "tags": []
   },
   "source": [
    "from IPython.display import display, Markdown\n",
    "from TexSoup import TexSoup\n",
    "import re\n",
    "\n",
    "def bracket_error(source: str):\n",
    "    \"\"\" Find problematic portions of the document \"\"\"\n",
    "    \n",
    "    print(\"len(source)\", len(source))\n",
    "    \n",
    "    # Checking header\n",
    "    begin_doc = next(re.finditer(r'\\\\begin\\{document\\}', doc.source)).span()[1]\n",
    "    header = source[:begin_doc]\n",
    "    text = header + r\"\\n\\end{document}\"\n",
    "\n",
    "    try:\n",
    "        # print(\"Header check... \", end='')\n",
    "        TexSoup(text)\n",
    "        display(Markdown(f\"**[OK]** - Header\"))\n",
    "    except:\n",
    "        raise RuntimeError(\"Error in the header\")\n",
    "        \n",
    "    # Check the text per section until the end.\n",
    "    # Do not stop and try them all.\n",
    "    \n",
    "    problematic_text = []\n",
    "    \n",
    "    sections = ([(0, begin_doc, 'until first section')] + \n",
    "                [(g.span()[0], g.span()[1], g.group()) for g in re.finditer(r'\\\\section\\{.*\\}', source)] +\n",
    "                [(g.span()[0], g.span()[1], g.group()) for g in re.finditer(r'\\\\begin\\{appendix\\}', source)]\n",
    "               )\n",
    "    sections.append([len(source), len(source), 'end'])\n",
    "    \n",
    "    sections = sorted(sections, key=lambda x: x[0])\n",
    "    \n",
    "    prev_pos, prev_name = (0, 'header')\n",
    "    parsed = []\n",
    "    \n",
    "    for span, span_end, name in sections:\n",
    "\n",
    "        if span - prev_pos <= 0:\n",
    "            continue\n",
    "            \n",
    "\n",
    "        text = source[prev_pos:span]\n",
    "        if prev_pos > begin_doc:\n",
    "            text = r\"\\n\\begin{document}\" + text + r\"\\n\\end{document}\"\n",
    "        else:\n",
    "            text = text + r\"\\n\\end{document}\"\n",
    "        try:\n",
    "            #print(f\"{prev_pos}:{prev_name}-->{span}:{name} check... \", end='')\n",
    "            parsed.append(TexSoup(text, tolerance=1))  # allow not ending env\n",
    "            display(Markdown(f\"**[OK]** - *{prev_pos}*:{prev_name} &rarr; *{span}*:{name}\"))\n",
    "            # print(\"ok\")\n",
    "\n",
    "            prev_pos = span\n",
    "            prev_name = name\n",
    "        except:\n",
    "            # print(f\"error between {prev_pos} and {span}\")\n",
    "            display(Markdown(f\"**[ERR]** *{prev_pos}*:{prev_name} &rarr; *{span}*:{name}\"))\n",
    "            problematic_text.append((prev_pos, source[prev_pos:span]))\n",
    "            prev_pos = span\n",
    "            prev_name = name\n",
    "            # raise\n",
    "    return problematic_text, parsed\n",
    "\n",
    "\n",
    "def check_environment(text, offset=0):\n",
    "    \"\"\" Check environment \"\"\"\n",
    "    env = re.compile(r\"\\\\begin\\{(?P<env>.*)\\}(.*)\\\\end\\{(?P=env)\\}\", re.DOTALL)\n",
    "\n",
    "    for match in env.finditer(text):\n",
    "        beg, end = match.span()\n",
    "        beg += offset\n",
    "        end += offset\n",
    "        envname = match.groups()[0]\n",
    "        try:\n",
    "            latex.TexSoup(match.group())\n",
    "        except Exception as e:\n",
    "            display(e)\n",
    "            print(f\"Error in {envname:s} between {beg} and {end}\")\n",
    "            return match.groups()[1], beg, end"
   ]
  },
  {
   "cell_type": "raw",
   "id": "2315e835",
   "metadata": {
    "papermill": {
     "duration": 0.010449,
     "end_time": "2023-02-08T04:10:36.198857",
     "exception": false,
     "start_time": "2023-02-08T04:10:36.188408",
     "status": "completed"
    },
    "scrolled": false,
    "tags": []
   },
   "source": [
    "import importlib\n",
    "importlib.reload(latex)\n",
    "which = \"2204.03253\"\n",
    "paper_id = f'{which:s}'\n",
    "folder = f'tmp_{paper_id:s}'\n",
    "\n",
    "if not os.path.isdir(folder):\n",
    "    folder = retrieve_document_source(f\"{paper_id}\", f'tmp_{paper_id}')\n",
    "\n",
    "try:\n",
    "    doc = latex.LatexDocument(folder, validation=validation)    \n",
    "except AffiliationError as affilerror:\n",
    "    msg = f\"ArXiv:{paper_id:s} is not an MPIA paper... \" + str(affilerror)\n",
    "    print(msg)\n",
    "\n",
    "\n",
    "# Hack because sometimes author parsing does not work well\n",
    "if (len(doc.authors) != len(paper['authors'])):\n",
    "    doc._authors = paper['authors']\n",
    "if (doc.abstract) in (None, ''):\n",
    "    doc._abstract = paper['abstract']\n",
    "\n",
    "doc.comment = get_markdown_badge(paper_id) + \" _\" + paper['comments'] + \"_\"\n",
    "doc.highlight_authors_in_list(hl_list)\n",
    "\n",
    "full_md = doc.generate_markdown_text()"
   ]
  },
  {
   "cell_type": "raw",
   "id": "dd3781db",
   "metadata": {
    "papermill": {
     "duration": 0.010487,
     "end_time": "2023-02-08T04:10:36.219973",
     "exception": false,
     "start_time": "2023-02-08T04:10:36.209486",
     "status": "completed"
    },
    "scrolled": false,
    "tags": []
   },
   "source": [
    "doc"
   ]
  },
  {
   "cell_type": "raw",
   "id": "c6eed834",
   "metadata": {
    "papermill": {
     "duration": 0.010477,
     "end_time": "2023-02-08T04:10:36.240981",
     "exception": false,
     "start_time": "2023-02-08T04:10:36.230504",
     "status": "completed"
    },
    "tags": []
   },
   "source": [
    "# [check_environment(k) for k in bracket_error(doc.source)]\n",
    "_, _, a = latex.get_content_per_section(doc.source, verbose=True)\n",
    "if not a:\n",
    "    print(\"no issues per section\")\n",
    "for ak in a:\n",
    "    r = check_environment(ak[1], offset=ak[0])\n",
    "    print(r[1], r[2])\n",
    "    print(r[0])"
   ]
  },
  {
   "cell_type": "code",
   "execution_count": null,
   "id": "71ce768a",
   "metadata": {
    "papermill": {
     "duration": 0.010533,
     "end_time": "2023-02-08T04:10:36.262059",
     "exception": false,
     "start_time": "2023-02-08T04:10:36.251526",
     "status": "completed"
    },
    "tags": []
   },
   "outputs": [],
   "source": []
  }
 ],
 "metadata": {
  "kernelspec": {
   "display_name": "Python 3",
   "language": "python",
   "name": "python3"
  },
  "language_info": {
   "codemirror_mode": {
    "name": "ipython",
    "version": 3
   },
   "file_extension": ".py",
   "mimetype": "text/x-python",
   "name": "python",
   "nbconvert_exporter": "python",
   "pygments_lexer": "ipython3",
   "version": "3.9.16"
  },
  "papermill": {
   "default_parameters": {},
   "duration": 169.944853,
   "end_time": "2023-02-08T04:10:36.490216",
   "environment_variables": {},
   "exception": null,
   "input_path": "MPIA daily digest.ipynb",
   "output_path": "log.ipynb",
   "parameters": {},
   "start_time": "2023-02-08T04:07:46.545363",
   "version": "2.4.0"
  },
  "vscode": {
   "interpreter": {
    "hash": "aee8b7b246df8f9039afb4144a1f6fd8d2ca17a180786b69acc140d282b71a49"
   }
  },
  "widgets": {
   "application/vnd.jupyter.widget-state+json": {
    "state": {
     "0ac6a2bb6f8c419c9bc7c57c61ba0773": {
      "model_module": "@jupyter-widgets/controls",
      "model_module_version": "2.0.0",
      "model_name": "HBoxModel",
      "state": {
       "_dom_classes": [],
       "_model_module": "@jupyter-widgets/controls",
       "_model_module_version": "2.0.0",
       "_model_name": "HBoxModel",
       "_view_count": null,
       "_view_module": "@jupyter-widgets/controls",
       "_view_module_version": "2.0.0",
       "_view_name": "HBoxView",
       "box_style": "",
       "children": [
        "IPY_MODEL_88ba1e4bbc0a4610895b09ef5528be69",
        "IPY_MODEL_a75a209124b54c0a886cb2bcd64317aa",
        "IPY_MODEL_8c19db18ebd042c3b8eb04781ed1ffd9"
       ],
       "layout": "IPY_MODEL_325afef70379447491d597572a5ad8a1",
       "tabbable": null,
       "tooltip": null
      }
     },
     "279f7bf06ba845c5bafcc626db3ff4d8": {
      "model_module": "@jupyter-widgets/base",
      "model_module_version": "2.0.0",
      "model_name": "LayoutModel",
      "state": {
       "_model_module": "@jupyter-widgets/base",
       "_model_module_version": "2.0.0",
       "_model_name": "LayoutModel",
       "_view_count": null,
       "_view_module": "@jupyter-widgets/base",
       "_view_module_version": "2.0.0",
       "_view_name": "LayoutView",
       "align_content": null,
       "align_items": null,
       "align_self": null,
       "border_bottom": null,
       "border_left": null,
       "border_right": null,
       "border_top": null,
       "bottom": null,
       "display": null,
       "flex": null,
       "flex_flow": null,
       "grid_area": null,
       "grid_auto_columns": null,
       "grid_auto_flow": null,
       "grid_auto_rows": null,
       "grid_column": null,
       "grid_gap": null,
       "grid_row": null,
       "grid_template_areas": null,
       "grid_template_columns": null,
       "grid_template_rows": null,
       "height": null,
       "justify_content": null,
       "justify_items": null,
       "left": null,
       "margin": null,
       "max_height": null,
       "max_width": null,
       "min_height": null,
       "min_width": null,
       "object_fit": null,
       "object_position": null,
       "order": null,
       "overflow": null,
       "padding": null,
       "right": null,
       "top": null,
       "visibility": null,
       "width": null
      }
     },
     "325afef70379447491d597572a5ad8a1": {
      "model_module": "@jupyter-widgets/base",
      "model_module_version": "2.0.0",
      "model_name": "LayoutModel",
      "state": {
       "_model_module": "@jupyter-widgets/base",
       "_model_module_version": "2.0.0",
       "_model_name": "LayoutModel",
       "_view_count": null,
       "_view_module": "@jupyter-widgets/base",
       "_view_module_version": "2.0.0",
       "_view_name": "LayoutView",
       "align_content": null,
       "align_items": null,
       "align_self": null,
       "border_bottom": null,
       "border_left": null,
       "border_right": null,
       "border_top": null,
       "bottom": null,
       "display": null,
       "flex": null,
       "flex_flow": null,
       "grid_area": null,
       "grid_auto_columns": null,
       "grid_auto_flow": null,
       "grid_auto_rows": null,
       "grid_column": null,
       "grid_gap": null,
       "grid_row": null,
       "grid_template_areas": null,
       "grid_template_columns": null,
       "grid_template_rows": null,
       "height": null,
       "justify_content": null,
       "justify_items": null,
       "left": null,
       "margin": null,
       "max_height": null,
       "max_width": null,
       "min_height": null,
       "min_width": null,
       "object_fit": null,
       "object_position": null,
       "order": null,
       "overflow": null,
       "padding": null,
       "right": null,
       "top": null,
       "visibility": null,
       "width": null
      }
     },
     "71951fb4d27249c1854dcfca303c68ae": {
      "model_module": "@jupyter-widgets/controls",
      "model_module_version": "2.0.0",
      "model_name": "HTMLStyleModel",
      "state": {
       "_model_module": "@jupyter-widgets/controls",
       "_model_module_version": "2.0.0",
       "_model_name": "HTMLStyleModel",
       "_view_count": null,
       "_view_module": "@jupyter-widgets/base",
       "_view_module_version": "2.0.0",
       "_view_name": "StyleView",
       "background": null,
       "description_width": "",
       "font_size": null,
       "text_color": null
      }
     },
     "7f3d4b4b02fe4aa5b4f053ce94e5b148": {
      "model_module": "@jupyter-widgets/base",
      "model_module_version": "2.0.0",
      "model_name": "LayoutModel",
      "state": {
       "_model_module": "@jupyter-widgets/base",
       "_model_module_version": "2.0.0",
       "_model_name": "LayoutModel",
       "_view_count": null,
       "_view_module": "@jupyter-widgets/base",
       "_view_module_version": "2.0.0",
       "_view_name": "LayoutView",
       "align_content": null,
       "align_items": null,
       "align_self": null,
       "border_bottom": null,
       "border_left": null,
       "border_right": null,
       "border_top": null,
       "bottom": null,
       "display": null,
       "flex": null,
       "flex_flow": null,
       "grid_area": null,
       "grid_auto_columns": null,
       "grid_auto_flow": null,
       "grid_auto_rows": null,
       "grid_column": null,
       "grid_gap": null,
       "grid_row": null,
       "grid_template_areas": null,
       "grid_template_columns": null,
       "grid_template_rows": null,
       "height": null,
       "justify_content": null,
       "justify_items": null,
       "left": null,
       "margin": null,
       "max_height": null,
       "max_width": null,
       "min_height": null,
       "min_width": null,
       "object_fit": null,
       "object_position": null,
       "order": null,
       "overflow": null,
       "padding": null,
       "right": null,
       "top": null,
       "visibility": null,
       "width": null
      }
     },
     "88ba1e4bbc0a4610895b09ef5528be69": {
      "model_module": "@jupyter-widgets/controls",
      "model_module_version": "2.0.0",
      "model_name": "HTMLModel",
      "state": {
       "_dom_classes": [],
       "_model_module": "@jupyter-widgets/controls",
       "_model_module_version": "2.0.0",
       "_model_name": "HTMLModel",
       "_view_count": null,
       "_view_module": "@jupyter-widgets/controls",
       "_view_module_version": "2.0.0",
       "_view_name": "HTMLView",
       "description": "",
       "description_allow_html": false,
       "layout": "IPY_MODEL_279f7bf06ba845c5bafcc626db3ff4d8",
       "placeholder": "​",
       "style": "IPY_MODEL_71951fb4d27249c1854dcfca303c68ae",
       "tabbable": null,
       "tooltip": null,
       "value": "100%"
      }
     },
     "8c19db18ebd042c3b8eb04781ed1ffd9": {
      "model_module": "@jupyter-widgets/controls",
      "model_module_version": "2.0.0",
      "model_name": "HTMLModel",
      "state": {
       "_dom_classes": [],
       "_model_module": "@jupyter-widgets/controls",
       "_model_module_version": "2.0.0",
       "_model_name": "HTMLModel",
       "_view_count": null,
       "_view_module": "@jupyter-widgets/controls",
       "_view_module_version": "2.0.0",
       "_view_name": "HTMLView",
       "description": "",
       "description_allow_html": false,
       "layout": "IPY_MODEL_b50ea74508a845ce8c71c45eacd9752a",
       "placeholder": "​",
       "style": "IPY_MODEL_bff777347d8544f582fc0060f0d71c04",
       "tabbable": null,
       "tooltip": null,
       "value": " 17/17 [02:23&lt;00:00,  9.50s/it]"
      }
     },
     "9ff437946c8c436890235f9f55bdb5b7": {
      "model_module": "@jupyter-widgets/controls",
      "model_module_version": "2.0.0",
      "model_name": "ProgressStyleModel",
      "state": {
       "_model_module": "@jupyter-widgets/controls",
       "_model_module_version": "2.0.0",
       "_model_name": "ProgressStyleModel",
       "_view_count": null,
       "_view_module": "@jupyter-widgets/base",
       "_view_module_version": "2.0.0",
       "_view_name": "StyleView",
       "bar_color": null,
       "description_width": ""
      }
     },
     "a75a209124b54c0a886cb2bcd64317aa": {
      "model_module": "@jupyter-widgets/controls",
      "model_module_version": "2.0.0",
      "model_name": "FloatProgressModel",
      "state": {
       "_dom_classes": [],
       "_model_module": "@jupyter-widgets/controls",
       "_model_module_version": "2.0.0",
       "_model_name": "FloatProgressModel",
       "_view_count": null,
       "_view_module": "@jupyter-widgets/controls",
       "_view_module_version": "2.0.0",
       "_view_name": "ProgressView",
       "bar_style": "success",
       "description": "",
       "description_allow_html": false,
       "layout": "IPY_MODEL_7f3d4b4b02fe4aa5b4f053ce94e5b148",
       "max": 17.0,
       "min": 0.0,
       "orientation": "horizontal",
       "style": "IPY_MODEL_9ff437946c8c436890235f9f55bdb5b7",
       "tabbable": null,
       "tooltip": null,
       "value": 17.0
      }
     },
     "b50ea74508a845ce8c71c45eacd9752a": {
      "model_module": "@jupyter-widgets/base",
      "model_module_version": "2.0.0",
      "model_name": "LayoutModel",
      "state": {
       "_model_module": "@jupyter-widgets/base",
       "_model_module_version": "2.0.0",
       "_model_name": "LayoutModel",
       "_view_count": null,
       "_view_module": "@jupyter-widgets/base",
       "_view_module_version": "2.0.0",
       "_view_name": "LayoutView",
       "align_content": null,
       "align_items": null,
       "align_self": null,
       "border_bottom": null,
       "border_left": null,
       "border_right": null,
       "border_top": null,
       "bottom": null,
       "display": null,
       "flex": null,
       "flex_flow": null,
       "grid_area": null,
       "grid_auto_columns": null,
       "grid_auto_flow": null,
       "grid_auto_rows": null,
       "grid_column": null,
       "grid_gap": null,
       "grid_row": null,
       "grid_template_areas": null,
       "grid_template_columns": null,
       "grid_template_rows": null,
       "height": null,
       "justify_content": null,
       "justify_items": null,
       "left": null,
       "margin": null,
       "max_height": null,
       "max_width": null,
       "min_height": null,
       "min_width": null,
       "object_fit": null,
       "object_position": null,
       "order": null,
       "overflow": null,
       "padding": null,
       "right": null,
       "top": null,
       "visibility": null,
       "width": null
      }
     },
     "bff777347d8544f582fc0060f0d71c04": {
      "model_module": "@jupyter-widgets/controls",
      "model_module_version": "2.0.0",
      "model_name": "HTMLStyleModel",
      "state": {
       "_model_module": "@jupyter-widgets/controls",
       "_model_module_version": "2.0.0",
       "_model_name": "HTMLStyleModel",
       "_view_count": null,
       "_view_module": "@jupyter-widgets/base",
       "_view_module_version": "2.0.0",
       "_view_name": "StyleView",
       "background": null,
       "description_width": "",
       "font_size": null,
       "text_color": null
      }
     }
    },
    "version_major": 2,
    "version_minor": 0
   }
  }
 },
 "nbformat": 4,
 "nbformat_minor": 5
}