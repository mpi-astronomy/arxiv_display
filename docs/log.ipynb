{
 "cells": [
  {
   "cell_type": "markdown",
   "id": "92bcb855",
   "metadata": {
    "papermill": {
     "duration": 0.003533,
     "end_time": "2023-12-22T04:08:07.002265",
     "exception": false,
     "start_time": "2023-12-22T04:08:06.998732",
     "status": "completed"
    },
    "tags": []
   },
   "source": [
    "# MPIA Arxiv on Deck 2\n",
    "\n",
    "Contains the steps to produce the paper extractions."
   ]
  },
  {
   "cell_type": "code",
   "execution_count": 1,
   "id": "3a0d6e11",
   "metadata": {
    "execution": {
     "iopub.execute_input": "2023-12-22T04:08:07.010877Z",
     "iopub.status.busy": "2023-12-22T04:08:07.010395Z",
     "iopub.status.idle": "2023-12-22T04:08:07.313159Z",
     "shell.execute_reply": "2023-12-22T04:08:07.312528Z"
    },
    "papermill": {
     "duration": 0.308076,
     "end_time": "2023-12-22T04:08:07.314849",
     "exception": false,
     "start_time": "2023-12-22T04:08:07.006773",
     "status": "completed"
    },
    "tags": []
   },
   "outputs": [],
   "source": [
    "# Imports\n",
    "import os\n",
    "from IPython.display import Markdown, display\n",
    "from tqdm.notebook import tqdm\n",
    "import warnings\n",
    "from PIL import Image \n",
    "\n",
    "# requires arxiv_on_deck_2\n",
    "\n",
    "from arxiv_on_deck_2.arxiv2 import (get_new_papers, \n",
    "                                    get_paper_from_identifier,\n",
    "                                    retrieve_document_source, \n",
    "                                    get_markdown_badge)\n",
    "from arxiv_on_deck_2 import (latex,\n",
    "                             latex_bib,\n",
    "                             mpia,\n",
    "                             highlight_authors_in_list)\n",
    "\n",
    "# Sometimes images are really big\n",
    "Image.MAX_IMAGE_PIXELS = 1000000000 "
   ]
  },
  {
   "cell_type": "code",
   "execution_count": 2,
   "id": "22aa9d44",
   "metadata": {
    "execution": {
     "iopub.execute_input": "2023-12-22T04:08:07.321942Z",
     "iopub.status.busy": "2023-12-22T04:08:07.321390Z",
     "iopub.status.idle": "2023-12-22T04:08:07.326518Z",
     "shell.execute_reply": "2023-12-22T04:08:07.325980Z"
    },
    "papermill": {
     "duration": 0.009937,
     "end_time": "2023-12-22T04:08:07.327802",
     "exception": false,
     "start_time": "2023-12-22T04:08:07.317865",
     "status": "completed"
    },
    "tags": []
   },
   "outputs": [],
   "source": [
    "# Some useful definitions.\n",
    "\n",
    "class AffiliationWarning(UserWarning):\n",
    "    pass\n",
    "\n",
    "class AffiliationError(RuntimeError):\n",
    "    pass\n",
    "\n",
    "def validation(source: str):\n",
    "    \"\"\"Raises error paper during parsing of source file\n",
    "    \n",
    "    Allows checks before parsing TeX code.\n",
    "    \n",
    "    Raises AffiliationWarning\n",
    "    \"\"\"\n",
    "    check = mpia.affiliation_verifications(source, verbose=True)\n",
    "    if check is not True:\n",
    "        raise AffiliationError(\"mpia.affiliation_verifications: \" + check)\n",
    "\n",
    "        \n",
    "warnings.simplefilter('always', AffiliationWarning)\n",
    "\n",
    "\n",
    "def get_markdown_qrcode(paper_id: str):\n",
    "    \"\"\" Generate a qrcode to the arxiv page using qrserver.com\n",
    "    \n",
    "    :param paper: Arxiv paper\n",
    "    :returns: markdown text\n",
    "    \"\"\"\n",
    "    url = r\"https://api.qrserver.com/v1/create-qr-code/?size=100x100&data=\"\n",
    "    txt = f\"\"\"<img src={url}\"https://arxiv.org/abs/{paper_id}\">\"\"\"\n",
    "    txt = '<div id=\"qrcode\">' + txt + '</div>'\n",
    "    return txt"
   ]
  },
  {
   "cell_type": "markdown",
   "id": "14bd6310",
   "metadata": {
    "papermill": {
     "duration": 0.002632,
     "end_time": "2023-12-22T04:08:07.333275",
     "exception": false,
     "start_time": "2023-12-22T04:08:07.330643",
     "status": "completed"
    },
    "tags": []
   },
   "source": [
    "## get list of arxiv paper candidates\n",
    "\n",
    "We use the MPIA mitarbeiter list webpage from mpia.de to get author names\n",
    "We then get all new papers from Arxiv and match authors"
   ]
  },
  {
   "cell_type": "code",
   "execution_count": 3,
   "id": "2645e73a",
   "metadata": {
    "execution": {
     "iopub.execute_input": "2023-12-22T04:08:07.339750Z",
     "iopub.status.busy": "2023-12-22T04:08:07.339423Z",
     "iopub.status.idle": "2023-12-22T04:08:26.229734Z",
     "shell.execute_reply": "2023-12-22T04:08:26.229070Z"
    },
    "papermill": {
     "duration": 18.895222,
     "end_time": "2023-12-22T04:08:26.231267",
     "exception": false,
     "start_time": "2023-12-22T04:08:07.336045",
     "status": "completed"
    },
    "tags": []
   },
   "outputs": [
    {
     "name": "stdout",
     "output_type": "stream",
     "text": [
      "J. Neumann  ->  J. Neumann  |  ['J. Neumann']\n",
      "J. Li  ->  J. Li  |  ['J. Li']\n",
      "J. Li  ->  J. Li  |  ['J. Li']\n",
      "Arxiv has 55 new papers today\n",
      "          3 with possible author matches\n"
     ]
    }
   ],
   "source": [
    "# get list from MPIA website\n",
    "# it automatically filters identified non-scientists :func:`mpia.filter_non_scientists`\n",
    "mpia_authors = mpia.get_mpia_mitarbeiter_list()\n",
    "normed_mpia_authors = [k[1] for k in mpia_authors]   # initials + fullname\n",
    "new_papers = get_new_papers()\n",
    "# add manual references\n",
    "add_paper_refs = []\n",
    "new_papers.extend([get_paper_from_identifier(k) for k in add_paper_refs])\n",
    "\n",
    "candidates = []\n",
    "for paperk in new_papers:\n",
    "    # Check author list with their initials\n",
    "    normed_author_list = [mpia.get_initials(k) for k in paperk['authors']]\n",
    "    hl_authors = highlight_authors_in_list(normed_author_list, normed_mpia_authors, verbose=True)\n",
    "    matches = [(hl, orig) for hl, orig in zip(hl_authors, paperk['authors']) if 'mark' in hl]\n",
    "    paperk['authors'] = hl_authors\n",
    "    if matches:\n",
    "        # only select paper if an author matched our list\n",
    "        candidates.append(paperk)\n",
    "print(\"\"\"Arxiv has {0:,d} new papers today\"\"\".format(len(new_papers)))        \n",
    "print(\"\"\"          {0:,d} with possible author matches\"\"\".format(len(candidates)))"
   ]
  },
  {
   "cell_type": "markdown",
   "id": "3543b34a",
   "metadata": {
    "papermill": {
     "duration": 0.002981,
     "end_time": "2023-12-22T04:08:26.237537",
     "exception": false,
     "start_time": "2023-12-22T04:08:26.234556",
     "status": "completed"
    },
    "tags": []
   },
   "source": [
    "# Parse sources and generate relevant outputs\n",
    "\n",
    "From the candidates, we do the following steps:\n",
    "* get their tarball from ArXiv (and extract data)\n",
    "* find the main .tex file: find one with \\documentclass{...} (sometimes it's non trivial)\n",
    "* Check affiliations with :func:`validation`, which uses :func:`mpia.affiliation_verifications`\n",
    "* If passing the affiliations: we parse the .tex source\n",
    "   * inject sub-documents into the main (flatten the main document)\n",
    "   * parse structure, extract information (title, abstract, authors, figures...)\n",
    "   * handles `\\graphicspath` if provided\n",
    "* Generate the .md document."
   ]
  },
  {
   "cell_type": "code",
   "execution_count": 4,
   "id": "9576b79e",
   "metadata": {
    "execution": {
     "iopub.execute_input": "2023-12-22T04:08:26.244477Z",
     "iopub.status.busy": "2023-12-22T04:08:26.243984Z",
     "iopub.status.idle": "2023-12-22T04:10:02.883601Z",
     "shell.execute_reply": "2023-12-22T04:10:02.882907Z"
    },
    "papermill": {
     "duration": 96.644754,
     "end_time": "2023-12-22T04:10:02.885130",
     "exception": false,
     "start_time": "2023-12-22T04:08:26.240376",
     "status": "completed"
    },
    "scrolled": false,
    "tags": []
   },
   "outputs": [
    {
     "data": {
      "application/vnd.jupyter.widget-view+json": {
       "model_id": "ec4cbba0f0c84fb8a434aa98defd462e",
       "version_major": 2,
       "version_minor": 0
      },
      "text/plain": [
       "  0%|          | 0/3 [00:00<?, ?it/s]"
      ]
     },
     "metadata": {},
     "output_type": "display_data"
    },
    {
     "name": "stdout",
     "output_type": "stream",
     "text": [
      "Retrieving document from  https://arxiv.org/e-print/2312.13355\n"
     ]
    },
    {
     "name": "stdout",
     "output_type": "stream",
     "text": [
      "extracting tarball to tmp_2312.13355..."
     ]
    },
    {
     "name": "stdout",
     "output_type": "stream",
     "text": [
      " done.\n"
     ]
    },
    {
     "name": "stdout",
     "output_type": "stream",
     "text": [
      "list index out of range\n",
      "Retrieving document from  https://arxiv.org/e-print/2312.13612\n"
     ]
    },
    {
     "name": "stdout",
     "output_type": "stream",
     "text": [
      "extracting tarball to tmp_2312.13612..."
     ]
    },
    {
     "name": "stdout",
     "output_type": "stream",
     "text": [
      " done.\n",
      "Retrieving document from  https://arxiv.org/e-print/2312.13684\n"
     ]
    },
    {
     "name": "stdout",
     "output_type": "stream",
     "text": [
      "extracting tarball to tmp_2312.13684..."
     ]
    },
    {
     "name": "stdout",
     "output_type": "stream",
     "text": [
      " done.\n"
     ]
    }
   ],
   "source": [
    "documents = []\n",
    "failed = []\n",
    "for paper in tqdm(candidates):\n",
    "    paper_id = paper['identifier'].lower().replace('arxiv:', '')\n",
    "    \n",
    "    folder = f'tmp_{paper_id}'\n",
    "\n",
    "    try:\n",
    "        if not os.path.isdir(folder):\n",
    "            folder = retrieve_document_source(f\"{paper_id}\", f'tmp_{paper_id}')\n",
    "        \n",
    "        try:\n",
    "            doc = latex.LatexDocument(folder, validation=validation)    \n",
    "        except AffiliationError as affilerror:\n",
    "            msg = f\"ArXiv:{paper_id:s} is not an MPIA paper... \" + str(affilerror)\n",
    "            failed.append((paper, \"affiliation error: \" + str(affilerror) ))\n",
    "            continue\n",
    "        \n",
    "        # Hack because sometimes author parsing does not work well\n",
    "        if (len(doc.authors) != len(paper['authors'])):\n",
    "            doc._authors = paper['authors']\n",
    "        else:\n",
    "            # highlight authors (FIXME: doc.highlight_authors)\n",
    "            # done on arxiv paper already\n",
    "            doc._authors = highlight_authors_in_list(\n",
    "                [mpia.get_initials(k) for k in doc.authors], \n",
    "                normed_mpia_authors, verbose=True)\n",
    "        if (doc.abstract) in (None, ''):\n",
    "            doc._abstract = paper['abstract']\n",
    "            \n",
    "        doc.comment = (get_markdown_badge(paper_id) + \n",
    "                       \"<mark>Appeared on: \" + paper['date'] + \"</mark> - \")\n",
    "        if paper['comments']:\n",
    "            doc.comment += \" _\" + paper['comments'] + \"_\"\n",
    "        \n",
    "        full_md = doc.generate_markdown_text()\n",
    "        \n",
    "        full_md += get_markdown_qrcode(paper_id)\n",
    "        \n",
    "        # replace citations\n",
    "        try:\n",
    "            bibdata = latex_bib.LatexBib.from_doc(doc)\n",
    "            full_md = latex_bib.replace_citations(full_md, bibdata)\n",
    "        except Exception as e:\n",
    "            print(e)\n",
    "        \n",
    "        documents.append((paper_id, full_md))\n",
    "    except Exception as e:\n",
    "        warnings.warn(latex.LatexWarning(f\"{paper_id:s} did not run properly\\n\" +\n",
    "                                         str(e)\n",
    "                                        ))\n",
    "        failed.append((paper, \"latex error \" + str(e)))"
   ]
  },
  {
   "cell_type": "markdown",
   "id": "2505a25c",
   "metadata": {
    "papermill": {
     "duration": 0.003472,
     "end_time": "2023-12-22T04:10:02.892250",
     "exception": false,
     "start_time": "2023-12-22T04:10:02.888778",
     "status": "completed"
    },
    "tags": []
   },
   "source": [
    "### Export the logs\n",
    "\n",
    "Throughout, we also keep track of the logs per paper. see `logs-{today date}.md` "
   ]
  },
  {
   "cell_type": "code",
   "execution_count": 5,
   "id": "d733828a",
   "metadata": {
    "execution": {
     "iopub.execute_input": "2023-12-22T04:10:02.900160Z",
     "iopub.status.busy": "2023-12-22T04:10:02.899692Z",
     "iopub.status.idle": "2023-12-22T04:10:02.912554Z",
     "shell.execute_reply": "2023-12-22T04:10:02.911973Z"
    },
    "papermill": {
     "duration": 0.01828,
     "end_time": "2023-12-22T04:10:02.913904",
     "exception": false,
     "start_time": "2023-12-22T04:10:02.895624",
     "status": "completed"
    },
    "scrolled": false,
    "tags": []
   },
   "outputs": [
    {
     "data": {
      "text/markdown": [
       "## Successful papers"
      ],
      "text/plain": [
       "<IPython.core.display.Markdown object>"
      ]
     },
     "metadata": {},
     "output_type": "display_data"
    },
    {
     "data": {
      "text/markdown": [
       "\n",
       "|||\n",
       "|---:|:---|\n",
       "| [![arXiv](https://img.shields.io/badge/arXiv-arXiv:2312.13355-b31b1b.svg)](https://arxiv.org/abs/arXiv:2312.13355) | **The universal variability of the stellar initial mass function probed by  the TIMER survey**  |\n",
       "|| I. Martín-Navarro, et al. -- incl., <mark>J. Neumann</mark> |\n",
       "|*Appeared on*| *2023-12-22*|\n",
       "|*Comments*| *16 pages, 11 figures. Accepted for publication in Astronomy and Astrophysics*|\n",
       "|**Abstract**| The debate about the universality of the stellar initial mass function (IMF) revolves around two competing lines of evidence. While measurements in the Milky Way, an archetypal spiral galaxy, seem to support an invariant IMF, the observed properties of massive early-type galaxies (ETGs) favor an IMF somehow sensitive to the local star formation conditions. The fundamental methodological and physical differences between both approaches have hampered, however, a comprehensive understanding of IMF variations. We describe here an improved modelling scheme that allows for the first time consistent IMF measurements across stellar populations with different ages and complex star formation histories. Making use of the exquisite MUSE optical data from the TIMER survey and powered by the MILES stellar population models, we show the age, metallicity, [Mg/Fe], and IMF slope maps of the inner regions of NGC 3351, a spiral galaxy with a mass similar to that of the Milky Way. The measured IMF values in NGC3351 follow the expectations from a Milky Way-like IMF, although they simultaneously show systematic and spatially coherent variations, particularly for low-mass stars. In addition, our stellar population analysis reveals the presence of metal-poor and Mg-enhanced star-forming regions that appear to be predominantly enriched by the stellar ejecta of core-collapse supernovae. Our findings showcase therefore the potential of detailed studies of young stellar populations to better understand the early stages of galaxy evolution and, in particular, the origin of the observed IMF variations beyond and within the Milky Way. |"
      ],
      "text/plain": [
       "[arXiv:2312.13355] The universal variability of the stellar initial mass function probed by  the TIMER survey\n",
       "\tI. Martín-Navarro, et al. -- incl., <mark>J. Neumann</mark>"
      ]
     },
     "metadata": {},
     "output_type": "display_data"
    },
    {
     "data": {
      "text/markdown": [
       "## Failed papers"
      ],
      "text/plain": [
       "<IPython.core.display.Markdown object>"
      ]
     },
     "metadata": {},
     "output_type": "display_data"
    },
    {
     "data": {
      "text/markdown": [
       "\n",
       "|||\n",
       "|---:|:---|\n",
       "| [![arXiv](https://img.shields.io/badge/arXiv-arXiv:2312.13612-b31b1b.svg)](https://arxiv.org/abs/arXiv:2312.13612) | **A seven-Earth-radius helium-burning star inside a 20.5-min detached  binary**  |\n",
       "|| J. Lin, et al. -- incl., <mark>J. Li</mark> |\n",
       "|*Appeared on*| *2023-12-22*|\n",
       "|*Comments*| *24 pages, 11 figures, 1 table*|\n",
       "|**Abstract**| Binary evolution theory predicts that the second common envelope (CE) ejection can produce low-mass (0.32-0.36 Msun) subdwarf B (sdB) stars inside ultrashort-orbital-period binary systems, as their helium cores are ignited under nondegenerate conditions. With the orbital decay driven by gravitational-wave (GW) radiation, the minimum orbital periods of detached sdB binaries could be as short as ~20 minutes. However, only four sdB binaries with orbital periods below an hour have been reported so far, while none of them has an orbital period approaching the above theoretical limit. Here we report the discovery of a 20.5-minute-orbital-period ellipsoidal binary, TMTS J052610.43+593445.1, in which the visible star is being tidally deformed by an invisible carbon-oxygen white dwarf (WD) companion. The visible component is inferred to be an sdB star with a mass of ~0.33 Msun, approaching that of helium-ignition limit, although a He-core WD cannot be completely ruled out. In particular, the radius of this low-mass sdB star is only 0.066 Rsun, about seven Earth radii, possibly representing the most compact nondegenerate star ever known. Such a system provides a key clue to map the binary evolution scheme from the second CE ejection to the formation of AM CVn stars having a helium-star donor, and it will also serve as a crucial verification binary of space-borne GW detectors in the future. |\n",
       "|<p style=\"color:green\"> **ERROR** </p>| <p style=\"color:green\">affiliation error: mpia.affiliation_verifications: '69117' keyword not found.</p> |"
      ],
      "text/plain": [
       "<IPython.core.display.Markdown object>"
      ]
     },
     "metadata": {},
     "output_type": "display_data"
    },
    {
     "data": {
      "text/markdown": [
       "\n",
       "|||\n",
       "|---:|:---|\n",
       "| [![arXiv](https://img.shields.io/badge/arXiv-arXiv:2312.13684-b31b1b.svg)](https://arxiv.org/abs/arXiv:2312.13684) | **Satellite Impact on Astronomical Observations Based on Elliptical Orbit  Model**  |\n",
       "|| T. Hu, et al. -- incl., <mark>J. Li</mark> |\n",
       "|*Appeared on*| *2023-12-22*|\n",
       "|*Comments*| *9 pages, 7 figures, submitted to A&A, any comments are welcome*|\n",
       "|**Abstract**| Space-based and ground-based telescopes have extensively documented the impact of satellites on astronomical observations. With the proliferation of satellite mega-constellation programs, their influence on astronomical observations has become undeniable. It is crucial to quantify the impact of satellites on telescopes. To address this need, we have enhanced the circular orbit model for satellites and introduced a methodology based on two-line element (TLE) orbit data. This involves constructing a satellite probability distribution model to evaluate the impact of satellites on telescopes. Using our method, we assessed the satellite impact on global observatories. The results indicate that the regions most severely affected by satellite interference currently are those near the equator, with latitudes around 50 and 80 degrees experiencing the most significant impact from low Earth orbit satellites. Furthermore, we validated the reliability of our method using imaging data obtained from the focal surface acquisition camera of the LAMOST telescope. |\n",
       "|<p style=\"color:green\"> **ERROR** </p>| <p style=\"color:green\">affiliation error: mpia.affiliation_verifications: 'Heidelberg' keyword not found.</p> |"
      ],
      "text/plain": [
       "<IPython.core.display.Markdown object>"
      ]
     },
     "metadata": {},
     "output_type": "display_data"
    }
   ],
   "source": [
    "import datetime\n",
    "today = str(datetime.date.today())\n",
    "logfile = f\"_build/html/logs/log-{today}.md\"\n",
    "\n",
    "\n",
    "with open(logfile, 'w') as logs:\n",
    "    # Success\n",
    "    logs.write(f'# Arxiv on Deck 2: Logs - {today}\\n\\n')\n",
    "    logs.write(\"\"\"* Arxiv had {0:,d} new papers\\n\"\"\".format(len(new_papers)))\n",
    "    logs.write(\"\"\"    * {0:,d} with possible author matches\\n\\n\"\"\".format(len(candidates)))\n",
    "    logs.write(\"## Sucessful papers\\n\\n\")\n",
    "    display(Markdown(\"## Successful papers\"))\n",
    "    success = [k[0] for k in documents]\n",
    "    for candid in candidates:\n",
    "        if candid['identifier'].split(':')[-1] in success:\n",
    "            display(candid)\n",
    "            logs.write(candid.generate_markdown_text() + '\\n\\n')\n",
    "\n",
    "    ## failed\n",
    "    logs.write(\"## Failed papers\\n\\n\")\n",
    "    display(Markdown(\"## Failed papers\"))\n",
    "    failed = sorted(failed, key=lambda x: x[1])\n",
    "    current_reason = \"\"\n",
    "    for paper, reason in failed:\n",
    "        if 'affiliation' in reason:\n",
    "            color = 'green'\n",
    "        else:\n",
    "            color = 'red'\n",
    "        data = Markdown(\n",
    "                paper.generate_markdown_text() + \n",
    "                f'\\n|<p style=\"color:{color:s}\"> **ERROR** </p>| <p style=\"color:{color:s}\">{reason:s}</p> |'\n",
    "               )\n",
    "        if reason != current_reason:\n",
    "            logs.write(f'### {reason:s} \\n\\n')\n",
    "            current_reason = reason\n",
    "        logs.write(data.data + '\\n\\n')\n",
    "        \n",
    "        # only display here the important errors (all in logs)\n",
    "        # if color in ('red',):\n",
    "        display(data)"
   ]
  },
  {
   "cell_type": "markdown",
   "id": "472d20ee",
   "metadata": {
    "papermill": {
     "duration": 0.003796,
     "end_time": "2023-12-22T04:10:02.921532",
     "exception": false,
     "start_time": "2023-12-22T04:10:02.917736",
     "status": "completed"
    },
    "tags": []
   },
   "source": [
    "## Export documents\n",
    "\n",
    "We now write the .md files and export relevant images"
   ]
  },
  {
   "cell_type": "code",
   "execution_count": 6,
   "id": "d426aed9",
   "metadata": {
    "execution": {
     "iopub.execute_input": "2023-12-22T04:10:02.930358Z",
     "iopub.status.busy": "2023-12-22T04:10:02.929834Z",
     "iopub.status.idle": "2023-12-22T04:10:02.936155Z",
     "shell.execute_reply": "2023-12-22T04:10:02.935638Z"
    },
    "papermill": {
     "duration": 0.012036,
     "end_time": "2023-12-22T04:10:02.937366",
     "exception": false,
     "start_time": "2023-12-22T04:10:02.925330",
     "status": "completed"
    },
    "tags": []
   },
   "outputs": [],
   "source": [
    "def export_markdown_summary(md: str, md_fname:str, directory: str):\n",
    "    \"\"\"Export MD document and associated relevant images\"\"\"\n",
    "    import os\n",
    "    import shutil\n",
    "    import re\n",
    "\n",
    "    if (os.path.exists(directory) and not os.path.isdir(directory)):\n",
    "        raise RuntimeError(f\"a non-directory file exists with name {directory:s}\")\n",
    "\n",
    "    if (not os.path.exists(directory)):\n",
    "        print(f\"creating directory {directory:s}\")\n",
    "        os.mkdir(directory)\n",
    "\n",
    "    fig_fnames = (re.compile(r'\\[Fig.*\\]\\((.*)\\)').findall(md) + \n",
    "                  re.compile(r'\\<img src=\"([^>\\s]*)\"[^>]*/>').findall(md))\n",
    "    for fname in fig_fnames:\n",
    "        if 'http' in fname:\n",
    "            # No need to copy online figures\n",
    "            continue\n",
    "        destdir = os.path.join(directory, os.path.dirname(fname))\n",
    "        destfname = os.path.join(destdir, os.path.basename(fname))\n",
    "        try:\n",
    "            os.makedirs(destdir)\n",
    "        except FileExistsError:\n",
    "            pass\n",
    "        shutil.copy(fname, destfname)\n",
    "    with open(os.path.join(directory, md_fname), 'w') as fout:\n",
    "        fout.write(md)\n",
    "    print(\"exported in \", os.path.join(directory, md_fname))\n",
    "    [print(\"    + \" + os.path.join(directory,fk)) for fk in fig_fnames]"
   ]
  },
  {
   "cell_type": "code",
   "execution_count": 7,
   "id": "014d04a4",
   "metadata": {
    "execution": {
     "iopub.execute_input": "2023-12-22T04:10:02.946148Z",
     "iopub.status.busy": "2023-12-22T04:10:02.945747Z",
     "iopub.status.idle": "2023-12-22T04:10:02.951737Z",
     "shell.execute_reply": "2023-12-22T04:10:02.951134Z"
    },
    "papermill": {
     "duration": 0.011747,
     "end_time": "2023-12-22T04:10:02.953012",
     "exception": false,
     "start_time": "2023-12-22T04:10:02.941265",
     "status": "completed"
    },
    "tags": []
   },
   "outputs": [
    {
     "name": "stdout",
     "output_type": "stream",
     "text": [
      "exported in  _build/html/2312.13355.md\n",
      "    + _build/html/tmp_2312.13355/./figures/all_IMF.png\n",
      "    + _build/html/tmp_2312.13355/./figures/OffGrid_light.png\n",
      "    + _build/html/tmp_2312.13355/./figures/OffGrid_mass.png\n",
      "    + _build/html/tmp_2312.13355/./figures/TiO2_shape.png\n"
     ]
    }
   ],
   "source": [
    "for paper_id, md in documents:\n",
    "    export_markdown_summary(md, f\"{paper_id:s}.md\", '_build/html/')"
   ]
  },
  {
   "cell_type": "markdown",
   "id": "f087a0a7",
   "metadata": {
    "papermill": {
     "duration": 0.00388,
     "end_time": "2023-12-22T04:10:02.960835",
     "exception": false,
     "start_time": "2023-12-22T04:10:02.956955",
     "status": "completed"
    },
    "tags": []
   },
   "source": [
    "## Display the papers\n",
    "\n",
    "Not necessary but allows for a quick check."
   ]
  },
  {
   "cell_type": "code",
   "execution_count": 8,
   "id": "fd25f625",
   "metadata": {
    "execution": {
     "iopub.execute_input": "2023-12-22T04:10:02.969807Z",
     "iopub.status.busy": "2023-12-22T04:10:02.969390Z",
     "iopub.status.idle": "2023-12-22T04:10:02.973805Z",
     "shell.execute_reply": "2023-12-22T04:10:02.973239Z"
    },
    "papermill": {
     "duration": 0.010249,
     "end_time": "2023-12-22T04:10:02.975058",
     "exception": false,
     "start_time": "2023-12-22T04:10:02.964809",
     "status": "completed"
    },
    "scrolled": false,
    "tags": []
   },
   "outputs": [
    {
     "data": {
      "text/markdown": [
       "<div class=\"macros\" style=\"visibility:hidden;\">\n",
       "$\\newcommand{\\ensuremath}{}$\n",
       "$\\newcommand{\\xspace}{}$\n",
       "$\\newcommand{\\object}[1]{\\texttt{#1}}$\n",
       "$\\newcommand{\\farcs}{{.}''}$\n",
       "$\\newcommand{\\farcm}{{.}'}$\n",
       "$\\newcommand{\\arcsec}{''}$\n",
       "$\\newcommand{\\arcmin}{'}$\n",
       "$\\newcommand{\\ion}[2]{#1#2}$\n",
       "$\\newcommand{\\textsc}[1]{\\textrm{#1}}$\n",
       "$\\newcommand{\\hl}[1]{\\textrm{#1}}$\n",
       "$\\newcommand{\\footnote}[1]{}$\n",
       "$\\newcommand{\\msun}{\\hbox{M_{\\odot}}}$\n",
       "$\\newcommand{\\kms}{\\hbox{km s^{-1}}}$\n",
       "$\\newcommand{\\}{natexlab}$</div>\n",
       "\n",
       "\n",
       "\n",
       "<div id=\"title\">\n",
       "\n",
       "# The universal variability of the stellar initial mass function probed by the TIMER survey\n",
       "\n",
       "</div>\n",
       "<div id=\"comments\">\n",
       "\n",
       "[![arXiv](https://img.shields.io/badge/arXiv-2312.13355-b31b1b.svg)](https://arxiv.org/abs/2312.13355)<mark>Appeared on: 2023-12-22</mark> -  _16 pages, 11 figures. Accepted for publication in Astronomy and Astrophysics_\n",
       "\n",
       "</div>\n",
       "<div id=\"authors\">\n",
       "\n",
       "I. Martín-Navarro, et al. -- incl., <mark>J. Neumann</mark>\n",
       "\n",
       "</div>\n",
       "<div id=\"abstract\">\n",
       "\n",
       "**Abstract:** The debate about the universality of the stellar initial mass function (IMF) revolves around two competing lines of evidence. While measurements in the Milky Way, an archetypal spiral galaxy, seem to support an invariant IMF, the observed properties of massive early-type galaxies (ETGs) favor an IMF somehow sensitive to the local star formation conditions. The fundamental methodological and physical differences between both approaches have hampered, however, a comprehensive understanding of IMF variations. We describe here an improved modelling scheme that allows for the first time consistent IMF measurements across stellar populations with different ages and complex star formation histories. Making use of the exquisite MUSE optical data from the TIMER survey and powered by the MILES stellar population models, we show the age, metallicity, [ Mg/Fe ] , and IMF slope maps of the inner regions of NGC 3351, a spiral galaxy with a mass similar to that of the Milky Way. The measured IMF values in NGC 3351 follow the expectations from a Milky Way-like IMF, although they simultaneously show systematic and spatially coherent variations, particularly for low-mass stars. In addition, our stellar population analysis reveals the presence of metal-poor and Mg-enhanced star-forming regions that appear to be predominantly enriched by the stellar ejecta of core-collapse supernovae. Our findings showcase therefore the potential of detailed studies of young stellar populations to better understand the early stages of galaxy evolution and,  in particular, the origin of the observed IMF variations beyond and within the Milky Way.\n",
       "\n",
       "</div>\n",
       "\n",
       "<div id=\"div_fig1\">\n",
       "\n",
       "<img src=\"tmp_2312.13355/./figures/all_IMF.png\" alt=\"Fig10\" width=\"100%\"/>\n",
       "\n",
       "**Figure 10. -** Line strength age and IMF sensitivity. From left to right and top to bottom we show the age dependence of the Mgb, H$_{\\beta_O}$, Nad, and $TiO_2$ spectral features, respectively. Solid lines correspond to the MILES $\\alpha$-variable models and dashed ones indicate their (adapted) super-young extension. The gray shaded area in the background shows the unmodified super-young model predictions for a Milky Way-like IMF (see main text for more details). Orange lines are predictions for a bottom-heavy IMF (i.e. steeper than the Milky Way standard), blue lines for a top-heavy (i.e. flatter) IMF, and black lines for the reference Salpeter IMF. The rapid increase in the equivalent width of the indices (but H$_{\\beta_O}$) at ages around $\\sim 10$ Myr is caused by the sudden appearance of red supergiant stars. Predictions are shown at the native resolution of the MILES models (2.51 Å). (*fig:indices*)\n",
       "\n",
       "</div>\n",
       "<div id=\"div_fig2\">\n",
       "\n",
       "<img src=\"tmp_2312.13355/./figures/OffGrid_light.png\" alt=\"Fig11.1\" width=\"50%\"/><img src=\"tmp_2312.13355/./figures/OffGrid_mass.png\" alt=\"Fig11.2\" width=\"50%\"/>\n",
       "\n",
       "**Figure 11. -** H$_{\\beta_o}$ vs NaD index-index diagram. Gray grids show the MILES predictions at the native resolution of the models (2.51 Å) and solar metallicity for different ages and IMF slopes, as indicated by the labels. Blue solid lines highlight the age variation for a Salpeter IMF. Dashed blue lines and filled circles track the range of expected values for a composite stellar population of two SSP models (14 Gyr and 0.35 Gyr), both of them with a Milky Way-like IMF. Symbols are color-coded by the light (left panel) and mass (right panel) fraction associated to the young SSP model. This simplified yet realistic example shows how the best-fitting SSP solution fails to recover the true value of $\\Gamma=1.3$ when applied to composite stellar populations, which could result in unrealistically high IMF slope values ($\\Gamma\\sim 3.3$). (*fig:offgrid*)\n",
       "\n",
       "</div>\n",
       "<div id=\"div_fig3\">\n",
       "\n",
       "<img src=\"tmp_2312.13355/./figures/TiO2_shape.png\" alt=\"Fig2\" width=\"100%\"/>\n",
       "\n",
       "**Figure 2. -** Optical sensitivity to the shape of the IMF. Black, orange, and purple lines indicate the age sensitivity of the $TiO_2$ absorption feature for a Salpeter IMF, a bottom-heavy single power law IMF, and a bottom-heavy broken power law IMF, respectively. For old stellar populations, as those harbored by massive quiescent galaxies, both single power law and broken power law IMF parametrizations are indistinguishable since the stellar mass range probed along the IMF is rather narrow. For young stellar populations however, different model assumptions on the IMF shape lead to dramatically different model predictions, highlighting the potential use of line-strength indices to actually constrain the shape of the IMF. Predictions are shown at the native resolution of the MILES models (2.51 Å). (*fig:shape*)\n",
       "\n",
       "</div><div id=\"qrcode\"><img src=https://api.qrserver.com/v1/create-qr-code/?size=100x100&data=\"https://arxiv.org/abs/2312.13355\"></div>"
      ],
      "text/plain": [
       "<IPython.core.display.Markdown object>"
      ]
     },
     "metadata": {},
     "output_type": "display_data"
    }
   ],
   "source": [
    "[display(Markdown(k[1])) for k in documents];"
   ]
  },
  {
   "cell_type": "markdown",
   "id": "873873a4",
   "metadata": {
    "papermill": {
     "duration": 0.004054,
     "end_time": "2023-12-22T04:10:02.983253",
     "exception": false,
     "start_time": "2023-12-22T04:10:02.979199",
     "status": "completed"
    },
    "tags": []
   },
   "source": [
    "# Create HTML index"
   ]
  },
  {
   "cell_type": "code",
   "execution_count": 9,
   "id": "cf665672",
   "metadata": {
    "execution": {
     "iopub.execute_input": "2023-12-22T04:10:02.992374Z",
     "iopub.status.busy": "2023-12-22T04:10:02.992141Z",
     "iopub.status.idle": "2023-12-22T04:10:03.001555Z",
     "shell.execute_reply": "2023-12-22T04:10:03.001056Z"
    },
    "papermill": {
     "duration": 0.015491,
     "end_time": "2023-12-22T04:10:03.002842",
     "exception": false,
     "start_time": "2023-12-22T04:10:02.987351",
     "status": "completed"
    },
    "tags": []
   },
   "outputs": [
    {
     "name": "stdout",
     "output_type": "stream",
     "text": [
      "347  publications files modified in the last 7 days.\n"
     ]
    }
   ],
   "source": [
    "from datetime import datetime, timedelta, timezone\n",
    "from glob import glob\n",
    "import os\n",
    "\n",
    "files = glob('_build/html/*.md')\n",
    "days = 7\n",
    "now = datetime.today()\n",
    "res = []\n",
    "for fk in files:\n",
    "    stat_result = os.stat(fk).st_ctime\n",
    "    modified = datetime.fromtimestamp(stat_result, tz=timezone.utc).replace(tzinfo=None)\n",
    "    delta = now.today() - modified\n",
    "    if delta <= timedelta(days=days):\n",
    "        res.append((delta.seconds, fk))\n",
    "res = [k[1] for k in reversed(sorted(res, key=lambda x:x[1]))]\n",
    "npub = len(res)\n",
    "print(len(res), f\" publications files modified in the last {days:d} days.\")\n",
    "# [ print('\\t', k) for k in res ];"
   ]
  },
  {
   "cell_type": "code",
   "execution_count": 10,
   "id": "015de740",
   "metadata": {
    "execution": {
     "iopub.execute_input": "2023-12-22T04:10:03.012288Z",
     "iopub.status.busy": "2023-12-22T04:10:03.011909Z",
     "iopub.status.idle": "2023-12-22T04:10:03.032267Z",
     "shell.execute_reply": "2023-12-22T04:10:03.031764Z"
    },
    "papermill": {
     "duration": 0.026378,
     "end_time": "2023-12-22T04:10:03.033530",
     "exception": false,
     "start_time": "2023-12-22T04:10:03.007152",
     "status": "completed"
    },
    "tags": []
   },
   "outputs": [
    {
     "name": "stdout",
     "output_type": "stream",
     "text": [
      "5  publications in the last 7 days.\n"
     ]
    }
   ],
   "source": [
    "import datetime\n",
    "from glob import glob\n",
    "\n",
    "def get_last_n_days(lst, days=1):\n",
    "    \"\"\" Get the documents from the last n days \"\"\"\n",
    "    sorted_lst = sorted(lst, key=lambda x: x[1], reverse=True)\n",
    "    for fname, date in sorted_lst:\n",
    "        if date >= str(datetime.date.today() - datetime.timedelta(days=days)):\n",
    "            yield fname\n",
    "\n",
    "def extract_appearance_dates(lst_file):\n",
    "    dates = []\n",
    "\n",
    "    def get_date(line):\n",
    "        return line\\\n",
    "            .split('Appeared on:')[-1]\\\n",
    "            .split('</mark>')[0].strip()\n",
    "\n",
    "    for fname in lst:\n",
    "        with open(fname, 'r') as f:\n",
    "            found_date = False\n",
    "            for line in f:\n",
    "                if not found_date:\n",
    "                    if \"Appeared on\" in line:\n",
    "                        found_date = True\n",
    "                        dates.append((fname, get_date(line)))\n",
    "                else:\n",
    "                    break\n",
    "    return dates\n",
    "\n",
    "from glob import glob\n",
    "lst = glob('_build/html/*md')\n",
    "days = 7\n",
    "dates = extract_appearance_dates(lst)\n",
    "res = list(get_last_n_days(dates, days))\n",
    "npub = len(res)\n",
    "print(len(res), f\" publications in the last {days:d} days.\")"
   ]
  },
  {
   "cell_type": "code",
   "execution_count": 11,
   "id": "52ca0208",
   "metadata": {
    "execution": {
     "iopub.execute_input": "2023-12-22T04:10:03.043161Z",
     "iopub.status.busy": "2023-12-22T04:10:03.042757Z",
     "iopub.status.idle": "2023-12-22T04:10:03.047560Z",
     "shell.execute_reply": "2023-12-22T04:10:03.047007Z"
    },
    "papermill": {
     "duration": 0.010975,
     "end_time": "2023-12-22T04:10:03.048817",
     "exception": false,
     "start_time": "2023-12-22T04:10:03.037842",
     "status": "completed"
    },
    "scrolled": false,
    "tags": []
   },
   "outputs": [],
   "source": [
    "def create_carousel(npub=4):\n",
    "    \"\"\" Generate the HTML code for a carousel with `npub` slides \"\"\"\n",
    "    carousel = [\"\"\"  <div class=\"carousel\" \"\"\",\n",
    "                \"\"\"       data-flickity='{ \"autoPlay\": 10000, \"adaptiveHeight\": true, \"resize\": true, \"wrapAround\": true, \"pauseAutoPlayOnHover\": true, \"groupCells\": 1 }' id=\"asyncTypeset\">\"\"\"\n",
    "                ]\n",
    "    \n",
    "    item_str = \"\"\"    <div class=\"carousel-cell\"> <div id=\"slide{k}\" class=\"md_view\">Content {k}</div> </div>\"\"\"\n",
    "    for k in range(1, npub + 1):\n",
    "        carousel.append(item_str.format(k=k))\n",
    "    carousel.append(\"  </div>\")\n",
    "    return '\\n'.join(carousel)\n",
    "\n",
    "def create_grid(npub=4):\n",
    "    \"\"\" Generate the HTML code for a flat grid with `npub` slides \"\"\"\n",
    "    grid = [\"\"\"  <div class=\"grid\"> \"\"\",\n",
    "                ]\n",
    "    \n",
    "    item_str = \"\"\"    <div class=\"grid-item\"> <div id=\"slide{k}\" class=\"md_view\">Content {k}</div> </div>\"\"\"\n",
    "    for k in range(1, npub + 1):\n",
    "        grid.append(item_str.format(k=k))\n",
    "    grid.append(\"  </div>\")\n",
    "    return '\\n'.join(grid)"
   ]
  },
  {
   "cell_type": "code",
   "execution_count": 12,
   "id": "a6eac5b6",
   "metadata": {
    "execution": {
     "iopub.execute_input": "2023-12-22T04:10:03.058629Z",
     "iopub.status.busy": "2023-12-22T04:10:03.058193Z",
     "iopub.status.idle": "2023-12-22T04:10:03.063139Z",
     "shell.execute_reply": "2023-12-22T04:10:03.062626Z"
    },
    "papermill": {
     "duration": 0.011097,
     "end_time": "2023-12-22T04:10:03.064379",
     "exception": false,
     "start_time": "2023-12-22T04:10:03.053282",
     "status": "completed"
    },
    "scrolled": false,
    "tags": []
   },
   "outputs": [],
   "source": [
    "carousel = create_carousel(npub)\n",
    "docs = ', '.join(['\"{0:s}\"'.format(k.split('/')[-1]) for k in res])\n",
    "slides = ', '.join([f'\"slide{k}\"' for k in range(1, npub + 1)])\n",
    "\n",
    "with open(\"daily_template.html\", \"r\") as tpl:\n",
    "    page = tpl.read()\n",
    "    page = page.replace(\"{%-- carousel:s --%}\", carousel)\\\n",
    "               .replace(\"{%-- suptitle:s --%}\",  \"7-day archives\" )\\\n",
    "               .replace(\"{%-- docs:s --%}\", docs)\\\n",
    "               .replace(\"{%-- slides:s --%}\", slides)\n",
    "    \n",
    "with open(\"_build/html/index_7days.html\", 'w') as fout:\n",
    "    fout.write(page)"
   ]
  },
  {
   "cell_type": "code",
   "execution_count": 13,
   "id": "adc1a1ec",
   "metadata": {
    "execution": {
     "iopub.execute_input": "2023-12-22T04:10:03.074027Z",
     "iopub.status.busy": "2023-12-22T04:10:03.073636Z",
     "iopub.status.idle": "2023-12-22T04:10:03.080198Z",
     "shell.execute_reply": "2023-12-22T04:10:03.079597Z"
    },
    "papermill": {
     "duration": 0.012747,
     "end_time": "2023-12-22T04:10:03.081466",
     "exception": false,
     "start_time": "2023-12-22T04:10:03.068719",
     "status": "completed"
    },
    "tags": []
   },
   "outputs": [
    {
     "name": "stdout",
     "output_type": "stream",
     "text": [
      "1  publications in the last day.\n"
     ]
    }
   ],
   "source": [
    "# redo for today\n",
    "days = 1\n",
    "res = list(get_last_n_days(dates, days))\n",
    "npub = len(res)\n",
    "print(len(res), f\" publications in the last day.\")\n",
    "\n",
    "carousel = create_carousel(npub)\n",
    "docs = ', '.join(['\"{0:s}\"'.format(k.split('/')[-1]) for k in res])\n",
    "slides = ', '.join([f'\"slide{k}\"' for k in range(1, npub + 1)])\n",
    "\n",
    "with open(\"daily_template.html\", \"r\") as tpl:\n",
    "    page = tpl.read()\n",
    "    page = page.replace(\"{%-- carousel:s --%}\", carousel)\\\n",
    "               .replace(\"{%-- suptitle:s --%}\",  \"Daily\" )\\\n",
    "               .replace(\"{%-- docs:s --%}\", docs)\\\n",
    "               .replace(\"{%-- slides:s --%}\", slides)\n",
    "    \n",
    "# print(carousel, docs, slides)\n",
    "# print(page)\n",
    "with open(\"_build/html/index_daily.html\", 'w') as fout:\n",
    "    fout.write(page)"
   ]
  },
  {
   "cell_type": "code",
   "execution_count": 14,
   "id": "00eece82",
   "metadata": {
    "execution": {
     "iopub.execute_input": "2023-12-22T04:10:03.091198Z",
     "iopub.status.busy": "2023-12-22T04:10:03.090891Z",
     "iopub.status.idle": "2023-12-22T04:10:03.097187Z",
     "shell.execute_reply": "2023-12-22T04:10:03.096588Z"
    },
    "papermill": {
     "duration": 0.012659,
     "end_time": "2023-12-22T04:10:03.098541",
     "exception": false,
     "start_time": "2023-12-22T04:10:03.085882",
     "status": "completed"
    },
    "scrolled": false,
    "tags": []
   },
   "outputs": [
    {
     "name": "stdout",
     "output_type": "stream",
     "text": [
      "6  6 publications selected.\n"
     ]
    }
   ],
   "source": [
    "# Create the flat grid of the last N papers (fixed number regardless of dates)\n",
    "from itertools import islice \n",
    "\n",
    "npub = 6\n",
    "res = [k[0] for k in (islice(reversed(sorted(dates, key=lambda x: x[1])), 6))]\n",
    "print(len(res), f\" {npub} publications selected.\")\n",
    "\n",
    "grid = create_grid(npub)\n",
    "docs = ', '.join(['\"{0:s}\"'.format(k.split('/')[-1]) for k in res])\n",
    "slides = ', '.join([f'\"slide{k}\"' for k in range(1, npub + 1)])\n",
    "\n",
    "with open(\"grid_template.html\", \"r\") as tpl:\n",
    "    page = tpl.read()\n",
    "    page = page.replace(\"{%-- grid-content:s --%}\", grid)\\\n",
    "               .replace(\"{%-- suptitle:s --%}\",  f\"Last {npub:,d} papers\" )\\\n",
    "               .replace(\"{%-- docs:s --%}\", docs)\\\n",
    "               .replace(\"{%-- slides:s --%}\", slides)\n",
    "    \n",
    "# print(grid, docs, slides)\n",
    "# print(page)\n",
    "with open(\"_build/html/index_npub_grid.html\", 'w') as fout:\n",
    "    fout.write(page)"
   ]
  }
 ],
 "metadata": {
  "kernelspec": {
   "display_name": "Python 3 (ipykernel)",
   "language": "python",
   "name": "python3"
  },
  "language_info": {
   "codemirror_mode": {
    "name": "ipython",
    "version": 3
   },
   "file_extension": ".py",
   "mimetype": "text/x-python",
   "name": "python",
   "nbconvert_exporter": "python",
   "pygments_lexer": "ipython3",
   "version": "3.9.18"
  },
  "papermill": {
   "default_parameters": {},
   "duration": 117.200304,
   "end_time": "2023-12-22T04:10:03.318958",
   "environment_variables": {},
   "exception": null,
   "input_path": "MPIA daily digest.ipynb",
   "output_path": "log.ipynb",
   "parameters": {},
   "start_time": "2023-12-22T04:08:06.118654",
   "version": "2.5.0"
  },
  "vscode": {
   "interpreter": {
    "hash": "aee8b7b246df8f9039afb4144a1f6fd8d2ca17a180786b69acc140d282b71a49"
   }
  },
  "widgets": {
   "application/vnd.jupyter.widget-state+json": {
    "state": {
     "217761a259014482bff79c1c6af0f9b9": {
      "model_module": "@jupyter-widgets/controls",
      "model_module_version": "2.0.0",
      "model_name": "HTMLModel",
      "state": {
       "_dom_classes": [],
       "_model_module": "@jupyter-widgets/controls",
       "_model_module_version": "2.0.0",
       "_model_name": "HTMLModel",
       "_view_count": null,
       "_view_module": "@jupyter-widgets/controls",
       "_view_module_version": "2.0.0",
       "_view_name": "HTMLView",
       "description": "",
       "description_allow_html": false,
       "layout": "IPY_MODEL_5512901f607c490e9071de0b1261b2f7",
       "placeholder": "​",
       "style": "IPY_MODEL_b28633d55f4f4c82a3e64a61494ae23f",
       "tabbable": null,
       "tooltip": null,
       "value": "100%"
      }
     },
     "3355e19e26774e8ba13a3c2302c6899e": {
      "model_module": "@jupyter-widgets/controls",
      "model_module_version": "2.0.0",
      "model_name": "ProgressStyleModel",
      "state": {
       "_model_module": "@jupyter-widgets/controls",
       "_model_module_version": "2.0.0",
       "_model_name": "ProgressStyleModel",
       "_view_count": null,
       "_view_module": "@jupyter-widgets/base",
       "_view_module_version": "2.0.0",
       "_view_name": "StyleView",
       "bar_color": null,
       "description_width": ""
      }
     },
     "5512901f607c490e9071de0b1261b2f7": {
      "model_module": "@jupyter-widgets/base",
      "model_module_version": "2.0.0",
      "model_name": "LayoutModel",
      "state": {
       "_model_module": "@jupyter-widgets/base",
       "_model_module_version": "2.0.0",
       "_model_name": "LayoutModel",
       "_view_count": null,
       "_view_module": "@jupyter-widgets/base",
       "_view_module_version": "2.0.0",
       "_view_name": "LayoutView",
       "align_content": null,
       "align_items": null,
       "align_self": null,
       "border_bottom": null,
       "border_left": null,
       "border_right": null,
       "border_top": null,
       "bottom": null,
       "display": null,
       "flex": null,
       "flex_flow": null,
       "grid_area": null,
       "grid_auto_columns": null,
       "grid_auto_flow": null,
       "grid_auto_rows": null,
       "grid_column": null,
       "grid_gap": null,
       "grid_row": null,
       "grid_template_areas": null,
       "grid_template_columns": null,
       "grid_template_rows": null,
       "height": null,
       "justify_content": null,
       "justify_items": null,
       "left": null,
       "margin": null,
       "max_height": null,
       "max_width": null,
       "min_height": null,
       "min_width": null,
       "object_fit": null,
       "object_position": null,
       "order": null,
       "overflow": null,
       "padding": null,
       "right": null,
       "top": null,
       "visibility": null,
       "width": null
      }
     },
     "62f8387f85054049b9f9e7af11002301": {
      "model_module": "@jupyter-widgets/controls",
      "model_module_version": "2.0.0",
      "model_name": "FloatProgressModel",
      "state": {
       "_dom_classes": [],
       "_model_module": "@jupyter-widgets/controls",
       "_model_module_version": "2.0.0",
       "_model_name": "FloatProgressModel",
       "_view_count": null,
       "_view_module": "@jupyter-widgets/controls",
       "_view_module_version": "2.0.0",
       "_view_name": "ProgressView",
       "bar_style": "success",
       "description": "",
       "description_allow_html": false,
       "layout": "IPY_MODEL_fd2b90d9eb464c2caf035469e7464de4",
       "max": 3.0,
       "min": 0.0,
       "orientation": "horizontal",
       "style": "IPY_MODEL_3355e19e26774e8ba13a3c2302c6899e",
       "tabbable": null,
       "tooltip": null,
       "value": 3.0
      }
     },
     "8bd2429cf684482595c1499de194f641": {
      "model_module": "@jupyter-widgets/base",
      "model_module_version": "2.0.0",
      "model_name": "LayoutModel",
      "state": {
       "_model_module": "@jupyter-widgets/base",
       "_model_module_version": "2.0.0",
       "_model_name": "LayoutModel",
       "_view_count": null,
       "_view_module": "@jupyter-widgets/base",
       "_view_module_version": "2.0.0",
       "_view_name": "LayoutView",
       "align_content": null,
       "align_items": null,
       "align_self": null,
       "border_bottom": null,
       "border_left": null,
       "border_right": null,
       "border_top": null,
       "bottom": null,
       "display": null,
       "flex": null,
       "flex_flow": null,
       "grid_area": null,
       "grid_auto_columns": null,
       "grid_auto_flow": null,
       "grid_auto_rows": null,
       "grid_column": null,
       "grid_gap": null,
       "grid_row": null,
       "grid_template_areas": null,
       "grid_template_columns": null,
       "grid_template_rows": null,
       "height": null,
       "justify_content": null,
       "justify_items": null,
       "left": null,
       "margin": null,
       "max_height": null,
       "max_width": null,
       "min_height": null,
       "min_width": null,
       "object_fit": null,
       "object_position": null,
       "order": null,
       "overflow": null,
       "padding": null,
       "right": null,
       "top": null,
       "visibility": null,
       "width": null
      }
     },
     "94bfc632b3e94c9ea7ec6c0bfd39e895": {
      "model_module": "@jupyter-widgets/controls",
      "model_module_version": "2.0.0",
      "model_name": "HTMLStyleModel",
      "state": {
       "_model_module": "@jupyter-widgets/controls",
       "_model_module_version": "2.0.0",
       "_model_name": "HTMLStyleModel",
       "_view_count": null,
       "_view_module": "@jupyter-widgets/base",
       "_view_module_version": "2.0.0",
       "_view_name": "StyleView",
       "background": null,
       "description_width": "",
       "font_size": null,
       "text_color": null
      }
     },
     "b28633d55f4f4c82a3e64a61494ae23f": {
      "model_module": "@jupyter-widgets/controls",
      "model_module_version": "2.0.0",
      "model_name": "HTMLStyleModel",
      "state": {
       "_model_module": "@jupyter-widgets/controls",
       "_model_module_version": "2.0.0",
       "_model_name": "HTMLStyleModel",
       "_view_count": null,
       "_view_module": "@jupyter-widgets/base",
       "_view_module_version": "2.0.0",
       "_view_name": "StyleView",
       "background": null,
       "description_width": "",
       "font_size": null,
       "text_color": null
      }
     },
     "ceefe4db1b1d47e6b723d65ec416d2b3": {
      "model_module": "@jupyter-widgets/controls",
      "model_module_version": "2.0.0",
      "model_name": "HTMLModel",
      "state": {
       "_dom_classes": [],
       "_model_module": "@jupyter-widgets/controls",
       "_model_module_version": "2.0.0",
       "_model_name": "HTMLModel",
       "_view_count": null,
       "_view_module": "@jupyter-widgets/controls",
       "_view_module_version": "2.0.0",
       "_view_name": "HTMLView",
       "description": "",
       "description_allow_html": false,
       "layout": "IPY_MODEL_8bd2429cf684482595c1499de194f641",
       "placeholder": "​",
       "style": "IPY_MODEL_94bfc632b3e94c9ea7ec6c0bfd39e895",
       "tabbable": null,
       "tooltip": null,
       "value": " 3/3 [01:36&lt;00:00, 34.46s/it]"
      }
     },
     "ec4cbba0f0c84fb8a434aa98defd462e": {
      "model_module": "@jupyter-widgets/controls",
      "model_module_version": "2.0.0",
      "model_name": "HBoxModel",
      "state": {
       "_dom_classes": [],
       "_model_module": "@jupyter-widgets/controls",
       "_model_module_version": "2.0.0",
       "_model_name": "HBoxModel",
       "_view_count": null,
       "_view_module": "@jupyter-widgets/controls",
       "_view_module_version": "2.0.0",
       "_view_name": "HBoxView",
       "box_style": "",
       "children": [
        "IPY_MODEL_217761a259014482bff79c1c6af0f9b9",
        "IPY_MODEL_62f8387f85054049b9f9e7af11002301",
        "IPY_MODEL_ceefe4db1b1d47e6b723d65ec416d2b3"
       ],
       "layout": "IPY_MODEL_eec0ecc671894c93988cece3a5502571",
       "tabbable": null,
       "tooltip": null
      }
     },
     "eec0ecc671894c93988cece3a5502571": {
      "model_module": "@jupyter-widgets/base",
      "model_module_version": "2.0.0",
      "model_name": "LayoutModel",
      "state": {
       "_model_module": "@jupyter-widgets/base",
       "_model_module_version": "2.0.0",
       "_model_name": "LayoutModel",
       "_view_count": null,
       "_view_module": "@jupyter-widgets/base",
       "_view_module_version": "2.0.0",
       "_view_name": "LayoutView",
       "align_content": null,
       "align_items": null,
       "align_self": null,
       "border_bottom": null,
       "border_left": null,
       "border_right": null,
       "border_top": null,
       "bottom": null,
       "display": null,
       "flex": null,
       "flex_flow": null,
       "grid_area": null,
       "grid_auto_columns": null,
       "grid_auto_flow": null,
       "grid_auto_rows": null,
       "grid_column": null,
       "grid_gap": null,
       "grid_row": null,
       "grid_template_areas": null,
       "grid_template_columns": null,
       "grid_template_rows": null,
       "height": null,
       "justify_content": null,
       "justify_items": null,
       "left": null,
       "margin": null,
       "max_height": null,
       "max_width": null,
       "min_height": null,
       "min_width": null,
       "object_fit": null,
       "object_position": null,
       "order": null,
       "overflow": null,
       "padding": null,
       "right": null,
       "top": null,
       "visibility": null,
       "width": null
      }
     },
     "fd2b90d9eb464c2caf035469e7464de4": {
      "model_module": "@jupyter-widgets/base",
      "model_module_version": "2.0.0",
      "model_name": "LayoutModel",
      "state": {
       "_model_module": "@jupyter-widgets/base",
       "_model_module_version": "2.0.0",
       "_model_name": "LayoutModel",
       "_view_count": null,
       "_view_module": "@jupyter-widgets/base",
       "_view_module_version": "2.0.0",
       "_view_name": "LayoutView",
       "align_content": null,
       "align_items": null,
       "align_self": null,
       "border_bottom": null,
       "border_left": null,
       "border_right": null,
       "border_top": null,
       "bottom": null,
       "display": null,
       "flex": null,
       "flex_flow": null,
       "grid_area": null,
       "grid_auto_columns": null,
       "grid_auto_flow": null,
       "grid_auto_rows": null,
       "grid_column": null,
       "grid_gap": null,
       "grid_row": null,
       "grid_template_areas": null,
       "grid_template_columns": null,
       "grid_template_rows": null,
       "height": null,
       "justify_content": null,
       "justify_items": null,
       "left": null,
       "margin": null,
       "max_height": null,
       "max_width": null,
       "min_height": null,
       "min_width": null,
       "object_fit": null,
       "object_position": null,
       "order": null,
       "overflow": null,
       "padding": null,
       "right": null,
       "top": null,
       "visibility": null,
       "width": null
      }
     }
    },
    "version_major": 2,
    "version_minor": 0
   }
  }
 },
 "nbformat": 4,
 "nbformat_minor": 5
}