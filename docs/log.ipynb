{
 "cells": [
  {
   "cell_type": "markdown",
   "id": "92bcb855",
   "metadata": {
    "papermill": {
     "duration": 0.003991,
     "end_time": "2025-09-30T04:13:30.403136",
     "exception": false,
     "start_time": "2025-09-30T04:13:30.399145",
     "status": "completed"
    },
    "tags": []
   },
   "source": [
    "# MPIA Arxiv on Deck 2\n",
    "\n",
    "Contains the steps to produce the paper extractions."
   ]
  },
  {
   "cell_type": "code",
   "execution_count": 1,
   "id": "3a0d6e11",
   "metadata": {
    "execution": {
     "iopub.execute_input": "2025-09-30T04:13:30.410847Z",
     "iopub.status.busy": "2025-09-30T04:13:30.410552Z",
     "iopub.status.idle": "2025-09-30T04:13:30.623733Z",
     "shell.execute_reply": "2025-09-30T04:13:30.623150Z"
    },
    "papermill": {
     "duration": 0.218588,
     "end_time": "2025-09-30T04:13:30.625170",
     "exception": false,
     "start_time": "2025-09-30T04:13:30.406582",
     "status": "completed"
    },
    "tags": []
   },
   "outputs": [],
   "source": [
    "# Imports\n",
    "import os\n",
    "from IPython.display import Markdown, display\n",
    "from tqdm.notebook import tqdm\n",
    "import warnings\n",
    "from PIL import Image \n",
    "import re\n",
    "\n",
    "# requires arxiv_on_deck_2\n",
    "\n",
    "from arxiv_on_deck_2.arxiv2 import (get_new_papers, \n",
    "                                    get_paper_from_identifier,\n",
    "                                    retrieve_document_source, \n",
    "                                    get_markdown_badge)\n",
    "from arxiv_on_deck_2 import (latex,\n",
    "                             latex_bib,\n",
    "                             mpia,\n",
    "                             highlight_authors_in_list)\n",
    "\n",
    "# Sometimes images are really big\n",
    "Image.MAX_IMAGE_PIXELS = 1000000000 "
   ]
  },
  {
   "cell_type": "code",
   "execution_count": 2,
   "id": "22aa9d44",
   "metadata": {
    "execution": {
     "iopub.execute_input": "2025-09-30T04:13:30.632497Z",
     "iopub.status.busy": "2025-09-30T04:13:30.632279Z",
     "iopub.status.idle": "2025-09-30T04:13:30.640534Z",
     "shell.execute_reply": "2025-09-30T04:13:30.639841Z"
    },
    "papermill": {
     "duration": 0.013592,
     "end_time": "2025-09-30T04:13:30.642155",
     "exception": false,
     "start_time": "2025-09-30T04:13:30.628563",
     "status": "completed"
    },
    "tags": []
   },
   "outputs": [],
   "source": [
    "# Some useful definitions.\n",
    "\n",
    "class AffiliationWarning(UserWarning):\n",
    "    pass\n",
    "\n",
    "class AffiliationError(RuntimeError):\n",
    "    pass\n",
    "\n",
    "def validation(source: str):\n",
    "    \"\"\"Raises error paper during parsing of source file\n",
    "    \n",
    "    Allows checks before parsing TeX code.\n",
    "    \n",
    "    Raises AffiliationWarning\n",
    "    \"\"\"\n",
    "    check = mpia.affiliation_verifications(source, verbose=True)\n",
    "    if check is not True:\n",
    "        raise AffiliationError(\"mpia.affiliation_verifications: \" + check)\n",
    "\n",
    "        \n",
    "warnings.simplefilter('always', AffiliationWarning)\n",
    "\n",
    "\n",
    "def get_markdown_qrcode(paper_id: str):\n",
    "    \"\"\" Generate a qrcode to the arxiv page using qrserver.com\n",
    "    \n",
    "    :param paper: Arxiv paper\n",
    "    :returns: markdown text\n",
    "    \"\"\"\n",
    "    url = r\"https://api.qrserver.com/v1/create-qr-code/?size=100x100&data=\"\n",
    "    txt = f\"\"\"<img src={url}\"https://arxiv.org/abs/{paper_id}\">\"\"\"\n",
    "    txt = '<div id=\"qrcode\">' + txt + '</div>'\n",
    "    return txt\n",
    "\n",
    "\n",
    "def clean_non_western_encoded_characters_commands(text: str) -> str:\n",
    "    \"\"\" Remove non-western encoded characters from a string\n",
    "    List may need to grow.\n",
    "    \n",
    "    :param text: the text to clean\n",
    "    :return: the cleaned text\n",
    "    \"\"\"\n",
    "    text = re.sub(r\"(\\\\begin{CJK}{UTF8}{gbsn})(.*?)(\\\\end{CJK})\", r\"\\2\", text)\n",
    "    return text\n",
    "\n",
    "\n",
    "def get_initials(name: str) -> str:\n",
    "    \"\"\" Get the short name, e.g., A.-B. FamName\n",
    "    :param name: full name\n",
    "    :returns: initials\n",
    "    \"\"\"\n",
    "    initials = []\n",
    "    # account for non western names often in ()\n",
    "    if '(' in name:\n",
    "        name = clean_non_western_encoded_characters_commands(name)\n",
    "        suffix = re.findall(r\"\\((.*?)\\)\", name)[0]\n",
    "        name = name.replace(f\"({suffix})\", '')\n",
    "    else:\n",
    "        suffix = ''\n",
    "    split = name.split()\n",
    "    for token in split[:-1]:\n",
    "        if '-' in token:\n",
    "            current = '-'.join([k[0] + '.' for k in token.split('-')])\n",
    "        else:\n",
    "            current = token[0] + '.'\n",
    "        initials.append(current)\n",
    "    initials.append(split[-1].strip())\n",
    "    if suffix:\n",
    "        initials.append(f\"({suffix})\")\n",
    "    return ' '.join(initials)"
   ]
  },
  {
   "cell_type": "markdown",
   "id": "14bd6310",
   "metadata": {
    "papermill": {
     "duration": 0.00289,
     "end_time": "2025-09-30T04:13:30.648092",
     "exception": false,
     "start_time": "2025-09-30T04:13:30.645202",
     "status": "completed"
    },
    "tags": []
   },
   "source": [
    "## get list of arxiv paper candidates\n",
    "\n",
    "We use the MPIA mitarbeiter list webpage from mpia.de to get author names\n",
    "We then get all new papers from Arxiv and match authors"
   ]
  },
  {
   "cell_type": "code",
   "execution_count": 3,
   "id": "7ea813a8",
   "metadata": {
    "execution": {
     "iopub.execute_input": "2025-09-30T04:13:30.654826Z",
     "iopub.status.busy": "2025-09-30T04:13:30.654621Z",
     "iopub.status.idle": "2025-09-30T04:13:52.952595Z",
     "shell.execute_reply": "2025-09-30T04:13:52.952020Z"
    },
    "papermill": {
     "duration": 22.302728,
     "end_time": "2025-09-30T04:13:52.953858",
     "exception": false,
     "start_time": "2025-09-30T04:13:30.651130",
     "status": "completed"
    },
    "tags": []
   },
   "outputs": [],
   "source": [
    "# deal with the author list and edge cases of people that cannot be consistent on their name  \n",
    "\n",
    "def filter_non_scientists(name: str) -> bool:\n",
    "    \"\"\" Loose filter on expected authorships\n",
    "\n",
    "    removing IT, administration, technical staff\n",
    "    :param name: name\n",
    "    :returns: False if name is not a scientist\n",
    "    \"\"\"\n",
    "    remove_list = ['Licht', 'Binroth', 'Witzel', 'Jordan',\n",
    "                   'Zähringer', 'Scheerer', 'Hoffmann', 'Düe',\n",
    "                   'Hellmich', 'Enkler-Scharpegge', 'Witte-Nguy',\n",
    "                   'Dehen', 'Beckmann', 'Jager', 'Jäger'\n",
    "                  ]\n",
    "\n",
    "    for k in remove_list:\n",
    "        if k in name:\n",
    "            return False\n",
    "    return True\n",
    "\n",
    "def add_author_to_list(author_list: list) -> list:\n",
    "    \"\"\" Add author to list if not already in list\n",
    "    \n",
    "    :param author: author name\n",
    "    :param author_list: list of authors\n",
    "    :returns: updated list of authors\n",
    "    \"\"\"\n",
    "    add_list = ['T. Henning']\n",
    "\n",
    "    for author in add_list:\n",
    "        if author not in author_list:\n",
    "            author_list.append(author)\n",
    "    return author_list\n",
    "\n",
    "# get list from MPIA website\n",
    "# filter for non-scientists (mpia.get_mpia_mitarbeiter_list() does some filtering)\n",
    "mpia_authors = [k[1] for k in mpia.get_mpia_mitarbeiter_list() if filter_non_scientists(k[1])]\n",
    "# add some missing author because of inconsistencies in their MPIA name and author name on papers\n",
    "mpia_authors = add_author_to_list(mpia_authors)"
   ]
  },
  {
   "cell_type": "code",
   "execution_count": 4,
   "id": "2645e73a",
   "metadata": {
    "execution": {
     "iopub.execute_input": "2025-09-30T04:13:52.961174Z",
     "iopub.status.busy": "2025-09-30T04:13:52.960893Z",
     "iopub.status.idle": "2025-09-30T04:13:53.869265Z",
     "shell.execute_reply": "2025-09-30T04:13:53.868511Z"
    },
    "papermill": {
     "duration": 0.913102,
     "end_time": "2025-09-30T04:13:53.870336",
     "exception": false,
     "start_time": "2025-09-30T04:13:52.957234",
     "status": "completed"
    },
    "tags": []
   },
   "outputs": [
    {
     "name": "stdout",
     "output_type": "stream",
     "text": [
      "E. Schinnerer  ->  E. Schinnerer  |  ['E. Schinnerer']\n",
      "M. Zhang  ->  M. Zhang  |  ['M. Zhang']\n",
      "Y. Wang  ->  Y. Wang  |  ['Y. Wang']\n",
      "R. Keenan  ->  R. Keenan  |  ['R. Keenan']\n"
     ]
    },
    {
     "name": "stdout",
     "output_type": "stream",
     "text": [
      "P. Eitner  ->  P. Eitner  |  ['P. Eitner']\n",
      "M. Bergemann  ->  M. Bergemann  |  ['M. Bergemann']\n",
      "R. Hoppe  ->  R. Hoppe  |  ['R. Hoppe']\n",
      "N. Storm  ->  N. Storm  |  ['N. Storm']\n",
      "M. Flock  ->  M. Flock  |  ['M. Flock']\n",
      "Y. Wang  ->  Y. Wang  |  ['Y. Wang']\n",
      "Y. Wang  ->  Y. Wang  |  ['Y. Wang']\n",
      "Y. Wang  ->  Y. Wang  |  ['Y. Wang']\n",
      "Arxiv has 118 new papers today\n",
      "          8 with possible author matches\n"
     ]
    }
   ],
   "source": [
    "new_papers = get_new_papers()\n",
    "# add manual references\n",
    "add_paper_refs = []\n",
    "new_papers.extend([get_paper_from_identifier(k) for k in add_paper_refs])\n",
    "\n",
    "def robust_call(fn, value, *args, **kwargs):\n",
    "    try:\n",
    "        return fn(value, *args, **kwargs)\n",
    "    except Exception:\n",
    "        return value\n",
    "\n",
    "candidates = []\n",
    "for paperk in new_papers:\n",
    "    # Check author list with their initials\n",
    "    normed_author_list = [robust_call(mpia.get_initials, k) for k in paperk['authors']]\n",
    "    hl_authors = highlight_authors_in_list(normed_author_list, mpia_authors, verbose=True)\n",
    "    matches = [(hl, orig) for hl, orig in zip(hl_authors, paperk['authors']) if 'mark' in hl]\n",
    "    paperk['authors'] = hl_authors\n",
    "    if matches:\n",
    "        # only select paper if an author matched our list\n",
    "        candidates.append(paperk)\n",
    "print(\"\"\"Arxiv has {0:,d} new papers today\"\"\".format(len(new_papers)))        \n",
    "print(\"\"\"          {0:,d} with possible author matches\"\"\".format(len(candidates)))"
   ]
  },
  {
   "cell_type": "markdown",
   "id": "3543b34a",
   "metadata": {
    "papermill": {
     "duration": 0.003313,
     "end_time": "2025-09-30T04:13:53.877273",
     "exception": false,
     "start_time": "2025-09-30T04:13:53.873960",
     "status": "completed"
    },
    "tags": []
   },
   "source": [
    "# Parse sources and generate relevant outputs\n",
    "\n",
    "From the candidates, we do the following steps:\n",
    "* get their tarball from ArXiv (and extract data)\n",
    "* find the main .tex file: find one with \\documentclass{...} (sometimes it's non trivial)\n",
    "* Check affiliations with :func:`validation`, which uses :func:`mpia.affiliation_verifications`\n",
    "* If passing the affiliations: we parse the .tex source\n",
    "   * inject sub-documents into the main (flatten the main document)\n",
    "   * parse structure, extract information (title, abstract, authors, figures...)\n",
    "   * handles `\\graphicspath` if provided\n",
    "* Generate the .md document."
   ]
  },
  {
   "cell_type": "code",
   "execution_count": 5,
   "id": "9576b79e",
   "metadata": {
    "execution": {
     "iopub.execute_input": "2025-09-30T04:13:53.884560Z",
     "iopub.status.busy": "2025-09-30T04:13:53.884331Z",
     "iopub.status.idle": "2025-09-30T04:15:42.406164Z",
     "shell.execute_reply": "2025-09-30T04:15:42.405317Z"
    },
    "papermill": {
     "duration": 108.526802,
     "end_time": "2025-09-30T04:15:42.407277",
     "exception": false,
     "start_time": "2025-09-30T04:13:53.880475",
     "status": "completed"
    },
    "scrolled": false,
    "tags": []
   },
   "outputs": [
    {
     "data": {
      "application/vnd.jupyter.widget-view+json": {
       "model_id": "fee2f1458ae64804b68d75378cadffc3",
       "version_major": 2,
       "version_minor": 0
      },
      "text/plain": [
       "  0%|          | 0/8 [00:00<?, ?it/s]"
      ]
     },
     "metadata": {},
     "output_type": "display_data"
    },
    {
     "name": "stdout",
     "output_type": "stream",
     "text": [
      "Retrieving document from  https://arxiv.org/e-print/2509.22789\n"
     ]
    },
    {
     "name": "stdout",
     "output_type": "stream",
     "text": [
      "extracting tarball to tmp_2509.22789... done.\n"
     ]
    },
    {
     "name": "stderr",
     "output_type": "stream",
     "text": [
      "/opt/hostedtoolcache/Python/3.9.23/x64/lib/python3.9/site-packages/IPython/core/interactiveshell.py:3550: LatexWarning: Multiple tex files.\n",
      "\n",
      "  exec(code_obj, self.user_global_ns, self.user_ns)\n",
      "/opt/hostedtoolcache/Python/3.9.23/x64/lib/python3.9/site-packages/IPython/core/interactiveshell.py:3550: LatexWarning: Found documentclass in tmp_2509.22789/main.tex\n",
      "\n",
      "  exec(code_obj, self.user_global_ns, self.user_ns)\n",
      "/opt/hostedtoolcache/Python/3.9.23/x64/lib/python3.9/site-packages/arxiv_on_deck_2/latex.py:414: LatexWarning: Latex injecting: 'catalog-table' from 'tmp_2509.22789/catalog-table.tex'\n",
      "  warnings.warn(LatexWarning(f\"Latex injecting: '{ext}' from '{subsource}'\"))\n",
      "/opt/hostedtoolcache/Python/3.9.23/x64/lib/python3.9/site-packages/arxiv_on_deck_2/latex.py:414: LatexWarning: Latex injecting: 'summary-table' from 'tmp_2509.22789/summary-table.tex'\n",
      "  warnings.warn(LatexWarning(f\"Latex injecting: '{ext}' from '{subsource}'\"))\n",
      "/opt/hostedtoolcache/Python/3.9.23/x64/lib/python3.9/site-packages/arxiv_on_deck_2/latex.py:414: LatexWarning: Latex injecting: 'intext-table' from 'tmp_2509.22789/intext-table.tex'\n",
      "  warnings.warn(LatexWarning(f\"Latex injecting: '{ext}' from '{subsource}'\"))\n",
      "/opt/hostedtoolcache/Python/3.9.23/x64/lib/python3.9/site-packages/arxiv_on_deck_2/latex.py:414: LatexWarning: Latex injecting: 'authors.tex' from 'tmp_2509.22789/authors.tex'\n",
      "  warnings.warn(LatexWarning(f\"Latex injecting: '{ext}' from '{subsource}'\"))\n"
     ]
    },
    {
     "name": "stdout",
     "output_type": "stream",
     "text": [
      "E. Schinnerer  ->  E. Schinnerer  |  ['E. Schinnerer']\n"
     ]
    },
    {
     "name": "stdout",
     "output_type": "stream",
     "text": [
      "Found 97 bibliographic references in tmp_2509.22789/main.bbl.\n",
      "Retrieving document from  https://arxiv.org/e-print/2509.23343\n"
     ]
    },
    {
     "name": "stdout",
     "output_type": "stream",
     "text": [
      "extracting tarball to tmp_2509.23343..."
     ]
    },
    {
     "name": "stdout",
     "output_type": "stream",
     "text": [
      " done.\n",
      "Retrieving document from  https://arxiv.org/e-print/2509.23901\n"
     ]
    },
    {
     "name": "stdout",
     "output_type": "stream",
     "text": [
      "extracting tarball to tmp_2509.23901..."
     ]
    },
    {
     "name": "stdout",
     "output_type": "stream",
     "text": [
      " done.\n",
      "Retrieving document from  https://arxiv.org/e-print/2509.24211\n"
     ]
    },
    {
     "name": "stdout",
     "output_type": "stream",
     "text": [
      "extracting tarball to tmp_2509.24211..."
     ]
    },
    {
     "name": "stdout",
     "output_type": "stream",
     "text": [
      " done.\n"
     ]
    },
    {
     "name": "stdout",
     "output_type": "stream",
     "text": [
      "R. Keenan  ->  R. Keenan  |  ['R. Keenan']\n"
     ]
    },
    {
     "name": "stdout",
     "output_type": "stream",
     "text": [
      "Found 83 bibliographic references in tmp_2509.24211/sample631.bbl.\n",
      "Error retrieving bib data for Pullen_2023: 'author'\n",
      "Error retrieving bib data for  timconstraints: 'timconstraints'\n",
      "Error retrieving bib data for Pullen_2018: 'author'\n",
      "Error retrieving bib data for Yang_2019: 'author'\n",
      "Error retrieving bib data for Pullen_2018: 'author'\n",
      "Retrieving document from  https://arxiv.org/e-print/2509.24555\n"
     ]
    },
    {
     "name": "stderr",
     "output_type": "stream",
     "text": [
      "/opt/hostedtoolcache/Python/3.9.23/x64/lib/python3.9/site-packages/arxiv_on_deck_2/latex_bib.py:132: UserWarning: Error processing bibitem\n",
      " item = \\bibitem[{Bracks {et~al.}(in prep.)Bracks, Keenan, Agrawal, Keating, Lidz, Aguirre,  {TIM Collaboration}}]{timconstraints}Bracks, J., Keenan, R., Agrawal, S., {et~al.} in prep., Forecasting CII Line Intensity Mapping in the Terahertz Regime via Cross-Correlation with the Galaxy Density Field\n",
      " regex = \n",
      "        \\\\bibitem(\\[[^\\[\\]]*?\\]){(?P<bibkey>[a-zA-Z0-9\\-\\+\\.\\S]+?)}(?P<authors>|([\\D]*?))(?P<year>[12][0-9]{3})(?P<rest>.*)\n",
      "        \n",
      "  warnings.warn(str(e))\n",
      "/opt/hostedtoolcache/Python/3.9.23/x64/lib/python3.9/site-packages/arxiv_on_deck_2/latex_bib.py:132: UserWarning: Error processing bibitem\n",
      " item = \\bibitem[{Keenan  {others}(in prep.)}]{keenan}Keenan, R.  {others}. in prep., Twelve Billion Years of [CII] - Forecasting and Optimizing FIR Spectroscopic Deep Fields\n",
      " regex = \n",
      "        \\\\bibitem(\\[[^\\[\\]]*?\\]){(?P<bibkey>[a-zA-Z0-9\\-\\+\\.\\S]+?)}(?P<authors>|([\\D]*?))(?P<year>[12][0-9]{3})(?P<rest>.*)\n",
      "        \n",
      "  warnings.warn(str(e))\n"
     ]
    },
    {
     "name": "stdout",
     "output_type": "stream",
     "text": [
      "extracting tarball to tmp_2509.24555... done.\n"
     ]
    },
    {
     "name": "stdout",
     "output_type": "stream",
     "text": [
      "P. Eitner  ->  P. Eitner  |  ['P. Eitner']\n",
      "M. Bergemann  ->  M. Bergemann  |  ['M. Bergemann']\n",
      "R. Hoppe  ->  R. Hoppe  |  ['R. Hoppe']\n",
      "N. Storm  ->  N. Storm  |  ['N. Storm']\n"
     ]
    },
    {
     "name": "stdout",
     "output_type": "stream",
     "text": [
      "Found 84 bibliographic references in tmp_2509.24555/aa55406-25.bbl.\n",
      "Issues with the citations\n",
      "syntax error in line 137: '=' expected\n",
      "Retrieving document from  https://arxiv.org/e-print/2509.24594\n"
     ]
    },
    {
     "name": "stdout",
     "output_type": "stream",
     "text": [
      "extracting tarball to tmp_2509.24594..."
     ]
    },
    {
     "name": "stdout",
     "output_type": "stream",
     "text": [
      " done.\n"
     ]
    },
    {
     "name": "stdout",
     "output_type": "stream",
     "text": [
      "M. Flock  ->  M. Flock  |  ['M. Flock']\n"
     ]
    },
    {
     "name": "stderr",
     "output_type": "stream",
     "text": [
      "/opt/hostedtoolcache/Python/3.9.23/x64/lib/python3.9/site-packages/arxiv_on_deck_2/latex.py:132: LatexWarning: attempting recovering figure sketch.pdf\n",
      "  warnings.warn(LatexWarning(f'attempting recovering figure {image}'))\n",
      "/opt/hostedtoolcache/Python/3.9.23/x64/lib/python3.9/site-packages/arxiv_on_deck_2/latex.py:707: LatexWarning: Could not find graphic \\includegraphics[width=0.91\\linewidth]{sketch.pdf}\n",
      "  warnings.warn(LatexWarning(f\"Could not find graphic {k}\"))\n",
      "/opt/hostedtoolcache/Python/3.9.23/x64/lib/python3.9/site-packages/arxiv_on_deck_2/latex.py:132: LatexWarning: attempting recovering figure dust_mass_density.pdf\n",
      "  warnings.warn(LatexWarning(f'attempting recovering figure {image}'))\n",
      "/opt/hostedtoolcache/Python/3.9.23/x64/lib/python3.9/site-packages/arxiv_on_deck_2/latex.py:707: LatexWarning: Could not find graphic \\includegraphics[width=\\linewidth]{dust_mass_density.pdf}\n",
      "  warnings.warn(LatexWarning(f\"Could not find graphic {k}\"))\n",
      "/opt/hostedtoolcache/Python/3.9.23/x64/lib/python3.9/site-packages/arxiv_on_deck_2/latex.py:132: LatexWarning: attempting recovering figure absorption_eff.pdf\n",
      "  warnings.warn(LatexWarning(f'attempting recovering figure {image}'))\n",
      "/opt/hostedtoolcache/Python/3.9.23/x64/lib/python3.9/site-packages/arxiv_on_deck_2/latex.py:707: LatexWarning: Could not find graphic \\includegraphics[width=\\linewidth]{absorption_eff.pdf}\n",
      "  warnings.warn(LatexWarning(f\"Could not find graphic {k}\"))\n",
      "/opt/hostedtoolcache/Python/3.9.23/x64/lib/python3.9/site-packages/arxiv_on_deck_2/latex.py:132: LatexWarning: attempting recovering figure thermal_vel_xy_100um.pdf\n",
      "  warnings.warn(LatexWarning(f'attempting recovering figure {image}'))\n",
      "/opt/hostedtoolcache/Python/3.9.23/x64/lib/python3.9/site-packages/arxiv_on_deck_2/latex.py:707: LatexWarning: Could not find graphic \\includegraphics[width=\\linewidth]{thermal_vel_xy_100um.pdf}\n",
      "  warnings.warn(LatexWarning(f\"Could not find graphic {k}\"))\n",
      "/opt/hostedtoolcache/Python/3.9.23/x64/lib/python3.9/site-packages/arxiv_on_deck_2/latex.py:132: LatexWarning: attempting recovering figure thermal_vel_xy_1mm.pdf\n",
      "  warnings.warn(LatexWarning(f'attempting recovering figure {image}'))\n",
      "/opt/hostedtoolcache/Python/3.9.23/x64/lib/python3.9/site-packages/arxiv_on_deck_2/latex.py:707: LatexWarning: Could not find graphic \\includegraphics[width=\\linewidth]{thermal_vel_xy_1mm.pdf}\n",
      "  warnings.warn(LatexWarning(f\"Could not find graphic {k}\"))\n",
      "/opt/hostedtoolcache/Python/3.9.23/x64/lib/python3.9/site-packages/arxiv_on_deck_2/latex.py:132: LatexWarning: attempting recovering figure pol_rad_i45_100um.pdf\n",
      "  warnings.warn(LatexWarning(f'attempting recovering figure {image}'))\n",
      "/opt/hostedtoolcache/Python/3.9.23/x64/lib/python3.9/site-packages/arxiv_on_deck_2/latex.py:707: LatexWarning: Could not find graphic \\includegraphics[width=\\linewidth]{pol_rad_i45_100um.pdf}\n",
      "  warnings.warn(LatexWarning(f\"Could not find graphic {k}\"))\n",
      "/opt/hostedtoolcache/Python/3.9.23/x64/lib/python3.9/site-packages/arxiv_on_deck_2/latex.py:132: LatexWarning: attempting recovering figure pol_rad_i45_1mm.pdf\n",
      "  warnings.warn(LatexWarning(f'attempting recovering figure {image}'))\n",
      "/opt/hostedtoolcache/Python/3.9.23/x64/lib/python3.9/site-packages/arxiv_on_deck_2/latex.py:707: LatexWarning: Could not find graphic \\includegraphics[width=\\linewidth]{pol_rad_i45_1mm.pdf}\n",
      "  warnings.warn(LatexWarning(f\"Could not find graphic {k}\"))\n",
      "/opt/hostedtoolcache/Python/3.9.23/x64/lib/python3.9/site-packages/arxiv_on_deck_2/latex.py:132: LatexWarning: attempting recovering figure pol_rad_i45_selfsca.pdf\n",
      "  warnings.warn(LatexWarning(f'attempting recovering figure {image}'))\n",
      "/opt/hostedtoolcache/Python/3.9.23/x64/lib/python3.9/site-packages/arxiv_on_deck_2/latex.py:707: LatexWarning: Could not find graphic \\includegraphics[width=\\linewidth]{pol_rad_i45_selfsca.pdf}\n",
      "  warnings.warn(LatexWarning(f\"Could not find graphic {k}\"))\n",
      "/opt/hostedtoolcache/Python/3.9.23/x64/lib/python3.9/site-packages/arxiv_on_deck_2/latex.py:132: LatexWarning: attempting recovering figure sb_a1mm_i45_w10mm_zoom.pdf\n",
      "  warnings.warn(LatexWarning(f'attempting recovering figure {image}'))\n",
      "/opt/hostedtoolcache/Python/3.9.23/x64/lib/python3.9/site-packages/arxiv_on_deck_2/latex.py:707: LatexWarning: Could not find graphic \\includegraphics[width=\\linewidth]{sb_a1mm_i45_w10mm_zoom.pdf}\n",
      "  warnings.warn(LatexWarning(f\"Could not find graphic {k}\"))\n",
      "/opt/hostedtoolcache/Python/3.9.23/x64/lib/python3.9/site-packages/arxiv_on_deck_2/latex.py:132: LatexWarning: attempting recovering figure sb_selfsca_i45_w10mm_zoom.pdf\n",
      "  warnings.warn(LatexWarning(f'attempting recovering figure {image}'))\n",
      "/opt/hostedtoolcache/Python/3.9.23/x64/lib/python3.9/site-packages/arxiv_on_deck_2/latex.py:707: LatexWarning: Could not find graphic \\includegraphics[width=\\linewidth]{sb_selfsca_i45_w10mm_zoom.pdf}\n",
      "  warnings.warn(LatexWarning(f\"Could not find graphic {k}\"))\n",
      "/opt/hostedtoolcache/Python/3.9.23/x64/lib/python3.9/site-packages/arxiv_on_deck_2/latex.py:132: LatexWarning: attempting recovering figure sb_a1mm_i45_w3mm.pdf\n",
      "  warnings.warn(LatexWarning(f'attempting recovering figure {image}'))\n",
      "/opt/hostedtoolcache/Python/3.9.23/x64/lib/python3.9/site-packages/arxiv_on_deck_2/latex.py:707: LatexWarning: Could not find graphic \\includegraphics[width=\\linewidth]{sb_a1mm_i45_w3mm.pdf}\n",
      "  warnings.warn(LatexWarning(f\"Could not find graphic {k}\"))\n",
      "/opt/hostedtoolcache/Python/3.9.23/x64/lib/python3.9/site-packages/arxiv_on_deck_2/latex.py:132: LatexWarning: attempting recovering figure sb_selfsca_i45_w3mm.pdf\n",
      "  warnings.warn(LatexWarning(f'attempting recovering figure {image}'))\n",
      "/opt/hostedtoolcache/Python/3.9.23/x64/lib/python3.9/site-packages/arxiv_on_deck_2/latex.py:707: LatexWarning: Could not find graphic \\includegraphics[width=\\linewidth]{sb_selfsca_i45_w3mm.pdf}\n",
      "  warnings.warn(LatexWarning(f\"Could not find graphic {k}\"))\n",
      "/opt/hostedtoolcache/Python/3.9.23/x64/lib/python3.9/site-packages/arxiv_on_deck_2/latex.py:132: LatexWarning: attempting recovering figure sb_model_st1e+0_a1mm_i45_w10mm.pdf\n",
      "  warnings.warn(LatexWarning(f'attempting recovering figure {image}'))\n",
      "/opt/hostedtoolcache/Python/3.9.23/x64/lib/python3.9/site-packages/arxiv_on_deck_2/latex.py:707: LatexWarning: Could not find graphic \\includegraphics[width=0.991\\linewidth]{sb_model_st1e+0_a1mm_i45_w10mm.pdf}\n",
      "  warnings.warn(LatexWarning(f\"Could not find graphic {k}\"))\n",
      "/opt/hostedtoolcache/Python/3.9.23/x64/lib/python3.9/site-packages/arxiv_on_deck_2/latex.py:132: LatexWarning: attempting recovering figure sb_model_st1e+1_a1mm_i45_w10mm.pdf\n",
      "  warnings.warn(LatexWarning(f'attempting recovering figure {image}'))\n",
      "/opt/hostedtoolcache/Python/3.9.23/x64/lib/python3.9/site-packages/arxiv_on_deck_2/latex.py:707: LatexWarning: Could not find graphic \\includegraphics[width=0.991\\linewidth]{sb_model_st1e+1_a1mm_i45_w10mm.pdf}\n",
      "  warnings.warn(LatexWarning(f\"Could not find graphic {k}\"))\n",
      "/opt/hostedtoolcache/Python/3.9.23/x64/lib/python3.9/site-packages/arxiv_on_deck_2/latex.py:132: LatexWarning: attempting recovering figure average_dust_temperature.pdf\n",
      "  warnings.warn(LatexWarning(f'attempting recovering figure {image}'))\n",
      "/opt/hostedtoolcache/Python/3.9.23/x64/lib/python3.9/site-packages/arxiv_on_deck_2/latex.py:707: LatexWarning: Could not find graphic \\includegraphics[width=\\linewidth]{average_dust_temperature.pdf}\n",
      "  warnings.warn(LatexWarning(f\"Could not find graphic {k}\"))\n",
      "/opt/hostedtoolcache/Python/3.9.23/x64/lib/python3.9/site-packages/arxiv_on_deck_2/latex.py:132: LatexWarning: attempting recovering figure omega_ds.pdf\n",
      "  warnings.warn(LatexWarning(f'attempting recovering figure {image}'))\n",
      "/opt/hostedtoolcache/Python/3.9.23/x64/lib/python3.9/site-packages/arxiv_on_deck_2/latex.py:707: LatexWarning: Could not find graphic \\includegraphics[width=\\linewidth]{omega_ds.pdf}\n",
      "  warnings.warn(LatexWarning(f\"Could not find graphic {k}\"))\n",
      "/opt/hostedtoolcache/Python/3.9.23/x64/lib/python3.9/site-packages/arxiv_on_deck_2/latex.py:132: LatexWarning: attempting recovering figure sb_a100um_i45_w1.3mm.pdf\n",
      "  warnings.warn(LatexWarning(f'attempting recovering figure {image}'))\n",
      "/opt/hostedtoolcache/Python/3.9.23/x64/lib/python3.9/site-packages/arxiv_on_deck_2/latex.py:707: LatexWarning: Could not find graphic \\includegraphics[width=\\linewidth]{sb_a100um_i45_w1.3mm.pdf}\n",
      "  warnings.warn(LatexWarning(f\"Could not find graphic {k}\"))\n",
      "/opt/hostedtoolcache/Python/3.9.23/x64/lib/python3.9/site-packages/arxiv_on_deck_2/latex.py:132: LatexWarning: attempting recovering figure sb_a1mm_i45_w10mm.pdf\n",
      "  warnings.warn(LatexWarning(f'attempting recovering figure {image}'))\n",
      "/opt/hostedtoolcache/Python/3.9.23/x64/lib/python3.9/site-packages/arxiv_on_deck_2/latex.py:707: LatexWarning: Could not find graphic \\includegraphics[width=\\linewidth]{sb_a1mm_i45_w10mm.pdf}\n",
      "  warnings.warn(LatexWarning(f\"Could not find graphic {k}\"))\n",
      "/opt/hostedtoolcache/Python/3.9.23/x64/lib/python3.9/site-packages/arxiv_on_deck_2/latex.py:132: LatexWarning: attempting recovering figure sb_selfsca_i45_w1.3mm.pdf\n",
      "  warnings.warn(LatexWarning(f'attempting recovering figure {image}'))\n",
      "/opt/hostedtoolcache/Python/3.9.23/x64/lib/python3.9/site-packages/arxiv_on_deck_2/latex.py:707: LatexWarning: Could not find graphic \\includegraphics[width=\\linewidth]{sb_selfsca_i45_w1.3mm.pdf}\n",
      "  warnings.warn(LatexWarning(f\"Could not find graphic {k}\"))\n",
      "/opt/hostedtoolcache/Python/3.9.23/x64/lib/python3.9/site-packages/arxiv_on_deck_2/latex.py:132: LatexWarning: attempting recovering figure sb_selfsca_i45_w10mm.pdf\n",
      "  warnings.warn(LatexWarning(f'attempting recovering figure {image}'))\n",
      "/opt/hostedtoolcache/Python/3.9.23/x64/lib/python3.9/site-packages/arxiv_on_deck_2/latex.py:707: LatexWarning: Could not find graphic \\includegraphics[width=\\linewidth]{sb_selfsca_i45_w10mm.pdf}\n",
      "  warnings.warn(LatexWarning(f\"Could not find graphic {k}\"))\n",
      "/opt/hostedtoolcache/Python/3.9.23/x64/lib/python3.9/site-packages/arxiv_on_deck_2/latex.py:132: LatexWarning: attempting recovering figure s.pdf\n",
      "  warnings.warn(LatexWarning(f'attempting recovering figure {image}'))\n",
      "/opt/hostedtoolcache/Python/3.9.23/x64/lib/python3.9/site-packages/arxiv_on_deck_2/latex.py:707: LatexWarning: Could not find graphic \\includegraphics[width=0.98\\linewidth]{s.pdf}\n",
      "  warnings.warn(LatexWarning(f\"Could not find graphic {k}\"))\n",
      "/opt/hostedtoolcache/Python/3.9.23/x64/lib/python3.9/site-packages/arxiv_on_deck_2/latex.py:132: LatexWarning: attempting recovering figure hist_theta.pdf\n",
      "  warnings.warn(LatexWarning(f'attempting recovering figure {image}'))\n",
      "/opt/hostedtoolcache/Python/3.9.23/x64/lib/python3.9/site-packages/arxiv_on_deck_2/latex.py:707: LatexWarning: Could not find graphic \\includegraphics[width=0.92\\textwidth]{hist_theta.pdf}\n",
      "  warnings.warn(LatexWarning(f\"Could not find graphic {k}\"))\n",
      "/opt/hostedtoolcache/Python/3.9.23/x64/lib/python3.9/site-packages/arxiv_on_deck_2/latex.py:132: LatexWarning: attempting recovering figure drift_velocity.pdf\n",
      "  warnings.warn(LatexWarning(f'attempting recovering figure {image}'))\n",
      "/opt/hostedtoolcache/Python/3.9.23/x64/lib/python3.9/site-packages/arxiv_on_deck_2/latex.py:707: LatexWarning: Could not find graphic \\includegraphics[width=\\linewidth]{drift_velocity.pdf}\n",
      "  warnings.warn(LatexWarning(f\"Could not find graphic {k}\"))\n"
     ]
    },
    {
     "name": "stdout",
     "output_type": "stream",
     "text": [
      "Found 110 bibliographic references in tmp_2509.24594/main.bbl.\n",
      "Issues with the citations\n",
      "syntax error in line 5: unbalanced braces\n",
      "Retrieving document from  https://arxiv.org/e-print/2509.25018\n"
     ]
    },
    {
     "name": "stdout",
     "output_type": "stream",
     "text": [
      "extracting tarball to tmp_2509.25018..."
     ]
    },
    {
     "name": "stdout",
     "output_type": "stream",
     "text": [
      " done.\n",
      "Retrieving document from  https://arxiv.org/e-print/2509.25021\n"
     ]
    },
    {
     "name": "stdout",
     "output_type": "stream",
     "text": [
      "extracting tarball to tmp_2509.25021..."
     ]
    },
    {
     "name": "stdout",
     "output_type": "stream",
     "text": [
      " done.\n"
     ]
    }
   ],
   "source": [
    "documents = []\n",
    "failed = []\n",
    "for paper in tqdm(candidates):\n",
    "    # debug crap\n",
    "    paper['identifier'] = paper['identifier'].lower().replace('arxiv:', '').replace(r'\\n', '').strip()\n",
    "    paper_id = paper['identifier']\n",
    "    \n",
    "    folder = f'tmp_{paper_id}'\n",
    "\n",
    "    try:\n",
    "        if not os.path.isdir(folder):\n",
    "            folder = retrieve_document_source(f\"{paper_id}\", f'tmp_{paper_id}')\n",
    "        \n",
    "        try:\n",
    "            doc = latex.LatexDocument(folder, validation=validation)    \n",
    "        except AffiliationError as affilerror:\n",
    "            msg = f\"ArXiv:{paper_id:s} is not an MPIA paper... \" + str(affilerror)\n",
    "            failed.append((paper, \"affiliation error: \" + str(affilerror) ))\n",
    "            continue\n",
    "        \n",
    "        # Hack because sometimes author parsing does not work well\n",
    "        if (len(doc.authors) != len(paper['authors'])):\n",
    "            doc._authors = paper['authors']\n",
    "        else:\n",
    "            # highlight authors (FIXME: doc.highlight_authors)\n",
    "            # done on arxiv paper already\n",
    "            doc._authors = highlight_authors_in_list(\n",
    "                [get_initials(k) for k in doc.authors], \n",
    "                mpia_authors, verbose=True)\n",
    "        if (doc.abstract) in (None, ''):\n",
    "            doc._abstract = paper['abstract']\n",
    "            \n",
    "        doc.comment = (get_markdown_badge(paper_id) + \n",
    "                       \"<mark>Appeared on: \" + paper['date'] + \"</mark> - \")\n",
    "        if paper['comments']:\n",
    "            doc.comment += \" _\" + paper['comments'] + \"_\"\n",
    "        \n",
    "        full_md = doc.generate_markdown_text()\n",
    "        \n",
    "        full_md += get_markdown_qrcode(paper_id)\n",
    "        \n",
    "        # replace citations\n",
    "        try:\n",
    "            bibdata = latex_bib.LatexBib.from_doc(doc)\n",
    "            full_md = latex_bib.replace_citations(full_md, bibdata)\n",
    "        except Exception as e:\n",
    "            print(\"Issues with the citations\")\n",
    "            print(e)\n",
    "        \n",
    "        documents.append((paper_id, full_md))\n",
    "    except Exception as e:\n",
    "        warnings.warn(latex.LatexWarning(f\"{paper_id:s} did not run properly\\n\" +\n",
    "                                         str(e)\n",
    "                                        ))\n",
    "        failed.append((paper, \"latex error \" + str(e)))"
   ]
  },
  {
   "cell_type": "markdown",
   "id": "2505a25c",
   "metadata": {
    "papermill": {
     "duration": 0.004633,
     "end_time": "2025-09-30T04:15:42.416815",
     "exception": false,
     "start_time": "2025-09-30T04:15:42.412182",
     "status": "completed"
    },
    "tags": []
   },
   "source": [
    "### Export the logs\n",
    "\n",
    "Throughout, we also keep track of the logs per paper. see `logs-{today date}.md` "
   ]
  },
  {
   "cell_type": "code",
   "execution_count": 6,
   "id": "d733828a",
   "metadata": {
    "execution": {
     "iopub.execute_input": "2025-09-30T04:15:42.426912Z",
     "iopub.status.busy": "2025-09-30T04:15:42.426657Z",
     "iopub.status.idle": "2025-09-30T04:15:42.446402Z",
     "shell.execute_reply": "2025-09-30T04:15:42.445813Z"
    },
    "papermill": {
     "duration": 0.026081,
     "end_time": "2025-09-30T04:15:42.447386",
     "exception": false,
     "start_time": "2025-09-30T04:15:42.421305",
     "status": "completed"
    },
    "scrolled": false,
    "tags": []
   },
   "outputs": [
    {
     "data": {
      "text/markdown": [
       "## Successful papers"
      ],
      "text/plain": [
       "<IPython.core.display.Markdown object>"
      ]
     },
     "metadata": {},
     "output_type": "display_data"
    },
    {
     "data": {
      "text/markdown": [
       "\n",
       "|||\n",
       "|---:|:---|\n",
       "| [![arXiv](https://img.shields.io/badge/arXiv-2509.22789-b31b1b.svg)](https://arxiv.org/abs/2509.22789) | **Masses, Star-Formation Efficiencies, and Dynamical Evolution of 18,000 HII Regions**  |\n",
       "|| D. Pathak, et al. -- incl., <mark>E. Schinnerer</mark> |\n",
       "|*Appeared on*| *2025-09-30*|\n",
       "|*Comments*| *Accepted for publication in ApJL; main text: 13 pages, 4 figures, 1 table*|\n",
       "|**Abstract**|            We present measurements of the masses associated with $\\sim18,000$ HII regions across 19 nearby star-forming galaxies by combining data from JWST, HST, MUSE, ALMA, VLA, and MeerKAT from the multi-wavelength PHANGS survey. We report 10 pc-scale measurements of the mass of young stars, ionized gas, and older disk stars coincident with each HII region, as well as the initial and current mass of molecular gas, atomic gas, and swept-up shell material, estimated from lower resolution data. We find that the mass of older stars dominates over young stars at $\\gtrsim10\\rm\\,pc$ scales, and ionized gas exceeds the stellar mass in most optically bright HII regions. Combining our mass measurements for a statistically large sample of HII regions, we derive 10 pc scale star-formation efficiencies $\\approx6{-}17\\%$ for individual HII regions. Comparing each region's self-gravity with the ambient ISM pressure and total pressure from pre-supernova stellar feedback, we show that most optically bright HII regions are over-pressured relative to their own self-gravity and the ambient ISM pressure, and that they are hence likely expanding into their surroundings. Larger HII regions in galaxy centers approach dynamical equilibrium. The self-gravity of regions is expected to dominate over pre-supernova stellar feedback pressure at $\\gtrsim130\\rm\\,pc$ and $60\\rm\\,pc$ scales in galaxy disks and centers, respectively, but is always sub-dominant to the ambient ISM pressure on HII region scales. Our measurements have direct implications for the dynamical evolution of star-forming regions and the efficiency of stellar feedback in ionizing and clearing cold gas.         |"
      ],
      "text/plain": [
       "[2509.22789] Masses, Star-Formation Efficiencies, and Dynamical Evolution of 18,000 HII Regions\n",
       "\tD. Pathak, et al. -- incl., <mark>E. Schinnerer</mark>"
      ]
     },
     "metadata": {},
     "output_type": "display_data"
    },
    {
     "data": {
      "text/markdown": [
       "\n",
       "|||\n",
       "|---:|:---|\n",
       "| [![arXiv](https://img.shields.io/badge/arXiv-2509.24211-b31b1b.svg)](https://arxiv.org/abs/2509.24211) | **Far-infrared lines hidden in archival deep multi-wavelength surveys: Limits on [CII]-158$μ$m at $z \\sim 0.3-2.9$**  |\n",
       "|| S. Agrawal, J. Aguirre, <mark>R. Keenan</mark> |\n",
       "|*Appeared on*| *2025-09-30*|\n",
       "|*Comments*| *Submitted to Astronomy & Astrophysics on July 19, 2025*|\n",
       "|**Abstract**|            Singly-ionized carbon is theorized to be the brightest emission line feature in star-forming galaxies, and hence an excellent tracer of the evolution of cosmic star formation. Archival maps from far-infrared and sub-millimeter surveys potentially contain the redshifted [CII]-158$\\mu$m, hidden in the much brighter continuum emission. We present a search for aggregate [CII]-158$\\mu$m line emission across the predicted peak of star formation history by tomographically stacking a high-completeness galaxy catalog on broadband deep maps of the COSMOS field and constraining residual excess emission after subtracting the continuum spectral energy distribution (SED). We obtain constraints on the sky-averaged [CII]-158$\\mu$m signal from the three Herschel/SPIRE maps: $11.8\\pm10.2$, $11.0\\pm8.7$, $9.6\\pm9.8$, and $9.2\\pm6.6$ $k$Jy/sr at redshifts $z\\sim 0.65$, $\\sim1.3$, $\\sim2.1$, and $\\sim2.6$ respectively, corresponding to $1-1.4\\sigma$ significance in each bin. Our $3\\sigma$ upper limits are in tension with past $z\\sim2.6$ results from cross-correlating SDSS-BOSS quasars with high-frequency Planck maps, and indicate a much less dramatic evolution ($\\sim\\times7.5$) of mean [CII] intensity across the peak of star formation history than collisional excitation models or frameworks calibrated to the tentative PlanckxBOSS measurement. We discuss this tension, particularly in the context of in-development surveys (TIM, EXCLAIM) that will map this [CII] at high redshift resolution. Having demonstrated stacking in broadband deep surveys as a complementary methodology to next-generation spectrometers for line intensity mapping, our novel methods can be extended to upcoming galaxy surveys such as Euclid, as well as to place upper limits on fainter atomic and molecular lines.         |"
      ],
      "text/plain": [
       "[2509.24211] Far-infrared lines hidden in archival deep multi-wavelength surveys: Limits on [CII]-158$μ$m at $z \\sim 0.3-2.9$\n",
       "\tS. Agrawal, J. Aguirre, <mark>R. Keenan</mark>"
      ]
     },
     "metadata": {},
     "output_type": "display_data"
    },
    {
     "data": {
      "text/markdown": [
       "\n",
       "|||\n",
       "|---:|:---|\n",
       "| [![arXiv](https://img.shields.io/badge/arXiv-2509.24555-b31b1b.svg)](https://arxiv.org/abs/2509.24555) | **M3DIS - A grid of 3D radiation-hydrodynamics stellar atmosphere models for stellar surveys. II. Carbon-enhanced metal-poor stars**  |\n",
       "|| <mark>P. Eitner</mark>, et al. -- incl., <mark>M. Bergemann</mark>, <mark>R. Hoppe</mark>, <mark>N. Storm</mark> |\n",
       "|*Appeared on*| *2025-09-30*|\n",
       "|*Comments*| *16 pages, 13 figures, accepted by A&A*|\n",
       "|**Abstract**|            Understanding the origin and evolution of carbon-enhanced metal-poor (CEMP) stars is key to tracing the Galaxy's early chemical enrichment. We investigate how realistic 3D radiation-hydrodynamics (RHD) model atmospheres affect carbon abundances in CEMP stars and implications for their classification and Galactic chemical evolution (GCE). We focus on biases from traditional 1D hydrostatic models. We use the M3DIS code to compute 3D RHD model atmospheres for main-sequence and sub-giant stars over a wide range of metallicities and carbon enhancements. Synthetic spectra of the CH G-band are calculated with 3D radiative transfer and compared to spectra from classical 1D MARCS models. We derive abundance corrections and apply them to a large SAGA database sample to quantify effects on the carbon abundance distribution and CEMP classification. Our new 3D CEMP models predict cooler upper atmospheric layers than in 1D models, resulting in stronger CH absorption and lower inferred carbon abundances by up to -0.9 dex at the lowest metallicities. Carbon enhancement in the atmosphere itself increases molecular opacities and leads to radiative re-heating, partly offsetting adiabatic cooling in 3D models and reducing 3D-1D abundance corrections. Applying these corrections lowers the CEMP fraction by up to 20% below [Fe/H]=-3 and alters the relative contribution of CEMP sub-classes. The fraction of CEMP-no stars increases while the number of CEMP-r/s stars decreases, due to the downward revision of absolute carbon abundances. These changes bring the Galactic carbon distribution into better agreement with GCE models assuming a 20% contribution from faint supernovae. Realistic model atmospheres are essential to reliably reconstruct the Galaxy's early chemical enrichment history.         |"
      ],
      "text/plain": [
       "[2509.24555] M3DIS - A grid of 3D radiation-hydrodynamics stellar atmosphere models for stellar surveys. II. Carbon-enhanced metal-poor stars\n",
       "\t<mark>P. Eitner</mark>, et al. -- incl., <mark>M. Bergemann</mark>, <mark>R. Hoppe</mark>, <mark>N. Storm</mark>"
      ]
     },
     "metadata": {},
     "output_type": "display_data"
    },
    {
     "data": {
      "text/markdown": [
       "\n",
       "|||\n",
       "|---:|:---|\n",
       "| [![arXiv](https://img.shields.io/badge/arXiv-2509.24594-b31b1b.svg)](https://arxiv.org/abs/2509.24594) | **Polarization at millimeter wavelengths caused by drifting grains in protoplanetary disks**  |\n",
       "|| M. Lietzow-Sinjen, S. Reissl, <mark>M. Flock</mark>, S. Wolf |\n",
       "|*Appeared on*| *2025-09-30*|\n",
       "|*Comments*| *18 pages, 14 figures, to be published in Astronomy & Astrophysics (A&A)*|\n",
       "|**Abstract**|            During the evolution of protoplanetary disks, dust grains start to grow, form larger particles, settle to the midplane, and rearrange the disk, mainly by the inward radial drift. Because of this, dust pebbles with an irregular shape usually align mechanically and thus cause polarization signatures in their thermal radiation due to dichroic emission or absorption. The goal of this paper is to evaluate the potential to trace the impact of mechanical grain alignment in protoplanetary disks on the observed degree and orientation of linear polarization at millimeter wavelengths. We combined 3D radiation hydrodynamical simulations to determine the density distribution and the velocity field of gas and dust particles, Monte Carlo dust-gas interaction simulations to calculate the mechanical alignment of dust in a gas flow, and, finally, 3D Monte Carlo polarized radiative transfer simulations to obtain synthetic polarimetric observations. We find that large grains, which contribute the most to the net polarization, are potentially mechanically aligned in the protoplanetary disk under the effect of the vertical shear instability (VSI). Thereby, the drift velocity is parallel to the rotational disk axis. Assuming oblate dust grains that are aligned with their short axis parallel to the direction of the drift velocity, the resulting polarization is usually along the major axis of the disk. This is in contrast to typical drift models that propose either a radial or azimuthal drift velocity component. If hydrodynamical instabilities, such as the VSI, dominate the kinematics in protoplanetary disks, the mechanical alignment of dust is a promising mechanism for grain alignment in these systems. In that case, the resulting millimeter polarization allows us to trace the orientation of aligned millimeter-sized grains.         |"
      ],
      "text/plain": [
       "[2509.24594] Polarization at millimeter wavelengths caused by drifting grains in protoplanetary disks\n",
       "\tM. Lietzow-Sinjen, S. Reissl, <mark>M. Flock</mark>, S. Wolf"
      ]
     },
     "metadata": {},
     "output_type": "display_data"
    },
    {
     "data": {
      "text/markdown": [
       "## Failed papers"
      ],
      "text/plain": [
       "<IPython.core.display.Markdown object>"
      ]
     },
     "metadata": {},
     "output_type": "display_data"
    },
    {
     "data": {
      "text/markdown": [
       "\n",
       "|||\n",
       "|---:|:---|\n",
       "| [![arXiv](https://img.shields.io/badge/arXiv-2509.23343-b31b1b.svg)](https://arxiv.org/abs/2509.23343) | **Comological Prediction from the joint observation of MeerKAT and CSST at $z$ = 0.4 $\\sim$ 1.2**  |\n",
       "|| Y.-E. Jiang, et al. -- incl., <mark>M. Zhang</mark> |\n",
       "|*Appeared on*| *2025-09-30*|\n",
       "|*Comments*| *18 pages, 13 figures, and 1 table*|\n",
       "|**Abstract**|            Cross-correlating neutral hydrogen (HI) 21cm intensity mapping with galaxy surveys provides an effective probe of astrophysical and cosmological information. This work presents a cross-correlation analysis between MeerKAT single-dish HI intensity mapping and Chinese Space Station Survey Telescope (CSST) spectroscopic galaxy surveys in $z=0.4\\sim1.2$, which will share a survey area of several thousand square degrees. Utilizing Jiutian-1G cosmological simulation, we simulate the observational data of MeerKAT and CSST with survey areas from $\\sim1600$ to $600$ deg$^2$ at $z=0.5$, 0.7, and 1. The effects of beam pattern, polarization leakage, and different foregrounds in the MeerKAT HI intensity mapping are considered in the simulation. After employing foreground removal with the principal component analysis (PCA) method and performing signal compensation, we derive the cross-power spectra of MeerKAT and CSST. We perform the joint constraint using the CSST galaxy auto-power spectra and MeerKAT-CSST cross-power spectra with the least-squares fitting method. The constraint results show that, in the simulated survey area, the relative accuracy can achieve $6\\%\\sim 8\\%$ for the parameter products $\\Omega_{\\rm HI}b_{\\rm HI}b_{g}r_{\\rm HI,g}$ and $\\Omega_{\\rm HI}b_{\\rm HI}r_{\\rm HI,g}$ at the three redshifts, which is $3\\sim4$ times smaller than the current result. These findings indicate that the full MeerKAT-CSST joint observation with thousands of square degrees overlapping survey area can be a powerful probe of cosmic         |\n",
       "|<p style=\"color:green\"> **ERROR** </p>| <p style=\"color:green\">affiliation error: mpia.affiliation_verifications: '69117' keyword not found.</p> |"
      ],
      "text/plain": [
       "<IPython.core.display.Markdown object>"
      ]
     },
     "metadata": {},
     "output_type": "display_data"
    },
    {
     "data": {
      "text/markdown": [
       "\n",
       "|||\n",
       "|---:|:---|\n",
       "| [![arXiv](https://img.shields.io/badge/arXiv-2509.23901-b31b1b.svg)](https://arxiv.org/abs/2509.23901) | **Interpreting deep learning-based stellar mass estimation via causal analysis and mutual information decomposition**  |\n",
       "|| W. Zhang, et al. -- incl., <mark>Y. Wang</mark> |\n",
       "|*Appeared on*| *2025-09-30*|\n",
       "|*Comments*| *Accepted at Astronomy & Astrophysics; 23 + 12 pages; 8 + 16 figures*|\n",
       "|**Abstract**|            End-to-end deep learning models fed with multi-band galaxy images are powerful data-driven tools used to estimate galaxy physical properties in the absence of spectroscopy. However, due to a lack of interpretability and the associational nature of such models, it is difficult to understand how the information additional to integrated photometry (e.g., morphology) contributes to the estimation task. Improving our understanding in this field would enable further advances into unraveling the physical connections among galaxy properties and optimizing data exploitation. Therefore, our work is aimed at interpreting the deep learning-based estimation of stellar mass via two interpretability techniques: causal analysis and mutual information decomposition. The former reveals the causal paths between multiple variables beyond nondirectional statistical associations, while the latter quantifies the multicomponent contributions (i.e., redundant, unique, and synergistic) of different input data to the stellar mass estimation. Using data from the Sloan Digital Sky Survey (SDSS) and the Wide-field Infrared Survey Explorer (WISE), we obtained meaningful results that provide physical interpretations for image-based models. Our work demonstrates the gains from combining deep learning with interpretability techniques, and holds promise in promoting more data-driven astrophysical research (e.g., astrophysical parameter estimations and investigations on complex multivariate physical processes).         |\n",
       "|<p style=\"color:green\"> **ERROR** </p>| <p style=\"color:green\">affiliation error: mpia.affiliation_verifications: 'Heidelberg' keyword not found.</p> |"
      ],
      "text/plain": [
       "<IPython.core.display.Markdown object>"
      ]
     },
     "metadata": {},
     "output_type": "display_data"
    },
    {
     "data": {
      "text/markdown": [
       "\n",
       "|||\n",
       "|---:|:---|\n",
       "| [![arXiv](https://img.shields.io/badge/arXiv-2509.25018-b31b1b.svg)](https://arxiv.org/abs/2509.25018) | **CCAT: Mod-Cam Cryogenic Performance and its Impact on 280 GHz KID Array Noise**  |\n",
       "|| L. T. Lin, et al. -- incl., <mark>Y. Wang</mark>, <mark>Y. Wang</mark> |\n",
       "|*Appeared on*| *2025-09-30*|\n",
       "|*Comments*| *7 pages, 8 figures, Low temperature detector 2025 proceeding submitted to IEEE Transactions on Applied Superconductivity*|\n",
       "|**Abstract**|            The CCAT Observatory's Fred Young Submillimeter Telescope (FYST) is designed to observe submillimeter astronomical signals with high precision, using receivers fielding state-of-the-art kinetic inductance detector (KID) arrays. Mod-Cam, a first-light instrument for FYST, serves as a testbed for instrument module characterization, including detailed evaluation of thermal behavior under operating conditions prior to deploying modules in the larger Prime-Cam instrument. Prime-Cam is a first generation multi-band, wide-field camera for FYST, designed to field up to seven instrument modules and provide unprecedented sensitivity across a broad frequency range. We present results from two key laboratory characterizations: an \"optically open\" cooldown to validate the overall thermal performance of the cryostat, and a \"cold load\" cooldown to measure the effect of focal plane temperature stability on detector noise. During the optically open test, we achieved stable base temperatures of 1.5 K on the 1 K stage and 85 mK at the detector stage. In the cold load configuration, we measured a detector focal plane RMS temperature stability of 3.2e-5 K. From this stability measurement, we demonstrate that the equivalent power from focal plane thermal fluctuations is only 0.0040% of a 5pW incident photon power for aluminum detectors and 0.0023% for titanium-nitride detectors, a negligible level for CCAT science goals. This highlights the success of the cryogenic system design and thermal management.         |\n",
       "|<p style=\"color:green\"> **ERROR** </p>| <p style=\"color:green\">affiliation error: mpia.affiliation_verifications: 'Heidelberg' keyword not found.</p> |"
      ],
      "text/plain": [
       "<IPython.core.display.Markdown object>"
      ]
     },
     "metadata": {},
     "output_type": "display_data"
    },
    {
     "data": {
      "text/markdown": [
       "\n",
       "|||\n",
       "|---:|:---|\n",
       "| [![arXiv](https://img.shields.io/badge/arXiv-2509.25021-b31b1b.svg)](https://arxiv.org/abs/2509.25021) | **CCAT: Mod-Cam Readout Overview and Flexible Stripline Performance**  |\n",
       "|| B. Keller, et al. -- incl., <mark>Y. Wang</mark> |\n",
       "|*Appeared on*| *2025-09-30*|\n",
       "|*Comments*| *6 pages, 7 figures, submitted to LTD 2025 conference proceedings*|\n",
       "|**Abstract**|            The CCAT Observatory's first-light and commissioning instrument, Mod-Cam, is nearing readiness for deployment to the Fred Young Submillimeter Telescope (FYST) in the Atacama Desert in northern Chile. In-lab testing of Mod-Cam and the first CCAT instrument module, a 280 GHz broadband camera fielding over 10,000 kinetic inductance detectors (KIDs), is currently underway. CCAT's first-generation science instrument, Prime-Cam, will field approximately 100,000 KIDs across seven instrument modules. Like Mod-Cam, it employs 46 cm long low-thermal-conductivity flexible circuits (\"stripline\") between 4 K and 300 K to connect large arrays of multiplexed detectors in each instrument module to readout electronics. The 280 GHz camera currently installed in Mod-Cam uses six striplines to read out its over 10,000 detectors across 18 RF chains, each individual stripline containing six traces. In-lab testing thus far has allowed us to begin optimizing the attenuation in the readout chains for each of the three detector arrays in the 280 GHz module and demonstrate simultaneous readout of all networks using CCAT's RFSoC warm readout electronics. Here we present an overview of the Mod-Cam cold readout and discuss the stripline performance by investigating how its thermal conductivity impacts Mod-Cam and Prime-Cam cryogenic performance. We also report on stripline electrical transmission and crosstalk, identifying transition printed circuit boards (PCBs) as the dominant source of crosstalk. Using this result we outline design improvements to these PCBs that enhance isolation between readout networks.         |\n",
       "|<p style=\"color:green\"> **ERROR** </p>| <p style=\"color:green\">affiliation error: mpia.affiliation_verifications: 'Heidelberg' keyword not found.</p> |"
      ],
      "text/plain": [
       "<IPython.core.display.Markdown object>"
      ]
     },
     "metadata": {},
     "output_type": "display_data"
    }
   ],
   "source": [
    "import datetime\n",
    "today = str(datetime.date.today())\n",
    "logfile = f\"_build/html/logs/log-{today}.md\"\n",
    "\n",
    "\n",
    "with open(logfile, 'w') as logs:\n",
    "    # Success\n",
    "    logs.write(f'# Arxiv on Deck 2: Logs - {today}\\n\\n')\n",
    "    logs.write(\"\"\"* Arxiv had {0:,d} new papers\\n\"\"\".format(len(new_papers)))\n",
    "    logs.write(\"\"\"    * {0:,d} with possible author matches\\n\\n\"\"\".format(len(candidates)))\n",
    "    logs.write(\"## Sucessful papers\\n\\n\")\n",
    "    display(Markdown(\"## Successful papers\"))\n",
    "    success = [k[0] for k in documents]\n",
    "    for candid in candidates:\n",
    "        if candid['identifier'].split(':')[-1] in success:\n",
    "            display(candid)\n",
    "            logs.write(candid.generate_markdown_text() + '\\n\\n')\n",
    "\n",
    "    ## failed\n",
    "    logs.write(\"## Failed papers\\n\\n\")\n",
    "    display(Markdown(\"## Failed papers\"))\n",
    "    failed = sorted(failed, key=lambda x: x[1])\n",
    "    current_reason = \"\"\n",
    "    for paper, reason in failed:\n",
    "        if 'affiliation' in reason:\n",
    "            color = 'green'\n",
    "        else:\n",
    "            color = 'red'\n",
    "        data = Markdown(\n",
    "                paper.generate_markdown_text() + \n",
    "                f'\\n|<p style=\"color:{color:s}\"> **ERROR** </p>| <p style=\"color:{color:s}\">{reason:s}</p> |'\n",
    "               )\n",
    "        if reason != current_reason:\n",
    "            logs.write(f'### {reason:s} \\n\\n')\n",
    "            current_reason = reason\n",
    "        logs.write(data.data + '\\n\\n')\n",
    "        \n",
    "        # only display here the important errors (all in logs)\n",
    "        # if color in ('red',):\n",
    "        display(data)"
   ]
  },
  {
   "cell_type": "markdown",
   "id": "472d20ee",
   "metadata": {
    "papermill": {
     "duration": 0.005434,
     "end_time": "2025-09-30T04:15:42.458681",
     "exception": false,
     "start_time": "2025-09-30T04:15:42.453247",
     "status": "completed"
    },
    "tags": []
   },
   "source": [
    "## Export documents\n",
    "\n",
    "We now write the .md files and export relevant images"
   ]
  },
  {
   "cell_type": "code",
   "execution_count": 7,
   "id": "d426aed9",
   "metadata": {
    "execution": {
     "iopub.execute_input": "2025-09-30T04:15:42.470556Z",
     "iopub.status.busy": "2025-09-30T04:15:42.470321Z",
     "iopub.status.idle": "2025-09-30T04:15:42.477482Z",
     "shell.execute_reply": "2025-09-30T04:15:42.476783Z"
    },
    "papermill": {
     "duration": 0.014365,
     "end_time": "2025-09-30T04:15:42.478574",
     "exception": false,
     "start_time": "2025-09-30T04:15:42.464209",
     "status": "completed"
    },
    "tags": []
   },
   "outputs": [],
   "source": [
    "def export_markdown_summary(md: str, md_fname:str, directory: str):\n",
    "    \"\"\"Export MD document and associated relevant images\"\"\"\n",
    "    import os\n",
    "    import shutil\n",
    "    import re\n",
    "\n",
    "    if (os.path.exists(directory) and not os.path.isdir(directory)):\n",
    "        raise RuntimeError(f\"a non-directory file exists with name {directory:s}\")\n",
    "\n",
    "    if (not os.path.exists(directory)):\n",
    "        print(f\"creating directory {directory:s}\")\n",
    "        os.mkdir(directory)\n",
    "\n",
    "    fig_fnames = (re.compile(r'\\[Fig.*\\]\\((.*)\\)').findall(md) + \n",
    "                  re.compile(r'\\<img src=\"([^>\\s]*)\"[^>]*/>').findall(md))\n",
    "    print(\"found figures\", fig_fnames)\n",
    "    for fname in fig_fnames:\n",
    "        if 'http' in fname:\n",
    "            # No need to copy online figures\n",
    "            continue\n",
    "        if not os.path.exists(fname):\n",
    "            print(\"file not found\", fname)\n",
    "            continue\n",
    "        print(\"copying \", fname, \"to\", directory)\n",
    "        destdir = os.path.join(directory, os.path.dirname(fname))\n",
    "        destfname = os.path.join(destdir, os.path.basename(fname))\n",
    "        try:\n",
    "            os.makedirs(destdir)\n",
    "        except FileExistsError:\n",
    "            pass\n",
    "        shutil.copy(fname, destfname)\n",
    "    with open(os.path.join(directory, md_fname), 'w') as fout:\n",
    "        fout.write(md)\n",
    "    print(\"exported in \", os.path.join(directory, md_fname))\n",
    "    [print(\"    + \" + os.path.join(directory,fk)) for fk in fig_fnames]"
   ]
  },
  {
   "cell_type": "code",
   "execution_count": 8,
   "id": "014d04a4",
   "metadata": {
    "execution": {
     "iopub.execute_input": "2025-09-30T04:15:42.491157Z",
     "iopub.status.busy": "2025-09-30T04:15:42.490920Z",
     "iopub.status.idle": "2025-09-30T04:15:42.511570Z",
     "shell.execute_reply": "2025-09-30T04:15:42.510847Z"
    },
    "papermill": {
     "duration": 0.027901,
     "end_time": "2025-09-30T04:15:42.512686",
     "exception": false,
     "start_time": "2025-09-30T04:15:42.484785",
     "status": "completed"
    },
    "tags": []
   },
   "outputs": [
    {
     "name": "stdout",
     "output_type": "stream",
     "text": [
      "found figures ['tmp_2509.22789/./mass_violin_plots.png', 'tmp_2509.22789/./Mnew_MHII_MOld_MMol_vsRcirc.png', 'tmp_2509.22789/./M_vs_R_LHacorr.png', 'tmp_2509.22789/./SFE_est.png', 'tmp_2509.22789/./SFE_MMol_supplement2.png', 'tmp_2509.22789/./SFE_MMol_supplement.png']\n",
      "copying  tmp_2509.22789/./mass_violin_plots.png to _build/html/\n",
      "copying  tmp_2509.22789/./Mnew_MHII_MOld_MMol_vsRcirc.png to _build/html/\n",
      "copying  tmp_2509.22789/./M_vs_R_LHacorr.png to _build/html/\n",
      "copying  tmp_2509.22789/./SFE_est.png to _build/html/\n",
      "copying  tmp_2509.22789/./SFE_MMol_supplement2.png to _build/html/\n",
      "copying  tmp_2509.22789/./SFE_MMol_supplement.png to _build/html/\n",
      "exported in  _build/html/2509.22789.md\n",
      "    + _build/html/tmp_2509.22789/./mass_violin_plots.png\n",
      "    + _build/html/tmp_2509.22789/./Mnew_MHII_MOld_MMol_vsRcirc.png\n",
      "    + _build/html/tmp_2509.22789/./M_vs_R_LHacorr.png\n",
      "    + _build/html/tmp_2509.22789/./SFE_est.png\n",
      "    + _build/html/tmp_2509.22789/./SFE_MMol_supplement2.png\n",
      "    + _build/html/tmp_2509.22789/./SFE_MMol_supplement.png\n",
      "found figures ['tmp_2509.24211/./constraints.png', 'tmp_2509.24211/./filter_curves_main.png', 'tmp_2509.24211/./compare.png']\n",
      "copying  tmp_2509.24211/./constraints.png to _build/html/\n",
      "copying  tmp_2509.24211/./filter_curves_main.png to _build/html/\n",
      "copying  tmp_2509.24211/./compare.png to _build/html/\n",
      "exported in  _build/html/2509.24211.md\n",
      "    + _build/html/tmp_2509.24211/./constraints.png\n",
      "    + _build/html/tmp_2509.24211/./filter_curves_main.png\n",
      "    + _build/html/tmp_2509.24211/./compare.png\n",
      "found figures ['tmp_2509.24555/./plots/CEMP_t57.50g45.00m-5.000_v1.0_vs_CEMP_t52.50g30.00m-5.000_v1.0_all.png', 'tmp_2509.24555/./plots/yoon_beers_reduces_no_reclassification.png', 'tmp_2509.24555/./plots/CEMP_t57.50g45.00m-5.000_v1.0_structure_3D1D.png', 'tmp_2509.24555/./plots/CEMP_t52.50g30.00m-5.000_v1.0_structure_3D1D.png']\n",
      "copying  tmp_2509.24555/./plots/CEMP_t57.50g45.00m-5.000_v1.0_vs_CEMP_t52.50g30.00m-5.000_v1.0_all.png to _build/html/\n",
      "copying  tmp_2509.24555/./plots/yoon_beers_reduces_no_reclassification.png to _build/html/\n",
      "copying  tmp_2509.24555/./plots/CEMP_t57.50g45.00m-5.000_v1.0_structure_3D1D.png to _build/html/\n",
      "copying  tmp_2509.24555/./plots/CEMP_t52.50g30.00m-5.000_v1.0_structure_3D1D.png to _build/html/\n",
      "exported in  _build/html/2509.24555.md\n",
      "    + _build/html/tmp_2509.24555/./plots/CEMP_t57.50g45.00m-5.000_v1.0_vs_CEMP_t52.50g30.00m-5.000_v1.0_all.png\n",
      "    + _build/html/tmp_2509.24555/./plots/yoon_beers_reduces_no_reclassification.png\n",
      "    + _build/html/tmp_2509.24555/./plots/CEMP_t57.50g45.00m-5.000_v1.0_structure_3D1D.png\n",
      "    + _build/html/tmp_2509.24555/./plots/CEMP_t52.50g30.00m-5.000_v1.0_structure_3D1D.png\n",
      "found figures ['', '', '', '', '', '', '', '', '']\n",
      "file not found \n",
      "file not found \n",
      "file not found \n",
      "file not found \n",
      "file not found \n",
      "file not found \n",
      "file not found \n",
      "file not found \n",
      "file not found \n",
      "exported in  _build/html/2509.24594.md\n",
      "    + _build/html/\n",
      "    + _build/html/\n",
      "    + _build/html/\n",
      "    + _build/html/\n",
      "    + _build/html/\n",
      "    + _build/html/\n",
      "    + _build/html/\n",
      "    + _build/html/\n",
      "    + _build/html/\n"
     ]
    }
   ],
   "source": [
    "for paper_id, md in documents:\n",
    "    export_markdown_summary(md, f\"{paper_id:s}.md\", '_build/html/')"
   ]
  },
  {
   "cell_type": "markdown",
   "id": "f087a0a7",
   "metadata": {
    "papermill": {
     "duration": 0.005732,
     "end_time": "2025-09-30T04:15:42.524352",
     "exception": false,
     "start_time": "2025-09-30T04:15:42.518620",
     "status": "completed"
    },
    "tags": []
   },
   "source": [
    "## Display the papers\n",
    "\n",
    "Not necessary but allows for a quick check."
   ]
  },
  {
   "cell_type": "code",
   "execution_count": 9,
   "id": "fd25f625",
   "metadata": {
    "execution": {
     "iopub.execute_input": "2025-09-30T04:15:42.536492Z",
     "iopub.status.busy": "2025-09-30T04:15:42.536271Z",
     "iopub.status.idle": "2025-09-30T04:15:42.544491Z",
     "shell.execute_reply": "2025-09-30T04:15:42.543829Z"
    },
    "papermill": {
     "duration": 0.015337,
     "end_time": "2025-09-30T04:15:42.545426",
     "exception": false,
     "start_time": "2025-09-30T04:15:42.530089",
     "status": "completed"
    },
    "scrolled": false,
    "tags": []
   },
   "outputs": [
    {
     "data": {
      "text/markdown": [
       "<div class=\"macros\" style=\"visibility:hidden;\">\n",
       "$\\newcommand{\\ensuremath}{}$\n",
       "$\\newcommand{\\xspace}{}$\n",
       "$\\newcommand{\\object}[1]{\\texttt{#1}}$\n",
       "$\\newcommand{\\farcs}{{.}''}$\n",
       "$\\newcommand{\\farcm}{{.}'}$\n",
       "$\\newcommand{\\arcsec}{''}$\n",
       "$\\newcommand{\\arcmin}{'}$\n",
       "$\\newcommand{\\ion}[2]{#1#2}$\n",
       "$\\newcommand{\\textsc}[1]{\\textrm{#1}}$\n",
       "$\\newcommand{\\hl}[1]{\\textrm{#1}}$\n",
       "$\\newcommand{\\footnote}[1]{}$\n",
       "$\\newcommand{\\vdag}{(v)^\\dagger}$\n",
       "$\\newcommand$\n",
       "$\\newcommand$\n",
       "$\\newcommand$\n",
       "$\\newcommand$\n",
       "$\\newcommand$</div>\n",
       "\n",
       "\n",
       "\n",
       "<div id=\"title\">\n",
       "\n",
       "# Masses, Star-Formation Efficiencies, and Dynamical Evolution of 18,000 $\\ion{H}{2}$ Regions\n",
       "\n",
       "</div>\n",
       "<div id=\"comments\">\n",
       "\n",
       "[![arXiv](https://img.shields.io/badge/arXiv-2509.22789-b31b1b.svg)](https://arxiv.org/abs/2509.22789)<mark>Appeared on: 2025-09-30</mark> -  _Accepted for publication in ApJL; main text: 13 pages, 4 figures, 1 table_\n",
       "\n",
       "</div>\n",
       "<div id=\"authors\">\n",
       "\n",
       "D. Pathak, et al. -- incl., <mark>E. Schinnerer</mark>\n",
       "\n",
       "</div>\n",
       "<div id=\"abstract\">\n",
       "\n",
       "**Abstract:** We present measurements of the masses associated with $\\sim18,000$ $\\ion{H}{2}$ regions across 19 nearby star-forming galaxies by combining data from JWST, HST, MUSE, ALMA, VLA, and MeerKAT from the multi-wavelength PHANGS survey. We report 10 pc-scale measurements of the mass of young stars, ionized gas, $\\edit{and}$ older disk stars coincident with each $\\ion{H}{2}$ region, as well as the initial and current mass of molecular gas, atomic gas, and swept-up shell material $\\edit{, estimated from lower resolution data}$ . We find that the mass of older stars dominates over young stars at $\\gtrsim10\\rm pc$ scales, and ionized gas $\\edit{exceeds the stellar mass}$ in most optically bright $\\ion{H}{2}$ regions. Combining our mass measurements for a statistically large sample of $\\ion{H}{2}$ regions, we derive 10 pc scale star-formation efficiencies $\\approx6{-}17\\%$ for individual $\\ion{H}{2}$ regions. Comparing each region's self-gravity with the ambient ISM pressure and total pressure from pre-supernova stellar feedback, we show that most optically bright $\\ion{H}{2}$ regions are over-pressured relative to their own self-gravity and the ambient ISM pressure, and that they are hence likely expanding into their surroundings. Larger $\\ion{H}{2}$ regions in galaxy centers approach dynamical equilibrium. The self-gravity of regions is expected to dominate over $\\edit{pre-supernova stellar feedback pressure at $\\gtrsim130\\rm pc$ and $60\\rm pc$ scales}$ in galaxy disks and centers, respectively, $\\edit{but is always sub-dominant to the ambient ISM pressure on \\ion{H}{2} region scales}$ . Our measurements have direct implications for the dynamical evolution of star-forming regions and the efficiency of stellar feedback in ionizing and clearing cold gas.\n",
       "\n",
       "</div>\n",
       "\n",
       "<div id=\"div_fig1\">\n",
       "\n",
       "<img src=\"tmp_2509.22789/./mass_violin_plots.png\" alt=\"Fig1.1\" width=\"50%\"/><img src=\"tmp_2509.22789/./Mnew_MHII_MOld_MMol_vsRcirc.png\" alt=\"Fig1.2\" width=\"50%\"/>\n",
       "\n",
       "**Figure 1. -** The distribution of masses associated with our sample of $\\sim18,000$\\ion{H}{2} regions (solid violins) and the subsample of $\\sim 4,000$ regions where we can calculate [$\\ion${S}{2}] densities (dashed violins), including contribution from young clusters ($M_{\\rm New}$, in blue, see \\S\\ref{sec:estimating-MNew}), ionized gas mass ($M_{\\rm Ion}$; Strömgren in light green, [$\\ion${S}{2}]-emitting clump in dark green, see \\S\\ref{sec:estimating-MHII}), old stellar mass ($M_{\\rm Old}$; red, see \\S\\ref{sec:estimating-MOld}), initial molecular gas mass ($M_{\\rm Mol}^{\\rm init}$ in pink, \\S\\ref{sec:estimating-MMol}), and initial atomic gas mass ($M_{\\rm Atom}^{\\rm init}$ in gray, \\S\\ref{sec:other-mass-comps}) as violin plots with the median and $16^{\\rm th}{-}84^{\\rm th}$ range included. Below we show how $M_{\\rm New}$, $M_{\\rm Ion}$, $M_{\\rm Old}$, and $M_{\\rm Mol}^{\\rm init}$ scale with physical size ($R_{\\rm circ}$). Contours show the $16^{\\rm th}{/}25^{\\rm th}{/}50^{\\rm th}{/}75^{\\rm th}{/}84^{\\rm th}$ percentiles, and we include $\\log-\\log$ fits (bold lines, repeated as dashed lines in each panel) to the binned medians (hexagons), and the $16^{\\rm th}{-}84^{\\rm th}$ percentile scatter in each bin (error bars on hexagons). Attached to each scatter plot are stacked histograms of region masses for galaxy centers (orange) and disks (blue) \\citep[following][]{2021QUEREJETA}; the sample median (dashed line), and $16^{\\rm th}{-}84^{\\rm th}$ percentile range (hatches).\n",
       " (*fig:Mass-Terms-All4*)\n",
       "\n",
       "</div>\n",
       "<div id=\"div_fig2\">\n",
       "\n",
       "<img src=\"tmp_2509.22789/./M_vs_R_LHacorr.png\" alt=\"Fig2\" width=\"100%\"/>\n",
       "\n",
       "**Figure 2. -** Variation in the different mass components relative to the young cluster mass $M_{\\rm New}$ for the full sample of $\\ion${H}{2} regions, binned in $L_{\\rm H\\alpha}^{\\rm corr}$(top left) and $R_{\\rm circ}$(top right), and summarized as histograms (bottom left). $M_{\\rm Ion, SII}/M_{\\rm New}$(dark green) and $M_{\\rm Ion, Str\\ddot{o}mgren}/M_{\\rm New}$(light green), $M_{\\rm Old}/M_{\\rm New}$(red), $M_{\\rm Mol }^{\\rm init}/M_{\\rm New}$(dashed pink), and $M_{\\rm Atom}^{\\rm init}/M_{\\rm New}$(dashed gray) are included for comparison. The dashed line indicates where a mass component is equal to $M_{\\rm New}$. The bottom right panel includes the distribution of the measured $R_{\\rm circ}$(black), the estimated radius at which $M_{\\rm New} = M_{\\rm Mol}^{\\rm init}$(dashed pink), and radius where $M_{\\rm New} = M_{\\rm Old}$(red).\n",
       " (*fig:Mass-v-R-LHa*)\n",
       "\n",
       "</div>\n",
       "<div id=\"div_fig3\">\n",
       "\n",
       "<img src=\"tmp_2509.22789/./SFE_est.png\" alt=\"Fig3.1\" width=\"33%\"/><img src=\"tmp_2509.22789/./SFE_MMol_supplement2.png\" alt=\"Fig3.2\" width=\"33%\"/><img src=\"tmp_2509.22789/./SFE_MMol_supplement.png\" alt=\"Fig3.3\" width=\"33%\"/>\n",
       "\n",
       "**Figure 3. -** **Top:** Summarizing $\\ion${H}{2} region-scale SFEs. Data density contours for the $5^{\\rm th}{/}16^{\\rm th}{/}25^{\\rm th}{/}50^{\\rm th}{/}75^{\\rm th}{/}84^{\\rm th}{/}95^{\\rm th}$ percentile SFE using $M_{\\rm Ion, SII}$(dark green), $M_{\\rm Ion, Str\\ddot{o}mgren}$(light green), and $M_{\\rm Mol}^{\\rm init}$(purple). The full histogram and medians as before (dashed line, printed) for $M_{\\rm Ion, Str\\ddot{o}mgren}$ and $M_{\\rm Mol}^{\\rm init}$ are included. We also include the medians using $M_{\\rm Mol}^{\\rm init}$ at 90 and 60 pc resolution.\n",
       "\\edit{**Middle:** From left to right, the fraction of current gas and stars in young stars, the moderate correlation (Spearman $\\rho = 0.42$) and large scatter between $M_{\\rm New}$ and $ \\langle \\Sigma_{\\rm Mol} \\rangle_{150 \\rm   pc}$, and three estimates of $M_{\\rm New} / M_{\\rm Cloud}$ vs $ \\langle \\Sigma_{\\rm Mol} \\rangle_{150 \\rm   pc}$}.\n",
       "**Bottom:** From left to right, the fraction of initial gas seen in stars and ionized gas, fraction of depleted initial molecular gas in stars and ionized gas, statistical local depletion in molecular gas towards $\\ion${H}{2} regions at our fiducial 150 pc resolution, and finally the depletion for smaller samples (where available) at 90 pc (purple) and 60 pc (grey) resolution, relative to the dashed black 1:1 line.\n",
       " (*fig:SFE-est*)\n",
       "\n",
       "</div><div id=\"qrcode\"><img src=https://api.qrserver.com/v1/create-qr-code/?size=100x100&data=\"https://arxiv.org/abs/2509.22789\"></div>"
      ],
      "text/plain": [
       "<IPython.core.display.Markdown object>"
      ]
     },
     "metadata": {},
     "output_type": "display_data"
    },
    {
     "data": {
      "text/markdown": [
       "<div class=\"macros\" style=\"visibility:hidden;\">\n",
       "$\\newcommand{\\ensuremath}{}$\n",
       "$\\newcommand{\\xspace}{}$\n",
       "$\\newcommand{\\object}[1]{\\texttt{#1}}$\n",
       "$\\newcommand{\\farcs}{{.}''}$\n",
       "$\\newcommand{\\farcm}{{.}'}$\n",
       "$\\newcommand{\\arcsec}{''}$\n",
       "$\\newcommand{\\arcmin}{'}$\n",
       "$\\newcommand{\\ion}[2]{#1#2}$\n",
       "$\\newcommand{\\textsc}[1]{\\textrm{#1}}$\n",
       "$\\newcommand{\\hl}[1]{\\textrm{#1}}$\n",
       "$\\newcommand{\\footnote}[1]{}$\n",
       "$\\newcommand$\n",
       "$\\newcommand$\n",
       "$\\newcommand$\n",
       "$\\newcommand$\n",
       "$\\newcommand$\n",
       "$\\newcommand$\n",
       "$\\newcommand$\n",
       "$\\newcommand$\n",
       "$\\newcommand$\n",
       "$\\newcommand$\n",
       "$\\newcommand$\n",
       "$\\newcommand$\n",
       "$\\newcommand{\\linsimstackns}{\\texttt{LinSimStack}}$\n",
       "$\\newcommand{\\linsimstack}{\\linsimstackns\\;}$\n",
       "$\\newcommand{\\mum}{{\\ensuremath{\\mu \\mathrm{m}}}}$\n",
       "$\\newcommand{\\reviewEditOne}[1]{#1}$</div>\n",
       "\n",
       "\n",
       "\n",
       "<div id=\"title\">\n",
       "\n",
       "# Far-infrared lines hidden in archival deep multi-wavelength surveys: Limits on $\\ciium$ at $z\\sim 0.3-2.9$\n",
       "\n",
       "</div>\n",
       "<div id=\"comments\">\n",
       "\n",
       "[![arXiv](https://img.shields.io/badge/arXiv-2509.24211-b31b1b.svg)](https://arxiv.org/abs/2509.24211)<mark>Appeared on: 2025-09-30</mark> -  _Submitted to Astronomy & Astrophysics on July 19, 2025_\n",
       "\n",
       "</div>\n",
       "<div id=\"authors\">\n",
       "\n",
       "S. Agrawal, J. Aguirre, <mark>R. Keenan</mark>\n",
       "\n",
       "</div>\n",
       "<div id=\"abstract\">\n",
       "\n",
       "**Abstract:** _Context:_ Singly-ionized carbon $\\cii$ is theorized to be the brightest emission line feature in star-forming galaxies, and hence an excellent tracer of the evolution of cosmic star formation. Archival maps from far-infrared and sub-millimeter surveys potentially contain the redshifted $\\ciiumns$ , hidden in the much-brighter continuum emission. _Aim:_ We present a search for aggregate $\\ciium$ line emission across the predicted peak of star formation history by tomographically stacking a high-completeness galaxy catalog on broadband deep maps of the COSMOS field and constraining residual excess emission after subtracting the continuum spectral energy distribution (SED). _Methods:_ The COSMOS equatorial $2\\deg^2$ patch has been mapped by _Spitzer_ , _Herschel_ , and SCUBA2/JCMT. With the high precision UV-O-IR photometry catalog COSMOS2020, we perform unbiased simultaneous stacking of $\\sim360,000$ photometric redshifts on these confusion-limited maps to resolve the sub-THz radiation background.By subtracting an continuum SED model with conservative uncertainty estimation and completeness correction through comparison to the _COBE_ /FIRAS monopole spectrum, we obtain tomographic constraints on the sky-averaged $\\ciium$ signal within the three SPIRE maps: $11.8 \\pm 10.2$ , $11.0 \\pm 8.7$ , $9.6 \\pm 9.8$ , and $9.2 \\pm 6.6$ $k$ Jy/sr at redshifts $z\\sim 0.65$ , $\\sim1.3$ , $\\sim2.1$ , and $\\sim2.6$ respectively, corresponding to $1-1.4\\sigma$ significance in each bin. _Results:_ Our $3\\sigma$ upper limits are in tension with past $z\\sim 2.6$ results from cross-correlating SDSS-BOSS quasars with high-frequency _Planck_ maps, and indicate a much less dramatic evolution ( $\\sim\\times 7.5$ ) of mean $\\cii$ intensity across the peak of star formation history than collisional excitation models or frameworks calibrated to the tentative _Planck_ xBOSS measurement. We discuss this tension, particularly in the context of in-development surveys (TIM, EXCLAIM) that will map this $\\cii$ at high redshift resolution. _Conclusion:_ Having demonstrated stacking in broadband deep surveys as a complementary methodology to next-generation spectrometers for line intensity mapping, our novel methods can be extended to upcoming galaxy surveys such as _Euclid_ , as well as to place upper limits on fainter atomic and molecular lines.\n",
       "\n",
       "</div>\n",
       "\n",
       "<div id=\"div_fig1\">\n",
       "\n",
       "<img src=\"tmp_2509.24211/./constraints.png\" alt=\"Fig4\" width=\"100%\"/>\n",
       "\n",
       "**Figure 4. -** $\\reviewEditOne${Our measurements of \\ciium at $z\\sim 0.3-2.9$, plotted with estimates obtained from measurements of the \\ciiumns-LF in the local universe and $z\\sim5$. Also shown are theoretical predictions from C+ evolution models; our $3\\sigma$ upper limits disfavor high-temperature collisional excitation frameworks and best-fit empirical models calibrated to the Pullen_2018 _Planck_ measurement. Our $1\\sigma$ results have a higher chance of agreement with SFR-scaling models, which calibrate C+ luminosity to the star formation rate of sources.\n",
       "Additionally, we plot the _COBE_/FIRAS measurement of the monopole spectrum of the Cosmic Infrared Background as a function of wavelength matched to the rest frame redshift of \\ciium emission. We find \\ciium likely does not contribute more than a few percent of the total Cosmic Infrared Background, and the intensity history to have undergone a less dramatic evolution across cosmic noon, rising and falling within an order of magnitude.\n",
       "} (*fig:constraints*)\n",
       "\n",
       "</div>\n",
       "<div id=\"div_fig2\">\n",
       "\n",
       "<img src=\"tmp_2509.24211/./filter_curves_main.png\" alt=\"Fig1\" width=\"100%\"/>\n",
       "\n",
       "**Figure 1. -**  Overview of data used in our analysis. We include transmission curves (left vertical, bottom horizontal axes) of the eight broadband maps used, from _Spitzer_, _Herschel_, and SCUBA-2. We overplot the rest frame wavelengths of some far-infrared emission lines, including \\ciiumns; these lines are redshifted into the broadband maps. Notably, the top horizontal axis labels translate the observer wavelengths into $\\reviewEditOne${the} rest frame redshift $z$ of a \\ciium emitter. We trace the $z$ distribution of the COSMOS2020 photometric catalog (in bins of $\\Delta z = 0.05$), with number counts on the right vertical axis; $\\reviewEditOne${number counts for the selection into star-forming or quiescent emitters is also shown}. Redshifted C+ emission will end up in the SPIRE maps for specific $z$ ranges. Finally, at the top, we demarcate the $z$-binning used for stacking with $\\linsimstack$; bins at $z\\sim0.65$, 1.3, 2.1, \\& 2.6 were chosen such that they overlap with the SPIRE bands. (*fig:filter_curves*)\n",
       "\n",
       "</div>\n",
       "<div id=\"div_fig3\">\n",
       "\n",
       "<img src=\"tmp_2509.24211/./compare.png\" alt=\"Fig6\" width=\"100%\"/>\n",
       "\n",
       "**Figure 6. -** Our constraints, incl. $3\\sigma$ upper bounds, plotted with the 95\\% C.L. bounds from the Yang_2019(a followup of Pullen_2018) measurement at $z\\sim 2.6$. We do not find \\ciium at the levels previously tentatively detected; our best estimates are $\\sim7.5\\times$ lower, with our $3\\sigma$ upper bound at $z\\sim2.6$ lower than the 95\\% C.L. interval.\n",
       "Also plotted are expected $3\\sigma$ sensitivity limits of two in-development surveys  (Pullen_2023,  timconstraints)  that will measure C+ at high $R$. We discuss these and this tension further in text (Section \\ref{sec:results}). (*fig:compare*)\n",
       "\n",
       "</div><div id=\"qrcode\"><img src=https://api.qrserver.com/v1/create-qr-code/?size=100x100&data=\"https://arxiv.org/abs/2509.24211\"></div>"
      ],
      "text/plain": [
       "<IPython.core.display.Markdown object>"
      ]
     },
     "metadata": {},
     "output_type": "display_data"
    },
    {
     "data": {
      "text/markdown": [
       "<div class=\"macros\" style=\"visibility:hidden;\">\n",
       "$\\newcommand{\\ensuremath}{}$\n",
       "$\\newcommand{\\xspace}{}$\n",
       "$\\newcommand{\\object}[1]{\\texttt{#1}}$\n",
       "$\\newcommand{\\farcs}{{.}''}$\n",
       "$\\newcommand{\\farcm}{{.}'}$\n",
       "$\\newcommand{\\arcsec}{''}$\n",
       "$\\newcommand{\\arcmin}{'}$\n",
       "$\\newcommand{\\ion}[2]{#1#2}$\n",
       "$\\newcommand{\\textsc}[1]{\\textrm{#1}}$\n",
       "$\\newcommand{\\hl}[1]{\\textrm{#1}}$\n",
       "$\\newcommand{\\footnote}[1]{}$\n",
       "$\\newcommand{\\uproman}[1]{\\uppercase\\expandafter{\\romannumeral#1}}$\n",
       "$\\newcommand{\\ur}[1]{\\uproman{#1}}$\n",
       "$\\newcommand{\\kms}{km s^{-1}}$\n",
       "$\\newcommand{\\ha}{\\ensuremath{{\\rm H_{\\alpha}}}}$\n",
       "$\\newcommand{\\hb}{\\ensuremath{{\\rm H_{\\beta}}}}$\n",
       "$\\newcommand{\\der}{{\\rm d}}$\n",
       "$\\newcommand{\\feh}{{\\rm[Fe/H]}}$\n",
       "$\\newcommand{\\afe}{{\\rm[\\rm \\alpha/Fe]}}$\n",
       "$\\newcommand{\\teff}{\\rm T_{eff}}$\n",
       "$\\newcommand{\\logg}{\\rm \\log{g}}$\n",
       "$\\newcommand{\\vmic}{\\rm v_{mic}}$\n",
       "$\\newcommand{\\vbrd}{\\rm v_{brd}}$\n",
       "$\\newcommand{\\dnlte}{\\rm \\Delta_{NLTE}}$\n",
       "$\\newcommand{\\chem}[2]{\\rm ^{#2}#1}$\n",
       "$\\newcommand{\\tross}{\\rm \\tau_{ross}}$\n",
       "$\\newcommand{\\ltross}{\\rm \\log \\tau_{ross}}$\n",
       "$\\newcommand{\\mA}{{\\rm mÅ}}$\n",
       "$\\newcommand{\\Elow}{E_{\\rm low}}$\n",
       "$\\newcommand{\\Eup}{E_{\\rm up}}$\n",
       "$\\newcommand{\\SH}{S\\!_{\\rm H}}$\n",
       "$\\newcommand{\\opd}{\\log \\tau_{\\rm 5000}}$\n",
       "$\\newcommand{\\lin}{ \\lambda}$\n",
       "$\\newcommand{\\tda}{\\langle{\\rm 3D}\\rangle}$\n",
       "$\\newcommand{\\multitd}{MULTI3D}$\n",
       "$\\newcommand{\\dis}{\\texttt{DISPATCH} }$\n",
       "$\\newcommand{\\medis}{\\texttt{M3DIS}}$\n",
       "$\\newcommand{\\logtr}{\\log{\\tau_{\\rm ross}}}$\n",
       "$\\newcommand{\\iso}[2]{\\rm ^{#2} #1 }$\n",
       "$\\newcommand{\\PEremark}[1]{\\textcolor{red}{#1 /PE.}}$\n",
       "$\\newcommand{\\MBremark}[1]{\\textcolor{red}{#1 /MB.}}$\n",
       "$\\newcommand{\\RHremark}[1]{\\textcolor{red}{#1 /RH.}}$\n",
       "$\\newcommand{\\ANremark}[1]{\\textcolor{red}{#1 /{Å}N.}}$\n",
       "$\\newcommand{\\BPremark}[1]{\\textcolor{red}{#1 /BP.}}$\n",
       "$\\newcommand{\\JKremark}[1]{\\textcolor{red}{#1 /JK.}}$\n",
       "$\\newcommand{\\APremark}[1]{\\textcolor{red}{#1 /AP.}}$\n",
       "$\\newcommand{\\added}[1]{\\ifhighlight\\textbf{#1}\\else#1\\fi}$\n",
       "$\\newcommand{\\mb}[1]{\\ifhighlight\\textbf{\\textcolor{magenta}{#1}}\\else#1\\fi}$\n",
       "$\\newcommand{\\revisedPE}[1]{\\ifhighlight\\textbf{\\textcolor{green}{#1}}\\else#1\\fi}$\n",
       "$\\newcommand{\\addedPE}[1]{\\ifhighlight\\textbf{\\textcolor{blue}{#1}}\\else#1\\fi}$\n",
       "$\\newcommand{\\arraystretch}{1.2}$</div>\n",
       "\n",
       "\n",
       "\n",
       "<div id=\"title\">\n",
       "\n",
       "# M3DIS - A grid of 3D radiation-hydrodynamics stellar atmosphere models for stellar surveys.: II. Carbon-enhanced metal-poor stars${\\thanks{All \\medis 3D RHD CEMP models are available under \\url{https://nlte.mpia.de}}}$\n",
       "\n",
       "</div>\n",
       "<div id=\"comments\">\n",
       "\n",
       "[![arXiv](https://img.shields.io/badge/arXiv-2509.24555-b31b1b.svg)](https://arxiv.org/abs/2509.24555)<mark>Appeared on: 2025-09-30</mark> -  _16 pages, 13 figures, accepted by A&A_\n",
       "\n",
       "</div>\n",
       "<div id=\"authors\">\n",
       "\n",
       "<mark>P. Eitner</mark>, et al. -- incl., <mark>M. Bergemann</mark>, <mark>R. Hoppe</mark>, <mark>N. Storm</mark>\n",
       "\n",
       "</div>\n",
       "<div id=\"abstract\">\n",
       "\n",
       "**Abstract:**            Understanding the origin and evolution of carbon-enhanced metal-poor (CEMP) stars is key to tracing the Galaxy's early chemical enrichment. We investigate how realistic 3D radiation-hydrodynamics (RHD) model atmospheres affect carbon abundances in CEMP stars and implications for their classification and Galactic chemical evolution (GCE). We focus on biases from traditional 1D hydrostatic models. We use the M3DIS code to compute 3D RHD model atmospheres for main-sequence and sub-giant stars over a wide range of metallicities and carbon enhancements. Synthetic spectra of the CH G-band are calculated with 3D radiative transfer and compared to spectra from classical 1D MARCS models. We derive abundance corrections and apply them to a large SAGA database sample to quantify effects on the carbon abundance distribution and CEMP classification. Our new 3D CEMP models predict cooler upper atmospheric layers than in 1D models, resulting in stronger CH absorption and lower inferred carbon abundances by up to -0.9 dex at the lowest metallicities. Carbon enhancement in the atmosphere itself increases molecular opacities and leads to radiative re-heating, partly offsetting adiabatic cooling in 3D models and reducing 3D-1D abundance corrections. Applying these corrections lowers the CEMP fraction by up to 20% below [Fe/H]=-3 and alters the relative contribution of CEMP sub-classes. The fraction of CEMP-no stars increases while the number of CEMP-r/s stars decreases, due to the downward revision of absolute carbon abundances. These changes bring the Galactic carbon distribution into better agreement with GCE models assuming a 20% contribution from faint supernovae. Realistic model atmospheres are essential to reliably reconstruct the Galaxy's early chemical enrichment history.         \n",
       "\n",
       "</div>\n",
       "\n",
       "<div id=\"div_fig1\">\n",
       "\n",
       "<img src=\"tmp_2509.24555/./plots/CEMP_t57.50g45.00m-5.000_v1.0_vs_CEMP_t52.50g30.00m-5.000_v1.0_all.png\" alt=\"Fig1\" width=\"100%\"/>\n",
       "\n",
       "**Figure 1. -** Comparison of the mean temperature stratification between 1D scaled-solar MARCS (red solid lines), 3D scaled-solar (blue solid lines), and 3D CEMP (blue crosses) models against mean density (top) and optical depth at $\\rm 500 nm$(bottom). Left: MS model. Right: sub-giant model. For the MS model in the left panels we furthermore include a CEMP MARCS model (provided by B. Plez, priv. conv., shown with red crosses) (*fig:ttau_ttho*)\n",
       "\n",
       "</div>\n",
       "<div id=\"div_fig2\">\n",
       "\n",
       "<img src=\"tmp_2509.24555/./plots/yoon_beers_reduces_no_reclassification.png\" alt=\"Fig5\" width=\"100%\"/>\n",
       "\n",
       "**Figure 5. -** Yoon-Beers \\citep{Yoon2016} diagram, A(C) against [Fe/H] for the 3D-corrected measurements for Galactic stars from the literature (see text). The grey dotted line represents the dividing CEMP classification abundance of $\\rm[C/Fe]=0.7$. Coloured lines show the major axis of the ellipse representing the distribution of different CEMP groups. In 1D (dashed lines), ellipses are drawn similar to \\cite{Yoon2016}, their Fig. 1. In 3D (solid lines) ellipses are obtained from fitting a Gaussian mixture model to the data. (*fig:yoon-beers*)\n",
       "\n",
       "</div>\n",
       "<div id=\"div_fig3\">\n",
       "\n",
       "<img src=\"tmp_2509.24555/./plots/CEMP_t57.50g45.00m-5.000_v1.0_structure_3D1D.png\" alt=\"Fig11.1\" width=\"50%\"/><img src=\"tmp_2509.24555/./plots/CEMP_t52.50g30.00m-5.000_v1.0_structure_3D1D.png\" alt=\"Fig11.2\" width=\"50%\"/>\n",
       "\n",
       "**Figure 11. -** Comparison of mean temperature stratification between the \\texttt{DISPATCH} 3D CEMP model and the 1D MARCS model on the optical depth scale. Left: $\\rm T_{eff} = 5750 K, log(g)=4.5$, Right: $\\rm T_{eff} = 5250 K, log(g)=3.0$. Horizontal bars at the bottom correspond to the approximate formation region of the G-band in 1D and 3D. (*fig:average_profiles*)\n",
       "\n",
       "</div><div id=\"qrcode\"><img src=https://api.qrserver.com/v1/create-qr-code/?size=100x100&data=\"https://arxiv.org/abs/2509.24555\"></div>"
      ],
      "text/plain": [
       "<IPython.core.display.Markdown object>"
      ]
     },
     "metadata": {},
     "output_type": "display_data"
    },
    {
     "data": {
      "text/markdown": [
       "<div class=\"macros\" style=\"visibility:hidden;\">\n",
       "$\\newcommand{\\ensuremath}{}$\n",
       "$\\newcommand{\\xspace}{}$\n",
       "$\\newcommand{\\object}[1]{\\texttt{#1}}$\n",
       "$\\newcommand{\\farcs}{{.}''}$\n",
       "$\\newcommand{\\farcm}{{.}'}$\n",
       "$\\newcommand{\\arcsec}{''}$\n",
       "$\\newcommand{\\arcmin}{'}$\n",
       "$\\newcommand{\\ion}[2]{#1#2}$\n",
       "$\\newcommand{\\textsc}[1]{\\textrm{#1}}$\n",
       "$\\newcommand{\\hl}[1]{\\textrm{#1}}$\n",
       "$\\newcommand{\\footnote}[1]{}$\n",
       "$\\newcommand{\\thebibliography}[1]{$\n",
       "$    \\oldbibliography{#1}$\n",
       "$    \\setlength{\\itemsep}{0pt}$\n",
       "$}$\n",
       "$\\newcommand{\\arraystretch}{1.2}$</div>\n",
       "\n",
       "\n",
       "\n",
       "<div id=\"title\">\n",
       "\n",
       "#     Polarization at millimeter wavelengths caused by drifting grains\\ in protoplanetary disks\n",
       "\n",
       "</div>\n",
       "<div id=\"comments\">\n",
       "\n",
       "[![arXiv](https://img.shields.io/badge/arXiv-2509.24594-b31b1b.svg)](https://arxiv.org/abs/2509.24594)<mark>Appeared on: 2025-09-30</mark> -  _18 pages, 14 figures, to be published in Astronomy & Astrophysics (A&A)_\n",
       "\n",
       "</div>\n",
       "<div id=\"authors\">\n",
       "\n",
       "M. Lietzow-Sinjen, S. Reissl, <mark>M. Flock</mark>, S. Wolf\n",
       "\n",
       "</div>\n",
       "<div id=\"abstract\">\n",
       "\n",
       "**Abstract:** During the evolution of protoplanetary disks, dust grains start to grow, form larger particles, settle to the midplane, and rearrange the disk, mainly by the inward radial drift.    Because of this, dust pebbles with an irregular shape usually align mechanically and thus cause polarization signatures in their thermal radiation due to dichroic emission or absorption. The goal of this paper is to evaluate the potential to trace the impact of mechanical grain alignment in protoplanetary disks on the observed degree and orientation of linear polarization at millimeter wavelengths. We combined 3D radiation hydrodynamical simulations to determine the density distribution and the velocity field of gas and dust particles, Monte Carlo dust-gas interaction simulations to calculate the mechanical alignment of dust in a gas flow, and, finally, 3D Monte Carlo polarized radiative transfer simulations to obtain synthetic polarimetric observations. We find that large grains, which contribute the most to the net polarization, are potentially mechanically aligned in the protoplanetary disk under the effect of the vertical shear instability (VSI).    Thereby, the drift velocity is parallel to the rotational disk axis.    Assuming oblate dust grains that are aligned with their short axis parallel to the direction of the drift velocity, the resulting polarization is usually along the major axis of the disk.    This is in contrast to typical drift models that propose either a radial or azimuthal drift velocity component. If hydrodynamical instabilities, such as the VSI, dominate the kinematics in protoplanetary disks, the mechanical alignment of dust is a promising mechanism for grain alignment in these systems.    In that case, the resulting millimeter polarization allows us to trace the orientation of aligned millimeter-sized grains.\n",
       "\n",
       "</div>\n",
       "\n",
       "<div id=\"div_fig1\">\n",
       "\n",
       "<img src=\"\" alt=\"Fig11.1\" width=\"25%\"/><img src=\"\" alt=\"Fig11.2\" width=\"25%\"/><img src=\"\" alt=\"Fig11.3\" width=\"25%\"/><img src=\"\" alt=\"Fig11.4\" width=\"25%\"/>\n",
       "\n",
       "**Figure 11. -** \n",
       "        Surface brightness map of the total emitted thermal radiation at a wavelength of \\SI{1.3}{mm}(left) and \\SI{10}{mm}(right) overlaid with polarization vectors at these wavelengths.\n",
       "        In the top row (a, b), the polarization arises from thermal emission and dichroic extinction of aligned dust grains only.\n",
       "        At wavelengths of \\SI{1.3}{mm} and \\SI{10}{mm}, only \\SI{100}{\\um} and \\SI{1}{mm}-sized grains are assumed to be aligned, respectively.\n",
       "        In contrast, in the bottom row (c, d), the polarization arises from self-scattered radiation only.\n",
       "        The disk is inclined by \\ang{45}.\n",
       "        See Sects. \\ref{subsec:polarization_alignment} and \\ref{subsec:polarization_scattering} for details.\n",
       "     (*fig:sb_align_selfsca_i45*)\n",
       "\n",
       "</div>\n",
       "<div id=\"div_fig2\">\n",
       "\n",
       "<img src=\"\" alt=\"Fig5.1\" width=\"33%\"/><img src=\"\" alt=\"Fig5.2\" width=\"33%\"/><img src=\"\" alt=\"Fig5.3\" width=\"33%\"/>\n",
       "\n",
       "**Figure 5. -** \n",
       "        Wavelength dependence of the radial profile of the polarization degree.\n",
       "        In the top and middle figure, only \\SI{100}{\\um} and \\SI{1}{mm}-sized grains are aligned and contribute to the polarization, respectively.\n",
       "        In the bottom figure, the polarization arises from self-scattered radiation only.\n",
       "        The disk is inclined by \\ang{45}.\n",
       "        See Sects. \\ref{subsec:polarization_alignment} and \\ref{subsec:polarization_scattering} for details.\n",
       "     (*fig:pol_rad_i45*)\n",
       "\n",
       "</div>\n",
       "<div id=\"div_fig3\">\n",
       "\n",
       "<img src=\"\" alt=\"Fig7.1\" width=\"50%\"/><img src=\"\" alt=\"Fig7.2\" width=\"50%\"/>\n",
       "\n",
       "**Figure 7. -** \n",
       "        Surface brightness map of the total emitted thermal radiation at a wavelength of \\SI{3}{mm} overlaid with corresponding polarization vectors.\n",
       "        The polarization arises from thermal emission and dichroic absorption of aligned \\SI{1}{mm}-sized dust grains (top) and from self-scattered radiation (bottom) only.\n",
       "        The disk is inclined by \\ang{45}.\n",
       "        See Sect. \\ref{subsec:flip_polarization} for details.\n",
       "     (*fig:sb_a1mm_selfsca_i45_w3mm*)\n",
       "\n",
       "</div><div id=\"qrcode\"><img src=https://api.qrserver.com/v1/create-qr-code/?size=100x100&data=\"https://arxiv.org/abs/2509.24594\"></div>"
      ],
      "text/plain": [
       "<IPython.core.display.Markdown object>"
      ]
     },
     "metadata": {},
     "output_type": "display_data"
    }
   ],
   "source": [
    "[display(Markdown(k[1])) for k in documents];"
   ]
  },
  {
   "cell_type": "markdown",
   "id": "873873a4",
   "metadata": {
    "papermill": {
     "duration": 0.006405,
     "end_time": "2025-09-30T04:15:42.558319",
     "exception": false,
     "start_time": "2025-09-30T04:15:42.551914",
     "status": "completed"
    },
    "tags": []
   },
   "source": [
    "# Create HTML index"
   ]
  },
  {
   "cell_type": "code",
   "execution_count": 10,
   "id": "cf665672",
   "metadata": {
    "execution": {
     "iopub.execute_input": "2025-09-30T04:15:42.571874Z",
     "iopub.status.busy": "2025-09-30T04:15:42.571647Z",
     "iopub.status.idle": "2025-09-30T04:15:42.579096Z",
     "shell.execute_reply": "2025-09-30T04:15:42.578416Z"
    },
    "papermill": {
     "duration": 0.01558,
     "end_time": "2025-09-30T04:15:42.580210",
     "exception": false,
     "start_time": "2025-09-30T04:15:42.564630",
     "status": "completed"
    },
    "tags": []
   },
   "outputs": [
    {
     "name": "stdout",
     "output_type": "stream",
     "text": [
      "127  publications files modified in the last 7 days.\n"
     ]
    }
   ],
   "source": [
    "from datetime import datetime, timedelta, timezone\n",
    "from glob import glob\n",
    "import os\n",
    "\n",
    "files = glob('_build/html/*.md')\n",
    "days = 7\n",
    "now = datetime.today()\n",
    "res = []\n",
    "for fk in files:\n",
    "    stat_result = os.stat(fk).st_ctime\n",
    "    modified = datetime.fromtimestamp(stat_result, tz=timezone.utc).replace(tzinfo=None)\n",
    "    delta = now.today() - modified\n",
    "    if delta <= timedelta(days=days):\n",
    "        res.append((delta.seconds, fk))\n",
    "res = [k[1] for k in reversed(sorted(res, key=lambda x:x[1]))]\n",
    "npub = len(res)\n",
    "print(len(res), f\" publications files modified in the last {days:d} days.\")\n",
    "# [ print('\\t', k) for k in res ];"
   ]
  },
  {
   "cell_type": "code",
   "execution_count": 11,
   "id": "015de740",
   "metadata": {
    "execution": {
     "iopub.execute_input": "2025-09-30T04:15:42.594276Z",
     "iopub.status.busy": "2025-09-30T04:15:42.594051Z",
     "iopub.status.idle": "2025-09-30T04:15:42.606131Z",
     "shell.execute_reply": "2025-09-30T04:15:42.605505Z"
    },
    "papermill": {
     "duration": 0.020211,
     "end_time": "2025-09-30T04:15:42.607139",
     "exception": false,
     "start_time": "2025-09-30T04:15:42.586928",
     "status": "completed"
    },
    "tags": []
   },
   "outputs": [
    {
     "name": "stdout",
     "output_type": "stream",
     "text": [
      "9  publications in the last 7 days.\n"
     ]
    }
   ],
   "source": [
    "import datetime\n",
    "from glob import glob\n",
    "\n",
    "def get_last_n_days(lst, days=1):\n",
    "    \"\"\" Get the documents from the last n days \"\"\"\n",
    "    sorted_lst = sorted(lst, key=lambda x: x[1], reverse=True)\n",
    "    for fname, date in sorted_lst:\n",
    "        if date >= str(datetime.date.today() - datetime.timedelta(days=days)):\n",
    "            yield fname\n",
    "\n",
    "def extract_appearance_dates(lst_file):\n",
    "    dates = []\n",
    "\n",
    "    def get_date(line):\n",
    "        return line\\\n",
    "            .split('Appeared on:')[-1]\\\n",
    "            .split('</mark>')[0].strip()\n",
    "\n",
    "    for fname in lst:\n",
    "        with open(fname, 'r') as f:\n",
    "            found_date = False\n",
    "            for line in f:\n",
    "                if not found_date:\n",
    "                    if \"Appeared on\" in line:\n",
    "                        found_date = True\n",
    "                        dates.append((fname, get_date(line)))\n",
    "                else:\n",
    "                    break\n",
    "    return dates\n",
    "\n",
    "from glob import glob\n",
    "lst = glob('_build/html/*md')\n",
    "days = 7\n",
    "dates = extract_appearance_dates(lst)\n",
    "res = list(get_last_n_days(dates, days))\n",
    "npub = len(res)\n",
    "print(len(res), f\" publications in the last {days:d} days.\")"
   ]
  },
  {
   "cell_type": "code",
   "execution_count": 12,
   "id": "52ca0208",
   "metadata": {
    "execution": {
     "iopub.execute_input": "2025-09-30T04:15:42.621222Z",
     "iopub.status.busy": "2025-09-30T04:15:42.621015Z",
     "iopub.status.idle": "2025-09-30T04:15:42.625681Z",
     "shell.execute_reply": "2025-09-30T04:15:42.625129Z"
    },
    "papermill": {
     "duration": 0.012955,
     "end_time": "2025-09-30T04:15:42.626689",
     "exception": false,
     "start_time": "2025-09-30T04:15:42.613734",
     "status": "completed"
    },
    "scrolled": false,
    "tags": []
   },
   "outputs": [],
   "source": [
    "def create_carousel(npub=4):\n",
    "    \"\"\" Generate the HTML code for a carousel with `npub` slides \"\"\"\n",
    "    carousel = [\"\"\"  <div class=\"carousel\" \"\"\",\n",
    "                \"\"\"       data-flickity='{ \"autoPlay\": 10000, \"adaptiveHeight\": true, \"resize\": true, \"wrapAround\": true, \"pauseAutoPlayOnHover\": true, \"groupCells\": 1 }' id=\"asyncTypeset\">\"\"\"\n",
    "                ]\n",
    "    \n",
    "    item_str = \"\"\"    <div class=\"carousel-cell\"> <div id=\"slide{k}\" class=\"md_view\">Content {k}</div> </div>\"\"\"\n",
    "    for k in range(1, npub + 1):\n",
    "        carousel.append(item_str.format(k=k))\n",
    "    carousel.append(\"  </div>\")\n",
    "    return '\\n'.join(carousel)\n",
    "\n",
    "def create_grid(npub=4):\n",
    "    \"\"\" Generate the HTML code for a flat grid with `npub` slides \"\"\"\n",
    "    grid = [\"\"\"  <div class=\"grid\"> \"\"\",\n",
    "                ]\n",
    "    \n",
    "    item_str = \"\"\"    <div class=\"grid-item\"> <div id=\"slide{k}\" class=\"md_view\">Content {k}</div> </div>\"\"\"\n",
    "    for k in range(1, npub + 1):\n",
    "        grid.append(item_str.format(k=k))\n",
    "    grid.append(\"  </div>\")\n",
    "    return '\\n'.join(grid)"
   ]
  },
  {
   "cell_type": "code",
   "execution_count": 13,
   "id": "a6eac5b6",
   "metadata": {
    "execution": {
     "iopub.execute_input": "2025-09-30T04:15:42.640917Z",
     "iopub.status.busy": "2025-09-30T04:15:42.640697Z",
     "iopub.status.idle": "2025-09-30T04:15:42.645834Z",
     "shell.execute_reply": "2025-09-30T04:15:42.645294Z"
    },
    "papermill": {
     "duration": 0.013363,
     "end_time": "2025-09-30T04:15:42.646794",
     "exception": false,
     "start_time": "2025-09-30T04:15:42.633431",
     "status": "completed"
    },
    "scrolled": false,
    "tags": []
   },
   "outputs": [],
   "source": [
    "carousel = create_carousel(npub)\n",
    "docs = ', '.join(['\"{0:s}\"'.format(k.split('/')[-1]) for k in res])\n",
    "slides = ', '.join([f'\"slide{k}\"' for k in range(1, npub + 1)])\n",
    "\n",
    "with open(\"daily_template.html\", \"r\") as tpl:\n",
    "    page = tpl.read()\n",
    "    page = page.replace(\"{%-- carousel:s --%}\", carousel)\\\n",
    "               .replace(\"{%-- suptitle:s --%}\",  \"7-day archives\" )\\\n",
    "               .replace(\"{%-- docs:s --%}\", docs)\\\n",
    "               .replace(\"{%-- slides:s --%}\", slides)\n",
    "    \n",
    "with open(\"_build/html/index_7days.html\", 'w') as fout:\n",
    "    fout.write(page)"
   ]
  },
  {
   "cell_type": "code",
   "execution_count": 14,
   "id": "adc1a1ec",
   "metadata": {
    "execution": {
     "iopub.execute_input": "2025-09-30T04:15:42.661048Z",
     "iopub.status.busy": "2025-09-30T04:15:42.660784Z",
     "iopub.status.idle": "2025-09-30T04:15:42.667059Z",
     "shell.execute_reply": "2025-09-30T04:15:42.666468Z"
    },
    "papermill": {
     "duration": 0.01461,
     "end_time": "2025-09-30T04:15:42.668064",
     "exception": false,
     "start_time": "2025-09-30T04:15:42.653454",
     "status": "completed"
    },
    "tags": []
   },
   "outputs": [
    {
     "name": "stdout",
     "output_type": "stream",
     "text": [
      "6  publications in the last day.\n"
     ]
    }
   ],
   "source": [
    "# redo for today\n",
    "days = 1\n",
    "res = list(get_last_n_days(dates, days))\n",
    "npub = len(res)\n",
    "print(len(res), f\" publications in the last day.\")\n",
    "\n",
    "carousel = create_carousel(npub)\n",
    "docs = ', '.join(['\"{0:s}\"'.format(k.split('/')[-1]) for k in res])\n",
    "slides = ', '.join([f'\"slide{k}\"' for k in range(1, npub + 1)])\n",
    "\n",
    "with open(\"daily_template.html\", \"r\") as tpl:\n",
    "    page = tpl.read()\n",
    "    page = page.replace(\"{%-- carousel:s --%}\", carousel)\\\n",
    "               .replace(\"{%-- suptitle:s --%}\",  \"Daily\" )\\\n",
    "               .replace(\"{%-- docs:s --%}\", docs)\\\n",
    "               .replace(\"{%-- slides:s --%}\", slides)\n",
    "    \n",
    "# print(carousel, docs, slides)\n",
    "# print(page)\n",
    "with open(\"_build/html/index_daily.html\", 'w') as fout:\n",
    "    fout.write(page)"
   ]
  },
  {
   "cell_type": "code",
   "execution_count": 15,
   "id": "00eece82",
   "metadata": {
    "execution": {
     "iopub.execute_input": "2025-09-30T04:15:42.682325Z",
     "iopub.status.busy": "2025-09-30T04:15:42.682117Z",
     "iopub.status.idle": "2025-09-30T04:15:42.688571Z",
     "shell.execute_reply": "2025-09-30T04:15:42.688041Z"
    },
    "papermill": {
     "duration": 0.014862,
     "end_time": "2025-09-30T04:15:42.689593",
     "exception": false,
     "start_time": "2025-09-30T04:15:42.674731",
     "status": "completed"
    },
    "scrolled": false,
    "tags": []
   },
   "outputs": [
    {
     "name": "stdout",
     "output_type": "stream",
     "text": [
      "6  6 publications selected.\n"
     ]
    }
   ],
   "source": [
    "# Create the flat grid of the last N papers (fixed number regardless of dates)\n",
    "from itertools import islice \n",
    "\n",
    "npub = 6\n",
    "res = [k[0] for k in (islice(reversed(sorted(dates, key=lambda x: x[1])), 6))]\n",
    "print(len(res), f\" {npub} publications selected.\")\n",
    "\n",
    "grid = create_grid(npub)\n",
    "docs = ', '.join(['\"{0:s}\"'.format(k.split('/')[-1]) for k in res])\n",
    "slides = ', '.join([f'\"slide{k}\"' for k in range(1, npub + 1)])\n",
    "\n",
    "with open(\"grid_template.html\", \"r\") as tpl:\n",
    "    page = tpl.read()\n",
    "    page = page.replace(\"{%-- grid-content:s --%}\", grid)\\\n",
    "               .replace(\"{%-- suptitle:s --%}\",  f\"Last {npub:,d} papers\" )\\\n",
    "               .replace(\"{%-- docs:s --%}\", docs)\\\n",
    "               .replace(\"{%-- slides:s --%}\", slides)\n",
    "    \n",
    "# print(grid, docs, slides)\n",
    "# print(page)\n",
    "with open(\"_build/html/index_npub_grid.html\", 'w') as fout:\n",
    "    fout.write(page)"
   ]
  }
 ],
 "metadata": {
  "kernelspec": {
   "display_name": "Python 3 (ipykernel)",
   "language": "python",
   "name": "python3"
  },
  "language_info": {
   "codemirror_mode": {
    "name": "ipython",
    "version": 3
   },
   "file_extension": ".py",
   "mimetype": "text/x-python",
   "name": "python",
   "nbconvert_exporter": "python",
   "pygments_lexer": "ipython3",
   "version": "3.9.23"
  },
  "papermill": {
   "default_parameters": {},
   "duration": 133.411284,
   "end_time": "2025-09-30T04:15:42.912278",
   "environment_variables": {},
   "exception": null,
   "input_path": "MPIA daily digest.ipynb",
   "output_path": "log.ipynb",
   "parameters": {},
   "start_time": "2025-09-30T04:13:29.500994",
   "version": "2.6.0"
  },
  "vscode": {
   "interpreter": {
    "hash": "aee8b7b246df8f9039afb4144a1f6fd8d2ca17a180786b69acc140d282b71a49"
   }
  },
  "widgets": {
   "application/vnd.jupyter.widget-state+json": {
    "state": {
     "217bfa01e828478da37cf478aa52a872": {
      "model_module": "@jupyter-widgets/base",
      "model_module_version": "2.0.0",
      "model_name": "LayoutModel",
      "state": {
       "_model_module": "@jupyter-widgets/base",
       "_model_module_version": "2.0.0",
       "_model_name": "LayoutModel",
       "_view_count": null,
       "_view_module": "@jupyter-widgets/base",
       "_view_module_version": "2.0.0",
       "_view_name": "LayoutView",
       "align_content": null,
       "align_items": null,
       "align_self": null,
       "border_bottom": null,
       "border_left": null,
       "border_right": null,
       "border_top": null,
       "bottom": null,
       "display": null,
       "flex": null,
       "flex_flow": null,
       "grid_area": null,
       "grid_auto_columns": null,
       "grid_auto_flow": null,
       "grid_auto_rows": null,
       "grid_column": null,
       "grid_gap": null,
       "grid_row": null,
       "grid_template_areas": null,
       "grid_template_columns": null,
       "grid_template_rows": null,
       "height": null,
       "justify_content": null,
       "justify_items": null,
       "left": null,
       "margin": null,
       "max_height": null,
       "max_width": null,
       "min_height": null,
       "min_width": null,
       "object_fit": null,
       "object_position": null,
       "order": null,
       "overflow": null,
       "padding": null,
       "right": null,
       "top": null,
       "visibility": null,
       "width": null
      }
     },
     "38957f2ca64940ce87cbb3e2246a0005": {
      "model_module": "@jupyter-widgets/controls",
      "model_module_version": "2.0.0",
      "model_name": "HTMLStyleModel",
      "state": {
       "_model_module": "@jupyter-widgets/controls",
       "_model_module_version": "2.0.0",
       "_model_name": "HTMLStyleModel",
       "_view_count": null,
       "_view_module": "@jupyter-widgets/base",
       "_view_module_version": "2.0.0",
       "_view_name": "StyleView",
       "background": null,
       "description_width": "",
       "font_size": null,
       "text_color": null
      }
     },
     "54c3d669e24a44e9a4c56edea834c6c7": {
      "model_module": "@jupyter-widgets/base",
      "model_module_version": "2.0.0",
      "model_name": "LayoutModel",
      "state": {
       "_model_module": "@jupyter-widgets/base",
       "_model_module_version": "2.0.0",
       "_model_name": "LayoutModel",
       "_view_count": null,
       "_view_module": "@jupyter-widgets/base",
       "_view_module_version": "2.0.0",
       "_view_name": "LayoutView",
       "align_content": null,
       "align_items": null,
       "align_self": null,
       "border_bottom": null,
       "border_left": null,
       "border_right": null,
       "border_top": null,
       "bottom": null,
       "display": null,
       "flex": null,
       "flex_flow": null,
       "grid_area": null,
       "grid_auto_columns": null,
       "grid_auto_flow": null,
       "grid_auto_rows": null,
       "grid_column": null,
       "grid_gap": null,
       "grid_row": null,
       "grid_template_areas": null,
       "grid_template_columns": null,
       "grid_template_rows": null,
       "height": null,
       "justify_content": null,
       "justify_items": null,
       "left": null,
       "margin": null,
       "max_height": null,
       "max_width": null,
       "min_height": null,
       "min_width": null,
       "object_fit": null,
       "object_position": null,
       "order": null,
       "overflow": null,
       "padding": null,
       "right": null,
       "top": null,
       "visibility": null,
       "width": null
      }
     },
     "621b53b49e77496d98bba5b645cad408": {
      "model_module": "@jupyter-widgets/controls",
      "model_module_version": "2.0.0",
      "model_name": "ProgressStyleModel",
      "state": {
       "_model_module": "@jupyter-widgets/controls",
       "_model_module_version": "2.0.0",
       "_model_name": "ProgressStyleModel",
       "_view_count": null,
       "_view_module": "@jupyter-widgets/base",
       "_view_module_version": "2.0.0",
       "_view_name": "StyleView",
       "bar_color": null,
       "description_width": ""
      }
     },
     "64061e05c57540fab7721b023452d178": {
      "model_module": "@jupyter-widgets/controls",
      "model_module_version": "2.0.0",
      "model_name": "HTMLModel",
      "state": {
       "_dom_classes": [],
       "_model_module": "@jupyter-widgets/controls",
       "_model_module_version": "2.0.0",
       "_model_name": "HTMLModel",
       "_view_count": null,
       "_view_module": "@jupyter-widgets/controls",
       "_view_module_version": "2.0.0",
       "_view_name": "HTMLView",
       "description": "",
       "description_allow_html": false,
       "layout": "IPY_MODEL_71621b5fd87c4b1c9782e38490c3c4e0",
       "placeholder": "​",
       "style": "IPY_MODEL_38957f2ca64940ce87cbb3e2246a0005",
       "tabbable": null,
       "tooltip": null,
       "value": " 8/8 [01:48&lt;00:00,  8.61s/it]"
      }
     },
     "6751f7f6b9524a65b6a8360139ef87e9": {
      "model_module": "@jupyter-widgets/controls",
      "model_module_version": "2.0.0",
      "model_name": "HTMLModel",
      "state": {
       "_dom_classes": [],
       "_model_module": "@jupyter-widgets/controls",
       "_model_module_version": "2.0.0",
       "_model_name": "HTMLModel",
       "_view_count": null,
       "_view_module": "@jupyter-widgets/controls",
       "_view_module_version": "2.0.0",
       "_view_name": "HTMLView",
       "description": "",
       "description_allow_html": false,
       "layout": "IPY_MODEL_efd42ca6ab5b44cc98f26b64a8efbdf8",
       "placeholder": "​",
       "style": "IPY_MODEL_b7b38b0c6a4c4822bbbd85f4dc099b8e",
       "tabbable": null,
       "tooltip": null,
       "value": "100%"
      }
     },
     "71621b5fd87c4b1c9782e38490c3c4e0": {
      "model_module": "@jupyter-widgets/base",
      "model_module_version": "2.0.0",
      "model_name": "LayoutModel",
      "state": {
       "_model_module": "@jupyter-widgets/base",
       "_model_module_version": "2.0.0",
       "_model_name": "LayoutModel",
       "_view_count": null,
       "_view_module": "@jupyter-widgets/base",
       "_view_module_version": "2.0.0",
       "_view_name": "LayoutView",
       "align_content": null,
       "align_items": null,
       "align_self": null,
       "border_bottom": null,
       "border_left": null,
       "border_right": null,
       "border_top": null,
       "bottom": null,
       "display": null,
       "flex": null,
       "flex_flow": null,
       "grid_area": null,
       "grid_auto_columns": null,
       "grid_auto_flow": null,
       "grid_auto_rows": null,
       "grid_column": null,
       "grid_gap": null,
       "grid_row": null,
       "grid_template_areas": null,
       "grid_template_columns": null,
       "grid_template_rows": null,
       "height": null,
       "justify_content": null,
       "justify_items": null,
       "left": null,
       "margin": null,
       "max_height": null,
       "max_width": null,
       "min_height": null,
       "min_width": null,
       "object_fit": null,
       "object_position": null,
       "order": null,
       "overflow": null,
       "padding": null,
       "right": null,
       "top": null,
       "visibility": null,
       "width": null
      }
     },
     "a9c01c0fcf554c578e8f82a4d48c15bb": {
      "model_module": "@jupyter-widgets/controls",
      "model_module_version": "2.0.0",
      "model_name": "FloatProgressModel",
      "state": {
       "_dom_classes": [],
       "_model_module": "@jupyter-widgets/controls",
       "_model_module_version": "2.0.0",
       "_model_name": "FloatProgressModel",
       "_view_count": null,
       "_view_module": "@jupyter-widgets/controls",
       "_view_module_version": "2.0.0",
       "_view_name": "ProgressView",
       "bar_style": "success",
       "description": "",
       "description_allow_html": false,
       "layout": "IPY_MODEL_54c3d669e24a44e9a4c56edea834c6c7",
       "max": 8.0,
       "min": 0.0,
       "orientation": "horizontal",
       "style": "IPY_MODEL_621b53b49e77496d98bba5b645cad408",
       "tabbable": null,
       "tooltip": null,
       "value": 8.0
      }
     },
     "b7b38b0c6a4c4822bbbd85f4dc099b8e": {
      "model_module": "@jupyter-widgets/controls",
      "model_module_version": "2.0.0",
      "model_name": "HTMLStyleModel",
      "state": {
       "_model_module": "@jupyter-widgets/controls",
       "_model_module_version": "2.0.0",
       "_model_name": "HTMLStyleModel",
       "_view_count": null,
       "_view_module": "@jupyter-widgets/base",
       "_view_module_version": "2.0.0",
       "_view_name": "StyleView",
       "background": null,
       "description_width": "",
       "font_size": null,
       "text_color": null
      }
     },
     "efd42ca6ab5b44cc98f26b64a8efbdf8": {
      "model_module": "@jupyter-widgets/base",
      "model_module_version": "2.0.0",
      "model_name": "LayoutModel",
      "state": {
       "_model_module": "@jupyter-widgets/base",
       "_model_module_version": "2.0.0",
       "_model_name": "LayoutModel",
       "_view_count": null,
       "_view_module": "@jupyter-widgets/base",
       "_view_module_version": "2.0.0",
       "_view_name": "LayoutView",
       "align_content": null,
       "align_items": null,
       "align_self": null,
       "border_bottom": null,
       "border_left": null,
       "border_right": null,
       "border_top": null,
       "bottom": null,
       "display": null,
       "flex": null,
       "flex_flow": null,
       "grid_area": null,
       "grid_auto_columns": null,
       "grid_auto_flow": null,
       "grid_auto_rows": null,
       "grid_column": null,
       "grid_gap": null,
       "grid_row": null,
       "grid_template_areas": null,
       "grid_template_columns": null,
       "grid_template_rows": null,
       "height": null,
       "justify_content": null,
       "justify_items": null,
       "left": null,
       "margin": null,
       "max_height": null,
       "max_width": null,
       "min_height": null,
       "min_width": null,
       "object_fit": null,
       "object_position": null,
       "order": null,
       "overflow": null,
       "padding": null,
       "right": null,
       "top": null,
       "visibility": null,
       "width": null
      }
     },
     "fee2f1458ae64804b68d75378cadffc3": {
      "model_module": "@jupyter-widgets/controls",
      "model_module_version": "2.0.0",
      "model_name": "HBoxModel",
      "state": {
       "_dom_classes": [],
       "_model_module": "@jupyter-widgets/controls",
       "_model_module_version": "2.0.0",
       "_model_name": "HBoxModel",
       "_view_count": null,
       "_view_module": "@jupyter-widgets/controls",
       "_view_module_version": "2.0.0",
       "_view_name": "HBoxView",
       "box_style": "",
       "children": [
        "IPY_MODEL_6751f7f6b9524a65b6a8360139ef87e9",
        "IPY_MODEL_a9c01c0fcf554c578e8f82a4d48c15bb",
        "IPY_MODEL_64061e05c57540fab7721b023452d178"
       ],
       "layout": "IPY_MODEL_217bfa01e828478da37cf478aa52a872",
       "tabbable": null,
       "tooltip": null
      }
     }
    },
    "version_major": 2,
    "version_minor": 0
   }
  }
 },
 "nbformat": 4,
 "nbformat_minor": 5
}