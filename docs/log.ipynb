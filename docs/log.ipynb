{
 "cells": [
  {
   "cell_type": "markdown",
   "id": "92bcb855",
   "metadata": {
    "papermill": {
     "duration": 0.006366,
     "end_time": "2022-10-12T04:57:54.130880",
     "exception": false,
     "start_time": "2022-10-12T04:57:54.124514",
     "status": "completed"
    },
    "tags": []
   },
   "source": [
    "# MPIA Arxiv on Deck 2\n",
    "\n",
    "Contains the steps to produce the paper extractions."
   ]
  },
  {
   "cell_type": "code",
   "execution_count": 1,
   "id": "3a0d6e11",
   "metadata": {
    "execution": {
     "iopub.execute_input": "2022-10-12T04:57:54.142184Z",
     "iopub.status.busy": "2022-10-12T04:57:54.141814Z",
     "iopub.status.idle": "2022-10-12T04:57:54.347856Z",
     "shell.execute_reply": "2022-10-12T04:57:54.346736Z"
    },
    "papermill": {
     "duration": 0.215194,
     "end_time": "2022-10-12T04:57:54.350625",
     "exception": false,
     "start_time": "2022-10-12T04:57:54.135431",
     "status": "completed"
    },
    "tags": []
   },
   "outputs": [],
   "source": [
    "# Imports\n",
    "import os\n",
    "from IPython.display import Markdown, display\n",
    "from tqdm.notebook import tqdm\n",
    "import warnings\n",
    "from PIL import Image \n",
    "\n",
    "# requires arxiv_on_deck_2\n",
    "\n",
    "from arxiv_on_deck_2.arxiv2 import (get_new_papers, \n",
    "                                    get_paper_from_identifier,\n",
    "                                    retrieve_document_source, \n",
    "                                    get_markdown_badge)\n",
    "from arxiv_on_deck_2 import (latex, \n",
    "                             mpia,\n",
    "                             highlight_authors_in_list)\n",
    "\n",
    "# Sometimes images are really big\n",
    "Image.MAX_IMAGE_PIXELS = 1000000000 "
   ]
  },
  {
   "cell_type": "code",
   "execution_count": 2,
   "id": "22aa9d44",
   "metadata": {
    "execution": {
     "iopub.execute_input": "2022-10-12T04:57:54.364111Z",
     "iopub.status.busy": "2022-10-12T04:57:54.363417Z",
     "iopub.status.idle": "2022-10-12T04:57:54.369233Z",
     "shell.execute_reply": "2022-10-12T04:57:54.368454Z"
    },
    "papermill": {
     "duration": 0.014068,
     "end_time": "2022-10-12T04:57:54.371180",
     "exception": false,
     "start_time": "2022-10-12T04:57:54.357112",
     "status": "completed"
    },
    "tags": []
   },
   "outputs": [],
   "source": [
    "# Some useful definitions.\n",
    "\n",
    "class AffiliationWarning(UserWarning):\n",
    "    pass\n",
    "\n",
    "class AffiliationError(RuntimeError):\n",
    "    pass\n",
    "\n",
    "def validation(source: str):\n",
    "    \"\"\"Raises error paper during parsing of source file\n",
    "    \n",
    "    Allows checks before parsing TeX code.\n",
    "    \n",
    "    Raises AffiliationWarning\n",
    "    \"\"\"\n",
    "    check = mpia.affiliation_verifications(source, verbose=True)\n",
    "    if check is not True:\n",
    "        raise AffiliationError(\"mpia.affiliation_verifications: \" + check)\n",
    "\n",
    "        \n",
    "warnings.simplefilter('always', AffiliationWarning)"
   ]
  },
  {
   "cell_type": "code",
   "execution_count": 3,
   "id": "14622700",
   "metadata": {
    "execution": {
     "iopub.execute_input": "2022-10-12T04:57:54.384445Z",
     "iopub.status.busy": "2022-10-12T04:57:54.383696Z",
     "iopub.status.idle": "2022-10-12T04:57:54.390311Z",
     "shell.execute_reply": "2022-10-12T04:57:54.389513Z"
    },
    "papermill": {
     "duration": 0.016676,
     "end_time": "2022-10-12T04:57:54.392591",
     "exception": false,
     "start_time": "2022-10-12T04:57:54.375915",
     "status": "completed"
    },
    "tags": []
   },
   "outputs": [],
   "source": [
    "# additional CSS to consider. \n",
    "# TODO: Current into each exported file. \n",
    "#       This should be set once into the webpages directly.\n",
    "#       With only the class/id definitions in the .md files.\n",
    "\n",
    "debug_html = \"\"\"\n",
    "<style>\n",
    "#wrap{ overflow:auto; }\n",
    "#fig1{ background:yellow; width:100%; float:left; padding:5px;  }\n",
    "#fig2{ background:red; width:50%; float:left; clear:left; padding:5px;  }\n",
    "#fig3{ background:green; width:50%; float:left; padding:5px;   }\n",
    ".macros{ background:yellow; visibility:visible;}\n",
    "h1 {margin: 0 0 0 0;}\n",
    "mark {background-color:#fff3b6;}\n",
    "img {object-fit:contain; max-height:250px; display:inline-block; text-align: center;}\n",
    "</style>\n",
    "\"\"\" \n",
    "html = \"\"\"\n",
    "<style>\n",
    "#wrap{ overflow:auto; }\n",
    "#fig1{ width:100%; float:left; padding: 5px;  }\n",
    "#fig2{ width:50%; float:left; clear:left; padding: 5px;  }\n",
    "#fig3{ width:50%; float:left; padding: 5px;  }\n",
    ".macros{ visibility:hidden; height:0px; }\n",
    "h1 {margin: 0em 0 0 0;}\n",
    "mark {background-color:#fff3b6;}\n",
    "img {object-fit:contain; max-height:250px; display:inline-block; text-align: center;}\n",
    "</style>\n",
    "\"\"\""
   ]
  },
  {
   "cell_type": "markdown",
   "id": "14bd6310",
   "metadata": {
    "papermill": {
     "duration": 0.005088,
     "end_time": "2022-10-12T04:57:54.405192",
     "exception": false,
     "start_time": "2022-10-12T04:57:54.400104",
     "status": "completed"
    },
    "tags": []
   },
   "source": [
    "## get list of arxiv paper candidates\n",
    "\n",
    "We use the MPIA mitarbeiter list webpage from mpia.de to get author names\n",
    "We then get all new papers from Arxiv and match authors"
   ]
  },
  {
   "cell_type": "code",
   "execution_count": 4,
   "id": "2645e73a",
   "metadata": {
    "execution": {
     "iopub.execute_input": "2022-10-12T04:57:54.416098Z",
     "iopub.status.busy": "2022-10-12T04:57:54.415497Z",
     "iopub.status.idle": "2022-10-12T04:58:22.628346Z",
     "shell.execute_reply": "2022-10-12T04:58:22.627178Z"
    },
    "papermill": {
     "duration": 28.221271,
     "end_time": "2022-10-12T04:58:22.630859",
     "exception": false,
     "start_time": "2022-10-12T04:57:54.409588",
     "status": "completed"
    },
    "tags": []
   },
   "outputs": [
    {
     "name": "stdout",
     "output_type": "stream",
     "text": [
      "Arxiv has 71 new papers today\n",
      "          29 with possible author matches\n"
     ]
    }
   ],
   "source": [
    "# get list from MPIA website\n",
    "# it automatically filters identified non-scientists :func:`mpia.filter_non_scientists`\n",
    "mpia_authors = mpia.get_mpia_mitarbeiter_list()\n",
    "new_papers = get_new_papers()\n",
    "# add manual references\n",
    "add_paper_refs = []\n",
    "new_papers.extend([get_paper_from_identifier(k) for k in add_paper_refs])\n",
    "\n",
    "# select only papers with matching author names and highlight authors\n",
    "hl_list = [k[0] for k in mpia_authors]\n",
    "\n",
    "candidates = []\n",
    "for paperk in new_papers:\n",
    "    hl_authors = highlight_authors_in_list(paperk['authors'], hl_list)\n",
    "    matches = [(hl, orig) for hl, orig in zip(hl_authors, paperk['authors']) if 'mark' in hl]\n",
    "    paperk['authors'] = hl_authors\n",
    "    if matches:\n",
    "        candidates.append(paperk)\n",
    "print(\"\"\"Arxiv has {0:,d} new papers today\"\"\".format(len(new_papers)))        \n",
    "print(\"\"\"          {0:,d} with possible author matches\"\"\".format(len(candidates)))"
   ]
  },
  {
   "cell_type": "markdown",
   "id": "3543b34a",
   "metadata": {
    "papermill": {
     "duration": 0.027784,
     "end_time": "2022-10-12T04:58:22.665218",
     "exception": false,
     "start_time": "2022-10-12T04:58:22.637434",
     "status": "completed"
    },
    "tags": []
   },
   "source": [
    "# Parse sources and generate relevant outputs\n",
    "\n",
    "From the candidates, we do the following steps:\n",
    "* get their tarball from ArXiv (and extract data)\n",
    "* find the main .tex file: find one with \\documentclass{...} (sometimes it's non trivial)\n",
    "* Check affiliations with :func:`validation`, which uses :func:`mpia.affiliation_verifications`\n",
    "* If passing the affiliations: we parse the .tex source\n",
    "   * inject sub-documents into the main (flatten the main document)\n",
    "   * parse structure, extract information (title, abstract, authors, figures...)\n",
    "   * handles `\\graphicspath` if provided\n",
    "* Generate the .md document."
   ]
  },
  {
   "cell_type": "code",
   "execution_count": 5,
   "id": "9576b79e",
   "metadata": {
    "execution": {
     "iopub.execute_input": "2022-10-12T04:58:22.716996Z",
     "iopub.status.busy": "2022-10-12T04:58:22.716588Z",
     "iopub.status.idle": "2022-10-12T05:00:29.384346Z",
     "shell.execute_reply": "2022-10-12T05:00:29.383438Z"
    },
    "papermill": {
     "duration": 126.712967,
     "end_time": "2022-10-12T05:00:29.386062",
     "exception": false,
     "start_time": "2022-10-12T04:58:22.673095",
     "status": "completed"
    },
    "scrolled": false,
    "tags": []
   },
   "outputs": [
    {
     "data": {
      "application/vnd.jupyter.widget-view+json": {
       "model_id": "e721f6e52a2a434888ef6feca4f298b9",
       "version_major": 2,
       "version_minor": 0
      },
      "text/plain": [
       "  0%|          | 0/28 [00:00<?, ?it/s]"
      ]
     },
     "metadata": {},
     "output_type": "display_data"
    },
    {
     "name": "stdout",
     "output_type": "stream",
     "text": [
      "Retrieving document from  https://arxiv.org/e-print/2210.04896\n"
     ]
    },
    {
     "name": "stdout",
     "output_type": "stream",
     "text": [
      "extracting tarball to tmp_2210.04896..."
     ]
    },
    {
     "name": "stdout",
     "output_type": "stream",
     "text": [
      " done.\n",
      "Retrieving document from  https://arxiv.org/e-print/2210.04902\n"
     ]
    },
    {
     "name": "stdout",
     "output_type": "stream",
     "text": [
      "extracting tarball to tmp_2210.04902..."
     ]
    },
    {
     "name": "stdout",
     "output_type": "stream",
     "text": [
      " done.\n",
      "Retrieving document from  https://arxiv.org/e-print/2210.04904\n"
     ]
    },
    {
     "name": "stdout",
     "output_type": "stream",
     "text": [
      "extracting tarball to tmp_2210.04904..."
     ]
    },
    {
     "name": "stdout",
     "output_type": "stream",
     "text": [
      " done.\n",
      "Retrieving document from  https://arxiv.org/e-print/2210.04907\n"
     ]
    },
    {
     "name": "stdout",
     "output_type": "stream",
     "text": [
      "extracting tarball to tmp_2210.04907..."
     ]
    },
    {
     "name": "stdout",
     "output_type": "stream",
     "text": [
      " done.\n",
      "Retrieving document from  https://arxiv.org/e-print/2210.04910\n"
     ]
    },
    {
     "name": "stdout",
     "output_type": "stream",
     "text": [
      "extracting tarball to tmp_2210.04910..."
     ]
    },
    {
     "name": "stdout",
     "output_type": "stream",
     "text": [
      " done.\n",
      "Retrieving document from  https://arxiv.org/e-print/2210.04912\n"
     ]
    },
    {
     "name": "stderr",
     "output_type": "stream",
     "text": [
      "/opt/hostedtoolcache/Python/3.9.14/x64/lib/python3.9/site-packages/IPython/core/interactiveshell.py:3378: LatexWarning: Multiple tex files.\n",
      "\n",
      "  exec(code_obj, self.user_global_ns, self.user_ns)\n",
      "/opt/hostedtoolcache/Python/3.9.14/x64/lib/python3.9/site-packages/IPython/core/interactiveshell.py:3378: LatexWarning: Found documentclass in tmp_2210.04910/espresso.tex\n",
      "\n",
      "  exec(code_obj, self.user_global_ns, self.user_ns)\n",
      "/opt/hostedtoolcache/Python/3.9.14/x64/lib/python3.9/site-packages/arxiv_on_deck_2/latex.py:292: LatexWarning: Latex injecting: 'plots_and_tables/chemistry' from 'tmp_2210.04910/plots_and_tables/chemistry.tex'\n",
      "  warnings.warn(LatexWarning(f\"Latex injecting: '{ext}' from '{subsource}'\"))\n",
      "/opt/hostedtoolcache/Python/3.9.14/x64/lib/python3.9/site-packages/arxiv_on_deck_2/latex.py:292: LatexWarning: Latex injecting: 'plots_and_tables/orbit' from 'tmp_2210.04910/plots_and_tables/orbit.tex'\n",
      "  warnings.warn(LatexWarning(f\"Latex injecting: '{ext}' from '{subsource}'\"))\n",
      "/opt/hostedtoolcache/Python/3.9.14/x64/lib/python3.9/site-packages/arxiv_on_deck_2/latex.py:292: LatexWarning: Latex injecting: 'plots_and_tables/table1_new' from 'tmp_2210.04910/plots_and_tables/table1_new.tex'\n",
      "  warnings.warn(LatexWarning(f\"Latex injecting: '{ext}' from '{subsource}'\"))\n",
      "/opt/hostedtoolcache/Python/3.9.14/x64/lib/python3.9/site-packages/arxiv_on_deck_2/latex.py:292: LatexWarning: Latex injecting: 'plots_and_tables/table_param' from 'tmp_2210.04910/plots_and_tables/table_param.tex'\n",
      "  warnings.warn(LatexWarning(f\"Latex injecting: '{ext}' from '{subsource}'\"))\n"
     ]
    },
    {
     "name": "stdout",
     "output_type": "stream",
     "text": [
      "extracting tarball to tmp_2210.04912..."
     ]
    },
    {
     "name": "stdout",
     "output_type": "stream",
     "text": [
      " done.\n",
      "Retrieving document from  https://arxiv.org/e-print/2210.04922\n"
     ]
    },
    {
     "name": "stderr",
     "output_type": "stream",
     "text": [
      "/opt/hostedtoolcache/Python/3.9.14/x64/lib/python3.9/site-packages/IPython/core/interactiveshell.py:3378: LatexWarning: Multiple tex files.\n",
      "\n",
      "  exec(code_obj, self.user_global_ns, self.user_ns)\n",
      "/opt/hostedtoolcache/Python/3.9.14/x64/lib/python3.9/site-packages/IPython/core/interactiveshell.py:3378: LatexWarning: Found documentclass in tmp_2210.04912/main.tex\n",
      "\n",
      "  exec(code_obj, self.user_global_ns, self.user_ns)\n",
      "/opt/hostedtoolcache/Python/3.9.14/x64/lib/python3.9/site-packages/arxiv_on_deck_2/latex.py:292: LatexWarning: Latex injecting: 'author-list' from 'tmp_2210.04912/author-list.tex'\n",
      "  warnings.warn(LatexWarning(f\"Latex injecting: '{ext}' from '{subsource}'\"))\n"
     ]
    },
    {
     "name": "stderr",
     "output_type": "stream",
     "text": [
      "/tmp/ipykernel_2226/4030337529.py:34: LatexWarning: 2210.04922 did not run properly\n",
      "not a gzip file\n",
      "  warnings.warn(latex.LatexWarning(f\"{paper_id:s} did not run properly\\n\" +\n"
     ]
    },
    {
     "name": "stdout",
     "output_type": "stream",
     "text": [
      "Retrieving document from  https://arxiv.org/e-print/2210.04926\n"
     ]
    },
    {
     "name": "stdout",
     "output_type": "stream",
     "text": [
      "extracting tarball to tmp_2210.04926..."
     ]
    },
    {
     "name": "stdout",
     "output_type": "stream",
     "text": [
      " done.\n",
      "Retrieving document from  https://arxiv.org/e-print/2210.04934\n"
     ]
    },
    {
     "name": "stdout",
     "output_type": "stream",
     "text": [
      "extracting tarball to tmp_2210.04934..."
     ]
    },
    {
     "name": "stdout",
     "output_type": "stream",
     "text": [
      " done.\n",
      "Retrieving document from  https://arxiv.org/e-print/2210.05003\n"
     ]
    },
    {
     "name": "stdout",
     "output_type": "stream",
     "text": [
      "extracting tarball to tmp_2210.05003..."
     ]
    },
    {
     "name": "stdout",
     "output_type": "stream",
     "text": [
      " done.\n",
      "Retrieving document from  https://arxiv.org/e-print/2210.05057\n"
     ]
    },
    {
     "name": "stderr",
     "output_type": "stream",
     "text": [
      "/opt/hostedtoolcache/Python/3.9.14/x64/lib/python3.9/site-packages/IPython/core/interactiveshell.py:3378: LatexWarning: Multiple tex files.\n",
      "\n",
      "  exec(code_obj, self.user_global_ns, self.user_ns)\n",
      "/opt/hostedtoolcache/Python/3.9.14/x64/lib/python3.9/site-packages/IPython/core/interactiveshell.py:3378: LatexWarning: Found documentclass in tmp_2210.05003/main.tex\n",
      "\n",
      "  exec(code_obj, self.user_global_ns, self.user_ns)\n",
      "/opt/hostedtoolcache/Python/3.9.14/x64/lib/python3.9/site-packages/arxiv_on_deck_2/latex.py:292: LatexWarning: Latex injecting: '4373_vel_table' from 'tmp_2210.05003/4373_vel_table.tex'\n",
      "  warnings.warn(LatexWarning(f\"Latex injecting: '{ext}' from '{subsource}'\"))\n",
      "/opt/hostedtoolcache/Python/3.9.14/x64/lib/python3.9/site-packages/arxiv_on_deck_2/latex.py:292: LatexWarning: Latex injecting: '4373_photom_table' from 'tmp_2210.05003/4373_photom_table.tex'\n",
      "  warnings.warn(LatexWarning(f\"Latex injecting: '{ext}' from '{subsource}'\"))\n"
     ]
    },
    {
     "name": "stdout",
     "output_type": "stream",
     "text": [
      "extracting tarball to tmp_2210.05057..."
     ]
    },
    {
     "name": "stdout",
     "output_type": "stream",
     "text": [
      " done.\n",
      "Retrieving document from  https://arxiv.org/e-print/2210.05085\n"
     ]
    },
    {
     "name": "stderr",
     "output_type": "stream",
     "text": [
      "/opt/hostedtoolcache/Python/3.9.14/x64/lib/python3.9/site-packages/IPython/core/interactiveshell.py:3378: LatexWarning: Multiple tex files.\n",
      "\n",
      "  exec(code_obj, self.user_global_ns, self.user_ns)\n",
      "/opt/hostedtoolcache/Python/3.9.14/x64/lib/python3.9/site-packages/IPython/core/interactiveshell.py:3378: LatexWarning: Found documentclass in tmp_2210.05057/xip_Y3.tex\n",
      "\n",
      "  exec(code_obj, self.user_global_ns, self.user_ns)\n",
      "/opt/hostedtoolcache/Python/3.9.14/x64/lib/python3.9/site-packages/arxiv_on_deck_2/latex.py:292: LatexWarning: Latex injecting: 'author_list.tex' from 'tmp_2210.05057/author_list.tex'\n",
      "  warnings.warn(LatexWarning(f\"Latex injecting: '{ext}' from '{subsource}'\"))\n"
     ]
    },
    {
     "name": "stdout",
     "output_type": "stream",
     "text": [
      "extracting tarball to tmp_2210.05085..."
     ]
    },
    {
     "name": "stdout",
     "output_type": "stream",
     "text": [
      " done.\n",
      "Retrieving document from  https://arxiv.org/e-print/2210.05090\n"
     ]
    },
    {
     "name": "stdout",
     "output_type": "stream",
     "text": [
      "extracting tarball to tmp_2210.05090..."
     ]
    },
    {
     "name": "stdout",
     "output_type": "stream",
     "text": [
      " done.\n",
      "Retrieving document from  https://arxiv.org/e-print/2210.05161\n"
     ]
    },
    {
     "name": "stdout",
     "output_type": "stream",
     "text": [
      "extracting tarball to tmp_2210.05161... done.\n",
      "Retrieving document from  https://arxiv.org/e-print/2210.05202\n"
     ]
    },
    {
     "name": "stdout",
     "output_type": "stream",
     "text": [
      "extracting tarball to tmp_2210.05202... done.\n",
      "Retrieving document from  https://arxiv.org/e-print/2210.05207\n"
     ]
    },
    {
     "name": "stdout",
     "output_type": "stream",
     "text": [
      "extracting tarball to tmp_2210.05207..."
     ]
    },
    {
     "name": "stdout",
     "output_type": "stream",
     "text": [
      " done.\n",
      "Retrieving document from  https://arxiv.org/e-print/2210.05215\n"
     ]
    },
    {
     "name": "stderr",
     "output_type": "stream",
     "text": [
      "/opt/hostedtoolcache/Python/3.9.14/x64/lib/python3.9/site-packages/IPython/core/interactiveshell.py:3378: LatexWarning: Multiple tex files.\n",
      "\n",
      "  exec(code_obj, self.user_global_ns, self.user_ns)\n",
      "/opt/hostedtoolcache/Python/3.9.14/x64/lib/python3.9/site-packages/IPython/core/interactiveshell.py:3378: LatexWarning: Found documentclass in tmp_2210.05207/OHM-var.tex\n",
      "\n",
      "  exec(code_obj, self.user_global_ns, self.user_ns)\n",
      "/opt/hostedtoolcache/Python/3.9.14/x64/lib/python3.9/site-packages/arxiv_on_deck_2/latex.py:292: LatexWarning: Latex injecting: 'figures/Table6' from 'tmp_2210.05207/figures/Table6.tex'\n",
      "  warnings.warn(LatexWarning(f\"Latex injecting: '{ext}' from '{subsource}'\"))\n",
      "/opt/hostedtoolcache/Python/3.9.14/x64/lib/python3.9/site-packages/arxiv_on_deck_2/latex.py:292: LatexWarning: Latex injecting: 'figures/Table5' from 'tmp_2210.05207/figures/Table5.tex'\n",
      "  warnings.warn(LatexWarning(f\"Latex injecting: '{ext}' from '{subsource}'\"))\n"
     ]
    },
    {
     "name": "stdout",
     "output_type": "stream",
     "text": [
      "extracting tarball to tmp_2210.05215..."
     ]
    },
    {
     "name": "stdout",
     "output_type": "stream",
     "text": [
      " done.\n",
      "Retrieving document from  https://arxiv.org/e-print/2210.05312\n"
     ]
    },
    {
     "name": "stdout",
     "output_type": "stream",
     "text": [
      "extracting tarball to tmp_2210.05312..."
     ]
    },
    {
     "name": "stdout",
     "output_type": "stream",
     "text": [
      " done.\n",
      "Retrieving document from  https://arxiv.org/e-print/2210.05315\n"
     ]
    },
    {
     "name": "stdout",
     "output_type": "stream",
     "text": [
      "extracting tarball to tmp_2210.05315..."
     ]
    },
    {
     "name": "stdout",
     "output_type": "stream",
     "text": [
      " done.\n",
      "Retrieving document from  https://arxiv.org/e-print/2210.05381\n"
     ]
    },
    {
     "name": "stdout",
     "output_type": "stream",
     "text": [
      "extracting tarball to tmp_2210.05381..."
     ]
    },
    {
     "name": "stdout",
     "output_type": "stream",
     "text": [
      " done.\n",
      "Retrieving document from  https://arxiv.org/e-print/2210.05410\n"
     ]
    },
    {
     "name": "stdout",
     "output_type": "stream",
     "text": [
      "extracting tarball to tmp_2210.05410..."
     ]
    },
    {
     "name": "stdout",
     "output_type": "stream",
     "text": [
      " done.\n",
      "Retrieving document from  https://arxiv.org/e-print/2210.05414\n"
     ]
    },
    {
     "name": "stderr",
     "output_type": "stream",
     "text": [
      "/opt/hostedtoolcache/Python/3.9.14/x64/lib/python3.9/site-packages/IPython/core/interactiveshell.py:3378: LatexWarning: Multiple tex files.\n",
      "\n",
      "  exec(code_obj, self.user_global_ns, self.user_ns)\n",
      "/opt/hostedtoolcache/Python/3.9.14/x64/lib/python3.9/site-packages/IPython/core/interactiveshell.py:3378: LatexWarning: Found documentclass in tmp_2210.05410/mnras_guide.tex\n",
      "\n",
      "  exec(code_obj, self.user_global_ns, self.user_ns)\n"
     ]
    },
    {
     "name": "stdout",
     "output_type": "stream",
     "text": [
      "extracting tarball to tmp_2210.05414..."
     ]
    },
    {
     "name": "stdout",
     "output_type": "stream",
     "text": [
      " done.\n",
      "Retrieving document from  https://arxiv.org/e-print/2210.05428\n"
     ]
    },
    {
     "name": "stderr",
     "output_type": "stream",
     "text": [
      "/tmp/ipykernel_2226/4030337529.py:34: LatexWarning: 2210.05428 did not run properly\n",
      "not a gzip file\n",
      "  warnings.warn(latex.LatexWarning(f\"{paper_id:s} did not run properly\\n\" +\n"
     ]
    },
    {
     "name": "stdout",
     "output_type": "stream",
     "text": [
      "Retrieving document from  https://arxiv.org/e-print/2210.05450\n"
     ]
    },
    {
     "name": "stdout",
     "output_type": "stream",
     "text": [
      "extracting tarball to tmp_2210.05450..."
     ]
    },
    {
     "name": "stdout",
     "output_type": "stream",
     "text": [
      " done.\n",
      "Retrieving document from  https://arxiv.org/e-print/2210.05486\n"
     ]
    },
    {
     "name": "stdout",
     "output_type": "stream",
     "text": [
      "extracting tarball to tmp_2210.05486..."
     ]
    },
    {
     "name": "stdout",
     "output_type": "stream",
     "text": [
      " done.\n",
      "Retrieving document from  https://arxiv.org/e-print/2210.05505\n"
     ]
    },
    {
     "name": "stdout",
     "output_type": "stream",
     "text": [
      "extracting tarball to tmp_2210.05505..."
     ]
    },
    {
     "name": "stdout",
     "output_type": "stream",
     "text": [
      " done.\n"
     ]
    },
    {
     "name": "stdout",
     "output_type": "stream",
     "text": [
      "Retrieving document from  https://arxiv.org/e-print/2210.05563\n"
     ]
    },
    {
     "name": "stdout",
     "output_type": "stream",
     "text": [
      "extracting tarball to tmp_2210.05563..."
     ]
    },
    {
     "name": "stdout",
     "output_type": "stream",
     "text": [
      " done.\n",
      "Retrieving document from  https://arxiv.org/e-print/2210.05595\n"
     ]
    },
    {
     "name": "stdout",
     "output_type": "stream",
     "text": [
      "extracting tarball to tmp_2210.05595..."
     ]
    },
    {
     "name": "stdout",
     "output_type": "stream",
     "text": [
      " done.\n"
     ]
    },
    {
     "name": "stderr",
     "output_type": "stream",
     "text": [
      "/opt/hostedtoolcache/Python/3.9.14/x64/lib/python3.9/site-packages/arxiv_on_deck_2/latex.py:118: LatexWarning: attempting recovering figure Model_C_mixture_edited.png\n",
      "  warnings.warn(LatexWarning(f'attempting recovering figure {image}'))\n"
     ]
    }
   ],
   "source": [
    "documents = []\n",
    "failed = []\n",
    "for paper in tqdm(candidates[:-1]):\n",
    "    paper_id = paper['identifier'].lower().replace('arxiv:', '')\n",
    "    \n",
    "    folder = f'tmp_{paper_id}'\n",
    "\n",
    "    try:\n",
    "        if not os.path.isdir(folder):\n",
    "            folder = retrieve_document_source(f\"{paper_id}\", f'tmp_{paper_id}')\n",
    "        \n",
    "        try:\n",
    "            doc = latex.LatexDocument(folder, validation=validation)    \n",
    "        except AffiliationError as affilerror:\n",
    "            msg = f\"ArXiv:{paper_id:s} is not an MPIA paper... \" + str(affilerror)\n",
    "            failed.append((paper, \"affiliation error: \" + str(affilerror) ))\n",
    "            continue\n",
    "        \n",
    "        # Hack because sometimes author parsing does not work well\n",
    "        if (len(doc.authors) != len(paper['authors'])):\n",
    "            doc._authors = paper['authors']\n",
    "        if (doc.abstract) in (None, ''):\n",
    "            doc._abstract = paper['abstract']\n",
    "            \n",
    "        doc.comment = (get_markdown_badge(paper_id) + \n",
    "                       \"<mark>Appeared on: \" + paper['date'] + \"</mark> - \" +\n",
    "                       \"_\" + paper['comments'] + \"_\")\n",
    "        doc.highlight_authors_in_list(hl_list)\n",
    "\n",
    "        full_md = doc.generate_markdown_text()\n",
    "        \n",
    "        documents.append((paper_id, full_md))\n",
    "    except Exception as e:\n",
    "        warnings.warn(latex.LatexWarning(f\"{paper_id:s} did not run properly\\n\" +\n",
    "                                         str(e)\n",
    "                                        ))\n",
    "        failed.append((paper, \"latex error \" + str(e)))"
   ]
  },
  {
   "cell_type": "markdown",
   "id": "2505a25c",
   "metadata": {
    "papermill": {
     "duration": 0.010346,
     "end_time": "2022-10-12T05:00:29.404900",
     "exception": false,
     "start_time": "2022-10-12T05:00:29.394554",
     "status": "completed"
    },
    "tags": []
   },
   "source": [
    "### Export the logs\n",
    "\n",
    "Throughout, we also keep track of the logs per paper. see `logs-{today date}.md` "
   ]
  },
  {
   "cell_type": "code",
   "execution_count": 6,
   "id": "d733828a",
   "metadata": {
    "execution": {
     "iopub.execute_input": "2022-10-12T05:00:29.422945Z",
     "iopub.status.busy": "2022-10-12T05:00:29.422207Z",
     "iopub.status.idle": "2022-10-12T05:00:29.485760Z",
     "shell.execute_reply": "2022-10-12T05:00:29.484952Z"
    },
    "papermill": {
     "duration": 0.078904,
     "end_time": "2022-10-12T05:00:29.491442",
     "exception": false,
     "start_time": "2022-10-12T05:00:29.412538",
     "status": "completed"
    },
    "scrolled": false,
    "tags": []
   },
   "outputs": [
    {
     "data": {
      "text/markdown": [
       "## Successful papers"
      ],
      "text/plain": [
       "<IPython.core.display.Markdown object>"
      ]
     },
     "metadata": {},
     "output_type": "display_data"
    },
    {
     "data": {
      "text/markdown": [
       "\n",
       "|||\n",
       "|---:|:---|\n",
       "| [![arXiv](https://img.shields.io/badge/arXiv-arXiv:2210.05505-b31b1b.svg)](https://arxiv.org/abs/arXiv:2210.05505) | **Quasar and galaxy classification using Gaia EDR3 and CatWise2020**  |\n",
       "|| <mark>Arvind C.N. Hughes</mark>, <mark>Coryn A.L. Bailer-Jones</mark>, <mark>Sara Jamal</mark> |\n",
       "|*Appeared on*| *2022-10-12*|\n",
       "|*Comments*| *21 pages, 23 figures, Accepted for publication in A&A*|\n",
       "|**Abstract**| In this work, we assess the combined use of Gaia photometry and astrometry with infrared data from CatWISE in improving the identification of extragalactic sources compared to the classification obtained using Gaia data. We evaluate different input feature configurations and prior functions, with the aim of presenting a classification methodology integrating prior knowledge stemming from realistic class distributions in the universe. In our work, we compare different classifiers, namely Gaussian Mixture Models (GMMs), XGBoost and CatBoost, and classify sources into three classes - star, quasar, and galaxy, with the target quasar and galaxy class labels obtained from SDSS16 and the star label from Gaia EDR3. In our approach, we adjust the posterior probabilities to reflect the intrinsic distribution of extragalactic sources in the universe via a prior function. We introduce two priors, a global prior reflecting the overall rarity of quasars and galaxies, and a mixed prior that incorporates in addition the distribution of the these sources as a function of Galactic latitude and magnitude. Our best classification performances, in terms of completeness and purity of the galaxy and quasar classes, are achieved using the mixed prior for sources at high latitudes and in the magnitude range G = 18.5 to 19.5. We apply our identified best-performing classifier to three application datasets from Gaia DR3, and find that the global prior is more conservative in what it considers to be a quasar or a galaxy compared to the mixed prior. In particular, when applied to the pure quasar and galaxy candidates samples, we attain a purity of 97% for quasars and 99.9% for galaxies using the global prior, and purities of 96% and 99% respectively using the mixed prior. We conclude our work by discussing the importance of applying adjusted priors portraying realistic class distributions in the universe. |"
      ],
      "text/plain": [
       "[arXiv:2210.05505] Quasar and galaxy classification using Gaia EDR3 and CatWise2020\n",
       "\t<mark>Arvind C.N. Hughes</mark>, <mark>Coryn A.L. Bailer-Jones</mark>, <mark>Sara Jamal</mark>"
      ]
     },
     "metadata": {},
     "output_type": "display_data"
    },
    {
     "data": {
      "text/markdown": [
       "\n",
       "|||\n",
       "|---:|:---|\n",
       "| [![arXiv](https://img.shields.io/badge/arXiv-arXiv:2210.05595-b31b1b.svg)](https://arxiv.org/abs/arXiv:2210.05595) | **The Exoplanet Radius Valley from Gas-driven Planet Migration and  Breaking of Resonant Chains**  |\n",
       "|| Andre Izidoro, et al. -- incl., <mark>Christian Zimmermann</mark>, <mark>Bertram Bitsch</mark> |\n",
       "|*Appeared on*| *2022-10-12*|\n",
       "|*Comments*| *Accepted for publicationn in ApJL*|\n",
       "|**Abstract**| The size frequency distribution of exoplanet radii between 1 and 4$R_{\\oplus}$ is bimodal with peaks at $\\sim$1.4 $R_{\\oplus}$ and $\\sim$2.4 $R_{\\oplus}$, and a valley at $\\sim$1.8$R_{\\oplus}$. This radius valley separates two classes of planets -- usually referred to as \"super-Earths\" and \"mini-Neptunes\" -- and its origin remains debated. One model proposes that super-Earths are the outcome of photo-evaporation or core-powered mass-loss stripping the primordial atmospheres of the mini-Neptunes. A contrasting model interprets the radius valley as a dichotomy in the bulk compositions, where super-Earths are rocky planets and mini-Neptunes are water-ice rich worlds. In this work, we test whether the migration model is consistent with the radius valley and how it distinguishes these views. In the migration model, planets migrate towards the disk inner edge forming a chain of planets locked in resonant configurations. After the gas disk dispersal, orbital instabilities \"break the chains\" and promote late collisions. This model broadly matches the period-ratio and planet-multiplicity distributions of Kepler planets, and accounts for resonant chains such as TRAPPIST-1, Kepler-223, and TOI-178. Here, by combining the outcome of planet formation simulations with compositional mass-radius relationships, and assuming complete loss of primordial H-rich atmospheres in late giant-impacts, we show that the migration model accounts for the exoplanet radius valley and the intra-system uniformity (\"peas-in-a-pod\") of Kepler planets. Our results suggest that planets with sizes of $\\sim$1.4 $R_{\\oplus}$ are mostly rocky, whereas those with sizes of $\\sim$2.4 $R_{\\oplus}$ are mostly water-ice rich worlds. Our results do not support an exclusively rocky composition for the cores of mini-Neptunes. |"
      ],
      "text/plain": [
       "[arXiv:2210.05595] The Exoplanet Radius Valley from Gas-driven Planet Migration and  Breaking of Resonant Chains\n",
       "\tAndre Izidoro, et al. -- incl., <mark>Christian Zimmermann</mark>, <mark>Bertram Bitsch</mark>"
      ]
     },
     "metadata": {},
     "output_type": "display_data"
    },
    {
     "data": {
      "text/markdown": [
       "## Failed papers"
      ],
      "text/plain": [
       "<IPython.core.display.Markdown object>"
      ]
     },
     "metadata": {},
     "output_type": "display_data"
    },
    {
     "data": {
      "text/markdown": [
       "\n",
       "|||\n",
       "|---:|:---|\n",
       "| [![arXiv](https://img.shields.io/badge/arXiv-arXiv:2210.05161-b31b1b.svg)](https://arxiv.org/abs/arXiv:2210.05161) | **Spectroscopic follow-up of statistically selected extremely metal-poor  star candidates from GALAH DR3**  |\n",
       "|| G. S. Da Costa, et al. -- incl., <mark>Arvind C. N. Hughes</mark>, <mark>Lee R. Spitler</mark> |\n",
       "|*Appeared on*| *2022-10-12*|\n",
       "|*Comments*| *submitted to MNRAS; 7 pages, 5 figures*|\n",
       "|**Abstract**| The advent of large-scale stellar spectroscopic surveys naturally leads to the implementation of machine learning techniques to isolate, for example, small sub-samples of potentially interesting stars from the full data set. A recent example is the application of the t-SNE statistical method to $\\sim$600,000 stellar spectra from the GALAH survey in order to identify a sample of candidate extremely metal-poor (EMP, [Fe/H] $\\leq$ -3) stars. We report the outcome of low-resolution spectroscopic follow-up of 83 GALAH EMP candidates that lack any previous metallicity estimates. Overall, the statistical selection is found to be efficient ($\\sim$one-third of the candidates have [Fe/H] $\\leq$ -2.75) with low contamination ($<$10% have [Fe/H] $>$ -2), and with a metallicity distribution function that is consistent with previous work. Five stars are found to have [Fe/H] $\\leq$ -3.0, one of which is a main sequence turnoff star. Two other stars are revealed as likely CEMP-$s$ stars and a known carbon star is re-discovered. The results indicate that the statistical selection approach employed is valid, and therefore it can be applied to forthcoming even larger stellar spectroscopic surveys with the expectation of similar positive outcomes. |\n",
       "|<p style=\"color:green\"> **ERROR** </p>| <p style=\"color:green\">affiliation error: mpia.affiliation_verifications: '69117' keyword not found.</p> |"
      ],
      "text/plain": [
       "<IPython.core.display.Markdown object>"
      ]
     },
     "metadata": {},
     "output_type": "display_data"
    },
    {
     "data": {
      "text/markdown": [
       "\n",
       "|||\n",
       "|---:|:---|\n",
       "| [![arXiv](https://img.shields.io/badge/arXiv-arXiv:2210.05215-b31b1b.svg)](https://arxiv.org/abs/arXiv:2210.05215) | **Galaxy-halo size relation from SDSS DR7 and the ELUCID simulation**  |\n",
       "|| <mark>Youcai Zhang</mark>, Xiaohu Yang, <mark>Hong Guo</mark> |\n",
       "|*Appeared on*| *2022-10-12*|\n",
       "|*Comments*| *10 pages, 8 figures, accepted for publication in MNRAS*|\n",
       "|**Abstract**| Based on galaxies in the Sloan Digital Sky Survey Data Release 7 (SDSS DR7) and dark matter haloes in the dark matter only, cosmological and constrained ELUCID simulation, we investigate the relation between the observed radii of central galaxies with stellar mass $\\gtrsim 10^{8} h^{-2}{\\rm M}_\\odot$ and the virial radii of their host dark matter haloes with virial mass $\\gtrsim 10^{10.5} h^{-1}{\\rm M}_\\odot$, and the dependence of galaxy-halo size relation on the halo spin and concentration. Galaxies in observation are matched to dark matter (sub-)haloes in the ELUCID simulation using a novel neighborhood subhalo abundance matching method. For galaxy 2D half-light radii $R_{50}$, we find that early- and late-type galaxies have the same power-law index 0.55 with $R_{50} \\propto R_{\\rm vir}^{0.55}$, although early-type galaxies have smaller 2D half-light radii than late-type galaxies at fixed halo virial radii. When converting the 2D half-light radii $R_{50}$ to 3D half-mass radii $r_{1/2}$, both early- and late-type galaxies display similar galaxy-halo size relations with $\\log r_{1/2} = 0.55 \\log (R_{\\rm vir}/210 h^{-1}{\\rm kpc}) + 0.39$. We find that the galaxy-halo size ratio $r_{1/2}/ R_{\\rm vir}$ decreases with increasing halo mass. At fixed halo mass, there is no significant dependence of galaxy-halo size ratio on the halo spin or concentration. |\n",
       "|<p style=\"color:green\"> **ERROR** </p>| <p style=\"color:green\">affiliation error: mpia.affiliation_verifications: '69117' keyword not found.</p> |"
      ],
      "text/plain": [
       "<IPython.core.display.Markdown object>"
      ]
     },
     "metadata": {},
     "output_type": "display_data"
    },
    {
     "data": {
      "text/markdown": [
       "\n",
       "|||\n",
       "|---:|:---|\n",
       "| [![arXiv](https://img.shields.io/badge/arXiv-arXiv:2210.04896-b31b1b.svg)](https://arxiv.org/abs/arXiv:2210.04896) | **Discovering Ca II Absorption Lines With a Neural Network**  |\n",
       "|| Iona Xia, Jian Ge, Kevin Willis, <mark>Yinan Zhao</mark> |\n",
       "|*Appeared on*| *2022-10-12*|\n",
       "|*Comments*| *15 pages, 15 figures, 5 tables; To be published in the Monthly Notices of the Royal Astronomical Society (MNRAS)*|\n",
       "|**Abstract**| Quasar absorption line analysis is critical for studying gas and dust components and their physical and chemical properties as well as the evolution and formation of galaxies in the early universe. Ca II absorbers, which are one of the dustiest absorbers and are located at lower redshifts than most other absorbers, are especially valuable when studying physical processes and conditions in recent galaxies. However, the number of known quasar Ca II absorbers is relatively low due to the difficulty of detecting them with traditional methods. In this work, we developed an accurate and quick approach to search for Ca II absorption lines using deep learning. In our deep learning model, a convolutional neural network, tuned using simulated data, is used for the classification task. The simulated training data are generated by inserting artificial Ca II absorption lines into original quasar spectra from the Sloan Digital Sky Survey (SDSS) whilst an existing Ca II catalog is adopted as the test set. The resulting model achieves an accuracy of 96% on the real data in the test set. Our solution runs thousands of times faster than traditional methods, taking a fraction of a second to analyze thousands of quasars while traditional methods may take days to weeks. The trained neural network is applied to quasar spectra from SDSS's DR7 and DR12 and discovered 399 new quasar Ca II absorbers. In addition, we confirmed 409 known quasar Ca II absorbers identified previously by other research groups through traditional methods. |\n",
       "|<p style=\"color:green\"> **ERROR** </p>| <p style=\"color:green\">affiliation error: mpia.affiliation_verifications: 'Heidelberg' keyword not found.</p> |"
      ],
      "text/plain": [
       "<IPython.core.display.Markdown object>"
      ]
     },
     "metadata": {},
     "output_type": "display_data"
    },
    {
     "data": {
      "text/markdown": [
       "\n",
       "|||\n",
       "|---:|:---|\n",
       "| [![arXiv](https://img.shields.io/badge/arXiv-arXiv:2210.04902-b31b1b.svg)](https://arxiv.org/abs/arXiv:2210.04902) | **Semi-analytic forecasts for Roman -- the beginning of a new era of  deep-wide galaxy surveys**  |\n",
       "|| L. Y. Aaron Yung, et al. -- incl., <mark>Henry C. Ferguson</mark> |\n",
       "|*Appeared on*| *2022-10-12*|\n",
       "|*Comments*| *24 pages, 16 figures. Submitted to MNRAS*|\n",
       "|**Abstract**| The Nancy Grace Roman Space Telescope, NASA's next flagship observatory, will redefine deep-field galaxy survey with a field of view two orders of magnitude larger than Hubble and an angular resolution of matching quality. These future deep-wide galaxy surveys necessitate new simulations to forecast their scientific output and to optimise survey strategies. In this work, we present five realizations of 2-deg^2 lightcones, containing a total of >25 million simulated galaxies with -16 < MUV < -25 spanning z ~ 0 to 10. This dataset enables a new set of experiments with the impacts of survey size on the derived galaxy formation and cosmological constraints. The intrinsic and observable galaxy properties are predicted using a well-established, physics-based semi-analytic modelling approach. We provide forecasts for number density, cosmic SFR, field-to-field variance, and angular two-point correlation functions, and demonstrate how the future wide-field surveys will be able to improve these measurements relative to current generation surveys. We also present a comparison between these lightcones and others that have been constructed with empirical models. The mock lightcones are designed to facilitate the exploration of multi-instrument synergies and connecting with current generation instruments and legacy surveys. In addition to Roman, we also provide photometry for a number of other instruments on upcoming facilities, including Euclid and Rubin, as well as the instruments that are part of many legacy surveys. Full object catalogues and data tables for the results presented in this work are made available through a web-based, interactive portal https://www.simonsfoundation.org/semi-analytic-forecasts. |\n",
       "|<p style=\"color:green\"> **ERROR** </p>| <p style=\"color:green\">affiliation error: mpia.affiliation_verifications: 'Heidelberg' keyword not found.</p> |"
      ],
      "text/plain": [
       "<IPython.core.display.Markdown object>"
      ]
     },
     "metadata": {},
     "output_type": "display_data"
    },
    {
     "data": {
      "text/markdown": [
       "\n",
       "|||\n",
       "|---:|:---|\n",
       "| [![arXiv](https://img.shields.io/badge/arXiv-arXiv:2210.04904-b31b1b.svg)](https://arxiv.org/abs/arXiv:2210.04904) | **Ultradense dark matter haloes accompanying primordial black holes**  |\n",
       "|| M. Sten Delos, <mark>Joseph Silk</mark> |\n",
       "|*Appeared on*| *2022-10-12*|\n",
       "|*Comments*| *5 pages, 3 figures*|\n",
       "|**Abstract**| Primordial black holes (PBHs) form from large-amplitude initial density fluctuations and may comprise some or all of the dark matter. If PBHs have an extended mass spectrum, or in mixed PBH-particle dark matter scenarios, the extreme density fluctuations necessary to produce PBHs also lead to the formation of a much greater abundance of dark matter minihaloes with internal densities potentially of order $10^{12}$ M$_\\odot$ pc$^{-3}$. We develop an analytic description of the formation of these ultradense haloes and use it to quantitatively compare PBH and halo distributions. PBHs that contribute only a per cent level fraction of the dark matter are accompanied by ultradense haloes that nevertheless comprise an order-unity fraction. This finding significantly alters the predictions of many PBH scenarios, enabling a variety of new observational tests. |\n",
       "|<p style=\"color:green\"> **ERROR** </p>| <p style=\"color:green\">affiliation error: mpia.affiliation_verifications: 'Heidelberg' keyword not found.</p> |"
      ],
      "text/plain": [
       "<IPython.core.display.Markdown object>"
      ]
     },
     "metadata": {},
     "output_type": "display_data"
    },
    {
     "data": {
      "text/markdown": [
       "\n",
       "|||\n",
       "|---:|:---|\n",
       "| [![arXiv](https://img.shields.io/badge/arXiv-arXiv:2210.04907-b31b1b.svg)](https://arxiv.org/abs/arXiv:2210.04907) | **Prospects for Detecting Fast Radio Bursts in Globular Clusters of Nearby  Galaxies**  |\n",
       "|| Kyle Kremer, et al. -- incl., <mark>Dongzi Li</mark>, <mark>Bing Zhang</mark> |\n",
       "|*Appeared on*| *2022-10-12*|\n",
       "|*Comments*| *20 pages, 9 figures, 2 tables. Submitted to ApJ. Comments welcome!*|\n",
       "|**Abstract**| The recent detection of a repeating fast radio burst (FRB) in an old globular cluster in M81 challenges traditional FRB formation mechanisms based on magnetic activity in young neutron stars formed recently in core-collapse supernovae. Furthermore, the detection of this repeater in such a nearby galaxy implies a high local universe rate of similar events in globular clusters. Building off the properties inferred from the M81 FRB, we predict the number of FRB sources in nearby ($d \\lesssim 20\\,$Mpc) galaxies with large globular cluster systems known. Incorporating the uncertain burst energy distribution, we estimate the rate of bursts detectable in these galaxies by radio instruments such as FAST and MeerKat. Of all local galaxies, we find M87 is the best candidate for FRB detections. We predict M87's globular cluster system contains $\\mathcal{O}(10)$ FRB sources at present and that a dedicated radio survey (by FAST) of $\\mathcal{O}(10)\\,$hr has a $90\\%$ probability of detecting a globular cluster FRB in M87. The detection of even a handful of additional globular cluster FRBs would provide invaluable constraints on FRB mechanisms and population properties. Previous studies have demonstrated young neutron stars formed following collapse of dynamically-formed massive white dwarf binary mergers may provide the most natural mechanism for these bursts. We explore the white dwarf merger scenario using a suite of $N$-body cluster models, focusing in particular on such mergers in M87 clusters. We describe a number of outstanding features of this scenario that in principle may be testable with an ensemble of observed FRBs in nearby globular clusters. |\n",
       "|<p style=\"color:green\"> **ERROR** </p>| <p style=\"color:green\">affiliation error: mpia.affiliation_verifications: 'Heidelberg' keyword not found.</p> |"
      ],
      "text/plain": [
       "<IPython.core.display.Markdown object>"
      ]
     },
     "metadata": {},
     "output_type": "display_data"
    },
    {
     "data": {
      "text/markdown": [
       "\n",
       "|||\n",
       "|---:|:---|\n",
       "| [![arXiv](https://img.shields.io/badge/arXiv-arXiv:2210.04910-b31b1b.svg)](https://arxiv.org/abs/arXiv:2210.04910) | **Espresso observations of HE 0107$-$5240 and other CEMP-no stars with  $\\rm [Fe/H]\\le -4.5$**  |\n",
       "|| D. Aguado, et al. -- incl., <mark>J. I. González Hernández</mark> |\n",
       "|*Appeared on*| *2022-10-12*|\n",
       "|*Comments*| *15 pages, 7 Figures. Accepted for publication in A&A*|\n",
       "|**Abstract**| HE 0107$-$5240 is a hyper metal-poor star with $\\rm [Fe/H]=-5.39$. We performed high-res observations with the ESPRESSO spectrograph at the VLT to constrain the kinematical properties of the binary system HE 0107$-$5240 and to probe the binarity of the sample of 8 most metal-poor stars with $\\rm [Fe/H]<-4.5$. Radial velocities are obtained by using cross-correlation in the interval 4200$-$4315A, which contains the strong CH band, against a template in an iterative process. A Bayesian method is applied to calculate the orbit by using the ESPRESSO measurements and others from the literature. A chemical analysis has also been performed in HE0107$-$5240 by means of spectral synthesis. Observations of HE 0107$-$5240 spanning more than 3 years show a monotonic decreasing trend in radial velocity at a rate of approximately by 0.5 ms$^{-1}$d$^{-1}$. The period is constrained at $P_{\\rm orb} = 13009_{-1370}^{+1496}$d. New more stringent upper-limits have been found for several elements: a)[Sr/Fe] and [Ba/Fe] are lower than $-0.76$ and $+0.2$ respectively, confirming the star is a CEMP-no; b)$A(Li)< 0.5$ is well below the plateau at $A(Li)=1.1$ found in the Lower Red Giant Branch stars, suggesting Li was originally depleted; and c)the isotopic ratio $^{12}$C/$^{13}$C is 87$\\pm6$ showing very low $^{13}$C in contrast to what expected from a spinstar progenitor. We confirm that HE 0107$-$5240 is a binary star with a long period of about 13000d ($\\sim36$ years).The carbon isotopic ratio excludes the possibility that the companion has gone through the AGB phase and transferred mass to the currently observed star. The binarity of HE 0107$-$5240 implies some of the first generations of low-mass stars form in multiple systems and indicates that the low metallicity does not preclude the formation of binaries. Finally, a solid indication of $v_{ rad}$ variation has been found also in SMSS 1605$-$1443. |\n",
       "|<p style=\"color:green\"> **ERROR** </p>| <p style=\"color:green\">affiliation error: mpia.affiliation_verifications: 'Heidelberg' keyword not found.</p> |"
      ],
      "text/plain": [
       "<IPython.core.display.Markdown object>"
      ]
     },
     "metadata": {},
     "output_type": "display_data"
    },
    {
     "data": {
      "text/markdown": [
       "\n",
       "|||\n",
       "|---:|:---|\n",
       "| [![arXiv](https://img.shields.io/badge/arXiv-arXiv:2210.04912-b31b1b.svg)](https://arxiv.org/abs/arXiv:2210.04912) | **Improved Constraints on the 21 cm EoR Power Spectrum and the X-Ray  Heating of the IGM with HERA Phase I Observations**  |\n",
       "|| HERA Collaboration, et al. -- incl., <mark>Stefan Heimersheim</mark>, <mark>Jacqueline N. Hewitt</mark> |\n",
       "|*Appeared on*| *2022-10-12*|\n",
       "|*Comments*| *55 pages, 37 figures. Submitted to ApJ. Corresponding author: Joshua S. Dillon*|\n",
       "|**Abstract**| We report the most sensitive upper limits to date on the 21 cm epoch of reionization power spectrum using 94 nights of observing with Phase I of the Hydrogen Epoch of Reionization Array (HERA). Using similar analysis techniques as in previously reported limits (HERA Collaboration 2022a), we find at 95% confidence that $\\Delta^2(k = 0.34$ $h$ Mpc$^{-1}$) $\\leq 457$ mK$^2$ at $z = 7.9$ and that $\\Delta^2 (k = 0.36$ $h$ Mpc$^{-1}) \\leq 3,496$ mK$^2$ at $z = 10.4$, an improvement by a factor of 2.1 and 2.6 respectively. These limits are mostly consistent with thermal noise over a wide range of $k$ after our data quality cuts, despite performing a relatively conservative analysis designed to minimize signal loss. Our results are validated with both statistical tests on the data and end-to-end pipeline simulations. We also report updated constraints on the astrophysics of reionization and the cosmic dawn. Using multiple independent modeling and inference techniques previously employed by HERA Collaboration (2022b), we find that the intergalactic medium must have been heated above the adiabatic cooling limit at least as early as $z = 10.4$, ruling out a broad set of so-called \"cold reionization\" scenarios. If this heating is due to high-mass X-ray binaries during the cosmic dawn, as is generally believed, our result's 99% credible interval excludes the local relationship between soft X-ray luminosity and star formation and thus requires heating driven by evolved low-metallicity stars. |\n",
       "|<p style=\"color:green\"> **ERROR** </p>| <p style=\"color:green\">affiliation error: mpia.affiliation_verifications: 'Heidelberg' keyword not found.</p> |"
      ],
      "text/plain": [
       "<IPython.core.display.Markdown object>"
      ]
     },
     "metadata": {},
     "output_type": "display_data"
    },
    {
     "data": {
      "text/markdown": [
       "\n",
       "|||\n",
       "|---:|:---|\n",
       "| [![arXiv](https://img.shields.io/badge/arXiv-arXiv:2210.04926-b31b1b.svg)](https://arxiv.org/abs/arXiv:2210.04926) | **Sciences with Thai National Radio Telescope**  |\n",
       "|| Phrudth Jaroenjittichai, et al. -- incl., <mark>Busaba H. Kramer</mark>, <mark>James A. Green</mark>, <mark>Michael Kramer</mark>, <mark>Di Li</mark>, <mark>Bo Zhang</mark> |\n",
       "|*Appeared on*| *2022-10-12*|\n",
       "|*Comments*| *75 pages, 16 figures, 15 tables. White Paper for Potential Key Sciences to be Achieved with Thai National Radio Telescope (TNRT)*|\n",
       "|**Abstract**| This White Paper summarises potential key science topics to be achieved with Thai National Radio Telescope (TNRT). The commissioning phase has started in mid 2022. The key science topics consist of \"Pulsars and Fast Radio Bursts (FRBs)\", \"Star Forming Regions (SFRs)\", \"Galaxy and Active Galactic Nuclei (AGNs)\", \"Evolved Stars\", \"Radio Emission of Chemically Peculiar (CP) Stars\", and \"Geodesy\", covering a wide range of observing frequencies in L/C/X/Ku/K/Q/W-bands (1-115 GHz). As a single-dish instrument, TNRT is a perfect tool to explore time domain astronomy with its agile observing systems and flexible operation. Due to its ideal geographical location, TNRT will significantly enhance Very Long Baseline Interferometry (VLBI) arrays, such as East Asian VLBI Network (EAVN), Australia Long Baseline Array (LBA), European VLBI Network (EVN), in particular via providing a unique coverage of the sky resulting in a better complete \"uv\" coverage, improving synthesized-beam and imaging quality with reducing side-lobes. This document highlights key science topics achievable with TNRT in single-dish mode and in collaboration with VLBI arrays. |\n",
       "|<p style=\"color:green\"> **ERROR** </p>| <p style=\"color:green\">affiliation error: mpia.affiliation_verifications: 'Heidelberg' keyword not found.</p> |"
      ],
      "text/plain": [
       "<IPython.core.display.Markdown object>"
      ]
     },
     "metadata": {},
     "output_type": "display_data"
    },
    {
     "data": {
      "text/markdown": [
       "\n",
       "|||\n",
       "|---:|:---|\n",
       "| [![arXiv](https://img.shields.io/badge/arXiv-arXiv:2210.04934-b31b1b.svg)](https://arxiv.org/abs/arXiv:2210.04934) | **Filament Formation via Collision-induced Magnetic Reconnection --  Formation of a Star Cluster**  |\n",
       "|| Shuo Kong, David Whitworth, <mark>Rowan J. Smith</mark>, Erika T. Hamden |\n",
       "|*Appeared on*| *2022-10-12*|\n",
       "|*Comments*| *18 pages, 13 figures, 1 table, accepted by MNRAS*|\n",
       "|**Abstract**| A collision-induced magnetic reconnection (CMR) mechanism was recently proposed to explain the formation of a filament in the Orion A molecular cloud. In this mechanism, a collision between two clouds with antiparallel magnetic fields produces a dense filament due to the magnetic tension of the reconnected fields. The filament contains fiber-like sub-structures and is confined by a helical magnetic field. To show whether the dense filament is capable of forming stars, we use the \\textsc{Arepo} code with sink particles to model star formation following the formation of the CMR-filament. First, the CMR-filament formation is confirmed with \\textsc{Arepo}. Second, the filament is able to form a star cluster after it collapses along its main axis. Compared to the control model without magnetic fields, the CMR model shows two distinctive features. First, the CMR-cluster is confined to a factor of $\\sim4$ smaller volume. The confinement is due to the combination of the helical field and gravity. Second, the CMR model has a factor of $\\sim2$ lower star formation rate. The slower star formation is again due to the surface helical field that hinders gas inflow from larger scales. Mass is only supplied to the accreting cluster through streamers. |\n",
       "|<p style=\"color:green\"> **ERROR** </p>| <p style=\"color:green\">affiliation error: mpia.affiliation_verifications: 'Heidelberg' keyword not found.</p> |"
      ],
      "text/plain": [
       "<IPython.core.display.Markdown object>"
      ]
     },
     "metadata": {},
     "output_type": "display_data"
    },
    {
     "data": {
      "text/markdown": [
       "\n",
       "|||\n",
       "|---:|:---|\n",
       "| [![arXiv](https://img.shields.io/badge/arXiv-arXiv:2210.05003-b31b1b.svg)](https://arxiv.org/abs/arXiv:2210.05003) | **A non-interacting Galactic black hole candidate in a binary system with  a main-sequence star**  |\n",
       "|| Sukanya Chakrabarti, et al. -- incl., <mark>Henrique Reggiani</mark>, <mark>Daniel R. Hey</mark> |\n",
       "|*Appeared on*| *2022-10-12*|\n",
       "|*Comments*| *22 pages, 13 figures, submitted to AAS journals*|\n",
       "|**Abstract**| We describe the discovery of a solar neighborhood ($d=474$~pc) binary system consisting of a main-sequence sunlike star and a massive non-interacting black hole candidate. We selected this system from the \\textit{Gaia} DR3 binary catalog based on its high mass ratio and location close to the main sequence. The spectral energy distribution (SED) of the visible star is well described by a single stellar model, indicating that no contribution from another luminous source is needed to fit the observed photometry. We derive stellar parameters from a high S/N Magellan/MIKE spectrum, classifying the star as a main-sequence star with $T_{\\rm eff} = 5972~\\rm K$, $\\log{g} = 4.54$, and $M = 0.91$~\\msun. The spectrum also shows no indication of a second luminous component. We have measured radial velocities of this system with the Automated Planet Finder, Magellan, and Keck over the past three months, which we use to determine the spectroscopic orbit of the binary. We show that the velocity data are consistent with the \\textit{Gaia} astrometric orbit and provide independent evidence for a massive dark companion. From a combined fit of the astrometric and spectroscopic data, we derive a companion mass of $11.9^{+2.0}_{-1.6}$\\msun. We conclude that this binary system harbors a massive black hole on an eccentric $(e =0.45 \\pm 0.02)$, long-period ($185.4 \\pm 0.1$ d) orbit. The main-sequence star that orbits this black hole is moderately metal-poor ($\\mbox{[Fe/H]} = -0.30$), on a Galactic orbit similar to thin disk stars. Our conclusions are independent of \\cite{ElBadry2022Disc}, who recently reported the discovery of the same system, and find a marginally lower companion mass than we do here. |\n",
       "|<p style=\"color:green\"> **ERROR** </p>| <p style=\"color:green\">affiliation error: mpia.affiliation_verifications: 'Heidelberg' keyword not found.</p> |"
      ],
      "text/plain": [
       "<IPython.core.display.Markdown object>"
      ]
     },
     "metadata": {},
     "output_type": "display_data"
    },
    {
     "data": {
      "text/markdown": [
       "\n",
       "|||\n",
       "|---:|:---|\n",
       "| [![arXiv](https://img.shields.io/badge/arXiv-arXiv:2210.05057-b31b1b.svg)](https://arxiv.org/abs/arXiv:2210.05057) | **Dark Energy Survey Year 3 Results: Measurement of the Baryon Acoustic  Oscillations with Three-dimensional Clustering**  |\n",
       "|| K. C. Chan, et al. -- incl., <mark>C. Lidman</mark>, <mark>M. Lima</mark> |\n",
       "|*Appeared on*| *2022-10-12*|\n",
       "|*Comments*| *20 pages, 12 figures*|\n",
       "|**Abstract**| The three-dimensional correlation function offers an effective way to summarize the correlation of the large-scale structure even for imaging galaxy surveys. We have applied the projected three-dimensional correlation function, $\\xi_{\\rm p}$ to measure the Baryonic Acoustic Oscillations (BAO) scale on the first-three years Dark Energy Survey data. The sample consists of about 7 million galaxies in the redshift range $ 0.6 < z_{\\rm p } < 1.1 $ over a footprint of $4108 \\, \\mathrm{deg}^2 $. Our theory modeling includes the impact of realistic true redshift distributions beyond Gaussian photo-$z$ approximation. To increase the signal-to-noise of the measurements, a Gaussian stacking window function is adopted in place of the commonly used top-hat. Using the full sample, $ D_{\\rm M}(z_{\\rm eff} ) / r_{\\rm s} $, the ratio between the comoving angular diameter distance and the sound horizon, is constrained to be $ 19.00 \\pm 0.67 $ (top-hat) and $ 19.15 \\pm 0.58 $ (Gaussian) at $z_{\\rm eff} = 0.835$. The constraint is weaker than the angular correlation $w$ constraint ($18.84 \\pm 0.50$) because the BAO signals are heterogeneous across redshift. When a homogeneous BAO-signal sub-sample in the range $ 0.7 < z_{\\rm p } < 1.0 $ ($z_{\\rm eff} = 0.845$) is considered, $\\xi_{\\rm p} $ yields $ 19.80 \\pm 0.67 $ (top-hat) and $ 19.84 \\pm 0.53 $ (Gaussian). The latter is mildly stronger than the $w$ constraint ($19.86 \\pm 0.55 $). We find that the $\\xi_{\\rm p} $ results are more sensitive to photo-$z$ errors than $w$ because $\\xi_{\\rm p}$ keeps the three-dimensional clustering information causing it to be more prone to photo-$z$ noise. The Gaussian window gives more robust results than the top-hat as the former is designed to suppress the low signal modes. $\\xi_{\\rm p}$ and the angular statistics such as $w$ have their own pros and cons, and they serve an important crosscheck with each other. |\n",
       "|<p style=\"color:green\"> **ERROR** </p>| <p style=\"color:green\">affiliation error: mpia.affiliation_verifications: 'Heidelberg' keyword not found.</p> |"
      ],
      "text/plain": [
       "<IPython.core.display.Markdown object>"
      ]
     },
     "metadata": {},
     "output_type": "display_data"
    },
    {
     "data": {
      "text/markdown": [
       "\n",
       "|||\n",
       "|---:|:---|\n",
       "| [![arXiv](https://img.shields.io/badge/arXiv-arXiv:2210.05085-b31b1b.svg)](https://arxiv.org/abs/arXiv:2210.05085) | **NGC 6153: Reality is complicated**  |\n",
       "|| Michael G. Richer, et al. -- incl., <mark>Silvia Torres-Peimbert</mark> |\n",
       "|*Appeared on*| *2022-10-12*|\n",
       "|*Comments*| *55 pages, 51 figures, 9 tables, accepted for publication in The Astronomical Journal*|\n",
       "|**Abstract**| We study the kinematics of emission lines that arise from many physical processes in NGC 6153 based upon deep, spatially-resolved, high resolution spectra acquired with the UVES spectrograph at the ESO VLT. Our most basic finding is that the plasma in NGC 6153 is complex, especially its temperature structure. The kinematics of most emission lines defines a classic expansion law, with the outer part expanding fastest (normal nebular plasma). However, the permitted lines of \\ion{O}{1}, \\ion{C}{2}, \\ion{N}{2}, \\ion{O}{2}, and \\ion{Ne}{2} present a constant expansion velocity that defines a second kinematic component (additional plasma component). The physical conditions imply two plasma components, with the additional plasma component having lower temperature and higher density. The [\\ion{O}{2}] density and the [\\ion{N}{2}] temperature are anomalous, but may be understood considering the contribution of recombination to these forbidden lines. The two plasma components have very different temperatures. The normal nebular plasma appears to be have temperature fluctuations in part of its volume (main shell), but only small fluctuations elsewhere. The additional plasma component contains about half of the mass of the N$^{2+}$ and O$^{2+}$ ions, but only $3-5$\\% of the mass of H$^+$ ions, so the two plasma components have very different chemical abundances. We estimate abundances of $12+\\log(\\mathrm O^{2+}/\\mathrm H^+)\\sim 9.2$\\,dex and $\\mathrm{He}/\\mathrm H\\sim 0.13$. Although they are all complications, multiple plasma components, temperature fluctuations, and the contributions of multiple physical processes to a given emission line are all part of the reality in NGC 6153, and should generally be taken into account. |\n",
       "|<p style=\"color:green\"> **ERROR** </p>| <p style=\"color:green\">affiliation error: mpia.affiliation_verifications: 'Heidelberg' keyword not found.</p> |"
      ],
      "text/plain": [
       "<IPython.core.display.Markdown object>"
      ]
     },
     "metadata": {},
     "output_type": "display_data"
    },
    {
     "data": {
      "text/markdown": [
       "\n",
       "|||\n",
       "|---:|:---|\n",
       "| [![arXiv](https://img.shields.io/badge/arXiv-arXiv:2210.05090-b31b1b.svg)](https://arxiv.org/abs/arXiv:2210.05090) | **New ASKAP Radio Supernova Remnants and Candidates in the Large  Magellanic Cloud**  |\n",
       "|| Luke M. Bozzetto, et al. -- incl., <mark>P. Maggi</mark> |\n",
       "|*Appeared on*| *2022-10-12*|\n",
       "|*Comments*| *accepted for publication in MNRAS*|\n",
       "|**Abstract**| We present a new Australian Square Kilometre Array Pathfinder (ASKAP) sample of 14 radio Supernova Remnant (SNR) candidates in the Large Magellanic Cloud (LMC). This new sample is a significant increase to the known number of older, larger and low surface brightness LMC SNRs. We employ a multi-frequency search for each object and found possible traces of optical and occasionally X-ray emission in several of these 14 SNR candidates. One of these 14 SNR candidates (MCSNR J0522-6543) has multi-frequency properties that strongly indicate a bona fide SNR. We also investigate a sample of 20 previously suggested LMC SNR candidates and confirm the SNR nature of MCSNR J0506-6815. We detect lower surface brightness SNR candidates which were likely formed by a combination of shock waves and strong stellar winds from massive progenitors (and possibly surrounding OB stars). Some of our new SNR candidates are also found in a lower density environments in which SNe type Ia explode inside a previously excavated interstellar medium (ISM). |\n",
       "|<p style=\"color:green\"> **ERROR** </p>| <p style=\"color:green\">affiliation error: mpia.affiliation_verifications: 'Heidelberg' keyword not found.</p> |"
      ],
      "text/plain": [
       "<IPython.core.display.Markdown object>"
      ]
     },
     "metadata": {},
     "output_type": "display_data"
    },
    {
     "data": {
      "text/markdown": [
       "\n",
       "|||\n",
       "|---:|:---|\n",
       "| [![arXiv](https://img.shields.io/badge/arXiv-arXiv:2210.05202-b31b1b.svg)](https://arxiv.org/abs/arXiv:2210.05202) | **Cosmological-model-independent determination of Hubble constant from  fast radio bursts and Hubble parameter measurements**  |\n",
       "|| <mark>Yang Liu</mark>, Hongwei Yu, Puxun Wu |\n",
       "|*Appeared on*| *2022-10-12*|\n",
       "|*Comments*| *12 pages, 2 figures*|\n",
       "|**Abstract**| We establish a new cosmological-model-independent method to determine the Hubble constant $H_0$ from the localized FRBs and the Hubble parameter measurements and obtain a first such determination $H_0=70.60\\pm2.11~\\mathrm{km/s/Mpc}$ of about 3.00\\% uncertainty with data from the eighteen localized FRBs and nineteen Hubble parameter measurements in the redshift range $0<z\\leq0.66$. This value, which is independent of the cosmological model, lies in the middle of the results from the Planck CMB observations and the nearby type Ia supernovae (SN Ia) data. Simulations show that the uncertainty of $H_0$ can be decreased to the level of that from the nearby SN Ia when mock data from 500 localized FRBs with 25 Hubble parameter in the redshift range of $0<z\\leq1$ are used. Since localized FRBs are expected to be detected in large quantities, our method will be able to give a reliable and more precise determination of $H_0$ in the very near future, which will help us to figure out the possible origin of the Hubble constant tension. |\n",
       "|<p style=\"color:green\"> **ERROR** </p>| <p style=\"color:green\">affiliation error: mpia.affiliation_verifications: 'Heidelberg' keyword not found.</p> |"
      ],
      "text/plain": [
       "<IPython.core.display.Markdown object>"
      ]
     },
     "metadata": {},
     "output_type": "display_data"
    },
    {
     "data": {
      "text/markdown": [
       "\n",
       "|||\n",
       "|---:|:---|\n",
       "| [![arXiv](https://img.shields.io/badge/arXiv-arXiv:2210.05207-b31b1b.svg)](https://arxiv.org/abs/arXiv:2210.05207) | **Radio Variability and Broad-Band Spectra of Infrared Galaxies with and  without OH Megamaser Emission**  |\n",
       "|| Yu. V. Sotnikova, et al. -- incl., <mark>T. A. Semenova</mark> |\n",
       "|*Appeared on*| *2022-10-12*|\n",
       "|*Comments*| *15 pages, 10 Figures, and 6 Tables*|\n",
       "|**Abstract**| We study the radio variability of galaxies with and without sources of hydroxyl (OH) megamaser radiation based on the continuum radio measurements conducted in 2019-2022 with the radio telescope RATAN-600 at frequencies of 2.3, 4.7, 8.2, and 11.2 GHz. Presumably, radio continuum emission significantly affects the megamaser radiation brightness, therefore, such a characteristic as the variability of radio emission is important for determining the OHM galaxies parameters. With additional data from the literature, the parameters of radio variability on a time scale up to 30 years were estimated. The median values of the variability index for 48 OHM galaxies are in the range $V_{S}=0.08$-$0.17$, and for 30 galaxies without OH emission they are $V_{S}=0.08$-$0.28$. For some individual galaxies in both samples, flux density variations reach 30-50%. These sources either are commonly associated with AGNs or reveal active star formation. Generally, the variability of luminous infrared galaxies with and without OH megamaser emission is moderate and of the same order of magnitude on long time scales. From estimating the spectral energy distribution parameters in a broad frequency range (from MHz to THz), we determined the spectral index below 50 GHz and the color temperatures of dust components for megamaser and control sample galaxies. At a level of $\\rho<0.05$, there are no statistically significant differences in the distribution of these parameters for the two samples, as well there are no statistically significant correlations between the dust color temperatures and the variability index or luminosity in the OH line. |\n",
       "|<p style=\"color:green\"> **ERROR** </p>| <p style=\"color:green\">affiliation error: mpia.affiliation_verifications: 'Heidelberg' keyword not found.</p> |"
      ],
      "text/plain": [
       "<IPython.core.display.Markdown object>"
      ]
     },
     "metadata": {},
     "output_type": "display_data"
    },
    {
     "data": {
      "text/markdown": [
       "\n",
       "|||\n",
       "|---:|:---|\n",
       "| [![arXiv](https://img.shields.io/badge/arXiv-arXiv:2210.05312-b31b1b.svg)](https://arxiv.org/abs/arXiv:2210.05312) | **KIC 7955301: a hierarchical triple system with eclipse timing variations  and an oscillating red giant**  |\n",
       "|| P. Gaulme, et al. -- incl., <mark>K. Pavlovski</mark>, <mark>A. Hedlund</mark> |\n",
       "|*Appeared on*| *2022-10-12*|\n",
       "|*Comments*| *Accepted in A&A, 25 pages, 17 figures, 7 tables*|\n",
       "|**Abstract**| KIC 7955301 is a hierarchical triple system with eclipse timing and depth variations discovered by the Kepler mission. It is composed of a non-eclipsing primary star at the bottom of the red giant branch on a 209-day orbit with a K/G-type main-sequence inner eclipsing binary, orbiting in 15.3 days. This system was noted for the large amplitude of its eclipse timing variations (4 hours), and the clear solar-like oscillations of the red-giant component, including p-modes of degree up to l=3 and mixed l=1 modes. The system is a single-lined spectroscopic triple. We perform a dynamical model by combining the Kepler photometric data, eclipse timing variations, and radial-velocity data obtained at Apache Point (ARCES) and Haute Provence (SOPHIE) observatories. The dynamical mass of the red-giant is determined with a 2% precision at 1.30 (+0.03,-0.02) solar mass. We perform asteroseismic modeling based on the global seismic parameters and on the individual frequencies. Both methods lead to a mass of the red giant that matches the dynamical mass within the uncertainties. Asteroseismology also reveals the rotation rate of the core (15 days), the envelope (150 days), and the inclination (75 deg) of the red giant. Three different approaches lead to an age between 3.3 and 5.8 Gyr, which highlights the difficulty of determining stellar ages despite the exceptional wealth of available information. On short timescales, the inner binary exhibits eclipses with varying depths during a 7.3-year long interval, and no eclipses during the consecutive 11.9 years. This is why Kepler could detect its eclipses, TESS will not, and the future ESA PLATO mission should. Over the long term, the system owes its evolution to the evolution of its individual components. It could end its current smooth evolution by merging by the end of the red giant or the asymptotic giant branch of the primary star. |\n",
       "|<p style=\"color:green\"> **ERROR** </p>| <p style=\"color:green\">affiliation error: mpia.affiliation_verifications: 'Heidelberg' keyword not found.</p> |"
      ],
      "text/plain": [
       "<IPython.core.display.Markdown object>"
      ]
     },
     "metadata": {},
     "output_type": "display_data"
    },
    {
     "data": {
      "text/markdown": [
       "\n",
       "|||\n",
       "|---:|:---|\n",
       "| [![arXiv](https://img.shields.io/badge/arXiv-arXiv:2210.05315-b31b1b.svg)](https://arxiv.org/abs/arXiv:2210.05315) | **Using debris disk observations to infer substellar companions orbiting  within or outside a parent planetesimal belt**  |\n",
       "|| <mark>T. A. Stuber</mark>, T. Löhne, S. Wolf |\n",
       "|*Appeared on*| *2022-10-12*|\n",
       "|*Comments*| *Accepted for publication in Astronomy & Astrophysics. 25 pages, 21 figures*|\n",
       "|**Abstract**| Aims. We analyze whether the effects of secular perturbations, originating from a substellar companion, on the dust dynamics in a debris disk can be investigated with spatially resolved observations. Methods. We numerically simulated the collisional evolution of narrow and eccentric cold planetesimal belts around a star of spectral type A3V that are secularly perturbed by a companion that orbits either closer to or farther from the star than the belt. Based on the resulting spatial dust distributions, we simulated spatially resolved maps of their surface brightness in the $K$, $N$, and $Q$ bands and at wavelengths of 70$\\mu$m and 1300$\\mu$m. Results. Assuming a nearby debris disk seen face-on, we find that the brightness distribution varies significantly with observing wavelength, for example between the $N$ and $Q$ band. This can be explained by the varying relative contribution of the emission of the smallest grains near the blowout limit. The orbits of both the small grains that form the halo and the large grains close to the parent belt precess due to the secular perturbations induced by a companion orbiting inward of the belt. The halo, being composed of older grains, trails the belt. The magnitude of the trailing decreases with increasing perturber mass and hence with increasing strength of the perturbation, a trend we recovered in synthetic maps of surface brightness by fitting ellipses to lines of constant brightness. Systems with an outer perturber do not show a uniform halo precession since the orbits of small grains are strongly altered. We identified features of the brightness distributions suitable for distinguishing between systems with a potentially detectable inner or outer perturber, especially with a combined observation with JWST/MIRI in the $Q$ band tracing small grain emission and with ALMA at mm wavelengths tracing the position of the parent planetesimal belt. |\n",
       "|<p style=\"color:green\"> **ERROR** </p>| <p style=\"color:green\">affiliation error: mpia.affiliation_verifications: 'Heidelberg' keyword not found.</p> |"
      ],
      "text/plain": [
       "<IPython.core.display.Markdown object>"
      ]
     },
     "metadata": {},
     "output_type": "display_data"
    },
    {
     "data": {
      "text/markdown": [
       "\n",
       "|||\n",
       "|---:|:---|\n",
       "| [![arXiv](https://img.shields.io/badge/arXiv-arXiv:2210.05381-b31b1b.svg)](https://arxiv.org/abs/arXiv:2210.05381) | **VERTICO IV: Environmental Effects on the Gas Distribution and Star  Formation Efficiency of Virgo Cluster Spirals**  |\n",
       "|| Vicente Villanueva, et al. -- incl., <mark>Tobias Brown</mark>, <mark>Mallory Thorp</mark>, <mark>Bumhyun Lee</mark> |\n",
       "|*Appeared on*| *2022-10-12*|\n",
       "|*Comments*| **|\n",
       "|**Abstract**| We measure the molecular-to-atomic gas ratio, $R_{\\rm mol}$, and the star formation rate (SFR) per unit molecular gas mass, SFE$_{\\rm mol}$, in 38 nearby galaxies selected from the Virgo Environment Traced in CO (VERTICO) survey. We stack ALMA $^{12}$CO(J=2-1) spectra coherently using \\hi\\ velocities from the VIVA survey to detect faint CO emission out to galactocentric radii $r_{\\rm gal} \\sim 1.2\\,r_{25}$. We determine the scale-lengths for the molecular and stellar components, finding a $\\sim$3:5 relation between them, and indicating that CO emission tends to be more centrally concentrated than stellar mass in VERTICO galaxies when compared to field galaxies. While the spatially-resolved $R_{\\rm mol}$ shows a decreasing trend with radius similar to field samples, the mean molecular-to-atomic gas ratio within the stellar effective radius $R_{\\rm e}$, $R_{\\rm mol}(r<R_{\\rm e})$, shows a systematic increase with the level of \\hi\\, truncation and/or asymmetry (perturbation). Analysis of the molecular- and the atomic-to-stellar mass ratios within $R_{\\rm e}$, $R^{\\rm mol}_{\\star}(r<R_{\\rm e})$ and $R^{\\rm atom}_{\\star}(r<R_{\\rm e})$, respectively, shows that while VERTICO galaxies do not exhibit significant variations in $R^{\\rm mol}_{\\star}(r<R_{\\rm e})$ with \\hi\\, perturbation and when compared to galaxies from the field, they do show low $R^{\\rm atom}_{\\star}(r<R_{\\rm e})$ (i.e., perturbation is enough to lower their $R^{\\rm atom}_{\\star}(r<R_{\\rm e})$). We measure a systematic decrease of the SFE$_{\\rm mol}$ within $R_{\\rm e}$, SFE$_{\\rm mol}(r<R_{\\rm e})$, with increasingly perturbed \\hi. Compared to field galaxies, the increasingly perturbed atomic gas in VERTICO galaxies increases their $R_{\\rm mol}$ and decreases the efficiency with which their molecular gas forms stars. |\n",
       "|<p style=\"color:green\"> **ERROR** </p>| <p style=\"color:green\">affiliation error: mpia.affiliation_verifications: 'Heidelberg' keyword not found.</p> |"
      ],
      "text/plain": [
       "<IPython.core.display.Markdown object>"
      ]
     },
     "metadata": {},
     "output_type": "display_data"
    },
    {
     "data": {
      "text/markdown": [
       "\n",
       "|||\n",
       "|---:|:---|\n",
       "| [![arXiv](https://img.shields.io/badge/arXiv-arXiv:2210.05410-b31b1b.svg)](https://arxiv.org/abs/arXiv:2210.05410) | **Establishing the accuracy of asteroseismic mass and radius estimates of  giant stars. II. Revised stellar masses and radii for KIC 8430105**  |\n",
       "|| Jeppe Sinkbæk Thomsen, et al. -- incl., <mark>Karsten Frank Brogaard</mark>, <mark>Frank Grundahl</mark>, <mark>Jens Jessen-Hansen</mark> |\n",
       "|*Appeared on*| *2022-10-12*|\n",
       "|*Comments*| *18 pages, 5 figures, to be published in Monthly Notices of the Royal Astronomical Society*|\n",
       "|**Abstract**| Asteroseismic scaling relations can provide high-precision measurements of mass and radius for red giant (RG) stars displaying solar-like oscillations. Their accuracy can be validated and potentially improved using independent and accurate observations of mass, radius, effective temperature and metallicity. We seek to achieve this using long period SB2 eclipsing binaries hosting oscillating RGs. We explore KIC 8430105, for which a previous study found significant asteroseismic overestimation of mass and radius when compared with eclipsing binary measurements. We measured dynamical masses and radii for both components to be significantly lower than previously established, increasing the discrepancy between asteroseismic and dynamical measurements. Our dynamical measurements of the RG component were compared to corresponding measurements of mass and radius using asteroseismic scaling relations. Uncorrected scaling relations overestimated the mass of the RG by 26%, the radius by 11%, and the average density by 7%, in agreement with studies for other systems. However, using a theoretical correction to $\\Delta \\nu$, we managed to obtain an asteroseismic average density that is $1\\sigma$ consistent with our dynamical result. We obtained several measurements of $\\nu_{max}$ that are not fully consistent. With $\\nu_{max} = 76.78 \\pm 0.81\\mu $Hz, the $\\Delta \\nu$ correction provided $2 \\sigma$ consistent mass and radius for the giant. The age of the system was estimated to be $3.7 \\pm 0.4$ Gyr. |\n",
       "|<p style=\"color:green\"> **ERROR** </p>| <p style=\"color:green\">affiliation error: mpia.affiliation_verifications: 'Heidelberg' keyword not found.</p> |"
      ],
      "text/plain": [
       "<IPython.core.display.Markdown object>"
      ]
     },
     "metadata": {},
     "output_type": "display_data"
    },
    {
     "data": {
      "text/markdown": [
       "\n",
       "|||\n",
       "|---:|:---|\n",
       "| [![arXiv](https://img.shields.io/badge/arXiv-arXiv:2210.05414-b31b1b.svg)](https://arxiv.org/abs/arXiv:2210.05414) | **Earth as an Exoplanet: II. Earth's Time-Variable Thermal Emission and  its Atmospheric Seasonality of Bio-Indicators**  |\n",
       "|| Jean-Noel Mettler, et al. -- incl., <mark>Ravit Helled</mark> |\n",
       "|*Appeared on*| *2022-10-12*|\n",
       "|*Comments*| *25 pages, 14 Figures, 3 Tables*|\n",
       "|**Abstract**| We assess the dependence of Earth's disk-integrated mid-infrared thermal emission spectrum on observation geometries and investigate which and how spectral features are impacted by seasonality on Earth. We compiled an exclusive dataset containing 2690 disk-integrated thermal emission spectra for four different full-disk observing geometries (North & South Pole centered and Africa & Pacific centred equatorial views) over four consecutive years. The spectra were derived from 2378 spectral channels in the wavelength range from 3.75 to 15.4 micron (nominal resolution $\\approx$ 1200) and were recorded by the Atmospheric Infrared Sounder aboard the Aqua satellite. We learned that there is significant seasonal variability in Earth's thermal emission spectrum, and the strength of spectral features of bio-indicators, such as N2O, CH4, O3 and CO2 depends strongly on both season and viewing geometry. In addition, we found a strong spectral degeneracy with respect to the latter two indicating that multi-epoch measurements and time-dependent signals may be required in order to fully characterize planetary environments. Even for Earth and especially for equatorial views, the variations in flux and strength of absorption features in the disk-integrated data are small and typically $\\leq$ 10%. Disentangling these variations from the noise in future exoplanet observations will be a challenge. However, irrespectively of when the planet will be measured (i.e., day or night or season) the results from mid-infrared observations will remain the same to the zeroth order which is an advantage over reflected light observations. |\n",
       "|<p style=\"color:green\"> **ERROR** </p>| <p style=\"color:green\">affiliation error: mpia.affiliation_verifications: 'Heidelberg' keyword not found.</p> |"
      ],
      "text/plain": [
       "<IPython.core.display.Markdown object>"
      ]
     },
     "metadata": {},
     "output_type": "display_data"
    },
    {
     "data": {
      "text/markdown": [
       "\n",
       "|||\n",
       "|---:|:---|\n",
       "| [![arXiv](https://img.shields.io/badge/arXiv-arXiv:2210.05450-b31b1b.svg)](https://arxiv.org/abs/arXiv:2210.05450) | **Forecast of Cosmological Constraints with Type Ia Supernovae from the  Chinese Space Station Telescope**  |\n",
       "|| <mark>Shi-Yu Li</mark>, et al. -- incl., <mark>Yun-Long Li</mark>, <mark>Tianmeng Zhang</mark> |\n",
       "|*Appeared on*| *2022-10-12*|\n",
       "|*Comments*| *10 pages, 6 figures, 2 tables, accepted for publication in SCIENCE CHINA Physics, Mechanics & Astronomy*|\n",
       "|**Abstract**| The 2-m aperture Chinese Space Station Telescope (CSST), which observes at wavelengths ranging from 255 to 1000 nm, is expected to start science operations in 2024. An ultra-deep field observation program covering approximately 10 square degrees is proposed with supernovae (SNe) and other transients as one of its primary science drivers. This paper presents the simulated detection results of type Ia supernovae (SNe Ia) and explores the impact of new datasets on the determinations of cosmological parameters. The simulated observations are conducted with an exposure time of 150 s and cadences of 10, 20, and 30 days. The survey mode covering a total of 80 observations but with a random cadence in the range of 4 to 14 days is also explored. Our simulation results indicate that the CSST can detect up to $\\sim 1800$ SNe Ia at z $<$ 1.3. The simulated SNe Ia are then used to constrain the cosmological parameters. The constraint on $\\Omega_m$ can be improved by 37.5% using the 10-day cadence sample in comparison with the Pantheon sample. A deeper measurement simulation with a 300 s exposure time together with the Pantheon sample improves the current constraints on $\\Omega_m$ by 58.3% and $\\omega$ by 47.7%. Taking future ground-based SNe Ia surveys into consideration, the constraints on $\\omega$ can be improved by 59.1%. The CSST ultra-deep field observation program is expected to discover large amounts of SNe Ia over a broad redshift span and enhance our understanding of the nature of dark energy. |\n",
       "|<p style=\"color:green\"> **ERROR** </p>| <p style=\"color:green\">affiliation error: mpia.affiliation_verifications: 'Heidelberg' keyword not found.</p> |"
      ],
      "text/plain": [
       "<IPython.core.display.Markdown object>"
      ]
     },
     "metadata": {},
     "output_type": "display_data"
    },
    {
     "data": {
      "text/markdown": [
       "\n",
       "|||\n",
       "|---:|:---|\n",
       "| [![arXiv](https://img.shields.io/badge/arXiv-arXiv:2210.05486-b31b1b.svg)](https://arxiv.org/abs/arXiv:2210.05486) | **Pulsating H-deficient WDs and pre-WDs observed with TESS: V. Discovery  of two new DBV pulsators, WD J152738.4-450207.4 and WD 1708-871, and  asteroseismology of the already known DBV stars PG 1351+489, EC 20058-5234,  and EC 04207-4748**  |\n",
       "|| Alejandro H. Córsico, et al. -- incl., <mark>Leandro G. Althaus</mark>, <mark>J. J. Hermes</mark>, <mark>Nicola P. Gentile Fusillo</mark> |\n",
       "|*Appeared on*| *2022-10-12*|\n",
       "|*Comments*| *22 pages, 27 figures, 21 tables. To be published in Astronomy & Astrophysics*|\n",
       "|**Abstract**| The {\\sl TESS} space mission has recently demonstrated its great potential to discover new pulsating white dwarf and pre-white dwarf stars, and to detect periodicities with high precision in already known white-dwarf pulsators. We report the discovery of two new pulsating He-rich atmosphere white dwarfs (DBVs) and present a detailed asteroseismological analysis of three already known DBV stars employing observations collected by the {\\sl TESS} mission along with ground-based data. We extracted frequencies from the {\\sl TESS} light curves of these DBV stars using a standard pre-whitening procedure to derive the potential pulsation frequencies. All the oscillation frequencies that we found are associated with $g$-mode pulsations with periods spanning from $\\sim 190$ s to $\\sim 936$ s. We find hints of rotation from frequency triplets in some of the targets, including the two new DBVs. For three targets, we find constant period spacings, which allowed us to infer their stellar masses and constrain the harmonic degree $\\ell$ of the modes. We also performed period-to-period fit analyses and found an asteroseismological model for three targets, with stellar masses generally compatible with the spectroscopic masses. Obtaining seismological models allowed us to estimate the seismological distances and compare them with the precise astrometric distances measured with {\\it Gaia}. We find a good agreement between the seismic and the astrometric distances for three stars (PG~1351+489, EC~20058$-$5234, and EC~04207$-$4748), although for the other two stars (WD~J152738.4$-$50207 and WD~1708$-$871), the discrepancies are substantial. The high-quality data from the {\\sl TESS} mission continue to provide important clues to determine the internal structure of pulsating pre-white dwarf and white dwarf stars through the tools of asteroseismology. |\n",
       "|<p style=\"color:green\"> **ERROR** </p>| <p style=\"color:green\">affiliation error: mpia.affiliation_verifications: 'Heidelberg' keyword not found.</p> |"
      ],
      "text/plain": [
       "<IPython.core.display.Markdown object>"
      ]
     },
     "metadata": {},
     "output_type": "display_data"
    },
    {
     "data": {
      "text/markdown": [
       "\n",
       "|||\n",
       "|---:|:---|\n",
       "| [![arXiv](https://img.shields.io/badge/arXiv-arXiv:2210.05563-b31b1b.svg)](https://arxiv.org/abs/arXiv:2210.05563) | **Searching Lorentz invariance violation from cosmic photon attenuation**  |\n",
       "|| <mark>Hao Li</mark>, Bo-Qiang Ma |\n",
       "|*Appeared on*| *2022-10-12*|\n",
       "|*Comments*| *10 latex pages, 7 figures*|\n",
       "|**Abstract**| Lorentz invariance violation~(LIV) can change the threshold behavior predicted by special relativity and cause threshold anomalies which affect the propagation of cosmic photons. In this work, we focus on the threshold anomaly effect on cosmic photon attenuations by extragalactic background light~(EBL) and discuss how to identify LIV from observations of very high energy~(VHE) photons propagated from long distance in the universe. We point out that the Large High Altitude Air Shower Observatory~(LHAASO), one of the most sensitive gamma-ray detector arrays currently operating at TeV and PeV energies, is an ideal facility for performing such LIV searching. |\n",
       "|<p style=\"color:green\"> **ERROR** </p>| <p style=\"color:green\">affiliation error: mpia.affiliation_verifications: 'Heidelberg' keyword not found.</p> |"
      ],
      "text/plain": [
       "<IPython.core.display.Markdown object>"
      ]
     },
     "metadata": {},
     "output_type": "display_data"
    },
    {
     "data": {
      "text/markdown": [
       "\n",
       "|||\n",
       "|---:|:---|\n",
       "| [![arXiv](https://img.shields.io/badge/arXiv-arXiv:2210.04922-b31b1b.svg)](https://arxiv.org/abs/arXiv:2210.04922) | **B-fields do not suppress star formation in low metallicity dwarf  galaxies**  |\n",
       "|| David J. Whitworth, et al. -- incl., <mark>Rowan J. Smith</mark> |\n",
       "|*Appeared on*| *2022-10-12*|\n",
       "|*Comments*| *19 pages, 19 figures, comments welcome*|\n",
       "|**Abstract**| Many studies have looked at the impact of magnetic fields on star formation in molecular clouds and Milky Way like galaxies, concluding that the field suppresses star formation. However, most of these studies are based on fully developed fields that have reached the saturation level, with little work on investigating how the growth phase of a primordial field affects star formation in low metallicity environments. In this paper, we investigate the impact of the growth phase of a primordial field on low metallicity dwarf galaxies. We perform high-resolution AREPO simulations of 5 isolated dwarf galaxies. Two models are hydrodynamical, two start with a primordial B-field of 10^-6 micro G, and one with a saturated B-field of 10^-2 micro G. All models include a non-equilibrium, time-dependent chemical network that includes the effects of gas shielding from the ambient UV field. Sink particles form directly from the gravitational collapse of gas and are treated as star-forming clumps that can accrete gas. We vary the metallicity, UV-field, and cosmic ray ionization rate between 0.01 and 0.10 of solar values. We find that the magnetic field has little impact on the star formation rate, which is in tension with previously published results. We show that an increase in the mass fractions of both molecular hydrogen and cold gas, along with changes in the perpendicular gas velocity dispersion's and the B-field acting in the weak-field model overcomes the expected suppression in star formation. |\n",
       "|<p style=\"color:red\"> **ERROR** </p>| <p style=\"color:red\">latex error not a gzip file</p> |"
      ],
      "text/plain": [
       "<IPython.core.display.Markdown object>"
      ]
     },
     "metadata": {},
     "output_type": "display_data"
    },
    {
     "data": {
      "text/markdown": [
       "\n",
       "|||\n",
       "|---:|:---|\n",
       "| [![arXiv](https://img.shields.io/badge/arXiv-arXiv:2210.05428-b31b1b.svg)](https://arxiv.org/abs/arXiv:2210.05428) | **Lithospheric loading model for large impact basin where mantle plug  presents**  |\n",
       "|| Qingyun Deng, et al. -- incl., <mark>Zhen Zhong</mark>, <mark>Fei Li</mark> |\n",
       "|*Appeared on*| *2022-10-12*|\n",
       "|*Comments*| **|\n",
       "|**Abstract**| Lithosphere is the outer rigid part of terrestrial body, usually consisting of the crust and part of the mantle. Characterizing the physical properties of lithosphere is critical in the investigation to its evolution history. Through the modeling of mass-related loads within lithosphere, physical parameters such as elastic thickness of lithosphere can be inferred by gravity and topography data. At impact basin region, however, the low correlation between topography and gravity makes this model inapplicable. In this work, we proposed a loading model incorporated with the mantle uplift structure commonly formed at impact basin. The resulting deflection caused by this mantle uplift structure is also modeled in the governing equation of the thin elastic shell. Gravity anomaly of the deflected lithosphere is calculated at the surface and the crustal-mantle boundary, then the theoretical gravity admittance and correlation can be compared with observed data. The application of the mantle loading model at four large impact basins on Mars show better fit to the observed admittance and correlation compared with loading model that without this initial mantle plug. Our work suggests that proper modeling of impact-induced load and its resulting deflection is the key to the understanding of physical properties of planetary lithosphere at basin region. |\n",
       "|<p style=\"color:red\"> **ERROR** </p>| <p style=\"color:red\">latex error not a gzip file</p> |"
      ],
      "text/plain": [
       "<IPython.core.display.Markdown object>"
      ]
     },
     "metadata": {},
     "output_type": "display_data"
    }
   ],
   "source": [
    "import datetime\n",
    "today = str(datetime.date.today())\n",
    "logfile = f\"_build/html/logs/log-{today}.md\"\n",
    "\n",
    "\n",
    "with open(logfile, 'w') as logs:\n",
    "    # Success\n",
    "    logs.write(f'# Arxiv on Deck 2: Logs - {today}\\n\\n')\n",
    "    logs.write(\"\"\"* Arxiv had {0:,d} new papers\\n\"\"\".format(len(new_papers)))\n",
    "    logs.write(\"\"\"    * {0:,d} with possible author matches\\n\\n\"\"\".format(len(candidates)))\n",
    "    logs.write(\"## Sucessful papers\\n\\n\")\n",
    "    display(Markdown(\"## Successful papers\"))\n",
    "    success = [k[0] for k in documents]\n",
    "    for candid in candidates:\n",
    "        if candid['identifier'].split(':')[-1] in success:\n",
    "            display(candid)\n",
    "            logs.write(candid.generate_markdown_text() + '\\n\\n')\n",
    "\n",
    "    ## failed\n",
    "    logs.write(\"## Failed papers\\n\\n\")\n",
    "    display(Markdown(\"## Failed papers\"))\n",
    "    failed = sorted(failed, key=lambda x: x[1])\n",
    "    current_reason = \"\"\n",
    "    for paper, reason in failed:\n",
    "        if 'affiliation' in reason:\n",
    "            color = 'green'\n",
    "        else:\n",
    "            color = 'red'\n",
    "        data = Markdown(\n",
    "                paper.generate_markdown_text() + \n",
    "                f'\\n|<p style=\"color:{color:s}\"> **ERROR** </p>| <p style=\"color:{color:s}\">{reason:s}</p> |'\n",
    "               )\n",
    "        if reason != current_reason:\n",
    "            logs.write(f'### {reason:s} \\n\\n')\n",
    "            current_reason = reason\n",
    "        logs.write(data.data + '\\n\\n')\n",
    "        \n",
    "        # only display here the important errors (all in logs)\n",
    "        # if color in ('red',):\n",
    "        display(data)"
   ]
  },
  {
   "cell_type": "markdown",
   "id": "472d20ee",
   "metadata": {
    "papermill": {
     "duration": 0.013833,
     "end_time": "2022-10-12T05:00:29.522174",
     "exception": false,
     "start_time": "2022-10-12T05:00:29.508341",
     "status": "completed"
    },
    "tags": []
   },
   "source": [
    "## Export documents\n",
    "\n",
    "We now write the .md files and export relevant images"
   ]
  },
  {
   "cell_type": "code",
   "execution_count": 7,
   "id": "d426aed9",
   "metadata": {
    "execution": {
     "iopub.execute_input": "2022-10-12T05:00:29.550151Z",
     "iopub.status.busy": "2022-10-12T05:00:29.549749Z",
     "iopub.status.idle": "2022-10-12T05:00:29.559408Z",
     "shell.execute_reply": "2022-10-12T05:00:29.558543Z"
    },
    "papermill": {
     "duration": 0.026442,
     "end_time": "2022-10-12T05:00:29.561477",
     "exception": false,
     "start_time": "2022-10-12T05:00:29.535035",
     "status": "completed"
    },
    "tags": []
   },
   "outputs": [],
   "source": [
    "def export_markdown_summary(md: str, md_fname:str, directory: str):\n",
    "    \"\"\"Export MD document and associated relevant images\"\"\"\n",
    "    import os\n",
    "    import shutil\n",
    "    import re\n",
    "\n",
    "    if (os.path.exists(directory) and not os.path.isdir(directory)):\n",
    "        raise RuntimeError(f\"a non-directory file exists with name {directory:s}\")\n",
    "\n",
    "    if (not os.path.exists(directory)):\n",
    "        print(f\"creating directory {directory:s}\")\n",
    "        os.mkdir(directory)\n",
    "\n",
    "    fig_fnames = (re.compile(r'\\[Fig.*\\]\\((.*)\\)').findall(md) + \n",
    "                  re.compile(r'\\<img src=\"([^>\\s]*)\"[^>]*/>').findall(md))\n",
    "    for fname in fig_fnames:\n",
    "        if 'http' in fname:\n",
    "            # No need to copy online figures\n",
    "            continue\n",
    "        destdir = os.path.join(directory, os.path.dirname(fname))\n",
    "        destfname = os.path.join(destdir, os.path.basename(fname))\n",
    "        try:\n",
    "            os.makedirs(destdir)\n",
    "        except FileExistsError:\n",
    "            pass\n",
    "        shutil.copy(fname, destfname)\n",
    "    with open(os.path.join(directory, md_fname), 'w') as fout:\n",
    "        fout.write(md)\n",
    "    print(\"exported in \", os.path.join(directory, md_fname))\n",
    "    [print(\"    + \" + os.path.join(directory,fk)) for fk in fig_fnames]"
   ]
  },
  {
   "cell_type": "code",
   "execution_count": 8,
   "id": "014d04a4",
   "metadata": {
    "execution": {
     "iopub.execute_input": "2022-10-12T05:00:29.588134Z",
     "iopub.status.busy": "2022-10-12T05:00:29.587727Z",
     "iopub.status.idle": "2022-10-12T05:00:29.606945Z",
     "shell.execute_reply": "2022-10-12T05:00:29.605769Z"
    },
    "papermill": {
     "duration": 0.035405,
     "end_time": "2022-10-12T05:00:29.608978",
     "exception": false,
     "start_time": "2022-10-12T05:00:29.573573",
     "status": "completed"
    },
    "tags": []
   },
   "outputs": [
    {
     "name": "stdout",
     "output_type": "stream",
     "text": [
      "exported in  _build/html/2210.05505.md\n",
      "    + _build/html/tmp_2210.05505/./Plots/Figure2-any_all_featurehist_UWE_w1-w2.png\n",
      "    + _build/html/tmp_2210.05505/./Plots/Figure3-col_col_diagrams.png\n",
      "    + _build/html/tmp_2210.05505/./Plots/Figure6-3class_quasar_purity_mixedprior.png\n",
      "exported in  _build/html/2210.05595.md\n",
      "    + _build/html/tmp_2210.05595/./P_R_modela_endsim.png\n",
      "    + _build/html/tmp_2210.05595/./P_R_modelb_endsim.png\n",
      "    + _build/html/tmp_2210.05595/./P_R_modelc_endsim.png\n",
      "    + _build/html/tmp_2210.05595/./P_Rm_modela_endsim.png\n",
      "    + _build/html/tmp_2210.05595/./P_Rm_modelb_endsim.png\n",
      "    + _build/html/tmp_2210.05595/./P_Rm_modelc_endsim.png\n",
      "    + _build/html/tmp_2210.05595/./P_Rw_modela_endsim.png\n",
      "    + _build/html/tmp_2210.05595/./P_Rw_modelb_endsim.png\n",
      "    + _build/html/tmp_2210.05595/./P_Rw_modelc_endsim.png\n",
      "    + _build/html/tmp_2210.05595/./Rhist_modela_noobs.png\n",
      "    + _build/html/tmp_2210.05595/./Rratio_modela_noobs.png\n",
      "    + _build/html/tmp_2210.05595/./Rhist_modelb_noobs.png\n",
      "    + _build/html/tmp_2210.05595/./Rratio_modelb_noobs.png\n",
      "    + _build/html/tmp_2210.05595/./Rhist_modelc_noobs.png\n",
      "    + _build/html/tmp_2210.05595/./Rratio_modelc_noobs.png\n",
      "    + _build/html/tmp_2210.05595/./Model_C_mixture_edited.png.png\n"
     ]
    }
   ],
   "source": [
    "for paper_id, md in documents:\n",
    "    export_markdown_summary(md, f\"{paper_id:s}.md\", '_build/html/')"
   ]
  },
  {
   "cell_type": "markdown",
   "id": "f087a0a7",
   "metadata": {
    "papermill": {
     "duration": 0.012752,
     "end_time": "2022-10-12T05:00:29.634295",
     "exception": false,
     "start_time": "2022-10-12T05:00:29.621543",
     "status": "completed"
    },
    "tags": []
   },
   "source": [
    "## Display the papers\n",
    "\n",
    "Not necessary but allows for a quick check."
   ]
  },
  {
   "cell_type": "code",
   "execution_count": 9,
   "id": "fd25f625",
   "metadata": {
    "execution": {
     "iopub.execute_input": "2022-10-12T05:00:29.659591Z",
     "iopub.status.busy": "2022-10-12T05:00:29.658938Z",
     "iopub.status.idle": "2022-10-12T05:00:29.671208Z",
     "shell.execute_reply": "2022-10-12T05:00:29.668200Z"
    },
    "papermill": {
     "duration": 0.027032,
     "end_time": "2022-10-12T05:00:29.673091",
     "exception": false,
     "start_time": "2022-10-12T05:00:29.646059",
     "status": "completed"
    },
    "scrolled": false,
    "tags": []
   },
   "outputs": [
    {
     "data": {
      "text/markdown": [
       "<div class=\"macros\" style=\"visibility:hidden;\">\n",
       "$\\newcommand{\\ensuremath}{}$\n",
       "$\\newcommand{\\xspace}{}$\n",
       "$\\newcommand{\\object}[1]{\\texttt{#1}}$\n",
       "$\\newcommand{\\farcs}{{.}''}$\n",
       "$\\newcommand{\\farcm}{{.}'}$\n",
       "$\\newcommand{\\arcsec}{''}$\n",
       "$\\newcommand{\\arcmin}{'}$\n",
       "$\\newcommand{\\ion}[2]{#1#2}$\n",
       "$\\newcommand{\\textsc}[1]{\\textrm{#1}}$\n",
       "$\\newcommand{\\hl}[1]{\\textrm{#1}}$\n",
       "$\\newcommand{\\nodata}{ ~\\cdots~ }$</div>\n",
       "\n",
       "<div class=\"macros\" style=\"visibility:hidden;\">\n",
       "$\\newcommand{$\\ensuremath$}{}$\n",
       "$\\newcommand{$\\xspace$}{}$\n",
       "$\\newcommand{$\\object$}[1]{\\texttt{#1}}$\n",
       "$\\newcommand{$\\farcs$}{{.}''}$\n",
       "$\\newcommand{$\\farcm$}{{.}'}$\n",
       "$\\newcommand{$\\arcsec$}{''}$\n",
       "$\\newcommand{$\\arcmin$}{'}$\n",
       "$\\newcommand{$\\ion$}[2]{#1#2}$\n",
       "$\\newcommand{$\\textsc$}[1]{\\textrm{#1}}$\n",
       "$\\newcommand{$\\hl$}[1]{\\textrm{#1}}$\n",
       "$\\newcommand{$\\nodata$}{ ~\\cdots~ }$</div>\n",
       "\n",
       "\n",
       "\n",
       "<div id=\"title\">\n",
       "\n",
       "# Quasar and galaxy classification using Gaia EDR3 and CatWise2020\n",
       "\n",
       "</div>\n",
       "<div id=\"comments\">\n",
       "\n",
       "[![arXiv](https://img.shields.io/badge/arXiv-2210.05505-b31b1b.svg)](https://arxiv.org/abs/2210.05505)<mark>Appeared on: 2022-10-12</mark> - _21 pages, 23 figures, Accepted for publication in A&A_\n",
       "\n",
       "</div>\n",
       "<div id=\"authors\">\n",
       "\n",
       "<mark>Arvind C.N. Hughes</mark>, <mark>Coryn A.L. Bailer-Jones</mark>, <mark>Sara Jamal</mark>\n",
       "\n",
       "</div>\n",
       "<div id=\"abstract\">\n",
       "\n",
       "**Abstract:** In this work, we assess the combined use of Gaia photometry and astrometry with infrared data from CatWISE in improving the identification of extragalactic sources compared to the classification obtained using Gaia data. Here we perform a comprehensive study in which we assess different input feature configurations and prior functions to identify extragalactic sources in Gaia, with the aim of presenting a classification methodology integrating prior knowledge stemming from realistic class distributions in the universe.In our work, we compare different classifiers, namely Gaussian Mixture Models (GMMs) and the boosted decision trees, XGBoost and CatBoost, in a supervised approach, and classify sources into three classes - star, quasar, and galaxy, with the target quasar and galaxy class labels obtained from the Sloan Digital Sky Survey Data Release 16 (SDSS16) and the star label from Gaia EDR3.In our approach, we adjust the posterior probabilities to reflect the intrinsic distribution of extragalactic sources in the universe via a prior function. In particular, we introduce two priors, a global prior reflecting the overall rarity of quasars and galaxies, and a mixed prior that incorporates in addition the distribution of the extragalactic sources as a function of Galactic latitude and magnitude.   Our best classification performances, in terms of completeness and purity of the extragalactic classes, namely the galaxy and quasar classes, are achieved using the mixed prior for sources at high latitudes and in the magnitude range G = 18.5 to 19.5.   We apply our identified best-performing classifier to three application datasets from Gaia Data Release 3 (GDR3), and find that the global prior is more conservative in what it considers to be a quasar or a galaxy compared to the mixed prior.   In particular, when applied to the quasar and galaxy candidates tables from GDR3, the classifier using a global prior achieves purities of 55\\%for quasars and 93\\%for galaxies, and purities of 59\\%and 91\\%respectively using the mixed prior.   When compared to the  performances obtained on the GDR3 pure quasar and galaxy candidates samples, we reach a higher level of purity, 97\\%for quasars and 99.9\\%for galaxies using the global prior, and purities of 96\\%and 99\\%respectively using the mixed prior.   When refining the GDR3 candidates tables via a cross-match with SDSS DR16 confirmed quasars and galaxies, the classifier reaches purities of 99.8\\%for quasars and 99.9\\%for galaxies using a global prior, and 99.9\\%and 99.9\\%using the mixed prior.   We conclude our work by discussing the importance of applying adjusted priors portraying realistic class distributions in the universe and the effect of introducing infrared data as ancillary inputs in the identification of extragalactic sources.\n",
       "\n",
       "</div>\n",
       "\n",
       "<div id=\"div_fig1\">\n",
       "\n",
       "<img src=\"tmp_2210.05505/./Plots/Figure2-any_all_featurehist_UWE_w1-w2.png\" alt=\"Fig11\" width=\"100%\"/>\n",
       "\n",
       "**Figure 11. -** Distribution of the features from the training dataset, coloured according to their true classes. Black: stars, blue: quasars, orange: galaxies. Each distribution is separately normalised and the $sin b$ has been randomised for quasars and galaxies (constant probability\n",
       "per unit sky area). (*fig:Data-Feature_Hists*)\n",
       "\n",
       "</div>\n",
       "<div id=\"div_fig2\">\n",
       "\n",
       "<img src=\"tmp_2210.05505/./Plots/Figure3-col_col_diagrams.png\" alt=\"Fig2\" width=\"100%\"/>\n",
       "\n",
       "**Figure 2. -** Colour- magnitude diagram (\\textit{top}) and two colour-colour (\\textit{middle \\& bottom}) diagrams highlighting the distribution of each class, with contours designating the density on a linear-scale for a random sample of 10,000 observations. The color black corresponds to stars, blue for quasars and gold for galaxies. Distinct aggregates can be identified for each class, although a significant interclass overlap still occurs. (*fig:Data-col_col*)\n",
       "\n",
       "</div>\n",
       "<div id=\"div_fig3\">\n",
       "\n",
       "<img src=\"tmp_2210.05505/./Plots/Figure6-3class_quasar_purity_mixedprior.png\" alt=\"Fig13\" width=\"100%\"/>\n",
       "\n",
       "**Figure 13. -** Imbalanced Classifier Mixed Prior: Purity evaluated for the quasar class in the test set from predictions obtained by the best performing models, i.e. XGBoost, trained on the \\textit{Feature Set 1}(left panel) and the \\textit{Feature Set 4}(right panel).\n",
       "Top-panels show the classification performances modified by the adjustment factor. The near unit purity at low latitudes in the right panels is not meaningful as there a very few objects as shown in Fig. \\ref{fig:Data-mixedpriors} (*fig:Results-3class_quasar_purity_mixedprior*)\n",
       "\n",
       "</div>"
      ],
      "text/plain": [
       "<IPython.core.display.Markdown object>"
      ]
     },
     "metadata": {},
     "output_type": "display_data"
    },
    {
     "data": {
      "text/markdown": [
       "<div class=\"macros\" style=\"visibility:hidden;\">\n",
       "$\\newcommand{\\ensuremath}{}$\n",
       "$\\newcommand{\\xspace}{}$\n",
       "$\\newcommand{\\object}[1]{\\texttt{#1}}$\n",
       "$\\newcommand{\\farcs}{{.}''}$\n",
       "$\\newcommand{\\farcm}{{.}'}$\n",
       "$\\newcommand{\\arcsec}{''}$\n",
       "$\\newcommand{\\arcmin}{'}$\n",
       "$\\newcommand{\\ion}[2]{#1#2}$\n",
       "$\\newcommand{\\textsc}[1]{\\textrm{#1}}$\n",
       "$\\newcommand{\\hl}[1]{\\textrm{#1}}$\n",
       "$\\newcommand{\\vdag}{(v)^\\dagger}$\n",
       "$\\newcommand$\n",
       "$\\newcommand$\n",
       "$\\newcommand{\\ai}[1]{\\textcolor{red}{[#1]}}$\n",
       "$\\newcommand{\\thefigure}{A\\arabic{figure}}$</div>\n",
       "\n",
       "<div class=\"macros\" style=\"visibility:hidden;\">\n",
       "$\\newcommand{$\\ensuremath$}{}$\n",
       "$\\newcommand{$\\xspace$}{}$\n",
       "$\\newcommand{$\\object$}[1]{\\texttt{#1}}$\n",
       "$\\newcommand{$\\farcs$}{{.}''}$\n",
       "$\\newcommand{$\\farcm$}{{.}'}$\n",
       "$\\newcommand{$\\arcsec$}{''}$\n",
       "$\\newcommand{$\\arcmin$}{'}$\n",
       "$\\newcommand{$\\ion$}[2]{#1#2}$\n",
       "$\\newcommand{$\\textsc$}[1]{\\textrm{#1}}$\n",
       "$\\newcommand{$\\hl$}[1]{\\textrm{#1}}$\n",
       "$\\newcommand{$\\vdag$}{(v)^\\dagger}$\n",
       "$\\newcommand$\n",
       "$\\newcommand$\n",
       "$\\newcommand{$\\ai$}[1]{\\textcolor{red}{[#1]}}$\n",
       "$\\newcommand{$\\thefigure$}{A\\arabic{figure}}$</div>\n",
       "\n",
       "\n",
       "\n",
       "<div id=\"title\">\n",
       "\n",
       "# The Exoplanet Radius Valley from Gas-driven Planet Migration and Breaking of Resonant Chains\n",
       "\n",
       "</div>\n",
       "<div id=\"comments\">\n",
       "\n",
       "[![arXiv](https://img.shields.io/badge/arXiv-2210.05595-b31b1b.svg)](https://arxiv.org/abs/2210.05595)<mark>Appeared on: 2022-10-12</mark> - _Accepted for publicationn in ApJL_\n",
       "\n",
       "</div>\n",
       "<div id=\"authors\">\n",
       "\n",
       "André Izidoro, et al. -- incl., <mark>Christian Zimmermann</mark>, <mark>Bertram Bitsch</mark>\n",
       "\n",
       "</div>\n",
       "<div id=\"abstract\">\n",
       "\n",
       "**Abstract:** The size frequency distribution of exoplanet radii between 1 and 4$R_{\\oplus}$is bimodal with peaks  at$\\sim$1.4$R_{\\oplus}$and$\\sim$2.4$R_{\\oplus}$, and a valley at$\\sim$1.8$R_{\\oplus}$. This radius valley separates two classes of planets -- usually referred to as \"super-Earths\"  and \"mini-Neptunes\" -- and its origin remains debated. One model proposes that super-Earths are the outcome of photo-evaporation or core-powered mass-loss  stripping the primordial atmospheres of the mini-Neptunes. A contrasting model interprets the radius valley as a dichotomy in the bulk compositions, where super-Earths are  rocky planets and mini-Neptunes are water-ice rich worlds. In this work, we test whether the migration model is consistent with the radius valley and how it distinguishes these views. In the migration model, planets migrate towards the disk inner edge forming a chain of planets locked in resonant configurations. After the gas disk dispersal, orbital instabilities  \"break the chains\" and promote  late collisions. This model broadly matches the  period-ratio and planet-multiplicity distributions of Kepler planets, and  accounts for resonant chains such as TRAPPIST-1, Kepler-223, and TOI-178. Here, by combining the outcome of planet formation simulations with compositional mass-radius relationships, and assuming complete loss of primordial H-rich atmospheres in late giant-impacts, we show that the migration model accounts for the exoplanet radius valley and the intra-system uniformity (\"peas-in-a-pod\") of Kepler planets. Our results suggest that planets with sizes of$\\sim$1.4$R_{\\oplus}$are mostly rocky, whereas  those with sizes of$\\sim$2.4$R_{\\oplus}$are mostly water-ice rich worlds. Our results do not support an exclusively rocky composition for the cores of mini-Neptunes.\n",
       "\n",
       "</div>\n",
       "\n",
       "<div id=\"div_fig1\">\n",
       "\n",
       "<img src=\"tmp_2210.05595/./P_R_modela_endsim.png\" alt=\"Fig8.1\" width=\"11%\"/><img src=\"tmp_2210.05595/./P_R_modelb_endsim.png\" alt=\"Fig8.2\" width=\"11%\"/><img src=\"tmp_2210.05595/./P_R_modelc_endsim.png\" alt=\"Fig8.3\" width=\"11%\"/><img src=\"tmp_2210.05595/./P_Rm_modela_endsim.png\" alt=\"Fig8.4\" width=\"11%\"/><img src=\"tmp_2210.05595/./P_Rm_modelb_endsim.png\" alt=\"Fig8.5\" width=\"11%\"/><img src=\"tmp_2210.05595/./P_Rm_modelc_endsim.png\" alt=\"Fig8.6\" width=\"11%\"/><img src=\"tmp_2210.05595/./P_Rw_modela_endsim.png\" alt=\"Fig8.7\" width=\"11%\"/><img src=\"tmp_2210.05595/./P_Rw_modelb_endsim.png\" alt=\"Fig8.8\" width=\"11%\"/><img src=\"tmp_2210.05595/./P_Rw_modelc_endsim.png\" alt=\"Fig8.9\" width=\"11%\"/>\n",
       "\n",
       "**Figure 8. -** Architecture of planetary systems at the end of our simulations, i.e., after dynamical instabilities have taken place. The horizontal axis shows orbital period, and the y-axis planetary radius as calculate from the mass radius relationships of \\cite{zengetal19}.  Planets are shown as individual dots. We only show planets with orbital periods shorter than 100 days. In all these models, more than $\\sim$95\\% of the resonant chains became unstable after gas disk dispersal. Models A, B, and C are shown from left to right. Points are color-coded according to the planets'\n",
       "number of late giant impacts (top row of panels), masses (middle row of panels), and ice-mass fractions (right column). We neglect the effects of photo-evaporation and/or other subsequent atmospheric mass-loss in all these cases (see Appendix for simulations where the effects of photoevaporation are included). The dashed lines in the bottom panels show the exoplanet radius valley slope, calculated  as $R =10^{-0.11{\\rm log}_{10}(P)+0.4}$ \\citep{vaneylenetal18,guptaetal19}. The green background-contours show the kernel density distribution of the planets in our simulations (dots of the figure). (*fig:after_instabilities*)\n",
       "\n",
       "</div>\n",
       "<div id=\"div_fig2\">\n",
       "\n",
       "<img src=\"tmp_2210.05595/./Rhist_modela_noobs.png\" alt=\"Fig9.1\" width=\"16%\"/><img src=\"tmp_2210.05595/./Rratio_modela_noobs.png\" alt=\"Fig9.2\" width=\"16%\"/><img src=\"tmp_2210.05595/./Rhist_modelb_noobs.png\" alt=\"Fig9.3\" width=\"16%\"/><img src=\"tmp_2210.05595/./Rratio_modelb_noobs.png\" alt=\"Fig9.4\" width=\"16%\"/><img src=\"tmp_2210.05595/./Rhist_modelc_noobs.png\" alt=\"Fig9.5\" width=\"16%\"/><img src=\"tmp_2210.05595/./Rratio_modelc_noobs.png\" alt=\"Fig9.6\" width=\"16%\"/>\n",
       "\n",
       "**Figure 9. -** {\\bf Left:}  Planet radius distribution. {\\bf Right:} Planet size-ratio  distribution of adjacent planet pairs. These distributions are computed after dynamical instabilities and the breaking of the resonant chains. Exoplanets are shown in gray. Blue shows the outcome of our planet formation simulations. Red shows the outcome of our planet formation simulations including the effects of photo-evaporation. From top-to-bottom, the panel-rows show model A,  B, and  C. For all models, we use the mass-radius relationship of \\cite{zengetal19} assuming an uncertainty of 7\\% in size and an initial atmosphere-to-core mass ratio of 0.3\\%. We build these histograms accounting for uncertainties in radius by generating the possible radius of each planet 100 times. (*fig:distributions*)\n",
       "\n",
       "</div>\n",
       "<div id=\"div_fig3\">\n",
       "\n",
       "<img src=\"tmp_2210.05595/./Model_C_mixture_edited.png.png\" alt=\"Fig11\" width=\"100%\"/>\n",
       "\n",
       "**Figure 11. -** Final planetary systems produced in Model-C.  Each line shows one planetary systems. The color-coding indicates the planet composition.  A black-ring around the dot indicates the presence of  atmosphere, and the full-size of the dot scales with its radius. When determining the final planet sizes, we include atmospheric stripping by photo-evaporation after the giant impact phase. Planets atmospheric masses, when present, are assumed to correspond to 0.3\\% of the core mass. (*fig:final_systems*)\n",
       "\n",
       "</div>"
      ],
      "text/plain": [
       "<IPython.core.display.Markdown object>"
      ]
     },
     "metadata": {},
     "output_type": "display_data"
    }
   ],
   "source": [
    "[display(Markdown(k[1])) for k in documents];"
   ]
  },
  {
   "cell_type": "markdown",
   "id": "873873a4",
   "metadata": {
    "papermill": {
     "duration": 0.012905,
     "end_time": "2022-10-12T05:00:29.699002",
     "exception": false,
     "start_time": "2022-10-12T05:00:29.686097",
     "status": "completed"
    },
    "tags": []
   },
   "source": [
    "# Create HTML index"
   ]
  },
  {
   "cell_type": "code",
   "execution_count": 10,
   "id": "cf665672",
   "metadata": {
    "execution": {
     "iopub.execute_input": "2022-10-12T05:00:29.728387Z",
     "iopub.status.busy": "2022-10-12T05:00:29.727973Z",
     "iopub.status.idle": "2022-10-12T05:00:29.739495Z",
     "shell.execute_reply": "2022-10-12T05:00:29.738698Z"
    },
    "papermill": {
     "duration": 0.026889,
     "end_time": "2022-10-12T05:00:29.741565",
     "exception": false,
     "start_time": "2022-10-12T05:00:29.714676",
     "status": "completed"
    },
    "tags": []
   },
   "outputs": [
    {
     "name": "stdout",
     "output_type": "stream",
     "text": [
      "61  publications in the last 7 days.\n",
      "\t _build/html/2210.05595.md\n",
      "\t _build/html/2210.05505.md\n",
      "\t _build/html/2210.04721.md\n",
      "\t _build/html/2210.03615.md\n",
      "\t _build/html/2210.01811.md\n",
      "\t _build/html/2210.01809.md\n",
      "\t _build/html/2210.01556.md\n",
      "\t _build/html/2210.00863.md\n",
      "\t _build/html/2210.00560.md\n",
      "\t _build/html/2209.15403.md\n",
      "\t _build/html/2209.15110.md\n",
      "\t _build/html/2209.14410.md\n",
      "\t _build/html/2209.14396.md\n",
      "\t _build/html/2209.13717.md\n",
      "\t _build/html/2209.13336.md\n",
      "\t _build/html/2209.12906.md\n",
      "\t _build/html/2209.11781.md\n",
      "\t _build/html/2209.11602.md\n",
      "\t _build/html/2209.11248.md\n",
      "\t _build/html/2209.11096.md\n",
      "\t _build/html/2209.10618.md\n",
      "\t _build/html/2209.09914.md\n",
      "\t _build/html/2209.09823.md\n",
      "\t _build/html/2209.08242.md\n",
      "\t _build/html/2209.08120.md\n",
      "\t _build/html/2209.08106.md\n",
      "\t _build/html/2209.07962.md\n",
      "\t _build/html/2209.07931.md\n",
      "\t _build/html/2209.06833.md\n",
      "\t _build/html/2209.05814.md\n",
      "\t _build/html/2209.05593.md\n",
      "\t _build/html/2209.04304.md\n",
      "\t _build/html/2209.03367.md\n",
      "\t _build/html/2209.02872.md\n",
      "\t _build/html/2209.02725.md\n",
      "\t _build/html/2209.02722.md\n",
      "\t _build/html/2209.02092.md\n",
      "\t _build/html/2209.01125.md\n",
      "\t _build/html/2209.00828.md\n",
      "\t _build/html/2209.00363.md\n",
      "\t _build/html/2208.14927.md\n",
      "\t _build/html/2208.09335.md\n",
      "\t _build/html/2208.08872.md\n",
      "\t _build/html/2204.06393.md\n",
      "\t _build/html/2204.03335.md\n",
      "\t _build/html/2204.03253.md\n",
      "\t _build/html/2204.02998.md\n",
      "\t _build/html/2204.02109.md\n",
      "\t _build/html/2204.02017.md\n",
      "\t _build/html/2204.01824.md\n",
      "\t _build/html/2204.01758.md\n",
      "\t _build/html/2204.01245.md\n",
      "\t _build/html/2204.00793.md\n",
      "\t _build/html/2204.00342.md\n",
      "\t _build/html/2203.16959.md\n",
      "\t _build/html/2203.16856.md\n",
      "\t _build/html/2203.16735.md\n",
      "\t _build/html/2203.16734.md\n",
      "\t _build/html/2203.16504.md\n",
      "\t _build/html/2203.15822.md\n",
      "\t _build/html/2203.15811.md\n"
     ]
    }
   ],
   "source": [
    "from datetime import datetime, timedelta, timezone\n",
    "from glob import glob\n",
    "\n",
    "files = glob('_build/html/*.md')\n",
    "days = 7\n",
    "now = datetime.today()\n",
    "res = []\n",
    "for fk in files:\n",
    "    stat_result = os.stat(fk).st_ctime\n",
    "    modified = datetime.fromtimestamp(stat_result, tz=timezone.utc).replace(tzinfo=None)\n",
    "    delta = now.today() - modified\n",
    "    if delta <= timedelta(days=days):\n",
    "        res.append((delta.seconds, fk))\n",
    "res = [k[1] for k in reversed(sorted(res, key=lambda x:x[1]))]\n",
    "npub = len(res)\n",
    "print(len(res), f\" publications in the last {days:d} days.\")\n",
    "[ print('\\t', k) for k in res ];"
   ]
  },
  {
   "cell_type": "code",
   "execution_count": 11,
   "id": "52ca0208",
   "metadata": {
    "execution": {
     "iopub.execute_input": "2022-10-12T05:00:29.770135Z",
     "iopub.status.busy": "2022-10-12T05:00:29.769608Z",
     "iopub.status.idle": "2022-10-12T05:00:29.777263Z",
     "shell.execute_reply": "2022-10-12T05:00:29.776478Z"
    },
    "papermill": {
     "duration": 0.023635,
     "end_time": "2022-10-12T05:00:29.779249",
     "exception": false,
     "start_time": "2022-10-12T05:00:29.755614",
     "status": "completed"
    },
    "scrolled": false,
    "tags": []
   },
   "outputs": [],
   "source": [
    "def create_carousel(npub=4):\n",
    "    \"\"\" Generate the HTML code for a carousel with `npub` slides \"\"\"\n",
    "    carousel = [\"\"\"<section class=\"carousel\" aria-label=\"Gallery\">\"\"\",\n",
    "                \"\"\"  <ol class=\"carousel__viewport\">\"\"\",\n",
    "    ]\n",
    "    for k in range(1, npub + 1):\n",
    "        prev_ = k - 1\n",
    "        next_ = k + 1\n",
    "        if prev_ <= 0:\n",
    "            prev_ = npub\n",
    "        if next_ > npub:\n",
    "            next_ = 1\n",
    "        text  = f\"\"\"    <li id=\"carousel__slide{k}\" tabindex=\"0\" class=\"carousel__slide\">\\n\"\"\"\n",
    "        text += f\"\"\"       <div class=\"carousel__snapper\">\\n\"\"\"\n",
    "        text += f\"\"\"         <a href=\"#carousel__slide{prev_}\" class=\"carousel__prev\">Go to previous slide</a>\\n\"\"\"\n",
    "        text += f\"\"\"         <a href=\"#carousel__slide{next_}\" class=\"carousel__next\">Go to next slide</a>\\n\"\"\"\n",
    "        text += f\"\"\"         <div id=\"slide{k}_content\" class=\"md_view\" >Content {k}</div>\\n\"\"\"\n",
    "        text += f\"\"\"       </div>\\n\"\"\"\n",
    "        text += f\"\"\"    </li>\"\"\"\n",
    "        carousel.append(text)\n",
    "\n",
    "    carousel.extend([\n",
    "        \"\"\"  </ol>\"\"\",\n",
    "        \"\"\"  <aside class=\"carousel__navigation\">\"\"\",\n",
    "        \"\"\"    <ol class=\"carousel__navigation-list\">\"\"\"])\n",
    "\n",
    "    for k in range(1, npub + 1):\n",
    "        text  = f\"\"\"      <li class=\"carousel__navigation-item\">\\n\"\"\"\n",
    "        text += f\"\"\"        <a href=\"#carousel__slide{k}\" class=\"carousel__navigation-button\">Go to {k}</a>\\n\"\"\"\n",
    "        text += f\"\"\"      </li>\"\"\"\n",
    "        carousel.append(text)\n",
    "    carousel.extend([\"\"\"    </ol>\"\"\", \"\"\"  </aside>\"\"\", \"\"\"</section>\"\"\"])\n",
    "\n",
    "    return '\\n'.join(carousel)"
   ]
  },
  {
   "cell_type": "code",
   "execution_count": 12,
   "id": "a6eac5b6",
   "metadata": {
    "execution": {
     "iopub.execute_input": "2022-10-12T05:00:29.845598Z",
     "iopub.status.busy": "2022-10-12T05:00:29.845127Z",
     "iopub.status.idle": "2022-10-12T05:00:29.853689Z",
     "shell.execute_reply": "2022-10-12T05:00:29.852791Z"
    },
    "papermill": {
     "duration": 0.025141,
     "end_time": "2022-10-12T05:00:29.855703",
     "exception": false,
     "start_time": "2022-10-12T05:00:29.830562",
     "status": "completed"
    },
    "scrolled": false,
    "tags": []
   },
   "outputs": [],
   "source": [
    "carousel = create_carousel(npub)\n",
    "docs = ', '.join(['\"{0:s}\"'.format(k.split('/')[-1]) for k in res])\n",
    "slides = ', '.join([f'\"slide{k}_content\"' for k in range(1, npub + 1)])\n",
    "\n",
    "script = f\"\"\"\n",
    "const docs = [{docs}]\n",
    "\n",
    "const slides = [{slides}]\n",
    "\"\"\" + \"\"\"\n",
    "async function run() {\n",
    "    for (let i = 0; i < docs.length; i++) {\n",
    "        let file = await fetch(docs[i]);\n",
    "        let text = await file.text()\n",
    "        document.getElementById(slides[i]).innerHTML =\n",
    "            marked.parse(text);\n",
    "    }\n",
    "    hljs.highlightAll();\n",
    "}\n",
    "run()\n",
    "\"\"\"\n",
    "\n",
    "page = f\"\"\"<!doctype html>\n",
    "<html lang=\"en\">\n",
    "\n",
    "<head>\n",
    "  <meta charset=\"utf-8\">\n",
    "  <meta name=\"viewport\" content=\"width=device-width, initial-scale=1\">\n",
    "  <!-- Bootstrap CSS -->\n",
    "  <link href=\"https://cdn.jsdelivr.net/npm/bootstrap@5.0.2/dist/css/bootstrap.min.css\" rel=\"stylesheet\"\n",
    "   integrity=\"sha384-EVSTQN3/azprG1Anm3QDgpJLIm9Nao0Yz1ztcQTwFspd3yD65VohhpuuCOmLASjC\" crossorigin=\"anonymous\">\n",
    "  <!-- highlight.js CSS -->\n",
    "  <link rel=\"stylesheet\" href=\"https://cdnjs.cloudflare.com/ajax/libs/highlight.js/11.1.0/styles/default.min.css\">\n",
    "  <!-- Mathjax 3 -->\n",
    "  <script type=\"text/javascript\" id=\"MathJax-config\" src=\"mathjax_config.js\"> </script>\n",
    "  <script type=\"text/javascript\" id=\"MathJax-script\" async \n",
    "    src=\"https://cdn.jsdelivr.net/npm/mathjax@3/es5/tex-mml-chtml.js\">\n",
    "  </script>\n",
    "  <link rel=\"stylesheet\" href=\"index_carousel.css\">\n",
    "  <link rel=\"icon\" type=\"image/x-icon\" href=\"https://www.mpia.de/assets/touch-icon-32x32-a66937bcebc4e8894ebff1f41a366c7c7220fd97a38869ee0f2db65a9f59b6c1.png\">\n",
    "  <title>MPIA Arxiv on deck!</title>\n",
    "</head>\n",
    "\n",
    "<body>\n",
    "  <div id=\"header\"> <img src=\"header_banner.png\" width=\"100%\"></div>\n",
    "  <div id=\"suptitle\"> 7-day archives </div>\n",
    "  <div id=\"info\">\n",
    "    <img src=\"https://pngimg.com/uploads/github/github_PNG58.png\" height=30rem></img>\n",
    "    <a href=https://github.com/mpi-astronomy/arxiv_display style=\"color:black;\">github/mpi-astronomy/arxiv_display</a> \n",
    "  </div>\n",
    "  {carousel:s}\n",
    "</body>\n",
    "\n",
    "<!-- Render Markdown -->\n",
    "\n",
    "<body>\n",
    "  <!-- highlight.js: https://highlightjs.org/download/ -->\n",
    "  <script src=\"https://cdnjs.cloudflare.com/ajax/libs/highlight.js/11.5.0/highlight.min.js\"></script>\n",
    "  <!-- marked.js -->\n",
    "  <script src=\"https://cdn.jsdelivr.net/npm/marked/marked.min.js\"></script>\n",
    "  <script>{script:s}</script>\n",
    "</body>\n",
    "</html>\n",
    "\"\"\"\n",
    "with open(\"_build/html/index_7days.html\", 'w') as fout:\n",
    "    fout.write(page)"
   ]
  },
  {
   "cell_type": "markdown",
   "id": "1cebacbc",
   "metadata": {
    "papermill": {
     "duration": 0.013537,
     "end_time": "2022-10-12T05:00:29.885340",
     "exception": false,
     "start_time": "2022-10-12T05:00:29.871803",
     "status": "completed"
    },
    "tags": []
   },
   "source": [
    "# Debugging papers"
   ]
  },
  {
   "cell_type": "raw",
   "id": "debe7cc6",
   "metadata": {
    "papermill": {
     "duration": 0.014292,
     "end_time": "2022-10-12T05:00:29.912452",
     "exception": false,
     "start_time": "2022-10-12T05:00:29.898160",
     "status": "completed"
    },
    "tags": []
   },
   "source": [
    "raise NotImplementedError(\"Manual Stop\")"
   ]
  },
  {
   "cell_type": "raw",
   "id": "eb169192",
   "metadata": {
    "papermill": {
     "duration": 0.012831,
     "end_time": "2022-10-12T05:00:29.938962",
     "exception": false,
     "start_time": "2022-10-12T05:00:29.926131",
     "status": "completed"
    },
    "scrolled": true,
    "tags": []
   },
   "source": [
    "from IPython.display import display, Markdown\n",
    "from TexSoup import TexSoup\n",
    "import re\n",
    "\n",
    "def bracket_error(source: str):\n",
    "    \"\"\" Find problematic portions of the document \"\"\"\n",
    "    \n",
    "    print(\"len(source)\", len(source))\n",
    "    \n",
    "    # Checking header\n",
    "    begin_doc = next(re.finditer(r'\\\\begin\\{document\\}', doc.source)).span()[1]\n",
    "    header = source[:begin_doc]\n",
    "    text = header + r\"\\n\\end{document}\"\n",
    "\n",
    "    try:\n",
    "        # print(\"Header check... \", end='')\n",
    "        TexSoup(text)\n",
    "        display(Markdown(f\"**[OK]** - Header\"))\n",
    "    except:\n",
    "        raise RuntimeError(\"Error in the header\")\n",
    "        \n",
    "    # Check the text per section until the end.\n",
    "    # Do not stop and try them all.\n",
    "    \n",
    "    problematic_text = []\n",
    "    \n",
    "    sections = ([(0, begin_doc, 'until first section')] + \n",
    "                [(g.span()[0], g.span()[1], g.group()) for g in re.finditer(r'\\\\section\\{.*\\}', source)] +\n",
    "                [(g.span()[0], g.span()[1], g.group()) for g in re.finditer(r'\\\\begin\\{appendix\\}', source)]\n",
    "               )\n",
    "    sections.append([len(source), len(source), 'end'])\n",
    "    \n",
    "    sections = sorted(sections, key=lambda x: x[0])\n",
    "    \n",
    "    prev_pos, prev_name = (0, 'header')\n",
    "    parsed = []\n",
    "    \n",
    "    for span, span_end, name in sections:\n",
    "\n",
    "        if span - prev_pos <= 0:\n",
    "            continue\n",
    "            \n",
    "\n",
    "        text = source[prev_pos:span]\n",
    "        if prev_pos > begin_doc:\n",
    "            text = r\"\\n\\begin{document}\" + text + r\"\\n\\end{document}\"\n",
    "        else:\n",
    "            text = text + r\"\\n\\end{document}\"\n",
    "        try:\n",
    "            #print(f\"{prev_pos}:{prev_name}-->{span}:{name} check... \", end='')\n",
    "            parsed.append(TexSoup(text, tolerance=1))  # allow not ending env\n",
    "            display(Markdown(f\"**[OK]** - *{prev_pos}*:{prev_name} &rarr; *{span}*:{name}\"))\n",
    "            # print(\"ok\")\n",
    "\n",
    "            prev_pos = span\n",
    "            prev_name = name\n",
    "        except:\n",
    "            # print(f\"error between {prev_pos} and {span}\")\n",
    "            display(Markdown(f\"**[ERR]** *{prev_pos}*:{prev_name} &rarr; *{span}*:{name}\"))\n",
    "            problematic_text.append((prev_pos, source[prev_pos:span]))\n",
    "            prev_pos = span\n",
    "            prev_name = name\n",
    "            # raise\n",
    "    return problematic_text, parsed\n",
    "\n",
    "\n",
    "def check_environment(text, offset=0):\n",
    "    \"\"\" Check environment \"\"\"\n",
    "    env = re.compile(r\"\\\\begin\\{(?P<env>.*)\\}(.*)\\\\end\\{(?P=env)\\}\", re.DOTALL)\n",
    "\n",
    "    for match in env.finditer(text):\n",
    "        beg, end = match.span()\n",
    "        beg += offset\n",
    "        end += offset\n",
    "        envname = match.groups()[0]\n",
    "        try:\n",
    "            latex.TexSoup(match.group())\n",
    "        except Exception as e:\n",
    "            display(e)\n",
    "            print(f\"Error in {envname:s} between {beg} and {end}\")\n",
    "            return match.groups()[1], beg, end"
   ]
  },
  {
   "cell_type": "raw",
   "id": "2315e835",
   "metadata": {
    "papermill": {
     "duration": 0.01287,
     "end_time": "2022-10-12T05:00:29.964225",
     "exception": false,
     "start_time": "2022-10-12T05:00:29.951355",
     "status": "completed"
    },
    "scrolled": false,
    "tags": []
   },
   "source": [
    "import importlib\n",
    "importlib.reload(latex)\n",
    "which = \"2204.03253\"\n",
    "paper_id = f'{which:s}'\n",
    "folder = f'tmp_{paper_id:s}'\n",
    "\n",
    "if not os.path.isdir(folder):\n",
    "    folder = retrieve_document_source(f\"{paper_id}\", f'tmp_{paper_id}')\n",
    "\n",
    "try:\n",
    "    doc = latex.LatexDocument(folder, validation=validation)    \n",
    "except AffiliationError as affilerror:\n",
    "    msg = f\"ArXiv:{paper_id:s} is not an MPIA paper... \" + str(affilerror)\n",
    "    print(msg)\n",
    "\n",
    "\n",
    "# Hack because sometimes author parsing does not work well\n",
    "if (len(doc.authors) != len(paper['authors'])):\n",
    "    doc._authors = paper['authors']\n",
    "if (doc.abstract) in (None, ''):\n",
    "    doc._abstract = paper['abstract']\n",
    "\n",
    "doc.comment = get_markdown_badge(paper_id) + \" _\" + paper['comments'] + \"_\"\n",
    "doc.highlight_authors_in_list(hl_list)\n",
    "\n",
    "full_md = doc.generate_markdown_text()"
   ]
  },
  {
   "cell_type": "raw",
   "id": "dd3781db",
   "metadata": {
    "papermill": {
     "duration": 0.01335,
     "end_time": "2022-10-12T05:00:29.991121",
     "exception": false,
     "start_time": "2022-10-12T05:00:29.977771",
     "status": "completed"
    },
    "scrolled": false,
    "tags": []
   },
   "source": [
    "doc"
   ]
  },
  {
   "cell_type": "raw",
   "id": "c6eed834",
   "metadata": {
    "papermill": {
     "duration": 0.013411,
     "end_time": "2022-10-12T05:00:30.018120",
     "exception": false,
     "start_time": "2022-10-12T05:00:30.004709",
     "status": "completed"
    },
    "tags": []
   },
   "source": [
    "# [check_environment(k) for k in bracket_error(doc.source)]\n",
    "_, _, a = latex.get_content_per_section(doc.source, verbose=True)\n",
    "if not a:\n",
    "    print(\"no issues per section\")\n",
    "for ak in a:\n",
    "    r = check_environment(ak[1], offset=ak[0])\n",
    "    print(r[1], r[2])\n",
    "    print(r[0])"
   ]
  },
  {
   "cell_type": "code",
   "execution_count": null,
   "id": "71ce768a",
   "metadata": {
    "papermill": {
     "duration": 0.012659,
     "end_time": "2022-10-12T05:00:30.044084",
     "exception": false,
     "start_time": "2022-10-12T05:00:30.031425",
     "status": "completed"
    },
    "tags": []
   },
   "outputs": [],
   "source": []
  }
 ],
 "metadata": {
  "kernelspec": {
   "display_name": "Python 3.10.6 64-bit",
   "language": "python",
   "name": "python3"
  },
  "language_info": {
   "codemirror_mode": {
    "name": "ipython",
    "version": 3
   },
   "file_extension": ".py",
   "mimetype": "text/x-python",
   "name": "python",
   "nbconvert_exporter": "python",
   "pygments_lexer": "ipython3",
   "version": "3.9.14"
  },
  "papermill": {
   "default_parameters": {},
   "duration": 157.538786,
   "end_time": "2022-10-12T05:00:30.281363",
   "environment_variables": {},
   "exception": null,
   "input_path": "MPIA daily digest.ipynb",
   "output_path": "log.ipynb",
   "parameters": {},
   "start_time": "2022-10-12T04:57:52.742577",
   "version": "2.4.0"
  },
  "vscode": {
   "interpreter": {
    "hash": "e7370f93d1d0cde622a1f8e1c04877d8463912d04d973331ad4851f04de6915a"
   }
  },
  "widgets": {
   "application/vnd.jupyter.widget-state+json": {
    "state": {
     "02fbc282fc864db193e134bf70175084": {
      "model_module": "@jupyter-widgets/controls",
      "model_module_version": "2.0.0",
      "model_name": "HTMLStyleModel",
      "state": {
       "_model_module": "@jupyter-widgets/controls",
       "_model_module_version": "2.0.0",
       "_model_name": "HTMLStyleModel",
       "_view_count": null,
       "_view_module": "@jupyter-widgets/base",
       "_view_module_version": "2.0.0",
       "_view_name": "StyleView",
       "background": null,
       "description_width": "",
       "font_size": null,
       "text_color": null
      }
     },
     "1b309dd7f7674d17a3617c6731a010bd": {
      "model_module": "@jupyter-widgets/base",
      "model_module_version": "2.0.0",
      "model_name": "LayoutModel",
      "state": {
       "_model_module": "@jupyter-widgets/base",
       "_model_module_version": "2.0.0",
       "_model_name": "LayoutModel",
       "_view_count": null,
       "_view_module": "@jupyter-widgets/base",
       "_view_module_version": "2.0.0",
       "_view_name": "LayoutView",
       "align_content": null,
       "align_items": null,
       "align_self": null,
       "border_bottom": null,
       "border_left": null,
       "border_right": null,
       "border_top": null,
       "bottom": null,
       "display": null,
       "flex": null,
       "flex_flow": null,
       "grid_area": null,
       "grid_auto_columns": null,
       "grid_auto_flow": null,
       "grid_auto_rows": null,
       "grid_column": null,
       "grid_gap": null,
       "grid_row": null,
       "grid_template_areas": null,
       "grid_template_columns": null,
       "grid_template_rows": null,
       "height": null,
       "justify_content": null,
       "justify_items": null,
       "left": null,
       "margin": null,
       "max_height": null,
       "max_width": null,
       "min_height": null,
       "min_width": null,
       "object_fit": null,
       "object_position": null,
       "order": null,
       "overflow": null,
       "padding": null,
       "right": null,
       "top": null,
       "visibility": null,
       "width": null
      }
     },
     "76ee38bc67814849946b9645c0bc4fb9": {
      "model_module": "@jupyter-widgets/controls",
      "model_module_version": "2.0.0",
      "model_name": "HTMLModel",
      "state": {
       "_dom_classes": [],
       "_model_module": "@jupyter-widgets/controls",
       "_model_module_version": "2.0.0",
       "_model_name": "HTMLModel",
       "_view_count": null,
       "_view_module": "@jupyter-widgets/controls",
       "_view_module_version": "2.0.0",
       "_view_name": "HTMLView",
       "description": "",
       "description_allow_html": false,
       "layout": "IPY_MODEL_f7f6ef40b6aa46968c112b04ba41cded",
       "placeholder": "​",
       "style": "IPY_MODEL_02fbc282fc864db193e134bf70175084",
       "tabbable": null,
       "tooltip": null,
       "value": " 28/28 [02:06&lt;00:00, 17.55s/it]"
      }
     },
     "7adb5f66b87440a9b278949eeb648485": {
      "model_module": "@jupyter-widgets/controls",
      "model_module_version": "2.0.0",
      "model_name": "HTMLStyleModel",
      "state": {
       "_model_module": "@jupyter-widgets/controls",
       "_model_module_version": "2.0.0",
       "_model_name": "HTMLStyleModel",
       "_view_count": null,
       "_view_module": "@jupyter-widgets/base",
       "_view_module_version": "2.0.0",
       "_view_name": "StyleView",
       "background": null,
       "description_width": "",
       "font_size": null,
       "text_color": null
      }
     },
     "7ff8bf1277984c52aa97250544c3cd9c": {
      "model_module": "@jupyter-widgets/controls",
      "model_module_version": "2.0.0",
      "model_name": "HTMLModel",
      "state": {
       "_dom_classes": [],
       "_model_module": "@jupyter-widgets/controls",
       "_model_module_version": "2.0.0",
       "_model_name": "HTMLModel",
       "_view_count": null,
       "_view_module": "@jupyter-widgets/controls",
       "_view_module_version": "2.0.0",
       "_view_name": "HTMLView",
       "description": "",
       "description_allow_html": false,
       "layout": "IPY_MODEL_1b309dd7f7674d17a3617c6731a010bd",
       "placeholder": "​",
       "style": "IPY_MODEL_7adb5f66b87440a9b278949eeb648485",
       "tabbable": null,
       "tooltip": null,
       "value": "100%"
      }
     },
     "9e328c9511814e238adacee944e1f966": {
      "model_module": "@jupyter-widgets/controls",
      "model_module_version": "2.0.0",
      "model_name": "FloatProgressModel",
      "state": {
       "_dom_classes": [],
       "_model_module": "@jupyter-widgets/controls",
       "_model_module_version": "2.0.0",
       "_model_name": "FloatProgressModel",
       "_view_count": null,
       "_view_module": "@jupyter-widgets/controls",
       "_view_module_version": "2.0.0",
       "_view_name": "ProgressView",
       "bar_style": "success",
       "description": "",
       "description_allow_html": false,
       "layout": "IPY_MODEL_c92b6e2a910d48edb47cee5a5e7e7b36",
       "max": 28.0,
       "min": 0.0,
       "orientation": "horizontal",
       "style": "IPY_MODEL_f1135657b8f84c128856b2f25bcfc1d3",
       "tabbable": null,
       "tooltip": null,
       "value": 28.0
      }
     },
     "bffbdcac250f436097e78e4157f9b70f": {
      "model_module": "@jupyter-widgets/base",
      "model_module_version": "2.0.0",
      "model_name": "LayoutModel",
      "state": {
       "_model_module": "@jupyter-widgets/base",
       "_model_module_version": "2.0.0",
       "_model_name": "LayoutModel",
       "_view_count": null,
       "_view_module": "@jupyter-widgets/base",
       "_view_module_version": "2.0.0",
       "_view_name": "LayoutView",
       "align_content": null,
       "align_items": null,
       "align_self": null,
       "border_bottom": null,
       "border_left": null,
       "border_right": null,
       "border_top": null,
       "bottom": null,
       "display": null,
       "flex": null,
       "flex_flow": null,
       "grid_area": null,
       "grid_auto_columns": null,
       "grid_auto_flow": null,
       "grid_auto_rows": null,
       "grid_column": null,
       "grid_gap": null,
       "grid_row": null,
       "grid_template_areas": null,
       "grid_template_columns": null,
       "grid_template_rows": null,
       "height": null,
       "justify_content": null,
       "justify_items": null,
       "left": null,
       "margin": null,
       "max_height": null,
       "max_width": null,
       "min_height": null,
       "min_width": null,
       "object_fit": null,
       "object_position": null,
       "order": null,
       "overflow": null,
       "padding": null,
       "right": null,
       "top": null,
       "visibility": null,
       "width": null
      }
     },
     "c92b6e2a910d48edb47cee5a5e7e7b36": {
      "model_module": "@jupyter-widgets/base",
      "model_module_version": "2.0.0",
      "model_name": "LayoutModel",
      "state": {
       "_model_module": "@jupyter-widgets/base",
       "_model_module_version": "2.0.0",
       "_model_name": "LayoutModel",
       "_view_count": null,
       "_view_module": "@jupyter-widgets/base",
       "_view_module_version": "2.0.0",
       "_view_name": "LayoutView",
       "align_content": null,
       "align_items": null,
       "align_self": null,
       "border_bottom": null,
       "border_left": null,
       "border_right": null,
       "border_top": null,
       "bottom": null,
       "display": null,
       "flex": null,
       "flex_flow": null,
       "grid_area": null,
       "grid_auto_columns": null,
       "grid_auto_flow": null,
       "grid_auto_rows": null,
       "grid_column": null,
       "grid_gap": null,
       "grid_row": null,
       "grid_template_areas": null,
       "grid_template_columns": null,
       "grid_template_rows": null,
       "height": null,
       "justify_content": null,
       "justify_items": null,
       "left": null,
       "margin": null,
       "max_height": null,
       "max_width": null,
       "min_height": null,
       "min_width": null,
       "object_fit": null,
       "object_position": null,
       "order": null,
       "overflow": null,
       "padding": null,
       "right": null,
       "top": null,
       "visibility": null,
       "width": null
      }
     },
     "e721f6e52a2a434888ef6feca4f298b9": {
      "model_module": "@jupyter-widgets/controls",
      "model_module_version": "2.0.0",
      "model_name": "HBoxModel",
      "state": {
       "_dom_classes": [],
       "_model_module": "@jupyter-widgets/controls",
       "_model_module_version": "2.0.0",
       "_model_name": "HBoxModel",
       "_view_count": null,
       "_view_module": "@jupyter-widgets/controls",
       "_view_module_version": "2.0.0",
       "_view_name": "HBoxView",
       "box_style": "",
       "children": [
        "IPY_MODEL_7ff8bf1277984c52aa97250544c3cd9c",
        "IPY_MODEL_9e328c9511814e238adacee944e1f966",
        "IPY_MODEL_76ee38bc67814849946b9645c0bc4fb9"
       ],
       "layout": "IPY_MODEL_bffbdcac250f436097e78e4157f9b70f",
       "tabbable": null,
       "tooltip": null
      }
     },
     "f1135657b8f84c128856b2f25bcfc1d3": {
      "model_module": "@jupyter-widgets/controls",
      "model_module_version": "2.0.0",
      "model_name": "ProgressStyleModel",
      "state": {
       "_model_module": "@jupyter-widgets/controls",
       "_model_module_version": "2.0.0",
       "_model_name": "ProgressStyleModel",
       "_view_count": null,
       "_view_module": "@jupyter-widgets/base",
       "_view_module_version": "2.0.0",
       "_view_name": "StyleView",
       "bar_color": null,
       "description_width": ""
      }
     },
     "f7f6ef40b6aa46968c112b04ba41cded": {
      "model_module": "@jupyter-widgets/base",
      "model_module_version": "2.0.0",
      "model_name": "LayoutModel",
      "state": {
       "_model_module": "@jupyter-widgets/base",
       "_model_module_version": "2.0.0",
       "_model_name": "LayoutModel",
       "_view_count": null,
       "_view_module": "@jupyter-widgets/base",
       "_view_module_version": "2.0.0",
       "_view_name": "LayoutView",
       "align_content": null,
       "align_items": null,
       "align_self": null,
       "border_bottom": null,
       "border_left": null,
       "border_right": null,
       "border_top": null,
       "bottom": null,
       "display": null,
       "flex": null,
       "flex_flow": null,
       "grid_area": null,
       "grid_auto_columns": null,
       "grid_auto_flow": null,
       "grid_auto_rows": null,
       "grid_column": null,
       "grid_gap": null,
       "grid_row": null,
       "grid_template_areas": null,
       "grid_template_columns": null,
       "grid_template_rows": null,
       "height": null,
       "justify_content": null,
       "justify_items": null,
       "left": null,
       "margin": null,
       "max_height": null,
       "max_width": null,
       "min_height": null,
       "min_width": null,
       "object_fit": null,
       "object_position": null,
       "order": null,
       "overflow": null,
       "padding": null,
       "right": null,
       "top": null,
       "visibility": null,
       "width": null
      }
     }
    },
    "version_major": 2,
    "version_minor": 0
   }
  }
 },
 "nbformat": 4,
 "nbformat_minor": 5
}