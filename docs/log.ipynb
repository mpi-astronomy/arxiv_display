{
 "cells": [
  {
   "cell_type": "markdown",
   "id": "92bcb855",
   "metadata": {
    "papermill": {
     "duration": 0.003826,
     "end_time": "2025-04-01T04:13:07.997453",
     "exception": false,
     "start_time": "2025-04-01T04:13:07.993627",
     "status": "completed"
    },
    "tags": []
   },
   "source": [
    "# MPIA Arxiv on Deck 2\n",
    "\n",
    "Contains the steps to produce the paper extractions."
   ]
  },
  {
   "cell_type": "code",
   "execution_count": 1,
   "id": "3a0d6e11",
   "metadata": {
    "execution": {
     "iopub.execute_input": "2025-04-01T04:13:08.005619Z",
     "iopub.status.busy": "2025-04-01T04:13:08.004813Z",
     "iopub.status.idle": "2025-04-01T04:13:08.353427Z",
     "shell.execute_reply": "2025-04-01T04:13:08.352649Z"
    },
    "papermill": {
     "duration": 0.354255,
     "end_time": "2025-04-01T04:13:08.354936",
     "exception": false,
     "start_time": "2025-04-01T04:13:08.000681",
     "status": "completed"
    },
    "tags": []
   },
   "outputs": [],
   "source": [
    "# Imports\n",
    "import os\n",
    "from IPython.display import Markdown, display\n",
    "from tqdm.notebook import tqdm\n",
    "import warnings\n",
    "from PIL import Image \n",
    "import re\n",
    "\n",
    "# requires arxiv_on_deck_2\n",
    "\n",
    "from arxiv_on_deck_2.arxiv2 import (get_new_papers, \n",
    "                                    get_paper_from_identifier,\n",
    "                                    retrieve_document_source, \n",
    "                                    get_markdown_badge)\n",
    "from arxiv_on_deck_2 import (latex,\n",
    "                             latex_bib,\n",
    "                             mpia,\n",
    "                             highlight_authors_in_list)\n",
    "\n",
    "# Sometimes images are really big\n",
    "Image.MAX_IMAGE_PIXELS = 1000000000 "
   ]
  },
  {
   "cell_type": "code",
   "execution_count": 2,
   "id": "22aa9d44",
   "metadata": {
    "execution": {
     "iopub.execute_input": "2025-04-01T04:13:08.362485Z",
     "iopub.status.busy": "2025-04-01T04:13:08.361922Z",
     "iopub.status.idle": "2025-04-01T04:13:08.370313Z",
     "shell.execute_reply": "2025-04-01T04:13:08.369633Z"
    },
    "papermill": {
     "duration": 0.013213,
     "end_time": "2025-04-01T04:13:08.371357",
     "exception": false,
     "start_time": "2025-04-01T04:13:08.358144",
     "status": "completed"
    },
    "tags": []
   },
   "outputs": [],
   "source": [
    "# Some useful definitions.\n",
    "\n",
    "class AffiliationWarning(UserWarning):\n",
    "    pass\n",
    "\n",
    "class AffiliationError(RuntimeError):\n",
    "    pass\n",
    "\n",
    "def validation(source: str):\n",
    "    \"\"\"Raises error paper during parsing of source file\n",
    "    \n",
    "    Allows checks before parsing TeX code.\n",
    "    \n",
    "    Raises AffiliationWarning\n",
    "    \"\"\"\n",
    "    check = mpia.affiliation_verifications(source, verbose=True)\n",
    "    if check is not True:\n",
    "        raise AffiliationError(\"mpia.affiliation_verifications: \" + check)\n",
    "\n",
    "        \n",
    "warnings.simplefilter('always', AffiliationWarning)\n",
    "\n",
    "\n",
    "def get_markdown_qrcode(paper_id: str):\n",
    "    \"\"\" Generate a qrcode to the arxiv page using qrserver.com\n",
    "    \n",
    "    :param paper: Arxiv paper\n",
    "    :returns: markdown text\n",
    "    \"\"\"\n",
    "    url = r\"https://api.qrserver.com/v1/create-qr-code/?size=100x100&data=\"\n",
    "    txt = f\"\"\"<img src={url}\"https://arxiv.org/abs/{paper_id}\">\"\"\"\n",
    "    txt = '<div id=\"qrcode\">' + txt + '</div>'\n",
    "    return txt\n",
    "\n",
    "\n",
    "def clean_non_western_encoded_characters_commands(text: str) -> str:\n",
    "    \"\"\" Remove non-western encoded characters from a string\n",
    "    List may need to grow.\n",
    "    \n",
    "    :param text: the text to clean\n",
    "    :return: the cleaned text\n",
    "    \"\"\"\n",
    "    text = re.sub(r\"(\\\\begin{CJK}{UTF8}{gbsn})(.*?)(\\\\end{CJK})\", r\"\\2\", text)\n",
    "    return text\n",
    "\n",
    "\n",
    "def get_initials(name: str) -> str:\n",
    "    \"\"\" Get the short name, e.g., A.-B. FamName\n",
    "    :param name: full name\n",
    "    :returns: initials\n",
    "    \"\"\"\n",
    "    initials = []\n",
    "    # account for non western names often in ()\n",
    "    if '(' in name:\n",
    "        name = clean_non_western_encoded_characters_commands(name)\n",
    "        suffix = re.findall(r\"\\((.*?)\\)\", name)[0]\n",
    "        name = name.replace(f\"({suffix})\", '')\n",
    "    else:\n",
    "        suffix = ''\n",
    "    split = name.split()\n",
    "    for token in split[:-1]:\n",
    "        if '-' in token:\n",
    "            current = '-'.join([k[0] + '.' for k in token.split('-')])\n",
    "        else:\n",
    "            current = token[0] + '.'\n",
    "        initials.append(current)\n",
    "    initials.append(split[-1].strip())\n",
    "    if suffix:\n",
    "        initials.append(f\"({suffix})\")\n",
    "    return ' '.join(initials)"
   ]
  },
  {
   "cell_type": "markdown",
   "id": "14bd6310",
   "metadata": {
    "papermill": {
     "duration": 0.002819,
     "end_time": "2025-04-01T04:13:08.377180",
     "exception": false,
     "start_time": "2025-04-01T04:13:08.374361",
     "status": "completed"
    },
    "tags": []
   },
   "source": [
    "## get list of arxiv paper candidates\n",
    "\n",
    "We use the MPIA mitarbeiter list webpage from mpia.de to get author names\n",
    "We then get all new papers from Arxiv and match authors"
   ]
  },
  {
   "cell_type": "code",
   "execution_count": 3,
   "id": "7ea813a8",
   "metadata": {
    "execution": {
     "iopub.execute_input": "2025-04-01T04:13:08.384029Z",
     "iopub.status.busy": "2025-04-01T04:13:08.383629Z",
     "iopub.status.idle": "2025-04-01T04:13:32.793173Z",
     "shell.execute_reply": "2025-04-01T04:13:32.792410Z"
    },
    "papermill": {
     "duration": 24.41455,
     "end_time": "2025-04-01T04:13:32.794589",
     "exception": false,
     "start_time": "2025-04-01T04:13:08.380039",
     "status": "completed"
    },
    "tags": []
   },
   "outputs": [],
   "source": [
    "# deal with the author list and edge cases of people that cannot be consistent on their name  \n",
    "\n",
    "def filter_non_scientists(name: str) -> bool:\n",
    "    \"\"\" Loose filter on expected authorships\n",
    "\n",
    "    removing IT, administration, technical staff\n",
    "    :param name: name\n",
    "    :returns: False if name is not a scientist\n",
    "    \"\"\"\n",
    "    remove_list = ['Licht', 'Binroth', 'Witzel', 'Jordan',\n",
    "                   'Zähringer', 'Scheerer', 'Hoffmann', 'Düe',\n",
    "                   'Hellmich', 'Enkler-Scharpegge', 'Witte-Nguy',\n",
    "                   'Dehen', 'Beckmann', 'Jager', 'Jäger'\n",
    "                  ]\n",
    "\n",
    "    for k in remove_list:\n",
    "        if k in name:\n",
    "            return False\n",
    "    return True\n",
    "\n",
    "def add_author_to_list(author_list: list) -> list:\n",
    "    \"\"\" Add author to list if not already in list\n",
    "    \n",
    "    :param author: author name\n",
    "    :param author_list: list of authors\n",
    "    :returns: updated list of authors\n",
    "    \"\"\"\n",
    "    add_list = ['T. Henning']\n",
    "\n",
    "    for author in add_list:\n",
    "        if author not in author_list:\n",
    "            author_list.append(author)\n",
    "    return author_list\n",
    "\n",
    "# get list from MPIA website\n",
    "# filter for non-scientists (mpia.get_mpia_mitarbeiter_list() does some filtering)\n",
    "mpia_authors = [k[1] for k in mpia.get_mpia_mitarbeiter_list() if filter_non_scientists(k[1])]\n",
    "# add some missing author because of inconsistencies in their MPIA name and author name on papers\n",
    "mpia_authors = add_author_to_list(mpia_authors)"
   ]
  },
  {
   "cell_type": "code",
   "execution_count": 4,
   "id": "2645e73a",
   "metadata": {
    "execution": {
     "iopub.execute_input": "2025-04-01T04:13:32.802065Z",
     "iopub.status.busy": "2025-04-01T04:13:32.801564Z",
     "iopub.status.idle": "2025-04-01T04:13:33.571867Z",
     "shell.execute_reply": "2025-04-01T04:13:33.571242Z"
    },
    "papermill": {
     "duration": 0.775062,
     "end_time": "2025-04-01T04:13:33.572969",
     "exception": false,
     "start_time": "2025-04-01T04:13:32.797907",
     "status": "completed"
    },
    "tags": []
   },
   "outputs": [
    {
     "name": "stdout",
     "output_type": "stream",
     "text": [
      "K. Schwarz  ->  K. Schwarz  |  ['K. Schwarz']\n",
      "D. Semenov  ->  D. Semenov  |  ['D. Semenov']\n",
      "S. Jiao  ->  S. Jiao  |  ['S. Jiao']\n",
      "F. Walter  ->  F. Walter  |  ['F. Walter']\n",
      "Y. Khusanova  ->  Y. Khusanova  |  ['Y. Khusanova']\n",
      "H.-W. Rix  ->  H.-W. Rix  |  ['H.-W. Rix']\n",
      "E.-M. Ahrer  ->  E.-M. Ahrer  |  ['E.-M. Ahrer']\n"
     ]
    },
    {
     "name": "stdout",
     "output_type": "stream",
     "text": [
      "Arxiv has 102 new papers today\n",
      "          4 with possible author matches\n"
     ]
    }
   ],
   "source": [
    "new_papers = get_new_papers()\n",
    "# add manual references\n",
    "add_paper_refs = []\n",
    "new_papers.extend([get_paper_from_identifier(k) for k in add_paper_refs])\n",
    "\n",
    "def robust_call(fn, value, *args, **kwargs):\n",
    "    try:\n",
    "        return fn(value, *args, **kwargs)\n",
    "    except Exception:\n",
    "        return value\n",
    "\n",
    "candidates = []\n",
    "for paperk in new_papers:\n",
    "    # Check author list with their initials\n",
    "    normed_author_list = [robust_call(mpia.get_initials, k) for k in paperk['authors']]\n",
    "    hl_authors = highlight_authors_in_list(normed_author_list, mpia_authors, verbose=True)\n",
    "    matches = [(hl, orig) for hl, orig in zip(hl_authors, paperk['authors']) if 'mark' in hl]\n",
    "    paperk['authors'] = hl_authors\n",
    "    if matches:\n",
    "        # only select paper if an author matched our list\n",
    "        candidates.append(paperk)\n",
    "print(\"\"\"Arxiv has {0:,d} new papers today\"\"\".format(len(new_papers)))        \n",
    "print(\"\"\"          {0:,d} with possible author matches\"\"\".format(len(candidates)))"
   ]
  },
  {
   "cell_type": "markdown",
   "id": "3543b34a",
   "metadata": {
    "papermill": {
     "duration": 0.003104,
     "end_time": "2025-04-01T04:13:33.579652",
     "exception": false,
     "start_time": "2025-04-01T04:13:33.576548",
     "status": "completed"
    },
    "tags": []
   },
   "source": [
    "# Parse sources and generate relevant outputs\n",
    "\n",
    "From the candidates, we do the following steps:\n",
    "* get their tarball from ArXiv (and extract data)\n",
    "* find the main .tex file: find one with \\documentclass{...} (sometimes it's non trivial)\n",
    "* Check affiliations with :func:`validation`, which uses :func:`mpia.affiliation_verifications`\n",
    "* If passing the affiliations: we parse the .tex source\n",
    "   * inject sub-documents into the main (flatten the main document)\n",
    "   * parse structure, extract information (title, abstract, authors, figures...)\n",
    "   * handles `\\graphicspath` if provided\n",
    "* Generate the .md document."
   ]
  },
  {
   "cell_type": "code",
   "execution_count": 5,
   "id": "9576b79e",
   "metadata": {
    "execution": {
     "iopub.execute_input": "2025-04-01T04:13:33.587129Z",
     "iopub.status.busy": "2025-04-01T04:13:33.586598Z",
     "iopub.status.idle": "2025-04-01T04:18:50.661932Z",
     "shell.execute_reply": "2025-04-01T04:18:50.661113Z"
    },
    "papermill": {
     "duration": 317.083718,
     "end_time": "2025-04-01T04:18:50.666508",
     "exception": false,
     "start_time": "2025-04-01T04:13:33.582790",
     "status": "completed"
    },
    "scrolled": false,
    "tags": []
   },
   "outputs": [
    {
     "data": {
      "application/vnd.jupyter.widget-view+json": {
       "model_id": "8c9bd3177f69461b96c9f43b0caab082",
       "version_major": 2,
       "version_minor": 0
      },
      "text/plain": [
       "  0%|          | 0/4 [00:00<?, ?it/s]"
      ]
     },
     "metadata": {},
     "output_type": "display_data"
    },
    {
     "name": "stdout",
     "output_type": "stream",
     "text": [
      "Retrieving document from  https://arxiv.org/e-print/2503.23319\n"
     ]
    },
    {
     "name": "stdout",
     "output_type": "stream",
     "text": [
      "extracting tarball to tmp_2503.23319... done.\n",
      "Retrieving document from  https://arxiv.org/e-print/2503.23700\n"
     ]
    },
    {
     "name": "stdout",
     "output_type": "stream",
     "text": [
      "extracting tarball to tmp_2503.23700..."
     ]
    },
    {
     "name": "stdout",
     "output_type": "stream",
     "text": [
      " done.\n",
      "Retrieving document from  https://arxiv.org/e-print/2503.23797\n"
     ]
    },
    {
     "name": "stdout",
     "output_type": "stream",
     "text": [
      "extracting tarball to tmp_2503.23797... done.\n"
     ]
    },
    {
     "name": "stderr",
     "output_type": "stream",
     "text": [
      "/tmp/ipykernel_3265/2822249172.py:52: LatexWarning: 2503.23797 did not run properly\n",
      "string index out of range\n",
      "  warnings.warn(latex.LatexWarning(f\"{paper_id:s} did not run properly\\n\" +\n"
     ]
    },
    {
     "name": "stdout",
     "output_type": "stream",
     "text": [
      "Retrieving document from  https://arxiv.org/e-print/2503.24280\n"
     ]
    },
    {
     "name": "stdout",
     "output_type": "stream",
     "text": [
      "extracting tarball to tmp_2503.24280..."
     ]
    },
    {
     "name": "stdout",
     "output_type": "stream",
     "text": [
      " done.\n"
     ]
    },
    {
     "name": "stderr",
     "output_type": "stream",
     "text": [
      "/opt/hostedtoolcache/Python/3.9.21/x64/lib/python3.9/site-packages/IPython/core/interactiveshell.py:3550: LatexWarning: Multiple tex files.\n",
      "\n",
      "  exec(code_obj, self.user_global_ns, self.user_ns)\n",
      "/opt/hostedtoolcache/Python/3.9.21/x64/lib/python3.9/site-packages/IPython/core/interactiveshell.py:3550: LatexWarning: Found documentclass in tmp_2503.24280/main.tex\n",
      "\n",
      "  exec(code_obj, self.user_global_ns, self.user_ns)\n",
      "/opt/hostedtoolcache/Python/3.9.21/x64/lib/python3.9/site-packages/arxiv_on_deck_2/latex.py:414: LatexWarning: Latex injecting: '10-appendixD' from 'tmp_2503.24280/10-appendixD.tex'\n",
      "  warnings.warn(LatexWarning(f\"Latex injecting: '{ext}' from '{subsource}'\"))\n",
      "/opt/hostedtoolcache/Python/3.9.21/x64/lib/python3.9/site-packages/arxiv_on_deck_2/latex.py:414: LatexWarning: Latex injecting: '9-appendixC' from 'tmp_2503.24280/9-appendixC.tex'\n",
      "  warnings.warn(LatexWarning(f\"Latex injecting: '{ext}' from '{subsource}'\"))\n",
      "/opt/hostedtoolcache/Python/3.9.21/x64/lib/python3.9/site-packages/arxiv_on_deck_2/latex.py:414: LatexWarning: Latex injecting: '8-appendixB' from 'tmp_2503.24280/8-appendixB.tex'\n",
      "  warnings.warn(LatexWarning(f\"Latex injecting: '{ext}' from '{subsource}'\"))\n",
      "/opt/hostedtoolcache/Python/3.9.21/x64/lib/python3.9/site-packages/arxiv_on_deck_2/latex.py:414: LatexWarning: Latex injecting: '7-appendixA' from 'tmp_2503.24280/7-appendixA.tex'\n",
      "  warnings.warn(LatexWarning(f\"Latex injecting: '{ext}' from '{subsource}'\"))\n",
      "/opt/hostedtoolcache/Python/3.9.21/x64/lib/python3.9/site-packages/arxiv_on_deck_2/latex.py:414: LatexWarning: Latex injecting: '5-discussion' from 'tmp_2503.24280/5-discussion.tex'\n",
      "  warnings.warn(LatexWarning(f\"Latex injecting: '{ext}' from '{subsource}'\"))\n",
      "/opt/hostedtoolcache/Python/3.9.21/x64/lib/python3.9/site-packages/arxiv_on_deck_2/latex.py:414: LatexWarning: Latex injecting: '4-retrievals' from 'tmp_2503.24280/4-retrievals.tex'\n",
      "  warnings.warn(LatexWarning(f\"Latex injecting: '{ext}' from '{subsource}'\"))\n",
      "/opt/hostedtoolcache/Python/3.9.21/x64/lib/python3.9/site-packages/arxiv_on_deck_2/latex.py:414: LatexWarning: Latex injecting: '3-data_reduction' from 'tmp_2503.24280/3-data_reduction.tex'\n",
      "  warnings.warn(LatexWarning(f\"Latex injecting: '{ext}' from '{subsource}'\"))\n",
      "/opt/hostedtoolcache/Python/3.9.21/x64/lib/python3.9/site-packages/arxiv_on_deck_2/latex.py:414: LatexWarning: Latex injecting: '2-observations' from 'tmp_2503.24280/2-observations.tex'\n",
      "  warnings.warn(LatexWarning(f\"Latex injecting: '{ext}' from '{subsource}'\"))\n",
      "/opt/hostedtoolcache/Python/3.9.21/x64/lib/python3.9/site-packages/arxiv_on_deck_2/latex.py:414: LatexWarning: Latex injecting: '1-intro' from 'tmp_2503.24280/1-intro.tex'\n",
      "  warnings.warn(LatexWarning(f\"Latex injecting: '{ext}' from '{subsource}'\"))\n"
     ]
    },
    {
     "name": "stdout",
     "output_type": "stream",
     "text": [
      "Issues with the citations\n",
      "list index out of range\n"
     ]
    }
   ],
   "source": [
    "documents = []\n",
    "failed = []\n",
    "for paper in tqdm(candidates):\n",
    "    # debug crap\n",
    "    paper['identifier'] = paper['identifier'].lower().replace('arxiv:', '').replace(r'\\n', '').strip()\n",
    "    paper_id = paper['identifier']\n",
    "    \n",
    "    folder = f'tmp_{paper_id}'\n",
    "\n",
    "    try:\n",
    "        if not os.path.isdir(folder):\n",
    "            folder = retrieve_document_source(f\"{paper_id}\", f'tmp_{paper_id}')\n",
    "        \n",
    "        try:\n",
    "            doc = latex.LatexDocument(folder, validation=validation)    \n",
    "        except AffiliationError as affilerror:\n",
    "            msg = f\"ArXiv:{paper_id:s} is not an MPIA paper... \" + str(affilerror)\n",
    "            failed.append((paper, \"affiliation error: \" + str(affilerror) ))\n",
    "            continue\n",
    "        \n",
    "        # Hack because sometimes author parsing does not work well\n",
    "        if (len(doc.authors) != len(paper['authors'])):\n",
    "            doc._authors = paper['authors']\n",
    "        else:\n",
    "            # highlight authors (FIXME: doc.highlight_authors)\n",
    "            # done on arxiv paper already\n",
    "            doc._authors = highlight_authors_in_list(\n",
    "                [get_initials(k) for k in doc.authors], \n",
    "                mpia_authors, verbose=True)\n",
    "        if (doc.abstract) in (None, ''):\n",
    "            doc._abstract = paper['abstract']\n",
    "            \n",
    "        doc.comment = (get_markdown_badge(paper_id) + \n",
    "                       \"<mark>Appeared on: \" + paper['date'] + \"</mark> - \")\n",
    "        if paper['comments']:\n",
    "            doc.comment += \" _\" + paper['comments'] + \"_\"\n",
    "        \n",
    "        full_md = doc.generate_markdown_text()\n",
    "        \n",
    "        full_md += get_markdown_qrcode(paper_id)\n",
    "        \n",
    "        # replace citations\n",
    "        try:\n",
    "            bibdata = latex_bib.LatexBib.from_doc(doc)\n",
    "            full_md = latex_bib.replace_citations(full_md, bibdata)\n",
    "        except Exception as e:\n",
    "            print(\"Issues with the citations\")\n",
    "            print(e)\n",
    "        \n",
    "        documents.append((paper_id, full_md))\n",
    "    except Exception as e:\n",
    "        warnings.warn(latex.LatexWarning(f\"{paper_id:s} did not run properly\\n\" +\n",
    "                                         str(e)\n",
    "                                        ))\n",
    "        failed.append((paper, \"latex error \" + str(e)))"
   ]
  },
  {
   "cell_type": "markdown",
   "id": "2505a25c",
   "metadata": {
    "papermill": {
     "duration": 0.003726,
     "end_time": "2025-04-01T04:18:50.674169",
     "exception": false,
     "start_time": "2025-04-01T04:18:50.670443",
     "status": "completed"
    },
    "tags": []
   },
   "source": [
    "### Export the logs\n",
    "\n",
    "Throughout, we also keep track of the logs per paper. see `logs-{today date}.md` "
   ]
  },
  {
   "cell_type": "code",
   "execution_count": 6,
   "id": "d733828a",
   "metadata": {
    "execution": {
     "iopub.execute_input": "2025-04-01T04:18:50.682841Z",
     "iopub.status.busy": "2025-04-01T04:18:50.682566Z",
     "iopub.status.idle": "2025-04-01T04:18:50.697627Z",
     "shell.execute_reply": "2025-04-01T04:18:50.697035Z"
    },
    "papermill": {
     "duration": 0.02061,
     "end_time": "2025-04-01T04:18:50.698576",
     "exception": false,
     "start_time": "2025-04-01T04:18:50.677966",
     "status": "completed"
    },
    "scrolled": false,
    "tags": []
   },
   "outputs": [
    {
     "data": {
      "text/markdown": [
       "## Successful papers"
      ],
      "text/plain": [
       "<IPython.core.display.Markdown object>"
      ]
     },
     "metadata": {},
     "output_type": "display_data"
    },
    {
     "data": {
      "text/markdown": [
       "\n",
       "|||\n",
       "|---:|:---|\n",
       "| [![arXiv](https://img.shields.io/badge/arXiv-2503.24280-b31b1b.svg)](https://arxiv.org/abs/2503.24280) | **BOWIE-ALIGN: Sub-stellar metallicity and carbon depletion in the aligned TrES-4b with JWST NIRSpec transmission spectroscopy**  |\n",
       "|| A. Meech, et al. -- incl., <mark>E.-M. Ahrer</mark> |\n",
       "|*Appeared on*| *2025-04-01*|\n",
       "|*Comments*| *23 pages, 20 figures, 7 tables. Accepted to MNRAS on 26 March 2025*|\n",
       "|**Abstract**|            The formation and migration history of a planet is expected to be imprinted in its atmosphere, in particular its carbon-to-oxygen (C/O) ratio and metallicity. The BOWIE-ALIGN programme is performing a comparative study of JWST spectra of four aligned and four misaligned hot Jupiters, with the aim of characterising their atmospheres and corroborating the link between the observables and the formation history. In this work, we present the $2.8-5.2$ micron transmission spectrum of TrES-4b, a hot Jupiter with an orbit aligned with the rotation axis of its F-type host star. Using free chemistry atmospheric retrievals, we report a confident detection of H$_2$O at an abundance of $\\log X_\\mathrm{H_2O}=-2.98^{+0.68}_{-0.73}$ at a significance of $8.4\\sigma$. We also find evidence for CO and small amounts of CO$_2$, retrieving abundances $\\log X_\\mathrm{CO}= -3.76^{+0.89}_{-1.01}$ and $\\log X_\\mathrm{CO_2}= -6.86^{+0.62}_{-0.65}$ ($3.1\\sigma$ and $4.0\\sigma$ respectively). The observations are consistent with the the atmosphere being in chemical equilibrium; our retrievals yield $\\mathrm{C/O}$ between $0.30-0.42$ and constrain the atmospheric metallicity to the range $0.4-0.7\\times$ solar. The inferred sub-stellar properties (C/O and metallicity) challenge traditional models, and could have arisen from an oxygen-rich gas accretion scenario, or a combination of low-metallicity gas and carbon-poor solid accretion.         |"
      ],
      "text/plain": [
       "[2503.24280] BOWIE-ALIGN: Sub-stellar metallicity and carbon depletion in the aligned TrES-4b with JWST NIRSpec transmission spectroscopy\n",
       "\tA. Meech, et al. -- incl., <mark>E.-M. Ahrer</mark>"
      ]
     },
     "metadata": {},
     "output_type": "display_data"
    },
    {
     "data": {
      "text/markdown": [
       "## Failed papers"
      ],
      "text/plain": [
       "<IPython.core.display.Markdown object>"
      ]
     },
     "metadata": {},
     "output_type": "display_data"
    },
    {
     "data": {
      "text/markdown": [
       "\n",
       "|||\n",
       "|---:|:---|\n",
       "| [![arXiv](https://img.shields.io/badge/arXiv-2503.23319-b31b1b.svg)](https://arxiv.org/abs/2503.23319) | **Class I/II Jets with JWST: Mass loss rates, Asymmetries, and Binary induced Wigglings**  |\n",
       "|| N. S. Bajaj, et al. -- incl., <mark>K. Schwarz</mark>, <mark>D. Semenov</mark> |\n",
       "|*Appeared on*| *2025-04-01*|\n",
       "|*Comments*| *Accepted for publication in the Astronomical Journal. 15 figures and 3 tables*|\n",
       "|**Abstract**|            We present JWST NIRSpec spectro-imaging observations of jets from four edge-on protoplanetary disks that exhibit clear signatures of MHD disk winds. Bipolar jets are detected and spatially resolved in over 30 shock-excited forbidden lines, multiple Paschen and Brackett series lines of atomic hydrogen, and the high-energy excitation line of atomic helium (1.083 um). This helium line is the brightest jet-tracer towards HH 30 and FS TauB, which also exhibit asymmetric intensity between their red- and blue-shifted lobes in all tracers, including the [Fe II] and [He I] lines. Extinction maps reveal no significant differences across the lobes, suggesting an asymmetric jet-launching mechanism rather than environmental effects. Diagnostic line ratios yield consistent shock speeds of 50-60 km/s, jet ionization fractions of 0.1-0.2, and pre-shock electron densities of 1000 /cm^3. Combined with pixel-by-pixel electron density maps and [Fe II] line luminosities, we estimate jet mass-loss rates using three independent methods, averaging around a few 10^(-9) solar masses/yr. We estimate the accretion rates for these sources as 10 times the jet mass loss rates and find them to match well with the independently derived accretion estimates of other Class II sources in the Taurus star-forming region. Owing to JWST's high precision, we also investigate jet wiggling and find Tau 042021 to showcase the perfect case of mirror-symmetric wiggling, which can only be explained by the motion of the jet source around a stellar companion. Modeling this wiggling suggests Tau 042021 to host 0.33 and 0.07 solar masses binary at the center with binary separation of 1.35 au and an orbital period of 2.5 years.         |\n",
       "|<p style=\"color:green\"> **ERROR** </p>| <p style=\"color:green\">affiliation error: mpia.affiliation_verifications: '69117' keyword not found.</p> |"
      ],
      "text/plain": [
       "<IPython.core.display.Markdown object>"
      ]
     },
     "metadata": {},
     "output_type": "display_data"
    },
    {
     "data": {
      "text/markdown": [
       "\n",
       "|||\n",
       "|---:|:---|\n",
       "| [![arXiv](https://img.shields.io/badge/arXiv-2503.23700-b31b1b.svg)](https://arxiv.org/abs/2503.23700) | **Dual-band Unified Exploration of Three CMZ Clouds (DUET). Cloud-wide census of continuum sources showing low spectral indices**  |\n",
       "|| F. Xu, et al. -- incl., <mark>S. Jiao</mark> |\n",
       "|*Appeared on*| *2025-04-01*|\n",
       "|*Comments*| *16 pages, 10 figures. Accepted for publication in A&A. For interactive data visualization, see this https URL. The continuum images will be available once the paper is published*|\n",
       "|**Abstract**|            The Milky Way's Central Molecular Zone (CMZ) is measured to form stars 10 times less efficiently than in the Galactic disk, based on emission from high-mass stars. However, the CMZ's low-mass protostellar population, which accounts for most of the initial stellar mass budget and star formation rate (SFR), is poorly constrained observationally due to limited sensitivity and resolution. We present the Dual-band Unified Exploration of Three CMZ Clouds (DUET) survey, targeting the 20 km/s Cloud, Sgr C, and Dust Ridge cloud e using the Atacama Large Millimeter/submillimeter Array (ALMA) at 1.3 and 3 mm. The mosaicked observations achieve a comparable resolution of 0.2-0.3\" (~1600-2500 au) and a sky coverage of 8.3-10.4 square arcmin, respectively. We report 563 continuum sources at 1.3 mm and 330 at 3 mm, respectively, and a dual-band catalog with 450 continuum sources. These sources are marginally resolved at the 2,000 au resolution. We find a cloud-wide deviation (>70%) from commonly-used dust modified blackbody (MBB) models, characterized by either low spectral indices or low brightness temperatures. Three possible explanations for the deviation are discussed. (1) Optically thick Class 0/I Young stellar objects (YSOs) with very small beam filling factors can lead to lower brightness temperatures than what MBB models predict. (2) Large (mm/cm-sized) dust grains have more significant self-scattering, and therefore frequency-dependent albedo could cause lower spectral indices. (3) Free-free emission over 30 uJy can severely contaminate dust emission and cause low spectral indices for mJy sources in our sample, although the needed number of massive protostars (embedded UCHII regions) is infeasibly high for the normal stellar initial mass function. A reliable measurement of the SFR at low protostellar masses will require future work to distinguish between these possible explanations.         |\n",
       "|<p style=\"color:green\"> **ERROR** </p>| <p style=\"color:green\">affiliation error: mpia.affiliation_verifications: 'Heidelberg' keyword not found.</p> |"
      ],
      "text/plain": [
       "<IPython.core.display.Markdown object>"
      ]
     },
     "metadata": {},
     "output_type": "display_data"
    },
    {
     "data": {
      "text/markdown": [
       "\n",
       "|||\n",
       "|---:|:---|\n",
       "| [![arXiv](https://img.shields.io/badge/arXiv-2503.23797-b31b1b.svg)](https://arxiv.org/abs/2503.23797) | **Kiloparsec-Scale Alignment of a Radio Jet with Cool Gas and Dust in a z~6 Quasar**  |\n",
       "|| <mark>F. Walter</mark>, et al. -- incl., <mark>Y. Khusanova</mark>, <mark>H.-W. Rix</mark> |\n",
       "|*Appeared on*| *2025-04-01*|\n",
       "|*Comments*| *Accepted for publication in the ApJ Letters*|\n",
       "|**Abstract**|            We present high-angular resolution (0.068\", ~400pc) ALMA imaging of the [CII] line and dust continuum emission of PSO J352.4034-15.3373, a radio-loud quasar at z=5.83. The observations reveal a remarkably close match between the orientation of the [CII] and thermal dust emission mapped by ALMA, and radio synchrotron emission of a radio jet previously mapped by the VLBA. This narrow alignment extends over ~4kpc, reminiscent of the well-studied 'alignment effect' in lower-redshift radio galaxies. The [CII] kinematics show a linear increase in velocity with galactocentric radii up to ~200 km/s at r=2kpc, consistent with bulk motions within the galaxy potential, and not relativistic jet motions. The kinematics and respective morphologies are consistent with a picture in which the relativistic jet injects energy into the interstellar medium (potentially leading to subsequent star formation), giving rise to the observed alignment and significant (> 100 km/s) [CII] velocity dispersion within the host galaxy on kiloparsec scales. Indeed, the astonishingly close alignment and narrow linearity of the radio jet with the [CII] and dust emission are hard to conceive without some fundamental relationship between the two.         |\n",
       "|<p style=\"color:red\"> **ERROR** </p>| <p style=\"color:red\">latex error string index out of range</p> |"
      ],
      "text/plain": [
       "<IPython.core.display.Markdown object>"
      ]
     },
     "metadata": {},
     "output_type": "display_data"
    }
   ],
   "source": [
    "import datetime\n",
    "today = str(datetime.date.today())\n",
    "logfile = f\"_build/html/logs/log-{today}.md\"\n",
    "\n",
    "\n",
    "with open(logfile, 'w') as logs:\n",
    "    # Success\n",
    "    logs.write(f'# Arxiv on Deck 2: Logs - {today}\\n\\n')\n",
    "    logs.write(\"\"\"* Arxiv had {0:,d} new papers\\n\"\"\".format(len(new_papers)))\n",
    "    logs.write(\"\"\"    * {0:,d} with possible author matches\\n\\n\"\"\".format(len(candidates)))\n",
    "    logs.write(\"## Sucessful papers\\n\\n\")\n",
    "    display(Markdown(\"## Successful papers\"))\n",
    "    success = [k[0] for k in documents]\n",
    "    for candid in candidates:\n",
    "        if candid['identifier'].split(':')[-1] in success:\n",
    "            display(candid)\n",
    "            logs.write(candid.generate_markdown_text() + '\\n\\n')\n",
    "\n",
    "    ## failed\n",
    "    logs.write(\"## Failed papers\\n\\n\")\n",
    "    display(Markdown(\"## Failed papers\"))\n",
    "    failed = sorted(failed, key=lambda x: x[1])\n",
    "    current_reason = \"\"\n",
    "    for paper, reason in failed:\n",
    "        if 'affiliation' in reason:\n",
    "            color = 'green'\n",
    "        else:\n",
    "            color = 'red'\n",
    "        data = Markdown(\n",
    "                paper.generate_markdown_text() + \n",
    "                f'\\n|<p style=\"color:{color:s}\"> **ERROR** </p>| <p style=\"color:{color:s}\">{reason:s}</p> |'\n",
    "               )\n",
    "        if reason != current_reason:\n",
    "            logs.write(f'### {reason:s} \\n\\n')\n",
    "            current_reason = reason\n",
    "        logs.write(data.data + '\\n\\n')\n",
    "        \n",
    "        # only display here the important errors (all in logs)\n",
    "        # if color in ('red',):\n",
    "        display(data)"
   ]
  },
  {
   "cell_type": "markdown",
   "id": "472d20ee",
   "metadata": {
    "papermill": {
     "duration": 0.004229,
     "end_time": "2025-04-01T04:18:50.707257",
     "exception": false,
     "start_time": "2025-04-01T04:18:50.703028",
     "status": "completed"
    },
    "tags": []
   },
   "source": [
    "## Export documents\n",
    "\n",
    "We now write the .md files and export relevant images"
   ]
  },
  {
   "cell_type": "code",
   "execution_count": 7,
   "id": "d426aed9",
   "metadata": {
    "execution": {
     "iopub.execute_input": "2025-04-01T04:18:50.716935Z",
     "iopub.status.busy": "2025-04-01T04:18:50.716699Z",
     "iopub.status.idle": "2025-04-01T04:18:50.723746Z",
     "shell.execute_reply": "2025-04-01T04:18:50.723192Z"
    },
    "papermill": {
     "duration": 0.0131,
     "end_time": "2025-04-01T04:18:50.724676",
     "exception": false,
     "start_time": "2025-04-01T04:18:50.711576",
     "status": "completed"
    },
    "tags": []
   },
   "outputs": [],
   "source": [
    "def export_markdown_summary(md: str, md_fname:str, directory: str):\n",
    "    \"\"\"Export MD document and associated relevant images\"\"\"\n",
    "    import os\n",
    "    import shutil\n",
    "    import re\n",
    "\n",
    "    if (os.path.exists(directory) and not os.path.isdir(directory)):\n",
    "        raise RuntimeError(f\"a non-directory file exists with name {directory:s}\")\n",
    "\n",
    "    if (not os.path.exists(directory)):\n",
    "        print(f\"creating directory {directory:s}\")\n",
    "        os.mkdir(directory)\n",
    "\n",
    "    fig_fnames = (re.compile(r'\\[Fig.*\\]\\((.*)\\)').findall(md) + \n",
    "                  re.compile(r'\\<img src=\"([^>\\s]*)\"[^>]*/>').findall(md))\n",
    "    print(\"found figures\", fig_fnames)\n",
    "    for fname in fig_fnames:\n",
    "        if 'http' in fname:\n",
    "            # No need to copy online figures\n",
    "            continue\n",
    "        if not os.path.exists(fname):\n",
    "            print(\"file not found\", fname)\n",
    "            continue\n",
    "        print(\"copying \", fname, \"to\", directory)\n",
    "        destdir = os.path.join(directory, os.path.dirname(fname))\n",
    "        destfname = os.path.join(destdir, os.path.basename(fname))\n",
    "        try:\n",
    "            os.makedirs(destdir)\n",
    "        except FileExistsError:\n",
    "            pass\n",
    "        shutil.copy(fname, destfname)\n",
    "    with open(os.path.join(directory, md_fname), 'w') as fout:\n",
    "        fout.write(md)\n",
    "    print(\"exported in \", os.path.join(directory, md_fname))\n",
    "    [print(\"    + \" + os.path.join(directory,fk)) for fk in fig_fnames]"
   ]
  },
  {
   "cell_type": "code",
   "execution_count": 8,
   "id": "014d04a4",
   "metadata": {
    "execution": {
     "iopub.execute_input": "2025-04-01T04:18:50.734318Z",
     "iopub.status.busy": "2025-04-01T04:18:50.733927Z",
     "iopub.status.idle": "2025-04-01T04:18:50.740248Z",
     "shell.execute_reply": "2025-04-01T04:18:50.739594Z"
    },
    "papermill": {
     "duration": 0.012284,
     "end_time": "2025-04-01T04:18:50.741368",
     "exception": false,
     "start_time": "2025-04-01T04:18:50.729084",
     "status": "completed"
    },
    "tags": []
   },
   "outputs": [
    {
     "name": "stdout",
     "output_type": "stream",
     "text": [
      "found figures ['tmp_2503.24280/./transmission_spectra_red.png', 'tmp_2503.24280/./transmission_spectra_diffres_red.png', 'tmp_2503.24280/./tres-4b_retrieved_PT_madhu.png']\n",
      "copying  tmp_2503.24280/./transmission_spectra_red.png to _build/html/\n",
      "copying  tmp_2503.24280/./transmission_spectra_diffres_red.png to _build/html/\n",
      "copying  tmp_2503.24280/./tres-4b_retrieved_PT_madhu.png to _build/html/\n",
      "exported in  _build/html/2503.24280.md\n",
      "    + _build/html/tmp_2503.24280/./transmission_spectra_red.png\n",
      "    + _build/html/tmp_2503.24280/./transmission_spectra_diffres_red.png\n",
      "    + _build/html/tmp_2503.24280/./tres-4b_retrieved_PT_madhu.png\n"
     ]
    }
   ],
   "source": [
    "for paper_id, md in documents:\n",
    "    export_markdown_summary(md, f\"{paper_id:s}.md\", '_build/html/')"
   ]
  },
  {
   "cell_type": "markdown",
   "id": "f087a0a7",
   "metadata": {
    "papermill": {
     "duration": 0.004421,
     "end_time": "2025-04-01T04:18:50.750227",
     "exception": false,
     "start_time": "2025-04-01T04:18:50.745806",
     "status": "completed"
    },
    "tags": []
   },
   "source": [
    "## Display the papers\n",
    "\n",
    "Not necessary but allows for a quick check."
   ]
  },
  {
   "cell_type": "code",
   "execution_count": 9,
   "id": "fd25f625",
   "metadata": {
    "execution": {
     "iopub.execute_input": "2025-04-01T04:18:50.759988Z",
     "iopub.status.busy": "2025-04-01T04:18:50.759529Z",
     "iopub.status.idle": "2025-04-01T04:18:50.764344Z",
     "shell.execute_reply": "2025-04-01T04:18:50.763691Z"
    },
    "papermill": {
     "duration": 0.010795,
     "end_time": "2025-04-01T04:18:50.765370",
     "exception": false,
     "start_time": "2025-04-01T04:18:50.754575",
     "status": "completed"
    },
    "scrolled": false,
    "tags": []
   },
   "outputs": [
    {
     "data": {
      "text/markdown": [
       "<div class=\"macros\" style=\"visibility:hidden;\">\n",
       "$\\newcommand{\\ensuremath}{}$\n",
       "$\\newcommand{\\xspace}{}$\n",
       "$\\newcommand{\\object}[1]{\\texttt{#1}}$\n",
       "$\\newcommand{\\farcs}{{.}''}$\n",
       "$\\newcommand{\\farcm}{{.}'}$\n",
       "$\\newcommand{\\arcsec}{''}$\n",
       "$\\newcommand{\\arcmin}{'}$\n",
       "$\\newcommand{\\ion}[2]{#1#2}$\n",
       "$\\newcommand{\\textsc}[1]{\\textrm{#1}}$\n",
       "$\\newcommand{\\hl}[1]{\\textrm{#1}}$\n",
       "$\\newcommand{\\footnote}[1]{}$\n",
       "$\\newcommand{\\red}[1]{\\textcolor{red}{#1}}$\n",
       "$\\newcommand{\\mystar}{TrES-4\\xspace}$\n",
       "$\\newcommand{\\planet}{TrES-4 b\\xspace}$\n",
       "$\\newcommand{\\tiberius}[1]{\\texttt{Tiberius}\\xspace}$\n",
       "$\\newcommand{\\eureka}[1]{\\texttt{Eureka!}\\xspace}$\n",
       "$\\newcommand{\\poseidon}[1]{\\texttt{POSEIDON}\\xspace}$\n",
       "$\\newcommand{\\prt}{\\texttt{petitRADTRANS}\\xspace}$\n",
       "$\\newcommand{\\redfootnote}[1]{\\textcolor{red}{\\footnote{\\textcolor{red}{#1}}}}$\n",
       "$\\newcommand{\\vdag}{\\dagger}$\n",
       "$\\newcommand{\\arraystretch}{1.2}$\n",
       "$\\newcommand{\\arraystretch}{1.4}$\n",
       "$\\newcommand{\\arraystretch}{1.2}$\n",
       "$\\newcommand{\\arraystretch}{1.2}$\n",
       "$\\newcommand{\\arraystretch}{1.3}$\n",
       "$\\newcommand{\\thebibliography}{\\DeclareRobustCommand{\\VAN}[3]{##3}\\VANthebibliography}$\n",
       "$\\newcommand\\mn{@urlcharsother}$\n",
       "$\\newcommand\\mn{@doi}$\n",
       "$\\newcommand\\mn{@doi@}$\n",
       "$\\newcommand\\mn{@eprint#1#2}$\n",
       "$\\newcommand\\mn{@eprint@arXiv#1}$\n",
       "$\\newcommand\\mn{@eprint@dblp#1}$\n",
       "$\\newcommand\\mn{@eprint@#1:#2:#3:#4}$\n",
       "$\\newcommand{\\@}{tempa}$\n",
       "$\\newcommand{\\@}{tempa }$\n",
       "$\\newcommand{\\@}{tempb }$\n",
       "$\\newcommand{\\@}{tempc }$\n",
       "$\\newcommand{\\@}{tempb }$</div>\n",
       "\n",
       "\n",
       "\n",
       "<div id=\"title\">\n",
       "\n",
       "# BOWIE-ALIGN: Sub-stellar metallicity and carbon depletion in the aligned TrES-4b with JWST NIRSpec transmission spectroscopy\n",
       "\n",
       "</div>\n",
       "<div id=\"comments\">\n",
       "\n",
       "[![arXiv](https://img.shields.io/badge/arXiv-2503.24280-b31b1b.svg)](https://arxiv.org/abs/2503.24280)<mark>Appeared on: 2025-04-01</mark> -  _23 pages, 20 figures, 7 tables. Accepted to MNRAS on 26 March 2025_\n",
       "\n",
       "</div>\n",
       "<div id=\"authors\">\n",
       "\n",
       "A. Meech, et al. -- incl., <mark>E.-M. Ahrer</mark>\n",
       "\n",
       "</div>\n",
       "<div id=\"abstract\">\n",
       "\n",
       "**Abstract:** The formation and migration history of a planet is expected to be imprinted in its atmosphere, in particular its carbon-to-oxygen (C/O) ratio and metallicity.The BOWIE-ALIGN programme is performing a comparative study of JWST spectra of four aligned and four misaligned hot Jupiters, with the aim of characterising their atmospheres and corroborating the link between the observables and the formation history.In this work, we present the $2.8-5.2$ micron transmission spectrum of $\\planet$ , a hot Jupiter with an orbit aligned with the rotation axis of its F-type host star.Using free chemistry atmospheric retrievals, we report a confident detection of $H_2$ O at an abundance of $\\log X_\\mathrm{H_2O}=-2.98^{+0.68}_{-0.73}$ at a significance of $8.4\\sigma$ .We also find evidence for CO and small amounts of $CO_2$ , retrieving abundances $\\log X_\\mathrm{CO}= -3.76^{+0.89}_{-1.01}$ and $\\log X_\\mathrm{CO_2}= -6.86^{+0.62}_{-0.65}$ ( $3.1\\sigma$ and $4.0\\sigma$ respectively).The observations are consistent with the the atmosphere being in chemical equilibrium; our retrievals yield $\\mathrm{C/O}$ between $0.30-0.42$ and constrain the atmospheric metallicity to the range $0.4-0.7\\times$ solar.The inferred sub-stellar properties (C/O and metallicity) challenge traditional models, and could have arisen from an oxygen-rich gas accretion scenario, or a combination of low-metallicity gas and carbon-poor solid accretion.\n",
       "\n",
       "</div>\n",
       "\n",
       "<div id=\"div_fig1\">\n",
       "\n",
       "<img src=\"tmp_2503.24280/./transmission_spectra_red.png\" alt=\"Fig2\" width=\"100%\"/>\n",
       "\n",
       "**Figure 2. -** **Top panel:** The $R\\simeq100$ transmission spectrum of $\\planet$ from the \\texttt{Tiberius} and \\texttt{Eureka!} reductions in pink and blue respectively. **Middle panel:** The precision of each spectrum and **bottom panel:** the difference between the two reductions. The $1/2\\sigma$ intervals are shaded for reference. (*fig:transmission-spec*)\n",
       "\n",
       "</div>\n",
       "<div id=\"div_fig2\">\n",
       "\n",
       "<img src=\"tmp_2503.24280/./transmission_spectra_diffres_red.png\" alt=\"Fig9\" width=\"100%\"/>\n",
       "\n",
       "**Figure 9. -** The $R\\simeq100$ and $R\\simeq400$ transmission spectra from the three independent reductions using **(top panel):**$\\tiberius$**(middle):**$\\eureka$  and **(bottom):**$\\tiberius$ second reduction as detailed in Appendix \\ref{SECTION-7:appendix-tiberiusJK}. (*fig-app:R400*)\n",
       "\n",
       "</div>\n",
       "<div id=\"div_fig3\">\n",
       "\n",
       "<img src=\"tmp_2503.24280/./tres-4b_retrieved_PT_madhu.png\" alt=\"Fig10\" width=\"100%\"/>\n",
       "\n",
       "**Figure 10. -** The median retrieved PT profile (mean and $1/2\\sigma$ regions in grey) of the chemical equilibrium reference retrieval on the $\\tiberius$$R\\simeq100$ transmission spectrum, having implemented the more complex PT profile of \\citet{Madhusudhan2009}.\n",
       "    Overplotted in pink is the median retrieved gradient PT profile on the same spectrum (preferred), and in purple is the photometric contribution function across the full NIRSpec G395H bandpass. (*fig-app:madhu-PT*)\n",
       "\n",
       "</div><div id=\"qrcode\"><img src=https://api.qrserver.com/v1/create-qr-code/?size=100x100&data=\"https://arxiv.org/abs/2503.24280\"></div>"
      ],
      "text/plain": [
       "<IPython.core.display.Markdown object>"
      ]
     },
     "metadata": {},
     "output_type": "display_data"
    }
   ],
   "source": [
    "[display(Markdown(k[1])) for k in documents];"
   ]
  },
  {
   "cell_type": "markdown",
   "id": "873873a4",
   "metadata": {
    "papermill": {
     "duration": 0.0048,
     "end_time": "2025-04-01T04:18:50.774772",
     "exception": false,
     "start_time": "2025-04-01T04:18:50.769972",
     "status": "completed"
    },
    "tags": []
   },
   "source": [
    "# Create HTML index"
   ]
  },
  {
   "cell_type": "code",
   "execution_count": 10,
   "id": "cf665672",
   "metadata": {
    "execution": {
     "iopub.execute_input": "2025-04-01T04:18:50.785245Z",
     "iopub.status.busy": "2025-04-01T04:18:50.784798Z",
     "iopub.status.idle": "2025-04-01T04:18:50.794793Z",
     "shell.execute_reply": "2025-04-01T04:18:50.794231Z"
    },
    "papermill": {
     "duration": 0.016345,
     "end_time": "2025-04-01T04:18:50.795802",
     "exception": false,
     "start_time": "2025-04-01T04:18:50.779457",
     "status": "completed"
    },
    "tags": []
   },
   "outputs": [
    {
     "name": "stdout",
     "output_type": "stream",
     "text": [
      "418  publications files modified in the last 7 days.\n"
     ]
    }
   ],
   "source": [
    "from datetime import datetime, timedelta, timezone\n",
    "from glob import glob\n",
    "import os\n",
    "\n",
    "files = glob('_build/html/*.md')\n",
    "days = 7\n",
    "now = datetime.today()\n",
    "res = []\n",
    "for fk in files:\n",
    "    stat_result = os.stat(fk).st_ctime\n",
    "    modified = datetime.fromtimestamp(stat_result, tz=timezone.utc).replace(tzinfo=None)\n",
    "    delta = now.today() - modified\n",
    "    if delta <= timedelta(days=days):\n",
    "        res.append((delta.seconds, fk))\n",
    "res = [k[1] for k in reversed(sorted(res, key=lambda x:x[1]))]\n",
    "npub = len(res)\n",
    "print(len(res), f\" publications files modified in the last {days:d} days.\")\n",
    "# [ print('\\t', k) for k in res ];"
   ]
  },
  {
   "cell_type": "code",
   "execution_count": 11,
   "id": "015de740",
   "metadata": {
    "execution": {
     "iopub.execute_input": "2025-04-01T04:18:50.806187Z",
     "iopub.status.busy": "2025-04-01T04:18:50.805728Z",
     "iopub.status.idle": "2025-04-01T04:18:50.827812Z",
     "shell.execute_reply": "2025-04-01T04:18:50.827155Z"
    },
    "papermill": {
     "duration": 0.028334,
     "end_time": "2025-04-01T04:18:50.828803",
     "exception": false,
     "start_time": "2025-04-01T04:18:50.800469",
     "status": "completed"
    },
    "tags": []
   },
   "outputs": [
    {
     "name": "stdout",
     "output_type": "stream",
     "text": [
      "16  publications in the last 7 days.\n"
     ]
    }
   ],
   "source": [
    "import datetime\n",
    "from glob import glob\n",
    "\n",
    "def get_last_n_days(lst, days=1):\n",
    "    \"\"\" Get the documents from the last n days \"\"\"\n",
    "    sorted_lst = sorted(lst, key=lambda x: x[1], reverse=True)\n",
    "    for fname, date in sorted_lst:\n",
    "        if date >= str(datetime.date.today() - datetime.timedelta(days=days)):\n",
    "            yield fname\n",
    "\n",
    "def extract_appearance_dates(lst_file):\n",
    "    dates = []\n",
    "\n",
    "    def get_date(line):\n",
    "        return line\\\n",
    "            .split('Appeared on:')[-1]\\\n",
    "            .split('</mark>')[0].strip()\n",
    "\n",
    "    for fname in lst:\n",
    "        with open(fname, 'r') as f:\n",
    "            found_date = False\n",
    "            for line in f:\n",
    "                if not found_date:\n",
    "                    if \"Appeared on\" in line:\n",
    "                        found_date = True\n",
    "                        dates.append((fname, get_date(line)))\n",
    "                else:\n",
    "                    break\n",
    "    return dates\n",
    "\n",
    "from glob import glob\n",
    "lst = glob('_build/html/*md')\n",
    "days = 7\n",
    "dates = extract_appearance_dates(lst)\n",
    "res = list(get_last_n_days(dates, days))\n",
    "npub = len(res)\n",
    "print(len(res), f\" publications in the last {days:d} days.\")"
   ]
  },
  {
   "cell_type": "code",
   "execution_count": 12,
   "id": "52ca0208",
   "metadata": {
    "execution": {
     "iopub.execute_input": "2025-04-01T04:18:50.839442Z",
     "iopub.status.busy": "2025-04-01T04:18:50.838952Z",
     "iopub.status.idle": "2025-04-01T04:18:50.843899Z",
     "shell.execute_reply": "2025-04-01T04:18:50.843373Z"
    },
    "papermill": {
     "duration": 0.011215,
     "end_time": "2025-04-01T04:18:50.844869",
     "exception": false,
     "start_time": "2025-04-01T04:18:50.833654",
     "status": "completed"
    },
    "scrolled": false,
    "tags": []
   },
   "outputs": [],
   "source": [
    "def create_carousel(npub=4):\n",
    "    \"\"\" Generate the HTML code for a carousel with `npub` slides \"\"\"\n",
    "    carousel = [\"\"\"  <div class=\"carousel\" \"\"\",\n",
    "                \"\"\"       data-flickity='{ \"autoPlay\": 10000, \"adaptiveHeight\": true, \"resize\": true, \"wrapAround\": true, \"pauseAutoPlayOnHover\": true, \"groupCells\": 1 }' id=\"asyncTypeset\">\"\"\"\n",
    "                ]\n",
    "    \n",
    "    item_str = \"\"\"    <div class=\"carousel-cell\"> <div id=\"slide{k}\" class=\"md_view\">Content {k}</div> </div>\"\"\"\n",
    "    for k in range(1, npub + 1):\n",
    "        carousel.append(item_str.format(k=k))\n",
    "    carousel.append(\"  </div>\")\n",
    "    return '\\n'.join(carousel)\n",
    "\n",
    "def create_grid(npub=4):\n",
    "    \"\"\" Generate the HTML code for a flat grid with `npub` slides \"\"\"\n",
    "    grid = [\"\"\"  <div class=\"grid\"> \"\"\",\n",
    "                ]\n",
    "    \n",
    "    item_str = \"\"\"    <div class=\"grid-item\"> <div id=\"slide{k}\" class=\"md_view\">Content {k}</div> </div>\"\"\"\n",
    "    for k in range(1, npub + 1):\n",
    "        grid.append(item_str.format(k=k))\n",
    "    grid.append(\"  </div>\")\n",
    "    return '\\n'.join(grid)"
   ]
  },
  {
   "cell_type": "code",
   "execution_count": 13,
   "id": "a6eac5b6",
   "metadata": {
    "execution": {
     "iopub.execute_input": "2025-04-01T04:18:50.855480Z",
     "iopub.status.busy": "2025-04-01T04:18:50.855027Z",
     "iopub.status.idle": "2025-04-01T04:18:50.860249Z",
     "shell.execute_reply": "2025-04-01T04:18:50.859607Z"
    },
    "papermill": {
     "duration": 0.011707,
     "end_time": "2025-04-01T04:18:50.861360",
     "exception": false,
     "start_time": "2025-04-01T04:18:50.849653",
     "status": "completed"
    },
    "scrolled": false,
    "tags": []
   },
   "outputs": [],
   "source": [
    "carousel = create_carousel(npub)\n",
    "docs = ', '.join(['\"{0:s}\"'.format(k.split('/')[-1]) for k in res])\n",
    "slides = ', '.join([f'\"slide{k}\"' for k in range(1, npub + 1)])\n",
    "\n",
    "with open(\"daily_template.html\", \"r\") as tpl:\n",
    "    page = tpl.read()\n",
    "    page = page.replace(\"{%-- carousel:s --%}\", carousel)\\\n",
    "               .replace(\"{%-- suptitle:s --%}\",  \"7-day archives\" )\\\n",
    "               .replace(\"{%-- docs:s --%}\", docs)\\\n",
    "               .replace(\"{%-- slides:s --%}\", slides)\n",
    "    \n",
    "with open(\"_build/html/index_7days.html\", 'w') as fout:\n",
    "    fout.write(page)"
   ]
  },
  {
   "cell_type": "code",
   "execution_count": 14,
   "id": "adc1a1ec",
   "metadata": {
    "execution": {
     "iopub.execute_input": "2025-04-01T04:18:50.872031Z",
     "iopub.status.busy": "2025-04-01T04:18:50.871618Z",
     "iopub.status.idle": "2025-04-01T04:18:50.878582Z",
     "shell.execute_reply": "2025-04-01T04:18:50.877926Z"
    },
    "papermill": {
     "duration": 0.013476,
     "end_time": "2025-04-01T04:18:50.879676",
     "exception": false,
     "start_time": "2025-04-01T04:18:50.866200",
     "status": "completed"
    },
    "tags": []
   },
   "outputs": [
    {
     "name": "stdout",
     "output_type": "stream",
     "text": [
      "6  publications in the last day.\n"
     ]
    }
   ],
   "source": [
    "# redo for today\n",
    "days = 1\n",
    "res = list(get_last_n_days(dates, days))\n",
    "npub = len(res)\n",
    "print(len(res), f\" publications in the last day.\")\n",
    "\n",
    "carousel = create_carousel(npub)\n",
    "docs = ', '.join(['\"{0:s}\"'.format(k.split('/')[-1]) for k in res])\n",
    "slides = ', '.join([f'\"slide{k}\"' for k in range(1, npub + 1)])\n",
    "\n",
    "with open(\"daily_template.html\", \"r\") as tpl:\n",
    "    page = tpl.read()\n",
    "    page = page.replace(\"{%-- carousel:s --%}\", carousel)\\\n",
    "               .replace(\"{%-- suptitle:s --%}\",  \"Daily\" )\\\n",
    "               .replace(\"{%-- docs:s --%}\", docs)\\\n",
    "               .replace(\"{%-- slides:s --%}\", slides)\n",
    "    \n",
    "# print(carousel, docs, slides)\n",
    "# print(page)\n",
    "with open(\"_build/html/index_daily.html\", 'w') as fout:\n",
    "    fout.write(page)"
   ]
  },
  {
   "cell_type": "code",
   "execution_count": 15,
   "id": "00eece82",
   "metadata": {
    "execution": {
     "iopub.execute_input": "2025-04-01T04:18:50.890603Z",
     "iopub.status.busy": "2025-04-01T04:18:50.890181Z",
     "iopub.status.idle": "2025-04-01T04:18:50.896513Z",
     "shell.execute_reply": "2025-04-01T04:18:50.895964Z"
    },
    "papermill": {
     "duration": 0.012878,
     "end_time": "2025-04-01T04:18:50.897554",
     "exception": false,
     "start_time": "2025-04-01T04:18:50.884676",
     "status": "completed"
    },
    "scrolled": false,
    "tags": []
   },
   "outputs": [
    {
     "name": "stdout",
     "output_type": "stream",
     "text": [
      "6  6 publications selected.\n"
     ]
    }
   ],
   "source": [
    "# Create the flat grid of the last N papers (fixed number regardless of dates)\n",
    "from itertools import islice \n",
    "\n",
    "npub = 6\n",
    "res = [k[0] for k in (islice(reversed(sorted(dates, key=lambda x: x[1])), 6))]\n",
    "print(len(res), f\" {npub} publications selected.\")\n",
    "\n",
    "grid = create_grid(npub)\n",
    "docs = ', '.join(['\"{0:s}\"'.format(k.split('/')[-1]) for k in res])\n",
    "slides = ', '.join([f'\"slide{k}\"' for k in range(1, npub + 1)])\n",
    "\n",
    "with open(\"grid_template.html\", \"r\") as tpl:\n",
    "    page = tpl.read()\n",
    "    page = page.replace(\"{%-- grid-content:s --%}\", grid)\\\n",
    "               .replace(\"{%-- suptitle:s --%}\",  f\"Last {npub:,d} papers\" )\\\n",
    "               .replace(\"{%-- docs:s --%}\", docs)\\\n",
    "               .replace(\"{%-- slides:s --%}\", slides)\n",
    "    \n",
    "# print(grid, docs, slides)\n",
    "# print(page)\n",
    "with open(\"_build/html/index_npub_grid.html\", 'w') as fout:\n",
    "    fout.write(page)"
   ]
  }
 ],
 "metadata": {
  "kernelspec": {
   "display_name": "Python 3 (ipykernel)",
   "language": "python",
   "name": "python3"
  },
  "language_info": {
   "codemirror_mode": {
    "name": "ipython",
    "version": 3
   },
   "file_extension": ".py",
   "mimetype": "text/x-python",
   "name": "python",
   "nbconvert_exporter": "python",
   "pygments_lexer": "ipython3",
   "version": "3.9.21"
  },
  "papermill": {
   "default_parameters": {},
   "duration": 344.119344,
   "end_time": "2025-04-01T04:18:51.217801",
   "environment_variables": {},
   "exception": null,
   "input_path": "MPIA daily digest.ipynb",
   "output_path": "log.ipynb",
   "parameters": {},
   "start_time": "2025-04-01T04:13:07.098457",
   "version": "2.6.0"
  },
  "vscode": {
   "interpreter": {
    "hash": "aee8b7b246df8f9039afb4144a1f6fd8d2ca17a180786b69acc140d282b71a49"
   }
  },
  "widgets": {
   "application/vnd.jupyter.widget-state+json": {
    "state": {
     "0f7f7b8785764178b74a9850c0ed945b": {
      "model_module": "@jupyter-widgets/base",
      "model_module_version": "2.0.0",
      "model_name": "LayoutModel",
      "state": {
       "_model_module": "@jupyter-widgets/base",
       "_model_module_version": "2.0.0",
       "_model_name": "LayoutModel",
       "_view_count": null,
       "_view_module": "@jupyter-widgets/base",
       "_view_module_version": "2.0.0",
       "_view_name": "LayoutView",
       "align_content": null,
       "align_items": null,
       "align_self": null,
       "border_bottom": null,
       "border_left": null,
       "border_right": null,
       "border_top": null,
       "bottom": null,
       "display": null,
       "flex": null,
       "flex_flow": null,
       "grid_area": null,
       "grid_auto_columns": null,
       "grid_auto_flow": null,
       "grid_auto_rows": null,
       "grid_column": null,
       "grid_gap": null,
       "grid_row": null,
       "grid_template_areas": null,
       "grid_template_columns": null,
       "grid_template_rows": null,
       "height": null,
       "justify_content": null,
       "justify_items": null,
       "left": null,
       "margin": null,
       "max_height": null,
       "max_width": null,
       "min_height": null,
       "min_width": null,
       "object_fit": null,
       "object_position": null,
       "order": null,
       "overflow": null,
       "padding": null,
       "right": null,
       "top": null,
       "visibility": null,
       "width": null
      }
     },
     "28ac87abedb840fd8a990e4a37afd3b2": {
      "model_module": "@jupyter-widgets/controls",
      "model_module_version": "2.0.0",
      "model_name": "ProgressStyleModel",
      "state": {
       "_model_module": "@jupyter-widgets/controls",
       "_model_module_version": "2.0.0",
       "_model_name": "ProgressStyleModel",
       "_view_count": null,
       "_view_module": "@jupyter-widgets/base",
       "_view_module_version": "2.0.0",
       "_view_name": "StyleView",
       "bar_color": null,
       "description_width": ""
      }
     },
     "4e122bc1c1ce4237ae91ef2584b29820": {
      "model_module": "@jupyter-widgets/base",
      "model_module_version": "2.0.0",
      "model_name": "LayoutModel",
      "state": {
       "_model_module": "@jupyter-widgets/base",
       "_model_module_version": "2.0.0",
       "_model_name": "LayoutModel",
       "_view_count": null,
       "_view_module": "@jupyter-widgets/base",
       "_view_module_version": "2.0.0",
       "_view_name": "LayoutView",
       "align_content": null,
       "align_items": null,
       "align_self": null,
       "border_bottom": null,
       "border_left": null,
       "border_right": null,
       "border_top": null,
       "bottom": null,
       "display": null,
       "flex": null,
       "flex_flow": null,
       "grid_area": null,
       "grid_auto_columns": null,
       "grid_auto_flow": null,
       "grid_auto_rows": null,
       "grid_column": null,
       "grid_gap": null,
       "grid_row": null,
       "grid_template_areas": null,
       "grid_template_columns": null,
       "grid_template_rows": null,
       "height": null,
       "justify_content": null,
       "justify_items": null,
       "left": null,
       "margin": null,
       "max_height": null,
       "max_width": null,
       "min_height": null,
       "min_width": null,
       "object_fit": null,
       "object_position": null,
       "order": null,
       "overflow": null,
       "padding": null,
       "right": null,
       "top": null,
       "visibility": null,
       "width": null
      }
     },
     "6dd673ba8a6a4abeb178a323c0067957": {
      "model_module": "@jupyter-widgets/controls",
      "model_module_version": "2.0.0",
      "model_name": "HTMLModel",
      "state": {
       "_dom_classes": [],
       "_model_module": "@jupyter-widgets/controls",
       "_model_module_version": "2.0.0",
       "_model_name": "HTMLModel",
       "_view_count": null,
       "_view_module": "@jupyter-widgets/controls",
       "_view_module_version": "2.0.0",
       "_view_name": "HTMLView",
       "description": "",
       "description_allow_html": false,
       "layout": "IPY_MODEL_9c60a60b8df24163972287f02a231937",
       "placeholder": "​",
       "style": "IPY_MODEL_f9cd716aa3ff471a98b33f30fc02ff09",
       "tabbable": null,
       "tooltip": null,
       "value": " 4/4 [05:17&lt;00:00, 106.01s/it]"
      }
     },
     "8bb42a23170b496298af390175501ddc": {
      "model_module": "@jupyter-widgets/base",
      "model_module_version": "2.0.0",
      "model_name": "LayoutModel",
      "state": {
       "_model_module": "@jupyter-widgets/base",
       "_model_module_version": "2.0.0",
       "_model_name": "LayoutModel",
       "_view_count": null,
       "_view_module": "@jupyter-widgets/base",
       "_view_module_version": "2.0.0",
       "_view_name": "LayoutView",
       "align_content": null,
       "align_items": null,
       "align_self": null,
       "border_bottom": null,
       "border_left": null,
       "border_right": null,
       "border_top": null,
       "bottom": null,
       "display": null,
       "flex": null,
       "flex_flow": null,
       "grid_area": null,
       "grid_auto_columns": null,
       "grid_auto_flow": null,
       "grid_auto_rows": null,
       "grid_column": null,
       "grid_gap": null,
       "grid_row": null,
       "grid_template_areas": null,
       "grid_template_columns": null,
       "grid_template_rows": null,
       "height": null,
       "justify_content": null,
       "justify_items": null,
       "left": null,
       "margin": null,
       "max_height": null,
       "max_width": null,
       "min_height": null,
       "min_width": null,
       "object_fit": null,
       "object_position": null,
       "order": null,
       "overflow": null,
       "padding": null,
       "right": null,
       "top": null,
       "visibility": null,
       "width": null
      }
     },
     "8c9bd3177f69461b96c9f43b0caab082": {
      "model_module": "@jupyter-widgets/controls",
      "model_module_version": "2.0.0",
      "model_name": "HBoxModel",
      "state": {
       "_dom_classes": [],
       "_model_module": "@jupyter-widgets/controls",
       "_model_module_version": "2.0.0",
       "_model_name": "HBoxModel",
       "_view_count": null,
       "_view_module": "@jupyter-widgets/controls",
       "_view_module_version": "2.0.0",
       "_view_name": "HBoxView",
       "box_style": "",
       "children": [
        "IPY_MODEL_eb63a0c6a31f4d29bb37c9fa5c5d7eb3",
        "IPY_MODEL_8e0ea4aa79d84bc69e13a15a1b9e6ea8",
        "IPY_MODEL_6dd673ba8a6a4abeb178a323c0067957"
       ],
       "layout": "IPY_MODEL_4e122bc1c1ce4237ae91ef2584b29820",
       "tabbable": null,
       "tooltip": null
      }
     },
     "8e0ea4aa79d84bc69e13a15a1b9e6ea8": {
      "model_module": "@jupyter-widgets/controls",
      "model_module_version": "2.0.0",
      "model_name": "FloatProgressModel",
      "state": {
       "_dom_classes": [],
       "_model_module": "@jupyter-widgets/controls",
       "_model_module_version": "2.0.0",
       "_model_name": "FloatProgressModel",
       "_view_count": null,
       "_view_module": "@jupyter-widgets/controls",
       "_view_module_version": "2.0.0",
       "_view_name": "ProgressView",
       "bar_style": "success",
       "description": "",
       "description_allow_html": false,
       "layout": "IPY_MODEL_0f7f7b8785764178b74a9850c0ed945b",
       "max": 4.0,
       "min": 0.0,
       "orientation": "horizontal",
       "style": "IPY_MODEL_28ac87abedb840fd8a990e4a37afd3b2",
       "tabbable": null,
       "tooltip": null,
       "value": 4.0
      }
     },
     "9c60a60b8df24163972287f02a231937": {
      "model_module": "@jupyter-widgets/base",
      "model_module_version": "2.0.0",
      "model_name": "LayoutModel",
      "state": {
       "_model_module": "@jupyter-widgets/base",
       "_model_module_version": "2.0.0",
       "_model_name": "LayoutModel",
       "_view_count": null,
       "_view_module": "@jupyter-widgets/base",
       "_view_module_version": "2.0.0",
       "_view_name": "LayoutView",
       "align_content": null,
       "align_items": null,
       "align_self": null,
       "border_bottom": null,
       "border_left": null,
       "border_right": null,
       "border_top": null,
       "bottom": null,
       "display": null,
       "flex": null,
       "flex_flow": null,
       "grid_area": null,
       "grid_auto_columns": null,
       "grid_auto_flow": null,
       "grid_auto_rows": null,
       "grid_column": null,
       "grid_gap": null,
       "grid_row": null,
       "grid_template_areas": null,
       "grid_template_columns": null,
       "grid_template_rows": null,
       "height": null,
       "justify_content": null,
       "justify_items": null,
       "left": null,
       "margin": null,
       "max_height": null,
       "max_width": null,
       "min_height": null,
       "min_width": null,
       "object_fit": null,
       "object_position": null,
       "order": null,
       "overflow": null,
       "padding": null,
       "right": null,
       "top": null,
       "visibility": null,
       "width": null
      }
     },
     "cf176db7bee04948b76255262a01510b": {
      "model_module": "@jupyter-widgets/controls",
      "model_module_version": "2.0.0",
      "model_name": "HTMLStyleModel",
      "state": {
       "_model_module": "@jupyter-widgets/controls",
       "_model_module_version": "2.0.0",
       "_model_name": "HTMLStyleModel",
       "_view_count": null,
       "_view_module": "@jupyter-widgets/base",
       "_view_module_version": "2.0.0",
       "_view_name": "StyleView",
       "background": null,
       "description_width": "",
       "font_size": null,
       "text_color": null
      }
     },
     "eb63a0c6a31f4d29bb37c9fa5c5d7eb3": {
      "model_module": "@jupyter-widgets/controls",
      "model_module_version": "2.0.0",
      "model_name": "HTMLModel",
      "state": {
       "_dom_classes": [],
       "_model_module": "@jupyter-widgets/controls",
       "_model_module_version": "2.0.0",
       "_model_name": "HTMLModel",
       "_view_count": null,
       "_view_module": "@jupyter-widgets/controls",
       "_view_module_version": "2.0.0",
       "_view_name": "HTMLView",
       "description": "",
       "description_allow_html": false,
       "layout": "IPY_MODEL_8bb42a23170b496298af390175501ddc",
       "placeholder": "​",
       "style": "IPY_MODEL_cf176db7bee04948b76255262a01510b",
       "tabbable": null,
       "tooltip": null,
       "value": "100%"
      }
     },
     "f9cd716aa3ff471a98b33f30fc02ff09": {
      "model_module": "@jupyter-widgets/controls",
      "model_module_version": "2.0.0",
      "model_name": "HTMLStyleModel",
      "state": {
       "_model_module": "@jupyter-widgets/controls",
       "_model_module_version": "2.0.0",
       "_model_name": "HTMLStyleModel",
       "_view_count": null,
       "_view_module": "@jupyter-widgets/base",
       "_view_module_version": "2.0.0",
       "_view_name": "StyleView",
       "background": null,
       "description_width": "",
       "font_size": null,
       "text_color": null
      }
     }
    },
    "version_major": 2,
    "version_minor": 0
   }
  }
 },
 "nbformat": 4,
 "nbformat_minor": 5
}