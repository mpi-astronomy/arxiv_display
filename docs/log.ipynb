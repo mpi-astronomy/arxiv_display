{
 "cells": [
  {
   "cell_type": "markdown",
   "id": "92bcb855",
   "metadata": {
    "papermill": {
     "duration": 0.007179,
     "end_time": "2023-02-02T04:06:40.424312",
     "exception": false,
     "start_time": "2023-02-02T04:06:40.417133",
     "status": "completed"
    },
    "tags": []
   },
   "source": [
    "# MPIA Arxiv on Deck 2\n",
    "\n",
    "Contains the steps to produce the paper extractions."
   ]
  },
  {
   "cell_type": "code",
   "execution_count": 1,
   "id": "3a0d6e11",
   "metadata": {
    "execution": {
     "iopub.execute_input": "2023-02-02T04:06:40.435237Z",
     "iopub.status.busy": "2023-02-02T04:06:40.434913Z",
     "iopub.status.idle": "2023-02-02T04:06:40.636319Z",
     "shell.execute_reply": "2023-02-02T04:06:40.635169Z"
    },
    "papermill": {
     "duration": 0.208956,
     "end_time": "2023-02-02T04:06:40.638719",
     "exception": false,
     "start_time": "2023-02-02T04:06:40.429763",
     "status": "completed"
    },
    "tags": []
   },
   "outputs": [],
   "source": [
    "# Imports\n",
    "import os\n",
    "from IPython.display import Markdown, display\n",
    "from tqdm.notebook import tqdm\n",
    "import warnings\n",
    "from PIL import Image \n",
    "\n",
    "# requires arxiv_on_deck_2\n",
    "\n",
    "from arxiv_on_deck_2.arxiv2 import (get_new_papers, \n",
    "                                    get_paper_from_identifier,\n",
    "                                    retrieve_document_source, \n",
    "                                    get_markdown_badge)\n",
    "from arxiv_on_deck_2 import (latex, \n",
    "                             mpia,\n",
    "                             highlight_authors_in_list)\n",
    "\n",
    "# Sometimes images are really big\n",
    "Image.MAX_IMAGE_PIXELS = 1000000000 "
   ]
  },
  {
   "cell_type": "code",
   "execution_count": 2,
   "id": "22aa9d44",
   "metadata": {
    "execution": {
     "iopub.execute_input": "2023-02-02T04:06:40.649008Z",
     "iopub.status.busy": "2023-02-02T04:06:40.648498Z",
     "iopub.status.idle": "2023-02-02T04:06:40.654113Z",
     "shell.execute_reply": "2023-02-02T04:06:40.653393Z"
    },
    "papermill": {
     "duration": 0.012646,
     "end_time": "2023-02-02T04:06:40.655686",
     "exception": false,
     "start_time": "2023-02-02T04:06:40.643040",
     "status": "completed"
    },
    "tags": []
   },
   "outputs": [],
   "source": [
    "# Some useful definitions.\n",
    "\n",
    "class AffiliationWarning(UserWarning):\n",
    "    pass\n",
    "\n",
    "class AffiliationError(RuntimeError):\n",
    "    pass\n",
    "\n",
    "def validation(source: str):\n",
    "    \"\"\"Raises error paper during parsing of source file\n",
    "    \n",
    "    Allows checks before parsing TeX code.\n",
    "    \n",
    "    Raises AffiliationWarning\n",
    "    \"\"\"\n",
    "    check = mpia.affiliation_verifications(source, verbose=True)\n",
    "    if check is not True:\n",
    "        raise AffiliationError(\"mpia.affiliation_verifications: \" + check)\n",
    "\n",
    "        \n",
    "warnings.simplefilter('always', AffiliationWarning)"
   ]
  },
  {
   "cell_type": "code",
   "execution_count": 3,
   "id": "14622700",
   "metadata": {
    "execution": {
     "iopub.execute_input": "2023-02-02T04:06:40.665076Z",
     "iopub.status.busy": "2023-02-02T04:06:40.664609Z",
     "iopub.status.idle": "2023-02-02T04:06:40.668407Z",
     "shell.execute_reply": "2023-02-02T04:06:40.667717Z"
    },
    "papermill": {
     "duration": 0.010652,
     "end_time": "2023-02-02T04:06:40.670170",
     "exception": false,
     "start_time": "2023-02-02T04:06:40.659518",
     "status": "completed"
    },
    "tags": []
   },
   "outputs": [],
   "source": [
    "# additional CSS to consider. \n",
    "# TODO: Current into each exported file. \n",
    "#       This should be set once into the webpages directly.\n",
    "#       With only the class/id definitions in the .md files.\n",
    "\n",
    "debug_html = \"\"\"\n",
    "<style>\n",
    "#wrap{ overflow:auto; }\n",
    "#fig1{ background:yellow; width:100%; float:left; padding:5px;  }\n",
    "#fig2{ background:red; width:50%; float:left; clear:left; padding:5px;  }\n",
    "#fig3{ background:green; width:50%; float:left; padding:5px;   }\n",
    ".macros{ background:yellow; visibility:visible;}\n",
    "h1 {margin: 0 0 0 0;}\n",
    "mark {background-color:#fff3b6;}\n",
    "img {object-fit:contain; max-height:250px; display:inline-block; text-align: center;}\n",
    "</style>\n",
    "\"\"\" \n",
    "html = \"\"\"\n",
    "<style>\n",
    "#wrap{ overflow:auto; }\n",
    "#fig1{ width:100%; float:left; padding: 5px;  }\n",
    "#fig2{ width:50%; float:left; clear:left; padding: 5px;  }\n",
    "#fig3{ width:50%; float:left; padding: 5px;  }\n",
    ".macros{ visibility:hidden; height:0px; }\n",
    "h1 {margin: 0em 0 0 0;}\n",
    "mark {background-color:#fff3b6;}\n",
    "img {object-fit:contain; max-height:250px; display:inline-block; text-align: center;}\n",
    "</style>\n",
    "\"\"\""
   ]
  },
  {
   "cell_type": "markdown",
   "id": "14bd6310",
   "metadata": {
    "papermill": {
     "duration": 0.004638,
     "end_time": "2023-02-02T04:06:40.678003",
     "exception": false,
     "start_time": "2023-02-02T04:06:40.673365",
     "status": "completed"
    },
    "tags": []
   },
   "source": [
    "## get list of arxiv paper candidates\n",
    "\n",
    "We use the MPIA mitarbeiter list webpage from mpia.de to get author names\n",
    "We then get all new papers from Arxiv and match authors"
   ]
  },
  {
   "cell_type": "code",
   "execution_count": 4,
   "id": "2645e73a",
   "metadata": {
    "execution": {
     "iopub.execute_input": "2023-02-02T04:06:40.688569Z",
     "iopub.status.busy": "2023-02-02T04:06:40.687893Z",
     "iopub.status.idle": "2023-02-02T04:07:03.015509Z",
     "shell.execute_reply": "2023-02-02T04:07:03.014758Z"
    },
    "papermill": {
     "duration": 22.334812,
     "end_time": "2023-02-02T04:07:03.017419",
     "exception": false,
     "start_time": "2023-02-02T04:06:40.682607",
     "status": "completed"
    },
    "tags": []
   },
   "outputs": [
    {
     "name": "stdout",
     "output_type": "stream",
     "text": [
      "Arxiv has 64 new papers today\n",
      "          22 with possible author matches\n"
     ]
    }
   ],
   "source": [
    "# get list from MPIA website\n",
    "# it automatically filters identified non-scientists :func:`mpia.filter_non_scientists`\n",
    "mpia_authors = mpia.get_mpia_mitarbeiter_list()\n",
    "new_papers = get_new_papers()\n",
    "# add manual references\n",
    "add_paper_refs = []\n",
    "new_papers.extend([get_paper_from_identifier(k) for k in add_paper_refs])\n",
    "\n",
    "# select only papers with matching author names and highlight authors\n",
    "hl_list = [k[0] for k in mpia_authors]\n",
    "\n",
    "candidates = []\n",
    "for paperk in new_papers:\n",
    "    hl_authors = highlight_authors_in_list(paperk['authors'], hl_list)\n",
    "    matches = [(hl, orig) for hl, orig in zip(hl_authors, paperk['authors']) if 'mark' in hl]\n",
    "    paperk['authors'] = hl_authors\n",
    "    if matches:\n",
    "        candidates.append(paperk)\n",
    "print(\"\"\"Arxiv has {0:,d} new papers today\"\"\".format(len(new_papers)))        \n",
    "print(\"\"\"          {0:,d} with possible author matches\"\"\".format(len(candidates)))"
   ]
  },
  {
   "cell_type": "markdown",
   "id": "3543b34a",
   "metadata": {
    "papermill": {
     "duration": 0.006205,
     "end_time": "2023-02-02T04:07:03.028916",
     "exception": false,
     "start_time": "2023-02-02T04:07:03.022711",
     "status": "completed"
    },
    "tags": []
   },
   "source": [
    "# Parse sources and generate relevant outputs\n",
    "\n",
    "From the candidates, we do the following steps:\n",
    "* get their tarball from ArXiv (and extract data)\n",
    "* find the main .tex file: find one with \\documentclass{...} (sometimes it's non trivial)\n",
    "* Check affiliations with :func:`validation`, which uses :func:`mpia.affiliation_verifications`\n",
    "* If passing the affiliations: we parse the .tex source\n",
    "   * inject sub-documents into the main (flatten the main document)\n",
    "   * parse structure, extract information (title, abstract, authors, figures...)\n",
    "   * handles `\\graphicspath` if provided\n",
    "* Generate the .md document."
   ]
  },
  {
   "cell_type": "code",
   "execution_count": 5,
   "id": "9576b79e",
   "metadata": {
    "execution": {
     "iopub.execute_input": "2023-02-02T04:07:03.040527Z",
     "iopub.status.busy": "2023-02-02T04:07:03.039784Z",
     "iopub.status.idle": "2023-02-02T04:07:56.220497Z",
     "shell.execute_reply": "2023-02-02T04:07:56.219650Z"
    },
    "papermill": {
     "duration": 53.189075,
     "end_time": "2023-02-02T04:07:56.222851",
     "exception": false,
     "start_time": "2023-02-02T04:07:03.033776",
     "status": "completed"
    },
    "scrolled": false,
    "tags": []
   },
   "outputs": [
    {
     "data": {
      "application/vnd.jupyter.widget-view+json": {
       "model_id": "52d9839be5544d1cb74b43f78b1b71cd",
       "version_major": 2,
       "version_minor": 0
      },
      "text/plain": [
       "  0%|          | 0/21 [00:00<?, ?it/s]"
      ]
     },
     "metadata": {},
     "output_type": "display_data"
    },
    {
     "name": "stdout",
     "output_type": "stream",
     "text": [
      "Retrieving document from  https://arxiv.org/e-print/2302.00009\n"
     ]
    },
    {
     "name": "stdout",
     "output_type": "stream",
     "text": [
      "extracting tarball to tmp_2302.00009..."
     ]
    },
    {
     "name": "stdout",
     "output_type": "stream",
     "text": [
      " done.\n",
      "Retrieving document from  https://arxiv.org/e-print/2302.00012\n"
     ]
    },
    {
     "name": "stderr",
     "output_type": "stream",
     "text": [
      "/opt/hostedtoolcache/Python/3.9.16/x64/lib/python3.9/site-packages/IPython/core/interactiveshell.py:3442: LatexWarning: Multiple tex files.\n",
      "\n",
      "  exec(code_obj, self.user_global_ns, self.user_ns)\n",
      "/opt/hostedtoolcache/Python/3.9.16/x64/lib/python3.9/site-packages/IPython/core/interactiveshell.py:3442: LatexWarning: Found documentclass in tmp_2302.00009/natbib.tex\n",
      "\n",
      "  exec(code_obj, self.user_global_ns, self.user_ns)\n"
     ]
    },
    {
     "name": "stdout",
     "output_type": "stream",
     "text": [
      "extracting tarball to tmp_2302.00012..."
     ]
    },
    {
     "name": "stdout",
     "output_type": "stream",
     "text": [
      " done.\n",
      "Retrieving document from  https://arxiv.org/e-print/2302.00027\n"
     ]
    },
    {
     "name": "stderr",
     "output_type": "stream",
     "text": [
      "/opt/hostedtoolcache/Python/3.9.16/x64/lib/python3.9/site-packages/arxiv_on_deck_2/latex.py:292: LatexWarning: Latex injecting: 'main.bbl' from 'tmp_2302.00012/main.tex'\n",
      "  warnings.warn(LatexWarning(f\"Latex injecting: '{ext}' from '{subsource}'\"))\n"
     ]
    },
    {
     "name": "stderr",
     "output_type": "stream",
     "text": [
      "/tmp/ipykernel_2134/4030337529.py:34: LatexWarning: 2302.00027 did not run properly\n",
      "not a gzip file\n",
      "  warnings.warn(latex.LatexWarning(f\"{paper_id:s} did not run properly\\n\" +\n"
     ]
    },
    {
     "name": "stdout",
     "output_type": "stream",
     "text": [
      "Retrieving document from  https://arxiv.org/e-print/2302.00030\n"
     ]
    },
    {
     "name": "stdout",
     "output_type": "stream",
     "text": [
      "extracting tarball to tmp_2302.00030..."
     ]
    },
    {
     "name": "stdout",
     "output_type": "stream",
     "text": [
      " done.\n",
      "Retrieving document from  https://arxiv.org/e-print/2302.00053\n"
     ]
    },
    {
     "name": "stdout",
     "output_type": "stream",
     "text": [
      "extracting tarball to tmp_2302.00053..."
     ]
    },
    {
     "name": "stdout",
     "output_type": "stream",
     "text": [
      " done.\n",
      "Retrieving document from  https://arxiv.org/e-print/2302.00101\n"
     ]
    },
    {
     "name": "stdout",
     "output_type": "stream",
     "text": [
      "extracting tarball to tmp_2302.00101..."
     ]
    },
    {
     "name": "stdout",
     "output_type": "stream",
     "text": [
      " done.\n",
      "Retrieving document from  https://arxiv.org/e-print/2302.00176\n"
     ]
    },
    {
     "name": "stdout",
     "output_type": "stream",
     "text": [
      "extracting tarball to tmp_2302.00176... done.\n",
      "Retrieving document from  https://arxiv.org/e-print/2302.00197\n"
     ]
    },
    {
     "name": "stderr",
     "output_type": "stream",
     "text": [
      "/opt/hostedtoolcache/Python/3.9.16/x64/lib/python3.9/site-packages/IPython/core/interactiveshell.py:3442: LatexWarning: Multiple tex files.\n",
      "\n",
      "  exec(code_obj, self.user_global_ns, self.user_ns)\n",
      "/opt/hostedtoolcache/Python/3.9.16/x64/lib/python3.9/site-packages/IPython/core/interactiveshell.py:3442: LatexWarning: Found documentclass in tmp_2302.00176/ms.tex\n",
      "\n",
      "  exec(code_obj, self.user_global_ns, self.user_ns)\n"
     ]
    },
    {
     "name": "stdout",
     "output_type": "stream",
     "text": [
      "extracting tarball to tmp_2302.00197..."
     ]
    },
    {
     "name": "stdout",
     "output_type": "stream",
     "text": [
      " done.\n",
      "Retrieving document from  https://arxiv.org/e-print/2302.00204\n"
     ]
    },
    {
     "name": "stderr",
     "output_type": "stream",
     "text": [
      "/opt/hostedtoolcache/Python/3.9.16/x64/lib/python3.9/site-packages/IPython/core/interactiveshell.py:3442: LatexWarning: Multiple tex files.\n",
      "\n",
      "  exec(code_obj, self.user_global_ns, self.user_ns)\n",
      "/opt/hostedtoolcache/Python/3.9.16/x64/lib/python3.9/site-packages/IPython/core/interactiveshell.py:3442: LatexWarning: Found documentclass in tmp_2302.00197/source.tex\n",
      "\n",
      "  exec(code_obj, self.user_global_ns, self.user_ns)\n"
     ]
    },
    {
     "name": "stdout",
     "output_type": "stream",
     "text": [
      "extracting tarball to tmp_2302.00204..."
     ]
    },
    {
     "name": "stdout",
     "output_type": "stream",
     "text": [
      " done.\n",
      "Retrieving document from  https://arxiv.org/e-print/2302.00212\n"
     ]
    },
    {
     "name": "stdout",
     "output_type": "stream",
     "text": [
      "extracting tarball to tmp_2302.00212..."
     ]
    },
    {
     "name": "stdout",
     "output_type": "stream",
     "text": [
      " done.\n",
      "Retrieving document from  https://arxiv.org/e-print/2302.00246\n"
     ]
    },
    {
     "name": "stdout",
     "output_type": "stream",
     "text": [
      "extracting tarball to tmp_2302.00246..."
     ]
    },
    {
     "name": "stdout",
     "output_type": "stream",
     "text": [
      " done.\n",
      "Retrieving document from  https://arxiv.org/e-print/2302.00289\n"
     ]
    },
    {
     "name": "stderr",
     "output_type": "stream",
     "text": [
      "/tmp/ipykernel_2134/4030337529.py:34: LatexWarning: 2302.00289 did not run properly\n",
      "not a gzip file\n",
      "  warnings.warn(latex.LatexWarning(f\"{paper_id:s} did not run properly\\n\" +\n"
     ]
    },
    {
     "name": "stdout",
     "output_type": "stream",
     "text": [
      "Retrieving document from  https://arxiv.org/e-print/2302.00300\n"
     ]
    },
    {
     "name": "stdout",
     "output_type": "stream",
     "text": [
      "extracting tarball to tmp_2302.00300... done.\n",
      "Retrieving document from  https://arxiv.org/e-print/2302.00322\n"
     ]
    },
    {
     "name": "stdout",
     "output_type": "stream",
     "text": [
      "extracting tarball to tmp_2302.00322..."
     ]
    },
    {
     "name": "stdout",
     "output_type": "stream",
     "text": [
      " done.\n",
      "Retrieving document from  https://arxiv.org/e-print/2302.00335\n"
     ]
    },
    {
     "name": "stdout",
     "output_type": "stream",
     "text": [
      "extracting tarball to tmp_2302.00335..."
     ]
    },
    {
     "name": "stdout",
     "output_type": "stream",
     "text": [
      " done.\n",
      "Retrieving document from  https://arxiv.org/e-print/2302.00366\n"
     ]
    },
    {
     "name": "stderr",
     "output_type": "stream",
     "text": [
      "/opt/hostedtoolcache/Python/3.9.16/x64/lib/python3.9/site-packages/IPython/core/interactiveshell.py:3442: LatexWarning: Multiple tex files.\n",
      "\n",
      "  exec(code_obj, self.user_global_ns, self.user_ns)\n",
      "/opt/hostedtoolcache/Python/3.9.16/x64/lib/python3.9/site-packages/IPython/core/interactiveshell.py:3442: LatexWarning: Found documentclass in tmp_2302.00335/main.tex\n",
      "\n",
      "  exec(code_obj, self.user_global_ns, self.user_ns)\n",
      "/opt/hostedtoolcache/Python/3.9.16/x64/lib/python3.9/site-packages/arxiv_on_deck_2/latex.py:292: LatexWarning: Latex injecting: 'command.tex' from 'tmp_2302.00335/command.tex'\n",
      "  warnings.warn(LatexWarning(f\"Latex injecting: '{ext}' from '{subsource}'\"))\n",
      "/opt/hostedtoolcache/Python/3.9.16/x64/lib/python3.9/site-packages/arxiv_on_deck_2/latex.py:292: LatexWarning: Latex injecting: '/home/runa/Asus/QiGonShared/inputs/command.tex' from 'tmp_2302.00335/command.tex'\n",
      "  warnings.warn(LatexWarning(f\"Latex injecting: '{ext}' from '{subsource}'\"))\n",
      "/opt/hostedtoolcache/Python/3.9.16/x64/lib/python3.9/site-packages/arxiv_on_deck_2/latex.py:292: LatexWarning: Latex injecting: '/home/runa/asus/command.tex' from 'tmp_2302.00335/command.tex'\n",
      "  warnings.warn(LatexWarning(f\"Latex injecting: '{ext}' from '{subsource}'\"))\n"
     ]
    },
    {
     "name": "stdout",
     "output_type": "stream",
     "text": [
      "extracting tarball to tmp_2302.00366... done.\n",
      "Retrieving document from  https://arxiv.org/e-print/2302.00399\n"
     ]
    },
    {
     "name": "stdout",
     "output_type": "stream",
     "text": [
      "extracting tarball to tmp_2302.00399..."
     ]
    },
    {
     "name": "stdout",
     "output_type": "stream",
     "text": [
      " done.\n",
      "Retrieving document from  https://arxiv.org/e-print/2302.00445\n"
     ]
    },
    {
     "name": "stdout",
     "output_type": "stream",
     "text": [
      "extracting tarball to tmp_2302.00445... done.\n",
      "Retrieving document from  https://arxiv.org/e-print/2302.00450\n"
     ]
    },
    {
     "name": "stderr",
     "output_type": "stream",
     "text": [
      "/opt/hostedtoolcache/Python/3.9.16/x64/lib/python3.9/site-packages/IPython/core/interactiveshell.py:3442: LatexWarning: Multiple tex files.\n",
      "\n",
      "  exec(code_obj, self.user_global_ns, self.user_ns)\n",
      "/opt/hostedtoolcache/Python/3.9.16/x64/lib/python3.9/site-packages/IPython/core/interactiveshell.py:3442: LatexWarning: Found documentclass in tmp_2302.00445/ms.tex\n",
      "\n",
      "  exec(code_obj, self.user_global_ns, self.user_ns)\n"
     ]
    },
    {
     "name": "stdout",
     "output_type": "stream",
     "text": [
      "extracting tarball to tmp_2302.00450..."
     ]
    },
    {
     "name": "stdout",
     "output_type": "stream",
     "text": [
      " done.\n"
     ]
    },
    {
     "name": "stderr",
     "output_type": "stream",
     "text": [
      "/opt/hostedtoolcache/Python/3.9.16/x64/lib/python3.9/site-packages/IPython/core/interactiveshell.py:3442: LatexWarning: Multiple tex files.\n",
      "\n",
      "  exec(code_obj, self.user_global_ns, self.user_ns)\n",
      "/opt/hostedtoolcache/Python/3.9.16/x64/lib/python3.9/site-packages/IPython/core/interactiveshell.py:3442: LatexWarning: Found documentclass in tmp_2302.00450/dense_gas_excitation-v01.tex\n",
      "\n",
      "  exec(code_obj, self.user_global_ns, self.user_ns)\n",
      "/opt/hostedtoolcache/Python/3.9.16/x64/lib/python3.9/site-packages/arxiv_on_deck_2/latex.py:292: LatexWarning: Latex injecting: 'phangs_affiliations.tex' from 'tmp_2302.00450/phangs_affiliations.tex'\n",
      "  warnings.warn(LatexWarning(f\"Latex injecting: '{ext}' from '{subsource}'\"))\n"
     ]
    },
    {
     "name": "stdout",
     "output_type": "stream",
     "text": [
      "Retrieving document from  https://arxiv.org/e-print/2302.00497\n"
     ]
    },
    {
     "name": "stdout",
     "output_type": "stream",
     "text": [
      "extracting tarball to tmp_2302.00497... done.\n",
      "Retrieving document from  https://arxiv.org/e-print/2302.00531\n"
     ]
    },
    {
     "name": "stderr",
     "output_type": "stream",
     "text": [
      "/opt/hostedtoolcache/Python/3.9.16/x64/lib/python3.9/site-packages/IPython/core/interactiveshell.py:3442: LatexWarning: Multiple tex files.\n",
      "\n",
      "  exec(code_obj, self.user_global_ns, self.user_ns)\n",
      "/opt/hostedtoolcache/Python/3.9.16/x64/lib/python3.9/site-packages/IPython/core/interactiveshell.py:3442: LatexWarning: Found documentclass in tmp_2302.00497/data_center.tex\n",
      "\n",
      "  exec(code_obj, self.user_global_ns, self.user_ns)\n"
     ]
    },
    {
     "name": "stdout",
     "output_type": "stream",
     "text": [
      "extracting tarball to tmp_2302.00531..."
     ]
    },
    {
     "name": "stdout",
     "output_type": "stream",
     "text": [
      " done.\n"
     ]
    }
   ],
   "source": [
    "documents = []\n",
    "failed = []\n",
    "for paper in tqdm(candidates[:-1]):\n",
    "    paper_id = paper['identifier'].lower().replace('arxiv:', '')\n",
    "    \n",
    "    folder = f'tmp_{paper_id}'\n",
    "\n",
    "    try:\n",
    "        if not os.path.isdir(folder):\n",
    "            folder = retrieve_document_source(f\"{paper_id}\", f'tmp_{paper_id}')\n",
    "        \n",
    "        try:\n",
    "            doc = latex.LatexDocument(folder, validation=validation)    \n",
    "        except AffiliationError as affilerror:\n",
    "            msg = f\"ArXiv:{paper_id:s} is not an MPIA paper... \" + str(affilerror)\n",
    "            failed.append((paper, \"affiliation error: \" + str(affilerror) ))\n",
    "            continue\n",
    "        \n",
    "        # Hack because sometimes author parsing does not work well\n",
    "        if (len(doc.authors) != len(paper['authors'])):\n",
    "            doc._authors = paper['authors']\n",
    "        if (doc.abstract) in (None, ''):\n",
    "            doc._abstract = paper['abstract']\n",
    "            \n",
    "        doc.comment = (get_markdown_badge(paper_id) + \n",
    "                       \"<mark>Appeared on: \" + paper['date'] + \"</mark> - \" +\n",
    "                       \"_\" + paper['comments'] + \"_\")\n",
    "        doc.highlight_authors_in_list(hl_list)\n",
    "\n",
    "        full_md = doc.generate_markdown_text()\n",
    "        \n",
    "        documents.append((paper_id, full_md))\n",
    "    except Exception as e:\n",
    "        warnings.warn(latex.LatexWarning(f\"{paper_id:s} did not run properly\\n\" +\n",
    "                                         str(e)\n",
    "                                        ))\n",
    "        failed.append((paper, \"latex error \" + str(e)))"
   ]
  },
  {
   "cell_type": "markdown",
   "id": "2505a25c",
   "metadata": {
    "papermill": {
     "duration": 0.008561,
     "end_time": "2023-02-02T04:07:56.238755",
     "exception": false,
     "start_time": "2023-02-02T04:07:56.230194",
     "status": "completed"
    },
    "tags": []
   },
   "source": [
    "### Export the logs\n",
    "\n",
    "Throughout, we also keep track of the logs per paper. see `logs-{today date}.md` "
   ]
  },
  {
   "cell_type": "code",
   "execution_count": 6,
   "id": "d733828a",
   "metadata": {
    "execution": {
     "iopub.execute_input": "2023-02-02T04:07:56.255161Z",
     "iopub.status.busy": "2023-02-02T04:07:56.254506Z",
     "iopub.status.idle": "2023-02-02T04:07:56.291208Z",
     "shell.execute_reply": "2023-02-02T04:07:56.290659Z"
    },
    "papermill": {
     "duration": 0.046672,
     "end_time": "2023-02-02T04:07:56.292484",
     "exception": false,
     "start_time": "2023-02-02T04:07:56.245812",
     "status": "completed"
    },
    "scrolled": false,
    "tags": []
   },
   "outputs": [
    {
     "data": {
      "text/markdown": [
       "## Successful papers"
      ],
      "text/plain": [
       "<IPython.core.display.Markdown object>"
      ]
     },
     "metadata": {},
     "output_type": "display_data"
    },
    {
     "data": {
      "text/markdown": [
       "\n",
       "|||\n",
       "|---:|:---|\n",
       "| [![arXiv](https://img.shields.io/badge/arXiv-arXiv:2302.00450-b31b1b.svg)](https://arxiv.org/abs/arXiv:2302.00450) | **Sub-kiloparsec empirical relations and excitation conditions of HCN and  HCO+ J=3-2 in nearby star-forming galaxies**  |\n",
       "|| Axel Garcia-Rodriguez, et al. -- incl., <mark>Frank Bigiel</mark>, <mark>Daizhong Liu</mark>, <mark>Eva Schinnerer</mark> |\n",
       "|*Appeared on*| *2023-02-02*|\n",
       "|*Comments*| *Accepted for publication in A&A. 14 pages, 8 figures*|\n",
       "|**Abstract**| We present new HCN and HCO$^+$ ($J$=3-2) images of the nearby star-forming galaxies (SFGs) NGC 3351, NGC 3627, and NGC 4321. The observations, obtained with the Morita ALMA Compact Array, have a spatial resolution of $\\sim$290-440 pc and resolve the inner $R_\\textrm{gal} \\lesssim$ 0.6-1 kpc of the targets, as well as the southern bar end of NGC 3627. We complement this data set with publicly available images of lower excitation lines of HCN, HCO$^+$, and CO and analyse the behaviour of a representative set of line ratios: HCN(3-2)/HCN(1-0), HCN(3-2)/HCO$^+$(3-2), HCN(1-0)/CO(2-1), and HCN(3-2)/CO(2-1). Most of these ratios peak at the galaxy centres and decrease outwards. We compare the HCN and HCO$^+$ observations with a grid of one-phase, non-local thermodynamic equilibrium (non-LTE) radiative transfer models and find them compatible with models that predict subthermally excited and optically thick lines. We study the systematic variations of the line ratios across the targets as a function of the stellar surface density ($\\Sigma_\\textrm{star}$), the intensity-weighted CO(2-1) ($\\langle I_\\text{CO}\\rangle$), and the star formation rate surface density ($\\Sigma_\\text{SFR}$). We find no apparent correlation with $\\Sigma_\\text{SFR}$, but positive correlations with the other two parameters, which are stronger in the case of $\\langle I_\\text{CO}\\rangle$. The HCN/CO-$\\langle I_\\text{CO}\\rangle$ relations show $\\lesssim$0.3 dex galaxy-to-galaxy offsets, with HCN(3-2)/CO(2-1)-$\\langle I_\\text{CO}\\rangle$ being $\\sim$2 times steeper than HCN(1-0)/CO(2-1). In contrast, the HCN(3-2)/HCN(1-0)-$\\langle I_\\text{CO}\\rangle$ relation exhibits a tighter alignment between galaxies. We conclude that the overall behaviour of the line ratios cannot be ascribed to variations in a single excitation parameter (e.g. density or temperature). |"
      ],
      "text/plain": [
       "[arXiv:2302.00450] Sub-kiloparsec empirical relations and excitation conditions of HCN and  HCO+ J=3-2 in nearby star-forming galaxies\n",
       "\tAxel Garcia-Rodriguez, et al. -- incl., <mark>Frank Bigiel</mark>, <mark>Daizhong Liu</mark>, <mark>Eva Schinnerer</mark>"
      ]
     },
     "metadata": {},
     "output_type": "display_data"
    },
    {
     "data": {
      "text/markdown": [
       "## Failed papers"
      ],
      "text/plain": [
       "<IPython.core.display.Markdown object>"
      ]
     },
     "metadata": {},
     "output_type": "display_data"
    },
    {
     "data": {
      "text/markdown": [
       "\n",
       "|||\n",
       "|---:|:---|\n",
       "| [![arXiv](https://img.shields.io/badge/arXiv-arXiv:2302.00009-b31b1b.svg)](https://arxiv.org/abs/arXiv:2302.00009) | **Evidence that Core-Powered Mass-Loss Dominates Over Photoevaporation in  Shaping the Kepler Radius Valley**  |\n",
       "|| Travis A. Berger, Joshua E. Schlieder, <mark>Daniel Huber</mark>, Thomas Barclay |\n",
       "|*Appeared on*| *2023-02-02*|\n",
       "|*Comments*| *10 pages, 4 figures. Submitted to ApJL*|\n",
       "|**Abstract**| The dearth of planets with sizes around 1.8 $\\mathrm{R_\\oplus}$ is a key demographic feature discovered by the $Kepler$ mission. Two theories have emerged as potential explanations for this valley: photoevaporation and core-powered mass-loss. However, Rogers et al. (2021) shows that differentiating between the two theories is possible using the three-dimensional parameter space of planet radius, incident flux, and stellar mass. We use homogeneously-derived stellar and planetary parameters to measure the $Kepler$ exoplanet radius gap in this three-dimensional space. We compute the slope of the gap as a function of incident flux at constant stellar mass ($\\alpha$ $\\equiv$ $\\left(\\partial \\log R_{\\mathrm{gap}} / \\partial \\log S \\right)_{M_\\star}$) and the slope of the gap as a function of stellar mass at constant incident flux ($\\beta$ $\\equiv$ $\\left(\\partial \\log R_{\\mathrm{gap}} / \\partial \\log M_\\star \\right)_{S}$) and find $\\alpha$ = 0.069$^{+0.019}_{-0.023}$ and $\\beta$ = $-$0.046$^{+0.125}_{-0.117}$. Given that Rogers et al. (2021) shows that core-powered mass-loss predicts $\\alpha$ $\\approx$ 0.08 and $\\beta$ $\\approx$ 0.00 while photoevaporation predicts $\\alpha$ $\\approx$ 0.12 and $\\beta$ $\\approx$ --0.17, our measurements are more consistent with core-powered mass-loss than photoevaporation. However, we caution that different gap-determination methods can produce systematic offsets in both $\\alpha$ and $\\beta$; therefore, we motivate a comprehensive re-analysis of $Kepler$ light curves with modern, updated priors on eccentricity and mean stellar density to improve both the accuracy and precision of planet radii and subsequent measurements of the gap. |\n",
       "|<p style=\"color:green\"> **ERROR** </p>| <p style=\"color:green\">affiliation error: mpia.affiliation_verifications: 'Heidelberg' keyword not found.</p> |"
      ],
      "text/plain": [
       "<IPython.core.display.Markdown object>"
      ]
     },
     "metadata": {},
     "output_type": "display_data"
    },
    {
     "data": {
      "text/markdown": [
       "\n",
       "|||\n",
       "|---:|:---|\n",
       "| [![arXiv](https://img.shields.io/badge/arXiv-arXiv:2302.00012-b31b1b.svg)](https://arxiv.org/abs/arXiv:2302.00012) | **Hidden Little Monsters: Spectroscopic Identification of Low-Mass,  Broad-Line AGN at $z>5$ with CEERS**  |\n",
       "|| Dale D. Kocevski, et al. -- incl., <mark>Steven L. Finkelstein</mark>, <mark>Linhua Jiang</mark>, <mark>Wenxiu Li</mark>, <mark>Zhengrong Li</mark> |\n",
       "|*Appeared on*| *2023-02-02*|\n",
       "|*Comments*| *16 pages, 8 figures, submitted to ApJL*|\n",
       "|**Abstract**| We report on the discovery of two low-luminosity, broad-line AGN at $z>5$ identified using JWST NIRSpec spectroscopy from the CEERS Survey. We detect broad H$\\alpha$ emission from both sources, with FWHM of $2038\\pm286$ and $1807\\pm207$ km s$^{-1}$, resulting in black hole (BH) masses that are 1-2 dex below that of existing samples of luminous quasars at $z>5$. The first source, CEERS 1670 at $z=5.242$, is 2-3 dex fainter than known quasars at similar redshifts and was previously identified as a candidate low-luminosity AGN based on its rest-frame optical SED. We measure a BH mass of $M_{\\rm BH}=1.3\\pm0.4\\times 10^{7}~M_{\\odot}$, confirming that this AGN is powered by the least-massive BH known in the universe at the end of cosmic reionization. The second source, CEERS 3210 at $z=5.624$, is inferred to be a heavily obscured, broad-line AGN caught in a transition phase between a dust-obscured starburst and an unobscured quasar. We estimate its BH mass to be $M_{\\rm BH}\\simeq 0.9-4.7 \\times 10^{7}~M_{\\odot}$, depending on the level of dust obscuration assumed. We derive host stellar masses, $M_\\star$, allowing us to place constraints on the BH-galaxy mass relationship in the lowest mass range yet probed in the early universe. The $M_{\\rm BH}/M_\\star$ ratio for CEERS 1670, in particular, is consistent with or higher than the empirical relationship seen in massive galaxies at $z=0$. We examine the emission-line ratios of both sources and find that their location on the BPT and OHNO diagrams is consistent with model predictions for low-metallicity AGN with $Z/Z_\\odot \\simeq 0.2-0.4$. The spectroscopic identification of low-luminosity, broad-line AGN at $z>5$ with $M_{\\rm BH}\\simeq 10^{7}~M_{\\odot}$ demonstrates the capability of JWST to push BH masses closer to the range predicted for the BH seed population and provides a unique opportunity to study the early stages of BH-galaxy assembly. |\n",
       "|<p style=\"color:green\"> **ERROR** </p>| <p style=\"color:green\">affiliation error: mpia.affiliation_verifications: 'Heidelberg' keyword not found.</p> |"
      ],
      "text/plain": [
       "<IPython.core.display.Markdown object>"
      ]
     },
     "metadata": {},
     "output_type": "display_data"
    },
    {
     "data": {
      "text/markdown": [
       "\n",
       "|||\n",
       "|---:|:---|\n",
       "| [![arXiv](https://img.shields.io/badge/arXiv-arXiv:2302.00030-b31b1b.svg)](https://arxiv.org/abs/arXiv:2302.00030) | **Cold gas disks in main-sequence galaxies at cosmic noon: Low turbulence,  flat rotation curves, and disk-halo degeneracy**  |\n",
       "|| Federico Lelli, et al. -- incl., <mark>Zhi-Yu Zhang</mark>, <mark>Lingrui Lin</mark> |\n",
       "|*Appeared on*| *2023-02-02*|\n",
       "|*Comments*| *18 pages, 11 figures, 4 tables, 2 appendices. Accepted for publication in Astronomy and Astrophysics*|\n",
       "|**Abstract**| We study the dynamics of cold molecular gas in two main-sequence galaxies at cosmic noon (zC-488879 at $z\\simeq1.47$ and zC-400569 at $z\\simeq2.24$) using new high-resolution ALMA observations of multiple $^{12}$CO transitions. For zC-400569 we also re-analyze high-quality H$\\alpha$ data from the SINS/zC-SINF survey. We find that (1) Both galaxies have regularly rotating CO disks and their rotation curves are flat out to $\\sim$8 kpc contrary to previous results pointing to outer declines in the rotation speed $V_{\\rm rot}$; (2) The intrinsic velocity dispersions are low ($\\sigma_{\\rm CO}\\lesssim15$ km/s for CO and $\\sigma_{\\rm H\\alpha}\\lesssim37$ km/s for H$\\alpha$) and imply $V_{\\rm rot}/\\sigma_{\\rm CO}\\gtrsim17-22$ yielding no significant pressure support; (3) Mass models using HST images display a severe disk-halo degeneracy: models with inner baryon dominance and models with \"cuspy\" dark matter halos can fit the rotation curves equally well due to the uncertainties on stellar and gas masses; (4) Milgromian dynamics (MOND) can successfully fit the rotation curves with the same acceleration scale $a_0$ measured at $z\\simeq0$. The question of the amount and distribution of dark matter in high-$z$ galaxies remains unsettled due to the limited spatial extent of the available kinematic data; we discuss the suitability of various emission lines to trace extended rotation curves at high $z$. Nevertheless, the properties of these two high-$z$ galaxies (high $V_{\\rm rot}/\\sigma_{\\rm V}$ ratios, inner rotation curve shapes, bulge-to-total mass ratios) are remarkably similar to those of massive spirals at $z\\simeq0$, suggesting weak dynamical evolution over more than 10 Gyr of the Universe's lifetime. |\n",
       "|<p style=\"color:green\"> **ERROR** </p>| <p style=\"color:green\">affiliation error: mpia.affiliation_verifications: 'Heidelberg' keyword not found.</p> |"
      ],
      "text/plain": [
       "<IPython.core.display.Markdown object>"
      ]
     },
     "metadata": {},
     "output_type": "display_data"
    },
    {
     "data": {
      "text/markdown": [
       "\n",
       "|||\n",
       "|---:|:---|\n",
       "| [![arXiv](https://img.shields.io/badge/arXiv-arXiv:2302.00053-b31b1b.svg)](https://arxiv.org/abs/arXiv:2302.00053) | **Hidden deep in the halo: Selection of a reduced proper motion halo  catalogue and mining retrograde streams in the velocity space**  |\n",
       "|| Akshara Viswanathan, et al. -- incl., <mark>Helmer H. Koppelman</mark>, <mark>Amina Helmi</mark> |\n",
       "|*Appeared on*| *2023-02-02*|\n",
       "|*Comments*| *17 pages. Accepted for publication in MNRAS. The catalogue has been submitted as supplementary material to CDS and MNRAS for use to do more wonderful science. Comments are welcomed and appreciated!*|\n",
       "|**Abstract**| The Milky Way halo is one of the few galactic haloes that provides a unique insight into galaxy formation by resolved stellar populations. Here, we present a catalogue of $\\sim$47 million halo stars selected independent of parallax and line-of-sight velocities, using a combination of Gaia DR3 proper motion and photometry by means of their reduced proper motion. We select high tangential velocity (halo) main sequence stars and fit distances to them using their simple colour-absolute-magnitude relation. This sample reaches out to $\\sim$21 kpc with a median distance of $6.6$ kpc thereby probing much further out than would be possible using reliable Gaia parallaxes. The typical uncertainty in their distances is $0.57_{-0.26}^{+0.56}$ kpc. Using the colour range $0.45<(G_0-G_\\mathrm{RP,0})<0.715$ where the main sequence is narrower, gives an even better accuracy down to $0.39_{-0.12}^{+0.18}$ kpc in distance. The median velocity uncertainty for stars within this colour range is 15.5 km/s. The distribution of these sources in the sky, together with their tangential component velocities, are very well-suited to study retrograde substructures. We explore the selection of two complex retrograde streams: GD-1 and Jhelum. For these streams, we resolve the gaps, wiggles and density breaks reported in the literature more clearly. We also illustrate the effect of the kinematic selection bias towards high proper motion stars and incompleteness at larger distances due to Gaia's scanning law. These examples showcase how the full RPM catalogue made available here can help us paint a more detailed picture of the build-up of the Milky Way halo. |\n",
       "|<p style=\"color:green\"> **ERROR** </p>| <p style=\"color:green\">affiliation error: mpia.affiliation_verifications: 'Heidelberg' keyword not found.</p> |"
      ],
      "text/plain": [
       "<IPython.core.display.Markdown object>"
      ]
     },
     "metadata": {},
     "output_type": "display_data"
    },
    {
     "data": {
      "text/markdown": [
       "\n",
       "|||\n",
       "|---:|:---|\n",
       "| [![arXiv](https://img.shields.io/badge/arXiv-arXiv:2302.00101-b31b1b.svg)](https://arxiv.org/abs/arXiv:2302.00101) | **AstroPix: CMOS pixels in space**  |\n",
       "|| Amanda L. Steinhebel, et al. -- incl., <mark>Henrike Fleischhack</mark> |\n",
       "|*Appeared on*| *2023-02-02*|\n",
       "|*Comments*| *Proceedings for PIXEL2022; Dec. 12-16 2022; Santa Fe, NM, USA*|\n",
       "|**Abstract**| Space-based gamma-ray telescopes such as the Fermi Large Area Telescope have used single sided silicon strip detectors to measure the position of charged particles produced by incident gamma rays with high resolution. At energies in the Compton regime and below, two dimensional position information within a single detector is required. Double sided silicon strip detectors are one option; however, this technology is difficult to fabricate and large arrays are susceptible to noise. This work outlines the development and implementation of monolithic CMOS active pixel silicon sensors, AstroPix, for use in future gamma-ray telescopes. Based upon detectors designed using the HVCMOS process at the Karlsruhe Institute of Technology, AstroPix has the potential to maintain the high energy and angular resolution required of a medium-energy gamma-ray telescope while reducing noise with the dual detection-and-readout capabilities of a CMOS chip. The status of AstroPix development and testing as well as outlook for application in future telescopes is presented. |\n",
       "|<p style=\"color:green\"> **ERROR** </p>| <p style=\"color:green\">affiliation error: mpia.affiliation_verifications: 'Heidelberg' keyword not found.</p> |"
      ],
      "text/plain": [
       "<IPython.core.display.Markdown object>"
      ]
     },
     "metadata": {},
     "output_type": "display_data"
    },
    {
     "data": {
      "text/markdown": [
       "\n",
       "|||\n",
       "|---:|:---|\n",
       "| [![arXiv](https://img.shields.io/badge/arXiv-arXiv:2302.00176-b31b1b.svg)](https://arxiv.org/abs/arXiv:2302.00176) | **Reanalysis of the X-ray burst associated FRB 200428 with Insight-HXMT  observations**  |\n",
       "|| M. Y. Ge, et al. -- incl., <mark>C. Z. Liu</mark>, <mark>S. N. Zhang</mark>, <mark>Z. Zhang</mark>, <mark>X. B. Li</mark>, <mark>C. K. Li</mark>, <mark>X. F. Li</mark>, <mark>R. Zhang</mark>, <mark>S. Zhang</mark> |\n",
       "|*Appeared on*| *2023-02-02*|\n",
       "|*Comments*| *11 pages, 7 figures*|\n",
       "|**Abstract**| A double-peak X-ray burst from the Galactic magnetar SGR J1935+2154 was discovered as associated with the two radio pulses of FRB 200428 separated by 28.97+-0.02 ms. Precise measurements of the timing and spectral properties of the X-ray bursts are helpful for understanding the physical origin of fast radio bursts (FRBs). In this paper, we have reconstructed some information about the hard X-ray events, which were lost because the High Energy X-ray Telescope (HE) onboard the Insight-HXMT mission was saturated by this extremely bright burst, and used the information to improve the temporal and spectral analyses of the X-ray burst. The arrival times of the two X-ray peaks by fitting the new Insight-HXMT/HE lightcurve with multi-Gaussian profiles are 2.77+-0.45 ms and 34.30+-0.56 ms after the first peak of FRB 200428, respectively, while these two parameters are 2.57+-0.52 ms and 32.5+-1.4 ms if the fitting profile is a fast rise and exponential decay function. The spectrum of the two X-ray peaks could be described by a cutoff power-law with cutoff energy ~60 keV and photon index ~1.4, the latter is softer than that of the underlying bright and broader X-ray burst when the two X-ray peaks appeared. |\n",
       "|<p style=\"color:green\"> **ERROR** </p>| <p style=\"color:green\">affiliation error: mpia.affiliation_verifications: 'Heidelberg' keyword not found.</p> |"
      ],
      "text/plain": [
       "<IPython.core.display.Markdown object>"
      ]
     },
     "metadata": {},
     "output_type": "display_data"
    },
    {
     "data": {
      "text/markdown": [
       "\n",
       "|||\n",
       "|---:|:---|\n",
       "| [![arXiv](https://img.shields.io/badge/arXiv-arXiv:2302.00197-b31b1b.svg)](https://arxiv.org/abs/arXiv:2302.00197) | **Minute-cadence Observations of the LAMOST Fields with the TMTS: III.  Statistic Study of the Flare Stars from the First Two Years**  |\n",
       "|| <mark>Qichun Liu</mark>, et al. -- incl., <mark>Jie Lin</mark>, <mark>Liyun Zhang</mark>, <mark>Liyang Chen</mark>, <mark>Fangzhou Guo</mark>, <mark>Gaici Li</mark>, <mark>Wenxiong Li</mark>, <mark>Han Lin</mark>, <mark>Weili Lin</mark>, <mark>Jialian Liu</mark>, <mark>Jicheng Zhang</mark>, <mark>Xinhan Zhang</mark> |\n",
       "|*Appeared on*| *2023-02-02*|\n",
       "|*Comments*| *17 pages, 15 figures, 2 tables. Accepted for publication in MNRAS. This paper will be published after paper II*|\n",
       "|**Abstract**| Tsinghua University-Ma Huateng Telescopes for Survey (TMTS) aims to detect fast-evolving transients in the Universe, which has led to the discovery of thousands of short-period variables and eclipsing binaries since 2020. In this paper, we present the observed properties of 125 flare stars identified by the TMTS within the first two years, with an attempt to constrain their eruption physics. As expected, most of these flares were recorded in late-type red stars with G_BP-G_RP > 2.0 mag, however, the flares associated with bluer stars tend to be on average more energetic and have broader profiles. The peak flux (F_peak) of the flare is found to depend strongly on the equivalent duration (ED) of the energy release, i.e., F_peak \\propto ED^{0.72 \\pm 0.04}, which is consistent with results derived from the Kepler and Evryscope samples. This relation is likely related to the magnetic loop emission, while -- for the more popular non-thermal electron heating model -- a specific time evolution may be required to generate this relation. We notice that flares produced by hotter stars have a flatter F_peak \\propto ED relation compared to that from cooler stars. This is related to the statistical discrepancy in light-curve shape of flare events with different colors. In spectra from LAMOST, we find that flare stars have apparently stronger H alpha emission than inactive stars, especially at the low temperature end, suggesting that chromospheric activity plays an important role in producing flares. On the other hand, the subclass having frequent flares are found to show H alpha emission of similar strength in their spectra to that recorded with only a single flare but similar effective temperature, implying that the chromospheric activity may not be the only trigger for eruptions. |\n",
       "|<p style=\"color:green\"> **ERROR** </p>| <p style=\"color:green\">affiliation error: mpia.affiliation_verifications: 'Heidelberg' keyword not found.</p> |"
      ],
      "text/plain": [
       "<IPython.core.display.Markdown object>"
      ]
     },
     "metadata": {},
     "output_type": "display_data"
    },
    {
     "data": {
      "text/markdown": [
       "\n",
       "|||\n",
       "|---:|:---|\n",
       "| [![arXiv](https://img.shields.io/badge/arXiv-arXiv:2302.00204-b31b1b.svg)](https://arxiv.org/abs/arXiv:2302.00204) | **Observational connection of non-thermal X-ray emission from pulsars with  their timing properties and thermal emission**  |\n",
       "|| Hsiang-Kuang Chang, et al. -- incl., <mark>Tzu-Hsuan Lin</mark> |\n",
       "|*Appeared on*| *2023-02-02*|\n",
       "|*Comments*| *13 pages, 11 figures, accepted by MNRAS*|\n",
       "|**Abstract**| The origin and radiation mechanisms of high energy emissions from pulsars have remained mysterious since their discovery. Here we report, based on a sample of 68 pulsars, observational connection of non-thermal X-ray emissions from pulsars with their timing properties and thermal emissions, which may provide some constraints on theoretical modeling. Besides strong correlations with the spin-down power $\\dot{E}$ and the magnetic field strength at the light cylinder $B_{\\rm lc}$, the non-thermal X-ray luminosity in 0.5 - 8 keV, $L_{\\rm p}$, represented by the power-law component in the spectral model, is found to be strongly correlated with the highest possible electric field strength in the polar gap, $E_{\\rm pc}$, of the pulsar. The spectral power index $\\Gamma_{\\rm p}$ of that power-law component is also found, for the first time in the literature, to strongly correlate with $\\dot{E}$, $B_{\\rm lc}$ and $E_{\\rm pc}$, thanks to the large sample. In addition, we found that $L_{\\rm p}$ can be well described by $L_{\\rm p}\\propto T^{5.96\\pm 0.64}R^{2.24\\pm 0.18}$, where $T$ and $R$ are the surface temperature and the emitting-region radius of the surface thermal emission, represented by the black-body component in the spectral model. $\\Gamma_{\\rm p}$, on the other hand, can be well described only when timing variables are included, and the relation is $\\Gamma_{\\rm p} = \\log(T^{-5.8\\pm 1.93}R^{-2.29\\pm 0.85}P^{-1.19\\pm 0.88}\\dot{P}^{0.94\\pm 0.44})$ plus a constant. These relations strongly suggest the existence of connections between surface thermal emission and electron-positron pair production in pulsar magnetospheres. |\n",
       "|<p style=\"color:green\"> **ERROR** </p>| <p style=\"color:green\">affiliation error: mpia.affiliation_verifications: 'Heidelberg' keyword not found.</p> |"
      ],
      "text/plain": [
       "<IPython.core.display.Markdown object>"
      ]
     },
     "metadata": {},
     "output_type": "display_data"
    },
    {
     "data": {
      "text/markdown": [
       "\n",
       "|||\n",
       "|---:|:---|\n",
       "| [![arXiv](https://img.shields.io/badge/arXiv-arXiv:2302.00212-b31b1b.svg)](https://arxiv.org/abs/arXiv:2302.00212) | **Rapid Rotation of an Erupting Prominence and the Associated Coronal Mass  Ejection on 13 May 2013**  |\n",
       "|| Yuhao Zhou, Haisheng Ji, <mark>Qingmin Zhang</mark> |\n",
       "|*Appeared on*| *2023-02-02*|\n",
       "|*Comments*| *28 pages, 20 figures, accepted for publication in Solar Physics, comments are welcome*|\n",
       "|**Abstract**| In this paper, we report the multiwavelength observations of an erupting prominence and the associated CME on 13 May 2013. The event occurs behind the western limb in the field of view of SDO/AIA. The prominence is supported by a highly twisted magnetic flux rope and shows rapid rotation in the counterclockwise direction during the rising motion. The rotation of the prominence lasts for $\\sim$47 minutes. The average period, angular speed, and linear speed are $\\sim$806 s, $\\sim$0.46 rad min$^{-1}$, and $\\sim$355 km s$^{-1}$, respectively. The total twist angle reaches $\\sim$7$\\pi$, which is considerably larger than the threshold for kink instability. Writhing motion during 17:42$-$17:46 UT is clearly observed by SWAP in 174 {\\AA} and EUVI on board the behind STEREO spacecraft in 304 {\\AA} after reaching an apparent height of $\\sim$405\\,Mm. Therefore, the prominence eruption is most probably triggered by kink instability. A pair of conjugate flare ribbons and post-flare loops are created and observed by STA/EUVI. The onset time of writhing motion is consistent with the commencement of the impulsive phase of the related flare. The 3D morphology and positions of the associated CME are derived using the graduated cylindrical shell (GCS) modeling. The kinetic evolution of the reconstructed CME is divided into a slow-rise phase ($\\sim$330 km s$^{-1}$) and a fast-rise phase ($\\sim$1005 km s$^{-1}$) by the writhing motion. The edge-on angular width of the CME is a constant (60$^{\\circ}$), while the face-on angular width increases from 96$^{\\circ}$ to 114$^{\\circ}$, indicating a lateral expansion. The latitude of the CME source region decreases slightly from $\\sim$18$^{\\circ}$ to $\\sim$13$^{\\circ}$, implying an equatorward deflection during propagation. |\n",
       "|<p style=\"color:green\"> **ERROR** </p>| <p style=\"color:green\">affiliation error: mpia.affiliation_verifications: 'Heidelberg' keyword not found.</p> |"
      ],
      "text/plain": [
       "<IPython.core.display.Markdown object>"
      ]
     },
     "metadata": {},
     "output_type": "display_data"
    },
    {
     "data": {
      "text/markdown": [
       "\n",
       "|||\n",
       "|---:|:---|\n",
       "| [![arXiv](https://img.shields.io/badge/arXiv-arXiv:2302.00246-b31b1b.svg)](https://arxiv.org/abs/arXiv:2302.00246) | **Target of Opportunity Observations Detectability of Kilonova with WFST**  |\n",
       "|| <mark>Zheng-Yan Liu</mark>, et al. -- incl., <mark>Zhe-Yu Lin</mark>, <mark>Wen Zhao</mark> |\n",
       "|*Appeared on*| *2023-02-02*|\n",
       "|*Comments*| *18 pages, 11 figures*|\n",
       "|**Abstract**| Kilonovae are approximately thermal transients, produced by mergers of binary neutron stars (BNSs) and NS-black hole binaries. As the optical counterpart of gravitational-wave event GW170817, AT2017gfo is the first kilonova detected with smoking-gun evidence. Its observation offers vital information for constraining the Hubble constant, the source of Galactic $r$-process enrichment, and the equations of state of neutron stars. The 2.5-meter Wide-Field Survey Telescope (WFST) operates at six bands (u, g, r, i, z, w), spanning from 320 to 925 nm. It will be completed in the first half of 2023, and with a field-of-view diameter of 3 degrees, aims to detect kilonovae in the near future. In this article, considering the influence of the host galaxies and sky brightness, we generate simulated images to investigate WFST's ability to detect AT2017gfo-like kilonovae. Due to their spectra, host galaxies can significantly impact kilonova detection at a longer wavelength. When kilonovae are at peak luminosity, we find that WFST performs better in g- and r-bands and can detect 90\\% (50\\%) kilonovae at a luminosity distance of 248 Mpc (338 Mpc) with 30 s exposures. Furthermore, to reflect actual efficiency under target-of-opportunity observations, we calculate the total time of follow-up under various localization areas and distances. We find that if the localization areas of most BNS events detected during O4 are hundreds of square degrees, WFST is expected to roughly find 30\\% kilonovae in the first two nights each year during O4 period. |\n",
       "|<p style=\"color:green\"> **ERROR** </p>| <p style=\"color:green\">affiliation error: mpia.affiliation_verifications: 'Heidelberg' keyword not found.</p> |"
      ],
      "text/plain": [
       "<IPython.core.display.Markdown object>"
      ]
     },
     "metadata": {},
     "output_type": "display_data"
    },
    {
     "data": {
      "text/markdown": [
       "\n",
       "|||\n",
       "|---:|:---|\n",
       "| [![arXiv](https://img.shields.io/badge/arXiv-arXiv:2302.00300-b31b1b.svg)](https://arxiv.org/abs/arXiv:2302.00300) | **Discovery of a spatially and kinematically resolved 55~kpc-scale  superbubble inflated by an intermediate redshift non-BAL quasar**  |\n",
       "|| <mark>Qinyuan Zhao</mark>, Junfeng Wang |\n",
       "|*Appeared on*| *2023-02-02*|\n",
       "|*Comments*| *10 pages, 5 figures,Accepted for publication in the ApJ Letters*|\n",
       "|**Abstract**| We report on the discovery of a rare case of spatially and kinematically resolved galactic scale outflow at intermediate redshift, based on VLT/MUSE optical integral field spectroscopic observation of the quasar HE 0238$-$1904. This classical non-broad absorption line (non-BAL) quasar at $z=0.631$ remains underexplored in its optical emission lines, though its UV absorption lines are well-studied. We identify a superbubble driven by HE 0238$-$1904 from the emission line morphology, line ratio diagnostics and kinematics, showing a one-sided outflow reaching a projected distance of $R \\sim 55$ kpc from the nucleus. The bulk of the ionized gas, with a characteristic mass $M \\sim 10^{8}~\\rm M_{\\odot}$, is blueshifted by $v \\approx 700$ km s$^{-1}$ with respect to the quasar systemic velocity. The outflows detected using absorption line and the emission line are likely stratified components of different spatial scale and velocity in the ionized phase outflow. Although feedback in HE 0238$-$1904 is taking place on kpc scale, the kinetic power of the outflow at 55 kpc ($\\ll 0.1\\% L_{bol}$) implies that it is inadequate to regulate effectively the evolution of the host galaxy at this large scale. |\n",
       "|<p style=\"color:green\"> **ERROR** </p>| <p style=\"color:green\">affiliation error: mpia.affiliation_verifications: 'Heidelberg' keyword not found.</p> |"
      ],
      "text/plain": [
       "<IPython.core.display.Markdown object>"
      ]
     },
     "metadata": {},
     "output_type": "display_data"
    },
    {
     "data": {
      "text/markdown": [
       "\n",
       "|||\n",
       "|---:|:---|\n",
       "| [![arXiv](https://img.shields.io/badge/arXiv-arXiv:2302.00322-b31b1b.svg)](https://arxiv.org/abs/arXiv:2302.00322) | **First measurements of periodicities and anisotropies of cosmic ray flux  observed with a water-Cherenkov detector at the Marambio Antarctic base**  |\n",
       "|| Santos Noelia, et al. -- incl., <mark>Asorey Hernán</mark> |\n",
       "|*Appeared on*| *2023-02-02*|\n",
       "|*Comments*| *to be published in Advances in Space Research*|\n",
       "|**Abstract**| A new water-Cherenkov radiation detector, located at the Argentine Marambio Antarctic Base (64.24S-56.62W), has been monitoring the variability of galactic cosmic ray (GCR) flux since 2019. One of the main aims is to provide experimental data necessary to study interplanetary transport of GCRs during transient events at different space/time scales. In this paper we present the detector and analyze observations made during one full year. After the analysis and correction of the GCR flux variability due to the atmospheric conditions (pressure and temperature), a study of the periodicities is performed in order to analyze modulations due to heliospheric phenomena. We can observe two periods: (a) 1 day, associated with the Earth's rotation combined with the spatial anisotropy of the GCR flux; and (b) $\\sim$ 30 days due to solar impact of stable solar structures combined with the rotation of the Sun. From a superposed epoch analysis, and considering the geomagnetic effects, the mean diurnal amplitude is $\\sim$ 0.08% and the maximum flux is observed in $\\sim$ 15 hr local time (LT) direction in the interplanetary space. In such a way, we determine the capability of Neurus to observe anisotropies and other interplanetary modulations on the GCR flux arriving at the Earth. |\n",
       "|<p style=\"color:green\"> **ERROR** </p>| <p style=\"color:green\">affiliation error: mpia.affiliation_verifications: 'Heidelberg' keyword not found.</p> |"
      ],
      "text/plain": [
       "<IPython.core.display.Markdown object>"
      ]
     },
     "metadata": {},
     "output_type": "display_data"
    },
    {
     "data": {
      "text/markdown": [
       "\n",
       "|||\n",
       "|---:|:---|\n",
       "| [![arXiv](https://img.shields.io/badge/arXiv-arXiv:2302.00335-b31b1b.svg)](https://arxiv.org/abs/arXiv:2302.00335) | **Contactless actuators and pyramid wavefront sensor, the SPLATT concept  for space active optics: an overview of the project and the last laboratory  results**  |\n",
       "|| Runa Briguglio, et al. -- incl., <mark>Enrico Pinna</mark> |\n",
       "|*Appeared on*| *2023-02-02*|\n",
       "|*Comments*| *10 pages, 11 figures. Proceeding of the International Conference on Space Optics ICSO2022, 14th edition, held in Dubrovnik (Croatia) in 3-7 october 2022*|\n",
       "|**Abstract**| In the last few years the concept of an active space telescope has been greatly developed, to meet demanding requirements with a substantial reduction of tolerances, risks and costs. This is the frame of the LATT project (an ESA TRP) and its follow-up SPLATT (an INAF funded R&D project). Within the SPLATT activities, we outline a novel approach and investigate, both via simulations and in the optical laboratory, two main elements: an active segmented primary with contactless actuators and a pyramid wavefront sensor (PWFS) to drive the correction chain. The key point is the synergy between them: the sensitivity of the PWFS and the intrinsic stability of a contactless-actuated mirror segment. Voice-coil, contactless actuators are in facts a natural decoupling layer between the payload and the optical surface and can suppress the high frequency vibration as we verified in the lab. We subjected a 40 cm diameter prototype with 19 actuators to an externally injected vibration spectrum; we then measured optically the reduction of vibrations when the optical surface is floating controlled by the actuators, thus validating the concept at the first stage of the design. The PWFS, which is largely adopted on ground-based telescope, is a pupil-conjugated sensor and offers a user-selectable sampling and capture range, in order to match different use cases; it is also more sensitive than Shack-Hartmann sensor especially at the low-mid spatial scales. We run a set of numerical simulations with the PWFS measuring the misalignment and phase steps of a JWST-like primary mirrors: we investigated the PWFS sensitivity in the sub-nanometer regime in presence of photon and detector noise, and with guide star magnitudes in the range 8 to 14. In the paper we discuss the outcomes of the project and present a possible roadmap for further developments. |\n",
       "|<p style=\"color:green\"> **ERROR** </p>| <p style=\"color:green\">affiliation error: mpia.affiliation_verifications: 'Heidelberg' keyword not found.</p> |"
      ],
      "text/plain": [
       "<IPython.core.display.Markdown object>"
      ]
     },
     "metadata": {},
     "output_type": "display_data"
    },
    {
     "data": {
      "text/markdown": [
       "\n",
       "|||\n",
       "|---:|:---|\n",
       "| [![arXiv](https://img.shields.io/badge/arXiv-arXiv:2302.00366-b31b1b.svg)](https://arxiv.org/abs/arXiv:2302.00366) | **CzSL: A new learning paradigm for astronomical image classification with  citizen science**  |\n",
       "|| Manuel Jimenez, Emilio J. Alfaro, <mark>Mercedes Torres Torres</mark>, Isaac Triguero |\n",
       "|*Appeared on*| *2023-02-02*|\n",
       "|*Comments*| **|\n",
       "|**Abstract**| Citizen science is gaining popularity as a valuable tool for labelling large collections of astronomical images by the general public. This is often achieved at the cost of poorer quality classifications made by amateur participants, which are usually verified by employing smaller data sets labelled by professional astronomers. Despite its success, citizen science alone will not be able to handle the classification of current and upcoming surveys. To alleviate this issue, citizen science projects have been coupled with machine learning techniques in pursuit of a more robust automated classification. However, existing approaches have neglected the fact that, apart from the data labelled by amateurs, (limited) expert knowledge of the problem is also available along with vast amounts of unlabelled data that have not yet been exploited within a unified learning framework. This paper presents an innovative learning paradigm for citizen science capable of taking advantage of expert- and amateur-labelled data, and unlabelled data. The proposed methodology first learns from unlabelled data with a convolutional autoencoder and then exploits amateur and expert labels via the pre-training and fine-tuning of a convolutional neural network, respectively. We focus on the classification of galaxy images from the Galaxy Zoo project, from which we test binary, multi-class, and imbalanced classification scenarios. The results demonstrate that our solution is able to improve classification performance compared to a set of baseline approaches, deploying a promising methodology for learning from different confidence levels in data labelling. |\n",
       "|<p style=\"color:green\"> **ERROR** </p>| <p style=\"color:green\">affiliation error: mpia.affiliation_verifications: 'Heidelberg' keyword not found.</p> |"
      ],
      "text/plain": [
       "<IPython.core.display.Markdown object>"
      ]
     },
     "metadata": {},
     "output_type": "display_data"
    },
    {
     "data": {
      "text/markdown": [
       "\n",
       "|||\n",
       "|---:|:---|\n",
       "| [![arXiv](https://img.shields.io/badge/arXiv-arXiv:2302.00399-b31b1b.svg)](https://arxiv.org/abs/arXiv:2302.00399) | **Survey for Distant Solar Twins (SDST) -- III. Identification of new  solar twin and solar analogue stars**  |\n",
       "|| Christian Lehmann, et al. -- incl., <mark>Fan Liu</mark>, <mark>Daniel Smith</mark> |\n",
       "|*Appeared on*| *2023-02-02*|\n",
       "|*Comments*| *12 pages, 12 figures. Accepted by MNRAS. The full table of stars used in this work can be found at this https URL*|\n",
       "|**Abstract**| The Survey for Distant Solar Twins (SDST) aims to find stars very similar to the Sun at distances 1-4 kpc, several times more distant than any currently known solar twins and analogues. The goal is to identify the best stars with which to test whether the fine-structure constant, alpha, varies with dark matter density in our Galaxy. Here we use EPIC, our line-by-line differential technique, to measure the stellar parameters - effective temperature Teff, surface gravity log g, metallicity [Fe/H] - from moderate resolution (R < 32,000) spectra of 877 solar twin and analogue candidates (547 at 1-4 kpc) observed with the HERMES spectrograph on the Anglo-Australian Telescope. These are consistent with expectations for Teff and log g from photometry, and for [Fe/H] from the Besancon stellar population model. EPIC provides small enough uncertainties (~90 K, 0.08 dex, 0.05 dex, respectively), even at the low signal-to-noise ratios available (S/N >~ 25 per pixel), to identify 299 new solar analogues (> 90% confidence), and 20 solar twins (>50% confidence), 206 and 12 of which are at 1-4 kpc. By extending EPIC to measure line broadening and lithium abundance from HERMES spectra, and with ages derived from isochrone fitting with our stellar parameters, we identify 174 solar analogues at 1-4 kpc which are relatively inactive, slowly rotating, and with no evidence of spectroscopic binarity. These are the preferred targets for follow-up spectroscopy to measure alpha. |\n",
       "|<p style=\"color:green\"> **ERROR** </p>| <p style=\"color:green\">affiliation error: mpia.affiliation_verifications: 'Heidelberg' keyword not found.</p> |"
      ],
      "text/plain": [
       "<IPython.core.display.Markdown object>"
      ]
     },
     "metadata": {},
     "output_type": "display_data"
    },
    {
     "data": {
      "text/markdown": [
       "\n",
       "|||\n",
       "|---:|:---|\n",
       "| [![arXiv](https://img.shields.io/badge/arXiv-arXiv:2302.00445-b31b1b.svg)](https://arxiv.org/abs/arXiv:2302.00445) | **Structure and Kinematics of Sh2-138 -- A distant hub-filament system in  the outer Galactic plane**  |\n",
       "|| <mark>Kshitiz Mallick</mark>, et al. |\n",
       "|*Appeared on*| *2023-02-02*|\n",
       "|*Comments*| *16 Pages, 10 Figures, Accepted for publication in The Astrophysical Journal*|\n",
       "|**Abstract**| We present a molecular line study of the Sh2-138 (IRAS 22308+5812) hub-filament system with an aim to investigate its structure and kinematics. Archival CO molecular line data from the Canadian Galactic Plane Survey (CO(J=1-0)) for the wider region (50arcminx50arcmin) and the James Clerk Maxwell Telescope (CO(3-2), 13CO(3-2), and C18O(3-2)) for the central portion (5arcminx5arcmin) have been utilised. Analysis of the CO(1-0) spectra for the extended region in conjunction with the hub and filament identification using column density map and the getsf tool, respectively, reveals a complex structure with the spectral extraction for the central position displaying multiple velocity components. Based on the Herschel 70 micron warm dust emission, one of the filaments in the extended region was inferred to be associated with active star formation, and is host to a Bolocam 1.1 mm clump of 1606 Msun. Integrated intensity map of 13CO(3-2) emission, constructed from clumps detected at above 5sigma in position-position-velocity space, reveals three filamentary structures (labelled W-f, SW-f, and SE-f) in the central portion. Velocity gradients observed in 13CO(3-2) position-velocity slices point to longitudinal gas flow along the filaments into the central region. Filaments W-f, SW-f, and SE-f were calculated to have observed line masses of 32, 33.5, and 50 Msun/pc , respectively. The cloud was found to be dominated by supersonic and non-thermal motions, with high Mach numbers (>3) and low thermal to non-thermal pressure ratio (0.01-0.1). |\n",
       "|<p style=\"color:green\"> **ERROR** </p>| <p style=\"color:green\">affiliation error: mpia.affiliation_verifications: 'Heidelberg' keyword not found.</p> |"
      ],
      "text/plain": [
       "<IPython.core.display.Markdown object>"
      ]
     },
     "metadata": {},
     "output_type": "display_data"
    },
    {
     "data": {
      "text/markdown": [
       "\n",
       "|||\n",
       "|---:|:---|\n",
       "| [![arXiv](https://img.shields.io/badge/arXiv-arXiv:2302.00497-b31b1b.svg)](https://arxiv.org/abs/arXiv:2302.00497) | **The data center for the X-ray spectrometer/imager STIX onboard Solar  Orbiter**  |\n",
       "|| Hualin Xiao, et al. -- incl., <mark>Olivier Limousin</mark> |\n",
       "|*Appeared on*| *2023-02-02*|\n",
       "|*Comments*| *18 pages,submitted to A&A*|\n",
       "|**Abstract**| The Spectrometer/Telescope for Imaging X-rays (STIX) onboard Solar Orbiter observes solar X-ray emission in the range of 4 to 150 keV and produces spectra and images of solar flares over a wide range of flare magnitudes. During nominal operation, STIX continuously generates data. A constant data flow requires fully automated data processing pipelines to process and analyze and a data platform to manage, visualize, and distribute the data products to the scientific community. The STIX Data Center has been built to fulfill these needs. In this paper, we outline its main components to help the community better understand the tools and data it provides. Methods. The STIX Data Center is operated at the University of Applied Sciences and Arts Northwestern Switzerland (FHNW) and consists of automated processing pipelines and a data platform. The pipelines process STIX telemetry data, perform common analysis tasks and generate data products at different processing levels. They have been designed to operate fully automatically with minimal human intervention. The data platform provides web-based user interfaces and application programmable interfaces for searching and downloading STIX data products. The STIX Data Center has been operating successfully for more than two years. The platform facilitates instrument operations and provides vital support to STIX data users. |\n",
       "|<p style=\"color:green\"> **ERROR** </p>| <p style=\"color:green\">affiliation error: mpia.affiliation_verifications: 'Heidelberg' keyword not found.</p> |"
      ],
      "text/plain": [
       "<IPython.core.display.Markdown object>"
      ]
     },
     "metadata": {},
     "output_type": "display_data"
    },
    {
     "data": {
      "text/markdown": [
       "\n",
       "|||\n",
       "|---:|:---|\n",
       "| [![arXiv](https://img.shields.io/badge/arXiv-arXiv:2302.00531-b31b1b.svg)](https://arxiv.org/abs/arXiv:2302.00531) | **Quantifying errors in 3D CME parameters derived from synthetic data  using white-light reconstruction techniques**  |\n",
       "|| Christine Verbekea, et al. -- incl., <mark>Hebe Cremades</mark> |\n",
       "|*Appeared on*| *2023-02-02*|\n",
       "|*Comments*| **|\n",
       "|**Abstract**| (Shortened version) Current efforts in space weather forecasting of CMEs have been focused on predicting their arrival time and magnetic structure. To make predictions, methods have been developed to derive the true CME speed, size and position, among others. Difficulties in determining input parameters for CME forecasting arise from the lack of direct measurements of the coronal magnetic fields and uncertainties in estimating the CME 3D geometric and kinematic parameters. White-light coronagraph images are usually employed by a variety of CME reconstruction techniques. We explore how subjectivity affects the 3D CME parameters that are obtained from the GCS reconstruction technique. We have designed two different synthetic scenarios where the ``true'' geometric parameters are known in order to quantify such uncertainties for the first time. We explore this as follows: 1) Using the ray-tracing option from the GCS model software, and 2) Using 3D MHD simulation data from the MAS code. Our experiment includes different viewing configurations using single and multiple viewpoints. CME reconstructions using a single viewpoint had the largest errors and error ranges for both synthetic GCS and simulated MHD white-light data. Increasing the number of viewpoints to two, the errors decreased by about 4$^\\circ$ in latitude, 22$^\\circ$ in longitude, 14$^\\circ$ in tilt, and 10$^\\circ$ in half-angle, pointing towards a need for at least two viewpoints. We found the following CME parameter error bars as a starting point for quantifying the minimum error in CME parameters from white-light reconstructions: $\\Delta\\theta$ (latitude)=${6^\\circ}$, $\\Delta\\phi$ (longitude)=${11^\\circ}$, $\\Delta\\gamma$ (tilt)=${25^\\circ}$, $\\Delta\\alpha$ (half-angle)=${10^\\circ}$, $\\Delta h$ (height)=$0.6$\\,$R_{\\odot}$, and $\\Delta\\kappa$ (ratio)=$0.1$. |\n",
       "|<p style=\"color:green\"> **ERROR** </p>| <p style=\"color:green\">affiliation error: mpia.affiliation_verifications: 'Heidelberg' keyword not found.</p> |"
      ],
      "text/plain": [
       "<IPython.core.display.Markdown object>"
      ]
     },
     "metadata": {},
     "output_type": "display_data"
    },
    {
     "data": {
      "text/markdown": [
       "\n",
       "|||\n",
       "|---:|:---|\n",
       "| [![arXiv](https://img.shields.io/badge/arXiv-arXiv:2302.00027-b31b1b.svg)](https://arxiv.org/abs/arXiv:2302.00027) | **A high-mass X-ray binary descended from an ultra-stripped supernova**  |\n",
       "|| Noel D. Richardson, et al. -- incl., <mark>Herbert Pablo</mark> |\n",
       "|*Appeared on*| *2023-02-02*|\n",
       "|*Comments*| *published in Nature, February 1, 2023*|\n",
       "|**Abstract**| Ultra-stripped supernovae are different from other terminal explosions of massive stars, as they show little or no ejecta from the actual supernova event. They are thought to occur in massive binary systems after the exploding star has lost its surface through interactions with its companion. Such supernovae produce little to no kick, leading to the formation of a neutron star without loss of the binary companion, which itself may also evolve into another neutron star. Here we show that a recently discovered high-mass X-ray binary, CPD -29 2176 (CD -29 5159; SGR 0755-2933), has an evolutionary history that shows the neutron star component formed during an ultra-stripped supernova. The binary has orbital elements that are similar both in period and in eccentricity to one of 14 Be X-Ray binaries that have both known orbital periods and eccentricities. The identification of the progenitors systems for ultra-stripped supernovae is necessary as their evolution pathways leads to the formation of a binary neutron star systems. Binary neutron stars, such as the system that produced the kilonova GW170817 that was observed with both electromagnetic and gravitational energy, are known to produce a large quantity of heavy elements. |\n",
       "|<p style=\"color:red\"> **ERROR** </p>| <p style=\"color:red\">latex error not a gzip file</p> |"
      ],
      "text/plain": [
       "<IPython.core.display.Markdown object>"
      ]
     },
     "metadata": {},
     "output_type": "display_data"
    },
    {
     "data": {
      "text/markdown": [
       "\n",
       "|||\n",
       "|---:|:---|\n",
       "| [![arXiv](https://img.shields.io/badge/arXiv-arXiv:2302.00289-b31b1b.svg)](https://arxiv.org/abs/arXiv:2302.00289) | **Solar radio bursts observations by Egypt- Alexandria CALLISTO  spectrometer: First results**  |\n",
       "|| F. N. Minta, et al. -- incl., <mark>A. Mahrous</mark> |\n",
       "|*Appeared on*| *2023-02-02*|\n",
       "|*Comments*| *15 pages, 6 figures. Adv Sp Res (2022)*|\n",
       "|**Abstract**| The newly installed CALLISTO spectrometer, hosted by the Department of Space Environment, Institute of Basic and Applied Sciences- EJUST, commenced operation on August 14, 2021. The system contains a cross dipole long-wavelength array antenna with high sensitivity to monitor solar radio transients. Its antenna was strategically positioned and appeared to be in the center of the CALLISTO network of spectrometers. Moreover, in the northern section of Africa, the Egypt-Alexandria CALLISTO and ALGERIA-CRAAG stations are the only ones operating. There are no stations in the West African region, while stations in the eastern part of Africa are not working. Thus, Egypt- Alexandria station serves as a reference for other stations within the e-CALLISTO network. Despite the low solar activity, the instrument detected several solar radio bursts not limited to type II, type III, and type V. A vigorous case study was conducted on two selected radio burst events to validate the authenticity of the recorded events. Other solar radio stations at different geographical locations recorded all the radio bursts detected by the spectrometer. The case study included brief analyses that indicated a type II radio burst observed on October 09, 2021, between 06:30 and 07:00 UT, was associated with an M1.6 solar flare located at N18E08 within NOAA-AR 12882 and a CME with a shock front speed of ~978 km/s. However, the type III radio burst is neither CME nor solar flare associated. These analyses examine the instrument's capacity to provide real-time solar radio transient data 24 hours a day to mitigate the challenges of data gaps faced in the African continent. Hence, the instrument has become an integral part of space weather monitoring and forecasting over the region and other parts of the globe. |\n",
       "|<p style=\"color:red\"> **ERROR** </p>| <p style=\"color:red\">latex error not a gzip file</p> |"
      ],
      "text/plain": [
       "<IPython.core.display.Markdown object>"
      ]
     },
     "metadata": {},
     "output_type": "display_data"
    }
   ],
   "source": [
    "import datetime\n",
    "today = str(datetime.date.today())\n",
    "logfile = f\"_build/html/logs/log-{today}.md\"\n",
    "\n",
    "\n",
    "with open(logfile, 'w') as logs:\n",
    "    # Success\n",
    "    logs.write(f'# Arxiv on Deck 2: Logs - {today}\\n\\n')\n",
    "    logs.write(\"\"\"* Arxiv had {0:,d} new papers\\n\"\"\".format(len(new_papers)))\n",
    "    logs.write(\"\"\"    * {0:,d} with possible author matches\\n\\n\"\"\".format(len(candidates)))\n",
    "    logs.write(\"## Sucessful papers\\n\\n\")\n",
    "    display(Markdown(\"## Successful papers\"))\n",
    "    success = [k[0] for k in documents]\n",
    "    for candid in candidates:\n",
    "        if candid['identifier'].split(':')[-1] in success:\n",
    "            display(candid)\n",
    "            logs.write(candid.generate_markdown_text() + '\\n\\n')\n",
    "\n",
    "    ## failed\n",
    "    logs.write(\"## Failed papers\\n\\n\")\n",
    "    display(Markdown(\"## Failed papers\"))\n",
    "    failed = sorted(failed, key=lambda x: x[1])\n",
    "    current_reason = \"\"\n",
    "    for paper, reason in failed:\n",
    "        if 'affiliation' in reason:\n",
    "            color = 'green'\n",
    "        else:\n",
    "            color = 'red'\n",
    "        data = Markdown(\n",
    "                paper.generate_markdown_text() + \n",
    "                f'\\n|<p style=\"color:{color:s}\"> **ERROR** </p>| <p style=\"color:{color:s}\">{reason:s}</p> |'\n",
    "               )\n",
    "        if reason != current_reason:\n",
    "            logs.write(f'### {reason:s} \\n\\n')\n",
    "            current_reason = reason\n",
    "        logs.write(data.data + '\\n\\n')\n",
    "        \n",
    "        # only display here the important errors (all in logs)\n",
    "        # if color in ('red',):\n",
    "        display(data)"
   ]
  },
  {
   "cell_type": "markdown",
   "id": "472d20ee",
   "metadata": {
    "papermill": {
     "duration": 0.009061,
     "end_time": "2023-02-02T04:07:56.311139",
     "exception": false,
     "start_time": "2023-02-02T04:07:56.302078",
     "status": "completed"
    },
    "tags": []
   },
   "source": [
    "## Export documents\n",
    "\n",
    "We now write the .md files and export relevant images"
   ]
  },
  {
   "cell_type": "code",
   "execution_count": 7,
   "id": "d426aed9",
   "metadata": {
    "execution": {
     "iopub.execute_input": "2023-02-02T04:07:56.335936Z",
     "iopub.status.busy": "2023-02-02T04:07:56.335386Z",
     "iopub.status.idle": "2023-02-02T04:07:56.342646Z",
     "shell.execute_reply": "2023-02-02T04:07:56.341921Z"
    },
    "papermill": {
     "duration": 0.025097,
     "end_time": "2023-02-02T04:07:56.345442",
     "exception": false,
     "start_time": "2023-02-02T04:07:56.320345",
     "status": "completed"
    },
    "tags": []
   },
   "outputs": [],
   "source": [
    "def export_markdown_summary(md: str, md_fname:str, directory: str):\n",
    "    \"\"\"Export MD document and associated relevant images\"\"\"\n",
    "    import os\n",
    "    import shutil\n",
    "    import re\n",
    "\n",
    "    if (os.path.exists(directory) and not os.path.isdir(directory)):\n",
    "        raise RuntimeError(f\"a non-directory file exists with name {directory:s}\")\n",
    "\n",
    "    if (not os.path.exists(directory)):\n",
    "        print(f\"creating directory {directory:s}\")\n",
    "        os.mkdir(directory)\n",
    "\n",
    "    fig_fnames = (re.compile(r'\\[Fig.*\\]\\((.*)\\)').findall(md) + \n",
    "                  re.compile(r'\\<img src=\"([^>\\s]*)\"[^>]*/>').findall(md))\n",
    "    for fname in fig_fnames:\n",
    "        if 'http' in fname:\n",
    "            # No need to copy online figures\n",
    "            continue\n",
    "        destdir = os.path.join(directory, os.path.dirname(fname))\n",
    "        destfname = os.path.join(destdir, os.path.basename(fname))\n",
    "        try:\n",
    "            os.makedirs(destdir)\n",
    "        except FileExistsError:\n",
    "            pass\n",
    "        shutil.copy(fname, destfname)\n",
    "    with open(os.path.join(directory, md_fname), 'w') as fout:\n",
    "        fout.write(md)\n",
    "    print(\"exported in \", os.path.join(directory, md_fname))\n",
    "    [print(\"    + \" + os.path.join(directory,fk)) for fk in fig_fnames]"
   ]
  },
  {
   "cell_type": "code",
   "execution_count": 8,
   "id": "014d04a4",
   "metadata": {
    "execution": {
     "iopub.execute_input": "2023-02-02T04:07:56.368250Z",
     "iopub.status.busy": "2023-02-02T04:07:56.367455Z",
     "iopub.status.idle": "2023-02-02T04:07:56.377285Z",
     "shell.execute_reply": "2023-02-02T04:07:56.376681Z"
    },
    "papermill": {
     "duration": 0.022795,
     "end_time": "2023-02-02T04:07:56.378827",
     "exception": false,
     "start_time": "2023-02-02T04:07:56.356032",
     "status": "completed"
    },
    "tags": []
   },
   "outputs": [
    {
     "name": "stdout",
     "output_type": "stream",
     "text": [
      "exported in  _build/html/2302.00450.md\n",
      "    + _build/html/tmp_2302.00450/./ngc3351-mom0_HCN32.png\n",
      "    + _build/html/tmp_2302.00450/./ngc3627-mom0_HCN32.png\n",
      "    + _build/html/tmp_2302.00450/./ngc4321-mom0_HCN32.png\n",
      "    + _build/html/tmp_2302.00450/./ngc3351-mom0_HCO+32.png\n",
      "    + _build/html/tmp_2302.00450/./ngc3627-mom0_HCO+32.png\n",
      "    + _build/html/tmp_2302.00450/./ngc4321-mom0_HCO+32.png\n",
      "    + _build/html/tmp_2302.00450/./ngc3351-strict_mom0_co21-high_res.png\n",
      "    + _build/html/tmp_2302.00450/./ngc3627-strict_mom0_co21-high_res.png\n",
      "    + _build/html/tmp_2302.00450/./ngc4321-strict_mom0_co21-high_res.png\n",
      "    + _build/html/tmp_2302.00450/./trends_all_galaxies-line_ratios.png\n",
      "    + _build/html/tmp_2302.00450/./histogram_ratios.png\n"
     ]
    }
   ],
   "source": [
    "for paper_id, md in documents:\n",
    "    export_markdown_summary(md, f\"{paper_id:s}.md\", '_build/html/')"
   ]
  },
  {
   "cell_type": "markdown",
   "id": "f087a0a7",
   "metadata": {
    "papermill": {
     "duration": 0.010531,
     "end_time": "2023-02-02T04:07:56.399856",
     "exception": false,
     "start_time": "2023-02-02T04:07:56.389325",
     "status": "completed"
    },
    "tags": []
   },
   "source": [
    "## Display the papers\n",
    "\n",
    "Not necessary but allows for a quick check."
   ]
  },
  {
   "cell_type": "code",
   "execution_count": 9,
   "id": "fd25f625",
   "metadata": {
    "execution": {
     "iopub.execute_input": "2023-02-02T04:07:56.422907Z",
     "iopub.status.busy": "2023-02-02T04:07:56.421999Z",
     "iopub.status.idle": "2023-02-02T04:07:56.428135Z",
     "shell.execute_reply": "2023-02-02T04:07:56.427287Z"
    },
    "papermill": {
     "duration": 0.019603,
     "end_time": "2023-02-02T04:07:56.429907",
     "exception": false,
     "start_time": "2023-02-02T04:07:56.410304",
     "status": "completed"
    },
    "scrolled": false,
    "tags": []
   },
   "outputs": [
    {
     "data": {
      "text/markdown": [
       "<div class=\"macros\" style=\"visibility:hidden;\">\n",
       "$\\newcommand{\\ensuremath}{}$\n",
       "$\\newcommand{\\xspace}{}$\n",
       "$\\newcommand{\\object}[1]{\\texttt{#1}}$\n",
       "$\\newcommand{\\farcs}{{.}''}$\n",
       "$\\newcommand{\\farcm}{{.}'}$\n",
       "$\\newcommand{\\arcsec}{''}$\n",
       "$\\newcommand{\\arcmin}{'}$\n",
       "$\\newcommand{\\ion}[2]{#1#2}$\n",
       "$\\newcommand{\\textsc}[1]{\\textrm{#1}}$\n",
       "$\\newcommand{\\hl}[1]{\\textrm{#1}}$\n",
       "$\\newcommand{\\figcita}[1]{Fig. \\ref{#1}}$\n",
       "$\\newcommand{\\tabcita}[1]{Table \\ref{#1}}$\n",
       "$\\newcommand{\\refe}[1]{{\\hypersetup{hidelinks}\\hyperref[fig_point]{\\color{blue}#1}}}$\n",
       "$\\newcommand{\\ngc}[1]{\\object{NGC #1}}$\n",
       "$\\newcommand{\\dd}[0]{ \\text{d}}$\n",
       "$\\newcommand{\\hcnthree}[0]{HCN(3--2)\\xspace}$\n",
       "$\\newcommand{\\hcnfour}[0]{HCN(4--3)\\xspace}$\n",
       "$\\newcommand{\\hcopthree}[0]{HCO^+(3--2)\\xspace}$\n",
       "$\\newcommand{\\hcopfour}[0]{HCO^+(4--3)\\xspace}$\n",
       "$\\newcommand{\\hcnone}[0]{HCN(1--0)\\xspace}$\n",
       "$\\newcommand{\\hcopone}[0]{HCO^+(1--0)\\xspace}$\n",
       "$\\newcommand{\\cotwo}[0]{CO(2--1)\\xspace}$\n",
       "$\\newcommand{\\coone}[0]{CO(1--0)\\xspace}$\n",
       "$\\newcommand{\\tkin}[0]{T_\\text{K}}$\n",
       "$\\newcommand{\\mach}[0]{\\mathcal{M}}$\n",
       "$\\newcommand{\\alphapl}[0]{\\alpha_\\text{PL}}$\n",
       "$\\newcommand{\\meann}[0]{\\bar{n}}$\n",
       "$\\newcommand{\\vgrad}[0]{\\nabla v}$\n",
       "$\\newcommand{\\sstar}[0]{\\Sigma_\\textrm{star}}$\n",
       "$\\newcommand{\\ssfr}[0]{\\Sigma_\\text{SFR}}$\n",
       "$\\newcommand{\\meanco}[0]{\\langle I_\\text{CO}\\rangle}$\n",
       "$\\newcommand{\\acotwo}[0]{\\alpha_\\text{CO21}}$\n",
       "$\\newcommand{\\ahcnone}[0]{\\alpha_\\text{HCN10}^\\text{dense}}$\n",
       "$\\newcommand{\\ahcnthree}[0]{\\alpha_\\text{HCN32}^\\text{dense}}$\n",
       "$\\newcommand{\\fdense}[0]{f_\\text{dense}}$\n",
       "$\\newcommand{\\kms}[0]{km~s^{-1}}$\n",
       "$\\newcommand{\\ltom}[0]{M_\\odot~(K~km~s^{-1}~pc^{2})^{-1}}$\n",
       "$\\newcommand{\\cmmcube}[0]{cm^{-3}}$</div>\n",
       "\n",
       "<div class=\"macros\" style=\"visibility:hidden;\">\n",
       "$\\newcommand{$\\ensuremath$}{}$\n",
       "$\\newcommand{$\\xspace$}{}$\n",
       "$\\newcommand{$\\object$}[1]{\\texttt{#1}}$\n",
       "$\\newcommand{$\\farcs$}{{.}''}$\n",
       "$\\newcommand{$\\farcm$}{{.}'}$\n",
       "$\\newcommand{$\\arcsec$}{''}$\n",
       "$\\newcommand{$\\arcmin$}{'}$\n",
       "$\\newcommand{$\\ion$}[2]{#1#2}$\n",
       "$\\newcommand{$\\textsc$}[1]{\\textrm{#1}}$\n",
       "$\\newcommand{$\\hl$}[1]{\\textrm{#1}}$\n",
       "$\\newcommand{$\\figcita$}[1]{Fig. \\ref{#1}}$\n",
       "$\\newcommand{$\\tabcita$}[1]{Table \\ref{#1}}$\n",
       "$\\newcommand{$\\refe$}[1]{{\\hypersetup{hidelinks}\\hyperref[fig_point]{\\color{blue}#1}}}$\n",
       "$\\newcommand{$\\ngc$}[1]{$\\object${NGC #1}}$\n",
       "$\\newcommand{$\\dd$}[0]{ \\text{d}}$\n",
       "$\\newcommand{$\\hcnthree$}[0]{HCN(3--2)$\\xspace$}$\n",
       "$\\newcommand{$\\hcnfour$}[0]{HCN(4--3)$\\xspace$}$\n",
       "$\\newcommand{$\\hcopthree$}[0]{HCO^+(3--2)$\\xspace$}$\n",
       "$\\newcommand{$\\hcopfour$}[0]{HCO^+(4--3)$\\xspace$}$\n",
       "$\\newcommand{$\\hcnone$}[0]{HCN(1--0)$\\xspace$}$\n",
       "$\\newcommand{$\\hcopone$}[0]{HCO^+(1--0)$\\xspace$}$\n",
       "$\\newcommand{$\\cotwo$}[0]{CO(2--1)$\\xspace$}$\n",
       "$\\newcommand{$\\coone$}[0]{CO(1--0)$\\xspace$}$\n",
       "$\\newcommand{$\\tkin$}[0]{T_\\text{K}}$\n",
       "$\\newcommand{$\\mach$}[0]{\\mathcal{M}}$\n",
       "$\\newcommand{$\\alphapl$}[0]{\\alpha_\\text{PL}}$\n",
       "$\\newcommand{$\\meann$}[0]{\\bar{n}}$\n",
       "$\\newcommand{$\\vgrad$}[0]{\\nabla v}$\n",
       "$\\newcommand{$\\sstar$}[0]{\\Sigma_\\textrm{star}}$\n",
       "$\\newcommand{$\\ssfr$}[0]{\\Sigma_\\text{SFR}}$\n",
       "$\\newcommand{$\\meanco$}[0]{\\langle I_\\text{CO}\\rangle}$\n",
       "$\\newcommand{$\\acotwo$}[0]{\\alpha_\\text{CO21}}$\n",
       "$\\newcommand{$\\ahcnone$}[0]{\\alpha_\\text{HCN10}^\\text{dense}}$\n",
       "$\\newcommand{$\\ahcnthree$}[0]{\\alpha_\\text{HCN32}^\\text{dense}}$\n",
       "$\\newcommand{$\\fdense$}[0]{f_\\text{dense}}$\n",
       "$\\newcommand{$\\kms$}[0]{km~s^{-1}}$\n",
       "$\\newcommand{$\\ltom$}[0]{M_\\odot~(K~km~s^{-1}~pc^{2})^{-1}}$\n",
       "$\\newcommand{$\\cmmcube$}[0]{cm^{-3}}$</div>\n",
       "\n",
       "\n",
       "\n",
       "<div id=\"title\">\n",
       "\n",
       "# =3-2 in nearby star-forming galaxies\n",
       "\n",
       "</div>\n",
       "<div id=\"comments\">\n",
       "\n",
       "[![arXiv](https://img.shields.io/badge/arXiv-2302.00450-b31b1b.svg)](https://arxiv.org/abs/2302.00450)<mark>Appeared on: 2023-02-02</mark> - _Accepted for publication in A&A. 14 pages, 8 figures_\n",
       "\n",
       "</div>\n",
       "<div id=\"authors\">\n",
       "\n",
       "Axel Garcia-Rodriguez, et al. -- incl., <mark><mark>Frank Bigiel</mark></mark>, <mark><mark>Daizhong Liu</mark></mark>, <mark><mark>Eva Schinnerer</mark></mark>\n",
       "\n",
       "</div>\n",
       "<div id=\"abstract\">\n",
       "\n",
       "**Abstract:** We present new HCN and HCO$^+$($J$=3--2) images of the nearby star-forming galaxies (SFGs)$\\ngc${3351},$\\ngc${3627}, and$\\ngc${4321}. The observations, obtained with the Morita ALMA Compact Array, have a spatial resolution of$\\sim$290--440 pc and resolve the inner$R_\\textrm{gal} \\lesssim$0.6-1 kpc of the targets, as well as the southern bar end of$\\ngc${3627}. We complement this data set with publicly available images of lower excitation lines of HCN, HCO$^+$, and CO and analyse the behaviour of a representative set of line ratios:$\\hcnthree$/$\\hcnone$,$\\hcnthree$/$\\hcopthree$,$\\hcnone$/$\\cotwo$, and$\\hcnthree$/$\\cotwo$. Most of these ratios peak at the galaxy centres and decrease outwards. We compare the HCN and HCO$^+$observations with a grid of one-phase, non-local thermodynamic equilibrium (non-LTE) radiative transfer models and find them compatible with models that predict subthermally excited and optically thick lines. We study the systematic variations of the line ratios across the targets as a function of the stellar surface density ($\\sstar$), the intensity-weighted$\\cotwo$($\\meanco$), and the star formation rate surface density ($\\ssfr$). We find no apparent correlation with$\\ssfr$, but positive correlations with the other two parameters, which are stronger in the case of$\\meanco$. The HCN/CO-$\\meanco$relations show$\\lesssim$0.3 dex galaxy-to-galaxy offsets, with$\\hcnthree$/$\\cotwo$-$\\meanco$being$\\sim$2 times steeper than$\\hcnone$/$\\cotwo$. In contrast, the$\\hcnthree$/$\\hcnone$-$\\meanco$relation exhibits a tighter alignment between galaxies. We conclude that the overall behaviour of the line ratios cannot be ascribed to variations in a single excitation parameter (e.g. density or temperature).\n",
       "\n",
       "</div>\n",
       "\n",
       "<div id=\"div_fig1\">\n",
       "\n",
       "<img src=\"tmp_2302.00450/./ngc3351-mom0_HCN32.png\" alt=\"Fig2.1\" width=\"11%\"/><img src=\"tmp_2302.00450/./ngc3627-mom0_HCN32.png\" alt=\"Fig2.2\" width=\"11%\"/><img src=\"tmp_2302.00450/./ngc4321-mom0_HCN32.png\" alt=\"Fig2.3\" width=\"11%\"/><img src=\"tmp_2302.00450/./ngc3351-mom0_HCO+32.png\" alt=\"Fig2.4\" width=\"11%\"/><img src=\"tmp_2302.00450/./ngc3627-mom0_HCO+32.png\" alt=\"Fig2.5\" width=\"11%\"/><img src=\"tmp_2302.00450/./ngc4321-mom0_HCO+32.png\" alt=\"Fig2.6\" width=\"11%\"/><img src=\"tmp_2302.00450/./ngc3351-strict_mom0_co21-high_res.png\" alt=\"Fig2.7\" width=\"11%\"/><img src=\"tmp_2302.00450/./ngc3627-strict_mom0_co21-high_res.png\" alt=\"Fig2.8\" width=\"11%\"/><img src=\"tmp_2302.00450/./ngc4321-strict_mom0_co21-high_res.png\" alt=\"Fig2.9\" width=\"11%\"/>\n",
       "\n",
       "**Figure 2. -** \n",
       "Integrated intensity maps at $6\"$ resolution of $\\ngc${3351}, $\\ngc${3627}, and $\\ngc${4321 from left to right}. Top and middle rows: $\\hcnthree$ and $\\hcopthree$  maps. The white contours correspond to S/N=5 and the grey circles represent the $6\"$ beam. Offsets are relative to the positions in Table \\ref{tab_sample}. Bottom row: PHANGS-ALMA $\\cotwo$ maps. Black contours correspond to 10, 30, 50, and 70\\% of the maximum in each $\\cotwo$ image at the native ${\\sim}1.5\"$ resolution. The white circles indicate the fields of the $\\hcnthree$ and $\\hcopthree$ observations with the ACA. (*fig_mom0-HCN32*)\n",
       "\n",
       "</div>\n",
       "<div id=\"div_fig2\">\n",
       "\n",
       "<img src=\"tmp_2302.00450/./trends_all_galaxies-line_ratios.png\" alt=\"Fig6\" width=\"100%\"/>\n",
       "\n",
       "**Figure 6. -** Same line ratios as in Fig. \\ref{fig_lineRatioMaps} plotted against $\\sstar$(left), $\\meanco$(middle), and $\\ssfr$(right) on a pixel-by-pixel basis (grey points).\n",
       "All panels have the same vertical and horizontal span in dex for an easier comparison.\n",
       "For each line ratio and galaxy, the colour squares and vertical bars represent the  mean  and the $\\pm 1\\sigma$ standard deviation within bins of the x-axis parameter. The squares are white-filled where the mean value does not necessarily represent the whole galaxy (Sect. \\ref{sec_empirical-relations}). (*fig_line-ratio_galaxy_comparison*)\n",
       "\n",
       "</div>\n",
       "<div id=\"div_fig3\">\n",
       "\n",
       "<img src=\"tmp_2302.00450/./histogram_ratios.png\" alt=\"Fig4\" width=\"100%\"/>\n",
       "\n",
       "**Figure 4. -** Histograms per galaxy of $\\hcnthree$/$\\hcopthree$, $\\hcnone$/$\\hcopone$, $\\hcnthree$/$\\hcnone$, and $\\hcopthree$/$\\hcopone$ line ratios. (*fig_litHist-simple*)\n",
       "\n",
       "</div>"
      ],
      "text/plain": [
       "<IPython.core.display.Markdown object>"
      ]
     },
     "metadata": {},
     "output_type": "display_data"
    }
   ],
   "source": [
    "[display(Markdown(k[1])) for k in documents];"
   ]
  },
  {
   "cell_type": "markdown",
   "id": "873873a4",
   "metadata": {
    "papermill": {
     "duration": 0.010626,
     "end_time": "2023-02-02T04:07:56.451600",
     "exception": false,
     "start_time": "2023-02-02T04:07:56.440974",
     "status": "completed"
    },
    "tags": []
   },
   "source": [
    "# Create HTML index"
   ]
  },
  {
   "cell_type": "code",
   "execution_count": 10,
   "id": "cf665672",
   "metadata": {
    "execution": {
     "iopub.execute_input": "2023-02-02T04:07:56.513033Z",
     "iopub.status.busy": "2023-02-02T04:07:56.512358Z",
     "iopub.status.idle": "2023-02-02T04:07:56.526188Z",
     "shell.execute_reply": "2023-02-02T04:07:56.525360Z"
    },
    "papermill": {
     "duration": 0.065376,
     "end_time": "2023-02-02T04:07:56.527938",
     "exception": false,
     "start_time": "2023-02-02T04:07:56.462562",
     "status": "completed"
    },
    "tags": []
   },
   "outputs": [
    {
     "name": "stdout",
     "output_type": "stream",
     "text": [
      "188  publications in the last 7 days.\n",
      "\t _build/html/2302.00450.md\n",
      "\t _build/html/2301.13766.md\n",
      "\t _build/html/2301.13526.md\n",
      "\t _build/html/2301.12890.md\n",
      "\t _build/html/2301.11942.md\n",
      "\t _build/html/2301.10717.md\n",
      "\t _build/html/2301.10666.md\n",
      "\t _build/html/2301.10496.md\n",
      "\t _build/html/2301.09621.md\n",
      "\t _build/html/2301.09140.md\n",
      "\t _build/html/2301.08770.md\n",
      "\t _build/html/2301.08310.md\n",
      "\t _build/html/2301.07990.md\n",
      "\t _build/html/2301.07366.md\n",
      "\t _build/html/2301.07199.md\n",
      "\t _build/html/2301.07116.md\n",
      "\t _build/html/2301.06873.md\n",
      "\t _build/html/2301.06819.md\n",
      "\t _build/html/2301.06575.md\n",
      "\t _build/html/2301.05720.md\n",
      "\t _build/html/2301.05718.md\n",
      "\t _build/html/2301.05034.md\n",
      "\t _build/html/2301.04656.md\n",
      "\t _build/html/2301.04533.md\n",
      "\t _build/html/2301.04442.md\n",
      "\t _build/html/2301.03811.md\n",
      "\t _build/html/2301.03689.md\n",
      "\t _build/html/2301.03387.md\n",
      "\t _build/html/2301.03209.md\n",
      "\t _build/html/2301.02671.md\n",
      "\t _build/html/2301.02477.md\n",
      "\t _build/html/2301.02313.md\n",
      "\t _build/html/2301.02265.md\n",
      "\t _build/html/2301.01937.md\n",
      "\t _build/html/2301.01895.md\n",
      "\t _build/html/2301.01684.md\n",
      "\t _build/html/2301.01306.md\n",
      "\t _build/html/2301.00881.md\n",
      "\t _build/html/2301.00854.md\n",
      "\t _build/html/2301.00578.md\n",
      "\t _build/html/2212.12039.md\n",
      "\t _build/html/2212.11991.md\n",
      "\t _build/html/2212.11425.md\n",
      "\t _build/html/2212.11177.md\n",
      "\t _build/html/2212.10804.md\n",
      "\t _build/html/2212.10512.md\n",
      "\t _build/html/2212.09766.md\n",
      "\t _build/html/2212.09675.md\n",
      "\t _build/html/2212.09661.md\n",
      "\t _build/html/2212.09652.md\n",
      "\t _build/html/2212.09443.md\n",
      "\t _build/html/2212.09307.md\n",
      "\t _build/html/2212.09168.md\n",
      "\t _build/html/2212.09159.md\n",
      "\t _build/html/2212.08702.md\n",
      "\t _build/html/2212.07332.md\n",
      "\t _build/html/2212.06434.md\n",
      "\t _build/html/2212.04710.md\n",
      "\t _build/html/2212.04026.md\n",
      "\t _build/html/2212.03563.md\n",
      "\t _build/html/2212.03514.md\n",
      "\t _build/html/2212.02667.md\n",
      "\t _build/html/2212.02627.md\n",
      "\t _build/html/2212.02235.md\n",
      "\t _build/html/2212.01707.md\n",
      "\t _build/html/2212.01526.md\n",
      "\t _build/html/2212.01397.md\n",
      "\t _build/html/2212.01291.md\n",
      "\t _build/html/2212.01281.md\n",
      "\t _build/html/2212.00812.md\n",
      "\t _build/html/2212.00811.md\n",
      "\t _build/html/2212.00806.md\n",
      "\t _build/html/2212.00047.md\n",
      "\t _build/html/2212.00032.md\n",
      "\t _build/html/2211.16996.md\n",
      "\t _build/html/2211.16510.md\n",
      "\t _build/html/2211.16123.md\n",
      "\t _build/html/2211.15816.md\n",
      "\t _build/html/2211.15698.md\n",
      "\t _build/html/2211.15576.md\n",
      "\t _build/html/2211.15434.md\n",
      "\t _build/html/2211.15288.md\n",
      "\t _build/html/2211.15224.md\n",
      "\t _build/html/2211.14543.md\n",
      "\t _build/html/2211.14330.md\n",
      "\t _build/html/2211.14322.md\n",
      "\t _build/html/2211.14132.md\n",
      "\t _build/html/2211.13811.md\n",
      "\t _build/html/2211.13426.md\n",
      "\t _build/html/2211.13318.md\n",
      "\t _build/html/2211.13146.md\n",
      "\t _build/html/2211.12613.md\n",
      "\t _build/html/2211.11767.md\n",
      "\t _build/html/2211.09840.md\n",
      "\t _build/html/2211.09217.md\n",
      "\t _build/html/2211.08493.md\n",
      "\t _build/html/2211.08487.md\n",
      "\t _build/html/2211.08294.md\n",
      "\t _build/html/2211.07667.md\n",
      "\t _build/html/2211.07659.md\n",
      "\t _build/html/2211.06454.md\n",
      "\t _build/html/2211.06205.md\n",
      "\t _build/html/2211.06194.md\n",
      "\t _build/html/2211.05022.md\n",
      "\t _build/html/2211.04048.md\n",
      "\t _build/html/2211.03641.md\n",
      "\t _build/html/2211.02502.md\n",
      "\t _build/html/2211.01474.md\n",
      "\t _build/html/2211.00667.md\n",
      "\t _build/html/2211.00657.md\n",
      "\t _build/html/2211.00087.md\n",
      "\t _build/html/2211.00036.md\n",
      "\t _build/html/2211.00020.md\n",
      "\t _build/html/2211.00010.md\n",
      "\t _build/html/2210.17434.md\n",
      "\t _build/html/2210.12412.md\n",
      "\t _build/html/2210.11926.md\n",
      "\t _build/html/2210.11551.md\n",
      "\t _build/html/2210.11103.md\n",
      "\t _build/html/2210.10707.md\n",
      "\t _build/html/2210.09930.md\n",
      "\t _build/html/2210.08996.md\n",
      "\t _build/html/2210.08517.md\n",
      "\t _build/html/2210.08510.md\n",
      "\t _build/html/2210.08078.md\n",
      "\t _build/html/2210.06504.md\n",
      "\t _build/html/2210.05695.md\n",
      "\t _build/html/2210.05595.md\n",
      "\t _build/html/2210.05505.md\n",
      "\t _build/html/2210.04721.md\n",
      "\t _build/html/2210.03615.md\n",
      "\t _build/html/2210.01811.md\n",
      "\t _build/html/2210.01809.md\n",
      "\t _build/html/2210.01556.md\n",
      "\t _build/html/2210.00863.md\n",
      "\t _build/html/2210.00560.md\n",
      "\t _build/html/2209.15403.md\n",
      "\t _build/html/2209.15110.md\n",
      "\t _build/html/2209.14410.md\n",
      "\t _build/html/2209.14396.md\n",
      "\t _build/html/2209.13717.md\n",
      "\t _build/html/2209.13336.md\n",
      "\t _build/html/2209.12906.md\n",
      "\t _build/html/2209.11781.md\n",
      "\t _build/html/2209.11602.md\n",
      "\t _build/html/2209.11248.md\n",
      "\t _build/html/2209.11096.md\n",
      "\t _build/html/2209.10618.md\n",
      "\t _build/html/2209.09914.md\n",
      "\t _build/html/2209.09823.md\n",
      "\t _build/html/2209.08242.md\n",
      "\t _build/html/2209.08120.md\n",
      "\t _build/html/2209.08106.md\n",
      "\t _build/html/2209.07962.md\n",
      "\t _build/html/2209.07931.md\n",
      "\t _build/html/2209.06833.md\n",
      "\t _build/html/2209.05814.md\n",
      "\t _build/html/2209.05593.md\n",
      "\t _build/html/2209.04304.md\n",
      "\t _build/html/2209.03367.md\n",
      "\t _build/html/2209.02872.md\n",
      "\t _build/html/2209.02725.md\n",
      "\t _build/html/2209.02722.md\n",
      "\t _build/html/2209.02092.md\n",
      "\t _build/html/2209.01125.md\n",
      "\t _build/html/2209.00828.md\n",
      "\t _build/html/2209.00363.md\n",
      "\t _build/html/2208.14927.md\n",
      "\t _build/html/2208.09335.md\n",
      "\t _build/html/2208.08872.md\n",
      "\t _build/html/2204.06393.md\n",
      "\t _build/html/2204.03335.md\n",
      "\t _build/html/2204.03253.md\n",
      "\t _build/html/2204.02998.md\n",
      "\t _build/html/2204.02109.md\n",
      "\t _build/html/2204.02017.md\n",
      "\t _build/html/2204.01824.md\n",
      "\t _build/html/2204.01758.md\n",
      "\t _build/html/2204.01245.md\n",
      "\t _build/html/2204.00793.md\n",
      "\t _build/html/2204.00342.md\n",
      "\t _build/html/2203.16959.md\n",
      "\t _build/html/2203.16856.md\n",
      "\t _build/html/2203.16735.md\n",
      "\t _build/html/2203.16734.md\n",
      "\t _build/html/2203.16504.md\n",
      "\t _build/html/2203.15822.md\n",
      "\t _build/html/2203.15811.md\n"
     ]
    }
   ],
   "source": [
    "from datetime import datetime, timedelta, timezone\n",
    "from glob import glob\n",
    "\n",
    "files = glob('_build/html/*.md')\n",
    "days = 7\n",
    "now = datetime.today()\n",
    "res = []\n",
    "for fk in files:\n",
    "    stat_result = os.stat(fk).st_ctime\n",
    "    modified = datetime.fromtimestamp(stat_result, tz=timezone.utc).replace(tzinfo=None)\n",
    "    delta = now.today() - modified\n",
    "    if delta <= timedelta(days=days):\n",
    "        res.append((delta.seconds, fk))\n",
    "res = [k[1] for k in reversed(sorted(res, key=lambda x:x[1]))]\n",
    "npub = len(res)\n",
    "print(len(res), f\" publications in the last {days:d} days.\")\n",
    "[ print('\\t', k) for k in res ];"
   ]
  },
  {
   "cell_type": "code",
   "execution_count": 11,
   "id": "015de740",
   "metadata": {
    "execution": {
     "iopub.execute_input": "2023-02-02T04:07:56.552222Z",
     "iopub.status.busy": "2023-02-02T04:07:56.551795Z",
     "iopub.status.idle": "2023-02-02T04:07:56.574138Z",
     "shell.execute_reply": "2023-02-02T04:07:56.573515Z"
    },
    "papermill": {
     "duration": 0.036427,
     "end_time": "2023-02-02T04:07:56.575771",
     "exception": false,
     "start_time": "2023-02-02T04:07:56.539344",
     "status": "completed"
    },
    "tags": []
   },
   "outputs": [
    {
     "name": "stdout",
     "output_type": "stream",
     "text": [
      "8  publications in the last 7 days.\n"
     ]
    }
   ],
   "source": [
    "import datetime\n",
    "from glob import glob\n",
    "\n",
    "def get_last_n_days(lst, days=1):\n",
    "    \"\"\" Get the documents from the last n days \"\"\"\n",
    "    sorted_lst = sorted(lst, key=lambda x: x[1], reverse=True)\n",
    "    for fname, date in sorted_lst:\n",
    "        if date >= str(datetime.date.today() - datetime.timedelta(days=days)):\n",
    "            yield fname\n",
    "\n",
    "def extract_appearance_dates(lst_file):\n",
    "    dates = []\n",
    "\n",
    "    def get_date(line):\n",
    "        return line\\\n",
    "            .split('Appeared on:')[-1]\\\n",
    "            .split('</mark>')[0].strip()\n",
    "\n",
    "    for fname in lst:\n",
    "        with open(fname, 'r') as f:\n",
    "            found_date = False\n",
    "            for line in f:\n",
    "                if not found_date:\n",
    "                    if \"Appeared on\" in line:\n",
    "                        found_date = True\n",
    "                        dates.append((fname, get_date(line)))\n",
    "                else:\n",
    "                    break\n",
    "    return dates\n",
    "\n",
    "from glob import glob\n",
    "lst = glob('_build/html/*md')\n",
    "days = 7\n",
    "dates = extract_appearance_dates(lst)\n",
    "res = list(get_last_n_days(dates, days))\n",
    "npub = len(res)\n",
    "print(len(res), f\" publications in the last {days:d} days.\")"
   ]
  },
  {
   "cell_type": "code",
   "execution_count": 12,
   "id": "52ca0208",
   "metadata": {
    "execution": {
     "iopub.execute_input": "2023-02-02T04:07:56.599848Z",
     "iopub.status.busy": "2023-02-02T04:07:56.599218Z",
     "iopub.status.idle": "2023-02-02T04:07:56.607573Z",
     "shell.execute_reply": "2023-02-02T04:07:56.606857Z"
    },
    "papermill": {
     "duration": 0.022366,
     "end_time": "2023-02-02T04:07:56.609189",
     "exception": false,
     "start_time": "2023-02-02T04:07:56.586823",
     "status": "completed"
    },
    "scrolled": false,
    "tags": []
   },
   "outputs": [],
   "source": [
    "def create_carousel(npub=4):\n",
    "    \"\"\" Generate the HTML code for a carousel with `npub` slides \"\"\"\n",
    "    carousel = [\"\"\"<section class=\"carousel\" aria-label=\"Gallery\">\"\"\",\n",
    "                \"\"\"  <ol class=\"carousel__viewport\">\"\"\",\n",
    "    ]\n",
    "    for k in range(1, npub + 1):\n",
    "        prev_ = k - 1\n",
    "        next_ = k + 1\n",
    "        if prev_ <= 0:\n",
    "            prev_ = npub\n",
    "        if next_ > npub:\n",
    "            next_ = 1\n",
    "        text  = f\"\"\"    <li id=\"carousel__slide{k}\" tabindex=\"0\" class=\"carousel__slide\">\\n\"\"\"\n",
    "        text += f\"\"\"       <div class=\"carousel__snapper\">\\n\"\"\"\n",
    "        text += f\"\"\"         <a href=\"#carousel__slide{prev_}\" class=\"carousel__prev\">Go to previous slide</a>\\n\"\"\"\n",
    "        text += f\"\"\"         <a href=\"#carousel__slide{next_}\" class=\"carousel__next\">Go to next slide</a>\\n\"\"\"\n",
    "        text += f\"\"\"         <div id=\"slide{k}_content\" class=\"md_view\" >Content {k}</div>\\n\"\"\"\n",
    "        text += f\"\"\"       </div>\\n\"\"\"\n",
    "        text += f\"\"\"    </li>\"\"\"\n",
    "        carousel.append(text)\n",
    "\n",
    "    carousel.extend([\n",
    "        \"\"\"  </ol>\"\"\",\n",
    "        \"\"\"  <aside class=\"carousel__navigation\">\"\"\",\n",
    "        \"\"\"    <ol class=\"carousel__navigation-list\">\"\"\"])\n",
    "\n",
    "    for k in range(1, npub + 1):\n",
    "        text  = f\"\"\"      <li class=\"carousel__navigation-item\">\\n\"\"\"\n",
    "        text += f\"\"\"        <a href=\"#carousel__slide{k}\" class=\"carousel__navigation-button\">Go to {k}</a>\\n\"\"\"\n",
    "        text += f\"\"\"      </li>\"\"\"\n",
    "        carousel.append(text)\n",
    "    carousel.extend([\"\"\"    </ol>\"\"\", \"\"\"  </aside>\"\"\", \"\"\"</section>\"\"\"])\n",
    "\n",
    "    return '\\n'.join(carousel)"
   ]
  },
  {
   "cell_type": "code",
   "execution_count": 13,
   "id": "a6eac5b6",
   "metadata": {
    "execution": {
     "iopub.execute_input": "2023-02-02T04:07:56.633417Z",
     "iopub.status.busy": "2023-02-02T04:07:56.632880Z",
     "iopub.status.idle": "2023-02-02T04:07:56.639794Z",
     "shell.execute_reply": "2023-02-02T04:07:56.639171Z"
    },
    "papermill": {
     "duration": 0.021062,
     "end_time": "2023-02-02T04:07:56.641442",
     "exception": false,
     "start_time": "2023-02-02T04:07:56.620380",
     "status": "completed"
    },
    "scrolled": false,
    "tags": []
   },
   "outputs": [],
   "source": [
    "carousel = create_carousel(npub)\n",
    "docs = ', '.join(['\"{0:s}\"'.format(k.split('/')[-1]) for k in res])\n",
    "slides = ', '.join([f'\"slide{k}_content\"' for k in range(1, npub + 1)])\n",
    "\n",
    "script = f\"\"\"\n",
    "const docs = [{docs}]\n",
    "\n",
    "const slides = [{slides}]\n",
    "\"\"\" + \"\"\"\n",
    "async function run() {\n",
    "    for (let i = 0; i < docs.length; i++) {\n",
    "        let file = await fetch(docs[i]);\n",
    "        let text = await file.text()\n",
    "        document.getElementById(slides[i]).innerHTML =\n",
    "            marked.parse(text);\n",
    "    }\n",
    "    hljs.highlightAll();\n",
    "}\n",
    "run()\n",
    "\"\"\"\n",
    "\n",
    "page = f\"\"\"<!doctype html>\n",
    "<html lang=\"en\">\n",
    "\n",
    "<head>\n",
    "  <meta charset=\"utf-8\">\n",
    "  <meta name=\"viewport\" content=\"width=device-width, initial-scale=1\">\n",
    "  <!-- Bootstrap CSS -->\n",
    "  <link href=\"https://cdn.jsdelivr.net/npm/bootstrap@5.0.2/dist/css/bootstrap.min.css\" rel=\"stylesheet\"\n",
    "   integrity=\"sha384-EVSTQN3/azprG1Anm3QDgpJLIm9Nao0Yz1ztcQTwFspd3yD65VohhpuuCOmLASjC\" crossorigin=\"anonymous\">\n",
    "  <!-- highlight.js CSS -->\n",
    "  <link rel=\"stylesheet\" href=\"https://cdnjs.cloudflare.com/ajax/libs/highlight.js/11.1.0/styles/default.min.css\">\n",
    "  <!-- Mathjax 3 -->\n",
    "  <script type=\"text/javascript\" id=\"MathJax-config\" src=\"mathjax_config.js\"> </script>\n",
    "  <script type=\"text/javascript\" id=\"MathJax-script\" async \n",
    "    src=\"https://cdn.jsdelivr.net/npm/mathjax@3/es5/tex-mml-chtml.js\">\n",
    "  </script>\n",
    "  <link rel=\"stylesheet\" href=\"index_carousel.css\">\n",
    "  <link rel=\"icon\" type=\"image/x-icon\" href=\"https://www.mpia.de/assets/touch-icon-32x32-a66937bcebc4e8894ebff1f41a366c7c7220fd97a38869ee0f2db65a9f59b6c1.png\">\n",
    "  <title>MPIA Arxiv on deck!</title>\n",
    "</head>\n",
    "\n",
    "<body>\n",
    "  <div id=\"header\"> <img src=\"header_banner.png\" width=\"100%\"></div>\n",
    "  <div id=\"suptitle\"> 7-day archives </div>\n",
    "  <div id=\"info\">\n",
    "    <img src=\"https://pngimg.com/uploads/github/github_PNG58.png\" height=30rem></img>\n",
    "    <a href=https://github.com/mpi-astronomy/arxiv_display style=\"color:black;\">github/mpi-astronomy/arxiv_display</a> \n",
    "  </div>\n",
    "  {carousel:s}\n",
    "</body>\n",
    "\n",
    "<!-- Render Markdown -->\n",
    "\n",
    "<body>\n",
    "  <!-- highlight.js: https://highlightjs.org/download/ -->\n",
    "  <script src=\"https://cdnjs.cloudflare.com/ajax/libs/highlight.js/11.5.0/highlight.min.js\"></script>\n",
    "  <!-- marked.js -->\n",
    "  <script src=\"https://cdn.jsdelivr.net/npm/marked/marked.min.js\"></script>\n",
    "  <script>{script:s}</script>\n",
    "</body>\n",
    "</html>\n",
    "\"\"\"\n",
    "with open(\"_build/html/index_7days.html\", 'w') as fout:\n",
    "    fout.write(page)"
   ]
  },
  {
   "cell_type": "markdown",
   "id": "1cebacbc",
   "metadata": {
    "papermill": {
     "duration": 0.011132,
     "end_time": "2023-02-02T04:07:56.663699",
     "exception": false,
     "start_time": "2023-02-02T04:07:56.652567",
     "status": "completed"
    },
    "tags": []
   },
   "source": [
    "# Debugging papers"
   ]
  },
  {
   "cell_type": "raw",
   "id": "debe7cc6",
   "metadata": {
    "papermill": {
     "duration": 0.010603,
     "end_time": "2023-02-02T04:07:56.685056",
     "exception": false,
     "start_time": "2023-02-02T04:07:56.674453",
     "status": "completed"
    },
    "tags": []
   },
   "source": [
    "raise NotImplementedError(\"Manual Stop\")"
   ]
  },
  {
   "cell_type": "raw",
   "id": "eb169192",
   "metadata": {
    "papermill": {
     "duration": 0.011536,
     "end_time": "2023-02-02T04:07:56.710843",
     "exception": false,
     "start_time": "2023-02-02T04:07:56.699307",
     "status": "completed"
    },
    "scrolled": true,
    "tags": []
   },
   "source": [
    "from IPython.display import display, Markdown\n",
    "from TexSoup import TexSoup\n",
    "import re\n",
    "\n",
    "def bracket_error(source: str):\n",
    "    \"\"\" Find problematic portions of the document \"\"\"\n",
    "    \n",
    "    print(\"len(source)\", len(source))\n",
    "    \n",
    "    # Checking header\n",
    "    begin_doc = next(re.finditer(r'\\\\begin\\{document\\}', doc.source)).span()[1]\n",
    "    header = source[:begin_doc]\n",
    "    text = header + r\"\\n\\end{document}\"\n",
    "\n",
    "    try:\n",
    "        # print(\"Header check... \", end='')\n",
    "        TexSoup(text)\n",
    "        display(Markdown(f\"**[OK]** - Header\"))\n",
    "    except:\n",
    "        raise RuntimeError(\"Error in the header\")\n",
    "        \n",
    "    # Check the text per section until the end.\n",
    "    # Do not stop and try them all.\n",
    "    \n",
    "    problematic_text = []\n",
    "    \n",
    "    sections = ([(0, begin_doc, 'until first section')] + \n",
    "                [(g.span()[0], g.span()[1], g.group()) for g in re.finditer(r'\\\\section\\{.*\\}', source)] +\n",
    "                [(g.span()[0], g.span()[1], g.group()) for g in re.finditer(r'\\\\begin\\{appendix\\}', source)]\n",
    "               )\n",
    "    sections.append([len(source), len(source), 'end'])\n",
    "    \n",
    "    sections = sorted(sections, key=lambda x: x[0])\n",
    "    \n",
    "    prev_pos, prev_name = (0, 'header')\n",
    "    parsed = []\n",
    "    \n",
    "    for span, span_end, name in sections:\n",
    "\n",
    "        if span - prev_pos <= 0:\n",
    "            continue\n",
    "            \n",
    "\n",
    "        text = source[prev_pos:span]\n",
    "        if prev_pos > begin_doc:\n",
    "            text = r\"\\n\\begin{document}\" + text + r\"\\n\\end{document}\"\n",
    "        else:\n",
    "            text = text + r\"\\n\\end{document}\"\n",
    "        try:\n",
    "            #print(f\"{prev_pos}:{prev_name}-->{span}:{name} check... \", end='')\n",
    "            parsed.append(TexSoup(text, tolerance=1))  # allow not ending env\n",
    "            display(Markdown(f\"**[OK]** - *{prev_pos}*:{prev_name} &rarr; *{span}*:{name}\"))\n",
    "            # print(\"ok\")\n",
    "\n",
    "            prev_pos = span\n",
    "            prev_name = name\n",
    "        except:\n",
    "            # print(f\"error between {prev_pos} and {span}\")\n",
    "            display(Markdown(f\"**[ERR]** *{prev_pos}*:{prev_name} &rarr; *{span}*:{name}\"))\n",
    "            problematic_text.append((prev_pos, source[prev_pos:span]))\n",
    "            prev_pos = span\n",
    "            prev_name = name\n",
    "            # raise\n",
    "    return problematic_text, parsed\n",
    "\n",
    "\n",
    "def check_environment(text, offset=0):\n",
    "    \"\"\" Check environment \"\"\"\n",
    "    env = re.compile(r\"\\\\begin\\{(?P<env>.*)\\}(.*)\\\\end\\{(?P=env)\\}\", re.DOTALL)\n",
    "\n",
    "    for match in env.finditer(text):\n",
    "        beg, end = match.span()\n",
    "        beg += offset\n",
    "        end += offset\n",
    "        envname = match.groups()[0]\n",
    "        try:\n",
    "            latex.TexSoup(match.group())\n",
    "        except Exception as e:\n",
    "            display(e)\n",
    "            print(f\"Error in {envname:s} between {beg} and {end}\")\n",
    "            return match.groups()[1], beg, end"
   ]
  },
  {
   "cell_type": "raw",
   "id": "2315e835",
   "metadata": {
    "papermill": {
     "duration": 0.011377,
     "end_time": "2023-02-02T04:07:56.733850",
     "exception": false,
     "start_time": "2023-02-02T04:07:56.722473",
     "status": "completed"
    },
    "scrolled": false,
    "tags": []
   },
   "source": [
    "import importlib\n",
    "importlib.reload(latex)\n",
    "which = \"2204.03253\"\n",
    "paper_id = f'{which:s}'\n",
    "folder = f'tmp_{paper_id:s}'\n",
    "\n",
    "if not os.path.isdir(folder):\n",
    "    folder = retrieve_document_source(f\"{paper_id}\", f'tmp_{paper_id}')\n",
    "\n",
    "try:\n",
    "    doc = latex.LatexDocument(folder, validation=validation)    \n",
    "except AffiliationError as affilerror:\n",
    "    msg = f\"ArXiv:{paper_id:s} is not an MPIA paper... \" + str(affilerror)\n",
    "    print(msg)\n",
    "\n",
    "\n",
    "# Hack because sometimes author parsing does not work well\n",
    "if (len(doc.authors) != len(paper['authors'])):\n",
    "    doc._authors = paper['authors']\n",
    "if (doc.abstract) in (None, ''):\n",
    "    doc._abstract = paper['abstract']\n",
    "\n",
    "doc.comment = get_markdown_badge(paper_id) + \" _\" + paper['comments'] + \"_\"\n",
    "doc.highlight_authors_in_list(hl_list)\n",
    "\n",
    "full_md = doc.generate_markdown_text()"
   ]
  },
  {
   "cell_type": "raw",
   "id": "dd3781db",
   "metadata": {
    "papermill": {
     "duration": 0.011226,
     "end_time": "2023-02-02T04:07:56.756344",
     "exception": false,
     "start_time": "2023-02-02T04:07:56.745118",
     "status": "completed"
    },
    "scrolled": false,
    "tags": []
   },
   "source": [
    "doc"
   ]
  },
  {
   "cell_type": "raw",
   "id": "c6eed834",
   "metadata": {
    "papermill": {
     "duration": 0.011266,
     "end_time": "2023-02-02T04:07:56.778814",
     "exception": false,
     "start_time": "2023-02-02T04:07:56.767548",
     "status": "completed"
    },
    "tags": []
   },
   "source": [
    "# [check_environment(k) for k in bracket_error(doc.source)]\n",
    "_, _, a = latex.get_content_per_section(doc.source, verbose=True)\n",
    "if not a:\n",
    "    print(\"no issues per section\")\n",
    "for ak in a:\n",
    "    r = check_environment(ak[1], offset=ak[0])\n",
    "    print(r[1], r[2])\n",
    "    print(r[0])"
   ]
  },
  {
   "cell_type": "code",
   "execution_count": null,
   "id": "71ce768a",
   "metadata": {
    "papermill": {
     "duration": 0.010885,
     "end_time": "2023-02-02T04:07:56.800632",
     "exception": false,
     "start_time": "2023-02-02T04:07:56.789747",
     "status": "completed"
    },
    "tags": []
   },
   "outputs": [],
   "source": []
  }
 ],
 "metadata": {
  "kernelspec": {
   "display_name": "Python 3",
   "language": "python",
   "name": "python3"
  },
  "language_info": {
   "codemirror_mode": {
    "name": "ipython",
    "version": 3
   },
   "file_extension": ".py",
   "mimetype": "text/x-python",
   "name": "python",
   "nbconvert_exporter": "python",
   "pygments_lexer": "ipython3",
   "version": "3.9.16"
  },
  "papermill": {
   "default_parameters": {},
   "duration": 77.98454,
   "end_time": "2023-02-02T04:07:57.033353",
   "environment_variables": {},
   "exception": null,
   "input_path": "MPIA daily digest.ipynb",
   "output_path": "log.ipynb",
   "parameters": {},
   "start_time": "2023-02-02T04:06:39.048813",
   "version": "2.4.0"
  },
  "vscode": {
   "interpreter": {
    "hash": "aee8b7b246df8f9039afb4144a1f6fd8d2ca17a180786b69acc140d282b71a49"
   }
  },
  "widgets": {
   "application/vnd.jupyter.widget-state+json": {
    "state": {
     "20ca60a0d6a84690a0a60729cb32b775": {
      "model_module": "@jupyter-widgets/controls",
      "model_module_version": "2.0.0",
      "model_name": "HTMLStyleModel",
      "state": {
       "_model_module": "@jupyter-widgets/controls",
       "_model_module_version": "2.0.0",
       "_model_name": "HTMLStyleModel",
       "_view_count": null,
       "_view_module": "@jupyter-widgets/base",
       "_view_module_version": "2.0.0",
       "_view_name": "StyleView",
       "background": null,
       "description_width": "",
       "font_size": null,
       "text_color": null
      }
     },
     "32b3acfb15094ecd91ea495ff82806ec": {
      "model_module": "@jupyter-widgets/controls",
      "model_module_version": "2.0.0",
      "model_name": "HTMLModel",
      "state": {
       "_dom_classes": [],
       "_model_module": "@jupyter-widgets/controls",
       "_model_module_version": "2.0.0",
       "_model_name": "HTMLModel",
       "_view_count": null,
       "_view_module": "@jupyter-widgets/controls",
       "_view_module_version": "2.0.0",
       "_view_name": "HTMLView",
       "description": "",
       "description_allow_html": false,
       "layout": "IPY_MODEL_e39cd3c92b44432998b8cb35ddc951e6",
       "placeholder": "​",
       "style": "IPY_MODEL_f6a934d3c7e64750b204435d5786bd0f",
       "tabbable": null,
       "tooltip": null,
       "value": " 21/21 [00:53&lt;00:00,  5.69s/it]"
      }
     },
     "52d9839be5544d1cb74b43f78b1b71cd": {
      "model_module": "@jupyter-widgets/controls",
      "model_module_version": "2.0.0",
      "model_name": "HBoxModel",
      "state": {
       "_dom_classes": [],
       "_model_module": "@jupyter-widgets/controls",
       "_model_module_version": "2.0.0",
       "_model_name": "HBoxModel",
       "_view_count": null,
       "_view_module": "@jupyter-widgets/controls",
       "_view_module_version": "2.0.0",
       "_view_name": "HBoxView",
       "box_style": "",
       "children": [
        "IPY_MODEL_ae53724f7a59455e841c2e369598fc49",
        "IPY_MODEL_a379c8617b1846d1851e4f3a9034f364",
        "IPY_MODEL_32b3acfb15094ecd91ea495ff82806ec"
       ],
       "layout": "IPY_MODEL_f4803f893e564d13a2279a587c34516e",
       "tabbable": null,
       "tooltip": null
      }
     },
     "a379c8617b1846d1851e4f3a9034f364": {
      "model_module": "@jupyter-widgets/controls",
      "model_module_version": "2.0.0",
      "model_name": "FloatProgressModel",
      "state": {
       "_dom_classes": [],
       "_model_module": "@jupyter-widgets/controls",
       "_model_module_version": "2.0.0",
       "_model_name": "FloatProgressModel",
       "_view_count": null,
       "_view_module": "@jupyter-widgets/controls",
       "_view_module_version": "2.0.0",
       "_view_name": "ProgressView",
       "bar_style": "success",
       "description": "",
       "description_allow_html": false,
       "layout": "IPY_MODEL_baca7d21893f4408a27bc5f333f1e9a3",
       "max": 21.0,
       "min": 0.0,
       "orientation": "horizontal",
       "style": "IPY_MODEL_a4b75b14aab44c6fa0361aee220ca715",
       "tabbable": null,
       "tooltip": null,
       "value": 21.0
      }
     },
     "a4b75b14aab44c6fa0361aee220ca715": {
      "model_module": "@jupyter-widgets/controls",
      "model_module_version": "2.0.0",
      "model_name": "ProgressStyleModel",
      "state": {
       "_model_module": "@jupyter-widgets/controls",
       "_model_module_version": "2.0.0",
       "_model_name": "ProgressStyleModel",
       "_view_count": null,
       "_view_module": "@jupyter-widgets/base",
       "_view_module_version": "2.0.0",
       "_view_name": "StyleView",
       "bar_color": null,
       "description_width": ""
      }
     },
     "abe2ee5fa3984b509204e01b6d357674": {
      "model_module": "@jupyter-widgets/base",
      "model_module_version": "2.0.0",
      "model_name": "LayoutModel",
      "state": {
       "_model_module": "@jupyter-widgets/base",
       "_model_module_version": "2.0.0",
       "_model_name": "LayoutModel",
       "_view_count": null,
       "_view_module": "@jupyter-widgets/base",
       "_view_module_version": "2.0.0",
       "_view_name": "LayoutView",
       "align_content": null,
       "align_items": null,
       "align_self": null,
       "border_bottom": null,
       "border_left": null,
       "border_right": null,
       "border_top": null,
       "bottom": null,
       "display": null,
       "flex": null,
       "flex_flow": null,
       "grid_area": null,
       "grid_auto_columns": null,
       "grid_auto_flow": null,
       "grid_auto_rows": null,
       "grid_column": null,
       "grid_gap": null,
       "grid_row": null,
       "grid_template_areas": null,
       "grid_template_columns": null,
       "grid_template_rows": null,
       "height": null,
       "justify_content": null,
       "justify_items": null,
       "left": null,
       "margin": null,
       "max_height": null,
       "max_width": null,
       "min_height": null,
       "min_width": null,
       "object_fit": null,
       "object_position": null,
       "order": null,
       "overflow": null,
       "padding": null,
       "right": null,
       "top": null,
       "visibility": null,
       "width": null
      }
     },
     "ae53724f7a59455e841c2e369598fc49": {
      "model_module": "@jupyter-widgets/controls",
      "model_module_version": "2.0.0",
      "model_name": "HTMLModel",
      "state": {
       "_dom_classes": [],
       "_model_module": "@jupyter-widgets/controls",
       "_model_module_version": "2.0.0",
       "_model_name": "HTMLModel",
       "_view_count": null,
       "_view_module": "@jupyter-widgets/controls",
       "_view_module_version": "2.0.0",
       "_view_name": "HTMLView",
       "description": "",
       "description_allow_html": false,
       "layout": "IPY_MODEL_abe2ee5fa3984b509204e01b6d357674",
       "placeholder": "​",
       "style": "IPY_MODEL_20ca60a0d6a84690a0a60729cb32b775",
       "tabbable": null,
       "tooltip": null,
       "value": "100%"
      }
     },
     "baca7d21893f4408a27bc5f333f1e9a3": {
      "model_module": "@jupyter-widgets/base",
      "model_module_version": "2.0.0",
      "model_name": "LayoutModel",
      "state": {
       "_model_module": "@jupyter-widgets/base",
       "_model_module_version": "2.0.0",
       "_model_name": "LayoutModel",
       "_view_count": null,
       "_view_module": "@jupyter-widgets/base",
       "_view_module_version": "2.0.0",
       "_view_name": "LayoutView",
       "align_content": null,
       "align_items": null,
       "align_self": null,
       "border_bottom": null,
       "border_left": null,
       "border_right": null,
       "border_top": null,
       "bottom": null,
       "display": null,
       "flex": null,
       "flex_flow": null,
       "grid_area": null,
       "grid_auto_columns": null,
       "grid_auto_flow": null,
       "grid_auto_rows": null,
       "grid_column": null,
       "grid_gap": null,
       "grid_row": null,
       "grid_template_areas": null,
       "grid_template_columns": null,
       "grid_template_rows": null,
       "height": null,
       "justify_content": null,
       "justify_items": null,
       "left": null,
       "margin": null,
       "max_height": null,
       "max_width": null,
       "min_height": null,
       "min_width": null,
       "object_fit": null,
       "object_position": null,
       "order": null,
       "overflow": null,
       "padding": null,
       "right": null,
       "top": null,
       "visibility": null,
       "width": null
      }
     },
     "e39cd3c92b44432998b8cb35ddc951e6": {
      "model_module": "@jupyter-widgets/base",
      "model_module_version": "2.0.0",
      "model_name": "LayoutModel",
      "state": {
       "_model_module": "@jupyter-widgets/base",
       "_model_module_version": "2.0.0",
       "_model_name": "LayoutModel",
       "_view_count": null,
       "_view_module": "@jupyter-widgets/base",
       "_view_module_version": "2.0.0",
       "_view_name": "LayoutView",
       "align_content": null,
       "align_items": null,
       "align_self": null,
       "border_bottom": null,
       "border_left": null,
       "border_right": null,
       "border_top": null,
       "bottom": null,
       "display": null,
       "flex": null,
       "flex_flow": null,
       "grid_area": null,
       "grid_auto_columns": null,
       "grid_auto_flow": null,
       "grid_auto_rows": null,
       "grid_column": null,
       "grid_gap": null,
       "grid_row": null,
       "grid_template_areas": null,
       "grid_template_columns": null,
       "grid_template_rows": null,
       "height": null,
       "justify_content": null,
       "justify_items": null,
       "left": null,
       "margin": null,
       "max_height": null,
       "max_width": null,
       "min_height": null,
       "min_width": null,
       "object_fit": null,
       "object_position": null,
       "order": null,
       "overflow": null,
       "padding": null,
       "right": null,
       "top": null,
       "visibility": null,
       "width": null
      }
     },
     "f4803f893e564d13a2279a587c34516e": {
      "model_module": "@jupyter-widgets/base",
      "model_module_version": "2.0.0",
      "model_name": "LayoutModel",
      "state": {
       "_model_module": "@jupyter-widgets/base",
       "_model_module_version": "2.0.0",
       "_model_name": "LayoutModel",
       "_view_count": null,
       "_view_module": "@jupyter-widgets/base",
       "_view_module_version": "2.0.0",
       "_view_name": "LayoutView",
       "align_content": null,
       "align_items": null,
       "align_self": null,
       "border_bottom": null,
       "border_left": null,
       "border_right": null,
       "border_top": null,
       "bottom": null,
       "display": null,
       "flex": null,
       "flex_flow": null,
       "grid_area": null,
       "grid_auto_columns": null,
       "grid_auto_flow": null,
       "grid_auto_rows": null,
       "grid_column": null,
       "grid_gap": null,
       "grid_row": null,
       "grid_template_areas": null,
       "grid_template_columns": null,
       "grid_template_rows": null,
       "height": null,
       "justify_content": null,
       "justify_items": null,
       "left": null,
       "margin": null,
       "max_height": null,
       "max_width": null,
       "min_height": null,
       "min_width": null,
       "object_fit": null,
       "object_position": null,
       "order": null,
       "overflow": null,
       "padding": null,
       "right": null,
       "top": null,
       "visibility": null,
       "width": null
      }
     },
     "f6a934d3c7e64750b204435d5786bd0f": {
      "model_module": "@jupyter-widgets/controls",
      "model_module_version": "2.0.0",
      "model_name": "HTMLStyleModel",
      "state": {
       "_model_module": "@jupyter-widgets/controls",
       "_model_module_version": "2.0.0",
       "_model_name": "HTMLStyleModel",
       "_view_count": null,
       "_view_module": "@jupyter-widgets/base",
       "_view_module_version": "2.0.0",
       "_view_name": "StyleView",
       "background": null,
       "description_width": "",
       "font_size": null,
       "text_color": null
      }
     }
    },
    "version_major": 2,
    "version_minor": 0
   }
  }
 },
 "nbformat": 4,
 "nbformat_minor": 5
}