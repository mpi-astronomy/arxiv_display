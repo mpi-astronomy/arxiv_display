{
 "cells": [
  {
   "cell_type": "markdown",
   "id": "92bcb855",
   "metadata": {
    "papermill": {
     "duration": 0.003811,
     "end_time": "2024-10-25T04:11:18.304752",
     "exception": false,
     "start_time": "2024-10-25T04:11:18.300941",
     "status": "completed"
    },
    "tags": []
   },
   "source": [
    "# MPIA Arxiv on Deck 2\n",
    "\n",
    "Contains the steps to produce the paper extractions."
   ]
  },
  {
   "cell_type": "code",
   "execution_count": 1,
   "id": "3a0d6e11",
   "metadata": {
    "execution": {
     "iopub.execute_input": "2024-10-25T04:11:18.312120Z",
     "iopub.status.busy": "2024-10-25T04:11:18.311618Z",
     "iopub.status.idle": "2024-10-25T04:11:18.758139Z",
     "shell.execute_reply": "2024-10-25T04:11:18.757461Z"
    },
    "papermill": {
     "duration": 0.451605,
     "end_time": "2024-10-25T04:11:18.759623",
     "exception": false,
     "start_time": "2024-10-25T04:11:18.308018",
     "status": "completed"
    },
    "tags": []
   },
   "outputs": [],
   "source": [
    "# Imports\n",
    "import os\n",
    "from IPython.display import Markdown, display\n",
    "from tqdm.notebook import tqdm\n",
    "import warnings\n",
    "from PIL import Image \n",
    "import re\n",
    "\n",
    "# requires arxiv_on_deck_2\n",
    "\n",
    "from arxiv_on_deck_2.arxiv2 import (get_new_papers, \n",
    "                                    get_paper_from_identifier,\n",
    "                                    retrieve_document_source, \n",
    "                                    get_markdown_badge)\n",
    "from arxiv_on_deck_2 import (latex,\n",
    "                             latex_bib,\n",
    "                             mpia,\n",
    "                             highlight_authors_in_list)\n",
    "\n",
    "# Sometimes images are really big\n",
    "Image.MAX_IMAGE_PIXELS = 1000000000 "
   ]
  },
  {
   "cell_type": "code",
   "execution_count": 2,
   "id": "22aa9d44",
   "metadata": {
    "execution": {
     "iopub.execute_input": "2024-10-25T04:11:18.766938Z",
     "iopub.status.busy": "2024-10-25T04:11:18.766449Z",
     "iopub.status.idle": "2024-10-25T04:11:18.774417Z",
     "shell.execute_reply": "2024-10-25T04:11:18.773905Z"
    },
    "papermill": {
     "duration": 0.012591,
     "end_time": "2024-10-25T04:11:18.775396",
     "exception": false,
     "start_time": "2024-10-25T04:11:18.762805",
     "status": "completed"
    },
    "tags": []
   },
   "outputs": [],
   "source": [
    "# Some useful definitions.\n",
    "\n",
    "class AffiliationWarning(UserWarning):\n",
    "    pass\n",
    "\n",
    "class AffiliationError(RuntimeError):\n",
    "    pass\n",
    "\n",
    "def validation(source: str):\n",
    "    \"\"\"Raises error paper during parsing of source file\n",
    "    \n",
    "    Allows checks before parsing TeX code.\n",
    "    \n",
    "    Raises AffiliationWarning\n",
    "    \"\"\"\n",
    "    check = mpia.affiliation_verifications(source, verbose=True)\n",
    "    if check is not True:\n",
    "        raise AffiliationError(\"mpia.affiliation_verifications: \" + check)\n",
    "\n",
    "        \n",
    "warnings.simplefilter('always', AffiliationWarning)\n",
    "\n",
    "\n",
    "def get_markdown_qrcode(paper_id: str):\n",
    "    \"\"\" Generate a qrcode to the arxiv page using qrserver.com\n",
    "    \n",
    "    :param paper: Arxiv paper\n",
    "    :returns: markdown text\n",
    "    \"\"\"\n",
    "    url = r\"https://api.qrserver.com/v1/create-qr-code/?size=100x100&data=\"\n",
    "    txt = f\"\"\"<img src={url}\"https://arxiv.org/abs/{paper_id}\">\"\"\"\n",
    "    txt = '<div id=\"qrcode\">' + txt + '</div>'\n",
    "    return txt\n",
    "\n",
    "\n",
    "def clean_non_western_encoded_characters_commands(text: str) -> str:\n",
    "    \"\"\" Remove non-western encoded characters from a string\n",
    "    List may need to grow.\n",
    "    \n",
    "    :param text: the text to clean\n",
    "    :return: the cleaned text\n",
    "    \"\"\"\n",
    "    text = re.sub(r\"(\\\\begin{CJK}{UTF8}{gbsn})(.*?)(\\\\end{CJK})\", r\"\\2\", text)\n",
    "    return text\n",
    "\n",
    "\n",
    "def get_initials(name: str) -> str:\n",
    "    \"\"\" Get the short name, e.g., A.-B. FamName\n",
    "    :param name: full name\n",
    "    :returns: initials\n",
    "    \"\"\"\n",
    "    initials = []\n",
    "    # account for non western names often in ()\n",
    "    if '(' in name:\n",
    "        name = clean_non_western_encoded_characters_commands(name)\n",
    "        suffix = re.findall(r\"\\((.*?)\\)\", name)[0]\n",
    "        name = name.replace(f\"({suffix})\", '')\n",
    "    else:\n",
    "        suffix = ''\n",
    "    split = name.split()\n",
    "    for token in split[:-1]:\n",
    "        if '-' in token:\n",
    "            current = '-'.join([k[0] + '.' for k in token.split('-')])\n",
    "        else:\n",
    "            current = token[0] + '.'\n",
    "        initials.append(current)\n",
    "    initials.append(split[-1].strip())\n",
    "    if suffix:\n",
    "        initials.append(f\"({suffix})\")\n",
    "    return ' '.join(initials)"
   ]
  },
  {
   "cell_type": "markdown",
   "id": "14bd6310",
   "metadata": {
    "papermill": {
     "duration": 0.002909,
     "end_time": "2024-10-25T04:11:18.781322",
     "exception": false,
     "start_time": "2024-10-25T04:11:18.778413",
     "status": "completed"
    },
    "tags": []
   },
   "source": [
    "## get list of arxiv paper candidates\n",
    "\n",
    "We use the MPIA mitarbeiter list webpage from mpia.de to get author names\n",
    "We then get all new papers from Arxiv and match authors"
   ]
  },
  {
   "cell_type": "code",
   "execution_count": 3,
   "id": "7ea813a8",
   "metadata": {
    "execution": {
     "iopub.execute_input": "2024-10-25T04:11:18.788315Z",
     "iopub.status.busy": "2024-10-25T04:11:18.787754Z",
     "iopub.status.idle": "2024-10-25T04:11:34.301235Z",
     "shell.execute_reply": "2024-10-25T04:11:34.300516Z"
    },
    "papermill": {
     "duration": 15.518402,
     "end_time": "2024-10-25T04:11:34.302630",
     "exception": false,
     "start_time": "2024-10-25T04:11:18.784228",
     "status": "completed"
    },
    "tags": []
   },
   "outputs": [],
   "source": [
    "# deal with the author list and edge cases of people that cannot be consistent on their name  \n",
    "\n",
    "def filter_non_scientists(name: str) -> bool:\n",
    "    \"\"\" Loose filter on expected authorships\n",
    "\n",
    "    removing IT, administration, technical staff\n",
    "    :param name: name\n",
    "    :returns: False if name is not a scientist\n",
    "    \"\"\"\n",
    "    remove_list = ['Licht', 'Binroth', 'Witzel', 'Jordan',\n",
    "                   'Zähringer', 'Scheerer', 'Hoffmann', 'Düe',\n",
    "                   'Hellmich', 'Enkler-Scharpegge', 'Witte-Nguy',\n",
    "                   'Dehen', 'Beckmann', 'Jager', 'Jäger'\n",
    "                  ]\n",
    "\n",
    "    for k in remove_list:\n",
    "        if k in name:\n",
    "            return False\n",
    "    return True\n",
    "\n",
    "def add_author_to_list(author_list: list) -> list:\n",
    "    \"\"\" Add author to list if not already in list\n",
    "    \n",
    "    :param author: author name\n",
    "    :param author_list: list of authors\n",
    "    :returns: updated list of authors\n",
    "    \"\"\"\n",
    "    add_list = ['T. Henning']\n",
    "\n",
    "    for author in add_list:\n",
    "        if author not in author_list:\n",
    "            author_list.append(author)\n",
    "    return author_list\n",
    "\n",
    "# get list from MPIA website\n",
    "# filter for non-scientists (mpia.get_mpia_mitarbeiter_list() does some filtering)\n",
    "mpia_authors = [k[1] for k in mpia.get_mpia_mitarbeiter_list() if filter_non_scientists(k[1])]\n",
    "# add some missing author because of inconsistencies in their MPIA name and author name on papers\n",
    "mpia_authors = add_author_to_list(mpia_authors)"
   ]
  },
  {
   "cell_type": "code",
   "execution_count": 4,
   "id": "2645e73a",
   "metadata": {
    "execution": {
     "iopub.execute_input": "2024-10-25T04:11:34.310693Z",
     "iopub.status.busy": "2024-10-25T04:11:34.310141Z",
     "iopub.status.idle": "2024-10-25T04:11:35.010763Z",
     "shell.execute_reply": "2024-10-25T04:11:35.010091Z"
    },
    "papermill": {
     "duration": 0.705879,
     "end_time": "2024-10-25T04:11:35.011954",
     "exception": false,
     "start_time": "2024-10-25T04:11:34.306075",
     "status": "completed"
    },
    "tags": []
   },
   "outputs": [
    {
     "name": "stdout",
     "output_type": "stream",
     "text": [
      "S. Li  ->  S. Li  |  ['S. Li']\n",
      "T. Henning  ->  T. Henning  |  ['T. Henning']\n",
      "D. Semenov  ->  D. Semenov  |  ['D. Semenov']\n",
      "Arxiv has 70 new papers today\n",
      "          2 with possible author matches\n"
     ]
    }
   ],
   "source": [
    "new_papers = get_new_papers()\n",
    "# add manual references\n",
    "add_paper_refs = []\n",
    "new_papers.extend([get_paper_from_identifier(k) for k in add_paper_refs])\n",
    "\n",
    "def robust_call(fn, value, *args, **kwargs):\n",
    "    try:\n",
    "        return fn(value, *args, **kwargs)\n",
    "    except Exception:\n",
    "        return value\n",
    "\n",
    "candidates = []\n",
    "for paperk in new_papers:\n",
    "    # Check author list with their initials\n",
    "    normed_author_list = [robust_call(mpia.get_initials, k) for k in paperk['authors']]\n",
    "    hl_authors = highlight_authors_in_list(normed_author_list, mpia_authors, verbose=True)\n",
    "    matches = [(hl, orig) for hl, orig in zip(hl_authors, paperk['authors']) if 'mark' in hl]\n",
    "    paperk['authors'] = hl_authors\n",
    "    if matches:\n",
    "        # only select paper if an author matched our list\n",
    "        candidates.append(paperk)\n",
    "print(\"\"\"Arxiv has {0:,d} new papers today\"\"\".format(len(new_papers)))        \n",
    "print(\"\"\"          {0:,d} with possible author matches\"\"\".format(len(candidates)))"
   ]
  },
  {
   "cell_type": "markdown",
   "id": "3543b34a",
   "metadata": {
    "papermill": {
     "duration": 0.003068,
     "end_time": "2024-10-25T04:11:35.018438",
     "exception": false,
     "start_time": "2024-10-25T04:11:35.015370",
     "status": "completed"
    },
    "tags": []
   },
   "source": [
    "# Parse sources and generate relevant outputs\n",
    "\n",
    "From the candidates, we do the following steps:\n",
    "* get their tarball from ArXiv (and extract data)\n",
    "* find the main .tex file: find one with \\documentclass{...} (sometimes it's non trivial)\n",
    "* Check affiliations with :func:`validation`, which uses :func:`mpia.affiliation_verifications`\n",
    "* If passing the affiliations: we parse the .tex source\n",
    "   * inject sub-documents into the main (flatten the main document)\n",
    "   * parse structure, extract information (title, abstract, authors, figures...)\n",
    "   * handles `\\graphicspath` if provided\n",
    "* Generate the .md document."
   ]
  },
  {
   "cell_type": "code",
   "execution_count": 5,
   "id": "9576b79e",
   "metadata": {
    "execution": {
     "iopub.execute_input": "2024-10-25T04:11:35.025686Z",
     "iopub.status.busy": "2024-10-25T04:11:35.025296Z",
     "iopub.status.idle": "2024-10-25T04:11:56.454701Z",
     "shell.execute_reply": "2024-10-25T04:11:56.453957Z"
    },
    "papermill": {
     "duration": 21.434222,
     "end_time": "2024-10-25T04:11:56.455781",
     "exception": false,
     "start_time": "2024-10-25T04:11:35.021559",
     "status": "completed"
    },
    "scrolled": false,
    "tags": []
   },
   "outputs": [
    {
     "data": {
      "application/vnd.jupyter.widget-view+json": {
       "model_id": "2877446b149843a8b6963244b23ffee3",
       "version_major": 2,
       "version_minor": 0
      },
      "text/plain": [
       "  0%|          | 0/2 [00:00<?, ?it/s]"
      ]
     },
     "metadata": {},
     "output_type": "display_data"
    },
    {
     "name": "stdout",
     "output_type": "stream",
     "text": [
      "Retrieving document from  https://arxiv.org/e-print/2410.18801\n",
      "extracting tarball to tmp_2410.18801... done.\n",
      "Retrieving document from  https://arxiv.org/e-print/2410.18941\n"
     ]
    },
    {
     "name": "stdout",
     "output_type": "stream",
     "text": [
      "extracting tarball to tmp_2410.18941..."
     ]
    },
    {
     "name": "stdout",
     "output_type": "stream",
     "text": [
      " done.\n"
     ]
    },
    {
     "name": "stdout",
     "output_type": "stream",
     "text": [
      "T. Henning  ->  T. Henning  |  ['T. Henning']\n",
      "D. Semenov  ->  D. Semenov  |  ['D. Semenov']\n"
     ]
    },
    {
     "name": "stderr",
     "output_type": "stream",
     "text": [
      "/opt/hostedtoolcache/Python/3.9.20/x64/lib/python3.9/site-packages/arxiv_on_deck_2/latex.py:132: LatexWarning: attempting recovering figure overview_L1448N\n",
      "  warnings.warn(LatexWarning(f'attempting recovering figure {image}'))\n",
      "/opt/hostedtoolcache/Python/3.9.20/x64/lib/python3.9/site-packages/arxiv_on_deck_2/latex.py:137: LatexWarning: Recovered figure overview_L1448N as tmp_2410.18941/./overview_L1448N.pdf\n",
      "  warnings.warn(LatexWarning(f'Recovered figure {image} as {fname}'))\n",
      "/opt/hostedtoolcache/Python/3.9.20/x64/lib/python3.9/site-packages/arxiv_on_deck_2/latex.py:132: LatexWarning: attempting recovering figure continuum_L1448N_li\n",
      "  warnings.warn(LatexWarning(f'attempting recovering figure {image}'))\n",
      "/opt/hostedtoolcache/Python/3.9.20/x64/lib/python3.9/site-packages/arxiv_on_deck_2/latex.py:137: LatexWarning: Recovered figure continuum_L1448N_li as tmp_2410.18941/./continuum_L1448N_li.pdf\n",
      "  warnings.warn(LatexWarning(f'Recovered figure {image} as {fname}'))\n"
     ]
    },
    {
     "name": "stdout",
     "output_type": "stream",
     "text": [
      "Found 100 bibliographic references in tmp_2410.18941/L1448N_PRODIGE_v9.bbl.\n"
     ]
    }
   ],
   "source": [
    "documents = []\n",
    "failed = []\n",
    "for paper in tqdm(candidates):\n",
    "    # debug crap\n",
    "    paper['identifier'] = paper['identifier'].lower().replace('arxiv:', '').replace(r'\\n', '').strip()\n",
    "    paper_id = paper['identifier']\n",
    "    \n",
    "    folder = f'tmp_{paper_id}'\n",
    "\n",
    "    try:\n",
    "        if not os.path.isdir(folder):\n",
    "            folder = retrieve_document_source(f\"{paper_id}\", f'tmp_{paper_id}')\n",
    "        \n",
    "        try:\n",
    "            doc = latex.LatexDocument(folder, validation=validation)    \n",
    "        except AffiliationError as affilerror:\n",
    "            msg = f\"ArXiv:{paper_id:s} is not an MPIA paper... \" + str(affilerror)\n",
    "            failed.append((paper, \"affiliation error: \" + str(affilerror) ))\n",
    "            continue\n",
    "        \n",
    "        # Hack because sometimes author parsing does not work well\n",
    "        if (len(doc.authors) != len(paper['authors'])):\n",
    "            doc._authors = paper['authors']\n",
    "        else:\n",
    "            # highlight authors (FIXME: doc.highlight_authors)\n",
    "            # done on arxiv paper already\n",
    "            doc._authors = highlight_authors_in_list(\n",
    "                [get_initials(k) for k in doc.authors], \n",
    "                mpia_authors, verbose=True)\n",
    "        if (doc.abstract) in (None, ''):\n",
    "            doc._abstract = paper['abstract']\n",
    "            \n",
    "        doc.comment = (get_markdown_badge(paper_id) + \n",
    "                       \"<mark>Appeared on: \" + paper['date'] + \"</mark> - \")\n",
    "        if paper['comments']:\n",
    "            doc.comment += \" _\" + paper['comments'] + \"_\"\n",
    "        \n",
    "        full_md = doc.generate_markdown_text()\n",
    "        \n",
    "        full_md += get_markdown_qrcode(paper_id)\n",
    "        \n",
    "        # replace citations\n",
    "        try:\n",
    "            bibdata = latex_bib.LatexBib.from_doc(doc)\n",
    "            full_md = latex_bib.replace_citations(full_md, bibdata)\n",
    "        except Exception as e:\n",
    "            print(\"Issues with the citations\")\n",
    "            print(e)\n",
    "        \n",
    "        documents.append((paper_id, full_md))\n",
    "    except Exception as e:\n",
    "        warnings.warn(latex.LatexWarning(f\"{paper_id:s} did not run properly\\n\" +\n",
    "                                         str(e)\n",
    "                                        ))\n",
    "        failed.append((paper, \"latex error \" + str(e)))"
   ]
  },
  {
   "cell_type": "markdown",
   "id": "2505a25c",
   "metadata": {
    "papermill": {
     "duration": 0.003494,
     "end_time": "2024-10-25T04:11:56.463183",
     "exception": false,
     "start_time": "2024-10-25T04:11:56.459689",
     "status": "completed"
    },
    "tags": []
   },
   "source": [
    "### Export the logs\n",
    "\n",
    "Throughout, we also keep track of the logs per paper. see `logs-{today date}.md` "
   ]
  },
  {
   "cell_type": "code",
   "execution_count": 6,
   "id": "d733828a",
   "metadata": {
    "execution": {
     "iopub.execute_input": "2024-10-25T04:11:56.471249Z",
     "iopub.status.busy": "2024-10-25T04:11:56.470810Z",
     "iopub.status.idle": "2024-10-25T04:11:56.482877Z",
     "shell.execute_reply": "2024-10-25T04:11:56.482378Z"
    },
    "papermill": {
     "duration": 0.017266,
     "end_time": "2024-10-25T04:11:56.483877",
     "exception": false,
     "start_time": "2024-10-25T04:11:56.466611",
     "status": "completed"
    },
    "scrolled": false,
    "tags": []
   },
   "outputs": [
    {
     "data": {
      "text/markdown": [
       "## Successful papers"
      ],
      "text/plain": [
       "<IPython.core.display.Markdown object>"
      ]
     },
     "metadata": {},
     "output_type": "display_data"
    },
    {
     "data": {
      "text/markdown": [
       "\n",
       "|||\n",
       "|---:|:---|\n",
       "| [![arXiv](https://img.shields.io/badge/arXiv-2410.18941-b31b1b.svg)](https://arxiv.org/abs/2410.18941) | **PRODIGE -- envelope to disk with NOEMA. IV. An infalling gas bridge surrounding two Class 0/I systems in L1448N**  |\n",
       "|| C. Gieser, et al. -- incl., <mark>T. Henning</mark>, <mark>D. Semenov</mark> |\n",
       "|*Appeared on*| *2024-10-25*|\n",
       "|*Comments*| *17 pages, 10 figures*|\n",
       "|**Abstract**|            Context. The formation of stars has been subject to extensive studies in the past decades from molecular cloud to protoplanetary disk scales. It is still not fully understood how the surrounding material in a protostellar system, that often shows asymmetric structures with complex kinematic properties, feeds the central protostar(s) and their disk(s). Aims. We study the spatial morphology and kinematic properties of the molecular gas surrounding the IRS3A and IRS3B protostellar systems in the L1448N region located in the Perseus molecular cloud. Methods. We present 1 mm NOEMA observations of the PRODIGE large program and analyze the kinematic properties of molecular lines. Given the complexity of the spectral profiles, the lines are fitted with up to three Gaussian velocity components. The clustering algorithm DBSCAN is used to disentangle the velocity components into the underlying physical structure. Results. We discover an extended gas bridge (~3000 au) surrounding both the IRS3A and IRS3B systems in six molecular line tracers (C18O, SO, DCN, H2CO, HC3N, and CH3OH). This gas bridge is oriented along the northeast-southwest direction and shows clear velocity gradients on the order of 100 km/s/pc towards the IRS3A system. We find that the observed velocity profile is consistent with analytical streamline models of gravitational infall towards IRS3A. The high-velocity C18O (2-1) emission towards IRS3A indicates a protostellar mass of ~1.2 Msun. Conclusions. While high angular resolution continuum data often show IRS3A and IRS3B in isolation, molecular gas observations reveal that these systems are still embedded within a large-scale mass reservoir with a complex spatial morphology as well as velocity profiles. The kinematic properties of the extended gas bridge are consistent with gravitational infall toward the IRS3A protostar.         |"
      ],
      "text/plain": [
       "[2410.18941] PRODIGE -- envelope to disk with NOEMA. IV. An infalling gas bridge surrounding two Class 0/I systems in L1448N\n",
       "\tC. Gieser, et al. -- incl., <mark>T. Henning</mark>, <mark>D. Semenov</mark>"
      ]
     },
     "metadata": {},
     "output_type": "display_data"
    },
    {
     "data": {
      "text/markdown": [
       "## Failed papers"
      ],
      "text/plain": [
       "<IPython.core.display.Markdown object>"
      ]
     },
     "metadata": {},
     "output_type": "display_data"
    },
    {
     "data": {
      "text/markdown": [
       "\n",
       "|||\n",
       "|---:|:---|\n",
       "| [![arXiv](https://img.shields.io/badge/arXiv-2410.18801-b31b1b.svg)](https://arxiv.org/abs/2410.18801) | **Enhanced Peak and Extended Cooling of the Extreme-ultraviolet Late Phase in a Confined Solar Flare**  |\n",
       "|| <mark>S. Li</mark>, et al. |\n",
       "|*Appeared on*| *2024-10-25*|\n",
       "|*Comments*| *17 pages, 10 figures, accepted for publication in ApJ*|\n",
       "|**Abstract**|            We present observations and analysis of an X1.8 non-eruptive solar flare on 2012 October 23, which is characterized by an extremely large late-phase peak seen in the warm coronal extreme-ultraviolet (EUV) emissions ($\\sim$ 3 MK), with the peak intensity over 1.4 times that of main flare peak. The flare is driven by a failed eruption of a magnetic flux rope (MFR), whose strong squeeze force acting on the overlying magnetic structures gives rise to an intense early heating of the late-phase loops. Based on differential emission measure (DEM) analysis, it is found that the late-phase loops experience a \"longer-than-expected\" cooling without the presence of any obvious additional heating, and meanwhile, their volume emission measure (EM) maintains a plateau level for a long time before turning into an evident decay. Without the need for an additional heating, we propose that the special thermodynamic evolution of the late-phase loops revealed in this flare might arise from loop cross-sectional expansions with height, which are evidenced by both direct measurements from EUV images and by magnetic field extrapolation. By blocking the losses of both heat flux and mass from the corona, such an upward cross-sectional expansion not only elongates the loop cooling time, but also more effectively sustains the loop density, therefore leading to a later-than-expected occurrence of the warm coronal late phase in combination with a sufficiently high late-phase peak. We further verify such a scenario by analytically solving the cooling process of a late-phase loop characterized by a variable cross section.         |\n",
       "|<p style=\"color:green\"> **ERROR** </p>| <p style=\"color:green\">affiliation error: mpia.affiliation_verifications: 'Heidelberg' keyword not found.</p> |"
      ],
      "text/plain": [
       "<IPython.core.display.Markdown object>"
      ]
     },
     "metadata": {},
     "output_type": "display_data"
    }
   ],
   "source": [
    "import datetime\n",
    "today = str(datetime.date.today())\n",
    "logfile = f\"_build/html/logs/log-{today}.md\"\n",
    "\n",
    "\n",
    "with open(logfile, 'w') as logs:\n",
    "    # Success\n",
    "    logs.write(f'# Arxiv on Deck 2: Logs - {today}\\n\\n')\n",
    "    logs.write(\"\"\"* Arxiv had {0:,d} new papers\\n\"\"\".format(len(new_papers)))\n",
    "    logs.write(\"\"\"    * {0:,d} with possible author matches\\n\\n\"\"\".format(len(candidates)))\n",
    "    logs.write(\"## Sucessful papers\\n\\n\")\n",
    "    display(Markdown(\"## Successful papers\"))\n",
    "    success = [k[0] for k in documents]\n",
    "    for candid in candidates:\n",
    "        if candid['identifier'].split(':')[-1] in success:\n",
    "            display(candid)\n",
    "            logs.write(candid.generate_markdown_text() + '\\n\\n')\n",
    "\n",
    "    ## failed\n",
    "    logs.write(\"## Failed papers\\n\\n\")\n",
    "    display(Markdown(\"## Failed papers\"))\n",
    "    failed = sorted(failed, key=lambda x: x[1])\n",
    "    current_reason = \"\"\n",
    "    for paper, reason in failed:\n",
    "        if 'affiliation' in reason:\n",
    "            color = 'green'\n",
    "        else:\n",
    "            color = 'red'\n",
    "        data = Markdown(\n",
    "                paper.generate_markdown_text() + \n",
    "                f'\\n|<p style=\"color:{color:s}\"> **ERROR** </p>| <p style=\"color:{color:s}\">{reason:s}</p> |'\n",
    "               )\n",
    "        if reason != current_reason:\n",
    "            logs.write(f'### {reason:s} \\n\\n')\n",
    "            current_reason = reason\n",
    "        logs.write(data.data + '\\n\\n')\n",
    "        \n",
    "        # only display here the important errors (all in logs)\n",
    "        # if color in ('red',):\n",
    "        display(data)"
   ]
  },
  {
   "cell_type": "markdown",
   "id": "472d20ee",
   "metadata": {
    "papermill": {
     "duration": 0.003808,
     "end_time": "2024-10-25T04:11:56.491689",
     "exception": false,
     "start_time": "2024-10-25T04:11:56.487881",
     "status": "completed"
    },
    "tags": []
   },
   "source": [
    "## Export documents\n",
    "\n",
    "We now write the .md files and export relevant images"
   ]
  },
  {
   "cell_type": "code",
   "execution_count": 7,
   "id": "d426aed9",
   "metadata": {
    "execution": {
     "iopub.execute_input": "2024-10-25T04:11:56.500556Z",
     "iopub.status.busy": "2024-10-25T04:11:56.500145Z",
     "iopub.status.idle": "2024-10-25T04:11:56.506782Z",
     "shell.execute_reply": "2024-10-25T04:11:56.506274Z"
    },
    "papermill": {
     "duration": 0.012199,
     "end_time": "2024-10-25T04:11:56.507779",
     "exception": false,
     "start_time": "2024-10-25T04:11:56.495580",
     "status": "completed"
    },
    "tags": []
   },
   "outputs": [],
   "source": [
    "def export_markdown_summary(md: str, md_fname:str, directory: str):\n",
    "    \"\"\"Export MD document and associated relevant images\"\"\"\n",
    "    import os\n",
    "    import shutil\n",
    "    import re\n",
    "\n",
    "    if (os.path.exists(directory) and not os.path.isdir(directory)):\n",
    "        raise RuntimeError(f\"a non-directory file exists with name {directory:s}\")\n",
    "\n",
    "    if (not os.path.exists(directory)):\n",
    "        print(f\"creating directory {directory:s}\")\n",
    "        os.mkdir(directory)\n",
    "\n",
    "    fig_fnames = (re.compile(r'\\[Fig.*\\]\\((.*)\\)').findall(md) + \n",
    "                  re.compile(r'\\<img src=\"([^>\\s]*)\"[^>]*/>').findall(md))\n",
    "    print(\"found figures\", fig_fnames)\n",
    "    for fname in fig_fnames:\n",
    "        if 'http' in fname:\n",
    "            # No need to copy online figures\n",
    "            continue\n",
    "        if not os.path.exists(fname):\n",
    "            print(\"file not found\", fname)\n",
    "            continue\n",
    "        print(\"copying \", fname, \"to\", directory)\n",
    "        destdir = os.path.join(directory, os.path.dirname(fname))\n",
    "        destfname = os.path.join(destdir, os.path.basename(fname))\n",
    "        try:\n",
    "            os.makedirs(destdir)\n",
    "        except FileExistsError:\n",
    "            pass\n",
    "        shutil.copy(fname, destfname)\n",
    "    with open(os.path.join(directory, md_fname), 'w') as fout:\n",
    "        fout.write(md)\n",
    "    print(\"exported in \", os.path.join(directory, md_fname))\n",
    "    [print(\"    + \" + os.path.join(directory,fk)) for fk in fig_fnames]"
   ]
  },
  {
   "cell_type": "code",
   "execution_count": 8,
   "id": "014d04a4",
   "metadata": {
    "execution": {
     "iopub.execute_input": "2024-10-25T04:11:56.516771Z",
     "iopub.status.busy": "2024-10-25T04:11:56.516256Z",
     "iopub.status.idle": "2024-10-25T04:11:56.523885Z",
     "shell.execute_reply": "2024-10-25T04:11:56.523254Z"
    },
    "papermill": {
     "duration": 0.013201,
     "end_time": "2024-10-25T04:11:56.524968",
     "exception": false,
     "start_time": "2024-10-25T04:11:56.511767",
     "status": "completed"
    },
    "tags": []
   },
   "outputs": [
    {
     "name": "stdout",
     "output_type": "stream",
     "text": [
      "found figures ['tmp_2410.18941/./overview_L1448N.png', 'tmp_2410.18941/./continuum_L1448N_li.png', 'tmp_2410.18941/./moment0_L1448N_all.png', 'tmp_2410.18941/./L1448N_outflows.png', 'tmp_2410.18941/./L1448N_outflows_spectra.png']\n",
      "copying  tmp_2410.18941/./overview_L1448N.png to _build/html/\n",
      "copying  tmp_2410.18941/./continuum_L1448N_li.png to _build/html/\n",
      "copying  tmp_2410.18941/./moment0_L1448N_all.png to _build/html/\n",
      "copying  tmp_2410.18941/./L1448N_outflows.png to _build/html/\n",
      "copying  tmp_2410.18941/./L1448N_outflows_spectra.png to _build/html/\n",
      "exported in  _build/html/2410.18941.md\n",
      "    + _build/html/tmp_2410.18941/./overview_L1448N.png\n",
      "    + _build/html/tmp_2410.18941/./continuum_L1448N_li.png\n",
      "    + _build/html/tmp_2410.18941/./moment0_L1448N_all.png\n",
      "    + _build/html/tmp_2410.18941/./L1448N_outflows.png\n",
      "    + _build/html/tmp_2410.18941/./L1448N_outflows_spectra.png\n"
     ]
    }
   ],
   "source": [
    "for paper_id, md in documents:\n",
    "    export_markdown_summary(md, f\"{paper_id:s}.md\", '_build/html/')"
   ]
  },
  {
   "cell_type": "markdown",
   "id": "f087a0a7",
   "metadata": {
    "papermill": {
     "duration": 0.003955,
     "end_time": "2024-10-25T04:11:56.532971",
     "exception": false,
     "start_time": "2024-10-25T04:11:56.529016",
     "status": "completed"
    },
    "tags": []
   },
   "source": [
    "## Display the papers\n",
    "\n",
    "Not necessary but allows for a quick check."
   ]
  },
  {
   "cell_type": "code",
   "execution_count": 9,
   "id": "fd25f625",
   "metadata": {
    "execution": {
     "iopub.execute_input": "2024-10-25T04:11:56.542003Z",
     "iopub.status.busy": "2024-10-25T04:11:56.541546Z",
     "iopub.status.idle": "2024-10-25T04:11:56.546316Z",
     "shell.execute_reply": "2024-10-25T04:11:56.545780Z"
    },
    "papermill": {
     "duration": 0.010233,
     "end_time": "2024-10-25T04:11:56.547265",
     "exception": false,
     "start_time": "2024-10-25T04:11:56.537032",
     "status": "completed"
    },
    "scrolled": false,
    "tags": []
   },
   "outputs": [
    {
     "data": {
      "text/markdown": [
       "<div class=\"macros\" style=\"visibility:hidden;\">\n",
       "$\\newcommand{\\ensuremath}{}$\n",
       "$\\newcommand{\\xspace}{}$\n",
       "$\\newcommand{\\object}[1]{\\texttt{#1}}$\n",
       "$\\newcommand{\\farcs}{{.}''}$\n",
       "$\\newcommand{\\farcm}{{.}'}$\n",
       "$\\newcommand{\\arcsec}{''}$\n",
       "$\\newcommand{\\arcmin}{'}$\n",
       "$\\newcommand{\\ion}[2]{#1#2}$\n",
       "$\\newcommand{\\textsc}[1]{\\textrm{#1}}$\n",
       "$\\newcommand{\\hl}[1]{\\textrm{#1}}$\n",
       "$\\newcommand{\\footnote}[1]{}$\n",
       "$\\newcommand{\\arraystretch}{1.1}$\n",
       "$\\newcommand{\\arraystretch}{1.1}$\n",
       "$\\newcommand\\as{\\ifmmode{\\rlap.} \" \\! \\else {\\rlap.} \" \\!\\fi}$</div>\n",
       "\n",
       "\n",
       "\n",
       "<div id=\"title\">\n",
       "\n",
       "# PRODIGE - envelope to disk with NOEMA.: IV. An infalling gas bridge surrounding two Class 0/I systems in L1448N\n",
       "\n",
       "</div>\n",
       "<div id=\"comments\">\n",
       "\n",
       "[![arXiv](https://img.shields.io/badge/arXiv-2410.18941-b31b1b.svg)](https://arxiv.org/abs/2410.18941)<mark>Appeared on: 2024-10-25</mark> -  _17 pages, 10 figures_\n",
       "\n",
       "</div>\n",
       "<div id=\"authors\">\n",
       "\n",
       "C. Gieser, et al. -- incl., <mark>T. Henning</mark>, <mark>D. Semenov</mark>\n",
       "\n",
       "</div>\n",
       "<div id=\"abstract\">\n",
       "\n",
       "**Abstract:** The formation of stars has been subject to extensive studies in the past decades from molecular cloud to protoplanetary disk scales. It is still not fully understood how the surrounding material in a protostellar system, that often shows asymmetric structures with complex kinematic properties, feeds the central protostar(s) and their disk(s). We study the spatial morphology and kinematic properties of the molecular gas surrounding the IRS3A and IRS3B protostellar systems in the L1448N region located in the Perseus molecular cloud. We present 1 mm NOEMA observations of the PRODIGE large program and analyze the kinematic properties of molecular lines. Given the complexity of the spectral profiles, the lines are fitted with up to three Gaussian velocity components. The clustering algorithm \\texttt{DBSCAN} is used to disentangle the velocity components into the underlying physical structure. We discover an extended gas bridge ( $\\approx$ 3000 au) surrounding both the IRS3A and IRS3B systems in six molecular line tracers (C $^{18}$ O, SO, DCN, H $_{2}$ CO, HC $_{3}$ N, and CH $_{3}$ OH). This gas bridge is oriented along the northeast-southwest direction and shows clear velocity gradients on the order of 100 km s $^{-1}$ pc $^{-1}$ towards the IRS3A system. We find that the observed velocity profile is consistent with analytical streamline models of gravitational infall towards IRS3A. The high-velocity C $^{18}$ O ( $2-1$ ) emission towards IRS3A indicates a protostellar mass of $\\sim$ 1.2 $M_\\odot$ . While high angular resolution continuum data often show IRS3A and IRS3B in isolation, molecular gas observations reveal that these systems are still embedded within a large-scale mass reservoir with a complex spatial morphology as well as velocity profiles. The kinematic properties of the extended gas bridge are consistent with gravitational infall toward the IRS3A protostar.\n",
       "\n",
       "</div>\n",
       "\n",
       "<div id=\"div_fig1\">\n",
       "\n",
       "<img src=\"tmp_2410.18941/./overview_L1448N.png\" alt=\"Fig6.1\" width=\"50%\"/><img src=\"tmp_2410.18941/./continuum_L1448N_li.png\" alt=\"Fig6.2\" width=\"50%\"/>\n",
       "\n",
       "**Figure 6. -** Continuum images toward L1448N. The left panel shows in color the JCMT 850 $\\upmu$m emission taken from the COMPLETE survey \\citep[][]{Ridge2006, Kirk2006}. The grey dashed circles are the primary beam (22$\\farcs$8) of the two NOEMA pointings of the PRODIGE observations. The protostellar systems of L1448N (IRS3A, IRS3B, and IRS3C), as well as the nearby L1448-mm system are marked by black squares. The beam of JCMT and NOEMA observations is shown in the bottom right corner in green and black, respectively. In the right panel the 1.4 mm continuum image of the PRODIGE observations is presented in color and white contours. Contour levels are 5, 10, 20, 40, 80, 160$\\times \\sigma_\\mathrm{cont}$($\\sigma_\\mathrm{cont}$=0.94 mJy beam$^{-1}$). The black circles mark the positions of individual protostars taken from the VANDAM survey  ([Tobin, Looney and Li 2016]()) . The synthesized beam of the NOEMA data is shown in the bottom left corner. In both panels scale bars are marked in the top left corner and bipolar outflow orientations are highlighted by red and blue arrows (Sect. \\ref{sec:outflow}). (*fig:continuum*)\n",
       "\n",
       "</div>\n",
       "<div id=\"div_fig2\">\n",
       "\n",
       "<img src=\"tmp_2410.18941/./moment0_L1448N_all.png\" alt=\"Fig7\" width=\"100%\"/>\n",
       "\n",
       "**Figure 7. -** Line integrated intensity maps of the PRODIGE observations. The line integrated intensity and the 1.4 mm continuum is presented in color and white contours, respectively. Contour levels are 5, 40, 160$\\times \\sigma_\\mathrm{cont}$($\\sigma_\\mathrm{cont}$=0.94 mJy beam$^{-1}$). The IRS3A and IRS3B protostellar systems toward L1448N are labeled in white. The black circles mark the positions of individual protostars taken from the VANDAM survey  ([Tobin, Looney and Li 2016]()) . Bipolar outflow orientations are indicated by blue and red arrows. The synthesized beam of the line and continuum data is indicated in the bottom left and bottom right corner, respectively. A scale bar is shown in the top right corner. In the bottom row panels, the extent of bridge structure is indicated by the dashed pink polygon. Spectra toward the continuum peak position of IRS3A and IRS3B are shown in Fig. \\ref{fig:avg_spectra} for all transitions. (*fig:moment0*)\n",
       "\n",
       "</div>\n",
       "<div id=\"div_fig3\">\n",
       "\n",
       "<img src=\"tmp_2410.18941/./L1448N_outflows.png\" alt=\"Fig8.1\" width=\"50%\"/><img src=\"tmp_2410.18941/./L1448N_outflows_spectra.png\" alt=\"Fig8.2\" width=\"50%\"/>\n",
       "\n",
       "**Figure 8. -** Molecular outflows in L1448N. In the top panels, the red and blue contours show the red- and blueshifted line integrated intensities of low-velocity CO $2-1$(left), high-velocity CO $2-1$(center), and SiO $5-4$(right). Contour levels are 0.1, 0.3, 0.5, 0.9$\\times$ the corresponding peak integrated intensity. In color the integrated intensity around the source velocity is presented. The integration ranges are listed in each panel and indicated by red and blue dashed vertical lines in the spectra in the bottom panels. Outflow orientations are indicated by blue and red arrows. The black contours are the 1.4 mm continuum of the PRODIGE observations. Contour levels are 5, 10, 20, 40, 80, 160$\\times \\sigma_\\mathrm{cont}$($\\sigma_\\mathrm{cont}$=0.94 mJy beam$^{-1}$). The protostellar systems of the L1448N system (IRS3A and IRS3B) are labeled in black. The synthesized beam of the line and continuum data is indicated in the bottom left and bottom right corner, respectively. A scale bar is shown in the top right corner. The bottom panels show spectra extracted from the positions indicated by the black triangles in the top panels. The grey vertical dashed line is the region velocity of L1448N ($\\approx$5 km s$^{-1}$). (*fig:outflow*)\n",
       "\n",
       "</div><div id=\"qrcode\"><img src=https://api.qrserver.com/v1/create-qr-code/?size=100x100&data=\"https://arxiv.org/abs/2410.18941\"></div>"
      ],
      "text/plain": [
       "<IPython.core.display.Markdown object>"
      ]
     },
     "metadata": {},
     "output_type": "display_data"
    }
   ],
   "source": [
    "[display(Markdown(k[1])) for k in documents];"
   ]
  },
  {
   "cell_type": "markdown",
   "id": "873873a4",
   "metadata": {
    "papermill": {
     "duration": 0.004136,
     "end_time": "2024-10-25T04:11:56.555670",
     "exception": false,
     "start_time": "2024-10-25T04:11:56.551534",
     "status": "completed"
    },
    "tags": []
   },
   "source": [
    "# Create HTML index"
   ]
  },
  {
   "cell_type": "code",
   "execution_count": 10,
   "id": "cf665672",
   "metadata": {
    "execution": {
     "iopub.execute_input": "2024-10-25T04:11:56.565266Z",
     "iopub.status.busy": "2024-10-25T04:11:56.564885Z",
     "iopub.status.idle": "2024-10-25T04:11:56.572818Z",
     "shell.execute_reply": "2024-10-25T04:11:56.572212Z"
    },
    "papermill": {
     "duration": 0.013911,
     "end_time": "2024-10-25T04:11:56.573876",
     "exception": false,
     "start_time": "2024-10-25T04:11:56.559965",
     "status": "completed"
    },
    "tags": []
   },
   "outputs": [
    {
     "name": "stdout",
     "output_type": "stream",
     "text": [
      "229  publications files modified in the last 7 days.\n"
     ]
    }
   ],
   "source": [
    "from datetime import datetime, timedelta, timezone\n",
    "from glob import glob\n",
    "import os\n",
    "\n",
    "files = glob('_build/html/*.md')\n",
    "days = 7\n",
    "now = datetime.today()\n",
    "res = []\n",
    "for fk in files:\n",
    "    stat_result = os.stat(fk).st_ctime\n",
    "    modified = datetime.fromtimestamp(stat_result, tz=timezone.utc).replace(tzinfo=None)\n",
    "    delta = now.today() - modified\n",
    "    if delta <= timedelta(days=days):\n",
    "        res.append((delta.seconds, fk))\n",
    "res = [k[1] for k in reversed(sorted(res, key=lambda x:x[1]))]\n",
    "npub = len(res)\n",
    "print(len(res), f\" publications files modified in the last {days:d} days.\")\n",
    "# [ print('\\t', k) for k in res ];"
   ]
  },
  {
   "cell_type": "code",
   "execution_count": 11,
   "id": "015de740",
   "metadata": {
    "execution": {
     "iopub.execute_input": "2024-10-25T04:11:56.583531Z",
     "iopub.status.busy": "2024-10-25T04:11:56.582950Z",
     "iopub.status.idle": "2024-10-25T04:11:56.598692Z",
     "shell.execute_reply": "2024-10-25T04:11:56.598091Z"
    },
    "papermill": {
     "duration": 0.021525,
     "end_time": "2024-10-25T04:11:56.599686",
     "exception": false,
     "start_time": "2024-10-25T04:11:56.578161",
     "status": "completed"
    },
    "tags": []
   },
   "outputs": [
    {
     "name": "stdout",
     "output_type": "stream",
     "text": [
      "8  publications in the last 7 days.\n"
     ]
    }
   ],
   "source": [
    "import datetime\n",
    "from glob import glob\n",
    "\n",
    "def get_last_n_days(lst, days=1):\n",
    "    \"\"\" Get the documents from the last n days \"\"\"\n",
    "    sorted_lst = sorted(lst, key=lambda x: x[1], reverse=True)\n",
    "    for fname, date in sorted_lst:\n",
    "        if date >= str(datetime.date.today() - datetime.timedelta(days=days)):\n",
    "            yield fname\n",
    "\n",
    "def extract_appearance_dates(lst_file):\n",
    "    dates = []\n",
    "\n",
    "    def get_date(line):\n",
    "        return line\\\n",
    "            .split('Appeared on:')[-1]\\\n",
    "            .split('</mark>')[0].strip()\n",
    "\n",
    "    for fname in lst:\n",
    "        with open(fname, 'r') as f:\n",
    "            found_date = False\n",
    "            for line in f:\n",
    "                if not found_date:\n",
    "                    if \"Appeared on\" in line:\n",
    "                        found_date = True\n",
    "                        dates.append((fname, get_date(line)))\n",
    "                else:\n",
    "                    break\n",
    "    return dates\n",
    "\n",
    "from glob import glob\n",
    "lst = glob('_build/html/*md')\n",
    "days = 7\n",
    "dates = extract_appearance_dates(lst)\n",
    "res = list(get_last_n_days(dates, days))\n",
    "npub = len(res)\n",
    "print(len(res), f\" publications in the last {days:d} days.\")"
   ]
  },
  {
   "cell_type": "code",
   "execution_count": 12,
   "id": "52ca0208",
   "metadata": {
    "execution": {
     "iopub.execute_input": "2024-10-25T04:11:56.609345Z",
     "iopub.status.busy": "2024-10-25T04:11:56.608888Z",
     "iopub.status.idle": "2024-10-25T04:11:56.613580Z",
     "shell.execute_reply": "2024-10-25T04:11:56.613074Z"
    },
    "papermill": {
     "duration": 0.010484,
     "end_time": "2024-10-25T04:11:56.614537",
     "exception": false,
     "start_time": "2024-10-25T04:11:56.604053",
     "status": "completed"
    },
    "scrolled": false,
    "tags": []
   },
   "outputs": [],
   "source": [
    "def create_carousel(npub=4):\n",
    "    \"\"\" Generate the HTML code for a carousel with `npub` slides \"\"\"\n",
    "    carousel = [\"\"\"  <div class=\"carousel\" \"\"\",\n",
    "                \"\"\"       data-flickity='{ \"autoPlay\": 10000, \"adaptiveHeight\": true, \"resize\": true, \"wrapAround\": true, \"pauseAutoPlayOnHover\": true, \"groupCells\": 1 }' id=\"asyncTypeset\">\"\"\"\n",
    "                ]\n",
    "    \n",
    "    item_str = \"\"\"    <div class=\"carousel-cell\"> <div id=\"slide{k}\" class=\"md_view\">Content {k}</div> </div>\"\"\"\n",
    "    for k in range(1, npub + 1):\n",
    "        carousel.append(item_str.format(k=k))\n",
    "    carousel.append(\"  </div>\")\n",
    "    return '\\n'.join(carousel)\n",
    "\n",
    "def create_grid(npub=4):\n",
    "    \"\"\" Generate the HTML code for a flat grid with `npub` slides \"\"\"\n",
    "    grid = [\"\"\"  <div class=\"grid\"> \"\"\",\n",
    "                ]\n",
    "    \n",
    "    item_str = \"\"\"    <div class=\"grid-item\"> <div id=\"slide{k}\" class=\"md_view\">Content {k}</div> </div>\"\"\"\n",
    "    for k in range(1, npub + 1):\n",
    "        grid.append(item_str.format(k=k))\n",
    "    grid.append(\"  </div>\")\n",
    "    return '\\n'.join(grid)"
   ]
  },
  {
   "cell_type": "code",
   "execution_count": 13,
   "id": "a6eac5b6",
   "metadata": {
    "execution": {
     "iopub.execute_input": "2024-10-25T04:11:56.624451Z",
     "iopub.status.busy": "2024-10-25T04:11:56.624080Z",
     "iopub.status.idle": "2024-10-25T04:11:56.629047Z",
     "shell.execute_reply": "2024-10-25T04:11:56.628529Z"
    },
    "papermill": {
     "duration": 0.010831,
     "end_time": "2024-10-25T04:11:56.629962",
     "exception": false,
     "start_time": "2024-10-25T04:11:56.619131",
     "status": "completed"
    },
    "scrolled": false,
    "tags": []
   },
   "outputs": [],
   "source": [
    "carousel = create_carousel(npub)\n",
    "docs = ', '.join(['\"{0:s}\"'.format(k.split('/')[-1]) for k in res])\n",
    "slides = ', '.join([f'\"slide{k}\"' for k in range(1, npub + 1)])\n",
    "\n",
    "with open(\"daily_template.html\", \"r\") as tpl:\n",
    "    page = tpl.read()\n",
    "    page = page.replace(\"{%-- carousel:s --%}\", carousel)\\\n",
    "               .replace(\"{%-- suptitle:s --%}\",  \"7-day archives\" )\\\n",
    "               .replace(\"{%-- docs:s --%}\", docs)\\\n",
    "               .replace(\"{%-- slides:s --%}\", slides)\n",
    "    \n",
    "with open(\"_build/html/index_7days.html\", 'w') as fout:\n",
    "    fout.write(page)"
   ]
  },
  {
   "cell_type": "code",
   "execution_count": 14,
   "id": "adc1a1ec",
   "metadata": {
    "execution": {
     "iopub.execute_input": "2024-10-25T04:11:56.640079Z",
     "iopub.status.busy": "2024-10-25T04:11:56.639601Z",
     "iopub.status.idle": "2024-10-25T04:11:56.646045Z",
     "shell.execute_reply": "2024-10-25T04:11:56.645497Z"
    },
    "papermill": {
     "duration": 0.012538,
     "end_time": "2024-10-25T04:11:56.646967",
     "exception": false,
     "start_time": "2024-10-25T04:11:56.634429",
     "status": "completed"
    },
    "tags": []
   },
   "outputs": [
    {
     "name": "stdout",
     "output_type": "stream",
     "text": [
      "4  publications in the last day.\n"
     ]
    }
   ],
   "source": [
    "# redo for today\n",
    "days = 1\n",
    "res = list(get_last_n_days(dates, days))\n",
    "npub = len(res)\n",
    "print(len(res), f\" publications in the last day.\")\n",
    "\n",
    "carousel = create_carousel(npub)\n",
    "docs = ', '.join(['\"{0:s}\"'.format(k.split('/')[-1]) for k in res])\n",
    "slides = ', '.join([f'\"slide{k}\"' for k in range(1, npub + 1)])\n",
    "\n",
    "with open(\"daily_template.html\", \"r\") as tpl:\n",
    "    page = tpl.read()\n",
    "    page = page.replace(\"{%-- carousel:s --%}\", carousel)\\\n",
    "               .replace(\"{%-- suptitle:s --%}\",  \"Daily\" )\\\n",
    "               .replace(\"{%-- docs:s --%}\", docs)\\\n",
    "               .replace(\"{%-- slides:s --%}\", slides)\n",
    "    \n",
    "# print(carousel, docs, slides)\n",
    "# print(page)\n",
    "with open(\"_build/html/index_daily.html\", 'w') as fout:\n",
    "    fout.write(page)"
   ]
  },
  {
   "cell_type": "code",
   "execution_count": 15,
   "id": "00eece82",
   "metadata": {
    "execution": {
     "iopub.execute_input": "2024-10-25T04:11:56.657147Z",
     "iopub.status.busy": "2024-10-25T04:11:56.656769Z",
     "iopub.status.idle": "2024-10-25T04:11:56.662783Z",
     "shell.execute_reply": "2024-10-25T04:11:56.662276Z"
    },
    "papermill": {
     "duration": 0.012296,
     "end_time": "2024-10-25T04:11:56.663823",
     "exception": false,
     "start_time": "2024-10-25T04:11:56.651527",
     "status": "completed"
    },
    "scrolled": false,
    "tags": []
   },
   "outputs": [
    {
     "name": "stdout",
     "output_type": "stream",
     "text": [
      "6  6 publications selected.\n"
     ]
    }
   ],
   "source": [
    "# Create the flat grid of the last N papers (fixed number regardless of dates)\n",
    "from itertools import islice \n",
    "\n",
    "npub = 6\n",
    "res = [k[0] for k in (islice(reversed(sorted(dates, key=lambda x: x[1])), 6))]\n",
    "print(len(res), f\" {npub} publications selected.\")\n",
    "\n",
    "grid = create_grid(npub)\n",
    "docs = ', '.join(['\"{0:s}\"'.format(k.split('/')[-1]) for k in res])\n",
    "slides = ', '.join([f'\"slide{k}\"' for k in range(1, npub + 1)])\n",
    "\n",
    "with open(\"grid_template.html\", \"r\") as tpl:\n",
    "    page = tpl.read()\n",
    "    page = page.replace(\"{%-- grid-content:s --%}\", grid)\\\n",
    "               .replace(\"{%-- suptitle:s --%}\",  f\"Last {npub:,d} papers\" )\\\n",
    "               .replace(\"{%-- docs:s --%}\", docs)\\\n",
    "               .replace(\"{%-- slides:s --%}\", slides)\n",
    "    \n",
    "# print(grid, docs, slides)\n",
    "# print(page)\n",
    "with open(\"_build/html/index_npub_grid.html\", 'w') as fout:\n",
    "    fout.write(page)"
   ]
  }
 ],
 "metadata": {
  "kernelspec": {
   "display_name": "Python 3 (ipykernel)",
   "language": "python",
   "name": "python3"
  },
  "language_info": {
   "codemirror_mode": {
    "name": "ipython",
    "version": 3
   },
   "file_extension": ".py",
   "mimetype": "text/x-python",
   "name": "python",
   "nbconvert_exporter": "python",
   "pygments_lexer": "ipython3",
   "version": "3.9.20"
  },
  "papermill": {
   "default_parameters": {},
   "duration": 39.472757,
   "end_time": "2024-10-25T04:11:56.884605",
   "environment_variables": {},
   "exception": null,
   "input_path": "MPIA daily digest.ipynb",
   "output_path": "log.ipynb",
   "parameters": {},
   "start_time": "2024-10-25T04:11:17.411848",
   "version": "2.6.0"
  },
  "vscode": {
   "interpreter": {
    "hash": "aee8b7b246df8f9039afb4144a1f6fd8d2ca17a180786b69acc140d282b71a49"
   }
  },
  "widgets": {
   "application/vnd.jupyter.widget-state+json": {
    "state": {
     "113db5d3d8564d7fb090d55369cf4efa": {
      "model_module": "@jupyter-widgets/base",
      "model_module_version": "2.0.0",
      "model_name": "LayoutModel",
      "state": {
       "_model_module": "@jupyter-widgets/base",
       "_model_module_version": "2.0.0",
       "_model_name": "LayoutModel",
       "_view_count": null,
       "_view_module": "@jupyter-widgets/base",
       "_view_module_version": "2.0.0",
       "_view_name": "LayoutView",
       "align_content": null,
       "align_items": null,
       "align_self": null,
       "border_bottom": null,
       "border_left": null,
       "border_right": null,
       "border_top": null,
       "bottom": null,
       "display": null,
       "flex": null,
       "flex_flow": null,
       "grid_area": null,
       "grid_auto_columns": null,
       "grid_auto_flow": null,
       "grid_auto_rows": null,
       "grid_column": null,
       "grid_gap": null,
       "grid_row": null,
       "grid_template_areas": null,
       "grid_template_columns": null,
       "grid_template_rows": null,
       "height": null,
       "justify_content": null,
       "justify_items": null,
       "left": null,
       "margin": null,
       "max_height": null,
       "max_width": null,
       "min_height": null,
       "min_width": null,
       "object_fit": null,
       "object_position": null,
       "order": null,
       "overflow": null,
       "padding": null,
       "right": null,
       "top": null,
       "visibility": null,
       "width": null
      }
     },
     "2877446b149843a8b6963244b23ffee3": {
      "model_module": "@jupyter-widgets/controls",
      "model_module_version": "2.0.0",
      "model_name": "HBoxModel",
      "state": {
       "_dom_classes": [],
       "_model_module": "@jupyter-widgets/controls",
       "_model_module_version": "2.0.0",
       "_model_name": "HBoxModel",
       "_view_count": null,
       "_view_module": "@jupyter-widgets/controls",
       "_view_module_version": "2.0.0",
       "_view_name": "HBoxView",
       "box_style": "",
       "children": [
        "IPY_MODEL_588e346288c24902a7ff1bb68b05cc35",
        "IPY_MODEL_a5711e420dbc472f846c49621c652ecd",
        "IPY_MODEL_4c7ad98c815a417ebc2e6dc6e8dd75e2"
       ],
       "layout": "IPY_MODEL_d6f49f54c83240678dc52dfb5a6def8e",
       "tabbable": null,
       "tooltip": null
      }
     },
     "2da6383a26a64ec692d10817c21d2567": {
      "model_module": "@jupyter-widgets/base",
      "model_module_version": "2.0.0",
      "model_name": "LayoutModel",
      "state": {
       "_model_module": "@jupyter-widgets/base",
       "_model_module_version": "2.0.0",
       "_model_name": "LayoutModel",
       "_view_count": null,
       "_view_module": "@jupyter-widgets/base",
       "_view_module_version": "2.0.0",
       "_view_name": "LayoutView",
       "align_content": null,
       "align_items": null,
       "align_self": null,
       "border_bottom": null,
       "border_left": null,
       "border_right": null,
       "border_top": null,
       "bottom": null,
       "display": null,
       "flex": null,
       "flex_flow": null,
       "grid_area": null,
       "grid_auto_columns": null,
       "grid_auto_flow": null,
       "grid_auto_rows": null,
       "grid_column": null,
       "grid_gap": null,
       "grid_row": null,
       "grid_template_areas": null,
       "grid_template_columns": null,
       "grid_template_rows": null,
       "height": null,
       "justify_content": null,
       "justify_items": null,
       "left": null,
       "margin": null,
       "max_height": null,
       "max_width": null,
       "min_height": null,
       "min_width": null,
       "object_fit": null,
       "object_position": null,
       "order": null,
       "overflow": null,
       "padding": null,
       "right": null,
       "top": null,
       "visibility": null,
       "width": null
      }
     },
     "48f526cd319747c8956ec585b959032a": {
      "model_module": "@jupyter-widgets/controls",
      "model_module_version": "2.0.0",
      "model_name": "HTMLStyleModel",
      "state": {
       "_model_module": "@jupyter-widgets/controls",
       "_model_module_version": "2.0.0",
       "_model_name": "HTMLStyleModel",
       "_view_count": null,
       "_view_module": "@jupyter-widgets/base",
       "_view_module_version": "2.0.0",
       "_view_name": "StyleView",
       "background": null,
       "description_width": "",
       "font_size": null,
       "text_color": null
      }
     },
     "4c7ad98c815a417ebc2e6dc6e8dd75e2": {
      "model_module": "@jupyter-widgets/controls",
      "model_module_version": "2.0.0",
      "model_name": "HTMLModel",
      "state": {
       "_dom_classes": [],
       "_model_module": "@jupyter-widgets/controls",
       "_model_module_version": "2.0.0",
       "_model_name": "HTMLModel",
       "_view_count": null,
       "_view_module": "@jupyter-widgets/controls",
       "_view_module_version": "2.0.0",
       "_view_name": "HTMLView",
       "description": "",
       "description_allow_html": false,
       "layout": "IPY_MODEL_113db5d3d8564d7fb090d55369cf4efa",
       "placeholder": "​",
       "style": "IPY_MODEL_c5be3ac704514fc081249ddd1f6aaf06",
       "tabbable": null,
       "tooltip": null,
       "value": " 2/2 [00:21&lt;00:00, 12.57s/it]"
      }
     },
     "54f106a2b1384cb8a303d452c7e9749f": {
      "model_module": "@jupyter-widgets/base",
      "model_module_version": "2.0.0",
      "model_name": "LayoutModel",
      "state": {
       "_model_module": "@jupyter-widgets/base",
       "_model_module_version": "2.0.0",
       "_model_name": "LayoutModel",
       "_view_count": null,
       "_view_module": "@jupyter-widgets/base",
       "_view_module_version": "2.0.0",
       "_view_name": "LayoutView",
       "align_content": null,
       "align_items": null,
       "align_self": null,
       "border_bottom": null,
       "border_left": null,
       "border_right": null,
       "border_top": null,
       "bottom": null,
       "display": null,
       "flex": null,
       "flex_flow": null,
       "grid_area": null,
       "grid_auto_columns": null,
       "grid_auto_flow": null,
       "grid_auto_rows": null,
       "grid_column": null,
       "grid_gap": null,
       "grid_row": null,
       "grid_template_areas": null,
       "grid_template_columns": null,
       "grid_template_rows": null,
       "height": null,
       "justify_content": null,
       "justify_items": null,
       "left": null,
       "margin": null,
       "max_height": null,
       "max_width": null,
       "min_height": null,
       "min_width": null,
       "object_fit": null,
       "object_position": null,
       "order": null,
       "overflow": null,
       "padding": null,
       "right": null,
       "top": null,
       "visibility": null,
       "width": null
      }
     },
     "588e346288c24902a7ff1bb68b05cc35": {
      "model_module": "@jupyter-widgets/controls",
      "model_module_version": "2.0.0",
      "model_name": "HTMLModel",
      "state": {
       "_dom_classes": [],
       "_model_module": "@jupyter-widgets/controls",
       "_model_module_version": "2.0.0",
       "_model_name": "HTMLModel",
       "_view_count": null,
       "_view_module": "@jupyter-widgets/controls",
       "_view_module_version": "2.0.0",
       "_view_name": "HTMLView",
       "description": "",
       "description_allow_html": false,
       "layout": "IPY_MODEL_54f106a2b1384cb8a303d452c7e9749f",
       "placeholder": "​",
       "style": "IPY_MODEL_48f526cd319747c8956ec585b959032a",
       "tabbable": null,
       "tooltip": null,
       "value": "100%"
      }
     },
     "a5711e420dbc472f846c49621c652ecd": {
      "model_module": "@jupyter-widgets/controls",
      "model_module_version": "2.0.0",
      "model_name": "FloatProgressModel",
      "state": {
       "_dom_classes": [],
       "_model_module": "@jupyter-widgets/controls",
       "_model_module_version": "2.0.0",
       "_model_name": "FloatProgressModel",
       "_view_count": null,
       "_view_module": "@jupyter-widgets/controls",
       "_view_module_version": "2.0.0",
       "_view_name": "ProgressView",
       "bar_style": "success",
       "description": "",
       "description_allow_html": false,
       "layout": "IPY_MODEL_2da6383a26a64ec692d10817c21d2567",
       "max": 2.0,
       "min": 0.0,
       "orientation": "horizontal",
       "style": "IPY_MODEL_f5cb422a4e2744b28c5c0d798aaf14aa",
       "tabbable": null,
       "tooltip": null,
       "value": 2.0
      }
     },
     "c5be3ac704514fc081249ddd1f6aaf06": {
      "model_module": "@jupyter-widgets/controls",
      "model_module_version": "2.0.0",
      "model_name": "HTMLStyleModel",
      "state": {
       "_model_module": "@jupyter-widgets/controls",
       "_model_module_version": "2.0.0",
       "_model_name": "HTMLStyleModel",
       "_view_count": null,
       "_view_module": "@jupyter-widgets/base",
       "_view_module_version": "2.0.0",
       "_view_name": "StyleView",
       "background": null,
       "description_width": "",
       "font_size": null,
       "text_color": null
      }
     },
     "d6f49f54c83240678dc52dfb5a6def8e": {
      "model_module": "@jupyter-widgets/base",
      "model_module_version": "2.0.0",
      "model_name": "LayoutModel",
      "state": {
       "_model_module": "@jupyter-widgets/base",
       "_model_module_version": "2.0.0",
       "_model_name": "LayoutModel",
       "_view_count": null,
       "_view_module": "@jupyter-widgets/base",
       "_view_module_version": "2.0.0",
       "_view_name": "LayoutView",
       "align_content": null,
       "align_items": null,
       "align_self": null,
       "border_bottom": null,
       "border_left": null,
       "border_right": null,
       "border_top": null,
       "bottom": null,
       "display": null,
       "flex": null,
       "flex_flow": null,
       "grid_area": null,
       "grid_auto_columns": null,
       "grid_auto_flow": null,
       "grid_auto_rows": null,
       "grid_column": null,
       "grid_gap": null,
       "grid_row": null,
       "grid_template_areas": null,
       "grid_template_columns": null,
       "grid_template_rows": null,
       "height": null,
       "justify_content": null,
       "justify_items": null,
       "left": null,
       "margin": null,
       "max_height": null,
       "max_width": null,
       "min_height": null,
       "min_width": null,
       "object_fit": null,
       "object_position": null,
       "order": null,
       "overflow": null,
       "padding": null,
       "right": null,
       "top": null,
       "visibility": null,
       "width": null
      }
     },
     "f5cb422a4e2744b28c5c0d798aaf14aa": {
      "model_module": "@jupyter-widgets/controls",
      "model_module_version": "2.0.0",
      "model_name": "ProgressStyleModel",
      "state": {
       "_model_module": "@jupyter-widgets/controls",
       "_model_module_version": "2.0.0",
       "_model_name": "ProgressStyleModel",
       "_view_count": null,
       "_view_module": "@jupyter-widgets/base",
       "_view_module_version": "2.0.0",
       "_view_name": "StyleView",
       "bar_color": null,
       "description_width": ""
      }
     }
    },
    "version_major": 2,
    "version_minor": 0
   }
  }
 },
 "nbformat": 4,
 "nbformat_minor": 5
}