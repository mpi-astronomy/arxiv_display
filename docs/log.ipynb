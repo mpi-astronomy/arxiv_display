{
 "cells": [
  {
   "cell_type": "markdown",
   "id": "92bcb855",
   "metadata": {
    "papermill": {
     "duration": 0.003966,
     "end_time": "2025-10-03T04:12:51.897108",
     "exception": false,
     "start_time": "2025-10-03T04:12:51.893142",
     "status": "completed"
    },
    "tags": []
   },
   "source": [
    "# MPIA Arxiv on Deck 2\n",
    "\n",
    "Contains the steps to produce the paper extractions."
   ]
  },
  {
   "cell_type": "code",
   "execution_count": 1,
   "id": "3a0d6e11",
   "metadata": {
    "execution": {
     "iopub.execute_input": "2025-10-03T04:12:51.904559Z",
     "iopub.status.busy": "2025-10-03T04:12:51.904276Z",
     "iopub.status.idle": "2025-10-03T04:12:52.119963Z",
     "shell.execute_reply": "2025-10-03T04:12:52.119237Z"
    },
    "papermill": {
     "duration": 0.220951,
     "end_time": "2025-10-03T04:12:52.121375",
     "exception": false,
     "start_time": "2025-10-03T04:12:51.900424",
     "status": "completed"
    },
    "tags": []
   },
   "outputs": [],
   "source": [
    "# Imports\n",
    "import os\n",
    "from IPython.display import Markdown, display\n",
    "from tqdm.notebook import tqdm\n",
    "import warnings\n",
    "from PIL import Image \n",
    "import re\n",
    "\n",
    "# requires arxiv_on_deck_2\n",
    "\n",
    "from arxiv_on_deck_2.arxiv2 import (get_new_papers, \n",
    "                                    get_paper_from_identifier,\n",
    "                                    retrieve_document_source, \n",
    "                                    get_markdown_badge)\n",
    "from arxiv_on_deck_2 import (latex,\n",
    "                             latex_bib,\n",
    "                             mpia,\n",
    "                             highlight_authors_in_list)\n",
    "\n",
    "# Sometimes images are really big\n",
    "Image.MAX_IMAGE_PIXELS = 1000000000 "
   ]
  },
  {
   "cell_type": "code",
   "execution_count": 2,
   "id": "22aa9d44",
   "metadata": {
    "execution": {
     "iopub.execute_input": "2025-10-03T04:12:52.128663Z",
     "iopub.status.busy": "2025-10-03T04:12:52.128446Z",
     "iopub.status.idle": "2025-10-03T04:12:52.136573Z",
     "shell.execute_reply": "2025-10-03T04:12:52.135982Z"
    },
    "papermill": {
     "duration": 0.012818,
     "end_time": "2025-10-03T04:12:52.137634",
     "exception": false,
     "start_time": "2025-10-03T04:12:52.124816",
     "status": "completed"
    },
    "tags": []
   },
   "outputs": [],
   "source": [
    "# Some useful definitions.\n",
    "\n",
    "class AffiliationWarning(UserWarning):\n",
    "    pass\n",
    "\n",
    "class AffiliationError(RuntimeError):\n",
    "    pass\n",
    "\n",
    "def validation(source: str):\n",
    "    \"\"\"Raises error paper during parsing of source file\n",
    "    \n",
    "    Allows checks before parsing TeX code.\n",
    "    \n",
    "    Raises AffiliationWarning\n",
    "    \"\"\"\n",
    "    check = mpia.affiliation_verifications(source, verbose=True)\n",
    "    if check is not True:\n",
    "        raise AffiliationError(\"mpia.affiliation_verifications: \" + check)\n",
    "\n",
    "        \n",
    "warnings.simplefilter('always', AffiliationWarning)\n",
    "\n",
    "\n",
    "def get_markdown_qrcode(paper_id: str):\n",
    "    \"\"\" Generate a qrcode to the arxiv page using qrserver.com\n",
    "    \n",
    "    :param paper: Arxiv paper\n",
    "    :returns: markdown text\n",
    "    \"\"\"\n",
    "    url = r\"https://api.qrserver.com/v1/create-qr-code/?size=100x100&data=\"\n",
    "    txt = f\"\"\"<img src={url}\"https://arxiv.org/abs/{paper_id}\">\"\"\"\n",
    "    txt = '<div id=\"qrcode\">' + txt + '</div>'\n",
    "    return txt\n",
    "\n",
    "\n",
    "def clean_non_western_encoded_characters_commands(text: str) -> str:\n",
    "    \"\"\" Remove non-western encoded characters from a string\n",
    "    List may need to grow.\n",
    "    \n",
    "    :param text: the text to clean\n",
    "    :return: the cleaned text\n",
    "    \"\"\"\n",
    "    text = re.sub(r\"(\\\\begin{CJK}{UTF8}{gbsn})(.*?)(\\\\end{CJK})\", r\"\\2\", text)\n",
    "    return text\n",
    "\n",
    "\n",
    "def get_initials(name: str) -> str:\n",
    "    \"\"\" Get the short name, e.g., A.-B. FamName\n",
    "    :param name: full name\n",
    "    :returns: initials\n",
    "    \"\"\"\n",
    "    initials = []\n",
    "    # account for non western names often in ()\n",
    "    if '(' in name:\n",
    "        name = clean_non_western_encoded_characters_commands(name)\n",
    "        suffix = re.findall(r\"\\((.*?)\\)\", name)[0]\n",
    "        name = name.replace(f\"({suffix})\", '')\n",
    "    else:\n",
    "        suffix = ''\n",
    "    split = name.split()\n",
    "    for token in split[:-1]:\n",
    "        if '-' in token:\n",
    "            current = '-'.join([k[0] + '.' for k in token.split('-')])\n",
    "        else:\n",
    "            current = token[0] + '.'\n",
    "        initials.append(current)\n",
    "    initials.append(split[-1].strip())\n",
    "    if suffix:\n",
    "        initials.append(f\"({suffix})\")\n",
    "    return ' '.join(initials)"
   ]
  },
  {
   "cell_type": "markdown",
   "id": "14bd6310",
   "metadata": {
    "papermill": {
     "duration": 0.002913,
     "end_time": "2025-10-03T04:12:52.143567",
     "exception": false,
     "start_time": "2025-10-03T04:12:52.140654",
     "status": "completed"
    },
    "tags": []
   },
   "source": [
    "## get list of arxiv paper candidates\n",
    "\n",
    "We use the MPIA mitarbeiter list webpage from mpia.de to get author names\n",
    "We then get all new papers from Arxiv and match authors"
   ]
  },
  {
   "cell_type": "code",
   "execution_count": 3,
   "id": "7ea813a8",
   "metadata": {
    "execution": {
     "iopub.execute_input": "2025-10-03T04:12:52.150460Z",
     "iopub.status.busy": "2025-10-03T04:12:52.150257Z",
     "iopub.status.idle": "2025-10-03T04:13:16.842331Z",
     "shell.execute_reply": "2025-10-03T04:13:16.841596Z"
    },
    "papermill": {
     "duration": 24.697,
     "end_time": "2025-10-03T04:13:16.843604",
     "exception": false,
     "start_time": "2025-10-03T04:12:52.146604",
     "status": "completed"
    },
    "tags": []
   },
   "outputs": [],
   "source": [
    "# deal with the author list and edge cases of people that cannot be consistent on their name  \n",
    "\n",
    "def filter_non_scientists(name: str) -> bool:\n",
    "    \"\"\" Loose filter on expected authorships\n",
    "\n",
    "    removing IT, administration, technical staff\n",
    "    :param name: name\n",
    "    :returns: False if name is not a scientist\n",
    "    \"\"\"\n",
    "    remove_list = ['Licht', 'Binroth', 'Witzel', 'Jordan',\n",
    "                   'Zähringer', 'Scheerer', 'Hoffmann', 'Düe',\n",
    "                   'Hellmich', 'Enkler-Scharpegge', 'Witte-Nguy',\n",
    "                   'Dehen', 'Beckmann', 'Jager', 'Jäger'\n",
    "                  ]\n",
    "\n",
    "    for k in remove_list:\n",
    "        if k in name:\n",
    "            return False\n",
    "    return True\n",
    "\n",
    "def add_author_to_list(author_list: list) -> list:\n",
    "    \"\"\" Add author to list if not already in list\n",
    "    \n",
    "    :param author: author name\n",
    "    :param author_list: list of authors\n",
    "    :returns: updated list of authors\n",
    "    \"\"\"\n",
    "    add_list = ['T. Henning']\n",
    "\n",
    "    for author in add_list:\n",
    "        if author not in author_list:\n",
    "            author_list.append(author)\n",
    "    return author_list\n",
    "\n",
    "# get list from MPIA website\n",
    "# filter for non-scientists (mpia.get_mpia_mitarbeiter_list() does some filtering)\n",
    "mpia_authors = [k[1] for k in mpia.get_mpia_mitarbeiter_list() if filter_non_scientists(k[1])]\n",
    "# add some missing author because of inconsistencies in their MPIA name and author name on papers\n",
    "mpia_authors = add_author_to_list(mpia_authors)"
   ]
  },
  {
   "cell_type": "code",
   "execution_count": 4,
   "id": "2645e73a",
   "metadata": {
    "execution": {
     "iopub.execute_input": "2025-10-03T04:13:16.850845Z",
     "iopub.status.busy": "2025-10-03T04:13:16.850638Z",
     "iopub.status.idle": "2025-10-03T04:13:17.605562Z",
     "shell.execute_reply": "2025-10-03T04:13:17.604928Z"
    },
    "papermill": {
     "duration": 0.759649,
     "end_time": "2025-10-03T04:13:17.606629",
     "exception": false,
     "start_time": "2025-10-03T04:13:16.846980",
     "status": "completed"
    },
    "tags": []
   },
   "outputs": [
    {
     "name": "stdout",
     "output_type": "stream",
     "text": [
      "F. Walter  ->  F. Walter  |  ['F. Walter']\n",
      "F. Bruckmann  ->  F. Bruckmann  |  ['F. Bruckmann']\n",
      "E. Bañados  ->  E. Bañados  |  ['E. Bañados']\n",
      "Y. Wang  ->  Y. Wang  |  ['Y. Wang']\n"
     ]
    },
    {
     "name": "stdout",
     "output_type": "stream",
     "text": [
      "Arxiv has 77 new papers today\n",
      "          4 with possible author matches\n"
     ]
    }
   ],
   "source": [
    "new_papers = get_new_papers()\n",
    "# add manual references\n",
    "add_paper_refs = []\n",
    "new_papers.extend([get_paper_from_identifier(k) for k in add_paper_refs])\n",
    "\n",
    "def robust_call(fn, value, *args, **kwargs):\n",
    "    try:\n",
    "        return fn(value, *args, **kwargs)\n",
    "    except Exception:\n",
    "        return value\n",
    "\n",
    "candidates = []\n",
    "for paperk in new_papers:\n",
    "    # Check author list with their initials\n",
    "    normed_author_list = [robust_call(mpia.get_initials, k) for k in paperk['authors']]\n",
    "    hl_authors = highlight_authors_in_list(normed_author_list, mpia_authors, verbose=True)\n",
    "    matches = [(hl, orig) for hl, orig in zip(hl_authors, paperk['authors']) if 'mark' in hl]\n",
    "    paperk['authors'] = hl_authors\n",
    "    if matches:\n",
    "        # only select paper if an author matched our list\n",
    "        candidates.append(paperk)\n",
    "print(\"\"\"Arxiv has {0:,d} new papers today\"\"\".format(len(new_papers)))        \n",
    "print(\"\"\"          {0:,d} with possible author matches\"\"\".format(len(candidates)))"
   ]
  },
  {
   "cell_type": "markdown",
   "id": "3543b34a",
   "metadata": {
    "papermill": {
     "duration": 0.003119,
     "end_time": "2025-10-03T04:13:17.613402",
     "exception": false,
     "start_time": "2025-10-03T04:13:17.610283",
     "status": "completed"
    },
    "tags": []
   },
   "source": [
    "# Parse sources and generate relevant outputs\n",
    "\n",
    "From the candidates, we do the following steps:\n",
    "* get their tarball from ArXiv (and extract data)\n",
    "* find the main .tex file: find one with \\documentclass{...} (sometimes it's non trivial)\n",
    "* Check affiliations with :func:`validation`, which uses :func:`mpia.affiliation_verifications`\n",
    "* If passing the affiliations: we parse the .tex source\n",
    "   * inject sub-documents into the main (flatten the main document)\n",
    "   * parse structure, extract information (title, abstract, authors, figures...)\n",
    "   * handles `\\graphicspath` if provided\n",
    "* Generate the .md document."
   ]
  },
  {
   "cell_type": "code",
   "execution_count": 5,
   "id": "9576b79e",
   "metadata": {
    "execution": {
     "iopub.execute_input": "2025-10-03T04:13:17.620305Z",
     "iopub.status.busy": "2025-10-03T04:13:17.620050Z",
     "iopub.status.idle": "2025-10-03T04:13:59.347038Z",
     "shell.execute_reply": "2025-10-03T04:13:59.346088Z"
    },
    "papermill": {
     "duration": 41.731804,
     "end_time": "2025-10-03T04:13:59.348243",
     "exception": false,
     "start_time": "2025-10-03T04:13:17.616439",
     "status": "completed"
    },
    "scrolled": false,
    "tags": []
   },
   "outputs": [
    {
     "data": {
      "application/vnd.jupyter.widget-view+json": {
       "model_id": "f4ef9ecef18e4dab9cdb7f10b702f606",
       "version_major": 2,
       "version_minor": 0
      },
      "text/plain": [
       "  0%|          | 0/4 [00:00<?, ?it/s]"
      ]
     },
     "metadata": {},
     "output_type": "display_data"
    },
    {
     "name": "stdout",
     "output_type": "stream",
     "text": [
      "Retrieving document from  https://arxiv.org/e-print/2510.01314\n"
     ]
    },
    {
     "name": "stdout",
     "output_type": "stream",
     "text": [
      "extracting tarball to tmp_2510.01314..."
     ]
    },
    {
     "name": "stdout",
     "output_type": "stream",
     "text": [
      " done.\n",
      "  0: tmp_2510.01314/aassymbols.tex, 579 lines\n",
      "  1: tmp_2510.01314/main.tex, 390 lines\n",
      "Retrieving document from  https://arxiv.org/e-print/2510.01421\n"
     ]
    },
    {
     "name": "stderr",
     "output_type": "stream",
     "text": [
      "/opt/hostedtoolcache/Python/3.9.23/x64/lib/python3.9/site-packages/IPython/core/interactiveshell.py:3550: LatexWarning: Multiple tex files.\n",
      "\n",
      "  exec(code_obj, self.user_global_ns, self.user_ns)\n",
      "/opt/hostedtoolcache/Python/3.9.23/x64/lib/python3.9/site-packages/IPython/core/interactiveshell.py:3550: LatexWarning: Found 2 candidates with documentclass definition.\n",
      "  exec(code_obj, self.user_global_ns, self.user_ns)\n",
      "/opt/hostedtoolcache/Python/3.9.23/x64/lib/python3.9/site-packages/IPython/core/interactiveshell.py:3550: LatexWarning: Assuming tmp_2510.01314/aassymbols.tex as main document.\n",
      "  exec(code_obj, self.user_global_ns, self.user_ns)\n"
     ]
    },
    {
     "name": "stdout",
     "output_type": "stream",
     "text": [
      "extracting tarball to tmp_2510.01421..."
     ]
    },
    {
     "name": "stdout",
     "output_type": "stream",
     "text": [
      " done.\n",
      "Retrieving document from  https://arxiv.org/e-print/2510.01486\n"
     ]
    },
    {
     "name": "stdout",
     "output_type": "stream",
     "text": [
      "extracting tarball to tmp_2510.01486..."
     ]
    },
    {
     "name": "stdout",
     "output_type": "stream",
     "text": [
      " done.\n"
     ]
    },
    {
     "name": "stdout",
     "output_type": "stream",
     "text": [
      "Found 115 bibliographic references in tmp_2510.01486/demo_caosp310.bbl.\n",
      "Issues with the citations\n",
      "syntax error in line 67: '=' expected\n",
      "Retrieving document from  https://arxiv.org/e-print/2510.01872\n"
     ]
    },
    {
     "name": "stderr",
     "output_type": "stream",
     "text": [
      "/opt/hostedtoolcache/Python/3.9.23/x64/lib/python3.9/site-packages/arxiv_on_deck_2/latex_bib.py:132: UserWarning: Error processing bibitem\n",
      " item = \\bibitem[{{Benati Gon{ç}alves} {et~al.}(2025){Benati Gon{ç}alves}, {Panda}, {Storchi Bergmann}, {Cackett},  {Eracleous}}]{Benati-Goncalves2025ApJ}{Benati Gon{ç}alves}, H., {Panda}, S., {Storchi Bergmann}, T., {Cackett}, E.~M.,  {Eracleous}, M., {Exploring Quasar Variability with ZTF at 0 < z < 3: A Universal Relation with the Eddington Ratio}. 2025, {\\it \\apj}, {\\bf 988}, 27, \\href{https://doi.org/10.3847/1538-4357/addec0}{\\path{DOI: 10.3847/1538-4357/addec0}}%ADS_ID Bentz_2013\n",
      " regex = \n",
      "        \\\\bibitem(\\[[^\\[\\]]*?\\]){(?P<bibkey>[a-zA-Z0-9\\-\\+\\.\\S]+?)}(?P<authors>|([\\D]*?))(?P<year>[12][0-9]{3}).*?href(.*?{(?P<url>http[\\S]*)})(?P<rest>.*)\n",
      "        \n",
      "  warnings.warn(str(e))\n",
      "/opt/hostedtoolcache/Python/3.9.23/x64/lib/python3.9/site-packages/arxiv_on_deck_2/latex_bib.py:132: UserWarning: Error processing bibitem\n",
      " item = \\bibitem[{{Besuner} {et~al.}(2025){Besuner}, {Dey}, {Drlica-Wagner}, {Ebina}, {Fernandez Moroni}, {Ferraro}, {Forero-Romero}, {Honscheid}, {Jelinsky}, {Lang}, {Levi}, {Martini}, {Myers}, {Palanque-Delabrouille}, {Panda}, {Poppett}, {Sailer}, {Schlegel}, {Shafieloo}, {Silber}, {White}, {Abbott}, {Allen}, {Avila}, {Avil{é}s}, {Bailey}, {Bault}, {Bouri}, {Boutsia}, {Burtin}, {Chierchie}, {Coulton}, {Dawson}, {Dey}, {Dor{é}}, {Dunlop}, {Eisenstein}, {Emanuele}, {Escoffier}, {Estrada}, {Fagrelius}, {Fanning}, {Fanning}, {Font-Ribera}, {Frieman}, {Galal}, {Gluscevic}, {Gontcho}, {Green}, {Gutierrez}, {Guy}, {Hashemi}, {Heathcote}, {Holland}, {Hou}, {Huterer}, {Irigoyen Gimenez}, {Ivanov}, {Joyce}, {Jullo}, {Juneau}, {Juramy}, {Karcher}, {Kent}, {Kirkby}, {Kneib}, {Krause}, {Krolewski}, {Lahav}, {Lapi}, {Leauthaud}, {Lewandowski}, {Li}, {Lin}, {Loverde}, {MacBride}, {Magneville}, {Marshall}, {McDonald}, {Miller}, {Moustakas}, {M{ü}nchmeyer}, {Najita}, {Newman}, {Percival}, {Philcox}, {Pires}, {Raichoor},  {Roach}, {Rockosi}, {Rombach}, {Ross}, {Sanchez}, {Schmidt}, {Schubnell}, {Sebok}, {Seljak}, {Silverstein}, {Slepian}, {Stone}, {Stupak}, {Tarl{é}}, {Li}, {Tyas}, {Vargas-Maga{ñ}a}, {Walker}, {Wenner}, {Y{è}che}, {Zhang},  {Zhou}}]{Besuner_2025arXiv250307923B}{Besuner}, R., {Dey}, A., {Drlica-Wagner}, A., {et~al.}, {The Spectroscopic Stage-5 Experiment}. 2025, {\\it arXiv e-prints}, arXiv:2503.07923, \\href{https://doi.org/10.48550/arXiv.2503.07923}{\\path{DOI: 10.48550/arXiv.2503.07923}}%ADS_ID Blandford_1982\n",
      " regex = \n",
      "        \\\\bibitem(\\[[^\\[\\]]*?\\]){(?P<bibkey>[a-zA-Z0-9\\-\\+\\.\\S]+?)}(?P<authors>|([\\D]*?))(?P<year>[12][0-9]{3}).*?href(.*?{(?P<url>http[\\S]*)})(?P<rest>.*)\n",
      "        \n",
      "  warnings.warn(str(e))\n",
      "/opt/hostedtoolcache/Python/3.9.23/x64/lib/python3.9/site-packages/arxiv_on_deck_2/latex_bib.py:132: UserWarning: Error processing bibitem\n",
      " item = \\bibitem[{{Bon} {et~al.}(2018){Bon}, {Bon},  {Marziani}}]{Bon_2018FrASS...5....3B}{Bon}, N., {Bon}, E.,  {Marziani}, P., {AGN Broad Line Region variability in the context of Eigenvector 1: case of NGC 5548}. 2018, {\\it Frontiers in Astronomy and Space Sciences}, {\\bf 5}, 3, \\href{https://doi.org/10.3389/fspas.2018.00003}{\\path{DOI: 10.3389/fspas.2018.00003}}%ADS_ID 1992ApJS...80..109B\n",
      " regex = \n",
      "        \\\\bibitem(\\[[^\\[\\]]*?\\]){(?P<bibkey>[a-zA-Z0-9\\-\\+\\.\\S]+?)}(?P<authors>|([\\D]*?))(?P<year>[12][0-9]{3}).*?href(.*?{(?P<url>http[\\S]*)})(?P<rest>.*)\n",
      "        \n",
      "  warnings.warn(str(e))\n",
      "/opt/hostedtoolcache/Python/3.9.23/x64/lib/python3.9/site-packages/arxiv_on_deck_2/latex_bib.py:132: UserWarning: Error processing bibitem\n",
      " item = \\bibitem[{{de Jong} {et~al.}(2019){de Jong}, {Agertz}, {Berbel}, {Aird}, {Alexander}, {Amarsi}, {Anders}, {Andrae}, {Ansarinejad}, {Ansorge}, {Antilogus}, {Anwand-Heerwart}, {Arentsen}, {Arnadottir}, {Asplund}, {Auger}, {Azais}, {Baade}, {Baker}, {Baker}, {Balbinot}, {Baldry}, {Banerji}, {Barden}, {Barklem}, {Barth{é}l{é}my-Mazot}, {Battistini}, {Bauer}, {Bell}, {Bellido-Tirado}, {Bellstedt}, {Belokurov}, {Bensby}, {Bergemann}, {Bestenlehner}, {Bielby}, {Bilicki}, {Blake}, {Bland-Hawthorn}, {Boeche}, {Boland}, {Boller}, {Bongard}, {Bongiorno}, {Bonifacio}, {Boudon}, {Brooks}, {Brown}, {Brown}, {Br{ü}ggen}, {Brynnel}, {Brzeski}, {Buchert}, {Buschkamp}, {Caffau}, {Caillier}, {Carrick}, {Casagrande}, {Case}, {Casey}, {Cesarini}, {Cescutti}, {Chapuis}, {Chiappini}, {Childress}, {Christlieb}, {Church}, {Cioni}, {Cluver}, {Colless}, {Collett}, {Comparat}, {Cooper}, {Couch}, {Courbin}, {Croom}, {Croton}, {Daguis{é}}, {Dalton}, {Davies}, {Davis}, {de Laverny}, {Deason}, {Dionies}, {Disseau}, {Doel},  {D{ö}scher}, {Driver}, {Dwelly}, {Eckert}, {Edge}, {Edvardsson}, {Youssoufi}, {Elhaddad}, {Enke}, {Erfanianfar}, {Farrell}, {Fechner}, {Feiz}, {Feltzing}, {Ferreras}, {Feuerstein}, {Feuillet}, {Finoguenov}, {Ford}, {Fotopoulou}, {Fouesneau}, {Frenk}, {Frey}, {Gaessler}, {Geier}, {Gentile Fusillo}, {Gerhard}, {Giannantonio}, {Giannone}, {Gibson}, {Gillingham}, {Gonz{á}lez-Fern{á}ndez}, {Gonzalez-Solares}, {Gottloeber}, {Gould}, {Grebel}, {Gueguen}, {Guiglion}, {Haehnelt}, {Hahn}, {Hansen}, {Hartman}, {Hauptner}, {Hawkins}, {Haynes}, {Haynes}, {Heiter}, {Helmi}, {Aguayo}, {Hewett}, {Hinton}, {Hobbs}, {Hoenig}, {Hofman}, {Hook}, {Hopgood}, {Hopkins}, {Hourihane}, {Howes}, {Howlett}, {Huet}, {Irwin}, {Iwert}, {Jablonka}, {Jahn}, {Jahnke}, {Jarno}, {Jin}, {Jofre}, {Johl}, {Jones}, {J{ö}nsson}, {Jordan}, {Karovicova}, {Khalatyan}, {Kelz}, {Kennicutt}, {King}, {Kitaura}, {Klar}, {Klauser}, {Kneib}, {Koch}, {Koposov}, {Kordopatis}, {Korn}, {Kosmalski}, {Kotak}, {Kovalev}, {Kreckel}, {Kripak}, {Krumpe},  {Kuijken}, {Kunder}, {Kushniruk}, {Lam}, {Lamer}, {Laurent}, {Lawrence}, {Lehmitz}, {Lemasle}, {Lewis}, {Li}, {Lidman}, {Lind}, {Liske}, {Lizon}, {Loveday}, {Ludwig}, {McDermid}, {Maguire}, {Mainieri}, {Mali},  {Mandel}}]{4MOST2019Msngr.175....3D}{de Jong}, R.~S., {Agertz}, O., {Berbel}, A.~A., {et~al.}, {4MOST: Project overview and information for the First Call for Proposals}. 2019, {\\it The Messenger}, {\\bf 175}, 3, \\href{https://doi.org/10.18727/0722-6691/5117}{\\path{DOI: 10.18727/0722-6691/5117}}%ADS_ID DeRosa_2015ApJ...806..128D\n",
      " regex = \n",
      "        \\\\bibitem(\\[[^\\[\\]]*?\\]){(?P<bibkey>[a-zA-Z0-9\\-\\+\\.\\S]+?)}(?P<authors>|([\\D]*?))(?P<year>[12][0-9]{3}).*?href(.*?{(?P<url>http[\\S]*)})(?P<rest>.*)\n",
      "        \n",
      "  warnings.warn(str(e))\n",
      "/opt/hostedtoolcache/Python/3.9.23/x64/lib/python3.9/site-packages/arxiv_on_deck_2/latex_bib.py:132: UserWarning: Error processing bibitem\n",
      " item = \\bibitem[{{De Rosa} {et~al.}(2015){De Rosa}, {Peterson}, {Ely}, {Kriss}, {Crenshaw}, {Horne}, {Korista}, {Netzer}, {Pogge}, {Ar{é}valo}, {Barth}, {Bentz}, {Brandt}, {Breeveld}, {Brewer}, {Dalla Bont{à}}, {De Lorenzo-C{á}ceres}, {Denney}, {Dietrich}, {Edelson}, {Evans}, {Fausnaugh}, {Gehrels}, {Gelbord}, {Goad}, {Grier}, {Grupe}, {Hall}, {Kaastra}, {Kelly}, {Kennea}, {Kochanek}, {Lira}, {Mathur}, {McHardy}, {Nousek}, {Pancoast}, {Papadakis}, {Pei}, {Schimoia}, {Siegel}, {Starkey}, {Treu}, {Uttley}, {Vaughan}, {Vestergaard}, {Villforth}, {Yan}, {Young},  {Zu}}]{DeRosa_2015ApJ...806..128D}{De Rosa}, G., {Peterson}, B.~M., {Ely}, J., {et~al.}, {Space Telescope and Optical Reverberation Mapping Project.I. Ultraviolet Observations of the Seyfert 1 Galaxy NGC 5548 with the Cosmic Origins Spectrograph on Hubble Space Telescope}. 2015, {\\it \\apj}, {\\bf 806}, 128, \\href{https://doi.org/10.1088/0004-637X/806/1/128}{\\path{DOI: 10.1088/0004-637X/806/1/128}}%ADS_ID DESI_2025arXiv250314745D\n",
      " regex = \n",
      "        \\\\bibitem(\\[[^\\[\\]]*?\\]){(?P<bibkey>[a-zA-Z0-9\\-\\+\\.\\S]+?)}(?P<authors>|([\\D]*?))(?P<year>[12][0-9]{3}).*?href(.*?{(?P<url>http[\\S]*)})(?P<rest>.*)\n",
      "        \n",
      "  warnings.warn(str(e))\n",
      "/opt/hostedtoolcache/Python/3.9.23/x64/lib/python3.9/site-packages/arxiv_on_deck_2/latex_bib.py:132: UserWarning: Error processing bibitem\n",
      " item = \\bibitem[{{DESI Collaboration} {et~al.}(2025){DESI Collaboration}, {Abdul-Karim}, {Adame}, {Aguado}, {Aguilar}, {Ahlen}, {Alam}, {Aldering}, {Alexander}, {Alfarsy}, {Allen}, {Allende Prieto}, {Alves}, {Anand}, {Andrade}, {Armengaud}, {Avila}, {Aviles}, {Awan}, {Bailey}, {Baleato Lizancos}, {Ballester}, {Bault}, {Bautista}, {BenZvi}, {Beraldo e Silva}, {Bermejo-Climent}, {Beutler}, {Bianchi}, {Blake}, {Blum}, {Bolton}, {Bonici}, {Brieden}, {Brodzeller}, {Brooks}, {Buckley-Geer}, {Burtin}, {Canning}, {Carnero Rosell}, {Carr}, {Carrilho}, {Casas}, {Castander}, {Cereskaite}, {Cervantes-Cota}, {Chaussidon}, {Chaves-Montero}, {Chen}, {Chen}, {Claybaugh}, {Cole}, {Cooper}, {Cousinou}, {Cuceu}, {Davis}, {Dawson}, {de Belsunce}, {de la Cruz}, {de la Macorra}, {de Mattia}, {Deiosso}, {Della Costa}, {Demina}, {Demirbozan}, {DeRose}, {Dey}, {Dey}, {Ding}, {Ding}, {Doel}, {Douglass}, {Dowicz}, {Ebina}, {Edelstein}, {Eisenstein}, {Elbers}, {Emas}, {Escoffier}, {Fagrelius}, {Fan}, {Fanning}, {Fawcett},  {Fernández-García}, {Ferraro}, {Findlay}, {Font-Ribera}, {Forero-Romero}, {Forero-Sánchez}, {Frenk}, {G\\''ansicke}, {Galbany}, {García-Bellido}, {Garcia-Quintero}, {Garrison}, {Gaztañaga}, {Gil-Marín}, {Gnedin}, {Gontcho}, {Gonzalez-Morales}, {Gonzalez-Perez}, {Gordon}, {Graur}, {Green}, {Gruen}, {Gsponer}, {Guandalin}, {Gutierrez}, {Guy}, {Hahn}, {Han}, {Han}, {He}, {Herrera-Alcantar}, {Honscheid}, {Hou}, {Howlett}, {Huterer}, {Ir\\v\\{s\\}i\\v\\{c\\}}, {Ishak}, {Jacques}, {Jimenez}, {Jing}, {Joachimi}, {Joudaki}, {Joyce}, {Jullo}, {Juneau}, {Kara\\c\\{c\\}ayl\\{\\i\\}}, {Karim}, {Kehoe}, {Kent}, {Khederlarian}, {Kirkby}, {Kisner}, {Kitaura}, {Kizhuprakkat}, {Kong}, {Koposov}, {Kremin}, {Krolewski}, {Lahav}, {Lai}, {Lamman}, {Lan}, {Landriau}, {Lang}, {Lange}, {Lasker}, {Le Goff}, {Le Guillou}, {Leauthaud}, {Levi}, {Li}, {Li}, {Lodha}, {Lokken}, {Luo}, {Magneville}, {Manera}, {Manser}, {Margala}, {Martini}, {Maus}, {McCullough}, {McDonald}, {Medina}, {Medina-Varela}, {Meisner}, {Mena-Fernández},  {Menegas}, {Mezcua}, {Miquel}, {Montero-Camacho}, {Moon}, {Moustakas}, {Muñoz-Gutiérrez}, {Muñoz-Santos}, {Myers}, {Myles}, {Nadathur}, {Najita}, {Napolitano}, {Newman}, {Nikakhtar}, {Nikutta}, {Niz}, {Noriega}, {Padmanabhan}, {Paillas}, {Palanque-Delabrouille}, {Palmese}, {Pan}, {Pan}, {Parkinson}, {Peacock}, {Percival}, {Pérez-Fernández}, {Pérez-Ràfols},  {Peterson}}]{DESI_2025arXiv250314745D}{DESI Collaboration}, {Abdul-Karim}, M., {Adame}, A.~G., {et~al.}, {Data Release 1 of the Dark Energy Spectroscopic Instrument}. 2025, {\\it arXiv e-prints}, arXiv:2503.14745, \\href{https://doi.org/10.48550/arXiv.2503.14745}{\\path{DOI: 10.48550/arXiv.2503.14745}}%ADS_ID DiValentino_2025\n",
      " regex = \n",
      "        \\\\bibitem(\\[[^\\[\\]]*?\\]){(?P<bibkey>[a-zA-Z0-9\\-\\+\\.\\S]+?)}(?P<authors>|([\\D]*?))(?P<year>[12][0-9]{3}).*?href(.*?{(?P<url>http[\\S]*)})(?P<rest>.*)\n",
      "        \n",
      "  warnings.warn(str(e))\n",
      "/opt/hostedtoolcache/Python/3.9.23/x64/lib/python3.9/site-packages/arxiv_on_deck_2/latex_bib.py:132: UserWarning: Error processing bibitem\n",
      " item = \\bibitem[{{Du} {et~al.}(2018){Du}, {Zhang}, {Wang}, {Huang}, {Zhang}, {Lu}, {Hu}, {Li}, {Bai}, {Bian}, {Yuan}, {Ho}, {Wang},  {SEAMBH Collaboration}}]{Du_2018}{Du}, P., {Zhang}, Z.-X., {Wang}, K., {et~al.}, {Supermassive Black Holes with High Accretion Rates in Active Galactic Nuclei. IX. 10 New Observations of Reverberation Mapping and Shortened H{\\ensuremath{\\beta}} Lags}. 2018, {\\it \\apj}, {\\bf 856}, 6, \\href{https://doi.org/10.3847/1538-4357/aaae6b}{\\path{DOI: 10.3847/1538-4357/aaae6b}}%ADS_ID 2015ApJ...806..129E\n",
      " regex = \n",
      "        \\\\bibitem(\\[[^\\[\\]]*?\\]){(?P<bibkey>[a-zA-Z0-9\\-\\+\\.\\S]+?)}(?P<authors>|([\\D]*?))(?P<year>[12][0-9]{3}).*?href(.*?{(?P<url>http[\\S]*)})(?P<rest>.*)\n",
      "        \n",
      "  warnings.warn(str(e))\n",
      "/opt/hostedtoolcache/Python/3.9.23/x64/lib/python3.9/site-packages/arxiv_on_deck_2/latex_bib.py:132: UserWarning: Error processing bibitem\n",
      " item = \\bibitem[{{Edelson} {et~al.}(2015){Edelson}, {Gelbord}, {Horne}, {McHardy}, {Peterson}, {Ar{é}valo}, {Breeveld}, {De Rosa}, {Evans}, {Goad}, {Kriss}, {Brandt}, {Gehrels}, {Grupe}, {Kennea}, {Kochanek}, {Nousek}, {Papadakis}, {Siegel}, {Starkey}, {Uttley}, {Vaughan}, {Young}, {Barth}, {Bentz}, {Brewer}, {Crenshaw}, {Dalla Bont{à}}, {De Lorenzo-C{á}ceres}, {Denney}, {Dietrich}, {Ely}, {Fausnaugh}, {Grier}, {Hall}, {Kaastra}, {Kelly}, {Korista}, {Lira}, {Mathur}, {Netzer}, {Pancoast}, {Pei}, {Pogge}, {Schimoia}, {Treu}, {Vestergaard}, {Villforth}, {Yan},  {Zu}}]{2015ApJ...806..129E}{Edelson}, R., {Gelbord}, J.~M., {Horne}, K., {et~al.}, {Space Telescope and Optical Reverberation Mapping Project. II. Swift and HST Reverberation Mapping of the Accretion Disk of NGC 5548}. 2015, {\\it \\apj}, {\\bf 806}, 129, \\href{https://doi.org/10.1088/0004-637X/806/1/129}{\\path{DOI: 10.1088/0004-637X/806/1/129}}%ADS_ID Fausnaugh_2016ApJ...821...56F\n",
      " regex = \n",
      "        \\\\bibitem(\\[[^\\[\\]]*?\\]){(?P<bibkey>[a-zA-Z0-9\\-\\+\\.\\S]+?)}(?P<authors>|([\\D]*?))(?P<year>[12][0-9]{3}).*?href(.*?{(?P<url>http[\\S]*)})(?P<rest>.*)\n",
      "        \n",
      "  warnings.warn(str(e))\n",
      "/opt/hostedtoolcache/Python/3.9.23/x64/lib/python3.9/site-packages/arxiv_on_deck_2/latex_bib.py:132: UserWarning: Error processing bibitem\n",
      " item = \\bibitem[{{Fausnaugh} {et~al.}(2016){Fausnaugh}, {Denney}, {Barth}, {Bentz}, {Bottorff}, {Carini}, {Croxall}, {De Rosa}, {Goad}, {Horne}, {Joner}, {Kaspi}, {Kim}, {Klimanov}, {Kochanek}, {Leonard}, {Netzer}, {Peterson}, {Schn{ü}lle}, {Sergeev}, {Vestergaard}, {Zheng}, {Zu}, {Anderson}, {Ar{é}valo}, {Bazhaw}, {Borman}, {Boroson}, {Brandt}, {Breeveld}, {Brewer}, {Cackett}, {Crenshaw}, {Dalla Bont{à}}, {De Lorenzo-C{á}ceres}, {Dietrich}, {Edelson}, {Efimova}, {Ely}, {Evans}, {Filippenko}, {Flatland}, {Gehrels}, {Geier}, {Gelbord}, {Gonzalez}, {Gorjian}, {Grier}, {Grupe}, {Hall}, {Hicks}, {Horenstein}, {Hutchison}, {Im}, {Jensen}, {Jones}, {Kaastra}, {Kelly}, {Kennea}, {Kim}, {Korista}, {Kriss}, {Lee}, {Lira}, {MacInnis}, {Manne-Nicholas}, {Mathur}, {McHardy}, {Montouri}, {Musso}, {Nazarov}, {Norris}, {Nousek}, {Okhmat}, {Pancoast}, {Papadakis}, {Parks}, {Pei}, {Pogge}, {Pott}, {Rafter}, {Rix}, {Saylor}, {Schimoia}, {Siegel}, {Spencer}, {Starkey}, {Sung}, {Teems}, {Treu}, {Turner}, {Uttley}, {Villforth},  {Weiss}, {Woo}, {Yan},  {Young}}]{Fausnaugh_2016ApJ...821...56F}{Fausnaugh}, M.~M., {Denney}, K.~D., {Barth}, A.~J., {et~al.}, {Space Telescope and Optical Reverberation Mapping Project. III. Optical Continuum Emission and Broadband Time Delays in NGC 5548}. 2016, {\\it \\apj}, {\\bf 821}, 56, \\href{https://doi.org/10.3847/0004-637X/821/1/56}{\\path{DOI: 10.3847/0004-637X/821/1/56}}%ADS_ID Ferland_2017RMxAA..53..385F\n",
      " regex = \n",
      "        \\\\bibitem(\\[[^\\[\\]]*?\\]){(?P<bibkey>[a-zA-Z0-9\\-\\+\\.\\S]+?)}(?P<authors>|([\\D]*?))(?P<year>[12][0-9]{3}).*?href(.*?{(?P<url>http[\\S]*)})(?P<rest>.*)\n",
      "        \n",
      "  warnings.warn(str(e))\n",
      "/opt/hostedtoolcache/Python/3.9.23/x64/lib/python3.9/site-packages/arxiv_on_deck_2/latex_bib.py:132: UserWarning: Error processing bibitem\n",
      " item = \\bibitem[{{Ferruit} {et~al.}(2000){Ferruit}, {Wilson},  {Mulchaey}}]{HST2000ApJS..128..139F}{Ferruit}, P., {Wilson}, A.~S.,  {Mulchaey}, J., {Hubble Space Telescope WFPC2 Imaging of a Sample of Early-Type Seyfert Galaxies}. 2000, {\\it \\apjs}, {\\bf 128}, 139, \\href{https://doi.org/10.1086/313379}{\\path{DOI: 10.1086/313379}}%ADS_ID Frohmaier2025arXiv250116311F\n",
      " regex = \n",
      "        \\\\bibitem(\\[[^\\[\\]]*?\\]){(?P<bibkey>[a-zA-Z0-9\\-\\+\\.\\S]+?)}(?P<authors>|([\\D]*?))(?P<year>[12][0-9]{3}).*?href(.*?{(?P<url>http[\\S]*)})(?P<rest>.*)\n",
      "        \n",
      "  warnings.warn(str(e))\n",
      "/opt/hostedtoolcache/Python/3.9.23/x64/lib/python3.9/site-packages/arxiv_on_deck_2/latex_bib.py:132: UserWarning: Error processing bibitem\n",
      " item = \\bibitem[{{Frohmaier} {et~al.}(2025){Frohmaier}, {Vincenzi}, {Sullivan}, {H{ö}nig}, {Smith}, {Addison}, {Collett}, {Dimitriadis}, {Ellis}, {Gandhi}, {Graur}, {Hook}, {Kelsey}, {Kim}, {Lidman}, {Maguire}, {Makrygianni}, {Martin}, {M{ö}ller}, {Nichol}, {Nicholl}, {Schady}, {Simmons}, {Smartt}, {Tempel}, {Wiseman},  {the LSST Dark Energy Science Collaboration}}]{Frohmaier2025arXiv250116311F}{Frohmaier}, C., {Vincenzi}, M., {Sullivan}, M., {et~al.}, {TiDES: The 4MOST Time Domain Extragalactic Survey}. 2025, {\\it arXiv e-prints}, arXiv:2501.16311, \\href{https://doi.org/10.48550/arXiv.2501.16311}{\\path{DOI: 10.48550/arXiv.2501.16311}}%ADS_ID JWST_2006SSRv..123..485G\n",
      " regex = \n",
      "        \\\\bibitem(\\[[^\\[\\]]*?\\]){(?P<bibkey>[a-zA-Z0-9\\-\\+\\.\\S]+?)}(?P<authors>|([\\D]*?))(?P<year>[12][0-9]{3}).*?href(.*?{(?P<url>http[\\S]*)})(?P<rest>.*)\n",
      "        \n",
      "  warnings.warn(str(e))\n",
      "/opt/hostedtoolcache/Python/3.9.23/x64/lib/python3.9/site-packages/arxiv_on_deck_2/latex_bib.py:132: UserWarning: Error processing bibitem\n",
      " item = \\bibitem[{{GRAVITY+ Collaboration} {et~al.}(2025){GRAVITY+ Collaboration}, {El Dayem}, {Aimar}, {Berdeu}, {Berger}, {Bourdarot}, {Bourget}, {Brandner}, {Cao}, {Correia}, {Cuevas Cardona}, {Davies}, {Defr{è}re}, {Drescher}, {Eckart}, {Eisenhauer}, {Fabricius}, {Farah}, {Feuchtgruber}, {F{ö}rster Schreiber}, {Foschi}, {Garcia}, {Garcia Lopez}, {Genzel}, {Gillessen}, {Gomes}, {Gont{é}}, {Gopinath}, {Graf}, {Hartl}, {Haubois}, {Hau{\\ss}mann}, {Ho}, {H{ö}nig}, {Houll{é}}, {Joharle}, {Keiman}, {Kervella}, {Kolb}, {Kreidberg}, {Labdon}, {Lacour}, {Lai}, {Lai}, {Laugier}, {Le Bouquin}, {Leftley}, {Li}, {Lopez}, {Lutz}, {Mang}, {M{é}rand}, {Millour}, {Montarg{è}s}, {More}, {Moruj{ã}o}, {Nowacki}, {Nowak}, {Oberti}, {Onken}, {Osorno}, {Ott}, {Paumard}, {Perraut}, {Perrin}, {Petrov}, {Petrucci}, {Pourr{é}}, {Rabien}, {Rau}, {Ribeiro}, {Robbe-Dubois}, {Sadun Bordoni}, {Salman}, {Sanchez-Bermudez}, {Santos}, {Sauter}, {Scialpi}, {Scigliuto}, {Shangguan}, {Shchekaturov}, {Shimizu}, {Soulez},  {Straubmeier}, {Sturm}, {Subroweit}, {Sykes}, {Tacconi}, {{Ü}bler}, {Ulbricht}, {Vincent}, {Webster}, {Wieprecht}, {Woillez},  {Wolf}}]{2025arXiv250913911G}{GRAVITY+ Collaboration}, {El Dayem}, K.~A., {Aimar}, N., {et~al.}, {Spatially resolved broad line region in a quasar at z=4: Dynamical black hole mass and prominent outflow}. 2025, {\\it arXiv e-prints}, arXiv:2509.13911, \\href{https://doi.org/10.48550/arXiv.2509.13911}{\\path{DOI: 10.48550/arXiv.2509.13911}}%ADS_ID Grier_2017\n",
      " regex = \n",
      "        \\\\bibitem(\\[[^\\[\\]]*?\\]){(?P<bibkey>[a-zA-Z0-9\\-\\+\\.\\S]+?)}(?P<authors>|([\\D]*?))(?P<year>[12][0-9]{3}).*?href(.*?{(?P<url>http[\\S]*)})(?P<rest>.*)\n",
      "        \n",
      "  warnings.warn(str(e))\n",
      "/opt/hostedtoolcache/Python/3.9.23/x64/lib/python3.9/site-packages/arxiv_on_deck_2/latex_bib.py:132: UserWarning: Error processing bibitem\n",
      " item = \\bibitem[{{Hern{á}ndez-Garc{í}a} {et~al.}(2015){Hern{á}ndez-Garc{í}a}, {Masegosa}, {Gonz{á}lez-Mart{í}n},  {M{á}rquez}}]{Hernandez_2015A&A...579A..90H}{Hern{á}ndez-Garc{í}a}, L., {Masegosa}, J., {Gonz{á}lez-Mart{í}n}, O.,  {M{á}rquez}, I., {X-ray spectral variability of Seyfert 2 galaxies}. 2015, {\\it \\aap}, {\\bf 579}, A90, \\href{https://doi.org/10.1051/0004-6361/201526127}{\\path{DOI: 10.1051/0004-6361/201526127}}%ADS_ID LSST2019ApJ\n",
      " regex = \n",
      "        \\\\bibitem(\\[[^\\[\\]]*?\\]){(?P<bibkey>[a-zA-Z0-9\\-\\+\\.\\S]+?)}(?P<authors>|([\\D]*?))(?P<year>[12][0-9]{3}).*?href(.*?{(?P<url>http[\\S]*)})(?P<rest>.*)\n",
      "        \n",
      "  warnings.warn(str(e))\n",
      "/opt/hostedtoolcache/Python/3.9.23/x64/lib/python3.9/site-packages/arxiv_on_deck_2/latex_bib.py:132: UserWarning: Error processing bibitem\n",
      " item = \\bibitem[{{Jaiswal} {et~al.}(2024){Jaiswal}, {Mandal}, {Prince}, {Pandey}, {Naddaf}, {Czerny}, {Panda},  {Pozo Nunez}}]{Jaiswal_2025}{Jaiswal}, V.~K., {Mandal}, A.~K., {Prince}, R., {et~al.}, {Application of the FRADO model of BLR formation to the Seyfert galaxy NGC 5548 and the first step toward determining the Hubble constant}. 2024, {\\it arXiv e-prints}, arXiv:2410.03597, \\href{https://doi.org/10.48550/arXiv.2410.03597}{\\path{DOI: 10.48550/arXiv.2410.03597}}%ADS_ID Kaspi2021ApJ...915..129K\n",
      " regex = \n",
      "        \\\\bibitem(\\[[^\\[\\]]*?\\]){(?P<bibkey>[a-zA-Z0-9\\-\\+\\.\\S]+?)}(?P<authors>|([\\D]*?))(?P<year>[12][0-9]{3}).*?href(.*?{(?P<url>http[\\S]*)})(?P<rest>.*)\n",
      "        \n",
      "  warnings.warn(str(e))\n",
      "/opt/hostedtoolcache/Python/3.9.23/x64/lib/python3.9/site-packages/arxiv_on_deck_2/latex_bib.py:132: UserWarning: Error processing bibitem\n",
      " item = \\bibitem[{{Kaspi} {et~al.}(2000){Kaspi}, {Smith}, {Netzer}, {Maoz}, {Jannuzi},  {Giveon}}]{Kaspi_2000}{Kaspi}, S., {Smith}, P.~S., {Netzer}, H., {et~al.}, {Reverberation Measurements for 17 Quasars and the Size-Mass-Luminosity Relations in Active Galactic Nuclei}. 2000, {\\it \\apj}, {\\bf 533}, 631, \\href{https://doi.org/10.1086/308704}{\\path{DOI: 10.1086/308704}}%ADS_ID 2004ApJ...609...69K\n",
      " regex = \n",
      "        \\\\bibitem(\\[[^\\[\\]]*?\\]){(?P<bibkey>[a-zA-Z0-9\\-\\+\\.\\S]+?)}(?P<authors>|([\\D]*?))(?P<year>[12][0-9]{3}).*?href(.*?{(?P<url>http[\\S]*)})(?P<rest>.*)\n",
      "        \n",
      "  warnings.warn(str(e))\n",
      "/opt/hostedtoolcache/Python/3.9.23/x64/lib/python3.9/site-packages/arxiv_on_deck_2/latex_bib.py:132: UserWarning: Error processing bibitem\n",
      " item = \\bibitem[{{Klimek} {et~al.}(2004){Klimek}, {Gaskell},  {Hedrick}}]{2004ApJ...609...69K}{Klimek}, E.~S., {Gaskell}, C.~M.,  {Hedrick}, C.~H., {Optical Variability of Narrow-Line Seyfert 1 Galaxies}. 2004, {\\it \\apj}, {\\bf 609}, 69, \\href{https://doi.org/10.1086/420809}{\\path{DOI: 10.1086/420809}}%ADS_ID SDSS5_2019BAAS...51g.274K\n",
      " regex = \n",
      "        \\\\bibitem(\\[[^\\[\\]]*?\\]){(?P<bibkey>[a-zA-Z0-9\\-\\+\\.\\S]+?)}(?P<authors>|([\\D]*?))(?P<year>[12][0-9]{3}).*?href(.*?{(?P<url>http[\\S]*)})(?P<rest>.*)\n",
      "        \n",
      "  warnings.warn(str(e))\n",
      "/opt/hostedtoolcache/Python/3.9.23/x64/lib/python3.9/site-packages/arxiv_on_deck_2/latex_bib.py:132: UserWarning: Error processing bibitem\n",
      " item = \\bibitem[{{Marziani} {et~al.}(2001){Marziani}, {Sulentic}, {Zwitter}, {Dultzin-Hacyan},  {Calvani}}]{2001ApJ...558..553M}{Marziani}, P., {Sulentic}, J.~W., {Zwitter}, T., {Dultzin-Hacyan}, D.,  {Calvani}, M., {Searching for the Physical Drivers of the Eigenvector 1 Correlation Space}. 2001, {\\it \\apj}, {\\bf 558}, 553, \\href{https://doi.org/10.1086/322286}{\\path{DOI: 10.1086/322286}}%ADS_ID 2003MNRAS.345.1133M\n",
      " regex = \n",
      "        \\\\bibitem(\\[[^\\[\\]]*?\\]){(?P<bibkey>[a-zA-Z0-9\\-\\+\\.\\S]+?)}(?P<authors>|([\\D]*?))(?P<year>[12][0-9]{3}).*?href(.*?{(?P<url>http[\\S]*)})(?P<rest>.*)\n",
      "        \n",
      "  warnings.warn(str(e))\n",
      "/opt/hostedtoolcache/Python/3.9.23/x64/lib/python3.9/site-packages/arxiv_on_deck_2/latex_bib.py:132: UserWarning: Error processing bibitem\n",
      " item = \\bibitem[{{Marziani} {et~al.}(2003{\\natexlab{b}}){Marziani}, {Zamanov}, {Sulentic},  {Calvani}}]{2003MNRAS.345.1133M}{Marziani}, P., {Zamanov}, R.~K., {Sulentic}, J.~W.,  {Calvani}, M., {Searching for the physical drivers of eigenvector 1: influence of black hole mass and Eddington ratio}. 2003{\\natexlab{b}}, {\\it \\mnras}, {\\bf 345}, 1133, \\href{https://doi.org/10.1046/j.1365-2966.2003.07033.x}{\\path{DOI: 10.1046/j.1365-2966.2003.07033.x}}%ADS_ID MF_1987ApJ...323..456M\n",
      " regex = \n",
      "        \\\\bibitem(\\[[^\\[\\]]*?\\]){(?P<bibkey>[a-zA-Z0-9\\-\\+\\.\\S]+?)}(?P<authors>|([\\D]*?))(?P<year>[12][0-9]{3}).*?href(.*?{(?P<url>http[\\S]*)})(?P<rest>.*)\n",
      "        \n",
      "  warnings.warn(str(e))\n",
      "/opt/hostedtoolcache/Python/3.9.23/x64/lib/python3.9/site-packages/arxiv_on_deck_2/latex_bib.py:132: UserWarning: Error processing bibitem\n",
      " item = \\bibitem[{{Panda}(2022)}]{2022FrASS...950409P}{Panda}, S., {Parameterizing the AGN Radius{\\textendash}Luminosity Relation from the Eigenvector 1 Viewpoint}. 2022, {\\it Frontiers in Astronomy and Space Sciences}, {\\bf 9}, 850409, \\href{https://doi.org/10.3389/fspas.2022.850409}{\\path{DOI: 10.3389/fspas.2022.850409}}%ADS_ID Panda2024FrASS\n",
      " regex = \n",
      "        \\\\bibitem(\\[[^\\[\\]]*?\\]){(?P<bibkey>[a-zA-Z0-9\\-\\+\\.\\S]+?)}(?P<authors>|([\\D]*?))(?P<year>[12][0-9]{3}).*?href(.*?{(?P<url>http[\\S]*)})(?P<rest>.*)\n",
      "        \n",
      "  warnings.warn(str(e))\n",
      "/opt/hostedtoolcache/Python/3.9.23/x64/lib/python3.9/site-packages/arxiv_on_deck_2/latex_bib.py:132: UserWarning: Error processing bibitem\n",
      " item = \\bibitem[{{Panda} {et~al.}(2023){Panda}, {Bon}, {Marziani},  {Bon}}]{Panda2023BASBr}{Panda}, S., {Bon}, E., {Marziani}, P.,  {Bon}, N., {Saturation of the curve: Diagnostics of the continuum and H{\\ensuremath{\\beta}} emission in Population B active galaxy NGC 5548}. 2023, {\\it Bulletin of the Astronomical Society of Brazil}, {\\bf 34}, 246, \\href{https://doi.org/10.48550/arXiv.2308.05831}{\\path{DOI: 10.48550/arXiv.2308.05831}}%ADS_ID Panda2024_MCQ\n",
      " regex = \n",
      "        \\\\bibitem(\\[[^\\[\\]]*?\\]){(?P<bibkey>[a-zA-Z0-9\\-\\+\\.\\S]+?)}(?P<authors>|([\\D]*?))(?P<year>[12][0-9]{3}).*?href(.*?{(?P<url>http[\\S]*)})(?P<rest>.*)\n",
      "        \n",
      "  warnings.warn(str(e))\n",
      "/opt/hostedtoolcache/Python/3.9.23/x64/lib/python3.9/site-packages/arxiv_on_deck_2/latex_bib.py:132: UserWarning: Error processing bibitem\n",
      " item = \\bibitem[{{Pei} {et~al.}(2017){Pei}, {Fausnaugh}, {Barth}, {Peterson}, {Bentz}, {De Rosa}, {Denney}, {Goad}, {Kochanek}, {Korista}, {Kriss}, {Pogge}, {Bennert}, {Brotherton}, {Clubb}, {Dalla Bont{à}}, {Filippenko}, {Greene}, {Grier}, {Vestergaard}, {Zheng}, {Adams}, {Beatty}, {Bigley}, {Brown}, {Brown}, {Canalizo}, {Comerford}, {Coker}, {Corsini}, {Croft}, {Croxall}, {Deason}, {Eracleous}, {Fox}, {Gates}, {Henderson}, {Holmbeck}, {Holoien}, {Jensen}, {Johnson}, {Kelly}, {Kim}, {King}, {Lau}, {Li}, {Lochhaas}, {Ma}, {Manne-Nicholas}, {Mauerhan}, {Malkan}, {McGurk}, {Morelli}, {Mosquera}, {Mudd}, {Muller Sanchez}, {Nguyen}, {Ochner}, {Ou-Yang}, {Pancoast}, {Penny}, {Pizzella}, {Poleski}, {Runnoe}, {Scott}, {Schimoia}, {Shappee}, {Shivvers}, {Simonian}, {Siviero}, {Somers}, {Stevens}, {Strauss}, {Tayar}, {Tejos}, {Treu}, {Van Saders}, {Vican}, {Villanueva}, {Yuk}, {Zakamska}, {Zhu}, {Anderson}, {Ar{é}valo}, {Bazhaw}, {Bisogni}, {Borman}, {Bottorff}, {Brandt}, {Breeveld}, {Cackett}, {Carini}, {Crenshaw}, {De  Lorenzo-C{á}ceres}, {Dietrich}, {Edelson}, {Efimova}, {Ely}, {Evans}, {Ferland}, {Flatland}, {Gehrels}, {Geier}, {Gelbord}, {Grupe}, {Gupta}, {Hall}, {Hicks}, {Horenstein}, {Horne}, {Hutchison}, {Im}, {Joner}, {Jones}, {Kaastra}, {Kaspi}, {Kelly}, {Kennea}, {Kim}, {Kim}, {Klimanov}, {Lee}, {Leonard}, {Lira}, {MacInnis}, {Mathur}, {McHardy}, {Montouri}, {Musso}, {Nazarov}, {Netzer}, {Norris}, {Nousek}, {Okhmat}, {Papadakis}, {Parks}, {Pott}, {Rafter}, {Rix}, {Saylor}, {Schn{ü}lle}, {Sergeev}, {Siegel}, {Skielboe}, {Spencer}, {Starkey}, {Sung}, {Teems}, {Turner}, {Uttley}, {Villforth}, {Weiss}, {Woo}, {Yan}, {Young},  {Zu}}]{Pei_2017ApJ...837..131P}{Pei}, L., {Fausnaugh}, M.~M., {Barth}, A.~J., {et~al.}, {Space Telescope and Optical Reverberation Mapping Project. V. Optical Spectroscopic Campaign and Emission-line Analysis for NGC 5548}. 2017, {\\it \\apj}, {\\bf 837}, 131, \\href{https://doi.org/10.3847/1538-4357/aa5eb1}{\\path{DOI: 10.3847/1538-4357/aa5eb1}}%ADS_ID Peterson_2002ApJ...581..197P\n",
      " regex = \n",
      "        \\\\bibitem(\\[[^\\[\\]]*?\\]){(?P<bibkey>[a-zA-Z0-9\\-\\+\\.\\S]+?)}(?P<authors>|([\\D]*?))(?P<year>[12][0-9]{3}).*?href(.*?{(?P<url>http[\\S]*)})(?P<rest>.*)\n",
      "        \n",
      "  warnings.warn(str(e))\n",
      "/opt/hostedtoolcache/Python/3.9.23/x64/lib/python3.9/site-packages/arxiv_on_deck_2/latex_bib.py:132: UserWarning: Error processing bibitem\n",
      " item = \\bibitem[{{Peterson} {et~al.}(2002){Peterson}, {Berlind}, {Bertram}, {Bischoff}, {Bochkarev}, {Borisov}, {Burenkov}, {Calkins}, {Carrasco}, {Chavushyan}, {Chornock}, {Dietrich}, {Doroshenko}, {Ezhkova}, {Filippenko}, {Gilbert}, {Huchra}, {Kollatschny}, {Leonard}, {Li}, {Lyuty}, {Malkov}, {Matheson}, {Merkulova}, {Mikhailov}, {Modjaz}, {Onken}, {Pogge}, {Pronik}, {Qian}, {Romano}, {Sergeev}, {Sergeeva}, {Shapovalova}, {Spiridonova}, {Tao}, {Tokarz}, {Valdes}, {Vlasiuk}, {Wagner},  {Wilkes}}]{Peterson_2002ApJ...581..197P}{Peterson}, B.~M., {Berlind}, P., {Bertram}, R., {et~al.}, {Steps toward Determination of the Size and Structure of the Broad-Line Region in Active Galactic Nuclei. XVI. A 13 Year Study of Spectral Variability in NGC 5548}. 2002, {\\it \\apj}, {\\bf 581}, 197, \\href{https://doi.org/10.1086/344197}{\\path{DOI: 10.1086/344197}}%ADS_ID 2013ApJ...779..109P\n",
      " regex = \n",
      "        \\\\bibitem(\\[[^\\[\\]]*?\\]){(?P<bibkey>[a-zA-Z0-9\\-\\+\\.\\S]+?)}(?P<authors>|([\\D]*?))(?P<year>[12][0-9]{3}).*?href(.*?{(?P<url>http[\\S]*)})(?P<rest>.*)\n",
      "        \n",
      "  warnings.warn(str(e))\n",
      "/opt/hostedtoolcache/Python/3.9.23/x64/lib/python3.9/site-packages/arxiv_on_deck_2/latex_bib.py:132: UserWarning: Error processing bibitem\n",
      " item = \\bibitem[{{Peterson} {et~al.}(2013){Peterson}, {Denney}, {De Rosa}, {Grier}, {Pogge}, {Bentz}, {Kochanek}, {Vestergaard}, {Kilerci-Eser}, {Dalla Bont{à}},  {Ciroi}}]{2013ApJ...779..109P}{Peterson}, B.~M., {Denney}, K.~D., {De Rosa}, G., {et~al.}, {The Size of the Narrow-line-emitting Region in the Seyfert 1 Galaxy NGC 5548 from Emission-line Variability}. 2013, {\\it \\apj}, {\\bf 779}, 109, \\href{https://doi.org/10.1088/0004-637X/779/2/109}{\\path{DOI: 10.1088/0004-637X/779/2/109}}%ADS_ID Peterson_2004\n",
      " regex = \n",
      "        \\\\bibitem(\\[[^\\[\\]]*?\\]){(?P<bibkey>[a-zA-Z0-9\\-\\+\\.\\S]+?)}(?P<authors>|([\\D]*?))(?P<year>[12][0-9]{3}).*?href(.*?{(?P<url>http[\\S]*)})(?P<rest>.*)\n",
      "        \n",
      "  warnings.warn(str(e))\n",
      "/opt/hostedtoolcache/Python/3.9.23/x64/lib/python3.9/site-packages/arxiv_on_deck_2/latex_bib.py:132: UserWarning: Error processing bibitem\n",
      " item = \\bibitem[{{Pronik}  {Chuvaev}(1972)}]{Pronik_1972Ap......8..112P}{Pronik}, V.~I.  {Chuvaev}, K.~K., {Hydrogen lines in the spectrum of the galaxy Markaryan 6 during its activity}. 1972, {\\it Astrophysics}, {\\bf 8}, 112, \\href{https://doi.org/10.1007/BF01002159}{\\path{DOI: 10.1007/BF01002159}}%ADS_ID Pucha2025ApJ...982...10P\n",
      " regex = \n",
      "        \\\\bibitem(\\[[^\\[\\]]*?\\]){(?P<bibkey>[a-zA-Z0-9\\-\\+\\.\\S]+?)}(?P<authors>|([\\D]*?))(?P<year>[12][0-9]{3}).*?href(.*?{(?P<url>http[\\S]*)})(?P<rest>.*)\n",
      "        \n",
      "  warnings.warn(str(e))\n",
      "/opt/hostedtoolcache/Python/3.9.23/x64/lib/python3.9/site-packages/arxiv_on_deck_2/latex_bib.py:132: UserWarning: Error processing bibitem\n",
      " item = \\bibitem[{{Richards} {et~al.}(2006){Richards}, {Lacy}, {Storrie-Lombardi}, {Hall}, {Gallagher}, {Hines}, {Fan}, {Papovich}, {Vanden Berk}, {Trammell}, {Schneider}, {Vestergaard}, {York}, {Jester}, {Anderson}, {Budav{á}ri},  {Szalay}}]{Richards_2006ApJS..166..470R}{Richards}, G.~T., {Lacy}, M., {Storrie-Lombardi}, L.~J., {et~al.}, {Spectral Energy Distributions and Multiwavelength Selection of Type 1 Quasars}. 2006, {\\it \\apjs}, {\\bf 166}, 470, \\href{https://doi.org/10.1086/506525}{\\path{DOI: 10.1086/506525}}%ADS_ID SIFS2024MNRAS\n",
      " regex = \n",
      "        \\\\bibitem(\\[[^\\[\\]]*?\\]){(?P<bibkey>[a-zA-Z0-9\\-\\+\\.\\S]+?)}(?P<authors>|([\\D]*?))(?P<year>[12][0-9]{3}).*?href(.*?{(?P<url>http[\\S]*)})(?P<rest>.*)\n",
      "        \n",
      "  warnings.warn(str(e))\n",
      "/opt/hostedtoolcache/Python/3.9.23/x64/lib/python3.9/site-packages/arxiv_on_deck_2/latex_bib.py:132: UserWarning: Error processing bibitem\n",
      " item = \\bibitem[{{Rodr{í}guez-Ardila} {et~al.}(2024){Rodr{í}guez-Ardila}, {May}, {Panda}, {Fonseca-Faria},  {Fraga}}]{SIFS2024MNRAS}{Rodr{í}guez-Ardila}, A., {May}, D., {Panda}, S., {Fonseca-Faria}, M.~A.,  {Fraga}, L., {The narrow-line region properties of ESO 138-G001 unveiled by SOAR/SIFS observations}. 2024, {\\it \\mnras}, {\\bf 527}, 10649, \\href{https://doi.org/10.1093/mnras/stad3872}{\\path{DOI: 10.1093/mnras/stad3872}}%ADS_ID Rose_2015MNRAS.448.2900R\n",
      " regex = \n",
      "        \\\\bibitem(\\[[^\\[\\]]*?\\]){(?P<bibkey>[a-zA-Z0-9\\-\\+\\.\\S]+?)}(?P<authors>|([\\D]*?))(?P<year>[12][0-9]{3}).*?href(.*?{(?P<url>http[\\S]*)})(?P<rest>.*)\n",
      "        \n",
      "  warnings.warn(str(e))\n",
      "/opt/hostedtoolcache/Python/3.9.23/x64/lib/python3.9/site-packages/arxiv_on_deck_2/latex_bib.py:132: UserWarning: Error processing bibitem\n",
      " item = \\bibitem[{{Shapovalova} {et~al.}(2004){Shapovalova}, {Doroshenko}, {Bochkarev}, {Burenkov}, {Carrasco}, {Chavushyan}, {Collin}, {Vald{é}s}, {Borisov}, {Dumont}, {Vlasuyk}, {Chilingarian}, {Fioktistova},  {Martinez}}]{Shapovalova_2004A&A...422..925S}{Shapovalova}, A.~I., {Doroshenko}, V.~T., {Bochkarev}, N.~G., {et~al.}, {Profile variability of the H{\\ensuremath{\\alpha}} and H{\\ensuremath{\\beta}} broad emission lines in NGC 5548}. 2004, {\\it \\aap}, {\\bf 422}, 925, \\href{https://doi.org/10.1051/0004-6361:20035652}{\\path{DOI: 10.1051/0004-6361:20035652}}%ADS_ID Shen_2021ApJ...918L..19S\n",
      " regex = \n",
      "        \\\\bibitem(\\[[^\\[\\]]*?\\]){(?P<bibkey>[a-zA-Z0-9\\-\\+\\.\\S]+?)}(?P<authors>|([\\D]*?))(?P<year>[12][0-9]{3}).*?href(.*?{(?P<url>http[\\S]*)})(?P<rest>.*)\n",
      "        \n",
      "  warnings.warn(str(e))\n",
      "/opt/hostedtoolcache/Python/3.9.23/x64/lib/python3.9/site-packages/arxiv_on_deck_2/latex_bib.py:132: UserWarning: Error processing bibitem\n",
      " item = \\bibitem[{{Shen} {et~al.}(2011){Shen}, {Richards}, {Strauss}, {Hall}, {Schneider}, {Snedden}, {Bizyaev}, {Brewington}, {Malanushenko}, {Malanushenko}, {Oravetz}, {Pan},  {Simmons}}]{Shen_2011}{Shen}, Y., {Richards}, G.~T., {Strauss}, M.~A., {et~al.}, {A Catalog of Quasar Properties from Sloan Digital Sky Survey Data Release 7}. 2011, {\\it \\apjs}, {\\bf 194}, 45, \\href{https://doi.org/10.1088/0067-0049/194/2/45}{\\path{DOI: 10.1088/0067-0049/194/2/45}}%ADS_ID 2020A&A...641A.167S\n",
      " regex = \n",
      "        \\\\bibitem(\\[[^\\[\\]]*?\\]){(?P<bibkey>[a-zA-Z0-9\\-\\+\\.\\S]+?)}(?P<authors>|([\\D]*?))(?P<year>[12][0-9]{3}).*?href(.*?{(?P<url>http[\\S]*)})(?P<rest>.*)\n",
      "        \n",
      "  warnings.warn(str(e))\n",
      "/opt/hostedtoolcache/Python/3.9.23/x64/lib/python3.9/site-packages/arxiv_on_deck_2/latex_bib.py:132: UserWarning: Error processing bibitem\n",
      " item = \\bibitem[{{Suganuma} {et~al.}(2006){Suganuma}, {Yoshii}, {Kobayashi}, {Minezaki}, {Enya}, {Tomita}, {Aoki}, {Koshida},  {Peterson}}]{2006ApJ...639...46S}{Suganuma}, M., {Yoshii}, Y., {Kobayashi}, Y., {et~al.}, {Reverberation Measurements of the Inner Radius of the Dust Torus in Nearby Seyfert 1 Galaxies}. 2006, {\\it \\apj}, {\\bf 639}, 46, \\href{https://doi.org/10.1086/499326}{\\path{DOI: 10.1086/499326}}%ADS_ID Sulentic_2000\n",
      " regex = \n",
      "        \\\\bibitem(\\[[^\\[\\]]*?\\]){(?P<bibkey>[a-zA-Z0-9\\-\\+\\.\\S]+?)}(?P<authors>|([\\D]*?))(?P<year>[12][0-9]{3}).*?href(.*?{(?P<url>http[\\S]*)})(?P<rest>.*)\n",
      "        \n",
      "  warnings.warn(str(e))\n",
      "/opt/hostedtoolcache/Python/3.9.23/x64/lib/python3.9/site-packages/arxiv_on_deck_2/latex_bib.py:132: UserWarning: Error processing bibitem\n",
      " item = \\bibitem[{{Wu}  {Shen}(2022)}]{Wu_Shen_2022ApJS..263...42W}{Wu}, Q.  {Shen}, Y., {A Catalog of Quasar Properties from Sloan Digital Sky Survey Data Release 16}. 2022, {\\it \\apjs}, {\\bf 263}, 42, \\href{https://doi.org/10.3847/1538-4365/ac9ead}{\\path{DOI: 10.3847/1538-4365/ac9ead}}%ADS_ID Zeltyn_2024ApJ...966...85Z\n",
      " regex = \n",
      "        \\\\bibitem(\\[[^\\[\\]]*?\\]){(?P<bibkey>[a-zA-Z0-9\\-\\+\\.\\S]+?)}(?P<authors>|([\\D]*?))(?P<year>[12][0-9]{3}).*?href(.*?{(?P<url>http[\\S]*)})(?P<rest>.*)\n",
      "        \n",
      "  warnings.warn(str(e))\n"
     ]
    },
    {
     "name": "stdout",
     "output_type": "stream",
     "text": [
      "extracting tarball to tmp_2510.01872... done.\n"
     ]
    }
   ],
   "source": [
    "documents = []\n",
    "failed = []\n",
    "for paper in tqdm(candidates):\n",
    "    # debug crap\n",
    "    paper['identifier'] = paper['identifier'].lower().replace('arxiv:', '').replace(r'\\n', '').strip()\n",
    "    paper_id = paper['identifier']\n",
    "    \n",
    "    folder = f'tmp_{paper_id}'\n",
    "\n",
    "    try:\n",
    "        if not os.path.isdir(folder):\n",
    "            folder = retrieve_document_source(f\"{paper_id}\", f'tmp_{paper_id}')\n",
    "        \n",
    "        try:\n",
    "            doc = latex.LatexDocument(folder, validation=validation)    \n",
    "        except AffiliationError as affilerror:\n",
    "            msg = f\"ArXiv:{paper_id:s} is not an MPIA paper... \" + str(affilerror)\n",
    "            failed.append((paper, \"affiliation error: \" + str(affilerror) ))\n",
    "            continue\n",
    "        \n",
    "        # Hack because sometimes author parsing does not work well\n",
    "        if (len(doc.authors) != len(paper['authors'])):\n",
    "            doc._authors = paper['authors']\n",
    "        else:\n",
    "            # highlight authors (FIXME: doc.highlight_authors)\n",
    "            # done on arxiv paper already\n",
    "            doc._authors = highlight_authors_in_list(\n",
    "                [get_initials(k) for k in doc.authors], \n",
    "                mpia_authors, verbose=True)\n",
    "        if (doc.abstract) in (None, ''):\n",
    "            doc._abstract = paper['abstract']\n",
    "            \n",
    "        doc.comment = (get_markdown_badge(paper_id) + \n",
    "                       \"<mark>Appeared on: \" + paper['date'] + \"</mark> - \")\n",
    "        if paper['comments']:\n",
    "            doc.comment += \" _\" + paper['comments'] + \"_\"\n",
    "        \n",
    "        full_md = doc.generate_markdown_text()\n",
    "        \n",
    "        full_md += get_markdown_qrcode(paper_id)\n",
    "        \n",
    "        # replace citations\n",
    "        try:\n",
    "            bibdata = latex_bib.LatexBib.from_doc(doc)\n",
    "            full_md = latex_bib.replace_citations(full_md, bibdata)\n",
    "        except Exception as e:\n",
    "            print(\"Issues with the citations\")\n",
    "            print(e)\n",
    "        \n",
    "        documents.append((paper_id, full_md))\n",
    "    except Exception as e:\n",
    "        warnings.warn(latex.LatexWarning(f\"{paper_id:s} did not run properly\\n\" +\n",
    "                                         str(e)\n",
    "                                        ))\n",
    "        failed.append((paper, \"latex error \" + str(e)))"
   ]
  },
  {
   "cell_type": "markdown",
   "id": "2505a25c",
   "metadata": {
    "papermill": {
     "duration": 0.004031,
     "end_time": "2025-10-03T04:13:59.356753",
     "exception": false,
     "start_time": "2025-10-03T04:13:59.352722",
     "status": "completed"
    },
    "tags": []
   },
   "source": [
    "### Export the logs\n",
    "\n",
    "Throughout, we also keep track of the logs per paper. see `logs-{today date}.md` "
   ]
  },
  {
   "cell_type": "code",
   "execution_count": 6,
   "id": "d733828a",
   "metadata": {
    "execution": {
     "iopub.execute_input": "2025-10-03T04:13:59.365947Z",
     "iopub.status.busy": "2025-10-03T04:13:59.365657Z",
     "iopub.status.idle": "2025-10-03T04:13:59.381109Z",
     "shell.execute_reply": "2025-10-03T04:13:59.380436Z"
    },
    "papermill": {
     "duration": 0.021256,
     "end_time": "2025-10-03T04:13:59.382098",
     "exception": false,
     "start_time": "2025-10-03T04:13:59.360842",
     "status": "completed"
    },
    "scrolled": false,
    "tags": []
   },
   "outputs": [
    {
     "data": {
      "text/markdown": [
       "## Successful papers"
      ],
      "text/plain": [
       "<IPython.core.display.Markdown object>"
      ]
     },
     "metadata": {},
     "output_type": "display_data"
    },
    {
     "data": {
      "text/markdown": [
       "\n",
       "|||\n",
       "|---:|:---|\n",
       "| [![arXiv](https://img.shields.io/badge/arXiv-2510.01486-b31b1b.svg)](https://arxiv.org/abs/2510.01486) | **Feeding frenzy in the mighty black holes: what we could learn from them?**  |\n",
       "|| S. Panda, et al. -- incl., <mark>E. Bañados</mark> |\n",
       "|*Appeared on*| *2025-10-03*|\n",
       "|*Comments*| *30 pages, 8 figures, review based on the invited talk at the 15th Serbian Conference on Spectral Line Shapes in Astrophysics*|\n",
       "|**Abstract**|            Eddington ratio is a paramount parameter governing the accretion history and life cycles of Active Galactic Nuclei (AGNs). This short review presents a multi-faceted view of the importance of the Eddington ratio spanning varied AGN studies. We find that the Eddington ratio is crucial for standardizing the Radius-Luminosity (R-L) relation - a necessary step for employing quasars (QSOs) as standardizable cosmological probes to help clarify the standing of the Hubble tension. In this data-driven era, we consolidated disparate aspects by developing novel relations borne out of large datasets, such as the robust, nearly universal anti-correlation between fractional variability and Eddington ratio derived from Zwicky Transient Facility (ZTF) data, which is vital for interpreting forthcoming high-cadence surveys like Rubin Observatory's LSST. Addressing the conundrum where JWST results suggest an overabundance of massive high-redshift black holes, we demonstrate that local AGNs offer clarification: Changing-Look AGNs (CLAGNs), driven by rapid Eddington ratio shifts, cluster in the low-accretion regime, a rate independently confirmed by our integral field spectroscopy and photoionization modeling of a well-known Seyfert 2 galaxy, rich in high-ionization, forbidden, coronal lines. Conversely, for the high-redshift, high-luminosity population where traditional reverberation mapping (RM) is highly impractical, photometric reverberation mapping (PRM) offers a rapid alternative to constrain accretion disk sizes, enabling efficient estimates of black hole masses and Eddington ratios. Finally, we developed tailored semi-empirical spectral energy distributions (SEDs) for extremely high-accretion quasars, successfully validating their characteristic extreme physical conditions.         |"
      ],
      "text/plain": [
       "[2510.01486] Feeding frenzy in the mighty black holes: what we could learn from them?\n",
       "\tS. Panda, et al. -- incl., <mark>E. Bañados</mark>"
      ]
     },
     "metadata": {},
     "output_type": "display_data"
    },
    {
     "data": {
      "text/markdown": [
       "## Failed papers"
      ],
      "text/plain": [
       "<IPython.core.display.Markdown object>"
      ]
     },
     "metadata": {},
     "output_type": "display_data"
    },
    {
     "data": {
      "text/markdown": [
       "\n",
       "|||\n",
       "|---:|:---|\n",
       "| [![arXiv](https://img.shields.io/badge/arXiv-2510.01314-b31b1b.svg)](https://arxiv.org/abs/2510.01314) | **JWST Observations of Starbursts: PAHs Closely Trace the Cool Phase of M82's Galactic Wind**  |\n",
       "|| S. Lopez, et al. -- incl., <mark>F. Walter</mark> |\n",
       "|*Appeared on*| *2025-10-03*|\n",
       "|*Comments*| *14 pages, 7 figures, submitted to ApJ Letters (01 October 2025)*|\n",
       "|**Abstract**|            Stellar feedback drives multiphase gas outflows from starburst galaxies, but the interpretation of dust emission in these winds remains uncertain. To investigate this, we analyze new JWST mid-infrared images tracing polycyclic aromatic hydrocarbon (PAH) emission at 7.7 and 11.3~$\\mu$m from the outflow of the prototypical starburst M82 out to $3.2$ kpc. We find that PAH emission shows significant correlations with CO, H$\\alpha$, and X-ray emission within the outflow, though the strengths and behaviors of these correlations vary with gas phase and distance from the starburst. PAH emission correlates strongly with cold molecular gas, with PAH--CO scaling relations in the wind nearly identical to those in galaxy disks despite the very different conditions. The H$\\alpha$--PAH correlation indicates that H$\\alpha$ traces the surfaces of PAH-bearing clouds, consistent with arising from ionized layers produced by shocks. Meanwhile the PAH--X-ray correlation disappears once distance effects are controlled for past 2~kpc, suggesting that PAHs are decoupled from the hot gas and the global correlation merely reflects the large-scale structure of the outflow. The PAH-to-neutral gas ratio remains nearly flat to 2~kpc, with variations following changes in the radiation field. This implies that the product of PAH abundance and dust-to-gas ratio does not change significantly over the inner portion of the outflow. Together, these results demonstrate that PAHs robustly trace the cold phase of M82's wind, surviving well beyond the starburst and providing a powerful, high-resolution proxy for mapping the life cycle of entrained cold material in galactic outflows.         |\n",
       "|<p style=\"color:green\"> **ERROR** </p>| <p style=\"color:green\">affiliation error: mpia.affiliation_verifications: 'Heidelberg' keyword not found.</p> |"
      ],
      "text/plain": [
       "<IPython.core.display.Markdown object>"
      ]
     },
     "metadata": {},
     "output_type": "display_data"
    },
    {
     "data": {
      "text/markdown": [
       "\n",
       "|||\n",
       "|---:|:---|\n",
       "| [![arXiv](https://img.shields.io/badge/arXiv-2510.01421-b31b1b.svg)](https://arxiv.org/abs/2510.01421) | **Ly-alpha emission reveals two satellite halos around massive groups at z ~ 3: the puzzling case of a quiescent central galaxy**  |\n",
       "|| S. Guo, et al. -- incl., <mark>F. Bruckmann</mark> |\n",
       "|*Appeared on*| *2025-10-03*|\n",
       "|*Comments*| *Resubmitted to A&A after addressing referee comments*|\n",
       "|**Abstract**|            We present the discovery and characterisation of two Ly$\\alpha$ nebulae (LANs), RO-1001-Sat and RO-0959-Sat, as satellite structures of two giant LANs at $z=2.920$ and 3.092. They are found neighbouring two out of four known giant LANs at $z\\sim3$ in our MUSE follow-up observations, reinforcing the idea that Ly$\\alpha$ emission can be used to trace massive dark matter halos at high-$z$. This high occurrence of massive satellite halos agrees with simulations. With sizes of $\\simeq80\\times160$ and $80\\times100~\\mathrm{pkpc}^2$, the two nebulae are both $\\sim$300pkpc from the main LANs. The Ly$\\alpha$ emission is only shifted by $\\simeq100-300$ km s$^{-1}$ between each of the two pairs, suggesting connections via large-scale structure. RO-1001-Sat and RO-0959-Sat are estimated to have log$(M_\\mathrm{h}/M_\\odot)\\simeq13.2\\pm0.3$ and $12.8\\pm0.3$, putting them potentially close to the regime of cold-mode accretion. The central brightest galaxies in the two halos are morphologically distinct despite having similar stellar mass $\\sim10^{11}M_\\odot$, one being an elliptical quiescent galaxy in RO-1001-Sat and the other being a dusty star-forming spiral in RO-0959-Sat. Intriguingly, the quiescent galaxy aligns well with the peak of the LAN as well as the potential well of the host halo, making it the first clear-cut case where the cold gas ought to be accreting onto the galaxy but with no observable star formation, either due to morphological quenching or, more likely, radio-mode feedback from an active galactic nucleus. Finally, we show a tentative detection of a Ly$\\alpha$ filament connecting RO-1001 and RO-1001-Sat. This work shows how panoramic MUSE (and in the future, BlueMUSE) observations of massive halo seeds can be used to efficiently search for additional halos, unveiling their large-scale structure and enabling the study of Ly$\\alpha$-selected galaxy groups.         |\n",
       "|<p style=\"color:green\"> **ERROR** </p>| <p style=\"color:green\">affiliation error: mpia.affiliation_verifications: 'Heidelberg' keyword not found.</p> |"
      ],
      "text/plain": [
       "<IPython.core.display.Markdown object>"
      ]
     },
     "metadata": {},
     "output_type": "display_data"
    },
    {
     "data": {
      "text/markdown": [
       "\n",
       "|||\n",
       "|---:|:---|\n",
       "| [![arXiv](https://img.shields.io/badge/arXiv-2510.01872-b31b1b.svg)](https://arxiv.org/abs/2510.01872) | **Constraining the Neutron-Star Equation of State via Short Gamma-Ray Burst X-ray Afterglows**  |\n",
       "|| R. Moradi, et al. -- incl., <mark>Y. Wang</mark> |\n",
       "|*Appeared on*| *2025-10-03*|\n",
       "|*Comments*| *Accepted for publication in The Astrophysical Journal (ApJ)*|\n",
       "|**Abstract**|            Recent observations from NICER in X-rays and LIGO/Virgo in gravitational waves have provided critical constraints on the mass, radius, and tidal deformability of neutron stars, imposing stringent limits on the equation of state (EOS) and the behavior of ultra-dense matter. However, several key parameters influencing the EOS, such as the maximum mass of neutron stars, spin-down rates, and the potential role of exotic matter in their cores, remain subject of ongoing debate. Here we present a new approach to constraining the EOS by analyzing the X-ray afterglows of some short gamma-ray bursts, focusing on \"the internal plateau\" phase and its abrupt decay, which reflect the spin-down and possible collapse of a supra-massive neutron star into a black hole. By linking critical neutron star masses with black hole formation criteria and the observational data from Swift's BAT and XRT instruments with compact object models, we explore three representative EOSs that range from \"soft\" to \"stiff\". Our result supports a maximum mass for neutron stars of approximately 2.39 solar masses at the threshold of black hole formation. This conclusion holds under assumptions of magnetar-powered X-ray plateaus, constant radiative efficiency, isotropic emission, and full Kerr black hole energy extraction; deviations could influence the inferred results. Our results demonstrate the critical role of neutron star/black hole physics in probing dense nuclear matter and provide a novel framework for exploring extreme astrophysical environments.         |\n",
       "|<p style=\"color:green\"> **ERROR** </p>| <p style=\"color:green\">affiliation error: mpia.affiliation_verifications: 'Heidelberg' keyword not found.</p> |"
      ],
      "text/plain": [
       "<IPython.core.display.Markdown object>"
      ]
     },
     "metadata": {},
     "output_type": "display_data"
    }
   ],
   "source": [
    "import datetime\n",
    "today = str(datetime.date.today())\n",
    "logfile = f\"_build/html/logs/log-{today}.md\"\n",
    "\n",
    "\n",
    "with open(logfile, 'w') as logs:\n",
    "    # Success\n",
    "    logs.write(f'# Arxiv on Deck 2: Logs - {today}\\n\\n')\n",
    "    logs.write(\"\"\"* Arxiv had {0:,d} new papers\\n\"\"\".format(len(new_papers)))\n",
    "    logs.write(\"\"\"    * {0:,d} with possible author matches\\n\\n\"\"\".format(len(candidates)))\n",
    "    logs.write(\"## Sucessful papers\\n\\n\")\n",
    "    display(Markdown(\"## Successful papers\"))\n",
    "    success = [k[0] for k in documents]\n",
    "    for candid in candidates:\n",
    "        if candid['identifier'].split(':')[-1] in success:\n",
    "            display(candid)\n",
    "            logs.write(candid.generate_markdown_text() + '\\n\\n')\n",
    "\n",
    "    ## failed\n",
    "    logs.write(\"## Failed papers\\n\\n\")\n",
    "    display(Markdown(\"## Failed papers\"))\n",
    "    failed = sorted(failed, key=lambda x: x[1])\n",
    "    current_reason = \"\"\n",
    "    for paper, reason in failed:\n",
    "        if 'affiliation' in reason:\n",
    "            color = 'green'\n",
    "        else:\n",
    "            color = 'red'\n",
    "        data = Markdown(\n",
    "                paper.generate_markdown_text() + \n",
    "                f'\\n|<p style=\"color:{color:s}\"> **ERROR** </p>| <p style=\"color:{color:s}\">{reason:s}</p> |'\n",
    "               )\n",
    "        if reason != current_reason:\n",
    "            logs.write(f'### {reason:s} \\n\\n')\n",
    "            current_reason = reason\n",
    "        logs.write(data.data + '\\n\\n')\n",
    "        \n",
    "        # only display here the important errors (all in logs)\n",
    "        # if color in ('red',):\n",
    "        display(data)"
   ]
  },
  {
   "cell_type": "markdown",
   "id": "472d20ee",
   "metadata": {
    "papermill": {
     "duration": 0.004662,
     "end_time": "2025-10-03T04:13:59.391394",
     "exception": false,
     "start_time": "2025-10-03T04:13:59.386732",
     "status": "completed"
    },
    "tags": []
   },
   "source": [
    "## Export documents\n",
    "\n",
    "We now write the .md files and export relevant images"
   ]
  },
  {
   "cell_type": "code",
   "execution_count": 7,
   "id": "d426aed9",
   "metadata": {
    "execution": {
     "iopub.execute_input": "2025-10-03T04:13:59.401510Z",
     "iopub.status.busy": "2025-10-03T04:13:59.401111Z",
     "iopub.status.idle": "2025-10-03T04:13:59.408151Z",
     "shell.execute_reply": "2025-10-03T04:13:59.407485Z"
    },
    "papermill": {
     "duration": 0.013156,
     "end_time": "2025-10-03T04:13:59.409147",
     "exception": false,
     "start_time": "2025-10-03T04:13:59.395991",
     "status": "completed"
    },
    "tags": []
   },
   "outputs": [],
   "source": [
    "def export_markdown_summary(md: str, md_fname:str, directory: str):\n",
    "    \"\"\"Export MD document and associated relevant images\"\"\"\n",
    "    import os\n",
    "    import shutil\n",
    "    import re\n",
    "\n",
    "    if (os.path.exists(directory) and not os.path.isdir(directory)):\n",
    "        raise RuntimeError(f\"a non-directory file exists with name {directory:s}\")\n",
    "\n",
    "    if (not os.path.exists(directory)):\n",
    "        print(f\"creating directory {directory:s}\")\n",
    "        os.mkdir(directory)\n",
    "\n",
    "    fig_fnames = (re.compile(r'\\[Fig.*\\]\\((.*)\\)').findall(md) + \n",
    "                  re.compile(r'\\<img src=\"([^>\\s]*)\"[^>]*/>').findall(md))\n",
    "    print(\"found figures\", fig_fnames)\n",
    "    for fname in fig_fnames:\n",
    "        if 'http' in fname:\n",
    "            # No need to copy online figures\n",
    "            continue\n",
    "        if not os.path.exists(fname):\n",
    "            print(\"file not found\", fname)\n",
    "            continue\n",
    "        print(\"copying \", fname, \"to\", directory)\n",
    "        destdir = os.path.join(directory, os.path.dirname(fname))\n",
    "        destfname = os.path.join(destdir, os.path.basename(fname))\n",
    "        try:\n",
    "            os.makedirs(destdir)\n",
    "        except FileExistsError:\n",
    "            pass\n",
    "        shutil.copy(fname, destfname)\n",
    "    with open(os.path.join(directory, md_fname), 'w') as fout:\n",
    "        fout.write(md)\n",
    "    print(\"exported in \", os.path.join(directory, md_fname))\n",
    "    [print(\"    + \" + os.path.join(directory,fk)) for fk in fig_fnames]"
   ]
  },
  {
   "cell_type": "code",
   "execution_count": 8,
   "id": "014d04a4",
   "metadata": {
    "execution": {
     "iopub.execute_input": "2025-10-03T04:13:59.419203Z",
     "iopub.status.busy": "2025-10-03T04:13:59.418968Z",
     "iopub.status.idle": "2025-10-03T04:13:59.427203Z",
     "shell.execute_reply": "2025-10-03T04:13:59.426658Z"
    },
    "papermill": {
     "duration": 0.01444,
     "end_time": "2025-10-03T04:13:59.428248",
     "exception": false,
     "start_time": "2025-10-03T04:13:59.413808",
     "status": "completed"
    },
    "tags": []
   },
   "outputs": [
    {
     "name": "stdout",
     "output_type": "stream",
     "text": [
      "found figures ['tmp_2510.01486/./original_correlation.png', 'tmp_2510.01486/./Eddr_dist.png', 'tmp_2510.01486/./CLAGN_trend.png', 'tmp_2510.01486/./eso_g138.png']\n",
      "copying  tmp_2510.01486/./original_correlation.png to _build/html/\n",
      "copying  tmp_2510.01486/./Eddr_dist.png to _build/html/\n",
      "copying  tmp_2510.01486/./CLAGN_trend.png to _build/html/\n",
      "copying  tmp_2510.01486/./eso_g138.png to _build/html/\n",
      "exported in  _build/html/2510.01486.md\n",
      "    + _build/html/tmp_2510.01486/./original_correlation.png\n",
      "    + _build/html/tmp_2510.01486/./Eddr_dist.png\n",
      "    + _build/html/tmp_2510.01486/./CLAGN_trend.png\n",
      "    + _build/html/tmp_2510.01486/./eso_g138.png\n"
     ]
    }
   ],
   "source": [
    "for paper_id, md in documents:\n",
    "    export_markdown_summary(md, f\"{paper_id:s}.md\", '_build/html/')"
   ]
  },
  {
   "cell_type": "markdown",
   "id": "f087a0a7",
   "metadata": {
    "papermill": {
     "duration": 0.004754,
     "end_time": "2025-10-03T04:13:59.438240",
     "exception": false,
     "start_time": "2025-10-03T04:13:59.433486",
     "status": "completed"
    },
    "tags": []
   },
   "source": [
    "## Display the papers\n",
    "\n",
    "Not necessary but allows for a quick check."
   ]
  },
  {
   "cell_type": "code",
   "execution_count": 9,
   "id": "fd25f625",
   "metadata": {
    "execution": {
     "iopub.execute_input": "2025-10-03T04:13:59.448475Z",
     "iopub.status.busy": "2025-10-03T04:13:59.448206Z",
     "iopub.status.idle": "2025-10-03T04:13:59.452858Z",
     "shell.execute_reply": "2025-10-03T04:13:59.452166Z"
    },
    "papermill": {
     "duration": 0.010948,
     "end_time": "2025-10-03T04:13:59.453901",
     "exception": false,
     "start_time": "2025-10-03T04:13:59.442953",
     "status": "completed"
    },
    "scrolled": false,
    "tags": []
   },
   "outputs": [
    {
     "data": {
      "text/markdown": [
       "<div class=\"macros\" style=\"visibility:hidden;\">\n",
       "$\\newcommand{\\ensuremath}{}$\n",
       "$\\newcommand{\\xspace}{}$\n",
       "$\\newcommand{\\object}[1]{\\texttt{#1}}$\n",
       "$\\newcommand{\\farcs}{{.}''}$\n",
       "$\\newcommand{\\farcm}{{.}'}$\n",
       "$\\newcommand{\\arcsec}{''}$\n",
       "$\\newcommand{\\arcmin}{'}$\n",
       "$\\newcommand{\\ion}[2]{#1#2}$\n",
       "$\\newcommand{\\textsc}[1]{\\textrm{#1}}$\n",
       "$\\newcommand{\\hl}[1]{\\textrm{#1}}$\n",
       "$\\newcommand{\\footnote}[1]{}$\n",
       "$\\newcommand{\\BibTeX}{{\\rm B\\kern-.05em{\\sc i\\kern-.025em b}$\n",
       "$             T\\kern-.1667em\\lower.7ex\\hbox{E}\\kern-.125emX}}$</div>\n",
       "\n",
       "\n",
       "\n",
       "<div id=\"title\">\n",
       "\n",
       "# Feeding frenzy in the mighty black holes:\\ what we could learn from them\n",
       "\n",
       "</div>\n",
       "<div id=\"comments\">\n",
       "\n",
       "[![arXiv](https://img.shields.io/badge/arXiv-2510.01486-b31b1b.svg)](https://arxiv.org/abs/2510.01486)<mark>Appeared on: 2025-10-03</mark> -  _30 pages, 8 figures, review based on the invited talk at the 15th Serbian Conference on Spectral Line Shapes in Astrophysics_\n",
       "\n",
       "</div>\n",
       "<div id=\"authors\">\n",
       "\n",
       "S. Panda, et al. -- incl., <mark>E. Bañados</mark>\n",
       "\n",
       "</div>\n",
       "<div id=\"abstract\">\n",
       "\n",
       "**Abstract:** * Data-driven era, need for us to consolidate/learn from/stitch the different aspects together; a bit of out-of-the-box thinking and novel relations borne out of the analyses of large datasets and innovative techniques\\end{itemize}\\end{comment}$ $\\keywords{Supermassive black holes (1663) -- Active galactic nuclei (16) -- Quasars (1319) -- Spectroscopy (1558) -- Photometry (1234) -- Scaling relations (2031) -- Spectral energy distribution (2129) -- Photoionization (2060)}$\n",
       "\n",
       "</div>\n",
       "\n",
       "<div id=\"div_fig1\">\n",
       "\n",
       "<img src=\"tmp_2510.01486/./original_correlation.png\" alt=\"Fig1\" width=\"100%\"/>\n",
       "\n",
       "**Figure 1. -** Distribution of the fractional variability (F$_{\\rm var}$) in the g-band ZTF lightcurves for the AQMES medium field monitored within the SDSS-V, versus the Eddington ratio. The latter is taken from the SDSS DR16 QSO catalogue \\citep{Wu_Shen_2022ApJS..263...42W}. The color axis depicts the distribution of redshift. The best-fit correlation after cleaning sources with insufficient F$_{\\rm var}$ in g-band information: log $\\lambda_{\\rm Edd}$ = -0.61 log F$_{\\rm var}$ - 1.38 ($\\rho$ = -0.28; p-value = 2.8E-18). (*fig1*)\n",
       "\n",
       "</div>\n",
       "<div id=\"div_fig2\">\n",
       "\n",
       "<img src=\"tmp_2510.01486/./Eddr_dist.png\" alt=\"Fig2.1\" width=\"50%\"/><img src=\"tmp_2510.01486/./CLAGN_trend.png\" alt=\"Fig2.2\" width=\"50%\"/>\n",
       "\n",
       "**Figure 2. -** (_Left:_) Distribution of Eddington ratios in the sample from \\citet{PandaSniegowska2024ApJS}. We show the distributions for the earliest (in brown) and the latest (in purple) epochs for the sources in our sample. The median values for the two distributions (red = -1.99, blue = -1.685) are marked with vertical dashed lines. The magenta box marks the range of the Eddington ratio for NGC 5548, i.e., log $\\lambda_{\\rm Edd}$ = [-2.2, -1]. (_Right:_) The distribution of the emission line EW versus the AGN continuum luminosity. Here, we demonstrate the trend for two sources:  SDSS J141324.27+530527.0 \\citep{Wang_2018ApJ...858...49W} with 72 spectral epochs over $\\sim$15 years (5527 days), and NGC 5548 \\citep{Bon_2018FrASS...5....3B, Panda2022AN, Panda2023BASBr} with more than 750 spectral epochs over $\\sim$25 years (9624 days). For the former source (SDSS J141324.27+530527.0), we have taken the spectral data from the homogeneous fitting in \\citet{PandaSniegowska2024ApJS}, which includes the Mg{\\sc ii}, H$\\beta$, and H$\\alpha$ emission lines and the corresponding AGN continua nearest to these lines (at 3000Å, 5100Å, and 6000Å), as shown in the panel. For NGC 5548, we show the dataset from Panda et al. (in prep.), which is an updated version of the dataset provided in \\citet{Bon_2018FrASS...5....3B}, where the authors analyzed the H$\\beta$ region. The SDSS source shows a clear rise from a deep minimum to a high state in both Balmer lines. However, the Mg{\\sc ii} shows a rather flat behavior - reminiscent of the Baldwin effect, suggesting the difference in ionization and response to the changing continuum levels. NGC 5548 data has a wealth of data, but the change in the source is rather gradual, and hence, a clear spike in the trend is not that prominent. (*fig:clagns*)\n",
       "\n",
       "</div>\n",
       "<div id=\"div_fig3\">\n",
       "\n",
       "<img src=\"tmp_2510.01486/./eso_g138.png\" alt=\"Fig3\" width=\"100%\"/>\n",
       "\n",
       "**Figure 3. -** (_Left:_)[O {\\sc iii}]$\\lambda$5007 emission image of ESO 138-G001 from the HST/WFPC2 \\citep{HST2000ApJS..128..139F} with a small inset showing the details of the central part, where the nucleus is marked with a plus sign; (_Right:_) [O {\\sc iii}]$\\lambda$5007 emission image from SIFS after data treatment involving spatial re-sampling with quadratic interpolation followed by the Richardson-Lucy PSF deconvolution \\citep[see][for more details]{SIFS2024MNRAS}. The green circles – with an aperture radius of 0.6 arcsec – denote the extraction regions of the spectra for the North-East (NE) knot (top left), the South-East (SE) blob (bottom left), and the nuclear region. The red circle denotes the PSF FWHM of 0.71 arcsec. (*fig:hst-sifs*)\n",
       "\n",
       "</div><div id=\"qrcode\"><img src=https://api.qrserver.com/v1/create-qr-code/?size=100x100&data=\"https://arxiv.org/abs/2510.01486\"></div>"
      ],
      "text/plain": [
       "<IPython.core.display.Markdown object>"
      ]
     },
     "metadata": {},
     "output_type": "display_data"
    }
   ],
   "source": [
    "[display(Markdown(k[1])) for k in documents];"
   ]
  },
  {
   "cell_type": "markdown",
   "id": "873873a4",
   "metadata": {
    "papermill": {
     "duration": 0.004858,
     "end_time": "2025-10-03T04:13:59.463915",
     "exception": false,
     "start_time": "2025-10-03T04:13:59.459057",
     "status": "completed"
    },
    "tags": []
   },
   "source": [
    "# Create HTML index"
   ]
  },
  {
   "cell_type": "code",
   "execution_count": 10,
   "id": "cf665672",
   "metadata": {
    "execution": {
     "iopub.execute_input": "2025-10-03T04:13:59.474427Z",
     "iopub.status.busy": "2025-10-03T04:13:59.474126Z",
     "iopub.status.idle": "2025-10-03T04:13:59.480957Z",
     "shell.execute_reply": "2025-10-03T04:13:59.480410Z"
    },
    "papermill": {
     "duration": 0.013216,
     "end_time": "2025-10-03T04:13:59.481980",
     "exception": false,
     "start_time": "2025-10-03T04:13:59.468764",
     "status": "completed"
    },
    "tags": []
   },
   "outputs": [
    {
     "name": "stdout",
     "output_type": "stream",
     "text": [
      "129  publications files modified in the last 7 days.\n"
     ]
    }
   ],
   "source": [
    "from datetime import datetime, timedelta, timezone\n",
    "from glob import glob\n",
    "import os\n",
    "\n",
    "files = glob('_build/html/*.md')\n",
    "days = 7\n",
    "now = datetime.today()\n",
    "res = []\n",
    "for fk in files:\n",
    "    stat_result = os.stat(fk).st_ctime\n",
    "    modified = datetime.fromtimestamp(stat_result, tz=timezone.utc).replace(tzinfo=None)\n",
    "    delta = now.today() - modified\n",
    "    if delta <= timedelta(days=days):\n",
    "        res.append((delta.seconds, fk))\n",
    "res = [k[1] for k in reversed(sorted(res, key=lambda x:x[1]))]\n",
    "npub = len(res)\n",
    "print(len(res), f\" publications files modified in the last {days:d} days.\")\n",
    "# [ print('\\t', k) for k in res ];"
   ]
  },
  {
   "cell_type": "code",
   "execution_count": 11,
   "id": "015de740",
   "metadata": {
    "execution": {
     "iopub.execute_input": "2025-10-03T04:13:59.492939Z",
     "iopub.status.busy": "2025-10-03T04:13:59.492719Z",
     "iopub.status.idle": "2025-10-03T04:13:59.504411Z",
     "shell.execute_reply": "2025-10-03T04:13:59.503807Z"
    },
    "papermill": {
     "duration": 0.018283,
     "end_time": "2025-10-03T04:13:59.505468",
     "exception": false,
     "start_time": "2025-10-03T04:13:59.487185",
     "status": "completed"
    },
    "tags": []
   },
   "outputs": [
    {
     "name": "stdout",
     "output_type": "stream",
     "text": [
      "18  publications in the last 7 days.\n"
     ]
    }
   ],
   "source": [
    "import datetime\n",
    "from glob import glob\n",
    "\n",
    "def get_last_n_days(lst, days=1):\n",
    "    \"\"\" Get the documents from the last n days \"\"\"\n",
    "    sorted_lst = sorted(lst, key=lambda x: x[1], reverse=True)\n",
    "    for fname, date in sorted_lst:\n",
    "        if date >= str(datetime.date.today() - datetime.timedelta(days=days)):\n",
    "            yield fname\n",
    "\n",
    "def extract_appearance_dates(lst_file):\n",
    "    dates = []\n",
    "\n",
    "    def get_date(line):\n",
    "        return line\\\n",
    "            .split('Appeared on:')[-1]\\\n",
    "            .split('</mark>')[0].strip()\n",
    "\n",
    "    for fname in lst:\n",
    "        with open(fname, 'r') as f:\n",
    "            found_date = False\n",
    "            for line in f:\n",
    "                if not found_date:\n",
    "                    if \"Appeared on\" in line:\n",
    "                        found_date = True\n",
    "                        dates.append((fname, get_date(line)))\n",
    "                else:\n",
    "                    break\n",
    "    return dates\n",
    "\n",
    "from glob import glob\n",
    "lst = glob('_build/html/*md')\n",
    "days = 7\n",
    "dates = extract_appearance_dates(lst)\n",
    "res = list(get_last_n_days(dates, days))\n",
    "npub = len(res)\n",
    "print(len(res), f\" publications in the last {days:d} days.\")"
   ]
  },
  {
   "cell_type": "code",
   "execution_count": 12,
   "id": "52ca0208",
   "metadata": {
    "execution": {
     "iopub.execute_input": "2025-10-03T04:13:59.516506Z",
     "iopub.status.busy": "2025-10-03T04:13:59.516315Z",
     "iopub.status.idle": "2025-10-03T04:13:59.521138Z",
     "shell.execute_reply": "2025-10-03T04:13:59.520591Z"
    },
    "papermill": {
     "duration": 0.011474,
     "end_time": "2025-10-03T04:13:59.522109",
     "exception": false,
     "start_time": "2025-10-03T04:13:59.510635",
     "status": "completed"
    },
    "scrolled": false,
    "tags": []
   },
   "outputs": [],
   "source": [
    "def create_carousel(npub=4):\n",
    "    \"\"\" Generate the HTML code for a carousel with `npub` slides \"\"\"\n",
    "    carousel = [\"\"\"  <div class=\"carousel\" \"\"\",\n",
    "                \"\"\"       data-flickity='{ \"autoPlay\": 10000, \"adaptiveHeight\": true, \"resize\": true, \"wrapAround\": true, \"pauseAutoPlayOnHover\": true, \"groupCells\": 1 }' id=\"asyncTypeset\">\"\"\"\n",
    "                ]\n",
    "    \n",
    "    item_str = \"\"\"    <div class=\"carousel-cell\"> <div id=\"slide{k}\" class=\"md_view\">Content {k}</div> </div>\"\"\"\n",
    "    for k in range(1, npub + 1):\n",
    "        carousel.append(item_str.format(k=k))\n",
    "    carousel.append(\"  </div>\")\n",
    "    return '\\n'.join(carousel)\n",
    "\n",
    "def create_grid(npub=4):\n",
    "    \"\"\" Generate the HTML code for a flat grid with `npub` slides \"\"\"\n",
    "    grid = [\"\"\"  <div class=\"grid\"> \"\"\",\n",
    "                ]\n",
    "    \n",
    "    item_str = \"\"\"    <div class=\"grid-item\"> <div id=\"slide{k}\" class=\"md_view\">Content {k}</div> </div>\"\"\"\n",
    "    for k in range(1, npub + 1):\n",
    "        grid.append(item_str.format(k=k))\n",
    "    grid.append(\"  </div>\")\n",
    "    return '\\n'.join(grid)"
   ]
  },
  {
   "cell_type": "code",
   "execution_count": 13,
   "id": "a6eac5b6",
   "metadata": {
    "execution": {
     "iopub.execute_input": "2025-10-03T04:13:59.533195Z",
     "iopub.status.busy": "2025-10-03T04:13:59.532976Z",
     "iopub.status.idle": "2025-10-03T04:13:59.537930Z",
     "shell.execute_reply": "2025-10-03T04:13:59.537408Z"
    },
    "papermill": {
     "duration": 0.011528,
     "end_time": "2025-10-03T04:13:59.538906",
     "exception": false,
     "start_time": "2025-10-03T04:13:59.527378",
     "status": "completed"
    },
    "scrolled": false,
    "tags": []
   },
   "outputs": [],
   "source": [
    "carousel = create_carousel(npub)\n",
    "docs = ', '.join(['\"{0:s}\"'.format(k.split('/')[-1]) for k in res])\n",
    "slides = ', '.join([f'\"slide{k}\"' for k in range(1, npub + 1)])\n",
    "\n",
    "with open(\"daily_template.html\", \"r\") as tpl:\n",
    "    page = tpl.read()\n",
    "    page = page.replace(\"{%-- carousel:s --%}\", carousel)\\\n",
    "               .replace(\"{%-- suptitle:s --%}\",  \"7-day archives\" )\\\n",
    "               .replace(\"{%-- docs:s --%}\", docs)\\\n",
    "               .replace(\"{%-- slides:s --%}\", slides)\n",
    "    \n",
    "with open(\"_build/html/index_7days.html\", 'w') as fout:\n",
    "    fout.write(page)"
   ]
  },
  {
   "cell_type": "code",
   "execution_count": 14,
   "id": "adc1a1ec",
   "metadata": {
    "execution": {
     "iopub.execute_input": "2025-10-03T04:13:59.549873Z",
     "iopub.status.busy": "2025-10-03T04:13:59.549690Z",
     "iopub.status.idle": "2025-10-03T04:13:59.555701Z",
     "shell.execute_reply": "2025-10-03T04:13:59.555050Z"
    },
    "papermill": {
     "duration": 0.012639,
     "end_time": "2025-10-03T04:13:59.556736",
     "exception": false,
     "start_time": "2025-10-03T04:13:59.544097",
     "status": "completed"
    },
    "tags": []
   },
   "outputs": [
    {
     "name": "stdout",
     "output_type": "stream",
     "text": [
      "6  publications in the last day.\n"
     ]
    }
   ],
   "source": [
    "# redo for today\n",
    "days = 1\n",
    "res = list(get_last_n_days(dates, days))\n",
    "npub = len(res)\n",
    "print(len(res), f\" publications in the last day.\")\n",
    "\n",
    "carousel = create_carousel(npub)\n",
    "docs = ', '.join(['\"{0:s}\"'.format(k.split('/')[-1]) for k in res])\n",
    "slides = ', '.join([f'\"slide{k}\"' for k in range(1, npub + 1)])\n",
    "\n",
    "with open(\"daily_template.html\", \"r\") as tpl:\n",
    "    page = tpl.read()\n",
    "    page = page.replace(\"{%-- carousel:s --%}\", carousel)\\\n",
    "               .replace(\"{%-- suptitle:s --%}\",  \"Daily\" )\\\n",
    "               .replace(\"{%-- docs:s --%}\", docs)\\\n",
    "               .replace(\"{%-- slides:s --%}\", slides)\n",
    "    \n",
    "# print(carousel, docs, slides)\n",
    "# print(page)\n",
    "with open(\"_build/html/index_daily.html\", 'w') as fout:\n",
    "    fout.write(page)"
   ]
  },
  {
   "cell_type": "code",
   "execution_count": 15,
   "id": "00eece82",
   "metadata": {
    "execution": {
     "iopub.execute_input": "2025-10-03T04:13:59.568154Z",
     "iopub.status.busy": "2025-10-03T04:13:59.567965Z",
     "iopub.status.idle": "2025-10-03T04:13:59.573939Z",
     "shell.execute_reply": "2025-10-03T04:13:59.573409Z"
    },
    "papermill": {
     "duration": 0.012673,
     "end_time": "2025-10-03T04:13:59.574903",
     "exception": false,
     "start_time": "2025-10-03T04:13:59.562230",
     "status": "completed"
    },
    "scrolled": false,
    "tags": []
   },
   "outputs": [
    {
     "name": "stdout",
     "output_type": "stream",
     "text": [
      "6  6 publications selected.\n"
     ]
    }
   ],
   "source": [
    "# Create the flat grid of the last N papers (fixed number regardless of dates)\n",
    "from itertools import islice \n",
    "\n",
    "npub = 6\n",
    "res = [k[0] for k in (islice(reversed(sorted(dates, key=lambda x: x[1])), 6))]\n",
    "print(len(res), f\" {npub} publications selected.\")\n",
    "\n",
    "grid = create_grid(npub)\n",
    "docs = ', '.join(['\"{0:s}\"'.format(k.split('/')[-1]) for k in res])\n",
    "slides = ', '.join([f'\"slide{k}\"' for k in range(1, npub + 1)])\n",
    "\n",
    "with open(\"grid_template.html\", \"r\") as tpl:\n",
    "    page = tpl.read()\n",
    "    page = page.replace(\"{%-- grid-content:s --%}\", grid)\\\n",
    "               .replace(\"{%-- suptitle:s --%}\",  f\"Last {npub:,d} papers\" )\\\n",
    "               .replace(\"{%-- docs:s --%}\", docs)\\\n",
    "               .replace(\"{%-- slides:s --%}\", slides)\n",
    "    \n",
    "# print(grid, docs, slides)\n",
    "# print(page)\n",
    "with open(\"_build/html/index_npub_grid.html\", 'w') as fout:\n",
    "    fout.write(page)"
   ]
  }
 ],
 "metadata": {
  "kernelspec": {
   "display_name": "Python 3 (ipykernel)",
   "language": "python",
   "name": "python3"
  },
  "language_info": {
   "codemirror_mode": {
    "name": "ipython",
    "version": 3
   },
   "file_extension": ".py",
   "mimetype": "text/x-python",
   "name": "python",
   "nbconvert_exporter": "python",
   "pygments_lexer": "ipython3",
   "version": "3.9.23"
  },
  "papermill": {
   "default_parameters": {},
   "duration": 68.791091,
   "end_time": "2025-10-03T04:13:59.796014",
   "environment_variables": {},
   "exception": null,
   "input_path": "MPIA daily digest.ipynb",
   "output_path": "log.ipynb",
   "parameters": {},
   "start_time": "2025-10-03T04:12:51.004923",
   "version": "2.6.0"
  },
  "vscode": {
   "interpreter": {
    "hash": "aee8b7b246df8f9039afb4144a1f6fd8d2ca17a180786b69acc140d282b71a49"
   }
  },
  "widgets": {
   "application/vnd.jupyter.widget-state+json": {
    "state": {
     "24ac9f25bc624ea186b8e000b050abd5": {
      "model_module": "@jupyter-widgets/controls",
      "model_module_version": "2.0.0",
      "model_name": "FloatProgressModel",
      "state": {
       "_dom_classes": [],
       "_model_module": "@jupyter-widgets/controls",
       "_model_module_version": "2.0.0",
       "_model_name": "FloatProgressModel",
       "_view_count": null,
       "_view_module": "@jupyter-widgets/controls",
       "_view_module_version": "2.0.0",
       "_view_name": "ProgressView",
       "bar_style": "success",
       "description": "",
       "description_allow_html": false,
       "layout": "IPY_MODEL_c8be55e202f4412ab6e6b6103aef6b82",
       "max": 4.0,
       "min": 0.0,
       "orientation": "horizontal",
       "style": "IPY_MODEL_a6d72b6773b44a32803e6af911f6c0ca",
       "tabbable": null,
       "tooltip": null,
       "value": 4.0
      }
     },
     "2b1a393c4ba14bfb8fdb555d54278340": {
      "model_module": "@jupyter-widgets/controls",
      "model_module_version": "2.0.0",
      "model_name": "HTMLStyleModel",
      "state": {
       "_model_module": "@jupyter-widgets/controls",
       "_model_module_version": "2.0.0",
       "_model_name": "HTMLStyleModel",
       "_view_count": null,
       "_view_module": "@jupyter-widgets/base",
       "_view_module_version": "2.0.0",
       "_view_name": "StyleView",
       "background": null,
       "description_width": "",
       "font_size": null,
       "text_color": null
      }
     },
     "36d479483b8f4ccb98c4096d5feb6cbf": {
      "model_module": "@jupyter-widgets/controls",
      "model_module_version": "2.0.0",
      "model_name": "HTMLModel",
      "state": {
       "_dom_classes": [],
       "_model_module": "@jupyter-widgets/controls",
       "_model_module_version": "2.0.0",
       "_model_name": "HTMLModel",
       "_view_count": null,
       "_view_module": "@jupyter-widgets/controls",
       "_view_module_version": "2.0.0",
       "_view_name": "HTMLView",
       "description": "",
       "description_allow_html": false,
       "layout": "IPY_MODEL_b52432216bf0440b910bfb9db21510a8",
       "placeholder": "​",
       "style": "IPY_MODEL_eefacce6e23a4419b27f417f54ac4843",
       "tabbable": null,
       "tooltip": null,
       "value": " 4/4 [00:41&lt;00:00, 10.93s/it]"
      }
     },
     "7bba2aa19216491980f6ba6a38eaa5af": {
      "model_module": "@jupyter-widgets/base",
      "model_module_version": "2.0.0",
      "model_name": "LayoutModel",
      "state": {
       "_model_module": "@jupyter-widgets/base",
       "_model_module_version": "2.0.0",
       "_model_name": "LayoutModel",
       "_view_count": null,
       "_view_module": "@jupyter-widgets/base",
       "_view_module_version": "2.0.0",
       "_view_name": "LayoutView",
       "align_content": null,
       "align_items": null,
       "align_self": null,
       "border_bottom": null,
       "border_left": null,
       "border_right": null,
       "border_top": null,
       "bottom": null,
       "display": null,
       "flex": null,
       "flex_flow": null,
       "grid_area": null,
       "grid_auto_columns": null,
       "grid_auto_flow": null,
       "grid_auto_rows": null,
       "grid_column": null,
       "grid_gap": null,
       "grid_row": null,
       "grid_template_areas": null,
       "grid_template_columns": null,
       "grid_template_rows": null,
       "height": null,
       "justify_content": null,
       "justify_items": null,
       "left": null,
       "margin": null,
       "max_height": null,
       "max_width": null,
       "min_height": null,
       "min_width": null,
       "object_fit": null,
       "object_position": null,
       "order": null,
       "overflow": null,
       "padding": null,
       "right": null,
       "top": null,
       "visibility": null,
       "width": null
      }
     },
     "96148e78b3374961a964764429151411": {
      "model_module": "@jupyter-widgets/base",
      "model_module_version": "2.0.0",
      "model_name": "LayoutModel",
      "state": {
       "_model_module": "@jupyter-widgets/base",
       "_model_module_version": "2.0.0",
       "_model_name": "LayoutModel",
       "_view_count": null,
       "_view_module": "@jupyter-widgets/base",
       "_view_module_version": "2.0.0",
       "_view_name": "LayoutView",
       "align_content": null,
       "align_items": null,
       "align_self": null,
       "border_bottom": null,
       "border_left": null,
       "border_right": null,
       "border_top": null,
       "bottom": null,
       "display": null,
       "flex": null,
       "flex_flow": null,
       "grid_area": null,
       "grid_auto_columns": null,
       "grid_auto_flow": null,
       "grid_auto_rows": null,
       "grid_column": null,
       "grid_gap": null,
       "grid_row": null,
       "grid_template_areas": null,
       "grid_template_columns": null,
       "grid_template_rows": null,
       "height": null,
       "justify_content": null,
       "justify_items": null,
       "left": null,
       "margin": null,
       "max_height": null,
       "max_width": null,
       "min_height": null,
       "min_width": null,
       "object_fit": null,
       "object_position": null,
       "order": null,
       "overflow": null,
       "padding": null,
       "right": null,
       "top": null,
       "visibility": null,
       "width": null
      }
     },
     "9caeb9217a804ba1ac954a8c5c8d3ec4": {
      "model_module": "@jupyter-widgets/controls",
      "model_module_version": "2.0.0",
      "model_name": "HTMLModel",
      "state": {
       "_dom_classes": [],
       "_model_module": "@jupyter-widgets/controls",
       "_model_module_version": "2.0.0",
       "_model_name": "HTMLModel",
       "_view_count": null,
       "_view_module": "@jupyter-widgets/controls",
       "_view_module_version": "2.0.0",
       "_view_name": "HTMLView",
       "description": "",
       "description_allow_html": false,
       "layout": "IPY_MODEL_96148e78b3374961a964764429151411",
       "placeholder": "​",
       "style": "IPY_MODEL_2b1a393c4ba14bfb8fdb555d54278340",
       "tabbable": null,
       "tooltip": null,
       "value": "100%"
      }
     },
     "a6d72b6773b44a32803e6af911f6c0ca": {
      "model_module": "@jupyter-widgets/controls",
      "model_module_version": "2.0.0",
      "model_name": "ProgressStyleModel",
      "state": {
       "_model_module": "@jupyter-widgets/controls",
       "_model_module_version": "2.0.0",
       "_model_name": "ProgressStyleModel",
       "_view_count": null,
       "_view_module": "@jupyter-widgets/base",
       "_view_module_version": "2.0.0",
       "_view_name": "StyleView",
       "bar_color": null,
       "description_width": ""
      }
     },
     "b52432216bf0440b910bfb9db21510a8": {
      "model_module": "@jupyter-widgets/base",
      "model_module_version": "2.0.0",
      "model_name": "LayoutModel",
      "state": {
       "_model_module": "@jupyter-widgets/base",
       "_model_module_version": "2.0.0",
       "_model_name": "LayoutModel",
       "_view_count": null,
       "_view_module": "@jupyter-widgets/base",
       "_view_module_version": "2.0.0",
       "_view_name": "LayoutView",
       "align_content": null,
       "align_items": null,
       "align_self": null,
       "border_bottom": null,
       "border_left": null,
       "border_right": null,
       "border_top": null,
       "bottom": null,
       "display": null,
       "flex": null,
       "flex_flow": null,
       "grid_area": null,
       "grid_auto_columns": null,
       "grid_auto_flow": null,
       "grid_auto_rows": null,
       "grid_column": null,
       "grid_gap": null,
       "grid_row": null,
       "grid_template_areas": null,
       "grid_template_columns": null,
       "grid_template_rows": null,
       "height": null,
       "justify_content": null,
       "justify_items": null,
       "left": null,
       "margin": null,
       "max_height": null,
       "max_width": null,
       "min_height": null,
       "min_width": null,
       "object_fit": null,
       "object_position": null,
       "order": null,
       "overflow": null,
       "padding": null,
       "right": null,
       "top": null,
       "visibility": null,
       "width": null
      }
     },
     "c8be55e202f4412ab6e6b6103aef6b82": {
      "model_module": "@jupyter-widgets/base",
      "model_module_version": "2.0.0",
      "model_name": "LayoutModel",
      "state": {
       "_model_module": "@jupyter-widgets/base",
       "_model_module_version": "2.0.0",
       "_model_name": "LayoutModel",
       "_view_count": null,
       "_view_module": "@jupyter-widgets/base",
       "_view_module_version": "2.0.0",
       "_view_name": "LayoutView",
       "align_content": null,
       "align_items": null,
       "align_self": null,
       "border_bottom": null,
       "border_left": null,
       "border_right": null,
       "border_top": null,
       "bottom": null,
       "display": null,
       "flex": null,
       "flex_flow": null,
       "grid_area": null,
       "grid_auto_columns": null,
       "grid_auto_flow": null,
       "grid_auto_rows": null,
       "grid_column": null,
       "grid_gap": null,
       "grid_row": null,
       "grid_template_areas": null,
       "grid_template_columns": null,
       "grid_template_rows": null,
       "height": null,
       "justify_content": null,
       "justify_items": null,
       "left": null,
       "margin": null,
       "max_height": null,
       "max_width": null,
       "min_height": null,
       "min_width": null,
       "object_fit": null,
       "object_position": null,
       "order": null,
       "overflow": null,
       "padding": null,
       "right": null,
       "top": null,
       "visibility": null,
       "width": null
      }
     },
     "eefacce6e23a4419b27f417f54ac4843": {
      "model_module": "@jupyter-widgets/controls",
      "model_module_version": "2.0.0",
      "model_name": "HTMLStyleModel",
      "state": {
       "_model_module": "@jupyter-widgets/controls",
       "_model_module_version": "2.0.0",
       "_model_name": "HTMLStyleModel",
       "_view_count": null,
       "_view_module": "@jupyter-widgets/base",
       "_view_module_version": "2.0.0",
       "_view_name": "StyleView",
       "background": null,
       "description_width": "",
       "font_size": null,
       "text_color": null
      }
     },
     "f4ef9ecef18e4dab9cdb7f10b702f606": {
      "model_module": "@jupyter-widgets/controls",
      "model_module_version": "2.0.0",
      "model_name": "HBoxModel",
      "state": {
       "_dom_classes": [],
       "_model_module": "@jupyter-widgets/controls",
       "_model_module_version": "2.0.0",
       "_model_name": "HBoxModel",
       "_view_count": null,
       "_view_module": "@jupyter-widgets/controls",
       "_view_module_version": "2.0.0",
       "_view_name": "HBoxView",
       "box_style": "",
       "children": [
        "IPY_MODEL_9caeb9217a804ba1ac954a8c5c8d3ec4",
        "IPY_MODEL_24ac9f25bc624ea186b8e000b050abd5",
        "IPY_MODEL_36d479483b8f4ccb98c4096d5feb6cbf"
       ],
       "layout": "IPY_MODEL_7bba2aa19216491980f6ba6a38eaa5af",
       "tabbable": null,
       "tooltip": null
      }
     }
    },
    "version_major": 2,
    "version_minor": 0
   }
  }
 },
 "nbformat": 4,
 "nbformat_minor": 5
}