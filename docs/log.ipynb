{
 "cells": [
  {
   "cell_type": "markdown",
   "id": "92bcb855",
   "metadata": {
    "papermill": {
     "duration": 0.008589,
     "end_time": "2023-08-01T04:06:05.027803",
     "exception": false,
     "start_time": "2023-08-01T04:06:05.019214",
     "status": "completed"
    },
    "tags": []
   },
   "source": [
    "# MPIA Arxiv on Deck 2\n",
    "\n",
    "Contains the steps to produce the paper extractions."
   ]
  },
  {
   "cell_type": "code",
   "execution_count": 1,
   "id": "3a0d6e11",
   "metadata": {
    "execution": {
     "iopub.execute_input": "2023-08-01T04:06:05.040264Z",
     "iopub.status.busy": "2023-08-01T04:06:05.039545Z",
     "iopub.status.idle": "2023-08-01T04:06:05.337141Z",
     "shell.execute_reply": "2023-08-01T04:06:05.336327Z"
    },
    "papermill": {
     "duration": 0.305852,
     "end_time": "2023-08-01T04:06:05.339346",
     "exception": false,
     "start_time": "2023-08-01T04:06:05.033494",
     "status": "completed"
    },
    "tags": []
   },
   "outputs": [],
   "source": [
    "# Imports\n",
    "import os\n",
    "from IPython.display import Markdown, display\n",
    "from tqdm.notebook import tqdm\n",
    "import warnings\n",
    "from PIL import Image \n",
    "\n",
    "# requires arxiv_on_deck_2\n",
    "\n",
    "from arxiv_on_deck_2.arxiv2 import (get_new_papers, \n",
    "                                    get_paper_from_identifier,\n",
    "                                    retrieve_document_source, \n",
    "                                    get_markdown_badge)\n",
    "from arxiv_on_deck_2 import (latex,\n",
    "                             latex_bib,\n",
    "                             mpia,\n",
    "                             highlight_authors_in_list)\n",
    "\n",
    "# Sometimes images are really big\n",
    "Image.MAX_IMAGE_PIXELS = 1000000000 "
   ]
  },
  {
   "cell_type": "code",
   "execution_count": 2,
   "id": "22aa9d44",
   "metadata": {
    "execution": {
     "iopub.execute_input": "2023-08-01T04:06:05.350141Z",
     "iopub.status.busy": "2023-08-01T04:06:05.349587Z",
     "iopub.status.idle": "2023-08-01T04:06:05.357025Z",
     "shell.execute_reply": "2023-08-01T04:06:05.356042Z"
    },
    "papermill": {
     "duration": 0.016249,
     "end_time": "2023-08-01T04:06:05.360213",
     "exception": false,
     "start_time": "2023-08-01T04:06:05.343964",
     "status": "completed"
    },
    "tags": []
   },
   "outputs": [],
   "source": [
    "# Some useful definitions.\n",
    "\n",
    "class AffiliationWarning(UserWarning):\n",
    "    pass\n",
    "\n",
    "class AffiliationError(RuntimeError):\n",
    "    pass\n",
    "\n",
    "def validation(source: str):\n",
    "    \"\"\"Raises error paper during parsing of source file\n",
    "    \n",
    "    Allows checks before parsing TeX code.\n",
    "    \n",
    "    Raises AffiliationWarning\n",
    "    \"\"\"\n",
    "    check = mpia.affiliation_verifications(source, verbose=True)\n",
    "    if check is not True:\n",
    "        raise AffiliationError(\"mpia.affiliation_verifications: \" + check)\n",
    "\n",
    "        \n",
    "warnings.simplefilter('always', AffiliationWarning)\n",
    "\n",
    "\n",
    "def get_markdown_qrcode(paper_id: str):\n",
    "    \"\"\" Generate a qrcode to the arxiv page using qrserver.com\n",
    "    \n",
    "    :param paper: Arxiv paper\n",
    "    :returns: markdown text\n",
    "    \"\"\"\n",
    "    url = r\"https://api.qrserver.com/v1/create-qr-code/?size=100x100&data=\"\n",
    "    txt = f\"\"\"<img src={url}\"https://arxiv.org/abs/{paper_id}\">\"\"\"\n",
    "    txt = '<div id=\"qrcode\">' + txt + '</div>'\n",
    "    return txt"
   ]
  },
  {
   "cell_type": "markdown",
   "id": "14bd6310",
   "metadata": {
    "papermill": {
     "duration": 0.004062,
     "end_time": "2023-08-01T04:06:05.369980",
     "exception": false,
     "start_time": "2023-08-01T04:06:05.365918",
     "status": "completed"
    },
    "tags": []
   },
   "source": [
    "## get list of arxiv paper candidates\n",
    "\n",
    "We use the MPIA mitarbeiter list webpage from mpia.de to get author names\n",
    "We then get all new papers from Arxiv and match authors"
   ]
  },
  {
   "cell_type": "code",
   "execution_count": 3,
   "id": "2645e73a",
   "metadata": {
    "execution": {
     "iopub.execute_input": "2023-08-01T04:06:05.381584Z",
     "iopub.status.busy": "2023-08-01T04:06:05.380765Z",
     "iopub.status.idle": "2023-08-01T04:06:29.655197Z",
     "shell.execute_reply": "2023-08-01T04:06:29.654463Z"
    },
    "papermill": {
     "duration": 24.282402,
     "end_time": "2023-08-01T04:06:29.658113",
     "exception": false,
     "start_time": "2023-08-01T04:06:05.375711",
     "status": "completed"
    },
    "tags": []
   },
   "outputs": [
    {
     "name": "stdout",
     "output_type": "stream",
     "text": [
      "K. El-Badry  ->  K. El-Badry  |  ['K. El-Badry']\n",
      "C. Fendt  ->  C. Fendt  |  ['C. Fendt']\n"
     ]
    },
    {
     "name": "stdout",
     "output_type": "stream",
     "text": [
      "X. Zhang  ->  X. Zhang  |  ['X. Zhang']\n",
      "J. Bouwman  ->  J. Bouwman  |  ['J. Bouwman']\n",
      "M. Güdel  ->  M. Güdel  |  ['M. Güdel']\n",
      "G. Perotti  ->  G. Perotti  |  ['G. Perotti']\n",
      "M. Samland  ->  M. Samland  |  ['M. Samland']\n",
      "S. Scheithauer  ->  S. Scheithauer  |  ['S. Scheithauer']\n",
      "J. Schreiber  ->  J. Schreiber  |  ['J. Schreiber']\n",
      "K. Schwarz  ->  K. Schwarz  |  ['K. Schwarz']\n",
      "Arxiv has 74 new papers today\n",
      "          4 with possible author matches\n"
     ]
    }
   ],
   "source": [
    "# get list from MPIA website\n",
    "# it automatically filters identified non-scientists :func:`mpia.filter_non_scientists`\n",
    "mpia_authors = mpia.get_mpia_mitarbeiter_list()\n",
    "normed_mpia_authors = [k[1] for k in mpia_authors]   # initials + fullname\n",
    "new_papers = get_new_papers()\n",
    "# add manual references\n",
    "add_paper_refs = []\n",
    "new_papers.extend([get_paper_from_identifier(k) for k in add_paper_refs])\n",
    "\n",
    "candidates = []\n",
    "for paperk in new_papers:\n",
    "    # Check author list with their initials\n",
    "    normed_author_list = [mpia.get_initials(k) for k in paperk['authors']]\n",
    "    hl_authors = highlight_authors_in_list(normed_author_list, normed_mpia_authors, verbose=True)\n",
    "    matches = [(hl, orig) for hl, orig in zip(hl_authors, paperk['authors']) if 'mark' in hl]\n",
    "    paperk['authors'] = hl_authors\n",
    "    if matches:\n",
    "        # only select paper if an author matched our list\n",
    "        candidates.append(paperk)\n",
    "print(\"\"\"Arxiv has {0:,d} new papers today\"\"\".format(len(new_papers)))        \n",
    "print(\"\"\"          {0:,d} with possible author matches\"\"\".format(len(candidates)))"
   ]
  },
  {
   "cell_type": "markdown",
   "id": "3543b34a",
   "metadata": {
    "papermill": {
     "duration": 0.004688,
     "end_time": "2023-08-01T04:06:29.670231",
     "exception": false,
     "start_time": "2023-08-01T04:06:29.665543",
     "status": "completed"
    },
    "tags": []
   },
   "source": [
    "# Parse sources and generate relevant outputs\n",
    "\n",
    "From the candidates, we do the following steps:\n",
    "* get their tarball from ArXiv (and extract data)\n",
    "* find the main .tex file: find one with \\documentclass{...} (sometimes it's non trivial)\n",
    "* Check affiliations with :func:`validation`, which uses :func:`mpia.affiliation_verifications`\n",
    "* If passing the affiliations: we parse the .tex source\n",
    "   * inject sub-documents into the main (flatten the main document)\n",
    "   * parse structure, extract information (title, abstract, authors, figures...)\n",
    "   * handles `\\graphicspath` if provided\n",
    "* Generate the .md document."
   ]
  },
  {
   "cell_type": "code",
   "execution_count": 4,
   "id": "9576b79e",
   "metadata": {
    "execution": {
     "iopub.execute_input": "2023-08-01T04:06:29.680922Z",
     "iopub.status.busy": "2023-08-01T04:06:29.680248Z",
     "iopub.status.idle": "2023-08-01T04:06:58.626424Z",
     "shell.execute_reply": "2023-08-01T04:06:58.625532Z"
    },
    "papermill": {
     "duration": 28.954437,
     "end_time": "2023-08-01T04:06:58.628959",
     "exception": false,
     "start_time": "2023-08-01T04:06:29.674522",
     "status": "completed"
    },
    "scrolled": false,
    "tags": []
   },
   "outputs": [
    {
     "data": {
      "application/vnd.jupyter.widget-view+json": {
       "model_id": "2244ecf91cc24953920dcd420266b104",
       "version_major": 2,
       "version_minor": 0
      },
      "text/plain": [
       "  0%|          | 0/4 [00:00<?, ?it/s]"
      ]
     },
     "metadata": {},
     "output_type": "display_data"
    },
    {
     "name": "stdout",
     "output_type": "stream",
     "text": [
      "Retrieving document from  https://arxiv.org/e-print/2307.15729\n"
     ]
    },
    {
     "name": "stdout",
     "output_type": "stream",
     "text": [
      "extracting tarball to tmp_2307.15729..."
     ]
    },
    {
     "name": "stdout",
     "output_type": "stream",
     "text": [
      " done.\n"
     ]
    },
    {
     "name": "stderr",
     "output_type": "stream",
     "text": [
      "/tmp/ipykernel_2154/3009462391.py:49: LatexWarning: 2307.15729 did not run properly\n",
      "expected string or bytes-like object\n",
      "  warnings.warn(latex.LatexWarning(f\"{paper_id:s} did not run properly\\n\" +\n"
     ]
    },
    {
     "name": "stdout",
     "output_type": "stream",
     "text": [
      "Retrieving document from  https://arxiv.org/e-print/2307.15733\n"
     ]
    },
    {
     "name": "stdout",
     "output_type": "stream",
     "text": [
      "extracting tarball to tmp_2307.15733..."
     ]
    },
    {
     "name": "stdout",
     "output_type": "stream",
     "text": [
      " done.\n"
     ]
    },
    {
     "name": "stdout",
     "output_type": "stream",
     "text": [
      "C. Fendt  ->  C. Fendt  |  ['C. Fendt']\n"
     ]
    },
    {
     "name": "stdout",
     "output_type": "stream",
     "text": [
      "Found 104 bibliographic references in tmp_2307.15733/main.bbl.\n",
      "Retrieving document from  https://arxiv.org/e-print/2307.16355\n"
     ]
    },
    {
     "name": "stdout",
     "output_type": "stream",
     "text": [
      "extracting tarball to tmp_2307.16355..."
     ]
    },
    {
     "name": "stdout",
     "output_type": "stream",
     "text": [
      " done.\n",
      "Retrieving document from  https://arxiv.org/e-print/2307.16729\n"
     ]
    },
    {
     "name": "stderr",
     "output_type": "stream",
     "text": [
      "/opt/hostedtoolcache/Python/3.9.17/x64/lib/python3.9/site-packages/IPython/core/interactiveshell.py:3508: LatexWarning: Multiple tex files.\n",
      "\n",
      "  exec(code_obj, self.user_global_ns, self.user_ns)\n",
      "/opt/hostedtoolcache/Python/3.9.17/x64/lib/python3.9/site-packages/IPython/core/interactiveshell.py:3508: LatexWarning: Found documentclass in tmp_2307.16355/FRB20190520B.tex\n",
      "\n",
      "  exec(code_obj, self.user_global_ns, self.user_ns)\n"
     ]
    },
    {
     "name": "stdout",
     "output_type": "stream",
     "text": [
      "extracting tarball to tmp_2307.16729..."
     ]
    },
    {
     "name": "stdout",
     "output_type": "stream",
     "text": [
      " done.\n"
     ]
    },
    {
     "name": "stderr",
     "output_type": "stream",
     "text": [
      "/tmp/ipykernel_2154/3009462391.py:49: LatexWarning: 2307.16729 did not run properly\n",
      "list index out of range\n",
      "  warnings.warn(latex.LatexWarning(f\"{paper_id:s} did not run properly\\n\" +\n"
     ]
    }
   ],
   "source": [
    "documents = []\n",
    "failed = []\n",
    "for paper in tqdm(candidates):\n",
    "    paper_id = paper['identifier'].lower().replace('arxiv:', '')\n",
    "    \n",
    "    folder = f'tmp_{paper_id}'\n",
    "\n",
    "    try:\n",
    "        if not os.path.isdir(folder):\n",
    "            folder = retrieve_document_source(f\"{paper_id}\", f'tmp_{paper_id}')\n",
    "        \n",
    "        try:\n",
    "            doc = latex.LatexDocument(folder, validation=validation)    \n",
    "        except AffiliationError as affilerror:\n",
    "            msg = f\"ArXiv:{paper_id:s} is not an MPIA paper... \" + str(affilerror)\n",
    "            failed.append((paper, \"affiliation error: \" + str(affilerror) ))\n",
    "            continue\n",
    "        \n",
    "        # Hack because sometimes author parsing does not work well\n",
    "        if (len(doc.authors) != len(paper['authors'])):\n",
    "            doc._authors = paper['authors']\n",
    "        else:\n",
    "            # highlight authors (FIXME: doc.highlight_authors)\n",
    "            # done on arxiv paper already\n",
    "            doc._authors = highlight_authors_in_list(\n",
    "                [mpia.get_initials(k) for k in doc.authors], \n",
    "                normed_mpia_authors, verbose=True)\n",
    "        if (doc.abstract) in (None, ''):\n",
    "            doc._abstract = paper['abstract']\n",
    "            \n",
    "        doc.comment = (get_markdown_badge(paper_id) + \n",
    "                       \"<mark>Appeared on: \" + paper['date'] + \"</mark> - \")\n",
    "        if paper['comments']:\n",
    "            doc.comment += \" _\" + paper['comments'] + \"_\"\n",
    "        \n",
    "        full_md = doc.generate_markdown_text()\n",
    "        \n",
    "        full_md += get_markdown_qrcode(paper_id)\n",
    "        \n",
    "        # replace citations\n",
    "        try:\n",
    "            bibdata = latex_bib.LatexBib.from_doc(doc)\n",
    "            full_md = latex_bib.replace_citations(full_md, bibdata)\n",
    "        except Exception as e:\n",
    "            print(e)\n",
    "        \n",
    "        documents.append((paper_id, full_md))\n",
    "    except Exception as e:\n",
    "        warnings.warn(latex.LatexWarning(f\"{paper_id:s} did not run properly\\n\" +\n",
    "                                         str(e)\n",
    "                                        ))\n",
    "        failed.append((paper, \"latex error \" + str(e)))"
   ]
  },
  {
   "cell_type": "markdown",
   "id": "2505a25c",
   "metadata": {
    "papermill": {
     "duration": 0.006273,
     "end_time": "2023-08-01T04:06:58.642339",
     "exception": false,
     "start_time": "2023-08-01T04:06:58.636066",
     "status": "completed"
    },
    "tags": []
   },
   "source": [
    "### Export the logs\n",
    "\n",
    "Throughout, we also keep track of the logs per paper. see `logs-{today date}.md` "
   ]
  },
  {
   "cell_type": "code",
   "execution_count": 5,
   "id": "d733828a",
   "metadata": {
    "execution": {
     "iopub.execute_input": "2023-08-01T04:06:58.656466Z",
     "iopub.status.busy": "2023-08-01T04:06:58.656150Z",
     "iopub.status.idle": "2023-08-01T04:06:58.736987Z",
     "shell.execute_reply": "2023-08-01T04:06:58.736173Z"
    },
    "papermill": {
     "duration": 0.093655,
     "end_time": "2023-08-01T04:06:58.742644",
     "exception": false,
     "start_time": "2023-08-01T04:06:58.648989",
     "status": "completed"
    },
    "scrolled": false,
    "tags": []
   },
   "outputs": [
    {
     "data": {
      "text/markdown": [
       "## Successful papers"
      ],
      "text/plain": [
       "<IPython.core.display.Markdown object>"
      ]
     },
     "metadata": {},
     "output_type": "display_data"
    },
    {
     "data": {
      "text/markdown": [
       "\n",
       "|||\n",
       "|---:|:---|\n",
       "| [![arXiv](https://img.shields.io/badge/arXiv-arXiv:2307.15733-b31b1b.svg)](https://arxiv.org/abs/arXiv:2307.15733) | **Deciphering the morphological origins of X-shaped radio galaxies:  Numerical modeling of Back-flow vs. Jet-reorientation**  |\n",
       "|| G. Giri, B. Vaidya, <mark>C. Fendt</mark> |\n",
       "|*Appeared on*| *2023-08-01*|\n",
       "|*Comments*| *Accepted for publication in The Astrophysical Journal Supplement Series (10 Figs, 2 Tables)*|\n",
       "|**Abstract**| X-shaped Radio Galaxies (XRGs) develop when certain extra-galactic jets deviate from their propagation path. An asymmetric ambient medium (Back-flow model) or complex Active Galactic Nuclei activity (Jet-reorientation model) enforcing the jet direction to deviate may cause such structures. In this context, the present investigation focuses on the modeling of XRGs by performing 3D relativistic magneto-hydrodynamic simulations. We implement different jet propagation models applying an initially identical jet-ambient medium configuration to understand distinctive features. This study, the first of its kind, demonstrates that all adopted models produce XRGs with notable properties, thereby challenging the notion of a universal model. Jet reorientation naturally explains several contentious properties of XRGs, including wing alignment along the ambient medium's primary axis, development of collimated lobes, and the formation of noticeably longer wings than active lobes. Such XRGs disrupt the cluster medium by generating isotropic shocks and channeling more energy than the Back-flow scenario. Our synthetic thermal X-ray maps of the cluster medium reveal four `clear' elongated cavities associated with the wing-lobe alignment, regardless of projection effects, though affecting their age estimation. We show depth and geometric alignment of the evolved cavities may qualify as promising characteristics of XRGs, which may be used to disentangle different formation scenarios. |"
      ],
      "text/plain": [
       "[arXiv:2307.15733] Deciphering the morphological origins of X-shaped radio galaxies:  Numerical modeling of Back-flow vs. Jet-reorientation\n",
       "\tG. Giri, B. Vaidya, <mark>C. Fendt</mark>"
      ]
     },
     "metadata": {},
     "output_type": "display_data"
    },
    {
     "data": {
      "text/markdown": [
       "## Failed papers"
      ],
      "text/plain": [
       "<IPython.core.display.Markdown object>"
      ]
     },
     "metadata": {},
     "output_type": "display_data"
    },
    {
     "data": {
      "text/markdown": [
       "\n",
       "|||\n",
       "|---:|:---|\n",
       "| [![arXiv](https://img.shields.io/badge/arXiv-arXiv:2307.16355-b31b1b.svg)](https://arxiv.org/abs/arXiv:2307.16355) | **Temporal and Spectral Properties of the Persistent Radio Source  Associated with FRB 20190520B with the VLA**  |\n",
       "|| <mark>X. Zhang</mark>, et al. |\n",
       "|*Appeared on*| *2023-08-01*|\n",
       "|*Comments*| *12 pages, 3 figures, submitted to ApJ*|\n",
       "|**Abstract**| Among more than 800 known fast radio bursts (FRBs), only two, namely FRB 20121102A and FRB 20190520B, are confirmed to be associated with a persistent radio sources (PRS). Here we report evidence of apparent temporal variability in the PRS associated with the bursting FRB 20190520B based on the Karl G. Jansky Very Large Array (VLA) observations taken in 2020 and 2021. Based on the analysis of epoch-to-epoch variability of the PRS at L, S, C, and X band in 1-12 GHz, we detected not only overall marginal variability but also a likely radio flux decrease between the observations taken in 2020 and 2021 at 3 GHz. Assuming no spectral variation in the PRS during these observations, we found the evidence for an overall broadband radio flux decrease by about 20 percent between the 2020 and the 2021 observations, suggesting that the PRS probably evolves on the yearly time scale. If we attribute the marginal variability at 3 GHz as intrinsic or due to scintillation, the size of potential variable component of the PRS is constrained to be sub-parsec. On the other hand, the size of the PRS can be also constrained to be larger than about 0.22 parsec from the averaged radio spectrum and the integrated radio luminosity in the 1-12 GHz band based on equipartition and self-absorption arguments. We discuss potential origins of the PRS and suggest that a scenario of accreting compact objects might be able to explain the temporal and spectral properties of the PRS. Confirmation of variability or flux decline of the PRS would be critical to our understanding of the PRS and its relation to the bursting source. |\n",
       "|<p style=\"color:green\"> **ERROR** </p>| <p style=\"color:green\">affiliation error: mpia.affiliation_verifications: 'Heidelberg' keyword not found.</p> |"
      ],
      "text/plain": [
       "<IPython.core.display.Markdown object>"
      ]
     },
     "metadata": {},
     "output_type": "display_data"
    },
    {
     "data": {
      "text/markdown": [
       "\n",
       "|||\n",
       "|---:|:---|\n",
       "| [![arXiv](https://img.shields.io/badge/arXiv-arXiv:2307.15729-b31b1b.svg)](https://arxiv.org/abs/arXiv:2307.15729) | **A transiting brown dwarf in a 2 hour orbit**  |\n",
       "|| <mark>K. El-Badry</mark>, K. B. Burdge, J. v. Roestel, A. C. Rodriguez |\n",
       "|*Appeared on*| *2023-08-01*|\n",
       "|*Comments*| *15 pages, 9 figures, submitted to OJA*|\n",
       "|**Abstract**| We report the discovery of ZTF J2020+5033, a high-mass brown dwarf (BD) transiting a low-mass star with an orbital period of 1.90 hours. Phase-resolved spectroscopy, optical and infrared light curves, and precise astrometry from Gaia allow us to constrain the masses, radii, and temperatures of both components with few-percent precision. We infer a BD mass of $M_{\\rm BD} = 80.1\\pm 1.6\\,M_{\\rm J}$, almost exactly at the stellar/substellar boundary, and a moderately inflated radius, $R_{\\rm BD} = 1.05\\pm 0.02\\,R_{\\rm J}$. The transiting object's temperature, $T_{\\rm eff}\\approx 1700\\,\\rm K$, is well-constrained by the depth of the infrared secondary eclipse and strongly suggests it is a BD. The system's high tangential velocity ($v_\\perp = 98\\,\\rm km\\,s^{-1}$) and thick disk-like Galactic orbit imply the binary is old; its close distance ($d\\approx 140$ pc) suggests that BDs in short-period orbits are relatively common. ZTF J2020+5033 is the shortest-period known transiting BD by more than a factor of 7. Today, the entire binary would comfortably fit inside the Sun. However, both components must have been considerably larger in youth, implying that the orbit has shrunk by at least a factor of $\\sim 5$ since formation. The simplest explanation is that magnetic braking continues to operate efficiently in at least some low-mass stars and BDs. |\n",
       "|<p style=\"color:red\"> **ERROR** </p>| <p style=\"color:red\">latex error expected string or bytes-like object</p> |"
      ],
      "text/plain": [
       "<IPython.core.display.Markdown object>"
      ]
     },
     "metadata": {},
     "output_type": "display_data"
    },
    {
     "data": {
      "text/markdown": [
       "\n",
       "|||\n",
       "|---:|:---|\n",
       "| [![arXiv](https://img.shields.io/badge/arXiv-arXiv:2307.16729-b31b1b.svg)](https://arxiv.org/abs/arXiv:2307.16729) | **The Chemical Inventory of the Inner Regions of Planet-forming Disks --  The JWST/MINDS Program**  |\n",
       "|| I. Kamp, et al. -- incl., <mark>J. Bouwman</mark>, <mark>M. Güdel</mark>, <mark>G. Perotti</mark>, <mark>M. Samland</mark>, <mark>S. Scheithauer</mark>, <mark>J. Schreiber</mark>, <mark>K. Schwarz</mark> |\n",
       "|*Appeared on*| *2023-08-01*|\n",
       "|*Comments*| *14 pages, 8 figures, authors version of the manuscript submitted 22.1.2023 for the Faraday Discussion \"Astrochemistry at high resolution\", accepted 21.3.2023*|\n",
       "|**Abstract**| The understanding of planet formation has changed recently, embracing the new idea of pebble accretion. This means that the influx of pebbles from the outer regions of planet-forming disks to their inner zones could determine the composition of planets and their atmospheres. The solid and molecular components delivered to the planet-forming region can be best characterized by mid-infrared spectroscopy. With Spitzer low-resolution (R=100, 600) spectroscopy, this approach was limited to the detection of abundant molecules such as H2O, C2H2, HCN and CO2. This contribution will present first results of the MINDS (MIRI mid-IR Disk Survey, PI: Th. Henning) project. Due do the sensitivity and spectral resolution (R~1500-3500) provided by JWST we now have a unique tool to obtain the full inventory of chemistry in the inner disks of solar-types stars and brown dwarfs, including also less abundant hydrocarbons and isotopologues. The Integral Field Unit (IFU) capabilities enable at the same time spatial studies of the continuum and line emission in extended sources such as debris disks, the flying saucer and also the search for mid-IR signatures of forming planets in systems such as PDS70. These JWST observations are complementary to ALMA and NOEMA observations of the outer disk chemistry; together these datasets provide an integral view of the processes occurring during the planet formation phase. |\n",
       "|<p style=\"color:red\"> **ERROR** </p>| <p style=\"color:red\">latex error list index out of range</p> |"
      ],
      "text/plain": [
       "<IPython.core.display.Markdown object>"
      ]
     },
     "metadata": {},
     "output_type": "display_data"
    }
   ],
   "source": [
    "import datetime\n",
    "today = str(datetime.date.today())\n",
    "logfile = f\"_build/html/logs/log-{today}.md\"\n",
    "\n",
    "\n",
    "with open(logfile, 'w') as logs:\n",
    "    # Success\n",
    "    logs.write(f'# Arxiv on Deck 2: Logs - {today}\\n\\n')\n",
    "    logs.write(\"\"\"* Arxiv had {0:,d} new papers\\n\"\"\".format(len(new_papers)))\n",
    "    logs.write(\"\"\"    * {0:,d} with possible author matches\\n\\n\"\"\".format(len(candidates)))\n",
    "    logs.write(\"## Sucessful papers\\n\\n\")\n",
    "    display(Markdown(\"## Successful papers\"))\n",
    "    success = [k[0] for k in documents]\n",
    "    for candid in candidates:\n",
    "        if candid['identifier'].split(':')[-1] in success:\n",
    "            display(candid)\n",
    "            logs.write(candid.generate_markdown_text() + '\\n\\n')\n",
    "\n",
    "    ## failed\n",
    "    logs.write(\"## Failed papers\\n\\n\")\n",
    "    display(Markdown(\"## Failed papers\"))\n",
    "    failed = sorted(failed, key=lambda x: x[1])\n",
    "    current_reason = \"\"\n",
    "    for paper, reason in failed:\n",
    "        if 'affiliation' in reason:\n",
    "            color = 'green'\n",
    "        else:\n",
    "            color = 'red'\n",
    "        data = Markdown(\n",
    "                paper.generate_markdown_text() + \n",
    "                f'\\n|<p style=\"color:{color:s}\"> **ERROR** </p>| <p style=\"color:{color:s}\">{reason:s}</p> |'\n",
    "               )\n",
    "        if reason != current_reason:\n",
    "            logs.write(f'### {reason:s} \\n\\n')\n",
    "            current_reason = reason\n",
    "        logs.write(data.data + '\\n\\n')\n",
    "        \n",
    "        # only display here the important errors (all in logs)\n",
    "        # if color in ('red',):\n",
    "        display(data)"
   ]
  },
  {
   "cell_type": "markdown",
   "id": "472d20ee",
   "metadata": {
    "papermill": {
     "duration": 0.006934,
     "end_time": "2023-08-01T04:06:58.757361",
     "exception": false,
     "start_time": "2023-08-01T04:06:58.750427",
     "status": "completed"
    },
    "tags": []
   },
   "source": [
    "## Export documents\n",
    "\n",
    "We now write the .md files and export relevant images"
   ]
  },
  {
   "cell_type": "code",
   "execution_count": 6,
   "id": "d426aed9",
   "metadata": {
    "execution": {
     "iopub.execute_input": "2023-08-01T04:06:58.775077Z",
     "iopub.status.busy": "2023-08-01T04:06:58.774435Z",
     "iopub.status.idle": "2023-08-01T04:06:58.784010Z",
     "shell.execute_reply": "2023-08-01T04:06:58.783331Z"
    },
    "papermill": {
     "duration": 0.019623,
     "end_time": "2023-08-01T04:06:58.785841",
     "exception": false,
     "start_time": "2023-08-01T04:06:58.766218",
     "status": "completed"
    },
    "tags": []
   },
   "outputs": [],
   "source": [
    "def export_markdown_summary(md: str, md_fname:str, directory: str):\n",
    "    \"\"\"Export MD document and associated relevant images\"\"\"\n",
    "    import os\n",
    "    import shutil\n",
    "    import re\n",
    "\n",
    "    if (os.path.exists(directory) and not os.path.isdir(directory)):\n",
    "        raise RuntimeError(f\"a non-directory file exists with name {directory:s}\")\n",
    "\n",
    "    if (not os.path.exists(directory)):\n",
    "        print(f\"creating directory {directory:s}\")\n",
    "        os.mkdir(directory)\n",
    "\n",
    "    fig_fnames = (re.compile(r'\\[Fig.*\\]\\((.*)\\)').findall(md) + \n",
    "                  re.compile(r'\\<img src=\"([^>\\s]*)\"[^>]*/>').findall(md))\n",
    "    for fname in fig_fnames:\n",
    "        if 'http' in fname:\n",
    "            # No need to copy online figures\n",
    "            continue\n",
    "        destdir = os.path.join(directory, os.path.dirname(fname))\n",
    "        destfname = os.path.join(destdir, os.path.basename(fname))\n",
    "        try:\n",
    "            os.makedirs(destdir)\n",
    "        except FileExistsError:\n",
    "            pass\n",
    "        shutil.copy(fname, destfname)\n",
    "    with open(os.path.join(directory, md_fname), 'w') as fout:\n",
    "        fout.write(md)\n",
    "    print(\"exported in \", os.path.join(directory, md_fname))\n",
    "    [print(\"    + \" + os.path.join(directory,fk)) for fk in fig_fnames]"
   ]
  },
  {
   "cell_type": "code",
   "execution_count": 7,
   "id": "014d04a4",
   "metadata": {
    "execution": {
     "iopub.execute_input": "2023-08-01T04:06:58.800444Z",
     "iopub.status.busy": "2023-08-01T04:06:58.799597Z",
     "iopub.status.idle": "2023-08-01T04:06:58.812682Z",
     "shell.execute_reply": "2023-08-01T04:06:58.812045Z"
    },
    "papermill": {
     "duration": 0.022455,
     "end_time": "2023-08-01T04:06:58.814582",
     "exception": false,
     "start_time": "2023-08-01T04:06:58.792127",
     "status": "completed"
    },
    "tags": []
   },
   "outputs": [
    {
     "name": "stdout",
     "output_type": "stream",
     "text": [
      "exported in  _build/html/2307.15733.md\n",
      "    + _build/html/tmp_2307.15733/./Fig3.png\n",
      "    + _build/html/tmp_2307.15733/./Fig8.png\n",
      "    + _build/html/tmp_2307.15733/./Fig4.png\n"
     ]
    }
   ],
   "source": [
    "for paper_id, md in documents:\n",
    "    export_markdown_summary(md, f\"{paper_id:s}.md\", '_build/html/')"
   ]
  },
  {
   "cell_type": "markdown",
   "id": "f087a0a7",
   "metadata": {
    "papermill": {
     "duration": 0.006839,
     "end_time": "2023-08-01T04:06:58.828481",
     "exception": false,
     "start_time": "2023-08-01T04:06:58.821642",
     "status": "completed"
    },
    "tags": []
   },
   "source": [
    "## Display the papers\n",
    "\n",
    "Not necessary but allows for a quick check."
   ]
  },
  {
   "cell_type": "code",
   "execution_count": 8,
   "id": "fd25f625",
   "metadata": {
    "execution": {
     "iopub.execute_input": "2023-08-01T04:06:58.844426Z",
     "iopub.status.busy": "2023-08-01T04:06:58.843756Z",
     "iopub.status.idle": "2023-08-01T04:06:58.849575Z",
     "shell.execute_reply": "2023-08-01T04:06:58.848794Z"
    },
    "papermill": {
     "duration": 0.015841,
     "end_time": "2023-08-01T04:06:58.851300",
     "exception": false,
     "start_time": "2023-08-01T04:06:58.835459",
     "status": "completed"
    },
    "scrolled": false,
    "tags": []
   },
   "outputs": [
    {
     "data": {
      "text/markdown": [
       "<div class=\"macros\" style=\"visibility:hidden;\">\n",
       "$\\newcommand{\\ensuremath}{}$\n",
       "$\\newcommand{\\xspace}{}$\n",
       "$\\newcommand{\\object}[1]{\\texttt{#1}}$\n",
       "$\\newcommand{\\farcs}{{.}''}$\n",
       "$\\newcommand{\\farcm}{{.}'}$\n",
       "$\\newcommand{\\arcsec}{''}$\n",
       "$\\newcommand{\\arcmin}{'}$\n",
       "$\\newcommand{\\ion}[2]{#1#2}$\n",
       "$\\newcommand{\\textsc}[1]{\\textrm{#1}}$\n",
       "$\\newcommand{\\hl}[1]{\\textrm{#1}}$\n",
       "$\\newcommand{\\footnote}[1]{}$\n",
       "$\\newcommand{\\vdag}{(v)^\\dagger}$\n",
       "$\\newcommand$\n",
       "$\\newcommand$\n",
       "$\\newcommand{\\bvc}[1]{{\\color{green}#1}}$</div>\n",
       "\n",
       "\n",
       "\n",
       "<div id=\"title\">\n",
       "\n",
       "# Deciphering the morphological origins of X-shaped radio galaxies: $\\Numerical modeling of Back-flow vs. Jet-reorientation$\n",
       "\n",
       "</div>\n",
       "<div id=\"comments\">\n",
       "\n",
       "[![arXiv](https://img.shields.io/badge/arXiv-2307.15733-b31b1b.svg)](https://arxiv.org/abs/2307.15733)<mark>Appeared on: 2023-08-01</mark> -  _Accepted for publication in The Astrophysical Journal Supplement Series (10 Figs, 2 Tables)_\n",
       "\n",
       "</div>\n",
       "<div id=\"authors\">\n",
       "\n",
       "G. Giri, B. Vaidya, <mark>C. Fendt</mark>\n",
       "\n",
       "</div>\n",
       "<div id=\"abstract\">\n",
       "\n",
       "**Abstract:** X-shaped Radio Galaxies (XRGs) develop when certain extra-galactic jets deviate from their propagation path.An asymmetric ambient medium (Back-flow model) or complex Active Galactic Nuclei activity (Jet-reorientation model) enforcing the jet direction to deviate may cause such structures.In this context, the present investigation focuses on the modeling of XRGs by performing 3D relativistic magneto-hydrodynamicsimulations. We implement different jet propagation models applying aninitially identical jet-ambient medium configuration to understand distinctive features.This study, the first of its kind, demonstrates that all adopted models produceXRGs with notable properties, thereby challenging the notion of a universal model.Jet reorientation naturally explains several contentious properties of XRGs, including wing alignment alongthe ambient medium's primary axis, development of collimated lobes,and the formation of noticeably longer wings than active lobes.Such XRGs disrupt the cluster medium by generating isotropic shocks and channeling more energythan the Back-flow scenario.Our synthetic thermal X-ray maps of the cluster medium reveal four `clear' elongated cavities associated withthe wing-lobe alignment, regardless of projection effects, though affecting their age estimation.We show depth and geometric alignment of the evolved cavities may qualify as promising characteristics of XRGs, which may be used to disentangle different formation scenarios.\n",
       "\n",
       "</div>\n",
       "\n",
       "<div id=\"div_fig1\">\n",
       "\n",
       "<img src=\"tmp_2307.15733/./Fig3.png\" alt=\"Fig3\" width=\"100%\"/>\n",
       "\n",
       "**Figure 3. -** Representation of the evolution of a prominent XRG structure formed in the case `qr{\\small \\texttt{90}}\\rule{2mm}{.5pt}{\\small YX}' (fast Jet-reorientation scenario; Table \\ref{Tab:Parameters}). The top three rows represent $x-y$ slice of density, pressure and $y$-component velocity distribution of the evolving structure, respectively. The last row showcases the 3D volume rendered plot showing the intricate jetted structure as viewed along the $z$-axis. The corresponding time of evolution is highlighted at the top of each column. The colorbar for the diagrams is kept at the rightmost part and is the same for the associated row, presented in computational unit (multiply unit density ($0.01 {\\rm amu cm^{-3}}$), unit pressure ($1.5\\times 10^{-5} {\\rm dyn cm^{-2}}$) and velocity ($c$) for physical scales). See Section \\ref{Sec:Reference case run} for details. (*fig:Dynamical_evolution*)\n",
       "\n",
       "</div>\n",
       "<div id=\"div_fig2\">\n",
       "\n",
       "<img src=\"tmp_2307.15733/./Fig8.png\" alt=\"Fig8\" width=\"100%\"/>\n",
       "\n",
       "**Figure 8. -** Thermal X-ray intensity map (in ${\\rm log  [erg s^{-1} cm^{-2} sr^{-1}]}$) in the [0.5-5] keV band for model `qr{\\small \\texttt{90}}\\rule{2mm}{.5pt}{\\small YX}'.\n",
       "    The sequence showcases the formation and evolution of X-ray dip regions (cavities) in the midst of the cluster.\n",
       "    The evolution is complementary to the cocoon geometry (Fig. \\ref{fig:Dynamical_evolution}, viewing angle ($0^{\\circ},0^{\\circ}$)).\n",
       "    Four distinct elongated cavities are generated, associated with wings and active lobes at 114 Myr, bearing signatures of the reorientation event.\n",
       "    See Section \\ref{Sec:Cavity evolution: Reference case} for details.\n",
       "     (*fig:Cavity_evolution*)\n",
       "\n",
       "</div>\n",
       "<div id=\"div_fig3\">\n",
       "\n",
       "<img src=\"tmp_2307.15733/./Fig4.png\" alt=\"Fig4\" width=\"100%\"/>\n",
       "\n",
       "**Figure 4. -** Representation of structures at 114 Myr that appear similar to the case `qr{\\small \\texttt{90}}\\rule{2mm}{.5pt}{\\small YX}' (Fig. \\ref{fig:Dynamical_evolution}). The associated simulation names are labeled in the leftmost part of the figure, referring to the Back-flow (top) and slow Jet-reorientation cases (bottom) (Table \\ref{Tab:Parameters}). The colorbar for the plots are kept same as in Fig. \\ref{fig:Dynamical_evolution}. See Section \\ref{Sec:Comparison with other simulated systems} for details and observational relevance. (*fig:Comparison_similar*)\n",
       "\n",
       "</div><div id=\"qrcode\"><img src=https://api.qrserver.com/v1/create-qr-code/?size=100x100&data=\"https://arxiv.org/abs/2307.15733\"></div>"
      ],
      "text/plain": [
       "<IPython.core.display.Markdown object>"
      ]
     },
     "metadata": {},
     "output_type": "display_data"
    }
   ],
   "source": [
    "[display(Markdown(k[1])) for k in documents];"
   ]
  },
  {
   "cell_type": "markdown",
   "id": "873873a4",
   "metadata": {
    "papermill": {
     "duration": 0.007096,
     "end_time": "2023-08-01T04:06:58.864944",
     "exception": false,
     "start_time": "2023-08-01T04:06:58.857848",
     "status": "completed"
    },
    "tags": []
   },
   "source": [
    "# Create HTML index"
   ]
  },
  {
   "cell_type": "code",
   "execution_count": 9,
   "id": "cf665672",
   "metadata": {
    "execution": {
     "iopub.execute_input": "2023-08-01T04:06:58.881214Z",
     "iopub.status.busy": "2023-08-01T04:06:58.880672Z",
     "iopub.status.idle": "2023-08-01T04:06:58.892440Z",
     "shell.execute_reply": "2023-08-01T04:06:58.891595Z"
    },
    "papermill": {
     "duration": 0.021438,
     "end_time": "2023-08-01T04:06:58.894295",
     "exception": false,
     "start_time": "2023-08-01T04:06:58.872857",
     "status": "completed"
    },
    "tags": []
   },
   "outputs": [
    {
     "name": "stdout",
     "output_type": "stream",
     "text": [
      "242  publications files modified in the last 7 days.\n"
     ]
    }
   ],
   "source": [
    "from datetime import datetime, timedelta, timezone\n",
    "from glob import glob\n",
    "import os\n",
    "\n",
    "files = glob('_build/html/*.md')\n",
    "days = 7\n",
    "now = datetime.today()\n",
    "res = []\n",
    "for fk in files:\n",
    "    stat_result = os.stat(fk).st_ctime\n",
    "    modified = datetime.fromtimestamp(stat_result, tz=timezone.utc).replace(tzinfo=None)\n",
    "    delta = now.today() - modified\n",
    "    if delta <= timedelta(days=days):\n",
    "        res.append((delta.seconds, fk))\n",
    "res = [k[1] for k in reversed(sorted(res, key=lambda x:x[1]))]\n",
    "npub = len(res)\n",
    "print(len(res), f\" publications files modified in the last {days:d} days.\")\n",
    "# [ print('\\t', k) for k in res ];"
   ]
  },
  {
   "cell_type": "code",
   "execution_count": 10,
   "id": "015de740",
   "metadata": {
    "execution": {
     "iopub.execute_input": "2023-08-01T04:06:58.910014Z",
     "iopub.status.busy": "2023-08-01T04:06:58.909446Z",
     "iopub.status.idle": "2023-08-01T04:06:58.931838Z",
     "shell.execute_reply": "2023-08-01T04:06:58.931119Z"
    },
    "papermill": {
     "duration": 0.032308,
     "end_time": "2023-08-01T04:06:58.933501",
     "exception": false,
     "start_time": "2023-08-01T04:06:58.901193",
     "status": "completed"
    },
    "tags": []
   },
   "outputs": [
    {
     "name": "stdout",
     "output_type": "stream",
     "text": [
      "10  publications in the last 7 days.\n"
     ]
    }
   ],
   "source": [
    "import datetime\n",
    "from glob import glob\n",
    "\n",
    "def get_last_n_days(lst, days=1):\n",
    "    \"\"\" Get the documents from the last n days \"\"\"\n",
    "    sorted_lst = sorted(lst, key=lambda x: x[1], reverse=True)\n",
    "    for fname, date in sorted_lst:\n",
    "        if date >= str(datetime.date.today() - datetime.timedelta(days=days)):\n",
    "            yield fname\n",
    "\n",
    "def extract_appearance_dates(lst_file):\n",
    "    dates = []\n",
    "\n",
    "    def get_date(line):\n",
    "        return line\\\n",
    "            .split('Appeared on:')[-1]\\\n",
    "            .split('</mark>')[0].strip()\n",
    "\n",
    "    for fname in lst:\n",
    "        with open(fname, 'r') as f:\n",
    "            found_date = False\n",
    "            for line in f:\n",
    "                if not found_date:\n",
    "                    if \"Appeared on\" in line:\n",
    "                        found_date = True\n",
    "                        dates.append((fname, get_date(line)))\n",
    "                else:\n",
    "                    break\n",
    "    return dates\n",
    "\n",
    "from glob import glob\n",
    "lst = glob('_build/html/*md')\n",
    "days = 7\n",
    "dates = extract_appearance_dates(lst)\n",
    "res = list(get_last_n_days(dates, days))\n",
    "npub = len(res)\n",
    "print(len(res), f\" publications in the last {days:d} days.\")"
   ]
  },
  {
   "cell_type": "code",
   "execution_count": 11,
   "id": "52ca0208",
   "metadata": {
    "execution": {
     "iopub.execute_input": "2023-08-01T04:06:58.949268Z",
     "iopub.status.busy": "2023-08-01T04:06:58.948572Z",
     "iopub.status.idle": "2023-08-01T04:06:58.955440Z",
     "shell.execute_reply": "2023-08-01T04:06:58.954571Z"
    },
    "papermill": {
     "duration": 0.016689,
     "end_time": "2023-08-01T04:06:58.957295",
     "exception": false,
     "start_time": "2023-08-01T04:06:58.940606",
     "status": "completed"
    },
    "scrolled": false,
    "tags": []
   },
   "outputs": [],
   "source": [
    "def create_carousel(npub=4):\n",
    "    \"\"\" Generate the HTML code for a carousel with `npub` slides \"\"\"\n",
    "    carousel = [\"\"\"  <div class=\"carousel\" \"\"\",\n",
    "                \"\"\"       data-flickity='{ \"autoPlay\": 10000, \"adaptiveHeight\": true, \"resize\": true, \"wrapAround\": true, \"pauseAutoPlayOnHover\": true, \"groupCells\": 1 }' id=\"asyncTypeset\">\"\"\"\n",
    "                ]\n",
    "    \n",
    "    item_str = \"\"\"    <div class=\"carousel-cell\"> <div id=\"slide{k}\" class=\"md_view\">Content {k}</div> </div>\"\"\"\n",
    "    for k in range(1, npub + 1):\n",
    "        carousel.append(item_str.format(k=k))\n",
    "    carousel.append(\"  </div>\")\n",
    "    return '\\n'.join(carousel)\n",
    "\n",
    "def create_grid(npub=4):\n",
    "    \"\"\" Generate the HTML code for a flat grid with `npub` slides \"\"\"\n",
    "    grid = [\"\"\"  <div class=\"grid\"> \"\"\",\n",
    "                ]\n",
    "    \n",
    "    item_str = \"\"\"    <div class=\"grid-item\"> <div id=\"slide{k}\" class=\"md_view\">Content {k}</div> </div>\"\"\"\n",
    "    for k in range(1, npub + 1):\n",
    "        grid.append(item_str.format(k=k))\n",
    "    grid.append(\"  </div>\")\n",
    "    return '\\n'.join(grid)"
   ]
  },
  {
   "cell_type": "code",
   "execution_count": 12,
   "id": "a6eac5b6",
   "metadata": {
    "execution": {
     "iopub.execute_input": "2023-08-01T04:06:58.974047Z",
     "iopub.status.busy": "2023-08-01T04:06:58.973556Z",
     "iopub.status.idle": "2023-08-01T04:06:58.979807Z",
     "shell.execute_reply": "2023-08-01T04:06:58.979137Z"
    },
    "papermill": {
     "duration": 0.017083,
     "end_time": "2023-08-01T04:06:58.982159",
     "exception": false,
     "start_time": "2023-08-01T04:06:58.965076",
     "status": "completed"
    },
    "scrolled": false,
    "tags": []
   },
   "outputs": [],
   "source": [
    "carousel = create_carousel(npub)\n",
    "docs = ', '.join(['\"{0:s}\"'.format(k.split('/')[-1]) for k in res])\n",
    "slides = ', '.join([f'\"slide{k}\"' for k in range(1, npub + 1)])\n",
    "\n",
    "with open(\"daily_template.html\", \"r\") as tpl:\n",
    "    page = tpl.read()\n",
    "    page = page.replace(\"{%-- carousel:s --%}\", carousel)\\\n",
    "               .replace(\"{%-- suptitle:s --%}\",  \"7-day archives\" )\\\n",
    "               .replace(\"{%-- docs:s --%}\", docs)\\\n",
    "               .replace(\"{%-- slides:s --%}\", slides)\n",
    "    \n",
    "with open(\"_build/html/index_7days.html\", 'w') as fout:\n",
    "    fout.write(page)"
   ]
  },
  {
   "cell_type": "code",
   "execution_count": 13,
   "id": "adc1a1ec",
   "metadata": {
    "execution": {
     "iopub.execute_input": "2023-08-01T04:06:58.999911Z",
     "iopub.status.busy": "2023-08-01T04:06:58.999173Z",
     "iopub.status.idle": "2023-08-01T04:06:59.011468Z",
     "shell.execute_reply": "2023-08-01T04:06:59.010570Z"
    },
    "papermill": {
     "duration": 0.023616,
     "end_time": "2023-08-01T04:06:59.013488",
     "exception": false,
     "start_time": "2023-08-01T04:06:58.989872",
     "status": "completed"
    },
    "tags": []
   },
   "outputs": [
    {
     "name": "stdout",
     "output_type": "stream",
     "text": [
      "2  publications in the last day.\n"
     ]
    }
   ],
   "source": [
    "# redo for today\n",
    "days = 1\n",
    "res = list(get_last_n_days(dates, days))\n",
    "npub = len(res)\n",
    "print(len(res), f\" publications in the last day.\")\n",
    "\n",
    "carousel = create_carousel(npub)\n",
    "docs = ', '.join(['\"{0:s}\"'.format(k.split('/')[-1]) for k in res])\n",
    "slides = ', '.join([f'\"slide{k}\"' for k in range(1, npub + 1)])\n",
    "\n",
    "with open(\"daily_template.html\", \"r\") as tpl:\n",
    "    page = tpl.read()\n",
    "    page = page.replace(\"{%-- carousel:s --%}\", carousel)\\\n",
    "               .replace(\"{%-- suptitle:s --%}\",  \"Daily\" )\\\n",
    "               .replace(\"{%-- docs:s --%}\", docs)\\\n",
    "               .replace(\"{%-- slides:s --%}\", slides)\n",
    "    \n",
    "# print(carousel, docs, slides)\n",
    "# print(page)\n",
    "with open(\"_build/html/index_daily.html\", 'w') as fout:\n",
    "    fout.write(page)"
   ]
  },
  {
   "cell_type": "code",
   "execution_count": 14,
   "id": "00eece82",
   "metadata": {
    "execution": {
     "iopub.execute_input": "2023-08-01T04:06:59.030111Z",
     "iopub.status.busy": "2023-08-01T04:06:59.029619Z",
     "iopub.status.idle": "2023-08-01T04:06:59.037981Z",
     "shell.execute_reply": "2023-08-01T04:06:59.037127Z"
    },
    "papermill": {
     "duration": 0.019427,
     "end_time": "2023-08-01T04:06:59.040660",
     "exception": false,
     "start_time": "2023-08-01T04:06:59.021233",
     "status": "completed"
    },
    "scrolled": false,
    "tags": []
   },
   "outputs": [
    {
     "name": "stdout",
     "output_type": "stream",
     "text": [
      "6  6 publications selected.\n"
     ]
    }
   ],
   "source": [
    "# Create the flat grid of the last N papers (fixed number regardless of dates)\n",
    "from itertools import islice \n",
    "\n",
    "npub = 6\n",
    "res = [k[0] for k in (islice(reversed(sorted(dates, key=lambda x: x[1])), 6))]\n",
    "print(len(res), f\" {npub} publications selected.\")\n",
    "\n",
    "grid = create_grid(npub)\n",
    "docs = ', '.join(['\"{0:s}\"'.format(k.split('/')[-1]) for k in res])\n",
    "slides = ', '.join([f'\"slide{k}\"' for k in range(1, npub + 1)])\n",
    "\n",
    "with open(\"grid_template.html\", \"r\") as tpl:\n",
    "    page = tpl.read()\n",
    "    page = page.replace(\"{%-- grid-content:s --%}\", grid)\\\n",
    "               .replace(\"{%-- suptitle:s --%}\",  f\"Last {npub:,d} papers\" )\\\n",
    "               .replace(\"{%-- docs:s --%}\", docs)\\\n",
    "               .replace(\"{%-- slides:s --%}\", slides)\n",
    "    \n",
    "# print(grid, docs, slides)\n",
    "# print(page)\n",
    "with open(\"_build/html/index_npub_grid.html\", 'w') as fout:\n",
    "    fout.write(page)"
   ]
  }
 ],
 "metadata": {
  "kernelspec": {
   "display_name": "Python 3 (ipykernel)",
   "language": "python",
   "name": "python3"
  },
  "language_info": {
   "codemirror_mode": {
    "name": "ipython",
    "version": 3
   },
   "file_extension": ".py",
   "mimetype": "text/x-python",
   "name": "python",
   "nbconvert_exporter": "python",
   "pygments_lexer": "ipython3",
   "version": "3.9.17"
  },
  "papermill": {
   "default_parameters": {},
   "duration": 55.895586,
   "end_time": "2023-08-01T04:06:59.366116",
   "environment_variables": {},
   "exception": null,
   "input_path": "MPIA daily digest.ipynb",
   "output_path": "log.ipynb",
   "parameters": {},
   "start_time": "2023-08-01T04:06:03.470530",
   "version": "2.4.0"
  },
  "vscode": {
   "interpreter": {
    "hash": "aee8b7b246df8f9039afb4144a1f6fd8d2ca17a180786b69acc140d282b71a49"
   }
  },
  "widgets": {
   "application/vnd.jupyter.widget-state+json": {
    "state": {
     "0aa43874d0a54f43bdb1de31d643cf58": {
      "model_module": "@jupyter-widgets/base",
      "model_module_version": "2.0.0",
      "model_name": "LayoutModel",
      "state": {
       "_model_module": "@jupyter-widgets/base",
       "_model_module_version": "2.0.0",
       "_model_name": "LayoutModel",
       "_view_count": null,
       "_view_module": "@jupyter-widgets/base",
       "_view_module_version": "2.0.0",
       "_view_name": "LayoutView",
       "align_content": null,
       "align_items": null,
       "align_self": null,
       "border_bottom": null,
       "border_left": null,
       "border_right": null,
       "border_top": null,
       "bottom": null,
       "display": null,
       "flex": null,
       "flex_flow": null,
       "grid_area": null,
       "grid_auto_columns": null,
       "grid_auto_flow": null,
       "grid_auto_rows": null,
       "grid_column": null,
       "grid_gap": null,
       "grid_row": null,
       "grid_template_areas": null,
       "grid_template_columns": null,
       "grid_template_rows": null,
       "height": null,
       "justify_content": null,
       "justify_items": null,
       "left": null,
       "margin": null,
       "max_height": null,
       "max_width": null,
       "min_height": null,
       "min_width": null,
       "object_fit": null,
       "object_position": null,
       "order": null,
       "overflow": null,
       "padding": null,
       "right": null,
       "top": null,
       "visibility": null,
       "width": null
      }
     },
     "207b52633d0b4ca3bfeedb443c708eb7": {
      "model_module": "@jupyter-widgets/controls",
      "model_module_version": "2.0.0",
      "model_name": "ProgressStyleModel",
      "state": {
       "_model_module": "@jupyter-widgets/controls",
       "_model_module_version": "2.0.0",
       "_model_name": "ProgressStyleModel",
       "_view_count": null,
       "_view_module": "@jupyter-widgets/base",
       "_view_module_version": "2.0.0",
       "_view_name": "StyleView",
       "bar_color": null,
       "description_width": ""
      }
     },
     "2244ecf91cc24953920dcd420266b104": {
      "model_module": "@jupyter-widgets/controls",
      "model_module_version": "2.0.0",
      "model_name": "HBoxModel",
      "state": {
       "_dom_classes": [],
       "_model_module": "@jupyter-widgets/controls",
       "_model_module_version": "2.0.0",
       "_model_name": "HBoxModel",
       "_view_count": null,
       "_view_module": "@jupyter-widgets/controls",
       "_view_module_version": "2.0.0",
       "_view_name": "HBoxView",
       "box_style": "",
       "children": [
        "IPY_MODEL_4c94132aa20a443c9cf6233c322ac7fe",
        "IPY_MODEL_385332a8a9fa475c9f961fe61bed1e6d",
        "IPY_MODEL_f6af9dffc0d04cb59809f4a5d040ce82"
       ],
       "layout": "IPY_MODEL_7dc86a2bd2be4088af7e86ba3fbb019b",
       "tabbable": null,
       "tooltip": null
      }
     },
     "385332a8a9fa475c9f961fe61bed1e6d": {
      "model_module": "@jupyter-widgets/controls",
      "model_module_version": "2.0.0",
      "model_name": "FloatProgressModel",
      "state": {
       "_dom_classes": [],
       "_model_module": "@jupyter-widgets/controls",
       "_model_module_version": "2.0.0",
       "_model_name": "FloatProgressModel",
       "_view_count": null,
       "_view_module": "@jupyter-widgets/controls",
       "_view_module_version": "2.0.0",
       "_view_name": "ProgressView",
       "bar_style": "success",
       "description": "",
       "description_allow_html": false,
       "layout": "IPY_MODEL_608d0b3f2618418b8cf0905e5613996c",
       "max": 4.0,
       "min": 0.0,
       "orientation": "horizontal",
       "style": "IPY_MODEL_207b52633d0b4ca3bfeedb443c708eb7",
       "tabbable": null,
       "tooltip": null,
       "value": 4.0
      }
     },
     "4c94132aa20a443c9cf6233c322ac7fe": {
      "model_module": "@jupyter-widgets/controls",
      "model_module_version": "2.0.0",
      "model_name": "HTMLModel",
      "state": {
       "_dom_classes": [],
       "_model_module": "@jupyter-widgets/controls",
       "_model_module_version": "2.0.0",
       "_model_name": "HTMLModel",
       "_view_count": null,
       "_view_module": "@jupyter-widgets/controls",
       "_view_module_version": "2.0.0",
       "_view_name": "HTMLView",
       "description": "",
       "description_allow_html": false,
       "layout": "IPY_MODEL_8c8d77bb1a13401294b27ab3ebf1dbe1",
       "placeholder": "​",
       "style": "IPY_MODEL_dcba83353d0244bbab1868fcf98ace76",
       "tabbable": null,
       "tooltip": null,
       "value": "100%"
      }
     },
     "608d0b3f2618418b8cf0905e5613996c": {
      "model_module": "@jupyter-widgets/base",
      "model_module_version": "2.0.0",
      "model_name": "LayoutModel",
      "state": {
       "_model_module": "@jupyter-widgets/base",
       "_model_module_version": "2.0.0",
       "_model_name": "LayoutModel",
       "_view_count": null,
       "_view_module": "@jupyter-widgets/base",
       "_view_module_version": "2.0.0",
       "_view_name": "LayoutView",
       "align_content": null,
       "align_items": null,
       "align_self": null,
       "border_bottom": null,
       "border_left": null,
       "border_right": null,
       "border_top": null,
       "bottom": null,
       "display": null,
       "flex": null,
       "flex_flow": null,
       "grid_area": null,
       "grid_auto_columns": null,
       "grid_auto_flow": null,
       "grid_auto_rows": null,
       "grid_column": null,
       "grid_gap": null,
       "grid_row": null,
       "grid_template_areas": null,
       "grid_template_columns": null,
       "grid_template_rows": null,
       "height": null,
       "justify_content": null,
       "justify_items": null,
       "left": null,
       "margin": null,
       "max_height": null,
       "max_width": null,
       "min_height": null,
       "min_width": null,
       "object_fit": null,
       "object_position": null,
       "order": null,
       "overflow": null,
       "padding": null,
       "right": null,
       "top": null,
       "visibility": null,
       "width": null
      }
     },
     "7dc86a2bd2be4088af7e86ba3fbb019b": {
      "model_module": "@jupyter-widgets/base",
      "model_module_version": "2.0.0",
      "model_name": "LayoutModel",
      "state": {
       "_model_module": "@jupyter-widgets/base",
       "_model_module_version": "2.0.0",
       "_model_name": "LayoutModel",
       "_view_count": null,
       "_view_module": "@jupyter-widgets/base",
       "_view_module_version": "2.0.0",
       "_view_name": "LayoutView",
       "align_content": null,
       "align_items": null,
       "align_self": null,
       "border_bottom": null,
       "border_left": null,
       "border_right": null,
       "border_top": null,
       "bottom": null,
       "display": null,
       "flex": null,
       "flex_flow": null,
       "grid_area": null,
       "grid_auto_columns": null,
       "grid_auto_flow": null,
       "grid_auto_rows": null,
       "grid_column": null,
       "grid_gap": null,
       "grid_row": null,
       "grid_template_areas": null,
       "grid_template_columns": null,
       "grid_template_rows": null,
       "height": null,
       "justify_content": null,
       "justify_items": null,
       "left": null,
       "margin": null,
       "max_height": null,
       "max_width": null,
       "min_height": null,
       "min_width": null,
       "object_fit": null,
       "object_position": null,
       "order": null,
       "overflow": null,
       "padding": null,
       "right": null,
       "top": null,
       "visibility": null,
       "width": null
      }
     },
     "82f8e6269bb1421a87a04f969a5fa66e": {
      "model_module": "@jupyter-widgets/controls",
      "model_module_version": "2.0.0",
      "model_name": "HTMLStyleModel",
      "state": {
       "_model_module": "@jupyter-widgets/controls",
       "_model_module_version": "2.0.0",
       "_model_name": "HTMLStyleModel",
       "_view_count": null,
       "_view_module": "@jupyter-widgets/base",
       "_view_module_version": "2.0.0",
       "_view_name": "StyleView",
       "background": null,
       "description_width": "",
       "font_size": null,
       "text_color": null
      }
     },
     "8c8d77bb1a13401294b27ab3ebf1dbe1": {
      "model_module": "@jupyter-widgets/base",
      "model_module_version": "2.0.0",
      "model_name": "LayoutModel",
      "state": {
       "_model_module": "@jupyter-widgets/base",
       "_model_module_version": "2.0.0",
       "_model_name": "LayoutModel",
       "_view_count": null,
       "_view_module": "@jupyter-widgets/base",
       "_view_module_version": "2.0.0",
       "_view_name": "LayoutView",
       "align_content": null,
       "align_items": null,
       "align_self": null,
       "border_bottom": null,
       "border_left": null,
       "border_right": null,
       "border_top": null,
       "bottom": null,
       "display": null,
       "flex": null,
       "flex_flow": null,
       "grid_area": null,
       "grid_auto_columns": null,
       "grid_auto_flow": null,
       "grid_auto_rows": null,
       "grid_column": null,
       "grid_gap": null,
       "grid_row": null,
       "grid_template_areas": null,
       "grid_template_columns": null,
       "grid_template_rows": null,
       "height": null,
       "justify_content": null,
       "justify_items": null,
       "left": null,
       "margin": null,
       "max_height": null,
       "max_width": null,
       "min_height": null,
       "min_width": null,
       "object_fit": null,
       "object_position": null,
       "order": null,
       "overflow": null,
       "padding": null,
       "right": null,
       "top": null,
       "visibility": null,
       "width": null
      }
     },
     "dcba83353d0244bbab1868fcf98ace76": {
      "model_module": "@jupyter-widgets/controls",
      "model_module_version": "2.0.0",
      "model_name": "HTMLStyleModel",
      "state": {
       "_model_module": "@jupyter-widgets/controls",
       "_model_module_version": "2.0.0",
       "_model_name": "HTMLStyleModel",
       "_view_count": null,
       "_view_module": "@jupyter-widgets/base",
       "_view_module_version": "2.0.0",
       "_view_name": "StyleView",
       "background": null,
       "description_width": "",
       "font_size": null,
       "text_color": null
      }
     },
     "f6af9dffc0d04cb59809f4a5d040ce82": {
      "model_module": "@jupyter-widgets/controls",
      "model_module_version": "2.0.0",
      "model_name": "HTMLModel",
      "state": {
       "_dom_classes": [],
       "_model_module": "@jupyter-widgets/controls",
       "_model_module_version": "2.0.0",
       "_model_name": "HTMLModel",
       "_view_count": null,
       "_view_module": "@jupyter-widgets/controls",
       "_view_module_version": "2.0.0",
       "_view_name": "HTMLView",
       "description": "",
       "description_allow_html": false,
       "layout": "IPY_MODEL_0aa43874d0a54f43bdb1de31d643cf58",
       "placeholder": "​",
       "style": "IPY_MODEL_82f8e6269bb1421a87a04f969a5fa66e",
       "tabbable": null,
       "tooltip": null,
       "value": " 4/4 [00:28&lt;00:00,  6.11s/it]"
      }
     }
    },
    "version_major": 2,
    "version_minor": 0
   }
  }
 },
 "nbformat": 4,
 "nbformat_minor": 5
}