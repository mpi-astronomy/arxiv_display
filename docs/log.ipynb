{
 "cells": [
  {
   "cell_type": "markdown",
   "id": "92bcb855",
   "metadata": {
    "papermill": {
     "duration": 0.003971,
     "end_time": "2024-09-20T04:10:14.702961",
     "exception": false,
     "start_time": "2024-09-20T04:10:14.698990",
     "status": "completed"
    },
    "tags": []
   },
   "source": [
    "# MPIA Arxiv on Deck 2\n",
    "\n",
    "Contains the steps to produce the paper extractions."
   ]
  },
  {
   "cell_type": "code",
   "execution_count": 1,
   "id": "3a0d6e11",
   "metadata": {
    "execution": {
     "iopub.execute_input": "2024-09-20T04:10:14.711540Z",
     "iopub.status.busy": "2024-09-20T04:10:14.711260Z",
     "iopub.status.idle": "2024-09-20T04:10:15.258771Z",
     "shell.execute_reply": "2024-09-20T04:10:15.258026Z"
    },
    "papermill": {
     "duration": 0.552827,
     "end_time": "2024-09-20T04:10:15.260188",
     "exception": false,
     "start_time": "2024-09-20T04:10:14.707361",
     "status": "completed"
    },
    "tags": []
   },
   "outputs": [],
   "source": [
    "# Imports\n",
    "import os\n",
    "from IPython.display import Markdown, display\n",
    "from tqdm.notebook import tqdm\n",
    "import warnings\n",
    "from PIL import Image \n",
    "\n",
    "# requires arxiv_on_deck_2\n",
    "\n",
    "from arxiv_on_deck_2.arxiv2 import (get_new_papers, \n",
    "                                    get_paper_from_identifier,\n",
    "                                    retrieve_document_source, \n",
    "                                    get_markdown_badge)\n",
    "from arxiv_on_deck_2 import (latex,\n",
    "                             latex_bib,\n",
    "                             mpia,\n",
    "                             highlight_authors_in_list)\n",
    "\n",
    "# Sometimes images are really big\n",
    "Image.MAX_IMAGE_PIXELS = 1000000000 "
   ]
  },
  {
   "cell_type": "code",
   "execution_count": 2,
   "id": "22aa9d44",
   "metadata": {
    "execution": {
     "iopub.execute_input": "2024-09-20T04:10:15.267571Z",
     "iopub.status.busy": "2024-09-20T04:10:15.267282Z",
     "iopub.status.idle": "2024-09-20T04:10:15.272507Z",
     "shell.execute_reply": "2024-09-20T04:10:15.271961Z"
    },
    "papermill": {
     "duration": 0.010001,
     "end_time": "2024-09-20T04:10:15.273496",
     "exception": false,
     "start_time": "2024-09-20T04:10:15.263495",
     "status": "completed"
    },
    "tags": []
   },
   "outputs": [],
   "source": [
    "# Some useful definitions.\n",
    "\n",
    "class AffiliationWarning(UserWarning):\n",
    "    pass\n",
    "\n",
    "class AffiliationError(RuntimeError):\n",
    "    pass\n",
    "\n",
    "def validation(source: str):\n",
    "    \"\"\"Raises error paper during parsing of source file\n",
    "    \n",
    "    Allows checks before parsing TeX code.\n",
    "    \n",
    "    Raises AffiliationWarning\n",
    "    \"\"\"\n",
    "    check = mpia.affiliation_verifications(source, verbose=True)\n",
    "    if check is not True:\n",
    "        raise AffiliationError(\"mpia.affiliation_verifications: \" + check)\n",
    "\n",
    "        \n",
    "warnings.simplefilter('always', AffiliationWarning)\n",
    "\n",
    "\n",
    "def get_markdown_qrcode(paper_id: str):\n",
    "    \"\"\" Generate a qrcode to the arxiv page using qrserver.com\n",
    "    \n",
    "    :param paper: Arxiv paper\n",
    "    :returns: markdown text\n",
    "    \"\"\"\n",
    "    url = r\"https://api.qrserver.com/v1/create-qr-code/?size=100x100&data=\"\n",
    "    txt = f\"\"\"<img src={url}\"https://arxiv.org/abs/{paper_id}\">\"\"\"\n",
    "    txt = '<div id=\"qrcode\">' + txt + '</div>'\n",
    "    return txt"
   ]
  },
  {
   "cell_type": "markdown",
   "id": "14bd6310",
   "metadata": {
    "papermill": {
     "duration": 0.003013,
     "end_time": "2024-09-20T04:10:15.279569",
     "exception": false,
     "start_time": "2024-09-20T04:10:15.276556",
     "status": "completed"
    },
    "tags": []
   },
   "source": [
    "## get list of arxiv paper candidates\n",
    "\n",
    "We use the MPIA mitarbeiter list webpage from mpia.de to get author names\n",
    "We then get all new papers from Arxiv and match authors"
   ]
  },
  {
   "cell_type": "code",
   "execution_count": 3,
   "id": "7ea813a8",
   "metadata": {
    "execution": {
     "iopub.execute_input": "2024-09-20T04:10:15.286711Z",
     "iopub.status.busy": "2024-09-20T04:10:15.286286Z",
     "iopub.status.idle": "2024-09-20T04:10:31.572645Z",
     "shell.execute_reply": "2024-09-20T04:10:31.571884Z"
    },
    "papermill": {
     "duration": 16.291448,
     "end_time": "2024-09-20T04:10:31.574020",
     "exception": false,
     "start_time": "2024-09-20T04:10:15.282572",
     "status": "completed"
    },
    "tags": []
   },
   "outputs": [],
   "source": [
    "# deal with the author list and edge cases of people that cannot be consistent on their name  \n",
    "\n",
    "def filter_non_scientists(name: str) -> bool:\n",
    "    \"\"\" Loose filter on expected authorships\n",
    "\n",
    "    removing IT, administration, technical staff\n",
    "    :param name: name\n",
    "    :returns: False if name is not a scientist\n",
    "    \"\"\"\n",
    "    remove_list = ['Wolf', 'Licht', 'Binroth', 'Witzel', 'Jordan',\n",
    "                   'Zähringer', 'Scheerer', 'Hoffmann', 'Düe',\n",
    "                   'Hellmich', 'Enkler-Scharpegge', 'Witte-Nguy',\n",
    "                   'Dehen', 'Beckmann', 'Jager', 'Jäger'\n",
    "                  ]\n",
    "\n",
    "    for k in remove_list:\n",
    "        if k in name:\n",
    "            return False\n",
    "    return True\n",
    "\n",
    "def add_author_to_list(author_list: list) -> list:\n",
    "    \"\"\" Add author to list if not already in list\n",
    "    \n",
    "    :param author: author name\n",
    "    :param author_list: list of authors\n",
    "    :returns: updated list of authors\n",
    "    \"\"\"\n",
    "    add_list = ['T. Henning']\n",
    "\n",
    "    for author in add_list:\n",
    "        if author not in author_list:\n",
    "            author_list.append(author)\n",
    "    return author_list\n",
    "\n",
    "# get list from MPIA website\n",
    "# filter for non-scientists (mpia.get_mpia_mitarbeiter_list() does some filtering)\n",
    "mpia_authors = [k[1] for k in mpia.get_mpia_mitarbeiter_list() if filter_non_scientists(k[1])]\n",
    "# add some missing author because of inconsistencies in their MPIA name and author name on papers\n",
    "mpia_authors = add_author_to_list(mpia_authors)"
   ]
  },
  {
   "cell_type": "code",
   "execution_count": 4,
   "id": "2645e73a",
   "metadata": {
    "execution": {
     "iopub.execute_input": "2024-09-20T04:10:31.582693Z",
     "iopub.status.busy": "2024-09-20T04:10:31.582009Z",
     "iopub.status.idle": "2024-09-20T04:10:32.144242Z",
     "shell.execute_reply": "2024-09-20T04:10:32.143583Z"
    },
    "papermill": {
     "duration": 0.567356,
     "end_time": "2024-09-20T04:10:32.145337",
     "exception": false,
     "start_time": "2024-09-20T04:10:31.577981",
     "status": "completed"
    },
    "tags": []
   },
   "outputs": [
    {
     "name": "stdout",
     "output_type": "stream",
     "text": [
      "P. Garcia  ->  A. P. Garcia  |  ['P. Garcia']\n",
      "L. Kreidberg  ->  L. Kreidberg  |  ['L. Kreidberg']\n",
      "A. d. Graaff  ->  A. D. Graaff  |  ['A. D. Graaff']\n",
      "P. Garcia  ->  A. P. Garcia  |  ['P. Garcia']\n",
      "S. Scheithauer  ->  S. Scheithauer  |  ['S. Scheithauer']\n",
      "J. Müller  ->  J. Müller-Horn  |  ['J. Müller']\n",
      "Arxiv has 49 new papers today\n",
      "          4 with possible author matches\n"
     ]
    }
   ],
   "source": [
    "new_papers = get_new_papers()\n",
    "# add manual references\n",
    "add_paper_refs = []\n",
    "new_papers.extend([get_paper_from_identifier(k) for k in add_paper_refs])\n",
    "\n",
    "candidates = []\n",
    "for paperk in new_papers:\n",
    "    # Check author list with their initials\n",
    "    normed_author_list = [mpia.get_initials(k) for k in paperk['authors']]\n",
    "    hl_authors = highlight_authors_in_list(normed_author_list, mpia_authors, verbose=True)\n",
    "    matches = [(hl, orig) for hl, orig in zip(hl_authors, paperk['authors']) if 'mark' in hl]\n",
    "    paperk['authors'] = hl_authors\n",
    "    if matches:\n",
    "        # only select paper if an author matched our list\n",
    "        candidates.append(paperk)\n",
    "print(\"\"\"Arxiv has {0:,d} new papers today\"\"\".format(len(new_papers)))        \n",
    "print(\"\"\"          {0:,d} with possible author matches\"\"\".format(len(candidates)))"
   ]
  },
  {
   "cell_type": "markdown",
   "id": "3543b34a",
   "metadata": {
    "papermill": {
     "duration": 0.00308,
     "end_time": "2024-09-20T04:10:32.151974",
     "exception": false,
     "start_time": "2024-09-20T04:10:32.148894",
     "status": "completed"
    },
    "tags": []
   },
   "source": [
    "# Parse sources and generate relevant outputs\n",
    "\n",
    "From the candidates, we do the following steps:\n",
    "* get their tarball from ArXiv (and extract data)\n",
    "* find the main .tex file: find one with \\documentclass{...} (sometimes it's non trivial)\n",
    "* Check affiliations with :func:`validation`, which uses :func:`mpia.affiliation_verifications`\n",
    "* If passing the affiliations: we parse the .tex source\n",
    "   * inject sub-documents into the main (flatten the main document)\n",
    "   * parse structure, extract information (title, abstract, authors, figures...)\n",
    "   * handles `\\graphicspath` if provided\n",
    "* Generate the .md document."
   ]
  },
  {
   "cell_type": "code",
   "execution_count": 5,
   "id": "9576b79e",
   "metadata": {
    "execution": {
     "iopub.execute_input": "2024-09-20T04:10:32.159312Z",
     "iopub.status.busy": "2024-09-20T04:10:32.158852Z",
     "iopub.status.idle": "2024-09-20T04:10:53.495644Z",
     "shell.execute_reply": "2024-09-20T04:10:53.494831Z"
    },
    "papermill": {
     "duration": 21.341737,
     "end_time": "2024-09-20T04:10:53.496824",
     "exception": false,
     "start_time": "2024-09-20T04:10:32.155087",
     "status": "completed"
    },
    "scrolled": false,
    "tags": []
   },
   "outputs": [
    {
     "data": {
      "application/vnd.jupyter.widget-view+json": {
       "model_id": "d54effc37431417e9ed8e50f1d709714",
       "version_major": 2,
       "version_minor": 0
      },
      "text/plain": [
       "  0%|          | 0/4 [00:00<?, ?it/s]"
      ]
     },
     "metadata": {},
     "output_type": "display_data"
    },
    {
     "name": "stdout",
     "output_type": "stream",
     "text": [
      "Retrieving document from  https://arxiv.org/e-print/2409.12227\n",
      "extracting tarball to tmp_2409.12227..."
     ]
    },
    {
     "name": "stdout",
     "output_type": "stream",
     "text": [
      " done.\n"
     ]
    },
    {
     "name": "stdout",
     "output_type": "stream",
     "text": [
      "P. Garcia  ->  A. P. Garcia  |  ['P. Garcia']\n",
      "L. Kreidberg  ->  L. Kreidberg  |  ['L. Kreidberg']\n",
      "J. Sauter  ->  J. Sauter  |  ['J. Sauter']\n"
     ]
    },
    {
     "name": "stdout",
     "output_type": "stream",
     "text": [
      "Found 55 bibliographic references in tmp_2409.12227/pap.bbl.\n",
      "Retrieving document from  https://arxiv.org/e-print/2409.12232\n"
     ]
    },
    {
     "name": "stdout",
     "output_type": "stream",
     "text": [
      "extracting tarball to tmp_2409.12232... done.\n"
     ]
    },
    {
     "name": "stderr",
     "output_type": "stream",
     "text": [
      "/tmp/ipykernel_2699/1211882699.py:51: LatexWarning: 2409.12232 did not run properly\n",
      "bad escape \\i at position 36\n",
      "  warnings.warn(latex.LatexWarning(f\"{paper_id:s} did not run properly\\n\" +\n"
     ]
    },
    {
     "name": "stdout",
     "output_type": "stream",
     "text": [
      "Retrieving document from  https://arxiv.org/e-print/2409.12261\n",
      "extracting tarball to tmp_2409.12261... done.\n"
     ]
    },
    {
     "name": "stdout",
     "output_type": "stream",
     "text": [
      "P. Garcia  ->  A. P. Garcia  |  ['P. Garcia']\n",
      "T. Henning  ->  T. Henning  |  ['T. Henning']\n",
      "S. Scheithauer  ->  S. Scheithauer  |  ['S. Scheithauer']\n"
     ]
    },
    {
     "name": "stdout",
     "output_type": "stream",
     "text": [
      "Found 60 bibliographic references in tmp_2409.12261/aa_submission.bbl.\n",
      "syntax error in line 5: unbalanced braces\n",
      "Retrieving document from  https://arxiv.org/e-print/2409.12692\n",
      "extracting tarball to tmp_2409.12692... done.\n"
     ]
    }
   ],
   "source": [
    "documents = []\n",
    "failed = []\n",
    "for paper in tqdm(candidates):\n",
    "    # debug crap\n",
    "    paper['identifier'] = paper['identifier'].lower().replace('arxiv:', '').replace(r'\\n', '').strip()\n",
    "    paper_id = paper['identifier']\n",
    "    \n",
    "    folder = f'tmp_{paper_id}'\n",
    "\n",
    "    try:\n",
    "        if not os.path.isdir(folder):\n",
    "            folder = retrieve_document_source(f\"{paper_id}\", f'tmp_{paper_id}')\n",
    "        \n",
    "        try:\n",
    "            doc = latex.LatexDocument(folder, validation=validation)    \n",
    "        except AffiliationError as affilerror:\n",
    "            msg = f\"ArXiv:{paper_id:s} is not an MPIA paper... \" + str(affilerror)\n",
    "            failed.append((paper, \"affiliation error: \" + str(affilerror) ))\n",
    "            continue\n",
    "        \n",
    "        # Hack because sometimes author parsing does not work well\n",
    "        if (len(doc.authors) != len(paper['authors'])):\n",
    "            doc._authors = paper['authors']\n",
    "        else:\n",
    "            # highlight authors (FIXME: doc.highlight_authors)\n",
    "            # done on arxiv paper already\n",
    "            doc._authors = highlight_authors_in_list(\n",
    "                [mpia.get_initials(k) for k in doc.authors], \n",
    "                mpia_authors, verbose=True)\n",
    "        if (doc.abstract) in (None, ''):\n",
    "            doc._abstract = paper['abstract']\n",
    "            \n",
    "        doc.comment = (get_markdown_badge(paper_id) + \n",
    "                       \"<mark>Appeared on: \" + paper['date'] + \"</mark> - \")\n",
    "        if paper['comments']:\n",
    "            doc.comment += \" _\" + paper['comments'] + \"_\"\n",
    "        \n",
    "        full_md = doc.generate_markdown_text()\n",
    "        \n",
    "        full_md += get_markdown_qrcode(paper_id)\n",
    "        \n",
    "        # replace citations\n",
    "        try:\n",
    "            bibdata = latex_bib.LatexBib.from_doc(doc)\n",
    "            full_md = latex_bib.replace_citations(full_md, bibdata)\n",
    "        except Exception as e:\n",
    "            print(e)\n",
    "        \n",
    "        documents.append((paper_id, full_md))\n",
    "    except Exception as e:\n",
    "        warnings.warn(latex.LatexWarning(f\"{paper_id:s} did not run properly\\n\" +\n",
    "                                         str(e)\n",
    "                                        ))\n",
    "        failed.append((paper, \"latex error \" + str(e)))"
   ]
  },
  {
   "cell_type": "markdown",
   "id": "2505a25c",
   "metadata": {
    "papermill": {
     "duration": 0.003762,
     "end_time": "2024-09-20T04:10:53.504615",
     "exception": false,
     "start_time": "2024-09-20T04:10:53.500853",
     "status": "completed"
    },
    "tags": []
   },
   "source": [
    "### Export the logs\n",
    "\n",
    "Throughout, we also keep track of the logs per paper. see `logs-{today date}.md` "
   ]
  },
  {
   "cell_type": "code",
   "execution_count": 6,
   "id": "d733828a",
   "metadata": {
    "execution": {
     "iopub.execute_input": "2024-09-20T04:10:53.513162Z",
     "iopub.status.busy": "2024-09-20T04:10:53.512841Z",
     "iopub.status.idle": "2024-09-20T04:10:53.529268Z",
     "shell.execute_reply": "2024-09-20T04:10:53.528701Z"
    },
    "papermill": {
     "duration": 0.021995,
     "end_time": "2024-09-20T04:10:53.530257",
     "exception": false,
     "start_time": "2024-09-20T04:10:53.508262",
     "status": "completed"
    },
    "scrolled": false,
    "tags": []
   },
   "outputs": [
    {
     "data": {
      "text/markdown": [
       "## Successful papers"
      ],
      "text/plain": [
       "<IPython.core.display.Markdown object>"
      ]
     },
     "metadata": {},
     "output_type": "display_data"
    },
    {
     "data": {
      "text/markdown": [
       "\n",
       "|||\n",
       "|---:|:---|\n",
       "| [![arXiv](https://img.shields.io/badge/arXiv-2409.12227-b31b1b.svg)](https://arxiv.org/abs/2409.12227) | **Observations of microlensed images with dual-field interferometry: on-sky demonstration and prospects**  |\n",
       "|| P. Mroz, et al. -- incl., <mark>P. Garcia</mark>, <mark>L. Kreidberg</mark> |\n",
       "|*Appeared on*| *2024-09-20*|\n",
       "|*Comments*| *submitted to AAS Journals*|\n",
       "|**Abstract**|            Interferometric observations of gravitational microlensing events offer an opportunity for precise, efficient, and direct mass and distance measurements of lensing objects, especially those of isolated neutron stars and black holes. However, such observations were previously possible for only a handful of extremely bright events. The recent development of a dual-field interferometer, GRAVITY Wide, has made it possible to reach out to significantly fainter objects, and increase the pool of microlensing events amenable to interferometric observations by two orders of magnitude. Here, we present the first successful observation of a microlensing event with GRAVITY Wide and the resolution of microlensed images in the event OGLE-2023-BLG-0061/KMT-2023-BLG-0496. We measure the angular Einstein radius of the lens with a sub-percent precision, $\\theta_{\\rm E} = 1.280 \\pm 0.009$ mas. Combined with the microlensing parallax detected from the event light curve, the mass and distance to the lens are found to be $0.472 \\pm 0.012 M_{\\odot}$ and $1.81 \\pm 0.05$ kpc, respectively. We present the procedure for the selection of targets for interferometric observations, and discuss possible systematic effects affecting GRAVITY Wide data. This detection demonstrates the capabilities of the new instrument and it opens up completely new possibilities for the follow-up of microlensing events, and future routine discoveries of isolated neutron stars and black holes.         |"
      ],
      "text/plain": [
       "[2409.12227] Observations of microlensed images with dual-field interferometry: on-sky demonstration and prospects\n",
       "\tP. Mroz, et al. -- incl., <mark>P. Garcia</mark>, <mark>L. Kreidberg</mark>"
      ]
     },
     "metadata": {},
     "output_type": "display_data"
    },
    {
     "data": {
      "text/markdown": [
       "\n",
       "|||\n",
       "|---:|:---|\n",
       "| [![arXiv](https://img.shields.io/badge/arXiv-2409.12261-b31b1b.svg)](https://arxiv.org/abs/2409.12261) | **Improving constraints on the extended mass distribution in the Galactic Center with stellar orbits**  |\n",
       "|| G. Collaboration, et al. -- incl., <mark>P. Garcia</mark>, <mark>S. Scheithauer</mark> |\n",
       "|*Appeared on*| *2024-09-20*|\n",
       "|*Comments*| *Submitted to A&A on September 17, 2024*|\n",
       "|**Abstract**|            Studying the orbital motion of stars around Sagittarius A* in the Galactic Center provides a unique opportunity to probe the gravitational potential near the supermassive black hole at the heart of our Galaxy. Interferometric data obtained with the GRAVITY instrument at the Very Large Telescope Interferometer (VLTI) since 2016 has allowed us to achieve unprecedented precision in tracking the orbits of these stars. GRAVITY data have been key to detecting the in-plane, prograde Schwarzschild precession of the orbit of the star S2, as predicted by General Relativity. By combining astrometric and spectroscopic data from multiple stars, including S2, S29, S38, and S55 - for which we have data around their time of pericenter passage with GRAVITY - we can now strengthen the significance of this detection to an approximately $10 \\sigma$ confidence level. The prograde precession of S2's orbit provides valuable insights into the potential presence of an extended mass distribution surrounding Sagittarius A*, which could consist of a dynamically relaxed stellar cusp comprised of old stars and stellar remnants, along with a possible dark matter spike. Our analysis, based on two plausible density profiles - a power-law and a Plummer profile - constrains the enclosed mass within the orbit of S2 to be consistent with zero, establishing an upper limit of approximately $1200 \\, M_\\odot$ with a $1 \\sigma$ confidence level. This significantly improves our constraints on the mass distribution in the Galactic Center. Our upper limit is very close to the expected value from numerical simulations for a stellar cusp in the Galactic Center, leaving little room for a significant enhancement of dark matter density near Sagittarius A*.         |"
      ],
      "text/plain": [
       "[2409.12261] Improving constraints on the extended mass distribution in the Galactic Center with stellar orbits\n",
       "\tG. Collaboration, et al. -- incl., <mark>P. Garcia</mark>, <mark>S. Scheithauer</mark>"
      ]
     },
     "metadata": {},
     "output_type": "display_data"
    },
    {
     "data": {
      "text/markdown": [
       "## Failed papers"
      ],
      "text/plain": [
       "<IPython.core.display.Markdown object>"
      ]
     },
     "metadata": {},
     "output_type": "display_data"
    },
    {
     "data": {
      "text/markdown": [
       "\n",
       "|||\n",
       "|---:|:---|\n",
       "| [![arXiv](https://img.shields.io/badge/arXiv-2409.12692-b31b1b.svg)](https://arxiv.org/abs/2409.12692) | **The radial modes of stars with suppressed dipole modes**  |\n",
       "|| Q. Coppée, <mark>J. Müller</mark>, M. Bazot, S. Hekker |\n",
       "|*Appeared on*| *2024-09-20*|\n",
       "|*Comments*| *Accepted for publication in A&A*|\n",
       "|**Abstract**|            The Kepler space mission provided high-quality light curves for more than 16 000 red giants. The global stellar oscillations extracted from these light curves carry information about the interior of the stars. Several hundred red giants were found to have low amplitudes in their dipole modes (i.e. they are suppressed dipole-mode stars). A number of hypotheses (involving e.g. a magnetic field, binarity, or resonant mode coupling) have been proposed to explain the suppression of the modes, yet none has been confirmed. We aim to gain insight into the mechanism at play in suppressed dipole-mode stars by investigating the mode properties (linewidths, heights, and amplitudes) of the radial oscillation modes of red giants with suppressed dipole modes. We selected from the literature suppressed dipole-mode stars and compared the radial-mode properties of these stars to the radial-mode properties of stars in two control samples of stars with typical (i.e. non-suppressed) dipole modes. We find that the radial-mode properties of the suppressed dipole-mode stars are consistent with the ones in our control samples, and hence not affected by the suppression mechanism. From this we conclude that (1) the balance between the excitation and damping in radial modes is unaffected by the suppression, and by extrapolation the excitation of the non-radial modes is not affected either; and (2) the damping of the radial modes induced by the suppression mechanism is significantly less than the damping from turbulent convective motion, suggesting that the additional damping originates from the more central non-convective regions of the star, to which the radial modes are least sensitive.         |\n",
       "|<p style=\"color:green\"> **ERROR** </p>| <p style=\"color:green\">affiliation error: mpia.affiliation_verifications: 'Planck' keyword not found.</p> |"
      ],
      "text/plain": [
       "<IPython.core.display.Markdown object>"
      ]
     },
     "metadata": {},
     "output_type": "display_data"
    },
    {
     "data": {
      "text/markdown": [
       "\n",
       "|||\n",
       "|---:|:---|\n",
       "| [![arXiv](https://img.shields.io/badge/arXiv-2409.12232-b31b1b.svg)](https://arxiv.org/abs/2409.12232) | **UNCOVERing the High-Redshift AGN Population Among Extreme UV Line Emitters**  |\n",
       "|| H. Treiber, et al. -- incl., <mark>A. d. Graaff</mark> |\n",
       "|*Appeared on*| *2024-09-20*|\n",
       "|*Comments*| *Submitted to ApJ*|\n",
       "|**Abstract**|            JWST has revealed diverse new populations of high-redshift ($z\\sim4-11$) AGN and extreme star-forming galaxies that challenge current models. In this paper, we use rest-frame UV emission-line diagnostics to identify AGN candidates and other exceptional ionizing sources, complementing previous studies predominantly focused on broad-line AGN. In this paper, we use rest-frame UV emission-line diagnostics to identify AGN candidates and other exceptional ionizing sources, complementing previous studies predominantly focused on broad-line AGN. From a parent sample of 205 $\\mathrm{z_{spec}}>3$ UNCOVER galaxies with NIRSpec/PRISM follow-up, we identify 12 C IV, He II, and C III] emitters. Leveraging the combined rest-optical and UV coverage of PRISM, we limit the emission-line model space using the sample's [O III]/H$\\beta$ distribution, significantly decreasing the overlap between AGN and star-formation models in the UV diagnostics. We then find that the five He II emitters are the strongest AGN candidates, with further support from two [Ne V] detections and one X-ray detection from Chandra. We cannot robustly quantify the AGN fraction in this sample, but we note that close to 20% of $\\mathrm{M_{*}>2\\times10^{9}\\,M_{\\odot}}$ parent sample galaxies are AGN candidates. The lower-mass line emitters, which are consistent with both AGN and star-forming photoionization models, have more compact sizes and higher specific star formation rates than the parent sample. Higher-resolution and deeper data on these UV line emitters should provide much stronger constraints on the obscured AGN fraction at $z > 3$.         |\n",
       "|<p style=\"color:red\"> **ERROR** </p>| <p style=\"color:red\">latex error bad escape \\i at position 36</p> |"
      ],
      "text/plain": [
       "<IPython.core.display.Markdown object>"
      ]
     },
     "metadata": {},
     "output_type": "display_data"
    }
   ],
   "source": [
    "import datetime\n",
    "today = str(datetime.date.today())\n",
    "logfile = f\"_build/html/logs/log-{today}.md\"\n",
    "\n",
    "\n",
    "with open(logfile, 'w') as logs:\n",
    "    # Success\n",
    "    logs.write(f'# Arxiv on Deck 2: Logs - {today}\\n\\n')\n",
    "    logs.write(\"\"\"* Arxiv had {0:,d} new papers\\n\"\"\".format(len(new_papers)))\n",
    "    logs.write(\"\"\"    * {0:,d} with possible author matches\\n\\n\"\"\".format(len(candidates)))\n",
    "    logs.write(\"## Sucessful papers\\n\\n\")\n",
    "    display(Markdown(\"## Successful papers\"))\n",
    "    success = [k[0] for k in documents]\n",
    "    for candid in candidates:\n",
    "        if candid['identifier'].split(':')[-1] in success:\n",
    "            display(candid)\n",
    "            logs.write(candid.generate_markdown_text() + '\\n\\n')\n",
    "\n",
    "    ## failed\n",
    "    logs.write(\"## Failed papers\\n\\n\")\n",
    "    display(Markdown(\"## Failed papers\"))\n",
    "    failed = sorted(failed, key=lambda x: x[1])\n",
    "    current_reason = \"\"\n",
    "    for paper, reason in failed:\n",
    "        if 'affiliation' in reason:\n",
    "            color = 'green'\n",
    "        else:\n",
    "            color = 'red'\n",
    "        data = Markdown(\n",
    "                paper.generate_markdown_text() + \n",
    "                f'\\n|<p style=\"color:{color:s}\"> **ERROR** </p>| <p style=\"color:{color:s}\">{reason:s}</p> |'\n",
    "               )\n",
    "        if reason != current_reason:\n",
    "            logs.write(f'### {reason:s} \\n\\n')\n",
    "            current_reason = reason\n",
    "        logs.write(data.data + '\\n\\n')\n",
    "        \n",
    "        # only display here the important errors (all in logs)\n",
    "        # if color in ('red',):\n",
    "        display(data)"
   ]
  },
  {
   "cell_type": "markdown",
   "id": "472d20ee",
   "metadata": {
    "papermill": {
     "duration": 0.004284,
     "end_time": "2024-09-20T04:10:53.539136",
     "exception": false,
     "start_time": "2024-09-20T04:10:53.534852",
     "status": "completed"
    },
    "tags": []
   },
   "source": [
    "## Export documents\n",
    "\n",
    "We now write the .md files and export relevant images"
   ]
  },
  {
   "cell_type": "code",
   "execution_count": 7,
   "id": "d426aed9",
   "metadata": {
    "execution": {
     "iopub.execute_input": "2024-09-20T04:10:53.549540Z",
     "iopub.status.busy": "2024-09-20T04:10:53.548900Z",
     "iopub.status.idle": "2024-09-20T04:10:53.556388Z",
     "shell.execute_reply": "2024-09-20T04:10:53.555789Z"
    },
    "papermill": {
     "duration": 0.013821,
     "end_time": "2024-09-20T04:10:53.557421",
     "exception": false,
     "start_time": "2024-09-20T04:10:53.543600",
     "status": "completed"
    },
    "tags": []
   },
   "outputs": [],
   "source": [
    "def export_markdown_summary(md: str, md_fname:str, directory: str):\n",
    "    \"\"\"Export MD document and associated relevant images\"\"\"\n",
    "    import os\n",
    "    import shutil\n",
    "    import re\n",
    "\n",
    "    if (os.path.exists(directory) and not os.path.isdir(directory)):\n",
    "        raise RuntimeError(f\"a non-directory file exists with name {directory:s}\")\n",
    "\n",
    "    if (not os.path.exists(directory)):\n",
    "        print(f\"creating directory {directory:s}\")\n",
    "        os.mkdir(directory)\n",
    "\n",
    "    fig_fnames = (re.compile(r'\\[Fig.*\\]\\((.*)\\)').findall(md) + \n",
    "                  re.compile(r'\\<img src=\"([^>\\s]*)\"[^>]*/>').findall(md))\n",
    "    print(\"found figures\", fig_fnames)\n",
    "    for fname in fig_fnames:\n",
    "        if 'http' in fname:\n",
    "            # No need to copy online figures\n",
    "            continue\n",
    "        if not os.path.exists(fname):\n",
    "            print(\"file not found\", fname)\n",
    "            continue\n",
    "        print(\"copying \", fname, \"to\", directory)\n",
    "        destdir = os.path.join(directory, os.path.dirname(fname))\n",
    "        destfname = os.path.join(destdir, os.path.basename(fname))\n",
    "        try:\n",
    "            os.makedirs(destdir)\n",
    "        except FileExistsError:\n",
    "            pass\n",
    "        shutil.copy(fname, destfname)\n",
    "    with open(os.path.join(directory, md_fname), 'w') as fout:\n",
    "        fout.write(md)\n",
    "    print(\"exported in \", os.path.join(directory, md_fname))\n",
    "    [print(\"    + \" + os.path.join(directory,fk)) for fk in fig_fnames]"
   ]
  },
  {
   "cell_type": "code",
   "execution_count": 8,
   "id": "014d04a4",
   "metadata": {
    "execution": {
     "iopub.execute_input": "2024-09-20T04:10:53.567730Z",
     "iopub.status.busy": "2024-09-20T04:10:53.567255Z",
     "iopub.status.idle": "2024-09-20T04:10:53.574202Z",
     "shell.execute_reply": "2024-09-20T04:10:53.573595Z"
    },
    "papermill": {
     "duration": 0.013219,
     "end_time": "2024-09-20T04:10:53.575225",
     "exception": false,
     "start_time": "2024-09-20T04:10:53.562006",
     "status": "completed"
    },
    "tags": []
   },
   "outputs": [
    {
     "name": "stdout",
     "output_type": "stream",
     "text": [
      "found figures ['tmp_2409.12227/./events_cdf.png', 'tmp_2409.12227/./parallaxes.png', 'tmp_2409.12227/./cp_epoch1.png']\n",
      "copying  tmp_2409.12227/./events_cdf.png to _build/html/\n",
      "copying  tmp_2409.12227/./parallaxes.png to _build/html/\n",
      "copying  tmp_2409.12227/./cp_epoch1.png to _build/html/\n",
      "exported in  _build/html/2409.12227.md\n",
      "    + _build/html/tmp_2409.12227/./events_cdf.png\n",
      "    + _build/html/tmp_2409.12227/./parallaxes.png\n",
      "    + _build/html/tmp_2409.12227/./cp_epoch1.png\n",
      "found figures ['tmp_2409.12261/./orbits.png', 'tmp_2409.12261/./s2_simu_plot.png', 'tmp_2409.12261/./4s_enclmass_pow.png', 'tmp_2409.12261/./4s_enclmass_plum.png']\n",
      "copying  tmp_2409.12261/./orbits.png to _build/html/\n",
      "copying  tmp_2409.12261/./s2_simu_plot.png to _build/html/\n",
      "copying  tmp_2409.12261/./4s_enclmass_pow.png to _build/html/\n",
      "copying  tmp_2409.12261/./4s_enclmass_plum.png to _build/html/\n",
      "exported in  _build/html/2409.12261.md\n",
      "    + _build/html/tmp_2409.12261/./orbits.png\n",
      "    + _build/html/tmp_2409.12261/./s2_simu_plot.png\n",
      "    + _build/html/tmp_2409.12261/./4s_enclmass_pow.png\n",
      "    + _build/html/tmp_2409.12261/./4s_enclmass_plum.png\n"
     ]
    }
   ],
   "source": [
    "for paper_id, md in documents:\n",
    "    export_markdown_summary(md, f\"{paper_id:s}.md\", '_build/html/')"
   ]
  },
  {
   "cell_type": "markdown",
   "id": "f087a0a7",
   "metadata": {
    "papermill": {
     "duration": 0.004357,
     "end_time": "2024-09-20T04:10:53.584196",
     "exception": false,
     "start_time": "2024-09-20T04:10:53.579839",
     "status": "completed"
    },
    "tags": []
   },
   "source": [
    "## Display the papers\n",
    "\n",
    "Not necessary but allows for a quick check."
   ]
  },
  {
   "cell_type": "code",
   "execution_count": 9,
   "id": "fd25f625",
   "metadata": {
    "execution": {
     "iopub.execute_input": "2024-09-20T04:10:53.594297Z",
     "iopub.status.busy": "2024-09-20T04:10:53.593952Z",
     "iopub.status.idle": "2024-09-20T04:10:53.600388Z",
     "shell.execute_reply": "2024-09-20T04:10:53.599814Z"
    },
    "papermill": {
     "duration": 0.012758,
     "end_time": "2024-09-20T04:10:53.601405",
     "exception": false,
     "start_time": "2024-09-20T04:10:53.588647",
     "status": "completed"
    },
    "scrolled": false,
    "tags": []
   },
   "outputs": [
    {
     "data": {
      "text/markdown": [
       "<div class=\"macros\" style=\"visibility:hidden;\">\n",
       "$\\newcommand{\\ensuremath}{}$\n",
       "$\\newcommand{\\xspace}{}$\n",
       "$\\newcommand{\\object}[1]{\\texttt{#1}}$\n",
       "$\\newcommand{\\farcs}{{.}''}$\n",
       "$\\newcommand{\\farcm}{{.}'}$\n",
       "$\\newcommand{\\arcsec}{''}$\n",
       "$\\newcommand{\\arcmin}{'}$\n",
       "$\\newcommand{\\ion}[2]{#1#2}$\n",
       "$\\newcommand{\\textsc}[1]{\\textrm{#1}}$\n",
       "$\\newcommand{\\hl}[1]{\\textrm{#1}}$\n",
       "$\\newcommand{\\footnote}[1]{}$\n",
       "$\\newcommand{\\vdag}{(v)^\\dagger}$\n",
       "$\\newcommand$\n",
       "$\\newcommand$\n",
       "$\\newcommand{\\ra}[4]{{#1}^{\\rm h}{#2}^{\\rm m}{#3}\\fs{#4}}$\n",
       "$\\newcommand{\\dec}[4]{{#1}\\arcdeg{#2}\\arcmin{#3}\\farcs{#4}}$\n",
       "$\\newcommand{\\rashort}[3]{{#1}^{\\rm h}{#2}^{\\rm m}{#3}^{\\rm s}}$\n",
       "$\\newcommand{\\decshort}[3]{{#1}\\arcdeg{#2}\\arcmin{#3}\\arcsec}$\n",
       "$\\newcommand$\n",
       "$\\newcommand$\n",
       "$\\newcommand$\n",
       "$\\newcommand$\n",
       "$\\newcommand$\n",
       "$\\newcommand$\n",
       "$\\newcommand$\n",
       "$\\newcommand$\n",
       "$\\newcommand$\n",
       "$\\newcommand$\n",
       "$\\newcommand$\n",
       "$\\newcommand$\n",
       "$\\newcommand$\n",
       "$\\newcommand$\n",
       "$\\newcommand$\n",
       "$\\newcommand$\n",
       "$\\newcommand$\n",
       "$\\newcommand$\n",
       "$\\newcommand$\n",
       "$\\newcommand$\n",
       "$\\newcommand$\n",
       "$\\newcommand$\n",
       "$\\newcommand$\n",
       "$\\newcommand$\n",
       "$\\newcommand$\n",
       "$\\newcommand$\n",
       "$\\newcommand$\n",
       "$\\newcommand$</div>\n",
       "\n",
       "\n",
       "\n",
       "<div id=\"title\">\n",
       "\n",
       "# Observations of microlensed images with dual-field interferometry: on-sky demonstration and prospects\n",
       "\n",
       "</div>\n",
       "<div id=\"comments\">\n",
       "\n",
       "[![arXiv](https://img.shields.io/badge/arXiv-2409.12227-b31b1b.svg)](https://arxiv.org/abs/2409.12227)<mark>Appeared on: 2024-09-20</mark> -  _submitted to AAS Journals_\n",
       "\n",
       "</div>\n",
       "<div id=\"authors\">\n",
       "\n",
       "P. Mróz, et al. -- incl., <mark>P. Garcia</mark>, <mark>L. Kreidberg</mark>, <mark>J. Sauter</mark>\n",
       "\n",
       "</div>\n",
       "<div id=\"abstract\">\n",
       "\n",
       "**Abstract:** Interferometric observations of gravitational microlensing events offer an opportunity for precise, efficient, and direct mass and distance measurements of lensing objects, especially those of isolated neutron stars and black holes. However, such observations were previously possible for only a handful of extremely bright events. The recent development of a dual-field interferometer, GRAVITY Wide, has made it possible to reach out to significantly fainter objects, and increase the pool of microlensing events amenable to interferometric observations by two orders of magnitude. Here, we present the first successful observation of a microlensing event with GRAVITY Wide and the resolution of microlensed images in the event OGLE-2023-BLG-0061/KMT-2023-BLG-0496. We measure the angular Einstein radius of the lens with a sub-percent precision, $\\thetaE = 1.280 \\pm 0.009$ mas. Combined with the microlensing parallax detected from the event light curve, the mass and distance to the lens are found to be $0.472 \\pm 0.012 M_{\\odot}$ and $1.81 \\pm 0.05$ kpc, respectively. We present the procedure for the selection of targets for interferometric observations, and discuss possible systematic effects affecting GRAVITY Wide data. This detection demonstrates the capabilities of the new instrument and it opens up completely new possibilities for the follow-up of microlensing events, and future routine discoveries of isolated neutron stars and black holes.\n",
       "\n",
       "</div>\n",
       "\n",
       "<div id=\"div_fig1\">\n",
       "\n",
       "<img src=\"tmp_2409.12227/./events_cdf.png\" alt=\"Fig1\" width=\"100%\"/>\n",
       "\n",
       "**Figure 1. -** Cumulative distribution of the expected $K$-band peak magnitudes of events detected by the OGLE EWS in 2023 (blue line). For comparison, the red line shows the cumulative distribution of the $K$-band magnitudes of the brightest star within $30\"$ of the event (fringe-tracking star). Only events with $\\tE \\geq 50$ day and an adaptive-optics guide star brighter than $G=14$ are plotted. (*fig:stats*)\n",
       "\n",
       "</div>\n",
       "<div id=\"div_fig2\">\n",
       "\n",
       "<img src=\"tmp_2409.12227/./parallaxes.png\" alt=\"Fig3\" width=\"100%\"/>\n",
       "\n",
       "**Figure 3. -** Constraints on the microlensing parallax derived from different photometric data sets (blue -- OGLE, red -- KMTC, orange -- KMTS, green -- KMTA) and all light curve data (black contours). The dotted and dashed lines mark constraints from the two epochs of VLTI data, respectively. (*fig:parallaxes*)\n",
       "\n",
       "</div>\n",
       "<div id=\"div_fig3\">\n",
       "\n",
       "<img src=\"tmp_2409.12227/./cp_epoch1.png\" alt=\"Fig6\" width=\"100%\"/>\n",
       "\n",
       "**Figure 6. -** Closure phase data for the VLTI epoch 1. Color solid lines mark the best-fit binary-star model. (*fig:cp1*)\n",
       "\n",
       "</div><div id=\"qrcode\"><img src=https://api.qrserver.com/v1/create-qr-code/?size=100x100&data=\"https://arxiv.org/abs/2409.12227\"></div>"
      ],
      "text/plain": [
       "<IPython.core.display.Markdown object>"
      ]
     },
     "metadata": {},
     "output_type": "display_data"
    },
    {
     "data": {
      "text/markdown": [
       "<div class=\"macros\" style=\"visibility:hidden;\">\n",
       "$\\newcommand{\\ensuremath}{}$\n",
       "$\\newcommand{\\xspace}{}$\n",
       "$\\newcommand{\\object}[1]{\\texttt{#1}}$\n",
       "$\\newcommand{\\farcs}{{.}''}$\n",
       "$\\newcommand{\\farcm}{{.}'}$\n",
       "$\\newcommand{\\arcsec}{''}$\n",
       "$\\newcommand{\\arcmin}{'}$\n",
       "$\\newcommand{\\ion}[2]{#1#2}$\n",
       "$\\newcommand{\\textsc}[1]{\\textrm{#1}}$\n",
       "$\\newcommand{\\hl}[1]{\\textrm{#1}}$\n",
       "$\\newcommand{\\footnote}[1]{}$</div>\n",
       "\n",
       "\n",
       "\n",
       "<div id=\"title\">\n",
       "\n",
       "# Improving constraints on the extended mass distribution in the Galactic Center with stellar orbits\n",
       "\n",
       "</div>\n",
       "<div id=\"comments\">\n",
       "\n",
       "[![arXiv](https://img.shields.io/badge/arXiv-2409.12261-b31b1b.svg)](https://arxiv.org/abs/2409.12261)<mark>Appeared on: 2024-09-20</mark> -  _Submitted to A&A on September 17, 2024_\n",
       "\n",
       "</div>\n",
       "<div id=\"authors\">\n",
       "\n",
       "T. G. Collaboration, et al. -- incl., <mark>P. Garcia</mark>, <mark>T. Henning</mark>, <mark>S. Scheithauer</mark>\n",
       "\n",
       "</div>\n",
       "<div id=\"abstract\">\n",
       "\n",
       "**Abstract:** Studying the orbital motion of stars around Sagittarius A* in the Galactic Center provides a unique opportunity to probe the gravitational potential near the supermassive black hole at the heart of our Galaxy. Interferometric data obtained with the GRAVITY instrument at the Very Large Telescope Interferometer (VLTI) since 2016 has allowed us to achieve unprecedented precision in tracking the orbits of these stars. GRAVITY data have been key to detecting the in-plane, prograde Schwarzschild precession of the orbit of the star S2, as predicted by General Relativity. By combining astrometric and spectroscopic data from multiple stars, including S2, S29, S38, and S55 - for which we have data around their time of pericenter passage with GRAVITY - we can now strengthen the significance of this detection to an approximately $10 \\sigma$ confidence level. The prograde precession of S2's orbit provides valuable insights into the potential presence of an extended mass distribution surrounding Sagittarius A*, which could consist of a dynamically relaxed stellar cusp comprised of old stars and stellar remnants, along with a possible dark matter spike. Our analysis, based on two plausible density profiles - a power-law and a Plummer profile - constrains the enclosed mass within the orbit of S2 to be consistent with zero, establishing an upper limit of approximately $1200   M_\\odot$ with a $1 \\sigma$ confidence level. This significantly improves our constraints on the mass distribution in the Galactic Center. Our upper limit is very close to the expected value from numerical simulations for a stellar cusp in the Galactic Center, leaving little room for a significant enhancement of dark matter density near Sagittarius A*.\n",
       "\n",
       "</div>\n",
       "\n",
       "<div id=\"div_fig1\">\n",
       "\n",
       "<img src=\"tmp_2409.12261/./orbits.png\" alt=\"Fig1\" width=\"100%\"/>\n",
       "\n",
       "**Figure 1. -** Orbits for the set of 11 S-stars that have been used in this paper. Highlighted are the 4 most relevant stars to constrain the gravitational potential around Sgr A*: S2, S29, S38 and S55. (*fig_orb*)\n",
       "\n",
       "</div>\n",
       "<div id=\"div_fig2\">\n",
       "\n",
       "<img src=\"tmp_2409.12261/./s2_simu_plot.png\" alt=\"Fig2\" width=\"100%\"/>\n",
       "\n",
       "**Figure 2. -** Predicted error on $f_{SP}$ as a function of time, obtained through mock observations of S2 with GRAVITY and ERIS. The blue points show the result keeping only GRAVITY data in the fit, namely excluding the NACO data and removing the reference frame parameters. The green points show the result keeping both NACO and GRAVITY data.\n",
       "    (*fig_simu*)\n",
       "\n",
       "</div>\n",
       "<div id=\"div_fig3\">\n",
       "\n",
       "<img src=\"tmp_2409.12261/./4s_enclmass_pow.png\" alt=\"Fig6.1\" width=\"50%\"/><img src=\"tmp_2409.12261/./4s_enclmass_plum.png\" alt=\"Fig6.2\" width=\"50%\"/>\n",
       "\n",
       "**Figure 6. -** Upper limit on the enclosed mass within the orbit of S2 for an extended mass distribution around Sgr A*. We test two plausible density profile for the mass distribution: a power-law profile with varying slope (panel a) and a Plummer profile with varying scale radius (panel b). In red we plot the $1 \\sigma$ upper limit and in blue the $3 \\sigma$ upper limit, derived from a multi-star fit using data from the stars S2, S29, S38 and S55. Independently of the density profile, the enclosed mass within S2’s orbit is consistently compatible with zero. We set a strong upper limit of approximately $1200   M_\\odot$ with a $1 \\sigma$ confidence level, for reasonable choices of the slope of the power-law ($s<-1.2$) and the scale radius of the Plummer profile ($a \\lesssim 8$ mpc).\n",
       "        ** Power-law profile****Plummer profile** (*fig:extmass_4s*)\n",
       "\n",
       "</div><div id=\"qrcode\"><img src=https://api.qrserver.com/v1/create-qr-code/?size=100x100&data=\"https://arxiv.org/abs/2409.12261\"></div>"
      ],
      "text/plain": [
       "<IPython.core.display.Markdown object>"
      ]
     },
     "metadata": {},
     "output_type": "display_data"
    }
   ],
   "source": [
    "[display(Markdown(k[1])) for k in documents];"
   ]
  },
  {
   "cell_type": "markdown",
   "id": "873873a4",
   "metadata": {
    "papermill": {
     "duration": 0.004827,
     "end_time": "2024-09-20T04:10:53.611402",
     "exception": false,
     "start_time": "2024-09-20T04:10:53.606575",
     "status": "completed"
    },
    "tags": []
   },
   "source": [
    "# Create HTML index"
   ]
  },
  {
   "cell_type": "code",
   "execution_count": 10,
   "id": "cf665672",
   "metadata": {
    "execution": {
     "iopub.execute_input": "2024-09-20T04:10:53.622470Z",
     "iopub.status.busy": "2024-09-20T04:10:53.622173Z",
     "iopub.status.idle": "2024-09-20T04:10:53.630240Z",
     "shell.execute_reply": "2024-09-20T04:10:53.629610Z"
    },
    "papermill": {
     "duration": 0.014944,
     "end_time": "2024-09-20T04:10:53.631258",
     "exception": false,
     "start_time": "2024-09-20T04:10:53.616314",
     "status": "completed"
    },
    "tags": []
   },
   "outputs": [
    {
     "name": "stdout",
     "output_type": "stream",
     "text": [
      "187  publications files modified in the last 7 days.\n"
     ]
    }
   ],
   "source": [
    "from datetime import datetime, timedelta, timezone\n",
    "from glob import glob\n",
    "import os\n",
    "\n",
    "files = glob('_build/html/*.md')\n",
    "days = 7\n",
    "now = datetime.today()\n",
    "res = []\n",
    "for fk in files:\n",
    "    stat_result = os.stat(fk).st_ctime\n",
    "    modified = datetime.fromtimestamp(stat_result, tz=timezone.utc).replace(tzinfo=None)\n",
    "    delta = now.today() - modified\n",
    "    if delta <= timedelta(days=days):\n",
    "        res.append((delta.seconds, fk))\n",
    "res = [k[1] for k in reversed(sorted(res, key=lambda x:x[1]))]\n",
    "npub = len(res)\n",
    "print(len(res), f\" publications files modified in the last {days:d} days.\")\n",
    "# [ print('\\t', k) for k in res ];"
   ]
  },
  {
   "cell_type": "code",
   "execution_count": 11,
   "id": "015de740",
   "metadata": {
    "execution": {
     "iopub.execute_input": "2024-09-20T04:10:53.642576Z",
     "iopub.status.busy": "2024-09-20T04:10:53.642074Z",
     "iopub.status.idle": "2024-09-20T04:10:53.657110Z",
     "shell.execute_reply": "2024-09-20T04:10:53.656467Z"
    },
    "papermill": {
     "duration": 0.021916,
     "end_time": "2024-09-20T04:10:53.658239",
     "exception": false,
     "start_time": "2024-09-20T04:10:53.636323",
     "status": "completed"
    },
    "tags": []
   },
   "outputs": [
    {
     "name": "stdout",
     "output_type": "stream",
     "text": [
      "7  publications in the last 7 days.\n"
     ]
    }
   ],
   "source": [
    "import datetime\n",
    "from glob import glob\n",
    "\n",
    "def get_last_n_days(lst, days=1):\n",
    "    \"\"\" Get the documents from the last n days \"\"\"\n",
    "    sorted_lst = sorted(lst, key=lambda x: x[1], reverse=True)\n",
    "    for fname, date in sorted_lst:\n",
    "        if date >= str(datetime.date.today() - datetime.timedelta(days=days)):\n",
    "            yield fname\n",
    "\n",
    "def extract_appearance_dates(lst_file):\n",
    "    dates = []\n",
    "\n",
    "    def get_date(line):\n",
    "        return line\\\n",
    "            .split('Appeared on:')[-1]\\\n",
    "            .split('</mark>')[0].strip()\n",
    "\n",
    "    for fname in lst:\n",
    "        with open(fname, 'r') as f:\n",
    "            found_date = False\n",
    "            for line in f:\n",
    "                if not found_date:\n",
    "                    if \"Appeared on\" in line:\n",
    "                        found_date = True\n",
    "                        dates.append((fname, get_date(line)))\n",
    "                else:\n",
    "                    break\n",
    "    return dates\n",
    "\n",
    "from glob import glob\n",
    "lst = glob('_build/html/*md')\n",
    "days = 7\n",
    "dates = extract_appearance_dates(lst)\n",
    "res = list(get_last_n_days(dates, days))\n",
    "npub = len(res)\n",
    "print(len(res), f\" publications in the last {days:d} days.\")"
   ]
  },
  {
   "cell_type": "code",
   "execution_count": 12,
   "id": "52ca0208",
   "metadata": {
    "execution": {
     "iopub.execute_input": "2024-09-20T04:10:53.670022Z",
     "iopub.status.busy": "2024-09-20T04:10:53.669546Z",
     "iopub.status.idle": "2024-09-20T04:10:53.674671Z",
     "shell.execute_reply": "2024-09-20T04:10:53.674127Z"
    },
    "papermill": {
     "duration": 0.012186,
     "end_time": "2024-09-20T04:10:53.675794",
     "exception": false,
     "start_time": "2024-09-20T04:10:53.663608",
     "status": "completed"
    },
    "scrolled": false,
    "tags": []
   },
   "outputs": [],
   "source": [
    "def create_carousel(npub=4):\n",
    "    \"\"\" Generate the HTML code for a carousel with `npub` slides \"\"\"\n",
    "    carousel = [\"\"\"  <div class=\"carousel\" \"\"\",\n",
    "                \"\"\"       data-flickity='{ \"autoPlay\": 10000, \"adaptiveHeight\": true, \"resize\": true, \"wrapAround\": true, \"pauseAutoPlayOnHover\": true, \"groupCells\": 1 }' id=\"asyncTypeset\">\"\"\"\n",
    "                ]\n",
    "    \n",
    "    item_str = \"\"\"    <div class=\"carousel-cell\"> <div id=\"slide{k}\" class=\"md_view\">Content {k}</div> </div>\"\"\"\n",
    "    for k in range(1, npub + 1):\n",
    "        carousel.append(item_str.format(k=k))\n",
    "    carousel.append(\"  </div>\")\n",
    "    return '\\n'.join(carousel)\n",
    "\n",
    "def create_grid(npub=4):\n",
    "    \"\"\" Generate the HTML code for a flat grid with `npub` slides \"\"\"\n",
    "    grid = [\"\"\"  <div class=\"grid\"> \"\"\",\n",
    "                ]\n",
    "    \n",
    "    item_str = \"\"\"    <div class=\"grid-item\"> <div id=\"slide{k}\" class=\"md_view\">Content {k}</div> </div>\"\"\"\n",
    "    for k in range(1, npub + 1):\n",
    "        grid.append(item_str.format(k=k))\n",
    "    grid.append(\"  </div>\")\n",
    "    return '\\n'.join(grid)"
   ]
  },
  {
   "cell_type": "code",
   "execution_count": 13,
   "id": "a6eac5b6",
   "metadata": {
    "execution": {
     "iopub.execute_input": "2024-09-20T04:10:53.687290Z",
     "iopub.status.busy": "2024-09-20T04:10:53.687000Z",
     "iopub.status.idle": "2024-09-20T04:10:53.692450Z",
     "shell.execute_reply": "2024-09-20T04:10:53.691889Z"
    },
    "papermill": {
     "duration": 0.012416,
     "end_time": "2024-09-20T04:10:53.693518",
     "exception": false,
     "start_time": "2024-09-20T04:10:53.681102",
     "status": "completed"
    },
    "scrolled": false,
    "tags": []
   },
   "outputs": [],
   "source": [
    "carousel = create_carousel(npub)\n",
    "docs = ', '.join(['\"{0:s}\"'.format(k.split('/')[-1]) for k in res])\n",
    "slides = ', '.join([f'\"slide{k}\"' for k in range(1, npub + 1)])\n",
    "\n",
    "with open(\"daily_template.html\", \"r\") as tpl:\n",
    "    page = tpl.read()\n",
    "    page = page.replace(\"{%-- carousel:s --%}\", carousel)\\\n",
    "               .replace(\"{%-- suptitle:s --%}\",  \"7-day archives\" )\\\n",
    "               .replace(\"{%-- docs:s --%}\", docs)\\\n",
    "               .replace(\"{%-- slides:s --%}\", slides)\n",
    "    \n",
    "with open(\"_build/html/index_7days.html\", 'w') as fout:\n",
    "    fout.write(page)"
   ]
  },
  {
   "cell_type": "code",
   "execution_count": 14,
   "id": "adc1a1ec",
   "metadata": {
    "execution": {
     "iopub.execute_input": "2024-09-20T04:10:53.705033Z",
     "iopub.status.busy": "2024-09-20T04:10:53.704775Z",
     "iopub.status.idle": "2024-09-20T04:10:53.711765Z",
     "shell.execute_reply": "2024-09-20T04:10:53.711191Z"
    },
    "papermill": {
     "duration": 0.013908,
     "end_time": "2024-09-20T04:10:53.712830",
     "exception": false,
     "start_time": "2024-09-20T04:10:53.698922",
     "status": "completed"
    },
    "tags": []
   },
   "outputs": [
    {
     "name": "stdout",
     "output_type": "stream",
     "text": [
      "6  publications in the last day.\n"
     ]
    }
   ],
   "source": [
    "# redo for today\n",
    "days = 1\n",
    "res = list(get_last_n_days(dates, days))\n",
    "npub = len(res)\n",
    "print(len(res), f\" publications in the last day.\")\n",
    "\n",
    "carousel = create_carousel(npub)\n",
    "docs = ', '.join(['\"{0:s}\"'.format(k.split('/')[-1]) for k in res])\n",
    "slides = ', '.join([f'\"slide{k}\"' for k in range(1, npub + 1)])\n",
    "\n",
    "with open(\"daily_template.html\", \"r\") as tpl:\n",
    "    page = tpl.read()\n",
    "    page = page.replace(\"{%-- carousel:s --%}\", carousel)\\\n",
    "               .replace(\"{%-- suptitle:s --%}\",  \"Daily\" )\\\n",
    "               .replace(\"{%-- docs:s --%}\", docs)\\\n",
    "               .replace(\"{%-- slides:s --%}\", slides)\n",
    "    \n",
    "# print(carousel, docs, slides)\n",
    "# print(page)\n",
    "with open(\"_build/html/index_daily.html\", 'w') as fout:\n",
    "    fout.write(page)"
   ]
  },
  {
   "cell_type": "code",
   "execution_count": 15,
   "id": "00eece82",
   "metadata": {
    "execution": {
     "iopub.execute_input": "2024-09-20T04:10:53.724730Z",
     "iopub.status.busy": "2024-09-20T04:10:53.724449Z",
     "iopub.status.idle": "2024-09-20T04:10:53.731419Z",
     "shell.execute_reply": "2024-09-20T04:10:53.730824Z"
    },
    "papermill": {
     "duration": 0.01408,
     "end_time": "2024-09-20T04:10:53.732424",
     "exception": false,
     "start_time": "2024-09-20T04:10:53.718344",
     "status": "completed"
    },
    "scrolled": false,
    "tags": []
   },
   "outputs": [
    {
     "name": "stdout",
     "output_type": "stream",
     "text": [
      "6  6 publications selected.\n"
     ]
    }
   ],
   "source": [
    "# Create the flat grid of the last N papers (fixed number regardless of dates)\n",
    "from itertools import islice \n",
    "\n",
    "npub = 6\n",
    "res = [k[0] for k in (islice(reversed(sorted(dates, key=lambda x: x[1])), 6))]\n",
    "print(len(res), f\" {npub} publications selected.\")\n",
    "\n",
    "grid = create_grid(npub)\n",
    "docs = ', '.join(['\"{0:s}\"'.format(k.split('/')[-1]) for k in res])\n",
    "slides = ', '.join([f'\"slide{k}\"' for k in range(1, npub + 1)])\n",
    "\n",
    "with open(\"grid_template.html\", \"r\") as tpl:\n",
    "    page = tpl.read()\n",
    "    page = page.replace(\"{%-- grid-content:s --%}\", grid)\\\n",
    "               .replace(\"{%-- suptitle:s --%}\",  f\"Last {npub:,d} papers\" )\\\n",
    "               .replace(\"{%-- docs:s --%}\", docs)\\\n",
    "               .replace(\"{%-- slides:s --%}\", slides)\n",
    "    \n",
    "# print(grid, docs, slides)\n",
    "# print(page)\n",
    "with open(\"_build/html/index_npub_grid.html\", 'w') as fout:\n",
    "    fout.write(page)"
   ]
  }
 ],
 "metadata": {
  "kernelspec": {
   "display_name": "Python 3 (ipykernel)",
   "language": "python",
   "name": "python3"
  },
  "language_info": {
   "codemirror_mode": {
    "name": "ipython",
    "version": 3
   },
   "file_extension": ".py",
   "mimetype": "text/x-python",
   "name": "python",
   "nbconvert_exporter": "python",
   "pygments_lexer": "ipython3",
   "version": "3.9.20"
  },
  "papermill": {
   "default_parameters": {},
   "duration": 40.175296,
   "end_time": "2024-09-20T04:10:53.954359",
   "environment_variables": {},
   "exception": null,
   "input_path": "MPIA daily digest.ipynb",
   "output_path": "log.ipynb",
   "parameters": {},
   "start_time": "2024-09-20T04:10:13.779063",
   "version": "2.6.0"
  },
  "vscode": {
   "interpreter": {
    "hash": "aee8b7b246df8f9039afb4144a1f6fd8d2ca17a180786b69acc140d282b71a49"
   }
  },
  "widgets": {
   "application/vnd.jupyter.widget-state+json": {
    "state": {
     "1ac5255d9e9e41d28dcf4b2cb448c369": {
      "model_module": "@jupyter-widgets/base",
      "model_module_version": "2.0.0",
      "model_name": "LayoutModel",
      "state": {
       "_model_module": "@jupyter-widgets/base",
       "_model_module_version": "2.0.0",
       "_model_name": "LayoutModel",
       "_view_count": null,
       "_view_module": "@jupyter-widgets/base",
       "_view_module_version": "2.0.0",
       "_view_name": "LayoutView",
       "align_content": null,
       "align_items": null,
       "align_self": null,
       "border_bottom": null,
       "border_left": null,
       "border_right": null,
       "border_top": null,
       "bottom": null,
       "display": null,
       "flex": null,
       "flex_flow": null,
       "grid_area": null,
       "grid_auto_columns": null,
       "grid_auto_flow": null,
       "grid_auto_rows": null,
       "grid_column": null,
       "grid_gap": null,
       "grid_row": null,
       "grid_template_areas": null,
       "grid_template_columns": null,
       "grid_template_rows": null,
       "height": null,
       "justify_content": null,
       "justify_items": null,
       "left": null,
       "margin": null,
       "max_height": null,
       "max_width": null,
       "min_height": null,
       "min_width": null,
       "object_fit": null,
       "object_position": null,
       "order": null,
       "overflow": null,
       "padding": null,
       "right": null,
       "top": null,
       "visibility": null,
       "width": null
      }
     },
     "2c6bace4b4874ff8831a344d8f3c60dc": {
      "model_module": "@jupyter-widgets/controls",
      "model_module_version": "2.0.0",
      "model_name": "HTMLModel",
      "state": {
       "_dom_classes": [],
       "_model_module": "@jupyter-widgets/controls",
       "_model_module_version": "2.0.0",
       "_model_name": "HTMLModel",
       "_view_count": null,
       "_view_module": "@jupyter-widgets/controls",
       "_view_module_version": "2.0.0",
       "_view_name": "HTMLView",
       "description": "",
       "description_allow_html": false,
       "layout": "IPY_MODEL_76f1d71ab9cb4338b719e8329a015543",
       "placeholder": "​",
       "style": "IPY_MODEL_85140c60420d464aac0dbd8129b4370c",
       "tabbable": null,
       "tooltip": null,
       "value": " 4/4 [00:21&lt;00:00,  3.70s/it]"
      }
     },
     "3f40df447fe6403aa86f16a36d2d2afe": {
      "model_module": "@jupyter-widgets/controls",
      "model_module_version": "2.0.0",
      "model_name": "ProgressStyleModel",
      "state": {
       "_model_module": "@jupyter-widgets/controls",
       "_model_module_version": "2.0.0",
       "_model_name": "ProgressStyleModel",
       "_view_count": null,
       "_view_module": "@jupyter-widgets/base",
       "_view_module_version": "2.0.0",
       "_view_name": "StyleView",
       "bar_color": null,
       "description_width": ""
      }
     },
     "6e1929122b01448bb06218282a49c383": {
      "model_module": "@jupyter-widgets/base",
      "model_module_version": "2.0.0",
      "model_name": "LayoutModel",
      "state": {
       "_model_module": "@jupyter-widgets/base",
       "_model_module_version": "2.0.0",
       "_model_name": "LayoutModel",
       "_view_count": null,
       "_view_module": "@jupyter-widgets/base",
       "_view_module_version": "2.0.0",
       "_view_name": "LayoutView",
       "align_content": null,
       "align_items": null,
       "align_self": null,
       "border_bottom": null,
       "border_left": null,
       "border_right": null,
       "border_top": null,
       "bottom": null,
       "display": null,
       "flex": null,
       "flex_flow": null,
       "grid_area": null,
       "grid_auto_columns": null,
       "grid_auto_flow": null,
       "grid_auto_rows": null,
       "grid_column": null,
       "grid_gap": null,
       "grid_row": null,
       "grid_template_areas": null,
       "grid_template_columns": null,
       "grid_template_rows": null,
       "height": null,
       "justify_content": null,
       "justify_items": null,
       "left": null,
       "margin": null,
       "max_height": null,
       "max_width": null,
       "min_height": null,
       "min_width": null,
       "object_fit": null,
       "object_position": null,
       "order": null,
       "overflow": null,
       "padding": null,
       "right": null,
       "top": null,
       "visibility": null,
       "width": null
      }
     },
     "6e8d2fceeb6e4f8d87369997926230e8": {
      "model_module": "@jupyter-widgets/base",
      "model_module_version": "2.0.0",
      "model_name": "LayoutModel",
      "state": {
       "_model_module": "@jupyter-widgets/base",
       "_model_module_version": "2.0.0",
       "_model_name": "LayoutModel",
       "_view_count": null,
       "_view_module": "@jupyter-widgets/base",
       "_view_module_version": "2.0.0",
       "_view_name": "LayoutView",
       "align_content": null,
       "align_items": null,
       "align_self": null,
       "border_bottom": null,
       "border_left": null,
       "border_right": null,
       "border_top": null,
       "bottom": null,
       "display": null,
       "flex": null,
       "flex_flow": null,
       "grid_area": null,
       "grid_auto_columns": null,
       "grid_auto_flow": null,
       "grid_auto_rows": null,
       "grid_column": null,
       "grid_gap": null,
       "grid_row": null,
       "grid_template_areas": null,
       "grid_template_columns": null,
       "grid_template_rows": null,
       "height": null,
       "justify_content": null,
       "justify_items": null,
       "left": null,
       "margin": null,
       "max_height": null,
       "max_width": null,
       "min_height": null,
       "min_width": null,
       "object_fit": null,
       "object_position": null,
       "order": null,
       "overflow": null,
       "padding": null,
       "right": null,
       "top": null,
       "visibility": null,
       "width": null
      }
     },
     "76f1d71ab9cb4338b719e8329a015543": {
      "model_module": "@jupyter-widgets/base",
      "model_module_version": "2.0.0",
      "model_name": "LayoutModel",
      "state": {
       "_model_module": "@jupyter-widgets/base",
       "_model_module_version": "2.0.0",
       "_model_name": "LayoutModel",
       "_view_count": null,
       "_view_module": "@jupyter-widgets/base",
       "_view_module_version": "2.0.0",
       "_view_name": "LayoutView",
       "align_content": null,
       "align_items": null,
       "align_self": null,
       "border_bottom": null,
       "border_left": null,
       "border_right": null,
       "border_top": null,
       "bottom": null,
       "display": null,
       "flex": null,
       "flex_flow": null,
       "grid_area": null,
       "grid_auto_columns": null,
       "grid_auto_flow": null,
       "grid_auto_rows": null,
       "grid_column": null,
       "grid_gap": null,
       "grid_row": null,
       "grid_template_areas": null,
       "grid_template_columns": null,
       "grid_template_rows": null,
       "height": null,
       "justify_content": null,
       "justify_items": null,
       "left": null,
       "margin": null,
       "max_height": null,
       "max_width": null,
       "min_height": null,
       "min_width": null,
       "object_fit": null,
       "object_position": null,
       "order": null,
       "overflow": null,
       "padding": null,
       "right": null,
       "top": null,
       "visibility": null,
       "width": null
      }
     },
     "85140c60420d464aac0dbd8129b4370c": {
      "model_module": "@jupyter-widgets/controls",
      "model_module_version": "2.0.0",
      "model_name": "HTMLStyleModel",
      "state": {
       "_model_module": "@jupyter-widgets/controls",
       "_model_module_version": "2.0.0",
       "_model_name": "HTMLStyleModel",
       "_view_count": null,
       "_view_module": "@jupyter-widgets/base",
       "_view_module_version": "2.0.0",
       "_view_name": "StyleView",
       "background": null,
       "description_width": "",
       "font_size": null,
       "text_color": null
      }
     },
     "8f844ca2052f4cabae6f7697773f7501": {
      "model_module": "@jupyter-widgets/controls",
      "model_module_version": "2.0.0",
      "model_name": "FloatProgressModel",
      "state": {
       "_dom_classes": [],
       "_model_module": "@jupyter-widgets/controls",
       "_model_module_version": "2.0.0",
       "_model_name": "FloatProgressModel",
       "_view_count": null,
       "_view_module": "@jupyter-widgets/controls",
       "_view_module_version": "2.0.0",
       "_view_name": "ProgressView",
       "bar_style": "success",
       "description": "",
       "description_allow_html": false,
       "layout": "IPY_MODEL_6e8d2fceeb6e4f8d87369997926230e8",
       "max": 4.0,
       "min": 0.0,
       "orientation": "horizontal",
       "style": "IPY_MODEL_3f40df447fe6403aa86f16a36d2d2afe",
       "tabbable": null,
       "tooltip": null,
       "value": 4.0
      }
     },
     "a4436474207048a2ba692495fe880b2c": {
      "model_module": "@jupyter-widgets/controls",
      "model_module_version": "2.0.0",
      "model_name": "HTMLStyleModel",
      "state": {
       "_model_module": "@jupyter-widgets/controls",
       "_model_module_version": "2.0.0",
       "_model_name": "HTMLStyleModel",
       "_view_count": null,
       "_view_module": "@jupyter-widgets/base",
       "_view_module_version": "2.0.0",
       "_view_name": "StyleView",
       "background": null,
       "description_width": "",
       "font_size": null,
       "text_color": null
      }
     },
     "d08338c344094d64b8dde83dd6b80aa1": {
      "model_module": "@jupyter-widgets/controls",
      "model_module_version": "2.0.0",
      "model_name": "HTMLModel",
      "state": {
       "_dom_classes": [],
       "_model_module": "@jupyter-widgets/controls",
       "_model_module_version": "2.0.0",
       "_model_name": "HTMLModel",
       "_view_count": null,
       "_view_module": "@jupyter-widgets/controls",
       "_view_module_version": "2.0.0",
       "_view_name": "HTMLView",
       "description": "",
       "description_allow_html": false,
       "layout": "IPY_MODEL_1ac5255d9e9e41d28dcf4b2cb448c369",
       "placeholder": "​",
       "style": "IPY_MODEL_a4436474207048a2ba692495fe880b2c",
       "tabbable": null,
       "tooltip": null,
       "value": "100%"
      }
     },
     "d54effc37431417e9ed8e50f1d709714": {
      "model_module": "@jupyter-widgets/controls",
      "model_module_version": "2.0.0",
      "model_name": "HBoxModel",
      "state": {
       "_dom_classes": [],
       "_model_module": "@jupyter-widgets/controls",
       "_model_module_version": "2.0.0",
       "_model_name": "HBoxModel",
       "_view_count": null,
       "_view_module": "@jupyter-widgets/controls",
       "_view_module_version": "2.0.0",
       "_view_name": "HBoxView",
       "box_style": "",
       "children": [
        "IPY_MODEL_d08338c344094d64b8dde83dd6b80aa1",
        "IPY_MODEL_8f844ca2052f4cabae6f7697773f7501",
        "IPY_MODEL_2c6bace4b4874ff8831a344d8f3c60dc"
       ],
       "layout": "IPY_MODEL_6e1929122b01448bb06218282a49c383",
       "tabbable": null,
       "tooltip": null
      }
     }
    },
    "version_major": 2,
    "version_minor": 0
   }
  }
 },
 "nbformat": 4,
 "nbformat_minor": 5
}