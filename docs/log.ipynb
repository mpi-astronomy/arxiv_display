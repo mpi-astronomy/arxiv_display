{
 "cells": [
  {
   "cell_type": "markdown",
   "id": "92bcb855",
   "metadata": {
    "papermill": {
     "duration": 0.008437,
     "end_time": "2023-03-24T17:01:39.221347",
     "exception": false,
     "start_time": "2023-03-24T17:01:39.212910",
     "status": "completed"
    },
    "tags": []
   },
   "source": [
    "# MPIA Arxiv on Deck 2\n",
    "\n",
    "Contains the steps to produce the paper extractions."
   ]
  },
  {
   "cell_type": "code",
   "execution_count": 1,
   "id": "3a0d6e11",
   "metadata": {
    "execution": {
     "iopub.execute_input": "2023-03-24T17:01:39.232925Z",
     "iopub.status.busy": "2023-03-24T17:01:39.232081Z",
     "iopub.status.idle": "2023-03-24T17:01:39.511202Z",
     "shell.execute_reply": "2023-03-24T17:01:39.510418Z"
    },
    "papermill": {
     "duration": 0.286901,
     "end_time": "2023-03-24T17:01:39.513468",
     "exception": false,
     "start_time": "2023-03-24T17:01:39.226567",
     "status": "completed"
    },
    "tags": []
   },
   "outputs": [],
   "source": [
    "# Imports\n",
    "import os\n",
    "from IPython.display import Markdown, display\n",
    "from tqdm.notebook import tqdm\n",
    "import warnings\n",
    "from PIL import Image \n",
    "\n",
    "# requires arxiv_on_deck_2\n",
    "\n",
    "from arxiv_on_deck_2.arxiv2 import (get_new_papers, \n",
    "                                    get_paper_from_identifier,\n",
    "                                    retrieve_document_source, \n",
    "                                    get_markdown_badge)\n",
    "from arxiv_on_deck_2 import (latex,\n",
    "                             latex_bib,\n",
    "                             mpia,\n",
    "                             highlight_authors_in_list)\n",
    "\n",
    "# Sometimes images are really big\n",
    "Image.MAX_IMAGE_PIXELS = 1000000000 "
   ]
  },
  {
   "cell_type": "code",
   "execution_count": 2,
   "id": "22aa9d44",
   "metadata": {
    "execution": {
     "iopub.execute_input": "2023-03-24T17:01:39.524280Z",
     "iopub.status.busy": "2023-03-24T17:01:39.523519Z",
     "iopub.status.idle": "2023-03-24T17:01:39.531826Z",
     "shell.execute_reply": "2023-03-24T17:01:39.530923Z"
    },
    "papermill": {
     "duration": 0.015916,
     "end_time": "2023-03-24T17:01:39.533690",
     "exception": false,
     "start_time": "2023-03-24T17:01:39.517774",
     "status": "completed"
    },
    "tags": []
   },
   "outputs": [],
   "source": [
    "# Some useful definitions.\n",
    "\n",
    "class AffiliationWarning(UserWarning):\n",
    "    pass\n",
    "\n",
    "class AffiliationError(RuntimeError):\n",
    "    pass\n",
    "\n",
    "def validation(source: str):\n",
    "    \"\"\"Raises error paper during parsing of source file\n",
    "    \n",
    "    Allows checks before parsing TeX code.\n",
    "    \n",
    "    Raises AffiliationWarning\n",
    "    \"\"\"\n",
    "    check = mpia.affiliation_verifications(source, verbose=True)\n",
    "    if check is not True:\n",
    "        raise AffiliationError(\"mpia.affiliation_verifications: \" + check)\n",
    "\n",
    "        \n",
    "warnings.simplefilter('always', AffiliationWarning)\n",
    "\n",
    "\n",
    "def get_markdown_qrcode(paper_id: str):\n",
    "    \"\"\" Generate a qrcode to the arxiv page using qrserver.com\n",
    "    \n",
    "    :param paper: Arxiv paper\n",
    "    :returns: markdown text\n",
    "    \"\"\"\n",
    "    url = r\"https://api.qrserver.com/v1/create-qr-code/?size=100x100&data=\"\n",
    "    txt = f\"\"\"<img src={url}\"https://arxiv.org/abs/{paper_id}\">\"\"\"\n",
    "    txt = '<div id=\"qrcode\">' + txt + '</div>'\n",
    "    return txt"
   ]
  },
  {
   "cell_type": "markdown",
   "id": "14bd6310",
   "metadata": {
    "papermill": {
     "duration": 0.00385,
     "end_time": "2023-03-24T17:01:39.541526",
     "exception": false,
     "start_time": "2023-03-24T17:01:39.537676",
     "status": "completed"
    },
    "tags": []
   },
   "source": [
    "## get list of arxiv paper candidates\n",
    "\n",
    "We use the MPIA mitarbeiter list webpage from mpia.de to get author names\n",
    "We then get all new papers from Arxiv and match authors"
   ]
  },
  {
   "cell_type": "code",
   "execution_count": 3,
   "id": "2645e73a",
   "metadata": {
    "execution": {
     "iopub.execute_input": "2023-03-24T17:01:39.551442Z",
     "iopub.status.busy": "2023-03-24T17:01:39.550849Z",
     "iopub.status.idle": "2023-03-24T17:02:05.352536Z",
     "shell.execute_reply": "2023-03-24T17:02:05.351787Z"
    },
    "papermill": {
     "duration": 25.808681,
     "end_time": "2023-03-24T17:02:05.354388",
     "exception": false,
     "start_time": "2023-03-24T17:01:39.545707",
     "status": "completed"
    },
    "tags": []
   },
   "outputs": [
    {
     "name": "stdout",
     "output_type": "stream",
     "text": [
      "Arxiv has 52 new papers today\n",
      "          5 with possible author matches\n"
     ]
    }
   ],
   "source": [
    "# get list from MPIA website\n",
    "# it automatically filters identified non-scientists :func:`mpia.filter_non_scientists`\n",
    "mpia_authors = mpia.get_mpia_mitarbeiter_list()\n",
    "normed_mpia_authors = [k[1] for k in mpia_authors]   # initials + fullname\n",
    "new_papers = get_new_papers()\n",
    "# add manual references\n",
    "add_paper_refs = []\n",
    "new_papers.extend([get_paper_from_identifier(k) for k in add_paper_refs])\n",
    "\n",
    "candidates = []\n",
    "for paperk in new_papers:\n",
    "    # Check author list with their initials\n",
    "    normed_author_list = [mpia.get_initials(k) for k in paperk['authors']]\n",
    "    hl_authors = highlight_authors_in_list(normed_author_list, normed_mpia_authors, verbose=True)\n",
    "    matches = [(hl, orig) for hl, orig in zip(hl_authors, paperk['authors']) if 'mark' in hl]\n",
    "    paperk['authors'] = hl_authors\n",
    "    if matches:\n",
    "        # only select paper if an author matched our list\n",
    "        candidates.append(paperk)\n",
    "print(\"\"\"Arxiv has {0:,d} new papers today\"\"\".format(len(new_papers)))        \n",
    "print(\"\"\"          {0:,d} with possible author matches\"\"\".format(len(candidates)))"
   ]
  },
  {
   "cell_type": "markdown",
   "id": "3543b34a",
   "metadata": {
    "papermill": {
     "duration": 0.003995,
     "end_time": "2023-03-24T17:02:05.362630",
     "exception": false,
     "start_time": "2023-03-24T17:02:05.358635",
     "status": "completed"
    },
    "tags": []
   },
   "source": [
    "# Parse sources and generate relevant outputs\n",
    "\n",
    "From the candidates, we do the following steps:\n",
    "* get their tarball from ArXiv (and extract data)\n",
    "* find the main .tex file: find one with \\documentclass{...} (sometimes it's non trivial)\n",
    "* Check affiliations with :func:`validation`, which uses :func:`mpia.affiliation_verifications`\n",
    "* If passing the affiliations: we parse the .tex source\n",
    "   * inject sub-documents into the main (flatten the main document)\n",
    "   * parse structure, extract information (title, abstract, authors, figures...)\n",
    "   * handles `\\graphicspath` if provided\n",
    "* Generate the .md document."
   ]
  },
  {
   "cell_type": "code",
   "execution_count": 4,
   "id": "9576b79e",
   "metadata": {
    "execution": {
     "iopub.execute_input": "2023-03-24T17:02:05.373357Z",
     "iopub.status.busy": "2023-03-24T17:02:05.372572Z",
     "iopub.status.idle": "2023-03-24T17:02:59.195551Z",
     "shell.execute_reply": "2023-03-24T17:02:59.194657Z"
    },
    "papermill": {
     "duration": 53.830415,
     "end_time": "2023-03-24T17:02:59.197739",
     "exception": false,
     "start_time": "2023-03-24T17:02:05.367324",
     "status": "completed"
    },
    "scrolled": false,
    "tags": []
   },
   "outputs": [
    {
     "data": {
      "application/vnd.jupyter.widget-view+json": {
       "model_id": "b716d01eceb44d9fb39dac2350044aef",
       "version_major": 2,
       "version_minor": 0
      },
      "text/plain": [
       "  0%|          | 0/4 [00:00<?, ?it/s]"
      ]
     },
     "metadata": {},
     "output_type": "display_data"
    },
    {
     "name": "stdout",
     "output_type": "stream",
     "text": [
      "Retrieving document from  https://arxiv.org/e-print/2303.13172\n"
     ]
    },
    {
     "name": "stdout",
     "output_type": "stream",
     "text": [
      "extracting tarball to tmp_2303.13172..."
     ]
    },
    {
     "name": "stdout",
     "output_type": "stream",
     "text": [
      " done.\n"
     ]
    },
    {
     "name": "stderr",
     "output_type": "stream",
     "text": [
      "/opt/hostedtoolcache/Python/3.9.16/x64/lib/python3.9/site-packages/arxiv_on_deck_2/latex.py:369: LatexWarning: Latex injecting: 'JWST_23385_230323.bbl' from 'tmp_2303.13172/JWST_23385_230323.tex'\n",
      "  warnings.warn(LatexWarning(f\"Latex injecting: '{ext}' from '{subsource}'\"))\n"
     ]
    },
    {
     "name": "stdout",
     "output_type": "stream",
     "text": [
      "Found 64 bibliographic references in tmp_2303.13172/JWST_23385_230323.bbl.\n",
      "Retrieving document from  https://arxiv.org/e-print/2303.13202\n"
     ]
    },
    {
     "name": "stdout",
     "output_type": "stream",
     "text": [
      "extracting tarball to tmp_2303.13202..."
     ]
    },
    {
     "name": "stdout",
     "output_type": "stream",
     "text": [
      " done.\n",
      "Retrieving document from  https://arxiv.org/e-print/2303.13445\n"
     ]
    },
    {
     "name": "stdout",
     "output_type": "stream",
     "text": [
      "extracting tarball to tmp_2303.13445..."
     ]
    },
    {
     "name": "stdout",
     "output_type": "stream",
     "text": [
      " done.\n",
      "Retrieving document from  https://arxiv.org/e-print/2303.13469\n"
     ]
    },
    {
     "name": "stderr",
     "output_type": "stream",
     "text": [
      "/opt/hostedtoolcache/Python/3.9.16/x64/lib/python3.9/site-packages/IPython/core/interactiveshell.py:3460: LatexWarning: Multiple tex files.\n",
      "\n",
      "  exec(code_obj, self.user_global_ns, self.user_ns)\n",
      "/opt/hostedtoolcache/Python/3.9.16/x64/lib/python3.9/site-packages/IPython/core/interactiveshell.py:3460: LatexWarning: Found documentclass in tmp_2303.13445/main.tex\n",
      "\n",
      "  exec(code_obj, self.user_global_ns, self.user_ns)\n",
      "/opt/hostedtoolcache/Python/3.9.16/x64/lib/python3.9/site-packages/arxiv_on_deck_2/latex.py:369: LatexWarning: Latex injecting: 'authors.tex' from 'tmp_2303.13445/authors.tex'\n",
      "  warnings.warn(LatexWarning(f\"Latex injecting: '{ext}' from '{subsource}'\"))\n"
     ]
    },
    {
     "name": "stdout",
     "output_type": "stream",
     "text": [
      "extracting tarball to tmp_2303.13469..."
     ]
    },
    {
     "name": "stdout",
     "output_type": "stream",
     "text": [
      " done.\n"
     ]
    }
   ],
   "source": [
    "documents = []\n",
    "failed = []\n",
    "for paper in tqdm(candidates[:-1]):\n",
    "    paper_id = paper['identifier'].lower().replace('arxiv:', '')\n",
    "    \n",
    "    folder = f'tmp_{paper_id}'\n",
    "\n",
    "    try:\n",
    "        if not os.path.isdir(folder):\n",
    "            folder = retrieve_document_source(f\"{paper_id}\", f'tmp_{paper_id}')\n",
    "        \n",
    "        try:\n",
    "            doc = latex.LatexDocument(folder, validation=validation)    \n",
    "        except AffiliationError as affilerror:\n",
    "            msg = f\"ArXiv:{paper_id:s} is not an MPIA paper... \" + str(affilerror)\n",
    "            failed.append((paper, \"affiliation error: \" + str(affilerror) ))\n",
    "            continue\n",
    "        \n",
    "        # Hack because sometimes author parsing does not work well\n",
    "        if (len(doc.authors) != len(paper['authors'])):\n",
    "            doc._authors = paper['authors']\n",
    "        else:\n",
    "            # highlight authors (FIXME: doc.highlight_authors)\n",
    "            # done on arxiv paper already\n",
    "            doc._authors = highlight_authors_in_list(\n",
    "                [mpia.get_initials(k) for k in doc.authors], \n",
    "                normed_mpia_authors, verbose=True)\n",
    "        if (doc.abstract) in (None, ''):\n",
    "            doc._abstract = paper['abstract']\n",
    "            \n",
    "        doc.comment = (get_markdown_badge(paper_id) + \n",
    "                       \"<mark>Appeared on: \" + paper['date'] + \"</mark> - \" +\n",
    "                       \"_\" + paper['comments'] + \"_\")\n",
    "        \n",
    "        full_md = doc.generate_markdown_text()\n",
    "        \n",
    "        full_md += get_markdown_qrcode(paper_id)\n",
    "        \n",
    "        # replace citations\n",
    "        try:\n",
    "            bibdata = latex_bib.LatexBib.from_doc(doc)\n",
    "            full_md = latex_bib.replace_citations(full_md, bibdata)\n",
    "        except Exception as e:\n",
    "            print(e)\n",
    "        \n",
    "        documents.append((paper_id, full_md))\n",
    "    except Exception as e:\n",
    "        warnings.warn(latex.LatexWarning(f\"{paper_id:s} did not run properly\\n\" +\n",
    "                                         str(e)\n",
    "                                        ))\n",
    "        failed.append((paper, \"latex error \" + str(e)))"
   ]
  },
  {
   "cell_type": "markdown",
   "id": "2505a25c",
   "metadata": {
    "papermill": {
     "duration": 0.005126,
     "end_time": "2023-03-24T17:02:59.208092",
     "exception": false,
     "start_time": "2023-03-24T17:02:59.202966",
     "status": "completed"
    },
    "tags": []
   },
   "source": [
    "### Export the logs\n",
    "\n",
    "Throughout, we also keep track of the logs per paper. see `logs-{today date}.md` "
   ]
  },
  {
   "cell_type": "code",
   "execution_count": 5,
   "id": "d733828a",
   "metadata": {
    "execution": {
     "iopub.execute_input": "2023-03-24T17:02:59.220951Z",
     "iopub.status.busy": "2023-03-24T17:02:59.220066Z",
     "iopub.status.idle": "2023-03-24T17:02:59.241243Z",
     "shell.execute_reply": "2023-03-24T17:02:59.240492Z"
    },
    "papermill": {
     "duration": 0.029429,
     "end_time": "2023-03-24T17:02:59.243022",
     "exception": false,
     "start_time": "2023-03-24T17:02:59.213593",
     "status": "completed"
    },
    "scrolled": false,
    "tags": []
   },
   "outputs": [
    {
     "data": {
      "text/markdown": [
       "## Successful papers"
      ],
      "text/plain": [
       "<IPython.core.display.Markdown object>"
      ]
     },
     "metadata": {},
     "output_type": "display_data"
    },
    {
     "data": {
      "text/markdown": [
       "\n",
       "|||\n",
       "|---:|:---|\n",
       "| [![arXiv](https://img.shields.io/badge/arXiv-arXiv:2303.13172-b31b1b.svg)](https://arxiv.org/abs/arXiv:2303.13172) | **JOYS: JWST Observations of Young protoStars: Outflows and accretion in  the high-mass star-forming region IRAS23385+605**  |\n",
       "|| <mark>H. Beuther</mark>, et al. -- incl., <mark>G. Perotti</mark>, <mark>M. Guedel</mark> |\n",
       "|*Appeared on*| *2023-03-24*|\n",
       "|*Comments*| *12 pages, 9 figures, accepted for Astronomy & Astrophysics, the paper is also available at this https URL*|\n",
       "|**Abstract**| Aims: The JWST program JOYS (JWST Observations of Young protoStars) aims at characterizing the physical and chemical properties of young high- and low-mass star-forming regions, in particular the unique mid-infrared diagnostics of the warmer gas and solid-state components. We present early results from the high-mass star formation region IRAS23385+6053. Methods: The JOYS program uses the MIRI MRS with its IFU to investigate a sample of high- and low-mass star-forming protostellar systems. Results: The 5 to 28mum MIRI spectrum of IRAS23385+6053 shows a plethora of features. While the general spectrum is typical for an embedded protostar, we see many atomic and molecular gas lines boosted by the higher spectral resolution and sensitivity compared to previous space missions. Furthermore, ice and dust absorption features are also present. Here, we focus on the continuum emission, outflow tracers like the H2, [FeII] and [NeII] lines as well as the potential accretion tracer Humphreys alpha HI(7--6). The short-wavelength MIRI data resolve two continuum sources A and B, where mid-infrared source A is associated with the main mm continuum peak. The combination of mid-infrared and mm data reveals a young cluster in its making. Combining the mid-infrared outflow tracer H2, [FeII] and [NeII] with mm SiO data shows a complex interplay of at least three molecular outflows driven by protostars in the forming cluster. Furthermore, the Humphreys alpha line is detected at a 3-4sigma level towards the mid-infrared sources A and B. Following Rigliaco et al. (2015), one can roughly estimate accretion luminosities and corresponding accretion rates between ~2.6x10^-6 and ~0.9x10^-4 M_sun/yr. This is discussed in the context of the observed outflow rates. Conclusions: The analysis of the MIRI MRS observations for this young high-mass star-forming region reveals connected outflow and accretion signatures. |"
      ],
      "text/plain": [
       "[arXiv:2303.13172] JOYS: JWST Observations of Young protoStars: Outflows and accretion in  the high-mass star-forming region IRAS23385+605\n",
       "\t<mark>H. Beuther</mark>, et al. -- incl., <mark>G. Perotti</mark>, <mark>M. Guedel</mark>"
      ]
     },
     "metadata": {},
     "output_type": "display_data"
    },
    {
     "data": {
      "text/markdown": [
       "## Failed papers"
      ],
      "text/plain": [
       "<IPython.core.display.Markdown object>"
      ]
     },
     "metadata": {},
     "output_type": "display_data"
    },
    {
     "data": {
      "text/markdown": [
       "\n",
       "|||\n",
       "|---:|:---|\n",
       "| [![arXiv](https://img.shields.io/badge/arXiv-arXiv:2303.13469-b31b1b.svg)](https://arxiv.org/abs/arXiv:2303.13469) | **JWST MIRI flight performance: The Medium-Resolution Spectrometer**  |\n",
       "|| I. Argyriou, et al. -- incl., <mark>M. Wells</mark> |\n",
       "|*Appeared on*| *2023-03-24*|\n",
       "|*Comments*| *15 pages, 21 figures*|\n",
       "|**Abstract**| The Medium-Resolution Spectrometer (MRS) provides one of the four operating modes of the Mid-Infrared Instrument (MIRI) on board the James Webb Space Telescope (JWST). The MRS is an integral field spectrometer, measuring the spatial and spectral distributions of light across the 5-28 $\\mu m$ wavelength range with a spectral resolving power between 3700-1300. We present the MRS' optical, spectral, and spectro-photometric performance, as achieved in flight, and report on the effects that limit the instrument's ultimate sensitivity. The MRS flight performance has been quantified using observations of stars, planetary nebulae, and planets in our Solar System. The precision and accuracy of this calibration is checked against celestial calibrators with well known flux levels and spectral features. We find that the MRS geometric calibration has a distortion solution accuracy relative to the commanded position of 8 mas at 5 $\\mu m$ and 23 mas at 28 $\\mu m$. The wavelength calibration is accurate to within 9 km/sec at 5 $\\mu m$ and 27 km/sec at 28 $\\mu m$. The uncertainty in the absolute spectro-photometric calibration accuracy is estimated at 5.6 +- 0.7 %. The MIRI calibration pipeline is able to suppress the amplitude of spectral fringes to below 1.5 % for both extended and point sources across the entire wavelength range. The MRS PSF is 60 % broader than the diffraction limit along its long axis at 5 $\\mu m$ and is 15 % broader at 28 $\\mu m$. The MRS flight performance is found to be better than pre-launch expectations. The MRS is one of the most subscribed observing modes of JWST and is yielding many high-profile publications. It is currently humanity's most powerful instrument for measuring the mid-infrared spectra of celestial sources and is expected to continue as such for many years to come. |\n",
       "|<p style=\"color:green\"> **ERROR** </p>| <p style=\"color:green\">affiliation error: mpia.affiliation_verifications: '69117' keyword not found.</p> |"
      ],
      "text/plain": [
       "<IPython.core.display.Markdown object>"
      ]
     },
     "metadata": {},
     "output_type": "display_data"
    },
    {
     "data": {
      "text/markdown": [
       "\n",
       "|||\n",
       "|---:|:---|\n",
       "| [![arXiv](https://img.shields.io/badge/arXiv-arXiv:2303.13202-b31b1b.svg)](https://arxiv.org/abs/arXiv:2303.13202) | **Tentative detection of titanium oxide in the atmosphere of WASP-69 b  with a 4m ground-based telescope**  |\n",
       "|| Q. Ouyang, et al. -- incl., <mark>M. Zhai</mark> |\n",
       "|*Appeared on*| *2023-03-24*|\n",
       "|*Comments*| *21 pages, 17 figures, 9 tables, Accepted for publication in MNRAS*|\n",
       "|**Abstract**| Transiting planets provide unique opportunities for the atmospheric characterization of exoplanets as they can reveal composition and the temperature structures at the day-night terminator regions in planetary atmospheres, and help understand the atmospheric process and formation environments of exoplanets. Here, we present the optical transmission spectroscopic study of an inflated Saturn-mass planet WASP-69 b, obtained by the 4-meter ground-based telescope Southern Astrophysical Research Telescope (SOAR). We obtain spectroscopic transit light curves in 20 passbands from 502 to 890 nm, and fit them using Gaussian Processes and an analytical transit model to obtain independent transit depths for each. The derived transmission spectrum of WASP-69 b shows a slope with absorption depth increasing towards blue wavelengths, indicating a Rayleigh scattering in the atmosphere consistent with previous works. The retrieval analysis yields a tentative detection of TiO absorption feature in the transmission spectrum. We present the first results from the SOAR telescope to characterize exoplanetary atmospheres proving its capability and precision for hot Jupiters around bright stars in an area dominated by results from large ground-based telescopes or space telescopes. |\n",
       "|<p style=\"color:green\"> **ERROR** </p>| <p style=\"color:green\">affiliation error: mpia.affiliation_verifications: 'Heidelberg' keyword not found.</p> |"
      ],
      "text/plain": [
       "<IPython.core.display.Markdown object>"
      ]
     },
     "metadata": {},
     "output_type": "display_data"
    },
    {
     "data": {
      "text/markdown": [
       "\n",
       "|||\n",
       "|---:|:---|\n",
       "| [![arXiv](https://img.shields.io/badge/arXiv-arXiv:2303.13445-b31b1b.svg)](https://arxiv.org/abs/arXiv:2303.13445) | **Synchronous rotation in the (136199) Eris-Dysnomia system**  |\n",
       "|| G. M. Bernstein, et al. -- incl., <mark>M. Smith</mark> |\n",
       "|*Appeared on*| *2023-03-24*|\n",
       "|*Comments*| *Submitted to Planetary Science Journal*|\n",
       "|**Abstract**| We combine photometry of Eris from a 6-month campaign on the Palomar 60-inch telescope in 2015, a 1-month Hubble Space Telescope WFC3 campaign in 2018, and Dark Energy Survey data spanning 2013--2018 to determine a light curve of definitive period $15.771\\pm 0.008$~days (1-$\\sigma$ formal uncertainties), with nearly sinusoidal shape and peak-to-peak flux variation of 3\\%. This is consistent at part-per-thousand precision with the $P=15.78590\\pm0.00005$~day period of Dysnomia's orbit around Eris, strengthening the recent detection of synchronous rotation of Eris by Szakats et al (2022) with independent data. Photometry from Gaia is consistent with the same light curve. We detect a slope of $0.05\\pm0.01$~mag per degree of Eris' brightness with respect to illumination phase, intermediate between Pluto's and Charon's values. Variations of $0.3$~mag are detected in Dysnomia's brightness, plausibly consistent with a double-peaked light curve at the synchronous period. The synchronous rotation of Eris is consistent with simple tidal models initiated with a giant-impact origin of the binary, but is difficult to reconcile with gravitational capture of Dysnomia by Eris. |\n",
       "|<p style=\"color:green\"> **ERROR** </p>| <p style=\"color:green\">affiliation error: mpia.affiliation_verifications: 'Heidelberg' keyword not found.</p> |"
      ],
      "text/plain": [
       "<IPython.core.display.Markdown object>"
      ]
     },
     "metadata": {},
     "output_type": "display_data"
    }
   ],
   "source": [
    "import datetime\n",
    "today = str(datetime.date.today())\n",
    "logfile = f\"_build/html/logs/log-{today}.md\"\n",
    "\n",
    "\n",
    "with open(logfile, 'w') as logs:\n",
    "    # Success\n",
    "    logs.write(f'# Arxiv on Deck 2: Logs - {today}\\n\\n')\n",
    "    logs.write(\"\"\"* Arxiv had {0:,d} new papers\\n\"\"\".format(len(new_papers)))\n",
    "    logs.write(\"\"\"    * {0:,d} with possible author matches\\n\\n\"\"\".format(len(candidates)))\n",
    "    logs.write(\"## Sucessful papers\\n\\n\")\n",
    "    display(Markdown(\"## Successful papers\"))\n",
    "    success = [k[0] for k in documents]\n",
    "    for candid in candidates:\n",
    "        if candid['identifier'].split(':')[-1] in success:\n",
    "            display(candid)\n",
    "            logs.write(candid.generate_markdown_text() + '\\n\\n')\n",
    "\n",
    "    ## failed\n",
    "    logs.write(\"## Failed papers\\n\\n\")\n",
    "    display(Markdown(\"## Failed papers\"))\n",
    "    failed = sorted(failed, key=lambda x: x[1])\n",
    "    current_reason = \"\"\n",
    "    for paper, reason in failed:\n",
    "        if 'affiliation' in reason:\n",
    "            color = 'green'\n",
    "        else:\n",
    "            color = 'red'\n",
    "        data = Markdown(\n",
    "                paper.generate_markdown_text() + \n",
    "                f'\\n|<p style=\"color:{color:s}\"> **ERROR** </p>| <p style=\"color:{color:s}\">{reason:s}</p> |'\n",
    "               )\n",
    "        if reason != current_reason:\n",
    "            logs.write(f'### {reason:s} \\n\\n')\n",
    "            current_reason = reason\n",
    "        logs.write(data.data + '\\n\\n')\n",
    "        \n",
    "        # only display here the important errors (all in logs)\n",
    "        # if color in ('red',):\n",
    "        display(data)"
   ]
  },
  {
   "cell_type": "markdown",
   "id": "472d20ee",
   "metadata": {
    "papermill": {
     "duration": 0.006972,
     "end_time": "2023-03-24T17:02:59.255613",
     "exception": false,
     "start_time": "2023-03-24T17:02:59.248641",
     "status": "completed"
    },
    "tags": []
   },
   "source": [
    "## Export documents\n",
    "\n",
    "We now write the .md files and export relevant images"
   ]
  },
  {
   "cell_type": "code",
   "execution_count": 6,
   "id": "d426aed9",
   "metadata": {
    "execution": {
     "iopub.execute_input": "2023-03-24T17:02:59.268942Z",
     "iopub.status.busy": "2023-03-24T17:02:59.268126Z",
     "iopub.status.idle": "2023-03-24T17:02:59.277075Z",
     "shell.execute_reply": "2023-03-24T17:02:59.276147Z"
    },
    "papermill": {
     "duration": 0.017565,
     "end_time": "2023-03-24T17:02:59.278730",
     "exception": false,
     "start_time": "2023-03-24T17:02:59.261165",
     "status": "completed"
    },
    "tags": []
   },
   "outputs": [],
   "source": [
    "def export_markdown_summary(md: str, md_fname:str, directory: str):\n",
    "    \"\"\"Export MD document and associated relevant images\"\"\"\n",
    "    import os\n",
    "    import shutil\n",
    "    import re\n",
    "\n",
    "    if (os.path.exists(directory) and not os.path.isdir(directory)):\n",
    "        raise RuntimeError(f\"a non-directory file exists with name {directory:s}\")\n",
    "\n",
    "    if (not os.path.exists(directory)):\n",
    "        print(f\"creating directory {directory:s}\")\n",
    "        os.mkdir(directory)\n",
    "\n",
    "    fig_fnames = (re.compile(r'\\[Fig.*\\]\\((.*)\\)').findall(md) + \n",
    "                  re.compile(r'\\<img src=\"([^>\\s]*)\"[^>]*/>').findall(md))\n",
    "    for fname in fig_fnames:\n",
    "        if 'http' in fname:\n",
    "            # No need to copy online figures\n",
    "            continue\n",
    "        destdir = os.path.join(directory, os.path.dirname(fname))\n",
    "        destfname = os.path.join(destdir, os.path.basename(fname))\n",
    "        try:\n",
    "            os.makedirs(destdir)\n",
    "        except FileExistsError:\n",
    "            pass\n",
    "        shutil.copy(fname, destfname)\n",
    "    with open(os.path.join(directory, md_fname), 'w') as fout:\n",
    "        fout.write(md)\n",
    "    print(\"exported in \", os.path.join(directory, md_fname))\n",
    "    [print(\"    + \" + os.path.join(directory,fk)) for fk in fig_fnames]"
   ]
  },
  {
   "cell_type": "code",
   "execution_count": 7,
   "id": "014d04a4",
   "metadata": {
    "execution": {
     "iopub.execute_input": "2023-03-24T17:02:59.293200Z",
     "iopub.status.busy": "2023-03-24T17:02:59.292904Z",
     "iopub.status.idle": "2023-03-24T17:02:59.304596Z",
     "shell.execute_reply": "2023-03-24T17:02:59.303835Z"
    },
    "papermill": {
     "duration": 0.021843,
     "end_time": "2023-03-24T17:02:59.306350",
     "exception": false,
     "start_time": "2023-03-24T17:02:59.284507",
     "status": "completed"
    },
    "tags": []
   },
   "outputs": [
    {
     "name": "stdout",
     "output_type": "stream",
     "text": [
      "exported in  _build/html/2303.13172.md\n",
      "    + _build/html/tmp_2303.13172/./outflows.png\n",
      "    + _build/html/tmp_2303.13172/./outflows.png\n",
      "    + _build/html/tmp_2303.13172/./23385_overview2.png\n"
     ]
    }
   ],
   "source": [
    "for paper_id, md in documents:\n",
    "    export_markdown_summary(md, f\"{paper_id:s}.md\", '_build/html/')"
   ]
  },
  {
   "cell_type": "markdown",
   "id": "f087a0a7",
   "metadata": {
    "papermill": {
     "duration": 0.005391,
     "end_time": "2023-03-24T17:02:59.317637",
     "exception": false,
     "start_time": "2023-03-24T17:02:59.312246",
     "status": "completed"
    },
    "tags": []
   },
   "source": [
    "## Display the papers\n",
    "\n",
    "Not necessary but allows for a quick check."
   ]
  },
  {
   "cell_type": "code",
   "execution_count": 8,
   "id": "fd25f625",
   "metadata": {
    "execution": {
     "iopub.execute_input": "2023-03-24T17:02:59.330617Z",
     "iopub.status.busy": "2023-03-24T17:02:59.330273Z",
     "iopub.status.idle": "2023-03-24T17:02:59.335553Z",
     "shell.execute_reply": "2023-03-24T17:02:59.334969Z"
    },
    "papermill": {
     "duration": 0.013917,
     "end_time": "2023-03-24T17:02:59.337478",
     "exception": false,
     "start_time": "2023-03-24T17:02:59.323561",
     "status": "completed"
    },
    "scrolled": false,
    "tags": []
   },
   "outputs": [
    {
     "data": {
      "text/markdown": [
       "<div class=\"macros\" style=\"visibility:hidden;\">\n",
       "$\\newcommand{\\ensuremath}{}$\n",
       "$\\newcommand{\\xspace}{}$\n",
       "$\\newcommand{\\object}[1]{\\texttt{#1}}$\n",
       "$\\newcommand{\\farcs}{{.}''}$\n",
       "$\\newcommand{\\farcm}{{.}'}$\n",
       "$\\newcommand{\\arcsec}{''}$\n",
       "$\\newcommand{\\arcmin}{'}$\n",
       "$\\newcommand{\\ion}[2]{#1#2}$\n",
       "$\\newcommand{\\textsc}[1]{\\textrm{#1}}$\n",
       "$\\newcommand{\\hl}[1]{\\textrm{#1}}$\n",
       "$\\newcommand{\\footnote}[1]{}$</div>\n",
       "\n",
       "<div class=\"macros\" style=\"visibility:hidden;\">\n",
       "$\\newcommand{\\ensuremath}{}$\n",
       "$\\newcommand{\\xspace}{}$\n",
       "$\\newcommand{\\object}[1]{\\texttt{#1}}$\n",
       "$\\newcommand{\\farcs}{{.}''}$\n",
       "$\\newcommand{\\farcm}{{.}'}$\n",
       "$\\newcommand{\\arcsec}{''}$\n",
       "$\\newcommand{\\arcmin}{'}$\n",
       "$\\newcommand{\\ion}[2]{#1#2}$\n",
       "$\\newcommand{\\textsc}[1]{\\textrm{#1}}$\n",
       "$\\newcommand{\\hl}[1]{\\textrm{#1}}$\n",
       "$\\newcommand{\\footnote}[1]{}$</div>\n",
       "\n",
       "\n",
       "\n",
       "<div id=\"title\">\n",
       "\n",
       "# JOYS: JWST Observations of Young protoStars\n",
       "\n",
       "</div>\n",
       "<div id=\"comments\">\n",
       "\n",
       "[![arXiv](https://img.shields.io/badge/arXiv-2303.13172-b31b1b.svg)](https://arxiv.org/abs/2303.13172)<mark>Appeared on: 2023-03-24</mark> - _12 pages, 9 figures, accepted for Astronomy & Astrophysics, the paper is also available at this https URL_\n",
       "\n",
       "</div>\n",
       "<div id=\"authors\">\n",
       "\n",
       "<mark>H. Beuther</mark>, et al. -- incl., <mark>G. Perotti</mark>, <mark>M. Guedel</mark>\n",
       "\n",
       "</div>\n",
       "<div id=\"abstract\">\n",
       "\n",
       "**Abstract:** Understanding the earliest stages of star formation, and setting that into context with the general cycle of matter in the interstellar medium, is a central aspect of research with the James Webb Space Telescope (JWST). The JWST program JOYS (JWST Observations of Young protoStars) aims at characterizing the physical and chemical properties of young high- and low-mass star-forming regions, in particular the unique mid-infrared diagnostics of the warmer gas and solid-state components. We present early results from the high-mass star formation region IRAS 23385+6053. The JOYS program uses the Mid-Infrared Instrument (MIRI) Medium Resolution Spectrometer (MRS) with its Integral Field Unit (IFU) to investigate a sample of high- and low-mass star-forming protostellar systems. The full 5 to 28 $\\mu$ m MIRI MRS spectrum of IRAS 23385+6053 shows a plethora of interesting features. While the general spectrum is typical for an embedded protostar, we see many atomic and molecular gas lines boosted by the higher spectral resolution and sensitivity compared to previous space missions. Furthermore, ice and dust absorption features are also present. Here, we focus on the continuum emission, outflow tracers like the $H_2$ (0--0)S(7), [ FeII ] ( $^4F_{9/2}$ -- $^6D_{9/2}$ ) and [ NeII ] ( $^2P_{1/2}-^2P_{3/2}$ ) lines as well as the potential accretion tracer Humphreys $\\alpha$ H ${i}$ (7--6). The short-wavelength MIRI data resolve two continuum sources A and B, where mid-infrared source A is associated with the main mm continuum peak. The combination of mid-infrared and mm data reveals a young cluster in its making. Combining the mid-infrared outflow tracer $H_2$ , [ FeII ] and [ NeII ] with mm SiO data shows a complex interplay of at least three molecular outflows driven by protostars in the forming cluster. Furthermore, the Humphreys $\\alpha$ line is detected at a 3--4 $\\sigma$ level towards the mid-infrared sources A and B. Following [Rigliaco, Pascucci and Duchene (2015)]() , one can roughly estimate both accretion luminosities and corresponding accretion rates between $\\sim$ 2.6 $\\times 10^{-6}$ and $\\sim$ 0.9 $\\times 10^{-4}$ $M_{\\odot}yr^{-1}$ . This is discussed in the context of the observed outflow rates. The analysis of the MIRI MRS observations for this young high-mass star-forming region reveals connected outflow and accretion signatures. Furthermore, they outline the enormous potential of JWST to boost our understanding of the physical and chemical processes during star formation.\n",
       "\n",
       "</div>\n",
       "\n",
       "<div id=\"div_fig1\">\n",
       "\n",
       "<img src=\"tmp_2303.13172/./outflows.png\" alt=\"Fig8\" width=\"100%\"/>\n",
       "\n",
       "**Figure 8. -** Outflow images in NOEMA SiO(2-1) (integrated emission, left panel), JWST [FeII]($^4F_{9/2}$--$^6D_{9/2}$)@5.34 $\\mu$m (middle panel) and JWST $H_2$(0--0)S(7)@5.511 $\\mu$m (right panel). The red and blue contours show the red- and blue-shifted NOEMA SiO(2--1) emission in the labeled velocity regimes ($v_{\\rm lsr}=-50.2$ km s$^{-1}$). Contour levels are from 30 to 90\\%(step 10\\%) of the respective integrated peak emission. The magenta contours show the 5.2 $\\mu$m continuum emission (steps 20 to 90\\% by 15\\%). The green contours in the left panel outline the 1.3 mm continuum starting at the 20$\\sigma$ levels (1$\\sigma$=1.13 mJy beam$^{-1}$). A linear scale bar is presented in the middle panel, and the green lines in the right panel outline and label potential outflows. The two mid-infrared sources are labeled in the right panel as well. The dashed line in the left panel marks a potentially precessing outflow corresponding to outflow (I). A green star in all panels marks the main mm peak position labeled mmA1 in [Cesaroni, Beuther and Ahmadi (2019)](). North and west are labeled in the right panel. The resolution elements are shown at the bottom right of each panel, left SiO(2--1) in grey and 1.3 mm continuum as line, middle and right [FeII] and $H_2$, respectively. (*outflows*)\n",
       "\n",
       "</div>\n",
       "<div id=\"div_fig2\">\n",
       "\n",
       "<img src=\"tmp_2303.13172/./outflows.png\" alt=\"Fig15\" width=\"100%\"/>\n",
       "\n",
       "**Figure 15. -** Outflow images in NOEMA SiO(2-1) (integrated emission, left panel), JWST [FeII]($^4F_{9/2}$--$^6D_{9/2}$)@5.34 $\\mu$m (middle panel) and JWST $H_2$(0--0)S(7)@5.511 $\\mu$m (right panel). The red and blue contours show the red- and blue-shifted NOEMA SiO(2--1) emission in the labeled velocity regimes ($v_{\\rm lsr}=-50.2$ km s$^{-1}$). Contour levels are from 30 to 90\\%(step 10\\%) of the respective integrated peak emission. The magenta contours show the 5.2 $\\mu$m continuum emission (steps 20 to 90\\% by 15\\%). The green contours in the left panel outline the 1.3 mm continuum starting at the 20$\\sigma$ levels (1$\\sigma$=1.13 mJy beam$^{-1}$). A linear scale bar is presented in the middle panel, and the green lines in the right panel outline and label potential outflows. The two mid-infrared sources are labeled in the right panel as well. The dashed line in the left panel marks a potentially precessing outflow corresponding to outflow (I). A green star in all panels marks the main mm peak position labeled mmA1 in [Cesaroni, Beuther and Ahmadi (2019)](). North and west are labeled in the right panel. The resolution elements are shown at the bottom right of each panel, left SiO(2--1) in grey and 1.3 mm continuum as line, middle and right [FeII] and $H_2$, respectively. (*outflows*)\n",
       "\n",
       "</div>\n",
       "<div id=\"div_fig3\">\n",
       "\n",
       "<img src=\"tmp_2303.13172/./23385_overview2.png\" alt=\"Fig5\" width=\"100%\"/>\n",
       "\n",
       "**Figure 5. -** Overview of the region around IRAS 23385+6053. The left panel shows a large-scale overview while the middle and right panels present  zoom-ins. The color-scale in the left and middle panels show the 12 $\\mu$m emission from WISE at an angular resolution of $6.5\"$ ([Wright, Eisenhardt and Mainzer 2010]()) . The little squares outline the field of view of the MIRI IFU mosaic in channel 1 (each square $3.7\"\\times 3.7\"$). The color-scale in the right panel shows the new MIRI 5.2 $\\mu$m continuum emission (see also Fig. \\ref{continuum}). The contours in the middle and right panels present the 1.3 mm continuum emission  ([Beuther, Mottram and Ahmadi 2018](), [Cesaroni, Beuther and Ahmadi 2019]()) . The contours start at the 5$\\sigma$ level of 0.55 mJy beam$^{-1}$ and continue in 25$\\sigma$ steps. The black and red/blue lines in the middle panel show the directions of outflows identified in [Molinari, et. al (1998)]() and [Cesaroni, Beuther and Ahmadi (2019)](), respectively. The right panel marks the mid-infrared sources A and B as well as the mm sources labeled \"mm\" with the corresponding source letters from [Cesaroni, Beuther and Ahmadi (2019)](). Mid-infrared source A and mm source mmA2 are spatially co-located. A linear scale-bar is shown in all panels. (*overview*)\n",
       "\n",
       "</div><div id=\"qrcode\"><img src=https://api.qrserver.com/v1/create-qr-code/?size=100x100&data=\"https://arxiv.org/abs/2303.13172\"></div>"
      ],
      "text/plain": [
       "<IPython.core.display.Markdown object>"
      ]
     },
     "metadata": {},
     "output_type": "display_data"
    }
   ],
   "source": [
    "[display(Markdown(k[1])) for k in documents];"
   ]
  },
  {
   "cell_type": "markdown",
   "id": "873873a4",
   "metadata": {
    "papermill": {
     "duration": 0.005713,
     "end_time": "2023-03-24T17:02:59.349342",
     "exception": false,
     "start_time": "2023-03-24T17:02:59.343629",
     "status": "completed"
    },
    "tags": []
   },
   "source": [
    "# Create HTML index"
   ]
  },
  {
   "cell_type": "code",
   "execution_count": 9,
   "id": "cf665672",
   "metadata": {
    "execution": {
     "iopub.execute_input": "2023-03-24T17:02:59.364062Z",
     "iopub.status.busy": "2023-03-24T17:02:59.363226Z",
     "iopub.status.idle": "2023-03-24T17:02:59.374547Z",
     "shell.execute_reply": "2023-03-24T17:02:59.373756Z"
    },
    "papermill": {
     "duration": 0.020951,
     "end_time": "2023-03-24T17:02:59.376380",
     "exception": false,
     "start_time": "2023-03-24T17:02:59.355429",
     "status": "completed"
    },
    "tags": []
   },
   "outputs": [
    {
     "name": "stdout",
     "output_type": "stream",
     "text": [
      "204  publications files modified in the last 7 days.\n"
     ]
    }
   ],
   "source": [
    "from datetime import datetime, timedelta, timezone\n",
    "from glob import glob\n",
    "import os\n",
    "\n",
    "files = glob('_build/html/*.md')\n",
    "days = 7\n",
    "now = datetime.today()\n",
    "res = []\n",
    "for fk in files:\n",
    "    stat_result = os.stat(fk).st_ctime\n",
    "    modified = datetime.fromtimestamp(stat_result, tz=timezone.utc).replace(tzinfo=None)\n",
    "    delta = now.today() - modified\n",
    "    if delta <= timedelta(days=days):\n",
    "        res.append((delta.seconds, fk))\n",
    "res = [k[1] for k in reversed(sorted(res, key=lambda x:x[1]))]\n",
    "npub = len(res)\n",
    "print(len(res), f\" publications files modified in the last {days:d} days.\")\n",
    "# [ print('\\t', k) for k in res ];"
   ]
  },
  {
   "cell_type": "code",
   "execution_count": 10,
   "id": "015de740",
   "metadata": {
    "execution": {
     "iopub.execute_input": "2023-03-24T17:02:59.390524Z",
     "iopub.status.busy": "2023-03-24T17:02:59.389956Z",
     "iopub.status.idle": "2023-03-24T17:02:59.415113Z",
     "shell.execute_reply": "2023-03-24T17:02:59.414329Z"
    },
    "papermill": {
     "duration": 0.034239,
     "end_time": "2023-03-24T17:02:59.416995",
     "exception": false,
     "start_time": "2023-03-24T17:02:59.382756",
     "status": "completed"
    },
    "tags": []
   },
   "outputs": [
    {
     "name": "stdout",
     "output_type": "stream",
     "text": [
      "6  publications in the last 7 days.\n"
     ]
    }
   ],
   "source": [
    "import datetime\n",
    "from glob import glob\n",
    "\n",
    "def get_last_n_days(lst, days=1):\n",
    "    \"\"\" Get the documents from the last n days \"\"\"\n",
    "    sorted_lst = sorted(lst, key=lambda x: x[1], reverse=True)\n",
    "    for fname, date in sorted_lst:\n",
    "        if date >= str(datetime.date.today() - datetime.timedelta(days=days)):\n",
    "            yield fname\n",
    "\n",
    "def extract_appearance_dates(lst_file):\n",
    "    dates = []\n",
    "\n",
    "    def get_date(line):\n",
    "        return line\\\n",
    "            .split('Appeared on:')[-1]\\\n",
    "            .split('</mark>')[0].strip()\n",
    "\n",
    "    for fname in lst:\n",
    "        with open(fname, 'r') as f:\n",
    "            found_date = False\n",
    "            for line in f:\n",
    "                if not found_date:\n",
    "                    if \"Appeared on\" in line:\n",
    "                        found_date = True\n",
    "                        dates.append((fname, get_date(line)))\n",
    "                else:\n",
    "                    break\n",
    "    return dates\n",
    "\n",
    "from glob import glob\n",
    "lst = glob('_build/html/*md')\n",
    "days = 7\n",
    "dates = extract_appearance_dates(lst)\n",
    "res = list(get_last_n_days(dates, days))\n",
    "npub = len(res)\n",
    "print(len(res), f\" publications in the last {days:d} days.\")"
   ]
  },
  {
   "cell_type": "code",
   "execution_count": 11,
   "id": "52ca0208",
   "metadata": {
    "execution": {
     "iopub.execute_input": "2023-03-24T17:02:59.431358Z",
     "iopub.status.busy": "2023-03-24T17:02:59.430542Z",
     "iopub.status.idle": "2023-03-24T17:02:59.437149Z",
     "shell.execute_reply": "2023-03-24T17:02:59.436444Z"
    },
    "papermill": {
     "duration": 0.015454,
     "end_time": "2023-03-24T17:02:59.438907",
     "exception": false,
     "start_time": "2023-03-24T17:02:59.423453",
     "status": "completed"
    },
    "scrolled": false,
    "tags": []
   },
   "outputs": [],
   "source": [
    "def create_carousel(npub=4):\n",
    "    \"\"\" Generate the HTML code for a carousel with `npub` slides \"\"\"\n",
    "    carousel = [\"\"\"  <div class=\"carousel\" \"\"\",\n",
    "                \"\"\"       data-flickity='{ \"autoPlay\": 10000, \"adaptiveHeight\": true, \"resize\": true, \"wrapAround\": true, \"pauseAutoPlayOnHover\": true, \"groupCells\": 1 }' id=\"asyncTypeset\">\"\"\"\n",
    "                ]\n",
    "    \n",
    "    item_str = \"\"\"    <div class=\"carousel-cell\"> <div id=\"slide{k}\" class=\"md_view\">Content {k}</div> </div>\"\"\"\n",
    "    for k in range(1, npub + 1):\n",
    "        carousel.append(item_str.format(k=k))\n",
    "    carousel.append(\"  </div>\")\n",
    "    return '\\n'.join(carousel)\n",
    "\n",
    "def create_grid(npub=4):\n",
    "    \"\"\" Generate the HTML code for a flat grid with `npub` slides \"\"\"\n",
    "    grid = [\"\"\"  <div class=\"grid\"> \"\"\",\n",
    "                ]\n",
    "    \n",
    "    item_str = \"\"\"    <div class=\"grid-item\"> <div id=\"slide{k}\" class=\"md_view\">Content {k}</div> </div>\"\"\"\n",
    "    for k in range(1, npub + 1):\n",
    "        grid.append(item_str.format(k=k))\n",
    "    grid.append(\"  </div>\")\n",
    "    return '\\n'.join(grid)"
   ]
  },
  {
   "cell_type": "code",
   "execution_count": 12,
   "id": "a6eac5b6",
   "metadata": {
    "execution": {
     "iopub.execute_input": "2023-03-24T17:02:59.454556Z",
     "iopub.status.busy": "2023-03-24T17:02:59.453869Z",
     "iopub.status.idle": "2023-03-24T17:02:59.460414Z",
     "shell.execute_reply": "2023-03-24T17:02:59.459674Z"
    },
    "papermill": {
     "duration": 0.016214,
     "end_time": "2023-03-24T17:02:59.462116",
     "exception": false,
     "start_time": "2023-03-24T17:02:59.445902",
     "status": "completed"
    },
    "scrolled": false,
    "tags": []
   },
   "outputs": [],
   "source": [
    "carousel = create_carousel(npub)\n",
    "docs = ', '.join(['\"{0:s}\"'.format(k.split('/')[-1]) for k in res])\n",
    "slides = ', '.join([f'\"slide{k}\"' for k in range(1, npub + 1)])\n",
    "\n",
    "with open(\"daily_template.html\", \"r\") as tpl:\n",
    "    page = tpl.read()\n",
    "    page = page.replace(\"{%-- carousel:s --%}\", carousel)\\\n",
    "               .replace(\"{%-- suptitle:s --%}\",  \"7-day archives\" )\\\n",
    "               .replace(\"{%-- docs:s --%}\", docs)\\\n",
    "               .replace(\"{%-- slides:s --%}\", slides)\n",
    "    \n",
    "with open(\"_build/html/index_7days.html\", 'w') as fout:\n",
    "    fout.write(page)"
   ]
  },
  {
   "cell_type": "code",
   "execution_count": 13,
   "id": "adc1a1ec",
   "metadata": {
    "execution": {
     "iopub.execute_input": "2023-03-24T17:02:59.476982Z",
     "iopub.status.busy": "2023-03-24T17:02:59.476160Z",
     "iopub.status.idle": "2023-03-24T17:02:59.484829Z",
     "shell.execute_reply": "2023-03-24T17:02:59.484084Z"
    },
    "papermill": {
     "duration": 0.018086,
     "end_time": "2023-03-24T17:02:59.486513",
     "exception": false,
     "start_time": "2023-03-24T17:02:59.468427",
     "status": "completed"
    },
    "tags": []
   },
   "outputs": [
    {
     "name": "stdout",
     "output_type": "stream",
     "text": [
      "3  publications in the last day.\n"
     ]
    }
   ],
   "source": [
    "# redo for today\n",
    "days = 1\n",
    "res = list(get_last_n_days(dates, days))\n",
    "npub = len(res)\n",
    "print(len(res), f\" publications in the last day.\")\n",
    "\n",
    "carousel = create_carousel(npub)\n",
    "docs = ', '.join(['\"{0:s}\"'.format(k.split('/')[-1]) for k in res])\n",
    "slides = ', '.join([f'\"slide{k}\"' for k in range(1, npub + 1)])\n",
    "\n",
    "with open(\"daily_template.html\", \"r\") as tpl:\n",
    "    page = tpl.read()\n",
    "    page = page.replace(\"{%-- carousel:s --%}\", carousel)\\\n",
    "               .replace(\"{%-- suptitle:s --%}\",  \"Daily\" )\\\n",
    "               .replace(\"{%-- docs:s --%}\", docs)\\\n",
    "               .replace(\"{%-- slides:s --%}\", slides)\n",
    "    \n",
    "# print(carousel, docs, slides)\n",
    "# print(page)\n",
    "with open(\"_build/html/index_daily.html\", 'w') as fout:\n",
    "    fout.write(page)"
   ]
  },
  {
   "cell_type": "code",
   "execution_count": 14,
   "id": "00eece82",
   "metadata": {
    "execution": {
     "iopub.execute_input": "2023-03-24T17:02:59.502032Z",
     "iopub.status.busy": "2023-03-24T17:02:59.501205Z",
     "iopub.status.idle": "2023-03-24T17:02:59.509711Z",
     "shell.execute_reply": "2023-03-24T17:02:59.508958Z"
    },
    "papermill": {
     "duration": 0.017967,
     "end_time": "2023-03-24T17:02:59.511502",
     "exception": false,
     "start_time": "2023-03-24T17:02:59.493535",
     "status": "completed"
    },
    "scrolled": false,
    "tags": []
   },
   "outputs": [
    {
     "name": "stdout",
     "output_type": "stream",
     "text": [
      "6  6 publications selected.\n"
     ]
    }
   ],
   "source": [
    "# Create the flat grid of the last N papers (fixed number regardless of dates)\n",
    "from itertools import islice \n",
    "\n",
    "npub = 6\n",
    "res = [k[0] for k in (islice(reversed(sorted(dates, key=lambda x: x[1])), 6))]\n",
    "print(len(res), f\" {npub} publications selected.\")\n",
    "\n",
    "grid = create_grid(npub)\n",
    "docs = ', '.join(['\"{0:s}\"'.format(k.split('/')[-1]) for k in res])\n",
    "slides = ', '.join([f'\"slide{k}\"' for k in range(1, npub + 1)])\n",
    "\n",
    "with open(\"grid_template.html\", \"r\") as tpl:\n",
    "    page = tpl.read()\n",
    "    page = page.replace(\"{%-- grid-content:s --%}\", grid)\\\n",
    "               .replace(\"{%-- suptitle:s --%}\",  f\"Last {npub:,d} papers\" )\\\n",
    "               .replace(\"{%-- docs:s --%}\", docs)\\\n",
    "               .replace(\"{%-- slides:s --%}\", slides)\n",
    "    \n",
    "# print(grid, docs, slides)\n",
    "# print(page)\n",
    "with open(\"_build/html/index_npub_grid.html\", 'w') as fout:\n",
    "    fout.write(page)"
   ]
  }
 ],
 "metadata": {
  "kernelspec": {
   "display_name": "Python 3 (ipykernel)",
   "language": "python",
   "name": "python3"
  },
  "language_info": {
   "codemirror_mode": {
    "name": "ipython",
    "version": 3
   },
   "file_extension": ".py",
   "mimetype": "text/x-python",
   "name": "python",
   "nbconvert_exporter": "python",
   "pygments_lexer": "ipython3",
   "version": "3.9.16"
  },
  "papermill": {
   "default_parameters": {},
   "duration": 82.147592,
   "end_time": "2023-03-24T17:02:59.839885",
   "environment_variables": {},
   "exception": null,
   "input_path": "MPIA daily digest.ipynb",
   "output_path": "log.ipynb",
   "parameters": {},
   "start_time": "2023-03-24T17:01:37.692293",
   "version": "2.4.0"
  },
  "vscode": {
   "interpreter": {
    "hash": "aee8b7b246df8f9039afb4144a1f6fd8d2ca17a180786b69acc140d282b71a49"
   }
  },
  "widgets": {
   "application/vnd.jupyter.widget-state+json": {
    "state": {
     "1e6ac3911d6b4313a746af44a5cc3907": {
      "model_module": "@jupyter-widgets/controls",
      "model_module_version": "2.0.0",
      "model_name": "HTMLStyleModel",
      "state": {
       "_model_module": "@jupyter-widgets/controls",
       "_model_module_version": "2.0.0",
       "_model_name": "HTMLStyleModel",
       "_view_count": null,
       "_view_module": "@jupyter-widgets/base",
       "_view_module_version": "2.0.0",
       "_view_name": "StyleView",
       "background": null,
       "description_width": "",
       "font_size": null,
       "text_color": null
      }
     },
     "361a52b4f7fb464aa382295c20cd87e0": {
      "model_module": "@jupyter-widgets/controls",
      "model_module_version": "2.0.0",
      "model_name": "FloatProgressModel",
      "state": {
       "_dom_classes": [],
       "_model_module": "@jupyter-widgets/controls",
       "_model_module_version": "2.0.0",
       "_model_name": "FloatProgressModel",
       "_view_count": null,
       "_view_module": "@jupyter-widgets/controls",
       "_view_module_version": "2.0.0",
       "_view_name": "ProgressView",
       "bar_style": "success",
       "description": "",
       "description_allow_html": false,
       "layout": "IPY_MODEL_a8b0f3c432a24a509cdc19a6e28e8df2",
       "max": 4.0,
       "min": 0.0,
       "orientation": "horizontal",
       "style": "IPY_MODEL_ae6a0abeb30e4ab7acdcc04e2e6c4ed9",
       "tabbable": null,
       "tooltip": null,
       "value": 4.0
      }
     },
     "6d4d674ad4b74c80a1d3823e891b36eb": {
      "model_module": "@jupyter-widgets/controls",
      "model_module_version": "2.0.0",
      "model_name": "HTMLStyleModel",
      "state": {
       "_model_module": "@jupyter-widgets/controls",
       "_model_module_version": "2.0.0",
       "_model_name": "HTMLStyleModel",
       "_view_count": null,
       "_view_module": "@jupyter-widgets/base",
       "_view_module_version": "2.0.0",
       "_view_name": "StyleView",
       "background": null,
       "description_width": "",
       "font_size": null,
       "text_color": null
      }
     },
     "89fbc0f679874affb94dfbf09b868ce9": {
      "model_module": "@jupyter-widgets/base",
      "model_module_version": "2.0.0",
      "model_name": "LayoutModel",
      "state": {
       "_model_module": "@jupyter-widgets/base",
       "_model_module_version": "2.0.0",
       "_model_name": "LayoutModel",
       "_view_count": null,
       "_view_module": "@jupyter-widgets/base",
       "_view_module_version": "2.0.0",
       "_view_name": "LayoutView",
       "align_content": null,
       "align_items": null,
       "align_self": null,
       "border_bottom": null,
       "border_left": null,
       "border_right": null,
       "border_top": null,
       "bottom": null,
       "display": null,
       "flex": null,
       "flex_flow": null,
       "grid_area": null,
       "grid_auto_columns": null,
       "grid_auto_flow": null,
       "grid_auto_rows": null,
       "grid_column": null,
       "grid_gap": null,
       "grid_row": null,
       "grid_template_areas": null,
       "grid_template_columns": null,
       "grid_template_rows": null,
       "height": null,
       "justify_content": null,
       "justify_items": null,
       "left": null,
       "margin": null,
       "max_height": null,
       "max_width": null,
       "min_height": null,
       "min_width": null,
       "object_fit": null,
       "object_position": null,
       "order": null,
       "overflow": null,
       "padding": null,
       "right": null,
       "top": null,
       "visibility": null,
       "width": null
      }
     },
     "94e8f771f74d4af280c3f8b0f7b2de4f": {
      "model_module": "@jupyter-widgets/controls",
      "model_module_version": "2.0.0",
      "model_name": "HTMLModel",
      "state": {
       "_dom_classes": [],
       "_model_module": "@jupyter-widgets/controls",
       "_model_module_version": "2.0.0",
       "_model_name": "HTMLModel",
       "_view_count": null,
       "_view_module": "@jupyter-widgets/controls",
       "_view_module_version": "2.0.0",
       "_view_name": "HTMLView",
       "description": "",
       "description_allow_html": false,
       "layout": "IPY_MODEL_c85e5c9dea6a427f87aabce9be3e8a97",
       "placeholder": "​",
       "style": "IPY_MODEL_1e6ac3911d6b4313a746af44a5cc3907",
       "tabbable": null,
       "tooltip": null,
       "value": "100%"
      }
     },
     "a8b0f3c432a24a509cdc19a6e28e8df2": {
      "model_module": "@jupyter-widgets/base",
      "model_module_version": "2.0.0",
      "model_name": "LayoutModel",
      "state": {
       "_model_module": "@jupyter-widgets/base",
       "_model_module_version": "2.0.0",
       "_model_name": "LayoutModel",
       "_view_count": null,
       "_view_module": "@jupyter-widgets/base",
       "_view_module_version": "2.0.0",
       "_view_name": "LayoutView",
       "align_content": null,
       "align_items": null,
       "align_self": null,
       "border_bottom": null,
       "border_left": null,
       "border_right": null,
       "border_top": null,
       "bottom": null,
       "display": null,
       "flex": null,
       "flex_flow": null,
       "grid_area": null,
       "grid_auto_columns": null,
       "grid_auto_flow": null,
       "grid_auto_rows": null,
       "grid_column": null,
       "grid_gap": null,
       "grid_row": null,
       "grid_template_areas": null,
       "grid_template_columns": null,
       "grid_template_rows": null,
       "height": null,
       "justify_content": null,
       "justify_items": null,
       "left": null,
       "margin": null,
       "max_height": null,
       "max_width": null,
       "min_height": null,
       "min_width": null,
       "object_fit": null,
       "object_position": null,
       "order": null,
       "overflow": null,
       "padding": null,
       "right": null,
       "top": null,
       "visibility": null,
       "width": null
      }
     },
     "ae6a0abeb30e4ab7acdcc04e2e6c4ed9": {
      "model_module": "@jupyter-widgets/controls",
      "model_module_version": "2.0.0",
      "model_name": "ProgressStyleModel",
      "state": {
       "_model_module": "@jupyter-widgets/controls",
       "_model_module_version": "2.0.0",
       "_model_name": "ProgressStyleModel",
       "_view_count": null,
       "_view_module": "@jupyter-widgets/base",
       "_view_module_version": "2.0.0",
       "_view_name": "StyleView",
       "bar_color": null,
       "description_width": ""
      }
     },
     "b716d01eceb44d9fb39dac2350044aef": {
      "model_module": "@jupyter-widgets/controls",
      "model_module_version": "2.0.0",
      "model_name": "HBoxModel",
      "state": {
       "_dom_classes": [],
       "_model_module": "@jupyter-widgets/controls",
       "_model_module_version": "2.0.0",
       "_model_name": "HBoxModel",
       "_view_count": null,
       "_view_module": "@jupyter-widgets/controls",
       "_view_module_version": "2.0.0",
       "_view_name": "HBoxView",
       "box_style": "",
       "children": [
        "IPY_MODEL_94e8f771f74d4af280c3f8b0f7b2de4f",
        "IPY_MODEL_361a52b4f7fb464aa382295c20cd87e0",
        "IPY_MODEL_d3fa9e508a504ea0b25d97cd5abe320e"
       ],
       "layout": "IPY_MODEL_89fbc0f679874affb94dfbf09b868ce9",
       "tabbable": null,
       "tooltip": null
      }
     },
     "c85e5c9dea6a427f87aabce9be3e8a97": {
      "model_module": "@jupyter-widgets/base",
      "model_module_version": "2.0.0",
      "model_name": "LayoutModel",
      "state": {
       "_model_module": "@jupyter-widgets/base",
       "_model_module_version": "2.0.0",
       "_model_name": "LayoutModel",
       "_view_count": null,
       "_view_module": "@jupyter-widgets/base",
       "_view_module_version": "2.0.0",
       "_view_name": "LayoutView",
       "align_content": null,
       "align_items": null,
       "align_self": null,
       "border_bottom": null,
       "border_left": null,
       "border_right": null,
       "border_top": null,
       "bottom": null,
       "display": null,
       "flex": null,
       "flex_flow": null,
       "grid_area": null,
       "grid_auto_columns": null,
       "grid_auto_flow": null,
       "grid_auto_rows": null,
       "grid_column": null,
       "grid_gap": null,
       "grid_row": null,
       "grid_template_areas": null,
       "grid_template_columns": null,
       "grid_template_rows": null,
       "height": null,
       "justify_content": null,
       "justify_items": null,
       "left": null,
       "margin": null,
       "max_height": null,
       "max_width": null,
       "min_height": null,
       "min_width": null,
       "object_fit": null,
       "object_position": null,
       "order": null,
       "overflow": null,
       "padding": null,
       "right": null,
       "top": null,
       "visibility": null,
       "width": null
      }
     },
     "d3fa9e508a504ea0b25d97cd5abe320e": {
      "model_module": "@jupyter-widgets/controls",
      "model_module_version": "2.0.0",
      "model_name": "HTMLModel",
      "state": {
       "_dom_classes": [],
       "_model_module": "@jupyter-widgets/controls",
       "_model_module_version": "2.0.0",
       "_model_name": "HTMLModel",
       "_view_count": null,
       "_view_module": "@jupyter-widgets/controls",
       "_view_module_version": "2.0.0",
       "_view_name": "HTMLView",
       "description": "",
       "description_allow_html": false,
       "layout": "IPY_MODEL_d649e3758d884fd5bab670ffef88ec4b",
       "placeholder": "​",
       "style": "IPY_MODEL_6d4d674ad4b74c80a1d3823e891b36eb",
       "tabbable": null,
       "tooltip": null,
       "value": " 4/4 [00:53&lt;00:00, 11.12s/it]"
      }
     },
     "d649e3758d884fd5bab670ffef88ec4b": {
      "model_module": "@jupyter-widgets/base",
      "model_module_version": "2.0.0",
      "model_name": "LayoutModel",
      "state": {
       "_model_module": "@jupyter-widgets/base",
       "_model_module_version": "2.0.0",
       "_model_name": "LayoutModel",
       "_view_count": null,
       "_view_module": "@jupyter-widgets/base",
       "_view_module_version": "2.0.0",
       "_view_name": "LayoutView",
       "align_content": null,
       "align_items": null,
       "align_self": null,
       "border_bottom": null,
       "border_left": null,
       "border_right": null,
       "border_top": null,
       "bottom": null,
       "display": null,
       "flex": null,
       "flex_flow": null,
       "grid_area": null,
       "grid_auto_columns": null,
       "grid_auto_flow": null,
       "grid_auto_rows": null,
       "grid_column": null,
       "grid_gap": null,
       "grid_row": null,
       "grid_template_areas": null,
       "grid_template_columns": null,
       "grid_template_rows": null,
       "height": null,
       "justify_content": null,
       "justify_items": null,
       "left": null,
       "margin": null,
       "max_height": null,
       "max_width": null,
       "min_height": null,
       "min_width": null,
       "object_fit": null,
       "object_position": null,
       "order": null,
       "overflow": null,
       "padding": null,
       "right": null,
       "top": null,
       "visibility": null,
       "width": null
      }
     }
    },
    "version_major": 2,
    "version_minor": 0
   }
  }
 },
 "nbformat": 4,
 "nbformat_minor": 5
}