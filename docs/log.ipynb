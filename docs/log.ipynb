{
 "cells": [
  {
   "cell_type": "markdown",
   "id": "92bcb855",
   "metadata": {
    "papermill": {
     "duration": 0.004477,
     "end_time": "2023-09-13T04:05:54.104025",
     "exception": false,
     "start_time": "2023-09-13T04:05:54.099548",
     "status": "completed"
    },
    "tags": []
   },
   "source": [
    "# MPIA Arxiv on Deck 2\n",
    "\n",
    "Contains the steps to produce the paper extractions."
   ]
  },
  {
   "cell_type": "code",
   "execution_count": 1,
   "id": "3a0d6e11",
   "metadata": {
    "execution": {
     "iopub.execute_input": "2023-09-13T04:05:54.113277Z",
     "iopub.status.busy": "2023-09-13T04:05:54.112707Z",
     "iopub.status.idle": "2023-09-13T04:05:54.530210Z",
     "shell.execute_reply": "2023-09-13T04:05:54.529551Z"
    },
    "papermill": {
     "duration": 0.424008,
     "end_time": "2023-09-13T04:05:54.532086",
     "exception": false,
     "start_time": "2023-09-13T04:05:54.108078",
     "status": "completed"
    },
    "tags": []
   },
   "outputs": [],
   "source": [
    "# Imports\n",
    "import os\n",
    "from IPython.display import Markdown, display\n",
    "from tqdm.notebook import tqdm\n",
    "import warnings\n",
    "from PIL import Image \n",
    "\n",
    "# requires arxiv_on_deck_2\n",
    "\n",
    "from arxiv_on_deck_2.arxiv2 import (get_new_papers, \n",
    "                                    get_paper_from_identifier,\n",
    "                                    retrieve_document_source, \n",
    "                                    get_markdown_badge)\n",
    "from arxiv_on_deck_2 import (latex,\n",
    "                             latex_bib,\n",
    "                             mpia,\n",
    "                             highlight_authors_in_list)\n",
    "\n",
    "# Sometimes images are really big\n",
    "Image.MAX_IMAGE_PIXELS = 1000000000 "
   ]
  },
  {
   "cell_type": "code",
   "execution_count": 2,
   "id": "22aa9d44",
   "metadata": {
    "execution": {
     "iopub.execute_input": "2023-09-13T04:05:54.540910Z",
     "iopub.status.busy": "2023-09-13T04:05:54.540456Z",
     "iopub.status.idle": "2023-09-13T04:05:54.548468Z",
     "shell.execute_reply": "2023-09-13T04:05:54.547827Z"
    },
    "papermill": {
     "duration": 0.014422,
     "end_time": "2023-09-13T04:05:54.550205",
     "exception": false,
     "start_time": "2023-09-13T04:05:54.535783",
     "status": "completed"
    },
    "tags": []
   },
   "outputs": [],
   "source": [
    "# Some useful definitions.\n",
    "\n",
    "class AffiliationWarning(UserWarning):\n",
    "    pass\n",
    "\n",
    "class AffiliationError(RuntimeError):\n",
    "    pass\n",
    "\n",
    "def validation(source: str):\n",
    "    \"\"\"Raises error paper during parsing of source file\n",
    "    \n",
    "    Allows checks before parsing TeX code.\n",
    "    \n",
    "    Raises AffiliationWarning\n",
    "    \"\"\"\n",
    "    check = mpia.affiliation_verifications(source, verbose=True)\n",
    "    if check is not True:\n",
    "        raise AffiliationError(\"mpia.affiliation_verifications: \" + check)\n",
    "\n",
    "        \n",
    "warnings.simplefilter('always', AffiliationWarning)\n",
    "\n",
    "\n",
    "def get_markdown_qrcode(paper_id: str):\n",
    "    \"\"\" Generate a qrcode to the arxiv page using qrserver.com\n",
    "    \n",
    "    :param paper: Arxiv paper\n",
    "    :returns: markdown text\n",
    "    \"\"\"\n",
    "    url = r\"https://api.qrserver.com/v1/create-qr-code/?size=100x100&data=\"\n",
    "    txt = f\"\"\"<img src={url}\"https://arxiv.org/abs/{paper_id}\">\"\"\"\n",
    "    txt = '<div id=\"qrcode\">' + txt + '</div>'\n",
    "    return txt"
   ]
  },
  {
   "cell_type": "markdown",
   "id": "14bd6310",
   "metadata": {
    "papermill": {
     "duration": 0.003372,
     "end_time": "2023-09-13T04:05:54.558541",
     "exception": false,
     "start_time": "2023-09-13T04:05:54.555169",
     "status": "completed"
    },
    "tags": []
   },
   "source": [
    "## get list of arxiv paper candidates\n",
    "\n",
    "We use the MPIA mitarbeiter list webpage from mpia.de to get author names\n",
    "We then get all new papers from Arxiv and match authors"
   ]
  },
  {
   "cell_type": "code",
   "execution_count": 3,
   "id": "2645e73a",
   "metadata": {
    "execution": {
     "iopub.execute_input": "2023-09-13T04:05:54.566819Z",
     "iopub.status.busy": "2023-09-13T04:05:54.566333Z",
     "iopub.status.idle": "2023-09-13T04:06:17.811489Z",
     "shell.execute_reply": "2023-09-13T04:06:17.810566Z"
    },
    "papermill": {
     "duration": 23.251185,
     "end_time": "2023-09-13T04:06:17.813126",
     "exception": false,
     "start_time": "2023-09-13T04:05:54.561941",
     "status": "completed"
    },
    "tags": []
   },
   "outputs": [
    {
     "name": "stdout",
     "output_type": "stream",
     "text": [
      "A. d. Graaff  ->  A. D. Graaff  |  ['A. D. Graaff']\n"
     ]
    },
    {
     "name": "stdout",
     "output_type": "stream",
     "text": [
      "L. Boogaard  ->  L. Boogaard  |  ['L. Boogaard']\n",
      "S. Bosman  ->  S. Bosman  |  ['S. Bosman']\n",
      "L. Boogaard  ->  L. Boogaard  |  ['L. Boogaard']\n",
      "F. Walter  ->  F. Walter  |  ['F. Walter']\n",
      "Arxiv has 83 new papers today\n",
      "          4 with possible author matches\n"
     ]
    }
   ],
   "source": [
    "# get list from MPIA website\n",
    "# it automatically filters identified non-scientists :func:`mpia.filter_non_scientists`\n",
    "mpia_authors = mpia.get_mpia_mitarbeiter_list()\n",
    "normed_mpia_authors = [k[1] for k in mpia_authors]   # initials + fullname\n",
    "new_papers = get_new_papers()\n",
    "# add manual references\n",
    "add_paper_refs = []\n",
    "new_papers.extend([get_paper_from_identifier(k) for k in add_paper_refs])\n",
    "\n",
    "candidates = []\n",
    "for paperk in new_papers:\n",
    "    # Check author list with their initials\n",
    "    normed_author_list = [mpia.get_initials(k) for k in paperk['authors']]\n",
    "    hl_authors = highlight_authors_in_list(normed_author_list, normed_mpia_authors, verbose=True)\n",
    "    matches = [(hl, orig) for hl, orig in zip(hl_authors, paperk['authors']) if 'mark' in hl]\n",
    "    paperk['authors'] = hl_authors\n",
    "    if matches:\n",
    "        # only select paper if an author matched our list\n",
    "        candidates.append(paperk)\n",
    "print(\"\"\"Arxiv has {0:,d} new papers today\"\"\".format(len(new_papers)))        \n",
    "print(\"\"\"          {0:,d} with possible author matches\"\"\".format(len(candidates)))"
   ]
  },
  {
   "cell_type": "markdown",
   "id": "3543b34a",
   "metadata": {
    "papermill": {
     "duration": 0.003879,
     "end_time": "2023-09-13T04:06:17.820933",
     "exception": false,
     "start_time": "2023-09-13T04:06:17.817054",
     "status": "completed"
    },
    "tags": []
   },
   "source": [
    "# Parse sources and generate relevant outputs\n",
    "\n",
    "From the candidates, we do the following steps:\n",
    "* get their tarball from ArXiv (and extract data)\n",
    "* find the main .tex file: find one with \\documentclass{...} (sometimes it's non trivial)\n",
    "* Check affiliations with :func:`validation`, which uses :func:`mpia.affiliation_verifications`\n",
    "* If passing the affiliations: we parse the .tex source\n",
    "   * inject sub-documents into the main (flatten the main document)\n",
    "   * parse structure, extract information (title, abstract, authors, figures...)\n",
    "   * handles `\\graphicspath` if provided\n",
    "* Generate the .md document."
   ]
  },
  {
   "cell_type": "code",
   "execution_count": 4,
   "id": "9576b79e",
   "metadata": {
    "execution": {
     "iopub.execute_input": "2023-09-13T04:06:17.829431Z",
     "iopub.status.busy": "2023-09-13T04:06:17.828953Z",
     "iopub.status.idle": "2023-09-13T04:07:09.784872Z",
     "shell.execute_reply": "2023-09-13T04:07:09.784101Z"
    },
    "papermill": {
     "duration": 51.962006,
     "end_time": "2023-09-13T04:07:09.786480",
     "exception": false,
     "start_time": "2023-09-13T04:06:17.824474",
     "status": "completed"
    },
    "scrolled": false,
    "tags": []
   },
   "outputs": [
    {
     "data": {
      "application/vnd.jupyter.widget-view+json": {
       "model_id": "7b7ee4d4e2d54ff88d50f54c58f72490",
       "version_major": 2,
       "version_minor": 0
      },
      "text/plain": [
       "  0%|          | 0/4 [00:00<?, ?it/s]"
      ]
     },
     "metadata": {},
     "output_type": "display_data"
    },
    {
     "name": "stdout",
     "output_type": "stream",
     "text": [
      "Retrieving document from  https://arxiv.org/e-print/2309.05714\n"
     ]
    },
    {
     "name": "stdout",
     "output_type": "stream",
     "text": [
      "extracting tarball to tmp_2309.05714..."
     ]
    },
    {
     "name": "stdout",
     "output_type": "stream",
     "text": [
      " done.\n"
     ]
    },
    {
     "name": "stdout",
     "output_type": "stream",
     "text": [
      "list index out of range\n",
      "Retrieving document from  https://arxiv.org/e-print/2309.06235\n"
     ]
    },
    {
     "name": "stdout",
     "output_type": "stream",
     "text": [
      "extracting tarball to tmp_2309.06235..."
     ]
    },
    {
     "name": "stdout",
     "output_type": "stream",
     "text": [
      " done.\n",
      "Retrieving document from  https://arxiv.org/e-print/2309.06311\n"
     ]
    },
    {
     "name": "stderr",
     "output_type": "stream",
     "text": [
      "/opt/hostedtoolcache/Python/3.9.18/x64/lib/python3.9/site-packages/IPython/core/interactiveshell.py:3526: LatexWarning: Multiple tex files.\n",
      "\n",
      "  exec(code_obj, self.user_global_ns, self.user_ns)\n",
      "/opt/hostedtoolcache/Python/3.9.18/x64/lib/python3.9/site-packages/IPython/core/interactiveshell.py:3526: LatexWarning: Found documentclass in tmp_2309.06235/main.tex\n",
      "\n",
      "  exec(code_obj, self.user_global_ns, self.user_ns)\n",
      "/opt/hostedtoolcache/Python/3.9.18/x64/lib/python3.9/site-packages/arxiv_on_deck_2/latex.py:399: LatexWarning: Latex injecting: 'acknowledgments' from 'tmp_2309.06235/acknowledgments.tex'\n",
      "  warnings.warn(LatexWarning(f\"Latex injecting: '{ext}' from '{subsource}'\"))\n",
      "/opt/hostedtoolcache/Python/3.9.18/x64/lib/python3.9/site-packages/arxiv_on_deck_2/latex.py:399: LatexWarning: Latex injecting: 'latex_authorlist_institutions' from 'tmp_2309.06235/latex_authorlist_institutions.tex'\n",
      "  warnings.warn(LatexWarning(f\"Latex injecting: '{ext}' from '{subsource}'\"))\n",
      "/opt/hostedtoolcache/Python/3.9.18/x64/lib/python3.9/site-packages/arxiv_on_deck_2/latex.py:399: LatexWarning: Latex injecting: 'latex_authorlist_authors' from 'tmp_2309.06235/latex_authorlist_authors.tex'\n",
      "  warnings.warn(LatexWarning(f\"Latex injecting: '{ext}' from '{subsource}'\"))\n"
     ]
    },
    {
     "name": "stdout",
     "output_type": "stream",
     "text": [
      "extracting tarball to tmp_2309.06311... done.\n"
     ]
    },
    {
     "name": "stdout",
     "output_type": "stream",
     "text": [
      "L. Boogaard  ->  L. Boogaard  |  ['L. Boogaard']\n"
     ]
    },
    {
     "name": "stdout",
     "output_type": "stream",
     "text": [
      "Found 52 bibliographic references in tmp_2309.06311/ms.bbl.\n",
      "Retrieving document from  https://arxiv.org/e-print/2309.06319\n"
     ]
    },
    {
     "name": "stdout",
     "output_type": "stream",
     "text": [
      "extracting tarball to tmp_2309.06319... done.\n"
     ]
    },
    {
     "name": "stdout",
     "output_type": "stream",
     "text": [
      "Found 79 bibliographic references in tmp_2309.06319/MACS1149-new.bbl.\n",
      "syntax error in line 18: '=' expected\n"
     ]
    }
   ],
   "source": [
    "documents = []\n",
    "failed = []\n",
    "for paper in tqdm(candidates):\n",
    "    paper_id = paper['identifier'].lower().replace('arxiv:', '')\n",
    "    \n",
    "    folder = f'tmp_{paper_id}'\n",
    "\n",
    "    try:\n",
    "        if not os.path.isdir(folder):\n",
    "            folder = retrieve_document_source(f\"{paper_id}\", f'tmp_{paper_id}')\n",
    "        \n",
    "        try:\n",
    "            doc = latex.LatexDocument(folder, validation=validation)    \n",
    "        except AffiliationError as affilerror:\n",
    "            msg = f\"ArXiv:{paper_id:s} is not an MPIA paper... \" + str(affilerror)\n",
    "            failed.append((paper, \"affiliation error: \" + str(affilerror) ))\n",
    "            continue\n",
    "        \n",
    "        # Hack because sometimes author parsing does not work well\n",
    "        if (len(doc.authors) != len(paper['authors'])):\n",
    "            doc._authors = paper['authors']\n",
    "        else:\n",
    "            # highlight authors (FIXME: doc.highlight_authors)\n",
    "            # done on arxiv paper already\n",
    "            doc._authors = highlight_authors_in_list(\n",
    "                [mpia.get_initials(k) for k in doc.authors], \n",
    "                normed_mpia_authors, verbose=True)\n",
    "        if (doc.abstract) in (None, ''):\n",
    "            doc._abstract = paper['abstract']\n",
    "            \n",
    "        doc.comment = (get_markdown_badge(paper_id) + \n",
    "                       \"<mark>Appeared on: \" + paper['date'] + \"</mark> - \")\n",
    "        if paper['comments']:\n",
    "            doc.comment += \" _\" + paper['comments'] + \"_\"\n",
    "        \n",
    "        full_md = doc.generate_markdown_text()\n",
    "        \n",
    "        full_md += get_markdown_qrcode(paper_id)\n",
    "        \n",
    "        # replace citations\n",
    "        try:\n",
    "            bibdata = latex_bib.LatexBib.from_doc(doc)\n",
    "            full_md = latex_bib.replace_citations(full_md, bibdata)\n",
    "        except Exception as e:\n",
    "            print(e)\n",
    "        \n",
    "        documents.append((paper_id, full_md))\n",
    "    except Exception as e:\n",
    "        warnings.warn(latex.LatexWarning(f\"{paper_id:s} did not run properly\\n\" +\n",
    "                                         str(e)\n",
    "                                        ))\n",
    "        failed.append((paper, \"latex error \" + str(e)))"
   ]
  },
  {
   "cell_type": "markdown",
   "id": "2505a25c",
   "metadata": {
    "papermill": {
     "duration": 0.004804,
     "end_time": "2023-09-13T04:07:09.796121",
     "exception": false,
     "start_time": "2023-09-13T04:07:09.791317",
     "status": "completed"
    },
    "tags": []
   },
   "source": [
    "### Export the logs\n",
    "\n",
    "Throughout, we also keep track of the logs per paper. see `logs-{today date}.md` "
   ]
  },
  {
   "cell_type": "code",
   "execution_count": 5,
   "id": "d733828a",
   "metadata": {
    "execution": {
     "iopub.execute_input": "2023-09-13T04:07:09.806758Z",
     "iopub.status.busy": "2023-09-13T04:07:09.806063Z",
     "iopub.status.idle": "2023-09-13T04:07:09.826284Z",
     "shell.execute_reply": "2023-09-13T04:07:09.825666Z"
    },
    "papermill": {
     "duration": 0.027262,
     "end_time": "2023-09-13T04:07:09.827797",
     "exception": false,
     "start_time": "2023-09-13T04:07:09.800535",
     "status": "completed"
    },
    "scrolled": false,
    "tags": []
   },
   "outputs": [
    {
     "data": {
      "text/markdown": [
       "## Successful papers"
      ],
      "text/plain": [
       "<IPython.core.display.Markdown object>"
      ]
     },
     "metadata": {},
     "output_type": "display_data"
    },
    {
     "data": {
      "text/markdown": [
       "\n",
       "|||\n",
       "|---:|:---|\n",
       "| [![arXiv](https://img.shields.io/badge/arXiv-arXiv:2309.05714-b31b1b.svg)](https://arxiv.org/abs/arXiv:2309.05714) | **UNCOVER spectroscopy confirms a surprising ubiquity of AGN in red  galaxies at $z>5$**  |\n",
       "|| J. E. Greene, et al. -- incl., <mark>A. d. Graaff</mark> |\n",
       "|*Appeared on*| *2023-09-13*|\n",
       "|*Comments*| *23 pages, 9 figures, 5 tables, submitted to ApJ*|\n",
       "|**Abstract**| JWST is revealing a new population of dust-reddened broad-line active galactic nuclei (AGN) at redshifts $z\\gtrsim5$. Here we present deep NIRSpec/Prism spectroscopy from the Cycle 1 Treasury program UNCOVER of 15 AGN candidates selected to be compact, with red continua in the rest-frame optical but with blue slopes in the UV. From NIRCam photometry alone, they could have been dominated by dusty star formation or AGN. Here we show that the majority of the compact red sources in UNCOVER are dust-reddened AGN: $60\\%$ show definitive evidence for broad-line H$\\alpha$ with FWHM$\\, >2000$ km/s, for $20\\%$ current data are inconclusive, and $20\\%$ are brown dwarf stars. We propose an updated photometric criterion to select red $z>5$ AGN that excludes brown dwarfs and is expected to yield $>80\\%$ AGN. Remarkably, among all $z_{\\rm phot}>5$ galaxies with F277W$-$F444W$>1$ in UNCOVER at least $33\\%$ are AGN regardless of compactness, climbing to at least $80\\%$ AGN for sources with F277W$-$F444W$>1.6$. The confirmed AGN have black hole masses of $10^7-10^9$ M$_{\\odot}$. While their UV-luminosities ($-16>M_{\\rm UV}>-20$ AB mag) are low compared to UV-selected AGN at these epochs, consistent with percent-level scattered AGN light or low levels of unobscured star formation, the inferred bolometric luminosities are typical of $10^7-10^9$ M$_{\\odot}$ black holes radiating at $\\sim 10-40\\%$ of Eddington. The number densities are surprisingly high at $\\sim10^{-5}$ Mpc$^{-3}$ mag$^{-1}$, 100 times more common than the faintest UV-selected quasars, while accounting for $\\sim1\\%$ of the UV-selected galaxies. While their UV-faintness suggest they may not contribute strongly to reionization, their ubiquity poses challenges to models of black hole growth. |"
      ],
      "text/plain": [
       "[arXiv:2309.05714] UNCOVER spectroscopy confirms a surprising ubiquity of AGN in red  galaxies at $z>5$\n",
       "\tJ. E. Greene, et al. -- incl., <mark>A. d. Graaff</mark>"
      ]
     },
     "metadata": {},
     "output_type": "display_data"
    },
    {
     "data": {
      "text/markdown": [
       "\n",
       "|||\n",
       "|---:|:---|\n",
       "| [![arXiv](https://img.shields.io/badge/arXiv-arXiv:2309.06311-b31b1b.svg)](https://arxiv.org/abs/arXiv:2309.06311) | **Spatially-resolved Spectroscopic Analysis of Ly$α$ Haloes: Radial  Evolution of the Ly$α$ Line Profile out to 60 kpc**  |\n",
       "|| Y. Guo, et al. -- incl., <mark>L. Boogaard</mark> |\n",
       "|*Appeared on*| *2023-09-13*|\n",
       "|*Comments*| *Submitted to A&A Letters*|\n",
       "|**Abstract**| Deep MUSE observations have unveiled pervasive Ly$\\alpha$ haloes (LAHs) surrounding high-redshift star-forming galaxies. However, the origin of the extended Ly$\\alpha$ emission is still a subject of debate. We analyse the average spatial extent and spectral variation of the circumgalactic LAHs by stacking a sample of 155 Ly$\\alpha$ emitters (LAEs) at redshift $3<z<4$ in the MUSE Extremely Deep Field (MXDF). With respect to the Ly$\\alpha$ red peak of the target LAE, the Ly$\\alpha$ line peak becomes increasingly more blueshifted out to a projected distance of at least 60 kpc, where the velocity offset is $\\approx$ 250 km/s. This signal is observed in both the mean and median stacks, and is thus a generic property of the LAE sample with typical Ly$\\alpha$ luminosity $\\mathrm{\\approx 10^{41.1} erg\\,s^{-1}}$. We discuss multiple scenarios to explain the blueshift of the circumgalactic Ly$\\alpha$ line. The most plausible one is a combination of outflows and inflows. In the inner region of the LAH, the Ly$\\alpha$ photons are produced by the central star formation and then scattered within outflows. At larger radii, the infalling cool gas shapes the observed Ly$\\alpha$ blueshift. |"
      ],
      "text/plain": [
       "[arXiv:2309.06311] Spatially-resolved Spectroscopic Analysis of Ly$α$ Haloes: Radial  Evolution of the Ly$α$ Line Profile out to 60 kpc\n",
       "\tY. Guo, et al. -- incl., <mark>L. Boogaard</mark>"
      ]
     },
     "metadata": {},
     "output_type": "display_data"
    },
    {
     "data": {
      "text/markdown": [
       "\n",
       "|||\n",
       "|---:|:---|\n",
       "| [![arXiv](https://img.shields.io/badge/arXiv-arXiv:2309.06319-b31b1b.svg)](https://arxiv.org/abs/arXiv:2309.06319) | **Spatially-resolved H$α$ and ionizing photon production efficiency  in the lensed galaxy MACS1149-JD1 at a redshift of 9.11**  |\n",
       "|| J. Álvarez-Márquez, et al. -- incl., <mark>S. Bosman</mark>, <mark>L. Boogaard</mark>, <mark>F. Walter</mark> |\n",
       "|*Appeared on*| *2023-09-13*|\n",
       "|*Comments*| *11 pages, 6 figures, submitted to A&A*|\n",
       "|**Abstract**| We present MIRI/JWST medium resolution spectroscopy (MRS) and imaging (MIRIM) of the lensed galaxy MACS1149-JD1 at a redshift of $z$=9.1092$\\pm$0.0002 (Universe age about 530 Myr). We detect, for the first time, spatially-resolved H$\\alpha$ emission in a galaxy at redshift above 9. The structure of the H$\\alpha$ emitting gas consists of two clumps, S and N. The total H$\\alpha$ luminosity implies an instantaneous star formation rate of 5.3$\\pm$0.4 $M_{\\odot}$ yr$^{-1}$ for solar metallicities. The ionizing photon production efficiency, $\\log(\\zeta_\\mathrm{ion})$, shows a spatially-resolved structure with values of 25.55$\\pm$0.03, 25.47$\\pm$0.03, and 25.91$\\pm$0.09 Hz erg$^{-1}$ for the integrated galaxy, and clumps S and N, respectively. The H$\\alpha$ rest-frame equivalent width, EW$_{0}$(H$\\alpha$), is 491$^{+334}_{-128}$ \\'Angstrom for the integrated galaxy, but presents extreme values of 363$^{+187}_{-87}$ \\'Angstrom and $\\geq$1543 \\'Angstrom for clumps S and N, respectively. The spatially-resolved ionizing photon production efficiency is within the range of values measured in galaxies at redshift above six, and well above the canonical value (25.2$\\pm$0.1 Hz erg$^{-1}$). The extreme difference of EW$_{0}$(H$\\alpha$) for Clumps S and N indicates the presence of a recent (few Myr old) burst in clump N and a star formation over a larger period of time (e.g. 100$-$200 Myr) in clump S. Finally, clump S and N show very different H$\\alpha$ kinematics with velocity dispersions of 56$\\pm$4 km s$^{-1}$ and 113$\\pm$33 km s$^{-1}$, likely indicating the presence of outflows or increased turbulence in the clump N. The dynamical mass, $M_\\mathrm{dyn}$= (2.4$\\pm$0.5)$\\times$10$^{9}$ $M_{\\odot}$, is within the range previously measured with the spatially-resolved [OIII]88$\\mu$m line. |"
      ],
      "text/plain": [
       "[arXiv:2309.06319] Spatially-resolved H$α$ and ionizing photon production efficiency  in the lensed galaxy MACS1149-JD1 at a redshift of 9.11\n",
       "\tJ. Álvarez-Márquez, et al. -- incl., <mark>S. Bosman</mark>, <mark>L. Boogaard</mark>, <mark>F. Walter</mark>"
      ]
     },
     "metadata": {},
     "output_type": "display_data"
    },
    {
     "data": {
      "text/markdown": [
       "## Failed papers"
      ],
      "text/plain": [
       "<IPython.core.display.Markdown object>"
      ]
     },
     "metadata": {},
     "output_type": "display_data"
    },
    {
     "data": {
      "text/markdown": [
       "\n",
       "|||\n",
       "|---:|:---|\n",
       "| [![arXiv](https://img.shields.io/badge/arXiv-arXiv:2309.06235-b31b1b.svg)](https://arxiv.org/abs/arXiv:2309.06235) | **AugerPrime Surface Detector Electronics**  |\n",
       "|| P. A. Collaboration, et al. |\n",
       "|*Appeared on*| *2023-09-13*|\n",
       "|*Comments*| **|\n",
       "|**Abstract**| Operating since 2004, the Pierre Auger Observatory has led to major advances in our 8 understanding of the ultra-high-energy cosmic rays. The latest findings have revealed new insights 9 that led to the upgrade of the Observatory, with the primary goal of obtaining information on the 10 primary mass of the most energetic cosmic rays on a shower-by-shower basis. In the framework of the 11 upgrade, called AugerPrime, the 1660 water-Cherenkov detectors of the surface array are equipped 12 with plastic scintillators and radio antennas, allowing us to enhance the composition sensitivity. 13 To accommodate new detectors and to increase experimental capabilities, the electronics is also 14 upgraded. This includes better timing with up-to-date GPS receivers, higher sampling frequency, 15 increased dynamic range, and more powerful local processing of the data. In this paper, the design 16 characteristics of the new electronics and the enhanced dynamic range will be described. The 17 manufacturing and test processes will be outlined and the test results will be discussed. The 18 calibration of the SD detector and various performance parameters obtained from the analysis of 19 the first commissioning data will also be presented. |\n",
       "|<p style=\"color:green\"> **ERROR** </p>| <p style=\"color:green\">affiliation error: mpia.affiliation_verifications: 'Heidelberg' keyword not found.</p> |"
      ],
      "text/plain": [
       "<IPython.core.display.Markdown object>"
      ]
     },
     "metadata": {},
     "output_type": "display_data"
    }
   ],
   "source": [
    "import datetime\n",
    "today = str(datetime.date.today())\n",
    "logfile = f\"_build/html/logs/log-{today}.md\"\n",
    "\n",
    "\n",
    "with open(logfile, 'w') as logs:\n",
    "    # Success\n",
    "    logs.write(f'# Arxiv on Deck 2: Logs - {today}\\n\\n')\n",
    "    logs.write(\"\"\"* Arxiv had {0:,d} new papers\\n\"\"\".format(len(new_papers)))\n",
    "    logs.write(\"\"\"    * {0:,d} with possible author matches\\n\\n\"\"\".format(len(candidates)))\n",
    "    logs.write(\"## Sucessful papers\\n\\n\")\n",
    "    display(Markdown(\"## Successful papers\"))\n",
    "    success = [k[0] for k in documents]\n",
    "    for candid in candidates:\n",
    "        if candid['identifier'].split(':')[-1] in success:\n",
    "            display(candid)\n",
    "            logs.write(candid.generate_markdown_text() + '\\n\\n')\n",
    "\n",
    "    ## failed\n",
    "    logs.write(\"## Failed papers\\n\\n\")\n",
    "    display(Markdown(\"## Failed papers\"))\n",
    "    failed = sorted(failed, key=lambda x: x[1])\n",
    "    current_reason = \"\"\n",
    "    for paper, reason in failed:\n",
    "        if 'affiliation' in reason:\n",
    "            color = 'green'\n",
    "        else:\n",
    "            color = 'red'\n",
    "        data = Markdown(\n",
    "                paper.generate_markdown_text() + \n",
    "                f'\\n|<p style=\"color:{color:s}\"> **ERROR** </p>| <p style=\"color:{color:s}\">{reason:s}</p> |'\n",
    "               )\n",
    "        if reason != current_reason:\n",
    "            logs.write(f'### {reason:s} \\n\\n')\n",
    "            current_reason = reason\n",
    "        logs.write(data.data + '\\n\\n')\n",
    "        \n",
    "        # only display here the important errors (all in logs)\n",
    "        # if color in ('red',):\n",
    "        display(data)"
   ]
  },
  {
   "cell_type": "markdown",
   "id": "472d20ee",
   "metadata": {
    "papermill": {
     "duration": 0.005199,
     "end_time": "2023-09-13T04:07:09.838301",
     "exception": false,
     "start_time": "2023-09-13T04:07:09.833102",
     "status": "completed"
    },
    "tags": []
   },
   "source": [
    "## Export documents\n",
    "\n",
    "We now write the .md files and export relevant images"
   ]
  },
  {
   "cell_type": "code",
   "execution_count": 6,
   "id": "d426aed9",
   "metadata": {
    "execution": {
     "iopub.execute_input": "2023-09-13T04:07:09.849981Z",
     "iopub.status.busy": "2023-09-13T04:07:09.849570Z",
     "iopub.status.idle": "2023-09-13T04:07:09.856906Z",
     "shell.execute_reply": "2023-09-13T04:07:09.856316Z"
    },
    "papermill": {
     "duration": 0.014796,
     "end_time": "2023-09-13T04:07:09.858379",
     "exception": false,
     "start_time": "2023-09-13T04:07:09.843583",
     "status": "completed"
    },
    "tags": []
   },
   "outputs": [],
   "source": [
    "def export_markdown_summary(md: str, md_fname:str, directory: str):\n",
    "    \"\"\"Export MD document and associated relevant images\"\"\"\n",
    "    import os\n",
    "    import shutil\n",
    "    import re\n",
    "\n",
    "    if (os.path.exists(directory) and not os.path.isdir(directory)):\n",
    "        raise RuntimeError(f\"a non-directory file exists with name {directory:s}\")\n",
    "\n",
    "    if (not os.path.exists(directory)):\n",
    "        print(f\"creating directory {directory:s}\")\n",
    "        os.mkdir(directory)\n",
    "\n",
    "    fig_fnames = (re.compile(r'\\[Fig.*\\]\\((.*)\\)').findall(md) + \n",
    "                  re.compile(r'\\<img src=\"([^>\\s]*)\"[^>]*/>').findall(md))\n",
    "    for fname in fig_fnames:\n",
    "        if 'http' in fname:\n",
    "            # No need to copy online figures\n",
    "            continue\n",
    "        destdir = os.path.join(directory, os.path.dirname(fname))\n",
    "        destfname = os.path.join(destdir, os.path.basename(fname))\n",
    "        try:\n",
    "            os.makedirs(destdir)\n",
    "        except FileExistsError:\n",
    "            pass\n",
    "        shutil.copy(fname, destfname)\n",
    "    with open(os.path.join(directory, md_fname), 'w') as fout:\n",
    "        fout.write(md)\n",
    "    print(\"exported in \", os.path.join(directory, md_fname))\n",
    "    [print(\"    + \" + os.path.join(directory,fk)) for fk in fig_fnames]"
   ]
  },
  {
   "cell_type": "code",
   "execution_count": 7,
   "id": "014d04a4",
   "metadata": {
    "execution": {
     "iopub.execute_input": "2023-09-13T04:07:09.870199Z",
     "iopub.status.busy": "2023-09-13T04:07:09.869649Z",
     "iopub.status.idle": "2023-09-13T04:07:09.878325Z",
     "shell.execute_reply": "2023-09-13T04:07:09.877626Z"
    },
    "papermill": {
     "duration": 0.016126,
     "end_time": "2023-09-13T04:07:09.879736",
     "exception": false,
     "start_time": "2023-09-13T04:07:09.863610",
     "status": "completed"
    },
    "tags": []
   },
   "outputs": [
    {
     "name": "stdout",
     "output_type": "stream",
     "text": [
      "exported in  _build/html/2309.05714.md\n",
      "    + _build/html/tmp_2309.05714/./select.png\n",
      "    + _build/html/tmp_2309.05714/./target_color.png\n",
      "    + _build/html/tmp_2309.05714/./zspec_zphot.png\n",
      "    + _build/html/tmp_2309.05714/./model_4286.png\n",
      "exported in  _build/html/2309.06311.md\n",
      "    + _build/html/tmp_2309.06311/figures/fig_stack_lya_profile_z1.png\n",
      "    + _build/html/tmp_2309.06311/figures/fig_stack_lya_profile_zsys.png\n",
      "    + _build/html/tmp_2309.06311/figures/fig_Lya_NBs.png\n",
      "exported in  _build/html/2309.06319.md\n",
      "    + _build/html/tmp_2309.06319/./HST_MIRIM_HaLineMap_clumps.png\n",
      "    + _build/html/tmp_2309.06319/./Photon_efficiency_redshift.png\n",
      "    + _build/html/tmp_2309.06319/./EW_Halpha_evo_Javi.png\n"
     ]
    }
   ],
   "source": [
    "for paper_id, md in documents:\n",
    "    export_markdown_summary(md, f\"{paper_id:s}.md\", '_build/html/')"
   ]
  },
  {
   "cell_type": "markdown",
   "id": "f087a0a7",
   "metadata": {
    "papermill": {
     "duration": 0.005257,
     "end_time": "2023-09-13T04:07:09.890321",
     "exception": false,
     "start_time": "2023-09-13T04:07:09.885064",
     "status": "completed"
    },
    "tags": []
   },
   "source": [
    "## Display the papers\n",
    "\n",
    "Not necessary but allows for a quick check."
   ]
  },
  {
   "cell_type": "code",
   "execution_count": 8,
   "id": "fd25f625",
   "metadata": {
    "execution": {
     "iopub.execute_input": "2023-09-13T04:07:09.902459Z",
     "iopub.status.busy": "2023-09-13T04:07:09.901864Z",
     "iopub.status.idle": "2023-09-13T04:07:09.908812Z",
     "shell.execute_reply": "2023-09-13T04:07:09.908196Z"
    },
    "papermill": {
     "duration": 0.014565,
     "end_time": "2023-09-13T04:07:09.910328",
     "exception": false,
     "start_time": "2023-09-13T04:07:09.895763",
     "status": "completed"
    },
    "scrolled": false,
    "tags": []
   },
   "outputs": [
    {
     "data": {
      "text/markdown": [
       "<div class=\"macros\" style=\"visibility:hidden;\">\n",
       "$\\newcommand{\\ensuremath}{}$\n",
       "$\\newcommand{\\xspace}{}$\n",
       "$\\newcommand{\\object}[1]{\\texttt{#1}}$\n",
       "$\\newcommand{\\farcs}{{.}''}$\n",
       "$\\newcommand{\\farcm}{{.}'}$\n",
       "$\\newcommand{\\arcsec}{''}$\n",
       "$\\newcommand{\\arcmin}{'}$\n",
       "$\\newcommand{\\ion}[2]{#1#2}$\n",
       "$\\newcommand{\\textsc}[1]{\\textrm{#1}}$\n",
       "$\\newcommand{\\hl}[1]{\\textrm{#1}}$\n",
       "$\\newcommand{\\footnote}[1]{}$\n",
       "$\\newcommand{\\url}[1]{\\href{#1}{#1}}$\n",
       "$\\newcommand{\\dodoi}[1]{doi:~\\href{http://doi.org/#1}{\\nolinkurl{#1}}}$\n",
       "$\\newcommand{\\doeprint}[1]{\\href{http://ascl.net/#1}{\\nolinkurl{http://ascl.net/#1}}}$\n",
       "$\\newcommand{\\doarXiv}[1]{\\href{https://arxiv.org/abs/#1}{\\nolinkurl{https://arxiv.org/abs/#1}}}$\n",
       "$\\newcommand{\\angstrom}{\\text{\\normalfontÅ}}$\n",
       "$\\newcommand{\\deltare}{\\mathrm{\\Delta log(r_e)}}$\n",
       "$\\newcommand{\\oiii}{[\\ion{O}{3}]}$\n",
       "$\\newcommand{\\nii}{[\\ion{N}{2}]}$\n",
       "$\\newcommand{\\nev}{[\\ion{Ne}{5}]}$\n",
       "$\\newcommand{\\msun}{M_{\\odot}}$\n",
       "$\\newcommand{\\sersic}{Sérsic}$\n",
       "$\\newcommand{\\mkgroup}{M_{\\rm K,  group}}$\n",
       "$\\newcommand{\\mstar}{M_*}$\n",
       "$\\newcommand{\\mbh}{M_{\\rm BH}}$\n",
       "$\\newcommand{\\lbol}{L_{\\rm bol}}$\n",
       "$\\newcommand{\\jwst}{\\ensuremath{JWST}}$\n",
       "$\\newcommand{\\ivo}[1]{\\textcolor{violet}{#1}}$\n",
       "$\\newcommand{\\catnr}{50,000}$\n",
       "$\\newcommand{\\bronzenr}{40}$\n",
       "$\\newcommand{\\silvernr}{26}$\n",
       "$\\newcommand{\\goldnr}{17}$\n",
       "$\\newcommand{\\sourcenum}{17}$\n",
       "$\\newcommand{\\}{natexlab}$</div>\n",
       "\n",
       "\n",
       "\n",
       "<div id=\"title\">\n",
       "\n",
       "# UNCOVER spectroscopy confirms a surprising ubiquity of AGN in red galaxies at $z>5$\n",
       "\n",
       "</div>\n",
       "<div id=\"comments\">\n",
       "\n",
       "[![arXiv](https://img.shields.io/badge/arXiv-2309.05714-b31b1b.svg)](https://arxiv.org/abs/2309.05714)<mark>Appeared on: 2023-09-13</mark> -  _23 pages, 9 figures, 5 tables, submitted to ApJ_\n",
       "\n",
       "</div>\n",
       "<div id=\"authors\">\n",
       "\n",
       "J. E. Greene, et al. -- incl., <mark>A. d. Graaff</mark>\n",
       "\n",
       "</div>\n",
       "<div id=\"abstract\">\n",
       "\n",
       "**Abstract:** $\\jwst$ is revealing a new population of dust-reddened broad-line active galactic nuclei (AGN) at redshifts $z\\gtrsim5$ . Here we present deep NIRSpec/Prism spectroscopy from the Cycle 1 Treasury program UNCOVER of 17 AGN candidates selected to be compact, with red continua in the rest-frame optical but with blue slopes in the UV. From NIRCam photometry alone, they could have been dominated by dusty star formation or AGN. Here we show that the majority of the compact red sources in UNCOVER are dust-reddened AGN: 60 \\% show definitive evidence for broad-line H $\\alpha$ with FWHM $>2000$ km/s, for 20 \\% current data are inconclusive, and $20\\%$ are brown dwarf stars. We propose an updated photometric criterion to select red $z>5$ AGN that excludes brown dwarfs and is expected to yield $>80\\%$ AGN. Remarkably, among all $z_{\\rm phot}>5$ galaxies with F277W $-$ F444W $>1$ in UNCOVER at least $33\\%$ are AGN regardless of compactness, climbing to at least $80$ \\% AGN for sources with F277W $-$ F444W $>1.6$ .The confirmed AGN have black hole masses of $10^7-10^9$  $\\msun$ . While their UV-luminosities ( $-16>M_{\\rm UV}>-20$ AB mag) are low compared to UV-selected AGN at these epochs, consistent with percent-level scattered AGN light or low levels of unobscured star formation, the inferred bolometric luminosities are typical of $10^7-10^9$  $\\msun$ black holes radiating at $\\sim 10-40\\%$ of Eddington. The number densities are surprisingly high at $\\sim10^{-5}$ Mpc $^{-3}$ mag $^{-1}$ , 100 times more common than the faintest UV-selected quasars, while accounting for $\\sim1\\%$ of the UV-selected galaxies. While their UV-faintness suggest they may not contribute strongly to reionization, their ubiquity poses challenges to models of black hole growth.\n",
       "\n",
       "</div>\n",
       "\n",
       "<div id=\"div_fig1\">\n",
       "\n",
       "<img src=\"tmp_2309.05714/./select.png\" alt=\"Fig5\" width=\"100%\"/>\n",
       "\n",
       "**Figure 5. -** AGN in the context of high-redshift red galaxies. The grey points are the UNCOVER catalog for F444W$>27.7$ mag and F444W S/N$>14$. Top left: NIRCam F115W$-$F200W versus F277W$-$F444W bi-color selection identifies  galaxies like those in \\citet{Labbe:2023} that have blue rest-frame UV continuum and red rest-frame optical continuum (\"v-shape\" SED). The AGN candidate sample of \\citet{Labbe:2023uncover} is a subset of that ($\\sim50\\%$), selected to also have red optical sloped continuum via a cut in two adjacent filters (top right, and compact size (bottom left), using a ratio of aperture fluxes as a proxy for size. Brown dwarf star contaminants generally have bluer F115W$-$F200W than galaxies and can therefore be isolated. Overplot are synthetic color tracks from the LOWZ brown dwarf atmosphere models \\citep{2021ApJ...915..120M} for T$_{\\rm eff}$$\\leq$ 1600 K and solar [M/H] = 0 and $-1.5$. The $v-shape$ criterion alone is very effective at selecting for $z>5$ galaxies. A selection including the compact + red criterion is efficient at selecting red AGN.\n",
       " (*fig:newsample*)\n",
       "\n",
       "</div>\n",
       "<div id=\"div_fig2\">\n",
       "\n",
       "<img src=\"tmp_2309.05714/./target_color.png\" alt=\"Fig2.1\" width=\"50%\"/><img src=\"tmp_2309.05714/./zspec_zphot.png\" alt=\"Fig2.2\" width=\"50%\"/>\n",
       "\n",
       "**Figure 2. -** Left: The primary color-color selection used to select the compact red sources. We show the full sample of 40 compact red sources (open circles), the 17 clean targets (yellow) and the spectroscopically targeted sources (black dots are those observed with the MSA). Comparison of the photometric redshifts measured from the NIRCam photometry using custom templates from L23, as compared with the spectroscopic redshifts. The brown dwarfs are indicated with stars.\n",
       " (*fig:target*)\n",
       "\n",
       "</div>\n",
       "<div id=\"div_fig3\">\n",
       "\n",
       "<img src=\"tmp_2309.05714/./model_4286.png\" alt=\"Fig6\" width=\"100%\"/>\n",
       "\n",
       "**Figure 6. -** We illustrate our preferred model for the particular red and UV slopes seen in our objects using MSAID4286. The intrinsic AGN continuum (red) is highly reddened. Thus, the UV component cannot be explained by the primary AGN continuum. Here, we explore the possibility that the UV comes from scattered light, at 2.5\\% of the intrinsic UV (shown schematically in light blue). For illustration, we show here the \\citet{Temple:2021} template. However, we achieve even better fits when we use the observed UV slope as the intrinsic power-law AGN shape. We also overplot a stellar-population fit to the UV-side of the spectrum with \\texttt{Bagpipes}\\citep{Carnall:2018, Carnall:2019}, again to illustrate that with moderate star-formation rates of a few solar masses per year, and $A_V \\sim 0.6$ mag, it is possible to fit the UV continuum slope with star light as well.\n",
       " (*fig:uvfit*)\n",
       "\n",
       "</div><div id=\"qrcode\"><img src=https://api.qrserver.com/v1/create-qr-code/?size=100x100&data=\"https://arxiv.org/abs/2309.05714\"></div>"
      ],
      "text/plain": [
       "<IPython.core.display.Markdown object>"
      ]
     },
     "metadata": {},
     "output_type": "display_data"
    },
    {
     "data": {
      "text/markdown": [
       "<div class=\"macros\" style=\"visibility:hidden;\">\n",
       "$\\newcommand{\\ensuremath}{}$\n",
       "$\\newcommand{\\xspace}{}$\n",
       "$\\newcommand{\\object}[1]{\\texttt{#1}}$\n",
       "$\\newcommand{\\farcs}{{.}''}$\n",
       "$\\newcommand{\\farcm}{{.}'}$\n",
       "$\\newcommand{\\arcsec}{''}$\n",
       "$\\newcommand{\\arcmin}{'}$\n",
       "$\\newcommand{\\ion}[2]{#1#2}$\n",
       "$\\newcommand{\\textsc}[1]{\\textrm{#1}}$\n",
       "$\\newcommand{\\hl}[1]{\\textrm{#1}}$\n",
       "$\\newcommand{\\footnote}[1]{}$\n",
       "$\\newcommand{\\lya}{Ly\\alpha}$\n",
       "$\\newcommand{\\hi}{H~{\\small I}}$\n",
       "$\\newcommand{\\mgi}{Mg~{\\small I}}$\n",
       "$\\newcommand{\\mgii}{Mg~{\\small II}}$\n",
       "$\\newcommand{\\mgiia}{\\mgii~\\lambda2796}$\n",
       "$\\newcommand{\\mgiib}{\\mgii~\\lambda2803}$\n",
       "$\\newcommand{\\mgiiab}{\\mgii~\\lambda\\lambda2796,2803}$\n",
       "$\\newcommand{\\civ}{C~{\\small IV}}$\n",
       "$\\newcommand{\\heii}{He~{\\small II}}$\n",
       "$\\newcommand{\\ciii}{C~{\\small III}]}$\n",
       "$\\newcommand{\\oii}{[O~{\\small II}]}$</div>\n",
       "\n",
       "\n",
       "\n",
       "<div id=\"title\">\n",
       "\n",
       "# Spatially-resolved Spectroscopic Analysis of $\\lya$ Haloes\n",
       "\n",
       "</div>\n",
       "<div id=\"comments\">\n",
       "\n",
       "[![arXiv](https://img.shields.io/badge/arXiv-2309.06311-b31b1b.svg)](https://arxiv.org/abs/2309.06311)<mark>Appeared on: 2023-09-13</mark> -  _Submitted to A&A Letters_\n",
       "\n",
       "</div>\n",
       "<div id=\"authors\">\n",
       "\n",
       "Y. Guo, et al. -- incl., <mark>L. Boogaard</mark>\n",
       "\n",
       "</div>\n",
       "<div id=\"abstract\">\n",
       "\n",
       "**Abstract:** Deep MUSE observations have unveiled pervasive $\\lya$ haloes (LAHs) surrounding high-redshift star-forming galaxies. However, the origin of the extended $\\lya$ emission is still a subject of debate.We analyse the average spatial extent and spectral variation of the circumgalactic LAHs by stacking a sample of 155 $\\lya$ emitters (LAEs) at redshift $3<z<4$ in the MUSE Extremely Deep Field (MXDF).With respect to the $\\lya$ red peak of the target LAE, the $\\lya$ line peak becomes increasingly more blueshifted out to a projected distance of at least 60 kpc, where the velocity offset is $\\approx$ 250 km/s.This signal is observed in both the mean and median stacks, and is thus a generic property of the LAE sample with typical $\\lya$ luminosity $\\mathrm{\\approx 10^{41.1} erg s^{-1}}$ .We discuss multiple scenarios to explain the blueshift of the circumgalactic $\\lya$ line.The most plausible one is a combination of outflows and inflows. In the inner region of the LAH, the $\\lya$ photons are produced by the central star formation and then scattered within outflows. At larger radii, the infalling cool gas shapes the observed $\\lya$ blueshift.\n",
       "\n",
       "</div>\n",
       "\n",
       "<div id=\"div_fig1\">\n",
       "\n",
       "<img src=\"tmp_2309.06311/figures/fig_stack_lya_profile_z1.png\" alt=\"Fig1\" width=\"100%\"/>\n",
       "\n",
       "**Figure 1. -** $\\lya$ line profiles at different distances from the central galaxy.\n",
       "The spectra in the left and right columns are derived from the mean- and median-stacked datacubes.\n",
       "Different rows show different radial bins ranging from 1\" (7 kpc) to 8\" (59 kpc).\n",
       "The vertical dashed lines denote the peak of the central $\\lya$ line. The horizontal grey shaded regions show the 1$\\sigma$ error range.\n",
       " (*fig_Lya_profile*)\n",
       "\n",
       "</div>\n",
       "<div id=\"div_fig2\">\n",
       "\n",
       "<img src=\"tmp_2309.06311/figures/fig_stack_lya_profile_zsys.png\" alt=\"Fig2\" width=\"100%\"/>\n",
       "\n",
       "**Figure 2. -** \n",
       "As Figure \\ref{fig_Lya_profile}, except that here all the mini-datacubes are re-aligned by the estimated $z_{sys}$ instead of $z_{Ly\\alpha}$.\n",
       " (*fig_Lya_profile_zsys*)\n",
       "\n",
       "</div>\n",
       "<div id=\"div_fig3\">\n",
       "\n",
       "<img src=\"tmp_2309.06311/figures/fig_Lya_NBs.png\" alt=\"Fig3\" width=\"100%\"/>\n",
       "\n",
       "**Figure 3. -** Surface brightness maps of the median-stacked $\\lya$ emission.\n",
       "Each panel shows the $\\lya$ pseudo-NB in a velocity interval of 200 km/s. The zero point corresponds to the peak of the $\\lya$ line.\n",
       "The NBs have been smoothed using a Gaussian kernel of width of $2.3\"$.\n",
       "The grey contours correspond to $\\lya$ significance levels of 2, 4 and 6 $\\sigma$(dotted, dashed and solid, respectively).\n",
       " (*fig_Lya_NBs*)\n",
       "\n",
       "</div><div id=\"qrcode\"><img src=https://api.qrserver.com/v1/create-qr-code/?size=100x100&data=\"https://arxiv.org/abs/2309.06311\"></div>"
      ],
      "text/plain": [
       "<IPython.core.display.Markdown object>"
      ]
     },
     "metadata": {},
     "output_type": "display_data"
    },
    {
     "data": {
      "text/markdown": [
       "<div class=\"macros\" style=\"visibility:hidden;\">\n",
       "$\\newcommand{\\ensuremath}{}$\n",
       "$\\newcommand{\\xspace}{}$\n",
       "$\\newcommand{\\object}[1]{\\texttt{#1}}$\n",
       "$\\newcommand{\\farcs}{{.}''}$\n",
       "$\\newcommand{\\farcm}{{.}'}$\n",
       "$\\newcommand{\\arcsec}{''}$\n",
       "$\\newcommand{\\arcmin}{'}$\n",
       "$\\newcommand{\\ion}[2]{#1#2}$\n",
       "$\\newcommand{\\textsc}[1]{\\textrm{#1}}$\n",
       "$\\newcommand{\\hl}[1]{\\textrm{#1}}$\n",
       "$\\newcommand{\\footnote}[1]{}$\n",
       "$\\newcommand{\\arcs}{\\arcsec\\xspace}$\n",
       "$\\newcommand{\\CII}{[\\ion{C}{II}]158\\mum}$\n",
       "$\\newcommand{\\oddpm}[2]{\\raisebox{0.5ex}{\\tiny\\substack{+#1 \\-#2}}}$</div>\n",
       "\n",
       "\n",
       "\n",
       "<div id=\"title\">\n",
       "\n",
       "# Spatially-resolved H$\\alpha$ and ionizing photon production efficiency in the lensed galaxy MACS1149-JD1 at a redshift of 9.11\n",
       "\n",
       "</div>\n",
       "<div id=\"comments\">\n",
       "\n",
       "[![arXiv](https://img.shields.io/badge/arXiv-2309.06319-b31b1b.svg)](https://arxiv.org/abs/2309.06319)<mark>Appeared on: 2023-09-13</mark> -  _11 pages, 6 figures, submitted to A&A_\n",
       "\n",
       "</div>\n",
       "<div id=\"authors\">\n",
       "\n",
       "J. Álvarez-Márquez, et al. -- incl., <mark>S. Bosman</mark>, <mark>L. Boogaard</mark>, <mark>F. Walter</mark>\n",
       "\n",
       "</div>\n",
       "<div id=\"abstract\">\n",
       "\n",
       "**Abstract:** We present MIRI/JWST medium resolution spectroscopy (MRS) and imaging (MIRIM) of the lensed galaxy MACS1149-JD1 at a redshift of $z$ = 9.1092 $\\pm$ 0.0002, when the Universe was about 530 Myr old. We detect, for the first time, spatially-resolved H $\\alpha$ emission in a galaxy at redshift above 9. The structure of the H $\\alpha$ emitting gas consists of two clumps, S and N, carrying about $60\\%$ and $40\\%$ of the total flux, respectively. The total H $\\alpha$ luminosity implies an instantaneous star formation rate in the range of 3.2 $\\pm$ 0.3 and 5.3 $\\pm$ 0.4 $M_{\\odot}$ yr $^{-1}$ for sub-solar and solar metallicities. The ionizing photon production efficiency, $\\log(\\zeta_\\mathrm{ion})$ , shows a spatially-resolved structure with values of 25.55 $\\pm$ 0.03, 25.47 $\\pm$ 0.03, and 25.91 $\\pm$ 0.09 Hz erg $^{-1}$ for the integrated galaxy, and clumps S and N, respectively. The H $\\alpha$ rest-frame equivalent width, EW $_{0}$ (H $\\alpha$ ), is 491 $^{+334}_{-128}$ $Å$ for the integrated galaxy, but presents extreme values of 363 $^{+187}_{-87}Å$ and $\\geq$ 1543 $Å$ for clumps S and N, respectively. The spatially-resolved ionizing photon production efficiency is within the range of values measured in galaxies at redshift above six, and well above the canonical value (25.2 $\\pm$ 0.1 Hz erg $^{-1}$ ). The EW $_{0}$ (H $\\alpha$ ) is a factor 3-4 lower than the predicted value at $z$ = 9.11 based on the extrapolation of the evolution of the EW $_{0}$ (H $\\alpha$ ) with redshifts, $\\propto$ (1+z) $^{2.1}$ , including galaxies detected with JWST. The extreme difference of EW $_{0}$ (H $\\alpha$ ) for Clumps S and N indicates the presence of a recent (few Myr old) burst in clump N and a star formation over a larger period of time (e.g. 100 $-$ 200 Myr) in clump S, placing the initial formation of MACS1149-JD1 at a $z$ $\\sim$ 11-12. The different ages of the stellar population place MACS1149-JD1 and clumps N and S at different locations in the log( $\\zeta_\\mathrm{ion}$ ) to EW $_{0}$ (H $\\alpha$ ) plane and above the main relation defined from intermediate and high redshift (z=3-7) galaxies detected with JWST. Finally, clump S and N show very different H $\\alpha$ kinematics with velocity dispersions of 56 $\\pm$ 4 km s $^{-1}$ and 113 $\\pm$ 33 km s $^{-1}$ , likely indicating the presence of outflows or increased turbulence in the clump N. The dynamical mass $M_\\mathrm{dyn}$ = (2.4 $\\pm$ 0.5) $\\times$ 10 $^{9}$ $M_{\\odot}$ , obtained from the size of the integrated H $\\alpha$ ionized nebulae and its velocity dispersion, is within the range previously measured with the spatially-resolved [ OIII ] 88 $\\mu$ m line.\n",
       "\n",
       "</div>\n",
       "\n",
       "<div id=\"div_fig1\">\n",
       "\n",
       "<img src=\"tmp_2309.06319/./HST_MIRIM_HaLineMap_clumps.png\" alt=\"Fig5\" width=\"100%\"/>\n",
       "\n",
       "**Figure 5. -** Images of MACS1149-JD1 presenting the observed stellar and ionized gas structure. From left to right: archival HST WFPC3/F160W from Hubble Advanced Product Multi-Visit Mosaic (HAP-MVM) program, MIRIM F560W image and MRS H$\\alpha$ line map. The H$\\alpha$ line map is generated by integrating H$\\alpha$ line emission in the velocity range, -150 < $v$[km s$^{-1}$] < 150. The origin of the image corresponds to (RA [deg], DEC [deg]) of (177.389945, +22.412722). The black dashed ellipse indicates the aperture used to perform the MIRIM F560W photometry and the MRS 1D spectral extraction. Dotted black ellipses identify the H$\\alpha$ emitting regions named as clump N and S, and spatially coincident with the two emitting regions in the HST F160W image. White area represents the spatial resolution (PSF FWHM) of each observation. MACS1149-JD1 shows an elongated structure due to the lens magnification of cluster MACS J11491+2223 \\citep{Zheng+12}.  (*fig:HaLineMap*)\n",
       "\n",
       "</div>\n",
       "<div id=\"div_fig2\">\n",
       "\n",
       "<img src=\"tmp_2309.06319/./Photon_efficiency_redshift.png\" alt=\"Fig1\" width=\"100%\"/>\n",
       "\n",
       "**Figure 1. -** Ionizing photon production efficiency as a function of redshift. MACS1149-JD1 is represented by circles, where we distinguish between the values of the integrated galaxy (red), and the spatially-resolved clumps N (green) and S (yellow). Squares: galaxies spectroscopically identified at $z$$\\gtrsim$ 6 with JWST \\citep{Fujimoto+23,Jung+23,Morishita+23,Saxena+23,Matthee+23,Tang+23,Atek+23}. Green area: canonical value for the ionizing photon efficiency \\citep{Robertson+13}. Black line and gray area: variation of the photon efficiency with redshift and its uncertainty \\citep{Matthee+17}. (*fig:photon-z*)\n",
       "\n",
       "</div>\n",
       "<div id=\"div_fig3\">\n",
       "\n",
       "<img src=\"tmp_2309.06319/./EW_Halpha_evo_Javi.png\" alt=\"Fig2\" width=\"100%\"/>\n",
       "\n",
       "**Figure 2. -** Evolution of the rest-frame equivalent width of H$\\alpha$ as a function of redshift. MACS1149-JD1 is represented by circles, where we distinguish between the values of the integrated galaxy (red), and the spatially-resolved clumps N (green) and S (yellow). Additional data includes samples detected with JWST at redshifts of around 6 \\citep{Sun+22,Ning+23,Prieto-Lyon+23} and 7$-$8 \\citep{Rinaldi+23}, as well as pre-JWST galaxies at redshifts 0.5 to 8. The pre-JWST value at redshift 8 corresponds to the median stacking of a sample of 102 Lyman-break galaxies \\citep{Stefanon+22}. The dashed, dark red line represents the best fit to all data points, including the MIDIS sources, and described by a single law EW$_{0}$(H$\\alpha$) $\\propto$(1+$z$)$^{2.1}$ by \\cite{Rinaldi+23}. The dotted broken line represents previous fits with pre-JWST data up to a redshift of six \\citep{Faisst+16}.\n",
       "       (*fig:EW*)\n",
       "\n",
       "</div><div id=\"qrcode\"><img src=https://api.qrserver.com/v1/create-qr-code/?size=100x100&data=\"https://arxiv.org/abs/2309.06319\"></div>"
      ],
      "text/plain": [
       "<IPython.core.display.Markdown object>"
      ]
     },
     "metadata": {},
     "output_type": "display_data"
    }
   ],
   "source": [
    "[display(Markdown(k[1])) for k in documents];"
   ]
  },
  {
   "cell_type": "markdown",
   "id": "873873a4",
   "metadata": {
    "papermill": {
     "duration": 0.005984,
     "end_time": "2023-09-13T04:07:09.922513",
     "exception": false,
     "start_time": "2023-09-13T04:07:09.916529",
     "status": "completed"
    },
    "tags": []
   },
   "source": [
    "# Create HTML index"
   ]
  },
  {
   "cell_type": "code",
   "execution_count": 9,
   "id": "cf665672",
   "metadata": {
    "execution": {
     "iopub.execute_input": "2023-09-13T04:07:09.936015Z",
     "iopub.status.busy": "2023-09-13T04:07:09.935431Z",
     "iopub.status.idle": "2023-09-13T04:07:09.946073Z",
     "shell.execute_reply": "2023-09-13T04:07:09.945448Z"
    },
    "papermill": {
     "duration": 0.018971,
     "end_time": "2023-09-13T04:07:09.947536",
     "exception": false,
     "start_time": "2023-09-13T04:07:09.928565",
     "status": "completed"
    },
    "tags": []
   },
   "outputs": [
    {
     "name": "stdout",
     "output_type": "stream",
     "text": [
      "269  publications files modified in the last 7 days.\n"
     ]
    }
   ],
   "source": [
    "from datetime import datetime, timedelta, timezone\n",
    "from glob import glob\n",
    "import os\n",
    "\n",
    "files = glob('_build/html/*.md')\n",
    "days = 7\n",
    "now = datetime.today()\n",
    "res = []\n",
    "for fk in files:\n",
    "    stat_result = os.stat(fk).st_ctime\n",
    "    modified = datetime.fromtimestamp(stat_result, tz=timezone.utc).replace(tzinfo=None)\n",
    "    delta = now.today() - modified\n",
    "    if delta <= timedelta(days=days):\n",
    "        res.append((delta.seconds, fk))\n",
    "res = [k[1] for k in reversed(sorted(res, key=lambda x:x[1]))]\n",
    "npub = len(res)\n",
    "print(len(res), f\" publications files modified in the last {days:d} days.\")\n",
    "# [ print('\\t', k) for k in res ];"
   ]
  },
  {
   "cell_type": "code",
   "execution_count": 10,
   "id": "015de740",
   "metadata": {
    "execution": {
     "iopub.execute_input": "2023-09-13T04:07:09.961052Z",
     "iopub.status.busy": "2023-09-13T04:07:09.960498Z",
     "iopub.status.idle": "2023-09-13T04:07:09.979461Z",
     "shell.execute_reply": "2023-09-13T04:07:09.978769Z"
    },
    "papermill": {
     "duration": 0.027249,
     "end_time": "2023-09-13T04:07:09.980916",
     "exception": false,
     "start_time": "2023-09-13T04:07:09.953667",
     "status": "completed"
    },
    "tags": []
   },
   "outputs": [
    {
     "name": "stdout",
     "output_type": "stream",
     "text": [
      "9  publications in the last 7 days.\n"
     ]
    }
   ],
   "source": [
    "import datetime\n",
    "from glob import glob\n",
    "\n",
    "def get_last_n_days(lst, days=1):\n",
    "    \"\"\" Get the documents from the last n days \"\"\"\n",
    "    sorted_lst = sorted(lst, key=lambda x: x[1], reverse=True)\n",
    "    for fname, date in sorted_lst:\n",
    "        if date >= str(datetime.date.today() - datetime.timedelta(days=days)):\n",
    "            yield fname\n",
    "\n",
    "def extract_appearance_dates(lst_file):\n",
    "    dates = []\n",
    "\n",
    "    def get_date(line):\n",
    "        return line\\\n",
    "            .split('Appeared on:')[-1]\\\n",
    "            .split('</mark>')[0].strip()\n",
    "\n",
    "    for fname in lst:\n",
    "        with open(fname, 'r') as f:\n",
    "            found_date = False\n",
    "            for line in f:\n",
    "                if not found_date:\n",
    "                    if \"Appeared on\" in line:\n",
    "                        found_date = True\n",
    "                        dates.append((fname, get_date(line)))\n",
    "                else:\n",
    "                    break\n",
    "    return dates\n",
    "\n",
    "from glob import glob\n",
    "lst = glob('_build/html/*md')\n",
    "days = 7\n",
    "dates = extract_appearance_dates(lst)\n",
    "res = list(get_last_n_days(dates, days))\n",
    "npub = len(res)\n",
    "print(len(res), f\" publications in the last {days:d} days.\")"
   ]
  },
  {
   "cell_type": "code",
   "execution_count": 11,
   "id": "52ca0208",
   "metadata": {
    "execution": {
     "iopub.execute_input": "2023-09-13T04:07:09.994566Z",
     "iopub.status.busy": "2023-09-13T04:07:09.994006Z",
     "iopub.status.idle": "2023-09-13T04:07:09.999360Z",
     "shell.execute_reply": "2023-09-13T04:07:09.998736Z"
    },
    "papermill": {
     "duration": 0.013747,
     "end_time": "2023-09-13T04:07:10.000829",
     "exception": false,
     "start_time": "2023-09-13T04:07:09.987082",
     "status": "completed"
    },
    "scrolled": false,
    "tags": []
   },
   "outputs": [],
   "source": [
    "def create_carousel(npub=4):\n",
    "    \"\"\" Generate the HTML code for a carousel with `npub` slides \"\"\"\n",
    "    carousel = [\"\"\"  <div class=\"carousel\" \"\"\",\n",
    "                \"\"\"       data-flickity='{ \"autoPlay\": 10000, \"adaptiveHeight\": true, \"resize\": true, \"wrapAround\": true, \"pauseAutoPlayOnHover\": true, \"groupCells\": 1 }' id=\"asyncTypeset\">\"\"\"\n",
    "                ]\n",
    "    \n",
    "    item_str = \"\"\"    <div class=\"carousel-cell\"> <div id=\"slide{k}\" class=\"md_view\">Content {k}</div> </div>\"\"\"\n",
    "    for k in range(1, npub + 1):\n",
    "        carousel.append(item_str.format(k=k))\n",
    "    carousel.append(\"  </div>\")\n",
    "    return '\\n'.join(carousel)\n",
    "\n",
    "def create_grid(npub=4):\n",
    "    \"\"\" Generate the HTML code for a flat grid with `npub` slides \"\"\"\n",
    "    grid = [\"\"\"  <div class=\"grid\"> \"\"\",\n",
    "                ]\n",
    "    \n",
    "    item_str = \"\"\"    <div class=\"grid-item\"> <div id=\"slide{k}\" class=\"md_view\">Content {k}</div> </div>\"\"\"\n",
    "    for k in range(1, npub + 1):\n",
    "        grid.append(item_str.format(k=k))\n",
    "    grid.append(\"  </div>\")\n",
    "    return '\\n'.join(grid)"
   ]
  },
  {
   "cell_type": "code",
   "execution_count": 12,
   "id": "a6eac5b6",
   "metadata": {
    "execution": {
     "iopub.execute_input": "2023-09-13T04:07:10.014700Z",
     "iopub.status.busy": "2023-09-13T04:07:10.014172Z",
     "iopub.status.idle": "2023-09-13T04:07:10.020801Z",
     "shell.execute_reply": "2023-09-13T04:07:10.020174Z"
    },
    "papermill": {
     "duration": 0.015027,
     "end_time": "2023-09-13T04:07:10.022266",
     "exception": false,
     "start_time": "2023-09-13T04:07:10.007239",
     "status": "completed"
    },
    "scrolled": false,
    "tags": []
   },
   "outputs": [],
   "source": [
    "carousel = create_carousel(npub)\n",
    "docs = ', '.join(['\"{0:s}\"'.format(k.split('/')[-1]) for k in res])\n",
    "slides = ', '.join([f'\"slide{k}\"' for k in range(1, npub + 1)])\n",
    "\n",
    "with open(\"daily_template.html\", \"r\") as tpl:\n",
    "    page = tpl.read()\n",
    "    page = page.replace(\"{%-- carousel:s --%}\", carousel)\\\n",
    "               .replace(\"{%-- suptitle:s --%}\",  \"7-day archives\" )\\\n",
    "               .replace(\"{%-- docs:s --%}\", docs)\\\n",
    "               .replace(\"{%-- slides:s --%}\", slides)\n",
    "    \n",
    "with open(\"_build/html/index_7days.html\", 'w') as fout:\n",
    "    fout.write(page)"
   ]
  },
  {
   "cell_type": "code",
   "execution_count": 13,
   "id": "adc1a1ec",
   "metadata": {
    "execution": {
     "iopub.execute_input": "2023-09-13T04:07:10.036024Z",
     "iopub.status.busy": "2023-09-13T04:07:10.035479Z",
     "iopub.status.idle": "2023-09-13T04:07:10.042528Z",
     "shell.execute_reply": "2023-09-13T04:07:10.041921Z"
    },
    "papermill": {
     "duration": 0.0155,
     "end_time": "2023-09-13T04:07:10.043992",
     "exception": false,
     "start_time": "2023-09-13T04:07:10.028492",
     "status": "completed"
    },
    "tags": []
   },
   "outputs": [
    {
     "name": "stdout",
     "output_type": "stream",
     "text": [
      "3  publications in the last day.\n"
     ]
    }
   ],
   "source": [
    "# redo for today\n",
    "days = 1\n",
    "res = list(get_last_n_days(dates, days))\n",
    "npub = len(res)\n",
    "print(len(res), f\" publications in the last day.\")\n",
    "\n",
    "carousel = create_carousel(npub)\n",
    "docs = ', '.join(['\"{0:s}\"'.format(k.split('/')[-1]) for k in res])\n",
    "slides = ', '.join([f'\"slide{k}\"' for k in range(1, npub + 1)])\n",
    "\n",
    "with open(\"daily_template.html\", \"r\") as tpl:\n",
    "    page = tpl.read()\n",
    "    page = page.replace(\"{%-- carousel:s --%}\", carousel)\\\n",
    "               .replace(\"{%-- suptitle:s --%}\",  \"Daily\" )\\\n",
    "               .replace(\"{%-- docs:s --%}\", docs)\\\n",
    "               .replace(\"{%-- slides:s --%}\", slides)\n",
    "    \n",
    "# print(carousel, docs, slides)\n",
    "# print(page)\n",
    "with open(\"_build/html/index_daily.html\", 'w') as fout:\n",
    "    fout.write(page)"
   ]
  },
  {
   "cell_type": "code",
   "execution_count": 14,
   "id": "00eece82",
   "metadata": {
    "execution": {
     "iopub.execute_input": "2023-09-13T04:07:10.058230Z",
     "iopub.status.busy": "2023-09-13T04:07:10.057676Z",
     "iopub.status.idle": "2023-09-13T04:07:10.065914Z",
     "shell.execute_reply": "2023-09-13T04:07:10.065295Z"
    },
    "papermill": {
     "duration": 0.017059,
     "end_time": "2023-09-13T04:07:10.067454",
     "exception": false,
     "start_time": "2023-09-13T04:07:10.050395",
     "status": "completed"
    },
    "scrolled": false,
    "tags": []
   },
   "outputs": [
    {
     "name": "stdout",
     "output_type": "stream",
     "text": [
      "6  6 publications selected.\n"
     ]
    }
   ],
   "source": [
    "# Create the flat grid of the last N papers (fixed number regardless of dates)\n",
    "from itertools import islice \n",
    "\n",
    "npub = 6\n",
    "res = [k[0] for k in (islice(reversed(sorted(dates, key=lambda x: x[1])), 6))]\n",
    "print(len(res), f\" {npub} publications selected.\")\n",
    "\n",
    "grid = create_grid(npub)\n",
    "docs = ', '.join(['\"{0:s}\"'.format(k.split('/')[-1]) for k in res])\n",
    "slides = ', '.join([f'\"slide{k}\"' for k in range(1, npub + 1)])\n",
    "\n",
    "with open(\"grid_template.html\", \"r\") as tpl:\n",
    "    page = tpl.read()\n",
    "    page = page.replace(\"{%-- grid-content:s --%}\", grid)\\\n",
    "               .replace(\"{%-- suptitle:s --%}\",  f\"Last {npub:,d} papers\" )\\\n",
    "               .replace(\"{%-- docs:s --%}\", docs)\\\n",
    "               .replace(\"{%-- slides:s --%}\", slides)\n",
    "    \n",
    "# print(grid, docs, slides)\n",
    "# print(page)\n",
    "with open(\"_build/html/index_npub_grid.html\", 'w') as fout:\n",
    "    fout.write(page)"
   ]
  }
 ],
 "metadata": {
  "kernelspec": {
   "display_name": "Python 3 (ipykernel)",
   "language": "python",
   "name": "python3"
  },
  "language_info": {
   "codemirror_mode": {
    "name": "ipython",
    "version": 3
   },
   "file_extension": ".py",
   "mimetype": "text/x-python",
   "name": "python",
   "nbconvert_exporter": "python",
   "pygments_lexer": "ipython3",
   "version": "3.9.18"
  },
  "papermill": {
   "default_parameters": {},
   "duration": 77.24621,
   "end_time": "2023-09-13T04:07:10.292550",
   "environment_variables": {},
   "exception": null,
   "input_path": "MPIA daily digest.ipynb",
   "output_path": "log.ipynb",
   "parameters": {},
   "start_time": "2023-09-13T04:05:53.046340",
   "version": "2.4.0"
  },
  "vscode": {
   "interpreter": {
    "hash": "aee8b7b246df8f9039afb4144a1f6fd8d2ca17a180786b69acc140d282b71a49"
   }
  },
  "widgets": {
   "application/vnd.jupyter.widget-state+json": {
    "state": {
     "5d2be77339124698ad59d3317aa8ce1f": {
      "model_module": "@jupyter-widgets/base",
      "model_module_version": "2.0.0",
      "model_name": "LayoutModel",
      "state": {
       "_model_module": "@jupyter-widgets/base",
       "_model_module_version": "2.0.0",
       "_model_name": "LayoutModel",
       "_view_count": null,
       "_view_module": "@jupyter-widgets/base",
       "_view_module_version": "2.0.0",
       "_view_name": "LayoutView",
       "align_content": null,
       "align_items": null,
       "align_self": null,
       "border_bottom": null,
       "border_left": null,
       "border_right": null,
       "border_top": null,
       "bottom": null,
       "display": null,
       "flex": null,
       "flex_flow": null,
       "grid_area": null,
       "grid_auto_columns": null,
       "grid_auto_flow": null,
       "grid_auto_rows": null,
       "grid_column": null,
       "grid_gap": null,
       "grid_row": null,
       "grid_template_areas": null,
       "grid_template_columns": null,
       "grid_template_rows": null,
       "height": null,
       "justify_content": null,
       "justify_items": null,
       "left": null,
       "margin": null,
       "max_height": null,
       "max_width": null,
       "min_height": null,
       "min_width": null,
       "object_fit": null,
       "object_position": null,
       "order": null,
       "overflow": null,
       "padding": null,
       "right": null,
       "top": null,
       "visibility": null,
       "width": null
      }
     },
     "60513c694b624a90ab8e4cfc61e1337e": {
      "model_module": "@jupyter-widgets/base",
      "model_module_version": "2.0.0",
      "model_name": "LayoutModel",
      "state": {
       "_model_module": "@jupyter-widgets/base",
       "_model_module_version": "2.0.0",
       "_model_name": "LayoutModel",
       "_view_count": null,
       "_view_module": "@jupyter-widgets/base",
       "_view_module_version": "2.0.0",
       "_view_name": "LayoutView",
       "align_content": null,
       "align_items": null,
       "align_self": null,
       "border_bottom": null,
       "border_left": null,
       "border_right": null,
       "border_top": null,
       "bottom": null,
       "display": null,
       "flex": null,
       "flex_flow": null,
       "grid_area": null,
       "grid_auto_columns": null,
       "grid_auto_flow": null,
       "grid_auto_rows": null,
       "grid_column": null,
       "grid_gap": null,
       "grid_row": null,
       "grid_template_areas": null,
       "grid_template_columns": null,
       "grid_template_rows": null,
       "height": null,
       "justify_content": null,
       "justify_items": null,
       "left": null,
       "margin": null,
       "max_height": null,
       "max_width": null,
       "min_height": null,
       "min_width": null,
       "object_fit": null,
       "object_position": null,
       "order": null,
       "overflow": null,
       "padding": null,
       "right": null,
       "top": null,
       "visibility": null,
       "width": null
      }
     },
     "690e869674a64667abb715c5f6262eec": {
      "model_module": "@jupyter-widgets/controls",
      "model_module_version": "2.0.0",
      "model_name": "FloatProgressModel",
      "state": {
       "_dom_classes": [],
       "_model_module": "@jupyter-widgets/controls",
       "_model_module_version": "2.0.0",
       "_model_name": "FloatProgressModel",
       "_view_count": null,
       "_view_module": "@jupyter-widgets/controls",
       "_view_module_version": "2.0.0",
       "_view_name": "ProgressView",
       "bar_style": "success",
       "description": "",
       "description_allow_html": false,
       "layout": "IPY_MODEL_5d2be77339124698ad59d3317aa8ce1f",
       "max": 4.0,
       "min": 0.0,
       "orientation": "horizontal",
       "style": "IPY_MODEL_d8c89ad8290b4041b983eaa0b60c6502",
       "tabbable": null,
       "tooltip": null,
       "value": 4.0
      }
     },
     "7b7ee4d4e2d54ff88d50f54c58f72490": {
      "model_module": "@jupyter-widgets/controls",
      "model_module_version": "2.0.0",
      "model_name": "HBoxModel",
      "state": {
       "_dom_classes": [],
       "_model_module": "@jupyter-widgets/controls",
       "_model_module_version": "2.0.0",
       "_model_name": "HBoxModel",
       "_view_count": null,
       "_view_module": "@jupyter-widgets/controls",
       "_view_module_version": "2.0.0",
       "_view_name": "HBoxView",
       "box_style": "",
       "children": [
        "IPY_MODEL_9d04ac7e7fd84d93b4b37060f09e15a7",
        "IPY_MODEL_690e869674a64667abb715c5f6262eec",
        "IPY_MODEL_c3f2b8835f104b659e93addb56a603b2"
       ],
       "layout": "IPY_MODEL_60513c694b624a90ab8e4cfc61e1337e",
       "tabbable": null,
       "tooltip": null
      }
     },
     "897f6aa678aa4e8195ed210fca20f03c": {
      "model_module": "@jupyter-widgets/base",
      "model_module_version": "2.0.0",
      "model_name": "LayoutModel",
      "state": {
       "_model_module": "@jupyter-widgets/base",
       "_model_module_version": "2.0.0",
       "_model_name": "LayoutModel",
       "_view_count": null,
       "_view_module": "@jupyter-widgets/base",
       "_view_module_version": "2.0.0",
       "_view_name": "LayoutView",
       "align_content": null,
       "align_items": null,
       "align_self": null,
       "border_bottom": null,
       "border_left": null,
       "border_right": null,
       "border_top": null,
       "bottom": null,
       "display": null,
       "flex": null,
       "flex_flow": null,
       "grid_area": null,
       "grid_auto_columns": null,
       "grid_auto_flow": null,
       "grid_auto_rows": null,
       "grid_column": null,
       "grid_gap": null,
       "grid_row": null,
       "grid_template_areas": null,
       "grid_template_columns": null,
       "grid_template_rows": null,
       "height": null,
       "justify_content": null,
       "justify_items": null,
       "left": null,
       "margin": null,
       "max_height": null,
       "max_width": null,
       "min_height": null,
       "min_width": null,
       "object_fit": null,
       "object_position": null,
       "order": null,
       "overflow": null,
       "padding": null,
       "right": null,
       "top": null,
       "visibility": null,
       "width": null
      }
     },
     "9d04ac7e7fd84d93b4b37060f09e15a7": {
      "model_module": "@jupyter-widgets/controls",
      "model_module_version": "2.0.0",
      "model_name": "HTMLModel",
      "state": {
       "_dom_classes": [],
       "_model_module": "@jupyter-widgets/controls",
       "_model_module_version": "2.0.0",
       "_model_name": "HTMLModel",
       "_view_count": null,
       "_view_module": "@jupyter-widgets/controls",
       "_view_module_version": "2.0.0",
       "_view_name": "HTMLView",
       "description": "",
       "description_allow_html": false,
       "layout": "IPY_MODEL_e4ee6be9b822409684ea84cf5a3d1b82",
       "placeholder": "​",
       "style": "IPY_MODEL_dbbeffe88610497ea75b7f810bafb9d8",
       "tabbable": null,
       "tooltip": null,
       "value": "100%"
      }
     },
     "b2c8d18f524740dbb8e7c7dc899e7345": {
      "model_module": "@jupyter-widgets/controls",
      "model_module_version": "2.0.0",
      "model_name": "HTMLStyleModel",
      "state": {
       "_model_module": "@jupyter-widgets/controls",
       "_model_module_version": "2.0.0",
       "_model_name": "HTMLStyleModel",
       "_view_count": null,
       "_view_module": "@jupyter-widgets/base",
       "_view_module_version": "2.0.0",
       "_view_name": "StyleView",
       "background": null,
       "description_width": "",
       "font_size": null,
       "text_color": null
      }
     },
     "c3f2b8835f104b659e93addb56a603b2": {
      "model_module": "@jupyter-widgets/controls",
      "model_module_version": "2.0.0",
      "model_name": "HTMLModel",
      "state": {
       "_dom_classes": [],
       "_model_module": "@jupyter-widgets/controls",
       "_model_module_version": "2.0.0",
       "_model_name": "HTMLModel",
       "_view_count": null,
       "_view_module": "@jupyter-widgets/controls",
       "_view_module_version": "2.0.0",
       "_view_name": "HTMLView",
       "description": "",
       "description_allow_html": false,
       "layout": "IPY_MODEL_897f6aa678aa4e8195ed210fca20f03c",
       "placeholder": "​",
       "style": "IPY_MODEL_b2c8d18f524740dbb8e7c7dc899e7345",
       "tabbable": null,
       "tooltip": null,
       "value": " 4/4 [00:51&lt;00:00, 12.01s/it]"
      }
     },
     "d8c89ad8290b4041b983eaa0b60c6502": {
      "model_module": "@jupyter-widgets/controls",
      "model_module_version": "2.0.0",
      "model_name": "ProgressStyleModel",
      "state": {
       "_model_module": "@jupyter-widgets/controls",
       "_model_module_version": "2.0.0",
       "_model_name": "ProgressStyleModel",
       "_view_count": null,
       "_view_module": "@jupyter-widgets/base",
       "_view_module_version": "2.0.0",
       "_view_name": "StyleView",
       "bar_color": null,
       "description_width": ""
      }
     },
     "dbbeffe88610497ea75b7f810bafb9d8": {
      "model_module": "@jupyter-widgets/controls",
      "model_module_version": "2.0.0",
      "model_name": "HTMLStyleModel",
      "state": {
       "_model_module": "@jupyter-widgets/controls",
       "_model_module_version": "2.0.0",
       "_model_name": "HTMLStyleModel",
       "_view_count": null,
       "_view_module": "@jupyter-widgets/base",
       "_view_module_version": "2.0.0",
       "_view_name": "StyleView",
       "background": null,
       "description_width": "",
       "font_size": null,
       "text_color": null
      }
     },
     "e4ee6be9b822409684ea84cf5a3d1b82": {
      "model_module": "@jupyter-widgets/base",
      "model_module_version": "2.0.0",
      "model_name": "LayoutModel",
      "state": {
       "_model_module": "@jupyter-widgets/base",
       "_model_module_version": "2.0.0",
       "_model_name": "LayoutModel",
       "_view_count": null,
       "_view_module": "@jupyter-widgets/base",
       "_view_module_version": "2.0.0",
       "_view_name": "LayoutView",
       "align_content": null,
       "align_items": null,
       "align_self": null,
       "border_bottom": null,
       "border_left": null,
       "border_right": null,
       "border_top": null,
       "bottom": null,
       "display": null,
       "flex": null,
       "flex_flow": null,
       "grid_area": null,
       "grid_auto_columns": null,
       "grid_auto_flow": null,
       "grid_auto_rows": null,
       "grid_column": null,
       "grid_gap": null,
       "grid_row": null,
       "grid_template_areas": null,
       "grid_template_columns": null,
       "grid_template_rows": null,
       "height": null,
       "justify_content": null,
       "justify_items": null,
       "left": null,
       "margin": null,
       "max_height": null,
       "max_width": null,
       "min_height": null,
       "min_width": null,
       "object_fit": null,
       "object_position": null,
       "order": null,
       "overflow": null,
       "padding": null,
       "right": null,
       "top": null,
       "visibility": null,
       "width": null
      }
     }
    },
    "version_major": 2,
    "version_minor": 0
   }
  }
 },
 "nbformat": 4,
 "nbformat_minor": 5
}