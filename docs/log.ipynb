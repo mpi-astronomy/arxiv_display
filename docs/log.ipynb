{
 "cells": [
  {
   "cell_type": "markdown",
   "id": "92bcb855",
   "metadata": {
    "papermill": {
     "duration": 0.006343,
     "end_time": "2022-10-03T04:40:26.198509",
     "exception": false,
     "start_time": "2022-10-03T04:40:26.192166",
     "status": "completed"
    },
    "tags": []
   },
   "source": [
    "# MPIA Arxiv on Deck 2\n",
    "\n",
    "Contains the steps to produce the paper extractions."
   ]
  },
  {
   "cell_type": "code",
   "execution_count": 1,
   "id": "3a0d6e11",
   "metadata": {
    "execution": {
     "iopub.execute_input": "2022-10-03T04:40:26.210989Z",
     "iopub.status.busy": "2022-10-03T04:40:26.210217Z",
     "iopub.status.idle": "2022-10-03T04:40:26.425866Z",
     "shell.execute_reply": "2022-10-03T04:40:26.424743Z"
    },
    "papermill": {
     "duration": 0.225254,
     "end_time": "2022-10-03T04:40:26.428871",
     "exception": false,
     "start_time": "2022-10-03T04:40:26.203617",
     "status": "completed"
    },
    "tags": []
   },
   "outputs": [],
   "source": [
    "# Imports\n",
    "import os\n",
    "from IPython.display import Markdown, display\n",
    "from tqdm.notebook import tqdm\n",
    "import warnings\n",
    "from PIL import Image \n",
    "\n",
    "# requires arxiv_on_deck_2\n",
    "\n",
    "from arxiv_on_deck_2.arxiv2 import (get_new_papers, \n",
    "                                    get_paper_from_identifier,\n",
    "                                    retrieve_document_source, \n",
    "                                    get_markdown_badge)\n",
    "from arxiv_on_deck_2 import (latex, \n",
    "                             mpia,\n",
    "                             highlight_authors_in_list)\n",
    "\n",
    "# Sometimes images are really big\n",
    "Image.MAX_IMAGE_PIXELS = 1000000000 "
   ]
  },
  {
   "cell_type": "code",
   "execution_count": 2,
   "id": "22aa9d44",
   "metadata": {
    "execution": {
     "iopub.execute_input": "2022-10-03T04:40:26.441437Z",
     "iopub.status.busy": "2022-10-03T04:40:26.441102Z",
     "iopub.status.idle": "2022-10-03T04:40:26.449166Z",
     "shell.execute_reply": "2022-10-03T04:40:26.448121Z"
    },
    "papermill": {
     "duration": 0.016432,
     "end_time": "2022-10-03T04:40:26.450960",
     "exception": false,
     "start_time": "2022-10-03T04:40:26.434528",
     "status": "completed"
    },
    "tags": []
   },
   "outputs": [],
   "source": [
    "# Some useful definitions.\n",
    "\n",
    "class AffiliationWarning(UserWarning):\n",
    "    pass\n",
    "\n",
    "class AffiliationError(RuntimeError):\n",
    "    pass\n",
    "\n",
    "def validation(source: str):\n",
    "    \"\"\"Raises error paper during parsing of source file\n",
    "    \n",
    "    Allows checks before parsing TeX code.\n",
    "    \n",
    "    Raises AffiliationWarning\n",
    "    \"\"\"\n",
    "    check = mpia.affiliation_verifications(source, verbose=True)\n",
    "    if check is not True:\n",
    "        raise AffiliationError(\"mpia.affiliation_verifications: \" + check)\n",
    "\n",
    "        \n",
    "warnings.simplefilter('always', AffiliationWarning)"
   ]
  },
  {
   "cell_type": "code",
   "execution_count": 3,
   "id": "14622700",
   "metadata": {
    "execution": {
     "iopub.execute_input": "2022-10-03T04:40:26.462958Z",
     "iopub.status.busy": "2022-10-03T04:40:26.462632Z",
     "iopub.status.idle": "2022-10-03T04:40:26.467428Z",
     "shell.execute_reply": "2022-10-03T04:40:26.466650Z"
    },
    "papermill": {
     "duration": 0.014703,
     "end_time": "2022-10-03T04:40:26.469774",
     "exception": false,
     "start_time": "2022-10-03T04:40:26.455071",
     "status": "completed"
    },
    "tags": []
   },
   "outputs": [],
   "source": [
    "# additional CSS to consider. \n",
    "# TODO: Current into each exported file. \n",
    "#       This should be set once into the webpages directly.\n",
    "#       With only the class/id definitions in the .md files.\n",
    "\n",
    "debug_html = \"\"\"\n",
    "<style>\n",
    "#wrap{ overflow:auto; }\n",
    "#fig1{ background:yellow; width:100%; float:left; padding:5px;  }\n",
    "#fig2{ background:red; width:50%; float:left; clear:left; padding:5px;  }\n",
    "#fig3{ background:green; width:50%; float:left; padding:5px;   }\n",
    ".macros{ background:yellow; visibility:visible;}\n",
    "h1 {margin: 0 0 0 0;}\n",
    "mark {background-color:#fff3b6;}\n",
    "img {object-fit:contain; max-height:250px; display:inline-block; text-align: center;}\n",
    "</style>\n",
    "\"\"\" \n",
    "html = \"\"\"\n",
    "<style>\n",
    "#wrap{ overflow:auto; }\n",
    "#fig1{ width:100%; float:left; padding: 5px;  }\n",
    "#fig2{ width:50%; float:left; clear:left; padding: 5px;  }\n",
    "#fig3{ width:50%; float:left; padding: 5px;  }\n",
    ".macros{ visibility:hidden; height:0px; }\n",
    "h1 {margin: 0em 0 0 0;}\n",
    "mark {background-color:#fff3b6;}\n",
    "img {object-fit:contain; max-height:250px; display:inline-block; text-align: center;}\n",
    "</style>\n",
    "\"\"\""
   ]
  },
  {
   "cell_type": "markdown",
   "id": "14bd6310",
   "metadata": {
    "papermill": {
     "duration": 0.004954,
     "end_time": "2022-10-03T04:40:26.479637",
     "exception": false,
     "start_time": "2022-10-03T04:40:26.474683",
     "status": "completed"
    },
    "tags": []
   },
   "source": [
    "## get list of arxiv paper candidates\n",
    "\n",
    "We use the MPIA mitarbeiter list webpage from mpia.de to get author names\n",
    "We then get all new papers from Arxiv and match authors"
   ]
  },
  {
   "cell_type": "code",
   "execution_count": 4,
   "id": "2645e73a",
   "metadata": {
    "execution": {
     "iopub.execute_input": "2022-10-03T04:40:26.497814Z",
     "iopub.status.busy": "2022-10-03T04:40:26.496911Z",
     "iopub.status.idle": "2022-10-03T04:40:55.366089Z",
     "shell.execute_reply": "2022-10-03T04:40:55.365270Z"
    },
    "papermill": {
     "duration": 28.883885,
     "end_time": "2022-10-03T04:40:55.368271",
     "exception": false,
     "start_time": "2022-10-03T04:40:26.484386",
     "status": "completed"
    },
    "tags": []
   },
   "outputs": [
    {
     "name": "stdout",
     "output_type": "stream",
     "text": [
      "Arxiv has 48 new papers today\n",
      "          22 with possible author matches\n"
     ]
    }
   ],
   "source": [
    "# get list from MPIA website\n",
    "# it automatically filters identified non-scientists :func:`mpia.filter_non_scientists`\n",
    "mpia_authors = mpia.get_mpia_mitarbeiter_list()\n",
    "new_papers = get_new_papers()\n",
    "# add manual references\n",
    "add_paper_refs = []\n",
    "new_papers.extend([get_paper_from_identifier(k) for k in add_paper_refs])\n",
    "\n",
    "# select only papers with matching author names and highlight authors\n",
    "hl_list = [k[0] for k in mpia_authors]\n",
    "\n",
    "candidates = []\n",
    "for paperk in new_papers:\n",
    "    hl_authors = highlight_authors_in_list(paperk['authors'], hl_list)\n",
    "    matches = [(hl, orig) for hl, orig in zip(hl_authors, paperk['authors']) if 'mark' in hl]\n",
    "    paperk['authors'] = hl_authors\n",
    "    if matches:\n",
    "        candidates.append(paperk)\n",
    "print(\"\"\"Arxiv has {0:,d} new papers today\"\"\".format(len(new_papers)))        \n",
    "print(\"\"\"          {0:,d} with possible author matches\"\"\".format(len(candidates)))"
   ]
  },
  {
   "cell_type": "markdown",
   "id": "3543b34a",
   "metadata": {
    "papermill": {
     "duration": 0.004797,
     "end_time": "2022-10-03T04:40:55.379238",
     "exception": false,
     "start_time": "2022-10-03T04:40:55.374441",
     "status": "completed"
    },
    "tags": []
   },
   "source": [
    "# Parse sources and generate relevant outputs\n",
    "\n",
    "From the candidates, we do the following steps:\n",
    "* get their tarball from ArXiv (and extract data)\n",
    "* find the main .tex file: find one with \\documentclass{...} (sometimes it's non trivial)\n",
    "* Check affiliations with :func:`validation`, which uses :func:`mpia.affiliation_verifications`\n",
    "* If passing the affiliations: we parse the .tex source\n",
    "   * inject sub-documents into the main (flatten the main document)\n",
    "   * parse structure, extract information (title, abstract, authors, figures...)\n",
    "   * handles `\\graphicspath` if provided\n",
    "* Generate the .md document."
   ]
  },
  {
   "cell_type": "code",
   "execution_count": 5,
   "id": "9576b79e",
   "metadata": {
    "execution": {
     "iopub.execute_input": "2022-10-03T04:40:55.391302Z",
     "iopub.status.busy": "2022-10-03T04:40:55.390335Z",
     "iopub.status.idle": "2022-10-03T04:44:18.484766Z",
     "shell.execute_reply": "2022-10-03T04:44:18.483825Z"
    },
    "papermill": {
     "duration": 203.104518,
     "end_time": "2022-10-03T04:44:18.488145",
     "exception": false,
     "start_time": "2022-10-03T04:40:55.383627",
     "status": "completed"
    },
    "scrolled": false,
    "tags": []
   },
   "outputs": [
    {
     "data": {
      "application/vnd.jupyter.widget-view+json": {
       "model_id": "9d5029100270451b9dd156def42a7985",
       "version_major": 2,
       "version_minor": 0
      },
      "text/plain": [
       "  0%|          | 0/21 [00:00<?, ?it/s]"
      ]
     },
     "metadata": {},
     "output_type": "display_data"
    },
    {
     "name": "stdout",
     "output_type": "stream",
     "text": [
      "Retrieving document from  https://arxiv.org/e-print/2209.15015\n"
     ]
    },
    {
     "name": "stdout",
     "output_type": "stream",
     "text": [
      "extracting tarball to tmp_2209.15015..."
     ]
    },
    {
     "name": "stdout",
     "output_type": "stream",
     "text": [
      " done.\n",
      "Retrieving document from  https://arxiv.org/e-print/2209.15019\n"
     ]
    },
    {
     "name": "stderr",
     "output_type": "stream",
     "text": [
      "/opt/hostedtoolcache/Python/3.9.14/x64/lib/python3.9/site-packages/IPython/core/interactiveshell.py:3378: LatexWarning: Multiple tex files.\n",
      "\n",
      "  exec(code_obj, self.user_global_ns, self.user_ns)\n",
      "/opt/hostedtoolcache/Python/3.9.14/x64/lib/python3.9/site-packages/IPython/core/interactiveshell.py:3378: LatexWarning: Found documentclass in tmp_2209.15015/natnotes.tex\n",
      "\n",
      "  exec(code_obj, self.user_global_ns, self.user_ns)\n"
     ]
    },
    {
     "name": "stdout",
     "output_type": "stream",
     "text": [
      "extracting tarball to tmp_2209.15019..."
     ]
    },
    {
     "name": "stdout",
     "output_type": "stream",
     "text": [
      " done.\n",
      "Retrieving document from  https://arxiv.org/e-print/2209.15021\n"
     ]
    },
    {
     "name": "stdout",
     "output_type": "stream",
     "text": [
      "extracting tarball to tmp_2209.15021..."
     ]
    },
    {
     "name": "stdout",
     "output_type": "stream",
     "text": [
      " done.\n",
      "Retrieving document from  https://arxiv.org/e-print/2209.15036\n"
     ]
    },
    {
     "name": "stdout",
     "output_type": "stream",
     "text": [
      "extracting tarball to tmp_2209.15036..."
     ]
    },
    {
     "name": "stdout",
     "output_type": "stream",
     "text": [
      " done.\n",
      "Retrieving document from  https://arxiv.org/e-print/2209.15058\n"
     ]
    },
    {
     "name": "stderr",
     "output_type": "stream",
     "text": [
      "/opt/hostedtoolcache/Python/3.9.14/x64/lib/python3.9/site-packages/IPython/core/interactiveshell.py:3378: LatexWarning: Multiple tex files.\n",
      "\n",
      "  exec(code_obj, self.user_global_ns, self.user_ns)\n",
      "/opt/hostedtoolcache/Python/3.9.14/x64/lib/python3.9/site-packages/IPython/core/interactiveshell.py:3378: LatexWarning: Found documentclass in tmp_2209.15036/natnotes.tex\n",
      "\n",
      "  exec(code_obj, self.user_global_ns, self.user_ns)\n"
     ]
    },
    {
     "name": "stdout",
     "output_type": "stream",
     "text": [
      "extracting tarball to tmp_2209.15058..."
     ]
    },
    {
     "name": "stdout",
     "output_type": "stream",
     "text": [
      " done.\n",
      "Retrieving document from  https://arxiv.org/e-print/2209.15066\n"
     ]
    },
    {
     "name": "stderr",
     "output_type": "stream",
     "text": [
      "/opt/hostedtoolcache/Python/3.9.14/x64/lib/python3.9/site-packages/IPython/core/interactiveshell.py:3378: LatexWarning: Multiple tex files.\n",
      "\n",
      "  exec(code_obj, self.user_global_ns, self.user_ns)\n",
      "/opt/hostedtoolcache/Python/3.9.14/x64/lib/python3.9/site-packages/IPython/core/interactiveshell.py:3378: LatexWarning: Found documentclass in tmp_2209.15058/main.tex\n",
      "\n",
      "  exec(code_obj, self.user_global_ns, self.user_ns)\n"
     ]
    },
    {
     "name": "stdout",
     "output_type": "stream",
     "text": [
      "extracting tarball to tmp_2209.15066..."
     ]
    },
    {
     "name": "stdout",
     "output_type": "stream",
     "text": [
      " done.\n",
      "Retrieving document from  https://arxiv.org/e-print/2209.15077\n"
     ]
    },
    {
     "name": "stdout",
     "output_type": "stream",
     "text": [
      "extracting tarball to tmp_2209.15077..."
     ]
    },
    {
     "name": "stdout",
     "output_type": "stream",
     "text": [
      " done.\n",
      "Retrieving document from  https://arxiv.org/e-print/2209.15110\n"
     ]
    },
    {
     "name": "stdout",
     "output_type": "stream",
     "text": [
      "extracting tarball to tmp_2209.15110..."
     ]
    },
    {
     "name": "stdout",
     "output_type": "stream",
     "text": [
      " done.\n"
     ]
    },
    {
     "name": "stderr",
     "output_type": "stream",
     "text": [
      "/opt/hostedtoolcache/Python/3.9.14/x64/lib/python3.9/site-packages/arxiv_on_deck_2/latex.py:594: LatexWarning: Could not extract abstract from tmp_2209.15110/HAWCVF.tex\n",
      "  warnings.warn(LatexWarning(f\"Could not extract abstract from {self.main_file}\"))\n"
     ]
    },
    {
     "name": "stdout",
     "output_type": "stream",
     "text": [
      "Retrieving document from  https://arxiv.org/e-print/2209.15127\n"
     ]
    },
    {
     "name": "stdout",
     "output_type": "stream",
     "text": [
      "extracting tarball to tmp_2209.15127..."
     ]
    },
    {
     "name": "stdout",
     "output_type": "stream",
     "text": [
      " done.\n",
      "Retrieving document from  https://arxiv.org/e-print/2209.15175\n"
     ]
    },
    {
     "name": "stderr",
     "output_type": "stream",
     "text": [
      "/opt/hostedtoolcache/Python/3.9.14/x64/lib/python3.9/site-packages/IPython/core/interactiveshell.py:3378: LatexWarning: Multiple tex files.\n",
      "\n",
      "  exec(code_obj, self.user_global_ns, self.user_ns)\n",
      "/opt/hostedtoolcache/Python/3.9.14/x64/lib/python3.9/site-packages/IPython/core/interactiveshell.py:3378: LatexWarning: Found documentclass in tmp_2209.15127/ms.tex\n",
      "\n",
      "  exec(code_obj, self.user_global_ns, self.user_ns)\n"
     ]
    },
    {
     "name": "stdout",
     "output_type": "stream",
     "text": [
      "extracting tarball to tmp_2209.15175..."
     ]
    },
    {
     "name": "stdout",
     "output_type": "stream",
     "text": [
      " done.\n",
      "Retrieving document from  https://arxiv.org/e-print/2209.15226\n"
     ]
    },
    {
     "name": "stdout",
     "output_type": "stream",
     "text": [
      "extracting tarball to tmp_2209.15226..."
     ]
    },
    {
     "name": "stdout",
     "output_type": "stream",
     "text": [
      " done.\n",
      "Retrieving document from  https://arxiv.org/e-print/2209.15235\n"
     ]
    },
    {
     "name": "stdout",
     "output_type": "stream",
     "text": [
      "extracting tarball to tmp_2209.15235..."
     ]
    },
    {
     "name": "stdout",
     "output_type": "stream",
     "text": [
      " done.\n",
      "Retrieving document from  https://arxiv.org/e-print/2209.15255\n"
     ]
    },
    {
     "name": "stdout",
     "output_type": "stream",
     "text": [
      "extracting tarball to tmp_2209.15255..."
     ]
    },
    {
     "name": "stdout",
     "output_type": "stream",
     "text": [
      " done.\n",
      "Retrieving document from  https://arxiv.org/e-print/2209.15295\n"
     ]
    },
    {
     "name": "stdout",
     "output_type": "stream",
     "text": [
      "extracting tarball to tmp_2209.15295..."
     ]
    },
    {
     "name": "stdout",
     "output_type": "stream",
     "text": [
      " done.\n",
      "Retrieving document from  https://arxiv.org/e-print/2209.15395\n"
     ]
    },
    {
     "name": "stdout",
     "output_type": "stream",
     "text": [
      "extracting tarball to tmp_2209.15395..."
     ]
    },
    {
     "name": "stdout",
     "output_type": "stream",
     "text": [
      " done.\n",
      "Retrieving document from  https://arxiv.org/e-print/2209.15403\n"
     ]
    },
    {
     "name": "stdout",
     "output_type": "stream",
     "text": [
      "extracting tarball to tmp_2209.15403..."
     ]
    },
    {
     "name": "stdout",
     "output_type": "stream",
     "text": [
      " done.\n"
     ]
    },
    {
     "name": "stderr",
     "output_type": "stream",
     "text": [
      "/opt/hostedtoolcache/Python/3.9.14/x64/lib/python3.9/site-packages/arxiv_on_deck_2/latex.py:366: LatexWarning: Error parsing the document directly. Trying to recover.\n",
      "  warnings.warn(LatexWarning(f\"Error parsing the document directly. Trying to recover.\"))\n"
     ]
    },
    {
     "name": "stdout",
     "output_type": "stream",
     "text": [
      "✔ → 0:header\n",
      "  ↳ 2968:\\section{INTRODUCTION}\n",
      "✔ → 2968:\\section{INTRODUCTION}\n",
      "  ↳ 8424:\\section{METHODS}\\label{sec:methods}\n"
     ]
    },
    {
     "name": "stdout",
     "output_type": "stream",
     "text": [
      "✘ → 8424:\\section{METHODS}\\label{sec:methods}\n",
      "  ↳ 24963:\\section{RESULTS}\\label{sec:results}\n"
     ]
    },
    {
     "name": "stdout",
     "output_type": "stream",
     "text": [
      "✔ → 24963:\\section{RESULTS}\\label{sec:results}\n",
      "  ↳ 39412:\\section{DISCUSSION}\\label{sec:discussion}\n"
     ]
    },
    {
     "name": "stdout",
     "output_type": "stream",
     "text": [
      "✘ → 39412:\\section{DISCUSSION}\\label{sec:discussion}\n",
      "  ↳ 56311:\\section{Summary and future work} \\label{sec:conclusion}\n",
      "✔ → 56311:\\section{Summary and future work} \\label{sec:conclusion}\n",
      "  ↳ 60197:\\section{Ancillary Plots}\\label{appendix}\n"
     ]
    },
    {
     "name": "stdout",
     "output_type": "stream",
     "text": [
      "✔ → 60197:\\section{Ancillary Plots}\\label{appendix}\n",
      "  ↳ 61635:end\n"
     ]
    },
    {
     "name": "stdout",
     "output_type": "stream",
     "text": [
      "Retrieving document from  https://arxiv.org/e-print/2209.15417\n"
     ]
    },
    {
     "name": "stdout",
     "output_type": "stream",
     "text": [
      "extracting tarball to tmp_2209.15417..."
     ]
    },
    {
     "name": "stdout",
     "output_type": "stream",
     "text": [
      " done.\n",
      "Retrieving document from  https://arxiv.org/e-print/2209.15467\n"
     ]
    },
    {
     "name": "stdout",
     "output_type": "stream",
     "text": [
      "extracting tarball to tmp_2209.15467..."
     ]
    },
    {
     "name": "stdout",
     "output_type": "stream",
     "text": [
      " done.\n",
      "Retrieving document from  https://arxiv.org/e-print/2209.15548\n"
     ]
    },
    {
     "name": "stdout",
     "output_type": "stream",
     "text": [
      "extracting tarball to tmp_2209.15548..."
     ]
    },
    {
     "name": "stdout",
     "output_type": "stream",
     "text": [
      " done.\n",
      "Retrieving document from  https://arxiv.org/e-print/2209.15581\n"
     ]
    },
    {
     "name": "stdout",
     "output_type": "stream",
     "text": [
      "extracting tarball to tmp_2209.15581..."
     ]
    },
    {
     "name": "stdout",
     "output_type": "stream",
     "text": [
      " done.\n",
      "Retrieving document from  https://arxiv.org/e-print/2209.15590\n"
     ]
    },
    {
     "name": "stdout",
     "output_type": "stream",
     "text": [
      "extracting tarball to tmp_2209.15590..."
     ]
    },
    {
     "name": "stdout",
     "output_type": "stream",
     "text": [
      " done.\n"
     ]
    },
    {
     "name": "stderr",
     "output_type": "stream",
     "text": [
      "/opt/hostedtoolcache/Python/3.9.14/x64/lib/python3.9/site-packages/IPython/core/interactiveshell.py:3378: LatexWarning: Multiple tex files.\n",
      "\n",
      "  exec(code_obj, self.user_global_ns, self.user_ns)\n",
      "/opt/hostedtoolcache/Python/3.9.14/x64/lib/python3.9/site-packages/IPython/core/interactiveshell.py:3378: LatexWarning: Found documentclass in tmp_2209.15590/main.tex\n",
      "\n",
      "  exec(code_obj, self.user_global_ns, self.user_ns)\n"
     ]
    }
   ],
   "source": [
    "documents = []\n",
    "failed = []\n",
    "for paper in tqdm(candidates[:-1]):\n",
    "    paper_id = paper['identifier'].lower().replace('arxiv:', '')\n",
    "    \n",
    "    folder = f'tmp_{paper_id}'\n",
    "\n",
    "    try:\n",
    "        if not os.path.isdir(folder):\n",
    "            folder = retrieve_document_source(f\"{paper_id}\", f'tmp_{paper_id}')\n",
    "        \n",
    "        try:\n",
    "            doc = latex.LatexDocument(folder, validation=validation)    \n",
    "        except AffiliationError as affilerror:\n",
    "            msg = f\"ArXiv:{paper_id:s} is not an MPIA paper... \" + str(affilerror)\n",
    "            failed.append((paper, \"affiliation error: \" + str(affilerror) ))\n",
    "            continue\n",
    "        \n",
    "        # Hack because sometimes author parsing does not work well\n",
    "        if (len(doc.authors) != len(paper['authors'])):\n",
    "            doc._authors = paper['authors']\n",
    "        if (doc.abstract) in (None, ''):\n",
    "            doc._abstract = paper['abstract']\n",
    "            \n",
    "        doc.comment = (get_markdown_badge(paper_id) + \n",
    "                       \"<mark>Appeared on: \" + paper['date'] + \"</mark> - \" +\n",
    "                       \"_\" + paper['comments'] + \"_\")\n",
    "        doc.highlight_authors_in_list(hl_list)\n",
    "\n",
    "        full_md = doc.generate_markdown_text()\n",
    "        \n",
    "        documents.append((paper_id, full_md))\n",
    "    except Exception as e:\n",
    "        warnings.warn(latex.LatexWarning(f\"{paper_id:s} did not run properly\\n\" +\n",
    "                                         str(e)\n",
    "                                        ))\n",
    "        failed.append((paper, \"latex error \" + str(e)))"
   ]
  },
  {
   "cell_type": "markdown",
   "id": "2505a25c",
   "metadata": {
    "papermill": {
     "duration": 0.008795,
     "end_time": "2022-10-03T04:44:18.506028",
     "exception": false,
     "start_time": "2022-10-03T04:44:18.497233",
     "status": "completed"
    },
    "tags": []
   },
   "source": [
    "### Export the logs\n",
    "\n",
    "Throughout, we also keep track of the logs per paper. see `logs-{today date}.md` "
   ]
  },
  {
   "cell_type": "code",
   "execution_count": 6,
   "id": "d733828a",
   "metadata": {
    "execution": {
     "iopub.execute_input": "2022-10-03T04:44:18.526104Z",
     "iopub.status.busy": "2022-10-03T04:44:18.525568Z",
     "iopub.status.idle": "2022-10-03T04:44:18.571936Z",
     "shell.execute_reply": "2022-10-03T04:44:18.570841Z"
    },
    "papermill": {
     "duration": 0.061635,
     "end_time": "2022-10-03T04:44:18.576381",
     "exception": false,
     "start_time": "2022-10-03T04:44:18.514746",
     "status": "completed"
    },
    "scrolled": false,
    "tags": []
   },
   "outputs": [
    {
     "data": {
      "text/markdown": [
       "## Successful papers"
      ],
      "text/plain": [
       "<IPython.core.display.Markdown object>"
      ]
     },
     "metadata": {},
     "output_type": "display_data"
    },
    {
     "data": {
      "text/markdown": [
       "\n",
       "|||\n",
       "|---:|:---|\n",
       "| [![arXiv](https://img.shields.io/badge/arXiv-arXiv:2209.15110-b31b1b.svg)](https://arxiv.org/abs/arXiv:2209.15110) | **High Altitude characterization of the Hunga Pressure Wave with Cosmic  Rays by the HAWC Observatory**  |\n",
       "|| <mark>R. Alfaro</mark>, et al. -- incl., <mark>R. Diaz Hernandez</mark>, <mark>S. Hernandez</mark>, <mark>A. Lara</mark>, <mark>J.T. Linnemann</mark> |\n",
       "|*Appeared on*| *2022-10-03*|\n",
       "|*Comments*| *Contact about this analysis: A. Sandoval (asandoval@fisica.unam.mx), A. Lara (alara@igeofisica.unam.mx) & H. Le\\'on Vargas (hleonvar@fisica.unam.mx)*|\n",
       "|**Abstract**| High-energy cosmic rays that hit the Earth can be used to study large-scale atmospheric perturbations. After a first interaction in the upper parts of the atmosphere, cosmic rays produce a shower of particles that sample the atmosphere down to the detector level. The HAWC (High-Altitude Water Cherenkov) cosmic-ray observatory in Central Mexico at 4,100 m elevation detects air shower particles continuously with 300 water Cherenkov detectors with an active area of 12,500 m$^{2}$. On January 15th, 2022, HAWC detected the passage of the pressure wave created by the explosion of the Hunga volcano in the Tonga islands, 9,000 km away, as an anomaly in the measured rate of shower particles. The HAWC measurements are used to characterize the shape of four pressure wave passages, determine the propagation speed of each one, and correlate the variations of the shower particle rates with the barometric pressure changes, extracting a barometric parameter. The profile of the shower particle rate and atmospheric pressure variations for the first transit of the pressure wave at HAWC is compared to the pressure measurements at Tonga island, near the volcanic explosion. This work opens the possibility of using large particle cosmic-ray air shower detectors to trace large atmospheric transient waves. |"
      ],
      "text/plain": [
       "[arXiv:2209.15110] High Altitude characterization of the Hunga Pressure Wave with Cosmic  Rays by the HAWC Observatory\n",
       "\t<mark>R. Alfaro</mark>, et al. -- incl., <mark>R. Diaz Hernandez</mark>, <mark>S. Hernandez</mark>, <mark>A. Lara</mark>, <mark>J.T. Linnemann</mark>"
      ]
     },
     "metadata": {},
     "output_type": "display_data"
    },
    {
     "data": {
      "text/markdown": [
       "\n",
       "|||\n",
       "|---:|:---|\n",
       "| [![arXiv](https://img.shields.io/badge/arXiv-arXiv:2209.15403-b31b1b.svg)](https://arxiv.org/abs/arXiv:2209.15403) | **Atmospheric retrievals for LIFE and other future space missions: the  importance of mitigating systematic effects**  |\n",
       "|| Eleonora Alei, et al. -- incl., <mark>Paul Mollière</mark> |\n",
       "|*Appeared on*| *2022-10-03*|\n",
       "|*Comments*| *24 pages, 12 figures. Proceedings SPIE Volume 12180, Space Telescopes and Instrumentation 2022: Optical, Infrared, and Millimeter Wave; 121803L (2022)*|\n",
       "|**Abstract**| Atmospheric retrieval studies are essential to determine the science requirements for future generation missions, such as the Large Interferometer for Exoplanets (LIFE). The use of heterogeneous absorption cross-sections might be the cause of systematic effects in retrievals, which could bias a correct characterization of the atmosphere. In this contribution we quantified the impact of differences in line list provenance, broadening coefficients, and line wing cut-offs in the retrieval of an Earth twin exoplanet orbiting a Sun-like star at 10 pc from the observer, as it would be observed with LIFE. We ran four different retrievals on the same input spectrum, by varying the opacity tables that the Bayesian retrieval framework was allowed to use. We found that the systematics introduced by the opacity tables could bias the correct estimation of the atmospheric pressure at the surface level, as well as an accurate retrieval of the abundance of some species in the atmosphere (such as CO$_2$ and N$_2$O). We argue that differences in the line wing cut-off might be the major source of errors. We highlight the need for more laboratory and modeling efforts, as well as inter-model comparisons of the main radiative transfer models and Bayesian retrieval frameworks. This is especially relevant in the context of LIFE and future generation missions, to identify issues and critical points for the community to jointly work together to prepare for the analysis of the upcoming observations. |"
      ],
      "text/plain": [
       "[arXiv:2209.15403] Atmospheric retrievals for LIFE and other future space missions: the  importance of mitigating systematic effects\n",
       "\tEleonora Alei, et al. -- incl., <mark>Paul Mollière</mark>"
      ]
     },
     "metadata": {},
     "output_type": "display_data"
    },
    {
     "data": {
      "text/markdown": [
       "## Failed papers"
      ],
      "text/plain": [
       "<IPython.core.display.Markdown object>"
      ]
     },
     "metadata": {},
     "output_type": "display_data"
    },
    {
     "data": {
      "text/markdown": [
       "\n",
       "|||\n",
       "|---:|:---|\n",
       "| [![arXiv](https://img.shields.io/badge/arXiv-arXiv:2209.15417-b31b1b.svg)](https://arxiv.org/abs/arXiv:2209.15417) | **Multiple gas acquisition events in galaxies with dual misaligned gas  disks**  |\n",
       "|| Xiao Cao, et al. -- incl., <mark>Song-Lin Li</mark> |\n",
       "|*Appeared on*| *2022-10-03*|\n",
       "|*Comments*| *Published in Nature Astronomy on 29 September 2022; 23 pages, 6 figures*|\n",
       "|**Abstract**| Frequent accretion of external cold gas is thought to play an important role in galaxy assembly. However, almost all known kinematically misaligned galaxies identify only one gas disk that is misaligned with the stellar disk, implying a single gas acquisition event. Here we report a new configuration in two galaxies where both contain two gas disks misaligned with each other and also with the stellar disk. Such systems are not expected to be stable or long-lasting, challenging the traditional picture of gas accretion of galaxies and their angular momentum build-up. The differences in kinematic position angles are larger than 120{\\deg} between the two gas disks, and 40{\\deg} between each gas disk and the stellar component. The star formation activity is enhanced at the interface of the two gas disks compared with the other regions within the same galaxy. Such systems illustrate that low-redshift galaxies can still experience multiple gas acquisition events, and provide a new view into the origins of galactic gas. |\n",
       "|<p style=\"color:green\"> **ERROR** </p>| <p style=\"color:green\">affiliation error: mpia.affiliation_verifications: '69117' keyword not found.</p> |"
      ],
      "text/plain": [
       "<IPython.core.display.Markdown object>"
      ]
     },
     "metadata": {},
     "output_type": "display_data"
    },
    {
     "data": {
      "text/markdown": [
       "\n",
       "|||\n",
       "|---:|:---|\n",
       "| [![arXiv](https://img.shields.io/badge/arXiv-arXiv:2209.15015-b31b1b.svg)](https://arxiv.org/abs/arXiv:2209.15015) | **X-ray and radio observations of central black holes in nearby low-mass  early-type galaxies: Preliminary evidence for low Eddington fractions**  |\n",
       "|| R. Urquhart, et al. -- incl., <mark>N. Neumayer</mark> |\n",
       "|*Appeared on*| *2022-10-03*|\n",
       "|*Comments*| *13 pages, 4 figures, 3 tables. Accepted for publication in ApJ*|\n",
       "|**Abstract**| We present new radio and X-ray observations of two nearby ($< 4$ Mpc) low-mass early-type galaxies with dynamically-confirmed central black holes: NGC 5102 and NGC 205. NGC 5102 shows a weak nuclear X-ray source and has no core radio emission. However, for the first time we demonstrate that it shows luminous extended radio continuum emission in low-resolution, low-frequency ($< 3$ GHz) data, consistent with jet lobes on scales $\\gtrsim 100$ pc formed from past accretion and jet activity. By contrast, in new, extremely deep, strictly-simultaneous Very Large Array and Chandra observations, no radio or X-ray emission is detected from the black hole in NGC 205. We consider these measurements and upper limits in the context of the few other low-mass early-type galaxies with dynamically-confirmed black holes, and show that the mean ratio of bolometric to Eddington luminosity in this sample is only $\\textrm{log} \\, (L_{\\rm bol}/L_{\\rm Edd}) = -6.57\\pm0.50$. These Eddington ratios are lower than typical in a comparison sample of more massive early-type galaxies, though this conclusion is quite tentative due to our small sample of low-mass galaxies and potential biases in the comparison sample. This preliminary result is in mild tension with previous work using less sensitive observations of more distant galaxies, which predict higher X-ray luminosities than we observe for low-mass galaxies. If it is confirmed that central black holes in low-mass galaxies typically have low Eddington ratios, this presents a challenge to measuring the occupation fraction of central black holes with standard optical emission line, X-ray, or radio surveys. |\n",
       "|<p style=\"color:green\"> **ERROR** </p>| <p style=\"color:green\">affiliation error: mpia.affiliation_verifications: 'Heidelberg' keyword not found.</p> |"
      ],
      "text/plain": [
       "<IPython.core.display.Markdown object>"
      ]
     },
     "metadata": {},
     "output_type": "display_data"
    },
    {
     "data": {
      "text/markdown": [
       "\n",
       "|||\n",
       "|---:|:---|\n",
       "| [![arXiv](https://img.shields.io/badge/arXiv-arXiv:2209.15019-b31b1b.svg)](https://arxiv.org/abs/arXiv:2209.15019) | **Revealing AGNs Through TESS Variability**  |\n",
       "|| <mark>Helena P. Treiber</mark>, et al. |\n",
       "|*Appeared on*| *2022-10-03*|\n",
       "|*Comments*| *21 pages, 17 figures, 6 tables. Will be submitted to AAS journals. Comments welcome*|\n",
       "|**Abstract**| We used Transiting Exoplanet Survey Satellite (TESS) data to identify 29 candidate active galactic nuclei (AGNs) through their optical variability. The high-cadence, high-precision TESS light curves present a unique opportunity for the identification of AGNs, including those not selected through other methods. Of the candidates, we found that 18 have either previously been identified as AGNs in the literature or could have been selected based on emission-line diagnostics, mid-IR colors, or X-ray luminosity. AGNs in low-mass galaxies offer a window into supermassive black hole (SMBH) and galaxy co-evolution and 8 of the 29 candidates have estimated black hole masses $\\mathrm{\\lesssim 10^{6} M_{\\odot}}$. The low-mass galaxies NGC 4395 and NGC 4449 are two of our five \"high-confidence\" candidates. By applying our methodology to the entire TESS main and extended mission datasets, we expect to identify $\\sim$45 more AGN candidates, of which $\\sim$26 will be new and $\\sim$8 will be in low-mass galaxies. |\n",
       "|<p style=\"color:green\"> **ERROR** </p>| <p style=\"color:green\">affiliation error: mpia.affiliation_verifications: 'Heidelberg' keyword not found.</p> |"
      ],
      "text/plain": [
       "<IPython.core.display.Markdown object>"
      ]
     },
     "metadata": {},
     "output_type": "display_data"
    },
    {
     "data": {
      "text/markdown": [
       "\n",
       "|||\n",
       "|---:|:---|\n",
       "| [![arXiv](https://img.shields.io/badge/arXiv-arXiv:2209.15021-b31b1b.svg)](https://arxiv.org/abs/arXiv:2209.15021) | **MUSE Analysis of Gas around Galaxies (MAGG) -- IV: The gaseous  environment of $z\\sim$ 3-4 Lyman-alpha emitting galaxies**  |\n",
       "|| Emma K. Lofthouse, et al. -- incl., <mark>Lise Christensen</mark> |\n",
       "|*Appeared on*| *2022-10-03*|\n",
       "|*Comments*| *30 pages, 19 figures, submitted to MNRAS*|\n",
       "|**Abstract**| We study the link between galaxies and HI-selected absorption systems at z~3-4 in the MUSE Analysis of Gas around Galaxies (MAGG) survey, an ESO large programme consisting of integral field pectroscopic observations of 28 quasar fields hosting 61 strong absorbers with $\\rm N_{\\rm HI}\\gtrsim 10^{16.5}~\\rm cm^{-2}$. We identify 127 Ly$\\alpha$ emitting galaxies (LAEs) around the absorbers, corresponding to a detection rate of 82$\\pm$16 per cent. The luminosity function of these LAEs is approximately 5 times higher in normalization than the field population and we detect a significant clustering of galaxies with respect to the gas, confirming that high column density absorbers and LAEs trace each other. Between 30 and 40 per cent of the absorbers are associated with multiple LAEs, which lie preferentially along filaments. Galaxies in groups also exhibit a three times higher covering factor of optically-thick gas compared to isolated systems. No significant correlations are identified between the emission properties of LAEs and the absorption properties of optically-thick gas clouds, except for a weak preference of brighter and multiple galaxies to reside near broad absorbers. Based on the measured impact parameters and the covering factor, we conclude that the near totality of optically-thick gas in the Universe can be found in the outer circumgalactic medium (CGM) of LAEs or in the intergalactic medium (IGM) in proximity to these galaxies. Thus, LAEs act as tracers of larger scale structures within which both galaxies and optically-thick clouds are embedded. The patchy and inhomogeneous nature of the CGM and IGM explains the lack of correlations between absorption and emission properties. This implies that very large samples are needed to unveil the trends that encode the properties of the baryon cycle. |\n",
       "|<p style=\"color:green\"> **ERROR** </p>| <p style=\"color:green\">affiliation error: mpia.affiliation_verifications: 'Heidelberg' keyword not found.</p> |"
      ],
      "text/plain": [
       "<IPython.core.display.Markdown object>"
      ]
     },
     "metadata": {},
     "output_type": "display_data"
    },
    {
     "data": {
      "text/markdown": [
       "\n",
       "|||\n",
       "|---:|:---|\n",
       "| [![arXiv](https://img.shields.io/badge/arXiv-arXiv:2209.15036-b31b1b.svg)](https://arxiv.org/abs/arXiv:2209.15036) | **Large-Scale Spatial Cross-Calibration of Hinode/SOT-SP and SDO/HMI**  |\n",
       "|| David F. Fouhey, et al. -- incl., <mark>Yang Liu</mark> |\n",
       "|*Appeared on*| *2022-10-03*|\n",
       "|*Comments*| *Under revisions at ApJS*|\n",
       "|**Abstract**| We investigate the cross-calibration of the Hinode/SOT-SP and SDO/HMI instrument meta-data, specifically the correspondence of the scaling and pointing information. Accurate calibration of these datasets gives the correspondence needed by inter-instrument studies and learning-based magnetogram systems, and is required for physically-meaningful photospheric magnetic field vectors. We approach the problem by robustly fitting geometric models on correspondences between images from each instrument's pipeline. This technique is common in computer vision, but several critical details are required when using scanning slit spectrograph data like Hinode/SOT-SP. We apply this technique to data spanning a decade of the Hinode mission. Our results suggest corrections to the published Level 2 Hinode/SOT-SP data. First, an analysis on approximately 2,700 scans suggests that the reported pixel size in Hinode/SOT-SP Level 2 data is incorrect by around 1%. Second, analysis of over 12,000 scans show that the pointing information is often incorrect by dozens of arcseconds with a strong bias. Regression of these corrections indicates that thermal effects have caused secular and cyclic drift in Hinode/SOT-SP pointing data over its mission. We offer two solutions. First, direct co-alignment with SDO/HMI data via our procedure can improve alignments for many Hinode/SOT-SP scans. Second, since the pointing errors are predictable, simple post-hoc corrections can substantially improve the pointing. We conclude by illustrating the impact of this updated calibration on derived physical data products needed for research and interpretation. Among other things, our results suggest that the pointing errors induce a hemispheric bias in estimates of radial current density. |\n",
       "|<p style=\"color:green\"> **ERROR** </p>| <p style=\"color:green\">affiliation error: mpia.affiliation_verifications: 'Heidelberg' keyword not found.</p> |"
      ],
      "text/plain": [
       "<IPython.core.display.Markdown object>"
      ]
     },
     "metadata": {},
     "output_type": "display_data"
    },
    {
     "data": {
      "text/markdown": [
       "\n",
       "|||\n",
       "|---:|:---|\n",
       "| [![arXiv](https://img.shields.io/badge/arXiv-arXiv:2209.15058-b31b1b.svg)](https://arxiv.org/abs/arXiv:2209.15058) | **Effects of Rotation on the Spectra of Brown Dwarfs**  |\n",
       "|| <mark>Mikhail Lipatov</mark>, Timothy D. Brandt, Natasha E. Batalha |\n",
       "|*Appeared on*| *2022-10-03*|\n",
       "|*Comments*| *11 pages, 4 figures, MNRAS accepted*|\n",
       "|**Abstract**| Measured rotational speeds of giant planets and brown dwarfs frequently constitute appreciable fractions of the breakup limit, resulting in centrifugal expansion of these objects at the equator. According to models of internal energy transport, this expansion ought to make the poles of a rotator significantly hotter than the equator, so that inclination of the rotational axis greatly affects both spectral shape and total flux. In this article, we explore the dependence of a substellar object's observables on its rotational speed and axis inclination. To do so, we combine PICASO (a Planetary Intensity Code for Atmospheric Spectroscopy Observations) with software PARS (Paint the Atmospheres of Rotating Stars). The former computer program models radiative transfer within plane-parallel planetary atmospheres, while the latter computes disk-integrated spectra of centrifugally deformed gaseous masses. We find that the specific flux of a typical fast-rotating brown dwarf can increase by as much as a factor of 1.5 with movement from an equator-on to a pole-on view. On the other hand, the distinctive effect of rotation on spectral shape increases toward the equator-on view. The latter effect also increases with lower effective temperature. The bolometric luminosity estimate for a typical fast rotator at extreme inclinations has to be adjusted by as much as about 20% due to the anisotropy of the object's observed flux. We provide a general formula for the calculation of the corresponding adjustment factor in terms of rotational speed and inclination. |\n",
       "|<p style=\"color:green\"> **ERROR** </p>| <p style=\"color:green\">affiliation error: mpia.affiliation_verifications: 'Heidelberg' keyword not found.</p> |"
      ],
      "text/plain": [
       "<IPython.core.display.Markdown object>"
      ]
     },
     "metadata": {},
     "output_type": "display_data"
    },
    {
     "data": {
      "text/markdown": [
       "\n",
       "|||\n",
       "|---:|:---|\n",
       "| [![arXiv](https://img.shields.io/badge/arXiv-arXiv:2209.15077-b31b1b.svg)](https://arxiv.org/abs/arXiv:2209.15077) | **Optical Design and Wavelength Calibration of a DMD-based Multi-Object  Spectrograph**  |\n",
       "|| Shaojie Chen, et al. -- incl., <mark>Rosalind Liang</mark> |\n",
       "|*Appeared on*| *2022-10-03*|\n",
       "|*Comments*| *15 pages, 32 figures, 1 table, SPIE Astronomical Telescopes + Instrumentation 2022*|\n",
       "|**Abstract**| The multi-object spectrograph (MOS) has been the benchmark for the current generation of astronomical spectrographs, valued for its ability to acquire the spectra of hundreds of objects simultaneously. In the last two decades, the digital micromirror device (DMD) has shown potential in becoming the central component of the MOS, being used as a programmable slit array. We have designed a seeing-limited DMD-based MOS covering a spectral range of 0.4 to 0.7 $\\mu$m, with a field of view (FOV) of $10.5^\\prime \\times 13.98^\\prime$ and a spectral resolution of $R\\sim1000$. This DMD-MOS employs all-spherical refractive optics, and a volume phase holographic (VPH) grism as the dispersive element for high throughput. In this paper, we present the optical design and optimization process of this DMD-MOS, as well as a preliminary wavelength calibration procedure for hyperspectral data reduction. Using simulated data of the DMD-MOS, a procedure was developed to measure hyperspectral imaging distortion and to construct pixel-to-wavelength mappings on the detector. An investigation into the relationships between DMD micromirrors and detector pixels was conducted. This DMD-MOS will be placed on a 0.5 m diameter telescope as an exploratory study for future DMD-based MOS systems. |\n",
       "|<p style=\"color:green\"> **ERROR** </p>| <p style=\"color:green\">affiliation error: mpia.affiliation_verifications: 'Heidelberg' keyword not found.</p> |"
      ],
      "text/plain": [
       "<IPython.core.display.Markdown object>"
      ]
     },
     "metadata": {},
     "output_type": "display_data"
    },
    {
     "data": {
      "text/markdown": [
       "\n",
       "|||\n",
       "|---:|:---|\n",
       "| [![arXiv](https://img.shields.io/badge/arXiv-arXiv:2209.15127-b31b1b.svg)](https://arxiv.org/abs/arXiv:2209.15127) | **Absorption lines from magnetically driven winds in X-ray binaries II:  high resolution observational signatures expected from future X-ray  observatories**  |\n",
       "|| Susmita Chakravorty, et al. -- incl., <mark>Gilles Henri</mark> |\n",
       "|*Appeared on*| *2022-10-03*|\n",
       "|*Comments*| *18 pages, 13 figures in the main body and 3 figures in the appendix. Accepted for publication in MNRAS*|\n",
       "|**Abstract**| In our self-similar, analytical, magneto-hydrodynamic (MHD) accretion-ejection solution, the density at the base of the outflow is explicitly dependent on the disk accretion rate - a unique property of this class of solutions. We had earlier found that the ejection index $p >\\sim 0.1 (\\dot{M}_{acc} \\propto r^p ) $ is a key MHD parameter that decides if the flow can cause absorption lines in the high resolution X-ray spectra of black hole binaries. Here we choose 3 dense warm solutions with $p = 0.1, 0.3, 0.45$ and carefully develop a methodology to generate spectra which are convolved with the Athena and XRISM response functions to predict what they will observe seeing through such MHD outflows. In this paper two other external parameters were varied - extent of the disk, $\\rm{r_o|_{max}} = 10^5, \\, 10^6 \\,\\, \\rm{r_G}$, and the angle of the line of sight, $i \\sim 10 - 25^{\\circ}$. Resultant absorption lines (H and He-like Fe, Ca, Ar) change in strength and their profiles manifest varying degrees of asymmetry. We checked if a) the lines and ii) the line asymmetries are detected, in our suit of synthetic Athena and XRISM spectra. Our analysis shows that Athena should detect the lines and their asymmetries for a standard 100 ksec observation of a 100 mCrab source - lines with equivalent width as low as a few eV should be detected if the 6-8 keV counts are larger than $10^4 - 10^5$ even for the least favourable simulated cases. |\n",
       "|<p style=\"color:green\"> **ERROR** </p>| <p style=\"color:green\">affiliation error: mpia.affiliation_verifications: 'Heidelberg' keyword not found.</p> |"
      ],
      "text/plain": [
       "<IPython.core.display.Markdown object>"
      ]
     },
     "metadata": {},
     "output_type": "display_data"
    },
    {
     "data": {
      "text/markdown": [
       "\n",
       "|||\n",
       "|---:|:---|\n",
       "| [![arXiv](https://img.shields.io/badge/arXiv-arXiv:2209.15175-b31b1b.svg)](https://arxiv.org/abs/arXiv:2209.15175) | **The First Photometric and Orbital Period Investigation of an Extremely  Low Mass Ratio Contact Binary with a Sudden Period Change, TYC 4002-2628-1**  |\n",
       "|| <mark>Di-Fu. Guo</mark>, et al. -- incl., <mark>Kai Li</mark>, <mark>1 Fen Liu</mark>, <mark>Huai-Zhen Li Qi-Qi Xia</mark>, <mark>Guo-You Sun</mark> |\n",
       "|*Appeared on*| *2022-10-03*|\n",
       "|*Comments*| *9 pages*|\n",
       "|**Abstract**| Photometric observations for the totally eclipsing binary system TYC 4002-2628-1, were obtained between November 2020 and November 2021. To determine the stellar atmospheric parameters, a spectral image was taken with the 2.16 m telescope at National Astronomical Observatory of China (NAOC). TYC 4002-2628-1 is a low-amplitude (about 0.15 mag for $V$ band), short-period (0.3670495 d), contact eclipsing binary with a total secondary eclipse. Intrinsic light curve variations and the reversal of the O'Connell effect are detected in the light curves, which may be due to spot activity. Based on the photometric solutions derived from the multi-band time series light curves, TYC 4002-2628-1 is an extremely low mass ratio contact binary with a mass ratio of $q\\sim$ 0.0482 and a fill-out factor of $f\\sim5\\%$. By analyzing the $O-C$ variations, we find that its orbital period remains unchanged when BJD < 2458321 . Then the orbital period changed suddenly around BJD 2458743 and has an increasing rate of $dP/dt=1.62\\times{10^{-5}}day\\cdot yr^{-1}=140$ $second\\cdot century^{-1}$ . If confirmed, TYC 4002-2628-1 would be the contact binary with the highest orbital period increasing rate so far. By investigating the ratio of orbital angular momentum to the spin angular momentum ( $J_{orb}$/$J_{spin}$ $<3$) , the instability mass ratio ($q_{inst}/q=1.84$) and the instability separation ($A_{inst}/A=1.35$), TYC 4002-2628-1 can be regarded as a merger candidate. |\n",
       "|<p style=\"color:green\"> **ERROR** </p>| <p style=\"color:green\">affiliation error: mpia.affiliation_verifications: 'Heidelberg' keyword not found.</p> |"
      ],
      "text/plain": [
       "<IPython.core.display.Markdown object>"
      ]
     },
     "metadata": {},
     "output_type": "display_data"
    },
    {
     "data": {
      "text/markdown": [
       "\n",
       "|||\n",
       "|---:|:---|\n",
       "| [![arXiv](https://img.shields.io/badge/arXiv-arXiv:2209.15226-b31b1b.svg)](https://arxiv.org/abs/arXiv:2209.15226) | **Central concentration of warm and dense molecular gas in a strongly  lensed submillimeter galaxy at z=6**  |\n",
       "|| Akiyoshi Tsujita, et al. -- incl., <mark>Minju M. Lee</mark> |\n",
       "|*Appeared on*| *2022-10-03*|\n",
       "|*Comments*| *13 pages, 11 figures, accepted for publication in PASJ*|\n",
       "|**Abstract**| We report the detection of the CO(12-11) line emission toward G09-83808 (or H-ATLAS J090045.4+004125), a strongly-lensed submillimeter galaxy at $z = 6.02$, with Atacama Large Millimeter/submillimeter Array observations. Combining previously detected [O III]$\\,88\\:\\mathrm{\\mu m}$, [N II]$\\,205\\:\\mathrm{\\mu m}$, and dust continuum at 0.6$\\:$mm and 1.5$\\:$mm, we investigate the physical properties of the multi-phase interstellar medium in G09-83808. A source-plane reconstruction reveals that the region of the CO(12-11) emission is compact ($R_\\mathrm{{e, CO}}=0.49^{+0.29}_{-0.19}\\,\\mathrm{kpc}$) and roughly coincides with that of the dust continuum. Non-local thermodynamic equilibrium radiative transfer modeling of CO spectral-line energy distribution reveals that most of the CO(12-11) emission comes from a warm (kinetic temperature of $T_{\\mathrm{kin}}=320\\pm170\\:$K) and dense ($\\log(n_{\\mathrm{H2}}/\\mathrm{cm^{-3}})=5.4\\pm0.6$) gas, indicating that the warm and dense molecular gas is concentrated in the central 0.5-kpc region. The luminosity ratio in G09-83808 is estimated to be $L_\\mathrm{{CO(12-11)}} / L_\\mathrm{{CO(6-5)}}=1.1\\pm0.2$. The high ratio is consistent with those in local active galactic nuclei (AGNs) and $6<z<7$ quasars, the fact of which implies that G09-83808 would be a good target to explore dust-obscured AGNs in the epoch of reionization. In the reconstructed [O III]$\\,88\\:\\mathrm{\\mu m}$ and [N II]$\\,205\\:\\mathrm{\\mu m}$ cubes, we also find that a monotonic velocity gradient is extending over the central starburst region by a factor of two and that star-forming sub-components exist. High-resolution observations of bright [C II]$\\,158\\:\\mathrm{\\mu m}$ line emissions will enable us to characterize the kinematics of a possible rotating disk and the nature of the sub-components. |\n",
       "|<p style=\"color:green\"> **ERROR** </p>| <p style=\"color:green\">affiliation error: mpia.affiliation_verifications: 'Heidelberg' keyword not found.</p> |"
      ],
      "text/plain": [
       "<IPython.core.display.Markdown object>"
      ]
     },
     "metadata": {},
     "output_type": "display_data"
    },
    {
     "data": {
      "text/markdown": [
       "\n",
       "|||\n",
       "|---:|:---|\n",
       "| [![arXiv](https://img.shields.io/badge/arXiv-arXiv:2209.15235-b31b1b.svg)](https://arxiv.org/abs/arXiv:2209.15235) | **Ram Pressure Stripping and ISM disc Truncation : Prediction vs.  Observation**  |\n",
       "|| <mark>Seona Lee</mark>, et al. |\n",
       "|*Appeared on*| *2022-10-03*|\n",
       "|*Comments*| *13 pages, 11 figures, accepted for publication in MNRAS*|\n",
       "|**Abstract**| Ram pressure stripping (RPS) is known to be a key environmental effect that can remove interstellar gas from galaxies in a cluster. The RPS process is commonly described as a competition between the ram pressure by the intracluster medium (ICM) and the anchoring pressure on the interstellar medium (ISM) by the gravitational potential of a galaxy. However, the actual gas stripping process can be more complicated due to the complexity of gas physics such as compression and geometrical self-shielding as well as cooling and heating. In order to verify how well the observed signatures of the RPS process can be understood as simple momentum transfer, we compare the stripping radii of Virgo cluster galaxies in different stages of RPS measured from the HI observation with the predicted gas truncation radii for the given conditions. For the sample undergoing active RPS, we generally find good agreements between predictions and observations within a measurement uncertainty. On the other hand, galaxies likely in the early or later RPS stage and/or the ones with signs of environmental impacts other than RPS such as tidal interaction or starvation, show some discrepancies. Our results imply that the conventional RPS relation works reasonably well in a broad sense when RPS is the most dominant process and the galaxy is located where the surrounding environment can be well defined. Otherwise, more careful inspections on the second mechanism and local environment are required to assess the impact of RPS on the target. |\n",
       "|<p style=\"color:green\"> **ERROR** </p>| <p style=\"color:green\">affiliation error: mpia.affiliation_verifications: 'Heidelberg' keyword not found.</p> |"
      ],
      "text/plain": [
       "<IPython.core.display.Markdown object>"
      ]
     },
     "metadata": {},
     "output_type": "display_data"
    },
    {
     "data": {
      "text/markdown": [
       "\n",
       "|||\n",
       "|---:|:---|\n",
       "| [![arXiv](https://img.shields.io/badge/arXiv-arXiv:2209.15255-b31b1b.svg)](https://arxiv.org/abs/arXiv:2209.15255) | **Stellar Chromospheric Activity Database of Solar-like Stars Based on the  LAMOST Low-Resolution Spectroscopic Survey**  |\n",
       "|| <mark>Weitao Zhang</mark>, et al. -- incl., <mark>Jun Zhang</mark>, <mark>Han He</mark>, <mark>Haotong Zhang</mark> |\n",
       "|*Appeared on*| *2022-10-03*|\n",
       "|*Comments*| *26 pages, 15 figures, accepted for publication in ApJS*|\n",
       "|**Abstract**| $\\require{mediawiki-texvc}$A stellar chromospheric activity database of solar-like stars is constructed based on the Large Sky Area Multi-Object Fiber Spectroscopic Telescope (LAMOST) Low-Resolution Spectroscopic Survey (LRS). The database contains spectral bandpass fluxes and indexes of Ca II H&K lines derived from 1,330,654 high-quality LRS spectra of solar-like stars. We measure the mean fluxes at line cores of the Ca II H&K lines using a 1 ${\\AA}$ rectangular bandpass as well as a 1.09 ${\\AA}$ full width at half maximum (FWHM) triangular bandpass, and the mean fluxes of two 20 ${\\AA}$ pseudo-continuum bands on the two sides of the lines. Three activity indexes, $S_{\\rm rec}$ based on the 1 ${\\AA}$ rectangular bandpass, and $S_{\\rm tri}$ and $S_L$ based on the 1.09 ${\\AA}$ FWHM triangular bandpass, are evaluated from the measured fluxes to quantitatively indicate the chromospheric activity level. The uncertainties of all the obtained parameters are estimated. We also produce spectrum diagrams of Ca II H&K lines for all the spectra in the database. The entity of the database is composed of a catalog of spectral sample and activity parameters, and a library of spectrum diagrams. Statistics reveal that the solar-like stars with high level of chromospheric activity ($S_{\\rm rec}>0.6$) tend to appear in the parameter range of $T_{\\rm eff}\\text{ (effective temperature)}<5500\\,{\\rm K}$, $4.3<\\log\\,g\\text{ (surface gravity)}<4.6$, and $-0.2<[{\\rm Fe/H}]\\text{ (metallicity)}<0.3$. This database with more than one million high-quality LAMOST LRS spectra of Ca II H&K lines and basal chromospheric activity parameters can be further used for investigating activity characteristics of solar-like stars and solar-stellar connection. |\n",
       "|<p style=\"color:green\"> **ERROR** </p>| <p style=\"color:green\">affiliation error: mpia.affiliation_verifications: 'Heidelberg' keyword not found.</p> |"
      ],
      "text/plain": [
       "<IPython.core.display.Markdown object>"
      ]
     },
     "metadata": {},
     "output_type": "display_data"
    },
    {
     "data": {
      "text/markdown": [
       "\n",
       "|||\n",
       "|---:|:---|\n",
       "| [![arXiv](https://img.shields.io/badge/arXiv-arXiv:2209.15295-b31b1b.svg)](https://arxiv.org/abs/arXiv:2209.15295) | **X-ray performance of a customized large-format scientifc CMOS detector**  |\n",
       "|| Qinyu Wu, et al. -- incl., <mark>Zhixing Ling</mark>, <mark>Chen Zhang</mark>, <mark>Shuangnan Zhang</mark> |\n",
       "|*Appeared on*| *2022-10-03*|\n",
       "|*Comments*| *20 pages. published in PASP*|\n",
       "|**Abstract**| In recent years, the performance of Scientifc Complementary Metal Oxide Semiconductor (sCMOS) sensors has been improved signifcantly. Compared with CCD sensors, sCMOS sensors have various advantages, making them potentially better devices for optical and X-ray detection, especially in time-domain astronomy. After a series of tests of sCMOS sensors, we proposed a new dedicated high-speed, large-format X-ray detector in 2016 cooperating with Gpixel Inc. This new sCMOS sensor has a physical size of 6 cm by 6 cm, with an array of 4096 by 4096 pixels and a pixel size of 15 um. The frame rate is 20.1 fps under current condition and can be boosted to a maximum value around 100 fps. The epitaxial thickness is increased to 10 um compared to the previous sCMOS product. We show the results of its frst taped-out product in this work. The dark current of this sCMOS is lower than 10 e/pixel/s at 20C, and lower than 0.02 e/pixel/s at -30C. The Fixed Pattern Noise (FPN) and the readout noise are lower than 5 e in high-gain situation and show a small increase at low temperature. The energy resolution reaches 180.1 eV (3.1%) at 5.90 keV for single-pixel events and 212.3 eV (3.6%) for all split events. The continuous X-ray spectrum measurement shows that this sensor is able to response to X-ray photons from 500 eV to 37 keV. The excellent performance, as demonstrated from these test results, makes sCMOS sensor an ideal detector for X-ray imaging and spectroscopic application. |\n",
       "|<p style=\"color:green\"> **ERROR** </p>| <p style=\"color:green\">affiliation error: mpia.affiliation_verifications: 'Heidelberg' keyword not found.</p> |"
      ],
      "text/plain": [
       "<IPython.core.display.Markdown object>"
      ]
     },
     "metadata": {},
     "output_type": "display_data"
    },
    {
     "data": {
      "text/markdown": [
       "\n",
       "|||\n",
       "|---:|:---|\n",
       "| [![arXiv](https://img.shields.io/badge/arXiv-arXiv:2209.15395-b31b1b.svg)](https://arxiv.org/abs/arXiv:2209.15395) | **EMIR, the near-infrared camera and multi-object spectrograph for the GTC**  |\n",
       "|| F. Garzón, et al. -- incl., <mark>A. Herrero</mark> |\n",
       "|*Appeared on*| *2022-10-03*|\n",
       "|*Comments*| *10 pages, 11 figures*|\n",
       "|**Abstract**| We present EMIR, a powerful near-infrared (NIR) camera and multi-object spectrograph (MOS) installed at the Nasmyth focus of the 10.4 m GTC. EMIR was commissioned in mid-2016 and is offered as a common-user instrument. It provides spectral coverage of 0.9 to 2.5 $\\mu m$ over a field of view (FOV) of 6.67x6.67 squared arcmin in imaging mode, and 6.67x4 squared arcmin in spectroscopy. EMIR delivers up to 53 spectra of different objects thanks to a robotic configurable cold slit mask system that is located inside the cryogenic chamber, allowing rapid reconfiguration of the observing mask. The imaging mode is attained by moving all bars outside the FOV and then leaving an empty space in the GTC focal surface. The dispersing suite holds three large pseudo-grisms, formed by the combination of high-efficiency FuSi ion-etched ruled transmission grating sandwiched between two identical ZnSe prisms, plus one standard replicated grism. These dispersing units offer the spectral recording of an atmospheric window $J,H,K$ in a single shot with resolving powers of 5000, 4250, 4000, respectively for a nominal slit width of 0.6\\arcsec, plus the combined bands $YJ$ or $HK$, also in a single shot, with resolution of $\\sim$ 1000. The original Hawaii2 FPA detector, which is prone to instabilities that add noise to the signal, is being replaced by a new Hawaii2RG detector array, and is currently being tested at the IAC. This paper presents the most salient features of the instrument, with emphasis on its observing capabilities and the functionality of the configurable slit unit. Sample early science data is also shown. |\n",
       "|<p style=\"color:green\"> **ERROR** </p>| <p style=\"color:green\">affiliation error: mpia.affiliation_verifications: 'Heidelberg' keyword not found.</p> |"
      ],
      "text/plain": [
       "<IPython.core.display.Markdown object>"
      ]
     },
     "metadata": {},
     "output_type": "display_data"
    },
    {
     "data": {
      "text/markdown": [
       "\n",
       "|||\n",
       "|---:|:---|\n",
       "| [![arXiv](https://img.shields.io/badge/arXiv-arXiv:2209.15467-b31b1b.svg)](https://arxiv.org/abs/arXiv:2209.15467) | **The 700 ks Chandra Spiderweb Field II: Evidence for inverse-Compton and  thermal diffuse emission in the Spiderweb galaxy**  |\n",
       "|| P. Tozzi, et al. -- incl., <mark>A. Liu</mark> |\n",
       "|*Appeared on*| *2022-10-03*|\n",
       "|*Comments*| *19 pages, 16 figures, accepted in Astronomy & Astrophysics*|\n",
       "|**Abstract**| We present the X-ray imaging and spectral analysis of the diffuse emission around the Spiderweb galaxy at z=2.16 and of its nuclear emission, based on a deep (700 ks) Chandra observation. We characterize the nuclear emission and computed the contamination in the surrounding regions due to the wings of the instrument PSF. Then, we quantified the extended emission within 12\". We find that the Spiderweb galaxy hosts a mildly absorbed quasar, with modest yet significant variability on a timescale of ~1 year. We find that the emission in the jet regions is well described by a power law with Gamma~2-2.5, and it is consistent with IC upscattering of the CMB photons by the relativistic electrons. We also find a roughly symmetric, diffuse emission within a radius of ~100 kpc. This emission is consistent with thermal bremsstrahlung from a hot ICM with a temperature of kT=2.0_{-0.4}^{+0.7} keV, and a metallicity of Z<1.6Z_sun. The average electron density within 100 kpc is n_e=(1.51+-0.24+-0.14)E-2 cm^{-3}, corresponding to an upper limit for the total ICM mass of <=(1.76+-0.30+-0.17)E+12 M_sun (where error bars are 1 sigma statistical and systematic, respectively). If we apply hydrostatic equilibrium to the ICM, we measure a total gravitational mass M(<100 kpc)=(1.5^{+0.5}_{-0.3})E+13 M_sun and, extrapolating at larger radii, we estimate a total mass M_{500}=(3.2^{+1.1}_{-0.6})E+13 M_sun within a radius of r_{500}=(220+-30) kpc. We conclude that the Spiderweb protocluster shows significant diffuse emission within a radius of 12 arcsec, whose major contribution is provided by IC scattering associated with the radio jets. Outside the jet regions, we also identified thermal emission within a radius of ~100 kpc, revealing the presence of hot, diffuse baryons that may represent the embryonic virialized halo of the forming cluster. |\n",
       "|<p style=\"color:green\"> **ERROR** </p>| <p style=\"color:green\">affiliation error: mpia.affiliation_verifications: 'Heidelberg' keyword not found.</p> |"
      ],
      "text/plain": [
       "<IPython.core.display.Markdown object>"
      ]
     },
     "metadata": {},
     "output_type": "display_data"
    },
    {
     "data": {
      "text/markdown": [
       "\n",
       "|||\n",
       "|---:|:---|\n",
       "| [![arXiv](https://img.shields.io/badge/arXiv-arXiv:2209.15548-b31b1b.svg)](https://arxiv.org/abs/arXiv:2209.15548) | **The Roasting Marshmallows Program with IGRINS on Gemini South I:  Composition and Climate of the Ultra Hot Jupiter WASP-18 b**  |\n",
       "|| Matteo Brogi, et al. -- incl., <mark>Michael R. Line</mark>, <mark>Peter Smith</mark>, <mark>Joseph A. Zalesky</mark>, <mark>Lisa Dang</mark> |\n",
       "|*Appeared on*| *2022-10-03*|\n",
       "|*Comments*| *27 pages, 18 figures, submitted to AAS Journals. Community feedback welcome*|\n",
       "|**Abstract**| We present high-resolution dayside thermal emission observations of the exoplanet WASP-18b using IGRINS on Gemini South. We remove stellar and telluric signatures using standard algorithms, and we extract the planet signal via cross correlation with model spectra. We detect the atmosphere of WASP-18b at a signal-to-noise ratio (SNR) of 5.9 using a full chemistry model, measure H2O (SNR=3.3), CO (SNR=4.0), and OH (SNR=4.8) individually, and confirm previous claims of a thermal inversion layer. The three species are confidently detected (>4$\\sigma$) with a Bayesian inference framework, which we also use to retrieve abundance, temperature, and velocity information. For this ultra-hot Jupiter (UHJ), thermal dissociation processes likely play an important role. Retrieving abundances constant with altitude and allowing the temperature-pressure profile to freely adjust results in a moderately super-stellar carbon to oxygen ratio (C/O=0.75^{+0.14}_{-0.17}) and metallicity ([M/H]=1.03^{+0.65}_{-1.01}). Accounting for undetectable oxygen produced by thermal dissociation leads to C/O=0.45^{+0.08}_{-0.10} and [M/H]=1.17^{+0.66}_{-1.01}. A retrieval that assumes radiative-convective-thermochemical-equilibrium and naturally accounts for thermal dissociation constrains C/O<0.34 (2$\\sigma$) and [M/H]=0.48^{+0.33}_{-0.29}, in line with the chemistry of the parent star. Looking at the velocity information, we see a tantalising signature of different Doppler shifts at the level of a few km/s for different molecules, which might probe dynamics as a function of altitude and location on the planet disk. Our results demonstrate that ground-based, high-resolution spectroscopy at infrared wavelengths can provide meaningful constraints on the compositions and climate of highly irradiated planets. This work also elucidates potential pitfalls with commonly employed retrieval assumptions when applied to UHJ spectra. |\n",
       "|<p style=\"color:green\"> **ERROR** </p>| <p style=\"color:green\">affiliation error: mpia.affiliation_verifications: 'Heidelberg' keyword not found.</p> |"
      ],
      "text/plain": [
       "<IPython.core.display.Markdown object>"
      ]
     },
     "metadata": {},
     "output_type": "display_data"
    },
    {
     "data": {
      "text/markdown": [
       "\n",
       "|||\n",
       "|---:|:---|\n",
       "| [![arXiv](https://img.shields.io/badge/arXiv-arXiv:2209.15581-b31b1b.svg)](https://arxiv.org/abs/arXiv:2209.15581) | **Neutrino propagation in the Earth and emerging charged leptons with  $\\texttt{nuPyProp}$**  |\n",
       "|| Diksha Garg, et al. -- incl., <mark>Tobias Heibges</mark> |\n",
       "|*Appeared on*| *2022-10-03*|\n",
       "|*Comments*| *42 pages, 21 figures, code available at this https URL*|\n",
       "|**Abstract**| Ultra-high-energy neutrinos serve as messengers of some of the highest energy astrophysical environments. Given that neutrinos are neutral and only interact via weak interactions, neutrinos can emerge from sources, traverse astronomical distances, and point back to their origins. Their weak interactions require large target volumes for neutrino detection. Using the Earth as a neutrino converter, terrestrial, sub-orbital, and satellite-based instruments are able to detect signals of neutrino-induced extensive air showers. In this paper, we describe the software code $\\texttt{nuPyProp}$ that simulates tau neutrino and muon neutrino interactions in the Earth and predicts the spectrum of the $\\tau$-lepton and muons that emerge. The $\\texttt{nuPyProp}$ outputs are lookup tables of charged lepton exit probabilities and energies that can be used directly or as inputs to the $\\texttt{nuSpaceSim}$ code designed to simulate optical and radio signals from extensive air showers induced by the emerging charged leptons. We describe the inputs to the code, demonstrate its flexibility and show selected results for $\\tau$-lepton and muon exit probabilities and energy distributions. The $\\texttt{nuPyProp}$ code is open source, available on github. |\n",
       "|<p style=\"color:green\"> **ERROR** </p>| <p style=\"color:green\">affiliation error: mpia.affiliation_verifications: 'Heidelberg' keyword not found.</p> |"
      ],
      "text/plain": [
       "<IPython.core.display.Markdown object>"
      ]
     },
     "metadata": {},
     "output_type": "display_data"
    },
    {
     "data": {
      "text/markdown": [
       "\n",
       "|||\n",
       "|---:|:---|\n",
       "| [![arXiv](https://img.shields.io/badge/arXiv-arXiv:2209.15590-b31b1b.svg)](https://arxiv.org/abs/arXiv:2209.15590) | **Constraints on dark matter annihilation from the FAST observation of the  Coma Berenices dwarf galaxy**  |\n",
       "|| <mark>Wen-Qing Guo</mark>, et al. -- incl., <mark>Yichao Li</mark> |\n",
       "|*Appeared on*| *2022-10-03*|\n",
       "|*Comments*| *9 pages, 4 figures, 1 table, submitted to PRD*|\n",
       "|**Abstract**| The Galactic center $\\gamma$-ray excess, detected by the Fermi-LAT, is a very attractive tentative signal from dark matter annihilation. Searching for associated synchrotron emissions could test the dark matter interpretation for this excess. We point the Five-hundred-meter Aperture Spherical radio Telescope towards Coma Berenices, a dwarf Spheroidal galaxy, for 2-hours of observation, and we find no significant continuum radio emission, which could be attributed to dark matter annihilation, from our target. We set very stringent annihilation cross-section constraints, with roughly an order of magnitude improvement over a large range of masses compared with previous radio searches. The dark matter scenario for the Galactic center $\\gamma$-ray excess is in tension with the FAST observation for reasonable choices of astrophysical factors, including diffusion coefficient, diffusion radius and magnetic field. But with the combination of a small diffusion radius and a large diffusion coefficient, the $\\mu^{+}\\mu^{-}$ channel for the excess could still survive. Further radio observations by the FAST and other radio telescopes may reveal more about the dark matter properties. |\n",
       "|<p style=\"color:green\"> **ERROR** </p>| <p style=\"color:green\">affiliation error: mpia.affiliation_verifications: 'Heidelberg' keyword not found.</p> |"
      ],
      "text/plain": [
       "<IPython.core.display.Markdown object>"
      ]
     },
     "metadata": {},
     "output_type": "display_data"
    },
    {
     "data": {
      "text/markdown": [
       "\n",
       "|||\n",
       "|---:|:---|\n",
       "| [![arXiv](https://img.shields.io/badge/arXiv-arXiv:2209.15066-b31b1b.svg)](https://arxiv.org/abs/arXiv:2209.15066) | **Global instability by runaway collisions in nuclear stellar clusters:  Numerical tests of a route for massive black hole formation**  |\n",
       "|| M.C. Vergara, A. Escala, <mark>D.R.G. Schleicher</mark>, B. Reinoso |\n",
       "|*Appeared on*| *2022-10-03*|\n",
       "|*Comments*| *11 pages, 6 figures*|\n",
       "|**Abstract**| The centers of galaxies host nuclear stellar clusters, supermassive black holes, or both, but the origin of this dichotomy is still a mystery. Nuclear stellar clusters are the densest stellar system of the Universe, so they are ideal places for runaway collisions to occur. In these dense clusters it is possible that global instability occurs, triggered by collisions and mergers forming a massive black hole. Here we test a new mechanism to form massive black holes through runaway stellar collisions in nuclear stellar clusters, performing N-body simulations using the code nbody6++gpu. Our idealized models show that there is a critical mass where collisions become very efficient making it possible to form massive black holes in nuclear stellar clusters. The most massive objects reach masses of the order of $10^4-10^5\\rm~ M_\\odot$. We find that our highest black hole formation efficiency is up to $50\\%$ of the stellar mass at the end of the simulation. In real astrophysical systems, the critical mass scale for this transition is expected to occur in stellar clusters of $10^7-10^9\\rm~M_\\odot$, implying the formation of quite massive central objects. |\n",
       "|<p style=\"color:green\"> **ERROR** </p>| <p style=\"color:green\">affiliation error: mpia.affiliation_verifications: 'Max' keyword not found.</p> |"
      ],
      "text/plain": [
       "<IPython.core.display.Markdown object>"
      ]
     },
     "metadata": {},
     "output_type": "display_data"
    }
   ],
   "source": [
    "import datetime\n",
    "today = str(datetime.date.today())\n",
    "logfile = f\"_build/html/logs/log-{today}.md\"\n",
    "\n",
    "\n",
    "with open(logfile, 'w') as logs:\n",
    "    # Success\n",
    "    logs.write(f'# Arxiv on Deck 2: Logs - {today}\\n\\n')\n",
    "    logs.write(\"\"\"* Arxiv had {0:,d} new papers\\n\"\"\".format(len(new_papers)))\n",
    "    logs.write(\"\"\"    * {0:,d} with possible author matches\\n\\n\"\"\".format(len(candidates)))\n",
    "    logs.write(\"## Sucessful papers\\n\\n\")\n",
    "    display(Markdown(\"## Successful papers\"))\n",
    "    success = [k[0] for k in documents]\n",
    "    for candid in candidates:\n",
    "        if candid['identifier'].split(':')[-1] in success:\n",
    "            display(candid)\n",
    "            logs.write(candid.generate_markdown_text() + '\\n\\n')\n",
    "\n",
    "    ## failed\n",
    "    logs.write(\"## Failed papers\\n\\n\")\n",
    "    display(Markdown(\"## Failed papers\"))\n",
    "    failed = sorted(failed, key=lambda x: x[1])\n",
    "    current_reason = \"\"\n",
    "    for paper, reason in failed:\n",
    "        if 'affiliation' in reason:\n",
    "            color = 'green'\n",
    "        else:\n",
    "            color = 'red'\n",
    "        data = Markdown(\n",
    "                paper.generate_markdown_text() + \n",
    "                f'\\n|<p style=\"color:{color:s}\"> **ERROR** </p>| <p style=\"color:{color:s}\">{reason:s}</p> |'\n",
    "               )\n",
    "        if reason != current_reason:\n",
    "            logs.write(f'### {reason:s} \\n\\n')\n",
    "            current_reason = reason\n",
    "        logs.write(data.data + '\\n\\n')\n",
    "        \n",
    "        # only display here the important errors (all in logs)\n",
    "        # if color in ('red',):\n",
    "        display(data)"
   ]
  },
  {
   "cell_type": "markdown",
   "id": "472d20ee",
   "metadata": {
    "papermill": {
     "duration": 0.011574,
     "end_time": "2022-10-03T04:44:18.600242",
     "exception": false,
     "start_time": "2022-10-03T04:44:18.588668",
     "status": "completed"
    },
    "tags": []
   },
   "source": [
    "## Export documents\n",
    "\n",
    "We now write the .md files and export relevant images"
   ]
  },
  {
   "cell_type": "code",
   "execution_count": 7,
   "id": "d426aed9",
   "metadata": {
    "execution": {
     "iopub.execute_input": "2022-10-03T04:44:18.625640Z",
     "iopub.status.busy": "2022-10-03T04:44:18.625031Z",
     "iopub.status.idle": "2022-10-03T04:44:18.635213Z",
     "shell.execute_reply": "2022-10-03T04:44:18.634468Z"
    },
    "papermill": {
     "duration": 0.025165,
     "end_time": "2022-10-03T04:44:18.637346",
     "exception": false,
     "start_time": "2022-10-03T04:44:18.612181",
     "status": "completed"
    },
    "tags": []
   },
   "outputs": [],
   "source": [
    "def export_markdown_summary(md: str, md_fname:str, directory: str):\n",
    "    \"\"\"Export MD document and associated relevant images\"\"\"\n",
    "    import os\n",
    "    import shutil\n",
    "    import re\n",
    "\n",
    "    if (os.path.exists(directory) and not os.path.isdir(directory)):\n",
    "        raise RuntimeError(f\"a non-directory file exists with name {directory:s}\")\n",
    "\n",
    "    if (not os.path.exists(directory)):\n",
    "        print(f\"creating directory {directory:s}\")\n",
    "        os.mkdir(directory)\n",
    "\n",
    "    fig_fnames = (re.compile(r'\\[Fig.*\\]\\((.*)\\)').findall(md) + \n",
    "                  re.compile(r'\\<img src=\"([^>\\s]*)\"[^>]*/>').findall(md))\n",
    "    for fname in fig_fnames:\n",
    "        if 'http' in fname:\n",
    "            # No need to copy online figures\n",
    "            continue\n",
    "        destdir = os.path.join(directory, os.path.dirname(fname))\n",
    "        destfname = os.path.join(destdir, os.path.basename(fname))\n",
    "        try:\n",
    "            os.makedirs(destdir)\n",
    "        except FileExistsError:\n",
    "            pass\n",
    "        shutil.copy(fname, destfname)\n",
    "    with open(os.path.join(directory, md_fname), 'w') as fout:\n",
    "        fout.write(md)\n",
    "    print(\"exported in \", os.path.join(directory, md_fname))\n",
    "    [print(\"    + \" + os.path.join(directory,fk)) for fk in fig_fnames]"
   ]
  },
  {
   "cell_type": "code",
   "execution_count": 8,
   "id": "014d04a4",
   "metadata": {
    "execution": {
     "iopub.execute_input": "2022-10-03T04:44:18.663165Z",
     "iopub.status.busy": "2022-10-03T04:44:18.662630Z",
     "iopub.status.idle": "2022-10-03T04:44:18.702674Z",
     "shell.execute_reply": "2022-10-03T04:44:18.701399Z"
    },
    "papermill": {
     "duration": 0.056025,
     "end_time": "2022-10-03T04:44:18.705384",
     "exception": false,
     "start_time": "2022-10-03T04:44:18.649359",
     "status": "completed"
    },
    "tags": []
   },
   "outputs": [
    {
     "name": "stdout",
     "output_type": "stream",
     "text": [
      "exported in  _build/html/2209.15110.md\n",
      "    + _build/html/tmp_2209.15110/./Fig4New.png\n",
      "    + _build/html/tmp_2209.15110/./Fig2New.png\n",
      "    + _build/html/tmp_2209.15110/./HAWCFeb2020.png\n",
      "exported in  _build/html/2209.15403.md\n",
      "    + _build/html/tmp_2209.15403/./images/M1/plot_corner.png\n",
      "    + _build/html/tmp_2209.15403/./images/M1/plot_spectrum.png\n",
      "    + _build/html/tmp_2209.15403/./images/M2/plot_spectrum.png\n",
      "    + _build/html/tmp_2209.15403/./images/M3/plot_spectrum.png\n",
      "    + _build/html/tmp_2209.15403/./images/M4/plot_spectrum.png\n",
      "    + _build/html/tmp_2209.15403/./images/posteriors/R_pl_Posterior.png\n",
      "    + _build/html/tmp_2209.15403/./images/posteriors/M_pl_Posterior.png\n",
      "    + _build/html/tmp_2209.15403/./images/posteriors/P0_Posterior.png\n",
      "    + _build/html/tmp_2209.15403/./images/posteriors/R_pl_posteriors_legend.png\n"
     ]
    }
   ],
   "source": [
    "for paper_id, md in documents:\n",
    "    export_markdown_summary(md, f\"{paper_id:s}.md\", '_build/html/')"
   ]
  },
  {
   "cell_type": "markdown",
   "id": "f087a0a7",
   "metadata": {
    "papermill": {
     "duration": 0.012565,
     "end_time": "2022-10-03T04:44:18.731170",
     "exception": false,
     "start_time": "2022-10-03T04:44:18.718605",
     "status": "completed"
    },
    "tags": []
   },
   "source": [
    "## Display the papers\n",
    "\n",
    "Not necessary but allows for a quick check."
   ]
  },
  {
   "cell_type": "code",
   "execution_count": 9,
   "id": "fd25f625",
   "metadata": {
    "execution": {
     "iopub.execute_input": "2022-10-03T04:44:18.758892Z",
     "iopub.status.busy": "2022-10-03T04:44:18.758182Z",
     "iopub.status.idle": "2022-10-03T04:44:18.767349Z",
     "shell.execute_reply": "2022-10-03T04:44:18.766500Z"
    },
    "papermill": {
     "duration": 0.025976,
     "end_time": "2022-10-03T04:44:18.769560",
     "exception": false,
     "start_time": "2022-10-03T04:44:18.743584",
     "status": "completed"
    },
    "scrolled": false,
    "tags": []
   },
   "outputs": [
    {
     "data": {
      "text/markdown": [
       "<div class=\"macros\" style=\"visibility:hidden;\">\n",
       "$\\newcommand{\\ensuremath}{}$\n",
       "$\\newcommand{\\xspace}{}$\n",
       "$\\newcommand{\\object}[1]{\\texttt{#1}}$\n",
       "$\\newcommand{\\farcs}{{.}''}$\n",
       "$\\newcommand{\\farcm}{{.}'}$\n",
       "$\\newcommand{\\arcsec}{''}$\n",
       "$\\newcommand{\\arcmin}{'}$\n",
       "$\\newcommand{\\ion}[2]{#1#2}$\n",
       "$\\newcommand{\\textsc}[1]{\\textrm{#1}}$\n",
       "$\\newcommand{\\hl}[1]{\\textrm{#1}}$</div>\n",
       "\n",
       "<div class=\"macros\" style=\"visibility:hidden;\">\n",
       "$\\newcommand{$\\ensuremath$}{}$\n",
       "$\\newcommand{$\\xspace$}{}$\n",
       "$\\newcommand{$\\object$}[1]{\\texttt{#1}}$\n",
       "$\\newcommand{$\\farcs$}{{.}''}$\n",
       "$\\newcommand{$\\farcm$}{{.}'}$\n",
       "$\\newcommand{$\\arcsec$}{''}$\n",
       "$\\newcommand{$\\arcmin$}{'}$\n",
       "$\\newcommand{$\\ion$}[2]{#1#2}$\n",
       "$\\newcommand{$\\textsc$}[1]{\\textrm{#1}}$\n",
       "$\\newcommand{$\\hl$}[1]{\\textrm{#1}}$</div>\n",
       "\n",
       "\n",
       "\n",
       "<div id=\"title\">\n",
       "\n",
       "# High Altitude characterization of the Hunga Pressure Wave with Cosmic Rays by the HAWC Observatory\n",
       "\n",
       "</div>\n",
       "<div id=\"comments\">\n",
       "\n",
       "[![arXiv](https://img.shields.io/badge/arXiv-2209.15110-b31b1b.svg)](https://arxiv.org/abs/2209.15110)<mark>Appeared on: 2022-10-03</mark> - _Contact about this analysis: A. Sandoval (asandoval@fisica.unam.mx), A. Lara (alara@igeofisica.unam.mx) & H. Le\\'on Vargas (hleonvar@fisica.unam.mx)_\n",
       "\n",
       "</div>\n",
       "<div id=\"authors\">\n",
       "\n",
       "<mark><mark>R. Alfaro</mark></mark>, et al. -- incl., <mark><mark>R. Diaz Hernandez</mark></mark>, <mark><mark>S. Hernandez</mark></mark>, <mark><mark>A. Lara</mark></mark>, <mark><mark>J.T. Linnemann</mark></mark>\n",
       "\n",
       "</div>\n",
       "<div id=\"abstract\">\n",
       "\n",
       "**Abstract:** High-energy cosmic rays that hit the Earth can be used to study large-scale atmospheric perturbations. After a first interaction in the upper parts of the atmosphere, cosmic rays produce a shower of particles that sample the atmosphere down to the detector level. The HAWC (High-Altitude Water Cherenkov) cosmic-ray observatory in Central Mexico at 4,100 m elevation detects air shower particles continuously with 300 water Cherenkov detectors with an active area of 12,500 m$^{2}$. On January 15th, 2022, HAWC detected the passage of the pressure wave created by the explosion of the Hunga volcano in the Tonga islands, 9,000 km away, as an anomaly in the measured rate of shower particles. The HAWC measurements are used to characterize the shape of four pressure wave passages, determine the propagation speed of each one, and correlate the variations of the shower particle rates with the barometric pressure changes, extracting a barometric parameter. The profile of the shower particle rate and atmospheric pressure variations for the first transit of the pressure wave at HAWC is compared to the pressure measurements at Tonga island, near the volcanic explosion. This work opens the possibility of using large particle cosmic-ray air shower detectors to trace large atmospheric transient waves. \n",
       "\n",
       "</div>\n",
       "\n",
       "<div id=\"div_fig1\">\n",
       "\n",
       "<img src=\"tmp_2209.15110/./Fig4New.png\" alt=\"Fig6\" width=\"100%\"/>\n",
       "\n",
       "**Figure 6. -** Top panel: Variations on the fractional rate of detected shower particles after the effect of the daily oscillation has been subtracted for the time of the first passage of the Hunga pressure wave. The black line shows the data for all photosensors, and the red and blue lines correspond to each tank's two subsets of central and peripheral sensors. The horizontal dashed line marks the fractional rate of the most significant fluctuation before the pressure wave's arrival. The point where the signal crosses this line defines the arrival time of the wave. It is indicated by the location of the arrow. Bottom panel: The black line shows the measured barometric pressure variations, with the arrival of the pressure wave indicated with the vertical arrow. The pressure variations calculated from the HAWC measured rate variations (top panel) using Eq. \\ref{eq:deltar} is shown by the red line. \\label{fig:Fluctuations} (*fig:Fluctuations*)\n",
       "\n",
       "</div>\n",
       "<div id=\"div_fig2\">\n",
       "\n",
       "<img src=\"tmp_2209.15110/./Fig2New.png\" alt=\"Fig3\" width=\"100%\"/>\n",
       "\n",
       "**Figure 3. -** Top panel: Traces of the shower particle rates from the HAWC array as a function of time from January 15th, 00:00 UTC to January 18th, 06:00 UTC. Shown in black are the rates for all considered photosensors; in blue, the subset of peripheral detectors of each tank is scaled up by a 1.5 factor; in red, the subset of central detectors is scaled up by a 2.9 factor. The scale factors were used to display all the data with similar rate values. One sees the bi-diurnal oscillations and superimposed on them the signature of 4 passes of the Hunga explosion pressure wave delimited by the vertical lines in regions A-D. The spike after the D pass is due to an electric storm at the site. Bottom panel: Pressure variations from January 15th, 2022, 0:00 UTC to January 18th, 2022, 6:00 UTC. One sees the twice-daily oscillations are anti-correlated to the particle rate, and superimposed on them the pressure changes due to the passage of the pressure wave (A-D). The short path wave passages are (A) and (C), and the long path passages are (B) and (D).\\label{fig:Traces} (*fig:Traces*)\n",
       "\n",
       "</div>\n",
       "<div id=\"div_fig3\">\n",
       "\n",
       "<img src=\"tmp_2209.15110/./HAWCFeb2020.png\" alt=\"Fig1\" width=\"100%\"/>\n",
       "\n",
       "**Figure 1. -** The HAWC gamma- and cosmic-ray observatory on the slopes of the Sierra Negra Volcano, Puebla, Mexico, at 4,100 m elevation. Air shower particles are detected in the 300 water tanks by the Cherenkov light they emit when passing through the water. The picture also shows the detector upgrade that consists of smaller WCDs that surround the main array.\\label{fig:HAWCObs} (*fig:HAWCObs*)\n",
       "\n",
       "</div>"
      ],
      "text/plain": [
       "<IPython.core.display.Markdown object>"
      ]
     },
     "metadata": {},
     "output_type": "display_data"
    },
    {
     "data": {
      "text/markdown": [
       "<div class=\"macros\" style=\"visibility:hidden;\">\n",
       "$\\newcommand{\\ensuremath}{}$\n",
       "$\\newcommand{\\xspace}{}$\n",
       "$\\newcommand{\\object}[1]{\\texttt{#1}}$\n",
       "$\\newcommand{\\farcs}{{.}''}$\n",
       "$\\newcommand{\\farcm}{{.}'}$\n",
       "$\\newcommand{\\arcsec}{''}$\n",
       "$\\newcommand{\\arcmin}{'}$\n",
       "$\\newcommand{\\ion}[2]{#1#2}$\n",
       "$\\newcommand{\\textsc}[1]{\\textrm{#1}}$\n",
       "$\\newcommand{\\hl}[1]{\\textrm{#1}}$\n",
       "$\\newcommand$\n",
       "$\\newcommand{\\baselinestretch}{1.0}$</div>\n",
       "\n",
       "<div class=\"macros\" style=\"visibility:hidden;\">\n",
       "$\\newcommand{$\\ensuremath$}{}$\n",
       "$\\newcommand{$\\xspace$}{}$\n",
       "$\\newcommand{$\\object$}[1]{\\texttt{#1}}$\n",
       "$\\newcommand{$\\farcs$}{{.}''}$\n",
       "$\\newcommand{$\\farcm$}{{.}'}$\n",
       "$\\newcommand{$\\arcsec$}{''}$\n",
       "$\\newcommand{$\\arcmin$}{'}$\n",
       "$\\newcommand{$\\ion$}[2]{#1#2}$\n",
       "$\\newcommand{$\\textsc$}[1]{\\textrm{#1}}$\n",
       "$\\newcommand{$\\hl$}[1]{\\textrm{#1}}$\n",
       "$\\newcommand$\n",
       "$\\newcommand{$\\baselinestretch$}{1.0}$</div>\n",
       "\n",
       "\n",
       "\n",
       "<div id=\"title\">\n",
       "\n",
       "# Atmospheric retrievals for LIFE and other future space missions: the importance of mitigating systematic effects\n",
       "\n",
       "</div>\n",
       "<div id=\"comments\">\n",
       "\n",
       "[![arXiv](https://img.shields.io/badge/arXiv-2209.15403-b31b1b.svg)](https://arxiv.org/abs/2209.15403)<mark>Appeared on: 2022-10-03</mark> - _24 pages, 12 figures. Proceedings SPIE Volume 12180, Space Telescopes and Instrumentation 2022: Optical, Infrared, and Millimeter Wave; 121803L (2022)_\n",
       "\n",
       "</div>\n",
       "<div id=\"authors\">\n",
       "\n",
       "Eleonora Alei, et al.\n",
       "\n",
       "</div>\n",
       "<div id=\"abstract\">\n",
       "\n",
       "**Abstract:** Atmospheric retrieval studies are essential to determine the science requirements for future generation missions, such as the Large Interferometer for Exoplanets (LIFE). The use of heterogeneous absorption cross-sections might be the cause of systematic effects in retrievals, which could bias a correct characterization of the atmosphere.  In this contribution we quantified the impact of differences in line list provenance, broadening coefficients, and line wing cut-offs in the retrieval of an Earth twin exoplanet orbiting a Sun-like star at 10 pc from the observer, as it would be observed with LIFE. We ran four different retrievals on the same input spectrum, by varying the opacity tables that the Bayesian retrieval framework was allowed to use. We found that the systematics introduced by the opacity tables could bias the correct estimation of the atmospheric pressure at the surface level, as well as an accurate retrieval of the abundance of some species in the atmosphere (such as\\ce{CO2}and\\ce{N2O}). We argue that differences in the line wing cut-off might be the major source of errors. We highlight the need for more laboratory and modeling efforts, as well as inter-model comparisons of the main radiative transfer models and Bayesian retrieval frameworks. This is especially relevant in the context of LIFE and future generation missions, to identify issues and critical points for the community to jointly work together to prepare for the analysis of the upcoming observations.\n",
       "\n",
       "</div>\n",
       "\n",
       "<div id=\"div_fig1\">\n",
       "\n",
       "<img src=\"tmp_2209.15403/./images/M1/plot_corner.png\" alt=\"Fig6\" width=\"100%\"/>\n",
       "\n",
       "**Figure 6. -** example\\label{fig:corner_1} Corner plot for the posterior distributions from the retrievals of Run 1 (color-coded according to Table \\ref{tab:setups}). The black lines indicate the expected values for every parameter. On the diagonal, we show the marginalized posteriors for each parameter, with median and 1-$\\sigma$ uncertainties as dashed gray lines.\n",
       " (*fig:corner_1*)\n",
       "\n",
       "</div>\n",
       "<div id=\"div_fig2\">\n",
       "\n",
       "<img src=\"tmp_2209.15403/./images/M1/plot_spectrum.png\" alt=\"Fig1.1\" width=\"25%\"/><img src=\"tmp_2209.15403/./images/M2/plot_spectrum.png\" alt=\"Fig1.2\" width=\"25%\"/><img src=\"tmp_2209.15403/./images/M3/plot_spectrum.png\" alt=\"Fig1.3\" width=\"25%\"/><img src=\"tmp_2209.15403/./images/M4/plot_spectrum.png\" alt=\"Fig1.4\" width=\"25%\"/>\n",
       "\n",
       "**Figure 1. -** Spectra\\label{fig:spectra}\n",
       "Retrieved spectra compared to the input spectrum (black line) for the various runs. The gray error bars indicate the LIFE$\\textsc${sim} uncertainty. The color-shaded areas represent the confidence envelopes\n",
       "(darker shading corresponds to higher confidence). (*fig:spectra*)\n",
       "\n",
       "</div>\n",
       "<div id=\"div_fig3\">\n",
       "\n",
       "<img src=\"tmp_2209.15403/./images/posteriors/R_pl_Posterior.png\" alt=\"Fig4.1\" width=\"25%\"/><img src=\"tmp_2209.15403/./images/posteriors/M_pl_Posterior.png\" alt=\"Fig4.2\" width=\"25%\"/><img src=\"tmp_2209.15403/./images/posteriors/P0_Posterior.png\" alt=\"Fig4.3\" width=\"25%\"/><img src=\"tmp_2209.15403/./images/posteriors/R_pl_posteriors_legend.png\" alt=\"Fig4.4\" width=\"25%\"/>\n",
       "\n",
       "**Figure 4. -** Posteriors\\label{fig:posteriors_bulk}\n",
       " Posterior density distributions for the retrieved bulk parameters (planet radius, planet mass, ground pressure) for the four runs. The vertical, dashed lines mark the expected values for each parameter. For $R_{pl}$ and $\\mathrm{log_{10}(M_{pl})}$, dotted lines show the corresponding priors for comparison. (*fig:posteriors_bulk*)\n",
       "\n",
       "</div>"
      ],
      "text/plain": [
       "<IPython.core.display.Markdown object>"
      ]
     },
     "metadata": {},
     "output_type": "display_data"
    }
   ],
   "source": [
    "[display(Markdown(k[1])) for k in documents];"
   ]
  },
  {
   "cell_type": "markdown",
   "id": "873873a4",
   "metadata": {
    "papermill": {
     "duration": 0.012632,
     "end_time": "2022-10-03T04:44:18.796102",
     "exception": false,
     "start_time": "2022-10-03T04:44:18.783470",
     "status": "completed"
    },
    "tags": []
   },
   "source": [
    "# Create HTML index"
   ]
  },
  {
   "cell_type": "code",
   "execution_count": 10,
   "id": "cf665672",
   "metadata": {
    "execution": {
     "iopub.execute_input": "2022-10-03T04:44:18.822717Z",
     "iopub.status.busy": "2022-10-03T04:44:18.822053Z",
     "iopub.status.idle": "2022-10-03T04:44:18.833415Z",
     "shell.execute_reply": "2022-10-03T04:44:18.832453Z"
    },
    "papermill": {
     "duration": 0.027222,
     "end_time": "2022-10-03T04:44:18.835469",
     "exception": false,
     "start_time": "2022-10-03T04:44:18.808247",
     "status": "completed"
    },
    "tags": []
   },
   "outputs": [
    {
     "name": "stdout",
     "output_type": "stream",
     "text": [
      "52  publications in the last 7 days.\n",
      "\t _build/html/2209.15403.md\n",
      "\t _build/html/2209.15110.md\n",
      "\t _build/html/2209.14410.md\n",
      "\t _build/html/2209.14396.md\n",
      "\t _build/html/2209.13717.md\n",
      "\t _build/html/2209.13336.md\n",
      "\t _build/html/2209.12906.md\n",
      "\t _build/html/2209.11781.md\n",
      "\t _build/html/2209.11602.md\n",
      "\t _build/html/2209.11248.md\n",
      "\t _build/html/2209.11096.md\n",
      "\t _build/html/2209.10618.md\n",
      "\t _build/html/2209.09914.md\n",
      "\t _build/html/2209.09823.md\n",
      "\t _build/html/2209.08242.md\n",
      "\t _build/html/2209.08120.md\n",
      "\t _build/html/2209.08106.md\n",
      "\t _build/html/2209.07962.md\n",
      "\t _build/html/2209.07931.md\n",
      "\t _build/html/2209.06833.md\n",
      "\t _build/html/2209.05814.md\n",
      "\t _build/html/2209.05593.md\n",
      "\t _build/html/2209.04304.md\n",
      "\t _build/html/2209.03367.md\n",
      "\t _build/html/2209.02872.md\n",
      "\t _build/html/2209.02725.md\n",
      "\t _build/html/2209.02722.md\n",
      "\t _build/html/2209.02092.md\n",
      "\t _build/html/2209.01125.md\n",
      "\t _build/html/2209.00828.md\n",
      "\t _build/html/2209.00363.md\n",
      "\t _build/html/2208.14927.md\n",
      "\t _build/html/2208.09335.md\n",
      "\t _build/html/2208.08872.md\n",
      "\t _build/html/2204.06393.md\n",
      "\t _build/html/2204.03335.md\n",
      "\t _build/html/2204.03253.md\n",
      "\t _build/html/2204.02998.md\n",
      "\t _build/html/2204.02109.md\n",
      "\t _build/html/2204.02017.md\n",
      "\t _build/html/2204.01824.md\n",
      "\t _build/html/2204.01758.md\n",
      "\t _build/html/2204.01245.md\n",
      "\t _build/html/2204.00793.md\n",
      "\t _build/html/2204.00342.md\n",
      "\t _build/html/2203.16959.md\n",
      "\t _build/html/2203.16856.md\n",
      "\t _build/html/2203.16735.md\n",
      "\t _build/html/2203.16734.md\n",
      "\t _build/html/2203.16504.md\n",
      "\t _build/html/2203.15822.md\n",
      "\t _build/html/2203.15811.md\n"
     ]
    }
   ],
   "source": [
    "from datetime import datetime, timedelta, timezone\n",
    "from glob import glob\n",
    "\n",
    "files = glob('_build/html/*.md')\n",
    "days = 7\n",
    "now = datetime.today()\n",
    "res = []\n",
    "for fk in files:\n",
    "    stat_result = os.stat(fk).st_ctime\n",
    "    modified = datetime.fromtimestamp(stat_result, tz=timezone.utc).replace(tzinfo=None)\n",
    "    delta = now.today() - modified\n",
    "    if delta <= timedelta(days=days):\n",
    "        res.append((delta.seconds, fk))\n",
    "res = [k[1] for k in reversed(sorted(res, key=lambda x:x[1]))]\n",
    "npub = len(res)\n",
    "print(len(res), f\" publications in the last {days:d} days.\")\n",
    "[ print('\\t', k) for k in res ];"
   ]
  },
  {
   "cell_type": "code",
   "execution_count": 11,
   "id": "52ca0208",
   "metadata": {
    "execution": {
     "iopub.execute_input": "2022-10-03T04:44:18.901044Z",
     "iopub.status.busy": "2022-10-03T04:44:18.899933Z",
     "iopub.status.idle": "2022-10-03T04:44:18.914075Z",
     "shell.execute_reply": "2022-10-03T04:44:18.913062Z"
    },
    "papermill": {
     "duration": 0.06715,
     "end_time": "2022-10-03T04:44:18.916286",
     "exception": false,
     "start_time": "2022-10-03T04:44:18.849136",
     "status": "completed"
    },
    "scrolled": false,
    "tags": []
   },
   "outputs": [],
   "source": [
    "def create_carousel(npub=4):\n",
    "    \"\"\" Generate the HTML code for a carousel with `npub` slides \"\"\"\n",
    "    carousel = [\"\"\"<section class=\"carousel\" aria-label=\"Gallery\">\"\"\",\n",
    "                \"\"\"  <ol class=\"carousel__viewport\">\"\"\",\n",
    "    ]\n",
    "    for k in range(1, npub + 1):\n",
    "        prev_ = k - 1\n",
    "        next_ = k + 1\n",
    "        if prev_ <= 0:\n",
    "            prev_ = npub\n",
    "        if next_ > npub:\n",
    "            next_ = 1\n",
    "        text  = f\"\"\"    <li id=\"carousel__slide{k}\" tabindex=\"0\" class=\"carousel__slide\">\\n\"\"\"\n",
    "        text += f\"\"\"       <div class=\"carousel__snapper\">\\n\"\"\"\n",
    "        text += f\"\"\"         <a href=\"#carousel__slide{prev_}\" class=\"carousel__prev\">Go to previous slide</a>\\n\"\"\"\n",
    "        text += f\"\"\"         <a href=\"#carousel__slide{next_}\" class=\"carousel__next\">Go to next slide</a>\\n\"\"\"\n",
    "        text += f\"\"\"         <div id=\"slide{k}_content\" class=\"md_view\" >Content {k}</div>\\n\"\"\"\n",
    "        text += f\"\"\"       </div>\\n\"\"\"\n",
    "        text += f\"\"\"    </li>\"\"\"\n",
    "        carousel.append(text)\n",
    "\n",
    "    carousel.extend([\n",
    "        \"\"\"  </ol>\"\"\",\n",
    "        \"\"\"  <aside class=\"carousel__navigation\">\"\"\",\n",
    "        \"\"\"    <ol class=\"carousel__navigation-list\">\"\"\"])\n",
    "\n",
    "    for k in range(1, npub + 1):\n",
    "        text  = f\"\"\"      <li class=\"carousel__navigation-item\">\\n\"\"\"\n",
    "        text += f\"\"\"        <a href=\"#carousel__slide{k}\" class=\"carousel__navigation-button\">Go to {k}</a>\\n\"\"\"\n",
    "        text += f\"\"\"      </li>\"\"\"\n",
    "        carousel.append(text)\n",
    "    carousel.extend([\"\"\"    </ol>\"\"\", \"\"\"  </aside>\"\"\", \"\"\"</section>\"\"\"])\n",
    "\n",
    "    return '\\n'.join(carousel)"
   ]
  },
  {
   "cell_type": "code",
   "execution_count": 12,
   "id": "a6eac5b6",
   "metadata": {
    "execution": {
     "iopub.execute_input": "2022-10-03T04:44:18.945209Z",
     "iopub.status.busy": "2022-10-03T04:44:18.944528Z",
     "iopub.status.idle": "2022-10-03T04:44:18.953620Z",
     "shell.execute_reply": "2022-10-03T04:44:18.952573Z"
    },
    "papermill": {
     "duration": 0.025784,
     "end_time": "2022-10-03T04:44:18.955609",
     "exception": false,
     "start_time": "2022-10-03T04:44:18.929825",
     "status": "completed"
    },
    "scrolled": false,
    "tags": []
   },
   "outputs": [],
   "source": [
    "carousel = create_carousel(npub)\n",
    "docs = ', '.join(['\"{0:s}\"'.format(k.split('/')[-1]) for k in res])\n",
    "slides = ', '.join([f'\"slide{k}_content\"' for k in range(1, npub + 1)])\n",
    "\n",
    "script = f\"\"\"\n",
    "const docs = [{docs}]\n",
    "\n",
    "const slides = [{slides}]\n",
    "\"\"\" + \"\"\"\n",
    "async function run() {\n",
    "    for (let i = 0; i < docs.length; i++) {\n",
    "        let file = await fetch(docs[i]);\n",
    "        let text = await file.text()\n",
    "        document.getElementById(slides[i]).innerHTML =\n",
    "            marked.parse(text);\n",
    "    }\n",
    "    hljs.highlightAll();\n",
    "}\n",
    "run()\n",
    "\"\"\"\n",
    "\n",
    "page = f\"\"\"<!doctype html>\n",
    "<html lang=\"en\">\n",
    "\n",
    "<head>\n",
    "  <meta charset=\"utf-8\">\n",
    "  <meta name=\"viewport\" content=\"width=device-width, initial-scale=1\">\n",
    "  <!-- Bootstrap CSS -->\n",
    "  <link href=\"https://cdn.jsdelivr.net/npm/bootstrap@5.0.2/dist/css/bootstrap.min.css\" rel=\"stylesheet\"\n",
    "   integrity=\"sha384-EVSTQN3/azprG1Anm3QDgpJLIm9Nao0Yz1ztcQTwFspd3yD65VohhpuuCOmLASjC\" crossorigin=\"anonymous\">\n",
    "  <!-- highlight.js CSS -->\n",
    "  <link rel=\"stylesheet\" href=\"https://cdnjs.cloudflare.com/ajax/libs/highlight.js/11.1.0/styles/default.min.css\">\n",
    "  <!-- Mathjax 3 -->\n",
    "  <script type=\"text/javascript\" id=\"MathJax-config\" src=\"mathjax_config.js\"> </script>\n",
    "  <script type=\"text/javascript\" id=\"MathJax-script\" async \n",
    "    src=\"https://cdn.jsdelivr.net/npm/mathjax@3/es5/tex-mml-chtml.js\">\n",
    "  </script>\n",
    "  <link rel=\"stylesheet\" href=\"index_carousel.css\">\n",
    "  <link rel=\"icon\" type=\"image/x-icon\" href=\"https://www.mpia.de/assets/touch-icon-32x32-a66937bcebc4e8894ebff1f41a366c7c7220fd97a38869ee0f2db65a9f59b6c1.png\">\n",
    "  <title>MPIA Arxiv on deck!</title>\n",
    "</head>\n",
    "\n",
    "<body>\n",
    "  <div id=\"header\"> <img src=\"header_banner.png\" width=\"100%\"></div>\n",
    "  <div id=\"suptitle\"> 7-day archives </div>\n",
    "  <div id=\"info\">\n",
    "    <img src=\"https://pngimg.com/uploads/github/github_PNG58.png\" height=30rem></img>\n",
    "    <a href=https://github.com/mpi-astronomy/arxiv_display style=\"color:black;\">github/mpi-astronomy/arxiv_display</a> \n",
    "  </div>\n",
    "  {carousel:s}\n",
    "</body>\n",
    "\n",
    "<!-- Render Markdown -->\n",
    "\n",
    "<body>\n",
    "  <!-- highlight.js: https://highlightjs.org/download/ -->\n",
    "  <script src=\"https://cdnjs.cloudflare.com/ajax/libs/highlight.js/11.5.0/highlight.min.js\"></script>\n",
    "  <!-- marked.js -->\n",
    "  <script src=\"https://cdn.jsdelivr.net/npm/marked/marked.min.js\"></script>\n",
    "  <script>{script:s}</script>\n",
    "</body>\n",
    "</html>\n",
    "\"\"\"\n",
    "with open(\"_build/html/index_7days.html\", 'w') as fout:\n",
    "    fout.write(page)"
   ]
  },
  {
   "cell_type": "markdown",
   "id": "1cebacbc",
   "metadata": {
    "papermill": {
     "duration": 0.012552,
     "end_time": "2022-10-03T04:44:18.981132",
     "exception": false,
     "start_time": "2022-10-03T04:44:18.968580",
     "status": "completed"
    },
    "tags": []
   },
   "source": [
    "# Debugging papers"
   ]
  },
  {
   "cell_type": "raw",
   "id": "debe7cc6",
   "metadata": {
    "papermill": {
     "duration": 0.013272,
     "end_time": "2022-10-03T04:44:19.007770",
     "exception": false,
     "start_time": "2022-10-03T04:44:18.994498",
     "status": "completed"
    },
    "tags": []
   },
   "source": [
    "raise NotImplementedError(\"Manual Stop\")"
   ]
  },
  {
   "cell_type": "raw",
   "id": "eb169192",
   "metadata": {
    "papermill": {
     "duration": 0.013226,
     "end_time": "2022-10-03T04:44:19.034268",
     "exception": false,
     "start_time": "2022-10-03T04:44:19.021042",
     "status": "completed"
    },
    "scrolled": true,
    "tags": []
   },
   "source": [
    "from IPython.display import display, Markdown\n",
    "from TexSoup import TexSoup\n",
    "import re\n",
    "\n",
    "def bracket_error(source: str):\n",
    "    \"\"\" Find problematic portions of the document \"\"\"\n",
    "    \n",
    "    print(\"len(source)\", len(source))\n",
    "    \n",
    "    # Checking header\n",
    "    begin_doc = next(re.finditer(r'\\\\begin\\{document\\}', doc.source)).span()[1]\n",
    "    header = source[:begin_doc]\n",
    "    text = header + r\"\\n\\end{document}\"\n",
    "\n",
    "    try:\n",
    "        # print(\"Header check... \", end='')\n",
    "        TexSoup(text)\n",
    "        display(Markdown(f\"**[OK]** - Header\"))\n",
    "    except:\n",
    "        raise RuntimeError(\"Error in the header\")\n",
    "        \n",
    "    # Check the text per section until the end.\n",
    "    # Do not stop and try them all.\n",
    "    \n",
    "    problematic_text = []\n",
    "    \n",
    "    sections = ([(0, begin_doc, 'until first section')] + \n",
    "                [(g.span()[0], g.span()[1], g.group()) for g in re.finditer(r'\\\\section\\{.*\\}', source)] +\n",
    "                [(g.span()[0], g.span()[1], g.group()) for g in re.finditer(r'\\\\begin\\{appendix\\}', source)]\n",
    "               )\n",
    "    sections.append([len(source), len(source), 'end'])\n",
    "    \n",
    "    sections = sorted(sections, key=lambda x: x[0])\n",
    "    \n",
    "    prev_pos, prev_name = (0, 'header')\n",
    "    parsed = []\n",
    "    \n",
    "    for span, span_end, name in sections:\n",
    "\n",
    "        if span - prev_pos <= 0:\n",
    "            continue\n",
    "            \n",
    "\n",
    "        text = source[prev_pos:span]\n",
    "        if prev_pos > begin_doc:\n",
    "            text = r\"\\n\\begin{document}\" + text + r\"\\n\\end{document}\"\n",
    "        else:\n",
    "            text = text + r\"\\n\\end{document}\"\n",
    "        try:\n",
    "            #print(f\"{prev_pos}:{prev_name}-->{span}:{name} check... \", end='')\n",
    "            parsed.append(TexSoup(text, tolerance=1))  # allow not ending env\n",
    "            display(Markdown(f\"**[OK]** - *{prev_pos}*:{prev_name} &rarr; *{span}*:{name}\"))\n",
    "            # print(\"ok\")\n",
    "\n",
    "            prev_pos = span\n",
    "            prev_name = name\n",
    "        except:\n",
    "            # print(f\"error between {prev_pos} and {span}\")\n",
    "            display(Markdown(f\"**[ERR]** *{prev_pos}*:{prev_name} &rarr; *{span}*:{name}\"))\n",
    "            problematic_text.append((prev_pos, source[prev_pos:span]))\n",
    "            prev_pos = span\n",
    "            prev_name = name\n",
    "            # raise\n",
    "    return problematic_text, parsed\n",
    "\n",
    "\n",
    "def check_environment(text, offset=0):\n",
    "    \"\"\" Check environment \"\"\"\n",
    "    env = re.compile(r\"\\\\begin\\{(?P<env>.*)\\}(.*)\\\\end\\{(?P=env)\\}\", re.DOTALL)\n",
    "\n",
    "    for match in env.finditer(text):\n",
    "        beg, end = match.span()\n",
    "        beg += offset\n",
    "        end += offset\n",
    "        envname = match.groups()[0]\n",
    "        try:\n",
    "            latex.TexSoup(match.group())\n",
    "        except Exception as e:\n",
    "            display(e)\n",
    "            print(f\"Error in {envname:s} between {beg} and {end}\")\n",
    "            return match.groups()[1], beg, end"
   ]
  },
  {
   "cell_type": "raw",
   "id": "2315e835",
   "metadata": {
    "papermill": {
     "duration": 0.01409,
     "end_time": "2022-10-03T04:44:19.062073",
     "exception": false,
     "start_time": "2022-10-03T04:44:19.047983",
     "status": "completed"
    },
    "scrolled": false,
    "tags": []
   },
   "source": [
    "import importlib\n",
    "importlib.reload(latex)\n",
    "which = \"2204.03253\"\n",
    "paper_id = f'{which:s}'\n",
    "folder = f'tmp_{paper_id:s}'\n",
    "\n",
    "if not os.path.isdir(folder):\n",
    "    folder = retrieve_document_source(f\"{paper_id}\", f'tmp_{paper_id}')\n",
    "\n",
    "try:\n",
    "    doc = latex.LatexDocument(folder, validation=validation)    \n",
    "except AffiliationError as affilerror:\n",
    "    msg = f\"ArXiv:{paper_id:s} is not an MPIA paper... \" + str(affilerror)\n",
    "    print(msg)\n",
    "\n",
    "\n",
    "# Hack because sometimes author parsing does not work well\n",
    "if (len(doc.authors) != len(paper['authors'])):\n",
    "    doc._authors = paper['authors']\n",
    "if (doc.abstract) in (None, ''):\n",
    "    doc._abstract = paper['abstract']\n",
    "\n",
    "doc.comment = get_markdown_badge(paper_id) + \" _\" + paper['comments'] + \"_\"\n",
    "doc.highlight_authors_in_list(hl_list)\n",
    "\n",
    "full_md = doc.generate_markdown_text()"
   ]
  },
  {
   "cell_type": "raw",
   "id": "dd3781db",
   "metadata": {
    "papermill": {
     "duration": 0.019444,
     "end_time": "2022-10-03T04:44:19.095114",
     "exception": false,
     "start_time": "2022-10-03T04:44:19.075670",
     "status": "completed"
    },
    "scrolled": false,
    "tags": []
   },
   "source": [
    "doc"
   ]
  },
  {
   "cell_type": "raw",
   "id": "c6eed834",
   "metadata": {
    "papermill": {
     "duration": 0.012974,
     "end_time": "2022-10-03T04:44:19.121361",
     "exception": false,
     "start_time": "2022-10-03T04:44:19.108387",
     "status": "completed"
    },
    "tags": []
   },
   "source": [
    "# [check_environment(k) for k in bracket_error(doc.source)]\n",
    "_, _, a = latex.get_content_per_section(doc.source, verbose=True)\n",
    "if not a:\n",
    "    print(\"no issues per section\")\n",
    "for ak in a:\n",
    "    r = check_environment(ak[1], offset=ak[0])\n",
    "    print(r[1], r[2])\n",
    "    print(r[0])"
   ]
  },
  {
   "cell_type": "code",
   "execution_count": null,
   "id": "71ce768a",
   "metadata": {
    "papermill": {
     "duration": 0.013247,
     "end_time": "2022-10-03T04:44:19.147930",
     "exception": false,
     "start_time": "2022-10-03T04:44:19.134683",
     "status": "completed"
    },
    "tags": []
   },
   "outputs": [],
   "source": []
  }
 ],
 "metadata": {
  "kernelspec": {
   "display_name": "Python 3.10.6 64-bit",
   "language": "python",
   "name": "python3"
  },
  "language_info": {
   "codemirror_mode": {
    "name": "ipython",
    "version": 3
   },
   "file_extension": ".py",
   "mimetype": "text/x-python",
   "name": "python",
   "nbconvert_exporter": "python",
   "pygments_lexer": "ipython3",
   "version": "3.9.14"
  },
  "papermill": {
   "default_parameters": {},
   "duration": 234.656599,
   "end_time": "2022-10-03T04:44:19.484235",
   "environment_variables": {},
   "exception": null,
   "input_path": "MPIA daily digest.ipynb",
   "output_path": "log.ipynb",
   "parameters": {},
   "start_time": "2022-10-03T04:40:24.827636",
   "version": "2.4.0"
  },
  "vscode": {
   "interpreter": {
    "hash": "e7370f93d1d0cde622a1f8e1c04877d8463912d04d973331ad4851f04de6915a"
   }
  },
  "widgets": {
   "application/vnd.jupyter.widget-state+json": {
    "state": {
     "111ec80c3e69425292e3de295be81d66": {
      "model_module": "@jupyter-widgets/controls",
      "model_module_version": "2.0.0",
      "model_name": "HTMLStyleModel",
      "state": {
       "_model_module": "@jupyter-widgets/controls",
       "_model_module_version": "2.0.0",
       "_model_name": "HTMLStyleModel",
       "_view_count": null,
       "_view_module": "@jupyter-widgets/base",
       "_view_module_version": "2.0.0",
       "_view_name": "StyleView",
       "background": null,
       "description_width": "",
       "font_size": null,
       "text_color": null
      }
     },
     "311bd41eefbc477d90e686337e202d8d": {
      "model_module": "@jupyter-widgets/controls",
      "model_module_version": "2.0.0",
      "model_name": "HTMLModel",
      "state": {
       "_dom_classes": [],
       "_model_module": "@jupyter-widgets/controls",
       "_model_module_version": "2.0.0",
       "_model_name": "HTMLModel",
       "_view_count": null,
       "_view_module": "@jupyter-widgets/controls",
       "_view_module_version": "2.0.0",
       "_view_name": "HTMLView",
       "description": "",
       "description_allow_html": false,
       "layout": "IPY_MODEL_bbd2940dee614cd1a28232fce61fbd3e",
       "placeholder": "​",
       "style": "IPY_MODEL_111ec80c3e69425292e3de295be81d66",
       "tabbable": null,
       "tooltip": null,
       "value": " 21/21 [03:23&lt;00:00,  7.06s/it]"
      }
     },
     "4a4b8c5ab1054d92a833acc1767eeca6": {
      "model_module": "@jupyter-widgets/controls",
      "model_module_version": "2.0.0",
      "model_name": "ProgressStyleModel",
      "state": {
       "_model_module": "@jupyter-widgets/controls",
       "_model_module_version": "2.0.0",
       "_model_name": "ProgressStyleModel",
       "_view_count": null,
       "_view_module": "@jupyter-widgets/base",
       "_view_module_version": "2.0.0",
       "_view_name": "StyleView",
       "bar_color": null,
       "description_width": ""
      }
     },
     "55acf5a62ffe4337bec6359fcf42612c": {
      "model_module": "@jupyter-widgets/controls",
      "model_module_version": "2.0.0",
      "model_name": "FloatProgressModel",
      "state": {
       "_dom_classes": [],
       "_model_module": "@jupyter-widgets/controls",
       "_model_module_version": "2.0.0",
       "_model_name": "FloatProgressModel",
       "_view_count": null,
       "_view_module": "@jupyter-widgets/controls",
       "_view_module_version": "2.0.0",
       "_view_name": "ProgressView",
       "bar_style": "success",
       "description": "",
       "description_allow_html": false,
       "layout": "IPY_MODEL_98c3e4653d554d6ca6cb392f228a70e2",
       "max": 21.0,
       "min": 0.0,
       "orientation": "horizontal",
       "style": "IPY_MODEL_4a4b8c5ab1054d92a833acc1767eeca6",
       "tabbable": null,
       "tooltip": null,
       "value": 21.0
      }
     },
     "7c69d5c062884d90a01ebb36cbfbf655": {
      "model_module": "@jupyter-widgets/base",
      "model_module_version": "2.0.0",
      "model_name": "LayoutModel",
      "state": {
       "_model_module": "@jupyter-widgets/base",
       "_model_module_version": "2.0.0",
       "_model_name": "LayoutModel",
       "_view_count": null,
       "_view_module": "@jupyter-widgets/base",
       "_view_module_version": "2.0.0",
       "_view_name": "LayoutView",
       "align_content": null,
       "align_items": null,
       "align_self": null,
       "border_bottom": null,
       "border_left": null,
       "border_right": null,
       "border_top": null,
       "bottom": null,
       "display": null,
       "flex": null,
       "flex_flow": null,
       "grid_area": null,
       "grid_auto_columns": null,
       "grid_auto_flow": null,
       "grid_auto_rows": null,
       "grid_column": null,
       "grid_gap": null,
       "grid_row": null,
       "grid_template_areas": null,
       "grid_template_columns": null,
       "grid_template_rows": null,
       "height": null,
       "justify_content": null,
       "justify_items": null,
       "left": null,
       "margin": null,
       "max_height": null,
       "max_width": null,
       "min_height": null,
       "min_width": null,
       "object_fit": null,
       "object_position": null,
       "order": null,
       "overflow": null,
       "padding": null,
       "right": null,
       "top": null,
       "visibility": null,
       "width": null
      }
     },
     "8b543a48a1b942ab81fcb9559db2e7bf": {
      "model_module": "@jupyter-widgets/base",
      "model_module_version": "2.0.0",
      "model_name": "LayoutModel",
      "state": {
       "_model_module": "@jupyter-widgets/base",
       "_model_module_version": "2.0.0",
       "_model_name": "LayoutModel",
       "_view_count": null,
       "_view_module": "@jupyter-widgets/base",
       "_view_module_version": "2.0.0",
       "_view_name": "LayoutView",
       "align_content": null,
       "align_items": null,
       "align_self": null,
       "border_bottom": null,
       "border_left": null,
       "border_right": null,
       "border_top": null,
       "bottom": null,
       "display": null,
       "flex": null,
       "flex_flow": null,
       "grid_area": null,
       "grid_auto_columns": null,
       "grid_auto_flow": null,
       "grid_auto_rows": null,
       "grid_column": null,
       "grid_gap": null,
       "grid_row": null,
       "grid_template_areas": null,
       "grid_template_columns": null,
       "grid_template_rows": null,
       "height": null,
       "justify_content": null,
       "justify_items": null,
       "left": null,
       "margin": null,
       "max_height": null,
       "max_width": null,
       "min_height": null,
       "min_width": null,
       "object_fit": null,
       "object_position": null,
       "order": null,
       "overflow": null,
       "padding": null,
       "right": null,
       "top": null,
       "visibility": null,
       "width": null
      }
     },
     "98c3e4653d554d6ca6cb392f228a70e2": {
      "model_module": "@jupyter-widgets/base",
      "model_module_version": "2.0.0",
      "model_name": "LayoutModel",
      "state": {
       "_model_module": "@jupyter-widgets/base",
       "_model_module_version": "2.0.0",
       "_model_name": "LayoutModel",
       "_view_count": null,
       "_view_module": "@jupyter-widgets/base",
       "_view_module_version": "2.0.0",
       "_view_name": "LayoutView",
       "align_content": null,
       "align_items": null,
       "align_self": null,
       "border_bottom": null,
       "border_left": null,
       "border_right": null,
       "border_top": null,
       "bottom": null,
       "display": null,
       "flex": null,
       "flex_flow": null,
       "grid_area": null,
       "grid_auto_columns": null,
       "grid_auto_flow": null,
       "grid_auto_rows": null,
       "grid_column": null,
       "grid_gap": null,
       "grid_row": null,
       "grid_template_areas": null,
       "grid_template_columns": null,
       "grid_template_rows": null,
       "height": null,
       "justify_content": null,
       "justify_items": null,
       "left": null,
       "margin": null,
       "max_height": null,
       "max_width": null,
       "min_height": null,
       "min_width": null,
       "object_fit": null,
       "object_position": null,
       "order": null,
       "overflow": null,
       "padding": null,
       "right": null,
       "top": null,
       "visibility": null,
       "width": null
      }
     },
     "9d5029100270451b9dd156def42a7985": {
      "model_module": "@jupyter-widgets/controls",
      "model_module_version": "2.0.0",
      "model_name": "HBoxModel",
      "state": {
       "_dom_classes": [],
       "_model_module": "@jupyter-widgets/controls",
       "_model_module_version": "2.0.0",
       "_model_name": "HBoxModel",
       "_view_count": null,
       "_view_module": "@jupyter-widgets/controls",
       "_view_module_version": "2.0.0",
       "_view_name": "HBoxView",
       "box_style": "",
       "children": [
        "IPY_MODEL_9e62598b9b364c86add1e560eaa478d9",
        "IPY_MODEL_55acf5a62ffe4337bec6359fcf42612c",
        "IPY_MODEL_311bd41eefbc477d90e686337e202d8d"
       ],
       "layout": "IPY_MODEL_7c69d5c062884d90a01ebb36cbfbf655",
       "tabbable": null,
       "tooltip": null
      }
     },
     "9e62598b9b364c86add1e560eaa478d9": {
      "model_module": "@jupyter-widgets/controls",
      "model_module_version": "2.0.0",
      "model_name": "HTMLModel",
      "state": {
       "_dom_classes": [],
       "_model_module": "@jupyter-widgets/controls",
       "_model_module_version": "2.0.0",
       "_model_name": "HTMLModel",
       "_view_count": null,
       "_view_module": "@jupyter-widgets/controls",
       "_view_module_version": "2.0.0",
       "_view_name": "HTMLView",
       "description": "",
       "description_allow_html": false,
       "layout": "IPY_MODEL_8b543a48a1b942ab81fcb9559db2e7bf",
       "placeholder": "​",
       "style": "IPY_MODEL_cbda9aebd8814a67962f015844e7b703",
       "tabbable": null,
       "tooltip": null,
       "value": "100%"
      }
     },
     "bbd2940dee614cd1a28232fce61fbd3e": {
      "model_module": "@jupyter-widgets/base",
      "model_module_version": "2.0.0",
      "model_name": "LayoutModel",
      "state": {
       "_model_module": "@jupyter-widgets/base",
       "_model_module_version": "2.0.0",
       "_model_name": "LayoutModel",
       "_view_count": null,
       "_view_module": "@jupyter-widgets/base",
       "_view_module_version": "2.0.0",
       "_view_name": "LayoutView",
       "align_content": null,
       "align_items": null,
       "align_self": null,
       "border_bottom": null,
       "border_left": null,
       "border_right": null,
       "border_top": null,
       "bottom": null,
       "display": null,
       "flex": null,
       "flex_flow": null,
       "grid_area": null,
       "grid_auto_columns": null,
       "grid_auto_flow": null,
       "grid_auto_rows": null,
       "grid_column": null,
       "grid_gap": null,
       "grid_row": null,
       "grid_template_areas": null,
       "grid_template_columns": null,
       "grid_template_rows": null,
       "height": null,
       "justify_content": null,
       "justify_items": null,
       "left": null,
       "margin": null,
       "max_height": null,
       "max_width": null,
       "min_height": null,
       "min_width": null,
       "object_fit": null,
       "object_position": null,
       "order": null,
       "overflow": null,
       "padding": null,
       "right": null,
       "top": null,
       "visibility": null,
       "width": null
      }
     },
     "cbda9aebd8814a67962f015844e7b703": {
      "model_module": "@jupyter-widgets/controls",
      "model_module_version": "2.0.0",
      "model_name": "HTMLStyleModel",
      "state": {
       "_model_module": "@jupyter-widgets/controls",
       "_model_module_version": "2.0.0",
       "_model_name": "HTMLStyleModel",
       "_view_count": null,
       "_view_module": "@jupyter-widgets/base",
       "_view_module_version": "2.0.0",
       "_view_name": "StyleView",
       "background": null,
       "description_width": "",
       "font_size": null,
       "text_color": null
      }
     }
    },
    "version_major": 2,
    "version_minor": 0
   }
  }
 },
 "nbformat": 4,
 "nbformat_minor": 5
}