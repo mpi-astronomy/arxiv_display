{
 "cells": [
  {
   "cell_type": "markdown",
   "id": "92bcb855",
   "metadata": {
    "papermill": {
     "duration": 0.004992,
     "end_time": "2023-02-14T04:07:50.698384",
     "exception": false,
     "start_time": "2023-02-14T04:07:50.693392",
     "status": "completed"
    },
    "tags": []
   },
   "source": [
    "# MPIA Arxiv on Deck 2\n",
    "\n",
    "Contains the steps to produce the paper extractions."
   ]
  },
  {
   "cell_type": "code",
   "execution_count": 1,
   "id": "3a0d6e11",
   "metadata": {
    "execution": {
     "iopub.execute_input": "2023-02-14T04:07:50.708256Z",
     "iopub.status.busy": "2023-02-14T04:07:50.707705Z",
     "iopub.status.idle": "2023-02-14T04:07:50.895157Z",
     "shell.execute_reply": "2023-02-14T04:07:50.894483Z"
    },
    "papermill": {
     "duration": 0.194333,
     "end_time": "2023-02-14T04:07:50.896968",
     "exception": false,
     "start_time": "2023-02-14T04:07:50.702635",
     "status": "completed"
    },
    "tags": []
   },
   "outputs": [],
   "source": [
    "# Imports\n",
    "import os\n",
    "from IPython.display import Markdown, display\n",
    "from tqdm.notebook import tqdm\n",
    "import warnings\n",
    "from PIL import Image \n",
    "\n",
    "# requires arxiv_on_deck_2\n",
    "\n",
    "from arxiv_on_deck_2.arxiv2 import (get_new_papers, \n",
    "                                    get_paper_from_identifier,\n",
    "                                    retrieve_document_source, \n",
    "                                    get_markdown_badge)\n",
    "from arxiv_on_deck_2 import (latex, \n",
    "                             mpia,\n",
    "                             highlight_authors_in_list)\n",
    "\n",
    "# Sometimes images are really big\n",
    "Image.MAX_IMAGE_PIXELS = 1000000000 "
   ]
  },
  {
   "cell_type": "code",
   "execution_count": 2,
   "id": "22aa9d44",
   "metadata": {
    "execution": {
     "iopub.execute_input": "2023-02-14T04:07:50.906559Z",
     "iopub.status.busy": "2023-02-14T04:07:50.906093Z",
     "iopub.status.idle": "2023-02-14T04:07:50.911042Z",
     "shell.execute_reply": "2023-02-14T04:07:50.910412Z"
    },
    "papermill": {
     "duration": 0.011466,
     "end_time": "2023-02-14T04:07:50.912645",
     "exception": false,
     "start_time": "2023-02-14T04:07:50.901179",
     "status": "completed"
    },
    "tags": []
   },
   "outputs": [],
   "source": [
    "# Some useful definitions.\n",
    "\n",
    "class AffiliationWarning(UserWarning):\n",
    "    pass\n",
    "\n",
    "class AffiliationError(RuntimeError):\n",
    "    pass\n",
    "\n",
    "def validation(source: str):\n",
    "    \"\"\"Raises error paper during parsing of source file\n",
    "    \n",
    "    Allows checks before parsing TeX code.\n",
    "    \n",
    "    Raises AffiliationWarning\n",
    "    \"\"\"\n",
    "    check = mpia.affiliation_verifications(source, verbose=True)\n",
    "    if check is not True:\n",
    "        raise AffiliationError(\"mpia.affiliation_verifications: \" + check)\n",
    "\n",
    "        \n",
    "warnings.simplefilter('always', AffiliationWarning)"
   ]
  },
  {
   "cell_type": "code",
   "execution_count": 3,
   "id": "14622700",
   "metadata": {
    "execution": {
     "iopub.execute_input": "2023-02-14T04:07:50.922361Z",
     "iopub.status.busy": "2023-02-14T04:07:50.921912Z",
     "iopub.status.idle": "2023-02-14T04:07:50.925605Z",
     "shell.execute_reply": "2023-02-14T04:07:50.924996Z"
    },
    "papermill": {
     "duration": 0.01025,
     "end_time": "2023-02-14T04:07:50.927286",
     "exception": false,
     "start_time": "2023-02-14T04:07:50.917036",
     "status": "completed"
    },
    "tags": []
   },
   "outputs": [],
   "source": [
    "# additional CSS to consider. \n",
    "# TODO: Current into each exported file. \n",
    "#       This should be set once into the webpages directly.\n",
    "#       With only the class/id definitions in the .md files.\n",
    "\n",
    "debug_html = \"\"\"\n",
    "<style>\n",
    "#wrap{ overflow:auto; }\n",
    "#fig1{ background:yellow; width:100%; float:left; padding:5px;  }\n",
    "#fig2{ background:red; width:50%; float:left; clear:left; padding:5px;  }\n",
    "#fig3{ background:green; width:50%; float:left; padding:5px;   }\n",
    ".macros{ background:yellow; visibility:visible;}\n",
    "h1 {margin: 0 0 0 0;}\n",
    "mark {background-color:#fff3b6;}\n",
    "img {object-fit:contain; max-height:250px; display:inline-block; text-align: center;}\n",
    "</style>\n",
    "\"\"\" \n",
    "html = \"\"\"\n",
    "<style>\n",
    "#wrap{ overflow:auto; }\n",
    "#fig1{ width:100%; float:left; padding: 5px;  }\n",
    "#fig2{ width:50%; float:left; clear:left; padding: 5px;  }\n",
    "#fig3{ width:50%; float:left; padding: 5px;  }\n",
    ".macros{ visibility:hidden; height:0px; }\n",
    "h1 {margin: 0em 0 0 0;}\n",
    "mark {background-color:#fff3b6;}\n",
    "img {object-fit:contain; max-height:250px; display:inline-block; text-align: center;}\n",
    "</style>\n",
    "\"\"\""
   ]
  },
  {
   "cell_type": "markdown",
   "id": "14bd6310",
   "metadata": {
    "papermill": {
     "duration": 0.004007,
     "end_time": "2023-02-14T04:07:50.935256",
     "exception": false,
     "start_time": "2023-02-14T04:07:50.931249",
     "status": "completed"
    },
    "tags": []
   },
   "source": [
    "## get list of arxiv paper candidates\n",
    "\n",
    "We use the MPIA mitarbeiter list webpage from mpia.de to get author names\n",
    "We then get all new papers from Arxiv and match authors"
   ]
  },
  {
   "cell_type": "code",
   "execution_count": 4,
   "id": "2645e73a",
   "metadata": {
    "execution": {
     "iopub.execute_input": "2023-02-14T04:07:50.944738Z",
     "iopub.status.busy": "2023-02-14T04:07:50.944129Z",
     "iopub.status.idle": "2023-02-14T04:08:16.086981Z",
     "shell.execute_reply": "2023-02-14T04:08:16.085352Z"
    },
    "papermill": {
     "duration": 25.150745,
     "end_time": "2023-02-14T04:08:16.090146",
     "exception": false,
     "start_time": "2023-02-14T04:07:50.939401",
     "status": "completed"
    },
    "tags": []
   },
   "outputs": [
    {
     "name": "stdout",
     "output_type": "stream",
     "text": [
      "Arxiv has 64 new papers today\n",
      "          29 with possible author matches\n"
     ]
    }
   ],
   "source": [
    "# get list from MPIA website\n",
    "# it automatically filters identified non-scientists :func:`mpia.filter_non_scientists`\n",
    "mpia_authors = mpia.get_mpia_mitarbeiter_list()\n",
    "new_papers = get_new_papers()\n",
    "# add manual references\n",
    "add_paper_refs = []\n",
    "new_papers.extend([get_paper_from_identifier(k) for k in add_paper_refs])\n",
    "\n",
    "# select only papers with matching author names and highlight authors\n",
    "hl_list = [k[0] for k in mpia_authors]\n",
    "\n",
    "candidates = []\n",
    "for paperk in new_papers:\n",
    "    hl_authors = highlight_authors_in_list(paperk['authors'], hl_list)\n",
    "    matches = [(hl, orig) for hl, orig in zip(hl_authors, paperk['authors']) if 'mark' in hl]\n",
    "    paperk['authors'] = hl_authors\n",
    "    if matches:\n",
    "        candidates.append(paperk)\n",
    "print(\"\"\"Arxiv has {0:,d} new papers today\"\"\".format(len(new_papers)))        \n",
    "print(\"\"\"          {0:,d} with possible author matches\"\"\".format(len(candidates)))"
   ]
  },
  {
   "cell_type": "markdown",
   "id": "3543b34a",
   "metadata": {
    "papermill": {
     "duration": 0.007741,
     "end_time": "2023-02-14T04:08:16.105858",
     "exception": false,
     "start_time": "2023-02-14T04:08:16.098117",
     "status": "completed"
    },
    "tags": []
   },
   "source": [
    "# Parse sources and generate relevant outputs\n",
    "\n",
    "From the candidates, we do the following steps:\n",
    "* get their tarball from ArXiv (and extract data)\n",
    "* find the main .tex file: find one with \\documentclass{...} (sometimes it's non trivial)\n",
    "* Check affiliations with :func:`validation`, which uses :func:`mpia.affiliation_verifications`\n",
    "* If passing the affiliations: we parse the .tex source\n",
    "   * inject sub-documents into the main (flatten the main document)\n",
    "   * parse structure, extract information (title, abstract, authors, figures...)\n",
    "   * handles `\\graphicspath` if provided\n",
    "* Generate the .md document."
   ]
  },
  {
   "cell_type": "code",
   "execution_count": 5,
   "id": "9576b79e",
   "metadata": {
    "execution": {
     "iopub.execute_input": "2023-02-14T04:08:16.130136Z",
     "iopub.status.busy": "2023-02-14T04:08:16.129244Z",
     "iopub.status.idle": "2023-02-14T04:11:50.724486Z",
     "shell.execute_reply": "2023-02-14T04:11:50.723720Z"
    },
    "papermill": {
     "duration": 214.61065,
     "end_time": "2023-02-14T04:11:50.726108",
     "exception": false,
     "start_time": "2023-02-14T04:08:16.115458",
     "status": "completed"
    },
    "scrolled": false,
    "tags": []
   },
   "outputs": [
    {
     "data": {
      "application/vnd.jupyter.widget-view+json": {
       "model_id": "890c12b3f8bb464e9d87e8f74608a370",
       "version_major": 2,
       "version_minor": 0
      },
      "text/plain": [
       "  0%|          | 0/28 [00:00<?, ?it/s]"
      ]
     },
     "metadata": {},
     "output_type": "display_data"
    },
    {
     "name": "stdout",
     "output_type": "stream",
     "text": [
      "Retrieving document from  https://arxiv.org/e-print/2302.05464\n"
     ]
    },
    {
     "name": "stdout",
     "output_type": "stream",
     "text": [
      "extracting tarball to tmp_2302.05464..."
     ]
    },
    {
     "name": "stdout",
     "output_type": "stream",
     "text": [
      " done.\n",
      "Retrieving document from  https://arxiv.org/e-print/2302.05465\n"
     ]
    },
    {
     "name": "stdout",
     "output_type": "stream",
     "text": [
      "extracting tarball to tmp_2302.05465..."
     ]
    },
    {
     "name": "stdout",
     "output_type": "stream",
     "text": [
      " done.\n"
     ]
    },
    {
     "name": "stderr",
     "output_type": "stream",
     "text": [
      "/opt/hostedtoolcache/Python/3.9.16/x64/lib/python3.9/site-packages/IPython/core/interactiveshell.py:3460: LatexWarning: Multiple tex files.\n",
      "\n",
      "  exec(code_obj, self.user_global_ns, self.user_ns)\n",
      "/opt/hostedtoolcache/Python/3.9.16/x64/lib/python3.9/site-packages/IPython/core/interactiveshell.py:3460: LatexWarning: Found documentclass in tmp_2302.05465/main.tex\n",
      "\n",
      "  exec(code_obj, self.user_global_ns, self.user_ns)\n",
      "/opt/hostedtoolcache/Python/3.9.16/x64/lib/python3.9/site-packages/arxiv_on_deck_2/latex.py:292: LatexWarning: Latex injecting: 'tables/priors_full.tex' from 'tmp_2302.05465/tables/priors_full.tex'\n",
      "  warnings.warn(LatexWarning(f\"Latex injecting: '{ext}' from '{subsource}'\"))\n",
      "/opt/hostedtoolcache/Python/3.9.16/x64/lib/python3.9/site-packages/arxiv_on_deck_2/latex.py:292: LatexWarning: Latex injecting: 'tables/imaging.tex' from 'tmp_2302.05465/tables/imaging.tex'\n",
      "  warnings.warn(LatexWarning(f\"Latex injecting: '{ext}' from '{subsource}'\"))\n",
      "/opt/hostedtoolcache/Python/3.9.16/x64/lib/python3.9/site-packages/arxiv_on_deck_2/latex.py:292: LatexWarning: Latex injecting: 'tables/pop_stats.tex' from 'tmp_2302.05465/tables/pop_stats.tex'\n",
      "  warnings.warn(LatexWarning(f\"Latex injecting: '{ext}' from '{subsource}'\"))\n",
      "/opt/hostedtoolcache/Python/3.9.16/x64/lib/python3.9/site-packages/arxiv_on_deck_2/latex.py:292: LatexWarning: Latex injecting: 'tables/SPP_Results.tex' from 'tmp_2302.05465/tables/SPP_Results.tex'\n",
      "  warnings.warn(LatexWarning(f\"Latex injecting: '{ext}' from '{subsource}'\"))\n",
      "/opt/hostedtoolcache/Python/3.9.16/x64/lib/python3.9/site-packages/arxiv_on_deck_2/latex.py:292: LatexWarning: Latex injecting: 'tables/spectra.tex' from 'tmp_2302.05465/tables/spectra.tex'\n",
      "  warnings.warn(LatexWarning(f\"Latex injecting: '{ext}' from '{subsource}'\"))\n",
      "/opt/hostedtoolcache/Python/3.9.16/x64/lib/python3.9/site-packages/arxiv_on_deck_2/latex.py:292: LatexWarning: Latex injecting: 'tables/frb_properties.tex' from 'tmp_2302.05465/tables/frb_properties.tex'\n",
      "  warnings.warn(LatexWarning(f\"Latex injecting: '{ext}' from '{subsource}'\"))\n",
      "/opt/hostedtoolcache/Python/3.9.16/x64/lib/python3.9/site-packages/arxiv_on_deck_2/latex.py:292: LatexWarning: Latex injecting: 'authors.tex' from 'tmp_2302.05465/authors.tex'\n",
      "  warnings.warn(LatexWarning(f\"Latex injecting: '{ext}' from '{subsource}'\"))\n",
      "/opt/hostedtoolcache/Python/3.9.16/x64/lib/python3.9/site-packages/arxiv_on_deck_2/latex.py:292: LatexWarning: Latex injecting: 'affiliation.tex' from 'tmp_2302.05465/affiliation.tex'\n",
      "  warnings.warn(LatexWarning(f\"Latex injecting: '{ext}' from '{subsource}'\"))\n"
     ]
    },
    {
     "name": "stdout",
     "output_type": "stream",
     "text": [
      "Retrieving document from  https://arxiv.org/e-print/2302.05466\n"
     ]
    },
    {
     "name": "stdout",
     "output_type": "stream",
     "text": [
      "extracting tarball to tmp_2302.05466..."
     ]
    },
    {
     "name": "stdout",
     "output_type": "stream",
     "text": [
      " done.\n",
      "Retrieving document from  https://arxiv.org/e-print/2302.05468\n"
     ]
    },
    {
     "name": "stderr",
     "output_type": "stream",
     "text": [
      "/opt/hostedtoolcache/Python/3.9.16/x64/lib/python3.9/site-packages/IPython/core/interactiveshell.py:3460: LatexWarning: Multiple tex files.\n",
      "\n",
      "  exec(code_obj, self.user_global_ns, self.user_ns)\n",
      "/opt/hostedtoolcache/Python/3.9.16/x64/lib/python3.9/site-packages/IPython/core/interactiveshell.py:3460: LatexWarning: Found documentclass in tmp_2302.05466/main.tex\n",
      "\n",
      "  exec(code_obj, self.user_global_ns, self.user_ns)\n"
     ]
    },
    {
     "name": "stderr",
     "output_type": "stream",
     "text": [
      "/tmp/ipykernel_1998/4030337529.py:34: LatexWarning: 2302.05468 did not run properly\n",
      "not a gzip file\n",
      "  warnings.warn(latex.LatexWarning(f\"{paper_id:s} did not run properly\\n\" +\n"
     ]
    },
    {
     "name": "stdout",
     "output_type": "stream",
     "text": [
      "Retrieving document from  https://arxiv.org/e-print/2302.05479\n"
     ]
    },
    {
     "name": "stdout",
     "output_type": "stream",
     "text": [
      "extracting tarball to tmp_2302.05479..."
     ]
    },
    {
     "name": "stdout",
     "output_type": "stream",
     "text": [
      " done.\n",
      "Retrieving document from  https://arxiv.org/e-print/2302.05523\n"
     ]
    },
    {
     "name": "stderr",
     "output_type": "stream",
     "text": [
      "/opt/hostedtoolcache/Python/3.9.16/x64/lib/python3.9/site-packages/IPython/core/interactiveshell.py:3460: LatexWarning: Multiple tex files.\n",
      "\n",
      "  exec(code_obj, self.user_global_ns, self.user_ns)\n",
      "/opt/hostedtoolcache/Python/3.9.16/x64/lib/python3.9/site-packages/IPython/core/interactiveshell.py:3460: LatexWarning: Found documentclass in tmp_2302.05479/mnras_template.tex\n",
      "\n",
      "  exec(code_obj, self.user_global_ns, self.user_ns)\n"
     ]
    },
    {
     "name": "stdout",
     "output_type": "stream",
     "text": [
      "extracting tarball to tmp_2302.05523..."
     ]
    },
    {
     "name": "stdout",
     "output_type": "stream",
     "text": [
      " done.\n",
      "Retrieving document from  https://arxiv.org/e-print/2302.05595\n"
     ]
    },
    {
     "name": "stderr",
     "output_type": "stream",
     "text": [
      "/opt/hostedtoolcache/Python/3.9.16/x64/lib/python3.9/site-packages/IPython/core/interactiveshell.py:3460: LatexWarning: Multiple tex files.\n",
      "\n",
      "  exec(code_obj, self.user_global_ns, self.user_ns)\n",
      "/opt/hostedtoolcache/Python/3.9.16/x64/lib/python3.9/site-packages/IPython/core/interactiveshell.py:3460: LatexWarning: Found documentclass in tmp_2302.05523/ConvRFI.tex\n",
      "\n",
      "  exec(code_obj, self.user_global_ns, self.user_ns)\n",
      "/opt/hostedtoolcache/Python/3.9.16/x64/lib/python3.9/site-packages/arxiv_on_deck_2/latex.py:292: LatexWarning: Latex injecting: 'tzfigmat' from 'tmp_2302.05523/tzfigmat.tex'\n",
      "  warnings.warn(LatexWarning(f\"Latex injecting: '{ext}' from '{subsource}'\"))\n"
     ]
    },
    {
     "name": "stdout",
     "output_type": "stream",
     "text": [
      "extracting tarball to tmp_2302.05595..."
     ]
    },
    {
     "name": "stdout",
     "output_type": "stream",
     "text": [
      " done.\n",
      "Retrieving document from  https://arxiv.org/e-print/2302.05613\n"
     ]
    },
    {
     "name": "stdout",
     "output_type": "stream",
     "text": [
      "extracting tarball to tmp_2302.05613... done.\n"
     ]
    },
    {
     "name": "stderr",
     "output_type": "stream",
     "text": [
      "/tmp/ipykernel_1998/4030337529.py:34: LatexWarning: 2302.05613 did not run properly\n",
      "[Errno 2] No such file or directory: 'gs'\n",
      "  warnings.warn(latex.LatexWarning(f\"{paper_id:s} did not run properly\\n\" +\n"
     ]
    },
    {
     "name": "stdout",
     "output_type": "stream",
     "text": [
      "Retrieving document from  https://arxiv.org/e-print/2302.05659\n"
     ]
    },
    {
     "name": "stdout",
     "output_type": "stream",
     "text": [
      "extracting tarball to tmp_2302.05659..."
     ]
    },
    {
     "name": "stdout",
     "output_type": "stream",
     "text": [
      " done.\n",
      "Retrieving document from  https://arxiv.org/e-print/2302.05694\n"
     ]
    },
    {
     "name": "stdout",
     "output_type": "stream",
     "text": [
      "extracting tarball to tmp_2302.05694..."
     ]
    },
    {
     "name": "stdout",
     "output_type": "stream",
     "text": [
      " done.\n"
     ]
    },
    {
     "name": "stdout",
     "output_type": "stream",
     "text": [
      "Retrieving document from  https://arxiv.org/e-print/2302.05718\n"
     ]
    },
    {
     "name": "stdout",
     "output_type": "stream",
     "text": [
      "extracting tarball to tmp_2302.05718..."
     ]
    },
    {
     "name": "stdout",
     "output_type": "stream",
     "text": [
      " done.\n",
      "Retrieving document from  https://arxiv.org/e-print/2302.05774\n"
     ]
    },
    {
     "name": "stdout",
     "output_type": "stream",
     "text": [
      "extracting tarball to tmp_2302.05774..."
     ]
    },
    {
     "name": "stdout",
     "output_type": "stream",
     "text": [
      " done.\n",
      "Retrieving document from  https://arxiv.org/e-print/2302.05887\n"
     ]
    },
    {
     "name": "stdout",
     "output_type": "stream",
     "text": [
      "extracting tarball to tmp_2302.05887..."
     ]
    },
    {
     "name": "stdout",
     "output_type": "stream",
     "text": [
      " done.\n",
      "Retrieving document from  https://arxiv.org/e-print/2302.05896\n"
     ]
    },
    {
     "name": "stderr",
     "output_type": "stream",
     "text": [
      "/opt/hostedtoolcache/Python/3.9.16/x64/lib/python3.9/site-packages/IPython/core/interactiveshell.py:3460: LatexWarning: Multiple tex files.\n",
      "\n",
      "  exec(code_obj, self.user_global_ns, self.user_ns)\n",
      "/opt/hostedtoolcache/Python/3.9.16/x64/lib/python3.9/site-packages/IPython/core/interactiveshell.py:3460: LatexWarning: Found documentclass in tmp_2302.05887/mnras_template.tex\n",
      "\n",
      "  exec(code_obj, self.user_global_ns, self.user_ns)\n"
     ]
    },
    {
     "name": "stdout",
     "output_type": "stream",
     "text": [
      "extracting tarball to tmp_2302.05896..."
     ]
    },
    {
     "name": "stdout",
     "output_type": "stream",
     "text": [
      " done.\n",
      "Retrieving document from  https://arxiv.org/e-print/2302.05920\n"
     ]
    },
    {
     "name": "stderr",
     "output_type": "stream",
     "text": [
      "/opt/hostedtoolcache/Python/3.9.16/x64/lib/python3.9/site-packages/IPython/core/interactiveshell.py:3460: LatexWarning: Multiple tex files.\n",
      "\n",
      "  exec(code_obj, self.user_global_ns, self.user_ns)\n",
      "/opt/hostedtoolcache/Python/3.9.16/x64/lib/python3.9/site-packages/IPython/core/interactiveshell.py:3460: LatexWarning: Found documentclass in tmp_2302.05896/poon.tex\n",
      "\n",
      "  exec(code_obj, self.user_global_ns, self.user_ns)\n"
     ]
    },
    {
     "name": "stderr",
     "output_type": "stream",
     "text": [
      "/tmp/ipykernel_1998/4030337529.py:34: LatexWarning: 2302.05920 did not run properly\n",
      "not a gzip file\n",
      "  warnings.warn(latex.LatexWarning(f\"{paper_id:s} did not run properly\\n\" +\n"
     ]
    },
    {
     "name": "stdout",
     "output_type": "stream",
     "text": [
      "Retrieving document from  https://arxiv.org/e-print/2302.05924\n"
     ]
    },
    {
     "name": "stderr",
     "output_type": "stream",
     "text": [
      "/tmp/ipykernel_1998/4030337529.py:34: LatexWarning: 2302.05924 did not run properly\n",
      "not a gzip file\n",
      "  warnings.warn(latex.LatexWarning(f\"{paper_id:s} did not run properly\\n\" +\n"
     ]
    },
    {
     "name": "stdout",
     "output_type": "stream",
     "text": [
      "Retrieving document from  https://arxiv.org/e-print/2302.06116\n"
     ]
    },
    {
     "name": "stdout",
     "output_type": "stream",
     "text": [
      "extracting tarball to tmp_2302.06116... done.\n",
      "Retrieving document from  https://arxiv.org/e-print/2302.06214\n"
     ]
    },
    {
     "name": "stdout",
     "output_type": "stream",
     "text": [
      "extracting tarball to tmp_2302.06214..."
     ]
    },
    {
     "name": "stdout",
     "output_type": "stream",
     "text": [
      " done.\n",
      "Retrieving document from  https://arxiv.org/e-print/2302.06225\n"
     ]
    },
    {
     "name": "stdout",
     "output_type": "stream",
     "text": [
      "extracting tarball to tmp_2302.06225..."
     ]
    },
    {
     "name": "stdout",
     "output_type": "stream",
     "text": [
      " done.\n",
      "Retrieving document from  https://arxiv.org/e-print/2302.06306\n"
     ]
    },
    {
     "name": "stderr",
     "output_type": "stream",
     "text": [
      "/opt/hostedtoolcache/Python/3.9.16/x64/lib/python3.9/site-packages/IPython/core/interactiveshell.py:3460: LatexWarning: Multiple tex files.\n",
      "\n",
      "  exec(code_obj, self.user_global_ns, self.user_ns)\n",
      "/opt/hostedtoolcache/Python/3.9.16/x64/lib/python3.9/site-packages/IPython/core/interactiveshell.py:3460: LatexWarning: Found documentclass in tmp_2302.06225/main.tex\n",
      "\n",
      "  exec(code_obj, self.user_global_ns, self.user_ns)\n",
      "/opt/hostedtoolcache/Python/3.9.16/x64/lib/python3.9/site-packages/arxiv_on_deck_2/latex.py:292: LatexWarning: Latex injecting: 'datatab2.tex' from 'tmp_2302.06225/datatab2.tex'\n",
      "  warnings.warn(LatexWarning(f\"Latex injecting: '{ext}' from '{subsource}'\"))\n",
      "/opt/hostedtoolcache/Python/3.9.16/x64/lib/python3.9/site-packages/arxiv_on_deck_2/latex.py:292: LatexWarning: Latex injecting: 'datatab1.tex' from 'tmp_2302.06225/datatab1.tex'\n",
      "  warnings.warn(LatexWarning(f\"Latex injecting: '{ext}' from '{subsource}'\"))\n"
     ]
    },
    {
     "name": "stdout",
     "output_type": "stream",
     "text": [
      "extracting tarball to tmp_2302.06306..."
     ]
    },
    {
     "name": "stdout",
     "output_type": "stream",
     "text": [
      " done.\n",
      "Retrieving document from  https://arxiv.org/e-print/2302.06393\n"
     ]
    },
    {
     "name": "stderr",
     "output_type": "stream",
     "text": [
      "/opt/hostedtoolcache/Python/3.9.16/x64/lib/python3.9/site-packages/IPython/core/interactiveshell.py:3460: LatexWarning: Multiple tex files.\n",
      "\n",
      "  exec(code_obj, self.user_global_ns, self.user_ns)\n",
      "/opt/hostedtoolcache/Python/3.9.16/x64/lib/python3.9/site-packages/IPython/core/interactiveshell.py:3460: LatexWarning: Found documentclass in tmp_2302.06306/main.tex\n",
      "\n",
      "  exec(code_obj, self.user_global_ns, self.user_ns)\n"
     ]
    },
    {
     "name": "stdout",
     "output_type": "stream",
     "text": [
      "extracting tarball to tmp_2302.06393..."
     ]
    },
    {
     "name": "stdout",
     "output_type": "stream",
     "text": [
      " done.\n",
      "Retrieving document from  https://arxiv.org/e-print/2302.06489\n"
     ]
    },
    {
     "name": "stdout",
     "output_type": "stream",
     "text": [
      "extracting tarball to tmp_2302.06489..."
     ]
    },
    {
     "name": "stdout",
     "output_type": "stream",
     "text": [
      " done.\n",
      "Retrieving document from  https://arxiv.org/e-print/2302.06493\n"
     ]
    },
    {
     "name": "stdout",
     "output_type": "stream",
     "text": [
      "extracting tarball to tmp_2302.06493..."
     ]
    },
    {
     "name": "stdout",
     "output_type": "stream",
     "text": [
      " done.\n",
      "Retrieving document from  https://arxiv.org/e-print/2302.06496\n"
     ]
    },
    {
     "name": "stdout",
     "output_type": "stream",
     "text": [
      "extracting tarball to tmp_2302.06496..."
     ]
    },
    {
     "name": "stdout",
     "output_type": "stream",
     "text": [
      " done.\n",
      "Retrieving document from  https://arxiv.org/e-print/2302.06500\n"
     ]
    },
    {
     "name": "stdout",
     "output_type": "stream",
     "text": [
      "extracting tarball to tmp_2302.06500... done.\n",
      "Retrieving document from  https://arxiv.org/e-print/2302.06508\n"
     ]
    },
    {
     "name": "stderr",
     "output_type": "stream",
     "text": [
      "/opt/hostedtoolcache/Python/3.9.16/x64/lib/python3.9/site-packages/IPython/core/interactiveshell.py:3460: LatexWarning: Multiple tex files.\n",
      "\n",
      "  exec(code_obj, self.user_global_ns, self.user_ns)\n",
      "/opt/hostedtoolcache/Python/3.9.16/x64/lib/python3.9/site-packages/IPython/core/interactiveshell.py:3460: LatexWarning: Found documentclass in tmp_2302.06500/main.tex\n",
      "\n",
      "  exec(code_obj, self.user_global_ns, self.user_ns)\n"
     ]
    },
    {
     "name": "stdout",
     "output_type": "stream",
     "text": [
      "extracting tarball to tmp_2302.06508..."
     ]
    },
    {
     "name": "stdout",
     "output_type": "stream",
     "text": [
      " done.\n",
      "Retrieving document from  https://arxiv.org/e-print/2302.06524\n"
     ]
    },
    {
     "name": "stdout",
     "output_type": "stream",
     "text": [
      "extracting tarball to tmp_2302.06524..."
     ]
    },
    {
     "name": "stdout",
     "output_type": "stream",
     "text": [
      " done.\n",
      "Retrieving document from  https://arxiv.org/e-print/2302.06530\n"
     ]
    },
    {
     "name": "stderr",
     "output_type": "stream",
     "text": [
      "/opt/hostedtoolcache/Python/3.9.16/x64/lib/python3.9/site-packages/IPython/core/interactiveshell.py:3460: LatexWarning: Multiple tex files.\n",
      "\n",
      "  exec(code_obj, self.user_global_ns, self.user_ns)\n",
      "/opt/hostedtoolcache/Python/3.9.16/x64/lib/python3.9/site-packages/IPython/core/interactiveshell.py:3460: LatexWarning: Found documentclass in tmp_2302.06524/template.tex\n",
      "\n",
      "  exec(code_obj, self.user_global_ns, self.user_ns)\n"
     ]
    },
    {
     "name": "stdout",
     "output_type": "stream",
     "text": [
      "extracting tarball to tmp_2302.06530..."
     ]
    },
    {
     "name": "stdout",
     "output_type": "stream",
     "text": [
      " done.\n"
     ]
    }
   ],
   "source": [
    "documents = []\n",
    "failed = []\n",
    "for paper in tqdm(candidates[:-1]):\n",
    "    paper_id = paper['identifier'].lower().replace('arxiv:', '')\n",
    "    \n",
    "    folder = f'tmp_{paper_id}'\n",
    "\n",
    "    try:\n",
    "        if not os.path.isdir(folder):\n",
    "            folder = retrieve_document_source(f\"{paper_id}\", f'tmp_{paper_id}')\n",
    "        \n",
    "        try:\n",
    "            doc = latex.LatexDocument(folder, validation=validation)    \n",
    "        except AffiliationError as affilerror:\n",
    "            msg = f\"ArXiv:{paper_id:s} is not an MPIA paper... \" + str(affilerror)\n",
    "            failed.append((paper, \"affiliation error: \" + str(affilerror) ))\n",
    "            continue\n",
    "        \n",
    "        # Hack because sometimes author parsing does not work well\n",
    "        if (len(doc.authors) != len(paper['authors'])):\n",
    "            doc._authors = paper['authors']\n",
    "        if (doc.abstract) in (None, ''):\n",
    "            doc._abstract = paper['abstract']\n",
    "            \n",
    "        doc.comment = (get_markdown_badge(paper_id) + \n",
    "                       \"<mark>Appeared on: \" + paper['date'] + \"</mark> - \" +\n",
    "                       \"_\" + paper['comments'] + \"_\")\n",
    "        doc.highlight_authors_in_list(hl_list)\n",
    "\n",
    "        full_md = doc.generate_markdown_text()\n",
    "        \n",
    "        documents.append((paper_id, full_md))\n",
    "    except Exception as e:\n",
    "        warnings.warn(latex.LatexWarning(f\"{paper_id:s} did not run properly\\n\" +\n",
    "                                         str(e)\n",
    "                                        ))\n",
    "        failed.append((paper, \"latex error \" + str(e)))"
   ]
  },
  {
   "cell_type": "markdown",
   "id": "2505a25c",
   "metadata": {
    "papermill": {
     "duration": 0.007281,
     "end_time": "2023-02-14T04:11:50.741895",
     "exception": false,
     "start_time": "2023-02-14T04:11:50.734614",
     "status": "completed"
    },
    "tags": []
   },
   "source": [
    "### Export the logs\n",
    "\n",
    "Throughout, we also keep track of the logs per paper. see `logs-{today date}.md` "
   ]
  },
  {
   "cell_type": "code",
   "execution_count": 6,
   "id": "d733828a",
   "metadata": {
    "execution": {
     "iopub.execute_input": "2023-02-14T04:11:50.758432Z",
     "iopub.status.busy": "2023-02-14T04:11:50.757910Z",
     "iopub.status.idle": "2023-02-14T04:11:50.795487Z",
     "shell.execute_reply": "2023-02-14T04:11:50.794969Z"
    },
    "papermill": {
     "duration": 0.047496,
     "end_time": "2023-02-14T04:11:50.796882",
     "exception": false,
     "start_time": "2023-02-14T04:11:50.749386",
     "status": "completed"
    },
    "scrolled": false,
    "tags": []
   },
   "outputs": [
    {
     "data": {
      "text/markdown": [
       "## Successful papers"
      ],
      "text/plain": [
       "<IPython.core.display.Markdown object>"
      ]
     },
     "metadata": {},
     "output_type": "display_data"
    },
    {
     "data": {
      "text/markdown": [
       "\n",
       "|||\n",
       "|---:|:---|\n",
       "| [![arXiv](https://img.shields.io/badge/arXiv-arXiv:2302.05465-b31b1b.svg)](https://arxiv.org/abs/arXiv:2302.05465) | **The Demographics, Stellar Populations, and Star Formation Histories of  Fast Radio Burst Host Galaxies: Implications for the Progenitors**  |\n",
       "|| Alexa C. Gordon, et al. -- incl., <mark>Elizabeth K. Mahoney</mark>, <mark>Kerry Paterson</mark> |\n",
       "|*Appeared on*| *2023-02-14*|\n",
       "|*Comments*| *50 pages, 32 figures, 6 tables, submitted*|\n",
       "|**Abstract**| We present a comprehensive catalog of observations and stellar population properties for 23 highly secure host galaxies of fast radio bursts (FRBs). Our sample comprises six repeating FRBs and 17 apparent non-repeaters. We present 82 new photometric and eight new spectroscopic observations of these hosts. Using stellar population synthesis modeling and employing non-parametric star formation histories (SFHs), we find that FRB hosts have a median stellar mass of $\\approx 10^{9.8}\\,M_{\\odot}$, mass-weighted age of $\\approx 5.2$ Gyr, and ongoing star formation rate $\\approx 1.3\\,M_{\\odot}$ yr$^{-1}$ but span wide ranges in all properties. Classifying the hosts by degree of star formation, we find that 91\\% (21/23 hosts) are star-forming, one is transitioning, and one is quiescent. The majority trace the star-forming main sequence of galaxies, but at least two FRBs originate in less active environments, both of which are apparent non-repeaters. Across all modeled properties, we find no statistically significant distinction between the hosts of repeaters and non-repeaters. However, the hosts of repeating FRBs generally extend to lower stellar masses, and the hosts of non-repeaters arise in more optically luminous galaxies. Further, the four galaxies with the most clear and prolonged rises in their SFHs all host repeating FRBs, demonstrating heightened star formation activity in the last $\\lesssim 100$ Myr. Our results support the young magnetar model for most FRBs in which their progenitors formed through core-collapse supernovae, but the presence of some FRBs in less active environments suggests that a fraction form through more delayed channels. |"
      ],
      "text/plain": [
       "[arXiv:2302.05465] The Demographics, Stellar Populations, and Star Formation Histories of  Fast Radio Burst Host Galaxies: Implications for the Progenitors\n",
       "\tAlexa C. Gordon, et al. -- incl., <mark>Elizabeth K. Mahoney</mark>, <mark>Kerry Paterson</mark>"
      ]
     },
     "metadata": {},
     "output_type": "display_data"
    },
    {
     "data": {
      "text/markdown": [
       "\n",
       "|||\n",
       "|---:|:---|\n",
       "| [![arXiv](https://img.shields.io/badge/arXiv-arXiv:2302.05694-b31b1b.svg)](https://arxiv.org/abs/arXiv:2302.05694) | **TOI-2525 b and c: A pair of massive warm giant planets with a strong  transit timing variations revealed by TESS**  |\n",
       "|| <mark>Trifon Trifonov</mark>, et al. -- incl., <mark>Thomas Henning</mark>, <mark>Melissa J. Hobson</mark>, <mark>Man Hoi Lee</mark>, <mark>Martin Kuerster</mark>, <mark>Rene Heller</mark> |\n",
       "|*Appeared on*| *2023-02-14*|\n",
       "|*Comments*| *Accepted for publication in AJ*|\n",
       "|**Abstract**| TOI-2525 is a K-type star with an estimated mass of M = 0.849$_{-0.033}^{+0.024}$ M$_\\odot$ and radius of R = 0.785$_{-0.007}^{+0.007}$ R$_\\odot$ observed by the TESS mission in 22 sectors (within sectors 1 and 39). The TESS light curves yield significant transit events of two companions, which show strong transit timing variations (TTVs) with a semi-amplitude of a $\\sim$6 hours. We performed TTV dynamical, and photo-dynamical light curve analysis of the TESS data, combined with radial velocity (RV) measurements from FEROS and PFS, and we confirmed the planetary nature of these companions. The TOI-2525 system consists of a transiting pair of planets comparable to Neptune and Jupiter with estimated dynamical masses of $m_{\\rm b}$ = 0.088$_{-0.004}^{+0.005}$ M$_{\\rm Jup.}$, and $m_{\\rm c}$ = 0.709$_{-0.033}^{+0.034}$ M$_{\\rm Jup.}$, radius of $r_b$ = 0.88$_{-0.02}^{+0.02}$ R$_{\\rm Jup.}$ and $r_c$ = 0.98$_{-0.02}^{+0.02}$ R$_{\\rm Jup.}$, and with orbital periods of $P_{\\rm b}$ = 23.288$_{-0.002}^{+0.001}$ days and $P_{\\rm c}$ = 49.260$_{-0.001}^{+0.001}$ days for the inner and the outer planet, respectively. The period ratio is close to the 2:1 period commensurability, but the dynamical simulations of the system suggest that it is outside the mean motion resonance (MMR) dynamical configuration. TOI-2525 b is among the lowest density Neptune-mass planets known to date, with an estimated median density of $\\rho_{\\rm b}$ = 0.174$_{-0.015}^{+0.016}$ g\\,cm$^{-3}$. The TOI-2525 system is very similar to the other K-dwarf systems discovered by TESS, TOI-2202 and TOI-216, which are composed of almost identical K-dwarf primary and two warm giant planets near the 2:1 MMR. |"
      ],
      "text/plain": [
       "[arXiv:2302.05694] TOI-2525 b and c: A pair of massive warm giant planets with a strong  transit timing variations revealed by TESS\n",
       "\t<mark>Trifon Trifonov</mark>, et al. -- incl., <mark>Thomas Henning</mark>, <mark>Melissa J. Hobson</mark>, <mark>Man Hoi Lee</mark>, <mark>Martin Kuerster</mark>, <mark>Rene Heller</mark>"
      ]
     },
     "metadata": {},
     "output_type": "display_data"
    },
    {
     "data": {
      "text/markdown": [
       "## Failed papers"
      ],
      "text/plain": [
       "<IPython.core.display.Markdown object>"
      ]
     },
     "metadata": {},
     "output_type": "display_data"
    },
    {
     "data": {
      "text/markdown": [
       "\n",
       "|||\n",
       "|---:|:---|\n",
       "| [![arXiv](https://img.shields.io/badge/arXiv-arXiv:2302.05464-b31b1b.svg)](https://arxiv.org/abs/arXiv:2302.05464) | **Galaxy Zoo: Kinematics of strongly and weakly barred galaxies**  |\n",
       "|| Tobias Géron, et al. -- incl., <mark>Chris Lintott</mark> |\n",
       "|*Appeared on*| *2023-02-14*|\n",
       "|*Comments*| *20 pages, 16 figures*|\n",
       "|**Abstract**| We study the bar pattern speeds and corotation radii of 225 barred galaxies, using IFU data from MaNGA and the Tremaine-Weinberg method. Our sample, which is divided between strongly and weakly barred galaxies identified via Galaxy Zoo, is the largest that this method has been applied to. We find lower pattern speeds for strongly barred galaxies than for weakly barred galaxies. As simulations show that the pattern speed decreases as the bar exchanges angular momentum with its host, these results suggest that strong bars are more evolved than weak bars. Interestingly, the corotation radius is not different between weakly and strongly barred galaxies, despite being proportional to bar length. We also find that the corotation radius is significantly different between quenching and star forming galaxies. Additionally, we find that strongly barred galaxies have significantly lower values for R, the ratio between the corotation radius and the bar radius, than weakly barred galaxies, despite a big overlap in both distributions. This ratio classifies bars into ultrafast bars (R < 1.0; 11% of our sample), fast bars (1.0 < R < 1.4; 27%) and slow bars (R > 1.4; 62%). Simulations show that R is correlated with the bar formation mechanism, so our results suggest that strong bars are more likely to be formed by different mechanisms than weak bars. Finally, we find a lower fraction of ultrafast bars than most other studies, which decreases the recently claimed tension with {\\Lambda}CDM. However, the median value of R is still lower than what is predicted by simulations. |\n",
       "|<p style=\"color:green\"> **ERROR** </p>| <p style=\"color:green\">affiliation error: mpia.affiliation_verifications: '69117' keyword not found.</p> |"
      ],
      "text/plain": [
       "<IPython.core.display.Markdown object>"
      ]
     },
     "metadata": {},
     "output_type": "display_data"
    },
    {
     "data": {
      "text/markdown": [
       "\n",
       "|||\n",
       "|---:|:---|\n",
       "| [![arXiv](https://img.shields.io/badge/arXiv-arXiv:2302.05466-b31b1b.svg)](https://arxiv.org/abs/arXiv:2302.05466) | **The Next Generation Deep Extragalactic Exploratory Public (NGDEEP)  Survey**  |\n",
       "|| Micaela B. Bagley, et al. -- incl., <mark>Steven L. Finkelstein</mark>, <mark>Henry C. Ferguson</mark>, <mark>Lisa J. Kewley</mark>, <mark>Jasleen Matharu</mark> |\n",
       "|*Appeared on*| *2023-02-14*|\n",
       "|*Comments*| *21 pages, 9 figures, submitted to AAS Journals*|\n",
       "|**Abstract**| We present the Next Generation Deep Extragalactic Exploratory Public (NGDEEP) Survey, a deep slitless spectroscopic and imaging Cycle 1 JWST treasury survey designed to constrain feedback mechanisms in low-mass galaxies across cosmic time. NGDEEP targets the Hubble Ultra Deep Field (HUDF) with NIRISS slitless spectroscopy (f~1.2e-18 erg/s/cm^2, 5sigma) to measure metallicities and star-formation rates (SFRs) for low-mass galaxies through the peak of the cosmic SFR density (0.5<z<4). In parallel, NGDEEP targets the HUDF-Par2 parallel field with NIRCam (m=30.6-30.9, 5sigma) to discover galaxies to z>12, constraining the slope of the faint-end of the rest-ultraviolet luminosity function. NGDEEP overlaps with the deepest HST ACS optical imaging in the sky: F435W in the HUDF (m=29.6), and F814W in HUDF-Par2 (m=30), making this a premier HST+JWST Deep Field. As a treasury survey, NGDEEP data is public immediately, and we will rapidly release data products and catalogs in the spirit of previous deep field initiatives. In this paper we present the NGDEEP survey design, summarize the science goals, and detail plans for the public release of NGDEEP reduced data products. |\n",
       "|<p style=\"color:green\"> **ERROR** </p>| <p style=\"color:green\">affiliation error: mpia.affiliation_verifications: 'Heidelberg' keyword not found.</p> |"
      ],
      "text/plain": [
       "<IPython.core.display.Markdown object>"
      ]
     },
     "metadata": {},
     "output_type": "display_data"
    },
    {
     "data": {
      "text/markdown": [
       "\n",
       "|||\n",
       "|---:|:---|\n",
       "| [![arXiv](https://img.shields.io/badge/arXiv-arXiv:2302.05479-b31b1b.svg)](https://arxiv.org/abs/arXiv:2302.05479) | **A variational encoder-decoder approach to precise spectroscopic age  estimation for large Galactic surveys**  |\n",
       "|| <mark>Henry W. Leung</mark>, Jo Bovy, J. Ted Mackereth, Andrea Miglio |\n",
       "|*Appeared on*| *2023-02-14*|\n",
       "|*Comments*| **|\n",
       "|**Abstract**| Constraints on the formation and evolution of the Milky Way Galaxy require multi-dimensional measurements of kinematics, abundances, and ages for a large population of stars. Ages for luminous giants, which can be seen to large distances, are an essential component of studies of the Milky Way, but they are traditionally very difficult to estimate precisely for a large dataset and often require careful analysis on a star-by-star basis in asteroseismology. Because spectra are easier to obtain for large samples, being able to determine precise ages from spectra allows for large age samples to be constructed, but spectroscopic ages are often imprecise and contaminated by abundance correlations. Here we present an application of a variational encoder-decoder on cross-domain astronomical data to solve these issues. The model is trained on pairs of stars observed by APOGEE and Kepler in order to reduce the dimensionality of the APOGEE spectra in a latent space while removing abundance information. The low dimensional latent representation of these spectra can then be trained to predict age with just $\\sim$ 1,000 precise seismic ages. We demonstrate that this model produces more precise spectroscopic ages ($\\sim$ 22% overall, $\\sim$ 11% for red-clump stars) than previous data-driven spectroscopic ages while being less contaminated by abundance information (in particular, our ages do not depend on [$\\alpha$/M]). We create a public age catalog for the APOGEE DR17 data set and use it to map the age distribution and the age-[Fe/H]-[$\\alpha$/M] distribution across the radial range of the Galactic disk. |\n",
       "|<p style=\"color:green\"> **ERROR** </p>| <p style=\"color:green\">affiliation error: mpia.affiliation_verifications: 'Heidelberg' keyword not found.</p> |"
      ],
      "text/plain": [
       "<IPython.core.display.Markdown object>"
      ]
     },
     "metadata": {},
     "output_type": "display_data"
    },
    {
     "data": {
      "text/markdown": [
       "\n",
       "|||\n",
       "|---:|:---|\n",
       "| [![arXiv](https://img.shields.io/badge/arXiv-arXiv:2302.05523-b31b1b.svg)](https://arxiv.org/abs/arXiv:2302.05523) | **RFI Flagging in Solar and Space Weather Low Frequency Radio Observations**  |\n",
       "|| <mark>Peijin Zhang</mark>, et al. |\n",
       "|*Appeared on*| *2023-02-14*|\n",
       "|*Comments*| **|\n",
       "|**Abstract**| Radio spectroscopy provides a unique inspection perspective for solar and space weather research, which can reveal the plasma and energetic electron information in the solar corona and inner heliosphere. However, Radio-Frequency Interference (RFI) from human activities affects sensitive radio telescopes, and significantly affects the quality of observation. Thus, RFI detection and mitigation for the observations is necessary to obtain high quality, science-ready data. The flagging of RFI is particularly challenging for the solar and space weather observations at low frequency, because the solar radio bursts can be brighter than the RFI, and may show similar temporal behavior. In this work, we investigate RFI flagging methods for solar and space weather observations, including a strategy for AOFlagger, and a novel method that makes use of a morphology convolution. These algorithms can effectively flag RFI while preserving solar radio bursts. |\n",
       "|<p style=\"color:green\"> **ERROR** </p>| <p style=\"color:green\">affiliation error: mpia.affiliation_verifications: 'Heidelberg' keyword not found.</p> |"
      ],
      "text/plain": [
       "<IPython.core.display.Markdown object>"
      ]
     },
     "metadata": {},
     "output_type": "display_data"
    },
    {
     "data": {
      "text/markdown": [
       "\n",
       "|||\n",
       "|---:|:---|\n",
       "| [![arXiv](https://img.shields.io/badge/arXiv-arXiv:2302.05595-b31b1b.svg)](https://arxiv.org/abs/arXiv:2302.05595) | **AGN candidates in the VVV near-IR galaxy catalogue**  |\n",
       "|| Laura D. Baravalle, et al. -- incl., <mark>Leigh C. Smith</mark> |\n",
       "|*Appeared on*| *2023-02-14*|\n",
       "|*Comments*| *11 pages, 6 figures, 5 tables. Accepted for publication in Monthly Notices of the Royal Astronomical Society (MNRAS)*|\n",
       "|**Abstract**| The goal of this work is to search for Active Galactic Nuclei (AGN) in the Galactic disc at very low latitudes with |b| $<$ 2$^\\circ$. For this, we studied the five sources from the VVV near-infrared galaxy catalogue that have also WISE counterparts and present variability in the VIrac VAriable Classification Ensemble (VIVACE) catalogue. In the near-infrared colour-colour diagrams, these objects have in general redder colours compared to the rest of the sources in the field. In the mid-infrared ones, they are located in the AGN region, however there is a source that presents the highest interstellar extinction and different mid-IR colours to be a young stellar object (YSO). We also studied the source variability using two different statistical methods. The fractional variability amplitude $\\sigma_{rms}$ ranges from 12.6 to 33.8, being in concordance with previous results found for type-1 AGNs. The slopes of the light curves are in the range (2.6$-$4.7) $\\times 10^{-4}$ mag/day, also in agreement with results reported on quasars variability. The combination of all these results suggest that four galaxies are type-1 AGN candidates whereas the fifth source likely a YSO candidate. |\n",
       "|<p style=\"color:green\"> **ERROR** </p>| <p style=\"color:green\">affiliation error: mpia.affiliation_verifications: 'Heidelberg' keyword not found.</p> |"
      ],
      "text/plain": [
       "<IPython.core.display.Markdown object>"
      ]
     },
     "metadata": {},
     "output_type": "display_data"
    },
    {
     "data": {
      "text/markdown": [
       "\n",
       "|||\n",
       "|---:|:---|\n",
       "| [![arXiv](https://img.shields.io/badge/arXiv-arXiv:2302.05659-b31b1b.svg)](https://arxiv.org/abs/arXiv:2302.05659) | **ALMA Band 6 high-resolution observations of the transitional disk around  SY Cha**  |\n",
       "|| Ryuta Orihara, et al. -- incl., <mark>Hauyu Baobab Liu</mark> |\n",
       "|*Appeared on*| *2023-02-14*|\n",
       "|*Comments*| *33 pages, 22 figures*|\n",
       "|**Abstract**| In this study, we reported the results of high-resolution (0.14 arcsec) Atacama Large Millimeter/submillimeter Array (ALMA) observations of the 225 GHz dust continuum and CO molecular emission lines from the transitional disk around SY Cha. Our high-resolution observations clearly revealed the inner cavity and the central point source for the first time. The radial profile of the ring can be approximated by a bright narrow ring superimposed on a fainter wide ring. Furthermore, we found that there is a weak azimuthal asymmetry in dust continuum emission. For gas emissions, we detected $\\rm{}^{12}CO$(2$-$1), $\\rm{}^{13}CO$(2$-$1) and $\\rm{}C^{18}O$(2$-$1), from which we estimated the total gas mass of the disk to be $2.2\\times10^{-4}M_\\odot$, assuming a CO/H$_2$ ratio of $10^{-4}$. The observations showed that the gas is present inside the dust cavity. The analysis of the velocity structure of the $\\rm{}^{12}CO$(2$-$1) emission line revealed that the velocity is distorted at the location of the dust inner disk, which may be owing to warping of the disk or radial gas flow within the cavity of the dust disk. High-resolution observations of SY Cha showed that this system is composed of a ring and a distorted inner disk, which may be common, as indicated by the survey of transitional disk systems at a resolution of $\\sim$0.1~arcsec. |\n",
       "|<p style=\"color:green\"> **ERROR** </p>| <p style=\"color:green\">affiliation error: mpia.affiliation_verifications: 'Heidelberg' keyword not found.</p> |"
      ],
      "text/plain": [
       "<IPython.core.display.Markdown object>"
      ]
     },
     "metadata": {},
     "output_type": "display_data"
    },
    {
     "data": {
      "text/markdown": [
       "\n",
       "|||\n",
       "|---:|:---|\n",
       "| [![arXiv](https://img.shields.io/badge/arXiv-arXiv:2302.05774-b31b1b.svg)](https://arxiv.org/abs/arXiv:2302.05774) | **The anisotropic distribution of the satellites in Milky-Way-like galaxy  systems**  |\n",
       "|| <mark>Xinghai Zhao</mark>, Grant J. Mathews, <mark>Lara Arielle Phillips</mark>, <mark>Guobao Tang</mark> |\n",
       "|*Appeared on*| *2023-02-14*|\n",
       "|*Comments*| *12 pages, 13 figures*|\n",
       "|**Abstract**| Aim. The satellite systems of Milky-Way-like galaxies offer a useful means by which to study the galaxy formation process in the cosmological context. It has been suggested that the currently observed anisotropic distribution of the satellites in such galaxy systems is inconsistent with the concordant $\\Lambda CDM$ cosmology model on the galactic scale if the observed satellites are random samples of the dark matter (DM) sub-halos that are nearly isotropically distributed around the central galaxy. Here we examine such systems in the context of a simulation of the Local Group. Methods. We use high resolution hydrodynamical simulations of the formation and evolution of Milky-Way-like galaxy systems to investigate the spatial distribution of the luminous satellites and DM sub-halos around the central galaxy. Results. We find that the satellites and DM sub-halos are indeed anisotropically distributed with a direction roughly along the local DM filament. The observed alignment of the satellites in these systems is likely the result of preferred accretion along the local DM filaments in the galaxy formation process. For the dynamical properties of the satellites, we find that the direction of the angular momentum vector of the whole satellite system is different from the normal direction of the fitted \"disk of satellites\" (DOS) and the normal direction of the velocity dispersion of the system. Hence, the fitted DOS appears to be infalling and is not rotationally supported in this study. |\n",
       "|<p style=\"color:green\"> **ERROR** </p>| <p style=\"color:green\">affiliation error: mpia.affiliation_verifications: 'Heidelberg' keyword not found.</p> |"
      ],
      "text/plain": [
       "<IPython.core.display.Markdown object>"
      ]
     },
     "metadata": {},
     "output_type": "display_data"
    },
    {
     "data": {
      "text/markdown": [
       "\n",
       "|||\n",
       "|---:|:---|\n",
       "| [![arXiv](https://img.shields.io/badge/arXiv-arXiv:2302.05887-b31b1b.svg)](https://arxiv.org/abs/arXiv:2302.05887) | **First discovery of QPOs in the dwarf nova HS 2325+8205 based on TESS  photometry**  |\n",
       "|| Qi-Bin Sun, et al. -- incl., <mark>Li-Ying Zhu</mark>, <mark>Wen-Ping Liao</mark>, <mark>Er-Gang Zhao</mark>, <mark>Wei Liu</mark>, <mark>Fu-Xing Li</mark> |\n",
       "|*Appeared on*| *2023-02-14*|\n",
       "|*Comments*| **|\n",
       "|**Abstract**| HS 2325+8205 is a long-period eclipsing dwarf nova with an orbital period above the period gap (Porb>3 h) and is reported to be a Z Cam-type dwarf nova. Based on the photometry of the Transiting Exoplanet Survey Satellite (TESS), the light variation and the quasi-periodic oscillation (QPOs) of HS 2325+8205 are studied. Using Continuous Wavelet Transform (CWT), Lomb-Scargle Periodogram (LSP), and sine fitting methods, we find for the first time that there is a QPOs of ~ 2160s in the long outburst top light curves of HS 2325+8205. Moreover, we find that the oscillation intensity of the QPOs of HS 2325+8205 is related to the orbital phase, and the intensity in orbital phases 0.5-0.9 are stronger than in orbital phases 0.1-0.5. Therefore, the relationship between the oscillation intensity of QPOs and the orbital phase may become a research window for the origin of QPOs. In addition, we use the LSP to correct the orbital period of HS 2325+8205 as 0.19433475(6) d. |\n",
       "|<p style=\"color:green\"> **ERROR** </p>| <p style=\"color:green\">affiliation error: mpia.affiliation_verifications: 'Heidelberg' keyword not found.</p> |"
      ],
      "text/plain": [
       "<IPython.core.display.Markdown object>"
      ]
     },
     "metadata": {},
     "output_type": "display_data"
    },
    {
     "data": {
      "text/markdown": [
       "\n",
       "|||\n",
       "|---:|:---|\n",
       "| [![arXiv](https://img.shields.io/badge/arXiv-arXiv:2302.05896-b31b1b.svg)](https://arxiv.org/abs/arXiv:2302.05896) | **Scaling relations of X-ray Luminous Clusters in the Hyper Suprime-Cam  Subaru Strategic Program Field**  |\n",
       "|| <mark>Helen Poon</mark>, et al. |\n",
       "|*Appeared on*| *2023-02-14*|\n",
       "|*Comments*| *16 pages*|\n",
       "|**Abstract**| We present the {\\it XMM-Newton} X-ray analysis of 19 X-ray luminous galaxy clusters of low-to-mid redshift ($< 0.4$) selected from the MCXC cluster catalogue in the Hyper Supri%survey as the first work in our series paper. We derive the hydrostatic equilibrium mass and study scaling relations using i) the whole sample, ii) only relaxed clusters and iii) only disturbed clusters. When considering the whole sample, the $Y_{\\rm X}$-$M_{\\rm tot}$ and $M_{\\rm gas}$-$M_{\\rm tot}$ relations agree with self-similarity. In terms of morphology, relaxed clusters show a flatter relation in $L_{\\rm X,ce}$-$M_{\\rm tot}$, $L_{\\rm X,bol}$-$M_{\\rm tot}$, $L_{\\rm X,ce}$-$T$, $L_{\\rm bol,ce}$-$T$, $M_{\\rm gas}$-$M_{\\rm tot}$ and $Y_{\\rm X}$-$M_{\\rm tot}$. The $L_{\\rm bol,ce}$-$M_{\\rm tot}$, $L_{\\rm X,ce}$-$M_{\\rm tot}$ $L_{\\rm bol,ce}$-$T$ and $L_{\\rm X,ce}$-$T$ relations show a slope $\\sim$3$\\sigma$ steeper. The residuals in the $M_{\\rm gas}$-$M_{\\rm tot}$ and $T$-$M_{\\rm tot}$ relations and the intrinsic covariance between $M_{\\rm gas}$ and $T$ show hints of positive correlation, casting doubt on whether the $Y_{\\rm X}$ parameter is a truly low scatter mass proxy. The $M_{\\rm gas}$-$M_{\\rm tot}$ and $T$-$M_{\\rm tot}$ plots color-coded with the offset of the $L_{\\rm X,ce}$-$M_{\\rm tot}$ relation show these two relations to be brightness dependent but not the $L_{\\rm X,ce}$-$T$ relation, suggesting relations involving $M_{\\rm tot}$ are biased due to sample selection based on luminosity. Following \\citet{2017A&A...606A..24A} and combining our result with literature studies, we find the $M_{\\rm tot}$ derived not using mass proxies deviate from $L_{\\rm X}$ $\\propto$ $M_{\\rm gas}^{2}M_{\\rm tot}^{-1}$ and $M_{\\rm tot}$ based on hydrostatic equilibrium are more massive than what is expected by their relation using caustic masses. This indicates mass bias plays an important role in scaling relations. |\n",
       "|<p style=\"color:green\"> **ERROR** </p>| <p style=\"color:green\">affiliation error: mpia.affiliation_verifications: 'Heidelberg' keyword not found.</p> |"
      ],
      "text/plain": [
       "<IPython.core.display.Markdown object>"
      ]
     },
     "metadata": {},
     "output_type": "display_data"
    },
    {
     "data": {
      "text/markdown": [
       "\n",
       "|||\n",
       "|---:|:---|\n",
       "| [![arXiv](https://img.shields.io/badge/arXiv-arXiv:2302.06116-b31b1b.svg)](https://arxiv.org/abs/arXiv:2302.06116) | **GRB 190114C: Fireball Energy Budget and Radiative Efficiency Revisited**  |\n",
       "|| <mark>Liang Li</mark>, Yu Wang |\n",
       "|*Appeared on*| *2023-02-14*|\n",
       "|*Comments*| *15 pages, 3 figures, 2 tables, under review*|\n",
       "|**Abstract**| The jet composition of gamma-ray bursts (GRBs), as well as how efficiently the jet converts its energy to radiation, are long-standing problems in GRB physics. Here, we reported a comprehensive temporal and spectral analysis of the TeV-emitting bright GRB 190114C. Its high fluence ($\\sim$ 4.436$\\times$10$^{-4}$ erg cm$^{-2}$) allows us to conduct the time-resolved spectral analysis in great detail and study their variations down to a very short time-scale ($\\sim$0.1 s) while preserving a high significance. Its prompt emission consists of three well-separated pulses. The first two main pulses ($P_1$ and $P_2$) exhibit independently strong thermal components, and starting from the third pulse ($P_3$) and extending to the entire afterglow, the spectra are all non-thermal, the synchrotron plus Compton up-scattering model well interpret the observation. By combining the thermal ($P_1$ and $P_2$) and the non-thermal ($P_3$) observations based on two different scenarios (global and pulse properties) and following the method described in \\cite{Zhang2021}, we measure the fireball parameters and GRB radiative efficiency with little uncertainties for this GRB. A relevantly high GRB radiative efficiency is obtained based on both the global and pulse properties, suggesting that if GRBs are powered by fireballs, the efficiency can be high sometimes. More interestingly, though the observed parameters are individually different (e.g., the amount of mass loading $M$), the radiative efficiency obtained from $P_1$ ($\\eta_\\gamma=36.0\\pm6.5\\%$) and $P_2$ ($\\eta_\\gamma=41.1\\pm1.9\\%$) is roughly the same, which implies that the central engine of the same GRB has some common properties. |\n",
       "|<p style=\"color:green\"> **ERROR** </p>| <p style=\"color:green\">affiliation error: mpia.affiliation_verifications: 'Heidelberg' keyword not found.</p> |"
      ],
      "text/plain": [
       "<IPython.core.display.Markdown object>"
      ]
     },
     "metadata": {},
     "output_type": "display_data"
    },
    {
     "data": {
      "text/markdown": [
       "\n",
       "|||\n",
       "|---:|:---|\n",
       "| [![arXiv](https://img.shields.io/badge/arXiv-arXiv:2302.06214-b31b1b.svg)](https://arxiv.org/abs/arXiv:2302.06214) | **Intermediate-mass black holes: finding of episodic, large-scale and  powerful jet activity in a dwarf galaxy**  |\n",
       "|| Jun Yang, et al. -- incl., <mark>Mai Liao</mark>, <mark>Xiang Liu</mark>, <mark>Lang Cui</mark> |\n",
       "|*Appeared on*| *2023-02-14*|\n",
       "|*Comments*| *Accepted for publication in MRNAS, 10 pages, 6 figures*|\n",
       "|**Abstract**| Dwarf galaxies are characterised by a very low luminosity and low mass. Because of significant accretion and ejection activity of massive black holes, some dwarf galaxies also host low-luminosity active galactic nuclei (AGNs). In a few dwarf AGNs, very long baseline interferometry (VLBI) observations have found faint non-thermal radio emission. SDSS J090613.77+561015.2 is a dwarf AGN owning an intermediate-mass black hole (IMBH) with a mass of $M_{BH} = 3.6^{+5.9}_{-2.3} \\times 10^5 M_{sun}$ and showing a rarely-seen two-component radio structure in its radio nucleus. To further probe their nature, i.e. the IMBH jet activity, we performed additional deep observations with the European VLBI Network (EVN) at 1.66 GHz and 4.99 GHz. We find the more diffuse emission regions and structure details. These new EVN imaging results allow us to reveal a two-sided jet morphology with a size up to about 150 mas (projected length $\\sim$140 pc) and a radio luminosity of about $3\\times10^{38}$ erg s$^{-1}$. The peak feature has an optically thin radio spectrum and thus more likely represents a relatively young ejecta instead of a jet base. The EVN study on SDSS J090613.77+561015.2 demonstrates the existence of episodic, relatively large-scale and powerful IMBH jet activity in dwarf AGNs. Moreover, we collected a small sample of VLBI-detected dwarf AGNs and investigated their connections with normal AGNs. We notice that these radio sources in the dwarf AGNs tend to have steep spectra and small linear sizes, and possibly represent ejecta from scaled-down episodic jet activity. |\n",
       "|<p style=\"color:green\"> **ERROR** </p>| <p style=\"color:green\">affiliation error: mpia.affiliation_verifications: 'Heidelberg' keyword not found.</p> |"
      ],
      "text/plain": [
       "<IPython.core.display.Markdown object>"
      ]
     },
     "metadata": {},
     "output_type": "display_data"
    },
    {
     "data": {
      "text/markdown": [
       "\n",
       "|||\n",
       "|---:|:---|\n",
       "| [![arXiv](https://img.shields.io/badge/arXiv-arXiv:2302.06225-b31b1b.svg)](https://arxiv.org/abs/arXiv:2302.06225) | **GRANDMA and HXMT Observations of GRB 221009A -- the Standard-Luminosity  Afterglow of a Hyper-Luminous Gamma-Ray Burst**  |\n",
       "|| D. A. Kann, et al. -- incl., <mark>E. Burns</mark>, <mark>P. Hello</mark>, <mark>C. K. Li</mark>, <mark>W. Li</mark>, <mark>X. B. Li</mark> |\n",
       "|*Appeared on*| *2023-02-14*|\n",
       "|*Comments*| *Submitted to ApJL for the special issue, 31 pages, 18 pages main text, 4 tables, 9 figures*|\n",
       "|**Abstract**| GRB 221009A is the brightest Gamma-Ray Burst detected in more than 50 years of study. Here, we present observations in the X-ray and optical domains ranging from the prompt emission (optical coverage by all-sky cameras) up to 20 days after the GRB obtained by the GRANDMA Collaboration (which includes observations from more than 30 professional and amateur telescopes) and the \\textit{Insight}-HXMT Collaboration operating the X-ray telescope HXMT-LE. We study the optical afterglow both with empirical fitting procedures and numerical modeling. We find that the GRB afterglow, extinguished by a large dust column, is most likely behind a combination of a large Milky-Way dust column combined with moderate low-metallicity dust in the host galaxy. We find that numerical models describing the synchrotron radiation at the forward shock of a relativistic top-hat jet propagating through a constant density medium require extreme parameters to fit the observational data. Based on these observations, we constrain the isotropic afterglow energy $E_{0} \\sim 3.7 \\times 10^{54}$ erg, the density of the ambient medium $n_{\\mathrm{ism}} \\gtrsim 1~\\mathrm{cm}^{-3}$ and the opening angle of the jet core to be $\\gtrsim10.7^\\circ$. We do not find evidence (for or against) of jet structure, a potential jet break and the presence or absence of a SN. Placed in the global context of GRB optical afterglows, we find the afterglow of GRB 221009A is luminous but not extraordinarily so, highlighting that some aspects of this GRB do not deviate from the known sample despite its extreme energetics and the peculiar afterglow evolution. |\n",
       "|<p style=\"color:green\"> **ERROR** </p>| <p style=\"color:green\">affiliation error: mpia.affiliation_verifications: 'Heidelberg' keyword not found.</p> |"
      ],
      "text/plain": [
       "<IPython.core.display.Markdown object>"
      ]
     },
     "metadata": {},
     "output_type": "display_data"
    },
    {
     "data": {
      "text/markdown": [
       "\n",
       "|||\n",
       "|---:|:---|\n",
       "| [![arXiv](https://img.shields.io/badge/arXiv-arXiv:2302.06306-b31b1b.svg)](https://arxiv.org/abs/arXiv:2302.06306) | **Extinction of Taurus, Orion, Perseus and California Molecular Clouds  Based on the LAMOST, 2MASS and Gaia surveys I: Three-dimensional Extinction  and Structure**  |\n",
       "|| Zhetai Cao, Biwei Jiang, <mark>He Zhao</mark>, Mingxu Sun |\n",
       "|*Appeared on*| *2023-02-14*|\n",
       "|*Comments*| *22 pages, 15 figures, 2 tables, accepted for publication in The ApJ*|\n",
       "|**Abstract**| The three-dimensional extinction and structure are studied for the Taurus, Orion, Perseus and California molecular clouds based on the LAMOST spectroscopy. Stellar color excess is calculated with the intrinsic color index derived from the atmospheric parameters in the LAMOST DR8 catalog and the observed color index in the Gaia EDR3 and the 2MASS PSC. In combination with the distance from the Gaia EDR3 parallax, the three-dimensional dust extinction maps are retrieved in the color excesses $E_{\\rm{G_{BP},G_{RP}}}$ and $E_{\\rm{J,K_{S}}}$ with an uncertainty of $\\sim$0.03mag and $\\sim$0.07mag respectively. The extinction maps successfully separate the clouds that overlap in the sky area and manifest the structure of the individual cloud. Meanwhile, a bow-like structure is found with a distance range from 175pc to 250pc, half of which is a part of the Per-Tau Shell in similar coordinates and distance while the other half is not. Three low-extinction rings are additionally discovered and briefly discussed. |\n",
       "|<p style=\"color:green\"> **ERROR** </p>| <p style=\"color:green\">affiliation error: mpia.affiliation_verifications: 'Heidelberg' keyword not found.</p> |"
      ],
      "text/plain": [
       "<IPython.core.display.Markdown object>"
      ]
     },
     "metadata": {},
     "output_type": "display_data"
    },
    {
     "data": {
      "text/markdown": [
       "\n",
       "|||\n",
       "|---:|:---|\n",
       "| [![arXiv](https://img.shields.io/badge/arXiv-arXiv:2302.06393-b31b1b.svg)](https://arxiv.org/abs/arXiv:2302.06393) | **Astrophotonics: photonic integrated circuits for astronomical  instrumentation**  |\n",
       "|| Martin M. Roth, et al. -- incl., <mark>Eloy Hernandez</mark> |\n",
       "|*Appeared on*| *2023-02-14*|\n",
       "|*Comments*| *17 pages, 11 figures, invited talk to SPIE Photonics West 2023, Conference \"Integrated Optics: Devices, Materials, and Technologies XXVII\"*|\n",
       "|**Abstract**| Photonic Integrated Circuits (PIC) are best known for their important role in the telecommunication sector, e.g. high speed communication devices in data centers. However, PIC also hold the promise for innovation in sectors like life science, medicine, sensing, automotive etc. The past two decades have seen efforts of utilizing PIC to enhance the performance of instrumentation for astronomical telescopes, perhaps the most spectacular example being the integrated optics beam combiner for the interferometer GRAVITY at the ESO Very Large Telescope. This instrument has enabled observations of the supermassive black hole in the center of the Milky Way at unprecedented angular resolution, eventually leading to the Nobel Price for Physics in 2020. Several groups worldwide are actively engaged in the emerging field of astrophotonics research, amongst them the innoFSPEC Center in Potsdam, Germany. We present results for a number of applications developed at innoFSPEC, notably PIC for integrated photonic spectrographs on the basis of arrayed waveguide gratings and the PAWS demonstrator (Potsdam Arrayed Waveguide Spectrograph), PIC-based ring resonators in astronomical frequency combs for precision wavelength calibration, discrete beam combiners (DBC) for large astronomical interferometers, as well as aperiodic fiber Bragg gratings for complex astronomical filters and their possible derivatives in PIC. |\n",
       "|<p style=\"color:green\"> **ERROR** </p>| <p style=\"color:green\">affiliation error: mpia.affiliation_verifications: 'Heidelberg' keyword not found.</p> |"
      ],
      "text/plain": [
       "<IPython.core.display.Markdown object>"
      ]
     },
     "metadata": {},
     "output_type": "display_data"
    },
    {
     "data": {
      "text/markdown": [
       "\n",
       "|||\n",
       "|---:|:---|\n",
       "| [![arXiv](https://img.shields.io/badge/arXiv-arXiv:2302.06489-b31b1b.svg)](https://arxiv.org/abs/arXiv:2302.06489) | **UHECR Echoes from the Council of Giants**  |\n",
       "|| A. M. Taylor, <mark>J. H. Matthews</mark>, A. R. Bell |\n",
       "|*Appeared on*| *2023-02-14*|\n",
       "|*Comments*| *12 pages, 11 figures*|\n",
       "|**Abstract**| Recent anisotropy studies of UHECR data at energies $\\gtrsim$ 40 EeV, have disclosed a correlation of their angular distribution with the extragalactic local structure, specifically with either local starburst galaxies or AGN. Using Monte Carlo simulations taking into account photo-disintegration processes, we further explore a framework in which these UHECRs were accelerated by Centaurus A in a recent powerful outburst before being scattered by magnetic fields associated with local, Council of Giant, extragalactic structure. We find that the observed intermediate scale anisotropies can be accounted for by the Council of Giant structure imposing a response function on the initial outburst of UHECRs from a single source located at Centaurus A's position. The presence of these local structures create `echoes' of UHECRs after the initial impulse, and focusing effects. The strongest echo wave has a lag of $\\sim$ 20 Myr, comparable to the age of synchrotron-emitting electrons in the giant Centaurus A lobes. Through consideration of the composition of both the direct and echo wave components, we find that the distribution of the light (1$<\\ln A<$1.5) component across the sky offers exciting prospects for testing the echo model using future facilities such as Auger prime. Our results demonstrate the potential that UHECR nuclei offer, as \"composition clocks\", for probing propagation scenarios from local sources. |\n",
       "|<p style=\"color:green\"> **ERROR** </p>| <p style=\"color:green\">affiliation error: mpia.affiliation_verifications: 'Heidelberg' keyword not found.</p> |"
      ],
      "text/plain": [
       "<IPython.core.display.Markdown object>"
      ]
     },
     "metadata": {},
     "output_type": "display_data"
    },
    {
     "data": {
      "text/markdown": [
       "\n",
       "|||\n",
       "|---:|:---|\n",
       "| [![arXiv](https://img.shields.io/badge/arXiv-arXiv:2302.06493-b31b1b.svg)](https://arxiv.org/abs/arXiv:2302.06493) | **NIRwave: A wave-turbulence-driven solar wind model constrained by PSP  observations**  |\n",
       "|| <mark>Simon Schleich</mark>, et al. -- incl., <mark>Udo Ziegler</mark>, <mark>Manuel Güdel</mark> |\n",
       "|*Appeared on*| *2023-02-14*|\n",
       "|*Comments*| *14 pages, 12 figures, accepted for publication in A&A*|\n",
       "|**Abstract**| We generate a model description of the solar wind based on an explicit wave-turbulence-driven heating mechanism, and constrain our model with observational data. We included an explicit coronal heating source term in the general 3D magnetohydrodynamic code NIRVANA to simulate the properties of the solar wind. The adapted heating mechanism is based on the interaction and subsequent dissipation of counter-propagating Alfv\\'en waves in the solar corona, accounting for a turbulent heating rate Q_p. The solar magnetic field is assumed to be an axisymmetric dipole with a field strength of 1 G. Our model results are validated against observational data taken by the Parker Solar Probe (PSP). Our NIRwave solar wind model reconstructs the bimodal structure of the solar wind with slow and fast wind speeds of 410 km/s and 650 km/s respectively. The global mass-loss rate of our solar wind model is 2.6e-14 solar masses per year. Despite implementing simplified conditions to represent the solar magnetic field, the solar wind parameters characterising our steady-state solution are in reasonable agreement with previously established results and empirical constraints. The number density from our wind solution is in good agreement with the derived empirical constraints, with larger deviations for the radial velocity and temperature. In a comparison to a polytropic wind model generated with NIRVANA, we find that our NIRwave model is in better agreement with the observational constraints that we derive. |\n",
       "|<p style=\"color:green\"> **ERROR** </p>| <p style=\"color:green\">affiliation error: mpia.affiliation_verifications: 'Heidelberg' keyword not found.</p> |"
      ],
      "text/plain": [
       "<IPython.core.display.Markdown object>"
      ]
     },
     "metadata": {},
     "output_type": "display_data"
    },
    {
     "data": {
      "text/markdown": [
       "\n",
       "|||\n",
       "|---:|:---|\n",
       "| [![arXiv](https://img.shields.io/badge/arXiv-arXiv:2302.06496-b31b1b.svg)](https://arxiv.org/abs/arXiv:2302.06496) | **Implications of Different Solar Photospheric Flux-Transport Models for  Global Coronal and Heliospheric Modeling**  |\n",
       "|| Graham Barnes, et al. -- incl., <mark>Carl J. Henney</mark> |\n",
       "|*Appeared on*| *2023-02-14*|\n",
       "|*Comments*| *Accepted for publication in The Astrophysical Journal*|\n",
       "|**Abstract**| The concept of surface-flux transport (SFT) is commonly used in evolving models of the large-scale solar surface magnetic field. These photospheric models are used to determine the large-scale structure of the overlying coronal magnetic field, as well as to make predictions about the fields and flows that structure the solar wind. We compare predictions from two SFT models for the solar wind, open magnetic field footpoints, and the presence of coronal magnetic null points throughout various phases of a solar activity cycle, focusing on the months of April in even-numbered years between 2012 and 2020, inclusive. We find that there is a solar cycle dependence to each of the metrics considered, but there is not a single phase of the cycle in which all the metrics indicate good agreement between the models. The metrics also reveal large, transient differences between the models when a new active region is rotating into the assimilation window. The evolution of the surface flux is governed by a combination of large scale flows and comparatively small scale motions associated with convection. Because the latter flows evolve rapidly, there are intervals during which their impact on the surface flux can only be characterized in a statistical sense, thus their impact is modeled by introducing a random evolution that reproduces the typical surface flux evolution. We find that the differences between the predicted properties are dominated by differences in the model assumptions and implementation, rather than selection of a particular realization of the random evolution. |\n",
       "|<p style=\"color:green\"> **ERROR** </p>| <p style=\"color:green\">affiliation error: mpia.affiliation_verifications: 'Heidelberg' keyword not found.</p> |"
      ],
      "text/plain": [
       "<IPython.core.display.Markdown object>"
      ]
     },
     "metadata": {},
     "output_type": "display_data"
    },
    {
     "data": {
      "text/markdown": [
       "\n",
       "|||\n",
       "|---:|:---|\n",
       "| [![arXiv](https://img.shields.io/badge/arXiv-arXiv:2302.06500-b31b1b.svg)](https://arxiv.org/abs/arXiv:2302.06500) | **Imaging the inner astronomical unit of Herbig Be star HD 190073**  |\n",
       "|| Nour Ibrahim, et al. -- incl., <mark>Claire L. Davies</mark> |\n",
       "|*Appeared on*| *2023-02-14*|\n",
       "|*Comments*| *20 pages, 9 figures*|\n",
       "|**Abstract**| Inner regions of protoplanetary disks host many complex physical processes such as star-disk interactions, magnetic fields, planet formation, and the migration of new planets. To directly study this region requires milli-arcsecond angular resolution, beyond the diffraction limit of the world's largest optical telescopes and even too small for the mm-wave interferometer ALMA. However, we can use infrared interferometers to image the inner astronomical unit. Here, we present new results from the CHARA and VLTI arrays for the young and luminous Herbig Be star HD 190073. We detect a sub-AU cavity surrounded by a ring-like structure that we interpret as the dust destruction front. We model the shape with 6 radial profiles, 3 symmetric and 3 asymmetric, and present a model-free image reconstruction. All the models are consistent with a near face-on disk with inclination $\\lesssim 20^\\circ$, and we measure an average ring radius of 1.4 $\\pm 0.2$ mas (1.14 AU). Around $48\\%$ of the total flux comes from the disk with ~$15\\%$ of that emission appearing to emerge from inside the inner rim. The cause of emission is still unclear, perhaps due to different dust grain compositions or gas emission. The skewed models and the imaging point to an off-center star, possibly due to binarity. Our image shows a sub-AU structure, which seems to move between the two epochs inconsistently with Keplerian motion and we discuss possible explanations for this apparent change. |\n",
       "|<p style=\"color:green\"> **ERROR** </p>| <p style=\"color:green\">affiliation error: mpia.affiliation_verifications: 'Heidelberg' keyword not found.</p> |"
      ],
      "text/plain": [
       "<IPython.core.display.Markdown object>"
      ]
     },
     "metadata": {},
     "output_type": "display_data"
    },
    {
     "data": {
      "text/markdown": [
       "\n",
       "|||\n",
       "|---:|:---|\n",
       "| [![arXiv](https://img.shields.io/badge/arXiv-arXiv:2302.06508-b31b1b.svg)](https://arxiv.org/abs/arXiv:2302.06508) | **Scattered polarized radiation of extrasolar circumplanetary rings**  |\n",
       "|| <mark>M. Lietzow</mark>, S. Wolf |\n",
       "|*Appeared on*| *2023-02-14*|\n",
       "|*Comments*| *Accepted for publication in Astronomy & Astrophysics. 12 pages, 12 figures*|\n",
       "|**Abstract**| We have investigated the impact of circumplanetary rings consisting of spherical micrometer-sized particles on the net scattered light polarization of extrasolar gas giants. Using the three-dimensional Monte Carlo radiative transfer code POLARIS, we studied the impact of the macroscopic parameters that define the ring, such as its radius and inclination, and the chemical composition of the ring particles on the net scattered polarization. For the spherical ring particles, we applied the Mie scattering theory. We studied the flux and polarization of the scattered stellar radiation as a function of planetary phase angle and wavelength from the optical to the near-infrared. For the chosen grain size distribution, the dust particles in the ring show strong forward scattering at the considered wavelengths. Thus, the reflected flux of the planet dominates the total reflected and polarized flux at small phase angles. However, the scattered and polarized flux of the ring increase at large phase angles and exceeds the total reflected planetary flux. For large rings that contain silicate particles, the total reflected flux is dominated by the radiation scattered by the dust in the ring at all phase angles. As a result, the orientation of polarization is parallel to the scattering plane at small phase angles. In contrast, for a ring that contains water ice particles, the orientation of polarization is parallel to the scattering plane at large phase angles. Depending on the ring inclination and orientation, the total reflected and polarized flux show a specific distribution as well. Large particles show a strong polarization at large phase angles compared to smaller particles. For a Jupiter-like atmosphere that contains methane and aerosols, methane absorption features are missing in the spectrum of a ringed planet. |\n",
       "|<p style=\"color:green\"> **ERROR** </p>| <p style=\"color:green\">affiliation error: mpia.affiliation_verifications: 'Heidelberg' keyword not found.</p> |"
      ],
      "text/plain": [
       "<IPython.core.display.Markdown object>"
      ]
     },
     "metadata": {},
     "output_type": "display_data"
    },
    {
     "data": {
      "text/markdown": [
       "\n",
       "|||\n",
       "|---:|:---|\n",
       "| [![arXiv](https://img.shields.io/badge/arXiv-arXiv:2302.06524-b31b1b.svg)](https://arxiv.org/abs/arXiv:2302.06524) | **On cosmological Inflation In Palatini $F(R,φ)$ Gravity**  |\n",
       "|| <mark>Mahmoud AlHallak</mark> |\n",
       "|*Appeared on*| *2023-02-14*|\n",
       "|*Comments*| *6 pages, 1 figure, 3 tables. Contribution to: 2nd Electronic Conference on Universe*|\n",
       "|**Abstract**| Single field inflationary models are investigated within Palatini quadratic gravity represented by $R+\\alpha R^2$ along with a non-minimal coupling of the form $f(\\phi) R$ between the inflaton field $\\phi$ and the gravity. The treatment is performed in the Einstein frame, where the minimal coupling to gravity is recovered through conformal transformation. We consider various limits of the model with different inflationary scenarios characterized as canonical slow-roll inflation in the limit $\\alpha \\dot{\\phi}^2\\ll (1+f(\\phi)) $, constant-roll k-inflation for $\\alpha \\ll 1$, and slow-roll K-inflation for$ \\alpha \\gg 1$ . A cosine and exponential potential are examined with the limits mentioned above and different well-motivated non-minimal couplings to gravity. We compare the theoretical results, exemplified by the tensor-to-scalar $r$ ratio and spectral index $n_s$, with the recent observational results of Planck 2018 $\\&$ BICEP/Keck . Furthermore, we include the results of a new study forecast precision with which $n_s$ and $r$ can be constrained by currently envisaged observations, including CMB (Simons Observatory, CMB-S4, and LiteBIRD) |\n",
       "|<p style=\"color:green\"> **ERROR** </p>| <p style=\"color:green\">affiliation error: mpia.affiliation_verifications: 'Heidelberg' keyword not found.</p> |"
      ],
      "text/plain": [
       "<IPython.core.display.Markdown object>"
      ]
     },
     "metadata": {},
     "output_type": "display_data"
    },
    {
     "data": {
      "text/markdown": [
       "\n",
       "|||\n",
       "|---:|:---|\n",
       "| [![arXiv](https://img.shields.io/badge/arXiv-arXiv:2302.06530-b31b1b.svg)](https://arxiv.org/abs/arXiv:2302.06530) | **Reanalysis of the spin direction distribution of Galaxy Zoo SDSS spiral  galaxies**  |\n",
       "|| Darius McAdam, <mark>Lior Shamir</mark> |\n",
       "|*Appeared on*| *2023-02-14*|\n",
       "|*Comments*| *Advances in Astronomy, accepted*|\n",
       "|**Abstract**| The distribution of the spin directions of spiral galaxies in the Sloan Digital Sky Survey has been a topic of debate in the past two decades, with conflicting conclusions reported even in cases where the same data was used. Here we follow one of the previous experiments by applying the SpArcFiRe algorithm to annotate the spin directions in original dataset of Galaxy Zoo 1. The annotation of the galaxy spin directions is done after a first step of selecting the spiral galaxies in three different manners: manual analysis by Galaxy Zoo classifications, by a model-driven computer analysis, and with no selection of spiral galaxies. The results show that when spiral galaxies are selected by Galaxy Zoo volunteers, the distribution of their spin directions as determined by SpArcFiRe is not random, which agrees with previous reports. When selecting the spiral galaxies using a model-driven computer analysis or without selecting the spiral galaxies at all, the distribution is also not random. Simple binomial distribution analysis shows that the probability of the parity violation to occur by chance is lower than 0.01. Fitting the spin directions as observed from Earth to cosine dependence exhibits a dipole axis with statistical strength of 2.33$\\sigma$ to 3.97$\\sigma$. These experiments show that regardless of the selection mechanism and the analysis method, all experiments show similar conclusions. These results are aligned with previous reports using other methods and telescopes, suggesting that the spin directions of spiral galaxies as observed from Earth exhibit a dipole axis formed by their spin directions. Possible explanations can be related to the large-scale structure of the Universe, or to internal structure of galaxies. The catalogs of annotated galaxies generated as part of this study are available. |\n",
       "|<p style=\"color:green\"> **ERROR** </p>| <p style=\"color:green\">affiliation error: mpia.affiliation_verifications: 'Heidelberg' keyword not found.</p> |"
      ],
      "text/plain": [
       "<IPython.core.display.Markdown object>"
      ]
     },
     "metadata": {},
     "output_type": "display_data"
    },
    {
     "data": {
      "text/markdown": [
       "\n",
       "|||\n",
       "|---:|:---|\n",
       "| [![arXiv](https://img.shields.io/badge/arXiv-arXiv:2302.05718-b31b1b.svg)](https://arxiv.org/abs/arXiv:2302.05718) | **Synergies between Venus & Exoplanetary Observations**  |\n",
       "|| M.J. Way, et al. -- incl., <mark>Helmut Lammer</mark>, <mark>Joseph O'Rourke</mark> |\n",
       "|*Appeared on*| *2023-02-14*|\n",
       "|*Comments*| *90 pages, 14 figures, Part of the collection \"Venus: Evolution Through Time\" this https URL*|\n",
       "|**Abstract**| In this chapter we examine how our knowledge of present day Venus can inform terrestrial exoplanetary science and how exoplanetary science can inform our study of Venus. In a superficial way the contrasts in knowledge appear stark. We have been looking at Venus for millennia and studying it via telescopic observations for centuries. Spacecraft observations began with Mariner 2 in 1962 when we confirmed that Venus was a hothouse planet, rather than the tropical paradise science fiction pictured. As long as our level of exploration and understanding of Venus remains far below that of Mars, major questions will endure. On the other hand, exoplanetary science has grown leaps and bounds since the discovery of Pegasus 51b in 1995, not too long after the golden years of Venus spacecraft missions came to an end with the Magellan Mission in 1994. Multi-million to billion dollar/euro exoplanet focused spacecraft missions such as JWST, and its successors will be flown in the coming decades. At the same time, excitement about Venus exploration is blooming again with a number of confirmed and proposed missions in the coming decades from India, Russia, Japan, the European Space Agency and the National Aeronautics and Space Administration. In this chapter, we review what is known and what we may discover tomorrow in complementary studies of Venus and its exoplanetary cousins. |\n",
       "|<p style=\"color:green\"> **ERROR** </p>| <p style=\"color:green\">affiliation error: mpia.affiliation_verifications: 'Max' keyword not found.</p> |"
      ],
      "text/plain": [
       "<IPython.core.display.Markdown object>"
      ]
     },
     "metadata": {},
     "output_type": "display_data"
    },
    {
     "data": {
      "text/markdown": [
       "\n",
       "|||\n",
       "|---:|:---|\n",
       "| [![arXiv](https://img.shields.io/badge/arXiv-arXiv:2302.05613-b31b1b.svg)](https://arxiv.org/abs/arXiv:2302.05613) | **KMT-2021-BLG-1122L: The first microlensing triple stellar system**  |\n",
       "|| Cheongho Han, et al. -- incl., <mark>Andrew Gould</mark>, <mark>Chung-Uk Lee</mark>, <mark>Seung-Lee Kim</mark>, <mark>Dong-Joo Lee</mark>, <mark>Yongseok Lee</mark> |\n",
       "|*Appeared on*| *2023-02-14*|\n",
       "|*Comments*| *8 pages, 7 figures, 2 tables*|\n",
       "|**Abstract**| We systematically inspect the microlensing data acquired by the KMTNet survey during the previous seasons in order to find anomalous lensing events for which the anomalies in the lensing light curves cannot be explained by the usual binary-lens or binary-source interpretations. From the inspection, we find that interpreting the three lensing events OGLE-2018-BLG-0584, KMT-2018-BLG-2119, and KMT-2021-BLG-1122 requires four-body (lens+source) models, in which either both the lens and source are binaries (2L2S event) or the lens is a triple system (3L1S event). Following the analyses of the 2L2S events presented in \\citet{Han2023}, here we present the 3L1S analysis of the KMT-2021-BLG-1122. It is found that the lens of the event KMT-2021-BLG-1122 is composed of three masses, in which the projected separations (normalized to the angular Einstein radius) and mass ratios between the lens companions and the primary are $(s_2, q_2)\\sim (1.4, 0.53)$ and $(s_3, q_3) \\sim (1.6, 0.24)$. By conducting a Bayesian analysis, we estimate that the masses of the individual lens components are $(M_1, M_2, M_3)\\sim (0.47\\,M_\\odot, 0.24\\,M_\\odot, 0.11\\,M_\\odot)$. The companions are separated in projection from the primary by $(a_{\\perp,2}, a_{\\perp,3})\\sim (3.5, 4.0)$~AU. The lens of KMT-2018-BLG-2119 is the first triple stellar system detected via microlensing. |\n",
       "|<p style=\"color:red\"> **ERROR** </p>| <p style=\"color:red\">latex error [Errno 2] No such file or directory: 'gs'</p> |"
      ],
      "text/plain": [
       "<IPython.core.display.Markdown object>"
      ]
     },
     "metadata": {},
     "output_type": "display_data"
    },
    {
     "data": {
      "text/markdown": [
       "\n",
       "|||\n",
       "|---:|:---|\n",
       "| [![arXiv](https://img.shields.io/badge/arXiv-arXiv:2302.05468-b31b1b.svg)](https://arxiv.org/abs/arXiv:2302.05468) | **Carbonaceous dust grains within galaxies seen in the first billion years  of cosmic time**  |\n",
       "|| Joris Witstok, et al. -- incl., <mark>Anna de Graaff</mark> |\n",
       "|*Appeared on*| *2023-02-14*|\n",
       "|*Comments*| *27 pages, 7 figures. Submitted*|\n",
       "|**Abstract**| Interstellar dust captures a significant fraction of elements heavier than helium in the solid state and is an indispensable component both in theory and observations of galaxy evolution. Dust emission is generally the primary coolant of the interstellar medium (ISM) and facilitates the gravitational collapse and fragmentation of gas clouds from which stars form, while altering the emission spectrum of galaxies from ultraviolet (UV) to far-infrared wavelengths through the reprocessing of starlight. However, the astrophysical origin of various types of dust grains remains an open question, especially in the early Universe. Here we report direct evidence for the presence of carbonaceous grains from the detection of the broad UV absorption feature around $2175 \\, \\mathring{\\rm A}$ in deep near-infrared spectra of galaxies up to the first billion years of cosmic time, at a redshift ($z$) of $\\sim 7$. This dust attenuation feature has previously only been observed spectroscopically in older, more evolved galaxies at redshifts of $z < 3$. The carbonaceous grains giving rise to this feature are often thought to be produced on timescales of hundreds of millions of years by asymptotic giant branch (AGB) stars. Our results suggest a more rapid production scenario, likely in supernova (SN) ejecta. |\n",
       "|<p style=\"color:red\"> **ERROR** </p>| <p style=\"color:red\">latex error not a gzip file</p> |"
      ],
      "text/plain": [
       "<IPython.core.display.Markdown object>"
      ]
     },
     "metadata": {},
     "output_type": "display_data"
    },
    {
     "data": {
      "text/markdown": [
       "\n",
       "|||\n",
       "|---:|:---|\n",
       "| [![arXiv](https://img.shields.io/badge/arXiv-arXiv:2302.05920-b31b1b.svg)](https://arxiv.org/abs/arXiv:2302.05920) | **Three-stage Collapse of the Long Gamma-Ray Burst from GRB 160625B Prompt  Multiwavelength Observations**  |\n",
       "|| <mark>V. M. Lipunov</mark>, et al. -- incl., <mark>G. V. Lipunova</mark> |\n",
       "|*Appeared on*| *2023-02-14*|\n",
       "|*Comments*| *22 pages, 12 figures, 4 tables, accepted for publication in ApJ*|\n",
       "|**Abstract**| This article presents the early results of synchronous multiwavelength observations of one of the brightest gamma-ray bursts (GRBs) GRB 160625B with the detailed continuous fast optical photometry of its optical counterpart obtained by MASTER and with hard X-ray and gamma-ray emission, obtained by the Lomonosov and Konus-Wind spacecraft. The detailed photometry led us to detect the quasi-periodical emission components in the intrinsic optical emission. As a result of our analysis of synchronous multiwavelength observations, we propose a three-stage collapse scenario for this long and bright GRB. We suggest that quasiperiodic fluctuations may be associated with forced precession of a self-gravitating rapidly rotating superdense body (spinar), whose evolution is determined by a powerful magnetic field. The spinar's mass allows it to collapse into a black hole at the end of evolution. |\n",
       "|<p style=\"color:red\"> **ERROR** </p>| <p style=\"color:red\">latex error not a gzip file</p> |"
      ],
      "text/plain": [
       "<IPython.core.display.Markdown object>"
      ]
     },
     "metadata": {},
     "output_type": "display_data"
    },
    {
     "data": {
      "text/markdown": [
       "\n",
       "|||\n",
       "|---:|:---|\n",
       "| [![arXiv](https://img.shields.io/badge/arXiv-arXiv:2302.05924-b31b1b.svg)](https://arxiv.org/abs/arXiv:2302.05924) | **Orphan optical flare as SOSS emission afterglow, localization in time**  |\n",
       "|| <mark>V. Lipunov</mark>, et al. |\n",
       "|*Appeared on*| *2023-02-14*|\n",
       "|*Comments*| *8 pages, 5 figures, accepted for publication in MNRAS*|\n",
       "|**Abstract**| We report on MASTER optical observations of an afterglow-like optical and X-ray transient AT2021lfa/ZTF21aayokph. We detected the initial steady brightening of the transient at 7{\\sigma} confidence level. This allowed us to use smooth optical self-similar emission of GRBs model to constrain the explosion time to better than 14 min as well as to estimate its initial Lorentz factor {\\Gamma}0 = 20 +/- 10. Taking into consideration the low {\\Gamma}0 and non-detection in gamma-rays, we classify this transient as the first failed GRB afterglow. |\n",
       "|<p style=\"color:red\"> **ERROR** </p>| <p style=\"color:red\">latex error not a gzip file</p> |"
      ],
      "text/plain": [
       "<IPython.core.display.Markdown object>"
      ]
     },
     "metadata": {},
     "output_type": "display_data"
    }
   ],
   "source": [
    "import datetime\n",
    "today = str(datetime.date.today())\n",
    "logfile = f\"_build/html/logs/log-{today}.md\"\n",
    "\n",
    "\n",
    "with open(logfile, 'w') as logs:\n",
    "    # Success\n",
    "    logs.write(f'# Arxiv on Deck 2: Logs - {today}\\n\\n')\n",
    "    logs.write(\"\"\"* Arxiv had {0:,d} new papers\\n\"\"\".format(len(new_papers)))\n",
    "    logs.write(\"\"\"    * {0:,d} with possible author matches\\n\\n\"\"\".format(len(candidates)))\n",
    "    logs.write(\"## Sucessful papers\\n\\n\")\n",
    "    display(Markdown(\"## Successful papers\"))\n",
    "    success = [k[0] for k in documents]\n",
    "    for candid in candidates:\n",
    "        if candid['identifier'].split(':')[-1] in success:\n",
    "            display(candid)\n",
    "            logs.write(candid.generate_markdown_text() + '\\n\\n')\n",
    "\n",
    "    ## failed\n",
    "    logs.write(\"## Failed papers\\n\\n\")\n",
    "    display(Markdown(\"## Failed papers\"))\n",
    "    failed = sorted(failed, key=lambda x: x[1])\n",
    "    current_reason = \"\"\n",
    "    for paper, reason in failed:\n",
    "        if 'affiliation' in reason:\n",
    "            color = 'green'\n",
    "        else:\n",
    "            color = 'red'\n",
    "        data = Markdown(\n",
    "                paper.generate_markdown_text() + \n",
    "                f'\\n|<p style=\"color:{color:s}\"> **ERROR** </p>| <p style=\"color:{color:s}\">{reason:s}</p> |'\n",
    "               )\n",
    "        if reason != current_reason:\n",
    "            logs.write(f'### {reason:s} \\n\\n')\n",
    "            current_reason = reason\n",
    "        logs.write(data.data + '\\n\\n')\n",
    "        \n",
    "        # only display here the important errors (all in logs)\n",
    "        # if color in ('red',):\n",
    "        display(data)"
   ]
  },
  {
   "cell_type": "markdown",
   "id": "472d20ee",
   "metadata": {
    "papermill": {
     "duration": 0.010988,
     "end_time": "2023-02-14T04:11:50.819211",
     "exception": false,
     "start_time": "2023-02-14T04:11:50.808223",
     "status": "completed"
    },
    "tags": []
   },
   "source": [
    "## Export documents\n",
    "\n",
    "We now write the .md files and export relevant images"
   ]
  },
  {
   "cell_type": "code",
   "execution_count": 7,
   "id": "d426aed9",
   "metadata": {
    "execution": {
     "iopub.execute_input": "2023-02-14T04:11:50.843278Z",
     "iopub.status.busy": "2023-02-14T04:11:50.842830Z",
     "iopub.status.idle": "2023-02-14T04:11:50.849928Z",
     "shell.execute_reply": "2023-02-14T04:11:50.849345Z"
    },
    "papermill": {
     "duration": 0.020882,
     "end_time": "2023-02-14T04:11:50.851464",
     "exception": false,
     "start_time": "2023-02-14T04:11:50.830582",
     "status": "completed"
    },
    "tags": []
   },
   "outputs": [],
   "source": [
    "def export_markdown_summary(md: str, md_fname:str, directory: str):\n",
    "    \"\"\"Export MD document and associated relevant images\"\"\"\n",
    "    import os\n",
    "    import shutil\n",
    "    import re\n",
    "\n",
    "    if (os.path.exists(directory) and not os.path.isdir(directory)):\n",
    "        raise RuntimeError(f\"a non-directory file exists with name {directory:s}\")\n",
    "\n",
    "    if (not os.path.exists(directory)):\n",
    "        print(f\"creating directory {directory:s}\")\n",
    "        os.mkdir(directory)\n",
    "\n",
    "    fig_fnames = (re.compile(r'\\[Fig.*\\]\\((.*)\\)').findall(md) + \n",
    "                  re.compile(r'\\<img src=\"([^>\\s]*)\"[^>]*/>').findall(md))\n",
    "    for fname in fig_fnames:\n",
    "        if 'http' in fname:\n",
    "            # No need to copy online figures\n",
    "            continue\n",
    "        destdir = os.path.join(directory, os.path.dirname(fname))\n",
    "        destfname = os.path.join(destdir, os.path.basename(fname))\n",
    "        try:\n",
    "            os.makedirs(destdir)\n",
    "        except FileExistsError:\n",
    "            pass\n",
    "        shutil.copy(fname, destfname)\n",
    "    with open(os.path.join(directory, md_fname), 'w') as fout:\n",
    "        fout.write(md)\n",
    "    print(\"exported in \", os.path.join(directory, md_fname))\n",
    "    [print(\"    + \" + os.path.join(directory,fk)) for fk in fig_fnames]"
   ]
  },
  {
   "cell_type": "code",
   "execution_count": 8,
   "id": "014d04a4",
   "metadata": {
    "execution": {
     "iopub.execute_input": "2023-02-14T04:11:50.874557Z",
     "iopub.status.busy": "2023-02-14T04:11:50.874007Z",
     "iopub.status.idle": "2023-02-14T04:11:50.885912Z",
     "shell.execute_reply": "2023-02-14T04:11:50.885293Z"
    },
    "papermill": {
     "duration": 0.024919,
     "end_time": "2023-02-14T04:11:50.887356",
     "exception": false,
     "start_time": "2023-02-14T04:11:50.862437",
     "status": "completed"
    },
    "tags": []
   },
   "outputs": [
    {
     "name": "stdout",
     "output_type": "stream",
     "text": [
      "exported in  _build/html/2302.05465.md\n",
      "    + _build/html/tmp_2302.05465/./figures/luminosity-redshift_updated.jpg\n",
      "    + _build/html/tmp_2302.05465/./figures/new_spectra_prospector_4x2.jpg\n",
      "    + _build/html/tmp_2302.05465/./figures/logsSFR_MWA_newanalysis_fullsample_annotated_new.jpg\n",
      "exported in  _build/html/2302.05694.md\n",
      "    + _build/html/tmp_2302.05694/./RV_model_sep22.jpg\n",
      "    + _build/html/tmp_2302.05694/./RV_model_sep22_ph_pl1.jpg\n",
      "    + _build/html/tmp_2302.05694/./RV_model_sep22_ph_pl2.jpg\n",
      "    + _build/html/tmp_2302.05694/./out_TOI2525_TTVs_dynNS_SEP_22_4_out_1a.png\n",
      "    + _build/html/tmp_2302.05694/./RaMa_Teq.jpg\n",
      "    + _build/html/tmp_2302.05694/./RaMa_pho.jpg\n"
     ]
    }
   ],
   "source": [
    "for paper_id, md in documents:\n",
    "    export_markdown_summary(md, f\"{paper_id:s}.md\", '_build/html/')"
   ]
  },
  {
   "cell_type": "markdown",
   "id": "f087a0a7",
   "metadata": {
    "papermill": {
     "duration": 0.010857,
     "end_time": "2023-02-14T04:11:50.909154",
     "exception": false,
     "start_time": "2023-02-14T04:11:50.898297",
     "status": "completed"
    },
    "tags": []
   },
   "source": [
    "## Display the papers\n",
    "\n",
    "Not necessary but allows for a quick check."
   ]
  },
  {
   "cell_type": "code",
   "execution_count": 9,
   "id": "fd25f625",
   "metadata": {
    "execution": {
     "iopub.execute_input": "2023-02-14T04:11:50.959089Z",
     "iopub.status.busy": "2023-02-14T04:11:50.958413Z",
     "iopub.status.idle": "2023-02-14T04:11:50.964706Z",
     "shell.execute_reply": "2023-02-14T04:11:50.964088Z"
    },
    "papermill": {
     "duration": 0.046005,
     "end_time": "2023-02-14T04:11:50.966169",
     "exception": false,
     "start_time": "2023-02-14T04:11:50.920164",
     "status": "completed"
    },
    "scrolled": false,
    "tags": []
   },
   "outputs": [
    {
     "data": {
      "text/markdown": [
       "<div class=\"macros\" style=\"visibility:hidden;\">\n",
       "$\\newcommand{\\ensuremath}{}$\n",
       "$\\newcommand{\\xspace}{}$\n",
       "$\\newcommand{\\object}[1]{\\texttt{#1}}$\n",
       "$\\newcommand{\\farcs}{{.}''}$\n",
       "$\\newcommand{\\farcm}{{.}'}$\n",
       "$\\newcommand{\\arcsec}{''}$\n",
       "$\\newcommand{\\arcmin}{'}$\n",
       "$\\newcommand{\\ion}[2]{#1#2}$\n",
       "$\\newcommand{\\textsc}[1]{\\textrm{#1}}$\n",
       "$\\newcommand{\\hl}[1]{\\textrm{#1}}$\n",
       "$\\newcommand{\\vdag}{(v)^\\dagger}$\n",
       "$\\newcommand$\n",
       "$\\newcommand$\n",
       "$\\newcommand{\\NU}{\\affiliation{Center for Interdisciplinary Exploration and Research in Astrophysics (CIERA) and Department of Physics and Astronomy, Northwestern University, Evanston, IL 60208, USA}}$\n",
       "$\\newcommand{\\Purdue}{\\affiliation{Purdue University,$\n",
       "$Department of Physics and Astronomy, 525 Northwestern Avenue, West Lafayette, IN 47907, USA}}$\n",
       "$\\newcommand{\\CfA}{\\affiliation{Center for Astrophysics\\:|\\:Harvard \\& Smithsonian, 60 Garden St. Cambridge, MA 02138, USA}}$\n",
       "$\\newcommand{\\UCSC}{\\affiliation{Department of Astronomy and Astrophysics, University of California, Santa Cruz, CA 95064, USA}}$\n",
       "$\\newcommand{\\IS}{\\affiliation{Centre for Astrophysics and Cosmology, Science Institute, University of Iceland, Dunhagi 5, 107 Reykjav\\'ik, Iceland}}$\n",
       "$\\newcommand{\\DAWN}{\\affiliation{Cosmic Dawn Center (DAWN), Niels Bohr Institute, University of Copenhagen, Jagtvej 128, 2100 Copenhagen \\O, Denmark}}$\n",
       "$\\newcommand{\\PUCV}{\\affiliation{Instituto de F\\'isica, Pontificia Universidad Cat\\'olica de Valpara\\'iso, Casilla 4059, Valpara\\'iso, Chile}}$\n",
       "$\\newcommand{\\IPMU}{\\affiliation{Kavli Institute for the Physics and Mathematics of the Universe (Kavli IPMU), 5-1-5 Kashiwanoha, Kashiwa, 277-8583, Japan}}$\n",
       "$\\newcommand{\\PSU}{\\affiliation{Department of Astronomy \\& Astrophysics, The Pennsylvania State University, University Park, PA 16802, USA}}$\n",
       "$\\newcommand{\\ICDS}{\\affiliation{Institute for Computational \\& Data Sciences, The Pennsylvania State University, University Park, PA, USA}}$\n",
       "$\\newcommand{\\IGC}{\\affiliation{Institute for Gravitation and the Cosmos, The Pennsylvania State University, University Park, PA 16802, USA}}$\n",
       "$\\newcommand{\\Swin}{\\affiliation{ Centre for Astrophysics and Supercomputing, Swinburne University of Technology, Hawthorn, VIC, 3122, Australia}}$\n",
       "$\\newcommand{\\Curtin}{\\affiliation{ International Centre for Radio Astronomy Research, Curtin University, Bentley, WA 6102, Australia}}$\n",
       "$\\newcommand{\\MQ}{\\affiliation{School of Mathematical and Physical Sciences, Macquarie University, NSW 2109, Australia}}$\n",
       "$\\newcommand{\\MQAAAstro}{\\affiliation{Macquarie University Research Centre for Astronomy, Astrophysics \\& Astrophotonics, Sydney, NSW 2109, Australia}}$\n",
       "$\\newcommand{\\CSIRO}{\\affiliation{CSIRO, Space and Astronomy, PO Box 76, Epping NSW 1710 Australia}}$\n",
       "$\\newcommand{\\KICP}{\\affiliation{Kavli Institute for Cosmological Physics, The University of Chicago, 5640 South Ellis Avenue, Chicago, IL 60637, USA}}$\n",
       "$\\newcommand{\\UA}{\\affiliation{University of Arizona, Steward Observatory, 933~N.~Cherry~Ave., Tucson, AZ 85721, USA}}$\n",
       "$\\newcommand{\\EFI}{\\affiliation{Enrico Fermi Institute, The University of Chicago, 933 East 56th Street, Chicago, IL 60637, USA}}$\n",
       "$\\newcommand{\\mpia}{\\affiliation{Max-Planck-Institut f\\\"{u}r Astronomie (MPIA), K\\\"{o}nigstuhl 17, 69117 Heidelberg, Germany}}$\n",
       "$\\newcommand{\\GWU}{\\affiliation{Department of Physics, The George Washington University, Washington, DC 20052, USA}}$\n",
       "$\\newcommand{\\UCB}{\\affiliation{Department of Astronomy, University of California, Berkeley, CA 94720-3411, USA}}$\n",
       "$\\newcommand{\\RU}{\\affiliation{Department of Astrophysics/IMAPP, Radboud University, PO Box 9010,$\n",
       "$6500 GL, The Netherlands}}$\n",
       "$\\newcommand{\\LJMU}{\\affiliation{Astrophysics Research Institute, Liverpool John Moores University, IC2, Liverpool Science Park, 146 Brownlow Hill, Liverpool L3 5RF, UK}}$\n",
       "$\\newcommand{\\LU}{\\affiliation{School of Physics and Astronomy, University of Leicester, University Road, Leicester. LE1 7RH, UK}}$\n",
       "$\\newcommand{\\ARC}{\\affiliation{ARC Centre of Excellence for All-Sky Astrophysics in 3 Dimensions (ASTRO 3D), Australia}}$\n",
       "$\\newcommand{\\ASTRON}{\\affiliation{ASTRON, Netherlands Institute for Radio Astronomy, Oude Hoogeveensedijk 4, 7991 PD Dwingeloo, The Netherlands}}$\n",
       "$\\newcommand{\\VLBI}{\\affiliation{Joint institute for VLBI ERIC, Oude Hoogeveensedijk 4, 7991 PD Dwingeloo, The Netherlands$\n",
       "$}}$\n",
       "$\\newcommand{\\Anton}{\\affiliation{Anton Pannekoek Institute for Astronomy, University of Amsterdam, Science Park 904, 1098 XH, Amsterdam, The Netherlands}}$\n",
       "$\\newcommand{\\Manchester}{\\affiliation{Department of Physics and Astronomy, University of Manchester, Oxford Road, M13 9PL, UK}}$\n",
       "$\\newcommand{\\McGill}{\\affiliation{Department of Physics, McGill University, Montreal, Quebec H3A 2T8, Canada$\n",
       "$}}$\n",
       "$\\newcommand{\\ICRAR}{\\affiliation{International Centre for Radio Astronomy Research (ICRAR), Curtin University, Bentley, WA 6102, Australia}}$\n",
       "$\\newcommand{\\SIA}{\\affiliation{Sydney Institute for Astronomy, School of Physics A28, University of Sydney, NSW 2006, Australia}}$\n",
       "$\\newcommand{\\NAOJ}{\\affiliation{Division of Science, National Astronomical Observatory of Japan,2-21-1 Osawa, Mitaka, Tokyo 181-8588, Japan}}$\n",
       "$\\newcommand{\\MPIA}{\\affiliation{Max-Planck-Institut f\\\"ur Astronomie, K\\\"onigstuhl 17, 69117 Heidelberg, Germany}}$\n",
       "$\\newcommand{\\thefigure}{\\arabic{figure} (Cont.)}$\n",
       "$\\newcommand{\\thefigure}{\\arabic{figure}}$</div>\n",
       "\n",
       "<div class=\"macros\" style=\"visibility:hidden;\">\n",
       "$\\newcommand{$\\ensuremath$}{}$\n",
       "$\\newcommand{$\\xspace$}{}$\n",
       "$\\newcommand{$\\object$}[1]{\\texttt{#1}}$\n",
       "$\\newcommand{$\\farcs$}{{.}''}$\n",
       "$\\newcommand{$\\farcm$}{{.}'}$\n",
       "$\\newcommand{$\\arcsec$}{''}$\n",
       "$\\newcommand{$\\arcmin$}{'}$\n",
       "$\\newcommand{$\\ion$}[2]{#1#2}$\n",
       "$\\newcommand{$\\textsc$}[1]{\\textrm{#1}}$\n",
       "$\\newcommand{$\\hl$}[1]{\\textrm{#1}}$\n",
       "$\\newcommand{$\\vdag$}{(v)^\\dagger}$\n",
       "$\\newcommand$\n",
       "$\\newcommand$\n",
       "$\\newcommand{$\\NU$}{\\affiliation{Center for Interdisciplinary Exploration and Research in Astrophysics (CIERA) and Department of Physics and Astronomy, Northwestern University, Evanston, IL 60208, USA}}$\n",
       "$\\newcommand{\\Purdue}{\\affiliation{Purdue University,$\n",
       "$Department of Physics and Astronomy, 525 Northwestern Avenue, West Lafayette, IN 47907, USA}}$\n",
       "$\\newcommand{$\\CfA$}{\\affiliation{Center for Astrophysics\\:|\\:Harvard \\& Smithsonian, 60 Garden St. Cambridge, MA 02138, USA}}$\n",
       "$\\newcommand{$\\UCSC$}{\\affiliation{Department of Astronomy and Astrophysics, University of California, Santa Cruz, CA 95064, USA}}$\n",
       "$\\newcommand{$\\IS$}{\\affiliation{Centre for Astrophysics and Cosmology, Science Institute, University of Iceland, Dunhagi 5, 107 Reykjav\\'ik, Iceland}}$\n",
       "$\\newcommand{$\\DAWN$}{\\affiliation{Cosmic Dawn Center (DAWN), Niels Bohr Institute, University of Copenhagen, Jagtvej 128, 2100 Copenhagen \\O, Denmark}}$\n",
       "$\\newcommand{$\\PUCV$}{\\affiliation{Instituto de F\\'isica, Pontificia Universidad Cat\\'olica de Valpara\\'iso, Casilla 4059, Valpara\\'iso, Chile}}$\n",
       "$\\newcommand{$\\IPMU$}{\\affiliation{Kavli Institute for the Physics and Mathematics of the Universe (Kavli IPMU), 5-1-5 Kashiwanoha, Kashiwa, 277-8583, Japan}}$\n",
       "$\\newcommand{$\\PSU$}{\\affiliation{Department of Astronomy \\& Astrophysics, The Pennsylvania State University, University Park, PA 16802, USA}}$\n",
       "$\\newcommand{$\\ICDS$}{\\affiliation{Institute for Computational \\& Data Sciences, The Pennsylvania State University, University Park, PA, USA}}$\n",
       "$\\newcommand{$\\IGC$}{\\affiliation{Institute for Gravitation and the Cosmos, The Pennsylvania State University, University Park, PA 16802, USA}}$\n",
       "$\\newcommand{$\\Swin$}{\\affiliation{ Centre for Astrophysics and Supercomputing, Swinburne University of Technology, Hawthorn, VIC, 3122, Australia}}$\n",
       "$\\newcommand{$\\Curtin$}{\\affiliation{ International Centre for Radio Astronomy Research, Curtin University, Bentley, WA 6102, Australia}}$\n",
       "$\\newcommand{$\\MQ$}{\\affiliation{School of Mathematical and Physical Sciences, Macquarie University, NSW 2109, Australia}}$\n",
       "$\\newcommand{$\\MQ$AAAstro}{\\affiliation{Macquarie University Research Centre for Astronomy, Astrophysics \\& Astrophotonics, Sydney, NSW 2109, Australia}}$\n",
       "$\\newcommand{$\\CSIRO$}{\\affiliation{CSIRO, Space and Astronomy, PO Box 76, Epping NSW 1710 Australia}}$\n",
       "$\\newcommand{$\\KICP$}{\\affiliation{Kavli Institute for Cosmological Physics, The University of Chicago, 5640 South Ellis Avenue, Chicago, IL 60637, USA}}$\n",
       "$\\newcommand{$\\UA$}{\\affiliation{University of Arizona, Steward Observatory, 933~N.~Cherry~Ave., Tucson, AZ 85721, USA}}$\n",
       "$\\newcommand{$\\EFI$}{\\affiliation{Enrico Fermi Institute, The University of Chicago, 933 East 56th Street, Chicago, IL 60637, USA}}$\n",
       "$\\newcommand{$\\mpia$}{\\affiliation{Max-Planck-Institut f\\\"{u}r Astronomie (MPIA), K\\\"{o}nigstuhl 17, 69117 Heidelberg, Germany}}$\n",
       "$\\newcommand{$\\GWU$}{\\affiliation{Department of Physics, The George Washington University, Washington, DC 20052, USA}}$\n",
       "$\\newcommand{$\\UCB$}{\\affiliation{Department of Astronomy, University of California, Berkeley, CA 94720-3411, USA}}$\n",
       "$\\newcommand{\\RU}{\\affiliation{Department of Astrophysics/IMAPP, Radboud University, PO Box 9010,$\n",
       "$6500 GL, The Netherlands}}$\n",
       "$\\newcommand{$\\LJMU$}{\\affiliation{Astrophysics Research Institute, Liverpool John Moores University, IC2, Liverpool Science Park, 146 Brownlow Hill, Liverpool L3 5RF, UK}}$\n",
       "$\\newcommand{$\\LU$}{\\affiliation{School of Physics and Astronomy, University of Leicester, University Road, Leicester. LE1 7RH, UK}}$\n",
       "$\\newcommand{$\\ARC$}{\\affiliation{ARC Centre of Excellence for All-Sky Astrophysics in 3 Dimensions (ASTRO 3D), Australia}}$\n",
       "$\\newcommand{$\\ASTRON$}{\\affiliation{ASTRON, Netherlands Institute for Radio Astronomy, Oude Hoogeveensedijk 4, 7991 PD Dwingeloo, The Netherlands}}$\n",
       "$\\newcommand{\\VLBI}{\\affiliation{Joint institute for VLBI ERIC, Oude Hoogeveensedijk 4, 7991 PD Dwingeloo, The Netherlands$\n",
       "$}}$\n",
       "$\\newcommand{$\\Anton$}{\\affiliation{Anton Pannekoek Institute for Astronomy, University of Amsterdam, Science Park 904, 1098 XH, Amsterdam, The Netherlands}}$\n",
       "$\\newcommand{$\\Manchester$}{\\affiliation{Department of Physics and Astronomy, University of Manchester, Oxford Road, M13 9PL, UK}}$\n",
       "$\\newcommand{\\McGill}{\\affiliation{Department of Physics, McGill University, Montreal, Quebec H3A 2T8, Canada$\n",
       "$}}$\n",
       "$\\newcommand{$\\ICRAR$}{\\affiliation{International Centre for Radio Astronomy Research (ICRAR), Curtin University, Bentley, WA 6102, Australia}}$\n",
       "$\\newcommand{$\\SIA$}{\\affiliation{Sydney Institute for Astronomy, School of Physics A28, University of Sydney, NSW 2006, Australia}}$\n",
       "$\\newcommand{$\\NAOJ$}{\\affiliation{Division of Science, National Astronomical Observatory of Japan,2-21-1 Osawa, Mitaka, Tokyo 181-8588, Japan}}$\n",
       "$\\newcommand{$\\MPIA$}{\\affiliation{Max-Planck-Institut f\\\"ur Astronomie, K\\\"onigstuhl 17, 69117 Heidelberg, Germany}}$\n",
       "$\\newcommand{$\\thefigure$}{\\arabic{figure} (Cont.)}$\n",
       "$\\newcommand{$\\thefigure$}{\\arabic{figure}}$</div>\n",
       "\n",
       "\n",
       "\n",
       "<div id=\"title\">\n",
       "\n",
       "# The Demographics, Stellar Populations, and Star Formation Histories of Fast Radio Burst Host Galaxies: Implications for the Progenitors\n",
       "\n",
       "</div>\n",
       "<div id=\"comments\">\n",
       "\n",
       "[![arXiv](https://img.shields.io/badge/arXiv-2302.05465-b31b1b.svg)](https://arxiv.org/abs/2302.05465)<mark>Appeared on: 2023-02-14</mark> - _50 pages, 32 figures, 6 tables, submitted_\n",
       "\n",
       "</div>\n",
       "<div id=\"authors\">\n",
       "\n",
       "Alexa C. Gordon, et al. -- incl., <mark>Elizabeth K. Mahoney</mark>, <mark>Kerry Paterson</mark>\n",
       "\n",
       "</div>\n",
       "<div id=\"abstract\">\n",
       "\n",
       "**Abstract:** We present a comprehensive catalog of  observations and stellar population properties for 23 highly secure host galaxies of fast radio bursts (FRBs). Our sample comprises six repeating FRBs and 17 apparent non-repeaters. We present 82 new photometric and eight new spectroscopic observations of these hosts. Using stellar population synthesis modeling and employing non-parametric star formation histories (SFHs), we find that FRB hosts have a median stellar mass of$\\approx 10^{9.8} M_{\\odot}$, mass-weighted age of$\\approx 5.2$Gyr, and ongoing star formation rate$\\approx 1.3 M_{\\odot}$yr$^{-1}$but span wide ranges in all properties. Classifying the hosts by degree of star formation, we find that 91\\%(21/23 hosts) are star-forming, one is transitioning, and one is quiescent. The majority trace the star-forming main sequence of galaxies, but at least two FRBs originate in less active environments, both of which are apparent non-repeaters. Across all modeled properties, we find no statistically significant distinction between the hosts of repeaters and non-repeaters. However, the hosts of repeating FRBs generally extend to lower stellar masses, and the hosts of non-repeaters arise in more optically luminous galaxies. Further, the four galaxies with the most clear and prolonged rises in their SFHs all host repeating FRBs, demonstrating heightened star formation activity in the last$\\lesssim 100$Myr. Our results support the young magnetar model for most FRBs in which their progenitors formed through core-collapse supernovae, but the presence of some FRBs in less active environments suggests that a fraction form through more delayed channels.\n",
       "\n",
       "</div>\n",
       "\n",
       "<div id=\"div_fig1\">\n",
       "\n",
       "<img src=\"tmp_2302.05465/./figures/luminosity-redshift_updated.jpg\" alt=\"Fig1\" width=\"100%\"/>\n",
       "\n",
       "**Figure 1. -** Luminosity--redshift distribution for all FRB hosts. We denote repeaters by blue stars and non-repeaters by pink squares. We also include FRB hosts from the literature that did not meet our sample criteria as open symbols. (*fig:l-z*)\n",
       "\n",
       "</div>\n",
       "<div id=\"div_fig2\">\n",
       "\n",
       "<img src=\"tmp_2302.05465/./figures/new_spectra_prospector_4x2.jpg\" alt=\"Fig4\" width=\"100%\"/>\n",
       "\n",
       "**Figure 4. -** New spectroscopic observations included in this work from SOAR/Goodman, Keck/DEIMOS, and Keck/LRIS. Major emission and absorption lines are denoted by colored lines: Balmer lines in green, oxygen lines in blue, nitrogen lines in orange, sulphur lines in purple, and calcium lines in pink. The spectra are normalized to the photometry in \\texttt{Prospector}. The \\texttt{Prospector}-derived redshifts are listed in each panel along with the facility/instrument of observation. (*fig:new spectra*)\n",
       "\n",
       "</div>\n",
       "<div id=\"div_fig3\">\n",
       "\n",
       "<img src=\"tmp_2302.05465/./figures/logsSFR_MWA_newanalysis_fullsample_annotated_new.jpg\" alt=\"Fig9\" width=\"100%\"/>\n",
       "\n",
       "**Figure 9. -** log(${\\rm sSFR}_{\\rm 0-100 Myr}$) vs. $t_{\\rm m}$ of FRB host galaxies compared to COSMOS field galaxies for three redshift bins. The parameter space is divided into Star-Forming, Transitioning, and Quiescent following the \\citet{Tacchella+22} classification. Repeaters are denoted by stars and non-repeaters by squares. Both are color-coded by their classification type. Error bars correspond to 68\\% confidence. (*fig:sSFR-MWA*)\n",
       "\n",
       "</div>"
      ],
      "text/plain": [
       "<IPython.core.display.Markdown object>"
      ]
     },
     "metadata": {},
     "output_type": "display_data"
    },
    {
     "data": {
      "text/markdown": [
       "<div class=\"macros\" style=\"visibility:hidden;\">\n",
       "$\\newcommand{\\ensuremath}{}$\n",
       "$\\newcommand{\\xspace}{}$\n",
       "$\\newcommand{\\object}[1]{\\texttt{#1}}$\n",
       "$\\newcommand{\\farcs}{{.}''}$\n",
       "$\\newcommand{\\farcm}{{.}'}$\n",
       "$\\newcommand{\\arcsec}{''}$\n",
       "$\\newcommand{\\arcmin}{'}$\n",
       "$\\newcommand{\\ion}[2]{#1#2}$\n",
       "$\\newcommand{\\textsc}[1]{\\textrm{#1}}$\n",
       "$\\newcommand{\\hl}[1]{\\textrm{#1}}$\n",
       "$\\newcommand{\\tess}{\\emph{TESS}}$\n",
       "$\\newcommand{\\autoref}$\n",
       "$\\newcommand{\\thetable}{A\\arabic{table}}$\n",
       "$\\newcommand{\\thefigure}{A\\arabic{figure}}$\n",
       "$\\newcommand{\\equationautorefname}{Eq.}$\n",
       "$\\newcommand{\\figureautorefname}{Fig.}$\n",
       "$\\newcommand{\\sectionautorefname}{Sect.}$\n",
       "$\\newcommand{\\subsectionautorefname}{Sect.}$\n",
       "$\\newcommand{\\subsubsectionautorefname}{Sect.}$</div>\n",
       "\n",
       "<div class=\"macros\" style=\"visibility:hidden;\">\n",
       "$\\newcommand{$\\ensuremath$}{}$\n",
       "$\\newcommand{$\\xspace$}{}$\n",
       "$\\newcommand{$\\object$}[1]{\\texttt{#1}}$\n",
       "$\\newcommand{$\\farcs$}{{.}''}$\n",
       "$\\newcommand{$\\farcm$}{{.}'}$\n",
       "$\\newcommand{$\\arcsec$}{''}$\n",
       "$\\newcommand{$\\arcmin$}{'}$\n",
       "$\\newcommand{$\\ion$}[2]{#1#2}$\n",
       "$\\newcommand{$\\textsc$}[1]{\\textrm{#1}}$\n",
       "$\\newcommand{$\\hl$}[1]{\\textrm{#1}}$\n",
       "$\\newcommand{$\\tess$}{\\emph{TESS}}$\n",
       "$\\newcommand{$\\autoref$}$\n",
       "$\\newcommand{$\\thetable$}{A\\arabic{table}}$\n",
       "$\\newcommand{$\\thefigure$}{A\\arabic{figure}}$\n",
       "$\\newcommand{$\\equationautorefname$}{Eq.}$\n",
       "$\\newcommand{$\\figureautorefname$}{Fig.}$\n",
       "$\\newcommand{$\\sectionautorefname$}{Sect.}$\n",
       "$\\newcommand{$\\subsectionautorefname$}{Sect.}$\n",
       "$\\newcommand{$\\subsubsectionautorefname$}{Sect.}$</div>\n",
       "\n",
       "\n",
       "\n",
       "<div id=\"title\">\n",
       "\n",
       "# Based on observations collected at the European Organization for Astronomical Research in the Southern Hemisphere under MPG programmes 0104.A-9007. This paper includes data gathered with the 6.5 meter Magellan Telescopes located at Las Campanas Observatory, Chile.\n",
       "\n",
       "</div>\n",
       "<div id=\"comments\">\n",
       "\n",
       "[![arXiv](https://img.shields.io/badge/arXiv-2302.05694-b31b1b.svg)](https://arxiv.org/abs/2302.05694)<mark>Appeared on: 2023-02-14</mark> - _Accepted for publication in AJ_\n",
       "\n",
       "</div>\n",
       "<div id=\"authors\">\n",
       "\n",
       "<mark>Trifon Trifonov</mark>, et al. -- incl., <mark>Thomas Henning</mark>, <mark>Melissa J. Hobson</mark>, <mark>Man Hoi Lee</mark>, <mark>Ren{\\'e} Heller</mark>\n",
       "\n",
       "</div>\n",
       "<div id=\"abstract\">\n",
       "\n",
       "**Abstract:** TOI-2525 is a K-type star with an estimated mass of M = 0.849$_{-0.033}^{+0.024}$M$_\\odot$and radius ofR = 0.785$_{-0.007}^{+0.007}$R$_\\odot$observed by the TESS mission in 22 sectors (within sectors 1 and 39).The TESS light curves yield significant transit events of two companions, whichshow strong transit timing variations (TTVs) with a semi-amplitude of a$\\sim$6 hours.We performed TTV dynamical, and photo-dynamical light curve analysis of the TESS data, combined with radial velocity (RV) measurements from FEROS and PFS, and we confirmed the planetary nature of these companions.The TOI-2525 system consists of a transiting pair of planets comparable to Neptune and Jupiter withestimated dynamical masses of$m_{\\rm b}$= 0.088$_{-0.004}^{+0.005}$M$_{\\rm Jup.}$,and$m_{\\rm c}$= 0.709$_{-0.033}^{+0.034}$M$_{\\rm Jup.}$, radius of$r_b$= 0.88$_{-0.02}^{+0.02}$R$_{\\rm Jup.}$and$r_c$= 0.98$_{-0.02}^{+0.02}$R$_{\\rm Jup.}$, and with orbital periods of$P_{\\rm b}$=  23.288$_{-0.002}^{+0.001}$days and$P_{\\rm c}$= 49.260$_{-0.001}^{+0.001}$days for the inner and the outer planet, respectively. The period ratio is close tothe 2:1 period commensurability, but the dynamical simulations of the system suggestthat it is outside the mean motion resonance (MMR) dynamical configuration. TOI-2525 b is among the lowest density Neptune-mass planets known to date, with an estimated median density of$\\rho_{\\rm b}$= 0.174$_{-0.015}^{+0.016}$g cm$^{-3}$.The TOI-2525 system is very similar to the other K-dwarf systems discovered by TESS, TOI-2202 and TOI-216, which are composed of almost identical K-dwarf primary and two warm giant planets near the 2:1 MMR.\n",
       "\n",
       "</div>\n",
       "\n",
       "<div id=\"div_fig1\">\n",
       "\n",
       "<img src=\"tmp_2302.05694/./RV_model_sep22.jpg\" alt=\"Fig10.1\" width=\"33%\"/><img src=\"tmp_2302.05694/./RV_model_sep22_ph_pl1.jpg\" alt=\"Fig10.2\" width=\"33%\"/><img src=\"tmp_2302.05694/./RV_model_sep22_ph_pl2.jpg\" alt=\"Fig10.3\" width=\"33%\"/>\n",
       "\n",
       "**Figure 10. -** \n",
       "    RV component of the two-planet dynamical model of TOI-2525, constructed jointly with the TTVs data and with the RVs from PFS (blue circles). The two RVs from FEROS (red triangles) are overploted with an optimized RV offset to the model. The left panel shows the time series\n",
       "    and the N-body model,\n",
       "    the middle and right panels show a phase-folded representation of the RV data, modeled with\n",
       "    the dynamical model (with an osculating period). The PFS data uncertainties include the estimated RV jitter, added in quadrature to the error budget, while the FEROS data are plotted with their nominal RV uncertainties. The small sub-panels show the RVs residuals.\n",
       " (*RV_plot1*)\n",
       "\n",
       "</div>\n",
       "<div id=\"div_fig2\">\n",
       "\n",
       "<img src=\"tmp_2302.05694/./out_TOI2525_TTVs_dynNS_SEP_22_4_out_1a.png\" alt=\"Fig11\" width=\"100%\"/>\n",
       "\n",
       "**Figure 11. -** Posteriors of the dynamical properties at the 2:1 period ratio commensurability of the two-planet system TOI-2525. The posteriors are generated by randomly drawing 10 000 samples from the TTV+RV dynamical model.\n",
       "Each sample is tested for stability and the overall dynamical properties are evaluated at the 2:1 period ratio commensurability. The derived dynamical parameters are: mean period ratio $\\hat{P}_{\\rm rat.}$, mean eccentricities $\\hat{e}_{\\rm b}$, $\\hat{e}_{\\rm c}$, mean orbital aligment $\\hat{\\Delta\\omega}$, and their peak-to-peak amplitudes Ampl. $e_{\\rm b}$, Ampl. $e_{\\rm c}$, Ampl. $\\Delta\\omega$, and the planetary dynamical masses and semi-major axes. Note that the posterior distribution of $\\theta_1$, and $\\theta_2$ are not shown, since these exhibit circulation between 0$^\\circ$ and 360$^\\circ$.\n",
       "The black contours on the 2D panels represent the 1, 2 and 3$\\sigma$ confidence level of the overall posterior samples.\n",
       " (*dyn_samp*)\n",
       "\n",
       "</div>\n",
       "<div id=\"div_fig3\">\n",
       "\n",
       "<img src=\"tmp_2302.05694/./RaMa_Teq.jpg\" alt=\"Fig14.1\" width=\"50%\"/><img src=\"tmp_2302.05694/./RaMa_pho.jpg\" alt=\"Fig14.2\" width=\"50%\"/>\n",
       "\n",
       "**Figure 14. -** Radius-mass demographics for all giant transiting planets with measured\n",
       "masses by TTVs or RVs. The position of TOI-2525 b and c are plotted with \"star\" symbols. Panel a) shows the mass-radius relation color-coded by T$_{\\rm eq.}$. Panel b) shows the same as panel a), but is color-coded with the planetary density.\n",
       "The solid curve corresponds to the predicted radius using the models of \\citet{Fortney2007} given the estimated luminosity of TOI-2525, a semi-major axis=0.2 AU, and an age of 3.1 G yr.\\looseness=-5\n",
       " (*hhe_fraction*)\n",
       "\n",
       "</div>"
      ],
      "text/plain": [
       "<IPython.core.display.Markdown object>"
      ]
     },
     "metadata": {},
     "output_type": "display_data"
    }
   ],
   "source": [
    "[display(Markdown(k[1])) for k in documents];"
   ]
  },
  {
   "cell_type": "markdown",
   "id": "873873a4",
   "metadata": {
    "papermill": {
     "duration": 0.011483,
     "end_time": "2023-02-14T04:11:50.989441",
     "exception": false,
     "start_time": "2023-02-14T04:11:50.977958",
     "status": "completed"
    },
    "tags": []
   },
   "source": [
    "# Create HTML index"
   ]
  },
  {
   "cell_type": "code",
   "execution_count": 10,
   "id": "cf665672",
   "metadata": {
    "execution": {
     "iopub.execute_input": "2023-02-14T04:11:51.014034Z",
     "iopub.status.busy": "2023-02-14T04:11:51.013333Z",
     "iopub.status.idle": "2023-02-14T04:11:51.024561Z",
     "shell.execute_reply": "2023-02-14T04:11:51.023947Z"
    },
    "papermill": {
     "duration": 0.025085,
     "end_time": "2023-02-14T04:11:51.025997",
     "exception": false,
     "start_time": "2023-02-14T04:11:51.000912",
     "status": "completed"
    },
    "tags": []
   },
   "outputs": [
    {
     "name": "stdout",
     "output_type": "stream",
     "text": [
      "201  publications in the last 7 days.\n",
      "\t _build/html/2302.05694.md\n",
      "\t _build/html/2302.05465.md\n",
      "\t _build/html/2302.04507.md\n",
      "\t _build/html/2302.04239.md\n",
      "\t _build/html/2302.04138.md\n",
      "\t _build/html/2302.03699.md\n",
      "\t _build/html/2302.03576.md\n",
      "\t _build/html/2302.03042.md\n",
      "\t _build/html/2302.03039.md\n",
      "\t _build/html/2302.02890.md\n",
      "\t _build/html/2302.02611.md\n",
      "\t _build/html/2302.02429.md\n",
      "\t _build/html/2302.01678.md\n",
      "\t _build/html/2302.00450.md\n",
      "\t _build/html/2301.13766.md\n",
      "\t _build/html/2301.13526.md\n",
      "\t _build/html/2301.12890.md\n",
      "\t _build/html/2301.11942.md\n",
      "\t _build/html/2301.10717.md\n",
      "\t _build/html/2301.10666.md\n",
      "\t _build/html/2301.10496.md\n",
      "\t _build/html/2301.09621.md\n",
      "\t _build/html/2301.09140.md\n",
      "\t _build/html/2301.08770.md\n",
      "\t _build/html/2301.08310.md\n",
      "\t _build/html/2301.07990.md\n",
      "\t _build/html/2301.07366.md\n",
      "\t _build/html/2301.07199.md\n",
      "\t _build/html/2301.07116.md\n",
      "\t _build/html/2301.06873.md\n",
      "\t _build/html/2301.06819.md\n",
      "\t _build/html/2301.06575.md\n",
      "\t _build/html/2301.05720.md\n",
      "\t _build/html/2301.05718.md\n",
      "\t _build/html/2301.05034.md\n",
      "\t _build/html/2301.04656.md\n",
      "\t _build/html/2301.04533.md\n",
      "\t _build/html/2301.04442.md\n",
      "\t _build/html/2301.03811.md\n",
      "\t _build/html/2301.03689.md\n",
      "\t _build/html/2301.03387.md\n",
      "\t _build/html/2301.03209.md\n",
      "\t _build/html/2301.02671.md\n",
      "\t _build/html/2301.02477.md\n",
      "\t _build/html/2301.02313.md\n",
      "\t _build/html/2301.02265.md\n",
      "\t _build/html/2301.01937.md\n",
      "\t _build/html/2301.01895.md\n",
      "\t _build/html/2301.01684.md\n",
      "\t _build/html/2301.01306.md\n",
      "\t _build/html/2301.00881.md\n",
      "\t _build/html/2301.00854.md\n",
      "\t _build/html/2301.00578.md\n",
      "\t _build/html/2212.12039.md\n",
      "\t _build/html/2212.11991.md\n",
      "\t _build/html/2212.11425.md\n",
      "\t _build/html/2212.11177.md\n",
      "\t _build/html/2212.10804.md\n",
      "\t _build/html/2212.10512.md\n",
      "\t _build/html/2212.09766.md\n",
      "\t _build/html/2212.09675.md\n",
      "\t _build/html/2212.09661.md\n",
      "\t _build/html/2212.09652.md\n",
      "\t _build/html/2212.09443.md\n",
      "\t _build/html/2212.09307.md\n",
      "\t _build/html/2212.09168.md\n",
      "\t _build/html/2212.09159.md\n",
      "\t _build/html/2212.08702.md\n",
      "\t _build/html/2212.07332.md\n",
      "\t _build/html/2212.06434.md\n",
      "\t _build/html/2212.04710.md\n",
      "\t _build/html/2212.04026.md\n",
      "\t _build/html/2212.03563.md\n",
      "\t _build/html/2212.03514.md\n",
      "\t _build/html/2212.02667.md\n",
      "\t _build/html/2212.02627.md\n",
      "\t _build/html/2212.02235.md\n",
      "\t _build/html/2212.01707.md\n",
      "\t _build/html/2212.01526.md\n",
      "\t _build/html/2212.01397.md\n",
      "\t _build/html/2212.01291.md\n",
      "\t _build/html/2212.01281.md\n",
      "\t _build/html/2212.00812.md\n",
      "\t _build/html/2212.00811.md\n",
      "\t _build/html/2212.00806.md\n",
      "\t _build/html/2212.00047.md\n",
      "\t _build/html/2212.00032.md\n",
      "\t _build/html/2211.16996.md\n",
      "\t _build/html/2211.16510.md\n",
      "\t _build/html/2211.16123.md\n",
      "\t _build/html/2211.15816.md\n",
      "\t _build/html/2211.15698.md\n",
      "\t _build/html/2211.15576.md\n",
      "\t _build/html/2211.15434.md\n",
      "\t _build/html/2211.15288.md\n",
      "\t _build/html/2211.15224.md\n",
      "\t _build/html/2211.14543.md\n",
      "\t _build/html/2211.14330.md\n",
      "\t _build/html/2211.14322.md\n",
      "\t _build/html/2211.14132.md\n",
      "\t _build/html/2211.13811.md\n",
      "\t _build/html/2211.13426.md\n",
      "\t _build/html/2211.13318.md\n",
      "\t _build/html/2211.13146.md\n",
      "\t _build/html/2211.12613.md\n",
      "\t _build/html/2211.11767.md\n",
      "\t _build/html/2211.09840.md\n",
      "\t _build/html/2211.09217.md\n",
      "\t _build/html/2211.08493.md\n",
      "\t _build/html/2211.08487.md\n",
      "\t _build/html/2211.08294.md\n",
      "\t _build/html/2211.07667.md\n",
      "\t _build/html/2211.07659.md\n",
      "\t _build/html/2211.06454.md\n",
      "\t _build/html/2211.06205.md\n",
      "\t _build/html/2211.06194.md\n",
      "\t _build/html/2211.05022.md\n",
      "\t _build/html/2211.04048.md\n",
      "\t _build/html/2211.03641.md\n",
      "\t _build/html/2211.02502.md\n",
      "\t _build/html/2211.01474.md\n",
      "\t _build/html/2211.00667.md\n",
      "\t _build/html/2211.00657.md\n",
      "\t _build/html/2211.00087.md\n",
      "\t _build/html/2211.00036.md\n",
      "\t _build/html/2211.00020.md\n",
      "\t _build/html/2211.00010.md\n",
      "\t _build/html/2210.17434.md\n",
      "\t _build/html/2210.12412.md\n",
      "\t _build/html/2210.11926.md\n",
      "\t _build/html/2210.11551.md\n",
      "\t _build/html/2210.11103.md\n",
      "\t _build/html/2210.10707.md\n",
      "\t _build/html/2210.09930.md\n",
      "\t _build/html/2210.08996.md\n",
      "\t _build/html/2210.08517.md\n",
      "\t _build/html/2210.08510.md\n",
      "\t _build/html/2210.08078.md\n",
      "\t _build/html/2210.06504.md\n",
      "\t _build/html/2210.05695.md\n",
      "\t _build/html/2210.05595.md\n",
      "\t _build/html/2210.05505.md\n",
      "\t _build/html/2210.04721.md\n",
      "\t _build/html/2210.03615.md\n",
      "\t _build/html/2210.01811.md\n",
      "\t _build/html/2210.01809.md\n",
      "\t _build/html/2210.01556.md\n",
      "\t _build/html/2210.00863.md\n",
      "\t _build/html/2210.00560.md\n",
      "\t _build/html/2209.15403.md\n",
      "\t _build/html/2209.15110.md\n",
      "\t _build/html/2209.14410.md\n",
      "\t _build/html/2209.14396.md\n",
      "\t _build/html/2209.13717.md\n",
      "\t _build/html/2209.13336.md\n",
      "\t _build/html/2209.12906.md\n",
      "\t _build/html/2209.11781.md\n",
      "\t _build/html/2209.11602.md\n",
      "\t _build/html/2209.11248.md\n",
      "\t _build/html/2209.11096.md\n",
      "\t _build/html/2209.10618.md\n",
      "\t _build/html/2209.09914.md\n",
      "\t _build/html/2209.09823.md\n",
      "\t _build/html/2209.08242.md\n",
      "\t _build/html/2209.08120.md\n",
      "\t _build/html/2209.08106.md\n",
      "\t _build/html/2209.07962.md\n",
      "\t _build/html/2209.07931.md\n",
      "\t _build/html/2209.06833.md\n",
      "\t _build/html/2209.05814.md\n",
      "\t _build/html/2209.05593.md\n",
      "\t _build/html/2209.04304.md\n",
      "\t _build/html/2209.03367.md\n",
      "\t _build/html/2209.02872.md\n",
      "\t _build/html/2209.02725.md\n",
      "\t _build/html/2209.02722.md\n",
      "\t _build/html/2209.02092.md\n",
      "\t _build/html/2209.01125.md\n",
      "\t _build/html/2209.00828.md\n",
      "\t _build/html/2209.00363.md\n",
      "\t _build/html/2208.14927.md\n",
      "\t _build/html/2208.09335.md\n",
      "\t _build/html/2208.08872.md\n",
      "\t _build/html/2204.06393.md\n",
      "\t _build/html/2204.03335.md\n",
      "\t _build/html/2204.03253.md\n",
      "\t _build/html/2204.02998.md\n",
      "\t _build/html/2204.02109.md\n",
      "\t _build/html/2204.02017.md\n",
      "\t _build/html/2204.01824.md\n",
      "\t _build/html/2204.01758.md\n",
      "\t _build/html/2204.01245.md\n",
      "\t _build/html/2204.00793.md\n",
      "\t _build/html/2204.00342.md\n",
      "\t _build/html/2203.16959.md\n",
      "\t _build/html/2203.16856.md\n",
      "\t _build/html/2203.16735.md\n",
      "\t _build/html/2203.16734.md\n",
      "\t _build/html/2203.16504.md\n",
      "\t _build/html/2203.15822.md\n",
      "\t _build/html/2203.15811.md\n"
     ]
    }
   ],
   "source": [
    "from datetime import datetime, timedelta, timezone\n",
    "from glob import glob\n",
    "\n",
    "files = glob('_build/html/*.md')\n",
    "days = 7\n",
    "now = datetime.today()\n",
    "res = []\n",
    "for fk in files:\n",
    "    stat_result = os.stat(fk).st_ctime\n",
    "    modified = datetime.fromtimestamp(stat_result, tz=timezone.utc).replace(tzinfo=None)\n",
    "    delta = now.today() - modified\n",
    "    if delta <= timedelta(days=days):\n",
    "        res.append((delta.seconds, fk))\n",
    "res = [k[1] for k in reversed(sorted(res, key=lambda x:x[1]))]\n",
    "npub = len(res)\n",
    "print(len(res), f\" publications in the last {days:d} days.\")\n",
    "[ print('\\t', k) for k in res ];"
   ]
  },
  {
   "cell_type": "code",
   "execution_count": 11,
   "id": "015de740",
   "metadata": {
    "execution": {
     "iopub.execute_input": "2023-02-14T04:11:51.050822Z",
     "iopub.status.busy": "2023-02-14T04:11:51.050249Z",
     "iopub.status.idle": "2023-02-14T04:11:51.069679Z",
     "shell.execute_reply": "2023-02-14T04:11:51.069064Z"
    },
    "papermill": {
     "duration": 0.033373,
     "end_time": "2023-02-14T04:11:51.071165",
     "exception": false,
     "start_time": "2023-02-14T04:11:51.037792",
     "status": "completed"
    },
    "tags": []
   },
   "outputs": [
    {
     "name": "stdout",
     "output_type": "stream",
     "text": [
      "12  publications in the last 7 days.\n"
     ]
    }
   ],
   "source": [
    "import datetime\n",
    "from glob import glob\n",
    "\n",
    "def get_last_n_days(lst, days=1):\n",
    "    \"\"\" Get the documents from the last n days \"\"\"\n",
    "    sorted_lst = sorted(lst, key=lambda x: x[1], reverse=True)\n",
    "    for fname, date in sorted_lst:\n",
    "        if date >= str(datetime.date.today() - datetime.timedelta(days=days)):\n",
    "            yield fname\n",
    "\n",
    "def extract_appearance_dates(lst_file):\n",
    "    dates = []\n",
    "\n",
    "    def get_date(line):\n",
    "        return line\\\n",
    "            .split('Appeared on:')[-1]\\\n",
    "            .split('</mark>')[0].strip()\n",
    "\n",
    "    for fname in lst:\n",
    "        with open(fname, 'r') as f:\n",
    "            found_date = False\n",
    "            for line in f:\n",
    "                if not found_date:\n",
    "                    if \"Appeared on\" in line:\n",
    "                        found_date = True\n",
    "                        dates.append((fname, get_date(line)))\n",
    "                else:\n",
    "                    break\n",
    "    return dates\n",
    "\n",
    "from glob import glob\n",
    "lst = glob('_build/html/*md')\n",
    "days = 7\n",
    "dates = extract_appearance_dates(lst)\n",
    "res = list(get_last_n_days(dates, days))\n",
    "npub = len(res)\n",
    "print(len(res), f\" publications in the last {days:d} days.\")"
   ]
  },
  {
   "cell_type": "code",
   "execution_count": 12,
   "id": "52ca0208",
   "metadata": {
    "execution": {
     "iopub.execute_input": "2023-02-14T04:11:51.096248Z",
     "iopub.status.busy": "2023-02-14T04:11:51.095807Z",
     "iopub.status.idle": "2023-02-14T04:11:51.102042Z",
     "shell.execute_reply": "2023-02-14T04:11:51.101440Z"
    },
    "papermill": {
     "duration": 0.020279,
     "end_time": "2023-02-14T04:11:51.103410",
     "exception": false,
     "start_time": "2023-02-14T04:11:51.083131",
     "status": "completed"
    },
    "scrolled": false,
    "tags": []
   },
   "outputs": [],
   "source": [
    "def create_carousel(npub=4):\n",
    "    \"\"\" Generate the HTML code for a carousel with `npub` slides \"\"\"\n",
    "    carousel = [\"\"\"<section class=\"carousel\" aria-label=\"Gallery\">\"\"\",\n",
    "                \"\"\"  <ol class=\"carousel__viewport\">\"\"\",\n",
    "    ]\n",
    "    for k in range(1, npub + 1):\n",
    "        prev_ = k - 1\n",
    "        next_ = k + 1\n",
    "        if prev_ <= 0:\n",
    "            prev_ = npub\n",
    "        if next_ > npub:\n",
    "            next_ = 1\n",
    "        text  = f\"\"\"    <li id=\"carousel__slide{k}\" tabindex=\"0\" class=\"carousel__slide\">\\n\"\"\"\n",
    "        text += f\"\"\"       <div class=\"carousel__snapper\">\\n\"\"\"\n",
    "        text += f\"\"\"         <a href=\"#carousel__slide{prev_}\" class=\"carousel__prev\">Go to previous slide</a>\\n\"\"\"\n",
    "        text += f\"\"\"         <a href=\"#carousel__slide{next_}\" class=\"carousel__next\">Go to next slide</a>\\n\"\"\"\n",
    "        text += f\"\"\"         <div id=\"slide{k}_content\" class=\"md_view\" >Content {k}</div>\\n\"\"\"\n",
    "        text += f\"\"\"       </div>\\n\"\"\"\n",
    "        text += f\"\"\"    </li>\"\"\"\n",
    "        carousel.append(text)\n",
    "\n",
    "    carousel.extend([\n",
    "        \"\"\"  </ol>\"\"\",\n",
    "        \"\"\"  <aside class=\"carousel__navigation\">\"\"\",\n",
    "        \"\"\"    <ol class=\"carousel__navigation-list\">\"\"\"])\n",
    "\n",
    "    for k in range(1, npub + 1):\n",
    "        text  = f\"\"\"      <li class=\"carousel__navigation-item\">\\n\"\"\"\n",
    "        text += f\"\"\"        <a href=\"#carousel__slide{k}\" class=\"carousel__navigation-button\">Go to {k}</a>\\n\"\"\"\n",
    "        text += f\"\"\"      </li>\"\"\"\n",
    "        carousel.append(text)\n",
    "    carousel.extend([\"\"\"    </ol>\"\"\", \"\"\"  </aside>\"\"\", \"\"\"</section>\"\"\"])\n",
    "\n",
    "    return '\\n'.join(carousel)"
   ]
  },
  {
   "cell_type": "code",
   "execution_count": 13,
   "id": "a6eac5b6",
   "metadata": {
    "execution": {
     "iopub.execute_input": "2023-02-14T04:11:51.128301Z",
     "iopub.status.busy": "2023-02-14T04:11:51.127892Z",
     "iopub.status.idle": "2023-02-14T04:11:51.134901Z",
     "shell.execute_reply": "2023-02-14T04:11:51.134338Z"
    },
    "papermill": {
     "duration": 0.021486,
     "end_time": "2023-02-14T04:11:51.136675",
     "exception": false,
     "start_time": "2023-02-14T04:11:51.115189",
     "status": "completed"
    },
    "scrolled": false,
    "tags": []
   },
   "outputs": [],
   "source": [
    "carousel = create_carousel(npub)\n",
    "docs = ', '.join(['\"{0:s}\"'.format(k.split('/')[-1]) for k in res])\n",
    "slides = ', '.join([f'\"slide{k}_content\"' for k in range(1, npub + 1)])\n",
    "\n",
    "script = f\"\"\"\n",
    "const docs = [{docs}]\n",
    "\n",
    "const slides = [{slides}]\n",
    "\"\"\" + \"\"\"\n",
    "async function run() {\n",
    "    for (let i = 0; i < docs.length; i++) {\n",
    "        let file = await fetch(docs[i]);\n",
    "        let text = await file.text()\n",
    "        document.getElementById(slides[i]).innerHTML =\n",
    "            marked.parse(text);\n",
    "    }\n",
    "    hljs.highlightAll();\n",
    "}\n",
    "run()\n",
    "\"\"\"\n",
    "\n",
    "page = f\"\"\"<!doctype html>\n",
    "<html lang=\"en\">\n",
    "\n",
    "<head>\n",
    "  <meta charset=\"utf-8\">\n",
    "  <meta name=\"viewport\" content=\"width=device-width, initial-scale=1\">\n",
    "  <!-- Bootstrap CSS -->\n",
    "  <link href=\"https://cdn.jsdelivr.net/npm/bootstrap@5.0.2/dist/css/bootstrap.min.css\" rel=\"stylesheet\"\n",
    "   integrity=\"sha384-EVSTQN3/azprG1Anm3QDgpJLIm9Nao0Yz1ztcQTwFspd3yD65VohhpuuCOmLASjC\" crossorigin=\"anonymous\">\n",
    "  <!-- highlight.js CSS -->\n",
    "  <link rel=\"stylesheet\" href=\"https://cdnjs.cloudflare.com/ajax/libs/highlight.js/11.1.0/styles/default.min.css\">\n",
    "  <!-- Mathjax 3 -->\n",
    "  <script type=\"text/javascript\" id=\"MathJax-config\" src=\"mathjax_config.js\"> </script>\n",
    "  <script type=\"text/javascript\" id=\"MathJax-script\" async \n",
    "    src=\"https://cdn.jsdelivr.net/npm/mathjax@3/es5/tex-mml-chtml.js\">\n",
    "  </script>\n",
    "  <link rel=\"stylesheet\" href=\"index_carousel.css\">\n",
    "  <link rel=\"icon\" type=\"image/x-icon\" href=\"https://www.mpia.de/assets/touch-icon-32x32-a66937bcebc4e8894ebff1f41a366c7c7220fd97a38869ee0f2db65a9f59b6c1.png\">\n",
    "  <title>MPIA Arxiv on deck!</title>\n",
    "</head>\n",
    "\n",
    "<body>\n",
    "  <div id=\"header\"> <img src=\"header_banner.png\" width=\"100%\"></div>\n",
    "  <div id=\"suptitle\"> 7-day archives </div>\n",
    "  <div id=\"info\">\n",
    "    <img src=\"https://pngimg.com/uploads/github/github_PNG58.png\" height=30rem></img>\n",
    "    <a href=https://github.com/mpi-astronomy/arxiv_display style=\"color:black;\">github/mpi-astronomy/arxiv_display</a> \n",
    "  </div>\n",
    "  {carousel:s}\n",
    "</body>\n",
    "\n",
    "<!-- Render Markdown -->\n",
    "\n",
    "<body>\n",
    "  <!-- highlight.js: https://highlightjs.org/download/ -->\n",
    "  <script src=\"https://cdnjs.cloudflare.com/ajax/libs/highlight.js/11.5.0/highlight.min.js\"></script>\n",
    "  <!-- marked.js -->\n",
    "  <script src=\"https://cdn.jsdelivr.net/npm/marked/marked.min.js\"></script>\n",
    "  <script>{script:s}</script>\n",
    "</body>\n",
    "</html>\n",
    "\"\"\"\n",
    "with open(\"_build/html/index_7days.html\", 'w') as fout:\n",
    "    fout.write(page)"
   ]
  },
  {
   "cell_type": "markdown",
   "id": "1cebacbc",
   "metadata": {
    "papermill": {
     "duration": 0.011868,
     "end_time": "2023-02-14T04:11:51.160368",
     "exception": false,
     "start_time": "2023-02-14T04:11:51.148500",
     "status": "completed"
    },
    "tags": []
   },
   "source": [
    "# Debugging papers"
   ]
  },
  {
   "cell_type": "raw",
   "id": "debe7cc6",
   "metadata": {
    "papermill": {
     "duration": 0.011754,
     "end_time": "2023-02-14T04:11:51.184047",
     "exception": false,
     "start_time": "2023-02-14T04:11:51.172293",
     "status": "completed"
    },
    "tags": []
   },
   "source": [
    "raise NotImplementedError(\"Manual Stop\")"
   ]
  },
  {
   "cell_type": "raw",
   "id": "eb169192",
   "metadata": {
    "papermill": {
     "duration": 0.011828,
     "end_time": "2023-02-14T04:11:51.207859",
     "exception": false,
     "start_time": "2023-02-14T04:11:51.196031",
     "status": "completed"
    },
    "scrolled": true,
    "tags": []
   },
   "source": [
    "from IPython.display import display, Markdown\n",
    "from TexSoup import TexSoup\n",
    "import re\n",
    "\n",
    "def bracket_error(source: str):\n",
    "    \"\"\" Find problematic portions of the document \"\"\"\n",
    "    \n",
    "    print(\"len(source)\", len(source))\n",
    "    \n",
    "    # Checking header\n",
    "    begin_doc = next(re.finditer(r'\\\\begin\\{document\\}', doc.source)).span()[1]\n",
    "    header = source[:begin_doc]\n",
    "    text = header + r\"\\n\\end{document}\"\n",
    "\n",
    "    try:\n",
    "        # print(\"Header check... \", end='')\n",
    "        TexSoup(text)\n",
    "        display(Markdown(f\"**[OK]** - Header\"))\n",
    "    except:\n",
    "        raise RuntimeError(\"Error in the header\")\n",
    "        \n",
    "    # Check the text per section until the end.\n",
    "    # Do not stop and try them all.\n",
    "    \n",
    "    problematic_text = []\n",
    "    \n",
    "    sections = ([(0, begin_doc, 'until first section')] + \n",
    "                [(g.span()[0], g.span()[1], g.group()) for g in re.finditer(r'\\\\section\\{.*\\}', source)] +\n",
    "                [(g.span()[0], g.span()[1], g.group()) for g in re.finditer(r'\\\\begin\\{appendix\\}', source)]\n",
    "               )\n",
    "    sections.append([len(source), len(source), 'end'])\n",
    "    \n",
    "    sections = sorted(sections, key=lambda x: x[0])\n",
    "    \n",
    "    prev_pos, prev_name = (0, 'header')\n",
    "    parsed = []\n",
    "    \n",
    "    for span, span_end, name in sections:\n",
    "\n",
    "        if span - prev_pos <= 0:\n",
    "            continue\n",
    "            \n",
    "\n",
    "        text = source[prev_pos:span]\n",
    "        if prev_pos > begin_doc:\n",
    "            text = r\"\\n\\begin{document}\" + text + r\"\\n\\end{document}\"\n",
    "        else:\n",
    "            text = text + r\"\\n\\end{document}\"\n",
    "        try:\n",
    "            #print(f\"{prev_pos}:{prev_name}-->{span}:{name} check... \", end='')\n",
    "            parsed.append(TexSoup(text, tolerance=1))  # allow not ending env\n",
    "            display(Markdown(f\"**[OK]** - *{prev_pos}*:{prev_name} &rarr; *{span}*:{name}\"))\n",
    "            # print(\"ok\")\n",
    "\n",
    "            prev_pos = span\n",
    "            prev_name = name\n",
    "        except:\n",
    "            # print(f\"error between {prev_pos} and {span}\")\n",
    "            display(Markdown(f\"**[ERR]** *{prev_pos}*:{prev_name} &rarr; *{span}*:{name}\"))\n",
    "            problematic_text.append((prev_pos, source[prev_pos:span]))\n",
    "            prev_pos = span\n",
    "            prev_name = name\n",
    "            # raise\n",
    "    return problematic_text, parsed\n",
    "\n",
    "\n",
    "def check_environment(text, offset=0):\n",
    "    \"\"\" Check environment \"\"\"\n",
    "    env = re.compile(r\"\\\\begin\\{(?P<env>.*)\\}(.*)\\\\end\\{(?P=env)\\}\", re.DOTALL)\n",
    "\n",
    "    for match in env.finditer(text):\n",
    "        beg, end = match.span()\n",
    "        beg += offset\n",
    "        end += offset\n",
    "        envname = match.groups()[0]\n",
    "        try:\n",
    "            latex.TexSoup(match.group())\n",
    "        except Exception as e:\n",
    "            display(e)\n",
    "            print(f\"Error in {envname:s} between {beg} and {end}\")\n",
    "            return match.groups()[1], beg, end"
   ]
  },
  {
   "cell_type": "raw",
   "id": "2315e835",
   "metadata": {
    "papermill": {
     "duration": 0.011794,
     "end_time": "2023-02-14T04:11:51.231514",
     "exception": false,
     "start_time": "2023-02-14T04:11:51.219720",
     "status": "completed"
    },
    "scrolled": false,
    "tags": []
   },
   "source": [
    "import importlib\n",
    "importlib.reload(latex)\n",
    "which = \"2204.03253\"\n",
    "paper_id = f'{which:s}'\n",
    "folder = f'tmp_{paper_id:s}'\n",
    "\n",
    "if not os.path.isdir(folder):\n",
    "    folder = retrieve_document_source(f\"{paper_id}\", f'tmp_{paper_id}')\n",
    "\n",
    "try:\n",
    "    doc = latex.LatexDocument(folder, validation=validation)    \n",
    "except AffiliationError as affilerror:\n",
    "    msg = f\"ArXiv:{paper_id:s} is not an MPIA paper... \" + str(affilerror)\n",
    "    print(msg)\n",
    "\n",
    "\n",
    "# Hack because sometimes author parsing does not work well\n",
    "if (len(doc.authors) != len(paper['authors'])):\n",
    "    doc._authors = paper['authors']\n",
    "if (doc.abstract) in (None, ''):\n",
    "    doc._abstract = paper['abstract']\n",
    "\n",
    "doc.comment = get_markdown_badge(paper_id) + \" _\" + paper['comments'] + \"_\"\n",
    "doc.highlight_authors_in_list(hl_list)\n",
    "\n",
    "full_md = doc.generate_markdown_text()"
   ]
  },
  {
   "cell_type": "raw",
   "id": "dd3781db",
   "metadata": {
    "papermill": {
     "duration": 0.01178,
     "end_time": "2023-02-14T04:11:51.255074",
     "exception": false,
     "start_time": "2023-02-14T04:11:51.243294",
     "status": "completed"
    },
    "scrolled": false,
    "tags": []
   },
   "source": [
    "doc"
   ]
  },
  {
   "cell_type": "raw",
   "id": "c6eed834",
   "metadata": {
    "papermill": {
     "duration": 0.011759,
     "end_time": "2023-02-14T04:11:51.278765",
     "exception": false,
     "start_time": "2023-02-14T04:11:51.267006",
     "status": "completed"
    },
    "tags": []
   },
   "source": [
    "# [check_environment(k) for k in bracket_error(doc.source)]\n",
    "_, _, a = latex.get_content_per_section(doc.source, verbose=True)\n",
    "if not a:\n",
    "    print(\"no issues per section\")\n",
    "for ak in a:\n",
    "    r = check_environment(ak[1], offset=ak[0])\n",
    "    print(r[1], r[2])\n",
    "    print(r[0])"
   ]
  },
  {
   "cell_type": "code",
   "execution_count": null,
   "id": "71ce768a",
   "metadata": {
    "papermill": {
     "duration": 0.011733,
     "end_time": "2023-02-14T04:11:51.302232",
     "exception": false,
     "start_time": "2023-02-14T04:11:51.290499",
     "status": "completed"
    },
    "tags": []
   },
   "outputs": [],
   "source": []
  }
 ],
 "metadata": {
  "kernelspec": {
   "display_name": "Python 3",
   "language": "python",
   "name": "python3"
  },
  "language_info": {
   "codemirror_mode": {
    "name": "ipython",
    "version": 3
   },
   "file_extension": ".py",
   "mimetype": "text/x-python",
   "name": "python",
   "nbconvert_exporter": "python",
   "pygments_lexer": "ipython3",
   "version": "3.9.16"
  },
  "papermill": {
   "default_parameters": {},
   "duration": 242.149032,
   "end_time": "2023-02-14T04:11:51.538402",
   "environment_variables": {},
   "exception": null,
   "input_path": "MPIA daily digest.ipynb",
   "output_path": "log.ipynb",
   "parameters": {},
   "start_time": "2023-02-14T04:07:49.389370",
   "version": "2.4.0"
  },
  "vscode": {
   "interpreter": {
    "hash": "aee8b7b246df8f9039afb4144a1f6fd8d2ca17a180786b69acc140d282b71a49"
   }
  },
  "widgets": {
   "application/vnd.jupyter.widget-state+json": {
    "state": {
     "01e86b57b44f40d6a90502157f92ad81": {
      "model_module": "@jupyter-widgets/controls",
      "model_module_version": "2.0.0",
      "model_name": "FloatProgressModel",
      "state": {
       "_dom_classes": [],
       "_model_module": "@jupyter-widgets/controls",
       "_model_module_version": "2.0.0",
       "_model_name": "FloatProgressModel",
       "_view_count": null,
       "_view_module": "@jupyter-widgets/controls",
       "_view_module_version": "2.0.0",
       "_view_name": "ProgressView",
       "bar_style": "success",
       "description": "",
       "description_allow_html": false,
       "layout": "IPY_MODEL_2eec79ad07a7454a9e8daeb1b9a32e77",
       "max": 28.0,
       "min": 0.0,
       "orientation": "horizontal",
       "style": "IPY_MODEL_ed425000151e4fbfa062ff8173f4cc19",
       "tabbable": null,
       "tooltip": null,
       "value": 28.0
      }
     },
     "21c09a14fb53492eb5fe0af4275254e0": {
      "model_module": "@jupyter-widgets/base",
      "model_module_version": "2.0.0",
      "model_name": "LayoutModel",
      "state": {
       "_model_module": "@jupyter-widgets/base",
       "_model_module_version": "2.0.0",
       "_model_name": "LayoutModel",
       "_view_count": null,
       "_view_module": "@jupyter-widgets/base",
       "_view_module_version": "2.0.0",
       "_view_name": "LayoutView",
       "align_content": null,
       "align_items": null,
       "align_self": null,
       "border_bottom": null,
       "border_left": null,
       "border_right": null,
       "border_top": null,
       "bottom": null,
       "display": null,
       "flex": null,
       "flex_flow": null,
       "grid_area": null,
       "grid_auto_columns": null,
       "grid_auto_flow": null,
       "grid_auto_rows": null,
       "grid_column": null,
       "grid_gap": null,
       "grid_row": null,
       "grid_template_areas": null,
       "grid_template_columns": null,
       "grid_template_rows": null,
       "height": null,
       "justify_content": null,
       "justify_items": null,
       "left": null,
       "margin": null,
       "max_height": null,
       "max_width": null,
       "min_height": null,
       "min_width": null,
       "object_fit": null,
       "object_position": null,
       "order": null,
       "overflow": null,
       "padding": null,
       "right": null,
       "top": null,
       "visibility": null,
       "width": null
      }
     },
     "23e8230050254cc0a9332fb1e126a02b": {
      "model_module": "@jupyter-widgets/base",
      "model_module_version": "2.0.0",
      "model_name": "LayoutModel",
      "state": {
       "_model_module": "@jupyter-widgets/base",
       "_model_module_version": "2.0.0",
       "_model_name": "LayoutModel",
       "_view_count": null,
       "_view_module": "@jupyter-widgets/base",
       "_view_module_version": "2.0.0",
       "_view_name": "LayoutView",
       "align_content": null,
       "align_items": null,
       "align_self": null,
       "border_bottom": null,
       "border_left": null,
       "border_right": null,
       "border_top": null,
       "bottom": null,
       "display": null,
       "flex": null,
       "flex_flow": null,
       "grid_area": null,
       "grid_auto_columns": null,
       "grid_auto_flow": null,
       "grid_auto_rows": null,
       "grid_column": null,
       "grid_gap": null,
       "grid_row": null,
       "grid_template_areas": null,
       "grid_template_columns": null,
       "grid_template_rows": null,
       "height": null,
       "justify_content": null,
       "justify_items": null,
       "left": null,
       "margin": null,
       "max_height": null,
       "max_width": null,
       "min_height": null,
       "min_width": null,
       "object_fit": null,
       "object_position": null,
       "order": null,
       "overflow": null,
       "padding": null,
       "right": null,
       "top": null,
       "visibility": null,
       "width": null
      }
     },
     "2eec79ad07a7454a9e8daeb1b9a32e77": {
      "model_module": "@jupyter-widgets/base",
      "model_module_version": "2.0.0",
      "model_name": "LayoutModel",
      "state": {
       "_model_module": "@jupyter-widgets/base",
       "_model_module_version": "2.0.0",
       "_model_name": "LayoutModel",
       "_view_count": null,
       "_view_module": "@jupyter-widgets/base",
       "_view_module_version": "2.0.0",
       "_view_name": "LayoutView",
       "align_content": null,
       "align_items": null,
       "align_self": null,
       "border_bottom": null,
       "border_left": null,
       "border_right": null,
       "border_top": null,
       "bottom": null,
       "display": null,
       "flex": null,
       "flex_flow": null,
       "grid_area": null,
       "grid_auto_columns": null,
       "grid_auto_flow": null,
       "grid_auto_rows": null,
       "grid_column": null,
       "grid_gap": null,
       "grid_row": null,
       "grid_template_areas": null,
       "grid_template_columns": null,
       "grid_template_rows": null,
       "height": null,
       "justify_content": null,
       "justify_items": null,
       "left": null,
       "margin": null,
       "max_height": null,
       "max_width": null,
       "min_height": null,
       "min_width": null,
       "object_fit": null,
       "object_position": null,
       "order": null,
       "overflow": null,
       "padding": null,
       "right": null,
       "top": null,
       "visibility": null,
       "width": null
      }
     },
     "3085712584ff4906a954004779e9d38a": {
      "model_module": "@jupyter-widgets/controls",
      "model_module_version": "2.0.0",
      "model_name": "HTMLStyleModel",
      "state": {
       "_model_module": "@jupyter-widgets/controls",
       "_model_module_version": "2.0.0",
       "_model_name": "HTMLStyleModel",
       "_view_count": null,
       "_view_module": "@jupyter-widgets/base",
       "_view_module_version": "2.0.0",
       "_view_name": "StyleView",
       "background": null,
       "description_width": "",
       "font_size": null,
       "text_color": null
      }
     },
     "3383ef61370c44cd8d893b8717830b76": {
      "model_module": "@jupyter-widgets/base",
      "model_module_version": "2.0.0",
      "model_name": "LayoutModel",
      "state": {
       "_model_module": "@jupyter-widgets/base",
       "_model_module_version": "2.0.0",
       "_model_name": "LayoutModel",
       "_view_count": null,
       "_view_module": "@jupyter-widgets/base",
       "_view_module_version": "2.0.0",
       "_view_name": "LayoutView",
       "align_content": null,
       "align_items": null,
       "align_self": null,
       "border_bottom": null,
       "border_left": null,
       "border_right": null,
       "border_top": null,
       "bottom": null,
       "display": null,
       "flex": null,
       "flex_flow": null,
       "grid_area": null,
       "grid_auto_columns": null,
       "grid_auto_flow": null,
       "grid_auto_rows": null,
       "grid_column": null,
       "grid_gap": null,
       "grid_row": null,
       "grid_template_areas": null,
       "grid_template_columns": null,
       "grid_template_rows": null,
       "height": null,
       "justify_content": null,
       "justify_items": null,
       "left": null,
       "margin": null,
       "max_height": null,
       "max_width": null,
       "min_height": null,
       "min_width": null,
       "object_fit": null,
       "object_position": null,
       "order": null,
       "overflow": null,
       "padding": null,
       "right": null,
       "top": null,
       "visibility": null,
       "width": null
      }
     },
     "4253c0717c074a46a70895a1d7aa3f9f": {
      "model_module": "@jupyter-widgets/controls",
      "model_module_version": "2.0.0",
      "model_name": "HTMLModel",
      "state": {
       "_dom_classes": [],
       "_model_module": "@jupyter-widgets/controls",
       "_model_module_version": "2.0.0",
       "_model_name": "HTMLModel",
       "_view_count": null,
       "_view_module": "@jupyter-widgets/controls",
       "_view_module_version": "2.0.0",
       "_view_name": "HTMLView",
       "description": "",
       "description_allow_html": false,
       "layout": "IPY_MODEL_23e8230050254cc0a9332fb1e126a02b",
       "placeholder": "​",
       "style": "IPY_MODEL_9351903c701b4162973a9753be299702",
       "tabbable": null,
       "tooltip": null,
       "value": " 28/28 [03:34&lt;00:00,  1.49s/it]"
      }
     },
     "890c12b3f8bb464e9d87e8f74608a370": {
      "model_module": "@jupyter-widgets/controls",
      "model_module_version": "2.0.0",
      "model_name": "HBoxModel",
      "state": {
       "_dom_classes": [],
       "_model_module": "@jupyter-widgets/controls",
       "_model_module_version": "2.0.0",
       "_model_name": "HBoxModel",
       "_view_count": null,
       "_view_module": "@jupyter-widgets/controls",
       "_view_module_version": "2.0.0",
       "_view_name": "HBoxView",
       "box_style": "",
       "children": [
        "IPY_MODEL_d8871844c29846459e6bd472f5316f77",
        "IPY_MODEL_01e86b57b44f40d6a90502157f92ad81",
        "IPY_MODEL_4253c0717c074a46a70895a1d7aa3f9f"
       ],
       "layout": "IPY_MODEL_3383ef61370c44cd8d893b8717830b76",
       "tabbable": null,
       "tooltip": null
      }
     },
     "9351903c701b4162973a9753be299702": {
      "model_module": "@jupyter-widgets/controls",
      "model_module_version": "2.0.0",
      "model_name": "HTMLStyleModel",
      "state": {
       "_model_module": "@jupyter-widgets/controls",
       "_model_module_version": "2.0.0",
       "_model_name": "HTMLStyleModel",
       "_view_count": null,
       "_view_module": "@jupyter-widgets/base",
       "_view_module_version": "2.0.0",
       "_view_name": "StyleView",
       "background": null,
       "description_width": "",
       "font_size": null,
       "text_color": null
      }
     },
     "d8871844c29846459e6bd472f5316f77": {
      "model_module": "@jupyter-widgets/controls",
      "model_module_version": "2.0.0",
      "model_name": "HTMLModel",
      "state": {
       "_dom_classes": [],
       "_model_module": "@jupyter-widgets/controls",
       "_model_module_version": "2.0.0",
       "_model_name": "HTMLModel",
       "_view_count": null,
       "_view_module": "@jupyter-widgets/controls",
       "_view_module_version": "2.0.0",
       "_view_name": "HTMLView",
       "description": "",
       "description_allow_html": false,
       "layout": "IPY_MODEL_21c09a14fb53492eb5fe0af4275254e0",
       "placeholder": "​",
       "style": "IPY_MODEL_3085712584ff4906a954004779e9d38a",
       "tabbable": null,
       "tooltip": null,
       "value": "100%"
      }
     },
     "ed425000151e4fbfa062ff8173f4cc19": {
      "model_module": "@jupyter-widgets/controls",
      "model_module_version": "2.0.0",
      "model_name": "ProgressStyleModel",
      "state": {
       "_model_module": "@jupyter-widgets/controls",
       "_model_module_version": "2.0.0",
       "_model_name": "ProgressStyleModel",
       "_view_count": null,
       "_view_module": "@jupyter-widgets/base",
       "_view_module_version": "2.0.0",
       "_view_name": "StyleView",
       "bar_color": null,
       "description_width": ""
      }
     }
    },
    "version_major": 2,
    "version_minor": 0
   }
  }
 },
 "nbformat": 4,
 "nbformat_minor": 5
}