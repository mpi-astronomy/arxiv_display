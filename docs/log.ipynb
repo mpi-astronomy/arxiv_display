{
 "cells": [
  {
   "cell_type": "markdown",
   "id": "92bcb855",
   "metadata": {
    "papermill": {
     "duration": 0.006429,
     "end_time": "2023-02-27T18:34:07.171890",
     "exception": false,
     "start_time": "2023-02-27T18:34:07.165461",
     "status": "completed"
    },
    "tags": []
   },
   "source": [
    "# MPIA Arxiv on Deck 2\n",
    "\n",
    "Contains the steps to produce the paper extractions."
   ]
  },
  {
   "cell_type": "code",
   "execution_count": 1,
   "id": "3a0d6e11",
   "metadata": {
    "execution": {
     "iopub.execute_input": "2023-02-27T18:34:07.182576Z",
     "iopub.status.busy": "2023-02-27T18:34:07.182069Z",
     "iopub.status.idle": "2023-02-27T18:34:07.377075Z",
     "shell.execute_reply": "2023-02-27T18:34:07.376318Z"
    },
    "papermill": {
     "duration": 0.202807,
     "end_time": "2023-02-27T18:34:07.379300",
     "exception": false,
     "start_time": "2023-02-27T18:34:07.176493",
     "status": "completed"
    },
    "tags": []
   },
   "outputs": [],
   "source": [
    "# Imports\n",
    "import os\n",
    "from IPython.display import Markdown, display\n",
    "from tqdm.notebook import tqdm\n",
    "import warnings\n",
    "from PIL import Image \n",
    "\n",
    "# requires arxiv_on_deck_2\n",
    "\n",
    "from arxiv_on_deck_2.arxiv2 import (get_new_papers, \n",
    "                                    get_paper_from_identifier,\n",
    "                                    retrieve_document_source, \n",
    "                                    get_markdown_badge)\n",
    "from arxiv_on_deck_2 import (latex, \n",
    "                             mpia,\n",
    "                             highlight_authors_in_list)\n",
    "\n",
    "# Sometimes images are really big\n",
    "Image.MAX_IMAGE_PIXELS = 1000000000 "
   ]
  },
  {
   "cell_type": "code",
   "execution_count": 2,
   "id": "22aa9d44",
   "metadata": {
    "execution": {
     "iopub.execute_input": "2023-02-27T18:34:07.390792Z",
     "iopub.status.busy": "2023-02-27T18:34:07.390070Z",
     "iopub.status.idle": "2023-02-27T18:34:07.394987Z",
     "shell.execute_reply": "2023-02-27T18:34:07.394466Z"
    },
    "papermill": {
     "duration": 0.012065,
     "end_time": "2023-02-27T18:34:07.396516",
     "exception": false,
     "start_time": "2023-02-27T18:34:07.384451",
     "status": "completed"
    },
    "tags": []
   },
   "outputs": [],
   "source": [
    "# Some useful definitions.\n",
    "\n",
    "class AffiliationWarning(UserWarning):\n",
    "    pass\n",
    "\n",
    "class AffiliationError(RuntimeError):\n",
    "    pass\n",
    "\n",
    "def validation(source: str):\n",
    "    \"\"\"Raises error paper during parsing of source file\n",
    "    \n",
    "    Allows checks before parsing TeX code.\n",
    "    \n",
    "    Raises AffiliationWarning\n",
    "    \"\"\"\n",
    "    check = mpia.affiliation_verifications(source, verbose=True)\n",
    "    if check is not True:\n",
    "        raise AffiliationError(\"mpia.affiliation_verifications: \" + check)\n",
    "\n",
    "        \n",
    "warnings.simplefilter('always', AffiliationWarning)"
   ]
  },
  {
   "cell_type": "code",
   "execution_count": 3,
   "id": "14622700",
   "metadata": {
    "execution": {
     "iopub.execute_input": "2023-02-27T18:34:07.406455Z",
     "iopub.status.busy": "2023-02-27T18:34:07.405783Z",
     "iopub.status.idle": "2023-02-27T18:34:07.409569Z",
     "shell.execute_reply": "2023-02-27T18:34:07.409060Z"
    },
    "papermill": {
     "duration": 0.01031,
     "end_time": "2023-02-27T18:34:07.411080",
     "exception": false,
     "start_time": "2023-02-27T18:34:07.400770",
     "status": "completed"
    },
    "tags": []
   },
   "outputs": [],
   "source": [
    "# additional CSS to consider. \n",
    "# TODO: Current into each exported file. \n",
    "#       This should be set once into the webpages directly.\n",
    "#       With only the class/id definitions in the .md files.\n",
    "\n",
    "debug_html = \"\"\"\n",
    "<style>\n",
    "#wrap{ overflow:auto; }\n",
    "#fig1{ background:yellow; width:100%; float:left; padding:5px;  }\n",
    "#fig2{ background:red; width:50%; float:left; clear:left; padding:5px;  }\n",
    "#fig3{ background:green; width:50%; float:left; padding:5px;   }\n",
    ".macros{ background:yellow; visibility:visible;}\n",
    "h1 {margin: 0 0 0 0;}\n",
    "mark {background-color:#fff3b6;}\n",
    "img {object-fit:contain; max-height:250px; display:inline-block; text-align: center;}\n",
    "</style>\n",
    "\"\"\" \n",
    "html = \"\"\"\n",
    "<style>\n",
    "#wrap{ overflow:auto; }\n",
    "#fig1{ width:100%; float:left; padding: 5px;  }\n",
    "#fig2{ width:50%; float:left; clear:left; padding: 5px;  }\n",
    "#fig3{ width:50%; float:left; padding: 5px;  }\n",
    ".macros{ visibility:hidden; height:0px; }\n",
    "h1 {margin: 0em 0 0 0;}\n",
    "mark {background-color:#fff3b6;}\n",
    "img {object-fit:contain; max-height:250px; display:inline-block; text-align: center;}\n",
    "</style>\n",
    "\"\"\""
   ]
  },
  {
   "cell_type": "markdown",
   "id": "14bd6310",
   "metadata": {
    "papermill": {
     "duration": 0.004211,
     "end_time": "2023-02-27T18:34:07.419436",
     "exception": false,
     "start_time": "2023-02-27T18:34:07.415225",
     "status": "completed"
    },
    "tags": []
   },
   "source": [
    "## get list of arxiv paper candidates\n",
    "\n",
    "We use the MPIA mitarbeiter list webpage from mpia.de to get author names\n",
    "We then get all new papers from Arxiv and match authors"
   ]
  },
  {
   "cell_type": "code",
   "execution_count": 4,
   "id": "2645e73a",
   "metadata": {
    "execution": {
     "iopub.execute_input": "2023-02-27T18:34:07.429298Z",
     "iopub.status.busy": "2023-02-27T18:34:07.428782Z",
     "iopub.status.idle": "2023-02-27T18:34:32.127753Z",
     "shell.execute_reply": "2023-02-27T18:34:32.126059Z"
    },
    "papermill": {
     "duration": 24.706095,
     "end_time": "2023-02-27T18:34:32.129688",
     "exception": false,
     "start_time": "2023-02-27T18:34:07.423593",
     "status": "completed"
    },
    "tags": []
   },
   "outputs": [
    {
     "name": "stdout",
     "output_type": "stream",
     "text": [
      "Arxiv has 51 new papers today\n",
      "          16 with possible author matches\n"
     ]
    }
   ],
   "source": [
    "# get list from MPIA website\n",
    "# it automatically filters identified non-scientists :func:`mpia.filter_non_scientists`\n",
    "mpia_authors = mpia.get_mpia_mitarbeiter_list()\n",
    "new_papers = get_new_papers()\n",
    "# add manual references\n",
    "add_paper_refs = []\n",
    "new_papers.extend([get_paper_from_identifier(k) for k in add_paper_refs])\n",
    "\n",
    "# select only papers with matching author names and highlight authors\n",
    "hl_list = [k[0] for k in mpia_authors]\n",
    "\n",
    "candidates = []\n",
    "for paperk in new_papers:\n",
    "    hl_authors = highlight_authors_in_list(paperk['authors'], hl_list)\n",
    "    matches = [(hl, orig) for hl, orig in zip(hl_authors, paperk['authors']) if 'mark' in hl]\n",
    "    paperk['authors'] = hl_authors\n",
    "    if matches:\n",
    "        candidates.append(paperk)\n",
    "print(\"\"\"Arxiv has {0:,d} new papers today\"\"\".format(len(new_papers)))        \n",
    "print(\"\"\"          {0:,d} with possible author matches\"\"\".format(len(candidates)))"
   ]
  },
  {
   "cell_type": "markdown",
   "id": "3543b34a",
   "metadata": {
    "papermill": {
     "duration": 0.00472,
     "end_time": "2023-02-27T18:34:32.139312",
     "exception": false,
     "start_time": "2023-02-27T18:34:32.134592",
     "status": "completed"
    },
    "tags": []
   },
   "source": [
    "# Parse sources and generate relevant outputs\n",
    "\n",
    "From the candidates, we do the following steps:\n",
    "* get their tarball from ArXiv (and extract data)\n",
    "* find the main .tex file: find one with \\documentclass{...} (sometimes it's non trivial)\n",
    "* Check affiliations with :func:`validation`, which uses :func:`mpia.affiliation_verifications`\n",
    "* If passing the affiliations: we parse the .tex source\n",
    "   * inject sub-documents into the main (flatten the main document)\n",
    "   * parse structure, extract information (title, abstract, authors, figures...)\n",
    "   * handles `\\graphicspath` if provided\n",
    "* Generate the .md document."
   ]
  },
  {
   "cell_type": "code",
   "execution_count": 5,
   "id": "9576b79e",
   "metadata": {
    "execution": {
     "iopub.execute_input": "2023-02-27T18:34:32.149555Z",
     "iopub.status.busy": "2023-02-27T18:34:32.149099Z",
     "iopub.status.idle": "2023-02-27T18:35:07.417190Z",
     "shell.execute_reply": "2023-02-27T18:35:07.416379Z"
    },
    "papermill": {
     "duration": 35.279361,
     "end_time": "2023-02-27T18:35:07.422998",
     "exception": false,
     "start_time": "2023-02-27T18:34:32.143637",
     "status": "completed"
    },
    "scrolled": false,
    "tags": []
   },
   "outputs": [
    {
     "data": {
      "application/vnd.jupyter.widget-view+json": {
       "model_id": "3634f0323c5a45b5b4c2dfb5f47a7b60",
       "version_major": 2,
       "version_minor": 0
      },
      "text/plain": [
       "  0%|          | 0/15 [00:00<?, ?it/s]"
      ]
     },
     "metadata": {},
     "output_type": "display_data"
    },
    {
     "name": "stdout",
     "output_type": "stream",
     "text": [
      "Retrieving document from  https://arxiv.org/e-print/2302.12267\n"
     ]
    },
    {
     "name": "stdout",
     "output_type": "stream",
     "text": [
      "extracting tarball to tmp_2302.12267..."
     ]
    },
    {
     "name": "stdout",
     "output_type": "stream",
     "text": [
      " done.\n"
     ]
    },
    {
     "name": "stderr",
     "output_type": "stream",
     "text": [
      "/opt/hostedtoolcache/Python/3.9.16/x64/lib/python3.9/site-packages/IPython/core/interactiveshell.py:3460: LatexWarning: Multiple tex files.\n",
      "\n",
      "  exec(code_obj, self.user_global_ns, self.user_ns)\n",
      "/opt/hostedtoolcache/Python/3.9.16/x64/lib/python3.9/site-packages/IPython/core/interactiveshell.py:3460: LatexWarning: Found documentclass in tmp_2302.12267/main.tex\n",
      "\n",
      "  exec(code_obj, self.user_global_ns, self.user_ns)\n",
      "/opt/hostedtoolcache/Python/3.9.16/x64/lib/python3.9/site-packages/arxiv_on_deck_2/latex.py:312: LatexWarning: Latex injecting: 'table_mrt' from 'tmp_2302.12267/table_mrt.tex'\n",
      "  warnings.warn(LatexWarning(f\"Latex injecting: '{ext}' from '{subsource}'\"))\n",
      "/opt/hostedtoolcache/Python/3.9.16/x64/lib/python3.9/site-packages/arxiv_on_deck_2/latex.py:312: LatexWarning: Latex injecting: 'table_fit' from 'tmp_2302.12267/table_fit.tex'\n",
      "  warnings.warn(LatexWarning(f\"Latex injecting: '{ext}' from '{subsource}'\"))\n",
      "/opt/hostedtoolcache/Python/3.9.16/x64/lib/python3.9/site-packages/arxiv_on_deck_2/latex.py:312: LatexWarning: Latex injecting: 'table_setup' from 'tmp_2302.12267/table_setup.tex'\n",
      "  warnings.warn(LatexWarning(f\"Latex injecting: '{ext}' from '{subsource}'\"))\n",
      "/opt/hostedtoolcache/Python/3.9.16/x64/lib/python3.9/site-packages/arxiv_on_deck_2/latex.py:312: LatexWarning: Latex injecting: 'authors' from 'tmp_2302.12267/authors.tex'\n",
      "  warnings.warn(LatexWarning(f\"Latex injecting: '{ext}' from '{subsource}'\"))\n",
      "/opt/hostedtoolcache/Python/3.9.16/x64/lib/python3.9/site-packages/arxiv_on_deck_2/latex.py:312: LatexWarning: Latex injecting: 'new_commands' from 'tmp_2302.12267/new_commands.tex'\n",
      "  warnings.warn(LatexWarning(f\"Latex injecting: '{ext}' from '{subsource}'\"))\n"
     ]
    },
    {
     "name": "stderr",
     "output_type": "stream",
     "text": [
      "/tmp/ipykernel_2000/4030337529.py:34: LatexWarning: 2302.12267 did not run properly\n",
      "list index out of range\n",
      "  warnings.warn(latex.LatexWarning(f\"{paper_id:s} did not run properly\\n\" +\n"
     ]
    },
    {
     "name": "stdout",
     "output_type": "stream",
     "text": [
      "Retrieving document from  https://arxiv.org/e-print/2302.12269\n"
     ]
    },
    {
     "name": "stdout",
     "output_type": "stream",
     "text": [
      "extracting tarball to tmp_2302.12269..."
     ]
    },
    {
     "name": "stdout",
     "output_type": "stream",
     "text": [
      " done.\n",
      "Retrieving document from  https://arxiv.org/e-print/2302.12325\n"
     ]
    },
    {
     "name": "stdout",
     "output_type": "stream",
     "text": [
      "extracting tarball to tmp_2302.12325... done.\n",
      "Retrieving document from  https://arxiv.org/e-print/2302.12376\n"
     ]
    },
    {
     "name": "stdout",
     "output_type": "stream",
     "text": [
      "extracting tarball to tmp_2302.12376..."
     ]
    },
    {
     "name": "stdout",
     "output_type": "stream",
     "text": [
      " done.\n",
      "Retrieving document from  https://arxiv.org/e-print/2302.12379\n"
     ]
    },
    {
     "name": "stderr",
     "output_type": "stream",
     "text": [
      "/opt/hostedtoolcache/Python/3.9.16/x64/lib/python3.9/site-packages/IPython/core/interactiveshell.py:3460: LatexWarning: Multiple tex files.\n",
      "\n",
      "  exec(code_obj, self.user_global_ns, self.user_ns)\n",
      "/opt/hostedtoolcache/Python/3.9.16/x64/lib/python3.9/site-packages/IPython/core/interactiveshell.py:3460: LatexWarning: Found documentclass in tmp_2302.12376/universe-2041634-proofreading.tex\n",
      "\n",
      "  exec(code_obj, self.user_global_ns, self.user_ns)\n"
     ]
    },
    {
     "name": "stdout",
     "output_type": "stream",
     "text": [
      "extracting tarball to tmp_2302.12379..."
     ]
    },
    {
     "name": "stdout",
     "output_type": "stream",
     "text": [
      " done.\n",
      "Retrieving document from  https://arxiv.org/e-print/2302.12406\n"
     ]
    },
    {
     "name": "stdout",
     "output_type": "stream",
     "text": [
      "extracting tarball to tmp_2302.12406... done.\n",
      "Retrieving document from  https://arxiv.org/e-print/2302.12437\n"
     ]
    },
    {
     "name": "stdout",
     "output_type": "stream",
     "text": [
      "extracting tarball to tmp_2302.12437... done.\n",
      "Retrieving document from  https://arxiv.org/e-print/2302.12438\n"
     ]
    },
    {
     "name": "stdout",
     "output_type": "stream",
     "text": [
      "extracting tarball to tmp_2302.12438..."
     ]
    },
    {
     "name": "stdout",
     "output_type": "stream",
     "text": [
      " done.\n",
      "Retrieving document from  https://arxiv.org/e-print/2302.12556\n"
     ]
    },
    {
     "name": "stdout",
     "output_type": "stream",
     "text": [
      "extracting tarball to tmp_2302.12556..."
     ]
    },
    {
     "name": "stdout",
     "output_type": "stream",
     "text": [
      " done.\n",
      "Retrieving document from  https://arxiv.org/e-print/2302.12679\n"
     ]
    },
    {
     "name": "stderr",
     "output_type": "stream",
     "text": [
      "/opt/hostedtoolcache/Python/3.9.16/x64/lib/python3.9/site-packages/IPython/core/interactiveshell.py:3460: LatexWarning: Multiple tex files.\n",
      "\n",
      "  exec(code_obj, self.user_global_ns, self.user_ns)\n",
      "/opt/hostedtoolcache/Python/3.9.16/x64/lib/python3.9/site-packages/IPython/core/interactiveshell.py:3460: LatexWarning: Found documentclass in tmp_2302.12556/phobos.tex\n",
      "\n",
      "  exec(code_obj, self.user_global_ns, self.user_ns)\n"
     ]
    },
    {
     "name": "stdout",
     "output_type": "stream",
     "text": [
      "extracting tarball to tmp_2302.12679... done.\n",
      "Retrieving document from  https://arxiv.org/e-print/2302.12723\n"
     ]
    },
    {
     "name": "stdout",
     "output_type": "stream",
     "text": [
      "extracting tarball to tmp_2302.12723..."
     ]
    },
    {
     "name": "stdout",
     "output_type": "stream",
     "text": [
      " done.\n",
      "Retrieving document from  https://arxiv.org/e-print/2302.12737\n"
     ]
    },
    {
     "name": "stdout",
     "output_type": "stream",
     "text": [
      "extracting tarball to tmp_2302.12737..."
     ]
    },
    {
     "name": "stdout",
     "output_type": "stream",
     "text": [
      " done.\n",
      "Retrieving document from  https://arxiv.org/e-print/2302.12753\n"
     ]
    },
    {
     "name": "stdout",
     "output_type": "stream",
     "text": [
      "extracting tarball to tmp_2302.12753..."
     ]
    },
    {
     "name": "stdout",
     "output_type": "stream",
     "text": [
      " done.\n",
      "Retrieving document from  https://arxiv.org/e-print/2302.12788\n"
     ]
    },
    {
     "name": "stdout",
     "output_type": "stream",
     "text": [
      "extracting tarball to tmp_2302.12788..."
     ]
    },
    {
     "name": "stdout",
     "output_type": "stream",
     "text": [
      " done.\n",
      "Retrieving document from  https://arxiv.org/e-print/2302.12805\n"
     ]
    },
    {
     "name": "stdout",
     "output_type": "stream",
     "text": [
      "extracting tarball to tmp_2302.12805..."
     ]
    },
    {
     "name": "stdout",
     "output_type": "stream",
     "text": [
      " done.\n"
     ]
    }
   ],
   "source": [
    "documents = []\n",
    "failed = []\n",
    "for paper in tqdm(candidates[:-1]):\n",
    "    paper_id = paper['identifier'].lower().replace('arxiv:', '')\n",
    "    \n",
    "    folder = f'tmp_{paper_id}'\n",
    "\n",
    "    try:\n",
    "        if not os.path.isdir(folder):\n",
    "            folder = retrieve_document_source(f\"{paper_id}\", f'tmp_{paper_id}')\n",
    "        \n",
    "        try:\n",
    "            doc = latex.LatexDocument(folder, validation=validation)    \n",
    "        except AffiliationError as affilerror:\n",
    "            msg = f\"ArXiv:{paper_id:s} is not an MPIA paper... \" + str(affilerror)\n",
    "            failed.append((paper, \"affiliation error: \" + str(affilerror) ))\n",
    "            continue\n",
    "        \n",
    "        # Hack because sometimes author parsing does not work well\n",
    "        if (len(doc.authors) != len(paper['authors'])):\n",
    "            doc._authors = paper['authors']\n",
    "        if (doc.abstract) in (None, ''):\n",
    "            doc._abstract = paper['abstract']\n",
    "            \n",
    "        doc.comment = (get_markdown_badge(paper_id) + \n",
    "                       \"<mark>Appeared on: \" + paper['date'] + \"</mark> - \" +\n",
    "                       \"_\" + paper['comments'] + \"_\")\n",
    "        doc.highlight_authors_in_list(hl_list)\n",
    "\n",
    "        full_md = doc.generate_markdown_text()\n",
    "        \n",
    "        documents.append((paper_id, full_md))\n",
    "    except Exception as e:\n",
    "        warnings.warn(latex.LatexWarning(f\"{paper_id:s} did not run properly\\n\" +\n",
    "                                         str(e)\n",
    "                                        ))\n",
    "        failed.append((paper, \"latex error \" + str(e)))"
   ]
  },
  {
   "cell_type": "markdown",
   "id": "2505a25c",
   "metadata": {
    "papermill": {
     "duration": 0.007024,
     "end_time": "2023-02-27T18:35:07.436304",
     "exception": false,
     "start_time": "2023-02-27T18:35:07.429280",
     "status": "completed"
    },
    "tags": []
   },
   "source": [
    "### Export the logs\n",
    "\n",
    "Throughout, we also keep track of the logs per paper. see `logs-{today date}.md` "
   ]
  },
  {
   "cell_type": "code",
   "execution_count": 6,
   "id": "d733828a",
   "metadata": {
    "execution": {
     "iopub.execute_input": "2023-02-27T18:35:07.451027Z",
     "iopub.status.busy": "2023-02-27T18:35:07.450354Z",
     "iopub.status.idle": "2023-02-27T18:35:07.483225Z",
     "shell.execute_reply": "2023-02-27T18:35:07.482497Z"
    },
    "papermill": {
     "duration": 0.047302,
     "end_time": "2023-02-27T18:35:07.489735",
     "exception": false,
     "start_time": "2023-02-27T18:35:07.442433",
     "status": "completed"
    },
    "scrolled": false,
    "tags": []
   },
   "outputs": [
    {
     "data": {
      "text/markdown": [
       "## Successful papers"
      ],
      "text/plain": [
       "<IPython.core.display.Markdown object>"
      ]
     },
     "metadata": {},
     "output_type": "display_data"
    },
    {
     "data": {
      "text/markdown": [
       "\n",
       "|||\n",
       "|---:|:---|\n",
       "| [![arXiv](https://img.shields.io/badge/arXiv-arXiv:2302.12805-b31b1b.svg)](https://arxiv.org/abs/arXiv:2302.12805) | **JADES: Discovery of extremely high equivalent width Lyman-alpha emission  from a faint galaxy within an ionized bubble at $z=7.3$**  |\n",
       "|| Aayush Saxena, et al. -- incl., <mark>Anna De Graaff</mark>, <mark>Hans-Walter Rix</mark> |\n",
       "|*Appeared on*| *2023-02-27*|\n",
       "|*Comments*| *12 pages, 7 figures, submitted to Astronomy & Astrophysics, comments welcome!*|\n",
       "|**Abstract**| We report the discovery of a remarkable Ly$\\alpha$ emitting galaxy at $z=7.278$, JADES-GS+53.16746-27.7720 (shortened to JADES-GS-z7-LA), with EW$_0$(Ly$\\alpha$) $\\approx400 \\pm 90$A and UV magnitude $-16.7$. The spectroscopic redshift is confirmed via rest-frame optical lines [O II], H$\\beta$ and [O III] in its JWST/NIRSpec Micro-Shutter Assembly (MSA) spectrum. The Ly$\\alpha$ line is detected in both lower resolution ($R\\sim100$) PRISM as well as medium resolution ($R\\sim1000$) G140M grating spectra. The Ly$\\alpha$ FWHM in the grating is $\\approx360$ km s$^{-1}$ and the line peaks within $120$ km s$^{-1}$ of the systemic redshift, indicative of very little neutral gas or dust within the galaxy. We estimate the Ly$\\alpha$ escape fraction to be $\\sim100\\%$. JADES-GS-z7-LA has a [O III]/[O II] ratio (O32) of $8.8 \\pm 1.1$ and ([O III]+[O II])/H$\\beta$ ratio (R23) of $9.6\\pm2.2$, consistent with low metallicity and high ionization parameters. Deep NIRCam imaging also revealed a close companion source (separated by $0.23''$), which exhibits similar photometry to that of JADES-GS-z7-LA, with a photometric excess in the F410M NIRCam image consistent with [O III]+H$\\beta$ emission at the same redshift. The spectral energy distribution of JADES-GS-z7-LA indicates a `bursty' star-formation history, with a low stellar mass of $10^{7.15}$ M$_\\odot$. The only explanation of the high EW Ly$\\alpha$ emission seen in JADES-GS-z7-LA is if it resides in an ionized bubble with radius $\\gtrsim 3$ pMpc. Owing to the faint nature of JADES-GS-z7-LA, we show that it is incapable of single-handedly ionizing a bubble large enough. Therefore, we suggest that JADES-GS-z7-LA (and possibly the companion source) may be a part of a larger overdensity, presenting direct evidence of overlapping ionized bubbles at $z>7$, allowing us to study the process of reionization across both small and large scales. |"
      ],
      "text/plain": [
       "[arXiv:2302.12805] JADES: Discovery of extremely high equivalent width Lyman-alpha emission  from a faint galaxy within an ionized bubble at $z=7.3$\n",
       "\tAayush Saxena, et al. -- incl., <mark>Anna De Graaff</mark>, <mark>Hans-Walter Rix</mark>"
      ]
     },
     "metadata": {},
     "output_type": "display_data"
    },
    {
     "data": {
      "text/markdown": [
       "## Failed papers"
      ],
      "text/plain": [
       "<IPython.core.display.Markdown object>"
      ]
     },
     "metadata": {},
     "output_type": "display_data"
    },
    {
     "data": {
      "text/markdown": [
       "\n",
       "|||\n",
       "|---:|:---|\n",
       "| [![arXiv](https://img.shields.io/badge/arXiv-arXiv:2302.12269-b31b1b.svg)](https://arxiv.org/abs/arXiv:2302.12269) | **The origin of power-law spectra in relativistic magnetic reconnection**  |\n",
       "|| <mark>Hao Zhang</mark>, Lorenzo Sironi, Dimitrios Giannios, Maria Petropoulou |\n",
       "|*Appeared on*| *2023-02-27*|\n",
       "|*Comments*| *8 pages, 8 figures, submitted*|\n",
       "|**Abstract**| Magnetic reconnection is often invoked as a source of high-energy particles, and in relativistic astrophysical systems it is regarded as a prime candidate for powering fast and bright flares. We present a novel analytical model - supported and benchmarked with large-scale three-dimensional particle-in-cell simulations - that elucidates the physics governing the generation of power-law energy spectra in relativistic reconnection. Particles with Lorentz factor $\\gamma\\gtrsim 3\\sigma$ (here, $\\sigma$ is the magnetization) gain most of their energy in the inflow region, while meandering between the two sides of the reconnection layer. Their acceleration time is $t_{\\rm acc}\\sim \\gamma \\,\\eta_{\\rm rec}^{-1}\\omega_{\\rm c}^{-1}\\simeq 20\\,\\gamma\\,\\omega_{\\rm c}^{-1}$, where $\\eta_{\\rm rec}\\simeq0.06$ is the inflow speed in units of the speed of light and $\\omega_{\\rm c}=eB_0/mc$ is the gyrofrequency in the upstream magnetic field. They leave the region of active energization after $t_{\\rm esc}$, when they get captured by one of the outflowing flux ropes of reconnected plasma. We directly measure $t_{\\rm esc}$ in our simulations and find that $t_{\\rm esc}\\sim t_{\\rm acc}$ for $\\sigma\\gtrsim {\\rm few}$. This leads to a universal (i.e., $\\sigma$-independent) power-law spectrum $dN_{\\rm free}/d\\gamma\\propto \\gamma^{-1}$ for the particles undergoing active acceleration, and $dN/d\\gamma\\propto \\gamma^{-2}$ for the overall particle population. Our results help shedding light on the ubiquitous presence of power-law particle and photon spectra in astrophysical non-thermal sources. |\n",
       "|<p style=\"color:green\"> **ERROR** </p>| <p style=\"color:green\">affiliation error: mpia.affiliation_verifications: 'Heidelberg' keyword not found.</p> |"
      ],
      "text/plain": [
       "<IPython.core.display.Markdown object>"
      ]
     },
     "metadata": {},
     "output_type": "display_data"
    },
    {
     "data": {
      "text/markdown": [
       "\n",
       "|||\n",
       "|---:|:---|\n",
       "| [![arXiv](https://img.shields.io/badge/arXiv-arXiv:2302.12325-b31b1b.svg)](https://arxiv.org/abs/arXiv:2302.12325) | **The Intrinsic Alignment of Red Galaxies in DES Y1 redMaPPer Galaxy  Clusters**  |\n",
       "|| C. Zhou, et al. -- incl., <mark>Y. Zhang</mark> |\n",
       "|*Appeared on*| *2023-02-27*|\n",
       "|*Comments*| *14 pages, 13 figures*|\n",
       "|**Abstract**| Clusters of galaxies are sensitive to the most nonlinear peaks in the cosmic density field. The weak gravitational lensing of background galaxies by clusters can allow us to infer their masses. However, galaxies associated with the local environment of the cluster can also be intrinsically aligned due to the local tidal gradient, contaminating any cosmology derived from the lensing signal. We measure this intrinsic alignment in Dark Energy Survey (DES) Year 1 redMaPPer clusters. We find evidence of a non-zero mean radial alignment of galaxies within clusters between redshift 0.1-0.7. We find a significant systematic in the measured ellipticities of cluster satellite galaxies that we attribute to the central galaxy flux and other intracluster light. We attempt to correct this signal, and fit a simple model for intrinsic alignment amplitude ($A_{\\textrm{IA}}$) to the measurement, finding $A_{\\textrm{IA}}=0.15\\pm 0.04$, when excluding data near the edge of the cluster. We find a significantly stronger alignment of the central galaxy with the cluster dark matter halo at low redshift and with higher richness and central galaxy absolute magnitude (proxies for cluster mass). This is an important demonstration of the ability of large photometric data sets like DES to provide direct constraints on the intrinsic alignment of galaxies within clusters. These measurements can inform improvements to small-scale modeling and simulation of the intrinsic alignment of galaxies to help improve the separation of the intrinsic alignment signal in weak lensing studies. |\n",
       "|<p style=\"color:green\"> **ERROR** </p>| <p style=\"color:green\">affiliation error: mpia.affiliation_verifications: 'Heidelberg' keyword not found.</p> |"
      ],
      "text/plain": [
       "<IPython.core.display.Markdown object>"
      ]
     },
     "metadata": {},
     "output_type": "display_data"
    },
    {
     "data": {
      "text/markdown": [
       "\n",
       "|||\n",
       "|---:|:---|\n",
       "| [![arXiv](https://img.shields.io/badge/arXiv-arXiv:2302.12376-b31b1b.svg)](https://arxiv.org/abs/arXiv:2302.12376) | **Multiverse Predictions for Habitability: Planetary Characteristics**  |\n",
       "|| McCullen Sandora, Vladimir Airapetian, Luke Barnes, <mark>Geraint F. Lewis</mark> |\n",
       "|*Appeared on*| *2023-02-27*|\n",
       "|*Comments*| *26 pages, 3 figures*|\n",
       "|**Abstract**| Recent detections of potentially habitable exoplanets around sunlike stars demand increased exploration of the physical conditions that can sustain life, by whatever methods available. Insight into these conditions can be gained by considering the multiverse hypothesis; in a multiverse setting, the probability of living in our universe depends on assumptions made about the factors affecting habitability. Various proposed habitability criteria can be systematically considered to rate each on the basis of their compatibility with the multiverse, generating predictions which can both guide expectations for life's occurrence and test the multiverse hypothesis. Here, we evaluate several aspects of planetary habitability, and show that the multiverse does indeed induce strong preferences among them. We find that the notion that a large moon is necessary for habitability is untenable in the multiverse scenario, as in the majority of parameter space, moons are not necessary to maintain stable obliquity. Further, we consider various proposed mechanisms for water delivery to the early Earth, including delivery from asteroids, both during giant planet formation and a grand tack, delivery from comets, and oxidation of a primary atmosphere by a magma ocean. We find that, depending on assumptions for how habitability depends on water content, some of these proposed mechanisms are disfavored in the multiverse scenario by Bayes factors of up to several hundred. |\n",
       "|<p style=\"color:green\"> **ERROR** </p>| <p style=\"color:green\">affiliation error: mpia.affiliation_verifications: 'Heidelberg' keyword not found.</p> |"
      ],
      "text/plain": [
       "<IPython.core.display.Markdown object>"
      ]
     },
     "metadata": {},
     "output_type": "display_data"
    },
    {
     "data": {
      "text/markdown": [
       "\n",
       "|||\n",
       "|---:|:---|\n",
       "| [![arXiv](https://img.shields.io/badge/arXiv-arXiv:2302.12379-b31b1b.svg)](https://arxiv.org/abs/arXiv:2302.12379) | **Galaxy Clustering in the Mira-Titan Universe I: Emulators for the  redshift space galaxy correlation function and galaxy-galaxy lensing**  |\n",
       "|| Juliana Kwan, et al. -- incl., <mark>Hong Guo</mark>, <mark>Sergio Rodríguez-Torres</mark> |\n",
       "|*Appeared on*| *2023-02-27*|\n",
       "|*Comments*| *31 pages, 13 figures, submitted to ApJ*|\n",
       "|**Abstract**| We construct accurate emulators for the projected and redshift space galaxy correlation functions and excess surface density as measured by galaxy-galaxy lensing, based on Halo Occupation Distribution (HOD) modeling. Using the complete Mira-Titan suite of 111 $N$-body simulations, our emulators vary over eight cosmological parameters and include the effects of neutrino mass and dynamical dark energy. We demonstrate that our emulators are sufficiently accurate for the analysis of the BOSS DR12 CMASS galaxy sample over the range 0.5 < r < 50 Mpc/h. Furthermore, we show that our emulators are capable of recovering unbiased cosmological constraints from realistic mock catalogs over the same range. Our mock catalog tests show the efficacy of combining small scale galaxy-galaxy lensing with redshift space clustering and that we can constrain the growth rate and \\sigma_8 to 7% and 4.5% respectively for a CMASS-like sample using only the measurements covered by our emulator. With the inclusion of a CMB prior on H_0, this reduces to a 2% measurement on the growth rate. |\n",
       "|<p style=\"color:green\"> **ERROR** </p>| <p style=\"color:green\">affiliation error: mpia.affiliation_verifications: 'Heidelberg' keyword not found.</p> |"
      ],
      "text/plain": [
       "<IPython.core.display.Markdown object>"
      ]
     },
     "metadata": {},
     "output_type": "display_data"
    },
    {
     "data": {
      "text/markdown": [
       "\n",
       "|||\n",
       "|---:|:---|\n",
       "| [![arXiv](https://img.shields.io/badge/arXiv-arXiv:2302.12406-b31b1b.svg)](https://arxiv.org/abs/arXiv:2302.12406) | **Searching for ER and/or NR-like dark matter signals with the especially  low background liquid helium TPCs**  |\n",
       "|| Junhui Liao, et al. -- incl., <mark>Xiuliang Zhao</mark>, <mark>Lei Zhang</mark> |\n",
       "|*Appeared on*| *2023-02-27*|\n",
       "|*Comments*| **|\n",
       "|**Abstract**| No existence of convincing signals has become a ``new normal'' in the Dark Matter (DM) direct detection community for decades. Among other possibilities, the ``new normal'' might indicate that in addition to the traditional NR (Nuclear Recoil) events, ER (Electron Recoil) ones could also result from DM interactions, which have been considered as backgrounds historically. Further, we argue that ER and NR-like DM signals could co-exist in a detector's same dataset. So in total, there would be three scenarios we can search for DM candidate signals: (i) NR excess only, (ii) ER excess only, and (iii) both ER and NR excess. To effectively identify possible DM signals under the three scenarios, a DM detector should (a) have the minimum ER and NR backgrounds and (b) be capable of discriminating ER events from NR ones. Accordingly, we introduce the newly established project, ALETHEIA (A Liquid hElium Time projection cHambEr In dArk matter), which implements liquid helium TPCs (Time Projection Chamber) to hunt for low-mass ($\\sim $100s MeV/c$^2$ - 10 GeV/c$^2$) DM. Presumably, the LHe TPC technology would have the minimum intrinsic backgrounds and strong ER/NR discrimination, therefore, be capable of identifying any kind of DM induced excess if it exists at all. |\n",
       "|<p style=\"color:green\"> **ERROR** </p>| <p style=\"color:green\">affiliation error: mpia.affiliation_verifications: 'Heidelberg' keyword not found.</p> |"
      ],
      "text/plain": [
       "<IPython.core.display.Markdown object>"
      ]
     },
     "metadata": {},
     "output_type": "display_data"
    },
    {
     "data": {
      "text/markdown": [
       "\n",
       "|||\n",
       "|---:|:---|\n",
       "| [![arXiv](https://img.shields.io/badge/arXiv-arXiv:2302.12437-b31b1b.svg)](https://arxiv.org/abs/arXiv:2302.12437) | **Constraining AGN Torus Sizes with Optical and Mid-Infrared Ensemble  Structure Functions**  |\n",
       "|| <mark>Junyao Li</mark>, Yue Shen |\n",
       "|*Appeared on*| *2023-02-27*|\n",
       "|*Comments*| *13 pages, 7 figures, submitted to ApJ*|\n",
       "|**Abstract**| We propose a new method to constrain the size of the dusty torus in broad-line active galactic nuclei (AGNs) using optical and mid-infrared (MIR) ensemble structure functions (SFs). Because of the geometric dilution of the torus, the mid-infrared response to optical continuum variations has suppressed variability with respect to the optical that depends on the geometry (e.g., size, orientation and opening angle) of the torus. More extended tori have steeper MIR SFs with respect to the optical SF. We demonstrate the feasibility of this SF approach using simulated AGN light curves and a geometric torus model. While it is difficult to use SFs to constrain the orientation and opening angle of the torus due to model degeneracies and insensitivity of the SF on these parameters, the size of the torus can be well determined using this method. Applying this method to the ensemble SFs measured for 587 SDSS quasars with both optical and MIR light curves, we measure a best-fit torus $R-L$ relation of ${\\rm log}\\,R_{\\rm eff}\\, {(\\rm pc)} = 0.49_{-0.03}^{+0.04} \\times {\\rm log}\\,(L_{\\rm bol}/10^{46}\\,\\rm erg\\,s^{-1}) -0.40_{-0.01}^{+0.01}$, which is in good agreement with dust reverberation mapping measurements in AGNs. Compared with the dust reverberation mapping technique, the SF method is much less demanding in data quality and can be applied to any optical+MIR light curves for which a lag measurement may not be possible, as long as the variability process and torus structure are stationary. While this SF method does not extract and utilize all information contained in the light curves (i.e., the transfer function), it provides an intuitive interpretation for the observed trends of AGN MIR SFs compared with optical SFs. |\n",
       "|<p style=\"color:green\"> **ERROR** </p>| <p style=\"color:green\">affiliation error: mpia.affiliation_verifications: 'Heidelberg' keyword not found.</p> |"
      ],
      "text/plain": [
       "<IPython.core.display.Markdown object>"
      ]
     },
     "metadata": {},
     "output_type": "display_data"
    },
    {
     "data": {
      "text/markdown": [
       "\n",
       "|||\n",
       "|---:|:---|\n",
       "| [![arXiv](https://img.shields.io/badge/arXiv-arXiv:2302.12438-b31b1b.svg)](https://arxiv.org/abs/arXiv:2302.12438) | **The eROSITA Final Equatorial-Depth Survey (eFEDS): Host-galaxy  Demographics of X-ray AGNs with Subaru Hyper Suprime-Cam**  |\n",
       "|| <mark>Junyao Li</mark>, et al. |\n",
       "|*Appeared on*| *2023-02-27*|\n",
       "|*Comments*| *15 pages, 13 figures, submitted to MNRAS*|\n",
       "|**Abstract**| We investigate the physical properties, such as star-forming activity, disk vs. bulge nature, galaxy size, and obscuration of 3796 X-ray selected AGNs at $0.2<z<0.8$ in the eFEDS field. Using Subaru Hyper Suprime-Cam imaging data in the $grizy$ bands for SRG/eROSITA-detected AGNs, we measure the structural parameters for AGN host galaxies by performing a 2D AGN-host image decomposition. We then conduct spectral energy distribution fitting to derive stellar mass and rest-frame colors for AGN hosts. We find that (1) AGNs can contribute significantly to the total optical light down to ${\\rm log}\\,L_{\\rm X}\\sim 42.5\\ \\rm erg\\,s^{-1}$, thus ignoring the AGN component can significantly bias the structural measurements; (2) AGN hosts are predominately star-forming galaxies at ${\\rm log}\\,\\mathcal{M}_\\star \\lesssim 11.3\\ M_\\odot$; (3) the bulk of AGNs (64%) reside in galaxies with significant stellar disks, while their host galaxies become increasingly bulge dominated and quiescent at ${\\rm log}\\,\\mathcal{M}_\\star \\gtrsim 11.0\\ M_\\odot$; (4) the size-stellar mass relation of AGN hosts tends to lie between that of inactive star-forming and quiescent galaxies, suggesting that the physical mechanism responsible for building the central stellar density also efficiently fuel the black hole growth; (5) the hosts of X-ray unobscured AGNs are biased towards face-on systems and the average $E(B-V)/N_{\\rm H}$ is similar to the galactic dust-to-gas ratio, suggesting that some of the obscuration of the nuclei could come from galaxy-scale gas and dust, which may partly account for (up to 30%) the deficiency of star-forming disks as host galaxies for the most massive AGNs. These results are consistent with a scenario in which the black hole and galaxy grow in mass while transform in structure and star-forming activity, as desired to establish the local scaling relations. |\n",
       "|<p style=\"color:green\"> **ERROR** </p>| <p style=\"color:green\">affiliation error: mpia.affiliation_verifications: 'Heidelberg' keyword not found.</p> |"
      ],
      "text/plain": [
       "<IPython.core.display.Markdown object>"
      ]
     },
     "metadata": {},
     "output_type": "display_data"
    },
    {
     "data": {
      "text/markdown": [
       "\n",
       "|||\n",
       "|---:|:---|\n",
       "| [![arXiv](https://img.shields.io/badge/arXiv-arXiv:2302.12556-b31b1b.svg)](https://arxiv.org/abs/arXiv:2302.12556) | **Exploring the recycling model of Phobos formation: rubble-pile  satellites**  |\n",
       "|| Gustavo Madeira, et al. -- incl., <mark>Yun Zhang</mark> |\n",
       "|*Appeared on*| *2023-02-27*|\n",
       "|*Comments*| *Accept in The Astronomical Journal*|\n",
       "|**Abstract**| Phobos is the target of the return sample mission Martian Moons eXploration by JAXA that will analyze in great details the physical and compositional properties of the satellite from orbit, from the surface and in terrestrial laboratories, giving clues about its formation. Some models propose that Phobos and Deimos were formed after a giant impact giving rise to an extended debris disk. Assuming that Phobos formed from a cascade of disruptions and re-accretions of several parent bodies in this disk, and that they are all characterized by a low material cohesion, Hesselbrock & Milton (2017) have showed that a recycling process may happen during the assembling of Phobos, by which Phobos' parents are destroyed into a Roche-interior ring and reaccreted several times. In the current paper we explore in details the recycling model, and pay particular attention to the characteristics of the disk using 1D models of disk/satellite interactions. In agreement with previous studies we confirm that, if Phobos' parents bodies are gravitational aggregates (rubble piles), then the recycling process does occur. However, Phobos should be accompanied today by a Roche-interior ring. Furthermore, the characteristics of the ring are not reconcilable with today`s observations of Mars' environment, which put stringent constraints on the existence of a ring around Mars. The recycling mechanism may or may not have occurred at the Roche limit for an old moon population, depending on their internal cohesion. However, the Phobos we see today cannot be the outcome of such a recycling process. |\n",
       "|<p style=\"color:green\"> **ERROR** </p>| <p style=\"color:green\">affiliation error: mpia.affiliation_verifications: 'Heidelberg' keyword not found.</p> |"
      ],
      "text/plain": [
       "<IPython.core.display.Markdown object>"
      ]
     },
     "metadata": {},
     "output_type": "display_data"
    },
    {
     "data": {
      "text/markdown": [
       "\n",
       "|||\n",
       "|---:|:---|\n",
       "| [![arXiv](https://img.shields.io/badge/arXiv-arXiv:2302.12679-b31b1b.svg)](https://arxiv.org/abs/arXiv:2302.12679) | **A Study of GeV Gamma-ray Emission toward Supernova Remnant G51.26+0.11  and Its Molecular Environment**  |\n",
       "|| Wen-Juan Zhong, <mark>Xiao Zhang</mark>, Yang Chen, <mark>Qian-Qian Zhang</mark> |\n",
       "|*Appeared on*| *2023-02-27*|\n",
       "|*Comments*| *10 pages, 8 figures, accepted for publication in MNRAS*|\n",
       "|**Abstract**| We reanalyze the Fermi-LAT GeV $\\gamma$-ray emission in the region of supernova remnant (SNR) G51.26+0.11 and investigate its interstellar molecular environment with the CO-line data. At GeV energies, based on 13.2 years of Fermi-LAT data, the extended $\\gamma$-ray emission observed in this region is resolved into a uniform-disk source ('Src A') with a significance of 19.5$\\sigma$ and a point source (4FGL J1924.3+1628) with a significance of 4.2$\\sigma$ in 0.2$-$500 GeV. With an angular radius of $\\sim$ 0.17$^{\\deg}$, 'Src A' overlaps with SNR G51.26+0.11 significantly in the line of sight. On the other hand, the morphological coincidence between the SNR and the $\\sim$ +54 km s$^{-1}$ molecular clouds (MCs) together with the asymmetric or broad $^{12}$CO line profiles near the SNR boundary provides evidence for the very likely SNR-MC interaction. The SNR-MC interaction and the HI absorption features indicate that SNR G51.26+0.11 is located at a kinematic distance of 6.2 $\\pm$ 0.5 kpc. Combined with the results from the multi-wavelength analysis, the $\\gamma$-ray emission of the SNR ('Src A') can be naturally explained by a hadronic model with a soft power-law proton spectrum of index $\\sim$ 2.25. |\n",
       "|<p style=\"color:green\"> **ERROR** </p>| <p style=\"color:green\">affiliation error: mpia.affiliation_verifications: 'Heidelberg' keyword not found.</p> |"
      ],
      "text/plain": [
       "<IPython.core.display.Markdown object>"
      ]
     },
     "metadata": {},
     "output_type": "display_data"
    },
    {
     "data": {
      "text/markdown": [
       "\n",
       "|||\n",
       "|---:|:---|\n",
       "| [![arXiv](https://img.shields.io/badge/arXiv-arXiv:2302.12723-b31b1b.svg)](https://arxiv.org/abs/arXiv:2302.12723) | **JWST Observations of the Enigmatic Y Dwarf WISE 1828+2650: I. Limits to  a Binary Companion**  |\n",
       "|| Matthew De Furio, et al. -- incl., <mark>Michael R. Meyer</mark> |\n",
       "|*Appeared on*| *2023-02-27*|\n",
       "|*Comments*| *15 pages, 9 figures, Accepted by ApJ on Feb. 21 2023*|\n",
       "|**Abstract**| The Y-dwarf WISE 1828+2650 is one of the coldest known Brown Dwarfs with an effective temperature of $\\sim$300 K. Located at a distance of just 10 pc, previous model-based estimates suggest WISE1828+2650 has a mass of $\\sim$5-10 Mj, making it a valuable laboratory for understanding the formation, evolution and physical characteristics of gas giant planets. However, previous photometry and spectroscopy have presented a puzzle with the near-impossibility of simultaneously fitting both the short (0.9-2.0 microns) and long wavelength (3-5 microns) data. A potential solution to this problem has been the suggestion that WISE 1828+2650 is a binary system whose composite spectrum might provide a better match to the data. Alternatively, new models being developed to fit JWST/NIRSpec and MIRI spectroscopy might provide new insights. This article describes JWST/NIRCam observations of WISE 1828+2650 in 6 filters to address the binarity question and to provide new photometry to be used in model fitting. We also report Adaptive Optics imaging with the Keck 10 m telescope. We find no evidence for multiplicity for a companion beyond 0.5 AU with either JWST or Keck. Companion articles will present low and high resolution spectra of WISE 1828+2650 obtained with both NIRSpec and MIRI. |\n",
       "|<p style=\"color:green\"> **ERROR** </p>| <p style=\"color:green\">affiliation error: mpia.affiliation_verifications: 'Heidelberg' keyword not found.</p> |"
      ],
      "text/plain": [
       "<IPython.core.display.Markdown object>"
      ]
     },
     "metadata": {},
     "output_type": "display_data"
    },
    {
     "data": {
      "text/markdown": [
       "\n",
       "|||\n",
       "|---:|:---|\n",
       "| [![arXiv](https://img.shields.io/badge/arXiv-arXiv:2302.12737-b31b1b.svg)](https://arxiv.org/abs/arXiv:2302.12737) | **A Model for Nonthermal Particle Acceleration in Relativistic Magnetic  Reconnection**  |\n",
       "|| <mark>Xiaocan Li</mark>, <mark>Fan Guo</mark>, Yi-Hsin Liu, <mark>Hui Li</mark> |\n",
       "|*Appeared on*| *2023-02-27*|\n",
       "|*Comments*| *6 pages, 5 figures, submitted*|\n",
       "|**Abstract**| The past decade has seen an outstanding development of nonthermal particle acceleration in magnetic reconnection in magnetically-dominated systems, with clear signatures of power-law energy distributions as a common outcome of first-principles kinetic simulations. Here we propose a semi-analytical model for systematically investigating nonthermal particle acceleration in reconnection. We show particle energy distributions are well determined by particle injection, acceleration, and escape processes. Using a series of kinetic simulations, we accurately evaluate the energy- and time-dependent model coefficients. The resulting spectral characteristics, including the spectral index and lower and upper bounds of the power-law distribution, agree well with the simulation results. Finally, we apply the model to predict the power-law indices and break energies in astrophysical reconnection systems. |\n",
       "|<p style=\"color:green\"> **ERROR** </p>| <p style=\"color:green\">affiliation error: mpia.affiliation_verifications: 'Heidelberg' keyword not found.</p> |"
      ],
      "text/plain": [
       "<IPython.core.display.Markdown object>"
      ]
     },
     "metadata": {},
     "output_type": "display_data"
    },
    {
     "data": {
      "text/markdown": [
       "\n",
       "|||\n",
       "|---:|:---|\n",
       "| [![arXiv](https://img.shields.io/badge/arXiv-arXiv:2302.12788-b31b1b.svg)](https://arxiv.org/abs/arXiv:2302.12788) | **The interplay between accretion, galaxy downsizing and the formation of  box/peanut bulges in TNG50**  |\n",
       "|| Stuart Robert Anderson, et al. -- incl., <mark>Joseph Caruana</mark> |\n",
       "|*Appeared on*| *2023-02-27*|\n",
       "|*Comments*| *20 pages, 24 figures, 5 tables. Submitted to MNRAS*|\n",
       "|**Abstract**| From the TNG50 cosmological simulation we build a sample of 191 well-resolved barred galaxies with a stellar mass $\\logMstar > 10$ at $z=0$. We search for box/peanut bulges (BPs) in this sample, finding them in 55\\% of cases. We compute $\\fbp$, the BP probability for barred galaxies as a function of $\\Mstar$, and find that this rises to a plateau, as found in observations of nearby galaxies. The transition mass where $\\fbp$ reaches half the plateau value is $\\logMstar = 10.14$, consistent with the observational value within measurement errors. We show that this transition in $\\fbp$ can be attributed to the youth of the bars at low $\\Mstar$, which is a consequence of downsizing of galaxies. Young bars, being generally shorter and weaker, have not yet had time to form BPs. At high mass, while we find a plateau, the value is at $\\sim 60\\%$ whereas observations saturate at $100\\%$. We attribute this difference to excessive heating in TNG50, due to merger activity and to numerical resolution effects. BPs in TNG50 tend to occur in galaxies with more quiescent merger histories. As a result, the main driver of whether a bar hosts a BP in TNG50 is not the galaxy mass, but how long and strong the bar is. Separating the BP sample into those that have visibly buckled and those that have not, we find that fully half of BP galaxies show clear signs of buckling, despite the excessive heating and limited vertical resolution of TNG50. |\n",
       "|<p style=\"color:green\"> **ERROR** </p>| <p style=\"color:green\">affiliation error: mpia.affiliation_verifications: 'Heidelberg' keyword not found.</p> |"
      ],
      "text/plain": [
       "<IPython.core.display.Markdown object>"
      ]
     },
     "metadata": {},
     "output_type": "display_data"
    },
    {
     "data": {
      "text/markdown": [
       "\n",
       "|||\n",
       "|---:|:---|\n",
       "| [![arXiv](https://img.shields.io/badge/arXiv-arXiv:2302.12753-b31b1b.svg)](https://arxiv.org/abs/arXiv:2302.12753) | **Thermal history of the Erg Chech 002 parent body: Early accretion and  early differentiation of a small asteroid**  |\n",
       "|| <mark>Wladimir Neumann</mark>, et al. |\n",
       "|*Appeared on*| *2023-02-27*|\n",
       "|*Comments*| **|\n",
       "|**Abstract**| The history of accretion and differentiation processes in the planetesimals is provided by various groups of meteorites. Sampling different parent body layers, they reveal the circumstances of the metal-silicate segregation and the internal structures of the protoplanets. The ungrouped achondrite Erg Chech 002 (EC 002) added to the suite of samples from primitive igneous crusts. Here we present models that utilize thermo-chronological data for EC 002 and fit the accretion time and size of its parent body to these data. The U-corrected Pb-Pb, Al-Mg, and Ar-Ar ages used imply a best-fit planetesimal with a radius of 20-30 km that formed at 0.1 Ma after CAIs. Its interior melted early and differentiated by 0.5 Ma, allowing core and mantle formation with a transient lower mantle magma ocean, and a melt fraction of <25 % at the meteorite layering depth. EC 002 formed from this melt at a depth of 0.8 km in a partially differentiated region covered by an undifferentiated crust. By simulating collisions with impactors of different sizes and velocities, we analyzed the minimum ejection conditions of EC 002 from its original parent body and the surface composition of the impact site. The magma ocean region distinct from the layering depth of EC 002 implyes that it was not involved in the EC 002 genesis. Our models estimate closure temperatures for the Al-Mg ages as 1060 K to 1200 K. A fast parent body cooling attributes the late Ar-Ar age to a local reheating by another, late impact. |\n",
       "|<p style=\"color:green\"> **ERROR** </p>| <p style=\"color:green\">affiliation error: mpia.affiliation_verifications: 'Planck' keyword not found.</p> |"
      ],
      "text/plain": [
       "<IPython.core.display.Markdown object>"
      ]
     },
     "metadata": {},
     "output_type": "display_data"
    },
    {
     "data": {
      "text/markdown": [
       "\n",
       "|||\n",
       "|---:|:---|\n",
       "| [![arXiv](https://img.shields.io/badge/arXiv-arXiv:2302.12267-b31b1b.svg)](https://arxiv.org/abs/arXiv:2302.12267) | **Star Formation Laws and Efficiencies across 80 Nearby Galaxies**  |\n",
       "|| Jiayi Sun, et al. -- incl., <mark>Eva Schinnerer</mark>, <mark>Annie Hughes</mark>, <mark>Kathryn Kreckel</mark>, <mark>Frank Bigiel</mark>, <mark>Lukas Neumann</mark> |\n",
       "|*Appeared on*| *2023-02-27*|\n",
       "|*Comments*| *10 pages main text + 2 appendices. ApJL in press. Data products available at this https URL . Slides summarizing key results can be found at this https URL*|\n",
       "|**Abstract**| We measure empirical relationships between the local star formation rate (SFR) and properties of the star-forming molecular gas on 1.5 kpc scales across 80 nearby galaxies. These relationships, commonly referred to as \"star formation laws,\" aim at predicting the local SFR surface density from various combinations of molecular gas surface density, galactic orbital time, molecular cloud free-fall time, and the interstellar medium dynamical equilibrium pressure. Leveraging a multiwavelength database built for the PHANGS survey, we measure these quantities consistently across all galaxies and quantify systematic uncertainties stemming from choices of SFR calibrations and the CO-to-H$_2$ conversion factors. The star formation laws we examine show 0.3-0.4 dex of intrinsic scatter, among which the molecular Kennicutt-Schmidt relation shows a $\\sim$10% larger scatter than the other three. The slope of this relation ranges $\\beta\\approx0.9{-}1.2$, implying that the molecular gas depletion time remains roughly constant across the environments probed in our sample. The other relations have shallower slopes ($\\beta\\approx0.6{-}1.0$), suggesting that the star formation efficiency (SFE) per orbital time, the SFE per free-fall time, and the pressure-to-SFR surface density ratio (i.e., the feedback yield) may vary systematically with local molecular gas and SFR surface densities. Last but not least, the shapes of the star formation laws depend sensitively on methodological choices. Different choices of SFR calibrations can introduce systematic uncertainties of at least 10-15% in the star formation law slopes and 0.15-0.25 dex in their normalization, while the CO-to-H$_2$ conversion factors can additionally produce uncertainties of 20-25% for the slope and 0.10-0.20 dex for the normalization. |\n",
       "|<p style=\"color:red\"> **ERROR** </p>| <p style=\"color:red\">latex error list index out of range</p> |"
      ],
      "text/plain": [
       "<IPython.core.display.Markdown object>"
      ]
     },
     "metadata": {},
     "output_type": "display_data"
    }
   ],
   "source": [
    "import datetime\n",
    "today = str(datetime.date.today())\n",
    "logfile = f\"_build/html/logs/log-{today}.md\"\n",
    "\n",
    "\n",
    "with open(logfile, 'w') as logs:\n",
    "    # Success\n",
    "    logs.write(f'# Arxiv on Deck 2: Logs - {today}\\n\\n')\n",
    "    logs.write(\"\"\"* Arxiv had {0:,d} new papers\\n\"\"\".format(len(new_papers)))\n",
    "    logs.write(\"\"\"    * {0:,d} with possible author matches\\n\\n\"\"\".format(len(candidates)))\n",
    "    logs.write(\"## Sucessful papers\\n\\n\")\n",
    "    display(Markdown(\"## Successful papers\"))\n",
    "    success = [k[0] for k in documents]\n",
    "    for candid in candidates:\n",
    "        if candid['identifier'].split(':')[-1] in success:\n",
    "            display(candid)\n",
    "            logs.write(candid.generate_markdown_text() + '\\n\\n')\n",
    "\n",
    "    ## failed\n",
    "    logs.write(\"## Failed papers\\n\\n\")\n",
    "    display(Markdown(\"## Failed papers\"))\n",
    "    failed = sorted(failed, key=lambda x: x[1])\n",
    "    current_reason = \"\"\n",
    "    for paper, reason in failed:\n",
    "        if 'affiliation' in reason:\n",
    "            color = 'green'\n",
    "        else:\n",
    "            color = 'red'\n",
    "        data = Markdown(\n",
    "                paper.generate_markdown_text() + \n",
    "                f'\\n|<p style=\"color:{color:s}\"> **ERROR** </p>| <p style=\"color:{color:s}\">{reason:s}</p> |'\n",
    "               )\n",
    "        if reason != current_reason:\n",
    "            logs.write(f'### {reason:s} \\n\\n')\n",
    "            current_reason = reason\n",
    "        logs.write(data.data + '\\n\\n')\n",
    "        \n",
    "        # only display here the important errors (all in logs)\n",
    "        # if color in ('red',):\n",
    "        display(data)"
   ]
  },
  {
   "cell_type": "markdown",
   "id": "472d20ee",
   "metadata": {
    "papermill": {
     "duration": 0.008201,
     "end_time": "2023-02-27T18:35:07.506511",
     "exception": false,
     "start_time": "2023-02-27T18:35:07.498310",
     "status": "completed"
    },
    "tags": []
   },
   "source": [
    "## Export documents\n",
    "\n",
    "We now write the .md files and export relevant images"
   ]
  },
  {
   "cell_type": "code",
   "execution_count": 7,
   "id": "d426aed9",
   "metadata": {
    "execution": {
     "iopub.execute_input": "2023-02-27T18:35:07.524987Z",
     "iopub.status.busy": "2023-02-27T18:35:07.524199Z",
     "iopub.status.idle": "2023-02-27T18:35:07.532975Z",
     "shell.execute_reply": "2023-02-27T18:35:07.532283Z"
    },
    "papermill": {
     "duration": 0.019827,
     "end_time": "2023-02-27T18:35:07.534566",
     "exception": false,
     "start_time": "2023-02-27T18:35:07.514739",
     "status": "completed"
    },
    "tags": []
   },
   "outputs": [],
   "source": [
    "def export_markdown_summary(md: str, md_fname:str, directory: str):\n",
    "    \"\"\"Export MD document and associated relevant images\"\"\"\n",
    "    import os\n",
    "    import shutil\n",
    "    import re\n",
    "\n",
    "    if (os.path.exists(directory) and not os.path.isdir(directory)):\n",
    "        raise RuntimeError(f\"a non-directory file exists with name {directory:s}\")\n",
    "\n",
    "    if (not os.path.exists(directory)):\n",
    "        print(f\"creating directory {directory:s}\")\n",
    "        os.mkdir(directory)\n",
    "\n",
    "    fig_fnames = (re.compile(r'\\[Fig.*\\]\\((.*)\\)').findall(md) + \n",
    "                  re.compile(r'\\<img src=\"([^>\\s]*)\"[^>]*/>').findall(md))\n",
    "    for fname in fig_fnames:\n",
    "        if 'http' in fname:\n",
    "            # No need to copy online figures\n",
    "            continue\n",
    "        destdir = os.path.join(directory, os.path.dirname(fname))\n",
    "        destfname = os.path.join(destdir, os.path.basename(fname))\n",
    "        try:\n",
    "            os.makedirs(destdir)\n",
    "        except FileExistsError:\n",
    "            pass\n",
    "        shutil.copy(fname, destfname)\n",
    "    with open(os.path.join(directory, md_fname), 'w') as fout:\n",
    "        fout.write(md)\n",
    "    print(\"exported in \", os.path.join(directory, md_fname))\n",
    "    [print(\"    + \" + os.path.join(directory,fk)) for fk in fig_fnames]"
   ]
  },
  {
   "cell_type": "code",
   "execution_count": 8,
   "id": "014d04a4",
   "metadata": {
    "execution": {
     "iopub.execute_input": "2023-02-27T18:35:07.552572Z",
     "iopub.status.busy": "2023-02-27T18:35:07.552284Z",
     "iopub.status.idle": "2023-02-27T18:35:07.557831Z",
     "shell.execute_reply": "2023-02-27T18:35:07.557290Z"
    },
    "papermill": {
     "duration": 0.01634,
     "end_time": "2023-02-27T18:35:07.559237",
     "exception": false,
     "start_time": "2023-02-27T18:35:07.542897",
     "status": "completed"
    },
    "tags": []
   },
   "outputs": [
    {
     "name": "stdout",
     "output_type": "stream",
     "text": [
      "exported in  _build/html/2302.12805.md\n",
      "    + _build/html/tmp_2302.12805/./figs/GS_LA7_Lya_R1000_vel.png\n",
      "    + _build/html/tmp_2302.12805/./figs/GS_LA7_vel_comparison_v2.png\n",
      "    + _build/html/tmp_2302.12805/./figs/LAE-companion-Bagpipes-fits-v0.7.png\n"
     ]
    }
   ],
   "source": [
    "for paper_id, md in documents:\n",
    "    export_markdown_summary(md, f\"{paper_id:s}.md\", '_build/html/')"
   ]
  },
  {
   "cell_type": "markdown",
   "id": "f087a0a7",
   "metadata": {
    "papermill": {
     "duration": 0.008146,
     "end_time": "2023-02-27T18:35:07.575659",
     "exception": false,
     "start_time": "2023-02-27T18:35:07.567513",
     "status": "completed"
    },
    "tags": []
   },
   "source": [
    "## Display the papers\n",
    "\n",
    "Not necessary but allows for a quick check."
   ]
  },
  {
   "cell_type": "code",
   "execution_count": 9,
   "id": "fd25f625",
   "metadata": {
    "execution": {
     "iopub.execute_input": "2023-02-27T18:35:07.594054Z",
     "iopub.status.busy": "2023-02-27T18:35:07.593262Z",
     "iopub.status.idle": "2023-02-27T18:35:07.598641Z",
     "shell.execute_reply": "2023-02-27T18:35:07.597976Z"
    },
    "papermill": {
     "duration": 0.016369,
     "end_time": "2023-02-27T18:35:07.600246",
     "exception": false,
     "start_time": "2023-02-27T18:35:07.583877",
     "status": "completed"
    },
    "scrolled": false,
    "tags": []
   },
   "outputs": [
    {
     "data": {
      "text/markdown": [
       "<div class=\"macros\" style=\"visibility:hidden;\">\n",
       "$\\newcommand{\\ensuremath}{}$\n",
       "$\\newcommand{\\xspace}{}$\n",
       "$\\newcommand{\\object}[1]{\\texttt{#1}}$\n",
       "$\\newcommand{\\farcs}{{.}''}$\n",
       "$\\newcommand{\\farcm}{{.}'}$\n",
       "$\\newcommand{\\arcsec}{''}$\n",
       "$\\newcommand{\\arcmin}{'}$\n",
       "$\\newcommand{\\ion}[2]{#1#2}$\n",
       "$\\newcommand{\\textsc}[1]{\\textrm{#1}}$\n",
       "$\\newcommand{\\hl}[1]{\\textrm{#1}}$\n",
       "$\\newcommand{\\vdag}{(v)^\\dagger}$\n",
       "$\\newcommand$\n",
       "$\\newcommand$\n",
       "$\\newcommand{\\lya}{Ly\\textalpha}$\n",
       "$\\newcommand{\\ha}{H\\textalpha}$\n",
       "$\\newcommand{\\hb}{H\\textbeta}$\n",
       "$\\newcommand{\\hg}{H\\textgamma}$\n",
       "$\\newcommand{\\oiii}{[O \\textsc{iii}]}$\n",
       "$\\newcommand{\\oii}{[O \\textsc{ii}]}$\n",
       "$\\newcommand{\\hii}{H \\textsc{ii}}$\n",
       "$\\newcommand{\\xiion}{\\xi_\\mathrm{ion}}$\n",
       "$\\newcommand{\\fesc}{f_\\mathrm{esc}}$\n",
       "$\\newcommand{\\flux}{erg s^{-1} cm^{-2}}$\n",
       "$\\newcommand{\\sfr}{M_\\odot yr^{-1}}$\n",
       "$\\newcommand{\\kms}{km s^{-1}}$</div>\n",
       "\n",
       "<div class=\"macros\" style=\"visibility:hidden;\">\n",
       "$\\newcommand{\\ensuremath}{}$\n",
       "$\\newcommand{\\xspace}{}$\n",
       "$\\newcommand{\\object}[1]{\\texttt{#1}}$\n",
       "$\\newcommand{\\farcs}{{.}''}$\n",
       "$\\newcommand{\\farcm}{{.}'}$\n",
       "$\\newcommand{\\arcsec}{''}$\n",
       "$\\newcommand{\\arcmin}{'}$\n",
       "$\\newcommand{\\ion}[2]{#1#2}$\n",
       "$\\newcommand{\\textsc}[1]{\\textrm{#1}}$\n",
       "$\\newcommand{\\hl}[1]{\\textrm{#1}}$\n",
       "$\\newcommand{\\vdag}{(v)^\\dagger}$\n",
       "$\\newcommand$\n",
       "$\\newcommand$\n",
       "$\\newcommand{\\lya}{Ly\\textalpha}$\n",
       "$\\newcommand{\\ha}{H\\textalpha}$\n",
       "$\\newcommand{\\hb}{H\\textbeta}$\n",
       "$\\newcommand{\\hg}{H\\textgamma}$\n",
       "$\\newcommand{\\oiii}{[O \\textsc{iii}]}$\n",
       "$\\newcommand{\\oii}{[O \\textsc{ii}]}$\n",
       "$\\newcommand{\\hii}{H \\textsc{ii}}$\n",
       "$\\newcommand{\\xiion}{\\xi_\\mathrm{ion}}$\n",
       "$\\newcommand{\\fesc}{f_\\mathrm{esc}}$\n",
       "$\\newcommand{\\flux}{erg s^{-1} cm^{-2}}$\n",
       "$\\newcommand{\\sfr}{M_\\odot yr^{-1}}$\n",
       "$\\newcommand{\\kms}{km s^{-1}}$</div>\n",
       "\n",
       "\n",
       "\n",
       "<div id=\"title\">\n",
       "\n",
       "# JADES: Discovery of extremely high equivalent width Lyman-alpha emission from a faint galaxy within an ionized bubble at $z=7.3$\n",
       "\n",
       "</div>\n",
       "<div id=\"comments\">\n",
       "\n",
       "[![arXiv](https://img.shields.io/badge/arXiv-2302.12805-b31b1b.svg)](https://arxiv.org/abs/2302.12805)<mark>Appeared on: 2023-02-27</mark> - _12 pages, 7 figures, submitted to Astronomy & Astrophysics, comments welcome!_\n",
       "\n",
       "</div>\n",
       "<div id=\"authors\">\n",
       "\n",
       "Aayush Saxena, et al. -- incl., <mark>Anna De Graaff</mark>, <mark>Hans-Walter Rix</mark>\n",
       "\n",
       "</div>\n",
       "<div id=\"abstract\">\n",
       "\n",
       "**Abstract:** We report the discovery of a remarkable Ly $\\alpha$ emitting galaxy at $z=7.278$ , JADES-GS+53.16746-27.7720 (shortened to JADES-GS-z7-LA), with EW $_0$ (Ly $\\alpha$ ) $\\approx400 \\pm 90$ Å and UV magnitude $-16.7$ . The spectroscopic redshift is confirmed via rest-frame optical lines [ O ii ] , H $\\beta$ and [ O iii ] in its JWST/NIRSpec Micro-Shutter Assembly (MSA) spectrum. The Ly $\\alpha$ line is detected in both lower resolution ( $R\\sim100$ ) PRISM as well as medium resolution ( $R\\sim1000$ ) G140M grating spectra. The Ly $\\alpha$ FWHM in the grating is $\\approx360$ km s $^{-1}$ and the line peaks with [ O ii ] in $120$ km s $^{-1}$ of the systemic redshift, indicative of very little neutral gas or dust within the galaxy. We estimate the Ly $\\alpha$ escape fraction to be $\\sim100\\%$ . JADES-GS-z7-LA has a [ O iii ] / [ O ii ] ratio (O32) of $8.8 \\pm 1.1$ and ( [ O iii ] + [ O ii ] )/H $\\beta$ ratio (R23) of $9.6\\pm2.2$ , consistent with low metallicity and high ionization parameters. Deep NIRCam imaging also revealed a close companion source (separated by $0.23\"$ ), which exhibits similar photometry to that of JADES-GS-z7-LA, with a photometric excess in the F410M NIRCam image consistent with [ O iii ] +H $\\beta$ emission at the same redshift. The spectral energy distribution of JADES-GS-z7-LA indicates a `bursty' star-formation history, with a low stellar mass of $10^{7.15}$ M $_\\odot$ . The only explanation of the high EW Ly $\\alpha$ emission seen in JADES-GS-z7-LA is if it resides in an ionized bubble with radius $\\gtrsim 3$ pMpc. Owing to the faint nature of JADES-GS-z7-LA, we show that it is incapable of single-handedly ionizing a bubble large enough. Therefore, we suggest that JADES-GS-z7-LA (and possibly the companion source) may be a part of a larger overdensity, presenting direct evidence of overlapping ionized bubbles at $z>7$ , allowing us to study the process of reionization across both small and large scales.\n",
       "\n",
       "</div>\n",
       "\n",
       "<div id=\"div_fig1\">\n",
       "\n",
       "<img src=\"tmp_2302.12805/./figs/GS_LA7_Lya_R1000_vel.png\" alt=\"Fig1\" width=\"100%\"/>\n",
       "\n",
       "**Figure 1. -** Velocity shift of the $\\lya$ emission line in the G140M NIRSpec spectrum with a resolution of $R\\sim1000$ compared to the systemic redshift ($\\Delta v=0$\\kms) traced by the $\\oiii$ and $\\hb$ lines. The emission line appears to be symmetric, centred very close to the systemic redshift with an offset of $120\\pm80$\\kms, with flux bluewards of the peak. The observed line profile is indicative of significant $\\lya$ photon escape thanks to virtually no neutral gas along the line-of-sight in the galaxy. (*fig:R1000_spec*)\n",
       "\n",
       "</div>\n",
       "<div id=\"div_fig2\">\n",
       "\n",
       "<img src=\"tmp_2302.12805/./figs/GS_LA7_vel_comparison_v2.png\" alt=\"Fig2\" width=\"100%\"/>\n",
       "\n",
       "**Figure 2. -** Distribution of $\\lya$ EW and its velocity offset from the systemic redshift for JADES-GS-z7-LA (star), compared with GN-z11 \\citep{bun23}(diamond), $z>7$ LAEs identified from CEERS by \\citet{tan23}(circles) and other known $z>7$ LAEs from the \\citet{end22c} compilation (squares), which include sources from the ALMA REBELS survey amongst others such as B14-65666 at $z=7.15$\\citep{fur16, has19}, EGS-zs8-1 at $z=7.72$\\citep{oes15, sta17}, COS-zs7-1 at $z=7.15$\\citep{pen16, lap17, sta17} and BDF-3299 at $z=7.11$\\citep{van11, mai15, car17}. We also include the $z=7.68$ galaxy Y002 \\citep{val22}. JADES-GS-z7-LA lines up well with the observed strong anti-correlation between the strength of the $\\lya$ emission line and its velocity offset compared to systemic redshift, and its faint UV magnitude and high $\\lya$ EW compared to other $z>7$ LAEs stand out. (*fig:vel_comp*)\n",
       "\n",
       "</div>\n",
       "<div id=\"div_fig3\">\n",
       "\n",
       "<img src=\"tmp_2302.12805/./figs/LAE-companion-Bagpipes-fits-v0.7.png\" alt=\"Fig3\" width=\"100%\"/>\n",
       "\n",
       "**Figure 3. -** Best-fitting SEDs of JADES-GS-z7-LA and its companion source, fixing the redshift to be at $z=7.278$ for both objects. We find that a good fit is obtained for the companion source at the same redshift as JADES-GS-z7-LA, which in particular can explain the photometric excess observed in the F410M band (dashed oval). Overall, JADES-GS-z7-LA has a `bluer' SED, which is reflected in the preference for a bursty star-formation history when compared to the companion source. (*fig:SED*)\n",
       "\n",
       "</div>"
      ],
      "text/plain": [
       "<IPython.core.display.Markdown object>"
      ]
     },
     "metadata": {},
     "output_type": "display_data"
    }
   ],
   "source": [
    "[display(Markdown(k[1])) for k in documents];"
   ]
  },
  {
   "cell_type": "markdown",
   "id": "873873a4",
   "metadata": {
    "papermill": {
     "duration": 0.008339,
     "end_time": "2023-02-27T18:35:07.617073",
     "exception": false,
     "start_time": "2023-02-27T18:35:07.608734",
     "status": "completed"
    },
    "tags": []
   },
   "source": [
    "# Create HTML index"
   ]
  },
  {
   "cell_type": "code",
   "execution_count": 10,
   "id": "cf665672",
   "metadata": {
    "execution": {
     "iopub.execute_input": "2023-02-27T18:35:07.635477Z",
     "iopub.status.busy": "2023-02-27T18:35:07.634925Z",
     "iopub.status.idle": "2023-02-27T18:35:07.647050Z",
     "shell.execute_reply": "2023-02-27T18:35:07.646387Z"
    },
    "papermill": {
     "duration": 0.023022,
     "end_time": "2023-02-27T18:35:07.648521",
     "exception": false,
     "start_time": "2023-02-27T18:35:07.625499",
     "status": "completed"
    },
    "tags": []
   },
   "outputs": [
    {
     "name": "stdout",
     "output_type": "stream",
     "text": [
      "214  publications in the last 7 days.\n",
      "\t _build/html/2302.12805.md\n",
      "\t _build/html/2302.10943.md\n",
      "\t _build/html/2302.10528.md\n",
      "\t _build/html/2302.10008.md\n",
      "\t _build/html/2302.08962.md\n",
      "\t _build/html/2302.08628.md\n",
      "\t _build/html/2302.07916.md\n",
      "\t _build/html/2302.07880.md\n",
      "\t _build/html/2302.07497.md\n",
      "\t _build/html/2302.07277.md\n",
      "\t _build/html/2302.07256.md\n",
      "\t _build/html/2302.07234.md\n",
      "\t _build/html/2302.07057.md\n",
      "\t _build/html/2302.05694.md\n",
      "\t _build/html/2302.05465.md\n",
      "\t _build/html/2302.04507.md\n",
      "\t _build/html/2302.04239.md\n",
      "\t _build/html/2302.04138.md\n",
      "\t _build/html/2302.03699.md\n",
      "\t _build/html/2302.03576.md\n",
      "\t _build/html/2302.03042.md\n",
      "\t _build/html/2302.03039.md\n",
      "\t _build/html/2302.02890.md\n",
      "\t _build/html/2302.02611.md\n",
      "\t _build/html/2302.02429.md\n",
      "\t _build/html/2302.01678.md\n",
      "\t _build/html/2302.00450.md\n",
      "\t _build/html/2301.13766.md\n",
      "\t _build/html/2301.13526.md\n",
      "\t _build/html/2301.12890.md\n",
      "\t _build/html/2301.11942.md\n",
      "\t _build/html/2301.10717.md\n",
      "\t _build/html/2301.10666.md\n",
      "\t _build/html/2301.10496.md\n",
      "\t _build/html/2301.09621.md\n",
      "\t _build/html/2301.09140.md\n",
      "\t _build/html/2301.08770.md\n",
      "\t _build/html/2301.08310.md\n",
      "\t _build/html/2301.07990.md\n",
      "\t _build/html/2301.07366.md\n",
      "\t _build/html/2301.07199.md\n",
      "\t _build/html/2301.07116.md\n",
      "\t _build/html/2301.06873.md\n",
      "\t _build/html/2301.06819.md\n",
      "\t _build/html/2301.06575.md\n",
      "\t _build/html/2301.05720.md\n",
      "\t _build/html/2301.05718.md\n",
      "\t _build/html/2301.05034.md\n",
      "\t _build/html/2301.04656.md\n",
      "\t _build/html/2301.04533.md\n",
      "\t _build/html/2301.04442.md\n",
      "\t _build/html/2301.03811.md\n",
      "\t _build/html/2301.03689.md\n",
      "\t _build/html/2301.03387.md\n",
      "\t _build/html/2301.03209.md\n",
      "\t _build/html/2301.02671.md\n",
      "\t _build/html/2301.02477.md\n",
      "\t _build/html/2301.02313.md\n",
      "\t _build/html/2301.02265.md\n",
      "\t _build/html/2301.01937.md\n",
      "\t _build/html/2301.01895.md\n",
      "\t _build/html/2301.01684.md\n",
      "\t _build/html/2301.01306.md\n",
      "\t _build/html/2301.00881.md\n",
      "\t _build/html/2301.00854.md\n",
      "\t _build/html/2301.00578.md\n",
      "\t _build/html/2212.12039.md\n",
      "\t _build/html/2212.11991.md\n",
      "\t _build/html/2212.11425.md\n",
      "\t _build/html/2212.11177.md\n",
      "\t _build/html/2212.10804.md\n",
      "\t _build/html/2212.10512.md\n",
      "\t _build/html/2212.09766.md\n",
      "\t _build/html/2212.09675.md\n",
      "\t _build/html/2212.09661.md\n",
      "\t _build/html/2212.09652.md\n",
      "\t _build/html/2212.09443.md\n",
      "\t _build/html/2212.09307.md\n",
      "\t _build/html/2212.09168.md\n",
      "\t _build/html/2212.09159.md\n",
      "\t _build/html/2212.08702.md\n",
      "\t _build/html/2212.07332.md\n",
      "\t _build/html/2212.06434.md\n",
      "\t _build/html/2212.04710.md\n",
      "\t _build/html/2212.04026.md\n",
      "\t _build/html/2212.03563.md\n",
      "\t _build/html/2212.03514.md\n",
      "\t _build/html/2212.02667.md\n",
      "\t _build/html/2212.02627.md\n",
      "\t _build/html/2212.02235.md\n",
      "\t _build/html/2212.01707.md\n",
      "\t _build/html/2212.01526.md\n",
      "\t _build/html/2212.01397.md\n",
      "\t _build/html/2212.01291.md\n",
      "\t _build/html/2212.01281.md\n",
      "\t _build/html/2212.00812.md\n",
      "\t _build/html/2212.00811.md\n",
      "\t _build/html/2212.00806.md\n",
      "\t _build/html/2212.00047.md\n",
      "\t _build/html/2212.00032.md\n",
      "\t _build/html/2211.16996.md\n",
      "\t _build/html/2211.16510.md\n",
      "\t _build/html/2211.16123.md\n",
      "\t _build/html/2211.15816.md\n",
      "\t _build/html/2211.15698.md\n",
      "\t _build/html/2211.15576.md\n",
      "\t _build/html/2211.15434.md\n",
      "\t _build/html/2211.15288.md\n",
      "\t _build/html/2211.15224.md\n",
      "\t _build/html/2211.14543.md\n",
      "\t _build/html/2211.14330.md\n",
      "\t _build/html/2211.14322.md\n",
      "\t _build/html/2211.14132.md\n",
      "\t _build/html/2211.13811.md\n",
      "\t _build/html/2211.13426.md\n",
      "\t _build/html/2211.13318.md\n",
      "\t _build/html/2211.13146.md\n",
      "\t _build/html/2211.12613.md\n",
      "\t _build/html/2211.11767.md\n",
      "\t _build/html/2211.09840.md\n",
      "\t _build/html/2211.09217.md\n",
      "\t _build/html/2211.08493.md\n",
      "\t _build/html/2211.08487.md\n",
      "\t _build/html/2211.08294.md\n",
      "\t _build/html/2211.07667.md\n",
      "\t _build/html/2211.07659.md\n",
      "\t _build/html/2211.06454.md\n",
      "\t _build/html/2211.06205.md\n",
      "\t _build/html/2211.06194.md\n",
      "\t _build/html/2211.05022.md\n",
      "\t _build/html/2211.04048.md\n",
      "\t _build/html/2211.03641.md\n",
      "\t _build/html/2211.02502.md\n",
      "\t _build/html/2211.01474.md\n",
      "\t _build/html/2211.00667.md\n",
      "\t _build/html/2211.00657.md\n",
      "\t _build/html/2211.00087.md\n",
      "\t _build/html/2211.00036.md\n",
      "\t _build/html/2211.00020.md\n",
      "\t _build/html/2211.00010.md\n",
      "\t _build/html/2210.17434.md\n",
      "\t _build/html/2210.12412.md\n",
      "\t _build/html/2210.11926.md\n",
      "\t _build/html/2210.11551.md\n",
      "\t _build/html/2210.11103.md\n",
      "\t _build/html/2210.10707.md\n",
      "\t _build/html/2210.09930.md\n",
      "\t _build/html/2210.08996.md\n",
      "\t _build/html/2210.08517.md\n",
      "\t _build/html/2210.08510.md\n",
      "\t _build/html/2210.08078.md\n",
      "\t _build/html/2210.06504.md\n",
      "\t _build/html/2210.05695.md\n",
      "\t _build/html/2210.05595.md\n",
      "\t _build/html/2210.05505.md\n",
      "\t _build/html/2210.04721.md\n",
      "\t _build/html/2210.03615.md\n",
      "\t _build/html/2210.01811.md\n",
      "\t _build/html/2210.01809.md\n",
      "\t _build/html/2210.01556.md\n",
      "\t _build/html/2210.00863.md\n",
      "\t _build/html/2210.00560.md\n",
      "\t _build/html/2209.15403.md\n",
      "\t _build/html/2209.15110.md\n",
      "\t _build/html/2209.14410.md\n",
      "\t _build/html/2209.14396.md\n",
      "\t _build/html/2209.13717.md\n",
      "\t _build/html/2209.13336.md\n",
      "\t _build/html/2209.12906.md\n",
      "\t _build/html/2209.11781.md\n",
      "\t _build/html/2209.11602.md\n",
      "\t _build/html/2209.11248.md\n",
      "\t _build/html/2209.11096.md\n",
      "\t _build/html/2209.10618.md\n",
      "\t _build/html/2209.09914.md\n",
      "\t _build/html/2209.09823.md\n",
      "\t _build/html/2209.08242.md\n",
      "\t _build/html/2209.08120.md\n",
      "\t _build/html/2209.08106.md\n",
      "\t _build/html/2209.07962.md\n",
      "\t _build/html/2209.07931.md\n",
      "\t _build/html/2209.06833.md\n",
      "\t _build/html/2209.05814.md\n",
      "\t _build/html/2209.05593.md\n",
      "\t _build/html/2209.04304.md\n",
      "\t _build/html/2209.03367.md\n",
      "\t _build/html/2209.02872.md\n",
      "\t _build/html/2209.02725.md\n",
      "\t _build/html/2209.02722.md\n",
      "\t _build/html/2209.02092.md\n",
      "\t _build/html/2209.01125.md\n",
      "\t _build/html/2209.00828.md\n",
      "\t _build/html/2209.00363.md\n",
      "\t _build/html/2208.14927.md\n",
      "\t _build/html/2208.09335.md\n",
      "\t _build/html/2208.08872.md\n",
      "\t _build/html/2204.06393.md\n",
      "\t _build/html/2204.03335.md\n",
      "\t _build/html/2204.03253.md\n",
      "\t _build/html/2204.02998.md\n",
      "\t _build/html/2204.02109.md\n",
      "\t _build/html/2204.02017.md\n",
      "\t _build/html/2204.01824.md\n",
      "\t _build/html/2204.01758.md\n",
      "\t _build/html/2204.01245.md\n",
      "\t _build/html/2204.00793.md\n",
      "\t _build/html/2204.00342.md\n",
      "\t _build/html/2203.16959.md\n",
      "\t _build/html/2203.16856.md\n",
      "\t _build/html/2203.16735.md\n",
      "\t _build/html/2203.16734.md\n",
      "\t _build/html/2203.16504.md\n",
      "\t _build/html/2203.15822.md\n",
      "\t _build/html/2203.15811.md\n"
     ]
    }
   ],
   "source": [
    "from datetime import datetime, timedelta, timezone\n",
    "from glob import glob\n",
    "\n",
    "files = glob('_build/html/*.md')\n",
    "days = 7\n",
    "now = datetime.today()\n",
    "res = []\n",
    "for fk in files:\n",
    "    stat_result = os.stat(fk).st_ctime\n",
    "    modified = datetime.fromtimestamp(stat_result, tz=timezone.utc).replace(tzinfo=None)\n",
    "    delta = now.today() - modified\n",
    "    if delta <= timedelta(days=days):\n",
    "        res.append((delta.seconds, fk))\n",
    "res = [k[1] for k in reversed(sorted(res, key=lambda x:x[1]))]\n",
    "npub = len(res)\n",
    "print(len(res), f\" publications in the last {days:d} days.\")\n",
    "[ print('\\t', k) for k in res ];"
   ]
  },
  {
   "cell_type": "code",
   "execution_count": 11,
   "id": "015de740",
   "metadata": {
    "execution": {
     "iopub.execute_input": "2023-02-27T18:35:07.668009Z",
     "iopub.status.busy": "2023-02-27T18:35:07.667487Z",
     "iopub.status.idle": "2023-02-27T18:35:07.689177Z",
     "shell.execute_reply": "2023-02-27T18:35:07.688449Z"
    },
    "papermill": {
     "duration": 0.033457,
     "end_time": "2023-02-27T18:35:07.690871",
     "exception": false,
     "start_time": "2023-02-27T18:35:07.657414",
     "status": "completed"
    },
    "tags": []
   },
   "outputs": [
    {
     "name": "stdout",
     "output_type": "stream",
     "text": [
      "5  publications in the last 7 days.\n"
     ]
    }
   ],
   "source": [
    "import datetime\n",
    "from glob import glob\n",
    "\n",
    "def get_last_n_days(lst, days=1):\n",
    "    \"\"\" Get the documents from the last n days \"\"\"\n",
    "    sorted_lst = sorted(lst, key=lambda x: x[1], reverse=True)\n",
    "    for fname, date in sorted_lst:\n",
    "        if date >= str(datetime.date.today() - datetime.timedelta(days=days)):\n",
    "            yield fname\n",
    "\n",
    "def extract_appearance_dates(lst_file):\n",
    "    dates = []\n",
    "\n",
    "    def get_date(line):\n",
    "        return line\\\n",
    "            .split('Appeared on:')[-1]\\\n",
    "            .split('</mark>')[0].strip()\n",
    "\n",
    "    for fname in lst:\n",
    "        with open(fname, 'r') as f:\n",
    "            found_date = False\n",
    "            for line in f:\n",
    "                if not found_date:\n",
    "                    if \"Appeared on\" in line:\n",
    "                        found_date = True\n",
    "                        dates.append((fname, get_date(line)))\n",
    "                else:\n",
    "                    break\n",
    "    return dates\n",
    "\n",
    "from glob import glob\n",
    "lst = glob('_build/html/*md')\n",
    "days = 7\n",
    "dates = extract_appearance_dates(lst)\n",
    "res = list(get_last_n_days(dates, days))\n",
    "npub = len(res)\n",
    "print(len(res), f\" publications in the last {days:d} days.\")"
   ]
  },
  {
   "cell_type": "code",
   "execution_count": 12,
   "id": "52ca0208",
   "metadata": {
    "execution": {
     "iopub.execute_input": "2023-02-27T18:35:07.712556Z",
     "iopub.status.busy": "2023-02-27T18:35:07.711933Z",
     "iopub.status.idle": "2023-02-27T18:35:07.721455Z",
     "shell.execute_reply": "2023-02-27T18:35:07.720726Z"
    },
    "papermill": {
     "duration": 0.022599,
     "end_time": "2023-02-27T18:35:07.723135",
     "exception": false,
     "start_time": "2023-02-27T18:35:07.700536",
     "status": "completed"
    },
    "scrolled": false,
    "tags": []
   },
   "outputs": [],
   "source": [
    "def create_carousel(npub=4):\n",
    "    \"\"\" Generate the HTML code for a carousel with `npub` slides \"\"\"\n",
    "    carousel = [\"\"\"<section class=\"carousel\" aria-label=\"Gallery\">\"\"\",\n",
    "                \"\"\"  <ol class=\"carousel__viewport\">\"\"\",\n",
    "    ]\n",
    "    for k in range(1, npub + 1):\n",
    "        prev_ = k - 1\n",
    "        next_ = k + 1\n",
    "        if prev_ <= 0:\n",
    "            prev_ = npub\n",
    "        if next_ > npub:\n",
    "            next_ = 1\n",
    "        text  = f\"\"\"    <li id=\"carousel__slide{k}\" tabindex=\"0\" class=\"carousel__slide\">\\n\"\"\"\n",
    "        text += f\"\"\"       <div class=\"carousel__snapper\">\\n\"\"\"\n",
    "        text += f\"\"\"         <a href=\"#carousel__slide{prev_}\" class=\"carousel__prev\">Go to previous slide</a>\\n\"\"\"\n",
    "        text += f\"\"\"         <a href=\"#carousel__slide{next_}\" class=\"carousel__next\">Go to next slide</a>\\n\"\"\"\n",
    "        text += f\"\"\"         <div id=\"slide{k}_content\" class=\"md_view\" >Content {k}</div>\\n\"\"\"\n",
    "        text += f\"\"\"       </div>\\n\"\"\"\n",
    "        text += f\"\"\"    </li>\"\"\"\n",
    "        carousel.append(text)\n",
    "\n",
    "    carousel.extend([\n",
    "        \"\"\"  </ol>\"\"\",\n",
    "        \"\"\"  <aside class=\"carousel__navigation\">\"\"\",\n",
    "        \"\"\"    <ol class=\"carousel__navigation-list\">\"\"\"])\n",
    "\n",
    "    for k in range(1, npub + 1):\n",
    "        text  = f\"\"\"      <li class=\"carousel__navigation-item\">\\n\"\"\"\n",
    "        text += f\"\"\"        <a href=\"#carousel__slide{k}\" class=\"carousel__navigation-button\">Go to {k}</a>\\n\"\"\"\n",
    "        text += f\"\"\"      </li>\"\"\"\n",
    "        carousel.append(text)\n",
    "    carousel.extend([\"\"\"    </ol>\"\"\", \"\"\"  </aside>\"\"\", \"\"\"</section>\"\"\"])\n",
    "\n",
    "    return '\\n'.join(carousel)"
   ]
  },
  {
   "cell_type": "code",
   "execution_count": 13,
   "id": "a6eac5b6",
   "metadata": {
    "execution": {
     "iopub.execute_input": "2023-02-27T18:35:07.742782Z",
     "iopub.status.busy": "2023-02-27T18:35:07.742409Z",
     "iopub.status.idle": "2023-02-27T18:35:07.748748Z",
     "shell.execute_reply": "2023-02-27T18:35:07.748202Z"
    },
    "papermill": {
     "duration": 0.018269,
     "end_time": "2023-02-27T18:35:07.750232",
     "exception": false,
     "start_time": "2023-02-27T18:35:07.731963",
     "status": "completed"
    },
    "scrolled": false,
    "tags": []
   },
   "outputs": [],
   "source": [
    "carousel = create_carousel(npub)\n",
    "docs = ', '.join(['\"{0:s}\"'.format(k.split('/')[-1]) for k in res])\n",
    "slides = ', '.join([f'\"slide{k}_content\"' for k in range(1, npub + 1)])\n",
    "\n",
    "script = f\"\"\"\n",
    "const docs = [{docs}]\n",
    "\n",
    "const slides = [{slides}]\n",
    "\"\"\" + \"\"\"\n",
    "async function run() {\n",
    "    for (let i = 0; i < docs.length; i++) {\n",
    "        let file = await fetch(docs[i]);\n",
    "        let text = await file.text()\n",
    "        document.getElementById(slides[i]).innerHTML =\n",
    "            marked.parse(text);\n",
    "    }\n",
    "    hljs.highlightAll();\n",
    "}\n",
    "run()\n",
    "\"\"\"\n",
    "\n",
    "page = f\"\"\"<!doctype html>\n",
    "<html lang=\"en\">\n",
    "\n",
    "<head>\n",
    "  <meta charset=\"utf-8\">\n",
    "  <meta name=\"viewport\" content=\"width=device-width, initial-scale=1\">\n",
    "  <!-- Bootstrap CSS -->\n",
    "  <link href=\"https://cdn.jsdelivr.net/npm/bootstrap@5.0.2/dist/css/bootstrap.min.css\" rel=\"stylesheet\"\n",
    "   integrity=\"sha384-EVSTQN3/azprG1Anm3QDgpJLIm9Nao0Yz1ztcQTwFspd3yD65VohhpuuCOmLASjC\" crossorigin=\"anonymous\">\n",
    "  <!-- highlight.js CSS -->\n",
    "  <link rel=\"stylesheet\" href=\"https://cdnjs.cloudflare.com/ajax/libs/highlight.js/11.1.0/styles/default.min.css\">\n",
    "  <!-- Mathjax 3 -->\n",
    "  <script type=\"text/javascript\" id=\"MathJax-config\" src=\"mathjax_config.js\"> </script>\n",
    "  <script type=\"text/javascript\" id=\"MathJax-script\" async \n",
    "    src=\"https://cdn.jsdelivr.net/npm/mathjax@3/es5/tex-mml-chtml.js\">\n",
    "  </script>\n",
    "  <link rel=\"stylesheet\" href=\"index_carousel.css\">\n",
    "  <link rel=\"icon\" type=\"image/x-icon\" href=\"https://www.mpia.de/assets/touch-icon-32x32-a66937bcebc4e8894ebff1f41a366c7c7220fd97a38869ee0f2db65a9f59b6c1.png\">\n",
    "  <title>MPIA Arxiv on deck!</title>\n",
    "</head>\n",
    "\n",
    "<body>\n",
    "  <div id=\"header\"> <img src=\"header_banner.png\" width=\"100%\"></div>\n",
    "  <div id=\"suptitle\"> 7-day archives </div>\n",
    "  <div id=\"info\">\n",
    "    <img src=\"https://pngimg.com/uploads/github/github_PNG58.png\" height=30rem></img>\n",
    "    <a href=https://github.com/mpi-astronomy/arxiv_display style=\"color:black;\">github/mpi-astronomy/arxiv_display</a> \n",
    "  </div>\n",
    "  {carousel:s}\n",
    "</body>\n",
    "\n",
    "<!-- Render Markdown -->\n",
    "\n",
    "<body>\n",
    "  <!-- highlight.js: https://highlightjs.org/download/ -->\n",
    "  <script src=\"https://cdnjs.cloudflare.com/ajax/libs/highlight.js/11.5.0/highlight.min.js\"></script>\n",
    "  <!-- marked.js -->\n",
    "  <script src=\"https://cdn.jsdelivr.net/npm/marked/marked.min.js\"></script>\n",
    "  <script>{script:s}</script>\n",
    "</body>\n",
    "</html>\n",
    "\"\"\"\n",
    "with open(\"_build/html/index_7days.html\", 'w') as fout:\n",
    "    fout.write(page)"
   ]
  },
  {
   "cell_type": "code",
   "execution_count": 14,
   "id": "adc1a1ec",
   "metadata": {
    "execution": {
     "iopub.execute_input": "2023-02-27T18:35:07.770898Z",
     "iopub.status.busy": "2023-02-27T18:35:07.770243Z",
     "iopub.status.idle": "2023-02-27T18:35:07.778313Z",
     "shell.execute_reply": "2023-02-27T18:35:07.777771Z"
    },
    "papermill": {
     "duration": 0.019633,
     "end_time": "2023-02-27T18:35:07.779728",
     "exception": false,
     "start_time": "2023-02-27T18:35:07.760095",
     "status": "completed"
    },
    "tags": []
   },
   "outputs": [
    {
     "name": "stdout",
     "output_type": "stream",
     "text": [
      "1  publications in the last day.\n"
     ]
    }
   ],
   "source": [
    "# redo for today\n",
    "days = 1\n",
    "res = list(get_last_n_days(dates, days))\n",
    "npub = len(res)\n",
    "print(len(res), f\" publications in the last day.\")\n",
    "\n",
    "carousel = create_carousel(npub)\n",
    "docs = ', '.join(['\"{0:s}\"'.format(k.split('/')[-1]) for k in res])\n",
    "slides = ', '.join([f'\"slide{k}_content\"' for k in range(1, npub + 1)])\n",
    "\n",
    "script = f\"\"\"\n",
    "const docs = [{docs}]\n",
    "\n",
    "const slides = [{slides}]\n",
    "\"\"\" + \"\"\"\n",
    "async function run() {\n",
    "    for (let i = 0; i < docs.length; i++) {\n",
    "        let file = await fetch(docs[i]);\n",
    "        let text = await file.text()\n",
    "        document.getElementById(slides[i]).innerHTML =\n",
    "            marked.parse(text);\n",
    "    }\n",
    "    hljs.highlightAll();\n",
    "}\n",
    "run()\n",
    "\"\"\"\n",
    "\n",
    "page = f\"\"\"<!doctype html>\n",
    "<html lang=\"en\">\n",
    "\n",
    "<head>\n",
    "  <meta charset=\"utf-8\">\n",
    "  <meta name=\"viewport\" content=\"width=device-width, initial-scale=1\">\n",
    "  <!-- Bootstrap CSS -->\n",
    "  <link href=\"https://cdn.jsdelivr.net/npm/bootstrap@5.0.2/dist/css/bootstrap.min.css\" rel=\"stylesheet\"\n",
    "   integrity=\"sha384-EVSTQN3/azprG1Anm3QDgpJLIm9Nao0Yz1ztcQTwFspd3yD65VohhpuuCOmLASjC\" crossorigin=\"anonymous\">\n",
    "  <!-- highlight.js CSS -->\n",
    "  <link rel=\"stylesheet\" href=\"https://cdnjs.cloudflare.com/ajax/libs/highlight.js/11.1.0/styles/default.min.css\">\n",
    "  <!-- Mathjax 3 -->\n",
    "  <script type=\"text/javascript\" id=\"MathJax-config\" src=\"mathjax_config.js\"> </script>\n",
    "  <script type=\"text/javascript\" id=\"MathJax-script\" async \n",
    "    src=\"https://cdn.jsdelivr.net/npm/mathjax@3/es5/tex-mml-chtml.js\">\n",
    "  </script>\n",
    "  <link rel=\"stylesheet\" href=\"index_carousel.css\">\n",
    "  <link rel=\"icon\" type=\"image/x-icon\" href=\"https://www.mpia.de/assets/touch-icon-32x32-a66937bcebc4e8894ebff1f41a366c7c7220fd97a38869ee0f2db65a9f59b6c1.png\">\n",
    "  <title>MPIA Arxiv on deck!</title>\n",
    "</head>\n",
    "\n",
    "<body>\n",
    "  <div id=\"header\"> <img src=\"header_banner.png\" width=\"100%\"></div>\n",
    "  <div id=\"suptitle\"> daily </div>\n",
    "  <div id=\"info\">\n",
    "    <img src=\"https://pngimg.com/uploads/github/github_PNG58.png\" height=30rem></img>\n",
    "    <a href=https://github.com/mpi-astronomy/arxiv_display style=\"color:black;\">github/mpi-astronomy/arxiv_display</a> \n",
    "  </div>\n",
    "  {carousel:s}\n",
    "</body>\n",
    "\n",
    "<!-- Render Markdown -->\n",
    "\n",
    "<body>\n",
    "  <!-- highlight.js: https://highlightjs.org/download/ -->\n",
    "  <script src=\"https://cdnjs.cloudflare.com/ajax/libs/highlight.js/11.5.0/highlight.min.js\"></script>\n",
    "  <!-- marked.js -->\n",
    "  <script src=\"https://cdn.jsdelivr.net/npm/marked/marked.min.js\"></script>\n",
    "  <script>{script:s}</script>\n",
    "</body>\n",
    "</html>\n",
    "\"\"\"\n",
    "with open(\"_build/html/index_daily.html\", 'w') as fout:\n",
    "    fout.write(page)"
   ]
  },
  {
   "cell_type": "markdown",
   "id": "1cebacbc",
   "metadata": {
    "papermill": {
     "duration": 0.008988,
     "end_time": "2023-02-27T18:35:07.834931",
     "exception": false,
     "start_time": "2023-02-27T18:35:07.825943",
     "status": "completed"
    },
    "tags": []
   },
   "source": [
    "# Debugging papers"
   ]
  },
  {
   "cell_type": "raw",
   "id": "debe7cc6",
   "metadata": {
    "papermill": {
     "duration": 0.008871,
     "end_time": "2023-02-27T18:35:07.852739",
     "exception": false,
     "start_time": "2023-02-27T18:35:07.843868",
     "status": "completed"
    },
    "tags": []
   },
   "source": [
    "raise NotImplementedError(\"Manual Stop\")"
   ]
  },
  {
   "cell_type": "raw",
   "id": "eb169192",
   "metadata": {
    "papermill": {
     "duration": 0.008797,
     "end_time": "2023-02-27T18:35:07.870543",
     "exception": false,
     "start_time": "2023-02-27T18:35:07.861746",
     "status": "completed"
    },
    "scrolled": true,
    "tags": []
   },
   "source": [
    "from IPython.display import display, Markdown\n",
    "from TexSoup import TexSoup\n",
    "import re\n",
    "\n",
    "def bracket_error(source: str):\n",
    "    \"\"\" Find problematic portions of the document \"\"\"\n",
    "    \n",
    "    print(\"len(source)\", len(source))\n",
    "    \n",
    "    # Checking header\n",
    "    begin_doc = next(re.finditer(r'\\\\begin\\{document\\}', doc.source)).span()[1]\n",
    "    header = source[:begin_doc]\n",
    "    text = header + r\"\\n\\end{document}\"\n",
    "\n",
    "    try:\n",
    "        # print(\"Header check... \", end='')\n",
    "        TexSoup(text)\n",
    "        display(Markdown(f\"**[OK]** - Header\"))\n",
    "    except:\n",
    "        raise RuntimeError(\"Error in the header\")\n",
    "        \n",
    "    # Check the text per section until the end.\n",
    "    # Do not stop and try them all.\n",
    "    \n",
    "    problematic_text = []\n",
    "    \n",
    "    sections = ([(0, begin_doc, 'until first section')] + \n",
    "                [(g.span()[0], g.span()[1], g.group()) for g in re.finditer(r'\\\\section\\{.*\\}', source)] +\n",
    "                [(g.span()[0], g.span()[1], g.group()) for g in re.finditer(r'\\\\begin\\{appendix\\}', source)]\n",
    "               )\n",
    "    sections.append([len(source), len(source), 'end'])\n",
    "    \n",
    "    sections = sorted(sections, key=lambda x: x[0])\n",
    "    \n",
    "    prev_pos, prev_name = (0, 'header')\n",
    "    parsed = []\n",
    "    \n",
    "    for span, span_end, name in sections:\n",
    "\n",
    "        if span - prev_pos <= 0:\n",
    "            continue\n",
    "            \n",
    "\n",
    "        text = source[prev_pos:span]\n",
    "        if prev_pos > begin_doc:\n",
    "            text = r\"\\n\\begin{document}\" + text + r\"\\n\\end{document}\"\n",
    "        else:\n",
    "            text = text + r\"\\n\\end{document}\"\n",
    "        try:\n",
    "            #print(f\"{prev_pos}:{prev_name}-->{span}:{name} check... \", end='')\n",
    "            parsed.append(TexSoup(text, tolerance=1))  # allow not ending env\n",
    "            display(Markdown(f\"**[OK]** - *{prev_pos}*:{prev_name} &rarr; *{span}*:{name}\"))\n",
    "            # print(\"ok\")\n",
    "\n",
    "            prev_pos = span\n",
    "            prev_name = name\n",
    "        except:\n",
    "            # print(f\"error between {prev_pos} and {span}\")\n",
    "            display(Markdown(f\"**[ERR]** *{prev_pos}*:{prev_name} &rarr; *{span}*:{name}\"))\n",
    "            problematic_text.append((prev_pos, source[prev_pos:span]))\n",
    "            prev_pos = span\n",
    "            prev_name = name\n",
    "            # raise\n",
    "    return problematic_text, parsed\n",
    "\n",
    "\n",
    "def check_environment(text, offset=0):\n",
    "    \"\"\" Check environment \"\"\"\n",
    "    env = re.compile(r\"\\\\begin\\{(?P<env>.*)\\}(.*)\\\\end\\{(?P=env)\\}\", re.DOTALL)\n",
    "\n",
    "    for match in env.finditer(text):\n",
    "        beg, end = match.span()\n",
    "        beg += offset\n",
    "        end += offset\n",
    "        envname = match.groups()[0]\n",
    "        try:\n",
    "            latex.TexSoup(match.group())\n",
    "        except Exception as e:\n",
    "            display(e)\n",
    "            print(f\"Error in {envname:s} between {beg} and {end}\")\n",
    "            return match.groups()[1], beg, end"
   ]
  },
  {
   "cell_type": "raw",
   "id": "2315e835",
   "metadata": {
    "papermill": {
     "duration": 0.008718,
     "end_time": "2023-02-27T18:35:07.888074",
     "exception": false,
     "start_time": "2023-02-27T18:35:07.879356",
     "status": "completed"
    },
    "scrolled": false,
    "tags": []
   },
   "source": [
    "import importlib\n",
    "importlib.reload(latex)\n",
    "which = \"2204.03253\"\n",
    "paper_id = f'{which:s}'\n",
    "folder = f'tmp_{paper_id:s}'\n",
    "\n",
    "if not os.path.isdir(folder):\n",
    "    folder = retrieve_document_source(f\"{paper_id}\", f'tmp_{paper_id}')\n",
    "\n",
    "try:\n",
    "    doc = latex.LatexDocument(folder, validation=validation)    \n",
    "except AffiliationError as affilerror:\n",
    "    msg = f\"ArXiv:{paper_id:s} is not an MPIA paper... \" + str(affilerror)\n",
    "    print(msg)\n",
    "\n",
    "\n",
    "# Hack because sometimes author parsing does not work well\n",
    "if (len(doc.authors) != len(paper['authors'])):\n",
    "    doc._authors = paper['authors']\n",
    "if (doc.abstract) in (None, ''):\n",
    "    doc._abstract = paper['abstract']\n",
    "\n",
    "doc.comment = get_markdown_badge(paper_id) + \" _\" + paper['comments'] + \"_\"\n",
    "doc.highlight_authors_in_list(hl_list)\n",
    "\n",
    "full_md = doc.generate_markdown_text()"
   ]
  },
  {
   "cell_type": "raw",
   "id": "dd3781db",
   "metadata": {
    "papermill": {
     "duration": 0.008734,
     "end_time": "2023-02-27T18:35:07.905575",
     "exception": false,
     "start_time": "2023-02-27T18:35:07.896841",
     "status": "completed"
    },
    "scrolled": false,
    "tags": []
   },
   "source": [
    "doc"
   ]
  },
  {
   "cell_type": "raw",
   "id": "c6eed834",
   "metadata": {
    "papermill": {
     "duration": 0.008691,
     "end_time": "2023-02-27T18:35:07.923065",
     "exception": false,
     "start_time": "2023-02-27T18:35:07.914374",
     "status": "completed"
    },
    "tags": []
   },
   "source": [
    "# [check_environment(k) for k in bracket_error(doc.source)]\n",
    "_, _, a = latex.get_content_per_section(doc.source, verbose=True)\n",
    "if not a:\n",
    "    print(\"no issues per section\")\n",
    "for ak in a:\n",
    "    r = check_environment(ak[1], offset=ak[0])\n",
    "    print(r[1], r[2])\n",
    "    print(r[0])"
   ]
  },
  {
   "cell_type": "code",
   "execution_count": null,
   "id": "71ce768a",
   "metadata": {
    "papermill": {
     "duration": 0.009168,
     "end_time": "2023-02-27T18:35:07.941107",
     "exception": false,
     "start_time": "2023-02-27T18:35:07.931939",
     "status": "completed"
    },
    "tags": []
   },
   "outputs": [],
   "source": []
  }
 ],
 "metadata": {
  "kernelspec": {
   "display_name": "Python 3 (ipykernel)",
   "language": "python",
   "name": "python3"
  },
  "language_info": {
   "codemirror_mode": {
    "name": "ipython",
    "version": 3
   },
   "file_extension": ".py",
   "mimetype": "text/x-python",
   "name": "python",
   "nbconvert_exporter": "python",
   "pygments_lexer": "ipython3",
   "version": "3.9.16"
  },
  "papermill": {
   "default_parameters": {},
   "duration": 62.302914,
   "end_time": "2023-02-27T18:35:08.273900",
   "environment_variables": {},
   "exception": null,
   "input_path": "MPIA daily digest.ipynb",
   "output_path": "log.ipynb",
   "parameters": {},
   "start_time": "2023-02-27T18:34:05.970986",
   "version": "2.4.0"
  },
  "vscode": {
   "interpreter": {
    "hash": "aee8b7b246df8f9039afb4144a1f6fd8d2ca17a180786b69acc140d282b71a49"
   }
  },
  "widgets": {
   "application/vnd.jupyter.widget-state+json": {
    "state": {
     "022002fbca1a4eb89405850f81e49493": {
      "model_module": "@jupyter-widgets/controls",
      "model_module_version": "2.0.0",
      "model_name": "ProgressStyleModel",
      "state": {
       "_model_module": "@jupyter-widgets/controls",
       "_model_module_version": "2.0.0",
       "_model_name": "ProgressStyleModel",
       "_view_count": null,
       "_view_module": "@jupyter-widgets/base",
       "_view_module_version": "2.0.0",
       "_view_name": "StyleView",
       "bar_color": null,
       "description_width": ""
      }
     },
     "0931e9f7ef8d47c988a4a8d6a0181cb0": {
      "model_module": "@jupyter-widgets/base",
      "model_module_version": "2.0.0",
      "model_name": "LayoutModel",
      "state": {
       "_model_module": "@jupyter-widgets/base",
       "_model_module_version": "2.0.0",
       "_model_name": "LayoutModel",
       "_view_count": null,
       "_view_module": "@jupyter-widgets/base",
       "_view_module_version": "2.0.0",
       "_view_name": "LayoutView",
       "align_content": null,
       "align_items": null,
       "align_self": null,
       "border_bottom": null,
       "border_left": null,
       "border_right": null,
       "border_top": null,
       "bottom": null,
       "display": null,
       "flex": null,
       "flex_flow": null,
       "grid_area": null,
       "grid_auto_columns": null,
       "grid_auto_flow": null,
       "grid_auto_rows": null,
       "grid_column": null,
       "grid_gap": null,
       "grid_row": null,
       "grid_template_areas": null,
       "grid_template_columns": null,
       "grid_template_rows": null,
       "height": null,
       "justify_content": null,
       "justify_items": null,
       "left": null,
       "margin": null,
       "max_height": null,
       "max_width": null,
       "min_height": null,
       "min_width": null,
       "object_fit": null,
       "object_position": null,
       "order": null,
       "overflow": null,
       "padding": null,
       "right": null,
       "top": null,
       "visibility": null,
       "width": null
      }
     },
     "10e6f9867edb4a129b3f329f98a10ae8": {
      "model_module": "@jupyter-widgets/base",
      "model_module_version": "2.0.0",
      "model_name": "LayoutModel",
      "state": {
       "_model_module": "@jupyter-widgets/base",
       "_model_module_version": "2.0.0",
       "_model_name": "LayoutModel",
       "_view_count": null,
       "_view_module": "@jupyter-widgets/base",
       "_view_module_version": "2.0.0",
       "_view_name": "LayoutView",
       "align_content": null,
       "align_items": null,
       "align_self": null,
       "border_bottom": null,
       "border_left": null,
       "border_right": null,
       "border_top": null,
       "bottom": null,
       "display": null,
       "flex": null,
       "flex_flow": null,
       "grid_area": null,
       "grid_auto_columns": null,
       "grid_auto_flow": null,
       "grid_auto_rows": null,
       "grid_column": null,
       "grid_gap": null,
       "grid_row": null,
       "grid_template_areas": null,
       "grid_template_columns": null,
       "grid_template_rows": null,
       "height": null,
       "justify_content": null,
       "justify_items": null,
       "left": null,
       "margin": null,
       "max_height": null,
       "max_width": null,
       "min_height": null,
       "min_width": null,
       "object_fit": null,
       "object_position": null,
       "order": null,
       "overflow": null,
       "padding": null,
       "right": null,
       "top": null,
       "visibility": null,
       "width": null
      }
     },
     "24202a8ef1fb4b1b98e226dd3f2e1d06": {
      "model_module": "@jupyter-widgets/controls",
      "model_module_version": "2.0.0",
      "model_name": "HTMLModel",
      "state": {
       "_dom_classes": [],
       "_model_module": "@jupyter-widgets/controls",
       "_model_module_version": "2.0.0",
       "_model_name": "HTMLModel",
       "_view_count": null,
       "_view_module": "@jupyter-widgets/controls",
       "_view_module_version": "2.0.0",
       "_view_name": "HTMLView",
       "description": "",
       "description_allow_html": false,
       "layout": "IPY_MODEL_6e1fa6d433cd464abf67c4801e8cd418",
       "placeholder": "​",
       "style": "IPY_MODEL_983b1408f06d43b4a0aac1777d1df06d",
       "tabbable": null,
       "tooltip": null,
       "value": "100%"
      }
     },
     "3634f0323c5a45b5b4c2dfb5f47a7b60": {
      "model_module": "@jupyter-widgets/controls",
      "model_module_version": "2.0.0",
      "model_name": "HBoxModel",
      "state": {
       "_dom_classes": [],
       "_model_module": "@jupyter-widgets/controls",
       "_model_module_version": "2.0.0",
       "_model_name": "HBoxModel",
       "_view_count": null,
       "_view_module": "@jupyter-widgets/controls",
       "_view_module_version": "2.0.0",
       "_view_name": "HBoxView",
       "box_style": "",
       "children": [
        "IPY_MODEL_24202a8ef1fb4b1b98e226dd3f2e1d06",
        "IPY_MODEL_7585b9723aa040339777f64e677636c1",
        "IPY_MODEL_4f477800ecbb46f289dcad3fee1b9f8e"
       ],
       "layout": "IPY_MODEL_10e6f9867edb4a129b3f329f98a10ae8",
       "tabbable": null,
       "tooltip": null
      }
     },
     "3e7688a2511c4cb38576e0ac200d1c8b": {
      "model_module": "@jupyter-widgets/controls",
      "model_module_version": "2.0.0",
      "model_name": "HTMLStyleModel",
      "state": {
       "_model_module": "@jupyter-widgets/controls",
       "_model_module_version": "2.0.0",
       "_model_name": "HTMLStyleModel",
       "_view_count": null,
       "_view_module": "@jupyter-widgets/base",
       "_view_module_version": "2.0.0",
       "_view_name": "StyleView",
       "background": null,
       "description_width": "",
       "font_size": null,
       "text_color": null
      }
     },
     "4f477800ecbb46f289dcad3fee1b9f8e": {
      "model_module": "@jupyter-widgets/controls",
      "model_module_version": "2.0.0",
      "model_name": "HTMLModel",
      "state": {
       "_dom_classes": [],
       "_model_module": "@jupyter-widgets/controls",
       "_model_module_version": "2.0.0",
       "_model_name": "HTMLModel",
       "_view_count": null,
       "_view_module": "@jupyter-widgets/controls",
       "_view_module_version": "2.0.0",
       "_view_name": "HTMLView",
       "description": "",
       "description_allow_html": false,
       "layout": "IPY_MODEL_0931e9f7ef8d47c988a4a8d6a0181cb0",
       "placeholder": "​",
       "style": "IPY_MODEL_3e7688a2511c4cb38576e0ac200d1c8b",
       "tabbable": null,
       "tooltip": null,
       "value": " 15/15 [00:35&lt;00:00,  5.66s/it]"
      }
     },
     "6e1fa6d433cd464abf67c4801e8cd418": {
      "model_module": "@jupyter-widgets/base",
      "model_module_version": "2.0.0",
      "model_name": "LayoutModel",
      "state": {
       "_model_module": "@jupyter-widgets/base",
       "_model_module_version": "2.0.0",
       "_model_name": "LayoutModel",
       "_view_count": null,
       "_view_module": "@jupyter-widgets/base",
       "_view_module_version": "2.0.0",
       "_view_name": "LayoutView",
       "align_content": null,
       "align_items": null,
       "align_self": null,
       "border_bottom": null,
       "border_left": null,
       "border_right": null,
       "border_top": null,
       "bottom": null,
       "display": null,
       "flex": null,
       "flex_flow": null,
       "grid_area": null,
       "grid_auto_columns": null,
       "grid_auto_flow": null,
       "grid_auto_rows": null,
       "grid_column": null,
       "grid_gap": null,
       "grid_row": null,
       "grid_template_areas": null,
       "grid_template_columns": null,
       "grid_template_rows": null,
       "height": null,
       "justify_content": null,
       "justify_items": null,
       "left": null,
       "margin": null,
       "max_height": null,
       "max_width": null,
       "min_height": null,
       "min_width": null,
       "object_fit": null,
       "object_position": null,
       "order": null,
       "overflow": null,
       "padding": null,
       "right": null,
       "top": null,
       "visibility": null,
       "width": null
      }
     },
     "7585b9723aa040339777f64e677636c1": {
      "model_module": "@jupyter-widgets/controls",
      "model_module_version": "2.0.0",
      "model_name": "FloatProgressModel",
      "state": {
       "_dom_classes": [],
       "_model_module": "@jupyter-widgets/controls",
       "_model_module_version": "2.0.0",
       "_model_name": "FloatProgressModel",
       "_view_count": null,
       "_view_module": "@jupyter-widgets/controls",
       "_view_module_version": "2.0.0",
       "_view_name": "ProgressView",
       "bar_style": "success",
       "description": "",
       "description_allow_html": false,
       "layout": "IPY_MODEL_a99a3c2d28204db9bd1dc5e35b0d7438",
       "max": 15.0,
       "min": 0.0,
       "orientation": "horizontal",
       "style": "IPY_MODEL_022002fbca1a4eb89405850f81e49493",
       "tabbable": null,
       "tooltip": null,
       "value": 15.0
      }
     },
     "983b1408f06d43b4a0aac1777d1df06d": {
      "model_module": "@jupyter-widgets/controls",
      "model_module_version": "2.0.0",
      "model_name": "HTMLStyleModel",
      "state": {
       "_model_module": "@jupyter-widgets/controls",
       "_model_module_version": "2.0.0",
       "_model_name": "HTMLStyleModel",
       "_view_count": null,
       "_view_module": "@jupyter-widgets/base",
       "_view_module_version": "2.0.0",
       "_view_name": "StyleView",
       "background": null,
       "description_width": "",
       "font_size": null,
       "text_color": null
      }
     },
     "a99a3c2d28204db9bd1dc5e35b0d7438": {
      "model_module": "@jupyter-widgets/base",
      "model_module_version": "2.0.0",
      "model_name": "LayoutModel",
      "state": {
       "_model_module": "@jupyter-widgets/base",
       "_model_module_version": "2.0.0",
       "_model_name": "LayoutModel",
       "_view_count": null,
       "_view_module": "@jupyter-widgets/base",
       "_view_module_version": "2.0.0",
       "_view_name": "LayoutView",
       "align_content": null,
       "align_items": null,
       "align_self": null,
       "border_bottom": null,
       "border_left": null,
       "border_right": null,
       "border_top": null,
       "bottom": null,
       "display": null,
       "flex": null,
       "flex_flow": null,
       "grid_area": null,
       "grid_auto_columns": null,
       "grid_auto_flow": null,
       "grid_auto_rows": null,
       "grid_column": null,
       "grid_gap": null,
       "grid_row": null,
       "grid_template_areas": null,
       "grid_template_columns": null,
       "grid_template_rows": null,
       "height": null,
       "justify_content": null,
       "justify_items": null,
       "left": null,
       "margin": null,
       "max_height": null,
       "max_width": null,
       "min_height": null,
       "min_width": null,
       "object_fit": null,
       "object_position": null,
       "order": null,
       "overflow": null,
       "padding": null,
       "right": null,
       "top": null,
       "visibility": null,
       "width": null
      }
     }
    },
    "version_major": 2,
    "version_minor": 0
   }
  }
 },
 "nbformat": 4,
 "nbformat_minor": 5
}