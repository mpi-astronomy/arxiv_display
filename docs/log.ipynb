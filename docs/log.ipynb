{
 "cells": [
  {
   "cell_type": "markdown",
   "id": "92bcb855",
   "metadata": {
    "papermill": {
     "duration": 0.005293,
     "end_time": "2023-02-20T12:57:32.405087",
     "exception": false,
     "start_time": "2023-02-20T12:57:32.399794",
     "status": "completed"
    },
    "tags": []
   },
   "source": [
    "# MPIA Arxiv on Deck 2\n",
    "\n",
    "Contains the steps to produce the paper extractions."
   ]
  },
  {
   "cell_type": "code",
   "execution_count": 1,
   "id": "3a0d6e11",
   "metadata": {
    "execution": {
     "iopub.execute_input": "2023-02-20T12:57:32.415389Z",
     "iopub.status.busy": "2023-02-20T12:57:32.414844Z",
     "iopub.status.idle": "2023-02-20T12:57:32.603370Z",
     "shell.execute_reply": "2023-02-20T12:57:32.602697Z"
    },
    "papermill": {
     "duration": 0.195843,
     "end_time": "2023-02-20T12:57:32.605353",
     "exception": false,
     "start_time": "2023-02-20T12:57:32.409510",
     "status": "completed"
    },
    "tags": []
   },
   "outputs": [],
   "source": [
    "# Imports\n",
    "import os\n",
    "from IPython.display import Markdown, display\n",
    "from tqdm.notebook import tqdm\n",
    "import warnings\n",
    "from PIL import Image \n",
    "\n",
    "# requires arxiv_on_deck_2\n",
    "\n",
    "from arxiv_on_deck_2.arxiv2 import (get_new_papers, \n",
    "                                    get_paper_from_identifier,\n",
    "                                    retrieve_document_source, \n",
    "                                    get_markdown_badge)\n",
    "from arxiv_on_deck_2 import (latex, \n",
    "                             mpia,\n",
    "                             highlight_authors_in_list)\n",
    "\n",
    "# Sometimes images are really big\n",
    "Image.MAX_IMAGE_PIXELS = 1000000000 "
   ]
  },
  {
   "cell_type": "code",
   "execution_count": 2,
   "id": "22aa9d44",
   "metadata": {
    "execution": {
     "iopub.execute_input": "2023-02-20T12:57:32.615615Z",
     "iopub.status.busy": "2023-02-20T12:57:32.614982Z",
     "iopub.status.idle": "2023-02-20T12:57:32.619895Z",
     "shell.execute_reply": "2023-02-20T12:57:32.619257Z"
    },
    "papermill": {
     "duration": 0.011971,
     "end_time": "2023-02-20T12:57:32.621743",
     "exception": false,
     "start_time": "2023-02-20T12:57:32.609772",
     "status": "completed"
    },
    "tags": []
   },
   "outputs": [],
   "source": [
    "# Some useful definitions.\n",
    "\n",
    "class AffiliationWarning(UserWarning):\n",
    "    pass\n",
    "\n",
    "class AffiliationError(RuntimeError):\n",
    "    pass\n",
    "\n",
    "def validation(source: str):\n",
    "    \"\"\"Raises error paper during parsing of source file\n",
    "    \n",
    "    Allows checks before parsing TeX code.\n",
    "    \n",
    "    Raises AffiliationWarning\n",
    "    \"\"\"\n",
    "    check = mpia.affiliation_verifications(source, verbose=True)\n",
    "    if check is not True:\n",
    "        raise AffiliationError(\"mpia.affiliation_verifications: \" + check)\n",
    "\n",
    "        \n",
    "warnings.simplefilter('always', AffiliationWarning)"
   ]
  },
  {
   "cell_type": "code",
   "execution_count": 3,
   "id": "14622700",
   "metadata": {
    "execution": {
     "iopub.execute_input": "2023-02-20T12:57:32.631358Z",
     "iopub.status.busy": "2023-02-20T12:57:32.630912Z",
     "iopub.status.idle": "2023-02-20T12:57:32.634740Z",
     "shell.execute_reply": "2023-02-20T12:57:32.634099Z"
    },
    "papermill": {
     "duration": 0.010491,
     "end_time": "2023-02-20T12:57:32.636464",
     "exception": false,
     "start_time": "2023-02-20T12:57:32.625973",
     "status": "completed"
    },
    "tags": []
   },
   "outputs": [],
   "source": [
    "# additional CSS to consider. \n",
    "# TODO: Current into each exported file. \n",
    "#       This should be set once into the webpages directly.\n",
    "#       With only the class/id definitions in the .md files.\n",
    "\n",
    "debug_html = \"\"\"\n",
    "<style>\n",
    "#wrap{ overflow:auto; }\n",
    "#fig1{ background:yellow; width:100%; float:left; padding:5px;  }\n",
    "#fig2{ background:red; width:50%; float:left; clear:left; padding:5px;  }\n",
    "#fig3{ background:green; width:50%; float:left; padding:5px;   }\n",
    ".macros{ background:yellow; visibility:visible;}\n",
    "h1 {margin: 0 0 0 0;}\n",
    "mark {background-color:#fff3b6;}\n",
    "img {object-fit:contain; max-height:250px; display:inline-block; text-align: center;}\n",
    "</style>\n",
    "\"\"\" \n",
    "html = \"\"\"\n",
    "<style>\n",
    "#wrap{ overflow:auto; }\n",
    "#fig1{ width:100%; float:left; padding: 5px;  }\n",
    "#fig2{ width:50%; float:left; clear:left; padding: 5px;  }\n",
    "#fig3{ width:50%; float:left; padding: 5px;  }\n",
    ".macros{ visibility:hidden; height:0px; }\n",
    "h1 {margin: 0em 0 0 0;}\n",
    "mark {background-color:#fff3b6;}\n",
    "img {object-fit:contain; max-height:250px; display:inline-block; text-align: center;}\n",
    "</style>\n",
    "\"\"\""
   ]
  },
  {
   "cell_type": "markdown",
   "id": "14bd6310",
   "metadata": {
    "papermill": {
     "duration": 0.004166,
     "end_time": "2023-02-20T12:57:32.644777",
     "exception": false,
     "start_time": "2023-02-20T12:57:32.640611",
     "status": "completed"
    },
    "tags": []
   },
   "source": [
    "## get list of arxiv paper candidates\n",
    "\n",
    "We use the MPIA mitarbeiter list webpage from mpia.de to get author names\n",
    "We then get all new papers from Arxiv and match authors"
   ]
  },
  {
   "cell_type": "code",
   "execution_count": 4,
   "id": "2645e73a",
   "metadata": {
    "execution": {
     "iopub.execute_input": "2023-02-20T12:57:32.654402Z",
     "iopub.status.busy": "2023-02-20T12:57:32.653796Z",
     "iopub.status.idle": "2023-02-20T12:58:00.209157Z",
     "shell.execute_reply": "2023-02-20T12:58:00.208504Z"
    },
    "papermill": {
     "duration": 27.562205,
     "end_time": "2023-02-20T12:58:00.211057",
     "exception": false,
     "start_time": "2023-02-20T12:57:32.648852",
     "status": "completed"
    },
    "tags": []
   },
   "outputs": [
    {
     "name": "stdout",
     "output_type": "stream",
     "text": [
      "Arxiv has 36 new papers today\n",
      "          19 with possible author matches\n"
     ]
    }
   ],
   "source": [
    "# get list from MPIA website\n",
    "# it automatically filters identified non-scientists :func:`mpia.filter_non_scientists`\n",
    "mpia_authors = mpia.get_mpia_mitarbeiter_list()\n",
    "new_papers = get_new_papers()\n",
    "# add manual references\n",
    "add_paper_refs = []\n",
    "new_papers.extend([get_paper_from_identifier(k) for k in add_paper_refs])\n",
    "\n",
    "# select only papers with matching author names and highlight authors\n",
    "hl_list = [k[0] for k in mpia_authors]\n",
    "\n",
    "candidates = []\n",
    "for paperk in new_papers:\n",
    "    hl_authors = highlight_authors_in_list(paperk['authors'], hl_list)\n",
    "    matches = [(hl, orig) for hl, orig in zip(hl_authors, paperk['authors']) if 'mark' in hl]\n",
    "    paperk['authors'] = hl_authors\n",
    "    if matches:\n",
    "        candidates.append(paperk)\n",
    "print(\"\"\"Arxiv has {0:,d} new papers today\"\"\".format(len(new_papers)))        \n",
    "print(\"\"\"          {0:,d} with possible author matches\"\"\".format(len(candidates)))"
   ]
  },
  {
   "cell_type": "markdown",
   "id": "3543b34a",
   "metadata": {
    "papermill": {
     "duration": 0.004238,
     "end_time": "2023-02-20T12:58:00.219902",
     "exception": false,
     "start_time": "2023-02-20T12:58:00.215664",
     "status": "completed"
    },
    "tags": []
   },
   "source": [
    "# Parse sources and generate relevant outputs\n",
    "\n",
    "From the candidates, we do the following steps:\n",
    "* get their tarball from ArXiv (and extract data)\n",
    "* find the main .tex file: find one with \\documentclass{...} (sometimes it's non trivial)\n",
    "* Check affiliations with :func:`validation`, which uses :func:`mpia.affiliation_verifications`\n",
    "* If passing the affiliations: we parse the .tex source\n",
    "   * inject sub-documents into the main (flatten the main document)\n",
    "   * parse structure, extract information (title, abstract, authors, figures...)\n",
    "   * handles `\\graphicspath` if provided\n",
    "* Generate the .md document."
   ]
  },
  {
   "cell_type": "code",
   "execution_count": 5,
   "id": "9576b79e",
   "metadata": {
    "execution": {
     "iopub.execute_input": "2023-02-20T12:58:00.229936Z",
     "iopub.status.busy": "2023-02-20T12:58:00.229309Z",
     "iopub.status.idle": "2023-02-20T12:59:39.406212Z",
     "shell.execute_reply": "2023-02-20T12:59:39.405637Z"
    },
    "papermill": {
     "duration": 99.191051,
     "end_time": "2023-02-20T12:59:39.415158",
     "exception": false,
     "start_time": "2023-02-20T12:58:00.224107",
     "status": "completed"
    },
    "scrolled": false,
    "tags": []
   },
   "outputs": [
    {
     "data": {
      "application/vnd.jupyter.widget-view+json": {
       "model_id": "24e0398eea6a4e0c8c4a5a2173813735",
       "version_major": 2,
       "version_minor": 0
      },
      "text/plain": [
       "  0%|          | 0/18 [00:00<?, ?it/s]"
      ]
     },
     "metadata": {},
     "output_type": "display_data"
    },
    {
     "name": "stdout",
     "output_type": "stream",
     "text": [
      "Retrieving document from  https://arxiv.org/e-print/2302.08523\n"
     ]
    },
    {
     "name": "stdout",
     "output_type": "stream",
     "text": [
      "extracting tarball to tmp_2302.08523..."
     ]
    },
    {
     "name": "stdout",
     "output_type": "stream",
     "text": [
      " done.\n",
      "Retrieving document from  https://arxiv.org/e-print/2302.08532\n"
     ]
    },
    {
     "name": "stderr",
     "output_type": "stream",
     "text": [
      "/opt/hostedtoolcache/Python/3.9.16/x64/lib/python3.9/site-packages/IPython/core/interactiveshell.py:3460: LatexWarning: Multiple tex files.\n",
      "\n",
      "  exec(code_obj, self.user_global_ns, self.user_ns)\n",
      "/opt/hostedtoolcache/Python/3.9.16/x64/lib/python3.9/site-packages/IPython/core/interactiveshell.py:3460: LatexWarning: Found documentclass in tmp_2302.08523/mnras_template.tex\n",
      "\n",
      "  exec(code_obj, self.user_global_ns, self.user_ns)\n"
     ]
    },
    {
     "name": "stdout",
     "output_type": "stream",
     "text": [
      "extracting tarball to tmp_2302.08532..."
     ]
    },
    {
     "name": "stdout",
     "output_type": "stream",
     "text": [
      " done.\n",
      "Retrieving document from  https://arxiv.org/e-print/2302.08536\n"
     ]
    },
    {
     "name": "stderr",
     "output_type": "stream",
     "text": [
      "/opt/hostedtoolcache/Python/3.9.16/x64/lib/python3.9/site-packages/IPython/core/interactiveshell.py:3460: LatexWarning: Multiple tex files.\n",
      "\n",
      "  exec(code_obj, self.user_global_ns, self.user_ns)\n",
      "/opt/hostedtoolcache/Python/3.9.16/x64/lib/python3.9/site-packages/IPython/core/interactiveshell.py:3460: LatexWarning: Found documentclass in tmp_2302.08532/mcmc_p3.tex\n",
      "\n",
      "  exec(code_obj, self.user_global_ns, self.user_ns)\n"
     ]
    },
    {
     "name": "stdout",
     "output_type": "stream",
     "text": [
      "extracting tarball to tmp_2302.08536..."
     ]
    },
    {
     "name": "stdout",
     "output_type": "stream",
     "text": [
      " done.\n",
      "Retrieving document from  https://arxiv.org/e-print/2302.08596\n"
     ]
    },
    {
     "name": "stdout",
     "output_type": "stream",
     "text": [
      "extracting tarball to tmp_2302.08596..."
     ]
    },
    {
     "name": "stdout",
     "output_type": "stream",
     "text": [
      " done.\n",
      "Retrieving document from  https://arxiv.org/e-print/2302.08628\n"
     ]
    },
    {
     "name": "stderr",
     "output_type": "stream",
     "text": [
      "/opt/hostedtoolcache/Python/3.9.16/x64/lib/python3.9/site-packages/IPython/core/interactiveshell.py:3460: LatexWarning: Multiple tex files.\n",
      "\n",
      "  exec(code_obj, self.user_global_ns, self.user_ns)\n",
      "/opt/hostedtoolcache/Python/3.9.16/x64/lib/python3.9/site-packages/IPython/core/interactiveshell.py:3460: LatexWarning: Found documentclass in tmp_2302.08596/aassymbols.tex\n",
      "\n",
      "  exec(code_obj, self.user_global_ns, self.user_ns)\n"
     ]
    },
    {
     "name": "stdout",
     "output_type": "stream",
     "text": [
      "extracting tarball to tmp_2302.08628..."
     ]
    },
    {
     "name": "stdout",
     "output_type": "stream",
     "text": [
      " done.\n"
     ]
    },
    {
     "name": "stdout",
     "output_type": "stream",
     "text": [
      "Retrieving document from  https://arxiv.org/e-print/2302.08634\n"
     ]
    },
    {
     "name": "stdout",
     "output_type": "stream",
     "text": [
      "extracting tarball to tmp_2302.08634..."
     ]
    },
    {
     "name": "stdout",
     "output_type": "stream",
     "text": [
      " done.\n",
      "Retrieving document from  https://arxiv.org/e-print/2302.08657\n"
     ]
    },
    {
     "name": "stderr",
     "output_type": "stream",
     "text": [
      "/tmp/ipykernel_2010/4030337529.py:34: LatexWarning: 2302.08657 did not run properly\n",
      "not a gzip file\n",
      "  warnings.warn(latex.LatexWarning(f\"{paper_id:s} did not run properly\\n\" +\n"
     ]
    },
    {
     "name": "stdout",
     "output_type": "stream",
     "text": [
      "Retrieving document from  https://arxiv.org/e-print/2302.08736\n"
     ]
    },
    {
     "name": "stdout",
     "output_type": "stream",
     "text": [
      "extracting tarball to tmp_2302.08736..."
     ]
    },
    {
     "name": "stdout",
     "output_type": "stream",
     "text": [
      " done.\n"
     ]
    },
    {
     "name": "stderr",
     "output_type": "stream",
     "text": [
      "/opt/hostedtoolcache/Python/3.9.16/x64/lib/python3.9/site-packages/arxiv_on_deck_2/latex.py:366: LatexWarning: Error parsing the document directly. Trying to recover.\n",
      "  warnings.warn(LatexWarning(f\"Error parsing the document directly. Trying to recover.\"))\n"
     ]
    },
    {
     "name": "stdout",
     "output_type": "stream",
     "text": [
      "✔ → 0:header\n",
      "  ↳ 4467:\\section{Introduction}\n"
     ]
    },
    {
     "name": "stdout",
     "output_type": "stream",
     "text": [
      "✔ → 4467:\\section{Introduction}\n",
      "  ↳ 10235:\\section{Observations and data reduction}\n",
      "✔ → 10235:\\section{Observations and data reduction}\n",
      "  ↳ 15747:\\section{Methods}\n"
     ]
    },
    {
     "name": "stdout",
     "output_type": "stream",
     "text": [
      "✔ → 15747:\\section{Methods}\n",
      "  ↳ 19999:\\section{Results and discussions}\n"
     ]
    },
    {
     "name": "stdout",
     "output_type": "stream",
     "text": [
      "✘ → 19999:\\section{Results and discussions}\n",
      "  ↳ 38585:\\section{Conclusions}\n",
      "✔ → 38585:\\section{Conclusions}\n",
      "  ↳ 41572:\\begin{appendix}\n",
      "✔ → 41572:\\begin{appendix}\n",
      "  ↳ 41589:\\section{Additional tables and figures}\n",
      "✔ → 41589:\\section{Additional tables and figures}\n",
      "  ↳ 42771:end\n"
     ]
    },
    {
     "name": "stdout",
     "output_type": "stream",
     "text": [
      "Retrieving document from  https://arxiv.org/e-print/2302.08776\n"
     ]
    },
    {
     "name": "stdout",
     "output_type": "stream",
     "text": [
      "extracting tarball to tmp_2302.08776..."
     ]
    },
    {
     "name": "stdout",
     "output_type": "stream",
     "text": [
      " done.\n",
      "Retrieving document from  https://arxiv.org/e-print/2302.08784\n"
     ]
    },
    {
     "name": "stdout",
     "output_type": "stream",
     "text": [
      "extracting tarball to tmp_2302.08784..."
     ]
    },
    {
     "name": "stdout",
     "output_type": "stream",
     "text": [
      " done.\n",
      "Retrieving document from  https://arxiv.org/e-print/2302.08814\n"
     ]
    },
    {
     "name": "stdout",
     "output_type": "stream",
     "text": [
      "extracting tarball to tmp_2302.08814..."
     ]
    },
    {
     "name": "stdout",
     "output_type": "stream",
     "text": [
      " done.\n",
      "Retrieving document from  https://arxiv.org/e-print/2302.08848\n"
     ]
    },
    {
     "name": "stderr",
     "output_type": "stream",
     "text": [
      "/opt/hostedtoolcache/Python/3.9.16/x64/lib/python3.9/site-packages/IPython/core/interactiveshell.py:3460: LatexWarning: Multiple tex files.\n",
      "\n",
      "  exec(code_obj, self.user_global_ns, self.user_ns)\n",
      "/opt/hostedtoolcache/Python/3.9.16/x64/lib/python3.9/site-packages/IPython/core/interactiveshell.py:3460: LatexWarning: Found documentclass in tmp_2302.08814/aassymbols.tex\n",
      "\n",
      "  exec(code_obj, self.user_global_ns, self.user_ns)\n"
     ]
    },
    {
     "name": "stdout",
     "output_type": "stream",
     "text": [
      "extracting tarball to tmp_2302.08848..."
     ]
    },
    {
     "name": "stdout",
     "output_type": "stream",
     "text": [
      " done.\n",
      "Retrieving document from  https://arxiv.org/e-print/2302.08863\n"
     ]
    },
    {
     "name": "stdout",
     "output_type": "stream",
     "text": [
      "extracting tarball to tmp_2302.08863..."
     ]
    },
    {
     "name": "stdout",
     "output_type": "stream",
     "text": [
      " done.\n",
      "Retrieving document from  https://arxiv.org/e-print/2302.08889\n"
     ]
    },
    {
     "name": "stdout",
     "output_type": "stream",
     "text": [
      "extracting tarball to tmp_2302.08889... done.\n",
      "Retrieving document from  https://arxiv.org/e-print/2302.08926\n"
     ]
    },
    {
     "name": "stdout",
     "output_type": "stream",
     "text": [
      "extracting tarball to tmp_2302.08926..."
     ]
    },
    {
     "name": "stdout",
     "output_type": "stream",
     "text": [
      " done.\n",
      "Retrieving document from  https://arxiv.org/e-print/2302.08960\n"
     ]
    },
    {
     "name": "stdout",
     "output_type": "stream",
     "text": [
      "extracting tarball to tmp_2302.08960..."
     ]
    },
    {
     "name": "stdout",
     "output_type": "stream",
     "text": [
      " done.\n",
      "Retrieving document from  https://arxiv.org/e-print/2302.08962\n"
     ]
    },
    {
     "name": "stdout",
     "output_type": "stream",
     "text": [
      "extracting tarball to tmp_2302.08962..."
     ]
    },
    {
     "name": "stdout",
     "output_type": "stream",
     "text": [
      " done.\n"
     ]
    },
    {
     "name": "stdout",
     "output_type": "stream",
     "text": [
      "Retrieving document from  https://arxiv.org/e-print/2302.09032\n"
     ]
    },
    {
     "name": "stdout",
     "output_type": "stream",
     "text": [
      "extracting tarball to tmp_2302.09032..."
     ]
    },
    {
     "name": "stdout",
     "output_type": "stream",
     "text": [
      " done.\n"
     ]
    }
   ],
   "source": [
    "documents = []\n",
    "failed = []\n",
    "for paper in tqdm(candidates[:-1]):\n",
    "    paper_id = paper['identifier'].lower().replace('arxiv:', '')\n",
    "    \n",
    "    folder = f'tmp_{paper_id}'\n",
    "\n",
    "    try:\n",
    "        if not os.path.isdir(folder):\n",
    "            folder = retrieve_document_source(f\"{paper_id}\", f'tmp_{paper_id}')\n",
    "        \n",
    "        try:\n",
    "            doc = latex.LatexDocument(folder, validation=validation)    \n",
    "        except AffiliationError as affilerror:\n",
    "            msg = f\"ArXiv:{paper_id:s} is not an MPIA paper... \" + str(affilerror)\n",
    "            failed.append((paper, \"affiliation error: \" + str(affilerror) ))\n",
    "            continue\n",
    "        \n",
    "        # Hack because sometimes author parsing does not work well\n",
    "        if (len(doc.authors) != len(paper['authors'])):\n",
    "            doc._authors = paper['authors']\n",
    "        if (doc.abstract) in (None, ''):\n",
    "            doc._abstract = paper['abstract']\n",
    "            \n",
    "        doc.comment = (get_markdown_badge(paper_id) + \n",
    "                       \"<mark>Appeared on: \" + paper['date'] + \"</mark> - \" +\n",
    "                       \"_\" + paper['comments'] + \"_\")\n",
    "        doc.highlight_authors_in_list(hl_list)\n",
    "\n",
    "        full_md = doc.generate_markdown_text()\n",
    "        \n",
    "        documents.append((paper_id, full_md))\n",
    "    except Exception as e:\n",
    "        warnings.warn(latex.LatexWarning(f\"{paper_id:s} did not run properly\\n\" +\n",
    "                                         str(e)\n",
    "                                        ))\n",
    "        failed.append((paper, \"latex error \" + str(e)))"
   ]
  },
  {
   "cell_type": "markdown",
   "id": "2505a25c",
   "metadata": {
    "papermill": {
     "duration": 0.00672,
     "end_time": "2023-02-20T12:59:39.428738",
     "exception": false,
     "start_time": "2023-02-20T12:59:39.422018",
     "status": "completed"
    },
    "tags": []
   },
   "source": [
    "### Export the logs\n",
    "\n",
    "Throughout, we also keep track of the logs per paper. see `logs-{today date}.md` "
   ]
  },
  {
   "cell_type": "code",
   "execution_count": 6,
   "id": "d733828a",
   "metadata": {
    "execution": {
     "iopub.execute_input": "2023-02-20T12:59:39.443881Z",
     "iopub.status.busy": "2023-02-20T12:59:39.443152Z",
     "iopub.status.idle": "2023-02-20T12:59:39.472410Z",
     "shell.execute_reply": "2023-02-20T12:59:39.471677Z"
    },
    "papermill": {
     "duration": 0.044633,
     "end_time": "2023-02-20T12:59:39.480053",
     "exception": false,
     "start_time": "2023-02-20T12:59:39.435420",
     "status": "completed"
    },
    "scrolled": false,
    "tags": []
   },
   "outputs": [
    {
     "data": {
      "text/markdown": [
       "## Successful papers"
      ],
      "text/plain": [
       "<IPython.core.display.Markdown object>"
      ]
     },
     "metadata": {},
     "output_type": "display_data"
    },
    {
     "data": {
      "text/markdown": [
       "\n",
       "|||\n",
       "|---:|:---|\n",
       "| [![arXiv](https://img.shields.io/badge/arXiv-arXiv:2302.08628-b31b1b.svg)](https://arxiv.org/abs/arXiv:2302.08628) | **New measurement of the diffusion of carbon dioxide on non-porous  amorphous solid water**  |\n",
       "|| <mark>Jiao He</mark>, et al. -- incl., <mark>Tushar Suhasaria</mark>, <mark>Thomas K. Henning</mark> |\n",
       "|*Appeared on*| *2023-02-20*|\n",
       "|*Comments*| *13 pages, 6 figures*|\n",
       "|**Abstract**| The diffusion of molecules on interstellar grain surfaces is one of the most important driving forces for the molecular complexity in the interstellar medium. Due to the lack of laboratory measurements, astrochemical modeling of grain surface processes usually assumes a constant ratio between the diffusion energy barrier and the desorption energy. This over-simplification inevitably causes large uncertainty in model predictions. We present a new measurement of the diffusion of CO$_2$ molecules on the surface of non-porous amorphous solid water (np-ASW), an analog of the ice mantle that covers cosmic dust grains. A small coverage of CO$_2$ was deposited onto an np-ASW surface at 40~K, the subsequent warming of the ice activated the diffusion of CO$_2$ molecules, and a transition from isolated CO$_2$ to CO$_2$ clusters was seen in the infrared spectra. To obtain the diffusion energy barrier and pre-exponential factor simultaneously, a set of isothermal experiments were carried out. The values for the diffusion energy barrier and pre-exponential factor were found to be $1300\\pm110$~K and $10^{7.6\\pm0.8}$~s$^{-1}$. A comparison with prior laboratory measurements on diffusion is discussed. |"
      ],
      "text/plain": [
       "[arXiv:2302.08628] New measurement of the diffusion of carbon dioxide on non-porous  amorphous solid water\n",
       "\t<mark>Jiao He</mark>, et al. -- incl., <mark>Tushar Suhasaria</mark>, <mark>Thomas K. Henning</mark>"
      ]
     },
     "metadata": {},
     "output_type": "display_data"
    },
    {
     "data": {
      "text/markdown": [
       "\n",
       "|||\n",
       "|---:|:---|\n",
       "| [![arXiv](https://img.shields.io/badge/arXiv-arXiv:2302.08736-b31b1b.svg)](https://arxiv.org/abs/arXiv:2302.08736) | **CRIRES+ detection of CO emissions lines and temperature inversions on  the dayside of WASP-18b and WASP-76b**  |\n",
       "|| F. Yan, et al. -- incl., <mark>U. Heiter</mark> |\n",
       "|*Appeared on*| *2023-02-20*|\n",
       "|*Comments*| *11 pages, 12 figures; accepted for publication in A&A*|\n",
       "|**Abstract**| The dayside atmospheres of ultra-hot Jupiters (UHJs) are predicted to possess temperature inversion layers with extremely high temperatures at high altitudes. We observed the dayside thermal emission spectra of WASP-18b and WASP-76b with the new CRIRES+ high-resolution spectrograph at near-infrared wavelengths. Using the cross-correlation technique, we detected strong CO emission lines in both planets, which confirms the existence of temperature inversions on their dayside hemispheres. The two planets are the first UHJs orbiting F-type stars with CO emission lines detected; previous detections were mostly for UHJs orbiting A-type stars. Evidence of weak H2O emission signals is also found for both planets. We further applied forward-model retrievals on the detected CO lines and retrieved the temperature-pressure profiles along with the CO volume mixing ratios. The retrieved logarithmic CO mixing ratio of WASP-18b (-2.2) is slightly higher than the value predicted by the self-consistent model assuming solar abundance. For WASP-76b, the retrieved CO mixing ratio (-3.6) is broadly consistent with the value of solar abundance. In addition, we included the equatorial rotation velocity (Veq ) in the retrieval when analyzing the line profile broadening. The obtained Veq is 7.0 km/s for WASP-18b and 5.2 km/s for WASP-76b, which are consistent with the tidally locked rotational velocities. |"
      ],
      "text/plain": [
       "[arXiv:2302.08736] CRIRES+ detection of CO emissions lines and temperature inversions on  the dayside of WASP-18b and WASP-76b\n",
       "\tF. Yan, et al. -- incl., <mark>U. Heiter</mark>"
      ]
     },
     "metadata": {},
     "output_type": "display_data"
    },
    {
     "data": {
      "text/markdown": [
       "\n",
       "|||\n",
       "|---:|:---|\n",
       "| [![arXiv](https://img.shields.io/badge/arXiv-arXiv:2302.08962-b31b1b.svg)](https://arxiv.org/abs/arXiv:2302.08962) | **The Hubble PanCET program: The near-ultraviolet transmission spectrum of  WASP-79b**  |\n",
       "|| A. Gressier, et al. -- incl., <mark>G.W. Henry</mark>, <mark>T. Mikal-Evans</mark> |\n",
       "|*Appeared on*| *2023-02-20*|\n",
       "|*Comments*| *Accepted for publication January 31, 2023 in the Journal Astronomy & Astrophysics*|\n",
       "|**Abstract**| We present Hubble Space Telescope (HST) transit observations of the Hot-Jupiter WASP-79b acquired with the Space Telescope Imaging Spectrograph (STIS) in the near ultraviolet (NUV). Two transit observations, part of the PanCET program, are used to obtain the transmission spectra of the planet between 2280 and 3070{\\AA}. We correct for systematic effects in the raw data using the jitter engineering parameters and polynomial modelling to fit the white light curves of the two transits. We observe an increase in the planet-to-star radius ratio at short wavelengths, but no spectrally resolved absorption lines. The difference between the radius ratios at 2400 and 3000{\\AA} reaches $0.0191\\pm0.0042$ ($\\sim$4.5$-\\sigma$). Although the NUV transmission spectrum does not show evidence of hydrodynamical escape, the strong atmospheric features are likely due to species at very high altitudes. We performed a 1D simulation of the temperature and composition of WASP-79b using Exo-REM. The temperature pressure profile crosses condensation curves of radiatively active clouds, particularly MnS, Mg$_2$SiO$_4$, Fe, and Al$_2$O$_3$. Still, none of these species produces the level of observed absorption at short wavelengths and can explain the observed increase in the planet's radius. WASP-79b's transit depth reaches 23 scale height, making it one of the largest spectral features observed in an exoplanet at this temperature ($\\sim$1700 K). The comparison of WASP-79b's transmission spectrum with three warmer hot Jupiters shows a similar level of absorption to WASP-178b and WASP-121b between 0.2 and 0.3$\\mu$m, while HAT-P-41b's spectrum is flat. The features could be explained by SiO absorption. |"
      ],
      "text/plain": [
       "[arXiv:2302.08962] The Hubble PanCET program: The near-ultraviolet transmission spectrum of  WASP-79b\n",
       "\tA. Gressier, et al. -- incl., <mark>G.W. Henry</mark>, <mark>T. Mikal-Evans</mark>"
      ]
     },
     "metadata": {},
     "output_type": "display_data"
    },
    {
     "data": {
      "text/markdown": [
       "## Failed papers"
      ],
      "text/plain": [
       "<IPython.core.display.Markdown object>"
      ]
     },
     "metadata": {},
     "output_type": "display_data"
    },
    {
     "data": {
      "text/markdown": [
       "\n",
       "|||\n",
       "|---:|:---|\n",
       "| [![arXiv](https://img.shields.io/badge/arXiv-arXiv:2302.08536-b31b1b.svg)](https://arxiv.org/abs/arXiv:2302.08536) | **Early Evolution and 3D Structure of Embedded Star Clusters**  |\n",
       "|| Claude Cournoyer-Cloutier, et al. -- incl., <mark>William E. Harris</mark>, <mark>Sean C. Lewis</mark> |\n",
       "|*Appeared on*| *2023-02-20*|\n",
       "|*Comments*| *15 pages, 10 figures, to be published in MNRAS*|\n",
       "|**Abstract**| We perform simulations of star cluster formation to investigate the morphological evolution of embedded star clusters in the earliest stages of their evolution. We conduct our simulations with Torch, which uses the AMUSE framework to couple state-of-the-art stellar dynamics to star formation, radiation, stellar winds, and hydrodynamics in FLASH. We simulate a suite of $10^4$ M$_{\\odot}$ clouds at 0.0683 pc resolution for $\\sim$ 2 Myr after the onset of star formation, with virial parameters $\\alpha$ = 0.8, 2.0, 4.0 and different random samplings of the stellar initial mass function and prescriptions for primordial binaries. Our simulations result in a population of embedded clusters with realistic morphologies (sizes, densities, and ellipticities) that reproduce the known trend of clouds with higher initial $\\alpha$ having lower star formation efficiencies. Our key results are as follows: (1) Cluster mass growth is not monotonic, and clusters can lose up to half of their mass while they are embedded. (2) Cluster morphology is not correlated with cluster mass and changes over $\\sim$ 0.01 Myr timescales. (3) The morphology of an embedded cluster is not indicative of its long-term evolution but only of its recent history: radius and ellipticity increase sharply when a cluster accretes stars. (4) The dynamical evolution of very young embedded clusters with masses $\\lesssim$ 1000 M$_{\\odot}$ is dominated by the overall gravitational potential of the star-forming region rather than by internal dynamical processes such as two- or few-body relaxation. |\n",
       "|<p style=\"color:green\"> **ERROR** </p>| <p style=\"color:green\">affiliation error: mpia.affiliation_verifications: '69117' keyword not found.</p> |"
      ],
      "text/plain": [
       "<IPython.core.display.Markdown object>"
      ]
     },
     "metadata": {},
     "output_type": "display_data"
    },
    {
     "data": {
      "text/markdown": [
       "\n",
       "|||\n",
       "|---:|:---|\n",
       "| [![arXiv](https://img.shields.io/badge/arXiv-arXiv:2302.08523-b31b1b.svg)](https://arxiv.org/abs/arXiv:2302.08523) | **Cosmic Variance and the Inhomogeneous UV Luminosity Function of Galaxies  During Reionization**  |\n",
       "|| Taha Dawoodbhoy, et al. -- incl., <mark>Joseph S. W. Lewis</mark> |\n",
       "|*Appeared on*| *2023-02-20*|\n",
       "|*Comments*| *12 pages, 12 figures, submitted to MNRAS, comments welcome*|\n",
       "|**Abstract**| When the first galaxies formed and starlight escaped into the intergalactic medium to reionize it, galaxy formation and reionization were both highly inhomogeneous in time and space, and fully-coupled by mutual feedback. To show how this imprinted the UV luminosity function (UVLF) of reionization-era galaxies, we use our large-scale, radiation-hydrodynamics simulation CoDa II to derive the time- and space-varying halo mass function and UVLF, from $z\\simeq6$-15. That UVLF correlates strongly with local reionization redshift: earlier-reionizing regions have UVLFs that are higher, more extended to brighter magnitudes, and flatter at the faint end than later-reionizing regions observed at the same $z$. In general, as a region reionizes, the faint-end slope of its local UVLF flattens, and, by $z=6$ (when reionization ended), the global UVLF, too, exhibits a flattened faint-end slope, `rolling-over' at $M_\\text{UV}\\gtrsim-17$. CoDa II's UVLF is broadly consistent with cluster-lensed galaxy observations of the Hubble Frontier Fields at $z=6$-8, including the faint end, except for the faintest data point at $z=6$, based on one galaxy at $M_\\text{UV}=-12.5$. According to CoDa II, the probability of observing the latter is $\\sim5\\%$. However, the effective volume searched at this magnitude is very small, and is thus subject to significant cosmic variance. We find that previous methods adopted to calculate the uncertainty due to cosmic variance underestimated it on such small scales by a factor of 2-3.5, primarily by underestimating the variance in halo abundance when the sample volume is small. |\n",
       "|<p style=\"color:green\"> **ERROR** </p>| <p style=\"color:green\">affiliation error: mpia.affiliation_verifications: 'Heidelberg' keyword not found.</p> |"
      ],
      "text/plain": [
       "<IPython.core.display.Markdown object>"
      ]
     },
     "metadata": {},
     "output_type": "display_data"
    },
    {
     "data": {
      "text/markdown": [
       "\n",
       "|||\n",
       "|---:|:---|\n",
       "| [![arXiv](https://img.shields.io/badge/arXiv-arXiv:2302.08532-b31b1b.svg)](https://arxiv.org/abs/arXiv:2302.08532) | **Revising Properties of Planet-Host Binary Systems. III. There is No  Observed Radius Gap For Kepler Planets in Binary Star Systems**  |\n",
       "|| Kendall Sullivan, et al. -- incl., <mark>Daniel Huber</mark>, <mark>Jingwen Zhang</mark> |\n",
       "|*Appeared on*| *2023-02-20*|\n",
       "|*Comments*| *18 pages, 6 figures, 4 tables, with full-length tables available in the supplemental files. Accepted to AJ*|\n",
       "|**Abstract**| Binary stars are ubiquitous; the majority of solar-type stars exist in binaries. Exoplanet occurrence rate is suppressed in binaries, but some multiples do still host planets. Binaries cause observational biases in planet parameters, with undetected multiplicity causing transiting planets to appear smaller than they truly are. We have analyzed the properties of a sample of 119 planet-host binary stars from the Kepler mission to study the underlying population of planets in binaries that fall in and around the radius valley, which is a demographic feature in period-radius space that marks the transition from predominantly rocky to predominantly gaseous planets. We found no statistically significant evidence for a radius gap for our sample of 122 planets in binaries when assuming the primary stars are the planet hosts, with a low probability ($p < 0.05$) of the binary planet sample radius distribution being consistent with the single-star small planet population via an Anderson-Darling test. These results reveal demographic differences in the planet size distribution between planets in binary and single stars for the first time, showing that stellar multiplicity may fundamentally alter the planet formation process. A larger sample and further assessment of circumprimary versus circumsecondary transits is needed to either validate this non-detection or explore other scenarios, such as a radius gap with a location that is dependent on binary separation. |\n",
       "|<p style=\"color:green\"> **ERROR** </p>| <p style=\"color:green\">affiliation error: mpia.affiliation_verifications: 'Heidelberg' keyword not found.</p> |"
      ],
      "text/plain": [
       "<IPython.core.display.Markdown object>"
      ]
     },
     "metadata": {},
     "output_type": "display_data"
    },
    {
     "data": {
      "text/markdown": [
       "\n",
       "|||\n",
       "|---:|:---|\n",
       "| [![arXiv](https://img.shields.io/badge/arXiv-arXiv:2302.08596-b31b1b.svg)](https://arxiv.org/abs/arXiv:2302.08596) | **High-fidelity reaction kinetic modeling of hot-Jupiter atmospheres  incorporating thermal and UV photochemistry enhanced by metastable CO(a3Pi)**  |\n",
       "|| Jeehyun Yang, Murthy S. Gudipati, <mark>Bryana L Henderson</mark>, Benjamin Fleury |\n",
       "|*Appeared on*| *2023-02-20*|\n",
       "|*Comments*| *58 pages, 17 figures, 4 tables, Manuscript accepted for publication in Astrophysical Journal*|\n",
       "|**Abstract**| A detailed modeling of simultaneous UV-photochemical and thermochemical processes in exoplanet atmosphere-like conditions is essential for the analysis and interpretation of a vast amount of current and future spectral data from exoplanets. However, a detailed reaction kinetic model that incorporates both UV photochemistry and thermal chemistry is challenging due to the massive size of the chemical system as well as to the lack of understanding of photochemistry compared to thermal-only chemistry. Here, we utilize an automatic chemical reaction mechanism generator to build a high-fidelity thermochemical reaction kinetic model later then incorporated with UV-photochemistry enhanced by metastable triplet-state carbon monoxide (a3Pi). Our model results show that two different photochemical reactions driven by Lyman-a photons (i.e. H2 + CO(a3Pi) -> H + HCO and CO(X1Sig+) + CO(a3Pi) -> C(3P) + CO2) can enhance thermal chemistry resulting in significant increases in the formation of CH4, H2O, and CO2 in H2-dominated systems with trace amounts of CO, which qualitatively matches with the observations from previous experimental studies. Our model also suggests that at temperatures above 2000 K, thermal chemistry becomes the dominant process. Finally, the chemistry simulated up to 2500 K does not produce any larger species such as C3 species, benzene or larger (i.e. PAHs). This might indicate that the photochemistry of C2 species such as C2H2 might play a key role in the formation of organic aerosols observed in the previous experimental study. |\n",
       "|<p style=\"color:green\"> **ERROR** </p>| <p style=\"color:green\">affiliation error: mpia.affiliation_verifications: 'Heidelberg' keyword not found.</p> |"
      ],
      "text/plain": [
       "<IPython.core.display.Markdown object>"
      ]
     },
     "metadata": {},
     "output_type": "display_data"
    },
    {
     "data": {
      "text/markdown": [
       "\n",
       "|||\n",
       "|---:|:---|\n",
       "| [![arXiv](https://img.shields.io/badge/arXiv-arXiv:2302.08634-b31b1b.svg)](https://arxiv.org/abs/arXiv:2302.08634) | **Systematic research of low redshift optically selected SDSS Type-2 AGN  but with apparent long-term optical variabilities from Catalina Sky Survey,  I: data sample and basic results**  |\n",
       "|| <mark>Zhang XueGuang</mark> |\n",
       "|*Appeared on*| *2023-02-20*|\n",
       "|*Comments*| *30 pages, 12 figures, 2 tables, accepted to be published in ApJS*|\n",
       "|**Abstract**| The main objective of the paper, the first paper in a dedicated series, is to report basic results on systematic research of low-redshift optically selected SDSS Type-2 AGN but with apparent optical variabilities. For all the pipeline classified Type-2 AGN in SDSS DR16 with $z<0.3$ and $SN>10$, long-term optical V-band light curves are collected from Catalina Sky Survey. Through all light curves described by Damped Random Walk process with process parameters of $\\sigma/(mag/days^{0.5})$ and $\\tau/days$, 156 Type-2 AGN have apparent variabilities with process parameters at least three times larger than corresponding uncertainties and with $\\ln(\\sigma/(mag/days^{0.5}))>-4$, indicating central AGN activity regions directly in line-of-sight, leading the 156 Type-2 AGN as mis-classified Type-2 AGN. Furthermore, based on spectroscopic emission features around H$\\alpha$, 31 out of the 156 AGN have broad H$\\alpha$, indicating the 31 Type-2 AGN are actually Type-1.8/1.9 AGN. Meanwhile, 14 out of the 156 AGN have multi-epoch SDSS spectra. After checking multi-epoch spectra of the 14 objects, no clues for appearance/disappearance of broad lines indicate true Type-2 AGN rather than changing-look AGN are preferred in the collected Type-2 AGN with long-term variabilities. Moreover, a small sample of Type-2 AGN have long-term variabilities with features roughly described by theoretical TDEs expected $t^{-5/3}$, indicating probable central TDEs as further and strong evidence to support true Type-2 AGN. |\n",
       "|<p style=\"color:green\"> **ERROR** </p>| <p style=\"color:green\">affiliation error: mpia.affiliation_verifications: 'Heidelberg' keyword not found.</p> |"
      ],
      "text/plain": [
       "<IPython.core.display.Markdown object>"
      ]
     },
     "metadata": {},
     "output_type": "display_data"
    },
    {
     "data": {
      "text/markdown": [
       "\n",
       "|||\n",
       "|---:|:---|\n",
       "| [![arXiv](https://img.shields.io/badge/arXiv-arXiv:2302.08776-b31b1b.svg)](https://arxiv.org/abs/arXiv:2302.08776) | **A comparison of millisecond pulsar populations between globular clusters  and the Galactic field**  |\n",
       "|| <mark>Jongsu Lee</mark>, et al. -- incl., <mark>Kwan-Lok Li</mark> |\n",
       "|*Appeared on*| *2023-02-20*|\n",
       "|*Comments*| *33 pages, 13 figures, 10 tables, Accepted for publication in ApJ*|\n",
       "|**Abstract**| We have performed a systematic study of the rotational, orbital and X-ray properties of millisecond pulsars (MSPs) in globular clusters (GCs) and compared their nature with those of the MSPs in the Galactic field (GF). We found that GC MSPs generally rotate slower than their counterparts in the GF. Different from the expectation of a simple recycling scenario, no evidence for the correlation between the orbital period and the rotation period can be found from the MSP binaries in GCs. There is also an indication that the surface magnetic field of GC MSPs are stronger than those in the GF. All these suggest dynamical interactions in GCs can alter the evolution of MSPs/their progenitors which can leave an imprint on their X-ray emission properties. While the MSPs in both GF and GCs have similar distributions of X-ray luminosity and hardness, our sample supports the notion that these two populations follow different relation between the X-ray luminosity and spin-down power. We discuss this in terms of both pulsar emission model and the observational bias. |\n",
       "|<p style=\"color:green\"> **ERROR** </p>| <p style=\"color:green\">affiliation error: mpia.affiliation_verifications: 'Heidelberg' keyword not found.</p> |"
      ],
      "text/plain": [
       "<IPython.core.display.Markdown object>"
      ]
     },
     "metadata": {},
     "output_type": "display_data"
    },
    {
     "data": {
      "text/markdown": [
       "\n",
       "|||\n",
       "|---:|:---|\n",
       "| [![arXiv](https://img.shields.io/badge/arXiv-arXiv:2302.08784-b31b1b.svg)](https://arxiv.org/abs/arXiv:2302.08784) | **Search for Ultraheavy Dark Matter from Observations of Dwarf Spheroidal  Galaxies with VERITAS**  |\n",
       "|| VERITAS collaboration, et al. -- incl., <mark>O. Hervet</mark>, <mark>T. K. Kleiner</mark>, <mark>M. J. Lang</mark> |\n",
       "|*Appeared on*| *2023-02-20*|\n",
       "|*Comments*| *10 pages, 7 figures*|\n",
       "|**Abstract**| Dark matter is a key piece of the current cosmological scenario, with weakly interacting massive particles (WIMPs) a leading dark matter candidate. WIMPs have not been detected in their conventional parameter space (100 GeV $\\lesssim M_{\\chi} \\lesssim$ 100 TeV), a mass range accessible with current Imaging Atmospheric Cherenkov Telescopes. As ultraheavy dark matter (UHDM; $M_{\\chi} \\gtrsim$ 100 TeV) has been suggested as an under-explored alternative to the WIMP paradigm, we search for an indirect dark matter annihilation signal in a higher mass range (up to 30 PeV) with the VERITAS gamma-ray observatory. With 216 hours of observations of four dwarf spheroidal galaxies, we perform an unbinned likelihood analysis. We find no evidence of a $\\gamma$-ray signal from UHDM annihilation above the background fluctuation for any individual dwarf galaxy nor for a joint-fit analysis, and consequently constrain the velocity-weighted annihilation cross section of UHDM for dark matter particle masses between 1 TeV and 30 PeV. We additionally set constraints on the allowed radius of a composite UHDM particle. |\n",
       "|<p style=\"color:green\"> **ERROR** </p>| <p style=\"color:green\">affiliation error: mpia.affiliation_verifications: 'Heidelberg' keyword not found.</p> |"
      ],
      "text/plain": [
       "<IPython.core.display.Markdown object>"
      ]
     },
     "metadata": {},
     "output_type": "display_data"
    },
    {
     "data": {
      "text/markdown": [
       "\n",
       "|||\n",
       "|---:|:---|\n",
       "| [![arXiv](https://img.shields.io/badge/arXiv-arXiv:2302.08814-b31b1b.svg)](https://arxiv.org/abs/arXiv:2302.08814) | **Measuring mass transfer of AM CVn binaries with a space-based  gravitational wave detector**  |\n",
       "|| Zijian Wang, Zhoujian Cao, <mark>Xian-Fei Zhang</mark> |\n",
       "|*Appeared on*| *2023-02-20*|\n",
       "|*Comments*| **|\n",
       "|**Abstract**| The formation mechanism of AM CVn binary has not been well understood yet. Accurate measurements of the mass transfer rate can help to determine the formation mechanism. But unfortunately such observation by electromagnetic means is quite challenging. One possible formation channel of AM CVn binary is a semi-detached white dwarf binary. Such system emits strong gravitational wave radiation which could be measured by the future space-based detectors. We can simultaneously extract the mass transfer rate and the orbital period from the gravitational wave signal. We employ a post-Keperian waveform model of gravitational wave and carry out a Fisher analysis to estimate the measurement accuracy of mass transfer rate through gravitational wave detection. Special attention is paid to the observed sources in Gaia Data Release 2. We found that we can accurately measure the mass transfer rate for those systems. Comparing to electromagnetic observations, gravitational wave detection improves the accuracy more than one order. Our results imply that the gravitational wave detection will help much in understanding the formation mechanism of AM CVn binaries. |\n",
       "|<p style=\"color:green\"> **ERROR** </p>| <p style=\"color:green\">affiliation error: mpia.affiliation_verifications: 'Heidelberg' keyword not found.</p> |"
      ],
      "text/plain": [
       "<IPython.core.display.Markdown object>"
      ]
     },
     "metadata": {},
     "output_type": "display_data"
    },
    {
     "data": {
      "text/markdown": [
       "\n",
       "|||\n",
       "|---:|:---|\n",
       "| [![arXiv](https://img.shields.io/badge/arXiv-arXiv:2302.08848-b31b1b.svg)](https://arxiv.org/abs/arXiv:2302.08848) | **Relativistic coronal mass ejections from magnetars**  |\n",
       "|| <mark>Praveen Sharma</mark>, Maxim Barkov, Maxim Lyutikov |\n",
       "|*Appeared on*| *2023-02-20*|\n",
       "|*Comments*| **|\n",
       "|**Abstract**| We study dynamics of relativistic Coronal Mass Ejections (CMEs), from launching by shearing of foot-points (either slowly - the ``Solar flare'' paradigm, or suddenly - the ``star quake\" paradigm), to propagation in the preceding magnetar wind. For slow shear, most of the energy injected into the CME is first spent on the work done on breaking through the over-laying magnetic field. At later stages, sufficiently powerful CMEs may experience ``detonation\" and lead to opening of the magnetosphere beyond some equipartition radius $r_{eq}$, where the energy of the CME becomes larger than the decreasing external magnetospheric energy. Post-CME magnetosphere relaxes via formation of a plasmoid-mediated current sheet, initially at $\\sim r_{eq}$ and slowly reaching the light cylinder (this transient stage has much higher spindown rate and may produce an ``anti-glitch''). Both the location of the foot-point shear and the global magnetospheric configuration affect the frequent-and-weak versus rare-and-powerful CME dichotomy - to produce powerful flares the slow shear should be limited to field lines that close near the star. After the creation of a topologically disconnected flux tube, the tube quickly (at $\\sim$ the light cylinder) comes into force-balance with the preceding wind, and is passively advected/frozen in the wind afterward. For fast shear (a local rotational glitch), the resulting large amplitude Alfven waves lead to opening of the magnetosphere (which later recovers similarly to the slow shear case). At distances much larger than the light cylinder, the resulting shear Alfven waves propagate through the wind non-dissipatively. Implications to Fast Radio Bursts are discussed. |\n",
       "|<p style=\"color:green\"> **ERROR** </p>| <p style=\"color:green\">affiliation error: mpia.affiliation_verifications: 'Heidelberg' keyword not found.</p> |"
      ],
      "text/plain": [
       "<IPython.core.display.Markdown object>"
      ]
     },
     "metadata": {},
     "output_type": "display_data"
    },
    {
     "data": {
      "text/markdown": [
       "\n",
       "|||\n",
       "|---:|:---|\n",
       "| [![arXiv](https://img.shields.io/badge/arXiv-arXiv:2302.08863-b31b1b.svg)](https://arxiv.org/abs/arXiv:2302.08863) | **Near-Ultraviolet Absorption Distribution of Primitive Asteroids from  Spectrophotometric Surveys**  |\n",
       "|| Eri Tatsumi, et al. -- incl., <mark>Javier Licandro</mark> |\n",
       "|*Appeared on*| *2023-02-20*|\n",
       "|*Comments*| *15 pages, 12 figures, accepted publication for Astronomy and Astrophysics*|\n",
       "|**Abstract**| Aims: Our objectives were first to evaluate the possibility for using the NUV absorption as diagnostics of hydrated minerals based on the recent datasets of primitive asteroids and hydrated carbonaceous chondrites, and second to investigate the reflectance spectrophotometry of the primitive asteroids in the NUV as functions of heliocentric distance and size. Methods: The NUV and visible reflectance spectrophotometry of more than 9,000 primitive asteroids was investigated using two spectrophotometric surveys, the Eight Color Asteroid Survey (ECAS) and the Sloan Digital Sky Survey (SDSS), which cover wavelengths down to 0.32 um and 0.36 um, respectively. We classified asteroids from the main asteroid belt, the Cybele and Hilda zones, and Jupiter Trojans based on Tholen's taxonomy and described the statistical distribution of primitive asteroid types. We also examined the relationship of the NUV, 0.7 um, and 2.7 um absorptions among primitive asteroids and hydrous carbonaceous chondrites CI and CM. Results: We found strong correlations between the NUV and the OH-band (2.7 um) absorptions for primitive asteroids and hydrated meteorites, suggesting the NUV absorption can be indicative of hydrated silicates. Moreover, there is a great difference in the NUV absorption between the large asteroids (diameter d > 50 km) and small asteroids (d < 10 km) in the taxonomic distribution. The taxonomic distribution of asteroids differs between the inner main belt and middle-outer main belt. Notably, the C types are dominating large members through the main belt and the F types are dominating small asteroids of the inner main belt. The asteroids beyond the main belt consist mostly of P and D types, although P types are common everywhere in the main belt. The peculiar distribution of F types might indicate a different formation reservoir or displacement process of F types in the early Solar System. |\n",
       "|<p style=\"color:green\"> **ERROR** </p>| <p style=\"color:green\">affiliation error: mpia.affiliation_verifications: 'Heidelberg' keyword not found.</p> |"
      ],
      "text/plain": [
       "<IPython.core.display.Markdown object>"
      ]
     },
     "metadata": {},
     "output_type": "display_data"
    },
    {
     "data": {
      "text/markdown": [
       "\n",
       "|||\n",
       "|---:|:---|\n",
       "| [![arXiv](https://img.shields.io/badge/arXiv-arXiv:2302.08889-b31b1b.svg)](https://arxiv.org/abs/arXiv:2302.08889) | **Model-independent measurement of cosmic curvature with the latest $H(z)$  and SNe Ia data: A comprehensive investigation**  |\n",
       "|| <mark>Jing-Zhao Qi</mark>, Ping Meng, <mark>Jing-Fei Zhang</mark>, <mark>Xin Zhang</mark> |\n",
       "|*Appeared on*| *2023-02-20*|\n",
       "|*Comments*| *9 pages, 3 figures*|\n",
       "|**Abstract**| In the context of the discrepancies between the early and late universe, we emphasize the importance of independent measurements of the cosmic curvature in the late universe. We present an investigation of the model-independent measurement of the cosmic curvature parameter $\\Omega_k$ in the late universe with the latest Hubble parameter $H(z)$ measurements and type Ia supernovae (SNe Ia) data. For that, we use two reconstruction methods, the Gaussian process (GP) and artificial neural network (ANN) methods, to achieve the distance construction from $H(z)$ data. In the results obtained by different combinations of observations and reconstruction methods, the tightest constraint on the cosmic curvature is $\\Omega_k=-0.03\\pm0.11$, in good agreement with zero curvature. This result is the most precise constraint on the cosmic curvature obtained among the recent related estimations. Our findings suggest that the observational data of the late universe support a flat universe. |\n",
       "|<p style=\"color:green\"> **ERROR** </p>| <p style=\"color:green\">affiliation error: mpia.affiliation_verifications: 'Heidelberg' keyword not found.</p> |"
      ],
      "text/plain": [
       "<IPython.core.display.Markdown object>"
      ]
     },
     "metadata": {},
     "output_type": "display_data"
    },
    {
     "data": {
      "text/markdown": [
       "\n",
       "|||\n",
       "|---:|:---|\n",
       "| [![arXiv](https://img.shields.io/badge/arXiv-arXiv:2302.08926-b31b1b.svg)](https://arxiv.org/abs/arXiv:2302.08926) | **LISC Catalog of Open Clusters.III. 83 Newly found Galactic disk open  clusters using Gaia EDR3**  |\n",
       "|| Huanbin Chi, Feng Wang, <mark>Zhongmu Li</mark> |\n",
       "|*Appeared on*| *2023-02-20*|\n",
       "|*Comments*| *15 pages, 6 figures, Accepted by RAA*|\n",
       "|**Abstract**| As groups of coeval stars born from the same molecular cloud, an Open cluster (OC) is an ideal laboratory for studying the structure and dynamical evolution of the Milky Way. The release of High-Precision Gaia Early Data Release 3 (Gaia EDR3) and modern machine-learning methods offer unprecedented opportunities to identify OCs. In this study, we extended conventional HDBSCAN (e-HDBSCAN) for searching for new OCs in Gaia EDR3. A pipeline was developed based on the parallel computing technique to blindly search for open clusters from Gaia EDR3 within Galactic latitudes $\\left| b \\right|$ $<$25 $^\\circ$. As a result, we obtained 3787 star clusters, of which 83 new OCs were reported after cross-match and visual inspection. At the same time, the main star cluster parameters are estimated by colour-magnitude diagram fitting. The study significantly increases the sample size and physical parameters of open clusters in the catalogue of OCs. It shows the incompleteness of the census of OCs across our Galaxy. |\n",
       "|<p style=\"color:green\"> **ERROR** </p>| <p style=\"color:green\">affiliation error: mpia.affiliation_verifications: 'Heidelberg' keyword not found.</p> |"
      ],
      "text/plain": [
       "<IPython.core.display.Markdown object>"
      ]
     },
     "metadata": {},
     "output_type": "display_data"
    },
    {
     "data": {
      "text/markdown": [
       "\n",
       "|||\n",
       "|---:|:---|\n",
       "| [![arXiv](https://img.shields.io/badge/arXiv-arXiv:2302.08960-b31b1b.svg)](https://arxiv.org/abs/arXiv:2302.08960) | **A z=1.85 galaxy group in CEERS: evolved, dustless, massive Intra-Halo  Light and a Brightest Group Galaxy in the making**  |\n",
       "|| Rosemary T. Coogan, et al. -- incl., <mark>Steven L. Finkelstein</mark> |\n",
       "|*Appeared on*| *2023-02-20*|\n",
       "|*Comments*| *14 pages + appendix, 11 figures, 4 tables, submitted to A&A*|\n",
       "|**Abstract**| We present CEERS JWST/NIRCam imaging of a massive galaxy group at z=1.85, to explore the early JWST view on massive group formation in the distant Universe. The group contains >16 members (including 6 spectros. confirmations) down to log10(Mstar/Msun)=8.5, including the Brightest Group Galaxy (BGG) in the process of actively assembling at this redshift. The BGG is comprised of multiple merging components extending ~3.6\" (30kpc) across the sky. The BGG contributes 69% of the group's total galactic stellar mass, with one of the merging components containing 76% of the total mass of the BGG and a SFR>1810Msun/yr. Most importantly, we detect intra-halo light (IHL) in several HST and JWST/NIRCam bands, allowing us to construct a state-of-the-art rest-frame UV-NIR Spectral Energy Distribution of the IHL for the first time at this high redshift. This allows stellar population characterisation of both the IHL and member galaxies, as well as the morphology distribution of group galaxies vs. their star-formation activity when coupled with Herschel data. We create a stacked image of the IHL, giving us a sensitivity to extended emission of 28.5 mag/arcsec2 at rest-frame 1um. We find that the IHL is extremely dust poor (Av~0), containing an evolved stellar population of log10(t50/yr)=8.8, corresponding to a formation epoch for 50% of the stellar material 0.63Gyr before z=1.85. There is no evidence of ongoing star-formation in the IHL. The IHL in this group at z=1.85 contributes ~10% of the total stellar mass, comparable with what is observed in local clusters. This suggests that the evolution of the IHL fraction is more self-similar with redshift than predicted by some models, challenging our understanding of IHL formation during the assembly of high-redshift clusters. JWST is unveiling a new side of group formation at this redshift, which will evolve into Virgo-like structures in the local Universe. |\n",
       "|<p style=\"color:green\"> **ERROR** </p>| <p style=\"color:green\">affiliation error: mpia.affiliation_verifications: 'Heidelberg' keyword not found.</p> |"
      ],
      "text/plain": [
       "<IPython.core.display.Markdown object>"
      ]
     },
     "metadata": {},
     "output_type": "display_data"
    },
    {
     "data": {
      "text/markdown": [
       "\n",
       "|||\n",
       "|---:|:---|\n",
       "| [![arXiv](https://img.shields.io/badge/arXiv-arXiv:2302.09032-b31b1b.svg)](https://arxiv.org/abs/arXiv:2302.09032) | **The Ups and Downs of Early Dark Energy solutions to the Hubble tension:  a review of models, hints and constraints circa 2023**  |\n",
       "|| Vivian Poulin, <mark>Tristan L. Smith</mark>, Tanvi Karwal |\n",
       "|*Appeared on*| *2023-02-20*|\n",
       "|*Comments*| *46 + 3 pages, 28 + 3 figures. Submitted as an invited review to Physics of the Dark Universe. Comments welcome!*|\n",
       "|**Abstract**| We review the current status of Early Dark Energy (EDE) models proposed to resolve the ``Hubble tension'', the discrepancy between ``direct'' measurements of the current expansion rate of the Universe and ``indirect measurements'' for which the values inferred rely on the $\\Lambda$CDM cosmological model calibrated on early-universe data. EDE refers to a new form of dark energy active at early times (typically a scalar-field), that quickly dilutes away at a redshift close to matter-radiation equality. The role of EDE is to decrease the sound horizon by briefly contributing to the Hubble rate in the pre-recombination era. We summarize the results of several analyses of EDE models suggested thus far in light of recent cosmological data, including constraints from the canonical {\\it Planck} data, baryonic acoustic oscillations and Type Ia supernovae, and the more recent hints driven by cosmic microwave background observations using the Atacama Cosmology Telescope. We also discuss potential challenges to EDE models, from theoretical ones (a second ``cosmic coincidence'' problem in particular) to observational ones, related to the amplitude of clustering on scales of $8h$/Mpc as measured by weak-lensing observables (the so-called $S_8$ tension) and the galaxy power spectrum from BOSS analyzed through the effective field theory of large-scale structure. We end by reviewing recent attempts at addressing these shortcomings of the EDE proposal. While current data remain inconclusive on the existence of an EDE phase, we stress that given the signatures of EDE models imprinted in the CMB and matter power spectra, next-generation experiments can firmly establish whether EDE is the mechanism responsible for the Hubble tension and distinguish between the various models suggested in the literature. |\n",
       "|<p style=\"color:green\"> **ERROR** </p>| <p style=\"color:green\">affiliation error: mpia.affiliation_verifications: 'Heidelberg' keyword not found.</p> |"
      ],
      "text/plain": [
       "<IPython.core.display.Markdown object>"
      ]
     },
     "metadata": {},
     "output_type": "display_data"
    },
    {
     "data": {
      "text/markdown": [
       "\n",
       "|||\n",
       "|---:|:---|\n",
       "| [![arXiv](https://img.shields.io/badge/arXiv-arXiv:2302.08657-b31b1b.svg)](https://arxiv.org/abs/arXiv:2302.08657) | **Late Accretion of Ceres-like Asteroids and Their Implantation into the  Outer Main Belt**  |\n",
       "|| Driss Takir, et al. -- incl., <mark>Wladimir Neumann</mark> |\n",
       "|*Appeared on*| *2023-02-20*|\n",
       "|*Comments*| **|\n",
       "|**Abstract**| Low-albedo asteroids preserve a record of the primordial solar system planetesimals and the conditions in which the solar nebula was active. However, the origin and evolution of these asteroids are not well-constrained. Here we measured visible and near-infrared (0.5 - 4.0 microns) spectra of low-albedo asteroids in the mid-outer main belt. We show that numerous large (d > 100 km) and dark (geometric albedo < 0.09) asteroids exterior to the dwarf planet Ceres' orbit share the same spectral features, and presumably compositions, as Ceres. We also developed a thermal evolution model that demonstrates that these Ceres-like asteroids have highly-porous interiors, accreted relatively late at 1.5 - 3.5 Myr after the formation of calcium-aluminum-rich inclusions, and experienced maximum interior temperatures of < 900 K. Ceres-like asteroids are localized in a confined heliocentric region between 3.0 - 3.4 au but were likely implanted from more distant regions of the solar system during the giant planet's dynamical instability. |\n",
       "|<p style=\"color:red\"> **ERROR** </p>| <p style=\"color:red\">latex error not a gzip file</p> |"
      ],
      "text/plain": [
       "<IPython.core.display.Markdown object>"
      ]
     },
     "metadata": {},
     "output_type": "display_data"
    }
   ],
   "source": [
    "import datetime\n",
    "today = str(datetime.date.today())\n",
    "logfile = f\"_build/html/logs/log-{today}.md\"\n",
    "\n",
    "\n",
    "with open(logfile, 'w') as logs:\n",
    "    # Success\n",
    "    logs.write(f'# Arxiv on Deck 2: Logs - {today}\\n\\n')\n",
    "    logs.write(\"\"\"* Arxiv had {0:,d} new papers\\n\"\"\".format(len(new_papers)))\n",
    "    logs.write(\"\"\"    * {0:,d} with possible author matches\\n\\n\"\"\".format(len(candidates)))\n",
    "    logs.write(\"## Sucessful papers\\n\\n\")\n",
    "    display(Markdown(\"## Successful papers\"))\n",
    "    success = [k[0] for k in documents]\n",
    "    for candid in candidates:\n",
    "        if candid['identifier'].split(':')[-1] in success:\n",
    "            display(candid)\n",
    "            logs.write(candid.generate_markdown_text() + '\\n\\n')\n",
    "\n",
    "    ## failed\n",
    "    logs.write(\"## Failed papers\\n\\n\")\n",
    "    display(Markdown(\"## Failed papers\"))\n",
    "    failed = sorted(failed, key=lambda x: x[1])\n",
    "    current_reason = \"\"\n",
    "    for paper, reason in failed:\n",
    "        if 'affiliation' in reason:\n",
    "            color = 'green'\n",
    "        else:\n",
    "            color = 'red'\n",
    "        data = Markdown(\n",
    "                paper.generate_markdown_text() + \n",
    "                f'\\n|<p style=\"color:{color:s}\"> **ERROR** </p>| <p style=\"color:{color:s}\">{reason:s}</p> |'\n",
    "               )\n",
    "        if reason != current_reason:\n",
    "            logs.write(f'### {reason:s} \\n\\n')\n",
    "            current_reason = reason\n",
    "        logs.write(data.data + '\\n\\n')\n",
    "        \n",
    "        # only display here the important errors (all in logs)\n",
    "        # if color in ('red',):\n",
    "        display(data)"
   ]
  },
  {
   "cell_type": "markdown",
   "id": "472d20ee",
   "metadata": {
    "papermill": {
     "duration": 0.008942,
     "end_time": "2023-02-20T12:59:39.498240",
     "exception": false,
     "start_time": "2023-02-20T12:59:39.489298",
     "status": "completed"
    },
    "tags": []
   },
   "source": [
    "## Export documents\n",
    "\n",
    "We now write the .md files and export relevant images"
   ]
  },
  {
   "cell_type": "code",
   "execution_count": 7,
   "id": "d426aed9",
   "metadata": {
    "execution": {
     "iopub.execute_input": "2023-02-20T12:59:39.517888Z",
     "iopub.status.busy": "2023-02-20T12:59:39.517184Z",
     "iopub.status.idle": "2023-02-20T12:59:39.524582Z",
     "shell.execute_reply": "2023-02-20T12:59:39.523926Z"
    },
    "papermill": {
     "duration": 0.019027,
     "end_time": "2023-02-20T12:59:39.526227",
     "exception": false,
     "start_time": "2023-02-20T12:59:39.507200",
     "status": "completed"
    },
    "tags": []
   },
   "outputs": [],
   "source": [
    "def export_markdown_summary(md: str, md_fname:str, directory: str):\n",
    "    \"\"\"Export MD document and associated relevant images\"\"\"\n",
    "    import os\n",
    "    import shutil\n",
    "    import re\n",
    "\n",
    "    if (os.path.exists(directory) and not os.path.isdir(directory)):\n",
    "        raise RuntimeError(f\"a non-directory file exists with name {directory:s}\")\n",
    "\n",
    "    if (not os.path.exists(directory)):\n",
    "        print(f\"creating directory {directory:s}\")\n",
    "        os.mkdir(directory)\n",
    "\n",
    "    fig_fnames = (re.compile(r'\\[Fig.*\\]\\((.*)\\)').findall(md) + \n",
    "                  re.compile(r'\\<img src=\"([^>\\s]*)\"[^>]*/>').findall(md))\n",
    "    for fname in fig_fnames:\n",
    "        if 'http' in fname:\n",
    "            # No need to copy online figures\n",
    "            continue\n",
    "        destdir = os.path.join(directory, os.path.dirname(fname))\n",
    "        destfname = os.path.join(destdir, os.path.basename(fname))\n",
    "        try:\n",
    "            os.makedirs(destdir)\n",
    "        except FileExistsError:\n",
    "            pass\n",
    "        shutil.copy(fname, destfname)\n",
    "    with open(os.path.join(directory, md_fname), 'w') as fout:\n",
    "        fout.write(md)\n",
    "    print(\"exported in \", os.path.join(directory, md_fname))\n",
    "    [print(\"    + \" + os.path.join(directory,fk)) for fk in fig_fnames]"
   ]
  },
  {
   "cell_type": "code",
   "execution_count": 8,
   "id": "014d04a4",
   "metadata": {
    "execution": {
     "iopub.execute_input": "2023-02-20T12:59:39.546242Z",
     "iopub.status.busy": "2023-02-20T12:59:39.545712Z",
     "iopub.status.idle": "2023-02-20T12:59:39.555178Z",
     "shell.execute_reply": "2023-02-20T12:59:39.554669Z"
    },
    "papermill": {
     "duration": 0.021056,
     "end_time": "2023-02-20T12:59:39.556541",
     "exception": false,
     "start_time": "2023-02-20T12:59:39.535485",
     "status": "completed"
    },
    "tags": []
   },
   "outputs": [
    {
     "name": "stdout",
     "output_type": "stream",
     "text": [
      "exported in  _build/html/2302.08628.md\n",
      "    + _build/html/tmp_2302.08628/./fitting.png\n",
      "    + _build/html/tmp_2302.08628/./bandArea.png\n",
      "    + _build/html/tmp_2302.08628/./arrh.png\n",
      "exported in  _build/html/2302.08736.md\n",
      "    + _build/html/tmp_2302.08736/./SYSREM.png\n",
      "    + _build/html/tmp_2302.08736/./SYSREM-H2O.png\n",
      "    + _build/html/tmp_2302.08736/./spectrum-demo.png\n",
      "exported in  _build/html/2302.08962.md\n",
      "    + _build/html/tmp_2302.08962/./WASP79_wlc.png\n",
      "    + _build/html/tmp_2302.08962/./Fig9a_revised.png\n",
      "    + _build/html/tmp_2302.08962/./Fig9b_revised2.png\n",
      "    + _build/html/tmp_2302.08962/./Fig6_revised.png\n"
     ]
    }
   ],
   "source": [
    "for paper_id, md in documents:\n",
    "    export_markdown_summary(md, f\"{paper_id:s}.md\", '_build/html/')"
   ]
  },
  {
   "cell_type": "markdown",
   "id": "f087a0a7",
   "metadata": {
    "papermill": {
     "duration": 0.0091,
     "end_time": "2023-02-20T12:59:39.574856",
     "exception": false,
     "start_time": "2023-02-20T12:59:39.565756",
     "status": "completed"
    },
    "tags": []
   },
   "source": [
    "## Display the papers\n",
    "\n",
    "Not necessary but allows for a quick check."
   ]
  },
  {
   "cell_type": "code",
   "execution_count": 9,
   "id": "fd25f625",
   "metadata": {
    "execution": {
     "iopub.execute_input": "2023-02-20T12:59:39.594641Z",
     "iopub.status.busy": "2023-02-20T12:59:39.594118Z",
     "iopub.status.idle": "2023-02-20T12:59:39.601780Z",
     "shell.execute_reply": "2023-02-20T12:59:39.601155Z"
    },
    "papermill": {
     "duration": 0.020057,
     "end_time": "2023-02-20T12:59:39.604012",
     "exception": false,
     "start_time": "2023-02-20T12:59:39.583955",
     "status": "completed"
    },
    "scrolled": false,
    "tags": []
   },
   "outputs": [
    {
     "data": {
      "text/markdown": [
       "<div class=\"macros\" style=\"visibility:hidden;\">\n",
       "$\\newcommand{\\ensuremath}{}$\n",
       "$\\newcommand{\\xspace}{}$\n",
       "$\\newcommand{\\object}[1]{\\texttt{#1}}$\n",
       "$\\newcommand{\\farcs}{{.}''}$\n",
       "$\\newcommand{\\farcm}{{.}'}$\n",
       "$\\newcommand{\\arcsec}{''}$\n",
       "$\\newcommand{\\arcmin}{'}$\n",
       "$\\newcommand{\\ion}[2]{#1#2}$\n",
       "$\\newcommand{\\textsc}[1]{\\textrm{#1}}$\n",
       "$\\newcommand{\\hl}[1]{\\textrm{#1}}$\n",
       "$\\newcommand$</div>\n",
       "\n",
       "<div class=\"macros\" style=\"visibility:hidden;\">\n",
       "$\\newcommand{$\\ensuremath$}{}$\n",
       "$\\newcommand{$\\xspace$}{}$\n",
       "$\\newcommand{$\\object$}[1]{\\texttt{#1}}$\n",
       "$\\newcommand{$\\farcs$}{{.}''}$\n",
       "$\\newcommand{$\\farcm$}{{.}'}$\n",
       "$\\newcommand{$\\arcsec$}{''}$\n",
       "$\\newcommand{$\\arcmin$}{'}$\n",
       "$\\newcommand{$\\ion$}[2]{#1#2}$\n",
       "$\\newcommand{$\\textsc$}[1]{\\textrm{#1}}$\n",
       "$\\newcommand{$\\hl$}[1]{\\textrm{#1}}$\n",
       "$\\newcommand$</div>\n",
       "\n",
       "\n",
       "\n",
       "<div id=\"title\">\n",
       "\n",
       "# New measurement of the diffusion of carbon dioxide on non-porous amorphous solid water\n",
       "\n",
       "</div>\n",
       "<div id=\"comments\">\n",
       "\n",
       "[![arXiv](https://img.shields.io/badge/arXiv-2302.08628-b31b1b.svg)](https://arxiv.org/abs/2302.08628)<mark>Appeared on: 2023-02-20</mark> - _13 pages, 6 figures_\n",
       "\n",
       "</div>\n",
       "<div id=\"authors\">\n",
       "\n",
       "<mark><mark>Jiao He</mark></mark>, et al. -- incl., <mark><mark>Tushar Suhasaria</mark></mark>, <mark><mark>Thomas K. Henning</mark></mark>\n",
       "\n",
       "</div>\n",
       "<div id=\"abstract\">\n",
       "\n",
       "**Abstract:** The diffusion of molecules on interstellar grain surfaces is one of the most important driving forces for the molecular complexity in the interstellar medium. Due to the lack of laboratory measurements, astrochemical modeling of grain surface processes usually assumes a constant ratio between the diffusion energy barrier and the desorption energy. This over-simplification inevitably causes large uncertainty in model predictions. We present a new measurement of the diffusion of CO$_2$molecules on the surface of non-porous amorphous solid water (np-ASW), an analog of the ice mantle that covers cosmic dust grains. A small coverage of CO$_2$was deposited onto an np-ASW surface at 40 K, the subsequent warming of the ice activated the diffusion of CO$_2$molecules, and a transition from isolated CO$_2$to CO$_2$clusters was seen in the infrared spectra. To obtain the diffusion energy barrier and pre-exponential factor simultaneously, a set of isothermal experiments were carried out. The values for the diffusion energy barrier and pre-exponential factor were found to be$1300\\pm110$K and$10^{7.6\\pm0.8}$s$^{-1}$. A comparison with prior laboratory measurements on diffusion is discussed.\n",
       "\n",
       "</div>\n",
       "\n",
       "<div id=\"div_fig1\">\n",
       "\n",
       "<img src=\"tmp_2302.08628/./fitting.png\" alt=\"Fig2\" width=\"100%\"/>\n",
       "\n",
       "**Figure 2. -** Selected RAIRS spectra in the range of the CO$_2$$\\nu_3$ mode during the isothermal experiment at different temperatures. Each panel depicts the CO$_2$ absorption peak at various times since the start of an isothermal experiment. The time and temperature of the isotherm are indicated in the figure. The black curves represent the experimental data, while the orange curves represent the fittings made with a sum of two Gaussian functions. (*fig:fitting*)\n",
       "\n",
       "</div>\n",
       "<div id=\"div_fig2\">\n",
       "\n",
       "<img src=\"tmp_2302.08628/./bandArea.png\" alt=\"Fig3\" width=\"100%\"/>\n",
       "\n",
       "**Figure 3. -** The band areas of the 2330 and 2355 cm$^{-1}$ components of the CO$_2$ absorption peak during the isothermal evolution at different temperatures. (*fig:bandArea*)\n",
       "\n",
       "</div>\n",
       "<div id=\"div_fig3\">\n",
       "\n",
       "<img src=\"tmp_2302.08628/./arrh.png\" alt=\"Fig5\" width=\"100%\"/>\n",
       "\n",
       "**Figure 5. -** Arrhenius plot $log(k_D)$ over $1/T$, where $k_D$ is the diffusion rate, and $T$ is the isotherm temperature. The linear fitting is shown in orange.  (*fig:arrh*)\n",
       "\n",
       "</div>"
      ],
      "text/plain": [
       "<IPython.core.display.Markdown object>"
      ]
     },
     "metadata": {},
     "output_type": "display_data"
    },
    {
     "data": {
      "text/markdown": [
       "<div class=\"macros\" style=\"visibility:hidden;\">\n",
       "$\\newcommand{\\ensuremath}{}$\n",
       "$\\newcommand{\\xspace}{}$\n",
       "$\\newcommand{\\object}[1]{\\texttt{#1}}$\n",
       "$\\newcommand{\\farcs}{{.}''}$\n",
       "$\\newcommand{\\farcm}{{.}'}$\n",
       "$\\newcommand{\\arcsec}{''}$\n",
       "$\\newcommand{\\arcmin}{'}$\n",
       "$\\newcommand{\\ion}[2]{#1#2}$\n",
       "$\\newcommand{\\textsc}[1]{\\textrm{#1}}$\n",
       "$\\newcommand{\\hl}[1]{\\textrm{#1}}$</div>\n",
       "\n",
       "<div class=\"macros\" style=\"visibility:hidden;\">\n",
       "$\\newcommand{$\\ensuremath$}{}$\n",
       "$\\newcommand{$\\xspace$}{}$\n",
       "$\\newcommand{$\\object$}[1]{\\texttt{#1}}$\n",
       "$\\newcommand{$\\farcs$}{{.}''}$\n",
       "$\\newcommand{$\\farcm$}{{.}'}$\n",
       "$\\newcommand{$\\arcsec$}{''}$\n",
       "$\\newcommand{$\\arcmin$}{'}$\n",
       "$\\newcommand{$\\ion$}[2]{#1#2}$\n",
       "$\\newcommand{$\\textsc$}[1]{\\textrm{#1}}$\n",
       "$\\newcommand{$\\hl$}[1]{\\textrm{#1}}$</div>\n",
       "\n",
       "\n",
       "\n",
       "<div id=\"title\">\n",
       "\n",
       "#  detection of CO emissions lines and temperature inversions on the dayside of WASP-18b and WASP-76b\n",
       "\n",
       "</div>\n",
       "<div id=\"comments\">\n",
       "\n",
       "[![arXiv](https://img.shields.io/badge/arXiv-2302.08736-b31b1b.svg)](https://arxiv.org/abs/2302.08736)<mark>Appeared on: 2023-02-20</mark> - _11 pages, 12 figures; accepted for publication in A&A_\n",
       "\n",
       "</div>\n",
       "<div id=\"authors\">\n",
       "\n",
       "F. Yan, et al. -- incl., <mark>U. Heiter</mark>\n",
       "\n",
       "</div>\n",
       "<div id=\"abstract\">\n",
       "\n",
       "**Abstract:** The dayside atmospheres of ultra-hot Jupiters (UHJs) are predicted to possess temperature inversion layers with extremely high temperatures at high altitudes. We observed the dayside thermal emission spectra of WASP-18b and WASP-76b with the new CRIRES$^+$high-resolution spectrograph at near-infrared wavelengths. Using the cross-correlation technique, we detected strong CO emission lines in both planets, which confirms the existence of temperature inversions on their dayside hemispheres.The two planets are the first UHJs orbiting F-type stars with CO emission lines detected; previous detections were mostly for UHJs orbiting A-type stars.Evidence of weak$\\mathrm{H_2O}$emission signals is also found for both planets. We further applied forward-model retrievals on the detected CO lines and retrieved the temperature-pressure profiles along with the CO volume mixing ratios. The retrieved logarithmic CO mixing ratio of WASP-18b ($-2.2_{-1.5}^{+1.4}$) is slightly higher than the value predicted by the self-consistent model assuming solar abundance. For WASP-76b, the retrieved CO mixing ratio ($-3.6_{-1.6}^{+1.8}$) is broadly consistent with the value of solar abundance. In addition, we included the equatorial rotation velocity ($\\varv_\\mathrm{eq}$) in the retrieval when analyzing the line profile broadening. The obtained$\\varv_\\mathrm{eq}$is$7.0\\pm{2.9}$km s$^{-1}$for WASP-18b and$5.2_{-3.0}^{+2.5}$km s$^{-1}$for WASP-76b, which are consistent with the tidally locked rotational velocities.\n",
       "\n",
       "</div>\n",
       "\n",
       "<div id=\"div_fig1\">\n",
       "\n",
       "<img src=\"tmp_2302.08736/./SYSREM.png\" alt=\"Fig1\" width=\"100%\"/>\n",
       "\n",
       "**Figure 1. -** Detection significance of the CO signal with different \\texttt{SYSREM} iteration numbers. The maximum S/N values are marked with the red triangles. The value here is measured at fixed $K_\\mathrm{p}$ and at the $\\mathrm{\\Delta} \\varv$ location where the detection signal is the strongest. (*App-sysrem*)\n",
       "\n",
       "</div>\n",
       "<div id=\"div_fig2\">\n",
       "\n",
       "<img src=\"tmp_2302.08736/./SYSREM-H2O.png\" alt=\"Fig2\" width=\"100%\"/>\n",
       "\n",
       "**Figure 2. -** Same as Fig. \\ref{App-sysrem}, but for the $\\mathrm{H_2O}$ signal. (*App-sysrem-H2O*)\n",
       "\n",
       "</div>\n",
       "<div id=\"div_fig3\">\n",
       "\n",
       "<img src=\"tmp_2302.08736/./spectrum-demo.png\" alt=\"Fig3\" width=\"100%\"/>\n",
       "\n",
       "**Figure 3. -** Example of the reduced CRIRES$^+$ spectrum of WASP-76 using the K2148 wavelength setting. The colors represent the three signal detectors. (*spec-demo*)\n",
       "\n",
       "</div>"
      ],
      "text/plain": [
       "<IPython.core.display.Markdown object>"
      ]
     },
     "metadata": {},
     "output_type": "display_data"
    },
    {
     "data": {
      "text/markdown": [
       "<div class=\"macros\" style=\"visibility:hidden;\">\n",
       "$\\newcommand{\\ensuremath}{}$\n",
       "$\\newcommand{\\xspace}{}$\n",
       "$\\newcommand{\\object}[1]{\\texttt{#1}}$\n",
       "$\\newcommand{\\farcs}{{.}''}$\n",
       "$\\newcommand{\\farcm}{{.}'}$\n",
       "$\\newcommand{\\arcsec}{''}$\n",
       "$\\newcommand{\\arcmin}{'}$\n",
       "$\\newcommand{\\ion}[2]{#1#2}$\n",
       "$\\newcommand{\\textsc}[1]{\\textrm{#1}}$\n",
       "$\\newcommand{\\hl}[1]{\\textrm{#1}}$\n",
       "$\\newcommand{\\vdag}{(v)^\\dagger}$</div>\n",
       "\n",
       "<div class=\"macros\" style=\"visibility:hidden;\">\n",
       "$\\newcommand{$\\ensuremath$}{}$\n",
       "$\\newcommand{$\\xspace$}{}$\n",
       "$\\newcommand{$\\object$}[1]{\\texttt{#1}}$\n",
       "$\\newcommand{$\\farcs$}{{.}''}$\n",
       "$\\newcommand{$\\farcm$}{{.}'}$\n",
       "$\\newcommand{$\\arcsec$}{''}$\n",
       "$\\newcommand{$\\arcmin$}{'}$\n",
       "$\\newcommand{$\\ion$}[2]{#1#2}$\n",
       "$\\newcommand{$\\textsc$}[1]{\\textrm{#1}}$\n",
       "$\\newcommand{$\\hl$}[1]{\\textrm{#1}}$\n",
       "$\\newcommand{$\\vdag$}{(v)^\\dagger}$</div>\n",
       "\n",
       "\n",
       "\n",
       "<div id=\"title\">\n",
       "\n",
       "# \n",
       "\n",
       "</div>\n",
       "<div id=\"comments\">\n",
       "\n",
       "[![arXiv](https://img.shields.io/badge/arXiv-2302.08962-b31b1b.svg)](https://arxiv.org/abs/2302.08962)<mark>Appeared on: 2023-02-20</mark> - _Accepted for publication January 31, 2023 in the Journal Astronomy & Astrophysics_\n",
       "\n",
       "</div>\n",
       "<div id=\"authors\">\n",
       "\n",
       "A. Gressier, et al. -- incl., <mark><mark>G.W. Henry</mark></mark>, <mark><mark>T. Mikal-Evans</mark></mark>\n",
       "\n",
       "</div>\n",
       "<div id=\"abstract\">\n",
       "\n",
       "**Abstract:** We present Hubble Space Telescope (HST) transit observations of the Hot-Jupiter WASP-79 b acquired with the Space Telescope Imaging Spectrograph (STIS) in the near ultraviolet (NUV). Two transit observations, part of the PanCET program, are used to obtain the transmission spectra of the planet between 2280 and 3070\\text{\\AA}.        We correct for systematic effects in the raw data using the jitter engineering parameters and polynomial modelling to fit the white light curves of the two transits.        We observe an increase in the planet-to-star radius ratio at short wavelengths, but no spectrally resolved absorption lines. The difference between the radius ratios at 2400\\text{\\AA}and 3000\\text{\\AA}reaches$0.0191\\pm0.0042$($\\sim$4.5$-\\sigma$).        Although the NUV transmission spectrum does not show evidence of hydrodynamical escape,        the strong atmospheric features are likely due to species at very high altitudes. We performed a 1D simulation of the temperature and composition of WASP-79 b using Exo-REM.        The temperature pressure profile crosses condensation curves of radiatively active clouds, particularly MnS, Mg$_2$SiO$_4$, Fe, and Al$_2$O$_3$. Still, none of these species produces the level of observed absorption at short wavelengths and can explain the observed increase in the planet's radius.        WASP-79 b's transit depth reaches 23 scale height, making it one of the largest spectral features observed in an exoplanet at this temperature ($\\sim$1700 K).        The comparison of WASP-79 b's transmission spectrum with three warmer hot Jupiters shows a similar level of absorption to WASP-178 b and WASP-121 b between 0.2 and 0.3$\\mu$m, while HAT-P-41 b's spectrum is flat. The features could be explained by SiO absorption.\n",
       "\n",
       "</div>\n",
       "\n",
       "<div id=\"div_fig1\">\n",
       "\n",
       "<img src=\"tmp_2302.08962/./WASP79_wlc.png\" alt=\"Fig9\" width=\"100%\"/>\n",
       "\n",
       "**Figure 9. -** WASP-79b white light curves for visit \\#65 (left) and \\#66 (right). Top: Normalised raw light curves. Middle: Flux corrected from systematic errors and fitted with a transit model.\n",
       "Bottom: Residuals between the flux corrected spectra, the best-fit models, and 2-$\\rm \\sigma$ error bars (dotted line). Visit \\#65's raw data display a large ramp effect compared to visit \\#66. This ramp is mainly correlated to the HST orbital phase. (*fig:1wlc*)\n",
       "\n",
       "</div>\n",
       "<div id=\"div_fig2\">\n",
       "\n",
       "<img src=\"tmp_2302.08962/./Fig9a_revised.png\" alt=\"Fig6.1\" width=\"50%\"/><img src=\"tmp_2302.08962/./Fig9b_revised2.png\" alt=\"Fig6.2\" width=\"50%\"/>\n",
       "\n",
       "**Figure 6. -** WASP-79b HST transmission spectrum observations (black) and simulated spectra using Exo-REM (colours). WASP-79 b atmosphere is simulated using a 10 x solar metallicity and an interior temperature of 600 K, and we include different clouds (top). We also tested a clear atmosphere while changing the metallicity of the atmosphere (bottom). (*fig6:exorem_simulations*)\n",
       "\n",
       "</div>\n",
       "<div id=\"div_fig3\">\n",
       "\n",
       "<img src=\"tmp_2302.08962/./Fig6_revised.png\" alt=\"Fig3\" width=\"100%\"/>\n",
       "\n",
       "**Figure 3. -** WASP-79b NUV transmission spectra in 4\\text{\\AA} bins for visit \\#66. We indicate the overall NUV transmission spectrum (white light curve) R$_{\\rm P}$/R$_{\\rm\\star}$(NUV) = 0.1059 in red, along with the planet-to-star radius ratio after 2500(\\AA) in green R$_{\\rm P}$/R$_{\\rm\\star}$(>2500\\AA) = 0.1031.  (*fig:3spectralbins*)\n",
       "\n",
       "</div>"
      ],
      "text/plain": [
       "<IPython.core.display.Markdown object>"
      ]
     },
     "metadata": {},
     "output_type": "display_data"
    }
   ],
   "source": [
    "[display(Markdown(k[1])) for k in documents];"
   ]
  },
  {
   "cell_type": "markdown",
   "id": "873873a4",
   "metadata": {
    "papermill": {
     "duration": 0.009657,
     "end_time": "2023-02-20T12:59:39.623545",
     "exception": false,
     "start_time": "2023-02-20T12:59:39.613888",
     "status": "completed"
    },
    "tags": []
   },
   "source": [
    "# Create HTML index"
   ]
  },
  {
   "cell_type": "code",
   "execution_count": 10,
   "id": "cf665672",
   "metadata": {
    "execution": {
     "iopub.execute_input": "2023-02-20T12:59:39.644639Z",
     "iopub.status.busy": "2023-02-20T12:59:39.643934Z",
     "iopub.status.idle": "2023-02-20T12:59:39.657598Z",
     "shell.execute_reply": "2023-02-20T12:59:39.656942Z"
    },
    "papermill": {
     "duration": 0.025804,
     "end_time": "2023-02-20T12:59:39.659042",
     "exception": false,
     "start_time": "2023-02-20T12:59:39.633238",
     "status": "completed"
    },
    "tags": []
   },
   "outputs": [
    {
     "name": "stdout",
     "output_type": "stream",
     "text": [
      "211  publications in the last 7 days.\n",
      "\t _build/html/2302.08962.md\n",
      "\t _build/html/2302.08736.md\n",
      "\t _build/html/2302.08628.md\n",
      "\t _build/html/2302.07916.md\n",
      "\t _build/html/2302.07880.md\n",
      "\t _build/html/2302.07497.md\n",
      "\t _build/html/2302.07277.md\n",
      "\t _build/html/2302.07256.md\n",
      "\t _build/html/2302.07234.md\n",
      "\t _build/html/2302.07057.md\n",
      "\t _build/html/2302.05694.md\n",
      "\t _build/html/2302.05465.md\n",
      "\t _build/html/2302.04507.md\n",
      "\t _build/html/2302.04239.md\n",
      "\t _build/html/2302.04138.md\n",
      "\t _build/html/2302.03699.md\n",
      "\t _build/html/2302.03576.md\n",
      "\t _build/html/2302.03042.md\n",
      "\t _build/html/2302.03039.md\n",
      "\t _build/html/2302.02890.md\n",
      "\t _build/html/2302.02611.md\n",
      "\t _build/html/2302.02429.md\n",
      "\t _build/html/2302.01678.md\n",
      "\t _build/html/2302.00450.md\n",
      "\t _build/html/2301.13766.md\n",
      "\t _build/html/2301.13526.md\n",
      "\t _build/html/2301.12890.md\n",
      "\t _build/html/2301.11942.md\n",
      "\t _build/html/2301.10717.md\n",
      "\t _build/html/2301.10666.md\n",
      "\t _build/html/2301.10496.md\n",
      "\t _build/html/2301.09621.md\n",
      "\t _build/html/2301.09140.md\n",
      "\t _build/html/2301.08770.md\n",
      "\t _build/html/2301.08310.md\n",
      "\t _build/html/2301.07990.md\n",
      "\t _build/html/2301.07366.md\n",
      "\t _build/html/2301.07199.md\n",
      "\t _build/html/2301.07116.md\n",
      "\t _build/html/2301.06873.md\n",
      "\t _build/html/2301.06819.md\n",
      "\t _build/html/2301.06575.md\n",
      "\t _build/html/2301.05720.md\n",
      "\t _build/html/2301.05718.md\n",
      "\t _build/html/2301.05034.md\n",
      "\t _build/html/2301.04656.md\n",
      "\t _build/html/2301.04533.md\n",
      "\t _build/html/2301.04442.md\n",
      "\t _build/html/2301.03811.md\n",
      "\t _build/html/2301.03689.md\n",
      "\t _build/html/2301.03387.md\n",
      "\t _build/html/2301.03209.md\n",
      "\t _build/html/2301.02671.md\n",
      "\t _build/html/2301.02477.md\n",
      "\t _build/html/2301.02313.md\n",
      "\t _build/html/2301.02265.md\n",
      "\t _build/html/2301.01937.md\n",
      "\t _build/html/2301.01895.md\n",
      "\t _build/html/2301.01684.md\n",
      "\t _build/html/2301.01306.md\n",
      "\t _build/html/2301.00881.md\n",
      "\t _build/html/2301.00854.md\n",
      "\t _build/html/2301.00578.md\n",
      "\t _build/html/2212.12039.md\n",
      "\t _build/html/2212.11991.md\n",
      "\t _build/html/2212.11425.md\n",
      "\t _build/html/2212.11177.md\n",
      "\t _build/html/2212.10804.md\n",
      "\t _build/html/2212.10512.md\n",
      "\t _build/html/2212.09766.md\n",
      "\t _build/html/2212.09675.md\n",
      "\t _build/html/2212.09661.md\n",
      "\t _build/html/2212.09652.md\n",
      "\t _build/html/2212.09443.md\n",
      "\t _build/html/2212.09307.md\n",
      "\t _build/html/2212.09168.md\n",
      "\t _build/html/2212.09159.md\n",
      "\t _build/html/2212.08702.md\n",
      "\t _build/html/2212.07332.md\n",
      "\t _build/html/2212.06434.md\n",
      "\t _build/html/2212.04710.md\n",
      "\t _build/html/2212.04026.md\n",
      "\t _build/html/2212.03563.md\n",
      "\t _build/html/2212.03514.md\n",
      "\t _build/html/2212.02667.md\n",
      "\t _build/html/2212.02627.md\n",
      "\t _build/html/2212.02235.md\n",
      "\t _build/html/2212.01707.md\n",
      "\t _build/html/2212.01526.md\n",
      "\t _build/html/2212.01397.md\n",
      "\t _build/html/2212.01291.md\n",
      "\t _build/html/2212.01281.md\n",
      "\t _build/html/2212.00812.md\n",
      "\t _build/html/2212.00811.md\n",
      "\t _build/html/2212.00806.md\n",
      "\t _build/html/2212.00047.md\n",
      "\t _build/html/2212.00032.md\n",
      "\t _build/html/2211.16996.md\n",
      "\t _build/html/2211.16510.md\n",
      "\t _build/html/2211.16123.md\n",
      "\t _build/html/2211.15816.md\n",
      "\t _build/html/2211.15698.md\n",
      "\t _build/html/2211.15576.md\n",
      "\t _build/html/2211.15434.md\n",
      "\t _build/html/2211.15288.md\n",
      "\t _build/html/2211.15224.md\n",
      "\t _build/html/2211.14543.md\n",
      "\t _build/html/2211.14330.md\n",
      "\t _build/html/2211.14322.md\n",
      "\t _build/html/2211.14132.md\n",
      "\t _build/html/2211.13811.md\n",
      "\t _build/html/2211.13426.md\n",
      "\t _build/html/2211.13318.md\n",
      "\t _build/html/2211.13146.md\n",
      "\t _build/html/2211.12613.md\n",
      "\t _build/html/2211.11767.md\n",
      "\t _build/html/2211.09840.md\n",
      "\t _build/html/2211.09217.md\n",
      "\t _build/html/2211.08493.md\n",
      "\t _build/html/2211.08487.md\n",
      "\t _build/html/2211.08294.md\n",
      "\t _build/html/2211.07667.md\n",
      "\t _build/html/2211.07659.md\n",
      "\t _build/html/2211.06454.md\n",
      "\t _build/html/2211.06205.md\n",
      "\t _build/html/2211.06194.md\n",
      "\t _build/html/2211.05022.md\n",
      "\t _build/html/2211.04048.md\n",
      "\t _build/html/2211.03641.md\n",
      "\t _build/html/2211.02502.md\n",
      "\t _build/html/2211.01474.md\n",
      "\t _build/html/2211.00667.md\n",
      "\t _build/html/2211.00657.md\n",
      "\t _build/html/2211.00087.md\n",
      "\t _build/html/2211.00036.md\n",
      "\t _build/html/2211.00020.md\n",
      "\t _build/html/2211.00010.md\n",
      "\t _build/html/2210.17434.md\n",
      "\t _build/html/2210.12412.md\n",
      "\t _build/html/2210.11926.md\n",
      "\t _build/html/2210.11551.md\n",
      "\t _build/html/2210.11103.md\n",
      "\t _build/html/2210.10707.md\n",
      "\t _build/html/2210.09930.md\n",
      "\t _build/html/2210.08996.md\n",
      "\t _build/html/2210.08517.md\n",
      "\t _build/html/2210.08510.md\n",
      "\t _build/html/2210.08078.md\n",
      "\t _build/html/2210.06504.md\n",
      "\t _build/html/2210.05695.md\n",
      "\t _build/html/2210.05595.md\n",
      "\t _build/html/2210.05505.md\n",
      "\t _build/html/2210.04721.md\n",
      "\t _build/html/2210.03615.md\n",
      "\t _build/html/2210.01811.md\n",
      "\t _build/html/2210.01809.md\n",
      "\t _build/html/2210.01556.md\n",
      "\t _build/html/2210.00863.md\n",
      "\t _build/html/2210.00560.md\n",
      "\t _build/html/2209.15403.md\n",
      "\t _build/html/2209.15110.md\n",
      "\t _build/html/2209.14410.md\n",
      "\t _build/html/2209.14396.md\n",
      "\t _build/html/2209.13717.md\n",
      "\t _build/html/2209.13336.md\n",
      "\t _build/html/2209.12906.md\n",
      "\t _build/html/2209.11781.md\n",
      "\t _build/html/2209.11602.md\n",
      "\t _build/html/2209.11248.md\n",
      "\t _build/html/2209.11096.md\n",
      "\t _build/html/2209.10618.md\n",
      "\t _build/html/2209.09914.md\n",
      "\t _build/html/2209.09823.md\n",
      "\t _build/html/2209.08242.md\n",
      "\t _build/html/2209.08120.md\n",
      "\t _build/html/2209.08106.md\n",
      "\t _build/html/2209.07962.md\n",
      "\t _build/html/2209.07931.md\n",
      "\t _build/html/2209.06833.md\n",
      "\t _build/html/2209.05814.md\n",
      "\t _build/html/2209.05593.md\n",
      "\t _build/html/2209.04304.md\n",
      "\t _build/html/2209.03367.md\n",
      "\t _build/html/2209.02872.md\n",
      "\t _build/html/2209.02725.md\n",
      "\t _build/html/2209.02722.md\n",
      "\t _build/html/2209.02092.md\n",
      "\t _build/html/2209.01125.md\n",
      "\t _build/html/2209.00828.md\n",
      "\t _build/html/2209.00363.md\n",
      "\t _build/html/2208.14927.md\n",
      "\t _build/html/2208.09335.md\n",
      "\t _build/html/2208.08872.md\n",
      "\t _build/html/2204.06393.md\n",
      "\t _build/html/2204.03335.md\n",
      "\t _build/html/2204.03253.md\n",
      "\t _build/html/2204.02998.md\n",
      "\t _build/html/2204.02109.md\n",
      "\t _build/html/2204.02017.md\n",
      "\t _build/html/2204.01824.md\n",
      "\t _build/html/2204.01758.md\n",
      "\t _build/html/2204.01245.md\n",
      "\t _build/html/2204.00793.md\n",
      "\t _build/html/2204.00342.md\n",
      "\t _build/html/2203.16959.md\n",
      "\t _build/html/2203.16856.md\n",
      "\t _build/html/2203.16735.md\n",
      "\t _build/html/2203.16734.md\n",
      "\t _build/html/2203.16504.md\n",
      "\t _build/html/2203.15822.md\n",
      "\t _build/html/2203.15811.md\n"
     ]
    }
   ],
   "source": [
    "from datetime import datetime, timedelta, timezone\n",
    "from glob import glob\n",
    "\n",
    "files = glob('_build/html/*.md')\n",
    "days = 7\n",
    "now = datetime.today()\n",
    "res = []\n",
    "for fk in files:\n",
    "    stat_result = os.stat(fk).st_ctime\n",
    "    modified = datetime.fromtimestamp(stat_result, tz=timezone.utc).replace(tzinfo=None)\n",
    "    delta = now.today() - modified\n",
    "    if delta <= timedelta(days=days):\n",
    "        res.append((delta.seconds, fk))\n",
    "res = [k[1] for k in reversed(sorted(res, key=lambda x:x[1]))]\n",
    "npub = len(res)\n",
    "print(len(res), f\" publications in the last {days:d} days.\")\n",
    "[ print('\\t', k) for k in res ];"
   ]
  },
  {
   "cell_type": "code",
   "execution_count": 11,
   "id": "015de740",
   "metadata": {
    "execution": {
     "iopub.execute_input": "2023-02-20T12:59:39.709376Z",
     "iopub.status.busy": "2023-02-20T12:59:39.708692Z",
     "iopub.status.idle": "2023-02-20T12:59:39.728655Z",
     "shell.execute_reply": "2023-02-20T12:59:39.727965Z"
    },
    "papermill": {
     "duration": 0.060964,
     "end_time": "2023-02-20T12:59:39.730235",
     "exception": false,
     "start_time": "2023-02-20T12:59:39.669271",
     "status": "completed"
    },
    "tags": []
   },
   "outputs": [
    {
     "name": "stdout",
     "output_type": "stream",
     "text": [
      "12  publications in the last 7 days.\n"
     ]
    }
   ],
   "source": [
    "import datetime\n",
    "from glob import glob\n",
    "\n",
    "def get_last_n_days(lst, days=1):\n",
    "    \"\"\" Get the documents from the last n days \"\"\"\n",
    "    sorted_lst = sorted(lst, key=lambda x: x[1], reverse=True)\n",
    "    for fname, date in sorted_lst:\n",
    "        if date >= str(datetime.date.today() - datetime.timedelta(days=days)):\n",
    "            yield fname\n",
    "\n",
    "def extract_appearance_dates(lst_file):\n",
    "    dates = []\n",
    "\n",
    "    def get_date(line):\n",
    "        return line\\\n",
    "            .split('Appeared on:')[-1]\\\n",
    "            .split('</mark>')[0].strip()\n",
    "\n",
    "    for fname in lst:\n",
    "        with open(fname, 'r') as f:\n",
    "            found_date = False\n",
    "            for line in f:\n",
    "                if not found_date:\n",
    "                    if \"Appeared on\" in line:\n",
    "                        found_date = True\n",
    "                        dates.append((fname, get_date(line)))\n",
    "                else:\n",
    "                    break\n",
    "    return dates\n",
    "\n",
    "from glob import glob\n",
    "lst = glob('_build/html/*md')\n",
    "days = 7\n",
    "dates = extract_appearance_dates(lst)\n",
    "res = list(get_last_n_days(dates, days))\n",
    "npub = len(res)\n",
    "print(len(res), f\" publications in the last {days:d} days.\")"
   ]
  },
  {
   "cell_type": "code",
   "execution_count": 12,
   "id": "52ca0208",
   "metadata": {
    "execution": {
     "iopub.execute_input": "2023-02-20T12:59:39.752311Z",
     "iopub.status.busy": "2023-02-20T12:59:39.752037Z",
     "iopub.status.idle": "2023-02-20T12:59:39.759448Z",
     "shell.execute_reply": "2023-02-20T12:59:39.758824Z"
    },
    "papermill": {
     "duration": 0.020901,
     "end_time": "2023-02-20T12:59:39.761201",
     "exception": false,
     "start_time": "2023-02-20T12:59:39.740300",
     "status": "completed"
    },
    "scrolled": false,
    "tags": []
   },
   "outputs": [],
   "source": [
    "def create_carousel(npub=4):\n",
    "    \"\"\" Generate the HTML code for a carousel with `npub` slides \"\"\"\n",
    "    carousel = [\"\"\"<section class=\"carousel\" aria-label=\"Gallery\">\"\"\",\n",
    "                \"\"\"  <ol class=\"carousel__viewport\">\"\"\",\n",
    "    ]\n",
    "    for k in range(1, npub + 1):\n",
    "        prev_ = k - 1\n",
    "        next_ = k + 1\n",
    "        if prev_ <= 0:\n",
    "            prev_ = npub\n",
    "        if next_ > npub:\n",
    "            next_ = 1\n",
    "        text  = f\"\"\"    <li id=\"carousel__slide{k}\" tabindex=\"0\" class=\"carousel__slide\">\\n\"\"\"\n",
    "        text += f\"\"\"       <div class=\"carousel__snapper\">\\n\"\"\"\n",
    "        text += f\"\"\"         <a href=\"#carousel__slide{prev_}\" class=\"carousel__prev\">Go to previous slide</a>\\n\"\"\"\n",
    "        text += f\"\"\"         <a href=\"#carousel__slide{next_}\" class=\"carousel__next\">Go to next slide</a>\\n\"\"\"\n",
    "        text += f\"\"\"         <div id=\"slide{k}_content\" class=\"md_view\" >Content {k}</div>\\n\"\"\"\n",
    "        text += f\"\"\"       </div>\\n\"\"\"\n",
    "        text += f\"\"\"    </li>\"\"\"\n",
    "        carousel.append(text)\n",
    "\n",
    "    carousel.extend([\n",
    "        \"\"\"  </ol>\"\"\",\n",
    "        \"\"\"  <aside class=\"carousel__navigation\">\"\"\",\n",
    "        \"\"\"    <ol class=\"carousel__navigation-list\">\"\"\"])\n",
    "\n",
    "    for k in range(1, npub + 1):\n",
    "        text  = f\"\"\"      <li class=\"carousel__navigation-item\">\\n\"\"\"\n",
    "        text += f\"\"\"        <a href=\"#carousel__slide{k}\" class=\"carousel__navigation-button\">Go to {k}</a>\\n\"\"\"\n",
    "        text += f\"\"\"      </li>\"\"\"\n",
    "        carousel.append(text)\n",
    "    carousel.extend([\"\"\"    </ol>\"\"\", \"\"\"  </aside>\"\"\", \"\"\"</section>\"\"\"])\n",
    "\n",
    "    return '\\n'.join(carousel)"
   ]
  },
  {
   "cell_type": "code",
   "execution_count": 13,
   "id": "a6eac5b6",
   "metadata": {
    "execution": {
     "iopub.execute_input": "2023-02-20T12:59:39.784741Z",
     "iopub.status.busy": "2023-02-20T12:59:39.784469Z",
     "iopub.status.idle": "2023-02-20T12:59:39.790657Z",
     "shell.execute_reply": "2023-02-20T12:59:39.790016Z"
    },
    "papermill": {
     "duration": 0.019181,
     "end_time": "2023-02-20T12:59:39.792202",
     "exception": false,
     "start_time": "2023-02-20T12:59:39.773021",
     "status": "completed"
    },
    "scrolled": false,
    "tags": []
   },
   "outputs": [],
   "source": [
    "carousel = create_carousel(npub)\n",
    "docs = ', '.join(['\"{0:s}\"'.format(k.split('/')[-1]) for k in res])\n",
    "slides = ', '.join([f'\"slide{k}_content\"' for k in range(1, npub + 1)])\n",
    "\n",
    "script = f\"\"\"\n",
    "const docs = [{docs}]\n",
    "\n",
    "const slides = [{slides}]\n",
    "\"\"\" + \"\"\"\n",
    "async function run() {\n",
    "    for (let i = 0; i < docs.length; i++) {\n",
    "        let file = await fetch(docs[i]);\n",
    "        let text = await file.text()\n",
    "        document.getElementById(slides[i]).innerHTML =\n",
    "            marked.parse(text);\n",
    "    }\n",
    "    hljs.highlightAll();\n",
    "}\n",
    "run()\n",
    "\"\"\"\n",
    "\n",
    "page = f\"\"\"<!doctype html>\n",
    "<html lang=\"en\">\n",
    "\n",
    "<head>\n",
    "  <meta charset=\"utf-8\">\n",
    "  <meta name=\"viewport\" content=\"width=device-width, initial-scale=1\">\n",
    "  <!-- Bootstrap CSS -->\n",
    "  <link href=\"https://cdn.jsdelivr.net/npm/bootstrap@5.0.2/dist/css/bootstrap.min.css\" rel=\"stylesheet\"\n",
    "   integrity=\"sha384-EVSTQN3/azprG1Anm3QDgpJLIm9Nao0Yz1ztcQTwFspd3yD65VohhpuuCOmLASjC\" crossorigin=\"anonymous\">\n",
    "  <!-- highlight.js CSS -->\n",
    "  <link rel=\"stylesheet\" href=\"https://cdnjs.cloudflare.com/ajax/libs/highlight.js/11.1.0/styles/default.min.css\">\n",
    "  <!-- Mathjax 3 -->\n",
    "  <script type=\"text/javascript\" id=\"MathJax-config\" src=\"mathjax_config.js\"> </script>\n",
    "  <script type=\"text/javascript\" id=\"MathJax-script\" async \n",
    "    src=\"https://cdn.jsdelivr.net/npm/mathjax@3/es5/tex-mml-chtml.js\">\n",
    "  </script>\n",
    "  <link rel=\"stylesheet\" href=\"index_carousel.css\">\n",
    "  <link rel=\"icon\" type=\"image/x-icon\" href=\"https://www.mpia.de/assets/touch-icon-32x32-a66937bcebc4e8894ebff1f41a366c7c7220fd97a38869ee0f2db65a9f59b6c1.png\">\n",
    "  <title>MPIA Arxiv on deck!</title>\n",
    "</head>\n",
    "\n",
    "<body>\n",
    "  <div id=\"header\"> <img src=\"header_banner.png\" width=\"100%\"></div>\n",
    "  <div id=\"suptitle\"> 7-day archives </div>\n",
    "  <div id=\"info\">\n",
    "    <img src=\"https://pngimg.com/uploads/github/github_PNG58.png\" height=30rem></img>\n",
    "    <a href=https://github.com/mpi-astronomy/arxiv_display style=\"color:black;\">github/mpi-astronomy/arxiv_display</a> \n",
    "  </div>\n",
    "  {carousel:s}\n",
    "</body>\n",
    "\n",
    "<!-- Render Markdown -->\n",
    "\n",
    "<body>\n",
    "  <!-- highlight.js: https://highlightjs.org/download/ -->\n",
    "  <script src=\"https://cdnjs.cloudflare.com/ajax/libs/highlight.js/11.5.0/highlight.min.js\"></script>\n",
    "  <!-- marked.js -->\n",
    "  <script src=\"https://cdn.jsdelivr.net/npm/marked/marked.min.js\"></script>\n",
    "  <script>{script:s}</script>\n",
    "</body>\n",
    "</html>\n",
    "\"\"\"\n",
    "with open(\"_build/html/index_7days.html\", 'w') as fout:\n",
    "    fout.write(page)"
   ]
  },
  {
   "cell_type": "code",
   "execution_count": 14,
   "id": "adc1a1ec",
   "metadata": {
    "execution": {
     "iopub.execute_input": "2023-02-20T12:59:39.813880Z",
     "iopub.status.busy": "2023-02-20T12:59:39.813621Z",
     "iopub.status.idle": "2023-02-20T12:59:39.822947Z",
     "shell.execute_reply": "2023-02-20T12:59:39.822345Z"
    },
    "papermill": {
     "duration": 0.022137,
     "end_time": "2023-02-20T12:59:39.824618",
     "exception": false,
     "start_time": "2023-02-20T12:59:39.802481",
     "status": "completed"
    },
    "tags": []
   },
   "outputs": [
    {
     "name": "stdout",
     "output_type": "stream",
     "text": [
      "3  publications in the last day.\n"
     ]
    }
   ],
   "source": [
    "# redo for today\n",
    "days = 1\n",
    "res = list(get_last_n_days(dates, days))\n",
    "npub = len(res)\n",
    "print(len(res), f\" publications in the last day.\")\n",
    "\n",
    "carousel = create_carousel(npub)\n",
    "docs = ', '.join(['\"{0:s}\"'.format(k.split('/')[-1]) for k in res])\n",
    "slides = ', '.join([f'\"slide{k}_content\"' for k in range(1, npub + 1)])\n",
    "\n",
    "script = f\"\"\"\n",
    "const docs = [{docs}]\n",
    "\n",
    "const slides = [{slides}]\n",
    "\"\"\" + \"\"\"\n",
    "async function run() {\n",
    "    for (let i = 0; i < docs.length; i++) {\n",
    "        let file = await fetch(docs[i]);\n",
    "        let text = await file.text()\n",
    "        document.getElementById(slides[i]).innerHTML =\n",
    "            marked.parse(text);\n",
    "    }\n",
    "    hljs.highlightAll();\n",
    "}\n",
    "run()\n",
    "\"\"\"\n",
    "\n",
    "page = f\"\"\"<!doctype html>\n",
    "<html lang=\"en\">\n",
    "\n",
    "<head>\n",
    "  <meta charset=\"utf-8\">\n",
    "  <meta name=\"viewport\" content=\"width=device-width, initial-scale=1\">\n",
    "  <!-- Bootstrap CSS -->\n",
    "  <link href=\"https://cdn.jsdelivr.net/npm/bootstrap@5.0.2/dist/css/bootstrap.min.css\" rel=\"stylesheet\"\n",
    "   integrity=\"sha384-EVSTQN3/azprG1Anm3QDgpJLIm9Nao0Yz1ztcQTwFspd3yD65VohhpuuCOmLASjC\" crossorigin=\"anonymous\">\n",
    "  <!-- highlight.js CSS -->\n",
    "  <link rel=\"stylesheet\" href=\"https://cdnjs.cloudflare.com/ajax/libs/highlight.js/11.1.0/styles/default.min.css\">\n",
    "  <!-- Mathjax 3 -->\n",
    "  <script type=\"text/javascript\" id=\"MathJax-config\" src=\"mathjax_config.js\"> </script>\n",
    "  <script type=\"text/javascript\" id=\"MathJax-script\" async \n",
    "    src=\"https://cdn.jsdelivr.net/npm/mathjax@3/es5/tex-mml-chtml.js\">\n",
    "  </script>\n",
    "  <link rel=\"stylesheet\" href=\"index_carousel.css\">\n",
    "  <link rel=\"icon\" type=\"image/x-icon\" href=\"https://www.mpia.de/assets/touch-icon-32x32-a66937bcebc4e8894ebff1f41a366c7c7220fd97a38869ee0f2db65a9f59b6c1.png\">\n",
    "  <title>MPIA Arxiv on deck!</title>\n",
    "</head>\n",
    "\n",
    "<body>\n",
    "  <div id=\"header\"> <img src=\"header_banner.png\" width=\"100%\"></div>\n",
    "  <div id=\"suptitle\"> daily </div>\n",
    "  <div id=\"info\">\n",
    "    <img src=\"https://pngimg.com/uploads/github/github_PNG58.png\" height=30rem></img>\n",
    "    <a href=https://github.com/mpi-astronomy/arxiv_display style=\"color:black;\">github/mpi-astronomy/arxiv_display</a> \n",
    "  </div>\n",
    "  {carousel:s}\n",
    "</body>\n",
    "\n",
    "<!-- Render Markdown -->\n",
    "\n",
    "<body>\n",
    "  <!-- highlight.js: https://highlightjs.org/download/ -->\n",
    "  <script src=\"https://cdnjs.cloudflare.com/ajax/libs/highlight.js/11.5.0/highlight.min.js\"></script>\n",
    "  <!-- marked.js -->\n",
    "  <script src=\"https://cdn.jsdelivr.net/npm/marked/marked.min.js\"></script>\n",
    "  <script>{script:s}</script>\n",
    "</body>\n",
    "</html>\n",
    "\"\"\"\n",
    "with open(\"_build/html/index_daily.html\", 'w') as fout:\n",
    "    fout.write(page)"
   ]
  },
  {
   "cell_type": "markdown",
   "id": "1cebacbc",
   "metadata": {
    "papermill": {
     "duration": 0.010011,
     "end_time": "2023-02-20T12:59:39.844641",
     "exception": false,
     "start_time": "2023-02-20T12:59:39.834630",
     "status": "completed"
    },
    "tags": []
   },
   "source": [
    "# Debugging papers"
   ]
  },
  {
   "cell_type": "raw",
   "id": "debe7cc6",
   "metadata": {
    "papermill": {
     "duration": 0.011606,
     "end_time": "2023-02-20T12:59:39.866233",
     "exception": false,
     "start_time": "2023-02-20T12:59:39.854627",
     "status": "completed"
    },
    "tags": []
   },
   "source": [
    "raise NotImplementedError(\"Manual Stop\")"
   ]
  },
  {
   "cell_type": "raw",
   "id": "eb169192",
   "metadata": {
    "papermill": {
     "duration": 0.009954,
     "end_time": "2023-02-20T12:59:39.886150",
     "exception": false,
     "start_time": "2023-02-20T12:59:39.876196",
     "status": "completed"
    },
    "scrolled": true,
    "tags": []
   },
   "source": [
    "from IPython.display import display, Markdown\n",
    "from TexSoup import TexSoup\n",
    "import re\n",
    "\n",
    "def bracket_error(source: str):\n",
    "    \"\"\" Find problematic portions of the document \"\"\"\n",
    "    \n",
    "    print(\"len(source)\", len(source))\n",
    "    \n",
    "    # Checking header\n",
    "    begin_doc = next(re.finditer(r'\\\\begin\\{document\\}', doc.source)).span()[1]\n",
    "    header = source[:begin_doc]\n",
    "    text = header + r\"\\n\\end{document}\"\n",
    "\n",
    "    try:\n",
    "        # print(\"Header check... \", end='')\n",
    "        TexSoup(text)\n",
    "        display(Markdown(f\"**[OK]** - Header\"))\n",
    "    except:\n",
    "        raise RuntimeError(\"Error in the header\")\n",
    "        \n",
    "    # Check the text per section until the end.\n",
    "    # Do not stop and try them all.\n",
    "    \n",
    "    problematic_text = []\n",
    "    \n",
    "    sections = ([(0, begin_doc, 'until first section')] + \n",
    "                [(g.span()[0], g.span()[1], g.group()) for g in re.finditer(r'\\\\section\\{.*\\}', source)] +\n",
    "                [(g.span()[0], g.span()[1], g.group()) for g in re.finditer(r'\\\\begin\\{appendix\\}', source)]\n",
    "               )\n",
    "    sections.append([len(source), len(source), 'end'])\n",
    "    \n",
    "    sections = sorted(sections, key=lambda x: x[0])\n",
    "    \n",
    "    prev_pos, prev_name = (0, 'header')\n",
    "    parsed = []\n",
    "    \n",
    "    for span, span_end, name in sections:\n",
    "\n",
    "        if span - prev_pos <= 0:\n",
    "            continue\n",
    "            \n",
    "\n",
    "        text = source[prev_pos:span]\n",
    "        if prev_pos > begin_doc:\n",
    "            text = r\"\\n\\begin{document}\" + text + r\"\\n\\end{document}\"\n",
    "        else:\n",
    "            text = text + r\"\\n\\end{document}\"\n",
    "        try:\n",
    "            #print(f\"{prev_pos}:{prev_name}-->{span}:{name} check... \", end='')\n",
    "            parsed.append(TexSoup(text, tolerance=1))  # allow not ending env\n",
    "            display(Markdown(f\"**[OK]** - *{prev_pos}*:{prev_name} &rarr; *{span}*:{name}\"))\n",
    "            # print(\"ok\")\n",
    "\n",
    "            prev_pos = span\n",
    "            prev_name = name\n",
    "        except:\n",
    "            # print(f\"error between {prev_pos} and {span}\")\n",
    "            display(Markdown(f\"**[ERR]** *{prev_pos}*:{prev_name} &rarr; *{span}*:{name}\"))\n",
    "            problematic_text.append((prev_pos, source[prev_pos:span]))\n",
    "            prev_pos = span\n",
    "            prev_name = name\n",
    "            # raise\n",
    "    return problematic_text, parsed\n",
    "\n",
    "\n",
    "def check_environment(text, offset=0):\n",
    "    \"\"\" Check environment \"\"\"\n",
    "    env = re.compile(r\"\\\\begin\\{(?P<env>.*)\\}(.*)\\\\end\\{(?P=env)\\}\", re.DOTALL)\n",
    "\n",
    "    for match in env.finditer(text):\n",
    "        beg, end = match.span()\n",
    "        beg += offset\n",
    "        end += offset\n",
    "        envname = match.groups()[0]\n",
    "        try:\n",
    "            latex.TexSoup(match.group())\n",
    "        except Exception as e:\n",
    "            display(e)\n",
    "            print(f\"Error in {envname:s} between {beg} and {end}\")\n",
    "            return match.groups()[1], beg, end"
   ]
  },
  {
   "cell_type": "raw",
   "id": "2315e835",
   "metadata": {
    "papermill": {
     "duration": 0.0099,
     "end_time": "2023-02-20T12:59:39.906084",
     "exception": false,
     "start_time": "2023-02-20T12:59:39.896184",
     "status": "completed"
    },
    "scrolled": false,
    "tags": []
   },
   "source": [
    "import importlib\n",
    "importlib.reload(latex)\n",
    "which = \"2204.03253\"\n",
    "paper_id = f'{which:s}'\n",
    "folder = f'tmp_{paper_id:s}'\n",
    "\n",
    "if not os.path.isdir(folder):\n",
    "    folder = retrieve_document_source(f\"{paper_id}\", f'tmp_{paper_id}')\n",
    "\n",
    "try:\n",
    "    doc = latex.LatexDocument(folder, validation=validation)    \n",
    "except AffiliationError as affilerror:\n",
    "    msg = f\"ArXiv:{paper_id:s} is not an MPIA paper... \" + str(affilerror)\n",
    "    print(msg)\n",
    "\n",
    "\n",
    "# Hack because sometimes author parsing does not work well\n",
    "if (len(doc.authors) != len(paper['authors'])):\n",
    "    doc._authors = paper['authors']\n",
    "if (doc.abstract) in (None, ''):\n",
    "    doc._abstract = paper['abstract']\n",
    "\n",
    "doc.comment = get_markdown_badge(paper_id) + \" _\" + paper['comments'] + \"_\"\n",
    "doc.highlight_authors_in_list(hl_list)\n",
    "\n",
    "full_md = doc.generate_markdown_text()"
   ]
  },
  {
   "cell_type": "raw",
   "id": "dd3781db",
   "metadata": {
    "papermill": {
     "duration": 0.010267,
     "end_time": "2023-02-20T12:59:39.926468",
     "exception": false,
     "start_time": "2023-02-20T12:59:39.916201",
     "status": "completed"
    },
    "scrolled": false,
    "tags": []
   },
   "source": [
    "doc"
   ]
  },
  {
   "cell_type": "raw",
   "id": "c6eed834",
   "metadata": {
    "papermill": {
     "duration": 0.009909,
     "end_time": "2023-02-20T12:59:39.946351",
     "exception": false,
     "start_time": "2023-02-20T12:59:39.936442",
     "status": "completed"
    },
    "tags": []
   },
   "source": [
    "# [check_environment(k) for k in bracket_error(doc.source)]\n",
    "_, _, a = latex.get_content_per_section(doc.source, verbose=True)\n",
    "if not a:\n",
    "    print(\"no issues per section\")\n",
    "for ak in a:\n",
    "    r = check_environment(ak[1], offset=ak[0])\n",
    "    print(r[1], r[2])\n",
    "    print(r[0])"
   ]
  },
  {
   "cell_type": "code",
   "execution_count": null,
   "id": "71ce768a",
   "metadata": {
    "papermill": {
     "duration": 0.009867,
     "end_time": "2023-02-20T12:59:39.966218",
     "exception": false,
     "start_time": "2023-02-20T12:59:39.956351",
     "status": "completed"
    },
    "tags": []
   },
   "outputs": [],
   "source": []
  }
 ],
 "metadata": {
  "kernelspec": {
   "display_name": "Python 3 (ipykernel)",
   "language": "python",
   "name": "python3"
  },
  "language_info": {
   "codemirror_mode": {
    "name": "ipython",
    "version": 3
   },
   "file_extension": ".py",
   "mimetype": "text/x-python",
   "name": "python",
   "nbconvert_exporter": "python",
   "pygments_lexer": "ipython3",
   "version": "3.9.16"
  },
  "papermill": {
   "default_parameters": {},
   "duration": 129.106022,
   "end_time": "2023-02-20T12:59:40.193982",
   "environment_variables": {},
   "exception": null,
   "input_path": "MPIA daily digest.ipynb",
   "output_path": "log.ipynb",
   "parameters": {},
   "start_time": "2023-02-20T12:57:31.087960",
   "version": "2.4.0"
  },
  "vscode": {
   "interpreter": {
    "hash": "aee8b7b246df8f9039afb4144a1f6fd8d2ca17a180786b69acc140d282b71a49"
   }
  },
  "widgets": {
   "application/vnd.jupyter.widget-state+json": {
    "state": {
     "057f142b77034fec83f366e616e013ee": {
      "model_module": "@jupyter-widgets/controls",
      "model_module_version": "2.0.0",
      "model_name": "HTMLStyleModel",
      "state": {
       "_model_module": "@jupyter-widgets/controls",
       "_model_module_version": "2.0.0",
       "_model_name": "HTMLStyleModel",
       "_view_count": null,
       "_view_module": "@jupyter-widgets/base",
       "_view_module_version": "2.0.0",
       "_view_name": "StyleView",
       "background": null,
       "description_width": "",
       "font_size": null,
       "text_color": null
      }
     },
     "13b43ff494184549a5576621aa2fef00": {
      "model_module": "@jupyter-widgets/controls",
      "model_module_version": "2.0.0",
      "model_name": "ProgressStyleModel",
      "state": {
       "_model_module": "@jupyter-widgets/controls",
       "_model_module_version": "2.0.0",
       "_model_name": "ProgressStyleModel",
       "_view_count": null,
       "_view_module": "@jupyter-widgets/base",
       "_view_module_version": "2.0.0",
       "_view_name": "StyleView",
       "bar_color": null,
       "description_width": ""
      }
     },
     "24e0398eea6a4e0c8c4a5a2173813735": {
      "model_module": "@jupyter-widgets/controls",
      "model_module_version": "2.0.0",
      "model_name": "HBoxModel",
      "state": {
       "_dom_classes": [],
       "_model_module": "@jupyter-widgets/controls",
       "_model_module_version": "2.0.0",
       "_model_name": "HBoxModel",
       "_view_count": null,
       "_view_module": "@jupyter-widgets/controls",
       "_view_module_version": "2.0.0",
       "_view_name": "HBoxView",
       "box_style": "",
       "children": [
        "IPY_MODEL_30d1190a1fa04cbe86720532b7cd9eb1",
        "IPY_MODEL_4eb3ec7fcde441a38c0ea3f6e3efe21c",
        "IPY_MODEL_d5d0f2e333354ee8b705bfc09a15a87c"
       ],
       "layout": "IPY_MODEL_5b96b9b859a348e7b7aefbbac888b616",
       "tabbable": null,
       "tooltip": null
      }
     },
     "30d1190a1fa04cbe86720532b7cd9eb1": {
      "model_module": "@jupyter-widgets/controls",
      "model_module_version": "2.0.0",
      "model_name": "HTMLModel",
      "state": {
       "_dom_classes": [],
       "_model_module": "@jupyter-widgets/controls",
       "_model_module_version": "2.0.0",
       "_model_name": "HTMLModel",
       "_view_count": null,
       "_view_module": "@jupyter-widgets/controls",
       "_view_module_version": "2.0.0",
       "_view_name": "HTMLView",
       "description": "",
       "description_allow_html": false,
       "layout": "IPY_MODEL_6c0b83a487e34aaeaad43d34237d00ad",
       "placeholder": "​",
       "style": "IPY_MODEL_057f142b77034fec83f366e616e013ee",
       "tabbable": null,
       "tooltip": null,
       "value": "100%"
      }
     },
     "4eb3ec7fcde441a38c0ea3f6e3efe21c": {
      "model_module": "@jupyter-widgets/controls",
      "model_module_version": "2.0.0",
      "model_name": "FloatProgressModel",
      "state": {
       "_dom_classes": [],
       "_model_module": "@jupyter-widgets/controls",
       "_model_module_version": "2.0.0",
       "_model_name": "FloatProgressModel",
       "_view_count": null,
       "_view_module": "@jupyter-widgets/controls",
       "_view_module_version": "2.0.0",
       "_view_name": "ProgressView",
       "bar_style": "success",
       "description": "",
       "description_allow_html": false,
       "layout": "IPY_MODEL_d6390ef9617742b584fedf9ffc01a8aa",
       "max": 18.0,
       "min": 0.0,
       "orientation": "horizontal",
       "style": "IPY_MODEL_13b43ff494184549a5576621aa2fef00",
       "tabbable": null,
       "tooltip": null,
       "value": 18.0
      }
     },
     "5b96b9b859a348e7b7aefbbac888b616": {
      "model_module": "@jupyter-widgets/base",
      "model_module_version": "2.0.0",
      "model_name": "LayoutModel",
      "state": {
       "_model_module": "@jupyter-widgets/base",
       "_model_module_version": "2.0.0",
       "_model_name": "LayoutModel",
       "_view_count": null,
       "_view_module": "@jupyter-widgets/base",
       "_view_module_version": "2.0.0",
       "_view_name": "LayoutView",
       "align_content": null,
       "align_items": null,
       "align_self": null,
       "border_bottom": null,
       "border_left": null,
       "border_right": null,
       "border_top": null,
       "bottom": null,
       "display": null,
       "flex": null,
       "flex_flow": null,
       "grid_area": null,
       "grid_auto_columns": null,
       "grid_auto_flow": null,
       "grid_auto_rows": null,
       "grid_column": null,
       "grid_gap": null,
       "grid_row": null,
       "grid_template_areas": null,
       "grid_template_columns": null,
       "grid_template_rows": null,
       "height": null,
       "justify_content": null,
       "justify_items": null,
       "left": null,
       "margin": null,
       "max_height": null,
       "max_width": null,
       "min_height": null,
       "min_width": null,
       "object_fit": null,
       "object_position": null,
       "order": null,
       "overflow": null,
       "padding": null,
       "right": null,
       "top": null,
       "visibility": null,
       "width": null
      }
     },
     "6c0b83a487e34aaeaad43d34237d00ad": {
      "model_module": "@jupyter-widgets/base",
      "model_module_version": "2.0.0",
      "model_name": "LayoutModel",
      "state": {
       "_model_module": "@jupyter-widgets/base",
       "_model_module_version": "2.0.0",
       "_model_name": "LayoutModel",
       "_view_count": null,
       "_view_module": "@jupyter-widgets/base",
       "_view_module_version": "2.0.0",
       "_view_name": "LayoutView",
       "align_content": null,
       "align_items": null,
       "align_self": null,
       "border_bottom": null,
       "border_left": null,
       "border_right": null,
       "border_top": null,
       "bottom": null,
       "display": null,
       "flex": null,
       "flex_flow": null,
       "grid_area": null,
       "grid_auto_columns": null,
       "grid_auto_flow": null,
       "grid_auto_rows": null,
       "grid_column": null,
       "grid_gap": null,
       "grid_row": null,
       "grid_template_areas": null,
       "grid_template_columns": null,
       "grid_template_rows": null,
       "height": null,
       "justify_content": null,
       "justify_items": null,
       "left": null,
       "margin": null,
       "max_height": null,
       "max_width": null,
       "min_height": null,
       "min_width": null,
       "object_fit": null,
       "object_position": null,
       "order": null,
       "overflow": null,
       "padding": null,
       "right": null,
       "top": null,
       "visibility": null,
       "width": null
      }
     },
     "d324927c755c4c7d942c4a53eaf121a3": {
      "model_module": "@jupyter-widgets/base",
      "model_module_version": "2.0.0",
      "model_name": "LayoutModel",
      "state": {
       "_model_module": "@jupyter-widgets/base",
       "_model_module_version": "2.0.0",
       "_model_name": "LayoutModel",
       "_view_count": null,
       "_view_module": "@jupyter-widgets/base",
       "_view_module_version": "2.0.0",
       "_view_name": "LayoutView",
       "align_content": null,
       "align_items": null,
       "align_self": null,
       "border_bottom": null,
       "border_left": null,
       "border_right": null,
       "border_top": null,
       "bottom": null,
       "display": null,
       "flex": null,
       "flex_flow": null,
       "grid_area": null,
       "grid_auto_columns": null,
       "grid_auto_flow": null,
       "grid_auto_rows": null,
       "grid_column": null,
       "grid_gap": null,
       "grid_row": null,
       "grid_template_areas": null,
       "grid_template_columns": null,
       "grid_template_rows": null,
       "height": null,
       "justify_content": null,
       "justify_items": null,
       "left": null,
       "margin": null,
       "max_height": null,
       "max_width": null,
       "min_height": null,
       "min_width": null,
       "object_fit": null,
       "object_position": null,
       "order": null,
       "overflow": null,
       "padding": null,
       "right": null,
       "top": null,
       "visibility": null,
       "width": null
      }
     },
     "d5d0f2e333354ee8b705bfc09a15a87c": {
      "model_module": "@jupyter-widgets/controls",
      "model_module_version": "2.0.0",
      "model_name": "HTMLModel",
      "state": {
       "_dom_classes": [],
       "_model_module": "@jupyter-widgets/controls",
       "_model_module_version": "2.0.0",
       "_model_name": "HTMLModel",
       "_view_count": null,
       "_view_module": "@jupyter-widgets/controls",
       "_view_module_version": "2.0.0",
       "_view_name": "HTMLView",
       "description": "",
       "description_allow_html": false,
       "layout": "IPY_MODEL_d324927c755c4c7d942c4a53eaf121a3",
       "placeholder": "​",
       "style": "IPY_MODEL_e4273ed747df43ba957333f6012b0115",
       "tabbable": null,
       "tooltip": null,
       "value": " 18/18 [01:39&lt;00:00,  8.50s/it]"
      }
     },
     "d6390ef9617742b584fedf9ffc01a8aa": {
      "model_module": "@jupyter-widgets/base",
      "model_module_version": "2.0.0",
      "model_name": "LayoutModel",
      "state": {
       "_model_module": "@jupyter-widgets/base",
       "_model_module_version": "2.0.0",
       "_model_name": "LayoutModel",
       "_view_count": null,
       "_view_module": "@jupyter-widgets/base",
       "_view_module_version": "2.0.0",
       "_view_name": "LayoutView",
       "align_content": null,
       "align_items": null,
       "align_self": null,
       "border_bottom": null,
       "border_left": null,
       "border_right": null,
       "border_top": null,
       "bottom": null,
       "display": null,
       "flex": null,
       "flex_flow": null,
       "grid_area": null,
       "grid_auto_columns": null,
       "grid_auto_flow": null,
       "grid_auto_rows": null,
       "grid_column": null,
       "grid_gap": null,
       "grid_row": null,
       "grid_template_areas": null,
       "grid_template_columns": null,
       "grid_template_rows": null,
       "height": null,
       "justify_content": null,
       "justify_items": null,
       "left": null,
       "margin": null,
       "max_height": null,
       "max_width": null,
       "min_height": null,
       "min_width": null,
       "object_fit": null,
       "object_position": null,
       "order": null,
       "overflow": null,
       "padding": null,
       "right": null,
       "top": null,
       "visibility": null,
       "width": null
      }
     },
     "e4273ed747df43ba957333f6012b0115": {
      "model_module": "@jupyter-widgets/controls",
      "model_module_version": "2.0.0",
      "model_name": "HTMLStyleModel",
      "state": {
       "_model_module": "@jupyter-widgets/controls",
       "_model_module_version": "2.0.0",
       "_model_name": "HTMLStyleModel",
       "_view_count": null,
       "_view_module": "@jupyter-widgets/base",
       "_view_module_version": "2.0.0",
       "_view_name": "StyleView",
       "background": null,
       "description_width": "",
       "font_size": null,
       "text_color": null
      }
     }
    },
    "version_major": 2,
    "version_minor": 0
   }
  }
 },
 "nbformat": 4,
 "nbformat_minor": 5
}