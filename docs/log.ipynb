{
 "cells": [
  {
   "cell_type": "markdown",
   "id": "92bcb855",
   "metadata": {
    "papermill": {
     "duration": 0.003711,
     "end_time": "2025-05-02T04:11:58.045593",
     "exception": false,
     "start_time": "2025-05-02T04:11:58.041882",
     "status": "completed"
    },
    "tags": []
   },
   "source": [
    "# MPIA Arxiv on Deck 2\n",
    "\n",
    "Contains the steps to produce the paper extractions."
   ]
  },
  {
   "cell_type": "code",
   "execution_count": 1,
   "id": "3a0d6e11",
   "metadata": {
    "execution": {
     "iopub.execute_input": "2025-05-02T04:11:58.053418Z",
     "iopub.status.busy": "2025-05-02T04:11:58.052761Z",
     "iopub.status.idle": "2025-05-02T04:11:58.395573Z",
     "shell.execute_reply": "2025-05-02T04:11:58.394830Z"
    },
    "papermill": {
     "duration": 0.348073,
     "end_time": "2025-05-02T04:11:58.396964",
     "exception": false,
     "start_time": "2025-05-02T04:11:58.048891",
     "status": "completed"
    },
    "tags": []
   },
   "outputs": [],
   "source": [
    "# Imports\n",
    "import os\n",
    "from IPython.display import Markdown, display\n",
    "from tqdm.notebook import tqdm\n",
    "import warnings\n",
    "from PIL import Image \n",
    "import re\n",
    "\n",
    "# requires arxiv_on_deck_2\n",
    "\n",
    "from arxiv_on_deck_2.arxiv2 import (get_new_papers, \n",
    "                                    get_paper_from_identifier,\n",
    "                                    retrieve_document_source, \n",
    "                                    get_markdown_badge)\n",
    "from arxiv_on_deck_2 import (latex,\n",
    "                             latex_bib,\n",
    "                             mpia,\n",
    "                             highlight_authors_in_list)\n",
    "\n",
    "# Sometimes images are really big\n",
    "Image.MAX_IMAGE_PIXELS = 1000000000 "
   ]
  },
  {
   "cell_type": "code",
   "execution_count": 2,
   "id": "22aa9d44",
   "metadata": {
    "execution": {
     "iopub.execute_input": "2025-05-02T04:11:58.404575Z",
     "iopub.status.busy": "2025-05-02T04:11:58.404064Z",
     "iopub.status.idle": "2025-05-02T04:11:58.412328Z",
     "shell.execute_reply": "2025-05-02T04:11:58.411749Z"
    },
    "papermill": {
     "duration": 0.013123,
     "end_time": "2025-05-02T04:11:58.413344",
     "exception": false,
     "start_time": "2025-05-02T04:11:58.400221",
     "status": "completed"
    },
    "tags": []
   },
   "outputs": [],
   "source": [
    "# Some useful definitions.\n",
    "\n",
    "class AffiliationWarning(UserWarning):\n",
    "    pass\n",
    "\n",
    "class AffiliationError(RuntimeError):\n",
    "    pass\n",
    "\n",
    "def validation(source: str):\n",
    "    \"\"\"Raises error paper during parsing of source file\n",
    "    \n",
    "    Allows checks before parsing TeX code.\n",
    "    \n",
    "    Raises AffiliationWarning\n",
    "    \"\"\"\n",
    "    check = mpia.affiliation_verifications(source, verbose=True)\n",
    "    if check is not True:\n",
    "        raise AffiliationError(\"mpia.affiliation_verifications: \" + check)\n",
    "\n",
    "        \n",
    "warnings.simplefilter('always', AffiliationWarning)\n",
    "\n",
    "\n",
    "def get_markdown_qrcode(paper_id: str):\n",
    "    \"\"\" Generate a qrcode to the arxiv page using qrserver.com\n",
    "    \n",
    "    :param paper: Arxiv paper\n",
    "    :returns: markdown text\n",
    "    \"\"\"\n",
    "    url = r\"https://api.qrserver.com/v1/create-qr-code/?size=100x100&data=\"\n",
    "    txt = f\"\"\"<img src={url}\"https://arxiv.org/abs/{paper_id}\">\"\"\"\n",
    "    txt = '<div id=\"qrcode\">' + txt + '</div>'\n",
    "    return txt\n",
    "\n",
    "\n",
    "def clean_non_western_encoded_characters_commands(text: str) -> str:\n",
    "    \"\"\" Remove non-western encoded characters from a string\n",
    "    List may need to grow.\n",
    "    \n",
    "    :param text: the text to clean\n",
    "    :return: the cleaned text\n",
    "    \"\"\"\n",
    "    text = re.sub(r\"(\\\\begin{CJK}{UTF8}{gbsn})(.*?)(\\\\end{CJK})\", r\"\\2\", text)\n",
    "    return text\n",
    "\n",
    "\n",
    "def get_initials(name: str) -> str:\n",
    "    \"\"\" Get the short name, e.g., A.-B. FamName\n",
    "    :param name: full name\n",
    "    :returns: initials\n",
    "    \"\"\"\n",
    "    initials = []\n",
    "    # account for non western names often in ()\n",
    "    if '(' in name:\n",
    "        name = clean_non_western_encoded_characters_commands(name)\n",
    "        suffix = re.findall(r\"\\((.*?)\\)\", name)[0]\n",
    "        name = name.replace(f\"({suffix})\", '')\n",
    "    else:\n",
    "        suffix = ''\n",
    "    split = name.split()\n",
    "    for token in split[:-1]:\n",
    "        if '-' in token:\n",
    "            current = '-'.join([k[0] + '.' for k in token.split('-')])\n",
    "        else:\n",
    "            current = token[0] + '.'\n",
    "        initials.append(current)\n",
    "    initials.append(split[-1].strip())\n",
    "    if suffix:\n",
    "        initials.append(f\"({suffix})\")\n",
    "    return ' '.join(initials)"
   ]
  },
  {
   "cell_type": "markdown",
   "id": "14bd6310",
   "metadata": {
    "papermill": {
     "duration": 0.002851,
     "end_time": "2025-05-02T04:11:58.419136",
     "exception": false,
     "start_time": "2025-05-02T04:11:58.416285",
     "status": "completed"
    },
    "tags": []
   },
   "source": [
    "## get list of arxiv paper candidates\n",
    "\n",
    "We use the MPIA mitarbeiter list webpage from mpia.de to get author names\n",
    "We then get all new papers from Arxiv and match authors"
   ]
  },
  {
   "cell_type": "code",
   "execution_count": 3,
   "id": "7ea813a8",
   "metadata": {
    "execution": {
     "iopub.execute_input": "2025-05-02T04:11:58.426028Z",
     "iopub.status.busy": "2025-05-02T04:11:58.425532Z",
     "iopub.status.idle": "2025-05-02T04:12:21.259256Z",
     "shell.execute_reply": "2025-05-02T04:12:21.258533Z"
    },
    "papermill": {
     "duration": 22.838577,
     "end_time": "2025-05-02T04:12:21.260542",
     "exception": false,
     "start_time": "2025-05-02T04:11:58.421965",
     "status": "completed"
    },
    "tags": []
   },
   "outputs": [],
   "source": [
    "# deal with the author list and edge cases of people that cannot be consistent on their name  \n",
    "\n",
    "def filter_non_scientists(name: str) -> bool:\n",
    "    \"\"\" Loose filter on expected authorships\n",
    "\n",
    "    removing IT, administration, technical staff\n",
    "    :param name: name\n",
    "    :returns: False if name is not a scientist\n",
    "    \"\"\"\n",
    "    remove_list = ['Licht', 'Binroth', 'Witzel', 'Jordan',\n",
    "                   'Zähringer', 'Scheerer', 'Hoffmann', 'Düe',\n",
    "                   'Hellmich', 'Enkler-Scharpegge', 'Witte-Nguy',\n",
    "                   'Dehen', 'Beckmann', 'Jager', 'Jäger'\n",
    "                  ]\n",
    "\n",
    "    for k in remove_list:\n",
    "        if k in name:\n",
    "            return False\n",
    "    return True\n",
    "\n",
    "def add_author_to_list(author_list: list) -> list:\n",
    "    \"\"\" Add author to list if not already in list\n",
    "    \n",
    "    :param author: author name\n",
    "    :param author_list: list of authors\n",
    "    :returns: updated list of authors\n",
    "    \"\"\"\n",
    "    add_list = ['T. Henning']\n",
    "\n",
    "    for author in add_list:\n",
    "        if author not in author_list:\n",
    "            author_list.append(author)\n",
    "    return author_list\n",
    "\n",
    "# get list from MPIA website\n",
    "# filter for non-scientists (mpia.get_mpia_mitarbeiter_list() does some filtering)\n",
    "mpia_authors = [k[1] for k in mpia.get_mpia_mitarbeiter_list() if filter_non_scientists(k[1])]\n",
    "# add some missing author because of inconsistencies in their MPIA name and author name on papers\n",
    "mpia_authors = add_author_to_list(mpia_authors)"
   ]
  },
  {
   "cell_type": "code",
   "execution_count": 4,
   "id": "2645e73a",
   "metadata": {
    "execution": {
     "iopub.execute_input": "2025-05-02T04:12:21.268088Z",
     "iopub.status.busy": "2025-05-02T04:12:21.267563Z",
     "iopub.status.idle": "2025-05-02T04:12:21.836274Z",
     "shell.execute_reply": "2025-05-02T04:12:21.835540Z"
    },
    "papermill": {
     "duration": 0.573536,
     "end_time": "2025-05-02T04:12:21.837375",
     "exception": false,
     "start_time": "2025-05-02T04:12:21.263839",
     "status": "completed"
    },
    "tags": []
   },
   "outputs": [
    {
     "name": "stdout",
     "output_type": "stream",
     "text": [
      "E. Bañados  ->  E. Bañados  |  ['E. Bañados']\n",
      "F. Walter  ->  F. Walter  |  ['F. Walter']\n",
      "H. Baehr  ->  H. Baehr  |  ['H. Baehr']\n",
      "Arxiv has 38 new papers today\n",
      "          2 with possible author matches\n"
     ]
    }
   ],
   "source": [
    "new_papers = get_new_papers()\n",
    "# add manual references\n",
    "add_paper_refs = []\n",
    "new_papers.extend([get_paper_from_identifier(k) for k in add_paper_refs])\n",
    "\n",
    "def robust_call(fn, value, *args, **kwargs):\n",
    "    try:\n",
    "        return fn(value, *args, **kwargs)\n",
    "    except Exception:\n",
    "        return value\n",
    "\n",
    "candidates = []\n",
    "for paperk in new_papers:\n",
    "    # Check author list with their initials\n",
    "    normed_author_list = [robust_call(mpia.get_initials, k) for k in paperk['authors']]\n",
    "    hl_authors = highlight_authors_in_list(normed_author_list, mpia_authors, verbose=True)\n",
    "    matches = [(hl, orig) for hl, orig in zip(hl_authors, paperk['authors']) if 'mark' in hl]\n",
    "    paperk['authors'] = hl_authors\n",
    "    if matches:\n",
    "        # only select paper if an author matched our list\n",
    "        candidates.append(paperk)\n",
    "print(\"\"\"Arxiv has {0:,d} new papers today\"\"\".format(len(new_papers)))        \n",
    "print(\"\"\"          {0:,d} with possible author matches\"\"\".format(len(candidates)))"
   ]
  },
  {
   "cell_type": "markdown",
   "id": "3543b34a",
   "metadata": {
    "papermill": {
     "duration": 0.003255,
     "end_time": "2025-05-02T04:12:21.844111",
     "exception": false,
     "start_time": "2025-05-02T04:12:21.840856",
     "status": "completed"
    },
    "tags": []
   },
   "source": [
    "# Parse sources and generate relevant outputs\n",
    "\n",
    "From the candidates, we do the following steps:\n",
    "* get their tarball from ArXiv (and extract data)\n",
    "* find the main .tex file: find one with \\documentclass{...} (sometimes it's non trivial)\n",
    "* Check affiliations with :func:`validation`, which uses :func:`mpia.affiliation_verifications`\n",
    "* If passing the affiliations: we parse the .tex source\n",
    "   * inject sub-documents into the main (flatten the main document)\n",
    "   * parse structure, extract information (title, abstract, authors, figures...)\n",
    "   * handles `\\graphicspath` if provided\n",
    "* Generate the .md document."
   ]
  },
  {
   "cell_type": "code",
   "execution_count": 5,
   "id": "9576b79e",
   "metadata": {
    "execution": {
     "iopub.execute_input": "2025-05-02T04:12:21.851855Z",
     "iopub.status.busy": "2025-05-02T04:12:21.851197Z",
     "iopub.status.idle": "2025-05-02T04:12:42.065301Z",
     "shell.execute_reply": "2025-05-02T04:12:42.064518Z"
    },
    "papermill": {
     "duration": 20.219288,
     "end_time": "2025-05-02T04:12:42.066496",
     "exception": false,
     "start_time": "2025-05-02T04:12:21.847208",
     "status": "completed"
    },
    "scrolled": false,
    "tags": []
   },
   "outputs": [
    {
     "data": {
      "application/vnd.jupyter.widget-view+json": {
       "model_id": "bc482a099a3d45eda4de5924c5feff41",
       "version_major": 2,
       "version_minor": 0
      },
      "text/plain": [
       "  0%|          | 0/2 [00:00<?, ?it/s]"
      ]
     },
     "metadata": {},
     "output_type": "display_data"
    },
    {
     "name": "stdout",
     "output_type": "stream",
     "text": [
      "Retrieving document from  https://arxiv.org/e-print/2505.00080\n"
     ]
    },
    {
     "name": "stdout",
     "output_type": "stream",
     "text": [
      "extracting tarball to tmp_2505.00080..."
     ]
    },
    {
     "name": "stdout",
     "output_type": "stream",
     "text": [
      " done.\n"
     ]
    },
    {
     "name": "stdout",
     "output_type": "stream",
     "text": [
      "F. Walter  ->  F. Walter  |  ['F. Walter']\n"
     ]
    },
    {
     "name": "stdout",
     "output_type": "stream",
     "text": [
      "Found 54 bibliographic references in tmp_2505.00080/main.bbl.\n",
      "Error retrieving bib data for farina_mapping_2017: 'author'\n",
      "Retrieving document from  https://arxiv.org/e-print/2505.00363\n"
     ]
    },
    {
     "name": "stdout",
     "output_type": "stream",
     "text": [
      "extracting tarball to tmp_2505.00363..."
     ]
    },
    {
     "name": "stdout",
     "output_type": "stream",
     "text": [
      " done.\n"
     ]
    },
    {
     "name": "stdout",
     "output_type": "stream",
     "text": [
      "Found 67 bibliographic references in tmp_2505.00363/shearing_particles.bbl.\n"
     ]
    }
   ],
   "source": [
    "documents = []\n",
    "failed = []\n",
    "for paper in tqdm(candidates):\n",
    "    # debug crap\n",
    "    paper['identifier'] = paper['identifier'].lower().replace('arxiv:', '').replace(r'\\n', '').strip()\n",
    "    paper_id = paper['identifier']\n",
    "    \n",
    "    folder = f'tmp_{paper_id}'\n",
    "\n",
    "    try:\n",
    "        if not os.path.isdir(folder):\n",
    "            folder = retrieve_document_source(f\"{paper_id}\", f'tmp_{paper_id}')\n",
    "        \n",
    "        try:\n",
    "            doc = latex.LatexDocument(folder, validation=validation)    \n",
    "        except AffiliationError as affilerror:\n",
    "            msg = f\"ArXiv:{paper_id:s} is not an MPIA paper... \" + str(affilerror)\n",
    "            failed.append((paper, \"affiliation error: \" + str(affilerror) ))\n",
    "            continue\n",
    "        \n",
    "        # Hack because sometimes author parsing does not work well\n",
    "        if (len(doc.authors) != len(paper['authors'])):\n",
    "            doc._authors = paper['authors']\n",
    "        else:\n",
    "            # highlight authors (FIXME: doc.highlight_authors)\n",
    "            # done on arxiv paper already\n",
    "            doc._authors = highlight_authors_in_list(\n",
    "                [get_initials(k) for k in doc.authors], \n",
    "                mpia_authors, verbose=True)\n",
    "        if (doc.abstract) in (None, ''):\n",
    "            doc._abstract = paper['abstract']\n",
    "            \n",
    "        doc.comment = (get_markdown_badge(paper_id) + \n",
    "                       \"<mark>Appeared on: \" + paper['date'] + \"</mark> - \")\n",
    "        if paper['comments']:\n",
    "            doc.comment += \" _\" + paper['comments'] + \"_\"\n",
    "        \n",
    "        full_md = doc.generate_markdown_text()\n",
    "        \n",
    "        full_md += get_markdown_qrcode(paper_id)\n",
    "        \n",
    "        # replace citations\n",
    "        try:\n",
    "            bibdata = latex_bib.LatexBib.from_doc(doc)\n",
    "            full_md = latex_bib.replace_citations(full_md, bibdata)\n",
    "        except Exception as e:\n",
    "            print(\"Issues with the citations\")\n",
    "            print(e)\n",
    "        \n",
    "        documents.append((paper_id, full_md))\n",
    "    except Exception as e:\n",
    "        warnings.warn(latex.LatexWarning(f\"{paper_id:s} did not run properly\\n\" +\n",
    "                                         str(e)\n",
    "                                        ))\n",
    "        failed.append((paper, \"latex error \" + str(e)))"
   ]
  },
  {
   "cell_type": "markdown",
   "id": "2505a25c",
   "metadata": {
    "papermill": {
     "duration": 0.003519,
     "end_time": "2025-05-02T04:12:42.074005",
     "exception": false,
     "start_time": "2025-05-02T04:12:42.070486",
     "status": "completed"
    },
    "tags": []
   },
   "source": [
    "### Export the logs\n",
    "\n",
    "Throughout, we also keep track of the logs per paper. see `logs-{today date}.md` "
   ]
  },
  {
   "cell_type": "code",
   "execution_count": 6,
   "id": "d733828a",
   "metadata": {
    "execution": {
     "iopub.execute_input": "2025-05-02T04:12:42.082264Z",
     "iopub.status.busy": "2025-05-02T04:12:42.081700Z",
     "iopub.status.idle": "2025-05-02T04:12:42.143232Z",
     "shell.execute_reply": "2025-05-02T04:12:42.142543Z"
    },
    "papermill": {
     "duration": 0.066855,
     "end_time": "2025-05-02T04:12:42.144341",
     "exception": false,
     "start_time": "2025-05-02T04:12:42.077486",
     "status": "completed"
    },
    "scrolled": false,
    "tags": []
   },
   "outputs": [
    {
     "data": {
      "text/markdown": [
       "## Successful papers"
      ],
      "text/plain": [
       "<IPython.core.display.Markdown object>"
      ]
     },
     "metadata": {},
     "output_type": "display_data"
    },
    {
     "data": {
      "text/markdown": [
       "\n",
       "|||\n",
       "|---:|:---|\n",
       "| [![arXiv](https://img.shields.io/badge/arXiv-2505.00080-b31b1b.svg)](https://arxiv.org/abs/2505.00080) | **Quasar lifetime measurements from extended Ly$α$ nebulae at $z\\sim 6$**  |\n",
       "|| D. Ďurovčíková, et al. -- incl., <mark>E. Bañados</mark>, <mark>F. Walter</mark> |\n",
       "|*Appeared on*| *2025-05-02*|\n",
       "|*Comments*| *14 pages, 7 figures*|\n",
       "|**Abstract**|            The existence of billion-solar-mass black holes hosted in luminous quasars within the first gigayear of cosmic history poses a challenge to our understanding of supermassive black hole (SMBH) growth. The problem is further exacerbated by the very short quasar lifetimes of $t_{\\rm Q}\\lesssim 10^6$ years, as derived from the extent of their proximity zone (PZ) sizes observed in the quasars' rest-UV spectra. However, the quasar lifetime estimates based on the extents of the proximity zones may be underestimated, as time-variable obscuration effects might have limited the quasars' emission along our sightline in the past. In this work, we present independent quasar lifetime measurements for six quasars at $z \\sim 6$ leveraging the extended nebular emission perpendicular to our line-of-sight. We use observations from the Very Large Telescope/Multi-Unit Spectroscopic Explorer (MUSE) to search for extended Ly$\\alpha$ emission in the circumgalactic medium around quasars with small proximity zones and estimate their lifetimes as the light travel time between the SMBH and the outer edge of the nebula. We find agreement between the independent lifetime estimates. For one object we find a proximate absorption system prematurely truncating the extent of the quasar's proximity zone, which thus results in an expected discrepancy between the lifetime estimates. Our results provide further evidence that the quasars' current accretion episode has only recently begun, challenging our models of SMBH growth.         |"
      ],
      "text/plain": [
       "[2505.00080] Quasar lifetime measurements from extended Ly$α$ nebulae at $z\\sim 6$\n",
       "\tD. Ďurovčíková, et al. -- incl., <mark>E. Bañados</mark>, <mark>F. Walter</mark>"
      ]
     },
     "metadata": {},
     "output_type": "display_data"
    },
    {
     "data": {
      "text/markdown": [
       "\n",
       "|||\n",
       "|---:|:---|\n",
       "| [![arXiv](https://img.shields.io/badge/arXiv-2505.00363-b31b1b.svg)](https://arxiv.org/abs/2505.00363) | **Dust density enhancements and the direct formation of planetary cores in gravitationally unstable discs**  |\n",
       "|| K. Rice, et al. -- incl., <mark>H. Baehr</mark> |\n",
       "|*Appeared on*| *2025-05-02*|\n",
       "|*Comments*| *15 pages, 11 figures, accepted for publication in Monthly Notices of the Royal Astronomical Society*|\n",
       "|**Abstract**|            Planet formation via core accretion involves the growth of solids that can accumulate to form planetary cores. There are a number of barriers to the collisional growth of solids in protostellar discs, one of which is the drift, or metre, barrier. Solid particles experience a drag force that will tend to cause them to drift towards the central star in smooth, laminar discs, potentially removing particles before they grow large enough to decouple from the disc gas. Here we present 3-dimensional, shearing box simulations that explore the dynamical evolution of solids in a protostellar disc that is massive enough for the gravitational instability to manifest as spiral density waves. We expand on earlier work by considering a range of particle sizes and find that the spirals can still enhance the local solid density by more than an order of magnitude, potentially aiding grain growth. Furthermore, if solid particles have enough mass, and the particle size distribution extends to sufficiently large particle sizes, the solid component of the disc can undergo direct gravitational collapse to form bound clumps with masses typically between $1$ and $10$ M$_\\oplus$. Thus, the concentration of dust in a self-gravitating disc could bypass the size barrier for collisional growth and directly form planetary cores early in the lifetime of the disc.         |"
      ],
      "text/plain": [
       "[2505.00363] Dust density enhancements and the direct formation of planetary cores in gravitationally unstable discs\n",
       "\tK. Rice, et al. -- incl., <mark>H. Baehr</mark>"
      ]
     },
     "metadata": {},
     "output_type": "display_data"
    },
    {
     "data": {
      "text/markdown": [
       "## Failed papers"
      ],
      "text/plain": [
       "<IPython.core.display.Markdown object>"
      ]
     },
     "metadata": {},
     "output_type": "display_data"
    }
   ],
   "source": [
    "import datetime\n",
    "today = str(datetime.date.today())\n",
    "logfile = f\"_build/html/logs/log-{today}.md\"\n",
    "\n",
    "\n",
    "with open(logfile, 'w') as logs:\n",
    "    # Success\n",
    "    logs.write(f'# Arxiv on Deck 2: Logs - {today}\\n\\n')\n",
    "    logs.write(\"\"\"* Arxiv had {0:,d} new papers\\n\"\"\".format(len(new_papers)))\n",
    "    logs.write(\"\"\"    * {0:,d} with possible author matches\\n\\n\"\"\".format(len(candidates)))\n",
    "    logs.write(\"## Sucessful papers\\n\\n\")\n",
    "    display(Markdown(\"## Successful papers\"))\n",
    "    success = [k[0] for k in documents]\n",
    "    for candid in candidates:\n",
    "        if candid['identifier'].split(':')[-1] in success:\n",
    "            display(candid)\n",
    "            logs.write(candid.generate_markdown_text() + '\\n\\n')\n",
    "\n",
    "    ## failed\n",
    "    logs.write(\"## Failed papers\\n\\n\")\n",
    "    display(Markdown(\"## Failed papers\"))\n",
    "    failed = sorted(failed, key=lambda x: x[1])\n",
    "    current_reason = \"\"\n",
    "    for paper, reason in failed:\n",
    "        if 'affiliation' in reason:\n",
    "            color = 'green'\n",
    "        else:\n",
    "            color = 'red'\n",
    "        data = Markdown(\n",
    "                paper.generate_markdown_text() + \n",
    "                f'\\n|<p style=\"color:{color:s}\"> **ERROR** </p>| <p style=\"color:{color:s}\">{reason:s}</p> |'\n",
    "               )\n",
    "        if reason != current_reason:\n",
    "            logs.write(f'### {reason:s} \\n\\n')\n",
    "            current_reason = reason\n",
    "        logs.write(data.data + '\\n\\n')\n",
    "        \n",
    "        # only display here the important errors (all in logs)\n",
    "        # if color in ('red',):\n",
    "        display(data)"
   ]
  },
  {
   "cell_type": "markdown",
   "id": "472d20ee",
   "metadata": {
    "papermill": {
     "duration": 0.003988,
     "end_time": "2025-05-02T04:12:42.152615",
     "exception": false,
     "start_time": "2025-05-02T04:12:42.148627",
     "status": "completed"
    },
    "tags": []
   },
   "source": [
    "## Export documents\n",
    "\n",
    "We now write the .md files and export relevant images"
   ]
  },
  {
   "cell_type": "code",
   "execution_count": 7,
   "id": "d426aed9",
   "metadata": {
    "execution": {
     "iopub.execute_input": "2025-05-02T04:12:42.162123Z",
     "iopub.status.busy": "2025-05-02T04:12:42.161534Z",
     "iopub.status.idle": "2025-05-02T04:12:42.168779Z",
     "shell.execute_reply": "2025-05-02T04:12:42.168258Z"
    },
    "papermill": {
     "duration": 0.013092,
     "end_time": "2025-05-02T04:12:42.169741",
     "exception": false,
     "start_time": "2025-05-02T04:12:42.156649",
     "status": "completed"
    },
    "tags": []
   },
   "outputs": [],
   "source": [
    "def export_markdown_summary(md: str, md_fname:str, directory: str):\n",
    "    \"\"\"Export MD document and associated relevant images\"\"\"\n",
    "    import os\n",
    "    import shutil\n",
    "    import re\n",
    "\n",
    "    if (os.path.exists(directory) and not os.path.isdir(directory)):\n",
    "        raise RuntimeError(f\"a non-directory file exists with name {directory:s}\")\n",
    "\n",
    "    if (not os.path.exists(directory)):\n",
    "        print(f\"creating directory {directory:s}\")\n",
    "        os.mkdir(directory)\n",
    "\n",
    "    fig_fnames = (re.compile(r'\\[Fig.*\\]\\((.*)\\)').findall(md) + \n",
    "                  re.compile(r'\\<img src=\"([^>\\s]*)\"[^>]*/>').findall(md))\n",
    "    print(\"found figures\", fig_fnames)\n",
    "    for fname in fig_fnames:\n",
    "        if 'http' in fname:\n",
    "            # No need to copy online figures\n",
    "            continue\n",
    "        if not os.path.exists(fname):\n",
    "            print(\"file not found\", fname)\n",
    "            continue\n",
    "        print(\"copying \", fname, \"to\", directory)\n",
    "        destdir = os.path.join(directory, os.path.dirname(fname))\n",
    "        destfname = os.path.join(destdir, os.path.basename(fname))\n",
    "        try:\n",
    "            os.makedirs(destdir)\n",
    "        except FileExistsError:\n",
    "            pass\n",
    "        shutil.copy(fname, destfname)\n",
    "    with open(os.path.join(directory, md_fname), 'w') as fout:\n",
    "        fout.write(md)\n",
    "    print(\"exported in \", os.path.join(directory, md_fname))\n",
    "    [print(\"    + \" + os.path.join(directory,fk)) for fk in fig_fnames]"
   ]
  },
  {
   "cell_type": "code",
   "execution_count": 8,
   "id": "014d04a4",
   "metadata": {
    "execution": {
     "iopub.execute_input": "2025-05-02T04:12:42.178647Z",
     "iopub.status.busy": "2025-05-02T04:12:42.178445Z",
     "iopub.status.idle": "2025-05-02T04:12:42.192456Z",
     "shell.execute_reply": "2025-05-02T04:12:42.191844Z"
    },
    "papermill": {
     "duration": 0.019607,
     "end_time": "2025-05-02T04:12:42.193517",
     "exception": false,
     "start_time": "2025-05-02T04:12:42.173910",
     "status": "completed"
    },
    "tags": []
   },
   "outputs": [
    {
     "name": "stdout",
     "output_type": "stream",
     "text": [
      "found figures ['tmp_2505.00080/./SB_panel_v2.png', 'tmp_2505.00080/./J0100+2802_MUSE_1215.67_panel.png', 'tmp_2505.00080/./J0330-4025_MUSE_1215.67_panel.png', 'tmp_2505.00080/./J158-14_MUSE_1215.67_panel.png', 'tmp_2505.00080/./J0100+2802_channel_line_mean.png', 'tmp_2505.00080/./J0330-4025_channel_line_mean.png', 'tmp_2505.00080/./J158-14_channel_line_mean.png']\n",
      "copying  tmp_2505.00080/./SB_panel_v2.png to _build/html/\n",
      "copying  tmp_2505.00080/./J0100+2802_MUSE_1215.67_panel.png to _build/html/\n",
      "copying  tmp_2505.00080/./J0330-4025_MUSE_1215.67_panel.png to _build/html/\n",
      "copying  tmp_2505.00080/./J158-14_MUSE_1215.67_panel.png to _build/html/\n",
      "copying  tmp_2505.00080/./J0100+2802_channel_line_mean.png to _build/html/\n",
      "copying  tmp_2505.00080/./J0330-4025_channel_line_mean.png to _build/html/\n",
      "copying  tmp_2505.00080/./J158-14_channel_line_mean.png to _build/html/\n",
      "exported in  _build/html/2505.00080.md\n",
      "    + _build/html/tmp_2505.00080/./SB_panel_v2.png\n",
      "    + _build/html/tmp_2505.00080/./J0100+2802_MUSE_1215.67_panel.png\n",
      "    + _build/html/tmp_2505.00080/./J0330-4025_MUSE_1215.67_panel.png\n",
      "    + _build/html/tmp_2505.00080/./J158-14_MUSE_1215.67_panel.png\n",
      "    + _build/html/tmp_2505.00080/./J0100+2802_channel_line_mean.png\n",
      "    + _build/html/tmp_2505.00080/./J0330-4025_channel_line_mean.png\n",
      "    + _build/html/tmp_2505.00080/./J158-14_channel_line_mean.png\n",
      "found figures ['tmp_2505.00363/./Figures/dustdens_multi_Fig6.png', 'tmp_2505.00363/./Figures/gasdens_slice_multi.png', 'tmp_2505.00363/./Figures/dustdens_multi_Fig2.png']\n",
      "copying  tmp_2505.00363/./Figures/dustdens_multi_Fig6.png to _build/html/\n",
      "copying  tmp_2505.00363/./Figures/gasdens_slice_multi.png to _build/html/\n",
      "copying  tmp_2505.00363/./Figures/dustdens_multi_Fig2.png to _build/html/\n",
      "exported in  _build/html/2505.00363.md\n",
      "    + _build/html/tmp_2505.00363/./Figures/dustdens_multi_Fig6.png\n",
      "    + _build/html/tmp_2505.00363/./Figures/gasdens_slice_multi.png\n",
      "    + _build/html/tmp_2505.00363/./Figures/dustdens_multi_Fig2.png\n"
     ]
    }
   ],
   "source": [
    "for paper_id, md in documents:\n",
    "    export_markdown_summary(md, f\"{paper_id:s}.md\", '_build/html/')"
   ]
  },
  {
   "cell_type": "markdown",
   "id": "f087a0a7",
   "metadata": {
    "papermill": {
     "duration": 0.0045,
     "end_time": "2025-05-02T04:12:42.204722",
     "exception": false,
     "start_time": "2025-05-02T04:12:42.200222",
     "status": "completed"
    },
    "tags": []
   },
   "source": [
    "## Display the papers\n",
    "\n",
    "Not necessary but allows for a quick check."
   ]
  },
  {
   "cell_type": "code",
   "execution_count": 9,
   "id": "fd25f625",
   "metadata": {
    "execution": {
     "iopub.execute_input": "2025-05-02T04:12:42.213767Z",
     "iopub.status.busy": "2025-05-02T04:12:42.213510Z",
     "iopub.status.idle": "2025-05-02T04:12:42.219612Z",
     "shell.execute_reply": "2025-05-02T04:12:42.219069Z"
    },
    "papermill": {
     "duration": 0.011858,
     "end_time": "2025-05-02T04:12:42.220639",
     "exception": false,
     "start_time": "2025-05-02T04:12:42.208781",
     "status": "completed"
    },
    "scrolled": false,
    "tags": []
   },
   "outputs": [
    {
     "data": {
      "text/markdown": [
       "<div class=\"macros\" style=\"visibility:hidden;\">\n",
       "$\\newcommand{\\ensuremath}{}$\n",
       "$\\newcommand{\\xspace}{}$\n",
       "$\\newcommand{\\object}[1]{\\texttt{#1}}$\n",
       "$\\newcommand{\\farcs}{{.}''}$\n",
       "$\\newcommand{\\farcm}{{.}'}$\n",
       "$\\newcommand{\\arcsec}{''}$\n",
       "$\\newcommand{\\arcmin}{'}$\n",
       "$\\newcommand{\\ion}[2]{#1#2}$\n",
       "$\\newcommand{\\textsc}[1]{\\textrm{#1}}$\n",
       "$\\newcommand{\\hl}[1]{\\textrm{#1}}$\n",
       "$\\newcommand{\\footnote}[1]{}$\n",
       "$\\newcommand{\\vdag}{(v)^\\dagger}$\n",
       "$\\newcommand$\n",
       "$\\newcommand$\n",
       "$\\newcommand{\\msol}{M_\\odot}$\n",
       "$\\newcommand{\\vxhi}{\\bar{x}_{\\rm HI}}$\n",
       "$\\newcommand{\\logtq}{\\log{t_{\\rm Q}}}$\n",
       "$\\newcommand{\\zbar}{\\langle z \\rangle }$\n",
       "$\\newcommand{\\chimp}{{\\rm c Mpc}/h}$\n",
       "$\\newcommand{\\lya}{Ly\\alpha}$\n",
       "$\\newcommand{\\lyb}{Ly\\beta}$\n",
       "$\\newcommand{\\lyc}{Ly\\gamma}$\n",
       "$\\newcommand{\\ciisf}{[C II]}$\n",
       "$\\newcommand{\\cii}{[C{\\small II}]}$\n",
       "$\\newcommand{\\civ}{C{\\small IV}}$\n",
       "$\\newcommand{\\mgii}{Mg{\\small II}}$\n",
       "$\\newcommand{\\oiii}{[O{\\small III}]}$\n",
       "$\\newcommand{\\ha}{H\\alpha}$\n",
       "$\\newcommand{\\ddu}[1]{\\texttt{\\color{red}[DD: #1]}}$\n",
       "$\\newcommand{\\change}[1]{\\textbf{#1}}$</div>\n",
       "\n",
       "\n",
       "\n",
       "<div id=\"title\">\n",
       "\n",
       "# Quasar lifetime measurements from extended $\\lya$ nebulae at $z\\sim 6$\n",
       "\n",
       "</div>\n",
       "<div id=\"comments\">\n",
       "\n",
       "[![arXiv](https://img.shields.io/badge/arXiv-2505.00080-b31b1b.svg)](https://arxiv.org/abs/2505.00080)<mark>Appeared on: 2025-05-02</mark> -  _14 pages, 7 figures_\n",
       "\n",
       "</div>\n",
       "<div id=\"authors\">\n",
       "\n",
       "D. {. D. c}{í}kov{á}, et al. -- incl., <mark>F. Walter</mark>\n",
       "\n",
       "</div>\n",
       "<div id=\"abstract\">\n",
       "\n",
       "**Abstract:** The existence of billion-solar-mass black holes hosted in luminous quasars within the first gigayear of cosmic history poses a challenge to our understanding of supermassive black hole (SMBH) growth. The problem is further exacerbated by the very short quasar lifetimes of $t_{\\rm Q}\\lesssim 10^6$ years, as derived from the extent of their proximity zone (PZ) sizes observed in the quasars' rest-UV spectra. However, the quasar lifetime estimates based on the extents of the proximity zones may be underestimated, as time-variable obscuration effects might have limited the quasars' emission along our sightline in the past.In this work, we present independent quasar lifetime measurements for six quasars at $z \\sim 6$ leveraging the extended nebular emission _perpendicular_ to our line-of-sight. We use observations from the Very Large Telescope/Multi-Unit Spectroscopic Explorer (MUSE) to search for extended $\\lya$ emission in the circumgalactic medium around quasars with small proximity zones and estimate their lifetimes as the light travel time between the SMBH and the outer edge of the nebula. We find agreement between the independent lifetime estimates. For one object we find a proximate absorption system prematurely truncating the extent of the quasar's proximity zone, which thus results in an expected discrepancy between the lifetime estimates. Our results provide further evidence that the quasars' current accretion episode has only recently begun, challenging our models of SMBH growth.\n",
       "\n",
       "</div>\n",
       "\n",
       "<div id=\"div_fig1\">\n",
       "\n",
       "<img src=\"tmp_2505.00080/./SB_panel_v2.png\" alt=\"Fig4\" width=\"100%\"/>\n",
       "\n",
       "**Figure 4. -** The extracted surface brightness profiles for the three quasars with nebular detections as a function of both the radial offset and the light travel time from the quasar. The black data points correspond to the surface brightness profile of the median nebula, as described in \\S \\ref{sec:nebulae}, where we only take into account the nebular pixels so as not to dilute signal at the edge of the nebula. We also show the surface brightness profile calculated via annular averaging of the full narrowband image of the detected nebula as gray data points to illustrate this signal dilution. In the background, we display the median stacked surface brightness profile of $z>5.7$ quasars from farina_mapping_2017 for comparison. The red dotted lines display the $16$th and $84$th percentile spread of the nebular extent when the nebular search parameters are varied. The quasar lifetime, $t_{\\rm Q}^{\\rm Ly\\alpha}$, is measured as the light travel time from the quasar to the outer edge of the detected nebula in the transverse direction. Note that the horizontal error bars represent the binning of the annular apertures used to calculate the surface brightness. We also display the $1\\sigma$(dark gray) and $2\\sigma$(light gray) background derived from the sky variance in the outermost annular aperture. (*fig:SB*)\n",
       "\n",
       "</div>\n",
       "<div id=\"div_fig2\">\n",
       "\n",
       "<img src=\"tmp_2505.00080/./J0100+2802_MUSE_1215.67_panel.png\" alt=\"Fig1.1\" width=\"33%\"/><img src=\"tmp_2505.00080/./J0330-4025_MUSE_1215.67_panel.png\" alt=\"Fig1.2\" width=\"33%\"/><img src=\"tmp_2505.00080/./J158-14_MUSE_1215.67_panel.png\" alt=\"Fig1.3\" width=\"33%\"/>\n",
       "\n",
       "**Figure 1. -** Quasars in our sample with extended nebular emission. From left to right, the panels display pseudo-narrowband images of 1) the quasar's emission around $\\lya$, 2) the PSF extracted from the broad wing of the quasar's $\\lya$ line, 3) the PSF-subtracted data, 4) the $\\chi$ data, essentially representing the SNR of the PSF-subtracted data, and 5) the smoothed $\\chi$ data showing the extended nebular emission. Panels 1, 3, 4, and 5 are collapsed across the wavelength range of the detected nebula, and panel 2 is collapsed across the wavelength range of the PSF extraction as displayed in Appendix \\ref{app:regions}. White patches correspond to masked foreground sources. (*fig:qsoswithnebulae*)\n",
       "\n",
       "</div>\n",
       "<div id=\"div_fig3\">\n",
       "\n",
       "<img src=\"tmp_2505.00080/./J0100+2802_channel_line_mean.png\" alt=\"Fig3.1\" width=\"33%\"/><img src=\"tmp_2505.00080/./J0330-4025_channel_line_mean.png\" alt=\"Fig3.2\" width=\"33%\"/><img src=\"tmp_2505.00080/./J158-14_channel_line_mean.png\" alt=\"Fig3.3\" width=\"33%\"/>\n",
       "\n",
       "**Figure 3. -** Spectral decomposition of the three nebular detections. The left three panels display the detected nebulae in three spectral channels of equal widths ($822 {\\rm km/s}$ for J0330--4025, $946 {\\rm km/s}$ for J158--14, and $1458 {\\rm km/s}$ for J0100+2802), whereby the middle panel is centered on the quasar's systemic redshift as given by \\cref{tab:sample}. We also color-code each displayed voxel by the velocity offset from the quasar's $\\lya$ emission. The right panel shows the integrated emission line profile of the detected nebula. (*fig:velocity*)\n",
       "\n",
       "</div><div id=\"qrcode\"><img src=https://api.qrserver.com/v1/create-qr-code/?size=100x100&data=\"https://arxiv.org/abs/2505.00080\"></div>"
      ],
      "text/plain": [
       "<IPython.core.display.Markdown object>"
      ]
     },
     "metadata": {},
     "output_type": "display_data"
    },
    {
     "data": {
      "text/markdown": [
       "<div class=\"macros\" style=\"visibility:hidden;\">\n",
       "$\\newcommand{\\ensuremath}{}$\n",
       "$\\newcommand{\\xspace}{}$\n",
       "$\\newcommand{\\object}[1]{\\texttt{#1}}$\n",
       "$\\newcommand{\\farcs}{{.}''}$\n",
       "$\\newcommand{\\farcm}{{.}'}$\n",
       "$\\newcommand{\\arcsec}{''}$\n",
       "$\\newcommand{\\arcmin}{'}$\n",
       "$\\newcommand{\\ion}[2]{#1#2}$\n",
       "$\\newcommand{\\textsc}[1]{\\textrm{#1}}$\n",
       "$\\newcommand{\\hl}[1]{\\textrm{#1}}$\n",
       "$\\newcommand{\\footnote}[1]{}$\n",
       "$\\newcommand{\\ay}[1]{\\textcolor{red}{#1}}$\n",
       "$\\newcommand{\\hans}[1]{\\textcolor{cyan}{#1}}$\n",
       "$\\newcommand{\\cass}[1]{\\textcolor{teal}{\\textbf{Cass:} #1}}$\n",
       "$\\newcommand{\\thebibliography}{\\DeclareRobustCommand{\\VAN}[3]{##3}\\VANthebibliography}$</div>\n",
       "\n",
       "\n",
       "\n",
       "<div id=\"title\">\n",
       "\n",
       "# Dust density enhancements and the direct formation of planetary cores in gravitationally unstable discs\n",
       "\n",
       "</div>\n",
       "<div id=\"comments\">\n",
       "\n",
       "[![arXiv](https://img.shields.io/badge/arXiv-2505.00363-b31b1b.svg)](https://arxiv.org/abs/2505.00363)<mark>Appeared on: 2025-05-02</mark> -  _15 pages, 11 figures, accepted for publication in Monthly Notices of the Royal Astronomical Society_\n",
       "\n",
       "</div>\n",
       "<div id=\"authors\">\n",
       "\n",
       "K. Rice, et al. -- incl., <mark>H. Baehr</mark>\n",
       "\n",
       "</div>\n",
       "<div id=\"abstract\">\n",
       "\n",
       "**Abstract:** Planet formation via core accretion involves the growth of solids that can accumulate to form planetary cores.  There are a number of barriers to the collisional growth of solids in protostellar discs, one of which is the drift, or metre, barrier.  Solid particles experience a drag force that will tend to cause them to drift towards the central star in smooth, laminar discs, potentially removing particles before they grow large enough to decouple from the disc gas. Here we present 3-dimensional, shearing box simulations that explore the dynamical evolution of solids in a protostellar disc that is massive enough for the gravitational instability to manifest as spiral density waves.  We expand on earlier work by considering a range of particle sizes and find that the spirals can still enhance the local solid density by more than an order of magnitude, potentially aiding grain growth.  Furthermore, if solid particles have enough mass, and the particle size distribution extends to sufficiently large particle sizes, the solid component of the disc can undergo direct gravitational collapse to form bound clumps with masses typically between $1$ and $10$ M $_\\oplus$ . Thus, the concentration of dust in a self-gravitating disc could bypass the size barrier for collisional growth and directly form planetary cores early in the lifetime of the disc.\n",
       "\n",
       "</div>\n",
       "\n",
       "<div id=\"div_fig1\">\n",
       "\n",
       "<img src=\"tmp_2505.00363/./Figures/dustdens_multi_Fig6.png\" alt=\"Fig9\" width=\"100%\"/>\n",
       "\n",
       "**Figure 9. -** Surface density structure for all the particles in the simulation in which the particles have a mass $10^{-4}$(top left), $10^{-3}$(top right), $0.003$(middle left), $0.007$(middle right), $0.01$(bottom left) and $0.025$(bottom right) that of the gas. The particle self-gravity, and the backreaction on the gas, is included, and the particle size distribution covers 4 orders of magnitude in particle size with representative Stokes numbers ranging from $\\mathrm{St} \\sim 0.02$ to $\\mathrm{St} \\sim 200$. Apart from the $m_{\\rm d} = 0.025 m_{\\rm g}$ simulation, these are all at $t\\Omega = 300$. For $m_{\\rm d} = 0.025 m_{\\rm g}$ the high densities of the clumps reduced the timestep and the simulation was stopped at $t \\Omega = 220$. The red circles in the bottom two panels highlight dense clumps that have formed in these simulations. (*fig:ptclsfullrange*)\n",
       "\n",
       "</div>\n",
       "<div id=\"div_fig2\">\n",
       "\n",
       "<img src=\"tmp_2505.00363/./Figures/gasdens_slice_multi.png\" alt=\"Fig1\" width=\"100%\"/>\n",
       "\n",
       "**Figure 1. -** Gas density structure in the midplane (top panel) and a vertical slice through the disc at $x = 0$(bottom panel) at $t \\Omega = 300$.  The disc has settled into a quasi-steady, self-gravitating state with spiral density waves and the simulation is clearly able to capture the vertical structure in the gas disc. (*fig:refgas*)\n",
       "\n",
       "</div>\n",
       "<div id=\"div_fig3\">\n",
       "\n",
       "<img src=\"tmp_2505.00363/./Figures/dustdens_multi_Fig2.png\" alt=\"Fig2\" width=\"100%\"/>\n",
       "\n",
       "**Figure 2. -** Surface density structure of the particle disc at $t \\Omega = 300$, for the full size range of solid particles from the test particle simulation.  The top panel shows the particle surface density in the disc midplane, while the bottom panel shows the surface, or column, density projected on to the xz-plane. (*fig:refdust*)\n",
       "\n",
       "</div><div id=\"qrcode\"><img src=https://api.qrserver.com/v1/create-qr-code/?size=100x100&data=\"https://arxiv.org/abs/2505.00363\"></div>"
      ],
      "text/plain": [
       "<IPython.core.display.Markdown object>"
      ]
     },
     "metadata": {},
     "output_type": "display_data"
    }
   ],
   "source": [
    "[display(Markdown(k[1])) for k in documents];"
   ]
  },
  {
   "cell_type": "markdown",
   "id": "873873a4",
   "metadata": {
    "papermill": {
     "duration": 0.004331,
     "end_time": "2025-05-02T04:12:42.229414",
     "exception": false,
     "start_time": "2025-05-02T04:12:42.225083",
     "status": "completed"
    },
    "tags": []
   },
   "source": [
    "# Create HTML index"
   ]
  },
  {
   "cell_type": "code",
   "execution_count": 10,
   "id": "cf665672",
   "metadata": {
    "execution": {
     "iopub.execute_input": "2025-05-02T04:12:42.239304Z",
     "iopub.status.busy": "2025-05-02T04:12:42.238905Z",
     "iopub.status.idle": "2025-05-02T04:12:42.250061Z",
     "shell.execute_reply": "2025-05-02T04:12:42.249421Z"
    },
    "papermill": {
     "duration": 0.017161,
     "end_time": "2025-05-02T04:12:42.251038",
     "exception": false,
     "start_time": "2025-05-02T04:12:42.233877",
     "status": "completed"
    },
    "tags": []
   },
   "outputs": [
    {
     "name": "stdout",
     "output_type": "stream",
     "text": [
      "474  publications files modified in the last 7 days.\n"
     ]
    }
   ],
   "source": [
    "from datetime import datetime, timedelta, timezone\n",
    "from glob import glob\n",
    "import os\n",
    "\n",
    "files = glob('_build/html/*.md')\n",
    "days = 7\n",
    "now = datetime.today()\n",
    "res = []\n",
    "for fk in files:\n",
    "    stat_result = os.stat(fk).st_ctime\n",
    "    modified = datetime.fromtimestamp(stat_result, tz=timezone.utc).replace(tzinfo=None)\n",
    "    delta = now.today() - modified\n",
    "    if delta <= timedelta(days=days):\n",
    "        res.append((delta.seconds, fk))\n",
    "res = [k[1] for k in reversed(sorted(res, key=lambda x:x[1]))]\n",
    "npub = len(res)\n",
    "print(len(res), f\" publications files modified in the last {days:d} days.\")\n",
    "# [ print('\\t', k) for k in res ];"
   ]
  },
  {
   "cell_type": "code",
   "execution_count": 11,
   "id": "015de740",
   "metadata": {
    "execution": {
     "iopub.execute_input": "2025-05-02T04:12:42.261120Z",
     "iopub.status.busy": "2025-05-02T04:12:42.260701Z",
     "iopub.status.idle": "2025-05-02T04:12:42.284390Z",
     "shell.execute_reply": "2025-05-02T04:12:42.283737Z"
    },
    "papermill": {
     "duration": 0.029825,
     "end_time": "2025-05-02T04:12:42.285403",
     "exception": false,
     "start_time": "2025-05-02T04:12:42.255578",
     "status": "completed"
    },
    "tags": []
   },
   "outputs": [
    {
     "name": "stdout",
     "output_type": "stream",
     "text": [
      "24  publications in the last 7 days.\n"
     ]
    }
   ],
   "source": [
    "import datetime\n",
    "from glob import glob\n",
    "\n",
    "def get_last_n_days(lst, days=1):\n",
    "    \"\"\" Get the documents from the last n days \"\"\"\n",
    "    sorted_lst = sorted(lst, key=lambda x: x[1], reverse=True)\n",
    "    for fname, date in sorted_lst:\n",
    "        if date >= str(datetime.date.today() - datetime.timedelta(days=days)):\n",
    "            yield fname\n",
    "\n",
    "def extract_appearance_dates(lst_file):\n",
    "    dates = []\n",
    "\n",
    "    def get_date(line):\n",
    "        return line\\\n",
    "            .split('Appeared on:')[-1]\\\n",
    "            .split('</mark>')[0].strip()\n",
    "\n",
    "    for fname in lst:\n",
    "        with open(fname, 'r') as f:\n",
    "            found_date = False\n",
    "            for line in f:\n",
    "                if not found_date:\n",
    "                    if \"Appeared on\" in line:\n",
    "                        found_date = True\n",
    "                        dates.append((fname, get_date(line)))\n",
    "                else:\n",
    "                    break\n",
    "    return dates\n",
    "\n",
    "from glob import glob\n",
    "lst = glob('_build/html/*md')\n",
    "days = 7\n",
    "dates = extract_appearance_dates(lst)\n",
    "res = list(get_last_n_days(dates, days))\n",
    "npub = len(res)\n",
    "print(len(res), f\" publications in the last {days:d} days.\")"
   ]
  },
  {
   "cell_type": "code",
   "execution_count": 12,
   "id": "52ca0208",
   "metadata": {
    "execution": {
     "iopub.execute_input": "2025-05-02T04:12:42.295489Z",
     "iopub.status.busy": "2025-05-02T04:12:42.295291Z",
     "iopub.status.idle": "2025-05-02T04:12:42.300425Z",
     "shell.execute_reply": "2025-05-02T04:12:42.299781Z"
    },
    "papermill": {
     "duration": 0.011397,
     "end_time": "2025-05-02T04:12:42.301445",
     "exception": false,
     "start_time": "2025-05-02T04:12:42.290048",
     "status": "completed"
    },
    "scrolled": false,
    "tags": []
   },
   "outputs": [],
   "source": [
    "def create_carousel(npub=4):\n",
    "    \"\"\" Generate the HTML code for a carousel with `npub` slides \"\"\"\n",
    "    carousel = [\"\"\"  <div class=\"carousel\" \"\"\",\n",
    "                \"\"\"       data-flickity='{ \"autoPlay\": 10000, \"adaptiveHeight\": true, \"resize\": true, \"wrapAround\": true, \"pauseAutoPlayOnHover\": true, \"groupCells\": 1 }' id=\"asyncTypeset\">\"\"\"\n",
    "                ]\n",
    "    \n",
    "    item_str = \"\"\"    <div class=\"carousel-cell\"> <div id=\"slide{k}\" class=\"md_view\">Content {k}</div> </div>\"\"\"\n",
    "    for k in range(1, npub + 1):\n",
    "        carousel.append(item_str.format(k=k))\n",
    "    carousel.append(\"  </div>\")\n",
    "    return '\\n'.join(carousel)\n",
    "\n",
    "def create_grid(npub=4):\n",
    "    \"\"\" Generate the HTML code for a flat grid with `npub` slides \"\"\"\n",
    "    grid = [\"\"\"  <div class=\"grid\"> \"\"\",\n",
    "                ]\n",
    "    \n",
    "    item_str = \"\"\"    <div class=\"grid-item\"> <div id=\"slide{k}\" class=\"md_view\">Content {k}</div> </div>\"\"\"\n",
    "    for k in range(1, npub + 1):\n",
    "        grid.append(item_str.format(k=k))\n",
    "    grid.append(\"  </div>\")\n",
    "    return '\\n'.join(grid)"
   ]
  },
  {
   "cell_type": "code",
   "execution_count": 13,
   "id": "a6eac5b6",
   "metadata": {
    "execution": {
     "iopub.execute_input": "2025-05-02T04:12:42.311580Z",
     "iopub.status.busy": "2025-05-02T04:12:42.311162Z",
     "iopub.status.idle": "2025-05-02T04:12:42.316184Z",
     "shell.execute_reply": "2025-05-02T04:12:42.315530Z"
    },
    "papermill": {
     "duration": 0.011199,
     "end_time": "2025-05-02T04:12:42.317203",
     "exception": false,
     "start_time": "2025-05-02T04:12:42.306004",
     "status": "completed"
    },
    "scrolled": false,
    "tags": []
   },
   "outputs": [],
   "source": [
    "carousel = create_carousel(npub)\n",
    "docs = ', '.join(['\"{0:s}\"'.format(k.split('/')[-1]) for k in res])\n",
    "slides = ', '.join([f'\"slide{k}\"' for k in range(1, npub + 1)])\n",
    "\n",
    "with open(\"daily_template.html\", \"r\") as tpl:\n",
    "    page = tpl.read()\n",
    "    page = page.replace(\"{%-- carousel:s --%}\", carousel)\\\n",
    "               .replace(\"{%-- suptitle:s --%}\",  \"7-day archives\" )\\\n",
    "               .replace(\"{%-- docs:s --%}\", docs)\\\n",
    "               .replace(\"{%-- slides:s --%}\", slides)\n",
    "    \n",
    "with open(\"_build/html/index_7days.html\", 'w') as fout:\n",
    "    fout.write(page)"
   ]
  },
  {
   "cell_type": "code",
   "execution_count": 14,
   "id": "adc1a1ec",
   "metadata": {
    "execution": {
     "iopub.execute_input": "2025-05-02T04:12:42.327368Z",
     "iopub.status.busy": "2025-05-02T04:12:42.326985Z",
     "iopub.status.idle": "2025-05-02T04:12:42.333857Z",
     "shell.execute_reply": "2025-05-02T04:12:42.333322Z"
    },
    "papermill": {
     "duration": 0.013057,
     "end_time": "2025-05-02T04:12:42.334860",
     "exception": false,
     "start_time": "2025-05-02T04:12:42.321803",
     "status": "completed"
    },
    "tags": []
   },
   "outputs": [
    {
     "name": "stdout",
     "output_type": "stream",
     "text": [
      "2  publications in the last day.\n"
     ]
    }
   ],
   "source": [
    "# redo for today\n",
    "days = 1\n",
    "res = list(get_last_n_days(dates, days))\n",
    "npub = len(res)\n",
    "print(len(res), f\" publications in the last day.\")\n",
    "\n",
    "carousel = create_carousel(npub)\n",
    "docs = ', '.join(['\"{0:s}\"'.format(k.split('/')[-1]) for k in res])\n",
    "slides = ', '.join([f'\"slide{k}\"' for k in range(1, npub + 1)])\n",
    "\n",
    "with open(\"daily_template.html\", \"r\") as tpl:\n",
    "    page = tpl.read()\n",
    "    page = page.replace(\"{%-- carousel:s --%}\", carousel)\\\n",
    "               .replace(\"{%-- suptitle:s --%}\",  \"Daily\" )\\\n",
    "               .replace(\"{%-- docs:s --%}\", docs)\\\n",
    "               .replace(\"{%-- slides:s --%}\", slides)\n",
    "    \n",
    "# print(carousel, docs, slides)\n",
    "# print(page)\n",
    "with open(\"_build/html/index_daily.html\", 'w') as fout:\n",
    "    fout.write(page)"
   ]
  },
  {
   "cell_type": "code",
   "execution_count": 15,
   "id": "00eece82",
   "metadata": {
    "execution": {
     "iopub.execute_input": "2025-05-02T04:12:42.345018Z",
     "iopub.status.busy": "2025-05-02T04:12:42.344833Z",
     "iopub.status.idle": "2025-05-02T04:12:42.351076Z",
     "shell.execute_reply": "2025-05-02T04:12:42.350546Z"
    },
    "papermill": {
     "duration": 0.012438,
     "end_time": "2025-05-02T04:12:42.352032",
     "exception": false,
     "start_time": "2025-05-02T04:12:42.339594",
     "status": "completed"
    },
    "scrolled": false,
    "tags": []
   },
   "outputs": [
    {
     "name": "stdout",
     "output_type": "stream",
     "text": [
      "6  6 publications selected.\n"
     ]
    }
   ],
   "source": [
    "# Create the flat grid of the last N papers (fixed number regardless of dates)\n",
    "from itertools import islice \n",
    "\n",
    "npub = 6\n",
    "res = [k[0] for k in (islice(reversed(sorted(dates, key=lambda x: x[1])), 6))]\n",
    "print(len(res), f\" {npub} publications selected.\")\n",
    "\n",
    "grid = create_grid(npub)\n",
    "docs = ', '.join(['\"{0:s}\"'.format(k.split('/')[-1]) for k in res])\n",
    "slides = ', '.join([f'\"slide{k}\"' for k in range(1, npub + 1)])\n",
    "\n",
    "with open(\"grid_template.html\", \"r\") as tpl:\n",
    "    page = tpl.read()\n",
    "    page = page.replace(\"{%-- grid-content:s --%}\", grid)\\\n",
    "               .replace(\"{%-- suptitle:s --%}\",  f\"Last {npub:,d} papers\" )\\\n",
    "               .replace(\"{%-- docs:s --%}\", docs)\\\n",
    "               .replace(\"{%-- slides:s --%}\", slides)\n",
    "    \n",
    "# print(grid, docs, slides)\n",
    "# print(page)\n",
    "with open(\"_build/html/index_npub_grid.html\", 'w') as fout:\n",
    "    fout.write(page)"
   ]
  }
 ],
 "metadata": {
  "kernelspec": {
   "display_name": "Python 3 (ipykernel)",
   "language": "python",
   "name": "python3"
  },
  "language_info": {
   "codemirror_mode": {
    "name": "ipython",
    "version": 3
   },
   "file_extension": ".py",
   "mimetype": "text/x-python",
   "name": "python",
   "nbconvert_exporter": "python",
   "pygments_lexer": "ipython3",
   "version": "3.9.22"
  },
  "papermill": {
   "default_parameters": {},
   "duration": 45.412868,
   "end_time": "2025-05-02T04:12:42.572892",
   "environment_variables": {},
   "exception": null,
   "input_path": "MPIA daily digest.ipynb",
   "output_path": "log.ipynb",
   "parameters": {},
   "start_time": "2025-05-02T04:11:57.160024",
   "version": "2.6.0"
  },
  "vscode": {
   "interpreter": {
    "hash": "aee8b7b246df8f9039afb4144a1f6fd8d2ca17a180786b69acc140d282b71a49"
   }
  },
  "widgets": {
   "application/vnd.jupyter.widget-state+json": {
    "state": {
     "1182e728f9b340768cb33a106b680cfe": {
      "model_module": "@jupyter-widgets/controls",
      "model_module_version": "2.0.0",
      "model_name": "HTMLModel",
      "state": {
       "_dom_classes": [],
       "_model_module": "@jupyter-widgets/controls",
       "_model_module_version": "2.0.0",
       "_model_name": "HTMLModel",
       "_view_count": null,
       "_view_module": "@jupyter-widgets/controls",
       "_view_module_version": "2.0.0",
       "_view_name": "HTMLView",
       "description": "",
       "description_allow_html": false,
       "layout": "IPY_MODEL_28b52308cc9c4901a83491cbff639b4f",
       "placeholder": "​",
       "style": "IPY_MODEL_c4e171b1f0a84aababadca0cd12715ec",
       "tabbable": null,
       "tooltip": null,
       "value": " 2/2 [00:20&lt;00:00,  9.49s/it]"
      }
     },
     "28b52308cc9c4901a83491cbff639b4f": {
      "model_module": "@jupyter-widgets/base",
      "model_module_version": "2.0.0",
      "model_name": "LayoutModel",
      "state": {
       "_model_module": "@jupyter-widgets/base",
       "_model_module_version": "2.0.0",
       "_model_name": "LayoutModel",
       "_view_count": null,
       "_view_module": "@jupyter-widgets/base",
       "_view_module_version": "2.0.0",
       "_view_name": "LayoutView",
       "align_content": null,
       "align_items": null,
       "align_self": null,
       "border_bottom": null,
       "border_left": null,
       "border_right": null,
       "border_top": null,
       "bottom": null,
       "display": null,
       "flex": null,
       "flex_flow": null,
       "grid_area": null,
       "grid_auto_columns": null,
       "grid_auto_flow": null,
       "grid_auto_rows": null,
       "grid_column": null,
       "grid_gap": null,
       "grid_row": null,
       "grid_template_areas": null,
       "grid_template_columns": null,
       "grid_template_rows": null,
       "height": null,
       "justify_content": null,
       "justify_items": null,
       "left": null,
       "margin": null,
       "max_height": null,
       "max_width": null,
       "min_height": null,
       "min_width": null,
       "object_fit": null,
       "object_position": null,
       "order": null,
       "overflow": null,
       "padding": null,
       "right": null,
       "top": null,
       "visibility": null,
       "width": null
      }
     },
     "80527d560e4a4bc3b007b93a5a33a5b9": {
      "model_module": "@jupyter-widgets/base",
      "model_module_version": "2.0.0",
      "model_name": "LayoutModel",
      "state": {
       "_model_module": "@jupyter-widgets/base",
       "_model_module_version": "2.0.0",
       "_model_name": "LayoutModel",
       "_view_count": null,
       "_view_module": "@jupyter-widgets/base",
       "_view_module_version": "2.0.0",
       "_view_name": "LayoutView",
       "align_content": null,
       "align_items": null,
       "align_self": null,
       "border_bottom": null,
       "border_left": null,
       "border_right": null,
       "border_top": null,
       "bottom": null,
       "display": null,
       "flex": null,
       "flex_flow": null,
       "grid_area": null,
       "grid_auto_columns": null,
       "grid_auto_flow": null,
       "grid_auto_rows": null,
       "grid_column": null,
       "grid_gap": null,
       "grid_row": null,
       "grid_template_areas": null,
       "grid_template_columns": null,
       "grid_template_rows": null,
       "height": null,
       "justify_content": null,
       "justify_items": null,
       "left": null,
       "margin": null,
       "max_height": null,
       "max_width": null,
       "min_height": null,
       "min_width": null,
       "object_fit": null,
       "object_position": null,
       "order": null,
       "overflow": null,
       "padding": null,
       "right": null,
       "top": null,
       "visibility": null,
       "width": null
      }
     },
     "9a778d17cde147c0b15ce4d507928bd9": {
      "model_module": "@jupyter-widgets/base",
      "model_module_version": "2.0.0",
      "model_name": "LayoutModel",
      "state": {
       "_model_module": "@jupyter-widgets/base",
       "_model_module_version": "2.0.0",
       "_model_name": "LayoutModel",
       "_view_count": null,
       "_view_module": "@jupyter-widgets/base",
       "_view_module_version": "2.0.0",
       "_view_name": "LayoutView",
       "align_content": null,
       "align_items": null,
       "align_self": null,
       "border_bottom": null,
       "border_left": null,
       "border_right": null,
       "border_top": null,
       "bottom": null,
       "display": null,
       "flex": null,
       "flex_flow": null,
       "grid_area": null,
       "grid_auto_columns": null,
       "grid_auto_flow": null,
       "grid_auto_rows": null,
       "grid_column": null,
       "grid_gap": null,
       "grid_row": null,
       "grid_template_areas": null,
       "grid_template_columns": null,
       "grid_template_rows": null,
       "height": null,
       "justify_content": null,
       "justify_items": null,
       "left": null,
       "margin": null,
       "max_height": null,
       "max_width": null,
       "min_height": null,
       "min_width": null,
       "object_fit": null,
       "object_position": null,
       "order": null,
       "overflow": null,
       "padding": null,
       "right": null,
       "top": null,
       "visibility": null,
       "width": null
      }
     },
     "bc482a099a3d45eda4de5924c5feff41": {
      "model_module": "@jupyter-widgets/controls",
      "model_module_version": "2.0.0",
      "model_name": "HBoxModel",
      "state": {
       "_dom_classes": [],
       "_model_module": "@jupyter-widgets/controls",
       "_model_module_version": "2.0.0",
       "_model_name": "HBoxModel",
       "_view_count": null,
       "_view_module": "@jupyter-widgets/controls",
       "_view_module_version": "2.0.0",
       "_view_name": "HBoxView",
       "box_style": "",
       "children": [
        "IPY_MODEL_faa84fb4522444f48184d49e85044af0",
        "IPY_MODEL_ec6fb1d3265c45eeb48f68e4094c3cb0",
        "IPY_MODEL_1182e728f9b340768cb33a106b680cfe"
       ],
       "layout": "IPY_MODEL_9a778d17cde147c0b15ce4d507928bd9",
       "tabbable": null,
       "tooltip": null
      }
     },
     "c4e171b1f0a84aababadca0cd12715ec": {
      "model_module": "@jupyter-widgets/controls",
      "model_module_version": "2.0.0",
      "model_name": "HTMLStyleModel",
      "state": {
       "_model_module": "@jupyter-widgets/controls",
       "_model_module_version": "2.0.0",
       "_model_name": "HTMLStyleModel",
       "_view_count": null,
       "_view_module": "@jupyter-widgets/base",
       "_view_module_version": "2.0.0",
       "_view_name": "StyleView",
       "background": null,
       "description_width": "",
       "font_size": null,
       "text_color": null
      }
     },
     "d1b87b2aecf541f19efe90f62724a930": {
      "model_module": "@jupyter-widgets/controls",
      "model_module_version": "2.0.0",
      "model_name": "HTMLStyleModel",
      "state": {
       "_model_module": "@jupyter-widgets/controls",
       "_model_module_version": "2.0.0",
       "_model_name": "HTMLStyleModel",
       "_view_count": null,
       "_view_module": "@jupyter-widgets/base",
       "_view_module_version": "2.0.0",
       "_view_name": "StyleView",
       "background": null,
       "description_width": "",
       "font_size": null,
       "text_color": null
      }
     },
     "d93bf2469b1f416ab56f4c282a3fac17": {
      "model_module": "@jupyter-widgets/base",
      "model_module_version": "2.0.0",
      "model_name": "LayoutModel",
      "state": {
       "_model_module": "@jupyter-widgets/base",
       "_model_module_version": "2.0.0",
       "_model_name": "LayoutModel",
       "_view_count": null,
       "_view_module": "@jupyter-widgets/base",
       "_view_module_version": "2.0.0",
       "_view_name": "LayoutView",
       "align_content": null,
       "align_items": null,
       "align_self": null,
       "border_bottom": null,
       "border_left": null,
       "border_right": null,
       "border_top": null,
       "bottom": null,
       "display": null,
       "flex": null,
       "flex_flow": null,
       "grid_area": null,
       "grid_auto_columns": null,
       "grid_auto_flow": null,
       "grid_auto_rows": null,
       "grid_column": null,
       "grid_gap": null,
       "grid_row": null,
       "grid_template_areas": null,
       "grid_template_columns": null,
       "grid_template_rows": null,
       "height": null,
       "justify_content": null,
       "justify_items": null,
       "left": null,
       "margin": null,
       "max_height": null,
       "max_width": null,
       "min_height": null,
       "min_width": null,
       "object_fit": null,
       "object_position": null,
       "order": null,
       "overflow": null,
       "padding": null,
       "right": null,
       "top": null,
       "visibility": null,
       "width": null
      }
     },
     "e4b3fc6dc454476bb7581ed2c0fd8d5b": {
      "model_module": "@jupyter-widgets/controls",
      "model_module_version": "2.0.0",
      "model_name": "ProgressStyleModel",
      "state": {
       "_model_module": "@jupyter-widgets/controls",
       "_model_module_version": "2.0.0",
       "_model_name": "ProgressStyleModel",
       "_view_count": null,
       "_view_module": "@jupyter-widgets/base",
       "_view_module_version": "2.0.0",
       "_view_name": "StyleView",
       "bar_color": null,
       "description_width": ""
      }
     },
     "ec6fb1d3265c45eeb48f68e4094c3cb0": {
      "model_module": "@jupyter-widgets/controls",
      "model_module_version": "2.0.0",
      "model_name": "FloatProgressModel",
      "state": {
       "_dom_classes": [],
       "_model_module": "@jupyter-widgets/controls",
       "_model_module_version": "2.0.0",
       "_model_name": "FloatProgressModel",
       "_view_count": null,
       "_view_module": "@jupyter-widgets/controls",
       "_view_module_version": "2.0.0",
       "_view_name": "ProgressView",
       "bar_style": "success",
       "description": "",
       "description_allow_html": false,
       "layout": "IPY_MODEL_d93bf2469b1f416ab56f4c282a3fac17",
       "max": 2.0,
       "min": 0.0,
       "orientation": "horizontal",
       "style": "IPY_MODEL_e4b3fc6dc454476bb7581ed2c0fd8d5b",
       "tabbable": null,
       "tooltip": null,
       "value": 2.0
      }
     },
     "faa84fb4522444f48184d49e85044af0": {
      "model_module": "@jupyter-widgets/controls",
      "model_module_version": "2.0.0",
      "model_name": "HTMLModel",
      "state": {
       "_dom_classes": [],
       "_model_module": "@jupyter-widgets/controls",
       "_model_module_version": "2.0.0",
       "_model_name": "HTMLModel",
       "_view_count": null,
       "_view_module": "@jupyter-widgets/controls",
       "_view_module_version": "2.0.0",
       "_view_name": "HTMLView",
       "description": "",
       "description_allow_html": false,
       "layout": "IPY_MODEL_80527d560e4a4bc3b007b93a5a33a5b9",
       "placeholder": "​",
       "style": "IPY_MODEL_d1b87b2aecf541f19efe90f62724a930",
       "tabbable": null,
       "tooltip": null,
       "value": "100%"
      }
     }
    },
    "version_major": 2,
    "version_minor": 0
   }
  }
 },
 "nbformat": 4,
 "nbformat_minor": 5
}