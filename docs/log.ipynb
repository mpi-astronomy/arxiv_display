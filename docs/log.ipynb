{
 "cells": [
  {
   "cell_type": "markdown",
   "id": "92bcb855",
   "metadata": {
    "papermill": {
     "duration": 0.003678,
     "end_time": "2024-03-22T04:08:04.685934",
     "exception": false,
     "start_time": "2024-03-22T04:08:04.682256",
     "status": "completed"
    },
    "tags": []
   },
   "source": [
    "# MPIA Arxiv on Deck 2\n",
    "\n",
    "Contains the steps to produce the paper extractions."
   ]
  },
  {
   "cell_type": "code",
   "execution_count": 1,
   "id": "3a0d6e11",
   "metadata": {
    "execution": {
     "iopub.execute_input": "2024-03-22T04:08:04.693140Z",
     "iopub.status.busy": "2024-03-22T04:08:04.692688Z",
     "iopub.status.idle": "2024-03-22T04:08:04.997573Z",
     "shell.execute_reply": "2024-03-22T04:08:04.996936Z"
    },
    "papermill": {
     "duration": 0.310375,
     "end_time": "2024-03-22T04:08:04.999291",
     "exception": false,
     "start_time": "2024-03-22T04:08:04.688916",
     "status": "completed"
    },
    "tags": []
   },
   "outputs": [],
   "source": [
    "# Imports\n",
    "import os\n",
    "from IPython.display import Markdown, display\n",
    "from tqdm.notebook import tqdm\n",
    "import warnings\n",
    "from PIL import Image \n",
    "\n",
    "# requires arxiv_on_deck_2\n",
    "\n",
    "from arxiv_on_deck_2.arxiv2 import (get_new_papers, \n",
    "                                    get_paper_from_identifier,\n",
    "                                    retrieve_document_source, \n",
    "                                    get_markdown_badge)\n",
    "from arxiv_on_deck_2 import (latex,\n",
    "                             latex_bib,\n",
    "                             mpia,\n",
    "                             highlight_authors_in_list)\n",
    "\n",
    "# Sometimes images are really big\n",
    "Image.MAX_IMAGE_PIXELS = 1000000000 "
   ]
  },
  {
   "cell_type": "code",
   "execution_count": 2,
   "id": "22aa9d44",
   "metadata": {
    "execution": {
     "iopub.execute_input": "2024-03-22T04:08:05.006484Z",
     "iopub.status.busy": "2024-03-22T04:08:05.006041Z",
     "iopub.status.idle": "2024-03-22T04:08:05.010978Z",
     "shell.execute_reply": "2024-03-22T04:08:05.010428Z"
    },
    "papermill": {
     "duration": 0.009859,
     "end_time": "2024-03-22T04:08:05.012281",
     "exception": false,
     "start_time": "2024-03-22T04:08:05.002422",
     "status": "completed"
    },
    "tags": []
   },
   "outputs": [],
   "source": [
    "# Some useful definitions.\n",
    "\n",
    "class AffiliationWarning(UserWarning):\n",
    "    pass\n",
    "\n",
    "class AffiliationError(RuntimeError):\n",
    "    pass\n",
    "\n",
    "def validation(source: str):\n",
    "    \"\"\"Raises error paper during parsing of source file\n",
    "    \n",
    "    Allows checks before parsing TeX code.\n",
    "    \n",
    "    Raises AffiliationWarning\n",
    "    \"\"\"\n",
    "    check = mpia.affiliation_verifications(source, verbose=True)\n",
    "    if check is not True:\n",
    "        raise AffiliationError(\"mpia.affiliation_verifications: \" + check)\n",
    "\n",
    "        \n",
    "warnings.simplefilter('always', AffiliationWarning)\n",
    "\n",
    "\n",
    "def get_markdown_qrcode(paper_id: str):\n",
    "    \"\"\" Generate a qrcode to the arxiv page using qrserver.com\n",
    "    \n",
    "    :param paper: Arxiv paper\n",
    "    :returns: markdown text\n",
    "    \"\"\"\n",
    "    url = r\"https://api.qrserver.com/v1/create-qr-code/?size=100x100&data=\"\n",
    "    txt = f\"\"\"<img src={url}\"https://arxiv.org/abs/{paper_id}\">\"\"\"\n",
    "    txt = '<div id=\"qrcode\">' + txt + '</div>'\n",
    "    return txt"
   ]
  },
  {
   "cell_type": "markdown",
   "id": "14bd6310",
   "metadata": {
    "papermill": {
     "duration": 0.002712,
     "end_time": "2024-03-22T04:08:05.017820",
     "exception": false,
     "start_time": "2024-03-22T04:08:05.015108",
     "status": "completed"
    },
    "tags": []
   },
   "source": [
    "## get list of arxiv paper candidates\n",
    "\n",
    "We use the MPIA mitarbeiter list webpage from mpia.de to get author names\n",
    "We then get all new papers from Arxiv and match authors"
   ]
  },
  {
   "cell_type": "code",
   "execution_count": 3,
   "id": "2645e73a",
   "metadata": {
    "execution": {
     "iopub.execute_input": "2024-03-22T04:08:05.024414Z",
     "iopub.status.busy": "2024-03-22T04:08:05.024051Z",
     "iopub.status.idle": "2024-03-22T04:08:24.343449Z",
     "shell.execute_reply": "2024-03-22T04:08:24.342724Z"
    },
    "papermill": {
     "duration": 19.324218,
     "end_time": "2024-03-22T04:08:24.344850",
     "exception": false,
     "start_time": "2024-03-22T04:08:05.020632",
     "status": "completed"
    },
    "tags": []
   },
   "outputs": [
    {
     "name": "stdout",
     "output_type": "stream",
     "text": [
      "E. Schinnerer  ->  E. Schinnerer  |  ['E. Schinnerer']\n",
      "J. Liu  ->  J. Liu  |  ['J. Liu']\n",
      "Arxiv has 56 new papers today\n",
      "          2 with possible author matches\n"
     ]
    }
   ],
   "source": [
    "# get list from MPIA website\n",
    "# it automatically filters identified non-scientists :func:`mpia.filter_non_scientists`\n",
    "mpia_authors = mpia.get_mpia_mitarbeiter_list()\n",
    "normed_mpia_authors = [k[1] for k in mpia_authors]   # initials + fullname\n",
    "new_papers = get_new_papers()\n",
    "# add manual references\n",
    "add_paper_refs = []\n",
    "new_papers.extend([get_paper_from_identifier(k) for k in add_paper_refs])\n",
    "\n",
    "candidates = []\n",
    "for paperk in new_papers:\n",
    "    # Check author list with their initials\n",
    "    normed_author_list = [mpia.get_initials(k) for k in paperk['authors']]\n",
    "    hl_authors = highlight_authors_in_list(normed_author_list, normed_mpia_authors, verbose=True)\n",
    "    matches = [(hl, orig) for hl, orig in zip(hl_authors, paperk['authors']) if 'mark' in hl]\n",
    "    paperk['authors'] = hl_authors\n",
    "    if matches:\n",
    "        # only select paper if an author matched our list\n",
    "        candidates.append(paperk)\n",
    "print(\"\"\"Arxiv has {0:,d} new papers today\"\"\".format(len(new_papers)))        \n",
    "print(\"\"\"          {0:,d} with possible author matches\"\"\".format(len(candidates)))"
   ]
  },
  {
   "cell_type": "markdown",
   "id": "3543b34a",
   "metadata": {
    "papermill": {
     "duration": 0.002969,
     "end_time": "2024-03-22T04:08:24.351097",
     "exception": false,
     "start_time": "2024-03-22T04:08:24.348128",
     "status": "completed"
    },
    "tags": []
   },
   "source": [
    "# Parse sources and generate relevant outputs\n",
    "\n",
    "From the candidates, we do the following steps:\n",
    "* get their tarball from ArXiv (and extract data)\n",
    "* find the main .tex file: find one with \\documentclass{...} (sometimes it's non trivial)\n",
    "* Check affiliations with :func:`validation`, which uses :func:`mpia.affiliation_verifications`\n",
    "* If passing the affiliations: we parse the .tex source\n",
    "   * inject sub-documents into the main (flatten the main document)\n",
    "   * parse structure, extract information (title, abstract, authors, figures...)\n",
    "   * handles `\\graphicspath` if provided\n",
    "* Generate the .md document."
   ]
  },
  {
   "cell_type": "code",
   "execution_count": 4,
   "id": "9576b79e",
   "metadata": {
    "execution": {
     "iopub.execute_input": "2024-03-22T04:08:24.358114Z",
     "iopub.status.busy": "2024-03-22T04:08:24.357677Z",
     "iopub.status.idle": "2024-03-22T04:09:08.597855Z",
     "shell.execute_reply": "2024-03-22T04:09:08.597072Z"
    },
    "papermill": {
     "duration": 44.245899,
     "end_time": "2024-03-22T04:09:08.599853",
     "exception": false,
     "start_time": "2024-03-22T04:08:24.353954",
     "status": "completed"
    },
    "scrolled": false,
    "tags": []
   },
   "outputs": [
    {
     "data": {
      "application/vnd.jupyter.widget-view+json": {
       "model_id": "bd0ec55dfdbb4cedbb15313b1bd5e59a",
       "version_major": 2,
       "version_minor": 0
      },
      "text/plain": [
       "  0%|          | 0/2 [00:00<?, ?it/s]"
      ]
     },
     "metadata": {},
     "output_type": "display_data"
    },
    {
     "name": "stdout",
     "output_type": "stream",
     "text": [
      "Retrieving document from  https://arxiv.org/e-print/2403.13908\n"
     ]
    },
    {
     "name": "stdout",
     "output_type": "stream",
     "text": [
      "extracting tarball to tmp_2403.13908..."
     ]
    },
    {
     "name": "stdout",
     "output_type": "stream",
     "text": [
      " done.\n"
     ]
    },
    {
     "name": "stderr",
     "output_type": "stream",
     "text": [
      "/opt/hostedtoolcache/Python/3.9.18/x64/lib/python3.9/site-packages/IPython/core/interactiveshell.py:3550: LatexWarning: Multiple tex files.\n",
      "\n",
      "  exec(code_obj, self.user_global_ns, self.user_ns)\n",
      "/opt/hostedtoolcache/Python/3.9.18/x64/lib/python3.9/site-packages/IPython/core/interactiveshell.py:3550: LatexWarning: Found documentclass in tmp_2403.13908/ms.tex\n",
      "\n",
      "  exec(code_obj, self.user_global_ns, self.user_ns)\n"
     ]
    },
    {
     "name": "stdout",
     "output_type": "stream",
     "text": [
      "Found 67 bibliographic references in tmp_2403.13908/ms.bbl.\n",
      "syntax error in line 214: '=' expected\n",
      "Retrieving document from  https://arxiv.org/e-print/2403.14106\n"
     ]
    },
    {
     "name": "stdout",
     "output_type": "stream",
     "text": [
      "extracting tarball to tmp_2403.14106... done.\n"
     ]
    }
   ],
   "source": [
    "documents = []\n",
    "failed = []\n",
    "for paper in tqdm(candidates):\n",
    "    paper_id = paper['identifier'].lower().replace('arxiv:', '')\n",
    "    \n",
    "    folder = f'tmp_{paper_id}'\n",
    "\n",
    "    try:\n",
    "        if not os.path.isdir(folder):\n",
    "            folder = retrieve_document_source(f\"{paper_id}\", f'tmp_{paper_id}')\n",
    "        \n",
    "        try:\n",
    "            doc = latex.LatexDocument(folder, validation=validation)    \n",
    "        except AffiliationError as affilerror:\n",
    "            msg = f\"ArXiv:{paper_id:s} is not an MPIA paper... \" + str(affilerror)\n",
    "            failed.append((paper, \"affiliation error: \" + str(affilerror) ))\n",
    "            continue\n",
    "        \n",
    "        # Hack because sometimes author parsing does not work well\n",
    "        if (len(doc.authors) != len(paper['authors'])):\n",
    "            doc._authors = paper['authors']\n",
    "        else:\n",
    "            # highlight authors (FIXME: doc.highlight_authors)\n",
    "            # done on arxiv paper already\n",
    "            doc._authors = highlight_authors_in_list(\n",
    "                [mpia.get_initials(k) for k in doc.authors], \n",
    "                normed_mpia_authors, verbose=True)\n",
    "        if (doc.abstract) in (None, ''):\n",
    "            doc._abstract = paper['abstract']\n",
    "            \n",
    "        doc.comment = (get_markdown_badge(paper_id) + \n",
    "                       \"<mark>Appeared on: \" + paper['date'] + \"</mark> - \")\n",
    "        if paper['comments']:\n",
    "            doc.comment += \" _\" + paper['comments'] + \"_\"\n",
    "        \n",
    "        full_md = doc.generate_markdown_text()\n",
    "        \n",
    "        full_md += get_markdown_qrcode(paper_id)\n",
    "        \n",
    "        # replace citations\n",
    "        try:\n",
    "            bibdata = latex_bib.LatexBib.from_doc(doc)\n",
    "            full_md = latex_bib.replace_citations(full_md, bibdata)\n",
    "        except Exception as e:\n",
    "            print(e)\n",
    "        \n",
    "        documents.append((paper_id, full_md))\n",
    "    except Exception as e:\n",
    "        warnings.warn(latex.LatexWarning(f\"{paper_id:s} did not run properly\\n\" +\n",
    "                                         str(e)\n",
    "                                        ))\n",
    "        failed.append((paper, \"latex error \" + str(e)))"
   ]
  },
  {
   "cell_type": "markdown",
   "id": "2505a25c",
   "metadata": {
    "papermill": {
     "duration": 0.003317,
     "end_time": "2024-03-22T04:09:08.606701",
     "exception": false,
     "start_time": "2024-03-22T04:09:08.603384",
     "status": "completed"
    },
    "tags": []
   },
   "source": [
    "### Export the logs\n",
    "\n",
    "Throughout, we also keep track of the logs per paper. see `logs-{today date}.md` "
   ]
  },
  {
   "cell_type": "code",
   "execution_count": 5,
   "id": "d733828a",
   "metadata": {
    "execution": {
     "iopub.execute_input": "2024-03-22T04:09:08.614548Z",
     "iopub.status.busy": "2024-03-22T04:09:08.614111Z",
     "iopub.status.idle": "2024-03-22T04:09:08.626961Z",
     "shell.execute_reply": "2024-03-22T04:09:08.626339Z"
    },
    "papermill": {
     "duration": 0.018235,
     "end_time": "2024-03-22T04:09:08.628281",
     "exception": false,
     "start_time": "2024-03-22T04:09:08.610046",
     "status": "completed"
    },
    "scrolled": false,
    "tags": []
   },
   "outputs": [
    {
     "data": {
      "text/markdown": [
       "## Successful papers"
      ],
      "text/plain": [
       "<IPython.core.display.Markdown object>"
      ]
     },
     "metadata": {},
     "output_type": "display_data"
    },
    {
     "data": {
      "text/markdown": [
       "\n",
       "|||\n",
       "|---:|:---|\n",
       "| [![arXiv](https://img.shields.io/badge/arXiv-arXiv:2403.13908-b31b1b.svg)](https://arxiv.org/abs/arXiv:2403.13908) | **PHANGS-HST: Globular Cluster Systems in 17 Nearby Spiral Galaxies**  |\n",
       "|| M. Floyd, et al. -- incl., <mark>E. Schinnerer</mark> |\n",
       "|*Appeared on*| *2024-03-22*|\n",
       "|*Comments*| *21 pages, 12 figures*|\n",
       "|**Abstract**| We present new catalogs of likely globular clusters (GCs) in 17 nearby spiral galaxies studied as part of the PHANGS-HST Treasury Survey. The galaxies were imaged in five broad-band filters from the near-ultraviolet through the $I$ band. PHANGS-HST has produced catalogs of stellar clusters of all ages by selecting extended sources (from multiple concentration index measurements) followed by morphological classification (centrally concentrated and symmetric or asymmetric, multiple peaks, contaminant) by visually examining the V-band image and separately by a machine-learning algorithm which classified larger samples to reach fainter limits. From both cluster catalogs, we select an initial list of candidate GCs to have $B-V \\geq 0.5$ and $V-I \\geq 0.73$~mag, then remove likely contaminants (including reddened young clusters, background galaxies misclassified by the neural network, and chance superpositions/blends of stars) after a careful visual inspection. We find that $\\approx86$ % of the color-selected candidates classified as spherically symmetric, and $\\approx68$ of those classified as centrally concentrated but asymmetric are likely to be GCs. The luminosity functions of the GC candidates in 2 of our 17 galaxies, NGC 628 and NGC 3627, are atypical, and continue to rise at least 1~mag fainter than the expected turnover near $M_V \\sim -7.4$. These faint candidate GCs have more extended spatial distributions than their bright counterparts, and may reside in the disk rather than the bulge/halo, similar to faint GCs previously discovered in M101. These faint clusters may be somewhat younger since the age-metallicity degeneracy makes it difficult to determine precise cluster ages from integrated colors once they reach $\\approx1$~Gyr. |"
      ],
      "text/plain": [
       "[arXiv:2403.13908] PHANGS-HST: Globular Cluster Systems in 17 Nearby Spiral Galaxies\n",
       "\tM. Floyd, et al. -- incl., <mark>E. Schinnerer</mark>"
      ]
     },
     "metadata": {},
     "output_type": "display_data"
    },
    {
     "data": {
      "text/markdown": [
       "## Failed papers"
      ],
      "text/plain": [
       "<IPython.core.display.Markdown object>"
      ]
     },
     "metadata": {},
     "output_type": "display_data"
    },
    {
     "data": {
      "text/markdown": [
       "\n",
       "|||\n",
       "|---:|:---|\n",
       "| [![arXiv](https://img.shields.io/badge/arXiv-arXiv:2403.14106-b31b1b.svg)](https://arxiv.org/abs/arXiv:2403.14106) | **The disappearance of the blue and luminous progenitor of the Type IIn SN  2010jl**  |\n",
       "|| Z. Niu, N.-C. Sun, <mark>J. Liu</mark> |\n",
       "|*Appeared on*| *2024-03-22*|\n",
       "|*Comments*| *Submitted to ApJL; 4 figures; comments are welcome*|\n",
       "|**Abstract**| Type IIn supernovae (SNe) exhibit narrow hydrogen lines that arise from the strong interaction between ejecta and circumstellar material. It remains poorly understood, however, what progenitor stars give rise to these explosions. In this work, we perform a detailed analysis of the progenitor and environment of the nearby Type IIn SN 2010jl. With newer images taken by the Hubble Space Telescope, we confirm that the previously reported progenitor candidate is a blend of the progenitor itself and a field star cluster in its close vicinity. SN 2010jl has now become much fainter than the progenitor. The progenitor is very blue and luminous with an effective temperature of log $T_{\\rm eff}/{\\rm K}$=4.26$^{+0.11}_{-0.09}$ and a luminosity of log $L/L_{\\odot}$ =6.52$^{+0.20}_{-0.16}$. It is located in a very young star-forming region, but its luminosity is much higher than that expected from the environmental stellar populations. We suggest that the progenitor was in outburst when observed. Its nature and evolutionary history remain to be investigated. |\n",
       "|<p style=\"color:green\"> **ERROR** </p>| <p style=\"color:green\">affiliation error: mpia.affiliation_verifications: 'Heidelberg' keyword not found.</p> |"
      ],
      "text/plain": [
       "<IPython.core.display.Markdown object>"
      ]
     },
     "metadata": {},
     "output_type": "display_data"
    }
   ],
   "source": [
    "import datetime\n",
    "today = str(datetime.date.today())\n",
    "logfile = f\"_build/html/logs/log-{today}.md\"\n",
    "\n",
    "\n",
    "with open(logfile, 'w') as logs:\n",
    "    # Success\n",
    "    logs.write(f'# Arxiv on Deck 2: Logs - {today}\\n\\n')\n",
    "    logs.write(\"\"\"* Arxiv had {0:,d} new papers\\n\"\"\".format(len(new_papers)))\n",
    "    logs.write(\"\"\"    * {0:,d} with possible author matches\\n\\n\"\"\".format(len(candidates)))\n",
    "    logs.write(\"## Sucessful papers\\n\\n\")\n",
    "    display(Markdown(\"## Successful papers\"))\n",
    "    success = [k[0] for k in documents]\n",
    "    for candid in candidates:\n",
    "        if candid['identifier'].split(':')[-1] in success:\n",
    "            display(candid)\n",
    "            logs.write(candid.generate_markdown_text() + '\\n\\n')\n",
    "\n",
    "    ## failed\n",
    "    logs.write(\"## Failed papers\\n\\n\")\n",
    "    display(Markdown(\"## Failed papers\"))\n",
    "    failed = sorted(failed, key=lambda x: x[1])\n",
    "    current_reason = \"\"\n",
    "    for paper, reason in failed:\n",
    "        if 'affiliation' in reason:\n",
    "            color = 'green'\n",
    "        else:\n",
    "            color = 'red'\n",
    "        data = Markdown(\n",
    "                paper.generate_markdown_text() + \n",
    "                f'\\n|<p style=\"color:{color:s}\"> **ERROR** </p>| <p style=\"color:{color:s}\">{reason:s}</p> |'\n",
    "               )\n",
    "        if reason != current_reason:\n",
    "            logs.write(f'### {reason:s} \\n\\n')\n",
    "            current_reason = reason\n",
    "        logs.write(data.data + '\\n\\n')\n",
    "        \n",
    "        # only display here the important errors (all in logs)\n",
    "        # if color in ('red',):\n",
    "        display(data)"
   ]
  },
  {
   "cell_type": "markdown",
   "id": "472d20ee",
   "metadata": {
    "papermill": {
     "duration": 0.00366,
     "end_time": "2024-03-22T04:09:08.635653",
     "exception": false,
     "start_time": "2024-03-22T04:09:08.631993",
     "status": "completed"
    },
    "tags": []
   },
   "source": [
    "## Export documents\n",
    "\n",
    "We now write the .md files and export relevant images"
   ]
  },
  {
   "cell_type": "code",
   "execution_count": 6,
   "id": "d426aed9",
   "metadata": {
    "execution": {
     "iopub.execute_input": "2024-03-22T04:09:08.644278Z",
     "iopub.status.busy": "2024-03-22T04:09:08.643864Z",
     "iopub.status.idle": "2024-03-22T04:09:08.650303Z",
     "shell.execute_reply": "2024-03-22T04:09:08.649738Z"
    },
    "papermill": {
     "duration": 0.012266,
     "end_time": "2024-03-22T04:09:08.651591",
     "exception": false,
     "start_time": "2024-03-22T04:09:08.639325",
     "status": "completed"
    },
    "tags": []
   },
   "outputs": [],
   "source": [
    "def export_markdown_summary(md: str, md_fname:str, directory: str):\n",
    "    \"\"\"Export MD document and associated relevant images\"\"\"\n",
    "    import os\n",
    "    import shutil\n",
    "    import re\n",
    "\n",
    "    if (os.path.exists(directory) and not os.path.isdir(directory)):\n",
    "        raise RuntimeError(f\"a non-directory file exists with name {directory:s}\")\n",
    "\n",
    "    if (not os.path.exists(directory)):\n",
    "        print(f\"creating directory {directory:s}\")\n",
    "        os.mkdir(directory)\n",
    "\n",
    "    fig_fnames = (re.compile(r'\\[Fig.*\\]\\((.*)\\)').findall(md) + \n",
    "                  re.compile(r'\\<img src=\"([^>\\s]*)\"[^>]*/>').findall(md))\n",
    "    for fname in fig_fnames:\n",
    "        if 'http' in fname:\n",
    "            # No need to copy online figures\n",
    "            continue\n",
    "        destdir = os.path.join(directory, os.path.dirname(fname))\n",
    "        destfname = os.path.join(destdir, os.path.basename(fname))\n",
    "        try:\n",
    "            os.makedirs(destdir)\n",
    "        except FileExistsError:\n",
    "            pass\n",
    "        shutil.copy(fname, destfname)\n",
    "    with open(os.path.join(directory, md_fname), 'w') as fout:\n",
    "        fout.write(md)\n",
    "    print(\"exported in \", os.path.join(directory, md_fname))\n",
    "    [print(\"    + \" + os.path.join(directory,fk)) for fk in fig_fnames]"
   ]
  },
  {
   "cell_type": "code",
   "execution_count": 7,
   "id": "014d04a4",
   "metadata": {
    "execution": {
     "iopub.execute_input": "2024-03-22T04:09:08.660306Z",
     "iopub.status.busy": "2024-03-22T04:09:08.659902Z",
     "iopub.status.idle": "2024-03-22T04:09:08.670163Z",
     "shell.execute_reply": "2024-03-22T04:09:08.669497Z"
    },
    "papermill": {
     "duration": 0.016074,
     "end_time": "2024-03-22T04:09:08.671487",
     "exception": false,
     "start_time": "2024-03-22T04:09:08.655413",
     "status": "completed"
    },
    "tags": []
   },
   "outputs": [
    {
     "name": "stdout",
     "output_type": "stream",
     "text": [
      "exported in  _build/html/2403.13908.md\n",
      "    + _build/html/tmp_2403.13908/./BG_FS.png\n",
      "    + _build/html/tmp_2403.13908/./CC_plot_showing_separation.png\n",
      "    + _build/html/tmp_2403.13908/./Good_Glob.png\n"
     ]
    }
   ],
   "source": [
    "for paper_id, md in documents:\n",
    "    export_markdown_summary(md, f\"{paper_id:s}.md\", '_build/html/')"
   ]
  },
  {
   "cell_type": "markdown",
   "id": "f087a0a7",
   "metadata": {
    "papermill": {
     "duration": 0.00377,
     "end_time": "2024-03-22T04:09:08.679116",
     "exception": false,
     "start_time": "2024-03-22T04:09:08.675346",
     "status": "completed"
    },
    "tags": []
   },
   "source": [
    "## Display the papers\n",
    "\n",
    "Not necessary but allows for a quick check."
   ]
  },
  {
   "cell_type": "code",
   "execution_count": 8,
   "id": "fd25f625",
   "metadata": {
    "execution": {
     "iopub.execute_input": "2024-03-22T04:09:08.687843Z",
     "iopub.status.busy": "2024-03-22T04:09:08.687441Z",
     "iopub.status.idle": "2024-03-22T04:09:08.692320Z",
     "shell.execute_reply": "2024-03-22T04:09:08.691748Z"
    },
    "papermill": {
     "duration": 0.010716,
     "end_time": "2024-03-22T04:09:08.693659",
     "exception": false,
     "start_time": "2024-03-22T04:09:08.682943",
     "status": "completed"
    },
    "scrolled": false,
    "tags": []
   },
   "outputs": [
    {
     "data": {
      "text/markdown": [
       "<div class=\"macros\" style=\"visibility:hidden;\">\n",
       "$\\newcommand{\\ensuremath}{}$\n",
       "$\\newcommand{\\xspace}{}$\n",
       "$\\newcommand{\\object}[1]{\\texttt{#1}}$\n",
       "$\\newcommand{\\farcs}{{.}''}$\n",
       "$\\newcommand{\\farcm}{{.}'}$\n",
       "$\\newcommand{\\arcsec}{''}$\n",
       "$\\newcommand{\\arcmin}{'}$\n",
       "$\\newcommand{\\ion}[2]{#1#2}$\n",
       "$\\newcommand{\\textsc}[1]{\\textrm{#1}}$\n",
       "$\\newcommand{\\hl}[1]{\\textrm{#1}}$\n",
       "$\\newcommand{\\footnote}[1]{}$\n",
       "$\\newcommand$\n",
       "$\\newcommand$\n",
       "$\\newcommand{\\UTA}{\\affiliation{Instituto de Alta Investigación, Universidad de Tarapacá, Casilla 7D, Arica, Chile}}$\n",
       "$\\newcommand{\\UWyoming}{\\affiliation{Department of Physics and Astronomy, University of Wyoming, Laramie, WY 82071, USA}}$\n",
       "$\\newcommand{\\STScI}{\\affiliation{Space Telescope Science Institute, 3700 San Martin Drive, Baltimore, MD 21218, USA}}$\n",
       "$\\newcommand{\\UToledo}{\\affiliation{Ritter Astrophysical Research Center, University of Toledo, Toledo, OH 43606, USA}}$\n",
       "$\\newcommand{\\JHU}{\\affiliation{Department of Physics and Astronomy, The Johns Hopkins University, Baltimore, MD 21218 USA}}$\n",
       "$\\newcommand{\\Caltech}{\\affiliation{TAPIR, California Institute of Technology, Pasadena, CA 91125 USA}}$\n",
       "$\\newcommand{\\OSU}{\\affiliation{Department of Astronomy, The Ohio State University, 140 West 18th Ave., Columbus, OH 43210, USA}}$\n",
       "$\\newcommand{\\MPIA}{\\affiliation{Max Planck Institut für Astronomie, Königstuhl 17, 69117 Heidelberg, Germany}}$\n",
       "$\\newcommand{\\UAlberta}{\\affiliation{Department of Physics, University of Alberta, Edmonton, AB T6G 2E1, Canada}}$\n",
       "$\\newcommand{\\Bonn}{\\affiliation{Argelander-Institut für Astronomie, Universität Bonn, Auf dem Hügel 71, 53121, Bonn, Germany}}$\n",
       "$\\newcommand{\\AthreeD}{\\affiliation{ARC Centre of Excellence for All Sky Astrophysics in 3 Dimensions (ASTRO 3D), Australia}}$\n",
       "$\\newcommand{\\ITA}{\\affiliation{Institut für Theoretische Astrophysik, Zentrum für Astronomie der Universität Heidelberg,\\ Albert-Ueberle-Strasse 2, 69120 Heidelberg, Germany}}$\n",
       "$\\newcommand{\\IWR}{\\affiliation{Universität Heidelberg, Interdisziplinäres Zentrum für Wissenschaftliches Rechnen, Im Neuenheimer Feld 205, D-69120 Heidelberg, Germany}}$\n",
       "$\\newcommand{\\STScIESA}{\\affiliation{AURA for the European Space Agency (ESA), Space Telescope Science Institute, 3700 San Martin Drive, Baltimore, MD 21218, USA}}$\n",
       "$\\newcommand{\\OHHS}{\\affiliation{Ottawa Hills High School, 4035 W. Central Ave, Ottawa Hills, OH, 43606}}$\n",
       "$\\newcommand{\\UMICHD}{\\affiliation{Department of Natural Sciences, University of Michigan-Dearborn, 4901 Evergreen Road, Dearborn, MI 48128, USA}}$\n",
       "$\\newcommand{\\UIOWA}{\\affiliation{Department of Physics and Astronomy, University of Iowa, Iowa City, Iowa 52242, USA}}$\n",
       "$\\newcommand{\\CWRU}{\\affiliation{Department of Astronomy, Case Western Reserve University, 10900 Euclid Avenue, Cleveland, OH 44106, USA}}$\n",
       "$\\newcommand{\\lea}{\\mathrel{<\\kern-1.0em\\lower0.9ex\\hbox{\\sim}}}$\n",
       "$\\newcommand{\\gea}{\\mathrel{>\\kern-1.0em\\lower0.9ex\\hbox{\\sim}}}$\n",
       "$\\newcommand\\rc{#1}$</div>\n",
       "\n",
       "\n",
       "\n",
       "<div id=\"title\">\n",
       "\n",
       "# PHANGS-HST: Globular Cluster Systems in 17 Nearby Spiral Galaxies\n",
       "\n",
       "</div>\n",
       "<div id=\"comments\">\n",
       "\n",
       "[![arXiv](https://img.shields.io/badge/arXiv-2403.13908-b31b1b.svg)](https://arxiv.org/abs/2403.13908)<mark>Appeared on: 2024-03-22</mark> -  _21 pages, 12 figures_\n",
       "\n",
       "</div>\n",
       "<div id=\"authors\">\n",
       "\n",
       "Matthew~Floyd, et al.\n",
       "\n",
       "</div>\n",
       "<div id=\"abstract\">\n",
       "\n",
       "**Abstract:** We present new catalogs of likely globular clusters (GCs) in 17 nearby spiral galaxies studied as part of the PHANGS-HST Treasury Survey. The galaxies were imaged in five broad-band filters from the near-ultraviolet through the $I$ band.  PHANGS-HST has produced catalogs of stellar clusters of all ages by selecting extended sources (from multiple concentration index measurements) followed by morphological classification (centrally concentrated and symmetric or asymmetric, multiple peaks, contaminant) by visually examining the V-band image and separately by a machine-learning algorithm which classified larger samples to reach fainter limits. From both cluster catalogs, we select an initial list of candidate GCs to have $B-V \\geq 0.5$ and $V-I \\geq 0.73$ mag, then remove likely contaminants (including reddened young clusters, background galaxies misclassified by the neural network, and chance superpositions/blends of stars) after a careful visual inspection.We find that $\\approx86$ \\% of the color-selected candidates classified as spherically symmetric, and 68 \\% of those classified as centrally concentrated but asymmetric are likely to be GCs.  The luminosity functions of the GC candidates in 2 of our 17 galaxies, NGC 628 and NGC 3627, are atypical, and continue to rise at least 1 mag fainter than the expected turnover near $M_V \\sim -7.4$ . These faint candidate GCs have more extended spatial distributions than their bright counterparts, and may reside in the disk rather than the bulge/halo, similar to faint GCs previously discovered in M101. These faint clusters may be somewhat younger since the age-metallicity degeneracy makes it difficult to determine precise cluster ages from integrated colors once they reach $\\approx1$ Gyr.\n",
       "\n",
       "</div>\n",
       "\n",
       "<div id=\"div_fig1\">\n",
       "\n",
       "<img src=\"tmp_2403.13908/./BG_FS.png\" alt=\"Fig5\" width=\"100%\"/>\n",
       "\n",
       "**Figure 5. -** Color BVI images showing examples of contaminants from our initial color-selection of GC candidates. The left image shows a background galaxy that was included in the machine-learning catalogs. The center panel shows two background galaxies also from the ML-selected catalogs, while the right panel shows a saturated foreground star from the human-classified catalog. All contaminants are removed from the final GC catalogs. (*fig:RG_FGS*)\n",
       "\n",
       "</div>\n",
       "<div id=\"div_fig2\">\n",
       "\n",
       "<img src=\"tmp_2403.13908/./CC_plot_showing_separation.png\" alt=\"Fig2\" width=\"100%\"/>\n",
       "\n",
       "**Figure 2. -** Color-color diagrams are shown for all human-selected Class 1$+$2 cluster candidates.\n",
       "        $U-B$ vs $V-I$  is shown on the left and $B-V$ vs $V-I$ on the right.\n",
       "    The predicted color evolution from the \\citet{Bruzual03} stellar population models are shown for solar metallicity (red) and 1/50$\\times$solar metallicity (blue). The light blue oval at the upper left shows the 'young cluster locus', the green oval shows the 'middle-aged plume', and the red oval shows the 'old globular-cluster clump'.\n",
       "    Dashed lines indicate the color cuts we use to select our initial list of GC candidates, B-V $\\geq 0.5$ and V-I $\\geq$ 0.73. Only those candidates with significant U-band measurements are plotted in the left panel.\n",
       "    The arrows represent the direction and amount of reddening for $A_V = 1$. (*fig:human12_cc*)\n",
       "\n",
       "</div>\n",
       "<div id=\"div_fig3\">\n",
       "\n",
       "<img src=\"tmp_2403.13908/./Good_Glob.png\" alt=\"Fig3\" width=\"100%\"/>\n",
       "\n",
       "**Figure 3. -** Diagnostic plots for an ancient globular cluster. The source appears symmetric, round, and has a uniform color in a $BVI$ image (left). The right panel, a $B-V-$ CO image, shows there is no CO emission associated with the cluster. In the color-color diagrams shown in the center panel, the cluster (blue circle) lies close to predictions from the $1/50 \\times$solar metallicity SSP model.\n",
       "    Black star symbols mark ages of 1 Myr, 10 Myr, 100 Myr, 1 Gyr, and 10 Gyr on the solar metallicity track.  A cyan star marks the predicted position for 10 Gyr in the 1/50th solar model. (*fig:good glob*)\n",
       "\n",
       "</div><div id=\"qrcode\"><img src=https://api.qrserver.com/v1/create-qr-code/?size=100x100&data=\"https://arxiv.org/abs/2403.13908\"></div>"
      ],
      "text/plain": [
       "<IPython.core.display.Markdown object>"
      ]
     },
     "metadata": {},
     "output_type": "display_data"
    }
   ],
   "source": [
    "[display(Markdown(k[1])) for k in documents];"
   ]
  },
  {
   "cell_type": "markdown",
   "id": "873873a4",
   "metadata": {
    "papermill": {
     "duration": 0.003965,
     "end_time": "2024-03-22T04:09:08.701667",
     "exception": false,
     "start_time": "2024-03-22T04:09:08.697702",
     "status": "completed"
    },
    "tags": []
   },
   "source": [
    "# Create HTML index"
   ]
  },
  {
   "cell_type": "code",
   "execution_count": 9,
   "id": "cf665672",
   "metadata": {
    "execution": {
     "iopub.execute_input": "2024-03-22T04:09:08.710879Z",
     "iopub.status.busy": "2024-03-22T04:09:08.710479Z",
     "iopub.status.idle": "2024-03-22T04:09:08.720261Z",
     "shell.execute_reply": "2024-03-22T04:09:08.719734Z"
    },
    "papermill": {
     "duration": 0.015884,
     "end_time": "2024-03-22T04:09:08.721625",
     "exception": false,
     "start_time": "2024-03-22T04:09:08.705741",
     "status": "completed"
    },
    "tags": []
   },
   "outputs": [
    {
     "name": "stdout",
     "output_type": "stream",
     "text": [
      "392  publications files modified in the last 7 days.\n"
     ]
    }
   ],
   "source": [
    "from datetime import datetime, timedelta, timezone\n",
    "from glob import glob\n",
    "import os\n",
    "\n",
    "files = glob('_build/html/*.md')\n",
    "days = 7\n",
    "now = datetime.today()\n",
    "res = []\n",
    "for fk in files:\n",
    "    stat_result = os.stat(fk).st_ctime\n",
    "    modified = datetime.fromtimestamp(stat_result, tz=timezone.utc).replace(tzinfo=None)\n",
    "    delta = now.today() - modified\n",
    "    if delta <= timedelta(days=days):\n",
    "        res.append((delta.seconds, fk))\n",
    "res = [k[1] for k in reversed(sorted(res, key=lambda x:x[1]))]\n",
    "npub = len(res)\n",
    "print(len(res), f\" publications files modified in the last {days:d} days.\")\n",
    "# [ print('\\t', k) for k in res ];"
   ]
  },
  {
   "cell_type": "code",
   "execution_count": 10,
   "id": "015de740",
   "metadata": {
    "execution": {
     "iopub.execute_input": "2024-03-22T04:09:08.730702Z",
     "iopub.status.busy": "2024-03-22T04:09:08.730403Z",
     "iopub.status.idle": "2024-03-22T04:09:08.751777Z",
     "shell.execute_reply": "2024-03-22T04:09:08.751148Z"
    },
    "papermill": {
     "duration": 0.02749,
     "end_time": "2024-03-22T04:09:08.753231",
     "exception": false,
     "start_time": "2024-03-22T04:09:08.725741",
     "status": "completed"
    },
    "tags": []
   },
   "outputs": [
    {
     "name": "stdout",
     "output_type": "stream",
     "text": [
      "4  publications in the last 7 days.\n"
     ]
    }
   ],
   "source": [
    "import datetime\n",
    "from glob import glob\n",
    "\n",
    "def get_last_n_days(lst, days=1):\n",
    "    \"\"\" Get the documents from the last n days \"\"\"\n",
    "    sorted_lst = sorted(lst, key=lambda x: x[1], reverse=True)\n",
    "    for fname, date in sorted_lst:\n",
    "        if date >= str(datetime.date.today() - datetime.timedelta(days=days)):\n",
    "            yield fname\n",
    "\n",
    "def extract_appearance_dates(lst_file):\n",
    "    dates = []\n",
    "\n",
    "    def get_date(line):\n",
    "        return line\\\n",
    "            .split('Appeared on:')[-1]\\\n",
    "            .split('</mark>')[0].strip()\n",
    "\n",
    "    for fname in lst:\n",
    "        with open(fname, 'r') as f:\n",
    "            found_date = False\n",
    "            for line in f:\n",
    "                if not found_date:\n",
    "                    if \"Appeared on\" in line:\n",
    "                        found_date = True\n",
    "                        dates.append((fname, get_date(line)))\n",
    "                else:\n",
    "                    break\n",
    "    return dates\n",
    "\n",
    "from glob import glob\n",
    "lst = glob('_build/html/*md')\n",
    "days = 7\n",
    "dates = extract_appearance_dates(lst)\n",
    "res = list(get_last_n_days(dates, days))\n",
    "npub = len(res)\n",
    "print(len(res), f\" publications in the last {days:d} days.\")"
   ]
  },
  {
   "cell_type": "code",
   "execution_count": 11,
   "id": "52ca0208",
   "metadata": {
    "execution": {
     "iopub.execute_input": "2024-03-22T04:09:08.762762Z",
     "iopub.status.busy": "2024-03-22T04:09:08.762298Z",
     "iopub.status.idle": "2024-03-22T04:09:08.767146Z",
     "shell.execute_reply": "2024-03-22T04:09:08.766569Z"
    },
    "papermill": {
     "duration": 0.010966,
     "end_time": "2024-03-22T04:09:08.768446",
     "exception": false,
     "start_time": "2024-03-22T04:09:08.757480",
     "status": "completed"
    },
    "scrolled": false,
    "tags": []
   },
   "outputs": [],
   "source": [
    "def create_carousel(npub=4):\n",
    "    \"\"\" Generate the HTML code for a carousel with `npub` slides \"\"\"\n",
    "    carousel = [\"\"\"  <div class=\"carousel\" \"\"\",\n",
    "                \"\"\"       data-flickity='{ \"autoPlay\": 10000, \"adaptiveHeight\": true, \"resize\": true, \"wrapAround\": true, \"pauseAutoPlayOnHover\": true, \"groupCells\": 1 }' id=\"asyncTypeset\">\"\"\"\n",
    "                ]\n",
    "    \n",
    "    item_str = \"\"\"    <div class=\"carousel-cell\"> <div id=\"slide{k}\" class=\"md_view\">Content {k}</div> </div>\"\"\"\n",
    "    for k in range(1, npub + 1):\n",
    "        carousel.append(item_str.format(k=k))\n",
    "    carousel.append(\"  </div>\")\n",
    "    return '\\n'.join(carousel)\n",
    "\n",
    "def create_grid(npub=4):\n",
    "    \"\"\" Generate the HTML code for a flat grid with `npub` slides \"\"\"\n",
    "    grid = [\"\"\"  <div class=\"grid\"> \"\"\",\n",
    "                ]\n",
    "    \n",
    "    item_str = \"\"\"    <div class=\"grid-item\"> <div id=\"slide{k}\" class=\"md_view\">Content {k}</div> </div>\"\"\"\n",
    "    for k in range(1, npub + 1):\n",
    "        grid.append(item_str.format(k=k))\n",
    "    grid.append(\"  </div>\")\n",
    "    return '\\n'.join(grid)"
   ]
  },
  {
   "cell_type": "code",
   "execution_count": 12,
   "id": "a6eac5b6",
   "metadata": {
    "execution": {
     "iopub.execute_input": "2024-03-22T04:09:08.778065Z",
     "iopub.status.busy": "2024-03-22T04:09:08.777676Z",
     "iopub.status.idle": "2024-03-22T04:09:08.782600Z",
     "shell.execute_reply": "2024-03-22T04:09:08.781990Z"
    },
    "papermill": {
     "duration": 0.011245,
     "end_time": "2024-03-22T04:09:08.783990",
     "exception": false,
     "start_time": "2024-03-22T04:09:08.772745",
     "status": "completed"
    },
    "scrolled": false,
    "tags": []
   },
   "outputs": [],
   "source": [
    "carousel = create_carousel(npub)\n",
    "docs = ', '.join(['\"{0:s}\"'.format(k.split('/')[-1]) for k in res])\n",
    "slides = ', '.join([f'\"slide{k}\"' for k in range(1, npub + 1)])\n",
    "\n",
    "with open(\"daily_template.html\", \"r\") as tpl:\n",
    "    page = tpl.read()\n",
    "    page = page.replace(\"{%-- carousel:s --%}\", carousel)\\\n",
    "               .replace(\"{%-- suptitle:s --%}\",  \"7-day archives\" )\\\n",
    "               .replace(\"{%-- docs:s --%}\", docs)\\\n",
    "               .replace(\"{%-- slides:s --%}\", slides)\n",
    "    \n",
    "with open(\"_build/html/index_7days.html\", 'w') as fout:\n",
    "    fout.write(page)"
   ]
  },
  {
   "cell_type": "code",
   "execution_count": 13,
   "id": "adc1a1ec",
   "metadata": {
    "execution": {
     "iopub.execute_input": "2024-03-22T04:09:08.793562Z",
     "iopub.status.busy": "2024-03-22T04:09:08.793062Z",
     "iopub.status.idle": "2024-03-22T04:09:08.799930Z",
     "shell.execute_reply": "2024-03-22T04:09:08.799424Z"
    },
    "papermill": {
     "duration": 0.013037,
     "end_time": "2024-03-22T04:09:08.801237",
     "exception": false,
     "start_time": "2024-03-22T04:09:08.788200",
     "status": "completed"
    },
    "tags": []
   },
   "outputs": [
    {
     "name": "stdout",
     "output_type": "stream",
     "text": [
      "1  publications in the last day.\n"
     ]
    }
   ],
   "source": [
    "# redo for today\n",
    "days = 1\n",
    "res = list(get_last_n_days(dates, days))\n",
    "npub = len(res)\n",
    "print(len(res), f\" publications in the last day.\")\n",
    "\n",
    "carousel = create_carousel(npub)\n",
    "docs = ', '.join(['\"{0:s}\"'.format(k.split('/')[-1]) for k in res])\n",
    "slides = ', '.join([f'\"slide{k}\"' for k in range(1, npub + 1)])\n",
    "\n",
    "with open(\"daily_template.html\", \"r\") as tpl:\n",
    "    page = tpl.read()\n",
    "    page = page.replace(\"{%-- carousel:s --%}\", carousel)\\\n",
    "               .replace(\"{%-- suptitle:s --%}\",  \"Daily\" )\\\n",
    "               .replace(\"{%-- docs:s --%}\", docs)\\\n",
    "               .replace(\"{%-- slides:s --%}\", slides)\n",
    "    \n",
    "# print(carousel, docs, slides)\n",
    "# print(page)\n",
    "with open(\"_build/html/index_daily.html\", 'w') as fout:\n",
    "    fout.write(page)"
   ]
  },
  {
   "cell_type": "code",
   "execution_count": 14,
   "id": "00eece82",
   "metadata": {
    "execution": {
     "iopub.execute_input": "2024-03-22T04:09:08.810944Z",
     "iopub.status.busy": "2024-03-22T04:09:08.810580Z",
     "iopub.status.idle": "2024-03-22T04:09:08.816729Z",
     "shell.execute_reply": "2024-03-22T04:09:08.816150Z"
    },
    "papermill": {
     "duration": 0.012492,
     "end_time": "2024-03-22T04:09:08.818059",
     "exception": false,
     "start_time": "2024-03-22T04:09:08.805567",
     "status": "completed"
    },
    "scrolled": false,
    "tags": []
   },
   "outputs": [
    {
     "name": "stdout",
     "output_type": "stream",
     "text": [
      "6  6 publications selected.\n"
     ]
    }
   ],
   "source": [
    "# Create the flat grid of the last N papers (fixed number regardless of dates)\n",
    "from itertools import islice \n",
    "\n",
    "npub = 6\n",
    "res = [k[0] for k in (islice(reversed(sorted(dates, key=lambda x: x[1])), 6))]\n",
    "print(len(res), f\" {npub} publications selected.\")\n",
    "\n",
    "grid = create_grid(npub)\n",
    "docs = ', '.join(['\"{0:s}\"'.format(k.split('/')[-1]) for k in res])\n",
    "slides = ', '.join([f'\"slide{k}\"' for k in range(1, npub + 1)])\n",
    "\n",
    "with open(\"grid_template.html\", \"r\") as tpl:\n",
    "    page = tpl.read()\n",
    "    page = page.replace(\"{%-- grid-content:s --%}\", grid)\\\n",
    "               .replace(\"{%-- suptitle:s --%}\",  f\"Last {npub:,d} papers\" )\\\n",
    "               .replace(\"{%-- docs:s --%}\", docs)\\\n",
    "               .replace(\"{%-- slides:s --%}\", slides)\n",
    "    \n",
    "# print(grid, docs, slides)\n",
    "# print(page)\n",
    "with open(\"_build/html/index_npub_grid.html\", 'w') as fout:\n",
    "    fout.write(page)"
   ]
  }
 ],
 "metadata": {
  "kernelspec": {
   "display_name": "Python 3 (ipykernel)",
   "language": "python",
   "name": "python3"
  },
  "language_info": {
   "codemirror_mode": {
    "name": "ipython",
    "version": 3
   },
   "file_extension": ".py",
   "mimetype": "text/x-python",
   "name": "python",
   "nbconvert_exporter": "python",
   "pygments_lexer": "ipython3",
   "version": "3.9.18"
  },
  "papermill": {
   "default_parameters": {},
   "duration": 65.196074,
   "end_time": "2024-03-22T04:09:09.038309",
   "environment_variables": {},
   "exception": null,
   "input_path": "MPIA daily digest.ipynb",
   "output_path": "log.ipynb",
   "parameters": {},
   "start_time": "2024-03-22T04:08:03.842235",
   "version": "2.5.0"
  },
  "vscode": {
   "interpreter": {
    "hash": "aee8b7b246df8f9039afb4144a1f6fd8d2ca17a180786b69acc140d282b71a49"
   }
  },
  "widgets": {
   "application/vnd.jupyter.widget-state+json": {
    "state": {
     "1825bab4d01b4cc28a2d253e45667ad2": {
      "model_module": "@jupyter-widgets/controls",
      "model_module_version": "2.0.0",
      "model_name": "ProgressStyleModel",
      "state": {
       "_model_module": "@jupyter-widgets/controls",
       "_model_module_version": "2.0.0",
       "_model_name": "ProgressStyleModel",
       "_view_count": null,
       "_view_module": "@jupyter-widgets/base",
       "_view_module_version": "2.0.0",
       "_view_name": "StyleView",
       "bar_color": null,
       "description_width": ""
      }
     },
     "3453d6a1ee3549adaed47a29af75e3e6": {
      "model_module": "@jupyter-widgets/controls",
      "model_module_version": "2.0.0",
      "model_name": "HTMLStyleModel",
      "state": {
       "_model_module": "@jupyter-widgets/controls",
       "_model_module_version": "2.0.0",
       "_model_name": "HTMLStyleModel",
       "_view_count": null,
       "_view_module": "@jupyter-widgets/base",
       "_view_module_version": "2.0.0",
       "_view_name": "StyleView",
       "background": null,
       "description_width": "",
       "font_size": null,
       "text_color": null
      }
     },
     "51e1f5c108584034a5cef755646ca883": {
      "model_module": "@jupyter-widgets/base",
      "model_module_version": "2.0.0",
      "model_name": "LayoutModel",
      "state": {
       "_model_module": "@jupyter-widgets/base",
       "_model_module_version": "2.0.0",
       "_model_name": "LayoutModel",
       "_view_count": null,
       "_view_module": "@jupyter-widgets/base",
       "_view_module_version": "2.0.0",
       "_view_name": "LayoutView",
       "align_content": null,
       "align_items": null,
       "align_self": null,
       "border_bottom": null,
       "border_left": null,
       "border_right": null,
       "border_top": null,
       "bottom": null,
       "display": null,
       "flex": null,
       "flex_flow": null,
       "grid_area": null,
       "grid_auto_columns": null,
       "grid_auto_flow": null,
       "grid_auto_rows": null,
       "grid_column": null,
       "grid_gap": null,
       "grid_row": null,
       "grid_template_areas": null,
       "grid_template_columns": null,
       "grid_template_rows": null,
       "height": null,
       "justify_content": null,
       "justify_items": null,
       "left": null,
       "margin": null,
       "max_height": null,
       "max_width": null,
       "min_height": null,
       "min_width": null,
       "object_fit": null,
       "object_position": null,
       "order": null,
       "overflow": null,
       "padding": null,
       "right": null,
       "top": null,
       "visibility": null,
       "width": null
      }
     },
     "59224bd04286415b904248d3c89425cb": {
      "model_module": "@jupyter-widgets/controls",
      "model_module_version": "2.0.0",
      "model_name": "HTMLModel",
      "state": {
       "_dom_classes": [],
       "_model_module": "@jupyter-widgets/controls",
       "_model_module_version": "2.0.0",
       "_model_name": "HTMLModel",
       "_view_count": null,
       "_view_module": "@jupyter-widgets/controls",
       "_view_module_version": "2.0.0",
       "_view_name": "HTMLView",
       "description": "",
       "description_allow_html": false,
       "layout": "IPY_MODEL_51e1f5c108584034a5cef755646ca883",
       "placeholder": "​",
       "style": "IPY_MODEL_3453d6a1ee3549adaed47a29af75e3e6",
       "tabbable": null,
       "tooltip": null,
       "value": "100%"
      }
     },
     "66e49703c8b54300bc01b8dd9f68f782": {
      "model_module": "@jupyter-widgets/controls",
      "model_module_version": "2.0.0",
      "model_name": "FloatProgressModel",
      "state": {
       "_dom_classes": [],
       "_model_module": "@jupyter-widgets/controls",
       "_model_module_version": "2.0.0",
       "_model_name": "FloatProgressModel",
       "_view_count": null,
       "_view_module": "@jupyter-widgets/controls",
       "_view_module_version": "2.0.0",
       "_view_name": "ProgressView",
       "bar_style": "success",
       "description": "",
       "description_allow_html": false,
       "layout": "IPY_MODEL_905e6696fc19400eba49276f7f53558f",
       "max": 2.0,
       "min": 0.0,
       "orientation": "horizontal",
       "style": "IPY_MODEL_1825bab4d01b4cc28a2d253e45667ad2",
       "tabbable": null,
       "tooltip": null,
       "value": 2.0
      }
     },
     "88d461d297304b49b44b687641cd1ba5": {
      "model_module": "@jupyter-widgets/controls",
      "model_module_version": "2.0.0",
      "model_name": "HTMLModel",
      "state": {
       "_dom_classes": [],
       "_model_module": "@jupyter-widgets/controls",
       "_model_module_version": "2.0.0",
       "_model_name": "HTMLModel",
       "_view_count": null,
       "_view_module": "@jupyter-widgets/controls",
       "_view_module_version": "2.0.0",
       "_view_name": "HTMLView",
       "description": "",
       "description_allow_html": false,
       "layout": "IPY_MODEL_a19162a6fd734471a323f5ac330e2f1f",
       "placeholder": "​",
       "style": "IPY_MODEL_93104b0aa2a848a58a870dee0f90fff7",
       "tabbable": null,
       "tooltip": null,
       "value": " 2/2 [00:44&lt;00:00, 18.28s/it]"
      }
     },
     "905e6696fc19400eba49276f7f53558f": {
      "model_module": "@jupyter-widgets/base",
      "model_module_version": "2.0.0",
      "model_name": "LayoutModel",
      "state": {
       "_model_module": "@jupyter-widgets/base",
       "_model_module_version": "2.0.0",
       "_model_name": "LayoutModel",
       "_view_count": null,
       "_view_module": "@jupyter-widgets/base",
       "_view_module_version": "2.0.0",
       "_view_name": "LayoutView",
       "align_content": null,
       "align_items": null,
       "align_self": null,
       "border_bottom": null,
       "border_left": null,
       "border_right": null,
       "border_top": null,
       "bottom": null,
       "display": null,
       "flex": null,
       "flex_flow": null,
       "grid_area": null,
       "grid_auto_columns": null,
       "grid_auto_flow": null,
       "grid_auto_rows": null,
       "grid_column": null,
       "grid_gap": null,
       "grid_row": null,
       "grid_template_areas": null,
       "grid_template_columns": null,
       "grid_template_rows": null,
       "height": null,
       "justify_content": null,
       "justify_items": null,
       "left": null,
       "margin": null,
       "max_height": null,
       "max_width": null,
       "min_height": null,
       "min_width": null,
       "object_fit": null,
       "object_position": null,
       "order": null,
       "overflow": null,
       "padding": null,
       "right": null,
       "top": null,
       "visibility": null,
       "width": null
      }
     },
     "93104b0aa2a848a58a870dee0f90fff7": {
      "model_module": "@jupyter-widgets/controls",
      "model_module_version": "2.0.0",
      "model_name": "HTMLStyleModel",
      "state": {
       "_model_module": "@jupyter-widgets/controls",
       "_model_module_version": "2.0.0",
       "_model_name": "HTMLStyleModel",
       "_view_count": null,
       "_view_module": "@jupyter-widgets/base",
       "_view_module_version": "2.0.0",
       "_view_name": "StyleView",
       "background": null,
       "description_width": "",
       "font_size": null,
       "text_color": null
      }
     },
     "a19162a6fd734471a323f5ac330e2f1f": {
      "model_module": "@jupyter-widgets/base",
      "model_module_version": "2.0.0",
      "model_name": "LayoutModel",
      "state": {
       "_model_module": "@jupyter-widgets/base",
       "_model_module_version": "2.0.0",
       "_model_name": "LayoutModel",
       "_view_count": null,
       "_view_module": "@jupyter-widgets/base",
       "_view_module_version": "2.0.0",
       "_view_name": "LayoutView",
       "align_content": null,
       "align_items": null,
       "align_self": null,
       "border_bottom": null,
       "border_left": null,
       "border_right": null,
       "border_top": null,
       "bottom": null,
       "display": null,
       "flex": null,
       "flex_flow": null,
       "grid_area": null,
       "grid_auto_columns": null,
       "grid_auto_flow": null,
       "grid_auto_rows": null,
       "grid_column": null,
       "grid_gap": null,
       "grid_row": null,
       "grid_template_areas": null,
       "grid_template_columns": null,
       "grid_template_rows": null,
       "height": null,
       "justify_content": null,
       "justify_items": null,
       "left": null,
       "margin": null,
       "max_height": null,
       "max_width": null,
       "min_height": null,
       "min_width": null,
       "object_fit": null,
       "object_position": null,
       "order": null,
       "overflow": null,
       "padding": null,
       "right": null,
       "top": null,
       "visibility": null,
       "width": null
      }
     },
     "bd0ec55dfdbb4cedbb15313b1bd5e59a": {
      "model_module": "@jupyter-widgets/controls",
      "model_module_version": "2.0.0",
      "model_name": "HBoxModel",
      "state": {
       "_dom_classes": [],
       "_model_module": "@jupyter-widgets/controls",
       "_model_module_version": "2.0.0",
       "_model_name": "HBoxModel",
       "_view_count": null,
       "_view_module": "@jupyter-widgets/controls",
       "_view_module_version": "2.0.0",
       "_view_name": "HBoxView",
       "box_style": "",
       "children": [
        "IPY_MODEL_59224bd04286415b904248d3c89425cb",
        "IPY_MODEL_66e49703c8b54300bc01b8dd9f68f782",
        "IPY_MODEL_88d461d297304b49b44b687641cd1ba5"
       ],
       "layout": "IPY_MODEL_e996e909ede4420c8fdd71bbb5ea1409",
       "tabbable": null,
       "tooltip": null
      }
     },
     "e996e909ede4420c8fdd71bbb5ea1409": {
      "model_module": "@jupyter-widgets/base",
      "model_module_version": "2.0.0",
      "model_name": "LayoutModel",
      "state": {
       "_model_module": "@jupyter-widgets/base",
       "_model_module_version": "2.0.0",
       "_model_name": "LayoutModel",
       "_view_count": null,
       "_view_module": "@jupyter-widgets/base",
       "_view_module_version": "2.0.0",
       "_view_name": "LayoutView",
       "align_content": null,
       "align_items": null,
       "align_self": null,
       "border_bottom": null,
       "border_left": null,
       "border_right": null,
       "border_top": null,
       "bottom": null,
       "display": null,
       "flex": null,
       "flex_flow": null,
       "grid_area": null,
       "grid_auto_columns": null,
       "grid_auto_flow": null,
       "grid_auto_rows": null,
       "grid_column": null,
       "grid_gap": null,
       "grid_row": null,
       "grid_template_areas": null,
       "grid_template_columns": null,
       "grid_template_rows": null,
       "height": null,
       "justify_content": null,
       "justify_items": null,
       "left": null,
       "margin": null,
       "max_height": null,
       "max_width": null,
       "min_height": null,
       "min_width": null,
       "object_fit": null,
       "object_position": null,
       "order": null,
       "overflow": null,
       "padding": null,
       "right": null,
       "top": null,
       "visibility": null,
       "width": null
      }
     }
    },
    "version_major": 2,
    "version_minor": 0
   }
  }
 },
 "nbformat": 4,
 "nbformat_minor": 5
}