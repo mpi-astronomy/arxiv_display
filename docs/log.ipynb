{
 "cells": [
  {
   "cell_type": "markdown",
   "id": "92bcb855",
   "metadata": {
    "papermill": {
     "duration": 0.003761,
     "end_time": "2025-03-27T04:11:39.243636",
     "exception": false,
     "start_time": "2025-03-27T04:11:39.239875",
     "status": "completed"
    },
    "tags": []
   },
   "source": [
    "# MPIA Arxiv on Deck 2\n",
    "\n",
    "Contains the steps to produce the paper extractions."
   ]
  },
  {
   "cell_type": "code",
   "execution_count": 1,
   "id": "3a0d6e11",
   "metadata": {
    "execution": {
     "iopub.execute_input": "2025-03-27T04:11:39.251416Z",
     "iopub.status.busy": "2025-03-27T04:11:39.250828Z",
     "iopub.status.idle": "2025-03-27T04:11:39.593739Z",
     "shell.execute_reply": "2025-03-27T04:11:39.593083Z"
    },
    "papermill": {
     "duration": 0.348187,
     "end_time": "2025-03-27T04:11:39.595142",
     "exception": false,
     "start_time": "2025-03-27T04:11:39.246955",
     "status": "completed"
    },
    "tags": []
   },
   "outputs": [],
   "source": [
    "# Imports\n",
    "import os\n",
    "from IPython.display import Markdown, display\n",
    "from tqdm.notebook import tqdm\n",
    "import warnings\n",
    "from PIL import Image \n",
    "import re\n",
    "\n",
    "# requires arxiv_on_deck_2\n",
    "\n",
    "from arxiv_on_deck_2.arxiv2 import (get_new_papers, \n",
    "                                    get_paper_from_identifier,\n",
    "                                    retrieve_document_source, \n",
    "                                    get_markdown_badge)\n",
    "from arxiv_on_deck_2 import (latex,\n",
    "                             latex_bib,\n",
    "                             mpia,\n",
    "                             highlight_authors_in_list)\n",
    "\n",
    "# Sometimes images are really big\n",
    "Image.MAX_IMAGE_PIXELS = 1000000000 "
   ]
  },
  {
   "cell_type": "code",
   "execution_count": 2,
   "id": "22aa9d44",
   "metadata": {
    "execution": {
     "iopub.execute_input": "2025-03-27T04:11:39.602553Z",
     "iopub.status.busy": "2025-03-27T04:11:39.602276Z",
     "iopub.status.idle": "2025-03-27T04:11:39.610512Z",
     "shell.execute_reply": "2025-03-27T04:11:39.609837Z"
    },
    "papermill": {
     "duration": 0.013096,
     "end_time": "2025-03-27T04:11:39.611545",
     "exception": false,
     "start_time": "2025-03-27T04:11:39.598449",
     "status": "completed"
    },
    "tags": []
   },
   "outputs": [],
   "source": [
    "# Some useful definitions.\n",
    "\n",
    "class AffiliationWarning(UserWarning):\n",
    "    pass\n",
    "\n",
    "class AffiliationError(RuntimeError):\n",
    "    pass\n",
    "\n",
    "def validation(source: str):\n",
    "    \"\"\"Raises error paper during parsing of source file\n",
    "    \n",
    "    Allows checks before parsing TeX code.\n",
    "    \n",
    "    Raises AffiliationWarning\n",
    "    \"\"\"\n",
    "    check = mpia.affiliation_verifications(source, verbose=True)\n",
    "    if check is not True:\n",
    "        raise AffiliationError(\"mpia.affiliation_verifications: \" + check)\n",
    "\n",
    "        \n",
    "warnings.simplefilter('always', AffiliationWarning)\n",
    "\n",
    "\n",
    "def get_markdown_qrcode(paper_id: str):\n",
    "    \"\"\" Generate a qrcode to the arxiv page using qrserver.com\n",
    "    \n",
    "    :param paper: Arxiv paper\n",
    "    :returns: markdown text\n",
    "    \"\"\"\n",
    "    url = r\"https://api.qrserver.com/v1/create-qr-code/?size=100x100&data=\"\n",
    "    txt = f\"\"\"<img src={url}\"https://arxiv.org/abs/{paper_id}\">\"\"\"\n",
    "    txt = '<div id=\"qrcode\">' + txt + '</div>'\n",
    "    return txt\n",
    "\n",
    "\n",
    "def clean_non_western_encoded_characters_commands(text: str) -> str:\n",
    "    \"\"\" Remove non-western encoded characters from a string\n",
    "    List may need to grow.\n",
    "    \n",
    "    :param text: the text to clean\n",
    "    :return: the cleaned text\n",
    "    \"\"\"\n",
    "    text = re.sub(r\"(\\\\begin{CJK}{UTF8}{gbsn})(.*?)(\\\\end{CJK})\", r\"\\2\", text)\n",
    "    return text\n",
    "\n",
    "\n",
    "def get_initials(name: str) -> str:\n",
    "    \"\"\" Get the short name, e.g., A.-B. FamName\n",
    "    :param name: full name\n",
    "    :returns: initials\n",
    "    \"\"\"\n",
    "    initials = []\n",
    "    # account for non western names often in ()\n",
    "    if '(' in name:\n",
    "        name = clean_non_western_encoded_characters_commands(name)\n",
    "        suffix = re.findall(r\"\\((.*?)\\)\", name)[0]\n",
    "        name = name.replace(f\"({suffix})\", '')\n",
    "    else:\n",
    "        suffix = ''\n",
    "    split = name.split()\n",
    "    for token in split[:-1]:\n",
    "        if '-' in token:\n",
    "            current = '-'.join([k[0] + '.' for k in token.split('-')])\n",
    "        else:\n",
    "            current = token[0] + '.'\n",
    "        initials.append(current)\n",
    "    initials.append(split[-1].strip())\n",
    "    if suffix:\n",
    "        initials.append(f\"({suffix})\")\n",
    "    return ' '.join(initials)"
   ]
  },
  {
   "cell_type": "markdown",
   "id": "14bd6310",
   "metadata": {
    "papermill": {
     "duration": 0.002933,
     "end_time": "2025-03-27T04:11:39.617498",
     "exception": false,
     "start_time": "2025-03-27T04:11:39.614565",
     "status": "completed"
    },
    "tags": []
   },
   "source": [
    "## get list of arxiv paper candidates\n",
    "\n",
    "We use the MPIA mitarbeiter list webpage from mpia.de to get author names\n",
    "We then get all new papers from Arxiv and match authors"
   ]
  },
  {
   "cell_type": "code",
   "execution_count": 3,
   "id": "7ea813a8",
   "metadata": {
    "execution": {
     "iopub.execute_input": "2025-03-27T04:11:39.624449Z",
     "iopub.status.busy": "2025-03-27T04:11:39.624052Z",
     "iopub.status.idle": "2025-03-27T04:11:58.615661Z",
     "shell.execute_reply": "2025-03-27T04:11:58.615018Z"
    },
    "papermill": {
     "duration": 18.996374,
     "end_time": "2025-03-27T04:11:58.616840",
     "exception": false,
     "start_time": "2025-03-27T04:11:39.620466",
     "status": "completed"
    },
    "tags": []
   },
   "outputs": [],
   "source": [
    "# deal with the author list and edge cases of people that cannot be consistent on their name  \n",
    "\n",
    "def filter_non_scientists(name: str) -> bool:\n",
    "    \"\"\" Loose filter on expected authorships\n",
    "\n",
    "    removing IT, administration, technical staff\n",
    "    :param name: name\n",
    "    :returns: False if name is not a scientist\n",
    "    \"\"\"\n",
    "    remove_list = ['Licht', 'Binroth', 'Witzel', 'Jordan',\n",
    "                   'Zähringer', 'Scheerer', 'Hoffmann', 'Düe',\n",
    "                   'Hellmich', 'Enkler-Scharpegge', 'Witte-Nguy',\n",
    "                   'Dehen', 'Beckmann', 'Jager', 'Jäger'\n",
    "                  ]\n",
    "\n",
    "    for k in remove_list:\n",
    "        if k in name:\n",
    "            return False\n",
    "    return True\n",
    "\n",
    "def add_author_to_list(author_list: list) -> list:\n",
    "    \"\"\" Add author to list if not already in list\n",
    "    \n",
    "    :param author: author name\n",
    "    :param author_list: list of authors\n",
    "    :returns: updated list of authors\n",
    "    \"\"\"\n",
    "    add_list = ['T. Henning']\n",
    "\n",
    "    for author in add_list:\n",
    "        if author not in author_list:\n",
    "            author_list.append(author)\n",
    "    return author_list\n",
    "\n",
    "# get list from MPIA website\n",
    "# filter for non-scientists (mpia.get_mpia_mitarbeiter_list() does some filtering)\n",
    "mpia_authors = [k[1] for k in mpia.get_mpia_mitarbeiter_list() if filter_non_scientists(k[1])]\n",
    "# add some missing author because of inconsistencies in their MPIA name and author name on papers\n",
    "mpia_authors = add_author_to_list(mpia_authors)"
   ]
  },
  {
   "cell_type": "code",
   "execution_count": 4,
   "id": "2645e73a",
   "metadata": {
    "execution": {
     "iopub.execute_input": "2025-03-27T04:11:58.624138Z",
     "iopub.status.busy": "2025-03-27T04:11:58.623719Z",
     "iopub.status.idle": "2025-03-27T04:11:59.233458Z",
     "shell.execute_reply": "2025-03-27T04:11:59.232817Z"
    },
    "papermill": {
     "duration": 0.614373,
     "end_time": "2025-03-27T04:11:59.234512",
     "exception": false,
     "start_time": "2025-03-27T04:11:58.620139",
     "status": "completed"
    },
    "tags": []
   },
   "outputs": [
    {
     "name": "stdout",
     "output_type": "stream",
     "text": [
      "T. Henning  ->  T. Henning  |  ['T. Henning']\n",
      "J. Liu  ->  J. Liu  |  ['J. Liu']\n",
      "Arxiv has 64 new papers today\n",
      "          2 with possible author matches\n"
     ]
    }
   ],
   "source": [
    "new_papers = get_new_papers()\n",
    "# add manual references\n",
    "add_paper_refs = []\n",
    "new_papers.extend([get_paper_from_identifier(k) for k in add_paper_refs])\n",
    "\n",
    "def robust_call(fn, value, *args, **kwargs):\n",
    "    try:\n",
    "        return fn(value, *args, **kwargs)\n",
    "    except Exception:\n",
    "        return value\n",
    "\n",
    "candidates = []\n",
    "for paperk in new_papers:\n",
    "    # Check author list with their initials\n",
    "    normed_author_list = [robust_call(mpia.get_initials, k) for k in paperk['authors']]\n",
    "    hl_authors = highlight_authors_in_list(normed_author_list, mpia_authors, verbose=True)\n",
    "    matches = [(hl, orig) for hl, orig in zip(hl_authors, paperk['authors']) if 'mark' in hl]\n",
    "    paperk['authors'] = hl_authors\n",
    "    if matches:\n",
    "        # only select paper if an author matched our list\n",
    "        candidates.append(paperk)\n",
    "print(\"\"\"Arxiv has {0:,d} new papers today\"\"\".format(len(new_papers)))        \n",
    "print(\"\"\"          {0:,d} with possible author matches\"\"\".format(len(candidates)))"
   ]
  },
  {
   "cell_type": "markdown",
   "id": "3543b34a",
   "metadata": {
    "papermill": {
     "duration": 0.00315,
     "end_time": "2025-03-27T04:11:59.241186",
     "exception": false,
     "start_time": "2025-03-27T04:11:59.238036",
     "status": "completed"
    },
    "tags": []
   },
   "source": [
    "# Parse sources and generate relevant outputs\n",
    "\n",
    "From the candidates, we do the following steps:\n",
    "* get their tarball from ArXiv (and extract data)\n",
    "* find the main .tex file: find one with \\documentclass{...} (sometimes it's non trivial)\n",
    "* Check affiliations with :func:`validation`, which uses :func:`mpia.affiliation_verifications`\n",
    "* If passing the affiliations: we parse the .tex source\n",
    "   * inject sub-documents into the main (flatten the main document)\n",
    "   * parse structure, extract information (title, abstract, authors, figures...)\n",
    "   * handles `\\graphicspath` if provided\n",
    "* Generate the .md document."
   ]
  },
  {
   "cell_type": "code",
   "execution_count": 5,
   "id": "9576b79e",
   "metadata": {
    "execution": {
     "iopub.execute_input": "2025-03-27T04:11:59.248250Z",
     "iopub.status.busy": "2025-03-27T04:11:59.247951Z",
     "iopub.status.idle": "2025-03-27T04:12:17.574356Z",
     "shell.execute_reply": "2025-03-27T04:12:17.573561Z"
    },
    "papermill": {
     "duration": 18.331132,
     "end_time": "2025-03-27T04:12:17.575353",
     "exception": false,
     "start_time": "2025-03-27T04:11:59.244221",
     "status": "completed"
    },
    "scrolled": false,
    "tags": []
   },
   "outputs": [
    {
     "data": {
      "application/vnd.jupyter.widget-view+json": {
       "model_id": "9e519aaf28cb4a7da9fe304c1c8e23ae",
       "version_major": 2,
       "version_minor": 0
      },
      "text/plain": [
       "  0%|          | 0/2 [00:00<?, ?it/s]"
      ]
     },
     "metadata": {},
     "output_type": "display_data"
    },
    {
     "name": "stdout",
     "output_type": "stream",
     "text": [
      "Retrieving document from  https://arxiv.org/e-print/2503.20069\n"
     ]
    },
    {
     "name": "stdout",
     "output_type": "stream",
     "text": [
      "extracting tarball to tmp_2503.20069..."
     ]
    },
    {
     "name": "stdout",
     "output_type": "stream",
     "text": [
      " done.\n"
     ]
    },
    {
     "name": "stdout",
     "output_type": "stream",
     "text": [
      "T. Henning  ->  T. Henning  |  ['T. Henning']\n"
     ]
    },
    {
     "name": "stdout",
     "output_type": "stream",
     "text": [
      "Found 96 bibliographic references in tmp_2503.20069/main.bbl.\n",
      "Retrieving document from  https://arxiv.org/e-print/2503.20165\n"
     ]
    },
    {
     "name": "stdout",
     "output_type": "stream",
     "text": [
      "extracting tarball to tmp_2503.20165..."
     ]
    },
    {
     "name": "stdout",
     "output_type": "stream",
     "text": [
      " done.\n"
     ]
    }
   ],
   "source": [
    "documents = []\n",
    "failed = []\n",
    "for paper in tqdm(candidates):\n",
    "    # debug crap\n",
    "    paper['identifier'] = paper['identifier'].lower().replace('arxiv:', '').replace(r'\\n', '').strip()\n",
    "    paper_id = paper['identifier']\n",
    "    \n",
    "    folder = f'tmp_{paper_id}'\n",
    "\n",
    "    try:\n",
    "        if not os.path.isdir(folder):\n",
    "            folder = retrieve_document_source(f\"{paper_id}\", f'tmp_{paper_id}')\n",
    "        \n",
    "        try:\n",
    "            doc = latex.LatexDocument(folder, validation=validation)    \n",
    "        except AffiliationError as affilerror:\n",
    "            msg = f\"ArXiv:{paper_id:s} is not an MPIA paper... \" + str(affilerror)\n",
    "            failed.append((paper, \"affiliation error: \" + str(affilerror) ))\n",
    "            continue\n",
    "        \n",
    "        # Hack because sometimes author parsing does not work well\n",
    "        if (len(doc.authors) != len(paper['authors'])):\n",
    "            doc._authors = paper['authors']\n",
    "        else:\n",
    "            # highlight authors (FIXME: doc.highlight_authors)\n",
    "            # done on arxiv paper already\n",
    "            doc._authors = highlight_authors_in_list(\n",
    "                [get_initials(k) for k in doc.authors], \n",
    "                mpia_authors, verbose=True)\n",
    "        if (doc.abstract) in (None, ''):\n",
    "            doc._abstract = paper['abstract']\n",
    "            \n",
    "        doc.comment = (get_markdown_badge(paper_id) + \n",
    "                       \"<mark>Appeared on: \" + paper['date'] + \"</mark> - \")\n",
    "        if paper['comments']:\n",
    "            doc.comment += \" _\" + paper['comments'] + \"_\"\n",
    "        \n",
    "        full_md = doc.generate_markdown_text()\n",
    "        \n",
    "        full_md += get_markdown_qrcode(paper_id)\n",
    "        \n",
    "        # replace citations\n",
    "        try:\n",
    "            bibdata = latex_bib.LatexBib.from_doc(doc)\n",
    "            full_md = latex_bib.replace_citations(full_md, bibdata)\n",
    "        except Exception as e:\n",
    "            print(\"Issues with the citations\")\n",
    "            print(e)\n",
    "        \n",
    "        documents.append((paper_id, full_md))\n",
    "    except Exception as e:\n",
    "        warnings.warn(latex.LatexWarning(f\"{paper_id:s} did not run properly\\n\" +\n",
    "                                         str(e)\n",
    "                                        ))\n",
    "        failed.append((paper, \"latex error \" + str(e)))"
   ]
  },
  {
   "cell_type": "markdown",
   "id": "2505a25c",
   "metadata": {
    "papermill": {
     "duration": 0.003515,
     "end_time": "2025-03-27T04:12:17.582822",
     "exception": false,
     "start_time": "2025-03-27T04:12:17.579307",
     "status": "completed"
    },
    "tags": []
   },
   "source": [
    "### Export the logs\n",
    "\n",
    "Throughout, we also keep track of the logs per paper. see `logs-{today date}.md` "
   ]
  },
  {
   "cell_type": "code",
   "execution_count": 6,
   "id": "d733828a",
   "metadata": {
    "execution": {
     "iopub.execute_input": "2025-03-27T04:12:17.590799Z",
     "iopub.status.busy": "2025-03-27T04:12:17.590561Z",
     "iopub.status.idle": "2025-03-27T04:12:17.603837Z",
     "shell.execute_reply": "2025-03-27T04:12:17.603218Z"
    },
    "papermill": {
     "duration": 0.018536,
     "end_time": "2025-03-27T04:12:17.604822",
     "exception": false,
     "start_time": "2025-03-27T04:12:17.586286",
     "status": "completed"
    },
    "scrolled": false,
    "tags": []
   },
   "outputs": [
    {
     "data": {
      "text/markdown": [
       "## Successful papers"
      ],
      "text/plain": [
       "<IPython.core.display.Markdown object>"
      ]
     },
     "metadata": {},
     "output_type": "display_data"
    },
    {
     "data": {
      "text/markdown": [
       "\n",
       "|||\n",
       "|---:|:---|\n",
       "| [![arXiv](https://img.shields.io/badge/arXiv-2503.20069-b31b1b.svg)](https://arxiv.org/abs/2503.20069) | **TOI-2005b: An Eccentric Warm Jupiter in Spin-Orbit Alignment**  |\n",
       "|| A. Bieryla, et al. -- incl., <mark>T. Henning</mark> |\n",
       "|*Appeared on*| *2025-03-27*|\n",
       "|*Comments*| *15 pages, 10 figures, 4 tables*|\n",
       "|**Abstract**|            We report the discovery and characterization of TOI-2005b, a warm Jupiter on an eccentric (e~0.59), 17.3-day orbit around a V_mag = 9.867 rapidly rotating F-star. The object was detected as a candidate by TESS and the planetary nature of TOI-2005b was then confirmed via a series of ground-based photometric, spectroscopic, and diffraction-limited imaging observations. The planet was found to reside in a low sky-projected stellar obliquity orbit (lambda = 4.8 degrees) via a transit spectroscopic observation using the Magellan MIKE this http URL-2005b is one of a few planets known to have a low-obliquity, high-eccentricity orbit, which may be the result of high-eccentricity coplanar migration. The planet has a periastron equilibrium temperature of ~ 2100 K, similar to some highly irradiated hot Jupiters where atomic metal species have been detected in transmission spectroscopy, and varies by almost 1000 K during its orbit. Future observations of the atmosphere of TOI-2005b can inform us about its radiative timescales thanks to the rapid heating and cooling of the planet.         |"
      ],
      "text/plain": [
       "[2503.20069] TOI-2005b: An Eccentric Warm Jupiter in Spin-Orbit Alignment\n",
       "\tA. Bieryla, et al. -- incl., <mark>T. Henning</mark>"
      ]
     },
     "metadata": {},
     "output_type": "display_data"
    },
    {
     "data": {
      "text/markdown": [
       "## Failed papers"
      ],
      "text/plain": [
       "<IPython.core.display.Markdown object>"
      ]
     },
     "metadata": {},
     "output_type": "display_data"
    },
    {
     "data": {
      "text/markdown": [
       "\n",
       "|||\n",
       "|---:|:---|\n",
       "| [![arXiv](https://img.shields.io/badge/arXiv-2503.20165-b31b1b.svg)](https://arxiv.org/abs/2503.20165) | **Impact of Spectral Resolution on S-index and Its Application to Spectroscopic Surveys**  |\n",
       "|| H. Han, et al. -- incl., <mark>J. Liu</mark> |\n",
       "|*Appeared on*| *2025-03-27*|\n",
       "|*Comments*| *11 pages, 9 figures, ApJ accepted*|\n",
       "|**Abstract**|            Utilizing the PHOENIX synthetic spectra, we investigated the impact of spectral resolution on the calculation of $S$-indices. We found that for spectra with a resolution lower than $\\approx$30,000, it is crucial to calibrate $S$-indices for accurate estimations. This is especially essential for low-resolution spectral observations. We provided calibrations for several ongoing or upcoming spectroscopic surveys such as the LAMOST low-resolution survey, the SEGUE survey, the SDSS-V/BOSS survey, the DESI survey, the MSE survey, and the MUST survey. Using common targets between the HARPS and MWO observations, we established conversions from spectral $S$-indices to the well-known $S_{\\rm MWO}$ values, applicable to stars with [Fe/H] values greater than $-$1. These calibrations offer a reliable approach to convert $S$-indices obtained from various spectroscopic surveys into $S_{\\rm{MWO}}$ values and can be widely applied in studies on chromospheric activity.         |\n",
       "|<p style=\"color:green\"> **ERROR** </p>| <p style=\"color:green\">affiliation error: mpia.affiliation_verifications: 'Heidelberg' keyword not found.</p> |"
      ],
      "text/plain": [
       "<IPython.core.display.Markdown object>"
      ]
     },
     "metadata": {},
     "output_type": "display_data"
    }
   ],
   "source": [
    "import datetime\n",
    "today = str(datetime.date.today())\n",
    "logfile = f\"_build/html/logs/log-{today}.md\"\n",
    "\n",
    "\n",
    "with open(logfile, 'w') as logs:\n",
    "    # Success\n",
    "    logs.write(f'# Arxiv on Deck 2: Logs - {today}\\n\\n')\n",
    "    logs.write(\"\"\"* Arxiv had {0:,d} new papers\\n\"\"\".format(len(new_papers)))\n",
    "    logs.write(\"\"\"    * {0:,d} with possible author matches\\n\\n\"\"\".format(len(candidates)))\n",
    "    logs.write(\"## Sucessful papers\\n\\n\")\n",
    "    display(Markdown(\"## Successful papers\"))\n",
    "    success = [k[0] for k in documents]\n",
    "    for candid in candidates:\n",
    "        if candid['identifier'].split(':')[-1] in success:\n",
    "            display(candid)\n",
    "            logs.write(candid.generate_markdown_text() + '\\n\\n')\n",
    "\n",
    "    ## failed\n",
    "    logs.write(\"## Failed papers\\n\\n\")\n",
    "    display(Markdown(\"## Failed papers\"))\n",
    "    failed = sorted(failed, key=lambda x: x[1])\n",
    "    current_reason = \"\"\n",
    "    for paper, reason in failed:\n",
    "        if 'affiliation' in reason:\n",
    "            color = 'green'\n",
    "        else:\n",
    "            color = 'red'\n",
    "        data = Markdown(\n",
    "                paper.generate_markdown_text() + \n",
    "                f'\\n|<p style=\"color:{color:s}\"> **ERROR** </p>| <p style=\"color:{color:s}\">{reason:s}</p> |'\n",
    "               )\n",
    "        if reason != current_reason:\n",
    "            logs.write(f'### {reason:s} \\n\\n')\n",
    "            current_reason = reason\n",
    "        logs.write(data.data + '\\n\\n')\n",
    "        \n",
    "        # only display here the important errors (all in logs)\n",
    "        # if color in ('red',):\n",
    "        display(data)"
   ]
  },
  {
   "cell_type": "markdown",
   "id": "472d20ee",
   "metadata": {
    "papermill": {
     "duration": 0.003793,
     "end_time": "2025-03-27T04:12:17.612507",
     "exception": false,
     "start_time": "2025-03-27T04:12:17.608714",
     "status": "completed"
    },
    "tags": []
   },
   "source": [
    "## Export documents\n",
    "\n",
    "We now write the .md files and export relevant images"
   ]
  },
  {
   "cell_type": "code",
   "execution_count": 7,
   "id": "d426aed9",
   "metadata": {
    "execution": {
     "iopub.execute_input": "2025-03-27T04:12:17.621520Z",
     "iopub.status.busy": "2025-03-27T04:12:17.621075Z",
     "iopub.status.idle": "2025-03-27T04:12:17.627923Z",
     "shell.execute_reply": "2025-03-27T04:12:17.627361Z"
    },
    "papermill": {
     "duration": 0.012398,
     "end_time": "2025-03-27T04:12:17.628989",
     "exception": false,
     "start_time": "2025-03-27T04:12:17.616591",
     "status": "completed"
    },
    "tags": []
   },
   "outputs": [],
   "source": [
    "def export_markdown_summary(md: str, md_fname:str, directory: str):\n",
    "    \"\"\"Export MD document and associated relevant images\"\"\"\n",
    "    import os\n",
    "    import shutil\n",
    "    import re\n",
    "\n",
    "    if (os.path.exists(directory) and not os.path.isdir(directory)):\n",
    "        raise RuntimeError(f\"a non-directory file exists with name {directory:s}\")\n",
    "\n",
    "    if (not os.path.exists(directory)):\n",
    "        print(f\"creating directory {directory:s}\")\n",
    "        os.mkdir(directory)\n",
    "\n",
    "    fig_fnames = (re.compile(r'\\[Fig.*\\]\\((.*)\\)').findall(md) + \n",
    "                  re.compile(r'\\<img src=\"([^>\\s]*)\"[^>]*/>').findall(md))\n",
    "    print(\"found figures\", fig_fnames)\n",
    "    for fname in fig_fnames:\n",
    "        if 'http' in fname:\n",
    "            # No need to copy online figures\n",
    "            continue\n",
    "        if not os.path.exists(fname):\n",
    "            print(\"file not found\", fname)\n",
    "            continue\n",
    "        print(\"copying \", fname, \"to\", directory)\n",
    "        destdir = os.path.join(directory, os.path.dirname(fname))\n",
    "        destfname = os.path.join(destdir, os.path.basename(fname))\n",
    "        try:\n",
    "            os.makedirs(destdir)\n",
    "        except FileExistsError:\n",
    "            pass\n",
    "        shutil.copy(fname, destfname)\n",
    "    with open(os.path.join(directory, md_fname), 'w') as fout:\n",
    "        fout.write(md)\n",
    "    print(\"exported in \", os.path.join(directory, md_fname))\n",
    "    [print(\"    + \" + os.path.join(directory,fk)) for fk in fig_fnames]"
   ]
  },
  {
   "cell_type": "code",
   "execution_count": 8,
   "id": "014d04a4",
   "metadata": {
    "execution": {
     "iopub.execute_input": "2025-03-27T04:12:17.637906Z",
     "iopub.status.busy": "2025-03-27T04:12:17.637511Z",
     "iopub.status.idle": "2025-03-27T04:12:17.643167Z",
     "shell.execute_reply": "2025-03-27T04:12:17.642602Z"
    },
    "papermill": {
     "duration": 0.01112,
     "end_time": "2025-03-27T04:12:17.644130",
     "exception": false,
     "start_time": "2025-03-27T04:12:17.633010",
     "status": "completed"
    },
    "tags": []
   },
   "outputs": [
    {
     "name": "stdout",
     "output_type": "stream",
     "text": [
      "found figures ['tmp_2503.20069/./toi2005.png', 'tmp_2503.20069/./TP.png', 'tmp_2503.20069/./TPlines.png', 'tmp_2503.20069/./stackplot_TOI-2005.png']\n",
      "copying  tmp_2503.20069/./toi2005.png to _build/html/\n",
      "copying  tmp_2503.20069/./TP.png to _build/html/\n",
      "copying  tmp_2503.20069/./TPlines.png to _build/html/\n",
      "copying  tmp_2503.20069/./stackplot_TOI-2005.png to _build/html/\n",
      "exported in  _build/html/2503.20069.md\n",
      "    + _build/html/tmp_2503.20069/./toi2005.png\n",
      "    + _build/html/tmp_2503.20069/./TP.png\n",
      "    + _build/html/tmp_2503.20069/./TPlines.png\n",
      "    + _build/html/tmp_2503.20069/./stackplot_TOI-2005.png\n"
     ]
    }
   ],
   "source": [
    "for paper_id, md in documents:\n",
    "    export_markdown_summary(md, f\"{paper_id:s}.md\", '_build/html/')"
   ]
  },
  {
   "cell_type": "markdown",
   "id": "f087a0a7",
   "metadata": {
    "papermill": {
     "duration": 0.003965,
     "end_time": "2025-03-27T04:12:17.652153",
     "exception": false,
     "start_time": "2025-03-27T04:12:17.648188",
     "status": "completed"
    },
    "tags": []
   },
   "source": [
    "## Display the papers\n",
    "\n",
    "Not necessary but allows for a quick check."
   ]
  },
  {
   "cell_type": "code",
   "execution_count": 9,
   "id": "fd25f625",
   "metadata": {
    "execution": {
     "iopub.execute_input": "2025-03-27T04:12:17.661042Z",
     "iopub.status.busy": "2025-03-27T04:12:17.660667Z",
     "iopub.status.idle": "2025-03-27T04:12:17.665482Z",
     "shell.execute_reply": "2025-03-27T04:12:17.664951Z"
    },
    "papermill": {
     "duration": 0.01042,
     "end_time": "2025-03-27T04:12:17.666516",
     "exception": false,
     "start_time": "2025-03-27T04:12:17.656096",
     "status": "completed"
    },
    "scrolled": false,
    "tags": []
   },
   "outputs": [
    {
     "data": {
      "text/markdown": [
       "<div class=\"macros\" style=\"visibility:hidden;\">\n",
       "$\\newcommand{\\ensuremath}{}$\n",
       "$\\newcommand{\\xspace}{}$\n",
       "$\\newcommand{\\object}[1]{\\texttt{#1}}$\n",
       "$\\newcommand{\\farcs}{{.}''}$\n",
       "$\\newcommand{\\farcm}{{.}'}$\n",
       "$\\newcommand{\\arcsec}{''}$\n",
       "$\\newcommand{\\arcmin}{'}$\n",
       "$\\newcommand{\\ion}[2]{#1#2}$\n",
       "$\\newcommand{\\textsc}[1]{\\textrm{#1}}$\n",
       "$\\newcommand{\\hl}[1]{\\textrm{#1}}$\n",
       "$\\newcommand{\\footnote}[1]{}$\n",
       "$\\newcommand{\\bjdtdb}{\\ensuremath{\\rm{BJD_{TDB}}}}$\n",
       "$\\newcommand{\\meh}{\\ensuremath{\\left[{\\rm m}/{\\rm H}\\right]}}$\n",
       "$\\newcommand{\\feh}{\\ensuremath{\\left[{\\rm Fe}/{\\rm H}\\right]}}$\n",
       "$\\newcommand{\\teff}{\\ensuremath{T_{\\rm eff}}}$\n",
       "$\\newcommand{\\logg}{\\ensuremath{\\log g}}$\n",
       "$\\newcommand{\\vsini}{\\ensuremath{v\\sin i}}$\n",
       "$\\newcommand{\\vsinistar}{\\ensuremath{v\\sin I_\\star}}$\n",
       "$\\newcommand{\\loggunits}{cm s^{-2}}$\n",
       "$\\newcommand{\\ecosw}{\\ensuremath{e\\cos{\\omega_*}}}$\n",
       "$\\newcommand{\\esinw}{\\ensuremath{e\\sin{\\omega_*}}}$\n",
       "$\\newcommand{\\aor}{\\ensuremath{a/R_{\\star}}}$\n",
       "$\\newcommand{\\msun}{\\ensuremath{M_\\Sun}}$\n",
       "$\\newcommand{\\rsun}{\\ensuremath{R_\\Sun}}$\n",
       "$\\newcommand{\\lsun}{\\ensuremath{L_\\Sun}}$\n",
       "$\\newcommand{\\rj}{\\ensuremath{R_{\\rm Jup}}}$\n",
       "$\\newcommand{\\mj}{\\ensuremath{M_{\\rm Jup}}}$\n",
       "$\\newcommand{\\fixme}{\\textcolor{red}{[FIXME] }}$\n",
       "$\\newcommand{\\vdag}{(v)^\\dagger}$\n",
       "$\\newcommand$\n",
       "$\\newcommand$\n",
       "$\\newcommand{\\tess}{\\emph{TESS}\\xspace}$\n",
       "$\\newcommand{\\gaia}{\\emph{Gaia}\\xspace}$\n",
       "$\\newcommand{\\tres}{TRES\\xspace}$\n",
       "$\\newcommand{\\ut}{UT\\xspace}$\n",
       "$\\newcommand{\\bjd}{BJD\\xspace}$\n",
       "$\\newcommand{\\ms}{ m s^{-1}}$\n",
       "$\\newcommand{\\kms}{ km s^{-1}}$\n",
       "$\\newcommand{\\tic}{TIC 147660886\\xspace}$\n",
       "$\\newcommand{\\ticb}{TIC 147660886 b\\xspace}$\n",
       "$\\newcommand{\\toi}{TOI-2005\\xspace}$\n",
       "$\\newcommand{\\toib}{TOI-2005 b\\xspace}$\n",
       "$\\newcommand{\\pmRA}{-25.248\\pm0.012}$\n",
       "$\\newcommand{\\pmDEC}{8.399\\pm0.016}$\n",
       "$\\newcommand{\\parallax}{2.991\\pm0.017}$\n",
       "$\\newcommand{\\vsiniLSD}{111\\pm1}$\n",
       "$\\newcommand{\\loggfit}{3.946\\pm0.035}$\n",
       "$\\newcommand{\\tefffit}{7130\\pm150}$\n",
       "$\\newcommand{\\metfit}{0.01\\pm0.08}$\n",
       "$\\newcommand{\\mstar}{1.59^{+0.016}_{-0.017}}$\n",
       "$\\newcommand{\\rstar}{2.02^{+0.14}_{-0.16}}$\n",
       "$\\newcommand{\\lstar}{9.17^{+0.52}_{-0.99}}$\n",
       "$\\newcommand{\\age}{1.6\\pm0.1}$\n",
       "$\\newcommand{\\dist}{328.7^{+4.6}_{-4.2}}$\n",
       "$\\newcommand{\\per}{17.305904_{-0.000020}^{+0.000023}}$\n",
       "$\\newcommand{\\plrad}{1.07^{+0.06}_{-0.11}}$\n",
       "$\\newcommand{\\ecc}{0.597^{+0.097}_{-0.065}}$\n",
       "$\\newcommand{\\semimaj}{0.16\\pm0.02}$\n",
       "$\\newcommand{\\lam}{4.8^{+2.3}_{-2.5}}$\n",
       "$\\newcommand{\\CfA}{Center for Astrophysics \\textbar  Harvard \\& Smithsonian, 60 Garden Street, Cambridge, MA 02138, USA}$\n",
       "$\\newcommand{\\USQ}{University of Southern Queensland, Centre for Astrophysics, West Street, Toowoomba, QLD 4350 Australia}$\n",
       "$\\newcommand{\\FlatironCCA}{Center for Computational Astrophysics, Flatiron Institute, 162 Fifth Avenue, New York, NY 10010, USA}$\n",
       "$\\newcommand{\\UIUC}{Department of Astronomy, University of Illinois at Urbana-Champaign, Urbana, IL 61801, USA}$\n",
       "$\\newcommand{\\PSUAA}{Department of Astronomy \\& Astrophysics, 525 Davey Laboratory, The Pennsylvania State University, University Park, PA, 16802, USA}$\n",
       "$\\newcommand{\\PSUCEHW}{Center for Exoplanets and Habitable Worlds, 525 Davey Laboratory, The Pennsylvania State University, University Park, PA, 16802, USA}$\n",
       "$\\newcommand{\\NOIRLAB}{NSF’s National Optical-Infrared Astronomy Research Laboratory, 950 N. Cherry Avenue, Tucson, AZ 85719, USA}$\n",
       "$\\newcommand{\\MITKavli}{Department of Physics and Kavli Institute for Astrophysics and Space Research, Massachusetts Institute of Technology, Cambridge, MA 02139, USA}$\n",
       "$\\newcommand{\\DTU}{DTU Space,  Technical University of Denmark, Elektrovej 328, DK-2800 Kgs. Lyngby, Denmark}$\n",
       "$\\newcommand{\\CarnegieOBS}{The Observatories of the Carnegie Instution for Science, 813 Santa Barbara Street, Pasadena, CA, 91101, USA}$\n",
       "$\\newcommand{\\CarnegieLCO}{Las Campanas Observatory, Carnegie Institution for Science, Colina El Pino, Casilla 601 La Serena, Chile}$\n",
       "$\\newcommand{\\CarnegieEPL}{Earth and Planets Laboratory, Carnegie Institution for Science, 5241 Broad Branch Road, NW, Washington, DC 20015, USA}$</div>\n",
       "\n",
       "\n",
       "\n",
       "<div id=\"title\">\n",
       "\n",
       "# TOI-2005b: An Eccentric Warm Jupiter in Spin-Orbit Alignment\n",
       "\n",
       "</div>\n",
       "<div id=\"comments\">\n",
       "\n",
       "[![arXiv](https://img.shields.io/badge/arXiv-2503.20069-b31b1b.svg)](https://arxiv.org/abs/2503.20069)<mark>Appeared on: 2025-03-27</mark> -  _15 pages, 10 figures, 4 tables_\n",
       "\n",
       "</div>\n",
       "<div id=\"authors\">\n",
       "\n",
       "A. Bieryla, et al. -- incl., <mark>T. Henning</mark>\n",
       "\n",
       "</div>\n",
       "<div id=\"abstract\">\n",
       "\n",
       "**Abstract:** We report the discovery and characterization of $\\toib$ , a warm Jupiter on an eccentric ( $e\\sim0.59$ ), 17.3-day orbit around a $V_\\mathrm{mag}$ = 9.867 rapidly rotating F-star. The object was detected as a candidate by TESS and the planetary nature of $\\toib$ was then confirmed via a series of ground-based photometric, spectroscopic, and diffraction-limited imaging observations. The planet was found to reside in a low sky-projected stellar obliquity orbit ( $\\lambda = $ $\\lam$ degrees) via a transit spectroscopic observation using the Magellan MIKE spectrograph. $\\toib$ is one of a few planets known to have a low-obliquity, high-eccentricity orbit, which may be the result of high-eccentricity coplanar migration. The planet has a periastron equilibrium temperature of $\\sim 2100$ K, similar to some highly irradiated hot Jupiters where atomic metal species have been detected in transmission spectroscopy, and varies by almost 1000 K during its orbit. Future observations of the atmosphere of TOI-2005b can inform us about its radiative timescales thanks to the rapid heating and cooling of the planet.\n",
       "\n",
       "</div>\n",
       "\n",
       "<div id=\"div_fig1\">\n",
       "\n",
       "<img src=\"tmp_2503.20069/./toi2005.png\" alt=\"Fig9\" width=\"100%\"/>\n",
       "\n",
       "**Figure 9. -** Eccentricity vs. semi-major axis for all confirmed transiting planets between 6--20 Earth radii. Colored circles are planets with measured spin-orbit angles. Blue circles are defined as `aligned' with spin-orbit angles of less than 30 degrees and red circles are defined as `misaligned' with spin-orbit angles greater than 30 degrees. The gray region illustrates planets that are likely undergoing high-eccentricity tidal migration. The upper and lower limits of the track are set by the Roche limit and the tidal circularization timescale  ([Dong, Huang and Zhou 2021]()) . $\\toi$b sits on the lower edge of the migration track. The dotted-dashed line presents the theoretical upper limit of eccentricities as a result of planet-planet scattering, assuming a planet with a mass of 0.5 $M_{\\rm Jup}$ and a radius of 2 $R_{\\rm Jup}$, for illustrative purpose  ([Petrovich, Tremaine and Rafikov 2014]()) .\n",
       "Data were compiled from the NASA Exoplanet Archive as of October 30, 2024. Stellar obliquity measurements were obtained from [Knudstrup, Albrecht and Winn (2024)]() Table B2 with recent updates. (*fig:ecc_au*)\n",
       "\n",
       "</div>\n",
       "<div id=\"div_fig2\">\n",
       "\n",
       "<img src=\"tmp_2503.20069/./TP.png\" alt=\"Fig5.1\" width=\"50%\"/><img src=\"tmp_2503.20069/./TPlines.png\" alt=\"Fig5.2\" width=\"50%\"/>\n",
       "\n",
       "**Figure 5. -** Temperature as a function of pressure over orbital phase from a 1D timestepping cloud-free atmospheric model generated using \\texttt{EGP+}. Due to the presence of TiO and VO in the model atmosphere, at periastron the temperature of the upper atmosphere rises rapidly causing an inversion. (*fig:TP*)\n",
       "\n",
       "</div>\n",
       "<div id=\"div_fig3\">\n",
       "\n",
       "<img src=\"tmp_2503.20069/./stackplot_TOI-2005.png\" alt=\"Fig1\" width=\"100%\"/>\n",
       "\n",
       "**Figure 1. -** Ground-based and TESS lightcurves normalized and offset relatively in flux and phased in time to the best-fit ephemeris. The best-fit model is shown in black. (*fig:allLCs*)\n",
       "\n",
       "</div><div id=\"qrcode\"><img src=https://api.qrserver.com/v1/create-qr-code/?size=100x100&data=\"https://arxiv.org/abs/2503.20069\"></div>"
      ],
      "text/plain": [
       "<IPython.core.display.Markdown object>"
      ]
     },
     "metadata": {},
     "output_type": "display_data"
    }
   ],
   "source": [
    "[display(Markdown(k[1])) for k in documents];"
   ]
  },
  {
   "cell_type": "markdown",
   "id": "873873a4",
   "metadata": {
    "papermill": {
     "duration": 0.004198,
     "end_time": "2025-03-27T04:12:17.675064",
     "exception": false,
     "start_time": "2025-03-27T04:12:17.670866",
     "status": "completed"
    },
    "tags": []
   },
   "source": [
    "# Create HTML index"
   ]
  },
  {
   "cell_type": "code",
   "execution_count": 10,
   "id": "cf665672",
   "metadata": {
    "execution": {
     "iopub.execute_input": "2025-03-27T04:12:17.684862Z",
     "iopub.status.busy": "2025-03-27T04:12:17.684441Z",
     "iopub.status.idle": "2025-03-27T04:12:17.694094Z",
     "shell.execute_reply": "2025-03-27T04:12:17.693571Z"
    },
    "papermill": {
     "duration": 0.015579,
     "end_time": "2025-03-27T04:12:17.695099",
     "exception": false,
     "start_time": "2025-03-27T04:12:17.679520",
     "status": "completed"
    },
    "tags": []
   },
   "outputs": [
    {
     "name": "stdout",
     "output_type": "stream",
     "text": [
      "408  publications files modified in the last 7 days.\n"
     ]
    }
   ],
   "source": [
    "from datetime import datetime, timedelta, timezone\n",
    "from glob import glob\n",
    "import os\n",
    "\n",
    "files = glob('_build/html/*.md')\n",
    "days = 7\n",
    "now = datetime.today()\n",
    "res = []\n",
    "for fk in files:\n",
    "    stat_result = os.stat(fk).st_ctime\n",
    "    modified = datetime.fromtimestamp(stat_result, tz=timezone.utc).replace(tzinfo=None)\n",
    "    delta = now.today() - modified\n",
    "    if delta <= timedelta(days=days):\n",
    "        res.append((delta.seconds, fk))\n",
    "res = [k[1] for k in reversed(sorted(res, key=lambda x:x[1]))]\n",
    "npub = len(res)\n",
    "print(len(res), f\" publications files modified in the last {days:d} days.\")\n",
    "# [ print('\\t', k) for k in res ];"
   ]
  },
  {
   "cell_type": "code",
   "execution_count": 11,
   "id": "015de740",
   "metadata": {
    "execution": {
     "iopub.execute_input": "2025-03-27T04:12:17.704831Z",
     "iopub.status.busy": "2025-03-27T04:12:17.704414Z",
     "iopub.status.idle": "2025-03-27T04:12:17.726075Z",
     "shell.execute_reply": "2025-03-27T04:12:17.725533Z"
    },
    "papermill": {
     "duration": 0.027733,
     "end_time": "2025-03-27T04:12:17.727162",
     "exception": false,
     "start_time": "2025-03-27T04:12:17.699429",
     "status": "completed"
    },
    "tags": []
   },
   "outputs": [
    {
     "name": "stdout",
     "output_type": "stream",
     "text": [
      "41  publications in the last 7 days.\n"
     ]
    }
   ],
   "source": [
    "import datetime\n",
    "from glob import glob\n",
    "\n",
    "def get_last_n_days(lst, days=1):\n",
    "    \"\"\" Get the documents from the last n days \"\"\"\n",
    "    sorted_lst = sorted(lst, key=lambda x: x[1], reverse=True)\n",
    "    for fname, date in sorted_lst:\n",
    "        if date >= str(datetime.date.today() - datetime.timedelta(days=days)):\n",
    "            yield fname\n",
    "\n",
    "def extract_appearance_dates(lst_file):\n",
    "    dates = []\n",
    "\n",
    "    def get_date(line):\n",
    "        return line\\\n",
    "            .split('Appeared on:')[-1]\\\n",
    "            .split('</mark>')[0].strip()\n",
    "\n",
    "    for fname in lst:\n",
    "        with open(fname, 'r') as f:\n",
    "            found_date = False\n",
    "            for line in f:\n",
    "                if not found_date:\n",
    "                    if \"Appeared on\" in line:\n",
    "                        found_date = True\n",
    "                        dates.append((fname, get_date(line)))\n",
    "                else:\n",
    "                    break\n",
    "    return dates\n",
    "\n",
    "from glob import glob\n",
    "lst = glob('_build/html/*md')\n",
    "days = 7\n",
    "dates = extract_appearance_dates(lst)\n",
    "res = list(get_last_n_days(dates, days))\n",
    "npub = len(res)\n",
    "print(len(res), f\" publications in the last {days:d} days.\")"
   ]
  },
  {
   "cell_type": "code",
   "execution_count": 12,
   "id": "52ca0208",
   "metadata": {
    "execution": {
     "iopub.execute_input": "2025-03-27T04:12:17.737511Z",
     "iopub.status.busy": "2025-03-27T04:12:17.737075Z",
     "iopub.status.idle": "2025-03-27T04:12:17.742171Z",
     "shell.execute_reply": "2025-03-27T04:12:17.741623Z"
    },
    "papermill": {
     "duration": 0.011464,
     "end_time": "2025-03-27T04:12:17.743186",
     "exception": false,
     "start_time": "2025-03-27T04:12:17.731722",
     "status": "completed"
    },
    "scrolled": false,
    "tags": []
   },
   "outputs": [],
   "source": [
    "def create_carousel(npub=4):\n",
    "    \"\"\" Generate the HTML code for a carousel with `npub` slides \"\"\"\n",
    "    carousel = [\"\"\"  <div class=\"carousel\" \"\"\",\n",
    "                \"\"\"       data-flickity='{ \"autoPlay\": 10000, \"adaptiveHeight\": true, \"resize\": true, \"wrapAround\": true, \"pauseAutoPlayOnHover\": true, \"groupCells\": 1 }' id=\"asyncTypeset\">\"\"\"\n",
    "                ]\n",
    "    \n",
    "    item_str = \"\"\"    <div class=\"carousel-cell\"> <div id=\"slide{k}\" class=\"md_view\">Content {k}</div> </div>\"\"\"\n",
    "    for k in range(1, npub + 1):\n",
    "        carousel.append(item_str.format(k=k))\n",
    "    carousel.append(\"  </div>\")\n",
    "    return '\\n'.join(carousel)\n",
    "\n",
    "def create_grid(npub=4):\n",
    "    \"\"\" Generate the HTML code for a flat grid with `npub` slides \"\"\"\n",
    "    grid = [\"\"\"  <div class=\"grid\"> \"\"\",\n",
    "                ]\n",
    "    \n",
    "    item_str = \"\"\"    <div class=\"grid-item\"> <div id=\"slide{k}\" class=\"md_view\">Content {k}</div> </div>\"\"\"\n",
    "    for k in range(1, npub + 1):\n",
    "        grid.append(item_str.format(k=k))\n",
    "    grid.append(\"  </div>\")\n",
    "    return '\\n'.join(grid)"
   ]
  },
  {
   "cell_type": "code",
   "execution_count": 13,
   "id": "a6eac5b6",
   "metadata": {
    "execution": {
     "iopub.execute_input": "2025-03-27T04:12:17.752914Z",
     "iopub.status.busy": "2025-03-27T04:12:17.752727Z",
     "iopub.status.idle": "2025-03-27T04:12:17.757949Z",
     "shell.execute_reply": "2025-03-27T04:12:17.757432Z"
    },
    "papermill": {
     "duration": 0.011238,
     "end_time": "2025-03-27T04:12:17.758880",
     "exception": false,
     "start_time": "2025-03-27T04:12:17.747642",
     "status": "completed"
    },
    "scrolled": false,
    "tags": []
   },
   "outputs": [],
   "source": [
    "carousel = create_carousel(npub)\n",
    "docs = ', '.join(['\"{0:s}\"'.format(k.split('/')[-1]) for k in res])\n",
    "slides = ', '.join([f'\"slide{k}\"' for k in range(1, npub + 1)])\n",
    "\n",
    "with open(\"daily_template.html\", \"r\") as tpl:\n",
    "    page = tpl.read()\n",
    "    page = page.replace(\"{%-- carousel:s --%}\", carousel)\\\n",
    "               .replace(\"{%-- suptitle:s --%}\",  \"7-day archives\" )\\\n",
    "               .replace(\"{%-- docs:s --%}\", docs)\\\n",
    "               .replace(\"{%-- slides:s --%}\", slides)\n",
    "    \n",
    "with open(\"_build/html/index_7days.html\", 'w') as fout:\n",
    "    fout.write(page)"
   ]
  },
  {
   "cell_type": "code",
   "execution_count": 14,
   "id": "adc1a1ec",
   "metadata": {
    "execution": {
     "iopub.execute_input": "2025-03-27T04:12:17.769011Z",
     "iopub.status.busy": "2025-03-27T04:12:17.768620Z",
     "iopub.status.idle": "2025-03-27T04:12:17.775396Z",
     "shell.execute_reply": "2025-03-27T04:12:17.774845Z"
    },
    "papermill": {
     "duration": 0.013019,
     "end_time": "2025-03-27T04:12:17.776479",
     "exception": false,
     "start_time": "2025-03-27T04:12:17.763460",
     "status": "completed"
    },
    "tags": []
   },
   "outputs": [
    {
     "name": "stdout",
     "output_type": "stream",
     "text": [
      "2  publications in the last day.\n"
     ]
    }
   ],
   "source": [
    "# redo for today\n",
    "days = 1\n",
    "res = list(get_last_n_days(dates, days))\n",
    "npub = len(res)\n",
    "print(len(res), f\" publications in the last day.\")\n",
    "\n",
    "carousel = create_carousel(npub)\n",
    "docs = ', '.join(['\"{0:s}\"'.format(k.split('/')[-1]) for k in res])\n",
    "slides = ', '.join([f'\"slide{k}\"' for k in range(1, npub + 1)])\n",
    "\n",
    "with open(\"daily_template.html\", \"r\") as tpl:\n",
    "    page = tpl.read()\n",
    "    page = page.replace(\"{%-- carousel:s --%}\", carousel)\\\n",
    "               .replace(\"{%-- suptitle:s --%}\",  \"Daily\" )\\\n",
    "               .replace(\"{%-- docs:s --%}\", docs)\\\n",
    "               .replace(\"{%-- slides:s --%}\", slides)\n",
    "    \n",
    "# print(carousel, docs, slides)\n",
    "# print(page)\n",
    "with open(\"_build/html/index_daily.html\", 'w') as fout:\n",
    "    fout.write(page)"
   ]
  },
  {
   "cell_type": "code",
   "execution_count": 15,
   "id": "00eece82",
   "metadata": {
    "execution": {
     "iopub.execute_input": "2025-03-27T04:12:17.786984Z",
     "iopub.status.busy": "2025-03-27T04:12:17.786578Z",
     "iopub.status.idle": "2025-03-27T04:12:17.793025Z",
     "shell.execute_reply": "2025-03-27T04:12:17.792505Z"
    },
    "papermill": {
     "duration": 0.012664,
     "end_time": "2025-03-27T04:12:17.794068",
     "exception": false,
     "start_time": "2025-03-27T04:12:17.781404",
     "status": "completed"
    },
    "scrolled": false,
    "tags": []
   },
   "outputs": [
    {
     "name": "stdout",
     "output_type": "stream",
     "text": [
      "6  6 publications selected.\n"
     ]
    }
   ],
   "source": [
    "# Create the flat grid of the last N papers (fixed number regardless of dates)\n",
    "from itertools import islice \n",
    "\n",
    "npub = 6\n",
    "res = [k[0] for k in (islice(reversed(sorted(dates, key=lambda x: x[1])), 6))]\n",
    "print(len(res), f\" {npub} publications selected.\")\n",
    "\n",
    "grid = create_grid(npub)\n",
    "docs = ', '.join(['\"{0:s}\"'.format(k.split('/')[-1]) for k in res])\n",
    "slides = ', '.join([f'\"slide{k}\"' for k in range(1, npub + 1)])\n",
    "\n",
    "with open(\"grid_template.html\", \"r\") as tpl:\n",
    "    page = tpl.read()\n",
    "    page = page.replace(\"{%-- grid-content:s --%}\", grid)\\\n",
    "               .replace(\"{%-- suptitle:s --%}\",  f\"Last {npub:,d} papers\" )\\\n",
    "               .replace(\"{%-- docs:s --%}\", docs)\\\n",
    "               .replace(\"{%-- slides:s --%}\", slides)\n",
    "    \n",
    "# print(grid, docs, slides)\n",
    "# print(page)\n",
    "with open(\"_build/html/index_npub_grid.html\", 'w') as fout:\n",
    "    fout.write(page)"
   ]
  }
 ],
 "metadata": {
  "kernelspec": {
   "display_name": "Python 3 (ipykernel)",
   "language": "python",
   "name": "python3"
  },
  "language_info": {
   "codemirror_mode": {
    "name": "ipython",
    "version": 3
   },
   "file_extension": ".py",
   "mimetype": "text/x-python",
   "name": "python",
   "nbconvert_exporter": "python",
   "pygments_lexer": "ipython3",
   "version": "3.9.21"
  },
  "papermill": {
   "default_parameters": {},
   "duration": 39.626776,
   "end_time": "2025-03-27T04:12:18.013981",
   "environment_variables": {},
   "exception": null,
   "input_path": "MPIA daily digest.ipynb",
   "output_path": "log.ipynb",
   "parameters": {},
   "start_time": "2025-03-27T04:11:38.387205",
   "version": "2.6.0"
  },
  "vscode": {
   "interpreter": {
    "hash": "aee8b7b246df8f9039afb4144a1f6fd8d2ca17a180786b69acc140d282b71a49"
   }
  },
  "widgets": {
   "application/vnd.jupyter.widget-state+json": {
    "state": {
     "1d6b6973099741c08ac58cc6e85a40ac": {
      "model_module": "@jupyter-widgets/controls",
      "model_module_version": "2.0.0",
      "model_name": "HTMLStyleModel",
      "state": {
       "_model_module": "@jupyter-widgets/controls",
       "_model_module_version": "2.0.0",
       "_model_name": "HTMLStyleModel",
       "_view_count": null,
       "_view_module": "@jupyter-widgets/base",
       "_view_module_version": "2.0.0",
       "_view_name": "StyleView",
       "background": null,
       "description_width": "",
       "font_size": null,
       "text_color": null
      }
     },
     "3b660fab0be94d18b096297d6ce4e920": {
      "model_module": "@jupyter-widgets/base",
      "model_module_version": "2.0.0",
      "model_name": "LayoutModel",
      "state": {
       "_model_module": "@jupyter-widgets/base",
       "_model_module_version": "2.0.0",
       "_model_name": "LayoutModel",
       "_view_count": null,
       "_view_module": "@jupyter-widgets/base",
       "_view_module_version": "2.0.0",
       "_view_name": "LayoutView",
       "align_content": null,
       "align_items": null,
       "align_self": null,
       "border_bottom": null,
       "border_left": null,
       "border_right": null,
       "border_top": null,
       "bottom": null,
       "display": null,
       "flex": null,
       "flex_flow": null,
       "grid_area": null,
       "grid_auto_columns": null,
       "grid_auto_flow": null,
       "grid_auto_rows": null,
       "grid_column": null,
       "grid_gap": null,
       "grid_row": null,
       "grid_template_areas": null,
       "grid_template_columns": null,
       "grid_template_rows": null,
       "height": null,
       "justify_content": null,
       "justify_items": null,
       "left": null,
       "margin": null,
       "max_height": null,
       "max_width": null,
       "min_height": null,
       "min_width": null,
       "object_fit": null,
       "object_position": null,
       "order": null,
       "overflow": null,
       "padding": null,
       "right": null,
       "top": null,
       "visibility": null,
       "width": null
      }
     },
     "46c0c11a603d467d93a77e71742a252d": {
      "model_module": "@jupyter-widgets/base",
      "model_module_version": "2.0.0",
      "model_name": "LayoutModel",
      "state": {
       "_model_module": "@jupyter-widgets/base",
       "_model_module_version": "2.0.0",
       "_model_name": "LayoutModel",
       "_view_count": null,
       "_view_module": "@jupyter-widgets/base",
       "_view_module_version": "2.0.0",
       "_view_name": "LayoutView",
       "align_content": null,
       "align_items": null,
       "align_self": null,
       "border_bottom": null,
       "border_left": null,
       "border_right": null,
       "border_top": null,
       "bottom": null,
       "display": null,
       "flex": null,
       "flex_flow": null,
       "grid_area": null,
       "grid_auto_columns": null,
       "grid_auto_flow": null,
       "grid_auto_rows": null,
       "grid_column": null,
       "grid_gap": null,
       "grid_row": null,
       "grid_template_areas": null,
       "grid_template_columns": null,
       "grid_template_rows": null,
       "height": null,
       "justify_content": null,
       "justify_items": null,
       "left": null,
       "margin": null,
       "max_height": null,
       "max_width": null,
       "min_height": null,
       "min_width": null,
       "object_fit": null,
       "object_position": null,
       "order": null,
       "overflow": null,
       "padding": null,
       "right": null,
       "top": null,
       "visibility": null,
       "width": null
      }
     },
     "4c3a9bf1dfdd41b7b24e75298499dd8f": {
      "model_module": "@jupyter-widgets/controls",
      "model_module_version": "2.0.0",
      "model_name": "HTMLModel",
      "state": {
       "_dom_classes": [],
       "_model_module": "@jupyter-widgets/controls",
       "_model_module_version": "2.0.0",
       "_model_name": "HTMLModel",
       "_view_count": null,
       "_view_module": "@jupyter-widgets/controls",
       "_view_module_version": "2.0.0",
       "_view_name": "HTMLView",
       "description": "",
       "description_allow_html": false,
       "layout": "IPY_MODEL_46c0c11a603d467d93a77e71742a252d",
       "placeholder": "​",
       "style": "IPY_MODEL_fd7675ad61e14085aad3fcb0f9de633b",
       "tabbable": null,
       "tooltip": null,
       "value": " 2/2 [00:18&lt;00:00,  7.79s/it]"
      }
     },
     "9a098925256240faae8f46fb9f0ba64c": {
      "model_module": "@jupyter-widgets/controls",
      "model_module_version": "2.0.0",
      "model_name": "FloatProgressModel",
      "state": {
       "_dom_classes": [],
       "_model_module": "@jupyter-widgets/controls",
       "_model_module_version": "2.0.0",
       "_model_name": "FloatProgressModel",
       "_view_count": null,
       "_view_module": "@jupyter-widgets/controls",
       "_view_module_version": "2.0.0",
       "_view_name": "ProgressView",
       "bar_style": "success",
       "description": "",
       "description_allow_html": false,
       "layout": "IPY_MODEL_9a7ffbf3497c4ef89bbad071e275194f",
       "max": 2.0,
       "min": 0.0,
       "orientation": "horizontal",
       "style": "IPY_MODEL_b89c9fb2b00a4a9c826b7bf787dd640c",
       "tabbable": null,
       "tooltip": null,
       "value": 2.0
      }
     },
     "9a7ffbf3497c4ef89bbad071e275194f": {
      "model_module": "@jupyter-widgets/base",
      "model_module_version": "2.0.0",
      "model_name": "LayoutModel",
      "state": {
       "_model_module": "@jupyter-widgets/base",
       "_model_module_version": "2.0.0",
       "_model_name": "LayoutModel",
       "_view_count": null,
       "_view_module": "@jupyter-widgets/base",
       "_view_module_version": "2.0.0",
       "_view_name": "LayoutView",
       "align_content": null,
       "align_items": null,
       "align_self": null,
       "border_bottom": null,
       "border_left": null,
       "border_right": null,
       "border_top": null,
       "bottom": null,
       "display": null,
       "flex": null,
       "flex_flow": null,
       "grid_area": null,
       "grid_auto_columns": null,
       "grid_auto_flow": null,
       "grid_auto_rows": null,
       "grid_column": null,
       "grid_gap": null,
       "grid_row": null,
       "grid_template_areas": null,
       "grid_template_columns": null,
       "grid_template_rows": null,
       "height": null,
       "justify_content": null,
       "justify_items": null,
       "left": null,
       "margin": null,
       "max_height": null,
       "max_width": null,
       "min_height": null,
       "min_width": null,
       "object_fit": null,
       "object_position": null,
       "order": null,
       "overflow": null,
       "padding": null,
       "right": null,
       "top": null,
       "visibility": null,
       "width": null
      }
     },
     "9e519aaf28cb4a7da9fe304c1c8e23ae": {
      "model_module": "@jupyter-widgets/controls",
      "model_module_version": "2.0.0",
      "model_name": "HBoxModel",
      "state": {
       "_dom_classes": [],
       "_model_module": "@jupyter-widgets/controls",
       "_model_module_version": "2.0.0",
       "_model_name": "HBoxModel",
       "_view_count": null,
       "_view_module": "@jupyter-widgets/controls",
       "_view_module_version": "2.0.0",
       "_view_name": "HBoxView",
       "box_style": "",
       "children": [
        "IPY_MODEL_b80949ae8cfe43508ffbf1b37fd571cd",
        "IPY_MODEL_9a098925256240faae8f46fb9f0ba64c",
        "IPY_MODEL_4c3a9bf1dfdd41b7b24e75298499dd8f"
       ],
       "layout": "IPY_MODEL_3b660fab0be94d18b096297d6ce4e920",
       "tabbable": null,
       "tooltip": null
      }
     },
     "ad988b89be1d4577afac255ea378e699": {
      "model_module": "@jupyter-widgets/base",
      "model_module_version": "2.0.0",
      "model_name": "LayoutModel",
      "state": {
       "_model_module": "@jupyter-widgets/base",
       "_model_module_version": "2.0.0",
       "_model_name": "LayoutModel",
       "_view_count": null,
       "_view_module": "@jupyter-widgets/base",
       "_view_module_version": "2.0.0",
       "_view_name": "LayoutView",
       "align_content": null,
       "align_items": null,
       "align_self": null,
       "border_bottom": null,
       "border_left": null,
       "border_right": null,
       "border_top": null,
       "bottom": null,
       "display": null,
       "flex": null,
       "flex_flow": null,
       "grid_area": null,
       "grid_auto_columns": null,
       "grid_auto_flow": null,
       "grid_auto_rows": null,
       "grid_column": null,
       "grid_gap": null,
       "grid_row": null,
       "grid_template_areas": null,
       "grid_template_columns": null,
       "grid_template_rows": null,
       "height": null,
       "justify_content": null,
       "justify_items": null,
       "left": null,
       "margin": null,
       "max_height": null,
       "max_width": null,
       "min_height": null,
       "min_width": null,
       "object_fit": null,
       "object_position": null,
       "order": null,
       "overflow": null,
       "padding": null,
       "right": null,
       "top": null,
       "visibility": null,
       "width": null
      }
     },
     "b80949ae8cfe43508ffbf1b37fd571cd": {
      "model_module": "@jupyter-widgets/controls",
      "model_module_version": "2.0.0",
      "model_name": "HTMLModel",
      "state": {
       "_dom_classes": [],
       "_model_module": "@jupyter-widgets/controls",
       "_model_module_version": "2.0.0",
       "_model_name": "HTMLModel",
       "_view_count": null,
       "_view_module": "@jupyter-widgets/controls",
       "_view_module_version": "2.0.0",
       "_view_name": "HTMLView",
       "description": "",
       "description_allow_html": false,
       "layout": "IPY_MODEL_ad988b89be1d4577afac255ea378e699",
       "placeholder": "​",
       "style": "IPY_MODEL_1d6b6973099741c08ac58cc6e85a40ac",
       "tabbable": null,
       "tooltip": null,
       "value": "100%"
      }
     },
     "b89c9fb2b00a4a9c826b7bf787dd640c": {
      "model_module": "@jupyter-widgets/controls",
      "model_module_version": "2.0.0",
      "model_name": "ProgressStyleModel",
      "state": {
       "_model_module": "@jupyter-widgets/controls",
       "_model_module_version": "2.0.0",
       "_model_name": "ProgressStyleModel",
       "_view_count": null,
       "_view_module": "@jupyter-widgets/base",
       "_view_module_version": "2.0.0",
       "_view_name": "StyleView",
       "bar_color": null,
       "description_width": ""
      }
     },
     "fd7675ad61e14085aad3fcb0f9de633b": {
      "model_module": "@jupyter-widgets/controls",
      "model_module_version": "2.0.0",
      "model_name": "HTMLStyleModel",
      "state": {
       "_model_module": "@jupyter-widgets/controls",
       "_model_module_version": "2.0.0",
       "_model_name": "HTMLStyleModel",
       "_view_count": null,
       "_view_module": "@jupyter-widgets/base",
       "_view_module_version": "2.0.0",
       "_view_name": "StyleView",
       "background": null,
       "description_width": "",
       "font_size": null,
       "text_color": null
      }
     }
    },
    "version_major": 2,
    "version_minor": 0
   }
  }
 },
 "nbformat": 4,
 "nbformat_minor": 5
}