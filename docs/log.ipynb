{
 "cells": [
  {
   "cell_type": "markdown",
   "id": "92bcb855",
   "metadata": {
    "papermill": {
     "duration": 0.005584,
     "end_time": "2022-12-01T04:07:41.331153",
     "exception": false,
     "start_time": "2022-12-01T04:07:41.325569",
     "status": "completed"
    },
    "tags": []
   },
   "source": [
    "# MPIA Arxiv on Deck 2\n",
    "\n",
    "Contains the steps to produce the paper extractions."
   ]
  },
  {
   "cell_type": "code",
   "execution_count": 1,
   "id": "3a0d6e11",
   "metadata": {
    "execution": {
     "iopub.execute_input": "2022-12-01T04:07:41.341423Z",
     "iopub.status.busy": "2022-12-01T04:07:41.340837Z",
     "iopub.status.idle": "2022-12-01T04:07:41.513424Z",
     "shell.execute_reply": "2022-12-01T04:07:41.512173Z"
    },
    "papermill": {
     "duration": 0.18029,
     "end_time": "2022-12-01T04:07:41.515746",
     "exception": false,
     "start_time": "2022-12-01T04:07:41.335456",
     "status": "completed"
    },
    "tags": []
   },
   "outputs": [],
   "source": [
    "# Imports\n",
    "import os\n",
    "from IPython.display import Markdown, display\n",
    "from tqdm.notebook import tqdm\n",
    "import warnings\n",
    "from PIL import Image \n",
    "\n",
    "# requires arxiv_on_deck_2\n",
    "\n",
    "from arxiv_on_deck_2.arxiv2 import (get_new_papers, \n",
    "                                    get_paper_from_identifier,\n",
    "                                    retrieve_document_source, \n",
    "                                    get_markdown_badge)\n",
    "from arxiv_on_deck_2 import (latex, \n",
    "                             mpia,\n",
    "                             highlight_authors_in_list)\n",
    "\n",
    "# Sometimes images are really big\n",
    "Image.MAX_IMAGE_PIXELS = 1000000000 "
   ]
  },
  {
   "cell_type": "code",
   "execution_count": 2,
   "id": "22aa9d44",
   "metadata": {
    "execution": {
     "iopub.execute_input": "2022-12-01T04:07:41.528087Z",
     "iopub.status.busy": "2022-12-01T04:07:41.527585Z",
     "iopub.status.idle": "2022-12-01T04:07:41.532672Z",
     "shell.execute_reply": "2022-12-01T04:07:41.532023Z"
    },
    "papermill": {
     "duration": 0.013606,
     "end_time": "2022-12-01T04:07:41.534188",
     "exception": false,
     "start_time": "2022-12-01T04:07:41.520582",
     "status": "completed"
    },
    "tags": []
   },
   "outputs": [],
   "source": [
    "# Some useful definitions.\n",
    "\n",
    "class AffiliationWarning(UserWarning):\n",
    "    pass\n",
    "\n",
    "class AffiliationError(RuntimeError):\n",
    "    pass\n",
    "\n",
    "def validation(source: str):\n",
    "    \"\"\"Raises error paper during parsing of source file\n",
    "    \n",
    "    Allows checks before parsing TeX code.\n",
    "    \n",
    "    Raises AffiliationWarning\n",
    "    \"\"\"\n",
    "    check = mpia.affiliation_verifications(source, verbose=True)\n",
    "    if check is not True:\n",
    "        raise AffiliationError(\"mpia.affiliation_verifications: \" + check)\n",
    "\n",
    "        \n",
    "warnings.simplefilter('always', AffiliationWarning)"
   ]
  },
  {
   "cell_type": "code",
   "execution_count": 3,
   "id": "14622700",
   "metadata": {
    "execution": {
     "iopub.execute_input": "2022-12-01T04:07:41.543142Z",
     "iopub.status.busy": "2022-12-01T04:07:41.542605Z",
     "iopub.status.idle": "2022-12-01T04:07:41.546384Z",
     "shell.execute_reply": "2022-12-01T04:07:41.545754Z"
    },
    "papermill": {
     "duration": 0.010056,
     "end_time": "2022-12-01T04:07:41.548086",
     "exception": false,
     "start_time": "2022-12-01T04:07:41.538030",
     "status": "completed"
    },
    "tags": []
   },
   "outputs": [],
   "source": [
    "# additional CSS to consider. \n",
    "# TODO: Current into each exported file. \n",
    "#       This should be set once into the webpages directly.\n",
    "#       With only the class/id definitions in the .md files.\n",
    "\n",
    "debug_html = \"\"\"\n",
    "<style>\n",
    "#wrap{ overflow:auto; }\n",
    "#fig1{ background:yellow; width:100%; float:left; padding:5px;  }\n",
    "#fig2{ background:red; width:50%; float:left; clear:left; padding:5px;  }\n",
    "#fig3{ background:green; width:50%; float:left; padding:5px;   }\n",
    ".macros{ background:yellow; visibility:visible;}\n",
    "h1 {margin: 0 0 0 0;}\n",
    "mark {background-color:#fff3b6;}\n",
    "img {object-fit:contain; max-height:250px; display:inline-block; text-align: center;}\n",
    "</style>\n",
    "\"\"\" \n",
    "html = \"\"\"\n",
    "<style>\n",
    "#wrap{ overflow:auto; }\n",
    "#fig1{ width:100%; float:left; padding: 5px;  }\n",
    "#fig2{ width:50%; float:left; clear:left; padding: 5px;  }\n",
    "#fig3{ width:50%; float:left; padding: 5px;  }\n",
    ".macros{ visibility:hidden; height:0px; }\n",
    "h1 {margin: 0em 0 0 0;}\n",
    "mark {background-color:#fff3b6;}\n",
    "img {object-fit:contain; max-height:250px; display:inline-block; text-align: center;}\n",
    "</style>\n",
    "\"\"\""
   ]
  },
  {
   "cell_type": "markdown",
   "id": "14bd6310",
   "metadata": {
    "papermill": {
     "duration": 0.003779,
     "end_time": "2022-12-01T04:07:41.555746",
     "exception": false,
     "start_time": "2022-12-01T04:07:41.551967",
     "status": "completed"
    },
    "tags": []
   },
   "source": [
    "## get list of arxiv paper candidates\n",
    "\n",
    "We use the MPIA mitarbeiter list webpage from mpia.de to get author names\n",
    "We then get all new papers from Arxiv and match authors"
   ]
  },
  {
   "cell_type": "code",
   "execution_count": 4,
   "id": "2645e73a",
   "metadata": {
    "execution": {
     "iopub.execute_input": "2022-12-01T04:07:41.565902Z",
     "iopub.status.busy": "2022-12-01T04:07:41.565680Z",
     "iopub.status.idle": "2022-12-01T04:08:09.513155Z",
     "shell.execute_reply": "2022-12-01T04:08:09.512561Z"
    },
    "papermill": {
     "duration": 27.955335,
     "end_time": "2022-12-01T04:08:09.514903",
     "exception": false,
     "start_time": "2022-12-01T04:07:41.559568",
     "status": "completed"
    },
    "tags": []
   },
   "outputs": [
    {
     "name": "stdout",
     "output_type": "stream",
     "text": [
      "Arxiv has 67 new papers today\n",
      "          25 with possible author matches\n"
     ]
    }
   ],
   "source": [
    "# get list from MPIA website\n",
    "# it automatically filters identified non-scientists :func:`mpia.filter_non_scientists`\n",
    "mpia_authors = mpia.get_mpia_mitarbeiter_list()\n",
    "new_papers = get_new_papers()\n",
    "# add manual references\n",
    "add_paper_refs = []\n",
    "new_papers.extend([get_paper_from_identifier(k) for k in add_paper_refs])\n",
    "\n",
    "# select only papers with matching author names and highlight authors\n",
    "hl_list = [k[0] for k in mpia_authors]\n",
    "\n",
    "candidates = []\n",
    "for paperk in new_papers:\n",
    "    hl_authors = highlight_authors_in_list(paperk['authors'], hl_list)\n",
    "    matches = [(hl, orig) for hl, orig in zip(hl_authors, paperk['authors']) if 'mark' in hl]\n",
    "    paperk['authors'] = hl_authors\n",
    "    if matches:\n",
    "        candidates.append(paperk)\n",
    "print(\"\"\"Arxiv has {0:,d} new papers today\"\"\".format(len(new_papers)))        \n",
    "print(\"\"\"          {0:,d} with possible author matches\"\"\".format(len(candidates)))"
   ]
  },
  {
   "cell_type": "markdown",
   "id": "3543b34a",
   "metadata": {
    "papermill": {
     "duration": 0.004396,
     "end_time": "2022-12-01T04:08:09.523669",
     "exception": false,
     "start_time": "2022-12-01T04:08:09.519273",
     "status": "completed"
    },
    "tags": []
   },
   "source": [
    "# Parse sources and generate relevant outputs\n",
    "\n",
    "From the candidates, we do the following steps:\n",
    "* get their tarball from ArXiv (and extract data)\n",
    "* find the main .tex file: find one with \\documentclass{...} (sometimes it's non trivial)\n",
    "* Check affiliations with :func:`validation`, which uses :func:`mpia.affiliation_verifications`\n",
    "* If passing the affiliations: we parse the .tex source\n",
    "   * inject sub-documents into the main (flatten the main document)\n",
    "   * parse structure, extract information (title, abstract, authors, figures...)\n",
    "   * handles `\\graphicspath` if provided\n",
    "* Generate the .md document."
   ]
  },
  {
   "cell_type": "code",
   "execution_count": 5,
   "id": "9576b79e",
   "metadata": {
    "execution": {
     "iopub.execute_input": "2022-12-01T04:08:09.533309Z",
     "iopub.status.busy": "2022-12-01T04:08:09.532875Z",
     "iopub.status.idle": "2022-12-01T04:09:58.555691Z",
     "shell.execute_reply": "2022-12-01T04:09:58.554601Z"
    },
    "papermill": {
     "duration": 109.030251,
     "end_time": "2022-12-01T04:09:58.557902",
     "exception": false,
     "start_time": "2022-12-01T04:08:09.527651",
     "status": "completed"
    },
    "scrolled": false,
    "tags": []
   },
   "outputs": [
    {
     "data": {
      "application/vnd.jupyter.widget-view+json": {
       "model_id": "4ec29037e6b241688dbd8682e484a387",
       "version_major": 2,
       "version_minor": 0
      },
      "text/plain": [
       "  0%|          | 0/24 [00:00<?, ?it/s]"
      ]
     },
     "metadata": {},
     "output_type": "display_data"
    },
    {
     "name": "stdout",
     "output_type": "stream",
     "text": [
      "Retrieving document from  https://arxiv.org/e-print/2211.16510\n"
     ]
    },
    {
     "name": "stdout",
     "output_type": "stream",
     "text": [
      "extracting tarball to tmp_2211.16510... done.\n"
     ]
    },
    {
     "name": "stdout",
     "output_type": "stream",
     "text": [
      "Retrieving document from  https://arxiv.org/e-print/2211.16516\n"
     ]
    },
    {
     "name": "stdout",
     "output_type": "stream",
     "text": [
      "extracting tarball to tmp_2211.16516..."
     ]
    },
    {
     "name": "stdout",
     "output_type": "stream",
     "text": [
      " done.\n",
      "Retrieving document from  https://arxiv.org/e-print/2211.16521\n"
     ]
    },
    {
     "name": "stderr",
     "output_type": "stream",
     "text": [
      "/opt/hostedtoolcache/Python/3.9.15/x64/lib/python3.9/site-packages/IPython/core/interactiveshell.py:3433: LatexWarning: Multiple tex files.\n",
      "\n",
      "  exec(code_obj, self.user_global_ns, self.user_ns)\n",
      "/opt/hostedtoolcache/Python/3.9.15/x64/lib/python3.9/site-packages/IPython/core/interactiveshell.py:3433: LatexWarning: Found documentclass in tmp_2211.16516/mnras_template.tex\n",
      "\n",
      "  exec(code_obj, self.user_global_ns, self.user_ns)\n"
     ]
    },
    {
     "name": "stdout",
     "output_type": "stream",
     "text": [
      "extracting tarball to tmp_2211.16521..."
     ]
    },
    {
     "name": "stdout",
     "output_type": "stream",
     "text": [
      " done.\n",
      "Retrieving document from  https://arxiv.org/e-print/2211.16524\n"
     ]
    },
    {
     "name": "stdout",
     "output_type": "stream",
     "text": [
      "extracting tarball to tmp_2211.16524..."
     ]
    },
    {
     "name": "stdout",
     "output_type": "stream",
     "text": [
      " done.\n",
      "Retrieving document from  https://arxiv.org/e-print/2211.16530\n"
     ]
    },
    {
     "name": "stdout",
     "output_type": "stream",
     "text": [
      "extracting tarball to tmp_2211.16530..."
     ]
    },
    {
     "name": "stdout",
     "output_type": "stream",
     "text": [
      " done.\n",
      "Retrieving document from  https://arxiv.org/e-print/2211.16532\n"
     ]
    },
    {
     "name": "stdout",
     "output_type": "stream",
     "text": [
      "extracting tarball to tmp_2211.16532..."
     ]
    },
    {
     "name": "stdout",
     "output_type": "stream",
     "text": [
      " done.\n",
      "Retrieving document from  https://arxiv.org/e-print/2211.16537\n"
     ]
    },
    {
     "name": "stdout",
     "output_type": "stream",
     "text": [
      "extracting tarball to tmp_2211.16537..."
     ]
    },
    {
     "name": "stdout",
     "output_type": "stream",
     "text": [
      " done.\n",
      "Retrieving document from  https://arxiv.org/e-print/2211.16547\n"
     ]
    },
    {
     "name": "stdout",
     "output_type": "stream",
     "text": [
      "extracting tarball to tmp_2211.16547..."
     ]
    },
    {
     "name": "stdout",
     "output_type": "stream",
     "text": [
      " done.\n",
      "Retrieving document from  https://arxiv.org/e-print/2211.16593\n"
     ]
    },
    {
     "name": "stdout",
     "output_type": "stream",
     "text": [
      "extracting tarball to tmp_2211.16593..."
     ]
    },
    {
     "name": "stdout",
     "output_type": "stream",
     "text": [
      " done.\n",
      "Retrieving document from  https://arxiv.org/e-print/2211.16635\n"
     ]
    },
    {
     "name": "stderr",
     "output_type": "stream",
     "text": [
      "/opt/hostedtoolcache/Python/3.9.15/x64/lib/python3.9/site-packages/IPython/core/interactiveshell.py:3433: LatexWarning: Multiple tex files.\n",
      "\n",
      "  exec(code_obj, self.user_global_ns, self.user_ns)\n",
      "/opt/hostedtoolcache/Python/3.9.15/x64/lib/python3.9/site-packages/IPython/core/interactiveshell.py:3433: LatexWarning: Found documentclass in tmp_2211.16593/tables.tex\n",
      "\n",
      "  exec(code_obj, self.user_global_ns, self.user_ns)\n"
     ]
    },
    {
     "name": "stdout",
     "output_type": "stream",
     "text": [
      "extracting tarball to tmp_2211.16635..."
     ]
    },
    {
     "name": "stdout",
     "output_type": "stream",
     "text": [
      " done.\n",
      "Retrieving document from  https://arxiv.org/e-print/2211.16659\n"
     ]
    },
    {
     "name": "stderr",
     "output_type": "stream",
     "text": [
      "/opt/hostedtoolcache/Python/3.9.15/x64/lib/python3.9/site-packages/IPython/core/interactiveshell.py:3433: LatexWarning: Multiple tex files.\n",
      "\n",
      "  exec(code_obj, self.user_global_ns, self.user_ns)\n",
      "/opt/hostedtoolcache/Python/3.9.15/x64/lib/python3.9/site-packages/IPython/core/interactiveshell.py:3433: LatexWarning: Found documentclass in tmp_2211.16635/psfrestore_paper0.tex\n",
      "\n",
      "  exec(code_obj, self.user_global_ns, self.user_ns)\n"
     ]
    },
    {
     "name": "stdout",
     "output_type": "stream",
     "text": [
      "extracting tarball to tmp_2211.16659..."
     ]
    },
    {
     "name": "stdout",
     "output_type": "stream",
     "text": [
      " done.\n",
      "Retrieving document from  https://arxiv.org/e-print/2211.16679\n"
     ]
    },
    {
     "name": "stdout",
     "output_type": "stream",
     "text": [
      "extracting tarball to tmp_2211.16679..."
     ]
    },
    {
     "name": "stdout",
     "output_type": "stream",
     "text": [
      " done.\n",
      "Retrieving document from  https://arxiv.org/e-print/2211.16727\n"
     ]
    },
    {
     "name": "stdout",
     "output_type": "stream",
     "text": [
      "extracting tarball to tmp_2211.16727..."
     ]
    },
    {
     "name": "stdout",
     "output_type": "stream",
     "text": [
      " done.\n",
      "Retrieving document from  https://arxiv.org/e-print/2211.16748\n"
     ]
    },
    {
     "name": "stdout",
     "output_type": "stream",
     "text": [
      "extracting tarball to tmp_2211.16748..."
     ]
    },
    {
     "name": "stdout",
     "output_type": "stream",
     "text": [
      " done.\n"
     ]
    },
    {
     "name": "stderr",
     "output_type": "stream",
     "text": [
      "/tmp/ipykernel_2188/4030337529.py:34: LatexWarning: 2211.16748 did not run properly\n",
      "[Errno 2] No such file or directory: 'gs'\n",
      "  warnings.warn(latex.LatexWarning(f\"{paper_id:s} did not run properly\\n\" +\n"
     ]
    },
    {
     "name": "stdout",
     "output_type": "stream",
     "text": [
      "Retrieving document from  https://arxiv.org/e-print/2211.16782\n"
     ]
    },
    {
     "name": "stdout",
     "output_type": "stream",
     "text": [
      "extracting tarball to tmp_2211.16782... done.\n",
      "Retrieving document from  https://arxiv.org/e-print/2211.16794\n"
     ]
    },
    {
     "name": "stdout",
     "output_type": "stream",
     "text": [
      "extracting tarball to tmp_2211.16794..."
     ]
    },
    {
     "name": "stdout",
     "output_type": "stream",
     "text": [
      " done.\n",
      "Retrieving document from  https://arxiv.org/e-print/2211.16795\n"
     ]
    },
    {
     "name": "stderr",
     "output_type": "stream",
     "text": [
      "/tmp/ipykernel_2188/4030337529.py:34: LatexWarning: 2211.16795 did not run properly\n",
      "not a gzip file\n",
      "  warnings.warn(latex.LatexWarning(f\"{paper_id:s} did not run properly\\n\" +\n"
     ]
    },
    {
     "name": "stdout",
     "output_type": "stream",
     "text": [
      "Retrieving document from  https://arxiv.org/e-print/2211.16833\n"
     ]
    },
    {
     "name": "stdout",
     "output_type": "stream",
     "text": [
      "extracting tarball to tmp_2211.16833..."
     ]
    },
    {
     "name": "stdout",
     "output_type": "stream",
     "text": [
      " done.\n",
      "Retrieving document from  https://arxiv.org/e-print/2211.16923\n"
     ]
    },
    {
     "name": "stderr",
     "output_type": "stream",
     "text": [
      "/opt/hostedtoolcache/Python/3.9.15/x64/lib/python3.9/site-packages/IPython/core/interactiveshell.py:3433: LatexWarning: Multiple tex files.\n",
      "\n",
      "  exec(code_obj, self.user_global_ns, self.user_ns)\n",
      "/opt/hostedtoolcache/Python/3.9.15/x64/lib/python3.9/site-packages/IPython/core/interactiveshell.py:3433: LatexWarning: Found documentclass in tmp_2211.16833/The_Radial_Profile_of_Dust_Grain_Size_in_the_Protoplanetary_Disk_of_DS_Tau.tex\n",
      "\n",
      "  exec(code_obj, self.user_global_ns, self.user_ns)\n"
     ]
    },
    {
     "name": "stdout",
     "output_type": "stream",
     "text": [
      "extracting tarball to tmp_2211.16923..."
     ]
    },
    {
     "name": "stdout",
     "output_type": "stream",
     "text": [
      " done.\n",
      "Retrieving document from  https://arxiv.org/e-print/2211.16979\n"
     ]
    },
    {
     "name": "stdout",
     "output_type": "stream",
     "text": [
      "extracting tarball to tmp_2211.16979... done.\n",
      "Retrieving document from  https://arxiv.org/e-print/2211.16996\n"
     ]
    },
    {
     "name": "stderr",
     "output_type": "stream",
     "text": [
      "/tmp/ipykernel_2188/4030337529.py:34: LatexWarning: 2211.16979 did not run properly\n",
      "'utf-8' codec can't decode byte 0xc0 in position 35572: invalid start byte\n",
      "  warnings.warn(latex.LatexWarning(f\"{paper_id:s} did not run properly\\n\" +\n"
     ]
    },
    {
     "name": "stdout",
     "output_type": "stream",
     "text": [
      "extracting tarball to tmp_2211.16996..."
     ]
    },
    {
     "name": "stdout",
     "output_type": "stream",
     "text": [
      " done.\n"
     ]
    },
    {
     "name": "stdout",
     "output_type": "stream",
     "text": [
      "Retrieving document from  https://arxiv.org/e-print/2211.17035\n"
     ]
    },
    {
     "name": "stdout",
     "output_type": "stream",
     "text": [
      "extracting tarball to tmp_2211.17035..."
     ]
    },
    {
     "name": "stdout",
     "output_type": "stream",
     "text": [
      " done.\n",
      "Retrieving document from  https://arxiv.org/e-print/2211.17087\n"
     ]
    },
    {
     "name": "stdout",
     "output_type": "stream",
     "text": [
      "extracting tarball to tmp_2211.17087..."
     ]
    },
    {
     "name": "stdout",
     "output_type": "stream",
     "text": [
      " done.\n",
      "Retrieving document from  https://arxiv.org/e-print/2211.17097\n"
     ]
    },
    {
     "name": "stdout",
     "output_type": "stream",
     "text": [
      "extracting tarball to tmp_2211.17097..."
     ]
    },
    {
     "name": "stdout",
     "output_type": "stream",
     "text": [
      " done.\n"
     ]
    }
   ],
   "source": [
    "documents = []\n",
    "failed = []\n",
    "for paper in tqdm(candidates[:-1]):\n",
    "    paper_id = paper['identifier'].lower().replace('arxiv:', '')\n",
    "    \n",
    "    folder = f'tmp_{paper_id}'\n",
    "\n",
    "    try:\n",
    "        if not os.path.isdir(folder):\n",
    "            folder = retrieve_document_source(f\"{paper_id}\", f'tmp_{paper_id}')\n",
    "        \n",
    "        try:\n",
    "            doc = latex.LatexDocument(folder, validation=validation)    \n",
    "        except AffiliationError as affilerror:\n",
    "            msg = f\"ArXiv:{paper_id:s} is not an MPIA paper... \" + str(affilerror)\n",
    "            failed.append((paper, \"affiliation error: \" + str(affilerror) ))\n",
    "            continue\n",
    "        \n",
    "        # Hack because sometimes author parsing does not work well\n",
    "        if (len(doc.authors) != len(paper['authors'])):\n",
    "            doc._authors = paper['authors']\n",
    "        if (doc.abstract) in (None, ''):\n",
    "            doc._abstract = paper['abstract']\n",
    "            \n",
    "        doc.comment = (get_markdown_badge(paper_id) + \n",
    "                       \"<mark>Appeared on: \" + paper['date'] + \"</mark> - \" +\n",
    "                       \"_\" + paper['comments'] + \"_\")\n",
    "        doc.highlight_authors_in_list(hl_list)\n",
    "\n",
    "        full_md = doc.generate_markdown_text()\n",
    "        \n",
    "        documents.append((paper_id, full_md))\n",
    "    except Exception as e:\n",
    "        warnings.warn(latex.LatexWarning(f\"{paper_id:s} did not run properly\\n\" +\n",
    "                                         str(e)\n",
    "                                        ))\n",
    "        failed.append((paper, \"latex error \" + str(e)))"
   ]
  },
  {
   "cell_type": "markdown",
   "id": "2505a25c",
   "metadata": {
    "papermill": {
     "duration": 0.007092,
     "end_time": "2022-12-01T04:09:58.572093",
     "exception": false,
     "start_time": "2022-12-01T04:09:58.565001",
     "status": "completed"
    },
    "tags": []
   },
   "source": [
    "### Export the logs\n",
    "\n",
    "Throughout, we also keep track of the logs per paper. see `logs-{today date}.md` "
   ]
  },
  {
   "cell_type": "code",
   "execution_count": 6,
   "id": "d733828a",
   "metadata": {
    "execution": {
     "iopub.execute_input": "2022-12-01T04:09:58.587808Z",
     "iopub.status.busy": "2022-12-01T04:09:58.587135Z",
     "iopub.status.idle": "2022-12-01T04:09:58.624818Z",
     "shell.execute_reply": "2022-12-01T04:09:58.624202Z"
    },
    "papermill": {
     "duration": 0.047435,
     "end_time": "2022-12-01T04:09:58.626306",
     "exception": false,
     "start_time": "2022-12-01T04:09:58.578871",
     "status": "completed"
    },
    "scrolled": false,
    "tags": []
   },
   "outputs": [
    {
     "data": {
      "text/markdown": [
       "## Successful papers"
      ],
      "text/plain": [
       "<IPython.core.display.Markdown object>"
      ]
     },
     "metadata": {},
     "output_type": "display_data"
    },
    {
     "data": {
      "text/markdown": [
       "\n",
       "|||\n",
       "|---:|:---|\n",
       "| [![arXiv](https://img.shields.io/badge/arXiv-arXiv:2211.16510-b31b1b.svg)](https://arxiv.org/abs/arXiv:2211.16510) | **First release of PLATO consortium stellar limb-darkening coefficients**  |\n",
       "|| Giuseppe Morello, et al. -- incl., <mark>Maria Bergemann</mark> |\n",
       "|*Appeared on*| *2022-12-01*|\n",
       "|*Comments*| *Published on RNAAS*|\n",
       "|**Abstract**| We release the first grid of stellar limb-darkening coefficients (LDCs) and intensity profiles (IPs) computed by the consortium of the PLAnetary Transits and Oscillations of stars (PLATO), the next medium-class (M3) mission under development by the European Space Agency (ESA) to be launched in 2026. We have performed spectral synthesis with \\texttt{TurboSpectrum} on a grid of \\texttt{MARCS} model atmospheres. Finally, we adopted \\texttt{ExoTETHyS} to convolve the high-resolution spectra ($R=2\\times10^5$) with the state-of-the-art response functions for all the PLATO cameras, and computed the LDCs that best approximate the convolved IPs. In addition to the PLATO products, we provide new LDCs and IPs for the Kepler mission, based on the same grid of stellar atmospheric models and calculation procedures. The data can be downloaded from the following link: \\url{https://doi.org/10.5281/zenodo.7339706}. |"
      ],
      "text/plain": [
       "[arXiv:2211.16510] First release of PLATO consortium stellar limb-darkening coefficients\n",
       "\tGiuseppe Morello, et al. -- incl., <mark>Maria Bergemann</mark>"
      ]
     },
     "metadata": {},
     "output_type": "display_data"
    },
    {
     "data": {
      "text/markdown": [
       "\n",
       "|||\n",
       "|---:|:---|\n",
       "| [![arXiv](https://img.shields.io/badge/arXiv-arXiv:2211.16996-b31b1b.svg)](https://arxiv.org/abs/arXiv:2211.16996) | **High-$z$ Quasar Candidate Archive: A Spectroscopic Catalog of Quasars  and Contaminants in Various Quasar Searches**  |\n",
       "|| Da-Ming Yang, et al. -- incl., <mark>Joseph F. Hennawi</mark> |\n",
       "|*Appeared on*| *2022-12-01*|\n",
       "|*Comments*| *28 pages, 26 figures, 4 tables*|\n",
       "|**Abstract**| We present the high-$z$ quasar candidate archive (HzQCA), summarizing the spectroscopic observations of 174 $z\\gtrsim5$ quasar candidates using Keck/LRIS, Keck/MOSFIRE, and Keck/NIRES. We identify 7 candidates as $z\\sim 6$ quasars 3 of them newly reported here, and 51 candidates as brown dwarfs. In the remaining sources, 74 candidates are unlikely to be quasars; 2 sources are inconclusive; the others could not be fully reduced or extracted. Based on the classifications we investigate the distributions of quasars and contaminants in color space with photometry measurements from DELS ($z$), VIKING/UKIDSS ($YJHK_s$/$YJHK$), and un\\textit{WISE} ($W1W2$). We find that the identified brown dwarfs are not fully consistent with the empirical brown dwarf model that is commonly used in quasar candidate selection methods. To refine spectroscopic confirmation strategies, we simulate synthetic spectroscopy of high-$z$ quasars and contaminants for all three instruments. The simulations utilize the spectroscopic data in HzQCA. We predict the required exposure times for quasar confirmation and propose and optimal strategy for spectroscopic follow-up observations. For example, we demonstrate that we can identify a $m_J=21.5$ at $z=7.6$ or a $m_J=23.0$ at $z=7.0$ within 15\\,min of exposure time with LRIS. With the publication of the HzQCA we aim to provide guidance for future quasar surveys and candidate classification. |"
      ],
      "text/plain": [
       "[arXiv:2211.16996] High-$z$ Quasar Candidate Archive: A Spectroscopic Catalog of Quasars  and Contaminants in Various Quasar Searches\n",
       "\tDa-Ming Yang, et al. -- incl., <mark>Joseph F. Hennawi</mark>"
      ]
     },
     "metadata": {},
     "output_type": "display_data"
    },
    {
     "data": {
      "text/markdown": [
       "## Failed papers"
      ],
      "text/plain": [
       "<IPython.core.display.Markdown object>"
      ]
     },
     "metadata": {},
     "output_type": "display_data"
    },
    {
     "data": {
      "text/markdown": [
       "\n",
       "|||\n",
       "|---:|:---|\n",
       "| [![arXiv](https://img.shields.io/badge/arXiv-arXiv:2211.16516-b31b1b.svg)](https://arxiv.org/abs/arXiv:2211.16516) | **Weak Lensing Tomographic Redshift Distribution Inference for the Hyper  Suprime-Cam Subaru Strategic Program three-year shape catalogue**  |\n",
       "|| Markus Michael Rau, et al. -- incl., <mark>Tianqing Zhang</mark>, <mark>Xiangchong Li</mark> |\n",
       "|*Appeared on*| *2022-12-01*|\n",
       "|*Comments*| *23 pages, 11 figures, 1 table, submitted to the MNRAS; comments welcome*|\n",
       "|**Abstract**| We present posterior sample redshift distributions for the Hyper Suprime-Cam Subaru Strategic Program Weak Lensing three-year (HSC Y3) analysis. Using the galaxies' photometry and spatial cross-correlations, we conduct a combined Bayesian Hierarchical Inference of the sample redshift distributions. The spatial cross-correlations are derived using a subsample of Luminous Red Galaxies (LRGs) with accurate redshift information available up to a photometric redshift of $z < 1.2$. We derive the photometry-based constraints using a combination of two empirical techniques calibrated on spectroscopic- and multiband photometric data that covers a spatial subset of the shear catalog. The limited spatial coverage induces a cosmic variance error budget that we include in the inference. Our cross-correlation analysis models the photometric redshift error of the LRGs to correct for systematic biases and statistical uncertainties. We demonstrate consistency between the sample redshift distributions derived using the spatial cross-correlations, the photometry, and the posterior of the combined analysis. Based on this assessment, we recommend conservative priors for sample redshift distributions of tomographic bins used in the three-year cosmological Weak Lensing analyses. |\n",
       "|<p style=\"color:green\"> **ERROR** </p>| <p style=\"color:green\">affiliation error: mpia.affiliation_verifications: '69117' keyword not found.</p> |"
      ],
      "text/plain": [
       "<IPython.core.display.Markdown object>"
      ]
     },
     "metadata": {},
     "output_type": "display_data"
    },
    {
     "data": {
      "text/markdown": [
       "\n",
       "|||\n",
       "|---:|:---|\n",
       "| [![arXiv](https://img.shields.io/badge/arXiv-arXiv:2211.16537-b31b1b.svg)](https://arxiv.org/abs/arXiv:2211.16537) | **The Birth of a Relativistic Jet Following the Disruption of a Star by a  Cosmological Black Hole**  |\n",
       "|| Dheeraj R. Pasham, et al. -- incl., <mark>Graham P. Smith</mark>, <mark>Muryel Guolo</mark>, <mark>Joseph P. Anderson</mark>, <mark>M Huber</mark>, <mark>Chien-Cheng Lin</mark> |\n",
       "|*Appeared on*| *2022-12-01*|\n",
       "|*Comments*| *To appear in Nature Astronomy on 30th November 2022. Also see here for an animation explaining the result: this https URL*|\n",
       "|**Abstract**| A black hole can launch a powerful relativistic jet after it tidally disrupts a star. If this jet fortuitously aligns with our line of sight, the overall brightness is Doppler boosted by several orders of magnitude. Consequently, such on-axis relativistic tidal disruption events (TDEs) have the potential to unveil cosmological (redshift $z>$1) quiescent black holes and are ideal test beds to understand the radiative mechanisms operating in super-Eddington jets. Here, we present multi-wavelength (X-ray, UV, optical, and radio) observations of the optically discovered transient \\target at $z=1.193$. Its unusual X-ray properties, including a peak observed luminosity of $\\gtrsim$10$^{48}$ erg s$^{-1}$, systematic variability on timescales as short as 1000 seconds, and overall duration lasting more than 30 days in the rest-frame are traits associated with relativistic TDEs. The X-ray to radio spectral energy distributions spanning 5-50 days after discovery can be explained as synchrotron emission from a relativistic jet (radio), synchrotron self-Compton (X-rays), and thermal emission similar to that seen in low-redshift TDEs (UV/optical). Our modeling implies a beamed, highly relativistic jet akin to blazars but requires extreme matter-domination, i.e, high ratio of electron-to-magnetic field energy densities in the jet, and challenges our theoretical understanding of jets. |\n",
       "|<p style=\"color:green\"> **ERROR** </p>| <p style=\"color:green\">affiliation error: mpia.affiliation_verifications: '69117' keyword not found.</p> |"
      ],
      "text/plain": [
       "<IPython.core.display.Markdown object>"
      ]
     },
     "metadata": {},
     "output_type": "display_data"
    },
    {
     "data": {
      "text/markdown": [
       "\n",
       "|||\n",
       "|---:|:---|\n",
       "| [![arXiv](https://img.shields.io/badge/arXiv-arXiv:2211.16833-b31b1b.svg)](https://arxiv.org/abs/arXiv:2211.16833) | **The Radial Profile of Dust Grain Size in the Protoplanetary Disk of DS  Tau**  |\n",
       "|| <mark>Dafa Li</mark>, et al. -- incl., <mark>Yao Liu</mark> |\n",
       "|*Appeared on*| *2022-12-01*|\n",
       "|*Comments*| *10 pages, 8 figures, accepted for publication in MNRAS*|\n",
       "|**Abstract**| How do dust grains in protoplanetary disks overcome rapid radial drift and grow from micron size particles to planets is not well understood. The key is to search for evidence of dust accumulation and growth as a function of radius in the disk. We investigate the radial profile of grain size in the DS Tau disk by fitting multi-band ALMA observations with self-consistent radiative transfer models. The best-fit grain sizes range from centimeters in the inner disk down to 30 micron in the outer regions. Such an inside-out decreasing tendency is consistent with theories of dust evolution. Based on the best-fit model, we find that dust of 2 Jupiter masses has been depleted within the gap. By taking the gas-to-dust mass ratio into account, the lost mass is enough to form the 3.5 Jupiter mass planet inferred by literature hydrodynamic simulations. Moreover, our modeling also indicates that at the interface region between the gap and the ring, the grain size profile shows a discontinuity, with its amplitude dependent on the dust model adopted in the radiative transfer analysis. Future multi-wavelength observations at higher angular resolutions are required to better constrain the grain size and its variation in the vicinity of disk substructures. |\n",
       "|<p style=\"color:green\"> **ERROR** </p>| <p style=\"color:green\">affiliation error: mpia.affiliation_verifications: '69117' keyword not found.</p> |"
      ],
      "text/plain": [
       "<IPython.core.display.Markdown object>"
      ]
     },
     "metadata": {},
     "output_type": "display_data"
    },
    {
     "data": {
      "text/markdown": [
       "\n",
       "|||\n",
       "|---:|:---|\n",
       "| [![arXiv](https://img.shields.io/badge/arXiv-arXiv:2211.16521-b31b1b.svg)](https://arxiv.org/abs/arXiv:2211.16521) | **VERTICO III: The Kennicutt-Schmidt relation in Virgo cluster galaxies**  |\n",
       "|| M. J. Jiménez-Donaire, et al. -- incl., <mark>T. Brown</mark>, <mark>B. Lee</mark> |\n",
       "|*Appeared on*| *2022-12-01*|\n",
       "|*Comments*| *Accepted for publication in Astronomy & Astrophysics*|\n",
       "|**Abstract**| In this VERTICO science paper we aim to study how the star formation process depends on galactic environment and gravitational interactions in the context of galaxy evolution. We explore the scaling relation between the star formation rate (SFR) surface density and the molecular gas surface density, also known as the Kennicutt-Schmidt (KS) relation, in a subsample of Virgo cluster spiral galaxies. We use new ACA and TP observations from the VERTICO-ALMA Large Program at 720pc resolution to resolve the molecular gas content, as traced by the 12CO(2-1) transition, across the disks of 37 spiral galaxies in the Virgo cluster. In combination with archival observations, we estimate the parameters of the KS relation for the entire ensemble of galaxies, and within individual galaxies. We find the KS slope for the entire population to be N=0.97+/-0.07, with a characteristic molecular gas depletion time of 1.86Gyr for our full sample, in agreement with previous work in isolated star-forming galaxies. In individual galaxies, we find KS slopes ranging between 0.69 and 1.40, and typical star formation efficiencies (SFE) that can vary from galaxy to galaxy by a factor of ~4. These galaxy-to-galaxy variations account for ~0.20dex in scatter in the ensemble KS relation, which is characterized by a 0.42dex scatter. We find that the HI-deficient galaxies in the Virgo cluster show a steeper resolved KS relation and lower molecular gas efficiencies than HI-normal cluster galaxies. While the molecular gas content in Virgo cluster galaxies appears to behave similarly to that in isolated galaxies, our VERTICO sample shows that cluster environments play a key role in regulating star formation. The environmental mechanisms affecting the HI galaxy content also have a direct impact in the SFE of molecular gas in cluster galaxies, leading to longer depletion times in HI-deficient members. |\n",
       "|<p style=\"color:green\"> **ERROR** </p>| <p style=\"color:green\">affiliation error: mpia.affiliation_verifications: 'Heidelberg' keyword not found.</p> |"
      ],
      "text/plain": [
       "<IPython.core.display.Markdown object>"
      ]
     },
     "metadata": {},
     "output_type": "display_data"
    },
    {
     "data": {
      "text/markdown": [
       "\n",
       "|||\n",
       "|---:|:---|\n",
       "| [![arXiv](https://img.shields.io/badge/arXiv-arXiv:2211.16524-b31b1b.svg)](https://arxiv.org/abs/arXiv:2211.16524) | **Dissecting the interstellar medium of a z=6.3 galaxy: X-shooter  spectroscopy and HST imaging of the afterglow and environment of the Swift  GRB 210905A**  |\n",
       "|| A. Saccardi, et al. -- incl., <mark>K. E. Heintz</mark> |\n",
       "|*Appeared on*| *2022-12-01*|\n",
       "|*Comments*| *Accepted Publication on A&A - 22 pages, 10 figures, 6 tables - Appendix: 5 figures, 3 tables*|\n",
       "|**Abstract**| The study of the properties of galaxies in the first billion years after the Big Bang is one of the major topic of current astrophysics. Optical/near-infrared spectroscopy of the afterglows of long Gamma-ray bursts (GRBs) provide a powerful diagnostic tool to probe the interstellar medium (ISM) of their host galaxies and foreground absorbers, even up to the highest redshifts. We analyze the VLT/X-shooter afterglow spectrum of GRB 210905A, triggered by the Swift Neil Gehrels Observatory, and detect neutral-hydrogen, low-ionization, high-ionization, and fine-structure absorption lines from a complex system at z=6.3118, that we associate with the GRB host galaxy. We study the ISM properties of the host system, revealing the metallicity, kinematics and chemical abundance pattern. The total metallicity of the z~6.3 system is [M/H]=-1.75+/-0.13, after correcting for dust-depletion and taking into account alpha-element enhancement. In addition, we determine the overall amount of dust and dust-to-metal mass ratio (DTM) ([Zn/Fe]_fit=0.32+/-0.09, DTM=0.12+/-0.11). We find indications of nucleosynthesis due to massive stars and evidence of peculiar over-abundance of aluminium. From the analysis of fine-structure lines, we determine distances of several kpc for the low-ionization gas clouds closest to the GRB. Those farther distances are possibly due to the high number of ionizing photons. Using the HST/F140W image of the GRB field, we show the GRB host galaxy as well as multiple objects within 2\" from the GRB. We discuss the galaxy structure and kinematics that could explain our observations, also taking into account a tentative detection of Lyman-alpha emission. Deep spectroscopic observations with VLT/MUSE and JWST will offer the unique possibility of combining our results with the ionized-gas properties, with the goal of better understanding how galaxies in the reionization era form and evolve. |\n",
       "|<p style=\"color:green\"> **ERROR** </p>| <p style=\"color:green\">affiliation error: mpia.affiliation_verifications: 'Heidelberg' keyword not found.</p> |"
      ],
      "text/plain": [
       "<IPython.core.display.Markdown object>"
      ]
     },
     "metadata": {},
     "output_type": "display_data"
    },
    {
     "data": {
      "text/markdown": [
       "\n",
       "|||\n",
       "|---:|:---|\n",
       "| [![arXiv](https://img.shields.io/badge/arXiv-arXiv:2211.16530-b31b1b.svg)](https://arxiv.org/abs/arXiv:2211.16530) | **A very luminous jet from the disruption of a star by a massive black  hole**  |\n",
       "|| Igor Andreoni, et al. -- incl., <mark>Eric Burns</mark> |\n",
       "|*Appeared on*| *2022-12-01*|\n",
       "|*Comments*| *Accepted for publication in Nature*|\n",
       "|**Abstract**| Tidal disruption events (TDEs) are bursts of electromagnetic energy released when supermassive black holes (SMBHs) at the centers of galaxies violently disrupt a star that passes too close. TDEs provide a new window to study accretion onto SMBHs; in some rare cases, this accretion leads to launching of a relativistic jet, but the necessary conditions are not fully understood. The best studied jetted TDE to date is Swift J1644+57, which was discovered in gamma-rays, but was too obscured by dust to be seen at optical wavelengths. Here we report the optical discovery of AT2022cmc, a rapidly fading source at cosmological distance (redshift z=1.19325) whose unique lightcurve transitioned into a luminous plateau within days. Observations of a bright counterpart at other wavelengths, including X-rays, sub-millimeter, and radio, supports the interpretation of AT2022cmc as a jetted TDE containing a synchrotron \"afterglow\", likely launched by a SMBH with spin $a \\gtrsim 0.3$. Using 4 years of Zwicky Transient Facility (ZTF) survey data, we calculate a rate of $0.02 ^{+ 0.04 }_{- 0.01 }$ Gpc$^{-3}$ yr$^{-1}$ for on-axis jetted TDEs based on the luminous, fast-fading red component, thus providing a measurement complementary to the rates derived from X-ray and radio observations. Correcting for the beaming angle effects, this rate confirms that about 1% of TDEs have relativistic jets. Optical surveys can use AT2022cmc as a prototype to unveil a population of jetted TDEs. |\n",
       "|<p style=\"color:green\"> **ERROR** </p>| <p style=\"color:green\">affiliation error: mpia.affiliation_verifications: 'Heidelberg' keyword not found.</p> |"
      ],
      "text/plain": [
       "<IPython.core.display.Markdown object>"
      ]
     },
     "metadata": {},
     "output_type": "display_data"
    },
    {
     "data": {
      "text/markdown": [
       "\n",
       "|||\n",
       "|---:|:---|\n",
       "| [![arXiv](https://img.shields.io/badge/arXiv-arXiv:2211.16532-b31b1b.svg)](https://arxiv.org/abs/arXiv:2211.16532) | **Merger Signatures are Common, but not Universal, In Massive,  Recently-Quenched Galaxies at z~0.7**  |\n",
       "|| Margaret Verrico, et al. -- incl., <mark>Jenny E. Greene</mark>, <mark>Andy D. Goulding</mark> |\n",
       "|*Appeared on*| *2022-12-01*|\n",
       "|*Comments*| *13 pages, 8 figures, submitted to ApJ*|\n",
       "|**Abstract**| We present visual classifications of merger-induced tidal disturbances in 143 $\\rm{M}_* \\sim 10^{11}\\rm{M}_\\odot$ post-starburst galaxies at z$\\sim$0.7 identified in the SQuIGG$\\vec{L}$E Sample. This sample spectroscopically selects galaxies from the Sloan Digital Sky Survey that have stopped their primary epoch of star formation within the past $\\sim$500 Myrs. Visual classifications are performed on Hyper Suprime Cam (HSC) i-band imaging. We compare to a control sample of mass- and redshift-matched star-forming and quiescent galaxies from the Large Early Galaxy Census and find that post-starburst galaxies are more likely to be classified as disturbed than either category. This corresponds to a factor of $3.6^{+2.9}_{-1.3}$ times the disturbance rate of older quiescent galaxies and $2.1^{+1.9}_{-.73}$ times the disturbance rate of star-forming galaxies. Assuming tidal features persist for $\\lesssim500$ Myr, this suggests merging is coincident with quenching in a significant fraction of these post-starbursts. Galaxies with tidal disturbances are younger on average than undisturbed post-starburst galaxies in our sample, suggesting tidal features from a major merger may have faded over time. This may be exacerbated by the fact that, on average, the undisturbed subset is fainter, rendering low surface brightness tidal features harder to identify. However, the presence of ten young ($\\lesssim150$ Myr since quenching) undisturbed galaxies suggests that major mergers are not the only fast physical mechanism that shut down the primary epoch of star formation in massive galaxies at intermediate redshift. |\n",
       "|<p style=\"color:green\"> **ERROR** </p>| <p style=\"color:green\">affiliation error: mpia.affiliation_verifications: 'Heidelberg' keyword not found.</p> |"
      ],
      "text/plain": [
       "<IPython.core.display.Markdown object>"
      ]
     },
     "metadata": {},
     "output_type": "display_data"
    },
    {
     "data": {
      "text/markdown": [
       "\n",
       "|||\n",
       "|---:|:---|\n",
       "| [![arXiv](https://img.shields.io/badge/arXiv-arXiv:2211.16547-b31b1b.svg)](https://arxiv.org/abs/arXiv:2211.16547) | **The Second Radio Synchrotron Background Workshop: Conference Summary and  Report**  |\n",
       "|| J. Singal, et al. -- incl., <mark>S. Heston</mark>, <mark>M.G.H. Krause</mark> |\n",
       "|*Appeared on*| *2022-12-01*|\n",
       "|*Comments*| *34 pages, 19 figures, submitted*|\n",
       "|**Abstract**| We summarize the second radio synchrotron background workshop, which took place June 15-17, 2022 in Barolo, Italy. This meeting was convened because available measurements of the diffuse radio zero level continue to suggest that it is several times higher than can be attributed to known Galactic and extragalactic sources and processes, rendering it the least well understood electromagnetic background at present and a major outstanding question in astrophysics. The workshop agreed on the next priorities for investigations of this phenomenon, which include searching for evidence of the Radio Sunyaev-Zeldovich effect, carrying out cross-correlation analyses of radio emission with other tracers, and supporting the completion of the 310 MHz absolutely calibrated sky map project. |\n",
       "|<p style=\"color:green\"> **ERROR** </p>| <p style=\"color:green\">affiliation error: mpia.affiliation_verifications: 'Heidelberg' keyword not found.</p> |"
      ],
      "text/plain": [
       "<IPython.core.display.Markdown object>"
      ]
     },
     "metadata": {},
     "output_type": "display_data"
    },
    {
     "data": {
      "text/markdown": [
       "\n",
       "|||\n",
       "|---:|:---|\n",
       "| [![arXiv](https://img.shields.io/badge/arXiv-arXiv:2211.16593-b31b1b.svg)](https://arxiv.org/abs/arXiv:2211.16593) | **The Dark Energy Survey Year 3 high redshift sample: Selection,  characterization and analysis of galaxy clustering**  |\n",
       "|| C. Sánchez, et al. -- incl., <mark>I. Harrison</mark>, <mark>E. Krause</mark>, <mark>Y. Zhang</mark> |\n",
       "|*Appeared on*| *2022-12-01*|\n",
       "|*Comments*| *28 pages, 25 figures. To be submitted to MNRAS*|\n",
       "|**Abstract**| The fiducial cosmological analyses of imaging galaxy surveys like the Dark Energy Survey (DES) typically probe the Universe at redshifts $z < 1$. This is mainly because of the limited depth of these surveys, and also because such analyses rely heavily on galaxy lensing, which is more efficient at low redshifts. In this work we present the selection and characterization of high-redshift galaxy samples using DES Year 3 data, and the analysis of their galaxy clustering measurements. In particular, we use galaxies that are fainter than those used in the previous DES Year 3 analyses and a Bayesian redshift scheme to define three tomographic bins with mean redshifts around $z \\sim 0.9$, $1.2$ and $1.5$, which significantly extend the redshift coverage of the fiducial DES Year 3 analysis. These samples contain a total of about 9 million galaxies, and their galaxy density is more than 2 times higher than those in the DES Year 3 fiducial case. We characterize the redshift uncertainties of the samples, including the usage of various spectroscopic and high-quality redshift samples, and we develop a machine-learning method to correct for correlations between galaxy density and survey observing conditions. The analysis of galaxy clustering measurements, with a total signal-to-noise $S/N \\sim 70$ after scale cuts, yields robust cosmological constraints on a combination of the fraction of matter in the Universe $\\Omega_m$ and the Hubble parameter $h$, $\\Omega_m = 0.195^{+0.023}_{-0.018}$, and 2-3% measurements of the amplitude of the galaxy clustering signals, probing galaxy bias and the amplitude of matter fluctuations, $b \\sigma_8$. A companion paper $\\textit{(in preparation)}$ will present the cross-correlations of these high-$z$ samples with CMB lensing from Planck and SPT, and the cosmological analysis of those measurements in combination with the galaxy clustering presented in this work. |\n",
       "|<p style=\"color:green\"> **ERROR** </p>| <p style=\"color:green\">affiliation error: mpia.affiliation_verifications: 'Heidelberg' keyword not found.</p> |"
      ],
      "text/plain": [
       "<IPython.core.display.Markdown object>"
      ]
     },
     "metadata": {},
     "output_type": "display_data"
    },
    {
     "data": {
      "text/markdown": [
       "\n",
       "|||\n",
       "|---:|:---|\n",
       "| [![arXiv](https://img.shields.io/badge/arXiv-arXiv:2211.16635-b31b1b.svg)](https://arxiv.org/abs/arXiv:2211.16635) | **SPICE PSF Correction: General Framework and Capability Demonstration**  |\n",
       "|| <mark>Joseph E. Plowman</mark>, et al. |\n",
       "|*Appeared on*| *2022-12-01*|\n",
       "|*Comments*| *27 pages, 14 figures. Submitted to Astronomy & Astrophysics special issue*|\n",
       "|**Abstract**| We present a new method of removing PSF artifacts and improving the resolution of multidimensional data sources including imagers and spectrographs. Rather than deconvolution, which is translationally invariant, this method is based on sparse matrix solvers. This allows it to be applied to spatially varying PSFs and also to combining observations from instruments with radically different spatial, spectral, or thermal response functions (e.g., SDO/AIA and RHESSI). It was developed to correct PSF artifacts in Solar Orbiter SPICE, so the motivation, presentation of the method, and the results revolve around that application. However, it can also be used as a more robust (e.g., WRT a varying PSFs) alternative to deconvolution of 2D image data and similar problems, and is relevant to more general linear inversion problems. |\n",
       "|<p style=\"color:green\"> **ERROR** </p>| <p style=\"color:green\">affiliation error: mpia.affiliation_verifications: 'Heidelberg' keyword not found.</p> |"
      ],
      "text/plain": [
       "<IPython.core.display.Markdown object>"
      ]
     },
     "metadata": {},
     "output_type": "display_data"
    },
    {
     "data": {
      "text/markdown": [
       "\n",
       "|||\n",
       "|---:|:---|\n",
       "| [![arXiv](https://img.shields.io/badge/arXiv-arXiv:2211.16659-b31b1b.svg)](https://arxiv.org/abs/arXiv:2211.16659) | **Dynamics in the outskirts of four Milky Way globular clusters: it's the  tides that dominate**  |\n",
       "|| Zhen Wan, et al. -- incl., <mark>Geraint F. Lewis</mark> |\n",
       "|*Appeared on*| *2022-12-01*|\n",
       "|*Comments*| *17 pages, 10 figures. Accepted by MNRAS. Comments are welcome*|\n",
       "|**Abstract**| We present the results of a spectroscopic survey of the outskirts of 4 globular clusters -- NGC 1261, NGC 4590, NGC 1904, and NGC 1851 -- covering targets within 1 degree from the cluster centres, with 2dF/AAOmega on the Anglo-Australian Telescope (AAT) and FLAMES on the Very Large Telescope (VLT). We extracted chemo-dynamical information for individual stars, from which we estimated the velocity dispersion profile and the rotation of each cluster. The observations are compared to direct $N$-body simulations and appropriate {\\sc limepy}/{\\sc spes} models for each cluster to interpret the results. In NGC 1851, the detected internal rotation agrees with existing literature, and NGC 1261 shows some rotation signal beyond the truncation radius, likely coming from the escaped stars. We find that the dispersion profiles for both the observations and the simulations for NGC 1261, NGC 1851, and NGC 1904 do not decrease as the {\\sc limepy}/{\\sc spes} models predict beyond the truncation radius, where the $N$-body simulations show that escaped stars dominate; the dispersion profile of NGC 4590 follows the predictions of the {\\sc limepy}/{\\sc spes} models, though the data do not effectively extend beyond the truncation radius. The increasing/flat dispersion profiles in the outskirts of NGC 1261, NGC 1851 and NGC 1904, are reproduced by the simulations. Hence, the increasing/flat dispersion profiles of the clusters in question can be explained by the tidal interaction with the Galaxy without introducing dark matter. |\n",
       "|<p style=\"color:green\"> **ERROR** </p>| <p style=\"color:green\">affiliation error: mpia.affiliation_verifications: 'Heidelberg' keyword not found.</p> |"
      ],
      "text/plain": [
       "<IPython.core.display.Markdown object>"
      ]
     },
     "metadata": {},
     "output_type": "display_data"
    },
    {
     "data": {
      "text/markdown": [
       "\n",
       "|||\n",
       "|---:|:---|\n",
       "| [![arXiv](https://img.shields.io/badge/arXiv-arXiv:2211.16679-b31b1b.svg)](https://arxiv.org/abs/arXiv:2211.16679) | **Trace the Accretion Geometry of H 1743--322 with Type C Quasi-periodic  Oscillations in Multiple Outbursts**  |\n",
       "|| Qing-Cang Shui, et al. -- incl., <mark>Shu Zhang</mark>, <mark>Shuang-Nan Zhang</mark>, <mark>Ling-Da Kong</mark>, <mark>Jian Li</mark>, <mark>Peng Zhang</mark> |\n",
       "|*Appeared on*| *2022-12-01*|\n",
       "|*Comments*| *21 pages, 12 figures*|\n",
       "|**Abstract**| We present a systematic analysis of type C quasi-periodic oscillation (QPO) observations of H 1743--322 throughout the Rossi X-ray Timing Explorer (RXTE) era. We find that, while different outbursts have significant flux differences, they show consistent positive correlations between the QPO fractional root-mean-square (rms) amplitude and non-thermal fraction of the emission, which indicate an independence of the intrinsic QPO rms on individual outburst brightness in H 1743--322. However, the dependence of the QPO rms on frequency is different between the outburst rise and decay phases, where QPO fractional rms of the decay phase is significantly lower than that of the rise phase at low frequencies. The spectral analysis also reveals different ranges of coronal temperature between the two outburst stages. A semi-quantitative analysis shows that the Lense-Thirring precession model could be responsible for the QPO rms differences, requiring a variable coronal geometric shape. However, the variable-Comptonization model could also account for the findings. The fact that the rms differences and the hysteresis traces in the hardness-intensity diagram (HID) accompany each other indicates a connection between the two phenomena. By correlating the findings with QPO phase lags and the quasi-simultaneous radio flux previously published, we propose there could be corona-jet transitions in H 1743--322 similar to those that have been recently reported in GRS 1915+105. |\n",
       "|<p style=\"color:green\"> **ERROR** </p>| <p style=\"color:green\">affiliation error: mpia.affiliation_verifications: 'Heidelberg' keyword not found.</p> |"
      ],
      "text/plain": [
       "<IPython.core.display.Markdown object>"
      ]
     },
     "metadata": {},
     "output_type": "display_data"
    },
    {
     "data": {
      "text/markdown": [
       "\n",
       "|||\n",
       "|---:|:---|\n",
       "| [![arXiv](https://img.shields.io/badge/arXiv-arXiv:2211.16727-b31b1b.svg)](https://arxiv.org/abs/arXiv:2211.16727) | **JWST NIRCam Defocused Imaging: Photometric Stability Performance and How  it Can Sense Mirror Tilts**  |\n",
       "|| Everett Schlawin, et al. -- incl., <mark>Thomas P. Greene</mark>, <mark>Lee D. Feinberg</mark> |\n",
       "|*Appeared on*| *2022-12-01*|\n",
       "|*Comments*| *PASP, Accepted for Publication*|\n",
       "|**Abstract**| We use JWST NIRCam short wavelength photometry to capture a transit lightcurve of the exoplanet HAT-P-14 b to assess performance as part of instrument commissioning. The short wavelength precision is 152 ppm per 27 second integration as measured over the full time series compared to a theoretical limit of 107 ppm, after corrections to spatially correlated 1/f noise. Persistence effects from charge trapping are well fit by an exponential function with short characteristic timescales, settling on the order of 5-15 minutes. The short wavelength defocused photometry is also uniquely well suited to measure the realtime wavefront error of JWST. Analysis of the images and reconstructed wavefront maps indicate that two different hexagonal primary mirror segments exhibited \"tilt events\" where they changed orientation rapidly in less than ~1.4 seconds. In some cases, the magnitude and timing of the flux jumps caused by tilt events can be accurately predicted with a telescope model. These tilt events can be sensed by simultaneous longer-wavelength NIRCam grism spectral images alone in the form of changes to the point spread function, diagnosed from the FWHM. They can also be sensed with the FGS instrument from difference images. Tilt events possibly from sudden releases of stress in the backplane structure behind the mirrors were expected during the commissioning period because they were found in ground-based testing. Tilt events have shown signs of decreasing in frequency but have not disappeared completely. The detectors exhibit some minor (less than 1%) deviations from linear behavior in the first few groups of each integration, potentially impacting absolute fluxes and transit depths on bright targets where only a handful of groups are possible. Overall, the noise is within 50% of the theoretical photon noise and read noise. This bodes well for high precision time series measurements. |\n",
       "|<p style=\"color:green\"> **ERROR** </p>| <p style=\"color:green\">affiliation error: mpia.affiliation_verifications: 'Heidelberg' keyword not found.</p> |"
      ],
      "text/plain": [
       "<IPython.core.display.Markdown object>"
      ]
     },
     "metadata": {},
     "output_type": "display_data"
    },
    {
     "data": {
      "text/markdown": [
       "\n",
       "|||\n",
       "|---:|:---|\n",
       "| [![arXiv](https://img.shields.io/badge/arXiv-arXiv:2211.16782-b31b1b.svg)](https://arxiv.org/abs/arXiv:2211.16782) | **Panel Discussion: Practical Problem Solving for Machine Learning**  |\n",
       "|| Guillermo Cabrera, et al. -- incl., <mark>Lilianne Nakazono</mark> |\n",
       "|*Appeared on*| *2022-12-01*|\n",
       "|*Comments*| *6 pages. Prepared for the proceedings of the International Astronomical Union Symposium 368 \"Machine Learning in Astronomy: Possibilities and Pitfalls\"*|\n",
       "|**Abstract**| Machine Learning is a powerful tool for astrophysicists, which has already had significant uptake in the community. But there remain some barriers to entry, relating to proper understanding, the difficulty of interpretability, and the lack of cohesive training. In this discussion session we addressed some of these questions, and suggest how the field may move forward. |\n",
       "|<p style=\"color:green\"> **ERROR** </p>| <p style=\"color:green\">affiliation error: mpia.affiliation_verifications: 'Heidelberg' keyword not found.</p> |"
      ],
      "text/plain": [
       "<IPython.core.display.Markdown object>"
      ]
     },
     "metadata": {},
     "output_type": "display_data"
    },
    {
     "data": {
      "text/markdown": [
       "\n",
       "|||\n",
       "|---:|:---|\n",
       "| [![arXiv](https://img.shields.io/badge/arXiv-arXiv:2211.16794-b31b1b.svg)](https://arxiv.org/abs/arXiv:2211.16794) | **RSD measurements from BOSS galaxy power spectrum using the halo  perturbation theory model**  |\n",
       "|| Byeonghee Yu, Uros Seljak, <mark>Yin Li</mark>, Sukhdeep Singh |\n",
       "|*Appeared on*| *2022-12-01*|\n",
       "|*Comments*| *21 pages, 13 figures*|\n",
       "|**Abstract**| We present growth of structure constraints from the cosmological analysis of the power spectrum multipoles of SDSS-III BOSS DR12 galaxies. We use the galaxy power spectrum model of Hand et al. (2017), which decomposes the galaxies into halo mass bins, each of which is modeled separately using the relations between halo biases and halo mass. The model combines Eulerian perturbation theory and halo model calibrated on $N$-body simulations to model the halo clustering. In this work, we also generate the covariance matrix by combining the analytic disconnected part with the empirical connected part: we smooth the connected component by selecting a few principal components and show that it achieves good agreement with the mock covariance. We find tight constraints on $f\\sigma_8$: $f\\sigma_8(z_{\\mathrm{eff}}=0.38)=0.489 \\pm 0.036$ and $f\\sigma_8(z_{\\mathrm{eff}}=0.61)=0.455 \\pm 0.026$ at $k_{\\mathrm{max}} = 0.2\\ h$Mpc$^{-1}$, in good agreement with Planck amplitude. This corresponds to $S_8 = 0.821 \\pm 0.037$ or an overall amplitude error of 4%, within 0.3 sigma of Planck's $S_8 = 0.832 \\pm 0.013$. We discuss the sensitivity of cosmological parameter estimation to the choice of scale cuts, covariance matrix, and the inclusion of hexadecapole $P_4(k)$. We show that with $k_{\\mathrm{max}} = 0.4\\ h$Mpc$^{-1}$ the constraints improve considerably to an overall 2.7% amplitude error (with $S_8 = 0.786 \\pm 0.021$), but there is some evidence of model misspecification on MultiDark-PATCHY mocks. Choosing $k_{\\mathrm{max}}$ consistently and reliably remains the main challenge of RSD analysis methods. |\n",
       "|<p style=\"color:green\"> **ERROR** </p>| <p style=\"color:green\">affiliation error: mpia.affiliation_verifications: 'Heidelberg' keyword not found.</p> |"
      ],
      "text/plain": [
       "<IPython.core.display.Markdown object>"
      ]
     },
     "metadata": {},
     "output_type": "display_data"
    },
    {
     "data": {
      "text/markdown": [
       "\n",
       "|||\n",
       "|---:|:---|\n",
       "| [![arXiv](https://img.shields.io/badge/arXiv-arXiv:2211.16923-b31b1b.svg)](https://arxiv.org/abs/arXiv:2211.16923) | **The AstroSat UV Deep Field North: the far and near ultraviolet  photometric catalog**  |\n",
       "|| Chayan Mondal, et al. -- incl., <mark>Brent M. Smith</mark> |\n",
       "|*Appeared on*| *2022-12-01*|\n",
       "|*Comments*| *Accepted for publication in the Astrophysical Journal Supplement Series*|\n",
       "|**Abstract**| We present deep UV imaging observations of the Great Observatories Origins Survey Northern (GOODS-N) field with AstroSat/UVIT (AstroSat UV Deep Field north - AUDFn), using one far-UV (F154W, 34.0 kilosec) and two near-UV filters (N242W, 19.2 kilosec; N245M, 15.5 kilosec). The nature of the UV sky background was explored across the UVIT field and a global mean and rms was estimated for each filter. We reach 3$\\sigma$ detection limits of $m_{\\rm AB}$ $\\sim$ 27.35 mag, 27.28 mag and 27.02 mag for a point source in the F154W, N242W and N245M bands respectively. The 50\\% completeness limits of the FUV and NUV images are $m_{\\rm AB}=$ 26.40 mag and 27.05 mag respectively. We constructed PSFs for each band and estimated their FWHM, which were found to be almost the same: 1.18\" in F154W, 1.11\" in N242W, and 1.24\" in N245M. We used SExtractor to separately identify sources in the FUV and NUV filters and produce the UV source catalog of the entire AUDFn field. The source count slope estimated in FUV and NUV is 0.57 dex mag$^{-1}$ (between 19 - 25 mag) and 0.44 dex mag$^{-1}$ (between 18 - 25 mag), respectively. The catalog contains 6839 and 16171 sources (brighter than the 50\\% completeness limit) in the FUV and NUV, respectively. Our FUV and NUV flux measurements of the identified sources complement existing multi-band data in the GOODS-N field, and enable us to probe rest-frame FUV properties of galaxies at redshift $z < 1$ and search for candidate Lyman continuum leakers at redshift $z > 0.97$. |\n",
       "|<p style=\"color:green\"> **ERROR** </p>| <p style=\"color:green\">affiliation error: mpia.affiliation_verifications: 'Heidelberg' keyword not found.</p> |"
      ],
      "text/plain": [
       "<IPython.core.display.Markdown object>"
      ]
     },
     "metadata": {},
     "output_type": "display_data"
    },
    {
     "data": {
      "text/markdown": [
       "\n",
       "|||\n",
       "|---:|:---|\n",
       "| [![arXiv](https://img.shields.io/badge/arXiv-arXiv:2211.17035-b31b1b.svg)](https://arxiv.org/abs/arXiv:2211.17035) | **Radial velocity confirmation of a hot super-Neptune discovered by TESS  with a warm Saturn-mass companion**  |\n",
       "|| E. Knudstrup, et al. -- incl., <mark>J. Livingston</mark>, <mark>D. Huber</mark>, <mark>A. M. S. Smith</mark> |\n",
       "|*Appeared on*| *2022-12-01*|\n",
       "|*Comments*| *16 pages, 17 figures, under review MNRAS*|\n",
       "|**Abstract**| We report the discovery and confirmation of the planetary system TOI-1288. This late G dwarf harbours two planets: TOI-1288 b and TOI-1288 c. We combine TESS space-borne and ground-based transit photometry with HARPS-N and HIRES high-precision Doppler measurements, which we use to constrain the masses of both planets in the system and the radius of planet b. TOI-1288~b has a period of $2.699835^{+0.000004}_{-0.000003}$ d, a radius of $5.24 \\pm 0.09$ R$_\\oplus$, and a mass of $42 \\pm 3$ M$_\\oplus$, making this planet a hot transiting super-Neptune situated right in the Neptunian desert. This desert refers to a paucity of Neptune-sized planets on short period orbits. Our 2.4-year-long Doppler monitoring of TOI-1288 revealed the presence of a Saturn-mass planet on a moderately eccentric orbit ($0.13^{+0.07}_{-0.09}$) with a minimum mass of $84 \\pm 7$ M$_\\oplus$ and a period of $443^{+11}_{-13}$ d. The 5 sectors worth of TESS data do not cover our expected mid-transit time for TOI-1288 c, and we do not detect a transit for this planet in these sectors. |\n",
       "|<p style=\"color:green\"> **ERROR** </p>| <p style=\"color:green\">affiliation error: mpia.affiliation_verifications: 'Heidelberg' keyword not found.</p> |"
      ],
      "text/plain": [
       "<IPython.core.display.Markdown object>"
      ]
     },
     "metadata": {},
     "output_type": "display_data"
    },
    {
     "data": {
      "text/markdown": [
       "\n",
       "|||\n",
       "|---:|:---|\n",
       "| [![arXiv](https://img.shields.io/badge/arXiv-arXiv:2211.17087-b31b1b.svg)](https://arxiv.org/abs/arXiv:2211.17087) | **Precession of magnetars: dynamical evolutions and modulations on  polarized electromagnetic waves**  |\n",
       "|| Yong Gao, et al. -- incl., <mark>Lijing Shao</mark>, <mark>Michael Kramer</mark> |\n",
       "|*Appeared on*| *2022-12-01*|\n",
       "|*Comments*| *18 pages, 18 figures; accepted by MNRAS*|\n",
       "|**Abstract**| Magnetars are conjectured to be highly magnetized neutron stars (NSs). Strong internal magnetic field and elasticity in the crust may deform the stars and lead to free precession. We study the precession dynamics of triaxially-deformed NSs incorporating the near-field and the far-field electromagnetic torques. We obtain timing residuals for different NS geometries and torques. We also investigate the polarized X-ray and radio signals from precessing magnetars. The modulations on the Stokes parameters are obtained for thermal X-rays emitted from the surface of magnetars. For radio signals, we apply the simple rotating vector model (RVM) to give the modulations on the position angle (PA) of the polarization. Our results are comprehensive, ready to be used to search for magnetar precession with timing data and polarizations of X-ray and radio emissions. Future observations of precessing magnetars will give us valuable information on the geometry and the strength of the strong magnetic fields, the emission geometry, as well as the equation of state (EoS) of NSs. |\n",
       "|<p style=\"color:green\"> **ERROR** </p>| <p style=\"color:green\">affiliation error: mpia.affiliation_verifications: 'Heidelberg' keyword not found.</p> |"
      ],
      "text/plain": [
       "<IPython.core.display.Markdown object>"
      ]
     },
     "metadata": {},
     "output_type": "display_data"
    },
    {
     "data": {
      "text/markdown": [
       "\n",
       "|||\n",
       "|---:|:---|\n",
       "| [![arXiv](https://img.shields.io/badge/arXiv-arXiv:2211.17097-b31b1b.svg)](https://arxiv.org/abs/arXiv:2211.17097) | **The rise and fall of the iron-strong nuclear transient PS16dtm**  |\n",
       "|| T. Petrushevska, et al. -- incl., <mark>K. W. Smith</mark> |\n",
       "|*Appeared on*| *2022-12-01*|\n",
       "|*Comments*| *Accepted for publication in A&A, 19 pages and 18 figures*|\n",
       "|**Abstract**| Thanks to the advent of large-scale optical surveys, a diverse set of flares from the nuclear regions of galaxies has recently been discovered. These include the disruption of stars by supermassive black holes at the centers of galaxies - nuclear transients known as tidal disruption events (TDEs). Active galactic nuclei (AGN) can show extreme changes in the brightness and emission line intensities, often referred to as changing-look AGN (CLAGN). Given the physical and observational similarities, the interpretation and distinction of nuclear transients as CLAGN or TDEs remains difficult. One of the obstacles of making progress in the field is the lack of well-sampled data of long-lived nuclear outbursts in AGN. Here, we study PS16dtm, a nuclear transient in a Narrow Line Seyfert 1 (NLSy1) galaxy, which has been proposed to be a TDE candidate. Our aim is to study the spectroscopic and photometric properties of PS16dtm, in order to better understand the outbursts originating in NLSy1 galaxies. Our extensive multiwavelength follow-up that spans around 2000 days includes photometry and spectroscopy in the UV/optical, as well as mid-infrared (MIR) and X-ray observations. Furthermore, we improved an existing semiempirical model in order to reproduce the spectra and study the evolution of the spectral lines. The UV/optical light curve shows a double peak at $\\sim50$ and $\\sim100$ days after the first detection, and it declines and flattens afterward, reaching preoutburst levels after 2000 days of monitoring. The MIR light curve rises almost simultaneously with the optical, but unlike the UV/optical which is approaching the preoutburst levels in the last epochs of our observations, the MIR emission is still rising at the time of writing. The optical spectra show broad Balmer features and the strongest broad Fe II emission ever detected in a nuclear transient. [abridged] |\n",
       "|<p style=\"color:green\"> **ERROR** </p>| <p style=\"color:green\">affiliation error: mpia.affiliation_verifications: 'Heidelberg' keyword not found.</p> |"
      ],
      "text/plain": [
       "<IPython.core.display.Markdown object>"
      ]
     },
     "metadata": {},
     "output_type": "display_data"
    },
    {
     "data": {
      "text/markdown": [
       "\n",
       "|||\n",
       "|---:|:---|\n",
       "| [![arXiv](https://img.shields.io/badge/arXiv-arXiv:2211.16979-b31b1b.svg)](https://arxiv.org/abs/arXiv:2211.16979) | **Using simulated Tianqin gravitational wave data and electromagnetic wave  data to study the coincidence problem and Hubble tension problem**  |\n",
       "|| <mark>JiaWei Zhang</mark>, et al. -- incl., <mark>Jin Li</mark> |\n",
       "|*Appeared on*| *2022-12-01*|\n",
       "|*Comments*| *The article has been accepted by Chinese Physics C*|\n",
       "|**Abstract**| In this paper, we use electromagnetic wave data (H0LiCOW, $H(z)$, SNe) and gravitational wave data (Tianqin) to constrain the interacting dark energy (IDE) model and investigate the Hubble tension problem and coincidences problem. By combining these four kinds of data (Tianqin+H0LiCOW+SNe+$H(z)$), we obtained the parameter values at the confidence interval of $1\\sigma$: $\\Omega_m=0.36\\pm0.18$, $\\omega_x=-1.29^{+0.61}_{-0.23}$, $\\xi=3.15^{+0.36}_{-1.1}$, and $H_0=70.04\\pm0.42$ $kms^{-1}Mpc^{-1}$. According to our results, the best valve of $H_0$ show that the Hubble tension problem can be alleviated to some extent. In addition, the $\\xi+3\\omega_x = -0.72^{+2.19}_{-1.19}(1\\sigma)$ of which the center value indicates the coincidence problem is slightly alleviated. However, the $\\xi+3\\omega_x = 0$ is still within the $1\\sigma$ error range which indicates the $\\Lambda$CDM model is still the model which is in best agreement with the observational data at present. Finally, we compare the constraint results of electromagnetic wave and gravitational wave on the model parameters and find that the constraint effect of electromagnetic wave data on model parameters is better than that of simulated Tianqin gravitational wave data. |\n",
       "|<p style=\"color:red\"> **ERROR** </p>| <p style=\"color:red\">latex error 'utf-8' codec can't decode byte 0xc0 in position 35572: invalid start byte</p> |"
      ],
      "text/plain": [
       "<IPython.core.display.Markdown object>"
      ]
     },
     "metadata": {},
     "output_type": "display_data"
    },
    {
     "data": {
      "text/markdown": [
       "\n",
       "|||\n",
       "|---:|:---|\n",
       "| [![arXiv](https://img.shields.io/badge/arXiv-arXiv:2211.16748-b31b1b.svg)](https://arxiv.org/abs/arXiv:2211.16748) | **Extreme nature of four blue-excess dust-obscured galaxies revealed by  optical spectroscopy**  |\n",
       "|| Akatoki Noboriguchi, et al. -- incl., <mark>Yoshihiro Ueda</mark> |\n",
       "|*Appeared on*| *2022-12-01*|\n",
       "|*Comments*| *22 pages, 12 figures, accepted for publication in ApJ*|\n",
       "|**Abstract**| We report optical spectroscopic observations of four blue-excess dust-obscured galaxies (BluDOGs) identified by Subaru Hyper Suprime-Cam. BluDOGs are a sub-class of dust-obscured galaxies (DOGs, defined with the extremely red color $(i-[22])_{\\rm AB} \\geq 7.0$; Toba et al. 2015), showing a significant flux excess in the optical $g$- and $r$-bands over the power-law fits to the fluxes at the longer wavelengths. Noboriguchi et al. (2019) has suggested that BluDOGs may correspond to the blowing-out phase involved in a gas-rich major merger scenario. However the detailed properties of BluDOGs are not understood because of the lack of spectroscopic information. In this work, we carry out deep optical spectroscopic observations of four BluDOGs using Subaru/FOCAS and VLT/FORS2. The obtained spectra show broad emission lines with extremely large equivalent widths, and a blue wing in the CIV line profile. The redshifts are between 2.2 and 3.3. The averaged rest-frame equivalent widths of the CIV lines are $160\\pm33$ $\\mathrm{\\mathring{A}}$, $\\sim$7 times higher than the average of a typical type-1 quasar. The FWHMs of their velocity profiles are between 1990 and 4470 ${\\rm km\\ s^{-1}}$, and their asymmetric parameters are 0.05 and 0.25. Such strong CIV lines significantly affect the broad-band magnitudes, which is partly the origin of the blue excess seen in the spectral energy distribution of BluDOGs. Their estimated supermassive black hole masses are $1.1\\times10^8 < M_{\\rm BH}/M_\\odot < 5.5 \\times 10^8$. The inferred Eddington ratios of the BluDOGs are higher than 1 ($1.1< \\lambda_{\\rm Edd} < 3.8$), suggesting that the BluDOGs are in a rapidly evolving phase of supermassive black holes. |\n",
       "|<p style=\"color:red\"> **ERROR** </p>| <p style=\"color:red\">latex error [Errno 2] No such file or directory: 'gs'</p> |"
      ],
      "text/plain": [
       "<IPython.core.display.Markdown object>"
      ]
     },
     "metadata": {},
     "output_type": "display_data"
    },
    {
     "data": {
      "text/markdown": [
       "\n",
       "|||\n",
       "|---:|:---|\n",
       "| [![arXiv](https://img.shields.io/badge/arXiv-arXiv:2211.16795-b31b1b.svg)](https://arxiv.org/abs/arXiv:2211.16795) | **The MUSE second-generation VLT instrument**  |\n",
       "|| Bacon R., et al. -- incl., <mark>Lilly S.J.</mark>, <mark>Lizon J.-L.</mark> |\n",
       "|*Appeared on*| *2022-12-01*|\n",
       "|*Comments*| *10 pages, 5 figures*|\n",
       "|**Abstract**| The Multi Unit Spectroscopic Explorer (MUSE) is a second-generation VLT panoramic integral-field spectrograph currently in manufacturing, assembly and integration phase. MUSE has a field of 1x1 arcmin2 sampled at 0.2x0.2 arcsec2 and is assisted by the VLT ground layer adaptive optics ESO facility using four laser guide stars. The instrument is a large assembly of 24 identical high performance integral field units, each one composed of an advanced image slicer, a spectrograph and a 4kx4k detector. In this paper we review the progress of the manufacturing and report the performance achieved with the first integral field unit. |\n",
       "|<p style=\"color:red\"> **ERROR** </p>| <p style=\"color:red\">latex error not a gzip file</p> |"
      ],
      "text/plain": [
       "<IPython.core.display.Markdown object>"
      ]
     },
     "metadata": {},
     "output_type": "display_data"
    }
   ],
   "source": [
    "import datetime\n",
    "today = str(datetime.date.today())\n",
    "logfile = f\"_build/html/logs/log-{today}.md\"\n",
    "\n",
    "\n",
    "with open(logfile, 'w') as logs:\n",
    "    # Success\n",
    "    logs.write(f'# Arxiv on Deck 2: Logs - {today}\\n\\n')\n",
    "    logs.write(\"\"\"* Arxiv had {0:,d} new papers\\n\"\"\".format(len(new_papers)))\n",
    "    logs.write(\"\"\"    * {0:,d} with possible author matches\\n\\n\"\"\".format(len(candidates)))\n",
    "    logs.write(\"## Sucessful papers\\n\\n\")\n",
    "    display(Markdown(\"## Successful papers\"))\n",
    "    success = [k[0] for k in documents]\n",
    "    for candid in candidates:\n",
    "        if candid['identifier'].split(':')[-1] in success:\n",
    "            display(candid)\n",
    "            logs.write(candid.generate_markdown_text() + '\\n\\n')\n",
    "\n",
    "    ## failed\n",
    "    logs.write(\"## Failed papers\\n\\n\")\n",
    "    display(Markdown(\"## Failed papers\"))\n",
    "    failed = sorted(failed, key=lambda x: x[1])\n",
    "    current_reason = \"\"\n",
    "    for paper, reason in failed:\n",
    "        if 'affiliation' in reason:\n",
    "            color = 'green'\n",
    "        else:\n",
    "            color = 'red'\n",
    "        data = Markdown(\n",
    "                paper.generate_markdown_text() + \n",
    "                f'\\n|<p style=\"color:{color:s}\"> **ERROR** </p>| <p style=\"color:{color:s}\">{reason:s}</p> |'\n",
    "               )\n",
    "        if reason != current_reason:\n",
    "            logs.write(f'### {reason:s} \\n\\n')\n",
    "            current_reason = reason\n",
    "        logs.write(data.data + '\\n\\n')\n",
    "        \n",
    "        # only display here the important errors (all in logs)\n",
    "        # if color in ('red',):\n",
    "        display(data)"
   ]
  },
  {
   "cell_type": "markdown",
   "id": "472d20ee",
   "metadata": {
    "papermill": {
     "duration": 0.009665,
     "end_time": "2022-12-01T04:09:58.646154",
     "exception": false,
     "start_time": "2022-12-01T04:09:58.636489",
     "status": "completed"
    },
    "tags": []
   },
   "source": [
    "## Export documents\n",
    "\n",
    "We now write the .md files and export relevant images"
   ]
  },
  {
   "cell_type": "code",
   "execution_count": 7,
   "id": "d426aed9",
   "metadata": {
    "execution": {
     "iopub.execute_input": "2022-12-01T04:09:58.667252Z",
     "iopub.status.busy": "2022-12-01T04:09:58.666628Z",
     "iopub.status.idle": "2022-12-01T04:09:58.674252Z",
     "shell.execute_reply": "2022-12-01T04:09:58.673680Z"
    },
    "papermill": {
     "duration": 0.019955,
     "end_time": "2022-12-01T04:09:58.675682",
     "exception": false,
     "start_time": "2022-12-01T04:09:58.655727",
     "status": "completed"
    },
    "tags": []
   },
   "outputs": [],
   "source": [
    "def export_markdown_summary(md: str, md_fname:str, directory: str):\n",
    "    \"\"\"Export MD document and associated relevant images\"\"\"\n",
    "    import os\n",
    "    import shutil\n",
    "    import re\n",
    "\n",
    "    if (os.path.exists(directory) and not os.path.isdir(directory)):\n",
    "        raise RuntimeError(f\"a non-directory file exists with name {directory:s}\")\n",
    "\n",
    "    if (not os.path.exists(directory)):\n",
    "        print(f\"creating directory {directory:s}\")\n",
    "        os.mkdir(directory)\n",
    "\n",
    "    fig_fnames = (re.compile(r'\\[Fig.*\\]\\((.*)\\)').findall(md) + \n",
    "                  re.compile(r'\\<img src=\"([^>\\s]*)\"[^>]*/>').findall(md))\n",
    "    for fname in fig_fnames:\n",
    "        if 'http' in fname:\n",
    "            # No need to copy online figures\n",
    "            continue\n",
    "        destdir = os.path.join(directory, os.path.dirname(fname))\n",
    "        destfname = os.path.join(destdir, os.path.basename(fname))\n",
    "        try:\n",
    "            os.makedirs(destdir)\n",
    "        except FileExistsError:\n",
    "            pass\n",
    "        shutil.copy(fname, destfname)\n",
    "    with open(os.path.join(directory, md_fname), 'w') as fout:\n",
    "        fout.write(md)\n",
    "    print(\"exported in \", os.path.join(directory, md_fname))\n",
    "    [print(\"    + \" + os.path.join(directory,fk)) for fk in fig_fnames]"
   ]
  },
  {
   "cell_type": "code",
   "execution_count": 8,
   "id": "014d04a4",
   "metadata": {
    "execution": {
     "iopub.execute_input": "2022-12-01T04:09:58.697425Z",
     "iopub.status.busy": "2022-12-01T04:09:58.696873Z",
     "iopub.status.idle": "2022-12-01T04:09:58.709344Z",
     "shell.execute_reply": "2022-12-01T04:09:58.708662Z"
    },
    "papermill": {
     "duration": 0.025246,
     "end_time": "2022-12-01T04:09:58.710865",
     "exception": false,
     "start_time": "2022-12-01T04:09:58.685619",
     "status": "completed"
    },
    "tags": []
   },
   "outputs": [
    {
     "name": "stdout",
     "output_type": "stream",
     "text": [
      "exported in  _build/html/2211.16510.md\n",
      "exported in  _build/html/2211.16996.md\n",
      "    + _build/html/tmp_2211.16996/./figure/flux_ratio_corner_meancov.png\n",
      "    + _build/html/tmp_2211.16996/./figure/throughput.png\n",
      "    + _build/html/tmp_2211.16996/./figure/flux_ratio_zW1.png\n",
      "    + _build/html/tmp_2211.16996/./figure/cc_zW1.png\n",
      "    + _build/html/tmp_2211.16996/./figure/flux_ratio_zY.png\n",
      "    + _build/html/tmp_2211.16996/./figure/cc_zY.png\n",
      "    + _build/html/tmp_2211.16996/./figure/flux_ratio_YW1.png\n",
      "    + _build/html/tmp_2211.16996/./figure/cc_YW1.png\n"
     ]
    }
   ],
   "source": [
    "for paper_id, md in documents:\n",
    "    export_markdown_summary(md, f\"{paper_id:s}.md\", '_build/html/')"
   ]
  },
  {
   "cell_type": "markdown",
   "id": "f087a0a7",
   "metadata": {
    "papermill": {
     "duration": 0.009694,
     "end_time": "2022-12-01T04:09:58.730292",
     "exception": false,
     "start_time": "2022-12-01T04:09:58.720598",
     "status": "completed"
    },
    "tags": []
   },
   "source": [
    "## Display the papers\n",
    "\n",
    "Not necessary but allows for a quick check."
   ]
  },
  {
   "cell_type": "code",
   "execution_count": 9,
   "id": "fd25f625",
   "metadata": {
    "execution": {
     "iopub.execute_input": "2022-12-01T04:09:58.751188Z",
     "iopub.status.busy": "2022-12-01T04:09:58.750721Z",
     "iopub.status.idle": "2022-12-01T04:09:58.757905Z",
     "shell.execute_reply": "2022-12-01T04:09:58.757202Z"
    },
    "papermill": {
     "duration": 0.019492,
     "end_time": "2022-12-01T04:09:58.759449",
     "exception": false,
     "start_time": "2022-12-01T04:09:58.739957",
     "status": "completed"
    },
    "scrolled": false,
    "tags": []
   },
   "outputs": [
    {
     "data": {
      "text/markdown": [
       "<div class=\"macros\" style=\"visibility:hidden;\">\n",
       "$\\newcommand{\\ensuremath}{}$\n",
       "$\\newcommand{\\xspace}{}$\n",
       "$\\newcommand{\\object}[1]{\\texttt{#1}}$\n",
       "$\\newcommand{\\farcs}{{.}''}$\n",
       "$\\newcommand{\\farcm}{{.}'}$\n",
       "$\\newcommand{\\arcsec}{''}$\n",
       "$\\newcommand{\\arcmin}{'}$\n",
       "$\\newcommand{\\ion}[2]{#1#2}$\n",
       "$\\newcommand{\\textsc}[1]{\\textrm{#1}}$\n",
       "$\\newcommand{\\hl}[1]{\\textrm{#1}}$\n",
       "$\\newcommand$</div>\n",
       "\n",
       "<div class=\"macros\" style=\"visibility:hidden;\">\n",
       "$\\newcommand{$\\ensuremath$}{}$\n",
       "$\\newcommand{$\\xspace$}{}$\n",
       "$\\newcommand{$\\object$}[1]{\\texttt{#1}}$\n",
       "$\\newcommand{$\\farcs$}{{.}''}$\n",
       "$\\newcommand{$\\farcm$}{{.}'}$\n",
       "$\\newcommand{$\\arcsec$}{''}$\n",
       "$\\newcommand{$\\arcmin$}{'}$\n",
       "$\\newcommand{$\\ion$}[2]{#1#2}$\n",
       "$\\newcommand{$\\textsc$}[1]{\\textrm{#1}}$\n",
       "$\\newcommand{$\\hl$}[1]{\\textrm{#1}}$\n",
       "$\\newcommand$</div>\n",
       "\n",
       "\n",
       "\n",
       "<div id=\"title\">\n",
       "\n",
       "# First release of PLATO consortium stellar limb-darkening coefficients\n",
       "\n",
       "</div>\n",
       "<div id=\"comments\">\n",
       "\n",
       "[![arXiv](https://img.shields.io/badge/arXiv-2211.16510-b31b1b.svg)](https://arxiv.org/abs/2211.16510)<mark>Appeared on: 2022-12-01</mark> - _Published on RNAAS_\n",
       "\n",
       "</div>\n",
       "<div id=\"authors\">\n",
       "\n",
       "Giuseppe Morello, et al. -- incl., <mark>Maria Bergemann</mark>\n",
       "\n",
       "</div>\n",
       "<div id=\"abstract\">\n",
       "\n",
       "**Abstract:** We release the first grid of stellar limb-darkening coefficients (LDCs) and intensity profiles (IPs) computed by the consortium of the PLAnetary Transits and Oscillations of stars (PLATO), the next medium-class (M3) mission under development by the European Space Agency (ESA) to be launched in 2026. We have performed spectral synthesis with\\texttt{TurboSpectrum}on a grid of\\texttt{MARCS}model atmospheres. Finally, we adopted\\texttt{ExoTETHyS}to convolve the high-resolution spectra ($R=2\\times10^5$) with the state-of-the-art response functions for all the PLATO cameras, and computed the LDCs that best approximate the convolved IPs. In addition to the PLATO products, we provide new LDCs and IPs for the Kepler mission, based on the same grid of stellar atmospheric models and calculation procedures. The data can be downloaded from the following link:\\url{https://doi.org/10.5281/zenodo.7339706}.\n",
       "\n",
       "</div>\n",
       "\n"
      ],
      "text/plain": [
       "<IPython.core.display.Markdown object>"
      ]
     },
     "metadata": {},
     "output_type": "display_data"
    },
    {
     "data": {
      "text/markdown": [
       "<div class=\"macros\" style=\"visibility:hidden;\">\n",
       "$\\newcommand{\\ensuremath}{}$\n",
       "$\\newcommand{\\xspace}{}$\n",
       "$\\newcommand{\\object}[1]{\\texttt{#1}}$\n",
       "$\\newcommand{\\farcs}{{.}''}$\n",
       "$\\newcommand{\\farcm}{{.}'}$\n",
       "$\\newcommand{\\arcsec}{''}$\n",
       "$\\newcommand{\\arcmin}{'}$\n",
       "$\\newcommand{\\ion}[2]{#1#2}$\n",
       "$\\newcommand{\\textsc}[1]{\\textrm{#1}}$\n",
       "$\\newcommand{\\hl}[1]{\\textrm{#1}}$\n",
       "$\\newcommand{\\angstrom}{\\textup{\\AA}}$\n",
       "$\\newcommand{\\thebibliography}{\\DeclareRobustCommand{\\VAN}[3]{##3}\\VANthebibliography}$</div>\n",
       "\n",
       "<div class=\"macros\" style=\"visibility:hidden;\">\n",
       "$\\newcommand{$\\ensuremath$}{}$\n",
       "$\\newcommand{$\\xspace$}{}$\n",
       "$\\newcommand{$\\object$}[1]{\\texttt{#1}}$\n",
       "$\\newcommand{$\\farcs$}{{.}''}$\n",
       "$\\newcommand{$\\farcm$}{{.}'}$\n",
       "$\\newcommand{$\\arcsec$}{''}$\n",
       "$\\newcommand{$\\arcmin$}{'}$\n",
       "$\\newcommand{$\\ion$}[2]{#1#2}$\n",
       "$\\newcommand{$\\textsc$}[1]{\\textrm{#1}}$\n",
       "$\\newcommand{$\\hl$}[1]{\\textrm{#1}}$\n",
       "$\\newcommand{$\\angstrom$}{\\textup{\\AA}}$\n",
       "$\\newcommand{$\\thebibliography$}{\\DeclareRobustCommand{\\VAN}[3]{##3}\\VANthebibliography}$</div>\n",
       "\n",
       "\n",
       "\n",
       "<div id=\"title\">\n",
       "\n",
       "#  Quasar Candidate Archive: A Spectroscopic Catalog of Quasars and Contaminants in Various Quasar Searches\n",
       "\n",
       "</div>\n",
       "<div id=\"comments\">\n",
       "\n",
       "[![arXiv](https://img.shields.io/badge/arXiv-2211.16996-b31b1b.svg)](https://arxiv.org/abs/2211.16996)<mark>Appeared on: 2022-12-01</mark> - _28 pages, 26 figures, 4 tables_\n",
       "\n",
       "</div>\n",
       "<div id=\"authors\">\n",
       "\n",
       "Da-Ming Yang, et al. -- incl., <mark><mark>Joseph F. Hennawi</mark></mark>\n",
       "\n",
       "</div>\n",
       "<div id=\"abstract\">\n",
       "\n",
       "**Abstract:** We present the high-$z$quasar candidate archive (HzQCA), summarizing the spectroscopic observations of 174$z\\gtrsim5$quasar candidates using Keck/LRIS, Keck/MOSFIRE, and Keck/NIRES. We identify 7 candidates as$z\\sim 6$quasars 3 of them newly reported here, and 51 candidates as brown dwarfs. In the remaining sources, 74 candidates are unlikely to be quasars; 2 sources are inconclusive; the others could not be fully reduced or extracted. Based on the classifications we investigate the distributions of quasars and contaminants in color space with photometry measurements from DELS ($z$), VIKING/UKIDSS ($YJHK_s$/$YJHK$), and un\\textit{WISE}($W1W2$). We find that the identified brown dwarfs are not fully consistent with the empirical brown dwarf model that is commonly used in quasar candidate selection methods. To refine spectroscopic confirmation strategies, we simulate synthetic spectroscopy of high-$z$quasars and contaminants for all three instruments. The simulations utilize the spectroscopic data in HzQCA. We predict the required exposure times for quasar confirmation and propose and optimal strategy for spectroscopic follow-up observations. For example, we demonstrate that we can identify a$m_J=21.5$at$z=7.6$or a$m_J=23.0$at$z=7.0$within 15 min of exposure time with LRIS. With the publication of the HzQCA we aim to provide guidance for future quasar surveys and candidate classification.\n",
       "\n",
       "</div>\n",
       "\n",
       "<div id=\"div_fig1\">\n",
       "\n",
       "<img src=\"tmp_2211.16996/./figure/flux_ratio_corner_meancov.png\" alt=\"Fig9\" width=\"100%\"/>\n",
       "\n",
       "**Figure 9. -** The complete relative flux diagrams. The filled symbols are the sources in the archive, including QSO (pink), STAR (blue) and UNQ (brown) types objects. The red contour is the density of 440,000 simulated $6\\leq z\\leq 8$ quasars generated with \\texttt{simqso}. The cyan contour is the density of 100,000 synthetic brown dwarfs, generated from convolving the empirical brown dwarf colors in \\protect\\cite{Skrzypek2015} and the measurement errors, following the noise modeling procedures described in \\protect\\cite{Nanni2022}. The grey contour is the density of the contaminants used to train the contaminant model in XDHZQSO searches (see Section \\ref{sec:VIK+UKI}). The levels of the contours are 11.75\\%, 39.35\\%, 67.53\\%, and 86.47\\%. (*fig:flux_ratio_corner*)\n",
       "\n",
       "</div>\n",
       "<div id=\"div_fig2\">\n",
       "\n",
       "<img src=\"tmp_2211.16996/./figure/throughput.png\" alt=\"Fig1\" width=\"100%\"/>\n",
       "\n",
       "**Figure 1. -** The solid lines are throughput curves of the three spectrometers, corresponding to an 0$\\farcs$9 seeing for LRIS, MOSFIRE, and order 7 of NIRES. The throughput of LRIS was originally measured with an 1$\\arcsec$ slit width in LRIS-2203 run, with a seeing of 0$\\farcs$74. The MOSFIRE Y-band throughput was obtained with a 1$\\arcsec$ slit width and a 0$\\farcs$76 seeing in MOSFIRE-2201 run. The NIRES throughput here was measured with a 0$\\farcs$55 slit width in NIRES-1905 run with a seeing of 0$\\farcs$9 in the order 7. The LRIS and MOSFIRE throughput curves are then scaled to a seeing of 0$\\farcs$9. The dotted lines are throughput curves corrected for the slit loss, assuming a perfect centering of the star on the slit. The upper axis shows the corresponding Ly$\\alpha$($1216$$\\angstrom$) redshift of high-$z$ quasars that they can reach. For all instruments the throughput curves are determined from observation of the standard star GD153. (*fig:throughput*)\n",
       "\n",
       "</div>\n",
       "<div id=\"div_fig3\">\n",
       "\n",
       "<img src=\"tmp_2211.16996/./figure/flux_ratio_zW1.png\" alt=\"Fig8.1\" width=\"16%\"/><img src=\"tmp_2211.16996/./figure/cc_zW1.png\" alt=\"Fig8.2\" width=\"16%\"/><img src=\"tmp_2211.16996/./figure/flux_ratio_zY.png\" alt=\"Fig8.3\" width=\"16%\"/><img src=\"tmp_2211.16996/./figure/cc_zY.png\" alt=\"Fig8.4\" width=\"16%\"/><img src=\"tmp_2211.16996/./figure/flux_ratio_YW1.png\" alt=\"Fig8.5\" width=\"16%\"/><img src=\"tmp_2211.16996/./figure/cc_YW1.png\" alt=\"Fig8.6\" width=\"16%\"/>\n",
       "\n",
       "**Figure 8. -** (Left panels) The relative flux diagrams. The filled symbols are the sources in the HzQCA, including QSO (pink), STAR (blue) and UNQ (brown) types objects. The red contour is the density of 440,000 simulated $6\\leq z\\leq 8$ quasars generated with \\texttt{simqso}. The cyan contour is the density of 100,000 synthetic brown dwarfs, generated from convolving the empirical brown dwarf colors in \\protect\\cite{Skrzypek2015} and the measurement errors, following the noise modeling procedures described in \\protect\\cite{Nanni2022}. The cyan line in it indicates different spectral types. The green end of this track is M5 type, while the blue end is the T8 type. The grey contour is the density of the contaminants used to train the contaminant model in XDHZQSO searches (see Section \\ref{sec:VIK+UKI}). The dashed lines in the upper panels are the color selection cuts from \\protect\\cite{Wang2017}. (Right panels) Corresponding color-color diagrams. The levels of the contours are 11.75\\%, 39.35\\%, 67.53\\%, and 86.47\\%. (*fig:flux_ratio*)\n",
       "\n",
       "</div>"
      ],
      "text/plain": [
       "<IPython.core.display.Markdown object>"
      ]
     },
     "metadata": {},
     "output_type": "display_data"
    }
   ],
   "source": [
    "[display(Markdown(k[1])) for k in documents];"
   ]
  },
  {
   "cell_type": "markdown",
   "id": "873873a4",
   "metadata": {
    "papermill": {
     "duration": 0.010741,
     "end_time": "2022-12-01T04:09:58.780315",
     "exception": false,
     "start_time": "2022-12-01T04:09:58.769574",
     "status": "completed"
    },
    "tags": []
   },
   "source": [
    "# Create HTML index"
   ]
  },
  {
   "cell_type": "code",
   "execution_count": 10,
   "id": "cf665672",
   "metadata": {
    "execution": {
     "iopub.execute_input": "2022-12-01T04:09:58.803482Z",
     "iopub.status.busy": "2022-12-01T04:09:58.802445Z",
     "iopub.status.idle": "2022-12-01T04:09:58.813195Z",
     "shell.execute_reply": "2022-12-01T04:09:58.812435Z"
    },
    "papermill": {
     "duration": 0.023662,
     "end_time": "2022-12-01T04:09:58.814683",
     "exception": false,
     "start_time": "2022-12-01T04:09:58.791021",
     "status": "completed"
    },
    "tags": []
   },
   "outputs": [
    {
     "name": "stdout",
     "output_type": "stream",
     "text": [
      "114  publications in the last 7 days.\n",
      "\t _build/html/2211.16996.md\n",
      "\t _build/html/2211.16510.md\n",
      "\t _build/html/2211.16123.md\n",
      "\t _build/html/2211.15816.md\n",
      "\t _build/html/2211.15698.md\n",
      "\t _build/html/2211.15576.md\n",
      "\t _build/html/2211.15434.md\n",
      "\t _build/html/2211.15288.md\n",
      "\t _build/html/2211.15224.md\n",
      "\t _build/html/2211.14543.md\n",
      "\t _build/html/2211.14330.md\n",
      "\t _build/html/2211.14322.md\n",
      "\t _build/html/2211.14132.md\n",
      "\t _build/html/2211.13811.md\n",
      "\t _build/html/2211.13426.md\n",
      "\t _build/html/2211.13318.md\n",
      "\t _build/html/2211.13146.md\n",
      "\t _build/html/2211.12613.md\n",
      "\t _build/html/2211.11767.md\n",
      "\t _build/html/2211.09840.md\n",
      "\t _build/html/2211.09217.md\n",
      "\t _build/html/2211.08493.md\n",
      "\t _build/html/2211.08487.md\n",
      "\t _build/html/2211.08294.md\n",
      "\t _build/html/2211.07667.md\n",
      "\t _build/html/2211.07659.md\n",
      "\t _build/html/2211.06454.md\n",
      "\t _build/html/2211.06205.md\n",
      "\t _build/html/2211.06194.md\n",
      "\t _build/html/2211.05022.md\n",
      "\t _build/html/2211.04048.md\n",
      "\t _build/html/2211.03641.md\n",
      "\t _build/html/2211.02502.md\n",
      "\t _build/html/2211.01474.md\n",
      "\t _build/html/2211.00667.md\n",
      "\t _build/html/2211.00657.md\n",
      "\t _build/html/2211.00087.md\n",
      "\t _build/html/2211.00036.md\n",
      "\t _build/html/2211.00020.md\n",
      "\t _build/html/2211.00010.md\n",
      "\t _build/html/2210.17434.md\n",
      "\t _build/html/2210.12412.md\n",
      "\t _build/html/2210.11926.md\n",
      "\t _build/html/2210.11551.md\n",
      "\t _build/html/2210.11103.md\n",
      "\t _build/html/2210.10707.md\n",
      "\t _build/html/2210.09930.md\n",
      "\t _build/html/2210.08996.md\n",
      "\t _build/html/2210.08517.md\n",
      "\t _build/html/2210.08510.md\n",
      "\t _build/html/2210.08078.md\n",
      "\t _build/html/2210.06504.md\n",
      "\t _build/html/2210.05695.md\n",
      "\t _build/html/2210.05595.md\n",
      "\t _build/html/2210.05505.md\n",
      "\t _build/html/2210.04721.md\n",
      "\t _build/html/2210.03615.md\n",
      "\t _build/html/2210.01811.md\n",
      "\t _build/html/2210.01809.md\n",
      "\t _build/html/2210.01556.md\n",
      "\t _build/html/2210.00863.md\n",
      "\t _build/html/2210.00560.md\n",
      "\t _build/html/2209.15403.md\n",
      "\t _build/html/2209.15110.md\n",
      "\t _build/html/2209.14410.md\n",
      "\t _build/html/2209.14396.md\n",
      "\t _build/html/2209.13717.md\n",
      "\t _build/html/2209.13336.md\n",
      "\t _build/html/2209.12906.md\n",
      "\t _build/html/2209.11781.md\n",
      "\t _build/html/2209.11602.md\n",
      "\t _build/html/2209.11248.md\n",
      "\t _build/html/2209.11096.md\n",
      "\t _build/html/2209.10618.md\n",
      "\t _build/html/2209.09914.md\n",
      "\t _build/html/2209.09823.md\n",
      "\t _build/html/2209.08242.md\n",
      "\t _build/html/2209.08120.md\n",
      "\t _build/html/2209.08106.md\n",
      "\t _build/html/2209.07962.md\n",
      "\t _build/html/2209.07931.md\n",
      "\t _build/html/2209.06833.md\n",
      "\t _build/html/2209.05814.md\n",
      "\t _build/html/2209.05593.md\n",
      "\t _build/html/2209.04304.md\n",
      "\t _build/html/2209.03367.md\n",
      "\t _build/html/2209.02872.md\n",
      "\t _build/html/2209.02725.md\n",
      "\t _build/html/2209.02722.md\n",
      "\t _build/html/2209.02092.md\n",
      "\t _build/html/2209.01125.md\n",
      "\t _build/html/2209.00828.md\n",
      "\t _build/html/2209.00363.md\n",
      "\t _build/html/2208.14927.md\n",
      "\t _build/html/2208.09335.md\n",
      "\t _build/html/2208.08872.md\n",
      "\t _build/html/2204.06393.md\n",
      "\t _build/html/2204.03335.md\n",
      "\t _build/html/2204.03253.md\n",
      "\t _build/html/2204.02998.md\n",
      "\t _build/html/2204.02109.md\n",
      "\t _build/html/2204.02017.md\n",
      "\t _build/html/2204.01824.md\n",
      "\t _build/html/2204.01758.md\n",
      "\t _build/html/2204.01245.md\n",
      "\t _build/html/2204.00793.md\n",
      "\t _build/html/2204.00342.md\n",
      "\t _build/html/2203.16959.md\n",
      "\t _build/html/2203.16856.md\n",
      "\t _build/html/2203.16735.md\n",
      "\t _build/html/2203.16734.md\n",
      "\t _build/html/2203.16504.md\n",
      "\t _build/html/2203.15822.md\n",
      "\t _build/html/2203.15811.md\n"
     ]
    }
   ],
   "source": [
    "from datetime import datetime, timedelta, timezone\n",
    "from glob import glob\n",
    "\n",
    "files = glob('_build/html/*.md')\n",
    "days = 7\n",
    "now = datetime.today()\n",
    "res = []\n",
    "for fk in files:\n",
    "    stat_result = os.stat(fk).st_ctime\n",
    "    modified = datetime.fromtimestamp(stat_result, tz=timezone.utc).replace(tzinfo=None)\n",
    "    delta = now.today() - modified\n",
    "    if delta <= timedelta(days=days):\n",
    "        res.append((delta.seconds, fk))\n",
    "res = [k[1] for k in reversed(sorted(res, key=lambda x:x[1]))]\n",
    "npub = len(res)\n",
    "print(len(res), f\" publications in the last {days:d} days.\")\n",
    "[ print('\\t', k) for k in res ];"
   ]
  },
  {
   "cell_type": "code",
   "execution_count": 11,
   "id": "52ca0208",
   "metadata": {
    "execution": {
     "iopub.execute_input": "2022-12-01T04:09:58.837288Z",
     "iopub.status.busy": "2022-12-01T04:09:58.836710Z",
     "iopub.status.idle": "2022-12-01T04:09:58.843645Z",
     "shell.execute_reply": "2022-12-01T04:09:58.843090Z"
    },
    "papermill": {
     "duration": 0.02005,
     "end_time": "2022-12-01T04:09:58.845096",
     "exception": false,
     "start_time": "2022-12-01T04:09:58.825046",
     "status": "completed"
    },
    "scrolled": false,
    "tags": []
   },
   "outputs": [],
   "source": [
    "def create_carousel(npub=4):\n",
    "    \"\"\" Generate the HTML code for a carousel with `npub` slides \"\"\"\n",
    "    carousel = [\"\"\"<section class=\"carousel\" aria-label=\"Gallery\">\"\"\",\n",
    "                \"\"\"  <ol class=\"carousel__viewport\">\"\"\",\n",
    "    ]\n",
    "    for k in range(1, npub + 1):\n",
    "        prev_ = k - 1\n",
    "        next_ = k + 1\n",
    "        if prev_ <= 0:\n",
    "            prev_ = npub\n",
    "        if next_ > npub:\n",
    "            next_ = 1\n",
    "        text  = f\"\"\"    <li id=\"carousel__slide{k}\" tabindex=\"0\" class=\"carousel__slide\">\\n\"\"\"\n",
    "        text += f\"\"\"       <div class=\"carousel__snapper\">\\n\"\"\"\n",
    "        text += f\"\"\"         <a href=\"#carousel__slide{prev_}\" class=\"carousel__prev\">Go to previous slide</a>\\n\"\"\"\n",
    "        text += f\"\"\"         <a href=\"#carousel__slide{next_}\" class=\"carousel__next\">Go to next slide</a>\\n\"\"\"\n",
    "        text += f\"\"\"         <div id=\"slide{k}_content\" class=\"md_view\" >Content {k}</div>\\n\"\"\"\n",
    "        text += f\"\"\"       </div>\\n\"\"\"\n",
    "        text += f\"\"\"    </li>\"\"\"\n",
    "        carousel.append(text)\n",
    "\n",
    "    carousel.extend([\n",
    "        \"\"\"  </ol>\"\"\",\n",
    "        \"\"\"  <aside class=\"carousel__navigation\">\"\"\",\n",
    "        \"\"\"    <ol class=\"carousel__navigation-list\">\"\"\"])\n",
    "\n",
    "    for k in range(1, npub + 1):\n",
    "        text  = f\"\"\"      <li class=\"carousel__navigation-item\">\\n\"\"\"\n",
    "        text += f\"\"\"        <a href=\"#carousel__slide{k}\" class=\"carousel__navigation-button\">Go to {k}</a>\\n\"\"\"\n",
    "        text += f\"\"\"      </li>\"\"\"\n",
    "        carousel.append(text)\n",
    "    carousel.extend([\"\"\"    </ol>\"\"\", \"\"\"  </aside>\"\"\", \"\"\"</section>\"\"\"])\n",
    "\n",
    "    return '\\n'.join(carousel)"
   ]
  },
  {
   "cell_type": "code",
   "execution_count": 12,
   "id": "a6eac5b6",
   "metadata": {
    "execution": {
     "iopub.execute_input": "2022-12-01T04:09:58.904865Z",
     "iopub.status.busy": "2022-12-01T04:09:58.904327Z",
     "iopub.status.idle": "2022-12-01T04:09:58.912932Z",
     "shell.execute_reply": "2022-12-01T04:09:58.912260Z"
    },
    "papermill": {
     "duration": 0.059184,
     "end_time": "2022-12-01T04:09:58.914553",
     "exception": false,
     "start_time": "2022-12-01T04:09:58.855369",
     "status": "completed"
    },
    "scrolled": false,
    "tags": []
   },
   "outputs": [],
   "source": [
    "carousel = create_carousel(npub)\n",
    "docs = ', '.join(['\"{0:s}\"'.format(k.split('/')[-1]) for k in res])\n",
    "slides = ', '.join([f'\"slide{k}_content\"' for k in range(1, npub + 1)])\n",
    "\n",
    "script = f\"\"\"\n",
    "const docs = [{docs}]\n",
    "\n",
    "const slides = [{slides}]\n",
    "\"\"\" + \"\"\"\n",
    "async function run() {\n",
    "    for (let i = 0; i < docs.length; i++) {\n",
    "        let file = await fetch(docs[i]);\n",
    "        let text = await file.text()\n",
    "        document.getElementById(slides[i]).innerHTML =\n",
    "            marked.parse(text);\n",
    "    }\n",
    "    hljs.highlightAll();\n",
    "}\n",
    "run()\n",
    "\"\"\"\n",
    "\n",
    "page = f\"\"\"<!doctype html>\n",
    "<html lang=\"en\">\n",
    "\n",
    "<head>\n",
    "  <meta charset=\"utf-8\">\n",
    "  <meta name=\"viewport\" content=\"width=device-width, initial-scale=1\">\n",
    "  <!-- Bootstrap CSS -->\n",
    "  <link href=\"https://cdn.jsdelivr.net/npm/bootstrap@5.0.2/dist/css/bootstrap.min.css\" rel=\"stylesheet\"\n",
    "   integrity=\"sha384-EVSTQN3/azprG1Anm3QDgpJLIm9Nao0Yz1ztcQTwFspd3yD65VohhpuuCOmLASjC\" crossorigin=\"anonymous\">\n",
    "  <!-- highlight.js CSS -->\n",
    "  <link rel=\"stylesheet\" href=\"https://cdnjs.cloudflare.com/ajax/libs/highlight.js/11.1.0/styles/default.min.css\">\n",
    "  <!-- Mathjax 3 -->\n",
    "  <script type=\"text/javascript\" id=\"MathJax-config\" src=\"mathjax_config.js\"> </script>\n",
    "  <script type=\"text/javascript\" id=\"MathJax-script\" async \n",
    "    src=\"https://cdn.jsdelivr.net/npm/mathjax@3/es5/tex-mml-chtml.js\">\n",
    "  </script>\n",
    "  <link rel=\"stylesheet\" href=\"index_carousel.css\">\n",
    "  <link rel=\"icon\" type=\"image/x-icon\" href=\"https://www.mpia.de/assets/touch-icon-32x32-a66937bcebc4e8894ebff1f41a366c7c7220fd97a38869ee0f2db65a9f59b6c1.png\">\n",
    "  <title>MPIA Arxiv on deck!</title>\n",
    "</head>\n",
    "\n",
    "<body>\n",
    "  <div id=\"header\"> <img src=\"header_banner.png\" width=\"100%\"></div>\n",
    "  <div id=\"suptitle\"> 7-day archives </div>\n",
    "  <div id=\"info\">\n",
    "    <img src=\"https://pngimg.com/uploads/github/github_PNG58.png\" height=30rem></img>\n",
    "    <a href=https://github.com/mpi-astronomy/arxiv_display style=\"color:black;\">github/mpi-astronomy/arxiv_display</a> \n",
    "  </div>\n",
    "  {carousel:s}\n",
    "</body>\n",
    "\n",
    "<!-- Render Markdown -->\n",
    "\n",
    "<body>\n",
    "  <!-- highlight.js: https://highlightjs.org/download/ -->\n",
    "  <script src=\"https://cdnjs.cloudflare.com/ajax/libs/highlight.js/11.5.0/highlight.min.js\"></script>\n",
    "  <!-- marked.js -->\n",
    "  <script src=\"https://cdn.jsdelivr.net/npm/marked/marked.min.js\"></script>\n",
    "  <script>{script:s}</script>\n",
    "</body>\n",
    "</html>\n",
    "\"\"\"\n",
    "with open(\"_build/html/index_7days.html\", 'w') as fout:\n",
    "    fout.write(page)"
   ]
  },
  {
   "cell_type": "markdown",
   "id": "1cebacbc",
   "metadata": {
    "papermill": {
     "duration": 0.010259,
     "end_time": "2022-12-01T04:09:58.935385",
     "exception": false,
     "start_time": "2022-12-01T04:09:58.925126",
     "status": "completed"
    },
    "tags": []
   },
   "source": [
    "# Debugging papers"
   ]
  },
  {
   "cell_type": "raw",
   "id": "debe7cc6",
   "metadata": {
    "papermill": {
     "duration": 0.010268,
     "end_time": "2022-12-01T04:09:58.956008",
     "exception": false,
     "start_time": "2022-12-01T04:09:58.945740",
     "status": "completed"
    },
    "tags": []
   },
   "source": [
    "raise NotImplementedError(\"Manual Stop\")"
   ]
  },
  {
   "cell_type": "raw",
   "id": "eb169192",
   "metadata": {
    "papermill": {
     "duration": 0.010303,
     "end_time": "2022-12-01T04:09:58.976678",
     "exception": false,
     "start_time": "2022-12-01T04:09:58.966375",
     "status": "completed"
    },
    "scrolled": true,
    "tags": []
   },
   "source": [
    "from IPython.display import display, Markdown\n",
    "from TexSoup import TexSoup\n",
    "import re\n",
    "\n",
    "def bracket_error(source: str):\n",
    "    \"\"\" Find problematic portions of the document \"\"\"\n",
    "    \n",
    "    print(\"len(source)\", len(source))\n",
    "    \n",
    "    # Checking header\n",
    "    begin_doc = next(re.finditer(r'\\\\begin\\{document\\}', doc.source)).span()[1]\n",
    "    header = source[:begin_doc]\n",
    "    text = header + r\"\\n\\end{document}\"\n",
    "\n",
    "    try:\n",
    "        # print(\"Header check... \", end='')\n",
    "        TexSoup(text)\n",
    "        display(Markdown(f\"**[OK]** - Header\"))\n",
    "    except:\n",
    "        raise RuntimeError(\"Error in the header\")\n",
    "        \n",
    "    # Check the text per section until the end.\n",
    "    # Do not stop and try them all.\n",
    "    \n",
    "    problematic_text = []\n",
    "    \n",
    "    sections = ([(0, begin_doc, 'until first section')] + \n",
    "                [(g.span()[0], g.span()[1], g.group()) for g in re.finditer(r'\\\\section\\{.*\\}', source)] +\n",
    "                [(g.span()[0], g.span()[1], g.group()) for g in re.finditer(r'\\\\begin\\{appendix\\}', source)]\n",
    "               )\n",
    "    sections.append([len(source), len(source), 'end'])\n",
    "    \n",
    "    sections = sorted(sections, key=lambda x: x[0])\n",
    "    \n",
    "    prev_pos, prev_name = (0, 'header')\n",
    "    parsed = []\n",
    "    \n",
    "    for span, span_end, name in sections:\n",
    "\n",
    "        if span - prev_pos <= 0:\n",
    "            continue\n",
    "            \n",
    "\n",
    "        text = source[prev_pos:span]\n",
    "        if prev_pos > begin_doc:\n",
    "            text = r\"\\n\\begin{document}\" + text + r\"\\n\\end{document}\"\n",
    "        else:\n",
    "            text = text + r\"\\n\\end{document}\"\n",
    "        try:\n",
    "            #print(f\"{prev_pos}:{prev_name}-->{span}:{name} check... \", end='')\n",
    "            parsed.append(TexSoup(text, tolerance=1))  # allow not ending env\n",
    "            display(Markdown(f\"**[OK]** - *{prev_pos}*:{prev_name} &rarr; *{span}*:{name}\"))\n",
    "            # print(\"ok\")\n",
    "\n",
    "            prev_pos = span\n",
    "            prev_name = name\n",
    "        except:\n",
    "            # print(f\"error between {prev_pos} and {span}\")\n",
    "            display(Markdown(f\"**[ERR]** *{prev_pos}*:{prev_name} &rarr; *{span}*:{name}\"))\n",
    "            problematic_text.append((prev_pos, source[prev_pos:span]))\n",
    "            prev_pos = span\n",
    "            prev_name = name\n",
    "            # raise\n",
    "    return problematic_text, parsed\n",
    "\n",
    "\n",
    "def check_environment(text, offset=0):\n",
    "    \"\"\" Check environment \"\"\"\n",
    "    env = re.compile(r\"\\\\begin\\{(?P<env>.*)\\}(.*)\\\\end\\{(?P=env)\\}\", re.DOTALL)\n",
    "\n",
    "    for match in env.finditer(text):\n",
    "        beg, end = match.span()\n",
    "        beg += offset\n",
    "        end += offset\n",
    "        envname = match.groups()[0]\n",
    "        try:\n",
    "            latex.TexSoup(match.group())\n",
    "        except Exception as e:\n",
    "            display(e)\n",
    "            print(f\"Error in {envname:s} between {beg} and {end}\")\n",
    "            return match.groups()[1], beg, end"
   ]
  },
  {
   "cell_type": "raw",
   "id": "2315e835",
   "metadata": {
    "papermill": {
     "duration": 0.010408,
     "end_time": "2022-12-01T04:09:58.997403",
     "exception": false,
     "start_time": "2022-12-01T04:09:58.986995",
     "status": "completed"
    },
    "scrolled": false,
    "tags": []
   },
   "source": [
    "import importlib\n",
    "importlib.reload(latex)\n",
    "which = \"2204.03253\"\n",
    "paper_id = f'{which:s}'\n",
    "folder = f'tmp_{paper_id:s}'\n",
    "\n",
    "if not os.path.isdir(folder):\n",
    "    folder = retrieve_document_source(f\"{paper_id}\", f'tmp_{paper_id}')\n",
    "\n",
    "try:\n",
    "    doc = latex.LatexDocument(folder, validation=validation)    \n",
    "except AffiliationError as affilerror:\n",
    "    msg = f\"ArXiv:{paper_id:s} is not an MPIA paper... \" + str(affilerror)\n",
    "    print(msg)\n",
    "\n",
    "\n",
    "# Hack because sometimes author parsing does not work well\n",
    "if (len(doc.authors) != len(paper['authors'])):\n",
    "    doc._authors = paper['authors']\n",
    "if (doc.abstract) in (None, ''):\n",
    "    doc._abstract = paper['abstract']\n",
    "\n",
    "doc.comment = get_markdown_badge(paper_id) + \" _\" + paper['comments'] + \"_\"\n",
    "doc.highlight_authors_in_list(hl_list)\n",
    "\n",
    "full_md = doc.generate_markdown_text()"
   ]
  },
  {
   "cell_type": "raw",
   "id": "dd3781db",
   "metadata": {
    "papermill": {
     "duration": 0.010372,
     "end_time": "2022-12-01T04:09:59.018268",
     "exception": false,
     "start_time": "2022-12-01T04:09:59.007896",
     "status": "completed"
    },
    "scrolled": false,
    "tags": []
   },
   "source": [
    "doc"
   ]
  },
  {
   "cell_type": "raw",
   "id": "c6eed834",
   "metadata": {
    "papermill": {
     "duration": 0.010366,
     "end_time": "2022-12-01T04:09:59.039142",
     "exception": false,
     "start_time": "2022-12-01T04:09:59.028776",
     "status": "completed"
    },
    "tags": []
   },
   "source": [
    "# [check_environment(k) for k in bracket_error(doc.source)]\n",
    "_, _, a = latex.get_content_per_section(doc.source, verbose=True)\n",
    "if not a:\n",
    "    print(\"no issues per section\")\n",
    "for ak in a:\n",
    "    r = check_environment(ak[1], offset=ak[0])\n",
    "    print(r[1], r[2])\n",
    "    print(r[0])"
   ]
  },
  {
   "cell_type": "code",
   "execution_count": null,
   "id": "71ce768a",
   "metadata": {
    "papermill": {
     "duration": 0.010199,
     "end_time": "2022-12-01T04:09:59.059687",
     "exception": false,
     "start_time": "2022-12-01T04:09:59.049488",
     "status": "completed"
    },
    "tags": []
   },
   "outputs": [],
   "source": []
  }
 ],
 "metadata": {
  "kernelspec": {
   "display_name": "Python 3.10.6 64-bit",
   "language": "python",
   "name": "python3"
  },
  "language_info": {
   "codemirror_mode": {
    "name": "ipython",
    "version": 3
   },
   "file_extension": ".py",
   "mimetype": "text/x-python",
   "name": "python",
   "nbconvert_exporter": "python",
   "pygments_lexer": "ipython3",
   "version": "3.9.15"
  },
  "papermill": {
   "default_parameters": {},
   "duration": 139.149089,
   "end_time": "2022-12-01T04:09:59.290227",
   "environment_variables": {},
   "exception": null,
   "input_path": "MPIA daily digest.ipynb",
   "output_path": "log.ipynb",
   "parameters": {},
   "start_time": "2022-12-01T04:07:40.141138",
   "version": "2.4.0"
  },
  "vscode": {
   "interpreter": {
    "hash": "e7370f93d1d0cde622a1f8e1c04877d8463912d04d973331ad4851f04de6915a"
   }
  },
  "widgets": {
   "application/vnd.jupyter.widget-state+json": {
    "state": {
     "292e534cead34467ae48678c7dad70ab": {
      "model_module": "@jupyter-widgets/controls",
      "model_module_version": "2.0.0",
      "model_name": "ProgressStyleModel",
      "state": {
       "_model_module": "@jupyter-widgets/controls",
       "_model_module_version": "2.0.0",
       "_model_name": "ProgressStyleModel",
       "_view_count": null,
       "_view_module": "@jupyter-widgets/base",
       "_view_module_version": "2.0.0",
       "_view_name": "StyleView",
       "bar_color": null,
       "description_width": ""
      }
     },
     "35f42d0b638f4809bd10701ae304dcf7": {
      "model_module": "@jupyter-widgets/base",
      "model_module_version": "2.0.0",
      "model_name": "LayoutModel",
      "state": {
       "_model_module": "@jupyter-widgets/base",
       "_model_module_version": "2.0.0",
       "_model_name": "LayoutModel",
       "_view_count": null,
       "_view_module": "@jupyter-widgets/base",
       "_view_module_version": "2.0.0",
       "_view_name": "LayoutView",
       "align_content": null,
       "align_items": null,
       "align_self": null,
       "border_bottom": null,
       "border_left": null,
       "border_right": null,
       "border_top": null,
       "bottom": null,
       "display": null,
       "flex": null,
       "flex_flow": null,
       "grid_area": null,
       "grid_auto_columns": null,
       "grid_auto_flow": null,
       "grid_auto_rows": null,
       "grid_column": null,
       "grid_gap": null,
       "grid_row": null,
       "grid_template_areas": null,
       "grid_template_columns": null,
       "grid_template_rows": null,
       "height": null,
       "justify_content": null,
       "justify_items": null,
       "left": null,
       "margin": null,
       "max_height": null,
       "max_width": null,
       "min_height": null,
       "min_width": null,
       "object_fit": null,
       "object_position": null,
       "order": null,
       "overflow": null,
       "padding": null,
       "right": null,
       "top": null,
       "visibility": null,
       "width": null
      }
     },
     "4ec29037e6b241688dbd8682e484a387": {
      "model_module": "@jupyter-widgets/controls",
      "model_module_version": "2.0.0",
      "model_name": "HBoxModel",
      "state": {
       "_dom_classes": [],
       "_model_module": "@jupyter-widgets/controls",
       "_model_module_version": "2.0.0",
       "_model_name": "HBoxModel",
       "_view_count": null,
       "_view_module": "@jupyter-widgets/controls",
       "_view_module_version": "2.0.0",
       "_view_name": "HBoxView",
       "box_style": "",
       "children": [
        "IPY_MODEL_d10d8f5262694702acf10cf58f216461",
        "IPY_MODEL_cfe924e15a1945a7bf2ca49fa9f743a3",
        "IPY_MODEL_f2bab2388c4b4f7f8dbac47a09f06e9a"
       ],
       "layout": "IPY_MODEL_35f42d0b638f4809bd10701ae304dcf7",
       "tabbable": null,
       "tooltip": null
      }
     },
     "4fcf80d7bff44966ab32a2ade4a21b12": {
      "model_module": "@jupyter-widgets/base",
      "model_module_version": "2.0.0",
      "model_name": "LayoutModel",
      "state": {
       "_model_module": "@jupyter-widgets/base",
       "_model_module_version": "2.0.0",
       "_model_name": "LayoutModel",
       "_view_count": null,
       "_view_module": "@jupyter-widgets/base",
       "_view_module_version": "2.0.0",
       "_view_name": "LayoutView",
       "align_content": null,
       "align_items": null,
       "align_self": null,
       "border_bottom": null,
       "border_left": null,
       "border_right": null,
       "border_top": null,
       "bottom": null,
       "display": null,
       "flex": null,
       "flex_flow": null,
       "grid_area": null,
       "grid_auto_columns": null,
       "grid_auto_flow": null,
       "grid_auto_rows": null,
       "grid_column": null,
       "grid_gap": null,
       "grid_row": null,
       "grid_template_areas": null,
       "grid_template_columns": null,
       "grid_template_rows": null,
       "height": null,
       "justify_content": null,
       "justify_items": null,
       "left": null,
       "margin": null,
       "max_height": null,
       "max_width": null,
       "min_height": null,
       "min_width": null,
       "object_fit": null,
       "object_position": null,
       "order": null,
       "overflow": null,
       "padding": null,
       "right": null,
       "top": null,
       "visibility": null,
       "width": null
      }
     },
     "593c3b45ef85414f85a9f64a2d53e6ec": {
      "model_module": "@jupyter-widgets/base",
      "model_module_version": "2.0.0",
      "model_name": "LayoutModel",
      "state": {
       "_model_module": "@jupyter-widgets/base",
       "_model_module_version": "2.0.0",
       "_model_name": "LayoutModel",
       "_view_count": null,
       "_view_module": "@jupyter-widgets/base",
       "_view_module_version": "2.0.0",
       "_view_name": "LayoutView",
       "align_content": null,
       "align_items": null,
       "align_self": null,
       "border_bottom": null,
       "border_left": null,
       "border_right": null,
       "border_top": null,
       "bottom": null,
       "display": null,
       "flex": null,
       "flex_flow": null,
       "grid_area": null,
       "grid_auto_columns": null,
       "grid_auto_flow": null,
       "grid_auto_rows": null,
       "grid_column": null,
       "grid_gap": null,
       "grid_row": null,
       "grid_template_areas": null,
       "grid_template_columns": null,
       "grid_template_rows": null,
       "height": null,
       "justify_content": null,
       "justify_items": null,
       "left": null,
       "margin": null,
       "max_height": null,
       "max_width": null,
       "min_height": null,
       "min_width": null,
       "object_fit": null,
       "object_position": null,
       "order": null,
       "overflow": null,
       "padding": null,
       "right": null,
       "top": null,
       "visibility": null,
       "width": null
      }
     },
     "b995fe4958834891a11e25f0c6670959": {
      "model_module": "@jupyter-widgets/base",
      "model_module_version": "2.0.0",
      "model_name": "LayoutModel",
      "state": {
       "_model_module": "@jupyter-widgets/base",
       "_model_module_version": "2.0.0",
       "_model_name": "LayoutModel",
       "_view_count": null,
       "_view_module": "@jupyter-widgets/base",
       "_view_module_version": "2.0.0",
       "_view_name": "LayoutView",
       "align_content": null,
       "align_items": null,
       "align_self": null,
       "border_bottom": null,
       "border_left": null,
       "border_right": null,
       "border_top": null,
       "bottom": null,
       "display": null,
       "flex": null,
       "flex_flow": null,
       "grid_area": null,
       "grid_auto_columns": null,
       "grid_auto_flow": null,
       "grid_auto_rows": null,
       "grid_column": null,
       "grid_gap": null,
       "grid_row": null,
       "grid_template_areas": null,
       "grid_template_columns": null,
       "grid_template_rows": null,
       "height": null,
       "justify_content": null,
       "justify_items": null,
       "left": null,
       "margin": null,
       "max_height": null,
       "max_width": null,
       "min_height": null,
       "min_width": null,
       "object_fit": null,
       "object_position": null,
       "order": null,
       "overflow": null,
       "padding": null,
       "right": null,
       "top": null,
       "visibility": null,
       "width": null
      }
     },
     "be275a5f77da4a29b1c6553a08eba809": {
      "model_module": "@jupyter-widgets/controls",
      "model_module_version": "2.0.0",
      "model_name": "HTMLStyleModel",
      "state": {
       "_model_module": "@jupyter-widgets/controls",
       "_model_module_version": "2.0.0",
       "_model_name": "HTMLStyleModel",
       "_view_count": null,
       "_view_module": "@jupyter-widgets/base",
       "_view_module_version": "2.0.0",
       "_view_name": "StyleView",
       "background": null,
       "description_width": "",
       "font_size": null,
       "text_color": null
      }
     },
     "cfe924e15a1945a7bf2ca49fa9f743a3": {
      "model_module": "@jupyter-widgets/controls",
      "model_module_version": "2.0.0",
      "model_name": "FloatProgressModel",
      "state": {
       "_dom_classes": [],
       "_model_module": "@jupyter-widgets/controls",
       "_model_module_version": "2.0.0",
       "_model_name": "FloatProgressModel",
       "_view_count": null,
       "_view_module": "@jupyter-widgets/controls",
       "_view_module_version": "2.0.0",
       "_view_name": "ProgressView",
       "bar_style": "success",
       "description": "",
       "description_allow_html": false,
       "layout": "IPY_MODEL_b995fe4958834891a11e25f0c6670959",
       "max": 24.0,
       "min": 0.0,
       "orientation": "horizontal",
       "style": "IPY_MODEL_292e534cead34467ae48678c7dad70ab",
       "tabbable": null,
       "tooltip": null,
       "value": 24.0
      }
     },
     "d10d8f5262694702acf10cf58f216461": {
      "model_module": "@jupyter-widgets/controls",
      "model_module_version": "2.0.0",
      "model_name": "HTMLModel",
      "state": {
       "_dom_classes": [],
       "_model_module": "@jupyter-widgets/controls",
       "_model_module_version": "2.0.0",
       "_model_name": "HTMLModel",
       "_view_count": null,
       "_view_module": "@jupyter-widgets/controls",
       "_view_module_version": "2.0.0",
       "_view_name": "HTMLView",
       "description": "",
       "description_allow_html": false,
       "layout": "IPY_MODEL_593c3b45ef85414f85a9f64a2d53e6ec",
       "placeholder": "​",
       "style": "IPY_MODEL_be275a5f77da4a29b1c6553a08eba809",
       "tabbable": null,
       "tooltip": null,
       "value": "100%"
      }
     },
     "d7f648f03ced4acba1f24c042e62f095": {
      "model_module": "@jupyter-widgets/controls",
      "model_module_version": "2.0.0",
      "model_name": "HTMLStyleModel",
      "state": {
       "_model_module": "@jupyter-widgets/controls",
       "_model_module_version": "2.0.0",
       "_model_name": "HTMLStyleModel",
       "_view_count": null,
       "_view_module": "@jupyter-widgets/base",
       "_view_module_version": "2.0.0",
       "_view_name": "StyleView",
       "background": null,
       "description_width": "",
       "font_size": null,
       "text_color": null
      }
     },
     "f2bab2388c4b4f7f8dbac47a09f06e9a": {
      "model_module": "@jupyter-widgets/controls",
      "model_module_version": "2.0.0",
      "model_name": "HTMLModel",
      "state": {
       "_dom_classes": [],
       "_model_module": "@jupyter-widgets/controls",
       "_model_module_version": "2.0.0",
       "_model_name": "HTMLModel",
       "_view_count": null,
       "_view_module": "@jupyter-widgets/controls",
       "_view_module_version": "2.0.0",
       "_view_name": "HTMLView",
       "description": "",
       "description_allow_html": false,
       "layout": "IPY_MODEL_4fcf80d7bff44966ab32a2ade4a21b12",
       "placeholder": "​",
       "style": "IPY_MODEL_d7f648f03ced4acba1f24c042e62f095",
       "tabbable": null,
       "tooltip": null,
       "value": " 24/24 [01:49&lt;00:00,  8.50s/it]"
      }
     }
    },
    "version_major": 2,
    "version_minor": 0
   }
  }
 },
 "nbformat": 4,
 "nbformat_minor": 5
}