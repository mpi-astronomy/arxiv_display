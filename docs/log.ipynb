{
 "cells": [
  {
   "cell_type": "markdown",
   "id": "92bcb855",
   "metadata": {
    "papermill": {
     "duration": 0.003894,
     "end_time": "2025-06-10T04:19:21.209242",
     "exception": false,
     "start_time": "2025-06-10T04:19:21.205348",
     "status": "completed"
    },
    "tags": []
   },
   "source": [
    "# MPIA Arxiv on Deck 2\n",
    "\n",
    "Contains the steps to produce the paper extractions."
   ]
  },
  {
   "cell_type": "code",
   "execution_count": 1,
   "id": "3a0d6e11",
   "metadata": {
    "execution": {
     "iopub.execute_input": "2025-06-10T04:19:21.216644Z",
     "iopub.status.busy": "2025-06-10T04:19:21.216074Z",
     "iopub.status.idle": "2025-06-10T04:19:21.680023Z",
     "shell.execute_reply": "2025-06-10T04:19:21.679425Z"
    },
    "papermill": {
     "duration": 0.468742,
     "end_time": "2025-06-10T04:19:21.681267",
     "exception": false,
     "start_time": "2025-06-10T04:19:21.212525",
     "status": "completed"
    },
    "tags": []
   },
   "outputs": [],
   "source": [
    "# Imports\n",
    "import os\n",
    "from IPython.display import Markdown, display\n",
    "from tqdm.notebook import tqdm\n",
    "import warnings\n",
    "from PIL import Image \n",
    "import re\n",
    "\n",
    "# requires arxiv_on_deck_2\n",
    "\n",
    "from arxiv_on_deck_2.arxiv2 import (get_new_papers, \n",
    "                                    get_paper_from_identifier,\n",
    "                                    retrieve_document_source, \n",
    "                                    get_markdown_badge)\n",
    "from arxiv_on_deck_2 import (latex,\n",
    "                             latex_bib,\n",
    "                             mpia,\n",
    "                             highlight_authors_in_list)\n",
    "\n",
    "# Sometimes images are really big\n",
    "Image.MAX_IMAGE_PIXELS = 1000000000 "
   ]
  },
  {
   "cell_type": "code",
   "execution_count": 2,
   "id": "22aa9d44",
   "metadata": {
    "execution": {
     "iopub.execute_input": "2025-06-10T04:19:21.688717Z",
     "iopub.status.busy": "2025-06-10T04:19:21.688156Z",
     "iopub.status.idle": "2025-06-10T04:19:21.696310Z",
     "shell.execute_reply": "2025-06-10T04:19:21.695668Z"
    },
    "papermill": {
     "duration": 0.012795,
     "end_time": "2025-06-10T04:19:21.697335",
     "exception": false,
     "start_time": "2025-06-10T04:19:21.684540",
     "status": "completed"
    },
    "tags": []
   },
   "outputs": [],
   "source": [
    "# Some useful definitions.\n",
    "\n",
    "class AffiliationWarning(UserWarning):\n",
    "    pass\n",
    "\n",
    "class AffiliationError(RuntimeError):\n",
    "    pass\n",
    "\n",
    "def validation(source: str):\n",
    "    \"\"\"Raises error paper during parsing of source file\n",
    "    \n",
    "    Allows checks before parsing TeX code.\n",
    "    \n",
    "    Raises AffiliationWarning\n",
    "    \"\"\"\n",
    "    check = mpia.affiliation_verifications(source, verbose=True)\n",
    "    if check is not True:\n",
    "        raise AffiliationError(\"mpia.affiliation_verifications: \" + check)\n",
    "\n",
    "        \n",
    "warnings.simplefilter('always', AffiliationWarning)\n",
    "\n",
    "\n",
    "def get_markdown_qrcode(paper_id: str):\n",
    "    \"\"\" Generate a qrcode to the arxiv page using qrserver.com\n",
    "    \n",
    "    :param paper: Arxiv paper\n",
    "    :returns: markdown text\n",
    "    \"\"\"\n",
    "    url = r\"https://api.qrserver.com/v1/create-qr-code/?size=100x100&data=\"\n",
    "    txt = f\"\"\"<img src={url}\"https://arxiv.org/abs/{paper_id}\">\"\"\"\n",
    "    txt = '<div id=\"qrcode\">' + txt + '</div>'\n",
    "    return txt\n",
    "\n",
    "\n",
    "def clean_non_western_encoded_characters_commands(text: str) -> str:\n",
    "    \"\"\" Remove non-western encoded characters from a string\n",
    "    List may need to grow.\n",
    "    \n",
    "    :param text: the text to clean\n",
    "    :return: the cleaned text\n",
    "    \"\"\"\n",
    "    text = re.sub(r\"(\\\\begin{CJK}{UTF8}{gbsn})(.*?)(\\\\end{CJK})\", r\"\\2\", text)\n",
    "    return text\n",
    "\n",
    "\n",
    "def get_initials(name: str) -> str:\n",
    "    \"\"\" Get the short name, e.g., A.-B. FamName\n",
    "    :param name: full name\n",
    "    :returns: initials\n",
    "    \"\"\"\n",
    "    initials = []\n",
    "    # account for non western names often in ()\n",
    "    if '(' in name:\n",
    "        name = clean_non_western_encoded_characters_commands(name)\n",
    "        suffix = re.findall(r\"\\((.*?)\\)\", name)[0]\n",
    "        name = name.replace(f\"({suffix})\", '')\n",
    "    else:\n",
    "        suffix = ''\n",
    "    split = name.split()\n",
    "    for token in split[:-1]:\n",
    "        if '-' in token:\n",
    "            current = '-'.join([k[0] + '.' for k in token.split('-')])\n",
    "        else:\n",
    "            current = token[0] + '.'\n",
    "        initials.append(current)\n",
    "    initials.append(split[-1].strip())\n",
    "    if suffix:\n",
    "        initials.append(f\"({suffix})\")\n",
    "    return ' '.join(initials)"
   ]
  },
  {
   "cell_type": "markdown",
   "id": "14bd6310",
   "metadata": {
    "papermill": {
     "duration": 0.002866,
     "end_time": "2025-06-10T04:19:21.703148",
     "exception": false,
     "start_time": "2025-06-10T04:19:21.700282",
     "status": "completed"
    },
    "tags": []
   },
   "source": [
    "## get list of arxiv paper candidates\n",
    "\n",
    "We use the MPIA mitarbeiter list webpage from mpia.de to get author names\n",
    "We then get all new papers from Arxiv and match authors"
   ]
  },
  {
   "cell_type": "code",
   "execution_count": 3,
   "id": "7ea813a8",
   "metadata": {
    "execution": {
     "iopub.execute_input": "2025-06-10T04:19:21.709961Z",
     "iopub.status.busy": "2025-06-10T04:19:21.709549Z",
     "iopub.status.idle": "2025-06-10T04:20:22.820665Z",
     "shell.execute_reply": "2025-06-10T04:20:22.820001Z"
    },
    "papermill": {
     "duration": 61.115771,
     "end_time": "2025-06-10T04:20:22.821864",
     "exception": false,
     "start_time": "2025-06-10T04:19:21.706093",
     "status": "completed"
    },
    "tags": []
   },
   "outputs": [],
   "source": [
    "# deal with the author list and edge cases of people that cannot be consistent on their name  \n",
    "\n",
    "def filter_non_scientists(name: str) -> bool:\n",
    "    \"\"\" Loose filter on expected authorships\n",
    "\n",
    "    removing IT, administration, technical staff\n",
    "    :param name: name\n",
    "    :returns: False if name is not a scientist\n",
    "    \"\"\"\n",
    "    remove_list = ['Licht', 'Binroth', 'Witzel', 'Jordan',\n",
    "                   'Zähringer', 'Scheerer', 'Hoffmann', 'Düe',\n",
    "                   'Hellmich', 'Enkler-Scharpegge', 'Witte-Nguy',\n",
    "                   'Dehen', 'Beckmann', 'Jager', 'Jäger'\n",
    "                  ]\n",
    "\n",
    "    for k in remove_list:\n",
    "        if k in name:\n",
    "            return False\n",
    "    return True\n",
    "\n",
    "def add_author_to_list(author_list: list) -> list:\n",
    "    \"\"\" Add author to list if not already in list\n",
    "    \n",
    "    :param author: author name\n",
    "    :param author_list: list of authors\n",
    "    :returns: updated list of authors\n",
    "    \"\"\"\n",
    "    add_list = ['T. Henning']\n",
    "\n",
    "    for author in add_list:\n",
    "        if author not in author_list:\n",
    "            author_list.append(author)\n",
    "    return author_list\n",
    "\n",
    "# get list from MPIA website\n",
    "# filter for non-scientists (mpia.get_mpia_mitarbeiter_list() does some filtering)\n",
    "mpia_authors = [k[1] for k in mpia.get_mpia_mitarbeiter_list() if filter_non_scientists(k[1])]\n",
    "# add some missing author because of inconsistencies in their MPIA name and author name on papers\n",
    "mpia_authors = add_author_to_list(mpia_authors)"
   ]
  },
  {
   "cell_type": "code",
   "execution_count": 4,
   "id": "2645e73a",
   "metadata": {
    "execution": {
     "iopub.execute_input": "2025-06-10T04:20:22.829222Z",
     "iopub.status.busy": "2025-06-10T04:20:22.828802Z",
     "iopub.status.idle": "2025-06-10T04:20:23.706509Z",
     "shell.execute_reply": "2025-06-10T04:20:23.705917Z"
    },
    "papermill": {
     "duration": 0.882362,
     "end_time": "2025-06-10T04:20:23.707518",
     "exception": false,
     "start_time": "2025-06-10T04:20:22.825156",
     "status": "completed"
    },
    "tags": []
   },
   "outputs": [
    {
     "name": "stdout",
     "output_type": "stream",
     "text": [
      "E. Bañados  ->  E. Bañados  |  ['E. Bañados']\n",
      "M. Benisty  ->  M. Benisty  |  ['M. Benisty']\n",
      "Y. Wang  ->  Y. Wang  |  ['Y. Wang']\n",
      "B. Saha  ->  B. Saha  |  ['B. Saha']\n",
      "J. Liu  ->  J. Liu  |  ['J. Liu']\n"
     ]
    },
    {
     "name": "stdout",
     "output_type": "stream",
     "text": [
      "G. Guiglion  ->  G. Guiglion  |  ['G. Guiglion']\n",
      "X. Zhang  ->  X. Zhang  |  ['X. Zhang']\n",
      "Y. Wang  ->  Y. Wang  |  ['Y. Wang']\n",
      "X. Zhang  ->  X. Zhang  |  ['X. Zhang']\n",
      "Arxiv has 78 new papers today\n",
      "          8 with possible author matches\n"
     ]
    }
   ],
   "source": [
    "new_papers = get_new_papers()\n",
    "# add manual references\n",
    "add_paper_refs = []\n",
    "new_papers.extend([get_paper_from_identifier(k) for k in add_paper_refs])\n",
    "\n",
    "def robust_call(fn, value, *args, **kwargs):\n",
    "    try:\n",
    "        return fn(value, *args, **kwargs)\n",
    "    except Exception:\n",
    "        return value\n",
    "\n",
    "candidates = []\n",
    "for paperk in new_papers:\n",
    "    # Check author list with their initials\n",
    "    normed_author_list = [robust_call(mpia.get_initials, k) for k in paperk['authors']]\n",
    "    hl_authors = highlight_authors_in_list(normed_author_list, mpia_authors, verbose=True)\n",
    "    matches = [(hl, orig) for hl, orig in zip(hl_authors, paperk['authors']) if 'mark' in hl]\n",
    "    paperk['authors'] = hl_authors\n",
    "    if matches:\n",
    "        # only select paper if an author matched our list\n",
    "        candidates.append(paperk)\n",
    "print(\"\"\"Arxiv has {0:,d} new papers today\"\"\".format(len(new_papers)))        \n",
    "print(\"\"\"          {0:,d} with possible author matches\"\"\".format(len(candidates)))"
   ]
  },
  {
   "cell_type": "markdown",
   "id": "3543b34a",
   "metadata": {
    "papermill": {
     "duration": 0.003176,
     "end_time": "2025-06-10T04:20:23.714112",
     "exception": false,
     "start_time": "2025-06-10T04:20:23.710936",
     "status": "completed"
    },
    "tags": []
   },
   "source": [
    "# Parse sources and generate relevant outputs\n",
    "\n",
    "From the candidates, we do the following steps:\n",
    "* get their tarball from ArXiv (and extract data)\n",
    "* find the main .tex file: find one with \\documentclass{...} (sometimes it's non trivial)\n",
    "* Check affiliations with :func:`validation`, which uses :func:`mpia.affiliation_verifications`\n",
    "* If passing the affiliations: we parse the .tex source\n",
    "   * inject sub-documents into the main (flatten the main document)\n",
    "   * parse structure, extract information (title, abstract, authors, figures...)\n",
    "   * handles `\\graphicspath` if provided\n",
    "* Generate the .md document."
   ]
  },
  {
   "cell_type": "code",
   "execution_count": 5,
   "id": "9576b79e",
   "metadata": {
    "execution": {
     "iopub.execute_input": "2025-06-10T04:20:23.721378Z",
     "iopub.status.busy": "2025-06-10T04:20:23.721027Z",
     "iopub.status.idle": "2025-06-10T04:22:55.547413Z",
     "shell.execute_reply": "2025-06-10T04:22:55.546625Z"
    },
    "papermill": {
     "duration": 151.831291,
     "end_time": "2025-06-10T04:22:55.548508",
     "exception": false,
     "start_time": "2025-06-10T04:20:23.717217",
     "status": "completed"
    },
    "scrolled": false,
    "tags": []
   },
   "outputs": [
    {
     "data": {
      "application/vnd.jupyter.widget-view+json": {
       "model_id": "615fd92bf2f24e46afe25abbc0c4b5fc",
       "version_major": 2,
       "version_minor": 0
      },
      "text/plain": [
       "  0%|          | 0/8 [00:00<?, ?it/s]"
      ]
     },
     "metadata": {},
     "output_type": "display_data"
    },
    {
     "name": "stdout",
     "output_type": "stream",
     "text": [
      "Retrieving document from  https://arxiv.org/e-print/2506.06418\n"
     ]
    },
    {
     "name": "stdout",
     "output_type": "stream",
     "text": [
      "extracting tarball to tmp_2506.06418..."
     ]
    },
    {
     "name": "stdout",
     "output_type": "stream",
     "text": [
      " done.\n"
     ]
    },
    {
     "name": "stderr",
     "output_type": "stream",
     "text": [
      "/opt/hostedtoolcache/Python/3.9.22/x64/lib/python3.9/site-packages/IPython/core/interactiveshell.py:3550: LatexWarning: Multiple tex files.\n",
      "\n",
      "  exec(code_obj, self.user_global_ns, self.user_ns)\n",
      "/opt/hostedtoolcache/Python/3.9.22/x64/lib/python3.9/site-packages/IPython/core/interactiveshell.py:3550: LatexWarning: Found documentclass in tmp_2506.06418/00_main.tex\n",
      "\n",
      "  exec(code_obj, self.user_global_ns, self.user_ns)\n",
      "/opt/hostedtoolcache/Python/3.9.22/x64/lib/python3.9/site-packages/arxiv_on_deck_2/latex.py:414: LatexWarning: Latex injecting: '05_sum' from 'tmp_2506.06418/05_sum.tex'\n",
      "  warnings.warn(LatexWarning(f\"Latex injecting: '{ext}' from '{subsource}'\"))\n",
      "/opt/hostedtoolcache/Python/3.9.22/x64/lib/python3.9/site-packages/arxiv_on_deck_2/latex.py:414: LatexWarning: Latex injecting: '04_discuss' from 'tmp_2506.06418/04_discuss.tex'\n",
      "  warnings.warn(LatexWarning(f\"Latex injecting: '{ext}' from '{subsource}'\"))\n",
      "/opt/hostedtoolcache/Python/3.9.22/x64/lib/python3.9/site-packages/arxiv_on_deck_2/latex.py:414: LatexWarning: Latex injecting: '03_result' from 'tmp_2506.06418/03_result.tex'\n",
      "  warnings.warn(LatexWarning(f\"Latex injecting: '{ext}' from '{subsource}'\"))\n",
      "/opt/hostedtoolcache/Python/3.9.22/x64/lib/python3.9/site-packages/arxiv_on_deck_2/latex.py:414: LatexWarning: Latex injecting: '02_obs' from 'tmp_2506.06418/02_obs.tex'\n",
      "  warnings.warn(LatexWarning(f\"Latex injecting: '{ext}' from '{subsource}'\"))\n",
      "/opt/hostedtoolcache/Python/3.9.22/x64/lib/python3.9/site-packages/arxiv_on_deck_2/latex.py:414: LatexWarning: Latex injecting: '01_intro' from 'tmp_2506.06418/01_intro.tex'\n",
      "  warnings.warn(LatexWarning(f\"Latex injecting: '{ext}' from '{subsource}'\"))\n"
     ]
    },
    {
     "name": "stdout",
     "output_type": "stream",
     "text": [
      "Found 156 bibliographic references in tmp_2506.06418/00_main.bbl.\n",
      "Issues with the citations\n",
      "syntax error in line 25: '=' expected\n",
      "Retrieving document from  https://arxiv.org/e-print/2506.06433\n"
     ]
    },
    {
     "name": "stderr",
     "output_type": "stream",
     "text": [
      "/opt/hostedtoolcache/Python/3.9.22/x64/lib/python3.9/site-packages/arxiv_on_deck_2/latex_bib.py:132: UserWarning: Error processing bibitem\n",
      " item = \\bibitem[{F. {Wang} {et~al.}(in prep.){Wang}, {Yang}, {Hennawi}, {Fan}, {Sun},  {Champagne}, {Costa}, {Habouzit}, {Endsley}, {Li}, {Lin}, {Meyer},  {Schindler}, {Wu}, {Ba{ñ}ados}, {Barth}, {Bhowmick}, {Bieri}, {Blecha},  {Bosman}, {Cai}, {Colina}, {Connor}, {Davies}, {Decarli}, {De Rosa}, {Drake},  {Egami}, {Eilers}, {Evans}, {Farina}, {Haiman}, {Jiang}, {Jin}, {Jun},  {Kakiichi}, {Khusanova}, {Kulkarni}, {Li}, {Liu}, {Loiacono}, {Lupi},  {Mazzucchelli}, {Onoue}, {Pudoka}, {Rojas-Ruiz}, {Shen}, {Strauss}, {Tee},  {Trakhtenbrot}, {Trebitsch}, {Venemans}, {Volonteri}, {Walter}, {Xie}, {Yue},  {Zhang}, {Zhang},  {Zou}}]{wangfprep}{Wang}, F., {Yang}, J., {Hennawi}, J.~F., {et~al.} in prep., \\bibinfo{title}{{A  SPectroscopic Survey of Biased Halos in the Reionization Era (ASPIRE):  Program Overview},}\n",
      " regex = \n",
      "        \\\\bibitem(\\[[^\\[\\]]*?\\]){(?P<bibkey>[a-zA-Z0-9\\-\\+\\.\\S]+?)}(?P<authors>|([\\D]*?))(?P<year>[12][0-9]{3})(?P<rest>.*)\n",
      "        \n",
      "  warnings.warn(str(e))\n",
      "/opt/hostedtoolcache/Python/3.9.22/x64/lib/python3.9/site-packages/arxiv_on_deck_2/latex_bib.py:132: UserWarning: Error processing bibitem\n",
      " item = \\bibitem[{J. {Yang} {et~al.}(in prep.){Yang}, {Wang}, {Hennawi}, {Fan}, {Sun},  {Champagne}, {Costa}, {Habouzit}, {Endsley}, {Li}, {Lin}, {Meyer},  {Schindler}, {Wu}, {Ba{ñ}ados}, {Barth}, {Bhowmick}, {Bieri}, {Blecha},  {Bosman}, {Cai}, {Colina}, {Connor}, {Davies}, {Decarli}, {De Rosa}, {Drake},  {Egami}, {Eilers}, {Evans}, {Farina}, {Haiman}, {Jiang}, {Jin}, {Jun},  {Kakiichi}, {Khusanova}, {Kulkarni}, {Li}, {Liu}, {Loiacono}, {Lupi},  {Mazzucchelli}, {Onoue}, {Pudoka}, {Rojas-Ruiz}, {Shen}, {Strauss}, {Tee},  {Trakhtenbrot}, {Trebitsch}, {Venemans}, {Volonteri}, {Walter}, {Xie}, {Yue},  {Zhang}, {Zhang},  {Zou}}]{yangjprep}{Yang}, J., {Wang}, F., {Hennawi}, J.~F., {et~al.} in prep., \\bibinfo{title}{{A  SPectroscopic Survey of Biased Halos in the Reionization Era (ASPIRE): Quasar  Host},}\n",
      " regex = \n",
      "        \\\\bibitem(\\[[^\\[\\]]*?\\]){(?P<bibkey>[a-zA-Z0-9\\-\\+\\.\\S]+?)}(?P<authors>|([\\D]*?))(?P<year>[12][0-9]{3})(?P<rest>.*)\n",
      "        \n",
      "  warnings.warn(str(e))\n"
     ]
    },
    {
     "name": "stdout",
     "output_type": "stream",
     "text": [
      "extracting tarball to tmp_2506.06433... done.\n"
     ]
    },
    {
     "name": "stdout",
     "output_type": "stream",
     "text": [
      "M. Benisty  ->  M. Benisty  |  ['M. Benisty']\n"
     ]
    },
    {
     "name": "stdout",
     "output_type": "stream",
     "text": [
      "Issues with the citations\n",
      "list index out of range\n",
      "Retrieving document from  https://arxiv.org/e-print/2506.06453\n"
     ]
    },
    {
     "name": "stdout",
     "output_type": "stream",
     "text": [
      "extracting tarball to tmp_2506.06453..."
     ]
    },
    {
     "name": "stdout",
     "output_type": "stream",
     "text": [
      " done.\n",
      "Retrieving document from  https://arxiv.org/e-print/2506.06717\n"
     ]
    },
    {
     "name": "stderr",
     "output_type": "stream",
     "text": [
      "/opt/hostedtoolcache/Python/3.9.22/x64/lib/python3.9/site-packages/IPython/core/interactiveshell.py:3550: LatexWarning: Multiple tex files.\n",
      "\n",
      "  exec(code_obj, self.user_global_ns, self.user_ns)\n",
      "/opt/hostedtoolcache/Python/3.9.22/x64/lib/python3.9/site-packages/IPython/core/interactiveshell.py:3550: LatexWarning: Found documentclass in tmp_2506.06453/main.tex\n",
      "\n",
      "  exec(code_obj, self.user_global_ns, self.user_ns)\n",
      "/opt/hostedtoolcache/Python/3.9.22/x64/lib/python3.9/site-packages/arxiv_on_deck_2/latex.py:414: LatexWarning: Latex injecting: 'astrometry.tex' from 'tmp_2506.06453/astrometry.tex'\n",
      "  warnings.warn(LatexWarning(f\"Latex injecting: '{ext}' from '{subsource}'\"))\n",
      "/opt/hostedtoolcache/Python/3.9.22/x64/lib/python3.9/site-packages/arxiv_on_deck_2/latex.py:414: LatexWarning: Latex injecting: 'all_models_figure.tex' from 'tmp_2506.06453/all_models_figure.tex'\n",
      "  warnings.warn(LatexWarning(f\"Latex injecting: '{ext}' from '{subsource}'\"))\n",
      "/opt/hostedtoolcache/Python/3.9.22/x64/lib/python3.9/site-packages/arxiv_on_deck_2/latex.py:414: LatexWarning: Latex injecting: 'offset_population_summary' from 'tmp_2506.06453/offset_population_summary.tex'\n",
      "  warnings.warn(LatexWarning(f\"Latex injecting: '{ext}' from '{subsource}'\"))\n",
      "/opt/hostedtoolcache/Python/3.9.22/x64/lib/python3.9/site-packages/arxiv_on_deck_2/latex.py:414: LatexWarning: Latex injecting: 'statistical_selections' from 'tmp_2506.06453/statistical_selections.tex'\n",
      "  warnings.warn(LatexWarning(f\"Latex injecting: '{ext}' from '{subsource}'\"))\n",
      "/opt/hostedtoolcache/Python/3.9.22/x64/lib/python3.9/site-packages/arxiv_on_deck_2/latex.py:414: LatexWarning: Latex injecting: 'offsets' from 'tmp_2506.06453/offsets.tex'\n",
      "  warnings.warn(LatexWarning(f\"Latex injecting: '{ext}' from '{subsource}'\"))\n",
      "/opt/hostedtoolcache/Python/3.9.22/x64/lib/python3.9/site-packages/arxiv_on_deck_2/latex.py:414: LatexWarning: Latex injecting: 'host_properties' from 'tmp_2506.06453/host_properties.tex'\n",
      "  warnings.warn(LatexWarning(f\"Latex injecting: '{ext}' from '{subsource}'\"))\n",
      "/opt/hostedtoolcache/Python/3.9.22/x64/lib/python3.9/site-packages/arxiv_on_deck_2/latex.py:414: LatexWarning: Latex injecting: 'new_observations.tex' from 'tmp_2506.06453/new_observations.tex'\n",
      "  warnings.warn(LatexWarning(f\"Latex injecting: '{ext}' from '{subsource}'\"))\n",
      "/opt/hostedtoolcache/Python/3.9.22/x64/lib/python3.9/site-packages/arxiv_on_deck_2/latex.py:414: LatexWarning: Latex injecting: 'sample.tex' from 'tmp_2506.06453/sample.tex'\n",
      "  warnings.warn(LatexWarning(f\"Latex injecting: '{ext}' from '{subsource}'\"))\n",
      "/opt/hostedtoolcache/Python/3.9.22/x64/lib/python3.9/site-packages/arxiv_on_deck_2/latex.py:414: LatexWarning: Latex injecting: 'authors.tex' from 'tmp_2506.06453/authors.tex'\n",
      "  warnings.warn(LatexWarning(f\"Latex injecting: '{ext}' from '{subsource}'\"))\n",
      "/opt/hostedtoolcache/Python/3.9.22/x64/lib/python3.9/site-packages/arxiv_on_deck_2/latex.py:414: LatexWarning: Latex injecting: 'affiliation.tex' from 'tmp_2506.06453/affiliation.tex'\n",
      "  warnings.warn(LatexWarning(f\"Latex injecting: '{ext}' from '{subsource}'\"))\n"
     ]
    },
    {
     "name": "stdout",
     "output_type": "stream",
     "text": [
      "extracting tarball to tmp_2506.06717... done.\n",
      "Retrieving document from  https://arxiv.org/e-print/2506.07383\n"
     ]
    },
    {
     "name": "stdout",
     "output_type": "stream",
     "text": [
      "extracting tarball to tmp_2506.07383..."
     ]
    },
    {
     "name": "stdout",
     "output_type": "stream",
     "text": [
      " done.\n",
      "Retrieving document from  https://arxiv.org/e-print/2506.07845\n"
     ]
    },
    {
     "name": "stdout",
     "output_type": "stream",
     "text": [
      "extracting tarball to tmp_2506.07845..."
     ]
    },
    {
     "name": "stdout",
     "output_type": "stream",
     "text": [
      " done.\n"
     ]
    },
    {
     "name": "stderr",
     "output_type": "stream",
     "text": [
      "/opt/hostedtoolcache/Python/3.9.22/x64/lib/python3.9/site-packages/IPython/core/interactiveshell.py:3550: LatexWarning: Multiple tex files.\n",
      "\n",
      "  exec(code_obj, self.user_global_ns, self.user_ns)\n",
      "/opt/hostedtoolcache/Python/3.9.22/x64/lib/python3.9/site-packages/IPython/core/interactiveshell.py:3550: LatexWarning: Found documentclass in tmp_2506.07845/main.tex\n",
      "\n",
      "  exec(code_obj, self.user_global_ns, self.user_ns)\n",
      "/opt/hostedtoolcache/Python/3.9.22/x64/lib/python3.9/site-packages/arxiv_on_deck_2/latex.py:414: LatexWarning: Latex injecting: 'table_quality' from 'tmp_2506.07845/table_quality.tex'\n",
      "  warnings.warn(LatexWarning(f\"Latex injecting: '{ext}' from '{subsource}'\"))\n",
      "/opt/hostedtoolcache/Python/3.9.22/x64/lib/python3.9/site-packages/arxiv_on_deck_2/latex.py:414: LatexWarning: Latex injecting: 'table_criterions' from 'tmp_2506.07845/table_criterions.tex'\n",
      "  warnings.warn(LatexWarning(f\"Latex injecting: '{ext}' from '{subsource}'\"))\n",
      "/opt/hostedtoolcache/Python/3.9.22/x64/lib/python3.9/site-packages/arxiv_on_deck_2/latex.py:414: LatexWarning: Latex injecting: 'table_4' from 'tmp_2506.07845/table_4.tex'\n",
      "  warnings.warn(LatexWarning(f\"Latex injecting: '{ext}' from '{subsource}'\"))\n",
      "/opt/hostedtoolcache/Python/3.9.22/x64/lib/python3.9/site-packages/arxiv_on_deck_2/latex.py:414: LatexWarning: Latex injecting: 'table_3' from 'tmp_2506.07845/table_3.tex'\n",
      "  warnings.warn(LatexWarning(f\"Latex injecting: '{ext}' from '{subsource}'\"))\n",
      "/opt/hostedtoolcache/Python/3.9.22/x64/lib/python3.9/site-packages/arxiv_on_deck_2/latex.py:414: LatexWarning: Latex injecting: 'table_2' from 'tmp_2506.07845/table_2.tex'\n",
      "  warnings.warn(LatexWarning(f\"Latex injecting: '{ext}' from '{subsource}'\"))\n",
      "/opt/hostedtoolcache/Python/3.9.22/x64/lib/python3.9/site-packages/arxiv_on_deck_2/latex.py:414: LatexWarning: Latex injecting: 'validation-table' from 'tmp_2506.07845/validation-table.tex'\n",
      "  warnings.warn(LatexWarning(f\"Latex injecting: '{ext}' from '{subsource}'\"))\n"
     ]
    },
    {
     "name": "stdout",
     "output_type": "stream",
     "text": [
      "Found 94 bibliographic references in tmp_2506.07845/main.bbl.\n",
      "Issues with the citations\n",
      "syntax error in line 158: '=' expected\n",
      "Retrieving document from  https://arxiv.org/e-print/2506.07912\n"
     ]
    },
    {
     "name": "stdout",
     "output_type": "stream",
     "text": [
      "extracting tarball to tmp_2506.07912..."
     ]
    },
    {
     "name": "stdout",
     "output_type": "stream",
     "text": [
      " done.\n",
      "Retrieving document from  https://arxiv.org/e-print/2506.07970\n"
     ]
    },
    {
     "name": "stdout",
     "output_type": "stream",
     "text": [
      "extracting tarball to tmp_2506.07970..."
     ]
    },
    {
     "name": "stdout",
     "output_type": "stream",
     "text": [
      " done.\n"
     ]
    }
   ],
   "source": [
    "documents = []\n",
    "failed = []\n",
    "for paper in tqdm(candidates):\n",
    "    # debug crap\n",
    "    paper['identifier'] = paper['identifier'].lower().replace('arxiv:', '').replace(r'\\n', '').strip()\n",
    "    paper_id = paper['identifier']\n",
    "    \n",
    "    folder = f'tmp_{paper_id}'\n",
    "\n",
    "    try:\n",
    "        if not os.path.isdir(folder):\n",
    "            folder = retrieve_document_source(f\"{paper_id}\", f'tmp_{paper_id}')\n",
    "        \n",
    "        try:\n",
    "            doc = latex.LatexDocument(folder, validation=validation)    \n",
    "        except AffiliationError as affilerror:\n",
    "            msg = f\"ArXiv:{paper_id:s} is not an MPIA paper... \" + str(affilerror)\n",
    "            failed.append((paper, \"affiliation error: \" + str(affilerror) ))\n",
    "            continue\n",
    "        \n",
    "        # Hack because sometimes author parsing does not work well\n",
    "        if (len(doc.authors) != len(paper['authors'])):\n",
    "            doc._authors = paper['authors']\n",
    "        else:\n",
    "            # highlight authors (FIXME: doc.highlight_authors)\n",
    "            # done on arxiv paper already\n",
    "            doc._authors = highlight_authors_in_list(\n",
    "                [get_initials(k) for k in doc.authors], \n",
    "                mpia_authors, verbose=True)\n",
    "        if (doc.abstract) in (None, ''):\n",
    "            doc._abstract = paper['abstract']\n",
    "            \n",
    "        doc.comment = (get_markdown_badge(paper_id) + \n",
    "                       \"<mark>Appeared on: \" + paper['date'] + \"</mark> - \")\n",
    "        if paper['comments']:\n",
    "            doc.comment += \" _\" + paper['comments'] + \"_\"\n",
    "        \n",
    "        full_md = doc.generate_markdown_text()\n",
    "        \n",
    "        full_md += get_markdown_qrcode(paper_id)\n",
    "        \n",
    "        # replace citations\n",
    "        try:\n",
    "            bibdata = latex_bib.LatexBib.from_doc(doc)\n",
    "            full_md = latex_bib.replace_citations(full_md, bibdata)\n",
    "        except Exception as e:\n",
    "            print(\"Issues with the citations\")\n",
    "            print(e)\n",
    "        \n",
    "        documents.append((paper_id, full_md))\n",
    "    except Exception as e:\n",
    "        warnings.warn(latex.LatexWarning(f\"{paper_id:s} did not run properly\\n\" +\n",
    "                                         str(e)\n",
    "                                        ))\n",
    "        failed.append((paper, \"latex error \" + str(e)))"
   ]
  },
  {
   "cell_type": "markdown",
   "id": "2505a25c",
   "metadata": {
    "papermill": {
     "duration": 0.004309,
     "end_time": "2025-06-10T04:22:55.557459",
     "exception": false,
     "start_time": "2025-06-10T04:22:55.553150",
     "status": "completed"
    },
    "tags": []
   },
   "source": [
    "### Export the logs\n",
    "\n",
    "Throughout, we also keep track of the logs per paper. see `logs-{today date}.md` "
   ]
  },
  {
   "cell_type": "code",
   "execution_count": 6,
   "id": "d733828a",
   "metadata": {
    "execution": {
     "iopub.execute_input": "2025-06-10T04:22:55.567382Z",
     "iopub.status.busy": "2025-06-10T04:22:55.566903Z",
     "iopub.status.idle": "2025-06-10T04:22:55.587505Z",
     "shell.execute_reply": "2025-06-10T04:22:55.586971Z"
    },
    "papermill": {
     "duration": 0.026736,
     "end_time": "2025-06-10T04:22:55.588473",
     "exception": false,
     "start_time": "2025-06-10T04:22:55.561737",
     "status": "completed"
    },
    "scrolled": false,
    "tags": []
   },
   "outputs": [
    {
     "data": {
      "text/markdown": [
       "## Successful papers"
      ],
      "text/plain": [
       "<IPython.core.display.Markdown object>"
      ]
     },
     "metadata": {},
     "output_type": "display_data"
    },
    {
     "data": {
      "text/markdown": [
       "\n",
       "|||\n",
       "|---:|:---|\n",
       "| [![arXiv](https://img.shields.io/badge/arXiv-2506.06418-b31b1b.svg)](https://arxiv.org/abs/2506.06418) | **The Identification of Two JWST/NIRCam-Dark Starburst Galaxies at $z=6.6$ with ALMA**  |\n",
       "|| F. Sun, et al. -- incl., <mark>E. Bañados</mark> |\n",
       "|*Appeared on*| *2025-06-10*|\n",
       "|*Comments*| *14 pages, 5 figures, submitted to an AAS journal. Comments are welcome*|\n",
       "|**Abstract**|            We analyze two dusty star-forming galaxies at $z=6.6$. These galaxies are selected from the ASPIRE survey, a JWST Cycle-1 medium and ALMA Cycle-9 large program targeting 25 quasars and their environments at $z\\simeq6.5 - 6.8$. These galaxies are identified as companions to UV-luminous quasars and robustly detected in ALMA continuum and [C II] emission, yet they are extraordinarily faint at the NIRCam wavelengths (down to $>28.0$ AB mag in the F356W band). They are more obscured than galaxies like Arp220, and thus we refer to them as \"NIRCam-dark\" starburst galaxies (star formation rate $\\simeq 80 - 250\\,\\mathrm{M}_{\\odot}\\,\\mathrm{yr}^{-1}$). Such galaxies are typically missed by (sub)-millimeter blank-field surveys. From the star-formation history (SFH), we show that the NIRCam-dark galaxies are viable progenitors of massive quiescent galaxies at $z\\gtrsim4$ and descendants of UV-luminous galaxies at $z>10$. Although it is hard to constrain their number density from a quasar survey, we conclude that NIRCam-dark galaxies can be as abundant as $n\\sim10^{-5.5}$ Mpc$^{-3}$ assuming a light halo occupation model. If true, this would equal to $\\sim$30% of the number densities of both the quiescent galaxies at $z\\gtrsim4$ and UV-luminous galaxies at $z>10$. We further predict that analogs at $z\\sim8$ should exist according to the SFH of early massive quiescent galaxies. However, they may fall below the current detection limits of wide JWST and ALMA surveys, thus remaining \"JWST-dark\". To fully trace the evolution of massive galaxies and dust-obscured cosmic star formation at $z\\gtrsim8$, wide-field JWST/NIRCam imaging and slitless spectroscopic surveys of early protoclusters are essential.         |"
      ],
      "text/plain": [
       "[2506.06418] The Identification of Two JWST/NIRCam-Dark Starburst Galaxies at $z=6.6$ with ALMA\n",
       "\tF. Sun, et al. -- incl., <mark>E. Bañados</mark>"
      ]
     },
     "metadata": {},
     "output_type": "display_data"
    },
    {
     "data": {
      "text/markdown": [
       "\n",
       "|||\n",
       "|---:|:---|\n",
       "| [![arXiv](https://img.shields.io/badge/arXiv-2506.06433-b31b1b.svg)](https://arxiv.org/abs/2506.06433) | **Grand Design Spiral Arms in the Compact, Embedded Protoplanetary Disk of Haro 6-13**  |\n",
       "|| J. Huang, et al. -- incl., <mark>M. Benisty</mark> |\n",
       "|*Appeared on*| *2025-06-10*|\n",
       "|*Comments*| *Accepted by ApJ*|\n",
       "|**Abstract**|            Millimeter continuum spiral arms have so far only been detected in a handful of protoplanetary disks, and thus we have a limited understanding of the circumstances in which they can form. In particular, substructures in small disks ($R\\lessapprox 50$ au) have not been well-characterized in comparison with large disks. We present ALMA 1.3 mm continuum observations of the disk around the T Tauri star Haro 6-13 at a resolution of $\\sim0.04''$ ($\\sim5$ au). A pair of low-contrast spiral arms are detected at disk radii from $\\sim10-35$ au. They can be approximated as Archimedean spirals with pitch angles ranging from $\\sim10-30^\\circ$. The low value of the disk-averaged spectral index between 1.3 and 3 mm ($\\alpha=2.1$) and the high brightness temperatures suggest that the millimeter continuum is likely optically thick and thus may hide sufficient mass for the disk to become gravitationally unstable and form spiral arms. CO observations have shown that Haro 6-13 is surrounded by an envelope, raising the possibility that infall is facilitating spiral arm formation.         |"
      ],
      "text/plain": [
       "[2506.06433] Grand Design Spiral Arms in the Compact, Embedded Protoplanetary Disk of Haro 6-13\n",
       "\tJ. Huang, et al. -- incl., <mark>M. Benisty</mark>"
      ]
     },
     "metadata": {},
     "output_type": "display_data"
    },
    {
     "data": {
      "text/markdown": [
       "\n",
       "|||\n",
       "|---:|:---|\n",
       "| [![arXiv](https://img.shields.io/badge/arXiv-2506.07845-b31b1b.svg)](https://arxiv.org/abs/2506.07845) | **SDSS-V Milky Way Mapper (MWM): ASPCAP Stellar Parameters and Abundances in SDSS-V Data Release 19**  |\n",
       "|| S. Mészáros, et al. -- incl., <mark>G. Guiglion</mark> |\n",
       "|*Appeared on*| *2025-06-10*|\n",
       "|*Comments*| *30 pages, 20 figures, 6 tables, accepted for publication in AJ*|\n",
       "|**Abstract**|            The goal of this paper is to describe the science verification of Milky Way Mapper (MWM) ASPCAP data products published in Data Release 19 (DR19) of the fifth phase of the Sloan Digital Sky Survey (SDSS-V). We compare MWM ASPCAP atmospheric parameters T$_{\\rm eff}$, log g, 24 abundances of 21 elements (carbon, nitrogen, and oxygen have multiple sources for deriving their abundance values) and their uncertainties determined from APOGEE spectrograph spectra with those of the literature and evaluate their accuracy and precision. We also test the zero-point calibration of the v$_{\\rm rad}$ derived by the APOGEE Data Reduction Pipeline. This data release contains ASPCAP parameters for 964,989 stars, including all APOGEE-2 targets expanded with new observations of 336,511 stars from the Apache Point Observatory (APO) observed until 4 July 2023. Overall, the new T$_{\\rm eff}$ values show excellent agreement with the IRFM scale, while the surface gravities exhibit slight systematic offsets compared to asteroseisimic gravities. The estimated precision of T$_{\\rm eff}$ is between 50 and 70 K for giants and 70$-$100 K for dwarfs, while surface gravities are measured with a precision of 0.07$-$0.09 dex for giants. We achieve an estimated precision of 0.02$-$0.04 dex for multiple elements, including metallicity, $\\alpha$, Mg, and Si, while the precision of at least 10 elements is better than 0.1 dex.         |"
      ],
      "text/plain": [
       "[2506.07845] SDSS-V Milky Way Mapper (MWM): ASPCAP Stellar Parameters and Abundances in SDSS-V Data Release 19\n",
       "\tS. Mészáros, et al. -- incl., <mark>G. Guiglion</mark>"
      ]
     },
     "metadata": {},
     "output_type": "display_data"
    },
    {
     "data": {
      "text/markdown": [
       "## Failed papers"
      ],
      "text/plain": [
       "<IPython.core.display.Markdown object>"
      ]
     },
     "metadata": {},
     "output_type": "display_data"
    },
    {
     "data": {
      "text/markdown": [
       "\n",
       "|||\n",
       "|---:|:---|\n",
       "| [![arXiv](https://img.shields.io/badge/arXiv-2506.06453-b31b1b.svg)](https://arxiv.org/abs/2506.06453) | **Mapping the Spatial Distribution of Fast Radio Bursts within their Host Galaxies**  |\n",
       "|| A. C. Gordon, et al. -- incl., <mark>Y. Wang</mark> |\n",
       "|*Appeared on*| *2025-06-10*|\n",
       "|*Comments*| *50 pages, 10 figures, 7 tables. submitted*|\n",
       "|**Abstract**|            We present deep optical and near-infrared observations of the host galaxies of 34 fast radio bursts (FRBs) detected by the Commensal Real-time ASKAP Fast Transient (CRAFT) survey on the Australian SKA Pathfinder (ASKAP) to compare the locations of FRBs relative to their host light distributions. Incorporating three additional FRBs from the literature, for a total of four repeating and 33 apparently non-repeating FRBs, we determine their projected galactocentric offsets and find a median of $ 4.2^{+5.7}_{-2.5}$ kpc ($1.0^{+1.5}_{-0.6}r_e$). We model their host surface brightness profiles and develop synthetic spatial distributions of their globular clusters based on host properties. We calculate the likelihood the observed location of each FRB is consistent with the smooth light of its host galaxy, residual (primarily spiral) substructure, or globular cluster distributions. The majority of FRBs favor locations within the disks of their galaxies, while only 7-13\\% favor a globular cluster origin, primarily those with galactocentric offsets $\\gtrsim3r_e$. At $z<0.15$, where spiral structure is apparent in 86\\% of our sample of FRB hosts, we find $\\approx 20-46\\%$ of FRBs favor an association with spiral arms. Assuming FRBs derive from magnetars, our results support multiple formation channels with the majority of progenitors associated with massive stars and a minority formed through dynamical channels. However, the moderate fraction of FRBs associated with spiral structure indicates that high star formation efficiency of the youngest and most massive stars is not a predominant driver in the production of FRB progenitors.         |\n",
       "|<p style=\"color:green\"> **ERROR** </p>| <p style=\"color:green\">affiliation error: mpia.affiliation_verifications: '69117' keyword not found.</p> |"
      ],
      "text/plain": [
       "<IPython.core.display.Markdown object>"
      ]
     },
     "metadata": {},
     "output_type": "display_data"
    },
    {
     "data": {
      "text/markdown": [
       "\n",
       "|||\n",
       "|---:|:---|\n",
       "| [![arXiv](https://img.shields.io/badge/arXiv-2506.06717-b31b1b.svg)](https://arxiv.org/abs/2506.06717) | **The $α$-Attractor E-Model in Warm Inflation: Observational Viability from Planck 2018**  |\n",
       "|| <mark>B. Saha</mark>, M. K. Nandy |\n",
       "|*Appeared on*| *2025-06-10*|\n",
       "|*Comments*| *23 pages with 7 figures*|\n",
       "|**Abstract**|            We explore the inflationary evolution and observational viability of the $\\alpha$-attractor E-model in the framework of warm inflation, focusing on both weak and strong dissipative regimes, with a dissipation coefficient linear in temperature. In the strong regime, we account for the growth of inflaton fluctuations due to coupling with the radiation bath via two different forms for the dissipation enhancement function: one associated with plateau-like potentials, and another motivated by the warm little inflation scenario. Employing slow roll conditions, we analytically derive the expressions for the key inflationary observables, the spectral index $n_s$ and the tensor-to-scalar ratio $r$, in both dissipative regimes. The resulting theoretical trajectories on the $n_s$--$r$ plane are then juxtaposed with the contour plots obtained from Planck 2018 data in order to constrain the model parameter. Our analysis shows that the warm $\\alpha$-attractor E-model remains compatible with observations in both dissipative regimes, with dissipation playing a crucial role in shifting the predictions and enlarging the viable parameter space, highlighting observational robustness of the model when extended to warm inflation.         |\n",
       "|<p style=\"color:green\"> **ERROR** </p>| <p style=\"color:green\">affiliation error: mpia.affiliation_verifications: 'Heidelberg' keyword not found.</p> |"
      ],
      "text/plain": [
       "<IPython.core.display.Markdown object>"
      ]
     },
     "metadata": {},
     "output_type": "display_data"
    },
    {
     "data": {
      "text/markdown": [
       "\n",
       "|||\n",
       "|---:|:---|\n",
       "| [![arXiv](https://img.shields.io/badge/arXiv-2506.07383-b31b1b.svg)](https://arxiv.org/abs/2506.07383) | **Four ages of rotating stars in the rotation--activity relationship and gyrochronology**  |\n",
       "|| H. Yang, et al. -- incl., <mark>J. Liu</mark> |\n",
       "|*Appeared on*| *2025-06-10*|\n",
       "|*Comments*| *27 pages, 25 figures, 5 tables, to be published in A&A. The abstract is an abbreviated version, please see the manuscript for details*|\n",
       "|**Abstract**|            Both of gyrochronology and the rotation-activity relationship are standard techniques to determine the evolution this http URL mismatch in the definition of the evolutionary phases has so far raised many issues in physics and mathematics and hampered the understanding of how the internal dynamo processes affect the observable this http URL address this problem, we seek a unified scheme that shows a one-to-one mapping from gyrochronology to the rotation--activity this http URL obtained the chromospheric activity $R'_{\\rm HK}$ of 6846 stars and their rotation periods to investigate the rotation--activity this http URL apply a three-interval model to fit the relationship and find that it is best fitted by three intervals in the range of Ro$<0.7$.We associate those intervals to the convective, gap and interface phases of this http URL,we suggest an additional epoch at late times of the I this http URL further use the three-interval models to fit the period--activity relationship in temperature bins and determine the duration of the transition phase as a function of effective this http URL comparing the critical temperature and period of the g-to-I transition with the slowly rotating sequence of 10 young open clusters whose ages range from 1 Myr to 2.5 Gyr, we conclude that our new model finds the pure I sequence without fast rotating outliers, which defines the zero-age I sequence (ZAIS).We propose that there is an ambiguous consensus on when the I sequence starts to this http URL ambiguity is from the visually convergent sequence of the color--period diagrams in open this http URL visually convergent sequence is younger than the ZAIS and is actually the pre-I sequence that can be associated with the stall of the spin-down. Our results unify the rotation--activity relationship and gyrochonology for the stellar evolution of low-mass stars, for which we coined the ``CgIW\" scenario.         |\n",
       "|<p style=\"color:green\"> **ERROR** </p>| <p style=\"color:green\">affiliation error: mpia.affiliation_verifications: 'Heidelberg' keyword not found.</p> |"
      ],
      "text/plain": [
       "<IPython.core.display.Markdown object>"
      ]
     },
     "metadata": {},
     "output_type": "display_data"
    },
    {
     "data": {
      "text/markdown": [
       "\n",
       "|||\n",
       "|---:|:---|\n",
       "| [![arXiv](https://img.shields.io/badge/arXiv-2506.07912-b31b1b.svg)](https://arxiv.org/abs/2506.07912) | **A circularly polarized low-frequency radio burst from the exoplanetary system HD 189733**  |\n",
       "|| <mark>X. Zhang</mark>, et al. |\n",
       "|*Appeared on*| *2025-06-10*|\n",
       "|*Comments*| **|\n",
       "|**Abstract**|            We aim to detect low-frequency radio emission from exoplanetary systems, which can provide insights into planetary magnetic fields, star-planet interactions, stellar activity, and exo-space weather. The HD 189733 system, hosting a well-studied hot Jupiter, is a prime target for such searches. We conducted NenuFAR imaging observations in the 15-62 MHz range, in order to cover the entire orbital phase of HD 189733 b. Dynamic spectra were generated for the target and other sources in the field, followed by a transient search in the time-frequency plane. The data processing pipeline incorporated direction-dependent calibration and noise characterization to improve sensitivity. We also searched for periodic signals using Lomb-Scargle analysis. A highly circularly polarized radio burst was detected at 50 MHz with a flux density of 1.5 Jy and a significance of 6 sigma at the position of HD 189733. No counterpart was found in Stokes I, likely because the emission is embedded in confusion noise and remains below the detection threshold. The estimated minimum fractional circular polarization of 38% suggests a coherent emission process. A periodicity search revealed no weaker signals linked to the planet's orbital period, the star's rotational period, or the synodic period and harmonic period between them. The burst's properties are consistent with cyclotron maser instability (CMI) emission, but the origin is still ambiguous. The comparison with theoretical models suggests star-planet interaction or stellar activity as potential origins. However, alternative explanations such as contamination from other sources along the line of sight (e.g. the companion M dwarf) or noise fluctuation cannot be ruled out.         |\n",
       "|<p style=\"color:green\"> **ERROR** </p>| <p style=\"color:green\">affiliation error: mpia.affiliation_verifications: 'Heidelberg' keyword not found.</p> |"
      ],
      "text/plain": [
       "<IPython.core.display.Markdown object>"
      ]
     },
     "metadata": {},
     "output_type": "display_data"
    },
    {
     "data": {
      "text/markdown": [
       "\n",
       "|||\n",
       "|---:|:---|\n",
       "| [![arXiv](https://img.shields.io/badge/arXiv-2506.07970-b31b1b.svg)](https://arxiv.org/abs/2506.07970) | **The FAST Globular Cluster Pulsar Survey (GC FANS)**  |\n",
       "|| Y. Lian, et al. -- incl., <mark>Y. Wang</mark>, <mark>X. Zhang</mark> |\n",
       "|*Appeared on*| *2025-06-10*|\n",
       "|*Comments*| *28 pages, 12 figures, 6 tables. Comments are welcome*|\n",
       "|**Abstract**|            By January 2025, 60 pulsars were discovered by the Five-hundred-meter Aperture Spherical radio Telescope globular cluster (GC) pulsar survey (GC FANS), with spin periods spanning 1.98 ms to 3960.72 ms. Of these, 55 are millisecond pulsars (MSPs; $P<30$ ms), while 34 are binaries with orbital periods spanning 0.12 days to 466.47 days. This paper describes GC FANS, a deep, thorough search for pulsars in 41 GCs in the FAST sky ($-14^\\circ < \\delta < 65^\\circ$) and describes new discoveries in 14 of them. We present updated timing solutions for M92A, NGC 6712A, M71A, and M71E, all of which are ``spider'' pulsars with short orbital periods. We present new timing solutions for M71B, C, and D. With orbital periods of $\\sim$466 and 378 days, M71B and M71C are the widest known GC binaries; these systems resemble the normal wide MSP-He WD systems in the Galactic disk. With a spin period of 101 ms, M71D is in an eccentric ($e\\sim$0.63) orbit with an 11-day period and a massive companion; the system has a total mass of $2.63 \\pm 0.08 \\, M_{\\odot}$. These features and its large characteristic age suggest it is a double neutron star system (DNS) formed via massive binary evolution early in the cluster's history, akin to Galactic disk DNSs--unlike other candidate GC DNSs, which typically form dynamically. A comparative analysis of GC pulsar populations within FAST's sky reveals that most clusters (10 of 14) resemble the Galactic disk MSP population, likely due to lower stellar densities.         |\n",
       "|<p style=\"color:green\"> **ERROR** </p>| <p style=\"color:green\">affiliation error: mpia.affiliation_verifications: 'Heidelberg' keyword not found.</p> |"
      ],
      "text/plain": [
       "<IPython.core.display.Markdown object>"
      ]
     },
     "metadata": {},
     "output_type": "display_data"
    }
   ],
   "source": [
    "import datetime\n",
    "today = str(datetime.date.today())\n",
    "logfile = f\"_build/html/logs/log-{today}.md\"\n",
    "\n",
    "\n",
    "with open(logfile, 'w') as logs:\n",
    "    # Success\n",
    "    logs.write(f'# Arxiv on Deck 2: Logs - {today}\\n\\n')\n",
    "    logs.write(\"\"\"* Arxiv had {0:,d} new papers\\n\"\"\".format(len(new_papers)))\n",
    "    logs.write(\"\"\"    * {0:,d} with possible author matches\\n\\n\"\"\".format(len(candidates)))\n",
    "    logs.write(\"## Sucessful papers\\n\\n\")\n",
    "    display(Markdown(\"## Successful papers\"))\n",
    "    success = [k[0] for k in documents]\n",
    "    for candid in candidates:\n",
    "        if candid['identifier'].split(':')[-1] in success:\n",
    "            display(candid)\n",
    "            logs.write(candid.generate_markdown_text() + '\\n\\n')\n",
    "\n",
    "    ## failed\n",
    "    logs.write(\"## Failed papers\\n\\n\")\n",
    "    display(Markdown(\"## Failed papers\"))\n",
    "    failed = sorted(failed, key=lambda x: x[1])\n",
    "    current_reason = \"\"\n",
    "    for paper, reason in failed:\n",
    "        if 'affiliation' in reason:\n",
    "            color = 'green'\n",
    "        else:\n",
    "            color = 'red'\n",
    "        data = Markdown(\n",
    "                paper.generate_markdown_text() + \n",
    "                f'\\n|<p style=\"color:{color:s}\"> **ERROR** </p>| <p style=\"color:{color:s}\">{reason:s}</p> |'\n",
    "               )\n",
    "        if reason != current_reason:\n",
    "            logs.write(f'### {reason:s} \\n\\n')\n",
    "            current_reason = reason\n",
    "        logs.write(data.data + '\\n\\n')\n",
    "        \n",
    "        # only display here the important errors (all in logs)\n",
    "        # if color in ('red',):\n",
    "        display(data)"
   ]
  },
  {
   "cell_type": "markdown",
   "id": "472d20ee",
   "metadata": {
    "papermill": {
     "duration": 0.005189,
     "end_time": "2025-06-10T04:22:55.598991",
     "exception": false,
     "start_time": "2025-06-10T04:22:55.593802",
     "status": "completed"
    },
    "tags": []
   },
   "source": [
    "## Export documents\n",
    "\n",
    "We now write the .md files and export relevant images"
   ]
  },
  {
   "cell_type": "code",
   "execution_count": 7,
   "id": "d426aed9",
   "metadata": {
    "execution": {
     "iopub.execute_input": "2025-06-10T04:22:55.610787Z",
     "iopub.status.busy": "2025-06-10T04:22:55.610567Z",
     "iopub.status.idle": "2025-06-10T04:22:55.617127Z",
     "shell.execute_reply": "2025-06-10T04:22:55.616609Z"
    },
    "papermill": {
     "duration": 0.013377,
     "end_time": "2025-06-10T04:22:55.618096",
     "exception": false,
     "start_time": "2025-06-10T04:22:55.604719",
     "status": "completed"
    },
    "tags": []
   },
   "outputs": [],
   "source": [
    "def export_markdown_summary(md: str, md_fname:str, directory: str):\n",
    "    \"\"\"Export MD document and associated relevant images\"\"\"\n",
    "    import os\n",
    "    import shutil\n",
    "    import re\n",
    "\n",
    "    if (os.path.exists(directory) and not os.path.isdir(directory)):\n",
    "        raise RuntimeError(f\"a non-directory file exists with name {directory:s}\")\n",
    "\n",
    "    if (not os.path.exists(directory)):\n",
    "        print(f\"creating directory {directory:s}\")\n",
    "        os.mkdir(directory)\n",
    "\n",
    "    fig_fnames = (re.compile(r'\\[Fig.*\\]\\((.*)\\)').findall(md) + \n",
    "                  re.compile(r'\\<img src=\"([^>\\s]*)\"[^>]*/>').findall(md))\n",
    "    print(\"found figures\", fig_fnames)\n",
    "    for fname in fig_fnames:\n",
    "        if 'http' in fname:\n",
    "            # No need to copy online figures\n",
    "            continue\n",
    "        if not os.path.exists(fname):\n",
    "            print(\"file not found\", fname)\n",
    "            continue\n",
    "        print(\"copying \", fname, \"to\", directory)\n",
    "        destdir = os.path.join(directory, os.path.dirname(fname))\n",
    "        destfname = os.path.join(destdir, os.path.basename(fname))\n",
    "        try:\n",
    "            os.makedirs(destdir)\n",
    "        except FileExistsError:\n",
    "            pass\n",
    "        shutil.copy(fname, destfname)\n",
    "    with open(os.path.join(directory, md_fname), 'w') as fout:\n",
    "        fout.write(md)\n",
    "    print(\"exported in \", os.path.join(directory, md_fname))\n",
    "    [print(\"    + \" + os.path.join(directory,fk)) for fk in fig_fnames]"
   ]
  },
  {
   "cell_type": "code",
   "execution_count": 8,
   "id": "014d04a4",
   "metadata": {
    "execution": {
     "iopub.execute_input": "2025-06-10T04:22:55.629795Z",
     "iopub.status.busy": "2025-06-10T04:22:55.629378Z",
     "iopub.status.idle": "2025-06-10T04:22:55.654737Z",
     "shell.execute_reply": "2025-06-10T04:22:55.654074Z"
    },
    "papermill": {
     "duration": 0.032442,
     "end_time": "2025-06-10T04:22:55.655861",
     "exception": false,
     "start_time": "2025-06-10T04:22:55.623419",
     "status": "completed"
    },
    "tags": []
   },
   "outputs": [
    {
     "name": "stdout",
     "output_type": "stream",
     "text": [
      "found figures ['tmp_2506.06418/./figures/hmf_dark.png', 'tmp_2506.06418/./figures/n_z_dark.png', 'tmp_2506.06418/./figures/SFR_Mstar_vs_t.png', 'tmp_2506.06418/./figures/fig1_jw_dark_img.png']\n",
      "copying  tmp_2506.06418/./figures/hmf_dark.png to _build/html/\n",
      "copying  tmp_2506.06418/./figures/n_z_dark.png to _build/html/\n",
      "copying  tmp_2506.06418/./figures/SFR_Mstar_vs_t.png to _build/html/\n",
      "copying  tmp_2506.06418/./figures/fig1_jw_dark_img.png to _build/html/\n",
      "exported in  _build/html/2506.06418.md\n",
      "    + _build/html/tmp_2506.06418/./figures/hmf_dark.png\n",
      "    + _build/html/tmp_2506.06418/./figures/n_z_dark.png\n",
      "    + _build/html/tmp_2506.06418/./figures/SFR_Mstar_vs_t.png\n",
      "    + _build/html/tmp_2506.06418/./figures/fig1_jw_dark_img.png\n",
      "found figures ['tmp_2506.06433/./continuumoverview.png', 'tmp_2506.06433/./protomidpymodel.png', 'tmp_2506.06433/./radialprofile.png']\n",
      "copying  tmp_2506.06433/./continuumoverview.png to _build/html/\n",
      "copying  tmp_2506.06433/./protomidpymodel.png to _build/html/\n",
      "copying  tmp_2506.06433/./radialprofile.png to _build/html/\n",
      "exported in  _build/html/2506.06433.md\n",
      "    + _build/html/tmp_2506.06433/./continuumoverview.png\n",
      "    + _build/html/tmp_2506.06433/./protomidpymodel.png\n",
      "    + _build/html/tmp_2506.06433/./radialprofile.png\n",
      "found figures ['tmp_2506.07845/./abun_map.png', 'tmp_2506.07845/./solar_neigh_teff_giants.png', 'tmp_2506.07845/./mwm_apodr17.png']\n",
      "copying  tmp_2506.07845/./abun_map.png to _build/html/\n",
      "copying  tmp_2506.07845/./solar_neigh_teff_giants.png to _build/html/\n",
      "copying  tmp_2506.07845/./mwm_apodr17.png to _build/html/\n",
      "exported in  _build/html/2506.07845.md\n",
      "    + _build/html/tmp_2506.07845/./abun_map.png\n",
      "    + _build/html/tmp_2506.07845/./solar_neigh_teff_giants.png\n",
      "    + _build/html/tmp_2506.07845/./mwm_apodr17.png\n"
     ]
    }
   ],
   "source": [
    "for paper_id, md in documents:\n",
    "    export_markdown_summary(md, f\"{paper_id:s}.md\", '_build/html/')"
   ]
  },
  {
   "cell_type": "markdown",
   "id": "f087a0a7",
   "metadata": {
    "papermill": {
     "duration": 0.005428,
     "end_time": "2025-06-10T04:22:55.667315",
     "exception": false,
     "start_time": "2025-06-10T04:22:55.661887",
     "status": "completed"
    },
    "tags": []
   },
   "source": [
    "## Display the papers\n",
    "\n",
    "Not necessary but allows for a quick check."
   ]
  },
  {
   "cell_type": "code",
   "execution_count": 9,
   "id": "fd25f625",
   "metadata": {
    "execution": {
     "iopub.execute_input": "2025-06-10T04:22:55.679338Z",
     "iopub.status.busy": "2025-06-10T04:22:55.678877Z",
     "iopub.status.idle": "2025-06-10T04:22:55.686092Z",
     "shell.execute_reply": "2025-06-10T04:22:55.685562Z"
    },
    "papermill": {
     "duration": 0.014266,
     "end_time": "2025-06-10T04:22:55.687071",
     "exception": false,
     "start_time": "2025-06-10T04:22:55.672805",
     "status": "completed"
    },
    "scrolled": false,
    "tags": []
   },
   "outputs": [
    {
     "data": {
      "text/markdown": [
       "<div class=\"macros\" style=\"visibility:hidden;\">\n",
       "$\\newcommand{\\ensuremath}{}$\n",
       "$\\newcommand{\\xspace}{}$\n",
       "$\\newcommand{\\object}[1]{\\texttt{#1}}$\n",
       "$\\newcommand{\\farcs}{{.}''}$\n",
       "$\\newcommand{\\farcm}{{.}'}$\n",
       "$\\newcommand{\\arcsec}{''}$\n",
       "$\\newcommand{\\arcmin}{'}$\n",
       "$\\newcommand{\\ion}[2]{#1#2}$\n",
       "$\\newcommand{\\textsc}[1]{\\textrm{#1}}$\n",
       "$\\newcommand{\\hl}[1]{\\textrm{#1}}$\n",
       "$\\newcommand{\\footnote}[1]{}$\n",
       "$\\newcommand{\\vdag}{(v)^\\dagger}$\n",
       "$\\newcommand$\n",
       "$\\newcommand$\n",
       "$\\newcommand$\n",
       "$\\newcommand$\n",
       "$\\newcommand{\\oii}{\\mbox{[\\ion{O}{2}]}}$\n",
       "$\\newcommand{\\oiii}{\\mbox{[\\ion{O}{3}]}}$\n",
       "$\\newcommand{\\hei}{\\mbox{\\ion{He}{1}}}$\n",
       "$\\newcommand{\\heii}{\\mbox{\\ion{He}{2}}}$\n",
       "$\\newcommand{\\ci}{\\mbox{[\\ion{C}{1}]}}$\n",
       "$\\newcommand{\\cii}{\\mbox{[\\ion{C}{2}]}}$\n",
       "$\\newcommand{\\nii}{\\mbox{[\\ion{N}{2}]}}$\n",
       "$\\newcommand{\\sii}{\\mbox{[\\ion{S}{2}]}}$\n",
       "$\\newcommand{\\siii}{\\mbox{[\\ion{S}{3}]}}$\n",
       "$\\newcommand{\\feii}{\\mbox{[\\ion{Fe}{2}]}}$\n",
       "$\\newcommand{\\hb}{\\mbox{H\\beta}}$\n",
       "$\\newcommand{\\ha}{\\mbox{H\\alpha}}$\n",
       "$\\newcommand{\\bra}{\\mbox{Br\\alpha}}$\n",
       "$\\newcommand{\\brb}{\\mbox{Br\\beta}}$\n",
       "$\\newcommand{\\brg}{\\mbox{Br\\gamma}}$\n",
       "$\\newcommand{\\paa}{\\mbox{Pa\\alpha}}$\n",
       "$\\newcommand{\\pab}{\\mbox{Pa\\beta}}$\n",
       "$\\newcommand{\\pag}{\\mbox{Pa\\gamma}}$\n",
       "$\\newcommand{\\pad}{\\mbox{Pa\\delta}}$\n",
       "$\\newcommand{\\lya}{\\mbox{Ly\\alpha}}$\n",
       "$\\newcommand{\\popiii}{\\mbox{\\ion{Pop}{3}}}$\n",
       "$\\newcommand$\n",
       "$\\newcommand$\n",
       "$\\newcommand$\n",
       "$\\newcommand$\n",
       "$\\newcommand$\n",
       "$\\newcommand$\n",
       "$\\newcommand{\\zsp}{\\mbox{z_\\mathrm{spec}}}$\n",
       "$\\newcommand{\\zph}{\\mbox{z_\\mathrm{phot}}}$\n",
       "$\\newcommand{\\lir}{\\mbox{L_\\mathrm{IR}}}$\n",
       "$\\newcommand{\\sap}{\\mbox{\\texttt{SAPPHIRES}}}$\n",
       "$\\newcommand{\\macs}{\\mbox{MACS J0416.1--2403}}$\n",
       "$\\newcommand{\\textred}[1]{{#1}}$\n",
       "$\\newcommand{\\textblue}[1]{{#1}}$\n",
       "$\\newcommand{\\thefigure}{\\thesection\\arabic{figure}}$</div>\n",
       "\n",
       "\n",
       "\n",
       "<div id=\"title\">\n",
       "\n",
       "# The Identification of Two JWST/NIRCam-Dark Starburst Galaxies at $z=6.6$ with ALMA\n",
       "\n",
       "</div>\n",
       "<div id=\"comments\">\n",
       "\n",
       "[![arXiv](https://img.shields.io/badge/arXiv-2506.06418-b31b1b.svg)](https://arxiv.org/abs/2506.06418)<mark>Appeared on: 2025-06-10</mark> -  _14 pages, 5 figures, submitted to an AAS journal. Comments are welcome_\n",
       "\n",
       "</div>\n",
       "<div id=\"authors\">\n",
       "\n",
       "F. Sun, et al.\n",
       "\n",
       "</div>\n",
       "<div id=\"abstract\">\n",
       "\n",
       "**Abstract:** We analyze two dusty star-forming galaxies at $z=6.6$ .These galaxies are selected from the ASPIRE survey, a JWST Cycle-1 medium and ALMA Cycle-9 large program targeting 25 quasars and their environments at $z\\simeq6.5 - 6.8$ .These galaxies are identified as companions to UV-luminous quasars and robustly detected in ALMA continuum and $\\cii$ emission, yet they are extraordinarily faint at the NIRCam wavelengths (down to $>28.0$ AB mag in the F356W band).They are more obscured than galaxies like Arp220, and thus we refer to them as \"NIRCam-dark\" starburst galaxies (star formation rate $\\simeq 80 - 250$ $\\smpy$ ).Such galaxies are typically missed by (sub)-millimeter blank-field surveys.From the star-formation history (SFH), we show that the NIRCam-dark galaxies are viable progenitors of massive quiescent galaxies at $z\\gtrsim4$ and descendants of UV-luminous galaxies at $z>10$ .Although it is hard to constrain their number density from a quasar survey, we conclude that NIRCam-dark galaxies can be as abundant as $n\\sim10^{-5.5}$ Mpc $^{-3}$ assuming a light halo occupation model.If true, this would equal to $\\sim$ 30 \\% of the number densities of both the quiescent galaxies at $z\\gtrsim4$ and UV-luminous galaxies at $z>10$ .We further predict that analogs at $z\\sim8$ should exist according to the SFH of early massive quiescent galaxies.However, they may fall below the current detection limits of wide JWST and ALMA surveys, thus remaining \"JWST-dark\".To fully trace the evolution of massive galaxies and dust-obscured cosmic star formation at $z\\gtrsim8$ , wide-field JWST/NIRCam imaging and slitless spectroscopic surveys of early protoclusters are essential.\n",
       "\n",
       "</div>\n",
       "\n",
       "<div id=\"div_fig1\">\n",
       "\n",
       "<img src=\"tmp_2506.06418/./figures/hmf_dark.png\" alt=\"Fig4.1\" width=\"50%\"/><img src=\"tmp_2506.06418/./figures/n_z_dark.png\" alt=\"Fig4.2\" width=\"50%\"/>\n",
       "\n",
       "**Figure 4. -** \n",
       "The number density constraint of NIRCam-dark galaxies. **Left**: The host halo mass function models of NIRCam-dark starburst galaxies at $z=6.6$.\n",
       "We consider two models for their host mass distribution, including a light model (dashed orange line) and a heavy model (dashed-dotted purple line; Section \\ref{ss:04b_number}).\n",
       "These two models predict completely different number densities of NIRCam-dark galaxies, while both of them match the existing observations.\n",
       "For comparison we show the quasar host HMF (red) and overall HMF (black) at the same redshift.\n",
       "**Right**: Comparison of the number densities with massive quiescent galaxies at $z\\sim4$\\citep{carnall23b, valentino23, long24a, baker25a}, (U)LIRGs at $z\\sim7$\\citep[][see Section \\ref{ss:04b_number} for details]{barrufet23a, fujimoto24b} and \"blue monsters\" at $z>10$\\citep[][computed from their measured UVLFs in the brightest bins, typically at $M_\\mathrm{UV} \\sim -21$ mag]{donnan24, finkelstein24, harikane25, whitler25}.\n",
       "The derived number densities of NIRCam-dark galaxies based on the light and heavy halo occupation model are shown as orange and purple diamonds, respectively.\n",
       " (*fig:n*)\n",
       "\n",
       "</div>\n",
       "<div id=\"div_fig2\">\n",
       "\n",
       "<img src=\"tmp_2506.06418/./figures/SFR_Mstar_vs_t.png\" alt=\"Fig3\" width=\"100%\"/>\n",
       "\n",
       "**Figure 3. -** Stellar mass (left) and SFR (right) versus redshift for NIRCam-dark dusty starburst galaxies (red diamonds) in the context of massive galaxy evolution.\n",
       "For comparison we show the star-formation histories of massive quiescent galaxies at $z\\sim4$ confirmed with JWST spectroscopy (gray circle: $\\ci$tealt{glazebrook24} but using the SFH from $\\ci$tealt{turner25a}; diamond: $\\ci$tealt{degraaff25a} with solar-metallicity SFH model; triangle: $\\ci$tealt{carnall23a} but using the SFH from $\\ci$tealt{jiz24a}; squares: $\\ci$tealt{baker25a}).\n",
       "We also highlighted two ALMA-confirmed dusty starbursts known at $z>7$ prior to JWST in coral diamonds, including REBELS-25 $\\ci$tep[$z=7.3$;][]{hygate23} and MACS0416\\_Y1 $\\ci$tep[$z=8.3$;][]{tamura19}.\n",
       "JWST-confirmed luminous galaxies at $z>10$ with low dust content (also known as \"blue monsters\"; e.g., $\\ci$tealt{ziparo23}) are shown in blue circles $\\ci$tep[including][]{arrabalharo23,bunker23,carniani24,castellano24,hsiao24a,kokorev25a,naidu25b,zavala25}.\n",
       "The median evolution track of early massive galaxies in cosmological simulations are shown in colored lines (including FLARES, $\\ci$tealt{lovell23}; IllustrisTNG, $\\ci$tealt{pillepich18}, $\\ci$tealt{nelson19} and $\\ci$tealt{hartley23}; THESAN, $\\ci$tealt{kannan22} and $\\ci$tealt{chittenden25}).\n",
       "NIRCam-dark dusty starburst galaxies presented by this study are candidates for the progenitors of massive quiescent galaxies at $z\\sim4$ and descendants of \"blue monsters\" at $z>10$.\n",
       " (*fig:sfh*)\n",
       "\n",
       "</div>\n",
       "<div id=\"div_fig3\">\n",
       "\n",
       "<img src=\"tmp_2506.06418/./figures/fig1_jw_dark_img.png\" alt=\"Fig1\" width=\"100%\"/>\n",
       "\n",
       "**Figure 1. -** JWST NIRCam images (F115W, F200W, F356W), ALMA 1.2 mm continuum images and $\\ci$i 158 \\micron spectra of two NIRCam-dark galaxies at $z_\\mathrm{spec}\\sim6.6$.\n",
       "Because the luminous quasar J1526--2050 is visible to the northwest of J1526m2050.C02 (1$\\farcs$6 separation), we also show the quasar-subtracted F200W and F356W image of J1526m2020.C02 in the third row, with ALMA continuum contours (purple) at 10 and 20$\\sigma$ overlaid.\n",
       "Image size is 4$\\arcsec$$\\times$4$\\arcsec$.\n",
       "These galaxies are selected as companions of quasars with ALMA, but remain undetected or faint at JWST/NIRCam wavelengths.\n",
       " (*fig:img*)\n",
       "\n",
       "</div><div id=\"qrcode\"><img src=https://api.qrserver.com/v1/create-qr-code/?size=100x100&data=\"https://arxiv.org/abs/2506.06418\"></div>"
      ],
      "text/plain": [
       "<IPython.core.display.Markdown object>"
      ]
     },
     "metadata": {},
     "output_type": "display_data"
    },
    {
     "data": {
      "text/markdown": [
       "<div class=\"macros\" style=\"visibility:hidden;\">\n",
       "$\\newcommand{\\ensuremath}{}$\n",
       "$\\newcommand{\\xspace}{}$\n",
       "$\\newcommand{\\object}[1]{\\texttt{#1}}$\n",
       "$\\newcommand{\\farcs}{{.}''}$\n",
       "$\\newcommand{\\farcm}{{.}'}$\n",
       "$\\newcommand{\\arcsec}{''}$\n",
       "$\\newcommand{\\arcmin}{'}$\n",
       "$\\newcommand{\\ion}[2]{#1#2}$\n",
       "$\\newcommand{\\textsc}[1]{\\textrm{#1}}$\n",
       "$\\newcommand{\\hl}[1]{\\textrm{#1}}$\n",
       "$\\newcommand{\\footnote}[1]{}$\n",
       "$\\newcommand{\\url}[1]{\\href{#1}{#1}}$\n",
       "$\\newcommand{\\dodoi}[1]{doi:~\\href{http://doi.org/#1}{\\nolinkurl{#1}}}$\n",
       "$\\newcommand{\\doeprint}[1]{\\href{http://ascl.net/#1}{\\nolinkurl{http://ascl.net/#1}}}$\n",
       "$\\newcommand{\\doarXiv}[1]{\\href{https://arxiv.org/abs/#1}{\\nolinkurl{https://arxiv.org/abs/#1}}}$\n",
       "$\\newcommand{\\vdag}{(v)^\\dagger}$\n",
       "$\\newcommand$\n",
       "$\\newcommand$\n",
       "$\\newcommand\\natexlab{#1}$</div>\n",
       "\n",
       "\n",
       "\n",
       "<div id=\"title\">\n",
       "\n",
       "# Grand Design Spiral Arms in the Compact, Embedded Protoplanetary Disk of Haro 6-13\n",
       "\n",
       "</div>\n",
       "<div id=\"comments\">\n",
       "\n",
       "[![arXiv](https://img.shields.io/badge/arXiv-2506.06433-b31b1b.svg)](https://arxiv.org/abs/2506.06433)<mark>Appeared on: 2025-06-10</mark> -  _Accepted by ApJ_\n",
       "\n",
       "</div>\n",
       "<div id=\"authors\">\n",
       "\n",
       "J. Huang, et al. -- incl., <mark>M. Benisty</mark>\n",
       "\n",
       "</div>\n",
       "<div id=\"abstract\">\n",
       "\n",
       "**Abstract:** Millimeter continuum spiral arms have so far only been detected in a handful of protoplanetary disks, and thus we have a limited understanding of the circumstances in which they can form. In particular, substructures in small disks ( $R\\lessapprox 50$ au) have not been well-characterized in comparison with large disks. We present ALMA 1.3 mm continuum observations of the disk around the T Tauri star Haro 6-13 at a resolution of $\\sim0\\farcs04$ ( $\\sim5$ au). A pair of low-contrast spiral arms are detected at disk radii from $\\sim10-35$ au. They can be approximated as Archimedean spirals with pitch angles ranging from $\\sim10-30^\\circ$ . The low value of the disk-averaged spectral index between 1.3 and 3 mm ( $\\alpha=2.1$ ) and the high brightness temperatures suggest that the millimeter continuum is likely optically thick and thus may hide sufficient mass for the disk to become gravitationally unstable and form spiral arms. CO observations have shown that Haro 6-13 is surrounded by an envelope, raising the possibility that infall is facilitating spiral arm formation.\n",
       "\n",
       "</div>\n",
       "\n",
       "<div id=\"div_fig1\">\n",
       "\n",
       "<img src=\"tmp_2506.06433/./continuumoverview.png\" alt=\"Fig4\" width=\"100%\"/>\n",
       "\n",
       "**Figure 4. -** Left: 1.3 mm continuum image of Haro 6-13 and the corresponding intensity map as a function of radius and azimuthal angle in disk coordinates. An arcsinh stretch is used for the color scale. The synthesized beam is shown in the lower left corner of the CLEAN image. Right: The CLEAN image with an unsharp mask applied and the corresponding intensity map in $R$, $\\theta$ coordinates.  (*fig:continuumoverview*)\n",
       "\n",
       "</div>\n",
       "<div id=\"div_fig2\">\n",
       "\n",
       "<img src=\"tmp_2506.06433/./protomidpymodel.png\" alt=\"Fig5\" width=\"100%\"/>\n",
       "\n",
       "**Figure 5. -** Top left: 300 random $I(r)$ samples from \\texttt{protomidpy} modeling. Center left: CLEAN image of axisymmetric \\texttt{protomidpy} model. Bottom left: Corresponding intensity plot in $R$ and $\\theta$ coordinates. Top right: Comparison of radial profiles calculated from CLEAN images of the observations and model. Center right: CLEAN image of the continuum residual visibilities created by subtracting the _maximum a posteriori_\\texttt{protomidpy} model from the observed visibilities. The purple star marks the disk center. The black dots mark the spiral arm positions identified by \\texttt{filfinder}. Bottom right: Plot of the continuum residuals in $R$ and $\\theta$ coordinates.   (*fig:protomidpy*)\n",
       "\n",
       "</div>\n",
       "<div id=\"div_fig3\">\n",
       "\n",
       "<img src=\"tmp_2506.06433/./radialprofile.png\" alt=\"Fig1\" width=\"100%\"/>\n",
       "\n",
       "**Figure 1. -** Azimuthally averaged, deprojected radial profile of the 1.3 mm continuum image. The shaded ribbon shows the scatter in each radial bin divided by the square root of the number of synthesized beams spanning each bin. The inset shows the faint emission at larger radii. (*fig:radialprofile*)\n",
       "\n",
       "</div><div id=\"qrcode\"><img src=https://api.qrserver.com/v1/create-qr-code/?size=100x100&data=\"https://arxiv.org/abs/2506.06433\"></div>"
      ],
      "text/plain": [
       "<IPython.core.display.Markdown object>"
      ]
     },
     "metadata": {},
     "output_type": "display_data"
    },
    {
     "data": {
      "text/markdown": [
       "<div class=\"macros\" style=\"visibility:hidden;\">\n",
       "$\\newcommand{\\ensuremath}{}$\n",
       "$\\newcommand{\\xspace}{}$\n",
       "$\\newcommand{\\object}[1]{\\texttt{#1}}$\n",
       "$\\newcommand{\\farcs}{{.}''}$\n",
       "$\\newcommand{\\farcm}{{.}'}$\n",
       "$\\newcommand{\\arcsec}{''}$\n",
       "$\\newcommand{\\arcmin}{'}$\n",
       "$\\newcommand{\\ion}[2]{#1#2}$\n",
       "$\\newcommand{\\textsc}[1]{\\textrm{#1}}$\n",
       "$\\newcommand{\\hl}[1]{\\textrm{#1}}$\n",
       "$\\newcommand{\\footnote}[1]{}$\n",
       "$\\newcommand{\\orcid}[1]{\\unskip\\protect\\href{https://orcid.org/#1}{\\protect\\includegraphics[width=8pt,clip]{logo_orcid.png}}}$\n",
       "$\\newcommand{\\kms}{km~s^{-1}}$\n",
       "$\\newcommand{\\ms}{m~s^{-1}}$\n",
       "$\\newcommand{\\teff}{T_{\\rm eff}}$\n",
       "$\\newcommand{\\logg}{log~g}$\n",
       "$\\newcommand{\\mh}{[M/H]}$\n",
       "$\\newcommand{\\feh}{[Fe/H]}$\n",
       "$\\newcommand{\\am}{[\\alpha/M]}$\n",
       "$\\newcommand{\\cm}{[C/M]}$\n",
       "$\\newcommand{\\ch}{[C/H]}$\n",
       "$\\newcommand{\\cih}{[CI/H]}$\n",
       "$\\newcommand{\\nm}{[N/M]}$\n",
       "$\\newcommand{\\nh}{[N/H]}$\n",
       "$\\newcommand{\\oh}{[O/H]}$\n",
       "$\\newcommand{\\nah}{[Na/H]}$\n",
       "$\\newcommand{\\mgh}{[Mg/H]}$\n",
       "$\\newcommand{\\alh}{[Al/H]}$\n",
       "$\\newcommand{\\sih}{[Si/H]}$\n",
       "$\\newcommand{\\ph}{[P/H]}$\n",
       "$\\newcommand{\\sh}{[S/H]}$\n",
       "$\\newcommand{\\kh}{[K/H]}$\n",
       "$\\newcommand{\\cah}{[Ca/H]}$\n",
       "$\\newcommand{\\tih}{[Ti/H]}$\n",
       "$\\newcommand{\\tiih}{[TiII/H]}$\n",
       "$\\newcommand{\\vh}{[V/H]}$\n",
       "$\\newcommand{\\crh}{[Cr/H]}$\n",
       "$\\newcommand{\\mnh}{[Mn/H]}$\n",
       "$\\newcommand{\\coh}{[Co/H]}$\n",
       "$\\newcommand{\\nih}{[Ni/H]}$\n",
       "$\\newcommand{\\cuh}{[Cu/H]}$\n",
       "$\\newcommand{\\ceh}{[Ce/H]}$\n",
       "$\\newcommand{\\ndh}{[Nd/H]}$\n",
       "$\\newcommand{\\xh}{[X/H]}$\n",
       "$\\newcommand{\\xm}{[X/M]}$\n",
       "$\\newcommand{\\om}{[O/M]}$\n",
       "$\\newcommand{\\nam}{[Na/M]}$\n",
       "$\\newcommand{\\mgm}{[Mg/M]}$\n",
       "$\\newcommand{\\alm}{[Al/M]}$\n",
       "$\\newcommand{\\simm}{[Si/M]}$\n",
       "$\\newcommand{\\pmm}{[P/M]}$\n",
       "$\\newcommand{\\sm}{[S/M]}$\n",
       "$\\newcommand{\\km}{[K/M]}$\n",
       "$\\newcommand{\\cam}{[Ca/M]}$\n",
       "$\\newcommand{\\tim}{[Ti/M]}$\n",
       "$\\newcommand{\\vm}{[V/M]}$\n",
       "$\\newcommand{\\crm}{[Cr/M]}$\n",
       "$\\newcommand{\\mnm}{[Mn/M]}$\n",
       "$\\newcommand{\\com}{[Co/M]}$\n",
       "$\\newcommand{\\nim}{[Ni/M]}$\n",
       "$\\newcommand{\\cum}{[Cu/M]}$\n",
       "$\\newcommand{\\cem}{[Ce/M]}$\n",
       "$\\newcommand{\\ndm}{[Nd/M]}$\n",
       "$\\newcommand{\\snr}{S/N}$\n",
       "$\\newcommand{\\vk}{V-K_{\\rm s}}$\n",
       "$\\newcommand{\\jk}{J-K_{\\rm s}}$\n",
       "$\\newcommand{\\bprp}{BP-RP}$\n",
       "$\\newcommand{\\vmicro}{v_{\\rm micro}}$\n",
       "$\\newcommand{\\vmacro}{v_{\\rm macro}}$\n",
       "$\\newcommand{\\vrad}{v_{\\rm rad}}$\n",
       "$\\newcommand{\\ebv}{E(B-V)}$\n",
       "$\\newcommand{\\vsini}{v  \\mathrm{sin}  i}$\n",
       "$\\newcommand{\\mum}{\\mum}$\n",
       "$\\newcommand\\hackaltaffiltext{#1#2}$</div>\n",
       "\n",
       "\n",
       "\n",
       "<div id=\"title\">\n",
       "\n",
       "# SDSS-V Milky Way Mapper (MWM): ASPCAP Stellar Parameters and Abundances in SDSS-V Data Release 19\n",
       "\n",
       "</div>\n",
       "<div id=\"comments\">\n",
       "\n",
       "[![arXiv](https://img.shields.io/badge/arXiv-2506.07845-b31b1b.svg)](https://arxiv.org/abs/2506.07845)<mark>Appeared on: 2025-06-10</mark> -  _30 pages, 20 figures, 6 tables, accepted for publication in AJ_\n",
       "\n",
       "</div>\n",
       "<div id=\"authors\">\n",
       "\n",
       "S. Mészáros, et al. -- incl., <mark>G. Guiglion</mark>\n",
       "\n",
       "</div>\n",
       "<div id=\"abstract\">\n",
       "\n",
       "**Abstract:** The goal of this paper is to describe the science verification of Milky Way Mapper (MWM) ASPCAP data products published in Data Release 19 (DR19) of the fifth phase of the Sloan Digital Sky Survey (SDSS-V). We compare MWM ASPCAP atmospheric parameters $\\teff$ , $\\logg$ , 24 abundances of 21 elements (carbon, nitrogen, and oxygen have multiple sources for deriving their abundance values) and their uncertainties determined from APOGEE spectrograph spectra with those of the literature and evaluate their accuracy and precision. We also test the zero-point calibration of the $\\vrad$ derived by the APOGEE Data Reduction Pipeline. This data release contains ASPCAP parameters for 964,989 stars, including all APOGEE-2 targets expanded with new observations of 336,511 stars from the Apache Point Observatory (APO) observed until 4 July 2023. Overall, the new $\\teff$ values show excellent agreement with the IRFM scale, while the surface gravities exhibit slight systematic offsets compared to asteroseisimic gravities. The estimated precision of $\\teff$ is between 50 and 70 K for giants and 70 $-$ 100 K for dwarfs, while surface gravities are measured with a precision of 0.07 $-$ 0.09 dex for giants. We achieve an estimated precision of 0.02 $-$ 0.04 dex for multiple elements, including metallicity, $\\alpha$ , Mg, and Si, while the precision of at least 10 elements is better than 0.1 dex.\n",
       "\n",
       "</div>\n",
       "\n",
       "<div id=\"div_fig1\">\n",
       "\n",
       "<img src=\"tmp_2506.07845/./abun_map.png\" alt=\"Fig15\" width=\"100%\"/>\n",
       "\n",
       "**Figure 15. -** Corrected abundances published in DR19 as a function of $\\mh$  of stars with $\\snr$$>$ 50, no BAD flags, and e$\\_$x$\\_$h $<$ 0.2. Features seen in the calibrated abundances are discussed in the individual abundance sections. Stripes seen in the low density regions of some abundances (Na, P, K, V, Cr, Co, Cu, Ce, Nd) indicate noding problems at low abundance values. All abundances are plotted, except those that are within 0.03 dex of the grid edge. Abundances of C$_{\\rm global}$ and N$_{\\rm global}$ are from the global fit. (*abunmap*)\n",
       "\n",
       "</div>\n",
       "<div id=\"div_fig2\">\n",
       "\n",
       "<img src=\"tmp_2506.07845/./solar_neigh_teff_giants.png\" alt=\"Fig13\" width=\"100%\"/>\n",
       "\n",
       "**Figure 13. -** Raw abundances of giants in the solar neighborhood solar metallicity sample as a function of $\\teff$. Stars with $\\snr$$>$ 50, no BAD flags, and $-$0.05 $<$\\mh$<$ 0.05 are plotted only. The zero-point offset for giants stars were determined from the 4000$-$6000 K range. Abundances of C$_{\\rm global}$ and N$_{\\rm global}$ are from the global fit. (*solarneigh*)\n",
       "\n",
       "</div>\n",
       "<div id=\"div_fig3\">\n",
       "\n",
       "<img src=\"tmp_2506.07845/./mwm_apodr17.png\" alt=\"Fig19\" width=\"100%\"/>\n",
       "\n",
       "**Figure 19. -** Comparison between MWM DR19 and APOGEE DR17 abundances as a function of $\\teff$  color coded by MWM $\\mh$. $\\snr$  was restricted to be larger than 50 in both surveys. Abundances of C$_{\\rm global}$ and N$_{\\rm global}$ are from the global fit. The solid black line shows the running median value. (*mwmapogee*)\n",
       "\n",
       "</div><div id=\"qrcode\"><img src=https://api.qrserver.com/v1/create-qr-code/?size=100x100&data=\"https://arxiv.org/abs/2506.07845\"></div>"
      ],
      "text/plain": [
       "<IPython.core.display.Markdown object>"
      ]
     },
     "metadata": {},
     "output_type": "display_data"
    }
   ],
   "source": [
    "[display(Markdown(k[1])) for k in documents];"
   ]
  },
  {
   "cell_type": "markdown",
   "id": "873873a4",
   "metadata": {
    "papermill": {
     "duration": 0.005926,
     "end_time": "2025-06-10T04:22:55.699099",
     "exception": false,
     "start_time": "2025-06-10T04:22:55.693173",
     "status": "completed"
    },
    "tags": []
   },
   "source": [
    "# Create HTML index"
   ]
  },
  {
   "cell_type": "code",
   "execution_count": 10,
   "id": "cf665672",
   "metadata": {
    "execution": {
     "iopub.execute_input": "2025-06-10T04:22:55.711863Z",
     "iopub.status.busy": "2025-06-10T04:22:55.711453Z",
     "iopub.status.idle": "2025-06-10T04:22:55.722270Z",
     "shell.execute_reply": "2025-06-10T04:22:55.721739Z"
    },
    "papermill": {
     "duration": 0.018266,
     "end_time": "2025-06-10T04:22:55.723261",
     "exception": false,
     "start_time": "2025-06-10T04:22:55.704995",
     "status": "completed"
    },
    "tags": []
   },
   "outputs": [
    {
     "name": "stdout",
     "output_type": "stream",
     "text": [
      "517  publications files modified in the last 7 days.\n"
     ]
    }
   ],
   "source": [
    "from datetime import datetime, timedelta, timezone\n",
    "from glob import glob\n",
    "import os\n",
    "\n",
    "files = glob('_build/html/*.md')\n",
    "days = 7\n",
    "now = datetime.today()\n",
    "res = []\n",
    "for fk in files:\n",
    "    stat_result = os.stat(fk).st_ctime\n",
    "    modified = datetime.fromtimestamp(stat_result, tz=timezone.utc).replace(tzinfo=None)\n",
    "    delta = now.today() - modified\n",
    "    if delta <= timedelta(days=days):\n",
    "        res.append((delta.seconds, fk))\n",
    "res = [k[1] for k in reversed(sorted(res, key=lambda x:x[1]))]\n",
    "npub = len(res)\n",
    "print(len(res), f\" publications files modified in the last {days:d} days.\")\n",
    "# [ print('\\t', k) for k in res ];"
   ]
  },
  {
   "cell_type": "code",
   "execution_count": 11,
   "id": "015de740",
   "metadata": {
    "execution": {
     "iopub.execute_input": "2025-06-10T04:22:55.736134Z",
     "iopub.status.busy": "2025-06-10T04:22:55.735944Z",
     "iopub.status.idle": "2025-06-10T04:22:55.760848Z",
     "shell.execute_reply": "2025-06-10T04:22:55.760207Z"
    },
    "papermill": {
     "duration": 0.032423,
     "end_time": "2025-06-10T04:22:55.761794",
     "exception": false,
     "start_time": "2025-06-10T04:22:55.729371",
     "status": "completed"
    },
    "tags": []
   },
   "outputs": [
    {
     "name": "stdout",
     "output_type": "stream",
     "text": [
      "11  publications in the last 7 days.\n"
     ]
    }
   ],
   "source": [
    "import datetime\n",
    "from glob import glob\n",
    "\n",
    "def get_last_n_days(lst, days=1):\n",
    "    \"\"\" Get the documents from the last n days \"\"\"\n",
    "    sorted_lst = sorted(lst, key=lambda x: x[1], reverse=True)\n",
    "    for fname, date in sorted_lst:\n",
    "        if date >= str(datetime.date.today() - datetime.timedelta(days=days)):\n",
    "            yield fname\n",
    "\n",
    "def extract_appearance_dates(lst_file):\n",
    "    dates = []\n",
    "\n",
    "    def get_date(line):\n",
    "        return line\\\n",
    "            .split('Appeared on:')[-1]\\\n",
    "            .split('</mark>')[0].strip()\n",
    "\n",
    "    for fname in lst:\n",
    "        with open(fname, 'r') as f:\n",
    "            found_date = False\n",
    "            for line in f:\n",
    "                if not found_date:\n",
    "                    if \"Appeared on\" in line:\n",
    "                        found_date = True\n",
    "                        dates.append((fname, get_date(line)))\n",
    "                else:\n",
    "                    break\n",
    "    return dates\n",
    "\n",
    "from glob import glob\n",
    "lst = glob('_build/html/*md')\n",
    "days = 7\n",
    "dates = extract_appearance_dates(lst)\n",
    "res = list(get_last_n_days(dates, days))\n",
    "npub = len(res)\n",
    "print(len(res), f\" publications in the last {days:d} days.\")"
   ]
  },
  {
   "cell_type": "code",
   "execution_count": 12,
   "id": "52ca0208",
   "metadata": {
    "execution": {
     "iopub.execute_input": "2025-06-10T04:22:55.775266Z",
     "iopub.status.busy": "2025-06-10T04:22:55.774827Z",
     "iopub.status.idle": "2025-06-10T04:22:55.779794Z",
     "shell.execute_reply": "2025-06-10T04:22:55.779258Z"
    },
    "papermill": {
     "duration": 0.012701,
     "end_time": "2025-06-10T04:22:55.780721",
     "exception": false,
     "start_time": "2025-06-10T04:22:55.768020",
     "status": "completed"
    },
    "scrolled": false,
    "tags": []
   },
   "outputs": [],
   "source": [
    "def create_carousel(npub=4):\n",
    "    \"\"\" Generate the HTML code for a carousel with `npub` slides \"\"\"\n",
    "    carousel = [\"\"\"  <div class=\"carousel\" \"\"\",\n",
    "                \"\"\"       data-flickity='{ \"autoPlay\": 10000, \"adaptiveHeight\": true, \"resize\": true, \"wrapAround\": true, \"pauseAutoPlayOnHover\": true, \"groupCells\": 1 }' id=\"asyncTypeset\">\"\"\"\n",
    "                ]\n",
    "    \n",
    "    item_str = \"\"\"    <div class=\"carousel-cell\"> <div id=\"slide{k}\" class=\"md_view\">Content {k}</div> </div>\"\"\"\n",
    "    for k in range(1, npub + 1):\n",
    "        carousel.append(item_str.format(k=k))\n",
    "    carousel.append(\"  </div>\")\n",
    "    return '\\n'.join(carousel)\n",
    "\n",
    "def create_grid(npub=4):\n",
    "    \"\"\" Generate the HTML code for a flat grid with `npub` slides \"\"\"\n",
    "    grid = [\"\"\"  <div class=\"grid\"> \"\"\",\n",
    "                ]\n",
    "    \n",
    "    item_str = \"\"\"    <div class=\"grid-item\"> <div id=\"slide{k}\" class=\"md_view\">Content {k}</div> </div>\"\"\"\n",
    "    for k in range(1, npub + 1):\n",
    "        grid.append(item_str.format(k=k))\n",
    "    grid.append(\"  </div>\")\n",
    "    return '\\n'.join(grid)"
   ]
  },
  {
   "cell_type": "code",
   "execution_count": 13,
   "id": "a6eac5b6",
   "metadata": {
    "execution": {
     "iopub.execute_input": "2025-06-10T04:22:55.793926Z",
     "iopub.status.busy": "2025-06-10T04:22:55.793530Z",
     "iopub.status.idle": "2025-06-10T04:22:55.798504Z",
     "shell.execute_reply": "2025-06-10T04:22:55.797883Z"
    },
    "papermill": {
     "duration": 0.012678,
     "end_time": "2025-06-10T04:22:55.799566",
     "exception": false,
     "start_time": "2025-06-10T04:22:55.786888",
     "status": "completed"
    },
    "scrolled": false,
    "tags": []
   },
   "outputs": [],
   "source": [
    "carousel = create_carousel(npub)\n",
    "docs = ', '.join(['\"{0:s}\"'.format(k.split('/')[-1]) for k in res])\n",
    "slides = ', '.join([f'\"slide{k}\"' for k in range(1, npub + 1)])\n",
    "\n",
    "with open(\"daily_template.html\", \"r\") as tpl:\n",
    "    page = tpl.read()\n",
    "    page = page.replace(\"{%-- carousel:s --%}\", carousel)\\\n",
    "               .replace(\"{%-- suptitle:s --%}\",  \"7-day archives\" )\\\n",
    "               .replace(\"{%-- docs:s --%}\", docs)\\\n",
    "               .replace(\"{%-- slides:s --%}\", slides)\n",
    "    \n",
    "with open(\"_build/html/index_7days.html\", 'w') as fout:\n",
    "    fout.write(page)"
   ]
  },
  {
   "cell_type": "code",
   "execution_count": 14,
   "id": "adc1a1ec",
   "metadata": {
    "execution": {
     "iopub.execute_input": "2025-06-10T04:22:55.812975Z",
     "iopub.status.busy": "2025-06-10T04:22:55.812568Z",
     "iopub.status.idle": "2025-06-10T04:22:55.819804Z",
     "shell.execute_reply": "2025-06-10T04:22:55.819213Z"
    },
    "papermill": {
     "duration": 0.014904,
     "end_time": "2025-06-10T04:22:55.820728",
     "exception": false,
     "start_time": "2025-06-10T04:22:55.805824",
     "status": "completed"
    },
    "tags": []
   },
   "outputs": [
    {
     "name": "stdout",
     "output_type": "stream",
     "text": [
      "7  publications in the last day.\n"
     ]
    }
   ],
   "source": [
    "# redo for today\n",
    "days = 1\n",
    "res = list(get_last_n_days(dates, days))\n",
    "npub = len(res)\n",
    "print(len(res), f\" publications in the last day.\")\n",
    "\n",
    "carousel = create_carousel(npub)\n",
    "docs = ', '.join(['\"{0:s}\"'.format(k.split('/')[-1]) for k in res])\n",
    "slides = ', '.join([f'\"slide{k}\"' for k in range(1, npub + 1)])\n",
    "\n",
    "with open(\"daily_template.html\", \"r\") as tpl:\n",
    "    page = tpl.read()\n",
    "    page = page.replace(\"{%-- carousel:s --%}\", carousel)\\\n",
    "               .replace(\"{%-- suptitle:s --%}\",  \"Daily\" )\\\n",
    "               .replace(\"{%-- docs:s --%}\", docs)\\\n",
    "               .replace(\"{%-- slides:s --%}\", slides)\n",
    "    \n",
    "# print(carousel, docs, slides)\n",
    "# print(page)\n",
    "with open(\"_build/html/index_daily.html\", 'w') as fout:\n",
    "    fout.write(page)"
   ]
  },
  {
   "cell_type": "code",
   "execution_count": 15,
   "id": "00eece82",
   "metadata": {
    "execution": {
     "iopub.execute_input": "2025-06-10T04:22:55.834117Z",
     "iopub.status.busy": "2025-06-10T04:22:55.833730Z",
     "iopub.status.idle": "2025-06-10T04:22:55.840226Z",
     "shell.execute_reply": "2025-06-10T04:22:55.839668Z"
    },
    "papermill": {
     "duration": 0.014286,
     "end_time": "2025-06-10T04:22:55.841222",
     "exception": false,
     "start_time": "2025-06-10T04:22:55.826936",
     "status": "completed"
    },
    "scrolled": false,
    "tags": []
   },
   "outputs": [
    {
     "name": "stdout",
     "output_type": "stream",
     "text": [
      "6  6 publications selected.\n"
     ]
    }
   ],
   "source": [
    "# Create the flat grid of the last N papers (fixed number regardless of dates)\n",
    "from itertools import islice \n",
    "\n",
    "npub = 6\n",
    "res = [k[0] for k in (islice(reversed(sorted(dates, key=lambda x: x[1])), 6))]\n",
    "print(len(res), f\" {npub} publications selected.\")\n",
    "\n",
    "grid = create_grid(npub)\n",
    "docs = ', '.join(['\"{0:s}\"'.format(k.split('/')[-1]) for k in res])\n",
    "slides = ', '.join([f'\"slide{k}\"' for k in range(1, npub + 1)])\n",
    "\n",
    "with open(\"grid_template.html\", \"r\") as tpl:\n",
    "    page = tpl.read()\n",
    "    page = page.replace(\"{%-- grid-content:s --%}\", grid)\\\n",
    "               .replace(\"{%-- suptitle:s --%}\",  f\"Last {npub:,d} papers\" )\\\n",
    "               .replace(\"{%-- docs:s --%}\", docs)\\\n",
    "               .replace(\"{%-- slides:s --%}\", slides)\n",
    "    \n",
    "# print(grid, docs, slides)\n",
    "# print(page)\n",
    "with open(\"_build/html/index_npub_grid.html\", 'w') as fout:\n",
    "    fout.write(page)"
   ]
  }
 ],
 "metadata": {
  "kernelspec": {
   "display_name": "Python 3 (ipykernel)",
   "language": "python",
   "name": "python3"
  },
  "language_info": {
   "codemirror_mode": {
    "name": "ipython",
    "version": 3
   },
   "file_extension": ".py",
   "mimetype": "text/x-python",
   "name": "python",
   "nbconvert_exporter": "python",
   "pygments_lexer": "ipython3",
   "version": "3.9.22"
  },
  "papermill": {
   "default_parameters": {},
   "duration": 215.813884,
   "end_time": "2025-06-10T04:22:56.164039",
   "environment_variables": {},
   "exception": null,
   "input_path": "MPIA daily digest.ipynb",
   "output_path": "log.ipynb",
   "parameters": {},
   "start_time": "2025-06-10T04:19:20.350155",
   "version": "2.6.0"
  },
  "vscode": {
   "interpreter": {
    "hash": "aee8b7b246df8f9039afb4144a1f6fd8d2ca17a180786b69acc140d282b71a49"
   }
  },
  "widgets": {
   "application/vnd.jupyter.widget-state+json": {
    "state": {
     "00aa3c27022546b5b61ad5d5de1a4b5d": {
      "model_module": "@jupyter-widgets/controls",
      "model_module_version": "2.0.0",
      "model_name": "HTMLStyleModel",
      "state": {
       "_model_module": "@jupyter-widgets/controls",
       "_model_module_version": "2.0.0",
       "_model_name": "HTMLStyleModel",
       "_view_count": null,
       "_view_module": "@jupyter-widgets/base",
       "_view_module_version": "2.0.0",
       "_view_name": "StyleView",
       "background": null,
       "description_width": "",
       "font_size": null,
       "text_color": null
      }
     },
     "2bfb62e8edb7480aa93f180e1ec4ba65": {
      "model_module": "@jupyter-widgets/controls",
      "model_module_version": "2.0.0",
      "model_name": "HTMLModel",
      "state": {
       "_dom_classes": [],
       "_model_module": "@jupyter-widgets/controls",
       "_model_module_version": "2.0.0",
       "_model_name": "HTMLModel",
       "_view_count": null,
       "_view_module": "@jupyter-widgets/controls",
       "_view_module_version": "2.0.0",
       "_view_name": "HTMLView",
       "description": "",
       "description_allow_html": false,
       "layout": "IPY_MODEL_920f80bbdc6249769dbf43a5f03cc7ca",
       "placeholder": "​",
       "style": "IPY_MODEL_00aa3c27022546b5b61ad5d5de1a4b5d",
       "tabbable": null,
       "tooltip": null,
       "value": " 8/8 [02:31&lt;00:00, 18.21s/it]"
      }
     },
     "2d4b1cb203024be5aee41bd0ef3888fd": {
      "model_module": "@jupyter-widgets/base",
      "model_module_version": "2.0.0",
      "model_name": "LayoutModel",
      "state": {
       "_model_module": "@jupyter-widgets/base",
       "_model_module_version": "2.0.0",
       "_model_name": "LayoutModel",
       "_view_count": null,
       "_view_module": "@jupyter-widgets/base",
       "_view_module_version": "2.0.0",
       "_view_name": "LayoutView",
       "align_content": null,
       "align_items": null,
       "align_self": null,
       "border_bottom": null,
       "border_left": null,
       "border_right": null,
       "border_top": null,
       "bottom": null,
       "display": null,
       "flex": null,
       "flex_flow": null,
       "grid_area": null,
       "grid_auto_columns": null,
       "grid_auto_flow": null,
       "grid_auto_rows": null,
       "grid_column": null,
       "grid_gap": null,
       "grid_row": null,
       "grid_template_areas": null,
       "grid_template_columns": null,
       "grid_template_rows": null,
       "height": null,
       "justify_content": null,
       "justify_items": null,
       "left": null,
       "margin": null,
       "max_height": null,
       "max_width": null,
       "min_height": null,
       "min_width": null,
       "object_fit": null,
       "object_position": null,
       "order": null,
       "overflow": null,
       "padding": null,
       "right": null,
       "top": null,
       "visibility": null,
       "width": null
      }
     },
     "3d0c8651ae4449f3bcbc41d4a8776e0a": {
      "model_module": "@jupyter-widgets/controls",
      "model_module_version": "2.0.0",
      "model_name": "FloatProgressModel",
      "state": {
       "_dom_classes": [],
       "_model_module": "@jupyter-widgets/controls",
       "_model_module_version": "2.0.0",
       "_model_name": "FloatProgressModel",
       "_view_count": null,
       "_view_module": "@jupyter-widgets/controls",
       "_view_module_version": "2.0.0",
       "_view_name": "ProgressView",
       "bar_style": "success",
       "description": "",
       "description_allow_html": false,
       "layout": "IPY_MODEL_47dcaa7091824edbbbcc30368461a962",
       "max": 8.0,
       "min": 0.0,
       "orientation": "horizontal",
       "style": "IPY_MODEL_3d692cb1e1664e38b89366764d3846ad",
       "tabbable": null,
       "tooltip": null,
       "value": 8.0
      }
     },
     "3d692cb1e1664e38b89366764d3846ad": {
      "model_module": "@jupyter-widgets/controls",
      "model_module_version": "2.0.0",
      "model_name": "ProgressStyleModel",
      "state": {
       "_model_module": "@jupyter-widgets/controls",
       "_model_module_version": "2.0.0",
       "_model_name": "ProgressStyleModel",
       "_view_count": null,
       "_view_module": "@jupyter-widgets/base",
       "_view_module_version": "2.0.0",
       "_view_name": "StyleView",
       "bar_color": null,
       "description_width": ""
      }
     },
     "47dcaa7091824edbbbcc30368461a962": {
      "model_module": "@jupyter-widgets/base",
      "model_module_version": "2.0.0",
      "model_name": "LayoutModel",
      "state": {
       "_model_module": "@jupyter-widgets/base",
       "_model_module_version": "2.0.0",
       "_model_name": "LayoutModel",
       "_view_count": null,
       "_view_module": "@jupyter-widgets/base",
       "_view_module_version": "2.0.0",
       "_view_name": "LayoutView",
       "align_content": null,
       "align_items": null,
       "align_self": null,
       "border_bottom": null,
       "border_left": null,
       "border_right": null,
       "border_top": null,
       "bottom": null,
       "display": null,
       "flex": null,
       "flex_flow": null,
       "grid_area": null,
       "grid_auto_columns": null,
       "grid_auto_flow": null,
       "grid_auto_rows": null,
       "grid_column": null,
       "grid_gap": null,
       "grid_row": null,
       "grid_template_areas": null,
       "grid_template_columns": null,
       "grid_template_rows": null,
       "height": null,
       "justify_content": null,
       "justify_items": null,
       "left": null,
       "margin": null,
       "max_height": null,
       "max_width": null,
       "min_height": null,
       "min_width": null,
       "object_fit": null,
       "object_position": null,
       "order": null,
       "overflow": null,
       "padding": null,
       "right": null,
       "top": null,
       "visibility": null,
       "width": null
      }
     },
     "615fd92bf2f24e46afe25abbc0c4b5fc": {
      "model_module": "@jupyter-widgets/controls",
      "model_module_version": "2.0.0",
      "model_name": "HBoxModel",
      "state": {
       "_dom_classes": [],
       "_model_module": "@jupyter-widgets/controls",
       "_model_module_version": "2.0.0",
       "_model_name": "HBoxModel",
       "_view_count": null,
       "_view_module": "@jupyter-widgets/controls",
       "_view_module_version": "2.0.0",
       "_view_name": "HBoxView",
       "box_style": "",
       "children": [
        "IPY_MODEL_7b164195e6ba4170af024c07a6f6a836",
        "IPY_MODEL_3d0c8651ae4449f3bcbc41d4a8776e0a",
        "IPY_MODEL_2bfb62e8edb7480aa93f180e1ec4ba65"
       ],
       "layout": "IPY_MODEL_b6a96c2c53cb4d7ab002ee70ad02eabb",
       "tabbable": null,
       "tooltip": null
      }
     },
     "7b164195e6ba4170af024c07a6f6a836": {
      "model_module": "@jupyter-widgets/controls",
      "model_module_version": "2.0.0",
      "model_name": "HTMLModel",
      "state": {
       "_dom_classes": [],
       "_model_module": "@jupyter-widgets/controls",
       "_model_module_version": "2.0.0",
       "_model_name": "HTMLModel",
       "_view_count": null,
       "_view_module": "@jupyter-widgets/controls",
       "_view_module_version": "2.0.0",
       "_view_name": "HTMLView",
       "description": "",
       "description_allow_html": false,
       "layout": "IPY_MODEL_2d4b1cb203024be5aee41bd0ef3888fd",
       "placeholder": "​",
       "style": "IPY_MODEL_fe53b47da55f48f9ac9077819f5a34c4",
       "tabbable": null,
       "tooltip": null,
       "value": "100%"
      }
     },
     "920f80bbdc6249769dbf43a5f03cc7ca": {
      "model_module": "@jupyter-widgets/base",
      "model_module_version": "2.0.0",
      "model_name": "LayoutModel",
      "state": {
       "_model_module": "@jupyter-widgets/base",
       "_model_module_version": "2.0.0",
       "_model_name": "LayoutModel",
       "_view_count": null,
       "_view_module": "@jupyter-widgets/base",
       "_view_module_version": "2.0.0",
       "_view_name": "LayoutView",
       "align_content": null,
       "align_items": null,
       "align_self": null,
       "border_bottom": null,
       "border_left": null,
       "border_right": null,
       "border_top": null,
       "bottom": null,
       "display": null,
       "flex": null,
       "flex_flow": null,
       "grid_area": null,
       "grid_auto_columns": null,
       "grid_auto_flow": null,
       "grid_auto_rows": null,
       "grid_column": null,
       "grid_gap": null,
       "grid_row": null,
       "grid_template_areas": null,
       "grid_template_columns": null,
       "grid_template_rows": null,
       "height": null,
       "justify_content": null,
       "justify_items": null,
       "left": null,
       "margin": null,
       "max_height": null,
       "max_width": null,
       "min_height": null,
       "min_width": null,
       "object_fit": null,
       "object_position": null,
       "order": null,
       "overflow": null,
       "padding": null,
       "right": null,
       "top": null,
       "visibility": null,
       "width": null
      }
     },
     "b6a96c2c53cb4d7ab002ee70ad02eabb": {
      "model_module": "@jupyter-widgets/base",
      "model_module_version": "2.0.0",
      "model_name": "LayoutModel",
      "state": {
       "_model_module": "@jupyter-widgets/base",
       "_model_module_version": "2.0.0",
       "_model_name": "LayoutModel",
       "_view_count": null,
       "_view_module": "@jupyter-widgets/base",
       "_view_module_version": "2.0.0",
       "_view_name": "LayoutView",
       "align_content": null,
       "align_items": null,
       "align_self": null,
       "border_bottom": null,
       "border_left": null,
       "border_right": null,
       "border_top": null,
       "bottom": null,
       "display": null,
       "flex": null,
       "flex_flow": null,
       "grid_area": null,
       "grid_auto_columns": null,
       "grid_auto_flow": null,
       "grid_auto_rows": null,
       "grid_column": null,
       "grid_gap": null,
       "grid_row": null,
       "grid_template_areas": null,
       "grid_template_columns": null,
       "grid_template_rows": null,
       "height": null,
       "justify_content": null,
       "justify_items": null,
       "left": null,
       "margin": null,
       "max_height": null,
       "max_width": null,
       "min_height": null,
       "min_width": null,
       "object_fit": null,
       "object_position": null,
       "order": null,
       "overflow": null,
       "padding": null,
       "right": null,
       "top": null,
       "visibility": null,
       "width": null
      }
     },
     "fe53b47da55f48f9ac9077819f5a34c4": {
      "model_module": "@jupyter-widgets/controls",
      "model_module_version": "2.0.0",
      "model_name": "HTMLStyleModel",
      "state": {
       "_model_module": "@jupyter-widgets/controls",
       "_model_module_version": "2.0.0",
       "_model_name": "HTMLStyleModel",
       "_view_count": null,
       "_view_module": "@jupyter-widgets/base",
       "_view_module_version": "2.0.0",
       "_view_name": "StyleView",
       "background": null,
       "description_width": "",
       "font_size": null,
       "text_color": null
      }
     }
    },
    "version_major": 2,
    "version_minor": 0
   }
  }
 },
 "nbformat": 4,
 "nbformat_minor": 5
}