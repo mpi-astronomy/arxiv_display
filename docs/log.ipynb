{
 "cells": [
  {
   "cell_type": "markdown",
   "id": "92bcb855",
   "metadata": {
    "papermill": {
     "duration": 0.003508,
     "end_time": "2024-03-15T04:08:51.532464",
     "exception": false,
     "start_time": "2024-03-15T04:08:51.528956",
     "status": "completed"
    },
    "tags": []
   },
   "source": [
    "# MPIA Arxiv on Deck 2\n",
    "\n",
    "Contains the steps to produce the paper extractions."
   ]
  },
  {
   "cell_type": "code",
   "execution_count": 1,
   "id": "3a0d6e11",
   "metadata": {
    "execution": {
     "iopub.execute_input": "2024-03-15T04:08:51.539208Z",
     "iopub.status.busy": "2024-03-15T04:08:51.538812Z",
     "iopub.status.idle": "2024-03-15T04:08:52.049792Z",
     "shell.execute_reply": "2024-03-15T04:08:52.049216Z"
    },
    "papermill": {
     "duration": 0.516033,
     "end_time": "2024-03-15T04:08:52.051425",
     "exception": false,
     "start_time": "2024-03-15T04:08:51.535392",
     "status": "completed"
    },
    "tags": []
   },
   "outputs": [],
   "source": [
    "# Imports\n",
    "import os\n",
    "from IPython.display import Markdown, display\n",
    "from tqdm.notebook import tqdm\n",
    "import warnings\n",
    "from PIL import Image \n",
    "\n",
    "# requires arxiv_on_deck_2\n",
    "\n",
    "from arxiv_on_deck_2.arxiv2 import (get_new_papers, \n",
    "                                    get_paper_from_identifier,\n",
    "                                    retrieve_document_source, \n",
    "                                    get_markdown_badge)\n",
    "from arxiv_on_deck_2 import (latex,\n",
    "                             latex_bib,\n",
    "                             mpia,\n",
    "                             highlight_authors_in_list)\n",
    "\n",
    "# Sometimes images are really big\n",
    "Image.MAX_IMAGE_PIXELS = 1000000000 "
   ]
  },
  {
   "cell_type": "code",
   "execution_count": 2,
   "id": "22aa9d44",
   "metadata": {
    "execution": {
     "iopub.execute_input": "2024-03-15T04:08:52.058493Z",
     "iopub.status.busy": "2024-03-15T04:08:52.057975Z",
     "iopub.status.idle": "2024-03-15T04:08:52.062985Z",
     "shell.execute_reply": "2024-03-15T04:08:52.062412Z"
    },
    "papermill": {
     "duration": 0.009782,
     "end_time": "2024-03-15T04:08:52.064258",
     "exception": false,
     "start_time": "2024-03-15T04:08:52.054476",
     "status": "completed"
    },
    "tags": []
   },
   "outputs": [],
   "source": [
    "# Some useful definitions.\n",
    "\n",
    "class AffiliationWarning(UserWarning):\n",
    "    pass\n",
    "\n",
    "class AffiliationError(RuntimeError):\n",
    "    pass\n",
    "\n",
    "def validation(source: str):\n",
    "    \"\"\"Raises error paper during parsing of source file\n",
    "    \n",
    "    Allows checks before parsing TeX code.\n",
    "    \n",
    "    Raises AffiliationWarning\n",
    "    \"\"\"\n",
    "    check = mpia.affiliation_verifications(source, verbose=True)\n",
    "    if check is not True:\n",
    "        raise AffiliationError(\"mpia.affiliation_verifications: \" + check)\n",
    "\n",
    "        \n",
    "warnings.simplefilter('always', AffiliationWarning)\n",
    "\n",
    "\n",
    "def get_markdown_qrcode(paper_id: str):\n",
    "    \"\"\" Generate a qrcode to the arxiv page using qrserver.com\n",
    "    \n",
    "    :param paper: Arxiv paper\n",
    "    :returns: markdown text\n",
    "    \"\"\"\n",
    "    url = r\"https://api.qrserver.com/v1/create-qr-code/?size=100x100&data=\"\n",
    "    txt = f\"\"\"<img src={url}\"https://arxiv.org/abs/{paper_id}\">\"\"\"\n",
    "    txt = '<div id=\"qrcode\">' + txt + '</div>'\n",
    "    return txt"
   ]
  },
  {
   "cell_type": "markdown",
   "id": "14bd6310",
   "metadata": {
    "papermill": {
     "duration": 0.002702,
     "end_time": "2024-03-15T04:08:52.069721",
     "exception": false,
     "start_time": "2024-03-15T04:08:52.067019",
     "status": "completed"
    },
    "tags": []
   },
   "source": [
    "## get list of arxiv paper candidates\n",
    "\n",
    "We use the MPIA mitarbeiter list webpage from mpia.de to get author names\n",
    "We then get all new papers from Arxiv and match authors"
   ]
  },
  {
   "cell_type": "code",
   "execution_count": 3,
   "id": "2645e73a",
   "metadata": {
    "execution": {
     "iopub.execute_input": "2024-03-15T04:08:52.076266Z",
     "iopub.status.busy": "2024-03-15T04:08:52.075861Z",
     "iopub.status.idle": "2024-03-15T04:09:10.787343Z",
     "shell.execute_reply": "2024-03-15T04:09:10.786663Z"
    },
    "papermill": {
     "duration": 18.716348,
     "end_time": "2024-03-15T04:09:10.788823",
     "exception": false,
     "start_time": "2024-03-15T04:08:52.072475",
     "status": "completed"
    },
    "tags": []
   },
   "outputs": [
    {
     "name": "stdout",
     "output_type": "stream",
     "text": [
      "J. Li  ->  J. Li  |  ['J. Li']\n",
      "X. Zhang  ->  X. Zhang  |  ['X. Zhang']\n",
      "M. Samland  ->  M. Samland  |  ['M. Samland']\n",
      "J. Bouwman  ->  J. Bouwman  |  ['J. Bouwman']\n",
      "G. Perotti  ->  G. Perotti  |  ['G. Perotti']\n",
      "J. Schreiber  ->  J. Schreiber  |  ['J. Schreiber']\n",
      "K. Schwarz  ->  K. Schwarz  |  ['K. Schwarz']\n",
      "J. Liu  ->  J. Liu  |  ['J. Liu']\n",
      "Arxiv has 52 new papers today\n",
      "          4 with possible author matches\n"
     ]
    }
   ],
   "source": [
    "# get list from MPIA website\n",
    "# it automatically filters identified non-scientists :func:`mpia.filter_non_scientists`\n",
    "mpia_authors = mpia.get_mpia_mitarbeiter_list()\n",
    "normed_mpia_authors = [k[1] for k in mpia_authors]   # initials + fullname\n",
    "new_papers = get_new_papers()\n",
    "# add manual references\n",
    "add_paper_refs = []\n",
    "new_papers.extend([get_paper_from_identifier(k) for k in add_paper_refs])\n",
    "\n",
    "candidates = []\n",
    "for paperk in new_papers:\n",
    "    # Check author list with their initials\n",
    "    normed_author_list = [mpia.get_initials(k) for k in paperk['authors']]\n",
    "    hl_authors = highlight_authors_in_list(normed_author_list, normed_mpia_authors, verbose=True)\n",
    "    matches = [(hl, orig) for hl, orig in zip(hl_authors, paperk['authors']) if 'mark' in hl]\n",
    "    paperk['authors'] = hl_authors\n",
    "    if matches:\n",
    "        # only select paper if an author matched our list\n",
    "        candidates.append(paperk)\n",
    "print(\"\"\"Arxiv has {0:,d} new papers today\"\"\".format(len(new_papers)))        \n",
    "print(\"\"\"          {0:,d} with possible author matches\"\"\".format(len(candidates)))"
   ]
  },
  {
   "cell_type": "markdown",
   "id": "3543b34a",
   "metadata": {
    "papermill": {
     "duration": 0.002842,
     "end_time": "2024-03-15T04:09:10.794819",
     "exception": false,
     "start_time": "2024-03-15T04:09:10.791977",
     "status": "completed"
    },
    "tags": []
   },
   "source": [
    "# Parse sources and generate relevant outputs\n",
    "\n",
    "From the candidates, we do the following steps:\n",
    "* get their tarball from ArXiv (and extract data)\n",
    "* find the main .tex file: find one with \\documentclass{...} (sometimes it's non trivial)\n",
    "* Check affiliations with :func:`validation`, which uses :func:`mpia.affiliation_verifications`\n",
    "* If passing the affiliations: we parse the .tex source\n",
    "   * inject sub-documents into the main (flatten the main document)\n",
    "   * parse structure, extract information (title, abstract, authors, figures...)\n",
    "   * handles `\\graphicspath` if provided\n",
    "* Generate the .md document."
   ]
  },
  {
   "cell_type": "code",
   "execution_count": 4,
   "id": "9576b79e",
   "metadata": {
    "execution": {
     "iopub.execute_input": "2024-03-15T04:09:10.802026Z",
     "iopub.status.busy": "2024-03-15T04:09:10.801564Z",
     "iopub.status.idle": "2024-03-15T04:09:34.494425Z",
     "shell.execute_reply": "2024-03-15T04:09:34.493755Z"
    },
    "papermill": {
     "duration": 23.697757,
     "end_time": "2024-03-15T04:09:34.495718",
     "exception": false,
     "start_time": "2024-03-15T04:09:10.797961",
     "status": "completed"
    },
    "scrolled": false,
    "tags": []
   },
   "outputs": [
    {
     "data": {
      "application/vnd.jupyter.widget-view+json": {
       "model_id": "9834c3c270ed46de8e911e304e5a0181",
       "version_major": 2,
       "version_minor": 0
      },
      "text/plain": [
       "  0%|          | 0/4 [00:00<?, ?it/s]"
      ]
     },
     "metadata": {},
     "output_type": "display_data"
    },
    {
     "name": "stdout",
     "output_type": "stream",
     "text": [
      "Retrieving document from  https://arxiv.org/e-print/2403.08850\n"
     ]
    },
    {
     "name": "stdout",
     "output_type": "stream",
     "text": [
      "extracting tarball to tmp_2403.08850... done.\n"
     ]
    },
    {
     "name": "stderr",
     "output_type": "stream",
     "text": [
      "/opt/hostedtoolcache/Python/3.9.18/x64/lib/python3.9/site-packages/IPython/core/interactiveshell.py:3550: LatexWarning: Multiple tex files.\n",
      "\n",
      "  exec(code_obj, self.user_global_ns, self.user_ns)\n",
      "/opt/hostedtoolcache/Python/3.9.18/x64/lib/python3.9/site-packages/IPython/core/interactiveshell.py:3550: LatexWarning: Found documentclass in tmp_2403.08850/main.tex\n",
      "\n",
      "  exec(code_obj, self.user_global_ns, self.user_ns)\n",
      "/opt/hostedtoolcache/Python/3.9.18/x64/lib/python3.9/site-packages/arxiv_on_deck_2/latex.py:399: LatexWarning: Latex injecting: 'table_cluster_info' from 'tmp_2403.08850/table_cluster_info.tex'\n",
      "  warnings.warn(LatexWarning(f\"Latex injecting: '{ext}' from '{subsource}'\"))\n"
     ]
    },
    {
     "name": "stdout",
     "output_type": "stream",
     "text": [
      "J. Li  ->  J. Li  |  ['J. Li']\n"
     ]
    },
    {
     "name": "stdout",
     "output_type": "stream",
     "text": [
      "Found 79 bibliographic references in tmp_2403.08850/main.bbl.\n",
      "syntax error in line 298: '=' expected\n",
      "Retrieving document from  https://arxiv.org/e-print/2403.09088\n"
     ]
    },
    {
     "name": "stdout",
     "output_type": "stream",
     "text": [
      "extracting tarball to tmp_2403.09088..."
     ]
    },
    {
     "name": "stdout",
     "output_type": "stream",
     "text": [
      " done.\n",
      "Retrieving document from  https://arxiv.org/e-print/2403.09210\n"
     ]
    },
    {
     "name": "stderr",
     "output_type": "stream",
     "text": [
      "/tmp/ipykernel_2075/3009462391.py:49: LatexWarning: 2403.09088 did not run properly\n",
      "'utf-8' codec can't decode byte 0xa1 in position 1390: invalid start byte\n",
      "  warnings.warn(latex.LatexWarning(f\"{paper_id:s} did not run properly\\n\" +\n"
     ]
    },
    {
     "name": "stdout",
     "output_type": "stream",
     "text": [
      "extracting tarball to tmp_2403.09210..."
     ]
    },
    {
     "name": "stdout",
     "output_type": "stream",
     "text": [
      " done.\n"
     ]
    },
    {
     "name": "stdout",
     "output_type": "stream",
     "text": [
      "Found 148 bibliographic references in tmp_2403.09210/PASP_HenningKamp.bbl.\n",
      "syntax error in line 81: '=' expected\n",
      "Retrieving document from  https://arxiv.org/e-print/2403.09464\n"
     ]
    },
    {
     "name": "stdout",
     "output_type": "stream",
     "text": [
      "extracting tarball to tmp_2403.09464..."
     ]
    },
    {
     "name": "stdout",
     "output_type": "stream",
     "text": [
      " done.\n"
     ]
    }
   ],
   "source": [
    "documents = []\n",
    "failed = []\n",
    "for paper in tqdm(candidates):\n",
    "    paper_id = paper['identifier'].lower().replace('arxiv:', '')\n",
    "    \n",
    "    folder = f'tmp_{paper_id}'\n",
    "\n",
    "    try:\n",
    "        if not os.path.isdir(folder):\n",
    "            folder = retrieve_document_source(f\"{paper_id}\", f'tmp_{paper_id}')\n",
    "        \n",
    "        try:\n",
    "            doc = latex.LatexDocument(folder, validation=validation)    \n",
    "        except AffiliationError as affilerror:\n",
    "            msg = f\"ArXiv:{paper_id:s} is not an MPIA paper... \" + str(affilerror)\n",
    "            failed.append((paper, \"affiliation error: \" + str(affilerror) ))\n",
    "            continue\n",
    "        \n",
    "        # Hack because sometimes author parsing does not work well\n",
    "        if (len(doc.authors) != len(paper['authors'])):\n",
    "            doc._authors = paper['authors']\n",
    "        else:\n",
    "            # highlight authors (FIXME: doc.highlight_authors)\n",
    "            # done on arxiv paper already\n",
    "            doc._authors = highlight_authors_in_list(\n",
    "                [mpia.get_initials(k) for k in doc.authors], \n",
    "                normed_mpia_authors, verbose=True)\n",
    "        if (doc.abstract) in (None, ''):\n",
    "            doc._abstract = paper['abstract']\n",
    "            \n",
    "        doc.comment = (get_markdown_badge(paper_id) + \n",
    "                       \"<mark>Appeared on: \" + paper['date'] + \"</mark> - \")\n",
    "        if paper['comments']:\n",
    "            doc.comment += \" _\" + paper['comments'] + \"_\"\n",
    "        \n",
    "        full_md = doc.generate_markdown_text()\n",
    "        \n",
    "        full_md += get_markdown_qrcode(paper_id)\n",
    "        \n",
    "        # replace citations\n",
    "        try:\n",
    "            bibdata = latex_bib.LatexBib.from_doc(doc)\n",
    "            full_md = latex_bib.replace_citations(full_md, bibdata)\n",
    "        except Exception as e:\n",
    "            print(e)\n",
    "        \n",
    "        documents.append((paper_id, full_md))\n",
    "    except Exception as e:\n",
    "        warnings.warn(latex.LatexWarning(f\"{paper_id:s} did not run properly\\n\" +\n",
    "                                         str(e)\n",
    "                                        ))\n",
    "        failed.append((paper, \"latex error \" + str(e)))"
   ]
  },
  {
   "cell_type": "markdown",
   "id": "2505a25c",
   "metadata": {
    "papermill": {
     "duration": 0.003565,
     "end_time": "2024-03-15T04:09:34.503982",
     "exception": false,
     "start_time": "2024-03-15T04:09:34.500417",
     "status": "completed"
    },
    "tags": []
   },
   "source": [
    "### Export the logs\n",
    "\n",
    "Throughout, we also keep track of the logs per paper. see `logs-{today date}.md` "
   ]
  },
  {
   "cell_type": "code",
   "execution_count": 5,
   "id": "d733828a",
   "metadata": {
    "execution": {
     "iopub.execute_input": "2024-03-15T04:09:34.512335Z",
     "iopub.status.busy": "2024-03-15T04:09:34.511924Z",
     "iopub.status.idle": "2024-03-15T04:09:34.526054Z",
     "shell.execute_reply": "2024-03-15T04:09:34.525456Z"
    },
    "papermill": {
     "duration": 0.019884,
     "end_time": "2024-03-15T04:09:34.527359",
     "exception": false,
     "start_time": "2024-03-15T04:09:34.507475",
     "status": "completed"
    },
    "scrolled": false,
    "tags": []
   },
   "outputs": [
    {
     "data": {
      "text/markdown": [
       "## Successful papers"
      ],
      "text/plain": [
       "<IPython.core.display.Markdown object>"
      ]
     },
     "metadata": {},
     "output_type": "display_data"
    },
    {
     "data": {
      "text/markdown": [
       "\n",
       "|||\n",
       "|---:|:---|\n",
       "| [![arXiv](https://img.shields.io/badge/arXiv-arXiv:2403.08850-b31b1b.svg)](https://arxiv.org/abs/arXiv:2403.08850) | **The Present-Day Mass Function of Star Clusters in the Solar Neighborhood**  |\n",
       "|| X. Pang, et al. -- incl., <mark>J. Li</mark> |\n",
       "|*Appeared on*| *2024-03-15*|\n",
       "|*Comments*| *19 pages, 10 figures, accepted to ApJ*|\n",
       "|**Abstract**| This work analyses the present-day mass function (PDMF) of 93~star clusters utilizing Gaia DR3 data, with membership determined by the StarGo machine learning algorithm. The impact of unresolved binary systems on mass estimation is rigorously assessed, adopting three mass ratio profiles for correction. The PDMF is characterized by the power-law index, $\\alpha$, derived through a robust maximum likelihood method that avoids biases associated with data binning. The value of $\\alpha$ for stars between the completeness limited mass of Gaia with a mean 0.3 $M_\\odot$ for our cluster samples and 2 $M_\\odot$, exhibits stability for clusters younger than 200 Myr, decreasing for older clusters, particularly when considering stars within the half-mass radius. The PDMF of these star clusters is consistent with a dynamically evolved Kroupa IMF via the loss of low-mass stars. Cluster morphology shows a correlation with $\\alpha$, as $\\alpha$ values exhibit a decreasing trend from filamentary to tidal-tail clusters, mirroring the sequence of increasing cluster age. The dependence of $\\alpha$ on total cluster mass is weak, with a subtle increase for higher-mass clusters, especially outside the half-mass radius. We do not observe a correlation between $\\alpha$ and the mean metallicity of the clusters. Younger clusters have lower metallicity compared to their older counterparts, which indicates that the older clusters might have migrated to the solar neighbourhood from the inner disk. A comparison with numerical models incorporating a black hole population suggests the need for observations of distant, older, massive open clusters to determine whether or not they contain black holes. |"
      ],
      "text/plain": [
       "[arXiv:2403.08850] The Present-Day Mass Function of Star Clusters in the Solar Neighborhood\n",
       "\tX. Pang, et al. -- incl., <mark>J. Li</mark>"
      ]
     },
     "metadata": {},
     "output_type": "display_data"
    },
    {
     "data": {
      "text/markdown": [
       "\n",
       "|||\n",
       "|---:|:---|\n",
       "| [![arXiv](https://img.shields.io/badge/arXiv-arXiv:2403.09210-b31b1b.svg)](https://arxiv.org/abs/arXiv:2403.09210) | **MINDS: The JWST MIRI Mid-INfrared Disk Survey**  |\n",
       "|| T. Henning, et al. -- incl., <mark>M. Samland</mark>, <mark>J. Bouwman</mark>, <mark>G. Perotti</mark>, <mark>J. Schreiber</mark>, <mark>K. Schwarz</mark> |\n",
       "|*Appeared on*| *2024-03-15*|\n",
       "|*Comments*| *accepted for publication in PASP*|\n",
       "|**Abstract**| The study of protoplanetary disks has become increasingly important with the Kepler satellite finding that exoplanets are ubiquitous around stars in our galaxy and the discovery of enormous diversity in planetary system architectures and planet properties. High-resolution near-IR and ALMA images show strong evidence for ongoing planet formation in young disks. The JWST MIRI mid-INfrared Disk Survey (MINDS) aims to (1) investigate the chemical inventory in the terrestrial planet-forming zone across stellar spectral type, (2) follow the gas evolution into the disk dispersal stage, and (3) study the structure of protoplanetary and debris disks in the thermal mid-IR. The MINDS survey will thus build a bridge between the chemical inventory of disks and the properties of exoplanets. The survey comprises 52 targets (Herbig Ae stars, T Tauri stars, very low-mass stars and young debris disks). We primarily obtain MIRI/MRS spectra with high S/N (~100-500) covering the complete wavelength range from 4.9 to 27.9 {\\mu}m. For a handful of selected targets we also obtain NIRSpec IFU high resolution spectroscopy (2.87-5.27 {\\mu}m). We will search for signposts of planet formation in thermal emission of micron-sized dust - information complementary to near-IR scattered light emission from small dust grains and emission from large dust in the submillimeter wavelength domain. We will also study the spatial structure of disks in three key systems that have shown signposts for planet formation, TW Hya and HD 169142 using the MIRI coronagraph at 15.5 {\\mu}m and 10.65 {\\mu}m respectively and PDS70 using NIRCam imaging in the 1.87 {\\mu}m narrow and the 4.8 {\\mu}m medium band filter. ... |"
      ],
      "text/plain": [
       "[arXiv:2403.09210] MINDS: The JWST MIRI Mid-INfrared Disk Survey\n",
       "\tT. Henning, et al. -- incl., <mark>M. Samland</mark>, <mark>J. Bouwman</mark>, <mark>G. Perotti</mark>, <mark>J. Schreiber</mark>, <mark>K. Schwarz</mark>"
      ]
     },
     "metadata": {},
     "output_type": "display_data"
    },
    {
     "data": {
      "text/markdown": [
       "## Failed papers"
      ],
      "text/plain": [
       "<IPython.core.display.Markdown object>"
      ]
     },
     "metadata": {},
     "output_type": "display_data"
    },
    {
     "data": {
      "text/markdown": [
       "\n",
       "|||\n",
       "|---:|:---|\n",
       "| [![arXiv](https://img.shields.io/badge/arXiv-arXiv:2403.09464-b31b1b.svg)](https://arxiv.org/abs/arXiv:2403.09464) | **New constraints on Triton's atmosphere from the 6 October 2022 stellar  occultation**  |\n",
       "|| Y. Yuan, et al. -- incl., <mark>J. Liu</mark> |\n",
       "|*Appeared on*| *2024-03-15*|\n",
       "|*Comments*| *Astronomy & Astrophysics, in press. 9 pages, 2 figures, 3 tables*|\n",
       "|**Abstract**| The atmosphere of Triton was probed directly by observing a ground-based stellar occultation on 6 October 2022. This rare event yielded 23 positive light curves collected from 13 separate observation stations contributing to our campaign. The significance of this event lies in its potential to directly validate the modest pressure fluctuation on Triton, a phenomenon not definitively verified by previous observations, including only five stellar occultations, and the Voyager 2 radio occultation in 1989. Using an approach consistent with a comparable study, we precisely determined a surface pressure of $14.07_{-0.13}^{+0.21}~\\mathrm{\\mu bar}$ in 2022. This new pressure rules out any significant monotonic variation in pressure between 2017 and 2022 through direct observations, as it is in alignment with the 2017 value. Additionally, both the pressures in 2017 and 2022 align with the 1989 value. This provides further support for the conclusion drawn from the previous volatile transport model simulation, which is consistent with the observed alignment between the pressures in 1989 and 2017; that is to say, the pressure fluctuation is modest. Moreover, this conclusion suggests the existence of a northern polar cap extended down to at least $45^\\circ$N$-60^\\circ$N and the presence of nitrogen between $30^\\circ$S and $0^\\circ$. |\n",
       "|<p style=\"color:green\"> **ERROR** </p>| <p style=\"color:green\">affiliation error: mpia.affiliation_verifications: 'Heidelberg' keyword not found.</p> |"
      ],
      "text/plain": [
       "<IPython.core.display.Markdown object>"
      ]
     },
     "metadata": {},
     "output_type": "display_data"
    },
    {
     "data": {
      "text/markdown": [
       "\n",
       "|||\n",
       "|---:|:---|\n",
       "| [![arXiv](https://img.shields.io/badge/arXiv-arXiv:2403.09088-b31b1b.svg)](https://arxiv.org/abs/arXiv:2403.09088) | **The fundamental plane of blazars based on the black hole spin-mass  energy**  |\n",
       "|| <mark>X. Zhang</mark>, et al. |\n",
       "|*Appeared on*| *2024-03-15*|\n",
       "|*Comments*| *Accepted for publication in MNRAS*|\n",
       "|**Abstract**| We examine the fundamental plane of 91 Blazars which include FSRQs and BL Lacs with known X-ray luminosity ($L_{R}$), radio luminosity ($L_X$), and black hole mass measurements ($M$) to reflect the relationship between jet and accretion for blazars. The fundamental plane of Blazars are log$L_{R}$=${0.273}_{+0.059}^{-0.059}$log$L_X$+${0.695}_{+0.191}^{-0.191}$log$M$+${25.457}_{+2.728}^{-2.728}$ and log$L_{R}$=${0.190}_{+0.049}^{-0.049}$log$L_X$+${0.475}_{+0.157}^{-0.157}$log$M$+${28.568}_{+2.245}^{-2.245}$ after considering the effect of beam factor. Our results suggest that the jet of blazars has connection with accretion. We set the black hole spin energy as a new variable to correct the black hole mass and explore the effect of black hole spin on the fundamental relationship. We find that the fundamental plane of Blazars is effected by the black hole spin, which is similar to the previous work for AGNs. We additionally examine a new fundamental plane which is based on the black hole spin-mass energy ($M_{spin}$). The new fundamental plane (log$L_{R}$=${0.332}_{+0.081}^{-0.081}$log$L_X$+${0.502}_{+0.091}^{-0.091}$log$M_{spin}$+${22.606}_{+3.346}^{-3.346}$ with R-Square=0.575) shows that $M_{spin}$ has a better correlation coefficient comparing to the $M$ for fundamental plane of Blazars. These results support that the black hole spin should be considered as a important factor for the study of fundamental plane for Blazars. And these may further our understanding of the Blandford-Znajek process in blazars. |\n",
       "|<p style=\"color:red\"> **ERROR** </p>| <p style=\"color:red\">latex error 'utf-8' codec can't decode byte 0xa1 in position 1390: invalid start byte</p> |"
      ],
      "text/plain": [
       "<IPython.core.display.Markdown object>"
      ]
     },
     "metadata": {},
     "output_type": "display_data"
    }
   ],
   "source": [
    "import datetime\n",
    "today = str(datetime.date.today())\n",
    "logfile = f\"_build/html/logs/log-{today}.md\"\n",
    "\n",
    "\n",
    "with open(logfile, 'w') as logs:\n",
    "    # Success\n",
    "    logs.write(f'# Arxiv on Deck 2: Logs - {today}\\n\\n')\n",
    "    logs.write(\"\"\"* Arxiv had {0:,d} new papers\\n\"\"\".format(len(new_papers)))\n",
    "    logs.write(\"\"\"    * {0:,d} with possible author matches\\n\\n\"\"\".format(len(candidates)))\n",
    "    logs.write(\"## Sucessful papers\\n\\n\")\n",
    "    display(Markdown(\"## Successful papers\"))\n",
    "    success = [k[0] for k in documents]\n",
    "    for candid in candidates:\n",
    "        if candid['identifier'].split(':')[-1] in success:\n",
    "            display(candid)\n",
    "            logs.write(candid.generate_markdown_text() + '\\n\\n')\n",
    "\n",
    "    ## failed\n",
    "    logs.write(\"## Failed papers\\n\\n\")\n",
    "    display(Markdown(\"## Failed papers\"))\n",
    "    failed = sorted(failed, key=lambda x: x[1])\n",
    "    current_reason = \"\"\n",
    "    for paper, reason in failed:\n",
    "        if 'affiliation' in reason:\n",
    "            color = 'green'\n",
    "        else:\n",
    "            color = 'red'\n",
    "        data = Markdown(\n",
    "                paper.generate_markdown_text() + \n",
    "                f'\\n|<p style=\"color:{color:s}\"> **ERROR** </p>| <p style=\"color:{color:s}\">{reason:s}</p> |'\n",
    "               )\n",
    "        if reason != current_reason:\n",
    "            logs.write(f'### {reason:s} \\n\\n')\n",
    "            current_reason = reason\n",
    "        logs.write(data.data + '\\n\\n')\n",
    "        \n",
    "        # only display here the important errors (all in logs)\n",
    "        # if color in ('red',):\n",
    "        display(data)"
   ]
  },
  {
   "cell_type": "markdown",
   "id": "472d20ee",
   "metadata": {
    "papermill": {
     "duration": 0.004096,
     "end_time": "2024-03-15T04:09:34.535611",
     "exception": false,
     "start_time": "2024-03-15T04:09:34.531515",
     "status": "completed"
    },
    "tags": []
   },
   "source": [
    "## Export documents\n",
    "\n",
    "We now write the .md files and export relevant images"
   ]
  },
  {
   "cell_type": "code",
   "execution_count": 6,
   "id": "d426aed9",
   "metadata": {
    "execution": {
     "iopub.execute_input": "2024-03-15T04:09:34.544942Z",
     "iopub.status.busy": "2024-03-15T04:09:34.544468Z",
     "iopub.status.idle": "2024-03-15T04:09:34.550614Z",
     "shell.execute_reply": "2024-03-15T04:09:34.550012Z"
    },
    "papermill": {
     "duration": 0.012172,
     "end_time": "2024-03-15T04:09:34.551894",
     "exception": false,
     "start_time": "2024-03-15T04:09:34.539722",
     "status": "completed"
    },
    "tags": []
   },
   "outputs": [],
   "source": [
    "def export_markdown_summary(md: str, md_fname:str, directory: str):\n",
    "    \"\"\"Export MD document and associated relevant images\"\"\"\n",
    "    import os\n",
    "    import shutil\n",
    "    import re\n",
    "\n",
    "    if (os.path.exists(directory) and not os.path.isdir(directory)):\n",
    "        raise RuntimeError(f\"a non-directory file exists with name {directory:s}\")\n",
    "\n",
    "    if (not os.path.exists(directory)):\n",
    "        print(f\"creating directory {directory:s}\")\n",
    "        os.mkdir(directory)\n",
    "\n",
    "    fig_fnames = (re.compile(r'\\[Fig.*\\]\\((.*)\\)').findall(md) + \n",
    "                  re.compile(r'\\<img src=\"([^>\\s]*)\"[^>]*/>').findall(md))\n",
    "    for fname in fig_fnames:\n",
    "        if 'http' in fname:\n",
    "            # No need to copy online figures\n",
    "            continue\n",
    "        destdir = os.path.join(directory, os.path.dirname(fname))\n",
    "        destfname = os.path.join(destdir, os.path.basename(fname))\n",
    "        try:\n",
    "            os.makedirs(destdir)\n",
    "        except FileExistsError:\n",
    "            pass\n",
    "        shutil.copy(fname, destfname)\n",
    "    with open(os.path.join(directory, md_fname), 'w') as fout:\n",
    "        fout.write(md)\n",
    "    print(\"exported in \", os.path.join(directory, md_fname))\n",
    "    [print(\"    + \" + os.path.join(directory,fk)) for fk in fig_fnames]"
   ]
  },
  {
   "cell_type": "code",
   "execution_count": 7,
   "id": "014d04a4",
   "metadata": {
    "execution": {
     "iopub.execute_input": "2024-03-15T04:09:34.561226Z",
     "iopub.status.busy": "2024-03-15T04:09:34.560853Z",
     "iopub.status.idle": "2024-03-15T04:09:34.569692Z",
     "shell.execute_reply": "2024-03-15T04:09:34.569085Z"
    },
    "papermill": {
     "duration": 0.014855,
     "end_time": "2024-03-15T04:09:34.570919",
     "exception": false,
     "start_time": "2024-03-15T04:09:34.556064",
     "status": "completed"
    },
    "tags": []
   },
   "outputs": [
    {
     "name": "stdout",
     "output_type": "stream",
     "text": [
      "exported in  _build/html/2403.08850.md\n",
      "    + _build/html/tmp_2403.08850/./NGC_6991_info.png\n",
      "    + _build/html/tmp_2403.08850/./Fig6_alpha-Age_Mass_Mar07.png\n",
      "    + _build/html/tmp_2403.08850/./Fig3_Hist.png\n",
      "exported in  _build/html/2403.09210.md\n",
      "    + _build/html/tmp_2403.09210/./TWHya-zoom-molecular-spectra-v3.png\n",
      "    + _build/html/tmp_2403.09210/./TWHya-abundances_blue2_v2.png\n",
      "    + _build/html/tmp_2403.09210/./TWHya_5-25mic_spectrum_with_models_v2.png\n"
     ]
    }
   ],
   "source": [
    "for paper_id, md in documents:\n",
    "    export_markdown_summary(md, f\"{paper_id:s}.md\", '_build/html/')"
   ]
  },
  {
   "cell_type": "markdown",
   "id": "f087a0a7",
   "metadata": {
    "papermill": {
     "duration": 0.004176,
     "end_time": "2024-03-15T04:09:34.579381",
     "exception": false,
     "start_time": "2024-03-15T04:09:34.575205",
     "status": "completed"
    },
    "tags": []
   },
   "source": [
    "## Display the papers\n",
    "\n",
    "Not necessary but allows for a quick check."
   ]
  },
  {
   "cell_type": "code",
   "execution_count": 8,
   "id": "fd25f625",
   "metadata": {
    "execution": {
     "iopub.execute_input": "2024-03-15T04:09:34.588852Z",
     "iopub.status.busy": "2024-03-15T04:09:34.588489Z",
     "iopub.status.idle": "2024-03-15T04:09:34.594035Z",
     "shell.execute_reply": "2024-03-15T04:09:34.593444Z"
    },
    "papermill": {
     "duration": 0.01171,
     "end_time": "2024-03-15T04:09:34.595287",
     "exception": false,
     "start_time": "2024-03-15T04:09:34.583577",
     "status": "completed"
    },
    "scrolled": false,
    "tags": []
   },
   "outputs": [
    {
     "data": {
      "text/markdown": [
       "<div class=\"macros\" style=\"visibility:hidden;\">\n",
       "$\\newcommand{\\ensuremath}{}$\n",
       "$\\newcommand{\\xspace}{}$\n",
       "$\\newcommand{\\object}[1]{\\texttt{#1}}$\n",
       "$\\newcommand{\\farcs}{{.}''}$\n",
       "$\\newcommand{\\farcm}{{.}'}$\n",
       "$\\newcommand{\\arcsec}{''}$\n",
       "$\\newcommand{\\arcmin}{'}$\n",
       "$\\newcommand{\\ion}[2]{#1#2}$\n",
       "$\\newcommand{\\textsc}[1]{\\textrm{#1}}$\n",
       "$\\newcommand{\\hl}[1]{\\textrm{#1}}$\n",
       "$\\newcommand{\\footnote}[1]{}$\n",
       "$\\newcommand{\\pmra}{\\mu_\\alpha \\cos\\delta}$\n",
       "$\\newcommand{\\pmdec}{\\mu_\\delta}$\n",
       "$\\newcommand{\\rh}{r_{\\rm h}}$\n",
       "$\\newcommand{\\Teff}{T_\\mathrm{eff}}$\n",
       "$\\newcommand{\\zt}[1]{\\textcolor{blue}{  #1}}$\n",
       "$\\newcommand{\\xy}[1]{\\textcolor{blue}{  #1}}$\n",
       "$\\newcommand{\\yf}[1]{\\textcolor{orange}{  #1}}$\n",
       "$\\newcommand{\\jd}[1]{\\textcolor{teal}{  #1}}$\n",
       "$\\newcommand{\\mjnote}[1]{\\textit{\\textcolor{magenta}{[mingjie:#1]}}}$\n",
       "$\\newcommand{\\mj}[1]{\\textcolor{magenta}{#1}}$\n",
       "$\\newcommand{\\tk}[1]{\\textcolor{red}{  #1}}$</div>\n",
       "\n",
       "\n",
       "\n",
       "<div id=\"title\">\n",
       "\n",
       "# The Present-Day Mass Function of Star Clusters in the Solar Neighborhood\n",
       "\n",
       "</div>\n",
       "<div id=\"comments\">\n",
       "\n",
       "[![arXiv](https://img.shields.io/badge/arXiv-2403.08850-b31b1b.svg)](https://arxiv.org/abs/2403.08850)<mark>Appeared on: 2024-03-15</mark> -  _19 pages, 10 figures, accepted to ApJ_\n",
       "\n",
       "</div>\n",
       "<div id=\"authors\">\n",
       "\n",
       "X. Pang, et al. -- incl., <mark>J. Li</mark>\n",
       "\n",
       "</div>\n",
       "<div id=\"abstract\">\n",
       "\n",
       "**Abstract:** This work analyses the present-day mass function (PDMF) of 93 star clusters utilizing Gaia DR3 data, with membership determined by the \\texttt{StarGo} machine learning algorithm.The impact of unresolved binary systems on mass estimation is rigorously assessed, adopting three mass ratio profiles for correction. The PDMF is characterized by the power-law index, $\\alpha$ , derived through a robust maximum likelihood method that avoids biases associated with data binning.The value of $\\alpha$ for stars between the completeness limited mass of Gaia (with a mean 0.3 $M_\\odot$ for our cluster samples) and 2 $M_\\odot$ , exhibits stability for clusters younger than 200 Myr, decreasing for older clusters, particularly when considering stars within the half-mass radius.The PDMF of these star clusters is consistent with a dynamically evolved Kroupa IMF via the loss of low-mass stars. Cluster morphology shows a correlation with $\\alpha$ , as $\\alpha$ values exhibit a decreasing trend from filamentary to tidal-tail clusters, mirroring the sequence of increasing cluster age. The dependence of $\\alpha$ on total cluster mass is weak, with a subtle increase for ${ higher-mass}$ clusters, especially outside the half-mass radius.  We do not observe a correlation between $\\alpha$ and the mean metallicity of the clusters. Younger clusters have lower metallicity compared to their older counterparts, which indicates that the older ${  clusters}$ might ${  have migrated}$ to the solar neighbourhood from the inner disk. A comparison with numerical models incorporating a black hole population suggests the need for observations of distant, older, massive open clusters to ${  determine whether or not they contain black holes}$ .\n",
       "\n",
       "</div>\n",
       "\n",
       "<div id=\"div_fig1\">\n",
       "\n",
       "<img src=\"tmp_2403.08850/./NGC_6991_info.png\" alt=\"Fig6\" width=\"100%\"/>\n",
       "\n",
       "**Figure 6. -** (a): A 100$\\times$100 2D neural network generated by StarGO for NGC 6991. Each grid is one neuron. Neurons corresponding to member stars (5\\% contamination rate) formed a blue patch in this figure. (b): {  CMD} obtained from the Gaia DR 3 absolute magnitude ${\\rm M}_G$ for member stars in NGC 6991. The PARSEC isochrones of the fitted age are indicated with the black solid curve, the fitted extinction and metallicity are also indicated in the upper right corner. (c): Spatial distribution of member stars (blue dots) selected by StarGO. (d) The proper motion vector plot for member stars.  (*fig:ngc6991*)\n",
       "\n",
       "</div>\n",
       "<div id=\"div_fig2\">\n",
       "\n",
       "<img src=\"tmp_2403.08850/./Fig6_alpha-Age_Mass_Mar07.png\" alt=\"Fig9\" width=\"100%\"/>\n",
       "\n",
       "**Figure 9. -**  Dependence of the power-law index ($\\alpha$) of the most probable PDMF on the cluster age (left panels) and total cluster mass above completeness limit, $M_{\\rm cl}$(right panels). The uniform mass ratio distribution is used for binary correction. The grey dashed-dotted line in each panel corresponds to $\\alpha=2.04$ computed from the \\citet{kroupa2001} IMF in the mass range from 0.3 $M_\\odot$ to 2 $M_\\odot$. The values of $\\alpha$ in panels (a) and (b) are computed for all members in the cluster.\n",
       "    The orange triangles are average values of cluster age and $\\alpha$ for all 15--16 clusters in each bin, with the standard deviation indicated by the error bar. In panels (c) and (d), we separate each cluster into two parts and derive the PDMF individually: within the half-mass radius ($r<r_h$: blue dots) and outside half-mass radius ($r>r_h$: orange dots). The orange and blue triangles are computed in the same manner as in panels (a) and (b). We exclude the disrupted cluster Group X from panels (c) and (d) since it is hard to define the cluster center for its two-piece-fragmented shape.\n",
       "    The quantity $s$ is Spearman’s rank correlation coefficient, and $p$ is the probability of the null hypothesis (i.e., that no correlation exists between two variables) of the correlation test. A $p$ value of less than 0.1 indicates that the null hypothesis is rejected.\n",
       "     (*fig:alpha_age_mass*)\n",
       "\n",
       "</div>\n",
       "<div id=\"div_fig3\">\n",
       "\n",
       "<img src=\"tmp_2403.08850/./Fig3_Hist.png\" alt=\"Fig7\" width=\"100%\"/>\n",
       "\n",
       "**Figure 7. -** The most probable PDMFs of example clusters Pleiades (a, b, c) and Praesepe (d, e, f) after binary correction, considering three different mass ratio distributions. The red vertical dashed line indicates the completeness limited mass of Gaia DR 3 data $m_{\\rm lower}$, which is 0.28 $M_\\odot$ and 0.31 $M_\\odot$ for Pleiades and Praesepe respectively. The red vertical dotted line corresponds to the upper mass limit  $m_{\\rm upper}$ of 2 $M_\\odot$. The blue curves are the mass distributions of Pleiades and Praesepe. The PDMFs (orange dashed lines) are determined only for the stellar mass between  $m_{\\rm lower}$ and  $m_{\\rm upper}$. The power-law index $\\alpha$ value obtained from the maximum likelihood method in Section \\ref{sec:MLE} is indicated in each panel.\n",
       "     (*fig:mass_function*)\n",
       "\n",
       "</div><div id=\"qrcode\"><img src=https://api.qrserver.com/v1/create-qr-code/?size=100x100&data=\"https://arxiv.org/abs/2403.08850\"></div>"
      ],
      "text/plain": [
       "<IPython.core.display.Markdown object>"
      ]
     },
     "metadata": {},
     "output_type": "display_data"
    },
    {
     "data": {
      "text/markdown": [
       "<div class=\"macros\" style=\"visibility:hidden;\">\n",
       "$\\newcommand{\\ensuremath}{}$\n",
       "$\\newcommand{\\xspace}{}$\n",
       "$\\newcommand{\\object}[1]{\\texttt{#1}}$\n",
       "$\\newcommand{\\farcs}{{.}''}$\n",
       "$\\newcommand{\\farcm}{{.}'}$\n",
       "$\\newcommand{\\arcsec}{''}$\n",
       "$\\newcommand{\\arcmin}{'}$\n",
       "$\\newcommand{\\ion}[2]{#1#2}$\n",
       "$\\newcommand{\\textsc}[1]{\\textrm{#1}}$\n",
       "$\\newcommand{\\hl}[1]{\\textrm{#1}}$\n",
       "$\\newcommand{\\footnote}[1]{}$\n",
       "$\\newcommand{\\vdag}{(v)^\\dagger}$\n",
       "$\\newcommand$\n",
       "$\\newcommand$\n",
       "$\\newcommand{\\ikc}[1]{\\textcolor{blue}{\\textsf{IK: #1 }}}$\n",
       "$\\newcommand{\\ik}[1]{\\textcolor{green}{\\textsf{#1}}}$\n",
       "$\\newcommand{\\gp}[1]{\\textcolor{cyan}{\\textsf{GP: #1 }}}$</div>\n",
       "\n",
       "\n",
       "\n",
       "<div id=\"title\">\n",
       "\n",
       "# MINDS: The JWST MIRI Mid-INfrared Disk Survey\n",
       "\n",
       "</div>\n",
       "<div id=\"comments\">\n",
       "\n",
       "[![arXiv](https://img.shields.io/badge/arXiv-2403.09210-b31b1b.svg)](https://arxiv.org/abs/2403.09210)<mark>Appeared on: 2024-03-15</mark> -  _accepted for publication in PASP_\n",
       "\n",
       "</div>\n",
       "<div id=\"authors\">\n",
       "\n",
       "T. Henning, et al. -- incl., <mark>M. Samland</mark>, <mark>J. Bouwman</mark>, <mark>G. Perotti</mark>, <mark>J. Schreiber</mark>, <mark>K. Schwarz</mark>\n",
       "\n",
       "</div>\n",
       "<div id=\"abstract\">\n",
       "\n",
       "**Abstract:** The study of protoplanetary disks has become increasingly important with the Kepler satellite finding that exoplanets are ubiquitous around stars in our galaxy and the discovery of enormous diversity in planetary system architectures and planet properties. High-resolution near-IR and ALMA images show strong evidence for ongoing planet formation in young disks. The JWST MIRI mid-INfrared Disk Survey (MINDS) aims to (1) investigate the chemical inventory in the terrestrial planet-forming zone across stellar spectral type, (2) follow the gas evolution into the disk dispersal stage, and (3) study the structure of protoplanetary and debris disks in the thermal mid-IR. The MINDS survey will thus build a bridge between the chemical inventory of disks and the properties of exoplanets. The survey comprises 52 targets (Herbig Ae stars, T Tauri stars, very low-mass stars and young debris disks). We primarily obtain MIRI/MRS spectra with high S/N ( $\\sim\\!100-500$ ) covering the complete wavelength range from 4.9 to 27.9 $\\mu$ m. For a handful of selected targets we also obtain NIRSpec IFU high resolution spectroscopy (2.87-5.27 $\\mu$ m). We will search for signposts of planet formation in thermal emission of micron-sized dust – information complementary to near-IR scattered light emission from small dust grains and emission from large dust in the submillimeter wavelength domain. We will also study the spatial structure of disks in three key systems that have shown signposts for planet formation, TW Hya and HD 169142 using the MIRI coronagraph at 15.5 $\\mu$ m and 10.65 $\\mu$ m respectively and PDS 70 using NIRCam imaging in the $1.87 \\mu$ m narrow and the $4.8 \\mu$ m medium band filter. We provide here an overview of the MINDS survey and showcase the power of the new JWST mid-IR molecular spectroscopy with the TW Hya disk spectrum where we report the detection of the molecular ion $\\ce{CH3+}$ and the robust confirmation of $\\ce{HCO+}$ earlier detected with Spitzer.\n",
       "\n",
       "</div>\n",
       "\n",
       "<div id=\"div_fig1\">\n",
       "\n",
       "<img src=\"tmp_2403.09210/./TWHya-zoom-molecular-spectra-v3.png\" alt=\"Fig6\" width=\"100%\"/>\n",
       "\n",
       "**Figure 6. -** Continuum subtracted TW Hya MIRI spectrum (black) with (a) \\ce{HCO+} slab model (green) overplotted ($T=250$ K, also visible the \\ce{H2} S(2) line at 12.28 $\\mu$m and the H {\\sc i} 11-8 and 7-6 lines at 12.39 and 12.37 $\\mu$m), (b) \\ce{CO2} slab model (blue) overplotted ($T=200$ K), (c) \\ce{CH3+} slab model (red) overplotted ($T=500$ K, also visible the \\ce{H2} S(5) line at 6.91 $\\mu$m and the \\ce{Ar+} fine-structure line at 6.99 $\\mu$m), (d) CO slab model (magenta) overplotted ($T=500$ K), (e) \\ce{H2O}, OH and \\ce{CO2} slab models (colors indicated in legend, $T=400, 1000, 200$ K, respectively) in the $14.0-15.4 \\mu$m wavelength range. All slab models are calculated in LTE and used only for identification of molecular emission features. (*fig:TWHya-zoom-molecular-spectra*)\n",
       "\n",
       "</div>\n",
       "<div id=\"div_fig2\">\n",
       "\n",
       "<img src=\"tmp_2403.09210/./TWHya-abundances_blue2_v2.png\" alt=\"Fig9\" width=\"100%\"/>\n",
       "\n",
       "**Figure 9. -** Selected abundance distribution of specific molecules and molecular ions in the adjusted TW Hya DIANA thermo-chemical disk model (elemental abundances of C, N, O depleted by a factor 50 in the inner 2.4 au). Overplotted are the PDR parameter $\\log \\chi/n_{\\langle \\rm H \\rangle}$(see footnote in Sect. \\ref{Sec:Thermo-chemical-Model}) and the dust temperature of 20 K for CO, and for all other molecules the gas temperature contours of 100, 300 and 1000 K (white) and the $A_{\\rm V}\\!=\\!1$ mag line (black). (*fig:TWHyamodel-abundances*)\n",
       "\n",
       "</div>\n",
       "<div id=\"div_fig3\">\n",
       "\n",
       "<img src=\"tmp_2403.09210/./TWHya_5-25mic_spectrum_with_models_v2.png\" alt=\"Fig10\" width=\"100%\"/>\n",
       "\n",
       "**Figure 10. -** JWST/MIRI MRS spectrum (black) compared to the adjusted DIANA TW Hya model using a gas-to-dust mass ratio in the inner disk of 15 (blue, shifted by 0.2 Jy), and 0.15 (green, shifted by 1 Jy). The orange spectrum (shifted by 0.6 Jy) shows the model with a gas-to-dust mass ratio of 15 and the C, N and O abundances in the inner 2.4 au lowered by a factor 50. (*fig:TWHya-obs-model*)\n",
       "\n",
       "</div><div id=\"qrcode\"><img src=https://api.qrserver.com/v1/create-qr-code/?size=100x100&data=\"https://arxiv.org/abs/2403.09210\"></div>"
      ],
      "text/plain": [
       "<IPython.core.display.Markdown object>"
      ]
     },
     "metadata": {},
     "output_type": "display_data"
    }
   ],
   "source": [
    "[display(Markdown(k[1])) for k in documents];"
   ]
  },
  {
   "cell_type": "markdown",
   "id": "873873a4",
   "metadata": {
    "papermill": {
     "duration": 0.004587,
     "end_time": "2024-03-15T04:09:34.604690",
     "exception": false,
     "start_time": "2024-03-15T04:09:34.600103",
     "status": "completed"
    },
    "tags": []
   },
   "source": [
    "# Create HTML index"
   ]
  },
  {
   "cell_type": "code",
   "execution_count": 9,
   "id": "cf665672",
   "metadata": {
    "execution": {
     "iopub.execute_input": "2024-03-15T04:09:34.615020Z",
     "iopub.status.busy": "2024-03-15T04:09:34.614671Z",
     "iopub.status.idle": "2024-03-15T04:09:34.623861Z",
     "shell.execute_reply": "2024-03-15T04:09:34.623290Z"
    },
    "papermill": {
     "duration": 0.015752,
     "end_time": "2024-03-15T04:09:34.625168",
     "exception": false,
     "start_time": "2024-03-15T04:09:34.609416",
     "status": "completed"
    },
    "tags": []
   },
   "outputs": [
    {
     "name": "stdout",
     "output_type": "stream",
     "text": [
      "390  publications files modified in the last 7 days.\n"
     ]
    }
   ],
   "source": [
    "from datetime import datetime, timedelta, timezone\n",
    "from glob import glob\n",
    "import os\n",
    "\n",
    "files = glob('_build/html/*.md')\n",
    "days = 7\n",
    "now = datetime.today()\n",
    "res = []\n",
    "for fk in files:\n",
    "    stat_result = os.stat(fk).st_ctime\n",
    "    modified = datetime.fromtimestamp(stat_result, tz=timezone.utc).replace(tzinfo=None)\n",
    "    delta = now.today() - modified\n",
    "    if delta <= timedelta(days=days):\n",
    "        res.append((delta.seconds, fk))\n",
    "res = [k[1] for k in reversed(sorted(res, key=lambda x:x[1]))]\n",
    "npub = len(res)\n",
    "print(len(res), f\" publications files modified in the last {days:d} days.\")\n",
    "# [ print('\\t', k) for k in res ];"
   ]
  },
  {
   "cell_type": "code",
   "execution_count": 10,
   "id": "015de740",
   "metadata": {
    "execution": {
     "iopub.execute_input": "2024-03-15T04:09:34.635767Z",
     "iopub.status.busy": "2024-03-15T04:09:34.635327Z",
     "iopub.status.idle": "2024-03-15T04:09:34.656871Z",
     "shell.execute_reply": "2024-03-15T04:09:34.656357Z"
    },
    "papermill": {
     "duration": 0.028198,
     "end_time": "2024-03-15T04:09:34.658117",
     "exception": false,
     "start_time": "2024-03-15T04:09:34.629919",
     "status": "completed"
    },
    "tags": []
   },
   "outputs": [
    {
     "name": "stdout",
     "output_type": "stream",
     "text": [
      "11  publications in the last 7 days.\n"
     ]
    }
   ],
   "source": [
    "import datetime\n",
    "from glob import glob\n",
    "\n",
    "def get_last_n_days(lst, days=1):\n",
    "    \"\"\" Get the documents from the last n days \"\"\"\n",
    "    sorted_lst = sorted(lst, key=lambda x: x[1], reverse=True)\n",
    "    for fname, date in sorted_lst:\n",
    "        if date >= str(datetime.date.today() - datetime.timedelta(days=days)):\n",
    "            yield fname\n",
    "\n",
    "def extract_appearance_dates(lst_file):\n",
    "    dates = []\n",
    "\n",
    "    def get_date(line):\n",
    "        return line\\\n",
    "            .split('Appeared on:')[-1]\\\n",
    "            .split('</mark>')[0].strip()\n",
    "\n",
    "    for fname in lst:\n",
    "        with open(fname, 'r') as f:\n",
    "            found_date = False\n",
    "            for line in f:\n",
    "                if not found_date:\n",
    "                    if \"Appeared on\" in line:\n",
    "                        found_date = True\n",
    "                        dates.append((fname, get_date(line)))\n",
    "                else:\n",
    "                    break\n",
    "    return dates\n",
    "\n",
    "from glob import glob\n",
    "lst = glob('_build/html/*md')\n",
    "days = 7\n",
    "dates = extract_appearance_dates(lst)\n",
    "res = list(get_last_n_days(dates, days))\n",
    "npub = len(res)\n",
    "print(len(res), f\" publications in the last {days:d} days.\")"
   ]
  },
  {
   "cell_type": "code",
   "execution_count": 11,
   "id": "52ca0208",
   "metadata": {
    "execution": {
     "iopub.execute_input": "2024-03-15T04:09:34.668760Z",
     "iopub.status.busy": "2024-03-15T04:09:34.668352Z",
     "iopub.status.idle": "2024-03-15T04:09:34.673042Z",
     "shell.execute_reply": "2024-03-15T04:09:34.672480Z"
    },
    "papermill": {
     "duration": 0.011396,
     "end_time": "2024-03-15T04:09:34.674295",
     "exception": false,
     "start_time": "2024-03-15T04:09:34.662899",
     "status": "completed"
    },
    "scrolled": false,
    "tags": []
   },
   "outputs": [],
   "source": [
    "def create_carousel(npub=4):\n",
    "    \"\"\" Generate the HTML code for a carousel with `npub` slides \"\"\"\n",
    "    carousel = [\"\"\"  <div class=\"carousel\" \"\"\",\n",
    "                \"\"\"       data-flickity='{ \"autoPlay\": 10000, \"adaptiveHeight\": true, \"resize\": true, \"wrapAround\": true, \"pauseAutoPlayOnHover\": true, \"groupCells\": 1 }' id=\"asyncTypeset\">\"\"\"\n",
    "                ]\n",
    "    \n",
    "    item_str = \"\"\"    <div class=\"carousel-cell\"> <div id=\"slide{k}\" class=\"md_view\">Content {k}</div> </div>\"\"\"\n",
    "    for k in range(1, npub + 1):\n",
    "        carousel.append(item_str.format(k=k))\n",
    "    carousel.append(\"  </div>\")\n",
    "    return '\\n'.join(carousel)\n",
    "\n",
    "def create_grid(npub=4):\n",
    "    \"\"\" Generate the HTML code for a flat grid with `npub` slides \"\"\"\n",
    "    grid = [\"\"\"  <div class=\"grid\"> \"\"\",\n",
    "                ]\n",
    "    \n",
    "    item_str = \"\"\"    <div class=\"grid-item\"> <div id=\"slide{k}\" class=\"md_view\">Content {k}</div> </div>\"\"\"\n",
    "    for k in range(1, npub + 1):\n",
    "        grid.append(item_str.format(k=k))\n",
    "    grid.append(\"  </div>\")\n",
    "    return '\\n'.join(grid)"
   ]
  },
  {
   "cell_type": "code",
   "execution_count": 12,
   "id": "a6eac5b6",
   "metadata": {
    "execution": {
     "iopub.execute_input": "2024-03-15T04:09:34.685132Z",
     "iopub.status.busy": "2024-03-15T04:09:34.684753Z",
     "iopub.status.idle": "2024-03-15T04:09:34.689642Z",
     "shell.execute_reply": "2024-03-15T04:09:34.689040Z"
    },
    "papermill": {
     "duration": 0.011873,
     "end_time": "2024-03-15T04:09:34.690996",
     "exception": false,
     "start_time": "2024-03-15T04:09:34.679123",
     "status": "completed"
    },
    "scrolled": false,
    "tags": []
   },
   "outputs": [],
   "source": [
    "carousel = create_carousel(npub)\n",
    "docs = ', '.join(['\"{0:s}\"'.format(k.split('/')[-1]) for k in res])\n",
    "slides = ', '.join([f'\"slide{k}\"' for k in range(1, npub + 1)])\n",
    "\n",
    "with open(\"daily_template.html\", \"r\") as tpl:\n",
    "    page = tpl.read()\n",
    "    page = page.replace(\"{%-- carousel:s --%}\", carousel)\\\n",
    "               .replace(\"{%-- suptitle:s --%}\",  \"7-day archives\" )\\\n",
    "               .replace(\"{%-- docs:s --%}\", docs)\\\n",
    "               .replace(\"{%-- slides:s --%}\", slides)\n",
    "    \n",
    "with open(\"_build/html/index_7days.html\", 'w') as fout:\n",
    "    fout.write(page)"
   ]
  },
  {
   "cell_type": "code",
   "execution_count": 13,
   "id": "adc1a1ec",
   "metadata": {
    "execution": {
     "iopub.execute_input": "2024-03-15T04:09:34.701767Z",
     "iopub.status.busy": "2024-03-15T04:09:34.701408Z",
     "iopub.status.idle": "2024-03-15T04:09:34.708078Z",
     "shell.execute_reply": "2024-03-15T04:09:34.707508Z"
    },
    "papermill": {
     "duration": 0.013408,
     "end_time": "2024-03-15T04:09:34.709303",
     "exception": false,
     "start_time": "2024-03-15T04:09:34.695895",
     "status": "completed"
    },
    "tags": []
   },
   "outputs": [
    {
     "name": "stdout",
     "output_type": "stream",
     "text": [
      "4  publications in the last day.\n"
     ]
    }
   ],
   "source": [
    "# redo for today\n",
    "days = 1\n",
    "res = list(get_last_n_days(dates, days))\n",
    "npub = len(res)\n",
    "print(len(res), f\" publications in the last day.\")\n",
    "\n",
    "carousel = create_carousel(npub)\n",
    "docs = ', '.join(['\"{0:s}\"'.format(k.split('/')[-1]) for k in res])\n",
    "slides = ', '.join([f'\"slide{k}\"' for k in range(1, npub + 1)])\n",
    "\n",
    "with open(\"daily_template.html\", \"r\") as tpl:\n",
    "    page = tpl.read()\n",
    "    page = page.replace(\"{%-- carousel:s --%}\", carousel)\\\n",
    "               .replace(\"{%-- suptitle:s --%}\",  \"Daily\" )\\\n",
    "               .replace(\"{%-- docs:s --%}\", docs)\\\n",
    "               .replace(\"{%-- slides:s --%}\", slides)\n",
    "    \n",
    "# print(carousel, docs, slides)\n",
    "# print(page)\n",
    "with open(\"_build/html/index_daily.html\", 'w') as fout:\n",
    "    fout.write(page)"
   ]
  },
  {
   "cell_type": "code",
   "execution_count": 14,
   "id": "00eece82",
   "metadata": {
    "execution": {
     "iopub.execute_input": "2024-03-15T04:09:34.720670Z",
     "iopub.status.busy": "2024-03-15T04:09:34.720167Z",
     "iopub.status.idle": "2024-03-15T04:09:34.726475Z",
     "shell.execute_reply": "2024-03-15T04:09:34.725927Z"
    },
    "papermill": {
     "duration": 0.013327,
     "end_time": "2024-03-15T04:09:34.727688",
     "exception": false,
     "start_time": "2024-03-15T04:09:34.714361",
     "status": "completed"
    },
    "scrolled": false,
    "tags": []
   },
   "outputs": [
    {
     "name": "stdout",
     "output_type": "stream",
     "text": [
      "6  6 publications selected.\n"
     ]
    }
   ],
   "source": [
    "# Create the flat grid of the last N papers (fixed number regardless of dates)\n",
    "from itertools import islice \n",
    "\n",
    "npub = 6\n",
    "res = [k[0] for k in (islice(reversed(sorted(dates, key=lambda x: x[1])), 6))]\n",
    "print(len(res), f\" {npub} publications selected.\")\n",
    "\n",
    "grid = create_grid(npub)\n",
    "docs = ', '.join(['\"{0:s}\"'.format(k.split('/')[-1]) for k in res])\n",
    "slides = ', '.join([f'\"slide{k}\"' for k in range(1, npub + 1)])\n",
    "\n",
    "with open(\"grid_template.html\", \"r\") as tpl:\n",
    "    page = tpl.read()\n",
    "    page = page.replace(\"{%-- grid-content:s --%}\", grid)\\\n",
    "               .replace(\"{%-- suptitle:s --%}\",  f\"Last {npub:,d} papers\" )\\\n",
    "               .replace(\"{%-- docs:s --%}\", docs)\\\n",
    "               .replace(\"{%-- slides:s --%}\", slides)\n",
    "    \n",
    "# print(grid, docs, slides)\n",
    "# print(page)\n",
    "with open(\"_build/html/index_npub_grid.html\", 'w') as fout:\n",
    "    fout.write(page)"
   ]
  }
 ],
 "metadata": {
  "kernelspec": {
   "display_name": "Python 3 (ipykernel)",
   "language": "python",
   "name": "python3"
  },
  "language_info": {
   "codemirror_mode": {
    "name": "ipython",
    "version": 3
   },
   "file_extension": ".py",
   "mimetype": "text/x-python",
   "name": "python",
   "nbconvert_exporter": "python",
   "pygments_lexer": "ipython3",
   "version": "3.9.18"
  },
  "papermill": {
   "default_parameters": {},
   "duration": 44.259282,
   "end_time": "2024-03-15T04:09:34.948949",
   "environment_variables": {},
   "exception": null,
   "input_path": "MPIA daily digest.ipynb",
   "output_path": "log.ipynb",
   "parameters": {},
   "start_time": "2024-03-15T04:08:50.689667",
   "version": "2.5.0"
  },
  "vscode": {
   "interpreter": {
    "hash": "aee8b7b246df8f9039afb4144a1f6fd8d2ca17a180786b69acc140d282b71a49"
   }
  },
  "widgets": {
   "application/vnd.jupyter.widget-state+json": {
    "state": {
     "0c29a0d1ffe84be0a11b3810967695dd": {
      "model_module": "@jupyter-widgets/base",
      "model_module_version": "2.0.0",
      "model_name": "LayoutModel",
      "state": {
       "_model_module": "@jupyter-widgets/base",
       "_model_module_version": "2.0.0",
       "_model_name": "LayoutModel",
       "_view_count": null,
       "_view_module": "@jupyter-widgets/base",
       "_view_module_version": "2.0.0",
       "_view_name": "LayoutView",
       "align_content": null,
       "align_items": null,
       "align_self": null,
       "border_bottom": null,
       "border_left": null,
       "border_right": null,
       "border_top": null,
       "bottom": null,
       "display": null,
       "flex": null,
       "flex_flow": null,
       "grid_area": null,
       "grid_auto_columns": null,
       "grid_auto_flow": null,
       "grid_auto_rows": null,
       "grid_column": null,
       "grid_gap": null,
       "grid_row": null,
       "grid_template_areas": null,
       "grid_template_columns": null,
       "grid_template_rows": null,
       "height": null,
       "justify_content": null,
       "justify_items": null,
       "left": null,
       "margin": null,
       "max_height": null,
       "max_width": null,
       "min_height": null,
       "min_width": null,
       "object_fit": null,
       "object_position": null,
       "order": null,
       "overflow": null,
       "padding": null,
       "right": null,
       "top": null,
       "visibility": null,
       "width": null
      }
     },
     "1a90dac6295d46faa9b0a28a43b19b1d": {
      "model_module": "@jupyter-widgets/controls",
      "model_module_version": "2.0.0",
      "model_name": "HTMLStyleModel",
      "state": {
       "_model_module": "@jupyter-widgets/controls",
       "_model_module_version": "2.0.0",
       "_model_name": "HTMLStyleModel",
       "_view_count": null,
       "_view_module": "@jupyter-widgets/base",
       "_view_module_version": "2.0.0",
       "_view_name": "StyleView",
       "background": null,
       "description_width": "",
       "font_size": null,
       "text_color": null
      }
     },
     "2bc558751acf4c41a248028031a9ffa0": {
      "model_module": "@jupyter-widgets/base",
      "model_module_version": "2.0.0",
      "model_name": "LayoutModel",
      "state": {
       "_model_module": "@jupyter-widgets/base",
       "_model_module_version": "2.0.0",
       "_model_name": "LayoutModel",
       "_view_count": null,
       "_view_module": "@jupyter-widgets/base",
       "_view_module_version": "2.0.0",
       "_view_name": "LayoutView",
       "align_content": null,
       "align_items": null,
       "align_self": null,
       "border_bottom": null,
       "border_left": null,
       "border_right": null,
       "border_top": null,
       "bottom": null,
       "display": null,
       "flex": null,
       "flex_flow": null,
       "grid_area": null,
       "grid_auto_columns": null,
       "grid_auto_flow": null,
       "grid_auto_rows": null,
       "grid_column": null,
       "grid_gap": null,
       "grid_row": null,
       "grid_template_areas": null,
       "grid_template_columns": null,
       "grid_template_rows": null,
       "height": null,
       "justify_content": null,
       "justify_items": null,
       "left": null,
       "margin": null,
       "max_height": null,
       "max_width": null,
       "min_height": null,
       "min_width": null,
       "object_fit": null,
       "object_position": null,
       "order": null,
       "overflow": null,
       "padding": null,
       "right": null,
       "top": null,
       "visibility": null,
       "width": null
      }
     },
     "3442986aacca41c4afabeee763a83aa2": {
      "model_module": "@jupyter-widgets/base",
      "model_module_version": "2.0.0",
      "model_name": "LayoutModel",
      "state": {
       "_model_module": "@jupyter-widgets/base",
       "_model_module_version": "2.0.0",
       "_model_name": "LayoutModel",
       "_view_count": null,
       "_view_module": "@jupyter-widgets/base",
       "_view_module_version": "2.0.0",
       "_view_name": "LayoutView",
       "align_content": null,
       "align_items": null,
       "align_self": null,
       "border_bottom": null,
       "border_left": null,
       "border_right": null,
       "border_top": null,
       "bottom": null,
       "display": null,
       "flex": null,
       "flex_flow": null,
       "grid_area": null,
       "grid_auto_columns": null,
       "grid_auto_flow": null,
       "grid_auto_rows": null,
       "grid_column": null,
       "grid_gap": null,
       "grid_row": null,
       "grid_template_areas": null,
       "grid_template_columns": null,
       "grid_template_rows": null,
       "height": null,
       "justify_content": null,
       "justify_items": null,
       "left": null,
       "margin": null,
       "max_height": null,
       "max_width": null,
       "min_height": null,
       "min_width": null,
       "object_fit": null,
       "object_position": null,
       "order": null,
       "overflow": null,
       "padding": null,
       "right": null,
       "top": null,
       "visibility": null,
       "width": null
      }
     },
     "536917daf22f46aea3aae4bca51a4731": {
      "model_module": "@jupyter-widgets/controls",
      "model_module_version": "2.0.0",
      "model_name": "HTMLModel",
      "state": {
       "_dom_classes": [],
       "_model_module": "@jupyter-widgets/controls",
       "_model_module_version": "2.0.0",
       "_model_name": "HTMLModel",
       "_view_count": null,
       "_view_module": "@jupyter-widgets/controls",
       "_view_module_version": "2.0.0",
       "_view_name": "HTMLView",
       "description": "",
       "description_allow_html": false,
       "layout": "IPY_MODEL_7b60caa795344d7faee8180940d58fe9",
       "placeholder": "​",
       "style": "IPY_MODEL_1a90dac6295d46faa9b0a28a43b19b1d",
       "tabbable": null,
       "tooltip": null,
       "value": "100%"
      }
     },
     "634fbc086c034d67860b2ab3e545fef2": {
      "model_module": "@jupyter-widgets/controls",
      "model_module_version": "2.0.0",
      "model_name": "FloatProgressModel",
      "state": {
       "_dom_classes": [],
       "_model_module": "@jupyter-widgets/controls",
       "_model_module_version": "2.0.0",
       "_model_name": "FloatProgressModel",
       "_view_count": null,
       "_view_module": "@jupyter-widgets/controls",
       "_view_module_version": "2.0.0",
       "_view_name": "ProgressView",
       "bar_style": "success",
       "description": "",
       "description_allow_html": false,
       "layout": "IPY_MODEL_0c29a0d1ffe84be0a11b3810967695dd",
       "max": 4.0,
       "min": 0.0,
       "orientation": "horizontal",
       "style": "IPY_MODEL_cda29e61d0b54fcc9633246005cf443d",
       "tabbable": null,
       "tooltip": null,
       "value": 4.0
      }
     },
     "7b60caa795344d7faee8180940d58fe9": {
      "model_module": "@jupyter-widgets/base",
      "model_module_version": "2.0.0",
      "model_name": "LayoutModel",
      "state": {
       "_model_module": "@jupyter-widgets/base",
       "_model_module_version": "2.0.0",
       "_model_name": "LayoutModel",
       "_view_count": null,
       "_view_module": "@jupyter-widgets/base",
       "_view_module_version": "2.0.0",
       "_view_name": "LayoutView",
       "align_content": null,
       "align_items": null,
       "align_self": null,
       "border_bottom": null,
       "border_left": null,
       "border_right": null,
       "border_top": null,
       "bottom": null,
       "display": null,
       "flex": null,
       "flex_flow": null,
       "grid_area": null,
       "grid_auto_columns": null,
       "grid_auto_flow": null,
       "grid_auto_rows": null,
       "grid_column": null,
       "grid_gap": null,
       "grid_row": null,
       "grid_template_areas": null,
       "grid_template_columns": null,
       "grid_template_rows": null,
       "height": null,
       "justify_content": null,
       "justify_items": null,
       "left": null,
       "margin": null,
       "max_height": null,
       "max_width": null,
       "min_height": null,
       "min_width": null,
       "object_fit": null,
       "object_position": null,
       "order": null,
       "overflow": null,
       "padding": null,
       "right": null,
       "top": null,
       "visibility": null,
       "width": null
      }
     },
     "9834c3c270ed46de8e911e304e5a0181": {
      "model_module": "@jupyter-widgets/controls",
      "model_module_version": "2.0.0",
      "model_name": "HBoxModel",
      "state": {
       "_dom_classes": [],
       "_model_module": "@jupyter-widgets/controls",
       "_model_module_version": "2.0.0",
       "_model_name": "HBoxModel",
       "_view_count": null,
       "_view_module": "@jupyter-widgets/controls",
       "_view_module_version": "2.0.0",
       "_view_name": "HBoxView",
       "box_style": "",
       "children": [
        "IPY_MODEL_536917daf22f46aea3aae4bca51a4731",
        "IPY_MODEL_634fbc086c034d67860b2ab3e545fef2",
        "IPY_MODEL_f8bbfa9f49164a5abff150012ad45182"
       ],
       "layout": "IPY_MODEL_3442986aacca41c4afabeee763a83aa2",
       "tabbable": null,
       "tooltip": null
      }
     },
     "ba18e116d8ae4cb09db08f8905deb847": {
      "model_module": "@jupyter-widgets/controls",
      "model_module_version": "2.0.0",
      "model_name": "HTMLStyleModel",
      "state": {
       "_model_module": "@jupyter-widgets/controls",
       "_model_module_version": "2.0.0",
       "_model_name": "HTMLStyleModel",
       "_view_count": null,
       "_view_module": "@jupyter-widgets/base",
       "_view_module_version": "2.0.0",
       "_view_name": "StyleView",
       "background": null,
       "description_width": "",
       "font_size": null,
       "text_color": null
      }
     },
     "cda29e61d0b54fcc9633246005cf443d": {
      "model_module": "@jupyter-widgets/controls",
      "model_module_version": "2.0.0",
      "model_name": "ProgressStyleModel",
      "state": {
       "_model_module": "@jupyter-widgets/controls",
       "_model_module_version": "2.0.0",
       "_model_name": "ProgressStyleModel",
       "_view_count": null,
       "_view_module": "@jupyter-widgets/base",
       "_view_module_version": "2.0.0",
       "_view_name": "StyleView",
       "bar_color": null,
       "description_width": ""
      }
     },
     "f8bbfa9f49164a5abff150012ad45182": {
      "model_module": "@jupyter-widgets/controls",
      "model_module_version": "2.0.0",
      "model_name": "HTMLModel",
      "state": {
       "_dom_classes": [],
       "_model_module": "@jupyter-widgets/controls",
       "_model_module_version": "2.0.0",
       "_model_name": "HTMLModel",
       "_view_count": null,
       "_view_module": "@jupyter-widgets/controls",
       "_view_module_version": "2.0.0",
       "_view_name": "HTMLView",
       "description": "",
       "description_allow_html": false,
       "layout": "IPY_MODEL_2bc558751acf4c41a248028031a9ffa0",
       "placeholder": "​",
       "style": "IPY_MODEL_ba18e116d8ae4cb09db08f8905deb847",
       "tabbable": null,
       "tooltip": null,
       "value": " 4/4 [00:23&lt;00:00,  5.60s/it]"
      }
     }
    },
    "version_major": 2,
    "version_minor": 0
   }
  }
 },
 "nbformat": 4,
 "nbformat_minor": 5
}