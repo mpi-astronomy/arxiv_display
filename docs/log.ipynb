{
 "cells": [
  {
   "cell_type": "markdown",
   "id": "92bcb855",
   "metadata": {
    "papermill": {
     "duration": 0.003687,
     "end_time": "2025-07-01T04:30:09.165324",
     "exception": false,
     "start_time": "2025-07-01T04:30:09.161637",
     "status": "completed"
    },
    "tags": []
   },
   "source": [
    "# MPIA Arxiv on Deck 2\n",
    "\n",
    "Contains the steps to produce the paper extractions."
   ]
  },
  {
   "cell_type": "code",
   "execution_count": 1,
   "id": "3a0d6e11",
   "metadata": {
    "execution": {
     "iopub.execute_input": "2025-07-01T04:30:09.172750Z",
     "iopub.status.busy": "2025-07-01T04:30:09.172412Z",
     "iopub.status.idle": "2025-07-01T04:30:09.398130Z",
     "shell.execute_reply": "2025-07-01T04:30:09.397384Z"
    },
    "papermill": {
     "duration": 0.23081,
     "end_time": "2025-07-01T04:30:09.399457",
     "exception": false,
     "start_time": "2025-07-01T04:30:09.168647",
     "status": "completed"
    },
    "tags": []
   },
   "outputs": [],
   "source": [
    "# Imports\n",
    "import os\n",
    "from IPython.display import Markdown, display\n",
    "from tqdm.notebook import tqdm\n",
    "import warnings\n",
    "from PIL import Image \n",
    "import re\n",
    "\n",
    "# requires arxiv_on_deck_2\n",
    "\n",
    "from arxiv_on_deck_2.arxiv2 import (get_new_papers, \n",
    "                                    get_paper_from_identifier,\n",
    "                                    retrieve_document_source, \n",
    "                                    get_markdown_badge)\n",
    "from arxiv_on_deck_2 import (latex,\n",
    "                             latex_bib,\n",
    "                             mpia,\n",
    "                             highlight_authors_in_list)\n",
    "\n",
    "# Sometimes images are really big\n",
    "Image.MAX_IMAGE_PIXELS = 1000000000 "
   ]
  },
  {
   "cell_type": "code",
   "execution_count": 2,
   "id": "22aa9d44",
   "metadata": {
    "execution": {
     "iopub.execute_input": "2025-07-01T04:30:09.406790Z",
     "iopub.status.busy": "2025-07-01T04:30:09.406391Z",
     "iopub.status.idle": "2025-07-01T04:30:09.414418Z",
     "shell.execute_reply": "2025-07-01T04:30:09.413799Z"
    },
    "papermill": {
     "duration": 0.012745,
     "end_time": "2025-07-01T04:30:09.415441",
     "exception": false,
     "start_time": "2025-07-01T04:30:09.402696",
     "status": "completed"
    },
    "tags": []
   },
   "outputs": [],
   "source": [
    "# Some useful definitions.\n",
    "\n",
    "class AffiliationWarning(UserWarning):\n",
    "    pass\n",
    "\n",
    "class AffiliationError(RuntimeError):\n",
    "    pass\n",
    "\n",
    "def validation(source: str):\n",
    "    \"\"\"Raises error paper during parsing of source file\n",
    "    \n",
    "    Allows checks before parsing TeX code.\n",
    "    \n",
    "    Raises AffiliationWarning\n",
    "    \"\"\"\n",
    "    check = mpia.affiliation_verifications(source, verbose=True)\n",
    "    if check is not True:\n",
    "        raise AffiliationError(\"mpia.affiliation_verifications: \" + check)\n",
    "\n",
    "        \n",
    "warnings.simplefilter('always', AffiliationWarning)\n",
    "\n",
    "\n",
    "def get_markdown_qrcode(paper_id: str):\n",
    "    \"\"\" Generate a qrcode to the arxiv page using qrserver.com\n",
    "    \n",
    "    :param paper: Arxiv paper\n",
    "    :returns: markdown text\n",
    "    \"\"\"\n",
    "    url = r\"https://api.qrserver.com/v1/create-qr-code/?size=100x100&data=\"\n",
    "    txt = f\"\"\"<img src={url}\"https://arxiv.org/abs/{paper_id}\">\"\"\"\n",
    "    txt = '<div id=\"qrcode\">' + txt + '</div>'\n",
    "    return txt\n",
    "\n",
    "\n",
    "def clean_non_western_encoded_characters_commands(text: str) -> str:\n",
    "    \"\"\" Remove non-western encoded characters from a string\n",
    "    List may need to grow.\n",
    "    \n",
    "    :param text: the text to clean\n",
    "    :return: the cleaned text\n",
    "    \"\"\"\n",
    "    text = re.sub(r\"(\\\\begin{CJK}{UTF8}{gbsn})(.*?)(\\\\end{CJK})\", r\"\\2\", text)\n",
    "    return text\n",
    "\n",
    "\n",
    "def get_initials(name: str) -> str:\n",
    "    \"\"\" Get the short name, e.g., A.-B. FamName\n",
    "    :param name: full name\n",
    "    :returns: initials\n",
    "    \"\"\"\n",
    "    initials = []\n",
    "    # account for non western names often in ()\n",
    "    if '(' in name:\n",
    "        name = clean_non_western_encoded_characters_commands(name)\n",
    "        suffix = re.findall(r\"\\((.*?)\\)\", name)[0]\n",
    "        name = name.replace(f\"({suffix})\", '')\n",
    "    else:\n",
    "        suffix = ''\n",
    "    split = name.split()\n",
    "    for token in split[:-1]:\n",
    "        if '-' in token:\n",
    "            current = '-'.join([k[0] + '.' for k in token.split('-')])\n",
    "        else:\n",
    "            current = token[0] + '.'\n",
    "        initials.append(current)\n",
    "    initials.append(split[-1].strip())\n",
    "    if suffix:\n",
    "        initials.append(f\"({suffix})\")\n",
    "    return ' '.join(initials)"
   ]
  },
  {
   "cell_type": "markdown",
   "id": "14bd6310",
   "metadata": {
    "papermill": {
     "duration": 0.00288,
     "end_time": "2025-07-01T04:30:09.421269",
     "exception": false,
     "start_time": "2025-07-01T04:30:09.418389",
     "status": "completed"
    },
    "tags": []
   },
   "source": [
    "## get list of arxiv paper candidates\n",
    "\n",
    "We use the MPIA mitarbeiter list webpage from mpia.de to get author names\n",
    "We then get all new papers from Arxiv and match authors"
   ]
  },
  {
   "cell_type": "code",
   "execution_count": 3,
   "id": "7ea813a8",
   "metadata": {
    "execution": {
     "iopub.execute_input": "2025-07-01T04:30:09.428130Z",
     "iopub.status.busy": "2025-07-01T04:30:09.427746Z",
     "iopub.status.idle": "2025-07-01T04:30:34.320163Z",
     "shell.execute_reply": "2025-07-01T04:30:34.319526Z"
    },
    "papermill": {
     "duration": 24.897144,
     "end_time": "2025-07-01T04:30:34.321331",
     "exception": false,
     "start_time": "2025-07-01T04:30:09.424187",
     "status": "completed"
    },
    "tags": []
   },
   "outputs": [],
   "source": [
    "# deal with the author list and edge cases of people that cannot be consistent on their name  \n",
    "\n",
    "def filter_non_scientists(name: str) -> bool:\n",
    "    \"\"\" Loose filter on expected authorships\n",
    "\n",
    "    removing IT, administration, technical staff\n",
    "    :param name: name\n",
    "    :returns: False if name is not a scientist\n",
    "    \"\"\"\n",
    "    remove_list = ['Licht', 'Binroth', 'Witzel', 'Jordan',\n",
    "                   'Zähringer', 'Scheerer', 'Hoffmann', 'Düe',\n",
    "                   'Hellmich', 'Enkler-Scharpegge', 'Witte-Nguy',\n",
    "                   'Dehen', 'Beckmann', 'Jager', 'Jäger'\n",
    "                  ]\n",
    "\n",
    "    for k in remove_list:\n",
    "        if k in name:\n",
    "            return False\n",
    "    return True\n",
    "\n",
    "def add_author_to_list(author_list: list) -> list:\n",
    "    \"\"\" Add author to list if not already in list\n",
    "    \n",
    "    :param author: author name\n",
    "    :param author_list: list of authors\n",
    "    :returns: updated list of authors\n",
    "    \"\"\"\n",
    "    add_list = ['T. Henning']\n",
    "\n",
    "    for author in add_list:\n",
    "        if author not in author_list:\n",
    "            author_list.append(author)\n",
    "    return author_list\n",
    "\n",
    "# get list from MPIA website\n",
    "# filter for non-scientists (mpia.get_mpia_mitarbeiter_list() does some filtering)\n",
    "mpia_authors = [k[1] for k in mpia.get_mpia_mitarbeiter_list() if filter_non_scientists(k[1])]\n",
    "# add some missing author because of inconsistencies in their MPIA name and author name on papers\n",
    "mpia_authors = add_author_to_list(mpia_authors)"
   ]
  },
  {
   "cell_type": "code",
   "execution_count": 4,
   "id": "2645e73a",
   "metadata": {
    "execution": {
     "iopub.execute_input": "2025-07-01T04:30:34.328500Z",
     "iopub.status.busy": "2025-07-01T04:30:34.328313Z",
     "iopub.status.idle": "2025-07-01T04:30:35.131186Z",
     "shell.execute_reply": "2025-07-01T04:30:35.130484Z"
    },
    "papermill": {
     "duration": 0.807535,
     "end_time": "2025-07-01T04:30:35.132213",
     "exception": false,
     "start_time": "2025-07-01T04:30:34.324678",
     "status": "completed"
    },
    "tags": []
   },
   "outputs": [
    {
     "name": "stdout",
     "output_type": "stream",
     "text": [
      "Y. Wang  ->  Y. Wang  |  ['Y. Wang']\n",
      "N. Wang  ->  N. Wang  |  ['N. Wang']\n",
      "Y. Wang  ->  Y. Wang  |  ['Y. Wang']\n",
      "P. Griveaud  ->  P. Griveaud  |  ['P. Griveaud']\n",
      "J. Liu  ->  J. Liu  |  ['J. Liu']\n",
      "D. Christie  ->  D. Christie  |  ['D. Christie']\n",
      "J. Li  ->  J. Li  |  ['J. Li']\n",
      "P. Garcia  ->  A. P. Garcia  |  ['P. Garcia']\n"
     ]
    },
    {
     "name": "stdout",
     "output_type": "stream",
     "text": [
      "F. Walter  ->  F. Walter  |  ['F. Walter']\n",
      "Arxiv has 90 new papers today\n",
      "          8 with possible author matches\n"
     ]
    }
   ],
   "source": [
    "new_papers = get_new_papers()\n",
    "# add manual references\n",
    "add_paper_refs = []\n",
    "new_papers.extend([get_paper_from_identifier(k) for k in add_paper_refs])\n",
    "\n",
    "def robust_call(fn, value, *args, **kwargs):\n",
    "    try:\n",
    "        return fn(value, *args, **kwargs)\n",
    "    except Exception:\n",
    "        return value\n",
    "\n",
    "candidates = []\n",
    "for paperk in new_papers:\n",
    "    # Check author list with their initials\n",
    "    normed_author_list = [robust_call(mpia.get_initials, k) for k in paperk['authors']]\n",
    "    hl_authors = highlight_authors_in_list(normed_author_list, mpia_authors, verbose=True)\n",
    "    matches = [(hl, orig) for hl, orig in zip(hl_authors, paperk['authors']) if 'mark' in hl]\n",
    "    paperk['authors'] = hl_authors\n",
    "    if matches:\n",
    "        # only select paper if an author matched our list\n",
    "        candidates.append(paperk)\n",
    "print(\"\"\"Arxiv has {0:,d} new papers today\"\"\".format(len(new_papers)))        \n",
    "print(\"\"\"          {0:,d} with possible author matches\"\"\".format(len(candidates)))"
   ]
  },
  {
   "cell_type": "markdown",
   "id": "3543b34a",
   "metadata": {
    "papermill": {
     "duration": 0.003165,
     "end_time": "2025-07-01T04:30:35.139001",
     "exception": false,
     "start_time": "2025-07-01T04:30:35.135836",
     "status": "completed"
    },
    "tags": []
   },
   "source": [
    "# Parse sources and generate relevant outputs\n",
    "\n",
    "From the candidates, we do the following steps:\n",
    "* get their tarball from ArXiv (and extract data)\n",
    "* find the main .tex file: find one with \\documentclass{...} (sometimes it's non trivial)\n",
    "* Check affiliations with :func:`validation`, which uses :func:`mpia.affiliation_verifications`\n",
    "* If passing the affiliations: we parse the .tex source\n",
    "   * inject sub-documents into the main (flatten the main document)\n",
    "   * parse structure, extract information (title, abstract, authors, figures...)\n",
    "   * handles `\\graphicspath` if provided\n",
    "* Generate the .md document."
   ]
  },
  {
   "cell_type": "code",
   "execution_count": 5,
   "id": "9576b79e",
   "metadata": {
    "execution": {
     "iopub.execute_input": "2025-07-01T04:30:35.146270Z",
     "iopub.status.busy": "2025-07-01T04:30:35.145873Z",
     "iopub.status.idle": "2025-07-01T04:31:13.611664Z",
     "shell.execute_reply": "2025-07-01T04:31:13.610791Z"
    },
    "papermill": {
     "duration": 38.470725,
     "end_time": "2025-07-01T04:31:13.612825",
     "exception": false,
     "start_time": "2025-07-01T04:30:35.142100",
     "status": "completed"
    },
    "scrolled": false,
    "tags": []
   },
   "outputs": [
    {
     "data": {
      "application/vnd.jupyter.widget-view+json": {
       "model_id": "b0b62b1d57944e6ea14f37dd93f1df5f",
       "version_major": 2,
       "version_minor": 0
      },
      "text/plain": [
       "  0%|          | 0/8 [00:00<?, ?it/s]"
      ]
     },
     "metadata": {},
     "output_type": "display_data"
    },
    {
     "name": "stdout",
     "output_type": "stream",
     "text": [
      "Retrieving document from  https://arxiv.org/e-print/2506.22737\n"
     ]
    },
    {
     "name": "stdout",
     "output_type": "stream",
     "text": [
      "extracting tarball to tmp_2506.22737..."
     ]
    },
    {
     "name": "stdout",
     "output_type": "stream",
     "text": [
      " done.\n",
      "Retrieving document from  https://arxiv.org/e-print/2506.22765\n",
      "extracting tarball to tmp_2506.22765... done.\n",
      "Retrieving document from  https://arxiv.org/e-print/2506.22904\n"
     ]
    },
    {
     "name": "stdout",
     "output_type": "stream",
     "text": [
      "extracting tarball to tmp_2506.22904... done.\n",
      "Retrieving document from  https://arxiv.org/e-print/2506.23331\n",
      "extracting tarball to tmp_2506.23331..."
     ]
    },
    {
     "name": "stdout",
     "output_type": "stream",
     "text": [
      " done.\n"
     ]
    },
    {
     "name": "stderr",
     "output_type": "stream",
     "text": [
      "/tmp/ipykernel_3401/2822249172.py:52: LatexWarning: 2506.23331 did not run properly\n",
      "nothing to repeat at position 15\n",
      "  warnings.warn(latex.LatexWarning(f\"{paper_id:s} did not run properly\\n\" +\n"
     ]
    },
    {
     "name": "stdout",
     "output_type": "stream",
     "text": [
      "Retrieving document from  https://arxiv.org/e-print/2506.23891\n"
     ]
    },
    {
     "name": "stdout",
     "output_type": "stream",
     "text": [
      "extracting tarball to tmp_2506.23891..."
     ]
    },
    {
     "name": "stdout",
     "output_type": "stream",
     "text": [
      " done.\n"
     ]
    },
    {
     "name": "stdout",
     "output_type": "stream",
     "text": [
      "Found 90 bibliographic references in tmp_2506.23891/mnras_K2-18b_PartI.bbl.\n",
      "Retrieving document from  https://arxiv.org/e-print/2506.23915\n"
     ]
    },
    {
     "name": "stdout",
     "output_type": "stream",
     "text": [
      "extracting tarball to tmp_2506.23915..."
     ]
    },
    {
     "name": "stdout",
     "output_type": "stream",
     "text": [
      " done.\n",
      "Retrieving document from  https://arxiv.org/e-print/2506.23931\n",
      "extracting tarball to tmp_2506.23931... done.\n",
      "Retrieving document from  https://arxiv.org/e-print/2506.24128\n"
     ]
    },
    {
     "name": "stdout",
     "output_type": "stream",
     "text": [
      "extracting tarball to tmp_2506.24128... done.\n"
     ]
    },
    {
     "name": "stdout",
     "output_type": "stream",
     "text": [
      "Found 110 bibliographic references in tmp_2506.24128/faintqso.bbl.\n"
     ]
    }
   ],
   "source": [
    "documents = []\n",
    "failed = []\n",
    "for paper in tqdm(candidates):\n",
    "    # debug crap\n",
    "    paper['identifier'] = paper['identifier'].lower().replace('arxiv:', '').replace(r'\\n', '').strip()\n",
    "    paper_id = paper['identifier']\n",
    "    \n",
    "    folder = f'tmp_{paper_id}'\n",
    "\n",
    "    try:\n",
    "        if not os.path.isdir(folder):\n",
    "            folder = retrieve_document_source(f\"{paper_id}\", f'tmp_{paper_id}')\n",
    "        \n",
    "        try:\n",
    "            doc = latex.LatexDocument(folder, validation=validation)    \n",
    "        except AffiliationError as affilerror:\n",
    "            msg = f\"ArXiv:{paper_id:s} is not an MPIA paper... \" + str(affilerror)\n",
    "            failed.append((paper, \"affiliation error: \" + str(affilerror) ))\n",
    "            continue\n",
    "        \n",
    "        # Hack because sometimes author parsing does not work well\n",
    "        if (len(doc.authors) != len(paper['authors'])):\n",
    "            doc._authors = paper['authors']\n",
    "        else:\n",
    "            # highlight authors (FIXME: doc.highlight_authors)\n",
    "            # done on arxiv paper already\n",
    "            doc._authors = highlight_authors_in_list(\n",
    "                [get_initials(k) for k in doc.authors], \n",
    "                mpia_authors, verbose=True)\n",
    "        if (doc.abstract) in (None, ''):\n",
    "            doc._abstract = paper['abstract']\n",
    "            \n",
    "        doc.comment = (get_markdown_badge(paper_id) + \n",
    "                       \"<mark>Appeared on: \" + paper['date'] + \"</mark> - \")\n",
    "        if paper['comments']:\n",
    "            doc.comment += \" _\" + paper['comments'] + \"_\"\n",
    "        \n",
    "        full_md = doc.generate_markdown_text()\n",
    "        \n",
    "        full_md += get_markdown_qrcode(paper_id)\n",
    "        \n",
    "        # replace citations\n",
    "        try:\n",
    "            bibdata = latex_bib.LatexBib.from_doc(doc)\n",
    "            full_md = latex_bib.replace_citations(full_md, bibdata)\n",
    "        except Exception as e:\n",
    "            print(\"Issues with the citations\")\n",
    "            print(e)\n",
    "        \n",
    "        documents.append((paper_id, full_md))\n",
    "    except Exception as e:\n",
    "        warnings.warn(latex.LatexWarning(f\"{paper_id:s} did not run properly\\n\" +\n",
    "                                         str(e)\n",
    "                                        ))\n",
    "        failed.append((paper, \"latex error \" + str(e)))"
   ]
  },
  {
   "cell_type": "markdown",
   "id": "2505a25c",
   "metadata": {
    "papermill": {
     "duration": 0.003792,
     "end_time": "2025-07-01T04:31:13.620690",
     "exception": false,
     "start_time": "2025-07-01T04:31:13.616898",
     "status": "completed"
    },
    "tags": []
   },
   "source": [
    "### Export the logs\n",
    "\n",
    "Throughout, we also keep track of the logs per paper. see `logs-{today date}.md` "
   ]
  },
  {
   "cell_type": "code",
   "execution_count": 6,
   "id": "d733828a",
   "metadata": {
    "execution": {
     "iopub.execute_input": "2025-07-01T04:31:13.629599Z",
     "iopub.status.busy": "2025-07-01T04:31:13.629093Z",
     "iopub.status.idle": "2025-07-01T04:31:13.648282Z",
     "shell.execute_reply": "2025-07-01T04:31:13.647636Z"
    },
    "papermill": {
     "duration": 0.024781,
     "end_time": "2025-07-01T04:31:13.649291",
     "exception": false,
     "start_time": "2025-07-01T04:31:13.624510",
     "status": "completed"
    },
    "scrolled": false,
    "tags": []
   },
   "outputs": [
    {
     "data": {
      "text/markdown": [
       "## Successful papers"
      ],
      "text/plain": [
       "<IPython.core.display.Markdown object>"
      ]
     },
     "metadata": {},
     "output_type": "display_data"
    },
    {
     "data": {
      "text/markdown": [
       "\n",
       "|||\n",
       "|---:|:---|\n",
       "| [![arXiv](https://img.shields.io/badge/arXiv-2506.23891-b31b1b.svg)](https://arxiv.org/abs/2506.23891) | **Three-dimensional Transport-induced Chemistry on Temperate sub-Neptune K2-18b, Part I: the Effects of Atmospheric Dynamics**  |\n",
       "|| <mark>J. Liu</mark>, <mark>D. Christie</mark>, J. Yang |\n",
       "|*Appeared on*| *2025-07-01*|\n",
       "|*Comments*| *19 pages, 17 figures, accepted to MNRAS*|\n",
       "|**Abstract**|            The low equilibrium temperatures of temperate sub-Neptunes lead to extremely long chemical timescales in their upper atmospheres, causing the abundances of chemical species to be strongly shaped by atmospheric transport. Here, we used a three-dimensional (3D) general circulation model involving a passive tracer to investigate the atmospheric circulation and 3D transport of temperate gas-rich sub-Neptunes, using K2-18b as an example. We model K2-18b as a synchronous or asynchronous rotator, exploring spin-orbit resonances (SOR) of 2:1, 6:1, and 10:1. We find that the strong absorption of CO$_2$ and CH$_4$ induces a detached convective zone between 1 and 5 bar, resulting in strong vertical mixing at these levels. The upper atmosphere is dominated by eastward winds (an equatorial superrotating jet present in all simulations), leading to warmer evening terminators and approximately 20% higher passive tracer mass mixing ratios compared to the morning terminators. Rotation rates have minimal impact on the strength of global mean vertical mixing, but significantly influence the latitudinal distribution of passive tracers. For synchronous, 2:1 SOR, and 6:1 SOR simulations, passive tracers are more abundant in the upwelling branches at latitudes within 60$^\\circ$, while for the 10:1 SOR simulation, strong transient eddies at high latitudes (>70$^\\circ$) between 0.1 to 1 bar can transport passive tracers upward from the deep atmosphere, making them more abundant there, despite their alignment with the downwelling branch of the large-scale circulation. This study focuses on the atmospheric dynamics and its influence on passive tracer transport, while a follow-up paper will incorporate active chemical species.         |"
      ],
      "text/plain": [
       "[2506.23891] Three-dimensional Transport-induced Chemistry on Temperate sub-Neptune K2-18b, Part I: the Effects of Atmospheric Dynamics\n",
       "\t<mark>J. Liu</mark>, <mark>D. Christie</mark>, J. Yang"
      ]
     },
     "metadata": {},
     "output_type": "display_data"
    },
    {
     "data": {
      "text/markdown": [
       "\n",
       "|||\n",
       "|---:|:---|\n",
       "| [![arXiv](https://img.shields.io/badge/arXiv-2506.24128-b31b1b.svg)](https://arxiv.org/abs/2506.24128) | **Beneath the Surface: >85% of z>5.9 QSOs in Massive Host Galaxies are UV-Faint**  |\n",
       "|| R. Bouwens, et al. -- incl., <mark>F. Walter</mark> |\n",
       "|*Appeared on*| *2025-07-01*|\n",
       "|*Comments*| *13 pages, 6 figures, 4 tables, submitted to A&A*|\n",
       "|**Abstract**|            We use [CII] observations of a large QSO sample to segregate sources by host galaxy mass, aiming to identify those in the most massive hosts. [CII] luminosity, a known tracer of molecular gas, is taken as a proxy for host mass and used to rank 190 QSOs at z>5.9, spanning a 6-mag UV luminosity range (-22<Muv<-28). Particularly valuable are ALMA data from a cycle-10 CISTERN program, providing [CII] coverage for 46 UV-faint (M_{UV,AB}>-24.5) and 25 especially UV-faint (Muv>-23.5) QSOs, improving statistics by 5x and 6x, respectively. Taking massive host galaxies to be those where L[CII]>1.8x10^9 Lsol (median L[CII] of UV-bright QSOs), we identify 61 QSOs, including 13 which are UV-faint and 7 especially UV-faint. Using these selections and recent QSO luminosity functions (LFs), we present the first characterization of UV luminosity distribution for QSOs in massive host galaxies and quantify [CII] LFs for both UV-bright and UV-faint QSOs. While ~3% of massive-host QSOs are UV-bright (Muv<-26), >~85% are UV-faint (Muv>-24.5). This wide dispersion in UV luminosities reflects variations in dust obscuration, accretion efficiency, and black hole mass. Though spectroscopy is needed for definitive conclusions, black hole mass appears to be the dominant factor driving variations in the UV luminosity, based on 34 [CII]-luminous (L[CII]>1.8x10^9 Lsol) QSOs distributed across a ~3-mag baseline in UV luminosity and with measured MBH. At Muv~-23, the median extrapolated log10 (MBH/Msol) is 8.1+/-0.4, consistent with the local relation. SMBHs in UV-bright QSOs thus appear to be ~15(-9)(+25)x more massive than typical for massive host galaxies at z~6.         |"
      ],
      "text/plain": [
       "[2506.24128] Beneath the Surface: >85% of z>5.9 QSOs in Massive Host Galaxies are UV-Faint\n",
       "\tR. Bouwens, et al. -- incl., <mark>F. Walter</mark>"
      ]
     },
     "metadata": {},
     "output_type": "display_data"
    },
    {
     "data": {
      "text/markdown": [
       "## Failed papers"
      ],
      "text/plain": [
       "<IPython.core.display.Markdown object>"
      ]
     },
     "metadata": {},
     "output_type": "display_data"
    },
    {
     "data": {
      "text/markdown": [
       "\n",
       "|||\n",
       "|---:|:---|\n",
       "| [![arXiv](https://img.shields.io/badge/arXiv-2506.22737-b31b1b.svg)](https://arxiv.org/abs/2506.22737) | **Exploring the signature of assembly bias and modified gravity using small-scale clusterings of galaxies**  |\n",
       "|| <mark>Y. Wang</mark>, Z. Zhai, X. Yang, J. L. Tinker |\n",
       "|*Appeared on*| *2025-07-01*|\n",
       "|*Comments*| *16 pages, 8 figures*|\n",
       "|**Abstract**|            We apply a halo velocity bias model, $\\gamma_{f}$, within the Aemulus simulation suite for General Relativity (GR) to investigate its efficacy in identifying the signature of assembly bias and Modified Gravity (MG). In the investigation of assembly bias, utilizing galaxy clustering data ranging from scales of $0.1 - 60 \\text{Mpc}\\,h^{-1}$, we discover that our emulator model accurately recreates the cosmological parameters, $\\Omega_m$ and $\\sigma_8$, along with the velocity bias $\\gamma_{f}$, staying well within the 1-$\\sigma$ error margins, provided that assembly bias is considered. Ignoring assembly bias can considerably alter our model constraints on parameters $\\Omega_m$ and $\\sigma_8$ if the test sample includes assembly bias. Using our emulator for MG simulations, which encompasses two Dvali-Gabadadze-Porrati models (DGP; N1, N5) and two $f(R)$ models (F4, F6), we can effectively identify a robust signature of modified gravity, for models such as DGP-N1 and $f(R)$-F4, as indicated by a noticeable deviation of $\\gamma_{f}$ from unity. Using the velocity dispersion of dark matter halos to effectively represent the underlying strength of the velocity field of these MG simulations, we find that the simple $\\gamma_{f}$ model can recover the truth with minimal bias. These evaluations indicate that our simple halo-velocity bias model is capable of detecting significant MG characteristics, although additional methodologies should be pursued to improve model constraints.         |\n",
       "|<p style=\"color:green\"> **ERROR** </p>| <p style=\"color:green\">affiliation error: mpia.affiliation_verifications: 'Heidelberg' keyword not found.</p> |"
      ],
      "text/plain": [
       "<IPython.core.display.Markdown object>"
      ]
     },
     "metadata": {},
     "output_type": "display_data"
    },
    {
     "data": {
      "text/markdown": [
       "\n",
       "|||\n",
       "|---:|:---|\n",
       "| [![arXiv](https://img.shields.io/badge/arXiv-2506.22765-b31b1b.svg)](https://arxiv.org/abs/2506.22765) | **Timing results of 22 years for PSR J0922+0638**  |\n",
       "|| P. Liu, et al. -- incl., <mark>N. Wang</mark> |\n",
       "|*Appeared on*| *2025-07-01*|\n",
       "|*Comments*| *14 pages, 8 figures, 4 tables, ApJ (2025) accepted*|\n",
       "|**Abstract**|            We conducted a timing analysis of PSR J0922+0638 (B0919+06) using data from the Nanshan 26 m radio telescope and the MeerKAT telescope, spanning from January 2001 to March 2023. During this 22-year period, we discovered a previously unreported small glitch (glitch 1) before the well-known large glitch (glitch 2), occurring at ${\\rm MJD} \\sim 53325(3)$, with a frequency jump amplitude of $\\Delta \\nu/\\nu \\sim 0.79(6) \\times 10^{-9}$. We also identified ten slow glitch events, half of which were newly detected. These slow glitches occurred quasi-periodically, with an average interval of approximately 553(21) days, fractional frequency changes ranging from $\\Delta \\nu/\\nu \\sim 1.13(1) \\times 10^{-9}$ to $4.08(5) \\times 10^{-9}$, and a maximum fractional change in the first derivative of the frequency of $\\Delta \\dot{\\nu}/\\dot{\\nu} \\sim -4.6 \\times 10^{-3}$. Additionally, our timing noise analysis reveals a change in the spectral index for noise power before and after glitch 2, with values of $-6.0$ and $-5.3$, respectively, likely due to this large glitch. Throughout the entire observation period, the first derivative of the spin frequency ($\\dot{\\nu}$) showed a periodic structure. The possible modulation period was estimated to be 537(24) days before the 700-day data gap at MJD 56716 and 600(58) days afterward. We discuss the periodic oscillations in pulsar rotation as a possible manifestation of spin-down noise and quasi-periodic slow glitches.         |\n",
       "|<p style=\"color:green\"> **ERROR** </p>| <p style=\"color:green\">affiliation error: mpia.affiliation_verifications: 'Heidelberg' keyword not found.</p> |"
      ],
      "text/plain": [
       "<IPython.core.display.Markdown object>"
      ]
     },
     "metadata": {},
     "output_type": "display_data"
    },
    {
     "data": {
      "text/markdown": [
       "\n",
       "|||\n",
       "|---:|:---|\n",
       "| [![arXiv](https://img.shields.io/badge/arXiv-2506.22904-b31b1b.svg)](https://arxiv.org/abs/2506.22904) | **The effectively optically thin accretion flow and its implication in supermassive black holes**  |\n",
       "|| M. Liu, et al. -- incl., <mark>Y. Wang</mark> |\n",
       "|*Appeared on*| *2025-07-01*|\n",
       "|*Comments*| *11 pages, 9 figures, accepted for publication in MNRAS*|\n",
       "|**Abstract**|            Based on a unified description of various accretion flows, we find a long-ignored solution - the effectively optically thin accretion flow, occurring at accretion rates around Eddington value. As a consequence of radiation-pressure dominance, the density in a standard thin disc (SSD) decreases with the increase of accretion rates, making the innermost region effectively optically thin. Further increase in accretion rate leads to a rise of the temperature so that the Compton cooling is able to balance the accretion released energy. We demonstrate that the effectively optically thin flow is characterized by moderate temperature and large scattering optical depth, producing a multi-color Wien spectrum. For an appropriate accretion rate, the accretion flow transforms from an outer SSD to an inner effectively optically thin flow. Thus, the spectra of the whole accretion flow exhibit two components, i.e., a multi-color Wien spectrum at higher frequency and a multi-color blackbody, the former could provide an alternative origin of soft X-ray excess or formation of warm corona in active galactic nuclei (AGNs). Our stability analysis proves it is thermally stable and viscously unstable, indicating its existence in accreting systems. We show that effectively optically thin accretion flow exists in supermassive black holes for accretion rates around 0.1 to 10 times Eddington value, bridging the SSD at low accretion rates and slim disc at high rates. By comparing the predictions and average spectra of AGN, we constrain the viscosity parameter to be $\\alpha \\sim 0.03$, in good agreement with that derived from observed variability.         |\n",
       "|<p style=\"color:green\"> **ERROR** </p>| <p style=\"color:green\">affiliation error: mpia.affiliation_verifications: 'Heidelberg' keyword not found.</p> |"
      ],
      "text/plain": [
       "<IPython.core.display.Markdown object>"
      ]
     },
     "metadata": {},
     "output_type": "display_data"
    },
    {
     "data": {
      "text/markdown": [
       "\n",
       "|||\n",
       "|---:|:---|\n",
       "| [![arXiv](https://img.shields.io/badge/arXiv-2506.23915-b31b1b.svg)](https://arxiv.org/abs/2506.23915) | **Exploring the Wolf Approach to Constraining NIR Extinction Laws in the Corona Australis Molecular Cloud**  |\n",
       "|| B. Jiang, <mark>J. Li</mark>, X. Chen |\n",
       "|*Appeared on*| *2025-07-01*|\n",
       "|*Comments*| *Accepted for publication in AJ*|\n",
       "|**Abstract**|            The viability of the star count (Wolf) method is assessed as a means of constraining the near-infrared (NIR) extinction law toward the Corona Australis molecular cloud. Using deep $JHK_S$ photometry from the VISIONS survey, extinction maps with 1 arcmin spatial resolution are constructed. The derived extinction ratios are $A_J/A_H=1.73\\pm0.07$, $A_H/A_{K_S}=1.70\\pm0.11$, and $A_J/A_{K_S}=3.02\\pm0.22$, which are consistent with Galactic literature means. Assuming a power-law form ($A_\\lambda \\propto \\lambda^{-\\alpha}$) for the NIR extinction law, we derive indices of $\\alpha\\approx 2.0$ across all wavelength combinations, with no statistically significant wavelength dependence throughout the NIR wavelength range. While spatial variations in extinction properties are tentatively observed across the cloud, concerns persist regarding the impact of photometric completeness, and the role of reference field selection. Continued research is required to refine the approach, and scrutinize the veracity of potential extinction law variations over a more expansive region of sky.         |\n",
       "|<p style=\"color:green\"> **ERROR** </p>| <p style=\"color:green\">affiliation error: mpia.affiliation_verifications: 'Heidelberg' keyword not found.</p> |"
      ],
      "text/plain": [
       "<IPython.core.display.Markdown object>"
      ]
     },
     "metadata": {},
     "output_type": "display_data"
    },
    {
     "data": {
      "text/markdown": [
       "\n",
       "|||\n",
       "|---:|:---|\n",
       "| [![arXiv](https://img.shields.io/badge/arXiv-2506.23931-b31b1b.svg)](https://arxiv.org/abs/2506.23931) | **Sagittarius A* near-infrared flares polarization as a probe of space-time I: Non-rotating exotic compact objects**  |\n",
       "|| N. Aimar, J. L. Rosa, H. L. Tamm, <mark>P. Garcia</mark> |\n",
       "|*Appeared on*| *2025-07-01*|\n",
       "|*Comments*| *14 pages, 9 figures, 7 tables; comments welcome*|\n",
       "|**Abstract**|            The center of our galaxy hosts Sagittarius~A*, a supermassive compact object of $\\sim 4.3\\times 10^6$ solar masses, usually associated with a black hole. Nevertheless, black holes possess a central singularity, considered unphysical, and an event horizon, which leads to loss of unitarity in a quantum description of the system. To address these theoretical inconsistencies, alternative models, collectively known as exotic compact objects, have been proposed. In this paper, we investigate the potential detectability of signatures associated with non-rotating exotic compact objects within the Sgr~A* polarized flares dataset, as observed through GRAVITY and future instruments. We examine a total of eight distinct metrics, originating from four different categories of static and spherically symmetric compact objects: Black Holes, Boson stars, Fluid spheres, and Gravastars. Our approach involves utilizing a toy model that orbits the compact object in the equatorial plane, at the Schwarzschild-Keplerian velocity. Using simulated astrometric and polarimetric data with present GRAVITY and future GRAVITY+ uncertainties, we fit the datasets across all metrics examined. We evaluated the detectability of the metric for each dataset based on the resulting $\\chi^2_\\mathrm{red}$ and BIC-based Bayes factors. Plunge-through images of ECOs affect polarization and astrometry. With GRAVITY's present uncertainties, only a compact boson-star model is discernible. GRAVITY+'s improved sensitivity allows detection of most exotic compact object models. However, enhancing the astrophysical complexity of the hot spot model diminishes these outcomes. Presently, GRAVITY's uncertainties limit us to detecting just one exotic compact object metric. With GRAVITY+'s enhanced sensitivity, we can expect to uncover additional exotic compact object models and use Sgr~A* as a laboratory for fundamental physics.         |\n",
       "|<p style=\"color:green\"> **ERROR** </p>| <p style=\"color:green\">affiliation error: mpia.affiliation_verifications: 'Heidelberg' keyword not found.</p> |"
      ],
      "text/plain": [
       "<IPython.core.display.Markdown object>"
      ]
     },
     "metadata": {},
     "output_type": "display_data"
    },
    {
     "data": {
      "text/markdown": [
       "\n",
       "|||\n",
       "|---:|:---|\n",
       "| [![arXiv](https://img.shields.io/badge/arXiv-2506.23331-b31b1b.svg)](https://arxiv.org/abs/2506.23331) | **On inertial forces (indirect terms) in problems with a central body**  |\n",
       "|| A. Crida, et al. -- incl., <mark>P. Griveaud</mark> |\n",
       "|*Appeared on*| *2025-07-01*|\n",
       "|*Comments*| *12 pages, accepted for publication in the Open Journal of Astrophysics*|\n",
       "|**Abstract**|            Gravitational systems in astrophysics often comprise a body -- the primary -- that far outweights the others, and which is taken as the centre of the reference frame. A fictitious acceleration, also known as the indirect term, must therefore be added to all other bodies in the system to compensate for the absence of motion of the primary. In this paper, we first stress that there is not one indirect term but as many indirect terms as there are bodies in the system that exert a gravitational pull on the primary. For instance, in the case of a protoplanetary disc with two planets, there are three indirect terms: one arising from the whole disc, and one per planet. We also highlight that the direct and indirect gravitational accelerations should be treated in a balanced way: the indirect term from one body should be applied to the other bodies in the system that feel its direct gravitational acceleration, and only to them. We point to situations where one of those terms is usually neglected however, which may lead to spurious results. These ideas are developed here for star-disc-planets interactions, for which we propose a recipe for the force to be applied onto a migrating planet, but they can easily be generalized to other astrophysical systems.         |\n",
       "|<p style=\"color:red\"> **ERROR** </p>| <p style=\"color:red\">latex error nothing to repeat at position 15</p> |"
      ],
      "text/plain": [
       "<IPython.core.display.Markdown object>"
      ]
     },
     "metadata": {},
     "output_type": "display_data"
    }
   ],
   "source": [
    "import datetime\n",
    "today = str(datetime.date.today())\n",
    "logfile = f\"_build/html/logs/log-{today}.md\"\n",
    "\n",
    "\n",
    "with open(logfile, 'w') as logs:\n",
    "    # Success\n",
    "    logs.write(f'# Arxiv on Deck 2: Logs - {today}\\n\\n')\n",
    "    logs.write(\"\"\"* Arxiv had {0:,d} new papers\\n\"\"\".format(len(new_papers)))\n",
    "    logs.write(\"\"\"    * {0:,d} with possible author matches\\n\\n\"\"\".format(len(candidates)))\n",
    "    logs.write(\"## Sucessful papers\\n\\n\")\n",
    "    display(Markdown(\"## Successful papers\"))\n",
    "    success = [k[0] for k in documents]\n",
    "    for candid in candidates:\n",
    "        if candid['identifier'].split(':')[-1] in success:\n",
    "            display(candid)\n",
    "            logs.write(candid.generate_markdown_text() + '\\n\\n')\n",
    "\n",
    "    ## failed\n",
    "    logs.write(\"## Failed papers\\n\\n\")\n",
    "    display(Markdown(\"## Failed papers\"))\n",
    "    failed = sorted(failed, key=lambda x: x[1])\n",
    "    current_reason = \"\"\n",
    "    for paper, reason in failed:\n",
    "        if 'affiliation' in reason:\n",
    "            color = 'green'\n",
    "        else:\n",
    "            color = 'red'\n",
    "        data = Markdown(\n",
    "                paper.generate_markdown_text() + \n",
    "                f'\\n|<p style=\"color:{color:s}\"> **ERROR** </p>| <p style=\"color:{color:s}\">{reason:s}</p> |'\n",
    "               )\n",
    "        if reason != current_reason:\n",
    "            logs.write(f'### {reason:s} \\n\\n')\n",
    "            current_reason = reason\n",
    "        logs.write(data.data + '\\n\\n')\n",
    "        \n",
    "        # only display here the important errors (all in logs)\n",
    "        # if color in ('red',):\n",
    "        display(data)"
   ]
  },
  {
   "cell_type": "markdown",
   "id": "472d20ee",
   "metadata": {
    "papermill": {
     "duration": 0.004692,
     "end_time": "2025-07-01T04:31:13.659380",
     "exception": false,
     "start_time": "2025-07-01T04:31:13.654688",
     "status": "completed"
    },
    "tags": []
   },
   "source": [
    "## Export documents\n",
    "\n",
    "We now write the .md files and export relevant images"
   ]
  },
  {
   "cell_type": "code",
   "execution_count": 7,
   "id": "d426aed9",
   "metadata": {
    "execution": {
     "iopub.execute_input": "2025-07-01T04:31:13.669922Z",
     "iopub.status.busy": "2025-07-01T04:31:13.669398Z",
     "iopub.status.idle": "2025-07-01T04:31:13.676115Z",
     "shell.execute_reply": "2025-07-01T04:31:13.675611Z"
    },
    "papermill": {
     "duration": 0.012916,
     "end_time": "2025-07-01T04:31:13.677102",
     "exception": false,
     "start_time": "2025-07-01T04:31:13.664186",
     "status": "completed"
    },
    "tags": []
   },
   "outputs": [],
   "source": [
    "def export_markdown_summary(md: str, md_fname:str, directory: str):\n",
    "    \"\"\"Export MD document and associated relevant images\"\"\"\n",
    "    import os\n",
    "    import shutil\n",
    "    import re\n",
    "\n",
    "    if (os.path.exists(directory) and not os.path.isdir(directory)):\n",
    "        raise RuntimeError(f\"a non-directory file exists with name {directory:s}\")\n",
    "\n",
    "    if (not os.path.exists(directory)):\n",
    "        print(f\"creating directory {directory:s}\")\n",
    "        os.mkdir(directory)\n",
    "\n",
    "    fig_fnames = (re.compile(r'\\[Fig.*\\]\\((.*)\\)').findall(md) + \n",
    "                  re.compile(r'\\<img src=\"([^>\\s]*)\"[^>]*/>').findall(md))\n",
    "    print(\"found figures\", fig_fnames)\n",
    "    for fname in fig_fnames:\n",
    "        if 'http' in fname:\n",
    "            # No need to copy online figures\n",
    "            continue\n",
    "        if not os.path.exists(fname):\n",
    "            print(\"file not found\", fname)\n",
    "            continue\n",
    "        print(\"copying \", fname, \"to\", directory)\n",
    "        destdir = os.path.join(directory, os.path.dirname(fname))\n",
    "        destfname = os.path.join(destdir, os.path.basename(fname))\n",
    "        try:\n",
    "            os.makedirs(destdir)\n",
    "        except FileExistsError:\n",
    "            pass\n",
    "        shutil.copy(fname, destfname)\n",
    "    with open(os.path.join(directory, md_fname), 'w') as fout:\n",
    "        fout.write(md)\n",
    "    print(\"exported in \", os.path.join(directory, md_fname))\n",
    "    [print(\"    + \" + os.path.join(directory,fk)) for fk in fig_fnames]"
   ]
  },
  {
   "cell_type": "code",
   "execution_count": 8,
   "id": "014d04a4",
   "metadata": {
    "execution": {
     "iopub.execute_input": "2025-07-01T04:31:13.687776Z",
     "iopub.status.busy": "2025-07-01T04:31:13.687376Z",
     "iopub.status.idle": "2025-07-01T04:31:13.698081Z",
     "shell.execute_reply": "2025-07-01T04:31:13.697437Z"
    },
    "papermill": {
     "duration": 0.017079,
     "end_time": "2025-07-01T04:31:13.699100",
     "exception": false,
     "start_time": "2025-07-01T04:31:13.682021",
     "status": "completed"
    },
    "tags": []
   },
   "outputs": [
    {
     "name": "stdout",
     "output_type": "stream",
     "text": [
      "found figures ['tmp_2506.23891/./Figures/rhomomentum_conv_10to1_100days_r.png', 'tmp_2506.23891/./Figures/rhomomentum_conv_tidally-locked_100days_r.png', 'tmp_2506.23891/./Figures/wind_structure_uvw_heliocenteric_v.png']\n",
      "copying  tmp_2506.23891/./Figures/rhomomentum_conv_10to1_100days_r.png to _build/html/\n",
      "copying  tmp_2506.23891/./Figures/rhomomentum_conv_tidally-locked_100days_r.png to _build/html/\n",
      "copying  tmp_2506.23891/./Figures/wind_structure_uvw_heliocenteric_v.png to _build/html/\n",
      "exported in  _build/html/2506.23891.md\n",
      "    + _build/html/tmp_2506.23891/./Figures/rhomomentum_conv_10to1_100days_r.png\n",
      "    + _build/html/tmp_2506.23891/./Figures/rhomomentum_conv_tidally-locked_100days_r.png\n",
      "    + _build/html/tmp_2506.23891/./Figures/wind_structure_uvw_heliocenteric_v.png\n",
      "found figures ['tmp_2506.24128/./extrap-mbh.png', 'tmp_2506.24128/./extrap-erdf.png', 'tmp_2506.24128/./cii_muv.png']\n",
      "copying  tmp_2506.24128/./extrap-mbh.png to _build/html/\n",
      "copying  tmp_2506.24128/./extrap-erdf.png to _build/html/\n",
      "copying  tmp_2506.24128/./cii_muv.png to _build/html/\n",
      "exported in  _build/html/2506.24128.md\n",
      "    + _build/html/tmp_2506.24128/./extrap-mbh.png\n",
      "    + _build/html/tmp_2506.24128/./extrap-erdf.png\n",
      "    + _build/html/tmp_2506.24128/./cii_muv.png\n"
     ]
    }
   ],
   "source": [
    "for paper_id, md in documents:\n",
    "    export_markdown_summary(md, f\"{paper_id:s}.md\", '_build/html/')"
   ]
  },
  {
   "cell_type": "markdown",
   "id": "f087a0a7",
   "metadata": {
    "papermill": {
     "duration": 0.004918,
     "end_time": "2025-07-01T04:31:13.708954",
     "exception": false,
     "start_time": "2025-07-01T04:31:13.704036",
     "status": "completed"
    },
    "tags": []
   },
   "source": [
    "## Display the papers\n",
    "\n",
    "Not necessary but allows for a quick check."
   ]
  },
  {
   "cell_type": "code",
   "execution_count": 9,
   "id": "fd25f625",
   "metadata": {
    "execution": {
     "iopub.execute_input": "2025-07-01T04:31:13.719902Z",
     "iopub.status.busy": "2025-07-01T04:31:13.719477Z",
     "iopub.status.idle": "2025-07-01T04:31:13.725294Z",
     "shell.execute_reply": "2025-07-01T04:31:13.724763Z"
    },
    "papermill": {
     "duration": 0.01238,
     "end_time": "2025-07-01T04:31:13.726327",
     "exception": false,
     "start_time": "2025-07-01T04:31:13.713947",
     "status": "completed"
    },
    "scrolled": false,
    "tags": []
   },
   "outputs": [
    {
     "data": {
      "text/markdown": [
       "<div class=\"macros\" style=\"visibility:hidden;\">\n",
       "$\\newcommand{\\ensuremath}{}$\n",
       "$\\newcommand{\\xspace}{}$\n",
       "$\\newcommand{\\object}[1]{\\texttt{#1}}$\n",
       "$\\newcommand{\\farcs}{{.}''}$\n",
       "$\\newcommand{\\farcm}{{.}'}$\n",
       "$\\newcommand{\\arcsec}{''}$\n",
       "$\\newcommand{\\arcmin}{'}$\n",
       "$\\newcommand{\\ion}[2]{#1#2}$\n",
       "$\\newcommand{\\textsc}[1]{\\textrm{#1}}$\n",
       "$\\newcommand{\\hl}[1]{\\textrm{#1}}$\n",
       "$\\newcommand{\\footnote}[1]{}$\n",
       "$\\newcommand{\\revise}[1]{\\textcolor{red}{#1}}$\n",
       "$\\newcommand{\\thebibliography}{\\DeclareRobustCommand{\\VAN}[3]{##3}\\VANthebibliography}$</div>\n",
       "\n",
       "\n",
       "\n",
       "<div id=\"title\">\n",
       "\n",
       "# Three-dimensional Transport-induced Chemistry on Temperate sub-Neptune K2-18b, Part I: the Effects of Atmospheric Dynamics\n",
       "\n",
       "</div>\n",
       "<div id=\"comments\">\n",
       "\n",
       "[![arXiv](https://img.shields.io/badge/arXiv-2506.23891-b31b1b.svg)](https://arxiv.org/abs/2506.23891)<mark>Appeared on: 2025-07-01</mark> -  _19 pages, 17 figures, accepted to MNRAS_\n",
       "\n",
       "</div>\n",
       "<div id=\"authors\">\n",
       "\n",
       "<mark>J. Liu</mark>, <mark>D. Christie</mark>, J. Yang\n",
       "\n",
       "</div>\n",
       "<div id=\"abstract\">\n",
       "\n",
       "**Abstract:** The low equilibrium temperatures of temperate sub-Neptunes lead to extremely long chemical timescales in their upper atmospheres, causing the abundances of chemical species to be strongly shaped by atmospheric transport. Here, we used a three-dimensional (3D) general circulation model involving a passive tracer to investigate the atmospheric circulation and 3D transport of temperate gas-rich sub-Neptunes, using K2-18b as an example. We model K2-18b as a synchronous or asynchronous rotator, exploring spin-orbit resonances (SOR) of 2:1, 6:1, and 10:1. We find that the strong absorption of $CO_2$ and $CH_4$ induces a detached convective zone between 1 and 5 bar, resulting in strong vertical mixing at these levels. The upper atmosphere is dominated by eastward winds (an equatorial superrotating jet present in all simulations), leading to warmer evening terminators and approximately 20 $\\%$ higher passive tracer mass mixing ratios compared to the morning terminators. Rotation rates have minimal impact on the strength of global mean vertical mixing, but significantly influence the latitudinal distribution of passive tracers. For synchronous, 2:1 SOR, and 6:1 SOR simulations, passive tracers are more abundant in the upwelling branches at latitudes within 60 $^\\circ$ , while for the 10:1 SOR simulation, strong transient eddies at high latitudes ( $>$ 70 $^\\circ$ ) between 0.1 to 1 bar can transport passive tracers upward from the deep atmosphere, making them more abundant there, despite their alignment with the downwelling branch of the large-scale circulation. This study focuses on the atmospheric dynamics and its influence on passive tracer transport, while a follow-up paper will incorporate active chemical species.\n",
       "\n",
       "</div>\n",
       "\n",
       "<div id=\"div_fig1\">\n",
       "\n",
       "<img src=\"tmp_2506.23891/./Figures/rhomomentum_conv_10to1_100days_r.png\" alt=\"Fig7\" width=\"100%\"/>\n",
       "\n",
       "**Figure 7. -** Mechanisms of the formation of the equatorial superrotating jet and high-latitude jets for the 10:1 SOR simulation. (a) Zonal-mean zonal wind at 100 days. (b) Zonal-mean zonal wind accelerations at $10^{-4}$ bar due to horizontal (solid) and vertical (dashed) transient eddies (blue), stationary eddies (orange), and mean flow (purple) in equation (\\ref{momentum equation new}). The black line in panel (a) represents the sum of these six terms. (c)-(h): Contributions to zonal wind acceleration from horizontal transient eddies, horizontal stationary eddies, horizontal mean flow, vertical transient eddies, vertical stationary eddies, and vertical mean flow in equation (\\ref{momentum equation new}). Contour lines in panels (e) and (h) depict the zonal-mean mass streamfunction, with arrows indicating the direction of mean circulation and angular momentum transport by the mean flow. To enhance visibility of the mass streamfunction in the upper atmosphere, two contour intervals are applied: for pressures smaller than 0.006 bar, the interval is $8 \\times 10^8$ kg s$^{-1}$ with limits of $-2 \\times 10^9$ and $2 \\times 10^9$ kg s$^{-1}$, while for pressures larger than 0.006 bar, the interval is $4 \\times 10^9$ kg s$^{-1}$ with limits of $-2 \\times 10^{10}$ and $2 \\times 10^{10}$ kg s$^{-1}$. Results in panels (b)-(h) are derived from simulated data over the first 100 days, with an output interval of 10 days. (*fig:momentum_ini_10to1*)\n",
       "\n",
       "</div>\n",
       "<div id=\"div_fig2\">\n",
       "\n",
       "<img src=\"tmp_2506.23891/./Figures/rhomomentum_conv_tidally-locked_100days_r.png\" alt=\"Fig6\" width=\"100%\"/>\n",
       "\n",
       "**Figure 6. -** Mechanism for the formation of the equatorial superrotating jet for the synchronous simulation. (a) The zonal-mean zonal wind at 100 days. (b) Zonal-mean zonal wind accelerations at 0.001 bar due to horizontal (solid) and vertical (dashed) transient eddy (blue), stationary eddy (orange), and mean flow (purple) in equation (\\ref{momentum equation new}). The black line in panel (b) is the sum of these six terms. (c) Horizontal distribution of the stationary eddy velocity at 0.001 bar, where $\\overline{u}^*$ is depicted as the coloured contour and $\\overline{\\rho v}^*/[\\overline{\\rho}]$ is shown as the contour lines, with an interval of 40 m s$^{-2}$ and limits of -200 and 200 m s$^{-2}$. (d)-(i): Contributions to zonal wind acceleration from horizontal transient eddies, horizontal stationary eddies, horizontal mean flow, vertical transient eddies, vertical stationary eddies, and vertical mean flow in equation (\\ref{momentum equation new}). Contour lines in panels (f) and (i) show the zonal-mean mass streamfunction, with arrows indicating the direction of mean circulation and angular momentum transport by the mean flow. The contour lines have an interval of 10$^{10}$ kg s$^{-1}$, with limits of -5$\\times$10$^{10}$ and 5$\\times$10$^{10}$ kg s$^{-1}$. Results in panels (b)-(i) are derived from simulated data over the first 100 days, with an output interval of 10 days. (*fig:momentum_ini_t*)\n",
       "\n",
       "</div>\n",
       "<div id=\"div_fig3\">\n",
       "\n",
       "<img src=\"tmp_2506.23891/./Figures/wind_structure_uvw_heliocenteric_v.png\" alt=\"Fig5\" width=\"100%\"/>\n",
       "\n",
       "**Figure 5. -** Horizontal distribution of zonal wind ((a)--(d)), meridional wind ((e)--(h)), and vertical wind ((i)--(l)) at 0.001 bar. The streamlines indicate the direction of the horizontal flow. The results are transforming in the heliocentric frame to show the wind patterns more clearly. The black star-shaped markers indicate the location of the substellar point. Rows from the top to the bottom are results from simulations of synchronous, 2:1 SOR, 6:1 SOR, and 10:1 SOR. (*fig:uvw*)\n",
       "\n",
       "</div><div id=\"qrcode\"><img src=https://api.qrserver.com/v1/create-qr-code/?size=100x100&data=\"https://arxiv.org/abs/2506.23891\"></div>"
      ],
      "text/plain": [
       "<IPython.core.display.Markdown object>"
      ]
     },
     "metadata": {},
     "output_type": "display_data"
    },
    {
     "data": {
      "text/markdown": [
       "<div class=\"macros\" style=\"visibility:hidden;\">\n",
       "$\\newcommand{\\ensuremath}{}$\n",
       "$\\newcommand{\\xspace}{}$\n",
       "$\\newcommand{\\object}[1]{\\texttt{#1}}$\n",
       "$\\newcommand{\\farcs}{{.}''}$\n",
       "$\\newcommand{\\farcm}{{.}'}$\n",
       "$\\newcommand{\\arcsec}{''}$\n",
       "$\\newcommand{\\arcmin}{'}$\n",
       "$\\newcommand{\\ion}[2]{#1#2}$\n",
       "$\\newcommand{\\textsc}[1]{\\textrm{#1}}$\n",
       "$\\newcommand{\\hl}[1]{\\textrm{#1}}$\n",
       "$\\newcommand{\\footnote}[1]{}$</div>\n",
       "\n",
       "\n",
       "\n",
       "<div id=\"title\">\n",
       "\n",
       "# Beneath the Surface: $>$85\\% of z$>$5.9 QSOs in Massive Host Galaxies are $UV$-Faint\n",
       "\n",
       "</div>\n",
       "<div id=\"comments\">\n",
       "\n",
       "[![arXiv](https://img.shields.io/badge/arXiv-2506.24128-b31b1b.svg)](https://arxiv.org/abs/2506.24128)<mark>Appeared on: 2025-07-01</mark> -  _13 pages, 6 figures, 4 tables, submitted to A&A_\n",
       "\n",
       "</div>\n",
       "<div id=\"authors\">\n",
       "\n",
       "R. Bouwens, et al. -- incl., <mark>F. Walter</mark>\n",
       "\n",
       "</div>\n",
       "<div id=\"abstract\">\n",
       "\n",
       "**Abstract:** We use [ CII ] ${158\\mu\\text{m}}$ observations of a large QSO sample to  segregate sources by host galaxy mass, aiming to identify those in  the most massive hosts. [ CII ] luminosity, a known tracer of  molecular gas, is taken as a proxy for host mass and used to rank  190 QSOs at $z>5.9$ , spanning a 6-mag UV luminosity range  ( $-22<M{UV,AB}<-28$ ). Particularly valuable are ALMA data from a  cycle-10 CISTERN program, providing [ CII ] coverage for 46 $UV$ -faint  ( $M_{UV,AB}>-24.5$ ) and 25 especially $UV$ -faint ( $M_{UV,AB}>-23.5$ )  QSOs, improving statistics by 5 $\\times$ and 6 $\\times$ , respectively.  Taking massive host galaxies to be those where $L_{\\text{[CII]}}$ $>1.8\\times10^9$ L $_\\odot$ (median $L_{[CII]}$ of $UV$ -bright  QSOs), we identify 61 QSOs, including 13 which are $UV$ -faint and 7  especially $UV$ -faint.  Using these selections and recent QSO  luminosity functions (LFs), we present the first characterization of $UV$ luminosity distribution for QSOs in massive host galaxies and  quantify [ CII ] LFs for both $UV$ -bright and $UV$ -faint QSOs.  While $\\sim$ 3 \\% of massive-host QSOs are $UV$ -bright ( $M_{UV,AB}<-26$ ), $\\gtrsim$ 85 \\% are $UV$ -faint ( $M_{UV,AB}>-24.5$ ).  This wide  dispersion in $UV$ luminosities reflects variations in dust  obscuration, accretion efficiency, and black hole mass. Though  spectroscopy is needed for definitive conclusions, black hole mass  appears to be the dominant factor driving variations in the $UV$ luminosity, based on 34 [ CII ] -luminous  ( $L_{\\text{[CII]}}>1.8\\times10^9$ L $_{\\odot}$ ) QSOs distributed  across a $\\sim$ 3-mag baseline in $UV$ luminosity and with measured $M_{BH}$ .  At $M_{UV,AB}\\sim-23$ , the median extrapolated $\\log_{10}  (M_{BH}/M_{\\odot})$ is $8.1\\pm0.4$ , consistent with the local  relation.  SMBHs in $UV$ -bright QSOs thus appear to be $\\sim$ 15 $_{-9}^{+25}\\times$ more massive than typical for massive  host galaxies at z $\\sim$ 6.\n",
       "\n",
       "</div>\n",
       "\n",
       "<div id=\"div_fig1\">\n",
       "\n",
       "<img src=\"tmp_2506.24128/./extrap-mbh.png\" alt=\"Fig5\" width=\"100%\"/>\n",
       "\n",
       "**Figure 5. -** _(left)_ Median measured $M_{BH}$(\\textit{solid black\n",
       "    circles}) from the literature for QSOs in Massive Host Galaxies\n",
       "  with $L_{\\text{[CII]}}>$1.8$\\times$10$^9$ L$_{\\odot}$ vs. $UV$\n",
       "  luminosity.  The smaller solid grey points show measured $M_{BH}$\n",
       "  vs. $M_{UV}$ for the massive host galaxy sample.  The $M_{BH}$\n",
       "  measurements for a $M_{UV,AB}\\sim-24.1$ QSO at $z=7.07$ ([Izumi, Matsuoka and Fujimoto 2021]())  is shown with the grey star.  The dotted diagonal lines indicate $M_{BH}$'s corresponding to Eddington ratios $\\lambda_{Edd}$ of 1, 0.1, and 0.01.  There is a strongly\n",
       "  suggestive correlation between the black hole masses of QSOs in\n",
       "  massive host galaxies and their $UV$ luminosities, suggesting that\n",
       "  $UV$ brightness of QSOs in massive host galaxies is largely driven by\n",
       "  the BH mass.  The open red circle shows the extrapolated\n",
       "  $M_{BH}$ at $M_{UV,AB}\\sim-23.0$ mag, together with the $1\\sigma$\n",
       "  uncertainty based on the extrapolation.  _(right)_\n",
       "  Distribution of $M_{BH}$ in massive host galaxies at $z>6$ in\n",
       "  $UV$-bright ($M_{UV,AB}<-26$) QSOs (_black line_) and including\n",
       "  QSOs down to a $UV$ luminosity of $-$22.0 mag (_red line_).\n",
       "  The precise mass where the $M_{BH}$ distribution peaks has a 1$\\sigma$\n",
       "  uncertainty of $\\pm$0.4 dex (_red arrows_) and is sensitive to the $M_{UV,AB}=-22$ cut-off the QSO LF we assume and also the best-fit slope of the $M_{BH}$ vs. $M_{UV}$ relation.  The purple bracketed region indicates the approximate\n",
       "  range of $M_{BH}$ for QSOs in similar mass host galaxies in the\n",
       "  local universe (e.g.,  ([ and Kormendy 2013]()) : KH13).  The median $M_{BH}$ for\n",
       "  QSOs in massive host galaxies at $z\\sim6$ appears to be consistent\n",
       "  with the local value (see \\S\\ref{sec:mbhdist}), but the uncertainties\n",
       "  are too large to be sure.  Further measurements\n",
       "  of $M_{BH}$ for the $UV$-faint QSOs in massive host galaxies at\n",
       "  $z\\sim6$ are required to resolve this open\n",
       "  question. (*fig:mbhdist*)\n",
       "\n",
       "</div>\n",
       "<div id=\"div_fig2\">\n",
       "\n",
       "<img src=\"tmp_2506.24128/./extrap-erdf.png\" alt=\"Fig6\" width=\"100%\"/>\n",
       "\n",
       "**Figure 6. -** _(left)_ Median inferred $\\lambda_{Edd}$(_solid black circles_) from the literature for QSOs in\n",
       "  Massive Host Galaxies with $L_{\\text{[CII]}}>$1.8$\\times$10$^9$\n",
       "  L$_{\\odot}$ vs. $UV$ luminosity.  The grey points and grey star are\n",
       "  as in Figure \\ref{fig:mbhdist}.  No strong correlation is seen\n",
       "  between the $UV$ luminosity of QSOs in massive host galaxies and\n",
       "  their accretion efficiency $\\lambda_{Edd}$.  As such, it would\n",
       "  appear that $M_{BH}$ is the dominant factor impacting the $UV$\n",
       "  brightness (or $L_{bol}$) of $z\\sim6$-7 QSOs and the duty cycle\n",
       "  cycle (i.e., variations in $\\lambda_{Edd}$ has a more limited\n",
       "  impact.  The open red circle shows the extrapolated $M_{BH}$ at $-$23.0 mag, together with the $1\\sigma$ uncertainty\n",
       "  based on the extrapolation.  _(right)_ Distribution of\n",
       "  $\\lambda_{Edd}$ in massive host galaxies at $z>6$ in $UV$-bright\n",
       "  ($M_{UV,AB}<-26$) QSOs (_black line_) and including QSOs down\n",
       "  to a $UV$ luminosity of $-$22.0 mag (_red line_).  Given\n",
       "  the large uncertainties in the precise dependence $\\lambda_{Edd}$\n",
       "  shows on $UV$ luminosity, the peak of the distribution is very\n",
       "  uncertain ($\\pm$0.4 dex: _red arrows indicate the 1$\\sigma$ uncertainties_). (*fig:erdist*)\n",
       "\n",
       "</div>\n",
       "<div id=\"div_fig3\">\n",
       "\n",
       "<img src=\"tmp_2506.24128/./cii_muv.png\" alt=\"Fig1\" width=\"100%\"/>\n",
       "\n",
       "**Figure 1. -** (_upper panel_) Measured [CII] luminosities\n",
       "     vs. $M_{UV}$ luminosities for $z>5.9$ QSOs from CISTERN\n",
       "     (_red circles_) and from the literature (_black circles_).  The solid downward pointing triangles indicate\n",
       "     $5\\sigma$ upper limits on the [CII] luminosities of QSO where no\n",
       "     line is detected with ALMA.  The black stars correspond to the\n",
       "     [Fujimoto, Brammer and Watson (2022)]() and [Endsley, Stark and Lyu (2023)]() QSO that\n",
       "     were identified in deep multiwavelength data over legacy fields\n",
       "     and not from wide-area QSO searches.  Shown along the right\n",
       "     vertical axis is the approximate gas mass one would expect for\n",
       "     the host galaxy of a given [CII] luminosity using the canonical\n",
       "     [Zanella, Daddi and Magdis (2018)]() relation.  $\\sim$21\\% of $UV$-faint QSOs\n",
       "     show luminous [CII] emission and thus appear to reside in massive\n",
       "     host galaxies.  (_lower panel_) Number of [CII]\n",
       "     observations for $z>5.9$ QSOs vs. $UV$ luminosity from the\n",
       "     literature (_filled black histogram_) and from CISTERN\n",
       "     (_filled red histogram_).  Thanks to observations from\n",
       "     CISTERN, there has been a dramatic $\\sim$5$\\times$ increase in\n",
       "     coverage of [CII] in $UV$-faint ($M_{UV,AB}>-24.5$) QSOs with ALMA.\n",
       "    (*fig:muvcii*)\n",
       "\n",
       "</div><div id=\"qrcode\"><img src=https://api.qrserver.com/v1/create-qr-code/?size=100x100&data=\"https://arxiv.org/abs/2506.24128\"></div>"
      ],
      "text/plain": [
       "<IPython.core.display.Markdown object>"
      ]
     },
     "metadata": {},
     "output_type": "display_data"
    }
   ],
   "source": [
    "[display(Markdown(k[1])) for k in documents];"
   ]
  },
  {
   "cell_type": "markdown",
   "id": "873873a4",
   "metadata": {
    "papermill": {
     "duration": 0.005183,
     "end_time": "2025-07-01T04:31:13.736943",
     "exception": false,
     "start_time": "2025-07-01T04:31:13.731760",
     "status": "completed"
    },
    "tags": []
   },
   "source": [
    "# Create HTML index"
   ]
  },
  {
   "cell_type": "code",
   "execution_count": 10,
   "id": "cf665672",
   "metadata": {
    "execution": {
     "iopub.execute_input": "2025-07-01T04:31:13.748352Z",
     "iopub.status.busy": "2025-07-01T04:31:13.747964Z",
     "iopub.status.idle": "2025-07-01T04:31:13.758965Z",
     "shell.execute_reply": "2025-07-01T04:31:13.758393Z"
    },
    "papermill": {
     "duration": 0.017744,
     "end_time": "2025-07-01T04:31:13.759977",
     "exception": false,
     "start_time": "2025-07-01T04:31:13.742233",
     "status": "completed"
    },
    "tags": []
   },
   "outputs": [
    {
     "name": "stdout",
     "output_type": "stream",
     "text": [
      "547  publications files modified in the last 7 days.\n"
     ]
    }
   ],
   "source": [
    "from datetime import datetime, timedelta, timezone\n",
    "from glob import glob\n",
    "import os\n",
    "\n",
    "files = glob('_build/html/*.md')\n",
    "days = 7\n",
    "now = datetime.today()\n",
    "res = []\n",
    "for fk in files:\n",
    "    stat_result = os.stat(fk).st_ctime\n",
    "    modified = datetime.fromtimestamp(stat_result, tz=timezone.utc).replace(tzinfo=None)\n",
    "    delta = now.today() - modified\n",
    "    if delta <= timedelta(days=days):\n",
    "        res.append((delta.seconds, fk))\n",
    "res = [k[1] for k in reversed(sorted(res, key=lambda x:x[1]))]\n",
    "npub = len(res)\n",
    "print(len(res), f\" publications files modified in the last {days:d} days.\")\n",
    "# [ print('\\t', k) for k in res ];"
   ]
  },
  {
   "cell_type": "code",
   "execution_count": 11,
   "id": "015de740",
   "metadata": {
    "execution": {
     "iopub.execute_input": "2025-07-01T04:31:13.771729Z",
     "iopub.status.busy": "2025-07-01T04:31:13.771281Z",
     "iopub.status.idle": "2025-07-01T04:31:13.797008Z",
     "shell.execute_reply": "2025-07-01T04:31:13.796459Z"
    },
    "papermill": {
     "duration": 0.032665,
     "end_time": "2025-07-01T04:31:13.797980",
     "exception": false,
     "start_time": "2025-07-01T04:31:13.765315",
     "status": "completed"
    },
    "tags": []
   },
   "outputs": [
    {
     "name": "stdout",
     "output_type": "stream",
     "text": [
      "12  publications in the last 7 days.\n"
     ]
    }
   ],
   "source": [
    "import datetime\n",
    "from glob import glob\n",
    "\n",
    "def get_last_n_days(lst, days=1):\n",
    "    \"\"\" Get the documents from the last n days \"\"\"\n",
    "    sorted_lst = sorted(lst, key=lambda x: x[1], reverse=True)\n",
    "    for fname, date in sorted_lst:\n",
    "        if date >= str(datetime.date.today() - datetime.timedelta(days=days)):\n",
    "            yield fname\n",
    "\n",
    "def extract_appearance_dates(lst_file):\n",
    "    dates = []\n",
    "\n",
    "    def get_date(line):\n",
    "        return line\\\n",
    "            .split('Appeared on:')[-1]\\\n",
    "            .split('</mark>')[0].strip()\n",
    "\n",
    "    for fname in lst:\n",
    "        with open(fname, 'r') as f:\n",
    "            found_date = False\n",
    "            for line in f:\n",
    "                if not found_date:\n",
    "                    if \"Appeared on\" in line:\n",
    "                        found_date = True\n",
    "                        dates.append((fname, get_date(line)))\n",
    "                else:\n",
    "                    break\n",
    "    return dates\n",
    "\n",
    "from glob import glob\n",
    "lst = glob('_build/html/*md')\n",
    "days = 7\n",
    "dates = extract_appearance_dates(lst)\n",
    "res = list(get_last_n_days(dates, days))\n",
    "npub = len(res)\n",
    "print(len(res), f\" publications in the last {days:d} days.\")"
   ]
  },
  {
   "cell_type": "code",
   "execution_count": 12,
   "id": "52ca0208",
   "metadata": {
    "execution": {
     "iopub.execute_input": "2025-07-01T04:31:13.809752Z",
     "iopub.status.busy": "2025-07-01T04:31:13.809348Z",
     "iopub.status.idle": "2025-07-01T04:31:13.814080Z",
     "shell.execute_reply": "2025-07-01T04:31:13.813524Z"
    },
    "papermill": {
     "duration": 0.011652,
     "end_time": "2025-07-01T04:31:13.815084",
     "exception": false,
     "start_time": "2025-07-01T04:31:13.803432",
     "status": "completed"
    },
    "scrolled": false,
    "tags": []
   },
   "outputs": [],
   "source": [
    "def create_carousel(npub=4):\n",
    "    \"\"\" Generate the HTML code for a carousel with `npub` slides \"\"\"\n",
    "    carousel = [\"\"\"  <div class=\"carousel\" \"\"\",\n",
    "                \"\"\"       data-flickity='{ \"autoPlay\": 10000, \"adaptiveHeight\": true, \"resize\": true, \"wrapAround\": true, \"pauseAutoPlayOnHover\": true, \"groupCells\": 1 }' id=\"asyncTypeset\">\"\"\"\n",
    "                ]\n",
    "    \n",
    "    item_str = \"\"\"    <div class=\"carousel-cell\"> <div id=\"slide{k}\" class=\"md_view\">Content {k}</div> </div>\"\"\"\n",
    "    for k in range(1, npub + 1):\n",
    "        carousel.append(item_str.format(k=k))\n",
    "    carousel.append(\"  </div>\")\n",
    "    return '\\n'.join(carousel)\n",
    "\n",
    "def create_grid(npub=4):\n",
    "    \"\"\" Generate the HTML code for a flat grid with `npub` slides \"\"\"\n",
    "    grid = [\"\"\"  <div class=\"grid\"> \"\"\",\n",
    "                ]\n",
    "    \n",
    "    item_str = \"\"\"    <div class=\"grid-item\"> <div id=\"slide{k}\" class=\"md_view\">Content {k}</div> </div>\"\"\"\n",
    "    for k in range(1, npub + 1):\n",
    "        grid.append(item_str.format(k=k))\n",
    "    grid.append(\"  </div>\")\n",
    "    return '\\n'.join(grid)"
   ]
  },
  {
   "cell_type": "code",
   "execution_count": 13,
   "id": "a6eac5b6",
   "metadata": {
    "execution": {
     "iopub.execute_input": "2025-07-01T04:31:13.827053Z",
     "iopub.status.busy": "2025-07-01T04:31:13.826663Z",
     "iopub.status.idle": "2025-07-01T04:31:13.831537Z",
     "shell.execute_reply": "2025-07-01T04:31:13.831012Z"
    },
    "papermill": {
     "duration": 0.01182,
     "end_time": "2025-07-01T04:31:13.832546",
     "exception": false,
     "start_time": "2025-07-01T04:31:13.820726",
     "status": "completed"
    },
    "scrolled": false,
    "tags": []
   },
   "outputs": [],
   "source": [
    "carousel = create_carousel(npub)\n",
    "docs = ', '.join(['\"{0:s}\"'.format(k.split('/')[-1]) for k in res])\n",
    "slides = ', '.join([f'\"slide{k}\"' for k in range(1, npub + 1)])\n",
    "\n",
    "with open(\"daily_template.html\", \"r\") as tpl:\n",
    "    page = tpl.read()\n",
    "    page = page.replace(\"{%-- carousel:s --%}\", carousel)\\\n",
    "               .replace(\"{%-- suptitle:s --%}\",  \"7-day archives\" )\\\n",
    "               .replace(\"{%-- docs:s --%}\", docs)\\\n",
    "               .replace(\"{%-- slides:s --%}\", slides)\n",
    "    \n",
    "with open(\"_build/html/index_7days.html\", 'w') as fout:\n",
    "    fout.write(page)"
   ]
  },
  {
   "cell_type": "code",
   "execution_count": 14,
   "id": "adc1a1ec",
   "metadata": {
    "execution": {
     "iopub.execute_input": "2025-07-01T04:31:13.844649Z",
     "iopub.status.busy": "2025-07-01T04:31:13.844315Z",
     "iopub.status.idle": "2025-07-01T04:31:13.851499Z",
     "shell.execute_reply": "2025-07-01T04:31:13.850954Z"
    },
    "papermill": {
     "duration": 0.014262,
     "end_time": "2025-07-01T04:31:13.852517",
     "exception": false,
     "start_time": "2025-07-01T04:31:13.838255",
     "status": "completed"
    },
    "tags": []
   },
   "outputs": [
    {
     "name": "stdout",
     "output_type": "stream",
     "text": [
      "3  publications in the last day.\n"
     ]
    }
   ],
   "source": [
    "# redo for today\n",
    "days = 1\n",
    "res = list(get_last_n_days(dates, days))\n",
    "npub = len(res)\n",
    "print(len(res), f\" publications in the last day.\")\n",
    "\n",
    "carousel = create_carousel(npub)\n",
    "docs = ', '.join(['\"{0:s}\"'.format(k.split('/')[-1]) for k in res])\n",
    "slides = ', '.join([f'\"slide{k}\"' for k in range(1, npub + 1)])\n",
    "\n",
    "with open(\"daily_template.html\", \"r\") as tpl:\n",
    "    page = tpl.read()\n",
    "    page = page.replace(\"{%-- carousel:s --%}\", carousel)\\\n",
    "               .replace(\"{%-- suptitle:s --%}\",  \"Daily\" )\\\n",
    "               .replace(\"{%-- docs:s --%}\", docs)\\\n",
    "               .replace(\"{%-- slides:s --%}\", slides)\n",
    "    \n",
    "# print(carousel, docs, slides)\n",
    "# print(page)\n",
    "with open(\"_build/html/index_daily.html\", 'w') as fout:\n",
    "    fout.write(page)"
   ]
  },
  {
   "cell_type": "code",
   "execution_count": 15,
   "id": "00eece82",
   "metadata": {
    "execution": {
     "iopub.execute_input": "2025-07-01T04:31:13.864681Z",
     "iopub.status.busy": "2025-07-01T04:31:13.864208Z",
     "iopub.status.idle": "2025-07-01T04:31:13.870819Z",
     "shell.execute_reply": "2025-07-01T04:31:13.870250Z"
    },
    "papermill": {
     "duration": 0.013679,
     "end_time": "2025-07-01T04:31:13.871813",
     "exception": false,
     "start_time": "2025-07-01T04:31:13.858134",
     "status": "completed"
    },
    "scrolled": false,
    "tags": []
   },
   "outputs": [
    {
     "name": "stdout",
     "output_type": "stream",
     "text": [
      "6  6 publications selected.\n"
     ]
    }
   ],
   "source": [
    "# Create the flat grid of the last N papers (fixed number regardless of dates)\n",
    "from itertools import islice \n",
    "\n",
    "npub = 6\n",
    "res = [k[0] for k in (islice(reversed(sorted(dates, key=lambda x: x[1])), 6))]\n",
    "print(len(res), f\" {npub} publications selected.\")\n",
    "\n",
    "grid = create_grid(npub)\n",
    "docs = ', '.join(['\"{0:s}\"'.format(k.split('/')[-1]) for k in res])\n",
    "slides = ', '.join([f'\"slide{k}\"' for k in range(1, npub + 1)])\n",
    "\n",
    "with open(\"grid_template.html\", \"r\") as tpl:\n",
    "    page = tpl.read()\n",
    "    page = page.replace(\"{%-- grid-content:s --%}\", grid)\\\n",
    "               .replace(\"{%-- suptitle:s --%}\",  f\"Last {npub:,d} papers\" )\\\n",
    "               .replace(\"{%-- docs:s --%}\", docs)\\\n",
    "               .replace(\"{%-- slides:s --%}\", slides)\n",
    "    \n",
    "# print(grid, docs, slides)\n",
    "# print(page)\n",
    "with open(\"_build/html/index_npub_grid.html\", 'w') as fout:\n",
    "    fout.write(page)"
   ]
  }
 ],
 "metadata": {
  "kernelspec": {
   "display_name": "Python 3 (ipykernel)",
   "language": "python",
   "name": "python3"
  },
  "language_info": {
   "codemirror_mode": {
    "name": "ipython",
    "version": 3
   },
   "file_extension": ".py",
   "mimetype": "text/x-python",
   "name": "python",
   "nbconvert_exporter": "python",
   "pygments_lexer": "ipython3",
   "version": "3.9.23"
  },
  "papermill": {
   "default_parameters": {},
   "duration": 65.779799,
   "end_time": "2025-07-01T04:31:14.094443",
   "environment_variables": {},
   "exception": null,
   "input_path": "MPIA daily digest.ipynb",
   "output_path": "log.ipynb",
   "parameters": {},
   "start_time": "2025-07-01T04:30:08.314644",
   "version": "2.6.0"
  },
  "vscode": {
   "interpreter": {
    "hash": "aee8b7b246df8f9039afb4144a1f6fd8d2ca17a180786b69acc140d282b71a49"
   }
  },
  "widgets": {
   "application/vnd.jupyter.widget-state+json": {
    "state": {
     "0d26d72bc4894c5eb8607c61175ab5c9": {
      "model_module": "@jupyter-widgets/controls",
      "model_module_version": "2.0.0",
      "model_name": "HTMLStyleModel",
      "state": {
       "_model_module": "@jupyter-widgets/controls",
       "_model_module_version": "2.0.0",
       "_model_name": "HTMLStyleModel",
       "_view_count": null,
       "_view_module": "@jupyter-widgets/base",
       "_view_module_version": "2.0.0",
       "_view_name": "StyleView",
       "background": null,
       "description_width": "",
       "font_size": null,
       "text_color": null
      }
     },
     "57d28adce934468694c0dd3e61acc434": {
      "model_module": "@jupyter-widgets/base",
      "model_module_version": "2.0.0",
      "model_name": "LayoutModel",
      "state": {
       "_model_module": "@jupyter-widgets/base",
       "_model_module_version": "2.0.0",
       "_model_name": "LayoutModel",
       "_view_count": null,
       "_view_module": "@jupyter-widgets/base",
       "_view_module_version": "2.0.0",
       "_view_name": "LayoutView",
       "align_content": null,
       "align_items": null,
       "align_self": null,
       "border_bottom": null,
       "border_left": null,
       "border_right": null,
       "border_top": null,
       "bottom": null,
       "display": null,
       "flex": null,
       "flex_flow": null,
       "grid_area": null,
       "grid_auto_columns": null,
       "grid_auto_flow": null,
       "grid_auto_rows": null,
       "grid_column": null,
       "grid_gap": null,
       "grid_row": null,
       "grid_template_areas": null,
       "grid_template_columns": null,
       "grid_template_rows": null,
       "height": null,
       "justify_content": null,
       "justify_items": null,
       "left": null,
       "margin": null,
       "max_height": null,
       "max_width": null,
       "min_height": null,
       "min_width": null,
       "object_fit": null,
       "object_position": null,
       "order": null,
       "overflow": null,
       "padding": null,
       "right": null,
       "top": null,
       "visibility": null,
       "width": null
      }
     },
     "672da30e841d4bd98ebedf8c1490221a": {
      "model_module": "@jupyter-widgets/base",
      "model_module_version": "2.0.0",
      "model_name": "LayoutModel",
      "state": {
       "_model_module": "@jupyter-widgets/base",
       "_model_module_version": "2.0.0",
       "_model_name": "LayoutModel",
       "_view_count": null,
       "_view_module": "@jupyter-widgets/base",
       "_view_module_version": "2.0.0",
       "_view_name": "LayoutView",
       "align_content": null,
       "align_items": null,
       "align_self": null,
       "border_bottom": null,
       "border_left": null,
       "border_right": null,
       "border_top": null,
       "bottom": null,
       "display": null,
       "flex": null,
       "flex_flow": null,
       "grid_area": null,
       "grid_auto_columns": null,
       "grid_auto_flow": null,
       "grid_auto_rows": null,
       "grid_column": null,
       "grid_gap": null,
       "grid_row": null,
       "grid_template_areas": null,
       "grid_template_columns": null,
       "grid_template_rows": null,
       "height": null,
       "justify_content": null,
       "justify_items": null,
       "left": null,
       "margin": null,
       "max_height": null,
       "max_width": null,
       "min_height": null,
       "min_width": null,
       "object_fit": null,
       "object_position": null,
       "order": null,
       "overflow": null,
       "padding": null,
       "right": null,
       "top": null,
       "visibility": null,
       "width": null
      }
     },
     "6d49d36b7bea497e9e94e961d97d2e93": {
      "model_module": "@jupyter-widgets/controls",
      "model_module_version": "2.0.0",
      "model_name": "HTMLModel",
      "state": {
       "_dom_classes": [],
       "_model_module": "@jupyter-widgets/controls",
       "_model_module_version": "2.0.0",
       "_model_name": "HTMLModel",
       "_view_count": null,
       "_view_module": "@jupyter-widgets/controls",
       "_view_module_version": "2.0.0",
       "_view_name": "HTMLView",
       "description": "",
       "description_allow_html": false,
       "layout": "IPY_MODEL_774e5cf05d814e4a8caea6636cc19df0",
       "placeholder": "​",
       "style": "IPY_MODEL_0d26d72bc4894c5eb8607c61175ab5c9",
       "tabbable": null,
       "tooltip": null,
       "value": " 8/8 [00:38&lt;00:00,  5.53s/it]"
      }
     },
     "774e5cf05d814e4a8caea6636cc19df0": {
      "model_module": "@jupyter-widgets/base",
      "model_module_version": "2.0.0",
      "model_name": "LayoutModel",
      "state": {
       "_model_module": "@jupyter-widgets/base",
       "_model_module_version": "2.0.0",
       "_model_name": "LayoutModel",
       "_view_count": null,
       "_view_module": "@jupyter-widgets/base",
       "_view_module_version": "2.0.0",
       "_view_name": "LayoutView",
       "align_content": null,
       "align_items": null,
       "align_self": null,
       "border_bottom": null,
       "border_left": null,
       "border_right": null,
       "border_top": null,
       "bottom": null,
       "display": null,
       "flex": null,
       "flex_flow": null,
       "grid_area": null,
       "grid_auto_columns": null,
       "grid_auto_flow": null,
       "grid_auto_rows": null,
       "grid_column": null,
       "grid_gap": null,
       "grid_row": null,
       "grid_template_areas": null,
       "grid_template_columns": null,
       "grid_template_rows": null,
       "height": null,
       "justify_content": null,
       "justify_items": null,
       "left": null,
       "margin": null,
       "max_height": null,
       "max_width": null,
       "min_height": null,
       "min_width": null,
       "object_fit": null,
       "object_position": null,
       "order": null,
       "overflow": null,
       "padding": null,
       "right": null,
       "top": null,
       "visibility": null,
       "width": null
      }
     },
     "b0b62b1d57944e6ea14f37dd93f1df5f": {
      "model_module": "@jupyter-widgets/controls",
      "model_module_version": "2.0.0",
      "model_name": "HBoxModel",
      "state": {
       "_dom_classes": [],
       "_model_module": "@jupyter-widgets/controls",
       "_model_module_version": "2.0.0",
       "_model_name": "HBoxModel",
       "_view_count": null,
       "_view_module": "@jupyter-widgets/controls",
       "_view_module_version": "2.0.0",
       "_view_name": "HBoxView",
       "box_style": "",
       "children": [
        "IPY_MODEL_c44a0a1426c24627b3f2cebd22fdc587",
        "IPY_MODEL_d158ad5341dc4a6ebd588b6522f0a780",
        "IPY_MODEL_6d49d36b7bea497e9e94e961d97d2e93"
       ],
       "layout": "IPY_MODEL_672da30e841d4bd98ebedf8c1490221a",
       "tabbable": null,
       "tooltip": null
      }
     },
     "b6cd3cf8c1d042eda5889a368bde8a8a": {
      "model_module": "@jupyter-widgets/controls",
      "model_module_version": "2.0.0",
      "model_name": "HTMLStyleModel",
      "state": {
       "_model_module": "@jupyter-widgets/controls",
       "_model_module_version": "2.0.0",
       "_model_name": "HTMLStyleModel",
       "_view_count": null,
       "_view_module": "@jupyter-widgets/base",
       "_view_module_version": "2.0.0",
       "_view_name": "StyleView",
       "background": null,
       "description_width": "",
       "font_size": null,
       "text_color": null
      }
     },
     "bceadf43f3fe437e91c27b7d74f0468b": {
      "model_module": "@jupyter-widgets/controls",
      "model_module_version": "2.0.0",
      "model_name": "ProgressStyleModel",
      "state": {
       "_model_module": "@jupyter-widgets/controls",
       "_model_module_version": "2.0.0",
       "_model_name": "ProgressStyleModel",
       "_view_count": null,
       "_view_module": "@jupyter-widgets/base",
       "_view_module_version": "2.0.0",
       "_view_name": "StyleView",
       "bar_color": null,
       "description_width": ""
      }
     },
     "c44a0a1426c24627b3f2cebd22fdc587": {
      "model_module": "@jupyter-widgets/controls",
      "model_module_version": "2.0.0",
      "model_name": "HTMLModel",
      "state": {
       "_dom_classes": [],
       "_model_module": "@jupyter-widgets/controls",
       "_model_module_version": "2.0.0",
       "_model_name": "HTMLModel",
       "_view_count": null,
       "_view_module": "@jupyter-widgets/controls",
       "_view_module_version": "2.0.0",
       "_view_name": "HTMLView",
       "description": "",
       "description_allow_html": false,
       "layout": "IPY_MODEL_57d28adce934468694c0dd3e61acc434",
       "placeholder": "​",
       "style": "IPY_MODEL_b6cd3cf8c1d042eda5889a368bde8a8a",
       "tabbable": null,
       "tooltip": null,
       "value": "100%"
      }
     },
     "d158ad5341dc4a6ebd588b6522f0a780": {
      "model_module": "@jupyter-widgets/controls",
      "model_module_version": "2.0.0",
      "model_name": "FloatProgressModel",
      "state": {
       "_dom_classes": [],
       "_model_module": "@jupyter-widgets/controls",
       "_model_module_version": "2.0.0",
       "_model_name": "FloatProgressModel",
       "_view_count": null,
       "_view_module": "@jupyter-widgets/controls",
       "_view_module_version": "2.0.0",
       "_view_name": "ProgressView",
       "bar_style": "success",
       "description": "",
       "description_allow_html": false,
       "layout": "IPY_MODEL_da36c62058d14918aba34c85fedf29d5",
       "max": 8.0,
       "min": 0.0,
       "orientation": "horizontal",
       "style": "IPY_MODEL_bceadf43f3fe437e91c27b7d74f0468b",
       "tabbable": null,
       "tooltip": null,
       "value": 8.0
      }
     },
     "da36c62058d14918aba34c85fedf29d5": {
      "model_module": "@jupyter-widgets/base",
      "model_module_version": "2.0.0",
      "model_name": "LayoutModel",
      "state": {
       "_model_module": "@jupyter-widgets/base",
       "_model_module_version": "2.0.0",
       "_model_name": "LayoutModel",
       "_view_count": null,
       "_view_module": "@jupyter-widgets/base",
       "_view_module_version": "2.0.0",
       "_view_name": "LayoutView",
       "align_content": null,
       "align_items": null,
       "align_self": null,
       "border_bottom": null,
       "border_left": null,
       "border_right": null,
       "border_top": null,
       "bottom": null,
       "display": null,
       "flex": null,
       "flex_flow": null,
       "grid_area": null,
       "grid_auto_columns": null,
       "grid_auto_flow": null,
       "grid_auto_rows": null,
       "grid_column": null,
       "grid_gap": null,
       "grid_row": null,
       "grid_template_areas": null,
       "grid_template_columns": null,
       "grid_template_rows": null,
       "height": null,
       "justify_content": null,
       "justify_items": null,
       "left": null,
       "margin": null,
       "max_height": null,
       "max_width": null,
       "min_height": null,
       "min_width": null,
       "object_fit": null,
       "object_position": null,
       "order": null,
       "overflow": null,
       "padding": null,
       "right": null,
       "top": null,
       "visibility": null,
       "width": null
      }
     }
    },
    "version_major": 2,
    "version_minor": 0
   }
  }
 },
 "nbformat": 4,
 "nbformat_minor": 5
}