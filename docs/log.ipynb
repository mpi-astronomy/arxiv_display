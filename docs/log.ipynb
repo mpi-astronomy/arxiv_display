{
 "cells": [
  {
   "cell_type": "markdown",
   "id": "92bcb855",
   "metadata": {
    "papermill": {
     "duration": 0.003761,
     "end_time": "2025-01-10T04:11:03.570477",
     "exception": false,
     "start_time": "2025-01-10T04:11:03.566716",
     "status": "completed"
    },
    "tags": []
   },
   "source": [
    "# MPIA Arxiv on Deck 2\n",
    "\n",
    "Contains the steps to produce the paper extractions."
   ]
  },
  {
   "cell_type": "code",
   "execution_count": 1,
   "id": "3a0d6e11",
   "metadata": {
    "execution": {
     "iopub.execute_input": "2025-01-10T04:11:03.577908Z",
     "iopub.status.busy": "2025-01-10T04:11:03.577496Z",
     "iopub.status.idle": "2025-01-10T04:11:03.994642Z",
     "shell.execute_reply": "2025-01-10T04:11:03.993900Z"
    },
    "papermill": {
     "duration": 0.422256,
     "end_time": "2025-01-10T04:11:03.996026",
     "exception": false,
     "start_time": "2025-01-10T04:11:03.573770",
     "status": "completed"
    },
    "tags": []
   },
   "outputs": [],
   "source": [
    "# Imports\n",
    "import os\n",
    "from IPython.display import Markdown, display\n",
    "from tqdm.notebook import tqdm\n",
    "import warnings\n",
    "from PIL import Image \n",
    "import re\n",
    "\n",
    "# requires arxiv_on_deck_2\n",
    "\n",
    "from arxiv_on_deck_2.arxiv2 import (get_new_papers, \n",
    "                                    get_paper_from_identifier,\n",
    "                                    retrieve_document_source, \n",
    "                                    get_markdown_badge)\n",
    "from arxiv_on_deck_2 import (latex,\n",
    "                             latex_bib,\n",
    "                             mpia,\n",
    "                             highlight_authors_in_list)\n",
    "\n",
    "# Sometimes images are really big\n",
    "Image.MAX_IMAGE_PIXELS = 1000000000 "
   ]
  },
  {
   "cell_type": "code",
   "execution_count": 2,
   "id": "22aa9d44",
   "metadata": {
    "execution": {
     "iopub.execute_input": "2025-01-10T04:11:04.003619Z",
     "iopub.status.busy": "2025-01-10T04:11:04.003071Z",
     "iopub.status.idle": "2025-01-10T04:11:04.011075Z",
     "shell.execute_reply": "2025-01-10T04:11:04.010529Z"
    },
    "papermill": {
     "duration": 0.012736,
     "end_time": "2025-01-10T04:11:04.012060",
     "exception": false,
     "start_time": "2025-01-10T04:11:03.999324",
     "status": "completed"
    },
    "tags": []
   },
   "outputs": [],
   "source": [
    "# Some useful definitions.\n",
    "\n",
    "class AffiliationWarning(UserWarning):\n",
    "    pass\n",
    "\n",
    "class AffiliationError(RuntimeError):\n",
    "    pass\n",
    "\n",
    "def validation(source: str):\n",
    "    \"\"\"Raises error paper during parsing of source file\n",
    "    \n",
    "    Allows checks before parsing TeX code.\n",
    "    \n",
    "    Raises AffiliationWarning\n",
    "    \"\"\"\n",
    "    check = mpia.affiliation_verifications(source, verbose=True)\n",
    "    if check is not True:\n",
    "        raise AffiliationError(\"mpia.affiliation_verifications: \" + check)\n",
    "\n",
    "        \n",
    "warnings.simplefilter('always', AffiliationWarning)\n",
    "\n",
    "\n",
    "def get_markdown_qrcode(paper_id: str):\n",
    "    \"\"\" Generate a qrcode to the arxiv page using qrserver.com\n",
    "    \n",
    "    :param paper: Arxiv paper\n",
    "    :returns: markdown text\n",
    "    \"\"\"\n",
    "    url = r\"https://api.qrserver.com/v1/create-qr-code/?size=100x100&data=\"\n",
    "    txt = f\"\"\"<img src={url}\"https://arxiv.org/abs/{paper_id}\">\"\"\"\n",
    "    txt = '<div id=\"qrcode\">' + txt + '</div>'\n",
    "    return txt\n",
    "\n",
    "\n",
    "def clean_non_western_encoded_characters_commands(text: str) -> str:\n",
    "    \"\"\" Remove non-western encoded characters from a string\n",
    "    List may need to grow.\n",
    "    \n",
    "    :param text: the text to clean\n",
    "    :return: the cleaned text\n",
    "    \"\"\"\n",
    "    text = re.sub(r\"(\\\\begin{CJK}{UTF8}{gbsn})(.*?)(\\\\end{CJK})\", r\"\\2\", text)\n",
    "    return text\n",
    "\n",
    "\n",
    "def get_initials(name: str) -> str:\n",
    "    \"\"\" Get the short name, e.g., A.-B. FamName\n",
    "    :param name: full name\n",
    "    :returns: initials\n",
    "    \"\"\"\n",
    "    initials = []\n",
    "    # account for non western names often in ()\n",
    "    if '(' in name:\n",
    "        name = clean_non_western_encoded_characters_commands(name)\n",
    "        suffix = re.findall(r\"\\((.*?)\\)\", name)[0]\n",
    "        name = name.replace(f\"({suffix})\", '')\n",
    "    else:\n",
    "        suffix = ''\n",
    "    split = name.split()\n",
    "    for token in split[:-1]:\n",
    "        if '-' in token:\n",
    "            current = '-'.join([k[0] + '.' for k in token.split('-')])\n",
    "        else:\n",
    "            current = token[0] + '.'\n",
    "        initials.append(current)\n",
    "    initials.append(split[-1].strip())\n",
    "    if suffix:\n",
    "        initials.append(f\"({suffix})\")\n",
    "    return ' '.join(initials)"
   ]
  },
  {
   "cell_type": "markdown",
   "id": "14bd6310",
   "metadata": {
    "papermill": {
     "duration": 0.002845,
     "end_time": "2025-01-10T04:11:04.017850",
     "exception": false,
     "start_time": "2025-01-10T04:11:04.015005",
     "status": "completed"
    },
    "tags": []
   },
   "source": [
    "## get list of arxiv paper candidates\n",
    "\n",
    "We use the MPIA mitarbeiter list webpage from mpia.de to get author names\n",
    "We then get all new papers from Arxiv and match authors"
   ]
  },
  {
   "cell_type": "code",
   "execution_count": 3,
   "id": "7ea813a8",
   "metadata": {
    "execution": {
     "iopub.execute_input": "2025-01-10T04:11:04.024605Z",
     "iopub.status.busy": "2025-01-10T04:11:04.024222Z",
     "iopub.status.idle": "2025-01-10T04:11:24.358405Z",
     "shell.execute_reply": "2025-01-10T04:11:24.357765Z"
    },
    "papermill": {
     "duration": 20.338848,
     "end_time": "2025-01-10T04:11:24.359552",
     "exception": false,
     "start_time": "2025-01-10T04:11:04.020704",
     "status": "completed"
    },
    "tags": []
   },
   "outputs": [],
   "source": [
    "# deal with the author list and edge cases of people that cannot be consistent on their name  \n",
    "\n",
    "def filter_non_scientists(name: str) -> bool:\n",
    "    \"\"\" Loose filter on expected authorships\n",
    "\n",
    "    removing IT, administration, technical staff\n",
    "    :param name: name\n",
    "    :returns: False if name is not a scientist\n",
    "    \"\"\"\n",
    "    remove_list = ['Licht', 'Binroth', 'Witzel', 'Jordan',\n",
    "                   'Zähringer', 'Scheerer', 'Hoffmann', 'Düe',\n",
    "                   'Hellmich', 'Enkler-Scharpegge', 'Witte-Nguy',\n",
    "                   'Dehen', 'Beckmann', 'Jager', 'Jäger'\n",
    "                  ]\n",
    "\n",
    "    for k in remove_list:\n",
    "        if k in name:\n",
    "            return False\n",
    "    return True\n",
    "\n",
    "def add_author_to_list(author_list: list) -> list:\n",
    "    \"\"\" Add author to list if not already in list\n",
    "    \n",
    "    :param author: author name\n",
    "    :param author_list: list of authors\n",
    "    :returns: updated list of authors\n",
    "    \"\"\"\n",
    "    add_list = ['T. Henning']\n",
    "\n",
    "    for author in add_list:\n",
    "        if author not in author_list:\n",
    "            author_list.append(author)\n",
    "    return author_list\n",
    "\n",
    "# get list from MPIA website\n",
    "# filter for non-scientists (mpia.get_mpia_mitarbeiter_list() does some filtering)\n",
    "mpia_authors = [k[1] for k in mpia.get_mpia_mitarbeiter_list() if filter_non_scientists(k[1])]\n",
    "# add some missing author because of inconsistencies in their MPIA name and author name on papers\n",
    "mpia_authors = add_author_to_list(mpia_authors)"
   ]
  },
  {
   "cell_type": "code",
   "execution_count": 4,
   "id": "2645e73a",
   "metadata": {
    "execution": {
     "iopub.execute_input": "2025-01-10T04:11:24.366814Z",
     "iopub.status.busy": "2025-01-10T04:11:24.366489Z",
     "iopub.status.idle": "2025-01-10T04:11:24.992867Z",
     "shell.execute_reply": "2025-01-10T04:11:24.992213Z"
    },
    "papermill": {
     "duration": 0.631004,
     "end_time": "2025-01-10T04:11:24.993829",
     "exception": false,
     "start_time": "2025-01-10T04:11:24.362825",
     "status": "completed"
    },
    "tags": []
   },
   "outputs": [
    {
     "name": "stdout",
     "output_type": "stream",
     "text": [
      "I. Momcheva  ->  I. Momcheva  |  ['I. Momcheva']\n",
      "X. Zhang  ->  X. Zhang  |  ['X. Zhang']\n",
      "K. Jahnke  ->  K. Jahnke  |  ['K. Jahnke']\n",
      "G. Chauvin  ->  G. Chauvin  |  ['G. Chauvin']\n",
      "Arxiv has 63 new papers today\n",
      "          4 with possible author matches\n"
     ]
    }
   ],
   "source": [
    "new_papers = get_new_papers()\n",
    "# add manual references\n",
    "add_paper_refs = []\n",
    "new_papers.extend([get_paper_from_identifier(k) for k in add_paper_refs])\n",
    "\n",
    "def robust_call(fn, value, *args, **kwargs):\n",
    "    try:\n",
    "        return fn(value, *args, **kwargs)\n",
    "    except Exception:\n",
    "        return value\n",
    "\n",
    "candidates = []\n",
    "for paperk in new_papers:\n",
    "    # Check author list with their initials\n",
    "    normed_author_list = [robust_call(mpia.get_initials, k) for k in paperk['authors']]\n",
    "    hl_authors = highlight_authors_in_list(normed_author_list, mpia_authors, verbose=True)\n",
    "    matches = [(hl, orig) for hl, orig in zip(hl_authors, paperk['authors']) if 'mark' in hl]\n",
    "    paperk['authors'] = hl_authors\n",
    "    if matches:\n",
    "        # only select paper if an author matched our list\n",
    "        candidates.append(paperk)\n",
    "print(\"\"\"Arxiv has {0:,d} new papers today\"\"\".format(len(new_papers)))        \n",
    "print(\"\"\"          {0:,d} with possible author matches\"\"\".format(len(candidates)))"
   ]
  },
  {
   "cell_type": "markdown",
   "id": "3543b34a",
   "metadata": {
    "papermill": {
     "duration": 0.003094,
     "end_time": "2025-01-10T04:11:25.000419",
     "exception": false,
     "start_time": "2025-01-10T04:11:24.997325",
     "status": "completed"
    },
    "tags": []
   },
   "source": [
    "# Parse sources and generate relevant outputs\n",
    "\n",
    "From the candidates, we do the following steps:\n",
    "* get their tarball from ArXiv (and extract data)\n",
    "* find the main .tex file: find one with \\documentclass{...} (sometimes it's non trivial)\n",
    "* Check affiliations with :func:`validation`, which uses :func:`mpia.affiliation_verifications`\n",
    "* If passing the affiliations: we parse the .tex source\n",
    "   * inject sub-documents into the main (flatten the main document)\n",
    "   * parse structure, extract information (title, abstract, authors, figures...)\n",
    "   * handles `\\graphicspath` if provided\n",
    "* Generate the .md document."
   ]
  },
  {
   "cell_type": "code",
   "execution_count": 5,
   "id": "9576b79e",
   "metadata": {
    "execution": {
     "iopub.execute_input": "2025-01-10T04:11:25.007484Z",
     "iopub.status.busy": "2025-01-10T04:11:25.007040Z",
     "iopub.status.idle": "2025-01-10T04:12:05.838908Z",
     "shell.execute_reply": "2025-01-10T04:12:05.838075Z"
    },
    "papermill": {
     "duration": 40.840453,
     "end_time": "2025-01-10T04:12:05.843836",
     "exception": false,
     "start_time": "2025-01-10T04:11:25.003383",
     "status": "completed"
    },
    "scrolled": false,
    "tags": []
   },
   "outputs": [
    {
     "data": {
      "application/vnd.jupyter.widget-view+json": {
       "model_id": "28c80c08ad6b4b249213d42f9fa1597b",
       "version_major": 2,
       "version_minor": 0
      },
      "text/plain": [
       "  0%|          | 0/4 [00:00<?, ?it/s]"
      ]
     },
     "metadata": {},
     "output_type": "display_data"
    },
    {
     "name": "stdout",
     "output_type": "stream",
     "text": [
      "Retrieving document from  https://arxiv.org/e-print/2501.04788\n"
     ]
    },
    {
     "name": "stdout",
     "output_type": "stream",
     "text": [
      "extracting tarball to tmp_2501.04788... done.\n"
     ]
    },
    {
     "name": "stderr",
     "output_type": "stream",
     "text": [
      "/opt/hostedtoolcache/Python/3.9.21/x64/lib/python3.9/site-packages/IPython/core/interactiveshell.py:3550: LatexWarning: Multiple tex files.\n",
      "\n",
      "  exec(code_obj, self.user_global_ns, self.user_ns)\n",
      "/opt/hostedtoolcache/Python/3.9.21/x64/lib/python3.9/site-packages/IPython/core/interactiveshell.py:3550: LatexWarning: Found documentclass in tmp_2501.04788/00main.tex\n",
      "\n",
      "  exec(code_obj, self.user_global_ns, self.user_ns)\n",
      "/opt/hostedtoolcache/Python/3.9.21/x64/lib/python3.9/site-packages/arxiv_on_deck_2/latex.py:414: LatexWarning: Latex injecting: '06appendix' from 'tmp_2501.04788/06appendix.tex'\n",
      "  warnings.warn(LatexWarning(f\"Latex injecting: '{ext}' from '{subsource}'\"))\n",
      "/opt/hostedtoolcache/Python/3.9.21/x64/lib/python3.9/site-packages/arxiv_on_deck_2/latex.py:414: LatexWarning: Latex injecting: '07Acknowledgements' from 'tmp_2501.04788/07Acknowledgements.tex'\n",
      "  warnings.warn(LatexWarning(f\"Latex injecting: '{ext}' from '{subsource}'\"))\n",
      "/opt/hostedtoolcache/Python/3.9.21/x64/lib/python3.9/site-packages/arxiv_on_deck_2/latex.py:414: LatexWarning: Latex injecting: '05summary' from 'tmp_2501.04788/05summary.tex'\n",
      "  warnings.warn(LatexWarning(f\"Latex injecting: '{ext}' from '{subsource}'\"))\n",
      "/opt/hostedtoolcache/Python/3.9.21/x64/lib/python3.9/site-packages/arxiv_on_deck_2/latex.py:414: LatexWarning: Latex injecting: '04discussion' from 'tmp_2501.04788/04discussion.tex'\n",
      "  warnings.warn(LatexWarning(f\"Latex injecting: '{ext}' from '{subsource}'\"))\n",
      "/opt/hostedtoolcache/Python/3.9.21/x64/lib/python3.9/site-packages/arxiv_on_deck_2/latex.py:414: LatexWarning: Latex injecting: '03results' from 'tmp_2501.04788/03results.tex'\n",
      "  warnings.warn(LatexWarning(f\"Latex injecting: '{ext}' from '{subsource}'\"))\n",
      "/opt/hostedtoolcache/Python/3.9.21/x64/lib/python3.9/site-packages/arxiv_on_deck_2/latex.py:414: LatexWarning: Latex injecting: '03methods' from 'tmp_2501.04788/03methods.tex'\n",
      "  warnings.warn(LatexWarning(f\"Latex injecting: '{ext}' from '{subsource}'\"))\n",
      "/opt/hostedtoolcache/Python/3.9.21/x64/lib/python3.9/site-packages/arxiv_on_deck_2/latex.py:414: LatexWarning: Latex injecting: '02data' from 'tmp_2501.04788/02data.tex'\n",
      "  warnings.warn(LatexWarning(f\"Latex injecting: '{ext}' from '{subsource}'\"))\n",
      "/opt/hostedtoolcache/Python/3.9.21/x64/lib/python3.9/site-packages/arxiv_on_deck_2/latex.py:414: LatexWarning: Latex injecting: '01introduction' from 'tmp_2501.04788/01introduction.tex'\n",
      "  warnings.warn(LatexWarning(f\"Latex injecting: '{ext}' from '{subsource}'\"))\n"
     ]
    },
    {
     "name": "stdout",
     "output_type": "stream",
     "text": [
      "I. Momcheva  ->  I. Momcheva  |  ['I. Momcheva']\n"
     ]
    },
    {
     "name": "stdout",
     "output_type": "stream",
     "text": [
      "Found 81 bibliographic references in tmp_2501.04788/00main.bbl.\n",
      "Issues with the citations\n",
      "syntax error in line 46: '=' expected\n",
      "Retrieving document from  https://arxiv.org/e-print/2501.04917\n"
     ]
    },
    {
     "name": "stdout",
     "output_type": "stream",
     "text": [
      "extracting tarball to tmp_2501.04917... done.\n",
      "Retrieving document from  https://arxiv.org/e-print/2501.05023\n"
     ]
    },
    {
     "name": "stdout",
     "output_type": "stream",
     "text": [
      "extracting tarball to tmp_2501.05023..."
     ]
    },
    {
     "name": "stdout",
     "output_type": "stream",
     "text": [
      " done.\n"
     ]
    },
    {
     "name": "stdout",
     "output_type": "stream",
     "text": [
      "Found 65 bibliographic references in tmp_2501.05023/main.bbl.\n",
      "Issues with the citations\n",
      "syntax error in line 95: '=' expected\n",
      "Retrieving document from  https://arxiv.org/e-print/2501.05114\n",
      "extracting tarball to tmp_2501.05114..."
     ]
    },
    {
     "name": "stdout",
     "output_type": "stream",
     "text": [
      " done.\n"
     ]
    },
    {
     "name": "stdout",
     "output_type": "stream",
     "text": [
      "Found 121 bibliographic references in tmp_2501.05114/paper.bbl.\n"
     ]
    }
   ],
   "source": [
    "documents = []\n",
    "failed = []\n",
    "for paper in tqdm(candidates):\n",
    "    # debug crap\n",
    "    paper['identifier'] = paper['identifier'].lower().replace('arxiv:', '').replace(r'\\n', '').strip()\n",
    "    paper_id = paper['identifier']\n",
    "    \n",
    "    folder = f'tmp_{paper_id}'\n",
    "\n",
    "    try:\n",
    "        if not os.path.isdir(folder):\n",
    "            folder = retrieve_document_source(f\"{paper_id}\", f'tmp_{paper_id}')\n",
    "        \n",
    "        try:\n",
    "            doc = latex.LatexDocument(folder, validation=validation)    \n",
    "        except AffiliationError as affilerror:\n",
    "            msg = f\"ArXiv:{paper_id:s} is not an MPIA paper... \" + str(affilerror)\n",
    "            failed.append((paper, \"affiliation error: \" + str(affilerror) ))\n",
    "            continue\n",
    "        \n",
    "        # Hack because sometimes author parsing does not work well\n",
    "        if (len(doc.authors) != len(paper['authors'])):\n",
    "            doc._authors = paper['authors']\n",
    "        else:\n",
    "            # highlight authors (FIXME: doc.highlight_authors)\n",
    "            # done on arxiv paper already\n",
    "            doc._authors = highlight_authors_in_list(\n",
    "                [get_initials(k) for k in doc.authors], \n",
    "                mpia_authors, verbose=True)\n",
    "        if (doc.abstract) in (None, ''):\n",
    "            doc._abstract = paper['abstract']\n",
    "            \n",
    "        doc.comment = (get_markdown_badge(paper_id) + \n",
    "                       \"<mark>Appeared on: \" + paper['date'] + \"</mark> - \")\n",
    "        if paper['comments']:\n",
    "            doc.comment += \" _\" + paper['comments'] + \"_\"\n",
    "        \n",
    "        full_md = doc.generate_markdown_text()\n",
    "        \n",
    "        full_md += get_markdown_qrcode(paper_id)\n",
    "        \n",
    "        # replace citations\n",
    "        try:\n",
    "            bibdata = latex_bib.LatexBib.from_doc(doc)\n",
    "            full_md = latex_bib.replace_citations(full_md, bibdata)\n",
    "        except Exception as e:\n",
    "            print(\"Issues with the citations\")\n",
    "            print(e)\n",
    "        \n",
    "        documents.append((paper_id, full_md))\n",
    "    except Exception as e:\n",
    "        warnings.warn(latex.LatexWarning(f\"{paper_id:s} did not run properly\\n\" +\n",
    "                                         str(e)\n",
    "                                        ))\n",
    "        failed.append((paper, \"latex error \" + str(e)))"
   ]
  },
  {
   "cell_type": "markdown",
   "id": "2505a25c",
   "metadata": {
    "papermill": {
     "duration": 0.003669,
     "end_time": "2025-01-10T04:12:05.851343",
     "exception": false,
     "start_time": "2025-01-10T04:12:05.847674",
     "status": "completed"
    },
    "tags": []
   },
   "source": [
    "### Export the logs\n",
    "\n",
    "Throughout, we also keep track of the logs per paper. see `logs-{today date}.md` "
   ]
  },
  {
   "cell_type": "code",
   "execution_count": 6,
   "id": "d733828a",
   "metadata": {
    "execution": {
     "iopub.execute_input": "2025-01-10T04:12:05.859755Z",
     "iopub.status.busy": "2025-01-10T04:12:05.859445Z",
     "iopub.status.idle": "2025-01-10T04:12:05.874687Z",
     "shell.execute_reply": "2025-01-10T04:12:05.874135Z"
    },
    "papermill": {
     "duration": 0.020591,
     "end_time": "2025-01-10T04:12:05.875615",
     "exception": false,
     "start_time": "2025-01-10T04:12:05.855024",
     "status": "completed"
    },
    "scrolled": false,
    "tags": []
   },
   "outputs": [
    {
     "data": {
      "text/markdown": [
       "## Successful papers"
      ],
      "text/plain": [
       "<IPython.core.display.Markdown object>"
      ]
     },
     "metadata": {},
     "output_type": "display_data"
    },
    {
     "data": {
      "text/markdown": [
       "\n",
       "|||\n",
       "|---:|:---|\n",
       "| [![arXiv](https://img.shields.io/badge/arXiv-2501.04788-b31b1b.svg)](https://arxiv.org/abs/2501.04788) | **The Evolution of Half-Mass Radii and Color Gradients for Young and Old Quiescent Galaxies at $0.5 < z < 3$ with JWST/PRIMER**  |\n",
       "|| M. Clausen, et al. -- incl., <mark>I. Momcheva</mark> |\n",
       "|*Appeared on*| *2025-01-10*|\n",
       "|*Comments*| *15 pages, 9 Figures*|\n",
       "|**Abstract**|            We present a study of the size growth of the red sequence between $0.5<z<3,$ tracing the evolution of quiescent galaxies in both effective half-light and half-mass radii using multi-wavelength JWST/NIRCam imaging provided by the PRIMER survey. Half-light radii are measured from imaging in 6 different filters for 455 quiescent galaxies with log($M_*/M_{\\odot}$)$>10$, whereas half-mass radii are derived from the F444W profiles together with the F277W-F444W color-$M_*$/L relation. We investigate the dependence of the ratio $r_{e, \\mathrm{mass}}/r_{e, \\mathrm{light}}$ on redshift, stellar mass, and the wavelength used to measure $r_{e, \\mathrm{light}}$, also separating the sample into younger and older quiescent galaxies. Our data demonstrate that rest-frame infrared sizes accurately trace mass-weighted sizes while sizes measured at rest-frame optical wavelengths (0.5-0.7$\\mu$m) are 0.1-0.2 dex larger, with only minor variations in redshift. We find that the average size of young quiescent galaxies agrees with that of old quiescent galaxies at intermediate masses, $10<$log($M_*/M_{\\odot}$)$<11$, within their respective uncertainties in all observed-frame half-light, rest-frame half-light and half-mass radius measurements. At face value, our results point to a combination of progenitor bias and minor mergers driving the size growth of intermediate-mass quiescent galaxies at $0.5<z<3$. Our results further indicate that the varying contributions to the general quiescent population by young and old quiescent galaxies can mimic evolution in redshift.         |"
      ],
      "text/plain": [
       "[2501.04788] The Evolution of Half-Mass Radii and Color Gradients for Young and Old Quiescent Galaxies at $0.5 < z < 3$ with JWST/PRIMER\n",
       "\tM. Clausen, et al. -- incl., <mark>I. Momcheva</mark>"
      ]
     },
     "metadata": {},
     "output_type": "display_data"
    },
    {
     "data": {
      "text/markdown": [
       "\n",
       "|||\n",
       "|---:|:---|\n",
       "| [![arXiv](https://img.shields.io/badge/arXiv-2501.05023-b31b1b.svg)](https://arxiv.org/abs/2501.05023) | **Euclid: Detecting Solar System objects in Euclid images and classifying them using Kohonen self-organising maps**  |\n",
       "|| A. A. Nucita, et al. -- incl., <mark>K. Jahnke</mark> |\n",
       "|*Appeared on*| *2025-01-10*|\n",
       "|*Comments*| *Accepted for publication on Astronomy and Astrophysics. 15 Pages, 11 Figures*|\n",
       "|**Abstract**|            The ESA Euclid mission will survey more than 14,000 deg$^2$ of the sky in visible and near-infrared wavelengths, mapping the extra-galactic sky to constrain our cosmological model of the Universe. Although the survey focusses on regions further than 15 deg from the ecliptic, it should allow for the detection of more than about $10^5$ Solar System objects (SSOs). After simulating the expected signal from SSOs in Euclid images acquired with the visible camera (VIS), we describe an automated pipeline developed to detect moving objects with an apparent velocity in the range of 0.1-10 arcsec/h, typically corresponding to sources in the outer Solar System (from Centaurs to Kuiper-belt objects). In particular, the proposed detection scheme is based on Sourcextractor software and on applying a new algorithm capable of associating moving objects amongst different catalogues. After applying a suite of filters to improve the detection quality, we study the expected purity and completeness of the SSO detections. We also show how a Kohonen self-organising neural network can be successfully trained (in an unsupervised fashion) to classify stars, galaxies, and SSOs. By implementing an early-stopping method in the training scheme, we show that the network can be used in a predictive way, allowing one to assign the probability of each detected object being a member of each considered class.         |"
      ],
      "text/plain": [
       "[2501.05023] Euclid: Detecting Solar System objects in Euclid images and classifying them using Kohonen self-organising maps\n",
       "\tA. A. Nucita, et al. -- incl., <mark>K. Jahnke</mark>"
      ]
     },
     "metadata": {},
     "output_type": "display_data"
    },
    {
     "data": {
      "text/markdown": [
       "\n",
       "|||\n",
       "|---:|:---|\n",
       "| [![arXiv](https://img.shields.io/badge/arXiv-2501.05114-b31b1b.svg)](https://arxiv.org/abs/2501.05114) | **The ESO SupJup Survey V: Exploring Atmospheric Variability and Orbit of the Super-Jupiter AB Pictoris b with CRIRES+**  |\n",
       "|| S. Gandhi, et al. -- incl., <mark>G. Chauvin</mark> |\n",
       "|*Appeared on*| *2025-01-10*|\n",
       "|*Comments*| *22 pages, 17 figures, 4 tables, accepted for publication in MNRAS*|\n",
       "|**Abstract**|            A growing number of directly-imaged companions have been recently characterised, with robust constraints on carbon-to-oxygen ratios and even isotopic ratios. Many companions and isolated targets have also shown spectral variability. In this work we observed the super-Jupiter AB~Pictoris~b across four consecutive nights using VLT/CRIRES+ as part of the ESO SupJup survey, exploring how the constraints on chemical composition and temperature profile change over time using spectral line shape variations between nights. We performed atmospheric retrievals of the high-resolution observations and found broadly consistent results across all four nights, but there were differences for some parameters. We clearly detect H$_2$O, $^{12}$CO and $^{13}$CO in each night, but abundances varied by $\\sim2\\sigma$, which was correlated to the deep atmosphere temperature profiles. We also found differences in the $^{12}$C$/^{13}$C ratios in each night by up to $\\sim3\\sigma$, which seemed to be correlated with the cloud deck pressure. Our combined retrieval simultaneously analysing all nights together constrained broadly the average of each night individually, with the C/O$=0.59\\pm0.01$, consistent with solar composition, and $^{12}$C$/^{13}$C~$ = 102\\pm8$, slightly higher than the ISM and Solar System values. We also find a low projected rotational velocity, suggesting that AB~Pictoris~b is either intrinsically a slow rotator due to its young age or that the spin axis is observed pole-on with a $\\sim90^\\circ$ misalignment with its orbit inclination. Future observations will be able to further explore the variability and orbit of AB~Pictoris~b as well as for other companions.         |"
      ],
      "text/plain": [
       "[2501.05114] The ESO SupJup Survey V: Exploring Atmospheric Variability and Orbit of the Super-Jupiter AB Pictoris b with CRIRES+\n",
       "\tS. Gandhi, et al. -- incl., <mark>G. Chauvin</mark>"
      ]
     },
     "metadata": {},
     "output_type": "display_data"
    },
    {
     "data": {
      "text/markdown": [
       "## Failed papers"
      ],
      "text/plain": [
       "<IPython.core.display.Markdown object>"
      ]
     },
     "metadata": {},
     "output_type": "display_data"
    },
    {
     "data": {
      "text/markdown": [
       "\n",
       "|||\n",
       "|---:|:---|\n",
       "| [![arXiv](https://img.shields.io/badge/arXiv-2501.04917-b31b1b.svg)](https://arxiv.org/abs/2501.04917) | **Peculiar radio-bright behaviour of the Galactic black hole transient 4U 1543-47 in the 2021-2023 outburst**  |\n",
       "|| <mark>X. Zhang</mark>, et al. |\n",
       "|*Appeared on*| *2025-01-10*|\n",
       "|*Comments*| *13 pages, 2 figures, accepted for publication in MNRAS Letters*|\n",
       "|**Abstract**|            Correlated behaviours between the radio emission and the X-ray emission in Galactic black hole X-ray binaries (BH XRBs) in the X-ray hard state are crucial to the understanding of disc-jet coupling of accreting black holes. The BH transient 4U 1543-47 went into outburst in 2021 following ~19 years of quiescence. We followed it up with ~weekly cadence with MeerKAT for about one year and a half until it faded into quiescence. Multi-epoch quasi-simultaneous MeerKAT and X-ray observations allowed us to trace the compact jet emission and its X-ray emission. In its hard spectral state across three orders of magnitude of X-ray luminosities above ~10$^{34}$ ergs/s, we found the correlation between radio and X-ray emission had a power-law index of 0.82$\\pm$0.09, steeper than the canonical value of ~0.6 for BH XRBs. In addition, the radio vs. X-ray correlation shows a large range of the power-law normalization, with the maximum significantly larger than that obtained for most BH XRBs, indicating it can be particularly radio-bright and variable in the X-ray binary sample. The radio emission is unlikely diluted by discrete jet components. The observed peculiar radio-bright and variable behaviours provide the evidence for the relativistic effects of a variable Lorentz factor in the range between 1 and ~2 of the compact jet.         |\n",
       "|<p style=\"color:green\"> **ERROR** </p>| <p style=\"color:green\">affiliation error: mpia.affiliation_verifications: 'Heidelberg' keyword not found.</p> |"
      ],
      "text/plain": [
       "<IPython.core.display.Markdown object>"
      ]
     },
     "metadata": {},
     "output_type": "display_data"
    }
   ],
   "source": [
    "import datetime\n",
    "today = str(datetime.date.today())\n",
    "logfile = f\"_build/html/logs/log-{today}.md\"\n",
    "\n",
    "\n",
    "with open(logfile, 'w') as logs:\n",
    "    # Success\n",
    "    logs.write(f'# Arxiv on Deck 2: Logs - {today}\\n\\n')\n",
    "    logs.write(\"\"\"* Arxiv had {0:,d} new papers\\n\"\"\".format(len(new_papers)))\n",
    "    logs.write(\"\"\"    * {0:,d} with possible author matches\\n\\n\"\"\".format(len(candidates)))\n",
    "    logs.write(\"## Sucessful papers\\n\\n\")\n",
    "    display(Markdown(\"## Successful papers\"))\n",
    "    success = [k[0] for k in documents]\n",
    "    for candid in candidates:\n",
    "        if candid['identifier'].split(':')[-1] in success:\n",
    "            display(candid)\n",
    "            logs.write(candid.generate_markdown_text() + '\\n\\n')\n",
    "\n",
    "    ## failed\n",
    "    logs.write(\"## Failed papers\\n\\n\")\n",
    "    display(Markdown(\"## Failed papers\"))\n",
    "    failed = sorted(failed, key=lambda x: x[1])\n",
    "    current_reason = \"\"\n",
    "    for paper, reason in failed:\n",
    "        if 'affiliation' in reason:\n",
    "            color = 'green'\n",
    "        else:\n",
    "            color = 'red'\n",
    "        data = Markdown(\n",
    "                paper.generate_markdown_text() + \n",
    "                f'\\n|<p style=\"color:{color:s}\"> **ERROR** </p>| <p style=\"color:{color:s}\">{reason:s}</p> |'\n",
    "               )\n",
    "        if reason != current_reason:\n",
    "            logs.write(f'### {reason:s} \\n\\n')\n",
    "            current_reason = reason\n",
    "        logs.write(data.data + '\\n\\n')\n",
    "        \n",
    "        # only display here the important errors (all in logs)\n",
    "        # if color in ('red',):\n",
    "        display(data)"
   ]
  },
  {
   "cell_type": "markdown",
   "id": "472d20ee",
   "metadata": {
    "papermill": {
     "duration": 0.004185,
     "end_time": "2025-01-10T04:12:05.884093",
     "exception": false,
     "start_time": "2025-01-10T04:12:05.879908",
     "status": "completed"
    },
    "tags": []
   },
   "source": [
    "## Export documents\n",
    "\n",
    "We now write the .md files and export relevant images"
   ]
  },
  {
   "cell_type": "code",
   "execution_count": 7,
   "id": "d426aed9",
   "metadata": {
    "execution": {
     "iopub.execute_input": "2025-01-10T04:12:05.893644Z",
     "iopub.status.busy": "2025-01-10T04:12:05.893157Z",
     "iopub.status.idle": "2025-01-10T04:12:05.900057Z",
     "shell.execute_reply": "2025-01-10T04:12:05.899536Z"
    },
    "papermill": {
     "duration": 0.012744,
     "end_time": "2025-01-10T04:12:05.901020",
     "exception": false,
     "start_time": "2025-01-10T04:12:05.888276",
     "status": "completed"
    },
    "tags": []
   },
   "outputs": [],
   "source": [
    "def export_markdown_summary(md: str, md_fname:str, directory: str):\n",
    "    \"\"\"Export MD document and associated relevant images\"\"\"\n",
    "    import os\n",
    "    import shutil\n",
    "    import re\n",
    "\n",
    "    if (os.path.exists(directory) and not os.path.isdir(directory)):\n",
    "        raise RuntimeError(f\"a non-directory file exists with name {directory:s}\")\n",
    "\n",
    "    if (not os.path.exists(directory)):\n",
    "        print(f\"creating directory {directory:s}\")\n",
    "        os.mkdir(directory)\n",
    "\n",
    "    fig_fnames = (re.compile(r'\\[Fig.*\\]\\((.*)\\)').findall(md) + \n",
    "                  re.compile(r'\\<img src=\"([^>\\s]*)\"[^>]*/>').findall(md))\n",
    "    print(\"found figures\", fig_fnames)\n",
    "    for fname in fig_fnames:\n",
    "        if 'http' in fname:\n",
    "            # No need to copy online figures\n",
    "            continue\n",
    "        if not os.path.exists(fname):\n",
    "            print(\"file not found\", fname)\n",
    "            continue\n",
    "        print(\"copying \", fname, \"to\", directory)\n",
    "        destdir = os.path.join(directory, os.path.dirname(fname))\n",
    "        destfname = os.path.join(destdir, os.path.basename(fname))\n",
    "        try:\n",
    "            os.makedirs(destdir)\n",
    "        except FileExistsError:\n",
    "            pass\n",
    "        shutil.copy(fname, destfname)\n",
    "    with open(os.path.join(directory, md_fname), 'w') as fout:\n",
    "        fout.write(md)\n",
    "    print(\"exported in \", os.path.join(directory, md_fname))\n",
    "    [print(\"    + \" + os.path.join(directory,fk)) for fk in fig_fnames]"
   ]
  },
  {
   "cell_type": "code",
   "execution_count": 8,
   "id": "014d04a4",
   "metadata": {
    "execution": {
     "iopub.execute_input": "2025-01-10T04:12:05.910613Z",
     "iopub.status.busy": "2025-01-10T04:12:05.910124Z",
     "iopub.status.idle": "2025-01-10T04:12:05.917604Z",
     "shell.execute_reply": "2025-01-10T04:12:05.916966Z"
    },
    "papermill": {
     "duration": 0.013368,
     "end_time": "2025-01-10T04:12:05.918715",
     "exception": false,
     "start_time": "2025-01-10T04:12:05.905347",
     "status": "completed"
    },
    "tags": []
   },
   "outputs": [
    {
     "name": "stdout",
     "output_type": "stream",
     "text": [
      "found figures ['tmp_2501.04788/./110_half_mass.jpeg', 'tmp_2501.04788/./Selections.jpeg', 'tmp_2501.04788/./color_ML_relations_277_444_detailed.jpeg']\n",
      "copying  tmp_2501.04788/./110_half_mass.jpeg to _build/html/\n",
      "copying  tmp_2501.04788/./Selections.jpeg to _build/html/\n",
      "copying  tmp_2501.04788/./color_ML_relations_277_444_detailed.jpeg to _build/html/\n",
      "exported in  _build/html/2501.04788.md\n",
      "    + _build/html/tmp_2501.04788/./110_half_mass.jpeg\n",
      "    + _build/html/tmp_2501.04788/./Selections.jpeg\n",
      "    + _build/html/tmp_2501.04788/./color_ML_relations_277_444_detailed.jpeg\n",
      "found figures ['tmp_2501.05023/./SSO_prob_map.png', 'tmp_2501.05023/./Figure_2_referee.png', 'tmp_2501.05023/./Figure_4_SOM_TRAINED_ondata.png']\n",
      "copying  tmp_2501.05023/./SSO_prob_map.png to _build/html/\n",
      "copying  tmp_2501.05023/./Figure_2_referee.png to _build/html/\n",
      "copying  tmp_2501.05023/./Figure_4_SOM_TRAINED_ondata.png to _build/html/\n",
      "exported in  _build/html/2501.05023.md\n",
      "    + _build/html/tmp_2501.05023/./SSO_prob_map.png\n",
      "    + _build/html/tmp_2501.05023/./Figure_2_referee.png\n",
      "    + _build/html/tmp_2501.05023/./Figure_4_SOM_TRAINED_ondata.png\n",
      "found figures ['tmp_2501.05114/./CCF_med_subtracted.png', 'tmp_2501.05114/./combined_nights.png', 'tmp_2501.05114/./obliquity.png']\n",
      "copying  tmp_2501.05114/./CCF_med_subtracted.png to _build/html/\n",
      "copying  tmp_2501.05114/./combined_nights.png to _build/html/\n",
      "copying  tmp_2501.05114/./obliquity.png to _build/html/\n",
      "exported in  _build/html/2501.05114.md\n",
      "    + _build/html/tmp_2501.05114/./CCF_med_subtracted.png\n",
      "    + _build/html/tmp_2501.05114/./combined_nights.png\n",
      "    + _build/html/tmp_2501.05114/./obliquity.png\n"
     ]
    }
   ],
   "source": [
    "for paper_id, md in documents:\n",
    "    export_markdown_summary(md, f\"{paper_id:s}.md\", '_build/html/')"
   ]
  },
  {
   "cell_type": "markdown",
   "id": "f087a0a7",
   "metadata": {
    "papermill": {
     "duration": 0.004361,
     "end_time": "2025-01-10T04:12:05.927500",
     "exception": false,
     "start_time": "2025-01-10T04:12:05.923139",
     "status": "completed"
    },
    "tags": []
   },
   "source": [
    "## Display the papers\n",
    "\n",
    "Not necessary but allows for a quick check."
   ]
  },
  {
   "cell_type": "code",
   "execution_count": 9,
   "id": "fd25f625",
   "metadata": {
    "execution": {
     "iopub.execute_input": "2025-01-10T04:12:05.937147Z",
     "iopub.status.busy": "2025-01-10T04:12:05.936756Z",
     "iopub.status.idle": "2025-01-10T04:12:05.943784Z",
     "shell.execute_reply": "2025-01-10T04:12:05.943281Z"
    },
    "papermill": {
     "duration": 0.012931,
     "end_time": "2025-01-10T04:12:05.944776",
     "exception": false,
     "start_time": "2025-01-10T04:12:05.931845",
     "status": "completed"
    },
    "scrolled": false,
    "tags": []
   },
   "outputs": [
    {
     "data": {
      "text/markdown": [
       "<div class=\"macros\" style=\"visibility:hidden;\">\n",
       "$\\newcommand{\\ensuremath}{}$\n",
       "$\\newcommand{\\xspace}{}$\n",
       "$\\newcommand{\\object}[1]{\\texttt{#1}}$\n",
       "$\\newcommand{\\farcs}{{.}''}$\n",
       "$\\newcommand{\\farcm}{{.}'}$\n",
       "$\\newcommand{\\arcsec}{''}$\n",
       "$\\newcommand{\\arcmin}{'}$\n",
       "$\\newcommand{\\ion}[2]{#1#2}$\n",
       "$\\newcommand{\\textsc}[1]{\\textrm{#1}}$\n",
       "$\\newcommand{\\hl}[1]{\\textrm{#1}}$\n",
       "$\\newcommand{\\footnote}[1]{}$\n",
       "$\\newcommand{\\vdag}{(v)^\\dagger}$\n",
       "$\\newcommand$\n",
       "$\\newcommand$</div>\n",
       "\n",
       "\n",
       "\n",
       "<div id=\"title\">\n",
       "\n",
       "# The Evolution of Half-Mass Radii and Color Gradients for Young and Old Quiescent Galaxies at $0.5 < z < 3$ with JWST/PRIMER\n",
       "\n",
       "</div>\n",
       "<div id=\"comments\">\n",
       "\n",
       "[![arXiv](https://img.shields.io/badge/arXiv-2501.04788-b31b1b.svg)](https://arxiv.org/abs/2501.04788)<mark>Appeared on: 2025-01-10</mark> -  _15 pages, 9 Figures_\n",
       "\n",
       "</div>\n",
       "<div id=\"authors\">\n",
       "\n",
       "M. Clausen, et al. -- incl., <mark>I. Momcheva</mark>\n",
       "\n",
       "</div>\n",
       "<div id=\"abstract\">\n",
       "\n",
       "**Abstract:** We present a study of the size growth of the red sequence between $0.5<z<3,$ tracing the evolution of quiescent galaxies in both effective half-light and half-mass radii using multi-wavelength JWST/NIRCam imaging provided by the PRIMER survey.Half-light radii are measured from imaging in 6 different filters for 455 quiescent galaxies with log( $M_*/M_{\\odot}$ ) $>10$ , whereas half-mass radii are derived from the F444W profiles together with the F277W-F444W color- $M_*$ /L relation.We investigate the dependence of the ratio $r_{e, \\mathrm{mass}}/r_{e, \\mathrm{light}}$ on redshift, stellar mass, and the wavelength used to measure $r_{e, \\mathrm{light}}$ , also separating the sample into younger and older quiescent galaxies.Our data demonstrate that rest-frame infrared sizes accurately trace mass-weighted sizes while sizes measured at rest-frame optical wavelengths (0.5-0.7 $\\mu$ m) are 0.1-0.2 dex larger, with only minor variations in redshift.We find that the average size of young quiescent galaxies agrees with that of old quiescent galaxies at intermediate masses, $10<$ log( $M_*/M_{\\odot}$ ) $<11$ , within their respective uncertainties in all observed-frame half-light, rest-frame half-light and half-mass radius measurements.At face value, our results point to a combination of progenitor bias and minor mergers driving the size growth of intermediate-mass quiescent galaxies at $0.5<z<3$ .Our results further indicate that the varying contributions to the general quiescent population by young and old quiescent galaxies can mimic evolution in redshift.\n",
       "\n",
       "</div>\n",
       "\n",
       "<div id=\"div_fig1\">\n",
       "\n",
       "<img src=\"tmp_2501.04788/./110_half_mass.jpeg\" alt=\"Fig4\" width=\"100%\"/>\n",
       "\n",
       "**Figure 4. -** Methodology of deriving effective half-mass radiiMethodology of deriving half-mass radii. **Panels (A) and (B):** Measured SBP (black), convolved model from \\texttt{GALFIT}(orange) and deconvolved model (dark blue) in two photometric bands (F227W and F444W, respectively). The residual between the flux from the original cutout and the convolved model is added to the deconvolved model (bright blue). This is considered the total flux. The lower panels display in red the magnitude of the residual correction to be small compared to the total flux. **Panel (C):** Radial color profile derived from the total flux in F277W (A) and F444W (B). **Panel (D):** Derived radial $M_*$ / $L_{444}$ profile using the color-$M_*$ / $L_{444}$ relation derived in Subsection \\ref{subsec:derive_ML}. **Panel (E):** Radial luminosity profile derived from the total flux measured in F444W. **Panel (F):** Radial mass profile derived from multiplying the radial $M_*$ / $L_{444}$ profile (D) with the luminosity profile (E). **Panel (G):** Curve of growth for mass (bright green) and total flux in F444W  (dark green) with half-light and half-mass radii (dashed lines). The uncertainties of the half-mass radii are determined with Monte-Carlo simulations. (*fig:half_mass_method*)\n",
       "\n",
       "</div>\n",
       "<div id=\"div_fig2\">\n",
       "\n",
       "<img src=\"tmp_2501.04788/./Selections.jpeg\" alt=\"Fig3\" width=\"100%\"/>\n",
       "\n",
       "**Figure 3. -** Evolution of mass of quiescent galaxies in the PRIMER survey**Left panel :** Star-forming (gray), old quiescent (red), and young quiescent (blue) galaxies in PRIMER. Since the most massive galaxies drive the rest-frame optical size difference, we select only galaxies that have masses higher than log$M_* > 10M_{\\odot}$(black dashed line). **Right panel:** Selection of quiescent galaxies (only massive log$M_* > 10M_{\\odot}$ sample depicted) within (V-J)-(U-V) space (black line). The dotted line divides the sample into recently quenched (blue) and older (red) quiescent galaxies. (*fig:sample_half_mass*)\n",
       "\n",
       "</div>\n",
       "<div id=\"div_fig3\">\n",
       "\n",
       "<img src=\"tmp_2501.04788/./color_ML_relations_277_444_detailed.jpeg\" alt=\"Fig5\" width=\"100%\"/>\n",
       "\n",
       "**Figure 5. -** $M_*$ / $L_{444}$ dependence on redshift. Data points are color-coded by the classification of a galaxy as young quiescent (blue) or old quiescent (red). The fit parameters for each redshift bin are listed in Table \\ref{tab:color_ML_fit}. (*fig:color_ML_277_444*)\n",
       "\n",
       "</div><div id=\"qrcode\"><img src=https://api.qrserver.com/v1/create-qr-code/?size=100x100&data=\"https://arxiv.org/abs/2501.04788\"></div>"
      ],
      "text/plain": [
       "<IPython.core.display.Markdown object>"
      ]
     },
     "metadata": {},
     "output_type": "display_data"
    },
    {
     "data": {
      "text/markdown": [
       "<div class=\"macros\" style=\"visibility:hidden;\">\n",
       "$\\newcommand{\\ensuremath}{}$\n",
       "$\\newcommand{\\xspace}{}$\n",
       "$\\newcommand{\\object}[1]{\\texttt{#1}}$\n",
       "$\\newcommand{\\farcs}{{.}''}$\n",
       "$\\newcommand{\\farcm}{{.}'}$\n",
       "$\\newcommand{\\arcsec}{''}$\n",
       "$\\newcommand{\\arcmin}{'}$\n",
       "$\\newcommand{\\ion}[2]{#1#2}$\n",
       "$\\newcommand{\\textsc}[1]{\\textrm{#1}}$\n",
       "$\\newcommand{\\hl}[1]{\\textrm{#1}}$\n",
       "$\\newcommand{\\footnote}[1]{}$\n",
       "$\\newcommand{\\new}[1]{\\textcolor{red}{#1}}$\n",
       "$\\newcommand{\\newb}[1]{\\textcolor{Cerulean}{#1}}$\n",
       "$\\newcommand{\\orcid}[1]$\n",
       "$\\newcommand{\\euc}{\\textit{Euclid}\\xspace}$\n",
       "$\\newcommand{\\elvis}{\\texttt{ELViS}\\xspace}$\n",
       "$\\newcommand{\\sext}{\\texttt{SExtractor}\\xspace}$\n",
       "$\\newcommand{\\casu}{\\texttt{CASUTools}\\xspace}$\n",
       "$\\newcommand{\\wcsfit}{\\texttt{WCSFit}\\xspace}$\n",
       "$\\newcommand{\\imcore}{\\texttt{Imcore}\\xspace}$\n",
       "$\\newcommand{\\ssofinder}{\\texttt{SSOFinder}\\xspace}$\n",
       "$\\newcommand{\\streakdet}{\\texttt{StreakDet}\\xspace}$\n",
       "$\\newcommand{\\pivot}{\\textit{PIVOT}\\xspace}$\n",
       "$\\newcommand{\\tbd}[1]{\\textcolor{red}{[#1]}}$\n",
       "$\\newcommand{\\combc}[1]{\\textcolor{orange}{[#1]}}$\n",
       "$\\newcommand{◦}{\\ensuremath{^\\circ}\\xspace}$\n",
       "$\\newcommand{\\arcsec}{\\ensuremath{^{\\prime\\prime}}\\xspace}$</div>\n",
       "\n",
       "\n",
       "\n",
       "<div id=\"title\">\n",
       "\n",
       "# $\\Euclid$: Detecting Solar System objects in $\\Euclid$ images and classifying them  using Kohonen self-organising maps$\\thanks{This paper is published on behalf of the Euclid Consortium.}$\n",
       "\n",
       "</div>\n",
       "<div id=\"comments\">\n",
       "\n",
       "[![arXiv](https://img.shields.io/badge/arXiv-2501.05023-b31b1b.svg)](https://arxiv.org/abs/2501.05023)<mark>Appeared on: 2025-01-10</mark> -  _Accepted for publication on Astronomy and Astrophysics. 15 Pages, 11 Figures_\n",
       "\n",
       "</div>\n",
       "<div id=\"authors\">\n",
       "\n",
       "A. A. Nucita, et al. -- incl., <mark>K. Jahnke</mark>\n",
       "\n",
       "</div>\n",
       "<div id=\"abstract\">\n",
       "\n",
       "**Abstract:** The ESA $\\Euclid$ mission will survey more than 14 000 deg $^2$ of the sky in visible and near-infrared wavelengths, mapping the extra-galactic sky to constrain our cosmological model of the Universe. Although the survey focusses on regions further than 15◦ from the ecliptic, it should allow for the detection of more than about $10^5$ Solar System objects (SSOs). After simulating the expected signal from SSOs in $\\Euclid$ images acquired with the visible camera (VIS), we describe an automated pipeline developed to detect moving objects with an apparent velocity in the range of $0.1$ -- $10\\arcsec{\\rm h}^{-1}$ , typically corresponding to sources in the outer Solar System (from Centaurs to Kuiper-belt objects). In particular, the proposed detection scheme is based on $\\sext$ software and on applying a new algorithm capable of associating moving objects amongst different catalogues. After applying a suite of filters to improve the detection quality, we study the expected purity and completeness of the SSO detections. We also show how a Kohonen self-organising neural network can be successfully trained (in an unsupervised fashion) to classify stars, galaxies, and SSOs. By implementing an early-stopping method in the training scheme, we show that the network can be used in a predictive way, allowing one to assign the probability of each detected object being a member of each considered class.\n",
       "\n",
       "</div>\n",
       "\n",
       "<div id=\"div_fig1\">\n",
       "\n",
       "<img src=\"tmp_2501.05023/./SSO_prob_map.png\" alt=\"Fig1\" width=\"100%\"/>\n",
       "\n",
       "**Figure 1. -** SSO probability map (for a $20\\times 20$ SOM) associated with the trained neural network (see text for details). The value of each pixel (according to the associated colour bar) gives the normalised probability that the data falling in that particular neuron belongs to the SSO class. The probability is normalised so that by summing up the probability per class, one gets exactly 100\\%. (*result_4-a*)\n",
       "\n",
       "</div>\n",
       "<div id=\"div_fig2\">\n",
       "\n",
       "<img src=\"tmp_2501.05023/./Figure_2_referee.png\" alt=\"Fig9\" width=\"100%\"/>\n",
       "\n",
       "**Figure 9. -** Performance of the SOM evaluated by calculating the average map error, $S(t)$(solid black line, _left_ panels), and number of movements, $N_{\\rm move}(t)$, in a given epoch, $t$(_right_ panels). In the _left_ panels, we also give the average error of the SOM when applied to the validation input data (yellow line). The dashed vertical lines represent, for each panel, the epoch associated with the early-stopping method (see text for details).\n",
       "     (*result_1*)\n",
       "\n",
       "</div>\n",
       "<div id=\"div_fig3\">\n",
       "\n",
       "<img src=\"tmp_2501.05023/./Figure_4_SOM_TRAINED_ondata.png\" alt=\"Fig10\" width=\"100%\"/>\n",
       "\n",
       "**Figure 10. -** 20 $\\times$ 20 U-matrix of the SOM trained to classify stars, galaxies, and SSOs. Using the training data, we superimposed a different symbol and colour in the middle of each node for each type of input vector (blue circles for stars, green squares for galaxies, and red diamonds for SSOs), confirming that the SOM correctly classified the data. The dots appearing in each pixel (with a different colour for each class) indicate the number of objects of the particular class classified by the SOM. The underlying grey-scale image represents the U-matrix associated with the trained SOM, {while numbers along the axes represent the neuron position in the map.} (*result_2*)\n",
       "\n",
       "</div><div id=\"qrcode\"><img src=https://api.qrserver.com/v1/create-qr-code/?size=100x100&data=\"https://arxiv.org/abs/2501.05023\"></div>"
      ],
      "text/plain": [
       "<IPython.core.display.Markdown object>"
      ]
     },
     "metadata": {},
     "output_type": "display_data"
    },
    {
     "data": {
      "text/markdown": [
       "<div class=\"macros\" style=\"visibility:hidden;\">\n",
       "$\\newcommand{\\ensuremath}{}$\n",
       "$\\newcommand{\\xspace}{}$\n",
       "$\\newcommand{\\object}[1]{\\texttt{#1}}$\n",
       "$\\newcommand{\\farcs}{{.}''}$\n",
       "$\\newcommand{\\farcm}{{.}'}$\n",
       "$\\newcommand{\\arcsec}{''}$\n",
       "$\\newcommand{\\arcmin}{'}$\n",
       "$\\newcommand{\\ion}[2]{#1#2}$\n",
       "$\\newcommand{\\textsc}[1]{\\textrm{#1}}$\n",
       "$\\newcommand{\\hl}[1]{\\textrm{#1}}$\n",
       "$\\newcommand{\\footnote}[1]{}$\n",
       "$\\newcommand{\\thebibliography}{\\DeclareRobustCommand{\\VAN}[3]{##3}\\VANthebibliography}$\n",
       "$\\newcommand{\\arraystretch}{1.5}$\n",
       "$\\newcommand{\\arraystretch}{1.5}$</div>\n",
       "\n",
       "\n",
       "\n",
       "<div id=\"title\">\n",
       "\n",
       "# The ESO SupJup Survey V: Exploring Atmospheric Variability and Orbit of the Super-Jupiter AB Pictoris b with CRIRES+\n",
       "\n",
       "</div>\n",
       "<div id=\"comments\">\n",
       "\n",
       "[![arXiv](https://img.shields.io/badge/arXiv-2501.05114-b31b1b.svg)](https://arxiv.org/abs/2501.05114)<mark>Appeared on: 2025-01-10</mark> -  _22 pages, 17 figures, 4 tables, accepted for publication in MNRAS_\n",
       "\n",
       "</div>\n",
       "<div id=\"authors\">\n",
       "\n",
       "S. Gandhi, et al. -- incl., <mark>G. Chauvin</mark>\n",
       "\n",
       "</div>\n",
       "<div id=\"abstract\">\n",
       "\n",
       "**Abstract:** A growing number of directly-imaged companions have been recently characterised, with robust constraints on carbon-to-oxygen ratios and even isotopic ratios. Many companions and isolated targets have also shown spectral variability. In this work we observed the super-Jupiter AB Pictoris b across four consecutive nights using VLT/CRIRES+ as part of the ESO SupJup survey, exploring how the constraints on chemical composition and temperature profile change over time using spectral line shape variations between nights. We performed atmospheric retrievals of the high-resolution observations and found broadly consistent results across all four nights, but there were differences for some parameters. We clearly detect $H_2$ O, $^{12}$ CO and $^{13}$ CO in each night, but abundances varied by $\\sim2\\sigma$ , which was correlated to the deep atmosphere temperature profiles. We also found differences in the $^{12}$ C $/^{13}$ C ratios in each night by up to $\\sim3\\sigma$ , which seemed to be correlated with the cloud deck pressure. Our combined retrieval simultaneously analysing all nights together constrained broadly the average of each night individually, with the C/O $=0.59\\pm0.01$ , consistent with solar composition, and $^{12}$ C $/^{13}$ C $ = 102\\pm8$ , slightly higher than the ISM and Solar System values. We also find a low projected rotational velocity, suggesting that AB Pictoris b is either intrinsically a slow rotator due to its young age or that the spin axis is observed pole-on with a $\\sim90^\\circ$ misalignment with its orbit inclination. Future observations will be able to further explore the variability and orbit of AB Pictoris b as well as for other companions.\n",
       "\n",
       "</div>\n",
       "\n",
       "<div id=\"div_fig1\">\n",
       "\n",
       "<img src=\"tmp_2501.05114/./CCF_med_subtracted.png\" alt=\"Fig2\" width=\"100%\"/>\n",
       "\n",
       "**Figure 2. -** Cross-correlation function (CCF) of the high-pass filtered data for each night subtracted by the median over all nights against the best fit model from the combined retrieval. We divide the the values by the standard deviation away from the peak and hence they act as a proxy for the signal-to-noise. Positive correlation indicates the night had higher line depths/stronger features over the others. (*fig:ccf_med_subtract*)\n",
       "\n",
       "</div>\n",
       "<div id=\"div_fig2\">\n",
       "\n",
       "<img src=\"tmp_2501.05114/./combined_nights.png\" alt=\"Fig15\" width=\"100%\"/>\n",
       "\n",
       "**Figure 15. -** Constraints on the parameters for the combined retrieval of AB Pic b simultaneously analysing all four nights. For the isotopic ratio, we show the Solar System value with the blue dotted line and the ISM value and 1$\\sigma$ uncertainty with the red line and shaded region  ([ and Wilson 1999](https://ui.adsabs.harvard.edu/abs/1999RPPh...62..143W), [Milam, et. al 2005](https://ui.adsabs.harvard.edu/abs/2005ApJ...634.1126M)) , and for the C/O ratio we show the the solar value with the blue dotted line  ([Asplund, Amarsi and Grevesse 2021](https://ui.adsabs.harvard.edu/abs/2021A&A...653A.141A)) . The right panel shows the P-T profile and cloud deck constraints, along with the CO-$CH_4$ equilibrium, and the condensation curves for $CaTiO_3$, Fe and $Mg_2$$SiO_4$ ([Visscher, Lodders and Fegley 2010](https://ui.adsabs.harvard.edu/abs/2010ApJ...716.1060V), [Wakeford, et. al 2017](https://ui.adsabs.harvard.edu/abs/2017MNRAS.464.4247W)) . (*fig:combined_nights*)\n",
       "\n",
       "</div>\n",
       "<div id=\"div_fig3\">\n",
       "\n",
       "<img src=\"tmp_2501.05114/./obliquity.png\" alt=\"Fig17\" width=\"100%\"/>\n",
       "\n",
       "**Figure 17. -** (Left panel) The orbital inclination from [ and Palma-Bifani (2023)](https://ui.adsabs.harvard.edu/abs/2023A&A...670A..90P) and the updated distribution from this work in grey and light pink respectively. (Center panel) The probability density distributions for the inclination of AB Pic b for the reported period of 2.1 hour and for a period 4 and 8 times larger. (Right panel) The revised projected obliquity calculated with a period of 2.1 and 16.8 hours. On the far right, a schematic view of the system is shown, highlighting the inclination vectors of the orbit and the companion. (*fig:obliquity*)\n",
       "\n",
       "</div><div id=\"qrcode\"><img src=https://api.qrserver.com/v1/create-qr-code/?size=100x100&data=\"https://arxiv.org/abs/2501.05114\"></div>"
      ],
      "text/plain": [
       "<IPython.core.display.Markdown object>"
      ]
     },
     "metadata": {},
     "output_type": "display_data"
    }
   ],
   "source": [
    "[display(Markdown(k[1])) for k in documents];"
   ]
  },
  {
   "cell_type": "markdown",
   "id": "873873a4",
   "metadata": {
    "papermill": {
     "duration": 0.004878,
     "end_time": "2025-01-10T04:12:05.954811",
     "exception": false,
     "start_time": "2025-01-10T04:12:05.949933",
     "status": "completed"
    },
    "tags": []
   },
   "source": [
    "# Create HTML index"
   ]
  },
  {
   "cell_type": "code",
   "execution_count": 10,
   "id": "cf665672",
   "metadata": {
    "execution": {
     "iopub.execute_input": "2025-01-10T04:12:05.965277Z",
     "iopub.status.busy": "2025-01-10T04:12:05.965056Z",
     "iopub.status.idle": "2025-01-10T04:12:05.973778Z",
     "shell.execute_reply": "2025-01-10T04:12:05.973120Z"
    },
    "papermill": {
     "duration": 0.015144,
     "end_time": "2025-01-10T04:12:05.974786",
     "exception": false,
     "start_time": "2025-01-10T04:12:05.959642",
     "status": "completed"
    },
    "tags": []
   },
   "outputs": [
    {
     "name": "stdout",
     "output_type": "stream",
     "text": [
      "302  publications files modified in the last 7 days.\n"
     ]
    }
   ],
   "source": [
    "from datetime import datetime, timedelta, timezone\n",
    "from glob import glob\n",
    "import os\n",
    "\n",
    "files = glob('_build/html/*.md')\n",
    "days = 7\n",
    "now = datetime.today()\n",
    "res = []\n",
    "for fk in files:\n",
    "    stat_result = os.stat(fk).st_ctime\n",
    "    modified = datetime.fromtimestamp(stat_result, tz=timezone.utc).replace(tzinfo=None)\n",
    "    delta = now.today() - modified\n",
    "    if delta <= timedelta(days=days):\n",
    "        res.append((delta.seconds, fk))\n",
    "res = [k[1] for k in reversed(sorted(res, key=lambda x:x[1]))]\n",
    "npub = len(res)\n",
    "print(len(res), f\" publications files modified in the last {days:d} days.\")\n",
    "# [ print('\\t', k) for k in res ];"
   ]
  },
  {
   "cell_type": "code",
   "execution_count": 11,
   "id": "015de740",
   "metadata": {
    "execution": {
     "iopub.execute_input": "2025-01-10T04:12:05.985871Z",
     "iopub.status.busy": "2025-01-10T04:12:05.985403Z",
     "iopub.status.idle": "2025-01-10T04:12:06.002975Z",
     "shell.execute_reply": "2025-01-10T04:12:06.002461Z"
    },
    "papermill": {
     "duration": 0.02417,
     "end_time": "2025-01-10T04:12:06.004003",
     "exception": false,
     "start_time": "2025-01-10T04:12:05.979833",
     "status": "completed"
    },
    "tags": []
   },
   "outputs": [
    {
     "name": "stdout",
     "output_type": "stream",
     "text": [
      "10  publications in the last 7 days.\n"
     ]
    }
   ],
   "source": [
    "import datetime\n",
    "from glob import glob\n",
    "\n",
    "def get_last_n_days(lst, days=1):\n",
    "    \"\"\" Get the documents from the last n days \"\"\"\n",
    "    sorted_lst = sorted(lst, key=lambda x: x[1], reverse=True)\n",
    "    for fname, date in sorted_lst:\n",
    "        if date >= str(datetime.date.today() - datetime.timedelta(days=days)):\n",
    "            yield fname\n",
    "\n",
    "def extract_appearance_dates(lst_file):\n",
    "    dates = []\n",
    "\n",
    "    def get_date(line):\n",
    "        return line\\\n",
    "            .split('Appeared on:')[-1]\\\n",
    "            .split('</mark>')[0].strip()\n",
    "\n",
    "    for fname in lst:\n",
    "        with open(fname, 'r') as f:\n",
    "            found_date = False\n",
    "            for line in f:\n",
    "                if not found_date:\n",
    "                    if \"Appeared on\" in line:\n",
    "                        found_date = True\n",
    "                        dates.append((fname, get_date(line)))\n",
    "                else:\n",
    "                    break\n",
    "    return dates\n",
    "\n",
    "from glob import glob\n",
    "lst = glob('_build/html/*md')\n",
    "days = 7\n",
    "dates = extract_appearance_dates(lst)\n",
    "res = list(get_last_n_days(dates, days))\n",
    "npub = len(res)\n",
    "print(len(res), f\" publications in the last {days:d} days.\")"
   ]
  },
  {
   "cell_type": "code",
   "execution_count": 12,
   "id": "52ca0208",
   "metadata": {
    "execution": {
     "iopub.execute_input": "2025-01-10T04:12:06.014991Z",
     "iopub.status.busy": "2025-01-10T04:12:06.014603Z",
     "iopub.status.idle": "2025-01-10T04:12:06.019262Z",
     "shell.execute_reply": "2025-01-10T04:12:06.018727Z"
    },
    "papermill": {
     "duration": 0.01108,
     "end_time": "2025-01-10T04:12:06.020167",
     "exception": false,
     "start_time": "2025-01-10T04:12:06.009087",
     "status": "completed"
    },
    "scrolled": false,
    "tags": []
   },
   "outputs": [],
   "source": [
    "def create_carousel(npub=4):\n",
    "    \"\"\" Generate the HTML code for a carousel with `npub` slides \"\"\"\n",
    "    carousel = [\"\"\"  <div class=\"carousel\" \"\"\",\n",
    "                \"\"\"       data-flickity='{ \"autoPlay\": 10000, \"adaptiveHeight\": true, \"resize\": true, \"wrapAround\": true, \"pauseAutoPlayOnHover\": true, \"groupCells\": 1 }' id=\"asyncTypeset\">\"\"\"\n",
    "                ]\n",
    "    \n",
    "    item_str = \"\"\"    <div class=\"carousel-cell\"> <div id=\"slide{k}\" class=\"md_view\">Content {k}</div> </div>\"\"\"\n",
    "    for k in range(1, npub + 1):\n",
    "        carousel.append(item_str.format(k=k))\n",
    "    carousel.append(\"  </div>\")\n",
    "    return '\\n'.join(carousel)\n",
    "\n",
    "def create_grid(npub=4):\n",
    "    \"\"\" Generate the HTML code for a flat grid with `npub` slides \"\"\"\n",
    "    grid = [\"\"\"  <div class=\"grid\"> \"\"\",\n",
    "                ]\n",
    "    \n",
    "    item_str = \"\"\"    <div class=\"grid-item\"> <div id=\"slide{k}\" class=\"md_view\">Content {k}</div> </div>\"\"\"\n",
    "    for k in range(1, npub + 1):\n",
    "        grid.append(item_str.format(k=k))\n",
    "    grid.append(\"  </div>\")\n",
    "    return '\\n'.join(grid)"
   ]
  },
  {
   "cell_type": "code",
   "execution_count": 13,
   "id": "a6eac5b6",
   "metadata": {
    "execution": {
     "iopub.execute_input": "2025-01-10T04:12:06.031297Z",
     "iopub.status.busy": "2025-01-10T04:12:06.031082Z",
     "iopub.status.idle": "2025-01-10T04:12:06.036033Z",
     "shell.execute_reply": "2025-01-10T04:12:06.035539Z"
    },
    "papermill": {
     "duration": 0.011489,
     "end_time": "2025-01-10T04:12:06.036961",
     "exception": false,
     "start_time": "2025-01-10T04:12:06.025472",
     "status": "completed"
    },
    "scrolled": false,
    "tags": []
   },
   "outputs": [],
   "source": [
    "carousel = create_carousel(npub)\n",
    "docs = ', '.join(['\"{0:s}\"'.format(k.split('/')[-1]) for k in res])\n",
    "slides = ', '.join([f'\"slide{k}\"' for k in range(1, npub + 1)])\n",
    "\n",
    "with open(\"daily_template.html\", \"r\") as tpl:\n",
    "    page = tpl.read()\n",
    "    page = page.replace(\"{%-- carousel:s --%}\", carousel)\\\n",
    "               .replace(\"{%-- suptitle:s --%}\",  \"7-day archives\" )\\\n",
    "               .replace(\"{%-- docs:s --%}\", docs)\\\n",
    "               .replace(\"{%-- slides:s --%}\", slides)\n",
    "    \n",
    "with open(\"_build/html/index_7days.html\", 'w') as fout:\n",
    "    fout.write(page)"
   ]
  },
  {
   "cell_type": "code",
   "execution_count": 14,
   "id": "adc1a1ec",
   "metadata": {
    "execution": {
     "iopub.execute_input": "2025-01-10T04:12:06.048042Z",
     "iopub.status.busy": "2025-01-10T04:12:06.047660Z",
     "iopub.status.idle": "2025-01-10T04:12:06.054172Z",
     "shell.execute_reply": "2025-01-10T04:12:06.053632Z"
    },
    "papermill": {
     "duration": 0.013055,
     "end_time": "2025-01-10T04:12:06.055136",
     "exception": false,
     "start_time": "2025-01-10T04:12:06.042081",
     "status": "completed"
    },
    "tags": []
   },
   "outputs": [
    {
     "name": "stdout",
     "output_type": "stream",
     "text": [
      "7  publications in the last day.\n"
     ]
    }
   ],
   "source": [
    "# redo for today\n",
    "days = 1\n",
    "res = list(get_last_n_days(dates, days))\n",
    "npub = len(res)\n",
    "print(len(res), f\" publications in the last day.\")\n",
    "\n",
    "carousel = create_carousel(npub)\n",
    "docs = ', '.join(['\"{0:s}\"'.format(k.split('/')[-1]) for k in res])\n",
    "slides = ', '.join([f'\"slide{k}\"' for k in range(1, npub + 1)])\n",
    "\n",
    "with open(\"daily_template.html\", \"r\") as tpl:\n",
    "    page = tpl.read()\n",
    "    page = page.replace(\"{%-- carousel:s --%}\", carousel)\\\n",
    "               .replace(\"{%-- suptitle:s --%}\",  \"Daily\" )\\\n",
    "               .replace(\"{%-- docs:s --%}\", docs)\\\n",
    "               .replace(\"{%-- slides:s --%}\", slides)\n",
    "    \n",
    "# print(carousel, docs, slides)\n",
    "# print(page)\n",
    "with open(\"_build/html/index_daily.html\", 'w') as fout:\n",
    "    fout.write(page)"
   ]
  },
  {
   "cell_type": "code",
   "execution_count": 15,
   "id": "00eece82",
   "metadata": {
    "execution": {
     "iopub.execute_input": "2025-01-10T04:12:06.066580Z",
     "iopub.status.busy": "2025-01-10T04:12:06.066167Z",
     "iopub.status.idle": "2025-01-10T04:12:06.072368Z",
     "shell.execute_reply": "2025-01-10T04:12:06.071856Z"
    },
    "papermill": {
     "duration": 0.012822,
     "end_time": "2025-01-10T04:12:06.073323",
     "exception": false,
     "start_time": "2025-01-10T04:12:06.060501",
     "status": "completed"
    },
    "scrolled": false,
    "tags": []
   },
   "outputs": [
    {
     "name": "stdout",
     "output_type": "stream",
     "text": [
      "6  6 publications selected.\n"
     ]
    }
   ],
   "source": [
    "# Create the flat grid of the last N papers (fixed number regardless of dates)\n",
    "from itertools import islice \n",
    "\n",
    "npub = 6\n",
    "res = [k[0] for k in (islice(reversed(sorted(dates, key=lambda x: x[1])), 6))]\n",
    "print(len(res), f\" {npub} publications selected.\")\n",
    "\n",
    "grid = create_grid(npub)\n",
    "docs = ', '.join(['\"{0:s}\"'.format(k.split('/')[-1]) for k in res])\n",
    "slides = ', '.join([f'\"slide{k}\"' for k in range(1, npub + 1)])\n",
    "\n",
    "with open(\"grid_template.html\", \"r\") as tpl:\n",
    "    page = tpl.read()\n",
    "    page = page.replace(\"{%-- grid-content:s --%}\", grid)\\\n",
    "               .replace(\"{%-- suptitle:s --%}\",  f\"Last {npub:,d} papers\" )\\\n",
    "               .replace(\"{%-- docs:s --%}\", docs)\\\n",
    "               .replace(\"{%-- slides:s --%}\", slides)\n",
    "    \n",
    "# print(grid, docs, slides)\n",
    "# print(page)\n",
    "with open(\"_build/html/index_npub_grid.html\", 'w') as fout:\n",
    "    fout.write(page)"
   ]
  }
 ],
 "metadata": {
  "kernelspec": {
   "display_name": "Python 3 (ipykernel)",
   "language": "python",
   "name": "python3"
  },
  "language_info": {
   "codemirror_mode": {
    "name": "ipython",
    "version": 3
   },
   "file_extension": ".py",
   "mimetype": "text/x-python",
   "name": "python",
   "nbconvert_exporter": "python",
   "pygments_lexer": "ipython3",
   "version": "3.9.21"
  },
  "papermill": {
   "default_parameters": {},
   "duration": 63.601301,
   "end_time": "2025-01-10T04:12:06.294567",
   "environment_variables": {},
   "exception": null,
   "input_path": "MPIA daily digest.ipynb",
   "output_path": "log.ipynb",
   "parameters": {},
   "start_time": "2025-01-10T04:11:02.693266",
   "version": "2.6.0"
  },
  "vscode": {
   "interpreter": {
    "hash": "aee8b7b246df8f9039afb4144a1f6fd8d2ca17a180786b69acc140d282b71a49"
   }
  },
  "widgets": {
   "application/vnd.jupyter.widget-state+json": {
    "state": {
     "051935964996462fa4fc21a82e9b0968": {
      "model_module": "@jupyter-widgets/controls",
      "model_module_version": "2.0.0",
      "model_name": "HTMLModel",
      "state": {
       "_dom_classes": [],
       "_model_module": "@jupyter-widgets/controls",
       "_model_module_version": "2.0.0",
       "_model_name": "HTMLModel",
       "_view_count": null,
       "_view_module": "@jupyter-widgets/controls",
       "_view_module_version": "2.0.0",
       "_view_name": "HTMLView",
       "description": "",
       "description_allow_html": false,
       "layout": "IPY_MODEL_86e79fa41f8f46e8af5dd23289392c88",
       "placeholder": "​",
       "style": "IPY_MODEL_4008443a4a0a4acaa86deb59804e76b4",
       "tabbable": null,
       "tooltip": null,
       "value": " 4/4 [00:40&lt;00:00, 14.74s/it]"
      }
     },
     "28c80c08ad6b4b249213d42f9fa1597b": {
      "model_module": "@jupyter-widgets/controls",
      "model_module_version": "2.0.0",
      "model_name": "HBoxModel",
      "state": {
       "_dom_classes": [],
       "_model_module": "@jupyter-widgets/controls",
       "_model_module_version": "2.0.0",
       "_model_name": "HBoxModel",
       "_view_count": null,
       "_view_module": "@jupyter-widgets/controls",
       "_view_module_version": "2.0.0",
       "_view_name": "HBoxView",
       "box_style": "",
       "children": [
        "IPY_MODEL_af034154544b456191bae264df5f8d59",
        "IPY_MODEL_fd65eea55a15468e8b4e32631f65c9bb",
        "IPY_MODEL_051935964996462fa4fc21a82e9b0968"
       ],
       "layout": "IPY_MODEL_8cde6093902a41908910cce9dcd26588",
       "tabbable": null,
       "tooltip": null
      }
     },
     "4008443a4a0a4acaa86deb59804e76b4": {
      "model_module": "@jupyter-widgets/controls",
      "model_module_version": "2.0.0",
      "model_name": "HTMLStyleModel",
      "state": {
       "_model_module": "@jupyter-widgets/controls",
       "_model_module_version": "2.0.0",
       "_model_name": "HTMLStyleModel",
       "_view_count": null,
       "_view_module": "@jupyter-widgets/base",
       "_view_module_version": "2.0.0",
       "_view_name": "StyleView",
       "background": null,
       "description_width": "",
       "font_size": null,
       "text_color": null
      }
     },
     "4a5556e2a75d41b4b0fb8b09d40c898d": {
      "model_module": "@jupyter-widgets/controls",
      "model_module_version": "2.0.0",
      "model_name": "HTMLStyleModel",
      "state": {
       "_model_module": "@jupyter-widgets/controls",
       "_model_module_version": "2.0.0",
       "_model_name": "HTMLStyleModel",
       "_view_count": null,
       "_view_module": "@jupyter-widgets/base",
       "_view_module_version": "2.0.0",
       "_view_name": "StyleView",
       "background": null,
       "description_width": "",
       "font_size": null,
       "text_color": null
      }
     },
     "86e79fa41f8f46e8af5dd23289392c88": {
      "model_module": "@jupyter-widgets/base",
      "model_module_version": "2.0.0",
      "model_name": "LayoutModel",
      "state": {
       "_model_module": "@jupyter-widgets/base",
       "_model_module_version": "2.0.0",
       "_model_name": "LayoutModel",
       "_view_count": null,
       "_view_module": "@jupyter-widgets/base",
       "_view_module_version": "2.0.0",
       "_view_name": "LayoutView",
       "align_content": null,
       "align_items": null,
       "align_self": null,
       "border_bottom": null,
       "border_left": null,
       "border_right": null,
       "border_top": null,
       "bottom": null,
       "display": null,
       "flex": null,
       "flex_flow": null,
       "grid_area": null,
       "grid_auto_columns": null,
       "grid_auto_flow": null,
       "grid_auto_rows": null,
       "grid_column": null,
       "grid_gap": null,
       "grid_row": null,
       "grid_template_areas": null,
       "grid_template_columns": null,
       "grid_template_rows": null,
       "height": null,
       "justify_content": null,
       "justify_items": null,
       "left": null,
       "margin": null,
       "max_height": null,
       "max_width": null,
       "min_height": null,
       "min_width": null,
       "object_fit": null,
       "object_position": null,
       "order": null,
       "overflow": null,
       "padding": null,
       "right": null,
       "top": null,
       "visibility": null,
       "width": null
      }
     },
     "8cde6093902a41908910cce9dcd26588": {
      "model_module": "@jupyter-widgets/base",
      "model_module_version": "2.0.0",
      "model_name": "LayoutModel",
      "state": {
       "_model_module": "@jupyter-widgets/base",
       "_model_module_version": "2.0.0",
       "_model_name": "LayoutModel",
       "_view_count": null,
       "_view_module": "@jupyter-widgets/base",
       "_view_module_version": "2.0.0",
       "_view_name": "LayoutView",
       "align_content": null,
       "align_items": null,
       "align_self": null,
       "border_bottom": null,
       "border_left": null,
       "border_right": null,
       "border_top": null,
       "bottom": null,
       "display": null,
       "flex": null,
       "flex_flow": null,
       "grid_area": null,
       "grid_auto_columns": null,
       "grid_auto_flow": null,
       "grid_auto_rows": null,
       "grid_column": null,
       "grid_gap": null,
       "grid_row": null,
       "grid_template_areas": null,
       "grid_template_columns": null,
       "grid_template_rows": null,
       "height": null,
       "justify_content": null,
       "justify_items": null,
       "left": null,
       "margin": null,
       "max_height": null,
       "max_width": null,
       "min_height": null,
       "min_width": null,
       "object_fit": null,
       "object_position": null,
       "order": null,
       "overflow": null,
       "padding": null,
       "right": null,
       "top": null,
       "visibility": null,
       "width": null
      }
     },
     "9ae157ec50b74a8ca12218b4518f7549": {
      "model_module": "@jupyter-widgets/base",
      "model_module_version": "2.0.0",
      "model_name": "LayoutModel",
      "state": {
       "_model_module": "@jupyter-widgets/base",
       "_model_module_version": "2.0.0",
       "_model_name": "LayoutModel",
       "_view_count": null,
       "_view_module": "@jupyter-widgets/base",
       "_view_module_version": "2.0.0",
       "_view_name": "LayoutView",
       "align_content": null,
       "align_items": null,
       "align_self": null,
       "border_bottom": null,
       "border_left": null,
       "border_right": null,
       "border_top": null,
       "bottom": null,
       "display": null,
       "flex": null,
       "flex_flow": null,
       "grid_area": null,
       "grid_auto_columns": null,
       "grid_auto_flow": null,
       "grid_auto_rows": null,
       "grid_column": null,
       "grid_gap": null,
       "grid_row": null,
       "grid_template_areas": null,
       "grid_template_columns": null,
       "grid_template_rows": null,
       "height": null,
       "justify_content": null,
       "justify_items": null,
       "left": null,
       "margin": null,
       "max_height": null,
       "max_width": null,
       "min_height": null,
       "min_width": null,
       "object_fit": null,
       "object_position": null,
       "order": null,
       "overflow": null,
       "padding": null,
       "right": null,
       "top": null,
       "visibility": null,
       "width": null
      }
     },
     "af034154544b456191bae264df5f8d59": {
      "model_module": "@jupyter-widgets/controls",
      "model_module_version": "2.0.0",
      "model_name": "HTMLModel",
      "state": {
       "_dom_classes": [],
       "_model_module": "@jupyter-widgets/controls",
       "_model_module_version": "2.0.0",
       "_model_name": "HTMLModel",
       "_view_count": null,
       "_view_module": "@jupyter-widgets/controls",
       "_view_module_version": "2.0.0",
       "_view_name": "HTMLView",
       "description": "",
       "description_allow_html": false,
       "layout": "IPY_MODEL_9ae157ec50b74a8ca12218b4518f7549",
       "placeholder": "​",
       "style": "IPY_MODEL_4a5556e2a75d41b4b0fb8b09d40c898d",
       "tabbable": null,
       "tooltip": null,
       "value": "100%"
      }
     },
     "bbd6261830da4f1fac8d1479416cde8d": {
      "model_module": "@jupyter-widgets/controls",
      "model_module_version": "2.0.0",
      "model_name": "ProgressStyleModel",
      "state": {
       "_model_module": "@jupyter-widgets/controls",
       "_model_module_version": "2.0.0",
       "_model_name": "ProgressStyleModel",
       "_view_count": null,
       "_view_module": "@jupyter-widgets/base",
       "_view_module_version": "2.0.0",
       "_view_name": "StyleView",
       "bar_color": null,
       "description_width": ""
      }
     },
     "ce6112f6c1374ece9ea9e5623c6f6903": {
      "model_module": "@jupyter-widgets/base",
      "model_module_version": "2.0.0",
      "model_name": "LayoutModel",
      "state": {
       "_model_module": "@jupyter-widgets/base",
       "_model_module_version": "2.0.0",
       "_model_name": "LayoutModel",
       "_view_count": null,
       "_view_module": "@jupyter-widgets/base",
       "_view_module_version": "2.0.0",
       "_view_name": "LayoutView",
       "align_content": null,
       "align_items": null,
       "align_self": null,
       "border_bottom": null,
       "border_left": null,
       "border_right": null,
       "border_top": null,
       "bottom": null,
       "display": null,
       "flex": null,
       "flex_flow": null,
       "grid_area": null,
       "grid_auto_columns": null,
       "grid_auto_flow": null,
       "grid_auto_rows": null,
       "grid_column": null,
       "grid_gap": null,
       "grid_row": null,
       "grid_template_areas": null,
       "grid_template_columns": null,
       "grid_template_rows": null,
       "height": null,
       "justify_content": null,
       "justify_items": null,
       "left": null,
       "margin": null,
       "max_height": null,
       "max_width": null,
       "min_height": null,
       "min_width": null,
       "object_fit": null,
       "object_position": null,
       "order": null,
       "overflow": null,
       "padding": null,
       "right": null,
       "top": null,
       "visibility": null,
       "width": null
      }
     },
     "fd65eea55a15468e8b4e32631f65c9bb": {
      "model_module": "@jupyter-widgets/controls",
      "model_module_version": "2.0.0",
      "model_name": "FloatProgressModel",
      "state": {
       "_dom_classes": [],
       "_model_module": "@jupyter-widgets/controls",
       "_model_module_version": "2.0.0",
       "_model_name": "FloatProgressModel",
       "_view_count": null,
       "_view_module": "@jupyter-widgets/controls",
       "_view_module_version": "2.0.0",
       "_view_name": "ProgressView",
       "bar_style": "success",
       "description": "",
       "description_allow_html": false,
       "layout": "IPY_MODEL_ce6112f6c1374ece9ea9e5623c6f6903",
       "max": 4.0,
       "min": 0.0,
       "orientation": "horizontal",
       "style": "IPY_MODEL_bbd6261830da4f1fac8d1479416cde8d",
       "tabbable": null,
       "tooltip": null,
       "value": 4.0
      }
     }
    },
    "version_major": 2,
    "version_minor": 0
   }
  }
 },
 "nbformat": 4,
 "nbformat_minor": 5
}