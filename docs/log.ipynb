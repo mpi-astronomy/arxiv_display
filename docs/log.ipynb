{
 "cells": [
  {
   "cell_type": "markdown",
   "id": "92bcb855",
   "metadata": {
    "papermill": {
     "duration": 0.003732,
     "end_time": "2024-05-28T04:09:59.080340",
     "exception": false,
     "start_time": "2024-05-28T04:09:59.076608",
     "status": "completed"
    },
    "tags": []
   },
   "source": [
    "# MPIA Arxiv on Deck 2\n",
    "\n",
    "Contains the steps to produce the paper extractions."
   ]
  },
  {
   "cell_type": "code",
   "execution_count": 1,
   "id": "3a0d6e11",
   "metadata": {
    "execution": {
     "iopub.execute_input": "2024-05-28T04:09:59.087621Z",
     "iopub.status.busy": "2024-05-28T04:09:59.087157Z",
     "iopub.status.idle": "2024-05-28T04:09:59.596985Z",
     "shell.execute_reply": "2024-05-28T04:09:59.596289Z"
    },
    "papermill": {
     "duration": 0.515244,
     "end_time": "2024-05-28T04:09:59.598718",
     "exception": false,
     "start_time": "2024-05-28T04:09:59.083474",
     "status": "completed"
    },
    "tags": []
   },
   "outputs": [],
   "source": [
    "# Imports\n",
    "import os\n",
    "from IPython.display import Markdown, display\n",
    "from tqdm.notebook import tqdm\n",
    "import warnings\n",
    "from PIL import Image \n",
    "\n",
    "# requires arxiv_on_deck_2\n",
    "\n",
    "from arxiv_on_deck_2.arxiv2 import (get_new_papers, \n",
    "                                    get_paper_from_identifier,\n",
    "                                    retrieve_document_source, \n",
    "                                    get_markdown_badge)\n",
    "from arxiv_on_deck_2 import (latex,\n",
    "                             latex_bib,\n",
    "                             mpia,\n",
    "                             highlight_authors_in_list)\n",
    "\n",
    "# Sometimes images are really big\n",
    "Image.MAX_IMAGE_PIXELS = 1000000000 "
   ]
  },
  {
   "cell_type": "code",
   "execution_count": 2,
   "id": "22aa9d44",
   "metadata": {
    "execution": {
     "iopub.execute_input": "2024-05-28T04:09:59.605974Z",
     "iopub.status.busy": "2024-05-28T04:09:59.605538Z",
     "iopub.status.idle": "2024-05-28T04:09:59.610502Z",
     "shell.execute_reply": "2024-05-28T04:09:59.609954Z"
    },
    "papermill": {
     "duration": 0.009832,
     "end_time": "2024-05-28T04:09:59.611689",
     "exception": false,
     "start_time": "2024-05-28T04:09:59.601857",
     "status": "completed"
    },
    "tags": []
   },
   "outputs": [],
   "source": [
    "# Some useful definitions.\n",
    "\n",
    "class AffiliationWarning(UserWarning):\n",
    "    pass\n",
    "\n",
    "class AffiliationError(RuntimeError):\n",
    "    pass\n",
    "\n",
    "def validation(source: str):\n",
    "    \"\"\"Raises error paper during parsing of source file\n",
    "    \n",
    "    Allows checks before parsing TeX code.\n",
    "    \n",
    "    Raises AffiliationWarning\n",
    "    \"\"\"\n",
    "    check = mpia.affiliation_verifications(source, verbose=True)\n",
    "    if check is not True:\n",
    "        raise AffiliationError(\"mpia.affiliation_verifications: \" + check)\n",
    "\n",
    "        \n",
    "warnings.simplefilter('always', AffiliationWarning)\n",
    "\n",
    "\n",
    "def get_markdown_qrcode(paper_id: str):\n",
    "    \"\"\" Generate a qrcode to the arxiv page using qrserver.com\n",
    "    \n",
    "    :param paper: Arxiv paper\n",
    "    :returns: markdown text\n",
    "    \"\"\"\n",
    "    url = r\"https://api.qrserver.com/v1/create-qr-code/?size=100x100&data=\"\n",
    "    txt = f\"\"\"<img src={url}\"https://arxiv.org/abs/{paper_id}\">\"\"\"\n",
    "    txt = '<div id=\"qrcode\">' + txt + '</div>'\n",
    "    return txt"
   ]
  },
  {
   "cell_type": "markdown",
   "id": "14bd6310",
   "metadata": {
    "papermill": {
     "duration": 0.002791,
     "end_time": "2024-05-28T04:09:59.617396",
     "exception": false,
     "start_time": "2024-05-28T04:09:59.614605",
     "status": "completed"
    },
    "tags": []
   },
   "source": [
    "## get list of arxiv paper candidates\n",
    "\n",
    "We use the MPIA mitarbeiter list webpage from mpia.de to get author names\n",
    "We then get all new papers from Arxiv and match authors"
   ]
  },
  {
   "cell_type": "code",
   "execution_count": 3,
   "id": "7ea813a8",
   "metadata": {
    "execution": {
     "iopub.execute_input": "2024-05-28T04:09:59.624134Z",
     "iopub.status.busy": "2024-05-28T04:09:59.623760Z",
     "iopub.status.idle": "2024-05-28T04:10:15.647654Z",
     "shell.execute_reply": "2024-05-28T04:10:15.647039Z"
    },
    "papermill": {
     "duration": 16.028967,
     "end_time": "2024-05-28T04:10:15.649245",
     "exception": false,
     "start_time": "2024-05-28T04:09:59.620278",
     "status": "completed"
    },
    "tags": []
   },
   "outputs": [],
   "source": [
    "# deal with the author list and edge cases of people that cannot be consistent on their name  \n",
    "\n",
    "def filter_non_scientists(name: str) -> bool:\n",
    "    \"\"\" Loose filter on expected authorships\n",
    "\n",
    "    removing IT, administration, technical staff\n",
    "    :param name: name\n",
    "    :returns: False if name is not a scientist\n",
    "    \"\"\"\n",
    "    remove_list = ['Wolf', 'Licht', 'Binroth', 'Witzel', 'Jordan',\n",
    "                   'Zähringer', 'Scheerer', 'Hoffmann', 'Düe',\n",
    "                   'Hellmich', 'Enkler-Scharpegge', 'Witte-Nguy',\n",
    "                   'Dehen', 'Beckmann', 'Jager', 'Jäger'\n",
    "                  ]\n",
    "\n",
    "    for k in remove_list:\n",
    "        if k in name:\n",
    "            return False\n",
    "    return True\n",
    "\n",
    "def add_author_to_list(author_list: list) -> list:\n",
    "    \"\"\" Add author to list if not already in list\n",
    "    \n",
    "    :param author: author name\n",
    "    :param author_list: list of authors\n",
    "    :returns: updated list of authors\n",
    "    \"\"\"\n",
    "    add_list = ['T. Henning']\n",
    "\n",
    "    for author in add_list:\n",
    "        if author not in author_list:\n",
    "            author_list.append(author)\n",
    "    return author_list\n",
    "\n",
    "# get list from MPIA website\n",
    "# filter for non-scientists (mpia.get_mpia_mitarbeiter_list() does some filtering)\n",
    "mpia_authors = [k[1] for k in mpia.get_mpia_mitarbeiter_list() if filter_non_scientists(k[1])]\n",
    "# add some missing author because of inconsistencies in their MPIA name and author name on papers\n",
    "mpia_authors = add_author_to_list(mpia_authors)"
   ]
  },
  {
   "cell_type": "code",
   "execution_count": 4,
   "id": "2645e73a",
   "metadata": {
    "execution": {
     "iopub.execute_input": "2024-05-28T04:10:15.656654Z",
     "iopub.status.busy": "2024-05-28T04:10:15.656307Z",
     "iopub.status.idle": "2024-05-28T04:10:16.414101Z",
     "shell.execute_reply": "2024-05-28T04:10:16.413381Z"
    },
    "papermill": {
     "duration": 0.762884,
     "end_time": "2024-05-28T04:10:16.415466",
     "exception": false,
     "start_time": "2024-05-28T04:10:15.652582",
     "status": "completed"
    },
    "tags": []
   },
   "outputs": [
    {
     "name": "stdout",
     "output_type": "stream",
     "text": [
      "A. Gould  ->  A. Gould  |  ['A. Gould']\n",
      "F. Walter  ->  F. Walter  |  ['F. Walter']\n",
      "K. Lee  ->  K. Lee  |  ['K. Lee']\n",
      "Arxiv has 79 new papers today\n",
      "          3 with possible author matches\n"
     ]
    }
   ],
   "source": [
    "new_papers = get_new_papers()\n",
    "# add manual references\n",
    "add_paper_refs = []\n",
    "new_papers.extend([get_paper_from_identifier(k) for k in add_paper_refs])\n",
    "\n",
    "candidates = []\n",
    "for paperk in new_papers:\n",
    "    # Check author list with their initials\n",
    "    normed_author_list = [mpia.get_initials(k) for k in paperk['authors']]\n",
    "    hl_authors = highlight_authors_in_list(normed_author_list, mpia_authors, verbose=True)\n",
    "    matches = [(hl, orig) for hl, orig in zip(hl_authors, paperk['authors']) if 'mark' in hl]\n",
    "    paperk['authors'] = hl_authors\n",
    "    if matches:\n",
    "        # only select paper if an author matched our list\n",
    "        candidates.append(paperk)\n",
    "print(\"\"\"Arxiv has {0:,d} new papers today\"\"\".format(len(new_papers)))        \n",
    "print(\"\"\"          {0:,d} with possible author matches\"\"\".format(len(candidates)))"
   ]
  },
  {
   "cell_type": "markdown",
   "id": "3543b34a",
   "metadata": {
    "papermill": {
     "duration": 0.003757,
     "end_time": "2024-05-28T04:10:16.422508",
     "exception": false,
     "start_time": "2024-05-28T04:10:16.418751",
     "status": "completed"
    },
    "tags": []
   },
   "source": [
    "# Parse sources and generate relevant outputs\n",
    "\n",
    "From the candidates, we do the following steps:\n",
    "* get their tarball from ArXiv (and extract data)\n",
    "* find the main .tex file: find one with \\documentclass{...} (sometimes it's non trivial)\n",
    "* Check affiliations with :func:`validation`, which uses :func:`mpia.affiliation_verifications`\n",
    "* If passing the affiliations: we parse the .tex source\n",
    "   * inject sub-documents into the main (flatten the main document)\n",
    "   * parse structure, extract information (title, abstract, authors, figures...)\n",
    "   * handles `\\graphicspath` if provided\n",
    "* Generate the .md document."
   ]
  },
  {
   "cell_type": "code",
   "execution_count": 5,
   "id": "9576b79e",
   "metadata": {
    "execution": {
     "iopub.execute_input": "2024-05-28T04:10:16.429644Z",
     "iopub.status.busy": "2024-05-28T04:10:16.429232Z",
     "iopub.status.idle": "2024-05-28T04:11:28.827854Z",
     "shell.execute_reply": "2024-05-28T04:11:28.827203Z"
    },
    "papermill": {
     "duration": 72.404637,
     "end_time": "2024-05-28T04:11:28.830087",
     "exception": false,
     "start_time": "2024-05-28T04:10:16.425450",
     "status": "completed"
    },
    "scrolled": false,
    "tags": []
   },
   "outputs": [
    {
     "data": {
      "application/vnd.jupyter.widget-view+json": {
       "model_id": "ffc51fb26ecd4b86be94f4ab41e29c4d",
       "version_major": 2,
       "version_minor": 0
      },
      "text/plain": [
       "  0%|          | 0/3 [00:00<?, ?it/s]"
      ]
     },
     "metadata": {},
     "output_type": "display_data"
    },
    {
     "name": "stdout",
     "output_type": "stream",
     "text": [
      "Retrieving document from  https://arxiv.org/e-print/2405.16857\n"
     ]
    },
    {
     "name": "stdout",
     "output_type": "stream",
     "text": [
      "extracting tarball to tmp_2405.16857... done.\n"
     ]
    },
    {
     "name": "stderr",
     "output_type": "stream",
     "text": [
      "/tmp/ipykernel_2295/1211882699.py:51: LatexWarning: 2405.16857 did not run properly\n",
      "Unable to locate Ghostscript on paths\n",
      "  warnings.warn(latex.LatexWarning(f\"{paper_id:s} did not run properly\\n\" +\n"
     ]
    },
    {
     "name": "stdout",
     "output_type": "stream",
     "text": [
      "Retrieving document from  https://arxiv.org/e-print/2405.17000\n"
     ]
    },
    {
     "name": "stdout",
     "output_type": "stream",
     "text": [
      "extracting tarball to tmp_2405.17000..."
     ]
    },
    {
     "name": "stdout",
     "output_type": "stream",
     "text": [
      " done.\n"
     ]
    },
    {
     "name": "stdout",
     "output_type": "stream",
     "text": [
      "F. Walter  ->  F. Walter  |  ['F. Walter']\n"
     ]
    },
    {
     "name": "stdout",
     "output_type": "stream",
     "text": [
      "Found 138 bibliographic references in tmp_2405.17000/LSBD-MHONGOOSE.bbl.\n",
      "syntax error in line 375: '=' expected\n",
      "Retrieving document from  https://arxiv.org/e-print/2405.17095\n"
     ]
    },
    {
     "name": "stdout",
     "output_type": "stream",
     "text": [
      "extracting tarball to tmp_2405.17095..."
     ]
    },
    {
     "name": "stdout",
     "output_type": "stream",
     "text": [
      " done.\n"
     ]
    },
    {
     "name": "stderr",
     "output_type": "stream",
     "text": [
      "/opt/hostedtoolcache/Python/3.9.19/x64/lib/python3.9/site-packages/arxiv_on_deck_2/latex.py:411: LatexWarning: Latex injecting: '49772corr.bbl' from 'tmp_2405.17095/49772corr.tex'\n",
      "  warnings.warn(LatexWarning(f\"Latex injecting: '{ext}' from '{subsource}'\"))\n"
     ]
    }
   ],
   "source": [
    "documents = []\n",
    "failed = []\n",
    "for paper in tqdm(candidates):\n",
    "    # debug crap\n",
    "    paper['identifier'] = paper['identifier'].lower().replace('arxiv:', '').replace(r'\\n', '').strip()\n",
    "    paper_id = paper['identifier']\n",
    "    \n",
    "    folder = f'tmp_{paper_id}'\n",
    "\n",
    "    try:\n",
    "        if not os.path.isdir(folder):\n",
    "            folder = retrieve_document_source(f\"{paper_id}\", f'tmp_{paper_id}')\n",
    "        \n",
    "        try:\n",
    "            doc = latex.LatexDocument(folder, validation=validation)    \n",
    "        except AffiliationError as affilerror:\n",
    "            msg = f\"ArXiv:{paper_id:s} is not an MPIA paper... \" + str(affilerror)\n",
    "            failed.append((paper, \"affiliation error: \" + str(affilerror) ))\n",
    "            continue\n",
    "        \n",
    "        # Hack because sometimes author parsing does not work well\n",
    "        if (len(doc.authors) != len(paper['authors'])):\n",
    "            doc._authors = paper['authors']\n",
    "        else:\n",
    "            # highlight authors (FIXME: doc.highlight_authors)\n",
    "            # done on arxiv paper already\n",
    "            doc._authors = highlight_authors_in_list(\n",
    "                [mpia.get_initials(k) for k in doc.authors], \n",
    "                mpia_authors, verbose=True)\n",
    "        if (doc.abstract) in (None, ''):\n",
    "            doc._abstract = paper['abstract']\n",
    "            \n",
    "        doc.comment = (get_markdown_badge(paper_id) + \n",
    "                       \"<mark>Appeared on: \" + paper['date'] + \"</mark> - \")\n",
    "        if paper['comments']:\n",
    "            doc.comment += \" _\" + paper['comments'] + \"_\"\n",
    "        \n",
    "        full_md = doc.generate_markdown_text()\n",
    "        \n",
    "        full_md += get_markdown_qrcode(paper_id)\n",
    "        \n",
    "        # replace citations\n",
    "        try:\n",
    "            bibdata = latex_bib.LatexBib.from_doc(doc)\n",
    "            full_md = latex_bib.replace_citations(full_md, bibdata)\n",
    "        except Exception as e:\n",
    "            print(e)\n",
    "        \n",
    "        documents.append((paper_id, full_md))\n",
    "    except Exception as e:\n",
    "        warnings.warn(latex.LatexWarning(f\"{paper_id:s} did not run properly\\n\" +\n",
    "                                         str(e)\n",
    "                                        ))\n",
    "        failed.append((paper, \"latex error \" + str(e)))"
   ]
  },
  {
   "cell_type": "markdown",
   "id": "2505a25c",
   "metadata": {
    "papermill": {
     "duration": 0.00373,
     "end_time": "2024-05-28T04:11:28.837710",
     "exception": false,
     "start_time": "2024-05-28T04:11:28.833980",
     "status": "completed"
    },
    "tags": []
   },
   "source": [
    "### Export the logs\n",
    "\n",
    "Throughout, we also keep track of the logs per paper. see `logs-{today date}.md` "
   ]
  },
  {
   "cell_type": "code",
   "execution_count": 6,
   "id": "d733828a",
   "metadata": {
    "execution": {
     "iopub.execute_input": "2024-05-28T04:11:28.846081Z",
     "iopub.status.busy": "2024-05-28T04:11:28.845807Z",
     "iopub.status.idle": "2024-05-28T04:11:28.858687Z",
     "shell.execute_reply": "2024-05-28T04:11:28.858073Z"
    },
    "papermill": {
     "duration": 0.018585,
     "end_time": "2024-05-28T04:11:28.859925",
     "exception": false,
     "start_time": "2024-05-28T04:11:28.841340",
     "status": "completed"
    },
    "scrolled": false,
    "tags": []
   },
   "outputs": [
    {
     "data": {
      "text/markdown": [
       "## Successful papers"
      ],
      "text/plain": [
       "<IPython.core.display.Markdown object>"
      ]
     },
     "metadata": {},
     "output_type": "display_data"
    },
    {
     "data": {
      "text/markdown": [
       "\n",
       "|||\n",
       "|---:|:---|\n",
       "| [![arXiv](https://img.shields.io/badge/arXiv-2405.17000-b31b1b.svg)](https://arxiv.org/abs/2405.17000) | **MHONGOOSE discovery of a gas-rich low-surface brightness galaxy in the Dorado Group**  |\n",
       "|| F. M. Maccagni, et al. -- incl., <mark>F. Walter</mark> |\n",
       "|*Appeared on*| *2024-05-28*|\n",
       "|*Comments*| *18 pages, 14 figures, 5 tables; accepted for publication in A&A*|\n",
       "|**Abstract**|            We present the discovery of a low-mass gas-rich low-surface brightness galaxy in the Dorado Group, at a distance of 17.7 Mpc. Combining deep MeerKAT 21-cm observations from the MeerKAT HI Observations of Nearby Galactic Objects: Observing Southern Emitters (MHONGOOSE) survey with deep photometric images from the VST Early-type Galaxy Survey (VEGAS) we find a stellar and neutral atomic hydrogen (HI) gas mass of $M_\\star = 2.23\\times10^6$ M$_\\odot$ and $M_{\\rm HI}=1.68\\times10^6$ M$_\\odot$, respectively. This low-surface brightness galaxy is the lowest mass HI detection found in a group beyond the Local Universe ($D\\gtrsim 10$ Mpc). The dwarf galaxy has the typical overall properties of gas-rich low surface brightness galaxies in the Local group, but with some striking differences. Namely, the MHONGOOSE observations reveal a very low column density ($\\sim 10^{18-19}$ cm$^{-2}$) HI disk with asymmetrical morphology possibly supported by rotation and higher velocity dispersion in the centre. There, deep optical photometry and UV-observations suggest a recent enhancement of the star formation. Found at galactocentric distances where in the Local Group dwarf galaxies are depleted of cold gas (at $390$ projected-kpc distance from the group centre), this galaxy is likely on its first orbit within the Dorado group. We discuss the possible environmental effects that may have caused the formation of the HI disk and the enhancement of star formation, highlighting the short-lived phase (a few hundreds of Myr) of the gaseous disk, before either SF or hydrodynamical forces will deplete the gas of the galaxy.         |"
      ],
      "text/plain": [
       "[2405.17000] MHONGOOSE discovery of a gas-rich low-surface brightness galaxy in the Dorado Group\n",
       "\tF. M. Maccagni, et al. -- incl., <mark>F. Walter</mark>"
      ]
     },
     "metadata": {},
     "output_type": "display_data"
    },
    {
     "data": {
      "text/markdown": [
       "## Failed papers"
      ],
      "text/plain": [
       "<IPython.core.display.Markdown object>"
      ]
     },
     "metadata": {},
     "output_type": "display_data"
    },
    {
     "data": {
      "text/markdown": [
       "\n",
       "|||\n",
       "|---:|:---|\n",
       "| [![arXiv](https://img.shields.io/badge/arXiv-2405.17095-b31b1b.svg)](https://arxiv.org/abs/2405.17095) | **Large-amplitude transverse MHD waves prevailing in the H$\\alpha$ chromosphere of a solar quiet region revealed by MiHI integrated field spectral observations**  |\n",
       "|| J. Chae, et al. -- incl., <mark>K. Lee</mark> |\n",
       "|*Appeared on*| *2024-05-28*|\n",
       "|*Comments*| *accepted for publication in A&A*|\n",
       "|**Abstract**|            The investigation of plasma motions in the solar chromosphere is crucial for understanding the transport of mechanical energy from the interior of the Sun to the outer atmosphere and into interplanetary space. We report the finding of large-amplitude oscillatory transverse motions prevailing in the non-spicular Halpha chromosphere of a small quiet region near the solar disk center. The observation was carried out on 2018 August 25 with the Microlensed Hyperspectral Imager (MiHI) installed as an extension to the spectrograph at the Swedish Solar Telescope (SST). MiHi produced high-resolution Stokes spectra of the Halpha line over a two-dimensional array of points (sampled every 0.066 arcsec on the image plane) every 1.33 s for about 17 min. We extracted the Dopple-shift-insensitive intensity data of the line core by applying a bisector fit to Stoke I line profiles. From our time-distance analysis of the intensity data, we find a variety of transverse motions with velocity amplitudes of up to 40 km/s in fan fibrils and tiny filaments. In particular, in the fan fibrils, large-amplitude transverse MHD waves were seen to occur with a mean velocity amplitude of 25 km/s and a mean period of 5.8 min, propagating at a speed of 40 km/s. These waves are nonlinear and display group behavior. We estimate the wave energy flux in the upper chromosphere at 3 x 10^6 erg cm^-2 s^-1. Our results contribute to the advancement of our understanding of the properties of transverse MHD waves in the solar chromosphere.         |\n",
       "|<p style=\"color:green\"> **ERROR** </p>| <p style=\"color:green\">affiliation error: mpia.affiliation_verifications: 'Heidelberg' keyword not found.</p> |"
      ],
      "text/plain": [
       "<IPython.core.display.Markdown object>"
      ]
     },
     "metadata": {},
     "output_type": "display_data"
    },
    {
     "data": {
      "text/markdown": [
       "\n",
       "|||\n",
       "|---:|:---|\n",
       "| [![arXiv](https://img.shields.io/badge/arXiv-2405.16857-b31b1b.svg)](https://arxiv.org/abs/2405.16857) | **KMT-2023-BLG-2669: Ninth Free-floating Planet Candidate with $\\theta_{\\rm E}$ measurements**  |\n",
       "|| Y. K. Jung, et al. -- incl., <mark>A. Gould</mark> |\n",
       "|*Appeared on*| *2024-05-28*|\n",
       "|*Comments*| *17 pages, 5 figures, submitted to AJ*|\n",
       "|**Abstract**|            We report a free-floating planet (FFP) candidate identified from the analysis of the microlensing event KMT-2023-BLG-2669. The lensing light curve is characterized by a short duration $(\\lesssim 3\\,{\\rm days})$ and a small amplitude $(\\lesssim 0.7\\,{\\rm mag})$. From the analysis, we find the Einstein timescale of $t_{\\rm E} \\backsimeq 0.33\\,{\\rm days}$ and the Einstein radius of $\\theta_{\\rm E} \\backsimeq 4.41\\,{\\mu}{\\rm as}$. These measurements enable us to infer the lens mass as $M = 8\\,M_{\\oplus} (\\pi_{\\rm rel} / 0.1\\,{\\rm mas})^{-1}$, where $\\pi_{\\rm rel}$ is the relative lens-source parallax. The inference implies that the lens is a sub-Neptune- to Saturn-mass object depending on its unknown distance. This is the ninth isolated planetary-mass microlens with $\\theta_{\\rm E} < 10\\,{\\mu}{\\rm as}$, which (as shown by \\citealt{gould22}) is a useful threshold for a FFP candidate. We conduct extensive searches for possible signals of a host star in the light curve, but find no strong evidence for the host. We discuss the possibility of using late-time high-resolution imaging to probe for possible hosts.         |\n",
       "|<p style=\"color:red\"> **ERROR** </p>| <p style=\"color:red\">latex error Unable to locate Ghostscript on paths</p> |"
      ],
      "text/plain": [
       "<IPython.core.display.Markdown object>"
      ]
     },
     "metadata": {},
     "output_type": "display_data"
    }
   ],
   "source": [
    "import datetime\n",
    "today = str(datetime.date.today())\n",
    "logfile = f\"_build/html/logs/log-{today}.md\"\n",
    "\n",
    "\n",
    "with open(logfile, 'w') as logs:\n",
    "    # Success\n",
    "    logs.write(f'# Arxiv on Deck 2: Logs - {today}\\n\\n')\n",
    "    logs.write(\"\"\"* Arxiv had {0:,d} new papers\\n\"\"\".format(len(new_papers)))\n",
    "    logs.write(\"\"\"    * {0:,d} with possible author matches\\n\\n\"\"\".format(len(candidates)))\n",
    "    logs.write(\"## Sucessful papers\\n\\n\")\n",
    "    display(Markdown(\"## Successful papers\"))\n",
    "    success = [k[0] for k in documents]\n",
    "    for candid in candidates:\n",
    "        if candid['identifier'].split(':')[-1] in success:\n",
    "            display(candid)\n",
    "            logs.write(candid.generate_markdown_text() + '\\n\\n')\n",
    "\n",
    "    ## failed\n",
    "    logs.write(\"## Failed papers\\n\\n\")\n",
    "    display(Markdown(\"## Failed papers\"))\n",
    "    failed = sorted(failed, key=lambda x: x[1])\n",
    "    current_reason = \"\"\n",
    "    for paper, reason in failed:\n",
    "        if 'affiliation' in reason:\n",
    "            color = 'green'\n",
    "        else:\n",
    "            color = 'red'\n",
    "        data = Markdown(\n",
    "                paper.generate_markdown_text() + \n",
    "                f'\\n|<p style=\"color:{color:s}\"> **ERROR** </p>| <p style=\"color:{color:s}\">{reason:s}</p> |'\n",
    "               )\n",
    "        if reason != current_reason:\n",
    "            logs.write(f'### {reason:s} \\n\\n')\n",
    "            current_reason = reason\n",
    "        logs.write(data.data + '\\n\\n')\n",
    "        \n",
    "        # only display here the important errors (all in logs)\n",
    "        # if color in ('red',):\n",
    "        display(data)"
   ]
  },
  {
   "cell_type": "markdown",
   "id": "472d20ee",
   "metadata": {
    "papermill": {
     "duration": 0.004128,
     "end_time": "2024-05-28T04:11:28.868228",
     "exception": false,
     "start_time": "2024-05-28T04:11:28.864100",
     "status": "completed"
    },
    "tags": []
   },
   "source": [
    "## Export documents\n",
    "\n",
    "We now write the .md files and export relevant images"
   ]
  },
  {
   "cell_type": "code",
   "execution_count": 7,
   "id": "d426aed9",
   "metadata": {
    "execution": {
     "iopub.execute_input": "2024-05-28T04:11:28.877471Z",
     "iopub.status.busy": "2024-05-28T04:11:28.877096Z",
     "iopub.status.idle": "2024-05-28T04:11:28.883201Z",
     "shell.execute_reply": "2024-05-28T04:11:28.882652Z"
    },
    "papermill": {
     "duration": 0.0122,
     "end_time": "2024-05-28T04:11:28.884511",
     "exception": false,
     "start_time": "2024-05-28T04:11:28.872311",
     "status": "completed"
    },
    "tags": []
   },
   "outputs": [],
   "source": [
    "def export_markdown_summary(md: str, md_fname:str, directory: str):\n",
    "    \"\"\"Export MD document and associated relevant images\"\"\"\n",
    "    import os\n",
    "    import shutil\n",
    "    import re\n",
    "\n",
    "    if (os.path.exists(directory) and not os.path.isdir(directory)):\n",
    "        raise RuntimeError(f\"a non-directory file exists with name {directory:s}\")\n",
    "\n",
    "    if (not os.path.exists(directory)):\n",
    "        print(f\"creating directory {directory:s}\")\n",
    "        os.mkdir(directory)\n",
    "\n",
    "    fig_fnames = (re.compile(r'\\[Fig.*\\]\\((.*)\\)').findall(md) + \n",
    "                  re.compile(r'\\<img src=\"([^>\\s]*)\"[^>]*/>').findall(md))\n",
    "    for fname in fig_fnames:\n",
    "        if 'http' in fname:\n",
    "            # No need to copy online figures\n",
    "            continue\n",
    "        destdir = os.path.join(directory, os.path.dirname(fname))\n",
    "        destfname = os.path.join(destdir, os.path.basename(fname))\n",
    "        try:\n",
    "            os.makedirs(destdir)\n",
    "        except FileExistsError:\n",
    "            pass\n",
    "        shutil.copy(fname, destfname)\n",
    "    with open(os.path.join(directory, md_fname), 'w') as fout:\n",
    "        fout.write(md)\n",
    "    print(\"exported in \", os.path.join(directory, md_fname))\n",
    "    [print(\"    + \" + os.path.join(directory,fk)) for fk in fig_fnames]"
   ]
  },
  {
   "cell_type": "code",
   "execution_count": 8,
   "id": "014d04a4",
   "metadata": {
    "execution": {
     "iopub.execute_input": "2024-05-28T04:11:28.893844Z",
     "iopub.status.busy": "2024-05-28T04:11:28.893660Z",
     "iopub.status.idle": "2024-05-28T04:11:28.906423Z",
     "shell.execute_reply": "2024-05-28T04:11:28.905898Z"
    },
    "papermill": {
     "duration": 0.019037,
     "end_time": "2024-05-28T04:11:28.907728",
     "exception": false,
     "start_time": "2024-05-28T04:11:28.888691",
     "status": "completed"
    },
    "tags": []
   },
   "outputs": [
    {
     "name": "stdout",
     "output_type": "stream",
     "text": [
      "exported in  _build/html/2405.17000.md\n",
      "    + _build/html/tmp_2405.17000/./rgb_cont.png\n",
      "    + _build/html/tmp_2405.17000/./rgba_lsbd_mom0mom1_v5_referee.png\n",
      "    + _build/html/tmp_2405.17000/./TF-mcG-MgasMstarAAAA_referee.png\n"
     ]
    }
   ],
   "source": [
    "for paper_id, md in documents:\n",
    "    export_markdown_summary(md, f\"{paper_id:s}.md\", '_build/html/')"
   ]
  },
  {
   "cell_type": "markdown",
   "id": "f087a0a7",
   "metadata": {
    "papermill": {
     "duration": 0.004146,
     "end_time": "2024-05-28T04:11:28.916103",
     "exception": false,
     "start_time": "2024-05-28T04:11:28.911957",
     "status": "completed"
    },
    "tags": []
   },
   "source": [
    "## Display the papers\n",
    "\n",
    "Not necessary but allows for a quick check."
   ]
  },
  {
   "cell_type": "code",
   "execution_count": 9,
   "id": "fd25f625",
   "metadata": {
    "execution": {
     "iopub.execute_input": "2024-05-28T04:11:28.925527Z",
     "iopub.status.busy": "2024-05-28T04:11:28.925148Z",
     "iopub.status.idle": "2024-05-28T04:11:28.929532Z",
     "shell.execute_reply": "2024-05-28T04:11:28.928917Z"
    },
    "papermill": {
     "duration": 0.010577,
     "end_time": "2024-05-28T04:11:28.930877",
     "exception": false,
     "start_time": "2024-05-28T04:11:28.920300",
     "status": "completed"
    },
    "scrolled": false,
    "tags": []
   },
   "outputs": [
    {
     "data": {
      "text/markdown": [
       "<div class=\"macros\" style=\"visibility:hidden;\">\n",
       "$\\newcommand{\\ensuremath}{}$\n",
       "$\\newcommand{\\xspace}{}$\n",
       "$\\newcommand{\\object}[1]{\\texttt{#1}}$\n",
       "$\\newcommand{\\farcs}{{.}''}$\n",
       "$\\newcommand{\\farcm}{{.}'}$\n",
       "$\\newcommand{\\arcsec}{''}$\n",
       "$\\newcommand{\\arcmin}{'}$\n",
       "$\\newcommand{\\ion}[2]{#1#2}$\n",
       "$\\newcommand{\\textsc}[1]{\\textrm{#1}}$\n",
       "$\\newcommand{\\hl}[1]{\\textrm{#1}}$\n",
       "$\\newcommand{\\footnote}[1]{}$\n",
       "$\\newcommand{\\fluxhi}{{S_{\\rm 1.4  GHz}}}$\n",
       "$\\newcommand{\\fluxco}{{S_{\\rm CO   (2-1)}}}$\n",
       "$\\newcommand{\\pow}{{\\log P_{1.4   \\rm GHz}}}$\n",
       "$\\newcommand{\\matHI}{{\\rm H {\\hskip 0.02cm \\tt I}}}$\n",
       "$\\newcommand{\\CO}{\\element[]CO}$\n",
       "$\\newcommand{\\couno}{\\element[][12]CO (1--0) }$\n",
       "$\\newcommand{\\codue}{\\element[][12]CO (2--1) }$\n",
       "$\\newcommand{\\cotre}{{\\element[][12]CO(3--2)} }$\n",
       "$\\newcommand{\\brgamma}{Br\\gamma}$\n",
       "$\\newcommand{\\sisei}{[Si {\\small VI}]}$\n",
       "$\\newcommand{\\Htwozero}{H_{ 2} 0-0 S(0,1,2,5)}$\n",
       "$\\newcommand{\\Htwouno}{H_{ 2} 1-0 S(0,1,2,3)}$\n",
       "$\\newcommand{\\Htwotwo}{H_{ 2} 2-1 S(1,3)}$\n",
       "$\\newcommand{\\Htwoz}{H_{ 2} 1-0 S(0)}$\n",
       "$\\newcommand{\\Htwoi}{H_{ 2} 1-0 S(1)}$\n",
       "$\\newcommand{\\Htwod}{H_{ 2} 1-0 S(2)}$\n",
       "$\\newcommand{\\Htwot}{H_{ 2} 1-0 S(3)}$\n",
       "$\\newcommand{\\Htwodz}{H_{ 2} 2-1 S(1)}$\n",
       "$\\newcommand{\\Htwodt}{H_{ 2} 2-1 S(3)}$\n",
       "$\\newcommand{\\mhtwo}{{M (H_{  2})}}$\n",
       "$\\newcommand{\\kms}{ km~s^{-1}}$\n",
       "$\\newcommand{\\ms}{ m~s^{-1}}$\n",
       "$\\newcommand{\\ergs}{ erg~s^{-1}}$\n",
       "$\\newcommand{\\ergscm}{ erg s^{-1} cm^{-2}}$\n",
       "$\\newcommand{\\kmsMp}{km s^{-1}~Mpc^{-1}}$\n",
       "$\\newcommand{\\Jyb}{Jy beam^{-1}}$\n",
       "$\\newcommand{\\Jykms}{Jy km s^{-1}}$\n",
       "$\\newcommand{\\mJyb}{mJy beam^{-1}}$\n",
       "$\\newcommand{\\mJy}{mJy}$\n",
       "$\\newcommand{\\whz}{W~Hz^{-1}}$\n",
       "$\\newcommand{\\msun}{{{\\rm M}_\\odot}}$\n",
       "$\\newcommand{\\msunyr}{{{\\rm M}_\\odot yr^{-1}}}$\n",
       "$\\newcommand{\\lsun}{{L_\\odot}}$\n",
       "$\\newcommand{\\cmsq}{cm^{-2}}$\n",
       "$\\newcommand{\\pcdue}{pc^{-2}}$\n",
       "$\\newcommand{\\tspin}{T_{\\rm spin}}$\n",
       "$\\newcommand{\\atms}{atoms cm^{-2}}$\n",
       "$\\newcommand{\\um }{\\mum}$\n",
       "$\\newcommand{\\eg}{\\mbox{e.g.}}$\n",
       "$\\newcommand{\\ie}{\\mbox{i.e.}}$\n",
       "$\\newcommand{\\etal}{{\\sl et al.}}$\n",
       "$\\newcommand{\\sauron}{{\\texttt{SAURON}}}$\n",
       "$\\newcommand{\\atlas}{{ATLAS^{\\rm 3D}}}$\n",
       "$\\newcommand{\\mgas}{{MeerGas}}$\n",
       "$\\newcommand{\\mhon}{{MHONGOOSE}}$\n",
       "$\\newcommand{\\lsb}{\\mbox LSB-D}$\n",
       "$\\newcommand{\\forn}{\\mbox Fornax~A}$\n",
       "$\\newcommand{\\cena}{\\mbox Centaurus~A}$\n",
       "$\\newcommand{\\nfi}{\\mbox NGC~1566}$\n",
       "$\\newcommand{\\pl}{{\\em{Planck}}}$\n",
       "$\\newcommand{\\meer}{{MeerKAT}}$\n",
       "$\\newcommand{\\syn}{\\tt{SYNAGE++}}$\n",
       "$\\newcommand{\\cara}{{\\tt CARACal}}$\n",
       "$\\newcommand{\\vsys}{{v_{\\rm sys}} }$\n",
       "$\\newcommand{\\vrot}{{v_{\\rm rot}} }$\n",
       "$\\newcommand{\\MHILB}{{M_{\\rm HI}/L_B}}$\n",
       "$\\newcommand{\\nhi}{{N_{\\rm H {\\hskip 0.02cm \\tt I}}}}$\n",
       "$\\newcommand{\\mhi}{{M_{\\rm H {\\hskip 0.02cm \\tt I}}}}$\n",
       "$\\newcommand{\\alphac}{{\\alpha_{\\rm CO}}}$\n",
       "$\\newcommand{\\MLB}{M/L_B}$\n",
       "$\\newcommand{\\NB}[1]{\\textcolor{red}{\\textbf{[NB: #1]}}}$\n",
       "$\\newcommand{\\HI}{\\ion{H}{I}}$\n",
       "$\\newcommand{\\halpha}{\\ion{H\\alpha}}$\n",
       "$\\newcommand{\\hbeta}{\\ion{H\\beta}}$\n",
       "$\\newcommand{\\nad}{\\ion{NaI}~D}$\n",
       "$\\newcommand{\\OIst}{[\\ion{O}{I}]\\lambda6300}$\n",
       "$\\newcommand{\\OIsts}{[\\ion{O}{I}]\\lambda6364}$\n",
       "$\\newcommand{\\OIIIqn}{[\\ion{O}{III}]\\lambda4959}$\n",
       "$\\newcommand{\\OIIIfs}{[\\ion{O}{III}]\\lambda5007}$\n",
       "$\\newcommand{\\NIIscq}{[\\ion{N}{II}]\\lambda6548}$\n",
       "$\\newcommand{\\NIIsco}{[\\ion{N}{II}]\\lambda6583}$\n",
       "$\\newcommand{\\SIIuno}{[\\ion{S}{II}]\\lambda6716}$\n",
       "$\\newcommand{\\SIIdue}{[\\ion{S}{II}]\\lambda6731}$\n",
       "$\\newcommand{\\SIIdoublet}{[\\ion{S}{II}]\\lambda\\lambda6716,6731}$\n",
       "$\\newcommand{\\OI}{[\\ion{O}{I}]}$\n",
       "$\\newcommand{\\OIII}{[\\ion{O}{III}]}$\n",
       "$\\newcommand{\\NII}{[\\ion{N}{II}]}$\n",
       "$\\newcommand{\\SII}{[\\ion{S}{II}]}$\n",
       "$\\newcommand{\\HII}{H{ \\small II}}$\n",
       "$\\newcommand{\\OIV}{[O{ \\small IV}]}$\n",
       "$\\newcommand{\\HII}{H{ \\small II}}$\n",
       "$\\newcommand{\\NII}{[N{ \\small II}]}$\n",
       "$\\newcommand{\\OIV}{[O{ \\small IV}]}$\n",
       "$\\newcommand{\\Htwo}{H_{ 2}}$</div>\n",
       "\n",
       "\n",
       "\n",
       "<div id=\"title\">\n",
       "\n",
       "# MHONGOOSE discovery of a gas-rich low-surface brightness galaxy in the Dorado Group\n",
       "\n",
       "</div>\n",
       "<div id=\"comments\">\n",
       "\n",
       "[![arXiv](https://img.shields.io/badge/arXiv-2405.17000-b31b1b.svg)](https://arxiv.org/abs/2405.17000)<mark>Appeared on: 2024-05-28</mark> -  _18 pages, 14 figures, 5 tables; accepted for publication in A&A_\n",
       "\n",
       "</div>\n",
       "<div id=\"authors\">\n",
       "\n",
       "F. M. Maccagni, et al. -- incl., <mark>F. Walter</mark>\n",
       "\n",
       "</div>\n",
       "<div id=\"abstract\">\n",
       "\n",
       "**Abstract:** We present the discovery of a low-mass gas-rich low-surface brightness galaxy in the Dorado Group, at a distance of 17.7 Mpc. Combining deep MeerKAT 21-cm observations from the MeerKAT $\\HI$ Observations of Nearby Galactic Objects: Observing Southern Emitters (MHONGOOSE) survey with deep photometric images from the VST Early-type Galaxy Survey (VEGAS) we find a stellar and neutral atomic hydrogen ( $\\HI$ ) gas mass of $M_\\star = 2.23\\times10^6$  $\\msun$ and $\\mhi$ $=1.68\\times10^6$  $\\msun$ , respectively. This low-surface brightness galaxy is the lowest mass $\\HI$ detection found in a group beyond the Local Universe ( $D\\gtrsim 10$ Mpc). The dwarf galaxy has the typical overall properties of gas-rich low surface brightness galaxies in the Local group, but with some striking differences. Namely, the MHONGOOSE observations reveal a very low column density ( $\\sim 10^{18-19}$  $\\cmsq$ ) $\\HI$ disk with asymmetrical morphology possibly supported by rotation and higher velocity dispersion in the centre. There, deep optical photometry and UV-observations suggest a recent enhancement of the star formation. Found at galactocentric distances where in the Local Group dwarf galaxies are depleted of cold gas (at $390$ projected-kpc distance from the group centre), this galaxy is likely on its first orbit within the Dorado group. We discuss the possible environmental effects that may have caused the formation of the $\\HI$ disk and the enhancement of star formation, highlighting the short-lived phase (a few hundreds of Myr) of the gaseous disk, before either SF or hydrodynamical forces will deplete the gas of the galaxy.\n",
       "\n",
       "</div>\n",
       "\n",
       "<div id=\"div_fig1\">\n",
       "\n",
       "<img src=\"tmp_2405.17000/./rgb_cont.png\" alt=\"Fig11\" width=\"100%\"/>\n",
       "\n",
       "**Figure 11. -** Primary beam corrected flux-density $\\HI$ emission detected by $\\meer$ within a $1.5\\times 1.5$ deg$^2$ field centred on $\\nfi$(the imaged f.o.v. is marked by the dashed grey circle), overlaid on the DECaLS optical image in the g,r,z filters. The $\\HI$ emission is a composite of flux-density maps derived from the multi-resolution datacubes. The resolutions shown by coloured contours are $12$\\arcsec$\\times10$\\arcsec(red), $25$\\arcsec$\\times18$\\arcsec(green), $32$\\arcsec$\\times23$\\arcsec(blue), $65$\\arcsec$\\times64$\\arcsec(purple), $94$\\arcsec$\\times92$\\arcsec(yellow-green). For resolutions between $\\sim 90$\\arcsec and $25$\\arcsec two contours are shown, $\\ie$, $\\nhi$$=3\\sigma\\times2^n$ with $n = 0, 2$. The $12$\\arcsec$\\times10$\\arcsec resolution has further increasing contours ($n=0,2,4$...). The PSF of the multi-resolution maps are shown in the bottom-right corner with the same colour coding. Details on the $\\HI$ properties of the sources in the field are given in Table \\ref{tab:masses}.  (*fig:fullFieldCont*)\n",
       "\n",
       "</div>\n",
       "<div id=\"div_fig2\">\n",
       "\n",
       "<img src=\"tmp_2405.17000/./rgba_lsbd_mom0mom1_v5_referee.png\" alt=\"Fig12\" width=\"100%\"/>\n",
       "\n",
       "**Figure 12. -** * Left Panel*: DeCaLS optical image in the $g,r,z$ filters overlaid with the $\\HI$ contours from the $25$\\arcsec$\\times18$\\arcsec datacube used for the analysis in this paper. Levels increase as $4.6\\times10^{18}\\times 2^n$ $\\cmsq$(n=0,1,2,3), where the first contour marks the mean $S/N=3$ detection limit. The PSF is shown in the bottom-right corner. Note the $\\HI$ overlay in color with also the $32\\times23$ $\\arcsec$ map. * Right Panel*: Velocity field of the $\\HI$ gas in $\\lsb$. The systemic velocity ($v_{\\rm sys} = 1214$ $\\kms$) is marked by the thick black iso-velocity contour, the other contour levels are shown in the bottom-left corner. The dashed and dashed-dotted lines mark the directions of the major ($141^\\circ$) and minor axes ($51^\\circ$) of the $\\HI$ disk, respectively (*fig:mom01*)\n",
       "\n",
       "</div>\n",
       "<div id=\"div_fig3\">\n",
       "\n",
       "<img src=\"tmp_2405.17000/./TF-mcG-MgasMstarAAAA_referee.png\" alt=\"Fig6\" width=\"100%\"/>\n",
       "\n",
       "**Figure 6. -** * Top panel*: Gas mass versus stellar mass for a sample of galaxies in the Local Universe.  LITTLE-THINGS, SPARC and THINGS galaxies are marked by triangles (in orange, grey and blue, respectively). Local low surface brightness galaxies (LSBGs) from \\citet[][]{McGaugh:2011,McGaugh:2017,mcGaugh:2021} are in green, and UDGs in cyan. $\\lsb$ is marked by the red circle. The dashed line marks the $1:1$ linear relation. * Bottom panel*: The baryonic Tully–Fisher relation of Local Group dwarf and spiral galaxies \\citep[dashed line][]{mcGaugh:2021}. Symbols are as in the top panel. For the Local LSBGs sample, pressure supported dwarfs (plotted against their velocity dispersion, $\\sigma_v$) are marked by light green squares, while green triangles mark rotationally-supported galaxies, plotted against their rotational velocity $v_{\\rm rot}$. (*fig:TF*)\n",
       "\n",
       "</div><div id=\"qrcode\"><img src=https://api.qrserver.com/v1/create-qr-code/?size=100x100&data=\"https://arxiv.org/abs/2405.17000\"></div>"
      ],
      "text/plain": [
       "<IPython.core.display.Markdown object>"
      ]
     },
     "metadata": {},
     "output_type": "display_data"
    }
   ],
   "source": [
    "[display(Markdown(k[1])) for k in documents];"
   ]
  },
  {
   "cell_type": "markdown",
   "id": "873873a4",
   "metadata": {
    "papermill": {
     "duration": 0.004526,
     "end_time": "2024-05-28T04:11:28.940137",
     "exception": false,
     "start_time": "2024-05-28T04:11:28.935611",
     "status": "completed"
    },
    "tags": []
   },
   "source": [
    "# Create HTML index"
   ]
  },
  {
   "cell_type": "code",
   "execution_count": 10,
   "id": "cf665672",
   "metadata": {
    "execution": {
     "iopub.execute_input": "2024-05-28T04:11:28.949840Z",
     "iopub.status.busy": "2024-05-28T04:11:28.949655Z",
     "iopub.status.idle": "2024-05-28T04:11:28.956581Z",
     "shell.execute_reply": "2024-05-28T04:11:28.956085Z"
    },
    "papermill": {
     "duration": 0.013388,
     "end_time": "2024-05-28T04:11:28.957937",
     "exception": false,
     "start_time": "2024-05-28T04:11:28.944549",
     "status": "completed"
    },
    "tags": []
   },
   "outputs": [
    {
     "name": "stdout",
     "output_type": "stream",
     "text": [
      "79  publications files modified in the last 7 days.\n"
     ]
    }
   ],
   "source": [
    "from datetime import datetime, timedelta, timezone\n",
    "from glob import glob\n",
    "import os\n",
    "\n",
    "files = glob('_build/html/*.md')\n",
    "days = 7\n",
    "now = datetime.today()\n",
    "res = []\n",
    "for fk in files:\n",
    "    stat_result = os.stat(fk).st_ctime\n",
    "    modified = datetime.fromtimestamp(stat_result, tz=timezone.utc).replace(tzinfo=None)\n",
    "    delta = now.today() - modified\n",
    "    if delta <= timedelta(days=days):\n",
    "        res.append((delta.seconds, fk))\n",
    "res = [k[1] for k in reversed(sorted(res, key=lambda x:x[1]))]\n",
    "npub = len(res)\n",
    "print(len(res), f\" publications files modified in the last {days:d} days.\")\n",
    "# [ print('\\t', k) for k in res ];"
   ]
  },
  {
   "cell_type": "code",
   "execution_count": 11,
   "id": "015de740",
   "metadata": {
    "execution": {
     "iopub.execute_input": "2024-05-28T04:11:28.968254Z",
     "iopub.status.busy": "2024-05-28T04:11:28.967861Z",
     "iopub.status.idle": "2024-05-28T04:11:28.978182Z",
     "shell.execute_reply": "2024-05-28T04:11:28.977551Z"
    },
    "papermill": {
     "duration": 0.016988,
     "end_time": "2024-05-28T04:11:28.979542",
     "exception": false,
     "start_time": "2024-05-28T04:11:28.962554",
     "status": "completed"
    },
    "tags": []
   },
   "outputs": [
    {
     "name": "stdout",
     "output_type": "stream",
     "text": [
      "6  publications in the last 7 days.\n"
     ]
    }
   ],
   "source": [
    "import datetime\n",
    "from glob import glob\n",
    "\n",
    "def get_last_n_days(lst, days=1):\n",
    "    \"\"\" Get the documents from the last n days \"\"\"\n",
    "    sorted_lst = sorted(lst, key=lambda x: x[1], reverse=True)\n",
    "    for fname, date in sorted_lst:\n",
    "        if date >= str(datetime.date.today() - datetime.timedelta(days=days)):\n",
    "            yield fname\n",
    "\n",
    "def extract_appearance_dates(lst_file):\n",
    "    dates = []\n",
    "\n",
    "    def get_date(line):\n",
    "        return line\\\n",
    "            .split('Appeared on:')[-1]\\\n",
    "            .split('</mark>')[0].strip()\n",
    "\n",
    "    for fname in lst:\n",
    "        with open(fname, 'r') as f:\n",
    "            found_date = False\n",
    "            for line in f:\n",
    "                if not found_date:\n",
    "                    if \"Appeared on\" in line:\n",
    "                        found_date = True\n",
    "                        dates.append((fname, get_date(line)))\n",
    "                else:\n",
    "                    break\n",
    "    return dates\n",
    "\n",
    "from glob import glob\n",
    "lst = glob('_build/html/*md')\n",
    "days = 7\n",
    "dates = extract_appearance_dates(lst)\n",
    "res = list(get_last_n_days(dates, days))\n",
    "npub = len(res)\n",
    "print(len(res), f\" publications in the last {days:d} days.\")"
   ]
  },
  {
   "cell_type": "code",
   "execution_count": 12,
   "id": "52ca0208",
   "metadata": {
    "execution": {
     "iopub.execute_input": "2024-05-28T04:11:28.990113Z",
     "iopub.status.busy": "2024-05-28T04:11:28.989552Z",
     "iopub.status.idle": "2024-05-28T04:11:28.994460Z",
     "shell.execute_reply": "2024-05-28T04:11:28.993855Z"
    },
    "papermill": {
     "duration": 0.011469,
     "end_time": "2024-05-28T04:11:28.995704",
     "exception": false,
     "start_time": "2024-05-28T04:11:28.984235",
     "status": "completed"
    },
    "scrolled": false,
    "tags": []
   },
   "outputs": [],
   "source": [
    "def create_carousel(npub=4):\n",
    "    \"\"\" Generate the HTML code for a carousel with `npub` slides \"\"\"\n",
    "    carousel = [\"\"\"  <div class=\"carousel\" \"\"\",\n",
    "                \"\"\"       data-flickity='{ \"autoPlay\": 10000, \"adaptiveHeight\": true, \"resize\": true, \"wrapAround\": true, \"pauseAutoPlayOnHover\": true, \"groupCells\": 1 }' id=\"asyncTypeset\">\"\"\"\n",
    "                ]\n",
    "    \n",
    "    item_str = \"\"\"    <div class=\"carousel-cell\"> <div id=\"slide{k}\" class=\"md_view\">Content {k}</div> </div>\"\"\"\n",
    "    for k in range(1, npub + 1):\n",
    "        carousel.append(item_str.format(k=k))\n",
    "    carousel.append(\"  </div>\")\n",
    "    return '\\n'.join(carousel)\n",
    "\n",
    "def create_grid(npub=4):\n",
    "    \"\"\" Generate the HTML code for a flat grid with `npub` slides \"\"\"\n",
    "    grid = [\"\"\"  <div class=\"grid\"> \"\"\",\n",
    "                ]\n",
    "    \n",
    "    item_str = \"\"\"    <div class=\"grid-item\"> <div id=\"slide{k}\" class=\"md_view\">Content {k}</div> </div>\"\"\"\n",
    "    for k in range(1, npub + 1):\n",
    "        grid.append(item_str.format(k=k))\n",
    "    grid.append(\"  </div>\")\n",
    "    return '\\n'.join(grid)"
   ]
  },
  {
   "cell_type": "code",
   "execution_count": 13,
   "id": "a6eac5b6",
   "metadata": {
    "execution": {
     "iopub.execute_input": "2024-05-28T04:11:29.006210Z",
     "iopub.status.busy": "2024-05-28T04:11:29.006030Z",
     "iopub.status.idle": "2024-05-28T04:11:29.010707Z",
     "shell.execute_reply": "2024-05-28T04:11:29.010118Z"
    },
    "papermill": {
     "duration": 0.011687,
     "end_time": "2024-05-28T04:11:29.012086",
     "exception": false,
     "start_time": "2024-05-28T04:11:29.000399",
     "status": "completed"
    },
    "scrolled": false,
    "tags": []
   },
   "outputs": [],
   "source": [
    "carousel = create_carousel(npub)\n",
    "docs = ', '.join(['\"{0:s}\"'.format(k.split('/')[-1]) for k in res])\n",
    "slides = ', '.join([f'\"slide{k}\"' for k in range(1, npub + 1)])\n",
    "\n",
    "with open(\"daily_template.html\", \"r\") as tpl:\n",
    "    page = tpl.read()\n",
    "    page = page.replace(\"{%-- carousel:s --%}\", carousel)\\\n",
    "               .replace(\"{%-- suptitle:s --%}\",  \"7-day archives\" )\\\n",
    "               .replace(\"{%-- docs:s --%}\", docs)\\\n",
    "               .replace(\"{%-- slides:s --%}\", slides)\n",
    "    \n",
    "with open(\"_build/html/index_7days.html\", 'w') as fout:\n",
    "    fout.write(page)"
   ]
  },
  {
   "cell_type": "code",
   "execution_count": 14,
   "id": "adc1a1ec",
   "metadata": {
    "execution": {
     "iopub.execute_input": "2024-05-28T04:11:29.022483Z",
     "iopub.status.busy": "2024-05-28T04:11:29.022139Z",
     "iopub.status.idle": "2024-05-28T04:11:29.028138Z",
     "shell.execute_reply": "2024-05-28T04:11:29.027538Z"
    },
    "papermill": {
     "duration": 0.012644,
     "end_time": "2024-05-28T04:11:29.029464",
     "exception": false,
     "start_time": "2024-05-28T04:11:29.016820",
     "status": "completed"
    },
    "tags": []
   },
   "outputs": [
    {
     "name": "stdout",
     "output_type": "stream",
     "text": [
      "2  publications in the last day.\n"
     ]
    }
   ],
   "source": [
    "# redo for today\n",
    "days = 1\n",
    "res = list(get_last_n_days(dates, days))\n",
    "npub = len(res)\n",
    "print(len(res), f\" publications in the last day.\")\n",
    "\n",
    "carousel = create_carousel(npub)\n",
    "docs = ', '.join(['\"{0:s}\"'.format(k.split('/')[-1]) for k in res])\n",
    "slides = ', '.join([f'\"slide{k}\"' for k in range(1, npub + 1)])\n",
    "\n",
    "with open(\"daily_template.html\", \"r\") as tpl:\n",
    "    page = tpl.read()\n",
    "    page = page.replace(\"{%-- carousel:s --%}\", carousel)\\\n",
    "               .replace(\"{%-- suptitle:s --%}\",  \"Daily\" )\\\n",
    "               .replace(\"{%-- docs:s --%}\", docs)\\\n",
    "               .replace(\"{%-- slides:s --%}\", slides)\n",
    "    \n",
    "# print(carousel, docs, slides)\n",
    "# print(page)\n",
    "with open(\"_build/html/index_daily.html\", 'w') as fout:\n",
    "    fout.write(page)"
   ]
  },
  {
   "cell_type": "code",
   "execution_count": 15,
   "id": "00eece82",
   "metadata": {
    "execution": {
     "iopub.execute_input": "2024-05-28T04:11:29.040271Z",
     "iopub.status.busy": "2024-05-28T04:11:29.039707Z",
     "iopub.status.idle": "2024-05-28T04:11:29.045946Z",
     "shell.execute_reply": "2024-05-28T04:11:29.045411Z"
    },
    "papermill": {
     "duration": 0.013033,
     "end_time": "2024-05-28T04:11:29.047268",
     "exception": false,
     "start_time": "2024-05-28T04:11:29.034235",
     "status": "completed"
    },
    "scrolled": false,
    "tags": []
   },
   "outputs": [
    {
     "name": "stdout",
     "output_type": "stream",
     "text": [
      "6  6 publications selected.\n"
     ]
    }
   ],
   "source": [
    "# Create the flat grid of the last N papers (fixed number regardless of dates)\n",
    "from itertools import islice \n",
    "\n",
    "npub = 6\n",
    "res = [k[0] for k in (islice(reversed(sorted(dates, key=lambda x: x[1])), 6))]\n",
    "print(len(res), f\" {npub} publications selected.\")\n",
    "\n",
    "grid = create_grid(npub)\n",
    "docs = ', '.join(['\"{0:s}\"'.format(k.split('/')[-1]) for k in res])\n",
    "slides = ', '.join([f'\"slide{k}\"' for k in range(1, npub + 1)])\n",
    "\n",
    "with open(\"grid_template.html\", \"r\") as tpl:\n",
    "    page = tpl.read()\n",
    "    page = page.replace(\"{%-- grid-content:s --%}\", grid)\\\n",
    "               .replace(\"{%-- suptitle:s --%}\",  f\"Last {npub:,d} papers\" )\\\n",
    "               .replace(\"{%-- docs:s --%}\", docs)\\\n",
    "               .replace(\"{%-- slides:s --%}\", slides)\n",
    "    \n",
    "# print(grid, docs, slides)\n",
    "# print(page)\n",
    "with open(\"_build/html/index_npub_grid.html\", 'w') as fout:\n",
    "    fout.write(page)"
   ]
  }
 ],
 "metadata": {
  "kernelspec": {
   "display_name": "Python 3 (ipykernel)",
   "language": "python",
   "name": "python3"
  },
  "language_info": {
   "codemirror_mode": {
    "name": "ipython",
    "version": 3
   },
   "file_extension": ".py",
   "mimetype": "text/x-python",
   "name": "python",
   "nbconvert_exporter": "python",
   "pygments_lexer": "ipython3",
   "version": "3.9.19"
  },
  "papermill": {
   "default_parameters": {},
   "duration": 91.074359,
   "end_time": "2024-05-28T04:11:29.268981",
   "environment_variables": {},
   "exception": null,
   "input_path": "MPIA daily digest.ipynb",
   "output_path": "log.ipynb",
   "parameters": {},
   "start_time": "2024-05-28T04:09:58.194622",
   "version": "2.6.0"
  },
  "vscode": {
   "interpreter": {
    "hash": "aee8b7b246df8f9039afb4144a1f6fd8d2ca17a180786b69acc140d282b71a49"
   }
  },
  "widgets": {
   "application/vnd.jupyter.widget-state+json": {
    "state": {
     "0e711c8250f6474f9b3f3c8e96815f40": {
      "model_module": "@jupyter-widgets/controls",
      "model_module_version": "2.0.0",
      "model_name": "HTMLModel",
      "state": {
       "_dom_classes": [],
       "_model_module": "@jupyter-widgets/controls",
       "_model_module_version": "2.0.0",
       "_model_name": "HTMLModel",
       "_view_count": null,
       "_view_module": "@jupyter-widgets/controls",
       "_view_module_version": "2.0.0",
       "_view_name": "HTMLView",
       "description": "",
       "description_allow_html": false,
       "layout": "IPY_MODEL_afbbf6b731774c7381eb72fe65415329",
       "placeholder": "​",
       "style": "IPY_MODEL_e7f2d418a74c4a538272cafc6a1be2a6",
       "tabbable": null,
       "tooltip": null,
       "value": "100%"
      }
     },
     "22ad142fd18c462c98f96ae92383ef4b": {
      "model_module": "@jupyter-widgets/controls",
      "model_module_version": "2.0.0",
      "model_name": "HTMLStyleModel",
      "state": {
       "_model_module": "@jupyter-widgets/controls",
       "_model_module_version": "2.0.0",
       "_model_name": "HTMLStyleModel",
       "_view_count": null,
       "_view_module": "@jupyter-widgets/base",
       "_view_module_version": "2.0.0",
       "_view_name": "StyleView",
       "background": null,
       "description_width": "",
       "font_size": null,
       "text_color": null
      }
     },
     "54ffdc8dff874e12b9fd24c31721bafa": {
      "model_module": "@jupyter-widgets/base",
      "model_module_version": "2.0.0",
      "model_name": "LayoutModel",
      "state": {
       "_model_module": "@jupyter-widgets/base",
       "_model_module_version": "2.0.0",
       "_model_name": "LayoutModel",
       "_view_count": null,
       "_view_module": "@jupyter-widgets/base",
       "_view_module_version": "2.0.0",
       "_view_name": "LayoutView",
       "align_content": null,
       "align_items": null,
       "align_self": null,
       "border_bottom": null,
       "border_left": null,
       "border_right": null,
       "border_top": null,
       "bottom": null,
       "display": null,
       "flex": null,
       "flex_flow": null,
       "grid_area": null,
       "grid_auto_columns": null,
       "grid_auto_flow": null,
       "grid_auto_rows": null,
       "grid_column": null,
       "grid_gap": null,
       "grid_row": null,
       "grid_template_areas": null,
       "grid_template_columns": null,
       "grid_template_rows": null,
       "height": null,
       "justify_content": null,
       "justify_items": null,
       "left": null,
       "margin": null,
       "max_height": null,
       "max_width": null,
       "min_height": null,
       "min_width": null,
       "object_fit": null,
       "object_position": null,
       "order": null,
       "overflow": null,
       "padding": null,
       "right": null,
       "top": null,
       "visibility": null,
       "width": null
      }
     },
     "afbbf6b731774c7381eb72fe65415329": {
      "model_module": "@jupyter-widgets/base",
      "model_module_version": "2.0.0",
      "model_name": "LayoutModel",
      "state": {
       "_model_module": "@jupyter-widgets/base",
       "_model_module_version": "2.0.0",
       "_model_name": "LayoutModel",
       "_view_count": null,
       "_view_module": "@jupyter-widgets/base",
       "_view_module_version": "2.0.0",
       "_view_name": "LayoutView",
       "align_content": null,
       "align_items": null,
       "align_self": null,
       "border_bottom": null,
       "border_left": null,
       "border_right": null,
       "border_top": null,
       "bottom": null,
       "display": null,
       "flex": null,
       "flex_flow": null,
       "grid_area": null,
       "grid_auto_columns": null,
       "grid_auto_flow": null,
       "grid_auto_rows": null,
       "grid_column": null,
       "grid_gap": null,
       "grid_row": null,
       "grid_template_areas": null,
       "grid_template_columns": null,
       "grid_template_rows": null,
       "height": null,
       "justify_content": null,
       "justify_items": null,
       "left": null,
       "margin": null,
       "max_height": null,
       "max_width": null,
       "min_height": null,
       "min_width": null,
       "object_fit": null,
       "object_position": null,
       "order": null,
       "overflow": null,
       "padding": null,
       "right": null,
       "top": null,
       "visibility": null,
       "width": null
      }
     },
     "ca2bb94b3474487e96b339b246285b71": {
      "model_module": "@jupyter-widgets/base",
      "model_module_version": "2.0.0",
      "model_name": "LayoutModel",
      "state": {
       "_model_module": "@jupyter-widgets/base",
       "_model_module_version": "2.0.0",
       "_model_name": "LayoutModel",
       "_view_count": null,
       "_view_module": "@jupyter-widgets/base",
       "_view_module_version": "2.0.0",
       "_view_name": "LayoutView",
       "align_content": null,
       "align_items": null,
       "align_self": null,
       "border_bottom": null,
       "border_left": null,
       "border_right": null,
       "border_top": null,
       "bottom": null,
       "display": null,
       "flex": null,
       "flex_flow": null,
       "grid_area": null,
       "grid_auto_columns": null,
       "grid_auto_flow": null,
       "grid_auto_rows": null,
       "grid_column": null,
       "grid_gap": null,
       "grid_row": null,
       "grid_template_areas": null,
       "grid_template_columns": null,
       "grid_template_rows": null,
       "height": null,
       "justify_content": null,
       "justify_items": null,
       "left": null,
       "margin": null,
       "max_height": null,
       "max_width": null,
       "min_height": null,
       "min_width": null,
       "object_fit": null,
       "object_position": null,
       "order": null,
       "overflow": null,
       "padding": null,
       "right": null,
       "top": null,
       "visibility": null,
       "width": null
      }
     },
     "d66c1e26468b46008810745dabd417f8": {
      "model_module": "@jupyter-widgets/controls",
      "model_module_version": "2.0.0",
      "model_name": "HTMLModel",
      "state": {
       "_dom_classes": [],
       "_model_module": "@jupyter-widgets/controls",
       "_model_module_version": "2.0.0",
       "_model_name": "HTMLModel",
       "_view_count": null,
       "_view_module": "@jupyter-widgets/controls",
       "_view_module_version": "2.0.0",
       "_view_name": "HTMLView",
       "description": "",
       "description_allow_html": false,
       "layout": "IPY_MODEL_dd2cc1db77a34382b162ab88368e6234",
       "placeholder": "​",
       "style": "IPY_MODEL_22ad142fd18c462c98f96ae92383ef4b",
       "tabbable": null,
       "tooltip": null,
       "value": " 3/3 [01:12&lt;00:00, 23.10s/it]"
      }
     },
     "dc038939a8794ad2b68fdf7ba7156c01": {
      "model_module": "@jupyter-widgets/controls",
      "model_module_version": "2.0.0",
      "model_name": "ProgressStyleModel",
      "state": {
       "_model_module": "@jupyter-widgets/controls",
       "_model_module_version": "2.0.0",
       "_model_name": "ProgressStyleModel",
       "_view_count": null,
       "_view_module": "@jupyter-widgets/base",
       "_view_module_version": "2.0.0",
       "_view_name": "StyleView",
       "bar_color": null,
       "description_width": ""
      }
     },
     "dd2cc1db77a34382b162ab88368e6234": {
      "model_module": "@jupyter-widgets/base",
      "model_module_version": "2.0.0",
      "model_name": "LayoutModel",
      "state": {
       "_model_module": "@jupyter-widgets/base",
       "_model_module_version": "2.0.0",
       "_model_name": "LayoutModel",
       "_view_count": null,
       "_view_module": "@jupyter-widgets/base",
       "_view_module_version": "2.0.0",
       "_view_name": "LayoutView",
       "align_content": null,
       "align_items": null,
       "align_self": null,
       "border_bottom": null,
       "border_left": null,
       "border_right": null,
       "border_top": null,
       "bottom": null,
       "display": null,
       "flex": null,
       "flex_flow": null,
       "grid_area": null,
       "grid_auto_columns": null,
       "grid_auto_flow": null,
       "grid_auto_rows": null,
       "grid_column": null,
       "grid_gap": null,
       "grid_row": null,
       "grid_template_areas": null,
       "grid_template_columns": null,
       "grid_template_rows": null,
       "height": null,
       "justify_content": null,
       "justify_items": null,
       "left": null,
       "margin": null,
       "max_height": null,
       "max_width": null,
       "min_height": null,
       "min_width": null,
       "object_fit": null,
       "object_position": null,
       "order": null,
       "overflow": null,
       "padding": null,
       "right": null,
       "top": null,
       "visibility": null,
       "width": null
      }
     },
     "e652ce8d33d14391a9d3c0a9917c9f6f": {
      "model_module": "@jupyter-widgets/controls",
      "model_module_version": "2.0.0",
      "model_name": "FloatProgressModel",
      "state": {
       "_dom_classes": [],
       "_model_module": "@jupyter-widgets/controls",
       "_model_module_version": "2.0.0",
       "_model_name": "FloatProgressModel",
       "_view_count": null,
       "_view_module": "@jupyter-widgets/controls",
       "_view_module_version": "2.0.0",
       "_view_name": "ProgressView",
       "bar_style": "success",
       "description": "",
       "description_allow_html": false,
       "layout": "IPY_MODEL_ca2bb94b3474487e96b339b246285b71",
       "max": 3.0,
       "min": 0.0,
       "orientation": "horizontal",
       "style": "IPY_MODEL_dc038939a8794ad2b68fdf7ba7156c01",
       "tabbable": null,
       "tooltip": null,
       "value": 3.0
      }
     },
     "e7f2d418a74c4a538272cafc6a1be2a6": {
      "model_module": "@jupyter-widgets/controls",
      "model_module_version": "2.0.0",
      "model_name": "HTMLStyleModel",
      "state": {
       "_model_module": "@jupyter-widgets/controls",
       "_model_module_version": "2.0.0",
       "_model_name": "HTMLStyleModel",
       "_view_count": null,
       "_view_module": "@jupyter-widgets/base",
       "_view_module_version": "2.0.0",
       "_view_name": "StyleView",
       "background": null,
       "description_width": "",
       "font_size": null,
       "text_color": null
      }
     },
     "ffc51fb26ecd4b86be94f4ab41e29c4d": {
      "model_module": "@jupyter-widgets/controls",
      "model_module_version": "2.0.0",
      "model_name": "HBoxModel",
      "state": {
       "_dom_classes": [],
       "_model_module": "@jupyter-widgets/controls",
       "_model_module_version": "2.0.0",
       "_model_name": "HBoxModel",
       "_view_count": null,
       "_view_module": "@jupyter-widgets/controls",
       "_view_module_version": "2.0.0",
       "_view_name": "HBoxView",
       "box_style": "",
       "children": [
        "IPY_MODEL_0e711c8250f6474f9b3f3c8e96815f40",
        "IPY_MODEL_e652ce8d33d14391a9d3c0a9917c9f6f",
        "IPY_MODEL_d66c1e26468b46008810745dabd417f8"
       ],
       "layout": "IPY_MODEL_54ffdc8dff874e12b9fd24c31721bafa",
       "tabbable": null,
       "tooltip": null
      }
     }
    },
    "version_major": 2,
    "version_minor": 0
   }
  }
 },
 "nbformat": 4,
 "nbformat_minor": 5
}