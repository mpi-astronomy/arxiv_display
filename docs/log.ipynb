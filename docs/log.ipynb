{
 "cells": [
  {
   "cell_type": "markdown",
   "id": "92bcb855",
   "metadata": {
    "papermill": {
     "duration": 0.003924,
     "end_time": "2025-08-05T04:39:31.237334",
     "exception": false,
     "start_time": "2025-08-05T04:39:31.233410",
     "status": "completed"
    },
    "tags": []
   },
   "source": [
    "# MPIA Arxiv on Deck 2\n",
    "\n",
    "Contains the steps to produce the paper extractions."
   ]
  },
  {
   "cell_type": "code",
   "execution_count": 1,
   "id": "3a0d6e11",
   "metadata": {
    "execution": {
     "iopub.execute_input": "2025-08-05T04:39:31.244949Z",
     "iopub.status.busy": "2025-08-05T04:39:31.244605Z",
     "iopub.status.idle": "2025-08-05T04:39:31.474341Z",
     "shell.execute_reply": "2025-08-05T04:39:31.473664Z"
    },
    "papermill": {
     "duration": 0.234946,
     "end_time": "2025-08-05T04:39:31.475647",
     "exception": false,
     "start_time": "2025-08-05T04:39:31.240701",
     "status": "completed"
    },
    "tags": []
   },
   "outputs": [],
   "source": [
    "# Imports\n",
    "import os\n",
    "from IPython.display import Markdown, display\n",
    "from tqdm.notebook import tqdm\n",
    "import warnings\n",
    "from PIL import Image \n",
    "import re\n",
    "\n",
    "# requires arxiv_on_deck_2\n",
    "\n",
    "from arxiv_on_deck_2.arxiv2 import (get_new_papers, \n",
    "                                    get_paper_from_identifier,\n",
    "                                    retrieve_document_source, \n",
    "                                    get_markdown_badge)\n",
    "from arxiv_on_deck_2 import (latex,\n",
    "                             latex_bib,\n",
    "                             mpia,\n",
    "                             highlight_authors_in_list)\n",
    "\n",
    "# Sometimes images are really big\n",
    "Image.MAX_IMAGE_PIXELS = 1000000000 "
   ]
  },
  {
   "cell_type": "code",
   "execution_count": 2,
   "id": "22aa9d44",
   "metadata": {
    "execution": {
     "iopub.execute_input": "2025-08-05T04:39:31.482859Z",
     "iopub.status.busy": "2025-08-05T04:39:31.482624Z",
     "iopub.status.idle": "2025-08-05T04:39:31.490341Z",
     "shell.execute_reply": "2025-08-05T04:39:31.489815Z"
    },
    "papermill": {
     "duration": 0.012442,
     "end_time": "2025-08-05T04:39:31.491369",
     "exception": false,
     "start_time": "2025-08-05T04:39:31.478927",
     "status": "completed"
    },
    "tags": []
   },
   "outputs": [],
   "source": [
    "# Some useful definitions.\n",
    "\n",
    "class AffiliationWarning(UserWarning):\n",
    "    pass\n",
    "\n",
    "class AffiliationError(RuntimeError):\n",
    "    pass\n",
    "\n",
    "def validation(source: str):\n",
    "    \"\"\"Raises error paper during parsing of source file\n",
    "    \n",
    "    Allows checks before parsing TeX code.\n",
    "    \n",
    "    Raises AffiliationWarning\n",
    "    \"\"\"\n",
    "    check = mpia.affiliation_verifications(source, verbose=True)\n",
    "    if check is not True:\n",
    "        raise AffiliationError(\"mpia.affiliation_verifications: \" + check)\n",
    "\n",
    "        \n",
    "warnings.simplefilter('always', AffiliationWarning)\n",
    "\n",
    "\n",
    "def get_markdown_qrcode(paper_id: str):\n",
    "    \"\"\" Generate a qrcode to the arxiv page using qrserver.com\n",
    "    \n",
    "    :param paper: Arxiv paper\n",
    "    :returns: markdown text\n",
    "    \"\"\"\n",
    "    url = r\"https://api.qrserver.com/v1/create-qr-code/?size=100x100&data=\"\n",
    "    txt = f\"\"\"<img src={url}\"https://arxiv.org/abs/{paper_id}\">\"\"\"\n",
    "    txt = '<div id=\"qrcode\">' + txt + '</div>'\n",
    "    return txt\n",
    "\n",
    "\n",
    "def clean_non_western_encoded_characters_commands(text: str) -> str:\n",
    "    \"\"\" Remove non-western encoded characters from a string\n",
    "    List may need to grow.\n",
    "    \n",
    "    :param text: the text to clean\n",
    "    :return: the cleaned text\n",
    "    \"\"\"\n",
    "    text = re.sub(r\"(\\\\begin{CJK}{UTF8}{gbsn})(.*?)(\\\\end{CJK})\", r\"\\2\", text)\n",
    "    return text\n",
    "\n",
    "\n",
    "def get_initials(name: str) -> str:\n",
    "    \"\"\" Get the short name, e.g., A.-B. FamName\n",
    "    :param name: full name\n",
    "    :returns: initials\n",
    "    \"\"\"\n",
    "    initials = []\n",
    "    # account for non western names often in ()\n",
    "    if '(' in name:\n",
    "        name = clean_non_western_encoded_characters_commands(name)\n",
    "        suffix = re.findall(r\"\\((.*?)\\)\", name)[0]\n",
    "        name = name.replace(f\"({suffix})\", '')\n",
    "    else:\n",
    "        suffix = ''\n",
    "    split = name.split()\n",
    "    for token in split[:-1]:\n",
    "        if '-' in token:\n",
    "            current = '-'.join([k[0] + '.' for k in token.split('-')])\n",
    "        else:\n",
    "            current = token[0] + '.'\n",
    "        initials.append(current)\n",
    "    initials.append(split[-1].strip())\n",
    "    if suffix:\n",
    "        initials.append(f\"({suffix})\")\n",
    "    return ' '.join(initials)"
   ]
  },
  {
   "cell_type": "markdown",
   "id": "14bd6310",
   "metadata": {
    "papermill": {
     "duration": 0.002973,
     "end_time": "2025-08-05T04:39:31.497352",
     "exception": false,
     "start_time": "2025-08-05T04:39:31.494379",
     "status": "completed"
    },
    "tags": []
   },
   "source": [
    "## get list of arxiv paper candidates\n",
    "\n",
    "We use the MPIA mitarbeiter list webpage from mpia.de to get author names\n",
    "We then get all new papers from Arxiv and match authors"
   ]
  },
  {
   "cell_type": "code",
   "execution_count": 3,
   "id": "7ea813a8",
   "metadata": {
    "execution": {
     "iopub.execute_input": "2025-08-05T04:39:31.504141Z",
     "iopub.status.busy": "2025-08-05T04:39:31.503888Z",
     "iopub.status.idle": "2025-08-05T04:39:53.753174Z",
     "shell.execute_reply": "2025-08-05T04:39:53.752565Z"
    },
    "papermill": {
     "duration": 22.254198,
     "end_time": "2025-08-05T04:39:53.754448",
     "exception": false,
     "start_time": "2025-08-05T04:39:31.500250",
     "status": "completed"
    },
    "tags": []
   },
   "outputs": [],
   "source": [
    "# deal with the author list and edge cases of people that cannot be consistent on their name  \n",
    "\n",
    "def filter_non_scientists(name: str) -> bool:\n",
    "    \"\"\" Loose filter on expected authorships\n",
    "\n",
    "    removing IT, administration, technical staff\n",
    "    :param name: name\n",
    "    :returns: False if name is not a scientist\n",
    "    \"\"\"\n",
    "    remove_list = ['Licht', 'Binroth', 'Witzel', 'Jordan',\n",
    "                   'Zähringer', 'Scheerer', 'Hoffmann', 'Düe',\n",
    "                   'Hellmich', 'Enkler-Scharpegge', 'Witte-Nguy',\n",
    "                   'Dehen', 'Beckmann', 'Jager', 'Jäger'\n",
    "                  ]\n",
    "\n",
    "    for k in remove_list:\n",
    "        if k in name:\n",
    "            return False\n",
    "    return True\n",
    "\n",
    "def add_author_to_list(author_list: list) -> list:\n",
    "    \"\"\" Add author to list if not already in list\n",
    "    \n",
    "    :param author: author name\n",
    "    :param author_list: list of authors\n",
    "    :returns: updated list of authors\n",
    "    \"\"\"\n",
    "    add_list = ['T. Henning']\n",
    "\n",
    "    for author in add_list:\n",
    "        if author not in author_list:\n",
    "            author_list.append(author)\n",
    "    return author_list\n",
    "\n",
    "# get list from MPIA website\n",
    "# filter for non-scientists (mpia.get_mpia_mitarbeiter_list() does some filtering)\n",
    "mpia_authors = [k[1] for k in mpia.get_mpia_mitarbeiter_list() if filter_non_scientists(k[1])]\n",
    "# add some missing author because of inconsistencies in their MPIA name and author name on papers\n",
    "mpia_authors = add_author_to_list(mpia_authors)"
   ]
  },
  {
   "cell_type": "code",
   "execution_count": 4,
   "id": "2645e73a",
   "metadata": {
    "execution": {
     "iopub.execute_input": "2025-08-05T04:39:53.761587Z",
     "iopub.status.busy": "2025-08-05T04:39:53.761362Z",
     "iopub.status.idle": "2025-08-05T04:39:54.525651Z",
     "shell.execute_reply": "2025-08-05T04:39:54.524887Z"
    },
    "papermill": {
     "duration": 0.769051,
     "end_time": "2025-08-05T04:39:54.526840",
     "exception": false,
     "start_time": "2025-08-05T04:39:53.757789",
     "status": "completed"
    },
    "tags": []
   },
   "outputs": [
    {
     "name": "stdout",
     "output_type": "stream",
     "text": [
      "H.-W. Rix  ->  H.-W. Rix  |  ['H.-W. Rix']\n",
      "J. Li  ->  J. Li  |  ['J. Li']\n",
      "Y. Wang  ->  Y. Wang  |  ['Y. Wang']\n",
      "J. Liu  ->  J. Liu  |  ['J. Liu']\n",
      "J. Li  ->  J. Li  |  ['J. Li']\n"
     ]
    },
    {
     "name": "stdout",
     "output_type": "stream",
     "text": [
      "J. Li  ->  J. Li  |  ['J. Li']\n",
      "T. Henning  ->  T. Henning  |  ['T. Henning']\n",
      "G. Perotti  ->  G. Perotti  |  ['G. Perotti']\n",
      "K. Schwarz  ->  K. Schwarz  |  ['K. Schwarz']\n",
      "A. Somigliana  ->  A. Somigliana  |  ['A. Somigliana']\n",
      "Arxiv has 80 new papers today\n",
      "          6 with possible author matches\n"
     ]
    }
   ],
   "source": [
    "new_papers = get_new_papers()\n",
    "# add manual references\n",
    "add_paper_refs = []\n",
    "new_papers.extend([get_paper_from_identifier(k) for k in add_paper_refs])\n",
    "\n",
    "def robust_call(fn, value, *args, **kwargs):\n",
    "    try:\n",
    "        return fn(value, *args, **kwargs)\n",
    "    except Exception:\n",
    "        return value\n",
    "\n",
    "candidates = []\n",
    "for paperk in new_papers:\n",
    "    # Check author list with their initials\n",
    "    normed_author_list = [robust_call(mpia.get_initials, k) for k in paperk['authors']]\n",
    "    hl_authors = highlight_authors_in_list(normed_author_list, mpia_authors, verbose=True)\n",
    "    matches = [(hl, orig) for hl, orig in zip(hl_authors, paperk['authors']) if 'mark' in hl]\n",
    "    paperk['authors'] = hl_authors\n",
    "    if matches:\n",
    "        # only select paper if an author matched our list\n",
    "        candidates.append(paperk)\n",
    "print(\"\"\"Arxiv has {0:,d} new papers today\"\"\".format(len(new_papers)))        \n",
    "print(\"\"\"          {0:,d} with possible author matches\"\"\".format(len(candidates)))"
   ]
  },
  {
   "cell_type": "markdown",
   "id": "3543b34a",
   "metadata": {
    "papermill": {
     "duration": 0.003124,
     "end_time": "2025-08-05T04:39:54.533530",
     "exception": false,
     "start_time": "2025-08-05T04:39:54.530406",
     "status": "completed"
    },
    "tags": []
   },
   "source": [
    "# Parse sources and generate relevant outputs\n",
    "\n",
    "From the candidates, we do the following steps:\n",
    "* get their tarball from ArXiv (and extract data)\n",
    "* find the main .tex file: find one with \\documentclass{...} (sometimes it's non trivial)\n",
    "* Check affiliations with :func:`validation`, which uses :func:`mpia.affiliation_verifications`\n",
    "* If passing the affiliations: we parse the .tex source\n",
    "   * inject sub-documents into the main (flatten the main document)\n",
    "   * parse structure, extract information (title, abstract, authors, figures...)\n",
    "   * handles `\\graphicspath` if provided\n",
    "* Generate the .md document."
   ]
  },
  {
   "cell_type": "code",
   "execution_count": 5,
   "id": "9576b79e",
   "metadata": {
    "execution": {
     "iopub.execute_input": "2025-08-05T04:39:54.540476Z",
     "iopub.status.busy": "2025-08-05T04:39:54.540272Z",
     "iopub.status.idle": "2025-08-05T04:40:56.577460Z",
     "shell.execute_reply": "2025-08-05T04:40:56.576574Z"
    },
    "papermill": {
     "duration": 62.045812,
     "end_time": "2025-08-05T04:40:56.582387",
     "exception": false,
     "start_time": "2025-08-05T04:39:54.536575",
     "status": "completed"
    },
    "scrolled": false,
    "tags": []
   },
   "outputs": [
    {
     "data": {
      "application/vnd.jupyter.widget-view+json": {
       "model_id": "4ce861d46fb64ef2add7ad0c9e19f441",
       "version_major": 2,
       "version_minor": 0
      },
      "text/plain": [
       "  0%|          | 0/6 [00:00<?, ?it/s]"
      ]
     },
     "metadata": {},
     "output_type": "display_data"
    },
    {
     "name": "stdout",
     "output_type": "stream",
     "text": [
      "Retrieving document from  https://arxiv.org/e-print/2508.00978\n"
     ]
    },
    {
     "name": "stdout",
     "output_type": "stream",
     "text": [
      "extracting tarball to tmp_2508.00978..."
     ]
    },
    {
     "name": "stdout",
     "output_type": "stream",
     "text": [
      " done.\n",
      "  0: tmp_2508.00978/aassymbols.tex, 579 lines\n",
      "  1: tmp_2508.00978/ms.tex, 1,191 lines\n"
     ]
    },
    {
     "name": "stderr",
     "output_type": "stream",
     "text": [
      "/opt/hostedtoolcache/Python/3.9.23/x64/lib/python3.9/site-packages/IPython/core/interactiveshell.py:3550: LatexWarning: Multiple tex files.\n",
      "\n",
      "  exec(code_obj, self.user_global_ns, self.user_ns)\n",
      "/opt/hostedtoolcache/Python/3.9.23/x64/lib/python3.9/site-packages/IPython/core/interactiveshell.py:3550: LatexWarning: Found 2 candidates with documentclass definition.\n",
      "  exec(code_obj, self.user_global_ns, self.user_ns)\n",
      "/opt/hostedtoolcache/Python/3.9.23/x64/lib/python3.9/site-packages/IPython/core/interactiveshell.py:3550: LatexWarning: Assuming tmp_2508.00978/ms.tex as main document.\n",
      "  exec(code_obj, self.user_global_ns, self.user_ns)\n"
     ]
    },
    {
     "name": "stdout",
     "output_type": "stream",
     "text": [
      "H.-W. Rix  ->  H.-W. Rix  |  ['H.-W. Rix']\n"
     ]
    },
    {
     "name": "stdout",
     "output_type": "stream",
     "text": [
      "Found 180 bibliographic references in tmp_2508.00978/ms.bbl.\n",
      "Issues with the citations\n",
      "syntax error in line 25: '=' expected\n",
      "Retrieving document from  https://arxiv.org/e-print/2508.01413\n"
     ]
    },
    {
     "name": "stdout",
     "output_type": "stream",
     "text": [
      "extracting tarball to tmp_2508.01413... done.\n",
      "Retrieving document from  https://arxiv.org/e-print/2508.01428\n",
      "extracting tarball to tmp_2508.01428..."
     ]
    },
    {
     "name": "stdout",
     "output_type": "stream",
     "text": [
      " done.\n",
      "Retrieving document from  https://arxiv.org/e-print/2508.01596\n",
      "extracting tarball to tmp_2508.01596... done.\n",
      "Retrieving document from  https://arxiv.org/e-print/2508.02162\n"
     ]
    },
    {
     "name": "stdout",
     "output_type": "stream",
     "text": [
      "extracting tarball to tmp_2508.02162... done.\n",
      "Retrieving document from  https://arxiv.org/e-print/2508.02576\n"
     ]
    },
    {
     "name": "stdout",
     "output_type": "stream",
     "text": [
      "extracting tarball to tmp_2508.02576..."
     ]
    },
    {
     "name": "stdout",
     "output_type": "stream",
     "text": [
      " done.\n"
     ]
    },
    {
     "name": "stdout",
     "output_type": "stream",
     "text": [
      "T. Henning  ->  T. Henning  |  ['T. Henning']\n",
      "G. Perotti  ->  G. Perotti  |  ['G. Perotti']\n",
      "K. Schwarz  ->  K. Schwarz  |  ['K. Schwarz']\n",
      "A. Somigliana  ->  A. Somigliana  |  ['A. Somigliana']\n"
     ]
    },
    {
     "name": "stdout",
     "output_type": "stream",
     "text": [
      "Found 155 bibliographic references in tmp_2508.02576/main.bbl.\n",
      "Issues with the citations\n",
      "syntax error in line 88: '=' expected\n"
     ]
    }
   ],
   "source": [
    "documents = []\n",
    "failed = []\n",
    "for paper in tqdm(candidates):\n",
    "    # debug crap\n",
    "    paper['identifier'] = paper['identifier'].lower().replace('arxiv:', '').replace(r'\\n', '').strip()\n",
    "    paper_id = paper['identifier']\n",
    "    \n",
    "    folder = f'tmp_{paper_id}'\n",
    "\n",
    "    try:\n",
    "        if not os.path.isdir(folder):\n",
    "            folder = retrieve_document_source(f\"{paper_id}\", f'tmp_{paper_id}')\n",
    "        \n",
    "        try:\n",
    "            doc = latex.LatexDocument(folder, validation=validation)    \n",
    "        except AffiliationError as affilerror:\n",
    "            msg = f\"ArXiv:{paper_id:s} is not an MPIA paper... \" + str(affilerror)\n",
    "            failed.append((paper, \"affiliation error: \" + str(affilerror) ))\n",
    "            continue\n",
    "        \n",
    "        # Hack because sometimes author parsing does not work well\n",
    "        if (len(doc.authors) != len(paper['authors'])):\n",
    "            doc._authors = paper['authors']\n",
    "        else:\n",
    "            # highlight authors (FIXME: doc.highlight_authors)\n",
    "            # done on arxiv paper already\n",
    "            doc._authors = highlight_authors_in_list(\n",
    "                [get_initials(k) for k in doc.authors], \n",
    "                mpia_authors, verbose=True)\n",
    "        if (doc.abstract) in (None, ''):\n",
    "            doc._abstract = paper['abstract']\n",
    "            \n",
    "        doc.comment = (get_markdown_badge(paper_id) + \n",
    "                       \"<mark>Appeared on: \" + paper['date'] + \"</mark> - \")\n",
    "        if paper['comments']:\n",
    "            doc.comment += \" _\" + paper['comments'] + \"_\"\n",
    "        \n",
    "        full_md = doc.generate_markdown_text()\n",
    "        \n",
    "        full_md += get_markdown_qrcode(paper_id)\n",
    "        \n",
    "        # replace citations\n",
    "        try:\n",
    "            bibdata = latex_bib.LatexBib.from_doc(doc)\n",
    "            full_md = latex_bib.replace_citations(full_md, bibdata)\n",
    "        except Exception as e:\n",
    "            print(\"Issues with the citations\")\n",
    "            print(e)\n",
    "        \n",
    "        documents.append((paper_id, full_md))\n",
    "    except Exception as e:\n",
    "        warnings.warn(latex.LatexWarning(f\"{paper_id:s} did not run properly\\n\" +\n",
    "                                         str(e)\n",
    "                                        ))\n",
    "        failed.append((paper, \"latex error \" + str(e)))"
   ]
  },
  {
   "cell_type": "markdown",
   "id": "2505a25c",
   "metadata": {
    "papermill": {
     "duration": 0.003818,
     "end_time": "2025-08-05T04:40:56.590152",
     "exception": false,
     "start_time": "2025-08-05T04:40:56.586334",
     "status": "completed"
    },
    "tags": []
   },
   "source": [
    "### Export the logs\n",
    "\n",
    "Throughout, we also keep track of the logs per paper. see `logs-{today date}.md` "
   ]
  },
  {
   "cell_type": "code",
   "execution_count": 6,
   "id": "d733828a",
   "metadata": {
    "execution": {
     "iopub.execute_input": "2025-08-05T04:40:56.598617Z",
     "iopub.status.busy": "2025-08-05T04:40:56.598404Z",
     "iopub.status.idle": "2025-08-05T04:40:56.615896Z",
     "shell.execute_reply": "2025-08-05T04:40:56.615345Z"
    },
    "papermill": {
     "duration": 0.022981,
     "end_time": "2025-08-05T04:40:56.616880",
     "exception": false,
     "start_time": "2025-08-05T04:40:56.593899",
     "status": "completed"
    },
    "scrolled": false,
    "tags": []
   },
   "outputs": [
    {
     "data": {
      "text/markdown": [
       "## Successful papers"
      ],
      "text/plain": [
       "<IPython.core.display.Markdown object>"
      ]
     },
     "metadata": {},
     "output_type": "display_data"
    },
    {
     "data": {
      "text/markdown": [
       "\n",
       "|||\n",
       "|---:|:---|\n",
       "| [![arXiv](https://img.shields.io/badge/arXiv-2508.00978-b31b1b.svg)](https://arxiv.org/abs/2508.00978) | **Mapping the Distant and Metal-Poor Milky Way with SDSS-V**  |\n",
       "|| V. Chandra, et al. -- incl., <mark>H.-W. Rix</mark> |\n",
       "|*Appeared on*| *2025-08-05*|\n",
       "|*Comments*| *31 pages, 19 figures; Submitted to AAS Journals;*|\n",
       "|**Abstract**|            The fifth-generation Sloan Digital Sky Survey (SDSS-V) is conducting the first all-sky low-resolution spectroscopic survey of the Milky Way's stellar halo. We describe the stellar parameter pipeline for the SDSS-V halo survey, which simultaneously models spectra, broadband photometry, and parallaxes to derive stellar parameters, metallicities, alpha abundances, and distances. The resulting BOSS-MINESweeper catalog is validated across a wide range of stellar parameters and metallicities using star clusters and a comparison to high-resolution spectroscopic surveys. We demonstrate several scientific capabilities of this dataset: identifying the most chemically peculiar stars in our Galaxy, discovering and mapping distant halo substructures, and measuring the all--sky dynamics of the Milky Way on the largest scales. The BOSS-MINESweeper catalog for SDSS DR19 is publicly available and will be updated for future data releases.         |"
      ],
      "text/plain": [
       "[2508.00978] Mapping the Distant and Metal-Poor Milky Way with SDSS-V\n",
       "\tV. Chandra, et al. -- incl., <mark>H.-W. Rix</mark>"
      ]
     },
     "metadata": {},
     "output_type": "display_data"
    },
    {
     "data": {
      "text/markdown": [
       "\n",
       "|||\n",
       "|---:|:---|\n",
       "| [![arXiv](https://img.shields.io/badge/arXiv-2508.02576-b31b1b.svg)](https://arxiv.org/abs/2508.02576) | **MINDS. Young binary systems with JWST/MIRI: Variable water-rich primaries and extended emission**  |\n",
       "|| N. T. Kurtovic, et al. -- incl., <mark>T. Henning</mark>, <mark>G. Perotti</mark>, <mark>K. Schwarz</mark>, <mark>A. Somigliana</mark> |\n",
       "|*Appeared on*| *2025-08-05*|\n",
       "|*Comments*| *Accepted for publication in A&A, 26 pages, 20 Figures. Shortened abstract in arxiv*|\n",
       "|**Abstract**|            As part of the JWST GTO program MINDS, we analyze the mid-infrared emission of three Class II binary systems: VW Cha, WX Cha, and RW Aur, to investigate the impact of stellar multiplicity on the chemistry and physics of their inner disk. We analyze the 1D spectrum from JWST/MIRI-MRS for primary and secondary disks separately, extracted by combining forward modeling with a theoretical PSF and aperture photometry. We modeled the molecular lines with 0D slab models. We interpret the results by comparing our JWST spectra to VLT/CRIRES+, Spitzer/IRS, and ALMA. Primary and secondary disks are dramatically different in their mid-infrared emission, with primary disks showing H2O-rich spectra, and secondary disks being mostly line poor to the sensitivity of our spectra. When comparing MIRI-MRS to Spitzer/IRS, we observe large variability in the line emission of VW Cha A, as well as in the continuum of RW Aur A. The disks around VW Cha BC and RW Aur B show evidence of ionizing radiation, and a further comparison with ALMA at high angular resolution dust continuum suggest that the spectrum of RW Aur B is well explained by its ~4 au cavity. All the systems show [Ne II] jet emission, and three of them also show spatially resolved emission structures in H2, likely originated by outflows and dynamical interactions. Many of the observed features in the primary disks, such as enhanced water emission, could be linked to the increased accretion and radial drift produced by dynamical disk truncation. However, additional mechanisms are needed to explain the large differences between primary and secondary disks, potentially inner disk substructures. This work is an example of the need for combining multiple facilities to fully understand the observations from JWST.         |"
      ],
      "text/plain": [
       "[2508.02576] MINDS. Young binary systems with JWST/MIRI: Variable water-rich primaries and extended emission\n",
       "\tN. T. Kurtovic, et al. -- incl., <mark>T. Henning</mark>, <mark>G. Perotti</mark>, <mark>K. Schwarz</mark>, <mark>A. Somigliana</mark>"
      ]
     },
     "metadata": {},
     "output_type": "display_data"
    },
    {
     "data": {
      "text/markdown": [
       "## Failed papers"
      ],
      "text/plain": [
       "<IPython.core.display.Markdown object>"
      ]
     },
     "metadata": {},
     "output_type": "display_data"
    },
    {
     "data": {
      "text/markdown": [
       "\n",
       "|||\n",
       "|---:|:---|\n",
       "| [![arXiv](https://img.shields.io/badge/arXiv-2508.01413-b31b1b.svg)](https://arxiv.org/abs/2508.01413) | **Measurement of the Primary Beam of the Tianlai Cylindrical Antenna Using an Unmanned Aerial Vehicle**  |\n",
       "|| <mark>J. Li</mark>, et al. -- incl., <mark>Y. Wang</mark> |\n",
       "|*Appeared on*| *2025-08-05*|\n",
       "|*Comments*| *19 pages, 16 figures, RAA accepted*|\n",
       "|**Abstract**|            The Tianlai Cylinder Pathfinder Array consists of three adjacent cylindrical reflectors fixed on the ground, each 40 meters long and 15 meters wide, with the cylinder axis oriented along the North-South (N-S)direction. Dual linear polarisation feeds are distributed along the focus line, parallel to the cylinder axis. Measurement of the primary beam profile of these cylindrical reflectors is difficult, as they are too large to be placed in an anechoic chamber. While the beam profile along the East-West (E-W) direction can be measured with the transit observations of bright astronomical radio sources, the beam profile along the N-S direction remains very uncertain. We present a preliminary measurement of the beam profile of the Tianlai cylindrical antenna along both the N-S direction and E-W direction in the frequency range of 700-800 MHz, using a calibrator source carried by an unmanned aerial vehicle (UAV) flying in the far field. The beam profile of the Tianlai cylindrical antenna is determined from the analysis of the auto-correlation signals from the the cylinder array correlator, taking into account the emitter antenna beam profile, itself measured with a dipole antenna on the ground. The accuracy of the UAV-based determination of the cylinder beam profiles is validated by comparing the results with the one derived from bright astronomical source transits, and with simulated beams.         |\n",
       "|<p style=\"color:green\"> **ERROR** </p>| <p style=\"color:green\">affiliation error: mpia.affiliation_verifications: 'Heidelberg' keyword not found.</p> |"
      ],
      "text/plain": [
       "<IPython.core.display.Markdown object>"
      ]
     },
     "metadata": {},
     "output_type": "display_data"
    },
    {
     "data": {
      "text/markdown": [
       "\n",
       "|||\n",
       "|---:|:---|\n",
       "| [![arXiv](https://img.shields.io/badge/arXiv-2508.01428-b31b1b.svg)](https://arxiv.org/abs/2508.01428) | **SN 2024gy: Multi-epoch Spectroscopic Evidence for Delayed Detonation in a Type Ia Supernova**  |\n",
       "|| L. Li, et al. -- incl., <mark>J. Liu</mark> |\n",
       "|*Appeared on*| *2025-08-05*|\n",
       "|*Comments*| *21 pages, 11 figures, submitted to ApJ*|\n",
       "|**Abstract**|            We present photometric and spectroscopic observations of SN 2024gy, a Type Ia supernova (SN Ia) exhibiting high-velocity features (HVFs) in its early-time spectra. This SN reaches a peak $B$-band magnitude of $-19.25 \\pm 0.28$ mag and subsequently declines by $\\Delta m_{15}(B) \\approx 1.12$ mag, consistent with the luminosity-width relation characteristic of normal SNe Ia. Based on the peak thermal luminosity of $(1.2 \\pm 0.3) \\times 10^{43}$ erg s$^{-1}$, we estimate that $0.57 \\pm 0.14~\\rm M_{\\odot}$ of $^{56}$Ni was synthesized during the explosion. Our dense early spectral monitoring revealed significant velocity disparities within the ejecta. Notably, absorption features from the \\CaII\\ near-infrared triplet were observed at velocities exceeding 25,000 km s$^{-1}$, while the \\SiII\\, \\ld 6355 line velocity at the same epoch was significantly lower at $\\sim$ 16,000 km s$^{-1}$. This velocity disparity likely reflects distinct ionization states of intermediate-mass elements in the outermost layers. The prominent \\CaII\\, HVFs may originate from ionization suppression within the highest-velocity ejecta, potentially indicative of minimal hydrogen mixing in a delayed-detonation explosion scenario. Additionally, the Ni/Fe ratio derived from the nebular spectrum of SN 2024gy provides further support for this model.         |\n",
       "|<p style=\"color:green\"> **ERROR** </p>| <p style=\"color:green\">affiliation error: mpia.affiliation_verifications: 'Heidelberg' keyword not found.</p> |"
      ],
      "text/plain": [
       "<IPython.core.display.Markdown object>"
      ]
     },
     "metadata": {},
     "output_type": "display_data"
    },
    {
     "data": {
      "text/markdown": [
       "\n",
       "|||\n",
       "|---:|:---|\n",
       "| [![arXiv](https://img.shields.io/badge/arXiv-2508.01596-b31b1b.svg)](https://arxiv.org/abs/2508.01596) | **Identifying Radio Active Galactic Nuclei with Machine Learning and Large-Area Surveys**  |\n",
       "|| X.-L. Fan, <mark>J. Li</mark> |\n",
       "|*Appeared on*| *2025-08-05*|\n",
       "|*Comments*| *10 pages, 6 figures, accepted for publication in A&A*|\n",
       "|**Abstract**|            Context. Active galactic nuclei (AGNs) and star forming galaxies (SFGs) are the primary sources of extragalactic radio sky. But it is difficult to distinguish the radio emission produced by AGNs from that by SFGs, especially when the radio sources are faint. Best et al. (2023) classified the radio sources in LoTSS Deep Fields DR1 through multiwavelength SED fitting. With the classification results of them, we perform a supervised machine learning to distinguish radio AGNs and radio SFGs. Aims. We aim to provide a supervised classifier to identify radio AGNs, which can get both high purity and completeness simultaneously, and can easily be applied to datasets of large-area surveys. Methods. The classifications of Best et al. (2023) are used as the true labels for supervised machine learning. With the cross-matched sample of LoTSS Deep Fields DR1, AllWISE and Gaia DR3, the features of optical and mid-infrared magnitude and colors, are applied to train the classifier. The performance of the classifier is evaluated mainly by the precission, recall and F1 score of both AGNs and non-AGNs. Results. By comparing the performance of six learning algorithms, CatBoost is chosen to construct the best classifier. The best classifier get precision = 0.974, recall = 0.865 and F1 = 0.916 for AGNs, precision = 0.936, recall = 0.988 and F1 = 0.961 for non-AGNs. After applying our classifier to the cross-matched sample of LoTSS DR2, AllWISE and Gaia DR3, we obtain a sample of 49716 AGNs and 102261 non-AGNs. The reliability of these classification results is confirmed by comparing with the spectroscopic classification of SDSS. The precission and recall of AGN sample can be as high as 94.2% and 92.3%, respectively. We also train a model to identify radio excess sources. The F1 scores are 0.610 and 0.965 for sources with and without radio excess, respectively.         |\n",
       "|<p style=\"color:green\"> **ERROR** </p>| <p style=\"color:green\">affiliation error: mpia.affiliation_verifications: 'Heidelberg' keyword not found.</p> |"
      ],
      "text/plain": [
       "<IPython.core.display.Markdown object>"
      ]
     },
     "metadata": {},
     "output_type": "display_data"
    },
    {
     "data": {
      "text/markdown": [
       "\n",
       "|||\n",
       "|---:|:---|\n",
       "| [![arXiv](https://img.shields.io/badge/arXiv-2508.02162-b31b1b.svg)](https://arxiv.org/abs/2508.02162) | **Discovery and dynamics of a Sedna-like object with a perihelion of 66 au**  |\n",
       "|| Y.-T. Chen, et al. -- incl., <mark>J. Li</mark> |\n",
       "|*Appeared on*| *2025-08-05*|\n",
       "|*Comments*| *Accepted manuscript of an article published open access in Nature Astronomy under a Creative Commons Attribution-NonCommercial-NoDerivatives (CC BY-NC-ND 4.0) license. The final published version is available at this https URL*|\n",
       "|**Abstract**|            Trans-Neptunian objects (TNOs) with large perihelion distances ($q > 60$ au) and semi-major axes ($a > 200$ au) provide insights into the early evolution of the solar system and the existence of a hypothetical distant planet. These objects are still rare and their detection is challenging, yet they play a crucial role in constraining models of solar system formation. Here we report the discovery of a Sedna-like TNO, 2023\\,KQ$_{14}$, nicknamed `Ammonite', with $q = 66$ au, $a = 252$ au, and inclination $i=11^\\circ$. Ammonite's orbit does not align with those of the other Sedna-like objects and fills the previously unexplained `$q$-gap' in the observed distribution of distant solar system objects. Simulations demonstrate that Ammonite is dynamically stable over 4.5 billion years. % with less than 1\\% variation in its semi-major axis. Our analysis suggests that Ammonite and the other Sedna-like objects may have shared a primordial orbital clustering around 4.2 billion years ago. Furthermore, Ammonite's stable orbit favors larger orbits ($\\sim$ 500 au) rather than closer ones for a large hypothetical planet in present-day trans-Neptunian space.         |\n",
       "|<p style=\"color:green\"> **ERROR** </p>| <p style=\"color:green\">affiliation error: mpia.affiliation_verifications: 'Heidelberg' keyword not found.</p> |"
      ],
      "text/plain": [
       "<IPython.core.display.Markdown object>"
      ]
     },
     "metadata": {},
     "output_type": "display_data"
    }
   ],
   "source": [
    "import datetime\n",
    "today = str(datetime.date.today())\n",
    "logfile = f\"_build/html/logs/log-{today}.md\"\n",
    "\n",
    "\n",
    "with open(logfile, 'w') as logs:\n",
    "    # Success\n",
    "    logs.write(f'# Arxiv on Deck 2: Logs - {today}\\n\\n')\n",
    "    logs.write(\"\"\"* Arxiv had {0:,d} new papers\\n\"\"\".format(len(new_papers)))\n",
    "    logs.write(\"\"\"    * {0:,d} with possible author matches\\n\\n\"\"\".format(len(candidates)))\n",
    "    logs.write(\"## Sucessful papers\\n\\n\")\n",
    "    display(Markdown(\"## Successful papers\"))\n",
    "    success = [k[0] for k in documents]\n",
    "    for candid in candidates:\n",
    "        if candid['identifier'].split(':')[-1] in success:\n",
    "            display(candid)\n",
    "            logs.write(candid.generate_markdown_text() + '\\n\\n')\n",
    "\n",
    "    ## failed\n",
    "    logs.write(\"## Failed papers\\n\\n\")\n",
    "    display(Markdown(\"## Failed papers\"))\n",
    "    failed = sorted(failed, key=lambda x: x[1])\n",
    "    current_reason = \"\"\n",
    "    for paper, reason in failed:\n",
    "        if 'affiliation' in reason:\n",
    "            color = 'green'\n",
    "        else:\n",
    "            color = 'red'\n",
    "        data = Markdown(\n",
    "                paper.generate_markdown_text() + \n",
    "                f'\\n|<p style=\"color:{color:s}\"> **ERROR** </p>| <p style=\"color:{color:s}\">{reason:s}</p> |'\n",
    "               )\n",
    "        if reason != current_reason:\n",
    "            logs.write(f'### {reason:s} \\n\\n')\n",
    "            current_reason = reason\n",
    "        logs.write(data.data + '\\n\\n')\n",
    "        \n",
    "        # only display here the important errors (all in logs)\n",
    "        # if color in ('red',):\n",
    "        display(data)"
   ]
  },
  {
   "cell_type": "markdown",
   "id": "472d20ee",
   "metadata": {
    "papermill": {
     "duration": 0.004477,
     "end_time": "2025-08-05T04:40:56.626490",
     "exception": false,
     "start_time": "2025-08-05T04:40:56.622013",
     "status": "completed"
    },
    "tags": []
   },
   "source": [
    "## Export documents\n",
    "\n",
    "We now write the .md files and export relevant images"
   ]
  },
  {
   "cell_type": "code",
   "execution_count": 7,
   "id": "d426aed9",
   "metadata": {
    "execution": {
     "iopub.execute_input": "2025-08-05T04:40:56.636413Z",
     "iopub.status.busy": "2025-08-05T04:40:56.636193Z",
     "iopub.status.idle": "2025-08-05T04:40:56.643065Z",
     "shell.execute_reply": "2025-08-05T04:40:56.642470Z"
    },
    "papermill": {
     "duration": 0.013005,
     "end_time": "2025-08-05T04:40:56.644066",
     "exception": false,
     "start_time": "2025-08-05T04:40:56.631061",
     "status": "completed"
    },
    "tags": []
   },
   "outputs": [],
   "source": [
    "def export_markdown_summary(md: str, md_fname:str, directory: str):\n",
    "    \"\"\"Export MD document and associated relevant images\"\"\"\n",
    "    import os\n",
    "    import shutil\n",
    "    import re\n",
    "\n",
    "    if (os.path.exists(directory) and not os.path.isdir(directory)):\n",
    "        raise RuntimeError(f\"a non-directory file exists with name {directory:s}\")\n",
    "\n",
    "    if (not os.path.exists(directory)):\n",
    "        print(f\"creating directory {directory:s}\")\n",
    "        os.mkdir(directory)\n",
    "\n",
    "    fig_fnames = (re.compile(r'\\[Fig.*\\]\\((.*)\\)').findall(md) + \n",
    "                  re.compile(r'\\<img src=\"([^>\\s]*)\"[^>]*/>').findall(md))\n",
    "    print(\"found figures\", fig_fnames)\n",
    "    for fname in fig_fnames:\n",
    "        if 'http' in fname:\n",
    "            # No need to copy online figures\n",
    "            continue\n",
    "        if not os.path.exists(fname):\n",
    "            print(\"file not found\", fname)\n",
    "            continue\n",
    "        print(\"copying \", fname, \"to\", directory)\n",
    "        destdir = os.path.join(directory, os.path.dirname(fname))\n",
    "        destfname = os.path.join(destdir, os.path.basename(fname))\n",
    "        try:\n",
    "            os.makedirs(destdir)\n",
    "        except FileExistsError:\n",
    "            pass\n",
    "        shutil.copy(fname, destfname)\n",
    "    with open(os.path.join(directory, md_fname), 'w') as fout:\n",
    "        fout.write(md)\n",
    "    print(\"exported in \", os.path.join(directory, md_fname))\n",
    "    [print(\"    + \" + os.path.join(directory,fk)) for fk in fig_fnames]"
   ]
  },
  {
   "cell_type": "code",
   "execution_count": 8,
   "id": "014d04a4",
   "metadata": {
    "execution": {
     "iopub.execute_input": "2025-08-05T04:40:56.653928Z",
     "iopub.status.busy": "2025-08-05T04:40:56.653710Z",
     "iopub.status.idle": "2025-08-05T04:40:56.665408Z",
     "shell.execute_reply": "2025-08-05T04:40:56.664692Z"
    },
    "papermill": {
     "duration": 0.017731,
     "end_time": "2025-08-05T04:40:56.666477",
     "exception": false,
     "start_time": "2025-08-05T04:40:56.648746",
     "status": "completed"
    },
    "tags": []
   },
   "outputs": [
    {
     "name": "stdout",
     "output_type": "stream",
     "text": [
      "found figures ['tmp_2508.00978/./sgrsel.png', 'tmp_2508.00978/./sgr_vgsr.png', 'tmp_2508.00978/./feh_comparison.png', 'tmp_2508.00978/./afe_comparison.png', 'tmp_2508.00978/./kgsel.png']\n",
      "copying  tmp_2508.00978/./sgrsel.png to _build/html/\n",
      "copying  tmp_2508.00978/./sgr_vgsr.png to _build/html/\n",
      "copying  tmp_2508.00978/./feh_comparison.png to _build/html/\n",
      "copying  tmp_2508.00978/./afe_comparison.png to _build/html/\n",
      "copying  tmp_2508.00978/./kgsel.png to _build/html/\n",
      "exported in  _build/html/2508.00978.md\n",
      "    + _build/html/tmp_2508.00978/./sgrsel.png\n",
      "    + _build/html/tmp_2508.00978/./sgr_vgsr.png\n",
      "    + _build/html/tmp_2508.00978/./feh_comparison.png\n",
      "    + _build/html/tmp_2508.00978/./afe_comparison.png\n",
      "    + _build/html/tmp_2508.00978/./kgsel.png\n",
      "found figures ['tmp_2508.02576/./figures/VWCha/VWCha_h2o_comp_v2.png', 'tmp_2508.02576/./figures/RWAur/RWAurB_manual_fit.png', 'tmp_2508.02576/./figures/spec_all_jwstmiri_scaled.png']\n",
      "copying  tmp_2508.02576/./figures/VWCha/VWCha_h2o_comp_v2.png to _build/html/\n",
      "copying  tmp_2508.02576/./figures/RWAur/RWAurB_manual_fit.png to _build/html/\n",
      "copying  tmp_2508.02576/./figures/spec_all_jwstmiri_scaled.png to _build/html/\n",
      "exported in  _build/html/2508.02576.md\n",
      "    + _build/html/tmp_2508.02576/./figures/VWCha/VWCha_h2o_comp_v2.png\n",
      "    + _build/html/tmp_2508.02576/./figures/RWAur/RWAurB_manual_fit.png\n",
      "    + _build/html/tmp_2508.02576/./figures/spec_all_jwstmiri_scaled.png\n"
     ]
    }
   ],
   "source": [
    "for paper_id, md in documents:\n",
    "    export_markdown_summary(md, f\"{paper_id:s}.md\", '_build/html/')"
   ]
  },
  {
   "cell_type": "markdown",
   "id": "f087a0a7",
   "metadata": {
    "papermill": {
     "duration": 0.004627,
     "end_time": "2025-08-05T04:40:56.675851",
     "exception": false,
     "start_time": "2025-08-05T04:40:56.671224",
     "status": "completed"
    },
    "tags": []
   },
   "source": [
    "## Display the papers\n",
    "\n",
    "Not necessary but allows for a quick check."
   ]
  },
  {
   "cell_type": "code",
   "execution_count": 9,
   "id": "fd25f625",
   "metadata": {
    "execution": {
     "iopub.execute_input": "2025-08-05T04:40:56.685917Z",
     "iopub.status.busy": "2025-08-05T04:40:56.685698Z",
     "iopub.status.idle": "2025-08-05T04:40:56.691263Z",
     "shell.execute_reply": "2025-08-05T04:40:56.690752Z"
    },
    "papermill": {
     "duration": 0.011659,
     "end_time": "2025-08-05T04:40:56.692217",
     "exception": false,
     "start_time": "2025-08-05T04:40:56.680558",
     "status": "completed"
    },
    "scrolled": false,
    "tags": []
   },
   "outputs": [
    {
     "data": {
      "text/markdown": [
       "<div class=\"macros\" style=\"visibility:hidden;\">\n",
       "$\\newcommand{\\ensuremath}{}$\n",
       "$\\newcommand{\\xspace}{}$\n",
       "$\\newcommand{\\object}[1]{\\texttt{#1}}$\n",
       "$\\newcommand{\\farcs}{{.}''}$\n",
       "$\\newcommand{\\farcm}{{.}'}$\n",
       "$\\newcommand{\\arcsec}{''}$\n",
       "$\\newcommand{\\arcmin}{'}$\n",
       "$\\newcommand{\\ion}[2]{#1#2}$\n",
       "$\\newcommand{\\textsc}[1]{\\textrm{#1}}$\n",
       "$\\newcommand{\\hl}[1]{\\textrm{#1}}$\n",
       "$\\newcommand{\\footnote}[1]{}$\n",
       "$\\newcommand{\\vdag}{(v)^\\dagger}$\n",
       "$\\newcommand$\n",
       "$\\newcommand$\n",
       "$\\newcommand$\n",
       "$\\newcommand$\n",
       "$\\newcommand$\n",
       "$\\newcommand$\n",
       "$\\newcommand$\n",
       "$\\newcommand{\\@}{outputaffil@separated $\n",
       "$}$</div>\n",
       "\n",
       "\n",
       "\n",
       "<div id=\"title\">\n",
       "\n",
       "# Mapping the Distant and Metal-Poor Milky Way with SDSS-V\n",
       "\n",
       "</div>\n",
       "<div id=\"comments\">\n",
       "\n",
       "[![arXiv](https://img.shields.io/badge/arXiv-2508.00978-b31b1b.svg)](https://arxiv.org/abs/2508.00978)<mark>Appeared on: 2025-08-05</mark> -  _31 pages, 19 figures; Submitted to AAS Journals;_\n",
       "\n",
       "</div>\n",
       "<div id=\"authors\">\n",
       "\n",
       "V. Chandra, et al. -- incl., <mark>H.-W. Rix</mark>\n",
       "\n",
       "</div>\n",
       "<div id=\"abstract\">\n",
       "\n",
       "**Abstract:** $\\noindent$ The fifth-generation Sloan Digital Sky Survey (SDSS-V) is conducting the first all--sky low--resolution spectroscopic survey of the Milky Way's stellar halo.We describe the stellar parameter pipeline for the SDSS-V halo survey, which simultaneously models spectra, broadband photometry, and parallaxes to derive stellar parameters, metallicities, alpha abundances, and distances.The resulting $\\minesweepercat$ catalog is validated across a wide range of stellar parameters and metallicities using star clusters and a comparison to high-resolution spectroscopic surveys.We demonstrate several scientific capabilities of this dataset: identifying the most chemically peculiar stars in our Galaxy, discovering and mapping distant halo substructures, and measuring the all--sky dynamics of the Milky Way on the largest scales.The $\\minesweepercat$ catalog for SDSS DR19 is publicly available and will be updated for future data releases.\n",
       "\n",
       "</div>\n",
       "\n",
       "<div id=\"div_fig1\">\n",
       "\n",
       "<img src=\"tmp_2508.00978/./sgrsel.png\" alt=\"Fig9.1\" width=\"50%\"/><img src=\"tmp_2508.00978/./sgr_vgsr.png\" alt=\"Fig9.2\" width=\"50%\"/>\n",
       "\n",
       "**Figure 9. -** The Sagittarius Stream (Sgr) in SDSS-V.\n",
       "    **Top:** Selection of Sgr members in angular momentum space. Stars lying very close to the orbital plane of Sgr are used to define a polygon that captures most likely Sgr members.\n",
       "    **Bottom:** The Galactocentric radial velocity of stars beyond 25 kpc as a function of longitude along the Sgr stream, with angular momentum-selected Sgr stars highlighted in blue.\n",
       "    Our selection is effective at excising Sgr stars from the field halo.  (*fig:sgr*)\n",
       "\n",
       "</div>\n",
       "<div id=\"div_fig2\">\n",
       "\n",
       "<img src=\"tmp_2508.00978/./feh_comparison.png\" alt=\"Fig2.1\" width=\"50%\"/><img src=\"tmp_2508.00978/./afe_comparison.png\" alt=\"Fig2.2\" width=\"50%\"/>\n",
       "\n",
       "**Figure 2. -** Mean metallicity and alpha abundance for calibration clusters in SDSS-V, as compared to parameters from the literature.\n",
       "    The underlying data and references are listed in Table \\ref{tab:clusters}.\n",
       "    The 1-1 line is overlaid, along with the constant offset measured as the median difference between \\minesweeper  and literature.\n",
       "     (*fig:cluster_means*)\n",
       "\n",
       "</div>\n",
       "<div id=\"div_fig3\">\n",
       "\n",
       "<img src=\"tmp_2508.00978/./kgsel.png\" alt=\"Fig6\" width=\"100%\"/>\n",
       "\n",
       "**Figure 6. -** Performance of the distant halo selection carton.\n",
       "    Blue (red) points show giants targeted to lie beyond $d_\\mathrm{helio} > 10 (30)$ kpc.\n",
       "    The top panel shows the marginal distribution of $r_\\mathrm{gal}$.\n",
       "    Gold points show a cross-match to the dwarf spheroidal galaxy member catalog from \\cite{Walker2023}.\n",
       "    Our parallax and color-based target selection is highly efficient at identifying the most distant stars in the MW halo. (*fig:kg*)\n",
       "\n",
       "</div><div id=\"qrcode\"><img src=https://api.qrserver.com/v1/create-qr-code/?size=100x100&data=\"https://arxiv.org/abs/2508.00978\"></div>"
      ],
      "text/plain": [
       "<IPython.core.display.Markdown object>"
      ]
     },
     "metadata": {},
     "output_type": "display_data"
    },
    {
     "data": {
      "text/markdown": [
       "<div class=\"macros\" style=\"visibility:hidden;\">\n",
       "$\\newcommand{\\ensuremath}{}$\n",
       "$\\newcommand{\\xspace}{}$\n",
       "$\\newcommand{\\object}[1]{\\texttt{#1}}$\n",
       "$\\newcommand{\\farcs}{{.}''}$\n",
       "$\\newcommand{\\farcm}{{.}'}$\n",
       "$\\newcommand{\\arcsec}{''}$\n",
       "$\\newcommand{\\arcmin}{'}$\n",
       "$\\newcommand{\\ion}[2]{#1#2}$\n",
       "$\\newcommand{\\textsc}[1]{\\textrm{#1}}$\n",
       "$\\newcommand{\\hl}[1]{\\textrm{#1}}$\n",
       "$\\newcommand{\\footnote}[1]{}$\n",
       "$\\newcommand{\\pageref}{\\oldpageref*}$</div>\n",
       "\n",
       "\n",
       "\n",
       "<div id=\"title\">\n",
       "\n",
       "# MINDS. Young binary systems with JWST/MIRI: \\\\variable water-rich primaries and extended emission\n",
       "\n",
       "</div>\n",
       "<div id=\"comments\">\n",
       "\n",
       "[![arXiv](https://img.shields.io/badge/arXiv-2508.02576-b31b1b.svg)](https://arxiv.org/abs/2508.02576)<mark>Appeared on: 2025-08-05</mark> -  _Accepted for publication in A&A, 26 pages, 20 Figures. Shortened abstract in arxiv_\n",
       "\n",
       "</div>\n",
       "<div id=\"authors\">\n",
       "\n",
       "N. T. Kurtovic, et al. -- incl., <mark>T. Henning</mark>, <mark>G. Perotti</mark>, <mark>K. Schwarz</mark>, <mark>A. Somigliana</mark>\n",
       "\n",
       "</div>\n",
       "<div id=\"abstract\">\n",
       "\n",
       "**Abstract:** Dynamical disk-companion interactions can have a large impact on the evolution of circumstellar disks, as these can produce perturbations to the material distribution, density, and temperature, affecting their potential for planet formation. As part of the JWST GTO program MINDS, we analyze the mid-infrared emission of three Class II binary systems: VW Cha, WX Cha, and RW Aur, to investigate the impact of stellar multiplicity on the chemistry and physics of their inner disk. We analyze the 1D spectrum from JWST/MIRI-MRS for primary and secondary disks separately, extracted by combining forward modeling with a theoretical PSF and aperture photometry. After continuum subtraction, we modeled the molecular lines with 0D slab models. We interpret the results by comparing our JWST spectra to VLT/CRIRES+, Spitzer/IRS. The extended mid-infrared emission is compared to ALMA, for which we also include the binary DF Tau in our sample. Primary and secondary disks are dramatically different in their mid-infrared emission, with primary disks showing $H_2$ O-rich spectra, and secondary disks being mostly line poor to the sensitivity of our spectra. When comparing MIRI-MRS to Spitzer/IRS, we observe large variability in the line emission of VW Cha A, as well as in the continuum of RW Aur A. The disks around VW Cha BC and RW Aur B show evidence of ionizing radiation, and a further comparison with ALMA at high angular resolution dust continuum suggest that the spectrum of RW Aur B is well explained by its $\\sim 4$ au cavity.    All the systems show [ Ne II ] jet emission, and three of them also show spatially resolved emission structures in $H_2$ , likely originated by outflows and dynamical interactions. Many of the observed features in the primary disks, such as enhanced water emission, could be linked to the increased accretion and radial drift produced by dynamical disk truncation. However, additional mechanisms are needed to explain the large differences between primary and secondary disks, potentially inner disk substructures. This work is an example of the need for combining multiple facilities to fully understand the observations from JWST.\n",
       "\n",
       "</div>\n",
       "\n",
       "<div id=\"div_fig1\">\n",
       "\n",
       "<img src=\"tmp_2508.02576/./figures/VWCha/VWCha_h2o_comp_v2.png\" alt=\"Fig4\" width=\"100%\"/>\n",
       "\n",
       "**Figure 4. -** Comparison of the JWST/MIRI-MRS spectra and Spitzer/IRS in mode SH and LH. The panels **(a)**, **(b)**, and **(c)** show the comparison of MIRI-MRS with native resolution in grey, and in red after being convolved to the IRS resolution. The IRS spectra is shown in blue. The residuals from subtracting the IRS spectra to the MIRI-MRS are shown in green. Panel **(d)** is a zoom into the [Ne II] emission, with two vertical dashed lines showing the location of the [Ne II] at rest and the wavelength of [Ne II] with -180 km s$^{-1}$ of blueshift. The emission of VW Cha BC is also shown, and convolved to the resolution of the IRS. Panel **(e)** is a zoom into the region with the main emission of HCN and $CO_2$. For comparison, the residuals from subtracting the IRS observation to the MIRI-MRS observation are shown both with their real flux, and with the MIRI-MRS flux scaled by 0.5. Panel **(f)** shows the region with the most prominent cold $H_2$O lines. Even after scaling MIRI-MRS by 0.5, there are still residuals consistent with a 200 K slab. (*fig:vwcha:comp-spt-jwst*)\n",
       "\n",
       "</div>\n",
       "<div id=\"div_fig2\">\n",
       "\n",
       "<img src=\"tmp_2508.02576/./figures/RWAur/RWAurB_manual_fit.png\" alt=\"Fig15\" width=\"100%\"/>\n",
       "\n",
       "**Figure 15. -**  The molecular line emission of RW Aur B. In the top is the original continuum subtracted spectra, with the same continuum subtraction algorithm used for the primary disks. In the middle is the spectra after filtering the signals with frequency smaller than than 0.5 px$^{-1}$. In the bottom, the spectra after frequency filtering and subtracting a masked average with a window size of 10 px. For reference, slab models for HCN, $H_2$O, and $CO_2$, are shown with the original and with the modified spectra.  (*fig:app:rwaurb_manual_fit*)\n",
       "\n",
       "</div>\n",
       "<div id=\"div_fig3\">\n",
       "\n",
       "<img src=\"tmp_2508.02576/./figures/spec_all_jwstmiri_scaled.png\" alt=\"Fig2\" width=\"100%\"/>\n",
       "\n",
       "**Figure 2. -** JWST/MIRI-MRS spectra for the three binary systems in our sample, scaled to 150 pc for comparison. The spectra of the secondary sources are enlarged in the insert, showing the observed flux between the MIRI-MRS band 1A and 3C.  (*fig:all_jwstmiri*)\n",
       "\n",
       "</div><div id=\"qrcode\"><img src=https://api.qrserver.com/v1/create-qr-code/?size=100x100&data=\"https://arxiv.org/abs/2508.02576\"></div>"
      ],
      "text/plain": [
       "<IPython.core.display.Markdown object>"
      ]
     },
     "metadata": {},
     "output_type": "display_data"
    }
   ],
   "source": [
    "[display(Markdown(k[1])) for k in documents];"
   ]
  },
  {
   "cell_type": "markdown",
   "id": "873873a4",
   "metadata": {
    "papermill": {
     "duration": 0.005004,
     "end_time": "2025-08-05T04:40:56.702397",
     "exception": false,
     "start_time": "2025-08-05T04:40:56.697393",
     "status": "completed"
    },
    "tags": []
   },
   "source": [
    "# Create HTML index"
   ]
  },
  {
   "cell_type": "code",
   "execution_count": 10,
   "id": "cf665672",
   "metadata": {
    "execution": {
     "iopub.execute_input": "2025-08-05T04:40:56.713352Z",
     "iopub.status.busy": "2025-08-05T04:40:56.713122Z",
     "iopub.status.idle": "2025-08-05T04:40:56.720485Z",
     "shell.execute_reply": "2025-08-05T04:40:56.719963Z"
    },
    "papermill": {
     "duration": 0.014019,
     "end_time": "2025-08-05T04:40:56.721455",
     "exception": false,
     "start_time": "2025-08-05T04:40:56.707436",
     "status": "completed"
    },
    "tags": []
   },
   "outputs": [
    {
     "name": "stdout",
     "output_type": "stream",
     "text": [
      "134  publications files modified in the last 7 days.\n"
     ]
    }
   ],
   "source": [
    "from datetime import datetime, timedelta, timezone\n",
    "from glob import glob\n",
    "import os\n",
    "\n",
    "files = glob('_build/html/*.md')\n",
    "days = 7\n",
    "now = datetime.today()\n",
    "res = []\n",
    "for fk in files:\n",
    "    stat_result = os.stat(fk).st_ctime\n",
    "    modified = datetime.fromtimestamp(stat_result, tz=timezone.utc).replace(tzinfo=None)\n",
    "    delta = now.today() - modified\n",
    "    if delta <= timedelta(days=days):\n",
    "        res.append((delta.seconds, fk))\n",
    "res = [k[1] for k in reversed(sorted(res, key=lambda x:x[1]))]\n",
    "npub = len(res)\n",
    "print(len(res), f\" publications files modified in the last {days:d} days.\")\n",
    "# [ print('\\t', k) for k in res ];"
   ]
  },
  {
   "cell_type": "code",
   "execution_count": 11,
   "id": "015de740",
   "metadata": {
    "execution": {
     "iopub.execute_input": "2025-08-05T04:40:56.732264Z",
     "iopub.status.busy": "2025-08-05T04:40:56.732071Z",
     "iopub.status.idle": "2025-08-05T04:40:56.744054Z",
     "shell.execute_reply": "2025-08-05T04:40:56.743490Z"
    },
    "papermill": {
     "duration": 0.01853,
     "end_time": "2025-08-05T04:40:56.745033",
     "exception": false,
     "start_time": "2025-08-05T04:40:56.726503",
     "status": "completed"
    },
    "tags": []
   },
   "outputs": [
    {
     "name": "stdout",
     "output_type": "stream",
     "text": [
      "7  publications in the last 7 days.\n"
     ]
    }
   ],
   "source": [
    "import datetime\n",
    "from glob import glob\n",
    "\n",
    "def get_last_n_days(lst, days=1):\n",
    "    \"\"\" Get the documents from the last n days \"\"\"\n",
    "    sorted_lst = sorted(lst, key=lambda x: x[1], reverse=True)\n",
    "    for fname, date in sorted_lst:\n",
    "        if date >= str(datetime.date.today() - datetime.timedelta(days=days)):\n",
    "            yield fname\n",
    "\n",
    "def extract_appearance_dates(lst_file):\n",
    "    dates = []\n",
    "\n",
    "    def get_date(line):\n",
    "        return line\\\n",
    "            .split('Appeared on:')[-1]\\\n",
    "            .split('</mark>')[0].strip()\n",
    "\n",
    "    for fname in lst:\n",
    "        with open(fname, 'r') as f:\n",
    "            found_date = False\n",
    "            for line in f:\n",
    "                if not found_date:\n",
    "                    if \"Appeared on\" in line:\n",
    "                        found_date = True\n",
    "                        dates.append((fname, get_date(line)))\n",
    "                else:\n",
    "                    break\n",
    "    return dates\n",
    "\n",
    "from glob import glob\n",
    "lst = glob('_build/html/*md')\n",
    "days = 7\n",
    "dates = extract_appearance_dates(lst)\n",
    "res = list(get_last_n_days(dates, days))\n",
    "npub = len(res)\n",
    "print(len(res), f\" publications in the last {days:d} days.\")"
   ]
  },
  {
   "cell_type": "code",
   "execution_count": 12,
   "id": "52ca0208",
   "metadata": {
    "execution": {
     "iopub.execute_input": "2025-08-05T04:40:56.756178Z",
     "iopub.status.busy": "2025-08-05T04:40:56.755994Z",
     "iopub.status.idle": "2025-08-05T04:40:56.760695Z",
     "shell.execute_reply": "2025-08-05T04:40:56.760150Z"
    },
    "papermill": {
     "duration": 0.011389,
     "end_time": "2025-08-05T04:40:56.761674",
     "exception": false,
     "start_time": "2025-08-05T04:40:56.750285",
     "status": "completed"
    },
    "scrolled": false,
    "tags": []
   },
   "outputs": [],
   "source": [
    "def create_carousel(npub=4):\n",
    "    \"\"\" Generate the HTML code for a carousel with `npub` slides \"\"\"\n",
    "    carousel = [\"\"\"  <div class=\"carousel\" \"\"\",\n",
    "                \"\"\"       data-flickity='{ \"autoPlay\": 10000, \"adaptiveHeight\": true, \"resize\": true, \"wrapAround\": true, \"pauseAutoPlayOnHover\": true, \"groupCells\": 1 }' id=\"asyncTypeset\">\"\"\"\n",
    "                ]\n",
    "    \n",
    "    item_str = \"\"\"    <div class=\"carousel-cell\"> <div id=\"slide{k}\" class=\"md_view\">Content {k}</div> </div>\"\"\"\n",
    "    for k in range(1, npub + 1):\n",
    "        carousel.append(item_str.format(k=k))\n",
    "    carousel.append(\"  </div>\")\n",
    "    return '\\n'.join(carousel)\n",
    "\n",
    "def create_grid(npub=4):\n",
    "    \"\"\" Generate the HTML code for a flat grid with `npub` slides \"\"\"\n",
    "    grid = [\"\"\"  <div class=\"grid\"> \"\"\",\n",
    "                ]\n",
    "    \n",
    "    item_str = \"\"\"    <div class=\"grid-item\"> <div id=\"slide{k}\" class=\"md_view\">Content {k}</div> </div>\"\"\"\n",
    "    for k in range(1, npub + 1):\n",
    "        grid.append(item_str.format(k=k))\n",
    "    grid.append(\"  </div>\")\n",
    "    return '\\n'.join(grid)"
   ]
  },
  {
   "cell_type": "code",
   "execution_count": 13,
   "id": "a6eac5b6",
   "metadata": {
    "execution": {
     "iopub.execute_input": "2025-08-05T04:40:56.772965Z",
     "iopub.status.busy": "2025-08-05T04:40:56.772778Z",
     "iopub.status.idle": "2025-08-05T04:40:56.777677Z",
     "shell.execute_reply": "2025-08-05T04:40:56.777045Z"
    },
    "papermill": {
     "duration": 0.011872,
     "end_time": "2025-08-05T04:40:56.778902",
     "exception": false,
     "start_time": "2025-08-05T04:40:56.767030",
     "status": "completed"
    },
    "scrolled": false,
    "tags": []
   },
   "outputs": [],
   "source": [
    "carousel = create_carousel(npub)\n",
    "docs = ', '.join(['\"{0:s}\"'.format(k.split('/')[-1]) for k in res])\n",
    "slides = ', '.join([f'\"slide{k}\"' for k in range(1, npub + 1)])\n",
    "\n",
    "with open(\"daily_template.html\", \"r\") as tpl:\n",
    "    page = tpl.read()\n",
    "    page = page.replace(\"{%-- carousel:s --%}\", carousel)\\\n",
    "               .replace(\"{%-- suptitle:s --%}\",  \"7-day archives\" )\\\n",
    "               .replace(\"{%-- docs:s --%}\", docs)\\\n",
    "               .replace(\"{%-- slides:s --%}\", slides)\n",
    "    \n",
    "with open(\"_build/html/index_7days.html\", 'w') as fout:\n",
    "    fout.write(page)"
   ]
  },
  {
   "cell_type": "code",
   "execution_count": 14,
   "id": "adc1a1ec",
   "metadata": {
    "execution": {
     "iopub.execute_input": "2025-08-05T04:40:56.790045Z",
     "iopub.status.busy": "2025-08-05T04:40:56.789865Z",
     "iopub.status.idle": "2025-08-05T04:40:56.796071Z",
     "shell.execute_reply": "2025-08-05T04:40:56.795422Z"
    },
    "papermill": {
     "duration": 0.012907,
     "end_time": "2025-08-05T04:40:56.797150",
     "exception": false,
     "start_time": "2025-08-05T04:40:56.784243",
     "status": "completed"
    },
    "tags": []
   },
   "outputs": [
    {
     "name": "stdout",
     "output_type": "stream",
     "text": [
      "3  publications in the last day.\n"
     ]
    }
   ],
   "source": [
    "# redo for today\n",
    "days = 1\n",
    "res = list(get_last_n_days(dates, days))\n",
    "npub = len(res)\n",
    "print(len(res), f\" publications in the last day.\")\n",
    "\n",
    "carousel = create_carousel(npub)\n",
    "docs = ', '.join(['\"{0:s}\"'.format(k.split('/')[-1]) for k in res])\n",
    "slides = ', '.join([f'\"slide{k}\"' for k in range(1, npub + 1)])\n",
    "\n",
    "with open(\"daily_template.html\", \"r\") as tpl:\n",
    "    page = tpl.read()\n",
    "    page = page.replace(\"{%-- carousel:s --%}\", carousel)\\\n",
    "               .replace(\"{%-- suptitle:s --%}\",  \"Daily\" )\\\n",
    "               .replace(\"{%-- docs:s --%}\", docs)\\\n",
    "               .replace(\"{%-- slides:s --%}\", slides)\n",
    "    \n",
    "# print(carousel, docs, slides)\n",
    "# print(page)\n",
    "with open(\"_build/html/index_daily.html\", 'w') as fout:\n",
    "    fout.write(page)"
   ]
  },
  {
   "cell_type": "code",
   "execution_count": 15,
   "id": "00eece82",
   "metadata": {
    "execution": {
     "iopub.execute_input": "2025-08-05T04:40:56.808715Z",
     "iopub.status.busy": "2025-08-05T04:40:56.808521Z",
     "iopub.status.idle": "2025-08-05T04:40:56.814881Z",
     "shell.execute_reply": "2025-08-05T04:40:56.814207Z"
    },
    "papermill": {
     "duration": 0.013375,
     "end_time": "2025-08-05T04:40:56.815904",
     "exception": false,
     "start_time": "2025-08-05T04:40:56.802529",
     "status": "completed"
    },
    "scrolled": false,
    "tags": []
   },
   "outputs": [
    {
     "name": "stdout",
     "output_type": "stream",
     "text": [
      "6  6 publications selected.\n"
     ]
    }
   ],
   "source": [
    "# Create the flat grid of the last N papers (fixed number regardless of dates)\n",
    "from itertools import islice \n",
    "\n",
    "npub = 6\n",
    "res = [k[0] for k in (islice(reversed(sorted(dates, key=lambda x: x[1])), 6))]\n",
    "print(len(res), f\" {npub} publications selected.\")\n",
    "\n",
    "grid = create_grid(npub)\n",
    "docs = ', '.join(['\"{0:s}\"'.format(k.split('/')[-1]) for k in res])\n",
    "slides = ', '.join([f'\"slide{k}\"' for k in range(1, npub + 1)])\n",
    "\n",
    "with open(\"grid_template.html\", \"r\") as tpl:\n",
    "    page = tpl.read()\n",
    "    page = page.replace(\"{%-- grid-content:s --%}\", grid)\\\n",
    "               .replace(\"{%-- suptitle:s --%}\",  f\"Last {npub:,d} papers\" )\\\n",
    "               .replace(\"{%-- docs:s --%}\", docs)\\\n",
    "               .replace(\"{%-- slides:s --%}\", slides)\n",
    "    \n",
    "# print(grid, docs, slides)\n",
    "# print(page)\n",
    "with open(\"_build/html/index_npub_grid.html\", 'w') as fout:\n",
    "    fout.write(page)"
   ]
  }
 ],
 "metadata": {
  "kernelspec": {
   "display_name": "Python 3 (ipykernel)",
   "language": "python",
   "name": "python3"
  },
  "language_info": {
   "codemirror_mode": {
    "name": "ipython",
    "version": 3
   },
   "file_extension": ".py",
   "mimetype": "text/x-python",
   "name": "python",
   "nbconvert_exporter": "python",
   "pygments_lexer": "ipython3",
   "version": "3.9.23"
  },
  "papermill": {
   "default_parameters": {},
   "duration": 86.677685,
   "end_time": "2025-08-05T04:40:57.037108",
   "environment_variables": {},
   "exception": null,
   "input_path": "MPIA daily digest.ipynb",
   "output_path": "log.ipynb",
   "parameters": {},
   "start_time": "2025-08-05T04:39:30.359423",
   "version": "2.6.0"
  },
  "vscode": {
   "interpreter": {
    "hash": "aee8b7b246df8f9039afb4144a1f6fd8d2ca17a180786b69acc140d282b71a49"
   }
  },
  "widgets": {
   "application/vnd.jupyter.widget-state+json": {
    "state": {
     "170bb7251c124c209549c12edbc6b230": {
      "model_module": "@jupyter-widgets/controls",
      "model_module_version": "2.0.0",
      "model_name": "HTMLModel",
      "state": {
       "_dom_classes": [],
       "_model_module": "@jupyter-widgets/controls",
       "_model_module_version": "2.0.0",
       "_model_name": "HTMLModel",
       "_view_count": null,
       "_view_module": "@jupyter-widgets/controls",
       "_view_module_version": "2.0.0",
       "_view_name": "HTMLView",
       "description": "",
       "description_allow_html": false,
       "layout": "IPY_MODEL_538cde64ed9a47748581ace582610c96",
       "placeholder": "​",
       "style": "IPY_MODEL_a7a41e191adb498681c3ed00c1f2ebee",
       "tabbable": null,
       "tooltip": null,
       "value": " 6/6 [01:02&lt;00:00, 11.93s/it]"
      }
     },
     "1f48160b77394684af5887df05a516d3": {
      "model_module": "@jupyter-widgets/base",
      "model_module_version": "2.0.0",
      "model_name": "LayoutModel",
      "state": {
       "_model_module": "@jupyter-widgets/base",
       "_model_module_version": "2.0.0",
       "_model_name": "LayoutModel",
       "_view_count": null,
       "_view_module": "@jupyter-widgets/base",
       "_view_module_version": "2.0.0",
       "_view_name": "LayoutView",
       "align_content": null,
       "align_items": null,
       "align_self": null,
       "border_bottom": null,
       "border_left": null,
       "border_right": null,
       "border_top": null,
       "bottom": null,
       "display": null,
       "flex": null,
       "flex_flow": null,
       "grid_area": null,
       "grid_auto_columns": null,
       "grid_auto_flow": null,
       "grid_auto_rows": null,
       "grid_column": null,
       "grid_gap": null,
       "grid_row": null,
       "grid_template_areas": null,
       "grid_template_columns": null,
       "grid_template_rows": null,
       "height": null,
       "justify_content": null,
       "justify_items": null,
       "left": null,
       "margin": null,
       "max_height": null,
       "max_width": null,
       "min_height": null,
       "min_width": null,
       "object_fit": null,
       "object_position": null,
       "order": null,
       "overflow": null,
       "padding": null,
       "right": null,
       "top": null,
       "visibility": null,
       "width": null
      }
     },
     "40f0d442981c442da7ae937849d664ef": {
      "model_module": "@jupyter-widgets/base",
      "model_module_version": "2.0.0",
      "model_name": "LayoutModel",
      "state": {
       "_model_module": "@jupyter-widgets/base",
       "_model_module_version": "2.0.0",
       "_model_name": "LayoutModel",
       "_view_count": null,
       "_view_module": "@jupyter-widgets/base",
       "_view_module_version": "2.0.0",
       "_view_name": "LayoutView",
       "align_content": null,
       "align_items": null,
       "align_self": null,
       "border_bottom": null,
       "border_left": null,
       "border_right": null,
       "border_top": null,
       "bottom": null,
       "display": null,
       "flex": null,
       "flex_flow": null,
       "grid_area": null,
       "grid_auto_columns": null,
       "grid_auto_flow": null,
       "grid_auto_rows": null,
       "grid_column": null,
       "grid_gap": null,
       "grid_row": null,
       "grid_template_areas": null,
       "grid_template_columns": null,
       "grid_template_rows": null,
       "height": null,
       "justify_content": null,
       "justify_items": null,
       "left": null,
       "margin": null,
       "max_height": null,
       "max_width": null,
       "min_height": null,
       "min_width": null,
       "object_fit": null,
       "object_position": null,
       "order": null,
       "overflow": null,
       "padding": null,
       "right": null,
       "top": null,
       "visibility": null,
       "width": null
      }
     },
     "4ce861d46fb64ef2add7ad0c9e19f441": {
      "model_module": "@jupyter-widgets/controls",
      "model_module_version": "2.0.0",
      "model_name": "HBoxModel",
      "state": {
       "_dom_classes": [],
       "_model_module": "@jupyter-widgets/controls",
       "_model_module_version": "2.0.0",
       "_model_name": "HBoxModel",
       "_view_count": null,
       "_view_module": "@jupyter-widgets/controls",
       "_view_module_version": "2.0.0",
       "_view_name": "HBoxView",
       "box_style": "",
       "children": [
        "IPY_MODEL_5b55d77e4934474e93859ed3dc797d90",
        "IPY_MODEL_78d33ad85e154232a77e2191af97995c",
        "IPY_MODEL_170bb7251c124c209549c12edbc6b230"
       ],
       "layout": "IPY_MODEL_1f48160b77394684af5887df05a516d3",
       "tabbable": null,
       "tooltip": null
      }
     },
     "538cde64ed9a47748581ace582610c96": {
      "model_module": "@jupyter-widgets/base",
      "model_module_version": "2.0.0",
      "model_name": "LayoutModel",
      "state": {
       "_model_module": "@jupyter-widgets/base",
       "_model_module_version": "2.0.0",
       "_model_name": "LayoutModel",
       "_view_count": null,
       "_view_module": "@jupyter-widgets/base",
       "_view_module_version": "2.0.0",
       "_view_name": "LayoutView",
       "align_content": null,
       "align_items": null,
       "align_self": null,
       "border_bottom": null,
       "border_left": null,
       "border_right": null,
       "border_top": null,
       "bottom": null,
       "display": null,
       "flex": null,
       "flex_flow": null,
       "grid_area": null,
       "grid_auto_columns": null,
       "grid_auto_flow": null,
       "grid_auto_rows": null,
       "grid_column": null,
       "grid_gap": null,
       "grid_row": null,
       "grid_template_areas": null,
       "grid_template_columns": null,
       "grid_template_rows": null,
       "height": null,
       "justify_content": null,
       "justify_items": null,
       "left": null,
       "margin": null,
       "max_height": null,
       "max_width": null,
       "min_height": null,
       "min_width": null,
       "object_fit": null,
       "object_position": null,
       "order": null,
       "overflow": null,
       "padding": null,
       "right": null,
       "top": null,
       "visibility": null,
       "width": null
      }
     },
     "5b55d77e4934474e93859ed3dc797d90": {
      "model_module": "@jupyter-widgets/controls",
      "model_module_version": "2.0.0",
      "model_name": "HTMLModel",
      "state": {
       "_dom_classes": [],
       "_model_module": "@jupyter-widgets/controls",
       "_model_module_version": "2.0.0",
       "_model_name": "HTMLModel",
       "_view_count": null,
       "_view_module": "@jupyter-widgets/controls",
       "_view_module_version": "2.0.0",
       "_view_name": "HTMLView",
       "description": "",
       "description_allow_html": false,
       "layout": "IPY_MODEL_40f0d442981c442da7ae937849d664ef",
       "placeholder": "​",
       "style": "IPY_MODEL_d2ffc6fcb97e45f68065b863836a0e5d",
       "tabbable": null,
       "tooltip": null,
       "value": "100%"
      }
     },
     "78d33ad85e154232a77e2191af97995c": {
      "model_module": "@jupyter-widgets/controls",
      "model_module_version": "2.0.0",
      "model_name": "FloatProgressModel",
      "state": {
       "_dom_classes": [],
       "_model_module": "@jupyter-widgets/controls",
       "_model_module_version": "2.0.0",
       "_model_name": "FloatProgressModel",
       "_view_count": null,
       "_view_module": "@jupyter-widgets/controls",
       "_view_module_version": "2.0.0",
       "_view_name": "ProgressView",
       "bar_style": "success",
       "description": "",
       "description_allow_html": false,
       "layout": "IPY_MODEL_8cc94ccef8a94f0bbdfae22b78891c65",
       "max": 6.0,
       "min": 0.0,
       "orientation": "horizontal",
       "style": "IPY_MODEL_be7a7b6ab61c420d9e1977af98964ac9",
       "tabbable": null,
       "tooltip": null,
       "value": 6.0
      }
     },
     "8cc94ccef8a94f0bbdfae22b78891c65": {
      "model_module": "@jupyter-widgets/base",
      "model_module_version": "2.0.0",
      "model_name": "LayoutModel",
      "state": {
       "_model_module": "@jupyter-widgets/base",
       "_model_module_version": "2.0.0",
       "_model_name": "LayoutModel",
       "_view_count": null,
       "_view_module": "@jupyter-widgets/base",
       "_view_module_version": "2.0.0",
       "_view_name": "LayoutView",
       "align_content": null,
       "align_items": null,
       "align_self": null,
       "border_bottom": null,
       "border_left": null,
       "border_right": null,
       "border_top": null,
       "bottom": null,
       "display": null,
       "flex": null,
       "flex_flow": null,
       "grid_area": null,
       "grid_auto_columns": null,
       "grid_auto_flow": null,
       "grid_auto_rows": null,
       "grid_column": null,
       "grid_gap": null,
       "grid_row": null,
       "grid_template_areas": null,
       "grid_template_columns": null,
       "grid_template_rows": null,
       "height": null,
       "justify_content": null,
       "justify_items": null,
       "left": null,
       "margin": null,
       "max_height": null,
       "max_width": null,
       "min_height": null,
       "min_width": null,
       "object_fit": null,
       "object_position": null,
       "order": null,
       "overflow": null,
       "padding": null,
       "right": null,
       "top": null,
       "visibility": null,
       "width": null
      }
     },
     "a7a41e191adb498681c3ed00c1f2ebee": {
      "model_module": "@jupyter-widgets/controls",
      "model_module_version": "2.0.0",
      "model_name": "HTMLStyleModel",
      "state": {
       "_model_module": "@jupyter-widgets/controls",
       "_model_module_version": "2.0.0",
       "_model_name": "HTMLStyleModel",
       "_view_count": null,
       "_view_module": "@jupyter-widgets/base",
       "_view_module_version": "2.0.0",
       "_view_name": "StyleView",
       "background": null,
       "description_width": "",
       "font_size": null,
       "text_color": null
      }
     },
     "be7a7b6ab61c420d9e1977af98964ac9": {
      "model_module": "@jupyter-widgets/controls",
      "model_module_version": "2.0.0",
      "model_name": "ProgressStyleModel",
      "state": {
       "_model_module": "@jupyter-widgets/controls",
       "_model_module_version": "2.0.0",
       "_model_name": "ProgressStyleModel",
       "_view_count": null,
       "_view_module": "@jupyter-widgets/base",
       "_view_module_version": "2.0.0",
       "_view_name": "StyleView",
       "bar_color": null,
       "description_width": ""
      }
     },
     "d2ffc6fcb97e45f68065b863836a0e5d": {
      "model_module": "@jupyter-widgets/controls",
      "model_module_version": "2.0.0",
      "model_name": "HTMLStyleModel",
      "state": {
       "_model_module": "@jupyter-widgets/controls",
       "_model_module_version": "2.0.0",
       "_model_name": "HTMLStyleModel",
       "_view_count": null,
       "_view_module": "@jupyter-widgets/base",
       "_view_module_version": "2.0.0",
       "_view_name": "StyleView",
       "background": null,
       "description_width": "",
       "font_size": null,
       "text_color": null
      }
     }
    },
    "version_major": 2,
    "version_minor": 0
   }
  }
 },
 "nbformat": 4,
 "nbformat_minor": 5
}