{
 "cells": [
  {
   "cell_type": "markdown",
   "id": "92bcb855",
   "metadata": {
    "papermill": {
     "duration": 0.003667,
     "end_time": "2025-06-18T04:19:39.250766",
     "exception": false,
     "start_time": "2025-06-18T04:19:39.247099",
     "status": "completed"
    },
    "tags": []
   },
   "source": [
    "# MPIA Arxiv on Deck 2\n",
    "\n",
    "Contains the steps to produce the paper extractions."
   ]
  },
  {
   "cell_type": "code",
   "execution_count": 1,
   "id": "3a0d6e11",
   "metadata": {
    "execution": {
     "iopub.execute_input": "2025-06-18T04:19:39.258355Z",
     "iopub.status.busy": "2025-06-18T04:19:39.257684Z",
     "iopub.status.idle": "2025-06-18T04:19:39.724383Z",
     "shell.execute_reply": "2025-06-18T04:19:39.723619Z"
    },
    "papermill": {
     "duration": 0.471833,
     "end_time": "2025-06-18T04:19:39.725842",
     "exception": false,
     "start_time": "2025-06-18T04:19:39.254009",
     "status": "completed"
    },
    "tags": []
   },
   "outputs": [],
   "source": [
    "# Imports\n",
    "import os\n",
    "from IPython.display import Markdown, display\n",
    "from tqdm.notebook import tqdm\n",
    "import warnings\n",
    "from PIL import Image \n",
    "import re\n",
    "\n",
    "# requires arxiv_on_deck_2\n",
    "\n",
    "from arxiv_on_deck_2.arxiv2 import (get_new_papers, \n",
    "                                    get_paper_from_identifier,\n",
    "                                    retrieve_document_source, \n",
    "                                    get_markdown_badge)\n",
    "from arxiv_on_deck_2 import (latex,\n",
    "                             latex_bib,\n",
    "                             mpia,\n",
    "                             highlight_authors_in_list)\n",
    "\n",
    "# Sometimes images are really big\n",
    "Image.MAX_IMAGE_PIXELS = 1000000000 "
   ]
  },
  {
   "cell_type": "code",
   "execution_count": 2,
   "id": "22aa9d44",
   "metadata": {
    "execution": {
     "iopub.execute_input": "2025-06-18T04:19:39.733210Z",
     "iopub.status.busy": "2025-06-18T04:19:39.732909Z",
     "iopub.status.idle": "2025-06-18T04:19:39.740975Z",
     "shell.execute_reply": "2025-06-18T04:19:39.740400Z"
    },
    "papermill": {
     "duration": 0.012879,
     "end_time": "2025-06-18T04:19:39.742019",
     "exception": false,
     "start_time": "2025-06-18T04:19:39.729140",
     "status": "completed"
    },
    "tags": []
   },
   "outputs": [],
   "source": [
    "# Some useful definitions.\n",
    "\n",
    "class AffiliationWarning(UserWarning):\n",
    "    pass\n",
    "\n",
    "class AffiliationError(RuntimeError):\n",
    "    pass\n",
    "\n",
    "def validation(source: str):\n",
    "    \"\"\"Raises error paper during parsing of source file\n",
    "    \n",
    "    Allows checks before parsing TeX code.\n",
    "    \n",
    "    Raises AffiliationWarning\n",
    "    \"\"\"\n",
    "    check = mpia.affiliation_verifications(source, verbose=True)\n",
    "    if check is not True:\n",
    "        raise AffiliationError(\"mpia.affiliation_verifications: \" + check)\n",
    "\n",
    "        \n",
    "warnings.simplefilter('always', AffiliationWarning)\n",
    "\n",
    "\n",
    "def get_markdown_qrcode(paper_id: str):\n",
    "    \"\"\" Generate a qrcode to the arxiv page using qrserver.com\n",
    "    \n",
    "    :param paper: Arxiv paper\n",
    "    :returns: markdown text\n",
    "    \"\"\"\n",
    "    url = r\"https://api.qrserver.com/v1/create-qr-code/?size=100x100&data=\"\n",
    "    txt = f\"\"\"<img src={url}\"https://arxiv.org/abs/{paper_id}\">\"\"\"\n",
    "    txt = '<div id=\"qrcode\">' + txt + '</div>'\n",
    "    return txt\n",
    "\n",
    "\n",
    "def clean_non_western_encoded_characters_commands(text: str) -> str:\n",
    "    \"\"\" Remove non-western encoded characters from a string\n",
    "    List may need to grow.\n",
    "    \n",
    "    :param text: the text to clean\n",
    "    :return: the cleaned text\n",
    "    \"\"\"\n",
    "    text = re.sub(r\"(\\\\begin{CJK}{UTF8}{gbsn})(.*?)(\\\\end{CJK})\", r\"\\2\", text)\n",
    "    return text\n",
    "\n",
    "\n",
    "def get_initials(name: str) -> str:\n",
    "    \"\"\" Get the short name, e.g., A.-B. FamName\n",
    "    :param name: full name\n",
    "    :returns: initials\n",
    "    \"\"\"\n",
    "    initials = []\n",
    "    # account for non western names often in ()\n",
    "    if '(' in name:\n",
    "        name = clean_non_western_encoded_characters_commands(name)\n",
    "        suffix = re.findall(r\"\\((.*?)\\)\", name)[0]\n",
    "        name = name.replace(f\"({suffix})\", '')\n",
    "    else:\n",
    "        suffix = ''\n",
    "    split = name.split()\n",
    "    for token in split[:-1]:\n",
    "        if '-' in token:\n",
    "            current = '-'.join([k[0] + '.' for k in token.split('-')])\n",
    "        else:\n",
    "            current = token[0] + '.'\n",
    "        initials.append(current)\n",
    "    initials.append(split[-1].strip())\n",
    "    if suffix:\n",
    "        initials.append(f\"({suffix})\")\n",
    "    return ' '.join(initials)"
   ]
  },
  {
   "cell_type": "markdown",
   "id": "14bd6310",
   "metadata": {
    "papermill": {
     "duration": 0.002857,
     "end_time": "2025-06-18T04:19:39.747828",
     "exception": false,
     "start_time": "2025-06-18T04:19:39.744971",
     "status": "completed"
    },
    "tags": []
   },
   "source": [
    "## get list of arxiv paper candidates\n",
    "\n",
    "We use the MPIA mitarbeiter list webpage from mpia.de to get author names\n",
    "We then get all new papers from Arxiv and match authors"
   ]
  },
  {
   "cell_type": "code",
   "execution_count": 3,
   "id": "7ea813a8",
   "metadata": {
    "execution": {
     "iopub.execute_input": "2025-06-18T04:19:39.754648Z",
     "iopub.status.busy": "2025-06-18T04:19:39.754266Z",
     "iopub.status.idle": "2025-06-18T04:20:02.642646Z",
     "shell.execute_reply": "2025-06-18T04:20:02.642024Z"
    },
    "papermill": {
     "duration": 22.89314,
     "end_time": "2025-06-18T04:20:02.643861",
     "exception": false,
     "start_time": "2025-06-18T04:19:39.750721",
     "status": "completed"
    },
    "tags": []
   },
   "outputs": [],
   "source": [
    "# deal with the author list and edge cases of people that cannot be consistent on their name  \n",
    "\n",
    "def filter_non_scientists(name: str) -> bool:\n",
    "    \"\"\" Loose filter on expected authorships\n",
    "\n",
    "    removing IT, administration, technical staff\n",
    "    :param name: name\n",
    "    :returns: False if name is not a scientist\n",
    "    \"\"\"\n",
    "    remove_list = ['Licht', 'Binroth', 'Witzel', 'Jordan',\n",
    "                   'Zähringer', 'Scheerer', 'Hoffmann', 'Düe',\n",
    "                   'Hellmich', 'Enkler-Scharpegge', 'Witte-Nguy',\n",
    "                   'Dehen', 'Beckmann', 'Jager', 'Jäger'\n",
    "                  ]\n",
    "\n",
    "    for k in remove_list:\n",
    "        if k in name:\n",
    "            return False\n",
    "    return True\n",
    "\n",
    "def add_author_to_list(author_list: list) -> list:\n",
    "    \"\"\" Add author to list if not already in list\n",
    "    \n",
    "    :param author: author name\n",
    "    :param author_list: list of authors\n",
    "    :returns: updated list of authors\n",
    "    \"\"\"\n",
    "    add_list = ['T. Henning']\n",
    "\n",
    "    for author in add_list:\n",
    "        if author not in author_list:\n",
    "            author_list.append(author)\n",
    "    return author_list\n",
    "\n",
    "# get list from MPIA website\n",
    "# filter for non-scientists (mpia.get_mpia_mitarbeiter_list() does some filtering)\n",
    "mpia_authors = [k[1] for k in mpia.get_mpia_mitarbeiter_list() if filter_non_scientists(k[1])]\n",
    "# add some missing author because of inconsistencies in their MPIA name and author name on papers\n",
    "mpia_authors = add_author_to_list(mpia_authors)"
   ]
  },
  {
   "cell_type": "code",
   "execution_count": 4,
   "id": "2645e73a",
   "metadata": {
    "execution": {
     "iopub.execute_input": "2025-06-18T04:20:02.651451Z",
     "iopub.status.busy": "2025-06-18T04:20:02.650959Z",
     "iopub.status.idle": "2025-06-18T04:20:03.493554Z",
     "shell.execute_reply": "2025-06-18T04:20:03.492998Z"
    },
    "papermill": {
     "duration": 0.84743,
     "end_time": "2025-06-18T04:20:03.494617",
     "exception": false,
     "start_time": "2025-06-18T04:20:02.647187",
     "status": "completed"
    },
    "tags": []
   },
   "outputs": [
    {
     "name": "stdout",
     "output_type": "stream",
     "text": [
      "E. Bañados  ->  E. Bañados  |  ['E. Bañados']\n",
      "S. Belladitta  ->  S. Belladitta  |  ['S. Belladitta']\n",
      "I. Momcheva  ->  I. Momcheva  |  ['I. Momcheva']\n",
      "J. Wolf  ->  D. J. Wolf  |  ['J. Wolf']\n",
      "H.-W. Rix  ->  H.-W. Rix  |  ['H.-W. Rix']\n",
      "K. Jahnke  ->  K. Jahnke  |  ['K. Jahnke']\n",
      "K. Paterson  ->  K. Paterson  |  ['K. Paterson']\n",
      "F. Walter  ->  F. Walter  |  ['F. Walter']\n",
      "J. Liu  ->  J. Liu  |  ['J. Liu']\n",
      "W. Brandner  ->  W. Brandner  |  ['W. Brandner']\n",
      "L. Xie  ->  Z.-L. Xie  |  ['L. Xie']\n"
     ]
    },
    {
     "name": "stdout",
     "output_type": "stream",
     "text": [
      "Arxiv has 75 new papers today\n",
      "          4 with possible author matches\n"
     ]
    }
   ],
   "source": [
    "new_papers = get_new_papers()\n",
    "# add manual references\n",
    "add_paper_refs = []\n",
    "new_papers.extend([get_paper_from_identifier(k) for k in add_paper_refs])\n",
    "\n",
    "def robust_call(fn, value, *args, **kwargs):\n",
    "    try:\n",
    "        return fn(value, *args, **kwargs)\n",
    "    except Exception:\n",
    "        return value\n",
    "\n",
    "candidates = []\n",
    "for paperk in new_papers:\n",
    "    # Check author list with their initials\n",
    "    normed_author_list = [robust_call(mpia.get_initials, k) for k in paperk['authors']]\n",
    "    hl_authors = highlight_authors_in_list(normed_author_list, mpia_authors, verbose=True)\n",
    "    matches = [(hl, orig) for hl, orig in zip(hl_authors, paperk['authors']) if 'mark' in hl]\n",
    "    paperk['authors'] = hl_authors\n",
    "    if matches:\n",
    "        # only select paper if an author matched our list\n",
    "        candidates.append(paperk)\n",
    "print(\"\"\"Arxiv has {0:,d} new papers today\"\"\".format(len(new_papers)))        \n",
    "print(\"\"\"          {0:,d} with possible author matches\"\"\".format(len(candidates)))"
   ]
  },
  {
   "cell_type": "markdown",
   "id": "3543b34a",
   "metadata": {
    "papermill": {
     "duration": 0.003056,
     "end_time": "2025-06-18T04:20:03.501219",
     "exception": false,
     "start_time": "2025-06-18T04:20:03.498163",
     "status": "completed"
    },
    "tags": []
   },
   "source": [
    "# Parse sources and generate relevant outputs\n",
    "\n",
    "From the candidates, we do the following steps:\n",
    "* get their tarball from ArXiv (and extract data)\n",
    "* find the main .tex file: find one with \\documentclass{...} (sometimes it's non trivial)\n",
    "* Check affiliations with :func:`validation`, which uses :func:`mpia.affiliation_verifications`\n",
    "* If passing the affiliations: we parse the .tex source\n",
    "   * inject sub-documents into the main (flatten the main document)\n",
    "   * parse structure, extract information (title, abstract, authors, figures...)\n",
    "   * handles `\\graphicspath` if provided\n",
    "* Generate the .md document."
   ]
  },
  {
   "cell_type": "code",
   "execution_count": 5,
   "id": "9576b79e",
   "metadata": {
    "execution": {
     "iopub.execute_input": "2025-06-18T04:20:03.508459Z",
     "iopub.status.busy": "2025-06-18T04:20:03.508053Z",
     "iopub.status.idle": "2025-06-18T04:20:42.113778Z",
     "shell.execute_reply": "2025-06-18T04:20:42.113061Z"
    },
    "papermill": {
     "duration": 38.614556,
     "end_time": "2025-06-18T04:20:42.118848",
     "exception": false,
     "start_time": "2025-06-18T04:20:03.504292",
     "status": "completed"
    },
    "scrolled": false,
    "tags": []
   },
   "outputs": [
    {
     "data": {
      "application/vnd.jupyter.widget-view+json": {
       "model_id": "b15e611b74fa48a7ad964550f0f5c5af",
       "version_major": 2,
       "version_minor": 0
      },
      "text/plain": [
       "  0%|          | 0/4 [00:00<?, ?it/s]"
      ]
     },
     "metadata": {},
     "output_type": "display_data"
    },
    {
     "name": "stdout",
     "output_type": "stream",
     "text": [
      "Retrieving document from  https://arxiv.org/e-print/2506.13945\n"
     ]
    },
    {
     "name": "stdout",
     "output_type": "stream",
     "text": [
      "extracting tarball to tmp_2506.13945..."
     ]
    },
    {
     "name": "stdout",
     "output_type": "stream",
     "text": [
      " done.\n"
     ]
    },
    {
     "name": "stdout",
     "output_type": "stream",
     "text": [
      "Found 82 bibliographic references in tmp_2506.13945/mnras_euclidqso.bbl.\n",
      "Retrieving document from  https://arxiv.org/e-print/2506.14366\n"
     ]
    },
    {
     "name": "stdout",
     "output_type": "stream",
     "text": [
      "extracting tarball to tmp_2506.14366... done.\n",
      "Retrieving document from  https://arxiv.org/e-print/2506.14380\n"
     ]
    },
    {
     "name": "stdout",
     "output_type": "stream",
     "text": [
      "extracting tarball to tmp_2506.14380..."
     ]
    },
    {
     "name": "stdout",
     "output_type": "stream",
     "text": [
      " done.\n"
     ]
    },
    {
     "name": "stderr",
     "output_type": "stream",
     "text": [
      "/opt/hostedtoolcache/Python/3.9.22/x64/lib/python3.9/site-packages/IPython/core/interactiveshell.py:3550: LatexWarning: Multiple tex files.\n",
      "\n",
      "  exec(code_obj, self.user_global_ns, self.user_ns)\n",
      "/opt/hostedtoolcache/Python/3.9.22/x64/lib/python3.9/site-packages/IPython/core/interactiveshell.py:3550: LatexWarning: Found documentclass in tmp_2506.14380/aanda.tex\n",
      "\n",
      "  exec(code_obj, self.user_global_ns, self.user_ns)\n",
      "/opt/hostedtoolcache/Python/3.9.22/x64/lib/python3.9/site-packages/arxiv_on_deck_2/latex.py:414: LatexWarning: Latex injecting: 'Tables/targets_eris.tex' from 'tmp_2506.14380/Tables/targets_eris.tex'\n",
      "  warnings.warn(LatexWarning(f\"Latex injecting: '{ext}' from '{subsource}'\"))\n",
      "/opt/hostedtoolcache/Python/3.9.22/x64/lib/python3.9/site-packages/arxiv_on_deck_2/latex.py:414: LatexWarning: Latex injecting: 'Tables/photometry.tex' from 'tmp_2506.14380/Tables/photometry.tex'\n",
      "  warnings.warn(LatexWarning(f\"Latex injecting: '{ext}' from '{subsource}'\"))\n",
      "/opt/hostedtoolcache/Python/3.9.22/x64/lib/python3.9/site-packages/arxiv_on_deck_2/latex.py:414: LatexWarning: Latex injecting: 'Tables/tentative_candidates' from 'tmp_2506.14380/Tables/tentative_candidates.tex'\n",
      "  warnings.warn(LatexWarning(f\"Latex injecting: '{ext}' from '{subsource}'\"))\n",
      "/opt/hostedtoolcache/Python/3.9.22/x64/lib/python3.9/site-packages/arxiv_on_deck_2/latex.py:414: LatexWarning: Latex injecting: 'Tables/binary' from 'tmp_2506.14380/Tables/binary.tex'\n",
      "  warnings.warn(LatexWarning(f\"Latex injecting: '{ext}' from '{subsource}'\"))\n"
     ]
    },
    {
     "name": "stderr",
     "output_type": "stream",
     "text": [
      "/opt/hostedtoolcache/Python/3.9.22/x64/lib/python3.9/site-packages/arxiv_on_deck_2/latex.py:132: LatexWarning: attempting recovering figure Figures/Usco_map.png\n",
      "  warnings.warn(LatexWarning(f'attempting recovering figure {image}'))\n",
      "/opt/hostedtoolcache/Python/3.9.22/x64/lib/python3.9/site-packages/arxiv_on_deck_2/latex.py:707: LatexWarning: Could not find graphic \\includegraphics[width =0.5\\textwidth]{Figures/Usco_map.png}\n",
      "  warnings.warn(LatexWarning(f\"Could not find graphic {k}\"))\n"
     ]
    },
    {
     "name": "stdout",
     "output_type": "stream",
     "text": [
      "Issues with the citations\n",
      "list index out of range\n",
      "Retrieving document from  https://arxiv.org/e-print/2506.14519\n"
     ]
    },
    {
     "name": "stdout",
     "output_type": "stream",
     "text": [
      "extracting tarball to tmp_2506.14519..."
     ]
    },
    {
     "name": "stdout",
     "output_type": "stream",
     "text": [
      " done.\n"
     ]
    },
    {
     "name": "stderr",
     "output_type": "stream",
     "text": [
      "/opt/hostedtoolcache/Python/3.9.22/x64/lib/python3.9/site-packages/IPython/core/interactiveshell.py:3550: LatexWarning: Multiple tex files.\n",
      "\n",
      "  exec(code_obj, self.user_global_ns, self.user_ns)\n",
      "/opt/hostedtoolcache/Python/3.9.22/x64/lib/python3.9/site-packages/IPython/core/interactiveshell.py:3550: LatexWarning: Found documentclass in tmp_2506.14519/v3.tex\n",
      "\n",
      "  exec(code_obj, self.user_global_ns, self.user_ns)\n",
      "/opt/hostedtoolcache/Python/3.9.22/x64/lib/python3.9/site-packages/arxiv_on_deck_2/latex.py:414: LatexWarning: Latex injecting: 'main_sub/tab_pol' from 'tmp_2506.14519/main_sub/tab_pol.tex'\n",
      "  warnings.warn(LatexWarning(f\"Latex injecting: '{ext}' from '{subsource}'\"))\n",
      "/opt/hostedtoolcache/Python/3.9.22/x64/lib/python3.9/site-packages/arxiv_on_deck_2/latex.py:414: LatexWarning: Latex injecting: 'main_sub/fig4pol' from 'tmp_2506.14519/main_sub/fig4pol.tex'\n",
      "  warnings.warn(LatexWarning(f\"Latex injecting: '{ext}' from '{subsource}'\"))\n",
      "/opt/hostedtoolcache/Python/3.9.22/x64/lib/python3.9/site-packages/arxiv_on_deck_2/latex.py:414: LatexWarning: Latex injecting: 'main_sub/fig_2d' from 'tmp_2506.14519/main_sub/fig_2d.tex'\n",
      "  warnings.warn(LatexWarning(f\"Latex injecting: '{ext}' from '{subsource}'\"))\n",
      "/opt/hostedtoolcache/Python/3.9.22/x64/lib/python3.9/site-packages/arxiv_on_deck_2/latex.py:414: LatexWarning: Latex injecting: 'main_sub/tab_taus' from 'tmp_2506.14519/main_sub/tab_taus.tex'\n",
      "  warnings.warn(LatexWarning(f\"Latex injecting: '{ext}' from '{subsource}'\"))\n",
      "/opt/hostedtoolcache/Python/3.9.22/x64/lib/python3.9/site-packages/arxiv_on_deck_2/latex.py:414: LatexWarning: Latex injecting: 'main_sub/tab_compare' from 'tmp_2506.14519/main_sub/tab_compare.tex'\n",
      "  warnings.warn(LatexWarning(f\"Latex injecting: '{ext}' from '{subsource}'\"))\n",
      "/opt/hostedtoolcache/Python/3.9.22/x64/lib/python3.9/site-packages/arxiv_on_deck_2/latex.py:414: LatexWarning: Latex injecting: 'ncmd' from 'tmp_2506.14519/ncmd.tex'\n",
      "  warnings.warn(LatexWarning(f\"Latex injecting: '{ext}' from '{subsource}'\"))\n"
     ]
    }
   ],
   "source": [
    "documents = []\n",
    "failed = []\n",
    "for paper in tqdm(candidates):\n",
    "    # debug crap\n",
    "    paper['identifier'] = paper['identifier'].lower().replace('arxiv:', '').replace(r'\\n', '').strip()\n",
    "    paper_id = paper['identifier']\n",
    "    \n",
    "    folder = f'tmp_{paper_id}'\n",
    "\n",
    "    try:\n",
    "        if not os.path.isdir(folder):\n",
    "            folder = retrieve_document_source(f\"{paper_id}\", f'tmp_{paper_id}')\n",
    "        \n",
    "        try:\n",
    "            doc = latex.LatexDocument(folder, validation=validation)    \n",
    "        except AffiliationError as affilerror:\n",
    "            msg = f\"ArXiv:{paper_id:s} is not an MPIA paper... \" + str(affilerror)\n",
    "            failed.append((paper, \"affiliation error: \" + str(affilerror) ))\n",
    "            continue\n",
    "        \n",
    "        # Hack because sometimes author parsing does not work well\n",
    "        if (len(doc.authors) != len(paper['authors'])):\n",
    "            doc._authors = paper['authors']\n",
    "        else:\n",
    "            # highlight authors (FIXME: doc.highlight_authors)\n",
    "            # done on arxiv paper already\n",
    "            doc._authors = highlight_authors_in_list(\n",
    "                [get_initials(k) for k in doc.authors], \n",
    "                mpia_authors, verbose=True)\n",
    "        if (doc.abstract) in (None, ''):\n",
    "            doc._abstract = paper['abstract']\n",
    "            \n",
    "        doc.comment = (get_markdown_badge(paper_id) + \n",
    "                       \"<mark>Appeared on: \" + paper['date'] + \"</mark> - \")\n",
    "        if paper['comments']:\n",
    "            doc.comment += \" _\" + paper['comments'] + \"_\"\n",
    "        \n",
    "        full_md = doc.generate_markdown_text()\n",
    "        \n",
    "        full_md += get_markdown_qrcode(paper_id)\n",
    "        \n",
    "        # replace citations\n",
    "        try:\n",
    "            bibdata = latex_bib.LatexBib.from_doc(doc)\n",
    "            full_md = latex_bib.replace_citations(full_md, bibdata)\n",
    "        except Exception as e:\n",
    "            print(\"Issues with the citations\")\n",
    "            print(e)\n",
    "        \n",
    "        documents.append((paper_id, full_md))\n",
    "    except Exception as e:\n",
    "        warnings.warn(latex.LatexWarning(f\"{paper_id:s} did not run properly\\n\" +\n",
    "                                         str(e)\n",
    "                                        ))\n",
    "        failed.append((paper, \"latex error \" + str(e)))"
   ]
  },
  {
   "cell_type": "markdown",
   "id": "2505a25c",
   "metadata": {
    "papermill": {
     "duration": 0.003819,
     "end_time": "2025-06-18T04:20:42.126630",
     "exception": false,
     "start_time": "2025-06-18T04:20:42.122811",
     "status": "completed"
    },
    "tags": []
   },
   "source": [
    "### Export the logs\n",
    "\n",
    "Throughout, we also keep track of the logs per paper. see `logs-{today date}.md` "
   ]
  },
  {
   "cell_type": "code",
   "execution_count": 6,
   "id": "d733828a",
   "metadata": {
    "execution": {
     "iopub.execute_input": "2025-06-18T04:20:42.135220Z",
     "iopub.status.busy": "2025-06-18T04:20:42.134914Z",
     "iopub.status.idle": "2025-06-18T04:20:42.149980Z",
     "shell.execute_reply": "2025-06-18T04:20:42.149425Z"
    },
    "papermill": {
     "duration": 0.020471,
     "end_time": "2025-06-18T04:20:42.150912",
     "exception": false,
     "start_time": "2025-06-18T04:20:42.130441",
     "status": "completed"
    },
    "scrolled": false,
    "tags": []
   },
   "outputs": [
    {
     "data": {
      "text/markdown": [
       "## Successful papers"
      ],
      "text/plain": [
       "<IPython.core.display.Markdown object>"
      ]
     },
     "metadata": {},
     "output_type": "display_data"
    },
    {
     "data": {
      "text/markdown": [
       "\n",
       "|||\n",
       "|---:|:---|\n",
       "| [![arXiv](https://img.shields.io/badge/arXiv-2506.13945-b31b1b.svg)](https://arxiv.org/abs/2506.13945) | **Euclid: The potential of slitless infrared spectroscopy: A z=5.4 quasar and new ultracool dwarfs**  |\n",
       "|| <mark>E. Bañados</mark>, et al. -- incl., <mark>S. Belladitta</mark>, <mark>I. Momcheva</mark>, <mark>J. Wolf</mark>, <mark>H.-W. Rix</mark>, <mark>K. Jahnke</mark>, <mark>K. Paterson</mark>, <mark>F. Walter</mark> |\n",
       "|*Appeared on*| *2025-06-18*|\n",
       "|*Comments*| *Euclid NISP RGE quasar spectrum in Fig. 5 and NISP BGE spectrum in Appendix Fig. C1. Submitted*|\n",
       "|**Abstract**|            We demonstrate the potential of Euclid's slitless spectroscopy to discover high-redshift (z>5) quasars and their main photometric contaminant, ultracool dwarfs. Sensitive infrared spectroscopy from space is able to efficiently identify both populations, as demonstrated by Euclid Near-Infrared Spectrometer and Photometer Red Grism (NISP RGE) spectra of the newly discovered z=5.404 quasar EUCL J181530.01+652054.0, as well as several ultracool dwarfs in the Euclid Deep Field North and the Euclid Early Release Observation field Abell 2764. The ultracool dwarfs were identified by cross-correlating their spectra with templates. The quasar was identified by its strong and broad CIII] and MgII emission lines in the NISP RGE 1206-1892 nm spectrum, and confirmed through optical spectroscopy from the Large Binocular Telescope. The NISP Blue Grism (NISP BGE) 926-1366 nm spectrum confirms CIV and CIII] emission. NISP RGE can find bright quasars at z~5.5 and z>7, redshift ranges that are challenging for photometric selection due to contamination from ultracool dwarfs. EUCL J181530.01+652054.0 is a high-excitation, broad absorption line quasar detected at 144 MHz by the LOw-Frequency Array (L144=4e25 W/Hz). The quasar has a bolometric luminosity of 3e12 Lsun and is powered by a 3.4e9 Msun black hole. The discovery of this bright quasar is noteworthy as fewer than one such object was expected in the ~20 deg2 surveyed. This finding highlights the potential and effectiveness of NISP spectroscopy in identifying rare, luminous high-redshift quasars, previewing the census of these sources that Euclid's slitless spectroscopy will deliver over about 14,000 deg2 of the sky.         |"
      ],
      "text/plain": [
       "[2506.13945] Euclid: The potential of slitless infrared spectroscopy: A z=5.4 quasar and new ultracool dwarfs\n",
       "\t<mark>E. Bañados</mark>, et al. -- incl., <mark>S. Belladitta</mark>, <mark>I. Momcheva</mark>, <mark>J. Wolf</mark>, <mark>H.-W. Rix</mark>, <mark>K. Jahnke</mark>, <mark>K. Paterson</mark>, <mark>F. Walter</mark>"
      ]
     },
     "metadata": {},
     "output_type": "display_data"
    },
    {
     "data": {
      "text/markdown": [
       "\n",
       "|||\n",
       "|---:|:---|\n",
       "| [![arXiv](https://img.shields.io/badge/arXiv-2506.14380-b31b1b.svg)](https://arxiv.org/abs/2506.14380) | **Multiplicity of young isolated planetary mass objects in Taurus and Upper Scorpius**  |\n",
       "|| H. Bouy, et al. -- incl., <mark>W. Brandner</mark> |\n",
       "|*Appeared on*| *2025-06-18*|\n",
       "|*Comments*| *Submitted to A&A on 2025-04-04 ; awaiting the initial review*|\n",
       "|**Abstract**|            Free-floating planetary mass objects-worlds that roam interstellar space untethered to a parent star-challenge conventional notions of planetary formation and migration, but also of star and brown dwarf formation. We focus on the multiplicity among free-floating planets. By virtue of their low binding energy (compared to other objects formed in these environments), these low-mass substellar binaries represent a most sensitive probe of the mechanisms at play during the star formation process. We use the Hubble Space Telescope and its Wide Field Camera 3 and the Very Large Telescope and its ERIS adaptive optics facility to search for visual companions among a sample of 77 objects members of the Upper Scorpius and Taurus young nearby associations with estimated masses in the range between approximately 5-33 M$_{\\rm Jup}$. We report the discovery of one companion candidate around a Taurus member with a separation of 111.9$\\pm$0.4 mas, or $\\sim$18 au assuming a distance of 160pc, with an estimated primary mass in the range between 3-6 M$_{\\rm Jup}$ and a secondary mass between 2.6-5.2 M$_{\\rm Jup}$, depending on the assumed age. This corresponds to an overall binary fraction of 1.8$^{+2.6}_{-1.3}$% among free-floating planetary mass objects over the separation range $\\ge$7 au. Despite the limitations of small-number statistics and variations in spatial resolution and sensitivity, our results, combined with previous high-spatial-resolution surveys, suggest a notable difference in the multiplicity properties of objects below $\\sim$25 M$_{\\rm Jup}$ between Upper Sco and Taurus. In Taurus, five companions were identified among 78 observed objects (4.9$^{+2.8}_{-2.0}$%), whereas none were found among 97 objects in Upper Sco ($\\le$1.2%).}         |"
      ],
      "text/plain": [
       "[2506.14380] Multiplicity of young isolated planetary mass objects in Taurus and Upper Scorpius\n",
       "\tH. Bouy, et al. -- incl., <mark>W. Brandner</mark>"
      ]
     },
     "metadata": {},
     "output_type": "display_data"
    },
    {
     "data": {
      "text/markdown": [
       "## Failed papers"
      ],
      "text/plain": [
       "<IPython.core.display.Markdown object>"
      ]
     },
     "metadata": {},
     "output_type": "display_data"
    },
    {
     "data": {
      "text/markdown": [
       "\n",
       "|||\n",
       "|---:|:---|\n",
       "| [![arXiv](https://img.shields.io/badge/arXiv-2506.14366-b31b1b.svg)](https://arxiv.org/abs/2506.14366) | **The power of SKA to Constrain cosmological gravitational-wave backgrounds below the astrophysical foreground noise**  |\n",
       "|| C. Fu, <mark>J. Liu</mark> |\n",
       "|*Appeared on*| *2025-06-18*|\n",
       "|*Comments*| *8 pages, 2 figures*|\n",
       "|**Abstract**|            The inspirals of supermaissive black hole binaries provide a convinced gravitational wave background in the nHz band, serving as the fiducial model of the recent gravitational wave signal reported by the PTA experiments. The uncertainties of the number of binaries contributing to each frequency bin introduce a foreground noise in the nHz and $\\mu$Hz bands against the observation of the underlying gravitational wave backgrounds of the cosmological origin. In this work, we investigate a new method to constrain the cosmological gravitational wave strength under the astrophysical foreground. The energy density fluctuations from cosmological gravitational-wave sources can generally trigger the formation of compact subhalos of dark matter, and the upcoming Square Kilometer Array has the ability to constrain the abundance of the subhalos at the $\\mathcal{O}(1)$ level. The cosmological gravitational wave energy spectra from various sources are expected to be constrained several orders of magnitude below the astrophysical foreground, providing more strict constraints on the parameter spaces of corresponding new physics models.         |\n",
       "|<p style=\"color:green\"> **ERROR** </p>| <p style=\"color:green\">affiliation error: mpia.affiliation_verifications: 'Heidelberg' keyword not found.</p> |"
      ],
      "text/plain": [
       "<IPython.core.display.Markdown object>"
      ]
     },
     "metadata": {},
     "output_type": "display_data"
    },
    {
     "data": {
      "text/markdown": [
       "\n",
       "|||\n",
       "|---:|:---|\n",
       "| [![arXiv](https://img.shields.io/badge/arXiv-2506.14519-b31b1b.svg)](https://arxiv.org/abs/2506.14519) | **FAST Pulsar Database: II. Scattering profiles of 122 Pulsars**  |\n",
       "|| W. C. Jing, et al. -- incl., <mark>L. Xie</mark> |\n",
       "|*Appeared on*| *2025-06-18*|\n",
       "|*Comments*| *Subband profiles of each pulsar are shown in the paper. Accepted by RAA*|\n",
       "|**Abstract**|            The turbulent ionized interstellar medium diffracts radio waves and makes them propagate in multiple paths. The pulse-broadening observed at low frequencies results from the scattering effect of interstellar clouds of ionized gas. During the Galactic Plane Pulsar Snapshot (GPPS) survey and other projects by using the Five-hundred-meter Aperture Spherical radio Telescope (FAST), we detect the pulse-broadening for 122 pulsars in the radio frequency band between 1.0 and 1.5 GHz, including 60 newly discovered pulsars in the GPPS survey and 62 previously known pulsars. We find that a more accurate dispersion measure can be obtained from aligning the front edge of the scattered subband pulses at the 1/4 or 1/2 peak level for most pulsars with one dominant component in the intrinsic profile, and the best DM values from aligning the intrinsic profile components from the model-fitting. From the pulse profiles at a few subbands we derive the pulse-broadening timescale and the scattering spectral index. These scattering parameters are measured for the first time for 93 pulsars. For 29 pulsars with previously detected scattering features, our measurements of the pulse-broadening timescale are consistent with results in the literature. We find that pulsars behind spiral arms show a stronger scattering effect due to greater density fluctuations in the arm regions. With a properly derived dispersion measure and careful calibration, we also present polarization profiles for 41 pulsars in three subbands of FAST observations.         |\n",
       "|<p style=\"color:green\"> **ERROR** </p>| <p style=\"color:green\">affiliation error: mpia.affiliation_verifications: 'Heidelberg' keyword not found.</p> |"
      ],
      "text/plain": [
       "<IPython.core.display.Markdown object>"
      ]
     },
     "metadata": {},
     "output_type": "display_data"
    }
   ],
   "source": [
    "import datetime\n",
    "today = str(datetime.date.today())\n",
    "logfile = f\"_build/html/logs/log-{today}.md\"\n",
    "\n",
    "\n",
    "with open(logfile, 'w') as logs:\n",
    "    # Success\n",
    "    logs.write(f'# Arxiv on Deck 2: Logs - {today}\\n\\n')\n",
    "    logs.write(\"\"\"* Arxiv had {0:,d} new papers\\n\"\"\".format(len(new_papers)))\n",
    "    logs.write(\"\"\"    * {0:,d} with possible author matches\\n\\n\"\"\".format(len(candidates)))\n",
    "    logs.write(\"## Sucessful papers\\n\\n\")\n",
    "    display(Markdown(\"## Successful papers\"))\n",
    "    success = [k[0] for k in documents]\n",
    "    for candid in candidates:\n",
    "        if candid['identifier'].split(':')[-1] in success:\n",
    "            display(candid)\n",
    "            logs.write(candid.generate_markdown_text() + '\\n\\n')\n",
    "\n",
    "    ## failed\n",
    "    logs.write(\"## Failed papers\\n\\n\")\n",
    "    display(Markdown(\"## Failed papers\"))\n",
    "    failed = sorted(failed, key=lambda x: x[1])\n",
    "    current_reason = \"\"\n",
    "    for paper, reason in failed:\n",
    "        if 'affiliation' in reason:\n",
    "            color = 'green'\n",
    "        else:\n",
    "            color = 'red'\n",
    "        data = Markdown(\n",
    "                paper.generate_markdown_text() + \n",
    "                f'\\n|<p style=\"color:{color:s}\"> **ERROR** </p>| <p style=\"color:{color:s}\">{reason:s}</p> |'\n",
    "               )\n",
    "        if reason != current_reason:\n",
    "            logs.write(f'### {reason:s} \\n\\n')\n",
    "            current_reason = reason\n",
    "        logs.write(data.data + '\\n\\n')\n",
    "        \n",
    "        # only display here the important errors (all in logs)\n",
    "        # if color in ('red',):\n",
    "        display(data)"
   ]
  },
  {
   "cell_type": "markdown",
   "id": "472d20ee",
   "metadata": {
    "papermill": {
     "duration": 0.004885,
     "end_time": "2025-06-18T04:20:42.160239",
     "exception": false,
     "start_time": "2025-06-18T04:20:42.155354",
     "status": "completed"
    },
    "tags": []
   },
   "source": [
    "## Export documents\n",
    "\n",
    "We now write the .md files and export relevant images"
   ]
  },
  {
   "cell_type": "code",
   "execution_count": 7,
   "id": "d426aed9",
   "metadata": {
    "execution": {
     "iopub.execute_input": "2025-06-18T04:20:42.169828Z",
     "iopub.status.busy": "2025-06-18T04:20:42.169627Z",
     "iopub.status.idle": "2025-06-18T04:20:42.176510Z",
     "shell.execute_reply": "2025-06-18T04:20:42.175956Z"
    },
    "papermill": {
     "duration": 0.012811,
     "end_time": "2025-06-18T04:20:42.177411",
     "exception": false,
     "start_time": "2025-06-18T04:20:42.164600",
     "status": "completed"
    },
    "tags": []
   },
   "outputs": [],
   "source": [
    "def export_markdown_summary(md: str, md_fname:str, directory: str):\n",
    "    \"\"\"Export MD document and associated relevant images\"\"\"\n",
    "    import os\n",
    "    import shutil\n",
    "    import re\n",
    "\n",
    "    if (os.path.exists(directory) and not os.path.isdir(directory)):\n",
    "        raise RuntimeError(f\"a non-directory file exists with name {directory:s}\")\n",
    "\n",
    "    if (not os.path.exists(directory)):\n",
    "        print(f\"creating directory {directory:s}\")\n",
    "        os.mkdir(directory)\n",
    "\n",
    "    fig_fnames = (re.compile(r'\\[Fig.*\\]\\((.*)\\)').findall(md) + \n",
    "                  re.compile(r'\\<img src=\"([^>\\s]*)\"[^>]*/>').findall(md))\n",
    "    print(\"found figures\", fig_fnames)\n",
    "    for fname in fig_fnames:\n",
    "        if 'http' in fname:\n",
    "            # No need to copy online figures\n",
    "            continue\n",
    "        if not os.path.exists(fname):\n",
    "            print(\"file not found\", fname)\n",
    "            continue\n",
    "        print(\"copying \", fname, \"to\", directory)\n",
    "        destdir = os.path.join(directory, os.path.dirname(fname))\n",
    "        destfname = os.path.join(destdir, os.path.basename(fname))\n",
    "        try:\n",
    "            os.makedirs(destdir)\n",
    "        except FileExistsError:\n",
    "            pass\n",
    "        shutil.copy(fname, destfname)\n",
    "    with open(os.path.join(directory, md_fname), 'w') as fout:\n",
    "        fout.write(md)\n",
    "    print(\"exported in \", os.path.join(directory, md_fname))\n",
    "    [print(\"    + \" + os.path.join(directory,fk)) for fk in fig_fnames]"
   ]
  },
  {
   "cell_type": "code",
   "execution_count": 8,
   "id": "014d04a4",
   "metadata": {
    "execution": {
     "iopub.execute_input": "2025-06-18T04:20:42.187338Z",
     "iopub.status.busy": "2025-06-18T04:20:42.186894Z",
     "iopub.status.idle": "2025-06-18T04:20:42.194105Z",
     "shell.execute_reply": "2025-06-18T04:20:42.193546Z"
    },
    "papermill": {
     "duration": 0.013254,
     "end_time": "2025-06-18T04:20:42.195129",
     "exception": false,
     "start_time": "2025-06-18T04:20:42.181875",
     "status": "completed"
    },
    "tags": []
   },
   "outputs": [
    {
     "name": "stdout",
     "output_type": "stream",
     "text": [
      "found figures ['tmp_2506.13945/./f5.png', 'tmp_2506.13945/./f1.png', 'tmp_2506.13945/./f3.png']\n",
      "copying  tmp_2506.13945/./f5.png to _build/html/\n",
      "copying  tmp_2506.13945/./f1.png to _build/html/\n",
      "copying  tmp_2506.13945/./f3.png to _build/html/\n",
      "exported in  _build/html/2506.13945.md\n",
      "    + _build/html/tmp_2506.13945/./f5.png\n",
      "    + _build/html/tmp_2506.13945/./f1.png\n",
      "    + _build/html/tmp_2506.13945/./f3.png\n",
      "found figures ['tmp_2506.14380/./Figures/galaxy.png', 'tmp_2506.14380/./Figures/targets_i_iz.png', 'tmp_2506.14380/./Figures/contrast_hst.png']\n",
      "copying  tmp_2506.14380/./Figures/galaxy.png to _build/html/\n",
      "copying  tmp_2506.14380/./Figures/targets_i_iz.png to _build/html/\n",
      "copying  tmp_2506.14380/./Figures/contrast_hst.png to _build/html/\n",
      "exported in  _build/html/2506.14380.md\n",
      "    + _build/html/tmp_2506.14380/./Figures/galaxy.png\n",
      "    + _build/html/tmp_2506.14380/./Figures/targets_i_iz.png\n",
      "    + _build/html/tmp_2506.14380/./Figures/contrast_hst.png\n"
     ]
    }
   ],
   "source": [
    "for paper_id, md in documents:\n",
    "    export_markdown_summary(md, f\"{paper_id:s}.md\", '_build/html/')"
   ]
  },
  {
   "cell_type": "markdown",
   "id": "f087a0a7",
   "metadata": {
    "papermill": {
     "duration": 0.004534,
     "end_time": "2025-06-18T04:20:42.204332",
     "exception": false,
     "start_time": "2025-06-18T04:20:42.199798",
     "status": "completed"
    },
    "tags": []
   },
   "source": [
    "## Display the papers\n",
    "\n",
    "Not necessary but allows for a quick check."
   ]
  },
  {
   "cell_type": "code",
   "execution_count": 9,
   "id": "fd25f625",
   "metadata": {
    "execution": {
     "iopub.execute_input": "2025-06-18T04:20:42.214321Z",
     "iopub.status.busy": "2025-06-18T04:20:42.213919Z",
     "iopub.status.idle": "2025-06-18T04:20:42.219600Z",
     "shell.execute_reply": "2025-06-18T04:20:42.219085Z"
    },
    "papermill": {
     "duration": 0.011761,
     "end_time": "2025-06-18T04:20:42.220651",
     "exception": false,
     "start_time": "2025-06-18T04:20:42.208890",
     "status": "completed"
    },
    "scrolled": false,
    "tags": []
   },
   "outputs": [
    {
     "data": {
      "text/markdown": [
       "<div class=\"macros\" style=\"visibility:hidden;\">\n",
       "$\\newcommand{\\ensuremath}{}$\n",
       "$\\newcommand{\\xspace}{}$\n",
       "$\\newcommand{\\object}[1]{\\texttt{#1}}$\n",
       "$\\newcommand{\\farcs}{{.}''}$\n",
       "$\\newcommand{\\farcm}{{.}'}$\n",
       "$\\newcommand{\\arcsec}{''}$\n",
       "$\\newcommand{\\arcmin}{'}$\n",
       "$\\newcommand{\\ion}[2]{#1#2}$\n",
       "$\\newcommand{\\textsc}[1]{\\textrm{#1}}$\n",
       "$\\newcommand{\\hl}[1]{\\textrm{#1}}$\n",
       "$\\newcommand{\\footnote}[1]{}$\n",
       "$\\newcommand{\\sfont}[1]{{\\scriptscriptstyle\\rm #1}}$\n",
       "$\\newcommand{\\IE}{\\ensuremath{I_\\sfont{E}}\\xspace}$\n",
       "$\\newcommand{\\YE}{\\ensuremath{Y_\\sfont{E}}\\xspace}$\n",
       "$\\newcommand{\\JE}{\\ensuremath{J_\\sfont{E}}\\xspace}$\n",
       "$\\newcommand{\\HE}{\\ensuremath{H_\\sfont{E}}\\xspace}$\n",
       "$\\newcommand{\\BGE}{\\ensuremath{{\\rm BG}_\\sfont{E}}\\xspace}$\n",
       "$\\newcommand{\\RGE}{\\ensuremath{{\\rm RG}_\\sfont{E}}\\xspace}$\n",
       "$\\newcommand{\\quasar}{EUCL J181530.01+652054.0}$\n",
       "$\\newcommand{\\quasarshort}{EUCL~QSO J1815+6520}$\n",
       "$\\newcommand{\\noquasar}{EUCL J180409.14+641335.3}$\n",
       "$\\newcommand{\\tdwarf}{WISE~J174556.65+645933.8}$\n",
       "$\\newcommand{\\tdwarfeuclid}{EUCL J174556.41+645936.8}$\n",
       "$\\newcommand{\\mdwarf}{EUCL J174429.80+672728.1}$\n",
       "$\\newcommand{\\dwarfabell}{EUCL J002516.31-491618.5}$\n",
       "$\\newcommand{\\ldwarf}{EUCL J181201.83+661609.6}$\n",
       "$\\newcommand{\\AckEC}{The Euclid Consortium acknowledges the European$\n",
       "$  Space Agency and \\AckInstitutions}$\n",
       "$\\newcommand{\\pd}{\\phantom{1}}$\n",
       "$\\newcommand{\\thebibliography}{\\DeclareRobustCommand{\\VAN}[3]{##3}\\VANthebibliography}$\n",
       "$\\newcommand\\aliii{\\ensuremath{\\text{Al \\textsc{iii}}}}$\n",
       "$\\newcommand\\siiv{\\ensuremath{\\text{Si \\textsc{iv}}}}$\n",
       "$\\newcommand\\civ{\\ensuremath{\\text{C \\textsc{iv}}}}$\n",
       "$\\newcommand\\mgii{\\ensuremath{\\text{Mg \\textsc{ii}}}}$\n",
       "$\\newcommand\\heii{\\ensuremath{\\text{He \\textsc{ii}}}}$\n",
       "$\\newcommand\\feii{\\ensuremath{\\text{Fe \\textsc{ii}}}}$\n",
       "$\\newcommand\\feiii{\\ensuremath{\\text{Fe \\textsc{iii}}}}$\n",
       "$\\newcommand\\cii{\\ensuremath{\\text{[C \\textsc{ii]}}}}$\n",
       "$\\newcommand\\ciii{\\ensuremath{\\text{C \\textsc{iii]}}}}$\n",
       "$\\newcommand\\ciilong{\\ensuremath{\\text{[C \\textsc{ii]}}_{158 \\mu\\text{m}}}}$\n",
       "$\\newcommand\\heii{\\ensuremath{\\text{He \\textsc{ii}}}}$\n",
       "$\\newcommand\\halpha{\\ensuremath{\\text{H}\\alpha}}$\n",
       "$\\newcommand\\hbeta{\\ensuremath{\\text{H}\\beta}}$\n",
       "$\\newcommand\\lya{\\ensuremath{\\text{Ly}\\alpha}}$\n",
       "$\\newcommand\\nv{\\ensuremath{\\text{N \\textsc{v}}}}$</div>\n",
       "\n",
       "\n",
       "\n",
       "<div id=\"title\">\n",
       "\n",
       "# $\\Euclid$: The potential of slitless infrared spectroscopy: \\\\A $z=5.4$ quasar and new ultracool dwarfs$\\thanks{This paper is published on behalf of the Euclid Consortium}$\n",
       "\n",
       "</div>\n",
       "<div id=\"comments\">\n",
       "\n",
       "[![arXiv](https://img.shields.io/badge/arXiv-2506.13945-b31b1b.svg)](https://arxiv.org/abs/2506.13945)<mark>Appeared on: 2025-06-18</mark> -  _Euclid NISP RGE quasar spectrum in Fig. 5 and NISP BGE spectrum in Appendix Fig. C1. Submitted_\n",
       "\n",
       "</div>\n",
       "<div id=\"authors\">\n",
       "\n",
       "<mark>E. Bañados</mark>, et al. -- incl., <mark>S. Belladitta</mark>, <mark>I. Momcheva</mark>, <mark>J. Wolf</mark>, <mark>H.-W. Rix</mark>, <mark>K. Jahnke</mark>, <mark>K. Paterson</mark>, <mark>F. Walter</mark>\n",
       "\n",
       "</div>\n",
       "<div id=\"abstract\">\n",
       "\n",
       "**Abstract:** $\\footnotesize$ We demonstrate the potential of $\\Euclid{\\rm 's}$ slitless spectroscopy to discover high-redshift ( $z>5$ ) quasars and their main photometric contaminant, ultracool dwarfs. Sensitive infrared spectroscopy from space is able to efficiently identify both populations, as demonstrated by $\\Euclid$ Near-Infrared Spectrometer and Photometer Red Grism (NISP $\\RGE$ ) spectra of the newly discovered $z=5.404$ quasar $\\quasar$ , as well as several ultracool dwarfs in the Euclid Deep Field North and the _Euclid_ Early Release Observation field Abell 2764.The ultracool dwarfs were identified by cross-correlating their spectra with templates. The quasar was identified by its strong and broad $\\ciii$ and $\\mgii$ emission lines in the NISP $\\RGE$ 1206--1892 nm spectrum, and confirmed through optical spectroscopy from the Large Binocular Telescope. The NISP Blue Grism (NISP $\\BGE$ ) 926--1366 nm spectrum confirms $\\civ$ and $\\ciii$ emission.NISP $\\RGE$ can find bright quasars at $ z\\approx 5.5$ and $ z\\gtrsim 7$ , redshift ranges that are challenging for photometric selection due to contamination from ultracool dwarfs. $\\quasar$ is a high-excitation, broad absorption line quasar detected at 144 MHz by the LOw-Frequency Array ( $L_{\\rm 144}=4.0 \\times 10^{25} $ W Hz $^{-1}$ ). The quasar has a bolometric luminosity of $3\\times 10^{12} \\lsun$ and is powered by a $3.4\\times 10^9 \\msun$ black hole. The discovery of this bright quasar is noteworthy as fewer than one such object was expected in the $\\approx$ 20 deg $^2$ surveyed. This finding highlights the potential and effectiveness of NISP spectroscopy in identifying rare, luminous high-redshift quasars, previewing the census of these sources that $\\Euclid$ 's slitless spectroscopy will deliver over about $14 000 $ deg $^2$ of the sky.\n",
       "\n",
       "</div>\n",
       "\n",
       "<div id=\"div_fig1\">\n",
       "\n",
       "<img src=\"tmp_2506.13945/./f5.png\" alt=\"Fig9\" width=\"100%\"/>\n",
       "\n",
       "**Figure 9. -** _Top:_ Postage stamps of the $z=5.4$ quasar $\\quasar$. The \\Euclid$\\IE$, $\\YE$, $\\JE$, and $\\HE$ images are $5$\\arcsec$$ on a side while the LOFAR image is $30$\\arcsec$$ on a side. The LOFAR   beam is shown on the lower left of its panel.\n",
       "    _Middle:_  NISP grism $\\RGE$ spectrum (black line; masked pixels are in grey, and the uncertainties in green). The blue line shows the best-fit power-law emission plus \\ciii and \\mgii broad emission lines, identifying this as a quasar at $z_{\\rm \\mgii}=5.404\\pm 0.007$.\n",
       "    _Bottom: _ LBT/MODS optical spectrum (black line and uncertainties in green), confirming the quasar nature of $\\quasar$. The vertical dashed lines correspond to the expected position of the labelled emission lines based on the \\mgii redshift.\n",
       "    The dashed rectangles indicate the \\siiv and \\civ BAL regions shown in Fig. \\ref{fig:bal}.\n",
       "     (*fig:qso*)\n",
       "\n",
       "</div>\n",
       "<div id=\"div_fig2\">\n",
       "\n",
       "<img src=\"tmp_2506.13945/./f1.png\" alt=\"Fig3\" width=\"100%\"/>\n",
       "\n",
       "**Figure 3. -** \n",
       "    Quasar strong emission lines as a function of redshift within the NISP **$\\BGE$** and $\\RGE$ bandpasses  ([Gillard and Schirmer 2025]()) , as indicated at the top of the figure. NISP $\\BGE$ data will only be available in the EDS, while NISP $\\RGE$ data will be present in the EWS.  The vertical grey-shaded regions correspond to wavelengths of strong telluric absorption, where ground-based telescopes are not sensitive. The horizontal red-shaded regions represent the redshift ranges with at least two strong emission lines expected in the NISP $\\RGE$ spectral bandpass, thereby providing the most reliable redshifts for `blind' discoveries over the entire EWS.\n",
       "   (*fig:motivation*)\n",
       "\n",
       "</div>\n",
       "<div id=\"div_fig3\">\n",
       "\n",
       "<img src=\"tmp_2506.13945/./f3.png\" alt=\"Fig7\" width=\"100%\"/>\n",
       "\n",
       "**Figure 7. -** _Top:_ Postage stamps of the T3 dwarf  $\\dwarfabell$.  The \\Euclid$\\IE$, $\\YE$, $\\JE$, and $\\HE$ images are $5$\\arcsec$$ on a side.\n",
       "    _Bottom:_ NISP $\\RGE$ grism spectrum (black line and the uncertainties in green). The blue line shows a template of a T3 binary: 2MASS J12095613$-$1004008  ([Burgasser, et. al 2004](https://ui.adsabs.harvard.edu/abs/2004AJ....127.2856B), [Dupuy and Liu 2012](http://adsabs.harvard.edu/abs/2012ApJS..201...19D)) .\n",
       "     (*fig:a2769*)\n",
       "\n",
       "</div><div id=\"qrcode\"><img src=https://api.qrserver.com/v1/create-qr-code/?size=100x100&data=\"https://arxiv.org/abs/2506.13945\"></div>"
      ],
      "text/plain": [
       "<IPython.core.display.Markdown object>"
      ]
     },
     "metadata": {},
     "output_type": "display_data"
    },
    {
     "data": {
      "text/markdown": [
       "<div class=\"macros\" style=\"visibility:hidden;\">\n",
       "$\\newcommand{\\ensuremath}{}$\n",
       "$\\newcommand{\\xspace}{}$\n",
       "$\\newcommand{\\object}[1]{\\texttt{#1}}$\n",
       "$\\newcommand{\\farcs}{{.}''}$\n",
       "$\\newcommand{\\farcm}{{.}'}$\n",
       "$\\newcommand{\\arcsec}{''}$\n",
       "$\\newcommand{\\arcmin}{'}$\n",
       "$\\newcommand{\\ion}[2]{#1#2}$\n",
       "$\\newcommand{\\textsc}[1]{\\textrm{#1}}$\n",
       "$\\newcommand{\\hl}[1]{\\textrm{#1}}$\n",
       "$\\newcommand{\\footnote}[1]{}$\n",
       "$\\newcommand{\\mjup}{M_{\\rm Jup} }$\n",
       "$\\newcommand{\\GD}[1]{ {\\color{blue}(\\it Gaspard: #1)}}$\n",
       "$\\newcommand{\\GS}[1]{ {\\color{teal}(\\it Giovanni: #1)}}$\n",
       "$\\newcommand{\\JA}[1]{ {\\color{goldenrod}(\\it Jonathan: #1)}}$\n",
       "$\\newcommand{\\HB}[1]{ {\\color{magenta}(\\it Hervé: #1)}}$\n",
       "$\\newcommand{\\straklip}{\\textit{Stra}KLIP}$\n",
       "$\\newcommand{\\publicwifi}{\\textit{PUBLIC-WiFi}}$\n",
       "$\\newcommand{\\orcid}[1]{\\orcidlink{#1}}$\n",
       "$\\newcommand\\natexlab{#1}$</div>\n",
       "\n",
       "\n",
       "\n",
       "<div id=\"title\">\n",
       "\n",
       "# Multiplicity of young isolated planetary mass objects in Taurus and Upper Scorpius\n",
       "\n",
       "</div>\n",
       "<div id=\"comments\">\n",
       "\n",
       "[![arXiv](https://img.shields.io/badge/arXiv-2506.14380-b31b1b.svg)](https://arxiv.org/abs/2506.14380)<mark>Appeared on: 2025-06-18</mark> -  _Submitted to A&A on 2025-04-04 ; awaiting the initial review_\n",
       "\n",
       "</div>\n",
       "<div id=\"authors\">\n",
       "\n",
       "H. Bouy, et al. -- incl., <mark>W. Brandner</mark>\n",
       "\n",
       "</div>\n",
       "<div id=\"abstract\">\n",
       "\n",
       "**Abstract:** Free-floating planetary mass objects--worlds that roam interstellar space untethered to a parent star--challenge conventional notions of planetary formation and migration, but also of star and brown dwarf formation. We focus on the multiplicity among free-floating planets. By virtue of their low binding energy (compared to other objects formed in these environments), these low-mass substellar binaries represent a most sensitive probe of the mechanisms at play during the star formation process. We use the $_ Hubble Space Telescope_$ and its Wide Field Camera 3 and the $_ Very Large Telescope_$ and its ERIS adaptive optics facility to search for visual companions among a sample of 77 objects members of the Upper Scorpius and Taurus young nearby associations with estimated masses in the range between approximately 5--33 $\\mjup$ . We report the discovery of one companion candidate around a Taurus member with a separation of 111.9 $\\pm$ 0.4 mas, or $\\sim$ 18 au assuming a distance of 160 pc, with an estimated primary mass in the range between 3--6 $\\mjup$ and a secondary mass between 2.6--5.2 $\\mjup$ , depending on the assumed age. This corresponds to an overall binary fraction of 1.8 $^{+2.6}_{-1.3}$ \\% among free-floating planetary mass objects over the separation range $\\ge$ 7 au.  Despite the limitations of small-number statistics and variations in spatial resolution and sensitivity, our results, combined with previous high-spatial-resolution surveys, suggest a notable difference in the multiplicity properties of objects below $\\sim$ 25 $\\mjup$ between Upper Sco and Taurus. In Taurus, five companions were identified among 78 observed objects (4.9 $^{+2.8}_{-2.0}$ \\% ), whereas none were found among 97 objects in Upper Sco ( $\\le$ 1.2 \\% ).\n",
       "\n",
       "</div>\n",
       "\n",
       "<div id=\"div_fig1\">\n",
       "\n",
       "<img src=\"tmp_2506.14380/./Figures/galaxy.png\" alt=\"Fig6\" width=\"100%\"/>\n",
       "\n",
       "**Figure 6. -** HST F814W (left) and F850LP (right) images of the visual companion identified around J164636.12-231337.6 through direct inspection. A square root stretch is used. Contours highlight the extended emission originating from the visual companion. North is up and east is left. (*fig:galaxy-comp*)\n",
       "\n",
       "</div>\n",
       "<div id=\"div_fig2\">\n",
       "\n",
       "<img src=\"tmp_2506.14380/./Figures/targets_i_iz.png\" alt=\"Fig1\" width=\"100%\"/>\n",
       "\n",
       "**Figure 1. -** (_ i, i-z_) diagram of USco members (left) identified by \\citet{MiretRoig2022} and Taurus members (right) from \\citet{Esplin2019}, represented as blue dots. The HST targets are over-plotted as red dots and the VLT targets are orange squares. The \\citet{Chabrier2023} isochrones at respectively 5 and 3 Myr and 140 pc are represented by  green dashed lines and the corresponding masses are indicated on the right vertical axis. A reddening vector A$_{\\rm V}$=3 mag is also represented, and the planetary mass limit of 13 $\\mjup$ is indicated. The new binary candidate identified in Taurus is over-plotted as a black open circle.\n",
       " (*fig:targets_cmd*)\n",
       "\n",
       "</div>\n",
       "<div id=\"div_fig3\">\n",
       "\n",
       "<img src=\"tmp_2506.14380/./Figures/contrast_hst.png\" alt=\"Fig4\" width=\"100%\"/>\n",
       "\n",
       "**Figure 4. -** Detection limits in the HST F814W (top) and F850LP (bottom) images.  (*fig:contrast_hst*)\n",
       "\n",
       "</div><div id=\"qrcode\"><img src=https://api.qrserver.com/v1/create-qr-code/?size=100x100&data=\"https://arxiv.org/abs/2506.14380\"></div>"
      ],
      "text/plain": [
       "<IPython.core.display.Markdown object>"
      ]
     },
     "metadata": {},
     "output_type": "display_data"
    }
   ],
   "source": [
    "[display(Markdown(k[1])) for k in documents];"
   ]
  },
  {
   "cell_type": "markdown",
   "id": "873873a4",
   "metadata": {
    "papermill": {
     "duration": 0.004945,
     "end_time": "2025-06-18T04:20:42.230781",
     "exception": false,
     "start_time": "2025-06-18T04:20:42.225836",
     "status": "completed"
    },
    "tags": []
   },
   "source": [
    "# Create HTML index"
   ]
  },
  {
   "cell_type": "code",
   "execution_count": 10,
   "id": "cf665672",
   "metadata": {
    "execution": {
     "iopub.execute_input": "2025-06-18T04:20:42.241530Z",
     "iopub.status.busy": "2025-06-18T04:20:42.241088Z",
     "iopub.status.idle": "2025-06-18T04:20:42.251771Z",
     "shell.execute_reply": "2025-06-18T04:20:42.251127Z"
    },
    "papermill": {
     "duration": 0.017157,
     "end_time": "2025-06-18T04:20:42.252804",
     "exception": false,
     "start_time": "2025-06-18T04:20:42.235647",
     "status": "completed"
    },
    "tags": []
   },
   "outputs": [
    {
     "name": "stdout",
     "output_type": "stream",
     "text": [
      "530  publications files modified in the last 7 days.\n"
     ]
    }
   ],
   "source": [
    "from datetime import datetime, timedelta, timezone\n",
    "from glob import glob\n",
    "import os\n",
    "\n",
    "files = glob('_build/html/*.md')\n",
    "days = 7\n",
    "now = datetime.today()\n",
    "res = []\n",
    "for fk in files:\n",
    "    stat_result = os.stat(fk).st_ctime\n",
    "    modified = datetime.fromtimestamp(stat_result, tz=timezone.utc).replace(tzinfo=None)\n",
    "    delta = now.today() - modified\n",
    "    if delta <= timedelta(days=days):\n",
    "        res.append((delta.seconds, fk))\n",
    "res = [k[1] for k in reversed(sorted(res, key=lambda x:x[1]))]\n",
    "npub = len(res)\n",
    "print(len(res), f\" publications files modified in the last {days:d} days.\")\n",
    "# [ print('\\t', k) for k in res ];"
   ]
  },
  {
   "cell_type": "code",
   "execution_count": 11,
   "id": "015de740",
   "metadata": {
    "execution": {
     "iopub.execute_input": "2025-06-18T04:20:42.263948Z",
     "iopub.status.busy": "2025-06-18T04:20:42.263427Z",
     "iopub.status.idle": "2025-06-18T04:20:42.288638Z",
     "shell.execute_reply": "2025-06-18T04:20:42.287983Z"
    },
    "papermill": {
     "duration": 0.031761,
     "end_time": "2025-06-18T04:20:42.289642",
     "exception": false,
     "start_time": "2025-06-18T04:20:42.257881",
     "status": "completed"
    },
    "tags": []
   },
   "outputs": [
    {
     "name": "stdout",
     "output_type": "stream",
     "text": [
      "13  publications in the last 7 days.\n"
     ]
    }
   ],
   "source": [
    "import datetime\n",
    "from glob import glob\n",
    "\n",
    "def get_last_n_days(lst, days=1):\n",
    "    \"\"\" Get the documents from the last n days \"\"\"\n",
    "    sorted_lst = sorted(lst, key=lambda x: x[1], reverse=True)\n",
    "    for fname, date in sorted_lst:\n",
    "        if date >= str(datetime.date.today() - datetime.timedelta(days=days)):\n",
    "            yield fname\n",
    "\n",
    "def extract_appearance_dates(lst_file):\n",
    "    dates = []\n",
    "\n",
    "    def get_date(line):\n",
    "        return line\\\n",
    "            .split('Appeared on:')[-1]\\\n",
    "            .split('</mark>')[0].strip()\n",
    "\n",
    "    for fname in lst:\n",
    "        with open(fname, 'r') as f:\n",
    "            found_date = False\n",
    "            for line in f:\n",
    "                if not found_date:\n",
    "                    if \"Appeared on\" in line:\n",
    "                        found_date = True\n",
    "                        dates.append((fname, get_date(line)))\n",
    "                else:\n",
    "                    break\n",
    "    return dates\n",
    "\n",
    "from glob import glob\n",
    "lst = glob('_build/html/*md')\n",
    "days = 7\n",
    "dates = extract_appearance_dates(lst)\n",
    "res = list(get_last_n_days(dates, days))\n",
    "npub = len(res)\n",
    "print(len(res), f\" publications in the last {days:d} days.\")"
   ]
  },
  {
   "cell_type": "code",
   "execution_count": 12,
   "id": "52ca0208",
   "metadata": {
    "execution": {
     "iopub.execute_input": "2025-06-18T04:20:42.300754Z",
     "iopub.status.busy": "2025-06-18T04:20:42.300344Z",
     "iopub.status.idle": "2025-06-18T04:20:42.305348Z",
     "shell.execute_reply": "2025-06-18T04:20:42.304688Z"
    },
    "papermill": {
     "duration": 0.011672,
     "end_time": "2025-06-18T04:20:42.306368",
     "exception": false,
     "start_time": "2025-06-18T04:20:42.294696",
     "status": "completed"
    },
    "scrolled": false,
    "tags": []
   },
   "outputs": [],
   "source": [
    "def create_carousel(npub=4):\n",
    "    \"\"\" Generate the HTML code for a carousel with `npub` slides \"\"\"\n",
    "    carousel = [\"\"\"  <div class=\"carousel\" \"\"\",\n",
    "                \"\"\"       data-flickity='{ \"autoPlay\": 10000, \"adaptiveHeight\": true, \"resize\": true, \"wrapAround\": true, \"pauseAutoPlayOnHover\": true, \"groupCells\": 1 }' id=\"asyncTypeset\">\"\"\"\n",
    "                ]\n",
    "    \n",
    "    item_str = \"\"\"    <div class=\"carousel-cell\"> <div id=\"slide{k}\" class=\"md_view\">Content {k}</div> </div>\"\"\"\n",
    "    for k in range(1, npub + 1):\n",
    "        carousel.append(item_str.format(k=k))\n",
    "    carousel.append(\"  </div>\")\n",
    "    return '\\n'.join(carousel)\n",
    "\n",
    "def create_grid(npub=4):\n",
    "    \"\"\" Generate the HTML code for a flat grid with `npub` slides \"\"\"\n",
    "    grid = [\"\"\"  <div class=\"grid\"> \"\"\",\n",
    "                ]\n",
    "    \n",
    "    item_str = \"\"\"    <div class=\"grid-item\"> <div id=\"slide{k}\" class=\"md_view\">Content {k}</div> </div>\"\"\"\n",
    "    for k in range(1, npub + 1):\n",
    "        grid.append(item_str.format(k=k))\n",
    "    grid.append(\"  </div>\")\n",
    "    return '\\n'.join(grid)"
   ]
  },
  {
   "cell_type": "code",
   "execution_count": 13,
   "id": "a6eac5b6",
   "metadata": {
    "execution": {
     "iopub.execute_input": "2025-06-18T04:20:42.317642Z",
     "iopub.status.busy": "2025-06-18T04:20:42.317224Z",
     "iopub.status.idle": "2025-06-18T04:20:42.322175Z",
     "shell.execute_reply": "2025-06-18T04:20:42.321565Z"
    },
    "papermill": {
     "duration": 0.011586,
     "end_time": "2025-06-18T04:20:42.323172",
     "exception": false,
     "start_time": "2025-06-18T04:20:42.311586",
     "status": "completed"
    },
    "scrolled": false,
    "tags": []
   },
   "outputs": [],
   "source": [
    "carousel = create_carousel(npub)\n",
    "docs = ', '.join(['\"{0:s}\"'.format(k.split('/')[-1]) for k in res])\n",
    "slides = ', '.join([f'\"slide{k}\"' for k in range(1, npub + 1)])\n",
    "\n",
    "with open(\"daily_template.html\", \"r\") as tpl:\n",
    "    page = tpl.read()\n",
    "    page = page.replace(\"{%-- carousel:s --%}\", carousel)\\\n",
    "               .replace(\"{%-- suptitle:s --%}\",  \"7-day archives\" )\\\n",
    "               .replace(\"{%-- docs:s --%}\", docs)\\\n",
    "               .replace(\"{%-- slides:s --%}\", slides)\n",
    "    \n",
    "with open(\"_build/html/index_7days.html\", 'w') as fout:\n",
    "    fout.write(page)"
   ]
  },
  {
   "cell_type": "code",
   "execution_count": 14,
   "id": "adc1a1ec",
   "metadata": {
    "execution": {
     "iopub.execute_input": "2025-06-18T04:20:42.334642Z",
     "iopub.status.busy": "2025-06-18T04:20:42.334264Z",
     "iopub.status.idle": "2025-06-18T04:20:42.341057Z",
     "shell.execute_reply": "2025-06-18T04:20:42.340537Z"
    },
    "papermill": {
     "duration": 0.013658,
     "end_time": "2025-06-18T04:20:42.342097",
     "exception": false,
     "start_time": "2025-06-18T04:20:42.328439",
     "status": "completed"
    },
    "tags": []
   },
   "outputs": [
    {
     "name": "stdout",
     "output_type": "stream",
     "text": [
      "6  publications in the last day.\n"
     ]
    }
   ],
   "source": [
    "# redo for today\n",
    "days = 1\n",
    "res = list(get_last_n_days(dates, days))\n",
    "npub = len(res)\n",
    "print(len(res), f\" publications in the last day.\")\n",
    "\n",
    "carousel = create_carousel(npub)\n",
    "docs = ', '.join(['\"{0:s}\"'.format(k.split('/')[-1]) for k in res])\n",
    "slides = ', '.join([f'\"slide{k}\"' for k in range(1, npub + 1)])\n",
    "\n",
    "with open(\"daily_template.html\", \"r\") as tpl:\n",
    "    page = tpl.read()\n",
    "    page = page.replace(\"{%-- carousel:s --%}\", carousel)\\\n",
    "               .replace(\"{%-- suptitle:s --%}\",  \"Daily\" )\\\n",
    "               .replace(\"{%-- docs:s --%}\", docs)\\\n",
    "               .replace(\"{%-- slides:s --%}\", slides)\n",
    "    \n",
    "# print(carousel, docs, slides)\n",
    "# print(page)\n",
    "with open(\"_build/html/index_daily.html\", 'w') as fout:\n",
    "    fout.write(page)"
   ]
  },
  {
   "cell_type": "code",
   "execution_count": 15,
   "id": "00eece82",
   "metadata": {
    "execution": {
     "iopub.execute_input": "2025-06-18T04:20:42.353567Z",
     "iopub.status.busy": "2025-06-18T04:20:42.353140Z",
     "iopub.status.idle": "2025-06-18T04:20:42.359479Z",
     "shell.execute_reply": "2025-06-18T04:20:42.358966Z"
    },
    "papermill": {
     "duration": 0.013013,
     "end_time": "2025-06-18T04:20:42.360416",
     "exception": false,
     "start_time": "2025-06-18T04:20:42.347403",
     "status": "completed"
    },
    "scrolled": false,
    "tags": []
   },
   "outputs": [
    {
     "name": "stdout",
     "output_type": "stream",
     "text": [
      "6  6 publications selected.\n"
     ]
    }
   ],
   "source": [
    "# Create the flat grid of the last N papers (fixed number regardless of dates)\n",
    "from itertools import islice \n",
    "\n",
    "npub = 6\n",
    "res = [k[0] for k in (islice(reversed(sorted(dates, key=lambda x: x[1])), 6))]\n",
    "print(len(res), f\" {npub} publications selected.\")\n",
    "\n",
    "grid = create_grid(npub)\n",
    "docs = ', '.join(['\"{0:s}\"'.format(k.split('/')[-1]) for k in res])\n",
    "slides = ', '.join([f'\"slide{k}\"' for k in range(1, npub + 1)])\n",
    "\n",
    "with open(\"grid_template.html\", \"r\") as tpl:\n",
    "    page = tpl.read()\n",
    "    page = page.replace(\"{%-- grid-content:s --%}\", grid)\\\n",
    "               .replace(\"{%-- suptitle:s --%}\",  f\"Last {npub:,d} papers\" )\\\n",
    "               .replace(\"{%-- docs:s --%}\", docs)\\\n",
    "               .replace(\"{%-- slides:s --%}\", slides)\n",
    "    \n",
    "# print(grid, docs, slides)\n",
    "# print(page)\n",
    "with open(\"_build/html/index_npub_grid.html\", 'w') as fout:\n",
    "    fout.write(page)"
   ]
  }
 ],
 "metadata": {
  "kernelspec": {
   "display_name": "Python 3 (ipykernel)",
   "language": "python",
   "name": "python3"
  },
  "language_info": {
   "codemirror_mode": {
    "name": "ipython",
    "version": 3
   },
   "file_extension": ".py",
   "mimetype": "text/x-python",
   "name": "python",
   "nbconvert_exporter": "python",
   "pygments_lexer": "ipython3",
   "version": "3.9.22"
  },
  "papermill": {
   "default_parameters": {},
   "duration": 64.227305,
   "end_time": "2025-06-18T04:20:42.581398",
   "environment_variables": {},
   "exception": null,
   "input_path": "MPIA daily digest.ipynb",
   "output_path": "log.ipynb",
   "parameters": {},
   "start_time": "2025-06-18T04:19:38.354093",
   "version": "2.6.0"
  },
  "vscode": {
   "interpreter": {
    "hash": "aee8b7b246df8f9039afb4144a1f6fd8d2ca17a180786b69acc140d282b71a49"
   }
  },
  "widgets": {
   "application/vnd.jupyter.widget-state+json": {
    "state": {
     "13da9e2440ef49a496a7076265d5ebee": {
      "model_module": "@jupyter-widgets/controls",
      "model_module_version": "2.0.0",
      "model_name": "HTMLStyleModel",
      "state": {
       "_model_module": "@jupyter-widgets/controls",
       "_model_module_version": "2.0.0",
       "_model_name": "HTMLStyleModel",
       "_view_count": null,
       "_view_module": "@jupyter-widgets/base",
       "_view_module_version": "2.0.0",
       "_view_name": "StyleView",
       "background": null,
       "description_width": "",
       "font_size": null,
       "text_color": null
      }
     },
     "3b15f6b95a3743f584182987f5a3d900": {
      "model_module": "@jupyter-widgets/base",
      "model_module_version": "2.0.0",
      "model_name": "LayoutModel",
      "state": {
       "_model_module": "@jupyter-widgets/base",
       "_model_module_version": "2.0.0",
       "_model_name": "LayoutModel",
       "_view_count": null,
       "_view_module": "@jupyter-widgets/base",
       "_view_module_version": "2.0.0",
       "_view_name": "LayoutView",
       "align_content": null,
       "align_items": null,
       "align_self": null,
       "border_bottom": null,
       "border_left": null,
       "border_right": null,
       "border_top": null,
       "bottom": null,
       "display": null,
       "flex": null,
       "flex_flow": null,
       "grid_area": null,
       "grid_auto_columns": null,
       "grid_auto_flow": null,
       "grid_auto_rows": null,
       "grid_column": null,
       "grid_gap": null,
       "grid_row": null,
       "grid_template_areas": null,
       "grid_template_columns": null,
       "grid_template_rows": null,
       "height": null,
       "justify_content": null,
       "justify_items": null,
       "left": null,
       "margin": null,
       "max_height": null,
       "max_width": null,
       "min_height": null,
       "min_width": null,
       "object_fit": null,
       "object_position": null,
       "order": null,
       "overflow": null,
       "padding": null,
       "right": null,
       "top": null,
       "visibility": null,
       "width": null
      }
     },
     "3e3a7f3fdd644bb9ae0607ae9a5c7e39": {
      "model_module": "@jupyter-widgets/controls",
      "model_module_version": "2.0.0",
      "model_name": "HTMLStyleModel",
      "state": {
       "_model_module": "@jupyter-widgets/controls",
       "_model_module_version": "2.0.0",
       "_model_name": "HTMLStyleModel",
       "_view_count": null,
       "_view_module": "@jupyter-widgets/base",
       "_view_module_version": "2.0.0",
       "_view_name": "StyleView",
       "background": null,
       "description_width": "",
       "font_size": null,
       "text_color": null
      }
     },
     "4a1fd5523d984d5b8cc1514e07cfce86": {
      "model_module": "@jupyter-widgets/controls",
      "model_module_version": "2.0.0",
      "model_name": "FloatProgressModel",
      "state": {
       "_dom_classes": [],
       "_model_module": "@jupyter-widgets/controls",
       "_model_module_version": "2.0.0",
       "_model_name": "FloatProgressModel",
       "_view_count": null,
       "_view_module": "@jupyter-widgets/controls",
       "_view_module_version": "2.0.0",
       "_view_name": "ProgressView",
       "bar_style": "success",
       "description": "",
       "description_allow_html": false,
       "layout": "IPY_MODEL_7222b59bfe0d45a4adfd7ed0e5dc723f",
       "max": 4.0,
       "min": 0.0,
       "orientation": "horizontal",
       "style": "IPY_MODEL_8cfacec18732437c9f678eba12c27f39",
       "tabbable": null,
       "tooltip": null,
       "value": 4.0
      }
     },
     "7222b59bfe0d45a4adfd7ed0e5dc723f": {
      "model_module": "@jupyter-widgets/base",
      "model_module_version": "2.0.0",
      "model_name": "LayoutModel",
      "state": {
       "_model_module": "@jupyter-widgets/base",
       "_model_module_version": "2.0.0",
       "_model_name": "LayoutModel",
       "_view_count": null,
       "_view_module": "@jupyter-widgets/base",
       "_view_module_version": "2.0.0",
       "_view_name": "LayoutView",
       "align_content": null,
       "align_items": null,
       "align_self": null,
       "border_bottom": null,
       "border_left": null,
       "border_right": null,
       "border_top": null,
       "bottom": null,
       "display": null,
       "flex": null,
       "flex_flow": null,
       "grid_area": null,
       "grid_auto_columns": null,
       "grid_auto_flow": null,
       "grid_auto_rows": null,
       "grid_column": null,
       "grid_gap": null,
       "grid_row": null,
       "grid_template_areas": null,
       "grid_template_columns": null,
       "grid_template_rows": null,
       "height": null,
       "justify_content": null,
       "justify_items": null,
       "left": null,
       "margin": null,
       "max_height": null,
       "max_width": null,
       "min_height": null,
       "min_width": null,
       "object_fit": null,
       "object_position": null,
       "order": null,
       "overflow": null,
       "padding": null,
       "right": null,
       "top": null,
       "visibility": null,
       "width": null
      }
     },
     "7cc9197434f442b9aa694f49993e82fd": {
      "model_module": "@jupyter-widgets/controls",
      "model_module_version": "2.0.0",
      "model_name": "HTMLModel",
      "state": {
       "_dom_classes": [],
       "_model_module": "@jupyter-widgets/controls",
       "_model_module_version": "2.0.0",
       "_model_name": "HTMLModel",
       "_view_count": null,
       "_view_module": "@jupyter-widgets/controls",
       "_view_module_version": "2.0.0",
       "_view_name": "HTMLView",
       "description": "",
       "description_allow_html": false,
       "layout": "IPY_MODEL_3b15f6b95a3743f584182987f5a3d900",
       "placeholder": "​",
       "style": "IPY_MODEL_13da9e2440ef49a496a7076265d5ebee",
       "tabbable": null,
       "tooltip": null,
       "value": "100%"
      }
     },
     "8cfacec18732437c9f678eba12c27f39": {
      "model_module": "@jupyter-widgets/controls",
      "model_module_version": "2.0.0",
      "model_name": "ProgressStyleModel",
      "state": {
       "_model_module": "@jupyter-widgets/controls",
       "_model_module_version": "2.0.0",
       "_model_name": "ProgressStyleModel",
       "_view_count": null,
       "_view_module": "@jupyter-widgets/base",
       "_view_module_version": "2.0.0",
       "_view_name": "StyleView",
       "bar_color": null,
       "description_width": ""
      }
     },
     "acb3dc2897b840259b1265e53eb68a64": {
      "model_module": "@jupyter-widgets/base",
      "model_module_version": "2.0.0",
      "model_name": "LayoutModel",
      "state": {
       "_model_module": "@jupyter-widgets/base",
       "_model_module_version": "2.0.0",
       "_model_name": "LayoutModel",
       "_view_count": null,
       "_view_module": "@jupyter-widgets/base",
       "_view_module_version": "2.0.0",
       "_view_name": "LayoutView",
       "align_content": null,
       "align_items": null,
       "align_self": null,
       "border_bottom": null,
       "border_left": null,
       "border_right": null,
       "border_top": null,
       "bottom": null,
       "display": null,
       "flex": null,
       "flex_flow": null,
       "grid_area": null,
       "grid_auto_columns": null,
       "grid_auto_flow": null,
       "grid_auto_rows": null,
       "grid_column": null,
       "grid_gap": null,
       "grid_row": null,
       "grid_template_areas": null,
       "grid_template_columns": null,
       "grid_template_rows": null,
       "height": null,
       "justify_content": null,
       "justify_items": null,
       "left": null,
       "margin": null,
       "max_height": null,
       "max_width": null,
       "min_height": null,
       "min_width": null,
       "object_fit": null,
       "object_position": null,
       "order": null,
       "overflow": null,
       "padding": null,
       "right": null,
       "top": null,
       "visibility": null,
       "width": null
      }
     },
     "b15e611b74fa48a7ad964550f0f5c5af": {
      "model_module": "@jupyter-widgets/controls",
      "model_module_version": "2.0.0",
      "model_name": "HBoxModel",
      "state": {
       "_dom_classes": [],
       "_model_module": "@jupyter-widgets/controls",
       "_model_module_version": "2.0.0",
       "_model_name": "HBoxModel",
       "_view_count": null,
       "_view_module": "@jupyter-widgets/controls",
       "_view_module_version": "2.0.0",
       "_view_name": "HBoxView",
       "box_style": "",
       "children": [
        "IPY_MODEL_7cc9197434f442b9aa694f49993e82fd",
        "IPY_MODEL_4a1fd5523d984d5b8cc1514e07cfce86",
        "IPY_MODEL_d6effc20291a4dfbb370f61dc448522f"
       ],
       "layout": "IPY_MODEL_acb3dc2897b840259b1265e53eb68a64",
       "tabbable": null,
       "tooltip": null
      }
     },
     "b62d608956e449fcbe75fda517536925": {
      "model_module": "@jupyter-widgets/base",
      "model_module_version": "2.0.0",
      "model_name": "LayoutModel",
      "state": {
       "_model_module": "@jupyter-widgets/base",
       "_model_module_version": "2.0.0",
       "_model_name": "LayoutModel",
       "_view_count": null,
       "_view_module": "@jupyter-widgets/base",
       "_view_module_version": "2.0.0",
       "_view_name": "LayoutView",
       "align_content": null,
       "align_items": null,
       "align_self": null,
       "border_bottom": null,
       "border_left": null,
       "border_right": null,
       "border_top": null,
       "bottom": null,
       "display": null,
       "flex": null,
       "flex_flow": null,
       "grid_area": null,
       "grid_auto_columns": null,
       "grid_auto_flow": null,
       "grid_auto_rows": null,
       "grid_column": null,
       "grid_gap": null,
       "grid_row": null,
       "grid_template_areas": null,
       "grid_template_columns": null,
       "grid_template_rows": null,
       "height": null,
       "justify_content": null,
       "justify_items": null,
       "left": null,
       "margin": null,
       "max_height": null,
       "max_width": null,
       "min_height": null,
       "min_width": null,
       "object_fit": null,
       "object_position": null,
       "order": null,
       "overflow": null,
       "padding": null,
       "right": null,
       "top": null,
       "visibility": null,
       "width": null
      }
     },
     "d6effc20291a4dfbb370f61dc448522f": {
      "model_module": "@jupyter-widgets/controls",
      "model_module_version": "2.0.0",
      "model_name": "HTMLModel",
      "state": {
       "_dom_classes": [],
       "_model_module": "@jupyter-widgets/controls",
       "_model_module_version": "2.0.0",
       "_model_name": "HTMLModel",
       "_view_count": null,
       "_view_module": "@jupyter-widgets/controls",
       "_view_module_version": "2.0.0",
       "_view_name": "HTMLView",
       "description": "",
       "description_allow_html": false,
       "layout": "IPY_MODEL_b62d608956e449fcbe75fda517536925",
       "placeholder": "​",
       "style": "IPY_MODEL_3e3a7f3fdd644bb9ae0607ae9a5c7e39",
       "tabbable": null,
       "tooltip": null,
       "value": " 4/4 [00:38&lt;00:00, 10.92s/it]"
      }
     }
    },
    "version_major": 2,
    "version_minor": 0
   }
  }
 },
 "nbformat": 4,
 "nbformat_minor": 5
}