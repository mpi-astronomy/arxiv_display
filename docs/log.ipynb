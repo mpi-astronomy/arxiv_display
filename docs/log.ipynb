{
 "cells": [
  {
   "cell_type": "markdown",
   "id": "92bcb855",
   "metadata": {
    "papermill": {
     "duration": 0.003721,
     "end_time": "2024-01-04T04:09:24.978359",
     "exception": false,
     "start_time": "2024-01-04T04:09:24.974638",
     "status": "completed"
    },
    "tags": []
   },
   "source": [
    "# MPIA Arxiv on Deck 2\n",
    "\n",
    "Contains the steps to produce the paper extractions."
   ]
  },
  {
   "cell_type": "code",
   "execution_count": 1,
   "id": "3a0d6e11",
   "metadata": {
    "execution": {
     "iopub.execute_input": "2024-01-04T04:09:24.986381Z",
     "iopub.status.busy": "2024-01-04T04:09:24.985969Z",
     "iopub.status.idle": "2024-01-04T04:09:25.286156Z",
     "shell.execute_reply": "2024-01-04T04:09:25.285544Z"
    },
    "papermill": {
     "duration": 0.305437,
     "end_time": "2024-01-04T04:09:25.287857",
     "exception": false,
     "start_time": "2024-01-04T04:09:24.982420",
     "status": "completed"
    },
    "tags": []
   },
   "outputs": [],
   "source": [
    "# Imports\n",
    "import os\n",
    "from IPython.display import Markdown, display\n",
    "from tqdm.notebook import tqdm\n",
    "import warnings\n",
    "from PIL import Image \n",
    "\n",
    "# requires arxiv_on_deck_2\n",
    "\n",
    "from arxiv_on_deck_2.arxiv2 import (get_new_papers, \n",
    "                                    get_paper_from_identifier,\n",
    "                                    retrieve_document_source, \n",
    "                                    get_markdown_badge)\n",
    "from arxiv_on_deck_2 import (latex,\n",
    "                             latex_bib,\n",
    "                             mpia,\n",
    "                             highlight_authors_in_list)\n",
    "\n",
    "# Sometimes images are really big\n",
    "Image.MAX_IMAGE_PIXELS = 1000000000 "
   ]
  },
  {
   "cell_type": "code",
   "execution_count": 2,
   "id": "22aa9d44",
   "metadata": {
    "execution": {
     "iopub.execute_input": "2024-01-04T04:09:25.294812Z",
     "iopub.status.busy": "2024-01-04T04:09:25.294390Z",
     "iopub.status.idle": "2024-01-04T04:09:25.299224Z",
     "shell.execute_reply": "2024-01-04T04:09:25.298695Z"
    },
    "papermill": {
     "duration": 0.009595,
     "end_time": "2024-01-04T04:09:25.300464",
     "exception": false,
     "start_time": "2024-01-04T04:09:25.290869",
     "status": "completed"
    },
    "tags": []
   },
   "outputs": [],
   "source": [
    "# Some useful definitions.\n",
    "\n",
    "class AffiliationWarning(UserWarning):\n",
    "    pass\n",
    "\n",
    "class AffiliationError(RuntimeError):\n",
    "    pass\n",
    "\n",
    "def validation(source: str):\n",
    "    \"\"\"Raises error paper during parsing of source file\n",
    "    \n",
    "    Allows checks before parsing TeX code.\n",
    "    \n",
    "    Raises AffiliationWarning\n",
    "    \"\"\"\n",
    "    check = mpia.affiliation_verifications(source, verbose=True)\n",
    "    if check is not True:\n",
    "        raise AffiliationError(\"mpia.affiliation_verifications: \" + check)\n",
    "\n",
    "        \n",
    "warnings.simplefilter('always', AffiliationWarning)\n",
    "\n",
    "\n",
    "def get_markdown_qrcode(paper_id: str):\n",
    "    \"\"\" Generate a qrcode to the arxiv page using qrserver.com\n",
    "    \n",
    "    :param paper: Arxiv paper\n",
    "    :returns: markdown text\n",
    "    \"\"\"\n",
    "    url = r\"https://api.qrserver.com/v1/create-qr-code/?size=100x100&data=\"\n",
    "    txt = f\"\"\"<img src={url}\"https://arxiv.org/abs/{paper_id}\">\"\"\"\n",
    "    txt = '<div id=\"qrcode\">' + txt + '</div>'\n",
    "    return txt"
   ]
  },
  {
   "cell_type": "markdown",
   "id": "14bd6310",
   "metadata": {
    "papermill": {
     "duration": 0.002658,
     "end_time": "2024-01-04T04:09:25.305940",
     "exception": false,
     "start_time": "2024-01-04T04:09:25.303282",
     "status": "completed"
    },
    "tags": []
   },
   "source": [
    "## get list of arxiv paper candidates\n",
    "\n",
    "We use the MPIA mitarbeiter list webpage from mpia.de to get author names\n",
    "We then get all new papers from Arxiv and match authors"
   ]
  },
  {
   "cell_type": "code",
   "execution_count": 3,
   "id": "2645e73a",
   "metadata": {
    "execution": {
     "iopub.execute_input": "2024-01-04T04:09:25.312370Z",
     "iopub.status.busy": "2024-01-04T04:09:25.312008Z",
     "iopub.status.idle": "2024-01-04T04:09:47.221382Z",
     "shell.execute_reply": "2024-01-04T04:09:47.220626Z"
    },
    "papermill": {
     "duration": 21.91414,
     "end_time": "2024-01-04T04:09:47.222774",
     "exception": false,
     "start_time": "2024-01-04T04:09:25.308634",
     "status": "completed"
    },
    "tags": []
   },
   "outputs": [
    {
     "name": "stdout",
     "output_type": "stream",
     "text": [
      "M. Schirmer  ->  M. Schirmer  |  ['M. Schirmer']\n",
      "T. Mikal-Evans  ->  T. Mikal-Evans  |  ['T. Mikal-Evans']\n",
      "X. Zhang  ->  X. Zhang  |  ['X. Zhang']\n",
      "J. Li  ->  J. Li  |  ['J. Li']\n",
      "Arxiv has 30 new papers today\n",
      "          4 with possible author matches\n"
     ]
    }
   ],
   "source": [
    "# get list from MPIA website\n",
    "# it automatically filters identified non-scientists :func:`mpia.filter_non_scientists`\n",
    "mpia_authors = mpia.get_mpia_mitarbeiter_list()\n",
    "normed_mpia_authors = [k[1] for k in mpia_authors]   # initials + fullname\n",
    "new_papers = get_new_papers()\n",
    "# add manual references\n",
    "add_paper_refs = []\n",
    "new_papers.extend([get_paper_from_identifier(k) for k in add_paper_refs])\n",
    "\n",
    "candidates = []\n",
    "for paperk in new_papers:\n",
    "    # Check author list with their initials\n",
    "    normed_author_list = [mpia.get_initials(k) for k in paperk['authors']]\n",
    "    hl_authors = highlight_authors_in_list(normed_author_list, normed_mpia_authors, verbose=True)\n",
    "    matches = [(hl, orig) for hl, orig in zip(hl_authors, paperk['authors']) if 'mark' in hl]\n",
    "    paperk['authors'] = hl_authors\n",
    "    if matches:\n",
    "        # only select paper if an author matched our list\n",
    "        candidates.append(paperk)\n",
    "print(\"\"\"Arxiv has {0:,d} new papers today\"\"\".format(len(new_papers)))        \n",
    "print(\"\"\"          {0:,d} with possible author matches\"\"\".format(len(candidates)))"
   ]
  },
  {
   "cell_type": "markdown",
   "id": "3543b34a",
   "metadata": {
    "papermill": {
     "duration": 0.00283,
     "end_time": "2024-01-04T04:09:47.228783",
     "exception": false,
     "start_time": "2024-01-04T04:09:47.225953",
     "status": "completed"
    },
    "tags": []
   },
   "source": [
    "# Parse sources and generate relevant outputs\n",
    "\n",
    "From the candidates, we do the following steps:\n",
    "* get their tarball from ArXiv (and extract data)\n",
    "* find the main .tex file: find one with \\documentclass{...} (sometimes it's non trivial)\n",
    "* Check affiliations with :func:`validation`, which uses :func:`mpia.affiliation_verifications`\n",
    "* If passing the affiliations: we parse the .tex source\n",
    "   * inject sub-documents into the main (flatten the main document)\n",
    "   * parse structure, extract information (title, abstract, authors, figures...)\n",
    "   * handles `\\graphicspath` if provided\n",
    "* Generate the .md document."
   ]
  },
  {
   "cell_type": "code",
   "execution_count": 4,
   "id": "9576b79e",
   "metadata": {
    "execution": {
     "iopub.execute_input": "2024-01-04T04:09:47.235739Z",
     "iopub.status.busy": "2024-01-04T04:09:47.235359Z",
     "iopub.status.idle": "2024-01-04T04:40:23.273001Z",
     "shell.execute_reply": "2024-01-04T04:40:23.272164Z"
    },
    "papermill": {
     "duration": 1836.043056,
     "end_time": "2024-01-04T04:40:23.274708",
     "exception": false,
     "start_time": "2024-01-04T04:09:47.231652",
     "status": "completed"
    },
    "scrolled": false,
    "tags": []
   },
   "outputs": [
    {
     "data": {
      "application/vnd.jupyter.widget-view+json": {
       "model_id": "6bbc52c6044e4d65af745afaea89c8c8",
       "version_major": 2,
       "version_minor": 0
      },
      "text/plain": [
       "  0%|          | 0/4 [00:00<?, ?it/s]"
      ]
     },
     "metadata": {},
     "output_type": "display_data"
    },
    {
     "name": "stdout",
     "output_type": "stream",
     "text": [
      "Retrieving document from  https://arxiv.org/e-print/2401.01452\n"
     ]
    },
    {
     "name": "stdout",
     "output_type": "stream",
     "text": [
      "extracting tarball to tmp_2401.01452..."
     ]
    },
    {
     "name": "stdout",
     "output_type": "stream",
     "text": [
      " done.\n"
     ]
    },
    {
     "name": "stderr",
     "output_type": "stream",
     "text": [
      "/opt/hostedtoolcache/Python/3.9.18/x64/lib/python3.9/site-packages/arxiv_on_deck_2/latex.py:473: LatexWarning: Error parsing the document directly. Trying to recover.\n",
      "  warnings.warn(LatexWarning(f\"Error parsing the document directly. Trying to recover.\"))\n"
     ]
    },
    {
     "name": "stdout",
     "output_type": "stream",
     "text": [
      "✔ → 0:header\n",
      "  ↳ 36359:\\section{Introduction}\n",
      "✔ → 36359:\\section{Introduction}\n",
      "  ↳ 44546:\\section{Satellite and the SGS}\n"
     ]
    },
    {
     "name": "stdout",
     "output_type": "stream",
     "text": [
      "✔ → 44546:\\section{Satellite and the SGS}\n",
      "  ↳ 57143:\\section{The True Universe}\n"
     ]
    },
    {
     "name": "stdout",
     "output_type": "stream",
     "text": [
      "✔ → 57143:\\section{The True Universe}\n",
      "  ↳ 91762:\\section{Mission database}\n"
     ]
    },
    {
     "name": "stdout",
     "output_type": "stream",
     "text": [
      "✔ → 91762:\\section{Mission database}\n",
      "  ↳ 101236:\\section{Instrument simulators}\n"
     ]
    },
    {
     "name": "stdout",
     "output_type": "stream",
     "text": [
      "✔ → 101236:\\section{Instrument simulators}\n",
      "  ↳ 141206:\\section{SC8 simulation processing and results}\n"
     ]
    },
    {
     "name": "stdout",
     "output_type": "stream",
     "text": [
      "✔ → 141206:\\section{SC8 simulation processing and results}\n",
      "  ↳ 161910:\\section{Future perspective}\n",
      "✔ → 161910:\\section{Future perspective}\n",
      "  ↳ 166378:\\section{Summary and outlook}\n"
     ]
    },
    {
     "name": "stdout",
     "output_type": "stream",
     "text": [
      "✔ → 166378:\\section{Summary and outlook}\n",
      "  ↳ 248186:\\begin{appendix}\n",
      "✔ → 248186:\\begin{appendix}\n",
      "  ↳ 248203:\\section{Throughputs}\n",
      "✔ → 248203:\\section{Throughputs}\n",
      "  ↳ 250949:\\section{Spectra and fluxes}\n"
     ]
    },
    {
     "name": "stdout",
     "output_type": "stream",
     "text": [
      "✔ → 250949:\\section{Spectra and fluxes}\n",
      "  ↳ 265632:\\section{SC8 preparation}\n"
     ]
    },
    {
     "name": "stdout",
     "output_type": "stream",
     "text": [
      "✔ → 265632:\\section{SC8 preparation}\n",
      "  ↳ 287926:end\n"
     ]
    },
    {
     "name": "stdout",
     "output_type": "stream",
     "text": [
      "list index out of range\n",
      "Retrieving document from  https://arxiv.org/e-print/2401.01465\n"
     ]
    },
    {
     "name": "stdout",
     "output_type": "stream",
     "text": [
      "extracting tarball to tmp_2401.01465..."
     ]
    },
    {
     "name": "stdout",
     "output_type": "stream",
     "text": [
      " done.\n"
     ]
    },
    {
     "name": "stderr",
     "output_type": "stream",
     "text": [
      "/opt/hostedtoolcache/Python/3.9.18/x64/lib/python3.9/site-packages/arxiv_on_deck_2/latex.py:473: LatexWarning: Error parsing the document directly. Trying to recover.\n",
      "  warnings.warn(LatexWarning(f\"Error parsing the document directly. Trying to recover.\"))\n"
     ]
    },
    {
     "name": "stdout",
     "output_type": "stream",
     "text": [
      "✔ → 0:header\n",
      "  ↳ 6235:\\section{Introduction}\\label{intro}\n",
      "✔ → 6235:\\section{Introduction}\\label{intro}\n",
      "  ↳ 14528:\\section{Methodology}\n"
     ]
    },
    {
     "name": "stdout",
     "output_type": "stream",
     "text": [
      "✔ → 14528:\\section{Methodology}\n",
      "  ↳ 18212:\\section{Spectrum extraction for the phase-curve data}\n",
      "✔ → 18212:\\section{Spectrum extraction for the phase-curve data}\n",
      "  ↳ 26017:\\section{Phase-curve atmospheric retrievals}\n"
     ]
    },
    {
     "name": "stdout",
     "output_type": "stream",
     "text": [
      "✔ → 26017:\\section{Phase-curve atmospheric retrievals}\n",
      "  ↳ 34018:\\section{Transit and eclipse atmospheric retrievals}\n",
      "✔ → 34018:\\section{Transit and eclipse atmospheric retrievals}\n",
      "  ↳ 41171:\\section{Dynamics modeling}\\label{sec:dynamics}\n"
     ]
    },
    {
     "name": "stdout",
     "output_type": "stream",
     "text": [
      "✔ → 41171:\\section{Dynamics modeling}\\label{sec:dynamics}\n",
      "  ↳ 53958:\\section{Discussion and Conclusion} \\label{sec:dnc}\n",
      "✔ → 53958:\\section{Discussion and Conclusion} \\label{sec:dnc}\n",
      "  ↳ 61838:\\section{Materials and Methods}\n"
     ]
    },
    {
     "name": "stdout",
     "output_type": "stream",
     "text": [
      "✔ → 61838:\\section{Materials and Methods}\n",
      "  ↳ 89643:\\section{Complementary Figures to the Section 3}\n",
      "✔ → 89643:\\section{Complementary Figures to the Section 3}\n",
      "  ↳ 95018:\\section{Complementary Figures to the Section 4}\n"
     ]
    },
    {
     "name": "stdout",
     "output_type": "stream",
     "text": [
      "✘ → 95018:\\section{Complementary Figures to the Section 4}\n",
      "  ↳ 101900:\\section{Complementary Figures to the Section 5}\n",
      "✔ → 101900:\\section{Complementary Figures to the Section 5}\n",
      "  ↳ 104374:\\section{Complementary Figures to the Section 6}\n",
      "✔ → 104374:\\section{Complementary Figures to the Section 6}\n",
      "  ↳ 107260:end\n"
     ]
    },
    {
     "name": "stdout",
     "output_type": "stream",
     "text": [
      "T. Mikal-Evans  ->  T. Mikal-Evans  |  ['T. Mikal-Evans']\n"
     ]
    },
    {
     "name": "stdout",
     "output_type": "stream",
     "text": [
      "Found 158 bibliographic references in tmp_2401.01465/main.bbl.\n",
      "Retrieving document from  https://arxiv.org/e-print/2401.01517\n"
     ]
    },
    {
     "name": "stdout",
     "output_type": "stream",
     "text": [
      "extracting tarball to tmp_2401.01517..."
     ]
    },
    {
     "name": "stdout",
     "output_type": "stream",
     "text": [
      " done.\n",
      "Retrieving document from  https://arxiv.org/e-print/2401.01829\n"
     ]
    },
    {
     "name": "stdout",
     "output_type": "stream",
     "text": [
      "extracting tarball to tmp_2401.01829... done.\n"
     ]
    }
   ],
   "source": [
    "documents = []\n",
    "failed = []\n",
    "for paper in tqdm(candidates):\n",
    "    paper_id = paper['identifier'].lower().replace('arxiv:', '')\n",
    "    \n",
    "    folder = f'tmp_{paper_id}'\n",
    "\n",
    "    try:\n",
    "        if not os.path.isdir(folder):\n",
    "            folder = retrieve_document_source(f\"{paper_id}\", f'tmp_{paper_id}')\n",
    "        \n",
    "        try:\n",
    "            doc = latex.LatexDocument(folder, validation=validation)    \n",
    "        except AffiliationError as affilerror:\n",
    "            msg = f\"ArXiv:{paper_id:s} is not an MPIA paper... \" + str(affilerror)\n",
    "            failed.append((paper, \"affiliation error: \" + str(affilerror) ))\n",
    "            continue\n",
    "        \n",
    "        # Hack because sometimes author parsing does not work well\n",
    "        if (len(doc.authors) != len(paper['authors'])):\n",
    "            doc._authors = paper['authors']\n",
    "        else:\n",
    "            # highlight authors (FIXME: doc.highlight_authors)\n",
    "            # done on arxiv paper already\n",
    "            doc._authors = highlight_authors_in_list(\n",
    "                [mpia.get_initials(k) for k in doc.authors], \n",
    "                normed_mpia_authors, verbose=True)\n",
    "        if (doc.abstract) in (None, ''):\n",
    "            doc._abstract = paper['abstract']\n",
    "            \n",
    "        doc.comment = (get_markdown_badge(paper_id) + \n",
    "                       \"<mark>Appeared on: \" + paper['date'] + \"</mark> - \")\n",
    "        if paper['comments']:\n",
    "            doc.comment += \" _\" + paper['comments'] + \"_\"\n",
    "        \n",
    "        full_md = doc.generate_markdown_text()\n",
    "        \n",
    "        full_md += get_markdown_qrcode(paper_id)\n",
    "        \n",
    "        # replace citations\n",
    "        try:\n",
    "            bibdata = latex_bib.LatexBib.from_doc(doc)\n",
    "            full_md = latex_bib.replace_citations(full_md, bibdata)\n",
    "        except Exception as e:\n",
    "            print(e)\n",
    "        \n",
    "        documents.append((paper_id, full_md))\n",
    "    except Exception as e:\n",
    "        warnings.warn(latex.LatexWarning(f\"{paper_id:s} did not run properly\\n\" +\n",
    "                                         str(e)\n",
    "                                        ))\n",
    "        failed.append((paper, \"latex error \" + str(e)))"
   ]
  },
  {
   "cell_type": "markdown",
   "id": "2505a25c",
   "metadata": {
    "papermill": {
     "duration": 0.004231,
     "end_time": "2024-01-04T04:40:23.283570",
     "exception": false,
     "start_time": "2024-01-04T04:40:23.279339",
     "status": "completed"
    },
    "tags": []
   },
   "source": [
    "### Export the logs\n",
    "\n",
    "Throughout, we also keep track of the logs per paper. see `logs-{today date}.md` "
   ]
  },
  {
   "cell_type": "code",
   "execution_count": 5,
   "id": "d733828a",
   "metadata": {
    "execution": {
     "iopub.execute_input": "2024-01-04T04:40:23.293224Z",
     "iopub.status.busy": "2024-01-04T04:40:23.292920Z",
     "iopub.status.idle": "2024-01-04T04:40:23.307154Z",
     "shell.execute_reply": "2024-01-04T04:40:23.306558Z"
    },
    "papermill": {
     "duration": 0.020667,
     "end_time": "2024-01-04T04:40:23.308438",
     "exception": false,
     "start_time": "2024-01-04T04:40:23.287771",
     "status": "completed"
    },
    "scrolled": false,
    "tags": []
   },
   "outputs": [
    {
     "data": {
      "text/markdown": [
       "## Successful papers"
      ],
      "text/plain": [
       "<IPython.core.display.Markdown object>"
      ]
     },
     "metadata": {},
     "output_type": "display_data"
    },
    {
     "data": {
      "text/markdown": [
       "\n",
       "|||\n",
       "|---:|:---|\n",
       "| [![arXiv](https://img.shields.io/badge/arXiv-arXiv:2401.01452-b31b1b.svg)](https://arxiv.org/abs/arXiv:2401.01452) | **Euclid preparation: TBD. The pre-launch Science Ground Segment  simulation framework**  |\n",
       "|| E. Collaboration, et al. -- incl., <mark>M. Schirmer</mark> |\n",
       "|*Appeared on*| *2024-01-04*|\n",
       "|*Comments*| *38 pages, 25 figures, A&A submitted*|\n",
       "|**Abstract**| The European Space Agency's Euclid mission is one of the upcoming generation of large-scale cosmology surveys, which will map the large-scale structure in the Universe with unprecedented precision. The development and validation of the SGS pipeline requires state-of-the-art simulations with a high level of complexity and accuracy that include subtle instrumental features not accounted for previously as well as faster algorithms for the large-scale production of the expected Euclid data products. In this paper, we present the Euclid SGS simulation framework as applied in a large-scale end-to-end simulation exercise named Science Challenge 8. Our simulation pipeline enables the swift production of detailed image simulations for the construction and validation of the Euclid mission during its qualification phase and will serve as a reference throughout operations. Our end-to-end simulation framework starts with the production of a large cosmological N-body & mock galaxy catalogue simulation. We perform a selection of galaxies down to I_E=26 and 28 mag, respectively, for a Euclid Wide Survey spanning 165 deg^2 and a 1 deg^2 Euclid Deep Survey. We build realistic stellar density catalogues containing Milky Way-like stars down to H<26. Using the latest instrumental models for both the Euclid instruments and spacecraft as well as Euclid-like observing sequences, we emulate with high fidelity Euclid satellite imaging throughout the mission's lifetime. We present the SC8 data set consisting of overlapping visible and near-infrared Euclid Wide Survey and Euclid Deep Survey imaging and low-resolution spectroscopy along with ground-based. This extensive data set enables end-to-end testing of the entire ground segment data reduction and science analysis pipeline as well as the Euclid mission infrastructure, paving the way to future scientific and technical developments and enhancements. |"
      ],
      "text/plain": [
       "[arXiv:2401.01452] Euclid preparation: TBD. The pre-launch Science Ground Segment  simulation framework\n",
       "\tE. Collaboration, et al. -- incl., <mark>M. Schirmer</mark>"
      ]
     },
     "metadata": {},
     "output_type": "display_data"
    },
    {
     "data": {
      "text/markdown": [
       "\n",
       "|||\n",
       "|---:|:---|\n",
       "| [![arXiv](https://img.shields.io/badge/arXiv-arXiv:2401.01465-b31b1b.svg)](https://arxiv.org/abs/arXiv:2401.01465) | **Is the atmosphere of the ultra-hot Jupiter WASP-121b variable?**  |\n",
       "|| Q. Changeat, et al. -- incl., <mark>T. Mikal-Evans</mark> |\n",
       "|*Appeared on*| *2024-01-04*|\n",
       "|*Comments*| *Accepted for publication in ApJS. 43 pages, 31 figures, 2 animations (available online at the journal)*|\n",
       "|**Abstract**| We present a comprehensive analysis of the Hubble Space Telescope observations of the atmosphere of WASP-121 b, a ultra-hot Jupiter. After reducing the transit, eclipse, and phase-curve observations with a uniform methodology and addressing the biases from instrument systematics, sophisticated atmospheric retrievals are used to extract robust constraints on the thermal structure, chemistry, and cloud properties of the atmosphere. Our analysis shows that the observations are consistent with a strong thermal inversion beginning at ~0.1 bar on the dayside, solar to subsolar metallicity Z (i.e., -0.77 < log(Z) < 0.05), and super-solar C/O ratio (i.e., 0.59 < C/O < 0.87). More importantly, utilizing the high signal-to-noise ratio and repeated observations of the planet, we identify the following unambiguous time-varying signals in the data: i) a shift of the putative hotspot offset between the two phase-curves and ii) varying spectral signatures in the transits and eclipses. By simulating the global dynamics of WASP-121 b atmosphere at high-resolution, we show that the identified signals are consistent with quasi-periodic weather patterns, hence atmospheric variability, with signatures at the level probed by the observations (~5% to ~10%) that change on a timescale of ~5 planet days; in the simulations, the weather patterns arise from the formation and movement of storms and fronts, causing hot (as well as cold) patches of atmosphere to deform, separate, and mix in time. |"
      ],
      "text/plain": [
       "[arXiv:2401.01465] Is the atmosphere of the ultra-hot Jupiter WASP-121b variable?\n",
       "\tQ. Changeat, et al. -- incl., <mark>T. Mikal-Evans</mark>"
      ]
     },
     "metadata": {},
     "output_type": "display_data"
    },
    {
     "data": {
      "text/markdown": [
       "## Failed papers"
      ],
      "text/plain": [
       "<IPython.core.display.Markdown object>"
      ]
     },
     "metadata": {},
     "output_type": "display_data"
    },
    {
     "data": {
      "text/markdown": [
       "\n",
       "|||\n",
       "|---:|:---|\n",
       "| [![arXiv](https://img.shields.io/badge/arXiv-arXiv:2401.01517-b31b1b.svg)](https://arxiv.org/abs/arXiv:2401.01517) | **The rotation curve and mass distribution of M31**  |\n",
       "|| <mark>X. Zhang</mark>, et al. |\n",
       "|*Appeared on*| *2024-01-04*|\n",
       "|*Comments*| **|\n",
       "|**Abstract**| To gain a better understanding of the Andromeda galaxy M31 and its role in the Local Group, measuring its mass precisely is essential. In this work, we have constructed the rotation curve of M31 out to $\\sim$125 kpc using 13,679 M31 objects obtained from various sources, including the LAMOST data release 9 (LAMOST DR9), the DESI survey, and relevant literature. We divide all objects in our sample into bulge, disk and halo components. For the sources in the M31 disk, we have measured their circular velocities by a kinematic model with asymmetric drift corrections. For the bulge and halo objects, we calculate their velocity dispersions and use the spherical and projected Jeans equation to obtain the circular velocities. Our findings indicate a nearly isotropic nature for the M31 bulge, while the halo exhibits tangential anisotropy. The results show that the rotation curve remains constant at $\\sim$220 km s$^{-1}$ up to radius $\\sim$25 kpc and gradually decreases to $\\sim$170 km s$^{-1}$ further out. Based on the newly determined rotation curve, we have constructed a mass distribution model for M31. Our measurement of the M31 virial mass is $M_{\\rm vir} = 1.14^{+0.51}_{-0.35} \\times 10^{12} M_\\odot$ within $r_{\\rm vir} = 220 \\pm 25$ kpc. |\n",
       "|<p style=\"color:green\"> **ERROR** </p>| <p style=\"color:green\">affiliation error: mpia.affiliation_verifications: 'Heidelberg' keyword not found.</p> |"
      ],
      "text/plain": [
       "<IPython.core.display.Markdown object>"
      ]
     },
     "metadata": {},
     "output_type": "display_data"
    },
    {
     "data": {
      "text/markdown": [
       "\n",
       "|||\n",
       "|---:|:---|\n",
       "| [![arXiv](https://img.shields.io/badge/arXiv-arXiv:2401.01829-b31b1b.svg)](https://arxiv.org/abs/arXiv:2401.01829) | **Constraints on Axion-like Particles from the Observation of Galactic  Sources by LHAASO**  |\n",
       "|| <mark>J. Li</mark>, et al. |\n",
       "|*Appeared on*| *2024-01-04*|\n",
       "|*Comments*| **|\n",
       "|**Abstract**| High-energy photons may oscillate with axion-like particles (ALPs) when they propagate through the Milky Way's magnetic field, resulting in an alteration in the observed photon energy spectrum. The ultra-high energy gamma-ray spectra, measured by the Large High Altitude Air Shower Observatory (LHAASO) up to $\\mathcal{O}(1)~\\mathrm{PeV}$, provide a promising opportunity to investigate the ALP-photon oscillation effect. In this study, we utilize the gamma-ray spectra of four Galactic sources measured by LHAASO, including the Crab Nebula, LHAASO J2226+6057, LHAASO J1908+0621, and LHAASO J1825-1326, to explore this effect. We employ the $\\rm CL_s$ method to set constraints on the ALP parameters. Combing the observations of the four sources, our analysis reveals that the ALP-photon coupling $g_{a\\gamma}$ is constrained to be smaller than $1.4\\times10^{-10}$ ${\\rm GeV}^{-1}$ for the ALP mass of $\\sim 4\\times10^{-7} ~\\mathrm{eV}$ at the 95\\% C.L. By combing the observations of the Crab Nebula from LHAASO and other experiments, we find that the ALP-photon coupling could be set to be about $7.2\\times10^{-11}$ ${\\rm GeV}^{-1}$ for the ALP mass $\\sim 4 \\times10^{-7}~\\mathrm{eV}$ , which is in close proximity to the CAST constraint. |\n",
       "|<p style=\"color:green\"> **ERROR** </p>| <p style=\"color:green\">affiliation error: mpia.affiliation_verifications: 'Heidelberg' keyword not found.</p> |"
      ],
      "text/plain": [
       "<IPython.core.display.Markdown object>"
      ]
     },
     "metadata": {},
     "output_type": "display_data"
    }
   ],
   "source": [
    "import datetime\n",
    "today = str(datetime.date.today())\n",
    "logfile = f\"_build/html/logs/log-{today}.md\"\n",
    "\n",
    "\n",
    "with open(logfile, 'w') as logs:\n",
    "    # Success\n",
    "    logs.write(f'# Arxiv on Deck 2: Logs - {today}\\n\\n')\n",
    "    logs.write(\"\"\"* Arxiv had {0:,d} new papers\\n\"\"\".format(len(new_papers)))\n",
    "    logs.write(\"\"\"    * {0:,d} with possible author matches\\n\\n\"\"\".format(len(candidates)))\n",
    "    logs.write(\"## Sucessful papers\\n\\n\")\n",
    "    display(Markdown(\"## Successful papers\"))\n",
    "    success = [k[0] for k in documents]\n",
    "    for candid in candidates:\n",
    "        if candid['identifier'].split(':')[-1] in success:\n",
    "            display(candid)\n",
    "            logs.write(candid.generate_markdown_text() + '\\n\\n')\n",
    "\n",
    "    ## failed\n",
    "    logs.write(\"## Failed papers\\n\\n\")\n",
    "    display(Markdown(\"## Failed papers\"))\n",
    "    failed = sorted(failed, key=lambda x: x[1])\n",
    "    current_reason = \"\"\n",
    "    for paper, reason in failed:\n",
    "        if 'affiliation' in reason:\n",
    "            color = 'green'\n",
    "        else:\n",
    "            color = 'red'\n",
    "        data = Markdown(\n",
    "                paper.generate_markdown_text() + \n",
    "                f'\\n|<p style=\"color:{color:s}\"> **ERROR** </p>| <p style=\"color:{color:s}\">{reason:s}</p> |'\n",
    "               )\n",
    "        if reason != current_reason:\n",
    "            logs.write(f'### {reason:s} \\n\\n')\n",
    "            current_reason = reason\n",
    "        logs.write(data.data + '\\n\\n')\n",
    "        \n",
    "        # only display here the important errors (all in logs)\n",
    "        # if color in ('red',):\n",
    "        display(data)"
   ]
  },
  {
   "cell_type": "markdown",
   "id": "472d20ee",
   "metadata": {
    "papermill": {
     "duration": 0.004779,
     "end_time": "2024-01-04T04:40:23.318109",
     "exception": false,
     "start_time": "2024-01-04T04:40:23.313330",
     "status": "completed"
    },
    "tags": []
   },
   "source": [
    "## Export documents\n",
    "\n",
    "We now write the .md files and export relevant images"
   ]
  },
  {
   "cell_type": "code",
   "execution_count": 6,
   "id": "d426aed9",
   "metadata": {
    "execution": {
     "iopub.execute_input": "2024-01-04T04:40:23.329170Z",
     "iopub.status.busy": "2024-01-04T04:40:23.328691Z",
     "iopub.status.idle": "2024-01-04T04:40:23.334914Z",
     "shell.execute_reply": "2024-01-04T04:40:23.334385Z"
    },
    "papermill": {
     "duration": 0.013227,
     "end_time": "2024-01-04T04:40:23.336137",
     "exception": false,
     "start_time": "2024-01-04T04:40:23.322910",
     "status": "completed"
    },
    "tags": []
   },
   "outputs": [],
   "source": [
    "def export_markdown_summary(md: str, md_fname:str, directory: str):\n",
    "    \"\"\"Export MD document and associated relevant images\"\"\"\n",
    "    import os\n",
    "    import shutil\n",
    "    import re\n",
    "\n",
    "    if (os.path.exists(directory) and not os.path.isdir(directory)):\n",
    "        raise RuntimeError(f\"a non-directory file exists with name {directory:s}\")\n",
    "\n",
    "    if (not os.path.exists(directory)):\n",
    "        print(f\"creating directory {directory:s}\")\n",
    "        os.mkdir(directory)\n",
    "\n",
    "    fig_fnames = (re.compile(r'\\[Fig.*\\]\\((.*)\\)').findall(md) + \n",
    "                  re.compile(r'\\<img src=\"([^>\\s]*)\"[^>]*/>').findall(md))\n",
    "    for fname in fig_fnames:\n",
    "        if 'http' in fname:\n",
    "            # No need to copy online figures\n",
    "            continue\n",
    "        destdir = os.path.join(directory, os.path.dirname(fname))\n",
    "        destfname = os.path.join(destdir, os.path.basename(fname))\n",
    "        try:\n",
    "            os.makedirs(destdir)\n",
    "        except FileExistsError:\n",
    "            pass\n",
    "        shutil.copy(fname, destfname)\n",
    "    with open(os.path.join(directory, md_fname), 'w') as fout:\n",
    "        fout.write(md)\n",
    "    print(\"exported in \", os.path.join(directory, md_fname))\n",
    "    [print(\"    + \" + os.path.join(directory,fk)) for fk in fig_fnames]"
   ]
  },
  {
   "cell_type": "code",
   "execution_count": 7,
   "id": "014d04a4",
   "metadata": {
    "execution": {
     "iopub.execute_input": "2024-01-04T04:40:23.367543Z",
     "iopub.status.busy": "2024-01-04T04:40:23.366983Z",
     "iopub.status.idle": "2024-01-04T04:40:23.382989Z",
     "shell.execute_reply": "2024-01-04T04:40:23.382418Z"
    },
    "papermill": {
     "duration": 0.043379,
     "end_time": "2024-01-04T04:40:23.384335",
     "exception": false,
     "start_time": "2024-01-04T04:40:23.340956",
     "status": "completed"
    },
    "tags": []
   },
   "outputs": [
    {
     "name": "stdout",
     "output_type": "stream",
     "text": [
      "exported in  _build/html/2401.01452.md\n",
      "    + _build/html/tmp_2401.01452/./star_catalogs_SC8_1.png\n",
      "    + _build/html/tmp_2401.01452/./euclid_transmissions_v2_schirmer.png\n",
      "    + _build/html/tmp_2401.01452/./Cosmos_seds.png\n",
      "exported in  _build/html/2401.01465.md\n",
      "    + _build/html/tmp_2401.01465/./spectra_tp_retrieval.png\n",
      "    + _build/html/tmp_2401.01465/./tp_retrievals_1d.png\n",
      "    + _build/html/tmp_2401.01465/./tp_1d_test1.png\n",
      "    + _build/html/tmp_2401.01465/./transit_spectra_origin.png\n",
      "    + _build/html/tmp_2401.01465/./eclipse_spectra_origin.png\n"
     ]
    }
   ],
   "source": [
    "for paper_id, md in documents:\n",
    "    export_markdown_summary(md, f\"{paper_id:s}.md\", '_build/html/')"
   ]
  },
  {
   "cell_type": "markdown",
   "id": "f087a0a7",
   "metadata": {
    "papermill": {
     "duration": 0.005004,
     "end_time": "2024-01-04T04:40:23.394534",
     "exception": false,
     "start_time": "2024-01-04T04:40:23.389530",
     "status": "completed"
    },
    "tags": []
   },
   "source": [
    "## Display the papers\n",
    "\n",
    "Not necessary but allows for a quick check."
   ]
  },
  {
   "cell_type": "code",
   "execution_count": 8,
   "id": "fd25f625",
   "metadata": {
    "execution": {
     "iopub.execute_input": "2024-01-04T04:40:23.405450Z",
     "iopub.status.busy": "2024-01-04T04:40:23.405042Z",
     "iopub.status.idle": "2024-01-04T04:40:23.410975Z",
     "shell.execute_reply": "2024-01-04T04:40:23.410362Z"
    },
    "papermill": {
     "duration": 0.012886,
     "end_time": "2024-01-04T04:40:23.412324",
     "exception": false,
     "start_time": "2024-01-04T04:40:23.399438",
     "status": "completed"
    },
    "scrolled": false,
    "tags": []
   },
   "outputs": [
    {
     "data": {
      "text/markdown": [
       "<div class=\"macros\" style=\"visibility:hidden;\">\n",
       "$\\newcommand{\\ensuremath}{}$\n",
       "$\\newcommand{\\xspace}{}$\n",
       "$\\newcommand{\\object}[1]{\\texttt{#1}}$\n",
       "$\\newcommand{\\farcs}{{.}''}$\n",
       "$\\newcommand{\\farcm}{{.}'}$\n",
       "$\\newcommand{\\arcsec}{''}$\n",
       "$\\newcommand{\\arcmin}{'}$\n",
       "$\\newcommand{\\ion}[2]{#1#2}$\n",
       "$\\newcommand{\\textsc}[1]{\\textrm{#1}}$\n",
       "$\\newcommand{\\hl}[1]{\\textrm{#1}}$\n",
       "$\\newcommand{\\footnote}[1]{}$\n",
       "$\\newcommand{\\dotdeg}{\\rlap{.}^\\circ}$\n",
       "$\\newcommand{\\orcid}[1]$\n",
       "$\\newcommand{\\}{natexlab}$</div>\n",
       "\n",
       "\n",
       "\n",
       "<div id=\"title\">\n",
       "\n",
       "# Euclid preparation\n",
       "\n",
       "</div>\n",
       "<div id=\"comments\">\n",
       "\n",
       "[![arXiv](https://img.shields.io/badge/arXiv-2401.01452-b31b1b.svg)](https://arxiv.org/abs/2401.01452)<mark>Appeared on: 2024-01-04</mark> -  _38 pages, 25 figures, A&A submitted_\n",
       "\n",
       "</div>\n",
       "<div id=\"authors\">\n",
       "\n",
       "E. Collaboration, et al. -- incl., <mark>M. Schirmer</mark>\n",
       "\n",
       "</div>\n",
       "<div id=\"abstract\">\n",
       "\n",
       "**Abstract:** The European Space Agency's _Euclid mission_ is one of the upcoming generation of large-scale cosmology surveys, which will map the large-scale structure in the Universe with unprecedented precision. The mission will collect vast amount of data that will be processed and analysed by $\\Euclid$ 's Science Ground Segment (SGS). The development and validation of the SGS pipeline requires state-of-the-art simulations with a high level of complexity and accuracy that include subtle instrumental features not accounted for previously as well as faster algorithms for the large-scale production of the expected $\\Euclid$ data products. In this paper, we present the $\\Euclid$ SGS simulation framework as applied in a large-scale end-to-end simulation exercise named Science Challenge 8. Our simulation pipeline enables the swift production of detailed image simulations for the construction and validation of the $\\Euclid$ mission during its qualification phase and will serve as a reference throughout operations. Our end-to-end simulation framework starts with the production of a large cosmological N-body simulation which we use to construct a realistic galaxy mock catalogue. We perform a selection of galaxies down to $\\IE$ =26 and 28 mag, respectively, for a Euclid Wide Survey spanning $165 {\\rm deg}^2$ and a $1 {\\rm deg}^2$ Euclid Deep Survey. We build realistic stellar density catalogues containing Milky Way-like stars down to $H<26$ produced from a combination of a stellar population synthesis model of the Galaxy and real bright stars. Using the latest instrumental models for both the $\\Euclid$ instruments and spacecraft as well as $\\Euclid$ -like observing sequences, we emulate with high fidelity $\\Euclid$ satellite imaging throughout the mission's lifetime. We present the SC8 data set consisting of overlapping visible and near-infrared Euclid Wide Survey and Euclid Deep Survey imaging and low-resolution spectroscopy along with ground-based data in five optical bands.  This extensive data set enables end-to-end testing of the entire ground segment data reduction and science analysis pipeline as well as the $\\Euclid$ mission infrastructure, paving the way to future scientific and technical developments and enhancements.\n",
       "\n",
       "</div>\n",
       "\n",
       "<div id=\"div_fig1\">\n",
       "\n",
       "<img src=\"tmp_2401.01452/./star_catalogs_SC8_1.png\" alt=\"Fig13\" width=\"100%\"/>\n",
       "\n",
       "**Figure 13. -** Density of objects (number of stars per ${\\rm deg}^2$) in each standard star catalogues file covering SC8 Main Production area, superimposed with the \\Euclid observations and simulated EXT survey area. (*fig:star_catalogues_sc8*)\n",
       "\n",
       "</div>\n",
       "<div id=\"div_fig2\">\n",
       "\n",
       "<img src=\"tmp_2401.01452/./euclid_transmissions_v2_schirmer.png\" alt=\"Fig1\" width=\"100%\"/>\n",
       "\n",
       "**Figure 1. -** The total transmission of the VIS (\\IE) and NISP photometric  (\\YE, \\JE, \\HE), and the NISP Spectroscopic ($BG_E$, $RG_E$) bands. (*fig:euclid_transmissions*)\n",
       "\n",
       "</div>\n",
       "<div id=\"div_fig3\">\n",
       "\n",
       "<img src=\"tmp_2401.01452/./Cosmos_seds.png\" alt=\"Fig4\" width=\"100%\"/>\n",
       "\n",
       "**Figure 4. -** The reference template spectral energy distributions, used in combination with extra extinction and emission line prescriptions in order to reconstruct complete spectra. (*fig:cosmos_seds_dust*)\n",
       "\n",
       "</div><div id=\"qrcode\"><img src=https://api.qrserver.com/v1/create-qr-code/?size=100x100&data=\"https://arxiv.org/abs/2401.01452\"></div>"
      ],
      "text/plain": [
       "<IPython.core.display.Markdown object>"
      ]
     },
     "metadata": {},
     "output_type": "display_data"
    },
    {
     "data": {
      "text/markdown": [
       "<div class=\"macros\" style=\"visibility:hidden;\">\n",
       "$\\newcommand{\\ensuremath}{}$\n",
       "$\\newcommand{\\xspace}{}$\n",
       "$\\newcommand{\\object}[1]{\\texttt{#1}}$\n",
       "$\\newcommand{\\farcs}{{.}''}$\n",
       "$\\newcommand{\\farcm}{{.}'}$\n",
       "$\\newcommand{\\arcsec}{''}$\n",
       "$\\newcommand{\\arcmin}{'}$\n",
       "$\\newcommand{\\ion}[2]{#1#2}$\n",
       "$\\newcommand{\\textsc}[1]{\\textrm{#1}}$\n",
       "$\\newcommand{\\hl}[1]{\\textrm{#1}}$\n",
       "$\\newcommand{\\footnote}[1]{}$\n",
       "$\\newcommand{\\ipwtodo}{\\todo[author=IPW,inline,size=\\footnotesize,color=blue!30!white]}$\n",
       "$\\newcommand{\\gttodo}{\\todo[author=GT,inline,size=\\footnotesize,color=green!30!white]}$\n",
       "$\\newcommand{\\betodo}{\\todo[author=BE,inline,size=\\footnotesize,color=yellow!30!white]}$\n",
       "$\\newcommand{\\qctodo}{\\todo[author=QC,inline,size=\\footnotesize,color=red!30!white]}$\n",
       "$\\newcommand{\\hi}[1]{\\textcolor{cyan}{#1}}$\n",
       "$\\newcommand{\\rem}[1]{\\textcolor{red}{[#1]}}$\n",
       "$\\newcommand{\\remQ}[1]{\\textcolor{purple}{[#1]}}$\n",
       "$\\newcommand{\\thefootnote}{\\fnsymbol{footnote}}$\n",
       "$\\newcommand{\\thefootnote}{\\arabic{footnote}}$\n",
       "$\\newcommand$\n",
       "$\\newcommand$\n",
       "$\\newcommand{\\thefigure}{A\\arabic{figure}}$\n",
       "$\\newcommand{\\theHfigure}{A\\arabic{figure}}$\n",
       "$\\newcommand{\\floatpagefraction}{.99}$\n",
       "$\\newcommand{\\thefigure}{B\\arabic{figure}}$\n",
       "$\\newcommand{\\theHfigure}{B\\arabic{figure}}$\n",
       "$\\newcommand{\\thefigure}{D\\arabic{figure}}$\n",
       "$\\newcommand{\\theHfigure}{D\\arabic{figure}}$\n",
       "$\\newcommand{\\thefigure}{E\\arabic{figure}}$\n",
       "$\\newcommand{\\theHfigure}{E\\arabic{figure}}$</div>\n",
       "\n",
       "\n",
       "\n",
       "<div id=\"title\">\n",
       "\n",
       "# Is the atmosphere of the ultra-hot Jupiter WASP-121 b variable?\n",
       "\n",
       "</div>\n",
       "<div id=\"comments\">\n",
       "\n",
       "[![arXiv](https://img.shields.io/badge/arXiv-2401.01465-b31b1b.svg)](https://arxiv.org/abs/2401.01465)<mark>Appeared on: 2024-01-04</mark> -  _Accepted for publication in ApJS. 43 pages, 31 figures, 2 animations (available online at the journal)_\n",
       "\n",
       "</div>\n",
       "<div id=\"authors\">\n",
       "\n",
       "Q. C. $^\\dagger$, et al. -- incl., <mark>T. Mikal-Evans</mark>\n",
       "\n",
       "</div>\n",
       "<div id=\"abstract\">\n",
       "\n",
       "**Abstract:** We present a comprehensive analysis of the Hubble Space Telescopeobservations of the atmosphere of WASP-121 b, a ultra-hot Jupiter.After reducing the transit, eclipse, and phase-curve observationswith a uniform methodology and addressing the biases frominstrument systematics, sophisticated atmospheric retrievals areused to extract robust constraints on the thermal structure,chemistry, and cloud properties of the atmosphere.Our analysis shows that the observations are consistent with astrong thermal inversion beginning at $\\sim10^4$ Pa on thedayside, solar to subsolar metallicity $Z$ (i.e., $-0.77 < \\log(Z) < 0.05$ ), and super-solar C/O ratio(i.e., $0.59 < \\textrm{C/O} < 0.87$ ).More importantly, utilizing the high signal-to-noise ratio andrepeated observations of the planet, we identify the followingunambiguous time-varying signals in the data: $_ i_$ ) a shift ofthe putative $_ hotspot_$ offset between the two phase-curves and $_ ii_$ ) varying spectral signatures in the transits and eclipses.By simulating the global dynamics of WASP-121 batmosphere at high-resolution, we show that the identified signalsare consistent with quasi-periodic weather patterns, henceatmospheric variability, with signatures at the level probed bythe observations ( $\\sim$ 5 \\% to $\\sim$ 10 \\% ) that change on atimescale of $\\sim$ 5 planet days; in the simulations, theweather patterns arise from the formation and movement of stormsand fronts, causing hot (as well as cold) patches of atmosphereto deform, separate, and mix in time.\n",
       "\n",
       "</div>\n",
       "\n",
       "<div id=\"div_fig1\">\n",
       "\n",
       "<img src=\"tmp_2401.01465/./spectra_tp_retrieval.png\" alt=\"Fig16\" width=\"100%\"/>\n",
       "\n",
       "**Figure 16. -** Recovered temperature--pressure ($T$--$p$) profiles\n",
       "    (left) and best-fit spectra (right) for the phases from 0.05\n",
       "    (blue) to 0.5 (red), obtained from the phase-curve\n",
       "    atmospheric retrieval.\n",
       "    In the $T$--$p$ plot, the shaded regions correspond to one\n",
       "    and three sigma confidence regions (dark to light,\n",
       "    respectively).\n",
       "    The  radiative contribution function is also shown in\n",
       "    dashed line, colored for each region: hotspot (red),\n",
       "    dayside (orange), and nightside (blue).\n",
       "    These retrievals show good agreement with the observed data\n",
       "    and demonstrate a strong dayside thermal inversion, with\n",
       "    the presence of a hotter region (e.g. hotspot).\n",
       "    The best-fit $T-p$ profiles (solid lines, left) are used\n",
       "    to thermally force the atmospheric dynamics simulations.\n",
       "    This figure is accompanied by a 15 s video, available online at the journal, showing the evolution of WASP-121 b emission (from blue to red) and the corresponding thermal structure as a function of phase. As the planet moves from transit to eclipse, absorption features in the data are replaced by emission features. These spectral variations enable the characterization of the thermal structure and chemistry across WASP-121 b's atmosphere. (*fig:spectra_tp_retrieval*)\n",
       "\n",
       "</div>\n",
       "<div id=\"div_fig2\">\n",
       "\n",
       "<img src=\"tmp_2401.01465/./tp_retrievals_1d.png\" alt=\"Fig19.1\" width=\"50%\"/><img src=\"tmp_2401.01465/./tp_1d_test1.png\" alt=\"Fig19.2\" width=\"50%\"/>\n",
       "\n",
       "**Figure 19. -** One-dimensional (1D) thermal structure recovered by\n",
       "    our retrieval analysis of the five eclipse observations with\n",
       "    one sigma confidence region (left), and $T$--$p$ profiles\n",
       "    from multiple times ($t \\in[40, 185]$ days) at the substellar\n",
       "    point from a three-dimensional (3D) atmospheric dynamics\n",
       "    simulation (right).\n",
       "    The magnitude of variability in $p \\in[10^5, 10^3]$ Pa is\n",
       "    $\\sim$300 K, which is consistent with the variation predicted\n",
       "    by the 3D simulation.\n",
       "    Dashed gray lines show the vertical extent of the atmosphere\n",
       "    modeled by the simulations in this study.\n",
       "    Note, while these profiles are not like-for-like comparable\n",
       "    because the retrieved thermal structure is global and\n",
       "    substellar temperature predictions are local.  (*fig:tp1d*)\n",
       "\n",
       "</div>\n",
       "<div id=\"div_fig3\">\n",
       "\n",
       "<img src=\"tmp_2401.01465/./transit_spectra_origin.png\" alt=\"Fig10.1\" width=\"50%\"/><img src=\"tmp_2401.01465/./eclipse_spectra_origin.png\" alt=\"Fig10.2\" width=\"50%\"/>\n",
       "\n",
       "**Figure 10. -** \n",
       "    Transit (left) and eclipse (right) spectra of WASP-121 b analyzed\n",
       "    in this work. Different observations are offset in the $y$-axis.\n",
       "    Best-fit models from the 1D retrievals are shown in solid lines.\n",
       "    Dashed lines show featureless models for visual comparison. (*fig:spectra_ec_tr*)\n",
       "\n",
       "</div><div id=\"qrcode\"><img src=https://api.qrserver.com/v1/create-qr-code/?size=100x100&data=\"https://arxiv.org/abs/2401.01465\"></div>"
      ],
      "text/plain": [
       "<IPython.core.display.Markdown object>"
      ]
     },
     "metadata": {},
     "output_type": "display_data"
    }
   ],
   "source": [
    "[display(Markdown(k[1])) for k in documents];"
   ]
  },
  {
   "cell_type": "markdown",
   "id": "873873a4",
   "metadata": {
    "papermill": {
     "duration": 0.005192,
     "end_time": "2024-01-04T04:40:23.422881",
     "exception": false,
     "start_time": "2024-01-04T04:40:23.417689",
     "status": "completed"
    },
    "tags": []
   },
   "source": [
    "# Create HTML index"
   ]
  },
  {
   "cell_type": "code",
   "execution_count": 9,
   "id": "cf665672",
   "metadata": {
    "execution": {
     "iopub.execute_input": "2024-01-04T04:40:23.434438Z",
     "iopub.status.busy": "2024-01-04T04:40:23.434062Z",
     "iopub.status.idle": "2024-01-04T04:40:23.443524Z",
     "shell.execute_reply": "2024-01-04T04:40:23.442990Z"
    },
    "papermill": {
     "duration": 0.01669,
     "end_time": "2024-01-04T04:40:23.444832",
     "exception": false,
     "start_time": "2024-01-04T04:40:23.428142",
     "status": "completed"
    },
    "tags": []
   },
   "outputs": [
    {
     "name": "stdout",
     "output_type": "stream",
     "text": [
      "350  publications files modified in the last 7 days.\n"
     ]
    }
   ],
   "source": [
    "from datetime import datetime, timedelta, timezone\n",
    "from glob import glob\n",
    "import os\n",
    "\n",
    "files = glob('_build/html/*.md')\n",
    "days = 7\n",
    "now = datetime.today()\n",
    "res = []\n",
    "for fk in files:\n",
    "    stat_result = os.stat(fk).st_ctime\n",
    "    modified = datetime.fromtimestamp(stat_result, tz=timezone.utc).replace(tzinfo=None)\n",
    "    delta = now.today() - modified\n",
    "    if delta <= timedelta(days=days):\n",
    "        res.append((delta.seconds, fk))\n",
    "res = [k[1] for k in reversed(sorted(res, key=lambda x:x[1]))]\n",
    "npub = len(res)\n",
    "print(len(res), f\" publications files modified in the last {days:d} days.\")\n",
    "# [ print('\\t', k) for k in res ];"
   ]
  },
  {
   "cell_type": "code",
   "execution_count": 10,
   "id": "015de740",
   "metadata": {
    "execution": {
     "iopub.execute_input": "2024-01-04T04:40:23.456757Z",
     "iopub.status.busy": "2024-01-04T04:40:23.456250Z",
     "iopub.status.idle": "2024-01-04T04:40:23.476207Z",
     "shell.execute_reply": "2024-01-04T04:40:23.475596Z"
    },
    "papermill": {
     "duration": 0.027327,
     "end_time": "2024-01-04T04:40:23.477529",
     "exception": false,
     "start_time": "2024-01-04T04:40:23.450202",
     "status": "completed"
    },
    "tags": []
   },
   "outputs": [
    {
     "name": "stdout",
     "output_type": "stream",
     "text": [
      "3  publications in the last 7 days.\n"
     ]
    }
   ],
   "source": [
    "import datetime\n",
    "from glob import glob\n",
    "\n",
    "def get_last_n_days(lst, days=1):\n",
    "    \"\"\" Get the documents from the last n days \"\"\"\n",
    "    sorted_lst = sorted(lst, key=lambda x: x[1], reverse=True)\n",
    "    for fname, date in sorted_lst:\n",
    "        if date >= str(datetime.date.today() - datetime.timedelta(days=days)):\n",
    "            yield fname\n",
    "\n",
    "def extract_appearance_dates(lst_file):\n",
    "    dates = []\n",
    "\n",
    "    def get_date(line):\n",
    "        return line\\\n",
    "            .split('Appeared on:')[-1]\\\n",
    "            .split('</mark>')[0].strip()\n",
    "\n",
    "    for fname in lst:\n",
    "        with open(fname, 'r') as f:\n",
    "            found_date = False\n",
    "            for line in f:\n",
    "                if not found_date:\n",
    "                    if \"Appeared on\" in line:\n",
    "                        found_date = True\n",
    "                        dates.append((fname, get_date(line)))\n",
    "                else:\n",
    "                    break\n",
    "    return dates\n",
    "\n",
    "from glob import glob\n",
    "lst = glob('_build/html/*md')\n",
    "days = 7\n",
    "dates = extract_appearance_dates(lst)\n",
    "res = list(get_last_n_days(dates, days))\n",
    "npub = len(res)\n",
    "print(len(res), f\" publications in the last {days:d} days.\")"
   ]
  },
  {
   "cell_type": "code",
   "execution_count": 11,
   "id": "52ca0208",
   "metadata": {
    "execution": {
     "iopub.execute_input": "2024-01-04T04:40:23.489592Z",
     "iopub.status.busy": "2024-01-04T04:40:23.489181Z",
     "iopub.status.idle": "2024-01-04T04:40:23.493989Z",
     "shell.execute_reply": "2024-01-04T04:40:23.493430Z"
    },
    "papermill": {
     "duration": 0.012295,
     "end_time": "2024-01-04T04:40:23.495311",
     "exception": false,
     "start_time": "2024-01-04T04:40:23.483016",
     "status": "completed"
    },
    "scrolled": false,
    "tags": []
   },
   "outputs": [],
   "source": [
    "def create_carousel(npub=4):\n",
    "    \"\"\" Generate the HTML code for a carousel with `npub` slides \"\"\"\n",
    "    carousel = [\"\"\"  <div class=\"carousel\" \"\"\",\n",
    "                \"\"\"       data-flickity='{ \"autoPlay\": 10000, \"adaptiveHeight\": true, \"resize\": true, \"wrapAround\": true, \"pauseAutoPlayOnHover\": true, \"groupCells\": 1 }' id=\"asyncTypeset\">\"\"\"\n",
    "                ]\n",
    "    \n",
    "    item_str = \"\"\"    <div class=\"carousel-cell\"> <div id=\"slide{k}\" class=\"md_view\">Content {k}</div> </div>\"\"\"\n",
    "    for k in range(1, npub + 1):\n",
    "        carousel.append(item_str.format(k=k))\n",
    "    carousel.append(\"  </div>\")\n",
    "    return '\\n'.join(carousel)\n",
    "\n",
    "def create_grid(npub=4):\n",
    "    \"\"\" Generate the HTML code for a flat grid with `npub` slides \"\"\"\n",
    "    grid = [\"\"\"  <div class=\"grid\"> \"\"\",\n",
    "                ]\n",
    "    \n",
    "    item_str = \"\"\"    <div class=\"grid-item\"> <div id=\"slide{k}\" class=\"md_view\">Content {k}</div> </div>\"\"\"\n",
    "    for k in range(1, npub + 1):\n",
    "        grid.append(item_str.format(k=k))\n",
    "    grid.append(\"  </div>\")\n",
    "    return '\\n'.join(grid)"
   ]
  },
  {
   "cell_type": "code",
   "execution_count": 12,
   "id": "a6eac5b6",
   "metadata": {
    "execution": {
     "iopub.execute_input": "2024-01-04T04:40:23.507663Z",
     "iopub.status.busy": "2024-01-04T04:40:23.507143Z",
     "iopub.status.idle": "2024-01-04T04:40:23.512129Z",
     "shell.execute_reply": "2024-01-04T04:40:23.511530Z"
    },
    "papermill": {
     "duration": 0.012592,
     "end_time": "2024-01-04T04:40:23.513509",
     "exception": false,
     "start_time": "2024-01-04T04:40:23.500917",
     "status": "completed"
    },
    "scrolled": false,
    "tags": []
   },
   "outputs": [],
   "source": [
    "carousel = create_carousel(npub)\n",
    "docs = ', '.join(['\"{0:s}\"'.format(k.split('/')[-1]) for k in res])\n",
    "slides = ', '.join([f'\"slide{k}\"' for k in range(1, npub + 1)])\n",
    "\n",
    "with open(\"daily_template.html\", \"r\") as tpl:\n",
    "    page = tpl.read()\n",
    "    page = page.replace(\"{%-- carousel:s --%}\", carousel)\\\n",
    "               .replace(\"{%-- suptitle:s --%}\",  \"7-day archives\" )\\\n",
    "               .replace(\"{%-- docs:s --%}\", docs)\\\n",
    "               .replace(\"{%-- slides:s --%}\", slides)\n",
    "    \n",
    "with open(\"_build/html/index_7days.html\", 'w') as fout:\n",
    "    fout.write(page)"
   ]
  },
  {
   "cell_type": "code",
   "execution_count": 13,
   "id": "adc1a1ec",
   "metadata": {
    "execution": {
     "iopub.execute_input": "2024-01-04T04:40:23.525353Z",
     "iopub.status.busy": "2024-01-04T04:40:23.525161Z",
     "iopub.status.idle": "2024-01-04T04:40:23.531411Z",
     "shell.execute_reply": "2024-01-04T04:40:23.530900Z"
    },
    "papermill": {
     "duration": 0.013639,
     "end_time": "2024-01-04T04:40:23.532659",
     "exception": false,
     "start_time": "2024-01-04T04:40:23.519020",
     "status": "completed"
    },
    "tags": []
   },
   "outputs": [
    {
     "name": "stdout",
     "output_type": "stream",
     "text": [
      "3  publications in the last day.\n"
     ]
    }
   ],
   "source": [
    "# redo for today\n",
    "days = 1\n",
    "res = list(get_last_n_days(dates, days))\n",
    "npub = len(res)\n",
    "print(len(res), f\" publications in the last day.\")\n",
    "\n",
    "carousel = create_carousel(npub)\n",
    "docs = ', '.join(['\"{0:s}\"'.format(k.split('/')[-1]) for k in res])\n",
    "slides = ', '.join([f'\"slide{k}\"' for k in range(1, npub + 1)])\n",
    "\n",
    "with open(\"daily_template.html\", \"r\") as tpl:\n",
    "    page = tpl.read()\n",
    "    page = page.replace(\"{%-- carousel:s --%}\", carousel)\\\n",
    "               .replace(\"{%-- suptitle:s --%}\",  \"Daily\" )\\\n",
    "               .replace(\"{%-- docs:s --%}\", docs)\\\n",
    "               .replace(\"{%-- slides:s --%}\", slides)\n",
    "    \n",
    "# print(carousel, docs, slides)\n",
    "# print(page)\n",
    "with open(\"_build/html/index_daily.html\", 'w') as fout:\n",
    "    fout.write(page)"
   ]
  },
  {
   "cell_type": "code",
   "execution_count": 14,
   "id": "00eece82",
   "metadata": {
    "execution": {
     "iopub.execute_input": "2024-01-04T04:40:23.544917Z",
     "iopub.status.busy": "2024-01-04T04:40:23.544506Z",
     "iopub.status.idle": "2024-01-04T04:40:23.550761Z",
     "shell.execute_reply": "2024-01-04T04:40:23.550192Z"
    },
    "papermill": {
     "duration": 0.013804,
     "end_time": "2024-01-04T04:40:23.552065",
     "exception": false,
     "start_time": "2024-01-04T04:40:23.538261",
     "status": "completed"
    },
    "scrolled": false,
    "tags": []
   },
   "outputs": [
    {
     "name": "stdout",
     "output_type": "stream",
     "text": [
      "6  6 publications selected.\n"
     ]
    }
   ],
   "source": [
    "# Create the flat grid of the last N papers (fixed number regardless of dates)\n",
    "from itertools import islice \n",
    "\n",
    "npub = 6\n",
    "res = [k[0] for k in (islice(reversed(sorted(dates, key=lambda x: x[1])), 6))]\n",
    "print(len(res), f\" {npub} publications selected.\")\n",
    "\n",
    "grid = create_grid(npub)\n",
    "docs = ', '.join(['\"{0:s}\"'.format(k.split('/')[-1]) for k in res])\n",
    "slides = ', '.join([f'\"slide{k}\"' for k in range(1, npub + 1)])\n",
    "\n",
    "with open(\"grid_template.html\", \"r\") as tpl:\n",
    "    page = tpl.read()\n",
    "    page = page.replace(\"{%-- grid-content:s --%}\", grid)\\\n",
    "               .replace(\"{%-- suptitle:s --%}\",  f\"Last {npub:,d} papers\" )\\\n",
    "               .replace(\"{%-- docs:s --%}\", docs)\\\n",
    "               .replace(\"{%-- slides:s --%}\", slides)\n",
    "    \n",
    "# print(grid, docs, slides)\n",
    "# print(page)\n",
    "with open(\"_build/html/index_npub_grid.html\", 'w') as fout:\n",
    "    fout.write(page)"
   ]
  }
 ],
 "metadata": {
  "kernelspec": {
   "display_name": "Python 3 (ipykernel)",
   "language": "python",
   "name": "python3"
  },
  "language_info": {
   "codemirror_mode": {
    "name": "ipython",
    "version": 3
   },
   "file_extension": ".py",
   "mimetype": "text/x-python",
   "name": "python",
   "nbconvert_exporter": "python",
   "pygments_lexer": "ipython3",
   "version": "3.9.18"
  },
  "papermill": {
   "default_parameters": {},
   "duration": 1859.78198,
   "end_time": "2024-01-04T04:40:23.877157",
   "environment_variables": {},
   "exception": null,
   "input_path": "MPIA daily digest.ipynb",
   "output_path": "log.ipynb",
   "parameters": {},
   "start_time": "2024-01-04T04:09:24.095177",
   "version": "2.5.0"
  },
  "vscode": {
   "interpreter": {
    "hash": "aee8b7b246df8f9039afb4144a1f6fd8d2ca17a180786b69acc140d282b71a49"
   }
  },
  "widgets": {
   "application/vnd.jupyter.widget-state+json": {
    "state": {
     "3db70cc24ddc4504afcc7c3b3379a816": {
      "model_module": "@jupyter-widgets/base",
      "model_module_version": "2.0.0",
      "model_name": "LayoutModel",
      "state": {
       "_model_module": "@jupyter-widgets/base",
       "_model_module_version": "2.0.0",
       "_model_name": "LayoutModel",
       "_view_count": null,
       "_view_module": "@jupyter-widgets/base",
       "_view_module_version": "2.0.0",
       "_view_name": "LayoutView",
       "align_content": null,
       "align_items": null,
       "align_self": null,
       "border_bottom": null,
       "border_left": null,
       "border_right": null,
       "border_top": null,
       "bottom": null,
       "display": null,
       "flex": null,
       "flex_flow": null,
       "grid_area": null,
       "grid_auto_columns": null,
       "grid_auto_flow": null,
       "grid_auto_rows": null,
       "grid_column": null,
       "grid_gap": null,
       "grid_row": null,
       "grid_template_areas": null,
       "grid_template_columns": null,
       "grid_template_rows": null,
       "height": null,
       "justify_content": null,
       "justify_items": null,
       "left": null,
       "margin": null,
       "max_height": null,
       "max_width": null,
       "min_height": null,
       "min_width": null,
       "object_fit": null,
       "object_position": null,
       "order": null,
       "overflow": null,
       "padding": null,
       "right": null,
       "top": null,
       "visibility": null,
       "width": null
      }
     },
     "42fc369f755943d8b718ca5b23a3d779": {
      "model_module": "@jupyter-widgets/base",
      "model_module_version": "2.0.0",
      "model_name": "LayoutModel",
      "state": {
       "_model_module": "@jupyter-widgets/base",
       "_model_module_version": "2.0.0",
       "_model_name": "LayoutModel",
       "_view_count": null,
       "_view_module": "@jupyter-widgets/base",
       "_view_module_version": "2.0.0",
       "_view_name": "LayoutView",
       "align_content": null,
       "align_items": null,
       "align_self": null,
       "border_bottom": null,
       "border_left": null,
       "border_right": null,
       "border_top": null,
       "bottom": null,
       "display": null,
       "flex": null,
       "flex_flow": null,
       "grid_area": null,
       "grid_auto_columns": null,
       "grid_auto_flow": null,
       "grid_auto_rows": null,
       "grid_column": null,
       "grid_gap": null,
       "grid_row": null,
       "grid_template_areas": null,
       "grid_template_columns": null,
       "grid_template_rows": null,
       "height": null,
       "justify_content": null,
       "justify_items": null,
       "left": null,
       "margin": null,
       "max_height": null,
       "max_width": null,
       "min_height": null,
       "min_width": null,
       "object_fit": null,
       "object_position": null,
       "order": null,
       "overflow": null,
       "padding": null,
       "right": null,
       "top": null,
       "visibility": null,
       "width": null
      }
     },
     "5152a4ee0eb14f528befb76dcce79399": {
      "model_module": "@jupyter-widgets/controls",
      "model_module_version": "2.0.0",
      "model_name": "FloatProgressModel",
      "state": {
       "_dom_classes": [],
       "_model_module": "@jupyter-widgets/controls",
       "_model_module_version": "2.0.0",
       "_model_name": "FloatProgressModel",
       "_view_count": null,
       "_view_module": "@jupyter-widgets/controls",
       "_view_module_version": "2.0.0",
       "_view_name": "ProgressView",
       "bar_style": "success",
       "description": "",
       "description_allow_html": false,
       "layout": "IPY_MODEL_3db70cc24ddc4504afcc7c3b3379a816",
       "max": 4.0,
       "min": 0.0,
       "orientation": "horizontal",
       "style": "IPY_MODEL_d01400bcafe7414b99fb4dfb731c51d6",
       "tabbable": null,
       "tooltip": null,
       "value": 4.0
      }
     },
     "6321941904ad42c4ac48f98425f738c7": {
      "model_module": "@jupyter-widgets/controls",
      "model_module_version": "2.0.0",
      "model_name": "HTMLStyleModel",
      "state": {
       "_model_module": "@jupyter-widgets/controls",
       "_model_module_version": "2.0.0",
       "_model_name": "HTMLStyleModel",
       "_view_count": null,
       "_view_module": "@jupyter-widgets/base",
       "_view_module_version": "2.0.0",
       "_view_name": "StyleView",
       "background": null,
       "description_width": "",
       "font_size": null,
       "text_color": null
      }
     },
     "6bbc52c6044e4d65af745afaea89c8c8": {
      "model_module": "@jupyter-widgets/controls",
      "model_module_version": "2.0.0",
      "model_name": "HBoxModel",
      "state": {
       "_dom_classes": [],
       "_model_module": "@jupyter-widgets/controls",
       "_model_module_version": "2.0.0",
       "_model_name": "HBoxModel",
       "_view_count": null,
       "_view_module": "@jupyter-widgets/controls",
       "_view_module_version": "2.0.0",
       "_view_name": "HBoxView",
       "box_style": "",
       "children": [
        "IPY_MODEL_968ce68314b143f3aec37abf3c85f67b",
        "IPY_MODEL_5152a4ee0eb14f528befb76dcce79399",
        "IPY_MODEL_8e08feadb2574aacbff2ef45d54e5a02"
       ],
       "layout": "IPY_MODEL_42fc369f755943d8b718ca5b23a3d779",
       "tabbable": null,
       "tooltip": null
      }
     },
     "8e08feadb2574aacbff2ef45d54e5a02": {
      "model_module": "@jupyter-widgets/controls",
      "model_module_version": "2.0.0",
      "model_name": "HTMLModel",
      "state": {
       "_dom_classes": [],
       "_model_module": "@jupyter-widgets/controls",
       "_model_module_version": "2.0.0",
       "_model_name": "HTMLModel",
       "_view_count": null,
       "_view_module": "@jupyter-widgets/controls",
       "_view_module_version": "2.0.0",
       "_view_name": "HTMLView",
       "description": "",
       "description_allow_html": false,
       "layout": "IPY_MODEL_cd500e6ffeb545f1b895919830a9a7ef",
       "placeholder": "​",
       "style": "IPY_MODEL_6321941904ad42c4ac48f98425f738c7",
       "tabbable": null,
       "tooltip": null,
       "value": " 4/4 [30:36&lt;00:00, 253.45s/it]"
      }
     },
     "968ce68314b143f3aec37abf3c85f67b": {
      "model_module": "@jupyter-widgets/controls",
      "model_module_version": "2.0.0",
      "model_name": "HTMLModel",
      "state": {
       "_dom_classes": [],
       "_model_module": "@jupyter-widgets/controls",
       "_model_module_version": "2.0.0",
       "_model_name": "HTMLModel",
       "_view_count": null,
       "_view_module": "@jupyter-widgets/controls",
       "_view_module_version": "2.0.0",
       "_view_name": "HTMLView",
       "description": "",
       "description_allow_html": false,
       "layout": "IPY_MODEL_d49f48b55bfd4383bb182b785c397f83",
       "placeholder": "​",
       "style": "IPY_MODEL_e2eab0b10d424506b8f2fb40d6fd1bbb",
       "tabbable": null,
       "tooltip": null,
       "value": "100%"
      }
     },
     "cd500e6ffeb545f1b895919830a9a7ef": {
      "model_module": "@jupyter-widgets/base",
      "model_module_version": "2.0.0",
      "model_name": "LayoutModel",
      "state": {
       "_model_module": "@jupyter-widgets/base",
       "_model_module_version": "2.0.0",
       "_model_name": "LayoutModel",
       "_view_count": null,
       "_view_module": "@jupyter-widgets/base",
       "_view_module_version": "2.0.0",
       "_view_name": "LayoutView",
       "align_content": null,
       "align_items": null,
       "align_self": null,
       "border_bottom": null,
       "border_left": null,
       "border_right": null,
       "border_top": null,
       "bottom": null,
       "display": null,
       "flex": null,
       "flex_flow": null,
       "grid_area": null,
       "grid_auto_columns": null,
       "grid_auto_flow": null,
       "grid_auto_rows": null,
       "grid_column": null,
       "grid_gap": null,
       "grid_row": null,
       "grid_template_areas": null,
       "grid_template_columns": null,
       "grid_template_rows": null,
       "height": null,
       "justify_content": null,
       "justify_items": null,
       "left": null,
       "margin": null,
       "max_height": null,
       "max_width": null,
       "min_height": null,
       "min_width": null,
       "object_fit": null,
       "object_position": null,
       "order": null,
       "overflow": null,
       "padding": null,
       "right": null,
       "top": null,
       "visibility": null,
       "width": null
      }
     },
     "d01400bcafe7414b99fb4dfb731c51d6": {
      "model_module": "@jupyter-widgets/controls",
      "model_module_version": "2.0.0",
      "model_name": "ProgressStyleModel",
      "state": {
       "_model_module": "@jupyter-widgets/controls",
       "_model_module_version": "2.0.0",
       "_model_name": "ProgressStyleModel",
       "_view_count": null,
       "_view_module": "@jupyter-widgets/base",
       "_view_module_version": "2.0.0",
       "_view_name": "StyleView",
       "bar_color": null,
       "description_width": ""
      }
     },
     "d49f48b55bfd4383bb182b785c397f83": {
      "model_module": "@jupyter-widgets/base",
      "model_module_version": "2.0.0",
      "model_name": "LayoutModel",
      "state": {
       "_model_module": "@jupyter-widgets/base",
       "_model_module_version": "2.0.0",
       "_model_name": "LayoutModel",
       "_view_count": null,
       "_view_module": "@jupyter-widgets/base",
       "_view_module_version": "2.0.0",
       "_view_name": "LayoutView",
       "align_content": null,
       "align_items": null,
       "align_self": null,
       "border_bottom": null,
       "border_left": null,
       "border_right": null,
       "border_top": null,
       "bottom": null,
       "display": null,
       "flex": null,
       "flex_flow": null,
       "grid_area": null,
       "grid_auto_columns": null,
       "grid_auto_flow": null,
       "grid_auto_rows": null,
       "grid_column": null,
       "grid_gap": null,
       "grid_row": null,
       "grid_template_areas": null,
       "grid_template_columns": null,
       "grid_template_rows": null,
       "height": null,
       "justify_content": null,
       "justify_items": null,
       "left": null,
       "margin": null,
       "max_height": null,
       "max_width": null,
       "min_height": null,
       "min_width": null,
       "object_fit": null,
       "object_position": null,
       "order": null,
       "overflow": null,
       "padding": null,
       "right": null,
       "top": null,
       "visibility": null,
       "width": null
      }
     },
     "e2eab0b10d424506b8f2fb40d6fd1bbb": {
      "model_module": "@jupyter-widgets/controls",
      "model_module_version": "2.0.0",
      "model_name": "HTMLStyleModel",
      "state": {
       "_model_module": "@jupyter-widgets/controls",
       "_model_module_version": "2.0.0",
       "_model_name": "HTMLStyleModel",
       "_view_count": null,
       "_view_module": "@jupyter-widgets/base",
       "_view_module_version": "2.0.0",
       "_view_name": "StyleView",
       "background": null,
       "description_width": "",
       "font_size": null,
       "text_color": null
      }
     }
    },
    "version_major": 2,
    "version_minor": 0
   }
  }
 },
 "nbformat": 4,
 "nbformat_minor": 5
}