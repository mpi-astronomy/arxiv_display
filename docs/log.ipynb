{
 "cells": [
  {
   "cell_type": "markdown",
   "id": "92bcb855",
   "metadata": {
    "papermill": {
     "duration": 0.005963,
     "end_time": "2023-03-21T04:06:50.277653",
     "exception": false,
     "start_time": "2023-03-21T04:06:50.271690",
     "status": "completed"
    },
    "tags": []
   },
   "source": [
    "# MPIA Arxiv on Deck 2\n",
    "\n",
    "Contains the steps to produce the paper extractions."
   ]
  },
  {
   "cell_type": "code",
   "execution_count": 1,
   "id": "3a0d6e11",
   "metadata": {
    "execution": {
     "iopub.execute_input": "2023-03-21T04:06:50.288372Z",
     "iopub.status.busy": "2023-03-21T04:06:50.287627Z",
     "iopub.status.idle": "2023-03-21T04:06:50.555218Z",
     "shell.execute_reply": "2023-03-21T04:06:50.554358Z"
    },
    "papermill": {
     "duration": 0.275364,
     "end_time": "2023-03-21T04:06:50.557399",
     "exception": false,
     "start_time": "2023-03-21T04:06:50.282035",
     "status": "completed"
    },
    "tags": []
   },
   "outputs": [],
   "source": [
    "# Imports\n",
    "import os\n",
    "from IPython.display import Markdown, display\n",
    "from tqdm.notebook import tqdm\n",
    "import warnings\n",
    "from PIL import Image \n",
    "\n",
    "# requires arxiv_on_deck_2\n",
    "\n",
    "from arxiv_on_deck_2.arxiv2 import (get_new_papers, \n",
    "                                    get_paper_from_identifier,\n",
    "                                    retrieve_document_source, \n",
    "                                    get_markdown_badge)\n",
    "from arxiv_on_deck_2 import (latex,\n",
    "                             latex_bib,\n",
    "                             mpia,\n",
    "                             highlight_authors_in_list)\n",
    "\n",
    "# Sometimes images are really big\n",
    "Image.MAX_IMAGE_PIXELS = 1000000000 "
   ]
  },
  {
   "cell_type": "code",
   "execution_count": 2,
   "id": "22aa9d44",
   "metadata": {
    "execution": {
     "iopub.execute_input": "2023-03-21T04:06:50.567939Z",
     "iopub.status.busy": "2023-03-21T04:06:50.567384Z",
     "iopub.status.idle": "2023-03-21T04:06:50.573714Z",
     "shell.execute_reply": "2023-03-21T04:06:50.572778Z"
    },
    "papermill": {
     "duration": 0.014432,
     "end_time": "2023-03-21T04:06:50.576079",
     "exception": false,
     "start_time": "2023-03-21T04:06:50.561647",
     "status": "completed"
    },
    "tags": []
   },
   "outputs": [],
   "source": [
    "# Some useful definitions.\n",
    "\n",
    "class AffiliationWarning(UserWarning):\n",
    "    pass\n",
    "\n",
    "class AffiliationError(RuntimeError):\n",
    "    pass\n",
    "\n",
    "def validation(source: str):\n",
    "    \"\"\"Raises error paper during parsing of source file\n",
    "    \n",
    "    Allows checks before parsing TeX code.\n",
    "    \n",
    "    Raises AffiliationWarning\n",
    "    \"\"\"\n",
    "    check = mpia.affiliation_verifications(source, verbose=True)\n",
    "    if check is not True:\n",
    "        raise AffiliationError(\"mpia.affiliation_verifications: \" + check)\n",
    "\n",
    "        \n",
    "warnings.simplefilter('always', AffiliationWarning)"
   ]
  },
  {
   "cell_type": "code",
   "execution_count": 3,
   "id": "14622700",
   "metadata": {
    "execution": {
     "iopub.execute_input": "2023-03-21T04:06:50.586611Z",
     "iopub.status.busy": "2023-03-21T04:06:50.585883Z",
     "iopub.status.idle": "2023-03-21T04:06:50.590519Z",
     "shell.execute_reply": "2023-03-21T04:06:50.589767Z"
    },
    "papermill": {
     "duration": 0.012446,
     "end_time": "2023-03-21T04:06:50.592657",
     "exception": false,
     "start_time": "2023-03-21T04:06:50.580211",
     "status": "completed"
    },
    "tags": []
   },
   "outputs": [],
   "source": [
    "# additional CSS to consider. \n",
    "# TODO: Current into each exported file. \n",
    "#       This should be set once into the webpages directly.\n",
    "#       With only the class/id definitions in the .md files.\n",
    "\n",
    "debug_html = \"\"\"\n",
    "<style>\n",
    "#wrap{ overflow:auto; }\n",
    "#fig1{ background:yellow; width:100%; float:left; padding:5px;  }\n",
    "#fig2{ background:red; width:50%; float:left; clear:left; padding:5px;  }\n",
    "#fig3{ background:green; width:50%; float:left; padding:5px;   }\n",
    ".macros{ background:yellow; visibility:visible;}\n",
    "h1 {margin: 0 0 0 0;}\n",
    "mark {background-color:#fff3b6;}\n",
    "img {object-fit:contain; max-height:250px; display:inline-block; text-align: center;}\n",
    "</style>\n",
    "\"\"\" \n",
    "html = \"\"\"\n",
    "<style>\n",
    "#wrap{ overflow:auto; }\n",
    "#fig1{ width:100%; float:left; padding: 5px;  }\n",
    "#fig2{ width:50%; float:left; clear:left; padding: 5px;  }\n",
    "#fig3{ width:50%; float:left; padding: 5px;  }\n",
    ".macros{ visibility:hidden; height:0px; }\n",
    "h1 {margin: 0em 0 0 0;}\n",
    "mark {background-color:#fff3b6;}\n",
    "img {object-fit:contain; max-height:250px; display:inline-block; text-align: center;}\n",
    "</style>\n",
    "\"\"\""
   ]
  },
  {
   "cell_type": "markdown",
   "id": "14bd6310",
   "metadata": {
    "papermill": {
     "duration": 0.004023,
     "end_time": "2023-03-21T04:06:50.600771",
     "exception": false,
     "start_time": "2023-03-21T04:06:50.596748",
     "status": "completed"
    },
    "tags": []
   },
   "source": [
    "## get list of arxiv paper candidates\n",
    "\n",
    "We use the MPIA mitarbeiter list webpage from mpia.de to get author names\n",
    "We then get all new papers from Arxiv and match authors"
   ]
  },
  {
   "cell_type": "code",
   "execution_count": 4,
   "id": "2645e73a",
   "metadata": {
    "execution": {
     "iopub.execute_input": "2023-03-21T04:06:50.611228Z",
     "iopub.status.busy": "2023-03-21T04:06:50.610660Z",
     "iopub.status.idle": "2023-03-21T04:07:20.873642Z",
     "shell.execute_reply": "2023-03-21T04:07:20.872844Z"
    },
    "papermill": {
     "duration": 30.270663,
     "end_time": "2023-03-21T04:07:20.875608",
     "exception": false,
     "start_time": "2023-03-21T04:06:50.604945",
     "status": "completed"
    },
    "tags": []
   },
   "outputs": [
    {
     "name": "stdout",
     "output_type": "stream",
     "text": [
      "Arxiv has 58 new papers today\n",
      "          16 with possible author matches\n"
     ]
    }
   ],
   "source": [
    "# get list from MPIA website\n",
    "# it automatically filters identified non-scientists :func:`mpia.filter_non_scientists`\n",
    "mpia_authors = mpia.get_mpia_mitarbeiter_list()\n",
    "new_papers = get_new_papers()\n",
    "# add manual references\n",
    "add_paper_refs = []\n",
    "new_papers.extend([get_paper_from_identifier(k) for k in add_paper_refs])\n",
    "\n",
    "# select only papers with matching author names and highlight authors\n",
    "hl_list = [k[0] for k in mpia_authors]\n",
    "\n",
    "candidates = []\n",
    "for paperk in new_papers:\n",
    "    hl_authors = highlight_authors_in_list(paperk['authors'], hl_list)\n",
    "    matches = [(hl, orig) for hl, orig in zip(hl_authors, paperk['authors']) if 'mark' in hl]\n",
    "    paperk['authors'] = hl_authors\n",
    "    if matches:\n",
    "        candidates.append(paperk)\n",
    "print(\"\"\"Arxiv has {0:,d} new papers today\"\"\".format(len(new_papers)))        \n",
    "print(\"\"\"          {0:,d} with possible author matches\"\"\".format(len(candidates)))"
   ]
  },
  {
   "cell_type": "markdown",
   "id": "3543b34a",
   "metadata": {
    "papermill": {
     "duration": 0.004107,
     "end_time": "2023-03-21T04:07:20.883722",
     "exception": false,
     "start_time": "2023-03-21T04:07:20.879615",
     "status": "completed"
    },
    "tags": []
   },
   "source": [
    "# Parse sources and generate relevant outputs\n",
    "\n",
    "From the candidates, we do the following steps:\n",
    "* get their tarball from ArXiv (and extract data)\n",
    "* find the main .tex file: find one with \\documentclass{...} (sometimes it's non trivial)\n",
    "* Check affiliations with :func:`validation`, which uses :func:`mpia.affiliation_verifications`\n",
    "* If passing the affiliations: we parse the .tex source\n",
    "   * inject sub-documents into the main (flatten the main document)\n",
    "   * parse structure, extract information (title, abstract, authors, figures...)\n",
    "   * handles `\\graphicspath` if provided\n",
    "* Generate the .md document."
   ]
  },
  {
   "cell_type": "code",
   "execution_count": 5,
   "id": "9576b79e",
   "metadata": {
    "execution": {
     "iopub.execute_input": "2023-03-21T04:07:20.893020Z",
     "iopub.status.busy": "2023-03-21T04:07:20.892402Z",
     "iopub.status.idle": "2023-03-21T04:07:50.901687Z",
     "shell.execute_reply": "2023-03-21T04:07:50.901110Z"
    },
    "papermill": {
     "duration": 30.023286,
     "end_time": "2023-03-21T04:07:50.910750",
     "exception": false,
     "start_time": "2023-03-21T04:07:20.887464",
     "status": "completed"
    },
    "scrolled": false,
    "tags": []
   },
   "outputs": [
    {
     "data": {
      "application/vnd.jupyter.widget-view+json": {
       "model_id": "2955a5fa0eeb430494753e2fba225daa",
       "version_major": 2,
       "version_minor": 0
      },
      "text/plain": [
       "  0%|          | 0/15 [00:00<?, ?it/s]"
      ]
     },
     "metadata": {},
     "output_type": "display_data"
    },
    {
     "name": "stdout",
     "output_type": "stream",
     "text": [
      "Retrieving document from  https://arxiv.org/e-print/2303.10175\n"
     ]
    },
    {
     "name": "stdout",
     "output_type": "stream",
     "text": [
      "extracting tarball to tmp_2303.10175... done.\n",
      "Retrieving document from  https://arxiv.org/e-print/2303.10200\n"
     ]
    },
    {
     "name": "stdout",
     "output_type": "stream",
     "text": [
      "extracting tarball to tmp_2303.10200..."
     ]
    },
    {
     "name": "stdout",
     "output_type": "stream",
     "text": [
      " done.\n",
      "Retrieving document from  https://arxiv.org/e-print/2303.10273\n"
     ]
    },
    {
     "name": "stdout",
     "output_type": "stream",
     "text": [
      "extracting tarball to tmp_2303.10273..."
     ]
    },
    {
     "name": "stdout",
     "output_type": "stream",
     "text": [
      " done.\n",
      "Retrieving document from  https://arxiv.org/e-print/2303.10380\n"
     ]
    },
    {
     "name": "stdout",
     "output_type": "stream",
     "text": [
      "extracting tarball to tmp_2303.10380..."
     ]
    },
    {
     "name": "stdout",
     "output_type": "stream",
     "text": [
      " done.\n",
      "Retrieving document from  https://arxiv.org/e-print/2303.10410\n"
     ]
    },
    {
     "name": "stderr",
     "output_type": "stream",
     "text": [
      "/tmp/ipykernel_1993/4289671964.py:41: LatexWarning: 2303.10410 did not run properly\n",
      "not a gzip file\n",
      "  warnings.warn(latex.LatexWarning(f\"{paper_id:s} did not run properly\\n\" +\n"
     ]
    },
    {
     "name": "stdout",
     "output_type": "stream",
     "text": [
      "Retrieving document from  https://arxiv.org/e-print/2303.10593\n"
     ]
    },
    {
     "name": "stdout",
     "output_type": "stream",
     "text": [
      "extracting tarball to tmp_2303.10593..."
     ]
    },
    {
     "name": "stdout",
     "output_type": "stream",
     "text": [
      " done.\n",
      "Retrieving document from  https://arxiv.org/e-print/2303.10604\n"
     ]
    },
    {
     "name": "stdout",
     "output_type": "stream",
     "text": [
      "extracting tarball to tmp_2303.10604..."
     ]
    },
    {
     "name": "stdout",
     "output_type": "stream",
     "text": [
      " done.\n",
      "Retrieving document from  https://arxiv.org/e-print/2303.10661\n"
     ]
    },
    {
     "name": "stdout",
     "output_type": "stream",
     "text": [
      "extracting tarball to tmp_2303.10661..."
     ]
    },
    {
     "name": "stdout",
     "output_type": "stream",
     "text": [
      " done.\n",
      "Retrieving document from  https://arxiv.org/e-print/2303.10804\n"
     ]
    },
    {
     "name": "stdout",
     "output_type": "stream",
     "text": [
      "extracting tarball to tmp_2303.10804..."
     ]
    },
    {
     "name": "stdout",
     "output_type": "stream",
     "text": [
      " done.\n",
      "Retrieving document from  https://arxiv.org/e-print/2303.10887\n"
     ]
    },
    {
     "name": "stdout",
     "output_type": "stream",
     "text": [
      "extracting tarball to tmp_2303.10887... done.\n",
      "Retrieving document from  https://arxiv.org/e-print/2303.10969\n"
     ]
    },
    {
     "name": "stdout",
     "output_type": "stream",
     "text": [
      "extracting tarball to tmp_2303.10969..."
     ]
    },
    {
     "name": "stdout",
     "output_type": "stream",
     "text": [
      " done.\n",
      "Retrieving document from  https://arxiv.org/e-print/2303.10982\n"
     ]
    },
    {
     "name": "stdout",
     "output_type": "stream",
     "text": [
      "extracting tarball to tmp_2303.10982..."
     ]
    },
    {
     "name": "stdout",
     "output_type": "stream",
     "text": [
      " done.\n",
      "Retrieving document from  https://arxiv.org/e-print/2303.11001\n"
     ]
    },
    {
     "name": "stderr",
     "output_type": "stream",
     "text": [
      "/opt/hostedtoolcache/Python/3.9.16/x64/lib/python3.9/site-packages/IPython/core/interactiveshell.py:3460: LatexWarning: Multiple tex files.\n",
      "\n",
      "  exec(code_obj, self.user_global_ns, self.user_ns)\n",
      "/opt/hostedtoolcache/Python/3.9.16/x64/lib/python3.9/site-packages/IPython/core/interactiveshell.py:3460: LatexWarning: Found documentclass in tmp_2303.10982/ms_2022-0304.tex\n",
      "\n",
      "  exec(code_obj, self.user_global_ns, self.user_ns)\n",
      "/opt/hostedtoolcache/Python/3.9.16/x64/lib/python3.9/site-packages/arxiv_on_deck_2/latex.py:361: LatexWarning: Latex injecting: 'ms_2022-0304_figs_appendix.tex' from 'tmp_2303.10982/ms_2022-0304_figs_appendix.tex'\n",
      "  warnings.warn(LatexWarning(f\"Latex injecting: '{ext}' from '{subsource}'\"))\n",
      "/opt/hostedtoolcache/Python/3.9.16/x64/lib/python3.9/site-packages/arxiv_on_deck_2/latex.py:361: LatexWarning: Latex injecting: 'ms_2022-0304_table_appendix.tex' from 'tmp_2303.10982/ms_2022-0304_table_appendix.tex'\n",
      "  warnings.warn(LatexWarning(f\"Latex injecting: '{ext}' from '{subsource}'\"))\n",
      "/opt/hostedtoolcache/Python/3.9.16/x64/lib/python3.9/site-packages/arxiv_on_deck_2/latex.py:361: LatexWarning: Latex injecting: 'ms_2022-0304_table_sample.tex' from 'tmp_2303.10982/ms_2022-0304_table_sample.tex'\n",
      "  warnings.warn(LatexWarning(f\"Latex injecting: '{ext}' from '{subsource}'\"))\n"
     ]
    },
    {
     "name": "stdout",
     "output_type": "stream",
     "text": [
      "extracting tarball to tmp_2303.11001..."
     ]
    },
    {
     "name": "stdout",
     "output_type": "stream",
     "text": [
      " done.\n",
      "Retrieving document from  https://arxiv.org/e-print/2303.11031\n"
     ]
    },
    {
     "name": "stdout",
     "output_type": "stream",
     "text": [
      "extracting tarball to tmp_2303.11031..."
     ]
    },
    {
     "name": "stdout",
     "output_type": "stream",
     "text": [
      " done.\n",
      "Retrieving document from  https://arxiv.org/e-print/2303.11035\n"
     ]
    },
    {
     "name": "stdout",
     "output_type": "stream",
     "text": [
      "extracting tarball to tmp_2303.11035..."
     ]
    },
    {
     "name": "stdout",
     "output_type": "stream",
     "text": [
      " done.\n"
     ]
    }
   ],
   "source": [
    "documents = []\n",
    "failed = []\n",
    "for paper in tqdm(candidates[:-1]):\n",
    "    paper_id = paper['identifier'].lower().replace('arxiv:', '')\n",
    "    \n",
    "    folder = f'tmp_{paper_id}'\n",
    "\n",
    "    try:\n",
    "        if not os.path.isdir(folder):\n",
    "            folder = retrieve_document_source(f\"{paper_id}\", f'tmp_{paper_id}')\n",
    "        \n",
    "        try:\n",
    "            doc = latex.LatexDocument(folder, validation=validation)    \n",
    "        except AffiliationError as affilerror:\n",
    "            msg = f\"ArXiv:{paper_id:s} is not an MPIA paper... \" + str(affilerror)\n",
    "            failed.append((paper, \"affiliation error: \" + str(affilerror) ))\n",
    "            continue\n",
    "        \n",
    "        # Hack because sometimes author parsing does not work well\n",
    "        if (len(doc.authors) != len(paper['authors'])):\n",
    "            doc._authors = paper['authors']\n",
    "        if (doc.abstract) in (None, ''):\n",
    "            doc._abstract = paper['abstract']\n",
    "            \n",
    "        doc.comment = (get_markdown_badge(paper_id) + \n",
    "                       \"<mark>Appeared on: \" + paper['date'] + \"</mark> - \" +\n",
    "                       \"_\" + paper['comments'] + \"_\")\n",
    "        doc.highlight_authors_in_list(hl_list)\n",
    "\n",
    "        full_md = doc.generate_markdown_text()\n",
    "        \n",
    "        # replace citations\n",
    "        try:\n",
    "            bibdata = latex_bib.LatexBib.from_doc(doc)\n",
    "            full_md = latex_bib.replace_citations(full_md, bibdata)\n",
    "        except Exception as e:\n",
    "            print(e)\n",
    "        \n",
    "        documents.append((paper_id, full_md))\n",
    "    except Exception as e:\n",
    "        warnings.warn(latex.LatexWarning(f\"{paper_id:s} did not run properly\\n\" +\n",
    "                                         str(e)\n",
    "                                        ))\n",
    "        failed.append((paper, \"latex error \" + str(e)))"
   ]
  },
  {
   "cell_type": "markdown",
   "id": "2505a25c",
   "metadata": {
    "papermill": {
     "duration": 0.005271,
     "end_time": "2023-03-21T04:07:50.921515",
     "exception": false,
     "start_time": "2023-03-21T04:07:50.916244",
     "status": "completed"
    },
    "tags": []
   },
   "source": [
    "### Export the logs\n",
    "\n",
    "Throughout, we also keep track of the logs per paper. see `logs-{today date}.md` "
   ]
  },
  {
   "cell_type": "code",
   "execution_count": 6,
   "id": "d733828a",
   "metadata": {
    "execution": {
     "iopub.execute_input": "2023-03-21T04:07:50.933721Z",
     "iopub.status.busy": "2023-03-21T04:07:50.933218Z",
     "iopub.status.idle": "2023-03-21T04:07:50.959954Z",
     "shell.execute_reply": "2023-03-21T04:07:50.959319Z"
    },
    "papermill": {
     "duration": 0.034604,
     "end_time": "2023-03-21T04:07:50.961462",
     "exception": false,
     "start_time": "2023-03-21T04:07:50.926858",
     "status": "completed"
    },
    "scrolled": false,
    "tags": []
   },
   "outputs": [
    {
     "data": {
      "text/markdown": [
       "## Successful papers"
      ],
      "text/plain": [
       "<IPython.core.display.Markdown object>"
      ]
     },
     "metadata": {},
     "output_type": "display_data"
    },
    {
     "data": {
      "text/markdown": [
       "## Failed papers"
      ],
      "text/plain": [
       "<IPython.core.display.Markdown object>"
      ]
     },
     "metadata": {},
     "output_type": "display_data"
    },
    {
     "data": {
      "text/markdown": [
       "\n",
       "|||\n",
       "|---:|:---|\n",
       "| [![arXiv](https://img.shields.io/badge/arXiv-arXiv:2303.10175-b31b1b.svg)](https://arxiv.org/abs/arXiv:2303.10175) | **Measuring galaxy cluster mass profiles into low acceleration regions  with galaxy kinematics**  |\n",
       "|| <mark>Pengfei Li</mark>, et al. |\n",
       "|*Appeared on*| *2023-03-21*|\n",
       "|*Comments*| *13 pages, 8 figures, 1 table. Submitted to A&A*|\n",
       "|**Abstract**| We probe the outer dynamical mass profile of 16 galaxy clusters from the HIghest X-ray FLUx Galaxy Cluster Sample (HIFLUGCS) using galaxy kinematics. Numerically solving the spherical Jeans equation, we parameterize the dynamical mass profile and the galaxy velocity anisotropy profile using two general functions to ensure that our results are not biased towards any specific model. The mass-velocity anisotropy degeneracy is broken by using two \"virial shape parameters\" that depend on the fourth moment of velocity distribution. The resulting velocity anisotropy estimates consistently show a nearly isotropic distribution in the inner regions, with an increasing radial anisotropy towards large radii. We compare our derived dynamical masses with those calculated from X-ray gas data assuming hydrostatic equilibrium, finding that massive and rich relaxed clusters generally present consistent mass measurements, while unrelaxed or low-richness clusters have systematically larger total mass than hydrostatic mass by an average of 50\\%. This might help alleviate current tensions in the measurement of $\\sigma_8$, but it also leads to cluster baryon fractions below the cosmic value. Finally, our approach probes accelerations as low as $10^{-11}$ m s$^{-2}$, comparable to the outskirts of individual late-type galaxies. We confirm that galaxy clusters deviate from the radial acceleration relation defined by galaxies. |\n",
       "|<p style=\"color:green\"> **ERROR** </p>| <p style=\"color:green\">affiliation error: mpia.affiliation_verifications: 'Heidelberg' keyword not found.</p> |"
      ],
      "text/plain": [
       "<IPython.core.display.Markdown object>"
      ]
     },
     "metadata": {},
     "output_type": "display_data"
    },
    {
     "data": {
      "text/markdown": [
       "\n",
       "|||\n",
       "|---:|:---|\n",
       "| [![arXiv](https://img.shields.io/badge/arXiv-arXiv:2303.10200-b31b1b.svg)](https://arxiv.org/abs/arXiv:2303.10200) | **HIP 67506 C: MagAO-X Confirmation of a New Low-Mass Stellar Companion to  HIP 67506 A**  |\n",
       "|| Logan A. Pearce, et al. -- incl., <mark>Joseph D. Long</mark> |\n",
       "|*Appeared on*| *2023-03-21*|\n",
       "|*Comments*| *10 pages, 9 figures, 4 tables, accepted to MNRAS*|\n",
       "|**Abstract**| We report the confirmation of HIP 67506 C, a new stellar companion to HIP 67506 A. We previously reported a candidate signal at 2$\\lambda$/D (240~mas) in L$^{\\prime}$ in MagAO/Clio imaging using the binary differential imaging technique. Several additional indirect signals showed that the candidate signal merited follow-up: significant astrometric acceleration in Gaia DR3, Hipparcos-Gaia proper motion anomaly, and overluminosity compared to single main sequence stars. We confirmed the companion, HIP 67506 C, at 0.1\" with MagAO-X in April, 2022. We characterized HIP 67506 C MagAO-X photometry and astrometry, and estimated spectral type K7-M2; we also re-evaluated HIP 67506 A in light of the close companion. Additionally we show that a previously identified 9\" companion, HIP 67506 B, is a much further distant unassociated background star. We also discuss the utility of indirect signposts in identifying small inner working angle candidate companions. |\n",
       "|<p style=\"color:green\"> **ERROR** </p>| <p style=\"color:green\">affiliation error: mpia.affiliation_verifications: 'Heidelberg' keyword not found.</p> |"
      ],
      "text/plain": [
       "<IPython.core.display.Markdown object>"
      ]
     },
     "metadata": {},
     "output_type": "display_data"
    },
    {
     "data": {
      "text/markdown": [
       "\n",
       "|||\n",
       "|---:|:---|\n",
       "| [![arXiv](https://img.shields.io/badge/arXiv-arXiv:2303.10273-b31b1b.svg)](https://arxiv.org/abs/arXiv:2303.10273) | **Broadband plasma spray anti-reflection coating technology for  millimeter-wave astrophysics**  |\n",
       "|| Oliver Jeong, et al. -- incl., <mark>Adrian T. Lee</mark> |\n",
       "|*Appeared on*| *2023-03-21*|\n",
       "|*Comments*| **|\n",
       "|**Abstract**| We present a broadband plasma spray anti-reflection (AR) coating technology for millimeter-wave astrophysics experiments with large-format, cryogenic optics. By plasma spraying alumina- and silica-based powders, we have produced coatings of tunable index of refraction and thickness, low loss, and coefficient of thermal expansion matched to alumina substrates. We demonstrate two-layer AR coatings on alumina with reflection below 5% over 82% and 69% fractional bandwidths for 90/150 and 220/280 GHz passband designs, respectively, and band-averaged absorption loss reduced to $\\sim$1\\% at 100 K for both AR coatings. We describe the design, tolerance, fabrication process, and optical measurements of these AR coatings. |\n",
       "|<p style=\"color:green\"> **ERROR** </p>| <p style=\"color:green\">affiliation error: mpia.affiliation_verifications: 'Heidelberg' keyword not found.</p> |"
      ],
      "text/plain": [
       "<IPython.core.display.Markdown object>"
      ]
     },
     "metadata": {},
     "output_type": "display_data"
    },
    {
     "data": {
      "text/markdown": [
       "\n",
       "|||\n",
       "|---:|:---|\n",
       "| [![arXiv](https://img.shields.io/badge/arXiv-arXiv:2303.10380-b31b1b.svg)](https://arxiv.org/abs/arXiv:2303.10380) | **Blind Search of The Solar Neighborhood Galactic Disk within 5kpc: 1,179  new Star clusters found in Gaia DR3**  |\n",
       "|| Huanbin Chi, et al. -- incl., <mark>Zhongmu Li</mark> |\n",
       "|*Appeared on*| *2023-03-21*|\n",
       "|*Comments*| *18 pages, 9 figures, 5 tables, accepted by ApJS*|\n",
       "|**Abstract**| Studying open clusters (OCs) is essential for a comprehensive understanding of the structure and evolution of the Milky Way. Many previous studies have systematically searched for OCs near the solar system within 1.2 kpc or 20 degrees of galactic latitude. However, few studies searched for OCs at higher galactic latitudes and deeper distances. In this study, based on a hybrid unsupervised clustering algorithm (Friends-of-Friends and pyUPMASK) and a binary classification algorithm (Random Forest), we extended the search region (i.e., galactic latitude |b|>=20 degrees) and performed a fine-grained blind search of Galactic clusters in Gaia DR3. After cross-matching, the newly discovered cluster candidates are fitted using isochrone fitting to estimate the main physical parameters (age and metallicity) of these clusters. These cluster candidates were then checked using manual visual inspection. Their statistical properties were compared with previously exposed cluster catalogs as well. In the end, we found 1,179 new clusters with considerable confidence within 5kpc. |\n",
       "|<p style=\"color:green\"> **ERROR** </p>| <p style=\"color:green\">affiliation error: mpia.affiliation_verifications: 'Heidelberg' keyword not found.</p> |"
      ],
      "text/plain": [
       "<IPython.core.display.Markdown object>"
      ]
     },
     "metadata": {},
     "output_type": "display_data"
    },
    {
     "data": {
      "text/markdown": [
       "\n",
       "|||\n",
       "|---:|:---|\n",
       "| [![arXiv](https://img.shields.io/badge/arXiv-arXiv:2303.10593-b31b1b.svg)](https://arxiv.org/abs/arXiv:2303.10593) | **High-density reflection spectroscopy of black hole X-ray binaries in the  hard state**  |\n",
       "|| Honghui Liu, et al. -- incl., <mark>Zuobin Zhang</mark> |\n",
       "|*Appeared on*| *2023-03-21*|\n",
       "|*Comments*| *17 pages, 9 figures, submitted to ApJ, comments welcome*|\n",
       "|**Abstract**| We present a high-density relativistic reflection analysis of 21 spectra of six black hole X-ray binaries in the hard state with data from \\textit{NuSTAR} and \\textit{Swift}. We find that 76\\% of the observations in our sample require a disk density higher than the 10$^{15}$~cm$^{-3}$ assumed in the previous reflection analysis. Compared with the measurements from active galactic nuclei, stellar mass black holes have higher disk densities. Our fits indicate that the inner disk radius is close to the innermost stable circular orbit in the hard state. The coronal temperatures are significantly lower than the prediction of a purely thermal plasma, which can be explained with a hybrid plasma model. If the disk density is fixed at 10$^{15}$~cm$^{-3}$, the disk ionization parameter would be overestimated while the inner disk radius is unaffected. |\n",
       "|<p style=\"color:green\"> **ERROR** </p>| <p style=\"color:green\">affiliation error: mpia.affiliation_verifications: 'Heidelberg' keyword not found.</p> |"
      ],
      "text/plain": [
       "<IPython.core.display.Markdown object>"
      ]
     },
     "metadata": {},
     "output_type": "display_data"
    },
    {
     "data": {
      "text/markdown": [
       "\n",
       "|||\n",
       "|---:|:---|\n",
       "| [![arXiv](https://img.shields.io/badge/arXiv-arXiv:2303.10604-b31b1b.svg)](https://arxiv.org/abs/arXiv:2303.10604) | **Rainy downdrafts in abyssal atmospheres**  |\n",
       "|| S. Markham, T. Guillot, <mark>C. Li</mark> |\n",
       "|*Appeared on*| *2023-03-21*|\n",
       "|*Comments*| *20 pages, 16 figures. Accepted by A&A*|\n",
       "|**Abstract**| Results from Juno's microwave radiometer indicate non-uniform mixing of ammonia vapor in Jupiter's atmosphere down to tens of bars, far beneath the cloud level. Helioseismic observations suggest solar convection may require narrow, concentrated downdrafts called entropy rain to accommodate the Sun's luminosity. Both observations suggest some mechanism of non-local convective transport. We seek to predict the depth that a concentrated density anomaly can reach before efficiently mixing with its environment in bottomless atmospheres. We modify classic self-similar analytical models of entraining thermals to account for the compressibility of an abyssal atmosphere. We compare these models to the output of high resolution three dimensional fluid dynamical simulations to more accurately model the chaotic influence of turbulence. We find that localized density anomalies propagate down to ~3-8 times their initial size without substantially mixing with their environment. Our analytic model accurately predicts the initial flow, but the self-similarity assumption breaks down after the flow becomes unstable at a characteristic penetration depth. In the context of Jupiter, our findings suggest that precipitation concentrated into localized downdrafts of size ~20km can coherently penetrate to on the order of a hundred kilometers (tens of bars) beneath its initial vaporization level without mixing with its environment. This finding is consistent with expected convective storm length-scales, and Juno MWR measurements of ammonia depletion. Compositional gradients of volatiles beneath their cloud levels may be common on stormy giant planets. In the context of the Sun, we find that turbulent downdrafts in abyssal atmospheres cannot maintain their coherence through the Sun's convective layer, a potential challenge for the entropy rain hypothesis. |\n",
       "|<p style=\"color:green\"> **ERROR** </p>| <p style=\"color:green\">affiliation error: mpia.affiliation_verifications: 'Heidelberg' keyword not found.</p> |"
      ],
      "text/plain": [
       "<IPython.core.display.Markdown object>"
      ]
     },
     "metadata": {},
     "output_type": "display_data"
    },
    {
     "data": {
      "text/markdown": [
       "\n",
       "|||\n",
       "|---:|:---|\n",
       "| [![arXiv](https://img.shields.io/badge/arXiv-arXiv:2303.10661-b31b1b.svg)](https://arxiv.org/abs/arXiv:2303.10661) | **Cosmological constraints with the linear point from the BOSS survey**  |\n",
       "|| <mark>Mengfan He</mark>, <mark>Cheng Zhao</mark>, Huanyuan Shan |\n",
       "|*Appeared on*| *2023-03-21*|\n",
       "|*Comments*| *13 pages, 12 figures, submitted to MNRAS*|\n",
       "|**Abstract**| The {\\it Linear Point} (LP), defined as the midpoint between the BAO peak and the associated left dip of the two-point correlation function (2PCF), $\\xi(s)$, is proposed as a new standard ruler which is insensitive to nonlinear effects. In this paper, we use a Bayesian sampler to measure the LP and estimate the corresponding statistical uncertainty, and then perform cosmological parameter constraints with LP measurements. Using the Patchy mock catalogues, we find that the measured LPs are consistent with theoretical predictions at 0.6 per cent level. We find constraints with midpoints identified from the rescaled 2PCF ($s^2 \\xi$) more robust than those from the traditional LP based on $\\xi$, as the BAO peak is not always prominent when scanning the cosmological parameter space, with the cost of 2--4 per cent increase of statistical uncertainty. This problem can also be solved by an additional dataset that provides strong parameter constraints. Measuring LP from the reconstructed data slightly increases the systematic error but significantly reduces the statistical error, resulting in more accurate measurements. The 1$\\,\\sigma$ confidence interval of distance scale constraints from LP measurements are 20--30 per cent larger than those of the corresponding BAO measurements. For the reconstructed SDSS DR12 data, the constraints on $H_0$ and $\\Omega_{\\rm m}$ in a flat-$\\Lambda$CDM framework with the LP are generally consistent with those from BAO. When combined with Planck cosmic microwave background data, we obtain $H_0=68.02_{-0.37}^{+0.36}$ ${\\rm km}\\,{\\rm s}^{-1}\\,{\\rm Mpc}^{-1}$ and $\\Omega_{\\rm m}=0.3055_{-0.0048}^{+0.0049}$ with the LP. |\n",
       "|<p style=\"color:green\"> **ERROR** </p>| <p style=\"color:green\">affiliation error: mpia.affiliation_verifications: 'Heidelberg' keyword not found.</p> |"
      ],
      "text/plain": [
       "<IPython.core.display.Markdown object>"
      ]
     },
     "metadata": {},
     "output_type": "display_data"
    },
    {
     "data": {
      "text/markdown": [
       "\n",
       "|||\n",
       "|---:|:---|\n",
       "| [![arXiv](https://img.shields.io/badge/arXiv-arXiv:2303.10804-b31b1b.svg)](https://arxiv.org/abs/arXiv:2303.10804) | **GRB 221009A: An ordinary nearby GRB with extraordinary observational  properties**  |\n",
       "|| Lin Lan, et al. -- incl., <mark>He Gao</mark>, <mark>An Li</mark>, <mark>Long Li</mark>, <mark>Bing Zhang</mark>, <mark>Yan-Qiu Zhang</mark> |\n",
       "|*Appeared on*| *2023-03-21*|\n",
       "|*Comments*| *Submitted to AAS journal*|\n",
       "|**Abstract**| The gamma-ray burst GRB 221009A, known as the ``brightest-of-all-time\" (BOAT), is the closest energetic burst detected so far, with an energy of $E_{\\gamma,\\rm iso} \\sim 10^{55}$ ergs. This study aims to assess its compatibility with known GRB energy and luminosity distributions. Our analysis indicates that the energy/luminosity function of GRBs is consistent across various redshift intervals, and that the inclusion of GRB 221009A does not significantly impact the function at low redshifts. Additionally, our evaluation of the best-fitting result of the entire GRB sample suggests that the expected number of GRBs with energy greater than $10^{55}$ ergs at a low redshift is 0.2, so that the emergence of GRB 221009A is consistent with expected energy/luminosity functions within $\\sim 2\\sigma$ Poisson fluctuation error, still adhering to the principles of small number statistics. Furthermore, we find that GRB 221009A and other energetic bursts, defined as $E_{\\gamma,\\rm iso} \\gtrsim10^{54} {\\rm ergs}$, exhibit no significant differences in terms of distributions of $T_{90}$, minimum timescale, Amati relation, $E_{\\rm \\gamma,iso}$-$E_{\\rm X,iso}$ relation, $L_{\\gamma,\\rm iso}-\\Gamma_0$ relation, $E_{\\gamma,\\rm iso}-\\Gamma_0$ relation, $L_{\\gamma,\\rm iso}-E_{\\rm p,i}-\\Gamma_0$ relation, and host galaxy properties, compared to normal long GRBs. This suggests that energetic GRBs (including GRB 221009A) and other long GRBs likely have similar progenitor systems and undergo similar energy dissipation and radiation processes. The generation of energetic GRBs may be due to more extreme central engine properties or, more likely, a rarer viewing configuration of a quasi-universal structured jet. |\n",
       "|<p style=\"color:green\"> **ERROR** </p>| <p style=\"color:green\">affiliation error: mpia.affiliation_verifications: 'Heidelberg' keyword not found.</p> |"
      ],
      "text/plain": [
       "<IPython.core.display.Markdown object>"
      ]
     },
     "metadata": {},
     "output_type": "display_data"
    },
    {
     "data": {
      "text/markdown": [
       "\n",
       "|||\n",
       "|---:|:---|\n",
       "| [![arXiv](https://img.shields.io/badge/arXiv-arXiv:2303.10887-b31b1b.svg)](https://arxiv.org/abs/arXiv:2303.10887) | **Physical evolution of dark matter halo around the depletion boundary**  |\n",
       "|| Hongyu Gao, et al. -- incl., <mark>Zhaozhou Li</mark> |\n",
       "|*Appeared on*| *2023-03-21*|\n",
       "|*Comments*| *13 pages, 10 figures*|\n",
       "|**Abstract**| We investigate the build-up of the halo profile out to large scale in a cosmological simulation, focusing on the roles played by the recently proposed depletion radii. We explicitly show that halo growth is accompanied by the depletion of the environment, with the inner depletion radius demarcating the two. This evolution process is also observed via the formation of a trough in the bias profile, with the two depletion radii identifying key scales in the evolution. The ratio between the inner depletion radius and the virial radius is approximately a constant factor of 2 across redshifts and halo masses. The ratio between their enclosed densities is also close to a constant of 0.18. These simple scaling relations reflect the largely universal scaled mass profile on these scales, which only evolves weakly with redshift. The overall picture of the boundary evolution can be broadly divided into three stages according to the maturity of the depletion process, with cluster halos lagging behind low mass ones in the evolution. We also show that the traditional slow and fast accretion dichotomy of halo growth can be identified as accelerated and decelerated depletion phases respectively. |\n",
       "|<p style=\"color:green\"> **ERROR** </p>| <p style=\"color:green\">affiliation error: mpia.affiliation_verifications: 'Heidelberg' keyword not found.</p> |"
      ],
      "text/plain": [
       "<IPython.core.display.Markdown object>"
      ]
     },
     "metadata": {},
     "output_type": "display_data"
    },
    {
     "data": {
      "text/markdown": [
       "\n",
       "|||\n",
       "|---:|:---|\n",
       "| [![arXiv](https://img.shields.io/badge/arXiv-arXiv:2303.10969-b31b1b.svg)](https://arxiv.org/abs/arXiv:2303.10969) | **The 17 April 2021 widespread solar energetic particle event**  |\n",
       "|| N. Dresing, et al. -- incl., <mark>C. O. Lee</mark>, <mark>I. Richter</mark> |\n",
       "|*Appeared on*| *2023-03-21*|\n",
       "|*Comments*| **|\n",
       "|**Abstract**| Context. A solar eruption on 17 April 2021 produced a widespread Solar Energetic Particle (SEP) event that was observed by five longitudinally well-separated observers in the inner heliosphere at heliocentric distances of 0.42 to 1 au: BepiColombo, Parker Solar Probe, Solar Orbiter, STEREO A, and near-Earth spacecraft. The event produced relativistic electrons and protons. It was associated with a long-lasting solar hard X-ray flare and a medium fast Coronal Mass Ejection (CME) with a speed of 880 km/s driving a shock, an EUV wave as well as long-lasting radio burst activity showing four distinct type III burst. Methods. A multi-spacecraft analysis of remote-sensing and in-situ observations is applied to attribute the SEP observations at the different locations to the various potential source regions at the Sun. An ENLIL simulation is used to characterize the interplanetary state and its role for the energetic particle transport. The magnetic connection between each spacecraft and the Sun is determined. Based on a reconstruction of the coronal shock front we determine the times when the shock establishes magnetic connections with the different observers. Radio observations are used to characterize the directivity of the four main injection episodes, which are then employed in a 2D SEP transport simulation. Results. Timing analysis of the inferred SEP solar injection suggests different source processes being important for the electron and the proton event. Comparison among the characteristics and timing of the potential particle sources, such as the CME-driven shock or the flare, suggests a stronger shock contribution for the proton event and a more likely flare-related source of the electron event. Conclusions. We find that in this event an important ingredient for the wide SEP spread was the wide longitudinal range of about 110 degrees covered by distinct SEP injections. |\n",
       "|<p style=\"color:green\"> **ERROR** </p>| <p style=\"color:green\">affiliation error: mpia.affiliation_verifications: 'Heidelberg' keyword not found.</p> |"
      ],
      "text/plain": [
       "<IPython.core.display.Markdown object>"
      ]
     },
     "metadata": {},
     "output_type": "display_data"
    },
    {
     "data": {
      "text/markdown": [
       "\n",
       "|||\n",
       "|---:|:---|\n",
       "| [![arXiv](https://img.shields.io/badge/arXiv-arXiv:2303.10982-b31b1b.svg)](https://arxiv.org/abs/arXiv:2303.10982) | **In search for infalling clumps in molecular clouds -- A catalogue of CO  blue-profiles**  |\n",
       "|| Zhibo Jiang, et al. -- incl., <mark>Shaobo Zhang</mark> |\n",
       "|*Appeared on*| *2023-03-21*|\n",
       "|*Comments*| **|\n",
       "|**Abstract**| We have started a systematic survey of molecular clumps with infall motions to study the very early phase of star formation. Our first step is to utilize the data products by MWISP to make an unbiased survey for blue asymmetric line profiles of CO isotopical molecules. Within a total area of $\\sim$ 2400 square degrees nearby the Galactic plane, we have found 3533 candidates showing blue-profiles, in which 3329 are selected from the $^{12}$CO&$^{13}$CO pair and 204 are from the $^{13}$CO&C$^{18}$O pair. Exploration of the parametric spaces suggests our samples are in the cold phase with relatively high column densities ready for star formation. Analysis of the spatial distribution of our samples suggests that they exist virtually in all major components of the Galaxy. The vertical distribution suggest that the sources are located mainly in the thick disk of $\\sim$ 85 parsec, but still a small part are located far beyond Galactic midplane. Our follow-up observation indicates that these candidates are a good sample to start a search for infall motions, and to study the condition of very early phase of star formation. |\n",
       "|<p style=\"color:green\"> **ERROR** </p>| <p style=\"color:green\">affiliation error: mpia.affiliation_verifications: 'Heidelberg' keyword not found.</p> |"
      ],
      "text/plain": [
       "<IPython.core.display.Markdown object>"
      ]
     },
     "metadata": {},
     "output_type": "display_data"
    },
    {
     "data": {
      "text/markdown": [
       "\n",
       "|||\n",
       "|---:|:---|\n",
       "| [![arXiv](https://img.shields.io/badge/arXiv-arXiv:2303.11001-b31b1b.svg)](https://arxiv.org/abs/arXiv:2303.11001) | **Slow solar wind sources. High-resolution observations with a quadrature  view**  |\n",
       "|| Krzysztof Barczynski, et al. -- incl., <mark>Phil Smith</mark> |\n",
       "|*Appeared on*| *2023-03-21*|\n",
       "|*Comments*| *10 pages, 6 figures, accepted for publication in A&A; manuscript is a part of Astronomy & Astrophysics special issue: Solar Orbiter First Results (Nominal Mission Phase)*|\n",
       "|**Abstract**| The origin of the slow solar wind is still an open issue. One possibility that has been suggested is that upflows at the edge of an active region can contribute to the slow solar wind. We aim to explain how the plasma upflows are generated, which mechanisms are responsible for them, and what the upflow region topology looks like. We investigated an upflow region using imaging data with the unprecedented temporal (3s) and spatial (2 pixels = 236km) resolution that were obtained on 30 March 2022 with the 174{\\AA} of the Extreme-Ultraviolet Imager (EUI)/High Resolution Imager (HRI) on board Solar Orbiter. During this time, the EUI and Earth-orbiting satellites (Solar Dynamics Observatory, Hinode, and the Interface Region Imaging Spectrograph, IRIS) were located in quadrature (92 degrees), which provides a stereoscopic view with high resolution. We used the Hinode/EIS (Fe XII) spectroscopic data to find coronal upflow regions in the active region. The IRIS slit-jaw imager provides a high-resolution view of the transition region and chromosphere. For the first time, we have data that provide a quadrature view of a coronal upflow region with high spatial resolution. We found extended loops rooted in a coronal upflow region. Plasma upflows at the footpoints of extended loops determined spectroscopically through the Doppler shift are similar to the apparent upward motions seen through imaging in quadrature. The dynamics of small-scale structures in the upflow region can be used to identify two mechanisms of the plasma upflow: Mechanism I is reconnection of the hot coronal loops with open magnetic field lines in the solar corona, and mechanism II is reconnection of the small chromospheric loops with open magnetic field lines in the chromosphere or transition region. We identified the locations in which mechanisms I and II work. |\n",
       "|<p style=\"color:green\"> **ERROR** </p>| <p style=\"color:green\">affiliation error: mpia.affiliation_verifications: 'Heidelberg' keyword not found.</p> |"
      ],
      "text/plain": [
       "<IPython.core.display.Markdown object>"
      ]
     },
     "metadata": {},
     "output_type": "display_data"
    },
    {
     "data": {
      "text/markdown": [
       "\n",
       "|||\n",
       "|---:|:---|\n",
       "| [![arXiv](https://img.shields.io/badge/arXiv-arXiv:2303.11031-b31b1b.svg)](https://arxiv.org/abs/arXiv:2303.11031) | **Characterizing the ELG luminosity functions in the nearby Universe**  |\n",
       "|| G. Favole, et al. -- incl., <mark>H. Guo</mark> |\n",
       "|*Appeared on*| *2023-03-21*|\n",
       "|*Comments*| **|\n",
       "|**Abstract**| Nebular emission lines are powerful diagnostics for the physical processes at play in galaxy formation and evolution. Moreover, emission-line galaxies (ELGs) are one of the main targets of current and forthcoming spectroscopic cosmological surveys. We investigate the contributions to the line luminosity functions (LFs) of different galaxy populations in the local Universe, providing a benchmark for future surveys of earlier cosmic epochs. The large statistics of the observations from the SDSS DR7 Main galaxy sample and the MPA-JHU spectral catalogue enables us to precisely measure the H$\\alpha$, H$\\beta$, [OII], [OIII], [NII], and [SII] emission-line LFs over ~2.4 Gyrs in the low-z Universe, 0.02<z<0.22. We present a generalised 1/Vmax LF estimator capable of simultaneously correcting for spectroscopic, r-band magnitude, and emission-line incompleteness. We study the contribution to the LF of different types of ELGs classified using two methods: (i) the specific star formation rate (sSFR), and (ii) the line ratios on the Baldwin-Phillips-Terlevich (BPT) and WHAN (i.e. H$\\alpha$ equivalent width versus the [NII]/H$\\alpha$ ratio) diagrams. The ELGs in our sample are mostly star forming, with 83.6 per cent having sSFR>10$^{-11}$/yr. When classifying ELGs using the BPT+WHAN diagrams, we find that 63 per cent are star forming, 1.5 are passively evolving, and 2.9 have nuclear activity (Seyfert). The rest are LINERs and composite ELGs. We find that a Saunders function is the most appropriate to describe all the emission-line LFs. They are dominated by star-forming regions, except for the bright end of the [OIII] and [NII] LFs (i.e. L[NII]>10$^{42}$ erg/s, L[OIII]>10$^{43}$ erg/s), where the contribution of Seyfert galaxies is not negligible. Besides the star-forming population, composite galaxies and LINERs are the ones that contribute the most to the ELG numbers at L<10$^{41}$ erg/s. |\n",
       "|<p style=\"color:green\"> **ERROR** </p>| <p style=\"color:green\">affiliation error: mpia.affiliation_verifications: 'Heidelberg' keyword not found.</p> |"
      ],
      "text/plain": [
       "<IPython.core.display.Markdown object>"
      ]
     },
     "metadata": {},
     "output_type": "display_data"
    },
    {
     "data": {
      "text/markdown": [
       "\n",
       "|||\n",
       "|---:|:---|\n",
       "| [![arXiv](https://img.shields.io/badge/arXiv-arXiv:2303.11035-b31b1b.svg)](https://arxiv.org/abs/arXiv:2303.11035) | **Total Electron Temperature Derived from Quasi-Thermal Noise Spectroscopy  In the Pristine Solar Wind: Parker Solar Probe Observations**  |\n",
       "|| M. Liu, et al. -- incl., <mark>N. Meyer-Vernet</mark> |\n",
       "|*Appeared on*| *2023-03-21*|\n",
       "|*Comments*| *10 pages, 7 figures, and Astronomy & Astrophysics Accepted*|\n",
       "|**Abstract**| The Quasi-thermal noise (QTN) technique is a reliable tool to yield accurate measurements of the electron parameters in the solar wind. We apply this method on Parker Solar Probe (PSP) observations to derive the total electron temperature ($T_e$) from the linear fit of the high-frequency part of the QTN spectra acquired by the RFS/FIELDS instrument, and present a combination of 12-day period of observations around each perihelion from Encounter One (E01) to Ten (E10) (with E08 not included) with the heliocentric distance varying from about 13 to 60 solar radii ($R_\\odot{}$). We find that the total electron temperature decreases with the distance as $\\sim$$R^{-0.66}$, which is much slower than adiabatic. The extrapolated $T_e$ based on PSP observations is consistent with the exospheric solar wind model prediction at $\\sim$10 $R_\\odot{}$, Helios observations at $\\sim$0.3 AU and Wind observations at 1 AU. Also, $T_e$, extrapolated back to 10 $R_\\odot{}$, is almost the same as the strahl electron temperature $T_s$ (measured by SPAN-E) which is considered to be closely related to or even almost equal to the coronal electron temperature. Furthermore, the radial $T_e$ profiles in the slower solar wind (or flux tube with larger mass flux) are steeper than those in the faster solar wind (or flux tube with smaller mass flux). More pronounced anticorrelated $V_p$-$T_e$ is observed when the solar wind is slower and closer to the Sun. |\n",
       "|<p style=\"color:green\"> **ERROR** </p>| <p style=\"color:green\">affiliation error: mpia.affiliation_verifications: 'Heidelberg' keyword not found.</p> |"
      ],
      "text/plain": [
       "<IPython.core.display.Markdown object>"
      ]
     },
     "metadata": {},
     "output_type": "display_data"
    },
    {
     "data": {
      "text/markdown": [
       "\n",
       "|||\n",
       "|---:|:---|\n",
       "| [![arXiv](https://img.shields.io/badge/arXiv-arXiv:2303.10410-b31b1b.svg)](https://arxiv.org/abs/arXiv:2303.10410) | **Assessing inner boundary conditions for global coronal modeling of solar  maxima**  |\n",
       "|| Michaela Brchnelova, et al. -- incl., <mark>Fan Zhang</mark> |\n",
       "|*Appeared on*| *2023-03-21*|\n",
       "|*Comments*| *11 pages, 4 figures*|\n",
       "|**Abstract**| Computational Fluid Dynamics (CFD)-based global solar coronal simulations are slowly making their way into the space weather modeling toolchains to replace the semi-empirical methods such as the Wang-Sheeley-Arge (WSA) model. However, since they are based on CFD, if the assumptions in them are too strong, these codes might experience issues with convergence and unphysical solutions. Particularly the magnetograms corresponding to solar maxima can pose problems as they contain active regions with strong magnetic fields, resulting in large gradients. Combined with the approximate way in which the inner boundary is often treated, this can lead to non-physical features or even a complete divergence of the simulation in these cases. Here, we show some of the possible approaches to handle this inner boundary in our global coronal model COolfluid COrona uNstrUcTured (COCONUT) in a way that improves both convergence and accuracy. Since we know that prescribing the photospheric magnetic field for a region that represents the lower corona is not entirely physical, first, we look at the ways in which we can adjust the input magnetograms to remove the highest magnitudes and gradients. Secondly, since in the default setup we also assume a constant density, here we experiment with changing these values locally and globally to see the effect on the results. We conclude, through comparison with observations and convergence analysis, that modifying the density locally in active regions is the best way to improve the performance both in terms of convergence and physical accuracy from the tested approaches. |\n",
       "|<p style=\"color:red\"> **ERROR** </p>| <p style=\"color:red\">latex error not a gzip file</p> |"
      ],
      "text/plain": [
       "<IPython.core.display.Markdown object>"
      ]
     },
     "metadata": {},
     "output_type": "display_data"
    }
   ],
   "source": [
    "import datetime\n",
    "today = str(datetime.date.today())\n",
    "logfile = f\"_build/html/logs/log-{today}.md\"\n",
    "\n",
    "\n",
    "with open(logfile, 'w') as logs:\n",
    "    # Success\n",
    "    logs.write(f'# Arxiv on Deck 2: Logs - {today}\\n\\n')\n",
    "    logs.write(\"\"\"* Arxiv had {0:,d} new papers\\n\"\"\".format(len(new_papers)))\n",
    "    logs.write(\"\"\"    * {0:,d} with possible author matches\\n\\n\"\"\".format(len(candidates)))\n",
    "    logs.write(\"## Sucessful papers\\n\\n\")\n",
    "    display(Markdown(\"## Successful papers\"))\n",
    "    success = [k[0] for k in documents]\n",
    "    for candid in candidates:\n",
    "        if candid['identifier'].split(':')[-1] in success:\n",
    "            display(candid)\n",
    "            logs.write(candid.generate_markdown_text() + '\\n\\n')\n",
    "\n",
    "    ## failed\n",
    "    logs.write(\"## Failed papers\\n\\n\")\n",
    "    display(Markdown(\"## Failed papers\"))\n",
    "    failed = sorted(failed, key=lambda x: x[1])\n",
    "    current_reason = \"\"\n",
    "    for paper, reason in failed:\n",
    "        if 'affiliation' in reason:\n",
    "            color = 'green'\n",
    "        else:\n",
    "            color = 'red'\n",
    "        data = Markdown(\n",
    "                paper.generate_markdown_text() + \n",
    "                f'\\n|<p style=\"color:{color:s}\"> **ERROR** </p>| <p style=\"color:{color:s}\">{reason:s}</p> |'\n",
    "               )\n",
    "        if reason != current_reason:\n",
    "            logs.write(f'### {reason:s} \\n\\n')\n",
    "            current_reason = reason\n",
    "        logs.write(data.data + '\\n\\n')\n",
    "        \n",
    "        # only display here the important errors (all in logs)\n",
    "        # if color in ('red',):\n",
    "        display(data)"
   ]
  },
  {
   "cell_type": "markdown",
   "id": "472d20ee",
   "metadata": {
    "papermill": {
     "duration": 0.007221,
     "end_time": "2023-03-21T04:07:50.976051",
     "exception": false,
     "start_time": "2023-03-21T04:07:50.968830",
     "status": "completed"
    },
    "tags": []
   },
   "source": [
    "## Export documents\n",
    "\n",
    "We now write the .md files and export relevant images"
   ]
  },
  {
   "cell_type": "code",
   "execution_count": 7,
   "id": "d426aed9",
   "metadata": {
    "execution": {
     "iopub.execute_input": "2023-03-21T04:07:50.991905Z",
     "iopub.status.busy": "2023-03-21T04:07:50.991430Z",
     "iopub.status.idle": "2023-03-21T04:07:50.999392Z",
     "shell.execute_reply": "2023-03-21T04:07:50.998672Z"
    },
    "papermill": {
     "duration": 0.017653,
     "end_time": "2023-03-21T04:07:51.000875",
     "exception": false,
     "start_time": "2023-03-21T04:07:50.983222",
     "status": "completed"
    },
    "tags": []
   },
   "outputs": [],
   "source": [
    "def export_markdown_summary(md: str, md_fname:str, directory: str):\n",
    "    \"\"\"Export MD document and associated relevant images\"\"\"\n",
    "    import os\n",
    "    import shutil\n",
    "    import re\n",
    "\n",
    "    if (os.path.exists(directory) and not os.path.isdir(directory)):\n",
    "        raise RuntimeError(f\"a non-directory file exists with name {directory:s}\")\n",
    "\n",
    "    if (not os.path.exists(directory)):\n",
    "        print(f\"creating directory {directory:s}\")\n",
    "        os.mkdir(directory)\n",
    "\n",
    "    fig_fnames = (re.compile(r'\\[Fig.*\\]\\((.*)\\)').findall(md) + \n",
    "                  re.compile(r'\\<img src=\"([^>\\s]*)\"[^>]*/>').findall(md))\n",
    "    for fname in fig_fnames:\n",
    "        if 'http' in fname:\n",
    "            # No need to copy online figures\n",
    "            continue\n",
    "        destdir = os.path.join(directory, os.path.dirname(fname))\n",
    "        destfname = os.path.join(destdir, os.path.basename(fname))\n",
    "        try:\n",
    "            os.makedirs(destdir)\n",
    "        except FileExistsError:\n",
    "            pass\n",
    "        shutil.copy(fname, destfname)\n",
    "    with open(os.path.join(directory, md_fname), 'w') as fout:\n",
    "        fout.write(md)\n",
    "    print(\"exported in \", os.path.join(directory, md_fname))\n",
    "    [print(\"    + \" + os.path.join(directory,fk)) for fk in fig_fnames]"
   ]
  },
  {
   "cell_type": "code",
   "execution_count": 8,
   "id": "014d04a4",
   "metadata": {
    "execution": {
     "iopub.execute_input": "2023-03-21T04:07:51.016443Z",
     "iopub.status.busy": "2023-03-21T04:07:51.016025Z",
     "iopub.status.idle": "2023-03-21T04:07:51.019251Z",
     "shell.execute_reply": "2023-03-21T04:07:51.018600Z"
    },
    "papermill": {
     "duration": 0.012585,
     "end_time": "2023-03-21T04:07:51.020627",
     "exception": false,
     "start_time": "2023-03-21T04:07:51.008042",
     "status": "completed"
    },
    "tags": []
   },
   "outputs": [],
   "source": [
    "for paper_id, md in documents:\n",
    "    export_markdown_summary(md, f\"{paper_id:s}.md\", '_build/html/')"
   ]
  },
  {
   "cell_type": "markdown",
   "id": "f087a0a7",
   "metadata": {
    "papermill": {
     "duration": 0.007227,
     "end_time": "2023-03-21T04:07:51.035296",
     "exception": false,
     "start_time": "2023-03-21T04:07:51.028069",
     "status": "completed"
    },
    "tags": []
   },
   "source": [
    "## Display the papers\n",
    "\n",
    "Not necessary but allows for a quick check."
   ]
  },
  {
   "cell_type": "code",
   "execution_count": 9,
   "id": "fd25f625",
   "metadata": {
    "execution": {
     "iopub.execute_input": "2023-03-21T04:07:51.051166Z",
     "iopub.status.busy": "2023-03-21T04:07:51.050726Z",
     "iopub.status.idle": "2023-03-21T04:07:51.054278Z",
     "shell.execute_reply": "2023-03-21T04:07:51.053632Z"
    },
    "papermill": {
     "duration": 0.013163,
     "end_time": "2023-03-21T04:07:51.055730",
     "exception": false,
     "start_time": "2023-03-21T04:07:51.042567",
     "status": "completed"
    },
    "scrolled": false,
    "tags": []
   },
   "outputs": [],
   "source": [
    "[display(Markdown(k[1])) for k in documents];"
   ]
  },
  {
   "cell_type": "markdown",
   "id": "873873a4",
   "metadata": {
    "papermill": {
     "duration": 0.007261,
     "end_time": "2023-03-21T04:07:51.070242",
     "exception": false,
     "start_time": "2023-03-21T04:07:51.062981",
     "status": "completed"
    },
    "tags": []
   },
   "source": [
    "# Create HTML index"
   ]
  },
  {
   "cell_type": "code",
   "execution_count": 10,
   "id": "cf665672",
   "metadata": {
    "execution": {
     "iopub.execute_input": "2023-03-21T04:07:51.086386Z",
     "iopub.status.busy": "2023-03-21T04:07:51.085790Z",
     "iopub.status.idle": "2023-03-21T04:07:51.095849Z",
     "shell.execute_reply": "2023-03-21T04:07:51.095212Z"
    },
    "papermill": {
     "duration": 0.019658,
     "end_time": "2023-03-21T04:07:51.097220",
     "exception": false,
     "start_time": "2023-03-21T04:07:51.077562",
     "status": "completed"
    },
    "tags": []
   },
   "outputs": [
    {
     "name": "stdout",
     "output_type": "stream",
     "text": [
      "200  publications files modified in the last 7 days.\n"
     ]
    }
   ],
   "source": [
    "from datetime import datetime, timedelta, timezone\n",
    "from glob import glob\n",
    "import os\n",
    "\n",
    "files = glob('_build/html/*.md')\n",
    "days = 7\n",
    "now = datetime.today()\n",
    "res = []\n",
    "for fk in files:\n",
    "    stat_result = os.stat(fk).st_ctime\n",
    "    modified = datetime.fromtimestamp(stat_result, tz=timezone.utc).replace(tzinfo=None)\n",
    "    delta = now.today() - modified\n",
    "    if delta <= timedelta(days=days):\n",
    "        res.append((delta.seconds, fk))\n",
    "res = [k[1] for k in reversed(sorted(res, key=lambda x:x[1]))]\n",
    "npub = len(res)\n",
    "print(len(res), f\" publications files modified in the last {days:d} days.\")\n",
    "# [ print('\\t', k) for k in res ];"
   ]
  },
  {
   "cell_type": "code",
   "execution_count": 11,
   "id": "015de740",
   "metadata": {
    "execution": {
     "iopub.execute_input": "2023-03-21T04:07:51.113353Z",
     "iopub.status.busy": "2023-03-21T04:07:51.112930Z",
     "iopub.status.idle": "2023-03-21T04:07:51.133633Z",
     "shell.execute_reply": "2023-03-21T04:07:51.133007Z"
    },
    "papermill": {
     "duration": 0.030337,
     "end_time": "2023-03-21T04:07:51.135022",
     "exception": false,
     "start_time": "2023-03-21T04:07:51.104685",
     "status": "completed"
    },
    "tags": []
   },
   "outputs": [
    {
     "name": "stdout",
     "output_type": "stream",
     "text": [
      "5  publications in the last 7 days.\n"
     ]
    }
   ],
   "source": [
    "import datetime\n",
    "from glob import glob\n",
    "\n",
    "def get_last_n_days(lst, days=1):\n",
    "    \"\"\" Get the documents from the last n days \"\"\"\n",
    "    sorted_lst = sorted(lst, key=lambda x: x[1], reverse=True)\n",
    "    for fname, date in sorted_lst:\n",
    "        if date >= str(datetime.date.today() - datetime.timedelta(days=days)):\n",
    "            yield fname\n",
    "\n",
    "def extract_appearance_dates(lst_file):\n",
    "    dates = []\n",
    "\n",
    "    def get_date(line):\n",
    "        return line\\\n",
    "            .split('Appeared on:')[-1]\\\n",
    "            .split('</mark>')[0].strip()\n",
    "\n",
    "    for fname in lst:\n",
    "        with open(fname, 'r') as f:\n",
    "            found_date = False\n",
    "            for line in f:\n",
    "                if not found_date:\n",
    "                    if \"Appeared on\" in line:\n",
    "                        found_date = True\n",
    "                        dates.append((fname, get_date(line)))\n",
    "                else:\n",
    "                    break\n",
    "    return dates\n",
    "\n",
    "from glob import glob\n",
    "lst = glob('_build/html/*md')\n",
    "days = 7\n",
    "dates = extract_appearance_dates(lst)\n",
    "res = list(get_last_n_days(dates, days))\n",
    "npub = len(res)\n",
    "print(len(res), f\" publications in the last {days:d} days.\")"
   ]
  },
  {
   "cell_type": "code",
   "execution_count": 12,
   "id": "52ca0208",
   "metadata": {
    "execution": {
     "iopub.execute_input": "2023-03-21T04:07:51.151260Z",
     "iopub.status.busy": "2023-03-21T04:07:51.150853Z",
     "iopub.status.idle": "2023-03-21T04:07:51.156088Z",
     "shell.execute_reply": "2023-03-21T04:07:51.155468Z"
    },
    "papermill": {
     "duration": 0.014909,
     "end_time": "2023-03-21T04:07:51.157489",
     "exception": false,
     "start_time": "2023-03-21T04:07:51.142580",
     "status": "completed"
    },
    "scrolled": false,
    "tags": []
   },
   "outputs": [],
   "source": [
    "def create_carousel(npub=4):\n",
    "    \"\"\" Generate the HTML code for a carousel with `npub` slides \"\"\"\n",
    "    carousel = [\"\"\"  <div class=\"carousel\" \"\"\",\n",
    "                \"\"\"       data-flickity='{ \"autoPlay\": 10000, \"adaptiveHeight\": true, \"resize\": true, \"wrapAround\": true, \"pauseAutoPlayOnHover\": true, \"groupCells\": 1 }' id=\"asyncTypeset\">\"\"\"\n",
    "                ]\n",
    "    \n",
    "    item_str = \"\"\"    <div class=\"carousel-cell\"> <div id=\"slide{k}\" class=\"md_view\">Content {k}</div> </div>\"\"\"\n",
    "    for k in range(1, npub + 1):\n",
    "        carousel.append(item_str.format(k=k))\n",
    "    carousel.append(\"  </div>\")\n",
    "    return '\\n'.join(carousel)\n",
    "\n",
    "def create_grid(npub=4):\n",
    "    \"\"\" Generate the HTML code for a flat grid with `npub` slides \"\"\"\n",
    "    grid = [\"\"\"  <div class=\"grid\"> \"\"\",\n",
    "                ]\n",
    "    \n",
    "    item_str = \"\"\"    <div class=\"grid-item\"> <div id=\"slide{k}\" class=\"md_view\">Content {k}</div> </div>\"\"\"\n",
    "    for k in range(1, npub + 1):\n",
    "        grid.append(item_str.format(k=k))\n",
    "    grid.append(\"  </div>\")\n",
    "    return '\\n'.join(grid)"
   ]
  },
  {
   "cell_type": "code",
   "execution_count": 13,
   "id": "a6eac5b6",
   "metadata": {
    "execution": {
     "iopub.execute_input": "2023-03-21T04:07:51.173879Z",
     "iopub.status.busy": "2023-03-21T04:07:51.173348Z",
     "iopub.status.idle": "2023-03-21T04:07:51.180071Z",
     "shell.execute_reply": "2023-03-21T04:07:51.179273Z"
    },
    "papermill": {
     "duration": 0.016438,
     "end_time": "2023-03-21T04:07:51.181519",
     "exception": false,
     "start_time": "2023-03-21T04:07:51.165081",
     "status": "completed"
    },
    "scrolled": false,
    "tags": []
   },
   "outputs": [],
   "source": [
    "carousel = create_carousel(npub)\n",
    "docs = ', '.join(['\"{0:s}\"'.format(k.split('/')[-1]) for k in res])\n",
    "slides = ', '.join([f'\"slide{k}\"' for k in range(1, npub + 1)])\n",
    "\n",
    "with open(\"daily_template.html\", \"r\") as tpl:\n",
    "    page = tpl.read()\n",
    "    page = page.replace(\"{%-- carousel:s --%}\", carousel)\\\n",
    "               .replace(\"{%-- suptitle:s --%}\",  \"7-day archives\" )\\\n",
    "               .replace(\"{%-- docs:s --%}\", docs)\\\n",
    "               .replace(\"{%-- slides:s --%}\", slides)\n",
    "    \n",
    "with open(\"_build/html/index_7days.html\", 'w') as fout:\n",
    "    fout.write(page)"
   ]
  },
  {
   "cell_type": "code",
   "execution_count": 14,
   "id": "adc1a1ec",
   "metadata": {
    "execution": {
     "iopub.execute_input": "2023-03-21T04:07:51.197915Z",
     "iopub.status.busy": "2023-03-21T04:07:51.197364Z",
     "iopub.status.idle": "2023-03-21T04:07:51.205631Z",
     "shell.execute_reply": "2023-03-21T04:07:51.204967Z"
    },
    "papermill": {
     "duration": 0.018156,
     "end_time": "2023-03-21T04:07:51.207145",
     "exception": false,
     "start_time": "2023-03-21T04:07:51.188989",
     "status": "completed"
    },
    "tags": []
   },
   "outputs": [
    {
     "name": "stdout",
     "output_type": "stream",
     "text": [
      "0  publications in the last day.\n"
     ]
    }
   ],
   "source": [
    "# redo for today\n",
    "days = 1\n",
    "res = list(get_last_n_days(dates, days))\n",
    "npub = len(res)\n",
    "print(len(res), f\" publications in the last day.\")\n",
    "\n",
    "carousel = create_carousel(npub)\n",
    "docs = ', '.join(['\"{0:s}\"'.format(k.split('/')[-1]) for k in res])\n",
    "slides = ', '.join([f'\"slide{k}\"' for k in range(1, npub + 1)])\n",
    "\n",
    "with open(\"daily_template.html\", \"r\") as tpl:\n",
    "    page = tpl.read()\n",
    "    page = page.replace(\"{%-- carousel:s --%}\", carousel)\\\n",
    "               .replace(\"{%-- suptitle:s --%}\",  \"Daily\" )\\\n",
    "               .replace(\"{%-- docs:s --%}\", docs)\\\n",
    "               .replace(\"{%-- slides:s --%}\", slides)\n",
    "    \n",
    "# print(carousel, docs, slides)\n",
    "# print(page)\n",
    "with open(\"_build/html/index_daily.html\", 'w') as fout:\n",
    "    fout.write(page)"
   ]
  },
  {
   "cell_type": "code",
   "execution_count": 15,
   "id": "00eece82",
   "metadata": {
    "execution": {
     "iopub.execute_input": "2023-03-21T04:07:51.223441Z",
     "iopub.status.busy": "2023-03-21T04:07:51.223037Z",
     "iopub.status.idle": "2023-03-21T04:07:51.229695Z",
     "shell.execute_reply": "2023-03-21T04:07:51.229057Z"
    },
    "papermill": {
     "duration": 0.016427,
     "end_time": "2023-03-21T04:07:51.231110",
     "exception": false,
     "start_time": "2023-03-21T04:07:51.214683",
     "status": "completed"
    },
    "scrolled": false,
    "tags": []
   },
   "outputs": [
    {
     "name": "stdout",
     "output_type": "stream",
     "text": [
      "6  6 publications selected.\n"
     ]
    }
   ],
   "source": [
    "# Create the flat grid of the last N papers (fixed number regardless of dates)\n",
    "from itertools import islice \n",
    "\n",
    "npub = 6\n",
    "res = [k[0] for k in (islice(reversed(sorted(dates, key=lambda x: x[1])), 6))]\n",
    "print(len(res), f\" {npub} publications selected.\")\n",
    "\n",
    "grid = create_grid(npub)\n",
    "docs = ', '.join(['\"{0:s}\"'.format(k.split('/')[-1]) for k in res])\n",
    "slides = ', '.join([f'\"slide{k}\"' for k in range(1, npub + 1)])\n",
    "\n",
    "with open(\"grid_template.html\", \"r\") as tpl:\n",
    "    page = tpl.read()\n",
    "    page = page.replace(\"{%-- grid-content:s --%}\", grid)\\\n",
    "               .replace(\"{%-- suptitle:s --%}\",  f\"Last {npub:,d} papers\" )\\\n",
    "               .replace(\"{%-- docs:s --%}\", docs)\\\n",
    "               .replace(\"{%-- slides:s --%}\", slides)\n",
    "    \n",
    "# print(grid, docs, slides)\n",
    "# print(page)\n",
    "with open(\"_build/html/index_npub_grid.html\", 'w') as fout:\n",
    "    fout.write(page)"
   ]
  },
  {
   "cell_type": "code",
   "execution_count": null,
   "id": "cab45692",
   "metadata": {
    "papermill": {
     "duration": 0.007576,
     "end_time": "2023-03-21T04:07:51.246369",
     "exception": false,
     "start_time": "2023-03-21T04:07:51.238793",
     "status": "completed"
    },
    "tags": []
   },
   "outputs": [],
   "source": []
  },
  {
   "cell_type": "code",
   "execution_count": null,
   "id": "aec9821f",
   "metadata": {
    "papermill": {
     "duration": 0.007576,
     "end_time": "2023-03-21T04:07:51.261738",
     "exception": false,
     "start_time": "2023-03-21T04:07:51.254162",
     "status": "completed"
    },
    "tags": []
   },
   "outputs": [],
   "source": []
  }
 ],
 "metadata": {
  "kernelspec": {
   "display_name": "Python 3 (ipykernel)",
   "language": "python",
   "name": "python3"
  },
  "language_info": {
   "codemirror_mode": {
    "name": "ipython",
    "version": 3
   },
   "file_extension": ".py",
   "mimetype": "text/x-python",
   "name": "python",
   "nbconvert_exporter": "python",
   "pygments_lexer": "ipython3",
   "version": "3.9.16"
  },
  "papermill": {
   "default_parameters": {},
   "duration": 62.489312,
   "end_time": "2023-03-21T04:07:51.487773",
   "environment_variables": {},
   "exception": null,
   "input_path": "MPIA daily digest.ipynb",
   "output_path": "log.ipynb",
   "parameters": {},
   "start_time": "2023-03-21T04:06:48.998461",
   "version": "2.4.0"
  },
  "vscode": {
   "interpreter": {
    "hash": "aee8b7b246df8f9039afb4144a1f6fd8d2ca17a180786b69acc140d282b71a49"
   }
  },
  "widgets": {
   "application/vnd.jupyter.widget-state+json": {
    "state": {
     "2955a5fa0eeb430494753e2fba225daa": {
      "model_module": "@jupyter-widgets/controls",
      "model_module_version": "2.0.0",
      "model_name": "HBoxModel",
      "state": {
       "_dom_classes": [],
       "_model_module": "@jupyter-widgets/controls",
       "_model_module_version": "2.0.0",
       "_model_name": "HBoxModel",
       "_view_count": null,
       "_view_module": "@jupyter-widgets/controls",
       "_view_module_version": "2.0.0",
       "_view_name": "HBoxView",
       "box_style": "",
       "children": [
        "IPY_MODEL_41cff8cc2d8a40d3bbfb34e4182e61a4",
        "IPY_MODEL_f912775746ea4b039d3c9d504aacf4f1",
        "IPY_MODEL_cbc299b2298b4a1eb966b49973f32daf"
       ],
       "layout": "IPY_MODEL_547bd67194d34c4c8ae5c379d5d23ca1",
       "tabbable": null,
       "tooltip": null
      }
     },
     "3b604cd10b2b4b4183a84147a4fce440": {
      "model_module": "@jupyter-widgets/base",
      "model_module_version": "2.0.0",
      "model_name": "LayoutModel",
      "state": {
       "_model_module": "@jupyter-widgets/base",
       "_model_module_version": "2.0.0",
       "_model_name": "LayoutModel",
       "_view_count": null,
       "_view_module": "@jupyter-widgets/base",
       "_view_module_version": "2.0.0",
       "_view_name": "LayoutView",
       "align_content": null,
       "align_items": null,
       "align_self": null,
       "border_bottom": null,
       "border_left": null,
       "border_right": null,
       "border_top": null,
       "bottom": null,
       "display": null,
       "flex": null,
       "flex_flow": null,
       "grid_area": null,
       "grid_auto_columns": null,
       "grid_auto_flow": null,
       "grid_auto_rows": null,
       "grid_column": null,
       "grid_gap": null,
       "grid_row": null,
       "grid_template_areas": null,
       "grid_template_columns": null,
       "grid_template_rows": null,
       "height": null,
       "justify_content": null,
       "justify_items": null,
       "left": null,
       "margin": null,
       "max_height": null,
       "max_width": null,
       "min_height": null,
       "min_width": null,
       "object_fit": null,
       "object_position": null,
       "order": null,
       "overflow": null,
       "padding": null,
       "right": null,
       "top": null,
       "visibility": null,
       "width": null
      }
     },
     "41cff8cc2d8a40d3bbfb34e4182e61a4": {
      "model_module": "@jupyter-widgets/controls",
      "model_module_version": "2.0.0",
      "model_name": "HTMLModel",
      "state": {
       "_dom_classes": [],
       "_model_module": "@jupyter-widgets/controls",
       "_model_module_version": "2.0.0",
       "_model_name": "HTMLModel",
       "_view_count": null,
       "_view_module": "@jupyter-widgets/controls",
       "_view_module_version": "2.0.0",
       "_view_name": "HTMLView",
       "description": "",
       "description_allow_html": false,
       "layout": "IPY_MODEL_9f1296cfcf704865b34c350ff9d9fd85",
       "placeholder": "​",
       "style": "IPY_MODEL_53520e21948c4be7833fc608aa283652",
       "tabbable": null,
       "tooltip": null,
       "value": "100%"
      }
     },
     "53520e21948c4be7833fc608aa283652": {
      "model_module": "@jupyter-widgets/controls",
      "model_module_version": "2.0.0",
      "model_name": "HTMLStyleModel",
      "state": {
       "_model_module": "@jupyter-widgets/controls",
       "_model_module_version": "2.0.0",
       "_model_name": "HTMLStyleModel",
       "_view_count": null,
       "_view_module": "@jupyter-widgets/base",
       "_view_module_version": "2.0.0",
       "_view_name": "StyleView",
       "background": null,
       "description_width": "",
       "font_size": null,
       "text_color": null
      }
     },
     "547bd67194d34c4c8ae5c379d5d23ca1": {
      "model_module": "@jupyter-widgets/base",
      "model_module_version": "2.0.0",
      "model_name": "LayoutModel",
      "state": {
       "_model_module": "@jupyter-widgets/base",
       "_model_module_version": "2.0.0",
       "_model_name": "LayoutModel",
       "_view_count": null,
       "_view_module": "@jupyter-widgets/base",
       "_view_module_version": "2.0.0",
       "_view_name": "LayoutView",
       "align_content": null,
       "align_items": null,
       "align_self": null,
       "border_bottom": null,
       "border_left": null,
       "border_right": null,
       "border_top": null,
       "bottom": null,
       "display": null,
       "flex": null,
       "flex_flow": null,
       "grid_area": null,
       "grid_auto_columns": null,
       "grid_auto_flow": null,
       "grid_auto_rows": null,
       "grid_column": null,
       "grid_gap": null,
       "grid_row": null,
       "grid_template_areas": null,
       "grid_template_columns": null,
       "grid_template_rows": null,
       "height": null,
       "justify_content": null,
       "justify_items": null,
       "left": null,
       "margin": null,
       "max_height": null,
       "max_width": null,
       "min_height": null,
       "min_width": null,
       "object_fit": null,
       "object_position": null,
       "order": null,
       "overflow": null,
       "padding": null,
       "right": null,
       "top": null,
       "visibility": null,
       "width": null
      }
     },
     "5941d213e7fa4a678e7dc928ac041f10": {
      "model_module": "@jupyter-widgets/controls",
      "model_module_version": "2.0.0",
      "model_name": "ProgressStyleModel",
      "state": {
       "_model_module": "@jupyter-widgets/controls",
       "_model_module_version": "2.0.0",
       "_model_name": "ProgressStyleModel",
       "_view_count": null,
       "_view_module": "@jupyter-widgets/base",
       "_view_module_version": "2.0.0",
       "_view_name": "StyleView",
       "bar_color": null,
       "description_width": ""
      }
     },
     "6bbe5a7e781e4de79191da4f71ec9bf5": {
      "model_module": "@jupyter-widgets/base",
      "model_module_version": "2.0.0",
      "model_name": "LayoutModel",
      "state": {
       "_model_module": "@jupyter-widgets/base",
       "_model_module_version": "2.0.0",
       "_model_name": "LayoutModel",
       "_view_count": null,
       "_view_module": "@jupyter-widgets/base",
       "_view_module_version": "2.0.0",
       "_view_name": "LayoutView",
       "align_content": null,
       "align_items": null,
       "align_self": null,
       "border_bottom": null,
       "border_left": null,
       "border_right": null,
       "border_top": null,
       "bottom": null,
       "display": null,
       "flex": null,
       "flex_flow": null,
       "grid_area": null,
       "grid_auto_columns": null,
       "grid_auto_flow": null,
       "grid_auto_rows": null,
       "grid_column": null,
       "grid_gap": null,
       "grid_row": null,
       "grid_template_areas": null,
       "grid_template_columns": null,
       "grid_template_rows": null,
       "height": null,
       "justify_content": null,
       "justify_items": null,
       "left": null,
       "margin": null,
       "max_height": null,
       "max_width": null,
       "min_height": null,
       "min_width": null,
       "object_fit": null,
       "object_position": null,
       "order": null,
       "overflow": null,
       "padding": null,
       "right": null,
       "top": null,
       "visibility": null,
       "width": null
      }
     },
     "8f647a637f9340ba9b351b4e82485fef": {
      "model_module": "@jupyter-widgets/controls",
      "model_module_version": "2.0.0",
      "model_name": "HTMLStyleModel",
      "state": {
       "_model_module": "@jupyter-widgets/controls",
       "_model_module_version": "2.0.0",
       "_model_name": "HTMLStyleModel",
       "_view_count": null,
       "_view_module": "@jupyter-widgets/base",
       "_view_module_version": "2.0.0",
       "_view_name": "StyleView",
       "background": null,
       "description_width": "",
       "font_size": null,
       "text_color": null
      }
     },
     "9f1296cfcf704865b34c350ff9d9fd85": {
      "model_module": "@jupyter-widgets/base",
      "model_module_version": "2.0.0",
      "model_name": "LayoutModel",
      "state": {
       "_model_module": "@jupyter-widgets/base",
       "_model_module_version": "2.0.0",
       "_model_name": "LayoutModel",
       "_view_count": null,
       "_view_module": "@jupyter-widgets/base",
       "_view_module_version": "2.0.0",
       "_view_name": "LayoutView",
       "align_content": null,
       "align_items": null,
       "align_self": null,
       "border_bottom": null,
       "border_left": null,
       "border_right": null,
       "border_top": null,
       "bottom": null,
       "display": null,
       "flex": null,
       "flex_flow": null,
       "grid_area": null,
       "grid_auto_columns": null,
       "grid_auto_flow": null,
       "grid_auto_rows": null,
       "grid_column": null,
       "grid_gap": null,
       "grid_row": null,
       "grid_template_areas": null,
       "grid_template_columns": null,
       "grid_template_rows": null,
       "height": null,
       "justify_content": null,
       "justify_items": null,
       "left": null,
       "margin": null,
       "max_height": null,
       "max_width": null,
       "min_height": null,
       "min_width": null,
       "object_fit": null,
       "object_position": null,
       "order": null,
       "overflow": null,
       "padding": null,
       "right": null,
       "top": null,
       "visibility": null,
       "width": null
      }
     },
     "cbc299b2298b4a1eb966b49973f32daf": {
      "model_module": "@jupyter-widgets/controls",
      "model_module_version": "2.0.0",
      "model_name": "HTMLModel",
      "state": {
       "_dom_classes": [],
       "_model_module": "@jupyter-widgets/controls",
       "_model_module_version": "2.0.0",
       "_model_name": "HTMLModel",
       "_view_count": null,
       "_view_module": "@jupyter-widgets/controls",
       "_view_module_version": "2.0.0",
       "_view_name": "HTMLView",
       "description": "",
       "description_allow_html": false,
       "layout": "IPY_MODEL_3b604cd10b2b4b4183a84147a4fce440",
       "placeholder": "​",
       "style": "IPY_MODEL_8f647a637f9340ba9b351b4e82485fef",
       "tabbable": null,
       "tooltip": null,
       "value": " 15/15 [00:29&lt;00:00,  2.50s/it]"
      }
     },
     "f912775746ea4b039d3c9d504aacf4f1": {
      "model_module": "@jupyter-widgets/controls",
      "model_module_version": "2.0.0",
      "model_name": "FloatProgressModel",
      "state": {
       "_dom_classes": [],
       "_model_module": "@jupyter-widgets/controls",
       "_model_module_version": "2.0.0",
       "_model_name": "FloatProgressModel",
       "_view_count": null,
       "_view_module": "@jupyter-widgets/controls",
       "_view_module_version": "2.0.0",
       "_view_name": "ProgressView",
       "bar_style": "success",
       "description": "",
       "description_allow_html": false,
       "layout": "IPY_MODEL_6bbe5a7e781e4de79191da4f71ec9bf5",
       "max": 15.0,
       "min": 0.0,
       "orientation": "horizontal",
       "style": "IPY_MODEL_5941d213e7fa4a678e7dc928ac041f10",
       "tabbable": null,
       "tooltip": null,
       "value": 15.0
      }
     }
    },
    "version_major": 2,
    "version_minor": 0
   }
  }
 },
 "nbformat": 4,
 "nbformat_minor": 5
}