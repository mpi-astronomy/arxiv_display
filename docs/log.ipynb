{
 "cells": [
  {
   "cell_type": "markdown",
   "id": "92bcb855",
   "metadata": {
    "papermill": {
     "duration": 0.00382,
     "end_time": "2025-08-06T04:36:54.359395",
     "exception": false,
     "start_time": "2025-08-06T04:36:54.355575",
     "status": "completed"
    },
    "tags": []
   },
   "source": [
    "# MPIA Arxiv on Deck 2\n",
    "\n",
    "Contains the steps to produce the paper extractions."
   ]
  },
  {
   "cell_type": "code",
   "execution_count": 1,
   "id": "3a0d6e11",
   "metadata": {
    "execution": {
     "iopub.execute_input": "2025-08-06T04:36:54.366461Z",
     "iopub.status.busy": "2025-08-06T04:36:54.366262Z",
     "iopub.status.idle": "2025-08-06T04:36:54.589832Z",
     "shell.execute_reply": "2025-08-06T04:36:54.589223Z"
    },
    "papermill": {
     "duration": 0.228518,
     "end_time": "2025-08-06T04:36:54.591201",
     "exception": false,
     "start_time": "2025-08-06T04:36:54.362683",
     "status": "completed"
    },
    "tags": []
   },
   "outputs": [],
   "source": [
    "# Imports\n",
    "import os\n",
    "from IPython.display import Markdown, display\n",
    "from tqdm.notebook import tqdm\n",
    "import warnings\n",
    "from PIL import Image \n",
    "import re\n",
    "\n",
    "# requires arxiv_on_deck_2\n",
    "\n",
    "from arxiv_on_deck_2.arxiv2 import (get_new_papers, \n",
    "                                    get_paper_from_identifier,\n",
    "                                    retrieve_document_source, \n",
    "                                    get_markdown_badge)\n",
    "from arxiv_on_deck_2 import (latex,\n",
    "                             latex_bib,\n",
    "                             mpia,\n",
    "                             highlight_authors_in_list)\n",
    "\n",
    "# Sometimes images are really big\n",
    "Image.MAX_IMAGE_PIXELS = 1000000000 "
   ]
  },
  {
   "cell_type": "code",
   "execution_count": 2,
   "id": "22aa9d44",
   "metadata": {
    "execution": {
     "iopub.execute_input": "2025-08-06T04:36:54.598273Z",
     "iopub.status.busy": "2025-08-06T04:36:54.598053Z",
     "iopub.status.idle": "2025-08-06T04:36:54.605867Z",
     "shell.execute_reply": "2025-08-06T04:36:54.605321Z"
    },
    "papermill": {
     "duration": 0.01246,
     "end_time": "2025-08-06T04:36:54.606873",
     "exception": false,
     "start_time": "2025-08-06T04:36:54.594413",
     "status": "completed"
    },
    "tags": []
   },
   "outputs": [],
   "source": [
    "# Some useful definitions.\n",
    "\n",
    "class AffiliationWarning(UserWarning):\n",
    "    pass\n",
    "\n",
    "class AffiliationError(RuntimeError):\n",
    "    pass\n",
    "\n",
    "def validation(source: str):\n",
    "    \"\"\"Raises error paper during parsing of source file\n",
    "    \n",
    "    Allows checks before parsing TeX code.\n",
    "    \n",
    "    Raises AffiliationWarning\n",
    "    \"\"\"\n",
    "    check = mpia.affiliation_verifications(source, verbose=True)\n",
    "    if check is not True:\n",
    "        raise AffiliationError(\"mpia.affiliation_verifications: \" + check)\n",
    "\n",
    "        \n",
    "warnings.simplefilter('always', AffiliationWarning)\n",
    "\n",
    "\n",
    "def get_markdown_qrcode(paper_id: str):\n",
    "    \"\"\" Generate a qrcode to the arxiv page using qrserver.com\n",
    "    \n",
    "    :param paper: Arxiv paper\n",
    "    :returns: markdown text\n",
    "    \"\"\"\n",
    "    url = r\"https://api.qrserver.com/v1/create-qr-code/?size=100x100&data=\"\n",
    "    txt = f\"\"\"<img src={url}\"https://arxiv.org/abs/{paper_id}\">\"\"\"\n",
    "    txt = '<div id=\"qrcode\">' + txt + '</div>'\n",
    "    return txt\n",
    "\n",
    "\n",
    "def clean_non_western_encoded_characters_commands(text: str) -> str:\n",
    "    \"\"\" Remove non-western encoded characters from a string\n",
    "    List may need to grow.\n",
    "    \n",
    "    :param text: the text to clean\n",
    "    :return: the cleaned text\n",
    "    \"\"\"\n",
    "    text = re.sub(r\"(\\\\begin{CJK}{UTF8}{gbsn})(.*?)(\\\\end{CJK})\", r\"\\2\", text)\n",
    "    return text\n",
    "\n",
    "\n",
    "def get_initials(name: str) -> str:\n",
    "    \"\"\" Get the short name, e.g., A.-B. FamName\n",
    "    :param name: full name\n",
    "    :returns: initials\n",
    "    \"\"\"\n",
    "    initials = []\n",
    "    # account for non western names often in ()\n",
    "    if '(' in name:\n",
    "        name = clean_non_western_encoded_characters_commands(name)\n",
    "        suffix = re.findall(r\"\\((.*?)\\)\", name)[0]\n",
    "        name = name.replace(f\"({suffix})\", '')\n",
    "    else:\n",
    "        suffix = ''\n",
    "    split = name.split()\n",
    "    for token in split[:-1]:\n",
    "        if '-' in token:\n",
    "            current = '-'.join([k[0] + '.' for k in token.split('-')])\n",
    "        else:\n",
    "            current = token[0] + '.'\n",
    "        initials.append(current)\n",
    "    initials.append(split[-1].strip())\n",
    "    if suffix:\n",
    "        initials.append(f\"({suffix})\")\n",
    "    return ' '.join(initials)"
   ]
  },
  {
   "cell_type": "markdown",
   "id": "14bd6310",
   "metadata": {
    "papermill": {
     "duration": 0.002869,
     "end_time": "2025-08-06T04:36:54.612645",
     "exception": false,
     "start_time": "2025-08-06T04:36:54.609776",
     "status": "completed"
    },
    "tags": []
   },
   "source": [
    "## get list of arxiv paper candidates\n",
    "\n",
    "We use the MPIA mitarbeiter list webpage from mpia.de to get author names\n",
    "We then get all new papers from Arxiv and match authors"
   ]
  },
  {
   "cell_type": "code",
   "execution_count": 3,
   "id": "7ea813a8",
   "metadata": {
    "execution": {
     "iopub.execute_input": "2025-08-06T04:36:54.619284Z",
     "iopub.status.busy": "2025-08-06T04:36:54.619072Z",
     "iopub.status.idle": "2025-08-06T04:37:15.969927Z",
     "shell.execute_reply": "2025-08-06T04:37:15.969250Z"
    },
    "papermill": {
     "duration": 21.355627,
     "end_time": "2025-08-06T04:37:15.971181",
     "exception": false,
     "start_time": "2025-08-06T04:36:54.615554",
     "status": "completed"
    },
    "tags": []
   },
   "outputs": [],
   "source": [
    "# deal with the author list and edge cases of people that cannot be consistent on their name  \n",
    "\n",
    "def filter_non_scientists(name: str) -> bool:\n",
    "    \"\"\" Loose filter on expected authorships\n",
    "\n",
    "    removing IT, administration, technical staff\n",
    "    :param name: name\n",
    "    :returns: False if name is not a scientist\n",
    "    \"\"\"\n",
    "    remove_list = ['Licht', 'Binroth', 'Witzel', 'Jordan',\n",
    "                   'Zähringer', 'Scheerer', 'Hoffmann', 'Düe',\n",
    "                   'Hellmich', 'Enkler-Scharpegge', 'Witte-Nguy',\n",
    "                   'Dehen', 'Beckmann', 'Jager', 'Jäger'\n",
    "                  ]\n",
    "\n",
    "    for k in remove_list:\n",
    "        if k in name:\n",
    "            return False\n",
    "    return True\n",
    "\n",
    "def add_author_to_list(author_list: list) -> list:\n",
    "    \"\"\" Add author to list if not already in list\n",
    "    \n",
    "    :param author: author name\n",
    "    :param author_list: list of authors\n",
    "    :returns: updated list of authors\n",
    "    \"\"\"\n",
    "    add_list = ['T. Henning']\n",
    "\n",
    "    for author in add_list:\n",
    "        if author not in author_list:\n",
    "            author_list.append(author)\n",
    "    return author_list\n",
    "\n",
    "# get list from MPIA website\n",
    "# filter for non-scientists (mpia.get_mpia_mitarbeiter_list() does some filtering)\n",
    "mpia_authors = [k[1] for k in mpia.get_mpia_mitarbeiter_list() if filter_non_scientists(k[1])]\n",
    "# add some missing author because of inconsistencies in their MPIA name and author name on papers\n",
    "mpia_authors = add_author_to_list(mpia_authors)"
   ]
  },
  {
   "cell_type": "code",
   "execution_count": 4,
   "id": "2645e73a",
   "metadata": {
    "execution": {
     "iopub.execute_input": "2025-08-06T04:37:15.978476Z",
     "iopub.status.busy": "2025-08-06T04:37:15.978279Z",
     "iopub.status.idle": "2025-08-06T04:37:16.677709Z",
     "shell.execute_reply": "2025-08-06T04:37:16.677032Z"
    },
    "papermill": {
     "duration": 0.704188,
     "end_time": "2025-08-06T04:37:16.678715",
     "exception": false,
     "start_time": "2025-08-06T04:37:15.974527",
     "status": "completed"
    },
    "tags": []
   },
   "outputs": [
    {
     "name": "stdout",
     "output_type": "stream",
     "text": [
      "K. Jahnke  ->  K. Jahnke  |  ['K. Jahnke']\n",
      "I. J. M. Crossfield  ->  I. J. M. Crossfield  |  ['I. J. M. Crossfield']\n",
      "M. Zhang  ->  M. Zhang  |  ['M. Zhang']\n",
      "J. Liu  ->  J. Liu  |  ['J. Liu']\n",
      "P. Garcia  ->  A. P. Garcia  |  ['P. Garcia']\n",
      "Y. Wang  ->  Y. Wang  |  ['Y. Wang']\n",
      "Arxiv has 63 new papers today\n",
      "          5 with possible author matches\n"
     ]
    }
   ],
   "source": [
    "new_papers = get_new_papers()\n",
    "# add manual references\n",
    "add_paper_refs = []\n",
    "new_papers.extend([get_paper_from_identifier(k) for k in add_paper_refs])\n",
    "\n",
    "def robust_call(fn, value, *args, **kwargs):\n",
    "    try:\n",
    "        return fn(value, *args, **kwargs)\n",
    "    except Exception:\n",
    "        return value\n",
    "\n",
    "candidates = []\n",
    "for paperk in new_papers:\n",
    "    # Check author list with their initials\n",
    "    normed_author_list = [robust_call(mpia.get_initials, k) for k in paperk['authors']]\n",
    "    hl_authors = highlight_authors_in_list(normed_author_list, mpia_authors, verbose=True)\n",
    "    matches = [(hl, orig) for hl, orig in zip(hl_authors, paperk['authors']) if 'mark' in hl]\n",
    "    paperk['authors'] = hl_authors\n",
    "    if matches:\n",
    "        # only select paper if an author matched our list\n",
    "        candidates.append(paperk)\n",
    "print(\"\"\"Arxiv has {0:,d} new papers today\"\"\".format(len(new_papers)))        \n",
    "print(\"\"\"          {0:,d} with possible author matches\"\"\".format(len(candidates)))"
   ]
  },
  {
   "cell_type": "markdown",
   "id": "3543b34a",
   "metadata": {
    "papermill": {
     "duration": 0.003094,
     "end_time": "2025-08-06T04:37:16.685214",
     "exception": false,
     "start_time": "2025-08-06T04:37:16.682120",
     "status": "completed"
    },
    "tags": []
   },
   "source": [
    "# Parse sources and generate relevant outputs\n",
    "\n",
    "From the candidates, we do the following steps:\n",
    "* get their tarball from ArXiv (and extract data)\n",
    "* find the main .tex file: find one with \\documentclass{...} (sometimes it's non trivial)\n",
    "* Check affiliations with :func:`validation`, which uses :func:`mpia.affiliation_verifications`\n",
    "* If passing the affiliations: we parse the .tex source\n",
    "   * inject sub-documents into the main (flatten the main document)\n",
    "   * parse structure, extract information (title, abstract, authors, figures...)\n",
    "   * handles `\\graphicspath` if provided\n",
    "* Generate the .md document."
   ]
  },
  {
   "cell_type": "code",
   "execution_count": 5,
   "id": "9576b79e",
   "metadata": {
    "execution": {
     "iopub.execute_input": "2025-08-06T04:37:16.692066Z",
     "iopub.status.busy": "2025-08-06T04:37:16.691796Z",
     "iopub.status.idle": "2025-08-06T04:38:30.020200Z",
     "shell.execute_reply": "2025-08-06T04:38:30.019403Z"
    },
    "papermill": {
     "duration": 73.33304,
     "end_time": "2025-08-06T04:38:30.021252",
     "exception": false,
     "start_time": "2025-08-06T04:37:16.688212",
     "status": "completed"
    },
    "scrolled": false,
    "tags": []
   },
   "outputs": [
    {
     "data": {
      "application/vnd.jupyter.widget-view+json": {
       "model_id": "d98fa4c2ec084b478c1887a12bd023b4",
       "version_major": 2,
       "version_minor": 0
      },
      "text/plain": [
       "  0%|          | 0/5 [00:00<?, ?it/s]"
      ]
     },
     "metadata": {},
     "output_type": "display_data"
    },
    {
     "name": "stdout",
     "output_type": "stream",
     "text": [
      "Retrieving document from  https://arxiv.org/e-print/2508.02779\n"
     ]
    },
    {
     "name": "stdout",
     "output_type": "stream",
     "text": [
      "extracting tarball to tmp_2508.02779..."
     ]
    },
    {
     "name": "stdout",
     "output_type": "stream",
     "text": [
      " done.\n"
     ]
    },
    {
     "name": "stdout",
     "output_type": "stream",
     "text": [
      "Found 85 bibliographic references in tmp_2508.02779/AandA.bbl.\n",
      "Retrieving document from  https://arxiv.org/e-print/2508.02782\n"
     ]
    },
    {
     "name": "stdout",
     "output_type": "stream",
     "text": [
      "extracting tarball to tmp_2508.02782..."
     ]
    },
    {
     "name": "stdout",
     "output_type": "stream",
     "text": [
      " done.\n",
      "Retrieving document from  https://arxiv.org/e-print/2508.03019\n"
     ]
    },
    {
     "name": "stdout",
     "output_type": "stream",
     "text": [
      "extracting tarball to tmp_2508.03019..."
     ]
    },
    {
     "name": "stdout",
     "output_type": "stream",
     "text": [
      " done.\n",
      "Retrieving document from  https://arxiv.org/e-print/2508.03229\n"
     ]
    },
    {
     "name": "stdout",
     "output_type": "stream",
     "text": [
      "extracting tarball to tmp_2508.03229... done.\n"
     ]
    },
    {
     "name": "stdout",
     "output_type": "stream",
     "text": [
      "Found 112 bibliographic references in tmp_2508.03229/main.bbl.\n",
      "Retrieving document from  https://arxiv.org/e-print/2508.03291\n"
     ]
    },
    {
     "name": "stdout",
     "output_type": "stream",
     "text": [
      "extracting tarball to tmp_2508.03291..."
     ]
    },
    {
     "name": "stdout",
     "output_type": "stream",
     "text": [
      " done.\n"
     ]
    }
   ],
   "source": [
    "documents = []\n",
    "failed = []\n",
    "for paper in tqdm(candidates):\n",
    "    # debug crap\n",
    "    paper['identifier'] = paper['identifier'].lower().replace('arxiv:', '').replace(r'\\n', '').strip()\n",
    "    paper_id = paper['identifier']\n",
    "    \n",
    "    folder = f'tmp_{paper_id}'\n",
    "\n",
    "    try:\n",
    "        if not os.path.isdir(folder):\n",
    "            folder = retrieve_document_source(f\"{paper_id}\", f'tmp_{paper_id}')\n",
    "        \n",
    "        try:\n",
    "            doc = latex.LatexDocument(folder, validation=validation)    \n",
    "        except AffiliationError as affilerror:\n",
    "            msg = f\"ArXiv:{paper_id:s} is not an MPIA paper... \" + str(affilerror)\n",
    "            failed.append((paper, \"affiliation error: \" + str(affilerror) ))\n",
    "            continue\n",
    "        \n",
    "        # Hack because sometimes author parsing does not work well\n",
    "        if (len(doc.authors) != len(paper['authors'])):\n",
    "            doc._authors = paper['authors']\n",
    "        else:\n",
    "            # highlight authors (FIXME: doc.highlight_authors)\n",
    "            # done on arxiv paper already\n",
    "            doc._authors = highlight_authors_in_list(\n",
    "                [get_initials(k) for k in doc.authors], \n",
    "                mpia_authors, verbose=True)\n",
    "        if (doc.abstract) in (None, ''):\n",
    "            doc._abstract = paper['abstract']\n",
    "            \n",
    "        doc.comment = (get_markdown_badge(paper_id) + \n",
    "                       \"<mark>Appeared on: \" + paper['date'] + \"</mark> - \")\n",
    "        if paper['comments']:\n",
    "            doc.comment += \" _\" + paper['comments'] + \"_\"\n",
    "        \n",
    "        full_md = doc.generate_markdown_text()\n",
    "        \n",
    "        full_md += get_markdown_qrcode(paper_id)\n",
    "        \n",
    "        # replace citations\n",
    "        try:\n",
    "            bibdata = latex_bib.LatexBib.from_doc(doc)\n",
    "            full_md = latex_bib.replace_citations(full_md, bibdata)\n",
    "        except Exception as e:\n",
    "            print(\"Issues with the citations\")\n",
    "            print(e)\n",
    "        \n",
    "        documents.append((paper_id, full_md))\n",
    "    except Exception as e:\n",
    "        warnings.warn(latex.LatexWarning(f\"{paper_id:s} did not run properly\\n\" +\n",
    "                                         str(e)\n",
    "                                        ))\n",
    "        failed.append((paper, \"latex error \" + str(e)))"
   ]
  },
  {
   "cell_type": "markdown",
   "id": "2505a25c",
   "metadata": {
    "papermill": {
     "duration": 0.003756,
     "end_time": "2025-08-06T04:38:30.029028",
     "exception": false,
     "start_time": "2025-08-06T04:38:30.025272",
     "status": "completed"
    },
    "tags": []
   },
   "source": [
    "### Export the logs\n",
    "\n",
    "Throughout, we also keep track of the logs per paper. see `logs-{today date}.md` "
   ]
  },
  {
   "cell_type": "code",
   "execution_count": 6,
   "id": "d733828a",
   "metadata": {
    "execution": {
     "iopub.execute_input": "2025-08-06T04:38:30.037289Z",
     "iopub.status.busy": "2025-08-06T04:38:30.037079Z",
     "iopub.status.idle": "2025-08-06T04:38:30.052525Z",
     "shell.execute_reply": "2025-08-06T04:38:30.051959Z"
    },
    "papermill": {
     "duration": 0.020808,
     "end_time": "2025-08-06T04:38:30.053500",
     "exception": false,
     "start_time": "2025-08-06T04:38:30.032692",
     "status": "completed"
    },
    "scrolled": false,
    "tags": []
   },
   "outputs": [
    {
     "data": {
      "text/markdown": [
       "## Successful papers"
      ],
      "text/plain": [
       "<IPython.core.display.Markdown object>"
      ]
     },
     "metadata": {},
     "output_type": "display_data"
    },
    {
     "data": {
      "text/markdown": [
       "\n",
       "|||\n",
       "|---:|:---|\n",
       "| [![arXiv](https://img.shields.io/badge/arXiv-2508.02779-b31b1b.svg)](https://arxiv.org/abs/2508.02779) | **EUCLID: Photometric redshift calibration with self-organising maps**  |\n",
       "|| W. Roster, et al. -- incl., <mark>K. Jahnke</mark> |\n",
       "|*Appeared on*| *2025-08-06*|\n",
       "|*Comments*| *20 pages, 16 figures*|\n",
       "|**Abstract**|            The Euclid survey aims to trace the evolution of cosmic structures up to redshift $z$ $\\sim$ 3 and beyond. Its success depends critically on obtaining highly accurate mean redshifts for ensembles of galaxies $n(z)$ in all tomographic bins, essential for deriving robust cosmological constraints. However, photometric redshifts (photo-$z$s) suffer from systematic biases arising from various sources of uncertainty. To address these challenges, we utilised self-organising maps (SOMs) with mock samples resembling the Euclid Wide Survey (EWS), to validate Euclid's uncertainty requirement of $|\\Delta\\langle z \\rangle| = \\langle z_{\\text{est}} \\rangle - \\langle z \\rangle \\leq 0.002 (1+z)$ per tomographic bin, assuming DR3-level data. We observe that defining the redshift tomography using the mean spectroscopic redshift (spec-$z$) per SOM cell, results in none of the ten tomographic redshift bins satisfying the requirement. In contrast, the redshift tomography on the photo-$z$s of the EWS-like sample yields superior results, with eight out of ten bins [$0 < z\\leq 2.5$] meeting the Euclid requirement. To enhance the realism of our study, we morph our calibration sample to mimic the C3R2 survey in incremental steps. In this context, a maximum of six out of ten bins meet the requirement, strongly advocating the adoption of a redshift tomography defined by the photo-$z$s of individual galaxies rather than the commonly used mean spec-$z$ of SOM cells. To examine the impact on the expected biases for $\\Omega_{\\text{m}}$, $\\sigma_{8}$, and $\\Delta w_{0}$ measured by Euclid, we perform a Fisher forecast for cosmic shear only, based on our redshift uncertainties. Here, we find that even under an evaluation of the uncertainty where the impact of the redshift bias is substantial, most absolute biases remain below 0.1$\\sigma$ in the idealised scenario and below 0.3$\\sigma$ in the more realistic case.         |"
      ],
      "text/plain": [
       "[2508.02779] EUCLID: Photometric redshift calibration with self-organising maps\n",
       "\tW. Roster, et al. -- incl., <mark>K. Jahnke</mark>"
      ]
     },
     "metadata": {},
     "output_type": "display_data"
    },
    {
     "data": {
      "text/markdown": [
       "\n",
       "|||\n",
       "|---:|:---|\n",
       "| [![arXiv](https://img.shields.io/badge/arXiv-2508.03229-b31b1b.svg)](https://arxiv.org/abs/2508.03229) | **The ALMA-QUARKS Survey: III. Clump-to-core fragmentation and search for high-mass starless cores**  |\n",
       "|| D. Yang, et al. -- incl., <mark>P. Garcia</mark> |\n",
       "|*Appeared on*| *2025-08-06*|\n",
       "|*Comments*| *30 pages, 16 figures, accepted by ApJS*|\n",
       "|**Abstract**|            The Querying Underlying mechanisms of massive star formation with ALMA-Resolved gas Kinematics and Structures (QUARKS) survey observed 139 infrared-bright (IR-bright) massive protoclusters at 1.3 mm wavelength with ALMA. This study investigates clump-to-core fragmentation and searches for candidate high-mass starless cores within IR-bright clumps using combined ALMA 12-m (C-2) and Atacama Compact Array (ACA) 7-m data, providing $\\sim$ 1 arcsec ($\\sim\\rm0.02~pc$ at 3.7 kpc) resolution and $\\sim\\rm0.6\\,mJy\\,beam^{-1}$ continuum sensitivity ($\\sim 0.3~M_{\\odot}$ at 30 K). We identified 1562 compact cores from 1.3 mm continuum emission using getsf. Observed linear core separations ($\\lambda_{\\rm obs}$) are significantly less than the thermal Jeans length ($\\lambda_{\\rm J}$), with the $\\lambda_{\\rm obs}/\\lambda_{\\rm J}$ ratios peaking at $\\sim0.2$. This indicates that thermal Jeans fragmentation has taken place within the IR-bright protocluster clumps studied here. The observed low ratio of $\\lambda_{\\rm obs}/\\lambda_{\\rm J}\\ll 1$ could be the result of evolving core separation or hierarchical fragmentation. Based on associated signatures of star formation (e.g., outflows and ionized gas), we classified cores into three categories: 127 starless, 971 warm, and 464 evolved cores. Two starless cores have mass exceeding 16$\\,M_{\\odot}$, and represent high-mass candidates. The scarcity of such candidates suggests that competitive accretion-type models could be more applicable than turbulent core accretion-type models in high-mass star formation within these IR-bright protocluster clumps.         |"
      ],
      "text/plain": [
       "[2508.03229] The ALMA-QUARKS Survey: III. Clump-to-core fragmentation and search for high-mass starless cores\n",
       "\tD. Yang, et al. -- incl., <mark>P. Garcia</mark>"
      ]
     },
     "metadata": {},
     "output_type": "display_data"
    },
    {
     "data": {
      "text/markdown": [
       "## Failed papers"
      ],
      "text/plain": [
       "<IPython.core.display.Markdown object>"
      ]
     },
     "metadata": {},
     "output_type": "display_data"
    },
    {
     "data": {
      "text/markdown": [
       "\n",
       "|||\n",
       "|---:|:---|\n",
       "| [![arXiv](https://img.shields.io/badge/arXiv-2508.02782-b31b1b.svg)](https://arxiv.org/abs/2508.02782) | **Validation of TESS Planet Candidates with Multi-Color Transit Photometry and TRICERATOPS+**  |\n",
       "|| J. G. Barrientos, et al. -- incl., <mark>I. J. M. Crossfield</mark> |\n",
       "|*Appeared on*| *2025-08-06*|\n",
       "|*Comments*| *26 pages, 7 Figures, accepted for publication in AJ*|\n",
       "|**Abstract**|            We present an upgraded version of TRICERATOPS, a software package designed to calculate false positive probabilities for planet candidates identified by the Transiting Exoplanet Survey Satellite (TESS). This enhanced framework now incorporates ground-based light curves in separate bandpasses, which are routinely obtained as part of the candidate vetting process. We apply this upgraded framework to explore the planetary nature of 14 TESS planet candidates, combining primarily J band light curves acquired with the 200-inch Hale Telescope at Palomar Observatory with complementary archival observations from the Las Cumbres Observatory Global Telescope (LCOGT), the Fred Lawrence Whipple Observatory (FLWO), and the Teide Observatory, along with existing TESS data and contrast curves from high-resolution imaging. As a result of this analysis we statistically validate (False Positive Probability < 1.5% and Nearby False Positive Probability < 0.1%) six new planets in five systems: TOI-1346 b, TOI-1346 c, TOI-2719 b, TOI-4155 b, TOI-6000 b, and TOI-6324 b. For these systems, we provide updated estimates of their stellar and planetary properties derived from the TESS and ground-based observations. These new systems contain planets with radii between 0.9-6 Re and orbital periods between 0.3-5.5 days. Finally, we use our upgraded version of TRICERATOPS to quantify the relative importance of multi-wavelength transit photometry and high-resolution imaging for exoplanet candidate validation, and discuss which kinds of candidates typically benefit the most from ground-based multi-color transit observations.         |\n",
       "|<p style=\"color:green\"> **ERROR** </p>| <p style=\"color:green\">affiliation error: mpia.affiliation_verifications: 'Heidelberg' keyword not found.</p> |"
      ],
      "text/plain": [
       "<IPython.core.display.Markdown object>"
      ]
     },
     "metadata": {},
     "output_type": "display_data"
    },
    {
     "data": {
      "text/markdown": [
       "\n",
       "|||\n",
       "|---:|:---|\n",
       "| [![arXiv](https://img.shields.io/badge/arXiv-2508.03019-b31b1b.svg)](https://arxiv.org/abs/2508.03019) | **Spectroscopic ages for 4 million main-sequence dwarf stars from LAMOST DR10 estimated with data-driven approach**  |\n",
       "|| J.-H. Wang, et al. -- incl., <mark>M. Zhang</mark>, <mark>J. Liu</mark> |\n",
       "|*Appeared on*| *2025-08-06*|\n",
       "|*Comments*| *Accepted for publication in ApJS*|\n",
       "|**Abstract**|            Stellar age determination for large samples of stars opens new avenues for a broad range of astronomical sciences. While precise stellar ages for evolved stars have been derived from large ground- and space-based stellar surveys, reliable age determination for cool main-sequence dwarf stars remains a challenge. In this work, we set out to estimate the age of dwarf stars from the LAMOST spectra with a data-driven approach. We build a training set by using wide binaries that the primary component has reliable isochrone age estimate thus gives the age of the secondary. This training set is further supplemented with field stars and cluster stars whose ages are known. We then train a data-driven model for inferring age from their spectra with the XGBoost algorithm. Given a spectral signal-to-noise ratio greater than 50, the age estimation precise to 10% to 25% for K-type stars, as younger stars have larger relative errors. Validations suggest that the underlying information used for our age estimation is largely attributed to the LAMOST spectral features of chemical abundances. It means our result is a manifestation of stellar chemical clock effectively acted on LAMOST spectra ($R\\simeq1800$). Applying our model to the LAMOST DR10 yields a massive age catalog for $\\sim4$ million dwarf stars. Statistical properties, such as the age distribution, age-abundance and age-stellar activity relations of the sample stars are discussed. The catalog is publicly accessible and can be helpful for extensive sciences from detection and characterization of Earth-like planets to Galactic archaeology.         |\n",
       "|<p style=\"color:green\"> **ERROR** </p>| <p style=\"color:green\">affiliation error: mpia.affiliation_verifications: 'Heidelberg' keyword not found.</p> |"
      ],
      "text/plain": [
       "<IPython.core.display.Markdown object>"
      ]
     },
     "metadata": {},
     "output_type": "display_data"
    },
    {
     "data": {
      "text/markdown": [
       "\n",
       "|||\n",
       "|---:|:---|\n",
       "| [![arXiv](https://img.shields.io/badge/arXiv-2508.03291-b31b1b.svg)](https://arxiv.org/abs/2508.03291) | **Investigation on deep learning-based galaxy image translation models**  |\n",
       "|| H. Ruan, et al. -- incl., <mark>Y. Wang</mark> |\n",
       "|*Appeared on*| *2025-08-06*|\n",
       "|*Comments*| *Accepted at A&A; 18+6 pages; 12+6 figures*|\n",
       "|**Abstract**|            Galaxy image translation is an important application in galaxy physics and cosmology. With deep learning-based generative models, image translation has been performed for image generation, data quality enhancement, information extraction, and generalized for other tasks such as deblending and anomaly detection. However, most endeavors on image translation primarily focus on the pixel-level and morphology-level statistics of galaxy images. There is a lack of discussion on the preservation of complex high-order galaxy physical information, which would be more challenging but crucial for studies that rely on high-fidelity image translation. Therefore, we investigated the effectiveness of generative models in preserving high-order physical information (represented by spectroscopic redshift) along with pixel-level and morphology-level information. We tested four representative models, i.e. a Swin Transformer, an SRGAN, a capsule network, and a diffusion model, using the SDSS and CFHTLS galaxy images. We found that these models show different levels of incapabilities in retaining redshift information, even if the global structures of galaxies and morphology-level statistics can be roughly reproduced. In particular, the cross-band peak fluxes of galaxies were found to contain meaningful redshift information, whereas they are subject to noticeable uncertainties in the translation of images, which may substantially be due to the nature of many-to-many mapping. Nonetheless, imperfect translated images may still contain a considerable amount of information and thus hold promise for downstream applications for which high image fidelity is not strongly required. Our work can facilitate further research on how complex physical information is manifested on galaxy images, and it provides implications on the development of image translation models for scientific use.         |\n",
       "|<p style=\"color:green\"> **ERROR** </p>| <p style=\"color:green\">affiliation error: mpia.affiliation_verifications: 'Heidelberg' keyword not found.</p> |"
      ],
      "text/plain": [
       "<IPython.core.display.Markdown object>"
      ]
     },
     "metadata": {},
     "output_type": "display_data"
    }
   ],
   "source": [
    "import datetime\n",
    "today = str(datetime.date.today())\n",
    "logfile = f\"_build/html/logs/log-{today}.md\"\n",
    "\n",
    "\n",
    "with open(logfile, 'w') as logs:\n",
    "    # Success\n",
    "    logs.write(f'# Arxiv on Deck 2: Logs - {today}\\n\\n')\n",
    "    logs.write(\"\"\"* Arxiv had {0:,d} new papers\\n\"\"\".format(len(new_papers)))\n",
    "    logs.write(\"\"\"    * {0:,d} with possible author matches\\n\\n\"\"\".format(len(candidates)))\n",
    "    logs.write(\"## Sucessful papers\\n\\n\")\n",
    "    display(Markdown(\"## Successful papers\"))\n",
    "    success = [k[0] for k in documents]\n",
    "    for candid in candidates:\n",
    "        if candid['identifier'].split(':')[-1] in success:\n",
    "            display(candid)\n",
    "            logs.write(candid.generate_markdown_text() + '\\n\\n')\n",
    "\n",
    "    ## failed\n",
    "    logs.write(\"## Failed papers\\n\\n\")\n",
    "    display(Markdown(\"## Failed papers\"))\n",
    "    failed = sorted(failed, key=lambda x: x[1])\n",
    "    current_reason = \"\"\n",
    "    for paper, reason in failed:\n",
    "        if 'affiliation' in reason:\n",
    "            color = 'green'\n",
    "        else:\n",
    "            color = 'red'\n",
    "        data = Markdown(\n",
    "                paper.generate_markdown_text() + \n",
    "                f'\\n|<p style=\"color:{color:s}\"> **ERROR** </p>| <p style=\"color:{color:s}\">{reason:s}</p> |'\n",
    "               )\n",
    "        if reason != current_reason:\n",
    "            logs.write(f'### {reason:s} \\n\\n')\n",
    "            current_reason = reason\n",
    "        logs.write(data.data + '\\n\\n')\n",
    "        \n",
    "        # only display here the important errors (all in logs)\n",
    "        # if color in ('red',):\n",
    "        display(data)"
   ]
  },
  {
   "cell_type": "markdown",
   "id": "472d20ee",
   "metadata": {
    "papermill": {
     "duration": 0.004351,
     "end_time": "2025-08-06T04:38:30.062775",
     "exception": false,
     "start_time": "2025-08-06T04:38:30.058424",
     "status": "completed"
    },
    "tags": []
   },
   "source": [
    "## Export documents\n",
    "\n",
    "We now write the .md files and export relevant images"
   ]
  },
  {
   "cell_type": "code",
   "execution_count": 7,
   "id": "d426aed9",
   "metadata": {
    "execution": {
     "iopub.execute_input": "2025-08-06T04:38:30.072182Z",
     "iopub.status.busy": "2025-08-06T04:38:30.071926Z",
     "iopub.status.idle": "2025-08-06T04:38:30.078722Z",
     "shell.execute_reply": "2025-08-06T04:38:30.078174Z"
    },
    "papermill": {
     "duration": 0.012552,
     "end_time": "2025-08-06T04:38:30.079674",
     "exception": false,
     "start_time": "2025-08-06T04:38:30.067122",
     "status": "completed"
    },
    "tags": []
   },
   "outputs": [],
   "source": [
    "def export_markdown_summary(md: str, md_fname:str, directory: str):\n",
    "    \"\"\"Export MD document and associated relevant images\"\"\"\n",
    "    import os\n",
    "    import shutil\n",
    "    import re\n",
    "\n",
    "    if (os.path.exists(directory) and not os.path.isdir(directory)):\n",
    "        raise RuntimeError(f\"a non-directory file exists with name {directory:s}\")\n",
    "\n",
    "    if (not os.path.exists(directory)):\n",
    "        print(f\"creating directory {directory:s}\")\n",
    "        os.mkdir(directory)\n",
    "\n",
    "    fig_fnames = (re.compile(r'\\[Fig.*\\]\\((.*)\\)').findall(md) + \n",
    "                  re.compile(r'\\<img src=\"([^>\\s]*)\"[^>]*/>').findall(md))\n",
    "    print(\"found figures\", fig_fnames)\n",
    "    for fname in fig_fnames:\n",
    "        if 'http' in fname:\n",
    "            # No need to copy online figures\n",
    "            continue\n",
    "        if not os.path.exists(fname):\n",
    "            print(\"file not found\", fname)\n",
    "            continue\n",
    "        print(\"copying \", fname, \"to\", directory)\n",
    "        destdir = os.path.join(directory, os.path.dirname(fname))\n",
    "        destfname = os.path.join(destdir, os.path.basename(fname))\n",
    "        try:\n",
    "            os.makedirs(destdir)\n",
    "        except FileExistsError:\n",
    "            pass\n",
    "        shutil.copy(fname, destfname)\n",
    "    with open(os.path.join(directory, md_fname), 'w') as fout:\n",
    "        fout.write(md)\n",
    "    print(\"exported in \", os.path.join(directory, md_fname))\n",
    "    [print(\"    + \" + os.path.join(directory,fk)) for fk in fig_fnames]"
   ]
  },
  {
   "cell_type": "code",
   "execution_count": 8,
   "id": "014d04a4",
   "metadata": {
    "execution": {
     "iopub.execute_input": "2025-08-06T04:38:30.089261Z",
     "iopub.status.busy": "2025-08-06T04:38:30.089028Z",
     "iopub.status.idle": "2025-08-06T04:38:30.096617Z",
     "shell.execute_reply": "2025-08-06T04:38:30.095981Z"
    },
    "papermill": {
     "duration": 0.013521,
     "end_time": "2025-08-06T04:38:30.097621",
     "exception": false,
     "start_time": "2025-08-06T04:38:30.084100",
     "status": "completed"
    },
    "tags": []
   },
   "outputs": [
    {
     "name": "stdout",
     "output_type": "stream",
     "text": [
      "found figures ['tmp_2508.02779/./vio_SOM_cell_tomo.png', 'tmp_2508.02779/./cshift.png', 'tmp_2508.02779/./Flowchart.png']\n",
      "copying  tmp_2508.02779/./vio_SOM_cell_tomo.png to _build/html/\n",
      "copying  tmp_2508.02779/./cshift.png to _build/html/\n",
      "copying  tmp_2508.02779/./Flowchart.png to _build/html/\n",
      "exported in  _build/html/2508.02779.md\n",
      "    + _build/html/tmp_2508.02779/./vio_SOM_cell_tomo.png\n",
      "    + _build/html/tmp_2508.02779/./cshift.png\n",
      "    + _build/html/tmp_2508.02779/./Flowchart.png\n",
      "found figures ['tmp_2508.03229/./flowchart1.png', 'tmp_2508.03229/./continuum.png', 'tmp_2508.03229/./Jeans_Separation.png']\n",
      "copying  tmp_2508.03229/./flowchart1.png to _build/html/\n",
      "copying  tmp_2508.03229/./continuum.png to _build/html/\n",
      "copying  tmp_2508.03229/./Jeans_Separation.png to _build/html/\n",
      "exported in  _build/html/2508.03229.md\n",
      "    + _build/html/tmp_2508.03229/./flowchart1.png\n",
      "    + _build/html/tmp_2508.03229/./continuum.png\n",
      "    + _build/html/tmp_2508.03229/./Jeans_Separation.png\n"
     ]
    }
   ],
   "source": [
    "for paper_id, md in documents:\n",
    "    export_markdown_summary(md, f\"{paper_id:s}.md\", '_build/html/')"
   ]
  },
  {
   "cell_type": "markdown",
   "id": "f087a0a7",
   "metadata": {
    "papermill": {
     "duration": 0.0044,
     "end_time": "2025-08-06T04:38:30.106548",
     "exception": false,
     "start_time": "2025-08-06T04:38:30.102148",
     "status": "completed"
    },
    "tags": []
   },
   "source": [
    "## Display the papers\n",
    "\n",
    "Not necessary but allows for a quick check."
   ]
  },
  {
   "cell_type": "code",
   "execution_count": 9,
   "id": "fd25f625",
   "metadata": {
    "execution": {
     "iopub.execute_input": "2025-08-06T04:38:30.116170Z",
     "iopub.status.busy": "2025-08-06T04:38:30.115987Z",
     "iopub.status.idle": "2025-08-06T04:38:30.121556Z",
     "shell.execute_reply": "2025-08-06T04:38:30.120900Z"
    },
    "papermill": {
     "duration": 0.011561,
     "end_time": "2025-08-06T04:38:30.122605",
     "exception": false,
     "start_time": "2025-08-06T04:38:30.111044",
     "status": "completed"
    },
    "scrolled": false,
    "tags": []
   },
   "outputs": [
    {
     "data": {
      "text/markdown": [
       "<div class=\"macros\" style=\"visibility:hidden;\">\n",
       "$\\newcommand{\\ensuremath}{}$\n",
       "$\\newcommand{\\xspace}{}$\n",
       "$\\newcommand{\\object}[1]{\\texttt{#1}}$\n",
       "$\\newcommand{\\farcs}{{.}''}$\n",
       "$\\newcommand{\\farcm}{{.}'}$\n",
       "$\\newcommand{\\arcsec}{''}$\n",
       "$\\newcommand{\\arcmin}{'}$\n",
       "$\\newcommand{\\ion}[2]{#1#2}$\n",
       "$\\newcommand{\\textsc}[1]{\\textrm{#1}}$\n",
       "$\\newcommand{\\hl}[1]{\\textrm{#1}}$\n",
       "$\\newcommand{\\footnote}[1]{}$\n",
       "$\\newcommand{\\orcid}[1]$\n",
       "$\\newcommand{\\arraystretch}{1.1}$\n",
       "$\\newcommand{\\arraystretch}{1.0}$</div>\n",
       "\n",
       "\n",
       "\n",
       "<div id=\"title\">\n",
       "\n",
       "# $\\Euclid$ \\/: Photometric redshift calibration with \\ self-organising maps$\\thanks{This paper is published on     behalf of the Euclid Consortium}$\n",
       "\n",
       "</div>\n",
       "<div id=\"comments\">\n",
       "\n",
       "[![arXiv](https://img.shields.io/badge/arXiv-2508.02779-b31b1b.svg)](https://arxiv.org/abs/2508.02779)<mark>Appeared on: 2025-08-06</mark> -  _20 pages, 16 figures_\n",
       "\n",
       "</div>\n",
       "<div id=\"authors\">\n",
       "\n",
       "W. Roster, et al. -- incl., <mark>K. Jahnke</mark>\n",
       "\n",
       "</div>\n",
       "<div id=\"abstract\">\n",
       "\n",
       "**Abstract:** The $\\Euclid$ large-scale weak-lensing survey aims to trace the evolution of cosmic structures up to redshift $z$ $\\sim$ 3 and beyond. Its success depends critically on obtaining highly accurate mean redshifts for ensembles of galaxies $n(z)$ in all tomographic bins, essential for deriving robust cosmological constraints. However, photometric redshifts (photo- $z$ s) suffer from systematic biases, arising from various sources of uncertainty and dominated by selection effects of the spectroscopic sample used for calibration. To address these challenges, we utilised self-organising maps (SOMs) with mock samples resembling the Euclid Wide Survey (EWS) from the Flagship2 simulation, to validate $\\Euclid$ 's uncertainty requirement of $|\\Delta\\langle z \\rangle| = \\langle z_{\\text{est}} \\rangle - \\langle z \\rangle \\leq 0.002 (1+z)$ per tomographic bin, assuming DR3-level data. Consequently, we identify the most effective galaxy selection for our tomographic bins, while systematically examining the implementation of quality control cuts to reduce sources of uncertainty. In particular, we observe that defining the redshift tomography using the mean spectroscopic redshift (spec- $z$ ) per SOM cell, results in none of the ten tomographic redshift bins satisfying the requirement. In contrast, the redshift tomography on the photo- $z$ s of the EWS-like sample yields superior results, with eight out of ten bins [ $0 < z\\leq 2.5$ ] meeting the $\\Euclid$ requirement. To enhance the realism of our study, we morph our calibration sample to mimic the C3R2 survey in incremental steps. In this context, a maximum of six out of ten bins meet the requirement, strongly advocating the adoption of a redshift tomography defined by the photo- $z$ s of individual galaxies rather than the commonly used mean spec- $z$ of SOM cells. To examine the impact on the expected biases for $\\Omega_{\\text{m}}$ , $\\sigma_{8}$ , and $\\Delta w_{0}$ measured by $\\Euclid$ , we perform a Fisher forecast for cosmic shear only, based on our redshift uncertainties. Here, we find that even under an evaluation of the uncertainty where the impact of the redshift bias is substantial, most absolute biases remain below 0.1 $\\sigma$ in the idealised scenario and below 0.3 $\\sigma$ in the more realistic case.\n",
       "\n",
       "</div>\n",
       "\n",
       "<div id=\"div_fig1\">\n",
       "\n",
       "<img src=\"tmp_2508.02779/./vio_SOM_cell_tomo.png\" alt=\"Fig12\" width=\"100%\"/>\n",
       "\n",
       "**Figure 12. -** Violin plot of biases per bin using tomography defined by SOM spec-$z$ before (red) and after (blue) applying QC. These distributions also include box-and-whisker plots. Lastly, the dynamic ($\\Delta\\langle z \\rangle$) < 0.002(1+$z$) \\Euclid requirement are given by grey shaded area. (*fig:6.10*)\n",
       "\n",
       "</div>\n",
       "<div id=\"div_fig2\">\n",
       "\n",
       "<img src=\"tmp_2508.02779/./cshift.png\" alt=\"Fig2\" width=\"100%\"/>\n",
       "\n",
       "**Figure 2. -** *Top*: Mean spec-$z$ distributions for the validation and calibration sample subject to a non-trivial selection function. The respective distributions are also depicted for a single SOM cell chosen at random. *Bottom*: Display of the distributions found for the same randomly selected cell after applying photo-$z$ binning. (*fig:2.02*)\n",
       "\n",
       "</div>\n",
       "<div id=\"div_fig3\">\n",
       "\n",
       "<img src=\"tmp_2508.02779/./Flowchart.png\" alt=\"Fig5\" width=\"100%\"/>\n",
       "\n",
       "**Figure 5. -** Flowchart outlining the sequential process of utilising noiseless SOMs to create a set of calibration samples, which are then used to train a secondary set of SOMs using noisy photometric data. Lastly, the trained noisy SOMs are populated by the EWS-like data. (*fig:4.1.1*)\n",
       "\n",
       "</div><div id=\"qrcode\"><img src=https://api.qrserver.com/v1/create-qr-code/?size=100x100&data=\"https://arxiv.org/abs/2508.02779\"></div>"
      ],
      "text/plain": [
       "<IPython.core.display.Markdown object>"
      ]
     },
     "metadata": {},
     "output_type": "display_data"
    },
    {
     "data": {
      "text/markdown": [
       "<div class=\"macros\" style=\"visibility:hidden;\">\n",
       "$\\newcommand{\\ensuremath}{}$\n",
       "$\\newcommand{\\xspace}{}$\n",
       "$\\newcommand{\\object}[1]{\\texttt{#1}}$\n",
       "$\\newcommand{\\farcs}{{.}''}$\n",
       "$\\newcommand{\\farcm}{{.}'}$\n",
       "$\\newcommand{\\arcsec}{''}$\n",
       "$\\newcommand{\\arcmin}{'}$\n",
       "$\\newcommand{\\ion}[2]{#1#2}$\n",
       "$\\newcommand{\\textsc}[1]{\\textrm{#1}}$\n",
       "$\\newcommand{\\hl}[1]{\\textrm{#1}}$\n",
       "$\\newcommand{\\footnote}[1]{}$\n",
       "$\\newcommand{\\vdag}{(v)^\\dagger}$\n",
       "$\\newcommand$\n",
       "$\\newcommand$\n",
       "$\\newcommand{\\arcm}{\\hbox{^\\prime}}$\n",
       "$\\newcommand{\\etal}{{\\rm et al.}\\thinspace}$\n",
       "$\\newcommand{\\eg}{{\\it e.g. }}$\n",
       "$\\newcommand{\\etc}{{\\it etc. }}$\n",
       "$\\newcommand{\\ie}{{\\it i.e. }}$\n",
       "$\\newcommand{\\cf}{{\\it c.f. }}$\n",
       "$\\newcommand{◦ee}{\\hbox{^\\circ}}$\n",
       "$\\newcommand{\\NHH}{\\ensuremath{N_{\\mathrm{H_{2}}}}}$\n",
       "$\\newcommand{\\s}{\\ensuremath{\\mbox{~s}}}$\n",
       "$\\newcommand{\\ps}{\\ensuremath{\\s^{-1}}}$\n",
       "$\\newcommand{\\cm}{\\ensuremath{\\mbox{~cm}}}$\n",
       "$\\newcommand{\\pcmsq}{\\ensuremath{\\cm^{-2}}}$\n",
       "$\\newcommand{\\pcmcu}{\\ensuremath{\\cm^{-3}}}$\n",
       "$\\newcommand{\\km}{\\ensuremath{\\mbox{~km}}}$\n",
       "$\\newcommand{\\erg}{\\ensuremath{\\mbox{~erg}}}$\n",
       "$\\newcommand{\\ergps}{\\ensuremath{\\erg \\ps}}$\n",
       "$\\newcommand{\\mJy}{\\ensuremath{\\mbox{~mJy}}}$\n",
       "$\\newcommand{\\ML}{\\ensuremath{\\mbox{\\Msol/\\LBsol}}}$\n",
       "$\\newcommand{\\Hi}{H\\textsc{i}}$\n",
       "$\\newcommand{\\Hii}{H\\textsc{ii}}$\n",
       "$\\newcommand{\\Ha}{\\ensuremath{\\mathrm{H\\alpha}}}$\n",
       "$\\newcommand{\\nh}{\\ensuremath{\\mathrm{n}_\\mathrm{H}}}$\n",
       "$\\newcommand{\\Mdot}{\\ensuremath{\\dot{\\mathrm{M}}}}$\n",
       "$\\newcommand{\\thco}{^{13}CO}$\n",
       "$\\newcommand{\\twco}{^{12}CO}$\n",
       "$\\newcommand{\\etco}{C^{18}O}$\n",
       "$\\newcommand{\\vel}{km s^{-1}}$\n",
       "$\\newcommand{\\filAname}{G350.5-N}$\n",
       "$\\newcommand{\\filBname}{G350.5-S}$\n",
       "$\\newcommand{\\imcoor}{\\alpha_{2000}=17^{\\mathrm{h}}18^{\\mathrm{m}}13\\fs84, \\delta_{2000}=-36◦28\\arcmin21\\farcs5}$\n",
       "$\\newcommand{\\her}{Herschel}$\n",
       "$\\newcommand{\\mline}{M_{\\rm line}}$\n",
       "$\\newcommand{\\msun}{M_{\\odot}}$\n",
       "$\\newcommand{\\lsun}{L_{\\odot}}$\n",
       "$\\newcommand{\\um}{\\mum}$\n",
       "$\\newcommand{\\cmcm}{cm^{-2}}$\n",
       "$\\newcommand{\\egcite}{\\citep[e.g.,][]}$\n",
       "$\\newcommand{\\lmsun}{M_{\\odot}~pc^{-1}}$\n",
       "$\\newcommand{\\chiiioh}{CH_3OH}$\n",
       "$\\newcommand{\\hciiin}{HC_3N}$\n",
       "$\\newcommand{\\hcop}{HCO^{+}}$\n",
       "$\\newcommand{\\htcop}{H^{13}CO^{+}}$\n",
       "$\\newcommand{\\halpha}{H40_{\\alpha}}$\n",
       "$\\newcommand{\\chthocho}{CH_3OCHO}$\n",
       "$\\newcommand{\\chthcho}{CH_3CHO}$\n",
       "$\\newcommand{\\chthoh}{CH_3OH}$\n",
       "$\\newcommand{\\chii}{H/UC-H\\textsc{ii}}$\n",
       "$\\newcommand{\\uchii}{UC-H\\textsc{ii}}$\n",
       "$\\newcommand{\\hchii}{HC-H\\textsc{ii}}$\n",
       "$\\newcommand{\\hii}{H\\textsc{ii}}$\n",
       "$\\newcommand{\\CHMC}{s-cHMC}$\n",
       "$\\newcommand{\\PCHMC}{w-cHMC}$\n",
       "$\\newcommand{\\filname}{G34}$\n",
       "$\\newcommand{\\mdotyr}{M_{\\odot}~yr^{-1}}$\n",
       "$\\newcommand{\\tred}{\\textcolor{red}}$\n",
       "$\\newcommand{\\tblue}{\\textcolor{blue}}$\n",
       "$\\newcommand{\\torange}{\\textcolor{orange}}$\n",
       "$\\newcommand{\\orcidauthorHL}{0000-0003-3343-9645}$\n",
       "$\\newcommand{\\mgt}{\\color{magenta}}$\n",
       "$\\newcommand{\\arraystretch}{1.8}$\n",
       "$\\newcommand{\\arraystretch}{1.8}$\n",
       "$\\newcommand\\aj{{\\rm{AJ}}}$\n",
       "$\\newcommand\\araa{{\\rm{ARA\\&A}}}$\n",
       "$\\newcommand\\apj{{\\rm{ApJ}}}$\n",
       "$\\newcommand\\icarus{{\\rm{Icarus}}}$\n",
       "$\\newcommand\\apjs{{\\rm{ApJS}}}$\n",
       "$\\newcommand\\apjl{{\\rm{ApJL}}}$\n",
       "$\\newcommand\\apss{{\\rm{Ap\\&SS}}}$\n",
       "$\\newcommand\\aap{{\\rm{A\\&A}}}$\n",
       "$\\newcommand\\aapr{{\\rm{A\\&AR}}}$\n",
       "$\\newcommand\\aaps{{\\rm{A\\&AS}}}$\n",
       "$\\newcommand\\baas{{\\rm{BAAS}}}$\n",
       "$\\newcommand\\memras{{\\rm{MmRAS}}}$\n",
       "$\\newcommand\\mnras{{\\rm{MNRAS}}}$\n",
       "$\\newcommand\\pasp{{\\rm{PASP}}}$\n",
       "$\\newcommand\\prl{{\\rm{Phys. Rev. Lett.}}}$\n",
       "$\\newcommand\\jqsrt{{\\rm{Journal of Quantitative Spectroscopy and Radiative$\n",
       "$Transfer}}}$\n",
       "$\\newcommand\\actaa{{\\rm{Acta Astronomica}}}$</div>\n",
       "\n",
       "\n",
       "\n",
       "<div id=\"title\">\n",
       "\n",
       "# $\\bf$ The ALMA-QUARKS Survey: III. Clump-to-core fragmentation and search for high-mass starless cores\n",
       "\n",
       "</div>\n",
       "<div id=\"comments\">\n",
       "\n",
       "[![arXiv](https://img.shields.io/badge/arXiv-2508.03229-b31b1b.svg)](https://arxiv.org/abs/2508.03229)<mark>Appeared on: 2025-08-06</mark> -  _30 pages, 16 figures, accepted by ApJS_\n",
       "\n",
       "</div>\n",
       "<div id=\"authors\">\n",
       "\n",
       "D. Yang, et al.\n",
       "\n",
       "</div>\n",
       "<div id=\"abstract\">\n",
       "\n",
       "**Abstract:** The Querying Underlying mechanisms of massive star formation with ALMA-Resolved gas Kinematics and Structures (QUARKS) survey observed 139 infrared-bright (IR-bright) massive protoclusters at 1.3 mm wavelength with ALMA. This study investigates clump-to-core fragmentation and searches for candidate high-mass starless cores within IR-bright clumps using combined ALMA 12-m (C-2) and Atacama Compact Array (ACA) 7-m data, providing $\\sim$ 1 $\\arcsec$ ( $\\sim\\rm0.02$ pc at 3.7 kpc) resolution and $\\sim\\rm0.6 mJy beam^{-1}$ continuum sensitivity ( $\\sim 0.3 $ $\\msun$ at 30 K). We identified 1562 compact cores from 1.3 mm continuum emission using $_ getsf_$ . Observed linear core separations ( $\\lambda_{\\rm obs}$ ) are significantly less than the thermal Jeans length ( $\\lambda_{\\rm J}$ ), with the $\\lambda_{\\rm obs}/\\lambda_{\\rm J}$ ratios peaking at $\\sim0.2$ . This indicates that thermal Jeans fragmentation has taken place within the IR-bright protocluster clumps studied here. The observed low ratio of $\\lambda_{\\rm obs}/\\lambda_{\\rm J}\\ll 1$ could be the result of evolving core separation or hierarchical fragmentation. Based on associated signatures of star formation (e.g., outflows and ionized gas), we classified cores into three categories: 127 starless, 971 warm, and 464 evolved cores. Two starless cores have mass exceeding 16 $\\msun$ , and represent high-mass candidates. The scarcity of such candidates suggests that competitive accretion-type models could be more applicable than turbulent core accretion-type models in high-mass star formation within these IR-bright protocluster clumps.\n",
       "\n",
       "</div>\n",
       "\n",
       "<div id=\"div_fig1\">\n",
       "\n",
       "<img src=\"tmp_2508.03229/./flowchart1.png\" alt=\"Fig1\" width=\"100%\"/>\n",
       "\n",
       "**Figure 1. -** Flow chart for ALMA-QUARKS ACA and TM2 combined data reduction.\n",
       "    The elliptical boxes denote the raw data and the final reduced data. The rectangle indicates a specific processing step, while the parallelogram does an intermediate product during the data reduction. (*fig:flowchat*)\n",
       "\n",
       "</div>\n",
       "<div id=\"div_fig2\">\n",
       "\n",
       "<img src=\"tmp_2508.03229/./continuum.png\" alt=\"Fig10\" width=\"100%\"/>\n",
       "\n",
       "**Figure 10. -** Comparison of ATOMS 3 mm and QUARKS 1.3 mm continuum images for two protocluster clumps. The black dashed circle in each panel defines the field of view of the QUARKS survey. Left panels (a, c): ATOMS 3 mm continuum emission. The dashed contour levels are [3, 6, 12, 24, 48, 96] rms, with $\\rm rms$\\s$im 1.4$ and $\\rm $\\s$im 0.4 mJy beam^{-1}$ for I17271-3439 and I17244-3536, respectively. Red contours correspond to integrated emission of the $\\rm H40\\alpha$ recombination line representative of ionized gas from the ATOMS survey, with rms $\\sim\\rm 0.2$ and $\\sim \\rm 0.1 Jy beam^{-1} km s^{-1}$ for I17271-3439 and I17244-3536, respectively.\n",
       "    Right panels (b, d): QUARKS TM2+ACA 1.3 mm continuum emission. The contour levels are the same as in left panels, but with $\\rm rms $\\s$im 2.1$ and $\\sim \\rm 0.4 mJy beam^{-1}$ for I17271-3439 and I17244-3536, respectively.\n",
       "    The cross symbols correspond to the cores extracted from 1.3mm continuum emission using the _ getsf_ algorithm, where black markers denote those detected by the algorithm at a configuration with a minimum source size employing the beam size, while red markers correspond to relatively faint cores detected at the other configuration employing half-beam.\n",
       "    The beam sizes of ATOMS and QUARKS TM2+ACA continuum emission are shown on the lower left, and the 0.1 pc scale bar is on the upper right of each panel. (*fig:mst*)\n",
       "\n",
       "</div>\n",
       "<div id=\"div_fig3\">\n",
       "\n",
       "<img src=\"tmp_2508.03229/./Jeans_Separation.png\" alt=\"Fig4\" width=\"100%\"/>\n",
       "\n",
       "**Figure 4. -** Distribution of the ratio between the observed core separation to the predicted thermal Jeans length. The black dashed line shows the peak of the distribution. The red contour represents the distribution with the spatial projection correction applied (see text).\n",
       "     (*fig:Jeans_sep*)\n",
       "\n",
       "</div><div id=\"qrcode\"><img src=https://api.qrserver.com/v1/create-qr-code/?size=100x100&data=\"https://arxiv.org/abs/2508.03229\"></div>"
      ],
      "text/plain": [
       "<IPython.core.display.Markdown object>"
      ]
     },
     "metadata": {},
     "output_type": "display_data"
    }
   ],
   "source": [
    "[display(Markdown(k[1])) for k in documents];"
   ]
  },
  {
   "cell_type": "markdown",
   "id": "873873a4",
   "metadata": {
    "papermill": {
     "duration": 0.004866,
     "end_time": "2025-08-06T04:38:30.132592",
     "exception": false,
     "start_time": "2025-08-06T04:38:30.127726",
     "status": "completed"
    },
    "tags": []
   },
   "source": [
    "# Create HTML index"
   ]
  },
  {
   "cell_type": "code",
   "execution_count": 10,
   "id": "cf665672",
   "metadata": {
    "execution": {
     "iopub.execute_input": "2025-08-06T04:38:30.143044Z",
     "iopub.status.busy": "2025-08-06T04:38:30.142824Z",
     "iopub.status.idle": "2025-08-06T04:38:30.149787Z",
     "shell.execute_reply": "2025-08-06T04:38:30.149239Z"
    },
    "papermill": {
     "duration": 0.013259,
     "end_time": "2025-08-06T04:38:30.150738",
     "exception": false,
     "start_time": "2025-08-06T04:38:30.137479",
     "status": "completed"
    },
    "tags": []
   },
   "outputs": [
    {
     "name": "stdout",
     "output_type": "stream",
     "text": [
      "135  publications files modified in the last 7 days.\n"
     ]
    }
   ],
   "source": [
    "from datetime import datetime, timedelta, timezone\n",
    "from glob import glob\n",
    "import os\n",
    "\n",
    "files = glob('_build/html/*.md')\n",
    "days = 7\n",
    "now = datetime.today()\n",
    "res = []\n",
    "for fk in files:\n",
    "    stat_result = os.stat(fk).st_ctime\n",
    "    modified = datetime.fromtimestamp(stat_result, tz=timezone.utc).replace(tzinfo=None)\n",
    "    delta = now.today() - modified\n",
    "    if delta <= timedelta(days=days):\n",
    "        res.append((delta.seconds, fk))\n",
    "res = [k[1] for k in reversed(sorted(res, key=lambda x:x[1]))]\n",
    "npub = len(res)\n",
    "print(len(res), f\" publications files modified in the last {days:d} days.\")\n",
    "# [ print('\\t', k) for k in res ];"
   ]
  },
  {
   "cell_type": "code",
   "execution_count": 11,
   "id": "015de740",
   "metadata": {
    "execution": {
     "iopub.execute_input": "2025-08-06T04:38:30.161423Z",
     "iopub.status.busy": "2025-08-06T04:38:30.161247Z",
     "iopub.status.idle": "2025-08-06T04:38:30.173324Z",
     "shell.execute_reply": "2025-08-06T04:38:30.172673Z"
    },
    "papermill": {
     "duration": 0.018469,
     "end_time": "2025-08-06T04:38:30.174289",
     "exception": false,
     "start_time": "2025-08-06T04:38:30.155820",
     "status": "completed"
    },
    "tags": []
   },
   "outputs": [
    {
     "name": "stdout",
     "output_type": "stream",
     "text": [
      "8  publications in the last 7 days.\n"
     ]
    }
   ],
   "source": [
    "import datetime\n",
    "from glob import glob\n",
    "\n",
    "def get_last_n_days(lst, days=1):\n",
    "    \"\"\" Get the documents from the last n days \"\"\"\n",
    "    sorted_lst = sorted(lst, key=lambda x: x[1], reverse=True)\n",
    "    for fname, date in sorted_lst:\n",
    "        if date >= str(datetime.date.today() - datetime.timedelta(days=days)):\n",
    "            yield fname\n",
    "\n",
    "def extract_appearance_dates(lst_file):\n",
    "    dates = []\n",
    "\n",
    "    def get_date(line):\n",
    "        return line\\\n",
    "            .split('Appeared on:')[-1]\\\n",
    "            .split('</mark>')[0].strip()\n",
    "\n",
    "    for fname in lst:\n",
    "        with open(fname, 'r') as f:\n",
    "            found_date = False\n",
    "            for line in f:\n",
    "                if not found_date:\n",
    "                    if \"Appeared on\" in line:\n",
    "                        found_date = True\n",
    "                        dates.append((fname, get_date(line)))\n",
    "                else:\n",
    "                    break\n",
    "    return dates\n",
    "\n",
    "from glob import glob\n",
    "lst = glob('_build/html/*md')\n",
    "days = 7\n",
    "dates = extract_appearance_dates(lst)\n",
    "res = list(get_last_n_days(dates, days))\n",
    "npub = len(res)\n",
    "print(len(res), f\" publications in the last {days:d} days.\")"
   ]
  },
  {
   "cell_type": "code",
   "execution_count": 12,
   "id": "52ca0208",
   "metadata": {
    "execution": {
     "iopub.execute_input": "2025-08-06T04:38:30.185111Z",
     "iopub.status.busy": "2025-08-06T04:38:30.184901Z",
     "iopub.status.idle": "2025-08-06T04:38:30.189575Z",
     "shell.execute_reply": "2025-08-06T04:38:30.189041Z"
    },
    "papermill": {
     "duration": 0.011185,
     "end_time": "2025-08-06T04:38:30.190563",
     "exception": false,
     "start_time": "2025-08-06T04:38:30.179378",
     "status": "completed"
    },
    "scrolled": false,
    "tags": []
   },
   "outputs": [],
   "source": [
    "def create_carousel(npub=4):\n",
    "    \"\"\" Generate the HTML code for a carousel with `npub` slides \"\"\"\n",
    "    carousel = [\"\"\"  <div class=\"carousel\" \"\"\",\n",
    "                \"\"\"       data-flickity='{ \"autoPlay\": 10000, \"adaptiveHeight\": true, \"resize\": true, \"wrapAround\": true, \"pauseAutoPlayOnHover\": true, \"groupCells\": 1 }' id=\"asyncTypeset\">\"\"\"\n",
    "                ]\n",
    "    \n",
    "    item_str = \"\"\"    <div class=\"carousel-cell\"> <div id=\"slide{k}\" class=\"md_view\">Content {k}</div> </div>\"\"\"\n",
    "    for k in range(1, npub + 1):\n",
    "        carousel.append(item_str.format(k=k))\n",
    "    carousel.append(\"  </div>\")\n",
    "    return '\\n'.join(carousel)\n",
    "\n",
    "def create_grid(npub=4):\n",
    "    \"\"\" Generate the HTML code for a flat grid with `npub` slides \"\"\"\n",
    "    grid = [\"\"\"  <div class=\"grid\"> \"\"\",\n",
    "                ]\n",
    "    \n",
    "    item_str = \"\"\"    <div class=\"grid-item\"> <div id=\"slide{k}\" class=\"md_view\">Content {k}</div> </div>\"\"\"\n",
    "    for k in range(1, npub + 1):\n",
    "        grid.append(item_str.format(k=k))\n",
    "    grid.append(\"  </div>\")\n",
    "    return '\\n'.join(grid)"
   ]
  },
  {
   "cell_type": "code",
   "execution_count": 13,
   "id": "a6eac5b6",
   "metadata": {
    "execution": {
     "iopub.execute_input": "2025-08-06T04:38:30.201413Z",
     "iopub.status.busy": "2025-08-06T04:38:30.201238Z",
     "iopub.status.idle": "2025-08-06T04:38:30.205897Z",
     "shell.execute_reply": "2025-08-06T04:38:30.205376Z"
    },
    "papermill": {
     "duration": 0.011138,
     "end_time": "2025-08-06T04:38:30.206864",
     "exception": false,
     "start_time": "2025-08-06T04:38:30.195726",
     "status": "completed"
    },
    "scrolled": false,
    "tags": []
   },
   "outputs": [],
   "source": [
    "carousel = create_carousel(npub)\n",
    "docs = ', '.join(['\"{0:s}\"'.format(k.split('/')[-1]) for k in res])\n",
    "slides = ', '.join([f'\"slide{k}\"' for k in range(1, npub + 1)])\n",
    "\n",
    "with open(\"daily_template.html\", \"r\") as tpl:\n",
    "    page = tpl.read()\n",
    "    page = page.replace(\"{%-- carousel:s --%}\", carousel)\\\n",
    "               .replace(\"{%-- suptitle:s --%}\",  \"7-day archives\" )\\\n",
    "               .replace(\"{%-- docs:s --%}\", docs)\\\n",
    "               .replace(\"{%-- slides:s --%}\", slides)\n",
    "    \n",
    "with open(\"_build/html/index_7days.html\", 'w') as fout:\n",
    "    fout.write(page)"
   ]
  },
  {
   "cell_type": "code",
   "execution_count": 14,
   "id": "adc1a1ec",
   "metadata": {
    "execution": {
     "iopub.execute_input": "2025-08-06T04:38:30.217773Z",
     "iopub.status.busy": "2025-08-06T04:38:30.217597Z",
     "iopub.status.idle": "2025-08-06T04:38:30.223517Z",
     "shell.execute_reply": "2025-08-06T04:38:30.222851Z"
    },
    "papermill": {
     "duration": 0.012459,
     "end_time": "2025-08-06T04:38:30.224460",
     "exception": false,
     "start_time": "2025-08-06T04:38:30.212001",
     "status": "completed"
    },
    "tags": []
   },
   "outputs": [
    {
     "name": "stdout",
     "output_type": "stream",
     "text": [
      "4  publications in the last day.\n"
     ]
    }
   ],
   "source": [
    "# redo for today\n",
    "days = 1\n",
    "res = list(get_last_n_days(dates, days))\n",
    "npub = len(res)\n",
    "print(len(res), f\" publications in the last day.\")\n",
    "\n",
    "carousel = create_carousel(npub)\n",
    "docs = ', '.join(['\"{0:s}\"'.format(k.split('/')[-1]) for k in res])\n",
    "slides = ', '.join([f'\"slide{k}\"' for k in range(1, npub + 1)])\n",
    "\n",
    "with open(\"daily_template.html\", \"r\") as tpl:\n",
    "    page = tpl.read()\n",
    "    page = page.replace(\"{%-- carousel:s --%}\", carousel)\\\n",
    "               .replace(\"{%-- suptitle:s --%}\",  \"Daily\" )\\\n",
    "               .replace(\"{%-- docs:s --%}\", docs)\\\n",
    "               .replace(\"{%-- slides:s --%}\", slides)\n",
    "    \n",
    "# print(carousel, docs, slides)\n",
    "# print(page)\n",
    "with open(\"_build/html/index_daily.html\", 'w') as fout:\n",
    "    fout.write(page)"
   ]
  },
  {
   "cell_type": "code",
   "execution_count": 15,
   "id": "00eece82",
   "metadata": {
    "execution": {
     "iopub.execute_input": "2025-08-06T04:38:30.235863Z",
     "iopub.status.busy": "2025-08-06T04:38:30.235660Z",
     "iopub.status.idle": "2025-08-06T04:38:30.241637Z",
     "shell.execute_reply": "2025-08-06T04:38:30.241132Z"
    },
    "papermill": {
     "duration": 0.012744,
     "end_time": "2025-08-06T04:38:30.242581",
     "exception": false,
     "start_time": "2025-08-06T04:38:30.229837",
     "status": "completed"
    },
    "scrolled": false,
    "tags": []
   },
   "outputs": [
    {
     "name": "stdout",
     "output_type": "stream",
     "text": [
      "6  6 publications selected.\n"
     ]
    }
   ],
   "source": [
    "# Create the flat grid of the last N papers (fixed number regardless of dates)\n",
    "from itertools import islice \n",
    "\n",
    "npub = 6\n",
    "res = [k[0] for k in (islice(reversed(sorted(dates, key=lambda x: x[1])), 6))]\n",
    "print(len(res), f\" {npub} publications selected.\")\n",
    "\n",
    "grid = create_grid(npub)\n",
    "docs = ', '.join(['\"{0:s}\"'.format(k.split('/')[-1]) for k in res])\n",
    "slides = ', '.join([f'\"slide{k}\"' for k in range(1, npub + 1)])\n",
    "\n",
    "with open(\"grid_template.html\", \"r\") as tpl:\n",
    "    page = tpl.read()\n",
    "    page = page.replace(\"{%-- grid-content:s --%}\", grid)\\\n",
    "               .replace(\"{%-- suptitle:s --%}\",  f\"Last {npub:,d} papers\" )\\\n",
    "               .replace(\"{%-- docs:s --%}\", docs)\\\n",
    "               .replace(\"{%-- slides:s --%}\", slides)\n",
    "    \n",
    "# print(grid, docs, slides)\n",
    "# print(page)\n",
    "with open(\"_build/html/index_npub_grid.html\", 'w') as fout:\n",
    "    fout.write(page)"
   ]
  }
 ],
 "metadata": {
  "kernelspec": {
   "display_name": "Python 3 (ipykernel)",
   "language": "python",
   "name": "python3"
  },
  "language_info": {
   "codemirror_mode": {
    "name": "ipython",
    "version": 3
   },
   "file_extension": ".py",
   "mimetype": "text/x-python",
   "name": "python",
   "nbconvert_exporter": "python",
   "pygments_lexer": "ipython3",
   "version": "3.9.23"
  },
  "papermill": {
   "default_parameters": {},
   "duration": 96.976348,
   "end_time": "2025-08-06T04:38:30.463747",
   "environment_variables": {},
   "exception": null,
   "input_path": "MPIA daily digest.ipynb",
   "output_path": "log.ipynb",
   "parameters": {},
   "start_time": "2025-08-06T04:36:53.487399",
   "version": "2.6.0"
  },
  "vscode": {
   "interpreter": {
    "hash": "aee8b7b246df8f9039afb4144a1f6fd8d2ca17a180786b69acc140d282b71a49"
   }
  },
  "widgets": {
   "application/vnd.jupyter.widget-state+json": {
    "state": {
     "0b73f05e92f842bd917801413d3425df": {
      "model_module": "@jupyter-widgets/controls",
      "model_module_version": "2.0.0",
      "model_name": "ProgressStyleModel",
      "state": {
       "_model_module": "@jupyter-widgets/controls",
       "_model_module_version": "2.0.0",
       "_model_name": "ProgressStyleModel",
       "_view_count": null,
       "_view_module": "@jupyter-widgets/base",
       "_view_module_version": "2.0.0",
       "_view_name": "StyleView",
       "bar_color": null,
       "description_width": ""
      }
     },
     "4de37743f26d4349bebdbf458a64d292": {
      "model_module": "@jupyter-widgets/controls",
      "model_module_version": "2.0.0",
      "model_name": "HTMLModel",
      "state": {
       "_dom_classes": [],
       "_model_module": "@jupyter-widgets/controls",
       "_model_module_version": "2.0.0",
       "_model_name": "HTMLModel",
       "_view_count": null,
       "_view_module": "@jupyter-widgets/controls",
       "_view_module_version": "2.0.0",
       "_view_name": "HTMLView",
       "description": "",
       "description_allow_html": false,
       "layout": "IPY_MODEL_82e13a93999442d9bafe97a70e805eb7",
       "placeholder": "​",
       "style": "IPY_MODEL_a7b22c1181004a0fb7d12121ab1b254d",
       "tabbable": null,
       "tooltip": null,
       "value": "100%"
      }
     },
     "5c123e4f123b4961bc342130e0d479bf": {
      "model_module": "@jupyter-widgets/controls",
      "model_module_version": "2.0.0",
      "model_name": "HTMLModel",
      "state": {
       "_dom_classes": [],
       "_model_module": "@jupyter-widgets/controls",
       "_model_module_version": "2.0.0",
       "_model_name": "HTMLModel",
       "_view_count": null,
       "_view_module": "@jupyter-widgets/controls",
       "_view_module_version": "2.0.0",
       "_view_name": "HTMLView",
       "description": "",
       "description_allow_html": false,
       "layout": "IPY_MODEL_8357c55c357f4a9699d126e020284be4",
       "placeholder": "​",
       "style": "IPY_MODEL_c14dc583fa9b498a9ecd0571c5a365a4",
       "tabbable": null,
       "tooltip": null,
       "value": " 5/5 [01:13&lt;00:00, 13.58s/it]"
      }
     },
     "64707a943c404354a9c8d6721f878256": {
      "model_module": "@jupyter-widgets/controls",
      "model_module_version": "2.0.0",
      "model_name": "FloatProgressModel",
      "state": {
       "_dom_classes": [],
       "_model_module": "@jupyter-widgets/controls",
       "_model_module_version": "2.0.0",
       "_model_name": "FloatProgressModel",
       "_view_count": null,
       "_view_module": "@jupyter-widgets/controls",
       "_view_module_version": "2.0.0",
       "_view_name": "ProgressView",
       "bar_style": "success",
       "description": "",
       "description_allow_html": false,
       "layout": "IPY_MODEL_f32e920b12e94c509201f508bce4c162",
       "max": 5.0,
       "min": 0.0,
       "orientation": "horizontal",
       "style": "IPY_MODEL_0b73f05e92f842bd917801413d3425df",
       "tabbable": null,
       "tooltip": null,
       "value": 5.0
      }
     },
     "82e13a93999442d9bafe97a70e805eb7": {
      "model_module": "@jupyter-widgets/base",
      "model_module_version": "2.0.0",
      "model_name": "LayoutModel",
      "state": {
       "_model_module": "@jupyter-widgets/base",
       "_model_module_version": "2.0.0",
       "_model_name": "LayoutModel",
       "_view_count": null,
       "_view_module": "@jupyter-widgets/base",
       "_view_module_version": "2.0.0",
       "_view_name": "LayoutView",
       "align_content": null,
       "align_items": null,
       "align_self": null,
       "border_bottom": null,
       "border_left": null,
       "border_right": null,
       "border_top": null,
       "bottom": null,
       "display": null,
       "flex": null,
       "flex_flow": null,
       "grid_area": null,
       "grid_auto_columns": null,
       "grid_auto_flow": null,
       "grid_auto_rows": null,
       "grid_column": null,
       "grid_gap": null,
       "grid_row": null,
       "grid_template_areas": null,
       "grid_template_columns": null,
       "grid_template_rows": null,
       "height": null,
       "justify_content": null,
       "justify_items": null,
       "left": null,
       "margin": null,
       "max_height": null,
       "max_width": null,
       "min_height": null,
       "min_width": null,
       "object_fit": null,
       "object_position": null,
       "order": null,
       "overflow": null,
       "padding": null,
       "right": null,
       "top": null,
       "visibility": null,
       "width": null
      }
     },
     "8357c55c357f4a9699d126e020284be4": {
      "model_module": "@jupyter-widgets/base",
      "model_module_version": "2.0.0",
      "model_name": "LayoutModel",
      "state": {
       "_model_module": "@jupyter-widgets/base",
       "_model_module_version": "2.0.0",
       "_model_name": "LayoutModel",
       "_view_count": null,
       "_view_module": "@jupyter-widgets/base",
       "_view_module_version": "2.0.0",
       "_view_name": "LayoutView",
       "align_content": null,
       "align_items": null,
       "align_self": null,
       "border_bottom": null,
       "border_left": null,
       "border_right": null,
       "border_top": null,
       "bottom": null,
       "display": null,
       "flex": null,
       "flex_flow": null,
       "grid_area": null,
       "grid_auto_columns": null,
       "grid_auto_flow": null,
       "grid_auto_rows": null,
       "grid_column": null,
       "grid_gap": null,
       "grid_row": null,
       "grid_template_areas": null,
       "grid_template_columns": null,
       "grid_template_rows": null,
       "height": null,
       "justify_content": null,
       "justify_items": null,
       "left": null,
       "margin": null,
       "max_height": null,
       "max_width": null,
       "min_height": null,
       "min_width": null,
       "object_fit": null,
       "object_position": null,
       "order": null,
       "overflow": null,
       "padding": null,
       "right": null,
       "top": null,
       "visibility": null,
       "width": null
      }
     },
     "a7b22c1181004a0fb7d12121ab1b254d": {
      "model_module": "@jupyter-widgets/controls",
      "model_module_version": "2.0.0",
      "model_name": "HTMLStyleModel",
      "state": {
       "_model_module": "@jupyter-widgets/controls",
       "_model_module_version": "2.0.0",
       "_model_name": "HTMLStyleModel",
       "_view_count": null,
       "_view_module": "@jupyter-widgets/base",
       "_view_module_version": "2.0.0",
       "_view_name": "StyleView",
       "background": null,
       "description_width": "",
       "font_size": null,
       "text_color": null
      }
     },
     "c14dc583fa9b498a9ecd0571c5a365a4": {
      "model_module": "@jupyter-widgets/controls",
      "model_module_version": "2.0.0",
      "model_name": "HTMLStyleModel",
      "state": {
       "_model_module": "@jupyter-widgets/controls",
       "_model_module_version": "2.0.0",
       "_model_name": "HTMLStyleModel",
       "_view_count": null,
       "_view_module": "@jupyter-widgets/base",
       "_view_module_version": "2.0.0",
       "_view_name": "StyleView",
       "background": null,
       "description_width": "",
       "font_size": null,
       "text_color": null
      }
     },
     "d8d969a728244ebab3c150f93dec2c34": {
      "model_module": "@jupyter-widgets/base",
      "model_module_version": "2.0.0",
      "model_name": "LayoutModel",
      "state": {
       "_model_module": "@jupyter-widgets/base",
       "_model_module_version": "2.0.0",
       "_model_name": "LayoutModel",
       "_view_count": null,
       "_view_module": "@jupyter-widgets/base",
       "_view_module_version": "2.0.0",
       "_view_name": "LayoutView",
       "align_content": null,
       "align_items": null,
       "align_self": null,
       "border_bottom": null,
       "border_left": null,
       "border_right": null,
       "border_top": null,
       "bottom": null,
       "display": null,
       "flex": null,
       "flex_flow": null,
       "grid_area": null,
       "grid_auto_columns": null,
       "grid_auto_flow": null,
       "grid_auto_rows": null,
       "grid_column": null,
       "grid_gap": null,
       "grid_row": null,
       "grid_template_areas": null,
       "grid_template_columns": null,
       "grid_template_rows": null,
       "height": null,
       "justify_content": null,
       "justify_items": null,
       "left": null,
       "margin": null,
       "max_height": null,
       "max_width": null,
       "min_height": null,
       "min_width": null,
       "object_fit": null,
       "object_position": null,
       "order": null,
       "overflow": null,
       "padding": null,
       "right": null,
       "top": null,
       "visibility": null,
       "width": null
      }
     },
     "d98fa4c2ec084b478c1887a12bd023b4": {
      "model_module": "@jupyter-widgets/controls",
      "model_module_version": "2.0.0",
      "model_name": "HBoxModel",
      "state": {
       "_dom_classes": [],
       "_model_module": "@jupyter-widgets/controls",
       "_model_module_version": "2.0.0",
       "_model_name": "HBoxModel",
       "_view_count": null,
       "_view_module": "@jupyter-widgets/controls",
       "_view_module_version": "2.0.0",
       "_view_name": "HBoxView",
       "box_style": "",
       "children": [
        "IPY_MODEL_4de37743f26d4349bebdbf458a64d292",
        "IPY_MODEL_64707a943c404354a9c8d6721f878256",
        "IPY_MODEL_5c123e4f123b4961bc342130e0d479bf"
       ],
       "layout": "IPY_MODEL_d8d969a728244ebab3c150f93dec2c34",
       "tabbable": null,
       "tooltip": null
      }
     },
     "f32e920b12e94c509201f508bce4c162": {
      "model_module": "@jupyter-widgets/base",
      "model_module_version": "2.0.0",
      "model_name": "LayoutModel",
      "state": {
       "_model_module": "@jupyter-widgets/base",
       "_model_module_version": "2.0.0",
       "_model_name": "LayoutModel",
       "_view_count": null,
       "_view_module": "@jupyter-widgets/base",
       "_view_module_version": "2.0.0",
       "_view_name": "LayoutView",
       "align_content": null,
       "align_items": null,
       "align_self": null,
       "border_bottom": null,
       "border_left": null,
       "border_right": null,
       "border_top": null,
       "bottom": null,
       "display": null,
       "flex": null,
       "flex_flow": null,
       "grid_area": null,
       "grid_auto_columns": null,
       "grid_auto_flow": null,
       "grid_auto_rows": null,
       "grid_column": null,
       "grid_gap": null,
       "grid_row": null,
       "grid_template_areas": null,
       "grid_template_columns": null,
       "grid_template_rows": null,
       "height": null,
       "justify_content": null,
       "justify_items": null,
       "left": null,
       "margin": null,
       "max_height": null,
       "max_width": null,
       "min_height": null,
       "min_width": null,
       "object_fit": null,
       "object_position": null,
       "order": null,
       "overflow": null,
       "padding": null,
       "right": null,
       "top": null,
       "visibility": null,
       "width": null
      }
     }
    },
    "version_major": 2,
    "version_minor": 0
   }
  }
 },
 "nbformat": 4,
 "nbformat_minor": 5
}