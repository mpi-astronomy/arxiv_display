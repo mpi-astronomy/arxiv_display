{
 "cells": [
  {
   "cell_type": "markdown",
   "id": "92bcb855",
   "metadata": {
    "papermill": {
     "duration": 0.003715,
     "end_time": "2025-04-02T04:12:11.961021",
     "exception": false,
     "start_time": "2025-04-02T04:12:11.957306",
     "status": "completed"
    },
    "tags": []
   },
   "source": [
    "# MPIA Arxiv on Deck 2\n",
    "\n",
    "Contains the steps to produce the paper extractions."
   ]
  },
  {
   "cell_type": "code",
   "execution_count": 1,
   "id": "3a0d6e11",
   "metadata": {
    "execution": {
     "iopub.execute_input": "2025-04-02T04:12:11.968405Z",
     "iopub.status.busy": "2025-04-02T04:12:11.967932Z",
     "iopub.status.idle": "2025-04-02T04:12:12.476918Z",
     "shell.execute_reply": "2025-04-02T04:12:12.476260Z"
    },
    "papermill": {
     "duration": 0.513844,
     "end_time": "2025-04-02T04:12:12.478190",
     "exception": false,
     "start_time": "2025-04-02T04:12:11.964346",
     "status": "completed"
    },
    "tags": []
   },
   "outputs": [],
   "source": [
    "# Imports\n",
    "import os\n",
    "from IPython.display import Markdown, display\n",
    "from tqdm.notebook import tqdm\n",
    "import warnings\n",
    "from PIL import Image \n",
    "import re\n",
    "\n",
    "# requires arxiv_on_deck_2\n",
    "\n",
    "from arxiv_on_deck_2.arxiv2 import (get_new_papers, \n",
    "                                    get_paper_from_identifier,\n",
    "                                    retrieve_document_source, \n",
    "                                    get_markdown_badge)\n",
    "from arxiv_on_deck_2 import (latex,\n",
    "                             latex_bib,\n",
    "                             mpia,\n",
    "                             highlight_authors_in_list)\n",
    "\n",
    "# Sometimes images are really big\n",
    "Image.MAX_IMAGE_PIXELS = 1000000000 "
   ]
  },
  {
   "cell_type": "code",
   "execution_count": 2,
   "id": "22aa9d44",
   "metadata": {
    "execution": {
     "iopub.execute_input": "2025-04-02T04:12:12.485845Z",
     "iopub.status.busy": "2025-04-02T04:12:12.485197Z",
     "iopub.status.idle": "2025-04-02T04:12:12.493438Z",
     "shell.execute_reply": "2025-04-02T04:12:12.492797Z"
    },
    "papermill": {
     "duration": 0.013044,
     "end_time": "2025-04-02T04:12:12.494529",
     "exception": false,
     "start_time": "2025-04-02T04:12:12.481485",
     "status": "completed"
    },
    "tags": []
   },
   "outputs": [],
   "source": [
    "# Some useful definitions.\n",
    "\n",
    "class AffiliationWarning(UserWarning):\n",
    "    pass\n",
    "\n",
    "class AffiliationError(RuntimeError):\n",
    "    pass\n",
    "\n",
    "def validation(source: str):\n",
    "    \"\"\"Raises error paper during parsing of source file\n",
    "    \n",
    "    Allows checks before parsing TeX code.\n",
    "    \n",
    "    Raises AffiliationWarning\n",
    "    \"\"\"\n",
    "    check = mpia.affiliation_verifications(source, verbose=True)\n",
    "    if check is not True:\n",
    "        raise AffiliationError(\"mpia.affiliation_verifications: \" + check)\n",
    "\n",
    "        \n",
    "warnings.simplefilter('always', AffiliationWarning)\n",
    "\n",
    "\n",
    "def get_markdown_qrcode(paper_id: str):\n",
    "    \"\"\" Generate a qrcode to the arxiv page using qrserver.com\n",
    "    \n",
    "    :param paper: Arxiv paper\n",
    "    :returns: markdown text\n",
    "    \"\"\"\n",
    "    url = r\"https://api.qrserver.com/v1/create-qr-code/?size=100x100&data=\"\n",
    "    txt = f\"\"\"<img src={url}\"https://arxiv.org/abs/{paper_id}\">\"\"\"\n",
    "    txt = '<div id=\"qrcode\">' + txt + '</div>'\n",
    "    return txt\n",
    "\n",
    "\n",
    "def clean_non_western_encoded_characters_commands(text: str) -> str:\n",
    "    \"\"\" Remove non-western encoded characters from a string\n",
    "    List may need to grow.\n",
    "    \n",
    "    :param text: the text to clean\n",
    "    :return: the cleaned text\n",
    "    \"\"\"\n",
    "    text = re.sub(r\"(\\\\begin{CJK}{UTF8}{gbsn})(.*?)(\\\\end{CJK})\", r\"\\2\", text)\n",
    "    return text\n",
    "\n",
    "\n",
    "def get_initials(name: str) -> str:\n",
    "    \"\"\" Get the short name, e.g., A.-B. FamName\n",
    "    :param name: full name\n",
    "    :returns: initials\n",
    "    \"\"\"\n",
    "    initials = []\n",
    "    # account for non western names often in ()\n",
    "    if '(' in name:\n",
    "        name = clean_non_western_encoded_characters_commands(name)\n",
    "        suffix = re.findall(r\"\\((.*?)\\)\", name)[0]\n",
    "        name = name.replace(f\"({suffix})\", '')\n",
    "    else:\n",
    "        suffix = ''\n",
    "    split = name.split()\n",
    "    for token in split[:-1]:\n",
    "        if '-' in token:\n",
    "            current = '-'.join([k[0] + '.' for k in token.split('-')])\n",
    "        else:\n",
    "            current = token[0] + '.'\n",
    "        initials.append(current)\n",
    "    initials.append(split[-1].strip())\n",
    "    if suffix:\n",
    "        initials.append(f\"({suffix})\")\n",
    "    return ' '.join(initials)"
   ]
  },
  {
   "cell_type": "markdown",
   "id": "14bd6310",
   "metadata": {
    "papermill": {
     "duration": 0.002893,
     "end_time": "2025-04-02T04:12:12.500390",
     "exception": false,
     "start_time": "2025-04-02T04:12:12.497497",
     "status": "completed"
    },
    "tags": []
   },
   "source": [
    "## get list of arxiv paper candidates\n",
    "\n",
    "We use the MPIA mitarbeiter list webpage from mpia.de to get author names\n",
    "We then get all new papers from Arxiv and match authors"
   ]
  },
  {
   "cell_type": "code",
   "execution_count": 3,
   "id": "7ea813a8",
   "metadata": {
    "execution": {
     "iopub.execute_input": "2025-04-02T04:12:12.507236Z",
     "iopub.status.busy": "2025-04-02T04:12:12.506849Z",
     "iopub.status.idle": "2025-04-02T04:12:37.084214Z",
     "shell.execute_reply": "2025-04-02T04:12:37.083608Z"
    },
    "papermill": {
     "duration": 24.58212,
     "end_time": "2025-04-02T04:12:37.085414",
     "exception": false,
     "start_time": "2025-04-02T04:12:12.503294",
     "status": "completed"
    },
    "tags": []
   },
   "outputs": [],
   "source": [
    "# deal with the author list and edge cases of people that cannot be consistent on their name  \n",
    "\n",
    "def filter_non_scientists(name: str) -> bool:\n",
    "    \"\"\" Loose filter on expected authorships\n",
    "\n",
    "    removing IT, administration, technical staff\n",
    "    :param name: name\n",
    "    :returns: False if name is not a scientist\n",
    "    \"\"\"\n",
    "    remove_list = ['Licht', 'Binroth', 'Witzel', 'Jordan',\n",
    "                   'Zähringer', 'Scheerer', 'Hoffmann', 'Düe',\n",
    "                   'Hellmich', 'Enkler-Scharpegge', 'Witte-Nguy',\n",
    "                   'Dehen', 'Beckmann', 'Jager', 'Jäger'\n",
    "                  ]\n",
    "\n",
    "    for k in remove_list:\n",
    "        if k in name:\n",
    "            return False\n",
    "    return True\n",
    "\n",
    "def add_author_to_list(author_list: list) -> list:\n",
    "    \"\"\" Add author to list if not already in list\n",
    "    \n",
    "    :param author: author name\n",
    "    :param author_list: list of authors\n",
    "    :returns: updated list of authors\n",
    "    \"\"\"\n",
    "    add_list = ['T. Henning']\n",
    "\n",
    "    for author in add_list:\n",
    "        if author not in author_list:\n",
    "            author_list.append(author)\n",
    "    return author_list\n",
    "\n",
    "# get list from MPIA website\n",
    "# filter for non-scientists (mpia.get_mpia_mitarbeiter_list() does some filtering)\n",
    "mpia_authors = [k[1] for k in mpia.get_mpia_mitarbeiter_list() if filter_non_scientists(k[1])]\n",
    "# add some missing author because of inconsistencies in their MPIA name and author name on papers\n",
    "mpia_authors = add_author_to_list(mpia_authors)"
   ]
  },
  {
   "cell_type": "code",
   "execution_count": 4,
   "id": "2645e73a",
   "metadata": {
    "execution": {
     "iopub.execute_input": "2025-04-02T04:12:37.093070Z",
     "iopub.status.busy": "2025-04-02T04:12:37.092558Z",
     "iopub.status.idle": "2025-04-02T04:12:37.802566Z",
     "shell.execute_reply": "2025-04-02T04:12:37.801875Z"
    },
    "papermill": {
     "duration": 0.714834,
     "end_time": "2025-04-02T04:12:37.803609",
     "exception": false,
     "start_time": "2025-04-02T04:12:37.088775",
     "status": "completed"
    },
    "tags": []
   },
   "outputs": [
    {
     "name": "stdout",
     "output_type": "stream",
     "text": [
      "K. Lee  ->  K. Lee  |  ['K. Lee']\n",
      "J. Liu  ->  J. Liu  |  ['J. Liu']\n",
      "J. Liu  ->  J. Liu  |  ['J. Liu']\n",
      "T. Henning  ->  T. Henning  |  ['T. Henning']\n",
      "Arxiv has 77 new papers today\n",
      "          4 with possible author matches\n"
     ]
    }
   ],
   "source": [
    "new_papers = get_new_papers()\n",
    "# add manual references\n",
    "add_paper_refs = []\n",
    "new_papers.extend([get_paper_from_identifier(k) for k in add_paper_refs])\n",
    "\n",
    "def robust_call(fn, value, *args, **kwargs):\n",
    "    try:\n",
    "        return fn(value, *args, **kwargs)\n",
    "    except Exception:\n",
    "        return value\n",
    "\n",
    "candidates = []\n",
    "for paperk in new_papers:\n",
    "    # Check author list with their initials\n",
    "    normed_author_list = [robust_call(mpia.get_initials, k) for k in paperk['authors']]\n",
    "    hl_authors = highlight_authors_in_list(normed_author_list, mpia_authors, verbose=True)\n",
    "    matches = [(hl, orig) for hl, orig in zip(hl_authors, paperk['authors']) if 'mark' in hl]\n",
    "    paperk['authors'] = hl_authors\n",
    "    if matches:\n",
    "        # only select paper if an author matched our list\n",
    "        candidates.append(paperk)\n",
    "print(\"\"\"Arxiv has {0:,d} new papers today\"\"\".format(len(new_papers)))        \n",
    "print(\"\"\"          {0:,d} with possible author matches\"\"\".format(len(candidates)))"
   ]
  },
  {
   "cell_type": "markdown",
   "id": "3543b34a",
   "metadata": {
    "papermill": {
     "duration": 0.003105,
     "end_time": "2025-04-02T04:12:37.810235",
     "exception": false,
     "start_time": "2025-04-02T04:12:37.807130",
     "status": "completed"
    },
    "tags": []
   },
   "source": [
    "# Parse sources and generate relevant outputs\n",
    "\n",
    "From the candidates, we do the following steps:\n",
    "* get their tarball from ArXiv (and extract data)\n",
    "* find the main .tex file: find one with \\documentclass{...} (sometimes it's non trivial)\n",
    "* Check affiliations with :func:`validation`, which uses :func:`mpia.affiliation_verifications`\n",
    "* If passing the affiliations: we parse the .tex source\n",
    "   * inject sub-documents into the main (flatten the main document)\n",
    "   * parse structure, extract information (title, abstract, authors, figures...)\n",
    "   * handles `\\graphicspath` if provided\n",
    "* Generate the .md document."
   ]
  },
  {
   "cell_type": "code",
   "execution_count": 5,
   "id": "9576b79e",
   "metadata": {
    "execution": {
     "iopub.execute_input": "2025-04-02T04:12:37.817650Z",
     "iopub.status.busy": "2025-04-02T04:12:37.817215Z",
     "iopub.status.idle": "2025-04-02T04:12:57.747858Z",
     "shell.execute_reply": "2025-04-02T04:12:57.747064Z"
    },
    "papermill": {
     "duration": 19.935627,
     "end_time": "2025-04-02T04:12:57.749018",
     "exception": false,
     "start_time": "2025-04-02T04:12:37.813391",
     "status": "completed"
    },
    "scrolled": false,
    "tags": []
   },
   "outputs": [
    {
     "data": {
      "application/vnd.jupyter.widget-view+json": {
       "model_id": "a5eb2a408757469aa3db9f31ad18072e",
       "version_major": 2,
       "version_minor": 0
      },
      "text/plain": [
       "  0%|          | 0/4 [00:00<?, ?it/s]"
      ]
     },
     "metadata": {},
     "output_type": "display_data"
    },
    {
     "name": "stdout",
     "output_type": "stream",
     "text": [
      "Retrieving document from  https://arxiv.org/e-print/2504.00391\n"
     ]
    },
    {
     "name": "stdout",
     "output_type": "stream",
     "text": [
      "extracting tarball to tmp_2504.00391... done.\n",
      "Retrieving document from  https://arxiv.org/e-print/2504.00501\n"
     ]
    },
    {
     "name": "stdout",
     "output_type": "stream",
     "text": [
      "extracting tarball to tmp_2504.00501... done.\n",
      "Retrieving document from  https://arxiv.org/e-print/2504.00536\n",
      "extracting tarball to tmp_2504.00536... done.\n",
      "Retrieving document from  https://arxiv.org/e-print/2504.00841\n"
     ]
    },
    {
     "name": "stdout",
     "output_type": "stream",
     "text": [
      "extracting tarball to tmp_2504.00841..."
     ]
    },
    {
     "name": "stdout",
     "output_type": "stream",
     "text": [
      " done.\n"
     ]
    },
    {
     "name": "stderr",
     "output_type": "stream",
     "text": [
      "/opt/hostedtoolcache/Python/3.9.21/x64/lib/python3.9/site-packages/arxiv_on_deck_2/latex.py:132: LatexWarning: attempting recovering figure figures/surface_densities.pdf\n",
      "  warnings.warn(LatexWarning(f'attempting recovering figure {image}'))\n",
      "/opt/hostedtoolcache/Python/3.9.21/x64/lib/python3.9/site-packages/arxiv_on_deck_2/latex.py:707: LatexWarning: Could not find graphic \\includegraphics[width=\\textwidth]{figures/surface_densities.pdf}\n",
      "  warnings.warn(LatexWarning(f\"Could not find graphic {k}\"))\n",
      "/opt/hostedtoolcache/Python/3.9.21/x64/lib/python3.9/site-packages/arxiv_on_deck_2/latex.py:132: LatexWarning: attempting recovering figure figures/dust_distribution.pdf\n",
      "  warnings.warn(LatexWarning(f'attempting recovering figure {image}'))\n",
      "/opt/hostedtoolcache/Python/3.9.21/x64/lib/python3.9/site-packages/arxiv_on_deck_2/latex.py:707: LatexWarning: Could not find graphic \\includegraphics[width=\\textwidth]{figures/dust_distribution.pdf}\n",
      "  warnings.warn(LatexWarning(f\"Could not find graphic {k}\"))\n",
      "/opt/hostedtoolcache/Python/3.9.21/x64/lib/python3.9/site-packages/arxiv_on_deck_2/latex.py:132: LatexWarning: attempting recovering figure figures/gas_distribution.pdf\n",
      "  warnings.warn(LatexWarning(f'attempting recovering figure {image}'))\n",
      "/opt/hostedtoolcache/Python/3.9.21/x64/lib/python3.9/site-packages/arxiv_on_deck_2/latex.py:707: LatexWarning: Could not find graphic \\includegraphics[width=\\textwidth]{figures/gas_distribution.pdf}\n",
      "  warnings.warn(LatexWarning(f\"Could not find graphic {k}\"))\n",
      "/opt/hostedtoolcache/Python/3.9.21/x64/lib/python3.9/site-packages/arxiv_on_deck_2/latex.py:132: LatexWarning: attempting recovering figure figures/G0=1E0.pdf\n",
      "  warnings.warn(LatexWarning(f'attempting recovering figure {image}'))\n",
      "/opt/hostedtoolcache/Python/3.9.21/x64/lib/python3.9/site-packages/arxiv_on_deck_2/latex.py:707: LatexWarning: Could not find graphic \\includegraphics[width=\\textwidth]{figures/G0=1E0.pdf}\n",
      "  warnings.warn(LatexWarning(f\"Could not find graphic {k}\"))\n",
      "/opt/hostedtoolcache/Python/3.9.21/x64/lib/python3.9/site-packages/arxiv_on_deck_2/latex.py:132: LatexWarning: attempting recovering figure figures/G0=1E1.pdf\n",
      "  warnings.warn(LatexWarning(f'attempting recovering figure {image}'))\n",
      "/opt/hostedtoolcache/Python/3.9.21/x64/lib/python3.9/site-packages/arxiv_on_deck_2/latex.py:707: LatexWarning: Could not find graphic \\includegraphics[width=\\textwidth]{figures/G0=1E1.pdf}\n",
      "  warnings.warn(LatexWarning(f\"Could not find graphic {k}\"))\n",
      "/opt/hostedtoolcache/Python/3.9.21/x64/lib/python3.9/site-packages/arxiv_on_deck_2/latex.py:132: LatexWarning: attempting recovering figure figures/G0=1E2.pdf\n",
      "  warnings.warn(LatexWarning(f'attempting recovering figure {image}'))\n",
      "/opt/hostedtoolcache/Python/3.9.21/x64/lib/python3.9/site-packages/arxiv_on_deck_2/latex.py:707: LatexWarning: Could not find graphic \\includegraphics[width=\\textwidth]{figures/G0=1E2.pdf}\n",
      "  warnings.warn(LatexWarning(f\"Could not find graphic {k}\"))\n",
      "/opt/hostedtoolcache/Python/3.9.21/x64/lib/python3.9/site-packages/arxiv_on_deck_2/latex.py:132: LatexWarning: attempting recovering figure figures/G0=1E3.pdf\n",
      "  warnings.warn(LatexWarning(f'attempting recovering figure {image}'))\n",
      "/opt/hostedtoolcache/Python/3.9.21/x64/lib/python3.9/site-packages/arxiv_on_deck_2/latex.py:707: LatexWarning: Could not find graphic \\includegraphics[width=\\textwidth]{figures/G0=1E3.pdf}\n",
      "  warnings.warn(LatexWarning(f\"Could not find graphic {k}\"))\n",
      "/opt/hostedtoolcache/Python/3.9.21/x64/lib/python3.9/site-packages/arxiv_on_deck_2/latex.py:132: LatexWarning: attempting recovering figure figures/G0=1E4.pdf\n",
      "  warnings.warn(LatexWarning(f'attempting recovering figure {image}'))\n",
      "/opt/hostedtoolcache/Python/3.9.21/x64/lib/python3.9/site-packages/arxiv_on_deck_2/latex.py:707: LatexWarning: Could not find graphic \\includegraphics[width=\\textwidth]{figures/G0=1E4.pdf}\n",
      "  warnings.warn(LatexWarning(f\"Could not find graphic {k}\"))\n",
      "/opt/hostedtoolcache/Python/3.9.21/x64/lib/python3.9/site-packages/arxiv_on_deck_2/latex.py:132: LatexWarning: attempting recovering figure figures/G0=1E5.pdf\n",
      "  warnings.warn(LatexWarning(f'attempting recovering figure {image}'))\n",
      "/opt/hostedtoolcache/Python/3.9.21/x64/lib/python3.9/site-packages/arxiv_on_deck_2/latex.py:707: LatexWarning: Could not find graphic \\includegraphics[width=\\textwidth]{figures/G0=1E5.pdf}\n",
      "  warnings.warn(LatexWarning(f\"Could not find graphic {k}\"))\n"
     ]
    },
    {
     "name": "stdout",
     "output_type": "stream",
     "text": [
      "Found 123 bibliographic references in tmp_2504.00841/sample631.bbl.\n"
     ]
    }
   ],
   "source": [
    "documents = []\n",
    "failed = []\n",
    "for paper in tqdm(candidates):\n",
    "    # debug crap\n",
    "    paper['identifier'] = paper['identifier'].lower().replace('arxiv:', '').replace(r'\\n', '').strip()\n",
    "    paper_id = paper['identifier']\n",
    "    \n",
    "    folder = f'tmp_{paper_id}'\n",
    "\n",
    "    try:\n",
    "        if not os.path.isdir(folder):\n",
    "            folder = retrieve_document_source(f\"{paper_id}\", f'tmp_{paper_id}')\n",
    "        \n",
    "        try:\n",
    "            doc = latex.LatexDocument(folder, validation=validation)    \n",
    "        except AffiliationError as affilerror:\n",
    "            msg = f\"ArXiv:{paper_id:s} is not an MPIA paper... \" + str(affilerror)\n",
    "            failed.append((paper, \"affiliation error: \" + str(affilerror) ))\n",
    "            continue\n",
    "        \n",
    "        # Hack because sometimes author parsing does not work well\n",
    "        if (len(doc.authors) != len(paper['authors'])):\n",
    "            doc._authors = paper['authors']\n",
    "        else:\n",
    "            # highlight authors (FIXME: doc.highlight_authors)\n",
    "            # done on arxiv paper already\n",
    "            doc._authors = highlight_authors_in_list(\n",
    "                [get_initials(k) for k in doc.authors], \n",
    "                mpia_authors, verbose=True)\n",
    "        if (doc.abstract) in (None, ''):\n",
    "            doc._abstract = paper['abstract']\n",
    "            \n",
    "        doc.comment = (get_markdown_badge(paper_id) + \n",
    "                       \"<mark>Appeared on: \" + paper['date'] + \"</mark> - \")\n",
    "        if paper['comments']:\n",
    "            doc.comment += \" _\" + paper['comments'] + \"_\"\n",
    "        \n",
    "        full_md = doc.generate_markdown_text()\n",
    "        \n",
    "        full_md += get_markdown_qrcode(paper_id)\n",
    "        \n",
    "        # replace citations\n",
    "        try:\n",
    "            bibdata = latex_bib.LatexBib.from_doc(doc)\n",
    "            full_md = latex_bib.replace_citations(full_md, bibdata)\n",
    "        except Exception as e:\n",
    "            print(\"Issues with the citations\")\n",
    "            print(e)\n",
    "        \n",
    "        documents.append((paper_id, full_md))\n",
    "    except Exception as e:\n",
    "        warnings.warn(latex.LatexWarning(f\"{paper_id:s} did not run properly\\n\" +\n",
    "                                         str(e)\n",
    "                                        ))\n",
    "        failed.append((paper, \"latex error \" + str(e)))"
   ]
  },
  {
   "cell_type": "markdown",
   "id": "2505a25c",
   "metadata": {
    "papermill": {
     "duration": 0.003562,
     "end_time": "2025-04-02T04:12:57.756607",
     "exception": false,
     "start_time": "2025-04-02T04:12:57.753045",
     "status": "completed"
    },
    "tags": []
   },
   "source": [
    "### Export the logs\n",
    "\n",
    "Throughout, we also keep track of the logs per paper. see `logs-{today date}.md` "
   ]
  },
  {
   "cell_type": "code",
   "execution_count": 6,
   "id": "d733828a",
   "metadata": {
    "execution": {
     "iopub.execute_input": "2025-04-02T04:12:57.764712Z",
     "iopub.status.busy": "2025-04-02T04:12:57.764507Z",
     "iopub.status.idle": "2025-04-02T04:12:57.779741Z",
     "shell.execute_reply": "2025-04-02T04:12:57.779215Z"
    },
    "papermill": {
     "duration": 0.020523,
     "end_time": "2025-04-02T04:12:57.780696",
     "exception": false,
     "start_time": "2025-04-02T04:12:57.760173",
     "status": "completed"
    },
    "scrolled": false,
    "tags": []
   },
   "outputs": [
    {
     "data": {
      "text/markdown": [
       "## Successful papers"
      ],
      "text/plain": [
       "<IPython.core.display.Markdown object>"
      ]
     },
     "metadata": {},
     "output_type": "display_data"
    },
    {
     "data": {
      "text/markdown": [
       "\n",
       "|||\n",
       "|---:|:---|\n",
       "| [![arXiv](https://img.shields.io/badge/arXiv-2504.00841-b31b1b.svg)](https://arxiv.org/abs/2504.00841) | **XUE. Thermochemical Modeling Suggests a Compact and Gas-Depleted Structure for a Distant, Irradiated Protoplanetary Disk**  |\n",
       "|| B. Portilla-Revelo, et al. -- incl., <mark>T. Henning</mark> |\n",
       "|*Appeared on*| *2025-04-02*|\n",
       "|*Comments*| *20 pages, 7 figures, 3 tables. Accepted for publication in The Astrophysical Journal, March 28, 2025*|\n",
       "|**Abstract**|            Unveiling the physical structure of protoplanetary disk is crucial for interpreting the diversity of the exoplanet population. Until recently, the census of the physical properties of protoplanetary disks probed by mid-infrared observations was limited to the solar neighborhood ($d \\lesssim 250$ pc); however, nearby star-forming regions (SFRs) such as Taurus -- where no O-type stars reside -- are not representative of the environments where the majority of the planet formation occurs in the Galaxy. The James Webb Space Telescope (JWST) now enables observations of disks in distant high-mass SFRs, where strong external Far-Ultraviolet (FUV) radiation is expected to impact those disks. Nevertheless, a detailed characterization of externally irradiated disks is still lacking. We use the thermochemical code ProDiMo to model JWST/MIRI spectroscopy and archival visual/near-infrared photometry aiming to constrain the physical structure of the irradiated disk around the solar-mass star XUE 1 in NGC 6357 ($d \\approx 1690$ pc). Our findings are: (1) Mid-infrared dust emission features are explained by amorphous and crystalline silicates with compositions similar to nearby disks. (2) The molecular features detected with MIRI originate within the first $\\sim 1$ au, consistent with slab models' results. (3) Our model favors a disk truncated at $10$ au with a gas-to-dust ratio of unity in the outskirts. (4) Comparing models of the same disk structure under different irradiation levels, we find that strong external irradiation raises gas temperature tenfold and boosts water abundance beyond $10$ au by a factor of $100$. Our findings suggest the inner disk resists external irradiation, retaining the elements necessary for planet formation.         |"
      ],
      "text/plain": [
       "[2504.00841] XUE. Thermochemical Modeling Suggests a Compact and Gas-Depleted Structure for a Distant, Irradiated Protoplanetary Disk\n",
       "\tB. Portilla-Revelo, et al. -- incl., <mark>T. Henning</mark>"
      ]
     },
     "metadata": {},
     "output_type": "display_data"
    },
    {
     "data": {
      "text/markdown": [
       "## Failed papers"
      ],
      "text/plain": [
       "<IPython.core.display.Markdown object>"
      ]
     },
     "metadata": {},
     "output_type": "display_data"
    },
    {
     "data": {
      "text/markdown": [
       "\n",
       "|||\n",
       "|---:|:---|\n",
       "| [![arXiv](https://img.shields.io/badge/arXiv-2504.00391-b31b1b.svg)](https://arxiv.org/abs/2504.00391) | **Polarization Position Angle Swing and the Rotating Vector Model of Repeating Fast Radio Bursts**  |\n",
       "|| X. Liu, et al. -- incl., <mark>K. Lee</mark> |\n",
       "|*Appeared on*| *2025-04-02*|\n",
       "|*Comments*| *12 pages, 4 figures, submitted*|\n",
       "|**Abstract**|            Fast radio bursts (FRBs), typically highly polarized, usually have a nearly constant polarization position angle (PA) during each burst. Some bursts show significant PA variations, and one of them was claimed to have a PA variation pattern consistent with the prediction of the rotating vector model (RVM) commonly adopted to fit the PA variations in radio pulsars. We systematically study the PA evolution pattern of 1727 bursts from three active repeating FRB sources monitored by the Five-hundred-meter Aperture Spherical Telescope (FAST). We identify 46 bursts whose PA variations are fully consistent with the RVM. However, the inferred geometrical parameters and rotation periods derived from these RVM fitting are inconsistent from each other. This suggests that the magnetosphere of the FRB central engine is constantly distorted by the FRB emitter, and the magnetic configuration is dynamically evolving.         |\n",
       "|<p style=\"color:green\"> **ERROR** </p>| <p style=\"color:green\">affiliation error: mpia.affiliation_verifications: 'Heidelberg' keyword not found.</p> |"
      ],
      "text/plain": [
       "<IPython.core.display.Markdown object>"
      ]
     },
     "metadata": {},
     "output_type": "display_data"
    },
    {
     "data": {
      "text/markdown": [
       "\n",
       "|||\n",
       "|---:|:---|\n",
       "| [![arXiv](https://img.shields.io/badge/arXiv-2504.00501-b31b1b.svg)](https://arxiv.org/abs/2504.00501) | **Flux variations and torque reversals of Cen X-3**  |\n",
       "|| <mark>J. Liu</mark> |\n",
       "|*Appeared on*| *2025-04-02*|\n",
       "|*Comments*| *9 pages, 8 figs, to appear on ApJ*|\n",
       "|**Abstract**|            Cen X-3 is an archetypical X-ray pulsar with strong flux variations and alternating torque reversals, both of which are similar to those of recently discovered pulsating ultra-luminous X-ray sources. We study a low state of Cen X-3 occurred in 2023 lasting for $\\sim100$ days with Chandra and Insight-HXMT observations, supplemented with MAXI and Fermi/GBM data. The Chandra spectrum during the eclipse of Cen X-3 in the low state is very similar to that in the high state, especially, the Fe lines. The HXMT spectrum in the low state shows an enhanced Fe line, so do the MAXI data. The spin-up/spin-down trends of Cen X-3 are not affected by the low states. All these results indicate that the intrinsic emission in the low states is high, and the low states are just apparently low and are dominated by reprocessed emission. We found that the spin-up to spin-down reversals of Cen X-3 take longer time than the spin-down to spin-up reversals, which provides a definite observation test of any possible torque-reversal models. We discuss insights of these results for understanding the pulsating ultra-luminous X-ray sources.         |\n",
       "|<p style=\"color:green\"> **ERROR** </p>| <p style=\"color:green\">affiliation error: mpia.affiliation_verifications: 'Heidelberg' keyword not found.</p> |"
      ],
      "text/plain": [
       "<IPython.core.display.Markdown object>"
      ]
     },
     "metadata": {},
     "output_type": "display_data"
    },
    {
     "data": {
      "text/markdown": [
       "\n",
       "|||\n",
       "|---:|:---|\n",
       "| [![arXiv](https://img.shields.io/badge/arXiv-2504.00536-b31b1b.svg)](https://arxiv.org/abs/2504.00536) | **The dark side of the universe may be more harmonic than we thought**  |\n",
       "|| S. Yan, et al. -- incl., <mark>J. Liu</mark> |\n",
       "|*Appeared on*| *2025-04-02*|\n",
       "|*Comments*| *10 pages, 3 figures*|\n",
       "|**Abstract**|            The standard paradigm of cosmology assumes two distinct dark components, namely the dark energy driving the late-universe acceleration and the dark matter that is responsible for the structure formation. However, the necessity of splitting the dark-side world into two sectors has not been experimentally or theoretically proven. It is shown in Wang et al. 2024 that cosmology with one unified dark fluid can also explain the cosmic microwave background (CMB) and late-universe data, with the fitting quality not much worse than the standard Lambda cold dark matter ($\\Lambda$CDM) model. The present work aims to provide a clearer physical interpretation of the Wang et al. 2024 results. We show that the unified dark fluid model can produce primary CMB temperature and polarization power spectra that are very close to the $\\Lambda$CDM prediction (relative difference $\\lesssim 10^{-4}$). The model can also mimic the $\\Lambda$CDM background expansion history and linear growth factor on sub-horizon scales with percent-level accuracy. With better physical understanding of the model, we make precision tests and find a minor error in the Boltzmann code used in Wang et al. 2024. We correct the error and update the model comparison between $\\Lambda$CDM and the unified dark fluid model.         |\n",
       "|<p style=\"color:green\"> **ERROR** </p>| <p style=\"color:green\">affiliation error: mpia.affiliation_verifications: 'Heidelberg' keyword not found.</p> |"
      ],
      "text/plain": [
       "<IPython.core.display.Markdown object>"
      ]
     },
     "metadata": {},
     "output_type": "display_data"
    }
   ],
   "source": [
    "import datetime\n",
    "today = str(datetime.date.today())\n",
    "logfile = f\"_build/html/logs/log-{today}.md\"\n",
    "\n",
    "\n",
    "with open(logfile, 'w') as logs:\n",
    "    # Success\n",
    "    logs.write(f'# Arxiv on Deck 2: Logs - {today}\\n\\n')\n",
    "    logs.write(\"\"\"* Arxiv had {0:,d} new papers\\n\"\"\".format(len(new_papers)))\n",
    "    logs.write(\"\"\"    * {0:,d} with possible author matches\\n\\n\"\"\".format(len(candidates)))\n",
    "    logs.write(\"## Sucessful papers\\n\\n\")\n",
    "    display(Markdown(\"## Successful papers\"))\n",
    "    success = [k[0] for k in documents]\n",
    "    for candid in candidates:\n",
    "        if candid['identifier'].split(':')[-1] in success:\n",
    "            display(candid)\n",
    "            logs.write(candid.generate_markdown_text() + '\\n\\n')\n",
    "\n",
    "    ## failed\n",
    "    logs.write(\"## Failed papers\\n\\n\")\n",
    "    display(Markdown(\"## Failed papers\"))\n",
    "    failed = sorted(failed, key=lambda x: x[1])\n",
    "    current_reason = \"\"\n",
    "    for paper, reason in failed:\n",
    "        if 'affiliation' in reason:\n",
    "            color = 'green'\n",
    "        else:\n",
    "            color = 'red'\n",
    "        data = Markdown(\n",
    "                paper.generate_markdown_text() + \n",
    "                f'\\n|<p style=\"color:{color:s}\"> **ERROR** </p>| <p style=\"color:{color:s}\">{reason:s}</p> |'\n",
    "               )\n",
    "        if reason != current_reason:\n",
    "            logs.write(f'### {reason:s} \\n\\n')\n",
    "            current_reason = reason\n",
    "        logs.write(data.data + '\\n\\n')\n",
    "        \n",
    "        # only display here the important errors (all in logs)\n",
    "        # if color in ('red',):\n",
    "        display(data)"
   ]
  },
  {
   "cell_type": "markdown",
   "id": "472d20ee",
   "metadata": {
    "papermill": {
     "duration": 0.004144,
     "end_time": "2025-04-02T04:12:57.789081",
     "exception": false,
     "start_time": "2025-04-02T04:12:57.784937",
     "status": "completed"
    },
    "tags": []
   },
   "source": [
    "## Export documents\n",
    "\n",
    "We now write the .md files and export relevant images"
   ]
  },
  {
   "cell_type": "code",
   "execution_count": 7,
   "id": "d426aed9",
   "metadata": {
    "execution": {
     "iopub.execute_input": "2025-04-02T04:12:57.798320Z",
     "iopub.status.busy": "2025-04-02T04:12:57.797992Z",
     "iopub.status.idle": "2025-04-02T04:12:57.804692Z",
     "shell.execute_reply": "2025-04-02T04:12:57.804146Z"
    },
    "papermill": {
     "duration": 0.012458,
     "end_time": "2025-04-02T04:12:57.805751",
     "exception": false,
     "start_time": "2025-04-02T04:12:57.793293",
     "status": "completed"
    },
    "tags": []
   },
   "outputs": [],
   "source": [
    "def export_markdown_summary(md: str, md_fname:str, directory: str):\n",
    "    \"\"\"Export MD document and associated relevant images\"\"\"\n",
    "    import os\n",
    "    import shutil\n",
    "    import re\n",
    "\n",
    "    if (os.path.exists(directory) and not os.path.isdir(directory)):\n",
    "        raise RuntimeError(f\"a non-directory file exists with name {directory:s}\")\n",
    "\n",
    "    if (not os.path.exists(directory)):\n",
    "        print(f\"creating directory {directory:s}\")\n",
    "        os.mkdir(directory)\n",
    "\n",
    "    fig_fnames = (re.compile(r'\\[Fig.*\\]\\((.*)\\)').findall(md) + \n",
    "                  re.compile(r'\\<img src=\"([^>\\s]*)\"[^>]*/>').findall(md))\n",
    "    print(\"found figures\", fig_fnames)\n",
    "    for fname in fig_fnames:\n",
    "        if 'http' in fname:\n",
    "            # No need to copy online figures\n",
    "            continue\n",
    "        if not os.path.exists(fname):\n",
    "            print(\"file not found\", fname)\n",
    "            continue\n",
    "        print(\"copying \", fname, \"to\", directory)\n",
    "        destdir = os.path.join(directory, os.path.dirname(fname))\n",
    "        destfname = os.path.join(destdir, os.path.basename(fname))\n",
    "        try:\n",
    "            os.makedirs(destdir)\n",
    "        except FileExistsError:\n",
    "            pass\n",
    "        shutil.copy(fname, destfname)\n",
    "    with open(os.path.join(directory, md_fname), 'w') as fout:\n",
    "        fout.write(md)\n",
    "    print(\"exported in \", os.path.join(directory, md_fname))\n",
    "    [print(\"    + \" + os.path.join(directory,fk)) for fk in fig_fnames]"
   ]
  },
  {
   "cell_type": "code",
   "execution_count": 8,
   "id": "014d04a4",
   "metadata": {
    "execution": {
     "iopub.execute_input": "2025-04-02T04:12:57.814896Z",
     "iopub.status.busy": "2025-04-02T04:12:57.814712Z",
     "iopub.status.idle": "2025-04-02T04:12:57.822754Z",
     "shell.execute_reply": "2025-04-02T04:12:57.822187Z"
    },
    "papermill": {
     "duration": 0.013736,
     "end_time": "2025-04-02T04:12:57.823697",
     "exception": false,
     "start_time": "2025-04-02T04:12:57.809961",
     "status": "completed"
    },
    "tags": []
   },
   "outputs": [
    {
     "name": "stdout",
     "output_type": "stream",
     "text": [
      "found figures ['tmp_2504.00841/./Tgas_warm.png', 'tmp_2504.00841/./chi_warm.png', 'tmp_2504.00841/./nH2O_warm.png', 'tmp_2504.00841/./Tgas_cold.png', 'tmp_2504.00841/./chi_cold.png', 'tmp_2504.00841/./nH2O_cold.png', 'tmp_2504.00841/./G0=1E0.png', 'tmp_2504.00841/./G0=1E3.png', 'tmp_2504.00841/./G0=1E5.png', 'tmp_2504.00841/./G0=1E0_lines.png', 'tmp_2504.00841/./G0=1E3_lines.png', 'tmp_2504.00841/./G0=1E5_lines.png', '', '', '', '', '', '']\n",
      "copying  tmp_2504.00841/./Tgas_warm.png to _build/html/\n",
      "copying  tmp_2504.00841/./chi_warm.png to _build/html/\n",
      "copying  tmp_2504.00841/./nH2O_warm.png to _build/html/\n",
      "copying  tmp_2504.00841/./Tgas_cold.png to _build/html/\n",
      "copying  tmp_2504.00841/./chi_cold.png to _build/html/\n",
      "copying  tmp_2504.00841/./nH2O_cold.png to _build/html/\n",
      "copying  tmp_2504.00841/./G0=1E0.png to _build/html/\n",
      "copying  tmp_2504.00841/./G0=1E3.png to _build/html/\n",
      "copying  tmp_2504.00841/./G0=1E5.png to _build/html/\n",
      "copying  tmp_2504.00841/./G0=1E0_lines.png to _build/html/\n",
      "copying  tmp_2504.00841/./G0=1E3_lines.png to _build/html/\n",
      "copying  tmp_2504.00841/./G0=1E5_lines.png to _build/html/\n",
      "file not found \n",
      "file not found \n",
      "file not found \n",
      "file not found \n",
      "file not found \n",
      "file not found \n",
      "exported in  _build/html/2504.00841.md\n",
      "    + _build/html/tmp_2504.00841/./Tgas_warm.png\n",
      "    + _build/html/tmp_2504.00841/./chi_warm.png\n",
      "    + _build/html/tmp_2504.00841/./nH2O_warm.png\n",
      "    + _build/html/tmp_2504.00841/./Tgas_cold.png\n",
      "    + _build/html/tmp_2504.00841/./chi_cold.png\n",
      "    + _build/html/tmp_2504.00841/./nH2O_cold.png\n",
      "    + _build/html/tmp_2504.00841/./G0=1E0.png\n",
      "    + _build/html/tmp_2504.00841/./G0=1E3.png\n",
      "    + _build/html/tmp_2504.00841/./G0=1E5.png\n",
      "    + _build/html/tmp_2504.00841/./G0=1E0_lines.png\n",
      "    + _build/html/tmp_2504.00841/./G0=1E3_lines.png\n",
      "    + _build/html/tmp_2504.00841/./G0=1E5_lines.png\n",
      "    + _build/html/\n",
      "    + _build/html/\n",
      "    + _build/html/\n",
      "    + _build/html/\n",
      "    + _build/html/\n",
      "    + _build/html/\n"
     ]
    }
   ],
   "source": [
    "for paper_id, md in documents:\n",
    "    export_markdown_summary(md, f\"{paper_id:s}.md\", '_build/html/')"
   ]
  },
  {
   "cell_type": "markdown",
   "id": "f087a0a7",
   "metadata": {
    "papermill": {
     "duration": 0.004218,
     "end_time": "2025-04-02T04:12:57.832224",
     "exception": false,
     "start_time": "2025-04-02T04:12:57.828006",
     "status": "completed"
    },
    "tags": []
   },
   "source": [
    "## Display the papers\n",
    "\n",
    "Not necessary but allows for a quick check."
   ]
  },
  {
   "cell_type": "code",
   "execution_count": 9,
   "id": "fd25f625",
   "metadata": {
    "execution": {
     "iopub.execute_input": "2025-04-02T04:12:57.841771Z",
     "iopub.status.busy": "2025-04-02T04:12:57.841348Z",
     "iopub.status.idle": "2025-04-02T04:12:57.845940Z",
     "shell.execute_reply": "2025-04-02T04:12:57.845426Z"
    },
    "papermill": {
     "duration": 0.010316,
     "end_time": "2025-04-02T04:12:57.846825",
     "exception": false,
     "start_time": "2025-04-02T04:12:57.836509",
     "status": "completed"
    },
    "scrolled": false,
    "tags": []
   },
   "outputs": [
    {
     "data": {
      "text/markdown": [
       "<div class=\"macros\" style=\"visibility:hidden;\">\n",
       "$\\newcommand{\\ensuremath}{}$\n",
       "$\\newcommand{\\xspace}{}$\n",
       "$\\newcommand{\\object}[1]{\\texttt{#1}}$\n",
       "$\\newcommand{\\farcs}{{.}''}$\n",
       "$\\newcommand{\\farcm}{{.}'}$\n",
       "$\\newcommand{\\arcsec}{''}$\n",
       "$\\newcommand{\\arcmin}{'}$\n",
       "$\\newcommand{\\ion}[2]{#1#2}$\n",
       "$\\newcommand{\\textsc}[1]{\\textrm{#1}}$\n",
       "$\\newcommand{\\hl}[1]{\\textrm{#1}}$\n",
       "$\\newcommand{\\footnote}[1]{}$\n",
       "$\\newcommand{\\vdag}{(v)^\\dagger}$\n",
       "$\\newcommand$\n",
       "$\\newcommand$\n",
       "$\\newcommand$\n",
       "$\\newcommand$\n",
       "$\\newcommand$\n",
       "$\\newcommand$\n",
       "$\\newcommand$\n",
       "$\\newcommand$\n",
       "$\\newcommand$\n",
       "$\\newcommand$\n",
       "$\\newcommand$\n",
       "$\\newcommand$\n",
       "$\\newcommand$\n",
       "$\\newcommand$\n",
       "$\\newcommand$\n",
       "$\\newcommand$\n",
       "$\\newcommand$\n",
       "$\\newcommand$\n",
       "$\\newcommand$\n",
       "$\\newcommand$\n",
       "$\\newcommand{\\rt}[1]{{#1}}$\n",
       "$\\newcommand{\\arraystretch}{1.25}$</div>\n",
       "\n",
       "\n",
       "\n",
       "<div id=\"title\">\n",
       "\n",
       "# XUE. Thermochemical Modeling Suggests a Compact and Gas-Depleted Structure for a Distant, Irradiated Protoplanetary Disk\n",
       "\n",
       "</div>\n",
       "<div id=\"comments\">\n",
       "\n",
       "[![arXiv](https://img.shields.io/badge/arXiv-2504.00841-b31b1b.svg)](https://arxiv.org/abs/2504.00841)<mark>Appeared on: 2025-04-02</mark> -  _20 pages, 7 figures, 3 tables. Accepted for publication in The Astrophysical Journal, March 28, 2025_\n",
       "\n",
       "</div>\n",
       "<div id=\"authors\">\n",
       "\n",
       "B. Portilla-Revelo, et al. -- incl., <mark>T. Henning</mark>\n",
       "\n",
       "</div>\n",
       "<div id=\"abstract\">\n",
       "\n",
       "**Abstract:** Unveiling the physical structure of protoplanetary disk is crucial for interpreting the diversity of the exoplanet population. Until recently, the census of the physical properties of protoplanetary disks probed by mid-infrared observations was limited to the solar neighborhood ( $d \\lesssim 250$ pc); however, nearby star-forming regions (SFRs) such as Taurus---where no O-type stars reside---are not representative of the environments where the majority of the planet formation occurs in the Galaxy. The James Webb Space Telescope (JWST) now enables observations of disks in distant high-mass SFRs, where strong external Far-Ultraviolet (FUV) radiation is expected to impact those disks.  Nevertheless, a detailed characterization of externally irradiated disks is still lacking. We use the thermochemical code $\\prodimo$ to model JWST/MIRI spectroscopy and archival visual/near-infrared photometry aiming to constrain the physical structure of the irradiated disk around the solar-mass star XUE 1 in NGC 6357 ( $d \\approx 1690$ pc). Our findings are: (1) Mid-infrared dust emission features are explained by amorphous and crystalline silicates with compositions similar to nearby disks. (2) The molecular features detected with MIRI originate within the first $\\sim 1$ au, consistent with slab models' results. (3) Our model favors a disk truncated at $10$ au with a gas-to-dust ratio of unity in the outskirts. (4) Comparing models of the same disk structure under different irradiation levels, we find that strong external irradiation raises gas temperature tenfold and boosts water abundance beyond 10 au by a factor of 100. Our findings suggest the inner disk resists external irradiation, retaining the elements necessary for planet formation.\n",
       "\n",
       "</div>\n",
       "\n",
       "<div id=\"div_fig1\">\n",
       "\n",
       "<img src=\"tmp_2504.00841/./Tgas_warm.png\" alt=\"Fig6.1\" width=\"16%\"/><img src=\"tmp_2504.00841/./chi_warm.png\" alt=\"Fig6.2\" width=\"16%\"/><img src=\"tmp_2504.00841/./nH2O_warm.png\" alt=\"Fig6.3\" width=\"16%\"/><img src=\"tmp_2504.00841/./Tgas_cold.png\" alt=\"Fig6.4\" width=\"16%\"/><img src=\"tmp_2504.00841/./chi_cold.png\" alt=\"Fig6.5\" width=\"16%\"/><img src=\"tmp_2504.00841/./nH2O_cold.png\" alt=\"Fig6.6\" width=\"16%\"/>\n",
       "\n",
       "**Figure 6. -** Two-dimensional maps in disk's aspect ratio vs radial distance space for selected disk properties. Top row contains the solution from the best representative model for the XUE 1 disk ($\\Go=10^5$); bottom row shows the solution from a non-irradiated disk ($\\Go=10^0$) with the same gas and dust composition and structure. Left panels: The grey-scale image shows disk gas temperature with isothermal contours in white dashed lines. The color boxes depict the $15\\%-85\\%$ emitting areas of the lines that are indicated in the upper-left corner of the figure. Middle panels: strength of the UV radiation field in units of the Draine field---dashed contour indicates the region in the disk that is exposed to an FUV strength equal to the value in the solar neighborhood. Solid contour indicates the region where the radial optical depth is one. Right panels: abundance of gas-phase water relative to the total number of hydrogen nuclei---dashed line encloses $90\\%$ of the total abundance. The quantitative analyses presented in Sects. \\ref{sec:gas-distribution} and \\ref{sec:temperatures-and-abundances} are done at the grid point indicated by the cross. (*fig:Tgas*)\n",
       "\n",
       "</div>\n",
       "<div id=\"div_fig2\">\n",
       "\n",
       "<img src=\"tmp_2504.00841/./G0=1E0.png\" alt=\"Fig7.1\" width=\"16%\"/><img src=\"tmp_2504.00841/./G0=1E3.png\" alt=\"Fig7.2\" width=\"16%\"/><img src=\"tmp_2504.00841/./G0=1E5.png\" alt=\"Fig7.3\" width=\"16%\"/><img src=\"tmp_2504.00841/./G0=1E0_lines.png\" alt=\"Fig7.4\" width=\"16%\"/><img src=\"tmp_2504.00841/./G0=1E3_lines.png\" alt=\"Fig7.5\" width=\"16%\"/><img src=\"tmp_2504.00841/./G0=1E5_lines.png\" alt=\"Fig7.6\" width=\"16%\"/>\n",
       "\n",
       "**Figure 7. -** $\\rt${Effect of external irradiation on the physical structure and line emission of the fiducial disk. _Top:_} Two-dimensional distribution of gas-phase \\ce{OH} for different realizations of the fiducial disk. Each realization corresponds to a different value of $\\Go$. Dashed lines enclose $90\\%$ of the total abundance of \\ce{OH}. The insets display for each model the ratio of the synthetic spectral index to the observed one and the corresponding mass of \\ce{NO} contained beyond $10$ au. $\\rt${_Bottom:_ Synthetic spectra for \\ce{NO, H2} and \\ce{CH3+}. Note the difference on the vertical scale.} (*fig:size-irradiation-degeneracy*)\n",
       "\n",
       "</div>\n",
       "<div id=\"div_fig3\">\n",
       "\n",
       "<img src=\"\" alt=\"Fig9.1\" width=\"16%\"/><img src=\"\" alt=\"Fig9.2\" width=\"16%\"/><img src=\"\" alt=\"Fig9.3\" width=\"16%\"/><img src=\"\" alt=\"Fig9.4\" width=\"16%\"/><img src=\"\" alt=\"Fig9.5\" width=\"16%\"/><img src=\"\" alt=\"Fig9.6\" width=\"16%\"/>\n",
       "\n",
       "**Figure 9. -** Two-dimensional distribution of gas-phase \\ce{OH} for different realizations of the fiducial disk. Each realization corresponds to a different value of $\\Go$. Dashed lines enclose $90\\%$ of the total abundance of \\ce{OH}. The insets display for each model the ratio of the synthetic spectral index to the observed one, and the mass of \\ce{NO} contained beyond $10$ au. (*fig:size-irradiation-degeneracy*)\n",
       "\n",
       "</div><div id=\"qrcode\"><img src=https://api.qrserver.com/v1/create-qr-code/?size=100x100&data=\"https://arxiv.org/abs/2504.00841\"></div>"
      ],
      "text/plain": [
       "<IPython.core.display.Markdown object>"
      ]
     },
     "metadata": {},
     "output_type": "display_data"
    }
   ],
   "source": [
    "[display(Markdown(k[1])) for k in documents];"
   ]
  },
  {
   "cell_type": "markdown",
   "id": "873873a4",
   "metadata": {
    "papermill": {
     "duration": 0.004391,
     "end_time": "2025-04-02T04:12:57.855713",
     "exception": false,
     "start_time": "2025-04-02T04:12:57.851322",
     "status": "completed"
    },
    "tags": []
   },
   "source": [
    "# Create HTML index"
   ]
  },
  {
   "cell_type": "code",
   "execution_count": 10,
   "id": "cf665672",
   "metadata": {
    "execution": {
     "iopub.execute_input": "2025-04-02T04:12:57.865867Z",
     "iopub.status.busy": "2025-04-02T04:12:57.865338Z",
     "iopub.status.idle": "2025-04-02T04:12:57.875130Z",
     "shell.execute_reply": "2025-04-02T04:12:57.874512Z"
    },
    "papermill": {
     "duration": 0.015776,
     "end_time": "2025-04-02T04:12:57.876096",
     "exception": false,
     "start_time": "2025-04-02T04:12:57.860320",
     "status": "completed"
    },
    "tags": []
   },
   "outputs": [
    {
     "name": "stdout",
     "output_type": "stream",
     "text": [
      "419  publications files modified in the last 7 days.\n"
     ]
    }
   ],
   "source": [
    "from datetime import datetime, timedelta, timezone\n",
    "from glob import glob\n",
    "import os\n",
    "\n",
    "files = glob('_build/html/*.md')\n",
    "days = 7\n",
    "now = datetime.today()\n",
    "res = []\n",
    "for fk in files:\n",
    "    stat_result = os.stat(fk).st_ctime\n",
    "    modified = datetime.fromtimestamp(stat_result, tz=timezone.utc).replace(tzinfo=None)\n",
    "    delta = now.today() - modified\n",
    "    if delta <= timedelta(days=days):\n",
    "        res.append((delta.seconds, fk))\n",
    "res = [k[1] for k in reversed(sorted(res, key=lambda x:x[1]))]\n",
    "npub = len(res)\n",
    "print(len(res), f\" publications files modified in the last {days:d} days.\")\n",
    "# [ print('\\t', k) for k in res ];"
   ]
  },
  {
   "cell_type": "code",
   "execution_count": 11,
   "id": "015de740",
   "metadata": {
    "execution": {
     "iopub.execute_input": "2025-04-02T04:12:57.886017Z",
     "iopub.status.busy": "2025-04-02T04:12:57.885834Z",
     "iopub.status.idle": "2025-04-02T04:12:57.907406Z",
     "shell.execute_reply": "2025-04-02T04:12:57.906773Z"
    },
    "papermill": {
     "duration": 0.027743,
     "end_time": "2025-04-02T04:12:57.908444",
     "exception": false,
     "start_time": "2025-04-02T04:12:57.880701",
     "status": "completed"
    },
    "tags": []
   },
   "outputs": [
    {
     "name": "stdout",
     "output_type": "stream",
     "text": [
      "13  publications in the last 7 days.\n"
     ]
    }
   ],
   "source": [
    "import datetime\n",
    "from glob import glob\n",
    "\n",
    "def get_last_n_days(lst, days=1):\n",
    "    \"\"\" Get the documents from the last n days \"\"\"\n",
    "    sorted_lst = sorted(lst, key=lambda x: x[1], reverse=True)\n",
    "    for fname, date in sorted_lst:\n",
    "        if date >= str(datetime.date.today() - datetime.timedelta(days=days)):\n",
    "            yield fname\n",
    "\n",
    "def extract_appearance_dates(lst_file):\n",
    "    dates = []\n",
    "\n",
    "    def get_date(line):\n",
    "        return line\\\n",
    "            .split('Appeared on:')[-1]\\\n",
    "            .split('</mark>')[0].strip()\n",
    "\n",
    "    for fname in lst:\n",
    "        with open(fname, 'r') as f:\n",
    "            found_date = False\n",
    "            for line in f:\n",
    "                if not found_date:\n",
    "                    if \"Appeared on\" in line:\n",
    "                        found_date = True\n",
    "                        dates.append((fname, get_date(line)))\n",
    "                else:\n",
    "                    break\n",
    "    return dates\n",
    "\n",
    "from glob import glob\n",
    "lst = glob('_build/html/*md')\n",
    "days = 7\n",
    "dates = extract_appearance_dates(lst)\n",
    "res = list(get_last_n_days(dates, days))\n",
    "npub = len(res)\n",
    "print(len(res), f\" publications in the last {days:d} days.\")"
   ]
  },
  {
   "cell_type": "code",
   "execution_count": 12,
   "id": "52ca0208",
   "metadata": {
    "execution": {
     "iopub.execute_input": "2025-04-02T04:12:57.918841Z",
     "iopub.status.busy": "2025-04-02T04:12:57.918493Z",
     "iopub.status.idle": "2025-04-02T04:12:57.923378Z",
     "shell.execute_reply": "2025-04-02T04:12:57.922748Z"
    },
    "papermill": {
     "duration": 0.011075,
     "end_time": "2025-04-02T04:12:57.924426",
     "exception": false,
     "start_time": "2025-04-02T04:12:57.913351",
     "status": "completed"
    },
    "scrolled": false,
    "tags": []
   },
   "outputs": [],
   "source": [
    "def create_carousel(npub=4):\n",
    "    \"\"\" Generate the HTML code for a carousel with `npub` slides \"\"\"\n",
    "    carousel = [\"\"\"  <div class=\"carousel\" \"\"\",\n",
    "                \"\"\"       data-flickity='{ \"autoPlay\": 10000, \"adaptiveHeight\": true, \"resize\": true, \"wrapAround\": true, \"pauseAutoPlayOnHover\": true, \"groupCells\": 1 }' id=\"asyncTypeset\">\"\"\"\n",
    "                ]\n",
    "    \n",
    "    item_str = \"\"\"    <div class=\"carousel-cell\"> <div id=\"slide{k}\" class=\"md_view\">Content {k}</div> </div>\"\"\"\n",
    "    for k in range(1, npub + 1):\n",
    "        carousel.append(item_str.format(k=k))\n",
    "    carousel.append(\"  </div>\")\n",
    "    return '\\n'.join(carousel)\n",
    "\n",
    "def create_grid(npub=4):\n",
    "    \"\"\" Generate the HTML code for a flat grid with `npub` slides \"\"\"\n",
    "    grid = [\"\"\"  <div class=\"grid\"> \"\"\",\n",
    "                ]\n",
    "    \n",
    "    item_str = \"\"\"    <div class=\"grid-item\"> <div id=\"slide{k}\" class=\"md_view\">Content {k}</div> </div>\"\"\"\n",
    "    for k in range(1, npub + 1):\n",
    "        grid.append(item_str.format(k=k))\n",
    "    grid.append(\"  </div>\")\n",
    "    return '\\n'.join(grid)"
   ]
  },
  {
   "cell_type": "code",
   "execution_count": 13,
   "id": "a6eac5b6",
   "metadata": {
    "execution": {
     "iopub.execute_input": "2025-04-02T04:12:57.934910Z",
     "iopub.status.busy": "2025-04-02T04:12:57.934335Z",
     "iopub.status.idle": "2025-04-02T04:12:57.939471Z",
     "shell.execute_reply": "2025-04-02T04:12:57.938966Z"
    },
    "papermill": {
     "duration": 0.011331,
     "end_time": "2025-04-02T04:12:57.940443",
     "exception": false,
     "start_time": "2025-04-02T04:12:57.929112",
     "status": "completed"
    },
    "scrolled": false,
    "tags": []
   },
   "outputs": [],
   "source": [
    "carousel = create_carousel(npub)\n",
    "docs = ', '.join(['\"{0:s}\"'.format(k.split('/')[-1]) for k in res])\n",
    "slides = ', '.join([f'\"slide{k}\"' for k in range(1, npub + 1)])\n",
    "\n",
    "with open(\"daily_template.html\", \"r\") as tpl:\n",
    "    page = tpl.read()\n",
    "    page = page.replace(\"{%-- carousel:s --%}\", carousel)\\\n",
    "               .replace(\"{%-- suptitle:s --%}\",  \"7-day archives\" )\\\n",
    "               .replace(\"{%-- docs:s --%}\", docs)\\\n",
    "               .replace(\"{%-- slides:s --%}\", slides)\n",
    "    \n",
    "with open(\"_build/html/index_7days.html\", 'w') as fout:\n",
    "    fout.write(page)"
   ]
  },
  {
   "cell_type": "code",
   "execution_count": 14,
   "id": "adc1a1ec",
   "metadata": {
    "execution": {
     "iopub.execute_input": "2025-04-02T04:12:57.950928Z",
     "iopub.status.busy": "2025-04-02T04:12:57.950536Z",
     "iopub.status.idle": "2025-04-02T04:12:57.957472Z",
     "shell.execute_reply": "2025-04-02T04:12:57.956908Z"
    },
    "papermill": {
     "duration": 0.013266,
     "end_time": "2025-04-02T04:12:57.958517",
     "exception": false,
     "start_time": "2025-04-02T04:12:57.945251",
     "status": "completed"
    },
    "tags": []
   },
   "outputs": [
    {
     "name": "stdout",
     "output_type": "stream",
     "text": [
      "2  publications in the last day.\n"
     ]
    }
   ],
   "source": [
    "# redo for today\n",
    "days = 1\n",
    "res = list(get_last_n_days(dates, days))\n",
    "npub = len(res)\n",
    "print(len(res), f\" publications in the last day.\")\n",
    "\n",
    "carousel = create_carousel(npub)\n",
    "docs = ', '.join(['\"{0:s}\"'.format(k.split('/')[-1]) for k in res])\n",
    "slides = ', '.join([f'\"slide{k}\"' for k in range(1, npub + 1)])\n",
    "\n",
    "with open(\"daily_template.html\", \"r\") as tpl:\n",
    "    page = tpl.read()\n",
    "    page = page.replace(\"{%-- carousel:s --%}\", carousel)\\\n",
    "               .replace(\"{%-- suptitle:s --%}\",  \"Daily\" )\\\n",
    "               .replace(\"{%-- docs:s --%}\", docs)\\\n",
    "               .replace(\"{%-- slides:s --%}\", slides)\n",
    "    \n",
    "# print(carousel, docs, slides)\n",
    "# print(page)\n",
    "with open(\"_build/html/index_daily.html\", 'w') as fout:\n",
    "    fout.write(page)"
   ]
  },
  {
   "cell_type": "code",
   "execution_count": 15,
   "id": "00eece82",
   "metadata": {
    "execution": {
     "iopub.execute_input": "2025-04-02T04:12:57.969093Z",
     "iopub.status.busy": "2025-04-02T04:12:57.968711Z",
     "iopub.status.idle": "2025-04-02T04:12:57.975055Z",
     "shell.execute_reply": "2025-04-02T04:12:57.974536Z"
    },
    "papermill": {
     "duration": 0.012727,
     "end_time": "2025-04-02T04:12:57.976020",
     "exception": false,
     "start_time": "2025-04-02T04:12:57.963293",
     "status": "completed"
    },
    "scrolled": false,
    "tags": []
   },
   "outputs": [
    {
     "name": "stdout",
     "output_type": "stream",
     "text": [
      "6  6 publications selected.\n"
     ]
    }
   ],
   "source": [
    "# Create the flat grid of the last N papers (fixed number regardless of dates)\n",
    "from itertools import islice \n",
    "\n",
    "npub = 6\n",
    "res = [k[0] for k in (islice(reversed(sorted(dates, key=lambda x: x[1])), 6))]\n",
    "print(len(res), f\" {npub} publications selected.\")\n",
    "\n",
    "grid = create_grid(npub)\n",
    "docs = ', '.join(['\"{0:s}\"'.format(k.split('/')[-1]) for k in res])\n",
    "slides = ', '.join([f'\"slide{k}\"' for k in range(1, npub + 1)])\n",
    "\n",
    "with open(\"grid_template.html\", \"r\") as tpl:\n",
    "    page = tpl.read()\n",
    "    page = page.replace(\"{%-- grid-content:s --%}\", grid)\\\n",
    "               .replace(\"{%-- suptitle:s --%}\",  f\"Last {npub:,d} papers\" )\\\n",
    "               .replace(\"{%-- docs:s --%}\", docs)\\\n",
    "               .replace(\"{%-- slides:s --%}\", slides)\n",
    "    \n",
    "# print(grid, docs, slides)\n",
    "# print(page)\n",
    "with open(\"_build/html/index_npub_grid.html\", 'w') as fout:\n",
    "    fout.write(page)"
   ]
  }
 ],
 "metadata": {
  "kernelspec": {
   "display_name": "Python 3 (ipykernel)",
   "language": "python",
   "name": "python3"
  },
  "language_info": {
   "codemirror_mode": {
    "name": "ipython",
    "version": 3
   },
   "file_extension": ".py",
   "mimetype": "text/x-python",
   "name": "python",
   "nbconvert_exporter": "python",
   "pygments_lexer": "ipython3",
   "version": "3.9.21"
  },
  "papermill": {
   "default_parameters": {},
   "duration": 47.162706,
   "end_time": "2025-04-02T04:12:58.196381",
   "environment_variables": {},
   "exception": null,
   "input_path": "MPIA daily digest.ipynb",
   "output_path": "log.ipynb",
   "parameters": {},
   "start_time": "2025-04-02T04:12:11.033675",
   "version": "2.6.0"
  },
  "vscode": {
   "interpreter": {
    "hash": "aee8b7b246df8f9039afb4144a1f6fd8d2ca17a180786b69acc140d282b71a49"
   }
  },
  "widgets": {
   "application/vnd.jupyter.widget-state+json": {
    "state": {
     "15bfd9972fc74fcdb344e3e341bf6dfe": {
      "model_module": "@jupyter-widgets/controls",
      "model_module_version": "2.0.0",
      "model_name": "HTMLModel",
      "state": {
       "_dom_classes": [],
       "_model_module": "@jupyter-widgets/controls",
       "_model_module_version": "2.0.0",
       "_model_name": "HTMLModel",
       "_view_count": null,
       "_view_module": "@jupyter-widgets/controls",
       "_view_module_version": "2.0.0",
       "_view_name": "HTMLView",
       "description": "",
       "description_allow_html": false,
       "layout": "IPY_MODEL_41b9ff352fe540d98dc3cc1cd6f2af40",
       "placeholder": "​",
       "style": "IPY_MODEL_1ed2d19ca6414fd791adf68e132d1464",
       "tabbable": null,
       "tooltip": null,
       "value": "100%"
      }
     },
     "1926148b4c5f428c91aefa2933d5714a": {
      "model_module": "@jupyter-widgets/controls",
      "model_module_version": "2.0.0",
      "model_name": "HTMLModel",
      "state": {
       "_dom_classes": [],
       "_model_module": "@jupyter-widgets/controls",
       "_model_module_version": "2.0.0",
       "_model_name": "HTMLModel",
       "_view_count": null,
       "_view_module": "@jupyter-widgets/controls",
       "_view_module_version": "2.0.0",
       "_view_name": "HTMLView",
       "description": "",
       "description_allow_html": false,
       "layout": "IPY_MODEL_503477058f3349b9ba89f2b8e990c46b",
       "placeholder": "​",
       "style": "IPY_MODEL_b4eabcc8ebd34cffb8ba60b54c1341a6",
       "tabbable": null,
       "tooltip": null,
       "value": " 4/4 [00:19&lt;00:00,  7.71s/it]"
      }
     },
     "1ed2d19ca6414fd791adf68e132d1464": {
      "model_module": "@jupyter-widgets/controls",
      "model_module_version": "2.0.0",
      "model_name": "HTMLStyleModel",
      "state": {
       "_model_module": "@jupyter-widgets/controls",
       "_model_module_version": "2.0.0",
       "_model_name": "HTMLStyleModel",
       "_view_count": null,
       "_view_module": "@jupyter-widgets/base",
       "_view_module_version": "2.0.0",
       "_view_name": "StyleView",
       "background": null,
       "description_width": "",
       "font_size": null,
       "text_color": null
      }
     },
     "41b9ff352fe540d98dc3cc1cd6f2af40": {
      "model_module": "@jupyter-widgets/base",
      "model_module_version": "2.0.0",
      "model_name": "LayoutModel",
      "state": {
       "_model_module": "@jupyter-widgets/base",
       "_model_module_version": "2.0.0",
       "_model_name": "LayoutModel",
       "_view_count": null,
       "_view_module": "@jupyter-widgets/base",
       "_view_module_version": "2.0.0",
       "_view_name": "LayoutView",
       "align_content": null,
       "align_items": null,
       "align_self": null,
       "border_bottom": null,
       "border_left": null,
       "border_right": null,
       "border_top": null,
       "bottom": null,
       "display": null,
       "flex": null,
       "flex_flow": null,
       "grid_area": null,
       "grid_auto_columns": null,
       "grid_auto_flow": null,
       "grid_auto_rows": null,
       "grid_column": null,
       "grid_gap": null,
       "grid_row": null,
       "grid_template_areas": null,
       "grid_template_columns": null,
       "grid_template_rows": null,
       "height": null,
       "justify_content": null,
       "justify_items": null,
       "left": null,
       "margin": null,
       "max_height": null,
       "max_width": null,
       "min_height": null,
       "min_width": null,
       "object_fit": null,
       "object_position": null,
       "order": null,
       "overflow": null,
       "padding": null,
       "right": null,
       "top": null,
       "visibility": null,
       "width": null
      }
     },
     "4a8686338d454b86a236929357ef3d0a": {
      "model_module": "@jupyter-widgets/controls",
      "model_module_version": "2.0.0",
      "model_name": "FloatProgressModel",
      "state": {
       "_dom_classes": [],
       "_model_module": "@jupyter-widgets/controls",
       "_model_module_version": "2.0.0",
       "_model_name": "FloatProgressModel",
       "_view_count": null,
       "_view_module": "@jupyter-widgets/controls",
       "_view_module_version": "2.0.0",
       "_view_name": "ProgressView",
       "bar_style": "success",
       "description": "",
       "description_allow_html": false,
       "layout": "IPY_MODEL_954aabe19c2243a885011d23c4e6ef84",
       "max": 4.0,
       "min": 0.0,
       "orientation": "horizontal",
       "style": "IPY_MODEL_b08482319d9b4803b0867479758029e6",
       "tabbable": null,
       "tooltip": null,
       "value": 4.0
      }
     },
     "503477058f3349b9ba89f2b8e990c46b": {
      "model_module": "@jupyter-widgets/base",
      "model_module_version": "2.0.0",
      "model_name": "LayoutModel",
      "state": {
       "_model_module": "@jupyter-widgets/base",
       "_model_module_version": "2.0.0",
       "_model_name": "LayoutModel",
       "_view_count": null,
       "_view_module": "@jupyter-widgets/base",
       "_view_module_version": "2.0.0",
       "_view_name": "LayoutView",
       "align_content": null,
       "align_items": null,
       "align_self": null,
       "border_bottom": null,
       "border_left": null,
       "border_right": null,
       "border_top": null,
       "bottom": null,
       "display": null,
       "flex": null,
       "flex_flow": null,
       "grid_area": null,
       "grid_auto_columns": null,
       "grid_auto_flow": null,
       "grid_auto_rows": null,
       "grid_column": null,
       "grid_gap": null,
       "grid_row": null,
       "grid_template_areas": null,
       "grid_template_columns": null,
       "grid_template_rows": null,
       "height": null,
       "justify_content": null,
       "justify_items": null,
       "left": null,
       "margin": null,
       "max_height": null,
       "max_width": null,
       "min_height": null,
       "min_width": null,
       "object_fit": null,
       "object_position": null,
       "order": null,
       "overflow": null,
       "padding": null,
       "right": null,
       "top": null,
       "visibility": null,
       "width": null
      }
     },
     "54dc24ef5cce4606b3466c8cea5dd97b": {
      "model_module": "@jupyter-widgets/base",
      "model_module_version": "2.0.0",
      "model_name": "LayoutModel",
      "state": {
       "_model_module": "@jupyter-widgets/base",
       "_model_module_version": "2.0.0",
       "_model_name": "LayoutModel",
       "_view_count": null,
       "_view_module": "@jupyter-widgets/base",
       "_view_module_version": "2.0.0",
       "_view_name": "LayoutView",
       "align_content": null,
       "align_items": null,
       "align_self": null,
       "border_bottom": null,
       "border_left": null,
       "border_right": null,
       "border_top": null,
       "bottom": null,
       "display": null,
       "flex": null,
       "flex_flow": null,
       "grid_area": null,
       "grid_auto_columns": null,
       "grid_auto_flow": null,
       "grid_auto_rows": null,
       "grid_column": null,
       "grid_gap": null,
       "grid_row": null,
       "grid_template_areas": null,
       "grid_template_columns": null,
       "grid_template_rows": null,
       "height": null,
       "justify_content": null,
       "justify_items": null,
       "left": null,
       "margin": null,
       "max_height": null,
       "max_width": null,
       "min_height": null,
       "min_width": null,
       "object_fit": null,
       "object_position": null,
       "order": null,
       "overflow": null,
       "padding": null,
       "right": null,
       "top": null,
       "visibility": null,
       "width": null
      }
     },
     "954aabe19c2243a885011d23c4e6ef84": {
      "model_module": "@jupyter-widgets/base",
      "model_module_version": "2.0.0",
      "model_name": "LayoutModel",
      "state": {
       "_model_module": "@jupyter-widgets/base",
       "_model_module_version": "2.0.0",
       "_model_name": "LayoutModel",
       "_view_count": null,
       "_view_module": "@jupyter-widgets/base",
       "_view_module_version": "2.0.0",
       "_view_name": "LayoutView",
       "align_content": null,
       "align_items": null,
       "align_self": null,
       "border_bottom": null,
       "border_left": null,
       "border_right": null,
       "border_top": null,
       "bottom": null,
       "display": null,
       "flex": null,
       "flex_flow": null,
       "grid_area": null,
       "grid_auto_columns": null,
       "grid_auto_flow": null,
       "grid_auto_rows": null,
       "grid_column": null,
       "grid_gap": null,
       "grid_row": null,
       "grid_template_areas": null,
       "grid_template_columns": null,
       "grid_template_rows": null,
       "height": null,
       "justify_content": null,
       "justify_items": null,
       "left": null,
       "margin": null,
       "max_height": null,
       "max_width": null,
       "min_height": null,
       "min_width": null,
       "object_fit": null,
       "object_position": null,
       "order": null,
       "overflow": null,
       "padding": null,
       "right": null,
       "top": null,
       "visibility": null,
       "width": null
      }
     },
     "a5eb2a408757469aa3db9f31ad18072e": {
      "model_module": "@jupyter-widgets/controls",
      "model_module_version": "2.0.0",
      "model_name": "HBoxModel",
      "state": {
       "_dom_classes": [],
       "_model_module": "@jupyter-widgets/controls",
       "_model_module_version": "2.0.0",
       "_model_name": "HBoxModel",
       "_view_count": null,
       "_view_module": "@jupyter-widgets/controls",
       "_view_module_version": "2.0.0",
       "_view_name": "HBoxView",
       "box_style": "",
       "children": [
        "IPY_MODEL_15bfd9972fc74fcdb344e3e341bf6dfe",
        "IPY_MODEL_4a8686338d454b86a236929357ef3d0a",
        "IPY_MODEL_1926148b4c5f428c91aefa2933d5714a"
       ],
       "layout": "IPY_MODEL_54dc24ef5cce4606b3466c8cea5dd97b",
       "tabbable": null,
       "tooltip": null
      }
     },
     "b08482319d9b4803b0867479758029e6": {
      "model_module": "@jupyter-widgets/controls",
      "model_module_version": "2.0.0",
      "model_name": "ProgressStyleModel",
      "state": {
       "_model_module": "@jupyter-widgets/controls",
       "_model_module_version": "2.0.0",
       "_model_name": "ProgressStyleModel",
       "_view_count": null,
       "_view_module": "@jupyter-widgets/base",
       "_view_module_version": "2.0.0",
       "_view_name": "StyleView",
       "bar_color": null,
       "description_width": ""
      }
     },
     "b4eabcc8ebd34cffb8ba60b54c1341a6": {
      "model_module": "@jupyter-widgets/controls",
      "model_module_version": "2.0.0",
      "model_name": "HTMLStyleModel",
      "state": {
       "_model_module": "@jupyter-widgets/controls",
       "_model_module_version": "2.0.0",
       "_model_name": "HTMLStyleModel",
       "_view_count": null,
       "_view_module": "@jupyter-widgets/base",
       "_view_module_version": "2.0.0",
       "_view_name": "StyleView",
       "background": null,
       "description_width": "",
       "font_size": null,
       "text_color": null
      }
     }
    },
    "version_major": 2,
    "version_minor": 0
   }
  }
 },
 "nbformat": 4,
 "nbformat_minor": 5
}