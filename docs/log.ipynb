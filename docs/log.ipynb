{
 "cells": [
  {
   "cell_type": "markdown",
   "id": "92bcb855",
   "metadata": {
    "papermill": {
     "duration": 0.006247,
     "end_time": "2023-12-05T04:08:06.039917",
     "exception": false,
     "start_time": "2023-12-05T04:08:06.033670",
     "status": "completed"
    },
    "tags": []
   },
   "source": [
    "# MPIA Arxiv on Deck 2\n",
    "\n",
    "Contains the steps to produce the paper extractions."
   ]
  },
  {
   "cell_type": "code",
   "execution_count": 1,
   "id": "3a0d6e11",
   "metadata": {
    "execution": {
     "iopub.execute_input": "2023-12-05T04:08:06.053344Z",
     "iopub.status.busy": "2023-12-05T04:08:06.053061Z",
     "iopub.status.idle": "2023-12-05T04:08:06.513084Z",
     "shell.execute_reply": "2023-12-05T04:08:06.512489Z"
    },
    "papermill": {
     "duration": 0.468008,
     "end_time": "2023-12-05T04:08:06.514799",
     "exception": false,
     "start_time": "2023-12-05T04:08:06.046791",
     "status": "completed"
    },
    "tags": []
   },
   "outputs": [],
   "source": [
    "# Imports\n",
    "import os\n",
    "from IPython.display import Markdown, display\n",
    "from tqdm.notebook import tqdm\n",
    "import warnings\n",
    "from PIL import Image \n",
    "\n",
    "# requires arxiv_on_deck_2\n",
    "\n",
    "from arxiv_on_deck_2.arxiv2 import (get_new_papers, \n",
    "                                    get_paper_from_identifier,\n",
    "                                    retrieve_document_source, \n",
    "                                    get_markdown_badge)\n",
    "from arxiv_on_deck_2 import (latex,\n",
    "                             latex_bib,\n",
    "                             mpia,\n",
    "                             highlight_authors_in_list)\n",
    "\n",
    "# Sometimes images are really big\n",
    "Image.MAX_IMAGE_PIXELS = 1000000000 "
   ]
  },
  {
   "cell_type": "code",
   "execution_count": 2,
   "id": "22aa9d44",
   "metadata": {
    "execution": {
     "iopub.execute_input": "2023-12-05T04:08:06.521860Z",
     "iopub.status.busy": "2023-12-05T04:08:06.521434Z",
     "iopub.status.idle": "2023-12-05T04:08:06.526558Z",
     "shell.execute_reply": "2023-12-05T04:08:06.526030Z"
    },
    "papermill": {
     "duration": 0.00995,
     "end_time": "2023-12-05T04:08:06.527778",
     "exception": false,
     "start_time": "2023-12-05T04:08:06.517828",
     "status": "completed"
    },
    "tags": []
   },
   "outputs": [],
   "source": [
    "# Some useful definitions.\n",
    "\n",
    "class AffiliationWarning(UserWarning):\n",
    "    pass\n",
    "\n",
    "class AffiliationError(RuntimeError):\n",
    "    pass\n",
    "\n",
    "def validation(source: str):\n",
    "    \"\"\"Raises error paper during parsing of source file\n",
    "    \n",
    "    Allows checks before parsing TeX code.\n",
    "    \n",
    "    Raises AffiliationWarning\n",
    "    \"\"\"\n",
    "    check = mpia.affiliation_verifications(source, verbose=True)\n",
    "    if check is not True:\n",
    "        raise AffiliationError(\"mpia.affiliation_verifications: \" + check)\n",
    "\n",
    "        \n",
    "warnings.simplefilter('always', AffiliationWarning)\n",
    "\n",
    "\n",
    "def get_markdown_qrcode(paper_id: str):\n",
    "    \"\"\" Generate a qrcode to the arxiv page using qrserver.com\n",
    "    \n",
    "    :param paper: Arxiv paper\n",
    "    :returns: markdown text\n",
    "    \"\"\"\n",
    "    url = r\"https://api.qrserver.com/v1/create-qr-code/?size=100x100&data=\"\n",
    "    txt = f\"\"\"<img src={url}\"https://arxiv.org/abs/{paper_id}\">\"\"\"\n",
    "    txt = '<div id=\"qrcode\">' + txt + '</div>'\n",
    "    return txt"
   ]
  },
  {
   "cell_type": "markdown",
   "id": "14bd6310",
   "metadata": {
    "papermill": {
     "duration": 0.002673,
     "end_time": "2023-12-05T04:08:06.533287",
     "exception": false,
     "start_time": "2023-12-05T04:08:06.530614",
     "status": "completed"
    },
    "tags": []
   },
   "source": [
    "## get list of arxiv paper candidates\n",
    "\n",
    "We use the MPIA mitarbeiter list webpage from mpia.de to get author names\n",
    "We then get all new papers from Arxiv and match authors"
   ]
  },
  {
   "cell_type": "code",
   "execution_count": 3,
   "id": "2645e73a",
   "metadata": {
    "execution": {
     "iopub.execute_input": "2023-12-05T04:08:06.539672Z",
     "iopub.status.busy": "2023-12-05T04:08:06.539341Z",
     "iopub.status.idle": "2023-12-05T04:08:26.734137Z",
     "shell.execute_reply": "2023-12-05T04:08:26.733546Z"
    },
    "papermill": {
     "duration": 20.199553,
     "end_time": "2023-12-05T04:08:26.735558",
     "exception": false,
     "start_time": "2023-12-05T04:08:06.536005",
     "status": "completed"
    },
    "tags": []
   },
   "outputs": [
    {
     "name": "stdout",
     "output_type": "stream",
     "text": [
      "L. Boogaard  ->  L. Boogaard  |  ['L. Boogaard']\n",
      "X. Zhang  ->  X. Zhang  |  ['X. Zhang']\n",
      "N. Pulatova  ->  N. Pulatova  |  ['N. Pulatova']\n",
      "A. Gould  ->  A. Gould  |  ['A. Gould']\n",
      "J. Li  ->  J. Li  |  ['J. Li']\n"
     ]
    },
    {
     "name": "stdout",
     "output_type": "stream",
     "text": [
      "J. Olofsson  ->  J. Olofsson  |  ['J. Olofsson']\n",
      "C. Desgrange  ->  C. Desgrange  |  ['C. Desgrange']\n",
      "Arxiv has 93 new papers today\n",
      "          6 with possible author matches\n"
     ]
    }
   ],
   "source": [
    "# get list from MPIA website\n",
    "# it automatically filters identified non-scientists :func:`mpia.filter_non_scientists`\n",
    "mpia_authors = mpia.get_mpia_mitarbeiter_list()\n",
    "normed_mpia_authors = [k[1] for k in mpia_authors]   # initials + fullname\n",
    "new_papers = get_new_papers()\n",
    "# add manual references\n",
    "add_paper_refs = []\n",
    "new_papers.extend([get_paper_from_identifier(k) for k in add_paper_refs])\n",
    "\n",
    "candidates = []\n",
    "for paperk in new_papers:\n",
    "    # Check author list with their initials\n",
    "    normed_author_list = [mpia.get_initials(k) for k in paperk['authors']]\n",
    "    hl_authors = highlight_authors_in_list(normed_author_list, normed_mpia_authors, verbose=True)\n",
    "    matches = [(hl, orig) for hl, orig in zip(hl_authors, paperk['authors']) if 'mark' in hl]\n",
    "    paperk['authors'] = hl_authors\n",
    "    if matches:\n",
    "        # only select paper if an author matched our list\n",
    "        candidates.append(paperk)\n",
    "print(\"\"\"Arxiv has {0:,d} new papers today\"\"\".format(len(new_papers)))        \n",
    "print(\"\"\"          {0:,d} with possible author matches\"\"\".format(len(candidates)))"
   ]
  },
  {
   "cell_type": "markdown",
   "id": "3543b34a",
   "metadata": {
    "papermill": {
     "duration": 0.002971,
     "end_time": "2023-12-05T04:08:26.741903",
     "exception": false,
     "start_time": "2023-12-05T04:08:26.738932",
     "status": "completed"
    },
    "tags": []
   },
   "source": [
    "# Parse sources and generate relevant outputs\n",
    "\n",
    "From the candidates, we do the following steps:\n",
    "* get their tarball from ArXiv (and extract data)\n",
    "* find the main .tex file: find one with \\documentclass{...} (sometimes it's non trivial)\n",
    "* Check affiliations with :func:`validation`, which uses :func:`mpia.affiliation_verifications`\n",
    "* If passing the affiliations: we parse the .tex source\n",
    "   * inject sub-documents into the main (flatten the main document)\n",
    "   * parse structure, extract information (title, abstract, authors, figures...)\n",
    "   * handles `\\graphicspath` if provided\n",
    "* Generate the .md document."
   ]
  },
  {
   "cell_type": "code",
   "execution_count": 4,
   "id": "9576b79e",
   "metadata": {
    "execution": {
     "iopub.execute_input": "2023-12-05T04:08:26.749027Z",
     "iopub.status.busy": "2023-12-05T04:08:26.748552Z",
     "iopub.status.idle": "2023-12-05T04:10:46.237915Z",
     "shell.execute_reply": "2023-12-05T04:10:46.237166Z"
    },
    "papermill": {
     "duration": 139.500335,
     "end_time": "2023-12-05T04:10:46.245109",
     "exception": false,
     "start_time": "2023-12-05T04:08:26.744774",
     "status": "completed"
    },
    "scrolled": false,
    "tags": []
   },
   "outputs": [
    {
     "data": {
      "application/vnd.jupyter.widget-view+json": {
       "model_id": "e429f0a3486b4559b5252870fd5f8327",
       "version_major": 2,
       "version_minor": 0
      },
      "text/plain": [
       "  0%|          | 0/6 [00:00<?, ?it/s]"
      ]
     },
     "metadata": {},
     "output_type": "display_data"
    },
    {
     "name": "stdout",
     "output_type": "stream",
     "text": [
      "Retrieving document from  https://arxiv.org/e-print/2312.00924\n"
     ]
    },
    {
     "name": "stdout",
     "output_type": "stream",
     "text": [
      "extracting tarball to tmp_2312.00924..."
     ]
    },
    {
     "name": "stdout",
     "output_type": "stream",
     "text": [
      " done.\n"
     ]
    },
    {
     "name": "stderr",
     "output_type": "stream",
     "text": [
      "/opt/hostedtoolcache/Python/3.9.18/x64/lib/python3.9/site-packages/arxiv_on_deck_2/latex.py:120: LatexWarning: attempting recovering figure figures/CGr35_moffat_100Angwide\n",
      "  warnings.warn(LatexWarning(f'attempting recovering figure {image}'))\n",
      "/opt/hostedtoolcache/Python/3.9.18/x64/lib/python3.9/site-packages/arxiv_on_deck_2/latex.py:125: LatexWarning: Recovered figure figures/CGr35_moffat_100Angwide as tmp_2312.00924/./figures/CGr35_moffat_100Angwide.pdf\n",
      "  warnings.warn(LatexWarning(f'Recovered figure {image} as {fname}'))\n"
     ]
    },
    {
     "name": "stderr",
     "output_type": "stream",
     "text": [
      "/opt/hostedtoolcache/Python/3.9.18/x64/lib/python3.9/site-packages/arxiv_on_deck_2/latex.py:120: LatexWarning: attempting recovering figure figures/lines_MUSE_BE2\n",
      "  warnings.warn(LatexWarning(f'attempting recovering figure {image}'))\n",
      "/opt/hostedtoolcache/Python/3.9.18/x64/lib/python3.9/site-packages/arxiv_on_deck_2/latex.py:125: LatexWarning: Recovered figure figures/lines_MUSE_BE2 as tmp_2312.00924/./figures/lines_MUSE_BE2.pdf\n",
      "  warnings.warn(LatexWarning(f'Recovered figure {image} as {fname}'))\n"
     ]
    },
    {
     "name": "stderr",
     "output_type": "stream",
     "text": [
      "/opt/hostedtoolcache/Python/3.9.18/x64/lib/python3.9/site-packages/arxiv_on_deck_2/latex.py:120: LatexWarning: attempting recovering figure figures/MUSE_z_distribution_MAGIC_bs0.25_zmax6\n",
      "  warnings.warn(LatexWarning(f'attempting recovering figure {image}'))\n",
      "/opt/hostedtoolcache/Python/3.9.18/x64/lib/python3.9/site-packages/arxiv_on_deck_2/latex.py:125: LatexWarning: Recovered figure figures/MUSE_z_distribution_MAGIC_bs0.25_zmax6 as tmp_2312.00924/./figures/MUSE_z_distribution_MAGIC_bs0.25_zmax6.pdf\n",
      "  warnings.warn(LatexWarning(f'Recovered figure {image} as {fname}'))\n",
      "/opt/hostedtoolcache/Python/3.9.18/x64/lib/python3.9/site-packages/arxiv_on_deck_2/latex.py:120: LatexWarning: attempting recovering figure figures/zpp_z_magic_pub_frac_v171123\n",
      "  warnings.warn(LatexWarning(f'attempting recovering figure {image}'))\n",
      "/opt/hostedtoolcache/Python/3.9.18/x64/lib/python3.9/site-packages/arxiv_on_deck_2/latex.py:125: LatexWarning: Recovered figure figures/zpp_z_magic_pub_frac_v171123 as tmp_2312.00924/./figures/zpp_z_magic_pub_frac_v171123.pdf\n",
      "  warnings.warn(LatexWarning(f'Recovered figure {image} as {fname}'))\n"
     ]
    },
    {
     "name": "stderr",
     "output_type": "stream",
     "text": [
      "/opt/hostedtoolcache/Python/3.9.18/x64/lib/python3.9/site-packages/arxiv_on_deck_2/latex.py:120: LatexWarning: attempting recovering figure figures/completeness_zppabs\n",
      "  warnings.warn(LatexWarning(f'attempting recovering figure {image}'))\n",
      "/opt/hostedtoolcache/Python/3.9.18/x64/lib/python3.9/site-packages/arxiv_on_deck_2/latex.py:125: LatexWarning: Recovered figure figures/completeness_zppabs as tmp_2312.00924/./figures/completeness_zppabs.pdf\n",
      "  warnings.warn(LatexWarning(f'Recovered figure {image} as {fname}'))\n",
      "/opt/hostedtoolcache/Python/3.9.18/x64/lib/python3.9/site-packages/arxiv_on_deck_2/latex.py:120: LatexWarning: attempting recovering figure figures/illustration_density_brian_cgr32_diffcosmo_v3\n",
      "  warnings.warn(LatexWarning(f'attempting recovering figure {image}'))\n",
      "/opt/hostedtoolcache/Python/3.9.18/x64/lib/python3.9/site-packages/arxiv_on_deck_2/latex.py:125: LatexWarning: Recovered figure figures/illustration_density_brian_cgr32_diffcosmo_v3 as tmp_2312.00924/./figures/illustration_density_brian_cgr32_diffcosmo_v3.pdf\n",
      "  warnings.warn(LatexWarning(f'Recovered figure {image} as {fname}'))\n"
     ]
    },
    {
     "name": "stderr",
     "output_type": "stream",
     "text": [
      "/opt/hostedtoolcache/Python/3.9.18/x64/lib/python3.9/site-packages/arxiv_on_deck_2/latex.py:120: LatexWarning: attempting recovering figure figures/illustration_density_voronoi_mgr65_cgr32_v3\n",
      "  warnings.warn(LatexWarning(f'attempting recovering figure {image}'))\n",
      "/opt/hostedtoolcache/Python/3.9.18/x64/lib/python3.9/site-packages/arxiv_on_deck_2/latex.py:125: LatexWarning: Recovered figure figures/illustration_density_voronoi_mgr65_cgr32_v3 as tmp_2312.00924/./figures/illustration_density_voronoi_mgr65_cgr32_v3.pdf\n",
      "  warnings.warn(LatexWarning(f'Recovered figure {image} as {fname}'))\n"
     ]
    },
    {
     "name": "stderr",
     "output_type": "stream",
     "text": [
      "/opt/hostedtoolcache/Python/3.9.18/x64/lib/python3.9/site-packages/arxiv_on_deck_2/latex.py:120: LatexWarning: attempting recovering figure figures/histo_richness\n",
      "  warnings.warn(LatexWarning(f'attempting recovering figure {image}'))\n",
      "/opt/hostedtoolcache/Python/3.9.18/x64/lib/python3.9/site-packages/arxiv_on_deck_2/latex.py:125: LatexWarning: Recovered figure figures/histo_richness as tmp_2312.00924/./figures/histo_richness.pdf\n",
      "  warnings.warn(LatexWarning(f'Recovered figure {image} as {fname}'))\n",
      "/opt/hostedtoolcache/Python/3.9.18/x64/lib/python3.9/site-packages/arxiv_on_deck_2/latex.py:120: LatexWarning: attempting recovering figure figures/plot_groups_zmin0.25_zmax1.5_nmin5_richness_M200_redshift\n",
      "  warnings.warn(LatexWarning(f'attempting recovering figure {image}'))\n",
      "/opt/hostedtoolcache/Python/3.9.18/x64/lib/python3.9/site-packages/arxiv_on_deck_2/latex.py:125: LatexWarning: Recovered figure figures/plot_groups_zmin0.25_zmax1.5_nmin5_richness_M200_redshift as tmp_2312.00924/./figures/plot_groups_zmin0.25_zmax1.5_nmin5_richness_M200_redshift.pdf\n",
      "  warnings.warn(LatexWarning(f'Recovered figure {image} as {fname}'))\n"
     ]
    },
    {
     "name": "stderr",
     "output_type": "stream",
     "text": [
      "/opt/hostedtoolcache/Python/3.9.18/x64/lib/python3.9/site-packages/arxiv_on_deck_2/latex.py:120: LatexWarning: attempting recovering figure figures/plot_groups_zmin0.25_zmax1.5_nmin5_VMC_M200_fracred\n",
      "  warnings.warn(LatexWarning(f'attempting recovering figure {image}'))\n",
      "/opt/hostedtoolcache/Python/3.9.18/x64/lib/python3.9/site-packages/arxiv_on_deck_2/latex.py:125: LatexWarning: Recovered figure figures/plot_groups_zmin0.25_zmax1.5_nmin5_VMC_M200_fracred as tmp_2312.00924/./figures/plot_groups_zmin0.25_zmax1.5_nmin5_VMC_M200_fracred.pdf\n",
      "  warnings.warn(LatexWarning(f'Recovered figure {image} as {fname}'))\n",
      "/opt/hostedtoolcache/Python/3.9.18/x64/lib/python3.9/site-packages/arxiv_on_deck_2/latex.py:120: LatexWarning: attempting recovering figure figures/plot_mass_sfr_zmin0.25_zmax1.50_zppl15.0_zppu25.5_withred\n",
      "  warnings.warn(LatexWarning(f'attempting recovering figure {image}'))\n",
      "/opt/hostedtoolcache/Python/3.9.18/x64/lib/python3.9/site-packages/arxiv_on_deck_2/latex.py:125: LatexWarning: Recovered figure figures/plot_mass_sfr_zmin0.25_zmax1.50_zppl15.0_zppu25.5_withred as tmp_2312.00924/./figures/plot_mass_sfr_zmin0.25_zmax1.50_zppl15.0_zppu25.5_withred.pdf\n",
      "  warnings.warn(LatexWarning(f'Recovered figure {image} as {fname}'))\n"
     ]
    },
    {
     "name": "stderr",
     "output_type": "stream",
     "text": [
      "/opt/hostedtoolcache/Python/3.9.18/x64/lib/python3.9/site-packages/arxiv_on_deck_2/latex.py:120: LatexWarning: attempting recovering figure figures/phasespace_redfraction_zmin0.25_zmax1.50_zppl15.0_zppu25.5\n",
      "  warnings.warn(LatexWarning(f'attempting recovering figure {image}'))\n",
      "/opt/hostedtoolcache/Python/3.9.18/x64/lib/python3.9/site-packages/arxiv_on_deck_2/latex.py:125: LatexWarning: Recovered figure figures/phasespace_redfraction_zmin0.25_zmax1.50_zppl15.0_zppu25.5 as tmp_2312.00924/./figures/phasespace_redfraction_zmin0.25_zmax1.50_zppl15.0_zppu25.5.pdf\n",
      "  warnings.warn(LatexWarning(f'Recovered figure {image} as {fname}'))\n",
      "/opt/hostedtoolcache/Python/3.9.18/x64/lib/python3.9/site-packages/arxiv_on_deck_2/latex.py:120: LatexWarning: attempting recovering figure figures/hist_bd_red_sf\n",
      "  warnings.warn(LatexWarning(f'attempting recovering figure {image}'))\n",
      "/opt/hostedtoolcache/Python/3.9.18/x64/lib/python3.9/site-packages/arxiv_on_deck_2/latex.py:125: LatexWarning: Recovered figure figures/hist_bd_red_sf as tmp_2312.00924/./figures/hist_bd_red_sf.pdf\n",
      "  warnings.warn(LatexWarning(f'Recovered figure {image} as {fname}'))\n"
     ]
    },
    {
     "name": "stderr",
     "output_type": "stream",
     "text": [
      "/opt/hostedtoolcache/Python/3.9.18/x64/lib/python3.9/site-packages/arxiv_on_deck_2/latex.py:120: LatexWarning: attempting recovering figure figures/CGr84_map_v3\n",
      "  warnings.warn(LatexWarning(f'attempting recovering figure {image}'))\n",
      "/opt/hostedtoolcache/Python/3.9.18/x64/lib/python3.9/site-packages/arxiv_on_deck_2/latex.py:125: LatexWarning: Recovered figure figures/CGr84_map_v3 as tmp_2312.00924/./figures/CGr84_map_v3.pdf\n",
      "  warnings.warn(LatexWarning(f'Recovered figure {image} as {fname}'))\n",
      "/opt/hostedtoolcache/Python/3.9.18/x64/lib/python3.9/site-packages/arxiv_on_deck_2/latex.py:120: LatexWarning: attempting recovering figure figures/histogram_cgr84\n",
      "  warnings.warn(LatexWarning(f'attempting recovering figure {image}'))\n",
      "/opt/hostedtoolcache/Python/3.9.18/x64/lib/python3.9/site-packages/arxiv_on_deck_2/latex.py:125: LatexWarning: Recovered figure figures/histogram_cgr84 as tmp_2312.00924/./figures/histogram_cgr84.pdf\n",
      "  warnings.warn(LatexWarning(f'Recovered figure {image} as {fname}'))\n"
     ]
    },
    {
     "name": "stderr",
     "output_type": "stream",
     "text": [
      "/opt/hostedtoolcache/Python/3.9.18/x64/lib/python3.9/site-packages/arxiv_on_deck_2/latex.py:120: LatexWarning: attempting recovering figure figures/filament_CGr172_map\n",
      "  warnings.warn(LatexWarning(f'attempting recovering figure {image}'))\n",
      "/opt/hostedtoolcache/Python/3.9.18/x64/lib/python3.9/site-packages/arxiv_on_deck_2/latex.py:125: LatexWarning: Recovered figure figures/filament_CGr172_map as tmp_2312.00924/./figures/filament_CGr172_map.pdf\n",
      "  warnings.warn(LatexWarning(f'Recovered figure {image} as {fname}'))\n"
     ]
    },
    {
     "name": "stderr",
     "output_type": "stream",
     "text": [
      "/opt/hostedtoolcache/Python/3.9.18/x64/lib/python3.9/site-packages/arxiv_on_deck_2/latex.py:120: LatexWarning: attempting recovering figure figures/QSO_Cgr84_map\n",
      "  warnings.warn(LatexWarning(f'attempting recovering figure {image}'))\n",
      "/opt/hostedtoolcache/Python/3.9.18/x64/lib/python3.9/site-packages/arxiv_on_deck_2/latex.py:125: LatexWarning: Recovered figure figures/QSO_Cgr84_map as tmp_2312.00924/./figures/QSO_Cgr84_map.pdf\n",
      "  warnings.warn(LatexWarning(f'Recovered figure {image} as {fname}'))\n"
     ]
    },
    {
     "name": "stderr",
     "output_type": "stream",
     "text": [
      "/opt/hostedtoolcache/Python/3.9.18/x64/lib/python3.9/site-packages/arxiv_on_deck_2/latex.py:120: LatexWarning: attempting recovering figure figures/arc_CGr32_map\n",
      "  warnings.warn(LatexWarning(f'attempting recovering figure {image}'))\n",
      "/opt/hostedtoolcache/Python/3.9.18/x64/lib/python3.9/site-packages/arxiv_on_deck_2/latex.py:125: LatexWarning: Recovered figure figures/arc_CGr32_map as tmp_2312.00924/./figures/arc_CGr32_map.pdf\n",
      "  warnings.warn(LatexWarning(f'Recovered figure {image} as {fname}'))\n"
     ]
    },
    {
     "name": "stderr",
     "output_type": "stream",
     "text": [
      "/opt/hostedtoolcache/Python/3.9.18/x64/lib/python3.9/site-packages/arxiv_on_deck_2/latex.py:120: LatexWarning: attempting recovering figure figures/mosaic_cosmos_depth\n",
      "  warnings.warn(LatexWarning(f'attempting recovering figure {image}'))\n",
      "/opt/hostedtoolcache/Python/3.9.18/x64/lib/python3.9/site-packages/arxiv_on_deck_2/latex.py:125: LatexWarning: Recovered figure figures/mosaic_cosmos_depth as tmp_2312.00924/./figures/mosaic_cosmos_depth.pdf\n",
      "  warnings.warn(LatexWarning(f'Recovered figure {image} as {fname}'))\n"
     ]
    },
    {
     "name": "stderr",
     "output_type": "stream",
     "text": [
      "/opt/hostedtoolcache/Python/3.9.18/x64/lib/python3.9/site-packages/arxiv_on_deck_2/latex.py:120: LatexWarning: attempting recovering figure figures/examples_spectra_v9\n",
      "  warnings.warn(LatexWarning(f'attempting recovering figure {image}'))\n",
      "/opt/hostedtoolcache/Python/3.9.18/x64/lib/python3.9/site-packages/arxiv_on_deck_2/latex.py:125: LatexWarning: Recovered figure figures/examples_spectra_v9 as tmp_2312.00924/./figures/examples_spectra_v9.pdf\n",
      "  warnings.warn(LatexWarning(f'Recovered figure {image} as {fname}'))\n"
     ]
    },
    {
     "name": "stderr",
     "output_type": "stream",
     "text": [
      "/opt/hostedtoolcache/Python/3.9.18/x64/lib/python3.9/site-packages/arxiv_on_deck_2/latex.py:120: LatexWarning: attempting recovering figure figures/histo2d_nuvr_rj_zmin0.25_zmax1.50_zppl15.0_zppu25.5_VMCover\n",
      "  warnings.warn(LatexWarning(f'attempting recovering figure {image}'))\n",
      "/opt/hostedtoolcache/Python/3.9.18/x64/lib/python3.9/site-packages/arxiv_on_deck_2/latex.py:125: LatexWarning: Recovered figure figures/histo2d_nuvr_rj_zmin0.25_zmax1.50_zppl15.0_zppu25.5_VMCover as tmp_2312.00924/./figures/histo2d_nuvr_rj_zmin0.25_zmax1.50_zppl15.0_zppu25.5_VMCover.pdf\n",
      "  warnings.warn(LatexWarning(f'Recovered figure {image} as {fname}'))\n"
     ]
    },
    {
     "name": "stderr",
     "output_type": "stream",
     "text": [
      "/opt/hostedtoolcache/Python/3.9.18/x64/lib/python3.9/site-packages/arxiv_on_deck_2/latex.py:120: LatexWarning: attempting recovering figure figures/histo_mstar_zmin0.25_zmax1.50_zppl15.0_zppu25.5_VMCover\n",
      "  warnings.warn(LatexWarning(f'attempting recovering figure {image}'))\n",
      "/opt/hostedtoolcache/Python/3.9.18/x64/lib/python3.9/site-packages/arxiv_on_deck_2/latex.py:125: LatexWarning: Recovered figure figures/histo_mstar_zmin0.25_zmax1.50_zppl15.0_zppu25.5_VMCover as tmp_2312.00924/./figures/histo_mstar_zmin0.25_zmax1.50_zppl15.0_zppu25.5_VMCover.pdf\n",
      "  warnings.warn(LatexWarning(f'Recovered figure {image} as {fname}'))\n",
      "/opt/hostedtoolcache/Python/3.9.18/x64/lib/python3.9/site-packages/arxiv_on_deck_2/latex.py:120: LatexWarning: attempting recovering figure figures/histo_BD_ReffG_zmin0.25_zmax1.50_zppl15.0_zppu25.5_VMCover\n",
      "  warnings.warn(LatexWarning(f'attempting recovering figure {image}'))\n",
      "/opt/hostedtoolcache/Python/3.9.18/x64/lib/python3.9/site-packages/arxiv_on_deck_2/latex.py:125: LatexWarning: Recovered figure figures/histo_BD_ReffG_zmin0.25_zmax1.50_zppl15.0_zppu25.5_VMCover as tmp_2312.00924/./figures/histo_BD_ReffG_zmin0.25_zmax1.50_zppl15.0_zppu25.5_VMCover.pdf\n",
      "  warnings.warn(LatexWarning(f'Recovered figure {image} as {fname}'))\n",
      "/opt/hostedtoolcache/Python/3.9.18/x64/lib/python3.9/site-packages/arxiv_on_deck_2/latex.py:120: LatexWarning: attempting recovering figure figures/histo_NUV-Rp_zmin0.25_zmax1.50_zppl15.0_zppu25.5_VMCover\n",
      "  warnings.warn(LatexWarning(f'attempting recovering figure {image}'))\n",
      "/opt/hostedtoolcache/Python/3.9.18/x64/lib/python3.9/site-packages/arxiv_on_deck_2/latex.py:125: LatexWarning: Recovered figure figures/histo_NUV-Rp_zmin0.25_zmax1.50_zppl15.0_zppu25.5_VMCover as tmp_2312.00924/./figures/histo_NUV-Rp_zmin0.25_zmax1.50_zppl15.0_zppu25.5_VMCover.pdf\n",
      "  warnings.warn(LatexWarning(f'Recovered figure {image} as {fname}'))\n",
      "/opt/hostedtoolcache/Python/3.9.18/x64/lib/python3.9/site-packages/arxiv_on_deck_2/latex.py:120: LatexWarning: attempting recovering figure figures/histo_sfr_zmin0.25_zmax1.50_zppl15.0_zppu25.5_VMCover\n",
      "  warnings.warn(LatexWarning(f'attempting recovering figure {image}'))\n",
      "/opt/hostedtoolcache/Python/3.9.18/x64/lib/python3.9/site-packages/arxiv_on_deck_2/latex.py:125: LatexWarning: Recovered figure figures/histo_sfr_zmin0.25_zmax1.50_zppl15.0_zppu25.5_VMCover as tmp_2312.00924/./figures/histo_sfr_zmin0.25_zmax1.50_zppl15.0_zppu25.5_VMCover.pdf\n",
      "  warnings.warn(LatexWarning(f'Recovered figure {image} as {fname}'))\n"
     ]
    },
    {
     "name": "stderr",
     "output_type": "stream",
     "text": [
      "/opt/hostedtoolcache/Python/3.9.18/x64/lib/python3.9/site-packages/arxiv_on_deck_2/latex.py:120: LatexWarning: attempting recovering figure figures/histo_mstar_zmin0.25_zmax1.50_zppl15.0_zppu25.5_VMCover_nored\n",
      "  warnings.warn(LatexWarning(f'attempting recovering figure {image}'))\n",
      "/opt/hostedtoolcache/Python/3.9.18/x64/lib/python3.9/site-packages/arxiv_on_deck_2/latex.py:125: LatexWarning: Recovered figure figures/histo_mstar_zmin0.25_zmax1.50_zppl15.0_zppu25.5_VMCover_nored as tmp_2312.00924/./figures/histo_mstar_zmin0.25_zmax1.50_zppl15.0_zppu25.5_VMCover_nored.pdf\n",
      "  warnings.warn(LatexWarning(f'Recovered figure {image} as {fname}'))\n",
      "/opt/hostedtoolcache/Python/3.9.18/x64/lib/python3.9/site-packages/arxiv_on_deck_2/latex.py:120: LatexWarning: attempting recovering figure figures/histo_BD_ReffG_zmin0.25_zmax1.50_zppl15.0_zppu25.5_VMCover_nored\n",
      "  warnings.warn(LatexWarning(f'attempting recovering figure {image}'))\n",
      "/opt/hostedtoolcache/Python/3.9.18/x64/lib/python3.9/site-packages/arxiv_on_deck_2/latex.py:125: LatexWarning: Recovered figure figures/histo_BD_ReffG_zmin0.25_zmax1.50_zppl15.0_zppu25.5_VMCover_nored as tmp_2312.00924/./figures/histo_BD_ReffG_zmin0.25_zmax1.50_zppl15.0_zppu25.5_VMCover_nored.pdf\n",
      "  warnings.warn(LatexWarning(f'Recovered figure {image} as {fname}'))\n"
     ]
    },
    {
     "name": "stdout",
     "output_type": "stream",
     "text": [
      "Found 151 bibliographic references in tmp_2312.00924/magic_survey.bbl.\n",
      "syntax error in line 529: '=' expected\n",
      "Retrieving document from  https://arxiv.org/e-print/2312.01122\n"
     ]
    },
    {
     "name": "stdout",
     "output_type": "stream",
     "text": [
      "extracting tarball to tmp_2312.01122..."
     ]
    },
    {
     "name": "stdout",
     "output_type": "stream",
     "text": [
      " done.\n",
      "Retrieving document from  https://arxiv.org/e-print/2312.01174\n"
     ]
    },
    {
     "name": "stdout",
     "output_type": "stream",
     "text": [
      "extracting tarball to tmp_2312.01174..."
     ]
    },
    {
     "name": "stdout",
     "output_type": "stream",
     "text": [
      " done.\n"
     ]
    },
    {
     "name": "stdout",
     "output_type": "stream",
     "text": [
      "list index out of range\n",
      "Retrieving document from  https://arxiv.org/e-print/2312.01278\n"
     ]
    },
    {
     "name": "stdout",
     "output_type": "stream",
     "text": [
      "extracting tarball to tmp_2312.01278..."
     ]
    },
    {
     "name": "stdout",
     "output_type": "stream",
     "text": [
      " done.\n"
     ]
    },
    {
     "name": "stdout",
     "output_type": "stream",
     "text": [
      "A. Gould  ->  A. Gould  |  ['A. Gould']\n"
     ]
    },
    {
     "name": "stderr",
     "output_type": "stream",
     "text": [
      "/tmp/ipykernel_2196/3009462391.py:49: LatexWarning: 2312.01278 did not run properly\n",
      "Unable to locate Ghostscript on paths\n",
      "  warnings.warn(latex.LatexWarning(f\"{paper_id:s} did not run properly\\n\" +\n"
     ]
    },
    {
     "name": "stdout",
     "output_type": "stream",
     "text": [
      "Retrieving document from  https://arxiv.org/e-print/2312.01691\n"
     ]
    },
    {
     "name": "stdout",
     "output_type": "stream",
     "text": [
      "extracting tarball to tmp_2312.01691..."
     ]
    },
    {
     "name": "stdout",
     "output_type": "stream",
     "text": [
      " done.\n",
      "Retrieving document from  https://arxiv.org/e-print/2312.02000\n"
     ]
    },
    {
     "name": "stderr",
     "output_type": "stream",
     "text": [
      "/opt/hostedtoolcache/Python/3.9.18/x64/lib/python3.9/site-packages/arxiv_on_deck_2/latex.py:399: LatexWarning: Latex injecting: 'main.bbl' from 'tmp_2312.01691/main.tex'\n",
      "  warnings.warn(LatexWarning(f\"Latex injecting: '{ext}' from '{subsource}'\"))\n"
     ]
    },
    {
     "name": "stdout",
     "output_type": "stream",
     "text": [
      "extracting tarball to tmp_2312.02000..."
     ]
    },
    {
     "name": "stdout",
     "output_type": "stream",
     "text": [
      " done.\n"
     ]
    },
    {
     "name": "stderr",
     "output_type": "stream",
     "text": [
      "/opt/hostedtoolcache/Python/3.9.18/x64/lib/python3.9/site-packages/arxiv_on_deck_2/latex.py:473: LatexWarning: Error parsing the document directly. Trying to recover.\n",
      "  warnings.warn(LatexWarning(f\"Error parsing the document directly. Trying to recover.\"))\n"
     ]
    },
    {
     "name": "stdout",
     "output_type": "stream",
     "text": [
      "✔ → 0:header\n",
      "  ↳ 6690:\\section{Introduction}\n",
      "✔ → 6690:\\section{Introduction}\n",
      "  ↳ 13534:\\section{Observations}\n"
     ]
    },
    {
     "name": "stdout",
     "output_type": "stream",
     "text": [
      "✔ → 13534:\\section{Observations}\n",
      "  ↳ 26337:\\section{Analysis of the morphology and optical depth}\n"
     ]
    },
    {
     "name": "stdout",
     "output_type": "stream",
     "text": [
      "✔ → 26337:\\section{Analysis of the morphology and optical depth}\n",
      "  ↳ 40583:\\section{Extraction and analysis of the scattering properties}\n"
     ]
    },
    {
     "name": "stdout",
     "output_type": "stream",
     "text": [
      "✔ → 40583:\\section{Extraction and analysis of the scattering properties}\n",
      "  ↳ 65862:\\section{Interpretation and discussion}\n"
     ]
    },
    {
     "name": "stdout",
     "output_type": "stream",
     "text": [
      "✘ → 65862:\\section{Interpretation and discussion}\n",
      "  ↳ 92457:\\section{Conclusions}\n",
      "✔ → 92457:\\section{Conclusions}\n",
      "  ↳ 99648:\\begin{appendix}\n",
      "✔ → 99648:\\begin{appendix}\n",
      "  ↳ 99665:\\section{Model fitting}\n"
     ]
    },
    {
     "name": "stdout",
     "output_type": "stream",
     "text": [
      "✔ → 99665:\\section{Model fitting}\n",
      "  ↳ 101480:\\section{Extraction of the total intensity SPF from IRDIS data}\n",
      "✔ → 101480:\\section{Extraction of the total intensity SPF from IRDIS data}\n",
      "  ↳ 102631:\\section{Incompatibility of the silicate, amorphous carbon and water ice porous particle model}\n"
     ]
    },
    {
     "name": "stdout",
     "output_type": "stream",
     "text": [
      "✔ → 102631:\\section{Incompatibility of the silicate, amorphous carbon and water ice porous particle model}\n",
      "  ↳ 110323:end\n"
     ]
    },
    {
     "name": "stdout",
     "output_type": "stream",
     "text": [
      "J. Olofsson  ->  J. Olofsson  |  ['J. Olofsson']\n",
      "C. Desgrange  ->  C. Desgrange  |  ['C. Desgrange']\n"
     ]
    },
    {
     "name": "stdout",
     "output_type": "stream",
     "text": [
      "Found 112 bibliographic references in tmp_2312.02000/HD181327_v3.bbl.\n"
     ]
    },
    {
     "name": "stderr",
     "output_type": "stream",
     "text": [
      "/opt/hostedtoolcache/Python/3.9.18/x64/lib/python3.9/site-packages/arxiv_on_deck_2/latex_bib.py:132: UserWarning: Error processing bibitem\n",
      " item = \\bibitem[{{Pawellek} {et~al.}(2021){Pawellek}, {Wyatt}, {Matr{à}}, {Kennedy},   {Yelverton6}}]{Pawellek2021}{Pawellek}, N., {Wyatt}, M., {Matr{à}}, L., {Kennedy}, G.,  {Yelverton6},  B. 2021, \\mnras, 502, 5390\n",
      " regex = \n",
      "        \\\\bibitem(\\[[^\\[\\]]*?\\]){(?P<bibkey>[a-zA-Z0-9\\-\\+\\.\\S]+?)}(?P<authors>|([\\D]*?))(?P<year>[12][0-9]{3})(?P<rest>.*)\n",
      "        \n",
      "  warnings.warn(str(e))\n"
     ]
    }
   ],
   "source": [
    "documents = []\n",
    "failed = []\n",
    "for paper in tqdm(candidates):\n",
    "    paper_id = paper['identifier'].lower().replace('arxiv:', '')\n",
    "    \n",
    "    folder = f'tmp_{paper_id}'\n",
    "\n",
    "    try:\n",
    "        if not os.path.isdir(folder):\n",
    "            folder = retrieve_document_source(f\"{paper_id}\", f'tmp_{paper_id}')\n",
    "        \n",
    "        try:\n",
    "            doc = latex.LatexDocument(folder, validation=validation)    \n",
    "        except AffiliationError as affilerror:\n",
    "            msg = f\"ArXiv:{paper_id:s} is not an MPIA paper... \" + str(affilerror)\n",
    "            failed.append((paper, \"affiliation error: \" + str(affilerror) ))\n",
    "            continue\n",
    "        \n",
    "        # Hack because sometimes author parsing does not work well\n",
    "        if (len(doc.authors) != len(paper['authors'])):\n",
    "            doc._authors = paper['authors']\n",
    "        else:\n",
    "            # highlight authors (FIXME: doc.highlight_authors)\n",
    "            # done on arxiv paper already\n",
    "            doc._authors = highlight_authors_in_list(\n",
    "                [mpia.get_initials(k) for k in doc.authors], \n",
    "                normed_mpia_authors, verbose=True)\n",
    "        if (doc.abstract) in (None, ''):\n",
    "            doc._abstract = paper['abstract']\n",
    "            \n",
    "        doc.comment = (get_markdown_badge(paper_id) + \n",
    "                       \"<mark>Appeared on: \" + paper['date'] + \"</mark> - \")\n",
    "        if paper['comments']:\n",
    "            doc.comment += \" _\" + paper['comments'] + \"_\"\n",
    "        \n",
    "        full_md = doc.generate_markdown_text()\n",
    "        \n",
    "        full_md += get_markdown_qrcode(paper_id)\n",
    "        \n",
    "        # replace citations\n",
    "        try:\n",
    "            bibdata = latex_bib.LatexBib.from_doc(doc)\n",
    "            full_md = latex_bib.replace_citations(full_md, bibdata)\n",
    "        except Exception as e:\n",
    "            print(e)\n",
    "        \n",
    "        documents.append((paper_id, full_md))\n",
    "    except Exception as e:\n",
    "        warnings.warn(latex.LatexWarning(f\"{paper_id:s} did not run properly\\n\" +\n",
    "                                         str(e)\n",
    "                                        ))\n",
    "        failed.append((paper, \"latex error \" + str(e)))"
   ]
  },
  {
   "cell_type": "markdown",
   "id": "2505a25c",
   "metadata": {
    "papermill": {
     "duration": 0.005234,
     "end_time": "2023-12-05T04:10:46.255751",
     "exception": false,
     "start_time": "2023-12-05T04:10:46.250517",
     "status": "completed"
    },
    "tags": []
   },
   "source": [
    "### Export the logs\n",
    "\n",
    "Throughout, we also keep track of the logs per paper. see `logs-{today date}.md` "
   ]
  },
  {
   "cell_type": "code",
   "execution_count": 5,
   "id": "d733828a",
   "metadata": {
    "execution": {
     "iopub.execute_input": "2023-12-05T04:10:46.267375Z",
     "iopub.status.busy": "2023-12-05T04:10:46.267126Z",
     "iopub.status.idle": "2023-12-05T04:10:46.283906Z",
     "shell.execute_reply": "2023-12-05T04:10:46.283302Z"
    },
    "papermill": {
     "duration": 0.024262,
     "end_time": "2023-12-05T04:10:46.285213",
     "exception": false,
     "start_time": "2023-12-05T04:10:46.260951",
     "status": "completed"
    },
    "scrolled": false,
    "tags": []
   },
   "outputs": [
    {
     "data": {
      "text/markdown": [
       "## Successful papers"
      ],
      "text/plain": [
       "<IPython.core.display.Markdown object>"
      ]
     },
     "metadata": {},
     "output_type": "display_data"
    },
    {
     "data": {
      "text/markdown": [
       "\n",
       "|||\n",
       "|---:|:---|\n",
       "| [![arXiv](https://img.shields.io/badge/arXiv-arXiv:2312.00924-b31b1b.svg)](https://arxiv.org/abs/arXiv:2312.00924) | **MAGIC: Muse gAlaxy Groups In Cosmos -- A survey to probe the impact of  environment on galaxy evolution over the last 8 Gyr**  |\n",
       "|| B. Epinat, et al. -- incl., <mark>L. Boogaard</mark> |\n",
       "|*Appeared on*| *2023-12-05*|\n",
       "|*Comments*| *27 pages, 22 figures, accepted for publication in A&A*|\n",
       "|**Abstract**| We introduce the MUSE gAlaxy Groups in COSMOS (MAGIC) survey built to study the impact of environment on galaxy evolution over the last 8 Gyr. It consists of 17 MUSE fields targeting 14 massive structures at intermediate redshift ($0.3<z<0.8$) in the COSMOS area. We securely measure redshifts for 1419 sources and identify 76 galaxy pairs and 67 groups of at least 3 members using a friends-of-friends algorithm. The environment of galaxies is quantified from group properties, as well as from global and local density estimators, inferred from galaxy number density and dynamics within groups. The MAGIC survey increases the number of objects with a secure spectroscopic redshift over its footprint by a factor of $\\sim 5$. Most of the new redshifts have apparent magnitudes in the $z^{++}$ band $z_{app}^{++}>21.5$. The spectroscopic redshift completeness is high: in the redshift range of [OII] emitters ($0.25 \\le z < 1.5$), where most of the groups are found, it globally reaches a maximum of 80% down to $z_{app}^{++}=25.9$, and it locally decreases from $\\sim 100$% to $\\sim50$% in magnitude bins from $z_{app}^{++}=23-24$ to $z_{app}^{++}=25.5$. We find that the fraction of quiescent galaxies increases with local density and with the time spent in groups. A morphological dichotomy is also found between bulge-dominated quiescent and disk-dominated star-forming galaxies. As environment gets denser, the peak of the stellar mass distribution shifts towards $M_*>10^{10} M_\\odot, the fraction of galaxies with $M_*<10^9 M_\\odot$ decreasing significantly, even for star-forming galaxies. We also highlight peculiar features such as close groups, extended nebulae, and a gravitational arc. Our results suggest that galaxies are pre-processed in groups of increasing mass before entering rich groups and clusters. We publicly release two catalogs containing the properties of galaxies and groups, respectively. |"
      ],
      "text/plain": [
       "[arXiv:2312.00924] MAGIC: Muse gAlaxy Groups In Cosmos -- A survey to probe the impact of  environment on galaxy evolution over the last 8 Gyr\n",
       "\tB. Epinat, et al. -- incl., <mark>L. Boogaard</mark>"
      ]
     },
     "metadata": {},
     "output_type": "display_data"
    },
    {
     "data": {
      "text/markdown": [
       "\n",
       "|||\n",
       "|---:|:---|\n",
       "| [![arXiv](https://img.shields.io/badge/arXiv-arXiv:2312.01174-b31b1b.svg)](https://arxiv.org/abs/arXiv:2312.01174) | **Separating the spectral counterparts in NGC 1275/Perseus cluster in  X-rays**  |\n",
       "|| E. Fedorova, et al. -- incl., <mark>N. Pulatova</mark> |\n",
       "|*Appeared on*| *2023-12-05*|\n",
       "|*Comments*| *18 pages, 6 pages, 8 tables*|\n",
       "|**Abstract**| We develop the recipe to separate the spectral counterparts of the AGN NGC 1275 from the emission of the Perseus cluster surrounding it in the spectra observed by Suzaku/XIS cameras with no usage of the spectral fitting models. The Perseus cluster emission reaches higher energies than is typical for the most AGN-situated dense surroundings (i.e. up to 9-10 keV). That is why the separation between the AGN and cluster spectra is especially important in this case. To avoid the degeneracy due to the huge quantity of the spectral fitting parameters such as abundances of elements the cluster consists of, thermal and Compton emission of the nucleus itself, and the jet SSC/IC emission spectral parameters as well we prefer to avoid the spectral fitting usage to perform this task. Instead, we use the spatial resolution of the components and double background subtracting. For this purpose we choose the following regions to collect all the photons from them: (1) circular or square-shaped region around the source (AGN); (2) ring-shaped (or non-overlapped square) region surrounding the AGN (for cluster); (3) remote empty circular region for the background. Having collected the photons from those regions we subtract the background (i.e. photons from the third region) from the source and cluster spectra. Next, we subtract the re-normalized cluster counts from the AGN spectrum; using the relation between the emission line amplitudes in the AGN and cluster spectra as the renormalization coefficient. We have performed this procedure on the whole set of the Suzaku/XIS observational data for NGC 1275 to obtain the cleaned spectra and light curve of the AGN emission in this system. |"
      ],
      "text/plain": [
       "[arXiv:2312.01174] Separating the spectral counterparts in NGC 1275/Perseus cluster in  X-rays\n",
       "\tE. Fedorova, et al. -- incl., <mark>N. Pulatova</mark>"
      ]
     },
     "metadata": {},
     "output_type": "display_data"
    },
    {
     "data": {
      "text/markdown": [
       "\n",
       "|||\n",
       "|---:|:---|\n",
       "| [![arXiv](https://img.shields.io/badge/arXiv-arXiv:2312.02000-b31b1b.svg)](https://arxiv.org/abs/arXiv:2312.02000) | **The polarisation properties of the HD 181327 debris ring. Evidence for  sub-micron particles from scattered light observations**  |\n",
       "|| J. Milli, et al. -- incl., <mark>J. Olofsson</mark>, <mark>C. Desgrange</mark> |\n",
       "|*Appeared on*| *2023-12-05*|\n",
       "|*Comments*| *21 pages, 22 figures, accepted in Astronomy & Astrophysics*|\n",
       "|**Abstract**| Polarisation is a powerful remote-sensing tool to study the nature of particles scattering the starlight. It is widely used to characterise interplanetary dust particles in the Solar System and increasingly employed to investigate extrasolar dust in debris discs' systems. We aim to measure the scattering properties of the dust from the debris ring around HD 181327 at near-infrared wavelengths. We obtained high-contrast polarimetric images of HD 181327 in the H band with the SPHERE / IRDIS instrument on the Very Large Telescope (ESO). We complemented them with archival data from HST / NICMOS in the F110W filter reprocessed in the context of the Archival Legacy Investigations of Circumstellar Environments (ALICE) project. We developed a combined forward-modelling framework to simultaneously retrieve the scattering phase function in polarisation and intensity. We detected the debris disc around HD 181327 in polarised light and total intensity. We measured the scattering phase function and the degree of linear polarisation of the dust at 1.6 micron in the birth ring. The maximum polarisation is 23.6% +/- 2.6% and occurs between a scattering angle of 70 deg and 82 deg. We show that compact spherical particles made of a highly refractive and relatively absorbing material in a differential power-law size distribution of exponent $-3.5$ can simultaneously reproduce the polarimetric and total intensity scattering properties of the dust. This type of material cannot be obtained with a mixture of silicates, amorphous carbon, water ice, and porosity, and requires a more refracting component such as iron-bearing minerals. We reveal a striking analogy between the near-infrared polarisation of comets and that of HD 181327. The methodology developed here combining VLT/SPHERE and HST/NICMOS may be applicable in the future to combine the polarimetric capabilities of SPHERE with the sensitivity of JWST. |"
      ],
      "text/plain": [
       "[arXiv:2312.02000] The polarisation properties of the HD 181327 debris ring. Evidence for  sub-micron particles from scattered light observations\n",
       "\tJ. Milli, et al. -- incl., <mark>J. Olofsson</mark>, <mark>C. Desgrange</mark>"
      ]
     },
     "metadata": {},
     "output_type": "display_data"
    },
    {
     "data": {
      "text/markdown": [
       "## Failed papers"
      ],
      "text/plain": [
       "<IPython.core.display.Markdown object>"
      ]
     },
     "metadata": {},
     "output_type": "display_data"
    },
    {
     "data": {
      "text/markdown": [
       "\n",
       "|||\n",
       "|---:|:---|\n",
       "| [![arXiv](https://img.shields.io/badge/arXiv-arXiv:2312.01122-b31b1b.svg)](https://arxiv.org/abs/arXiv:2312.01122) | **GeV Variability Properties of TeV Blazars Detected by Fermi-LAT**  |\n",
       "|| G. Wang, H. Xiao, J. Fan, <mark>X. Zhang</mark> |\n",
       "|*Appeared on*| *2023-12-05*|\n",
       "|*Comments*| *22 pages, 9 figures, accepted for publication in ApJS*|\n",
       "|**Abstract**| Variability is a prominent observational feature of blazars. The high-energy radiation mechanism of jets has always been important but still unclear. In this work, we performed a detailed analysis using Fermi-LAT data across 15 years and obtained GeV light curve information for 78 TeV blazars detected by Fermi. We provided annual GeV fluxes and corresponding spectral indices for the 78 TeV blazars and thorough monthly GeV fluxes for a subsample of 41 bright blazars. Our results suggest a strong correlation between the ${\\gamma}$-ray photon index and $\\log L_{\\rm \\gamma}$ for the flat spectrum radio quasars (FSRQs) and high-energy-peaked BL Lacs (HBLs). 14 sources in our sample show significant GeV outbursts/flares above the relatively stable, low-flux light curve, with 6 of them showing a clear sharp peak profile in their 5-day binned light curves. We quantified the variability utilizing the fractional variability parameter $F_{\\mathrm{var}}$, and found that the flux of the FSRQs showed significantly stronger variability than that of the BL Lacs. The 41 bright blazars in this work are best fit by a log-normal flux distribution. We checked the spectral behavior and found 11 out of the 14 sources show a 'bluer-when-brighter (BWB)' trend, suggesting this spectral behavior for these TeV blazars at the GeV band arises from the mechanism that the synchrotron-self Compton (SSC) process dominates the GeV emission. Our research offers a systematic analysis of the GeV variability properties of TeV blazars and serves as a helpful resource for further associated blazar studies. |\n",
       "|<p style=\"color:green\"> **ERROR** </p>| <p style=\"color:green\">affiliation error: mpia.affiliation_verifications: 'Heidelberg' keyword not found.</p> |"
      ],
      "text/plain": [
       "<IPython.core.display.Markdown object>"
      ]
     },
     "metadata": {},
     "output_type": "display_data"
    },
    {
     "data": {
      "text/markdown": [
       "\n",
       "|||\n",
       "|---:|:---|\n",
       "| [![arXiv](https://img.shields.io/badge/arXiv-arXiv:2312.01691-b31b1b.svg)](https://arxiv.org/abs/arXiv:2312.01691) | **Estimating Coronal Mass Ejection Mass and Kinetic Energy by Fusion of  Multiple Deep-learning Models**  |\n",
       "|| K. A. Alobaid, et al. -- incl., <mark>J. Li</mark> |\n",
       "|*Appeared on*| *2023-12-05*|\n",
       "|*Comments*| *10 pages, 7 figures*|\n",
       "|**Abstract**| Coronal mass ejections (CMEs) are massive solar eruptions, which have a significant impact on Earth. In this paper, we propose a new method, called DeepCME, to estimate two properties of CMEs, namely, CME mass and kinetic energy. Being able to estimate these properties helps better understand CME dynamics. Our study is based on the CME catalog maintained at the Coordinated Data Analysis Workshops (CDAW) Data Center, which contains all CMEs manually identified since 1996 using the Large Angle and Spectrometric Coronagraph (LASCO) on board the Solar and Heliospheric Observatory (SOHO). We use LASCO C2 data in the period between January 1996 and December 2020 to train, validate and test DeepCME through 10-fold cross validation. The DeepCME method is a fusion of three deep learning models, including ResNet, InceptionNet, and InceptionResNet. Our fusion model extracts features from LASCO C2 images, effectively combining the learning capabilities of the three component models to jointly estimate the mass and kinetic energy of CMEs. Experimental results show that the fusion model yields a mean relative error (MRE) of 0.013 (0.009, respectively) compared to the MRE of 0.019 (0.017, respectively) of the best component model InceptionResNet (InceptionNet, respectively) in estimating the CME mass (kinetic energy, respectively). To our knowledge, this is the first time that deep learning has been used for CME mass and kinetic energy estimations. |\n",
       "|<p style=\"color:green\"> **ERROR** </p>| <p style=\"color:green\">affiliation error: mpia.affiliation_verifications: 'Heidelberg' keyword not found.</p> |"
      ],
      "text/plain": [
       "<IPython.core.display.Markdown object>"
      ]
     },
     "metadata": {},
     "output_type": "display_data"
    },
    {
     "data": {
      "text/markdown": [
       "\n",
       "|||\n",
       "|---:|:---|\n",
       "| [![arXiv](https://img.shields.io/badge/arXiv-arXiv:2312.01278-b31b1b.svg)](https://arxiv.org/abs/arXiv:2312.01278) | **OGLE-2019-BLG-1180Lb: Discovery of a Wide-orbit Jupiter-mass Planet  around a Late-type Star**  |\n",
       "|| S.-J. Chung, et al. -- incl., <mark>A. Gould</mark> |\n",
       "|*Appeared on*| *2023-12-05*|\n",
       "|*Comments*| *12 pages, 12 figures, 5 tables, published in AJ*|\n",
       "|**Abstract**| We report on the discovery and analysis of the planetary microlensing event OGLE-2019-BLG-1180 with a planet-to-star mass ratio $q \\sim 0.003$. The event OGLE-2019-BLG-1180 has unambiguous cusp-passing and caustic-crossing anomalies, which were caused by a wide planetary caustic with $s \\simeq 2$, where $s$ is the star-planet separation in units of the angular Einstein radius $\\theta_{E}$. Thanks to well-covered anomalies by the Korea Micorolensing Telescope Network (KMTNet), we measure both the angular Einstein radius and the microlens parallax in spite of a relatively short event timescale of $t_{E} = 28$ days. However, because of a weak constraint on the parallax, we conduct a Bayesian analysis to estimate the physical lens parameters. We find that the lens system is a super-Jupiter-mass planet of $M_{p} = 1.75^{+0.54}_{-0.51} M_{J}$ orbiting a late-type star of $M_{h}=0.55^{+0.27}_{-0.26} M_\\odot$ at a distance of $D_{L} = 6.1^{+0.9}_{-1.3}$ kpc. The projected star-planet separation is $a_{\\perp} = 5.19^{+0.90}_{-1.23}$ au, which means that the planet orbits at about four times the snow line of the host star. Considering the relative lens-source proper motion of $\\mu_{rel} = 6$ mas/yr, the lens will be separated from the source by 60 mas in 2029. At that time one can measure the lens flux from adaptive optics imaging of Kec or a next-generation 30 m class telescope. OGLE-2019-BLG-1180Lb represents a growing population of wide-orbit planets detected by KMTNet, so we also present a general investigation into prospects for further expanding the sample of such planets. |\n",
       "|<p style=\"color:red\"> **ERROR** </p>| <p style=\"color:red\">latex error Unable to locate Ghostscript on paths</p> |"
      ],
      "text/plain": [
       "<IPython.core.display.Markdown object>"
      ]
     },
     "metadata": {},
     "output_type": "display_data"
    }
   ],
   "source": [
    "import datetime\n",
    "today = str(datetime.date.today())\n",
    "logfile = f\"_build/html/logs/log-{today}.md\"\n",
    "\n",
    "\n",
    "with open(logfile, 'w') as logs:\n",
    "    # Success\n",
    "    logs.write(f'# Arxiv on Deck 2: Logs - {today}\\n\\n')\n",
    "    logs.write(\"\"\"* Arxiv had {0:,d} new papers\\n\"\"\".format(len(new_papers)))\n",
    "    logs.write(\"\"\"    * {0:,d} with possible author matches\\n\\n\"\"\".format(len(candidates)))\n",
    "    logs.write(\"## Sucessful papers\\n\\n\")\n",
    "    display(Markdown(\"## Successful papers\"))\n",
    "    success = [k[0] for k in documents]\n",
    "    for candid in candidates:\n",
    "        if candid['identifier'].split(':')[-1] in success:\n",
    "            display(candid)\n",
    "            logs.write(candid.generate_markdown_text() + '\\n\\n')\n",
    "\n",
    "    ## failed\n",
    "    logs.write(\"## Failed papers\\n\\n\")\n",
    "    display(Markdown(\"## Failed papers\"))\n",
    "    failed = sorted(failed, key=lambda x: x[1])\n",
    "    current_reason = \"\"\n",
    "    for paper, reason in failed:\n",
    "        if 'affiliation' in reason:\n",
    "            color = 'green'\n",
    "        else:\n",
    "            color = 'red'\n",
    "        data = Markdown(\n",
    "                paper.generate_markdown_text() + \n",
    "                f'\\n|<p style=\"color:{color:s}\"> **ERROR** </p>| <p style=\"color:{color:s}\">{reason:s}</p> |'\n",
    "               )\n",
    "        if reason != current_reason:\n",
    "            logs.write(f'### {reason:s} \\n\\n')\n",
    "            current_reason = reason\n",
    "        logs.write(data.data + '\\n\\n')\n",
    "        \n",
    "        # only display here the important errors (all in logs)\n",
    "        # if color in ('red',):\n",
    "        display(data)"
   ]
  },
  {
   "cell_type": "markdown",
   "id": "472d20ee",
   "metadata": {
    "papermill": {
     "duration": 0.006004,
     "end_time": "2023-12-05T04:10:46.297369",
     "exception": false,
     "start_time": "2023-12-05T04:10:46.291365",
     "status": "completed"
    },
    "tags": []
   },
   "source": [
    "## Export documents\n",
    "\n",
    "We now write the .md files and export relevant images"
   ]
  },
  {
   "cell_type": "code",
   "execution_count": 6,
   "id": "d426aed9",
   "metadata": {
    "execution": {
     "iopub.execute_input": "2023-12-05T04:10:46.310506Z",
     "iopub.status.busy": "2023-12-05T04:10:46.310134Z",
     "iopub.status.idle": "2023-12-05T04:10:46.316379Z",
     "shell.execute_reply": "2023-12-05T04:10:46.315769Z"
    },
    "papermill": {
     "duration": 0.014424,
     "end_time": "2023-12-05T04:10:46.317786",
     "exception": false,
     "start_time": "2023-12-05T04:10:46.303362",
     "status": "completed"
    },
    "tags": []
   },
   "outputs": [],
   "source": [
    "def export_markdown_summary(md: str, md_fname:str, directory: str):\n",
    "    \"\"\"Export MD document and associated relevant images\"\"\"\n",
    "    import os\n",
    "    import shutil\n",
    "    import re\n",
    "\n",
    "    if (os.path.exists(directory) and not os.path.isdir(directory)):\n",
    "        raise RuntimeError(f\"a non-directory file exists with name {directory:s}\")\n",
    "\n",
    "    if (not os.path.exists(directory)):\n",
    "        print(f\"creating directory {directory:s}\")\n",
    "        os.mkdir(directory)\n",
    "\n",
    "    fig_fnames = (re.compile(r'\\[Fig.*\\]\\((.*)\\)').findall(md) + \n",
    "                  re.compile(r'\\<img src=\"([^>\\s]*)\"[^>]*/>').findall(md))\n",
    "    for fname in fig_fnames:\n",
    "        if 'http' in fname:\n",
    "            # No need to copy online figures\n",
    "            continue\n",
    "        destdir = os.path.join(directory, os.path.dirname(fname))\n",
    "        destfname = os.path.join(destdir, os.path.basename(fname))\n",
    "        try:\n",
    "            os.makedirs(destdir)\n",
    "        except FileExistsError:\n",
    "            pass\n",
    "        shutil.copy(fname, destfname)\n",
    "    with open(os.path.join(directory, md_fname), 'w') as fout:\n",
    "        fout.write(md)\n",
    "    print(\"exported in \", os.path.join(directory, md_fname))\n",
    "    [print(\"    + \" + os.path.join(directory,fk)) for fk in fig_fnames]"
   ]
  },
  {
   "cell_type": "code",
   "execution_count": 7,
   "id": "014d04a4",
   "metadata": {
    "execution": {
     "iopub.execute_input": "2023-12-05T04:10:46.330851Z",
     "iopub.status.busy": "2023-12-05T04:10:46.330515Z",
     "iopub.status.idle": "2023-12-05T04:10:46.342180Z",
     "shell.execute_reply": "2023-12-05T04:10:46.341581Z"
    },
    "papermill": {
     "duration": 0.019702,
     "end_time": "2023-12-05T04:10:46.343561",
     "exception": false,
     "start_time": "2023-12-05T04:10:46.323859",
     "status": "completed"
    },
    "tags": []
   },
   "outputs": [
    {
     "name": "stdout",
     "output_type": "stream",
     "text": [
      "exported in  _build/html/2312.00924.md\n",
      "    + _build/html/tmp_2312.00924/./figures/histo_mstar_zmin0.25_zmax1.50_zppl15.0_zppu25.5_VMCover.png\n",
      "    + _build/html/tmp_2312.00924/./figures/histo_BD_ReffG_zmin0.25_zmax1.50_zppl15.0_zppu25.5_VMCover.png\n",
      "    + _build/html/tmp_2312.00924/./figures/histo_NUV-Rp_zmin0.25_zmax1.50_zppl15.0_zppu25.5_VMCover.png\n",
      "    + _build/html/tmp_2312.00924/./figures/histo_sfr_zmin0.25_zmax1.50_zppl15.0_zppu25.5_VMCover.png\n",
      "    + _build/html/tmp_2312.00924/./figures/arc_CGr32_map.png\n",
      "    + _build/html/tmp_2312.00924/./figures/histo_mstar_zmin0.25_zmax1.50_zppl15.0_zppu25.5_VMCover_nored.png\n",
      "    + _build/html/tmp_2312.00924/./figures/histo_BD_ReffG_zmin0.25_zmax1.50_zppl15.0_zppu25.5_VMCover_nored.png\n",
      "exported in  _build/html/2312.01174.md\n",
      "    + _build/html/tmp_2312.01174/./Screenshot_20231107_130040.png\n",
      "    + _build/html/tmp_2312.01174/./Screenshot_20231107_130713.png\n",
      "    + _build/html/tmp_2312.01174/./lightcurve.png\n",
      "    + _build/html/tmp_2312.01174/./spectral_lines1.png\n",
      "exported in  _build/html/2312.02000.md\n",
      "    + _build/html/tmp_2312.02000/./figures/I_Qphi_Uphi.png\n",
      "    + _build/html/tmp_2312.02000/./figures/optical_depth_ALMA_STIS_IRDIS_final.png\n",
      "    + _build/html/tmp_2312.02000/./figures/NICMOS_best_phase_function.png\n"
     ]
    }
   ],
   "source": [
    "for paper_id, md in documents:\n",
    "    export_markdown_summary(md, f\"{paper_id:s}.md\", '_build/html/')"
   ]
  },
  {
   "cell_type": "markdown",
   "id": "f087a0a7",
   "metadata": {
    "papermill": {
     "duration": 0.005997,
     "end_time": "2023-12-05T04:10:46.355773",
     "exception": false,
     "start_time": "2023-12-05T04:10:46.349776",
     "status": "completed"
    },
    "tags": []
   },
   "source": [
    "## Display the papers\n",
    "\n",
    "Not necessary but allows for a quick check."
   ]
  },
  {
   "cell_type": "code",
   "execution_count": 8,
   "id": "fd25f625",
   "metadata": {
    "execution": {
     "iopub.execute_input": "2023-12-05T04:10:46.369251Z",
     "iopub.status.busy": "2023-12-05T04:10:46.368792Z",
     "iopub.status.idle": "2023-12-05T04:10:46.376086Z",
     "shell.execute_reply": "2023-12-05T04:10:46.375572Z"
    },
    "papermill": {
     "duration": 0.015475,
     "end_time": "2023-12-05T04:10:46.377450",
     "exception": false,
     "start_time": "2023-12-05T04:10:46.361975",
     "status": "completed"
    },
    "scrolled": false,
    "tags": []
   },
   "outputs": [
    {
     "data": {
      "text/markdown": [
       "<div class=\"macros\" style=\"visibility:hidden;\">\n",
       "$\\newcommand{\\ensuremath}{}$\n",
       "$\\newcommand{\\xspace}{}$\n",
       "$\\newcommand{\\object}[1]{\\texttt{#1}}$\n",
       "$\\newcommand{\\farcs}{{.}''}$\n",
       "$\\newcommand{\\farcm}{{.}'}$\n",
       "$\\newcommand{\\arcsec}{''}$\n",
       "$\\newcommand{\\arcmin}{'}$\n",
       "$\\newcommand{\\ion}[2]{#1#2}$\n",
       "$\\newcommand{\\textsc}[1]{\\textrm{#1}}$\n",
       "$\\newcommand{\\hl}[1]{\\textrm{#1}}$\n",
       "$\\newcommand{\\footnote}[1]{}$\n",
       "$\\newcommand{\\nii}{[\\ion{N}{ii}]}$\n",
       "$\\newcommand{\\niia}{[\\ion{N}{ii}]\\lambda6548}$\n",
       "$\\newcommand{\\niib}{[\\ion{N}{ii}]\\lambda6583}$\n",
       "$\\newcommand{\\niiab}{[\\ion{N}{ii}]\\lambda\\lambda6548,6583}$\n",
       "$\\newcommand{\\sii}{[\\ion{S}{ii}]}$\n",
       "$\\newcommand{\\siia}{[\\ion{S}{ii}]\\lambda6716}$\n",
       "$\\newcommand{\\siib}{[\\ion{S}{ii}]\\lambda6731}$\n",
       "$\\newcommand{\\siiab}{[\\ion{S}{ii}]\\lambda\\lambda6716,6731}$\n",
       "$\\newcommand{\\oii}{[\\ion{O}{ii}]}$\n",
       "$\\newcommand{\\oiiab}{[\\ion{O}{ii}]\\lambda\\lambda3727,3729}$\n",
       "$\\newcommand{\\oiia}{[\\ion{O}{ii}]\\lambda3727}$\n",
       "$\\newcommand{\\oiib}{[\\ion{O}{ii}]\\lambda3729}$\n",
       "$\\newcommand{\\oiii}{[\\ion{O}{iii}]}$\n",
       "$\\newcommand{\\oiiiab}{[\\ion{O}{iii}]\\lambda\\lambda4959,5007}$\n",
       "$\\newcommand{\\oiiia}{[\\ion{O}{iii}]\\lambda5007}$\n",
       "$\\newcommand{\\oiiib}{[\\ion{O}{iii}]\\lambda4959}$\n",
       "$\\newcommand{\\oiiic}{[\\ion{O}{iii}]\\lambda4363}$\n",
       "$\\newcommand{\\ciii}{\\ion{C}{iii}]}$\n",
       "$\\newcommand{\\ciiiab}{\\ion{C}{iii}]\\lambda\\lambda1907,1909}$\n",
       "$\\newcommand{\\ciiia}{\\ion{C}{iii}]\\lambda1907}$\n",
       "$\\newcommand{\\ciiib}{\\ion{C}{iii}]\\lambda1909}$\n",
       "$\\newcommand{\\ca}{[\\ion{Ca}{iii}]}$\n",
       "$\\newcommand{\\mgiiab}{\\ion{Mg}{ii}\\lambda\\lambda2796,2803}$\n",
       "$\\newcommand{\\mgii}{\\ion{Mg}{ii}}$\n",
       "$\\newcommand{\\ha}{H\\alpha}$\n",
       "$\\newcommand{\\haa}{H\\alpha\\lambda6563}$\n",
       "$\\newcommand{\\hb}{H\\beta}$\n",
       "$\\newcommand{\\hba}{H\\beta\\lambda4861}$\n",
       "$\\newcommand{\\lya}{Ly\\alpha}$\n",
       "$\\newcommand{\\lyaa}{Ly\\alpha\\lambda1216}$\n",
       "$\\newcommand{\\kms}{km~s^{-1}}$\n",
       "$\\newcommand{\\zCOSMOS}{COSMOS-z_{\\rm spec}}$</div>\n",
       "\n",
       "\n",
       "\n",
       "<div id=\"title\">\n",
       "\n",
       "# MAGIC: Muse gAlaxy Groups In Cosmos - A survey to probe the impact of environment on galaxy evolution over the last 8 Gyr   $\\thanks{Based on observations made with ESO telescopes at the Paranal Observatory under programs 094.A-0247, 095.A-0118, 096.A-0596, 097.A-0254, 099.A-0246, 100.A-0607, 101.A-0282, 102.A-0327, 103.A-0563.}$\n",
       "\n",
       "</div>\n",
       "<div id=\"comments\">\n",
       "\n",
       "[![arXiv](https://img.shields.io/badge/arXiv-2312.00924-b31b1b.svg)](https://arxiv.org/abs/2312.00924)<mark>Appeared on: 2023-12-05</mark> -  _27 pages, 22 figures, accepted for publication in A&A_\n",
       "\n",
       "</div>\n",
       "<div id=\"authors\">\n",
       "\n",
       "B. Epinat, et al. -- incl., <mark>L. Boogaard</mark>\n",
       "\n",
       "</div>\n",
       "<div id=\"abstract\">\n",
       "\n",
       "**Abstract:** Galaxies migrate along cosmic web filaments from small groups to clusters, which makes the evolution of their properties look stronger as environments get denser. We introduce the Muse gAlaxy Groups in Cosmos (MAGIC) survey built to study the impact of environment on galaxy evolution down to low stellar masses over the last eight Gyr. The MAGIC survey consists of 17 Multi-Unit Spectrocopic Exporer (MUSE) fields targeting 14 massive, known structures at intermediate redshift ( $0.3<z<0.8$ ) in the COSMOS area, with a total on-source exposure of 67h. We securely measure redshifts for 1419 sources and identify 76 galaxy pairs and 67 groups of at least three members using a friends-of-friends algorithm.   The environment of galaxies is quantified from group properties, as well as from global and local density estimators, inferred from galaxy number density and dynamics within groups. The MAGIC survey has increased the number of objects with a secure spectroscopic redshift over its footprint by a factor of $\\sim 5$ compared to the previous extensive spectroscopic campaigns on the COSMOS field. Most of the new redshifts have apparent magnitudes in the $z^{++}$ band $z_{\\rm app}^{++}>21.5$ . The spectroscopic redshift completeness is high: in the redshift range of $\\oii$ emitters ( $0.25 \\le z < 1.5$ ), where most of the groups are found, it globally reaches a maximum of 80 \\% down to $z_{\\rm app}^{++}=25.9$ , and it locally decreases from $\\sim 100$ \\% to $\\sim50$ \\% in magnitude bins from $z_{\\rm app}^{++}=23-24$ to $z_{\\rm app}^{++}=25.5$ .   We find that the fraction of quiescent galaxies increases with local density and with the time spent in groups. A morphological dichotomy is also found between bulge-dominated quiescent and disk-dominated star-forming galaxies. As environment gets denser, the peak of the stellar mass distribution shifts towards $M_\\star>10^{10} M_\\sun$ , the fraction of galaxies with $M_\\star<10^9 M_\\sun$ decreasing significantly, even for star-forming galaxies.   We also highlight peculiar features such as close groups, extended nebulae, and a gravitational arc. Our results suggest that galaxies are pre-processed in groups of increasing mass before entering rich groups and clusters.   We publicly release two catalogs containing the properties of galaxies and groups, respectively.\n",
       "\n",
       "</div>\n",
       "\n",
       "<div id=\"div_fig1\">\n",
       "\n",
       "<img src=\"tmp_2312.00924/./figures/histo_mstar_zmin0.25_zmax1.50_zppl15.0_zppu25.5_VMCover.png\" alt=\"Fig21.1\" width=\"25%\"/><img src=\"tmp_2312.00924/./figures/histo_BD_ReffG_zmin0.25_zmax1.50_zppl15.0_zppu25.5_VMCover.png\" alt=\"Fig21.2\" width=\"25%\"/><img src=\"tmp_2312.00924/./figures/histo_NUV-Rp_zmin0.25_zmax1.50_zppl15.0_zppu25.5_VMCover.png\" alt=\"Fig21.3\" width=\"25%\"/><img src=\"tmp_2312.00924/./figures/histo_sfr_zmin0.25_zmax1.50_zppl15.0_zppu25.5_VMCover.png\" alt=\"Fig21.4\" width=\"25%\"/>\n",
       "\n",
       "**Figure 21. -** Histograms of stellar mass (top left panel), bulge-to-disc ratio within the galaxy effective radius (top right panel), color (bottom left panel), and SFR (bottom right panel) using the four VMC overdensity classes (see Sect. \\ref{sec:red_sequence} and Table \\ref{tab:fraction_redseq}). For each class in each histogram, the leftmost and rightmost bins contain all objects with values respectively below and above the corresponding limits. (*fig:histograms1d*)\n",
       "\n",
       "</div>\n",
       "<div id=\"div_fig2\">\n",
       "\n",
       "<img src=\"tmp_2312.00924/./figures/arc_CGr32_map.png\" alt=\"Fig17\" width=\"100%\"/>\n",
       "\n",
       "**Figure 17. -** F814W HST-ACS image centered on the lensing source, 152\\_CGr32, at $z=0.72519$ in logarithmic scale (arbitrary unit). The red contours represent the $\\lya$ emission of the lensed source at $z=4.0973$ at levels 1, 2, and $4\\times 10^{-17}$ erg s$^{-1}$ cm$^{-2}$ arcsec$^{-1}$.\n",
       " It is estimated by collapsing the MUSE cube over 20 Å at the observed wavelength of the $\\lya$ line, and by subtracting the continuum using 50 Å wide adjacent wavelength ranges on both sides of the $\\lya$ range. The four images are identified with black crosses, the lens model critical lines are displayed in purple,\n",
       " and the blue wedge indicates the range in the directions to the massive structure responsible for the shear in the lens model, at 1-$\\sigma$. The green wedge represents the center directions between the barycenter of CGr32 members inferred from MUSE data and the X-ray center. (*fig:arc_map*)\n",
       "\n",
       "</div>\n",
       "<div id=\"div_fig3\">\n",
       "\n",
       "<img src=\"tmp_2312.00924/./figures/histo_mstar_zmin0.25_zmax1.50_zppl15.0_zppu25.5_VMCover_nored.png\" alt=\"Fig22.1\" width=\"50%\"/><img src=\"tmp_2312.00924/./figures/histo_BD_ReffG_zmin0.25_zmax1.50_zppl15.0_zppu25.5_VMCover_nored.png\" alt=\"Fig22.2\" width=\"50%\"/>\n",
       "\n",
       "**Figure 22. -** Similar as Fig. \\ref{fig:histograms1d} for the stellar mass and B/D, discarding quiescent galaxies. (*fig:histograms1d_nored*)\n",
       "\n",
       "</div><div id=\"qrcode\"><img src=https://api.qrserver.com/v1/create-qr-code/?size=100x100&data=\"https://arxiv.org/abs/2312.00924\"></div>"
      ],
      "text/plain": [
       "<IPython.core.display.Markdown object>"
      ]
     },
     "metadata": {},
     "output_type": "display_data"
    },
    {
     "data": {
      "text/markdown": [
       "<div class=\"macros\" style=\"visibility:hidden;\">\n",
       "$\\newcommand{\\ensuremath}{}$\n",
       "$\\newcommand{\\xspace}{}$\n",
       "$\\newcommand{\\object}[1]{\\texttt{#1}}$\n",
       "$\\newcommand{\\farcs}{{.}''}$\n",
       "$\\newcommand{\\farcm}{{.}'}$\n",
       "$\\newcommand{\\arcsec}{''}$\n",
       "$\\newcommand{\\arcmin}{'}$\n",
       "$\\newcommand{\\ion}[2]{#1#2}$\n",
       "$\\newcommand{\\textsc}[1]{\\textrm{#1}}$\n",
       "$\\newcommand{\\hl}[1]{\\textrm{#1}}$\n",
       "$\\newcommand{\\footnote}[1]{}$</div>\n",
       "\n",
       "\n",
       "\n",
       "<div id=\"title\">\n",
       "\n",
       "# Separating the spectral counterparts in NGC 1275/Perseus cluster in X-rays\n",
       "\n",
       "</div>\n",
       "<div id=\"comments\">\n",
       "\n",
       "[![arXiv](https://img.shields.io/badge/arXiv-2312.01174-b31b1b.svg)](https://arxiv.org/abs/2312.01174)<mark>Appeared on: 2023-12-05</mark> -  _18 pages, 6 pages, 8 tables_\n",
       "\n",
       "</div>\n",
       "<div id=\"authors\">\n",
       "\n",
       "E. Fedorova, et al. -- incl., <mark>N. Pulatova</mark>\n",
       "\n",
       "</div>\n",
       "<div id=\"abstract\">\n",
       "\n",
       "**Abstract:** We develop the recipe to separate the spectral counterparts of the AGN NGC 1275 from the emission of the Perseus cluster surrounding it in the spectra observed by Suzaku/XIS cameras with no usage of the spectral fitting models. The Perseus cluster emission reaches higher energies than is typical for the most AGN-situated dense surroundings (i.e. up to 9-10 keV). That is why the separation between the AGN and cluster spectra is especially important in this case. To avoid the degeneracy due to the huge quantity of the spectral fitting parameters such as abundances of elements the cluster consists of, thermal and Compton emission of the nucleus itself, and the jet SSC/IC emission spectral parameters as well we prefer to avoid the spectral fitting usage to perform this task. Instead, we use the spatial resolution of the components and double background subtracting. For this purpose we choose the following regions to collect all the photons from them: (1) circular or square-shaped region around the source (AGN); (2) ring-shaped (or non-overlapped square) region surrounding the AGN (for cluster); (3) remote empty circular region for the background. Having collected the photons from those regions we subtract the background (i.e. photons from the third region) from the source and cluster spectra. Next, we subtract the re-normalized cluster counts from the AGN spectrum; using the relation between the emission line amplitudes in the AGN and cluster spectra as the renormalization coefficient.We have performed this procedure on the whole set of the Suzaku/XIS observational data for NGC 1275 to obtain the cleaned spectra and light curve of the AGN emission in this system.\n",
       "\n",
       "</div>\n",
       "\n",
       "<div id=\"div_fig1\">\n",
       "\n",
       "<img src=\"tmp_2312.01174/./Screenshot_20231107_130040.png\" alt=\"Fig4.1\" width=\"50%\"/><img src=\"tmp_2312.01174/./Screenshot_20231107_130713.png\" alt=\"Fig4.2\" width=\"50%\"/>\n",
       "\n",
       "**Figure 4. -** The 1-10 keV range unfolded spectra of NGC 1275 by Suzaku/XIS for the observation performed on August 2006 (left) and August 2007 (right) with the models. (*unfspecs*)\n",
       "\n",
       "</div>\n",
       "<div id=\"div_fig2\">\n",
       "\n",
       "<img src=\"tmp_2312.01174/./lightcurve.png\" alt=\"Fig5\" width=\"100%\"/>\n",
       "\n",
       "**Figure 5. -** The 2-10 keV Suzaku/XIS light curve of NGC 1275. (*lcurve*)\n",
       "\n",
       "</div>\n",
       "<div id=\"div_fig3\">\n",
       "\n",
       "<img src=\"tmp_2312.01174/./spectral_lines1.png\" alt=\"Fig1\" width=\"100%\"/>\n",
       "\n",
       "**Figure 1. -** The example of the 0.5-10.0 keV spectra of the surroundings (cluster) and NGC 1275 (uncleaned AGN + cluster) extracted in the standard way for the observational window 101012010. The uncleaned AGN + cluster spectrum extracted from the circular central region around the AGN is shown in red, and the surrounding cluster spectrum extracted from the ring-shaped region is shown in black. (*spectrum*)\n",
       "\n",
       "</div><div id=\"qrcode\"><img src=https://api.qrserver.com/v1/create-qr-code/?size=100x100&data=\"https://arxiv.org/abs/2312.01174\"></div>"
      ],
      "text/plain": [
       "<IPython.core.display.Markdown object>"
      ]
     },
     "metadata": {},
     "output_type": "display_data"
    },
    {
     "data": {
      "text/markdown": [
       "<div class=\"macros\" style=\"visibility:hidden;\">\n",
       "$\\newcommand{\\ensuremath}{}$\n",
       "$\\newcommand{\\xspace}{}$\n",
       "$\\newcommand{\\object}[1]{\\texttt{#1}}$\n",
       "$\\newcommand{\\farcs}{{.}''}$\n",
       "$\\newcommand{\\farcm}{{.}'}$\n",
       "$\\newcommand{\\arcsec}{''}$\n",
       "$\\newcommand{\\arcmin}{'}$\n",
       "$\\newcommand{\\ion}[2]{#1#2}$\n",
       "$\\newcommand{\\textsc}[1]{\\textrm{#1}}$\n",
       "$\\newcommand{\\hl}[1]{\\textrm{#1}}$\n",
       "$\\newcommand{\\footnote}[1]{}$\n",
       "$\\newcommand{\\tabularnewline}{\\\\}$\n",
       "$\\newcommand{\\Mearth}{M_{\\oplus}}$\n",
       "$\\newcommand{\\Mjup}{M_{\\text{Jup}}}$\n",
       "$\\newcommand{\\Msun}{M_{\\odot}}$\n",
       "$\\newcommand{\\bPic}{\\beta Pictoris}$\n",
       "$\\newcommand$\n",
       "$\\newcommand$\n",
       "$\\newcommand$\n",
       "$\\newcommand{\\micron}{\\unit{\\micro\\meter}}$\n",
       "$\\newcommand{\\HD}{HD 181327}$\n",
       "$\\newcommand{\\JM}[1]{\\textcolor{magenta}{ [\\textbf{JM: } #1]}}$\n",
       "$\\newcommand{\\pt}[2]{\\textcolor{red}{\\textbf{PT:} #1}}$\n",
       "$\\newcommand{\\footnoterule}$\n",
       "$\\newcommand{\\footnoterule}$</div>\n",
       "\n",
       "\n",
       "\n",
       "<div id=\"title\">\n",
       "\n",
       "# The polarisation properties of the $\\HD$  debris ring\n",
       "\n",
       "</div>\n",
       "<div id=\"comments\">\n",
       "\n",
       "[![arXiv](https://img.shields.io/badge/arXiv-2312.02000-b31b1b.svg)](https://arxiv.org/abs/2312.02000)<mark>Appeared on: 2023-12-05</mark> -  _21 pages, 22 figures, accepted in Astronomy & Astrophysics_\n",
       "\n",
       "</div>\n",
       "<div id=\"authors\">\n",
       "\n",
       "J. Milli, et al. -- incl., <mark>J. Olofsson</mark>, <mark>C. Desgrange</mark>\n",
       "\n",
       "</div>\n",
       "<div id=\"abstract\">\n",
       "\n",
       "**Abstract:** Polarisation is a powerful remote-sensing tool to study the nature of particles scattering the starlight. It is widely used to characterise interplanetary dust particles in the Solar System and increasingly employed to investigate extrasolar dust in debris discs' systems. We aim to measure the scattering properties of the dust from the debris ring around $\\HD$ at near-infrared wavelengths. We obtained high-contrast polarimetric images of $\\HD$ in the H band with the SPHERE / IRDIS instrument on the Very Large Telescope (ESO). We complemented them with archival data from HST / NICMOS in the F110W filter reprocessed in the context of the Archival Legacy Investigations of Circumstellar Environments (ALICE) project. We developed a combined forward-modelling framework to simultaneously retrieve the scattering phase function in polarisation and intensity. We detected the debris disc around $\\HD$ in polarised light and total intensity. We measured the scattering phase function and the degree of linear polarisation of the dust at 1.6 $\\micron$ in the birth ring. The maximum polarisation is $23.6\\% \\pm 2.6\\%$ and occurs between a scattering angle of $70^\\circ$ and $82^\\circ$ . We show that compact spherical particles made of a highly refractive and relatively absorbing material in a differential power-law size distribution of exponent $-3.5$ can simultaneously reproduce the polarimetric and total intensity scattering properties of the dust. This type of material cannot be obtained with a mixture of silicates, amorphous carbon, water ice, and porosity, and requires a more refracting component such as iron-bearing minerals. We reveal a striking analogy between the near-infrared polarisation of comets and that of $\\HD$ . The methodology developed here combining VLT/SPHERE and HST/NICMOS may be applicable in the future to combine the polarimetric capabilities of SPHERE with the sensitivity of JWST.\n",
       "\n",
       "</div>\n",
       "\n",
       "<div id=\"div_fig1\">\n",
       "\n",
       "<img src=\"tmp_2312.02000/./figures/I_Qphi_Uphi.png\" alt=\"Fig13\" width=\"100%\"/>\n",
       "\n",
       "**Figure 13. -** Final images of the intensity (Stokes I, left image), azimuthal Stokes $Q_\\phi$(middle) and $U_\\phi$(right), calibrated in mJy/arcsec$^2$(linear colour scale). North is up and east to the left. The features in the south-west at $\\sim2$\\arcsec  separation are a cluster of bad pixels on the IRDIS detector. A numerical mask of inner radius 1.25$\\arcsec$  and outer radius and 2.39$\\arcsec$  was applied on the intensity image. (*fig_Qphi_Uphi*)\n",
       "\n",
       "</div>\n",
       "<div id=\"div_fig2\">\n",
       "\n",
       "<img src=\"tmp_2312.02000/./figures/optical_depth_ALMA_STIS_IRDIS_final.png\" alt=\"Fig3\" width=\"100%\"/>\n",
       "\n",
       "**Figure 3. -** Deprojected normalised optical depth of the disk at mm wavelengths \\cite[orange line extracted from data published in][]{Pawellek2021}, in the optical with STIS \\cite[green line][assuming a 2\\% uncertainty]{Stark2014}, and in the near-infrared with IRDIS (blue line). The top panel shows the data (plain lines) with the $1  \\sigma$ uncertainty (shade) and the double-power law fit (dotted line limited to the range of separation where the fit was performed). The bottom panel is a zoom in the region where the optical depth peaks, highlighting with vertical dotted line the location of the maxima. (*fig_tau*)\n",
       "\n",
       "</div>\n",
       "<div id=\"div_fig3\">\n",
       "\n",
       "<img src=\"tmp_2312.02000/./figures/NICMOS_best_phase_function.png\" alt=\"Fig5\" width=\"100%\"/>\n",
       "\n",
       "**Figure 5. -** SPF in intensity parametrising the dust scattered light measured by NICMOS the best. The 3 degrees of freedom of the SPF are shown as black dots, and the model performs a cubic interpolation (black curve).  (*fig_NICMOS_SPF*)\n",
       "\n",
       "</div><div id=\"qrcode\"><img src=https://api.qrserver.com/v1/create-qr-code/?size=100x100&data=\"https://arxiv.org/abs/2312.02000\"></div>"
      ],
      "text/plain": [
       "<IPython.core.display.Markdown object>"
      ]
     },
     "metadata": {},
     "output_type": "display_data"
    }
   ],
   "source": [
    "[display(Markdown(k[1])) for k in documents];"
   ]
  },
  {
   "cell_type": "markdown",
   "id": "873873a4",
   "metadata": {
    "papermill": {
     "duration": 0.006597,
     "end_time": "2023-12-05T04:10:46.390881",
     "exception": false,
     "start_time": "2023-12-05T04:10:46.384284",
     "status": "completed"
    },
    "tags": []
   },
   "source": [
    "# Create HTML index"
   ]
  },
  {
   "cell_type": "code",
   "execution_count": 9,
   "id": "cf665672",
   "metadata": {
    "execution": {
     "iopub.execute_input": "2023-12-05T04:10:46.405371Z",
     "iopub.status.busy": "2023-12-05T04:10:46.405102Z",
     "iopub.status.idle": "2023-12-05T04:10:46.414594Z",
     "shell.execute_reply": "2023-12-05T04:10:46.414088Z"
    },
    "papermill": {
     "duration": 0.0183,
     "end_time": "2023-12-05T04:10:46.415959",
     "exception": false,
     "start_time": "2023-12-05T04:10:46.397659",
     "status": "completed"
    },
    "tags": []
   },
   "outputs": [
    {
     "name": "stdout",
     "output_type": "stream",
     "text": [
      "333  publications files modified in the last 7 days.\n"
     ]
    }
   ],
   "source": [
    "from datetime import datetime, timedelta, timezone\n",
    "from glob import glob\n",
    "import os\n",
    "\n",
    "files = glob('_build/html/*.md')\n",
    "days = 7\n",
    "now = datetime.today()\n",
    "res = []\n",
    "for fk in files:\n",
    "    stat_result = os.stat(fk).st_ctime\n",
    "    modified = datetime.fromtimestamp(stat_result, tz=timezone.utc).replace(tzinfo=None)\n",
    "    delta = now.today() - modified\n",
    "    if delta <= timedelta(days=days):\n",
    "        res.append((delta.seconds, fk))\n",
    "res = [k[1] for k in reversed(sorted(res, key=lambda x:x[1]))]\n",
    "npub = len(res)\n",
    "print(len(res), f\" publications files modified in the last {days:d} days.\")\n",
    "# [ print('\\t', k) for k in res ];"
   ]
  },
  {
   "cell_type": "code",
   "execution_count": 10,
   "id": "015de740",
   "metadata": {
    "execution": {
     "iopub.execute_input": "2023-12-05T04:10:46.430614Z",
     "iopub.status.busy": "2023-12-05T04:10:46.430102Z",
     "iopub.status.idle": "2023-12-05T04:10:46.449149Z",
     "shell.execute_reply": "2023-12-05T04:10:46.448534Z"
    },
    "papermill": {
     "duration": 0.027871,
     "end_time": "2023-12-05T04:10:46.450522",
     "exception": false,
     "start_time": "2023-12-05T04:10:46.422651",
     "status": "completed"
    },
    "tags": []
   },
   "outputs": [
    {
     "name": "stdout",
     "output_type": "stream",
     "text": [
      "6  publications in the last 7 days.\n"
     ]
    }
   ],
   "source": [
    "import datetime\n",
    "from glob import glob\n",
    "\n",
    "def get_last_n_days(lst, days=1):\n",
    "    \"\"\" Get the documents from the last n days \"\"\"\n",
    "    sorted_lst = sorted(lst, key=lambda x: x[1], reverse=True)\n",
    "    for fname, date in sorted_lst:\n",
    "        if date >= str(datetime.date.today() - datetime.timedelta(days=days)):\n",
    "            yield fname\n",
    "\n",
    "def extract_appearance_dates(lst_file):\n",
    "    dates = []\n",
    "\n",
    "    def get_date(line):\n",
    "        return line\\\n",
    "            .split('Appeared on:')[-1]\\\n",
    "            .split('</mark>')[0].strip()\n",
    "\n",
    "    for fname in lst:\n",
    "        with open(fname, 'r') as f:\n",
    "            found_date = False\n",
    "            for line in f:\n",
    "                if not found_date:\n",
    "                    if \"Appeared on\" in line:\n",
    "                        found_date = True\n",
    "                        dates.append((fname, get_date(line)))\n",
    "                else:\n",
    "                    break\n",
    "    return dates\n",
    "\n",
    "from glob import glob\n",
    "lst = glob('_build/html/*md')\n",
    "days = 7\n",
    "dates = extract_appearance_dates(lst)\n",
    "res = list(get_last_n_days(dates, days))\n",
    "npub = len(res)\n",
    "print(len(res), f\" publications in the last {days:d} days.\")"
   ]
  },
  {
   "cell_type": "code",
   "execution_count": 11,
   "id": "52ca0208",
   "metadata": {
    "execution": {
     "iopub.execute_input": "2023-12-05T04:10:46.465387Z",
     "iopub.status.busy": "2023-12-05T04:10:46.464897Z",
     "iopub.status.idle": "2023-12-05T04:10:46.469768Z",
     "shell.execute_reply": "2023-12-05T04:10:46.469205Z"
    },
    "papermill": {
     "duration": 0.01348,
     "end_time": "2023-12-05T04:10:46.471003",
     "exception": false,
     "start_time": "2023-12-05T04:10:46.457523",
     "status": "completed"
    },
    "scrolled": false,
    "tags": []
   },
   "outputs": [],
   "source": [
    "def create_carousel(npub=4):\n",
    "    \"\"\" Generate the HTML code for a carousel with `npub` slides \"\"\"\n",
    "    carousel = [\"\"\"  <div class=\"carousel\" \"\"\",\n",
    "                \"\"\"       data-flickity='{ \"autoPlay\": 10000, \"adaptiveHeight\": true, \"resize\": true, \"wrapAround\": true, \"pauseAutoPlayOnHover\": true, \"groupCells\": 1 }' id=\"asyncTypeset\">\"\"\"\n",
    "                ]\n",
    "    \n",
    "    item_str = \"\"\"    <div class=\"carousel-cell\"> <div id=\"slide{k}\" class=\"md_view\">Content {k}</div> </div>\"\"\"\n",
    "    for k in range(1, npub + 1):\n",
    "        carousel.append(item_str.format(k=k))\n",
    "    carousel.append(\"  </div>\")\n",
    "    return '\\n'.join(carousel)\n",
    "\n",
    "def create_grid(npub=4):\n",
    "    \"\"\" Generate the HTML code for a flat grid with `npub` slides \"\"\"\n",
    "    grid = [\"\"\"  <div class=\"grid\"> \"\"\",\n",
    "                ]\n",
    "    \n",
    "    item_str = \"\"\"    <div class=\"grid-item\"> <div id=\"slide{k}\" class=\"md_view\">Content {k}</div> </div>\"\"\"\n",
    "    for k in range(1, npub + 1):\n",
    "        grid.append(item_str.format(k=k))\n",
    "    grid.append(\"  </div>\")\n",
    "    return '\\n'.join(grid)"
   ]
  },
  {
   "cell_type": "code",
   "execution_count": 12,
   "id": "a6eac5b6",
   "metadata": {
    "execution": {
     "iopub.execute_input": "2023-12-05T04:10:46.486004Z",
     "iopub.status.busy": "2023-12-05T04:10:46.485533Z",
     "iopub.status.idle": "2023-12-05T04:10:46.490506Z",
     "shell.execute_reply": "2023-12-05T04:10:46.490002Z"
    },
    "papermill": {
     "duration": 0.013742,
     "end_time": "2023-12-05T04:10:46.491748",
     "exception": false,
     "start_time": "2023-12-05T04:10:46.478006",
     "status": "completed"
    },
    "scrolled": false,
    "tags": []
   },
   "outputs": [],
   "source": [
    "carousel = create_carousel(npub)\n",
    "docs = ', '.join(['\"{0:s}\"'.format(k.split('/')[-1]) for k in res])\n",
    "slides = ', '.join([f'\"slide{k}\"' for k in range(1, npub + 1)])\n",
    "\n",
    "with open(\"daily_template.html\", \"r\") as tpl:\n",
    "    page = tpl.read()\n",
    "    page = page.replace(\"{%-- carousel:s --%}\", carousel)\\\n",
    "               .replace(\"{%-- suptitle:s --%}\",  \"7-day archives\" )\\\n",
    "               .replace(\"{%-- docs:s --%}\", docs)\\\n",
    "               .replace(\"{%-- slides:s --%}\", slides)\n",
    "    \n",
    "with open(\"_build/html/index_7days.html\", 'w') as fout:\n",
    "    fout.write(page)"
   ]
  },
  {
   "cell_type": "code",
   "execution_count": 13,
   "id": "adc1a1ec",
   "metadata": {
    "execution": {
     "iopub.execute_input": "2023-12-05T04:10:46.506520Z",
     "iopub.status.busy": "2023-12-05T04:10:46.506037Z",
     "iopub.status.idle": "2023-12-05T04:10:46.512434Z",
     "shell.execute_reply": "2023-12-05T04:10:46.511936Z"
    },
    "papermill": {
     "duration": 0.01516,
     "end_time": "2023-12-05T04:10:46.513771",
     "exception": false,
     "start_time": "2023-12-05T04:10:46.498611",
     "status": "completed"
    },
    "tags": []
   },
   "outputs": [
    {
     "name": "stdout",
     "output_type": "stream",
     "text": [
      "3  publications in the last day.\n"
     ]
    }
   ],
   "source": [
    "# redo for today\n",
    "days = 1\n",
    "res = list(get_last_n_days(dates, days))\n",
    "npub = len(res)\n",
    "print(len(res), f\" publications in the last day.\")\n",
    "\n",
    "carousel = create_carousel(npub)\n",
    "docs = ', '.join(['\"{0:s}\"'.format(k.split('/')[-1]) for k in res])\n",
    "slides = ', '.join([f'\"slide{k}\"' for k in range(1, npub + 1)])\n",
    "\n",
    "with open(\"daily_template.html\", \"r\") as tpl:\n",
    "    page = tpl.read()\n",
    "    page = page.replace(\"{%-- carousel:s --%}\", carousel)\\\n",
    "               .replace(\"{%-- suptitle:s --%}\",  \"Daily\" )\\\n",
    "               .replace(\"{%-- docs:s --%}\", docs)\\\n",
    "               .replace(\"{%-- slides:s --%}\", slides)\n",
    "    \n",
    "# print(carousel, docs, slides)\n",
    "# print(page)\n",
    "with open(\"_build/html/index_daily.html\", 'w') as fout:\n",
    "    fout.write(page)"
   ]
  },
  {
   "cell_type": "code",
   "execution_count": 14,
   "id": "00eece82",
   "metadata": {
    "execution": {
     "iopub.execute_input": "2023-12-05T04:10:46.528753Z",
     "iopub.status.busy": "2023-12-05T04:10:46.528229Z",
     "iopub.status.idle": "2023-12-05T04:10:46.534605Z",
     "shell.execute_reply": "2023-12-05T04:10:46.534078Z"
    },
    "papermill": {
     "duration": 0.015117,
     "end_time": "2023-12-05T04:10:46.535821",
     "exception": false,
     "start_time": "2023-12-05T04:10:46.520704",
     "status": "completed"
    },
    "scrolled": false,
    "tags": []
   },
   "outputs": [
    {
     "name": "stdout",
     "output_type": "stream",
     "text": [
      "6  6 publications selected.\n"
     ]
    }
   ],
   "source": [
    "# Create the flat grid of the last N papers (fixed number regardless of dates)\n",
    "from itertools import islice \n",
    "\n",
    "npub = 6\n",
    "res = [k[0] for k in (islice(reversed(sorted(dates, key=lambda x: x[1])), 6))]\n",
    "print(len(res), f\" {npub} publications selected.\")\n",
    "\n",
    "grid = create_grid(npub)\n",
    "docs = ', '.join(['\"{0:s}\"'.format(k.split('/')[-1]) for k in res])\n",
    "slides = ', '.join([f'\"slide{k}\"' for k in range(1, npub + 1)])\n",
    "\n",
    "with open(\"grid_template.html\", \"r\") as tpl:\n",
    "    page = tpl.read()\n",
    "    page = page.replace(\"{%-- grid-content:s --%}\", grid)\\\n",
    "               .replace(\"{%-- suptitle:s --%}\",  f\"Last {npub:,d} papers\" )\\\n",
    "               .replace(\"{%-- docs:s --%}\", docs)\\\n",
    "               .replace(\"{%-- slides:s --%}\", slides)\n",
    "    \n",
    "# print(grid, docs, slides)\n",
    "# print(page)\n",
    "with open(\"_build/html/index_npub_grid.html\", 'w') as fout:\n",
    "    fout.write(page)"
   ]
  }
 ],
 "metadata": {
  "kernelspec": {
   "display_name": "Python 3 (ipykernel)",
   "language": "python",
   "name": "python3"
  },
  "language_info": {
   "codemirror_mode": {
    "name": "ipython",
    "version": 3
   },
   "file_extension": ".py",
   "mimetype": "text/x-python",
   "name": "python",
   "nbconvert_exporter": "python",
   "pygments_lexer": "ipython3",
   "version": "3.9.18"
  },
  "papermill": {
   "default_parameters": {},
   "duration": 161.606931,
   "end_time": "2023-12-05T04:10:46.758746",
   "environment_variables": {},
   "exception": null,
   "input_path": "MPIA daily digest.ipynb",
   "output_path": "log.ipynb",
   "parameters": {},
   "start_time": "2023-12-05T04:08:05.151815",
   "version": "2.5.0"
  },
  "vscode": {
   "interpreter": {
    "hash": "aee8b7b246df8f9039afb4144a1f6fd8d2ca17a180786b69acc140d282b71a49"
   }
  },
  "widgets": {
   "application/vnd.jupyter.widget-state+json": {
    "state": {
     "24f5952463b54dfb86531ae57f03f9e5": {
      "model_module": "@jupyter-widgets/controls",
      "model_module_version": "2.0.0",
      "model_name": "FloatProgressModel",
      "state": {
       "_dom_classes": [],
       "_model_module": "@jupyter-widgets/controls",
       "_model_module_version": "2.0.0",
       "_model_name": "FloatProgressModel",
       "_view_count": null,
       "_view_module": "@jupyter-widgets/controls",
       "_view_module_version": "2.0.0",
       "_view_name": "ProgressView",
       "bar_style": "success",
       "description": "",
       "description_allow_html": false,
       "layout": "IPY_MODEL_600cfe205dbc48838ce73d9a1904b690",
       "max": 6.0,
       "min": 0.0,
       "orientation": "horizontal",
       "style": "IPY_MODEL_917e27f288c84e0d9c7380c6610f0fc6",
       "tabbable": null,
       "tooltip": null,
       "value": 6.0
      }
     },
     "600cfe205dbc48838ce73d9a1904b690": {
      "model_module": "@jupyter-widgets/base",
      "model_module_version": "2.0.0",
      "model_name": "LayoutModel",
      "state": {
       "_model_module": "@jupyter-widgets/base",
       "_model_module_version": "2.0.0",
       "_model_name": "LayoutModel",
       "_view_count": null,
       "_view_module": "@jupyter-widgets/base",
       "_view_module_version": "2.0.0",
       "_view_name": "LayoutView",
       "align_content": null,
       "align_items": null,
       "align_self": null,
       "border_bottom": null,
       "border_left": null,
       "border_right": null,
       "border_top": null,
       "bottom": null,
       "display": null,
       "flex": null,
       "flex_flow": null,
       "grid_area": null,
       "grid_auto_columns": null,
       "grid_auto_flow": null,
       "grid_auto_rows": null,
       "grid_column": null,
       "grid_gap": null,
       "grid_row": null,
       "grid_template_areas": null,
       "grid_template_columns": null,
       "grid_template_rows": null,
       "height": null,
       "justify_content": null,
       "justify_items": null,
       "left": null,
       "margin": null,
       "max_height": null,
       "max_width": null,
       "min_height": null,
       "min_width": null,
       "object_fit": null,
       "object_position": null,
       "order": null,
       "overflow": null,
       "padding": null,
       "right": null,
       "top": null,
       "visibility": null,
       "width": null
      }
     },
     "77901c38ee8d40cab607041aeba22eea": {
      "model_module": "@jupyter-widgets/controls",
      "model_module_version": "2.0.0",
      "model_name": "HTMLStyleModel",
      "state": {
       "_model_module": "@jupyter-widgets/controls",
       "_model_module_version": "2.0.0",
       "_model_name": "HTMLStyleModel",
       "_view_count": null,
       "_view_module": "@jupyter-widgets/base",
       "_view_module_version": "2.0.0",
       "_view_name": "StyleView",
       "background": null,
       "description_width": "",
       "font_size": null,
       "text_color": null
      }
     },
     "917e27f288c84e0d9c7380c6610f0fc6": {
      "model_module": "@jupyter-widgets/controls",
      "model_module_version": "2.0.0",
      "model_name": "ProgressStyleModel",
      "state": {
       "_model_module": "@jupyter-widgets/controls",
       "_model_module_version": "2.0.0",
       "_model_name": "ProgressStyleModel",
       "_view_count": null,
       "_view_module": "@jupyter-widgets/base",
       "_view_module_version": "2.0.0",
       "_view_name": "StyleView",
       "bar_color": null,
       "description_width": ""
      }
     },
     "9e4292509c454bffb1d3de2d5e754fe9": {
      "model_module": "@jupyter-widgets/base",
      "model_module_version": "2.0.0",
      "model_name": "LayoutModel",
      "state": {
       "_model_module": "@jupyter-widgets/base",
       "_model_module_version": "2.0.0",
       "_model_name": "LayoutModel",
       "_view_count": null,
       "_view_module": "@jupyter-widgets/base",
       "_view_module_version": "2.0.0",
       "_view_name": "LayoutView",
       "align_content": null,
       "align_items": null,
       "align_self": null,
       "border_bottom": null,
       "border_left": null,
       "border_right": null,
       "border_top": null,
       "bottom": null,
       "display": null,
       "flex": null,
       "flex_flow": null,
       "grid_area": null,
       "grid_auto_columns": null,
       "grid_auto_flow": null,
       "grid_auto_rows": null,
       "grid_column": null,
       "grid_gap": null,
       "grid_row": null,
       "grid_template_areas": null,
       "grid_template_columns": null,
       "grid_template_rows": null,
       "height": null,
       "justify_content": null,
       "justify_items": null,
       "left": null,
       "margin": null,
       "max_height": null,
       "max_width": null,
       "min_height": null,
       "min_width": null,
       "object_fit": null,
       "object_position": null,
       "order": null,
       "overflow": null,
       "padding": null,
       "right": null,
       "top": null,
       "visibility": null,
       "width": null
      }
     },
     "aef648ac7b43419db74cebaf55886559": {
      "model_module": "@jupyter-widgets/base",
      "model_module_version": "2.0.0",
      "model_name": "LayoutModel",
      "state": {
       "_model_module": "@jupyter-widgets/base",
       "_model_module_version": "2.0.0",
       "_model_name": "LayoutModel",
       "_view_count": null,
       "_view_module": "@jupyter-widgets/base",
       "_view_module_version": "2.0.0",
       "_view_name": "LayoutView",
       "align_content": null,
       "align_items": null,
       "align_self": null,
       "border_bottom": null,
       "border_left": null,
       "border_right": null,
       "border_top": null,
       "bottom": null,
       "display": null,
       "flex": null,
       "flex_flow": null,
       "grid_area": null,
       "grid_auto_columns": null,
       "grid_auto_flow": null,
       "grid_auto_rows": null,
       "grid_column": null,
       "grid_gap": null,
       "grid_row": null,
       "grid_template_areas": null,
       "grid_template_columns": null,
       "grid_template_rows": null,
       "height": null,
       "justify_content": null,
       "justify_items": null,
       "left": null,
       "margin": null,
       "max_height": null,
       "max_width": null,
       "min_height": null,
       "min_width": null,
       "object_fit": null,
       "object_position": null,
       "order": null,
       "overflow": null,
       "padding": null,
       "right": null,
       "top": null,
       "visibility": null,
       "width": null
      }
     },
     "babd4e04b83b4f04a5cd01c70196732a": {
      "model_module": "@jupyter-widgets/controls",
      "model_module_version": "2.0.0",
      "model_name": "HTMLModel",
      "state": {
       "_dom_classes": [],
       "_model_module": "@jupyter-widgets/controls",
       "_model_module_version": "2.0.0",
       "_model_name": "HTMLModel",
       "_view_count": null,
       "_view_module": "@jupyter-widgets/controls",
       "_view_module_version": "2.0.0",
       "_view_name": "HTMLView",
       "description": "",
       "description_allow_html": false,
       "layout": "IPY_MODEL_9e4292509c454bffb1d3de2d5e754fe9",
       "placeholder": "​",
       "style": "IPY_MODEL_c17539899efc4e01a11f69f38c3bae45",
       "tabbable": null,
       "tooltip": null,
       "value": " 6/6 [02:19&lt;00:00, 38.94s/it]"
      }
     },
     "c17539899efc4e01a11f69f38c3bae45": {
      "model_module": "@jupyter-widgets/controls",
      "model_module_version": "2.0.0",
      "model_name": "HTMLStyleModel",
      "state": {
       "_model_module": "@jupyter-widgets/controls",
       "_model_module_version": "2.0.0",
       "_model_name": "HTMLStyleModel",
       "_view_count": null,
       "_view_module": "@jupyter-widgets/base",
       "_view_module_version": "2.0.0",
       "_view_name": "StyleView",
       "background": null,
       "description_width": "",
       "font_size": null,
       "text_color": null
      }
     },
     "c94253cf95aa429f9cc82a9528a30ea6": {
      "model_module": "@jupyter-widgets/controls",
      "model_module_version": "2.0.0",
      "model_name": "HTMLModel",
      "state": {
       "_dom_classes": [],
       "_model_module": "@jupyter-widgets/controls",
       "_model_module_version": "2.0.0",
       "_model_name": "HTMLModel",
       "_view_count": null,
       "_view_module": "@jupyter-widgets/controls",
       "_view_module_version": "2.0.0",
       "_view_name": "HTMLView",
       "description": "",
       "description_allow_html": false,
       "layout": "IPY_MODEL_aef648ac7b43419db74cebaf55886559",
       "placeholder": "​",
       "style": "IPY_MODEL_77901c38ee8d40cab607041aeba22eea",
       "tabbable": null,
       "tooltip": null,
       "value": "100%"
      }
     },
     "e429f0a3486b4559b5252870fd5f8327": {
      "model_module": "@jupyter-widgets/controls",
      "model_module_version": "2.0.0",
      "model_name": "HBoxModel",
      "state": {
       "_dom_classes": [],
       "_model_module": "@jupyter-widgets/controls",
       "_model_module_version": "2.0.0",
       "_model_name": "HBoxModel",
       "_view_count": null,
       "_view_module": "@jupyter-widgets/controls",
       "_view_module_version": "2.0.0",
       "_view_name": "HBoxView",
       "box_style": "",
       "children": [
        "IPY_MODEL_c94253cf95aa429f9cc82a9528a30ea6",
        "IPY_MODEL_24f5952463b54dfb86531ae57f03f9e5",
        "IPY_MODEL_babd4e04b83b4f04a5cd01c70196732a"
       ],
       "layout": "IPY_MODEL_f9c283317ac0474d843b498f15afcd3b",
       "tabbable": null,
       "tooltip": null
      }
     },
     "f9c283317ac0474d843b498f15afcd3b": {
      "model_module": "@jupyter-widgets/base",
      "model_module_version": "2.0.0",
      "model_name": "LayoutModel",
      "state": {
       "_model_module": "@jupyter-widgets/base",
       "_model_module_version": "2.0.0",
       "_model_name": "LayoutModel",
       "_view_count": null,
       "_view_module": "@jupyter-widgets/base",
       "_view_module_version": "2.0.0",
       "_view_name": "LayoutView",
       "align_content": null,
       "align_items": null,
       "align_self": null,
       "border_bottom": null,
       "border_left": null,
       "border_right": null,
       "border_top": null,
       "bottom": null,
       "display": null,
       "flex": null,
       "flex_flow": null,
       "grid_area": null,
       "grid_auto_columns": null,
       "grid_auto_flow": null,
       "grid_auto_rows": null,
       "grid_column": null,
       "grid_gap": null,
       "grid_row": null,
       "grid_template_areas": null,
       "grid_template_columns": null,
       "grid_template_rows": null,
       "height": null,
       "justify_content": null,
       "justify_items": null,
       "left": null,
       "margin": null,
       "max_height": null,
       "max_width": null,
       "min_height": null,
       "min_width": null,
       "object_fit": null,
       "object_position": null,
       "order": null,
       "overflow": null,
       "padding": null,
       "right": null,
       "top": null,
       "visibility": null,
       "width": null
      }
     }
    },
    "version_major": 2,
    "version_minor": 0
   }
  }
 },
 "nbformat": 4,
 "nbformat_minor": 5
}