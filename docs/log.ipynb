{
 "cells": [
  {
   "cell_type": "markdown",
   "id": "92bcb855",
   "metadata": {
    "papermill": {
     "duration": 0.003853,
     "end_time": "2024-09-26T04:10:55.595520",
     "exception": false,
     "start_time": "2024-09-26T04:10:55.591667",
     "status": "completed"
    },
    "tags": []
   },
   "source": [
    "# MPIA Arxiv on Deck 2\n",
    "\n",
    "Contains the steps to produce the paper extractions."
   ]
  },
  {
   "cell_type": "code",
   "execution_count": 1,
   "id": "3a0d6e11",
   "metadata": {
    "execution": {
     "iopub.execute_input": "2024-09-26T04:10:55.603242Z",
     "iopub.status.busy": "2024-09-26T04:10:55.602712Z",
     "iopub.status.idle": "2024-09-26T04:10:56.024388Z",
     "shell.execute_reply": "2024-09-26T04:10:56.023721Z"
    },
    "papermill": {
     "duration": 0.426861,
     "end_time": "2024-09-26T04:10:56.025707",
     "exception": false,
     "start_time": "2024-09-26T04:10:55.598846",
     "status": "completed"
    },
    "tags": []
   },
   "outputs": [],
   "source": [
    "# Imports\n",
    "import os\n",
    "from IPython.display import Markdown, display\n",
    "from tqdm.notebook import tqdm\n",
    "import warnings\n",
    "from PIL import Image \n",
    "import re\n",
    "\n",
    "# requires arxiv_on_deck_2\n",
    "\n",
    "from arxiv_on_deck_2.arxiv2 import (get_new_papers, \n",
    "                                    get_paper_from_identifier,\n",
    "                                    retrieve_document_source, \n",
    "                                    get_markdown_badge)\n",
    "from arxiv_on_deck_2 import (latex,\n",
    "                             latex_bib,\n",
    "                             mpia,\n",
    "                             highlight_authors_in_list)\n",
    "\n",
    "# Sometimes images are really big\n",
    "Image.MAX_IMAGE_PIXELS = 1000000000 "
   ]
  },
  {
   "cell_type": "code",
   "execution_count": 2,
   "id": "22aa9d44",
   "metadata": {
    "execution": {
     "iopub.execute_input": "2024-09-26T04:10:56.033242Z",
     "iopub.status.busy": "2024-09-26T04:10:56.032802Z",
     "iopub.status.idle": "2024-09-26T04:10:56.040958Z",
     "shell.execute_reply": "2024-09-26T04:10:56.040392Z"
    },
    "papermill": {
     "duration": 0.012995,
     "end_time": "2024-09-26T04:10:56.041978",
     "exception": false,
     "start_time": "2024-09-26T04:10:56.028983",
     "status": "completed"
    },
    "tags": []
   },
   "outputs": [],
   "source": [
    "# Some useful definitions.\n",
    "\n",
    "class AffiliationWarning(UserWarning):\n",
    "    pass\n",
    "\n",
    "class AffiliationError(RuntimeError):\n",
    "    pass\n",
    "\n",
    "def validation(source: str):\n",
    "    \"\"\"Raises error paper during parsing of source file\n",
    "    \n",
    "    Allows checks before parsing TeX code.\n",
    "    \n",
    "    Raises AffiliationWarning\n",
    "    \"\"\"\n",
    "    check = mpia.affiliation_verifications(source, verbose=True)\n",
    "    if check is not True:\n",
    "        raise AffiliationError(\"mpia.affiliation_verifications: \" + check)\n",
    "\n",
    "        \n",
    "warnings.simplefilter('always', AffiliationWarning)\n",
    "\n",
    "\n",
    "def get_markdown_qrcode(paper_id: str):\n",
    "    \"\"\" Generate a qrcode to the arxiv page using qrserver.com\n",
    "    \n",
    "    :param paper: Arxiv paper\n",
    "    :returns: markdown text\n",
    "    \"\"\"\n",
    "    url = r\"https://api.qrserver.com/v1/create-qr-code/?size=100x100&data=\"\n",
    "    txt = f\"\"\"<img src={url}\"https://arxiv.org/abs/{paper_id}\">\"\"\"\n",
    "    txt = '<div id=\"qrcode\">' + txt + '</div>'\n",
    "    return txt\n",
    "\n",
    "\n",
    "def clean_non_western_encoded_characters_commands(text: str) -> str:\n",
    "    \"\"\" Remove non-western encoded characters from a string\n",
    "    List may need to grow.\n",
    "    \n",
    "    :param text: the text to clean\n",
    "    :return: the cleaned text\n",
    "    \"\"\"\n",
    "    text = re.sub(r\"(\\\\begin{CJK}{UTF8}{gbsn})(.*?)(\\\\end{CJK})\", r\"\\2\", text)\n",
    "    return text\n",
    "\n",
    "\n",
    "def get_initials(name: str) -> str:\n",
    "    \"\"\" Get the short name, e.g., A.-B. FamName\n",
    "    :param name: full name\n",
    "    :returns: initials\n",
    "    \"\"\"\n",
    "    initials = []\n",
    "    # account for non western names often in ()\n",
    "    if '(' in name:\n",
    "        name = clean_non_western_encoded_characters_commands(name)\n",
    "        suffix = re.findall(r\"\\((.*?)\\)\", name)[0]\n",
    "        name = name.replace(f\"({suffix})\", '')\n",
    "    else:\n",
    "        suffix = ''\n",
    "    split = name.split()\n",
    "    for token in split[:-1]:\n",
    "        if '-' in token:\n",
    "            current = '-'.join([k[0] + '.' for k in token.split('-')])\n",
    "        else:\n",
    "            current = token[0] + '.'\n",
    "        initials.append(current)\n",
    "    initials.append(split[-1].strip())\n",
    "    if suffix:\n",
    "        initials.append(f\"({suffix})\")\n",
    "    return ' '.join(initials)"
   ]
  },
  {
   "cell_type": "markdown",
   "id": "14bd6310",
   "metadata": {
    "papermill": {
     "duration": 0.003009,
     "end_time": "2024-09-26T04:10:56.048049",
     "exception": false,
     "start_time": "2024-09-26T04:10:56.045040",
     "status": "completed"
    },
    "tags": []
   },
   "source": [
    "## get list of arxiv paper candidates\n",
    "\n",
    "We use the MPIA mitarbeiter list webpage from mpia.de to get author names\n",
    "We then get all new papers from Arxiv and match authors"
   ]
  },
  {
   "cell_type": "code",
   "execution_count": 3,
   "id": "7ea813a8",
   "metadata": {
    "execution": {
     "iopub.execute_input": "2024-09-26T04:10:56.054942Z",
     "iopub.status.busy": "2024-09-26T04:10:56.054698Z",
     "iopub.status.idle": "2024-09-26T04:11:16.052035Z",
     "shell.execute_reply": "2024-09-26T04:11:16.051407Z"
    },
    "papermill": {
     "duration": 20.002251,
     "end_time": "2024-09-26T04:11:16.053291",
     "exception": false,
     "start_time": "2024-09-26T04:10:56.051040",
     "status": "completed"
    },
    "tags": []
   },
   "outputs": [],
   "source": [
    "# deal with the author list and edge cases of people that cannot be consistent on their name  \n",
    "\n",
    "def filter_non_scientists(name: str) -> bool:\n",
    "    \"\"\" Loose filter on expected authorships\n",
    "\n",
    "    removing IT, administration, technical staff\n",
    "    :param name: name\n",
    "    :returns: False if name is not a scientist\n",
    "    \"\"\"\n",
    "    remove_list = ['Licht', 'Binroth', 'Witzel', 'Jordan',\n",
    "                   'Zähringer', 'Scheerer', 'Hoffmann', 'Düe',\n",
    "                   'Hellmich', 'Enkler-Scharpegge', 'Witte-Nguy',\n",
    "                   'Dehen', 'Beckmann', 'Jager', 'Jäger'\n",
    "                  ]\n",
    "\n",
    "    for k in remove_list:\n",
    "        if k in name:\n",
    "            return False\n",
    "    return True\n",
    "\n",
    "def add_author_to_list(author_list: list) -> list:\n",
    "    \"\"\" Add author to list if not already in list\n",
    "    \n",
    "    :param author: author name\n",
    "    :param author_list: list of authors\n",
    "    :returns: updated list of authors\n",
    "    \"\"\"\n",
    "    add_list = ['T. Henning']\n",
    "\n",
    "    for author in add_list:\n",
    "        if author not in author_list:\n",
    "            author_list.append(author)\n",
    "    return author_list\n",
    "\n",
    "# get list from MPIA website\n",
    "# filter for non-scientists (mpia.get_mpia_mitarbeiter_list() does some filtering)\n",
    "mpia_authors = [k[1] for k in mpia.get_mpia_mitarbeiter_list() if filter_non_scientists(k[1])]\n",
    "# add some missing author because of inconsistencies in their MPIA name and author name on papers\n",
    "mpia_authors = add_author_to_list(mpia_authors)"
   ]
  },
  {
   "cell_type": "code",
   "execution_count": 4,
   "id": "2645e73a",
   "metadata": {
    "execution": {
     "iopub.execute_input": "2024-09-26T04:11:16.060763Z",
     "iopub.status.busy": "2024-09-26T04:11:16.060553Z",
     "iopub.status.idle": "2024-09-26T04:11:16.665535Z",
     "shell.execute_reply": "2024-09-26T04:11:16.664820Z"
    },
    "papermill": {
     "duration": 0.610045,
     "end_time": "2024-09-26T04:11:16.666701",
     "exception": false,
     "start_time": "2024-09-26T04:11:16.056656",
     "status": "completed"
    },
    "tags": []
   },
   "outputs": [
    {
     "name": "stdout",
     "output_type": "stream",
     "text": [
      "J. Li  ->  J. Li  |  ['J. Li']\n",
      "P. Mollière  ->  P. Mollière  |  ['P. Mollière']\n",
      "E. Nasedkin  ->  E. Nasedkin  |  ['E. Nasedkin']\n",
      "A. Dimoff  ->  A. Dimoff  |  ['A. Dimoff']\n",
      "M. Ramirez  ->  M. Ramirez-Tannus  |  ['M. Ramirez']\n",
      "A. d. Graaff  ->  A. D. Graaff  |  ['A. D. Graaff']\n",
      "L. Xie  ->  Z.-L. Xie  |  ['L. Xie']\n"
     ]
    },
    {
     "name": "stdout",
     "output_type": "stream",
     "text": [
      "Arxiv has 54 new papers today\n",
      "          5 with possible author matches\n"
     ]
    }
   ],
   "source": [
    "new_papers = get_new_papers()\n",
    "# add manual references\n",
    "add_paper_refs = []\n",
    "new_papers.extend([get_paper_from_identifier(k) for k in add_paper_refs])\n",
    "\n",
    "def robust_call(fn, value, *args, **kwargs):\n",
    "    try:\n",
    "        return fn(value, *args, **kwargs)\n",
    "    except Exception:\n",
    "        return value\n",
    "\n",
    "candidates = []\n",
    "for paperk in new_papers:\n",
    "    # Check author list with their initials\n",
    "    normed_author_list = [robust_call(mpia.get_initials, k) for k in paperk['authors']]\n",
    "    hl_authors = highlight_authors_in_list(normed_author_list, mpia_authors, verbose=True)\n",
    "    matches = [(hl, orig) for hl, orig in zip(hl_authors, paperk['authors']) if 'mark' in hl]\n",
    "    paperk['authors'] = hl_authors\n",
    "    if matches:\n",
    "        # only select paper if an author matched our list\n",
    "        candidates.append(paperk)\n",
    "print(\"\"\"Arxiv has {0:,d} new papers today\"\"\".format(len(new_papers)))        \n",
    "print(\"\"\"          {0:,d} with possible author matches\"\"\".format(len(candidates)))"
   ]
  },
  {
   "cell_type": "markdown",
   "id": "3543b34a",
   "metadata": {
    "papermill": {
     "duration": 0.003145,
     "end_time": "2024-09-26T04:11:16.673405",
     "exception": false,
     "start_time": "2024-09-26T04:11:16.670260",
     "status": "completed"
    },
    "tags": []
   },
   "source": [
    "# Parse sources and generate relevant outputs\n",
    "\n",
    "From the candidates, we do the following steps:\n",
    "* get their tarball from ArXiv (and extract data)\n",
    "* find the main .tex file: find one with \\documentclass{...} (sometimes it's non trivial)\n",
    "* Check affiliations with :func:`validation`, which uses :func:`mpia.affiliation_verifications`\n",
    "* If passing the affiliations: we parse the .tex source\n",
    "   * inject sub-documents into the main (flatten the main document)\n",
    "   * parse structure, extract information (title, abstract, authors, figures...)\n",
    "   * handles `\\graphicspath` if provided\n",
    "* Generate the .md document."
   ]
  },
  {
   "cell_type": "code",
   "execution_count": 5,
   "id": "9576b79e",
   "metadata": {
    "execution": {
     "iopub.execute_input": "2024-09-26T04:11:16.680861Z",
     "iopub.status.busy": "2024-09-26T04:11:16.680436Z",
     "iopub.status.idle": "2024-09-26T04:13:14.720543Z",
     "shell.execute_reply": "2024-09-26T04:13:14.719787Z"
    },
    "papermill": {
     "duration": 118.049435,
     "end_time": "2024-09-26T04:13:14.726025",
     "exception": false,
     "start_time": "2024-09-26T04:11:16.676590",
     "status": "completed"
    },
    "scrolled": false,
    "tags": []
   },
   "outputs": [
    {
     "data": {
      "application/vnd.jupyter.widget-view+json": {
       "model_id": "25077a3bac6e4e78bdf667dd4be9c09d",
       "version_major": 2,
       "version_minor": 0
      },
      "text/plain": [
       "  0%|          | 0/5 [00:00<?, ?it/s]"
      ]
     },
     "metadata": {},
     "output_type": "display_data"
    },
    {
     "name": "stdout",
     "output_type": "stream",
     "text": [
      "Retrieving document from  https://arxiv.org/e-print/2409.16363\n"
     ]
    },
    {
     "name": "stdout",
     "output_type": "stream",
     "text": [
      "extracting tarball to tmp_2409.16363..."
     ]
    },
    {
     "name": "stdout",
     "output_type": "stream",
     "text": [
      " done.\n",
      "  0: tmp_2409.16363/aassymbols.tex, 579 lines\n",
      "  1: tmp_2409.16363/main.tex, 1,673 lines\n",
      "Retrieving document from  https://arxiv.org/e-print/2409.16660\n",
      "extracting tarball to tmp_2409.16660..."
     ]
    },
    {
     "name": "stderr",
     "output_type": "stream",
     "text": [
      "/opt/hostedtoolcache/Python/3.9.20/x64/lib/python3.9/site-packages/IPython/core/interactiveshell.py:3550: LatexWarning: Multiple tex files.\n",
      "\n",
      "  exec(code_obj, self.user_global_ns, self.user_ns)\n",
      "/opt/hostedtoolcache/Python/3.9.20/x64/lib/python3.9/site-packages/IPython/core/interactiveshell.py:3550: LatexWarning: Found 2 candidates with documentclass definition.\n",
      "  exec(code_obj, self.user_global_ns, self.user_ns)\n",
      "/opt/hostedtoolcache/Python/3.9.20/x64/lib/python3.9/site-packages/IPython/core/interactiveshell.py:3550: LatexWarning: Assuming tmp_2409.16363/main.tex as main document.\n",
      "  exec(code_obj, self.user_global_ns, self.user_ns)\n"
     ]
    },
    {
     "name": "stdout",
     "output_type": "stream",
     "text": [
      " done.\n"
     ]
    },
    {
     "name": "stdout",
     "output_type": "stream",
     "text": [
      "P. Mollière  ->  P. Mollière  |  ['P. Mollière']\n",
      "E. Nasedkin  ->  E. Nasedkin  |  ['E. Nasedkin']\n"
     ]
    },
    {
     "name": "stdout",
     "output_type": "stream",
     "text": [
      "Found 133 bibliographic references in tmp_2409.16660/main_refereed.bbl.\n",
      "Retrieving document from  https://arxiv.org/e-print/2409.16761\n",
      "extracting tarball to tmp_2409.16761..."
     ]
    },
    {
     "name": "stdout",
     "output_type": "stream",
     "text": [
      " done.\n"
     ]
    },
    {
     "name": "stdout",
     "output_type": "stream",
     "text": [
      "Found 144 bibliographic references in tmp_2409.16761/S-Proc_Binaries_Final_Final.bbl.\n",
      "Issues with the citations\n",
      "syntax error in line 242: '=' expected\n",
      "Retrieving document from  https://arxiv.org/e-print/2409.16890\n"
     ]
    },
    {
     "name": "stdout",
     "output_type": "stream",
     "text": [
      "extracting tarball to tmp_2409.16890..."
     ]
    },
    {
     "name": "stdout",
     "output_type": "stream",
     "text": [
      " done.\n",
      "Retrieving document from  https://arxiv.org/e-print/2409.16916\n",
      "extracting tarball to tmp_2409.16916..."
     ]
    },
    {
     "name": "stdout",
     "output_type": "stream",
     "text": [
      " done.\n"
     ]
    },
    {
     "name": "stderr",
     "output_type": "stream",
     "text": [
      "/opt/hostedtoolcache/Python/3.9.20/x64/lib/python3.9/site-packages/IPython/core/interactiveshell.py:3550: LatexWarning: Multiple tex files.\n",
      "\n",
      "  exec(code_obj, self.user_global_ns, self.user_ns)\n",
      "/opt/hostedtoolcache/Python/3.9.20/x64/lib/python3.9/site-packages/IPython/core/interactiveshell.py:3550: LatexWarning: Found documentclass in tmp_2409.16916/SharkQ.tex\n",
      "\n",
      "  exec(code_obj, self.user_global_ns, self.user_ns)\n",
      "/opt/hostedtoolcache/Python/3.9.20/x64/lib/python3.9/site-packages/arxiv_on_deck_2/latex.py:414: LatexWarning: Latex injecting: 'AppendixSFHs' from 'tmp_2409.16916/AppendixSFHs.tex'\n",
      "  warnings.warn(LatexWarning(f\"Latex injecting: '{ext}' from '{subsource}'\"))\n",
      "/opt/hostedtoolcache/Python/3.9.20/x64/lib/python3.9/site-packages/arxiv_on_deck_2/latex.py:414: LatexWarning: Latex injecting: 'AppendixMainSequence' from 'tmp_2409.16916/AppendixMainSequence.tex'\n",
      "  warnings.warn(LatexWarning(f\"Latex injecting: '{ext}' from '{subsource}'\"))\n"
     ]
    },
    {
     "name": "stderr",
     "output_type": "stream",
     "text": [
      "/opt/hostedtoolcache/Python/3.9.20/x64/lib/python3.9/site-packages/arxiv_on_deck_2/latex.py:132: LatexWarning: attempting recovering figure Figs/SFHs_massive_passive_galaxies_z3_centrals_GALFORM.pdf\n",
      "  warnings.warn(LatexWarning(f'attempting recovering figure {image}'))\n",
      "/opt/hostedtoolcache/Python/3.9.20/x64/lib/python3.9/site-packages/arxiv_on_deck_2/latex.py:707: LatexWarning: Could not find graphic \\includegraphics[trim=4.5mm 4.5mm 2mm 4mm, clip,width=0.49\\textwidth]{Figs/SFHs_massive_passive_galaxies_z3_centrals_GALFORM.pdf}\n",
      "  warnings.warn(LatexWarning(f\"Could not find graphic {k}\"))\n"
     ]
    },
    {
     "name": "stdout",
     "output_type": "stream",
     "text": [
      "Found 117 bibliographic references in tmp_2409.16916/SharkQ.bbl.\n"
     ]
    }
   ],
   "source": [
    "documents = []\n",
    "failed = []\n",
    "for paper in tqdm(candidates):\n",
    "    # debug crap\n",
    "    paper['identifier'] = paper['identifier'].lower().replace('arxiv:', '').replace(r'\\n', '').strip()\n",
    "    paper_id = paper['identifier']\n",
    "    \n",
    "    folder = f'tmp_{paper_id}'\n",
    "\n",
    "    try:\n",
    "        if not os.path.isdir(folder):\n",
    "            folder = retrieve_document_source(f\"{paper_id}\", f'tmp_{paper_id}')\n",
    "        \n",
    "        try:\n",
    "            doc = latex.LatexDocument(folder, validation=validation)    \n",
    "        except AffiliationError as affilerror:\n",
    "            msg = f\"ArXiv:{paper_id:s} is not an MPIA paper... \" + str(affilerror)\n",
    "            failed.append((paper, \"affiliation error: \" + str(affilerror) ))\n",
    "            continue\n",
    "        \n",
    "        # Hack because sometimes author parsing does not work well\n",
    "        if (len(doc.authors) != len(paper['authors'])):\n",
    "            doc._authors = paper['authors']\n",
    "        else:\n",
    "            # highlight authors (FIXME: doc.highlight_authors)\n",
    "            # done on arxiv paper already\n",
    "            doc._authors = highlight_authors_in_list(\n",
    "                [get_initials(k) for k in doc.authors], \n",
    "                mpia_authors, verbose=True)\n",
    "        if (doc.abstract) in (None, ''):\n",
    "            doc._abstract = paper['abstract']\n",
    "            \n",
    "        doc.comment = (get_markdown_badge(paper_id) + \n",
    "                       \"<mark>Appeared on: \" + paper['date'] + \"</mark> - \")\n",
    "        if paper['comments']:\n",
    "            doc.comment += \" _\" + paper['comments'] + \"_\"\n",
    "        \n",
    "        full_md = doc.generate_markdown_text()\n",
    "        \n",
    "        full_md += get_markdown_qrcode(paper_id)\n",
    "        \n",
    "        # replace citations\n",
    "        try:\n",
    "            bibdata = latex_bib.LatexBib.from_doc(doc)\n",
    "            full_md = latex_bib.replace_citations(full_md, bibdata)\n",
    "        except Exception as e:\n",
    "            print(\"Issues with the citations\")\n",
    "            print(e)\n",
    "        \n",
    "        documents.append((paper_id, full_md))\n",
    "    except Exception as e:\n",
    "        warnings.warn(latex.LatexWarning(f\"{paper_id:s} did not run properly\\n\" +\n",
    "                                         str(e)\n",
    "                                        ))\n",
    "        failed.append((paper, \"latex error \" + str(e)))"
   ]
  },
  {
   "cell_type": "markdown",
   "id": "2505a25c",
   "metadata": {
    "papermill": {
     "duration": 0.004125,
     "end_time": "2024-09-26T04:13:14.734359",
     "exception": false,
     "start_time": "2024-09-26T04:13:14.730234",
     "status": "completed"
    },
    "tags": []
   },
   "source": [
    "### Export the logs\n",
    "\n",
    "Throughout, we also keep track of the logs per paper. see `logs-{today date}.md` "
   ]
  },
  {
   "cell_type": "code",
   "execution_count": 6,
   "id": "d733828a",
   "metadata": {
    "execution": {
     "iopub.execute_input": "2024-09-26T04:13:14.743526Z",
     "iopub.status.busy": "2024-09-26T04:13:14.743278Z",
     "iopub.status.idle": "2024-09-26T04:13:14.762069Z",
     "shell.execute_reply": "2024-09-26T04:13:14.761408Z"
    },
    "papermill": {
     "duration": 0.024849,
     "end_time": "2024-09-26T04:13:14.763256",
     "exception": false,
     "start_time": "2024-09-26T04:13:14.738407",
     "status": "completed"
    },
    "scrolled": false,
    "tags": []
   },
   "outputs": [
    {
     "data": {
      "text/markdown": [
       "## Successful papers"
      ],
      "text/plain": [
       "<IPython.core.display.Markdown object>"
      ]
     },
     "metadata": {},
     "output_type": "display_data"
    },
    {
     "data": {
      "text/markdown": [
       "\n",
       "|||\n",
       "|---:|:---|\n",
       "| [![arXiv](https://img.shields.io/badge/arXiv-2409.16660-b31b1b.svg)](https://arxiv.org/abs/2409.16660) | **The ESO SupJup Survey III: Confirmation of 13CO in YSES 1 b and Atmospheric Detection of YSES 1 c with CRIRES+**  |\n",
       "|| Y. Zhang, et al. -- incl., <mark>P. Mollière</mark>, <mark>E. Nasedkin</mark> |\n",
       "|*Appeared on*| *2024-09-26*|\n",
       "|*Comments*| *25 pages, 11 figure, accepted for publication in AJ. The extracted CRIRES+ spectra of the YSES-1 system can be found at this https URL*|\n",
       "|**Abstract**|            High-resolution spectroscopic characterization of young super-Jovian planets enables precise constraints on elemental and isotopic abundances of their atmospheres. As part of the ESO SupJup Survey, we present high-resolution spectral observations of two wide-orbit super-Jupiters in YSES 1 (or TYC 8998-760-1) using the upgraded VLT/CRIRES+ (R~100,000) in K-band. We carry out free atmospheric retrieval analyses to constrain chemical and isotopic abundances, temperature structures, rotation velocities, and radial velocities. We confirm the previous detection of 13CO in YSES 1 b at a higher significance of 12.6{\\sigma}, but point to a higher 12CO/13CO ratio of 88+/-13 (1{\\sigma} confidence interval), consistent with the primary's isotope ratio 66+/-5. We retrieve a solar-like composition in YSES 1 b with a C/O=0.57+/-0.01, indicating a formation via gravitational instability or core accretion beyond the CO iceline. Additionally, the observations lead to detections of H2O and CO in the outer planet YSES 1 c at 7.3{\\sigma} and 5.7{\\sigma}, respectively. We constrain the atmospheric C/O ratio of YSES 1 c to be either solar or subsolar (C/O=0.36+/-0.15), indicating the accretion of oxygen-rich solids. The two companions have distinct vsini, 5.34+/-0.14 km/s for YSES 1 b and 11.3+/-2.1 km/s for YSES 1 c, despite their similar natal environments. This may indicate different spin axis inclinations or effective magnetic braking by the long-lived circumplanetary disk around YSES 1 b. YSES 1 represents an intriguing system for comparative studies of super-Jovian companions and linking present atmospheres to formation histories.         |"
      ],
      "text/plain": [
       "[2409.16660] The ESO SupJup Survey III: Confirmation of 13CO in YSES 1 b and Atmospheric Detection of YSES 1 c with CRIRES+\n",
       "\tY. Zhang, et al. -- incl., <mark>P. Mollière</mark>, <mark>E. Nasedkin</mark>"
      ]
     },
     "metadata": {},
     "output_type": "display_data"
    },
    {
     "data": {
      "text/markdown": [
       "\n",
       "|||\n",
       "|---:|:---|\n",
       "| [![arXiv](https://img.shields.io/badge/arXiv-2409.16761-b31b1b.svg)](https://arxiv.org/abs/2409.16761) | **S-Process Nucleosynthesis in Chemically Peculiar Binaries**  |\n",
       "|| <mark>A. Dimoff</mark>, et al. |\n",
       "|*Appeared on*| *2024-09-26*|\n",
       "|*Comments*| *30 pages, 14 figures, 7 tables*|\n",
       "|**Abstract**|            Around half of the heavy elements in the universe are formed through the slow neutron capture (s-) process, which takes place in thermally pulsing asymptotic giant branch (AGB) stars with masses $1-6\\;M_{\\odot}$. The nucleosynthetic imprint of the s-process can be studied by observing the material on the surface of binary barium, carbon, CH, and CEMP stars. We study the s-process by observing the luminous components of binary systems polluted by a previous AGB companion. Our radial velocity (RV) monitoring program establishes a collection of binary stars exhibiting enrichment in s-process material for the study of elemental abundances, production of s-process material, and binary mass transfer. From high resolution optical spectra, we measure RVs for 350 stars and derive stellar parameters for 150 stars using ATHOS. For a sub-sample of 24 stars we refine our atmospheric parameters using the Xiru program. We use the MOOG code to compute 1D-LTE abundances of C, Mg, s-process elements Sr, Y, Zr, Mo, Ba, La, Ce, Nd, Pb, and Eu to investigate neutron capture events and stellar chemical composition. We estimate dynamical masses by optimising orbits with MCMC techniques in the ELC program, and we compare our results with low-mass AGB models in the FRUITY database. We find enhancements in s-process material in spectroscopic binaries, a signature of AGB mass transfer. We add Mo to the abundance patterns, and for 12 stars we add Pb detections or upper limits. Computed abundances are in general agreement with the literature. Comparing our abundances to the FRUITY yields, we find correlations in s-process enrichment and AGB mass, and agreements in theoretical and dynamically modelled masses. From our high-resolution observations we expand heavy element abundance patterns and highlight binarity in our chemically interesting systems. We investigate evolutionary stages for a small sub-set of our stars.         |"
      ],
      "text/plain": [
       "[2409.16761] S-Process Nucleosynthesis in Chemically Peculiar Binaries\n",
       "\t<mark>A. Dimoff</mark>, et al."
      ]
     },
     "metadata": {},
     "output_type": "display_data"
    },
    {
     "data": {
      "text/markdown": [
       "\n",
       "|||\n",
       "|---:|:---|\n",
       "| [![arXiv](https://img.shields.io/badge/arXiv-2409.16916-b31b1b.svg)](https://arxiv.org/abs/2409.16916) | **The diverse star formation histories of early massive, quenched galaxies in modern galaxy formation simulations**  |\n",
       "|| C. d. P. Lagos, et al. -- incl., <mark>A. d. Graaff</mark>, <mark>L. Xie</mark> |\n",
       "|*Appeared on*| *2024-09-26*|\n",
       "|*Comments*| *Submitted for publication in MNRAS. 32 pages (21 of main body and 11 of appendices). Comments welcome!*|\n",
       "|**Abstract**|            We present a comprehensive study of the star formation histories of massive-quenched galaxies at $z=3$ in 3 semi-analytic models (SHARK, GAEA, GALFORM) and 3 cosmological hydrodynamical simulations (EAGLE, Illustris-TNG, Simba). We study the predicted number density and stellar mass function of massive-quenched galaxies, their formation and quenching timescales and star-formation properties of their progenitors. Predictions are disparate in all these diagnostics, for instance: (i) some simulations reproduce the observed number density of very massive-quenched galaxies ($>10^{11}\\rm M_{\\odot}$) but underpredict the high density of intermediate-mass ones, while others fit well the lower masses but underpredict the higher ones; (ii) In most simulations, except for GAEA and EAGLE, most massive-quenched galaxies had starburst periods, with the most intense ones happening at $4<z<5$; however, only in SHARK and Illustris-TNG we do find a large number of progenitors with star formation rates $>300\\rm M_{\\odot}\\,yr^{-1}$; (iii) quenching timescales are in the range $\\approx 20-150$~Myr depending on the simulation; among other differences. These disparate predictions can be tied to the adopted Active Galactic Nuclei (AGN) feedback model. For instance, the explicit black-hole (BH) mass dependence to trigger the \"radio mode\" in Illustris-TNG and Simba makes it difficult to produce quenched galaxies with intermediate stellar masses, also leading to higher baryon collapse efficiencies ($\\approx 15-30$%); while the strong bolometric luminosity dependence of the AGN outflow rate in GAEA leads to BHs of modest mass quenching galaxies. Current observations are unable to distinguish between these different predictions due to the small sample sizes. However, these predictions are testable with current facilities and upcoming observations, allowing a \"true physics experiment\" to be carried out.         |"
      ],
      "text/plain": [
       "[2409.16916] The diverse star formation histories of early massive, quenched galaxies in modern galaxy formation simulations\n",
       "\tC. d. P. Lagos, et al. -- incl., <mark>A. d. Graaff</mark>, <mark>L. Xie</mark>"
      ]
     },
     "metadata": {},
     "output_type": "display_data"
    },
    {
     "data": {
      "text/markdown": [
       "## Failed papers"
      ],
      "text/plain": [
       "<IPython.core.display.Markdown object>"
      ]
     },
     "metadata": {},
     "output_type": "display_data"
    },
    {
     "data": {
      "text/markdown": [
       "\n",
       "|||\n",
       "|---:|:---|\n",
       "| [![arXiv](https://img.shields.io/badge/arXiv-2409.16363-b31b1b.svg)](https://arxiv.org/abs/2409.16363) | **Varstrometry for Off-nucleus and Dual sub-Kpc AGN (VODKA): A Mix of Singles, Lenses, and True Duals at Cosmic Noon**  |\n",
       "|| A. C. Gross, et al. -- incl., <mark>J. Li</mark> |\n",
       "|*Appeared on*| *2024-09-26*|\n",
       "|*Comments*| *26 pages, 8 figures, submitted to ApJ, includes appendix of 9 additional figures and 18 tables*|\n",
       "|**Abstract**|            Dual Active Galactic Nuclei (dual AGNs), a phase in some galaxy mergers during which both central supermassive black holes (SMBHs) are active, are expected to be a key observable stage leading up to SMBH mergers. Constraining the population of dual AGNs in both the nearby and high-z universe has proven to be elusive until very recently. We present a multi-wavelength follow-up campaign to confirm the nature of a sample of 20 candidate dual AGNs at cosmic noon (z~2) from the VODKA sample. Through a combination of Hubble Space Telescope (HST) and Very Large Array (VLA) imaging, we refute the possibility of gravitational lensing in all but one target. We find evidence of dual AGNs in four systems, while seven exhibit single AGN in galaxy pairs, either through strong radio emission or ancillary emission line data. The remaining systems are either confirmed as quasar-star superpositions (six) or non-lensed pairs (two) that require further investigations to establish AGN activity. Among the systems with radio detections, we find a variety of radio spectral slopes and UV/optical colors suggesting that our sample contains a range of AGN properties, from obscured radio-quiet objects to those with powerful synchrotron-emitting jets. This study presents one of the largest dedicated multi-wavelength follow-up campaigns to date searching for dual AGNs at high redshift. We confirm several of the highest-z systems at small physical separations, thus representing some of the most evolved dual AGN systems at the epoch of peak quasar activity known to date.         |\n",
       "|<p style=\"color:green\"> **ERROR** </p>| <p style=\"color:green\">affiliation error: mpia.affiliation_verifications: 'Heidelberg' keyword not found.</p> |"
      ],
      "text/plain": [
       "<IPython.core.display.Markdown object>"
      ]
     },
     "metadata": {},
     "output_type": "display_data"
    },
    {
     "data": {
      "text/markdown": [
       "\n",
       "|||\n",
       "|---:|:---|\n",
       "| [![arXiv](https://img.shields.io/badge/arXiv-2409.16890-b31b1b.svg)](https://arxiv.org/abs/2409.16890) | **The fast rise of the unusual Type IIL/IIb SN 2018ivc**  |\n",
       "|| A. Reguitti, et al. -- incl., <mark>M. Ramirez</mark> |\n",
       "|*Appeared on*| *2024-09-26*|\n",
       "|*Comments*| *19 pages, 22 figures, 3 tables, 3 appendices, accepted for publication on A&A*|\n",
       "|**Abstract**|            We present an analysis of the photometric and spectroscopic dataset of the Type II supernova (SN) 2018ivc in the nearby (10 Mpc) galaxy Messier 77. Thanks to the high cadence of the CHASE survey, we observed the SN rising very rapidly by nearly three magnitudes in five hours (or 18 mag d$^{-1}$). The $r$-band light curve presents four distinct phases: the maximum light is reached in just one day, then a first, rapid linear decline precedes a short-duration plateau. Finally, a long, slower linear decline lasted for one year. Following a radio rebrightening, we detected SN 2018ivc four years after the explosion. The early spectra show a blue, nearly featureless continuum, but the spectra evolve rapidly: after about 10 days a prominent H$\\alpha$ line starts to emerge, with a peculiar profile, but the spectra are heavily contaminated by emission lines from the host galaxy. He I lines, namely $\\lambda\\lambda$5876,7065, are also strong. On top of the former, a strong absorption from the Na I doublet is visible, indicative of a non-negligible internal reddening. From its equivalent width, we derive a lower limit on the host reddening of $A_V\\simeq1.5$ mag, while from the Balmer decrement and a match of the $B-V$ colour curve of SN 2018ivc to that of the comparison objects, a host reddening of $A_V\\simeq3.0$ mag is obtained. The spectra are similar to those of SNe II, but with strong He lines. Given the peculiar light curve and spectral features, we suggest SN 2018ivc could be a transitional object between the Type IIL and Type IIb SNe classes. In addition, we found signs of interaction with circumstellar medium in the light curve, making SN 2018ivc also an interacting event. Finally, we modelled the early multi-band light curves and photospheric velocity of SN 2018ivc to estimate the explosion and CSM physical parameters.         |\n",
       "|<p style=\"color:green\"> **ERROR** </p>| <p style=\"color:green\">affiliation error: mpia.affiliation_verifications: 'Heidelberg' keyword not found.</p> |"
      ],
      "text/plain": [
       "<IPython.core.display.Markdown object>"
      ]
     },
     "metadata": {},
     "output_type": "display_data"
    }
   ],
   "source": [
    "import datetime\n",
    "today = str(datetime.date.today())\n",
    "logfile = f\"_build/html/logs/log-{today}.md\"\n",
    "\n",
    "\n",
    "with open(logfile, 'w') as logs:\n",
    "    # Success\n",
    "    logs.write(f'# Arxiv on Deck 2: Logs - {today}\\n\\n')\n",
    "    logs.write(\"\"\"* Arxiv had {0:,d} new papers\\n\"\"\".format(len(new_papers)))\n",
    "    logs.write(\"\"\"    * {0:,d} with possible author matches\\n\\n\"\"\".format(len(candidates)))\n",
    "    logs.write(\"## Sucessful papers\\n\\n\")\n",
    "    display(Markdown(\"## Successful papers\"))\n",
    "    success = [k[0] for k in documents]\n",
    "    for candid in candidates:\n",
    "        if candid['identifier'].split(':')[-1] in success:\n",
    "            display(candid)\n",
    "            logs.write(candid.generate_markdown_text() + '\\n\\n')\n",
    "\n",
    "    ## failed\n",
    "    logs.write(\"## Failed papers\\n\\n\")\n",
    "    display(Markdown(\"## Failed papers\"))\n",
    "    failed = sorted(failed, key=lambda x: x[1])\n",
    "    current_reason = \"\"\n",
    "    for paper, reason in failed:\n",
    "        if 'affiliation' in reason:\n",
    "            color = 'green'\n",
    "        else:\n",
    "            color = 'red'\n",
    "        data = Markdown(\n",
    "                paper.generate_markdown_text() + \n",
    "                f'\\n|<p style=\"color:{color:s}\"> **ERROR** </p>| <p style=\"color:{color:s}\">{reason:s}</p> |'\n",
    "               )\n",
    "        if reason != current_reason:\n",
    "            logs.write(f'### {reason:s} \\n\\n')\n",
    "            current_reason = reason\n",
    "        logs.write(data.data + '\\n\\n')\n",
    "        \n",
    "        # only display here the important errors (all in logs)\n",
    "        # if color in ('red',):\n",
    "        display(data)"
   ]
  },
  {
   "cell_type": "markdown",
   "id": "472d20ee",
   "metadata": {
    "papermill": {
     "duration": 0.004796,
     "end_time": "2024-09-26T04:13:14.773052",
     "exception": false,
     "start_time": "2024-09-26T04:13:14.768256",
     "status": "completed"
    },
    "tags": []
   },
   "source": [
    "## Export documents\n",
    "\n",
    "We now write the .md files and export relevant images"
   ]
  },
  {
   "cell_type": "code",
   "execution_count": 7,
   "id": "d426aed9",
   "metadata": {
    "execution": {
     "iopub.execute_input": "2024-09-26T04:13:14.783867Z",
     "iopub.status.busy": "2024-09-26T04:13:14.783606Z",
     "iopub.status.idle": "2024-09-26T04:13:14.790984Z",
     "shell.execute_reply": "2024-09-26T04:13:14.790347Z"
    },
    "papermill": {
     "duration": 0.014154,
     "end_time": "2024-09-26T04:13:14.792012",
     "exception": false,
     "start_time": "2024-09-26T04:13:14.777858",
     "status": "completed"
    },
    "tags": []
   },
   "outputs": [],
   "source": [
    "def export_markdown_summary(md: str, md_fname:str, directory: str):\n",
    "    \"\"\"Export MD document and associated relevant images\"\"\"\n",
    "    import os\n",
    "    import shutil\n",
    "    import re\n",
    "\n",
    "    if (os.path.exists(directory) and not os.path.isdir(directory)):\n",
    "        raise RuntimeError(f\"a non-directory file exists with name {directory:s}\")\n",
    "\n",
    "    if (not os.path.exists(directory)):\n",
    "        print(f\"creating directory {directory:s}\")\n",
    "        os.mkdir(directory)\n",
    "\n",
    "    fig_fnames = (re.compile(r'\\[Fig.*\\]\\((.*)\\)').findall(md) + \n",
    "                  re.compile(r'\\<img src=\"([^>\\s]*)\"[^>]*/>').findall(md))\n",
    "    print(\"found figures\", fig_fnames)\n",
    "    for fname in fig_fnames:\n",
    "        if 'http' in fname:\n",
    "            # No need to copy online figures\n",
    "            continue\n",
    "        if not os.path.exists(fname):\n",
    "            print(\"file not found\", fname)\n",
    "            continue\n",
    "        print(\"copying \", fname, \"to\", directory)\n",
    "        destdir = os.path.join(directory, os.path.dirname(fname))\n",
    "        destfname = os.path.join(destdir, os.path.basename(fname))\n",
    "        try:\n",
    "            os.makedirs(destdir)\n",
    "        except FileExistsError:\n",
    "            pass\n",
    "        shutil.copy(fname, destfname)\n",
    "    with open(os.path.join(directory, md_fname), 'w') as fout:\n",
    "        fout.write(md)\n",
    "    print(\"exported in \", os.path.join(directory, md_fname))\n",
    "    [print(\"    + \" + os.path.join(directory,fk)) for fk in fig_fnames]"
   ]
  },
  {
   "cell_type": "code",
   "execution_count": 8,
   "id": "014d04a4",
   "metadata": {
    "execution": {
     "iopub.execute_input": "2024-09-26T04:13:14.802896Z",
     "iopub.status.busy": "2024-09-26T04:13:14.802483Z",
     "iopub.status.idle": "2024-09-26T04:13:14.820448Z",
     "shell.execute_reply": "2024-09-26T04:13:14.819731Z"
    },
    "papermill": {
     "duration": 0.024419,
     "end_time": "2024-09-26T04:13:14.821485",
     "exception": false,
     "start_time": "2024-09-26T04:13:14.797066",
     "status": "completed"
    },
    "tags": []
   },
   "outputs": [
    {
     "name": "stdout",
     "output_type": "stream",
     "text": [
      "found figures ['tmp_2409.16660/figures/yses1b_res_ccf_CO_HF.png', 'tmp_2409.16660/figures/compare_corner_pt.png', 'tmp_2409.16660/figures/yses1b_bestfit_spec.png']\n",
      "copying  tmp_2409.16660/figures/yses1b_res_ccf_CO_HF.png to _build/html/\n",
      "copying  tmp_2409.16660/figures/compare_corner_pt.png to _build/html/\n",
      "copying  tmp_2409.16660/figures/yses1b_bestfit_spec.png to _build/html/\n",
      "exported in  _build/html/2409.16660.md\n",
      "    + _build/html/tmp_2409.16660/figures/yses1b_res_ccf_CO_HF.png\n",
      "    + _build/html/tmp_2409.16660/figures/compare_corner_pt.png\n",
      "    + _build/html/tmp_2409.16660/figures/yses1b_bestfit_spec.png\n",
      "found figures ['tmp_2409.16761/./figures/abundance_grid_specFe_2.png', 'tmp_2409.16761/./figures/FRUITY_model_comparison_full_3.png', 'tmp_2409.16761/./figures/cut_ATHOS_XIRU_sample_Kiel_FeH_3.png']\n",
      "copying  tmp_2409.16761/./figures/abundance_grid_specFe_2.png to _build/html/\n",
      "copying  tmp_2409.16761/./figures/FRUITY_model_comparison_full_3.png to _build/html/\n",
      "copying  tmp_2409.16761/./figures/cut_ATHOS_XIRU_sample_Kiel_FeH_3.png to _build/html/\n",
      "exported in  _build/html/2409.16761.md\n",
      "    + _build/html/tmp_2409.16761/./figures/abundance_grid_specFe_2.png\n",
      "    + _build/html/tmp_2409.16761/./figures/FRUITY_model_comparison_full_3.png\n",
      "    + _build/html/tmp_2409.16761/./figures/cut_ATHOS_XIRU_sample_Kiel_FeH_3.png\n",
      "found figures ['tmp_2409.16916/./Figs/max_sfr_mass_relations_sims_z3.png', 'tmp_2409.16916/./Figs/num_density_passive_shark.png', 'tmp_2409.16916/./Figs/num_density_passive_eagle.png', 'tmp_2409.16916/./Figs/num_density_passive_gaea.png', 'tmp_2409.16916/./Figs/num_density_passive_tng.png', 'tmp_2409.16916/./Figs/num_density_passive_galform.png', 'tmp_2409.16916/./Figs/num_density_passive_simba.png', 'tmp_2409.16916/./Figs/stellarmf_passive_sims_z3.png']\n",
      "copying  tmp_2409.16916/./Figs/max_sfr_mass_relations_sims_z3.png to _build/html/\n",
      "copying  tmp_2409.16916/./Figs/num_density_passive_shark.png to _build/html/\n",
      "copying  tmp_2409.16916/./Figs/num_density_passive_eagle.png to _build/html/\n",
      "copying  tmp_2409.16916/./Figs/num_density_passive_gaea.png to _build/html/\n",
      "copying  tmp_2409.16916/./Figs/num_density_passive_tng.png to _build/html/\n",
      "copying  tmp_2409.16916/./Figs/num_density_passive_galform.png to _build/html/\n",
      "copying  tmp_2409.16916/./Figs/num_density_passive_simba.png to _build/html/\n",
      "copying  tmp_2409.16916/./Figs/stellarmf_passive_sims_z3.png to _build/html/\n",
      "exported in  _build/html/2409.16916.md\n",
      "    + _build/html/tmp_2409.16916/./Figs/max_sfr_mass_relations_sims_z3.png\n",
      "    + _build/html/tmp_2409.16916/./Figs/num_density_passive_shark.png\n",
      "    + _build/html/tmp_2409.16916/./Figs/num_density_passive_eagle.png\n",
      "    + _build/html/tmp_2409.16916/./Figs/num_density_passive_gaea.png\n",
      "    + _build/html/tmp_2409.16916/./Figs/num_density_passive_tng.png\n",
      "    + _build/html/tmp_2409.16916/./Figs/num_density_passive_galform.png\n",
      "    + _build/html/tmp_2409.16916/./Figs/num_density_passive_simba.png\n",
      "    + _build/html/tmp_2409.16916/./Figs/stellarmf_passive_sims_z3.png\n"
     ]
    }
   ],
   "source": [
    "for paper_id, md in documents:\n",
    "    export_markdown_summary(md, f\"{paper_id:s}.md\", '_build/html/')"
   ]
  },
  {
   "cell_type": "markdown",
   "id": "f087a0a7",
   "metadata": {
    "papermill": {
     "duration": 0.004911,
     "end_time": "2024-09-26T04:13:14.831578",
     "exception": false,
     "start_time": "2024-09-26T04:13:14.826667",
     "status": "completed"
    },
    "tags": []
   },
   "source": [
    "## Display the papers\n",
    "\n",
    "Not necessary but allows for a quick check."
   ]
  },
  {
   "cell_type": "code",
   "execution_count": 9,
   "id": "fd25f625",
   "metadata": {
    "execution": {
     "iopub.execute_input": "2024-09-26T04:13:14.842923Z",
     "iopub.status.busy": "2024-09-26T04:13:14.842500Z",
     "iopub.status.idle": "2024-09-26T04:13:14.849834Z",
     "shell.execute_reply": "2024-09-26T04:13:14.849192Z"
    },
    "papermill": {
     "duration": 0.014047,
     "end_time": "2024-09-26T04:13:14.850858",
     "exception": false,
     "start_time": "2024-09-26T04:13:14.836811",
     "status": "completed"
    },
    "scrolled": false,
    "tags": []
   },
   "outputs": [
    {
     "data": {
      "text/markdown": [
       "<div class=\"macros\" style=\"visibility:hidden;\">\n",
       "$\\newcommand{\\ensuremath}{}$\n",
       "$\\newcommand{\\xspace}{}$\n",
       "$\\newcommand{\\object}[1]{\\texttt{#1}}$\n",
       "$\\newcommand{\\farcs}{{.}''}$\n",
       "$\\newcommand{\\farcm}{{.}'}$\n",
       "$\\newcommand{\\arcsec}{''}$\n",
       "$\\newcommand{\\arcmin}{'}$\n",
       "$\\newcommand{\\ion}[2]{#1#2}$\n",
       "$\\newcommand{\\textsc}[1]{\\textrm{#1}}$\n",
       "$\\newcommand{\\hl}[1]{\\textrm{#1}}$\n",
       "$\\newcommand{\\footnote}[1]{}$\n",
       "$\\newcommand$\n",
       "$\\newcommand$\n",
       "$\\newcommand{\\vdag}{(v)^\\dagger}$\n",
       "$\\newcommand{\\COiso}{^{13}\\textrm{CO}}$\n",
       "$\\newcommand{\\COmain}{^{12}\\textrm{CO}}$\n",
       "$\\newcommand{\\HTWOO}{H_{2}\\textrm{O}}$\n",
       "$\\newcommand{\\COTWO}{CO_{2}}$\n",
       "$\\newcommand{\\methane}{CH_{4}}$\n",
       "$\\newcommand{\\ammonia}{NH_{3}}$\n",
       "$\\newcommand{\\enstatite}{MgSiO_{3}}$\n",
       "$\\newcommand{\\Mjup}{M_\\mathrm{Jup}}$\n",
       "$\\newcommand{\\Rjup}{R_\\mathrm{Jup}}$\n",
       "$\\newcommand{\\Msun}{M_\\odot}$\n",
       "$\\newcommand{\\Teff}{T_\\mathrm{eff}}$\n",
       "$\\newcommand{\\kms}{km s^{-1}}$\n",
       "$\\newcommand{\\rnote}[1]{{\\textbf{\\color{red}#1}}}$\n",
       "$\\newcommand{\\leiden}{Leiden Observatory, Leiden University, P.O. Box 9513, 2300 RA, Leiden, The Netherlands}$\n",
       "$\\newcommand{\\caltech}{Department of Astronomy, California Institute of Technology, Pasadena, CA 91125, USA}$\n",
       "$\\newcommand{\\gps}{Division of Geological \\& Planetary Sciences, California Institute of Technology, Pasadena, CA 91125, USA}$\n",
       "$\\newcommand{\\warwick}{Department of Physics, University of Warwick, Coventry CV4 7AL, UK}$\n",
       "$\\newcommand{\\warwicks}{Centre for Exoplanets and Habitability, University of Warwick, Gibbet Hill Road, Coventry CV4 7AL, UK}$\n",
       "$\\newcommand{\\ipac}{IPAC, Mail Code 100-22, Caltech, 1200 E. California Boulevard, Pasadena, CA 91125, USA}$\n",
       "$\\newcommand{\\mpia}{Max-Planck-Institut für Astronomie, Königstuhl 17, 69117 Heidelberg, Germany}$\n",
       "$\\newcommand{\\granada}{Instituto de Astrof{í}sica de Andaluc{í}a (IAA-CSIC), Glorieta de la Astronom{í}a s/n, 18008 Granada, Spain}$\n",
       "$\\newcommand{\\galway}{School of Natural Sciences, Center for Astronomy, University of Galway, Galway, H91 CF50, Ireland}$\n",
       "$\\newcommand{\\carnegiew}{Earth and Planets Laboratory, Carnegie Institution for Science, Washington, DC, 20015}$</div>\n",
       "\n",
       "\n",
       "\n",
       "<div id=\"title\">\n",
       "\n",
       "# The ESO SupJup Survey III: confirmation of $\\COiso$ in YSES 1 b and atmospheric detection of YSES 1 c with CRIRES$^+$\n",
       "\n",
       "</div>\n",
       "<div id=\"comments\">\n",
       "\n",
       "[![arXiv](https://img.shields.io/badge/arXiv-2409.16660-b31b1b.svg)](https://arxiv.org/abs/2409.16660)<mark>Appeared on: 2024-09-26</mark> -  _25 pages, 11 figure, accepted for publication in AJ. The extracted CRIRES+ spectra of the YSES-1 system can be found at this https URL_\n",
       "\n",
       "</div>\n",
       "<div id=\"authors\">\n",
       "\n",
       "Y. Zhang, et al. -- incl., <mark>P. Mollière</mark>, <mark>E. Nasedkin</mark>\n",
       "\n",
       "</div>\n",
       "<div id=\"abstract\">\n",
       "\n",
       "**Abstract:** High-resolution spectroscopic characterization of young super-Jovian planets enablesprecise constraints on elemental and isotopic abundances of their atmospheres.As part of the ESO SupJup Survey, we present high-resolution spectral observations oftwo wide-orbit super-Jupiters in YSES 1 (or TYC 8998-760-1) using the upgraded VLT/CRIRES $^+$ ( $\\mathcal{R}\\sim 100,000$ )in K-band.We carry out free atmospheric retrieval analyses to constrain chemical and isotopic abundances, temperature structures,rotation velocities ( $v\\sin i$ ), and radial velocities (RV).We confirm the previous detection of $\\COiso$ in YSES 1 b at a higher significance of 12.6 $\\sigma$ , but point to a higher $\\COmain$ / $\\COiso$ ratio of $88\\pm 13$ (1 $\\sigma$ confidence interval), consistent with the primary's isotope ratio $66 \\pm 5$ .We retrieve a solar-like composition in YSES 1 b with a C/O $=0.57 \\pm 0.01$ ,indicating a formation via gravitational instability or core accretion beyond the CO iceline.Additionally, the observations lead to detections of $\\HTWOO$ and CO in the outer planet YSES 1 c at 7.3 $\\sigma$ and 5.7 $\\sigma$ , respectively.We constrain the atmospheric C/O ratio of YSES 1 c to be either solar or subsolar (C/O= $0.36 \\pm 0.15$ ), indicating the accretion of oxygen-rich solids.The two companions have distinct $v\\sin i$ , $5.34 \\pm 0.14$ $\\kms$ for YSES 1 b and $11.3 \\pm 2.1$ $\\kms$ for YSES 1 c, despite their similar natal environments.This may indicate different spin axis inclinations or effective magnetic braking by the long-lived circumplanetary disk around YSES 1 b.YSES 1 represents an intriguing system for comparative studies of super-Jovian companions and linking present atmospheres to formation histories.\n",
       "\n",
       "</div>\n",
       "\n",
       "<div id=\"div_fig1\">\n",
       "\n",
       "<img src=\"tmp_2409.16660/figures/yses1b_res_ccf_CO_HF.png\" alt=\"Fig7\" width=\"100%\"/>\n",
       "\n",
       "**Figure 7. -** Detection of $\\COiso$ and HF molecules in CRIRES$^+$ observations of YSES 1 b.\n",
       "      The top three panels show the 2.32-2.37 \\micron observational residuals, where the main $\\HTWOO$ and $\\COmain$ spectral features have been removed from the data.\n",
       "      The best-fit $\\COiso$ and HF model spectra are overplotted in red and blue lines, demonstrating the detection of individual lines in the data.\n",
       "      The bottom panels display cross-correlation functions (CCF) of observational residuals with $\\COiso$ and HF models.\n",
       "      The gray dashed line is each molecular model's auto-correlation function (ACF).\n",
       "     (*fig:1b_ccf*)\n",
       "\n",
       "</div>\n",
       "<div id=\"div_fig2\">\n",
       "\n",
       "<img src=\"tmp_2409.16660/figures/compare_corner_pt.png\" alt=\"Fig8\" width=\"100%\"/>\n",
       "\n",
       "**Figure 8. -** Comparison of retrieval results of alternative models for YSES 1 b.\n",
       "    Blue represents the baseline model, orange shows the enforced (optically thick) cloud model, green represents the model with veiling effect, and gray is the model with Gaussian Processes accounting for correlated noise.\n",
       "    The upper right panel shows the retrieved T-P profiles. Different color saturations indicate the envelopes of\n",
       "    1$\\sigma$, 2$\\sigma$, and 3$\\sigma$ intervels. The red dashed line is the self-consistent T-P profile ($\\Teff$=1900 K, $\\log g$=4.0)\n",
       "    from the Sonora Bobcat model grid. The dotted curve shows the flux-weighted emission contribution of each model.\n",
       "    The corner plots show the posteriors of free parameters, including surface gravity, C/O ratio,\n",
       "    metallicity, vertical mixing parameter, settling parameter, mass fraction of clouds at the cloud base, and carbon isotope ratio.\n",
       "    We note the correlation between surface gravity and metallicity, while C/O and $\\COmain$/$\\COiso$ are less model dependent.\n",
       "     (*fig:compare_pt*)\n",
       "\n",
       "</div>\n",
       "<div id=\"div_fig3\">\n",
       "\n",
       "<img src=\"tmp_2409.16660/figures/yses1b_bestfit_spec.png\" alt=\"Fig6\" width=\"100%\"/>\n",
       "\n",
       "**Figure 6. -** One spectral order of CRIRES$^+$ observations of YSES 1 b from 2.32 to 2.37 \\micron.\n",
       "    The observations are shown in black data points with error bars. Overplotted is the best-fit model\n",
       "    obtained with retrieval analyses.\n",
       "    We annotated the positions of absorption features from $\\HTWOO$ and CO with short bars on the top of each panel.\n",
       "    The observational residuals (data minus model) are shown with scattered dots in gray.\n",
       "     (*fig:1b_spec*)\n",
       "\n",
       "</div><div id=\"qrcode\"><img src=https://api.qrserver.com/v1/create-qr-code/?size=100x100&data=\"https://arxiv.org/abs/2409.16660\"></div>"
      ],
      "text/plain": [
       "<IPython.core.display.Markdown object>"
      ]
     },
     "metadata": {},
     "output_type": "display_data"
    },
    {
     "data": {
      "text/markdown": [
       "<div class=\"macros\" style=\"visibility:hidden;\">\n",
       "$\\newcommand{\\ensuremath}{}$\n",
       "$\\newcommand{\\xspace}{}$\n",
       "$\\newcommand{\\object}[1]{\\texttt{#1}}$\n",
       "$\\newcommand{\\farcs}{{.}''}$\n",
       "$\\newcommand{\\farcm}{{.}'}$\n",
       "$\\newcommand{\\arcsec}{''}$\n",
       "$\\newcommand{\\arcmin}{'}$\n",
       "$\\newcommand{\\ion}[2]{#1#2}$\n",
       "$\\newcommand{\\textsc}[1]{\\textrm{#1}}$\n",
       "$\\newcommand{\\hl}[1]{\\textrm{#1}}$\n",
       "$\\newcommand{\\footnote}[1]{}$</div>\n",
       "\n",
       "\n",
       "\n",
       "<div id=\"title\">\n",
       "\n",
       "# S-Process Nucleosynthesis in Chemically Peculiar Binaries\n",
       "\n",
       "</div>\n",
       "<div id=\"comments\">\n",
       "\n",
       "[![arXiv](https://img.shields.io/badge/arXiv-2409.16761-b31b1b.svg)](https://arxiv.org/abs/2409.16761)<mark>Appeared on: 2024-09-26</mark> -  _30 pages, 14 figures, 7 tables_\n",
       "\n",
       "</div>\n",
       "<div id=\"authors\">\n",
       "\n",
       "<mark>A. Dimoff</mark>, et al.\n",
       "\n",
       "</div>\n",
       "<div id=\"abstract\">\n",
       "\n",
       "**Abstract:** Around half of the heavy elements in the universe are formed through the slow neutron capture (s-) process, which takes place in thermally pulsing asymptotic giant branch (AGB) stars with masses $1-6\\;M_{\\odot}$ . The nucleosynthetic imprint of the s-process can be studied by observing the material on the surface of binary barium (Ba), carbon (C), CH, and carbon-enhanced metal-poor (CEMP) stars. We study the s-process by observing the luminous components of binary systems polluted by a previous AGB companion. Our radial velocity (RV) monitoring program establishes an ongoing collection of binary stars exhibiting enrichment in s-process material for the study of elemental abundances, production of s-process material, and binary mass transfer. From high resolution optical spectra, we measure radial velocities (RVs) for $350$ stars and derive stellar parameters for $\\sim150$ stars using ATHOS. For a sub-sample of $24$ chemically interesting stars we refine our atmospheric parameters using ionization and excitation balance with the Xiru program. We use the MOOG code to compute one-dimensional local thermodynamic equilibrium (1D-LTE) abundances of carbon, magnesium, s-process elements (Sr, Y, Zr, Mo, Ba, La, Ce, Nd, Pb), and Eu to investigate neutron capture events and stellar chemical composition. We estimate dynamical stellar masses via orbital optimization using Markov chain Monte Carlo techniques in the ELC program, and we compare our results with low-mass AGB models in the FUll-Network Repository of Updated Isotopic Tables \\& Yields (FRUITY) database. In our abundance sub-sample, we find enhancements in s-process material in spectroscopic binaries, a signature of AGB mass transfer. We add the element Mo to the abundance patterns, and for 12 stars we add Pb detections or upper limits, as these are not known in the literature. Computed abundances are in general agreement with the literature. Comparing our abundances to dilution-modified FRUITY yields, we find correlations in s-process enrichment and AGB mass, supported by dynamical modeling from RVs. From our high-resolution observations, we expand heavy element abundance patterns and highlight binarity in our chemically interesting systems. We find trends in s-process element enhancement from AGB stars, and agreements in theoretical and dynamically modelled masses. We investigate evolutionary stages for a small sub-set of our stars.\n",
       "\n",
       "</div>\n",
       "\n",
       "<div id=\"div_fig1\">\n",
       "\n",
       "<img src=\"tmp_2409.16761/./figures/abundance_grid_specFe_2.png\" alt=\"Fig10\" width=\"100%\"/>\n",
       "\n",
       "**Figure 10. -** Abundances for our sample of stars by element. Blue squares are Ba stars, red circles are carbon-enhanced (CEMP-s/-no or CH) stars, and green x's are \"other\" or unclassified stars. Inverted arrows are upper limits on the abundance of [X/Fe] (*fig:abund_grid*)\n",
       "\n",
       "</div>\n",
       "<div id=\"div_fig2\">\n",
       "\n",
       "<img src=\"tmp_2409.16761/./figures/FRUITY_model_comparison_full_3.png\" alt=\"Fig12\" width=\"100%\"/>\n",
       "\n",
       "**Figure 12. -** FRUITY models compared to computed abundances for our high-quality abundance sample, organized by decreasing metallicity. Blue data points correspond to Ba stars, red to C-enriched stars, and green to \"other\" stars. Inverted triangles in the plots are upper limits from our abundance computations. FRUITY model data is shown in black. (*fig:FRUITY_compare*)\n",
       "\n",
       "</div>\n",
       "<div id=\"div_fig3\">\n",
       "\n",
       "<img src=\"tmp_2409.16761/./figures/cut_ATHOS_XIRU_sample_Kiel_FeH_3.png\" alt=\"Fig3\" width=\"100%\"/>\n",
       "\n",
       "**Figure 3. -** TOP: Kiel diagram of our estimated stellar parameters from ATHOS and Xiru, with ATHOS operational limits as the dashed grey box. Open circles are parameters estimated by Xiru. Blue data points are known Ba stars, red are carbon enhanced stars, and green are \"other\" stars. Floating error bars are for Xiru (black) and ATHOS (green). Cool giants are in the upper right, and warm dwarfs are in the lower left. BOTTOM: Metallicity vs temperature for our this sub-sample, with ATHOS operational limits as the dashed grey box. Colors are the same as the top panel. (*fig:Kiel_Diag*)\n",
       "\n",
       "</div><div id=\"qrcode\"><img src=https://api.qrserver.com/v1/create-qr-code/?size=100x100&data=\"https://arxiv.org/abs/2409.16761\"></div>"
      ],
      "text/plain": [
       "<IPython.core.display.Markdown object>"
      ]
     },
     "metadata": {},
     "output_type": "display_data"
    },
    {
     "data": {
      "text/markdown": [
       "<div class=\"macros\" style=\"visibility:hidden;\">\n",
       "$\\newcommand{\\ensuremath}{}$\n",
       "$\\newcommand{\\xspace}{}$\n",
       "$\\newcommand{\\object}[1]{\\texttt{#1}}$\n",
       "$\\newcommand{\\farcs}{{.}''}$\n",
       "$\\newcommand{\\farcm}{{.}'}$\n",
       "$\\newcommand{\\arcsec}{''}$\n",
       "$\\newcommand{\\arcmin}{'}$\n",
       "$\\newcommand{\\ion}[2]{#1#2}$\n",
       "$\\newcommand{\\textsc}[1]{\\textrm{#1}}$\n",
       "$\\newcommand{\\hl}[1]{\\textrm{#1}}$\n",
       "$\\newcommand{\\footnote}[1]{}$\n",
       "$\\newcommand{\\crate}{\\dot M_{\\rm cool}}$\n",
       "$\\newcommand{\\eagle}{{\\sc eagle}}$\n",
       "$\\newcommand{\\surfs}{{\\sc surfs}}$\n",
       "$\\newcommand{\\shark}{{\\sc Shark}}$</div>\n",
       "\n",
       "\n",
       "\n",
       "<div id=\"title\">\n",
       "\n",
       "# The diverse star formation histories of early  massive, quenched galaxies in modern galaxy formation simulations\n",
       "\n",
       "</div>\n",
       "<div id=\"comments\">\n",
       "\n",
       "[![arXiv](https://img.shields.io/badge/arXiv-2409.16916-b31b1b.svg)](https://arxiv.org/abs/2409.16916)<mark>Appeared on: 2024-09-26</mark> -  _Submitted for publication in MNRAS. 32 pages (21 of main body and 11 of appendices). Comments welcome!_\n",
       "\n",
       "</div>\n",
       "<div id=\"authors\">\n",
       "\n",
       "C. d. P. Lagos, et al. -- incl., <mark>A. d. Graaff</mark>, <mark>L. Xie</mark>\n",
       "\n",
       "</div>\n",
       "<div id=\"abstract\">\n",
       "\n",
       "**Abstract:** We present a comprehensive study of the star formation histories of massive-quenched galaxies at $z=3$ in $3$ semi-analytic models ( $\\shark$ , ${\\sc GAEA}$ , ${\\sc Galform}$ ) and $3$ cosmological hydrodynamical simulations ( ${\\sc Eagle}$ , ${\\sc Illustris-TNG}$ , ${\\sc Simba}$ ). We study the predicted number density and stellar mass function of massive-quenched galaxies, their formation and quenching timescales and star-formation properties of their progenitors. Predictions are disparate in all these diagnostics, for instance: (i) some simulations reproduce the observed number density of very massive-quenched galaxies ( $>10^{11} \\rm M_{\\odot}$ ) but underpredict the high density of intermediate-mass ones, while others fit well the lower masses but underpredict the higher ones; (ii) In most simulations, except for ${\\sc GAEA}$ and $\\eagle$ , most massive-quenched galaxies had starburst periods, with the most intense ones happening at $4<z<5$ ; however, only in $\\shark$ and ${\\sc Illustris-TNG}$ we do find a large number of progenitors with star formation rates $>300\\rm   M_{\\odot} yr^{-1}$ ; (iii) quenching timescales are in the range $\\approx 20-150$ Myr depending on the simulation; among other differences. These disparate predictions can be tied to the adopted Active Galactic Nuclei (AGN) feedback model. For instance, the explicit black-hole (BH) mass dependence to trigger the \"radio mode\" in ${\\sc Illustris-TNG}$ and ${\\sc Simba}$ makes it difficult to produce quenched galaxies with intermediate stellar masses, also leading to higher baryon collapse efficiencies ( $\\approx 15-30$ \\% ); while the strong bolometric luminosity dependence of the AGN outflow rate in ${\\sc GAEA}$ leads to BHs of modest mass quenching galaxies. Current observations are unable to distinguish between these different predictions due to the small sample sizes. However, these predictions are testable with current facilities and upcoming observations, allowing a \"true physics experiment’’ to be carried out.\n",
       "\n",
       "</div>\n",
       "\n",
       "<div id=\"div_fig1\">\n",
       "\n",
       "<img src=\"tmp_2409.16916/./Figs/max_sfr_mass_relations_sims_z3.png\" alt=\"Fig13\" width=\"100%\"/>\n",
       "\n",
       "**Figure 13. -** _ Top-left panel:_ maximum SFR achieved by the $z=3$ passive, massive galaxies (at any point of their history) as a function of the $z=3$ stellar mass in each of the $6$ simulations, as labelled. Lines with shaded regions show the medians and the $16^{\\rm th}-84^{\\rm th}$ percentile ranges, respectively. We use adaptive bins to ensure a reasonable number of galaxies per bin.\n",
       "_ Top-right panel:_ as in the top-left panel but for the lookback time at which SFR$_{\\rm max}$ happens. Here we show with horizontal lines three different redshifts, as labelled (noting that the cosmologies of the simulations are not exactly the same, but similar enough to use these lines as guidance). _ Bottom-left panel:_ Distance to the main sequence (i.e. $\\rm log_{10}(sSFR/sSFR_{\\rm MS})$; see \\S \\ref{definitions}), defined at the point of the maximum SFR of the $z=3$ massive-quenched galaxies as a function of the $z=3$ stellar mass. The dashed line shows the point at which galaxies are at $0.25$ dex above the main sequence. _ Bottom-right panel:_ As in the bottom-left panel but for the distance to main sequence in units of the width of the main sequence (measured as the standard deviation of the SFR-stellar mass relation at the point of the maximum SFR; see dotted lines in Fig. \\ref{mainseq}). The dashed line shows the point at which galaxies are $1\\sigma$ above the main sequence. (*sfr_scaling*)\n",
       "\n",
       "</div>\n",
       "<div id=\"div_fig2\">\n",
       "\n",
       "<img src=\"tmp_2409.16916/./Figs/num_density_passive_shark.png\" alt=\"Fig11.1\" width=\"16%\"/><img src=\"tmp_2409.16916/./Figs/num_density_passive_eagle.png\" alt=\"Fig11.2\" width=\"16%\"/><img src=\"tmp_2409.16916/./Figs/num_density_passive_gaea.png\" alt=\"Fig11.3\" width=\"16%\"/><img src=\"tmp_2409.16916/./Figs/num_density_passive_tng.png\" alt=\"Fig11.4\" width=\"16%\"/><img src=\"tmp_2409.16916/./Figs/num_density_passive_galform.png\" alt=\"Fig11.5\" width=\"16%\"/><img src=\"tmp_2409.16916/./Figs/num_density_passive_simba.png\" alt=\"Fig11.6\" width=\"16%\"/>\n",
       "\n",
       "**Figure 11. -** Number density of passive massive galaxies selected based on two stellar mass thresholds, $M_{\\star}>10^{10} \\rm M_{\\odot}$(thick lines) and $M_{\\star}>10^{10.5} \\rm M_{\\odot}$(thin lines) and three sSFR thresholds, $<10^{-10} \\rm yr^{-1}$(solid lines), $<5\\times 10^{-11} \\rm yr^{-1}$(dashed lines) and $<10^{-11} \\rm yr^{-1}$(dotted lines), as labelled, between $2\\le z\\le 5$. This is shown for the $6$ simulations being analysed; the SAMs: $\\shark${\\sc GAEA}, and {\\sc Galform}; and the hydrodynamical simulations: {\\sc Eagle}, {\\sc Illustris-TNG}, and {\\sc Simba}, as labelled in each panel. Masses and SFRs are measured as described in \\S \\ref{definitions}.\n",
       "For the redshift bins with $0$ passive galaxies, we use an arbitrary low number density of $10^{-9} \\rm cMpc^{-3}$. Observational estimates are also shown: in grey symbols (pre-JWST results) are from [Straatman, et. al (2014)](), [Schreiber, et. al (2018)](), [Merlin, et. al (2019)](), [Girelli, Bolzonella and Cimatti (2019)](), [Carnall, et. al (2020)](), [Weaver, et. al (2023)](), [Gould, et. al (2023)](), and green symbols (JWST results) are from [Nanayakkara, et. al (2024)](), [Carnall, et. al (2023)](), [Valentino, et. al (2023)](), [Alberts, et. al (2023)](), as labelled in each panel. (*num_densities*)\n",
       "\n",
       "</div>\n",
       "<div id=\"div_fig3\">\n",
       "\n",
       "<img src=\"tmp_2409.16916/./Figs/stellarmf_passive_sims_z3.png\" alt=\"Fig2\" width=\"100%\"/>\n",
       "\n",
       "**Figure 2. -** _ Top panel:_ Stellar mass function of galaxies at $z=3$ selected to have a $\\rm sSFR < 10^{-10} \\rm yr^{-1}$ in the $6$ different simulations analysed, as labelled. We show Poisson errorbars with shaded regions to demonstrate that the differences between simulations are significant.\n",
       "Observations from [Weaver, et. al (2023)]() for passive galaxies are shown in symbols for redshifts around $z=3$. The latter sample was selected using colour-colour selection (see text for details).\n",
       "The vertical dotted line marks the approximate stellar mass above which observational estimates of the SMF are reliable according to [Weaver, et. al (2023)]().\n",
       "_ Bottom panel:_ as in the top panel but after convolving stellar masses with Gaussian-distributed errors with a width of $0.25$ dex. (*SMFz3*)\n",
       "\n",
       "</div><div id=\"qrcode\"><img src=https://api.qrserver.com/v1/create-qr-code/?size=100x100&data=\"https://arxiv.org/abs/2409.16916\"></div>"
      ],
      "text/plain": [
       "<IPython.core.display.Markdown object>"
      ]
     },
     "metadata": {},
     "output_type": "display_data"
    }
   ],
   "source": [
    "[display(Markdown(k[1])) for k in documents];"
   ]
  },
  {
   "cell_type": "markdown",
   "id": "873873a4",
   "metadata": {
    "papermill": {
     "duration": 0.005317,
     "end_time": "2024-09-26T04:13:14.861718",
     "exception": false,
     "start_time": "2024-09-26T04:13:14.856401",
     "status": "completed"
    },
    "tags": []
   },
   "source": [
    "# Create HTML index"
   ]
  },
  {
   "cell_type": "code",
   "execution_count": 10,
   "id": "cf665672",
   "metadata": {
    "execution": {
     "iopub.execute_input": "2024-09-26T04:13:14.873680Z",
     "iopub.status.busy": "2024-09-26T04:13:14.873213Z",
     "iopub.status.idle": "2024-09-26T04:13:14.880866Z",
     "shell.execute_reply": "2024-09-26T04:13:14.880319Z"
    },
    "papermill": {
     "duration": 0.014616,
     "end_time": "2024-09-26T04:13:14.881789",
     "exception": false,
     "start_time": "2024-09-26T04:13:14.867173",
     "status": "completed"
    },
    "tags": []
   },
   "outputs": [
    {
     "name": "stdout",
     "output_type": "stream",
     "text": [
      "197  publications files modified in the last 7 days.\n"
     ]
    }
   ],
   "source": [
    "from datetime import datetime, timedelta, timezone\n",
    "from glob import glob\n",
    "import os\n",
    "\n",
    "files = glob('_build/html/*.md')\n",
    "days = 7\n",
    "now = datetime.today()\n",
    "res = []\n",
    "for fk in files:\n",
    "    stat_result = os.stat(fk).st_ctime\n",
    "    modified = datetime.fromtimestamp(stat_result, tz=timezone.utc).replace(tzinfo=None)\n",
    "    delta = now.today() - modified\n",
    "    if delta <= timedelta(days=days):\n",
    "        res.append((delta.seconds, fk))\n",
    "res = [k[1] for k in reversed(sorted(res, key=lambda x:x[1]))]\n",
    "npub = len(res)\n",
    "print(len(res), f\" publications files modified in the last {days:d} days.\")\n",
    "# [ print('\\t', k) for k in res ];"
   ]
  },
  {
   "cell_type": "code",
   "execution_count": 11,
   "id": "015de740",
   "metadata": {
    "execution": {
     "iopub.execute_input": "2024-09-26T04:13:14.893537Z",
     "iopub.status.busy": "2024-09-26T04:13:14.893355Z",
     "iopub.status.idle": "2024-09-26T04:13:14.907277Z",
     "shell.execute_reply": "2024-09-26T04:13:14.906750Z"
    },
    "papermill": {
     "duration": 0.02083,
     "end_time": "2024-09-26T04:13:14.908159",
     "exception": false,
     "start_time": "2024-09-26T04:13:14.887329",
     "status": "completed"
    },
    "tags": []
   },
   "outputs": [
    {
     "name": "stdout",
     "output_type": "stream",
     "text": [
      "16  publications in the last 7 days.\n"
     ]
    }
   ],
   "source": [
    "import datetime\n",
    "from glob import glob\n",
    "\n",
    "def get_last_n_days(lst, days=1):\n",
    "    \"\"\" Get the documents from the last n days \"\"\"\n",
    "    sorted_lst = sorted(lst, key=lambda x: x[1], reverse=True)\n",
    "    for fname, date in sorted_lst:\n",
    "        if date >= str(datetime.date.today() - datetime.timedelta(days=days)):\n",
    "            yield fname\n",
    "\n",
    "def extract_appearance_dates(lst_file):\n",
    "    dates = []\n",
    "\n",
    "    def get_date(line):\n",
    "        return line\\\n",
    "            .split('Appeared on:')[-1]\\\n",
    "            .split('</mark>')[0].strip()\n",
    "\n",
    "    for fname in lst:\n",
    "        with open(fname, 'r') as f:\n",
    "            found_date = False\n",
    "            for line in f:\n",
    "                if not found_date:\n",
    "                    if \"Appeared on\" in line:\n",
    "                        found_date = True\n",
    "                        dates.append((fname, get_date(line)))\n",
    "                else:\n",
    "                    break\n",
    "    return dates\n",
    "\n",
    "from glob import glob\n",
    "lst = glob('_build/html/*md')\n",
    "days = 7\n",
    "dates = extract_appearance_dates(lst)\n",
    "res = list(get_last_n_days(dates, days))\n",
    "npub = len(res)\n",
    "print(len(res), f\" publications in the last {days:d} days.\")"
   ]
  },
  {
   "cell_type": "code",
   "execution_count": 12,
   "id": "52ca0208",
   "metadata": {
    "execution": {
     "iopub.execute_input": "2024-09-26T04:13:14.920399Z",
     "iopub.status.busy": "2024-09-26T04:13:14.920022Z",
     "iopub.status.idle": "2024-09-26T04:13:14.924853Z",
     "shell.execute_reply": "2024-09-26T04:13:14.924219Z"
    },
    "papermill": {
     "duration": 0.011985,
     "end_time": "2024-09-26T04:13:14.925911",
     "exception": false,
     "start_time": "2024-09-26T04:13:14.913926",
     "status": "completed"
    },
    "scrolled": false,
    "tags": []
   },
   "outputs": [],
   "source": [
    "def create_carousel(npub=4):\n",
    "    \"\"\" Generate the HTML code for a carousel with `npub` slides \"\"\"\n",
    "    carousel = [\"\"\"  <div class=\"carousel\" \"\"\",\n",
    "                \"\"\"       data-flickity='{ \"autoPlay\": 10000, \"adaptiveHeight\": true, \"resize\": true, \"wrapAround\": true, \"pauseAutoPlayOnHover\": true, \"groupCells\": 1 }' id=\"asyncTypeset\">\"\"\"\n",
    "                ]\n",
    "    \n",
    "    item_str = \"\"\"    <div class=\"carousel-cell\"> <div id=\"slide{k}\" class=\"md_view\">Content {k}</div> </div>\"\"\"\n",
    "    for k in range(1, npub + 1):\n",
    "        carousel.append(item_str.format(k=k))\n",
    "    carousel.append(\"  </div>\")\n",
    "    return '\\n'.join(carousel)\n",
    "\n",
    "def create_grid(npub=4):\n",
    "    \"\"\" Generate the HTML code for a flat grid with `npub` slides \"\"\"\n",
    "    grid = [\"\"\"  <div class=\"grid\"> \"\"\",\n",
    "                ]\n",
    "    \n",
    "    item_str = \"\"\"    <div class=\"grid-item\"> <div id=\"slide{k}\" class=\"md_view\">Content {k}</div> </div>\"\"\"\n",
    "    for k in range(1, npub + 1):\n",
    "        grid.append(item_str.format(k=k))\n",
    "    grid.append(\"  </div>\")\n",
    "    return '\\n'.join(grid)"
   ]
  },
  {
   "cell_type": "code",
   "execution_count": 13,
   "id": "a6eac5b6",
   "metadata": {
    "execution": {
     "iopub.execute_input": "2024-09-26T04:13:14.938055Z",
     "iopub.status.busy": "2024-09-26T04:13:14.937680Z",
     "iopub.status.idle": "2024-09-26T04:13:14.942642Z",
     "shell.execute_reply": "2024-09-26T04:13:14.942014Z"
    },
    "papermill": {
     "duration": 0.012077,
     "end_time": "2024-09-26T04:13:14.943630",
     "exception": false,
     "start_time": "2024-09-26T04:13:14.931553",
     "status": "completed"
    },
    "scrolled": false,
    "tags": []
   },
   "outputs": [],
   "source": [
    "carousel = create_carousel(npub)\n",
    "docs = ', '.join(['\"{0:s}\"'.format(k.split('/')[-1]) for k in res])\n",
    "slides = ', '.join([f'\"slide{k}\"' for k in range(1, npub + 1)])\n",
    "\n",
    "with open(\"daily_template.html\", \"r\") as tpl:\n",
    "    page = tpl.read()\n",
    "    page = page.replace(\"{%-- carousel:s --%}\", carousel)\\\n",
    "               .replace(\"{%-- suptitle:s --%}\",  \"7-day archives\" )\\\n",
    "               .replace(\"{%-- docs:s --%}\", docs)\\\n",
    "               .replace(\"{%-- slides:s --%}\", slides)\n",
    "    \n",
    "with open(\"_build/html/index_7days.html\", 'w') as fout:\n",
    "    fout.write(page)"
   ]
  },
  {
   "cell_type": "code",
   "execution_count": 14,
   "id": "adc1a1ec",
   "metadata": {
    "execution": {
     "iopub.execute_input": "2024-09-26T04:13:14.956248Z",
     "iopub.status.busy": "2024-09-26T04:13:14.955842Z",
     "iopub.status.idle": "2024-09-26T04:13:14.962099Z",
     "shell.execute_reply": "2024-09-26T04:13:14.961556Z"
    },
    "papermill": {
     "duration": 0.013548,
     "end_time": "2024-09-26T04:13:14.963095",
     "exception": false,
     "start_time": "2024-09-26T04:13:14.949547",
     "status": "completed"
    },
    "tags": []
   },
   "outputs": [
    {
     "name": "stdout",
     "output_type": "stream",
     "text": [
      "6  publications in the last day.\n"
     ]
    }
   ],
   "source": [
    "# redo for today\n",
    "days = 1\n",
    "res = list(get_last_n_days(dates, days))\n",
    "npub = len(res)\n",
    "print(len(res), f\" publications in the last day.\")\n",
    "\n",
    "carousel = create_carousel(npub)\n",
    "docs = ', '.join(['\"{0:s}\"'.format(k.split('/')[-1]) for k in res])\n",
    "slides = ', '.join([f'\"slide{k}\"' for k in range(1, npub + 1)])\n",
    "\n",
    "with open(\"daily_template.html\", \"r\") as tpl:\n",
    "    page = tpl.read()\n",
    "    page = page.replace(\"{%-- carousel:s --%}\", carousel)\\\n",
    "               .replace(\"{%-- suptitle:s --%}\",  \"Daily\" )\\\n",
    "               .replace(\"{%-- docs:s --%}\", docs)\\\n",
    "               .replace(\"{%-- slides:s --%}\", slides)\n",
    "    \n",
    "# print(carousel, docs, slides)\n",
    "# print(page)\n",
    "with open(\"_build/html/index_daily.html\", 'w') as fout:\n",
    "    fout.write(page)"
   ]
  },
  {
   "cell_type": "code",
   "execution_count": 15,
   "id": "00eece82",
   "metadata": {
    "execution": {
     "iopub.execute_input": "2024-09-26T04:13:14.975429Z",
     "iopub.status.busy": "2024-09-26T04:13:14.975156Z",
     "iopub.status.idle": "2024-09-26T04:13:14.981429Z",
     "shell.execute_reply": "2024-09-26T04:13:14.980785Z"
    },
    "papermill": {
     "duration": 0.013639,
     "end_time": "2024-09-26T04:13:14.982501",
     "exception": false,
     "start_time": "2024-09-26T04:13:14.968862",
     "status": "completed"
    },
    "scrolled": false,
    "tags": []
   },
   "outputs": [
    {
     "name": "stdout",
     "output_type": "stream",
     "text": [
      "6  6 publications selected.\n"
     ]
    }
   ],
   "source": [
    "# Create the flat grid of the last N papers (fixed number regardless of dates)\n",
    "from itertools import islice \n",
    "\n",
    "npub = 6\n",
    "res = [k[0] for k in (islice(reversed(sorted(dates, key=lambda x: x[1])), 6))]\n",
    "print(len(res), f\" {npub} publications selected.\")\n",
    "\n",
    "grid = create_grid(npub)\n",
    "docs = ', '.join(['\"{0:s}\"'.format(k.split('/')[-1]) for k in res])\n",
    "slides = ', '.join([f'\"slide{k}\"' for k in range(1, npub + 1)])\n",
    "\n",
    "with open(\"grid_template.html\", \"r\") as tpl:\n",
    "    page = tpl.read()\n",
    "    page = page.replace(\"{%-- grid-content:s --%}\", grid)\\\n",
    "               .replace(\"{%-- suptitle:s --%}\",  f\"Last {npub:,d} papers\" )\\\n",
    "               .replace(\"{%-- docs:s --%}\", docs)\\\n",
    "               .replace(\"{%-- slides:s --%}\", slides)\n",
    "    \n",
    "# print(grid, docs, slides)\n",
    "# print(page)\n",
    "with open(\"_build/html/index_npub_grid.html\", 'w') as fout:\n",
    "    fout.write(page)"
   ]
  }
 ],
 "metadata": {
  "kernelspec": {
   "display_name": "Python 3 (ipykernel)",
   "language": "python",
   "name": "python3"
  },
  "language_info": {
   "codemirror_mode": {
    "name": "ipython",
    "version": 3
   },
   "file_extension": ".py",
   "mimetype": "text/x-python",
   "name": "python",
   "nbconvert_exporter": "python",
   "pygments_lexer": "ipython3",
   "version": "3.9.20"
  },
  "papermill": {
   "default_parameters": {},
   "duration": 140.471966,
   "end_time": "2024-09-26T04:13:15.204125",
   "environment_variables": {},
   "exception": null,
   "input_path": "MPIA daily digest.ipynb",
   "output_path": "log.ipynb",
   "parameters": {},
   "start_time": "2024-09-26T04:10:54.732159",
   "version": "2.6.0"
  },
  "vscode": {
   "interpreter": {
    "hash": "aee8b7b246df8f9039afb4144a1f6fd8d2ca17a180786b69acc140d282b71a49"
   }
  },
  "widgets": {
   "application/vnd.jupyter.widget-state+json": {
    "state": {
     "20d6229c78454d669de2dcfba5d30d65": {
      "model_module": "@jupyter-widgets/base",
      "model_module_version": "2.0.0",
      "model_name": "LayoutModel",
      "state": {
       "_model_module": "@jupyter-widgets/base",
       "_model_module_version": "2.0.0",
       "_model_name": "LayoutModel",
       "_view_count": null,
       "_view_module": "@jupyter-widgets/base",
       "_view_module_version": "2.0.0",
       "_view_name": "LayoutView",
       "align_content": null,
       "align_items": null,
       "align_self": null,
       "border_bottom": null,
       "border_left": null,
       "border_right": null,
       "border_top": null,
       "bottom": null,
       "display": null,
       "flex": null,
       "flex_flow": null,
       "grid_area": null,
       "grid_auto_columns": null,
       "grid_auto_flow": null,
       "grid_auto_rows": null,
       "grid_column": null,
       "grid_gap": null,
       "grid_row": null,
       "grid_template_areas": null,
       "grid_template_columns": null,
       "grid_template_rows": null,
       "height": null,
       "justify_content": null,
       "justify_items": null,
       "left": null,
       "margin": null,
       "max_height": null,
       "max_width": null,
       "min_height": null,
       "min_width": null,
       "object_fit": null,
       "object_position": null,
       "order": null,
       "overflow": null,
       "padding": null,
       "right": null,
       "top": null,
       "visibility": null,
       "width": null
      }
     },
     "25077a3bac6e4e78bdf667dd4be9c09d": {
      "model_module": "@jupyter-widgets/controls",
      "model_module_version": "2.0.0",
      "model_name": "HBoxModel",
      "state": {
       "_dom_classes": [],
       "_model_module": "@jupyter-widgets/controls",
       "_model_module_version": "2.0.0",
       "_model_name": "HBoxModel",
       "_view_count": null,
       "_view_module": "@jupyter-widgets/controls",
       "_view_module_version": "2.0.0",
       "_view_name": "HBoxView",
       "box_style": "",
       "children": [
        "IPY_MODEL_528b40a516664b61a810ffb1848cef30",
        "IPY_MODEL_d2efa83377f14bf28927514689f8b117",
        "IPY_MODEL_4ac85de96e5a4c119c9b8806a4951747"
       ],
       "layout": "IPY_MODEL_f3ba09d3e95e4ee48df4850fc3f9a3d7",
       "tabbable": null,
       "tooltip": null
      }
     },
     "4ac85de96e5a4c119c9b8806a4951747": {
      "model_module": "@jupyter-widgets/controls",
      "model_module_version": "2.0.0",
      "model_name": "HTMLModel",
      "state": {
       "_dom_classes": [],
       "_model_module": "@jupyter-widgets/controls",
       "_model_module_version": "2.0.0",
       "_model_name": "HTMLModel",
       "_view_count": null,
       "_view_module": "@jupyter-widgets/controls",
       "_view_module_version": "2.0.0",
       "_view_name": "HTMLView",
       "description": "",
       "description_allow_html": false,
       "layout": "IPY_MODEL_20d6229c78454d669de2dcfba5d30d65",
       "placeholder": "​",
       "style": "IPY_MODEL_8ce165918afd48b0a15372033dd22c09",
       "tabbable": null,
       "tooltip": null,
       "value": " 5/5 [01:58&lt;00:00, 30.98s/it]"
      }
     },
     "528b40a516664b61a810ffb1848cef30": {
      "model_module": "@jupyter-widgets/controls",
      "model_module_version": "2.0.0",
      "model_name": "HTMLModel",
      "state": {
       "_dom_classes": [],
       "_model_module": "@jupyter-widgets/controls",
       "_model_module_version": "2.0.0",
       "_model_name": "HTMLModel",
       "_view_count": null,
       "_view_module": "@jupyter-widgets/controls",
       "_view_module_version": "2.0.0",
       "_view_name": "HTMLView",
       "description": "",
       "description_allow_html": false,
       "layout": "IPY_MODEL_d17e7120086a4dc59eec6d97d6e21f73",
       "placeholder": "​",
       "style": "IPY_MODEL_cd8e110f90aa4b88814202f796c2d2e5",
       "tabbable": null,
       "tooltip": null,
       "value": "100%"
      }
     },
     "84549d2c2a194f8f994aef1be154244c": {
      "model_module": "@jupyter-widgets/controls",
      "model_module_version": "2.0.0",
      "model_name": "ProgressStyleModel",
      "state": {
       "_model_module": "@jupyter-widgets/controls",
       "_model_module_version": "2.0.0",
       "_model_name": "ProgressStyleModel",
       "_view_count": null,
       "_view_module": "@jupyter-widgets/base",
       "_view_module_version": "2.0.0",
       "_view_name": "StyleView",
       "bar_color": null,
       "description_width": ""
      }
     },
     "8ce165918afd48b0a15372033dd22c09": {
      "model_module": "@jupyter-widgets/controls",
      "model_module_version": "2.0.0",
      "model_name": "HTMLStyleModel",
      "state": {
       "_model_module": "@jupyter-widgets/controls",
       "_model_module_version": "2.0.0",
       "_model_name": "HTMLStyleModel",
       "_view_count": null,
       "_view_module": "@jupyter-widgets/base",
       "_view_module_version": "2.0.0",
       "_view_name": "StyleView",
       "background": null,
       "description_width": "",
       "font_size": null,
       "text_color": null
      }
     },
     "cd8e110f90aa4b88814202f796c2d2e5": {
      "model_module": "@jupyter-widgets/controls",
      "model_module_version": "2.0.0",
      "model_name": "HTMLStyleModel",
      "state": {
       "_model_module": "@jupyter-widgets/controls",
       "_model_module_version": "2.0.0",
       "_model_name": "HTMLStyleModel",
       "_view_count": null,
       "_view_module": "@jupyter-widgets/base",
       "_view_module_version": "2.0.0",
       "_view_name": "StyleView",
       "background": null,
       "description_width": "",
       "font_size": null,
       "text_color": null
      }
     },
     "d17e7120086a4dc59eec6d97d6e21f73": {
      "model_module": "@jupyter-widgets/base",
      "model_module_version": "2.0.0",
      "model_name": "LayoutModel",
      "state": {
       "_model_module": "@jupyter-widgets/base",
       "_model_module_version": "2.0.0",
       "_model_name": "LayoutModel",
       "_view_count": null,
       "_view_module": "@jupyter-widgets/base",
       "_view_module_version": "2.0.0",
       "_view_name": "LayoutView",
       "align_content": null,
       "align_items": null,
       "align_self": null,
       "border_bottom": null,
       "border_left": null,
       "border_right": null,
       "border_top": null,
       "bottom": null,
       "display": null,
       "flex": null,
       "flex_flow": null,
       "grid_area": null,
       "grid_auto_columns": null,
       "grid_auto_flow": null,
       "grid_auto_rows": null,
       "grid_column": null,
       "grid_gap": null,
       "grid_row": null,
       "grid_template_areas": null,
       "grid_template_columns": null,
       "grid_template_rows": null,
       "height": null,
       "justify_content": null,
       "justify_items": null,
       "left": null,
       "margin": null,
       "max_height": null,
       "max_width": null,
       "min_height": null,
       "min_width": null,
       "object_fit": null,
       "object_position": null,
       "order": null,
       "overflow": null,
       "padding": null,
       "right": null,
       "top": null,
       "visibility": null,
       "width": null
      }
     },
     "d2efa83377f14bf28927514689f8b117": {
      "model_module": "@jupyter-widgets/controls",
      "model_module_version": "2.0.0",
      "model_name": "FloatProgressModel",
      "state": {
       "_dom_classes": [],
       "_model_module": "@jupyter-widgets/controls",
       "_model_module_version": "2.0.0",
       "_model_name": "FloatProgressModel",
       "_view_count": null,
       "_view_module": "@jupyter-widgets/controls",
       "_view_module_version": "2.0.0",
       "_view_name": "ProgressView",
       "bar_style": "success",
       "description": "",
       "description_allow_html": false,
       "layout": "IPY_MODEL_e6d13cc3f23044029e849fdba0bc81a9",
       "max": 5.0,
       "min": 0.0,
       "orientation": "horizontal",
       "style": "IPY_MODEL_84549d2c2a194f8f994aef1be154244c",
       "tabbable": null,
       "tooltip": null,
       "value": 5.0
      }
     },
     "e6d13cc3f23044029e849fdba0bc81a9": {
      "model_module": "@jupyter-widgets/base",
      "model_module_version": "2.0.0",
      "model_name": "LayoutModel",
      "state": {
       "_model_module": "@jupyter-widgets/base",
       "_model_module_version": "2.0.0",
       "_model_name": "LayoutModel",
       "_view_count": null,
       "_view_module": "@jupyter-widgets/base",
       "_view_module_version": "2.0.0",
       "_view_name": "LayoutView",
       "align_content": null,
       "align_items": null,
       "align_self": null,
       "border_bottom": null,
       "border_left": null,
       "border_right": null,
       "border_top": null,
       "bottom": null,
       "display": null,
       "flex": null,
       "flex_flow": null,
       "grid_area": null,
       "grid_auto_columns": null,
       "grid_auto_flow": null,
       "grid_auto_rows": null,
       "grid_column": null,
       "grid_gap": null,
       "grid_row": null,
       "grid_template_areas": null,
       "grid_template_columns": null,
       "grid_template_rows": null,
       "height": null,
       "justify_content": null,
       "justify_items": null,
       "left": null,
       "margin": null,
       "max_height": null,
       "max_width": null,
       "min_height": null,
       "min_width": null,
       "object_fit": null,
       "object_position": null,
       "order": null,
       "overflow": null,
       "padding": null,
       "right": null,
       "top": null,
       "visibility": null,
       "width": null
      }
     },
     "f3ba09d3e95e4ee48df4850fc3f9a3d7": {
      "model_module": "@jupyter-widgets/base",
      "model_module_version": "2.0.0",
      "model_name": "LayoutModel",
      "state": {
       "_model_module": "@jupyter-widgets/base",
       "_model_module_version": "2.0.0",
       "_model_name": "LayoutModel",
       "_view_count": null,
       "_view_module": "@jupyter-widgets/base",
       "_view_module_version": "2.0.0",
       "_view_name": "LayoutView",
       "align_content": null,
       "align_items": null,
       "align_self": null,
       "border_bottom": null,
       "border_left": null,
       "border_right": null,
       "border_top": null,
       "bottom": null,
       "display": null,
       "flex": null,
       "flex_flow": null,
       "grid_area": null,
       "grid_auto_columns": null,
       "grid_auto_flow": null,
       "grid_auto_rows": null,
       "grid_column": null,
       "grid_gap": null,
       "grid_row": null,
       "grid_template_areas": null,
       "grid_template_columns": null,
       "grid_template_rows": null,
       "height": null,
       "justify_content": null,
       "justify_items": null,
       "left": null,
       "margin": null,
       "max_height": null,
       "max_width": null,
       "min_height": null,
       "min_width": null,
       "object_fit": null,
       "object_position": null,
       "order": null,
       "overflow": null,
       "padding": null,
       "right": null,
       "top": null,
       "visibility": null,
       "width": null
      }
     }
    },
    "version_major": 2,
    "version_minor": 0
   }
  }
 },
 "nbformat": 4,
 "nbformat_minor": 5
}