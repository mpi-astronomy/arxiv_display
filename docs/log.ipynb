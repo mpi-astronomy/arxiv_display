{
 "cells": [
  {
   "cell_type": "markdown",
   "id": "92bcb855",
   "metadata": {
    "papermill": {
     "duration": 0.003787,
     "end_time": "2025-10-10T04:12:48.574957",
     "exception": false,
     "start_time": "2025-10-10T04:12:48.571170",
     "status": "completed"
    },
    "tags": []
   },
   "source": [
    "# MPIA Arxiv on Deck 2\n",
    "\n",
    "Contains the steps to produce the paper extractions."
   ]
  },
  {
   "cell_type": "code",
   "execution_count": 1,
   "id": "3a0d6e11",
   "metadata": {
    "execution": {
     "iopub.execute_input": "2025-10-10T04:12:48.581982Z",
     "iopub.status.busy": "2025-10-10T04:12:48.581698Z",
     "iopub.status.idle": "2025-10-10T04:12:48.796359Z",
     "shell.execute_reply": "2025-10-10T04:12:48.795772Z"
    },
    "papermill": {
     "duration": 0.21956,
     "end_time": "2025-10-10T04:12:48.797703",
     "exception": false,
     "start_time": "2025-10-10T04:12:48.578143",
     "status": "completed"
    },
    "tags": []
   },
   "outputs": [],
   "source": [
    "# Imports\n",
    "import os\n",
    "from IPython.display import Markdown, display\n",
    "from tqdm.notebook import tqdm\n",
    "import warnings\n",
    "from PIL import Image \n",
    "import re\n",
    "\n",
    "# requires arxiv_on_deck_2\n",
    "\n",
    "from arxiv_on_deck_2.arxiv2 import (get_new_papers, \n",
    "                                    get_paper_from_identifier,\n",
    "                                    retrieve_document_source, \n",
    "                                    get_markdown_badge)\n",
    "from arxiv_on_deck_2 import (latex,\n",
    "                             latex_bib,\n",
    "                             mpia,\n",
    "                             highlight_authors_in_list)\n",
    "\n",
    "# Sometimes images are really big\n",
    "Image.MAX_IMAGE_PIXELS = 1000000000 "
   ]
  },
  {
   "cell_type": "code",
   "execution_count": 2,
   "id": "22aa9d44",
   "metadata": {
    "execution": {
     "iopub.execute_input": "2025-10-10T04:12:48.805020Z",
     "iopub.status.busy": "2025-10-10T04:12:48.804698Z",
     "iopub.status.idle": "2025-10-10T04:12:48.812640Z",
     "shell.execute_reply": "2025-10-10T04:12:48.812083Z"
    },
    "papermill": {
     "duration": 0.012536,
     "end_time": "2025-10-10T04:12:48.813603",
     "exception": false,
     "start_time": "2025-10-10T04:12:48.801067",
     "status": "completed"
    },
    "tags": []
   },
   "outputs": [],
   "source": [
    "# Some useful definitions.\n",
    "\n",
    "class AffiliationWarning(UserWarning):\n",
    "    pass\n",
    "\n",
    "class AffiliationError(RuntimeError):\n",
    "    pass\n",
    "\n",
    "def validation(source: str):\n",
    "    \"\"\"Raises error paper during parsing of source file\n",
    "    \n",
    "    Allows checks before parsing TeX code.\n",
    "    \n",
    "    Raises AffiliationWarning\n",
    "    \"\"\"\n",
    "    check = mpia.affiliation_verifications(source, verbose=True)\n",
    "    if check is not True:\n",
    "        raise AffiliationError(\"mpia.affiliation_verifications: \" + check)\n",
    "\n",
    "        \n",
    "warnings.simplefilter('always', AffiliationWarning)\n",
    "\n",
    "\n",
    "def get_markdown_qrcode(paper_id: str):\n",
    "    \"\"\" Generate a qrcode to the arxiv page using qrserver.com\n",
    "    \n",
    "    :param paper: Arxiv paper\n",
    "    :returns: markdown text\n",
    "    \"\"\"\n",
    "    url = r\"https://api.qrserver.com/v1/create-qr-code/?size=100x100&data=\"\n",
    "    txt = f\"\"\"<img src={url}\"https://arxiv.org/abs/{paper_id}\">\"\"\"\n",
    "    txt = '<div id=\"qrcode\">' + txt + '</div>'\n",
    "    return txt\n",
    "\n",
    "\n",
    "def clean_non_western_encoded_characters_commands(text: str) -> str:\n",
    "    \"\"\" Remove non-western encoded characters from a string\n",
    "    List may need to grow.\n",
    "    \n",
    "    :param text: the text to clean\n",
    "    :return: the cleaned text\n",
    "    \"\"\"\n",
    "    text = re.sub(r\"(\\\\begin{CJK}{UTF8}{gbsn})(.*?)(\\\\end{CJK})\", r\"\\2\", text)\n",
    "    return text\n",
    "\n",
    "\n",
    "def get_initials(name: str) -> str:\n",
    "    \"\"\" Get the short name, e.g., A.-B. FamName\n",
    "    :param name: full name\n",
    "    :returns: initials\n",
    "    \"\"\"\n",
    "    initials = []\n",
    "    # account for non western names often in ()\n",
    "    if '(' in name:\n",
    "        name = clean_non_western_encoded_characters_commands(name)\n",
    "        suffix = re.findall(r\"\\((.*?)\\)\", name)[0]\n",
    "        name = name.replace(f\"({suffix})\", '')\n",
    "    else:\n",
    "        suffix = ''\n",
    "    split = name.split()\n",
    "    for token in split[:-1]:\n",
    "        if '-' in token:\n",
    "            current = '-'.join([k[0] + '.' for k in token.split('-')])\n",
    "        else:\n",
    "            current = token[0] + '.'\n",
    "        initials.append(current)\n",
    "    initials.append(split[-1].strip())\n",
    "    if suffix:\n",
    "        initials.append(f\"({suffix})\")\n",
    "    return ' '.join(initials)"
   ]
  },
  {
   "cell_type": "markdown",
   "id": "14bd6310",
   "metadata": {
    "papermill": {
     "duration": 0.002893,
     "end_time": "2025-10-10T04:12:48.819462",
     "exception": false,
     "start_time": "2025-10-10T04:12:48.816569",
     "status": "completed"
    },
    "tags": []
   },
   "source": [
    "## get list of arxiv paper candidates\n",
    "\n",
    "We use the MPIA mitarbeiter list webpage from mpia.de to get author names\n",
    "We then get all new papers from Arxiv and match authors"
   ]
  },
  {
   "cell_type": "code",
   "execution_count": 3,
   "id": "7ea813a8",
   "metadata": {
    "execution": {
     "iopub.execute_input": "2025-10-10T04:12:48.826044Z",
     "iopub.status.busy": "2025-10-10T04:12:48.825863Z",
     "iopub.status.idle": "2025-10-10T04:13:09.384337Z",
     "shell.execute_reply": "2025-10-10T04:13:09.383613Z"
    },
    "papermill": {
     "duration": 20.563192,
     "end_time": "2025-10-10T04:13:09.385607",
     "exception": false,
     "start_time": "2025-10-10T04:12:48.822415",
     "status": "completed"
    },
    "tags": []
   },
   "outputs": [],
   "source": [
    "# deal with the author list and edge cases of people that cannot be consistent on their name  \n",
    "\n",
    "def filter_non_scientists(name: str) -> bool:\n",
    "    \"\"\" Loose filter on expected authorships\n",
    "\n",
    "    removing IT, administration, technical staff\n",
    "    :param name: name\n",
    "    :returns: False if name is not a scientist\n",
    "    \"\"\"\n",
    "    remove_list = ['Licht', 'Binroth', 'Witzel', 'Jordan',\n",
    "                   'Zähringer', 'Scheerer', 'Hoffmann', 'Düe',\n",
    "                   'Hellmich', 'Enkler-Scharpegge', 'Witte-Nguy',\n",
    "                   'Dehen', 'Beckmann', 'Jager', 'Jäger'\n",
    "                  ]\n",
    "\n",
    "    for k in remove_list:\n",
    "        if k in name:\n",
    "            return False\n",
    "    return True\n",
    "\n",
    "def add_author_to_list(author_list: list) -> list:\n",
    "    \"\"\" Add author to list if not already in list\n",
    "    \n",
    "    :param author: author name\n",
    "    :param author_list: list of authors\n",
    "    :returns: updated list of authors\n",
    "    \"\"\"\n",
    "    add_list = ['T. Henning']\n",
    "\n",
    "    for author in add_list:\n",
    "        if author not in author_list:\n",
    "            author_list.append(author)\n",
    "    return author_list\n",
    "\n",
    "# get list from MPIA website\n",
    "# filter for non-scientists (mpia.get_mpia_mitarbeiter_list() does some filtering)\n",
    "mpia_authors = [k[1] for k in mpia.get_mpia_mitarbeiter_list() if filter_non_scientists(k[1])]\n",
    "# add some missing author because of inconsistencies in their MPIA name and author name on papers\n",
    "mpia_authors = add_author_to_list(mpia_authors)"
   ]
  },
  {
   "cell_type": "code",
   "execution_count": 4,
   "id": "2645e73a",
   "metadata": {
    "execution": {
     "iopub.execute_input": "2025-10-10T04:13:09.392777Z",
     "iopub.status.busy": "2025-10-10T04:13:09.392590Z",
     "iopub.status.idle": "2025-10-10T04:13:10.365107Z",
     "shell.execute_reply": "2025-10-10T04:13:10.364474Z"
    },
    "papermill": {
     "duration": 0.97729,
     "end_time": "2025-10-10T04:13:10.366238",
     "exception": false,
     "start_time": "2025-10-10T04:13:09.388948",
     "status": "completed"
    },
    "tags": []
   },
   "outputs": [
    {
     "name": "stdout",
     "output_type": "stream",
     "text": [
      "K. Kreckel  ->  K. Kreckel  |  ['K. Kreckel']\n",
      "J. Neumann  ->  J. Neumann  |  ['J. Neumann']\n",
      "J. Li  ->  J. Li  |  ['J. Li']\n",
      "X. Zhang  ->  X. Zhang  |  ['X. Zhang']\n",
      "J. Li  ->  J. Li  |  ['J. Li']\n"
     ]
    },
    {
     "name": "stdout",
     "output_type": "stream",
     "text": [
      "Arxiv has 77 new papers today\n",
      "          3 with possible author matches\n"
     ]
    }
   ],
   "source": [
    "new_papers = get_new_papers()\n",
    "# add manual references\n",
    "add_paper_refs = []\n",
    "new_papers.extend([get_paper_from_identifier(k) for k in add_paper_refs])\n",
    "\n",
    "def robust_call(fn, value, *args, **kwargs):\n",
    "    try:\n",
    "        return fn(value, *args, **kwargs)\n",
    "    except Exception:\n",
    "        return value\n",
    "\n",
    "candidates = []\n",
    "for paperk in new_papers:\n",
    "    # Check author list with their initials\n",
    "    normed_author_list = [robust_call(mpia.get_initials, k) for k in paperk['authors']]\n",
    "    hl_authors = highlight_authors_in_list(normed_author_list, mpia_authors, verbose=True)\n",
    "    matches = [(hl, orig) for hl, orig in zip(hl_authors, paperk['authors']) if 'mark' in hl]\n",
    "    paperk['authors'] = hl_authors\n",
    "    if matches:\n",
    "        # only select paper if an author matched our list\n",
    "        candidates.append(paperk)\n",
    "print(\"\"\"Arxiv has {0:,d} new papers today\"\"\".format(len(new_papers)))        \n",
    "print(\"\"\"          {0:,d} with possible author matches\"\"\".format(len(candidates)))"
   ]
  },
  {
   "cell_type": "markdown",
   "id": "3543b34a",
   "metadata": {
    "papermill": {
     "duration": 0.003165,
     "end_time": "2025-10-10T04:13:10.373022",
     "exception": false,
     "start_time": "2025-10-10T04:13:10.369857",
     "status": "completed"
    },
    "tags": []
   },
   "source": [
    "# Parse sources and generate relevant outputs\n",
    "\n",
    "From the candidates, we do the following steps:\n",
    "* get their tarball from ArXiv (and extract data)\n",
    "* find the main .tex file: find one with \\documentclass{...} (sometimes it's non trivial)\n",
    "* Check affiliations with :func:`validation`, which uses :func:`mpia.affiliation_verifications`\n",
    "* If passing the affiliations: we parse the .tex source\n",
    "   * inject sub-documents into the main (flatten the main document)\n",
    "   * parse structure, extract information (title, abstract, authors, figures...)\n",
    "   * handles `\\graphicspath` if provided\n",
    "* Generate the .md document."
   ]
  },
  {
   "cell_type": "code",
   "execution_count": 5,
   "id": "9576b79e",
   "metadata": {
    "execution": {
     "iopub.execute_input": "2025-10-10T04:13:10.380017Z",
     "iopub.status.busy": "2025-10-10T04:13:10.379790Z",
     "iopub.status.idle": "2025-10-10T04:13:34.841723Z",
     "shell.execute_reply": "2025-10-10T04:13:34.841050Z"
    },
    "papermill": {
     "duration": 24.466704,
     "end_time": "2025-10-10T04:13:34.842842",
     "exception": false,
     "start_time": "2025-10-10T04:13:10.376138",
     "status": "completed"
    },
    "scrolled": false,
    "tags": []
   },
   "outputs": [
    {
     "data": {
      "application/vnd.jupyter.widget-view+json": {
       "model_id": "d872a966eba948608d7dfb2f88cba1db",
       "version_major": 2,
       "version_minor": 0
      },
      "text/plain": [
       "  0%|          | 0/3 [00:00<?, ?it/s]"
      ]
     },
     "metadata": {},
     "output_type": "display_data"
    },
    {
     "name": "stdout",
     "output_type": "stream",
     "text": [
      "Retrieving document from  https://arxiv.org/e-print/2510.07395\n"
     ]
    },
    {
     "name": "stdout",
     "output_type": "stream",
     "text": [
      "extracting tarball to tmp_2510.07395..."
     ]
    },
    {
     "name": "stdout",
     "output_type": "stream",
     "text": [
      " done.\n",
      "Retrieving document from  https://arxiv.org/e-print/2510.07407\n"
     ]
    },
    {
     "name": "stdout",
     "output_type": "stream",
     "text": [
      "extracting tarball to tmp_2510.07407..."
     ]
    },
    {
     "name": "stdout",
     "output_type": "stream",
     "text": [
      " done.\n"
     ]
    },
    {
     "name": "stdout",
     "output_type": "stream",
     "text": [
      "Found 99 bibliographic references in tmp_2510.07407/Le_Conte.bbl.\n",
      "Issues with the citations\n",
      "syntax error in line 662: '=' expected\n",
      "Retrieving document from  https://arxiv.org/e-print/2510.07734\n"
     ]
    },
    {
     "name": "stdout",
     "output_type": "stream",
     "text": [
      "extracting tarball to tmp_2510.07734..."
     ]
    },
    {
     "name": "stdout",
     "output_type": "stream",
     "text": [
      " done.\n"
     ]
    }
   ],
   "source": [
    "documents = []\n",
    "failed = []\n",
    "for paper in tqdm(candidates):\n",
    "    # debug crap\n",
    "    paper['identifier'] = paper['identifier'].lower().replace('arxiv:', '').replace(r'\\n', '').strip()\n",
    "    paper_id = paper['identifier']\n",
    "    \n",
    "    folder = f'tmp_{paper_id}'\n",
    "\n",
    "    try:\n",
    "        if not os.path.isdir(folder):\n",
    "            folder = retrieve_document_source(f\"{paper_id}\", f'tmp_{paper_id}')\n",
    "        \n",
    "        try:\n",
    "            doc = latex.LatexDocument(folder, validation=validation)    \n",
    "        except AffiliationError as affilerror:\n",
    "            msg = f\"ArXiv:{paper_id:s} is not an MPIA paper... \" + str(affilerror)\n",
    "            failed.append((paper, \"affiliation error: \" + str(affilerror) ))\n",
    "            continue\n",
    "        \n",
    "        # Hack because sometimes author parsing does not work well\n",
    "        if (len(doc.authors) != len(paper['authors'])):\n",
    "            doc._authors = paper['authors']\n",
    "        else:\n",
    "            # highlight authors (FIXME: doc.highlight_authors)\n",
    "            # done on arxiv paper already\n",
    "            doc._authors = highlight_authors_in_list(\n",
    "                [get_initials(k) for k in doc.authors], \n",
    "                mpia_authors, verbose=True)\n",
    "        if (doc.abstract) in (None, ''):\n",
    "            doc._abstract = paper['abstract']\n",
    "            \n",
    "        doc.comment = (get_markdown_badge(paper_id) + \n",
    "                       \"<mark>Appeared on: \" + paper['date'] + \"</mark> - \")\n",
    "        if paper['comments']:\n",
    "            doc.comment += \" _\" + paper['comments'] + \"_\"\n",
    "        \n",
    "        full_md = doc.generate_markdown_text()\n",
    "        \n",
    "        full_md += get_markdown_qrcode(paper_id)\n",
    "        \n",
    "        # replace citations\n",
    "        try:\n",
    "            bibdata = latex_bib.LatexBib.from_doc(doc)\n",
    "            full_md = latex_bib.replace_citations(full_md, bibdata)\n",
    "        except Exception as e:\n",
    "            print(\"Issues with the citations\")\n",
    "            print(e)\n",
    "        \n",
    "        documents.append((paper_id, full_md))\n",
    "    except Exception as e:\n",
    "        warnings.warn(latex.LatexWarning(f\"{paper_id:s} did not run properly\\n\" +\n",
    "                                         str(e)\n",
    "                                        ))\n",
    "        failed.append((paper, \"latex error \" + str(e)))"
   ]
  },
  {
   "cell_type": "markdown",
   "id": "2505a25c",
   "metadata": {
    "papermill": {
     "duration": 0.003502,
     "end_time": "2025-10-10T04:13:34.850337",
     "exception": false,
     "start_time": "2025-10-10T04:13:34.846835",
     "status": "completed"
    },
    "tags": []
   },
   "source": [
    "### Export the logs\n",
    "\n",
    "Throughout, we also keep track of the logs per paper. see `logs-{today date}.md` "
   ]
  },
  {
   "cell_type": "code",
   "execution_count": 6,
   "id": "d733828a",
   "metadata": {
    "execution": {
     "iopub.execute_input": "2025-10-10T04:13:34.858208Z",
     "iopub.status.busy": "2025-10-10T04:13:34.858014Z",
     "iopub.status.idle": "2025-10-10T04:13:34.871009Z",
     "shell.execute_reply": "2025-10-10T04:13:34.870445Z"
    },
    "papermill": {
     "duration": 0.018092,
     "end_time": "2025-10-10T04:13:34.871951",
     "exception": false,
     "start_time": "2025-10-10T04:13:34.853859",
     "status": "completed"
    },
    "scrolled": false,
    "tags": []
   },
   "outputs": [
    {
     "data": {
      "text/markdown": [
       "## Successful papers"
      ],
      "text/plain": [
       "<IPython.core.display.Markdown object>"
      ]
     },
     "metadata": {},
     "output_type": "display_data"
    },
    {
     "data": {
      "text/markdown": [
       "\n",
       "|||\n",
       "|---:|:---|\n",
       "| [![arXiv](https://img.shields.io/badge/arXiv-2510.07407-b31b1b.svg)](https://arxiv.org/abs/2510.07407) | **The evolution of the bar fraction and bar lengths in the last 12 billion years**  |\n",
       "|| Z. A. L. Conte, et al. -- incl., <mark>J. Neumann</mark> |\n",
       "|*Appeared on*| *2025-10-10*|\n",
       "|*Comments*| *18 pages, 12 figures. Submitted to MNRAS*|\n",
       "|**Abstract**|            We investigate the evolution of the bar fraction and length using an extended JWST NIRCam imaging dataset of galaxies in the $1 \\leq z \\leq 4$ redshift range. We assess the wavelength dependence of the bar fraction in disc galaxies and bar length evolution by selecting a nearly mass-complete CEERS disc sample and performing independent visual classifications on the short (F200W) and long (F356W+F444W) wavelength channels. A similar bar fraction is observed for both samples, and combined we find a declining trend in the bar fraction: $0.16^{+0.03}_{-0.03}$ at $1 \\leq z < 2$; $0.08^{+0.02}_{-0.01}$ at $2 \\leq z < 3$; $0.07^{+0.03}_{-0.01}$ at $3 \\leq z \\leq 4$. This corroborates our previous work and other recent studies, suggesting that dynamically cold and rotationally supported massive discs are present at Cosmic Noon. No evolution in the F356W+F444W bar length is measured from $z = 4$ to $z = 1$, which has a mean of 3.6\\,kpc, but a slight increase of about 1\\,kpc towards $z = 1$ is measured in the F200W sample, which has a mean of 2.9\\,kpc. The bar sample is shorter in the short-wavelength channel due to the better physical spatial resolution; however, we also suggest that dust obscuration plays a role. We find that the correlation between bar length and galaxy mass for massive galaxies observed at $z < 1$ is not seen at $z > 1$. By adding samples of barred galaxies at $z<1$, we show that there is a modest increase in the bar length ($\\approx 2$\\,kpc) towards $z=0$, but bars longer than $\\approx8$\\,kpc are only found at $z<1$. We show that bars and discs grow in tandem, for the bar length normalised by disc size does not evolve from $z = 4$ to $z = 0$. Not only is a significant population of bars forming beyond $z = 1$, but our results also show that some of these bars are as long and strong as the average bar at $z\\approx0$.         |"
      ],
      "text/plain": [
       "[2510.07407] The evolution of the bar fraction and bar lengths in the last 12 billion years\n",
       "\tZ. A. L. Conte, et al. -- incl., <mark>J. Neumann</mark>"
      ]
     },
     "metadata": {},
     "output_type": "display_data"
    },
    {
     "data": {
      "text/markdown": [
       "## Failed papers"
      ],
      "text/plain": [
       "<IPython.core.display.Markdown object>"
      ]
     },
     "metadata": {},
     "output_type": "display_data"
    },
    {
     "data": {
      "text/markdown": [
       "\n",
       "|||\n",
       "|---:|:---|\n",
       "| [![arXiv](https://img.shields.io/badge/arXiv-2510.07395-b31b1b.svg)](https://arxiv.org/abs/2510.07395) | **Unified Spectrospatial Forward Models: Spatially Continuous Maps of Weak Emission Lines in the Rosette Nebula with SDSS-V LVM**  |\n",
       "|| T. Hilder, et al. -- incl., <mark>K. Kreckel</mark> |\n",
       "|*Appeared on*| *2025-10-10*|\n",
       "|*Comments*| *31 pages, 11 figures. Submitted to ApJ*|\n",
       "|**Abstract**|            Analyses of IFU data are typically performed on a per-spaxel basis, with each spectrum modelled independently. For low signal-to-noise (S/N) features such as weak emission lines, estimating properties is difficult and imprecise. Arbitrary binning schemes boost S/N at the cost of resolution, and risk introducing biases. We present a general forward-modelling approach that assumes spectra close on the sky are more similar than distant ones, and so can be modelled jointly. These \"spectrospatial\" models exploit spatial correlation to provide robust inferences, while simultaneously providing continuous predictions of line properties like strength and kinematics across the sky. Instrumental and calibration systematics are straightforward to include and infer. The model provides a natural trade-off between spatial resolution and S/N in a data-driven way. We apply this to Sloan Digital Sky Survey V (SDSS-V) Local Volume Mapper (LVM) data of the Rosette Nebula, producing continuous maps of fluxes and kinematics for Balmer, nebular, and auroral lines, as well as weak C II and N II recombination lines, demonstrating the approach across three orders of magnitude in S/N, including in the very low-S/N regime. The method recovers identical morphologies across different lines tracing similar ionisation volumes, at varying resolutions set by the S/N. We additionally provide a general framework for building and fitting such models in JAX, suitable for many applications. The implementation is fast and memory efficient, scales to large data volumes as in LVM, and can be deployed on hardware accelerators.         |\n",
       "|<p style=\"color:green\"> **ERROR** </p>| <p style=\"color:green\">affiliation error: mpia.affiliation_verifications: '69117' keyword not found.</p> |"
      ],
      "text/plain": [
       "<IPython.core.display.Markdown object>"
      ]
     },
     "metadata": {},
     "output_type": "display_data"
    },
    {
     "data": {
      "text/markdown": [
       "\n",
       "|||\n",
       "|---:|:---|\n",
       "| [![arXiv](https://img.shields.io/badge/arXiv-2510.07734-b31b1b.svg)](https://arxiv.org/abs/2510.07734) | **A New Algol-type Binary with an Accretion disk**  |\n",
       "|| T. He, et al. -- incl., <mark>J. Li</mark>, <mark>X. Zhang</mark>, <mark>J. Li</mark> |\n",
       "|*Appeared on*| *2025-10-10*|\n",
       "|*Comments*| **|\n",
       "|**Abstract**|            We present a comprehensive photometric and spectroscopic analysis of the Algol-type binary \\textit{Gaia} DR3 1892576067672499328. We identified the system as a spectroscopic binary based on medium-resolution LAMOST spectra. Combined with \\textit{TESS} photometry, we determine an orbital period of \\( P = 2.47757 (1) \\) days, a low mass ratio of \\( q = 0.098 \\pm 0.002 \\), and an orbital inclination of \\( i = 46.934^{+2.613}_{-1.11} \\) degrees. The orbit is consistent with being circular (\\( e = 0 \\)). The binary comprises a \\( M_1 = 1.817 ^{ +0.106}_{-0.202} \\,M_\\odot \\), \\( R_1 = 1.265^{+0.121}_{-0.160}\\,R_\\odot \\) A-type primary and a Roche-lobe-filling secondary of \\( M_2 = 0.179 ^{ +0.011}_{-0.020} \\,M_\\odot \\), \\( R_2 = 1.994 ^{ +0.041}_{-0.077} \\,R_\\odot \\). The double-peak H$\\alpha$ emission line indicates the possible existence of a Keplerian accretion disc. We established a simple standard accretion disc model and modeled the geometric and dynamical properties of the accretion disc. The obtained outer disc radius $R_{\\mathrm{out}} \\approx 3.36 \\pm 0.43\\,R_\\odot$ is consistent with the values inferred from the emission velocity of H$\\alpha$. Systemic velocity variations observed over time suggest the possible presence of a tertiary companion, with a minimum mass of $M_3 > 0.369 \\pm 0.024 \\,M_\\odot$. Given the low mass ratio, the secondary may evolve into a proto-helium white dwarf, forming an \\text{EL CVn}-type system in the future. This system offers valuable insights into accretion dynamics and the formation of binaries.         |\n",
       "|<p style=\"color:green\"> **ERROR** </p>| <p style=\"color:green\">affiliation error: mpia.affiliation_verifications: 'Heidelberg' keyword not found.</p> |"
      ],
      "text/plain": [
       "<IPython.core.display.Markdown object>"
      ]
     },
     "metadata": {},
     "output_type": "display_data"
    }
   ],
   "source": [
    "import datetime\n",
    "today = str(datetime.date.today())\n",
    "logfile = f\"_build/html/logs/log-{today}.md\"\n",
    "\n",
    "\n",
    "with open(logfile, 'w') as logs:\n",
    "    # Success\n",
    "    logs.write(f'# Arxiv on Deck 2: Logs - {today}\\n\\n')\n",
    "    logs.write(\"\"\"* Arxiv had {0:,d} new papers\\n\"\"\".format(len(new_papers)))\n",
    "    logs.write(\"\"\"    * {0:,d} with possible author matches\\n\\n\"\"\".format(len(candidates)))\n",
    "    logs.write(\"## Sucessful papers\\n\\n\")\n",
    "    display(Markdown(\"## Successful papers\"))\n",
    "    success = [k[0] for k in documents]\n",
    "    for candid in candidates:\n",
    "        if candid['identifier'].split(':')[-1] in success:\n",
    "            display(candid)\n",
    "            logs.write(candid.generate_markdown_text() + '\\n\\n')\n",
    "\n",
    "    ## failed\n",
    "    logs.write(\"## Failed papers\\n\\n\")\n",
    "    display(Markdown(\"## Failed papers\"))\n",
    "    failed = sorted(failed, key=lambda x: x[1])\n",
    "    current_reason = \"\"\n",
    "    for paper, reason in failed:\n",
    "        if 'affiliation' in reason:\n",
    "            color = 'green'\n",
    "        else:\n",
    "            color = 'red'\n",
    "        data = Markdown(\n",
    "                paper.generate_markdown_text() + \n",
    "                f'\\n|<p style=\"color:{color:s}\"> **ERROR** </p>| <p style=\"color:{color:s}\">{reason:s}</p> |'\n",
    "               )\n",
    "        if reason != current_reason:\n",
    "            logs.write(f'### {reason:s} \\n\\n')\n",
    "            current_reason = reason\n",
    "        logs.write(data.data + '\\n\\n')\n",
    "        \n",
    "        # only display here the important errors (all in logs)\n",
    "        # if color in ('red',):\n",
    "        display(data)"
   ]
  },
  {
   "cell_type": "markdown",
   "id": "472d20ee",
   "metadata": {
    "papermill": {
     "duration": 0.00398,
     "end_time": "2025-10-10T04:13:34.880033",
     "exception": false,
     "start_time": "2025-10-10T04:13:34.876053",
     "status": "completed"
    },
    "tags": []
   },
   "source": [
    "## Export documents\n",
    "\n",
    "We now write the .md files and export relevant images"
   ]
  },
  {
   "cell_type": "code",
   "execution_count": 7,
   "id": "d426aed9",
   "metadata": {
    "execution": {
     "iopub.execute_input": "2025-10-10T04:13:34.889424Z",
     "iopub.status.busy": "2025-10-10T04:13:34.889247Z",
     "iopub.status.idle": "2025-10-10T04:13:34.895858Z",
     "shell.execute_reply": "2025-10-10T04:13:34.895289Z"
    },
    "papermill": {
     "duration": 0.012292,
     "end_time": "2025-10-10T04:13:34.896860",
     "exception": false,
     "start_time": "2025-10-10T04:13:34.884568",
     "status": "completed"
    },
    "tags": []
   },
   "outputs": [],
   "source": [
    "def export_markdown_summary(md: str, md_fname:str, directory: str):\n",
    "    \"\"\"Export MD document and associated relevant images\"\"\"\n",
    "    import os\n",
    "    import shutil\n",
    "    import re\n",
    "\n",
    "    if (os.path.exists(directory) and not os.path.isdir(directory)):\n",
    "        raise RuntimeError(f\"a non-directory file exists with name {directory:s}\")\n",
    "\n",
    "    if (not os.path.exists(directory)):\n",
    "        print(f\"creating directory {directory:s}\")\n",
    "        os.mkdir(directory)\n",
    "\n",
    "    fig_fnames = (re.compile(r'\\[Fig.*\\]\\((.*)\\)').findall(md) + \n",
    "                  re.compile(r'\\<img src=\"([^>\\s]*)\"[^>]*/>').findall(md))\n",
    "    print(\"found figures\", fig_fnames)\n",
    "    for fname in fig_fnames:\n",
    "        if 'http' in fname:\n",
    "            # No need to copy online figures\n",
    "            continue\n",
    "        if not os.path.exists(fname):\n",
    "            print(\"file not found\", fname)\n",
    "            continue\n",
    "        print(\"copying \", fname, \"to\", directory)\n",
    "        destdir = os.path.join(directory, os.path.dirname(fname))\n",
    "        destfname = os.path.join(destdir, os.path.basename(fname))\n",
    "        try:\n",
    "            os.makedirs(destdir)\n",
    "        except FileExistsError:\n",
    "            pass\n",
    "        shutil.copy(fname, destfname)\n",
    "    with open(os.path.join(directory, md_fname), 'w') as fout:\n",
    "        fout.write(md)\n",
    "    print(\"exported in \", os.path.join(directory, md_fname))\n",
    "    [print(\"    + \" + os.path.join(directory,fk)) for fk in fig_fnames]"
   ]
  },
  {
   "cell_type": "code",
   "execution_count": 8,
   "id": "014d04a4",
   "metadata": {
    "execution": {
     "iopub.execute_input": "2025-10-10T04:13:34.905785Z",
     "iopub.status.busy": "2025-10-10T04:13:34.905575Z",
     "iopub.status.idle": "2025-10-10T04:13:34.911555Z",
     "shell.execute_reply": "2025-10-10T04:13:34.911009Z"
    },
    "papermill": {
     "duration": 0.011597,
     "end_time": "2025-10-10T04:13:34.912549",
     "exception": false,
     "start_time": "2025-10-10T04:13:34.900952",
     "status": "completed"
    },
    "tags": []
   },
   "outputs": [
    {
     "name": "stdout",
     "output_type": "stream",
     "text": [
      "found figures ['tmp_2510.07407/./Figures/R90_Lb_norm.jpg', 'tmp_2510.07407/./Figures/Length_mass.png', 'tmp_2510.07407/./Figures/bar_frac.jpg']\n",
      "copying  tmp_2510.07407/./Figures/R90_Lb_norm.jpg to _build/html/\n",
      "copying  tmp_2510.07407/./Figures/Length_mass.png to _build/html/\n",
      "copying  tmp_2510.07407/./Figures/bar_frac.jpg to _build/html/\n",
      "exported in  _build/html/2510.07407.md\n",
      "    + _build/html/tmp_2510.07407/./Figures/R90_Lb_norm.jpg\n",
      "    + _build/html/tmp_2510.07407/./Figures/Length_mass.png\n",
      "    + _build/html/tmp_2510.07407/./Figures/bar_frac.jpg\n"
     ]
    }
   ],
   "source": [
    "for paper_id, md in documents:\n",
    "    export_markdown_summary(md, f\"{paper_id:s}.md\", '_build/html/')"
   ]
  },
  {
   "cell_type": "markdown",
   "id": "f087a0a7",
   "metadata": {
    "papermill": {
     "duration": 0.004208,
     "end_time": "2025-10-10T04:13:34.920971",
     "exception": false,
     "start_time": "2025-10-10T04:13:34.916763",
     "status": "completed"
    },
    "tags": []
   },
   "source": [
    "## Display the papers\n",
    "\n",
    "Not necessary but allows for a quick check."
   ]
  },
  {
   "cell_type": "code",
   "execution_count": 9,
   "id": "fd25f625",
   "metadata": {
    "execution": {
     "iopub.execute_input": "2025-10-10T04:13:34.930034Z",
     "iopub.status.busy": "2025-10-10T04:13:34.929780Z",
     "iopub.status.idle": "2025-10-10T04:13:34.934175Z",
     "shell.execute_reply": "2025-10-10T04:13:34.933548Z"
    },
    "papermill": {
     "duration": 0.01008,
     "end_time": "2025-10-10T04:13:34.935189",
     "exception": false,
     "start_time": "2025-10-10T04:13:34.925109",
     "status": "completed"
    },
    "scrolled": false,
    "tags": []
   },
   "outputs": [
    {
     "data": {
      "text/markdown": [
       "<div class=\"macros\" style=\"visibility:hidden;\">\n",
       "$\\newcommand{\\ensuremath}{}$\n",
       "$\\newcommand{\\xspace}{}$\n",
       "$\\newcommand{\\object}[1]{\\texttt{#1}}$\n",
       "$\\newcommand{\\farcs}{{.}''}$\n",
       "$\\newcommand{\\farcm}{{.}'}$\n",
       "$\\newcommand{\\arcsec}{''}$\n",
       "$\\newcommand{\\arcmin}{'}$\n",
       "$\\newcommand{\\ion}[2]{#1#2}$\n",
       "$\\newcommand{\\textsc}[1]{\\textrm{#1}}$\n",
       "$\\newcommand{\\hl}[1]{\\textrm{#1}}$\n",
       "$\\newcommand{\\footnote}[1]{}$\n",
       "$\\newcommand{\\arraystretch}{1.5}$\n",
       "$\\newcommand{\\thebibliography}{\\DeclareRobustCommand{\\VAN}[3]{##3}\\VANthebibliography}$</div>\n",
       "\n",
       "\n",
       "\n",
       "<div id=\"title\">\n",
       "\n",
       "# The evolution of the bar fraction and bar lengths in the last 12 billion years\n",
       "\n",
       "</div>\n",
       "<div id=\"comments\">\n",
       "\n",
       "[![arXiv](https://img.shields.io/badge/arXiv-2510.07407-b31b1b.svg)](https://arxiv.org/abs/2510.07407)<mark>Appeared on: 2025-10-10</mark> -  _18 pages, 12 figures. Submitted to MNRAS_\n",
       "\n",
       "</div>\n",
       "<div id=\"authors\">\n",
       "\n",
       "Z. A. L. Conte, et al. -- incl., <mark>J. Neumann</mark>\n",
       "\n",
       "</div>\n",
       "<div id=\"abstract\">\n",
       "\n",
       "**Abstract:** We investigate the evolution of the bar fraction and length using an extended JWST NIRCam imaging dataset of galaxies in the $1 \\leq z \\leq 4$ redshift range. We assess the wavelength dependence of the bar fraction in disc galaxies and bar length evolution by selecting a nearly mass-complete CEERS disc sample and performing independent visual classifications on the short (F200W) and long (F356W+F444W) wavelength channels. A similar bar fraction is observed for both samples, and combined we find a declining trend in the bar fraction: $0.16^{+0.03}_{-0.03}$ at $1 \\leq z < 2$ ; $0.08^{+0.02}_{-0.01}$ at $2 \\leq z < 3$ ; $0.07^{+0.03}_{-0.01}$ at $3 \\leq z \\leq 4$ . This corroborates our previous work and other recent studies, suggesting that dynamically cold and rotationally supported massive discs are present at Cosmic Noon. No evolution in the F356W+F444W bar length is measured from $z = 4$ to $z = 1$ , which has a mean of 3.6 kpc, but a slight increase of about 1 kpc towards $z = 1$ is measured in the F200W sample, which has a mean of 2.9 kpc. The bar sample is shorter in the short-wavelength channel due to the better physical spatial resolution; however, we also suggest that dust obscuration plays a role. We find that the correlation between bar length and galaxy mass for massive galaxies observed at $z < 1$ is not seen at $z > 1$ . By adding samples of barred galaxies at $z<1$ , we show that there is a modest increase in the bar length ( $\\approx 2$ kpc) towards $z=0$ , but bars longer than $\\approx8$ kpc are only found at $z<1$ . We show that bars and discs grow in tandem, for the bar length normalised by disc size does not evolve from $z = 4$ to $z = 0$ . Not only is a significant population of bars forming beyond $z = 1$ , but our results also show that some of these bars are as long and strong as the average bar at $z\\approx0$ .\n",
       "\n",
       "</div>\n",
       "\n",
       "<div id=\"div_fig1\">\n",
       "\n",
       "<img src=\"tmp_2510.07407/./Figures/R90_Lb_norm.jpg\" alt=\"Fig11\" width=\"100%\"/>\n",
       "\n",
       "**Figure 11. -** The evolution of the bar length over $0 \\leq z \\leq 4$. The left panels show lengths measured in this work from JWST NIRCam filters F200W (blue) and F356W+F444W (red) for bars found in galaxies between the redshift range $1 \\leq z \\leq 4$, with their normalised distribution (see text for details) shown on the right panels. The first row shows the distribution of $R_{90}$, whilst the second row is the deprojected $L_{bar}$ and the third row is the normalised $L_{bar}$, $L_{bar}/R_{90}$. The high redshift sample is compared against a sample of SDSS $i-$band barred galaxies at $z \\approx 0$\\citepalias[][black]{Gadotti_2011} and a sample of barred galaxies at $0.2 < z \\leq 0.835$ using F814W images from the COSMOS survey \\citepalias[][grey]{Kim_2021}. The mean value for each parameter in each sample is given in the right panel, with the standard deviation. (*fig:length dist*)\n",
       "\n",
       "</div>\n",
       "<div id=\"div_fig2\">\n",
       "\n",
       "<img src=\"tmp_2510.07407/./Figures/Length_mass.png\" alt=\"Fig7\" width=\"100%\"/>\n",
       "\n",
       "**Figure 7. -** Bar length versus stellar mass for JWST NIRCam barred galaxies at $1 \\leq z \\leq 4$. The two JWST samples in F200W (crosses) and F356W+F444W (diamonds) with ordinary least squares fits (dash-dotted and dotted, respectively); binned mean L$_{bar}$ as boxes and standard deviation as error bars. The green dash-dot-dotted is the ordinary least squares fit to nearby SDSS barred galaxies from \\citetalias{Gadotti_2011}. The grey solid line is the ordinary least squares bisector fit to barred galaxies between $0.2 \\leq z \\leq 0.8$ from \\citetalias{Kim_2021}. The black dashed line shows the locally weighted regression fit for nearby S$^4$G  spiral galaxies from \\citet{Erwin_2019}. The red and blue shaded regions show $2 \\times FWHM$ for the lower and upper redshift boundaries of the F356W+F444W and F200W samples, respectively. The bottom panel shows the bar length stellar mass relation for local galaxies with bar ages estimated. (*fig: length-mass*)\n",
       "\n",
       "</div>\n",
       "<div id=\"div_fig3\">\n",
       "\n",
       "<img src=\"tmp_2510.07407/./Figures/bar_frac.jpg\" alt=\"Fig10\" width=\"100%\"/>\n",
       "\n",
       "**Figure 10. -** Evolution of the bar fraction in disc galaxies. At high-$z$ the bar fraction is found in three redshift bins, $1 \\leq z < 2$, $2 \\leq z < 3$ and $3 \\leq z \\leq 4$, using the visual classification of the images from the JWST NIRCam filters F356W+F444W (red stars) and F200W (blue stars) and combining these results to find a total bar fraction (yellow stars). Error bars in $f_{bar}$ are the $1\\sigma$ bimodal interval, and the shaded area is the upper and lower bounds of the bar fraction (see text for details). Dashed horizontal error bars show the full range in $z$ of the identified bars, while thick horizontal solid lines show the corresponding 25\\%-75\\% inter-quartile range. The insert shows the bar fraction for the breakdown of strongly (right-pointing triangle) and weakly (left-pointing triangle) barred galaxies. The results of Paper 1 are black unfilled squares (HST) and stars (JWST), and in grey are the JWST bar fraction of \\citetalias{Guo_2025}(diamond), \\citetalias{Salcedo_2025}(circle) and \\citetalias{Géron_2025}(square). (*fig:bar fraction*)\n",
       "\n",
       "</div><div id=\"qrcode\"><img src=https://api.qrserver.com/v1/create-qr-code/?size=100x100&data=\"https://arxiv.org/abs/2510.07407\"></div>"
      ],
      "text/plain": [
       "<IPython.core.display.Markdown object>"
      ]
     },
     "metadata": {},
     "output_type": "display_data"
    }
   ],
   "source": [
    "[display(Markdown(k[1])) for k in documents];"
   ]
  },
  {
   "cell_type": "markdown",
   "id": "873873a4",
   "metadata": {
    "papermill": {
     "duration": 0.004367,
     "end_time": "2025-10-10T04:13:34.943986",
     "exception": false,
     "start_time": "2025-10-10T04:13:34.939619",
     "status": "completed"
    },
    "tags": []
   },
   "source": [
    "# Create HTML index"
   ]
  },
  {
   "cell_type": "code",
   "execution_count": 10,
   "id": "cf665672",
   "metadata": {
    "execution": {
     "iopub.execute_input": "2025-10-10T04:13:34.953625Z",
     "iopub.status.busy": "2025-10-10T04:13:34.953445Z",
     "iopub.status.idle": "2025-10-10T04:13:34.960235Z",
     "shell.execute_reply": "2025-10-10T04:13:34.959668Z"
    },
    "papermill": {
     "duration": 0.012745,
     "end_time": "2025-10-10T04:13:34.961249",
     "exception": false,
     "start_time": "2025-10-10T04:13:34.948504",
     "status": "completed"
    },
    "tags": []
   },
   "outputs": [
    {
     "name": "stdout",
     "output_type": "stream",
     "text": [
      "124  publications files modified in the last 7 days.\n"
     ]
    }
   ],
   "source": [
    "from datetime import datetime, timedelta, timezone\n",
    "from glob import glob\n",
    "import os\n",
    "\n",
    "files = glob('_build/html/*.md')\n",
    "days = 7\n",
    "now = datetime.today()\n",
    "res = []\n",
    "for fk in files:\n",
    "    stat_result = os.stat(fk).st_ctime\n",
    "    modified = datetime.fromtimestamp(stat_result, tz=timezone.utc).replace(tzinfo=None)\n",
    "    delta = now.today() - modified\n",
    "    if delta <= timedelta(days=days):\n",
    "        res.append((delta.seconds, fk))\n",
    "res = [k[1] for k in reversed(sorted(res, key=lambda x:x[1]))]\n",
    "npub = len(res)\n",
    "print(len(res), f\" publications files modified in the last {days:d} days.\")\n",
    "# [ print('\\t', k) for k in res ];"
   ]
  },
  {
   "cell_type": "code",
   "execution_count": 11,
   "id": "015de740",
   "metadata": {
    "execution": {
     "iopub.execute_input": "2025-10-10T04:13:34.970849Z",
     "iopub.status.busy": "2025-10-10T04:13:34.970634Z",
     "iopub.status.idle": "2025-10-10T04:13:34.982362Z",
     "shell.execute_reply": "2025-10-10T04:13:34.981823Z"
    },
    "papermill": {
     "duration": 0.017663,
     "end_time": "2025-10-10T04:13:34.983329",
     "exception": false,
     "start_time": "2025-10-10T04:13:34.965666",
     "status": "completed"
    },
    "tags": []
   },
   "outputs": [
    {
     "name": "stdout",
     "output_type": "stream",
     "text": [
      "10  publications in the last 7 days.\n"
     ]
    }
   ],
   "source": [
    "import datetime\n",
    "from glob import glob\n",
    "\n",
    "def get_last_n_days(lst, days=1):\n",
    "    \"\"\" Get the documents from the last n days \"\"\"\n",
    "    sorted_lst = sorted(lst, key=lambda x: x[1], reverse=True)\n",
    "    for fname, date in sorted_lst:\n",
    "        if date >= str(datetime.date.today() - datetime.timedelta(days=days)):\n",
    "            yield fname\n",
    "\n",
    "def extract_appearance_dates(lst_file):\n",
    "    dates = []\n",
    "\n",
    "    def get_date(line):\n",
    "        return line\\\n",
    "            .split('Appeared on:')[-1]\\\n",
    "            .split('</mark>')[0].strip()\n",
    "\n",
    "    for fname in lst:\n",
    "        with open(fname, 'r') as f:\n",
    "            found_date = False\n",
    "            for line in f:\n",
    "                if not found_date:\n",
    "                    if \"Appeared on\" in line:\n",
    "                        found_date = True\n",
    "                        dates.append((fname, get_date(line)))\n",
    "                else:\n",
    "                    break\n",
    "    return dates\n",
    "\n",
    "from glob import glob\n",
    "lst = glob('_build/html/*md')\n",
    "days = 7\n",
    "dates = extract_appearance_dates(lst)\n",
    "res = list(get_last_n_days(dates, days))\n",
    "npub = len(res)\n",
    "print(len(res), f\" publications in the last {days:d} days.\")"
   ]
  },
  {
   "cell_type": "code",
   "execution_count": 12,
   "id": "52ca0208",
   "metadata": {
    "execution": {
     "iopub.execute_input": "2025-10-10T04:13:34.993183Z",
     "iopub.status.busy": "2025-10-10T04:13:34.992997Z",
     "iopub.status.idle": "2025-10-10T04:13:34.997672Z",
     "shell.execute_reply": "2025-10-10T04:13:34.997040Z"
    },
    "papermill": {
     "duration": 0.010805,
     "end_time": "2025-10-10T04:13:34.998710",
     "exception": false,
     "start_time": "2025-10-10T04:13:34.987905",
     "status": "completed"
    },
    "scrolled": false,
    "tags": []
   },
   "outputs": [],
   "source": [
    "def create_carousel(npub=4):\n",
    "    \"\"\" Generate the HTML code for a carousel with `npub` slides \"\"\"\n",
    "    carousel = [\"\"\"  <div class=\"carousel\" \"\"\",\n",
    "                \"\"\"       data-flickity='{ \"autoPlay\": 10000, \"adaptiveHeight\": true, \"resize\": true, \"wrapAround\": true, \"pauseAutoPlayOnHover\": true, \"groupCells\": 1 }' id=\"asyncTypeset\">\"\"\"\n",
    "                ]\n",
    "    \n",
    "    item_str = \"\"\"    <div class=\"carousel-cell\"> <div id=\"slide{k}\" class=\"md_view\">Content {k}</div> </div>\"\"\"\n",
    "    for k in range(1, npub + 1):\n",
    "        carousel.append(item_str.format(k=k))\n",
    "    carousel.append(\"  </div>\")\n",
    "    return '\\n'.join(carousel)\n",
    "\n",
    "def create_grid(npub=4):\n",
    "    \"\"\" Generate the HTML code for a flat grid with `npub` slides \"\"\"\n",
    "    grid = [\"\"\"  <div class=\"grid\"> \"\"\",\n",
    "                ]\n",
    "    \n",
    "    item_str = \"\"\"    <div class=\"grid-item\"> <div id=\"slide{k}\" class=\"md_view\">Content {k}</div> </div>\"\"\"\n",
    "    for k in range(1, npub + 1):\n",
    "        grid.append(item_str.format(k=k))\n",
    "    grid.append(\"  </div>\")\n",
    "    return '\\n'.join(grid)"
   ]
  },
  {
   "cell_type": "code",
   "execution_count": 13,
   "id": "a6eac5b6",
   "metadata": {
    "execution": {
     "iopub.execute_input": "2025-10-10T04:13:35.008518Z",
     "iopub.status.busy": "2025-10-10T04:13:35.008300Z",
     "iopub.status.idle": "2025-10-10T04:13:35.013107Z",
     "shell.execute_reply": "2025-10-10T04:13:35.012503Z"
    },
    "papermill": {
     "duration": 0.010921,
     "end_time": "2025-10-10T04:13:35.014182",
     "exception": false,
     "start_time": "2025-10-10T04:13:35.003261",
     "status": "completed"
    },
    "scrolled": false,
    "tags": []
   },
   "outputs": [],
   "source": [
    "carousel = create_carousel(npub)\n",
    "docs = ', '.join(['\"{0:s}\"'.format(k.split('/')[-1]) for k in res])\n",
    "slides = ', '.join([f'\"slide{k}\"' for k in range(1, npub + 1)])\n",
    "\n",
    "with open(\"daily_template.html\", \"r\") as tpl:\n",
    "    page = tpl.read()\n",
    "    page = page.replace(\"{%-- carousel:s --%}\", carousel)\\\n",
    "               .replace(\"{%-- suptitle:s --%}\",  \"7-day archives\" )\\\n",
    "               .replace(\"{%-- docs:s --%}\", docs)\\\n",
    "               .replace(\"{%-- slides:s --%}\", slides)\n",
    "    \n",
    "with open(\"_build/html/index_7days.html\", 'w') as fout:\n",
    "    fout.write(page)"
   ]
  },
  {
   "cell_type": "code",
   "execution_count": 14,
   "id": "adc1a1ec",
   "metadata": {
    "execution": {
     "iopub.execute_input": "2025-10-10T04:13:35.024062Z",
     "iopub.status.busy": "2025-10-10T04:13:35.023870Z",
     "iopub.status.idle": "2025-10-10T04:13:35.030160Z",
     "shell.execute_reply": "2025-10-10T04:13:35.029480Z"
    },
    "papermill": {
     "duration": 0.012487,
     "end_time": "2025-10-10T04:13:35.031239",
     "exception": false,
     "start_time": "2025-10-10T04:13:35.018752",
     "status": "completed"
    },
    "tags": []
   },
   "outputs": [
    {
     "name": "stdout",
     "output_type": "stream",
     "text": [
      "1  publications in the last day.\n"
     ]
    }
   ],
   "source": [
    "# redo for today\n",
    "days = 1\n",
    "res = list(get_last_n_days(dates, days))\n",
    "npub = len(res)\n",
    "print(len(res), f\" publications in the last day.\")\n",
    "\n",
    "carousel = create_carousel(npub)\n",
    "docs = ', '.join(['\"{0:s}\"'.format(k.split('/')[-1]) for k in res])\n",
    "slides = ', '.join([f'\"slide{k}\"' for k in range(1, npub + 1)])\n",
    "\n",
    "with open(\"daily_template.html\", \"r\") as tpl:\n",
    "    page = tpl.read()\n",
    "    page = page.replace(\"{%-- carousel:s --%}\", carousel)\\\n",
    "               .replace(\"{%-- suptitle:s --%}\",  \"Daily\" )\\\n",
    "               .replace(\"{%-- docs:s --%}\", docs)\\\n",
    "               .replace(\"{%-- slides:s --%}\", slides)\n",
    "    \n",
    "# print(carousel, docs, slides)\n",
    "# print(page)\n",
    "with open(\"_build/html/index_daily.html\", 'w') as fout:\n",
    "    fout.write(page)"
   ]
  },
  {
   "cell_type": "code",
   "execution_count": 15,
   "id": "00eece82",
   "metadata": {
    "execution": {
     "iopub.execute_input": "2025-10-10T04:13:35.041323Z",
     "iopub.status.busy": "2025-10-10T04:13:35.041105Z",
     "iopub.status.idle": "2025-10-10T04:13:35.047215Z",
     "shell.execute_reply": "2025-10-10T04:13:35.046558Z"
    },
    "papermill": {
     "duration": 0.012292,
     "end_time": "2025-10-10T04:13:35.048272",
     "exception": false,
     "start_time": "2025-10-10T04:13:35.035980",
     "status": "completed"
    },
    "scrolled": false,
    "tags": []
   },
   "outputs": [
    {
     "name": "stdout",
     "output_type": "stream",
     "text": [
      "6  6 publications selected.\n"
     ]
    }
   ],
   "source": [
    "# Create the flat grid of the last N papers (fixed number regardless of dates)\n",
    "from itertools import islice \n",
    "\n",
    "npub = 6\n",
    "res = [k[0] for k in (islice(reversed(sorted(dates, key=lambda x: x[1])), 6))]\n",
    "print(len(res), f\" {npub} publications selected.\")\n",
    "\n",
    "grid = create_grid(npub)\n",
    "docs = ', '.join(['\"{0:s}\"'.format(k.split('/')[-1]) for k in res])\n",
    "slides = ', '.join([f'\"slide{k}\"' for k in range(1, npub + 1)])\n",
    "\n",
    "with open(\"grid_template.html\", \"r\") as tpl:\n",
    "    page = tpl.read()\n",
    "    page = page.replace(\"{%-- grid-content:s --%}\", grid)\\\n",
    "               .replace(\"{%-- suptitle:s --%}\",  f\"Last {npub:,d} papers\" )\\\n",
    "               .replace(\"{%-- docs:s --%}\", docs)\\\n",
    "               .replace(\"{%-- slides:s --%}\", slides)\n",
    "    \n",
    "# print(grid, docs, slides)\n",
    "# print(page)\n",
    "with open(\"_build/html/index_npub_grid.html\", 'w') as fout:\n",
    "    fout.write(page)"
   ]
  }
 ],
 "metadata": {
  "kernelspec": {
   "display_name": "Python 3 (ipykernel)",
   "language": "python",
   "name": "python3"
  },
  "language_info": {
   "codemirror_mode": {
    "name": "ipython",
    "version": 3
   },
   "file_extension": ".py",
   "mimetype": "text/x-python",
   "name": "python",
   "nbconvert_exporter": "python",
   "pygments_lexer": "ipython3",
   "version": "3.9.23"
  },
  "papermill": {
   "default_parameters": {},
   "duration": 47.591982,
   "end_time": "2025-10-10T04:13:35.268064",
   "environment_variables": {},
   "exception": null,
   "input_path": "MPIA daily digest.ipynb",
   "output_path": "log.ipynb",
   "parameters": {},
   "start_time": "2025-10-10T04:12:47.676082",
   "version": "2.6.0"
  },
  "vscode": {
   "interpreter": {
    "hash": "aee8b7b246df8f9039afb4144a1f6fd8d2ca17a180786b69acc140d282b71a49"
   }
  },
  "widgets": {
   "application/vnd.jupyter.widget-state+json": {
    "state": {
     "3b564dca196d4282a37a9ccf16f8e3c1": {
      "model_module": "@jupyter-widgets/controls",
      "model_module_version": "2.0.0",
      "model_name": "ProgressStyleModel",
      "state": {
       "_model_module": "@jupyter-widgets/controls",
       "_model_module_version": "2.0.0",
       "_model_name": "ProgressStyleModel",
       "_view_count": null,
       "_view_module": "@jupyter-widgets/base",
       "_view_module_version": "2.0.0",
       "_view_name": "StyleView",
       "bar_color": null,
       "description_width": ""
      }
     },
     "47317760f16e4022bfed666ef972905d": {
      "model_module": "@jupyter-widgets/base",
      "model_module_version": "2.0.0",
      "model_name": "LayoutModel",
      "state": {
       "_model_module": "@jupyter-widgets/base",
       "_model_module_version": "2.0.0",
       "_model_name": "LayoutModel",
       "_view_count": null,
       "_view_module": "@jupyter-widgets/base",
       "_view_module_version": "2.0.0",
       "_view_name": "LayoutView",
       "align_content": null,
       "align_items": null,
       "align_self": null,
       "border_bottom": null,
       "border_left": null,
       "border_right": null,
       "border_top": null,
       "bottom": null,
       "display": null,
       "flex": null,
       "flex_flow": null,
       "grid_area": null,
       "grid_auto_columns": null,
       "grid_auto_flow": null,
       "grid_auto_rows": null,
       "grid_column": null,
       "grid_gap": null,
       "grid_row": null,
       "grid_template_areas": null,
       "grid_template_columns": null,
       "grid_template_rows": null,
       "height": null,
       "justify_content": null,
       "justify_items": null,
       "left": null,
       "margin": null,
       "max_height": null,
       "max_width": null,
       "min_height": null,
       "min_width": null,
       "object_fit": null,
       "object_position": null,
       "order": null,
       "overflow": null,
       "padding": null,
       "right": null,
       "top": null,
       "visibility": null,
       "width": null
      }
     },
     "52ec6e63409448be8ec8434415f91889": {
      "model_module": "@jupyter-widgets/controls",
      "model_module_version": "2.0.0",
      "model_name": "HTMLModel",
      "state": {
       "_dom_classes": [],
       "_model_module": "@jupyter-widgets/controls",
       "_model_module_version": "2.0.0",
       "_model_name": "HTMLModel",
       "_view_count": null,
       "_view_module": "@jupyter-widgets/controls",
       "_view_module_version": "2.0.0",
       "_view_name": "HTMLView",
       "description": "",
       "description_allow_html": false,
       "layout": "IPY_MODEL_47317760f16e4022bfed666ef972905d",
       "placeholder": "​",
       "style": "IPY_MODEL_cd12818b42e847f9a152fc7223a15cf3",
       "tabbable": null,
       "tooltip": null,
       "value": "100%"
      }
     },
     "7547b79f8fce47e0becbbbdd2cd0a27a": {
      "model_module": "@jupyter-widgets/controls",
      "model_module_version": "2.0.0",
      "model_name": "FloatProgressModel",
      "state": {
       "_dom_classes": [],
       "_model_module": "@jupyter-widgets/controls",
       "_model_module_version": "2.0.0",
       "_model_name": "FloatProgressModel",
       "_view_count": null,
       "_view_module": "@jupyter-widgets/controls",
       "_view_module_version": "2.0.0",
       "_view_name": "ProgressView",
       "bar_style": "success",
       "description": "",
       "description_allow_html": false,
       "layout": "IPY_MODEL_b329a6ce2b1e4c89a7d60f75101e586f",
       "max": 3.0,
       "min": 0.0,
       "orientation": "horizontal",
       "style": "IPY_MODEL_3b564dca196d4282a37a9ccf16f8e3c1",
       "tabbable": null,
       "tooltip": null,
       "value": 3.0
      }
     },
     "80f9968c2fb6408c9bea2c8e6ee1c0c6": {
      "model_module": "@jupyter-widgets/base",
      "model_module_version": "2.0.0",
      "model_name": "LayoutModel",
      "state": {
       "_model_module": "@jupyter-widgets/base",
       "_model_module_version": "2.0.0",
       "_model_name": "LayoutModel",
       "_view_count": null,
       "_view_module": "@jupyter-widgets/base",
       "_view_module_version": "2.0.0",
       "_view_name": "LayoutView",
       "align_content": null,
       "align_items": null,
       "align_self": null,
       "border_bottom": null,
       "border_left": null,
       "border_right": null,
       "border_top": null,
       "bottom": null,
       "display": null,
       "flex": null,
       "flex_flow": null,
       "grid_area": null,
       "grid_auto_columns": null,
       "grid_auto_flow": null,
       "grid_auto_rows": null,
       "grid_column": null,
       "grid_gap": null,
       "grid_row": null,
       "grid_template_areas": null,
       "grid_template_columns": null,
       "grid_template_rows": null,
       "height": null,
       "justify_content": null,
       "justify_items": null,
       "left": null,
       "margin": null,
       "max_height": null,
       "max_width": null,
       "min_height": null,
       "min_width": null,
       "object_fit": null,
       "object_position": null,
       "order": null,
       "overflow": null,
       "padding": null,
       "right": null,
       "top": null,
       "visibility": null,
       "width": null
      }
     },
     "b329a6ce2b1e4c89a7d60f75101e586f": {
      "model_module": "@jupyter-widgets/base",
      "model_module_version": "2.0.0",
      "model_name": "LayoutModel",
      "state": {
       "_model_module": "@jupyter-widgets/base",
       "_model_module_version": "2.0.0",
       "_model_name": "LayoutModel",
       "_view_count": null,
       "_view_module": "@jupyter-widgets/base",
       "_view_module_version": "2.0.0",
       "_view_name": "LayoutView",
       "align_content": null,
       "align_items": null,
       "align_self": null,
       "border_bottom": null,
       "border_left": null,
       "border_right": null,
       "border_top": null,
       "bottom": null,
       "display": null,
       "flex": null,
       "flex_flow": null,
       "grid_area": null,
       "grid_auto_columns": null,
       "grid_auto_flow": null,
       "grid_auto_rows": null,
       "grid_column": null,
       "grid_gap": null,
       "grid_row": null,
       "grid_template_areas": null,
       "grid_template_columns": null,
       "grid_template_rows": null,
       "height": null,
       "justify_content": null,
       "justify_items": null,
       "left": null,
       "margin": null,
       "max_height": null,
       "max_width": null,
       "min_height": null,
       "min_width": null,
       "object_fit": null,
       "object_position": null,
       "order": null,
       "overflow": null,
       "padding": null,
       "right": null,
       "top": null,
       "visibility": null,
       "width": null
      }
     },
     "c24b7e15ffa24ecdab3f368eca1861c7": {
      "model_module": "@jupyter-widgets/controls",
      "model_module_version": "2.0.0",
      "model_name": "HTMLModel",
      "state": {
       "_dom_classes": [],
       "_model_module": "@jupyter-widgets/controls",
       "_model_module_version": "2.0.0",
       "_model_name": "HTMLModel",
       "_view_count": null,
       "_view_module": "@jupyter-widgets/controls",
       "_view_module_version": "2.0.0",
       "_view_name": "HTMLView",
       "description": "",
       "description_allow_html": false,
       "layout": "IPY_MODEL_f3fa07df5b294880bccbc1c1ff7c0db0",
       "placeholder": "​",
       "style": "IPY_MODEL_c54c3af083174863b02752e8cfdd72d7",
       "tabbable": null,
       "tooltip": null,
       "value": " 3/3 [00:24&lt;00:00,  6.32s/it]"
      }
     },
     "c54c3af083174863b02752e8cfdd72d7": {
      "model_module": "@jupyter-widgets/controls",
      "model_module_version": "2.0.0",
      "model_name": "HTMLStyleModel",
      "state": {
       "_model_module": "@jupyter-widgets/controls",
       "_model_module_version": "2.0.0",
       "_model_name": "HTMLStyleModel",
       "_view_count": null,
       "_view_module": "@jupyter-widgets/base",
       "_view_module_version": "2.0.0",
       "_view_name": "StyleView",
       "background": null,
       "description_width": "",
       "font_size": null,
       "text_color": null
      }
     },
     "cd12818b42e847f9a152fc7223a15cf3": {
      "model_module": "@jupyter-widgets/controls",
      "model_module_version": "2.0.0",
      "model_name": "HTMLStyleModel",
      "state": {
       "_model_module": "@jupyter-widgets/controls",
       "_model_module_version": "2.0.0",
       "_model_name": "HTMLStyleModel",
       "_view_count": null,
       "_view_module": "@jupyter-widgets/base",
       "_view_module_version": "2.0.0",
       "_view_name": "StyleView",
       "background": null,
       "description_width": "",
       "font_size": null,
       "text_color": null
      }
     },
     "d872a966eba948608d7dfb2f88cba1db": {
      "model_module": "@jupyter-widgets/controls",
      "model_module_version": "2.0.0",
      "model_name": "HBoxModel",
      "state": {
       "_dom_classes": [],
       "_model_module": "@jupyter-widgets/controls",
       "_model_module_version": "2.0.0",
       "_model_name": "HBoxModel",
       "_view_count": null,
       "_view_module": "@jupyter-widgets/controls",
       "_view_module_version": "2.0.0",
       "_view_name": "HBoxView",
       "box_style": "",
       "children": [
        "IPY_MODEL_52ec6e63409448be8ec8434415f91889",
        "IPY_MODEL_7547b79f8fce47e0becbbbdd2cd0a27a",
        "IPY_MODEL_c24b7e15ffa24ecdab3f368eca1861c7"
       ],
       "layout": "IPY_MODEL_80f9968c2fb6408c9bea2c8e6ee1c0c6",
       "tabbable": null,
       "tooltip": null
      }
     },
     "f3fa07df5b294880bccbc1c1ff7c0db0": {
      "model_module": "@jupyter-widgets/base",
      "model_module_version": "2.0.0",
      "model_name": "LayoutModel",
      "state": {
       "_model_module": "@jupyter-widgets/base",
       "_model_module_version": "2.0.0",
       "_model_name": "LayoutModel",
       "_view_count": null,
       "_view_module": "@jupyter-widgets/base",
       "_view_module_version": "2.0.0",
       "_view_name": "LayoutView",
       "align_content": null,
       "align_items": null,
       "align_self": null,
       "border_bottom": null,
       "border_left": null,
       "border_right": null,
       "border_top": null,
       "bottom": null,
       "display": null,
       "flex": null,
       "flex_flow": null,
       "grid_area": null,
       "grid_auto_columns": null,
       "grid_auto_flow": null,
       "grid_auto_rows": null,
       "grid_column": null,
       "grid_gap": null,
       "grid_row": null,
       "grid_template_areas": null,
       "grid_template_columns": null,
       "grid_template_rows": null,
       "height": null,
       "justify_content": null,
       "justify_items": null,
       "left": null,
       "margin": null,
       "max_height": null,
       "max_width": null,
       "min_height": null,
       "min_width": null,
       "object_fit": null,
       "object_position": null,
       "order": null,
       "overflow": null,
       "padding": null,
       "right": null,
       "top": null,
       "visibility": null,
       "width": null
      }
     }
    },
    "version_major": 2,
    "version_minor": 0
   }
  }
 },
 "nbformat": 4,
 "nbformat_minor": 5
}