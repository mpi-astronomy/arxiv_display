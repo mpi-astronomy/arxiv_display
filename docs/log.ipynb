{
 "cells": [
  {
   "cell_type": "markdown",
   "id": "92bcb855",
   "metadata": {
    "papermill": {
     "duration": 0.003825,
     "end_time": "2024-06-18T04:09:11.419870",
     "exception": false,
     "start_time": "2024-06-18T04:09:11.416045",
     "status": "completed"
    },
    "tags": []
   },
   "source": [
    "# MPIA Arxiv on Deck 2\n",
    "\n",
    "Contains the steps to produce the paper extractions."
   ]
  },
  {
   "cell_type": "code",
   "execution_count": 1,
   "id": "3a0d6e11",
   "metadata": {
    "execution": {
     "iopub.execute_input": "2024-06-18T04:09:11.427426Z",
     "iopub.status.busy": "2024-06-18T04:09:11.426969Z",
     "iopub.status.idle": "2024-06-18T04:09:11.907277Z",
     "shell.execute_reply": "2024-06-18T04:09:11.906544Z"
    },
    "papermill": {
     "duration": 0.486063,
     "end_time": "2024-06-18T04:09:11.909086",
     "exception": false,
     "start_time": "2024-06-18T04:09:11.423023",
     "status": "completed"
    },
    "tags": []
   },
   "outputs": [],
   "source": [
    "# Imports\n",
    "import os\n",
    "from IPython.display import Markdown, display\n",
    "from tqdm.notebook import tqdm\n",
    "import warnings\n",
    "from PIL import Image \n",
    "\n",
    "# requires arxiv_on_deck_2\n",
    "\n",
    "from arxiv_on_deck_2.arxiv2 import (get_new_papers, \n",
    "                                    get_paper_from_identifier,\n",
    "                                    retrieve_document_source, \n",
    "                                    get_markdown_badge)\n",
    "from arxiv_on_deck_2 import (latex,\n",
    "                             latex_bib,\n",
    "                             mpia,\n",
    "                             highlight_authors_in_list)\n",
    "\n",
    "# Sometimes images are really big\n",
    "Image.MAX_IMAGE_PIXELS = 1000000000 "
   ]
  },
  {
   "cell_type": "code",
   "execution_count": 2,
   "id": "22aa9d44",
   "metadata": {
    "execution": {
     "iopub.execute_input": "2024-06-18T04:09:11.916512Z",
     "iopub.status.busy": "2024-06-18T04:09:11.916211Z",
     "iopub.status.idle": "2024-06-18T04:09:11.921578Z",
     "shell.execute_reply": "2024-06-18T04:09:11.920907Z"
    },
    "papermill": {
     "duration": 0.010499,
     "end_time": "2024-06-18T04:09:11.922810",
     "exception": false,
     "start_time": "2024-06-18T04:09:11.912311",
     "status": "completed"
    },
    "tags": []
   },
   "outputs": [],
   "source": [
    "# Some useful definitions.\n",
    "\n",
    "class AffiliationWarning(UserWarning):\n",
    "    pass\n",
    "\n",
    "class AffiliationError(RuntimeError):\n",
    "    pass\n",
    "\n",
    "def validation(source: str):\n",
    "    \"\"\"Raises error paper during parsing of source file\n",
    "    \n",
    "    Allows checks before parsing TeX code.\n",
    "    \n",
    "    Raises AffiliationWarning\n",
    "    \"\"\"\n",
    "    check = mpia.affiliation_verifications(source, verbose=True)\n",
    "    if check is not True:\n",
    "        raise AffiliationError(\"mpia.affiliation_verifications: \" + check)\n",
    "\n",
    "        \n",
    "warnings.simplefilter('always', AffiliationWarning)\n",
    "\n",
    "\n",
    "def get_markdown_qrcode(paper_id: str):\n",
    "    \"\"\" Generate a qrcode to the arxiv page using qrserver.com\n",
    "    \n",
    "    :param paper: Arxiv paper\n",
    "    :returns: markdown text\n",
    "    \"\"\"\n",
    "    url = r\"https://api.qrserver.com/v1/create-qr-code/?size=100x100&data=\"\n",
    "    txt = f\"\"\"<img src={url}\"https://arxiv.org/abs/{paper_id}\">\"\"\"\n",
    "    txt = '<div id=\"qrcode\">' + txt + '</div>'\n",
    "    return txt"
   ]
  },
  {
   "cell_type": "markdown",
   "id": "14bd6310",
   "metadata": {
    "papermill": {
     "duration": 0.002838,
     "end_time": "2024-06-18T04:09:11.928608",
     "exception": false,
     "start_time": "2024-06-18T04:09:11.925770",
     "status": "completed"
    },
    "tags": []
   },
   "source": [
    "## get list of arxiv paper candidates\n",
    "\n",
    "We use the MPIA mitarbeiter list webpage from mpia.de to get author names\n",
    "We then get all new papers from Arxiv and match authors"
   ]
  },
  {
   "cell_type": "code",
   "execution_count": 3,
   "id": "7ea813a8",
   "metadata": {
    "execution": {
     "iopub.execute_input": "2024-06-18T04:09:11.935513Z",
     "iopub.status.busy": "2024-06-18T04:09:11.935145Z",
     "iopub.status.idle": "2024-06-18T04:09:32.404364Z",
     "shell.execute_reply": "2024-06-18T04:09:32.403652Z"
    },
    "papermill": {
     "duration": 20.474606,
     "end_time": "2024-06-18T04:09:32.406167",
     "exception": false,
     "start_time": "2024-06-18T04:09:11.931561",
     "status": "completed"
    },
    "tags": []
   },
   "outputs": [],
   "source": [
    "# deal with the author list and edge cases of people that cannot be consistent on their name  \n",
    "\n",
    "def filter_non_scientists(name: str) -> bool:\n",
    "    \"\"\" Loose filter on expected authorships\n",
    "\n",
    "    removing IT, administration, technical staff\n",
    "    :param name: name\n",
    "    :returns: False if name is not a scientist\n",
    "    \"\"\"\n",
    "    remove_list = ['Wolf', 'Licht', 'Binroth', 'Witzel', 'Jordan',\n",
    "                   'Zähringer', 'Scheerer', 'Hoffmann', 'Düe',\n",
    "                   'Hellmich', 'Enkler-Scharpegge', 'Witte-Nguy',\n",
    "                   'Dehen', 'Beckmann', 'Jager', 'Jäger'\n",
    "                  ]\n",
    "\n",
    "    for k in remove_list:\n",
    "        if k in name:\n",
    "            return False\n",
    "    return True\n",
    "\n",
    "def add_author_to_list(author_list: list) -> list:\n",
    "    \"\"\" Add author to list if not already in list\n",
    "    \n",
    "    :param author: author name\n",
    "    :param author_list: list of authors\n",
    "    :returns: updated list of authors\n",
    "    \"\"\"\n",
    "    add_list = ['T. Henning']\n",
    "\n",
    "    for author in add_list:\n",
    "        if author not in author_list:\n",
    "            author_list.append(author)\n",
    "    return author_list\n",
    "\n",
    "# get list from MPIA website\n",
    "# filter for non-scientists (mpia.get_mpia_mitarbeiter_list() does some filtering)\n",
    "mpia_authors = [k[1] for k in mpia.get_mpia_mitarbeiter_list() if filter_non_scientists(k[1])]\n",
    "# add some missing author because of inconsistencies in their MPIA name and author name on papers\n",
    "mpia_authors = add_author_to_list(mpia_authors)"
   ]
  },
  {
   "cell_type": "code",
   "execution_count": 4,
   "id": "2645e73a",
   "metadata": {
    "execution": {
     "iopub.execute_input": "2024-06-18T04:09:32.413864Z",
     "iopub.status.busy": "2024-06-18T04:09:32.413428Z",
     "iopub.status.idle": "2024-06-18T04:09:33.455798Z",
     "shell.execute_reply": "2024-06-18T04:09:33.455131Z"
    },
    "papermill": {
     "duration": 1.047722,
     "end_time": "2024-06-18T04:09:33.457252",
     "exception": false,
     "start_time": "2024-06-18T04:09:32.409530",
     "status": "completed"
    },
    "tags": []
   },
   "outputs": [
    {
     "name": "stdout",
     "output_type": "stream",
     "text": [
      "T. Pfeil  ->  T. Pfeil  |  ['T. Pfeil']\n",
      "H. Klahr  ->  H. Klahr  |  ['H. Klahr']\n",
      "S. Li  ->  S. Li  |  ['S. Li']\n",
      "J. Lian  ->  J. Lian  |  ['J. Lian']\n"
     ]
    },
    {
     "name": "stdout",
     "output_type": "stream",
     "text": [
      "J. Li  ->  J. Li  |  ['J. Li']\n",
      "S. Li  ->  S. Li  |  ['S. Li']\n",
      "J. Liu  ->  J. Liu  |  ['J. Liu']\n",
      "Arxiv has 85 new papers today\n",
      "          6 with possible author matches\n"
     ]
    }
   ],
   "source": [
    "new_papers = get_new_papers()\n",
    "# add manual references\n",
    "add_paper_refs = []\n",
    "new_papers.extend([get_paper_from_identifier(k) for k in add_paper_refs])\n",
    "\n",
    "candidates = []\n",
    "for paperk in new_papers:\n",
    "    # Check author list with their initials\n",
    "    normed_author_list = [mpia.get_initials(k) for k in paperk['authors']]\n",
    "    hl_authors = highlight_authors_in_list(normed_author_list, mpia_authors, verbose=True)\n",
    "    matches = [(hl, orig) for hl, orig in zip(hl_authors, paperk['authors']) if 'mark' in hl]\n",
    "    paperk['authors'] = hl_authors\n",
    "    if matches:\n",
    "        # only select paper if an author matched our list\n",
    "        candidates.append(paperk)\n",
    "print(\"\"\"Arxiv has {0:,d} new papers today\"\"\".format(len(new_papers)))        \n",
    "print(\"\"\"          {0:,d} with possible author matches\"\"\".format(len(candidates)))"
   ]
  },
  {
   "cell_type": "markdown",
   "id": "3543b34a",
   "metadata": {
    "papermill": {
     "duration": 0.003194,
     "end_time": "2024-06-18T04:09:33.464847",
     "exception": false,
     "start_time": "2024-06-18T04:09:33.461653",
     "status": "completed"
    },
    "tags": []
   },
   "source": [
    "# Parse sources and generate relevant outputs\n",
    "\n",
    "From the candidates, we do the following steps:\n",
    "* get their tarball from ArXiv (and extract data)\n",
    "* find the main .tex file: find one with \\documentclass{...} (sometimes it's non trivial)\n",
    "* Check affiliations with :func:`validation`, which uses :func:`mpia.affiliation_verifications`\n",
    "* If passing the affiliations: we parse the .tex source\n",
    "   * inject sub-documents into the main (flatten the main document)\n",
    "   * parse structure, extract information (title, abstract, authors, figures...)\n",
    "   * handles `\\graphicspath` if provided\n",
    "* Generate the .md document."
   ]
  },
  {
   "cell_type": "code",
   "execution_count": 5,
   "id": "9576b79e",
   "metadata": {
    "execution": {
     "iopub.execute_input": "2024-06-18T04:09:33.472553Z",
     "iopub.status.busy": "2024-06-18T04:09:33.472075Z",
     "iopub.status.idle": "2024-06-18T04:09:53.824798Z",
     "shell.execute_reply": "2024-06-18T04:09:53.824002Z"
    },
    "papermill": {
     "duration": 20.359698,
     "end_time": "2024-06-18T04:09:53.827635",
     "exception": false,
     "start_time": "2024-06-18T04:09:33.467937",
     "status": "completed"
    },
    "scrolled": false,
    "tags": []
   },
   "outputs": [
    {
     "data": {
      "application/vnd.jupyter.widget-view+json": {
       "model_id": "2a826e29af2f4b8da93e298ed0b307df",
       "version_major": 2,
       "version_minor": 0
      },
      "text/plain": [
       "  0%|          | 0/6 [00:00<?, ?it/s]"
      ]
     },
     "metadata": {},
     "output_type": "display_data"
    },
    {
     "name": "stdout",
     "output_type": "stream",
     "text": [
      "Retrieving document from  https://arxiv.org/e-print/2406.10335\n"
     ]
    },
    {
     "name": "stdout",
     "output_type": "stream",
     "text": [
      "extracting tarball to tmp_2406.10335..."
     ]
    },
    {
     "name": "stdout",
     "output_type": "stream",
     "text": [
      " done.\n"
     ]
    },
    {
     "name": "stdout",
     "output_type": "stream",
     "text": [
      "T. Pfeil  ->  T. Pfeil  |  ['T. Pfeil']\n",
      "H. Klahr  ->  H. Klahr  |  ['H. Klahr']\n"
     ]
    },
    {
     "name": "stdout",
     "output_type": "stream",
     "text": [
      "Found 37 bibliographic references in tmp_2406.10335/49323corr.bbl.\n",
      "Retrieving document from  https://arxiv.org/e-print/2406.10547\n"
     ]
    },
    {
     "name": "stdout",
     "output_type": "stream",
     "text": [
      "extracting tarball to tmp_2406.10547... done.\n"
     ]
    },
    {
     "name": "stderr",
     "output_type": "stream",
     "text": [
      "/tmp/ipykernel_2139/1211882699.py:51: LatexWarning: 2406.10547 did not run properly\n",
      "Unable to locate Ghostscript on paths\n",
      "  warnings.warn(latex.LatexWarning(f\"{paper_id:s} did not run properly\\n\" +\n"
     ]
    },
    {
     "name": "stdout",
     "output_type": "stream",
     "text": [
      "Retrieving document from  https://arxiv.org/e-print/2406.11297\n"
     ]
    },
    {
     "name": "stdout",
     "output_type": "stream",
     "text": [
      "extracting tarball to tmp_2406.11297..."
     ]
    },
    {
     "name": "stdout",
     "output_type": "stream",
     "text": [
      " done.\n",
      "Retrieving document from  https://arxiv.org/e-print/2406.11394\n"
     ]
    },
    {
     "name": "stdout",
     "output_type": "stream",
     "text": [
      "extracting tarball to tmp_2406.11394..."
     ]
    },
    {
     "name": "stdout",
     "output_type": "stream",
     "text": [
      " done.\n",
      "Retrieving document from  https://arxiv.org/e-print/2406.11602\n"
     ]
    },
    {
     "name": "stdout",
     "output_type": "stream",
     "text": [
      "extracting tarball to tmp_2406.11602..."
     ]
    },
    {
     "name": "stdout",
     "output_type": "stream",
     "text": [
      " done.\n",
      "Retrieving document from  https://arxiv.org/e-print/2406.11800\n"
     ]
    },
    {
     "name": "stdout",
     "output_type": "stream",
     "text": [
      "extracting tarball to tmp_2406.11800..."
     ]
    },
    {
     "name": "stdout",
     "output_type": "stream",
     "text": [
      " done.\n",
      "  0: tmp_2406.11800/report2referee.tex, 119 lines\n",
      "  1: tmp_2406.11800/SMA_SgrB2_mag.tex, 677 lines\n"
     ]
    },
    {
     "name": "stderr",
     "output_type": "stream",
     "text": [
      "/opt/hostedtoolcache/Python/3.9.19/x64/lib/python3.9/site-packages/IPython/core/interactiveshell.py:3550: LatexWarning: Multiple tex files.\n",
      "\n",
      "  exec(code_obj, self.user_global_ns, self.user_ns)\n",
      "/opt/hostedtoolcache/Python/3.9.19/x64/lib/python3.9/site-packages/IPython/core/interactiveshell.py:3550: LatexWarning: Found 2 candidates with documentclass definition.\n",
      "  exec(code_obj, self.user_global_ns, self.user_ns)\n",
      "/opt/hostedtoolcache/Python/3.9.19/x64/lib/python3.9/site-packages/IPython/core/interactiveshell.py:3550: LatexWarning: Assuming tmp_2406.11800/SMA_SgrB2_mag.tex as main document.\n",
      "  exec(code_obj, self.user_global_ns, self.user_ns)\n"
     ]
    }
   ],
   "source": [
    "documents = []\n",
    "failed = []\n",
    "for paper in tqdm(candidates):\n",
    "    # debug crap\n",
    "    paper['identifier'] = paper['identifier'].lower().replace('arxiv:', '').replace(r'\\n', '').strip()\n",
    "    paper_id = paper['identifier']\n",
    "    \n",
    "    folder = f'tmp_{paper_id}'\n",
    "\n",
    "    try:\n",
    "        if not os.path.isdir(folder):\n",
    "            folder = retrieve_document_source(f\"{paper_id}\", f'tmp_{paper_id}')\n",
    "        \n",
    "        try:\n",
    "            doc = latex.LatexDocument(folder, validation=validation)    \n",
    "        except AffiliationError as affilerror:\n",
    "            msg = f\"ArXiv:{paper_id:s} is not an MPIA paper... \" + str(affilerror)\n",
    "            failed.append((paper, \"affiliation error: \" + str(affilerror) ))\n",
    "            continue\n",
    "        \n",
    "        # Hack because sometimes author parsing does not work well\n",
    "        if (len(doc.authors) != len(paper['authors'])):\n",
    "            doc._authors = paper['authors']\n",
    "        else:\n",
    "            # highlight authors (FIXME: doc.highlight_authors)\n",
    "            # done on arxiv paper already\n",
    "            doc._authors = highlight_authors_in_list(\n",
    "                [mpia.get_initials(k) for k in doc.authors], \n",
    "                mpia_authors, verbose=True)\n",
    "        if (doc.abstract) in (None, ''):\n",
    "            doc._abstract = paper['abstract']\n",
    "            \n",
    "        doc.comment = (get_markdown_badge(paper_id) + \n",
    "                       \"<mark>Appeared on: \" + paper['date'] + \"</mark> - \")\n",
    "        if paper['comments']:\n",
    "            doc.comment += \" _\" + paper['comments'] + \"_\"\n",
    "        \n",
    "        full_md = doc.generate_markdown_text()\n",
    "        \n",
    "        full_md += get_markdown_qrcode(paper_id)\n",
    "        \n",
    "        # replace citations\n",
    "        try:\n",
    "            bibdata = latex_bib.LatexBib.from_doc(doc)\n",
    "            full_md = latex_bib.replace_citations(full_md, bibdata)\n",
    "        except Exception as e:\n",
    "            print(e)\n",
    "        \n",
    "        documents.append((paper_id, full_md))\n",
    "    except Exception as e:\n",
    "        warnings.warn(latex.LatexWarning(f\"{paper_id:s} did not run properly\\n\" +\n",
    "                                         str(e)\n",
    "                                        ))\n",
    "        failed.append((paper, \"latex error \" + str(e)))"
   ]
  },
  {
   "cell_type": "markdown",
   "id": "2505a25c",
   "metadata": {
    "papermill": {
     "duration": 0.004062,
     "end_time": "2024-06-18T04:09:53.836109",
     "exception": false,
     "start_time": "2024-06-18T04:09:53.832047",
     "status": "completed"
    },
    "tags": []
   },
   "source": [
    "### Export the logs\n",
    "\n",
    "Throughout, we also keep track of the logs per paper. see `logs-{today date}.md` "
   ]
  },
  {
   "cell_type": "code",
   "execution_count": 6,
   "id": "d733828a",
   "metadata": {
    "execution": {
     "iopub.execute_input": "2024-06-18T04:09:53.845796Z",
     "iopub.status.busy": "2024-06-18T04:09:53.845289Z",
     "iopub.status.idle": "2024-06-18T04:09:53.864309Z",
     "shell.execute_reply": "2024-06-18T04:09:53.863648Z"
    },
    "papermill": {
     "duration": 0.025737,
     "end_time": "2024-06-18T04:09:53.865798",
     "exception": false,
     "start_time": "2024-06-18T04:09:53.840061",
     "status": "completed"
    },
    "scrolled": false,
    "tags": []
   },
   "outputs": [
    {
     "data": {
      "text/markdown": [
       "## Successful papers"
      ],
      "text/plain": [
       "<IPython.core.display.Markdown object>"
      ]
     },
     "metadata": {},
     "output_type": "display_data"
    },
    {
     "data": {
      "text/markdown": [
       "\n",
       "|||\n",
       "|---:|:---|\n",
       "| [![arXiv](https://img.shields.io/badge/arXiv-2406.10335-b31b1b.svg)](https://arxiv.org/abs/2406.10335) | **Vertical shear instability with dust evolution and consistent cooling times. On the importance of the initial dust distribution**  |\n",
       "|| <mark>T. Pfeil</mark>, T. Birnstiel, <mark>H. Klahr</mark> |\n",
       "|*Appeared on*| *2024-06-18*|\n",
       "|*Comments*| *6 pages, 3 figures, accepted for publication as a Letter to the Editor in Astronomy and Astrophysics*|\n",
       "|**Abstract**|            Context. Gas in protoplanetary disks mostly cools via thermal accommodation with dust particles. Thermal relaxation is thus highly sensitive to the local dust size distributions and the spatial distribution of the grains. So far, the interplay between thermal relaxation and gas turbulence has not been dynamically modeled in hydrodynamic simulations of protoplanetary disks with dust. Aims. We aim to study the effects of the vertical shear instability (VSI) on the thermal relaxation times, and vice versa. We are particularly interested in the influence of the initial dust grain size on the VSI and whether the emerging turbulence is sustained over long timescales. Results. We find that the emergence of the VSI is strongly dependent on the initial dust grain size. Coagulation also counteracts the emergence of hydrodynamic turbulence in our simulations, as shown by others before. Starting a simulation with larger grains (100 $\\mu$m) generally leads to a less turbulent outcome. While the inner disk regions (within $\\sim$ 70 au) develop turbulence in all three simulations, we find that the simulations with larger particles do not develop VSI in the outer disk. Conclusions. Our simulations with dynamically calculated thermal accommodation times based on the drifting and settling dust distribution show that the VSI, once developed in a disk, can be sustained over long timescales, even if grain growth is occurring. The VSI corrugates the dust layer and even diffuses the smaller grains into the upper atmosphere, where they can cool the gas. Whether the instability can emerge for a specific stratification depends on the initial dust grain sizes and the initial dust scale height. If the grains are initially $\\gtrsim$ 100 $\\mu$m and if the level of turbulence is initially assumed to be low, we find no VSI turbulence in the outer disk regions.         |"
      ],
      "text/plain": [
       "[2406.10335] Vertical shear instability with dust evolution and consistent cooling times. On the importance of the initial dust distribution\n",
       "\t<mark>T. Pfeil</mark>, T. Birnstiel, <mark>H. Klahr</mark>"
      ]
     },
     "metadata": {},
     "output_type": "display_data"
    },
    {
     "data": {
      "text/markdown": [
       "## Failed papers"
      ],
      "text/plain": [
       "<IPython.core.display.Markdown object>"
      ]
     },
     "metadata": {},
     "output_type": "display_data"
    },
    {
     "data": {
      "text/markdown": [
       "\n",
       "|||\n",
       "|---:|:---|\n",
       "| [![arXiv](https://img.shields.io/badge/arXiv-2406.11394-b31b1b.svg)](https://arxiv.org/abs/2406.11394) | **Disk Assembly of the Milky Way Suggested from the Time-resolved Chemical Abundance**  |\n",
       "|| E. Wang, <mark>J. Lian</mark>, Y. Peng, X. Wang |\n",
       "|*Appeared on*| *2024-06-18*|\n",
       "|*Comments*| *11 pages, 4 figures, accepted to ApJ*|\n",
       "|**Abstract**|            Both simulations and observations suggest that the disk assembly of galaxies is governed by the interplay between coplanar gas inflow, ex-planar gas outflow and in-situ star formation on the disk, known as the leaky accretion disk. This scenario predicts a strong connection between radial distributions of star formation and chemical abundances. The Milky Way, being the sole galaxy where we can reliably measure star formation histories and the corresponding temporally-resolved chemical abundances with individual stars, provides a unique opportunity to scrutinize this scenario. Based on the recent large spectroscopic and photometric surveys of Milky Way stars, we obtain the radial profiles of magnesium abundance ([Mg/H]) and star formation rate (SFR) surface density at different lookback time. We find the radial profiles of [Mg/H] can be well-reproduced using the leaky accretion disk model with only two free parameters for stars formed within 4 Gyr, as well as the flattening at large radii of metallicity profiles traced by HII regions and Cepheids. Furthermore, the constraint effective yield of the Milky Way and nearby galaxies show broad consistency with the theoretical predictions from stellar chemical evolution model with a mass-loading factor of 0-2. These results support that the recent assembly of the Milky Way adheres to the leaky accretion disk scenario, bridging the disk formation of our home galaxy to the big picture of disk formation in the Universe.         |\n",
       "|<p style=\"color:green\"> **ERROR** </p>| <p style=\"color:green\">affiliation error: mpia.affiliation_verifications: '69117' keyword not found.</p> |"
      ],
      "text/plain": [
       "<IPython.core.display.Markdown object>"
      ]
     },
     "metadata": {},
     "output_type": "display_data"
    },
    {
     "data": {
      "text/markdown": [
       "\n",
       "|||\n",
       "|---:|:---|\n",
       "| [![arXiv](https://img.shields.io/badge/arXiv-2406.11297-b31b1b.svg)](https://arxiv.org/abs/2406.11297) | **Parameter effects on the total intensity of H I Ly{\\alpha} line for a modelled coronal mass ejection and its driven shock**  |\n",
       "|| B. Ying, et al. -- incl., <mark>S. Li</mark> |\n",
       "|*Appeared on*| *2024-06-18*|\n",
       "|*Comments*| *22 pages, 9 figures, accepted by Solar Physics*|\n",
       "|**Abstract**|            The combination of the H I Ly{\\alpha} (121.6 nm) line formation mechanism with ultraviolet (UV) Ly{\\alpha} and white-light (WL) observations provides an effective method for determining the electron temperature of coronal mass ejections (CMEs). A key to ensuring the accuracy of this diagnostic technique is the precise calculation of theoretical Ly{\\alpha} intensities. This study performs a modelled CME and its driven shock via the 3D MHD simulation. We generate synthetic UV and WL images of the CME and shock to quantify the impact of different assumptions on theoretical Ly{\\alpha} intensities, such as the incident intensity of the Ly{\\alpha} line (Idisk), the geometric scattering function (p({\\theta})), and the kinetic temperature (Tn) assumed to be equal to the proton (Tp) or electron (Te) temperatures. By comparing differences of the Ly{\\alpha} intensities under these assumptions, we find that: (1) Using the uniform or Carrington maps of the disk Ly{\\alpha} emission underestimates the corona Ly{\\alpha} intensity (< 10%) compared to the synchronic map, except for a slight overestimate (< 4%) in the partial CME core. The Carrington map yields lower uncertainties than the uniform disk. (2) The geometric scattering process has a minor impact on the Ly{\\alpha} intensity, with a maximum relative uncertainty of < 5%. The Ly{\\alpha} intensity is underestimated for the most part but overestimated in the CME core. (3) Compared to the assumption Tn = Tp, using Tn = Te leads to more complex relative uncertainties in CME Ly{\\alpha} intensity. The CME core and void are both overestimated, with the maximum uncertainty in the core exceeding 50% and the void remaining below 35%. In the CME front, both over- and under-estimates exist with relative uncertainties of < 35%. The electron temperature assumption has a smaller impact on the shock, with an underestimated relative uncertainty of less than 20%.         |\n",
       "|<p style=\"color:green\"> **ERROR** </p>| <p style=\"color:green\">affiliation error: mpia.affiliation_verifications: 'Heidelberg' keyword not found.</p> |"
      ],
      "text/plain": [
       "<IPython.core.display.Markdown object>"
      ]
     },
     "metadata": {},
     "output_type": "display_data"
    },
    {
     "data": {
      "text/markdown": [
       "\n",
       "|||\n",
       "|---:|:---|\n",
       "| [![arXiv](https://img.shields.io/badge/arXiv-2406.11602-b31b1b.svg)](https://arxiv.org/abs/2406.11602) | **Association between a Failed Prominence Eruption and the Drainage of Mass from Another Prominence**  |\n",
       "|| J. Xue, et al. -- incl., <mark>J. Li</mark>, <mark>S. Li</mark> |\n",
       "|*Appeared on*| *2024-06-18*|\n",
       "|*Comments*| *15 pages, 7 figures, has been accepted by Solar Physics*|\n",
       "|**Abstract**|            Sympathetic eruptions of solar prominences have been studied for decades, however, it is usually difficult to identify their causal links. Here we present two failed prominence eruptions on 26 October 2022 and explore their connections. Using stereoscopic observations, the south prominence (PRO-S) erupts with untwisting motions, flare ribbons occur underneath, and new connections are formed during the eruption. The north prominence (PRO-N) rises up along with PRO-S, and its upper part disappears due to catastrophic mass draining along an elongated structure after PRO-S failed eruption. We suggest that the eruption of PRO-S initiates due to a kink instability, further rises up, and fails to erupt due to reconnection with surrounding fields. The elongated structure connecting PRO-N overlies PRO-S, which causes the rising up of PRO-N along with PRO-S and mass drainage after PRO-S eruption. This study suggests that a prominence may end its life through mass drainage forced by an eruption underneath.         |\n",
       "|<p style=\"color:green\"> **ERROR** </p>| <p style=\"color:green\">affiliation error: mpia.affiliation_verifications: 'Heidelberg' keyword not found.</p> |"
      ],
      "text/plain": [
       "<IPython.core.display.Markdown object>"
      ]
     },
     "metadata": {},
     "output_type": "display_data"
    },
    {
     "data": {
      "text/markdown": [
       "\n",
       "|||\n",
       "|---:|:---|\n",
       "| [![arXiv](https://img.shields.io/badge/arXiv-2406.11800-b31b1b.svg)](https://arxiv.org/abs/2406.11800) | **Magnetic field in mini starburst complex Sgr B2**  |\n",
       "|| X. Pan, et al. -- incl., <mark>J. Liu</mark> |\n",
       "|*Appeared on*| *2024-06-18*|\n",
       "|*Comments*| *17 pages, 4 figures, accepted for publication in ApJ*|\n",
       "|**Abstract**|            We report the first arcsecond-resolution observations of the magnetic field in the mini starburst complex Sgr B2. SMA polarization observations revealed magnetic field morphology in three dense cores of Sgr B2 N(orth), M(ain), and S(outh). The total plane-of-sky magnetic field strengths in these cores are estimated to be 4.3-10.0 mG, 6.2-14.7 mG, and 1.9-4.5 mG derived from the angular dispersion function method after applying the correction factors of 0.21 and 0.5. Combining with analyses of the parsec-scale polarization data from SOFIA, we found that a magnetically supercritical condition is present from the cloud-scale ($\\sim$10 pc) to core-scale ($\\sim$0.2 pc) in Sgr B2, which is consistent with the burst of star formation activities in the region likely resulted from a multi-scale gravitational collapse from the cloud to dense cores.         |\n",
       "|<p style=\"color:green\"> **ERROR** </p>| <p style=\"color:green\">affiliation error: mpia.affiliation_verifications: 'Heidelberg' keyword not found.</p> |"
      ],
      "text/plain": [
       "<IPython.core.display.Markdown object>"
      ]
     },
     "metadata": {},
     "output_type": "display_data"
    },
    {
     "data": {
      "text/markdown": [
       "\n",
       "|||\n",
       "|---:|:---|\n",
       "| [![arXiv](https://img.shields.io/badge/arXiv-2406.10547-b31b1b.svg)](https://arxiv.org/abs/2406.10547) | **Four microlensing giant planets detected through signals produced by minor-image perturbations**  |\n",
       "|| C. Han, et al. |\n",
       "|*Appeared on*| *2024-06-18*|\n",
       "|*Comments*| *10 pages, 12 figures, 7 tables*|\n",
       "|**Abstract**|            We investigated the nature of the anomalies appearing in four microlensing events KMT-2020-BLG-0757, KMT-2022-BLG-0732, KMT-2022-BLG-1787, and KMT-2022-BLG-1852. The light curves of these events commonly exhibit initial bumps followed by subsequent troughs that extend across a substantial portion of the light curves. We performed thorough modeling of the anomalies to elucidate their characteristics. Despite their prolonged durations, which differ from the usual brief anomalies observed in typical planetary events, our analysis revealed that each anomaly in these events originated from a planetary companion located within the Einstein ring of the primary star. It was found that the initial bump arouse when the source star crossed one of the planetary caustics, while the subsequent trough feature occurred as the source traversed the region of minor image perturbations lying between the pair of planetary caustics. The estimated masses of the host and planet, their mass ratios, and the distance to the discovered planetary systems are $(M_{\\rm host}/M_\\odot, M_{\\rm planet}/M_{\\rm J}, q/10^{-3}, \\dl/{\\rm kpc}) = (0.58^{+0.33}_{-0.30}, 10.71^{+6.17}_{-5.61}, 17.61\\pm 2.25,6.67^{+0.93}_{-1.30})$ for KMT-2020-BLG-0757, $(0.53^{+0.31}_{-0.31}, 1.12^{+0.65}_{-0.65}, 2.01 \\pm 0.07, 6.66^{+1.19}_{-1.84})$ for KMT-2022-BLG-0732, $(0.42^{+0.32}_{-0.23}, 6.64^{+4.98}_{-3.64}, 15.07\\pm 0.86, 7.55^{+0.89}_{-1.30})$ for KMT-2022-BLG-1787, and $(0.32^{+0.34}_{-0.19}, 4.98^{+5.42}_{-2.94}, 8.74\\pm 0.49, 6.27^{+0.90}_{-1.15})$ for KMT-2022-BLG-1852. These parameters indicate that all the planets are giants with masses exceeding the mass of Jupiter in our solar system and the hosts are low-mass stars with masses substantially less massive than the Sun.         |\n",
       "|<p style=\"color:red\"> **ERROR** </p>| <p style=\"color:red\">latex error Unable to locate Ghostscript on paths</p> |"
      ],
      "text/plain": [
       "<IPython.core.display.Markdown object>"
      ]
     },
     "metadata": {},
     "output_type": "display_data"
    }
   ],
   "source": [
    "import datetime\n",
    "today = str(datetime.date.today())\n",
    "logfile = f\"_build/html/logs/log-{today}.md\"\n",
    "\n",
    "\n",
    "with open(logfile, 'w') as logs:\n",
    "    # Success\n",
    "    logs.write(f'# Arxiv on Deck 2: Logs - {today}\\n\\n')\n",
    "    logs.write(\"\"\"* Arxiv had {0:,d} new papers\\n\"\"\".format(len(new_papers)))\n",
    "    logs.write(\"\"\"    * {0:,d} with possible author matches\\n\\n\"\"\".format(len(candidates)))\n",
    "    logs.write(\"## Sucessful papers\\n\\n\")\n",
    "    display(Markdown(\"## Successful papers\"))\n",
    "    success = [k[0] for k in documents]\n",
    "    for candid in candidates:\n",
    "        if candid['identifier'].split(':')[-1] in success:\n",
    "            display(candid)\n",
    "            logs.write(candid.generate_markdown_text() + '\\n\\n')\n",
    "\n",
    "    ## failed\n",
    "    logs.write(\"## Failed papers\\n\\n\")\n",
    "    display(Markdown(\"## Failed papers\"))\n",
    "    failed = sorted(failed, key=lambda x: x[1])\n",
    "    current_reason = \"\"\n",
    "    for paper, reason in failed:\n",
    "        if 'affiliation' in reason:\n",
    "            color = 'green'\n",
    "        else:\n",
    "            color = 'red'\n",
    "        data = Markdown(\n",
    "                paper.generate_markdown_text() + \n",
    "                f'\\n|<p style=\"color:{color:s}\"> **ERROR** </p>| <p style=\"color:{color:s}\">{reason:s}</p> |'\n",
    "               )\n",
    "        if reason != current_reason:\n",
    "            logs.write(f'### {reason:s} \\n\\n')\n",
    "            current_reason = reason\n",
    "        logs.write(data.data + '\\n\\n')\n",
    "        \n",
    "        # only display here the important errors (all in logs)\n",
    "        # if color in ('red',):\n",
    "        display(data)"
   ]
  },
  {
   "cell_type": "markdown",
   "id": "472d20ee",
   "metadata": {
    "papermill": {
     "duration": 0.004814,
     "end_time": "2024-06-18T04:09:53.875608",
     "exception": false,
     "start_time": "2024-06-18T04:09:53.870794",
     "status": "completed"
    },
    "tags": []
   },
   "source": [
    "## Export documents\n",
    "\n",
    "We now write the .md files and export relevant images"
   ]
  },
  {
   "cell_type": "code",
   "execution_count": 7,
   "id": "d426aed9",
   "metadata": {
    "execution": {
     "iopub.execute_input": "2024-06-18T04:09:53.886736Z",
     "iopub.status.busy": "2024-06-18T04:09:53.886185Z",
     "iopub.status.idle": "2024-06-18T04:09:53.893493Z",
     "shell.execute_reply": "2024-06-18T04:09:53.892872Z"
    },
    "papermill": {
     "duration": 0.01448,
     "end_time": "2024-06-18T04:09:53.894853",
     "exception": false,
     "start_time": "2024-06-18T04:09:53.880373",
     "status": "completed"
    },
    "tags": []
   },
   "outputs": [],
   "source": [
    "def export_markdown_summary(md: str, md_fname:str, directory: str):\n",
    "    \"\"\"Export MD document and associated relevant images\"\"\"\n",
    "    import os\n",
    "    import shutil\n",
    "    import re\n",
    "\n",
    "    if (os.path.exists(directory) and not os.path.isdir(directory)):\n",
    "        raise RuntimeError(f\"a non-directory file exists with name {directory:s}\")\n",
    "\n",
    "    if (not os.path.exists(directory)):\n",
    "        print(f\"creating directory {directory:s}\")\n",
    "        os.mkdir(directory)\n",
    "\n",
    "    fig_fnames = (re.compile(r'\\[Fig.*\\]\\((.*)\\)').findall(md) + \n",
    "                  re.compile(r'\\<img src=\"([^>\\s]*)\"[^>]*/>').findall(md))\n",
    "    print(\"found figures\", fig_fnames)\n",
    "    for fname in fig_fnames:\n",
    "        if 'http' in fname:\n",
    "            # No need to copy online figures\n",
    "            continue\n",
    "        if not os.path.exists(fname):\n",
    "            print(\"file not found\", fname)\n",
    "            continue\n",
    "        print(\"copying \", fname, \"to\", directory)\n",
    "        destdir = os.path.join(directory, os.path.dirname(fname))\n",
    "        destfname = os.path.join(destdir, os.path.basename(fname))\n",
    "        try:\n",
    "            os.makedirs(destdir)\n",
    "        except FileExistsError:\n",
    "            pass\n",
    "        shutil.copy(fname, destfname)\n",
    "    with open(os.path.join(directory, md_fname), 'w') as fout:\n",
    "        fout.write(md)\n",
    "    print(\"exported in \", os.path.join(directory, md_fname))\n",
    "    [print(\"    + \" + os.path.join(directory,fk)) for fk in fig_fnames]"
   ]
  },
  {
   "cell_type": "code",
   "execution_count": 8,
   "id": "014d04a4",
   "metadata": {
    "execution": {
     "iopub.execute_input": "2024-06-18T04:09:53.906420Z",
     "iopub.status.busy": "2024-06-18T04:09:53.905951Z",
     "iopub.status.idle": "2024-06-18T04:09:53.914502Z",
     "shell.execute_reply": "2024-06-18T04:09:53.913917Z"
    },
    "papermill": {
     "duration": 0.015806,
     "end_time": "2024-06-18T04:09:53.915802",
     "exception": false,
     "start_time": "2024-06-18T04:09:53.899996",
     "status": "completed"
    },
    "tags": []
   },
   "outputs": [
    {
     "name": "stdout",
     "output_type": "stream",
     "text": [
      "found figures ['tmp_2406.10335/./FiguresPaper2/InnerOuter.png', 'tmp_2406.10335/./FiguresPaper2/zCrit.png', 'tmp_2406.10335/./FiguresPaper2/DtG_tNLTE.png']\n",
      "copying  tmp_2406.10335/./FiguresPaper2/InnerOuter.png to _build/html/\n",
      "copying  tmp_2406.10335/./FiguresPaper2/zCrit.png to _build/html/\n",
      "copying  tmp_2406.10335/./FiguresPaper2/DtG_tNLTE.png to _build/html/\n",
      "exported in  _build/html/2406.10335.md\n",
      "    + _build/html/tmp_2406.10335/./FiguresPaper2/InnerOuter.png\n",
      "    + _build/html/tmp_2406.10335/./FiguresPaper2/zCrit.png\n",
      "    + _build/html/tmp_2406.10335/./FiguresPaper2/DtG_tNLTE.png\n"
     ]
    }
   ],
   "source": [
    "for paper_id, md in documents:\n",
    "    export_markdown_summary(md, f\"{paper_id:s}.md\", '_build/html/')"
   ]
  },
  {
   "cell_type": "markdown",
   "id": "f087a0a7",
   "metadata": {
    "papermill": {
     "duration": 0.004828,
     "end_time": "2024-06-18T04:09:53.925679",
     "exception": false,
     "start_time": "2024-06-18T04:09:53.920851",
     "status": "completed"
    },
    "tags": []
   },
   "source": [
    "## Display the papers\n",
    "\n",
    "Not necessary but allows for a quick check."
   ]
  },
  {
   "cell_type": "code",
   "execution_count": 9,
   "id": "fd25f625",
   "metadata": {
    "execution": {
     "iopub.execute_input": "2024-06-18T04:09:53.936873Z",
     "iopub.status.busy": "2024-06-18T04:09:53.936374Z",
     "iopub.status.idle": "2024-06-18T04:09:53.941421Z",
     "shell.execute_reply": "2024-06-18T04:09:53.940718Z"
    },
    "papermill": {
     "duration": 0.012233,
     "end_time": "2024-06-18T04:09:53.942773",
     "exception": false,
     "start_time": "2024-06-18T04:09:53.930540",
     "status": "completed"
    },
    "scrolled": false,
    "tags": []
   },
   "outputs": [
    {
     "data": {
      "text/markdown": [
       "<div class=\"macros\" style=\"visibility:hidden;\">\n",
       "$\\newcommand{\\ensuremath}{}$\n",
       "$\\newcommand{\\xspace}{}$\n",
       "$\\newcommand{\\object}[1]{\\texttt{#1}}$\n",
       "$\\newcommand{\\farcs}{{.}''}$\n",
       "$\\newcommand{\\farcm}{{.}'}$\n",
       "$\\newcommand{\\arcsec}{''}$\n",
       "$\\newcommand{\\arcmin}{'}$\n",
       "$\\newcommand{\\ion}[2]{#1#2}$\n",
       "$\\newcommand{\\textsc}[1]{\\textrm{#1}}$\n",
       "$\\newcommand{\\hl}[1]{\\textrm{#1}}$\n",
       "$\\newcommand{\\footnote}[1]{}$\n",
       "$\\newcommand{\\rhog}{\\rho_{\\mathrm{g}}}$\n",
       "$\\newcommand{\\rhod}{\\rho_{\\mathrm{d}}}$\n",
       "$\\newcommand{\\vg}{\\vec{v}_{\\mathrm{g}}}$\n",
       "$\\newcommand{\\vd}{\\vec{v}_{\\mathrm{d}}}$\n",
       "$\\newcommand{\\amax}{a_{\\mathrm{max}}}$\n",
       "$\\newcommand{\\amin}{a_{\\mathrm{min}}}$\n",
       "$\\newcommand{\\aint}{a_{\\mathrm{int}}}$\n",
       "$\\newcommand{\\adr}{a_{\\mathrm{dr}}}$\n",
       "$\\newcommand{\\vdr}{v_{\\mathrm{dr}}}$\n",
       "$\\newcommand{\\tfr}{t_\\mathrm{fric}}$\n",
       "$\\newcommand{\\St}{\\mathrm{St}}$\n",
       "$\\newcommand{\\Rey}{\\mathrm{Re}}$\n",
       "$\\newcommand{\\OmK}{\\Omega_\\text{K}}$\n",
       "$\\newcommand{\\der}[2]{\\frac{\\partial{#1}}{\\partial{#2}}}$\n",
       "$\\newcommand{\\hd}{h_{\\mathrm{d}}}$\n",
       "$\\newcommand{\\Mp}{m_{\\mathrm{p}}}$\n",
       "$\\newcommand{\\Sd}{\\Sigma_{\\mathrm{d}}}$\n",
       "$\\newcommand{\\dpy}{\\texttt{DustPy}}$\n",
       "$\\newcommand{\\pluto}{\\texttt{PLUTO}}$\n",
       "$\\newcommand{\\tpop}{\\texttt{2pop}}$\n",
       "$\\newcommand{\\rev}[1]{{#1}}$\n",
       "$\\newcommand{\\revII}[1]{{#1}}$\n",
       "$\\newcommand{\\reportI}[1]{{#1}}$\n",
       "$\\newcommand{\\corrected}[1]{{#1}}$</div>\n",
       "\n",
       "\n",
       "\n",
       "<div id=\"title\">\n",
       "\n",
       "# $\\revII{Vertical shear instability with dust evolution and \\ consistent cooling times}$\n",
       "\n",
       "</div>\n",
       "<div id=\"comments\">\n",
       "\n",
       "[![arXiv](https://img.shields.io/badge/arXiv-2406.10335-b31b1b.svg)](https://arxiv.org/abs/2406.10335)<mark>Appeared on: 2024-06-18</mark> -  _6 pages, 3 figures, accepted for publication as a Letter to the Editor in Astronomy and Astrophysics_\n",
       "\n",
       "</div>\n",
       "<div id=\"authors\">\n",
       "\n",
       "<mark>T. Pfeil</mark>, T. Birnstiel, <mark>H. Klahr</mark>\n",
       "\n",
       "</div>\n",
       "<div id=\"abstract\">\n",
       "\n",
       "**Abstract:** Gas in protoplanetary disks mostly cools via thermal accommodation with dust particles. Thermal relaxation is thus highly sensitive to the local dust size distributions and the spatial distribution of the grains. $\\revII{So far, the interplay between thermal relaxation and gas turbulence has not been dynamically modeled in hydrodynamic simulations of protoplanetary disks with dust.}$ $\\revII{We aim to study the effects of the vertical shear instability (VSI) on the thermal relaxation times, and vice versa. We are particularly interested in the influence of the initial dust grain size on the VSI and whether the emerging turbulence is sustained over long timescales.}$ We ran three axisymmetric hydrodynamic simulations of a protoplanetary disk including four dust fluids that initially resemble MRN size distributions of different initial grain sizes. From the local dust densities, we calculated the thermal accommodation timescale of dust and gas and used the result as the thermal relaxation time of the gas in our simulation. We included the effect of dust growth by applying the monodisperse dust growth rate and the typical growth limits. We find that the emergence of the VSI is strongly dependent on the initial dust grain size. Coagulation also counteracts the emergence of hydrodynamic turbulence in our simulations, as shown by others before. Starting a simulation with larger grains ( $\\SI{100}{\\micro \\meter}$ ) generally leads to a less turbulent outcome. While the inner disk regions (within $\\sim \\SI{70}{au}$ ) develop turbulence in all three simulations, we find that the simulations with larger particles do not develop VSI in the outer disk. $\\revII{Our simulations with dynamically calculated thermal accommodation times based on the drifting and settling dust distribution}$ show that the VSI, once developed in a disk, can be sustained over long timescales, even if grain growth is occurring. The VSI corrugates the dust layer and even diffuses the smaller grains into the upper atmosphere, where they can cool the gas. Whether the instability can emerge $\\revII{for a specific stratification}$ depends on the initial dust grain sizes and the initial dust scale height. If the grains are initially $\\gtrsim \\SI{100}{\\micro \\meter}$ and if the level of turbulence is initially assumed to be low, we find $\\reportI{no VSI turbulence}$ in the outer disk regions.\n",
       "\n",
       "</div>\n",
       "\n",
       "<div id=\"div_fig1\">\n",
       "\n",
       "<img src=\"tmp_2406.10335/./FiguresPaper2/InnerOuter.png\" alt=\"Fig1\" width=\"100%\"/>\n",
       "\n",
       "**Figure 1. -** Averaged dust-to-gas ratios and thermal relaxation times in the inner and outer disk.Dust-to-gas ratios and thermal relaxation times radially averaged over the \\SIrange{30}{55}{au} inner region and the \\SIrange{115}{150}{au} outer region of our simulations. As the VSI develops, it keeps the dust particle at high altitudes and thus retains the necessary cooling times in the inner disk. The outer regions, however, are mostly sedimenting, as the VSI is not active there, except for the case with the smallest initial particle size. (*fig:InnerDisk*)\n",
       "\n",
       "</div>\n",
       "<div id=\"div_fig2\">\n",
       "\n",
       "<img src=\"tmp_2406.10335/./FiguresPaper2/zCrit.png\" alt=\"Fig2\" width=\"100%\"/>\n",
       "\n",
       "**Figure 2. -** Evolution of the critical VSI height.Evolution of the vertical extend of the VSI susceptible region as a function of time and radius. In the inner disk, VSI quickly develops and stabilizes the settling dust layer in less than \\SI{50000}{yr}. In the outer disk, VSI has not yet developed in our simulations. The thin lines show comparison simulations in which the VSI is artificially suppressed. (*fig:zCrit*)\n",
       "\n",
       "</div>\n",
       "<div id=\"div_fig3\">\n",
       "\n",
       "<img src=\"tmp_2406.10335/./FiguresPaper2/DtG_tNLTE.png\" alt=\"Fig3\" width=\"100%\"/>\n",
       "\n",
       "**Figure 3. -** Dust-to-gas ratios and thermal relaxation times.Snapshots after $\\sim$\\SI{350000}{yr} of our protoplanetary disk simulations with thermal accommodation times $\\rev$II{calculated from the dust distribution for three different initial particle sizes}. Simulations initialized with larger particles and thus more settled dust layers are mostly not VSI active in the outer disk regions. If the VSI, however, can develop in the first place, it can stabilize the dust layer and sustain itself, even if grain growth is considered. (*fig:DtG_tNLTE*)\n",
       "\n",
       "</div><div id=\"qrcode\"><img src=https://api.qrserver.com/v1/create-qr-code/?size=100x100&data=\"https://arxiv.org/abs/2406.10335\"></div>"
      ],
      "text/plain": [
       "<IPython.core.display.Markdown object>"
      ]
     },
     "metadata": {},
     "output_type": "display_data"
    }
   ],
   "source": [
    "[display(Markdown(k[1])) for k in documents];"
   ]
  },
  {
   "cell_type": "markdown",
   "id": "873873a4",
   "metadata": {
    "papermill": {
     "duration": 0.005101,
     "end_time": "2024-06-18T04:09:53.953183",
     "exception": false,
     "start_time": "2024-06-18T04:09:53.948082",
     "status": "completed"
    },
    "tags": []
   },
   "source": [
    "# Create HTML index"
   ]
  },
  {
   "cell_type": "code",
   "execution_count": 10,
   "id": "cf665672",
   "metadata": {
    "execution": {
     "iopub.execute_input": "2024-06-18T04:09:53.964800Z",
     "iopub.status.busy": "2024-06-18T04:09:53.964318Z",
     "iopub.status.idle": "2024-06-18T04:09:53.971484Z",
     "shell.execute_reply": "2024-06-18T04:09:53.970911Z"
    },
    "papermill": {
     "duration": 0.014499,
     "end_time": "2024-06-18T04:09:53.972777",
     "exception": false,
     "start_time": "2024-06-18T04:09:53.958278",
     "status": "completed"
    },
    "tags": []
   },
   "outputs": [
    {
     "name": "stdout",
     "output_type": "stream",
     "text": [
      "97  publications files modified in the last 7 days.\n"
     ]
    }
   ],
   "source": [
    "from datetime import datetime, timedelta, timezone\n",
    "from glob import glob\n",
    "import os\n",
    "\n",
    "files = glob('_build/html/*.md')\n",
    "days = 7\n",
    "now = datetime.today()\n",
    "res = []\n",
    "for fk in files:\n",
    "    stat_result = os.stat(fk).st_ctime\n",
    "    modified = datetime.fromtimestamp(stat_result, tz=timezone.utc).replace(tzinfo=None)\n",
    "    delta = now.today() - modified\n",
    "    if delta <= timedelta(days=days):\n",
    "        res.append((delta.seconds, fk))\n",
    "res = [k[1] for k in reversed(sorted(res, key=lambda x:x[1]))]\n",
    "npub = len(res)\n",
    "print(len(res), f\" publications files modified in the last {days:d} days.\")\n",
    "# [ print('\\t', k) for k in res ];"
   ]
  },
  {
   "cell_type": "code",
   "execution_count": 11,
   "id": "015de740",
   "metadata": {
    "execution": {
     "iopub.execute_input": "2024-06-18T04:09:53.984376Z",
     "iopub.status.busy": "2024-06-18T04:09:53.984104Z",
     "iopub.status.idle": "2024-06-18T04:09:53.996592Z",
     "shell.execute_reply": "2024-06-18T04:09:53.995850Z"
    },
    "papermill": {
     "duration": 0.019993,
     "end_time": "2024-06-18T04:09:53.998078",
     "exception": false,
     "start_time": "2024-06-18T04:09:53.978085",
     "status": "completed"
    },
    "tags": []
   },
   "outputs": [
    {
     "name": "stdout",
     "output_type": "stream",
     "text": [
      "8  publications in the last 7 days.\n"
     ]
    }
   ],
   "source": [
    "import datetime\n",
    "from glob import glob\n",
    "\n",
    "def get_last_n_days(lst, days=1):\n",
    "    \"\"\" Get the documents from the last n days \"\"\"\n",
    "    sorted_lst = sorted(lst, key=lambda x: x[1], reverse=True)\n",
    "    for fname, date in sorted_lst:\n",
    "        if date >= str(datetime.date.today() - datetime.timedelta(days=days)):\n",
    "            yield fname\n",
    "\n",
    "def extract_appearance_dates(lst_file):\n",
    "    dates = []\n",
    "\n",
    "    def get_date(line):\n",
    "        return line\\\n",
    "            .split('Appeared on:')[-1]\\\n",
    "            .split('</mark>')[0].strip()\n",
    "\n",
    "    for fname in lst:\n",
    "        with open(fname, 'r') as f:\n",
    "            found_date = False\n",
    "            for line in f:\n",
    "                if not found_date:\n",
    "                    if \"Appeared on\" in line:\n",
    "                        found_date = True\n",
    "                        dates.append((fname, get_date(line)))\n",
    "                else:\n",
    "                    break\n",
    "    return dates\n",
    "\n",
    "from glob import glob\n",
    "lst = glob('_build/html/*md')\n",
    "days = 7\n",
    "dates = extract_appearance_dates(lst)\n",
    "res = list(get_last_n_days(dates, days))\n",
    "npub = len(res)\n",
    "print(len(res), f\" publications in the last {days:d} days.\")"
   ]
  },
  {
   "cell_type": "code",
   "execution_count": 12,
   "id": "52ca0208",
   "metadata": {
    "execution": {
     "iopub.execute_input": "2024-06-18T04:09:54.011125Z",
     "iopub.status.busy": "2024-06-18T04:09:54.010597Z",
     "iopub.status.idle": "2024-06-18T04:09:54.016415Z",
     "shell.execute_reply": "2024-06-18T04:09:54.015655Z"
    },
    "papermill": {
     "duration": 0.014161,
     "end_time": "2024-06-18T04:09:54.017853",
     "exception": false,
     "start_time": "2024-06-18T04:09:54.003692",
     "status": "completed"
    },
    "scrolled": false,
    "tags": []
   },
   "outputs": [],
   "source": [
    "def create_carousel(npub=4):\n",
    "    \"\"\" Generate the HTML code for a carousel with `npub` slides \"\"\"\n",
    "    carousel = [\"\"\"  <div class=\"carousel\" \"\"\",\n",
    "                \"\"\"       data-flickity='{ \"autoPlay\": 10000, \"adaptiveHeight\": true, \"resize\": true, \"wrapAround\": true, \"pauseAutoPlayOnHover\": true, \"groupCells\": 1 }' id=\"asyncTypeset\">\"\"\"\n",
    "                ]\n",
    "    \n",
    "    item_str = \"\"\"    <div class=\"carousel-cell\"> <div id=\"slide{k}\" class=\"md_view\">Content {k}</div> </div>\"\"\"\n",
    "    for k in range(1, npub + 1):\n",
    "        carousel.append(item_str.format(k=k))\n",
    "    carousel.append(\"  </div>\")\n",
    "    return '\\n'.join(carousel)\n",
    "\n",
    "def create_grid(npub=4):\n",
    "    \"\"\" Generate the HTML code for a flat grid with `npub` slides \"\"\"\n",
    "    grid = [\"\"\"  <div class=\"grid\"> \"\"\",\n",
    "                ]\n",
    "    \n",
    "    item_str = \"\"\"    <div class=\"grid-item\"> <div id=\"slide{k}\" class=\"md_view\">Content {k}</div> </div>\"\"\"\n",
    "    for k in range(1, npub + 1):\n",
    "        grid.append(item_str.format(k=k))\n",
    "    grid.append(\"  </div>\")\n",
    "    return '\\n'.join(grid)"
   ]
  },
  {
   "cell_type": "code",
   "execution_count": 13,
   "id": "a6eac5b6",
   "metadata": {
    "execution": {
     "iopub.execute_input": "2024-06-18T04:09:54.030593Z",
     "iopub.status.busy": "2024-06-18T04:09:54.029980Z",
     "iopub.status.idle": "2024-06-18T04:09:54.035470Z",
     "shell.execute_reply": "2024-06-18T04:09:54.034828Z"
    },
    "papermill": {
     "duration": 0.013485,
     "end_time": "2024-06-18T04:09:54.036960",
     "exception": false,
     "start_time": "2024-06-18T04:09:54.023475",
     "status": "completed"
    },
    "scrolled": false,
    "tags": []
   },
   "outputs": [],
   "source": [
    "carousel = create_carousel(npub)\n",
    "docs = ', '.join(['\"{0:s}\"'.format(k.split('/')[-1]) for k in res])\n",
    "slides = ', '.join([f'\"slide{k}\"' for k in range(1, npub + 1)])\n",
    "\n",
    "with open(\"daily_template.html\", \"r\") as tpl:\n",
    "    page = tpl.read()\n",
    "    page = page.replace(\"{%-- carousel:s --%}\", carousel)\\\n",
    "               .replace(\"{%-- suptitle:s --%}\",  \"7-day archives\" )\\\n",
    "               .replace(\"{%-- docs:s --%}\", docs)\\\n",
    "               .replace(\"{%-- slides:s --%}\", slides)\n",
    "    \n",
    "with open(\"_build/html/index_7days.html\", 'w') as fout:\n",
    "    fout.write(page)"
   ]
  },
  {
   "cell_type": "code",
   "execution_count": 14,
   "id": "adc1a1ec",
   "metadata": {
    "execution": {
     "iopub.execute_input": "2024-06-18T04:09:54.050212Z",
     "iopub.status.busy": "2024-06-18T04:09:54.049724Z",
     "iopub.status.idle": "2024-06-18T04:09:54.057086Z",
     "shell.execute_reply": "2024-06-18T04:09:54.056313Z"
    },
    "papermill": {
     "duration": 0.016666,
     "end_time": "2024-06-18T04:09:54.059170",
     "exception": false,
     "start_time": "2024-06-18T04:09:54.042504",
     "status": "completed"
    },
    "tags": []
   },
   "outputs": [
    {
     "name": "stdout",
     "output_type": "stream",
     "text": [
      "1  publications in the last day.\n"
     ]
    }
   ],
   "source": [
    "# redo for today\n",
    "days = 1\n",
    "res = list(get_last_n_days(dates, days))\n",
    "npub = len(res)\n",
    "print(len(res), f\" publications in the last day.\")\n",
    "\n",
    "carousel = create_carousel(npub)\n",
    "docs = ', '.join(['\"{0:s}\"'.format(k.split('/')[-1]) for k in res])\n",
    "slides = ', '.join([f'\"slide{k}\"' for k in range(1, npub + 1)])\n",
    "\n",
    "with open(\"daily_template.html\", \"r\") as tpl:\n",
    "    page = tpl.read()\n",
    "    page = page.replace(\"{%-- carousel:s --%}\", carousel)\\\n",
    "               .replace(\"{%-- suptitle:s --%}\",  \"Daily\" )\\\n",
    "               .replace(\"{%-- docs:s --%}\", docs)\\\n",
    "               .replace(\"{%-- slides:s --%}\", slides)\n",
    "    \n",
    "# print(carousel, docs, slides)\n",
    "# print(page)\n",
    "with open(\"_build/html/index_daily.html\", 'w') as fout:\n",
    "    fout.write(page)"
   ]
  },
  {
   "cell_type": "code",
   "execution_count": 15,
   "id": "00eece82",
   "metadata": {
    "execution": {
     "iopub.execute_input": "2024-06-18T04:09:54.074034Z",
     "iopub.status.busy": "2024-06-18T04:09:54.073554Z",
     "iopub.status.idle": "2024-06-18T04:09:54.080754Z",
     "shell.execute_reply": "2024-06-18T04:09:54.080035Z"
    },
    "papermill": {
     "duration": 0.01533,
     "end_time": "2024-06-18T04:09:54.082124",
     "exception": false,
     "start_time": "2024-06-18T04:09:54.066794",
     "status": "completed"
    },
    "scrolled": false,
    "tags": []
   },
   "outputs": [
    {
     "name": "stdout",
     "output_type": "stream",
     "text": [
      "6  6 publications selected.\n"
     ]
    }
   ],
   "source": [
    "# Create the flat grid of the last N papers (fixed number regardless of dates)\n",
    "from itertools import islice \n",
    "\n",
    "npub = 6\n",
    "res = [k[0] for k in (islice(reversed(sorted(dates, key=lambda x: x[1])), 6))]\n",
    "print(len(res), f\" {npub} publications selected.\")\n",
    "\n",
    "grid = create_grid(npub)\n",
    "docs = ', '.join(['\"{0:s}\"'.format(k.split('/')[-1]) for k in res])\n",
    "slides = ', '.join([f'\"slide{k}\"' for k in range(1, npub + 1)])\n",
    "\n",
    "with open(\"grid_template.html\", \"r\") as tpl:\n",
    "    page = tpl.read()\n",
    "    page = page.replace(\"{%-- grid-content:s --%}\", grid)\\\n",
    "               .replace(\"{%-- suptitle:s --%}\",  f\"Last {npub:,d} papers\" )\\\n",
    "               .replace(\"{%-- docs:s --%}\", docs)\\\n",
    "               .replace(\"{%-- slides:s --%}\", slides)\n",
    "    \n",
    "# print(grid, docs, slides)\n",
    "# print(page)\n",
    "with open(\"_build/html/index_npub_grid.html\", 'w') as fout:\n",
    "    fout.write(page)"
   ]
  }
 ],
 "metadata": {
  "kernelspec": {
   "display_name": "Python 3 (ipykernel)",
   "language": "python",
   "name": "python3"
  },
  "language_info": {
   "codemirror_mode": {
    "name": "ipython",
    "version": 3
   },
   "file_extension": ".py",
   "mimetype": "text/x-python",
   "name": "python",
   "nbconvert_exporter": "python",
   "pygments_lexer": "ipython3",
   "version": "3.9.19"
  },
  "papermill": {
   "default_parameters": {},
   "duration": 43.908668,
   "end_time": "2024-06-18T04:09:54.404899",
   "environment_variables": {},
   "exception": null,
   "input_path": "MPIA daily digest.ipynb",
   "output_path": "log.ipynb",
   "parameters": {},
   "start_time": "2024-06-18T04:09:10.496231",
   "version": "2.6.0"
  },
  "vscode": {
   "interpreter": {
    "hash": "aee8b7b246df8f9039afb4144a1f6fd8d2ca17a180786b69acc140d282b71a49"
   }
  },
  "widgets": {
   "application/vnd.jupyter.widget-state+json": {
    "state": {
     "0435eab599af4c0b99141d890b17ceba": {
      "model_module": "@jupyter-widgets/controls",
      "model_module_version": "2.0.0",
      "model_name": "HTMLModel",
      "state": {
       "_dom_classes": [],
       "_model_module": "@jupyter-widgets/controls",
       "_model_module_version": "2.0.0",
       "_model_name": "HTMLModel",
       "_view_count": null,
       "_view_module": "@jupyter-widgets/controls",
       "_view_module_version": "2.0.0",
       "_view_name": "HTMLView",
       "description": "",
       "description_allow_html": false,
       "layout": "IPY_MODEL_f324e52121c741a3bc491299935f2c49",
       "placeholder": "​",
       "style": "IPY_MODEL_901bd33f8c994aebb5518a77ce0d7720",
       "tabbable": null,
       "tooltip": null,
       "value": "100%"
      }
     },
     "1c9b3ad88a7c481ebaa3960f78938095": {
      "model_module": "@jupyter-widgets/controls",
      "model_module_version": "2.0.0",
      "model_name": "HTMLStyleModel",
      "state": {
       "_model_module": "@jupyter-widgets/controls",
       "_model_module_version": "2.0.0",
       "_model_name": "HTMLStyleModel",
       "_view_count": null,
       "_view_module": "@jupyter-widgets/base",
       "_view_module_version": "2.0.0",
       "_view_name": "StyleView",
       "background": null,
       "description_width": "",
       "font_size": null,
       "text_color": null
      }
     },
     "2a12349e67c643798d25fd5e642fcf9a": {
      "model_module": "@jupyter-widgets/base",
      "model_module_version": "2.0.0",
      "model_name": "LayoutModel",
      "state": {
       "_model_module": "@jupyter-widgets/base",
       "_model_module_version": "2.0.0",
       "_model_name": "LayoutModel",
       "_view_count": null,
       "_view_module": "@jupyter-widgets/base",
       "_view_module_version": "2.0.0",
       "_view_name": "LayoutView",
       "align_content": null,
       "align_items": null,
       "align_self": null,
       "border_bottom": null,
       "border_left": null,
       "border_right": null,
       "border_top": null,
       "bottom": null,
       "display": null,
       "flex": null,
       "flex_flow": null,
       "grid_area": null,
       "grid_auto_columns": null,
       "grid_auto_flow": null,
       "grid_auto_rows": null,
       "grid_column": null,
       "grid_gap": null,
       "grid_row": null,
       "grid_template_areas": null,
       "grid_template_columns": null,
       "grid_template_rows": null,
       "height": null,
       "justify_content": null,
       "justify_items": null,
       "left": null,
       "margin": null,
       "max_height": null,
       "max_width": null,
       "min_height": null,
       "min_width": null,
       "object_fit": null,
       "object_position": null,
       "order": null,
       "overflow": null,
       "padding": null,
       "right": null,
       "top": null,
       "visibility": null,
       "width": null
      }
     },
     "2a826e29af2f4b8da93e298ed0b307df": {
      "model_module": "@jupyter-widgets/controls",
      "model_module_version": "2.0.0",
      "model_name": "HBoxModel",
      "state": {
       "_dom_classes": [],
       "_model_module": "@jupyter-widgets/controls",
       "_model_module_version": "2.0.0",
       "_model_name": "HBoxModel",
       "_view_count": null,
       "_view_module": "@jupyter-widgets/controls",
       "_view_module_version": "2.0.0",
       "_view_name": "HBoxView",
       "box_style": "",
       "children": [
        "IPY_MODEL_0435eab599af4c0b99141d890b17ceba",
        "IPY_MODEL_77cd608a1b0d4673944f664b34d21d8b",
        "IPY_MODEL_d6edb482529b428ab85f5a9dd2a5d917"
       ],
       "layout": "IPY_MODEL_78269cc5256b47d19e1a2239d442a08f",
       "tabbable": null,
       "tooltip": null
      }
     },
     "77cd608a1b0d4673944f664b34d21d8b": {
      "model_module": "@jupyter-widgets/controls",
      "model_module_version": "2.0.0",
      "model_name": "FloatProgressModel",
      "state": {
       "_dom_classes": [],
       "_model_module": "@jupyter-widgets/controls",
       "_model_module_version": "2.0.0",
       "_model_name": "FloatProgressModel",
       "_view_count": null,
       "_view_module": "@jupyter-widgets/controls",
       "_view_module_version": "2.0.0",
       "_view_name": "ProgressView",
       "bar_style": "success",
       "description": "",
       "description_allow_html": false,
       "layout": "IPY_MODEL_cdcb613e67d24f0fad30cba4580fdd4a",
       "max": 6.0,
       "min": 0.0,
       "orientation": "horizontal",
       "style": "IPY_MODEL_f872c4ea94ee43eb921c44e5435c5ac1",
       "tabbable": null,
       "tooltip": null,
       "value": 6.0
      }
     },
     "78269cc5256b47d19e1a2239d442a08f": {
      "model_module": "@jupyter-widgets/base",
      "model_module_version": "2.0.0",
      "model_name": "LayoutModel",
      "state": {
       "_model_module": "@jupyter-widgets/base",
       "_model_module_version": "2.0.0",
       "_model_name": "LayoutModel",
       "_view_count": null,
       "_view_module": "@jupyter-widgets/base",
       "_view_module_version": "2.0.0",
       "_view_name": "LayoutView",
       "align_content": null,
       "align_items": null,
       "align_self": null,
       "border_bottom": null,
       "border_left": null,
       "border_right": null,
       "border_top": null,
       "bottom": null,
       "display": null,
       "flex": null,
       "flex_flow": null,
       "grid_area": null,
       "grid_auto_columns": null,
       "grid_auto_flow": null,
       "grid_auto_rows": null,
       "grid_column": null,
       "grid_gap": null,
       "grid_row": null,
       "grid_template_areas": null,
       "grid_template_columns": null,
       "grid_template_rows": null,
       "height": null,
       "justify_content": null,
       "justify_items": null,
       "left": null,
       "margin": null,
       "max_height": null,
       "max_width": null,
       "min_height": null,
       "min_width": null,
       "object_fit": null,
       "object_position": null,
       "order": null,
       "overflow": null,
       "padding": null,
       "right": null,
       "top": null,
       "visibility": null,
       "width": null
      }
     },
     "901bd33f8c994aebb5518a77ce0d7720": {
      "model_module": "@jupyter-widgets/controls",
      "model_module_version": "2.0.0",
      "model_name": "HTMLStyleModel",
      "state": {
       "_model_module": "@jupyter-widgets/controls",
       "_model_module_version": "2.0.0",
       "_model_name": "HTMLStyleModel",
       "_view_count": null,
       "_view_module": "@jupyter-widgets/base",
       "_view_module_version": "2.0.0",
       "_view_name": "StyleView",
       "background": null,
       "description_width": "",
       "font_size": null,
       "text_color": null
      }
     },
     "cdcb613e67d24f0fad30cba4580fdd4a": {
      "model_module": "@jupyter-widgets/base",
      "model_module_version": "2.0.0",
      "model_name": "LayoutModel",
      "state": {
       "_model_module": "@jupyter-widgets/base",
       "_model_module_version": "2.0.0",
       "_model_name": "LayoutModel",
       "_view_count": null,
       "_view_module": "@jupyter-widgets/base",
       "_view_module_version": "2.0.0",
       "_view_name": "LayoutView",
       "align_content": null,
       "align_items": null,
       "align_self": null,
       "border_bottom": null,
       "border_left": null,
       "border_right": null,
       "border_top": null,
       "bottom": null,
       "display": null,
       "flex": null,
       "flex_flow": null,
       "grid_area": null,
       "grid_auto_columns": null,
       "grid_auto_flow": null,
       "grid_auto_rows": null,
       "grid_column": null,
       "grid_gap": null,
       "grid_row": null,
       "grid_template_areas": null,
       "grid_template_columns": null,
       "grid_template_rows": null,
       "height": null,
       "justify_content": null,
       "justify_items": null,
       "left": null,
       "margin": null,
       "max_height": null,
       "max_width": null,
       "min_height": null,
       "min_width": null,
       "object_fit": null,
       "object_position": null,
       "order": null,
       "overflow": null,
       "padding": null,
       "right": null,
       "top": null,
       "visibility": null,
       "width": null
      }
     },
     "d6edb482529b428ab85f5a9dd2a5d917": {
      "model_module": "@jupyter-widgets/controls",
      "model_module_version": "2.0.0",
      "model_name": "HTMLModel",
      "state": {
       "_dom_classes": [],
       "_model_module": "@jupyter-widgets/controls",
       "_model_module_version": "2.0.0",
       "_model_name": "HTMLModel",
       "_view_count": null,
       "_view_module": "@jupyter-widgets/controls",
       "_view_module_version": "2.0.0",
       "_view_name": "HTMLView",
       "description": "",
       "description_allow_html": false,
       "layout": "IPY_MODEL_2a12349e67c643798d25fd5e642fcf9a",
       "placeholder": "​",
       "style": "IPY_MODEL_1c9b3ad88a7c481ebaa3960f78938095",
       "tabbable": null,
       "tooltip": null,
       "value": " 6/6 [00:20&lt;00:00,  3.18s/it]"
      }
     },
     "f324e52121c741a3bc491299935f2c49": {
      "model_module": "@jupyter-widgets/base",
      "model_module_version": "2.0.0",
      "model_name": "LayoutModel",
      "state": {
       "_model_module": "@jupyter-widgets/base",
       "_model_module_version": "2.0.0",
       "_model_name": "LayoutModel",
       "_view_count": null,
       "_view_module": "@jupyter-widgets/base",
       "_view_module_version": "2.0.0",
       "_view_name": "LayoutView",
       "align_content": null,
       "align_items": null,
       "align_self": null,
       "border_bottom": null,
       "border_left": null,
       "border_right": null,
       "border_top": null,
       "bottom": null,
       "display": null,
       "flex": null,
       "flex_flow": null,
       "grid_area": null,
       "grid_auto_columns": null,
       "grid_auto_flow": null,
       "grid_auto_rows": null,
       "grid_column": null,
       "grid_gap": null,
       "grid_row": null,
       "grid_template_areas": null,
       "grid_template_columns": null,
       "grid_template_rows": null,
       "height": null,
       "justify_content": null,
       "justify_items": null,
       "left": null,
       "margin": null,
       "max_height": null,
       "max_width": null,
       "min_height": null,
       "min_width": null,
       "object_fit": null,
       "object_position": null,
       "order": null,
       "overflow": null,
       "padding": null,
       "right": null,
       "top": null,
       "visibility": null,
       "width": null
      }
     },
     "f872c4ea94ee43eb921c44e5435c5ac1": {
      "model_module": "@jupyter-widgets/controls",
      "model_module_version": "2.0.0",
      "model_name": "ProgressStyleModel",
      "state": {
       "_model_module": "@jupyter-widgets/controls",
       "_model_module_version": "2.0.0",
       "_model_name": "ProgressStyleModel",
       "_view_count": null,
       "_view_module": "@jupyter-widgets/base",
       "_view_module_version": "2.0.0",
       "_view_name": "StyleView",
       "bar_color": null,
       "description_width": ""
      }
     }
    },
    "version_major": 2,
    "version_minor": 0
   }
  }
 },
 "nbformat": 4,
 "nbformat_minor": 5
}