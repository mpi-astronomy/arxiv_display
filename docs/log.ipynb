{
 "cells": [
  {
   "cell_type": "markdown",
   "id": "92bcb855",
   "metadata": {
    "papermill": {
     "duration": 0.004827,
     "end_time": "2024-02-14T04:09:03.862952",
     "exception": false,
     "start_time": "2024-02-14T04:09:03.858125",
     "status": "completed"
    },
    "tags": []
   },
   "source": [
    "# MPIA Arxiv on Deck 2\n",
    "\n",
    "Contains the steps to produce the paper extractions."
   ]
  },
  {
   "cell_type": "code",
   "execution_count": 1,
   "id": "3a0d6e11",
   "metadata": {
    "execution": {
     "iopub.execute_input": "2024-02-14T04:09:03.870332Z",
     "iopub.status.busy": "2024-02-14T04:09:03.869860Z",
     "iopub.status.idle": "2024-02-14T04:09:04.530466Z",
     "shell.execute_reply": "2024-02-14T04:09:04.529759Z"
    },
    "papermill": {
     "duration": 0.666333,
     "end_time": "2024-02-14T04:09:04.532337",
     "exception": false,
     "start_time": "2024-02-14T04:09:03.866004",
     "status": "completed"
    },
    "tags": []
   },
   "outputs": [],
   "source": [
    "# Imports\n",
    "import os\n",
    "from IPython.display import Markdown, display\n",
    "from tqdm.notebook import tqdm\n",
    "import warnings\n",
    "from PIL import Image \n",
    "\n",
    "# requires arxiv_on_deck_2\n",
    "\n",
    "from arxiv_on_deck_2.arxiv2 import (get_new_papers, \n",
    "                                    get_paper_from_identifier,\n",
    "                                    retrieve_document_source, \n",
    "                                    get_markdown_badge)\n",
    "from arxiv_on_deck_2 import (latex,\n",
    "                             latex_bib,\n",
    "                             mpia,\n",
    "                             highlight_authors_in_list)\n",
    "\n",
    "# Sometimes images are really big\n",
    "Image.MAX_IMAGE_PIXELS = 1000000000 "
   ]
  },
  {
   "cell_type": "code",
   "execution_count": 2,
   "id": "22aa9d44",
   "metadata": {
    "execution": {
     "iopub.execute_input": "2024-02-14T04:09:04.539527Z",
     "iopub.status.busy": "2024-02-14T04:09:04.539252Z",
     "iopub.status.idle": "2024-02-14T04:09:04.544365Z",
     "shell.execute_reply": "2024-02-14T04:09:04.543820Z"
    },
    "papermill": {
     "duration": 0.010228,
     "end_time": "2024-02-14T04:09:04.545696",
     "exception": false,
     "start_time": "2024-02-14T04:09:04.535468",
     "status": "completed"
    },
    "tags": []
   },
   "outputs": [],
   "source": [
    "# Some useful definitions.\n",
    "\n",
    "class AffiliationWarning(UserWarning):\n",
    "    pass\n",
    "\n",
    "class AffiliationError(RuntimeError):\n",
    "    pass\n",
    "\n",
    "def validation(source: str):\n",
    "    \"\"\"Raises error paper during parsing of source file\n",
    "    \n",
    "    Allows checks before parsing TeX code.\n",
    "    \n",
    "    Raises AffiliationWarning\n",
    "    \"\"\"\n",
    "    check = mpia.affiliation_verifications(source, verbose=True)\n",
    "    if check is not True:\n",
    "        raise AffiliationError(\"mpia.affiliation_verifications: \" + check)\n",
    "\n",
    "        \n",
    "warnings.simplefilter('always', AffiliationWarning)\n",
    "\n",
    "\n",
    "def get_markdown_qrcode(paper_id: str):\n",
    "    \"\"\" Generate a qrcode to the arxiv page using qrserver.com\n",
    "    \n",
    "    :param paper: Arxiv paper\n",
    "    :returns: markdown text\n",
    "    \"\"\"\n",
    "    url = r\"https://api.qrserver.com/v1/create-qr-code/?size=100x100&data=\"\n",
    "    txt = f\"\"\"<img src={url}\"https://arxiv.org/abs/{paper_id}\">\"\"\"\n",
    "    txt = '<div id=\"qrcode\">' + txt + '</div>'\n",
    "    return txt"
   ]
  },
  {
   "cell_type": "markdown",
   "id": "14bd6310",
   "metadata": {
    "papermill": {
     "duration": 0.002683,
     "end_time": "2024-02-14T04:09:04.551190",
     "exception": false,
     "start_time": "2024-02-14T04:09:04.548507",
     "status": "completed"
    },
    "tags": []
   },
   "source": [
    "## get list of arxiv paper candidates\n",
    "\n",
    "We use the MPIA mitarbeiter list webpage from mpia.de to get author names\n",
    "We then get all new papers from Arxiv and match authors"
   ]
  },
  {
   "cell_type": "code",
   "execution_count": 3,
   "id": "2645e73a",
   "metadata": {
    "execution": {
     "iopub.execute_input": "2024-02-14T04:09:04.557894Z",
     "iopub.status.busy": "2024-02-14T04:09:04.557338Z",
     "iopub.status.idle": "2024-02-14T04:09:25.369949Z",
     "shell.execute_reply": "2024-02-14T04:09:25.369227Z"
    },
    "papermill": {
     "duration": 20.817401,
     "end_time": "2024-02-14T04:09:25.371380",
     "exception": false,
     "start_time": "2024-02-14T04:09:04.553979",
     "status": "completed"
    },
    "tags": []
   },
   "outputs": [
    {
     "name": "stdout",
     "output_type": "stream",
     "text": [
      "U. Dudzeviciute  ->  U. Dudzeviciute  |  ['U. Dudzeviciute']\n",
      "A. Gould  ->  A. Gould  |  ['A. Gould']\n",
      "X. Zhang  ->  X. Zhang  |  ['X. Zhang']\n",
      "X. Zhang  ->  X. Zhang  |  ['X. Zhang']\n",
      "X. Zhang  ->  X. Zhang  |  ['X. Zhang']\n",
      "X. Zhang  ->  X. Zhang  |  ['X. Zhang']\n",
      "X. Zhang  ->  X. Zhang  |  ['X. Zhang']\n",
      "X. Zhang  ->  X. Zhang  |  ['X. Zhang']\n",
      "X. Zhang  ->  X. Zhang  |  ['X. Zhang']\n",
      "X. Zhang  ->  X. Zhang  |  ['X. Zhang']\n"
     ]
    },
    {
     "name": "stdout",
     "output_type": "stream",
     "text": [
      "Arxiv has 64 new papers today\n",
      "          10 with possible author matches\n"
     ]
    }
   ],
   "source": [
    "# get list from MPIA website\n",
    "# it automatically filters identified non-scientists :func:`mpia.filter_non_scientists`\n",
    "mpia_authors = mpia.get_mpia_mitarbeiter_list()\n",
    "normed_mpia_authors = [k[1] for k in mpia_authors]   # initials + fullname\n",
    "new_papers = get_new_papers()\n",
    "# add manual references\n",
    "add_paper_refs = []\n",
    "new_papers.extend([get_paper_from_identifier(k) for k in add_paper_refs])\n",
    "\n",
    "candidates = []\n",
    "for paperk in new_papers:\n",
    "    # Check author list with their initials\n",
    "    normed_author_list = [mpia.get_initials(k) for k in paperk['authors']]\n",
    "    hl_authors = highlight_authors_in_list(normed_author_list, normed_mpia_authors, verbose=True)\n",
    "    matches = [(hl, orig) for hl, orig in zip(hl_authors, paperk['authors']) if 'mark' in hl]\n",
    "    paperk['authors'] = hl_authors\n",
    "    if matches:\n",
    "        # only select paper if an author matched our list\n",
    "        candidates.append(paperk)\n",
    "print(\"\"\"Arxiv has {0:,d} new papers today\"\"\".format(len(new_papers)))        \n",
    "print(\"\"\"          {0:,d} with possible author matches\"\"\".format(len(candidates)))"
   ]
  },
  {
   "cell_type": "markdown",
   "id": "3543b34a",
   "metadata": {
    "papermill": {
     "duration": 0.003079,
     "end_time": "2024-02-14T04:09:25.377777",
     "exception": false,
     "start_time": "2024-02-14T04:09:25.374698",
     "status": "completed"
    },
    "tags": []
   },
   "source": [
    "# Parse sources and generate relevant outputs\n",
    "\n",
    "From the candidates, we do the following steps:\n",
    "* get their tarball from ArXiv (and extract data)\n",
    "* find the main .tex file: find one with \\documentclass{...} (sometimes it's non trivial)\n",
    "* Check affiliations with :func:`validation`, which uses :func:`mpia.affiliation_verifications`\n",
    "* If passing the affiliations: we parse the .tex source\n",
    "   * inject sub-documents into the main (flatten the main document)\n",
    "   * parse structure, extract information (title, abstract, authors, figures...)\n",
    "   * handles `\\graphicspath` if provided\n",
    "* Generate the .md document."
   ]
  },
  {
   "cell_type": "code",
   "execution_count": 4,
   "id": "9576b79e",
   "metadata": {
    "execution": {
     "iopub.execute_input": "2024-02-14T04:09:25.384800Z",
     "iopub.status.busy": "2024-02-14T04:09:25.384404Z",
     "iopub.status.idle": "2024-02-14T04:11:22.034138Z",
     "shell.execute_reply": "2024-02-14T04:11:22.033347Z"
    },
    "papermill": {
     "duration": 116.655021,
     "end_time": "2024-02-14T04:11:22.035697",
     "exception": false,
     "start_time": "2024-02-14T04:09:25.380676",
     "status": "completed"
    },
    "scrolled": false,
    "tags": []
   },
   "outputs": [
    {
     "data": {
      "application/vnd.jupyter.widget-view+json": {
       "model_id": "44acf58a6cd24aab8bedfdcfc58800b6",
       "version_major": 2,
       "version_minor": 0
      },
      "text/plain": [
       "  0%|          | 0/10 [00:00<?, ?it/s]"
      ]
     },
     "metadata": {},
     "output_type": "display_data"
    },
    {
     "name": "stdout",
     "output_type": "stream",
     "text": [
      "Retrieving document from  https://arxiv.org/e-print/2402.07989\n"
     ]
    },
    {
     "name": "stdout",
     "output_type": "stream",
     "text": [
      "extracting tarball to tmp_2402.07989..."
     ]
    },
    {
     "name": "stdout",
     "output_type": "stream",
     "text": [
      " done.\n"
     ]
    },
    {
     "name": "stdout",
     "output_type": "stream",
     "text": [
      "list index out of range\n",
      "Retrieving document from  https://arxiv.org/e-print/2402.08116\n"
     ]
    },
    {
     "name": "stdout",
     "output_type": "stream",
     "text": [
      "extracting tarball to tmp_2402.08116... done.\n"
     ]
    },
    {
     "name": "stderr",
     "output_type": "stream",
     "text": [
      "/tmp/ipykernel_2115/3009462391.py:49: LatexWarning: 2402.08116 did not run properly\n",
      "Unable to locate Ghostscript on paths\n",
      "  warnings.warn(latex.LatexWarning(f\"{paper_id:s} did not run properly\\n\" +\n"
     ]
    },
    {
     "name": "stdout",
     "output_type": "stream",
     "text": [
      "Retrieving document from  https://arxiv.org/e-print/2402.08452\n"
     ]
    },
    {
     "name": "stdout",
     "output_type": "stream",
     "text": [
      "extracting tarball to tmp_2402.08452..."
     ]
    },
    {
     "name": "stdout",
     "output_type": "stream",
     "text": [
      " done.\n",
      "Retrieving document from  https://arxiv.org/e-print/2402.08453\n"
     ]
    },
    {
     "name": "stdout",
     "output_type": "stream",
     "text": [
      "extracting tarball to tmp_2402.08453..."
     ]
    },
    {
     "name": "stdout",
     "output_type": "stream",
     "text": [
      " done.\n",
      "Retrieving document from  https://arxiv.org/e-print/2402.08454\n"
     ]
    },
    {
     "name": "stdout",
     "output_type": "stream",
     "text": [
      "extracting tarball to tmp_2402.08454..."
     ]
    },
    {
     "name": "stdout",
     "output_type": "stream",
     "text": [
      " done.\n",
      "Retrieving document from  https://arxiv.org/e-print/2402.08456\n"
     ]
    },
    {
     "name": "stdout",
     "output_type": "stream",
     "text": [
      "extracting tarball to tmp_2402.08456..."
     ]
    },
    {
     "name": "stdout",
     "output_type": "stream",
     "text": [
      " done.\n",
      "Retrieving document from  https://arxiv.org/e-print/2402.08457\n"
     ]
    },
    {
     "name": "stderr",
     "output_type": "stream",
     "text": [
      "/opt/hostedtoolcache/Python/3.9.18/x64/lib/python3.9/site-packages/IPython/core/interactiveshell.py:3550: LatexWarning: Multiple tex files.\n",
      "\n",
      "  exec(code_obj, self.user_global_ns, self.user_ns)\n",
      "/opt/hostedtoolcache/Python/3.9.18/x64/lib/python3.9/site-packages/IPython/core/interactiveshell.py:3550: LatexWarning: Found documentclass in tmp_2402.08456/main.tex\n",
      "\n",
      "  exec(code_obj, self.user_global_ns, self.user_ns)\n",
      "/opt/hostedtoolcache/Python/3.9.18/x64/lib/python3.9/site-packages/arxiv_on_deck_2/latex.py:399: LatexWarning: Latex injecting: 'appendix' from 'tmp_2402.08456/appendix.tex'\n",
      "  warnings.warn(LatexWarning(f\"Latex injecting: '{ext}' from '{subsource}'\"))\n",
      "/opt/hostedtoolcache/Python/3.9.18/x64/lib/python3.9/site-packages/arxiv_on_deck_2/latex.py:399: LatexWarning: Latex injecting: 'appendix' from 'tmp_2402.08456/KiDS-1000_WL_Analysis_of_eRASS1_Clusters/appendix.tex'\n",
      "  warnings.warn(LatexWarning(f\"Latex injecting: '{ext}' from '{subsource}'\"))\n",
      "/opt/hostedtoolcache/Python/3.9.18/x64/lib/python3.9/site-packages/arxiv_on_deck_2/latex.py:399: LatexWarning: Latex injecting: 'acknowledgements' from 'tmp_2402.08456/acknowledgements.tex'\n",
      "  warnings.warn(LatexWarning(f\"Latex injecting: '{ext}' from '{subsource}'\"))\n",
      "/opt/hostedtoolcache/Python/3.9.18/x64/lib/python3.9/site-packages/arxiv_on_deck_2/latex.py:399: LatexWarning: Latex injecting: 'summary' from 'tmp_2402.08456/summary.tex'\n",
      "  warnings.warn(LatexWarning(f\"Latex injecting: '{ext}' from '{subsource}'\"))\n",
      "/opt/hostedtoolcache/Python/3.9.18/x64/lib/python3.9/site-packages/arxiv_on_deck_2/latex.py:399: LatexWarning: Latex injecting: 'summary' from 'tmp_2402.08456/KiDS-1000_WL_Analysis_of_eRASS1_Clusters/summary.tex'\n",
      "  warnings.warn(LatexWarning(f\"Latex injecting: '{ext}' from '{subsource}'\"))\n",
      "/opt/hostedtoolcache/Python/3.9.18/x64/lib/python3.9/site-packages/arxiv_on_deck_2/latex.py:399: LatexWarning: Latex injecting: 'consistency' from 'tmp_2402.08456/consistency.tex'\n",
      "  warnings.warn(LatexWarning(f\"Latex injecting: '{ext}' from '{subsource}'\"))\n",
      "/opt/hostedtoolcache/Python/3.9.18/x64/lib/python3.9/site-packages/arxiv_on_deck_2/latex.py:399: LatexWarning: Latex injecting: 'consistency' from 'tmp_2402.08456/KiDS-1000_WL_Analysis_of_eRASS1_Clusters/consistency.tex'\n",
      "  warnings.warn(LatexWarning(f\"Latex injecting: '{ext}' from '{subsource}'\"))\n",
      "/opt/hostedtoolcache/Python/3.9.18/x64/lib/python3.9/site-packages/arxiv_on_deck_2/latex.py:399: LatexWarning: Latex injecting: 'measurement' from 'tmp_2402.08456/measurement.tex'\n",
      "  warnings.warn(LatexWarning(f\"Latex injecting: '{ext}' from '{subsource}'\"))\n",
      "/opt/hostedtoolcache/Python/3.9.18/x64/lib/python3.9/site-packages/arxiv_on_deck_2/latex.py:399: LatexWarning: Latex injecting: 'measurement' from 'tmp_2402.08456/KiDS-1000_WL_Analysis_of_eRASS1_Clusters/measurement.tex'\n",
      "  warnings.warn(LatexWarning(f\"Latex injecting: '{ext}' from '{subsource}'\"))\n",
      "/opt/hostedtoolcache/Python/3.9.18/x64/lib/python3.9/site-packages/arxiv_on_deck_2/latex.py:399: LatexWarning: Latex injecting: 'data' from 'tmp_2402.08456/data.tex'\n",
      "  warnings.warn(LatexWarning(f\"Latex injecting: '{ext}' from '{subsource}'\"))\n",
      "/opt/hostedtoolcache/Python/3.9.18/x64/lib/python3.9/site-packages/arxiv_on_deck_2/latex.py:399: LatexWarning: Latex injecting: 'data' from 'tmp_2402.08456/KiDS-1000_WL_Analysis_of_eRASS1_Clusters/data.tex'\n",
      "  warnings.warn(LatexWarning(f\"Latex injecting: '{ext}' from '{subsource}'\"))\n",
      "/opt/hostedtoolcache/Python/3.9.18/x64/lib/python3.9/site-packages/arxiv_on_deck_2/latex.py:399: LatexWarning: Latex injecting: 'introduction' from 'tmp_2402.08456/introduction.tex'\n",
      "  warnings.warn(LatexWarning(f\"Latex injecting: '{ext}' from '{subsource}'\"))\n",
      "/opt/hostedtoolcache/Python/3.9.18/x64/lib/python3.9/site-packages/arxiv_on_deck_2/latex.py:399: LatexWarning: Latex injecting: 'introduction' from 'tmp_2402.08456/KiDS-1000_WL_Analysis_of_eRASS1_Clusters/introduction.tex'\n",
      "  warnings.warn(LatexWarning(f\"Latex injecting: '{ext}' from '{subsource}'\"))\n"
     ]
    },
    {
     "name": "stdout",
     "output_type": "stream",
     "text": [
      "extracting tarball to tmp_2402.08457..."
     ]
    },
    {
     "name": "stdout",
     "output_type": "stream",
     "text": [
      " done.\n",
      "Retrieving document from  https://arxiv.org/e-print/2402.08458\n"
     ]
    },
    {
     "name": "stdout",
     "output_type": "stream",
     "text": [
      "extracting tarball to tmp_2402.08458..."
     ]
    },
    {
     "name": "stdout",
     "output_type": "stream",
     "text": [
      " done.\n",
      "Retrieving document from  https://arxiv.org/e-print/2402.08459\n"
     ]
    },
    {
     "name": "stdout",
     "output_type": "stream",
     "text": [
      "extracting tarball to tmp_2402.08459..."
     ]
    },
    {
     "name": "stdout",
     "output_type": "stream",
     "text": [
      " done.\n",
      "Retrieving document from  https://arxiv.org/e-print/2402.08460\n"
     ]
    },
    {
     "name": "stdout",
     "output_type": "stream",
     "text": [
      "extracting tarball to tmp_2402.08460..."
     ]
    },
    {
     "name": "stdout",
     "output_type": "stream",
     "text": [
      " done.\n"
     ]
    }
   ],
   "source": [
    "documents = []\n",
    "failed = []\n",
    "for paper in tqdm(candidates):\n",
    "    paper_id = paper['identifier'].lower().replace('arxiv:', '')\n",
    "    \n",
    "    folder = f'tmp_{paper_id}'\n",
    "\n",
    "    try:\n",
    "        if not os.path.isdir(folder):\n",
    "            folder = retrieve_document_source(f\"{paper_id}\", f'tmp_{paper_id}')\n",
    "        \n",
    "        try:\n",
    "            doc = latex.LatexDocument(folder, validation=validation)    \n",
    "        except AffiliationError as affilerror:\n",
    "            msg = f\"ArXiv:{paper_id:s} is not an MPIA paper... \" + str(affilerror)\n",
    "            failed.append((paper, \"affiliation error: \" + str(affilerror) ))\n",
    "            continue\n",
    "        \n",
    "        # Hack because sometimes author parsing does not work well\n",
    "        if (len(doc.authors) != len(paper['authors'])):\n",
    "            doc._authors = paper['authors']\n",
    "        else:\n",
    "            # highlight authors (FIXME: doc.highlight_authors)\n",
    "            # done on arxiv paper already\n",
    "            doc._authors = highlight_authors_in_list(\n",
    "                [mpia.get_initials(k) for k in doc.authors], \n",
    "                normed_mpia_authors, verbose=True)\n",
    "        if (doc.abstract) in (None, ''):\n",
    "            doc._abstract = paper['abstract']\n",
    "            \n",
    "        doc.comment = (get_markdown_badge(paper_id) + \n",
    "                       \"<mark>Appeared on: \" + paper['date'] + \"</mark> - \")\n",
    "        if paper['comments']:\n",
    "            doc.comment += \" _\" + paper['comments'] + \"_\"\n",
    "        \n",
    "        full_md = doc.generate_markdown_text()\n",
    "        \n",
    "        full_md += get_markdown_qrcode(paper_id)\n",
    "        \n",
    "        # replace citations\n",
    "        try:\n",
    "            bibdata = latex_bib.LatexBib.from_doc(doc)\n",
    "            full_md = latex_bib.replace_citations(full_md, bibdata)\n",
    "        except Exception as e:\n",
    "            print(e)\n",
    "        \n",
    "        documents.append((paper_id, full_md))\n",
    "    except Exception as e:\n",
    "        warnings.warn(latex.LatexWarning(f\"{paper_id:s} did not run properly\\n\" +\n",
    "                                         str(e)\n",
    "                                        ))\n",
    "        failed.append((paper, \"latex error \" + str(e)))"
   ]
  },
  {
   "cell_type": "markdown",
   "id": "2505a25c",
   "metadata": {
    "papermill": {
     "duration": 0.004131,
     "end_time": "2024-02-14T04:11:22.044276",
     "exception": false,
     "start_time": "2024-02-14T04:11:22.040145",
     "status": "completed"
    },
    "tags": []
   },
   "source": [
    "### Export the logs\n",
    "\n",
    "Throughout, we also keep track of the logs per paper. see `logs-{today date}.md` "
   ]
  },
  {
   "cell_type": "code",
   "execution_count": 5,
   "id": "d733828a",
   "metadata": {
    "execution": {
     "iopub.execute_input": "2024-02-14T04:11:22.054138Z",
     "iopub.status.busy": "2024-02-14T04:11:22.053623Z",
     "iopub.status.idle": "2024-02-14T04:11:22.076642Z",
     "shell.execute_reply": "2024-02-14T04:11:22.075977Z"
    },
    "papermill": {
     "duration": 0.029791,
     "end_time": "2024-02-14T04:11:22.078164",
     "exception": false,
     "start_time": "2024-02-14T04:11:22.048373",
     "status": "completed"
    },
    "scrolled": false,
    "tags": []
   },
   "outputs": [
    {
     "data": {
      "text/markdown": [
       "## Successful papers"
      ],
      "text/plain": [
       "<IPython.core.display.Markdown object>"
      ]
     },
     "metadata": {},
     "output_type": "display_data"
    },
    {
     "data": {
      "text/markdown": [
       "\n",
       "|||\n",
       "|---:|:---|\n",
       "| [![arXiv](https://img.shields.io/badge/arXiv-arXiv:2402.07989-b31b1b.svg)](https://arxiv.org/abs/arXiv:2402.07989) | **A new census of dust and PAHs at z=0.7-2 with JWST MIRI**  |\n",
       "|| I. Shivaei, et al. -- incl., <mark>U. Dudzeviciute</mark> |\n",
       "|*Appeared on*| *2024-02-14*|\n",
       "|*Comments*| *Submitted to A&A*|\n",
       "|**Abstract**| This paper utilizes the JWST MIRI multi-band imaging data from the SMILES survey (5-25micron), complemented with HST and NIRCam photometric and spectroscopic data from the JADES and FRESCO surveys for 443 star-forming (non-AGN) galaxies at z=0.7-2.0 to extend the study of dust and PAH emission to a new mass and SFR parameter space beyond our local universe. We find a strong correlation between the fraction of dust in PAHs (PAH fraction, q_PAH) with stellar mass. Moreover, the PAH fraction behavior as a function of gas-phase metallicity is similar to that at z~0 from previous studies, suggesting a universal relation: q_PAH is constant (~3.4%) above a metallicity of ~ 0.5$Z_{\\odot}$ and decreases to <1% at metallicities $<0.3Z_{\\odot}$. This indicates that metallicity is a good indicator of the ISM properties that affect the balance between the formation and destruction of PAHs. The lack of a redshift evolution from z~0-2 also implies that above $0.5\\,Z_{\\odot}$, the PAH emission effectively traces obscured luminosity and the previous locally-calibrated PAH-SFR calibrations remain applicable in this metallicity regime. We observe a strong correlation between obscured UV luminosity fraction (ratio of obscured to total luminosity) and stellar mass. Above the stellar mass of $>5\\times 10^9M_{\\odot}$, on average, more than half of the emitted luminosity is obscured, while there exists a non-negligible population of lower mass galaxies with >50% obscured fractions. At a fixed mass, the obscured fraction correlates with SFR surface density. This is a result of higher dust covering fractions in galaxies with more compact star forming regions. Similarly, galaxies with high IRX (IR to UV luminosity) at a given mass or UV continuum slope tend to have higher SFR surface density and shallower attenuation curves, owing to their higher effective dust optical depths and more compact star forming regions. |"
      ],
      "text/plain": [
       "[arXiv:2402.07989] A new census of dust and PAHs at z=0.7-2 with JWST MIRI\n",
       "\tI. Shivaei, et al. -- incl., <mark>U. Dudzeviciute</mark>"
      ]
     },
     "metadata": {},
     "output_type": "display_data"
    },
    {
     "data": {
      "text/markdown": [
       "## Failed papers"
      ],
      "text/plain": [
       "<IPython.core.display.Markdown object>"
      ]
     },
     "metadata": {},
     "output_type": "display_data"
    },
    {
     "data": {
      "text/markdown": [
       "\n",
       "|||\n",
       "|---:|:---|\n",
       "| [![arXiv](https://img.shields.io/badge/arXiv-arXiv:2402.08456-b31b1b.svg)](https://arxiv.org/abs/arXiv:2402.08456) | **The SRG/eROSITA All-Sky Survey: Weak-Lensing of eRASS1 Galaxy Clusters  in KiDS-1000 and Consistency Checks with DES Y3 & HSC-Y3**  |\n",
       "|| F. Kleinebreil, et al. -- incl., <mark>X. Zhang</mark> |\n",
       "|*Appeared on*| *2024-02-14*|\n",
       "|*Comments*| *22 pages, 23 figures*|\n",
       "|**Abstract**| We aim to participate in the calibration of the X-ray photon count rate to halo mass scaling relation of galaxy clusters selected in the first eROSITA All-Sky Survey on the Western Galactic Hemisphere (eRASS1) using KiDS-1000 weak-lensing (WL) data. We measure the radial shear profiles around eRASS1 galaxy clusters using background galaxies in KiDS-1000, as well as the cluster member contamination. Furthermore we provide consistency checks with the other stage-III WL surveys who take part in the eRASS1 mass calibration, DES Y3 and HSC-Y3. We determine the cluster member contamination of eRASS1 clusters present in KiDS-1000 based on source number density profiles, where we account for the obscuration caused by cluster galaxies. The extracted shear profiles, together with the contamination model and the lens sample selection, are then analysed through a Bayesian population model. We calibrate the WL mass bias parameter by analysing realistic synthetic shear profiles from mock cluster catalogues. Our consistency checks between KiDS-1000 and DES Y3 & HSC-Y3 include the comparison of contamination-corrected density contrast profiles employing the union of background sources around common clusters, as well as the individual scaling relation results. We present a global contamination model for eRASS1 clusters in KiDS-1000 and the calibration results of the X-ray photon count rate to halo mass relation. The results of the WL mass bias parameter show that the uncertainty of the multiplicative shear bias dominates the systematic error budget at low clusters redshifts while the uncertainty of our contamination model does at high ones. The cross-checks between the three WL surveys show that they are statistically consistent with each other. This enables for the first time cosmological constraints from clusters calibrated by three state-of-the-art WL surveys. (abridged) |\n",
       "|<p style=\"color:green\"> **ERROR** </p>| <p style=\"color:green\">affiliation error: mpia.affiliation_verifications: '69117' keyword not found.</p> |"
      ],
      "text/plain": [
       "<IPython.core.display.Markdown object>"
      ]
     },
     "metadata": {},
     "output_type": "display_data"
    },
    {
     "data": {
      "text/markdown": [
       "\n",
       "|||\n",
       "|---:|:---|\n",
       "| [![arXiv](https://img.shields.io/badge/arXiv-arXiv:2402.08452-b31b1b.svg)](https://arxiv.org/abs/arXiv:2402.08452) | **The SRG/eROSITA All-Sky Survey: The first catalog of galaxy clusters and  groups in the Western Galactic Hemisphere**  |\n",
       "|| E. Bulbul, et al. -- incl., <mark>X. Zhang</mark> |\n",
       "|*Appeared on*| *2024-02-14*|\n",
       "|*Comments*| *in press in A&A. 27 pages, 21 figures, 3 tables*|\n",
       "|**Abstract**| Clusters of galaxies can be used as powerful probes to study astrophysical processes on large scales, test theories of the growth of structure, and constrain cosmological models. The driving science goal of the SRG/eROSITA All-Sky Survey (eRASS) is to assemble a large sample of X-ray-selected clusters with a well-defined selection function to determine the evolution of the mass function and, hence, the cosmological parameters. We present here a catalog of 12247 optically confirmed galaxy groups and clusters detected in the 0.2-2.3 keV as extended X-ray sources in a 13,116deg$^2$ region in the western Galactic hemisphere of the sky, which eROSITA surveyed in its first six months of operation. The clusters in the sample span the redshift range $0.003<z<1.32$. The majority (68%) of these clusters, 8361 sources, represent new discoveries without known counterparts in the literature. The mass range of the sample covers three orders of magnitude from $5\\times10^{12}M_{\\rm sun}$ to $2\\times10^{15}M_{\\rm sun}$. We construct a sample for cosmology with a higher purity level (~95%) than the primary sample, comprising 5259 securely detected and confirmed clusters in the 12791deg$^{2}$ common footprint with the DESI Legacy Survey DR10. We characterize the X-ray properties of each cluster, including their flux, luminosity and temperature, the total mass, gas mass, gas mass fraction, and mass proxy $Y_{X}$. These are determined within two apertures, 300 kpc, and the overdensity radius $R_{500}$, and are calculated by applying a forward modeling approach with a rigorous X-ray background treatment, K-factor, and the Galactic absorption corrections. Population studies utilizing LogN-LogS, the number of clusters detected above a given flux limit, and the luminosity function show overall agreement with the previous X-ray surveys after accounting for the survey completeness and purity (ABRIDGED) |\n",
       "|<p style=\"color:green\"> **ERROR** </p>| <p style=\"color:green\">affiliation error: mpia.affiliation_verifications: 'Heidelberg' keyword not found.</p> |"
      ],
      "text/plain": [
       "<IPython.core.display.Markdown object>"
      ]
     },
     "metadata": {},
     "output_type": "display_data"
    },
    {
     "data": {
      "text/markdown": [
       "\n",
       "|||\n",
       "|---:|:---|\n",
       "| [![arXiv](https://img.shields.io/badge/arXiv-arXiv:2402.08453-b31b1b.svg)](https://arxiv.org/abs/arXiv:2402.08453) | **The First SRG/eROSITA All-Sky Survey: Optical Identification and  Properties of Galaxy Clusters and Groups in the Western Galactic Hemisphere**  |\n",
       "|| M. Kluge, et al. -- incl., <mark>X. Zhang</mark> |\n",
       "|*Appeared on*| *2024-02-14*|\n",
       "|*Comments*| *36 pages, 23 figures, 6 tables. Submitted to A&A*|\n",
       "|**Abstract**| The first SRG/eROSITA All-Sky Survey (eRASS1) provides the largest intracluster medium-selected galaxy cluster and group catalog covering the western galactic hemisphere. Compared to samples selected purely on X-ray extent, the sample purity can be enhanced by identifying cluster candidates using optical and near-infrared data from the DESI Legacy Imaging Surveys. Using the red-sequence-based cluster finder eROMaPPer, we measure individual photometric properties (redshift $z_\\lambda$, richness $\\lambda$, optical center, and BCG position) for 12,000 eRASS1 clusters over a sky area of 13,116 deg$^2$, augmented by 247 cases identified by matching the candidates with known clusters from the literature. The median redshift of the identified eRASS1 sample is $z=0.31$, with 10% of the clusters at $z>0.72$. The photometric redshifts have an accuracy of $\\delta z/(1+z)<0.005$ for $0.05<z<0.9$. Spectroscopic cluster properties (redshift $z_{\\rm spec}$ and velocity dispersion $\\sigma$) are measured a posteriori for a subsample of 3,210 and 1,499 eRASS1 clusters, respectively, using an extensive compilation of spectroscopic redshifts of galaxies from the literature. We infer that the primary eRASS1 sample has a purity of 86% and optical completeness >95% for $z>0.05$. For these and further quality assessments of the eRASS1 identified catalog, we apply our identification method to a collection of galaxy cluster catalogs in the literature, as well as blindly on the full Legacy Surveys covering 24,069 deg$^2$. Using a combination of these cluster samples, we investigate the velocity dispersion-richness relation, finding $\\log(\\lambda)=2.401\\times\\log(\\sigma)-5.074$ with an intrinsic scatter of $0.10\\pm0.01$ dex. Our main result is the identified eRASS1 cluster catalog with a high purity and a well-defined X-ray selection process, enabling precise cosmological analyses presented in companion papers. |\n",
       "|<p style=\"color:green\"> **ERROR** </p>| <p style=\"color:green\">affiliation error: mpia.affiliation_verifications: 'Heidelberg' keyword not found.</p> |"
      ],
      "text/plain": [
       "<IPython.core.display.Markdown object>"
      ]
     },
     "metadata": {},
     "output_type": "display_data"
    },
    {
     "data": {
      "text/markdown": [
       "\n",
       "|||\n",
       "|---:|:---|\n",
       "| [![arXiv](https://img.shields.io/badge/arXiv-arXiv:2402.08454-b31b1b.svg)](https://arxiv.org/abs/arXiv:2402.08454) | **The SRG/eROSITA All-Sky Survey: First catalog of superclusters in the  western Galactic hemisphere**  |\n",
       "|| A. Liu, et al. -- incl., <mark>X. Zhang</mark> |\n",
       "|*Appeared on*| *2024-02-14*|\n",
       "|*Comments*| *A&A in press*|\n",
       "|**Abstract**| Superclusters of galaxies mark the large-scale overdense regions in the Universe. Superclusters provide an ideal environment to study structure formation and to search for the emission of the intergalactic medium such as cosmic filaments and WHIM. In this work, we present the largest-to-date catalog of X-ray-selected superclusters identified in the first SRG/eROSITA All-Sky Survey (eRASS1). By applying the Friends-of-Friends method on the galaxy clusters detected in eRASS1, we identified 1338 supercluster systems in the western Galactic hemisphere up to redshift 0.8, including 818 cluster pairs and 520 rich superclusters with $\\ge 3$ members. The most massive and richest supercluster system is the Shapley supercluster at redshift 0.05 with 45 members and a total mass of $2.58\\pm0.51 \\times10^{16} M_{\\odot}$. The most extensive system has a projected length of 127~Mpc. The sizes of the superclusters we identified in this work are comparable to the structures found with galaxy survey data. We also found a good association between the eRASS1 superclusters and the large-scale structures formed by optical galaxies. 3948 clusters, corresponding to $45\\%$ of the cluster sample, were identified as supercluster members. The reliability of each supercluster was estimated by considering the uncertainties in cluster redshifts and peculiar velocities. 63\\% of the systems have a reliability larger than 0.7. The eRASS1 supercluster catalog provided in this work represents the most extensive sample of superclusters selected in the X-ray band in terms of the unprecedented sample volume, sky coverage, redshift range, the availability of X-ray properties, and the well-understood selection function of the parent cluster sample, which enables direct comparisons with numerical simulations. This legacy catalog will greatly advance our understanding of superclusters and the cosmic large-scale structure. |\n",
       "|<p style=\"color:green\"> **ERROR** </p>| <p style=\"color:green\">affiliation error: mpia.affiliation_verifications: 'Heidelberg' keyword not found.</p> |"
      ],
      "text/plain": [
       "<IPython.core.display.Markdown object>"
      ]
     },
     "metadata": {},
     "output_type": "display_data"
    },
    {
     "data": {
      "text/markdown": [
       "\n",
       "|||\n",
       "|---:|:---|\n",
       "| [![arXiv](https://img.shields.io/badge/arXiv-arXiv:2402.08457-b31b1b.svg)](https://arxiv.org/abs/arXiv:2402.08457) | **The SRG/eROSITA All-Sky Survey: X-ray selection function models for the  eRASS1 galaxy cluster cosmology**  |\n",
       "|| N. Clerc, et al. -- incl., <mark>X. Zhang</mark> |\n",
       "|*Appeared on*| *2024-02-14*|\n",
       "|*Comments*| *24 pages, 31 figures, 2 tables. Submitted to A&A*|\n",
       "|**Abstract**| Characterising galaxy cluster populations from catalog of sources selected in astronomical surveys requires knowledge of sample incompleteness, known as selection function. The first All-Sky Survey (eRASS1) by eROSITA onboard Spectrum Roentgen Gamma (SRG) has enabled the collection of large samples of galaxy clusters detected in the soft X-ray band over the Western Galactic hemisphere. The driving goal consists in constraining cosmological parameters, which puts stringent requirements on accuracy, flexibility and explainability of the selection function models. We use a large set of mock observations of the eRASS1 survey and we process simulated data identically to the real eRASS1 events. We match detected sources to simulated clusters and we associate detections to intrinsic cluster properties. We train a series of models to build selection functions depending only on observable surface brightness data. We develop a second series of models relying on global cluster characteristics such as X-ray luminosity, flux, and expected instrumental count-rate as well as on morphological properties. We validate our models using our simulations and we rank them according to selected performance metrics. We validate the models with datasets of clusters detected in X-rays and via the Sunyaev-Zeldovich effect. We present the complete Bayesian population modelling framework developed for this purpose. Our results reveal the surface brightness characteristics most relevant to cluster selection in the eRASS1 sample, in particular the ambiguous role of central surface brightness at the scale of the instrument resolution. We have produced a series of user-friendly selection function models and demonstrated their validity and their limitations. Our selection function for bright sources reproduces well the catalog matches with external datasets. (abridged) |\n",
       "|<p style=\"color:green\"> **ERROR** </p>| <p style=\"color:green\">affiliation error: mpia.affiliation_verifications: 'Heidelberg' keyword not found.</p> |"
      ],
      "text/plain": [
       "<IPython.core.display.Markdown object>"
      ]
     },
     "metadata": {},
     "output_type": "display_data"
    },
    {
     "data": {
      "text/markdown": [
       "\n",
       "|||\n",
       "|---:|:---|\n",
       "| [![arXiv](https://img.shields.io/badge/arXiv-arXiv:2402.08458-b31b1b.svg)](https://arxiv.org/abs/arXiv:2402.08458) | **The SRG/eROSITA All-Sky Survey: Cosmology Constraints from Cluster  Abundances in the Western Galactic Hemisphere**  |\n",
       "|| V. Ghirardini, et al. -- incl., <mark>X. Zhang</mark> |\n",
       "|*Appeared on*| *2024-02-14*|\n",
       "|*Comments*| *43 pages, 22 figures, submitted to A&A*|\n",
       "|**Abstract**| The cluster mass function traces the growth of linear density perturbations and provides valuable insights into the growth of structures, the nature of dark matter, and the cosmological parameters governing the Universe. The primary science goal of eROSITA, on board the {\\it Spectrum Roentgen Gamma (SRG)} mission, launched in 2019, is to constrain cosmology through the evolution of cluster mass function. In this paper, we present the cosmological constraints obtained from 5259 clusters of galaxies detected over an area of 12791~deg$^2$ in the Western Galactic Hemisphere of the eROSITA's first All-Sky Survey (eRASS1). The common footprint region between the eROSITA Survey and DES, KiDS, and HSC surveys is used for calibration of the scaling between X-ray count rate and their total mass through measurements of their weak gravitational lensing signal. eRASS1 cluster abundances constrain the $\\Lambda$CDM parameters, which are the energy density of the total matter to $\\Omega_{\\mathrm{m}}=0.29^{+0.01}_{-0.02}$, and the normalization of the density fluctuations to $\\sigma_8=0.88\\pm0.02$ and their combination yields $S_8=\\sigma_8 (\\Omega_\\mathrm{m} / 0.3)^{0.5}=0.86\\pm0.01$, consistent and at a similar precision with the state-of-the-art CMB measurements. eRASS1 cosmological experiment places a most stringent upper limit on the summed masses of left-handed light neutrinos to $\\sum m_\\nu< 0.22\\mathrm{~eV}$ (95\\% confidence interval). Combining eRASS1 cluster abundance measurements with CMB and ground-based neutrino oscillation experiments, we measure the summed neutrino masses to be $\\sum m_\\nu=0.08_{-0.02}^{+0.03}\\mathrm{~eV}$ or $\\sum m_\\nu=0.12_{-0.01}^{+0.03}\\mathrm{~eV}$ depending on the mass hierarchy scenario for neutrino eigenstates. eRASS1 cluster abundances significantly improve the constraints on the dark energy equation of state parameter to $w=-1.12\\pm0.12$. (ABRIDGED) |\n",
       "|<p style=\"color:green\"> **ERROR** </p>| <p style=\"color:green\">affiliation error: mpia.affiliation_verifications: 'Heidelberg' keyword not found.</p> |"
      ],
      "text/plain": [
       "<IPython.core.display.Markdown object>"
      ]
     },
     "metadata": {},
     "output_type": "display_data"
    },
    {
     "data": {
      "text/markdown": [
       "\n",
       "|||\n",
       "|---:|:---|\n",
       "| [![arXiv](https://img.shields.io/badge/arXiv-arXiv:2402.08459-b31b1b.svg)](https://arxiv.org/abs/arXiv:2402.08459) | **The SRG-eROSITA All-Sky Survey : Constraints on f(R) Gravity from  Cluster Abundance**  |\n",
       "|| E. Artis, et al. -- incl., <mark>X. Zhang</mark> |\n",
       "|*Appeared on*| *2024-02-14*|\n",
       "|*Comments*| *13 pages, 6 figures, submitted to A&A*|\n",
       "|**Abstract**| The evolution of the cluster mass function traces the growth of the linear density perturbations and can be utilized for constraining the parameters of cosmological and alternative gravity models. In this context, we present new constraints on potential deviations from general relativity by investigating the Hu-Sawicki parametrization of the f(R) gravity with the first SRG-eROSITA All-Sky Survey (eRASS1) cluster catalog in the Western Galactic Hemisphere in combination with the overlapping Dark Energy Survey Year 3, KiloDegree Survey and Hyper Supreme Camera data for weak lensing mass calibration. For the first time, we present constraints obtained from cluster abundances only. When we consider massless neutrinos, we find a strict upper limit of log |fR0| < -4.31 at 95% confidence level. Massive neutrinos suppress structure growth at small scales, and thus have the opposite effect of f(R) gravity. We consequently investigate the joint fit of the mass of the neutrinos with the modified gravity parameter. We obtain log |fR0| < -4.12 jointly with \\sum m_\\nu < 0.44 e.V. at 95% confidence level, tighter than the limits in the literature utilizing cluster counts only. At log |fR0|= - 6, the number of clusters is not significantly changed by the theory. Consequently, we do not find any statistical deviation from general relativity from the study of eRASS1 cluster abundance. Deeper surveys with eROSITA, increasing the number of detected clusters, will further improve constraints on log |fR0| and investigate alternative gravity theories. |\n",
       "|<p style=\"color:green\"> **ERROR** </p>| <p style=\"color:green\">affiliation error: mpia.affiliation_verifications: 'Heidelberg' keyword not found.</p> |"
      ],
      "text/plain": [
       "<IPython.core.display.Markdown object>"
      ]
     },
     "metadata": {},
     "output_type": "display_data"
    },
    {
     "data": {
      "text/markdown": [
       "\n",
       "|||\n",
       "|---:|:---|\n",
       "| [![arXiv](https://img.shields.io/badge/arXiv-arXiv:2402.08460-b31b1b.svg)](https://arxiv.org/abs/arXiv:2402.08460) | **The SRG/eROSITA All-Sky Survey: Tracing the Large-Scale Structure with a  clustering study of galaxy clusters**  |\n",
       "|| R. Seppi, et al. -- incl., <mark>X. Zhang</mark> |\n",
       "|*Appeared on*| *2024-02-14*|\n",
       "|*Comments*| *Submitted to A&A, 17 pages, 15 figures*|\n",
       "|**Abstract**| The spatial distribution of galaxy clusters provides a reliable tracer of the large-scale distribution of matter in the Universe. The clustering signal depends on intrinsic cluster properties and cosmological parameters. The ability of eROSITA onboard Spectrum-Roentgen-Gamma (SRG) to discover galaxy clusters allows probing the association of extended X-ray emission to dark matter haloes. We aim to measure the projected two-point correlation function to study the occupation of dark matter halos by clusters and groups detected by the first eROSITA all-sky survey (eRASS1). We create five volume-limited samples probing clusters with different redshift and X-ray luminosity. We interpret the correlation function with halo occupation distribution (HOD) and halo abundance matching (HAM) models. We simultaneously fit cosmological parameters and halo bias of a flux-limited sample of 6493 clusters with purity > 96%. Results. We obtain a detailed view of the halo occupation for eRASS1 clusters. The fainter population at low redshift (S0: LX = 4.63E43 erg/s, 0.1 < z < 0.2) is the least biased compared to dark matter, with b = 2.95 $\\pm$ 0.21. The brightest clusters up to higher redshift (S4: LX = 1.77E44 erg/s , 0.1 < z < 0.6) exhibit a higher bias b = 4.34 $\\pm$ 0.62. Satellite groups are rare, with a satellite fraction < 14.9% (8.1) for the S0 (S4) sample. We combine the HOD prediction with a HAM procedure to constrain the scaling relation between LX and mass in a new way and find a scatter of 0.36. We obtain cosmological constraints for the physical cold dark matter density 0.12+0.03-0.02 and an average halo bias b = 3.63+1.02-0.85. We model the clustering of galaxy clusters with a HOD approach for the first time, paving the way for future studies combining eROSITA with 4MOST, SDSS, Euclid, Rubin, and DESI to unravel the cluster distribution in the Universe. |\n",
       "|<p style=\"color:green\"> **ERROR** </p>| <p style=\"color:green\">affiliation error: mpia.affiliation_verifications: 'Heidelberg' keyword not found.</p> |"
      ],
      "text/plain": [
       "<IPython.core.display.Markdown object>"
      ]
     },
     "metadata": {},
     "output_type": "display_data"
    },
    {
     "data": {
      "text/markdown": [
       "\n",
       "|||\n",
       "|---:|:---|\n",
       "| [![arXiv](https://img.shields.io/badge/arXiv-arXiv:2402.08116-b31b1b.svg)](https://arxiv.org/abs/arXiv:2402.08116) | **OGLE-2023-BLG-0836L: The sixth microlensing planet in a binary stellar  system**  |\n",
       "|| C. Han, et al. -- incl., <mark>A. Gould</mark> |\n",
       "|*Appeared on*| *2024-02-14*|\n",
       "|*Comments*| *11 pages, 12 figures*|\n",
       "|**Abstract**| Light curves of microlensing events occasionally deviate from the smooth and symmetric form of a single-lens single-source event. While most of these anomalous events can be accounted for by employing a binary-lens single-source (2L1S) or a single-lens binary-source (1L2S) framework, it is established that a small fraction of events remain unexplained by either of these interpretations. We carry out a project in which data collected by high-cadence microlensing surveys were reinvestigated with the aim of uncovering the nature of anomalous lensing events with no proposed 2L1S or 1L2S models. From the project, we find that the anomaly appearing in the lensing event OGLE-2023-BLG-0836 cannot be explained by the usual interpretations and conduct a comprehensive analysis of the event. From thorough modeling of the light curve under sophisticated lens-system configurations, we have arrived at the conclusion that a triple-mass lens system is imperative to account for the anomaly features observed in the lensing light curve. From the Bayesian analysis using the measured observables of the event time scale and angular Einstein radius, we determine that the least massive component of the lens has a planetary mass of $4.36^{+2.35}_{-2.18}~M_{\\rm J}$. This planet orbits within a stellar binary system composed of two stars with masses $0.71^{+0.38}_{-0.36}~M_\\odot$ and $0.56^{+0.30}_{-0.28}~M_\\odot$. This lensing event signifies the sixth occurrence of a planetary microlensing system in which a planet belongs to a stellar binary system. |\n",
       "|<p style=\"color:red\"> **ERROR** </p>| <p style=\"color:red\">latex error Unable to locate Ghostscript on paths</p> |"
      ],
      "text/plain": [
       "<IPython.core.display.Markdown object>"
      ]
     },
     "metadata": {},
     "output_type": "display_data"
    }
   ],
   "source": [
    "import datetime\n",
    "today = str(datetime.date.today())\n",
    "logfile = f\"_build/html/logs/log-{today}.md\"\n",
    "\n",
    "\n",
    "with open(logfile, 'w') as logs:\n",
    "    # Success\n",
    "    logs.write(f'# Arxiv on Deck 2: Logs - {today}\\n\\n')\n",
    "    logs.write(\"\"\"* Arxiv had {0:,d} new papers\\n\"\"\".format(len(new_papers)))\n",
    "    logs.write(\"\"\"    * {0:,d} with possible author matches\\n\\n\"\"\".format(len(candidates)))\n",
    "    logs.write(\"## Sucessful papers\\n\\n\")\n",
    "    display(Markdown(\"## Successful papers\"))\n",
    "    success = [k[0] for k in documents]\n",
    "    for candid in candidates:\n",
    "        if candid['identifier'].split(':')[-1] in success:\n",
    "            display(candid)\n",
    "            logs.write(candid.generate_markdown_text() + '\\n\\n')\n",
    "\n",
    "    ## failed\n",
    "    logs.write(\"## Failed papers\\n\\n\")\n",
    "    display(Markdown(\"## Failed papers\"))\n",
    "    failed = sorted(failed, key=lambda x: x[1])\n",
    "    current_reason = \"\"\n",
    "    for paper, reason in failed:\n",
    "        if 'affiliation' in reason:\n",
    "            color = 'green'\n",
    "        else:\n",
    "            color = 'red'\n",
    "        data = Markdown(\n",
    "                paper.generate_markdown_text() + \n",
    "                f'\\n|<p style=\"color:{color:s}\"> **ERROR** </p>| <p style=\"color:{color:s}\">{reason:s}</p> |'\n",
    "               )\n",
    "        if reason != current_reason:\n",
    "            logs.write(f'### {reason:s} \\n\\n')\n",
    "            current_reason = reason\n",
    "        logs.write(data.data + '\\n\\n')\n",
    "        \n",
    "        # only display here the important errors (all in logs)\n",
    "        # if color in ('red',):\n",
    "        display(data)"
   ]
  },
  {
   "cell_type": "markdown",
   "id": "472d20ee",
   "metadata": {
    "papermill": {
     "duration": 0.00522,
     "end_time": "2024-02-14T04:11:22.089039",
     "exception": false,
     "start_time": "2024-02-14T04:11:22.083819",
     "status": "completed"
    },
    "tags": []
   },
   "source": [
    "## Export documents\n",
    "\n",
    "We now write the .md files and export relevant images"
   ]
  },
  {
   "cell_type": "code",
   "execution_count": 6,
   "id": "d426aed9",
   "metadata": {
    "execution": {
     "iopub.execute_input": "2024-02-14T04:11:22.101178Z",
     "iopub.status.busy": "2024-02-14T04:11:22.100601Z",
     "iopub.status.idle": "2024-02-14T04:11:22.107287Z",
     "shell.execute_reply": "2024-02-14T04:11:22.106621Z"
    },
    "papermill": {
     "duration": 0.014271,
     "end_time": "2024-02-14T04:11:22.108651",
     "exception": false,
     "start_time": "2024-02-14T04:11:22.094380",
     "status": "completed"
    },
    "tags": []
   },
   "outputs": [],
   "source": [
    "def export_markdown_summary(md: str, md_fname:str, directory: str):\n",
    "    \"\"\"Export MD document and associated relevant images\"\"\"\n",
    "    import os\n",
    "    import shutil\n",
    "    import re\n",
    "\n",
    "    if (os.path.exists(directory) and not os.path.isdir(directory)):\n",
    "        raise RuntimeError(f\"a non-directory file exists with name {directory:s}\")\n",
    "\n",
    "    if (not os.path.exists(directory)):\n",
    "        print(f\"creating directory {directory:s}\")\n",
    "        os.mkdir(directory)\n",
    "\n",
    "    fig_fnames = (re.compile(r'\\[Fig.*\\]\\((.*)\\)').findall(md) + \n",
    "                  re.compile(r'\\<img src=\"([^>\\s]*)\"[^>]*/>').findall(md))\n",
    "    for fname in fig_fnames:\n",
    "        if 'http' in fname:\n",
    "            # No need to copy online figures\n",
    "            continue\n",
    "        destdir = os.path.join(directory, os.path.dirname(fname))\n",
    "        destfname = os.path.join(destdir, os.path.basename(fname))\n",
    "        try:\n",
    "            os.makedirs(destdir)\n",
    "        except FileExistsError:\n",
    "            pass\n",
    "        shutil.copy(fname, destfname)\n",
    "    with open(os.path.join(directory, md_fname), 'w') as fout:\n",
    "        fout.write(md)\n",
    "    print(\"exported in \", os.path.join(directory, md_fname))\n",
    "    [print(\"    + \" + os.path.join(directory,fk)) for fk in fig_fnames]"
   ]
  },
  {
   "cell_type": "code",
   "execution_count": 7,
   "id": "014d04a4",
   "metadata": {
    "execution": {
     "iopub.execute_input": "2024-02-14T04:11:22.120733Z",
     "iopub.status.busy": "2024-02-14T04:11:22.120228Z",
     "iopub.status.idle": "2024-02-14T04:11:22.128276Z",
     "shell.execute_reply": "2024-02-14T04:11:22.127631Z"
    },
    "papermill": {
     "duration": 0.015559,
     "end_time": "2024-02-14T04:11:22.129688",
     "exception": false,
     "start_time": "2024-02-14T04:11:22.114129",
     "status": "completed"
    },
    "tags": []
   },
   "outputs": [
    {
     "name": "stdout",
     "output_type": "stream",
     "text": [
      "exported in  _build/html/2402.07989.md\n",
      "    + _build/html/tmp_2402.07989/./figs/three-size.png\n",
      "    + _build/html/tmp_2402.07989/./figs/obsc_frac_w17_errfunc.png\n",
      "    + _build/html/tmp_2402.07989/./figs/obsc_frac_w17_errfunc-redshift.png\n",
      "    + _build/html/tmp_2402.07989/./figs/qpah-mass.png\n",
      "    + _build/html/tmp_2402.07989/./figs/f77-mass.png\n"
     ]
    }
   ],
   "source": [
    "for paper_id, md in documents:\n",
    "    export_markdown_summary(md, f\"{paper_id:s}.md\", '_build/html/')"
   ]
  },
  {
   "cell_type": "markdown",
   "id": "f087a0a7",
   "metadata": {
    "papermill": {
     "duration": 0.005413,
     "end_time": "2024-02-14T04:11:22.140682",
     "exception": false,
     "start_time": "2024-02-14T04:11:22.135269",
     "status": "completed"
    },
    "tags": []
   },
   "source": [
    "## Display the papers\n",
    "\n",
    "Not necessary but allows for a quick check."
   ]
  },
  {
   "cell_type": "code",
   "execution_count": 8,
   "id": "fd25f625",
   "metadata": {
    "execution": {
     "iopub.execute_input": "2024-02-14T04:11:22.153055Z",
     "iopub.status.busy": "2024-02-14T04:11:22.152679Z",
     "iopub.status.idle": "2024-02-14T04:11:22.157703Z",
     "shell.execute_reply": "2024-02-14T04:11:22.157064Z"
    },
    "papermill": {
     "duration": 0.012855,
     "end_time": "2024-02-14T04:11:22.159120",
     "exception": false,
     "start_time": "2024-02-14T04:11:22.146265",
     "status": "completed"
    },
    "scrolled": false,
    "tags": []
   },
   "outputs": [
    {
     "data": {
      "text/markdown": [
       "<div class=\"macros\" style=\"visibility:hidden;\">\n",
       "$\\newcommand{\\ensuremath}{}$\n",
       "$\\newcommand{\\xspace}{}$\n",
       "$\\newcommand{\\object}[1]{\\texttt{#1}}$\n",
       "$\\newcommand{\\farcs}{{.}''}$\n",
       "$\\newcommand{\\farcm}{{.}'}$\n",
       "$\\newcommand{\\arcsec}{''}$\n",
       "$\\newcommand{\\arcmin}{'}$\n",
       "$\\newcommand{\\ion}[2]{#1#2}$\n",
       "$\\newcommand{\\textsc}[1]{\\textrm{#1}}$\n",
       "$\\newcommand{\\hl}[1]{\\textrm{#1}}$\n",
       "$\\newcommand{\\footnote}[1]{}$\n",
       "$\\newcommand{\\Msun}{ M_{\\odot}}$\n",
       "$\\newcommand{\\Lsun}{ L_{\\odot}}$\n",
       "$\\newcommand{\\um}{ \\mum}$\n",
       "$\\newcommand{\\uJy}{ \\muJy}$\n",
       "$\\newcommand{\\qpah}{q_{\\rm PAH}}$\n",
       "$\\newcommand{\\logoh}{12+\\log{\\rm{(O/H)}}}$\n",
       "$\\newcommand{\\fobsc}{f_{\\rm obsc}}$\n",
       "$\\newcommand{\\Ssfr}{\\Sigma_{\\rm SFR}}$\n",
       "$\\newcommand{\\}{natexlab}$</div>\n",
       "\n",
       "\n",
       "\n",
       "<div id=\"title\">\n",
       "\n",
       "# A new census of dust and PAHs at $z=0.7-2$ with JWST MIRI   \n",
       "\n",
       "</div>\n",
       "<div id=\"comments\">\n",
       "\n",
       "[![arXiv](https://img.shields.io/badge/arXiv-2402.07989-b31b1b.svg)](https://arxiv.org/abs/2402.07989)<mark>Appeared on: 2024-02-14</mark> -  _Submitted to A&A_\n",
       "\n",
       "</div>\n",
       "<div id=\"authors\">\n",
       "\n",
       "I. Shivaei, et al.\n",
       "\n",
       "</div>\n",
       "<div id=\"abstract\">\n",
       "\n",
       "**Abstract:** This paper utilizes the James Webb Space Telescope (JWST) Mid-Infrared Instrument (MIRI) to extend the observational studies of dust and Polycyclic Aromatic Hydrocarbon (PAH) emission to a new mass and star formation rate (SFR) parameter space beyond our local universe. The combination of fully sampled SEDs with multiple mid-IR bands and the unprecedented sensitivity of MIRI allows us to investigate dust obscuration and PAH behavior from $z=0.7$ up to $z=2$ in typical main-sequence galaxies. Our focus is on constraining the evolution of PAH strength and dust-obscured luminosity fraction before and during cosmic noon, the epoch of peak star formation activity in the universe. In this study, we utilize MIRI multi-band imaging data from the SMILES survey (5 to 25 ${\\um}$ ), complemented with NIRCam photometry from the JADES survey (1 to 5 ${\\um}$ ), available HST photometry (0.4 to 0.9 ${\\um}$ ), and spectroscopic redshifts from the FRESCO and JADES surveys in GOODS-S for 443 star-forming (non-AGN) galaxies at $z=0.7-2.0$ . This redshift range is chosen to ensure that the MIRI data cover mid-IR dust emission. Our methodology involves employing UV-to-IR energy balance SED fitting to robustly constrain the fraction of dust mass in PAHs and dust obscured luminosity. Additionally, we infer dust sizes from MIRI 15 ${\\um}$ imaging data, enhancing our understanding of the physical characteristics of dust within these galaxies. We find a strong correlation between the fraction of dust in PAHs (PAH fraction, ${\\qpah}$ ) with stellar mass. Moreover, the PAH fraction behaviour as a function of gas-phase metallicity is similar to that at $z\\sim 0$ from previous studies, suggesting a universal relation: ${\\qpah}$ is constant ( $\\sim 3.4$ \\% ) above a metallicity of $Z \\sim 0.5 Z_{\\odot}$ and decreases to $<1$ \\% at metallicities $\\lesssim 0.3 Z_{\\odot}$ . This indicates that metallicity is a good indicator of the ISM properties that affect the balance between the formation and destruction of PAHs. The lack of a redshift evolution from $z\\sim 0-2$ also implies that above $Z\\sim 0.5 Z_{\\odot}$ , the PAH emission effectively traces obscured luminosity and the previous locally-calibrated PAH-SFR calibrations remain applicable in this metallicity regime. We observe a strong correlation between obscured UV luminosity fraction (ratio of obscured to total luminosity) and stellar mass. Above the stellar mass of $M_*>5\\times 10^9$ ${\\Msun}$ , on average, more than half of the emitted luminosity is obscured, while there exists a non-negligible population of lower mass galaxies with $>50\\%$ obscured fractions. At a fixed mass, the obscured fraction correlates with SFR surface density. This is a result of higher dust covering fractions in galaxies with more compact star forming regions. Similarly, galaxies with high IRX (IR to UV luminosity) at a given mass or UV continuum slope ( $\\beta$ ) tend to have higher ${\\Ssfr}$ and shallower attenuation curves, owing to their higher effective dust optical depths and more compact star forming regions.\n",
       "\n",
       "</div>\n",
       "\n",
       "<div id=\"div_fig1\">\n",
       "\n",
       "<img src=\"tmp_2402.07989/./figs/three-size.png\" alt=\"Fig13\" width=\"100%\"/>\n",
       "\n",
       "**Figure 13. -** Obscured luminosity fraction as a function of {$\\Ssfr$}(using F1500W sizes) and F1500W effective radius (middle) for the F1500W spatially resolved sample (the filter FWHM is 0.5 arcsec). At a given mass, {$\\fobsc$} increases with {$\\Ssfr$} and decreases with rest-frame mid-IR (dust) radii. Right panel shows SFR versus F1500W size for the same sample. The near constant SFR with ${\\rm R_{e,F1500W}}$ in each mass bin indicates that the relationship between {$\\fobsc$} and size is independent of SFR.\n",
       "    Individual measurements are shown with small symbols and color-coded in three stellar mass bins with the same number of galaxies, shown in the legend. In each mass bin, average values in bins of the parameter on the x-axis are shown with larger symbols with the corresponding shape and color of the mass bin. Pearson correlation coefficients ($\\rho$) are shown in the corners of the plots with corresponding colors of each mass bin.  Linear fits to the average values of {$\\fobsc$} versus $\\log$({$\\Ssfr$}) are shown in the left panel. The fit parameters are in Table \\ref{table:fobsc}.  (*fig:obsc_frac*)\n",
       "\n",
       "</div>\n",
       "<div id=\"div_fig2\">\n",
       "\n",
       "<img src=\"tmp_2402.07989/./figs/obsc_frac_w17_errfunc.png\" alt=\"Fig12.1\" width=\"50%\"/><img src=\"tmp_2402.07989/./figs/obsc_frac_w17_errfunc-redshift.png\" alt=\"Fig12.2\" width=\"50%\"/>\n",
       "\n",
       "**Figure 12. -** Obscured luminosity fraction as a function of stellar mass for the full sample (left) and separated by redshift (right). Obscured fraction is defined as the obscured UV to total (intrinsic) UV luminosity at 1550 {Å}, inferred from the best-fit UV-to-IR SEDs.\n",
       "    We show the moving median (dashed thick lines), moving weighted-average (dotted line) and best-fit curve (solid lines) to the samples at $M_*>4\\times10^8${$\\Msun$}, where the data is mass-complete.\n",
       "    In the left panel, we also show the \\citet{whitaker17} fit to $z= 0.5-2.5$ with an orange curve. The \\citet{whitaker17} study was based on Spitzer/MIPS data with a wider area but biased to more obscured systems.\n",
       "    Our weighted-average trend is also dominated by the heavily obscured systems, and therefore similar to the \\citep{whitaker17} curve. However, the median trend that is more representative of the full population captured by the deeper MIRI data (relative to the MIPS data) is systematically lower.\n",
       "    Furthermore, as shown in the right panel, there is no redshift evolution in this relation in our sample.\n",
       "     (*fig:obsc_frac_w17*)\n",
       "\n",
       "</div>\n",
       "<div id=\"div_fig3\">\n",
       "\n",
       "<img src=\"tmp_2402.07989/./figs/qpah-mass.png\" alt=\"Fig8.1\" width=\"50%\"/><img src=\"tmp_2402.07989/./figs/f77-mass.png\" alt=\"Fig8.2\" width=\"50%\"/>\n",
       "\n",
       "**Figure 8. -** PAH mass fraction (left) and luminosity fraction (right) as a function of stellar mass. Moving median (black curve) is shown for the robust {$\\qpah$} sample (see Section \\ref{sec:final-sample} for the definition of samples), and all galaxies are color-coded by sSFR. In the left panel, vertical lines show the median PAH mass fractions of $z\\sim 0$ galaxies with {$\\logoh$}$<8.1$ and $>8.1$ from \\citet{draine07b}. On the top x-axes, we also show the estimated metallicities from the O3N2-based mass-metallicity relation (MZR) of \\cite{topping21} at $z\\sim 1.5$, and assuming the \\cite{pp04} calibration. The $z\\sim 0.7-2$ sample has a very similar {$\\qpah$}-metallicity behaviour to that inferred at $z\\sim 0$.\n",
       "     (*fig:pah-mass*)\n",
       "\n",
       "</div><div id=\"qrcode\"><img src=https://api.qrserver.com/v1/create-qr-code/?size=100x100&data=\"https://arxiv.org/abs/2402.07989\"></div>"
      ],
      "text/plain": [
       "<IPython.core.display.Markdown object>"
      ]
     },
     "metadata": {},
     "output_type": "display_data"
    }
   ],
   "source": [
    "[display(Markdown(k[1])) for k in documents];"
   ]
  },
  {
   "cell_type": "markdown",
   "id": "873873a4",
   "metadata": {
    "papermill": {
     "duration": 0.005597,
     "end_time": "2024-02-14T04:11:22.170461",
     "exception": false,
     "start_time": "2024-02-14T04:11:22.164864",
     "status": "completed"
    },
    "tags": []
   },
   "source": [
    "# Create HTML index"
   ]
  },
  {
   "cell_type": "code",
   "execution_count": 9,
   "id": "cf665672",
   "metadata": {
    "execution": {
     "iopub.execute_input": "2024-02-14T04:11:22.183160Z",
     "iopub.status.busy": "2024-02-14T04:11:22.182710Z",
     "iopub.status.idle": "2024-02-14T04:11:22.192489Z",
     "shell.execute_reply": "2024-02-14T04:11:22.191911Z"
    },
    "papermill": {
     "duration": 0.017843,
     "end_time": "2024-02-14T04:11:22.193920",
     "exception": false,
     "start_time": "2024-02-14T04:11:22.176077",
     "status": "completed"
    },
    "tags": []
   },
   "outputs": [
    {
     "name": "stdout",
     "output_type": "stream",
     "text": [
      "371  publications files modified in the last 7 days.\n"
     ]
    }
   ],
   "source": [
    "from datetime import datetime, timedelta, timezone\n",
    "from glob import glob\n",
    "import os\n",
    "\n",
    "files = glob('_build/html/*.md')\n",
    "days = 7\n",
    "now = datetime.today()\n",
    "res = []\n",
    "for fk in files:\n",
    "    stat_result = os.stat(fk).st_ctime\n",
    "    modified = datetime.fromtimestamp(stat_result, tz=timezone.utc).replace(tzinfo=None)\n",
    "    delta = now.today() - modified\n",
    "    if delta <= timedelta(days=days):\n",
    "        res.append((delta.seconds, fk))\n",
    "res = [k[1] for k in reversed(sorted(res, key=lambda x:x[1]))]\n",
    "npub = len(res)\n",
    "print(len(res), f\" publications files modified in the last {days:d} days.\")\n",
    "# [ print('\\t', k) for k in res ];"
   ]
  },
  {
   "cell_type": "code",
   "execution_count": 10,
   "id": "015de740",
   "metadata": {
    "execution": {
     "iopub.execute_input": "2024-02-14T04:11:22.207594Z",
     "iopub.status.busy": "2024-02-14T04:11:22.207093Z",
     "iopub.status.idle": "2024-02-14T04:11:22.229250Z",
     "shell.execute_reply": "2024-02-14T04:11:22.228575Z"
    },
    "papermill": {
     "duration": 0.030679,
     "end_time": "2024-02-14T04:11:22.230674",
     "exception": false,
     "start_time": "2024-02-14T04:11:22.199995",
     "status": "completed"
    },
    "tags": []
   },
   "outputs": [
    {
     "name": "stdout",
     "output_type": "stream",
     "text": [
      "4  publications in the last 7 days.\n"
     ]
    }
   ],
   "source": [
    "import datetime\n",
    "from glob import glob\n",
    "\n",
    "def get_last_n_days(lst, days=1):\n",
    "    \"\"\" Get the documents from the last n days \"\"\"\n",
    "    sorted_lst = sorted(lst, key=lambda x: x[1], reverse=True)\n",
    "    for fname, date in sorted_lst:\n",
    "        if date >= str(datetime.date.today() - datetime.timedelta(days=days)):\n",
    "            yield fname\n",
    "\n",
    "def extract_appearance_dates(lst_file):\n",
    "    dates = []\n",
    "\n",
    "    def get_date(line):\n",
    "        return line\\\n",
    "            .split('Appeared on:')[-1]\\\n",
    "            .split('</mark>')[0].strip()\n",
    "\n",
    "    for fname in lst:\n",
    "        with open(fname, 'r') as f:\n",
    "            found_date = False\n",
    "            for line in f:\n",
    "                if not found_date:\n",
    "                    if \"Appeared on\" in line:\n",
    "                        found_date = True\n",
    "                        dates.append((fname, get_date(line)))\n",
    "                else:\n",
    "                    break\n",
    "    return dates\n",
    "\n",
    "from glob import glob\n",
    "lst = glob('_build/html/*md')\n",
    "days = 7\n",
    "dates = extract_appearance_dates(lst)\n",
    "res = list(get_last_n_days(dates, days))\n",
    "npub = len(res)\n",
    "print(len(res), f\" publications in the last {days:d} days.\")"
   ]
  },
  {
   "cell_type": "code",
   "execution_count": 11,
   "id": "52ca0208",
   "metadata": {
    "execution": {
     "iopub.execute_input": "2024-02-14T04:11:22.244333Z",
     "iopub.status.busy": "2024-02-14T04:11:22.243735Z",
     "iopub.status.idle": "2024-02-14T04:11:22.248980Z",
     "shell.execute_reply": "2024-02-14T04:11:22.248332Z"
    },
    "papermill": {
     "duration": 0.013544,
     "end_time": "2024-02-14T04:11:22.250300",
     "exception": false,
     "start_time": "2024-02-14T04:11:22.236756",
     "status": "completed"
    },
    "scrolled": false,
    "tags": []
   },
   "outputs": [],
   "source": [
    "def create_carousel(npub=4):\n",
    "    \"\"\" Generate the HTML code for a carousel with `npub` slides \"\"\"\n",
    "    carousel = [\"\"\"  <div class=\"carousel\" \"\"\",\n",
    "                \"\"\"       data-flickity='{ \"autoPlay\": 10000, \"adaptiveHeight\": true, \"resize\": true, \"wrapAround\": true, \"pauseAutoPlayOnHover\": true, \"groupCells\": 1 }' id=\"asyncTypeset\">\"\"\"\n",
    "                ]\n",
    "    \n",
    "    item_str = \"\"\"    <div class=\"carousel-cell\"> <div id=\"slide{k}\" class=\"md_view\">Content {k}</div> </div>\"\"\"\n",
    "    for k in range(1, npub + 1):\n",
    "        carousel.append(item_str.format(k=k))\n",
    "    carousel.append(\"  </div>\")\n",
    "    return '\\n'.join(carousel)\n",
    "\n",
    "def create_grid(npub=4):\n",
    "    \"\"\" Generate the HTML code for a flat grid with `npub` slides \"\"\"\n",
    "    grid = [\"\"\"  <div class=\"grid\"> \"\"\",\n",
    "                ]\n",
    "    \n",
    "    item_str = \"\"\"    <div class=\"grid-item\"> <div id=\"slide{k}\" class=\"md_view\">Content {k}</div> </div>\"\"\"\n",
    "    for k in range(1, npub + 1):\n",
    "        grid.append(item_str.format(k=k))\n",
    "    grid.append(\"  </div>\")\n",
    "    return '\\n'.join(grid)"
   ]
  },
  {
   "cell_type": "code",
   "execution_count": 12,
   "id": "a6eac5b6",
   "metadata": {
    "execution": {
     "iopub.execute_input": "2024-02-14T04:11:22.263404Z",
     "iopub.status.busy": "2024-02-14T04:11:22.263011Z",
     "iopub.status.idle": "2024-02-14T04:11:22.268190Z",
     "shell.execute_reply": "2024-02-14T04:11:22.267553Z"
    },
    "papermill": {
     "duration": 0.013243,
     "end_time": "2024-02-14T04:11:22.269625",
     "exception": false,
     "start_time": "2024-02-14T04:11:22.256382",
     "status": "completed"
    },
    "scrolled": false,
    "tags": []
   },
   "outputs": [],
   "source": [
    "carousel = create_carousel(npub)\n",
    "docs = ', '.join(['\"{0:s}\"'.format(k.split('/')[-1]) for k in res])\n",
    "slides = ', '.join([f'\"slide{k}\"' for k in range(1, npub + 1)])\n",
    "\n",
    "with open(\"daily_template.html\", \"r\") as tpl:\n",
    "    page = tpl.read()\n",
    "    page = page.replace(\"{%-- carousel:s --%}\", carousel)\\\n",
    "               .replace(\"{%-- suptitle:s --%}\",  \"7-day archives\" )\\\n",
    "               .replace(\"{%-- docs:s --%}\", docs)\\\n",
    "               .replace(\"{%-- slides:s --%}\", slides)\n",
    "    \n",
    "with open(\"_build/html/index_7days.html\", 'w') as fout:\n",
    "    fout.write(page)"
   ]
  },
  {
   "cell_type": "code",
   "execution_count": 13,
   "id": "adc1a1ec",
   "metadata": {
    "execution": {
     "iopub.execute_input": "2024-02-14T04:11:22.283301Z",
     "iopub.status.busy": "2024-02-14T04:11:22.282735Z",
     "iopub.status.idle": "2024-02-14T04:11:22.289999Z",
     "shell.execute_reply": "2024-02-14T04:11:22.289384Z"
    },
    "papermill": {
     "duration": 0.015698,
     "end_time": "2024-02-14T04:11:22.291478",
     "exception": false,
     "start_time": "2024-02-14T04:11:22.275780",
     "status": "completed"
    },
    "tags": []
   },
   "outputs": [
    {
     "name": "stdout",
     "output_type": "stream",
     "text": [
      "2  publications in the last day.\n"
     ]
    }
   ],
   "source": [
    "# redo for today\n",
    "days = 1\n",
    "res = list(get_last_n_days(dates, days))\n",
    "npub = len(res)\n",
    "print(len(res), f\" publications in the last day.\")\n",
    "\n",
    "carousel = create_carousel(npub)\n",
    "docs = ', '.join(['\"{0:s}\"'.format(k.split('/')[-1]) for k in res])\n",
    "slides = ', '.join([f'\"slide{k}\"' for k in range(1, npub + 1)])\n",
    "\n",
    "with open(\"daily_template.html\", \"r\") as tpl:\n",
    "    page = tpl.read()\n",
    "    page = page.replace(\"{%-- carousel:s --%}\", carousel)\\\n",
    "               .replace(\"{%-- suptitle:s --%}\",  \"Daily\" )\\\n",
    "               .replace(\"{%-- docs:s --%}\", docs)\\\n",
    "               .replace(\"{%-- slides:s --%}\", slides)\n",
    "    \n",
    "# print(carousel, docs, slides)\n",
    "# print(page)\n",
    "with open(\"_build/html/index_daily.html\", 'w') as fout:\n",
    "    fout.write(page)"
   ]
  },
  {
   "cell_type": "code",
   "execution_count": 14,
   "id": "00eece82",
   "metadata": {
    "execution": {
     "iopub.execute_input": "2024-02-14T04:11:22.305059Z",
     "iopub.status.busy": "2024-02-14T04:11:22.304519Z",
     "iopub.status.idle": "2024-02-14T04:11:22.311401Z",
     "shell.execute_reply": "2024-02-14T04:11:22.310825Z"
    },
    "papermill": {
     "duration": 0.015208,
     "end_time": "2024-02-14T04:11:22.312774",
     "exception": false,
     "start_time": "2024-02-14T04:11:22.297566",
     "status": "completed"
    },
    "scrolled": false,
    "tags": []
   },
   "outputs": [
    {
     "name": "stdout",
     "output_type": "stream",
     "text": [
      "6  6 publications selected.\n"
     ]
    }
   ],
   "source": [
    "# Create the flat grid of the last N papers (fixed number regardless of dates)\n",
    "from itertools import islice \n",
    "\n",
    "npub = 6\n",
    "res = [k[0] for k in (islice(reversed(sorted(dates, key=lambda x: x[1])), 6))]\n",
    "print(len(res), f\" {npub} publications selected.\")\n",
    "\n",
    "grid = create_grid(npub)\n",
    "docs = ', '.join(['\"{0:s}\"'.format(k.split('/')[-1]) for k in res])\n",
    "slides = ', '.join([f'\"slide{k}\"' for k in range(1, npub + 1)])\n",
    "\n",
    "with open(\"grid_template.html\", \"r\") as tpl:\n",
    "    page = tpl.read()\n",
    "    page = page.replace(\"{%-- grid-content:s --%}\", grid)\\\n",
    "               .replace(\"{%-- suptitle:s --%}\",  f\"Last {npub:,d} papers\" )\\\n",
    "               .replace(\"{%-- docs:s --%}\", docs)\\\n",
    "               .replace(\"{%-- slides:s --%}\", slides)\n",
    "    \n",
    "# print(grid, docs, slides)\n",
    "# print(page)\n",
    "with open(\"_build/html/index_npub_grid.html\", 'w') as fout:\n",
    "    fout.write(page)"
   ]
  }
 ],
 "metadata": {
  "kernelspec": {
   "display_name": "Python 3 (ipykernel)",
   "language": "python",
   "name": "python3"
  },
  "language_info": {
   "codemirror_mode": {
    "name": "ipython",
    "version": 3
   },
   "file_extension": ".py",
   "mimetype": "text/x-python",
   "name": "python",
   "nbconvert_exporter": "python",
   "pygments_lexer": "ipython3",
   "version": "3.9.18"
  },
  "papermill": {
   "default_parameters": {},
   "duration": 139.662888,
   "end_time": "2024-02-14T04:11:22.636201",
   "environment_variables": {},
   "exception": null,
   "input_path": "MPIA daily digest.ipynb",
   "output_path": "log.ipynb",
   "parameters": {},
   "start_time": "2024-02-14T04:09:02.973313",
   "version": "2.5.0"
  },
  "vscode": {
   "interpreter": {
    "hash": "aee8b7b246df8f9039afb4144a1f6fd8d2ca17a180786b69acc140d282b71a49"
   }
  },
  "widgets": {
   "application/vnd.jupyter.widget-state+json": {
    "state": {
     "138445df08ba4c358c7cd59bdfe91396": {
      "model_module": "@jupyter-widgets/controls",
      "model_module_version": "2.0.0",
      "model_name": "HTMLStyleModel",
      "state": {
       "_model_module": "@jupyter-widgets/controls",
       "_model_module_version": "2.0.0",
       "_model_name": "HTMLStyleModel",
       "_view_count": null,
       "_view_module": "@jupyter-widgets/base",
       "_view_module_version": "2.0.0",
       "_view_name": "StyleView",
       "background": null,
       "description_width": "",
       "font_size": null,
       "text_color": null
      }
     },
     "1dc68393e3bc4320b9f3e96851bd22c4": {
      "model_module": "@jupyter-widgets/base",
      "model_module_version": "2.0.0",
      "model_name": "LayoutModel",
      "state": {
       "_model_module": "@jupyter-widgets/base",
       "_model_module_version": "2.0.0",
       "_model_name": "LayoutModel",
       "_view_count": null,
       "_view_module": "@jupyter-widgets/base",
       "_view_module_version": "2.0.0",
       "_view_name": "LayoutView",
       "align_content": null,
       "align_items": null,
       "align_self": null,
       "border_bottom": null,
       "border_left": null,
       "border_right": null,
       "border_top": null,
       "bottom": null,
       "display": null,
       "flex": null,
       "flex_flow": null,
       "grid_area": null,
       "grid_auto_columns": null,
       "grid_auto_flow": null,
       "grid_auto_rows": null,
       "grid_column": null,
       "grid_gap": null,
       "grid_row": null,
       "grid_template_areas": null,
       "grid_template_columns": null,
       "grid_template_rows": null,
       "height": null,
       "justify_content": null,
       "justify_items": null,
       "left": null,
       "margin": null,
       "max_height": null,
       "max_width": null,
       "min_height": null,
       "min_width": null,
       "object_fit": null,
       "object_position": null,
       "order": null,
       "overflow": null,
       "padding": null,
       "right": null,
       "top": null,
       "visibility": null,
       "width": null
      }
     },
     "4166ac0ffc98473ab8454851e70798a5": {
      "model_module": "@jupyter-widgets/base",
      "model_module_version": "2.0.0",
      "model_name": "LayoutModel",
      "state": {
       "_model_module": "@jupyter-widgets/base",
       "_model_module_version": "2.0.0",
       "_model_name": "LayoutModel",
       "_view_count": null,
       "_view_module": "@jupyter-widgets/base",
       "_view_module_version": "2.0.0",
       "_view_name": "LayoutView",
       "align_content": null,
       "align_items": null,
       "align_self": null,
       "border_bottom": null,
       "border_left": null,
       "border_right": null,
       "border_top": null,
       "bottom": null,
       "display": null,
       "flex": null,
       "flex_flow": null,
       "grid_area": null,
       "grid_auto_columns": null,
       "grid_auto_flow": null,
       "grid_auto_rows": null,
       "grid_column": null,
       "grid_gap": null,
       "grid_row": null,
       "grid_template_areas": null,
       "grid_template_columns": null,
       "grid_template_rows": null,
       "height": null,
       "justify_content": null,
       "justify_items": null,
       "left": null,
       "margin": null,
       "max_height": null,
       "max_width": null,
       "min_height": null,
       "min_width": null,
       "object_fit": null,
       "object_position": null,
       "order": null,
       "overflow": null,
       "padding": null,
       "right": null,
       "top": null,
       "visibility": null,
       "width": null
      }
     },
     "44acf58a6cd24aab8bedfdcfc58800b6": {
      "model_module": "@jupyter-widgets/controls",
      "model_module_version": "2.0.0",
      "model_name": "HBoxModel",
      "state": {
       "_dom_classes": [],
       "_model_module": "@jupyter-widgets/controls",
       "_model_module_version": "2.0.0",
       "_model_name": "HBoxModel",
       "_view_count": null,
       "_view_module": "@jupyter-widgets/controls",
       "_view_module_version": "2.0.0",
       "_view_name": "HBoxView",
       "box_style": "",
       "children": [
        "IPY_MODEL_f22e1e4d52ce41009c8472c0248211b4",
        "IPY_MODEL_cd0c7f5cb2794ab7a69c3c171d717a84",
        "IPY_MODEL_dd4285e7340b4c70b5166e01b9bf9546"
       ],
       "layout": "IPY_MODEL_1dc68393e3bc4320b9f3e96851bd22c4",
       "tabbable": null,
       "tooltip": null
      }
     },
     "68b3329ab4b247b9b225b863e566fa2b": {
      "model_module": "@jupyter-widgets/controls",
      "model_module_version": "2.0.0",
      "model_name": "HTMLStyleModel",
      "state": {
       "_model_module": "@jupyter-widgets/controls",
       "_model_module_version": "2.0.0",
       "_model_name": "HTMLStyleModel",
       "_view_count": null,
       "_view_module": "@jupyter-widgets/base",
       "_view_module_version": "2.0.0",
       "_view_name": "StyleView",
       "background": null,
       "description_width": "",
       "font_size": null,
       "text_color": null
      }
     },
     "727bf8b1794048e6848986638502a6e9": {
      "model_module": "@jupyter-widgets/controls",
      "model_module_version": "2.0.0",
      "model_name": "ProgressStyleModel",
      "state": {
       "_model_module": "@jupyter-widgets/controls",
       "_model_module_version": "2.0.0",
       "_model_name": "ProgressStyleModel",
       "_view_count": null,
       "_view_module": "@jupyter-widgets/base",
       "_view_module_version": "2.0.0",
       "_view_name": "StyleView",
       "bar_color": null,
       "description_width": ""
      }
     },
     "7ccf1c561ae44dc0aff6b8a5536dd3e1": {
      "model_module": "@jupyter-widgets/base",
      "model_module_version": "2.0.0",
      "model_name": "LayoutModel",
      "state": {
       "_model_module": "@jupyter-widgets/base",
       "_model_module_version": "2.0.0",
       "_model_name": "LayoutModel",
       "_view_count": null,
       "_view_module": "@jupyter-widgets/base",
       "_view_module_version": "2.0.0",
       "_view_name": "LayoutView",
       "align_content": null,
       "align_items": null,
       "align_self": null,
       "border_bottom": null,
       "border_left": null,
       "border_right": null,
       "border_top": null,
       "bottom": null,
       "display": null,
       "flex": null,
       "flex_flow": null,
       "grid_area": null,
       "grid_auto_columns": null,
       "grid_auto_flow": null,
       "grid_auto_rows": null,
       "grid_column": null,
       "grid_gap": null,
       "grid_row": null,
       "grid_template_areas": null,
       "grid_template_columns": null,
       "grid_template_rows": null,
       "height": null,
       "justify_content": null,
       "justify_items": null,
       "left": null,
       "margin": null,
       "max_height": null,
       "max_width": null,
       "min_height": null,
       "min_width": null,
       "object_fit": null,
       "object_position": null,
       "order": null,
       "overflow": null,
       "padding": null,
       "right": null,
       "top": null,
       "visibility": null,
       "width": null
      }
     },
     "cd0c7f5cb2794ab7a69c3c171d717a84": {
      "model_module": "@jupyter-widgets/controls",
      "model_module_version": "2.0.0",
      "model_name": "FloatProgressModel",
      "state": {
       "_dom_classes": [],
       "_model_module": "@jupyter-widgets/controls",
       "_model_module_version": "2.0.0",
       "_model_name": "FloatProgressModel",
       "_view_count": null,
       "_view_module": "@jupyter-widgets/controls",
       "_view_module_version": "2.0.0",
       "_view_name": "ProgressView",
       "bar_style": "success",
       "description": "",
       "description_allow_html": false,
       "layout": "IPY_MODEL_7ccf1c561ae44dc0aff6b8a5536dd3e1",
       "max": 10.0,
       "min": 0.0,
       "orientation": "horizontal",
       "style": "IPY_MODEL_727bf8b1794048e6848986638502a6e9",
       "tabbable": null,
       "tooltip": null,
       "value": 10.0
      }
     },
     "d9bc5edc7c5640db8ba643fa5b7a89ba": {
      "model_module": "@jupyter-widgets/base",
      "model_module_version": "2.0.0",
      "model_name": "LayoutModel",
      "state": {
       "_model_module": "@jupyter-widgets/base",
       "_model_module_version": "2.0.0",
       "_model_name": "LayoutModel",
       "_view_count": null,
       "_view_module": "@jupyter-widgets/base",
       "_view_module_version": "2.0.0",
       "_view_name": "LayoutView",
       "align_content": null,
       "align_items": null,
       "align_self": null,
       "border_bottom": null,
       "border_left": null,
       "border_right": null,
       "border_top": null,
       "bottom": null,
       "display": null,
       "flex": null,
       "flex_flow": null,
       "grid_area": null,
       "grid_auto_columns": null,
       "grid_auto_flow": null,
       "grid_auto_rows": null,
       "grid_column": null,
       "grid_gap": null,
       "grid_row": null,
       "grid_template_areas": null,
       "grid_template_columns": null,
       "grid_template_rows": null,
       "height": null,
       "justify_content": null,
       "justify_items": null,
       "left": null,
       "margin": null,
       "max_height": null,
       "max_width": null,
       "min_height": null,
       "min_width": null,
       "object_fit": null,
       "object_position": null,
       "order": null,
       "overflow": null,
       "padding": null,
       "right": null,
       "top": null,
       "visibility": null,
       "width": null
      }
     },
     "dd4285e7340b4c70b5166e01b9bf9546": {
      "model_module": "@jupyter-widgets/controls",
      "model_module_version": "2.0.0",
      "model_name": "HTMLModel",
      "state": {
       "_dom_classes": [],
       "_model_module": "@jupyter-widgets/controls",
       "_model_module_version": "2.0.0",
       "_model_name": "HTMLModel",
       "_view_count": null,
       "_view_module": "@jupyter-widgets/controls",
       "_view_module_version": "2.0.0",
       "_view_name": "HTMLView",
       "description": "",
       "description_allow_html": false,
       "layout": "IPY_MODEL_d9bc5edc7c5640db8ba643fa5b7a89ba",
       "placeholder": "​",
       "style": "IPY_MODEL_138445df08ba4c358c7cd59bdfe91396",
       "tabbable": null,
       "tooltip": null,
       "value": " 10/10 [01:56&lt;00:00,  5.03s/it]"
      }
     },
     "f22e1e4d52ce41009c8472c0248211b4": {
      "model_module": "@jupyter-widgets/controls",
      "model_module_version": "2.0.0",
      "model_name": "HTMLModel",
      "state": {
       "_dom_classes": [],
       "_model_module": "@jupyter-widgets/controls",
       "_model_module_version": "2.0.0",
       "_model_name": "HTMLModel",
       "_view_count": null,
       "_view_module": "@jupyter-widgets/controls",
       "_view_module_version": "2.0.0",
       "_view_name": "HTMLView",
       "description": "",
       "description_allow_html": false,
       "layout": "IPY_MODEL_4166ac0ffc98473ab8454851e70798a5",
       "placeholder": "​",
       "style": "IPY_MODEL_68b3329ab4b247b9b225b863e566fa2b",
       "tabbable": null,
       "tooltip": null,
       "value": "100%"
      }
     }
    },
    "version_major": 2,
    "version_minor": 0
   }
  }
 },
 "nbformat": 4,
 "nbformat_minor": 5
}