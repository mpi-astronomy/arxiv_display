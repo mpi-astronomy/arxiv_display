{
 "cells": [
  {
   "cell_type": "markdown",
   "id": "92bcb855",
   "metadata": {
    "papermill": {
     "duration": 0.005293,
     "end_time": "2023-04-26T04:04:29.347226",
     "exception": false,
     "start_time": "2023-04-26T04:04:29.341933",
     "status": "completed"
    },
    "tags": []
   },
   "source": [
    "# MPIA Arxiv on Deck 2\n",
    "\n",
    "Contains the steps to produce the paper extractions."
   ]
  },
  {
   "cell_type": "code",
   "execution_count": 1,
   "id": "3a0d6e11",
   "metadata": {
    "execution": {
     "iopub.execute_input": "2023-04-26T04:04:29.357158Z",
     "iopub.status.busy": "2023-04-26T04:04:29.356436Z",
     "iopub.status.idle": "2023-04-26T04:04:29.593345Z",
     "shell.execute_reply": "2023-04-26T04:04:29.592613Z"
    },
    "papermill": {
     "duration": 0.244275,
     "end_time": "2023-04-26T04:04:29.595713",
     "exception": false,
     "start_time": "2023-04-26T04:04:29.351438",
     "status": "completed"
    },
    "tags": []
   },
   "outputs": [],
   "source": [
    "# Imports\n",
    "import os\n",
    "from IPython.display import Markdown, display\n",
    "from tqdm.notebook import tqdm\n",
    "import warnings\n",
    "from PIL import Image \n",
    "\n",
    "# requires arxiv_on_deck_2\n",
    "\n",
    "from arxiv_on_deck_2.arxiv2 import (get_new_papers, \n",
    "                                    get_paper_from_identifier,\n",
    "                                    retrieve_document_source, \n",
    "                                    get_markdown_badge)\n",
    "from arxiv_on_deck_2 import (latex,\n",
    "                             latex_bib,\n",
    "                             mpia,\n",
    "                             highlight_authors_in_list)\n",
    "\n",
    "# Sometimes images are really big\n",
    "Image.MAX_IMAGE_PIXELS = 1000000000 "
   ]
  },
  {
   "cell_type": "code",
   "execution_count": 2,
   "id": "22aa9d44",
   "metadata": {
    "execution": {
     "iopub.execute_input": "2023-04-26T04:04:29.605032Z",
     "iopub.status.busy": "2023-04-26T04:04:29.604396Z",
     "iopub.status.idle": "2023-04-26T04:04:29.610413Z",
     "shell.execute_reply": "2023-04-26T04:04:29.609735Z"
    },
    "papermill": {
     "duration": 0.012515,
     "end_time": "2023-04-26T04:04:29.612082",
     "exception": false,
     "start_time": "2023-04-26T04:04:29.599567",
     "status": "completed"
    },
    "tags": []
   },
   "outputs": [],
   "source": [
    "# Some useful definitions.\n",
    "\n",
    "class AffiliationWarning(UserWarning):\n",
    "    pass\n",
    "\n",
    "class AffiliationError(RuntimeError):\n",
    "    pass\n",
    "\n",
    "def validation(source: str):\n",
    "    \"\"\"Raises error paper during parsing of source file\n",
    "    \n",
    "    Allows checks before parsing TeX code.\n",
    "    \n",
    "    Raises AffiliationWarning\n",
    "    \"\"\"\n",
    "    check = mpia.affiliation_verifications(source, verbose=True)\n",
    "    if check is not True:\n",
    "        raise AffiliationError(\"mpia.affiliation_verifications: \" + check)\n",
    "\n",
    "        \n",
    "warnings.simplefilter('always', AffiliationWarning)\n",
    "\n",
    "\n",
    "def get_markdown_qrcode(paper_id: str):\n",
    "    \"\"\" Generate a qrcode to the arxiv page using qrserver.com\n",
    "    \n",
    "    :param paper: Arxiv paper\n",
    "    :returns: markdown text\n",
    "    \"\"\"\n",
    "    url = r\"https://api.qrserver.com/v1/create-qr-code/?size=100x100&data=\"\n",
    "    txt = f\"\"\"<img src={url}\"https://arxiv.org/abs/{paper_id}\">\"\"\"\n",
    "    txt = '<div id=\"qrcode\">' + txt + '</div>'\n",
    "    return txt"
   ]
  },
  {
   "cell_type": "markdown",
   "id": "14bd6310",
   "metadata": {
    "papermill": {
     "duration": 0.003344,
     "end_time": "2023-04-26T04:04:29.618849",
     "exception": false,
     "start_time": "2023-04-26T04:04:29.615505",
     "status": "completed"
    },
    "tags": []
   },
   "source": [
    "## get list of arxiv paper candidates\n",
    "\n",
    "We use the MPIA mitarbeiter list webpage from mpia.de to get author names\n",
    "We then get all new papers from Arxiv and match authors"
   ]
  },
  {
   "cell_type": "code",
   "execution_count": 3,
   "id": "2645e73a",
   "metadata": {
    "execution": {
     "iopub.execute_input": "2023-04-26T04:04:29.627238Z",
     "iopub.status.busy": "2023-04-26T04:04:29.626565Z",
     "iopub.status.idle": "2023-04-26T04:04:54.560833Z",
     "shell.execute_reply": "2023-04-26T04:04:54.560122Z"
    },
    "papermill": {
     "duration": 24.940391,
     "end_time": "2023-04-26T04:04:54.562625",
     "exception": false,
     "start_time": "2023-04-26T04:04:29.622234",
     "status": "completed"
    },
    "tags": []
   },
   "outputs": [
    {
     "name": "stdout",
     "output_type": "stream",
     "text": [
      "Arxiv has 52 new papers today\n",
      "          2 with possible author matches\n"
     ]
    }
   ],
   "source": [
    "# get list from MPIA website\n",
    "# it automatically filters identified non-scientists :func:`mpia.filter_non_scientists`\n",
    "mpia_authors = mpia.get_mpia_mitarbeiter_list()\n",
    "normed_mpia_authors = [k[1] for k in mpia_authors]   # initials + fullname\n",
    "new_papers = get_new_papers()\n",
    "# add manual references\n",
    "add_paper_refs = []\n",
    "new_papers.extend([get_paper_from_identifier(k) for k in add_paper_refs])\n",
    "\n",
    "candidates = []\n",
    "for paperk in new_papers:\n",
    "    # Check author list with their initials\n",
    "    normed_author_list = [mpia.get_initials(k) for k in paperk['authors']]\n",
    "    hl_authors = highlight_authors_in_list(normed_author_list, normed_mpia_authors, verbose=True)\n",
    "    matches = [(hl, orig) for hl, orig in zip(hl_authors, paperk['authors']) if 'mark' in hl]\n",
    "    paperk['authors'] = hl_authors\n",
    "    if matches:\n",
    "        # only select paper if an author matched our list\n",
    "        candidates.append(paperk)\n",
    "print(\"\"\"Arxiv has {0:,d} new papers today\"\"\".format(len(new_papers)))        \n",
    "print(\"\"\"          {0:,d} with possible author matches\"\"\".format(len(candidates)))"
   ]
  },
  {
   "cell_type": "markdown",
   "id": "3543b34a",
   "metadata": {
    "papermill": {
     "duration": 0.003582,
     "end_time": "2023-04-26T04:04:54.570030",
     "exception": false,
     "start_time": "2023-04-26T04:04:54.566448",
     "status": "completed"
    },
    "tags": []
   },
   "source": [
    "# Parse sources and generate relevant outputs\n",
    "\n",
    "From the candidates, we do the following steps:\n",
    "* get their tarball from ArXiv (and extract data)\n",
    "* find the main .tex file: find one with \\documentclass{...} (sometimes it's non trivial)\n",
    "* Check affiliations with :func:`validation`, which uses :func:`mpia.affiliation_verifications`\n",
    "* If passing the affiliations: we parse the .tex source\n",
    "   * inject sub-documents into the main (flatten the main document)\n",
    "   * parse structure, extract information (title, abstract, authors, figures...)\n",
    "   * handles `\\graphicspath` if provided\n",
    "* Generate the .md document."
   ]
  },
  {
   "cell_type": "code",
   "execution_count": 4,
   "id": "9576b79e",
   "metadata": {
    "execution": {
     "iopub.execute_input": "2023-04-26T04:04:54.578992Z",
     "iopub.status.busy": "2023-04-26T04:04:54.578530Z",
     "iopub.status.idle": "2023-04-26T04:05:01.508458Z",
     "shell.execute_reply": "2023-04-26T04:05:01.507594Z"
    },
    "papermill": {
     "duration": 6.936664,
     "end_time": "2023-04-26T04:05:01.510146",
     "exception": false,
     "start_time": "2023-04-26T04:04:54.573482",
     "status": "completed"
    },
    "scrolled": false,
    "tags": []
   },
   "outputs": [
    {
     "data": {
      "application/vnd.jupyter.widget-view+json": {
       "model_id": "460d15e4e98540d7b5d356536b70cdab",
       "version_major": 2,
       "version_minor": 0
      },
      "text/plain": [
       "  0%|          | 0/1 [00:00<?, ?it/s]"
      ]
     },
     "metadata": {},
     "output_type": "display_data"
    },
    {
     "name": "stdout",
     "output_type": "stream",
     "text": [
      "Retrieving document from  https://arxiv.org/e-print/2304.12343\n"
     ]
    },
    {
     "name": "stdout",
     "output_type": "stream",
     "text": [
      "extracting tarball to tmp_2304.12343... done.\n"
     ]
    },
    {
     "name": "stdout",
     "output_type": "stream",
     "text": [
      "Found 86 bibliographic references in tmp_2304.12343/lega-c_metallicities.bbl.\n",
      "syntax error in line 270: '=' expected\n"
     ]
    }
   ],
   "source": [
    "documents = []\n",
    "failed = []\n",
    "for paper in tqdm(candidates[:-1]):\n",
    "    paper_id = paper['identifier'].lower().replace('arxiv:', '')\n",
    "    \n",
    "    folder = f'tmp_{paper_id}'\n",
    "\n",
    "    try:\n",
    "        if not os.path.isdir(folder):\n",
    "            folder = retrieve_document_source(f\"{paper_id}\", f'tmp_{paper_id}')\n",
    "        \n",
    "        try:\n",
    "            doc = latex.LatexDocument(folder, validation=validation)    \n",
    "        except AffiliationError as affilerror:\n",
    "            msg = f\"ArXiv:{paper_id:s} is not an MPIA paper... \" + str(affilerror)\n",
    "            failed.append((paper, \"affiliation error: \" + str(affilerror) ))\n",
    "            continue\n",
    "        \n",
    "        # Hack because sometimes author parsing does not work well\n",
    "        if (len(doc.authors) != len(paper['authors'])):\n",
    "            doc._authors = paper['authors']\n",
    "        else:\n",
    "            # highlight authors (FIXME: doc.highlight_authors)\n",
    "            # done on arxiv paper already\n",
    "            doc._authors = highlight_authors_in_list(\n",
    "                [mpia.get_initials(k) for k in doc.authors], \n",
    "                normed_mpia_authors, verbose=True)\n",
    "        if (doc.abstract) in (None, ''):\n",
    "            doc._abstract = paper['abstract']\n",
    "            \n",
    "        doc.comment = (get_markdown_badge(paper_id) + \n",
    "                       \"<mark>Appeared on: \" + paper['date'] + \"</mark> - \")\n",
    "        if paper['comments']:\n",
    "            doc.comment += \" _\" + paper['comments'] + \"_\"\n",
    "        \n",
    "        full_md = doc.generate_markdown_text()\n",
    "        \n",
    "        full_md += get_markdown_qrcode(paper_id)\n",
    "        \n",
    "        # replace citations\n",
    "        try:\n",
    "            bibdata = latex_bib.LatexBib.from_doc(doc)\n",
    "            full_md = latex_bib.replace_citations(full_md, bibdata)\n",
    "        except Exception as e:\n",
    "            print(e)\n",
    "        \n",
    "        documents.append((paper_id, full_md))\n",
    "    except Exception as e:\n",
    "        warnings.warn(latex.LatexWarning(f\"{paper_id:s} did not run properly\\n\" +\n",
    "                                         str(e)\n",
    "                                        ))\n",
    "        failed.append((paper, \"latex error \" + str(e)))"
   ]
  },
  {
   "cell_type": "markdown",
   "id": "2505a25c",
   "metadata": {
    "papermill": {
     "duration": 0.004132,
     "end_time": "2023-04-26T04:05:01.518508",
     "exception": false,
     "start_time": "2023-04-26T04:05:01.514376",
     "status": "completed"
    },
    "tags": []
   },
   "source": [
    "### Export the logs\n",
    "\n",
    "Throughout, we also keep track of the logs per paper. see `logs-{today date}.md` "
   ]
  },
  {
   "cell_type": "code",
   "execution_count": 5,
   "id": "d733828a",
   "metadata": {
    "execution": {
     "iopub.execute_input": "2023-04-26T04:05:01.527782Z",
     "iopub.status.busy": "2023-04-26T04:05:01.527203Z",
     "iopub.status.idle": "2023-04-26T04:05:01.542927Z",
     "shell.execute_reply": "2023-04-26T04:05:01.542208Z"
    },
    "papermill": {
     "duration": 0.023189,
     "end_time": "2023-04-26T04:05:01.545437",
     "exception": false,
     "start_time": "2023-04-26T04:05:01.522248",
     "status": "completed"
    },
    "scrolled": false,
    "tags": []
   },
   "outputs": [
    {
     "data": {
      "text/markdown": [
       "## Successful papers"
      ],
      "text/plain": [
       "<IPython.core.display.Markdown object>"
      ]
     },
     "metadata": {},
     "output_type": "display_data"
    },
    {
     "data": {
      "text/markdown": [
       "\n",
       "|||\n",
       "|---:|:---|\n",
       "| [![arXiv](https://img.shields.io/badge/arXiv-arXiv:2304.12343-b31b1b.svg)](https://arxiv.org/abs/arXiv:2304.12343) | **The Gas-Phase Mass--Metallicity Relation for Massive Galaxies at  $z\\sim0.7$ with the LEGA-C Survey**  |\n",
       "|| <mark>Z. J. Lewis</mark>, et al. |\n",
       "|*Appeared on*| *2023-04-26*|\n",
       "|*Comments*| *10 pages, 4 figures, 1 table*|\n",
       "|**Abstract**| The massive end of the gas-phase mass--metallicity relation (MZR) is a sensitive probe of active galactic nuclei (AGN) feedback that is a crucial but highly uncertain component of galaxy evolution models. In this paper, we extend the $z\\sim0.7$ MZR by $\\sim$0.5 dex up to log$(M_\\star/\\textrm{M}_\\odot)\\sim11.1$. We use extremely deep VLT VIMOS spectra from the Large Early Galaxy Astrophysics Census (LEGA-C) survey to measure metallicities for 145 galaxies. The LEGA-C MZR matches the normalization of the $z\\sim0.8$ DEEP2 MZR where they overlap, so we combine the two to create an MZR spanning from 9.3 to 11.1 log$(M_\\star/\\textrm{M}_\\odot)$. The LEGA-C+DEEP2 MZR at $z\\sim0.7$ is offset to slightly lower metallicities (0.05-0.13 dex) than the $z\\sim0$ MZR, but it otherwise mirrors the established power law rise at low/intermediate stellar masses and asymptotic flattening at high stellar masses. We compare the LEGA-C+DEEP2 MZR to the MZR from two cosmological simulations (IllustrisTNG and SIMBA), which predict qualitatively different metallicity trends for high-mass galaxies. This comparison highlights that our extended MZR provides a crucial observational constraint for galaxy evolution models in a mass regime where the MZR is very sensitive to choices about the implementation of AGN feedback. |"
      ],
      "text/plain": [
       "[arXiv:2304.12343] The Gas-Phase Mass--Metallicity Relation for Massive Galaxies at  $z\\sim0.7$ with the LEGA-C Survey\n",
       "\t<mark>Z. J. Lewis</mark>, et al."
      ]
     },
     "metadata": {},
     "output_type": "display_data"
    },
    {
     "data": {
      "text/markdown": [
       "## Failed papers"
      ],
      "text/plain": [
       "<IPython.core.display.Markdown object>"
      ]
     },
     "metadata": {},
     "output_type": "display_data"
    }
   ],
   "source": [
    "import datetime\n",
    "today = str(datetime.date.today())\n",
    "logfile = f\"_build/html/logs/log-{today}.md\"\n",
    "\n",
    "\n",
    "with open(logfile, 'w') as logs:\n",
    "    # Success\n",
    "    logs.write(f'# Arxiv on Deck 2: Logs - {today}\\n\\n')\n",
    "    logs.write(\"\"\"* Arxiv had {0:,d} new papers\\n\"\"\".format(len(new_papers)))\n",
    "    logs.write(\"\"\"    * {0:,d} with possible author matches\\n\\n\"\"\".format(len(candidates)))\n",
    "    logs.write(\"## Sucessful papers\\n\\n\")\n",
    "    display(Markdown(\"## Successful papers\"))\n",
    "    success = [k[0] for k in documents]\n",
    "    for candid in candidates:\n",
    "        if candid['identifier'].split(':')[-1] in success:\n",
    "            display(candid)\n",
    "            logs.write(candid.generate_markdown_text() + '\\n\\n')\n",
    "\n",
    "    ## failed\n",
    "    logs.write(\"## Failed papers\\n\\n\")\n",
    "    display(Markdown(\"## Failed papers\"))\n",
    "    failed = sorted(failed, key=lambda x: x[1])\n",
    "    current_reason = \"\"\n",
    "    for paper, reason in failed:\n",
    "        if 'affiliation' in reason:\n",
    "            color = 'green'\n",
    "        else:\n",
    "            color = 'red'\n",
    "        data = Markdown(\n",
    "                paper.generate_markdown_text() + \n",
    "                f'\\n|<p style=\"color:{color:s}\"> **ERROR** </p>| <p style=\"color:{color:s}\">{reason:s}</p> |'\n",
    "               )\n",
    "        if reason != current_reason:\n",
    "            logs.write(f'### {reason:s} \\n\\n')\n",
    "            current_reason = reason\n",
    "        logs.write(data.data + '\\n\\n')\n",
    "        \n",
    "        # only display here the important errors (all in logs)\n",
    "        # if color in ('red',):\n",
    "        display(data)"
   ]
  },
  {
   "cell_type": "markdown",
   "id": "472d20ee",
   "metadata": {
    "papermill": {
     "duration": 0.004095,
     "end_time": "2023-04-26T04:05:01.554895",
     "exception": false,
     "start_time": "2023-04-26T04:05:01.550800",
     "status": "completed"
    },
    "tags": []
   },
   "source": [
    "## Export documents\n",
    "\n",
    "We now write the .md files and export relevant images"
   ]
  },
  {
   "cell_type": "code",
   "execution_count": 6,
   "id": "d426aed9",
   "metadata": {
    "execution": {
     "iopub.execute_input": "2023-04-26T04:05:01.564924Z",
     "iopub.status.busy": "2023-04-26T04:05:01.564345Z",
     "iopub.status.idle": "2023-04-26T04:05:01.572648Z",
     "shell.execute_reply": "2023-04-26T04:05:01.571875Z"
    },
    "papermill": {
     "duration": 0.015592,
     "end_time": "2023-04-26T04:05:01.574580",
     "exception": false,
     "start_time": "2023-04-26T04:05:01.558988",
     "status": "completed"
    },
    "tags": []
   },
   "outputs": [],
   "source": [
    "def export_markdown_summary(md: str, md_fname:str, directory: str):\n",
    "    \"\"\"Export MD document and associated relevant images\"\"\"\n",
    "    import os\n",
    "    import shutil\n",
    "    import re\n",
    "\n",
    "    if (os.path.exists(directory) and not os.path.isdir(directory)):\n",
    "        raise RuntimeError(f\"a non-directory file exists with name {directory:s}\")\n",
    "\n",
    "    if (not os.path.exists(directory)):\n",
    "        print(f\"creating directory {directory:s}\")\n",
    "        os.mkdir(directory)\n",
    "\n",
    "    fig_fnames = (re.compile(r'\\[Fig.*\\]\\((.*)\\)').findall(md) + \n",
    "                  re.compile(r'\\<img src=\"([^>\\s]*)\"[^>]*/>').findall(md))\n",
    "    for fname in fig_fnames:\n",
    "        if 'http' in fname:\n",
    "            # No need to copy online figures\n",
    "            continue\n",
    "        destdir = os.path.join(directory, os.path.dirname(fname))\n",
    "        destfname = os.path.join(destdir, os.path.basename(fname))\n",
    "        try:\n",
    "            os.makedirs(destdir)\n",
    "        except FileExistsError:\n",
    "            pass\n",
    "        shutil.copy(fname, destfname)\n",
    "    with open(os.path.join(directory, md_fname), 'w') as fout:\n",
    "        fout.write(md)\n",
    "    print(\"exported in \", os.path.join(directory, md_fname))\n",
    "    [print(\"    + \" + os.path.join(directory,fk)) for fk in fig_fnames]"
   ]
  },
  {
   "cell_type": "code",
   "execution_count": 7,
   "id": "014d04a4",
   "metadata": {
    "execution": {
     "iopub.execute_input": "2023-04-26T04:05:01.584305Z",
     "iopub.status.busy": "2023-04-26T04:05:01.583885Z",
     "iopub.status.idle": "2023-04-26T04:05:01.590633Z",
     "shell.execute_reply": "2023-04-26T04:05:01.589946Z"
    },
    "papermill": {
     "duration": 0.013339,
     "end_time": "2023-04-26T04:05:01.592137",
     "exception": false,
     "start_time": "2023-04-26T04:05:01.578798",
     "status": "completed"
    },
    "tags": []
   },
   "outputs": [
    {
     "name": "stdout",
     "output_type": "stream",
     "text": [
      "exported in  _build/html/2304.12343.md\n",
      "    + _build/html/tmp_2304.12343/./selection.png\n",
      "    + _build/html/tmp_2304.12343/./mzr.png\n",
      "    + _build/html/tmp_2304.12343/./line_ratios.png\n"
     ]
    }
   ],
   "source": [
    "for paper_id, md in documents:\n",
    "    export_markdown_summary(md, f\"{paper_id:s}.md\", '_build/html/')"
   ]
  },
  {
   "cell_type": "markdown",
   "id": "f087a0a7",
   "metadata": {
    "papermill": {
     "duration": 0.004195,
     "end_time": "2023-04-26T04:05:01.600672",
     "exception": false,
     "start_time": "2023-04-26T04:05:01.596477",
     "status": "completed"
    },
    "tags": []
   },
   "source": [
    "## Display the papers\n",
    "\n",
    "Not necessary but allows for a quick check."
   ]
  },
  {
   "cell_type": "code",
   "execution_count": 8,
   "id": "fd25f625",
   "metadata": {
    "execution": {
     "iopub.execute_input": "2023-04-26T04:05:01.610693Z",
     "iopub.status.busy": "2023-04-26T04:05:01.610130Z",
     "iopub.status.idle": "2023-04-26T04:05:01.615406Z",
     "shell.execute_reply": "2023-04-26T04:05:01.614760Z"
    },
    "papermill": {
     "duration": 0.012029,
     "end_time": "2023-04-26T04:05:01.616886",
     "exception": false,
     "start_time": "2023-04-26T04:05:01.604857",
     "status": "completed"
    },
    "scrolled": false,
    "tags": []
   },
   "outputs": [
    {
     "data": {
      "text/markdown": [
       "<div class=\"macros\" style=\"visibility:hidden;\">\n",
       "$\\newcommand{\\ensuremath}{}$\n",
       "$\\newcommand{\\xspace}{}$\n",
       "$\\newcommand{\\object}[1]{\\texttt{#1}}$\n",
       "$\\newcommand{\\farcs}{{.}''}$\n",
       "$\\newcommand{\\farcm}{{.}'}$\n",
       "$\\newcommand{\\arcsec}{''}$\n",
       "$\\newcommand{\\arcmin}{'}$\n",
       "$\\newcommand{\\ion}[2]{#1#2}$\n",
       "$\\newcommand{\\textsc}[1]{\\textrm{#1}}$\n",
       "$\\newcommand{\\hl}[1]{\\textrm{#1}}$\n",
       "$\\newcommand{\\footnote}[1]{}$\n",
       "$\\newcommand{\\todo}[1]{\\color{red}#1\\color{black}}$\n",
       "$\\newcommand{\\drafttext}[1]{\\color{gray}#1\\color{black}}$\n",
       "$\\newcommand{\\bha}[1]{\\color{blue}#1\\color{black}}$\n",
       "$\\newcommand{\\oii}{[O \\textsc{ii}]\\lambda3727}$\n",
       "$\\newcommand{\\neiii}{[Ne III]\\lambda3869}$\n",
       "$\\newcommand{\\oiii}{[O \\textsc{iii}]\\lambda5007}$\n",
       "$\\newcommand{\\nii}{[N \\textsc{ii}]\\lambda6583}$\n",
       "$\\newcommand{\\hb}{H\\beta}$\n",
       "$\\newcommand{\\hg}{H\\gamma}$\n",
       "$\\newcommand{\\ha}{H\\alpha}$\n",
       "$\\newcommand{\\mstar}{M_\\star}$\n",
       "$\\newcommand{\\msun}{M_\\odot}$\n",
       "$\\newcommand{\\numgal}{145 }$\n",
       "$\\newcommand{\\oiiialt}{\\ensuremath{{\\text{[O \\textsc{iii}]}\\lambda5007}}\\xspace}$</div>\n",
       "\n",
       "\n",
       "\n",
       "<div id=\"title\">\n",
       "\n",
       "# The Gas-Phase Mass--Metallicity Relation for Massive Galaxies at $z\\sim0.7$ with the LEGA-C Survey\n",
       "\n",
       "</div>\n",
       "<div id=\"comments\">\n",
       "\n",
       "[![arXiv](https://img.shields.io/badge/arXiv-2304.12343-b31b1b.svg)](https://arxiv.org/abs/2304.12343)<mark>Appeared on: 2023-04-26</mark> -  _10 pages, 4 figures, 1 table_\n",
       "\n",
       "</div>\n",
       "<div id=\"authors\">\n",
       "\n",
       "<mark>Z. J. Lewis</mark>, et al.\n",
       "\n",
       "</div>\n",
       "<div id=\"abstract\">\n",
       "\n",
       "**Abstract:** The massive end of the gas-phase mass--metallicity relation (MZR) is a sensitive probe of active galactic nuclei (AGN) feedback that is a crucial but highly uncertain component of galaxy evolution models. In this paper, we extend the $z\\sim0.7$ MZR by $\\sim$ 0.5 dex up to log $(M_\\star/\\textrm{M}_\\odot)\\sim11.1$ . We use extremely deep VLT VIMOS spectra from the Large Early Galaxy Astrophysics Census (LEGA-C) survey to measure metallicities for $\\numgal$ galaxies. The LEGA-C MZR matches the normalization of the $z\\sim0.8$ DEEP2 MZR where they overlap, so we combine the two to create an MZR spanning from 9.3 to 11.1 log $(M_\\star/\\textrm{M}_\\odot)$ . The LEGA-C+DEEP2 MZR at $z\\sim0.7$ is offset to slightly lower metallicities (0.05--0.13 dex) than the $z\\sim0$ MZR, but it otherwise mirrors the established power law rise at low/intermediate stellar masses and asymptotic flattening at high stellar masses. We compare the LEGA-C+DEEP2 MZR to the MZR from two cosmological simulations (IllustrisTNG and SIMBA), which predict qualitatively different metallicity trends for high-mass galaxies. This comparison highlights that our extended MZR provides a crucial observational constraint for galaxy evolution models in a mass regime where the MZR is very sensitive to choices about the implementation of AGN feedback.\n",
       "\n",
       "</div>\n",
       "\n",
       "<div id=\"div_fig1\">\n",
       "\n",
       "<img src=\"tmp_2304.12343/./selection.png\" alt=\"Fig3\" width=\"100%\"/>\n",
       "\n",
       "**Figure 3. -** Left panel: $\\hg$ S/N for non-quiescent LEGA-C objects as a function of stellar mass. Gray points are those with S/N $<$ 3, which are excluded from the sample. The remaining points follow the same color scheme as the right panel, described below. We do not find a trend of $\\hg$ S/N with stellar mass. Only a small fraction of these objects have $\\hg$ S/N $<$ 3, which is required for dereddening. Right panel: The same sample on the mass--excitation (MEx) plot of \\citet{juneau2011}, which plots R3 against stellar mass and separates star-forming galaxies and AGN based on their line ratios. The red points show objects that are determined to be MEx AGN by the cut of \\citet{juneau2011}. Orange points show objects determined to be other forms of AGN, such as broad-line, radio, IR, and through the \"blue diagram\" of \\citet{lamareille2009}. Green crosses show objects with line fluxes dominated by DIG, and blue points show star-forming objects with line fluxes dominated by HII regions. (*fig:selection*)\n",
       "\n",
       "</div>\n",
       "<div id=\"div_fig2\">\n",
       "\n",
       "<img src=\"tmp_2304.12343/./mzr.png\" alt=\"Fig4\" width=\"100%\"/>\n",
       "\n",
       "**Figure 4. -** Left: The LEGA-C mass--metallicity relation with individual measurements shown as blue circles with error bars indicating the inner 68 percentile highest probability density interval; the median and the 16--84th percentile range are shown as a blue line and band, respectively. The $z\\sim0$ SDSS MZR \\citep{curti20} is shown in gray for comparison. The LEGA-C MZR shows a $-$0.05 dex offset from the SDSS MZR at the high mass end, and a $-$0.07 dex offset at the low mass end. The $z\\sim0.8$ DEEP2 MZR \\citep{zahid2011}(red line with red error band showing the 16--84th percentile region) agrees well with the LEGA-C MZR where they overlap in mass. Right: the LEGA-C and DEEP2 running median MZRs are shown as blue and red circles with error bars indicating the uncertainty on the median. The combined LEGA-C+DEEP2 MZR is shown as a blue line. The \\citet{huang2019} MZR from stacks of eBOSS galaxies (orange) at $z\\sim0.7$ is shown in orange with the most massive stellar mass bin indicated with a dotted line due to its low S/N (as noted by \\citealt{huang2019}).  Overall, the eBOSS MZR agrees well with the LEGA-C+DEEP2 MZR where they overlap. (*fig:mzr*)\n",
       "\n",
       "</div>\n",
       "<div id=\"div_fig3\">\n",
       "\n",
       "<img src=\"tmp_2304.12343/./line_ratios.png\" alt=\"Fig1\" width=\"100%\"/>\n",
       "\n",
       "**Figure 1. -** R2, R3, R23, and O32 versus stellar mass for the LEGA-C sample (blue circles with the running median and 16--84th percentiles as blue lines and bands, respectively) and SDSS (gray contours) samples. There is a slight offset in the LEGA-C data to higher line ratios for R2, R3, and R23, but not for O32.  We note that the median line ratio uncertainties are smaller than the symbol size if reddening uncertainties are not included. Note the smooth trend in line ratios and the lack of sharp features at log($M_\\star/\\textrm{M}_\\odot) > 10.5$ that would be expected if AGN feedback dramatically alters the gas-phase metallicity at high mass. (*fig:line_ratios*)\n",
       "\n",
       "</div><div id=\"qrcode\"><img src=https://api.qrserver.com/v1/create-qr-code/?size=100x100&data=\"https://arxiv.org/abs/2304.12343\"></div>"
      ],
      "text/plain": [
       "<IPython.core.display.Markdown object>"
      ]
     },
     "metadata": {},
     "output_type": "display_data"
    }
   ],
   "source": [
    "[display(Markdown(k[1])) for k in documents];"
   ]
  },
  {
   "cell_type": "markdown",
   "id": "873873a4",
   "metadata": {
    "papermill": {
     "duration": 0.004522,
     "end_time": "2023-04-26T04:05:01.626112",
     "exception": false,
     "start_time": "2023-04-26T04:05:01.621590",
     "status": "completed"
    },
    "tags": []
   },
   "source": [
    "# Create HTML index"
   ]
  },
  {
   "cell_type": "code",
   "execution_count": 9,
   "id": "cf665672",
   "metadata": {
    "execution": {
     "iopub.execute_input": "2023-04-26T04:05:01.636794Z",
     "iopub.status.busy": "2023-04-26T04:05:01.636228Z",
     "iopub.status.idle": "2023-04-26T04:05:01.645433Z",
     "shell.execute_reply": "2023-04-26T04:05:01.644749Z"
    },
    "papermill": {
     "duration": 0.016449,
     "end_time": "2023-04-26T04:05:01.646996",
     "exception": false,
     "start_time": "2023-04-26T04:05:01.630547",
     "status": "completed"
    },
    "tags": []
   },
   "outputs": [
    {
     "name": "stdout",
     "output_type": "stream",
     "text": [
      "195  publications files modified in the last 7 days.\n"
     ]
    }
   ],
   "source": [
    "from datetime import datetime, timedelta, timezone\n",
    "from glob import glob\n",
    "import os\n",
    "\n",
    "files = glob('_build/html/*.md')\n",
    "days = 7\n",
    "now = datetime.today()\n",
    "res = []\n",
    "for fk in files:\n",
    "    stat_result = os.stat(fk).st_ctime\n",
    "    modified = datetime.fromtimestamp(stat_result, tz=timezone.utc).replace(tzinfo=None)\n",
    "    delta = now.today() - modified\n",
    "    if delta <= timedelta(days=days):\n",
    "        res.append((delta.seconds, fk))\n",
    "res = [k[1] for k in reversed(sorted(res, key=lambda x:x[1]))]\n",
    "npub = len(res)\n",
    "print(len(res), f\" publications files modified in the last {days:d} days.\")\n",
    "# [ print('\\t', k) for k in res ];"
   ]
  },
  {
   "cell_type": "code",
   "execution_count": 10,
   "id": "015de740",
   "metadata": {
    "execution": {
     "iopub.execute_input": "2023-04-26T04:05:01.657762Z",
     "iopub.status.busy": "2023-04-26T04:05:01.657337Z",
     "iopub.status.idle": "2023-04-26T04:05:01.674126Z",
     "shell.execute_reply": "2023-04-26T04:05:01.673418Z"
    },
    "papermill": {
     "duration": 0.024123,
     "end_time": "2023-04-26T04:05:01.675780",
     "exception": false,
     "start_time": "2023-04-26T04:05:01.651657",
     "status": "completed"
    },
    "tags": []
   },
   "outputs": [
    {
     "name": "stdout",
     "output_type": "stream",
     "text": [
      "5  publications in the last 7 days.\n"
     ]
    }
   ],
   "source": [
    "import datetime\n",
    "from glob import glob\n",
    "\n",
    "def get_last_n_days(lst, days=1):\n",
    "    \"\"\" Get the documents from the last n days \"\"\"\n",
    "    sorted_lst = sorted(lst, key=lambda x: x[1], reverse=True)\n",
    "    for fname, date in sorted_lst:\n",
    "        if date >= str(datetime.date.today() - datetime.timedelta(days=days)):\n",
    "            yield fname\n",
    "\n",
    "def extract_appearance_dates(lst_file):\n",
    "    dates = []\n",
    "\n",
    "    def get_date(line):\n",
    "        return line\\\n",
    "            .split('Appeared on:')[-1]\\\n",
    "            .split('</mark>')[0].strip()\n",
    "\n",
    "    for fname in lst:\n",
    "        with open(fname, 'r') as f:\n",
    "            found_date = False\n",
    "            for line in f:\n",
    "                if not found_date:\n",
    "                    if \"Appeared on\" in line:\n",
    "                        found_date = True\n",
    "                        dates.append((fname, get_date(line)))\n",
    "                else:\n",
    "                    break\n",
    "    return dates\n",
    "\n",
    "from glob import glob\n",
    "lst = glob('_build/html/*md')\n",
    "days = 7\n",
    "dates = extract_appearance_dates(lst)\n",
    "res = list(get_last_n_days(dates, days))\n",
    "npub = len(res)\n",
    "print(len(res), f\" publications in the last {days:d} days.\")"
   ]
  },
  {
   "cell_type": "code",
   "execution_count": 11,
   "id": "52ca0208",
   "metadata": {
    "execution": {
     "iopub.execute_input": "2023-04-26T04:05:01.686698Z",
     "iopub.status.busy": "2023-04-26T04:05:01.686203Z",
     "iopub.status.idle": "2023-04-26T04:05:01.691969Z",
     "shell.execute_reply": "2023-04-26T04:05:01.691277Z"
    },
    "papermill": {
     "duration": 0.012826,
     "end_time": "2023-04-26T04:05:01.693427",
     "exception": false,
     "start_time": "2023-04-26T04:05:01.680601",
     "status": "completed"
    },
    "scrolled": false,
    "tags": []
   },
   "outputs": [],
   "source": [
    "def create_carousel(npub=4):\n",
    "    \"\"\" Generate the HTML code for a carousel with `npub` slides \"\"\"\n",
    "    carousel = [\"\"\"  <div class=\"carousel\" \"\"\",\n",
    "                \"\"\"       data-flickity='{ \"autoPlay\": 10000, \"adaptiveHeight\": true, \"resize\": true, \"wrapAround\": true, \"pauseAutoPlayOnHover\": true, \"groupCells\": 1 }' id=\"asyncTypeset\">\"\"\"\n",
    "                ]\n",
    "    \n",
    "    item_str = \"\"\"    <div class=\"carousel-cell\"> <div id=\"slide{k}\" class=\"md_view\">Content {k}</div> </div>\"\"\"\n",
    "    for k in range(1, npub + 1):\n",
    "        carousel.append(item_str.format(k=k))\n",
    "    carousel.append(\"  </div>\")\n",
    "    return '\\n'.join(carousel)\n",
    "\n",
    "def create_grid(npub=4):\n",
    "    \"\"\" Generate the HTML code for a flat grid with `npub` slides \"\"\"\n",
    "    grid = [\"\"\"  <div class=\"grid\"> \"\"\",\n",
    "                ]\n",
    "    \n",
    "    item_str = \"\"\"    <div class=\"grid-item\"> <div id=\"slide{k}\" class=\"md_view\">Content {k}</div> </div>\"\"\"\n",
    "    for k in range(1, npub + 1):\n",
    "        grid.append(item_str.format(k=k))\n",
    "    grid.append(\"  </div>\")\n",
    "    return '\\n'.join(grid)"
   ]
  },
  {
   "cell_type": "code",
   "execution_count": 12,
   "id": "a6eac5b6",
   "metadata": {
    "execution": {
     "iopub.execute_input": "2023-04-26T04:05:01.704547Z",
     "iopub.status.busy": "2023-04-26T04:05:01.703801Z",
     "iopub.status.idle": "2023-04-26T04:05:01.709680Z",
     "shell.execute_reply": "2023-04-26T04:05:01.709057Z"
    },
    "papermill": {
     "duration": 0.013137,
     "end_time": "2023-04-26T04:05:01.711251",
     "exception": false,
     "start_time": "2023-04-26T04:05:01.698114",
     "status": "completed"
    },
    "scrolled": false,
    "tags": []
   },
   "outputs": [],
   "source": [
    "carousel = create_carousel(npub)\n",
    "docs = ', '.join(['\"{0:s}\"'.format(k.split('/')[-1]) for k in res])\n",
    "slides = ', '.join([f'\"slide{k}\"' for k in range(1, npub + 1)])\n",
    "\n",
    "with open(\"daily_template.html\", \"r\") as tpl:\n",
    "    page = tpl.read()\n",
    "    page = page.replace(\"{%-- carousel:s --%}\", carousel)\\\n",
    "               .replace(\"{%-- suptitle:s --%}\",  \"7-day archives\" )\\\n",
    "               .replace(\"{%-- docs:s --%}\", docs)\\\n",
    "               .replace(\"{%-- slides:s --%}\", slides)\n",
    "    \n",
    "with open(\"_build/html/index_7days.html\", 'w') as fout:\n",
    "    fout.write(page)"
   ]
  },
  {
   "cell_type": "code",
   "execution_count": 13,
   "id": "adc1a1ec",
   "metadata": {
    "execution": {
     "iopub.execute_input": "2023-04-26T04:05:01.722252Z",
     "iopub.status.busy": "2023-04-26T04:05:01.721844Z",
     "iopub.status.idle": "2023-04-26T04:05:01.729224Z",
     "shell.execute_reply": "2023-04-26T04:05:01.728547Z"
    },
    "papermill": {
     "duration": 0.014691,
     "end_time": "2023-04-26T04:05:01.730746",
     "exception": false,
     "start_time": "2023-04-26T04:05:01.716055",
     "status": "completed"
    },
    "tags": []
   },
   "outputs": [
    {
     "name": "stdout",
     "output_type": "stream",
     "text": [
      "1  publications in the last day.\n"
     ]
    }
   ],
   "source": [
    "# redo for today\n",
    "days = 1\n",
    "res = list(get_last_n_days(dates, days))\n",
    "npub = len(res)\n",
    "print(len(res), f\" publications in the last day.\")\n",
    "\n",
    "carousel = create_carousel(npub)\n",
    "docs = ', '.join(['\"{0:s}\"'.format(k.split('/')[-1]) for k in res])\n",
    "slides = ', '.join([f'\"slide{k}\"' for k in range(1, npub + 1)])\n",
    "\n",
    "with open(\"daily_template.html\", \"r\") as tpl:\n",
    "    page = tpl.read()\n",
    "    page = page.replace(\"{%-- carousel:s --%}\", carousel)\\\n",
    "               .replace(\"{%-- suptitle:s --%}\",  \"Daily\" )\\\n",
    "               .replace(\"{%-- docs:s --%}\", docs)\\\n",
    "               .replace(\"{%-- slides:s --%}\", slides)\n",
    "    \n",
    "# print(carousel, docs, slides)\n",
    "# print(page)\n",
    "with open(\"_build/html/index_daily.html\", 'w') as fout:\n",
    "    fout.write(page)"
   ]
  },
  {
   "cell_type": "code",
   "execution_count": 14,
   "id": "00eece82",
   "metadata": {
    "execution": {
     "iopub.execute_input": "2023-04-26T04:05:01.742024Z",
     "iopub.status.busy": "2023-04-26T04:05:01.741336Z",
     "iopub.status.idle": "2023-04-26T04:05:01.748739Z",
     "shell.execute_reply": "2023-04-26T04:05:01.748073Z"
    },
    "papermill": {
     "duration": 0.014519,
     "end_time": "2023-04-26T04:05:01.750192",
     "exception": false,
     "start_time": "2023-04-26T04:05:01.735673",
     "status": "completed"
    },
    "scrolled": false,
    "tags": []
   },
   "outputs": [
    {
     "name": "stdout",
     "output_type": "stream",
     "text": [
      "6  6 publications selected.\n"
     ]
    }
   ],
   "source": [
    "# Create the flat grid of the last N papers (fixed number regardless of dates)\n",
    "from itertools import islice \n",
    "\n",
    "npub = 6\n",
    "res = [k[0] for k in (islice(reversed(sorted(dates, key=lambda x: x[1])), 6))]\n",
    "print(len(res), f\" {npub} publications selected.\")\n",
    "\n",
    "grid = create_grid(npub)\n",
    "docs = ', '.join(['\"{0:s}\"'.format(k.split('/')[-1]) for k in res])\n",
    "slides = ', '.join([f'\"slide{k}\"' for k in range(1, npub + 1)])\n",
    "\n",
    "with open(\"grid_template.html\", \"r\") as tpl:\n",
    "    page = tpl.read()\n",
    "    page = page.replace(\"{%-- grid-content:s --%}\", grid)\\\n",
    "               .replace(\"{%-- suptitle:s --%}\",  f\"Last {npub:,d} papers\" )\\\n",
    "               .replace(\"{%-- docs:s --%}\", docs)\\\n",
    "               .replace(\"{%-- slides:s --%}\", slides)\n",
    "    \n",
    "# print(grid, docs, slides)\n",
    "# print(page)\n",
    "with open(\"_build/html/index_npub_grid.html\", 'w') as fout:\n",
    "    fout.write(page)"
   ]
  }
 ],
 "metadata": {
  "kernelspec": {
   "display_name": "Python 3 (ipykernel)",
   "language": "python",
   "name": "python3"
  },
  "language_info": {
   "codemirror_mode": {
    "name": "ipython",
    "version": 3
   },
   "file_extension": ".py",
   "mimetype": "text/x-python",
   "name": "python",
   "nbconvert_exporter": "python",
   "pygments_lexer": "ipython3",
   "version": "3.9.16"
  },
  "papermill": {
   "default_parameters": {},
   "duration": 33.965445,
   "end_time": "2023-04-26T04:05:01.972514",
   "environment_variables": {},
   "exception": null,
   "input_path": "MPIA daily digest.ipynb",
   "output_path": "log.ipynb",
   "parameters": {},
   "start_time": "2023-04-26T04:04:28.007069",
   "version": "2.4.0"
  },
  "vscode": {
   "interpreter": {
    "hash": "aee8b7b246df8f9039afb4144a1f6fd8d2ca17a180786b69acc140d282b71a49"
   }
  },
  "widgets": {
   "application/vnd.jupyter.widget-state+json": {
    "state": {
     "3acc824524934124ba6e7f292d15c84f": {
      "model_module": "@jupyter-widgets/controls",
      "model_module_version": "2.0.0",
      "model_name": "HTMLModel",
      "state": {
       "_dom_classes": [],
       "_model_module": "@jupyter-widgets/controls",
       "_model_module_version": "2.0.0",
       "_model_name": "HTMLModel",
       "_view_count": null,
       "_view_module": "@jupyter-widgets/controls",
       "_view_module_version": "2.0.0",
       "_view_name": "HTMLView",
       "description": "",
       "description_allow_html": false,
       "layout": "IPY_MODEL_de59588ce4194d8e8c64b4b67082cdfd",
       "placeholder": "​",
       "style": "IPY_MODEL_ee7cbad642484c419c7dc88a556a2482",
       "tabbable": null,
       "tooltip": null,
       "value": "100%"
      }
     },
     "45fb31f4611c4e88b20f94b9581a9838": {
      "model_module": "@jupyter-widgets/controls",
      "model_module_version": "2.0.0",
      "model_name": "ProgressStyleModel",
      "state": {
       "_model_module": "@jupyter-widgets/controls",
       "_model_module_version": "2.0.0",
       "_model_name": "ProgressStyleModel",
       "_view_count": null,
       "_view_module": "@jupyter-widgets/base",
       "_view_module_version": "2.0.0",
       "_view_name": "StyleView",
       "bar_color": null,
       "description_width": ""
      }
     },
     "460d15e4e98540d7b5d356536b70cdab": {
      "model_module": "@jupyter-widgets/controls",
      "model_module_version": "2.0.0",
      "model_name": "HBoxModel",
      "state": {
       "_dom_classes": [],
       "_model_module": "@jupyter-widgets/controls",
       "_model_module_version": "2.0.0",
       "_model_name": "HBoxModel",
       "_view_count": null,
       "_view_module": "@jupyter-widgets/controls",
       "_view_module_version": "2.0.0",
       "_view_name": "HBoxView",
       "box_style": "",
       "children": [
        "IPY_MODEL_3acc824524934124ba6e7f292d15c84f",
        "IPY_MODEL_977b16e815654ed48766aaa6072c77c5",
        "IPY_MODEL_61cfc157375c488b96fdb7583cae9af0"
       ],
       "layout": "IPY_MODEL_5386f163b6464cf1a377f6d3583ec137",
       "tabbable": null,
       "tooltip": null
      }
     },
     "5386f163b6464cf1a377f6d3583ec137": {
      "model_module": "@jupyter-widgets/base",
      "model_module_version": "2.0.0",
      "model_name": "LayoutModel",
      "state": {
       "_model_module": "@jupyter-widgets/base",
       "_model_module_version": "2.0.0",
       "_model_name": "LayoutModel",
       "_view_count": null,
       "_view_module": "@jupyter-widgets/base",
       "_view_module_version": "2.0.0",
       "_view_name": "LayoutView",
       "align_content": null,
       "align_items": null,
       "align_self": null,
       "border_bottom": null,
       "border_left": null,
       "border_right": null,
       "border_top": null,
       "bottom": null,
       "display": null,
       "flex": null,
       "flex_flow": null,
       "grid_area": null,
       "grid_auto_columns": null,
       "grid_auto_flow": null,
       "grid_auto_rows": null,
       "grid_column": null,
       "grid_gap": null,
       "grid_row": null,
       "grid_template_areas": null,
       "grid_template_columns": null,
       "grid_template_rows": null,
       "height": null,
       "justify_content": null,
       "justify_items": null,
       "left": null,
       "margin": null,
       "max_height": null,
       "max_width": null,
       "min_height": null,
       "min_width": null,
       "object_fit": null,
       "object_position": null,
       "order": null,
       "overflow": null,
       "padding": null,
       "right": null,
       "top": null,
       "visibility": null,
       "width": null
      }
     },
     "61cfc157375c488b96fdb7583cae9af0": {
      "model_module": "@jupyter-widgets/controls",
      "model_module_version": "2.0.0",
      "model_name": "HTMLModel",
      "state": {
       "_dom_classes": [],
       "_model_module": "@jupyter-widgets/controls",
       "_model_module_version": "2.0.0",
       "_model_name": "HTMLModel",
       "_view_count": null,
       "_view_module": "@jupyter-widgets/controls",
       "_view_module_version": "2.0.0",
       "_view_name": "HTMLView",
       "description": "",
       "description_allow_html": false,
       "layout": "IPY_MODEL_de68a68a82734da2bab79c59669b4387",
       "placeholder": "​",
       "style": "IPY_MODEL_89112060e2b647cbb8a4a1f2a69751a1",
       "tabbable": null,
       "tooltip": null,
       "value": " 1/1 [00:06&lt;00:00,  6.91s/it]"
      }
     },
     "6b7889bacbde414ea72bf86871b5c71d": {
      "model_module": "@jupyter-widgets/base",
      "model_module_version": "2.0.0",
      "model_name": "LayoutModel",
      "state": {
       "_model_module": "@jupyter-widgets/base",
       "_model_module_version": "2.0.0",
       "_model_name": "LayoutModel",
       "_view_count": null,
       "_view_module": "@jupyter-widgets/base",
       "_view_module_version": "2.0.0",
       "_view_name": "LayoutView",
       "align_content": null,
       "align_items": null,
       "align_self": null,
       "border_bottom": null,
       "border_left": null,
       "border_right": null,
       "border_top": null,
       "bottom": null,
       "display": null,
       "flex": null,
       "flex_flow": null,
       "grid_area": null,
       "grid_auto_columns": null,
       "grid_auto_flow": null,
       "grid_auto_rows": null,
       "grid_column": null,
       "grid_gap": null,
       "grid_row": null,
       "grid_template_areas": null,
       "grid_template_columns": null,
       "grid_template_rows": null,
       "height": null,
       "justify_content": null,
       "justify_items": null,
       "left": null,
       "margin": null,
       "max_height": null,
       "max_width": null,
       "min_height": null,
       "min_width": null,
       "object_fit": null,
       "object_position": null,
       "order": null,
       "overflow": null,
       "padding": null,
       "right": null,
       "top": null,
       "visibility": null,
       "width": null
      }
     },
     "89112060e2b647cbb8a4a1f2a69751a1": {
      "model_module": "@jupyter-widgets/controls",
      "model_module_version": "2.0.0",
      "model_name": "HTMLStyleModel",
      "state": {
       "_model_module": "@jupyter-widgets/controls",
       "_model_module_version": "2.0.0",
       "_model_name": "HTMLStyleModel",
       "_view_count": null,
       "_view_module": "@jupyter-widgets/base",
       "_view_module_version": "2.0.0",
       "_view_name": "StyleView",
       "background": null,
       "description_width": "",
       "font_size": null,
       "text_color": null
      }
     },
     "977b16e815654ed48766aaa6072c77c5": {
      "model_module": "@jupyter-widgets/controls",
      "model_module_version": "2.0.0",
      "model_name": "FloatProgressModel",
      "state": {
       "_dom_classes": [],
       "_model_module": "@jupyter-widgets/controls",
       "_model_module_version": "2.0.0",
       "_model_name": "FloatProgressModel",
       "_view_count": null,
       "_view_module": "@jupyter-widgets/controls",
       "_view_module_version": "2.0.0",
       "_view_name": "ProgressView",
       "bar_style": "success",
       "description": "",
       "description_allow_html": false,
       "layout": "IPY_MODEL_6b7889bacbde414ea72bf86871b5c71d",
       "max": 1.0,
       "min": 0.0,
       "orientation": "horizontal",
       "style": "IPY_MODEL_45fb31f4611c4e88b20f94b9581a9838",
       "tabbable": null,
       "tooltip": null,
       "value": 1.0
      }
     },
     "de59588ce4194d8e8c64b4b67082cdfd": {
      "model_module": "@jupyter-widgets/base",
      "model_module_version": "2.0.0",
      "model_name": "LayoutModel",
      "state": {
       "_model_module": "@jupyter-widgets/base",
       "_model_module_version": "2.0.0",
       "_model_name": "LayoutModel",
       "_view_count": null,
       "_view_module": "@jupyter-widgets/base",
       "_view_module_version": "2.0.0",
       "_view_name": "LayoutView",
       "align_content": null,
       "align_items": null,
       "align_self": null,
       "border_bottom": null,
       "border_left": null,
       "border_right": null,
       "border_top": null,
       "bottom": null,
       "display": null,
       "flex": null,
       "flex_flow": null,
       "grid_area": null,
       "grid_auto_columns": null,
       "grid_auto_flow": null,
       "grid_auto_rows": null,
       "grid_column": null,
       "grid_gap": null,
       "grid_row": null,
       "grid_template_areas": null,
       "grid_template_columns": null,
       "grid_template_rows": null,
       "height": null,
       "justify_content": null,
       "justify_items": null,
       "left": null,
       "margin": null,
       "max_height": null,
       "max_width": null,
       "min_height": null,
       "min_width": null,
       "object_fit": null,
       "object_position": null,
       "order": null,
       "overflow": null,
       "padding": null,
       "right": null,
       "top": null,
       "visibility": null,
       "width": null
      }
     },
     "de68a68a82734da2bab79c59669b4387": {
      "model_module": "@jupyter-widgets/base",
      "model_module_version": "2.0.0",
      "model_name": "LayoutModel",
      "state": {
       "_model_module": "@jupyter-widgets/base",
       "_model_module_version": "2.0.0",
       "_model_name": "LayoutModel",
       "_view_count": null,
       "_view_module": "@jupyter-widgets/base",
       "_view_module_version": "2.0.0",
       "_view_name": "LayoutView",
       "align_content": null,
       "align_items": null,
       "align_self": null,
       "border_bottom": null,
       "border_left": null,
       "border_right": null,
       "border_top": null,
       "bottom": null,
       "display": null,
       "flex": null,
       "flex_flow": null,
       "grid_area": null,
       "grid_auto_columns": null,
       "grid_auto_flow": null,
       "grid_auto_rows": null,
       "grid_column": null,
       "grid_gap": null,
       "grid_row": null,
       "grid_template_areas": null,
       "grid_template_columns": null,
       "grid_template_rows": null,
       "height": null,
       "justify_content": null,
       "justify_items": null,
       "left": null,
       "margin": null,
       "max_height": null,
       "max_width": null,
       "min_height": null,
       "min_width": null,
       "object_fit": null,
       "object_position": null,
       "order": null,
       "overflow": null,
       "padding": null,
       "right": null,
       "top": null,
       "visibility": null,
       "width": null
      }
     },
     "ee7cbad642484c419c7dc88a556a2482": {
      "model_module": "@jupyter-widgets/controls",
      "model_module_version": "2.0.0",
      "model_name": "HTMLStyleModel",
      "state": {
       "_model_module": "@jupyter-widgets/controls",
       "_model_module_version": "2.0.0",
       "_model_name": "HTMLStyleModel",
       "_view_count": null,
       "_view_module": "@jupyter-widgets/base",
       "_view_module_version": "2.0.0",
       "_view_name": "StyleView",
       "background": null,
       "description_width": "",
       "font_size": null,
       "text_color": null
      }
     }
    },
    "version_major": 2,
    "version_minor": 0
   }
  }
 },
 "nbformat": 4,
 "nbformat_minor": 5
}