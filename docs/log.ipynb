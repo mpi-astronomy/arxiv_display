{
 "cells": [
  {
   "cell_type": "markdown",
   "id": "92bcb855",
   "metadata": {
    "papermill": {
     "duration": 0.003853,
     "end_time": "2025-03-26T04:11:38.397779",
     "exception": false,
     "start_time": "2025-03-26T04:11:38.393926",
     "status": "completed"
    },
    "tags": []
   },
   "source": [
    "# MPIA Arxiv on Deck 2\n",
    "\n",
    "Contains the steps to produce the paper extractions."
   ]
  },
  {
   "cell_type": "code",
   "execution_count": 1,
   "id": "3a0d6e11",
   "metadata": {
    "execution": {
     "iopub.execute_input": "2025-03-26T04:11:38.405209Z",
     "iopub.status.busy": "2025-03-26T04:11:38.404887Z",
     "iopub.status.idle": "2025-03-26T04:11:38.951046Z",
     "shell.execute_reply": "2025-03-26T04:11:38.950420Z"
    },
    "papermill": {
     "duration": 0.551255,
     "end_time": "2025-03-26T04:11:38.952370",
     "exception": false,
     "start_time": "2025-03-26T04:11:38.401115",
     "status": "completed"
    },
    "tags": []
   },
   "outputs": [],
   "source": [
    "# Imports\n",
    "import os\n",
    "from IPython.display import Markdown, display\n",
    "from tqdm.notebook import tqdm\n",
    "import warnings\n",
    "from PIL import Image \n",
    "import re\n",
    "\n",
    "# requires arxiv_on_deck_2\n",
    "\n",
    "from arxiv_on_deck_2.arxiv2 import (get_new_papers, \n",
    "                                    get_paper_from_identifier,\n",
    "                                    retrieve_document_source, \n",
    "                                    get_markdown_badge)\n",
    "from arxiv_on_deck_2 import (latex,\n",
    "                             latex_bib,\n",
    "                             mpia,\n",
    "                             highlight_authors_in_list)\n",
    "\n",
    "# Sometimes images are really big\n",
    "Image.MAX_IMAGE_PIXELS = 1000000000 "
   ]
  },
  {
   "cell_type": "code",
   "execution_count": 2,
   "id": "22aa9d44",
   "metadata": {
    "execution": {
     "iopub.execute_input": "2025-03-26T04:11:38.959747Z",
     "iopub.status.busy": "2025-03-26T04:11:38.959259Z",
     "iopub.status.idle": "2025-03-26T04:11:38.967444Z",
     "shell.execute_reply": "2025-03-26T04:11:38.966802Z"
    },
    "papermill": {
     "duration": 0.012946,
     "end_time": "2025-03-26T04:11:38.968517",
     "exception": false,
     "start_time": "2025-03-26T04:11:38.955571",
     "status": "completed"
    },
    "tags": []
   },
   "outputs": [],
   "source": [
    "# Some useful definitions.\n",
    "\n",
    "class AffiliationWarning(UserWarning):\n",
    "    pass\n",
    "\n",
    "class AffiliationError(RuntimeError):\n",
    "    pass\n",
    "\n",
    "def validation(source: str):\n",
    "    \"\"\"Raises error paper during parsing of source file\n",
    "    \n",
    "    Allows checks before parsing TeX code.\n",
    "    \n",
    "    Raises AffiliationWarning\n",
    "    \"\"\"\n",
    "    check = mpia.affiliation_verifications(source, verbose=True)\n",
    "    if check is not True:\n",
    "        raise AffiliationError(\"mpia.affiliation_verifications: \" + check)\n",
    "\n",
    "        \n",
    "warnings.simplefilter('always', AffiliationWarning)\n",
    "\n",
    "\n",
    "def get_markdown_qrcode(paper_id: str):\n",
    "    \"\"\" Generate a qrcode to the arxiv page using qrserver.com\n",
    "    \n",
    "    :param paper: Arxiv paper\n",
    "    :returns: markdown text\n",
    "    \"\"\"\n",
    "    url = r\"https://api.qrserver.com/v1/create-qr-code/?size=100x100&data=\"\n",
    "    txt = f\"\"\"<img src={url}\"https://arxiv.org/abs/{paper_id}\">\"\"\"\n",
    "    txt = '<div id=\"qrcode\">' + txt + '</div>'\n",
    "    return txt\n",
    "\n",
    "\n",
    "def clean_non_western_encoded_characters_commands(text: str) -> str:\n",
    "    \"\"\" Remove non-western encoded characters from a string\n",
    "    List may need to grow.\n",
    "    \n",
    "    :param text: the text to clean\n",
    "    :return: the cleaned text\n",
    "    \"\"\"\n",
    "    text = re.sub(r\"(\\\\begin{CJK}{UTF8}{gbsn})(.*?)(\\\\end{CJK})\", r\"\\2\", text)\n",
    "    return text\n",
    "\n",
    "\n",
    "def get_initials(name: str) -> str:\n",
    "    \"\"\" Get the short name, e.g., A.-B. FamName\n",
    "    :param name: full name\n",
    "    :returns: initials\n",
    "    \"\"\"\n",
    "    initials = []\n",
    "    # account for non western names often in ()\n",
    "    if '(' in name:\n",
    "        name = clean_non_western_encoded_characters_commands(name)\n",
    "        suffix = re.findall(r\"\\((.*?)\\)\", name)[0]\n",
    "        name = name.replace(f\"({suffix})\", '')\n",
    "    else:\n",
    "        suffix = ''\n",
    "    split = name.split()\n",
    "    for token in split[:-1]:\n",
    "        if '-' in token:\n",
    "            current = '-'.join([k[0] + '.' for k in token.split('-')])\n",
    "        else:\n",
    "            current = token[0] + '.'\n",
    "        initials.append(current)\n",
    "    initials.append(split[-1].strip())\n",
    "    if suffix:\n",
    "        initials.append(f\"({suffix})\")\n",
    "    return ' '.join(initials)"
   ]
  },
  {
   "cell_type": "markdown",
   "id": "14bd6310",
   "metadata": {
    "papermill": {
     "duration": 0.00289,
     "end_time": "2025-03-26T04:11:38.974347",
     "exception": false,
     "start_time": "2025-03-26T04:11:38.971457",
     "status": "completed"
    },
    "tags": []
   },
   "source": [
    "## get list of arxiv paper candidates\n",
    "\n",
    "We use the MPIA mitarbeiter list webpage from mpia.de to get author names\n",
    "We then get all new papers from Arxiv and match authors"
   ]
  },
  {
   "cell_type": "code",
   "execution_count": 3,
   "id": "7ea813a8",
   "metadata": {
    "execution": {
     "iopub.execute_input": "2025-03-26T04:11:38.981251Z",
     "iopub.status.busy": "2025-03-26T04:11:38.980839Z",
     "iopub.status.idle": "2025-03-26T04:11:58.624353Z",
     "shell.execute_reply": "2025-03-26T04:11:58.623705Z"
    },
    "papermill": {
     "duration": 19.648394,
     "end_time": "2025-03-26T04:11:58.625636",
     "exception": false,
     "start_time": "2025-03-26T04:11:38.977242",
     "status": "completed"
    },
    "tags": []
   },
   "outputs": [],
   "source": [
    "# deal with the author list and edge cases of people that cannot be consistent on their name  \n",
    "\n",
    "def filter_non_scientists(name: str) -> bool:\n",
    "    \"\"\" Loose filter on expected authorships\n",
    "\n",
    "    removing IT, administration, technical staff\n",
    "    :param name: name\n",
    "    :returns: False if name is not a scientist\n",
    "    \"\"\"\n",
    "    remove_list = ['Licht', 'Binroth', 'Witzel', 'Jordan',\n",
    "                   'Zähringer', 'Scheerer', 'Hoffmann', 'Düe',\n",
    "                   'Hellmich', 'Enkler-Scharpegge', 'Witte-Nguy',\n",
    "                   'Dehen', 'Beckmann', 'Jager', 'Jäger'\n",
    "                  ]\n",
    "\n",
    "    for k in remove_list:\n",
    "        if k in name:\n",
    "            return False\n",
    "    return True\n",
    "\n",
    "def add_author_to_list(author_list: list) -> list:\n",
    "    \"\"\" Add author to list if not already in list\n",
    "    \n",
    "    :param author: author name\n",
    "    :param author_list: list of authors\n",
    "    :returns: updated list of authors\n",
    "    \"\"\"\n",
    "    add_list = ['T. Henning']\n",
    "\n",
    "    for author in add_list:\n",
    "        if author not in author_list:\n",
    "            author_list.append(author)\n",
    "    return author_list\n",
    "\n",
    "# get list from MPIA website\n",
    "# filter for non-scientists (mpia.get_mpia_mitarbeiter_list() does some filtering)\n",
    "mpia_authors = [k[1] for k in mpia.get_mpia_mitarbeiter_list() if filter_non_scientists(k[1])]\n",
    "# add some missing author because of inconsistencies in their MPIA name and author name on papers\n",
    "mpia_authors = add_author_to_list(mpia_authors)"
   ]
  },
  {
   "cell_type": "code",
   "execution_count": 4,
   "id": "2645e73a",
   "metadata": {
    "execution": {
     "iopub.execute_input": "2025-03-26T04:11:58.633143Z",
     "iopub.status.busy": "2025-03-26T04:11:58.632711Z",
     "iopub.status.idle": "2025-03-26T04:11:59.518591Z",
     "shell.execute_reply": "2025-03-26T04:11:59.517958Z"
    },
    "papermill": {
     "duration": 0.890721,
     "end_time": "2025-03-26T04:11:59.519711",
     "exception": false,
     "start_time": "2025-03-26T04:11:58.628990",
     "status": "completed"
    },
    "tags": []
   },
   "outputs": [
    {
     "name": "stdout",
     "output_type": "stream",
     "text": [
      "J. Müller-Horn  ->  J. Müller-Horn  |  ['J. Müller-Horn']\n",
      "N. Neumayer  ->  N. Neumayer  |  ['N. Neumayer']\n",
      "M. Häberle  ->  M. Häberle  |  ['M. Häberle']\n"
     ]
    },
    {
     "name": "stdout",
     "output_type": "stream",
     "text": [
      "J. Li  ->  J. Li  |  ['J. Li']\n",
      "X. Zhang  ->  X. Zhang  |  ['X. Zhang']\n",
      "Arxiv has 69 new papers today\n",
      "          3 with possible author matches\n"
     ]
    }
   ],
   "source": [
    "new_papers = get_new_papers()\n",
    "# add manual references\n",
    "add_paper_refs = []\n",
    "new_papers.extend([get_paper_from_identifier(k) for k in add_paper_refs])\n",
    "\n",
    "def robust_call(fn, value, *args, **kwargs):\n",
    "    try:\n",
    "        return fn(value, *args, **kwargs)\n",
    "    except Exception:\n",
    "        return value\n",
    "\n",
    "candidates = []\n",
    "for paperk in new_papers:\n",
    "    # Check author list with their initials\n",
    "    normed_author_list = [robust_call(mpia.get_initials, k) for k in paperk['authors']]\n",
    "    hl_authors = highlight_authors_in_list(normed_author_list, mpia_authors, verbose=True)\n",
    "    matches = [(hl, orig) for hl, orig in zip(hl_authors, paperk['authors']) if 'mark' in hl]\n",
    "    paperk['authors'] = hl_authors\n",
    "    if matches:\n",
    "        # only select paper if an author matched our list\n",
    "        candidates.append(paperk)\n",
    "print(\"\"\"Arxiv has {0:,d} new papers today\"\"\".format(len(new_papers)))        \n",
    "print(\"\"\"          {0:,d} with possible author matches\"\"\".format(len(candidates)))"
   ]
  },
  {
   "cell_type": "markdown",
   "id": "3543b34a",
   "metadata": {
    "papermill": {
     "duration": 0.00313,
     "end_time": "2025-03-26T04:11:59.526457",
     "exception": false,
     "start_time": "2025-03-26T04:11:59.523327",
     "status": "completed"
    },
    "tags": []
   },
   "source": [
    "# Parse sources and generate relevant outputs\n",
    "\n",
    "From the candidates, we do the following steps:\n",
    "* get their tarball from ArXiv (and extract data)\n",
    "* find the main .tex file: find one with \\documentclass{...} (sometimes it's non trivial)\n",
    "* Check affiliations with :func:`validation`, which uses :func:`mpia.affiliation_verifications`\n",
    "* If passing the affiliations: we parse the .tex source\n",
    "   * inject sub-documents into the main (flatten the main document)\n",
    "   * parse structure, extract information (title, abstract, authors, figures...)\n",
    "   * handles `\\graphicspath` if provided\n",
    "* Generate the .md document."
   ]
  },
  {
   "cell_type": "code",
   "execution_count": 5,
   "id": "9576b79e",
   "metadata": {
    "execution": {
     "iopub.execute_input": "2025-03-26T04:11:59.533728Z",
     "iopub.status.busy": "2025-03-26T04:11:59.533324Z",
     "iopub.status.idle": "2025-03-26T04:13:05.091602Z",
     "shell.execute_reply": "2025-03-26T04:13:05.090828Z"
    },
    "papermill": {
     "duration": 65.563059,
     "end_time": "2025-03-26T04:13:05.092584",
     "exception": false,
     "start_time": "2025-03-26T04:11:59.529525",
     "status": "completed"
    },
    "scrolled": false,
    "tags": []
   },
   "outputs": [
    {
     "data": {
      "application/vnd.jupyter.widget-view+json": {
       "model_id": "3a276a045c3f4882a4bc5b7df6f77fb5",
       "version_major": 2,
       "version_minor": 0
      },
      "text/plain": [
       "  0%|          | 0/3 [00:00<?, ?it/s]"
      ]
     },
     "metadata": {},
     "output_type": "display_data"
    },
    {
     "name": "stdout",
     "output_type": "stream",
     "text": [
      "Retrieving document from  https://arxiv.org/e-print/2503.19113\n"
     ]
    },
    {
     "name": "stdout",
     "output_type": "stream",
     "text": [
      "extracting tarball to tmp_2503.19113..."
     ]
    },
    {
     "name": "stdout",
     "output_type": "stream",
     "text": [
      " done.\n"
     ]
    },
    {
     "name": "stdout",
     "output_type": "stream",
     "text": [
      "Found 65 bibliographic references in tmp_2503.19113/OmegaCen_binaries.bbl.\n",
      "Retrieving document from  https://arxiv.org/e-print/2503.19512\n"
     ]
    },
    {
     "name": "stdout",
     "output_type": "stream",
     "text": [
      "extracting tarball to tmp_2503.19512..."
     ]
    },
    {
     "name": "stdout",
     "output_type": "stream",
     "text": [
      " done.\n",
      "Retrieving document from  https://arxiv.org/e-print/2503.19796\n"
     ]
    },
    {
     "name": "stdout",
     "output_type": "stream",
     "text": [
      "extracting tarball to tmp_2503.19796..."
     ]
    },
    {
     "name": "stdout",
     "output_type": "stream",
     "text": [
      " done.\n"
     ]
    }
   ],
   "source": [
    "documents = []\n",
    "failed = []\n",
    "for paper in tqdm(candidates):\n",
    "    # debug crap\n",
    "    paper['identifier'] = paper['identifier'].lower().replace('arxiv:', '').replace(r'\\n', '').strip()\n",
    "    paper_id = paper['identifier']\n",
    "    \n",
    "    folder = f'tmp_{paper_id}'\n",
    "\n",
    "    try:\n",
    "        if not os.path.isdir(folder):\n",
    "            folder = retrieve_document_source(f\"{paper_id}\", f'tmp_{paper_id}')\n",
    "        \n",
    "        try:\n",
    "            doc = latex.LatexDocument(folder, validation=validation)    \n",
    "        except AffiliationError as affilerror:\n",
    "            msg = f\"ArXiv:{paper_id:s} is not an MPIA paper... \" + str(affilerror)\n",
    "            failed.append((paper, \"affiliation error: \" + str(affilerror) ))\n",
    "            continue\n",
    "        \n",
    "        # Hack because sometimes author parsing does not work well\n",
    "        if (len(doc.authors) != len(paper['authors'])):\n",
    "            doc._authors = paper['authors']\n",
    "        else:\n",
    "            # highlight authors (FIXME: doc.highlight_authors)\n",
    "            # done on arxiv paper already\n",
    "            doc._authors = highlight_authors_in_list(\n",
    "                [get_initials(k) for k in doc.authors], \n",
    "                mpia_authors, verbose=True)\n",
    "        if (doc.abstract) in (None, ''):\n",
    "            doc._abstract = paper['abstract']\n",
    "            \n",
    "        doc.comment = (get_markdown_badge(paper_id) + \n",
    "                       \"<mark>Appeared on: \" + paper['date'] + \"</mark> - \")\n",
    "        if paper['comments']:\n",
    "            doc.comment += \" _\" + paper['comments'] + \"_\"\n",
    "        \n",
    "        full_md = doc.generate_markdown_text()\n",
    "        \n",
    "        full_md += get_markdown_qrcode(paper_id)\n",
    "        \n",
    "        # replace citations\n",
    "        try:\n",
    "            bibdata = latex_bib.LatexBib.from_doc(doc)\n",
    "            full_md = latex_bib.replace_citations(full_md, bibdata)\n",
    "        except Exception as e:\n",
    "            print(\"Issues with the citations\")\n",
    "            print(e)\n",
    "        \n",
    "        documents.append((paper_id, full_md))\n",
    "    except Exception as e:\n",
    "        warnings.warn(latex.LatexWarning(f\"{paper_id:s} did not run properly\\n\" +\n",
    "                                         str(e)\n",
    "                                        ))\n",
    "        failed.append((paper, \"latex error \" + str(e)))"
   ]
  },
  {
   "cell_type": "markdown",
   "id": "2505a25c",
   "metadata": {
    "papermill": {
     "duration": 0.003637,
     "end_time": "2025-03-26T04:13:05.100204",
     "exception": false,
     "start_time": "2025-03-26T04:13:05.096567",
     "status": "completed"
    },
    "tags": []
   },
   "source": [
    "### Export the logs\n",
    "\n",
    "Throughout, we also keep track of the logs per paper. see `logs-{today date}.md` "
   ]
  },
  {
   "cell_type": "code",
   "execution_count": 6,
   "id": "d733828a",
   "metadata": {
    "execution": {
     "iopub.execute_input": "2025-03-26T04:13:05.108366Z",
     "iopub.status.busy": "2025-03-26T04:13:05.108106Z",
     "iopub.status.idle": "2025-03-26T04:13:05.122357Z",
     "shell.execute_reply": "2025-03-26T04:13:05.121722Z"
    },
    "papermill": {
     "duration": 0.019612,
     "end_time": "2025-03-26T04:13:05.123409",
     "exception": false,
     "start_time": "2025-03-26T04:13:05.103797",
     "status": "completed"
    },
    "scrolled": false,
    "tags": []
   },
   "outputs": [
    {
     "data": {
      "text/markdown": [
       "## Successful papers"
      ],
      "text/plain": [
       "<IPython.core.display.Markdown object>"
      ]
     },
     "metadata": {},
     "output_type": "display_data"
    },
    {
     "data": {
      "text/markdown": [
       "\n",
       "|||\n",
       "|---:|:---|\n",
       "| [![arXiv](https://img.shields.io/badge/arXiv-2503.19113-b31b1b.svg)](https://arxiv.org/abs/2503.19113) | **Studying Binary Systems in Omega Centauri with MUSE: II. Observational constraints on the orbital period distribution**  |\n",
       "|| S. Saracino, et al. -- incl., <mark>J. Müller-Horn</mark>, <mark>N. Neumayer</mark>, <mark>M. Häberle</mark> |\n",
       "|*Appeared on*| *2025-03-26*|\n",
       "|*Comments*| *22 pages (Appendix A and B included), 16 Figures, 4 Tables. Accepted for publication in Monthly Notices of the Royal Astronomical Society*|\n",
       "|**Abstract**|            Omega Centauri ($\\omega$ Cen) is one of the most complex star clusters in the Milky Way, and likely the stripped nucleus of an accreted dwarf galaxy. Being the subject of debate between it hosting an intermediate-mass black hole (IMBH) or a collection of stellar-mass black holes (BHs) in its center, $\\omega$ Cen has been intensively studied over the past decades. Our work focuses on characterizing the properties of binary systems in $\\omega$ Cen via multi-epoch MUSE spectroscopic observations spanning over eight years and covering much of its central regions (i.e. core radius). We did not detect any stellar-mass BHs candidates orbiting luminous stars, although mock samples indicate a high sensitivity of our survey to such systems. This suggests that BHs orbiting stars may be rare in $\\omega$ Cen or in wide orbits around low-mass companions (where our survey is 50% complete) or that the periods of such systems are longer than expected from cluster dynamics. Additionally, we constrained the orbital properties of 19 binary systems in the cluster, with periods ranging from fractions of a day up to several hundred days. We observe an excess of binaries with P $\\ge$ 10 d and find evidence that the intrinsic period distribution of binaries in $\\omega$ Cen differs from those predicted by cluster evolutionary models.         |"
      ],
      "text/plain": [
       "[2503.19113] Studying Binary Systems in Omega Centauri with MUSE: II. Observational constraints on the orbital period distribution\n",
       "\tS. Saracino, et al. -- incl., <mark>J. Müller-Horn</mark>, <mark>N. Neumayer</mark>, <mark>M. Häberle</mark>"
      ]
     },
     "metadata": {},
     "output_type": "display_data"
    },
    {
     "data": {
      "text/markdown": [
       "## Failed papers"
      ],
      "text/plain": [
       "<IPython.core.display.Markdown object>"
      ]
     },
     "metadata": {},
     "output_type": "display_data"
    },
    {
     "data": {
      "text/markdown": [
       "\n",
       "|||\n",
       "|---:|:---|\n",
       "| [![arXiv](https://img.shields.io/badge/arXiv-2503.19512-b31b1b.svg)](https://arxiv.org/abs/2503.19512) | **Conditional Autoencoder for Generating BNS Waveforms with Tidal and Precession Effects**  |\n",
       "|| M. Sun, et al. -- incl., <mark>J. Li</mark> |\n",
       "|*Appeared on*| *2025-03-26*|\n",
       "|*Comments*| **|\n",
       "|**Abstract**|            Gravitational waves from binary neutron star mergers provide insights into dense matter physics and strong-field gravity, but waveform modeling remains computationally challenging. We develop a deep generative model for gravitational waveforms from BNS mergers, covering the late inspiral, merger, and ringdown, incorporating precession and tidal effects. Using the conditional autoencoder, our model efficiently generates waveforms with high fidelity across a broad parameter space, including component masses $(m_1, m_2)$, spin components $(S_{1x}, S_{1y}, S_{1z}, S_{2x}, S_{2y}, S_{2z})$, and tidal deformability $(\\Lambda_1, \\Lambda_2)$. Trained on $3 \\times 10^5$ waveforms from the IMRPhenomXP\\_NRTidalv2 waveform model, it achieves an average overlap accuracy of 99.6\\% on the test set. The model significantly accelerates waveform generation. For a single sample, it requires $0.12$ seconds (s), compared to $0.38$ s for IMRPhenomXP\\_NRTidalv2 and $0.62$ s for IMRPhenomPv2\\_NRTidal, making it approximately 3 to 5 times faster. When generating $10^3$ waveforms, the network completes the task in $0.86$ s, while traditional waveform approximation methods take over $46$--$53$ s. Our model achieves a total time of $7.48$ s to generate $10^4$ such waveforms, making it about 60 to 65 times faster than traditional waveform approximation methods. This speed advantage enables rapid parameter estimation and real-time gravitational wave searches. With higher precision, it will support low-latency detection and broader applications in multi-messenger astrophysics.         |\n",
       "|<p style=\"color:green\"> **ERROR** </p>| <p style=\"color:green\">affiliation error: mpia.affiliation_verifications: 'Heidelberg' keyword not found.</p> |"
      ],
      "text/plain": [
       "<IPython.core.display.Markdown object>"
      ]
     },
     "metadata": {},
     "output_type": "display_data"
    },
    {
     "data": {
      "text/markdown": [
       "\n",
       "|||\n",
       "|---:|:---|\n",
       "| [![arXiv](https://img.shields.io/badge/arXiv-2503.19796-b31b1b.svg)](https://arxiv.org/abs/2503.19796) | **The cross-correlation between soft X-rays and galaxies A new benchmark for galaxy evolution models**  |\n",
       "|| J. Comparat, et al. -- incl., <mark>X. Zhang</mark> |\n",
       "|*Appeared on*| *2025-03-26*|\n",
       "|*Comments*| *Accepted in A&A*|\n",
       "|**Abstract**|            This article presents the construction and validation of complete stellar mass-selected, volume-limited galaxy samples using the Legacy Survey (data release 10) galaxy catalogs, covering $\\sim16,800$ deg$^2$ of extra-galactic sky, and extending to redshift $z<0.35$. We measure the correlation function of these galaxies with tiny statistical uncertainties at the percent level and systematic uncertainties up to 5\\%. A 4-parameter halo occupation distribution (HOD) model is fitted to retrieve the population of host halos, yielding results on the stellar to halo mass relation consistent with the current models of galaxy formation and evolution. Using these complete galaxy samples, we measure and analyze the cross-correlation (X-corr) between galaxies and all soft X-ray photons observed by SRG/eROSITA in the 0.5-2 keV band over $\\sim13,000$ deg$^2$. The cross correlation measurements have unprecedented sub-percent statistical uncertainty and ~5-10\\% systematic uncertainty. An extension to the halo model is introduced to interpret the X-corr, decomposing contributions from X-ray point sources, hot gas (CGM), satellites, and the 2-halo term. For low stellar mass thresholds ($\\log M^*/M_{\\odot}>$ 10, 10.25, 10.5), we find that the point source emission dominates the X-corr at small separation ($r<80$kpc). Then, in the range ($80<r<2$Mpc), the emission from large halos hosting satellite galaxies dominates. Finally, on scales beyond that considered here ($r>2$Mpc), the 2-halo term becomes dominant. Interestingly, there is no scale at which the CGM dominates. In the range ($20<r<200$kpc), the CGM contributes to more than 10\\% of the signal. Progressively, with the minimum stellar mass increasing, the CGM emission increases. We constrain the $M_{500c}-L_X$ scaling relation slope, $1.629^{+0.091}_{-0.089}$, at the 5\\% level using the samples with the lowest mass threshold.         |\n",
       "|<p style=\"color:green\"> **ERROR** </p>| <p style=\"color:green\">affiliation error: mpia.affiliation_verifications: 'Heidelberg' keyword not found.</p> |"
      ],
      "text/plain": [
       "<IPython.core.display.Markdown object>"
      ]
     },
     "metadata": {},
     "output_type": "display_data"
    }
   ],
   "source": [
    "import datetime\n",
    "today = str(datetime.date.today())\n",
    "logfile = f\"_build/html/logs/log-{today}.md\"\n",
    "\n",
    "\n",
    "with open(logfile, 'w') as logs:\n",
    "    # Success\n",
    "    logs.write(f'# Arxiv on Deck 2: Logs - {today}\\n\\n')\n",
    "    logs.write(\"\"\"* Arxiv had {0:,d} new papers\\n\"\"\".format(len(new_papers)))\n",
    "    logs.write(\"\"\"    * {0:,d} with possible author matches\\n\\n\"\"\".format(len(candidates)))\n",
    "    logs.write(\"## Sucessful papers\\n\\n\")\n",
    "    display(Markdown(\"## Successful papers\"))\n",
    "    success = [k[0] for k in documents]\n",
    "    for candid in candidates:\n",
    "        if candid['identifier'].split(':')[-1] in success:\n",
    "            display(candid)\n",
    "            logs.write(candid.generate_markdown_text() + '\\n\\n')\n",
    "\n",
    "    ## failed\n",
    "    logs.write(\"## Failed papers\\n\\n\")\n",
    "    display(Markdown(\"## Failed papers\"))\n",
    "    failed = sorted(failed, key=lambda x: x[1])\n",
    "    current_reason = \"\"\n",
    "    for paper, reason in failed:\n",
    "        if 'affiliation' in reason:\n",
    "            color = 'green'\n",
    "        else:\n",
    "            color = 'red'\n",
    "        data = Markdown(\n",
    "                paper.generate_markdown_text() + \n",
    "                f'\\n|<p style=\"color:{color:s}\"> **ERROR** </p>| <p style=\"color:{color:s}\">{reason:s}</p> |'\n",
    "               )\n",
    "        if reason != current_reason:\n",
    "            logs.write(f'### {reason:s} \\n\\n')\n",
    "            current_reason = reason\n",
    "        logs.write(data.data + '\\n\\n')\n",
    "        \n",
    "        # only display here the important errors (all in logs)\n",
    "        # if color in ('red',):\n",
    "        display(data)"
   ]
  },
  {
   "cell_type": "markdown",
   "id": "472d20ee",
   "metadata": {
    "papermill": {
     "duration": 0.004118,
     "end_time": "2025-03-26T04:13:05.131638",
     "exception": false,
     "start_time": "2025-03-26T04:13:05.127520",
     "status": "completed"
    },
    "tags": []
   },
   "source": [
    "## Export documents\n",
    "\n",
    "We now write the .md files and export relevant images"
   ]
  },
  {
   "cell_type": "code",
   "execution_count": 7,
   "id": "d426aed9",
   "metadata": {
    "execution": {
     "iopub.execute_input": "2025-03-26T04:13:05.140506Z",
     "iopub.status.busy": "2025-03-26T04:13:05.140323Z",
     "iopub.status.idle": "2025-03-26T04:13:05.146922Z",
     "shell.execute_reply": "2025-03-26T04:13:05.146391Z"
    },
    "papermill": {
     "duration": 0.012266,
     "end_time": "2025-03-26T04:13:05.147929",
     "exception": false,
     "start_time": "2025-03-26T04:13:05.135663",
     "status": "completed"
    },
    "tags": []
   },
   "outputs": [],
   "source": [
    "def export_markdown_summary(md: str, md_fname:str, directory: str):\n",
    "    \"\"\"Export MD document and associated relevant images\"\"\"\n",
    "    import os\n",
    "    import shutil\n",
    "    import re\n",
    "\n",
    "    if (os.path.exists(directory) and not os.path.isdir(directory)):\n",
    "        raise RuntimeError(f\"a non-directory file exists with name {directory:s}\")\n",
    "\n",
    "    if (not os.path.exists(directory)):\n",
    "        print(f\"creating directory {directory:s}\")\n",
    "        os.mkdir(directory)\n",
    "\n",
    "    fig_fnames = (re.compile(r'\\[Fig.*\\]\\((.*)\\)').findall(md) + \n",
    "                  re.compile(r'\\<img src=\"([^>\\s]*)\"[^>]*/>').findall(md))\n",
    "    print(\"found figures\", fig_fnames)\n",
    "    for fname in fig_fnames:\n",
    "        if 'http' in fname:\n",
    "            # No need to copy online figures\n",
    "            continue\n",
    "        if not os.path.exists(fname):\n",
    "            print(\"file not found\", fname)\n",
    "            continue\n",
    "        print(\"copying \", fname, \"to\", directory)\n",
    "        destdir = os.path.join(directory, os.path.dirname(fname))\n",
    "        destfname = os.path.join(destdir, os.path.basename(fname))\n",
    "        try:\n",
    "            os.makedirs(destdir)\n",
    "        except FileExistsError:\n",
    "            pass\n",
    "        shutil.copy(fname, destfname)\n",
    "    with open(os.path.join(directory, md_fname), 'w') as fout:\n",
    "        fout.write(md)\n",
    "    print(\"exported in \", os.path.join(directory, md_fname))\n",
    "    [print(\"    + \" + os.path.join(directory,fk)) for fk in fig_fnames]"
   ]
  },
  {
   "cell_type": "code",
   "execution_count": 8,
   "id": "014d04a4",
   "metadata": {
    "execution": {
     "iopub.execute_input": "2025-03-26T04:13:05.157090Z",
     "iopub.status.busy": "2025-03-26T04:13:05.156694Z",
     "iopub.status.idle": "2025-03-26T04:13:05.164164Z",
     "shell.execute_reply": "2025-03-26T04:13:05.163618Z"
    },
    "papermill": {
     "duration": 0.013002,
     "end_time": "2025-03-26T04:13:05.165103",
     "exception": false,
     "start_time": "2025-03-26T04:13:05.152101",
     "status": "completed"
    },
    "tags": []
   },
   "outputs": [
    {
     "name": "stdout",
     "output_type": "stream",
     "text": [
      "found figures ['tmp_2503.19113/./OmegaCen_Pe_plot_mod.png', 'tmp_2503.19113/./OmegaCen_PK_plot_mod.png', 'tmp_2503.19113/./1664295_new-cropped.png', 'tmp_2503.19113/./1665349_new-cropped.png', 'tmp_2503.19113/./1670391_new-cropped.png', 'tmp_2503.19113/./1720096_new-cropped.png', 'tmp_2503.19113/./1724184_new-cropped.png', 'tmp_2503.19113/./1757804_new-cropped.png']\n",
      "copying  tmp_2503.19113/./OmegaCen_Pe_plot_mod.png to _build/html/\n",
      "copying  tmp_2503.19113/./OmegaCen_PK_plot_mod.png to _build/html/\n",
      "copying  tmp_2503.19113/./1664295_new-cropped.png to _build/html/\n",
      "copying  tmp_2503.19113/./1665349_new-cropped.png to _build/html/\n",
      "copying  tmp_2503.19113/./1670391_new-cropped.png to _build/html/\n",
      "copying  tmp_2503.19113/./1720096_new-cropped.png to _build/html/\n",
      "copying  tmp_2503.19113/./1724184_new-cropped.png to _build/html/\n",
      "copying  tmp_2503.19113/./1757804_new-cropped.png to _build/html/\n",
      "exported in  _build/html/2503.19113.md\n",
      "    + _build/html/tmp_2503.19113/./OmegaCen_Pe_plot_mod.png\n",
      "    + _build/html/tmp_2503.19113/./OmegaCen_PK_plot_mod.png\n",
      "    + _build/html/tmp_2503.19113/./1664295_new-cropped.png\n",
      "    + _build/html/tmp_2503.19113/./1665349_new-cropped.png\n",
      "    + _build/html/tmp_2503.19113/./1670391_new-cropped.png\n",
      "    + _build/html/tmp_2503.19113/./1720096_new-cropped.png\n",
      "    + _build/html/tmp_2503.19113/./1724184_new-cropped.png\n",
      "    + _build/html/tmp_2503.19113/./1757804_new-cropped.png\n"
     ]
    }
   ],
   "source": [
    "for paper_id, md in documents:\n",
    "    export_markdown_summary(md, f\"{paper_id:s}.md\", '_build/html/')"
   ]
  },
  {
   "cell_type": "markdown",
   "id": "f087a0a7",
   "metadata": {
    "papermill": {
     "duration": 0.004149,
     "end_time": "2025-03-26T04:13:05.173572",
     "exception": false,
     "start_time": "2025-03-26T04:13:05.169423",
     "status": "completed"
    },
    "tags": []
   },
   "source": [
    "## Display the papers\n",
    "\n",
    "Not necessary but allows for a quick check."
   ]
  },
  {
   "cell_type": "code",
   "execution_count": 9,
   "id": "fd25f625",
   "metadata": {
    "execution": {
     "iopub.execute_input": "2025-03-26T04:13:05.183002Z",
     "iopub.status.busy": "2025-03-26T04:13:05.182606Z",
     "iopub.status.idle": "2025-03-26T04:13:05.187008Z",
     "shell.execute_reply": "2025-03-26T04:13:05.186516Z"
    },
    "papermill": {
     "duration": 0.010153,
     "end_time": "2025-03-26T04:13:05.187939",
     "exception": false,
     "start_time": "2025-03-26T04:13:05.177786",
     "status": "completed"
    },
    "scrolled": false,
    "tags": []
   },
   "outputs": [
    {
     "data": {
      "text/markdown": [
       "<div class=\"macros\" style=\"visibility:hidden;\">\n",
       "$\\newcommand{\\ensuremath}{}$\n",
       "$\\newcommand{\\xspace}{}$\n",
       "$\\newcommand{\\object}[1]{\\texttt{#1}}$\n",
       "$\\newcommand{\\farcs}{{.}''}$\n",
       "$\\newcommand{\\farcm}{{.}'}$\n",
       "$\\newcommand{\\arcsec}{''}$\n",
       "$\\newcommand{\\arcmin}{'}$\n",
       "$\\newcommand{\\ion}[2]{#1#2}$\n",
       "$\\newcommand{\\textsc}[1]{\\textrm{#1}}$\n",
       "$\\newcommand{\\hl}[1]{\\textrm{#1}}$\n",
       "$\\newcommand{\\footnote}[1]{}$\n",
       "$\\newcommand{\\thebibliography}{\\DeclareRobustCommand{\\VAN}[3]{##3}\\VANthebibliography}$</div>\n",
       "\n",
       "\n",
       "\n",
       "<div id=\"title\">\n",
       "\n",
       "# Studying Binary Systems in Omega Centauri with MUSE: II. Observational constraints on the orbital period distribution\n",
       "\n",
       "</div>\n",
       "<div id=\"comments\">\n",
       "\n",
       "[![arXiv](https://img.shields.io/badge/arXiv-2503.19113-b31b1b.svg)](https://arxiv.org/abs/2503.19113)<mark>Appeared on: 2025-03-26</mark> -  _22 pages (Appendix A and B included), 16 Figures, 4 Tables. Accepted for publication in Monthly Notices of the Royal Astronomical Society_\n",
       "\n",
       "</div>\n",
       "<div id=\"authors\">\n",
       "\n",
       "S. Saracino, et al. -- incl., <mark>J. Müller-Horn</mark>, <mark>N. Neumayer</mark>, <mark>M. Häberle</mark>\n",
       "\n",
       "</div>\n",
       "<div id=\"abstract\">\n",
       "\n",
       "**Abstract:** Omega Centauri ( $\\omega$ Cen) is one of the most complex star clusters in the Milky Way, and likely the stripped nucleus of an accreted dwarf galaxy. Being the subject of debate between it hosting an intermediate-mass black hole (IMBH) or a collection of stellar-mass black holes (BHs) in its center, $\\omega$ Cen has been intensively studied over the past decades. Our work focuses on characterizing the properties of binary systems in $\\omega$ Cen via multi-epoch MUSE spectroscopic observations spanning over eight years and covering much of its central regions (i.e. core radius). We did not detect any stellar-mass BHs candidates orbiting luminous stars, although mock samples indicate a high sensitivity of our survey to such systems. This suggests that BHs orbiting stars may be rare in $\\omega$ Cen or in wide orbits around low-mass companions (where our survey is 50 \\% complete) or that the periods of such systems are longer than expected from cluster dynamics. Additionally, we constrained the orbital properties of 19 binary systems in the cluster, with periods ranging from fractions of a day up to several hundred days. We observe an excess of binaries with P $\\geq$ 10 d and find evidence that the intrinsic period distribution of binaries in $\\omega$ Cen differs from those predicted by cluster evolutionary models.\n",
       "\n",
       "</div>\n",
       "\n",
       "<div id=\"div_fig1\">\n",
       "\n",
       "<img src=\"tmp_2503.19113/./OmegaCen_Pe_plot_mod.png\" alt=\"Fig2\" width=\"100%\"/>\n",
       "\n",
       "**Figure 2. -** Eccentricity - Period plot of the well-constrained binaries in $\\omega$ Cen. Binaries with unimodal and bimodal solutions in the posterior period sampling are shown as black and red dots, respectively. Cyan diamonds identify binaries constrained by both The Joker and Ultranest. The period distribution of the 19 binaries is shown in gray in logarithmic scale and spans the range between 1 and 500 days with multiple peaks. The green histogram shows the same period distribution, once corrected for the incompleteness derived in Section \\ref{sec:testI}. The eccentricity distribution, on the other hand, varies only from 0 to 0.5, with a peak around 0.1/0.15, i.e. prefers low eccentricity orbits. The dashed cyan line defines the maximum expected eccentricity for a given period. Binaries with P$<$ 2 days are expected to have circular or close to circular orbits. The reported values are from Ultranest. The values from The Joker can be found in Table \\ref{tab:constrained} in the Appendix. (*fig:Pe_plot*)\n",
       "\n",
       "</div>\n",
       "<div id=\"div_fig2\">\n",
       "\n",
       "<img src=\"tmp_2503.19113/./OmegaCen_PK_plot_mod.png\" alt=\"Fig3\" width=\"100%\"/>\n",
       "\n",
       "**Figure 3. -** Period - Peak-to-Peak RV variation ($\\Delta V_{r}$) plot of the 19 well constrained binaries in $\\omega$ Cen. The colour code is the same as in Figure \\ref{fig:Pe_plot}, also shown in the bottom-left legend. Stars with large orbital periods and/or high peak-to-peak RV variability occupy the upper right region of the plot. The dashed orange line defines the locus where equal-mass binaries composed of two stars with mass $0.8M_{\\odot}$ -- the maximum stellar mass expected in $\\omega$ Cen given its absolute age -- are located when observed edge-on. Binaries with q<1 are on the left of the orange line, while binaries with q>1 are on the right. The 1D period and $\\Delta V_{r}$ distributions of the 19 binaries are also shown in the figure, in gray in logarithmic scale, spanning a large range of values. As in Fig. \\ref{fig:Pe_plot}, the green histogram refers to the distribution of periods, once corrected for the results of Section \\ref{sec:testI}. The reported values are from Ultranest. The values from The Joker, are provided in Table \\ref{tab:constrained} in the Appendix. (*fig:PK_plot*)\n",
       "\n",
       "</div>\n",
       "<div id=\"div_fig3\">\n",
       "\n",
       "<img src=\"tmp_2503.19113/./1664295_new-cropped.png\" alt=\"Fig13.1\" width=\"16%\"/><img src=\"tmp_2503.19113/./1665349_new-cropped.png\" alt=\"Fig13.2\" width=\"16%\"/><img src=\"tmp_2503.19113/./1670391_new-cropped.png\" alt=\"Fig13.3\" width=\"16%\"/><img src=\"tmp_2503.19113/./1720096_new-cropped.png\" alt=\"Fig13.4\" width=\"16%\"/><img src=\"tmp_2503.19113/./1724184_new-cropped.png\" alt=\"Fig13.5\" width=\"16%\"/><img src=\"tmp_2503.19113/./1757804_new-cropped.png\" alt=\"Fig13.6\" width=\"16%\"/>\n",
       "\n",
       "**Figure 13. -** Constrained binaries in $\\omega$ Cen sorted by Star ID. The upper panel of every plot shows the observed RV curve (black points), the best-fit median model and the $\\pm$ 1 $\\sigma$ models (green continues lines). The green shaded area is the allowed region by propagating the uncertainties on the parameters. The lower panel shows the same RVs phase folded with the period from the median model. The colour code is the same as in upper panel. Moreover, it also contains the residuals after subtracting this model from the data. The reduced $\\chi^2$ of the best-fit median model is also mentioned. (*fig:plot*)\n",
       "\n",
       "</div><div id=\"qrcode\"><img src=https://api.qrserver.com/v1/create-qr-code/?size=100x100&data=\"https://arxiv.org/abs/2503.19113\"></div>"
      ],
      "text/plain": [
       "<IPython.core.display.Markdown object>"
      ]
     },
     "metadata": {},
     "output_type": "display_data"
    }
   ],
   "source": [
    "[display(Markdown(k[1])) for k in documents];"
   ]
  },
  {
   "cell_type": "markdown",
   "id": "873873a4",
   "metadata": {
    "papermill": {
     "duration": 0.004428,
     "end_time": "2025-03-26T04:13:05.196757",
     "exception": false,
     "start_time": "2025-03-26T04:13:05.192329",
     "status": "completed"
    },
    "tags": []
   },
   "source": [
    "# Create HTML index"
   ]
  },
  {
   "cell_type": "code",
   "execution_count": 10,
   "id": "cf665672",
   "metadata": {
    "execution": {
     "iopub.execute_input": "2025-03-26T04:13:05.206716Z",
     "iopub.status.busy": "2025-03-26T04:13:05.206304Z",
     "iopub.status.idle": "2025-03-26T04:13:05.215726Z",
     "shell.execute_reply": "2025-03-26T04:13:05.215241Z"
    },
    "papermill": {
     "duration": 0.015483,
     "end_time": "2025-03-26T04:13:05.216754",
     "exception": false,
     "start_time": "2025-03-26T04:13:05.201271",
     "status": "completed"
    },
    "tags": []
   },
   "outputs": [
    {
     "name": "stdout",
     "output_type": "stream",
     "text": [
      "407  publications files modified in the last 7 days.\n"
     ]
    }
   ],
   "source": [
    "from datetime import datetime, timedelta, timezone\n",
    "from glob import glob\n",
    "import os\n",
    "\n",
    "files = glob('_build/html/*.md')\n",
    "days = 7\n",
    "now = datetime.today()\n",
    "res = []\n",
    "for fk in files:\n",
    "    stat_result = os.stat(fk).st_ctime\n",
    "    modified = datetime.fromtimestamp(stat_result, tz=timezone.utc).replace(tzinfo=None)\n",
    "    delta = now.today() - modified\n",
    "    if delta <= timedelta(days=days):\n",
    "        res.append((delta.seconds, fk))\n",
    "res = [k[1] for k in reversed(sorted(res, key=lambda x:x[1]))]\n",
    "npub = len(res)\n",
    "print(len(res), f\" publications files modified in the last {days:d} days.\")\n",
    "# [ print('\\t', k) for k in res ];"
   ]
  },
  {
   "cell_type": "code",
   "execution_count": 11,
   "id": "015de740",
   "metadata": {
    "execution": {
     "iopub.execute_input": "2025-03-26T04:13:05.226686Z",
     "iopub.status.busy": "2025-03-26T04:13:05.226263Z",
     "iopub.status.idle": "2025-03-26T04:13:05.247357Z",
     "shell.execute_reply": "2025-03-26T04:13:05.246804Z"
    },
    "papermill": {
     "duration": 0.027081,
     "end_time": "2025-03-26T04:13:05.248368",
     "exception": false,
     "start_time": "2025-03-26T04:13:05.221287",
     "status": "completed"
    },
    "tags": []
   },
   "outputs": [
    {
     "name": "stdout",
     "output_type": "stream",
     "text": [
      "40  publications in the last 7 days.\n"
     ]
    }
   ],
   "source": [
    "import datetime\n",
    "from glob import glob\n",
    "\n",
    "def get_last_n_days(lst, days=1):\n",
    "    \"\"\" Get the documents from the last n days \"\"\"\n",
    "    sorted_lst = sorted(lst, key=lambda x: x[1], reverse=True)\n",
    "    for fname, date in sorted_lst:\n",
    "        if date >= str(datetime.date.today() - datetime.timedelta(days=days)):\n",
    "            yield fname\n",
    "\n",
    "def extract_appearance_dates(lst_file):\n",
    "    dates = []\n",
    "\n",
    "    def get_date(line):\n",
    "        return line\\\n",
    "            .split('Appeared on:')[-1]\\\n",
    "            .split('</mark>')[0].strip()\n",
    "\n",
    "    for fname in lst:\n",
    "        with open(fname, 'r') as f:\n",
    "            found_date = False\n",
    "            for line in f:\n",
    "                if not found_date:\n",
    "                    if \"Appeared on\" in line:\n",
    "                        found_date = True\n",
    "                        dates.append((fname, get_date(line)))\n",
    "                else:\n",
    "                    break\n",
    "    return dates\n",
    "\n",
    "from glob import glob\n",
    "lst = glob('_build/html/*md')\n",
    "days = 7\n",
    "dates = extract_appearance_dates(lst)\n",
    "res = list(get_last_n_days(dates, days))\n",
    "npub = len(res)\n",
    "print(len(res), f\" publications in the last {days:d} days.\")"
   ]
  },
  {
   "cell_type": "code",
   "execution_count": 12,
   "id": "52ca0208",
   "metadata": {
    "execution": {
     "iopub.execute_input": "2025-03-26T04:13:05.258575Z",
     "iopub.status.busy": "2025-03-26T04:13:05.258195Z",
     "iopub.status.idle": "2025-03-26T04:13:05.262989Z",
     "shell.execute_reply": "2025-03-26T04:13:05.262459Z"
    },
    "papermill": {
     "duration": 0.010763,
     "end_time": "2025-03-26T04:13:05.263951",
     "exception": false,
     "start_time": "2025-03-26T04:13:05.253188",
     "status": "completed"
    },
    "scrolled": false,
    "tags": []
   },
   "outputs": [],
   "source": [
    "def create_carousel(npub=4):\n",
    "    \"\"\" Generate the HTML code for a carousel with `npub` slides \"\"\"\n",
    "    carousel = [\"\"\"  <div class=\"carousel\" \"\"\",\n",
    "                \"\"\"       data-flickity='{ \"autoPlay\": 10000, \"adaptiveHeight\": true, \"resize\": true, \"wrapAround\": true, \"pauseAutoPlayOnHover\": true, \"groupCells\": 1 }' id=\"asyncTypeset\">\"\"\"\n",
    "                ]\n",
    "    \n",
    "    item_str = \"\"\"    <div class=\"carousel-cell\"> <div id=\"slide{k}\" class=\"md_view\">Content {k}</div> </div>\"\"\"\n",
    "    for k in range(1, npub + 1):\n",
    "        carousel.append(item_str.format(k=k))\n",
    "    carousel.append(\"  </div>\")\n",
    "    return '\\n'.join(carousel)\n",
    "\n",
    "def create_grid(npub=4):\n",
    "    \"\"\" Generate the HTML code for a flat grid with `npub` slides \"\"\"\n",
    "    grid = [\"\"\"  <div class=\"grid\"> \"\"\",\n",
    "                ]\n",
    "    \n",
    "    item_str = \"\"\"    <div class=\"grid-item\"> <div id=\"slide{k}\" class=\"md_view\">Content {k}</div> </div>\"\"\"\n",
    "    for k in range(1, npub + 1):\n",
    "        grid.append(item_str.format(k=k))\n",
    "    grid.append(\"  </div>\")\n",
    "    return '\\n'.join(grid)"
   ]
  },
  {
   "cell_type": "code",
   "execution_count": 13,
   "id": "a6eac5b6",
   "metadata": {
    "execution": {
     "iopub.execute_input": "2025-03-26T04:13:05.273853Z",
     "iopub.status.busy": "2025-03-26T04:13:05.273672Z",
     "iopub.status.idle": "2025-03-26T04:13:05.278778Z",
     "shell.execute_reply": "2025-03-26T04:13:05.278189Z"
    },
    "papermill": {
     "duration": 0.011101,
     "end_time": "2025-03-26T04:13:05.279697",
     "exception": false,
     "start_time": "2025-03-26T04:13:05.268596",
     "status": "completed"
    },
    "scrolled": false,
    "tags": []
   },
   "outputs": [],
   "source": [
    "carousel = create_carousel(npub)\n",
    "docs = ', '.join(['\"{0:s}\"'.format(k.split('/')[-1]) for k in res])\n",
    "slides = ', '.join([f'\"slide{k}\"' for k in range(1, npub + 1)])\n",
    "\n",
    "with open(\"daily_template.html\", \"r\") as tpl:\n",
    "    page = tpl.read()\n",
    "    page = page.replace(\"{%-- carousel:s --%}\", carousel)\\\n",
    "               .replace(\"{%-- suptitle:s --%}\",  \"7-day archives\" )\\\n",
    "               .replace(\"{%-- docs:s --%}\", docs)\\\n",
    "               .replace(\"{%-- slides:s --%}\", slides)\n",
    "    \n",
    "with open(\"_build/html/index_7days.html\", 'w') as fout:\n",
    "    fout.write(page)"
   ]
  },
  {
   "cell_type": "code",
   "execution_count": 14,
   "id": "adc1a1ec",
   "metadata": {
    "execution": {
     "iopub.execute_input": "2025-03-26T04:13:05.289881Z",
     "iopub.status.busy": "2025-03-26T04:13:05.289536Z",
     "iopub.status.idle": "2025-03-26T04:13:05.296181Z",
     "shell.execute_reply": "2025-03-26T04:13:05.295626Z"
    },
    "papermill": {
     "duration": 0.012811,
     "end_time": "2025-03-26T04:13:05.297109",
     "exception": false,
     "start_time": "2025-03-26T04:13:05.284298",
     "status": "completed"
    },
    "tags": []
   },
   "outputs": [
    {
     "name": "stdout",
     "output_type": "stream",
     "text": [
      "5  publications in the last day.\n"
     ]
    }
   ],
   "source": [
    "# redo for today\n",
    "days = 1\n",
    "res = list(get_last_n_days(dates, days))\n",
    "npub = len(res)\n",
    "print(len(res), f\" publications in the last day.\")\n",
    "\n",
    "carousel = create_carousel(npub)\n",
    "docs = ', '.join(['\"{0:s}\"'.format(k.split('/')[-1]) for k in res])\n",
    "slides = ', '.join([f'\"slide{k}\"' for k in range(1, npub + 1)])\n",
    "\n",
    "with open(\"daily_template.html\", \"r\") as tpl:\n",
    "    page = tpl.read()\n",
    "    page = page.replace(\"{%-- carousel:s --%}\", carousel)\\\n",
    "               .replace(\"{%-- suptitle:s --%}\",  \"Daily\" )\\\n",
    "               .replace(\"{%-- docs:s --%}\", docs)\\\n",
    "               .replace(\"{%-- slides:s --%}\", slides)\n",
    "    \n",
    "# print(carousel, docs, slides)\n",
    "# print(page)\n",
    "with open(\"_build/html/index_daily.html\", 'w') as fout:\n",
    "    fout.write(page)"
   ]
  },
  {
   "cell_type": "code",
   "execution_count": 15,
   "id": "00eece82",
   "metadata": {
    "execution": {
     "iopub.execute_input": "2025-03-26T04:13:05.307682Z",
     "iopub.status.busy": "2025-03-26T04:13:05.307235Z",
     "iopub.status.idle": "2025-03-26T04:13:05.314690Z",
     "shell.execute_reply": "2025-03-26T04:13:05.314042Z"
    },
    "papermill": {
     "duration": 0.013778,
     "end_time": "2025-03-26T04:13:05.315700",
     "exception": false,
     "start_time": "2025-03-26T04:13:05.301922",
     "status": "completed"
    },
    "scrolled": false,
    "tags": []
   },
   "outputs": [
    {
     "name": "stdout",
     "output_type": "stream",
     "text": [
      "6  6 publications selected.\n"
     ]
    }
   ],
   "source": [
    "# Create the flat grid of the last N papers (fixed number regardless of dates)\n",
    "from itertools import islice \n",
    "\n",
    "npub = 6\n",
    "res = [k[0] for k in (islice(reversed(sorted(dates, key=lambda x: x[1])), 6))]\n",
    "print(len(res), f\" {npub} publications selected.\")\n",
    "\n",
    "grid = create_grid(npub)\n",
    "docs = ', '.join(['\"{0:s}\"'.format(k.split('/')[-1]) for k in res])\n",
    "slides = ', '.join([f'\"slide{k}\"' for k in range(1, npub + 1)])\n",
    "\n",
    "with open(\"grid_template.html\", \"r\") as tpl:\n",
    "    page = tpl.read()\n",
    "    page = page.replace(\"{%-- grid-content:s --%}\", grid)\\\n",
    "               .replace(\"{%-- suptitle:s --%}\",  f\"Last {npub:,d} papers\" )\\\n",
    "               .replace(\"{%-- docs:s --%}\", docs)\\\n",
    "               .replace(\"{%-- slides:s --%}\", slides)\n",
    "    \n",
    "# print(grid, docs, slides)\n",
    "# print(page)\n",
    "with open(\"_build/html/index_npub_grid.html\", 'w') as fout:\n",
    "    fout.write(page)"
   ]
  }
 ],
 "metadata": {
  "kernelspec": {
   "display_name": "Python 3 (ipykernel)",
   "language": "python",
   "name": "python3"
  },
  "language_info": {
   "codemirror_mode": {
    "name": "ipython",
    "version": 3
   },
   "file_extension": ".py",
   "mimetype": "text/x-python",
   "name": "python",
   "nbconvert_exporter": "python",
   "pygments_lexer": "ipython3",
   "version": "3.9.21"
  },
  "papermill": {
   "default_parameters": {},
   "duration": 88.050992,
   "end_time": "2025-03-26T04:13:05.535716",
   "environment_variables": {},
   "exception": null,
   "input_path": "MPIA daily digest.ipynb",
   "output_path": "log.ipynb",
   "parameters": {},
   "start_time": "2025-03-26T04:11:37.484724",
   "version": "2.6.0"
  },
  "vscode": {
   "interpreter": {
    "hash": "aee8b7b246df8f9039afb4144a1f6fd8d2ca17a180786b69acc140d282b71a49"
   }
  },
  "widgets": {
   "application/vnd.jupyter.widget-state+json": {
    "state": {
     "06da01feda5649ce8f3eace9606f1625": {
      "model_module": "@jupyter-widgets/base",
      "model_module_version": "2.0.0",
      "model_name": "LayoutModel",
      "state": {
       "_model_module": "@jupyter-widgets/base",
       "_model_module_version": "2.0.0",
       "_model_name": "LayoutModel",
       "_view_count": null,
       "_view_module": "@jupyter-widgets/base",
       "_view_module_version": "2.0.0",
       "_view_name": "LayoutView",
       "align_content": null,
       "align_items": null,
       "align_self": null,
       "border_bottom": null,
       "border_left": null,
       "border_right": null,
       "border_top": null,
       "bottom": null,
       "display": null,
       "flex": null,
       "flex_flow": null,
       "grid_area": null,
       "grid_auto_columns": null,
       "grid_auto_flow": null,
       "grid_auto_rows": null,
       "grid_column": null,
       "grid_gap": null,
       "grid_row": null,
       "grid_template_areas": null,
       "grid_template_columns": null,
       "grid_template_rows": null,
       "height": null,
       "justify_content": null,
       "justify_items": null,
       "left": null,
       "margin": null,
       "max_height": null,
       "max_width": null,
       "min_height": null,
       "min_width": null,
       "object_fit": null,
       "object_position": null,
       "order": null,
       "overflow": null,
       "padding": null,
       "right": null,
       "top": null,
       "visibility": null,
       "width": null
      }
     },
     "11d8838712ac407598cf1bd35f00f709": {
      "model_module": "@jupyter-widgets/controls",
      "model_module_version": "2.0.0",
      "model_name": "HTMLModel",
      "state": {
       "_dom_classes": [],
       "_model_module": "@jupyter-widgets/controls",
       "_model_module_version": "2.0.0",
       "_model_name": "HTMLModel",
       "_view_count": null,
       "_view_module": "@jupyter-widgets/controls",
       "_view_module_version": "2.0.0",
       "_view_name": "HTMLView",
       "description": "",
       "description_allow_html": false,
       "layout": "IPY_MODEL_2236af4fdc7b407c98d0129287bc5b22",
       "placeholder": "​",
       "style": "IPY_MODEL_e967d4ba5c8e47bea64a7de47c23a273",
       "tabbable": null,
       "tooltip": null,
       "value": "100%"
      }
     },
     "2236af4fdc7b407c98d0129287bc5b22": {
      "model_module": "@jupyter-widgets/base",
      "model_module_version": "2.0.0",
      "model_name": "LayoutModel",
      "state": {
       "_model_module": "@jupyter-widgets/base",
       "_model_module_version": "2.0.0",
       "_model_name": "LayoutModel",
       "_view_count": null,
       "_view_module": "@jupyter-widgets/base",
       "_view_module_version": "2.0.0",
       "_view_name": "LayoutView",
       "align_content": null,
       "align_items": null,
       "align_self": null,
       "border_bottom": null,
       "border_left": null,
       "border_right": null,
       "border_top": null,
       "bottom": null,
       "display": null,
       "flex": null,
       "flex_flow": null,
       "grid_area": null,
       "grid_auto_columns": null,
       "grid_auto_flow": null,
       "grid_auto_rows": null,
       "grid_column": null,
       "grid_gap": null,
       "grid_row": null,
       "grid_template_areas": null,
       "grid_template_columns": null,
       "grid_template_rows": null,
       "height": null,
       "justify_content": null,
       "justify_items": null,
       "left": null,
       "margin": null,
       "max_height": null,
       "max_width": null,
       "min_height": null,
       "min_width": null,
       "object_fit": null,
       "object_position": null,
       "order": null,
       "overflow": null,
       "padding": null,
       "right": null,
       "top": null,
       "visibility": null,
       "width": null
      }
     },
     "3a276a045c3f4882a4bc5b7df6f77fb5": {
      "model_module": "@jupyter-widgets/controls",
      "model_module_version": "2.0.0",
      "model_name": "HBoxModel",
      "state": {
       "_dom_classes": [],
       "_model_module": "@jupyter-widgets/controls",
       "_model_module_version": "2.0.0",
       "_model_name": "HBoxModel",
       "_view_count": null,
       "_view_module": "@jupyter-widgets/controls",
       "_view_module_version": "2.0.0",
       "_view_name": "HBoxView",
       "box_style": "",
       "children": [
        "IPY_MODEL_11d8838712ac407598cf1bd35f00f709",
        "IPY_MODEL_d2608f5255d442fc94479cea8bdbcf86",
        "IPY_MODEL_7e6cdad858c04bc5a05c268a0bd180e8"
       ],
       "layout": "IPY_MODEL_ec0330142f604e37b7274686bebf2f60",
       "tabbable": null,
       "tooltip": null
      }
     },
     "739338ac6bed4bbcbb0b118aa4272fd9": {
      "model_module": "@jupyter-widgets/base",
      "model_module_version": "2.0.0",
      "model_name": "LayoutModel",
      "state": {
       "_model_module": "@jupyter-widgets/base",
       "_model_module_version": "2.0.0",
       "_model_name": "LayoutModel",
       "_view_count": null,
       "_view_module": "@jupyter-widgets/base",
       "_view_module_version": "2.0.0",
       "_view_name": "LayoutView",
       "align_content": null,
       "align_items": null,
       "align_self": null,
       "border_bottom": null,
       "border_left": null,
       "border_right": null,
       "border_top": null,
       "bottom": null,
       "display": null,
       "flex": null,
       "flex_flow": null,
       "grid_area": null,
       "grid_auto_columns": null,
       "grid_auto_flow": null,
       "grid_auto_rows": null,
       "grid_column": null,
       "grid_gap": null,
       "grid_row": null,
       "grid_template_areas": null,
       "grid_template_columns": null,
       "grid_template_rows": null,
       "height": null,
       "justify_content": null,
       "justify_items": null,
       "left": null,
       "margin": null,
       "max_height": null,
       "max_width": null,
       "min_height": null,
       "min_width": null,
       "object_fit": null,
       "object_position": null,
       "order": null,
       "overflow": null,
       "padding": null,
       "right": null,
       "top": null,
       "visibility": null,
       "width": null
      }
     },
     "7e6cdad858c04bc5a05c268a0bd180e8": {
      "model_module": "@jupyter-widgets/controls",
      "model_module_version": "2.0.0",
      "model_name": "HTMLModel",
      "state": {
       "_dom_classes": [],
       "_model_module": "@jupyter-widgets/controls",
       "_model_module_version": "2.0.0",
       "_model_name": "HTMLModel",
       "_view_count": null,
       "_view_module": "@jupyter-widgets/controls",
       "_view_module_version": "2.0.0",
       "_view_name": "HTMLView",
       "description": "",
       "description_allow_html": false,
       "layout": "IPY_MODEL_06da01feda5649ce8f3eace9606f1625",
       "placeholder": "​",
       "style": "IPY_MODEL_f78129f21f1a4120badfcc8c365b50fc",
       "tabbable": null,
       "tooltip": null,
       "value": " 3/3 [01:05&lt;00:00, 16.53s/it]"
      }
     },
     "d2608f5255d442fc94479cea8bdbcf86": {
      "model_module": "@jupyter-widgets/controls",
      "model_module_version": "2.0.0",
      "model_name": "FloatProgressModel",
      "state": {
       "_dom_classes": [],
       "_model_module": "@jupyter-widgets/controls",
       "_model_module_version": "2.0.0",
       "_model_name": "FloatProgressModel",
       "_view_count": null,
       "_view_module": "@jupyter-widgets/controls",
       "_view_module_version": "2.0.0",
       "_view_name": "ProgressView",
       "bar_style": "success",
       "description": "",
       "description_allow_html": false,
       "layout": "IPY_MODEL_739338ac6bed4bbcbb0b118aa4272fd9",
       "max": 3.0,
       "min": 0.0,
       "orientation": "horizontal",
       "style": "IPY_MODEL_ff80b1c975d247f89366edc5f37f7fa4",
       "tabbable": null,
       "tooltip": null,
       "value": 3.0
      }
     },
     "e967d4ba5c8e47bea64a7de47c23a273": {
      "model_module": "@jupyter-widgets/controls",
      "model_module_version": "2.0.0",
      "model_name": "HTMLStyleModel",
      "state": {
       "_model_module": "@jupyter-widgets/controls",
       "_model_module_version": "2.0.0",
       "_model_name": "HTMLStyleModel",
       "_view_count": null,
       "_view_module": "@jupyter-widgets/base",
       "_view_module_version": "2.0.0",
       "_view_name": "StyleView",
       "background": null,
       "description_width": "",
       "font_size": null,
       "text_color": null
      }
     },
     "ec0330142f604e37b7274686bebf2f60": {
      "model_module": "@jupyter-widgets/base",
      "model_module_version": "2.0.0",
      "model_name": "LayoutModel",
      "state": {
       "_model_module": "@jupyter-widgets/base",
       "_model_module_version": "2.0.0",
       "_model_name": "LayoutModel",
       "_view_count": null,
       "_view_module": "@jupyter-widgets/base",
       "_view_module_version": "2.0.0",
       "_view_name": "LayoutView",
       "align_content": null,
       "align_items": null,
       "align_self": null,
       "border_bottom": null,
       "border_left": null,
       "border_right": null,
       "border_top": null,
       "bottom": null,
       "display": null,
       "flex": null,
       "flex_flow": null,
       "grid_area": null,
       "grid_auto_columns": null,
       "grid_auto_flow": null,
       "grid_auto_rows": null,
       "grid_column": null,
       "grid_gap": null,
       "grid_row": null,
       "grid_template_areas": null,
       "grid_template_columns": null,
       "grid_template_rows": null,
       "height": null,
       "justify_content": null,
       "justify_items": null,
       "left": null,
       "margin": null,
       "max_height": null,
       "max_width": null,
       "min_height": null,
       "min_width": null,
       "object_fit": null,
       "object_position": null,
       "order": null,
       "overflow": null,
       "padding": null,
       "right": null,
       "top": null,
       "visibility": null,
       "width": null
      }
     },
     "f78129f21f1a4120badfcc8c365b50fc": {
      "model_module": "@jupyter-widgets/controls",
      "model_module_version": "2.0.0",
      "model_name": "HTMLStyleModel",
      "state": {
       "_model_module": "@jupyter-widgets/controls",
       "_model_module_version": "2.0.0",
       "_model_name": "HTMLStyleModel",
       "_view_count": null,
       "_view_module": "@jupyter-widgets/base",
       "_view_module_version": "2.0.0",
       "_view_name": "StyleView",
       "background": null,
       "description_width": "",
       "font_size": null,
       "text_color": null
      }
     },
     "ff80b1c975d247f89366edc5f37f7fa4": {
      "model_module": "@jupyter-widgets/controls",
      "model_module_version": "2.0.0",
      "model_name": "ProgressStyleModel",
      "state": {
       "_model_module": "@jupyter-widgets/controls",
       "_model_module_version": "2.0.0",
       "_model_name": "ProgressStyleModel",
       "_view_count": null,
       "_view_module": "@jupyter-widgets/base",
       "_view_module_version": "2.0.0",
       "_view_name": "StyleView",
       "bar_color": null,
       "description_width": ""
      }
     }
    },
    "version_major": 2,
    "version_minor": 0
   }
  }
 },
 "nbformat": 4,
 "nbformat_minor": 5
}