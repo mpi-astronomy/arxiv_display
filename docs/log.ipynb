{
 "cells": [
  {
   "cell_type": "markdown",
   "id": "92bcb855",
   "metadata": {
    "papermill": {
     "duration": 0.003734,
     "end_time": "2023-11-16T04:09:15.764421",
     "exception": false,
     "start_time": "2023-11-16T04:09:15.760687",
     "status": "completed"
    },
    "tags": []
   },
   "source": [
    "# MPIA Arxiv on Deck 2\n",
    "\n",
    "Contains the steps to produce the paper extractions."
   ]
  },
  {
   "cell_type": "code",
   "execution_count": 1,
   "id": "3a0d6e11",
   "metadata": {
    "execution": {
     "iopub.execute_input": "2023-11-16T04:09:15.771965Z",
     "iopub.status.busy": "2023-11-16T04:09:15.771351Z",
     "iopub.status.idle": "2023-11-16T04:09:16.213929Z",
     "shell.execute_reply": "2023-11-16T04:09:16.213188Z"
    },
    "papermill": {
     "duration": 0.44838,
     "end_time": "2023-11-16T04:09:16.215848",
     "exception": false,
     "start_time": "2023-11-16T04:09:15.767468",
     "status": "completed"
    },
    "tags": []
   },
   "outputs": [],
   "source": [
    "# Imports\n",
    "import os\n",
    "from IPython.display import Markdown, display\n",
    "from tqdm.notebook import tqdm\n",
    "import warnings\n",
    "from PIL import Image \n",
    "\n",
    "# requires arxiv_on_deck_2\n",
    "\n",
    "from arxiv_on_deck_2.arxiv2 import (get_new_papers, \n",
    "                                    get_paper_from_identifier,\n",
    "                                    retrieve_document_source, \n",
    "                                    get_markdown_badge)\n",
    "from arxiv_on_deck_2 import (latex,\n",
    "                             latex_bib,\n",
    "                             mpia,\n",
    "                             highlight_authors_in_list)\n",
    "\n",
    "# Sometimes images are really big\n",
    "Image.MAX_IMAGE_PIXELS = 1000000000 "
   ]
  },
  {
   "cell_type": "code",
   "execution_count": 2,
   "id": "22aa9d44",
   "metadata": {
    "execution": {
     "iopub.execute_input": "2023-11-16T04:09:16.224405Z",
     "iopub.status.busy": "2023-11-16T04:09:16.224042Z",
     "iopub.status.idle": "2023-11-16T04:09:16.229717Z",
     "shell.execute_reply": "2023-11-16T04:09:16.229036Z"
    },
    "papermill": {
     "duration": 0.011057,
     "end_time": "2023-11-16T04:09:16.231100",
     "exception": false,
     "start_time": "2023-11-16T04:09:16.220043",
     "status": "completed"
    },
    "tags": []
   },
   "outputs": [],
   "source": [
    "# Some useful definitions.\n",
    "\n",
    "class AffiliationWarning(UserWarning):\n",
    "    pass\n",
    "\n",
    "class AffiliationError(RuntimeError):\n",
    "    pass\n",
    "\n",
    "def validation(source: str):\n",
    "    \"\"\"Raises error paper during parsing of source file\n",
    "    \n",
    "    Allows checks before parsing TeX code.\n",
    "    \n",
    "    Raises AffiliationWarning\n",
    "    \"\"\"\n",
    "    check = mpia.affiliation_verifications(source, verbose=True)\n",
    "    if check is not True:\n",
    "        raise AffiliationError(\"mpia.affiliation_verifications: \" + check)\n",
    "\n",
    "        \n",
    "warnings.simplefilter('always', AffiliationWarning)\n",
    "\n",
    "\n",
    "def get_markdown_qrcode(paper_id: str):\n",
    "    \"\"\" Generate a qrcode to the arxiv page using qrserver.com\n",
    "    \n",
    "    :param paper: Arxiv paper\n",
    "    :returns: markdown text\n",
    "    \"\"\"\n",
    "    url = r\"https://api.qrserver.com/v1/create-qr-code/?size=100x100&data=\"\n",
    "    txt = f\"\"\"<img src={url}\"https://arxiv.org/abs/{paper_id}\">\"\"\"\n",
    "    txt = '<div id=\"qrcode\">' + txt + '</div>'\n",
    "    return txt"
   ]
  },
  {
   "cell_type": "markdown",
   "id": "14bd6310",
   "metadata": {
    "papermill": {
     "duration": 0.002776,
     "end_time": "2023-11-16T04:09:16.236776",
     "exception": false,
     "start_time": "2023-11-16T04:09:16.234000",
     "status": "completed"
    },
    "tags": []
   },
   "source": [
    "## get list of arxiv paper candidates\n",
    "\n",
    "We use the MPIA mitarbeiter list webpage from mpia.de to get author names\n",
    "We then get all new papers from Arxiv and match authors"
   ]
  },
  {
   "cell_type": "code",
   "execution_count": 3,
   "id": "2645e73a",
   "metadata": {
    "execution": {
     "iopub.execute_input": "2023-11-16T04:09:16.243983Z",
     "iopub.status.busy": "2023-11-16T04:09:16.243423Z",
     "iopub.status.idle": "2023-11-16T04:09:39.532460Z",
     "shell.execute_reply": "2023-11-16T04:09:39.531720Z"
    },
    "papermill": {
     "duration": 23.294407,
     "end_time": "2023-11-16T04:09:39.534051",
     "exception": false,
     "start_time": "2023-11-16T04:09:16.239644",
     "status": "completed"
    },
    "tags": []
   },
   "outputs": [
    {
     "name": "stdout",
     "output_type": "stream",
     "text": [
      "E. Bañados  ->  E. Bañados  |  ['E. Bañados']\n",
      "F. Davies  ->  F. Davies  |  ['F. Davies']\n",
      "S. Li  ->  S. Li  |  ['S. Li']\n",
      "J. He  ->  J. He  |  ['J. He']\n",
      "Arxiv has 61 new papers today\n",
      "          3 with possible author matches\n"
     ]
    }
   ],
   "source": [
    "# get list from MPIA website\n",
    "# it automatically filters identified non-scientists :func:`mpia.filter_non_scientists`\n",
    "mpia_authors = mpia.get_mpia_mitarbeiter_list()\n",
    "normed_mpia_authors = [k[1] for k in mpia_authors]   # initials + fullname\n",
    "new_papers = get_new_papers()\n",
    "# add manual references\n",
    "add_paper_refs = []\n",
    "new_papers.extend([get_paper_from_identifier(k) for k in add_paper_refs])\n",
    "\n",
    "candidates = []\n",
    "for paperk in new_papers:\n",
    "    # Check author list with their initials\n",
    "    normed_author_list = [mpia.get_initials(k) for k in paperk['authors']]\n",
    "    hl_authors = highlight_authors_in_list(normed_author_list, normed_mpia_authors, verbose=True)\n",
    "    matches = [(hl, orig) for hl, orig in zip(hl_authors, paperk['authors']) if 'mark' in hl]\n",
    "    paperk['authors'] = hl_authors\n",
    "    if matches:\n",
    "        # only select paper if an author matched our list\n",
    "        candidates.append(paperk)\n",
    "print(\"\"\"Arxiv has {0:,d} new papers today\"\"\".format(len(new_papers)))        \n",
    "print(\"\"\"          {0:,d} with possible author matches\"\"\".format(len(candidates)))"
   ]
  },
  {
   "cell_type": "markdown",
   "id": "3543b34a",
   "metadata": {
    "papermill": {
     "duration": 0.003352,
     "end_time": "2023-11-16T04:09:39.540715",
     "exception": false,
     "start_time": "2023-11-16T04:09:39.537363",
     "status": "completed"
    },
    "tags": []
   },
   "source": [
    "# Parse sources and generate relevant outputs\n",
    "\n",
    "From the candidates, we do the following steps:\n",
    "* get their tarball from ArXiv (and extract data)\n",
    "* find the main .tex file: find one with \\documentclass{...} (sometimes it's non trivial)\n",
    "* Check affiliations with :func:`validation`, which uses :func:`mpia.affiliation_verifications`\n",
    "* If passing the affiliations: we parse the .tex source\n",
    "   * inject sub-documents into the main (flatten the main document)\n",
    "   * parse structure, extract information (title, abstract, authors, figures...)\n",
    "   * handles `\\graphicspath` if provided\n",
    "* Generate the .md document."
   ]
  },
  {
   "cell_type": "code",
   "execution_count": 4,
   "id": "9576b79e",
   "metadata": {
    "execution": {
     "iopub.execute_input": "2023-11-16T04:09:39.548335Z",
     "iopub.status.busy": "2023-11-16T04:09:39.547808Z",
     "iopub.status.idle": "2023-11-16T04:10:48.194256Z",
     "shell.execute_reply": "2023-11-16T04:10:48.193451Z"
    },
    "papermill": {
     "duration": 68.652997,
     "end_time": "2023-11-16T04:10:48.196663",
     "exception": false,
     "start_time": "2023-11-16T04:09:39.543666",
     "status": "completed"
    },
    "scrolled": false,
    "tags": []
   },
   "outputs": [
    {
     "data": {
      "application/vnd.jupyter.widget-view+json": {
       "model_id": "cbceb4b07c3b45d0b05188d7cd355091",
       "version_major": 2,
       "version_minor": 0
      },
      "text/plain": [
       "  0%|          | 0/3 [00:00<?, ?it/s]"
      ]
     },
     "metadata": {},
     "output_type": "display_data"
    },
    {
     "name": "stdout",
     "output_type": "stream",
     "text": [
      "Retrieving document from  https://arxiv.org/e-print/2311.08451\n"
     ]
    },
    {
     "name": "stdout",
     "output_type": "stream",
     "text": [
      "extracting tarball to tmp_2311.08451..."
     ]
    },
    {
     "name": "stdout",
     "output_type": "stream",
     "text": [
      " done.\n"
     ]
    },
    {
     "name": "stderr",
     "output_type": "stream",
     "text": [
      "/opt/hostedtoolcache/Python/3.9.18/x64/lib/python3.9/site-packages/IPython/core/interactiveshell.py:3548: LatexWarning: Multiple tex files.\n",
      "\n",
      "  exec(code_obj, self.user_global_ns, self.user_ns)\n",
      "/opt/hostedtoolcache/Python/3.9.18/x64/lib/python3.9/site-packages/IPython/core/interactiveshell.py:3548: LatexWarning: Found documentclass in tmp_2311.08451/axis_highz_jets.tex\n",
      "\n",
      "  exec(code_obj, self.user_global_ns, self.user_ns)\n"
     ]
    },
    {
     "name": "stderr",
     "output_type": "stream",
     "text": [
      "/tmp/ipykernel_2287/3009462391.py:49: LatexWarning: 2311.08451 did not run properly\n",
      "list index out of range\n",
      "  warnings.warn(latex.LatexWarning(f\"{paper_id:s} did not run properly\\n\" +\n"
     ]
    },
    {
     "name": "stdout",
     "output_type": "stream",
     "text": [
      "Retrieving document from  https://arxiv.org/e-print/2311.08470\n"
     ]
    },
    {
     "name": "stdout",
     "output_type": "stream",
     "text": [
      "extracting tarball to tmp_2311.08470..."
     ]
    },
    {
     "name": "stdout",
     "output_type": "stream",
     "text": [
      " done.\n"
     ]
    },
    {
     "name": "stdout",
     "output_type": "stream",
     "text": [
      "Found 53 bibliographic references in tmp_2311.08470/feedback_and_igm.bbl.\n",
      "Retrieving document from  https://arxiv.org/e-print/2311.08651\n"
     ]
    },
    {
     "name": "stdout",
     "output_type": "stream",
     "text": [
      "extracting tarball to tmp_2311.08651..."
     ]
    },
    {
     "name": "stdout",
     "output_type": "stream",
     "text": [
      " done.\n"
     ]
    },
    {
     "name": "stdout",
     "output_type": "stream",
     "text": [
      "Found 94 bibliographic references in tmp_2311.08651/ms.bbl.\n"
     ]
    }
   ],
   "source": [
    "documents = []\n",
    "failed = []\n",
    "for paper in tqdm(candidates):\n",
    "    paper_id = paper['identifier'].lower().replace('arxiv:', '')\n",
    "    \n",
    "    folder = f'tmp_{paper_id}'\n",
    "\n",
    "    try:\n",
    "        if not os.path.isdir(folder):\n",
    "            folder = retrieve_document_source(f\"{paper_id}\", f'tmp_{paper_id}')\n",
    "        \n",
    "        try:\n",
    "            doc = latex.LatexDocument(folder, validation=validation)    \n",
    "        except AffiliationError as affilerror:\n",
    "            msg = f\"ArXiv:{paper_id:s} is not an MPIA paper... \" + str(affilerror)\n",
    "            failed.append((paper, \"affiliation error: \" + str(affilerror) ))\n",
    "            continue\n",
    "        \n",
    "        # Hack because sometimes author parsing does not work well\n",
    "        if (len(doc.authors) != len(paper['authors'])):\n",
    "            doc._authors = paper['authors']\n",
    "        else:\n",
    "            # highlight authors (FIXME: doc.highlight_authors)\n",
    "            # done on arxiv paper already\n",
    "            doc._authors = highlight_authors_in_list(\n",
    "                [mpia.get_initials(k) for k in doc.authors], \n",
    "                normed_mpia_authors, verbose=True)\n",
    "        if (doc.abstract) in (None, ''):\n",
    "            doc._abstract = paper['abstract']\n",
    "            \n",
    "        doc.comment = (get_markdown_badge(paper_id) + \n",
    "                       \"<mark>Appeared on: \" + paper['date'] + \"</mark> - \")\n",
    "        if paper['comments']:\n",
    "            doc.comment += \" _\" + paper['comments'] + \"_\"\n",
    "        \n",
    "        full_md = doc.generate_markdown_text()\n",
    "        \n",
    "        full_md += get_markdown_qrcode(paper_id)\n",
    "        \n",
    "        # replace citations\n",
    "        try:\n",
    "            bibdata = latex_bib.LatexBib.from_doc(doc)\n",
    "            full_md = latex_bib.replace_citations(full_md, bibdata)\n",
    "        except Exception as e:\n",
    "            print(e)\n",
    "        \n",
    "        documents.append((paper_id, full_md))\n",
    "    except Exception as e:\n",
    "        warnings.warn(latex.LatexWarning(f\"{paper_id:s} did not run properly\\n\" +\n",
    "                                         str(e)\n",
    "                                        ))\n",
    "        failed.append((paper, \"latex error \" + str(e)))"
   ]
  },
  {
   "cell_type": "markdown",
   "id": "2505a25c",
   "metadata": {
    "papermill": {
     "duration": 0.003702,
     "end_time": "2023-11-16T04:10:48.204315",
     "exception": false,
     "start_time": "2023-11-16T04:10:48.200613",
     "status": "completed"
    },
    "tags": []
   },
   "source": [
    "### Export the logs\n",
    "\n",
    "Throughout, we also keep track of the logs per paper. see `logs-{today date}.md` "
   ]
  },
  {
   "cell_type": "code",
   "execution_count": 5,
   "id": "d733828a",
   "metadata": {
    "execution": {
     "iopub.execute_input": "2023-11-16T04:10:48.212957Z",
     "iopub.status.busy": "2023-11-16T04:10:48.212397Z",
     "iopub.status.idle": "2023-11-16T04:10:48.225850Z",
     "shell.execute_reply": "2023-11-16T04:10:48.225170Z"
    },
    "papermill": {
     "duration": 0.019371,
     "end_time": "2023-11-16T04:10:48.227240",
     "exception": false,
     "start_time": "2023-11-16T04:10:48.207869",
     "status": "completed"
    },
    "scrolled": false,
    "tags": []
   },
   "outputs": [
    {
     "data": {
      "text/markdown": [
       "## Successful papers"
      ],
      "text/plain": [
       "<IPython.core.display.Markdown object>"
      ]
     },
     "metadata": {},
     "output_type": "display_data"
    },
    {
     "data": {
      "text/markdown": [
       "\n",
       "|||\n",
       "|---:|:---|\n",
       "| [![arXiv](https://img.shields.io/badge/arXiv-arXiv:2311.08470-b31b1b.svg)](https://arxiv.org/abs/arXiv:2311.08470) | **Searching for the Imprints of AGN Feedback on the Lyman Alpha Forest  Around Luminous Red Galaxies**  |\n",
       "|| V. Khaire, et al. -- incl., <mark>F. Davies</mark> |\n",
       "|*Appeared on*| *2023-11-16*|\n",
       "|*Comments*| *21 pages (including 4 page appendix), Submitted to MNRAS*|\n",
       "|**Abstract**| We explore the potential of using the low-redshift Lyman-$\\alpha$ (Ly$\\alpha$) forest surrounding luminous red galaxies (LRGs) as a tool to constrain active galactic nuclei (AGN) feedback models. Our analysis is based on snapshots from the Illustris and IllustrisTNG simulations at a redshift of $z=0.1$. These simulations offer an ideal platform for studying the influence of AGN feedback on the gas surrounding galaxies, as they share the same initial conditions and underlying code but incorporate different feedback prescriptions. Both simulations show significant impacts of feedback on the temperature and density of the gas around massive halos. Following our previous work, we adjusted the UV background in both simulations to align with the observed number density of Ly$\\alpha$ lines ($\\rm dN/dz$) in the intergalactic medium and study the Ly$\\alpha$ forest around massive halos hosting LRGs, at impact parameters ($r_{\\perp}$) ranging from 0.1 to 100 pMpc. Our findings reveal that $\\rm dN/dz$, as a function of $r_{\\perp}$, is approximately 1.5 to 2 times higher in IllustrisTNG compared to Illustris up to $r_{\\perp}$ of $\\sim 10$ pMpc. To further assess whether existing data can effectively discern these differences, we search for archival data containing spectra of background quasars probing foreground LRGs. Through a feasibility analysis based on this data, we demonstrate that ${\\rm dN/dz} (r_{\\perp})$ measurements can distinguish between feedback models of IllustrisTNG and Illustris with a precision exceeding 12$\\sigma$. This underscores the potential of ${\\rm dN/dz} (r_{\\perp})$ measurements around LRGs as a valuable benchmark observation for discriminating between different feedback models. |"
      ],
      "text/plain": [
       "[arXiv:2311.08470] Searching for the Imprints of AGN Feedback on the Lyman Alpha Forest  Around Luminous Red Galaxies\n",
       "\tV. Khaire, et al. -- incl., <mark>F. Davies</mark>"
      ]
     },
     "metadata": {},
     "output_type": "display_data"
    },
    {
     "data": {
      "text/markdown": [
       "\n",
       "|||\n",
       "|---:|:---|\n",
       "| [![arXiv](https://img.shields.io/badge/arXiv-arXiv:2311.08651-b31b1b.svg)](https://arxiv.org/abs/arXiv:2311.08651) | **The ALMA-QUARKS survey: -- I. Survey description and data reduction**  |\n",
       "|| X. Liu, et al. -- incl., <mark>S. Li</mark>, <mark>J. He</mark> |\n",
       "|*Appeared on*| *2023-11-16*|\n",
       "|*Comments*| *9 figures, 4 tables, accepted by RAA*|\n",
       "|**Abstract**| This paper presents an overview of the QUARKS survey, which stands for `Querying Underlying mechanisms of massive star formation with ALMA-Resolved gas Kinematics and Structures'. The QUARKS survey is observing 139 massive clumps covered by 156 pointings at ALMA Band 6 ($\\lambda\\sim$ 1.3 mm). In conjunction with data obtained from the ALMA-ATOMS survey at Band 3 ($\\lambda\\sim$ 3 mm), QUARKS aims to carry out an unbiased statistical investigation of massive star formation process within protoclusters down to a scale of 1000 au. This overview paper describes the observations and data reduction of the QUARKS survey, and gives a first look at an exemplar source, the mini-starburst Sgr B2(M). The wide-bandwidth (7.5 GHz) and high-angular-resolution (~0.3 arcsec) observations of the QUARKS survey allow to resolve much more compact cores than could be done by the ATOMS survey, and to detect previously unrevealed fainter filamentary structures. The spectral windows cover transitions of species including CO, SO, N$_2$D$^+$, SiO, H$_{30}\\alpha$, H$_2$CO, CH$_3$CN and many other complex organic molecules, tracing gas components with different temperatures and spatial extents. QUARKS aims to deepen our understanding of several scientific topics of massive star formation, such as the mass transport within protoclusters by (hub-)filamentary structures, the existence of massive starless cores, the physical and chemical properties of dense cores within protoclusters, and the feedback from already formed high-mass young protostars. |"
      ],
      "text/plain": [
       "[arXiv:2311.08651] The ALMA-QUARKS survey: -- I. Survey description and data reduction\n",
       "\tX. Liu, et al. -- incl., <mark>S. Li</mark>, <mark>J. He</mark>"
      ]
     },
     "metadata": {},
     "output_type": "display_data"
    },
    {
     "data": {
      "text/markdown": [
       "## Failed papers"
      ],
      "text/plain": [
       "<IPython.core.display.Markdown object>"
      ]
     },
     "metadata": {},
     "output_type": "display_data"
    },
    {
     "data": {
      "text/markdown": [
       "\n",
       "|||\n",
       "|---:|:---|\n",
       "| [![arXiv](https://img.shields.io/badge/arXiv-arXiv:2311.08451-b31b1b.svg)](https://arxiv.org/abs/arXiv:2311.08451) | **Uncovering the First AGN Jets with AXIS**  |\n",
       "|| T. Connor, <mark>E. Bañados</mark>, N. Cappelluti, A. Foord |\n",
       "|*Appeared on*| *2023-11-16*|\n",
       "|*Comments*| *7 Pages, 2 Figures. This White Paper is part of a series commissioned for the AXIS Probe Concept Mission; additional AXIS White Papers can be found at the AXIS website (this http URL) with a mission overview here: arXiv:2311.00780*|\n",
       "|**Abstract**| Jets powered by AGN in the early Universe ($z \\gtrsim 6$) have the potential to not only define the trajectories of the first-forming massive galaxies but to enable the accelerated growth of their associated SMBHs. Under typical assumptions, jets could even rectify observed quasars with light seed formation scenarios; however, not only are constraints on the parameters of the first jets lacking, observations of these objects are scarce. Owing to the significant energy density of the CMB at these epochs capable of quenching radio emission, observations will require powerful, high angular resolution X-ray imaging to map and characterize these jets. As such, \\textit{AXIS} will be necessary to understand early SMBH growth and feedback. |\n",
       "|<p style=\"color:red\"> **ERROR** </p>| <p style=\"color:red\">latex error list index out of range</p> |"
      ],
      "text/plain": [
       "<IPython.core.display.Markdown object>"
      ]
     },
     "metadata": {},
     "output_type": "display_data"
    }
   ],
   "source": [
    "import datetime\n",
    "today = str(datetime.date.today())\n",
    "logfile = f\"_build/html/logs/log-{today}.md\"\n",
    "\n",
    "\n",
    "with open(logfile, 'w') as logs:\n",
    "    # Success\n",
    "    logs.write(f'# Arxiv on Deck 2: Logs - {today}\\n\\n')\n",
    "    logs.write(\"\"\"* Arxiv had {0:,d} new papers\\n\"\"\".format(len(new_papers)))\n",
    "    logs.write(\"\"\"    * {0:,d} with possible author matches\\n\\n\"\"\".format(len(candidates)))\n",
    "    logs.write(\"## Sucessful papers\\n\\n\")\n",
    "    display(Markdown(\"## Successful papers\"))\n",
    "    success = [k[0] for k in documents]\n",
    "    for candid in candidates:\n",
    "        if candid['identifier'].split(':')[-1] in success:\n",
    "            display(candid)\n",
    "            logs.write(candid.generate_markdown_text() + '\\n\\n')\n",
    "\n",
    "    ## failed\n",
    "    logs.write(\"## Failed papers\\n\\n\")\n",
    "    display(Markdown(\"## Failed papers\"))\n",
    "    failed = sorted(failed, key=lambda x: x[1])\n",
    "    current_reason = \"\"\n",
    "    for paper, reason in failed:\n",
    "        if 'affiliation' in reason:\n",
    "            color = 'green'\n",
    "        else:\n",
    "            color = 'red'\n",
    "        data = Markdown(\n",
    "                paper.generate_markdown_text() + \n",
    "                f'\\n|<p style=\"color:{color:s}\"> **ERROR** </p>| <p style=\"color:{color:s}\">{reason:s}</p> |'\n",
    "               )\n",
    "        if reason != current_reason:\n",
    "            logs.write(f'### {reason:s} \\n\\n')\n",
    "            current_reason = reason\n",
    "        logs.write(data.data + '\\n\\n')\n",
    "        \n",
    "        # only display here the important errors (all in logs)\n",
    "        # if color in ('red',):\n",
    "        display(data)"
   ]
  },
  {
   "cell_type": "markdown",
   "id": "472d20ee",
   "metadata": {
    "papermill": {
     "duration": 0.004095,
     "end_time": "2023-11-16T04:10:48.235625",
     "exception": false,
     "start_time": "2023-11-16T04:10:48.231530",
     "status": "completed"
    },
    "tags": []
   },
   "source": [
    "## Export documents\n",
    "\n",
    "We now write the .md files and export relevant images"
   ]
  },
  {
   "cell_type": "code",
   "execution_count": 6,
   "id": "d426aed9",
   "metadata": {
    "execution": {
     "iopub.execute_input": "2023-11-16T04:10:48.245235Z",
     "iopub.status.busy": "2023-11-16T04:10:48.244763Z",
     "iopub.status.idle": "2023-11-16T04:10:48.251531Z",
     "shell.execute_reply": "2023-11-16T04:10:48.250965Z"
    },
    "papermill": {
     "duration": 0.013304,
     "end_time": "2023-11-16T04:10:48.252965",
     "exception": false,
     "start_time": "2023-11-16T04:10:48.239661",
     "status": "completed"
    },
    "tags": []
   },
   "outputs": [],
   "source": [
    "def export_markdown_summary(md: str, md_fname:str, directory: str):\n",
    "    \"\"\"Export MD document and associated relevant images\"\"\"\n",
    "    import os\n",
    "    import shutil\n",
    "    import re\n",
    "\n",
    "    if (os.path.exists(directory) and not os.path.isdir(directory)):\n",
    "        raise RuntimeError(f\"a non-directory file exists with name {directory:s}\")\n",
    "\n",
    "    if (not os.path.exists(directory)):\n",
    "        print(f\"creating directory {directory:s}\")\n",
    "        os.mkdir(directory)\n",
    "\n",
    "    fig_fnames = (re.compile(r'\\[Fig.*\\]\\((.*)\\)').findall(md) + \n",
    "                  re.compile(r'\\<img src=\"([^>\\s]*)\"[^>]*/>').findall(md))\n",
    "    for fname in fig_fnames:\n",
    "        if 'http' in fname:\n",
    "            # No need to copy online figures\n",
    "            continue\n",
    "        destdir = os.path.join(directory, os.path.dirname(fname))\n",
    "        destfname = os.path.join(destdir, os.path.basename(fname))\n",
    "        try:\n",
    "            os.makedirs(destdir)\n",
    "        except FileExistsError:\n",
    "            pass\n",
    "        shutil.copy(fname, destfname)\n",
    "    with open(os.path.join(directory, md_fname), 'w') as fout:\n",
    "        fout.write(md)\n",
    "    print(\"exported in \", os.path.join(directory, md_fname))\n",
    "    [print(\"    + \" + os.path.join(directory,fk)) for fk in fig_fnames]"
   ]
  },
  {
   "cell_type": "code",
   "execution_count": 7,
   "id": "014d04a4",
   "metadata": {
    "execution": {
     "iopub.execute_input": "2023-11-16T04:10:48.262286Z",
     "iopub.status.busy": "2023-11-16T04:10:48.261906Z",
     "iopub.status.idle": "2023-11-16T04:10:48.273564Z",
     "shell.execute_reply": "2023-11-16T04:10:48.272914Z"
    },
    "papermill": {
     "duration": 0.017807,
     "end_time": "2023-11-16T04:10:48.274898",
     "exception": false,
     "start_time": "2023-11-16T04:10:48.257091",
     "status": "completed"
    },
    "tags": []
   },
   "outputs": [
    {
     "name": "stdout",
     "output_type": "stream",
     "text": [
      "exported in  _build/html/2311.08470.md\n",
      "    + _build/html/tmp_2311.08470/./figures/kde_comparison_dist_0.66_1.10Mpc.png\n",
      "    + _build/html/tmp_2311.08470/./figures/dndz_z01_12_145_with_data.png\n",
      "    + _build/html/tmp_2311.08470/./figures/kde_comparison_dist_2.42_3.08Mpc.png\n",
      "exported in  _build/html/2311.08651.md\n",
      "    + _build/html/tmp_2311.08651/./sgrb2_cores_labeled.png\n",
      "    + _build/html/tmp_2311.08651/./sgrb2_band6_conti_selfcalcompare.png\n",
      "    + _build/html/tmp_2311.08651/./I08448_band6_conti_mergecompare.png\n",
      "    + _build/html/tmp_2311.08651/./SgrB2_colorimages.png\n"
     ]
    }
   ],
   "source": [
    "for paper_id, md in documents:\n",
    "    export_markdown_summary(md, f\"{paper_id:s}.md\", '_build/html/')"
   ]
  },
  {
   "cell_type": "markdown",
   "id": "f087a0a7",
   "metadata": {
    "papermill": {
     "duration": 0.004101,
     "end_time": "2023-11-16T04:10:48.284726",
     "exception": false,
     "start_time": "2023-11-16T04:10:48.280625",
     "status": "completed"
    },
    "tags": []
   },
   "source": [
    "## Display the papers\n",
    "\n",
    "Not necessary but allows for a quick check."
   ]
  },
  {
   "cell_type": "code",
   "execution_count": 8,
   "id": "fd25f625",
   "metadata": {
    "execution": {
     "iopub.execute_input": "2023-11-16T04:10:48.294290Z",
     "iopub.status.busy": "2023-11-16T04:10:48.293792Z",
     "iopub.status.idle": "2023-11-16T04:10:48.300446Z",
     "shell.execute_reply": "2023-11-16T04:10:48.299824Z"
    },
    "papermill": {
     "duration": 0.012974,
     "end_time": "2023-11-16T04:10:48.301809",
     "exception": false,
     "start_time": "2023-11-16T04:10:48.288835",
     "status": "completed"
    },
    "scrolled": false,
    "tags": []
   },
   "outputs": [
    {
     "data": {
      "text/markdown": [
       "<div class=\"macros\" style=\"visibility:hidden;\">\n",
       "$\\newcommand{\\ensuremath}{}$\n",
       "$\\newcommand{\\xspace}{}$\n",
       "$\\newcommand{\\object}[1]{\\texttt{#1}}$\n",
       "$\\newcommand{\\farcs}{{.}''}$\n",
       "$\\newcommand{\\farcm}{{.}'}$\n",
       "$\\newcommand{\\arcsec}{''}$\n",
       "$\\newcommand{\\arcmin}{'}$\n",
       "$\\newcommand{\\ion}[2]{#1#2}$\n",
       "$\\newcommand{\\textsc}[1]{\\textrm{#1}}$\n",
       "$\\newcommand{\\hl}[1]{\\textrm{#1}}$\n",
       "$\\newcommand{\\footnote}[1]{}$\n",
       "$\\newcommand{\\vdag}{(v)^\\dagger}$\n",
       "$\\newcommand$\n",
       "$\\newcommand$\n",
       "$\\newcommand{\\HI}{H {\\sc i}}$\n",
       "$\\newcommand{\\HII}{\\ion{H}{2}}$\n",
       "$\\newcommand{\\HeI}{\\ion{He}{1}}$\n",
       "$\\newcommand{\\HeII}{\\ion{He}{2}}$\n",
       "$\\newcommand{\\HeIII}{\\ion{He}{3}}$\n",
       "$\\newcommand{\\SiIII}{\\ion{Si}{3}}$\n",
       "$\\newcommand{\\gHI}{\\Gamma_{\\ion{H}{1}}}$\n",
       "$\\newcommand{\\nhi}{N_{\\rm H I}}$\n",
       "$\\newcommand{\\lya}{Ly\\alpha}$\n",
       "$\\newcommand{\\mathHI}{{\\mbox{\\scriptsize \\HI}}}$\n",
       "$\\newcommand{\\mathHII}{{\\mbox{\\scriptsize \\HII}}}$\n",
       "$\\newcommand{\\mathHeI}{{\\mbox{\\scriptsize \\HeI}}}$\n",
       "$\\newcommand{\\mathHeII}{{\\mbox{\\scriptsize \\HeII}}}$\n",
       "$\\newcommand{\\mathHeIII}{{\\mbox{\\scriptsize \\HeIII}}}$\n",
       "$\\newcommand{\\mathSiIII}{{\\mbox{\\scriptsize \\SiIII}}}$\n",
       "$\\newcommand{\\Msun}{M\\textsubscript{\\(\\odot\\)}}$</div>\n",
       "\n",
       "\n",
       "\n",
       "<div id=\"title\">\n",
       "\n",
       "# $\\huge$Searching for the Imprints of AGN Feedback on the Lyman AlphaForest Around Luminous Red Galaxies\n",
       "\n",
       "</div>\n",
       "<div id=\"comments\">\n",
       "\n",
       "[![arXiv](https://img.shields.io/badge/arXiv-2311.08470-b31b1b.svg)](https://arxiv.org/abs/2311.08470)<mark>Appeared on: 2023-11-16</mark> -  _21 pages (including 4 page appendix), Submitted to MNRAS_\n",
       "\n",
       "</div>\n",
       "<div id=\"authors\">\n",
       "\n",
       "V. Khaire, et al. -- incl., <mark>F. Davies</mark>\n",
       "\n",
       "</div>\n",
       "<div id=\"abstract\">\n",
       "\n",
       "**Abstract:** We explore the potential of using the low-redshift Lyman- $\\alpha$ (Ly $\\alpha$ ) forest surroundingluminous red galaxies (LRGs) as a tool to constrain active galactic nuclei (AGN)feedback models. Our analysis is based on snapshots from the Illustris and IllustrisTNGsimulations at a redshift of $z=0.1$ . These simulations offer an ideal platform for studying the influence of AGN feedbackon the gas surrounding galaxies, as they share the same initial conditions and underlying codebut incorporatedifferent feedback prescriptions.Both simulations show significant impacts of feedback on the temperature and density ofthe gas around massive halos. Following our previous work, we adjusted the UV background inboth simulations to align with the observed number density of Ly $\\alpha$ lines ( $\\rm dN/dz$ ) inthe intergalactic medium and  study the Ly $\\alpha$ forest around massive halos hostingLRGs, at impact parameters ( $r_{\\perp}$ ) ranging from 0.1 to 100 pMpc.Our findings reveal that $\\rm dN/dz$ , as a function of $r_{\\perp}$ , isapproximately 1.5 to 2 times higher in IllustrisTNG compared to Illustris up to $r_{\\perp}$ of $\\sim 10$ pMpc. To further assess whether existing data can effectivelydiscern these differences, we search for archival data containing spectra of background quasarsprobing foreground LRGs. Through a feasibility analysis based on this data,we demonstrate that ${\\rm dN/dz} (r_{\\perp})$ measurements can distinguish betweenfeedback models of IllustrisTNG and Illustris with a precision exceeding 12 $\\sigma$ .This underscores the potential of ${\\rm dN/dz} (r_{\\perp})$ measurements around LRGsas a valuable benchmark observation for discriminating between different feedback models.\n",
       "\n",
       "</div>\n",
       "\n",
       "<div id=\"div_fig1\">\n",
       "\n",
       "<img src=\"tmp_2311.08470/./figures/kde_comparison_dist_0.66_1.10Mpc.png\" alt=\"Fig6\" width=\"100%\"/>\n",
       "\n",
       "**Figure 6. -** The KDE estimated 2D $b-$\\nhi distribution for the halo sightlines\n",
       "(within $\\pm 500$ km $s^{-1}$) drawn from  the impact parameter bin\n",
       "$0.6 <r{_\\perp}< 1$ pMpc\n",
       "of Illustris (left-hand panel)\n",
       "and the IllustrisTNG (right-hand panel) halos for perfect (top)\n",
       "and forward (bottom) models.\n",
       "The distributions from perfect and forward models look similar expect\n",
       "the normalization shown with colors.\n",
       "In the bottom panel, we show $b-$\\nhi distribution from perfect models\n",
       "with contours. The forward models shift $b-$\\nhi distribution  towards higher\n",
       "$\\nhi$ and lower $b$ values in both simulations.  (*fig.kde_small_impact*)\n",
       "\n",
       "</div>\n",
       "<div id=\"div_fig2\">\n",
       "\n",
       "<img src=\"tmp_2311.08470/./figures/dndz_z01_12_145_with_data.png\" alt=\"Fig1\" width=\"100%\"/>\n",
       "\n",
       "**Figure 1. -** The line density profile\n",
       "${\\rm dN/dz} (r_{\\perp})$ for $10^{12} <N_{\\rm HI} < 10 ^{14.5}  { \\rm cm^{-2} }$ absorbers\n",
       "obtained from\n",
       "forward modeled mock spectra around LRG host\n",
       "halos within $\\pm 500 {\\rm km s^{-1}}$ along line-of-sights.\n",
       "IllustrisTNG (blue) gives a factor of $\\sim 1.5-2$ higher\n",
       "${\\rm dN\\slash dz}$ as compared to Illustris (red)\n",
       "out to $r_\\perp\\lesssim$$5$$ {\\rm pMpc}$($\\sim 10   R_{\\rm vir}$).\n",
       "By construction, both simulations converge to the expected IGM ${\\rm dN/dz}$(dotted lines) at large distances from halos.\n",
       "The black points with error bars show the expected precision using\n",
       "archival data assuming IllustrisTNG is the true model (see\n",
       "section \\ref{sec.data}\n",
       "for more details). With this data, we can distinguish between\n",
       "Illustris and IllustrisTNG\n",
       "feedback models at 12$\\sigma$ statistical significance. (*fig.dndz*)\n",
       "\n",
       "</div>\n",
       "<div id=\"div_fig3\">\n",
       "\n",
       "<img src=\"tmp_2311.08470/./figures/kde_comparison_dist_2.42_3.08Mpc.png\" alt=\"Fig7\" width=\"100%\"/>\n",
       "\n",
       "**Figure 7. -** \n",
       "The KDE estimated 2D $b-$\\nhi distribution for the halo sightlines\n",
       "(within $\\pm 500$ km $s^{-1}$) drawn from  the impact parameter bin\n",
       "$2.2 <r{_\\perp}< 2.8$ pMpc\n",
       "of Illustris (left-hand panel)\n",
       "and the IllustrisTNG (right-hand panel) halos for perfect (top)\n",
       "and forward (bottom) models.\n",
       "The effect of feedback can be seen\n",
       "in the difference in the distributions (in top panels) for perfect sightlines.\n",
       "The hot gas in the Illustris\n",
       "results in many absorption lines with low $\\nhi$ high and $b$ values whereas\n",
       "the  IllustrisTNG\n",
       "shows both the low $\\nhi$-high $b$ and high $\\nhi$-low $b$ absorption lines.\n",
       "These differences in the shape of $b-$\\nhi get washed out in forward-modelled\n",
       "sightlines as shown in the bottom panel where the black contours indicate\n",
       "distribution from the perfect model shown on the top panel. However, the normalization of\n",
       "distribution showing different numbers of lines,\n",
       "indicated by the color bars is still\n",
       "significantly different even in the distribution from forward-modeled sightlines.  (*fig.kde_intermediate_impact*)\n",
       "\n",
       "</div><div id=\"qrcode\"><img src=https://api.qrserver.com/v1/create-qr-code/?size=100x100&data=\"https://arxiv.org/abs/2311.08470\"></div>"
      ],
      "text/plain": [
       "<IPython.core.display.Markdown object>"
      ]
     },
     "metadata": {},
     "output_type": "display_data"
    },
    {
     "data": {
      "text/markdown": [
       "<div class=\"macros\" style=\"visibility:hidden;\">\n",
       "$\\newcommand{\\ensuremath}{}$\n",
       "$\\newcommand{\\xspace}{}$\n",
       "$\\newcommand{\\object}[1]{\\texttt{#1}}$\n",
       "$\\newcommand{\\farcs}{{.}''}$\n",
       "$\\newcommand{\\farcm}{{.}'}$\n",
       "$\\newcommand{\\arcsec}{''}$\n",
       "$\\newcommand{\\arcmin}{'}$\n",
       "$\\newcommand{\\ion}[2]{#1#2}$\n",
       "$\\newcommand{\\textsc}[1]{\\textrm{#1}}$\n",
       "$\\newcommand{\\hl}[1]{\\textrm{#1}}$\n",
       "$\\newcommand{\\footnote}[1]{}$\n",
       "$\\newcommand$</div>\n",
       "\n",
       "\n",
       "\n",
       "<div id=\"title\">\n",
       "\n",
       "# The ALMA-QUARKS survey:-- I. Survey description and data reduction\n",
       "\n",
       "</div>\n",
       "<div id=\"comments\">\n",
       "\n",
       "[![arXiv](https://img.shields.io/badge/arXiv-2311.08651-b31b1b.svg)](https://arxiv.org/abs/2311.08651)<mark>Appeared on: 2023-11-16</mark> -  _9 figures, 4 tables, accepted by RAA_\n",
       "\n",
       "</div>\n",
       "<div id=\"authors\">\n",
       "\n",
       "X. Liu, et al. -- incl., <mark>S. Li</mark>, <mark>J. He</mark>\n",
       "\n",
       "</div>\n",
       "<div id=\"abstract\">\n",
       "\n",
       "**Abstract:** This paper presents an overview of the QUARKS survey,which stands for `Querying Underlying mechanisms of massive star formation with ALMA-Resolved gasKinematics and Structures'. The QUARKS surveyis observing 139 massive  clumps covered by 156 pointings at ALMA Band 6  ( $\\lambda\\sim$ 1.3 mm).In conjunction with data obtained from the ALMA-ATOMS survey at Band 3 ( $\\lambda\\sim$ 3 mm), QUARKS aims to  carry out an unbiased statisticalinvestigation of massive star formation process within  protoclusters down to a scale of 1000 au.This overview paper describes the observations and data reduction of the QUARKS survey,and gives a first look at an exemplar source, the mini-starburst Sgr B2(M).The wide-bandwidth (7.5 GHz) and high-angular-resolution ( $\\sim 0.3\\arcsec$ ) observations of the QUARKS surveyallow to resolve much more compact cores than could be done by the ATOMS survey, and to detectpreviously unrevealed fainter filamentary structures.The spectral windows cover transitions of species including CO, SO, $N_2$ D $^+$ , SiO, H $_{30}\\alpha$ , $H_2$ CO, $CH_3$ CN and many othercomplex organic molecules, tracing gas components with different temperatures and spatial extents.QUARKS aims to deepen our understanding of several scientific topics of massive star formation, such as the mass transport within protoclusters by(hub-)filamentary structures, the existence of massive starless cores, the physical and chemical propertiesof dense cores within protoclusters, and the feedback from already formed high-mass young protostars. $\\keywords{stars: formation --- stars: kinematics and dynamics --- ISM: clouds --- ISM: molecules}$\n",
       "\n",
       "</div>\n",
       "\n",
       "<div id=\"div_fig1\">\n",
       "\n",
       "<img src=\"tmp_2311.08651/./sgrb2_cores_labeled.png\" alt=\"Fig6\" width=\"100%\"/>\n",
       "\n",
       "**Figure 6. -** Zoom in image of the right panel of Figure \\ref{fig_sgrb2_compareselfcal}.\n",
       "The purple ellipses and black numbers marked the cores and substructures of Sgr B2(M) detected in the Band-6 continuum image\n",
       "(Section \\ref{sec_srgb2cores}).\n",
       "The red rectangle marks the north arc of the Sgr B2(M).\n",
       "The orange  ellipse in the lower-left corner represents the synthesized\n",
       "beam size.  (*fig_sgrb2cores*)\n",
       "\n",
       "</div>\n",
       "<div id=\"div_fig2\">\n",
       "\n",
       "<img src=\"tmp_2311.08651/./sgrb2_band6_conti_selfcalcompare.png\" alt=\"Fig4.1\" width=\"50%\"/><img src=\"tmp_2311.08651/./I08448_band6_conti_mergecompare.png\" alt=\"Fig4.2\" width=\"50%\"/>\n",
       "\n",
       "**Figure 4. -** The ALMA Band 6 continuum of Sgr B2(M) (upper) and IRAS 08448-4343 (lower).\n",
       "For Sgr B2(M), the upper right and upper left panels are the images\n",
       "with and without selfcalibration, respectively.\n",
       "For IRAS 08448-4343,  the lower left panel shows the  image stitched from two independently cleaned images,\n",
       "and the lower right panel shows the  the image cleaned from the combined visibility data.\n",
       "The two lower panels share the same colorbar.\n",
       "In each panel, primary beam correction has been applied, and\n",
       "the black small ellipse in the lower-left corner represents the synthesized\n",
       "beam.  (*fig_sgrb2_compareselfcal*)\n",
       "\n",
       "</div>\n",
       "<div id=\"div_fig3\">\n",
       "\n",
       "<img src=\"tmp_2311.08651/./SgrB2_colorimages.png\" alt=\"Fig5\" width=\"100%\"/>\n",
       "\n",
       "**Figure 5. -** (a) Image of the ALMA Band 3  continuum emission of Sgr B2(M) with a resolution of $\\sim 0.5$\\arcsec$$ by [Ginsburg, Bally and Barnes (2018)]().\n",
       "The beam size  is shown as an ellipse at the lower-left corner. The white contour shows the\n",
       "ALMA Band 6 (at 1.3 mm) continuum emission from the QUARKS survey at the level of  5$\\sigma$(2.5 mJy beam$^{-1}$).\n",
       "(b) Image of the ALMA Band 6 continuum emission  from SM17  ([Sánchez-Monge, Schilke and Schmiedeke 2017]()) .\n",
       "The fields of view of SM17 and the QUARKS survey are not identical,\n",
       "but all 27 cores identified by [Sánchez-Monge, Schilke and Schmiedeke (2017)]() marked by the black crosses\n",
       "are shown in this panel.\n",
       "Contour is the same as in panel (a).\n",
       "Note that the color map (_ rainbow_  with a power-law normalization with a power index of 0.4)\n",
       "is similar to that of\n",
       "Figure \\ref{fig_sgrb2_compareselfcal}, where the  ALMA Band 6 continuum  of the QUARKS survey is shown.\n",
       "(c) Three-color image composed by the Spitzer 8 (red), 4.5 (green), 3.4 (blue) $\\mu$m continuum.\n",
       "The white, cyan and black contours show the ALMA Band 6 continuum of the QUARKS survey, at the levels\n",
       "2.5, 15, and 50 mJy beam$^{-1}$, respectively. (d) Three-color image composed of the\n",
       "ALMA Band 6 continuum of the QUARKS survey in red, the ALMA Band 3 continuum  by [Ginsburg, Bally and Barnes (2018)]() in green,\n",
       "and the VLA Band C (at $\\sim$6 GHz) continuum by [Meng, Sánchez-Monge and Schilke (2022)]() in blue.\n",
       "The cyan arrows pinpoint Cores 55 and 96 (see Figure \\ref{fig_sgrb2cores} and Section \\ref{sec_selfcali_check}).\n",
       "The beam size of the QUARKS survey is shown as an ellipse at the lower-left corner.\n",
       " (*fig_colorimages*)\n",
       "\n",
       "</div><div id=\"qrcode\"><img src=https://api.qrserver.com/v1/create-qr-code/?size=100x100&data=\"https://arxiv.org/abs/2311.08651\"></div>"
      ],
      "text/plain": [
       "<IPython.core.display.Markdown object>"
      ]
     },
     "metadata": {},
     "output_type": "display_data"
    }
   ],
   "source": [
    "[display(Markdown(k[1])) for k in documents];"
   ]
  },
  {
   "cell_type": "markdown",
   "id": "873873a4",
   "metadata": {
    "papermill": {
     "duration": 0.004633,
     "end_time": "2023-11-16T04:10:48.311284",
     "exception": false,
     "start_time": "2023-11-16T04:10:48.306651",
     "status": "completed"
    },
    "tags": []
   },
   "source": [
    "# Create HTML index"
   ]
  },
  {
   "cell_type": "code",
   "execution_count": 9,
   "id": "cf665672",
   "metadata": {
    "execution": {
     "iopub.execute_input": "2023-11-16T04:10:48.321763Z",
     "iopub.status.busy": "2023-11-16T04:10:48.321262Z",
     "iopub.status.idle": "2023-11-16T04:10:48.331080Z",
     "shell.execute_reply": "2023-11-16T04:10:48.330524Z"
    },
    "papermill": {
     "duration": 0.016692,
     "end_time": "2023-11-16T04:10:48.332448",
     "exception": false,
     "start_time": "2023-11-16T04:10:48.315756",
     "status": "completed"
    },
    "tags": []
   },
   "outputs": [
    {
     "name": "stdout",
     "output_type": "stream",
     "text": [
      "321  publications files modified in the last 7 days.\n"
     ]
    }
   ],
   "source": [
    "from datetime import datetime, timedelta, timezone\n",
    "from glob import glob\n",
    "import os\n",
    "\n",
    "files = glob('_build/html/*.md')\n",
    "days = 7\n",
    "now = datetime.today()\n",
    "res = []\n",
    "for fk in files:\n",
    "    stat_result = os.stat(fk).st_ctime\n",
    "    modified = datetime.fromtimestamp(stat_result, tz=timezone.utc).replace(tzinfo=None)\n",
    "    delta = now.today() - modified\n",
    "    if delta <= timedelta(days=days):\n",
    "        res.append((delta.seconds, fk))\n",
    "res = [k[1] for k in reversed(sorted(res, key=lambda x:x[1]))]\n",
    "npub = len(res)\n",
    "print(len(res), f\" publications files modified in the last {days:d} days.\")\n",
    "# [ print('\\t', k) for k in res ];"
   ]
  },
  {
   "cell_type": "code",
   "execution_count": 10,
   "id": "015de740",
   "metadata": {
    "execution": {
     "iopub.execute_input": "2023-11-16T04:10:48.343193Z",
     "iopub.status.busy": "2023-11-16T04:10:48.342659Z",
     "iopub.status.idle": "2023-11-16T04:10:48.362484Z",
     "shell.execute_reply": "2023-11-16T04:10:48.361836Z"
    },
    "papermill": {
     "duration": 0.026699,
     "end_time": "2023-11-16T04:10:48.363934",
     "exception": false,
     "start_time": "2023-11-16T04:10:48.337235",
     "status": "completed"
    },
    "tags": []
   },
   "outputs": [
    {
     "name": "stdout",
     "output_type": "stream",
     "text": [
      "2  publications in the last 7 days.\n"
     ]
    }
   ],
   "source": [
    "import datetime\n",
    "from glob import glob\n",
    "\n",
    "def get_last_n_days(lst, days=1):\n",
    "    \"\"\" Get the documents from the last n days \"\"\"\n",
    "    sorted_lst = sorted(lst, key=lambda x: x[1], reverse=True)\n",
    "    for fname, date in sorted_lst:\n",
    "        if date >= str(datetime.date.today() - datetime.timedelta(days=days)):\n",
    "            yield fname\n",
    "\n",
    "def extract_appearance_dates(lst_file):\n",
    "    dates = []\n",
    "\n",
    "    def get_date(line):\n",
    "        return line\\\n",
    "            .split('Appeared on:')[-1]\\\n",
    "            .split('</mark>')[0].strip()\n",
    "\n",
    "    for fname in lst:\n",
    "        with open(fname, 'r') as f:\n",
    "            found_date = False\n",
    "            for line in f:\n",
    "                if not found_date:\n",
    "                    if \"Appeared on\" in line:\n",
    "                        found_date = True\n",
    "                        dates.append((fname, get_date(line)))\n",
    "                else:\n",
    "                    break\n",
    "    return dates\n",
    "\n",
    "from glob import glob\n",
    "lst = glob('_build/html/*md')\n",
    "days = 7\n",
    "dates = extract_appearance_dates(lst)\n",
    "res = list(get_last_n_days(dates, days))\n",
    "npub = len(res)\n",
    "print(len(res), f\" publications in the last {days:d} days.\")"
   ]
  },
  {
   "cell_type": "code",
   "execution_count": 11,
   "id": "52ca0208",
   "metadata": {
    "execution": {
     "iopub.execute_input": "2023-11-16T04:10:48.374854Z",
     "iopub.status.busy": "2023-11-16T04:10:48.374426Z",
     "iopub.status.idle": "2023-11-16T04:10:48.379617Z",
     "shell.execute_reply": "2023-11-16T04:10:48.378986Z"
    },
    "papermill": {
     "duration": 0.012058,
     "end_time": "2023-11-16T04:10:48.380940",
     "exception": false,
     "start_time": "2023-11-16T04:10:48.368882",
     "status": "completed"
    },
    "scrolled": false,
    "tags": []
   },
   "outputs": [],
   "source": [
    "def create_carousel(npub=4):\n",
    "    \"\"\" Generate the HTML code for a carousel with `npub` slides \"\"\"\n",
    "    carousel = [\"\"\"  <div class=\"carousel\" \"\"\",\n",
    "                \"\"\"       data-flickity='{ \"autoPlay\": 10000, \"adaptiveHeight\": true, \"resize\": true, \"wrapAround\": true, \"pauseAutoPlayOnHover\": true, \"groupCells\": 1 }' id=\"asyncTypeset\">\"\"\"\n",
    "                ]\n",
    "    \n",
    "    item_str = \"\"\"    <div class=\"carousel-cell\"> <div id=\"slide{k}\" class=\"md_view\">Content {k}</div> </div>\"\"\"\n",
    "    for k in range(1, npub + 1):\n",
    "        carousel.append(item_str.format(k=k))\n",
    "    carousel.append(\"  </div>\")\n",
    "    return '\\n'.join(carousel)\n",
    "\n",
    "def create_grid(npub=4):\n",
    "    \"\"\" Generate the HTML code for a flat grid with `npub` slides \"\"\"\n",
    "    grid = [\"\"\"  <div class=\"grid\"> \"\"\",\n",
    "                ]\n",
    "    \n",
    "    item_str = \"\"\"    <div class=\"grid-item\"> <div id=\"slide{k}\" class=\"md_view\">Content {k}</div> </div>\"\"\"\n",
    "    for k in range(1, npub + 1):\n",
    "        grid.append(item_str.format(k=k))\n",
    "    grid.append(\"  </div>\")\n",
    "    return '\\n'.join(grid)"
   ]
  },
  {
   "cell_type": "code",
   "execution_count": 12,
   "id": "a6eac5b6",
   "metadata": {
    "execution": {
     "iopub.execute_input": "2023-11-16T04:10:48.391831Z",
     "iopub.status.busy": "2023-11-16T04:10:48.391321Z",
     "iopub.status.idle": "2023-11-16T04:10:48.396878Z",
     "shell.execute_reply": "2023-11-16T04:10:48.396298Z"
    },
    "papermill": {
     "duration": 0.012588,
     "end_time": "2023-11-16T04:10:48.398314",
     "exception": false,
     "start_time": "2023-11-16T04:10:48.385726",
     "status": "completed"
    },
    "scrolled": false,
    "tags": []
   },
   "outputs": [],
   "source": [
    "carousel = create_carousel(npub)\n",
    "docs = ', '.join(['\"{0:s}\"'.format(k.split('/')[-1]) for k in res])\n",
    "slides = ', '.join([f'\"slide{k}\"' for k in range(1, npub + 1)])\n",
    "\n",
    "with open(\"daily_template.html\", \"r\") as tpl:\n",
    "    page = tpl.read()\n",
    "    page = page.replace(\"{%-- carousel:s --%}\", carousel)\\\n",
    "               .replace(\"{%-- suptitle:s --%}\",  \"7-day archives\" )\\\n",
    "               .replace(\"{%-- docs:s --%}\", docs)\\\n",
    "               .replace(\"{%-- slides:s --%}\", slides)\n",
    "    \n",
    "with open(\"_build/html/index_7days.html\", 'w') as fout:\n",
    "    fout.write(page)"
   ]
  },
  {
   "cell_type": "code",
   "execution_count": 13,
   "id": "adc1a1ec",
   "metadata": {
    "execution": {
     "iopub.execute_input": "2023-11-16T04:10:48.409837Z",
     "iopub.status.busy": "2023-11-16T04:10:48.409193Z",
     "iopub.status.idle": "2023-11-16T04:10:48.416516Z",
     "shell.execute_reply": "2023-11-16T04:10:48.415880Z"
    },
    "papermill": {
     "duration": 0.014668,
     "end_time": "2023-11-16T04:10:48.417944",
     "exception": false,
     "start_time": "2023-11-16T04:10:48.403276",
     "status": "completed"
    },
    "tags": []
   },
   "outputs": [
    {
     "name": "stdout",
     "output_type": "stream",
     "text": [
      "2  publications in the last day.\n"
     ]
    }
   ],
   "source": [
    "# redo for today\n",
    "days = 1\n",
    "res = list(get_last_n_days(dates, days))\n",
    "npub = len(res)\n",
    "print(len(res), f\" publications in the last day.\")\n",
    "\n",
    "carousel = create_carousel(npub)\n",
    "docs = ', '.join(['\"{0:s}\"'.format(k.split('/')[-1]) for k in res])\n",
    "slides = ', '.join([f'\"slide{k}\"' for k in range(1, npub + 1)])\n",
    "\n",
    "with open(\"daily_template.html\", \"r\") as tpl:\n",
    "    page = tpl.read()\n",
    "    page = page.replace(\"{%-- carousel:s --%}\", carousel)\\\n",
    "               .replace(\"{%-- suptitle:s --%}\",  \"Daily\" )\\\n",
    "               .replace(\"{%-- docs:s --%}\", docs)\\\n",
    "               .replace(\"{%-- slides:s --%}\", slides)\n",
    "    \n",
    "# print(carousel, docs, slides)\n",
    "# print(page)\n",
    "with open(\"_build/html/index_daily.html\", 'w') as fout:\n",
    "    fout.write(page)"
   ]
  },
  {
   "cell_type": "code",
   "execution_count": 14,
   "id": "00eece82",
   "metadata": {
    "execution": {
     "iopub.execute_input": "2023-11-16T04:10:48.429478Z",
     "iopub.status.busy": "2023-11-16T04:10:48.428904Z",
     "iopub.status.idle": "2023-11-16T04:10:48.435794Z",
     "shell.execute_reply": "2023-11-16T04:10:48.435207Z"
    },
    "papermill": {
     "duration": 0.014156,
     "end_time": "2023-11-16T04:10:48.437202",
     "exception": false,
     "start_time": "2023-11-16T04:10:48.423046",
     "status": "completed"
    },
    "scrolled": false,
    "tags": []
   },
   "outputs": [
    {
     "name": "stdout",
     "output_type": "stream",
     "text": [
      "6  6 publications selected.\n"
     ]
    }
   ],
   "source": [
    "# Create the flat grid of the last N papers (fixed number regardless of dates)\n",
    "from itertools import islice \n",
    "\n",
    "npub = 6\n",
    "res = [k[0] for k in (islice(reversed(sorted(dates, key=lambda x: x[1])), 6))]\n",
    "print(len(res), f\" {npub} publications selected.\")\n",
    "\n",
    "grid = create_grid(npub)\n",
    "docs = ', '.join(['\"{0:s}\"'.format(k.split('/')[-1]) for k in res])\n",
    "slides = ', '.join([f'\"slide{k}\"' for k in range(1, npub + 1)])\n",
    "\n",
    "with open(\"grid_template.html\", \"r\") as tpl:\n",
    "    page = tpl.read()\n",
    "    page = page.replace(\"{%-- grid-content:s --%}\", grid)\\\n",
    "               .replace(\"{%-- suptitle:s --%}\",  f\"Last {npub:,d} papers\" )\\\n",
    "               .replace(\"{%-- docs:s --%}\", docs)\\\n",
    "               .replace(\"{%-- slides:s --%}\", slides)\n",
    "    \n",
    "# print(grid, docs, slides)\n",
    "# print(page)\n",
    "with open(\"_build/html/index_npub_grid.html\", 'w') as fout:\n",
    "    fout.write(page)"
   ]
  }
 ],
 "metadata": {
  "kernelspec": {
   "display_name": "Python 3 (ipykernel)",
   "language": "python",
   "name": "python3"
  },
  "language_info": {
   "codemirror_mode": {
    "name": "ipython",
    "version": 3
   },
   "file_extension": ".py",
   "mimetype": "text/x-python",
   "name": "python",
   "nbconvert_exporter": "python",
   "pygments_lexer": "ipython3",
   "version": "3.9.18"
  },
  "papermill": {
   "default_parameters": {},
   "duration": 93.791748,
   "end_time": "2023-11-16T04:10:48.658752",
   "environment_variables": {},
   "exception": null,
   "input_path": "MPIA daily digest.ipynb",
   "output_path": "log.ipynb",
   "parameters": {},
   "start_time": "2023-11-16T04:09:14.867004",
   "version": "2.5.0"
  },
  "vscode": {
   "interpreter": {
    "hash": "aee8b7b246df8f9039afb4144a1f6fd8d2ca17a180786b69acc140d282b71a49"
   }
  },
  "widgets": {
   "application/vnd.jupyter.widget-state+json": {
    "state": {
     "0f7d9fa6f4e7445eb582e291fc7494b8": {
      "model_module": "@jupyter-widgets/base",
      "model_module_version": "2.0.0",
      "model_name": "LayoutModel",
      "state": {
       "_model_module": "@jupyter-widgets/base",
       "_model_module_version": "2.0.0",
       "_model_name": "LayoutModel",
       "_view_count": null,
       "_view_module": "@jupyter-widgets/base",
       "_view_module_version": "2.0.0",
       "_view_name": "LayoutView",
       "align_content": null,
       "align_items": null,
       "align_self": null,
       "border_bottom": null,
       "border_left": null,
       "border_right": null,
       "border_top": null,
       "bottom": null,
       "display": null,
       "flex": null,
       "flex_flow": null,
       "grid_area": null,
       "grid_auto_columns": null,
       "grid_auto_flow": null,
       "grid_auto_rows": null,
       "grid_column": null,
       "grid_gap": null,
       "grid_row": null,
       "grid_template_areas": null,
       "grid_template_columns": null,
       "grid_template_rows": null,
       "height": null,
       "justify_content": null,
       "justify_items": null,
       "left": null,
       "margin": null,
       "max_height": null,
       "max_width": null,
       "min_height": null,
       "min_width": null,
       "object_fit": null,
       "object_position": null,
       "order": null,
       "overflow": null,
       "padding": null,
       "right": null,
       "top": null,
       "visibility": null,
       "width": null
      }
     },
     "2f7a165eed2944fcbfa7a6347b7ba10c": {
      "model_module": "@jupyter-widgets/base",
      "model_module_version": "2.0.0",
      "model_name": "LayoutModel",
      "state": {
       "_model_module": "@jupyter-widgets/base",
       "_model_module_version": "2.0.0",
       "_model_name": "LayoutModel",
       "_view_count": null,
       "_view_module": "@jupyter-widgets/base",
       "_view_module_version": "2.0.0",
       "_view_name": "LayoutView",
       "align_content": null,
       "align_items": null,
       "align_self": null,
       "border_bottom": null,
       "border_left": null,
       "border_right": null,
       "border_top": null,
       "bottom": null,
       "display": null,
       "flex": null,
       "flex_flow": null,
       "grid_area": null,
       "grid_auto_columns": null,
       "grid_auto_flow": null,
       "grid_auto_rows": null,
       "grid_column": null,
       "grid_gap": null,
       "grid_row": null,
       "grid_template_areas": null,
       "grid_template_columns": null,
       "grid_template_rows": null,
       "height": null,
       "justify_content": null,
       "justify_items": null,
       "left": null,
       "margin": null,
       "max_height": null,
       "max_width": null,
       "min_height": null,
       "min_width": null,
       "object_fit": null,
       "object_position": null,
       "order": null,
       "overflow": null,
       "padding": null,
       "right": null,
       "top": null,
       "visibility": null,
       "width": null
      }
     },
     "7f8f6e4abfc64c418bd7637953c35933": {
      "model_module": "@jupyter-widgets/controls",
      "model_module_version": "2.0.0",
      "model_name": "HTMLStyleModel",
      "state": {
       "_model_module": "@jupyter-widgets/controls",
       "_model_module_version": "2.0.0",
       "_model_name": "HTMLStyleModel",
       "_view_count": null,
       "_view_module": "@jupyter-widgets/base",
       "_view_module_version": "2.0.0",
       "_view_name": "StyleView",
       "background": null,
       "description_width": "",
       "font_size": null,
       "text_color": null
      }
     },
     "9af219e8b1c04f4ead6cfaae933a9bb9": {
      "model_module": "@jupyter-widgets/controls",
      "model_module_version": "2.0.0",
      "model_name": "ProgressStyleModel",
      "state": {
       "_model_module": "@jupyter-widgets/controls",
       "_model_module_version": "2.0.0",
       "_model_name": "ProgressStyleModel",
       "_view_count": null,
       "_view_module": "@jupyter-widgets/base",
       "_view_module_version": "2.0.0",
       "_view_name": "StyleView",
       "bar_color": null,
       "description_width": ""
      }
     },
     "c2c2a363d656496081aceb6a79a98cb8": {
      "model_module": "@jupyter-widgets/controls",
      "model_module_version": "2.0.0",
      "model_name": "HTMLModel",
      "state": {
       "_dom_classes": [],
       "_model_module": "@jupyter-widgets/controls",
       "_model_module_version": "2.0.0",
       "_model_name": "HTMLModel",
       "_view_count": null,
       "_view_module": "@jupyter-widgets/controls",
       "_view_module_version": "2.0.0",
       "_view_name": "HTMLView",
       "description": "",
       "description_allow_html": false,
       "layout": "IPY_MODEL_2f7a165eed2944fcbfa7a6347b7ba10c",
       "placeholder": "​",
       "style": "IPY_MODEL_7f8f6e4abfc64c418bd7637953c35933",
       "tabbable": null,
       "tooltip": null,
       "value": "100%"
      }
     },
     "c554278ca48549ed9afb37651db8dca1": {
      "model_module": "@jupyter-widgets/controls",
      "model_module_version": "2.0.0",
      "model_name": "HTMLModel",
      "state": {
       "_dom_classes": [],
       "_model_module": "@jupyter-widgets/controls",
       "_model_module_version": "2.0.0",
       "_model_name": "HTMLModel",
       "_view_count": null,
       "_view_module": "@jupyter-widgets/controls",
       "_view_module_version": "2.0.0",
       "_view_name": "HTMLView",
       "description": "",
       "description_allow_html": false,
       "layout": "IPY_MODEL_ddf43d173dfe4bd3828d328ab03a2b19",
       "placeholder": "​",
       "style": "IPY_MODEL_fe7e031a59d04380bec436e071a093e6",
       "tabbable": null,
       "tooltip": null,
       "value": " 3/3 [01:08&lt;00:00, 24.70s/it]"
      }
     },
     "cbceb4b07c3b45d0b05188d7cd355091": {
      "model_module": "@jupyter-widgets/controls",
      "model_module_version": "2.0.0",
      "model_name": "HBoxModel",
      "state": {
       "_dom_classes": [],
       "_model_module": "@jupyter-widgets/controls",
       "_model_module_version": "2.0.0",
       "_model_name": "HBoxModel",
       "_view_count": null,
       "_view_module": "@jupyter-widgets/controls",
       "_view_module_version": "2.0.0",
       "_view_name": "HBoxView",
       "box_style": "",
       "children": [
        "IPY_MODEL_c2c2a363d656496081aceb6a79a98cb8",
        "IPY_MODEL_d40d68a1673643b8aa5cdf39b7c162e1",
        "IPY_MODEL_c554278ca48549ed9afb37651db8dca1"
       ],
       "layout": "IPY_MODEL_cfae1df89dea43b695db2f768da36ee2",
       "tabbable": null,
       "tooltip": null
      }
     },
     "cfae1df89dea43b695db2f768da36ee2": {
      "model_module": "@jupyter-widgets/base",
      "model_module_version": "2.0.0",
      "model_name": "LayoutModel",
      "state": {
       "_model_module": "@jupyter-widgets/base",
       "_model_module_version": "2.0.0",
       "_model_name": "LayoutModel",
       "_view_count": null,
       "_view_module": "@jupyter-widgets/base",
       "_view_module_version": "2.0.0",
       "_view_name": "LayoutView",
       "align_content": null,
       "align_items": null,
       "align_self": null,
       "border_bottom": null,
       "border_left": null,
       "border_right": null,
       "border_top": null,
       "bottom": null,
       "display": null,
       "flex": null,
       "flex_flow": null,
       "grid_area": null,
       "grid_auto_columns": null,
       "grid_auto_flow": null,
       "grid_auto_rows": null,
       "grid_column": null,
       "grid_gap": null,
       "grid_row": null,
       "grid_template_areas": null,
       "grid_template_columns": null,
       "grid_template_rows": null,
       "height": null,
       "justify_content": null,
       "justify_items": null,
       "left": null,
       "margin": null,
       "max_height": null,
       "max_width": null,
       "min_height": null,
       "min_width": null,
       "object_fit": null,
       "object_position": null,
       "order": null,
       "overflow": null,
       "padding": null,
       "right": null,
       "top": null,
       "visibility": null,
       "width": null
      }
     },
     "d40d68a1673643b8aa5cdf39b7c162e1": {
      "model_module": "@jupyter-widgets/controls",
      "model_module_version": "2.0.0",
      "model_name": "FloatProgressModel",
      "state": {
       "_dom_classes": [],
       "_model_module": "@jupyter-widgets/controls",
       "_model_module_version": "2.0.0",
       "_model_name": "FloatProgressModel",
       "_view_count": null,
       "_view_module": "@jupyter-widgets/controls",
       "_view_module_version": "2.0.0",
       "_view_name": "ProgressView",
       "bar_style": "success",
       "description": "",
       "description_allow_html": false,
       "layout": "IPY_MODEL_0f7d9fa6f4e7445eb582e291fc7494b8",
       "max": 3.0,
       "min": 0.0,
       "orientation": "horizontal",
       "style": "IPY_MODEL_9af219e8b1c04f4ead6cfaae933a9bb9",
       "tabbable": null,
       "tooltip": null,
       "value": 3.0
      }
     },
     "ddf43d173dfe4bd3828d328ab03a2b19": {
      "model_module": "@jupyter-widgets/base",
      "model_module_version": "2.0.0",
      "model_name": "LayoutModel",
      "state": {
       "_model_module": "@jupyter-widgets/base",
       "_model_module_version": "2.0.0",
       "_model_name": "LayoutModel",
       "_view_count": null,
       "_view_module": "@jupyter-widgets/base",
       "_view_module_version": "2.0.0",
       "_view_name": "LayoutView",
       "align_content": null,
       "align_items": null,
       "align_self": null,
       "border_bottom": null,
       "border_left": null,
       "border_right": null,
       "border_top": null,
       "bottom": null,
       "display": null,
       "flex": null,
       "flex_flow": null,
       "grid_area": null,
       "grid_auto_columns": null,
       "grid_auto_flow": null,
       "grid_auto_rows": null,
       "grid_column": null,
       "grid_gap": null,
       "grid_row": null,
       "grid_template_areas": null,
       "grid_template_columns": null,
       "grid_template_rows": null,
       "height": null,
       "justify_content": null,
       "justify_items": null,
       "left": null,
       "margin": null,
       "max_height": null,
       "max_width": null,
       "min_height": null,
       "min_width": null,
       "object_fit": null,
       "object_position": null,
       "order": null,
       "overflow": null,
       "padding": null,
       "right": null,
       "top": null,
       "visibility": null,
       "width": null
      }
     },
     "fe7e031a59d04380bec436e071a093e6": {
      "model_module": "@jupyter-widgets/controls",
      "model_module_version": "2.0.0",
      "model_name": "HTMLStyleModel",
      "state": {
       "_model_module": "@jupyter-widgets/controls",
       "_model_module_version": "2.0.0",
       "_model_name": "HTMLStyleModel",
       "_view_count": null,
       "_view_module": "@jupyter-widgets/base",
       "_view_module_version": "2.0.0",
       "_view_name": "StyleView",
       "background": null,
       "description_width": "",
       "font_size": null,
       "text_color": null
      }
     }
    },
    "version_major": 2,
    "version_minor": 0
   }
  }
 },
 "nbformat": 4,
 "nbformat_minor": 5
}