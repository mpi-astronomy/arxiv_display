{
 "cells": [
  {
   "cell_type": "markdown",
   "id": "92bcb855",
   "metadata": {
    "papermill": {
     "duration": 0.004971,
     "end_time": "2022-09-28T05:19:04.744026",
     "exception": false,
     "start_time": "2022-09-28T05:19:04.739055",
     "status": "completed"
    },
    "tags": []
   },
   "source": [
    "# MPIA Arxiv on Deck 2\n",
    "\n",
    "Contains the steps to produce the paper extractions."
   ]
  },
  {
   "cell_type": "code",
   "execution_count": 1,
   "id": "3a0d6e11",
   "metadata": {
    "execution": {
     "iopub.execute_input": "2022-09-28T05:19:04.753938Z",
     "iopub.status.busy": "2022-09-28T05:19:04.753225Z",
     "iopub.status.idle": "2022-09-28T05:19:04.921101Z",
     "shell.execute_reply": "2022-09-28T05:19:04.920447Z"
    },
    "papermill": {
     "duration": 0.174878,
     "end_time": "2022-09-28T05:19:04.923107",
     "exception": false,
     "start_time": "2022-09-28T05:19:04.748229",
     "status": "completed"
    },
    "tags": []
   },
   "outputs": [],
   "source": [
    "# Imports\n",
    "import os\n",
    "from IPython.display import Markdown, display\n",
    "from tqdm.notebook import tqdm\n",
    "import warnings\n",
    "from PIL import Image \n",
    "\n",
    "# requires arxiv_on_deck_2\n",
    "\n",
    "from arxiv_on_deck_2.arxiv2 import (get_new_papers, \n",
    "                                    get_paper_from_identifier,\n",
    "                                    retrieve_document_source, \n",
    "                                    get_markdown_badge)\n",
    "from arxiv_on_deck_2 import (latex, \n",
    "                             mpia,\n",
    "                             highlight_authors_in_list)\n",
    "\n",
    "# Sometimes images are really big\n",
    "Image.MAX_IMAGE_PIXELS = 1000000000 "
   ]
  },
  {
   "cell_type": "code",
   "execution_count": 2,
   "id": "22aa9d44",
   "metadata": {
    "execution": {
     "iopub.execute_input": "2022-09-28T05:19:04.933081Z",
     "iopub.status.busy": "2022-09-28T05:19:04.932461Z",
     "iopub.status.idle": "2022-09-28T05:19:04.937396Z",
     "shell.execute_reply": "2022-09-28T05:19:04.936787Z"
    },
    "papermill": {
     "duration": 0.011645,
     "end_time": "2022-09-28T05:19:04.938927",
     "exception": false,
     "start_time": "2022-09-28T05:19:04.927282",
     "status": "completed"
    },
    "tags": []
   },
   "outputs": [],
   "source": [
    "# Some useful definitions.\n",
    "\n",
    "class AffiliationWarning(UserWarning):\n",
    "    pass\n",
    "\n",
    "class AffiliationError(RuntimeError):\n",
    "    pass\n",
    "\n",
    "def validation(source: str):\n",
    "    \"\"\"Raises error paper during parsing of source file\n",
    "    \n",
    "    Allows checks before parsing TeX code.\n",
    "    \n",
    "    Raises AffiliationWarning\n",
    "    \"\"\"\n",
    "    check = mpia.affiliation_verifications(source, verbose=True)\n",
    "    if check is not True:\n",
    "        raise AffiliationError(\"mpia.affiliation_verifications: \" + check)\n",
    "\n",
    "        \n",
    "warnings.simplefilter('always', AffiliationWarning)"
   ]
  },
  {
   "cell_type": "code",
   "execution_count": 3,
   "id": "14622700",
   "metadata": {
    "execution": {
     "iopub.execute_input": "2022-09-28T05:19:04.949396Z",
     "iopub.status.busy": "2022-09-28T05:19:04.949177Z",
     "iopub.status.idle": "2022-09-28T05:19:04.952697Z",
     "shell.execute_reply": "2022-09-28T05:19:04.952044Z"
    },
    "papermill": {
     "duration": 0.011453,
     "end_time": "2022-09-28T05:19:04.954267",
     "exception": false,
     "start_time": "2022-09-28T05:19:04.942814",
     "status": "completed"
    },
    "tags": []
   },
   "outputs": [],
   "source": [
    "# additional CSS to consider. \n",
    "# TODO: Current into each exported file. \n",
    "#       This should be set once into the webpages directly.\n",
    "#       With only the class/id definitions in the .md files.\n",
    "\n",
    "debug_html = \"\"\"\n",
    "<style>\n",
    "#wrap{ overflow:auto; }\n",
    "#fig1{ background:yellow; width:100%; float:left; padding:5px;  }\n",
    "#fig2{ background:red; width:50%; float:left; clear:left; padding:5px;  }\n",
    "#fig3{ background:green; width:50%; float:left; padding:5px;   }\n",
    ".macros{ background:yellow; visibility:visible;}\n",
    "h1 {margin: 0 0 0 0;}\n",
    "mark {background-color:#fff3b6;}\n",
    "img {object-fit:contain; max-height:250px; display:inline-block; text-align: center;}\n",
    "</style>\n",
    "\"\"\" \n",
    "html = \"\"\"\n",
    "<style>\n",
    "#wrap{ overflow:auto; }\n",
    "#fig1{ width:100%; float:left; padding: 5px;  }\n",
    "#fig2{ width:50%; float:left; clear:left; padding: 5px;  }\n",
    "#fig3{ width:50%; float:left; padding: 5px;  }\n",
    ".macros{ visibility:hidden; height:0px; }\n",
    "h1 {margin: 0em 0 0 0;}\n",
    "mark {background-color:#fff3b6;}\n",
    "img {object-fit:contain; max-height:250px; display:inline-block; text-align: center;}\n",
    "</style>\n",
    "\"\"\""
   ]
  },
  {
   "cell_type": "markdown",
   "id": "14bd6310",
   "metadata": {
    "papermill": {
     "duration": 0.00392,
     "end_time": "2022-09-28T05:19:04.962070",
     "exception": false,
     "start_time": "2022-09-28T05:19:04.958150",
     "status": "completed"
    },
    "tags": []
   },
   "source": [
    "## get list of arxiv paper candidates\n",
    "\n",
    "We use the MPIA mitarbeiter list webpage from mpia.de to get author names\n",
    "We then get all new papers from Arxiv and match authors"
   ]
  },
  {
   "cell_type": "code",
   "execution_count": 4,
   "id": "2645e73a",
   "metadata": {
    "execution": {
     "iopub.execute_input": "2022-09-28T05:19:04.971363Z",
     "iopub.status.busy": "2022-09-28T05:19:04.970726Z",
     "iopub.status.idle": "2022-09-28T05:19:28.021440Z",
     "shell.execute_reply": "2022-09-28T05:19:28.020884Z"
    },
    "papermill": {
     "duration": 23.057105,
     "end_time": "2022-09-28T05:19:28.023087",
     "exception": false,
     "start_time": "2022-09-28T05:19:04.965982",
     "status": "completed"
    },
    "tags": []
   },
   "outputs": [
    {
     "name": "stdout",
     "output_type": "stream",
     "text": [
      "Arxiv has 79 new papers today\n",
      "          32 with possible author matches\n"
     ]
    }
   ],
   "source": [
    "# get list from MPIA website\n",
    "# it automatically filters identified non-scientists :func:`mpia.filter_non_scientists`\n",
    "mpia_authors = mpia.get_mpia_mitarbeiter_list()\n",
    "new_papers = get_new_papers()\n",
    "# add manual references\n",
    "add_paper_refs = []\n",
    "new_papers.extend([get_paper_from_identifier(k) for k in add_paper_refs])\n",
    "\n",
    "# select only papers with matching author names and highlight authors\n",
    "hl_list = [k[0] for k in mpia_authors]\n",
    "\n",
    "candidates = []\n",
    "for paperk in new_papers:\n",
    "    hl_authors = highlight_authors_in_list(paperk['authors'], hl_list)\n",
    "    matches = [(hl, orig) for hl, orig in zip(hl_authors, paperk['authors']) if 'mark' in hl]\n",
    "    paperk['authors'] = hl_authors\n",
    "    if matches:\n",
    "        candidates.append(paperk)\n",
    "print(\"\"\"Arxiv has {0:,d} new papers today\"\"\".format(len(new_papers)))        \n",
    "print(\"\"\"          {0:,d} with possible author matches\"\"\".format(len(candidates)))"
   ]
  },
  {
   "cell_type": "markdown",
   "id": "3543b34a",
   "metadata": {
    "papermill": {
     "duration": 0.004123,
     "end_time": "2022-09-28T05:19:28.031619",
     "exception": false,
     "start_time": "2022-09-28T05:19:28.027496",
     "status": "completed"
    },
    "tags": []
   },
   "source": [
    "# Parse sources and generate relevant outputs\n",
    "\n",
    "From the candidates, we do the following steps:\n",
    "* get their tarball from ArXiv (and extract data)\n",
    "* find the main .tex file: find one with \\documentclass{...} (sometimes it's non trivial)\n",
    "* Check affiliations with :func:`validation`, which uses :func:`mpia.affiliation_verifications`\n",
    "* If passing the affiliations: we parse the .tex source\n",
    "   * inject sub-documents into the main (flatten the main document)\n",
    "   * parse structure, extract information (title, abstract, authors, figures...)\n",
    "   * handles `\\graphicspath` if provided\n",
    "* Generate the .md document."
   ]
  },
  {
   "cell_type": "code",
   "execution_count": 5,
   "id": "9576b79e",
   "metadata": {
    "execution": {
     "iopub.execute_input": "2022-09-28T05:19:28.041077Z",
     "iopub.status.busy": "2022-09-28T05:19:28.040656Z",
     "iopub.status.idle": "2022-09-28T05:22:00.409246Z",
     "shell.execute_reply": "2022-09-28T05:22:00.408595Z"
    },
    "papermill": {
     "duration": 152.375116,
     "end_time": "2022-09-28T05:22:00.410686",
     "exception": false,
     "start_time": "2022-09-28T05:19:28.035570",
     "status": "completed"
    },
    "scrolled": false,
    "tags": []
   },
   "outputs": [
    {
     "data": {
      "application/vnd.jupyter.widget-view+json": {
       "model_id": "1a1df00b68cf464c93738258d8020d88",
       "version_major": 2,
       "version_minor": 0
      },
      "text/plain": [
       "  0%|          | 0/31 [00:00<?, ?it/s]"
      ]
     },
     "metadata": {},
     "output_type": "display_data"
    },
    {
     "name": "stdout",
     "output_type": "stream",
     "text": [
      "Retrieving document from  https://arxiv.org/e-print/2209.12904\n"
     ]
    },
    {
     "name": "stdout",
     "output_type": "stream",
     "text": [
      "extracting tarball to tmp_2209.12904..."
     ]
    },
    {
     "name": "stdout",
     "output_type": "stream",
     "text": [
      " done.\n",
      "Retrieving document from  https://arxiv.org/e-print/2209.12906\n"
     ]
    },
    {
     "name": "stdout",
     "output_type": "stream",
     "text": [
      "extracting tarball to tmp_2209.12906..."
     ]
    },
    {
     "name": "stdout",
     "output_type": "stream",
     "text": [
      " done.\n"
     ]
    },
    {
     "name": "stderr",
     "output_type": "stream",
     "text": [
      "/opt/hostedtoolcache/Python/3.9.14/x64/lib/python3.9/site-packages/arxiv_on_deck_2/latex.py:366: LatexWarning: Error parsing the document directly. Trying to recover.\n",
      "  warnings.warn(LatexWarning(f\"Error parsing the document directly. Trying to recover.\"))\n"
     ]
    },
    {
     "name": "stdout",
     "output_type": "stream",
     "text": [
      "✔ → 0:header\n",
      "  ↳ 26331:\\section{Introduction}\n",
      "✔ → 26331:\\section{Introduction}\n",
      "  ↳ 30913:\\section{Simulating the \\Euclid universe} \\label{sim}\n"
     ]
    },
    {
     "name": "stdout",
     "output_type": "stream",
     "text": [
      "✘ → 30913:\\section{Simulating the \\Euclid universe} \\label{sim}\n",
      "  ↳ 55705:\\section{Model-fitting software packages} \\label{codes}\n"
     ]
    },
    {
     "name": "stdout",
     "output_type": "stream",
     "text": [
      "✔ → 55705:\\section{Model-fitting software packages} \\label{codes}\n",
      "  ↳ 69155:\\section{Diagnostic metric} \\label{fom}\n"
     ]
    },
    {
     "name": "stdout",
     "output_type": "stream",
     "text": [
      "✔ → 69155:\\section{Diagnostic metric} \\label{fom}\n",
      "  ↳ 83253:\\section{Results} \\label{results}\n"
     ]
    },
    {
     "name": "stdout",
     "output_type": "stream",
     "text": [
      "✔ → 83253:\\section{Results} \\label{results}\n",
      "  ↳ 116231:\\section{Conclusions} \\label{conclusions}\n"
     ]
    },
    {
     "name": "stdout",
     "output_type": "stream",
     "text": [
      "✔ → 116231:\\section{Conclusions} \\label{conclusions}\n",
      "  ↳ 126190:\\section{Technical information} \\label{AppTec}\n"
     ]
    },
    {
     "name": "stdout",
     "output_type": "stream",
     "text": [
      "✔ → 126190:\\section{Technical information} \\label{AppTec}\n",
      "  ↳ 130730:\\section{Computational times and separate analysis of the performance of each software package} \\label{AppCodes}\n"
     ]
    },
    {
     "name": "stdout",
     "output_type": "stream",
     "text": [
      "✔ → 130730:\\section{Computational times and separate analysis of the performance of each software package} \\label{AppCodes}\n",
      "  ↳ 153894:end\n"
     ]
    },
    {
     "name": "stdout",
     "output_type": "stream",
     "text": [
      "Retrieving document from  https://arxiv.org/e-print/2209.12907\n"
     ]
    },
    {
     "name": "stdout",
     "output_type": "stream",
     "text": [
      "extracting tarball to tmp_2209.12907..."
     ]
    },
    {
     "name": "stdout",
     "output_type": "stream",
     "text": [
      " done.\n",
      "Retrieving document from  https://arxiv.org/e-print/2209.12911\n"
     ]
    },
    {
     "name": "stderr",
     "output_type": "stream",
     "text": [
      "/opt/hostedtoolcache/Python/3.9.14/x64/lib/python3.9/site-packages/IPython/core/interactiveshell.py:3378: LatexWarning: Multiple tex files.\n",
      "\n",
      "  exec(code_obj, self.user_global_ns, self.user_ns)\n",
      "/opt/hostedtoolcache/Python/3.9.14/x64/lib/python3.9/site-packages/IPython/core/interactiveshell.py:3378: LatexWarning: Found documentclass in tmp_2209.12907/body.tex\n",
      "\n",
      "  exec(code_obj, self.user_global_ns, self.user_ns)\n",
      "/opt/hostedtoolcache/Python/3.9.14/x64/lib/python3.9/site-packages/arxiv_on_deck_2/latex.py:292: LatexWarning: Latex injecting: 'double_sersic_table' from 'tmp_2209.12907/double_sersic_table.tex'\n",
      "  warnings.warn(LatexWarning(f\"Latex injecting: '{ext}' from '{subsource}'\"))\n",
      "/opt/hostedtoolcache/Python/3.9.14/x64/lib/python3.9/site-packages/arxiv_on_deck_2/latex.py:292: LatexWarning: Latex injecting: 'single_sersic_table' from 'tmp_2209.12907/single_sersic_table.tex'\n",
      "  warnings.warn(LatexWarning(f\"Latex injecting: '{ext}' from '{subsource}'\"))\n"
     ]
    },
    {
     "name": "stdout",
     "output_type": "stream",
     "text": [
      "extracting tarball to tmp_2209.12911..."
     ]
    },
    {
     "name": "stdout",
     "output_type": "stream",
     "text": [
      " done.\n",
      "Retrieving document from  https://arxiv.org/e-print/2209.12912\n"
     ]
    },
    {
     "name": "stdout",
     "output_type": "stream",
     "text": [
      "extracting tarball to tmp_2209.12912... done.\n",
      "Retrieving document from  https://arxiv.org/e-print/2209.12914\n"
     ]
    },
    {
     "name": "stdout",
     "output_type": "stream",
     "text": [
      "extracting tarball to tmp_2209.12914..."
     ]
    },
    {
     "name": "stdout",
     "output_type": "stream",
     "text": [
      " done.\n",
      "Retrieving document from  https://arxiv.org/e-print/2209.12916\n"
     ]
    },
    {
     "name": "stderr",
     "output_type": "stream",
     "text": [
      "/opt/hostedtoolcache/Python/3.9.14/x64/lib/python3.9/site-packages/IPython/core/interactiveshell.py:3378: LatexWarning: Multiple tex files.\n",
      "\n",
      "  exec(code_obj, self.user_global_ns, self.user_ns)\n",
      "/opt/hostedtoolcache/Python/3.9.14/x64/lib/python3.9/site-packages/IPython/core/interactiveshell.py:3378: LatexWarning: Found documentclass in tmp_2209.12914/main.tex\n",
      "\n",
      "  exec(code_obj, self.user_global_ns, self.user_ns)\n"
     ]
    },
    {
     "name": "stdout",
     "output_type": "stream",
     "text": [
      "extracting tarball to tmp_2209.12916..."
     ]
    },
    {
     "name": "stdout",
     "output_type": "stream",
     "text": [
      " done.\n",
      "Retrieving document from  https://arxiv.org/e-print/2209.12954\n"
     ]
    },
    {
     "name": "stderr",
     "output_type": "stream",
     "text": [
      "/opt/hostedtoolcache/Python/3.9.14/x64/lib/python3.9/site-packages/IPython/core/interactiveshell.py:3378: LatexWarning: Multiple tex files.\n",
      "\n",
      "  exec(code_obj, self.user_global_ns, self.user_ns)\n",
      "/opt/hostedtoolcache/Python/3.9.14/x64/lib/python3.9/site-packages/IPython/core/interactiveshell.py:3378: LatexWarning: Found documentclass in tmp_2209.12916/main.tex\n",
      "\n",
      "  exec(code_obj, self.user_global_ns, self.user_ns)\n"
     ]
    },
    {
     "name": "stdout",
     "output_type": "stream",
     "text": [
      "extracting tarball to tmp_2209.12954... done.\n",
      "Retrieving document from  https://arxiv.org/e-print/2209.12957\n"
     ]
    },
    {
     "name": "stdout",
     "output_type": "stream",
     "text": [
      "extracting tarball to tmp_2209.12957..."
     ]
    },
    {
     "name": "stdout",
     "output_type": "stream",
     "text": [
      " done.\n",
      "Retrieving document from  https://arxiv.org/e-print/2209.12988\n"
     ]
    },
    {
     "name": "stderr",
     "output_type": "stream",
     "text": [
      "/opt/hostedtoolcache/Python/3.9.14/x64/lib/python3.9/site-packages/IPython/core/interactiveshell.py:3378: LatexWarning: Multiple tex files.\n",
      "\n",
      "  exec(code_obj, self.user_global_ns, self.user_ns)\n",
      "/opt/hostedtoolcache/Python/3.9.14/x64/lib/python3.9/site-packages/IPython/core/interactiveshell.py:3378: LatexWarning: Found documentclass in tmp_2209.12957/main.tex\n",
      "\n",
      "  exec(code_obj, self.user_global_ns, self.user_ns)\n"
     ]
    },
    {
     "name": "stderr",
     "output_type": "stream",
     "text": [
      "/tmp/ipykernel_2255/4030337529.py:34: LatexWarning: 2209.12988 did not run properly\n",
      "not a gzip file\n",
      "  warnings.warn(latex.LatexWarning(f\"{paper_id:s} did not run properly\\n\" +\n"
     ]
    },
    {
     "name": "stdout",
     "output_type": "stream",
     "text": [
      "Retrieving document from  https://arxiv.org/e-print/2209.12997\n"
     ]
    },
    {
     "name": "stdout",
     "output_type": "stream",
     "text": [
      "extracting tarball to tmp_2209.12997..."
     ]
    },
    {
     "name": "stdout",
     "output_type": "stream",
     "text": [
      " done.\n",
      "Retrieving document from  https://arxiv.org/e-print/2209.13004\n"
     ]
    },
    {
     "name": "stdout",
     "output_type": "stream",
     "text": [
      "extracting tarball to tmp_2209.13004..."
     ]
    },
    {
     "name": "stdout",
     "output_type": "stream",
     "text": [
      " done.\n",
      "Retrieving document from  https://arxiv.org/e-print/2209.13057\n"
     ]
    },
    {
     "name": "stdout",
     "output_type": "stream",
     "text": [
      "extracting tarball to tmp_2209.13057..."
     ]
    },
    {
     "name": "stdout",
     "output_type": "stream",
     "text": [
      " done.\n",
      "Retrieving document from  https://arxiv.org/e-print/2209.13059\n"
     ]
    },
    {
     "name": "stderr",
     "output_type": "stream",
     "text": [
      "/opt/hostedtoolcache/Python/3.9.14/x64/lib/python3.9/site-packages/IPython/core/interactiveshell.py:3378: LatexWarning: Multiple tex files.\n",
      "\n",
      "  exec(code_obj, self.user_global_ns, self.user_ns)\n",
      "/opt/hostedtoolcache/Python/3.9.14/x64/lib/python3.9/site-packages/IPython/core/interactiveshell.py:3378: LatexWarning: Found documentclass in tmp_2209.13057/natnotes.tex\n",
      "\n",
      "  exec(code_obj, self.user_global_ns, self.user_ns)\n"
     ]
    },
    {
     "name": "stdout",
     "output_type": "stream",
     "text": [
      "extracting tarball to tmp_2209.13059..."
     ]
    },
    {
     "name": "stdout",
     "output_type": "stream",
     "text": [
      " done.\n",
      "Retrieving document from  https://arxiv.org/e-print/2209.13066\n"
     ]
    },
    {
     "name": "stdout",
     "output_type": "stream",
     "text": [
      "extracting tarball to tmp_2209.13066... done.\n",
      "Retrieving document from  https://arxiv.org/e-print/2209.13069\n"
     ]
    },
    {
     "name": "stdout",
     "output_type": "stream",
     "text": [
      "extracting tarball to tmp_2209.13069..."
     ]
    },
    {
     "name": "stdout",
     "output_type": "stream",
     "text": [
      " done.\n",
      "Retrieving document from  https://arxiv.org/e-print/2209.13074\n"
     ]
    },
    {
     "name": "stdout",
     "output_type": "stream",
     "text": [
      "extracting tarball to tmp_2209.13074..."
     ]
    },
    {
     "name": "stdout",
     "output_type": "stream",
     "text": [
      " done.\n"
     ]
    },
    {
     "name": "stderr",
     "output_type": "stream",
     "text": [
      "/opt/hostedtoolcache/Python/3.9.14/x64/lib/python3.9/site-packages/arxiv_on_deck_2/latex.py:118: LatexWarning: attempting recovering figure .pdf\n",
      "  warnings.warn(LatexWarning(f'attempting recovering figure {image}'))\n",
      "/tmp/ipykernel_2255/4030337529.py:34: LatexWarning: 2209.13074 did not run properly\n",
      "Could not find figure .pdf\n",
      "  warnings.warn(latex.LatexWarning(f\"{paper_id:s} did not run properly\\n\" +\n"
     ]
    },
    {
     "name": "stdout",
     "output_type": "stream",
     "text": [
      "Retrieving document from  https://arxiv.org/e-print/2209.13088\n"
     ]
    },
    {
     "name": "stdout",
     "output_type": "stream",
     "text": [
      "extracting tarball to tmp_2209.13088..."
     ]
    },
    {
     "name": "stdout",
     "output_type": "stream",
     "text": [
      " done.\n",
      "Retrieving document from  https://arxiv.org/e-print/2209.13125\n"
     ]
    },
    {
     "name": "stderr",
     "output_type": "stream",
     "text": [
      "/opt/hostedtoolcache/Python/3.9.14/x64/lib/python3.9/site-packages/IPython/core/interactiveshell.py:3378: LatexWarning: Multiple tex files.\n",
      "\n",
      "  exec(code_obj, self.user_global_ns, self.user_ns)\n",
      "/opt/hostedtoolcache/Python/3.9.14/x64/lib/python3.9/site-packages/IPython/core/interactiveshell.py:3378: LatexWarning: Found documentclass in tmp_2209.13088/TOBBL.tex\n",
      "\n",
      "  exec(code_obj, self.user_global_ns, self.user_ns)\n"
     ]
    },
    {
     "name": "stdout",
     "output_type": "stream",
     "text": [
      "extracting tarball to tmp_2209.13125..."
     ]
    },
    {
     "name": "stdout",
     "output_type": "stream",
     "text": [
      " done.\n",
      "Retrieving document from  https://arxiv.org/e-print/2209.13163\n"
     ]
    },
    {
     "name": "stderr",
     "output_type": "stream",
     "text": [
      "/opt/hostedtoolcache/Python/3.9.14/x64/lib/python3.9/site-packages/IPython/core/interactiveshell.py:3378: LatexWarning: Multiple tex files.\n",
      "\n",
      "  exec(code_obj, self.user_global_ns, self.user_ns)\n",
      "/opt/hostedtoolcache/Python/3.9.14/x64/lib/python3.9/site-packages/IPython/core/interactiveshell.py:3378: LatexWarning: Found documentclass in tmp_2209.13125/N7469nuc.tex\n",
      "\n",
      "  exec(code_obj, self.user_global_ns, self.user_ns)\n"
     ]
    },
    {
     "name": "stderr",
     "output_type": "stream",
     "text": [
      "/tmp/ipykernel_2255/4030337529.py:34: LatexWarning: 2209.13163 did not run properly\n",
      "not a gzip file\n",
      "  warnings.warn(latex.LatexWarning(f\"{paper_id:s} did not run properly\\n\" +\n"
     ]
    },
    {
     "name": "stdout",
     "output_type": "stream",
     "text": [
      "Retrieving document from  https://arxiv.org/e-print/2209.13221\n"
     ]
    },
    {
     "name": "stdout",
     "output_type": "stream",
     "text": [
      "extracting tarball to tmp_2209.13221... done.\n",
      "Retrieving document from  https://arxiv.org/e-print/2209.13285\n"
     ]
    },
    {
     "name": "stdout",
     "output_type": "stream",
     "text": [
      "extracting tarball to tmp_2209.13285... done.\n",
      "Retrieving document from  https://arxiv.org/e-print/2209.13302\n"
     ]
    },
    {
     "name": "stdout",
     "output_type": "stream",
     "text": [
      "extracting tarball to tmp_2209.13302..."
     ]
    },
    {
     "name": "stdout",
     "output_type": "stream",
     "text": [
      " done.\n",
      "Retrieving document from  https://arxiv.org/e-print/2209.13321\n"
     ]
    },
    {
     "name": "stderr",
     "output_type": "stream",
     "text": [
      "/opt/hostedtoolcache/Python/3.9.14/x64/lib/python3.9/site-packages/IPython/core/interactiveshell.py:3378: LatexWarning: Multiple tex files.\n",
      "\n",
      "  exec(code_obj, self.user_global_ns, self.user_ns)\n",
      "/opt/hostedtoolcache/Python/3.9.14/x64/lib/python3.9/site-packages/IPython/core/interactiveshell.py:3378: LatexWarning: Found documentclass in tmp_2209.13302/rosette.tex\n",
      "\n",
      "  exec(code_obj, self.user_global_ns, self.user_ns)\n",
      "/opt/hostedtoolcache/Python/3.9.14/x64/lib/python3.9/site-packages/arxiv_on_deck_2/latex.py:292: LatexWarning: Latex injecting: 'table_spt_av' from 'tmp_2209.13302/table_spt_av.tex'\n",
      "  warnings.warn(LatexWarning(f\"Latex injecting: '{ext}' from '{subsource}'\"))\n",
      "/opt/hostedtoolcache/Python/3.9.14/x64/lib/python3.9/site-packages/arxiv_on_deck_2/latex.py:292: LatexWarning: Latex injecting: 'table_observations' from 'tmp_2209.13302/table_observations.tex'\n",
      "  warnings.warn(LatexWarning(f\"Latex injecting: '{ext}' from '{subsource}'\"))\n"
     ]
    },
    {
     "name": "stdout",
     "output_type": "stream",
     "text": [
      "extracting tarball to tmp_2209.13321..."
     ]
    },
    {
     "name": "stdout",
     "output_type": "stream",
     "text": [
      " done.\n",
      "Retrieving document from  https://arxiv.org/e-print/2209.13324\n"
     ]
    },
    {
     "name": "stdout",
     "output_type": "stream",
     "text": [
      "extracting tarball to tmp_2209.13324..."
     ]
    },
    {
     "name": "stdout",
     "output_type": "stream",
     "text": [
      " done.\n",
      "Retrieving document from  https://arxiv.org/e-print/2209.13333\n"
     ]
    },
    {
     "name": "stderr",
     "output_type": "stream",
     "text": [
      "/opt/hostedtoolcache/Python/3.9.14/x64/lib/python3.9/site-packages/IPython/core/interactiveshell.py:3378: LatexWarning: Multiple tex files.\n",
      "\n",
      "  exec(code_obj, self.user_global_ns, self.user_ns)\n",
      "/opt/hostedtoolcache/Python/3.9.14/x64/lib/python3.9/site-packages/IPython/core/interactiveshell.py:3378: LatexWarning: Found documentclass in tmp_2209.13324/main.tex\n",
      "\n",
      "  exec(code_obj, self.user_global_ns, self.user_ns)\n"
     ]
    },
    {
     "name": "stdout",
     "output_type": "stream",
     "text": [
      "extracting tarball to tmp_2209.13333..."
     ]
    },
    {
     "name": "stdout",
     "output_type": "stream",
     "text": [
      " done.\n",
      "Retrieving document from  https://arxiv.org/e-print/2209.13336\n"
     ]
    },
    {
     "name": "stdout",
     "output_type": "stream",
     "text": [
      "extracting tarball to tmp_2209.13336..."
     ]
    },
    {
     "name": "stdout",
     "output_type": "stream",
     "text": [
      " done.\n"
     ]
    },
    {
     "name": "stdout",
     "output_type": "stream",
     "text": [
      "Retrieving document from  https://arxiv.org/e-print/2209.13349\n"
     ]
    },
    {
     "name": "stdout",
     "output_type": "stream",
     "text": [
      "extracting tarball to tmp_2209.13349..."
     ]
    },
    {
     "name": "stdout",
     "output_type": "stream",
     "text": [
      " done.\n",
      "Retrieving document from  https://arxiv.org/e-print/2209.13406\n"
     ]
    },
    {
     "name": "stdout",
     "output_type": "stream",
     "text": [
      "extracting tarball to tmp_2209.13406... done.\n",
      "Retrieving document from  https://arxiv.org/e-print/2209.13412\n"
     ]
    },
    {
     "name": "stdout",
     "output_type": "stream",
     "text": [
      "extracting tarball to tmp_2209.13412..."
     ]
    },
    {
     "name": "stdout",
     "output_type": "stream",
     "text": [
      " done.\n",
      "Retrieving document from  https://arxiv.org/e-print/2209.13449\n"
     ]
    },
    {
     "name": "stdout",
     "output_type": "stream",
     "text": [
      "extracting tarball to tmp_2209.13449..."
     ]
    },
    {
     "name": "stdout",
     "output_type": "stream",
     "text": [
      " done.\n"
     ]
    },
    {
     "name": "stderr",
     "output_type": "stream",
     "text": [
      "/opt/hostedtoolcache/Python/3.9.14/x64/lib/python3.9/site-packages/IPython/core/interactiveshell.py:3378: LatexWarning: Multiple tex files.\n",
      "\n",
      "  exec(code_obj, self.user_global_ns, self.user_ns)\n",
      "/opt/hostedtoolcache/Python/3.9.14/x64/lib/python3.9/site-packages/IPython/core/interactiveshell.py:3378: LatexWarning: Found documentclass in tmp_2209.13449/paper.tex\n",
      "\n",
      "  exec(code_obj, self.user_global_ns, self.user_ns)\n",
      "/opt/hostedtoolcache/Python/3.9.14/x64/lib/python3.9/site-packages/arxiv_on_deck_2/latex.py:292: LatexWarning: Latex injecting: 'imbalance.tex' from 'tmp_2209.13449/imbalance.tex'\n",
      "  warnings.warn(LatexWarning(f\"Latex injecting: '{ext}' from '{subsource}'\"))\n",
      "/opt/hostedtoolcache/Python/3.9.14/x64/lib/python3.9/site-packages/arxiv_on_deck_2/latex.py:292: LatexWarning: Latex injecting: 'abundance.tex' from 'tmp_2209.13449/abundance.tex'\n",
      "  warnings.warn(LatexWarning(f\"Latex injecting: '{ext}' from '{subsource}'\"))\n",
      "/opt/hostedtoolcache/Python/3.9.14/x64/lib/python3.9/site-packages/arxiv_on_deck_2/latex.py:292: LatexWarning: Latex injecting: 'errors.tex' from 'tmp_2209.13449/errors.tex'\n",
      "  warnings.warn(LatexWarning(f\"Latex injecting: '{ext}' from '{subsource}'\"))\n",
      "/opt/hostedtoolcache/Python/3.9.14/x64/lib/python3.9/site-packages/arxiv_on_deck_2/latex.py:292: LatexWarning: Latex injecting: 'stars.tex' from 'tmp_2209.13449/stars.tex'\n",
      "  warnings.warn(LatexWarning(f\"Latex injecting: '{ext}' from '{subsource}'\"))\n",
      "/opt/hostedtoolcache/Python/3.9.14/x64/lib/python3.9/site-packages/arxiv_on_deck_2/latex.py:292: LatexWarning: Latex injecting: 'collisions.tex' from 'tmp_2209.13449/collisions.tex'\n",
      "  warnings.warn(LatexWarning(f\"Latex injecting: '{ext}' from '{subsource}'\"))\n"
     ]
    }
   ],
   "source": [
    "documents = []\n",
    "failed = []\n",
    "for paper in tqdm(candidates[:-1]):\n",
    "    paper_id = paper['identifier'].lower().replace('arxiv:', '')\n",
    "    \n",
    "    folder = f'tmp_{paper_id}'\n",
    "\n",
    "    try:\n",
    "        if not os.path.isdir(folder):\n",
    "            folder = retrieve_document_source(f\"{paper_id}\", f'tmp_{paper_id}')\n",
    "        \n",
    "        try:\n",
    "            doc = latex.LatexDocument(folder, validation=validation)    \n",
    "        except AffiliationError as affilerror:\n",
    "            msg = f\"ArXiv:{paper_id:s} is not an MPIA paper... \" + str(affilerror)\n",
    "            failed.append((paper, \"affiliation error: \" + str(affilerror) ))\n",
    "            continue\n",
    "        \n",
    "        # Hack because sometimes author parsing does not work well\n",
    "        if (len(doc.authors) != len(paper['authors'])):\n",
    "            doc._authors = paper['authors']\n",
    "        if (doc.abstract) in (None, ''):\n",
    "            doc._abstract = paper['abstract']\n",
    "            \n",
    "        doc.comment = (get_markdown_badge(paper_id) + \n",
    "                       \"<mark>Appeared on: \" + paper['date'] + \"</mark> - \" +\n",
    "                       \"_\" + paper['comments'] + \"_\")\n",
    "        doc.highlight_authors_in_list(hl_list)\n",
    "\n",
    "        full_md = doc.generate_markdown_text()\n",
    "        \n",
    "        documents.append((paper_id, full_md))\n",
    "    except Exception as e:\n",
    "        warnings.warn(latex.LatexWarning(f\"{paper_id:s} did not run properly\\n\" +\n",
    "                                         str(e)\n",
    "                                        ))\n",
    "        failed.append((paper, \"latex error \" + str(e)))"
   ]
  },
  {
   "cell_type": "markdown",
   "id": "2505a25c",
   "metadata": {
    "papermill": {
     "duration": 0.008674,
     "end_time": "2022-09-28T05:22:00.427852",
     "exception": false,
     "start_time": "2022-09-28T05:22:00.419178",
     "status": "completed"
    },
    "tags": []
   },
   "source": [
    "### Export the logs\n",
    "\n",
    "Throughout, we also keep track of the logs per paper. see `logs-{today date}.md` "
   ]
  },
  {
   "cell_type": "code",
   "execution_count": 6,
   "id": "d733828a",
   "metadata": {
    "execution": {
     "iopub.execute_input": "2022-09-28T05:22:00.446212Z",
     "iopub.status.busy": "2022-09-28T05:22:00.445441Z",
     "iopub.status.idle": "2022-09-28T05:22:00.494278Z",
     "shell.execute_reply": "2022-09-28T05:22:00.493677Z"
    },
    "papermill": {
     "duration": 0.062696,
     "end_time": "2022-09-28T05:22:00.498518",
     "exception": false,
     "start_time": "2022-09-28T05:22:00.435822",
     "status": "completed"
    },
    "scrolled": false,
    "tags": []
   },
   "outputs": [
    {
     "data": {
      "text/markdown": [
       "## Successful papers"
      ],
      "text/plain": [
       "<IPython.core.display.Markdown object>"
      ]
     },
     "metadata": {},
     "output_type": "display_data"
    },
    {
     "data": {
      "text/markdown": [
       "\n",
       "|||\n",
       "|---:|:---|\n",
       "| [![arXiv](https://img.shields.io/badge/arXiv-arXiv:2209.12906-b31b1b.svg)](https://arxiv.org/abs/arXiv:2209.12906) | **Euclid preparation. XXV. The Euclid Morphology Challenge -- Towards  model-fitting photometry for billions of galaxies**  |\n",
       "|| Euclid Collaboration, et al. -- incl., <mark>D. Hernández-Lang</mark> |\n",
       "|*Appeared on*| *2022-09-28*|\n",
       "|*Comments*| *29 pages, 33 figures. Euclid pre-launch key paper. Companion paper: Bretonniere et al. 2022*|\n",
       "|**Abstract**| The ESA Euclid mission will provide high-quality imaging for about 1.5 billion galaxies. A software pipeline to automatically process and analyse such a huge amount of data in real time is being developed by the Science Ground Segment of the Euclid Consortium; this pipeline will include a model-fitting algorithm, which will provide photometric and morphological estimates of paramount importance for the core science goals of the mission and for legacy science. The Euclid Morphology Challenge is a comparative investigation of the performance of five model-fitting software packages on simulated Euclid data, aimed at providing the baseline to identify the best suited algorithm to be implemented in the pipeline. In this paper we describe the simulated data set, and we discuss the photometry results. A companion paper (Euclid Collaboration: Bretonni\\`ere et al. 2022) is focused on the structural and morphological estimates. We created mock Euclid images simulating five fields of view of 0.48 deg2 each in the $I_E$ band of the VIS instrument, each with three realisations of galaxy profiles (single and double S\\'ersic, and 'realistic' profiles obtained with a neural network); for one of the fields in the double S\\'ersic realisation, we also simulated images for the three near-infrared $Y_E$, $J_E$ and $H_E$ bands of the NISP-P instrument, and five Rubin/LSST optical complementary bands ($u$, $g$, $r$, $i$, and $z$). To analyse the results we created diagnostic plots and defined ad-hoc metrics. Five model-fitting software packages (DeepLeGATo, Galapagos-2, Morfometryka, ProFit, and SourceXtractor++) were compared, all typically providing good results. (cut) |"
      ],
      "text/plain": [
       "[arXiv:2209.12906] Euclid preparation. XXV. The Euclid Morphology Challenge -- Towards  model-fitting photometry for billions of galaxies\n",
       "\tEuclid Collaboration, et al. -- incl., <mark>D. Hernández-Lang</mark>"
      ]
     },
     "metadata": {},
     "output_type": "display_data"
    },
    {
     "data": {
      "text/markdown": [
       "\n",
       "|||\n",
       "|---:|:---|\n",
       "| [![arXiv](https://img.shields.io/badge/arXiv-arXiv:2209.13336-b31b1b.svg)](https://arxiv.org/abs/arXiv:2209.13336) | **Machine learning-accelerated chemistry modeling of protoplanetary disks**  |\n",
       "|| <mark>Grigorii V. Smirnov-Pinchukov</mark>, et al. -- incl., <mark>Dmitry A. Semenov</mark>, <mark>Sierk van Terwisga</mark>, <mark>Thomas Henning</mark> |\n",
       "|*Appeared on*| *2022-09-28*|\n",
       "|*Comments*| *11 pages, 5 figures*|\n",
       "|**Abstract**| Aims. With the large amount of molecular emission data from (sub)millimeter observatories and incoming James Webb Space Telescope infrared spectroscopy, access to fast forward models of the chemical composition of protoplanetary disks is of paramount importance. Methods. We used a thermo-chemical modeling code to generate a diverse population of protoplanetary disk models. We trained a K-nearest neighbors (KNN) regressor to instantly predict the chemistry of other disk models. Results. We show that it is possible to accurately reproduce chemistry using just a small subset of physical conditions, thanks to correlations between the local physical conditions in adopted protoplanetary disk models. We discuss the uncertainties and limitations of this method. Conclusions. The proposed method can be used for Bayesian fitting of the line emission data to retrieve disk properties from observations. We present a pipeline for reproducing the same approach on other disk chemical model sets. |"
      ],
      "text/plain": [
       "[arXiv:2209.13336] Machine learning-accelerated chemistry modeling of protoplanetary disks\n",
       "\t<mark>Grigorii V. Smirnov-Pinchukov</mark>, et al. -- incl., <mark>Dmitry A. Semenov</mark>, <mark>Sierk van Terwisga</mark>, <mark>Thomas Henning</mark>"
      ]
     },
     "metadata": {},
     "output_type": "display_data"
    },
    {
     "data": {
      "text/markdown": [
       "## Failed papers"
      ],
      "text/plain": [
       "<IPython.core.display.Markdown object>"
      ]
     },
     "metadata": {},
     "output_type": "display_data"
    },
    {
     "data": {
      "text/markdown": [
       "\n",
       "|||\n",
       "|---:|:---|\n",
       "| [![arXiv](https://img.shields.io/badge/arXiv-arXiv:2209.13302-b31b1b.svg)](https://arxiv.org/abs/arXiv:2209.13302) | **Stellar population of the Rosette Nebula and NGC 2244: application of  the probabilistic random forest**  |\n",
       "|| Koraljka Muzic, et al. -- incl., <mark>Herve Bouy</mark> |\n",
       "|*Appeared on*| *2022-09-28*|\n",
       "|*Comments*| *30 pages, 28 figures. Accepted for publication in Astronomy & Astrophysics*|\n",
       "|**Abstract**| (Abridged) In this work, we study the 2.8x2.6 deg2 region in the emblematic Rosette Nebula, centred at the young cluster NGC 2244, with the aim of constructing the most reliable candidate member list to date, determining various structural and kinematic parameters, and learning about the past and the future of the region. Starting from a catalogue containing optical to mid-infrared photometry, as well as positions and proper motions from Gaia EDR3, we apply the Probabilistic Random Forest algorithm and derive membership probability for each source. Based on the list of almost 3000 probable members, of which about a third are concentrated within the radius of 20' from the centre of NGC 2244, we identify various clustered sources and stellar concentrations, and estimate the average distance of 1489+-37 pc (entire region), 1440+-32 pc (NGC 2244) and 1525+-36 pc (NGC 2237). The masses, extinction, and ages are derived by SED fitting, and the internal dynamic is assessed via proper motions relative to the mean proper motion of NGC 2244. NGC 2244 is showing a clear expansion pattern, with an expansion velocity that increases with radius. Its IMF is well represented by two power laws (dN/dM\\propto M^{-\\alpha}), with slopes \\alpha = 1.05+-0.02 for the mass range 0.2 - 1.5 MSun, and \\alpha = 2.3+-0.3 for the mass range 1.5 - 20 MSun, in agreement with other star forming regions. The mean age of the region is ~2 Myr. We find evidence for the difference in ages between NGC 2244 and the region associated with the molecular cloud, which appears slightly younger. The velocity dispersion of NGC 2244 is well above the virial velocity dispersion derived from the total mass (1000+-70 MSun) and half-mass radius (3.4+-0.2 pc). From the comparison to other clusters and to numerical simulations, we conclude that NGC 2244 may be unbound, and possibly even formed in a super-virial state. |\n",
       "|<p style=\"color:green\"> **ERROR** </p>| <p style=\"color:green\">affiliation error: mpia.affiliation_verifications: '69117' keyword not found.</p> |"
      ],
      "text/plain": [
       "<IPython.core.display.Markdown object>"
      ]
     },
     "metadata": {},
     "output_type": "display_data"
    },
    {
     "data": {
      "text/markdown": [
       "\n",
       "|||\n",
       "|---:|:---|\n",
       "| [![arXiv](https://img.shields.io/badge/arXiv-arXiv:2209.12904-b31b1b.svg)](https://arxiv.org/abs/arXiv:2209.12904) | **Candidate cosmic filament in the GJ526 field, mapped with the NIKA2  camera**  |\n",
       "|| J.-F. Lestrade, et al. -- incl., <mark>C. Kramer</mark> |\n",
       "|*Appeared on*| *2022-09-28*|\n",
       "|*Comments*| *Article accepted in Astronomy and Astrophysics ; 9 pages, 6 figures*|\n",
       "|**Abstract**| Distinctive large-scale structures have been identified in the spatial distribution of optical galaxies up to redshift z ~ 1. In the more distant universe, the relationship between the dust-obscured population of star-forming galaxies observed at millimetre wavelengths and the network of cosmic filaments of dark matter apparent in all cosmological hydrodynamical simulations is still under study. Using the NIKA2 dual-band millimetre camera, we mapped a field of ~ 90 arcminutes^2 in the direction of the star GJ526 simultaneously in its 1.15-mm and 2.0-mm continuum wavebands to investigate the nature of the quasi-alignment of five sources found ten years earlier with the MAMBO camera at 1.2 mm. We find that these sources are not clumps of a circumstellar debris disc around this star as initially hypothesized. Rather, they must be dust-obscured star-forming galaxies, or sub-millimetre galaxies (SMGs), in the distant background. The new NIKA2 map at 1.15 mm reveals a total of seven SMGs distributed in projection on the sky along a filament-like structure crossing the whole observed field. Furthermore, we show that the NIKA2 and supplemental Herschel photometric data are compatible with a model of the spectral energy distributions (SEDs) of these sources when a common redshift of 2.5 and typical values of the dust parameters for SMGs are adopted. Hence, we speculate that these SMGs might be located in a filament of the distant `cosmic web'. The length of this candidate cosmic filament crossing the whole map is at least 4 cMpc (comoving), and the separations between sources are between 0.25 cMpc and 1.25 cMpc at this redshift, in line with expectations from cosmological simulations. Nonetheless, further observations to determine the precise spectroscopic redshifts of these sources are required to definitively support this hypothesis of SMGs embedded in a cosmic filament of dark matter. |\n",
       "|<p style=\"color:green\"> **ERROR** </p>| <p style=\"color:green\">affiliation error: mpia.affiliation_verifications: 'Heidelberg' keyword not found.</p> |"
      ],
      "text/plain": [
       "<IPython.core.display.Markdown object>"
      ]
     },
     "metadata": {},
     "output_type": "display_data"
    },
    {
     "data": {
      "text/markdown": [
       "\n",
       "|||\n",
       "|---:|:---|\n",
       "| [![arXiv](https://img.shields.io/badge/arXiv-arXiv:2209.12907-b31b1b.svg)](https://arxiv.org/abs/arXiv:2209.12907) | **Euclid preparation XXVI: The Euclid Morphology Challenge. Towards  structural parameters for billions of galaxies**  |\n",
       "|| Euclid Collaboration, et al. -- incl., <mark>D.Hernández-Lang</mark> |\n",
       "|*Appeared on*| *2022-09-28*|\n",
       "|*Comments*| *30 pages, 23+6 figures, Euclid pre-launch key paper. Companion paper: Euclid Collaboration: Merlin et al. 2022*|\n",
       "|**Abstract**| The various Euclid imaging surveys will become a reference for studies of galaxy morphology by delivering imaging over an unprecedented area of 15 000 square degrees with high spatial resolution. In order to understand the capabilities of measuring morphologies from Euclid-detected galaxies and to help implement measurements in the pipeline, we have conducted the Euclid Morphology Challenge, which we present in two papers. While the companion paper by Merlin et al. focuses on the analysis of photometry, this paper assesses the accuracy of the parametric galaxy morphology measurements in imaging predicted from within the Euclid Wide Survey. We evaluate the performance of five state-of-the-art surface-brightness-fitting codes DeepLeGATo, Galapagos-2, Morfometryka, Profit and SourceXtractor++ on a sample of about 1.5 million simulated galaxies resembling reduced observations with the Euclid VIS and NIR instruments. The simulations include analytic S\\'ersic profiles with one and two components, as well as more realistic galaxies generated with neural networks. We find that, despite some code-specific differences, all methods tend to achieve reliable structural measurements (10% scatter on ideal S\\'ersic simulations) down to an apparent magnitude of about 23 in one component and 21 in two components, which correspond to a signal-to-noise ratio of approximately 1 and 5 respectively. We also show that when tested on non-analytic profiles, the results are typically degraded by a factor of 3, driven by systematics. We conclude that the Euclid official Data Releases will deliver robust structural parameters for at least 400 million galaxies in the Euclid Wide Survey by the end of the mission. We find that a key factor for explaining the different behaviour of the codes at the faint end is the set of adopted priors for the various structural parameters. |\n",
       "|<p style=\"color:green\"> **ERROR** </p>| <p style=\"color:green\">affiliation error: mpia.affiliation_verifications: 'Heidelberg' keyword not found.</p> |"
      ],
      "text/plain": [
       "<IPython.core.display.Markdown object>"
      ]
     },
     "metadata": {},
     "output_type": "display_data"
    },
    {
     "data": {
      "text/markdown": [
       "\n",
       "|||\n",
       "|---:|:---|\n",
       "| [![arXiv](https://img.shields.io/badge/arXiv-arXiv:2209.12911-b31b1b.svg)](https://arxiv.org/abs/arXiv:2209.12911) | **Reconstruction of Power Spectrum of Primordial Curvature Perturbations  on small scales from Primordial Black Hole Binaries scenario of LIGO/VIRGO  detection**  |\n",
       "|| Xinpeng Wang, <mark>Ying-li Zhang</mark>, Rampei Kimura, Masahide Yamaguchi |\n",
       "|*Appeared on*| *2022-09-28*|\n",
       "|*Comments*| *7 pages,5 figures*|\n",
       "|**Abstract**| As a candidate bound for the Binary Black Hole (BBH) merger events detected by LIGO/Virgo, Primordial Black Holes (PBHs) provide a useful tool to investigate the primordial curvature perturbations on small scales. Using the GWTC-1 to GWTC-3 catalogs, under the scenario that PBHs originate from large primordial curvature perturbations on small scales during inflationary epoch, we for the first time reconstruct the power spectrum of primordial curvature perturbations on small scales. It is found that the value of the amplitude of the primordial power spectrum is enhanced to $\\mathcal{O}(10^{-2})$ on scales $\\mathcal{O}(1)$ pc. This may imply the validity of PBH as a possible BBH merger candidate. |\n",
       "|<p style=\"color:green\"> **ERROR** </p>| <p style=\"color:green\">affiliation error: mpia.affiliation_verifications: 'Heidelberg' keyword not found.</p> |"
      ],
      "text/plain": [
       "<IPython.core.display.Markdown object>"
      ]
     },
     "metadata": {},
     "output_type": "display_data"
    },
    {
     "data": {
      "text/markdown": [
       "\n",
       "|||\n",
       "|---:|:---|\n",
       "| [![arXiv](https://img.shields.io/badge/arXiv-arXiv:2209.12912-b31b1b.svg)](https://arxiv.org/abs/arXiv:2209.12912) | **A detailed star formation history for the extremely diffuse Andromeda  XIX dwarf galaxy**  |\n",
       "|| Michelle L. M. Collins, et al. -- incl., <mark>Benjamin F. Williams</mark> |\n",
       "|*Appeared on*| *2022-09-28*|\n",
       "|*Comments*| *8 pages, 4 figures, accepted for publication in MNRAS, Published by Oxford University Press on behalf of the Royal Astronomical Society*|\n",
       "|**Abstract**| We present deep imaging of the ultra-diffuse Andromeda XIX dwarf galaxy from the Advance Camera for Surveys on the Hubble Space Telescope which resolves its stellar populations to below the oldest main sequence turn-off. We derive a full star formation history for the galaxy using MATCH, and find no evidence of star formation in the past 8 Gyr. We calculate a quenching time of $\\tau_{90}=9.7\\pm0.2$~Gyr, suggesting Andromeda~XIX ceased forming stars very early on. This early quenching, combined with its extremely large half-light radius, low density dark matter halo and lower than expected metallicity make it a unique galaxy within the Local Group and raises questions about how it formed. The early quenching time allows us to rule out feedback from bursty star formation as a means to explain its diffuse stellar population and low density dark matter halo. We find that the extended stellar population, low density halo and star formation could be explained by either tidal interactions (such as tidal shocking) or by late dry mergers, with the latter also explaining its low metallicity. Proper motions and detailed abundances would allow us to distinguish between these two scenarios. |\n",
       "|<p style=\"color:green\"> **ERROR** </p>| <p style=\"color:green\">affiliation error: mpia.affiliation_verifications: 'Heidelberg' keyword not found.</p> |"
      ],
      "text/plain": [
       "<IPython.core.display.Markdown object>"
      ]
     },
     "metadata": {},
     "output_type": "display_data"
    },
    {
     "data": {
      "text/markdown": [
       "\n",
       "|||\n",
       "|---:|:---|\n",
       "| [![arXiv](https://img.shields.io/badge/arXiv-arXiv:2209.12914-b31b1b.svg)](https://arxiv.org/abs/arXiv:2209.12914) | **A New Method for Finding Nearby White Dwarf Exoplanets and Detecting  Biosignatures**  |\n",
       "|| <mark>Mary Anne Limbach</mark>, et al. |\n",
       "|*Appeared on*| *2022-09-28*|\n",
       "|*Comments*| *Accepted to MNRAS*|\n",
       "|**Abstract**| We demonstrate that the James Webb Space Telescope (JWST) can detect infrared (IR) excess from the blended light spectral energy distribution of spatially unresolved terrestrial exoplanets orbiting nearby white dwarfs. We find that JWST is capable of detecting warm (habitable-zone; T$_{\\rm eq}$=287 K) Earths or super-Earths and hot (400-1000 K) Mercury analogs in the blended light spectrum around the nearest 15 isolated white dwarfs with 10 hrs of integration per target using MIRI's Medium Resolution Spectrograph (MRS). Further, these observations constrain the presence of a CO$_2$-dominated atmosphere on these planets. The technique is nearly insensitive to system inclination, and thus observation of even a small sample of white dwarfs could place strong limits on the occurrence rates of warm terrestrial exoplanets around white dwarfs in the solar neighborhood. We find that JWST can also detect exceptionally cold (100-150 K) Jupiter-sized exoplanets via MIRI broadband imaging at $\\lambda = 21\\,\\mathrm{\\mu m}$ for the 34 nearest ($<13$ pc) solitary white dwarfs with 2 hrs of integration time per target. Using IR excess to detect thermal variations with orbital phase or spectral absorption features within the atmosphere, both of which are possible with long-baseline MRS observations, would confirm candidates as actual exoplanets. Assuming an Earth-like atmospheric composition, we find that the detection of the biosignature pair O$_3$+CH$_4$ is possible for all habitable-zone Earths (within 6.5 pc; six white dwarf systems) or super-Earths (within 10 pc; 17 systems) orbiting white dwarfs with only 5-36 hrs of integration using MIRI's Low Resolution Spectrometer (LRS). |\n",
       "|<p style=\"color:green\"> **ERROR** </p>| <p style=\"color:green\">affiliation error: mpia.affiliation_verifications: 'Heidelberg' keyword not found.</p> |"
      ],
      "text/plain": [
       "<IPython.core.display.Markdown object>"
      ]
     },
     "metadata": {},
     "output_type": "display_data"
    },
    {
     "data": {
      "text/markdown": [
       "\n",
       "|||\n",
       "|---:|:---|\n",
       "| [![arXiv](https://img.shields.io/badge/arXiv-arXiv:2209.12916-b31b1b.svg)](https://arxiv.org/abs/arXiv:2209.12916) | **The TEMPO Survey I: Predicting Yields of the Transiting Exosatellites,  Moons, and Planets from a 30-day Survey of Orion with the Nancy Grace Roman  Space Telescope**  |\n",
       "|| <mark>Mary Anne Limbach</mark>, et al. -- incl., <mark>René Heller</mark>, <mark>Brandon S. Hensley</mark> |\n",
       "|*Appeared on*| *2022-09-28*|\n",
       "|*Comments*| *Submitted to PASP*|\n",
       "|**Abstract**| We present design considerations for the Transiting Exosatellites, Moons, and Planets in Orion (TEMPO) Survey with the Nancy Grace Roman Space Telescope. This proposed 30-day survey is designed to detect a population of transiting extrasolar satellites, moons, and planets in the Orion Nebula Cluster (ONC). The young (1-3 Myr), densely-populated ONC harbors about a thousand bright brown dwarfs (BDs) and free-floating planetary-mass objects (FFPs). TEMPO offers sufficient photometric precision to monitor FFPs with ${\\rm M}\\geq1{\\rm M}_{\\rm J}$ for transiting satellites. The survey is also capable of detecting FFPs down to sub-Saturn masses via direct imaging, although follow-up confirmation will be challenging. TEMPO yield estimates include 14 (3-22) exomoons/satellites transiting FFPs and 54 (8-100) satellites transiting BDs. Of this population, approximately $50\\%$ of companions would be \"super-Titans\" (Titan to Earth mass). Yield estimates also include approximately $150$ exoplanets transiting young Orion stars, of which $>50\\%$ will orbit mid-to-late M dwarfs and approximately ten will be proto-habitable zone, terrestrial ($0.1{\\rm M}_{\\oplus} - 5{\\rm M}_{\\oplus}$) exoplanets. TEMPO would provide the first census demographics of small exosatellites orbiting FFPs and BDs, while simultaneously offering insights into exoplanet evolution at the earliest stages. This detected exosatellite population is likely to be markedly different from the current census of exoplanets with similar masses (e.g., Earth-mass exosatellites that still possess H/He envelopes). Although our yield estimates are highly uncertain, as there are no known exoplanets or exomoons analogous to these satellites, the TEMPO survey would test the prevailing theories of exosatellite formation and evolution, which limit the certainty surrounding detection yields. |\n",
       "|<p style=\"color:green\"> **ERROR** </p>| <p style=\"color:green\">affiliation error: mpia.affiliation_verifications: 'Heidelberg' keyword not found.</p> |"
      ],
      "text/plain": [
       "<IPython.core.display.Markdown object>"
      ]
     },
     "metadata": {},
     "output_type": "display_data"
    },
    {
     "data": {
      "text/markdown": [
       "\n",
       "|||\n",
       "|---:|:---|\n",
       "| [![arXiv](https://img.shields.io/badge/arXiv-arXiv:2209.12954-b31b1b.svg)](https://arxiv.org/abs/arXiv:2209.12954) | **Early JWST imaging reveals strong optical and NIR color gradients in  galaxies at $z\\sim2$ driven mostly by dust**  |\n",
       "|| Tim B. Miller, et al. -- incl., <mark>Kasper E. Heintz</mark> |\n",
       "|*Appeared on*| *2022-09-28*|\n",
       "|*Comments*| *10 Pages, 5 figures, Submitted to ApJL, comments welcome!*|\n",
       "|**Abstract**| Recent studies have shown that galaxies at cosmic noon are redder in the center and bluer in the outskirts, mirroring results in the local universe. These color gradients could be caused by either gradients in the stellar age or dust opacity; however, distinguishing between these two causes is impossible with rest-frame optical photometry alone. Here we investigate the underlying causes of the gradients from spatially-resolved rest-frame $U-V$ vs. $V-J$ color-color diagrams, measured from early observations with the James Webb Space Telescope. We use $1\\, \\mu m - 4\\, \\mu m$ NIRCam photometry from the CEERS survey of a sample of 54 galaxies with $M_* / M_\\odot>10$ at redshifts $1.7<z<2.3$ selected from the 3D-HST catalog. We model the light profiles in the F115W, F200W and F356W NIRCam bands using \\texttt{imcascade}, a Bayesian implementation of the Multi-Gaussian expansion (MGE) technique which flexibly represents galaxy profiles using a series of Gaussians. We construct resolved rest-frame $U-V$ and $V-J$ color profiles. The majority of star-forming galaxies have negative gradients (i.e. redder in the center, bluer in the outskirts) in both $U-V$ and $V-J$ colors consistent with radially decreasing dust attenuation. A smaller population (roughly 15\\%) of star-forming galaxies have positive $U-V$ but negative $V-J$ gradients implying centrally concentrated star-formation. For quiescent galaxies we find a diversity of UVJ color profiles, with roughly one-third showing star-formation in their center. This study showcases the potential of JWST to study the resolved stellar populations of galaxies at cosmic noon. |\n",
       "|<p style=\"color:green\"> **ERROR** </p>| <p style=\"color:green\">affiliation error: mpia.affiliation_verifications: 'Heidelberg' keyword not found.</p> |"
      ],
      "text/plain": [
       "<IPython.core.display.Markdown object>"
      ]
     },
     "metadata": {},
     "output_type": "display_data"
    },
    {
     "data": {
      "text/markdown": [
       "\n",
       "|||\n",
       "|---:|:---|\n",
       "| [![arXiv](https://img.shields.io/badge/arXiv-arXiv:2209.12957-b31b1b.svg)](https://arxiv.org/abs/arXiv:2209.12957) | **Precise Dynamical Masses of New Directly Imaged Companions from  Combining Relative Astrometry, Radial Velocities, and Hipparcos-Gaia eDR3  Accelerations**  |\n",
       "|| E. L. Rickman, et al. -- incl., <mark>H. Zhang</mark> |\n",
       "|*Appeared on*| *2022-09-28*|\n",
       "|*Comments*| *Accepted for publication in A&A*|\n",
       "|**Abstract**| Aims. With an observing time span of more than 20 years, the CORALIE radial-velocity survey is able to detect long-term trends in data corresponding to companions with masses and separations accessible to direct imaging. Combining exoplanet detection techniques such as radial-velocities from the CORALIE survey, astrometric accelerations from Hipparcos and Gaia eDR3, and relative astrometry from direct imaging, removes the degeneracy of unknown orbital parameters. This allows precise model-independent masses of detected companions to be derived, which provides a powerful tool to test models of stellar and substellar mass-luminosity relations. Methods. Long-term precise Doppler measurements with the CORALIE spectrograph reveal radial-velocity signatures of companions on long-period orbits. The long baseline of radial-velocity data allows the detectability of such companion candidates to be assessed with direct imaging. We combine long-period radial-velocity data with absolute astrometry from Hipparcos and Gaia eDR3 and relative astrometry derived from new direct imaging detections with VLT/SPHERE to fit orbital parameters and derive precise dynamical masses of these companions. Results. In this paper we report the discovery of new companions orbiting HD~142234, HD~143616, and HIP~22059, as well as the first direct detection of HD~92987~B, and update the dynamical masses of two previously directly imaged companions; HD~157338~B and HD~195010~B. The companions span a period range of 32 to 273 years and are all very low mass stellar companions, ranging from 225 to 477~$M_{\\rm{Jup}}$. We compare the derived dynamical masses to mass-luminosity relations of very low mass stars (<0.5~$M_{\\odot}$), and discuss the importance of using precursor radial-velocity and astrometric information to inform the future of high-contrast imaging of exoplanets and brown dwarfs |\n",
       "|<p style=\"color:green\"> **ERROR** </p>| <p style=\"color:green\">affiliation error: mpia.affiliation_verifications: 'Heidelberg' keyword not found.</p> |"
      ],
      "text/plain": [
       "<IPython.core.display.Markdown object>"
      ]
     },
     "metadata": {},
     "output_type": "display_data"
    },
    {
     "data": {
      "text/markdown": [
       "\n",
       "|||\n",
       "|---:|:---|\n",
       "| [![arXiv](https://img.shields.io/badge/arXiv-arXiv:2209.12997-b31b1b.svg)](https://arxiv.org/abs/arXiv:2209.12997) | **The Role of the Hubble Scale in the Weak Lensing vs. CMB Tension**  |\n",
       "|| Lucas F. Secco, Tanvi Karwal, Wayne Hu, <mark>Elisabeth Krause</mark> |\n",
       "|*Appeared on*| *2022-09-28*|\n",
       "|*Comments*| *10 pages, 5 figures, to be submitted*|\n",
       "|**Abstract**| We explore a re-parameterization of the lensing amplitude tension between weak lensing (WL) and cosmic microwave background (CMB) data and its implications for a joint resolution with the Hubble tension. Specifically, we focus on the lensing amplitude over a scale of 12 Mpc in absolute distance units using a derived parameter $S_{12}$ and show its constraints from recent surveys in comparison with Planck 2018. In WL alone, we find that the absolute distance convention correlates $S_{12}$ with $H_0$. Accounting for this correlation in the 3D space $S_{12}\\times \\omega_m \\times h$ reproduces the usual levels of $2\\sim 3\\sigma$ tension inferred from $S_8\\times\\Omega_m$. Additionally, we derive scaling relations in the $S_8\\times h$ and $S_{12}\\times h$ planes that are allowed by $\\Lambda$CDM and extrapolate target scalings needed to solve the $H_0$ and lensing-amplitude tensions jointly in a hypothetical beyond-$\\Lambda$CDM model. As a test example, we quantify how the early dark energy scenario compares with these target scalings. Useful fitting formulae for $S_8$ and $S_{12}$ as a function of other cosmological parameters in $\\Lambda$CDM are provided, with 1% precision. |\n",
       "|<p style=\"color:green\"> **ERROR** </p>| <p style=\"color:green\">affiliation error: mpia.affiliation_verifications: 'Heidelberg' keyword not found.</p> |"
      ],
      "text/plain": [
       "<IPython.core.display.Markdown object>"
      ]
     },
     "metadata": {},
     "output_type": "display_data"
    },
    {
     "data": {
      "text/markdown": [
       "\n",
       "|||\n",
       "|---:|:---|\n",
       "| [![arXiv](https://img.shields.io/badge/arXiv-arXiv:2209.13004-b31b1b.svg)](https://arxiv.org/abs/arXiv:2209.13004) | **A light in the dark: searching for electromagnetic counterparts to black  hole-black hole mergers in LIGO/Virgo O3 with the Zwicky Transient Facility**  |\n",
       "|| Matthew J. Graham, et al. -- incl., <mark>George Helou</mark>, <mark>Ashish A. Mahabal</mark>, <mark>Frank J. Masci</mark> |\n",
       "|*Appeared on*| *2022-09-28*|\n",
       "|*Comments*| *24 pages, 6 figures, submitted to ApJ*|\n",
       "|**Abstract**| The accretion disks of active galactic nuclei (AGN) are promising locations for the merger of compact objects detected by gravitational wave (GW) observatories. Embedded within a baryon-rich, high density environment, mergers within AGN are the only GW channel where an electromagnetic (EM) counterpart must occur (whether detectable or not). Considering AGN with unusual flaring activity observed by the Zwicky Transient Facility (ZTF), we describe a search for candidate EM counterparts to binary black hole (BBH) mergers detected by LIGO/Virgo in O3. After removing probable false positives, we find nine candidate counterparts to BBH mergers mergers during O3 (seven in O3a, two in O3b) with a $p$-value of 0.019. Based on ZTF sky coverage, AGN geometry, and merger geometry, we expect $\\approx 3(N_{\\rm BBH}/83)(f_{\\rm AGN}/0.5)$ potentially detectable EM counterparts from O3, where $N_{\\rm BBH}$ is the total number of observed BBH mergers and $f_{\\rm AGN}$ is the fraction originating in AGN. Further modeling of breakout and flaring phenomena in AGN disks is required to reduce our false positive rate. Two of the events are also associated with mergers with total masses $> 100M_\\odot$, which is the expected rate for O3 if hierarchical (large mass) mergers occur in the AGN channel. Candidate EM counterparts in future GW observing runs can be better constrained by coverage of the Southern sky as well as spectral monitoring of unusual AGN flaring events in LIGO/Virgo alert volumes. A future set of reliable AGN EM counterparts to BBH mergers will yield an independent means of measuring cosmic expansion ($H_0$) as a function of redshift. |\n",
       "|<p style=\"color:green\"> **ERROR** </p>| <p style=\"color:green\">affiliation error: mpia.affiliation_verifications: 'Heidelberg' keyword not found.</p> |"
      ],
      "text/plain": [
       "<IPython.core.display.Markdown object>"
      ]
     },
     "metadata": {},
     "output_type": "display_data"
    },
    {
     "data": {
      "text/markdown": [
       "\n",
       "|||\n",
       "|---:|:---|\n",
       "| [![arXiv](https://img.shields.io/badge/arXiv-arXiv:2209.13057-b31b1b.svg)](https://arxiv.org/abs/arXiv:2209.13057) | **Coronal mass ejection deformation at 0.1 au observed by WISPR**  |\n",
       "|| Carlos R. Braga, et al. -- incl., <mark>Paulett C. Liewer</mark>, <mark>Phillip Hess</mark> |\n",
       "|*Appeared on*| *2022-09-28*|\n",
       "|*Comments*| **|\n",
       "|**Abstract**| Although coronal mass ejections (CMEs) resembling flux ropes generally expand self-similarly, deformations along their fronts have been reported in observations and simulations. We present evidence of one CME becoming deformed after a period of self-similarly expansion in the corona. The event was observed by multiple white-light imagers on January 20-22, 2021. The change in shape is evident in observations from the heliospheric imagers from the Wide-Field Imager for Solar Probe Plus (WISPR), which observe this CME for $\\sim$ 44 hours. We reconstruct the CME using forward-fitting models. In the first hours, observations are consistent with a self-similar expansion but later on the front flattens forming a dimple. Our interpretation is that the CME becomes deformed at $\\sim0.1\\ au$ due to differences in the background solar wind speeds. The CME expands more at higher latitudes, where the background solar wind is faster. We consider other possible causes for deformations, such as loss of coherence and slow-mode shocks. The CME deformation seems to cause a time-of-arrival error of 16 hours at $\\sim 0.5\\ au$. The deformation is clear only in the WISPR observations and, it thus, would have been missed by 1~AU coronagraphs. Such deformations may help explain the time-of-arrival errors in events where only coronagraph observations are available. |\n",
       "|<p style=\"color:green\"> **ERROR** </p>| <p style=\"color:green\">affiliation error: mpia.affiliation_verifications: 'Heidelberg' keyword not found.</p> |"
      ],
      "text/plain": [
       "<IPython.core.display.Markdown object>"
      ]
     },
     "metadata": {},
     "output_type": "display_data"
    },
    {
     "data": {
      "text/markdown": [
       "\n",
       "|||\n",
       "|---:|:---|\n",
       "| [![arXiv](https://img.shields.io/badge/arXiv-arXiv:2209.13059-b31b1b.svg)](https://arxiv.org/abs/arXiv:2209.13059) | **Barbell shaped giant radio galaxy with ~100 kpc kink in the jet**  |\n",
       "|| Pratik Dabhade, et al. -- incl., <mark>Madhuri Gaikwad</mark> |\n",
       "|*Appeared on*| *2022-09-28*|\n",
       "|*Comments*| *Accepted for publication in A&A. 17 Pages, 7 figures and 6 tables. Comments are welcome*|\n",
       "|**Abstract**| We present here for the first time a study of a peculiar giant radio galaxy (GRG) - GRG-J223301+131502 using deep multi-frequency radio observations from GMRT (323, 612, and 1300 MHz) and LOFAR (144 MHz) along with optical spectroscopic observations with the WHT 4.2m optical telescope. Our observations have firmly established its redshift of 0.09956 and unveiled its exceptional jet structure extending more than $\\sim$200 kpc leading to a peculiar `kink' structure of $\\sim$100 kpc. We measure the overall size of this GRG to be 1.83 Mpc, which exhibits lobes without any prominent hotspots and closely resembles a `Barbell'. Our deep low-frequency radio maps clearly reveal the steep-spectrum diffuse emission from the lobes of the GRG. The magnetic field strength of $\\sim$ 5 $\\mu$G and spectral ages between about 110 to 200 mega years for the radio lobes were estimated using radio data from LOFAR 144 MHz observations and GMRT 323 and 612 MHz observations. We discuss the possible causes leading to the formation of the observed `kink' feature for the GRG, which includes precession of the jet axis, development of instabilities and magnetic reconnection. Despite its enormous size, the Barbell GRG is found to be residing in a low mass (M$_{200} \\sim 10^{14}$ $\\rm M_{\\odot}$) galaxy cluster. This GRG with two-sided, large-scale jets with a kink and diffuse outer lobes residing in a cluster environment, provides an opportunity of exploring the structure and growth of GRGs in different environments. |\n",
       "|<p style=\"color:green\"> **ERROR** </p>| <p style=\"color:green\">affiliation error: mpia.affiliation_verifications: 'Heidelberg' keyword not found.</p> |"
      ],
      "text/plain": [
       "<IPython.core.display.Markdown object>"
      ]
     },
     "metadata": {},
     "output_type": "display_data"
    },
    {
     "data": {
      "text/markdown": [
       "\n",
       "|||\n",
       "|---:|:---|\n",
       "| [![arXiv](https://img.shields.io/badge/arXiv-arXiv:2209.13066-b31b1b.svg)](https://arxiv.org/abs/arXiv:2209.13066) | **Optical Variability of the very Radio-Loud Narrow line Seyfert 1 galaxy,  1H 0323+342**  |\n",
       "|| Clay S. Turner, Hugh R. Miller, Jeremy D. Maune, <mark>Joseph R. Eggen</mark> |\n",
       "|*Appeared on*| *2022-09-28*|\n",
       "|*Comments*| **|\n",
       "|**Abstract**| 1H 0323+342 is optically one of the nearest and brightest very radio loud narrow line Seyfert 1 galaxies (vRL NLSy1). It is also one of the first vRLNLSy1s detected at gamma-ray energies by the Fermi-LAT. We report the results of monitoring the optical flux of 1H 0323+342 during more than six and a half years. In some cases, we, for the first time, simultaneously use two telescopes to monitor the optical flux of 1H 0323+342 on timescales ranging from minutes to hours, demonstrating the reality of low amplitude microvariability whole events with durations of a few hours for this object. Based on the present results, as well as those of earlier studies, we suggest that this represents a fundamental timescale associated with the underlying source region. We also present an enhancement of Howell's comparison star method for detecting microvariability. |\n",
       "|<p style=\"color:green\"> **ERROR** </p>| <p style=\"color:green\">affiliation error: mpia.affiliation_verifications: 'Heidelberg' keyword not found.</p> |"
      ],
      "text/plain": [
       "<IPython.core.display.Markdown object>"
      ]
     },
     "metadata": {},
     "output_type": "display_data"
    },
    {
     "data": {
      "text/markdown": [
       "\n",
       "|||\n",
       "|---:|:---|\n",
       "| [![arXiv](https://img.shields.io/badge/arXiv-arXiv:2209.13069-b31b1b.svg)](https://arxiv.org/abs/arXiv:2209.13069) | **Signs of environmental effects on star-forming galaxies in the Spiderweb  protocluster at z=2.16**  |\n",
       "|| Jose Manuel Pérez-Martínez, et al. -- incl., <mark>Helmut Dannerbauer</mark>, <mark>Andrés Laza-Ramos</mark> |\n",
       "|*Appeared on*| *2022-09-28*|\n",
       "|*Comments*| *29 pages, 15 figures. Accepted for publication in MNRAS*|\n",
       "|**Abstract**| We use multi-object near-infrared (NIR) spectroscopy with VLT/KMOS to investigate the role of the environment in the evolution of the ionized gas properties of narrow-band selected H$\\alpha$ emitters (HAEs) in the Spiderweb protocluster at $z=2.16$. Based on rest-frame optical emission lines, H$\\alpha$ and [NII]$\\lambda$6584, we confirm the cluster membership of 39 of our targets (i.e. 93% success rate), and measure their star-formation rates (SFR), gas-phase oxygen abundances and effective radius. We parametrize the environment where our targets reside by using local and global density indicators based on previous samples of spectroscopic and narrow-band cluster members. We find that star-forming galaxies embedded in the Spiderweb protocluster display SFRs compatible with those of the main sequence and morphologies comparable to those of late-type galaxies at $z=2.2$ in the field. We also report a mild gas-phase metallicity enhancement ($0.6\\pm0.3$ dex) at intermediate stellar masses. Furthermore, we identify two UVJ-selected quiescent galaxies with residual H$\\alpha$-based star formation and find signs of extreme dust obscuration in a small sample of SMGs based on their FIR and H$\\alpha$ emission. Interestingly, the spatial distribution of these objects differs from the rest of HAEs, avoiding the protocluster core. Finally, we explore the gas fraction-gas metallicity diagram for 7 galaxies with molecular gas masses measured by ATCA using CO(1-0). In the context of the gas-regulator model, our objects are consistent with relatively low mass-loading factors, suggesting lower outflow activity than field samples at the cosmic noon and thus, hinting at the onset of environmental effects in this massive protocluster. |\n",
       "|<p style=\"color:green\"> **ERROR** </p>| <p style=\"color:green\">affiliation error: mpia.affiliation_verifications: 'Heidelberg' keyword not found.</p> |"
      ],
      "text/plain": [
       "<IPython.core.display.Markdown object>"
      ]
     },
     "metadata": {},
     "output_type": "display_data"
    },
    {
     "data": {
      "text/markdown": [
       "\n",
       "|||\n",
       "|---:|:---|\n",
       "| [![arXiv](https://img.shields.io/badge/arXiv-arXiv:2209.13088-b31b1b.svg)](https://arxiv.org/abs/arXiv:2209.13088) | **On the Localization Methods of High Energy Transients for All-Sky  Gamma-Ray Monitors**  |\n",
       "|| Yi Zhao, et al. -- incl., <mark>Shao-Lin Xiong</mark>, <mark>Jia-Cong Liu</mark>, <mark>Yan-Qiu Zhang</mark>, <mark>Heng Yu</mark>, <mark>Sheng-Lun Xie</mark>, <mark>Zhi-Wei Guo</mark>, <mark>Chao-Yang Li</mark>, <mark>Zhen Zhang</mark>, <mark>Li-Ming Song</mark>, <mark>Shuang-Nan Zhang</mark> |\n",
       "|*Appeared on*| *2022-09-28*|\n",
       "|*Comments*| *submitted to MNRAS for publication*|\n",
       "|**Abstract**| Reliable localization of high-energy transients, such as Gamma-ray Bursts (GRBs) and Soft Gamma-ray Repeaters (SGRs), is the prerequisite for characterizing the burst properties (e.g. spectrum) and implementing the follow-up observations in the multi-wavelength and multi-messenger. Localization based on the relative counts of different detectors has been widely used for all-sky gamma-ray monitors, such as {\\it CGRO}/BATSE, {\\it Fermi}/GBM, POLAR, and GECAM. There are two major statistical frameworks for counts distribution localization methods: $\\chi^{2}$ and Bayesian. Here, we studied and compared several localization methods based on these two statistical frameworks, by directly checking the localization probability map and credible region with comprehensive simulations. We find that the Bayesian method is generally more applicable for various bursts than $\\chi^{2}$ method. We also proposed a location-spectrum iteration approach based on the Bayesian inference, which could not only take advantage of straightforward calculation but also alleviate the problems caused by the spectral difference between the burst and location templates. |\n",
       "|<p style=\"color:green\"> **ERROR** </p>| <p style=\"color:green\">affiliation error: mpia.affiliation_verifications: 'Heidelberg' keyword not found.</p> |"
      ],
      "text/plain": [
       "<IPython.core.display.Markdown object>"
      ]
     },
     "metadata": {},
     "output_type": "display_data"
    },
    {
     "data": {
      "text/markdown": [
       "\n",
       "|||\n",
       "|---:|:---|\n",
       "| [![arXiv](https://img.shields.io/badge/arXiv-arXiv:2209.13125-b31b1b.svg)](https://arxiv.org/abs/arXiv:2209.13125) | **GOALS-JWST: Mid-Infrared Spectroscopy of the Nucleus of NGC 7469**  |\n",
       "|| L. Armus, et al. -- incl., <mark>S. Linden</mark>, <mark>M.J.I. Brown</mark> |\n",
       "|*Appeared on*| *2022-09-28*|\n",
       "|*Comments*| **|\n",
       "|**Abstract**| We present mid-infrared spectroscopic observations of the nucleus of the nearby Seyfert galaxy NGC 7469 taken with the MIRI instrument on the James Webb Space Telescope (JWST) as part of Directors Discretionary Time Early Release Science (ERS) program 1328. The high resolution nuclear spectrum contains 19 emission lines covering a wide range of ionization. The high ionization lines show broad, blueshifted emission reaching velocities up to 1700 km s$^{-1}$ and FWHM ranging from $\\sim500 - 1100$ km s$^{-1}$. The width of the broad emission and the broad to narrow line flux ratios correlate with ionization potential. The results suggest a decelerating, stratified, AGN driven outflow emerging from the nucleus. The estimated mass outflow rate is one to two orders of magnitude larger than the current black hole accretion rate needed to power the AGN. Eight pure rotational H$_{2}$ emission lines are detected with intrinsic widths ranging from FWHM $\\sim 125-330$ km s$^{-1}$. We estimate a total mass of warm H$_{2}$ gas of $\\sim1.2\\times10^{7}$M$_{\\odot}$ in the central 100 pc. The PAH features are extremely weak in the nuclear spectrum, but a $6.2\\mu$m PAH feature with an equivalent width $\\sim0.07\\mu$m and a flux of $2.7\\times10^{-17}$ W m$^{-2}$ is detected. The spectrum is steeply rising in the mid-infrared, with a silicate strength $\\sim0.02$, significantly smaller than seen in most PG QSOs, but comparable to other Seyfert 1's. These early MIRI mid-infrared IFU data highlight the power of JWST to probe the multi-phase interstellar media surrounding actively accreting supermassive black holes. |\n",
       "|<p style=\"color:green\"> **ERROR** </p>| <p style=\"color:green\">affiliation error: mpia.affiliation_verifications: 'Heidelberg' keyword not found.</p> |"
      ],
      "text/plain": [
       "<IPython.core.display.Markdown object>"
      ]
     },
     "metadata": {},
     "output_type": "display_data"
    },
    {
     "data": {
      "text/markdown": [
       "\n",
       "|||\n",
       "|---:|:---|\n",
       "| [![arXiv](https://img.shields.io/badge/arXiv-arXiv:2209.13221-b31b1b.svg)](https://arxiv.org/abs/arXiv:2209.13221) | **Emission line star catalogues post-Gaia DR3: A validation of Gaia DR3  data using LAMOST OBA emission catalogue**  |\n",
       "|| B. Shridharan, et al. -- incl., <mark>G. Maheshwar</mark> |\n",
       "|*Appeared on*| *2022-09-28*|\n",
       "|*Comments*| *6 pages, 5 figures and 1 table. Accepted for publication in A&A*|\n",
       "|**Abstract**| Gaia DR3 and further releases have the potential to identify and categorise new emission-line stars in the Galaxy. We perform a comprehensive validation of astrophysical parameters from Gaia DR3 with the spectroscopically estimated emission-line star parameters from LAMOST OBA emission catalogue. We compare different astrophysical parameters provided by Gaia DR3 with those estimated using LAMOST spectra. By using a larger sample of emission-line stars, we perform a global polynomial and piece-wise linear fit to update the empirical relation to convert Gaia DR3 pseudo-equivalent width to observed equivalent width, after removing the weak emitters from the analysis. We find that the emission-line source classifications given by DR3 is in reasonable agreement with the classification from LAMOST OBA emission catalogue. The astrophysical parameters estimated by esphs module from Gaia DR3 provides a better estimate when compared to gspphot and gspspec. A second-degree polynomial relation is provided along with piece-wise linear fit parameters for the equivalent width conversion. We notice that the LAMOST stars with weak H{\\alpha} emission are not identified to be in emission from BP/RP spectra. This suggests that emission-line sources identified by Gaia DR3 is incomplete. In addition, Gaia DR3 provides valuable information about the binary and variable nature of a sample of emission-line stars. |\n",
       "|<p style=\"color:green\"> **ERROR** </p>| <p style=\"color:green\">affiliation error: mpia.affiliation_verifications: 'Heidelberg' keyword not found.</p> |"
      ],
      "text/plain": [
       "<IPython.core.display.Markdown object>"
      ]
     },
     "metadata": {},
     "output_type": "display_data"
    },
    {
     "data": {
      "text/markdown": [
       "\n",
       "|||\n",
       "|---:|:---|\n",
       "| [![arXiv](https://img.shields.io/badge/arXiv-arXiv:2209.13285-b31b1b.svg)](https://arxiv.org/abs/arXiv:2209.13285) | **LHAASO J2226+6057 as a pulsar wind nebula**  |\n",
       "|| Agnibha De Sarkar, et al. -- incl., <mark>Wei Zhang</mark>, <mark>Diego F. Torres</mark>, <mark>Jian Li</mark> |\n",
       "|*Appeared on*| *2022-09-28*|\n",
       "|*Comments*| *10 pages, 5 figures, 1 table; accepted for publication in Astronomy & Astrophysics (A&A)*|\n",
       "|**Abstract**| The Large High Altitude Air Shower Observatory has reported the detection of cosmic-ray sources in Milky Way that can accelerate particles up to PeV (= 10$^{15}$ eV) energies. These sources, so called ``PeVatrons'', are mostly unidentified. Several classes of sources, such as supernova remnants, pulsar wind nebula, or young stellar clusters can potentially be the counterparts of these PeVatrons. The aim of this work is to study a pulsar wind nebula interpretation of one of these PeVatrons, LHAASO J2226+6057, which has a relatively well covered multi-frequency spectrum. We have performed a leptonic, time-dependent modeling of the pulsar wind nebula (PWN) associated with PSR J2229+6114 considering a time-energy-dependent diffusion-loss equation. Injection, energy losses, as well as escape of particles were considered to balance the time-dependent lepton population. We have also included the dynamics of the PWN and the associated supernova remnant (SNR) and their interaction via the reverse shock to study the reverberation phase of the system. We have considered different values of braking index ($n$) and true age ($t_{age}$) for the fitting of the multi-wavelength (MWL) spectral energy distribution (SED) of LHAASO J2226+6057. The best-fit PWN model parameters and their 1$\\sigma$ confidence intervals were evaluated. We have also demonstrated the impact of reverberation on the MWL SED with increasing time. Additionally, we have discussed the resultant large radius and low magnetic field associated with the PWN in question, as caveats for the possible physical connection of the pulsar as the origin of this high energy source. |\n",
       "|<p style=\"color:green\"> **ERROR** </p>| <p style=\"color:green\">affiliation error: mpia.affiliation_verifications: 'Heidelberg' keyword not found.</p> |"
      ],
      "text/plain": [
       "<IPython.core.display.Markdown object>"
      ]
     },
     "metadata": {},
     "output_type": "display_data"
    },
    {
     "data": {
      "text/markdown": [
       "\n",
       "|||\n",
       "|---:|:---|\n",
       "| [![arXiv](https://img.shields.io/badge/arXiv-arXiv:2209.13321-b31b1b.svg)](https://arxiv.org/abs/arXiv:2209.13321) | **A panchromatic view of infrared quasars: excess star formation and radio  emission in the most heavily obscured systems**  |\n",
       "|| Carolina Andonie, et al. -- incl., <mark>Chris Harrison</mark> |\n",
       "|*Appeared on*| *2022-09-28*|\n",
       "|*Comments*| *Accepted for publication in MNRAS. 22 pages, 15 figures, 4 tables*|\n",
       "|**Abstract**| To understand the Active Galactic Nuclei (AGN) phenomenon and their impact on the evolution of galaxies, a complete AGN census is required; however, finding heavily obscured AGNs is observationally challenging. Here we use the deep and extensive multi-wavelength data in the COSMOS field to select a complete sample of 578 infrared (IR) quasars ($L_{\\rm AGN,IR}>10^{45}\\rm \\: erg\\: s^{-1}$) at $z<3$, with minimal obscuration bias, using detailed UV-to-far IR spectral energy distribution (SED) fitting. We complement our SED constraints with X-ray and radio observations to further investigate the properties of the sample. Overall, 322 of the IR quasars are detected by Chandra and have individual X-ray spectral constraints. From a combination of X-ray stacking and $L_{\\rm 2-10\\rm keV}$ - $L_{\\rm 6\\: \\mu m}$ analyses, we show that the majority of the X-ray faint and undetected quasars are heavily obscured (many are likely Compton thick), highlighting the effectiveness of the mid-IR band to find obscured AGNs. We find that 355 ($\\approx$61%) IR quasars are obscured ($N_{\\rm H}>10^{22}\\rm \\: cm^{-2}$) and identify differences in the average properties between the obscured and unobscured quasars: (1) obscured quasars have star-formation rates $\\approx 3$ times higher than unobscured systems for no significant difference in stellar mass and (2) obscured quasars have stronger radio emission than unobscured systems, with a radio-loudness parameter $\\approx 0.2 \\rm \\: dex$ higher. These results are inconsistent with a simple orientation model but in general agreement with either extreme host-galaxy obscuration towards the obscured quasars or a scenario where obscured quasars are an early phase in the evolution of quasars. |\n",
       "|<p style=\"color:green\"> **ERROR** </p>| <p style=\"color:green\">affiliation error: mpia.affiliation_verifications: 'Heidelberg' keyword not found.</p> |"
      ],
      "text/plain": [
       "<IPython.core.display.Markdown object>"
      ]
     },
     "metadata": {},
     "output_type": "display_data"
    },
    {
     "data": {
      "text/markdown": [
       "\n",
       "|||\n",
       "|---:|:---|\n",
       "| [![arXiv](https://img.shields.io/badge/arXiv-arXiv:2209.13324-b31b1b.svg)](https://arxiv.org/abs/arXiv:2209.13324) | **pulsar_spectra: A pulsar flux density catalogue and spectrum fitting  repository**  |\n",
       "|| N. A. Swainston, <mark>C. P. Lee</mark>, S. J. McSweeney, N. D. R. Bhat |\n",
       "|*Appeared on*| *2022-09-28*|\n",
       "|*Comments*| **|\n",
       "|**Abstract**| We present the pulsar_spectra software repository, an open-source pulsar flux density catalogue and automated spectral fitting software that finds the best spectral model and produces publication-quality plots. The Python-based software includes features that enable users in the astronomical community to add newly published spectral measurements to the catalogue as they become available. The spectral fitting software is an implementation of the method described in Jankowski et al. (2018) which uses robust statistical methods to decide on the best-fitting model for individual pulsar spectra. pulsar_spectra is motivated by the need for a centralised repository for pulsar flux density measurements to make published measurements more accessible to the astronomical community and provide a suite of tools for measuring spectra. |\n",
       "|<p style=\"color:green\"> **ERROR** </p>| <p style=\"color:green\">affiliation error: mpia.affiliation_verifications: 'Heidelberg' keyword not found.</p> |"
      ],
      "text/plain": [
       "<IPython.core.display.Markdown object>"
      ]
     },
     "metadata": {},
     "output_type": "display_data"
    },
    {
     "data": {
      "text/markdown": [
       "\n",
       "|||\n",
       "|---:|:---|\n",
       "| [![arXiv](https://img.shields.io/badge/arXiv-arXiv:2209.13333-b31b1b.svg)](https://arxiv.org/abs/arXiv:2209.13333) | **Shape model and rotation acceleration of (1685) Toro and (85989) 1999  JD6 from optical observations**  |\n",
       "|| Jun Tian, Haibin Zhao, <mark>Bin Li</mark> |\n",
       "|*Appeared on*| *2022-09-28*|\n",
       "|*Comments*| *21 pages, 10 figures*|\n",
       "|**Abstract**| The Yarkovsky-O'Keefe-Radzievskii-Paddack (YORP) effect is a net torque caused by solar radiation directly reflected and thermally re-emitted from the surface of small asteroids and is considered to be crucial in their dynamical evolution. By long-term photometric observations of selected near-Earth asteroids, it's hoped to enlarge asteroid samples with a detected YORP effect to facilitate the development of a theoretical framework. Archived light-curve data are collected and photometric observations are made for (1685) Toro and (85989) 1999 JD6, which enables measurement of their YORP effect by inverting the light curve to fit observations from a convex shape model. For (1685) Toro, a YORP acceleration $\\upsilon=(3.2\\pm0.3)\\times10^{-9}\\ \\rm{rad\\cdot d^{-2}}(1\\sigma\\ error)$ is updated, which is consistent with previous YORP detection based on different light-curve data; for (85989) 1999 JD6, it is determined that the sidereal period is $7.667749\\pm 0.000009$ h, the rotation pole direction locates is at $\\lambda=232\\pm 2^{\\circ},\\ \\beta = -59\\pm 1^{\\circ}$, the acceleration is detected to be $\\upsilon = (2.4\\pm0.3)\\times10^{-8}\\ \\rm{rad\\cdot d^{-2}}(1\\sigma\\ error)$ and in addition to obtaining an excellent agreement between the observations and model. YORP should produce both spin-up and spin-down cases. However, including (85989) 1999 JD6, the $\\rm{d}\\omega/\\rm{d}t$ values of eleven near-Earth asteroids are positive totally, which suggests that there is either a bias in the sample of YORP detections or a real feature needs to be explained. |\n",
       "|<p style=\"color:green\"> **ERROR** </p>| <p style=\"color:green\">affiliation error: mpia.affiliation_verifications: 'Heidelberg' keyword not found.</p> |"
      ],
      "text/plain": [
       "<IPython.core.display.Markdown object>"
      ]
     },
     "metadata": {},
     "output_type": "display_data"
    },
    {
     "data": {
      "text/markdown": [
       "\n",
       "|||\n",
       "|---:|:---|\n",
       "| [![arXiv](https://img.shields.io/badge/arXiv-arXiv:2209.13349-b31b1b.svg)](https://arxiv.org/abs/arXiv:2209.13349) | **Cosmological Simulation of Galaxy Groups and Clusters-II: Studying  Different Modes of Feedback through X-ray Observations**  |\n",
       "|| Rudrani Kar Chowdhury, et al. -- incl., <mark>Jane Lixin Dai</mark> |\n",
       "|*Appeared on*| *2022-09-28*|\n",
       "|*Comments*| *Accepted for publication in ApJ*|\n",
       "|**Abstract**| The impact of feedback from Active Galactic Nuclei (AGN) on the cosmological evolution of the large scale structure is a long studied problem. However, it is still not well understood how the feedback energy couples to the ambient medium to influence the properties of AGN host galaxies and dark matter halos. In this work we investigate different modes of AGN feedback and their effect on the surrounding medium by probing the diffuse X-ray emission from the hot gas inside galaxy groups and clusters. For this purpose, we use the cosmological hydrodynamic simulation SIMBA to theoretically calculate the X-ray emission from simulated galaxy clusters/groups with the help of the Astrophysical Plasma Emission Code (APEC). We also perform synthetic observations of these systems with the Chandra X-ray telescope using the ray-tracing simulator Model of AXAF Response to X-rays (MARX). Our results show that in addition to the radiative wind mode of feedback from the AGN, jet and X-ray mode of feedback play significant roles in suppressing the X-ray emission from the diffuse gas in the vicinity of the black hole. Our mock observational maps suggest that the signatures of AGN feedback from the high redshift objects may not be detected with the instrumental resolution of current X-ray telescopes like Chandra, but provide promising prospect for detection of these features with potential X-ray missions such as Lynx. |\n",
       "|<p style=\"color:green\"> **ERROR** </p>| <p style=\"color:green\">affiliation error: mpia.affiliation_verifications: 'Heidelberg' keyword not found.</p> |"
      ],
      "text/plain": [
       "<IPython.core.display.Markdown object>"
      ]
     },
     "metadata": {},
     "output_type": "display_data"
    },
    {
     "data": {
      "text/markdown": [
       "\n",
       "|||\n",
       "|---:|:---|\n",
       "| [![arXiv](https://img.shields.io/badge/arXiv-arXiv:2209.13406-b31b1b.svg)](https://arxiv.org/abs/arXiv:2209.13406) | **Eclipse Timings of the LMXB XTE J1710-281 : Discovery of a third orbital  period glitch**  |\n",
       "|| Chetana Jain, <mark>Rahul Sharma</mark>, Biswajit Paul |\n",
       "|*Appeared on*| *2022-09-28*|\n",
       "|*Comments*| *Accepted for publication in Monthly Notices of the Royal Astronomical Society Main Journal*|\n",
       "|**Abstract**| We present an updated measurement of orbital period evolution of LMXB XTE J1710-281 by using eclipse timing technique. Using data obtained with XMM-Newton, Suzaku, RXTE, Chandra and AstroSat observatories, we report 21 new measurements of X-ray mid-eclipse times. We have discovered a third orbital period glitch in XTE J1710-281 with an F-test false alarm probability of ~0.7% for occurrence of the third glitch and report detection of four distinct epochs of orbital period in this system. This work presents a more robust estimation of occurrence of the second orbital period glitch. However, the epoch of occurrence of the third glitch is poorly constrained, between MJD 55726 to 56402. We have put lower limits of 1.48 ms, 0.97 ms and 0.45 ms, on sudden changes in orbital period between the successive epochs. We discuss the implications of our findings in context of magnetic nature of the companion star and possible scattering events with circum-binary objects around this binary system. |\n",
       "|<p style=\"color:green\"> **ERROR** </p>| <p style=\"color:green\">affiliation error: mpia.affiliation_verifications: 'Heidelberg' keyword not found.</p> |"
      ],
      "text/plain": [
       "<IPython.core.display.Markdown object>"
      ]
     },
     "metadata": {},
     "output_type": "display_data"
    },
    {
     "data": {
      "text/markdown": [
       "\n",
       "|||\n",
       "|---:|:---|\n",
       "| [![arXiv](https://img.shields.io/badge/arXiv-arXiv:2209.13412-b31b1b.svg)](https://arxiv.org/abs/arXiv:2209.13412) | **InSight Pressure Data Recalibration, and Its Application to the Study of  Long-Term Pressure Changes on Mars**  |\n",
       "|| <mark>L. Lange</mark>, et al. |\n",
       "|*Appeared on*| *2022-09-28*|\n",
       "|*Comments*| **|\n",
       "|**Abstract**| Observations of the South Polar Residual Cap suggest a possible erosion of the cap, leading to an increase of the global mass of the atmosphere. We test this assumption by making the first comparison between Viking 1 and InSight surface pressure data, which were recorded 40 years apart. Such a comparison also allows us to determine changes in the dynamics of the seasonal ice caps between these two periods. To do so, we first had to recalibrate the InSight pressure data because of their unexpected sensitivity to the sensor temperature. Then, we had to design a procedure to compare distant pressure measurements. We propose two surface pressure interpolation methods at the local and global scale to do the comparison. The comparison of Viking and InSight seasonal surface pressure variations does not show changes larger than +-8 Pa in the CO2 cycle. Such conclusions are supported by an analysis of Mars Science Laboratory (MSL) pressure data. Further comparisons with images of the south seasonal cap taken by the Viking 2 orbiter and MARCI camera do not display significant changes in the dynamics of this cap over a 40 year period. Only a possible larger extension of the North Cap after the global storm of MY 34 is observed, but the physical mechanisms behind this anomaly are not well determined. Finally, the first comparison of MSL and InSight pressure data suggests a pressure deficit at Gale crater during southern summer, possibly resulting from a large presence of dust suspended within the crater. |\n",
       "|<p style=\"color:green\"> **ERROR** </p>| <p style=\"color:green\">affiliation error: mpia.affiliation_verifications: 'Heidelberg' keyword not found.</p> |"
      ],
      "text/plain": [
       "<IPython.core.display.Markdown object>"
      ]
     },
     "metadata": {},
     "output_type": "display_data"
    },
    {
     "data": {
      "text/markdown": [
       "\n",
       "|||\n",
       "|---:|:---|\n",
       "| [![arXiv](https://img.shields.io/badge/arXiv-arXiv:2209.13449-b31b1b.svg)](https://arxiv.org/abs/arXiv:2209.13449) | **3D non-LTE iron abundances in FG-type dwarfs**  |\n",
       "|| A. M. Amarsi, <mark>S. Liljegren</mark>, P. E. Nissen |\n",
       "|*Appeared on*| *2022-09-28*|\n",
       "|*Comments*| *17 pages, 11 figures, 5 tables; arXiv abstract abridged; accepted for publication in Astronomy & Astrophysics*|\n",
       "|**Abstract**| Spectroscopic measurements of iron abundances are prone to systematic modelling errors. We present 3D non-LTE calculations across 32 STAGGER-grid models with effective temperatures from 5000 K to 6500 K, surface gravities of 4.0 dex and 4.5 dex, and metallicities from $-$3 dex to 0 dex, and study the effects on 171 Fe I and 12 Fe II optical lines. In warm metal-poor stars, the 3D non-LTE abundances are up to 0.5 dex larger than 1D LTE abundances inferred from Fe I lines of intermediate excitation potential. In contrast, the 3D non-LTE abundances can be 0.2 dex smaller in cool metal-poor stars when using Fe I lines of low excitation potential. The corresponding abundance differences between 3D non-LTE and 1D non-LTE are generally less severe but can still reach $\\pm$0.2 dex. For Fe II lines the 3D abundances range from up to 0.15 dex larger, to 0.10 dex smaller, than 1D abundances, with negligible departures from 3D LTE except for the warmest stars at the lowest metallicities. The results were used to correct 1D LTE abundances of the Sun and Procyon (HD 61421), and of the metal-poor stars HD 84937 and HD 140283, using an interpolation routine based on neural networks. The 3D non-LTE models achieve an improved ionisation balance in all four stars. In the two metal-poor stars, they remove excitation imbalances that amount to 250 K to 300 K errors in effective temperature. For Procyon, the 3D non-LTE models suggest [Fe/H] = 0.11 $\\pm$ 0.03, which is significantly larger than literature values based on simpler models. We make the 3D non-LTE interpolation routine for FG-type dwarfs publicly available, in addition to 1D non-LTE departure coefficients for standard MARCS models of FGKM-type dwarfs and giants. These tools, together with an extended 3D LTE grid for Fe II from 2019, can help improve the accuracy of stellar parameter and iron abundance determinations for late-type stars. |\n",
       "|<p style=\"color:green\"> **ERROR** </p>| <p style=\"color:green\">affiliation error: mpia.affiliation_verifications: 'Heidelberg' keyword not found.</p> |"
      ],
      "text/plain": [
       "<IPython.core.display.Markdown object>"
      ]
     },
     "metadata": {},
     "output_type": "display_data"
    },
    {
     "data": {
      "text/markdown": [
       "\n",
       "|||\n",
       "|---:|:---|\n",
       "| [![arXiv](https://img.shields.io/badge/arXiv-arXiv:2209.13074-b31b1b.svg)](https://arxiv.org/abs/arXiv:2209.13074) | **Euclid preparation: XXII. Selection of Quiescent Galaxies from Mock  Photometry using Machine Learning**  |\n",
       "|| A.Humphrey, et al. -- incl., <mark>E.Franceschi</mark>, <mark>K.Jahnke</mark>, <mark>S.Ligori</mark> |\n",
       "|*Appeared on*| *2022-09-28*|\n",
       "|*Comments*| *37 pages (including appendices), 26 figures; accepted for publication in Astronomy & Astrophysics*|\n",
       "|**Abstract**| The Euclid Space Telescope will provide deep imaging at optical and near-infrared wavelengths, along with slitless near-infrared spectroscopy, across ~15,000 sq deg of the sky. Euclid is expected to detect ~12 billion astronomical sources, facilitating new insights into cosmology, galaxy evolution, and various other topics. To optimally exploit the expected very large data set, there is the need to develop appropriate methods and software. Here we present a novel machine-learning based methodology for selection of quiescent galaxies using broad-band Euclid I_E, Y_E, J_E, H_E photometry, in combination with multiwavelength photometry from other surveys. The ARIADNE pipeline uses meta-learning to fuse decision-tree ensembles, nearest-neighbours, and deep-learning methods into a single classifier that yields significantly higher accuracy than any of the individual learning methods separately. The pipeline has `sparsity-awareness', so that missing photometry values are still informative for the classification. Our pipeline derives photometric redshifts for galaxies selected as quiescent, aided by the `pseudo-labelling' semi-supervised method. After application of the outlier filter, our pipeline achieves a normalized mean absolute deviation of ~< 0.03 and a fraction of catastrophic outliers of ~< 0.02 when measured against the COSMOS2015 photometric redshifts. We apply our classification pipeline to mock galaxy photometry catalogues corresponding to three main scenarios: (i) Euclid Deep Survey with ancillary ugriz, WISE, and radio data; (ii) Euclid Wide Survey with ancillary ugriz, WISE, and radio data; (iii) Euclid Wide Survey only. Our classification pipeline outperforms UVJ selection, in addition to the Euclid I_E-Y_E, J_E-H_E and u-I_E,I_E-J_E colour-colour methods, with improvements in completeness and the F1-score of up to a factor of 2. (Abridged) |\n",
       "|<p style=\"color:red\"> **ERROR** </p>| <p style=\"color:red\">latex error Could not find figure .pdf</p> |"
      ],
      "text/plain": [
       "<IPython.core.display.Markdown object>"
      ]
     },
     "metadata": {},
     "output_type": "display_data"
    },
    {
     "data": {
      "text/markdown": [
       "\n",
       "|||\n",
       "|---:|:---|\n",
       "| [![arXiv](https://img.shields.io/badge/arXiv-arXiv:2209.12988-b31b1b.svg)](https://arxiv.org/abs/arXiv:2209.12988) | **Polytropic behavior in the structures of Interplanetary Coronal Mass  Ejections**  |\n",
       "|| <mark>Maher A Dayeh</mark>, <mark>George Livadiotis</mark> |\n",
       "|*Appeared on*| *2022-09-28*|\n",
       "|*Comments*| *9 pages, 3 figures*|\n",
       "|**Abstract**| The polytropic process characterizes the thermodynamics of space plasma particle populations. The polytropic index, ${\\gamma}$, is particularly important as it describes the thermodynamic behavior of the system by quantifying the changes in temperature as the system is compressed or expanded. Using Wind spacecraft plasma and magnetic field data during $01/1995 - 12/2018$, we investigate the thermodynamic evolution in 336 Interplanetary Coronal Mass Ejection (ICME) events. For each event, we derive the index ${\\gamma}$ in the sheath and magnetic ejecta structures, along with the pre- and post- event regions. We then examine the distributions of all ${\\gamma}$ indices in these four regions and derive the entropic gradient of each, which is indicative of the ambient heating. We find that in the ICME sheath region, where wave turbulence is expected to be highest, the thermodynamics takes longest to recover into the original quasi-adiabatic process, while it recovers faster in the quieter ejecta region. This pattern creates a thermodynamic cycle, featuring a near adiabatic value ${\\gamma}$ ~ ${\\gamma}$${_a}$ (=5/3) upstream of the ICMEs, ${\\gamma}$${_a}$ - ${\\gamma}$ ~ 0.26 in the sheaths, ${\\gamma}$${_a}$ - ${\\gamma}$ ~ 0.13 in the ICME ejecta, and recovers again to ${\\gamma}$ ~ ${\\gamma}$${_a}$ after the passage of the ICME. These results expose the turbulent heating rates in the ICME plasma: the lower the polytropic index from its adiabatic value and closer to its isothermal value, the larger the entropic gradient, and thus, the rate of turbulent heating that heats the ICME plasma. |\n",
       "|<p style=\"color:red\"> **ERROR** </p>| <p style=\"color:red\">latex error not a gzip file</p> |"
      ],
      "text/plain": [
       "<IPython.core.display.Markdown object>"
      ]
     },
     "metadata": {},
     "output_type": "display_data"
    },
    {
     "data": {
      "text/markdown": [
       "\n",
       "|||\n",
       "|---:|:---|\n",
       "| [![arXiv](https://img.shields.io/badge/arXiv-arXiv:2209.13163-b31b1b.svg)](https://arxiv.org/abs/arXiv:2209.13163) | **Design and test results of scientific X-ray CMOS cameras**  |\n",
       "|| Wenxin Wang, et al. -- incl., <mark>Zhixing Ling</mark>, <mark>Chen Zhang</mark>, <mark>Shuang-Nan Zhang</mark> |\n",
       "|*Appeared on*| *2022-09-28*|\n",
       "|*Comments*| *7 pages, 5 figures, published by Proc SPIE 2022*|\n",
       "|**Abstract**| In recent years, scientific CMOS (sCMOS) sensors have found increasing applications to X-ray detection, including X-ray astronomical observations. In order to examine the performance of sCMOS sensors, we have developed X-ray cameras based on sCMOS sensors. Two cameras, CNX22 and CNX 66, have been developed using sCMOS sensors with a photosensitive area of 2 cm * 2 cm and 6 cm * 6 cm, respectively. The designs of the cameras are presented in this paper. The CNX22 camera has a frame rate of 48 fps, whereas CNX66 has a frame rate of currently 20 fps, that can be boosted to 100 fps in the future. The operating temperature of the sCMOS sensor can reach to -20C for CNX22 and -30C for CNX66 with a peltier cooler device. In addition to the commonly used mode of saving original images, the cameras provide a mode of real-time extraction of X-ray events and storage their information, which significantly reduces the requirement for data storage and offline analysis work. For both cameras, the energy resolutions can reach less than 200 eV at 5.9 keV using single-pixel events. These cameras are suitable for X-ray spectroscopy applications in laboratories and calibration for the space X-ray telescopes. |\n",
       "|<p style=\"color:red\"> **ERROR** </p>| <p style=\"color:red\">latex error not a gzip file</p> |"
      ],
      "text/plain": [
       "<IPython.core.display.Markdown object>"
      ]
     },
     "metadata": {},
     "output_type": "display_data"
    }
   ],
   "source": [
    "import datetime\n",
    "today = str(datetime.date.today())\n",
    "logfile = f\"_build/html/logs/log-{today}.md\"\n",
    "\n",
    "\n",
    "with open(logfile, 'w') as logs:\n",
    "    # Success\n",
    "    logs.write(f'# Arxiv on Deck 2: Logs - {today}\\n\\n')\n",
    "    logs.write(\"\"\"* Arxiv had {0:,d} new papers\\n\"\"\".format(len(new_papers)))\n",
    "    logs.write(\"\"\"    * {0:,d} with possible author matches\\n\\n\"\"\".format(len(candidates)))\n",
    "    logs.write(\"## Sucessful papers\\n\\n\")\n",
    "    display(Markdown(\"## Successful papers\"))\n",
    "    success = [k[0] for k in documents]\n",
    "    for candid in candidates:\n",
    "        if candid['identifier'].split(':')[-1] in success:\n",
    "            display(candid)\n",
    "            logs.write(candid.generate_markdown_text() + '\\n\\n')\n",
    "\n",
    "    ## failed\n",
    "    logs.write(\"## Failed papers\\n\\n\")\n",
    "    display(Markdown(\"## Failed papers\"))\n",
    "    failed = sorted(failed, key=lambda x: x[1])\n",
    "    current_reason = \"\"\n",
    "    for paper, reason in failed:\n",
    "        if 'affiliation' in reason:\n",
    "            color = 'green'\n",
    "        else:\n",
    "            color = 'red'\n",
    "        data = Markdown(\n",
    "                paper.generate_markdown_text() + \n",
    "                f'\\n|<p style=\"color:{color:s}\"> **ERROR** </p>| <p style=\"color:{color:s}\">{reason:s}</p> |'\n",
    "               )\n",
    "        if reason != current_reason:\n",
    "            logs.write(f'### {reason:s} \\n\\n')\n",
    "            current_reason = reason\n",
    "        logs.write(data.data + '\\n\\n')\n",
    "        \n",
    "        # only display here the important errors (all in logs)\n",
    "        # if color in ('red',):\n",
    "        display(data)"
   ]
  },
  {
   "cell_type": "markdown",
   "id": "472d20ee",
   "metadata": {
    "papermill": {
     "duration": 0.014911,
     "end_time": "2022-09-28T05:22:00.528425",
     "exception": false,
     "start_time": "2022-09-28T05:22:00.513514",
     "status": "completed"
    },
    "tags": []
   },
   "source": [
    "## Export documents\n",
    "\n",
    "We now write the .md files and export relevant images"
   ]
  },
  {
   "cell_type": "code",
   "execution_count": 7,
   "id": "d426aed9",
   "metadata": {
    "execution": {
     "iopub.execute_input": "2022-09-28T05:22:00.556881Z",
     "iopub.status.busy": "2022-09-28T05:22:00.556590Z",
     "iopub.status.idle": "2022-09-28T05:22:00.564932Z",
     "shell.execute_reply": "2022-09-28T05:22:00.564300Z"
    },
    "papermill": {
     "duration": 0.024528,
     "end_time": "2022-09-28T05:22:00.566641",
     "exception": false,
     "start_time": "2022-09-28T05:22:00.542113",
     "status": "completed"
    },
    "tags": []
   },
   "outputs": [],
   "source": [
    "def export_markdown_summary(md: str, md_fname:str, directory: str):\n",
    "    \"\"\"Export MD document and associated relevant images\"\"\"\n",
    "    import os\n",
    "    import shutil\n",
    "    import re\n",
    "\n",
    "    if (os.path.exists(directory) and not os.path.isdir(directory)):\n",
    "        raise RuntimeError(f\"a non-directory file exists with name {directory:s}\")\n",
    "\n",
    "    if (not os.path.exists(directory)):\n",
    "        print(f\"creating directory {directory:s}\")\n",
    "        os.mkdir(directory)\n",
    "\n",
    "    fig_fnames = (re.compile(r'\\[Fig.*\\]\\((.*)\\)').findall(md) + \n",
    "                  re.compile(r'\\<img src=\"([^>\\s]*)\"[^>]*/>').findall(md))\n",
    "    for fname in fig_fnames:\n",
    "        if 'http' in fname:\n",
    "            # No need to copy online figures\n",
    "            continue\n",
    "        destdir = os.path.join(directory, os.path.dirname(fname))\n",
    "        destfname = os.path.join(destdir, os.path.basename(fname))\n",
    "        try:\n",
    "            os.makedirs(destdir)\n",
    "        except FileExistsError:\n",
    "            pass\n",
    "        shutil.copy(fname, destfname)\n",
    "    with open(os.path.join(directory, md_fname), 'w') as fout:\n",
    "        fout.write(md)\n",
    "    print(\"exported in \", os.path.join(directory, md_fname))\n",
    "    [print(\"    + \" + os.path.join(directory,fk)) for fk in fig_fnames]"
   ]
  },
  {
   "cell_type": "code",
   "execution_count": 8,
   "id": "014d04a4",
   "metadata": {
    "execution": {
     "iopub.execute_input": "2022-09-28T05:22:00.592136Z",
     "iopub.status.busy": "2022-09-28T05:22:00.591377Z",
     "iopub.status.idle": "2022-09-28T05:22:00.602989Z",
     "shell.execute_reply": "2022-09-28T05:22:00.602340Z"
    },
    "papermill": {
     "duration": 0.026078,
     "end_time": "2022-09-28T05:22:00.604547",
     "exception": false,
     "start_time": "2022-09-28T05:22:00.578469",
     "status": "completed"
    },
    "tags": []
   },
   "outputs": [
    {
     "name": "stdout",
     "output_type": "stream",
     "text": [
      "exported in  _build/html/2209.12906.md\n",
      "    + _build/html/tmp_2209.12906/./figs/results/totglob_multiband2.png\n",
      "    + _build/html/tmp_2209.12906/./figs/results/totglob_multiband1_B.png\n",
      "    + _build/html/tmp_2209.12906/./figs/results/summary_aB.png\n",
      "    + _build/html/tmp_2209.12906/./figs/results/summary_aD.png\n",
      "    + _build/html/tmp_2209.12906/./figs/results/summary_aO.png\n"
     ]
    },
    {
     "name": "stdout",
     "output_type": "stream",
     "text": [
      "exported in  _build/html/2209.13336.md\n",
      "    + _build/html/tmp_2209.13336/./figs/formilium_3par/explanation.png\n",
      "    + _build/html/tmp_2209.13336/./figs/formilium_3par/HCO+_2d.png\n",
      "    + _build/html/tmp_2209.13336/./figs/formilium_3par/DCO+_2d.png\n",
      "    + _build/html/tmp_2209.13336/./figs/formilium_3par/e-_2d.png\n",
      "    + _build/html/tmp_2209.13336/./figs/formilium_4par/CO_2d.png\n",
      "    + _build/html/tmp_2209.13336/./figs/formilium_4par/HCO+_2d.png\n",
      "    + _build/html/tmp_2209.13336/./figs/formilium_4par/DCO+_2d.png\n",
      "    + _build/html/tmp_2209.13336/./figs/formilium_4par/e-_2d.png\n"
     ]
    }
   ],
   "source": [
    "for paper_id, md in documents:\n",
    "    export_markdown_summary(md, f\"{paper_id:s}.md\", '_build/html/')"
   ]
  },
  {
   "cell_type": "markdown",
   "id": "f087a0a7",
   "metadata": {
    "papermill": {
     "duration": 0.012068,
     "end_time": "2022-09-28T05:22:00.628584",
     "exception": false,
     "start_time": "2022-09-28T05:22:00.616516",
     "status": "completed"
    },
    "tags": []
   },
   "source": [
    "## Display the papers\n",
    "\n",
    "Not necessary but allows for a quick check."
   ]
  },
  {
   "cell_type": "code",
   "execution_count": 9,
   "id": "fd25f625",
   "metadata": {
    "execution": {
     "iopub.execute_input": "2022-09-28T05:22:00.654229Z",
     "iopub.status.busy": "2022-09-28T05:22:00.653670Z",
     "iopub.status.idle": "2022-09-28T05:22:00.659988Z",
     "shell.execute_reply": "2022-09-28T05:22:00.659315Z"
    },
    "papermill": {
     "duration": 0.020962,
     "end_time": "2022-09-28T05:22:00.661491",
     "exception": false,
     "start_time": "2022-09-28T05:22:00.640529",
     "status": "completed"
    },
    "scrolled": false,
    "tags": []
   },
   "outputs": [
    {
     "data": {
      "text/markdown": [
       "<div class=\"macros\" style=\"visibility:hidden;\">\n",
       "$\\newcommand{\\ensuremath}{}$\n",
       "$\\newcommand{\\xspace}{}$\n",
       "$\\newcommand{\\object}[1]{\\texttt{#1}}$\n",
       "$\\newcommand{\\farcs}{{.}''}$\n",
       "$\\newcommand{\\farcm}{{.}'}$\n",
       "$\\newcommand{\\arcsec}{''}$\n",
       "$\\newcommand{\\arcmin}{'}$\n",
       "$\\newcommand{\\ion}[2]{#1#2}$\n",
       "$\\newcommand{\\textsc}[1]{\\textrm{#1}}$\n",
       "$\\newcommand{\\hl}[1]{\\textrm{#1}}$\n",
       "$\\newcommand{\\sersics}{S\\'ersic }$\n",
       "$\\newcommand{\\bts}{{\\rm b}/{\\rm t} }$\n",
       "$\\newcommand{\\bt}{{\\rm b}/{\\rm t}}$\n",
       "$\\newcommand{\\btm}{{\\rm b}/{\\rm t}}$\n",
       "$\\newcommand{\\sersic}{S\\'ersic}$</div>\n",
       "\n",
       "<div class=\"macros\" style=\"visibility:hidden;\">\n",
       "$\\newcommand{$\\ensuremath$}{}$\n",
       "$\\newcommand{$\\xspace$}{}$\n",
       "$\\newcommand{$\\object$}[1]{\\texttt{#1}}$\n",
       "$\\newcommand{$\\farcs$}{{.}''}$\n",
       "$\\newcommand{$\\farcm$}{{.}'}$\n",
       "$\\newcommand{$\\arcsec$}{''}$\n",
       "$\\newcommand{$\\arcmin$}{'}$\n",
       "$\\newcommand{$\\ion$}[2]{#1#2}$\n",
       "$\\newcommand{$\\textsc$}[1]{\\textrm{#1}}$\n",
       "$\\newcommand{$\\hl$}[1]{\\textrm{#1}}$\n",
       "$\\newcommand{$\\sersics$}{S\\'ersic }$\n",
       "$\\newcommand{$\\bts$}{{\\rm b}/{\\rm t} }$\n",
       "$\\newcommand{$\\bt$}{{\\rm b}/{\\rm t}}$\n",
       "$\\newcommand{$\\bt$m}{{\\rm b}/{\\rm t}}$\n",
       "$\\newcommand{$\\sersic$}{S\\'ersic}$</div>\n",
       "\n",
       "\n",
       "\n",
       "<div id=\"title\">\n",
       "\n",
       "#  Morphology Challenge -- Towards model-fitting photometry for billions of galaxies\n",
       "\n",
       "</div>\n",
       "<div id=\"comments\">\n",
       "\n",
       "[![arXiv](https://img.shields.io/badge/arXiv-2209.12906-b31b1b.svg)](https://arxiv.org/abs/2209.12906)<mark>Appeared on: 2022-09-28</mark> - _29 pages, 33 figures. Euclid pre-launch key paper. Companion paper: Bretonniere et al. 2022_\n",
       "\n",
       "</div>\n",
       "<div id=\"authors\">\n",
       "\n",
       "Euclid Collaboration, et al. -- incl., <mark><mark>D. Hernández-Lang</mark></mark>\n",
       "\n",
       "</div>\n",
       "<div id=\"abstract\">\n",
       "\n",
       "**Abstract:** The European Space Agency's\\Euclidmission will provide high-quality imaging for about$1.5$billion galaxies. A software pipeline to automatically process and analyse such a huge amount of data in real time is being developed by the Science Ground Segment of the Euclid Consortium; this pipeline will include a model-fitting algorithm, which will provide photometric and morphological estimates of paramount importance for the core science goals of the mission and for legacy science.   The Euclid Morphology Challenge is a comparative investigation of the performance of five model-fitting software packages on simulated\\Eucliddata, aimed at providing the baseline to identify the best suited algorithm to be implemented in the pipeline. In this paper we describe the simulated data set, and we discuss the photometry results. A companion paper (Euclid Collaboration: Bretonni\\`ere et al. 2022) is focused on the structural and morphological estimates.   We created mock\\Euclidimages simulating five fields of view of 0.48 deg$^2$each in the$I_{\\scriptscriptstyle\\rm E}$band of the VIS instrument, containing a total of about one and a half million galaxies (of which 350 000 have nominal signal-to-noise ratio above$5$), each with three realisations of galaxy profiles (single and double$\\sersic$, and `realistic' profiles obtained with a neural network); for one of the fields in the double$\\sersics$realisation, we also simulated images for the three near-infrared$Y_{\\scriptscriptstyle\\rm E}$,$J_{\\scriptscriptstyle\\rm E}$and$H_{\\scriptscriptstyle\\rm E}$bands of the NISP-P instrument, and five Rubin/LSST optical complementary bands ($u$,$g$,$r$,$i$, and$z$), which together form a typical data set for a\\Euclidobservation. The images were simulated at the expected\\EuclidWide Survey depths. To analyse the results we created diagnostic plots and defined metrics to take into account the completeness of the provided catalogues, and the median biases, dispersions, and outlier fractions of their measured flux distributions.   Five model-fitting software packages (\\texttt{DeepLeGATo},\\texttt{Galapagos-2},\\texttt{Morfometryka},\\texttt{ProFit}, and\\texttt{SourceXtractor++}) were compared, all typically providing good results. Of the differences among them, some were  at least partly due to the distinct strategies adopted to perform the measurements. In the best case scenario, the median bias of the measured fluxes in the analytical profile realisations is below 1\\%at signal-to-noise ratio above 5 in$I_{\\scriptscriptstyle\\rm E}$, and above 10 in all the other bands; the dispersion of the distribution is typically comparable to the theoretically expected one, with a small fraction of catastrophic outliers. However, we can expect that real observations will prove to be more demanding, since the results were found to be less accurate on the most realistic realisation.   We conclude that existing model-fitting software can provide accurate photometric measurements on\\Eucliddata sets. The results of the challenge are fully available and reproducible through an online plotting tool.\n",
       "\n",
       "</div>\n",
       "\n",
       "<div id=\"div_fig1\">\n",
       "\n",
       "<img src=\"tmp_2209.12906/./figs/results/totglob_multiband2.png\" alt=\"Fig6\" width=\"100%\"/>\n",
       "\n",
       "**Figure 6. -** Same as Fig. \\ref{summ1}, for LSST bands. Top to bottom: $u$, $g$, $r$, $i$, $z$. Note the different $y$-- axis scales. (*summ2*)\n",
       "\n",
       "</div>\n",
       "<div id=\"div_fig2\">\n",
       "\n",
       "<img src=\"tmp_2209.12906/./figs/results/totglob_multiband1_B.png\" alt=\"Fig7\" width=\"100%\"/>\n",
       "\n",
       "**Figure 7. -** Trends for bulges only, in the multi-band DSb4 fit, for $I_{\\scriptscriptstyle\\rm E}$ and the NIR bands. Left to right: median bias $\\mathcal{B}$; dispersion (standard deviation) $\\mathcal{D}$; and fraction of outliers $\\mathcal{O}$. Top to bottom: $I_{\\scriptscriptstyle\\rm E}$, $Y_{\\scriptscriptstyle\\rm E}$, $J_{\\scriptscriptstyle\\rm E}$, and $H_{\\scriptscriptstyle\\rm E}$. Each line and colour correspond to a different code as indicated in the legends; note the different $y$-axis scales. (*summ3a*)\n",
       "\n",
       "</div>\n",
       "<div id=\"div_fig3\">\n",
       "\n",
       "<img src=\"tmp_2209.12906/./figs/results/summary_aB.png\" alt=\"Fig23.1\" width=\"33%\"/><img src=\"tmp_2209.12906/./figs/results/summary_aD.png\" alt=\"Fig23.2\" width=\"33%\"/><img src=\"tmp_2209.12906/./figs/results/summary_aO.png\" alt=\"Fig23.3\" width=\"33%\"/>\n",
       "\n",
       "**Figure 23. -** Visual summary of the diagnostic quantities: (left to right) absolute value of the median bias ($\\mathcal{B}$), average ratio of $\\sigma_{\\rm meas}$ and $\\sigma_{\\rm true}$($\\mathcal{D}$), and outlier fraction ($\\mathcal{O}$). In the bias panel, the points corresponding to \\texttt{ProFit} DS multi-band runs are not shown, being off the scale (their values are 0.49 and 0.44, respectively). See text for details. (*summaryb*)\n",
       "\n",
       "</div>"
      ],
      "text/plain": [
       "<IPython.core.display.Markdown object>"
      ]
     },
     "metadata": {},
     "output_type": "display_data"
    },
    {
     "data": {
      "text/markdown": [
       "<div class=\"macros\" style=\"visibility:hidden;\">\n",
       "$\\newcommand{\\ensuremath}{}$\n",
       "$\\newcommand{\\xspace}{}$\n",
       "$\\newcommand{\\object}[1]{\\texttt{#1}}$\n",
       "$\\newcommand{\\farcs}{{.}''}$\n",
       "$\\newcommand{\\farcm}{{.}'}$\n",
       "$\\newcommand{\\arcsec}{''}$\n",
       "$\\newcommand{\\arcmin}{'}$\n",
       "$\\newcommand{\\ion}[2]{#1#2}$\n",
       "$\\newcommand{\\textsc}[1]{\\textrm{#1}}$\n",
       "$\\newcommand{\\hl}[1]{\\textrm{#1}}$\n",
       "$\\newcommand{\\hcop}[0]{HCO^+}$\n",
       "$\\newcommand{\\dcop}[0]{DCO^+}$\n",
       "$\\newcommand{\\hncop}[0]{H^{13}CO^+}$\n",
       "$\\newcommand{\\electr}[0]{e^-}$\n",
       "$\\newcommand{\\co}[0]{CO}$\n",
       "$\\newcommand{\\ico}[0]{^{13}CO}$\n",
       "$\\newcommand{\\cio}[0]{C^{18}O}$</div>\n",
       "\n",
       "<div class=\"macros\" style=\"visibility:hidden;\">\n",
       "$\\newcommand{$\\ensuremath$}{}$\n",
       "$\\newcommand{$\\xspace$}{}$\n",
       "$\\newcommand{$\\object$}[1]{\\texttt{#1}}$\n",
       "$\\newcommand{$\\farcs$}{{.}''}$\n",
       "$\\newcommand{$\\farcm$}{{.}'}$\n",
       "$\\newcommand{$\\arcsec$}{''}$\n",
       "$\\newcommand{$\\arcmin$}{'}$\n",
       "$\\newcommand{$\\ion$}[2]{#1#2}$\n",
       "$\\newcommand{$\\textsc$}[1]{\\textrm{#1}}$\n",
       "$\\newcommand{$\\hl$}[1]{\\textrm{#1}}$\n",
       "$\\newcommand{$\\hcop$}[0]{HCO^+}$\n",
       "$\\newcommand{$\\dcop$}[0]{DCO^+}$\n",
       "$\\newcommand{$\\hncop$}[0]{H^{13}CO^+}$\n",
       "$\\newcommand{$\\electr$}[0]{e^-}$\n",
       "$\\newcommand{$\\co$}[0]{CO}$\n",
       "$\\newcommand{$\\ico$}[0]{^{13}CO}$\n",
       "$\\newcommand{$\\cio$}[0]{C^{18}O}$</div>\n",
       "\n",
       "\n",
       "\n",
       "<div id=\"title\">\n",
       "\n",
       "# Machine learning-accelerated chemistry modeling of protoplanetary disks\n",
       "\n",
       "</div>\n",
       "<div id=\"comments\">\n",
       "\n",
       "[![arXiv](https://img.shields.io/badge/arXiv-2209.13336-b31b1b.svg)](https://arxiv.org/abs/2209.13336)<mark>Appeared on: 2022-09-28</mark> - _11 pages, 5 figures_\n",
       "\n",
       "</div>\n",
       "<div id=\"authors\">\n",
       "\n",
       "<mark>Grigorii V. Smirnov-Pinchukov</mark>, et al. -- incl., <mark>Dmitry A. Semenov</mark>, <mark>Sierk van Terwisga</mark>, <mark>Thomas Henning</mark>\n",
       "\n",
       "</div>\n",
       "<div id=\"abstract\">\n",
       "\n",
       "**Abstract:** Aims. With the large amount of molecular emission data from (sub)millimeter observatories and incoming James Webb Space Telescope infrared spectroscopy, access to fast forward models of the chemical composition of protoplanetary disks is of paramount importance. Methods. We used a thermo-chemical modeling code to generate a diverse population of protoplanetary disk models. We trained a K-nearest neighbors (KNN) regressor to instantly predict the chemistry of other disk models. Results. We show that it is possible to accurately reproduce chemistry using just a small subset of physical conditions, thanks to correlations between the local physical conditions in adopted protoplanetary disk models. We discuss the uncertainties and limitations of this method. Conclusions. The proposed method can be used for Bayesian fitting of the line emission data to retrieve disk properties from observations. We present a pipeline for reproducing the same approach on other disk chemical model sets. \n",
       "\n",
       "</div>\n",
       "\n",
       "<div id=\"div_fig1\">\n",
       "\n",
       "<img src=\"tmp_2209.13336/./figs/formilium_3par/explanation.png\" alt=\"Fig2\" width=\"100%\"/>\n",
       "\n",
       "**Figure 2. -** Performance of ML-accelerated chemistry predictions for CO. (a): mean $\\log_{10}$ predicted relative abundance as a function of local temperature, gas density, and ionization rate. Darker areas correspond to larger relative (to H atoms) abundance. (b): median of the difference between the predicted values and test set data (bias, dex), in dex, as a function of temperature and density. Gray areas correspond to an unbiased fit. (c): the standard deviation between the predicted values and test set data, in dex (std, dex). (d): relative density (histogram) of species within the data points, with contours, which are also present on other panels. Various regions of the protoplanetary disk are described on panel (a). A detailed description of the processes leading to this figure is in the main text. Other molecules are shown in Fig. \\ref{fig:ions}. (*fig:performance*)\n",
       "\n",
       "</div>\n",
       "<div id=\"div_fig2\">\n",
       "\n",
       "<img src=\"tmp_2209.13336/./figs/formilium_3par/HCO+_2d.png\" alt=\"Fig3.1\" width=\"33%\"/><img src=\"tmp_2209.13336/./figs/formilium_3par/DCO+_2d.png\" alt=\"Fig3.2\" width=\"33%\"/><img src=\"tmp_2209.13336/./figs/formilium_3par/e-_2d.png\" alt=\"Fig3.3\" width=\"33%\"/>\n",
       "\n",
       "**Figure 3. -** Performance of ML-accelerated chemistry predictions for $\\hcop$ , $\\dcop$ , and electrons. (*fig:ions*)\n",
       "\n",
       "</div>\n",
       "<div id=\"div_fig3\">\n",
       "\n",
       "<img src=\"tmp_2209.13336/./figs/formilium_4par/CO_2d.png\" alt=\"Fig4.1\" width=\"25%\"/><img src=\"tmp_2209.13336/./figs/formilium_4par/HCO+_2d.png\" alt=\"Fig4.2\" width=\"25%\"/><img src=\"tmp_2209.13336/./figs/formilium_4par/DCO+_2d.png\" alt=\"Fig4.3\" width=\"25%\"/><img src=\"tmp_2209.13336/./figs/formilium_4par/e-_2d.png\" alt=\"Fig4.4\" width=\"25%\"/>\n",
       "\n",
       "**Figure 4. -** Effect of adding UV radiation strength to the set of input features. The panels show the performance of ML-accelerated chemistry predictions, as in Fig. \\ref{fig:performance}. Adding UV radiation strength increases the accuracy of the fit, but only slightly in the areas of the parameter space dominated by the selected molecules. Depending on the molecular species and constraints on calculation time, it is not necessary to use UV as a parameter. (*fig:ions4*)\n",
       "\n",
       "</div>"
      ],
      "text/plain": [
       "<IPython.core.display.Markdown object>"
      ]
     },
     "metadata": {},
     "output_type": "display_data"
    }
   ],
   "source": [
    "[display(Markdown(k[1])) for k in documents];"
   ]
  },
  {
   "cell_type": "markdown",
   "id": "873873a4",
   "metadata": {
    "papermill": {
     "duration": 0.01254,
     "end_time": "2022-09-28T05:22:00.687075",
     "exception": false,
     "start_time": "2022-09-28T05:22:00.674535",
     "status": "completed"
    },
    "tags": []
   },
   "source": [
    "# Create HTML index"
   ]
  },
  {
   "cell_type": "code",
   "execution_count": 10,
   "id": "cf665672",
   "metadata": {
    "execution": {
     "iopub.execute_input": "2022-09-28T05:22:00.713822Z",
     "iopub.status.busy": "2022-09-28T05:22:00.713423Z",
     "iopub.status.idle": "2022-09-28T05:22:00.724287Z",
     "shell.execute_reply": "2022-09-28T05:22:00.723728Z"
    },
    "papermill": {
     "duration": 0.026348,
     "end_time": "2022-09-28T05:22:00.725861",
     "exception": false,
     "start_time": "2022-09-28T05:22:00.699513",
     "status": "completed"
    },
    "tags": []
   },
   "outputs": [
    {
     "name": "stdout",
     "output_type": "stream",
     "text": [
      "47  publications in the last 7 days.\n",
      "\t _build/html/2209.13336.md\n",
      "\t _build/html/2209.12906.md\n",
      "\t _build/html/2209.11781.md\n",
      "\t _build/html/2209.11602.md\n",
      "\t _build/html/2209.11248.md\n",
      "\t _build/html/2209.11096.md\n",
      "\t _build/html/2209.10618.md\n",
      "\t _build/html/2209.09914.md\n",
      "\t _build/html/2209.09823.md\n",
      "\t _build/html/2209.08242.md\n",
      "\t _build/html/2209.08120.md\n",
      "\t _build/html/2209.08106.md\n",
      "\t _build/html/2209.07962.md\n",
      "\t _build/html/2209.07931.md\n",
      "\t _build/html/2209.06833.md\n",
      "\t _build/html/2209.05814.md\n",
      "\t _build/html/2209.05593.md\n",
      "\t _build/html/2209.04304.md\n",
      "\t _build/html/2209.03367.md\n",
      "\t _build/html/2209.02872.md\n",
      "\t _build/html/2209.02725.md\n",
      "\t _build/html/2209.02722.md\n",
      "\t _build/html/2209.02092.md\n",
      "\t _build/html/2209.01125.md\n",
      "\t _build/html/2209.00828.md\n",
      "\t _build/html/2209.00363.md\n",
      "\t _build/html/2208.14927.md\n",
      "\t _build/html/2208.09335.md\n",
      "\t _build/html/2208.08872.md\n",
      "\t _build/html/2204.06393.md\n",
      "\t _build/html/2204.03335.md\n",
      "\t _build/html/2204.03253.md\n",
      "\t _build/html/2204.02998.md\n",
      "\t _build/html/2204.02109.md\n",
      "\t _build/html/2204.02017.md\n",
      "\t _build/html/2204.01824.md\n",
      "\t _build/html/2204.01758.md\n",
      "\t _build/html/2204.01245.md\n",
      "\t _build/html/2204.00793.md\n",
      "\t _build/html/2204.00342.md\n",
      "\t _build/html/2203.16959.md\n",
      "\t _build/html/2203.16856.md\n",
      "\t _build/html/2203.16735.md\n",
      "\t _build/html/2203.16734.md\n",
      "\t _build/html/2203.16504.md\n",
      "\t _build/html/2203.15822.md\n",
      "\t _build/html/2203.15811.md\n"
     ]
    }
   ],
   "source": [
    "from datetime import datetime, timedelta, timezone\n",
    "from glob import glob\n",
    "\n",
    "files = glob('_build/html/*.md')\n",
    "days = 7\n",
    "now = datetime.today()\n",
    "res = []\n",
    "for fk in files:\n",
    "    stat_result = os.stat(fk).st_ctime\n",
    "    modified = datetime.fromtimestamp(stat_result, tz=timezone.utc).replace(tzinfo=None)\n",
    "    delta = now.today() - modified\n",
    "    if delta <= timedelta(days=days):\n",
    "        res.append((delta.seconds, fk))\n",
    "res = [k[1] for k in reversed(sorted(res, key=lambda x:x[1]))]\n",
    "npub = len(res)\n",
    "print(len(res), f\" publications in the last {days:d} days.\")\n",
    "[ print('\\t', k) for k in res ];"
   ]
  },
  {
   "cell_type": "code",
   "execution_count": 11,
   "id": "52ca0208",
   "metadata": {
    "execution": {
     "iopub.execute_input": "2022-09-28T05:22:00.780734Z",
     "iopub.status.busy": "2022-09-28T05:22:00.780075Z",
     "iopub.status.idle": "2022-09-28T05:22:00.786773Z",
     "shell.execute_reply": "2022-09-28T05:22:00.786102Z"
    },
    "papermill": {
     "duration": 0.022014,
     "end_time": "2022-09-28T05:22:00.788303",
     "exception": false,
     "start_time": "2022-09-28T05:22:00.766289",
     "status": "completed"
    },
    "scrolled": false,
    "tags": []
   },
   "outputs": [],
   "source": [
    "def create_carousel(npub=4):\n",
    "    \"\"\" Generate the HTML code for a carousel with `npub` slides \"\"\"\n",
    "    carousel = [\"\"\"<section class=\"carousel\" aria-label=\"Gallery\">\"\"\",\n",
    "                \"\"\"  <ol class=\"carousel__viewport\">\"\"\",\n",
    "    ]\n",
    "    for k in range(1, npub + 1):\n",
    "        prev_ = k - 1\n",
    "        next_ = k + 1\n",
    "        if prev_ <= 0:\n",
    "            prev_ = npub\n",
    "        if next_ > npub:\n",
    "            next_ = 1\n",
    "        text  = f\"\"\"    <li id=\"carousel__slide{k}\" tabindex=\"0\" class=\"carousel__slide\">\\n\"\"\"\n",
    "        text += f\"\"\"       <div class=\"carousel__snapper\">\\n\"\"\"\n",
    "        text += f\"\"\"         <a href=\"#carousel__slide{prev_}\" class=\"carousel__prev\">Go to previous slide</a>\\n\"\"\"\n",
    "        text += f\"\"\"         <a href=\"#carousel__slide{next_}\" class=\"carousel__next\">Go to next slide</a>\\n\"\"\"\n",
    "        text += f\"\"\"         <div id=\"slide{k}_content\" class=\"md_view\" >Content {k}</div>\\n\"\"\"\n",
    "        text += f\"\"\"       </div>\\n\"\"\"\n",
    "        text += f\"\"\"    </li>\"\"\"\n",
    "        carousel.append(text)\n",
    "\n",
    "    carousel.extend([\n",
    "        \"\"\"  </ol>\"\"\",\n",
    "        \"\"\"  <aside class=\"carousel__navigation\">\"\"\",\n",
    "        \"\"\"    <ol class=\"carousel__navigation-list\">\"\"\"])\n",
    "\n",
    "    for k in range(1, npub + 1):\n",
    "        text  = f\"\"\"      <li class=\"carousel__navigation-item\">\\n\"\"\"\n",
    "        text += f\"\"\"        <a href=\"#carousel__slide{k}\" class=\"carousel__navigation-button\">Go to {k}</a>\\n\"\"\"\n",
    "        text += f\"\"\"      </li>\"\"\"\n",
    "        carousel.append(text)\n",
    "    carousel.extend([\"\"\"    </ol>\"\"\", \"\"\"  </aside>\"\"\", \"\"\"</section>\"\"\"])\n",
    "\n",
    "    return '\\n'.join(carousel)"
   ]
  },
  {
   "cell_type": "code",
   "execution_count": 12,
   "id": "a6eac5b6",
   "metadata": {
    "execution": {
     "iopub.execute_input": "2022-09-28T05:22:00.814793Z",
     "iopub.status.busy": "2022-09-28T05:22:00.814296Z",
     "iopub.status.idle": "2022-09-28T05:22:00.820714Z",
     "shell.execute_reply": "2022-09-28T05:22:00.820088Z"
    },
    "papermill": {
     "duration": 0.02128,
     "end_time": "2022-09-28T05:22:00.822159",
     "exception": false,
     "start_time": "2022-09-28T05:22:00.800879",
     "status": "completed"
    },
    "scrolled": false,
    "tags": []
   },
   "outputs": [],
   "source": [
    "carousel = create_carousel(npub)\n",
    "docs = ', '.join(['\"{0:s}\"'.format(k.split('/')[-1]) for k in res])\n",
    "slides = ', '.join([f'\"slide{k}_content\"' for k in range(1, npub + 1)])\n",
    "\n",
    "script = f\"\"\"\n",
    "const docs = [{docs}]\n",
    "\n",
    "const slides = [{slides}]\n",
    "\"\"\" + \"\"\"\n",
    "async function run() {\n",
    "    for (let i = 0; i < docs.length; i++) {\n",
    "        let file = await fetch(docs[i]);\n",
    "        let text = await file.text()\n",
    "        document.getElementById(slides[i]).innerHTML =\n",
    "            marked.parse(text);\n",
    "    }\n",
    "    hljs.highlightAll();\n",
    "}\n",
    "run()\n",
    "\"\"\"\n",
    "\n",
    "page = f\"\"\"<!doctype html>\n",
    "<html lang=\"en\">\n",
    "\n",
    "<head>\n",
    "  <meta charset=\"utf-8\">\n",
    "  <meta name=\"viewport\" content=\"width=device-width, initial-scale=1\">\n",
    "  <!-- Bootstrap CSS -->\n",
    "  <link href=\"https://cdn.jsdelivr.net/npm/bootstrap@5.0.2/dist/css/bootstrap.min.css\" rel=\"stylesheet\"\n",
    "   integrity=\"sha384-EVSTQN3/azprG1Anm3QDgpJLIm9Nao0Yz1ztcQTwFspd3yD65VohhpuuCOmLASjC\" crossorigin=\"anonymous\">\n",
    "  <!-- highlight.js CSS -->\n",
    "  <link rel=\"stylesheet\" href=\"https://cdnjs.cloudflare.com/ajax/libs/highlight.js/11.1.0/styles/default.min.css\">\n",
    "  <!-- Mathjax 3 -->\n",
    "  <script type=\"text/javascript\" id=\"MathJax-config\" src=\"mathjax_config.js\"> </script>\n",
    "  <script type=\"text/javascript\" id=\"MathJax-script\" async \n",
    "    src=\"https://cdn.jsdelivr.net/npm/mathjax@3/es5/tex-mml-chtml.js\">\n",
    "  </script>\n",
    "  <link rel=\"stylesheet\" href=\"index_carousel.css\">\n",
    "  <link rel=\"icon\" type=\"image/x-icon\" href=\"https://www.mpia.de/assets/touch-icon-32x32-a66937bcebc4e8894ebff1f41a366c7c7220fd97a38869ee0f2db65a9f59b6c1.png\">\n",
    "  <title>MPIA Arxiv on deck!</title>\n",
    "</head>\n",
    "\n",
    "<body>\n",
    "  <div id=\"header\"> <img src=\"header_banner.png\" width=\"100%\"></div>\n",
    "  <div id=\"suptitle\"> 7-day archives </div>\n",
    "  <div id=\"info\">\n",
    "    <img src=\"https://pngimg.com/uploads/github/github_PNG58.png\" height=30rem></img>\n",
    "    <a href=https://github.com/mpi-astronomy/arxiv_display style=\"color:black;\">github/mpi-astronomy/arxiv_display</a> \n",
    "  </div>\n",
    "  {carousel:s}\n",
    "</body>\n",
    "\n",
    "<!-- Render Markdown -->\n",
    "\n",
    "<body>\n",
    "  <!-- highlight.js: https://highlightjs.org/download/ -->\n",
    "  <script src=\"https://cdnjs.cloudflare.com/ajax/libs/highlight.js/11.5.0/highlight.min.js\"></script>\n",
    "  <!-- marked.js -->\n",
    "  <script src=\"https://cdn.jsdelivr.net/npm/marked/marked.min.js\"></script>\n",
    "  <script>{script:s}</script>\n",
    "</body>\n",
    "</html>\n",
    "\"\"\"\n",
    "with open(\"_build/html/index_7days.html\", 'w') as fout:\n",
    "    fout.write(page)"
   ]
  },
  {
   "cell_type": "markdown",
   "id": "1cebacbc",
   "metadata": {
    "papermill": {
     "duration": 0.012534,
     "end_time": "2022-09-28T05:22:00.847542",
     "exception": false,
     "start_time": "2022-09-28T05:22:00.835008",
     "status": "completed"
    },
    "tags": []
   },
   "source": [
    "# Debugging papers"
   ]
  },
  {
   "cell_type": "raw",
   "id": "debe7cc6",
   "metadata": {
    "papermill": {
     "duration": 0.012538,
     "end_time": "2022-09-28T05:22:00.872530",
     "exception": false,
     "start_time": "2022-09-28T05:22:00.859992",
     "status": "completed"
    },
    "tags": []
   },
   "source": [
    "raise NotImplementedError(\"Manual Stop\")"
   ]
  },
  {
   "cell_type": "raw",
   "id": "eb169192",
   "metadata": {
    "papermill": {
     "duration": 0.012538,
     "end_time": "2022-09-28T05:22:00.897566",
     "exception": false,
     "start_time": "2022-09-28T05:22:00.885028",
     "status": "completed"
    },
    "scrolled": true,
    "tags": []
   },
   "source": [
    "from IPython.display import display, Markdown\n",
    "from TexSoup import TexSoup\n",
    "import re\n",
    "\n",
    "def bracket_error(source: str):\n",
    "    \"\"\" Find problematic portions of the document \"\"\"\n",
    "    \n",
    "    print(\"len(source)\", len(source))\n",
    "    \n",
    "    # Checking header\n",
    "    begin_doc = next(re.finditer(r'\\\\begin\\{document\\}', doc.source)).span()[1]\n",
    "    header = source[:begin_doc]\n",
    "    text = header + r\"\\n\\end{document}\"\n",
    "\n",
    "    try:\n",
    "        # print(\"Header check... \", end='')\n",
    "        TexSoup(text)\n",
    "        display(Markdown(f\"**[OK]** - Header\"))\n",
    "    except:\n",
    "        raise RuntimeError(\"Error in the header\")\n",
    "        \n",
    "    # Check the text per section until the end.\n",
    "    # Do not stop and try them all.\n",
    "    \n",
    "    problematic_text = []\n",
    "    \n",
    "    sections = ([(0, begin_doc, 'until first section')] + \n",
    "                [(g.span()[0], g.span()[1], g.group()) for g in re.finditer(r'\\\\section\\{.*\\}', source)] +\n",
    "                [(g.span()[0], g.span()[1], g.group()) for g in re.finditer(r'\\\\begin\\{appendix\\}', source)]\n",
    "               )\n",
    "    sections.append([len(source), len(source), 'end'])\n",
    "    \n",
    "    sections = sorted(sections, key=lambda x: x[0])\n",
    "    \n",
    "    prev_pos, prev_name = (0, 'header')\n",
    "    parsed = []\n",
    "    \n",
    "    for span, span_end, name in sections:\n",
    "\n",
    "        if span - prev_pos <= 0:\n",
    "            continue\n",
    "            \n",
    "\n",
    "        text = source[prev_pos:span]\n",
    "        if prev_pos > begin_doc:\n",
    "            text = r\"\\n\\begin{document}\" + text + r\"\\n\\end{document}\"\n",
    "        else:\n",
    "            text = text + r\"\\n\\end{document}\"\n",
    "        try:\n",
    "            #print(f\"{prev_pos}:{prev_name}-->{span}:{name} check... \", end='')\n",
    "            parsed.append(TexSoup(text, tolerance=1))  # allow not ending env\n",
    "            display(Markdown(f\"**[OK]** - *{prev_pos}*:{prev_name} &rarr; *{span}*:{name}\"))\n",
    "            # print(\"ok\")\n",
    "\n",
    "            prev_pos = span\n",
    "            prev_name = name\n",
    "        except:\n",
    "            # print(f\"error between {prev_pos} and {span}\")\n",
    "            display(Markdown(f\"**[ERR]** *{prev_pos}*:{prev_name} &rarr; *{span}*:{name}\"))\n",
    "            problematic_text.append((prev_pos, source[prev_pos:span]))\n",
    "            prev_pos = span\n",
    "            prev_name = name\n",
    "            # raise\n",
    "    return problematic_text, parsed\n",
    "\n",
    "\n",
    "def check_environment(text, offset=0):\n",
    "    \"\"\" Check environment \"\"\"\n",
    "    env = re.compile(r\"\\\\begin\\{(?P<env>.*)\\}(.*)\\\\end\\{(?P=env)\\}\", re.DOTALL)\n",
    "\n",
    "    for match in env.finditer(text):\n",
    "        beg, end = match.span()\n",
    "        beg += offset\n",
    "        end += offset\n",
    "        envname = match.groups()[0]\n",
    "        try:\n",
    "            latex.TexSoup(match.group())\n",
    "        except Exception as e:\n",
    "            display(e)\n",
    "            print(f\"Error in {envname:s} between {beg} and {end}\")\n",
    "            return match.groups()[1], beg, end"
   ]
  },
  {
   "cell_type": "raw",
   "id": "2315e835",
   "metadata": {
    "papermill": {
     "duration": 0.012611,
     "end_time": "2022-09-28T05:22:00.922814",
     "exception": false,
     "start_time": "2022-09-28T05:22:00.910203",
     "status": "completed"
    },
    "scrolled": false,
    "tags": []
   },
   "source": [
    "import importlib\n",
    "importlib.reload(latex)\n",
    "which = \"2204.03253\"\n",
    "paper_id = f'{which:s}'\n",
    "folder = f'tmp_{paper_id:s}'\n",
    "\n",
    "if not os.path.isdir(folder):\n",
    "    folder = retrieve_document_source(f\"{paper_id}\", f'tmp_{paper_id}')\n",
    "\n",
    "try:\n",
    "    doc = latex.LatexDocument(folder, validation=validation)    \n",
    "except AffiliationError as affilerror:\n",
    "    msg = f\"ArXiv:{paper_id:s} is not an MPIA paper... \" + str(affilerror)\n",
    "    print(msg)\n",
    "\n",
    "\n",
    "# Hack because sometimes author parsing does not work well\n",
    "if (len(doc.authors) != len(paper['authors'])):\n",
    "    doc._authors = paper['authors']\n",
    "if (doc.abstract) in (None, ''):\n",
    "    doc._abstract = paper['abstract']\n",
    "\n",
    "doc.comment = get_markdown_badge(paper_id) + \" _\" + paper['comments'] + \"_\"\n",
    "doc.highlight_authors_in_list(hl_list)\n",
    "\n",
    "full_md = doc.generate_markdown_text()"
   ]
  },
  {
   "cell_type": "raw",
   "id": "dd3781db",
   "metadata": {
    "papermill": {
     "duration": 0.012554,
     "end_time": "2022-09-28T05:22:00.948045",
     "exception": false,
     "start_time": "2022-09-28T05:22:00.935491",
     "status": "completed"
    },
    "scrolled": false,
    "tags": []
   },
   "source": [
    "doc"
   ]
  },
  {
   "cell_type": "raw",
   "id": "c6eed834",
   "metadata": {
    "papermill": {
     "duration": 0.012688,
     "end_time": "2022-09-28T05:22:00.979367",
     "exception": false,
     "start_time": "2022-09-28T05:22:00.966679",
     "status": "completed"
    },
    "tags": []
   },
   "source": [
    "# [check_environment(k) for k in bracket_error(doc.source)]\n",
    "_, _, a = latex.get_content_per_section(doc.source, verbose=True)\n",
    "if not a:\n",
    "    print(\"no issues per section\")\n",
    "for ak in a:\n",
    "    r = check_environment(ak[1], offset=ak[0])\n",
    "    print(r[1], r[2])\n",
    "    print(r[0])"
   ]
  },
  {
   "cell_type": "code",
   "execution_count": null,
   "id": "71ce768a",
   "metadata": {
    "papermill": {
     "duration": 0.012517,
     "end_time": "2022-09-28T05:22:01.004381",
     "exception": false,
     "start_time": "2022-09-28T05:22:00.991864",
     "status": "completed"
    },
    "tags": []
   },
   "outputs": [],
   "source": []
  }
 ],
 "metadata": {
  "kernelspec": {
   "display_name": "Python 3.10.6 64-bit",
   "language": "python",
   "name": "python3"
  },
  "language_info": {
   "codemirror_mode": {
    "name": "ipython",
    "version": 3
   },
   "file_extension": ".py",
   "mimetype": "text/x-python",
   "name": "python",
   "nbconvert_exporter": "python",
   "pygments_lexer": "ipython3",
   "version": "3.9.14"
  },
  "papermill": {
   "default_parameters": {},
   "duration": 177.797819,
   "end_time": "2022-09-28T05:22:01.235363",
   "environment_variables": {},
   "exception": null,
   "input_path": "MPIA daily digest.ipynb",
   "output_path": "log.ipynb",
   "parameters": {},
   "start_time": "2022-09-28T05:19:03.437544",
   "version": "2.4.0"
  },
  "vscode": {
   "interpreter": {
    "hash": "e7370f93d1d0cde622a1f8e1c04877d8463912d04d973331ad4851f04de6915a"
   }
  },
  "widgets": {
   "application/vnd.jupyter.widget-state+json": {
    "state": {
     "1a1df00b68cf464c93738258d8020d88": {
      "model_module": "@jupyter-widgets/controls",
      "model_module_version": "2.0.0",
      "model_name": "HBoxModel",
      "state": {
       "_dom_classes": [],
       "_model_module": "@jupyter-widgets/controls",
       "_model_module_version": "2.0.0",
       "_model_name": "HBoxModel",
       "_view_count": null,
       "_view_module": "@jupyter-widgets/controls",
       "_view_module_version": "2.0.0",
       "_view_name": "HBoxView",
       "box_style": "",
       "children": [
        "IPY_MODEL_54d85e2c433f49d4bcd6b6aa415cc88f",
        "IPY_MODEL_ef02f6b3faaa499bba04ad3220a12a9b",
        "IPY_MODEL_282237a6b46e4195b6292187b15df1cc"
       ],
       "layout": "IPY_MODEL_fb9009969a3e47e581f07ffd07a1e6c5",
       "tabbable": null,
       "tooltip": null
      }
     },
     "282237a6b46e4195b6292187b15df1cc": {
      "model_module": "@jupyter-widgets/controls",
      "model_module_version": "2.0.0",
      "model_name": "HTMLModel",
      "state": {
       "_dom_classes": [],
       "_model_module": "@jupyter-widgets/controls",
       "_model_module_version": "2.0.0",
       "_model_name": "HTMLModel",
       "_view_count": null,
       "_view_module": "@jupyter-widgets/controls",
       "_view_module_version": "2.0.0",
       "_view_name": "HTMLView",
       "description": "",
       "description_allow_html": false,
       "layout": "IPY_MODEL_5b7d624cfb1b44c2bc3194314f7119e1",
       "placeholder": "​",
       "style": "IPY_MODEL_dee4e94aa85f42a59a60cadc86061737",
       "tabbable": null,
       "tooltip": null,
       "value": " 31/31 [02:32&lt;00:00,  6.32s/it]"
      }
     },
     "54d85e2c433f49d4bcd6b6aa415cc88f": {
      "model_module": "@jupyter-widgets/controls",
      "model_module_version": "2.0.0",
      "model_name": "HTMLModel",
      "state": {
       "_dom_classes": [],
       "_model_module": "@jupyter-widgets/controls",
       "_model_module_version": "2.0.0",
       "_model_name": "HTMLModel",
       "_view_count": null,
       "_view_module": "@jupyter-widgets/controls",
       "_view_module_version": "2.0.0",
       "_view_name": "HTMLView",
       "description": "",
       "description_allow_html": false,
       "layout": "IPY_MODEL_d92437794a3944d0aef17471585b12dd",
       "placeholder": "​",
       "style": "IPY_MODEL_ccc9506ca85e4be0afc9315fbe4501b7",
       "tabbable": null,
       "tooltip": null,
       "value": "100%"
      }
     },
     "5b7d624cfb1b44c2bc3194314f7119e1": {
      "model_module": "@jupyter-widgets/base",
      "model_module_version": "2.0.0",
      "model_name": "LayoutModel",
      "state": {
       "_model_module": "@jupyter-widgets/base",
       "_model_module_version": "2.0.0",
       "_model_name": "LayoutModel",
       "_view_count": null,
       "_view_module": "@jupyter-widgets/base",
       "_view_module_version": "2.0.0",
       "_view_name": "LayoutView",
       "align_content": null,
       "align_items": null,
       "align_self": null,
       "border_bottom": null,
       "border_left": null,
       "border_right": null,
       "border_top": null,
       "bottom": null,
       "display": null,
       "flex": null,
       "flex_flow": null,
       "grid_area": null,
       "grid_auto_columns": null,
       "grid_auto_flow": null,
       "grid_auto_rows": null,
       "grid_column": null,
       "grid_gap": null,
       "grid_row": null,
       "grid_template_areas": null,
       "grid_template_columns": null,
       "grid_template_rows": null,
       "height": null,
       "justify_content": null,
       "justify_items": null,
       "left": null,
       "margin": null,
       "max_height": null,
       "max_width": null,
       "min_height": null,
       "min_width": null,
       "object_fit": null,
       "object_position": null,
       "order": null,
       "overflow": null,
       "padding": null,
       "right": null,
       "top": null,
       "visibility": null,
       "width": null
      }
     },
     "ad610fceeda5499c965026306b052f4a": {
      "model_module": "@jupyter-widgets/base",
      "model_module_version": "2.0.0",
      "model_name": "LayoutModel",
      "state": {
       "_model_module": "@jupyter-widgets/base",
       "_model_module_version": "2.0.0",
       "_model_name": "LayoutModel",
       "_view_count": null,
       "_view_module": "@jupyter-widgets/base",
       "_view_module_version": "2.0.0",
       "_view_name": "LayoutView",
       "align_content": null,
       "align_items": null,
       "align_self": null,
       "border_bottom": null,
       "border_left": null,
       "border_right": null,
       "border_top": null,
       "bottom": null,
       "display": null,
       "flex": null,
       "flex_flow": null,
       "grid_area": null,
       "grid_auto_columns": null,
       "grid_auto_flow": null,
       "grid_auto_rows": null,
       "grid_column": null,
       "grid_gap": null,
       "grid_row": null,
       "grid_template_areas": null,
       "grid_template_columns": null,
       "grid_template_rows": null,
       "height": null,
       "justify_content": null,
       "justify_items": null,
       "left": null,
       "margin": null,
       "max_height": null,
       "max_width": null,
       "min_height": null,
       "min_width": null,
       "object_fit": null,
       "object_position": null,
       "order": null,
       "overflow": null,
       "padding": null,
       "right": null,
       "top": null,
       "visibility": null,
       "width": null
      }
     },
     "b8c5f212f8a14a5da30d3a3acad6130c": {
      "model_module": "@jupyter-widgets/controls",
      "model_module_version": "2.0.0",
      "model_name": "ProgressStyleModel",
      "state": {
       "_model_module": "@jupyter-widgets/controls",
       "_model_module_version": "2.0.0",
       "_model_name": "ProgressStyleModel",
       "_view_count": null,
       "_view_module": "@jupyter-widgets/base",
       "_view_module_version": "2.0.0",
       "_view_name": "StyleView",
       "bar_color": null,
       "description_width": ""
      }
     },
     "ccc9506ca85e4be0afc9315fbe4501b7": {
      "model_module": "@jupyter-widgets/controls",
      "model_module_version": "2.0.0",
      "model_name": "HTMLStyleModel",
      "state": {
       "_model_module": "@jupyter-widgets/controls",
       "_model_module_version": "2.0.0",
       "_model_name": "HTMLStyleModel",
       "_view_count": null,
       "_view_module": "@jupyter-widgets/base",
       "_view_module_version": "2.0.0",
       "_view_name": "StyleView",
       "background": null,
       "description_width": "",
       "font_size": null,
       "text_color": null
      }
     },
     "d92437794a3944d0aef17471585b12dd": {
      "model_module": "@jupyter-widgets/base",
      "model_module_version": "2.0.0",
      "model_name": "LayoutModel",
      "state": {
       "_model_module": "@jupyter-widgets/base",
       "_model_module_version": "2.0.0",
       "_model_name": "LayoutModel",
       "_view_count": null,
       "_view_module": "@jupyter-widgets/base",
       "_view_module_version": "2.0.0",
       "_view_name": "LayoutView",
       "align_content": null,
       "align_items": null,
       "align_self": null,
       "border_bottom": null,
       "border_left": null,
       "border_right": null,
       "border_top": null,
       "bottom": null,
       "display": null,
       "flex": null,
       "flex_flow": null,
       "grid_area": null,
       "grid_auto_columns": null,
       "grid_auto_flow": null,
       "grid_auto_rows": null,
       "grid_column": null,
       "grid_gap": null,
       "grid_row": null,
       "grid_template_areas": null,
       "grid_template_columns": null,
       "grid_template_rows": null,
       "height": null,
       "justify_content": null,
       "justify_items": null,
       "left": null,
       "margin": null,
       "max_height": null,
       "max_width": null,
       "min_height": null,
       "min_width": null,
       "object_fit": null,
       "object_position": null,
       "order": null,
       "overflow": null,
       "padding": null,
       "right": null,
       "top": null,
       "visibility": null,
       "width": null
      }
     },
     "dee4e94aa85f42a59a60cadc86061737": {
      "model_module": "@jupyter-widgets/controls",
      "model_module_version": "2.0.0",
      "model_name": "HTMLStyleModel",
      "state": {
       "_model_module": "@jupyter-widgets/controls",
       "_model_module_version": "2.0.0",
       "_model_name": "HTMLStyleModel",
       "_view_count": null,
       "_view_module": "@jupyter-widgets/base",
       "_view_module_version": "2.0.0",
       "_view_name": "StyleView",
       "background": null,
       "description_width": "",
       "font_size": null,
       "text_color": null
      }
     },
     "ef02f6b3faaa499bba04ad3220a12a9b": {
      "model_module": "@jupyter-widgets/controls",
      "model_module_version": "2.0.0",
      "model_name": "FloatProgressModel",
      "state": {
       "_dom_classes": [],
       "_model_module": "@jupyter-widgets/controls",
       "_model_module_version": "2.0.0",
       "_model_name": "FloatProgressModel",
       "_view_count": null,
       "_view_module": "@jupyter-widgets/controls",
       "_view_module_version": "2.0.0",
       "_view_name": "ProgressView",
       "bar_style": "success",
       "description": "",
       "description_allow_html": false,
       "layout": "IPY_MODEL_ad610fceeda5499c965026306b052f4a",
       "max": 31.0,
       "min": 0.0,
       "orientation": "horizontal",
       "style": "IPY_MODEL_b8c5f212f8a14a5da30d3a3acad6130c",
       "tabbable": null,
       "tooltip": null,
       "value": 31.0
      }
     },
     "fb9009969a3e47e581f07ffd07a1e6c5": {
      "model_module": "@jupyter-widgets/base",
      "model_module_version": "2.0.0",
      "model_name": "LayoutModel",
      "state": {
       "_model_module": "@jupyter-widgets/base",
       "_model_module_version": "2.0.0",
       "_model_name": "LayoutModel",
       "_view_count": null,
       "_view_module": "@jupyter-widgets/base",
       "_view_module_version": "2.0.0",
       "_view_name": "LayoutView",
       "align_content": null,
       "align_items": null,
       "align_self": null,
       "border_bottom": null,
       "border_left": null,
       "border_right": null,
       "border_top": null,
       "bottom": null,
       "display": null,
       "flex": null,
       "flex_flow": null,
       "grid_area": null,
       "grid_auto_columns": null,
       "grid_auto_flow": null,
       "grid_auto_rows": null,
       "grid_column": null,
       "grid_gap": null,
       "grid_row": null,
       "grid_template_areas": null,
       "grid_template_columns": null,
       "grid_template_rows": null,
       "height": null,
       "justify_content": null,
       "justify_items": null,
       "left": null,
       "margin": null,
       "max_height": null,
       "max_width": null,
       "min_height": null,
       "min_width": null,
       "object_fit": null,
       "object_position": null,
       "order": null,
       "overflow": null,
       "padding": null,
       "right": null,
       "top": null,
       "visibility": null,
       "width": null
      }
     }
    },
    "version_major": 2,
    "version_minor": 0
   }
  }
 },
 "nbformat": 4,
 "nbformat_minor": 5
}