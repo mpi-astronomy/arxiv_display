{
 "cells": [
  {
   "cell_type": "markdown",
   "id": "92bcb855",
   "metadata": {
    "papermill": {
     "duration": 0.004189,
     "end_time": "2025-07-10T04:23:13.787711",
     "exception": false,
     "start_time": "2025-07-10T04:23:13.783522",
     "status": "completed"
    },
    "tags": []
   },
   "source": [
    "# MPIA Arxiv on Deck 2\n",
    "\n",
    "Contains the steps to produce the paper extractions."
   ]
  },
  {
   "cell_type": "code",
   "execution_count": 1,
   "id": "3a0d6e11",
   "metadata": {
    "execution": {
     "iopub.execute_input": "2025-07-10T04:23:13.795401Z",
     "iopub.status.busy": "2025-07-10T04:23:13.794903Z",
     "iopub.status.idle": "2025-07-10T04:23:14.030480Z",
     "shell.execute_reply": "2025-07-10T04:23:14.029827Z"
    },
    "papermill": {
     "duration": 0.240828,
     "end_time": "2025-07-10T04:23:14.031835",
     "exception": false,
     "start_time": "2025-07-10T04:23:13.791007",
     "status": "completed"
    },
    "tags": []
   },
   "outputs": [],
   "source": [
    "# Imports\n",
    "import os\n",
    "from IPython.display import Markdown, display\n",
    "from tqdm.notebook import tqdm\n",
    "import warnings\n",
    "from PIL import Image \n",
    "import re\n",
    "\n",
    "# requires arxiv_on_deck_2\n",
    "\n",
    "from arxiv_on_deck_2.arxiv2 import (get_new_papers, \n",
    "                                    get_paper_from_identifier,\n",
    "                                    retrieve_document_source, \n",
    "                                    get_markdown_badge)\n",
    "from arxiv_on_deck_2 import (latex,\n",
    "                             latex_bib,\n",
    "                             mpia,\n",
    "                             highlight_authors_in_list)\n",
    "\n",
    "# Sometimes images are really big\n",
    "Image.MAX_IMAGE_PIXELS = 1000000000 "
   ]
  },
  {
   "cell_type": "code",
   "execution_count": 2,
   "id": "22aa9d44",
   "metadata": {
    "execution": {
     "iopub.execute_input": "2025-07-10T04:23:14.039252Z",
     "iopub.status.busy": "2025-07-10T04:23:14.038769Z",
     "iopub.status.idle": "2025-07-10T04:23:14.046662Z",
     "shell.execute_reply": "2025-07-10T04:23:14.046141Z"
    },
    "papermill": {
     "duration": 0.012558,
     "end_time": "2025-07-10T04:23:14.047666",
     "exception": false,
     "start_time": "2025-07-10T04:23:14.035108",
     "status": "completed"
    },
    "tags": []
   },
   "outputs": [],
   "source": [
    "# Some useful definitions.\n",
    "\n",
    "class AffiliationWarning(UserWarning):\n",
    "    pass\n",
    "\n",
    "class AffiliationError(RuntimeError):\n",
    "    pass\n",
    "\n",
    "def validation(source: str):\n",
    "    \"\"\"Raises error paper during parsing of source file\n",
    "    \n",
    "    Allows checks before parsing TeX code.\n",
    "    \n",
    "    Raises AffiliationWarning\n",
    "    \"\"\"\n",
    "    check = mpia.affiliation_verifications(source, verbose=True)\n",
    "    if check is not True:\n",
    "        raise AffiliationError(\"mpia.affiliation_verifications: \" + check)\n",
    "\n",
    "        \n",
    "warnings.simplefilter('always', AffiliationWarning)\n",
    "\n",
    "\n",
    "def get_markdown_qrcode(paper_id: str):\n",
    "    \"\"\" Generate a qrcode to the arxiv page using qrserver.com\n",
    "    \n",
    "    :param paper: Arxiv paper\n",
    "    :returns: markdown text\n",
    "    \"\"\"\n",
    "    url = r\"https://api.qrserver.com/v1/create-qr-code/?size=100x100&data=\"\n",
    "    txt = f\"\"\"<img src={url}\"https://arxiv.org/abs/{paper_id}\">\"\"\"\n",
    "    txt = '<div id=\"qrcode\">' + txt + '</div>'\n",
    "    return txt\n",
    "\n",
    "\n",
    "def clean_non_western_encoded_characters_commands(text: str) -> str:\n",
    "    \"\"\" Remove non-western encoded characters from a string\n",
    "    List may need to grow.\n",
    "    \n",
    "    :param text: the text to clean\n",
    "    :return: the cleaned text\n",
    "    \"\"\"\n",
    "    text = re.sub(r\"(\\\\begin{CJK}{UTF8}{gbsn})(.*?)(\\\\end{CJK})\", r\"\\2\", text)\n",
    "    return text\n",
    "\n",
    "\n",
    "def get_initials(name: str) -> str:\n",
    "    \"\"\" Get the short name, e.g., A.-B. FamName\n",
    "    :param name: full name\n",
    "    :returns: initials\n",
    "    \"\"\"\n",
    "    initials = []\n",
    "    # account for non western names often in ()\n",
    "    if '(' in name:\n",
    "        name = clean_non_western_encoded_characters_commands(name)\n",
    "        suffix = re.findall(r\"\\((.*?)\\)\", name)[0]\n",
    "        name = name.replace(f\"({suffix})\", '')\n",
    "    else:\n",
    "        suffix = ''\n",
    "    split = name.split()\n",
    "    for token in split[:-1]:\n",
    "        if '-' in token:\n",
    "            current = '-'.join([k[0] + '.' for k in token.split('-')])\n",
    "        else:\n",
    "            current = token[0] + '.'\n",
    "        initials.append(current)\n",
    "    initials.append(split[-1].strip())\n",
    "    if suffix:\n",
    "        initials.append(f\"({suffix})\")\n",
    "    return ' '.join(initials)"
   ]
  },
  {
   "cell_type": "markdown",
   "id": "14bd6310",
   "metadata": {
    "papermill": {
     "duration": 0.002867,
     "end_time": "2025-07-10T04:23:14.053507",
     "exception": false,
     "start_time": "2025-07-10T04:23:14.050640",
     "status": "completed"
    },
    "tags": []
   },
   "source": [
    "## get list of arxiv paper candidates\n",
    "\n",
    "We use the MPIA mitarbeiter list webpage from mpia.de to get author names\n",
    "We then get all new papers from Arxiv and match authors"
   ]
  },
  {
   "cell_type": "code",
   "execution_count": 3,
   "id": "7ea813a8",
   "metadata": {
    "execution": {
     "iopub.execute_input": "2025-07-10T04:23:14.060479Z",
     "iopub.status.busy": "2025-07-10T04:23:14.060049Z",
     "iopub.status.idle": "2025-07-10T04:23:33.379017Z",
     "shell.execute_reply": "2025-07-10T04:23:33.378352Z"
    },
    "papermill": {
     "duration": 19.323902,
     "end_time": "2025-07-10T04:23:33.380328",
     "exception": false,
     "start_time": "2025-07-10T04:23:14.056426",
     "status": "completed"
    },
    "tags": []
   },
   "outputs": [],
   "source": [
    "# deal with the author list and edge cases of people that cannot be consistent on their name  \n",
    "\n",
    "def filter_non_scientists(name: str) -> bool:\n",
    "    \"\"\" Loose filter on expected authorships\n",
    "\n",
    "    removing IT, administration, technical staff\n",
    "    :param name: name\n",
    "    :returns: False if name is not a scientist\n",
    "    \"\"\"\n",
    "    remove_list = ['Licht', 'Binroth', 'Witzel', 'Jordan',\n",
    "                   'Zähringer', 'Scheerer', 'Hoffmann', 'Düe',\n",
    "                   'Hellmich', 'Enkler-Scharpegge', 'Witte-Nguy',\n",
    "                   'Dehen', 'Beckmann', 'Jager', 'Jäger'\n",
    "                  ]\n",
    "\n",
    "    for k in remove_list:\n",
    "        if k in name:\n",
    "            return False\n",
    "    return True\n",
    "\n",
    "def add_author_to_list(author_list: list) -> list:\n",
    "    \"\"\" Add author to list if not already in list\n",
    "    \n",
    "    :param author: author name\n",
    "    :param author_list: list of authors\n",
    "    :returns: updated list of authors\n",
    "    \"\"\"\n",
    "    add_list = ['T. Henning']\n",
    "\n",
    "    for author in add_list:\n",
    "        if author not in author_list:\n",
    "            author_list.append(author)\n",
    "    return author_list\n",
    "\n",
    "# get list from MPIA website\n",
    "# filter for non-scientists (mpia.get_mpia_mitarbeiter_list() does some filtering)\n",
    "mpia_authors = [k[1] for k in mpia.get_mpia_mitarbeiter_list() if filter_non_scientists(k[1])]\n",
    "# add some missing author because of inconsistencies in their MPIA name and author name on papers\n",
    "mpia_authors = add_author_to_list(mpia_authors)"
   ]
  },
  {
   "cell_type": "code",
   "execution_count": 4,
   "id": "2645e73a",
   "metadata": {
    "execution": {
     "iopub.execute_input": "2025-07-10T04:23:33.387509Z",
     "iopub.status.busy": "2025-07-10T04:23:33.387293Z",
     "iopub.status.idle": "2025-07-10T04:23:34.218887Z",
     "shell.execute_reply": "2025-07-10T04:23:34.218222Z"
    },
    "papermill": {
     "duration": 0.836704,
     "end_time": "2025-07-10T04:23:34.220341",
     "exception": false,
     "start_time": "2025-07-10T04:23:33.383637",
     "status": "completed"
    },
    "tags": []
   },
   "outputs": [
    {
     "name": "stdout",
     "output_type": "stream",
     "text": [
      "J. Li  ->  J. Li  |  ['J. Li']\n",
      "F. Walter  ->  F. Walter  |  ['F. Walter']\n",
      "T. Henning  ->  T. Henning  |  ['T. Henning']\n",
      "X. Zhang  ->  X. Zhang  |  ['X. Zhang']\n",
      "S. Souza  ->  S. Souza  |  ['S. Souza']\n",
      "G. Guiglion  ->  G. Guiglion  |  ['G. Guiglion']\n",
      "H.-W. Rix  ->  H.-W. Rix  |  ['H.-W. Rix']\n",
      "N. Deacon  ->  N. Deacon  |  ['N. Deacon']\n",
      "M. Demianenko  ->  M. Demianenko  |  ['M. Demianenko']\n",
      "K. El-Badry  ->  K. El-Badry  |  ['K. El-Badry']\n",
      "M. Häberle  ->  M. Häberle  |  ['M. Häberle']\n",
      "T. Herbst  ->  T. Herbst  |  ['T. Herbst']\n"
     ]
    },
    {
     "name": "stdout",
     "output_type": "stream",
     "text": [
      "N. Deacon  ->  N. Deacon  |  ['N. Deacon']\n",
      "M. Demianenko  ->  M. Demianenko  |  ['M. Demianenko']\n",
      "K. El-Badry  ->  K. El-Badry  |  ['K. El-Badry']\n",
      "M. Häberle  ->  M. Häberle  |  ['M. Häberle']\n",
      "Arxiv has 77 new papers today\n",
      "          6 with possible author matches\n"
     ]
    }
   ],
   "source": [
    "new_papers = get_new_papers()\n",
    "# add manual references\n",
    "add_paper_refs = []\n",
    "new_papers.extend([get_paper_from_identifier(k) for k in add_paper_refs])\n",
    "\n",
    "def robust_call(fn, value, *args, **kwargs):\n",
    "    try:\n",
    "        return fn(value, *args, **kwargs)\n",
    "    except Exception:\n",
    "        return value\n",
    "\n",
    "candidates = []\n",
    "for paperk in new_papers:\n",
    "    # Check author list with their initials\n",
    "    normed_author_list = [robust_call(mpia.get_initials, k) for k in paperk['authors']]\n",
    "    hl_authors = highlight_authors_in_list(normed_author_list, mpia_authors, verbose=True)\n",
    "    matches = [(hl, orig) for hl, orig in zip(hl_authors, paperk['authors']) if 'mark' in hl]\n",
    "    paperk['authors'] = hl_authors\n",
    "    if matches:\n",
    "        # only select paper if an author matched our list\n",
    "        candidates.append(paperk)\n",
    "print(\"\"\"Arxiv has {0:,d} new papers today\"\"\".format(len(new_papers)))        \n",
    "print(\"\"\"          {0:,d} with possible author matches\"\"\".format(len(candidates)))"
   ]
  },
  {
   "cell_type": "markdown",
   "id": "3543b34a",
   "metadata": {
    "papermill": {
     "duration": 0.003079,
     "end_time": "2025-07-10T04:23:34.227034",
     "exception": false,
     "start_time": "2025-07-10T04:23:34.223955",
     "status": "completed"
    },
    "tags": []
   },
   "source": [
    "# Parse sources and generate relevant outputs\n",
    "\n",
    "From the candidates, we do the following steps:\n",
    "* get their tarball from ArXiv (and extract data)\n",
    "* find the main .tex file: find one with \\documentclass{...} (sometimes it's non trivial)\n",
    "* Check affiliations with :func:`validation`, which uses :func:`mpia.affiliation_verifications`\n",
    "* If passing the affiliations: we parse the .tex source\n",
    "   * inject sub-documents into the main (flatten the main document)\n",
    "   * parse structure, extract information (title, abstract, authors, figures...)\n",
    "   * handles `\\graphicspath` if provided\n",
    "* Generate the .md document."
   ]
  },
  {
   "cell_type": "code",
   "execution_count": 5,
   "id": "9576b79e",
   "metadata": {
    "execution": {
     "iopub.execute_input": "2025-07-10T04:23:34.234441Z",
     "iopub.status.busy": "2025-07-10T04:23:34.234003Z",
     "iopub.status.idle": "2025-07-10T04:24:45.158061Z",
     "shell.execute_reply": "2025-07-10T04:24:45.157351Z"
    },
    "papermill": {
     "duration": 70.929156,
     "end_time": "2025-07-10T04:24:45.159318",
     "exception": false,
     "start_time": "2025-07-10T04:23:34.230162",
     "status": "completed"
    },
    "scrolled": false,
    "tags": []
   },
   "outputs": [
    {
     "data": {
      "application/vnd.jupyter.widget-view+json": {
       "model_id": "c01d87da563547cfa854cc66104544a4",
       "version_major": 2,
       "version_minor": 0
      },
      "text/plain": [
       "  0%|          | 0/6 [00:00<?, ?it/s]"
      ]
     },
     "metadata": {},
     "output_type": "display_data"
    },
    {
     "name": "stdout",
     "output_type": "stream",
     "text": [
      "Retrieving document from  https://arxiv.org/e-print/2507.06357\n"
     ]
    },
    {
     "name": "stdout",
     "output_type": "stream",
     "text": [
      "extracting tarball to tmp_2507.06357... done.\n",
      "Retrieving document from  https://arxiv.org/e-print/2507.06793\n"
     ]
    },
    {
     "name": "stdout",
     "output_type": "stream",
     "text": [
      "extracting tarball to tmp_2507.06793..."
     ]
    },
    {
     "name": "stdout",
     "output_type": "stream",
     "text": [
      " done.\n"
     ]
    },
    {
     "name": "stdout",
     "output_type": "stream",
     "text": [
      "Found 117 bibliographic references in tmp_2507.06793/aa55057-25.bbl.\n",
      "Issues with the citations\n",
      "syntax error in line 18: '=' expected\n",
      "Retrieving document from  https://arxiv.org/e-print/2507.06841\n",
      "extracting tarball to tmp_2507.06841... done.\n",
      "Retrieving document from  https://arxiv.org/e-print/2507.06863\n"
     ]
    },
    {
     "name": "stdout",
     "output_type": "stream",
     "text": [
      "extracting tarball to tmp_2507.06863..."
     ]
    },
    {
     "name": "stdout",
     "output_type": "stream",
     "text": [
      " done.\n"
     ]
    },
    {
     "name": "stdout",
     "output_type": "stream",
     "text": [
      "S. Souza  ->  S. Souza  |  ['S. Souza']\n",
      "G. Guiglion  ->  G. Guiglion  |  ['G. Guiglion']\n"
     ]
    },
    {
     "name": "stderr",
     "output_type": "stream",
     "text": [
      "/opt/hostedtoolcache/Python/3.9.23/x64/lib/python3.9/site-packages/arxiv_on_deck_2/latex.py:132: LatexWarning: attempting recovering figure plots/bulge_sample_RVS_RPM_commons_comparison_with_alpha.png\n",
      "  warnings.warn(LatexWarning(f'attempting recovering figure {image}'))\n",
      "/opt/hostedtoolcache/Python/3.9.23/x64/lib/python3.9/site-packages/arxiv_on_deck_2/latex.py:707: LatexWarning: Could not find graphic \\includegraphics[width=0.99\\linewidth]{plots/bulge_sample_RVS_RPM_commons_comparison_with_alpha.png}\n",
      "  warnings.warn(LatexWarning(f\"Could not find graphic {k}\"))\n",
      "/opt/hostedtoolcache/Python/3.9.23/x64/lib/python3.9/site-packages/arxiv_on_deck_2/latex.py:132: LatexWarning: attempting recovering figure plots/bulge_sample_RVS_RPM_complementary_R_Z_FeH_v2.png\n",
      "  warnings.warn(LatexWarning(f'attempting recovering figure {image}'))\n",
      "/opt/hostedtoolcache/Python/3.9.23/x64/lib/python3.9/site-packages/arxiv_on_deck_2/latex.py:707: LatexWarning: Could not find graphic \\includegraphics[width=0.8\\linewidth]{plots/bulge_sample_RVS_RPM_complementary_R_Z_FeH_v2.png}\n",
      "  warnings.warn(LatexWarning(f\"Could not find graphic {k}\"))\n",
      "/opt/hostedtoolcache/Python/3.9.23/x64/lib/python3.9/site-packages/arxiv_on_deck_2/latex.py:132: LatexWarning: attempting recovering figure plots/frequency_distributions_frfx_fzfx_RVS_RPM_plus_XYZ_5kpc.png\n",
      "  warnings.warn(LatexWarning(f'attempting recovering figure {image}'))\n",
      "/opt/hostedtoolcache/Python/3.9.23/x64/lib/python3.9/site-packages/arxiv_on_deck_2/latex.py:707: LatexWarning: Could not find graphic \\includegraphics[width=0.8\\linewidth]{plots/frequency_distributions_frfx_fzfx_RVS_RPM_plus_XYZ_5kpc.png}\n",
      "  warnings.warn(LatexWarning(f\"Could not find graphic {k}\"))\n",
      "/opt/hostedtoolcache/Python/3.9.23/x64/lib/python3.9/site-packages/arxiv_on_deck_2/latex.py:132: LatexWarning: attempting recovering figure plots/bulge_sample_X2X4_stars_ALPHA_M_GMM.png\n",
      "  warnings.warn(LatexWarning(f'attempting recovering figure {image}'))\n",
      "/opt/hostedtoolcache/Python/3.9.23/x64/lib/python3.9/site-packages/arxiv_on_deck_2/latex.py:707: LatexWarning: Could not find graphic \\includegraphics[width=0.9\\linewidth]{plots/bulge_sample_X2X4_stars_ALPHA_M_GMM.png}\n",
      "  warnings.warn(LatexWarning(f\"Could not find graphic {k}\"))\n",
      "/opt/hostedtoolcache/Python/3.9.23/x64/lib/python3.9/site-packages/arxiv_on_deck_2/latex.py:132: LatexWarning: attempting recovering figure plots/bulge_sample_X4_orbits_overlay_bar_contours_apo_zmax.png\n",
      "  warnings.warn(LatexWarning(f'attempting recovering figure {image}'))\n",
      "/opt/hostedtoolcache/Python/3.9.23/x64/lib/python3.9/site-packages/arxiv_on_deck_2/latex.py:707: LatexWarning: Could not find graphic \\includegraphics[width=0.99\\linewidth]{plots/bulge_sample_X4_orbits_overlay_bar_contours_apo_zmax.png}\n",
      "  warnings.warn(LatexWarning(f\"Could not find graphic {k}\"))\n",
      "/opt/hostedtoolcache/Python/3.9.23/x64/lib/python3.9/site-packages/arxiv_on_deck_2/latex.py:132: LatexWarning: attempting recovering figure plots/bulge_sample_bar_nonbar_ecc_zmax_p17_vertical.png\n",
      "  warnings.warn(LatexWarning(f'attempting recovering figure {image}'))\n",
      "/opt/hostedtoolcache/Python/3.9.23/x64/lib/python3.9/site-packages/arxiv_on_deck_2/latex.py:707: LatexWarning: Could not find graphic \\includegraphics[width=0.8\\linewidth]{plots/bulge_sample_bar_nonbar_ecc_zmax_p17_vertical.png}\n",
      "  warnings.warn(LatexWarning(f\"Could not find graphic {k}\"))\n",
      "/opt/hostedtoolcache/Python/3.9.23/x64/lib/python3.9/site-packages/arxiv_on_deck_2/latex.py:132: LatexWarning: attempting recovering figure plots/bulge_sample_SphBulge_Disc_bar_x4_ecc_zmax_MDF_p17.png\n",
      "  warnings.warn(LatexWarning(f'attempting recovering figure {image}'))\n",
      "/opt/hostedtoolcache/Python/3.9.23/x64/lib/python3.9/site-packages/arxiv_on_deck_2/latex.py:707: LatexWarning: Could not find graphic \\includegraphics[width=0.8\\linewidth]{plots/bulge_sample_SphBulge_Disc_bar_x4_ecc_zmax_MDF_p17.png}\n",
      "  warnings.warn(LatexWarning(f\"Could not find graphic {k}\"))\n",
      "/opt/hostedtoolcache/Python/3.9.23/x64/lib/python3.9/site-packages/arxiv_on_deck_2/latex.py:132: LatexWarning: attempting recovering figure plots/bulge_sample_non_confined_8_15kpc_MDF_analyze_1d_GMM_and_ALPHA_FE\n",
      "  warnings.warn(LatexWarning(f'attempting recovering figure {image}'))\n",
      "/opt/hostedtoolcache/Python/3.9.23/x64/lib/python3.9/site-packages/arxiv_on_deck_2/latex.py:707: LatexWarning: Could not find graphic \\includegraphics[width=0.99\\linewidth]{plots/bulge_sample_non_confined_8_15kpc_MDF_analyze_1d_GMM_and_ALPHA_FE}\n",
      "  warnings.warn(LatexWarning(f\"Could not find graphic {k}\"))\n",
      "/opt/hostedtoolcache/Python/3.9.23/x64/lib/python3.9/site-packages/arxiv_on_deck_2/latex.py:132: LatexWarning: attempting recovering figure plots/bulge_sample_temp_perma_ecc_zmax_p17.png\n",
      "  warnings.warn(LatexWarning(f'attempting recovering figure {image}'))\n",
      "/opt/hostedtoolcache/Python/3.9.23/x64/lib/python3.9/site-packages/arxiv_on_deck_2/latex.py:707: LatexWarning: Could not find graphic \\includegraphics[width=0.6\\linewidth]{plots/bulge_sample_temp_perma_ecc_zmax_p17.png}\n",
      "  warnings.warn(LatexWarning(f\"Could not find graphic {k}\"))\n",
      "/opt/hostedtoolcache/Python/3.9.23/x64/lib/python3.9/site-packages/arxiv_on_deck_2/latex.py:132: LatexWarning: attempting recovering figure plots/bulge_sample_bar_50_25_5_apo_zmax_vphi_feh_differences.png\n",
      "  warnings.warn(LatexWarning(f'attempting recovering figure {image}'))\n",
      "/opt/hostedtoolcache/Python/3.9.23/x64/lib/python3.9/site-packages/arxiv_on_deck_2/latex.py:707: LatexWarning: Could not find graphic \\includegraphics[width=0.99\\linewidth]{plots/bulge_sample_bar_50_25_5_apo_zmax_vphi_feh_differences.png}\n",
      "  warnings.warn(LatexWarning(f\"Could not find graphic {k}\"))\n",
      "/opt/hostedtoolcache/Python/3.9.23/x64/lib/python3.9/site-packages/arxiv_on_deck_2/latex.py:132: LatexWarning: attempting recovering figure plots/bulge_sample_AMR_GCs_SphBulge_age\n",
      "  warnings.warn(LatexWarning(f'attempting recovering figure {image}'))\n",
      "/opt/hostedtoolcache/Python/3.9.23/x64/lib/python3.9/site-packages/arxiv_on_deck_2/latex.py:707: LatexWarning: Could not find graphic \\includegraphics[width=0.99\\linewidth]{plots/bulge_sample_AMR_GCs_SphBulge_age}\n",
      "  warnings.warn(LatexWarning(f\"Could not find graphic {k}\"))\n",
      "/opt/hostedtoolcache/Python/3.9.23/x64/lib/python3.9/site-packages/arxiv_on_deck_2/latex.py:132: LatexWarning: attempting recovering figure plots/bulge_sample_R_vs_z_sample_selection.png\n",
      "  warnings.warn(LatexWarning(f'attempting recovering figure {image}'))\n",
      "/opt/hostedtoolcache/Python/3.9.23/x64/lib/python3.9/site-packages/arxiv_on_deck_2/latex.py:707: LatexWarning: Could not find graphic \\includegraphics[width=0.99\\linewidth]{plots/bulge_sample_R_vs_z_sample_selection.png}\n",
      "  warnings.warn(LatexWarning(f\"Could not find graphic {k}\"))\n",
      "/opt/hostedtoolcache/Python/3.9.23/x64/lib/python3.9/site-packages/arxiv_on_deck_2/latex.py:132: LatexWarning: attempting recovering figure plots/bulge_sample_R_vs_z_teff_logg_feh_alpha_with_RPM_new.png\n",
      "  warnings.warn(LatexWarning(f'attempting recovering figure {image}'))\n",
      "/opt/hostedtoolcache/Python/3.9.23/x64/lib/python3.9/site-packages/arxiv_on_deck_2/latex.py:707: LatexWarning: Could not find graphic \\includegraphics[width=0.7\\linewidth]{plots/bulge_sample_R_vs_z_teff_logg_feh_alpha_with_RPM_new.png}\n",
      "  warnings.warn(LatexWarning(f\"Could not find graphic {k}\"))\n",
      "/opt/hostedtoolcache/Python/3.9.23/x64/lib/python3.9/site-packages/arxiv_on_deck_2/latex.py:132: LatexWarning: attempting recovering figure plots/bulge_sample_RVS_RPM_extinction_Anders2022_lb_with_Bades_window.png\n",
      "  warnings.warn(LatexWarning(f'attempting recovering figure {image}'))\n",
      "/opt/hostedtoolcache/Python/3.9.23/x64/lib/python3.9/site-packages/arxiv_on_deck_2/latex.py:707: LatexWarning: Could not find graphic \\includegraphics[width=0.9\\linewidth]{plots/bulge_sample_RVS_RPM_extinction_Anders2022_lb_with_Bades_window.png}\n",
      "  warnings.warn(LatexWarning(f\"Could not find graphic {k}\"))\n",
      "/opt/hostedtoolcache/Python/3.9.23/x64/lib/python3.9/site-packages/arxiv_on_deck_2/latex.py:132: LatexWarning: attempting recovering figure plots/bulge_sample_RPM_RVS_mdf_vR_vphi_Vz_1.png\n",
      "  warnings.warn(LatexWarning(f'attempting recovering figure {image}'))\n",
      "/opt/hostedtoolcache/Python/3.9.23/x64/lib/python3.9/site-packages/arxiv_on_deck_2/latex.py:707: LatexWarning: Could not find graphic \\includegraphics[width=0.8\\linewidth]{plots/bulge_sample_RPM_RVS_mdf_vR_vphi_Vz_1.png}\n",
      "  warnings.warn(LatexWarning(f\"Could not find graphic {k}\"))\n",
      "/opt/hostedtoolcache/Python/3.9.23/x64/lib/python3.9/site-packages/arxiv_on_deck_2/latex.py:132: LatexWarning: attempting recovering figure plots/bulge_sample_combined_mdf_in_bins_of_lb_with_Sousa24GCs_BensbyDwarfs.png\n",
      "  warnings.warn(LatexWarning(f'attempting recovering figure {image}'))\n",
      "/opt/hostedtoolcache/Python/3.9.23/x64/lib/python3.9/site-packages/arxiv_on_deck_2/latex.py:707: LatexWarning: Could not find graphic \\includegraphics[width=0.99\\linewidth]{plots/bulge_sample_combined_mdf_in_bins_of_lb_with_Sousa24GCs_BensbyDwarfs.png}\n",
      "  warnings.warn(LatexWarning(f\"Could not find graphic {k}\"))\n",
      "/opt/hostedtoolcache/Python/3.9.23/x64/lib/python3.9/site-packages/arxiv_on_deck_2/latex.py:132: LatexWarning: attempting recovering figure plots/bulge_sample_plus_RPM_ecc_zmax_density_mh_afe_p17_5kpc.png\n",
      "  warnings.warn(LatexWarning(f'attempting recovering figure {image}'))\n",
      "/opt/hostedtoolcache/Python/3.9.23/x64/lib/python3.9/site-packages/arxiv_on_deck_2/latex.py:707: LatexWarning: Could not find graphic \\includegraphics[width=0.99\\linewidth]{plots/bulge_sample_plus_RPM_ecc_zmax_density_mh_afe_p17_5kpc.png}\n",
      "  warnings.warn(LatexWarning(f\"Could not find graphic {k}\"))\n",
      "/opt/hostedtoolcache/Python/3.9.23/x64/lib/python3.9/site-packages/arxiv_on_deck_2/latex.py:132: LatexWarning: attempting recovering figure plots/bulge_sample_mdf_for_different_ecc_zmax_5kpc.png\n",
      "  warnings.warn(LatexWarning(f'attempting recovering figure {image}'))\n",
      "/opt/hostedtoolcache/Python/3.9.23/x64/lib/python3.9/site-packages/arxiv_on_deck_2/latex.py:707: LatexWarning: Could not find graphic \\includegraphics[width=0.99\\linewidth]{plots/bulge_sample_mdf_for_different_ecc_zmax_5kpc.png}\n",
      "  warnings.warn(LatexWarning(f\"Could not find graphic {k}\"))\n",
      "/opt/hostedtoolcache/Python/3.9.23/x64/lib/python3.9/site-packages/arxiv_on_deck_2/latex.py:132: LatexWarning: attempting recovering figure plots/bulge_sample_vz_vphi_bins_ecc_zmax_5kpc.png\n",
      "  warnings.warn(LatexWarning(f'attempting recovering figure {image}'))\n",
      "/opt/hostedtoolcache/Python/3.9.23/x64/lib/python3.9/site-packages/arxiv_on_deck_2/latex.py:707: LatexWarning: Could not find graphic \\includegraphics[width=0.99\\linewidth]{plots/bulge_sample_vz_vphi_bins_ecc_zmax_5kpc.png}\n",
      "  warnings.warn(LatexWarning(f\"Could not find graphic {k}\"))\n",
      "/opt/hostedtoolcache/Python/3.9.23/x64/lib/python3.9/site-packages/arxiv_on_deck_2/latex.py:132: LatexWarning: attempting recovering figure plots/bulge_sample_orbital_composition_of_MW_bar_MDF_AFE_in_bin_fzfx_combined.png\n",
      "  warnings.warn(LatexWarning(f'attempting recovering figure {image}'))\n",
      "/opt/hostedtoolcache/Python/3.9.23/x64/lib/python3.9/site-packages/arxiv_on_deck_2/latex.py:707: LatexWarning: Could not find graphic \\includegraphics[width=0.99\\linewidth]{plots/bulge_sample_orbital_composition_of_MW_bar_MDF_AFE_in_bin_fzfx_combined.png}\n",
      "  warnings.warn(LatexWarning(f\"Could not find graphic {k}\"))\n",
      "/opt/hostedtoolcache/Python/3.9.23/x64/lib/python3.9/site-packages/arxiv_on_deck_2/latex.py:132: LatexWarning: attempting recovering figure plots/bulge_sample_freq_map_netLz_Vphi_Vz_XmaxYmax_5kpc_combined.png\n",
      "  warnings.warn(LatexWarning(f'attempting recovering figure {image}'))\n",
      "/opt/hostedtoolcache/Python/3.9.23/x64/lib/python3.9/site-packages/arxiv_on_deck_2/latex.py:707: LatexWarning: Could not find graphic \\includegraphics[width=.8\\linewidth]{plots/bulge_sample_freq_map_netLz_Vphi_Vz_XmaxYmax_5kpc_combined.png}\n",
      "  warnings.warn(LatexWarning(f\"Could not find graphic {k}\"))\n",
      "/opt/hostedtoolcache/Python/3.9.23/x64/lib/python3.9/site-packages/arxiv_on_deck_2/latex.py:132: LatexWarning: attempting recovering figure plots/bulge_sample_bar_nonbar_MDFs_in_bin_netLzi_kde.png\n",
      "  warnings.warn(LatexWarning(f'attempting recovering figure {image}'))\n",
      "/opt/hostedtoolcache/Python/3.9.23/x64/lib/python3.9/site-packages/arxiv_on_deck_2/latex.py:707: LatexWarning: Could not find graphic \\includegraphics[width=0.99\\linewidth]{plots/bulge_sample_bar_nonbar_MDFs_in_bin_netLzi_kde.png}\n",
      "  warnings.warn(LatexWarning(f\"Could not find graphic {k}\"))\n",
      "/opt/hostedtoolcache/Python/3.9.23/x64/lib/python3.9/site-packages/arxiv_on_deck_2/latex.py:132: LatexWarning: attempting recovering figure plots/bulge_sample_sphBulge_bar_disc_stars_Alpha_Fe_GMM_vel_orb_ni.png\n",
      "  warnings.warn(LatexWarning(f'attempting recovering figure {image}'))\n",
      "/opt/hostedtoolcache/Python/3.9.23/x64/lib/python3.9/site-packages/arxiv_on_deck_2/latex.py:707: LatexWarning: Could not find graphic \\includegraphics[width=0.99\\linewidth]{plots/bulge_sample_sphBulge_bar_disc_stars_Alpha_Fe_GMM_vel_orb_ni.png}\n",
      "  warnings.warn(LatexWarning(f\"Could not find graphic {k}\"))\n",
      "/opt/hostedtoolcache/Python/3.9.23/x64/lib/python3.9/site-packages/arxiv_on_deck_2/latex.py:132: LatexWarning: attempting recovering figure plots/bulge_sample_sphBulge_bar_disc_orbits_in_feh_bins_NI_v2.png\n",
      "  warnings.warn(LatexWarning(f'attempting recovering figure {image}'))\n",
      "/opt/hostedtoolcache/Python/3.9.23/x64/lib/python3.9/site-packages/arxiv_on_deck_2/latex.py:707: LatexWarning: Could not find graphic \\includegraphics[width=0.9\\linewidth]{plots/bulge_sample_sphBulge_bar_disc_orbits_in_feh_bins_NI_v2.png}\n",
      "  warnings.warn(LatexWarning(f\"Could not find graphic {k}\"))\n",
      "/opt/hostedtoolcache/Python/3.9.23/x64/lib/python3.9/site-packages/arxiv_on_deck_2/latex.py:132: LatexWarning: attempting recovering figure plots/bulge_sample_sphBulge_bar_disc_x4_halo_stars_AlphaFe.png\n",
      "  warnings.warn(LatexWarning(f'attempting recovering figure {image}'))\n",
      "/opt/hostedtoolcache/Python/3.9.23/x64/lib/python3.9/site-packages/arxiv_on_deck_2/latex.py:707: LatexWarning: Could not find graphic \\includegraphics[width=0.99\\linewidth]{plots/bulge_sample_sphBulge_bar_disc_x4_halo_stars_AlphaFe.png}\n",
      "  warnings.warn(LatexWarning(f\"Could not find graphic {k}\"))\n"
     ]
    },
    {
     "name": "stdout",
     "output_type": "stream",
     "text": [
      "Found 150 bibliographic references in tmp_2507.06863/bulge.bbl.\n",
      "Issues with the citations\n",
      "syntax error in line 354: '=' expected\n",
      "Retrieving document from  https://arxiv.org/e-print/2507.06989\n"
     ]
    },
    {
     "name": "stdout",
     "output_type": "stream",
     "text": [
      "extracting tarball to tmp_2507.06989..."
     ]
    },
    {
     "name": "stdout",
     "output_type": "stream",
     "text": [
      " done.\n"
     ]
    },
    {
     "name": "stderr",
     "output_type": "stream",
     "text": [
      "/opt/hostedtoolcache/Python/3.9.23/x64/lib/python3.9/site-packages/IPython/core/interactiveshell.py:3550: LatexWarning: Multiple tex files.\n",
      "\n",
      "  exec(code_obj, self.user_global_ns, self.user_ns)\n",
      "/opt/hostedtoolcache/Python/3.9.23/x64/lib/python3.9/site-packages/IPython/core/interactiveshell.py:3550: LatexWarning: Found documentclass in tmp_2507.06989/ms.tex\n",
      "\n",
      "  exec(code_obj, self.user_global_ns, self.user_ns)\n",
      "/opt/hostedtoolcache/Python/3.9.23/x64/lib/python3.9/site-packages/arxiv_on_deck_2/latex.py:414: LatexWarning: Latex injecting: 'authors.tex' from 'tmp_2507.06989/authors.tex'\n",
      "  warnings.warn(LatexWarning(f\"Latex injecting: '{ext}' from '{subsource}'\"))\n"
     ]
    },
    {
     "name": "stderr",
     "output_type": "stream",
     "text": [
      "/opt/hostedtoolcache/Python/3.9.23/x64/lib/python3.9/site-packages/arxiv_on_deck_2/latex.py:695: LatexWarning: Falling back to regex to find figures\n",
      "  warnings.warn(LatexWarning(\"Falling back to regex to find figures\"))\n",
      "/opt/hostedtoolcache/Python/3.9.23/x64/lib/python3.9/site-packages/arxiv_on_deck_2/latex.py:698: LatexWarning: Fallback: found 0 figures.\n",
      "  warnings.warn(LatexWarning(\"Fallback: found \" + str(len(results)) + \" figures.\"))\n",
      "/opt/hostedtoolcache/Python/3.9.23/x64/lib/python3.9/site-packages/arxiv_on_deck_2/latex_bib.py:132: UserWarning: Error processing bibitem\n",
      " item = \\bibitem[{{Mejia}(in prep)}]{mejia24b}{Mejia}, A. in prep, {Resolved Stellar Population Fitting}\n",
      " regex = \n",
      "        \\\\bibitem(\\[[^\\[\\]]*?\\]){(?P<bibkey>[a-zA-Z0-9\\-\\+\\.\\S]+?)}(?P<authors>|([\\D]*?))(?P<year>[12][0-9]{3})(?P<rest>.*)\n",
      "        \n",
      "  warnings.warn(str(e))\n",
      "/opt/hostedtoolcache/Python/3.9.23/x64/lib/python3.9/site-packages/arxiv_on_deck_2/latex_bib.py:132: UserWarning: Error processing bibitem\n",
      " item = \\bibitem[{{Sanchez}(in prep)}]{sanchez24}{Sanchez}, S. in prep, {LVM Data Analysis Pipeline}\n",
      " regex = \n",
      "        \\\\bibitem(\\[[^\\[\\]]*?\\]){(?P<bibkey>[a-zA-Z0-9\\-\\+\\.\\S]+?)}(?P<authors>|([\\D]*?))(?P<year>[12][0-9]{3})(?P<rest>.*)\n",
      "        \n",
      "  warnings.warn(str(e))\n"
     ]
    },
    {
     "name": "stdout",
     "output_type": "stream",
     "text": [
      "Found 180 bibliographic references in tmp_2507.06989/ms.bbl.\n",
      "Retrieving document from  https://arxiv.org/e-print/2507.07093\n"
     ]
    },
    {
     "name": "stdout",
     "output_type": "stream",
     "text": [
      "extracting tarball to tmp_2507.07093..."
     ]
    },
    {
     "name": "stdout",
     "output_type": "stream",
     "text": [
      " done.\n"
     ]
    },
    {
     "name": "stderr",
     "output_type": "stream",
     "text": [
      "/opt/hostedtoolcache/Python/3.9.23/x64/lib/python3.9/site-packages/IPython/core/interactiveshell.py:3550: LatexWarning: Multiple tex files.\n",
      "\n",
      "  exec(code_obj, self.user_global_ns, self.user_ns)\n",
      "/opt/hostedtoolcache/Python/3.9.23/x64/lib/python3.9/site-packages/IPython/core/interactiveshell.py:3550: LatexWarning: Found documentclass in tmp_2507.07093/main.tex\n",
      "\n",
      "  exec(code_obj, self.user_global_ns, self.user_ns)\n",
      "/opt/hostedtoolcache/Python/3.9.23/x64/lib/python3.9/site-packages/arxiv_on_deck_2/latex.py:414: LatexWarning: Latex injecting: 'sections/bhm_cartons/bhm_target_cartons_v0' from 'tmp_2507.07093/sections/bhm_cartons/bhm_target_cartons_v0.tex'\n",
      "  warnings.warn(LatexWarning(f\"Latex injecting: '{ext}' from '{subsource}'\"))\n",
      "/opt/hostedtoolcache/Python/3.9.23/x64/lib/python3.9/site-packages/arxiv_on_deck_2/latex.py:414: LatexWarning: Latex injecting: 'sections/mwm_cartons/mwm_cartons_appendix' from 'tmp_2507.07093/sections/mwm_cartons/mwm_cartons_appendix.tex'\n",
      "  warnings.warn(LatexWarning(f\"Latex injecting: '{ext}' from '{subsource}'\"))\n",
      "/opt/hostedtoolcache/Python/3.9.23/x64/lib/python3.9/site-packages/arxiv_on_deck_2/latex.py:414: LatexWarning: Latex injecting: 'sections/data/dataviz' from 'tmp_2507.07093/sections/data/dataviz.tex'\n",
      "  warnings.warn(LatexWarning(f\"Latex injecting: '{ext}' from '{subsource}'\"))\n",
      "/opt/hostedtoolcache/Python/3.9.23/x64/lib/python3.9/site-packages/arxiv_on_deck_2/latex.py:414: LatexWarning: Latex injecting: 'sections/data/datamodel' from 'tmp_2507.07093/sections/data/datamodel.tex'\n",
      "  warnings.warn(LatexWarning(f\"Latex injecting: '{ext}' from '{subsource}'\"))\n",
      "/opt/hostedtoolcache/Python/3.9.23/x64/lib/python3.9/site-packages/arxiv_on_deck_2/latex.py:414: LatexWarning: Latex injecting: 'sections/data/cas' from 'tmp_2507.07093/sections/data/cas.tex'\n",
      "  warnings.warn(LatexWarning(f\"Latex injecting: '{ext}' from '{subsource}'\"))\n",
      "/opt/hostedtoolcache/Python/3.9.23/x64/lib/python3.9/site-packages/arxiv_on_deck_2/latex.py:414: LatexWarning: Latex injecting: 'sections/data/sas' from 'tmp_2507.07093/sections/data/sas.tex'\n",
      "  warnings.warn(LatexWarning(f\"Latex injecting: '{ext}' from '{subsource}'\"))\n",
      "/opt/hostedtoolcache/Python/3.9.23/x64/lib/python3.9/site-packages/arxiv_on_deck_2/latex.py:414: LatexWarning: Latex injecting: 'sections/data/access' from 'tmp_2507.07093/sections/data/access.tex'\n",
      "  warnings.warn(LatexWarning(f\"Latex injecting: '{ext}' from '{subsource}'\"))\n",
      "/opt/hostedtoolcache/Python/3.9.23/x64/lib/python3.9/site-packages/arxiv_on_deck_2/latex.py:414: LatexWarning: Latex injecting: 'sections/pipelines/BOSS_DRP' from 'tmp_2507.07093/sections/pipelines/BOSS_DRP.tex'\n",
      "  warnings.warn(LatexWarning(f\"Latex injecting: '{ext}' from '{subsource}'\"))\n",
      "/opt/hostedtoolcache/Python/3.9.23/x64/lib/python3.9/site-packages/arxiv_on_deck_2/latex.py:414: LatexWarning: Latex injecting: 'sections/pipelines/Overview' from 'tmp_2507.07093/sections/pipelines/Overview.tex'\n",
      "  warnings.warn(LatexWarning(f\"Latex injecting: '{ext}' from '{subsource}'\"))\n",
      "/opt/hostedtoolcache/Python/3.9.23/x64/lib/python3.9/site-packages/arxiv_on_deck_2/latex.py:414: LatexWarning: Latex injecting: 'sections/MOS_Targeting/sdss_id' from 'tmp_2507.07093/sections/MOS_Targeting/sdss_id.tex'\n",
      "  warnings.warn(LatexWarning(f\"Latex injecting: '{ext}' from '{subsource}'\"))\n",
      "/opt/hostedtoolcache/Python/3.9.23/x64/lib/python3.9/site-packages/arxiv_on_deck_2/latex.py:414: LatexWarning: Latex injecting: 'sections/MOS_Targeting/semaphore' from 'tmp_2507.07093/sections/MOS_Targeting/semaphore.tex'\n",
      "  warnings.warn(LatexWarning(f\"Latex injecting: '{ext}' from '{subsource}'\"))\n"
     ]
    },
    {
     "name": "stdout",
     "output_type": "stream",
     "text": [
      "Found 194 bibliographic references in tmp_2507.07093/main.bbl.\n",
      "Issues with the citations\n",
      "syntax error in line 473: '=' expected\n"
     ]
    }
   ],
   "source": [
    "documents = []\n",
    "failed = []\n",
    "for paper in tqdm(candidates):\n",
    "    # debug crap\n",
    "    paper['identifier'] = paper['identifier'].lower().replace('arxiv:', '').replace(r'\\n', '').strip()\n",
    "    paper_id = paper['identifier']\n",
    "    \n",
    "    folder = f'tmp_{paper_id}'\n",
    "\n",
    "    try:\n",
    "        if not os.path.isdir(folder):\n",
    "            folder = retrieve_document_source(f\"{paper_id}\", f'tmp_{paper_id}')\n",
    "        \n",
    "        try:\n",
    "            doc = latex.LatexDocument(folder, validation=validation)    \n",
    "        except AffiliationError as affilerror:\n",
    "            msg = f\"ArXiv:{paper_id:s} is not an MPIA paper... \" + str(affilerror)\n",
    "            failed.append((paper, \"affiliation error: \" + str(affilerror) ))\n",
    "            continue\n",
    "        \n",
    "        # Hack because sometimes author parsing does not work well\n",
    "        if (len(doc.authors) != len(paper['authors'])):\n",
    "            doc._authors = paper['authors']\n",
    "        else:\n",
    "            # highlight authors (FIXME: doc.highlight_authors)\n",
    "            # done on arxiv paper already\n",
    "            doc._authors = highlight_authors_in_list(\n",
    "                [get_initials(k) for k in doc.authors], \n",
    "                mpia_authors, verbose=True)\n",
    "        if (doc.abstract) in (None, ''):\n",
    "            doc._abstract = paper['abstract']\n",
    "            \n",
    "        doc.comment = (get_markdown_badge(paper_id) + \n",
    "                       \"<mark>Appeared on: \" + paper['date'] + \"</mark> - \")\n",
    "        if paper['comments']:\n",
    "            doc.comment += \" _\" + paper['comments'] + \"_\"\n",
    "        \n",
    "        full_md = doc.generate_markdown_text()\n",
    "        \n",
    "        full_md += get_markdown_qrcode(paper_id)\n",
    "        \n",
    "        # replace citations\n",
    "        try:\n",
    "            bibdata = latex_bib.LatexBib.from_doc(doc)\n",
    "            full_md = latex_bib.replace_citations(full_md, bibdata)\n",
    "        except Exception as e:\n",
    "            print(\"Issues with the citations\")\n",
    "            print(e)\n",
    "        \n",
    "        documents.append((paper_id, full_md))\n",
    "    except Exception as e:\n",
    "        warnings.warn(latex.LatexWarning(f\"{paper_id:s} did not run properly\\n\" +\n",
    "                                         str(e)\n",
    "                                        ))\n",
    "        failed.append((paper, \"latex error \" + str(e)))"
   ]
  },
  {
   "cell_type": "markdown",
   "id": "2505a25c",
   "metadata": {
    "papermill": {
     "duration": 0.004335,
     "end_time": "2025-07-10T04:24:45.168259",
     "exception": false,
     "start_time": "2025-07-10T04:24:45.163924",
     "status": "completed"
    },
    "tags": []
   },
   "source": [
    "### Export the logs\n",
    "\n",
    "Throughout, we also keep track of the logs per paper. see `logs-{today date}.md` "
   ]
  },
  {
   "cell_type": "code",
   "execution_count": 6,
   "id": "d733828a",
   "metadata": {
    "execution": {
     "iopub.execute_input": "2025-07-10T04:24:45.177712Z",
     "iopub.status.busy": "2025-07-10T04:24:45.177516Z",
     "iopub.status.idle": "2025-07-10T04:24:45.194092Z",
     "shell.execute_reply": "2025-07-10T04:24:45.193431Z"
    },
    "papermill": {
     "duration": 0.022525,
     "end_time": "2025-07-10T04:24:45.195175",
     "exception": false,
     "start_time": "2025-07-10T04:24:45.172650",
     "status": "completed"
    },
    "scrolled": false,
    "tags": []
   },
   "outputs": [
    {
     "data": {
      "text/markdown": [
       "## Successful papers"
      ],
      "text/plain": [
       "<IPython.core.display.Markdown object>"
      ]
     },
     "metadata": {},
     "output_type": "display_data"
    },
    {
     "data": {
      "text/markdown": [
       "\n",
       "|||\n",
       "|---:|:---|\n",
       "| [![arXiv](https://img.shields.io/badge/arXiv-2507.06793-b31b1b.svg)](https://arxiv.org/abs/2507.06793) | **Spatially resolved H$α$ emission in B14-65666: compact starbursts, ionizing efficiency and gas kinematics in an advanced merger at the Epoch of Reionization**  |\n",
       "|| C. Prieto-Jiménez, et al. -- incl., <mark>F. Walter</mark>, <mark>T. Henning</mark> |\n",
       "|*Appeared on*| *2025-07-10*|\n",
       "|*Comments*| *16 pages, 9 figures, accepted for publication in Astronomy and Astrophysics*|\n",
       "|**Abstract**|            We present MIRI/JWST medium resolution spectroscopy (MRS) and imaging (MIRIM) of B14-65666, a Lyman-break and interacting galaxy at redshift $z$=7.15. We detect the H$\\alpha$ line emission in this system, revealing a spatially-resolved structure of the H$\\alpha$ emitting gas, which consists of two distinct galaxies, E and W, at a projected distance of 0.4\". Galaxy E is very compact in the rest-frame UV, while W galaxy is more extended, showing a clumpy structure reminiscent of a tidal tail. The total H$\\alpha$ luminosity implies that the system is forming stars at a Star Formation Rate (SFR) of 76$\\pm$8 M$_{\\odot}$ yr$^{-1}$ and 30$\\pm$4 M$_{\\odot}$ yr$^{-1}$ for E and W, respectively. The ionizing photon production efficiency is within the range measured in galaxies at similar redshifts. The high values derived for the H$\\alpha$ equivalent widths (EW) and the distinct locations of the E and W galaxies in the $\\log(\\zeta_\\mathrm{ion}$) $-$ EW (H$\\alpha$) plane, indicate that the system is dominated by a young (less than 10 Myr) stellar population. The overall spectral energy distribution suggests that in addition to a young stellar population, the two galaxies may have mature stellar population and very different dust attenuation. The derived SFR and stellar masses identify the two galaxies as going through a starburst phase. The kinematics of the ionized gas traced by the H$\\alpha$ line show a velocity difference of 175 $\\pm$ 28 km s$^{-1}$ between the two components of B14-65666. The in-depth study of systems like B14-65666 reveal how galaxy mergers in the early Universe drive intense star formation, shape the interstellar medium, and influence the buildup of stellar mass, just 700 $-$ 800 Myr after the Big Bang.         |"
      ],
      "text/plain": [
       "[2507.06793] Spatially resolved H$α$ emission in B14-65666: compact starbursts, ionizing efficiency and gas kinematics in an advanced merger at the Epoch of Reionization\n",
       "\tC. Prieto-Jiménez, et al. -- incl., <mark>F. Walter</mark>, <mark>T. Henning</mark>"
      ]
     },
     "metadata": {},
     "output_type": "display_data"
    },
    {
     "data": {
      "text/markdown": [
       "\n",
       "|||\n",
       "|---:|:---|\n",
       "| [![arXiv](https://img.shields.io/badge/arXiv-2507.06863-b31b1b.svg)](https://arxiv.org/abs/2507.06863) | **The Spheroidal Bulge of the Milky Way: Chemodynamically Distinct from the Inner-Thick Disc and Bar**  |\n",
       "|| S. Nepal, et al. -- incl., <mark>S. Souza</mark>, <mark>G. Guiglion</mark> |\n",
       "|*Appeared on*| *2025-07-10*|\n",
       "|*Comments*| *Submitted. Abstract modified and abridged due to character limit*|\n",
       "|**Abstract**|            Studying the composition and origin of the inner region of our Galaxy -- the \"Galactic bulge\" -- is crucial for understanding the formation and evolution of the Milky Way and other galaxies. We present new observational constraints based on a sample of around 18,000 stars in the inner Galaxy, combining Gaia DR3 RVS and APOGEE DR17 spectroscopy. Gaia-RVS complements APOGEE by improving sampling of the metallicity, [Fe/H] in the -2.0 to -0.5 dex range. This work marks the first application of Gaia-RVS spectroscopy to the bulge region, enabled by a novel machine learning approach (hybrid-CNN) that derives stellar parameters from intermediate-resolution spectra with precision comparable to APOGEE's infrared data. We performed full orbit integrations using a barred Galactic potential and applied orbital frequency analysis to disentangle the stellar populations in the inner Milky Way. For the first time, traced by the field stars, we are able to robustly identify the long-sought pressure supported bulge. We show this stellar population to be chemically and kinematically distinct from the other main components co-existing in the same region. The spheroidal bulge has a metallicity distribution function (MDF) peak at around -0.70 dex extending to solar value, is dominated by a high-[alpha/Fe] population with almost no dependency on metallicity, consistent with very rapid early formation, predating the thick disc and the bar. We find evidence that the bar has influenced the dynamics of the spheroidal bulge, introducing a mild triaxiality and radial extension. We identify a group of stars on X4 orbits, likely native to the early spheroid, as this population mimics the chemistry of the spheroidal bulge, with a minor contamination from the more metal-poor ([Fe/H] < -1.0) halo. We find the inner-thick disc to be kinematically hotter (mean Vphi ~125 km/s) than the local-thick disc. ...         |"
      ],
      "text/plain": [
       "[2507.06863] The Spheroidal Bulge of the Milky Way: Chemodynamically Distinct from the Inner-Thick Disc and Bar\n",
       "\tS. Nepal, et al. -- incl., <mark>S. Souza</mark>, <mark>G. Guiglion</mark>"
      ]
     },
     "metadata": {},
     "output_type": "display_data"
    },
    {
     "data": {
      "text/markdown": [
       "\n",
       "|||\n",
       "|---:|:---|\n",
       "| [![arXiv](https://img.shields.io/badge/arXiv-2507.06989-b31b1b.svg)](https://arxiv.org/abs/2507.06989) | **Sloan Digital Sky Survey-V: Pioneering Panoptic Spectroscopy**  |\n",
       "|| J. A. Kollmeier, et al. -- incl., <mark>H.-W. Rix</mark>, <mark>N. Deacon</mark>, <mark>M. Demianenko</mark>, <mark>K. El-Badry</mark>, <mark>M. Häberle</mark>, <mark>T. Herbst</mark> |\n",
       "|*Appeared on*| *2025-07-10*|\n",
       "|*Comments*| *76 pages, submitted to the Astronomical Journal*|\n",
       "|**Abstract**|            The Sloan Digital Sky Survey-V (SDSS-V) is pioneering panoptic spectroscopy: it is the first all-sky, multi-epoch, optical-to-infrared spectroscopic survey. SDSS-V is mapping the sky with multi-object spectroscopy (MOS) at telescopes in both hemispheres (the 2.5-m Sloan Foundation Telescope at Apache Point Observatory and the 100-inch du Pont Telescope at Las Campanas Observatory), where 500 zonal robotic fiber positioners feed light from a wide-field focal plane to an optical (R$\\sim 2000$, 500 fibers) and a near-infrared (R$\\sim 22,000$, 300 fibers) spectrograph. In addition to these MOS capabilities, the survey is pioneering ultra wide-field ($\\sim$ 4000~deg$^2$) integral field spectroscopy enabled by a new dedicated facility (LVM-I) at Las Campanas Observatory, where an integral field spectrograph (IFS) with 1801 lenslet-coupled fibers arranged in a 0.5 degree diameter hexagon feeds multiple R$\\sim$4000 optical spectrographs that cover 3600-9800 angstroms. SDSS-V's hardware and multi-year survey strategy are designed to decode the chemo-dynamical history of the Milky Way Galaxy and tackle fundamental open issues in stellar physics in its Milky Way Mapper program, trace the growth physics of supermassive black holes in its Black Hole Mapper program, and understand the self-regulation mechanisms and the chemical enrichment of galactic ecosystems at the energy-injection scale in its Local Volume Mapper program. The survey is well-timed to multiply the scientific output from major all-sky space missions. The SDSS-V MOS programs began robotic operations in 2021; IFS observations began in 2023 with the completion of the LVM-I facility. SDSS-V builds upon decades of heritage of SDSS's pioneering advances in data analysis, collaboration spirit, infrastructure, and product deliverables in astronomy.         |"
      ],
      "text/plain": [
       "[2507.06989] Sloan Digital Sky Survey-V: Pioneering Panoptic Spectroscopy\n",
       "\tJ. A. Kollmeier, et al. -- incl., <mark>H.-W. Rix</mark>, <mark>N. Deacon</mark>, <mark>M. Demianenko</mark>, <mark>K. El-Badry</mark>, <mark>M. Häberle</mark>, <mark>T. Herbst</mark>"
      ]
     },
     "metadata": {},
     "output_type": "display_data"
    },
    {
     "data": {
      "text/markdown": [
       "\n",
       "|||\n",
       "|---:|:---|\n",
       "| [![arXiv](https://img.shields.io/badge/arXiv-2507.07093-b31b1b.svg)](https://arxiv.org/abs/2507.07093) | **The Nineteenth Data Release of the Sloan Digital Sky Survey**  |\n",
       "|| S. Collaboration, et al. -- incl., <mark>N. Deacon</mark>, <mark>M. Demianenko</mark>, <mark>K. El-Badry</mark>, <mark>M. Häberle</mark> |\n",
       "|*Appeared on*| *2025-07-10*|\n",
       "|*Comments*| *Submitted to AASJournals. 56 Pages, 9 Tables, 11 Figures*|\n",
       "|**Abstract**|            Mapping the local and distant Universe is key to our understanding of it. For decades, the Sloan Digital Sky Survey (SDSS) has made a concerted effort to map millions of celestial objects to constrain the physical processes that govern our Universe. The most recent and fifth generation of SDSS (SDSS-V) is organized into three scientific ``mappers\". Milky Way Mapper (MWM) that aims to chart the various components of the Milky Way and constrain its formation and assembly, Black Hole Mapper (BHM), which focuses on understanding supermassive black holes in distant galaxies across the Universe, and Local Volume Mapper (LVM), which uses integral field spectroscopy to map the ionized interstellar medium in the local group. This paper describes and outlines the scope and content for the nineteenth data release (DR19) of SDSS and the most substantial to date in SDSS-V. DR19 is the first to contain data from all three mappers. Additionally, we also describe nine value added catalogs (VACs) that enhance the science that can be conducted with the SDSS-V data. Finally, we discuss how to access SDSS DR19 and provide illustrative examples and tutorials.         |"
      ],
      "text/plain": [
       "[2507.07093] The Nineteenth Data Release of the Sloan Digital Sky Survey\n",
       "\tS. Collaboration, et al. -- incl., <mark>N. Deacon</mark>, <mark>M. Demianenko</mark>, <mark>K. El-Badry</mark>, <mark>M. Häberle</mark>"
      ]
     },
     "metadata": {},
     "output_type": "display_data"
    },
    {
     "data": {
      "text/markdown": [
       "## Failed papers"
      ],
      "text/plain": [
       "<IPython.core.display.Markdown object>"
      ]
     },
     "metadata": {},
     "output_type": "display_data"
    },
    {
     "data": {
      "text/markdown": [
       "\n",
       "|||\n",
       "|---:|:---|\n",
       "| [![arXiv](https://img.shields.io/badge/arXiv-2507.06357-b31b1b.svg)](https://arxiv.org/abs/2507.06357) | **Differentiable Stellar Atmospheres with Physics-Informed Neural Networks**  |\n",
       "|| <mark>J. Li</mark>, M. Jian, Y.-S. Ting, G. M. Green |\n",
       "|*Appeared on*| *2025-07-10*|\n",
       "|*Comments*| *Accepted at the Workshop on Machine Learning for Astrophysics (ICML 2025)*|\n",
       "|**Abstract**|            We present Kurucz-a1, a physics-informed neural network (PINN) that emulates 1D stellar atmosphere models under Local Thermodynamic Equilibrium (LTE), addressing a critical bottleneck in differentiable stellar spectroscopy. By incorporating hydrostatic equilibrium as a physical constraint during training, Kurucz-a1 creates a differentiable atmospheric structure solver that maintains physical consistency while achieving computational efficiency. Kurucz-a1 can achieve superior hydrostatic equilibrium and more consistent with the solar observed spectra compared to ATLAS-12 itself, demonstrating the advantages of modern optimization techniques. Combined with modern differentiable radiative transfer codes, this approach enables data-driven optimization of universal physical parameters across diverse stellar populations-a capability essential for next-generation stellar astrophysics.         |\n",
       "|<p style=\"color:green\"> **ERROR** </p>| <p style=\"color:green\">affiliation error: mpia.affiliation_verifications: '69117' keyword not found.</p> |"
      ],
      "text/plain": [
       "<IPython.core.display.Markdown object>"
      ]
     },
     "metadata": {},
     "output_type": "display_data"
    },
    {
     "data": {
      "text/markdown": [
       "\n",
       "|||\n",
       "|---:|:---|\n",
       "| [![arXiv](https://img.shields.io/badge/arXiv-2507.06841-b31b1b.svg)](https://arxiv.org/abs/2507.06841) | **Measuring cosmic baryon density with FRB and GW data**  |\n",
       "|| J.-G. Zhang, et al. -- incl., <mark>X. Zhang</mark> |\n",
       "|*Appeared on*| *2025-07-10*|\n",
       "|*Comments*| *13 pages, 3 figures*|\n",
       "|**Abstract**|            The dispersion measure (DM) analysis of extragalactic fast radio bursts (FRBs) has accounted for all cosmic baryons but remains limited by systematic uncertainties from various parameter degeneracies. We show that the prominent degeneracy between the baryon density ($\\Omega_{\\rm b}$) and the Hubble constant ($H_0$) can be disentangled through an independent $H_0$ value uniquely inferred from the absolute luminosity distance measurements of gravitational-wave (GW) standard sirens. By combining $104$ localized FRBs with $47$ GW events, we obtain a robust, late-Universe measurement of \\ob $=0.0488\\pm0.0064$ ($1\\sigma$), in concordance with early-Universe observations of CMB + BBN. Notably, incorporating GW data helps not only avoid biases induced by the $H_0$ tension, but also mitigate those from the parameters of diffuse baryon fraction and DM distribution models. Although the current precision ($\\sim 13\\%$) is limited by sample size, the growing detections of both FRBs and GWs will make their synergy a powerful probe of low-redshift cosmology.         |\n",
       "|<p style=\"color:green\"> **ERROR** </p>| <p style=\"color:green\">affiliation error: mpia.affiliation_verifications: 'Heidelberg' keyword not found.</p> |"
      ],
      "text/plain": [
       "<IPython.core.display.Markdown object>"
      ]
     },
     "metadata": {},
     "output_type": "display_data"
    }
   ],
   "source": [
    "import datetime\n",
    "today = str(datetime.date.today())\n",
    "logfile = f\"_build/html/logs/log-{today}.md\"\n",
    "\n",
    "\n",
    "with open(logfile, 'w') as logs:\n",
    "    # Success\n",
    "    logs.write(f'# Arxiv on Deck 2: Logs - {today}\\n\\n')\n",
    "    logs.write(\"\"\"* Arxiv had {0:,d} new papers\\n\"\"\".format(len(new_papers)))\n",
    "    logs.write(\"\"\"    * {0:,d} with possible author matches\\n\\n\"\"\".format(len(candidates)))\n",
    "    logs.write(\"## Sucessful papers\\n\\n\")\n",
    "    display(Markdown(\"## Successful papers\"))\n",
    "    success = [k[0] for k in documents]\n",
    "    for candid in candidates:\n",
    "        if candid['identifier'].split(':')[-1] in success:\n",
    "            display(candid)\n",
    "            logs.write(candid.generate_markdown_text() + '\\n\\n')\n",
    "\n",
    "    ## failed\n",
    "    logs.write(\"## Failed papers\\n\\n\")\n",
    "    display(Markdown(\"## Failed papers\"))\n",
    "    failed = sorted(failed, key=lambda x: x[1])\n",
    "    current_reason = \"\"\n",
    "    for paper, reason in failed:\n",
    "        if 'affiliation' in reason:\n",
    "            color = 'green'\n",
    "        else:\n",
    "            color = 'red'\n",
    "        data = Markdown(\n",
    "                paper.generate_markdown_text() + \n",
    "                f'\\n|<p style=\"color:{color:s}\"> **ERROR** </p>| <p style=\"color:{color:s}\">{reason:s}</p> |'\n",
    "               )\n",
    "        if reason != current_reason:\n",
    "            logs.write(f'### {reason:s} \\n\\n')\n",
    "            current_reason = reason\n",
    "        logs.write(data.data + '\\n\\n')\n",
    "        \n",
    "        # only display here the important errors (all in logs)\n",
    "        # if color in ('red',):\n",
    "        display(data)"
   ]
  },
  {
   "cell_type": "markdown",
   "id": "472d20ee",
   "metadata": {
    "papermill": {
     "duration": 0.004932,
     "end_time": "2025-07-10T04:24:45.205717",
     "exception": false,
     "start_time": "2025-07-10T04:24:45.200785",
     "status": "completed"
    },
    "tags": []
   },
   "source": [
    "## Export documents\n",
    "\n",
    "We now write the .md files and export relevant images"
   ]
  },
  {
   "cell_type": "code",
   "execution_count": 7,
   "id": "d426aed9",
   "metadata": {
    "execution": {
     "iopub.execute_input": "2025-07-10T04:24:45.216678Z",
     "iopub.status.busy": "2025-07-10T04:24:45.216208Z",
     "iopub.status.idle": "2025-07-10T04:24:45.222908Z",
     "shell.execute_reply": "2025-07-10T04:24:45.222372Z"
    },
    "papermill": {
     "duration": 0.013163,
     "end_time": "2025-07-10T04:24:45.223883",
     "exception": false,
     "start_time": "2025-07-10T04:24:45.210720",
     "status": "completed"
    },
    "tags": []
   },
   "outputs": [],
   "source": [
    "def export_markdown_summary(md: str, md_fname:str, directory: str):\n",
    "    \"\"\"Export MD document and associated relevant images\"\"\"\n",
    "    import os\n",
    "    import shutil\n",
    "    import re\n",
    "\n",
    "    if (os.path.exists(directory) and not os.path.isdir(directory)):\n",
    "        raise RuntimeError(f\"a non-directory file exists with name {directory:s}\")\n",
    "\n",
    "    if (not os.path.exists(directory)):\n",
    "        print(f\"creating directory {directory:s}\")\n",
    "        os.mkdir(directory)\n",
    "\n",
    "    fig_fnames = (re.compile(r'\\[Fig.*\\]\\((.*)\\)').findall(md) + \n",
    "                  re.compile(r'\\<img src=\"([^>\\s]*)\"[^>]*/>').findall(md))\n",
    "    print(\"found figures\", fig_fnames)\n",
    "    for fname in fig_fnames:\n",
    "        if 'http' in fname:\n",
    "            # No need to copy online figures\n",
    "            continue\n",
    "        if not os.path.exists(fname):\n",
    "            print(\"file not found\", fname)\n",
    "            continue\n",
    "        print(\"copying \", fname, \"to\", directory)\n",
    "        destdir = os.path.join(directory, os.path.dirname(fname))\n",
    "        destfname = os.path.join(destdir, os.path.basename(fname))\n",
    "        try:\n",
    "            os.makedirs(destdir)\n",
    "        except FileExistsError:\n",
    "            pass\n",
    "        shutil.copy(fname, destfname)\n",
    "    with open(os.path.join(directory, md_fname), 'w') as fout:\n",
    "        fout.write(md)\n",
    "    print(\"exported in \", os.path.join(directory, md_fname))\n",
    "    [print(\"    + \" + os.path.join(directory,fk)) for fk in fig_fnames]"
   ]
  },
  {
   "cell_type": "code",
   "execution_count": 8,
   "id": "014d04a4",
   "metadata": {
    "execution": {
     "iopub.execute_input": "2025-07-10T04:24:45.234775Z",
     "iopub.status.busy": "2025-07-10T04:24:45.234537Z",
     "iopub.status.idle": "2025-07-10T04:24:45.243489Z",
     "shell.execute_reply": "2025-07-10T04:24:45.242851Z"
    },
    "papermill": {
     "duration": 0.01553,
     "end_time": "2025-07-10T04:24:45.244534",
     "exception": false,
     "start_time": "2025-07-10T04:24:45.229004",
     "status": "completed"
    },
    "tags": []
   },
   "outputs": [
    {
     "name": "stdout",
     "output_type": "stream",
     "text": [
      "found figures ['tmp_2507.06793/./mirim_mrs_nircam2.png', 'tmp_2507.06793/./M_R_B14.png', 'tmp_2507.06793/./log_Ion-EW.png']\n",
      "copying  tmp_2507.06793/./mirim_mrs_nircam2.png to _build/html/\n",
      "copying  tmp_2507.06793/./M_R_B14.png to _build/html/\n",
      "copying  tmp_2507.06793/./log_Ion-EW.png to _build/html/\n",
      "exported in  _build/html/2507.06793.md\n",
      "    + _build/html/tmp_2507.06793/./mirim_mrs_nircam2.png\n",
      "    + _build/html/tmp_2507.06793/./M_R_B14.png\n",
      "    + _build/html/tmp_2507.06793/./log_Ion-EW.png\n",
      "found figures []\n",
      "exported in  _build/html/2507.06863.md\n",
      "found figures []\n",
      "exported in  _build/html/2507.06989.md\n",
      "found figures ['tmp_2507.07093/./figures/Flowchart.png', 'tmp_2507.07093/./figures/IPL3_cool_3visit_unbiased_best_RVs.png', 'tmp_2507.07093/./figures/helix_rgb.png']\n",
      "copying  tmp_2507.07093/./figures/Flowchart.png to _build/html/\n",
      "copying  tmp_2507.07093/./figures/IPL3_cool_3visit_unbiased_best_RVs.png to _build/html/\n",
      "copying  tmp_2507.07093/./figures/helix_rgb.png to _build/html/\n",
      "exported in  _build/html/2507.07093.md\n",
      "    + _build/html/tmp_2507.07093/./figures/Flowchart.png\n",
      "    + _build/html/tmp_2507.07093/./figures/IPL3_cool_3visit_unbiased_best_RVs.png\n",
      "    + _build/html/tmp_2507.07093/./figures/helix_rgb.png\n"
     ]
    }
   ],
   "source": [
    "for paper_id, md in documents:\n",
    "    export_markdown_summary(md, f\"{paper_id:s}.md\", '_build/html/')"
   ]
  },
  {
   "cell_type": "markdown",
   "id": "f087a0a7",
   "metadata": {
    "papermill": {
     "duration": 0.005065,
     "end_time": "2025-07-10T04:24:45.254747",
     "exception": false,
     "start_time": "2025-07-10T04:24:45.249682",
     "status": "completed"
    },
    "tags": []
   },
   "source": [
    "## Display the papers\n",
    "\n",
    "Not necessary but allows for a quick check."
   ]
  },
  {
   "cell_type": "code",
   "execution_count": 9,
   "id": "fd25f625",
   "metadata": {
    "execution": {
     "iopub.execute_input": "2025-07-10T04:24:45.266056Z",
     "iopub.status.busy": "2025-07-10T04:24:45.265654Z",
     "iopub.status.idle": "2025-07-10T04:24:45.273718Z",
     "shell.execute_reply": "2025-07-10T04:24:45.273203Z"
    },
    "papermill": {
     "duration": 0.014631,
     "end_time": "2025-07-10T04:24:45.274613",
     "exception": false,
     "start_time": "2025-07-10T04:24:45.259982",
     "status": "completed"
    },
    "scrolled": false,
    "tags": []
   },
   "outputs": [
    {
     "data": {
      "text/markdown": [
       "<div class=\"macros\" style=\"visibility:hidden;\">\n",
       "$\\newcommand{\\ensuremath}{}$\n",
       "$\\newcommand{\\xspace}{}$\n",
       "$\\newcommand{\\object}[1]{\\texttt{#1}}$\n",
       "$\\newcommand{\\farcs}{{.}''}$\n",
       "$\\newcommand{\\farcm}{{.}'}$\n",
       "$\\newcommand{\\arcsec}{''}$\n",
       "$\\newcommand{\\arcmin}{'}$\n",
       "$\\newcommand{\\ion}[2]{#1#2}$\n",
       "$\\newcommand{\\textsc}[1]{\\textrm{#1}}$\n",
       "$\\newcommand{\\hl}[1]{\\textrm{#1}}$\n",
       "$\\newcommand{\\footnote}[1]{}$\n",
       "$\\newcommand{\\CII}{[\\ion{C}{II}]158\\mum}$\n",
       "$\\newcommand{\\oddpm}[2]{\\raisebox{0.5ex}{\\tiny\\substack{+#1 \\ -#2}}}$</div>\n",
       "\n",
       "\n",
       "\n",
       "<div id=\"title\">\n",
       "\n",
       "# Spatially resolved H$\\alpha$ emission in B14-65666: compact starbursts, ionizing efficiency and gas kinematics in an advanced merger at the Epoch of Reionization\n",
       "\n",
       "</div>\n",
       "<div id=\"comments\">\n",
       "\n",
       "[![arXiv](https://img.shields.io/badge/arXiv-2507.06793-b31b1b.svg)](https://arxiv.org/abs/2507.06793)<mark>Appeared on: 2025-07-10</mark> -  _16 pages, 9 figures, accepted for publication in Astronomy and Astrophysics_\n",
       "\n",
       "</div>\n",
       "<div id=\"authors\">\n",
       "\n",
       "C. Prieto-Jiménez, et al. -- incl., <mark>F. Walter</mark>, <mark>T. Henning</mark>\n",
       "\n",
       "</div>\n",
       "<div id=\"abstract\">\n",
       "\n",
       "**Abstract:** We present MIRI/JWST medium resolution spectroscopy (MRS) and imaging (MIRIM) of B14-65666, a source identified as a Lyman-break and interacting galaxy at a redshift of $z$ = 7.15. We detect the H $\\alpha$ line emission in this system, revealing a spatially-resolved structure of the H $\\alpha$ emitting gas, which consists of two distinct galaxies, E and W, at a projected distance of 0.4 arcsec apart (i.e. 2.2 kpc).One of the galaxies (E) is very compact (upper limit for the effective radius of 63 pc) in the rest-frame ultraviolet light, while the other galaxy (W) is more extended (effective radius of 348 pc), showing a clumpy structure reminiscent of a tidal tail.The total H $\\alpha$ luminosity implies that the system is forming stars at a rate of 76 ± 8 M $_{\\odot}$ yr $^{-1}$ and 30 ± 4 M $_{\\odot}$ yr $^{-1}$ for E and W galaxies, respectively. The ionizing photon production efficiency, $\\log(\\zeta_\\mathrm{ion}$ ), for galaxies E and W has values of 25.1 ± 0.1 Hz erg $^{-1}$ and 25.5 ± 0.1 Hz erg $^{-1}$ , within the range measured in galaxies at similar redshifts. The high values derived for the H $\\alpha$ equivalent widths (832 ± 100 and 536 ± 78 $Å$ ) and the distinct locations of the E and W galaxies in the $\\log(\\zeta_\\mathrm{ion}$ ) $-$ equivalent width (H $\\alpha$ ) plane, indicate that the system is dominated by a young (less than 10 Myr) stellar population.  The overall spectral energy distribution suggests that in addition to a young stellar population, the two galaxies may have mature (more than 100 Myr) stellar population and very different dust attenuation with galaxy E showing a larger attenuation (A $_{V}$ = 1.5 mag), compared to the almost dust-free (A $_{V}$ = 0.1 mag) galaxy W. The derived Star Formation Rate (SFR) and stellar masses identify the two galaxies as going through a starburst phase characterized by a specific SFR (sSFR) of 40 -- 50 Gyr $^{-1}$ . Galaxy E has an extreme stellar mass surface density (6 $\\times$ 10 $^4$ M $_{\\odot}$ pc $^{-2}$ ), close to that of the nuclei of low- $z$ galaxies while galaxy W (10 $^3$ M $_{\\odot}$ pc $^{-2}$ ) is consistent with the surface densities measured in galaxies at these redshifts.The kinematics of the ionized gas traced by the H $\\alpha$ line show a velocity difference of 175 $\\pm$ 28 km s $^{-1}$ between the two components of B14-65666, and a broader profile for galaxy W (312 $\\pm $ 44 km s $^{-1}$ ) relative to galaxy E (243 $\\pm$ 41 km s $^{-1}$ ).The detailed study of B14-65666 shows the complex stellar and Interstellar Medium structure in merging galaxy systems was already in place by the Epoch of Reionization. The general properties of B14-65666 agree with those predicted for massive merging systems at redshifts of 7 and above in the FIRSTLIGHT cosmological simulations.The in-depth study of systems like B14-65666 reveal how galaxy mergers in the early Universe drive intense star formation, shape the interstellar medium, and influence the buildup of stellar mass, just 700 -- 800 Myr after the Big Bang.\n",
       "\n",
       "</div>\n",
       "\n",
       "<div id=\"div_fig1\">\n",
       "\n",
       "<img src=\"tmp_2507.06793/./mirim_mrs_nircam2.png\" alt=\"Fig5\" width=\"100%\"/>\n",
       "\n",
       "**Figure 5. -** _Top left_: MIRI Image F560W. The white circumference represents an aperture of radius 0.9 \". The black solid elliptical line represents the galaxies E+W aperture for the H$\\alpha$ emission of the whole galaxy, the black dashed lines represent the apertures for galaxies E and W respectively. The white filled circle area on the bottom left represents the spatial resolution (PSF FWHM) of MIRI Image F560W. _Top right_: H$\\alpha$ line map. The H$\\alpha$ line map is generated by integrating H$\\alpha$ line emission in the velocity range, -500 < _ v_[km s$^{-1}$] < 300. The white filled area represents the spatial resolution (PSF FWHM) of the MRS. _Bottom_: NIRCam cutouts in six filters, F115W to F444W (left to right and top to bottom). The images are homogenized to the PSF of MIRI Image, represented with the white filled circle on NIRCam F115W Image. (*fig:all*)\n",
       "\n",
       "</div>\n",
       "<div id=\"div_fig2\">\n",
       "\n",
       "<img src=\"tmp_2507.06793/./M_R_B14.png\" alt=\"Fig3\" width=\"100%\"/>\n",
       "\n",
       "**Figure 3. -** Mass-size relation for galaxies E (red star) and W (green star) in B14-65666,\n",
       "    together with clumps of SMACS0723 at redshifts 6.4 to 8.5 (yellow squares, \\citealt{Claeyssens_2023}) and a subsample of massive and compact galaxies from the CEERS program (purple circles, \\citealt{baggen23}). The blue line represents the mass-size relation for galaxies (blue dots) at redshifts 4 to 10\n",
       "(\\citealt{langeroodi_2023})\n",
       "    while the solid black line indicates the mass-size relation for redshifts 6 -- 9 derived for the NIRCam filter F150W (\\citealt{allen2024galaxysizemassbuildup}). As B14-65666 is an interacting system, we also represent the mean values of the mass and size for local LIRGs and MS SFGs (\\citealt{bellocchi_2022} and \\citealt{leroy21}).\n",
       "    Dotted gray lines represent constant stellar mass surface density for 10, 10$^2$, 10$^3$, 10$^4$ and 10$^5$ M$_\\odot  \\text{pc}^{-2}$. The red line indicates the observed maximum value of stellar mass surface density in clusters and nuclei of galaxies, 10$^{5.5}$ M$_\\odot  \\text{pc}^{-2}$. (*fig:mass-size*)\n",
       "\n",
       "</div>\n",
       "<div id=\"div_fig3\">\n",
       "\n",
       "<img src=\"tmp_2507.06793/./log_Ion-EW.png\" alt=\"Fig1\" width=\"100%\"/>\n",
       "\n",
       "**Figure 1. -** $\\log(\\zeta_\\mathrm{ion})$ as a function of the H$\\alpha$ equivalent width, both of them corrected from dust attenuation. The red star represents galaxy E of B14-65666 and the green star the galaxy W of B14-65666. Blue line represents the relation for galaxies at redshifts 3 to 7 (\\citealt{Prieto-Lyon+23}). B14-65666 is compared with the galaxy MACS1149-JD1 (\\citealt{alvarez-marquez+23c}), RXCJ0600-z6-3 (\\citealt{gimenez-arteaga_2024}), mean of 102 Lyman-break galaxies at redshift 8 (\\citealt{Stefanon+22}), MIDIS H$\\alpha$ emitters at redshift 7-8 (\\citealt{Rinaldi+23}), faint Ly$\\alpha$ emitters (LAEs) at redshifts 4-5 (\\citealt{Lam+19}), LAEs at 3.8-5 (\\citealt{Maseda+20}), a LAE subsample at 4.9 (\\citealt{harikane2018}), line emitters at 6.11 -- 6.35 (\\citealt{sun_2023}) and LAEs at 6 (\\citealt{Ning+23}). We also present the BPASS models of a binary stellar population for an instantaneous burst with ages from 1 to  20 Myr\n",
       "   (crosses, from red to blue the ages are 20, 16, 13, 10, 8, 6, 4, 3, 2 and 1 Myr and connected with the black solid line)\n",
       "  (\\citealt{Stanway+Eldridge-23}). (*fig:log_Ion-EW*)\n",
       "\n",
       "</div><div id=\"qrcode\"><img src=https://api.qrserver.com/v1/create-qr-code/?size=100x100&data=\"https://arxiv.org/abs/2507.06793\"></div>"
      ],
      "text/plain": [
       "<IPython.core.display.Markdown object>"
      ]
     },
     "metadata": {},
     "output_type": "display_data"
    },
    {
     "data": {
      "text/markdown": [
       "<div class=\"macros\" style=\"visibility:hidden;\">\n",
       "$\\newcommand{\\ensuremath}{}$\n",
       "$\\newcommand{\\xspace}{}$\n",
       "$\\newcommand{\\object}[1]{\\texttt{#1}}$\n",
       "$\\newcommand{\\farcs}{{.}''}$\n",
       "$\\newcommand{\\farcm}{{.}'}$\n",
       "$\\newcommand{\\arcsec}{''}$\n",
       "$\\newcommand{\\arcmin}{'}$\n",
       "$\\newcommand{\\ion}[2]{#1#2}$\n",
       "$\\newcommand{\\textsc}[1]{\\textrm{#1}}$\n",
       "$\\newcommand{\\hl}[1]{\\textrm{#1}}$\n",
       "$\\newcommand{\\footnote}[1]{}$\n",
       "$\\newcommand{Ç}[1]{\\color{red}{{\\bf CC:} #1} \\color{black}}$\n",
       "$\\newcommand{\\SN}[1]{\\color{magenta}{{\\bf SN:} #1} \\color{black}}$\n",
       "$\\newcommand{\\AP}[1]{\\color{blue}{{\\bf AP:} #1} \\color{black}}$\n",
       "$\\newcommand{\\fa}[1]{\\color{teal}{{\\bf AP:} #1} \\color{black}}$\n",
       "$\\newcommand{\\arraystretch}{1.5}$\n",
       "$\\newcommand{\\arraystretch}{1.5}$\n",
       "$\\newcommand{\\kms}{km~s^{-1}}$\n",
       "$\\newcommand{\\teff}{\\textit{T}_{\\text{eff}}}$\n",
       "$\\newcommand{\\teffsun}{\\textit{T}_{\\text{eff},\\bigodot}}$\n",
       "$\\newcommand{\\logg}{\\text{log}(\\textit{g})}$\n",
       "$\\newcommand{\\mh}{[\\text{M}/\\text{H}]}$\n",
       "$\\newcommand{\\feh}{[\\text{Fe}/\\text{H}]}$\n",
       "$\\newcommand{\\alpham}{[\\alpha/\\text{M}]}$\n",
       "$\\newcommand{\\alphafe}{[\\alpha/\\text{Fe}]}$\n",
       "$\\newcommand{\\snr}{S/N}$\n",
       "$\\newcommand{\\vrad}{V_{\\text{rad}}}$\n",
       "$\\newcommand{\\g}{G}$\n",
       "$\\newcommand{\\bp}{\\mathrm{\\text{B}_\\text{p}}}$\n",
       "$\\newcommand{\\rp}{\\mathrm{\\text{R}_\\text{p}}}$</div>\n",
       "\n",
       "\n",
       "\n",
       "<div id=\"title\">\n",
       "\n",
       "# The Spheroidal Bulge of the Milky Way:\\ Chemodynamically Distinct from the Inner-Thick Disc and Bar\n",
       "\n",
       "</div>\n",
       "<div id=\"comments\">\n",
       "\n",
       "[![arXiv](https://img.shields.io/badge/arXiv-2507.06863-b31b1b.svg)](https://arxiv.org/abs/2507.06863)<mark>Appeared on: 2025-07-10</mark> -  _Submitted. Abstract modified and abridged due to character limit_\n",
       "\n",
       "</div>\n",
       "<div id=\"authors\">\n",
       "\n",
       "S. Nepal, et al. -- incl., <mark>S. Souza</mark>, <mark>G. Guiglion</mark>\n",
       "\n",
       "</div>\n",
       "<div id=\"abstract\">\n",
       "\n",
       "**Abstract:** Studying the composition and origin of the inner region of our Galaxy -- the “Galactic bulge” -- is crucial for understanding the formation and evolution of the Milky Way and other galaxies. We present new observational constraints based on a sample of around 18,000 stars in the inner Galaxy, combining $_ Gaia_$ DR3 RVS and APOGEE DR17 spectroscopy. $_ Gaia_$ -RVS complements APOGEE by improving sampling of the metallicity, $\\feh$ in the $-$ 2.0 to $-$ 0.5 dex range. This work marks the first application of $_ Gaia_$ -RVS spectroscopy to the bulge region, enabled by a novel machine learning approach ( ${\\tt hybrid-CNN}$ ) that derives stellar parameters from intermediate-resolution spectra with precision comparable to APOGEE’s infrared data. We performed full orbit integrations using a barred Galactic potential and applied orbital frequency analysis to disentangle the stellar populations in the inner Milky Way. For the first time, traced by the field stars, we are able to robustly identify the long-sought pressure supported bulge. We show this stellar population to be chemically and kinematically distinct from the other main components co-existing in the same region. The spheroidal bulge has a metallicity distribution function (MDF) peak at around $-$ 0.70 dex extending to solar value, is dominated by a high- $\\alphafe$ population with almost no dependency on metallicity, consistent with very rapid early formation, predating the thick disc and the bar. We find evidence that the bar has influenced the dynamics of the spheroidal bulge, introducing a mild triaxiality and radial extension. We identify a group of stars on $X_4$ orbits, likely native to the early spheroid, as this population mimics the chemistry of the spheroidal bulge, with a minor contamination from the more metal-poor ( $\\feh$ < $-$ 1.0) halo. We find the inner-thick disc to be kinematically hotter ( $\\overline{V_{\\phi}}\\approx$ 125 $\\kms$ ) than the local-thick disc. The disc, chemically distinct from the spheroidal bulge and bar, is predominantly metal-poor with an MDF peak at $\\feh\\approx-0.45$ dex and includes a large fraction of stars with sub-solar $\\feh$ and intermediate $\\alphafe$ . In contrast to the spheroidal bulge, the disc $\\alphafe$ shows a steeper decline with [ Fe/H ] , consistent with smaller star formation efficiency than that of the spheroidal bulge. Both the thick disc and the spheroidal bulge present vertical metallicity gradients. We find that the Galactic bar contains both metal-rich and metal-poor stars, as well as high- and low- $\\alphafe$ in nearly equal measure, but their relative contributions vary significantly across different orbital families. The bar shows no strong metallicity trends in orbital extent or velocity dispersions and maintains a consistent elongated shape across all metallicities, indicating it is a well-mixed dynamical structure. Despite their spatial overlap, the spheroidal bulge, thick disc, and bar occupy distinct regions in both phase space and chemical abundance, indicating separate formation pathways. The stars with [ Fe/H ] $<-$ 1.0 and crossing the Galactic bulge are comprised by accreted populations primarily (70 \\% ) belonging to the GES meger with a MDF peak at $-$ 1.30 dex and possibly a secondary merger remnant with MDF peak at $-$ 1.80 dex.\n",
       "\n",
       "</div>\n",
       "\n",
       "<div id=\"qrcode\"><img src=https://api.qrserver.com/v1/create-qr-code/?size=100x100&data=\"https://arxiv.org/abs/2507.06863\"></div>"
      ],
      "text/plain": [
       "<IPython.core.display.Markdown object>"
      ]
     },
     "metadata": {},
     "output_type": "display_data"
    },
    {
     "data": {
      "text/markdown": [
       "<div class=\"macros\" style=\"visibility:hidden;\">\n",
       "$\\newcommand{\\ensuremath}{}$\n",
       "$\\newcommand{\\xspace}{}$\n",
       "$\\newcommand{\\object}[1]{\\texttt{#1}}$\n",
       "$\\newcommand{\\farcs}{{.}''}$\n",
       "$\\newcommand{\\farcm}{{.}'}$\n",
       "$\\newcommand{\\arcsec}{''}$\n",
       "$\\newcommand{\\arcmin}{'}$\n",
       "$\\newcommand{\\ion}[2]{#1#2}$\n",
       "$\\newcommand{\\textsc}[1]{\\textrm{#1}}$\n",
       "$\\newcommand{\\hl}[1]{\\textrm{#1}}$\n",
       "$\\newcommand{\\footnote}[1]{}$\n",
       "$\\newcommand{\\vdag}{(v)^\\dagger}$\n",
       "$\\newcommand$\n",
       "$\\newcommand$\n",
       "$\\newcommand{\\cise}{Computing in Science \\& Engineering}$\n",
       "$\\newcommand{\\ero}{\\textit{eROSITA}\\xspace}$\n",
       "$\\newcommand{\\gai}{\\textit{Gaia}\\xspace}$</div>\n",
       "\n",
       "\n",
       "\n",
       "<div id=\"title\">\n",
       "\n",
       "# Sloan Digital Sky Survey-V: Pioneering Panoptic Spectroscopy\n",
       "\n",
       "</div>\n",
       "<div id=\"comments\">\n",
       "\n",
       "[![arXiv](https://img.shields.io/badge/arXiv-2507.06989-b31b1b.svg)](https://arxiv.org/abs/2507.06989)<mark>Appeared on: 2025-07-10</mark> -  _76 pages, submitted to the Astronomical Journal_\n",
       "\n",
       "</div>\n",
       "<div id=\"authors\">\n",
       "\n",
       "J. A. Kollmeier, et al. -- incl., <mark>H.-W. Rix</mark>, <mark>N. Deacon</mark>, <mark>M. Demianenko</mark>, <mark>K. El-Badry</mark>, <mark>M. Häberle</mark>, <mark>T. Herbst</mark>\n",
       "\n",
       "</div>\n",
       "<div id=\"abstract\">\n",
       "\n",
       "**Abstract:** The _Sloan Digital Sky Survey V_ (SDSS-V) is pioneering panoptic spectroscopy: it is the first all-sky, multi-epoch, optical-to-infrared spectroscopic survey. SDSS-V is mapping the sky with multi-object spectroscopy (MOS) at telescopes in both hemispheres (the 2.5-m Sloan Foundation Telescope at Apache Point Observatory and the 100-inch du Pont Telescope at Las Campanas Observatory), where 500 zonal robotic fiber positioners feed light from a wide-field focal plane to an optical (R $\\sim 2000$ , 500 fibers) and a near-infrared (R $\\sim 22,000$ , 300 fibers) spectrograph. In addition to these MOS capabilities, the survey is pioneering ultra wide-field ( $\\sim$ 4000 deg $^2$ ) integral field spectroscopy enabled by a new dedicated facility (LVM-I) at Las Campanas Observatory, where an integral field spectrograph (IFS) with 1801 lenslet-coupled fibers arranged in a 0.5 degree diameter hexagon feeds multiple R $\\sim$ 4000 optical spectrographs that cover 3600-9800 Å.  SDSS-V's hardware and multi-year survey strategy are designed to decode the chemo-dynamical history of the Milky Way Galaxy and tackle fundamental open issues in stellar physics in its _Milky Way Mapper_ program, trace the growth physics of supermassive black holes in its _Black Hole Mapper_ program, and understand the self-regulation mechanisms and the chemical enrichment of galactic ecosystems at the energy-injection scale in its _Local Volume Mapper_ program.  The survey is well-timed to multiply the scientific output from major all-sky space missions. The SDSS-V MOS programs began robotic operations in 2021; IFS observations began in 2023 with the completion of the LVM-I facility.  SDSS-V builds upon decades of heritage of SDSS's pioneering advances in data analysis, collaboration spirit, infrastructure, and product deliverables in astronomy.\n",
       "\n",
       "</div>\n",
       "\n",
       "<div id=\"qrcode\"><img src=https://api.qrserver.com/v1/create-qr-code/?size=100x100&data=\"https://arxiv.org/abs/2507.06989\"></div>"
      ],
      "text/plain": [
       "<IPython.core.display.Markdown object>"
      ]
     },
     "metadata": {},
     "output_type": "display_data"
    },
    {
     "data": {
      "text/markdown": [
       "<div class=\"macros\" style=\"visibility:hidden;\">\n",
       "$\\newcommand{\\ensuremath}{}$\n",
       "$\\newcommand{\\xspace}{}$\n",
       "$\\newcommand{\\object}[1]{\\texttt{#1}}$\n",
       "$\\newcommand{\\farcs}{{.}''}$\n",
       "$\\newcommand{\\farcm}{{.}'}$\n",
       "$\\newcommand{\\arcsec}{''}$\n",
       "$\\newcommand{\\arcmin}{'}$\n",
       "$\\newcommand{\\ion}[2]{#1#2}$\n",
       "$\\newcommand{\\textsc}[1]{\\textrm{#1}}$\n",
       "$\\newcommand{\\hl}[1]{\\textrm{#1}}$\n",
       "$\\newcommand{\\footnote}[1]{}$\n",
       "$\\newcommand{\\teff}{T_{\\mathrm{eff}}}$\n",
       "$\\newcommand{\\Teff}{T_{\\mathrm{eff}}}$\n",
       "$\\newcommand{\\logg}{log~g}$\n",
       "$\\newcommand{\\feh}{[Fe/H]}$\n",
       "$\\newcommand{\\oh}{[O/H]}$\n",
       "$\\newcommand{\\mgh}{[Mg/H]}$\n",
       "$\\newcommand{\\kms}{km~s^{-1}}$\n",
       "$\\newcommand{\\vsini}{V\\sin{i}}$\n",
       "$\\newcommand{\\vmicro}{\\xi}$\n",
       "$\\newcommand{\\afe}{[\\alpha/Fe]}$\n",
       "$\\newcommand{\\jmk}{(J-K_{s})}$\n",
       "$\\newcommand{\\Ks}{K_{s}}$\n",
       "$\\newcommand{\\fout}{f_\\mathrm{out}}$\n",
       "$\\newcommand{\\Gmk}{(G-K_s)}$\n",
       "$\\newcommand{\\MK}{\\mathrm{M}_{\\mathrm{K_s}}}$\n",
       "$\\newcommand{\\Mgrad}{\\Delta[Fe/H]/\\DeltaR}$\n",
       "$\\newcommand{\\mygrad}{-0.066}$\n",
       "$\\newcommand{\\Vgrad}{\\Delta[Fe/H]/\\DeltaZ}$\n",
       "$\\newcommand{\\fehex}{\\Delta[Fe/H]_{\\text{excess}}}$\n",
       "$\\newcommand{\\acronym}[1]{{\\small{#1}}}$\n",
       "$\\newcommand{\\Msun}{M\\textsubscript{\\(\\odot\\)}}$\n",
       "$\\newcommand{\\project}[1]{\\textsl{#1}}$\n",
       "$\\newcommand{\\gaia}{\\project{Gaia}}$\n",
       "$\\newcommand{\\WISE}{\\project{WISE}}$\n",
       "$\\newcommand{\\tmass}{\\project{2MASS}}$\n",
       "$\\newcommand{\\thecannon}{\\project{The~Cannon}}$\n",
       "$\\newcommand{\\thepayne}{\\project{The~Payne}}$\n",
       "$\\newcommand{\\rave}{\\project{\\acronym{RAVE}}}$\n",
       "$\\newcommand{\\galah}{\\project{\\acronym{GALAH}}}$\n",
       "$\\newcommand{\\ges}{\\project{GES}}$\n",
       "$\\newcommand{\\apogee}{\\project{\\acronym{APOGEE}}}$\n",
       "$\\newcommand{\\aspcap}{\\project{\\acronym{ASPCAP}}}$\n",
       "$\\newcommand{\\astronn}{\\texttt{astroNN}}$\n",
       "$\\newcommand{\\lamost}{\\project{\\acronym{LAMOST}}}$\n",
       "$\\newcommand{\\hipparcos}{\\project{Hipparcos}}$\n",
       "$\\newcommand{\\epic}{\\project{K2/EPIC}}$\n",
       "$\\newcommand{\\sdss}{\\project{\\acronym{SDSS}}}$\n",
       "$\\newcommand{\\tgas}{\\project{\\acronym{TGAS}}}$\n",
       "$\\newcommand{\\hmodel}{hierarchical model}$\n",
       "$\\newcommand{◦ee}{^{\\circ}}$\n",
       "$\\newcommand{\\hii}{\\hbox{{\\rm H}\\kern 0.1em{\\sc ii}{\\rm }}}$\n",
       "$\\newcommand{\\sean}[1]{{\\color{green} \\textbf{#1}}}$\n",
       "$\\newcommand{\\chris}[1]{{\\color{blue} \\textbf{#1}}}$\n",
       "$\\newcommand{\\carrie}[1]{{\\color{orange}{\\textbf{#1}}}}$\n",
       "$\\newcommand{\\khcom}[1]{{\\color{red}{\\textbf{#1}}}}$\n",
       "$\\newcommand{\\vdag}{(v)^\\dagger}$\n",
       "$\\newcommand$\n",
       "$\\newcommand$\n",
       "$\\newcommand\\code{#1}$</div>\n",
       "\n",
       "\n",
       "\n",
       "<div id=\"title\">\n",
       "\n",
       "# The Nineteenth Data Release of the Sloan Digital Sky Survey \n",
       "\n",
       "</div>\n",
       "<div id=\"comments\">\n",
       "\n",
       "[![arXiv](https://img.shields.io/badge/arXiv-2507.07093-b31b1b.svg)](https://arxiv.org/abs/2507.07093)<mark>Appeared on: 2025-07-10</mark> -  _Submitted to AASJournals. 56 Pages, 9 Tables, 11 Figures_\n",
       "\n",
       "</div>\n",
       "<div id=\"authors\">\n",
       "\n",
       "S. Collaboration, et al. -- incl., <mark>N. Deacon</mark>, <mark>M. Demianenko</mark>, <mark>K. El-Badry</mark>, <mark>M. Häberle</mark>\n",
       "\n",
       "</div>\n",
       "<div id=\"abstract\">\n",
       "\n",
       "**Abstract:** Mapping the local and distant Universe is key to our understanding of it. For decades, the Sloan Digital Sky Survey (SDSS) has made a concerted effort to map millions of celestial objects to constrain the physical processes that govern our Universe. The most recent and fifth generation of SDSS (SDSS-V) is organized into three scientific \"mappers\". Milky Way Mapper (MWM) that aims to chart the various components of the Milky Way and constrain its formation and assembly, Black Hole Mapper (BHM), which focuses on understanding supermassive black holes in distant galaxies across the Universe, and Local Volume Mapper (LVM), which uses integral field spectroscopy to map the ionized interstellar medium in the local group. This paper describes and outlines the scope and content for the nineteenth data release (DR19) of SDSS and the most substantial to date in SDSS-V. DR19 is the first to contain data from all three mappers. Additionally, we also describe nine value added catalogs (VACs) that enhance the science that can be conducted with the SDSS-V data. Finally, we discuss how to access SDSS DR19 and provide illustrative examples and tutorials.\n",
       "\n",
       "</div>\n",
       "\n",
       "<div id=\"div_fig1\">\n",
       "\n",
       "<img src=\"tmp_2507.07093/./figures/Flowchart.png\" alt=\"Fig6\" width=\"100%\"/>\n",
       "\n",
       "**Figure 6. -** This flowchart contains the decision tree used to determine which pipeline and reported parameters Astra are preferred for an individual unique source (i.e., with a unique SDSS\\_ID). (*fig:flow_lite*)\n",
       "\n",
       "</div>\n",
       "<div id=\"div_fig2\">\n",
       "\n",
       "<img src=\"tmp_2507.07093/./figures/IPL3_cool_3visit_unbiased_best_RVs.png\" alt=\"Fig2\" width=\"100%\"/>\n",
       "\n",
       "**Figure 2. -** The relationship between the median visit SNR versus the unbiased radial velocity scatter for stars with the following cuts: $T_{\\rm eff} < 6250$ K, $\\logg \\: > 1.5$, and unbiased RV scatter $< 1.0$ km/s. The underlying color map shows the number of stars in each logarithmic 2-dimension bin. Each line shows the median unbiased RV scatter in each SNR bin for SDSS Data Releases 12 (orange dot dashed line), 17 (red dashed line), and 19 (black line). The The data is binned by logarithmic x-coordinate (e.g. 10, 20, 30...100, 200 etc.) The horizontal dotted lines are at 100 m/s and 30 m/s respectively. (*fig:apogeerv*)\n",
       "\n",
       "</div>\n",
       "<div id=\"div_fig3\">\n",
       "\n",
       "<img src=\"tmp_2507.07093/./figures/helix_rgb.png\" alt=\"Fig5\" width=\"100%\"/>\n",
       "\n",
       "**Figure 5. -** Composite red (R), green (G), blue (B) map of the Helix nebula constructed by using spectral windows that capture the three emission lines given in the title. Fibers with known issues have been removed. We include fibers that catch contaminating stars. (*fig:helix*)\n",
       "\n",
       "</div><div id=\"qrcode\"><img src=https://api.qrserver.com/v1/create-qr-code/?size=100x100&data=\"https://arxiv.org/abs/2507.07093\"></div>"
      ],
      "text/plain": [
       "<IPython.core.display.Markdown object>"
      ]
     },
     "metadata": {},
     "output_type": "display_data"
    }
   ],
   "source": [
    "[display(Markdown(k[1])) for k in documents];"
   ]
  },
  {
   "cell_type": "markdown",
   "id": "873873a4",
   "metadata": {
    "papermill": {
     "duration": 0.005772,
     "end_time": "2025-07-10T04:24:45.286372",
     "exception": false,
     "start_time": "2025-07-10T04:24:45.280600",
     "status": "completed"
    },
    "tags": []
   },
   "source": [
    "# Create HTML index"
   ]
  },
  {
   "cell_type": "code",
   "execution_count": 10,
   "id": "cf665672",
   "metadata": {
    "execution": {
     "iopub.execute_input": "2025-07-10T04:24:45.298970Z",
     "iopub.status.busy": "2025-07-10T04:24:45.298559Z",
     "iopub.status.idle": "2025-07-10T04:24:45.305478Z",
     "shell.execute_reply": "2025-07-10T04:24:45.304964Z"
    },
    "papermill": {
     "duration": 0.014184,
     "end_time": "2025-07-10T04:24:45.306447",
     "exception": false,
     "start_time": "2025-07-10T04:24:45.292263",
     "status": "completed"
    },
    "tags": []
   },
   "outputs": [
    {
     "name": "stdout",
     "output_type": "stream",
     "text": [
      "140  publications files modified in the last 7 days.\n"
     ]
    }
   ],
   "source": [
    "from datetime import datetime, timedelta, timezone\n",
    "from glob import glob\n",
    "import os\n",
    "\n",
    "files = glob('_build/html/*.md')\n",
    "days = 7\n",
    "now = datetime.today()\n",
    "res = []\n",
    "for fk in files:\n",
    "    stat_result = os.stat(fk).st_ctime\n",
    "    modified = datetime.fromtimestamp(stat_result, tz=timezone.utc).replace(tzinfo=None)\n",
    "    delta = now.today() - modified\n",
    "    if delta <= timedelta(days=days):\n",
    "        res.append((delta.seconds, fk))\n",
    "res = [k[1] for k in reversed(sorted(res, key=lambda x:x[1]))]\n",
    "npub = len(res)\n",
    "print(len(res), f\" publications files modified in the last {days:d} days.\")\n",
    "# [ print('\\t', k) for k in res ];"
   ]
  },
  {
   "cell_type": "code",
   "execution_count": 11,
   "id": "015de740",
   "metadata": {
    "execution": {
     "iopub.execute_input": "2025-07-10T04:24:45.319157Z",
     "iopub.status.busy": "2025-07-10T04:24:45.318690Z",
     "iopub.status.idle": "2025-07-10T04:24:45.331030Z",
     "shell.execute_reply": "2025-07-10T04:24:45.330462Z"
    },
    "papermill": {
     "duration": 0.019695,
     "end_time": "2025-07-10T04:24:45.331996",
     "exception": false,
     "start_time": "2025-07-10T04:24:45.312301",
     "status": "completed"
    },
    "tags": []
   },
   "outputs": [
    {
     "name": "stdout",
     "output_type": "stream",
     "text": [
      "16  publications in the last 7 days.\n"
     ]
    }
   ],
   "source": [
    "import datetime\n",
    "from glob import glob\n",
    "\n",
    "def get_last_n_days(lst, days=1):\n",
    "    \"\"\" Get the documents from the last n days \"\"\"\n",
    "    sorted_lst = sorted(lst, key=lambda x: x[1], reverse=True)\n",
    "    for fname, date in sorted_lst:\n",
    "        if date >= str(datetime.date.today() - datetime.timedelta(days=days)):\n",
    "            yield fname\n",
    "\n",
    "def extract_appearance_dates(lst_file):\n",
    "    dates = []\n",
    "\n",
    "    def get_date(line):\n",
    "        return line\\\n",
    "            .split('Appeared on:')[-1]\\\n",
    "            .split('</mark>')[0].strip()\n",
    "\n",
    "    for fname in lst:\n",
    "        with open(fname, 'r') as f:\n",
    "            found_date = False\n",
    "            for line in f:\n",
    "                if not found_date:\n",
    "                    if \"Appeared on\" in line:\n",
    "                        found_date = True\n",
    "                        dates.append((fname, get_date(line)))\n",
    "                else:\n",
    "                    break\n",
    "    return dates\n",
    "\n",
    "from glob import glob\n",
    "lst = glob('_build/html/*md')\n",
    "days = 7\n",
    "dates = extract_appearance_dates(lst)\n",
    "res = list(get_last_n_days(dates, days))\n",
    "npub = len(res)\n",
    "print(len(res), f\" publications in the last {days:d} days.\")"
   ]
  },
  {
   "cell_type": "code",
   "execution_count": 12,
   "id": "52ca0208",
   "metadata": {
    "execution": {
     "iopub.execute_input": "2025-07-10T04:24:45.345112Z",
     "iopub.status.busy": "2025-07-10T04:24:45.344610Z",
     "iopub.status.idle": "2025-07-10T04:24:45.349580Z",
     "shell.execute_reply": "2025-07-10T04:24:45.349038Z"
    },
    "papermill": {
     "duration": 0.012461,
     "end_time": "2025-07-10T04:24:45.350505",
     "exception": false,
     "start_time": "2025-07-10T04:24:45.338044",
     "status": "completed"
    },
    "scrolled": false,
    "tags": []
   },
   "outputs": [],
   "source": [
    "def create_carousel(npub=4):\n",
    "    \"\"\" Generate the HTML code for a carousel with `npub` slides \"\"\"\n",
    "    carousel = [\"\"\"  <div class=\"carousel\" \"\"\",\n",
    "                \"\"\"       data-flickity='{ \"autoPlay\": 10000, \"adaptiveHeight\": true, \"resize\": true, \"wrapAround\": true, \"pauseAutoPlayOnHover\": true, \"groupCells\": 1 }' id=\"asyncTypeset\">\"\"\"\n",
    "                ]\n",
    "    \n",
    "    item_str = \"\"\"    <div class=\"carousel-cell\"> <div id=\"slide{k}\" class=\"md_view\">Content {k}</div> </div>\"\"\"\n",
    "    for k in range(1, npub + 1):\n",
    "        carousel.append(item_str.format(k=k))\n",
    "    carousel.append(\"  </div>\")\n",
    "    return '\\n'.join(carousel)\n",
    "\n",
    "def create_grid(npub=4):\n",
    "    \"\"\" Generate the HTML code for a flat grid with `npub` slides \"\"\"\n",
    "    grid = [\"\"\"  <div class=\"grid\"> \"\"\",\n",
    "                ]\n",
    "    \n",
    "    item_str = \"\"\"    <div class=\"grid-item\"> <div id=\"slide{k}\" class=\"md_view\">Content {k}</div> </div>\"\"\"\n",
    "    for k in range(1, npub + 1):\n",
    "        grid.append(item_str.format(k=k))\n",
    "    grid.append(\"  </div>\")\n",
    "    return '\\n'.join(grid)"
   ]
  },
  {
   "cell_type": "code",
   "execution_count": 13,
   "id": "a6eac5b6",
   "metadata": {
    "execution": {
     "iopub.execute_input": "2025-07-10T04:24:45.363375Z",
     "iopub.status.busy": "2025-07-10T04:24:45.363004Z",
     "iopub.status.idle": "2025-07-10T04:24:45.367857Z",
     "shell.execute_reply": "2025-07-10T04:24:45.367322Z"
    },
    "papermill": {
     "duration": 0.012421,
     "end_time": "2025-07-10T04:24:45.368846",
     "exception": false,
     "start_time": "2025-07-10T04:24:45.356425",
     "status": "completed"
    },
    "scrolled": false,
    "tags": []
   },
   "outputs": [],
   "source": [
    "carousel = create_carousel(npub)\n",
    "docs = ', '.join(['\"{0:s}\"'.format(k.split('/')[-1]) for k in res])\n",
    "slides = ', '.join([f'\"slide{k}\"' for k in range(1, npub + 1)])\n",
    "\n",
    "with open(\"daily_template.html\", \"r\") as tpl:\n",
    "    page = tpl.read()\n",
    "    page = page.replace(\"{%-- carousel:s --%}\", carousel)\\\n",
    "               .replace(\"{%-- suptitle:s --%}\",  \"7-day archives\" )\\\n",
    "               .replace(\"{%-- docs:s --%}\", docs)\\\n",
    "               .replace(\"{%-- slides:s --%}\", slides)\n",
    "    \n",
    "with open(\"_build/html/index_7days.html\", 'w') as fout:\n",
    "    fout.write(page)"
   ]
  },
  {
   "cell_type": "code",
   "execution_count": 14,
   "id": "adc1a1ec",
   "metadata": {
    "execution": {
     "iopub.execute_input": "2025-07-10T04:24:45.381726Z",
     "iopub.status.busy": "2025-07-10T04:24:45.381302Z",
     "iopub.status.idle": "2025-07-10T04:24:45.387460Z",
     "shell.execute_reply": "2025-07-10T04:24:45.386933Z"
    },
    "papermill": {
     "duration": 0.013566,
     "end_time": "2025-07-10T04:24:45.388426",
     "exception": false,
     "start_time": "2025-07-10T04:24:45.374860",
     "status": "completed"
    },
    "tags": []
   },
   "outputs": [
    {
     "name": "stdout",
     "output_type": "stream",
     "text": [
      "7  publications in the last day.\n"
     ]
    }
   ],
   "source": [
    "# redo for today\n",
    "days = 1\n",
    "res = list(get_last_n_days(dates, days))\n",
    "npub = len(res)\n",
    "print(len(res), f\" publications in the last day.\")\n",
    "\n",
    "carousel = create_carousel(npub)\n",
    "docs = ', '.join(['\"{0:s}\"'.format(k.split('/')[-1]) for k in res])\n",
    "slides = ', '.join([f'\"slide{k}\"' for k in range(1, npub + 1)])\n",
    "\n",
    "with open(\"daily_template.html\", \"r\") as tpl:\n",
    "    page = tpl.read()\n",
    "    page = page.replace(\"{%-- carousel:s --%}\", carousel)\\\n",
    "               .replace(\"{%-- suptitle:s --%}\",  \"Daily\" )\\\n",
    "               .replace(\"{%-- docs:s --%}\", docs)\\\n",
    "               .replace(\"{%-- slides:s --%}\", slides)\n",
    "    \n",
    "# print(carousel, docs, slides)\n",
    "# print(page)\n",
    "with open(\"_build/html/index_daily.html\", 'w') as fout:\n",
    "    fout.write(page)"
   ]
  },
  {
   "cell_type": "code",
   "execution_count": 15,
   "id": "00eece82",
   "metadata": {
    "execution": {
     "iopub.execute_input": "2025-07-10T04:24:45.401648Z",
     "iopub.status.busy": "2025-07-10T04:24:45.401190Z",
     "iopub.status.idle": "2025-07-10T04:24:45.407429Z",
     "shell.execute_reply": "2025-07-10T04:24:45.406884Z"
    },
    "papermill": {
     "duration": 0.013773,
     "end_time": "2025-07-10T04:24:45.408350",
     "exception": false,
     "start_time": "2025-07-10T04:24:45.394577",
     "status": "completed"
    },
    "scrolled": false,
    "tags": []
   },
   "outputs": [
    {
     "name": "stdout",
     "output_type": "stream",
     "text": [
      "6  6 publications selected.\n"
     ]
    }
   ],
   "source": [
    "# Create the flat grid of the last N papers (fixed number regardless of dates)\n",
    "from itertools import islice \n",
    "\n",
    "npub = 6\n",
    "res = [k[0] for k in (islice(reversed(sorted(dates, key=lambda x: x[1])), 6))]\n",
    "print(len(res), f\" {npub} publications selected.\")\n",
    "\n",
    "grid = create_grid(npub)\n",
    "docs = ', '.join(['\"{0:s}\"'.format(k.split('/')[-1]) for k in res])\n",
    "slides = ', '.join([f'\"slide{k}\"' for k in range(1, npub + 1)])\n",
    "\n",
    "with open(\"grid_template.html\", \"r\") as tpl:\n",
    "    page = tpl.read()\n",
    "    page = page.replace(\"{%-- grid-content:s --%}\", grid)\\\n",
    "               .replace(\"{%-- suptitle:s --%}\",  f\"Last {npub:,d} papers\" )\\\n",
    "               .replace(\"{%-- docs:s --%}\", docs)\\\n",
    "               .replace(\"{%-- slides:s --%}\", slides)\n",
    "    \n",
    "# print(grid, docs, slides)\n",
    "# print(page)\n",
    "with open(\"_build/html/index_npub_grid.html\", 'w') as fout:\n",
    "    fout.write(page)"
   ]
  }
 ],
 "metadata": {
  "kernelspec": {
   "display_name": "Python 3 (ipykernel)",
   "language": "python",
   "name": "python3"
  },
  "language_info": {
   "codemirror_mode": {
    "name": "ipython",
    "version": 3
   },
   "file_extension": ".py",
   "mimetype": "text/x-python",
   "name": "python",
   "nbconvert_exporter": "python",
   "pygments_lexer": "ipython3",
   "version": "3.9.23"
  },
  "papermill": {
   "default_parameters": {},
   "duration": 92.713502,
   "end_time": "2025-07-10T04:24:45.630036",
   "environment_variables": {},
   "exception": null,
   "input_path": "MPIA daily digest.ipynb",
   "output_path": "log.ipynb",
   "parameters": {},
   "start_time": "2025-07-10T04:23:12.916534",
   "version": "2.6.0"
  },
  "vscode": {
   "interpreter": {
    "hash": "aee8b7b246df8f9039afb4144a1f6fd8d2ca17a180786b69acc140d282b71a49"
   }
  },
  "widgets": {
   "application/vnd.jupyter.widget-state+json": {
    "state": {
     "0a222a4f532f40d38e4c6e81c67b40ba": {
      "model_module": "@jupyter-widgets/base",
      "model_module_version": "2.0.0",
      "model_name": "LayoutModel",
      "state": {
       "_model_module": "@jupyter-widgets/base",
       "_model_module_version": "2.0.0",
       "_model_name": "LayoutModel",
       "_view_count": null,
       "_view_module": "@jupyter-widgets/base",
       "_view_module_version": "2.0.0",
       "_view_name": "LayoutView",
       "align_content": null,
       "align_items": null,
       "align_self": null,
       "border_bottom": null,
       "border_left": null,
       "border_right": null,
       "border_top": null,
       "bottom": null,
       "display": null,
       "flex": null,
       "flex_flow": null,
       "grid_area": null,
       "grid_auto_columns": null,
       "grid_auto_flow": null,
       "grid_auto_rows": null,
       "grid_column": null,
       "grid_gap": null,
       "grid_row": null,
       "grid_template_areas": null,
       "grid_template_columns": null,
       "grid_template_rows": null,
       "height": null,
       "justify_content": null,
       "justify_items": null,
       "left": null,
       "margin": null,
       "max_height": null,
       "max_width": null,
       "min_height": null,
       "min_width": null,
       "object_fit": null,
       "object_position": null,
       "order": null,
       "overflow": null,
       "padding": null,
       "right": null,
       "top": null,
       "visibility": null,
       "width": null
      }
     },
     "0c855d2f9bdb4deaa17fb6c919d7f364": {
      "model_module": "@jupyter-widgets/base",
      "model_module_version": "2.0.0",
      "model_name": "LayoutModel",
      "state": {
       "_model_module": "@jupyter-widgets/base",
       "_model_module_version": "2.0.0",
       "_model_name": "LayoutModel",
       "_view_count": null,
       "_view_module": "@jupyter-widgets/base",
       "_view_module_version": "2.0.0",
       "_view_name": "LayoutView",
       "align_content": null,
       "align_items": null,
       "align_self": null,
       "border_bottom": null,
       "border_left": null,
       "border_right": null,
       "border_top": null,
       "bottom": null,
       "display": null,
       "flex": null,
       "flex_flow": null,
       "grid_area": null,
       "grid_auto_columns": null,
       "grid_auto_flow": null,
       "grid_auto_rows": null,
       "grid_column": null,
       "grid_gap": null,
       "grid_row": null,
       "grid_template_areas": null,
       "grid_template_columns": null,
       "grid_template_rows": null,
       "height": null,
       "justify_content": null,
       "justify_items": null,
       "left": null,
       "margin": null,
       "max_height": null,
       "max_width": null,
       "min_height": null,
       "min_width": null,
       "object_fit": null,
       "object_position": null,
       "order": null,
       "overflow": null,
       "padding": null,
       "right": null,
       "top": null,
       "visibility": null,
       "width": null
      }
     },
     "288b82ce8ffc43a38f1d494adfc03ffb": {
      "model_module": "@jupyter-widgets/base",
      "model_module_version": "2.0.0",
      "model_name": "LayoutModel",
      "state": {
       "_model_module": "@jupyter-widgets/base",
       "_model_module_version": "2.0.0",
       "_model_name": "LayoutModel",
       "_view_count": null,
       "_view_module": "@jupyter-widgets/base",
       "_view_module_version": "2.0.0",
       "_view_name": "LayoutView",
       "align_content": null,
       "align_items": null,
       "align_self": null,
       "border_bottom": null,
       "border_left": null,
       "border_right": null,
       "border_top": null,
       "bottom": null,
       "display": null,
       "flex": null,
       "flex_flow": null,
       "grid_area": null,
       "grid_auto_columns": null,
       "grid_auto_flow": null,
       "grid_auto_rows": null,
       "grid_column": null,
       "grid_gap": null,
       "grid_row": null,
       "grid_template_areas": null,
       "grid_template_columns": null,
       "grid_template_rows": null,
       "height": null,
       "justify_content": null,
       "justify_items": null,
       "left": null,
       "margin": null,
       "max_height": null,
       "max_width": null,
       "min_height": null,
       "min_width": null,
       "object_fit": null,
       "object_position": null,
       "order": null,
       "overflow": null,
       "padding": null,
       "right": null,
       "top": null,
       "visibility": null,
       "width": null
      }
     },
     "39d47a1ba9dd429c9ac3514cda3b73ae": {
      "model_module": "@jupyter-widgets/controls",
      "model_module_version": "2.0.0",
      "model_name": "FloatProgressModel",
      "state": {
       "_dom_classes": [],
       "_model_module": "@jupyter-widgets/controls",
       "_model_module_version": "2.0.0",
       "_model_name": "FloatProgressModel",
       "_view_count": null,
       "_view_module": "@jupyter-widgets/controls",
       "_view_module_version": "2.0.0",
       "_view_name": "ProgressView",
       "bar_style": "success",
       "description": "",
       "description_allow_html": false,
       "layout": "IPY_MODEL_288b82ce8ffc43a38f1d494adfc03ffb",
       "max": 6.0,
       "min": 0.0,
       "orientation": "horizontal",
       "style": "IPY_MODEL_8d75a6e329f0433293dc671f98c9cd82",
       "tabbable": null,
       "tooltip": null,
       "value": 6.0
      }
     },
     "4380d541be614a3d8eec95504322ea05": {
      "model_module": "@jupyter-widgets/base",
      "model_module_version": "2.0.0",
      "model_name": "LayoutModel",
      "state": {
       "_model_module": "@jupyter-widgets/base",
       "_model_module_version": "2.0.0",
       "_model_name": "LayoutModel",
       "_view_count": null,
       "_view_module": "@jupyter-widgets/base",
       "_view_module_version": "2.0.0",
       "_view_name": "LayoutView",
       "align_content": null,
       "align_items": null,
       "align_self": null,
       "border_bottom": null,
       "border_left": null,
       "border_right": null,
       "border_top": null,
       "bottom": null,
       "display": null,
       "flex": null,
       "flex_flow": null,
       "grid_area": null,
       "grid_auto_columns": null,
       "grid_auto_flow": null,
       "grid_auto_rows": null,
       "grid_column": null,
       "grid_gap": null,
       "grid_row": null,
       "grid_template_areas": null,
       "grid_template_columns": null,
       "grid_template_rows": null,
       "height": null,
       "justify_content": null,
       "justify_items": null,
       "left": null,
       "margin": null,
       "max_height": null,
       "max_width": null,
       "min_height": null,
       "min_width": null,
       "object_fit": null,
       "object_position": null,
       "order": null,
       "overflow": null,
       "padding": null,
       "right": null,
       "top": null,
       "visibility": null,
       "width": null
      }
     },
     "51c4309a2e9d40dea1d4210fcb4bccb7": {
      "model_module": "@jupyter-widgets/controls",
      "model_module_version": "2.0.0",
      "model_name": "HTMLStyleModel",
      "state": {
       "_model_module": "@jupyter-widgets/controls",
       "_model_module_version": "2.0.0",
       "_model_name": "HTMLStyleModel",
       "_view_count": null,
       "_view_module": "@jupyter-widgets/base",
       "_view_module_version": "2.0.0",
       "_view_name": "StyleView",
       "background": null,
       "description_width": "",
       "font_size": null,
       "text_color": null
      }
     },
     "61079ef2332f44659c5a2d05928758e7": {
      "model_module": "@jupyter-widgets/controls",
      "model_module_version": "2.0.0",
      "model_name": "HTMLStyleModel",
      "state": {
       "_model_module": "@jupyter-widgets/controls",
       "_model_module_version": "2.0.0",
       "_model_name": "HTMLStyleModel",
       "_view_count": null,
       "_view_module": "@jupyter-widgets/base",
       "_view_module_version": "2.0.0",
       "_view_name": "StyleView",
       "background": null,
       "description_width": "",
       "font_size": null,
       "text_color": null
      }
     },
     "7f37dad4fae546e4a632941c88cea4d9": {
      "model_module": "@jupyter-widgets/controls",
      "model_module_version": "2.0.0",
      "model_name": "HTMLModel",
      "state": {
       "_dom_classes": [],
       "_model_module": "@jupyter-widgets/controls",
       "_model_module_version": "2.0.0",
       "_model_name": "HTMLModel",
       "_view_count": null,
       "_view_module": "@jupyter-widgets/controls",
       "_view_module_version": "2.0.0",
       "_view_name": "HTMLView",
       "description": "",
       "description_allow_html": false,
       "layout": "IPY_MODEL_0c855d2f9bdb4deaa17fb6c919d7f364",
       "placeholder": "​",
       "style": "IPY_MODEL_61079ef2332f44659c5a2d05928758e7",
       "tabbable": null,
       "tooltip": null,
       "value": " 6/6 [01:10&lt;00:00, 14.08s/it]"
      }
     },
     "8d75a6e329f0433293dc671f98c9cd82": {
      "model_module": "@jupyter-widgets/controls",
      "model_module_version": "2.0.0",
      "model_name": "ProgressStyleModel",
      "state": {
       "_model_module": "@jupyter-widgets/controls",
       "_model_module_version": "2.0.0",
       "_model_name": "ProgressStyleModel",
       "_view_count": null,
       "_view_module": "@jupyter-widgets/base",
       "_view_module_version": "2.0.0",
       "_view_name": "StyleView",
       "bar_color": null,
       "description_width": ""
      }
     },
     "c01d87da563547cfa854cc66104544a4": {
      "model_module": "@jupyter-widgets/controls",
      "model_module_version": "2.0.0",
      "model_name": "HBoxModel",
      "state": {
       "_dom_classes": [],
       "_model_module": "@jupyter-widgets/controls",
       "_model_module_version": "2.0.0",
       "_model_name": "HBoxModel",
       "_view_count": null,
       "_view_module": "@jupyter-widgets/controls",
       "_view_module_version": "2.0.0",
       "_view_name": "HBoxView",
       "box_style": "",
       "children": [
        "IPY_MODEL_d83ec88a0afb4f32af07c35f10e8e02f",
        "IPY_MODEL_39d47a1ba9dd429c9ac3514cda3b73ae",
        "IPY_MODEL_7f37dad4fae546e4a632941c88cea4d9"
       ],
       "layout": "IPY_MODEL_0a222a4f532f40d38e4c6e81c67b40ba",
       "tabbable": null,
       "tooltip": null
      }
     },
     "d83ec88a0afb4f32af07c35f10e8e02f": {
      "model_module": "@jupyter-widgets/controls",
      "model_module_version": "2.0.0",
      "model_name": "HTMLModel",
      "state": {
       "_dom_classes": [],
       "_model_module": "@jupyter-widgets/controls",
       "_model_module_version": "2.0.0",
       "_model_name": "HTMLModel",
       "_view_count": null,
       "_view_module": "@jupyter-widgets/controls",
       "_view_module_version": "2.0.0",
       "_view_name": "HTMLView",
       "description": "",
       "description_allow_html": false,
       "layout": "IPY_MODEL_4380d541be614a3d8eec95504322ea05",
       "placeholder": "​",
       "style": "IPY_MODEL_51c4309a2e9d40dea1d4210fcb4bccb7",
       "tabbable": null,
       "tooltip": null,
       "value": "100%"
      }
     }
    },
    "version_major": 2,
    "version_minor": 0
   }
  }
 },
 "nbformat": 4,
 "nbformat_minor": 5
}