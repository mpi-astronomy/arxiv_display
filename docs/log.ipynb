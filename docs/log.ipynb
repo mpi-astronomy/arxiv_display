{
 "cells": [
  {
   "cell_type": "markdown",
   "id": "92bcb855",
   "metadata": {
    "papermill": {
     "duration": 0.003881,
     "end_time": "2025-06-09T04:23:43.423349",
     "exception": false,
     "start_time": "2025-06-09T04:23:43.419468",
     "status": "completed"
    },
    "tags": []
   },
   "source": [
    "# MPIA Arxiv on Deck 2\n",
    "\n",
    "Contains the steps to produce the paper extractions."
   ]
  },
  {
   "cell_type": "code",
   "execution_count": 1,
   "id": "3a0d6e11",
   "metadata": {
    "execution": {
     "iopub.execute_input": "2025-06-09T04:23:43.430755Z",
     "iopub.status.busy": "2025-06-09T04:23:43.430308Z",
     "iopub.status.idle": "2025-06-09T04:23:43.964591Z",
     "shell.execute_reply": "2025-06-09T04:23:43.963828Z"
    },
    "papermill": {
     "duration": 0.539433,
     "end_time": "2025-06-09T04:23:43.966005",
     "exception": false,
     "start_time": "2025-06-09T04:23:43.426572",
     "status": "completed"
    },
    "tags": []
   },
   "outputs": [],
   "source": [
    "# Imports\n",
    "import os\n",
    "from IPython.display import Markdown, display\n",
    "from tqdm.notebook import tqdm\n",
    "import warnings\n",
    "from PIL import Image \n",
    "import re\n",
    "\n",
    "# requires arxiv_on_deck_2\n",
    "\n",
    "from arxiv_on_deck_2.arxiv2 import (get_new_papers, \n",
    "                                    get_paper_from_identifier,\n",
    "                                    retrieve_document_source, \n",
    "                                    get_markdown_badge)\n",
    "from arxiv_on_deck_2 import (latex,\n",
    "                             latex_bib,\n",
    "                             mpia,\n",
    "                             highlight_authors_in_list)\n",
    "\n",
    "# Sometimes images are really big\n",
    "Image.MAX_IMAGE_PIXELS = 1000000000 "
   ]
  },
  {
   "cell_type": "code",
   "execution_count": 2,
   "id": "22aa9d44",
   "metadata": {
    "execution": {
     "iopub.execute_input": "2025-06-09T04:23:43.973419Z",
     "iopub.status.busy": "2025-06-09T04:23:43.973146Z",
     "iopub.status.idle": "2025-06-09T04:23:43.981016Z",
     "shell.execute_reply": "2025-06-09T04:23:43.980451Z"
    },
    "papermill": {
     "duration": 0.012587,
     "end_time": "2025-06-09T04:23:43.981947",
     "exception": false,
     "start_time": "2025-06-09T04:23:43.969360",
     "status": "completed"
    },
    "tags": []
   },
   "outputs": [],
   "source": [
    "# Some useful definitions.\n",
    "\n",
    "class AffiliationWarning(UserWarning):\n",
    "    pass\n",
    "\n",
    "class AffiliationError(RuntimeError):\n",
    "    pass\n",
    "\n",
    "def validation(source: str):\n",
    "    \"\"\"Raises error paper during parsing of source file\n",
    "    \n",
    "    Allows checks before parsing TeX code.\n",
    "    \n",
    "    Raises AffiliationWarning\n",
    "    \"\"\"\n",
    "    check = mpia.affiliation_verifications(source, verbose=True)\n",
    "    if check is not True:\n",
    "        raise AffiliationError(\"mpia.affiliation_verifications: \" + check)\n",
    "\n",
    "        \n",
    "warnings.simplefilter('always', AffiliationWarning)\n",
    "\n",
    "\n",
    "def get_markdown_qrcode(paper_id: str):\n",
    "    \"\"\" Generate a qrcode to the arxiv page using qrserver.com\n",
    "    \n",
    "    :param paper: Arxiv paper\n",
    "    :returns: markdown text\n",
    "    \"\"\"\n",
    "    url = r\"https://api.qrserver.com/v1/create-qr-code/?size=100x100&data=\"\n",
    "    txt = f\"\"\"<img src={url}\"https://arxiv.org/abs/{paper_id}\">\"\"\"\n",
    "    txt = '<div id=\"qrcode\">' + txt + '</div>'\n",
    "    return txt\n",
    "\n",
    "\n",
    "def clean_non_western_encoded_characters_commands(text: str) -> str:\n",
    "    \"\"\" Remove non-western encoded characters from a string\n",
    "    List may need to grow.\n",
    "    \n",
    "    :param text: the text to clean\n",
    "    :return: the cleaned text\n",
    "    \"\"\"\n",
    "    text = re.sub(r\"(\\\\begin{CJK}{UTF8}{gbsn})(.*?)(\\\\end{CJK})\", r\"\\2\", text)\n",
    "    return text\n",
    "\n",
    "\n",
    "def get_initials(name: str) -> str:\n",
    "    \"\"\" Get the short name, e.g., A.-B. FamName\n",
    "    :param name: full name\n",
    "    :returns: initials\n",
    "    \"\"\"\n",
    "    initials = []\n",
    "    # account for non western names often in ()\n",
    "    if '(' in name:\n",
    "        name = clean_non_western_encoded_characters_commands(name)\n",
    "        suffix = re.findall(r\"\\((.*?)\\)\", name)[0]\n",
    "        name = name.replace(f\"({suffix})\", '')\n",
    "    else:\n",
    "        suffix = ''\n",
    "    split = name.split()\n",
    "    for token in split[:-1]:\n",
    "        if '-' in token:\n",
    "            current = '-'.join([k[0] + '.' for k in token.split('-')])\n",
    "        else:\n",
    "            current = token[0] + '.'\n",
    "        initials.append(current)\n",
    "    initials.append(split[-1].strip())\n",
    "    if suffix:\n",
    "        initials.append(f\"({suffix})\")\n",
    "    return ' '.join(initials)"
   ]
  },
  {
   "cell_type": "markdown",
   "id": "14bd6310",
   "metadata": {
    "papermill": {
     "duration": 0.002954,
     "end_time": "2025-06-09T04:23:43.987851",
     "exception": false,
     "start_time": "2025-06-09T04:23:43.984897",
     "status": "completed"
    },
    "tags": []
   },
   "source": [
    "## get list of arxiv paper candidates\n",
    "\n",
    "We use the MPIA mitarbeiter list webpage from mpia.de to get author names\n",
    "We then get all new papers from Arxiv and match authors"
   ]
  },
  {
   "cell_type": "code",
   "execution_count": 3,
   "id": "7ea813a8",
   "metadata": {
    "execution": {
     "iopub.execute_input": "2025-06-09T04:23:43.994704Z",
     "iopub.status.busy": "2025-06-09T04:23:43.994333Z",
     "iopub.status.idle": "2025-06-09T04:24:06.737732Z",
     "shell.execute_reply": "2025-06-09T04:24:06.737107Z"
    },
    "papermill": {
     "duration": 22.748039,
     "end_time": "2025-06-09T04:24:06.738849",
     "exception": false,
     "start_time": "2025-06-09T04:23:43.990810",
     "status": "completed"
    },
    "tags": []
   },
   "outputs": [],
   "source": [
    "# deal with the author list and edge cases of people that cannot be consistent on their name  \n",
    "\n",
    "def filter_non_scientists(name: str) -> bool:\n",
    "    \"\"\" Loose filter on expected authorships\n",
    "\n",
    "    removing IT, administration, technical staff\n",
    "    :param name: name\n",
    "    :returns: False if name is not a scientist\n",
    "    \"\"\"\n",
    "    remove_list = ['Licht', 'Binroth', 'Witzel', 'Jordan',\n",
    "                   'Zähringer', 'Scheerer', 'Hoffmann', 'Düe',\n",
    "                   'Hellmich', 'Enkler-Scharpegge', 'Witte-Nguy',\n",
    "                   'Dehen', 'Beckmann', 'Jager', 'Jäger'\n",
    "                  ]\n",
    "\n",
    "    for k in remove_list:\n",
    "        if k in name:\n",
    "            return False\n",
    "    return True\n",
    "\n",
    "def add_author_to_list(author_list: list) -> list:\n",
    "    \"\"\" Add author to list if not already in list\n",
    "    \n",
    "    :param author: author name\n",
    "    :param author_list: list of authors\n",
    "    :returns: updated list of authors\n",
    "    \"\"\"\n",
    "    add_list = ['T. Henning']\n",
    "\n",
    "    for author in add_list:\n",
    "        if author not in author_list:\n",
    "            author_list.append(author)\n",
    "    return author_list\n",
    "\n",
    "# get list from MPIA website\n",
    "# filter for non-scientists (mpia.get_mpia_mitarbeiter_list() does some filtering)\n",
    "mpia_authors = [k[1] for k in mpia.get_mpia_mitarbeiter_list() if filter_non_scientists(k[1])]\n",
    "# add some missing author because of inconsistencies in their MPIA name and author name on papers\n",
    "mpia_authors = add_author_to_list(mpia_authors)"
   ]
  },
  {
   "cell_type": "code",
   "execution_count": 4,
   "id": "2645e73a",
   "metadata": {
    "execution": {
     "iopub.execute_input": "2025-06-09T04:24:06.746179Z",
     "iopub.status.busy": "2025-06-09T04:24:06.745759Z",
     "iopub.status.idle": "2025-06-09T04:24:07.441613Z",
     "shell.execute_reply": "2025-06-09T04:24:07.441000Z"
    },
    "papermill": {
     "duration": 0.700426,
     "end_time": "2025-06-09T04:24:07.442541",
     "exception": false,
     "start_time": "2025-06-09T04:24:06.742115",
     "status": "completed"
    },
    "tags": []
   },
   "outputs": [
    {
     "name": "stdout",
     "output_type": "stream",
     "text": [
      "A. d. Graaff  ->  A. D. Graaff  |  ['A. D. Graaff']\n",
      "S. Kurinchi-Vendhan  ->  S. Kurinchi-Vendhan  |  ['S. Kurinchi-Vendhan']\n",
      "E. Rohr  ->  E. Rohr  |  ['E. Rohr']\n",
      "A. Pillepich  ->  A. Pillepich  |  ['A. Pillepich']\n",
      "M. Sharma  ->  Y. M. Sharma  |  ['M. Sharma']\n",
      "X. Zhang  ->  X. Zhang  |  ['X. Zhang']\n",
      "M. Benisty  ->  M. Benisty  |  ['M. Benisty']\n"
     ]
    },
    {
     "name": "stdout",
     "output_type": "stream",
     "text": [
      "Y. Wang  ->  Y. Wang  |  ['Y. Wang']\n",
      "N. Neumayer  ->  N. Neumayer  |  ['N. Neumayer']\n",
      "H. Beuther  ->  H. Beuther  |  ['H. Beuther']\n",
      "Y. Wang  ->  Y. Wang  |  ['Y. Wang']\n",
      "X. Zhang  ->  X. Zhang  |  ['X. Zhang']\n",
      "Arxiv has 58 new papers today\n",
      "          9 with possible author matches\n"
     ]
    }
   ],
   "source": [
    "new_papers = get_new_papers()\n",
    "# add manual references\n",
    "add_paper_refs = []\n",
    "new_papers.extend([get_paper_from_identifier(k) for k in add_paper_refs])\n",
    "\n",
    "def robust_call(fn, value, *args, **kwargs):\n",
    "    try:\n",
    "        return fn(value, *args, **kwargs)\n",
    "    except Exception:\n",
    "        return value\n",
    "\n",
    "candidates = []\n",
    "for paperk in new_papers:\n",
    "    # Check author list with their initials\n",
    "    normed_author_list = [robust_call(mpia.get_initials, k) for k in paperk['authors']]\n",
    "    hl_authors = highlight_authors_in_list(normed_author_list, mpia_authors, verbose=True)\n",
    "    matches = [(hl, orig) for hl, orig in zip(hl_authors, paperk['authors']) if 'mark' in hl]\n",
    "    paperk['authors'] = hl_authors\n",
    "    if matches:\n",
    "        # only select paper if an author matched our list\n",
    "        candidates.append(paperk)\n",
    "print(\"\"\"Arxiv has {0:,d} new papers today\"\"\".format(len(new_papers)))        \n",
    "print(\"\"\"          {0:,d} with possible author matches\"\"\".format(len(candidates)))"
   ]
  },
  {
   "cell_type": "markdown",
   "id": "3543b34a",
   "metadata": {
    "papermill": {
     "duration": 0.003058,
     "end_time": "2025-06-09T04:24:07.448949",
     "exception": false,
     "start_time": "2025-06-09T04:24:07.445891",
     "status": "completed"
    },
    "tags": []
   },
   "source": [
    "# Parse sources and generate relevant outputs\n",
    "\n",
    "From the candidates, we do the following steps:\n",
    "* get their tarball from ArXiv (and extract data)\n",
    "* find the main .tex file: find one with \\documentclass{...} (sometimes it's non trivial)\n",
    "* Check affiliations with :func:`validation`, which uses :func:`mpia.affiliation_verifications`\n",
    "* If passing the affiliations: we parse the .tex source\n",
    "   * inject sub-documents into the main (flatten the main document)\n",
    "   * parse structure, extract information (title, abstract, authors, figures...)\n",
    "   * handles `\\graphicspath` if provided\n",
    "* Generate the .md document."
   ]
  },
  {
   "cell_type": "code",
   "execution_count": 5,
   "id": "9576b79e",
   "metadata": {
    "execution": {
     "iopub.execute_input": "2025-06-09T04:24:07.456089Z",
     "iopub.status.busy": "2025-06-09T04:24:07.455693Z",
     "iopub.status.idle": "2025-06-09T04:25:47.700372Z",
     "shell.execute_reply": "2025-06-09T04:25:47.699653Z"
    },
    "papermill": {
     "duration": 100.249497,
     "end_time": "2025-06-09T04:25:47.701504",
     "exception": false,
     "start_time": "2025-06-09T04:24:07.452007",
     "status": "completed"
    },
    "scrolled": false,
    "tags": []
   },
   "outputs": [
    {
     "data": {
      "application/vnd.jupyter.widget-view+json": {
       "model_id": "c6ac0cc88afc4ef3aca2943be778b3db",
       "version_major": 2,
       "version_minor": 0
      },
      "text/plain": [
       "  0%|          | 0/9 [00:00<?, ?it/s]"
      ]
     },
     "metadata": {},
     "output_type": "display_data"
    },
    {
     "name": "stdout",
     "output_type": "stream",
     "text": [
      "Retrieving document from  https://arxiv.org/e-print/2506.05459\n"
     ]
    },
    {
     "name": "stdout",
     "output_type": "stream",
     "text": [
      "extracting tarball to tmp_2506.05459..."
     ]
    },
    {
     "name": "stdout",
     "output_type": "stream",
     "text": [
      " done.\n"
     ]
    },
    {
     "name": "stdout",
     "output_type": "stream",
     "text": [
      "Found 103 bibliographic references in tmp_2506.05459/main.bbl.\n",
      "Retrieving document from  https://arxiv.org/e-print/2506.05474\n"
     ]
    },
    {
     "name": "stdout",
     "output_type": "stream",
     "text": [
      "extracting tarball to tmp_2506.05474..."
     ]
    },
    {
     "name": "stdout",
     "output_type": "stream",
     "text": [
      " done.\n"
     ]
    },
    {
     "name": "stderr",
     "output_type": "stream",
     "text": [
      "/opt/hostedtoolcache/Python/3.9.22/x64/lib/python3.9/site-packages/IPython/core/interactiveshell.py:3550: LatexWarning: Multiple tex files.\n",
      "\n",
      "  exec(code_obj, self.user_global_ns, self.user_ns)\n",
      "/opt/hostedtoolcache/Python/3.9.22/x64/lib/python3.9/site-packages/IPython/core/interactiveshell.py:3550: LatexWarning: Found documentclass in tmp_2506.05474/main.tex\n",
      "\n",
      "  exec(code_obj, self.user_global_ns, self.user_ns)\n",
      "/opt/hostedtoolcache/Python/3.9.22/x64/lib/python3.9/site-packages/arxiv_on_deck_2/latex.py:414: LatexWarning: Latex injecting: 'sections/sec6_appendix' from 'tmp_2506.05474/sections/sec6_appendix.tex'\n",
      "  warnings.warn(LatexWarning(f\"Latex injecting: '{ext}' from '{subsource}'\"))\n",
      "/opt/hostedtoolcache/Python/3.9.22/x64/lib/python3.9/site-packages/arxiv_on_deck_2/latex.py:414: LatexWarning: Latex injecting: 'sections/sec5_conclusion' from 'tmp_2506.05474/sections/sec5_conclusion.tex'\n",
      "  warnings.warn(LatexWarning(f\"Latex injecting: '{ext}' from '{subsource}'\"))\n",
      "/opt/hostedtoolcache/Python/3.9.22/x64/lib/python3.9/site-packages/arxiv_on_deck_2/latex.py:414: LatexWarning: Latex injecting: 'sections/sec4_discussion' from 'tmp_2506.05474/sections/sec4_discussion.tex'\n",
      "  warnings.warn(LatexWarning(f\"Latex injecting: '{ext}' from '{subsource}'\"))\n",
      "/opt/hostedtoolcache/Python/3.9.22/x64/lib/python3.9/site-packages/arxiv_on_deck_2/latex.py:414: LatexWarning: Latex injecting: 'sections/sec3_results' from 'tmp_2506.05474/sections/sec3_results.tex'\n",
      "  warnings.warn(LatexWarning(f\"Latex injecting: '{ext}' from '{subsource}'\"))\n",
      "/opt/hostedtoolcache/Python/3.9.22/x64/lib/python3.9/site-packages/arxiv_on_deck_2/latex.py:414: LatexWarning: Latex injecting: 'sections/sec2_methods' from 'tmp_2506.05474/sections/sec2_methods.tex'\n",
      "  warnings.warn(LatexWarning(f\"Latex injecting: '{ext}' from '{subsource}'\"))\n",
      "/opt/hostedtoolcache/Python/3.9.22/x64/lib/python3.9/site-packages/arxiv_on_deck_2/latex.py:414: LatexWarning: Latex injecting: 'sections/sec1_introduction' from 'tmp_2506.05474/sections/sec1_introduction.tex'\n",
      "  warnings.warn(LatexWarning(f\"Latex injecting: '{ext}' from '{subsource}'\"))\n",
      "/opt/hostedtoolcache/Python/3.9.22/x64/lib/python3.9/site-packages/arxiv_on_deck_2/latex.py:414: LatexWarning: Latex injecting: 'sections/sec0_abstract' from 'tmp_2506.05474/sections/sec0_abstract.tex'\n",
      "  warnings.warn(LatexWarning(f\"Latex injecting: '{ext}' from '{subsource}'\"))\n"
     ]
    },
    {
     "name": "stdout",
     "output_type": "stream",
     "text": [
      "Found 122 bibliographic references in tmp_2506.05474/main.bbl.\n",
      "Retrieving document from  https://arxiv.org/e-print/2506.05631\n",
      "extracting tarball to tmp_2506.05631..."
     ]
    },
    {
     "name": "stdout",
     "output_type": "stream",
     "text": [
      " done.\n",
      "Retrieving document from  https://arxiv.org/e-print/2506.05659\n",
      "extracting tarball to tmp_2506.05659..."
     ]
    },
    {
     "name": "stdout",
     "output_type": "stream",
     "text": [
      " done.\n",
      "Retrieving document from  https://arxiv.org/e-print/2506.05892\n"
     ]
    },
    {
     "name": "stdout",
     "output_type": "stream",
     "text": [
      "extracting tarball to tmp_2506.05892..."
     ]
    },
    {
     "name": "stdout",
     "output_type": "stream",
     "text": [
      " done.\n",
      "Retrieving document from  https://arxiv.org/e-print/2506.05920\n"
     ]
    },
    {
     "name": "stdout",
     "output_type": "stream",
     "text": [
      "extracting tarball to tmp_2506.05920..."
     ]
    },
    {
     "name": "stdout",
     "output_type": "stream",
     "text": [
      " done.\n",
      "  0: tmp_2506.05920/main.tex, 843 lines\n",
      "  1: tmp_2506.05920/natbib.tex, 96 lines\n",
      "  2: tmp_2506.05920/natnotes.tex, 332 lines\n",
      "  3: tmp_2506.05920/aassymbols.tex, 579 lines\n",
      "Retrieving document from  https://arxiv.org/e-print/2506.06014\n"
     ]
    },
    {
     "name": "stderr",
     "output_type": "stream",
     "text": [
      "/opt/hostedtoolcache/Python/3.9.22/x64/lib/python3.9/site-packages/IPython/core/interactiveshell.py:3550: LatexWarning: Multiple tex files.\n",
      "\n",
      "  exec(code_obj, self.user_global_ns, self.user_ns)\n",
      "/opt/hostedtoolcache/Python/3.9.22/x64/lib/python3.9/site-packages/IPython/core/interactiveshell.py:3550: LatexWarning: Found 4 candidates with documentclass definition.\n",
      "  exec(code_obj, self.user_global_ns, self.user_ns)\n",
      "/opt/hostedtoolcache/Python/3.9.22/x64/lib/python3.9/site-packages/IPython/core/interactiveshell.py:3550: LatexWarning: Assuming tmp_2506.05920/main.tex as main document.\n",
      "  exec(code_obj, self.user_global_ns, self.user_ns)\n"
     ]
    },
    {
     "name": "stdout",
     "output_type": "stream",
     "text": [
      "extracting tarball to tmp_2506.06014..."
     ]
    },
    {
     "name": "stdout",
     "output_type": "stream",
     "text": [
      " done.\n"
     ]
    },
    {
     "name": "stdout",
     "output_type": "stream",
     "text": [
      "Found 100 bibliographic references in tmp_2506.06014/aa54630-25_vle.bbl.\n",
      "Retrieving document from  https://arxiv.org/e-print/2506.06149\n"
     ]
    },
    {
     "name": "stdout",
     "output_type": "stream",
     "text": [
      "extracting tarball to tmp_2506.06149..."
     ]
    },
    {
     "name": "stdout",
     "output_type": "stream",
     "text": [
      " done.\n"
     ]
    },
    {
     "name": "stderr",
     "output_type": "stream",
     "text": [
      "/opt/hostedtoolcache/Python/3.9.22/x64/lib/python3.9/site-packages/arxiv_on_deck_2/latex.py:132: LatexWarning: attempting recovering figure .png\n",
      "  warnings.warn(LatexWarning(f'attempting recovering figure {image}'))\n",
      "/opt/hostedtoolcache/Python/3.9.22/x64/lib/python3.9/site-packages/arxiv_on_deck_2/latex.py:707: LatexWarning: Could not find graphic \\includegraphics[width=1\\columnwidth]{{fmol_thorhr_thor}.png}\n",
      "  warnings.warn(LatexWarning(f\"Could not find graphic {k}\"))\n",
      "/opt/hostedtoolcache/Python/3.9.22/x64/lib/python3.9/site-packages/arxiv_on_deck_2/latex.py:132: LatexWarning: attempting recovering figure .png\n",
      "  warnings.warn(LatexWarning(f'attempting recovering figure {image}'))\n",
      "/opt/hostedtoolcache/Python/3.9.22/x64/lib/python3.9/site-packages/arxiv_on_deck_2/latex.py:707: LatexWarning: Could not find graphic \\includegraphics[width=1\\columnwidth]{{xoh_vs_rgc}.png}\n",
      "  warnings.warn(LatexWarning(f\"Could not find graphic {k}\"))\n",
      "/opt/hostedtoolcache/Python/3.9.22/x64/lib/python3.9/site-packages/arxiv_on_deck_2/latex.py:132: LatexWarning: attempting recovering figure .png\n",
      "  warnings.warn(LatexWarning(f'attempting recovering figure {image}'))\n",
      "/opt/hostedtoolcache/Python/3.9.22/x64/lib/python3.9/site-packages/arxiv_on_deck_2/latex.py:707: LatexWarning: Could not find graphic \\includegraphics[height=0.85\\textheight]{{mom0}.png}\n",
      "  warnings.warn(LatexWarning(f\"Could not find graphic {k}\"))\n",
      "/opt/hostedtoolcache/Python/3.9.22/x64/lib/python3.9/site-packages/arxiv_on_deck_2/latex.py:132: LatexWarning: attempting recovering figure .png\n",
      "  warnings.warn(LatexWarning(f'attempting recovering figure {image}'))\n",
      "/opt/hostedtoolcache/Python/3.9.22/x64/lib/python3.9/site-packages/arxiv_on_deck_2/latex.py:707: LatexWarning: Could not find graphic \\includegraphics[width=1\\columnwidth]{{fmol_thorhr_thor_50k}.png}\n",
      "  warnings.warn(LatexWarning(f\"Could not find graphic {k}\"))\n",
      "/opt/hostedtoolcache/Python/3.9.22/x64/lib/python3.9/site-packages/arxiv_on_deck_2/latex.py:132: LatexWarning: attempting recovering figure .png\n",
      "  warnings.warn(LatexWarning(f'attempting recovering figure {image}'))\n",
      "/opt/hostedtoolcache/Python/3.9.22/x64/lib/python3.9/site-packages/arxiv_on_deck_2/latex.py:707: LatexWarning: Could not find graphic \\includegraphics[width=0.99\\textwidth]{{Rugel2025_TargetsOnTHOR1400MHz}.png}\n",
      "  warnings.warn(LatexWarning(f\"Could not find graphic {k}\"))\n",
      "/opt/hostedtoolcache/Python/3.9.22/x64/lib/python3.9/site-packages/arxiv_on_deck_2/latex.py:132: LatexWarning: attempting recovering figure .png\n",
      "  warnings.warn(LatexWarning(f'attempting recovering figure {image}'))\n",
      "/opt/hostedtoolcache/Python/3.9.22/x64/lib/python3.9/site-packages/arxiv_on_deck_2/latex.py:707: LatexWarning: Could not find graphic \\includegraphics[width=0.99\\textwidth]{{plot_cont_allsources}.png}\n",
      "  warnings.warn(LatexWarning(f\"Could not find graphic {k}\"))\n",
      "/opt/hostedtoolcache/Python/3.9.22/x64/lib/python3.9/site-packages/arxiv_on_deck_2/latex.py:132: LatexWarning: attempting recovering figure .png\n",
      "  warnings.warn(LatexWarning(f'attempting recovering figure {image}'))\n",
      "/opt/hostedtoolcache/Python/3.9.22/x64/lib/python3.9/site-packages/arxiv_on_deck_2/latex.py:707: LatexWarning: Could not find graphic \\includegraphics[width=0.93\\textwidth, trim=0 0 0 0]{{plots_paper_pi230_g31_continuousspec}.png}\n",
      "  warnings.warn(LatexWarning(f\"Could not find graphic {k}\"))\n",
      "/opt/hostedtoolcache/Python/3.9.22/x64/lib/python3.9/site-packages/arxiv_on_deck_2/latex.py:132: LatexWarning: attempting recovering figure .png\n",
      "  warnings.warn(LatexWarning(f'attempting recovering figure {image}'))\n",
      "/opt/hostedtoolcache/Python/3.9.22/x64/lib/python3.9/site-packages/arxiv_on_deck_2/latex.py:707: LatexWarning: Could not find graphic \\includegraphics[width=1\\textwidth]{{intoh_vs_nh}.png}\n",
      "  warnings.warn(LatexWarning(f\"Could not find graphic {k}\"))\n",
      "/opt/hostedtoolcache/Python/3.9.22/x64/lib/python3.9/site-packages/arxiv_on_deck_2/latex.py:132: LatexWarning: attempting recovering figure .png\n",
      "  warnings.warn(LatexWarning(f'attempting recovering figure {image}'))\n",
      "/opt/hostedtoolcache/Python/3.9.22/x64/lib/python3.9/site-packages/arxiv_on_deck_2/latex.py:707: LatexWarning: Could not find graphic \\includegraphics[width=1\\textwidth]{{xoh_vs_nh}.png}\n",
      "  warnings.warn(LatexWarning(f\"Could not find graphic {k}\"))\n",
      "/opt/hostedtoolcache/Python/3.9.22/x64/lib/python3.9/site-packages/arxiv_on_deck_2/latex.py:132: LatexWarning: attempting recovering figure .png\n",
      "  warnings.warn(LatexWarning(f'attempting recovering figure {image}'))\n",
      "/opt/hostedtoolcache/Python/3.9.22/x64/lib/python3.9/site-packages/arxiv_on_deck_2/latex.py:707: LatexWarning: Could not find graphic \\includegraphics[width=0.99\\textwidth, trim=0 3cm 0 0]{{plots_paper_g21_continuousspec}.png}\n",
      "  warnings.warn(LatexWarning(f\"Could not find graphic {k}\"))\n",
      "/opt/hostedtoolcache/Python/3.9.22/x64/lib/python3.9/site-packages/arxiv_on_deck_2/latex.py:132: LatexWarning: attempting recovering figure .png\n",
      "  warnings.warn(LatexWarning(f'attempting recovering figure {image}'))\n",
      "/opt/hostedtoolcache/Python/3.9.22/x64/lib/python3.9/site-packages/arxiv_on_deck_2/latex.py:707: LatexWarning: Could not find graphic \\includegraphics[width=0.99\\textwidth, trim=0 3cm 0 0]{{plots_paper_g29_continuousspec}.png}\n",
      "  warnings.warn(LatexWarning(f\"Could not find graphic {k}\"))\n",
      "/opt/hostedtoolcache/Python/3.9.22/x64/lib/python3.9/site-packages/arxiv_on_deck_2/latex.py:132: LatexWarning: attempting recovering figure .png\n",
      "  warnings.warn(LatexWarning(f'attempting recovering figure {image}'))\n",
      "/opt/hostedtoolcache/Python/3.9.22/x64/lib/python3.9/site-packages/arxiv_on_deck_2/latex.py:707: LatexWarning: Could not find graphic \\includegraphics[width=0.99\\textwidth, trim=0 0 0 0]{{plots_paper_pi230_g29p935_continuousspec}.png}\n",
      "  warnings.warn(LatexWarning(f\"Could not find graphic {k}\"))\n",
      "/opt/hostedtoolcache/Python/3.9.22/x64/lib/python3.9/site-packages/arxiv_on_deck_2/latex.py:132: LatexWarning: attempting recovering figure .png\n",
      "  warnings.warn(LatexWarning(f'attempting recovering figure {image}'))\n",
      "/opt/hostedtoolcache/Python/3.9.22/x64/lib/python3.9/site-packages/arxiv_on_deck_2/latex.py:707: LatexWarning: Could not find graphic \\includegraphics[height=1.1\\textwidth]{{composit_mom_spec_g29}.png}\n",
      "  warnings.warn(LatexWarning(f\"Could not find graphic {k}\"))\n",
      "/opt/hostedtoolcache/Python/3.9.22/x64/lib/python3.9/site-packages/arxiv_on_deck_2/latex.py:132: LatexWarning: attempting recovering figure .png\n",
      "  warnings.warn(LatexWarning(f'attempting recovering figure {image}'))\n",
      "/opt/hostedtoolcache/Python/3.9.22/x64/lib/python3.9/site-packages/arxiv_on_deck_2/latex.py:707: LatexWarning: Could not find graphic \\includegraphics[width=0.9\\textwidth]{{g29p935_oi_v2}.png}\n",
      "  warnings.warn(LatexWarning(f\"Could not find graphic {k}\"))\n",
      "/opt/hostedtoolcache/Python/3.9.22/x64/lib/python3.9/site-packages/arxiv_on_deck_2/latex.py:132: LatexWarning: attempting recovering figure .png\n",
      "  warnings.warn(LatexWarning(f'attempting recovering figure {image}'))\n",
      "/opt/hostedtoolcache/Python/3.9.22/x64/lib/python3.9/site-packages/arxiv_on_deck_2/latex.py:707: LatexWarning: Could not find graphic \\includegraphics[width=0.9\\textwidth]{{g31p388_cii_v2}.png}\n",
      "  warnings.warn(LatexWarning(f\"Could not find graphic {k}\"))\n",
      "/opt/hostedtoolcache/Python/3.9.22/x64/lib/python3.9/site-packages/arxiv_on_deck_2/latex.py:132: LatexWarning: attempting recovering figure .png\n",
      "  warnings.warn(LatexWarning(f'attempting recovering figure {image}'))\n",
      "/opt/hostedtoolcache/Python/3.9.22/x64/lib/python3.9/site-packages/arxiv_on_deck_2/latex.py:707: LatexWarning: Could not find graphic \\includegraphics[width=0.9\\textwidth]{{g31p388_oi_v2}.png}\n",
      "  warnings.warn(LatexWarning(f\"Could not find graphic {k}\"))\n",
      "/opt/hostedtoolcache/Python/3.9.22/x64/lib/python3.9/site-packages/arxiv_on_deck_2/latex.py:132: LatexWarning: attempting recovering figure .png\n",
      "  warnings.warn(LatexWarning(f'attempting recovering figure {image}'))\n",
      "/opt/hostedtoolcache/Python/3.9.22/x64/lib/python3.9/site-packages/arxiv_on_deck_2/latex.py:707: LatexWarning: Could not find graphic \\includegraphics[width=0.9\\textwidth]{{g29p935_cii_v2}.png}\n",
      "  warnings.warn(LatexWarning(f\"Could not find graphic {k}\"))\n",
      "/opt/hostedtoolcache/Python/3.9.22/x64/lib/python3.9/site-packages/arxiv_on_deck_2/latex.py:132: LatexWarning: attempting recovering figure .png\n",
      "  warnings.warn(LatexWarning(f'attempting recovering figure {image}'))\n",
      "/opt/hostedtoolcache/Python/3.9.22/x64/lib/python3.9/site-packages/arxiv_on_deck_2/latex.py:707: LatexWarning: Could not find graphic \\includegraphics[width=0.9\\textwidth]{{g29p935_cii_zoomlow_v2}.png}\n",
      "  warnings.warn(LatexWarning(f\"Could not find graphic {k}\"))\n",
      "/opt/hostedtoolcache/Python/3.9.22/x64/lib/python3.9/site-packages/arxiv_on_deck_2/latex.py:132: LatexWarning: attempting recovering figure .png\n",
      "  warnings.warn(LatexWarning(f'attempting recovering figure {image}'))\n",
      "/opt/hostedtoolcache/Python/3.9.22/x64/lib/python3.9/site-packages/arxiv_on_deck_2/latex.py:707: LatexWarning: Could not find graphic \\includegraphics[width=0.9\\textwidth]{{g29p935_cii_13cii_v2}.png}\n",
      "  warnings.warn(LatexWarning(f\"Could not find graphic {k}\"))\n"
     ]
    },
    {
     "name": "stdout",
     "output_type": "stream",
     "text": [
      "Found 114 bibliographic references in tmp_2506.06149/oh_highres_paper.bbl.\n",
      "Retrieving document from  https://arxiv.org/e-print/2506.06164\n",
      "extracting tarball to tmp_2506.06164..."
     ]
    },
    {
     "name": "stdout",
     "output_type": "stream",
     "text": [
      " done.\n"
     ]
    }
   ],
   "source": [
    "documents = []\n",
    "failed = []\n",
    "for paper in tqdm(candidates):\n",
    "    # debug crap\n",
    "    paper['identifier'] = paper['identifier'].lower().replace('arxiv:', '').replace(r'\\n', '').strip()\n",
    "    paper_id = paper['identifier']\n",
    "    \n",
    "    folder = f'tmp_{paper_id}'\n",
    "\n",
    "    try:\n",
    "        if not os.path.isdir(folder):\n",
    "            folder = retrieve_document_source(f\"{paper_id}\", f'tmp_{paper_id}')\n",
    "        \n",
    "        try:\n",
    "            doc = latex.LatexDocument(folder, validation=validation)    \n",
    "        except AffiliationError as affilerror:\n",
    "            msg = f\"ArXiv:{paper_id:s} is not an MPIA paper... \" + str(affilerror)\n",
    "            failed.append((paper, \"affiliation error: \" + str(affilerror) ))\n",
    "            continue\n",
    "        \n",
    "        # Hack because sometimes author parsing does not work well\n",
    "        if (len(doc.authors) != len(paper['authors'])):\n",
    "            doc._authors = paper['authors']\n",
    "        else:\n",
    "            # highlight authors (FIXME: doc.highlight_authors)\n",
    "            # done on arxiv paper already\n",
    "            doc._authors = highlight_authors_in_list(\n",
    "                [get_initials(k) for k in doc.authors], \n",
    "                mpia_authors, verbose=True)\n",
    "        if (doc.abstract) in (None, ''):\n",
    "            doc._abstract = paper['abstract']\n",
    "            \n",
    "        doc.comment = (get_markdown_badge(paper_id) + \n",
    "                       \"<mark>Appeared on: \" + paper['date'] + \"</mark> - \")\n",
    "        if paper['comments']:\n",
    "            doc.comment += \" _\" + paper['comments'] + \"_\"\n",
    "        \n",
    "        full_md = doc.generate_markdown_text()\n",
    "        \n",
    "        full_md += get_markdown_qrcode(paper_id)\n",
    "        \n",
    "        # replace citations\n",
    "        try:\n",
    "            bibdata = latex_bib.LatexBib.from_doc(doc)\n",
    "            full_md = latex_bib.replace_citations(full_md, bibdata)\n",
    "        except Exception as e:\n",
    "            print(\"Issues with the citations\")\n",
    "            print(e)\n",
    "        \n",
    "        documents.append((paper_id, full_md))\n",
    "    except Exception as e:\n",
    "        warnings.warn(latex.LatexWarning(f\"{paper_id:s} did not run properly\\n\" +\n",
    "                                         str(e)\n",
    "                                        ))\n",
    "        failed.append((paper, \"latex error \" + str(e)))"
   ]
  },
  {
   "cell_type": "markdown",
   "id": "2505a25c",
   "metadata": {
    "papermill": {
     "duration": 0.004358,
     "end_time": "2025-06-09T04:25:47.710489",
     "exception": false,
     "start_time": "2025-06-09T04:25:47.706131",
     "status": "completed"
    },
    "tags": []
   },
   "source": [
    "### Export the logs\n",
    "\n",
    "Throughout, we also keep track of the logs per paper. see `logs-{today date}.md` "
   ]
  },
  {
   "cell_type": "code",
   "execution_count": 6,
   "id": "d733828a",
   "metadata": {
    "execution": {
     "iopub.execute_input": "2025-06-09T04:25:47.720345Z",
     "iopub.status.busy": "2025-06-09T04:25:47.719793Z",
     "iopub.status.idle": "2025-06-09T04:25:47.740883Z",
     "shell.execute_reply": "2025-06-09T04:25:47.740272Z"
    },
    "papermill": {
     "duration": 0.027189,
     "end_time": "2025-06-09T04:25:47.741962",
     "exception": false,
     "start_time": "2025-06-09T04:25:47.714773",
     "status": "completed"
    },
    "scrolled": false,
    "tags": []
   },
   "outputs": [
    {
     "data": {
      "text/markdown": [
       "## Successful papers"
      ],
      "text/plain": [
       "<IPython.core.display.Markdown object>"
      ]
     },
     "metadata": {},
     "output_type": "display_data"
    },
    {
     "data": {
      "text/markdown": [
       "\n",
       "|||\n",
       "|---:|:---|\n",
       "| [![arXiv](https://img.shields.io/badge/arXiv-2506.05459-b31b1b.svg)](https://arxiv.org/abs/2506.05459) | **RUBIES: A Spectroscopic Census of Little Red Dots; All V-Shaped Point Sources Have Broad Lines**  |\n",
       "|| R. E. Hviding, et al. -- incl., <mark>A. d. Graaff</mark> |\n",
       "|*Appeared on*| *2025-06-09*|\n",
       "|*Comments*| *Main text: 17 pages, 10 figures. Appendix: 7 pages, 3 figures. Submitted to A&A*|\n",
       "|**Abstract**|            The physical nature of Little Red Dots (LRDs) - a population of compact, red galaxies revealed by JWST - remains unclear. Photometric samples are constructed from varying selection criteria with limited spectroscopic follow-up available to test intrinsic spectral shapes and prevalence of broad emission lines. We use the RUBIES survey, a large spectroscopic program with wide color-morphology coverage and homogeneous data quality, to systematically analyze the emission-line kinematics, spectral shapes, and morphologies of $\\sim$1500 galaxies at $z > 3.1$. We identify broad Balmer lines via a novel fitting approach that simultaneously models NIRSpec/PRISM and G395M spectra, yielding 80 broad-line sources with 28 (35%) at $z > 6$. A large subpopulation naturally emerges from the broad Balmer line sources, with 36 exhibiting `v-shaped' UV-to-optical continua and a dominant point source component in the rest-optical; we define these as spectroscopic LRDs, constituting the largest such sample to date. Strikingly, the spectroscopic LRD population is largely recovered when either a broad line or rest-optical point source is required in combination with a v-shaped continuum, suggesting an inherent link between these three defining characteristics. We compare the spectroscopic LRD sample to published photometric searches. Although these selections have high accuracy, down to $\\rm F444W<26.5$, only 50-62% of the RUBIES LRDs were previously identified. The remainder were missed due to a mixture of faint rest-UV photometry, comparatively blue rest-optical colors, or highly uncertain photometric redshifts. Our findings highlight that well-selected spectroscopic campaigns are essential for robust LRD identification, while photometric criteria require refinement to capture the full population.         |"
      ],
      "text/plain": [
       "[2506.05459] RUBIES: A Spectroscopic Census of Little Red Dots; All V-Shaped Point Sources Have Broad Lines\n",
       "\tR. E. Hviding, et al. -- incl., <mark>A. d. Graaff</mark>"
      ]
     },
     "metadata": {},
     "output_type": "display_data"
    },
    {
     "data": {
      "text/markdown": [
       "\n",
       "|||\n",
       "|---:|:---|\n",
       "| [![arXiv](https://img.shields.io/badge/arXiv-2506.05474-b31b1b.svg)](https://arxiv.org/abs/2506.05474) | **Jellyfish galaxies with the IllustrisTNG simulations -- Supermassive black hole activity in dense environments with ram-pressure stripped satellites**  |\n",
       "|| <mark>S. Kurinchi-Vendhan</mark>, et al. -- incl., <mark>E. Rohr</mark>, <mark>A. Pillepich</mark> |\n",
       "|*Appeared on*| *2025-06-09*|\n",
       "|*Comments*| *21 pages, 9 figures + 3 appendices with 3 figures. Submitted to MNRAS*|\n",
       "|**Abstract**|            Jellyfish galaxies are extreme examples of how galaxies can transform due to dense environmental effects. These satellite galaxies suffer from ram-pressure stripping, leading to the formation of their distinctive gaseous tails. Some recent observational studies find that jellyfish galaxies are more likely to host active galactic nuclei (AGN) compared to central galaxies of the same mass, suggesting a link between ram pressure and supermassive black hole (SMBH) accretion. We use the IllustrisTNG cosmological-magnetohydrodynamical simulations, namely TNG50 and TNG100, to explore the presence of AGN in jellyfish galaxies with $M_{\\rm{stellar}}\\simeq10^{9.5-10.8}\\,\\rm{M}_\\odot$ at redshift $z=0$ from the Zooniverse \"Cosmological Jellyfish\" citizen-science project. Compared to central galaxies, jellyfish are more likely to host an AGN ($L_{\\rm AGN}\\geq10^{44}\\,\\mathrm{erg\\,s^{-1}}$) particularly at high stellar masses ($M_{\\rm stellar}\\gtrsim10^{10}\\,\\mathrm{M_\\odot}$). Jellyfish are also more likely to host an AGN than satellites of the same mass, largely because many satellite galaxies are gas-poor and therefore have lower SMBH accretion rates. Compared to non-jellyfish satellites with similar gas content, jellyfish typically undergo stronger ram pressure and have higher central gas densities along with lower central gas sound speeds, although these effects are smaller at lower stellar masses ($M_{\\rm stellar}\\lesssim10^{10}\\,\\mathrm{M_\\odot}$). Together with case studies of individual galaxies, our population analysis indicates that ram pressure can play a key role in fuelling AGN activity in a large fraction of jellyfish, where gas compression can lead to intense episodes of AGN feedback and star formation. Thus, it is essential to consider both environmental and secular processes for a more complete picture of satellite galaxy evolution.         |"
      ],
      "text/plain": [
       "[2506.05474] Jellyfish galaxies with the IllustrisTNG simulations -- Supermassive black hole activity in dense environments with ram-pressure stripped satellites\n",
       "\t<mark>S. Kurinchi-Vendhan</mark>, et al. -- incl., <mark>E. Rohr</mark>, <mark>A. Pillepich</mark>"
      ]
     },
     "metadata": {},
     "output_type": "display_data"
    },
    {
     "data": {
      "text/markdown": [
       "\n",
       "|||\n",
       "|---:|:---|\n",
       "| [![arXiv](https://img.shields.io/badge/arXiv-2506.06014-b31b1b.svg)](https://arxiv.org/abs/2506.06014) | **Dynamical mass distribution and velocity structure of the Galactic centre**  |\n",
       "|| A. Feldmeier-Krause, et al. -- incl., <mark>N. Neumayer</mark> |\n",
       "|*Appeared on*| *2025-06-09*|\n",
       "|*Comments*| *15 pages (+ 5 pages Appendix), 10 (+ 5) figures, accepted A&A*|\n",
       "|**Abstract**|            The inner ~200 pc region of the Milky Way contains a nuclear stellar disc and a nuclear star cluster that are embedded in the larger Galactic bar. These stellar systems overlap spatially, which makes it challenging to separate stars that belong to the nuclear stellar systems, to deduce their internal dynamics, and to derive the central Galactic potential. Discrete stellar kinematics probe the mass distribution of a stellar system, and chemical tracers such as stellar metallicity can further separate multiple stellar populations that can have distinct kinematic properties. We took advantage of the information provided by discrete stellar kinematics and the metallicity in the Galactic centre using discrete chemo-dynamical modelling. We fitted axisymmetric Jeans models to discrete data of 4,600 stars. We fitted the stars as either one population plus a background component or as two populations plus a background that represents the bar. We tested the robustness of the inferred gravitational potential against a varying mass of the supermassive black hole, including dark matter, or a radially varying mass-to-light ratio. We obtained robust results on the fit with a single population and a background component. We obtained a supermassive black hole mass of (4.35$\\pm 0.24) \\times 10^6$ M$_\\odot$, and we find that a dark matter component and radial variation in the mass-to-light ratio are negligible. We derived the enclosed mass profile of the inner ~60 pc and found a lower mass than reported in the literature in the region of ~5-30 pc. In our two-population fit, we found a high-[M/H] population that contributes more than 90% to the total stellar density. The properties of the high-[M/H] population are consistent with in situ formation after gas inflow from the Galactic disc via the bar. The distinct kinematic properties of the low-[M/H] population indicate a different origin. [abridged]         |"
      ],
      "text/plain": [
       "[2506.06014] Dynamical mass distribution and velocity structure of the Galactic centre\n",
       "\tA. Feldmeier-Krause, et al. -- incl., <mark>N. Neumayer</mark>"
      ]
     },
     "metadata": {},
     "output_type": "display_data"
    },
    {
     "data": {
      "text/markdown": [
       "\n",
       "|||\n",
       "|---:|:---|\n",
       "| [![arXiv](https://img.shields.io/badge/arXiv-2506.06149-b31b1b.svg)](https://arxiv.org/abs/2506.06149) | **Faint absorption of the ground state hyperfine-splitting transitions of hydroxyl at 18 cm in the Galactic Disk**  |\n",
       "|| M. R. Rugel, et al. -- incl., <mark>H. Beuther</mark>, <mark>Y. Wang</mark> |\n",
       "|*Appeared on*| *2025-06-09*|\n",
       "|*Comments*| *13 pages, 7 figures (appendices excluded). Accepted for publication in A&A*|\n",
       "|**Abstract**|            The interstellar hydride hydroxyl (OH) is a potential tracer of CO-dark molecular gas. We present new absorption line observations of OH at 18-cm wavelength towards four continuum sources. We compare these to the [CII] line at 1.9 THz obtained with SOFIA, observations of the neutral atomic hydrogen 21 cm line with the VLA, and CO lines obtained with APEX. We trace OH over a large range of molecular hydrogen column densities, and derive OH abundances with respect to molecular and total hydrogen column densities. Increased sensitivity and spectral resolution allowed us to detect weak and narrow features. We identify only one OH absorption component out of 23 without CO counterpart, yet several with intermediate molecular gas fractions. A potential association of [CII] 158 mu m emission with an OH absorption component is seen toward one sightline. Our results confirm that OH absorption traces molecular gas across diffuse and dense environments of the interstellar medium. At the sensitivity limits of the present observations our detection of only one CO-dark molecular gas feature appears in agreement with previous studies. We conclude that if OH absorption was to be used as a CO-dark molecular gas tracer, deeper observations or stronger background targets are necessary to unveil its full potential as a CO-dark molecular gas tracer, and yet it will never be an exclusive tracer of CO-dark molecular gas. For OH hyperfine-splitting transitions in the vicinity of photodissociation regions in W43-South, we detect a spectral and spatial offset between the peak of the inversion of the OH 1612 MHz line and the absorption of the OH 1720 MHz line on the one hand, and the absorption of the OH main lines on the other hand, which provides additional constraints on the interpretation of the OH 18 cm line signatures typical of HII regions.         |"
      ],
      "text/plain": [
       "[2506.06149] Faint absorption of the ground state hyperfine-splitting transitions of hydroxyl at 18 cm in the Galactic Disk\n",
       "\tM. R. Rugel, et al. -- incl., <mark>H. Beuther</mark>, <mark>Y. Wang</mark>"
      ]
     },
     "metadata": {},
     "output_type": "display_data"
    },
    {
     "data": {
      "text/markdown": [
       "## Failed papers"
      ],
      "text/plain": [
       "<IPython.core.display.Markdown object>"
      ]
     },
     "metadata": {},
     "output_type": "display_data"
    },
    {
     "data": {
      "text/markdown": [
       "\n",
       "|||\n",
       "|---:|:---|\n",
       "| [![arXiv](https://img.shields.io/badge/arXiv-2506.05631-b31b1b.svg)](https://arxiv.org/abs/2506.05631) | **The TESS Ten Thousand Catalog: 10,001 uniformly-vetted and -validated Eclipsing Binary Stars detected in Full-Frame Image data by machine learning and analyzed by citizen scientists**  |\n",
       "|| V. B. Kostov, et al. -- incl., <mark>M. Sharma</mark> |\n",
       "|*Appeared on*| *2025-06-09*|\n",
       "|*Comments*| *40 pages, 39 figures, 4 tables*|\n",
       "|**Abstract**|            The Transiting Exoplanet Survey Satellite (TESS) has surveyed nearly the entire sky in Full-Frame Image mode with a time resolution of 200 seconds to 30 minutes and a temporal baseline of at least 27 days. In addition to the primary goal of discovering new exoplanets, TESS is exceptionally capable at detecting variable stars, and in particular short-period eclipsing binaries which are relatively common, making up a few percent of all stars, and represent powerful astrophysical laboratories for deep investigations of stellar formation and evolution. We combed Sectors 1-82 of TESS Full-Frame Image data searching for eclipsing binary stars using a neural network that identified ~1.2 million stars with eclipse-like features. Of these, we have performed an in-depth analysis on ~60,000 targets using automated methods and manual inspection by citizen scientists. Here we present a catalog of 10001 uniformly-vetted and -validated eclipsing binary stars that passed all our ephemeris and photocenter tests, as well as complementary visual inspection. Of these, 7936 are new eclipsing binaries while the remaining 2065 are known systems for which we update the published ephemerides. We outline the detection and analysis of the targets, discuss the properties of the sample, and highlight potentially interesting systems. Finally, we also provide a list of ~900,000 unvetted and unvalidated targets for which the neural network found eclipse-like features with a score higher than 0.9, and for which there are no known eclipsing binaries within a sky-projected separation of a TESS pixel (~21 arcsec).         |\n",
       "|<p style=\"color:green\"> **ERROR** </p>| <p style=\"color:green\">affiliation error: mpia.affiliation_verifications: 'Heidelberg' keyword not found.</p> |"
      ],
      "text/plain": [
       "<IPython.core.display.Markdown object>"
      ]
     },
     "metadata": {},
     "output_type": "display_data"
    },
    {
     "data": {
      "text/markdown": [
       "\n",
       "|||\n",
       "|---:|:---|\n",
       "| [![arXiv](https://img.shields.io/badge/arXiv-2506.05659-b31b1b.svg)](https://arxiv.org/abs/2506.05659) | **The Observations of Magnetic Reconnection During the Interaction Process of Two Active Region Filaments**  |\n",
       "|| Z. Wu, et al. -- incl., <mark>X. Zhang</mark> |\n",
       "|*Appeared on*| *2025-06-09*|\n",
       "|*Comments*| *16 pages, 7 figures*|\n",
       "|**Abstract**|            We investigate the interaction between two filaments (F1 and F2) and their subsequent magnetic reconnection in active region (AR) NOAA 13296 and AR NOAA 13293 on May 9, 2023, utilizing high spatial and temporal resolution and multi-wavelength observational data from the Solar Dynamics Observatory, the New Vacuum Solar Telescope, and the Chinese H{\\alpha} Solar Explorer. The movement of F1 from the southeast toward the northwest, driven by the motion of the positive magnetic polarity (P1), leads to a collision and reconnection with F2. This reconnection exchanges their footpoints, resulting in the formation of two new filaments (F3 and F4) consistent with \"slingshot\" type filament interaction. During the interaction, the current sheet moving due to the motion of F1 and the reconnection outflows moving along F3 and F4 were both observed. The current sheet is rarely observed in the slingshot type filament interaction, measuring approximately 2.17 Mm in length and 0.84 Mm in width. After the interaction, the F1 disappears whereas a portion of F2 remains, indicating that the interaction involves partial slingshot reconnection, due to the unequal magnetic flux between the filaments. The residual part of F2 will undergo another magnetic reconnection in the same interaction region with the magnetic loops connecting polarities N1 and P1. The material generated by the reconnection is continuously injected into F4, leading to its final morphology. The findings enhance our understanding of slingshot-type filament interactions, indicating that partial slingshot reconnections between filaments may be more common than full slingshot events.         |\n",
       "|<p style=\"color:green\"> **ERROR** </p>| <p style=\"color:green\">affiliation error: mpia.affiliation_verifications: 'Heidelberg' keyword not found.</p> |"
      ],
      "text/plain": [
       "<IPython.core.display.Markdown object>"
      ]
     },
     "metadata": {},
     "output_type": "display_data"
    },
    {
     "data": {
      "text/markdown": [
       "\n",
       "|||\n",
       "|---:|:---|\n",
       "| [![arXiv](https://img.shields.io/badge/arXiv-2506.05920-b31b1b.svg)](https://arxiv.org/abs/2506.05920) | **Multi-Instrument Search for Gamma-Ray Counterpart of X-ray Transients detected by EP/WXT**  |\n",
       "|| Y.-Q. Zhang, et al. -- incl., <mark>Y. Wang</mark> |\n",
       "|*Appeared on*| *2025-06-09*|\n",
       "|*Comments*| *Accepted by ApJL*|\n",
       "|**Abstract**|            As a soft X-ray imager with unprecedentedly large field of view, EP/WXT has detected many (fast) X-ray transients, whose nature is very intriguing. Whether there is gamma-ray counterpart for the X-ray transient provides important implications for its origin. Some of them have been reported to be associated with GRB, however, a systematic study on the gamma-ray emission of these X-ray transients is lacking. In this work, we implemented a comprehensive targeted search for gamma-ray counterparts to 63 X-ray transients reported by EP/WXT during its first year of operation, using the dedicated multiple-instrument search pipeline, ETJASMIN, with GECAM-B, GECAM-C, Fermi/GBM, and \\textit{Insight}-HXMT data. We find that 14 out of 63 (22\\%) EP/WXT X-ray transients have gamma-ray counterparts. For other transients, ETJASMIN pipeline provided upper limit of gamma-ray emission, which is more stringent than that given by individual instrument. Moreover, we investigated the properties of the X-ray transients and their gamma-ray counterparts, and explored the relation between the x-ray transient and gamma-ray counterpart.         |\n",
       "|<p style=\"color:green\"> **ERROR** </p>| <p style=\"color:green\">affiliation error: mpia.affiliation_verifications: 'Heidelberg' keyword not found.</p> |"
      ],
      "text/plain": [
       "<IPython.core.display.Markdown object>"
      ]
     },
     "metadata": {},
     "output_type": "display_data"
    },
    {
     "data": {
      "text/markdown": [
       "\n",
       "|||\n",
       "|---:|:---|\n",
       "| [![arXiv](https://img.shields.io/badge/arXiv-2506.06164-b31b1b.svg)](https://arxiv.org/abs/2506.06164) | **Venus Cloud Research: Progress and Perspectives**  |\n",
       "|| L. Dai, et al. -- incl., <mark>X. Zhang</mark> |\n",
       "|*Appeared on*| *2025-06-09*|\n",
       "|*Comments*| *76 pages, 14 figures*|\n",
       "|**Abstract**|            Venus has regained attention on the international stage with the approval of three new missions by ESA and NASA. As the twin sister of Earth, Venus exhibits a distinct atmosphere, which casts a veil of mystery over the planetary evolution and is of great scientific significance. One of the most important components of Venus-the cloud-is believed to have significantly regulated its climate evolution and affect the environmental habitability. However, due to sparse in-situ measurements and the limitation of remote sensing, properties of these clouds remain largely unknown. Based on research conducted in past decades, this article reviews the observational structure of cloud properties, the progress of microphysical and simplified cloud model developments, and perspectives of future directions of this research field. Several possible solutions to the challenges associated with the coupling effect, ultraviolet absorption, and habitability are proposed and discussed in details, providing insights for future Venus' explorations.         |\n",
       "|<p style=\"color:green\"> **ERROR** </p>| <p style=\"color:green\">affiliation error: mpia.affiliation_verifications: 'Heidelberg' keyword not found.</p> |"
      ],
      "text/plain": [
       "<IPython.core.display.Markdown object>"
      ]
     },
     "metadata": {},
     "output_type": "display_data"
    },
    {
     "data": {
      "text/markdown": [
       "\n",
       "|||\n",
       "|---:|:---|\n",
       "| [![arXiv](https://img.shields.io/badge/arXiv-2506.05892-b31b1b.svg)](https://arxiv.org/abs/2506.05892) | **Disk Evolution Study Through Imaging of Nearby Young Stars (DESTINYS): Evidence of planet-disk interaction in the 2MASSJ16120668-3010270 system**  |\n",
       "|| C. Ginski, et al. -- incl., <mark>M. Benisty</mark> |\n",
       "|*Appeared on*| *2025-06-09*|\n",
       "|*Comments*| *14 pages, 10 figures, accepted for publication in A&A, abstract shortened to comply with arXiv format, associated ESO picture of the week release: this https URL*|\n",
       "|**Abstract**|            The architectures of exoplanet systems are likely set during the initial planet-formation phase in the circumstellar disk. To understand this process, we have to study the earliest phases of planet formation. Complex sub-structures, believed to be driven by embedded planets, have been detected in a significant portion of disks observed at high angular resolution. We aim to extend the sample of such disks to low stellar masses and to connect the disk morphology to the expected proto-planet properties. We resolve the disk in the 2MASSJ16120668-3010270 system for the first time in scattered near-infrared light on scales of 10 au using VLT/SPHERE and reveal an exceptionally structured disk. We find an inner disk (inside 40 au) with two spiral arms, separated by a gap from an outer ring. By comparison with hydrodynamic models, we find that these structures are consistent with the presence of an embedded gas giant with a mass range between 0.1 and 5 MJup depending on the employed model. Our SPHERE observations find a tentative candidate point source within the disk gap, which may be consistent with this mass range if it indeed traces thermal emission by an embedded planet. This interpretation is somewhat strengthened by the proximity of this signal to compact mm continuum emission in the disk gap, which may trace circumplanetary material. It is, however, unclear if this tentative companion candidate could be responsible for the observed disk gap size, given its close proximity to the inner disk. The 2MASSJ16120668-3010270 system is one of only a few systems that shows this exceptional morphology of spiral arms located inside a scattered light gap and ring. We speculate that this may have to do with a higher disk viscosity compared with other systems such as PDS 70.         |\n",
       "|<p style=\"color:green\"> **ERROR** </p>| <p style=\"color:green\">affiliation error: mpia.affiliation_verifications: 'Planck' keyword not found.</p> |"
      ],
      "text/plain": [
       "<IPython.core.display.Markdown object>"
      ]
     },
     "metadata": {},
     "output_type": "display_data"
    }
   ],
   "source": [
    "import datetime\n",
    "today = str(datetime.date.today())\n",
    "logfile = f\"_build/html/logs/log-{today}.md\"\n",
    "\n",
    "\n",
    "with open(logfile, 'w') as logs:\n",
    "    # Success\n",
    "    logs.write(f'# Arxiv on Deck 2: Logs - {today}\\n\\n')\n",
    "    logs.write(\"\"\"* Arxiv had {0:,d} new papers\\n\"\"\".format(len(new_papers)))\n",
    "    logs.write(\"\"\"    * {0:,d} with possible author matches\\n\\n\"\"\".format(len(candidates)))\n",
    "    logs.write(\"## Sucessful papers\\n\\n\")\n",
    "    display(Markdown(\"## Successful papers\"))\n",
    "    success = [k[0] for k in documents]\n",
    "    for candid in candidates:\n",
    "        if candid['identifier'].split(':')[-1] in success:\n",
    "            display(candid)\n",
    "            logs.write(candid.generate_markdown_text() + '\\n\\n')\n",
    "\n",
    "    ## failed\n",
    "    logs.write(\"## Failed papers\\n\\n\")\n",
    "    display(Markdown(\"## Failed papers\"))\n",
    "    failed = sorted(failed, key=lambda x: x[1])\n",
    "    current_reason = \"\"\n",
    "    for paper, reason in failed:\n",
    "        if 'affiliation' in reason:\n",
    "            color = 'green'\n",
    "        else:\n",
    "            color = 'red'\n",
    "        data = Markdown(\n",
    "                paper.generate_markdown_text() + \n",
    "                f'\\n|<p style=\"color:{color:s}\"> **ERROR** </p>| <p style=\"color:{color:s}\">{reason:s}</p> |'\n",
    "               )\n",
    "        if reason != current_reason:\n",
    "            logs.write(f'### {reason:s} \\n\\n')\n",
    "            current_reason = reason\n",
    "        logs.write(data.data + '\\n\\n')\n",
    "        \n",
    "        # only display here the important errors (all in logs)\n",
    "        # if color in ('red',):\n",
    "        display(data)"
   ]
  },
  {
   "cell_type": "markdown",
   "id": "472d20ee",
   "metadata": {
    "papermill": {
     "duration": 0.00535,
     "end_time": "2025-06-09T04:25:47.752889",
     "exception": false,
     "start_time": "2025-06-09T04:25:47.747539",
     "status": "completed"
    },
    "tags": []
   },
   "source": [
    "## Export documents\n",
    "\n",
    "We now write the .md files and export relevant images"
   ]
  },
  {
   "cell_type": "code",
   "execution_count": 7,
   "id": "d426aed9",
   "metadata": {
    "execution": {
     "iopub.execute_input": "2025-06-09T04:25:47.764614Z",
     "iopub.status.busy": "2025-06-09T04:25:47.764228Z",
     "iopub.status.idle": "2025-06-09T04:25:47.771011Z",
     "shell.execute_reply": "2025-06-09T04:25:47.770459Z"
    },
    "papermill": {
     "duration": 0.013632,
     "end_time": "2025-06-09T04:25:47.771927",
     "exception": false,
     "start_time": "2025-06-09T04:25:47.758295",
     "status": "completed"
    },
    "tags": []
   },
   "outputs": [],
   "source": [
    "def export_markdown_summary(md: str, md_fname:str, directory: str):\n",
    "    \"\"\"Export MD document and associated relevant images\"\"\"\n",
    "    import os\n",
    "    import shutil\n",
    "    import re\n",
    "\n",
    "    if (os.path.exists(directory) and not os.path.isdir(directory)):\n",
    "        raise RuntimeError(f\"a non-directory file exists with name {directory:s}\")\n",
    "\n",
    "    if (not os.path.exists(directory)):\n",
    "        print(f\"creating directory {directory:s}\")\n",
    "        os.mkdir(directory)\n",
    "\n",
    "    fig_fnames = (re.compile(r'\\[Fig.*\\]\\((.*)\\)').findall(md) + \n",
    "                  re.compile(r'\\<img src=\"([^>\\s]*)\"[^>]*/>').findall(md))\n",
    "    print(\"found figures\", fig_fnames)\n",
    "    for fname in fig_fnames:\n",
    "        if 'http' in fname:\n",
    "            # No need to copy online figures\n",
    "            continue\n",
    "        if not os.path.exists(fname):\n",
    "            print(\"file not found\", fname)\n",
    "            continue\n",
    "        print(\"copying \", fname, \"to\", directory)\n",
    "        destdir = os.path.join(directory, os.path.dirname(fname))\n",
    "        destfname = os.path.join(destdir, os.path.basename(fname))\n",
    "        try:\n",
    "            os.makedirs(destdir)\n",
    "        except FileExistsError:\n",
    "            pass\n",
    "        shutil.copy(fname, destfname)\n",
    "    with open(os.path.join(directory, md_fname), 'w') as fout:\n",
    "        fout.write(md)\n",
    "    print(\"exported in \", os.path.join(directory, md_fname))\n",
    "    [print(\"    + \" + os.path.join(directory,fk)) for fk in fig_fnames]"
   ]
  },
  {
   "cell_type": "code",
   "execution_count": 8,
   "id": "014d04a4",
   "metadata": {
    "execution": {
     "iopub.execute_input": "2025-06-09T04:25:47.784235Z",
     "iopub.status.busy": "2025-06-09T04:25:47.783831Z",
     "iopub.status.idle": "2025-06-09T04:25:47.795283Z",
     "shell.execute_reply": "2025-06-09T04:25:47.794630Z"
    },
    "papermill": {
     "duration": 0.018443,
     "end_time": "2025-06-09T04:25:47.796249",
     "exception": false,
     "start_time": "2025-06-09T04:25:47.777806",
     "status": "completed"
    },
    "tags": []
   },
   "outputs": [
    {
     "name": "stdout",
     "output_type": "stream",
     "text": [
      "found figures ['tmp_2506.05459/./figures/morph.png', 'tmp_2506.05459/./figures/z.png', 'tmp_2506.05459/./figures/euler.png', 'tmp_2506.05459/./figures/bar.png']\n",
      "copying  tmp_2506.05459/./figures/morph.png to _build/html/\n",
      "copying  tmp_2506.05459/./figures/z.png to _build/html/\n",
      "copying  tmp_2506.05459/./figures/euler.png to _build/html/\n",
      "copying  tmp_2506.05459/./figures/bar.png to _build/html/\n",
      "exported in  _build/html/2506.05459.md\n",
      "    + _build/html/tmp_2506.05459/./figures/morph.png\n",
      "    + _build/html/tmp_2506.05459/./figures/z.png\n",
      "    + _build/html/tmp_2506.05459/./figures/euler.png\n",
      "    + _build/html/tmp_2506.05459/./figures/bar.png\n",
      "found figures ['tmp_2506.05474/./figures/fig4_RP-AGN_Cases.jpg', 'tmp_2506.05474/./figures/fig5_RP-AGN_Median.jpg', 'tmp_2506.05474/./figures/fig9_Special_Case.jpg']\n",
      "copying  tmp_2506.05474/./figures/fig4_RP-AGN_Cases.jpg to _build/html/\n",
      "copying  tmp_2506.05474/./figures/fig5_RP-AGN_Median.jpg to _build/html/\n",
      "copying  tmp_2506.05474/./figures/fig9_Special_Case.jpg to _build/html/\n",
      "exported in  _build/html/2506.05474.md\n",
      "    + _build/html/tmp_2506.05474/./figures/fig4_RP-AGN_Cases.jpg\n",
      "    + _build/html/tmp_2506.05474/./figures/fig5_RP-AGN_Median.jpg\n",
      "    + _build/html/tmp_2506.05474/./figures/fig9_Special_Case.jpg\n",
      "found figures ['tmp_2506.06014/./emcee_corner21_bh2.png', 'tmp_2506.06014/./betakappaml_2.png', 'tmp_2506.06014/./model12_mhsigvxyz_2.png']\n",
      "copying  tmp_2506.06014/./emcee_corner21_bh2.png to _build/html/\n",
      "copying  tmp_2506.06014/./betakappaml_2.png to _build/html/\n",
      "copying  tmp_2506.06014/./model12_mhsigvxyz_2.png to _build/html/\n",
      "exported in  _build/html/2506.06014.md\n",
      "    + _build/html/tmp_2506.06014/./emcee_corner21_bh2.png\n",
      "    + _build/html/tmp_2506.06014/./betakappaml_2.png\n",
      "    + _build/html/tmp_2506.06014/./model12_mhsigvxyz_2.png\n",
      "found figures ['', '']\n",
      "file not found \n",
      "file not found \n",
      "exported in  _build/html/2506.06149.md\n",
      "    + _build/html/\n",
      "    + _build/html/\n"
     ]
    }
   ],
   "source": [
    "for paper_id, md in documents:\n",
    "    export_markdown_summary(md, f\"{paper_id:s}.md\", '_build/html/')"
   ]
  },
  {
   "cell_type": "markdown",
   "id": "f087a0a7",
   "metadata": {
    "papermill": {
     "duration": 0.005489,
     "end_time": "2025-06-09T04:25:47.807420",
     "exception": false,
     "start_time": "2025-06-09T04:25:47.801931",
     "status": "completed"
    },
    "tags": []
   },
   "source": [
    "## Display the papers\n",
    "\n",
    "Not necessary but allows for a quick check."
   ]
  },
  {
   "cell_type": "code",
   "execution_count": 9,
   "id": "fd25f625",
   "metadata": {
    "execution": {
     "iopub.execute_input": "2025-06-09T04:25:47.819731Z",
     "iopub.status.busy": "2025-06-09T04:25:47.819343Z",
     "iopub.status.idle": "2025-06-09T04:25:47.827630Z",
     "shell.execute_reply": "2025-06-09T04:25:47.827090Z"
    },
    "papermill": {
     "duration": 0.015375,
     "end_time": "2025-06-09T04:25:47.828609",
     "exception": false,
     "start_time": "2025-06-09T04:25:47.813234",
     "status": "completed"
    },
    "scrolled": false,
    "tags": []
   },
   "outputs": [
    {
     "data": {
      "text/markdown": [
       "<div class=\"macros\" style=\"visibility:hidden;\">\n",
       "$\\newcommand{\\ensuremath}{}$\n",
       "$\\newcommand{\\xspace}{}$\n",
       "$\\newcommand{\\object}[1]{\\texttt{#1}}$\n",
       "$\\newcommand{\\farcs}{{.}''}$\n",
       "$\\newcommand{\\farcm}{{.}'}$\n",
       "$\\newcommand{\\arcsec}{''}$\n",
       "$\\newcommand{\\arcmin}{'}$\n",
       "$\\newcommand{\\ion}[2]{#1#2}$\n",
       "$\\newcommand{\\textsc}[1]{\\textrm{#1}}$\n",
       "$\\newcommand{\\hl}[1]{\\textrm{#1}}$\n",
       "$\\newcommand{\\footnote}[1]{}$\n",
       "$\\newcommand{\\micron}{\\rm \\mu m}$\n",
       "$\\newcommand{\\kms}{ \\rm km s^{-1}}$\n",
       "$\\newcommand{\\Msun}{\\rm M_\\odot}$\n",
       "$\\newcommand{\\Ha}{{\\rm H}\\alpha\\xspace}$\n",
       "$\\newcommand{\\Nii}{[N {\\sc ii}]\\xspace}$\n",
       "$\\newcommand{\\Hb}{{\\rm H}\\beta\\xspace}$\n",
       "$\\newcommand{\\Oiii}{[O {\\sc iii}]\\xspace}$\n",
       "$\\newcommand{\\zspec}{z_{\\rm spec}}$\n",
       "$\\newcommand{\\zphot}{z_{\\rm phot}}$\n",
       "$\\newcommand{\\arraystretch}{1.2}$\n",
       "$\\newcommand{\\arraystretch}{1.1}$\n",
       "$\\newcommand{\\arraystretch}{1.1}$\n",
       "$\\newcommand{\\arraystretch}{1.1}$</div>\n",
       "\n",
       "\n",
       "\n",
       "<div id=\"title\">\n",
       "\n",
       "# RUBIES: A Spectroscopic Census of Little Red Dots: All Point Sources with V-Shaped Continua Have Broad Lines\n",
       "\n",
       "</div>\n",
       "<div id=\"comments\">\n",
       "\n",
       "[![arXiv](https://img.shields.io/badge/arXiv-2506.05459-b31b1b.svg)](https://arxiv.org/abs/2506.05459)<mark>Appeared on: 2025-06-09</mark> -  _Main text: 17 pages, 10 figures. Appendix: 7 pages, 3 figures. Submitted to A&A_\n",
       "\n",
       "</div>\n",
       "<div id=\"authors\">\n",
       "\n",
       "R. E. Hviding, et al. -- incl., <mark>A. d. Graaff</mark>\n",
       "\n",
       "</div>\n",
       "<div id=\"abstract\">\n",
       "\n",
       "**Abstract:** The physical nature of Little Red Dots (LRDs) -- a population of compact, red galaxies revealed by JWST -- remains unclear.    Photometric samples are constructed from varying selection criteria with limited spectroscopic follow-up available to test intrinsic spectral shapes and prevalence of broad emission lines.    We use the RUBIES survey, a large spectroscopic program with wide color-morphology coverage and homogeneous data quality, to systematically analyze the emission-line kinematics, spectral shapes, and morphologies of $\\sim$ 1500 galaxies at $z > 3.1$ .    We identify broad Balmer lines via a novel fitting approach that simultaneously models NIRSpec/PRISM and G395M spectra, yielding 80 broad-line sources with 28 (35 \\% ) at $z > 6$ .    A large subpopulation naturally emerges from the broad Balmer line sources, with 36 exhibiting `v-shaped' UV-to-optical continua and a dominant point source component in the rest-optical; we define these as spectroscopic LRDs, constituting the largest such sample to date.    Strikingly, the spectroscopic LRD population is largely recovered when either a broad line or rest-optical point source is required in combination with a v-shaped continuum, suggesting an inherent link between these three defining characteristics.    We compare the spectroscopic LRD sample to published photometric searches.    Although these selections have high accuracy, down to $\\rm F444W<26.5$ , only 50-62 \\% of the RUBIES LRDs were previously identified.    The remainder were missed due to a mixture of faint rest-UV photometry, comparatively blue rest-optical colors, or highly uncertain photometric redshifts.    Our findings highlight that well-selected spectroscopic campaigns are essential for robust LRD identification, while photometric criteria require refinement to capture the full population.\n",
       "\n",
       "</div>\n",
       "\n",
       "<div id=\"div_fig1\">\n",
       "\n",
       "<img src=\"tmp_2506.05459/./figures/morph.png\" alt=\"Fig2\" width=\"100%\"/>\n",
       "\n",
       "**Figure 2. -** Stellar locus and morphological classification in LW NIRCam filters. Black stars show the 95th percentile effective radius posterior ($r_{\\rm eff, 95\\%}$) vs. magnitude for reference stars, with the best-fit stellar locus (grey dashed). We classify galaxies as point sources (green hashed) if they fall below the $+4\\sigma_\\textrm{resid}$ offset of this relation ($r_\\textrm{rsv}$; green line). Grey circles show all RUBIES sources with robust $\\zspec>3.1$ while red hexagons highlight spectroscopic LRDs (Section \\ref{sec:lrd}), plotted in the LW filter that traces the rest-5500Å filter depending on their redshift. (*fig:morph*)\n",
       "\n",
       "</div>\n",
       "<div id=\"div_fig2\">\n",
       "\n",
       "<img src=\"tmp_2506.05459/./figures/z.png\" alt=\"Fig3\" width=\"100%\"/>\n",
       "\n",
       "**Figure 3. -** Best-fit photometric versus spectroscopic redshift for RUBIES sources with robust $\\zspec > 3.1$(grey histogram) and the LRD sample (red hexagons; triangle indicates out of plot). Photometric redshifts were measured using \\texttt{eazy} ([Brammer and Coppi 2008]())  with two different template sets: the \\texttt{blue\\_sfhz\\_13} set optimized for high-redshift galaxies (left) and the \\texttt{agn\\_blue\\_sfhz\\_13} set which additionally includes an AGN template constructed from the LRD of [Killi, Watson and Brammer (2024)]() and a torus model (right). Dashed lines show $|\\Delta z|/(1+$\\zspec$) = 0.1$. Although including this AGN template reduces the number of outliers and photometric redshift scatter for the LRD sample, a small bias toward higher photometric redshifts remains.  (*fig:photoz*)\n",
       "\n",
       "</div>\n",
       "<div id=\"div_fig3\">\n",
       "\n",
       "<img src=\"tmp_2506.05459/./figures/euler.png\" alt=\"Fig8.1\" width=\"50%\"/><img src=\"tmp_2506.05459/./figures/bar.png\" alt=\"Fig8.2\" width=\"50%\"/>\n",
       "\n",
       "**Figure 8. -** Left: Euler diagram displaying the overlap between the three LRD characteristic criteria: a broad Balmer line, a dominant point source component at rest-optical wavelengths, and a spectroscopic v-shaped continuum. Right: Histogram showing the composition of overlaps in the Euler diagram where only two of the three features are measured.\n",
       "    We note that objects with a rest-optical point source and a v-shaped continuum are 80\\% likely to have a broad line.\n",
       "    In fact, in the remaining 20\\% we cannot reject a broad line, but our quality cuts restrict us from being fully confident.\n",
       "    This suggests an underpinning physical link between the three LRD features. (*fig:euler*)\n",
       "\n",
       "</div><div id=\"qrcode\"><img src=https://api.qrserver.com/v1/create-qr-code/?size=100x100&data=\"https://arxiv.org/abs/2506.05459\"></div>"
      ],
      "text/plain": [
       "<IPython.core.display.Markdown object>"
      ]
     },
     "metadata": {},
     "output_type": "display_data"
    },
    {
     "data": {
      "text/markdown": [
       "<div class=\"macros\" style=\"visibility:hidden;\">\n",
       "$\\newcommand{\\ensuremath}{}$\n",
       "$\\newcommand{\\xspace}{}$\n",
       "$\\newcommand{\\object}[1]{\\texttt{#1}}$\n",
       "$\\newcommand{\\farcs}{{.}''}$\n",
       "$\\newcommand{\\farcm}{{.}'}$\n",
       "$\\newcommand{\\arcsec}{''}$\n",
       "$\\newcommand{\\arcmin}{'}$\n",
       "$\\newcommand{\\ion}[2]{#1#2}$\n",
       "$\\newcommand{\\textsc}[1]{\\textrm{#1}}$\n",
       "$\\newcommand{\\hl}[1]{\\textrm{#1}}$\n",
       "$\\newcommand{\\footnote}[1]{}$\n",
       "$\\newcommand{\\swatch}[1]{\\tikz[baseline=-0.6ex] \\node[fill=#1,shape=rectangle,draw=black,thick,minimum width=5mm,rounded corners=2pt]() ;}$\n",
       "$\\newcommand{\\orcid}[1]{\\href{https://orcid.org/#1}{\\includegraphics[scale=0.05]{figures/ORCID-iD_icon-128x128.png}}}$\n",
       "$\\newcommand{\\thebibliography}{\\DeclareRobustCommand{\\VAN}[3]{##3}\\VANthebibliography}$</div>\n",
       "\n",
       "\n",
       "\n",
       "<div id=\"title\">\n",
       "\n",
       "# Jellyfish galaxieswith the IllustrisTNG simulations --Supermassive black hole activity in dense environments with ram-pressure stripped satellites\n",
       "\n",
       "</div>\n",
       "<div id=\"comments\">\n",
       "\n",
       "[![arXiv](https://img.shields.io/badge/arXiv-2506.05474-b31b1b.svg)](https://arxiv.org/abs/2506.05474)<mark>Appeared on: 2025-06-09</mark> -  _21 pages, 9 figures + 3 appendices with 3 figures. Submitted to MNRAS_\n",
       "\n",
       "</div>\n",
       "<div id=\"authors\">\n",
       "\n",
       "<mark>S. Kurinchi-Vendhan</mark>, et al. -- incl., <mark>E. Rohr</mark>, <mark>A. Pillepich</mark>\n",
       "\n",
       "</div>\n",
       "<div id=\"abstract\">\n",
       "\n",
       "**Abstract:** $\\noindent$ Jellyfish galaxies are extreme examples of how galaxies can transform due to dense environmental effects. These satellite galaxies suffer from ram-pressure stripping, leading to the formation of their distinctive gaseous tails. Some recent observational studies find that jellyfish galaxies are more likely to host active galactic nuclei (AGN) compared to central galaxies of the same mass, suggesting a link between ram pressure and supermassive black hole (SMBH) accretion. We use the IllustrisTNG cosmological-magnetohydrodynamical simulations, namely TNG50 and TNG100, to explore the presence of AGN in jellyfish galaxies with $M_{\\rm{stellar}}\\simeq10^{9.5-10.8} \\rm{M}_\\odot$ at redshift $z=0$ from the Zooniverse \"Cosmological Jellyfish\" citizen-science project. Compared to central galaxies, jellyfish are more likely to host an AGN ( $L_{\\rm AGN}\\geq10^{44} \\mathrm{erg s^{-1}}$ ) particularly at high stellar masses ( $M_{\\rm stellar}\\gtrsim10^{10} \\mathrm{M_\\odot}$ ). Jellyfish are also more likely to host an AGN than satellites of the same mass, largely because many satellite galaxies are gas-poor and therefore have lower SMBH accretion rates. Compared to non-jellyfish satellites with similar gas content, jellyfish typically undergo stronger ram pressure and have higher central gas densities along with lower central gas sound speeds, although these effects are smaller at lower stellar masses ( $M_{\\rm stellar}\\lesssim10^{10} \\mathrm{M_\\odot}$ ). Together with case studies of individual galaxies, our population analysis indicates that ram pressure can play a key role in fuelling AGN activity in a large fraction of jellyfish, where gas compression can lead to intense episodes of AGN feedback and star formation. Thus, it is essential to consider both environmental and secular processes for a more complete picture of satellite galaxy evolution.\n",
       "\n",
       "</div>\n",
       "\n",
       "<div id=\"div_fig1\">\n",
       "\n",
       "<img src=\"tmp_2506.05474/./figures/fig4_RP-AGN_Cases.jpg\" alt=\"Fig10\" width=\"100%\"/>\n",
       "\n",
       "**Figure 10. -** **_Ram-pressure feeding of SMBH activity,**_ shown through the evolution of ram pressure, central gas densities (innermost 1 ckpc), and AGN luminosities in three individual jellyfish galaxies in TNG50 at $z = 0$. We also note whether the galaxy is a jellyfish (yellow circle), inspected satellite (pink circle), satellite (blue circle), or central (purple circle) at each snapshot, as well as when the galaxy infalls into its halo (star; tracked by the host-centric distance in green). In all cases, most of the depicted quantities peak near in time to the first pericentric passage, where the host-centric distance is at a local minimum (dashed red line). **Case 1:** For \\texttt{SubhaloID = 96788}, the peak in $P_{\\rm ram}$ directly corresponds to a peak in $n_{\\rm gas}$ and $L_{\\rm AGN}$ at around the time of the first pericentric passage. **Case 2:** For \\texttt{SubhaloID = 11}, the peaks in $n_{\\rm gas}$ and $L_{\\rm AGN}$ are slightly delayed compared to the peak in $P_{\\rm ram}$, showing that ram pressure can indirectly effect SMBH activity after the pericentric passage. **Case 3:** For \\texttt{SubhaloID = 282783}, the peak in $P_{\\rm ram}$ corresponds to a peak in $n_{\\rm gas}$ but not $L_{\\rm AGN}$; here, it is possible for ram pressure to drive gas toward the centre of the jellyfish without affecting the SMBH. See Figure \\ref{FIG:RP-AGN_Cumulative} for a cumulative evolution of all cases. (*FIG:RP-AGN*)\n",
       "\n",
       "</div>\n",
       "<div id=\"div_fig2\">\n",
       "\n",
       "<img src=\"tmp_2506.05474/./figures/fig5_RP-AGN_Median.jpg\" alt=\"Fig1\" width=\"100%\"/>\n",
       "\n",
       "**Figure 1. -** **_Ram-pressure feeding of SMBH activity,**_ shown through the evolution of ram pressure, central gas densities, and AGN luminosities in hundreds of jellyfish galaxies from TNG50 and TNG100 at $z = 0$. The cumulative i.e. \"stacked\" evolution represents a combination of three evolutionary paths by which ram pressure affects the AGN activity of the jellyfish galaxies: we categorize them as \"Case 1\" (Direct Effect), \"Case 2\" (Delayed Effect), and \"Case 3\" (No Effect) and quantify them in the above bar plot by visual inspection of the evolutionary tracks of all individual galaxies (as those of Figure \\ref{FIG:RP-AGN}). We show the median-stacked evolution, with the galaxy-to-galaxy standard deviation around the median as the dashed outer lines. The standard error extends beyond the figure limits in the case of $n_{\\rm gas}$ and $L_{\\rm AGN}$, as these quantities are highly variable between galaxies. To stack the data, we shift the time axes by $\\Delta \\tau_{\\rm infall}$ and scale by $f_{\\rm peri. \\: pass.}$ to align the evolutions at the average time of infall (dotted teal line) and first pericentric passage (dotted red line with 1-$\\sigma$ shaded). The time correlation between ram pressure and AGN luminosity is somewhat weak. However, when we stack across only jellyfish galaxies of the first case (green circles), a strong and timely increase of AGN luminosity manifests with an increase of ram pressure and central gas density.\n",
       "     (*FIG:RP-AGN_Cumulative*)\n",
       "\n",
       "</div>\n",
       "<div id=\"div_fig3\">\n",
       "\n",
       "<img src=\"tmp_2506.05474/./figures/fig9_Special_Case.jpg\" alt=\"Fig12\" width=\"100%\"/>\n",
       "\n",
       "**Figure 12. -** **_The special case of a satellite with ram-pressure stripped tails and an AGN-driven bubble.**_ The image shows the 2-D gas pressure projection of a satellite galaxy from TNG50 at $z = 0$, with \\texttt{Subhalo ID = 184935, Snapshot 99} and a stellar mass of $M_{\\rm stellar} = 10^{10.7} \\: \\rm{M}_\\odot$. We show the trajectory of the satellite (arrows) as well as when it goes through a pericentric passage. It is orbiting a central galaxy with \\texttt{Subfind ID = 184931} and a stellar mass of $M_{\\rm stellar} = 10^{11.7} \\: \\rm{M}_\\odot$, and both are residents of a larger halo structure with \\texttt{Group Nr. = 6} and a host mass of $M_{\\rm halo} = 10^{13.5} \\: \\rm{M}_\\odot$. Not only does this satellite exhibit ram-pressure stripped tails, but also a bubble of high pressure gas at its leading edge. This looks similar to the eROSITA-like X-ray emitting bubbles of TNG50 Milky Way- and Andromeda-like galaxies driven by their SMBH kinetic feedback \\citep[see][]{Pillepich_2021}. Interestingly, here the galaxy is a satellite and ram-pressure stripping, star formation, and gas bubbles driven by kinetic feedback from a low accretion SMBH all coexist at once. (*FIG:Special_Case*)\n",
       "\n",
       "</div><div id=\"qrcode\"><img src=https://api.qrserver.com/v1/create-qr-code/?size=100x100&data=\"https://arxiv.org/abs/2506.05474\"></div>"
      ],
      "text/plain": [
       "<IPython.core.display.Markdown object>"
      ]
     },
     "metadata": {},
     "output_type": "display_data"
    },
    {
     "data": {
      "text/markdown": [
       "<div class=\"macros\" style=\"visibility:hidden;\">\n",
       "$\\newcommand{\\ensuremath}{}$\n",
       "$\\newcommand{\\xspace}{}$\n",
       "$\\newcommand{\\object}[1]{\\texttt{#1}}$\n",
       "$\\newcommand{\\farcs}{{.}''}$\n",
       "$\\newcommand{\\farcm}{{.}'}$\n",
       "$\\newcommand{\\arcsec}{''}$\n",
       "$\\newcommand{\\arcmin}{'}$\n",
       "$\\newcommand{\\ion}[2]{#1#2}$\n",
       "$\\newcommand{\\textsc}[1]{\\textrm{#1}}$\n",
       "$\\newcommand{\\hl}[1]{\\textrm{#1}}$\n",
       "$\\newcommand{\\footnote}[1]{}$\n",
       "$\\newcommand{\\masyr}{mas yr\\ensuremath{^{-1}}\\xspace}$\n",
       "$\\newcommand{\\lsun}{\\ensuremath{L_{\\sun}}\\xspace}$\n",
       "$\\newcommand{\\micron}{\\ensuremath{\\mu}m\\xspace}$\n",
       "$\\newcommand{\\teff}{\\ensuremath{T_\\textrm{eff}}\\xspace}$\n",
       "$\\newcommand{\\re}{\\ensuremath{R_\\textrm{e}}\\xspace}$\n",
       "$\\newcommand{\\mh}{[M/H]\\xspace}$\n",
       "$\\newcommand{\\kms}{km s\\ensuremath{^{-1}}\\xspace}$\n",
       "$\\newcommand{\\msun}{\\ensuremath{M_{\\sun}}\\xspace}$\n",
       "$\\newcommand{\\mbh}{\\ensuremath{M_{\\bullet}}\\xspace}$\n",
       "$\\newcommand{\\col}{\\ensuremath{H-K_{S}}\\xspace}$\n",
       "$\\newcommand{\\vlos}{\\ensuremath{V_\\textrm{LOS}}\\xspace}$\n",
       "$\\newcommand{\\dlos}{\\ensuremath{d_\\textrm{LOS}}\\xspace}$\n",
       "$\\newcommand{\\slos}{\\ensuremath{\\sigma_{\\textrm{LOS}}}\\xspace}$\n",
       "$\\newcommand{\\sgra}{Sgr~A^\\star\\xspace}$</div>\n",
       "\n",
       "\n",
       "\n",
       "<div id=\"title\">\n",
       "\n",
       "# Dynamical mass distribution and velocity structure of the Galactic centre\n",
       "\n",
       "</div>\n",
       "<div id=\"comments\">\n",
       "\n",
       "[![arXiv](https://img.shields.io/badge/arXiv-2506.06014-b31b1b.svg)](https://arxiv.org/abs/2506.06014)<mark>Appeared on: 2025-06-09</mark> -  _15 pages (+ 5 pages Appendix), 10 (+ 5) figures, accepted A&A_\n",
       "\n",
       "</div>\n",
       "<div id=\"authors\">\n",
       "\n",
       "A. Feldmeier-Krause, et al. -- incl., <mark>N. Neumayer</mark>\n",
       "\n",
       "</div>\n",
       "<div id=\"abstract\">\n",
       "\n",
       "**Abstract:** The inner $\\sim$ 200 pc region of the Milky Way contains a nuclear stellar disc and a nuclear star cluster that are embedded in the larger Galactic bar. These stellar systems overlap spatially, which makes it challenging to separate stars that belong to the nuclear stellar systems, to deduce their internal dynamics, and to derive the central Galactic potential. Discrete stellar kinematics probe the mass distribution of a stellar system, and chemical tracers such as stellar metallicity can further separate multiple stellar populations that can have distinct kinematic properties.  We took advantage of the information provided by discrete stellar kinematics and the metallicity of stars in the Galactic centre using discrete chemo-dynamical modelling. We fitted axisymmetric Jeans models to discrete data of 4 600 stars. We fitted the stars as either one population plus a background component or as two populations plus a background that represents the bar. In the one-population case, we tested the robustness of the inferred gravitational potential against a varying mass of the supermassive black hole, including dark matter, or a radially varying mass-to-light ratio. We obtained robust results on the stellar dynamical fit with a single population and a background component. We obtained a supermassive black hole mass of (4.35 $\\pm 0.24) \\times 10^6$ $\\msun$ , and we find that a dark matter component adds no more than a few percent to the total enclosed mass of the nuclear star cluster. The radial variation in the mass-to-light ratio is also negligible.  We derived the enclosed mass profile of the inner $\\sim$ 60 pc of the Milky Way and found a lower mass than reported in the literature in the region of $\\sim$ 5-30 pc.  In our two-population fit, we found a high- $\\mh$ population with a mild tangentially anisotropic velocity distribution and stronger rotational support than for the low- $\\mh$ population, which is radially anisotropic. The high- $\\mh$ population is dominant and contributes more than 90 \\% to the total stellar density. The properties of the high- $\\mh$ population are consistent with in situ formation after gas inflow from the Galactic disc via the bar. The distinct kinematic properties of the low- $\\mh$ population indicate a different origin.\n",
       "\n",
       "</div>\n",
       "\n",
       "<div id=\"div_fig1\">\n",
       "\n",
       "<img src=\"tmp_2506.06014/./emcee_corner21_bh2.png\" alt=\"Fig11\" width=\"100%\"/>\n",
       "\n",
       "**Figure 11. -** MCMC post burn-in  distributions for the one-population models with $\\mbh$ as free parameter  (Sect. $\\re$f{sec:fitbh}). The scatter plots show the projected two-dimensional distributions, the red lines the respective 50th percentile, and the dashed grey lines the 16th and 84th percentiles. Their values are also written on top of each column, displaying the projected one-dimensional distributions. From top to bottom and left to right, the panels show the inner anisotropy $\\beta_0$, outer anisotropy $\\beta_\\infty$, the anisotropy transition radius $\\log(R_\\beta)$, inner rotation parameter $\\kappa_0$, outer rotation parameter $\\kappa_\\infty$, the rotation transition radius $\\log(R_\\kappa)$, the mass-to-light ratio $\\Upsilon$, fraction of background stars $\\epsilon$ in percent, and the black hole mass $\\mbh$ in $10^6$\\msun.  (*fig:cornerbh*)\n",
       "\n",
       "</div>\n",
       "<div id=\"div_fig2\">\n",
       "\n",
       "<img src=\"tmp_2506.06014/./betakappaml_2.png\" alt=\"Fig3\" width=\"100%\"/>\n",
       "\n",
       "**Figure 3. -** Radial profile of the velocity anisotropy $\\beta_z$(top), the rotation $\\kappa$(middle), and\n",
       "  the mass-to-number density conversion $\\Upsilon$(bottom) as derived in Sect. $\\re$f{sec:fitmlr} using a three-parameter function. The red lines denote the median of the posterior distribution, and the grey lines are 50 randomly drawn realisations from the posterior distribution. The vertical solid lines denote 1 $\\re$=5 pc, the dotted lines show the outer limit of the kinematic data, and the dot-dashed lines show the median of $R_\\beta$, $R_\\kappa$, and $R_\\Upsilon$, respectively.\n",
       " (*fig:betakappaml*)\n",
       "\n",
       "</div>\n",
       "<div id=\"div_fig3\">\n",
       "\n",
       "<img src=\"tmp_2506.06014/./model12_mhsigvxyz_2.png\" alt=\"Fig10\" width=\"100%\"/>\n",
       "\n",
       "**Figure 10. -** Spatial distribution of stars, colour-coded from top to bottom by the velocity dispersion along $l$, along $b$, along the line of sight, $\\vlos$, $\\vlos$/$\\slos$, for the 50th percentile two-population model, with high-$\\mh$ stars (left), and with low-$\\mh$ stars (right).\n",
       "   (*fig:modelmh*)\n",
       "\n",
       "</div><div id=\"qrcode\"><img src=https://api.qrserver.com/v1/create-qr-code/?size=100x100&data=\"https://arxiv.org/abs/2506.06014\"></div>"
      ],
      "text/plain": [
       "<IPython.core.display.Markdown object>"
      ]
     },
     "metadata": {},
     "output_type": "display_data"
    },
    {
     "data": {
      "text/markdown": [
       "<div class=\"macros\" style=\"visibility:hidden;\">\n",
       "$\\newcommand{\\ensuremath}{}$\n",
       "$\\newcommand{\\xspace}{}$\n",
       "$\\newcommand{\\object}[1]{\\texttt{#1}}$\n",
       "$\\newcommand{\\farcs}{{.}''}$\n",
       "$\\newcommand{\\farcm}{{.}'}$\n",
       "$\\newcommand{\\arcsec}{''}$\n",
       "$\\newcommand{\\arcmin}{'}$\n",
       "$\\newcommand{\\ion}[2]{#1#2}$\n",
       "$\\newcommand{\\textsc}[1]{\\textrm{#1}}$\n",
       "$\\newcommand{\\hl}[1]{\\textrm{#1}}$\n",
       "$\\newcommand{\\footnote}[1]{}$</div>\n",
       "\n",
       "\n",
       "\n",
       "<div id=\"title\">\n",
       "\n",
       "# Faint absorption of the ground state hyperfine-splitting transitions of hydroxyl at 18 cm in the Galactic Disk$\\thanks{This work is based on observations made with the Karl G. Jansky Very Large Array under the project VLA 17A-055.  An earlier version of parts of this work appeared in the PhD thesis of M. R. Rugel.}$\n",
       "\n",
       "</div>\n",
       "<div id=\"comments\">\n",
       "\n",
       "[![arXiv](https://img.shields.io/badge/arXiv-2506.06149-b31b1b.svg)](https://arxiv.org/abs/2506.06149)<mark>Appeared on: 2025-06-09</mark> -  _13 pages, 7 figures (appendices excluded). Accepted for publication in A&A_\n",
       "\n",
       "</div>\n",
       "<div id=\"authors\">\n",
       "\n",
       "M. R. Rugel, et al. -- incl., <mark>H. Beuther</mark>, <mark>Y. Wang</mark>\n",
       "\n",
       "</div>\n",
       "<div id=\"abstract\">\n",
       "\n",
       "**Abstract:** The interstellar hydride hydroxyl (OH) is a potential tracer of CO-dark molecular gas. We present new high-sensitivity absorption line observations of the four ground state hyperfine-splitting transitions of OH at 18-cm wavelength towards four Galactic and extra-galactic continuum sources as follow-up to the THOR survey. We compare these to deep observations of the [ $\\ion{C}{ii}$ ] 158 $\\mu$ m line at 1.9 THz obtained with the upGREAT instrument on SOFIA, observations of the neutral atomic hydrogen ( $\\ion{H}{i}$ ) 21 cm line with the VLA, and CO ( $J$ = 2--1) lines obtained with the APEX PI230 receiver at the APEX 12 m sub-mm telescope. We trace OH over a large range of molecular hydrogen column densities of 7.9 $\\times10^{19}$ cm $^{-2}$ to 4.7 $\\times10^{22}$ cm $^{-2}$ , and derive OH abundances with respect to molecular and total hydrogen column densities of X $_{\\rm OH, H_2} =N_{\\rm OH}/N_{\\rm H_2} = 1.2^{+0.3}_{-0.2}\\times10^{-7}$ and $X_{\\rm OH, H} = N_{\\rm OH}/N_{\\rm H}=4.8^{+0.9}_{-0.8}\\times10^{-8}$ , respectively. Increased sensitivity and spectral resolution allowed us to detect weak and narrow features with the lowest column density detected at $N_{\\rm OH}= 3.7\\times10^{13}$ cm $^{-2}$ . The increase in sensitivity is a factor of 5 in direct comparison at the resolution the OH observations in the THOR survey (1.5 $\\kms$ ). We identify only one OH absorption component out of 23 without CO counterpart, yet several with intermediate molecular gas fractions ( ${\\rm f_{mol}\\leq0.8}$ ). A potential association of [ $\\ion{C}{ii}$ ] 158 $\\mu$ m emission with an OH absorption component is seen toward one sightline. Our results confirm that OH absorption traces molecular gas across diffuse and dense environments of the interstellar medium. At the sensitivity limits of the present observations our detection of only one CO-dark molecular gas feature appears in agreement with previous studies. We conclude that if OH absorption was to be used as a CO-dark molecular gas tracer, deeper observations or stronger background targets are necessary to unveil its full potential as a CO-dark molecular gas tracer, and yet it will never be an exclusive tracer of CO-dark molecular gas. For OH hyperfine-splitting transitions in the vicinity of photodissociation regions in W43-South, we detect a spectral and spatial offset between the peak of the inversion of the OH 1612 MHz line and the absorption of the OH 1720 MHz line on the one hand, and the absorption of the OH main lines on the other hand, which provides additional constraints on the interpretation of the OH 18 cm line signatures typical of HII regions.\n",
       "\n",
       "</div>\n",
       "\n",
       "<div id=\"div_fig1\">\n",
       "\n",
       "<img src=\"\" alt=\"Fig5.1\" width=\"50%\"/><img src=\"\" alt=\"Fig5.2\" width=\"50%\"/>\n",
       "\n",
       "**Figure 5. -** _ Top:_ THOR 1.4 GHz continuum emission in the Galactic coordinate frame  ([Wang, Beuther and Rugel 2020]()) . The sources discussed here are located at the center of the yellow circles. _ Bottom:_ VLA 1.4 GHz continuum towards the four positions analyzed in this work _ (blue crosses)_ in equatorial coordinates. The images are smoothed to an angular resolution of 18$\\arcsec$. (*fig:sample_selection*)\n",
       "\n",
       "</div><div id=\"qrcode\"><img src=https://api.qrserver.com/v1/create-qr-code/?size=100x100&data=\"https://arxiv.org/abs/2506.06149\"></div>"
      ],
      "text/plain": [
       "<IPython.core.display.Markdown object>"
      ]
     },
     "metadata": {},
     "output_type": "display_data"
    }
   ],
   "source": [
    "[display(Markdown(k[1])) for k in documents];"
   ]
  },
  {
   "cell_type": "markdown",
   "id": "873873a4",
   "metadata": {
    "papermill": {
     "duration": 0.006192,
     "end_time": "2025-06-09T04:25:47.841030",
     "exception": false,
     "start_time": "2025-06-09T04:25:47.834838",
     "status": "completed"
    },
    "tags": []
   },
   "source": [
    "# Create HTML index"
   ]
  },
  {
   "cell_type": "code",
   "execution_count": 10,
   "id": "cf665672",
   "metadata": {
    "execution": {
     "iopub.execute_input": "2025-06-09T04:25:47.854522Z",
     "iopub.status.busy": "2025-06-09T04:25:47.853947Z",
     "iopub.status.idle": "2025-06-09T04:25:47.864177Z",
     "shell.execute_reply": "2025-06-09T04:25:47.863689Z"
    },
    "papermill": {
     "duration": 0.017994,
     "end_time": "2025-06-09T04:25:47.865212",
     "exception": false,
     "start_time": "2025-06-09T04:25:47.847218",
     "status": "completed"
    },
    "tags": []
   },
   "outputs": [
    {
     "name": "stdout",
     "output_type": "stream",
     "text": [
      "514  publications files modified in the last 7 days.\n"
     ]
    }
   ],
   "source": [
    "from datetime import datetime, timedelta, timezone\n",
    "from glob import glob\n",
    "import os\n",
    "\n",
    "files = glob('_build/html/*.md')\n",
    "days = 7\n",
    "now = datetime.today()\n",
    "res = []\n",
    "for fk in files:\n",
    "    stat_result = os.stat(fk).st_ctime\n",
    "    modified = datetime.fromtimestamp(stat_result, tz=timezone.utc).replace(tzinfo=None)\n",
    "    delta = now.today() - modified\n",
    "    if delta <= timedelta(days=days):\n",
    "        res.append((delta.seconds, fk))\n",
    "res = [k[1] for k in reversed(sorted(res, key=lambda x:x[1]))]\n",
    "npub = len(res)\n",
    "print(len(res), f\" publications files modified in the last {days:d} days.\")\n",
    "# [ print('\\t', k) for k in res ];"
   ]
  },
  {
   "cell_type": "code",
   "execution_count": 11,
   "id": "015de740",
   "metadata": {
    "execution": {
     "iopub.execute_input": "2025-06-09T04:25:47.878474Z",
     "iopub.status.busy": "2025-06-09T04:25:47.878277Z",
     "iopub.status.idle": "2025-06-09T04:25:47.902513Z",
     "shell.execute_reply": "2025-06-09T04:25:47.901973Z"
    },
    "papermill": {
     "duration": 0.031887,
     "end_time": "2025-06-09T04:25:47.903428",
     "exception": false,
     "start_time": "2025-06-09T04:25:47.871541",
     "status": "completed"
    },
    "tags": []
   },
   "outputs": [
    {
     "name": "stdout",
     "output_type": "stream",
     "text": [
      "8  publications in the last 7 days.\n"
     ]
    }
   ],
   "source": [
    "import datetime\n",
    "from glob import glob\n",
    "\n",
    "def get_last_n_days(lst, days=1):\n",
    "    \"\"\" Get the documents from the last n days \"\"\"\n",
    "    sorted_lst = sorted(lst, key=lambda x: x[1], reverse=True)\n",
    "    for fname, date in sorted_lst:\n",
    "        if date >= str(datetime.date.today() - datetime.timedelta(days=days)):\n",
    "            yield fname\n",
    "\n",
    "def extract_appearance_dates(lst_file):\n",
    "    dates = []\n",
    "\n",
    "    def get_date(line):\n",
    "        return line\\\n",
    "            .split('Appeared on:')[-1]\\\n",
    "            .split('</mark>')[0].strip()\n",
    "\n",
    "    for fname in lst:\n",
    "        with open(fname, 'r') as f:\n",
    "            found_date = False\n",
    "            for line in f:\n",
    "                if not found_date:\n",
    "                    if \"Appeared on\" in line:\n",
    "                        found_date = True\n",
    "                        dates.append((fname, get_date(line)))\n",
    "                else:\n",
    "                    break\n",
    "    return dates\n",
    "\n",
    "from glob import glob\n",
    "lst = glob('_build/html/*md')\n",
    "days = 7\n",
    "dates = extract_appearance_dates(lst)\n",
    "res = list(get_last_n_days(dates, days))\n",
    "npub = len(res)\n",
    "print(len(res), f\" publications in the last {days:d} days.\")"
   ]
  },
  {
   "cell_type": "code",
   "execution_count": 12,
   "id": "52ca0208",
   "metadata": {
    "execution": {
     "iopub.execute_input": "2025-06-09T04:25:47.916843Z",
     "iopub.status.busy": "2025-06-09T04:25:47.916646Z",
     "iopub.status.idle": "2025-06-09T04:25:47.921341Z",
     "shell.execute_reply": "2025-06-09T04:25:47.920801Z"
    },
    "papermill": {
     "duration": 0.012541,
     "end_time": "2025-06-09T04:25:47.922298",
     "exception": false,
     "start_time": "2025-06-09T04:25:47.909757",
     "status": "completed"
    },
    "scrolled": false,
    "tags": []
   },
   "outputs": [],
   "source": [
    "def create_carousel(npub=4):\n",
    "    \"\"\" Generate the HTML code for a carousel with `npub` slides \"\"\"\n",
    "    carousel = [\"\"\"  <div class=\"carousel\" \"\"\",\n",
    "                \"\"\"       data-flickity='{ \"autoPlay\": 10000, \"adaptiveHeight\": true, \"resize\": true, \"wrapAround\": true, \"pauseAutoPlayOnHover\": true, \"groupCells\": 1 }' id=\"asyncTypeset\">\"\"\"\n",
    "                ]\n",
    "    \n",
    "    item_str = \"\"\"    <div class=\"carousel-cell\"> <div id=\"slide{k}\" class=\"md_view\">Content {k}</div> </div>\"\"\"\n",
    "    for k in range(1, npub + 1):\n",
    "        carousel.append(item_str.format(k=k))\n",
    "    carousel.append(\"  </div>\")\n",
    "    return '\\n'.join(carousel)\n",
    "\n",
    "def create_grid(npub=4):\n",
    "    \"\"\" Generate the HTML code for a flat grid with `npub` slides \"\"\"\n",
    "    grid = [\"\"\"  <div class=\"grid\"> \"\"\",\n",
    "                ]\n",
    "    \n",
    "    item_str = \"\"\"    <div class=\"grid-item\"> <div id=\"slide{k}\" class=\"md_view\">Content {k}</div> </div>\"\"\"\n",
    "    for k in range(1, npub + 1):\n",
    "        grid.append(item_str.format(k=k))\n",
    "    grid.append(\"  </div>\")\n",
    "    return '\\n'.join(grid)"
   ]
  },
  {
   "cell_type": "code",
   "execution_count": 13,
   "id": "a6eac5b6",
   "metadata": {
    "execution": {
     "iopub.execute_input": "2025-06-09T04:25:47.936040Z",
     "iopub.status.busy": "2025-06-09T04:25:47.935633Z",
     "iopub.status.idle": "2025-06-09T04:25:47.940765Z",
     "shell.execute_reply": "2025-06-09T04:25:47.940143Z"
    },
    "papermill": {
     "duration": 0.013059,
     "end_time": "2025-06-09T04:25:47.941748",
     "exception": false,
     "start_time": "2025-06-09T04:25:47.928689",
     "status": "completed"
    },
    "scrolled": false,
    "tags": []
   },
   "outputs": [],
   "source": [
    "carousel = create_carousel(npub)\n",
    "docs = ', '.join(['\"{0:s}\"'.format(k.split('/')[-1]) for k in res])\n",
    "slides = ', '.join([f'\"slide{k}\"' for k in range(1, npub + 1)])\n",
    "\n",
    "with open(\"daily_template.html\", \"r\") as tpl:\n",
    "    page = tpl.read()\n",
    "    page = page.replace(\"{%-- carousel:s --%}\", carousel)\\\n",
    "               .replace(\"{%-- suptitle:s --%}\",  \"7-day archives\" )\\\n",
    "               .replace(\"{%-- docs:s --%}\", docs)\\\n",
    "               .replace(\"{%-- slides:s --%}\", slides)\n",
    "    \n",
    "with open(\"_build/html/index_7days.html\", 'w') as fout:\n",
    "    fout.write(page)"
   ]
  },
  {
   "cell_type": "code",
   "execution_count": 14,
   "id": "adc1a1ec",
   "metadata": {
    "execution": {
     "iopub.execute_input": "2025-06-09T04:25:47.955824Z",
     "iopub.status.busy": "2025-06-09T04:25:47.955420Z",
     "iopub.status.idle": "2025-06-09T04:25:47.962370Z",
     "shell.execute_reply": "2025-06-09T04:25:47.961799Z"
    },
    "papermill": {
     "duration": 0.01504,
     "end_time": "2025-06-09T04:25:47.963355",
     "exception": false,
     "start_time": "2025-06-09T04:25:47.948315",
     "status": "completed"
    },
    "tags": []
   },
   "outputs": [
    {
     "name": "stdout",
     "output_type": "stream",
     "text": [
      "4  publications in the last day.\n"
     ]
    }
   ],
   "source": [
    "# redo for today\n",
    "days = 1\n",
    "res = list(get_last_n_days(dates, days))\n",
    "npub = len(res)\n",
    "print(len(res), f\" publications in the last day.\")\n",
    "\n",
    "carousel = create_carousel(npub)\n",
    "docs = ', '.join(['\"{0:s}\"'.format(k.split('/')[-1]) for k in res])\n",
    "slides = ', '.join([f'\"slide{k}\"' for k in range(1, npub + 1)])\n",
    "\n",
    "with open(\"daily_template.html\", \"r\") as tpl:\n",
    "    page = tpl.read()\n",
    "    page = page.replace(\"{%-- carousel:s --%}\", carousel)\\\n",
    "               .replace(\"{%-- suptitle:s --%}\",  \"Daily\" )\\\n",
    "               .replace(\"{%-- docs:s --%}\", docs)\\\n",
    "               .replace(\"{%-- slides:s --%}\", slides)\n",
    "    \n",
    "# print(carousel, docs, slides)\n",
    "# print(page)\n",
    "with open(\"_build/html/index_daily.html\", 'w') as fout:\n",
    "    fout.write(page)"
   ]
  },
  {
   "cell_type": "code",
   "execution_count": 15,
   "id": "00eece82",
   "metadata": {
    "execution": {
     "iopub.execute_input": "2025-06-09T04:25:47.977026Z",
     "iopub.status.busy": "2025-06-09T04:25:47.976842Z",
     "iopub.status.idle": "2025-06-09T04:25:47.983407Z",
     "shell.execute_reply": "2025-06-09T04:25:47.982824Z"
    },
    "papermill": {
     "duration": 0.014622,
     "end_time": "2025-06-09T04:25:47.984429",
     "exception": false,
     "start_time": "2025-06-09T04:25:47.969807",
     "status": "completed"
    },
    "scrolled": false,
    "tags": []
   },
   "outputs": [
    {
     "name": "stdout",
     "output_type": "stream",
     "text": [
      "6  6 publications selected.\n"
     ]
    }
   ],
   "source": [
    "# Create the flat grid of the last N papers (fixed number regardless of dates)\n",
    "from itertools import islice \n",
    "\n",
    "npub = 6\n",
    "res = [k[0] for k in (islice(reversed(sorted(dates, key=lambda x: x[1])), 6))]\n",
    "print(len(res), f\" {npub} publications selected.\")\n",
    "\n",
    "grid = create_grid(npub)\n",
    "docs = ', '.join(['\"{0:s}\"'.format(k.split('/')[-1]) for k in res])\n",
    "slides = ', '.join([f'\"slide{k}\"' for k in range(1, npub + 1)])\n",
    "\n",
    "with open(\"grid_template.html\", \"r\") as tpl:\n",
    "    page = tpl.read()\n",
    "    page = page.replace(\"{%-- grid-content:s --%}\", grid)\\\n",
    "               .replace(\"{%-- suptitle:s --%}\",  f\"Last {npub:,d} papers\" )\\\n",
    "               .replace(\"{%-- docs:s --%}\", docs)\\\n",
    "               .replace(\"{%-- slides:s --%}\", slides)\n",
    "    \n",
    "# print(grid, docs, slides)\n",
    "# print(page)\n",
    "with open(\"_build/html/index_npub_grid.html\", 'w') as fout:\n",
    "    fout.write(page)"
   ]
  }
 ],
 "metadata": {
  "kernelspec": {
   "display_name": "Python 3 (ipykernel)",
   "language": "python",
   "name": "python3"
  },
  "language_info": {
   "codemirror_mode": {
    "name": "ipython",
    "version": 3
   },
   "file_extension": ".py",
   "mimetype": "text/x-python",
   "name": "python",
   "nbconvert_exporter": "python",
   "pygments_lexer": "ipython3",
   "version": "3.9.22"
  },
  "papermill": {
   "default_parameters": {},
   "duration": 125.658946,
   "end_time": "2025-06-09T04:25:48.206428",
   "environment_variables": {},
   "exception": null,
   "input_path": "MPIA daily digest.ipynb",
   "output_path": "log.ipynb",
   "parameters": {},
   "start_time": "2025-06-09T04:23:42.547482",
   "version": "2.6.0"
  },
  "vscode": {
   "interpreter": {
    "hash": "aee8b7b246df8f9039afb4144a1f6fd8d2ca17a180786b69acc140d282b71a49"
   }
  },
  "widgets": {
   "application/vnd.jupyter.widget-state+json": {
    "state": {
     "0946cd13552848f8ba108d1d8c311dc6": {
      "model_module": "@jupyter-widgets/base",
      "model_module_version": "2.0.0",
      "model_name": "LayoutModel",
      "state": {
       "_model_module": "@jupyter-widgets/base",
       "_model_module_version": "2.0.0",
       "_model_name": "LayoutModel",
       "_view_count": null,
       "_view_module": "@jupyter-widgets/base",
       "_view_module_version": "2.0.0",
       "_view_name": "LayoutView",
       "align_content": null,
       "align_items": null,
       "align_self": null,
       "border_bottom": null,
       "border_left": null,
       "border_right": null,
       "border_top": null,
       "bottom": null,
       "display": null,
       "flex": null,
       "flex_flow": null,
       "grid_area": null,
       "grid_auto_columns": null,
       "grid_auto_flow": null,
       "grid_auto_rows": null,
       "grid_column": null,
       "grid_gap": null,
       "grid_row": null,
       "grid_template_areas": null,
       "grid_template_columns": null,
       "grid_template_rows": null,
       "height": null,
       "justify_content": null,
       "justify_items": null,
       "left": null,
       "margin": null,
       "max_height": null,
       "max_width": null,
       "min_height": null,
       "min_width": null,
       "object_fit": null,
       "object_position": null,
       "order": null,
       "overflow": null,
       "padding": null,
       "right": null,
       "top": null,
       "visibility": null,
       "width": null
      }
     },
     "134cd7f6b2074512baa5e9354ac8b4c6": {
      "model_module": "@jupyter-widgets/controls",
      "model_module_version": "2.0.0",
      "model_name": "ProgressStyleModel",
      "state": {
       "_model_module": "@jupyter-widgets/controls",
       "_model_module_version": "2.0.0",
       "_model_name": "ProgressStyleModel",
       "_view_count": null,
       "_view_module": "@jupyter-widgets/base",
       "_view_module_version": "2.0.0",
       "_view_name": "StyleView",
       "bar_color": null,
       "description_width": ""
      }
     },
     "1a3788fe2f644440b73721362aac006b": {
      "model_module": "@jupyter-widgets/controls",
      "model_module_version": "2.0.0",
      "model_name": "HTMLModel",
      "state": {
       "_dom_classes": [],
       "_model_module": "@jupyter-widgets/controls",
       "_model_module_version": "2.0.0",
       "_model_name": "HTMLModel",
       "_view_count": null,
       "_view_module": "@jupyter-widgets/controls",
       "_view_module_version": "2.0.0",
       "_view_name": "HTMLView",
       "description": "",
       "description_allow_html": false,
       "layout": "IPY_MODEL_42fae6d156f24da5a712d9b9cb39f59a",
       "placeholder": "​",
       "style": "IPY_MODEL_9cabb3e9b4f54524a4461d62f349d5f6",
       "tabbable": null,
       "tooltip": null,
       "value": " 9/9 [01:40&lt;00:00,  9.17s/it]"
      }
     },
     "42fae6d156f24da5a712d9b9cb39f59a": {
      "model_module": "@jupyter-widgets/base",
      "model_module_version": "2.0.0",
      "model_name": "LayoutModel",
      "state": {
       "_model_module": "@jupyter-widgets/base",
       "_model_module_version": "2.0.0",
       "_model_name": "LayoutModel",
       "_view_count": null,
       "_view_module": "@jupyter-widgets/base",
       "_view_module_version": "2.0.0",
       "_view_name": "LayoutView",
       "align_content": null,
       "align_items": null,
       "align_self": null,
       "border_bottom": null,
       "border_left": null,
       "border_right": null,
       "border_top": null,
       "bottom": null,
       "display": null,
       "flex": null,
       "flex_flow": null,
       "grid_area": null,
       "grid_auto_columns": null,
       "grid_auto_flow": null,
       "grid_auto_rows": null,
       "grid_column": null,
       "grid_gap": null,
       "grid_row": null,
       "grid_template_areas": null,
       "grid_template_columns": null,
       "grid_template_rows": null,
       "height": null,
       "justify_content": null,
       "justify_items": null,
       "left": null,
       "margin": null,
       "max_height": null,
       "max_width": null,
       "min_height": null,
       "min_width": null,
       "object_fit": null,
       "object_position": null,
       "order": null,
       "overflow": null,
       "padding": null,
       "right": null,
       "top": null,
       "visibility": null,
       "width": null
      }
     },
     "5872c9582dd74f35bb9ff27a56109d5f": {
      "model_module": "@jupyter-widgets/base",
      "model_module_version": "2.0.0",
      "model_name": "LayoutModel",
      "state": {
       "_model_module": "@jupyter-widgets/base",
       "_model_module_version": "2.0.0",
       "_model_name": "LayoutModel",
       "_view_count": null,
       "_view_module": "@jupyter-widgets/base",
       "_view_module_version": "2.0.0",
       "_view_name": "LayoutView",
       "align_content": null,
       "align_items": null,
       "align_self": null,
       "border_bottom": null,
       "border_left": null,
       "border_right": null,
       "border_top": null,
       "bottom": null,
       "display": null,
       "flex": null,
       "flex_flow": null,
       "grid_area": null,
       "grid_auto_columns": null,
       "grid_auto_flow": null,
       "grid_auto_rows": null,
       "grid_column": null,
       "grid_gap": null,
       "grid_row": null,
       "grid_template_areas": null,
       "grid_template_columns": null,
       "grid_template_rows": null,
       "height": null,
       "justify_content": null,
       "justify_items": null,
       "left": null,
       "margin": null,
       "max_height": null,
       "max_width": null,
       "min_height": null,
       "min_width": null,
       "object_fit": null,
       "object_position": null,
       "order": null,
       "overflow": null,
       "padding": null,
       "right": null,
       "top": null,
       "visibility": null,
       "width": null
      }
     },
     "9cabb3e9b4f54524a4461d62f349d5f6": {
      "model_module": "@jupyter-widgets/controls",
      "model_module_version": "2.0.0",
      "model_name": "HTMLStyleModel",
      "state": {
       "_model_module": "@jupyter-widgets/controls",
       "_model_module_version": "2.0.0",
       "_model_name": "HTMLStyleModel",
       "_view_count": null,
       "_view_module": "@jupyter-widgets/base",
       "_view_module_version": "2.0.0",
       "_view_name": "StyleView",
       "background": null,
       "description_width": "",
       "font_size": null,
       "text_color": null
      }
     },
     "c6ac0cc88afc4ef3aca2943be778b3db": {
      "model_module": "@jupyter-widgets/controls",
      "model_module_version": "2.0.0",
      "model_name": "HBoxModel",
      "state": {
       "_dom_classes": [],
       "_model_module": "@jupyter-widgets/controls",
       "_model_module_version": "2.0.0",
       "_model_name": "HBoxModel",
       "_view_count": null,
       "_view_module": "@jupyter-widgets/controls",
       "_view_module_version": "2.0.0",
       "_view_name": "HBoxView",
       "box_style": "",
       "children": [
        "IPY_MODEL_e1d1fe34f63542bca6b3680641c3b7d8",
        "IPY_MODEL_d39104fbae2d494888a9deb9aae22778",
        "IPY_MODEL_1a3788fe2f644440b73721362aac006b"
       ],
       "layout": "IPY_MODEL_e2863475a5c84c47a38b807ebc43c2e8",
       "tabbable": null,
       "tooltip": null
      }
     },
     "ce9aa10dc44b44febc8758fe22e5dd6d": {
      "model_module": "@jupyter-widgets/controls",
      "model_module_version": "2.0.0",
      "model_name": "HTMLStyleModel",
      "state": {
       "_model_module": "@jupyter-widgets/controls",
       "_model_module_version": "2.0.0",
       "_model_name": "HTMLStyleModel",
       "_view_count": null,
       "_view_module": "@jupyter-widgets/base",
       "_view_module_version": "2.0.0",
       "_view_name": "StyleView",
       "background": null,
       "description_width": "",
       "font_size": null,
       "text_color": null
      }
     },
     "d39104fbae2d494888a9deb9aae22778": {
      "model_module": "@jupyter-widgets/controls",
      "model_module_version": "2.0.0",
      "model_name": "FloatProgressModel",
      "state": {
       "_dom_classes": [],
       "_model_module": "@jupyter-widgets/controls",
       "_model_module_version": "2.0.0",
       "_model_name": "FloatProgressModel",
       "_view_count": null,
       "_view_module": "@jupyter-widgets/controls",
       "_view_module_version": "2.0.0",
       "_view_name": "ProgressView",
       "bar_style": "success",
       "description": "",
       "description_allow_html": false,
       "layout": "IPY_MODEL_0946cd13552848f8ba108d1d8c311dc6",
       "max": 9.0,
       "min": 0.0,
       "orientation": "horizontal",
       "style": "IPY_MODEL_134cd7f6b2074512baa5e9354ac8b4c6",
       "tabbable": null,
       "tooltip": null,
       "value": 9.0
      }
     },
     "e1d1fe34f63542bca6b3680641c3b7d8": {
      "model_module": "@jupyter-widgets/controls",
      "model_module_version": "2.0.0",
      "model_name": "HTMLModel",
      "state": {
       "_dom_classes": [],
       "_model_module": "@jupyter-widgets/controls",
       "_model_module_version": "2.0.0",
       "_model_name": "HTMLModel",
       "_view_count": null,
       "_view_module": "@jupyter-widgets/controls",
       "_view_module_version": "2.0.0",
       "_view_name": "HTMLView",
       "description": "",
       "description_allow_html": false,
       "layout": "IPY_MODEL_5872c9582dd74f35bb9ff27a56109d5f",
       "placeholder": "​",
       "style": "IPY_MODEL_ce9aa10dc44b44febc8758fe22e5dd6d",
       "tabbable": null,
       "tooltip": null,
       "value": "100%"
      }
     },
     "e2863475a5c84c47a38b807ebc43c2e8": {
      "model_module": "@jupyter-widgets/base",
      "model_module_version": "2.0.0",
      "model_name": "LayoutModel",
      "state": {
       "_model_module": "@jupyter-widgets/base",
       "_model_module_version": "2.0.0",
       "_model_name": "LayoutModel",
       "_view_count": null,
       "_view_module": "@jupyter-widgets/base",
       "_view_module_version": "2.0.0",
       "_view_name": "LayoutView",
       "align_content": null,
       "align_items": null,
       "align_self": null,
       "border_bottom": null,
       "border_left": null,
       "border_right": null,
       "border_top": null,
       "bottom": null,
       "display": null,
       "flex": null,
       "flex_flow": null,
       "grid_area": null,
       "grid_auto_columns": null,
       "grid_auto_flow": null,
       "grid_auto_rows": null,
       "grid_column": null,
       "grid_gap": null,
       "grid_row": null,
       "grid_template_areas": null,
       "grid_template_columns": null,
       "grid_template_rows": null,
       "height": null,
       "justify_content": null,
       "justify_items": null,
       "left": null,
       "margin": null,
       "max_height": null,
       "max_width": null,
       "min_height": null,
       "min_width": null,
       "object_fit": null,
       "object_position": null,
       "order": null,
       "overflow": null,
       "padding": null,
       "right": null,
       "top": null,
       "visibility": null,
       "width": null
      }
     }
    },
    "version_major": 2,
    "version_minor": 0
   }
  }
 },
 "nbformat": 4,
 "nbformat_minor": 5
}