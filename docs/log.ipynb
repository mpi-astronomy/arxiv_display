{
 "cells": [
  {
   "cell_type": "markdown",
   "id": "92bcb855",
   "metadata": {
    "papermill": {
     "duration": 0.003879,
     "end_time": "2025-10-01T04:12:09.800518",
     "exception": false,
     "start_time": "2025-10-01T04:12:09.796639",
     "status": "completed"
    },
    "tags": []
   },
   "source": [
    "# MPIA Arxiv on Deck 2\n",
    "\n",
    "Contains the steps to produce the paper extractions."
   ]
  },
  {
   "cell_type": "code",
   "execution_count": 1,
   "id": "3a0d6e11",
   "metadata": {
    "execution": {
     "iopub.execute_input": "2025-10-01T04:12:09.807830Z",
     "iopub.status.busy": "2025-10-01T04:12:09.807558Z",
     "iopub.status.idle": "2025-10-01T04:12:10.014720Z",
     "shell.execute_reply": "2025-10-01T04:12:10.013947Z"
    },
    "papermill": {
     "duration": 0.212407,
     "end_time": "2025-10-01T04:12:10.016168",
     "exception": false,
     "start_time": "2025-10-01T04:12:09.803761",
     "status": "completed"
    },
    "tags": []
   },
   "outputs": [],
   "source": [
    "# Imports\n",
    "import os\n",
    "from IPython.display import Markdown, display\n",
    "from tqdm.notebook import tqdm\n",
    "import warnings\n",
    "from PIL import Image \n",
    "import re\n",
    "\n",
    "# requires arxiv_on_deck_2\n",
    "\n",
    "from arxiv_on_deck_2.arxiv2 import (get_new_papers, \n",
    "                                    get_paper_from_identifier,\n",
    "                                    retrieve_document_source, \n",
    "                                    get_markdown_badge)\n",
    "from arxiv_on_deck_2 import (latex,\n",
    "                             latex_bib,\n",
    "                             mpia,\n",
    "                             highlight_authors_in_list)\n",
    "\n",
    "# Sometimes images are really big\n",
    "Image.MAX_IMAGE_PIXELS = 1000000000 "
   ]
  },
  {
   "cell_type": "code",
   "execution_count": 2,
   "id": "22aa9d44",
   "metadata": {
    "execution": {
     "iopub.execute_input": "2025-10-01T04:12:10.023494Z",
     "iopub.status.busy": "2025-10-01T04:12:10.023299Z",
     "iopub.status.idle": "2025-10-01T04:12:10.031032Z",
     "shell.execute_reply": "2025-10-01T04:12:10.030483Z"
    },
    "papermill": {
     "duration": 0.012473,
     "end_time": "2025-10-01T04:12:10.032057",
     "exception": false,
     "start_time": "2025-10-01T04:12:10.019584",
     "status": "completed"
    },
    "tags": []
   },
   "outputs": [],
   "source": [
    "# Some useful definitions.\n",
    "\n",
    "class AffiliationWarning(UserWarning):\n",
    "    pass\n",
    "\n",
    "class AffiliationError(RuntimeError):\n",
    "    pass\n",
    "\n",
    "def validation(source: str):\n",
    "    \"\"\"Raises error paper during parsing of source file\n",
    "    \n",
    "    Allows checks before parsing TeX code.\n",
    "    \n",
    "    Raises AffiliationWarning\n",
    "    \"\"\"\n",
    "    check = mpia.affiliation_verifications(source, verbose=True)\n",
    "    if check is not True:\n",
    "        raise AffiliationError(\"mpia.affiliation_verifications: \" + check)\n",
    "\n",
    "        \n",
    "warnings.simplefilter('always', AffiliationWarning)\n",
    "\n",
    "\n",
    "def get_markdown_qrcode(paper_id: str):\n",
    "    \"\"\" Generate a qrcode to the arxiv page using qrserver.com\n",
    "    \n",
    "    :param paper: Arxiv paper\n",
    "    :returns: markdown text\n",
    "    \"\"\"\n",
    "    url = r\"https://api.qrserver.com/v1/create-qr-code/?size=100x100&data=\"\n",
    "    txt = f\"\"\"<img src={url}\"https://arxiv.org/abs/{paper_id}\">\"\"\"\n",
    "    txt = '<div id=\"qrcode\">' + txt + '</div>'\n",
    "    return txt\n",
    "\n",
    "\n",
    "def clean_non_western_encoded_characters_commands(text: str) -> str:\n",
    "    \"\"\" Remove non-western encoded characters from a string\n",
    "    List may need to grow.\n",
    "    \n",
    "    :param text: the text to clean\n",
    "    :return: the cleaned text\n",
    "    \"\"\"\n",
    "    text = re.sub(r\"(\\\\begin{CJK}{UTF8}{gbsn})(.*?)(\\\\end{CJK})\", r\"\\2\", text)\n",
    "    return text\n",
    "\n",
    "\n",
    "def get_initials(name: str) -> str:\n",
    "    \"\"\" Get the short name, e.g., A.-B. FamName\n",
    "    :param name: full name\n",
    "    :returns: initials\n",
    "    \"\"\"\n",
    "    initials = []\n",
    "    # account for non western names often in ()\n",
    "    if '(' in name:\n",
    "        name = clean_non_western_encoded_characters_commands(name)\n",
    "        suffix = re.findall(r\"\\((.*?)\\)\", name)[0]\n",
    "        name = name.replace(f\"({suffix})\", '')\n",
    "    else:\n",
    "        suffix = ''\n",
    "    split = name.split()\n",
    "    for token in split[:-1]:\n",
    "        if '-' in token:\n",
    "            current = '-'.join([k[0] + '.' for k in token.split('-')])\n",
    "        else:\n",
    "            current = token[0] + '.'\n",
    "        initials.append(current)\n",
    "    initials.append(split[-1].strip())\n",
    "    if suffix:\n",
    "        initials.append(f\"({suffix})\")\n",
    "    return ' '.join(initials)"
   ]
  },
  {
   "cell_type": "markdown",
   "id": "14bd6310",
   "metadata": {
    "papermill": {
     "duration": 0.002895,
     "end_time": "2025-10-01T04:12:10.037949",
     "exception": false,
     "start_time": "2025-10-01T04:12:10.035054",
     "status": "completed"
    },
    "tags": []
   },
   "source": [
    "## get list of arxiv paper candidates\n",
    "\n",
    "We use the MPIA mitarbeiter list webpage from mpia.de to get author names\n",
    "We then get all new papers from Arxiv and match authors"
   ]
  },
  {
   "cell_type": "code",
   "execution_count": 3,
   "id": "7ea813a8",
   "metadata": {
    "execution": {
     "iopub.execute_input": "2025-10-01T04:12:10.044666Z",
     "iopub.status.busy": "2025-10-01T04:12:10.044459Z",
     "iopub.status.idle": "2025-10-01T04:12:31.231740Z",
     "shell.execute_reply": "2025-10-01T04:12:31.231104Z"
    },
    "papermill": {
     "duration": 21.192091,
     "end_time": "2025-10-01T04:12:31.233017",
     "exception": false,
     "start_time": "2025-10-01T04:12:10.040926",
     "status": "completed"
    },
    "tags": []
   },
   "outputs": [],
   "source": [
    "# deal with the author list and edge cases of people that cannot be consistent on their name  \n",
    "\n",
    "def filter_non_scientists(name: str) -> bool:\n",
    "    \"\"\" Loose filter on expected authorships\n",
    "\n",
    "    removing IT, administration, technical staff\n",
    "    :param name: name\n",
    "    :returns: False if name is not a scientist\n",
    "    \"\"\"\n",
    "    remove_list = ['Licht', 'Binroth', 'Witzel', 'Jordan',\n",
    "                   'Zähringer', 'Scheerer', 'Hoffmann', 'Düe',\n",
    "                   'Hellmich', 'Enkler-Scharpegge', 'Witte-Nguy',\n",
    "                   'Dehen', 'Beckmann', 'Jager', 'Jäger'\n",
    "                  ]\n",
    "\n",
    "    for k in remove_list:\n",
    "        if k in name:\n",
    "            return False\n",
    "    return True\n",
    "\n",
    "def add_author_to_list(author_list: list) -> list:\n",
    "    \"\"\" Add author to list if not already in list\n",
    "    \n",
    "    :param author: author name\n",
    "    :param author_list: list of authors\n",
    "    :returns: updated list of authors\n",
    "    \"\"\"\n",
    "    add_list = ['T. Henning']\n",
    "\n",
    "    for author in add_list:\n",
    "        if author not in author_list:\n",
    "            author_list.append(author)\n",
    "    return author_list\n",
    "\n",
    "# get list from MPIA website\n",
    "# filter for non-scientists (mpia.get_mpia_mitarbeiter_list() does some filtering)\n",
    "mpia_authors = [k[1] for k in mpia.get_mpia_mitarbeiter_list() if filter_non_scientists(k[1])]\n",
    "# add some missing author because of inconsistencies in their MPIA name and author name on papers\n",
    "mpia_authors = add_author_to_list(mpia_authors)"
   ]
  },
  {
   "cell_type": "code",
   "execution_count": 4,
   "id": "2645e73a",
   "metadata": {
    "execution": {
     "iopub.execute_input": "2025-10-01T04:12:31.240210Z",
     "iopub.status.busy": "2025-10-01T04:12:31.239969Z",
     "iopub.status.idle": "2025-10-01T04:12:32.246511Z",
     "shell.execute_reply": "2025-10-01T04:12:32.245805Z"
    },
    "papermill": {
     "duration": 1.011212,
     "end_time": "2025-10-01T04:12:32.247569",
     "exception": false,
     "start_time": "2025-10-01T04:12:31.236357",
     "status": "completed"
    },
    "tags": []
   },
   "outputs": [
    {
     "name": "stdout",
     "output_type": "stream",
     "text": [
      "A. Pillepich  ->  A. Pillepich  |  ['A. Pillepich']\n",
      "X. Zhang  ->  X. Zhang  |  ['X. Zhang']\n",
      "Y. Wang  ->  Y. Wang  |  ['Y. Wang']\n",
      "M. Ravet  ->  M. Ravet  |  ['M. Ravet']\n",
      "G. Chauvin  ->  G. Chauvin  |  ['G. Chauvin']\n",
      "Y. Wang  ->  Y. Wang  |  ['Y. Wang']\n",
      "X. Zhang  ->  X. Zhang  |  ['X. Zhang']\n",
      "Y. Wang  ->  Y. Wang  |  ['Y. Wang']\n"
     ]
    },
    {
     "name": "stdout",
     "output_type": "stream",
     "text": [
      "D. Semenov  ->  D. Semenov  |  ['D. Semenov']\n",
      "T. Henning  ->  T. Henning  |  ['T. Henning']\n",
      "Y. Wang  ->  Y. Wang  |  ['Y. Wang']\n",
      "T. Henning  ->  T. Henning  |  ['T. Henning']\n",
      "M. Benisty  ->  M. Benisty  |  ['M. Benisty']\n",
      "Arxiv has 99 new papers today\n",
      "          11 with possible author matches\n"
     ]
    }
   ],
   "source": [
    "new_papers = get_new_papers()\n",
    "# add manual references\n",
    "add_paper_refs = []\n",
    "new_papers.extend([get_paper_from_identifier(k) for k in add_paper_refs])\n",
    "\n",
    "def robust_call(fn, value, *args, **kwargs):\n",
    "    try:\n",
    "        return fn(value, *args, **kwargs)\n",
    "    except Exception:\n",
    "        return value\n",
    "\n",
    "candidates = []\n",
    "for paperk in new_papers:\n",
    "    # Check author list with their initials\n",
    "    normed_author_list = [robust_call(mpia.get_initials, k) for k in paperk['authors']]\n",
    "    hl_authors = highlight_authors_in_list(normed_author_list, mpia_authors, verbose=True)\n",
    "    matches = [(hl, orig) for hl, orig in zip(hl_authors, paperk['authors']) if 'mark' in hl]\n",
    "    paperk['authors'] = hl_authors\n",
    "    if matches:\n",
    "        # only select paper if an author matched our list\n",
    "        candidates.append(paperk)\n",
    "print(\"\"\"Arxiv has {0:,d} new papers today\"\"\".format(len(new_papers)))        \n",
    "print(\"\"\"          {0:,d} with possible author matches\"\"\".format(len(candidates)))"
   ]
  },
  {
   "cell_type": "markdown",
   "id": "3543b34a",
   "metadata": {
    "papermill": {
     "duration": 0.003036,
     "end_time": "2025-10-01T04:12:32.254190",
     "exception": false,
     "start_time": "2025-10-01T04:12:32.251154",
     "status": "completed"
    },
    "tags": []
   },
   "source": [
    "# Parse sources and generate relevant outputs\n",
    "\n",
    "From the candidates, we do the following steps:\n",
    "* get their tarball from ArXiv (and extract data)\n",
    "* find the main .tex file: find one with \\documentclass{...} (sometimes it's non trivial)\n",
    "* Check affiliations with :func:`validation`, which uses :func:`mpia.affiliation_verifications`\n",
    "* If passing the affiliations: we parse the .tex source\n",
    "   * inject sub-documents into the main (flatten the main document)\n",
    "   * parse structure, extract information (title, abstract, authors, figures...)\n",
    "   * handles `\\graphicspath` if provided\n",
    "* Generate the .md document."
   ]
  },
  {
   "cell_type": "code",
   "execution_count": 5,
   "id": "9576b79e",
   "metadata": {
    "execution": {
     "iopub.execute_input": "2025-10-01T04:12:32.261265Z",
     "iopub.status.busy": "2025-10-01T04:12:32.261008Z",
     "iopub.status.idle": "2025-10-01T04:15:14.830444Z",
     "shell.execute_reply": "2025-10-01T04:15:14.829674Z"
    },
    "papermill": {
     "duration": 162.574464,
     "end_time": "2025-10-01T04:15:14.831683",
     "exception": false,
     "start_time": "2025-10-01T04:12:32.257219",
     "status": "completed"
    },
    "scrolled": false,
    "tags": []
   },
   "outputs": [
    {
     "data": {
      "application/vnd.jupyter.widget-view+json": {
       "model_id": "877de68e17354667b8fc810416d47c51",
       "version_major": 2,
       "version_minor": 0
      },
      "text/plain": [
       "  0%|          | 0/11 [00:00<?, ?it/s]"
      ]
     },
     "metadata": {},
     "output_type": "display_data"
    },
    {
     "name": "stdout",
     "output_type": "stream",
     "text": [
      "Retrieving document from  https://arxiv.org/e-print/2509.25314\n"
     ]
    },
    {
     "name": "stdout",
     "output_type": "stream",
     "text": [
      "extracting tarball to tmp_2509.25314..."
     ]
    },
    {
     "name": "stdout",
     "output_type": "stream",
     "text": [
      " done.\n"
     ]
    },
    {
     "name": "stdout",
     "output_type": "stream",
     "text": [
      "Found 123 bibliographic references in tmp_2509.25314/Main_XCavTNG-Comp.bbl.\n",
      "Error retrieving bib data for Prunier2025a: 'author'\n",
      "Retrieving document from  https://arxiv.org/e-print/2509.25317\n"
     ]
    },
    {
     "name": "stdout",
     "output_type": "stream",
     "text": [
      "extracting tarball to tmp_2509.25317... done.\n",
      "Retrieving document from  https://arxiv.org/e-print/2509.25335\n",
      "extracting tarball to tmp_2509.25335..."
     ]
    },
    {
     "name": "stdout",
     "output_type": "stream",
     "text": [
      " done.\n",
      "Retrieving document from  https://arxiv.org/e-print/2509.25338\n"
     ]
    },
    {
     "name": "stderr",
     "output_type": "stream",
     "text": [
      "/opt/hostedtoolcache/Python/3.9.23/x64/lib/python3.9/site-packages/IPython/core/interactiveshell.py:3550: LatexWarning: Multiple tex files.\n",
      "\n",
      "  exec(code_obj, self.user_global_ns, self.user_ns)\n",
      "/opt/hostedtoolcache/Python/3.9.23/x64/lib/python3.9/site-packages/IPython/core/interactiveshell.py:3550: LatexWarning: Found documentclass in tmp_2509.25335/main.tex\n",
      "\n",
      "  exec(code_obj, self.user_global_ns, self.user_ns)\n",
      "/opt/hostedtoolcache/Python/3.9.23/x64/lib/python3.9/site-packages/arxiv_on_deck_2/latex.py:414: LatexWarning: Latex injecting: 'acknowledgments' from 'tmp_2509.25335/acknowledgments.tex'\n",
      "  warnings.warn(LatexWarning(f\"Latex injecting: '{ext}' from '{subsource}'\"))\n",
      "/opt/hostedtoolcache/Python/3.9.23/x64/lib/python3.9/site-packages/arxiv_on_deck_2/latex.py:414: LatexWarning: Latex injecting: 'authors' from 'tmp_2509.25335/authors.tex'\n",
      "  warnings.warn(LatexWarning(f\"Latex injecting: '{ext}' from '{subsource}'\"))\n"
     ]
    },
    {
     "name": "stdout",
     "output_type": "stream",
     "text": [
      "extracting tarball to tmp_2509.25338... done.\n"
     ]
    },
    {
     "name": "stdout",
     "output_type": "stream",
     "text": [
      "M. Ravet  ->  M. Ravet  |  ['M. Ravet']\n",
      "G. Chauvin  ->  G. Chauvin  |  ['G. Chauvin']\n"
     ]
    },
    {
     "name": "stdout",
     "output_type": "stream",
     "text": [
      "Found 122 bibliographic references in tmp_2509.25338/aanda.bbl.\n",
      "Error retrieving bib data for lacour_mass_2021 (dotted line) vs. retrieved radial velocities (colored bars) for each epoch: 'lacour_mass_2021 (dotted line) vs. retrieved radial velocities (colored bars) for each epoch'\n",
      "Error retrieving bib data for  using forward modeling (here BT-Settl). The four GRAVITY epochs were fitted in parallel using MOSAIC: 'using forward modeling (here bt-settl). the four gravity epochs were fitted in parallel using mosaic'\n",
      "Error retrieving bib data for  and we can see that the observation on the 2019/11/09 is significantly shifted.: 'and we can see that the observation on the 2019/11/09 is significantly shifted.'\n",
      "Error retrieving bib data for landman__2024: 'author'\n",
      "Error retrieving bib data for charnay_self-consistent_2018 and constrained the pressure-temperature between the minimum and maximum of the brightness temperature computed between 0.625 to 10 µm.: 'charnay_self-consistent_2018 and constrained the pressure-temperature between the minimum and maximum of the brightness temperature computed between 0.625 to 10 µm.'\n",
      "Retrieving document from  https://arxiv.org/e-print/2509.25362\n",
      "extracting tarball to tmp_2509.25362..."
     ]
    },
    {
     "name": "stdout",
     "output_type": "stream",
     "text": [
      " done.\n",
      "Retrieving document from  https://arxiv.org/e-print/2509.25610\n"
     ]
    },
    {
     "name": "stdout",
     "output_type": "stream",
     "text": [
      "extracting tarball to tmp_2509.25610..."
     ]
    },
    {
     "name": "stdout",
     "output_type": "stream",
     "text": [
      " done.\n",
      "Retrieving document from  https://arxiv.org/e-print/2509.25726\n"
     ]
    },
    {
     "name": "stdout",
     "output_type": "stream",
     "text": [
      "extracting tarball to tmp_2509.25726... done.\n",
      "Retrieving document from  https://arxiv.org/e-print/2509.26033\n"
     ]
    },
    {
     "name": "stdout",
     "output_type": "stream",
     "text": [
      "extracting tarball to tmp_2509.26033... done.\n"
     ]
    },
    {
     "name": "stdout",
     "output_type": "stream",
     "text": [
      "D. Semenov  ->  D. Semenov  |  ['D. Semenov']\n",
      "T. Henning  ->  T. Henning  |  ['T. Henning']\n"
     ]
    },
    {
     "name": "stdout",
     "output_type": "stream",
     "text": [
      "Found 55 bibliographic references in tmp_2509.26033/aa55641-25.bbl.\n",
      "Retrieving document from  https://arxiv.org/e-print/2509.26283\n",
      "extracting tarball to tmp_2509.26283... done.\n",
      "Retrieving document from  https://arxiv.org/e-print/2509.26430\n"
     ]
    },
    {
     "name": "stderr",
     "output_type": "stream",
     "text": [
      "/opt/hostedtoolcache/Python/3.9.23/x64/lib/python3.9/site-packages/IPython/core/interactiveshell.py:3550: LatexWarning: Multiple tex files.\n",
      "\n",
      "  exec(code_obj, self.user_global_ns, self.user_ns)\n",
      "/opt/hostedtoolcache/Python/3.9.23/x64/lib/python3.9/site-packages/IPython/core/interactiveshell.py:3550: LatexWarning: Found documentclass in tmp_2509.26283/main.tex\n",
      "\n",
      "  exec(code_obj, self.user_global_ns, self.user_ns)\n",
      "/opt/hostedtoolcache/Python/3.9.23/x64/lib/python3.9/site-packages/arxiv_on_deck_2/latex.py:414: LatexWarning: Latex injecting: 'authors' from 'tmp_2509.26283/authors.tex'\n",
      "  warnings.warn(LatexWarning(f\"Latex injecting: '{ext}' from '{subsource}'\"))\n"
     ]
    },
    {
     "name": "stdout",
     "output_type": "stream",
     "text": [
      "extracting tarball to tmp_2509.26430..."
     ]
    },
    {
     "name": "stdout",
     "output_type": "stream",
     "text": [
      " done.\n"
     ]
    },
    {
     "name": "stdout",
     "output_type": "stream",
     "text": [
      "T. Henning  ->  T. Henning  |  ['T. Henning']\n"
     ]
    },
    {
     "name": "stdout",
     "output_type": "stream",
     "text": [
      "Found 81 bibliographic references in tmp_2509.26430/toi375.bbl.\n",
      "Error retrieving bib data for parsec: 'author'\n",
      "Retrieving document from  https://arxiv.org/e-print/2509.26617\n",
      "extracting tarball to tmp_2509.26617..."
     ]
    },
    {
     "name": "stdout",
     "output_type": "stream",
     "text": [
      " done.\n"
     ]
    },
    {
     "name": "stdout",
     "output_type": "stream",
     "text": [
      "M. Benisty  ->  M. Benisty  |  ['M. Benisty']\n"
     ]
    },
    {
     "name": "stdout",
     "output_type": "stream",
     "text": [
      "Found 88 bibliographic references in tmp_2509.26617/sample631.bbl.\n"
     ]
    }
   ],
   "source": [
    "documents = []\n",
    "failed = []\n",
    "for paper in tqdm(candidates):\n",
    "    # debug crap\n",
    "    paper['identifier'] = paper['identifier'].lower().replace('arxiv:', '').replace(r'\\n', '').strip()\n",
    "    paper_id = paper['identifier']\n",
    "    \n",
    "    folder = f'tmp_{paper_id}'\n",
    "\n",
    "    try:\n",
    "        if not os.path.isdir(folder):\n",
    "            folder = retrieve_document_source(f\"{paper_id}\", f'tmp_{paper_id}')\n",
    "        \n",
    "        try:\n",
    "            doc = latex.LatexDocument(folder, validation=validation)    \n",
    "        except AffiliationError as affilerror:\n",
    "            msg = f\"ArXiv:{paper_id:s} is not an MPIA paper... \" + str(affilerror)\n",
    "            failed.append((paper, \"affiliation error: \" + str(affilerror) ))\n",
    "            continue\n",
    "        \n",
    "        # Hack because sometimes author parsing does not work well\n",
    "        if (len(doc.authors) != len(paper['authors'])):\n",
    "            doc._authors = paper['authors']\n",
    "        else:\n",
    "            # highlight authors (FIXME: doc.highlight_authors)\n",
    "            # done on arxiv paper already\n",
    "            doc._authors = highlight_authors_in_list(\n",
    "                [get_initials(k) for k in doc.authors], \n",
    "                mpia_authors, verbose=True)\n",
    "        if (doc.abstract) in (None, ''):\n",
    "            doc._abstract = paper['abstract']\n",
    "            \n",
    "        doc.comment = (get_markdown_badge(paper_id) + \n",
    "                       \"<mark>Appeared on: \" + paper['date'] + \"</mark> - \")\n",
    "        if paper['comments']:\n",
    "            doc.comment += \" _\" + paper['comments'] + \"_\"\n",
    "        \n",
    "        full_md = doc.generate_markdown_text()\n",
    "        \n",
    "        full_md += get_markdown_qrcode(paper_id)\n",
    "        \n",
    "        # replace citations\n",
    "        try:\n",
    "            bibdata = latex_bib.LatexBib.from_doc(doc)\n",
    "            full_md = latex_bib.replace_citations(full_md, bibdata)\n",
    "        except Exception as e:\n",
    "            print(\"Issues with the citations\")\n",
    "            print(e)\n",
    "        \n",
    "        documents.append((paper_id, full_md))\n",
    "    except Exception as e:\n",
    "        warnings.warn(latex.LatexWarning(f\"{paper_id:s} did not run properly\\n\" +\n",
    "                                         str(e)\n",
    "                                        ))\n",
    "        failed.append((paper, \"latex error \" + str(e)))"
   ]
  },
  {
   "cell_type": "markdown",
   "id": "2505a25c",
   "metadata": {
    "papermill": {
     "duration": 0.004393,
     "end_time": "2025-10-01T04:15:14.840781",
     "exception": false,
     "start_time": "2025-10-01T04:15:14.836388",
     "status": "completed"
    },
    "tags": []
   },
   "source": [
    "### Export the logs\n",
    "\n",
    "Throughout, we also keep track of the logs per paper. see `logs-{today date}.md` "
   ]
  },
  {
   "cell_type": "code",
   "execution_count": 6,
   "id": "d733828a",
   "metadata": {
    "execution": {
     "iopub.execute_input": "2025-10-01T04:15:14.850427Z",
     "iopub.status.busy": "2025-10-01T04:15:14.850199Z",
     "iopub.status.idle": "2025-10-01T04:15:14.873934Z",
     "shell.execute_reply": "2025-10-01T04:15:14.873230Z"
    },
    "papermill": {
     "duration": 0.029889,
     "end_time": "2025-10-01T04:15:14.875069",
     "exception": false,
     "start_time": "2025-10-01T04:15:14.845180",
     "status": "completed"
    },
    "scrolled": false,
    "tags": []
   },
   "outputs": [
    {
     "data": {
      "text/markdown": [
       "## Successful papers"
      ],
      "text/plain": [
       "<IPython.core.display.Markdown object>"
      ]
     },
     "metadata": {},
     "output_type": "display_data"
    },
    {
     "data": {
      "text/markdown": [
       "\n",
       "|||\n",
       "|---:|:---|\n",
       "| [![arXiv](https://img.shields.io/badge/arXiv-2509.25314-b31b1b.svg)](https://arxiv.org/abs/2509.25314) | **X-ray shocks in the cool cores of galaxy clusters: insights from TNG-Cluster**  |\n",
       "|| M. Prunier, F. Ubertosi, J. Hlavacek-Larrondo, <mark>A. Pillepich</mark> |\n",
       "|*Appeared on*| *2025-10-01*|\n",
       "|*Comments*| *Accepted to MNRAS. The data of the TNG-Cluster simulation is now fully public and accessible at this URL this https URL*|\n",
       "|**Abstract**|            Shock fronts driven by active galactic nuclei in galaxy cluster cores represent a promising mechanism to heat the intracluster gas by converting kinetic energy into thermal energy through gas compression, thereby offsetting radiative cooling. Despite their potential importance, such shocks are challenging to detect, requiring deep X-ray exposures, and have only been identified in ten clusters. We present the first systematic detection and characterization of AGN-driven shocks in simulated clusters from the TNG-Cluster magnetohydrodynamic cosmological zoom-in simulations of galaxies. TNG-Cluster exhibits a rich variety of X-ray structures, including realistic populations of X-ray cavities, as well as shocks, produced by its AGN feedback model, without collimated, relativistic jets, nor cosmic rays. We produce mock Chandra observations with deep exposure times, for a sample of 100 clusters, mass-matched (M$_{500c}=1.2$ - $8.5 \\times 10^{14}$ M$_\\odot$) to the ten observed clusters with shocks. Using observational techniques, we identify shocks through surface brightness edges fitted with broken power laws and associated density and temperature jumps. We detect 50 shocks in 30 of the 100 clusters, with ~35% hosting multiple shocks. These shocks lie within a hundred kiloparsec of the central SMBH, are weak (Mach number < 2, median ~ 1.1), and are associated with cavities in about half of the cases. Both in observations and in TNG-Cluster, shocks tend to be located at larger radii than cavities, with median offsets of 46 and 27 kpc, respectively. The observationally inferred shock powers are comparable to the cluster cooling luminosities (10$^{44-46}$ erg s$^{-1}$), suggesting that shocks in the simulation are crucial heating mechanisms. Our results indicate that shocks play a role as important as cavities in balancing cooling in cluster cores, acting isotropically and up to larger distances.         |"
      ],
      "text/plain": [
       "[2509.25314] X-ray shocks in the cool cores of galaxy clusters: insights from TNG-Cluster\n",
       "\tM. Prunier, F. Ubertosi, J. Hlavacek-Larrondo, <mark>A. Pillepich</mark>"
      ]
     },
     "metadata": {},
     "output_type": "display_data"
    },
    {
     "data": {
      "text/markdown": [
       "\n",
       "|||\n",
       "|---:|:---|\n",
       "| [![arXiv](https://img.shields.io/badge/arXiv-2509.25338-b31b1b.svg)](https://arxiv.org/abs/2509.25338) | **Multi-modal atmospheric characterization of $β$ Pictoris b: Adding high-resolution continuum spectra from GRAVITY**  |\n",
       "|| <mark>M. Ravet</mark>, et al. -- incl., <mark>G. Chauvin</mark> |\n",
       "|*Appeared on*| *2025-10-01*|\n",
       "|*Comments*| *Accepted for publication in A&A*|\n",
       "|**Abstract**|            We present the first VLTI/GRAVITY observations at R$_\\lambda \\sim 4000$ of $\\beta$ Pic b. These four high S/N ($\\sim$20) K-band spectra conserve both the pseudo-continuum and molecular absorption patterns. We analyze them with four self-consistent forward model grids (Exo-REM, ATMO, BT-Settl, Sonora) exploring $T_{\\mathrm{eff}}$, log(g), metallicity, C/O, and $^{12}$CO/$^{13}$CO ratio. We also upgrade our forward modeling code \\texttt{\\textit{ForMoSA}} to account for the data multi-modality and combine the GRAVITY epochs with published 1-5 $\\mu$m photometry, low- to medium-resolution spectra (0.9-7 $\\mu$m), and high-resolution echelle spectra (2.1-5.2 $\\mu$m). Sonora and Exo-REM are statistically preferred. Exo-REM yields $T_{\\mathrm{eff}}$ $=1607.45^{+4.85}_{-6.20}$ K and log(g) $=4.46^{+0.02}_{-0.04}$ dex from GRAVITY alone, and $T_{\\mathrm{eff}}$ $=1502.74^{+2.32}_{-2.14}$ K and log(g) $=4.00\\pm0.01$ dex when including all datasets. Archival data significantly affect the retrieved parameters. C/O remains solar ($0.552^{+0.003}_{-0.002}$) while [M/H] reaches super-solar values (0.50$\\pm$0.01). We report the first tentative constraint on log($^{12}$CO/$^{13}$CO) $\\sim$1.12, though this remains inconclusive due to telluric residuals. Additionally, we estimate the luminosity to be log(L/L$_\\odot$) $=-4.01^{+0.04}_{-0.05}$, implying a heavy-element content of up to $\\sim$5% (20-80 M$_\\oplus$) given the system age and dynamical mass measurements. Access to both continuum and molecular lines at K-band significantly impacts the metallicity, possibly owing to collision-induced absorption shaping the continuum. Echelle spectra do not dominate the final fit with respect to lower resolution data. Future multi-modal frameworks should include weighting schemes reflecting bandwidth and central wavelength coverage.         |"
      ],
      "text/plain": [
       "[2509.25338] Multi-modal atmospheric characterization of $β$ Pictoris b: Adding high-resolution continuum spectra from GRAVITY\n",
       "\t<mark>M. Ravet</mark>, et al. -- incl., <mark>G. Chauvin</mark>"
      ]
     },
     "metadata": {},
     "output_type": "display_data"
    },
    {
     "data": {
      "text/markdown": [
       "\n",
       "|||\n",
       "|---:|:---|\n",
       "| [![arXiv](https://img.shields.io/badge/arXiv-2509.26033-b31b1b.svg)](https://arxiv.org/abs/2509.26033) | **Edge-On Disk Study (EODS) III: Molecular Stratification in the Flying Saucer Disk**  |\n",
       "|| A. Dutrey, et al. -- incl., <mark>D. Semenov</mark>, <mark>T. Henning</mark> |\n",
       "|*Appeared on*| *2025-10-01*|\n",
       "|*Comments*| **|\n",
       "|**Abstract**|            Context: Investigating the vertical distribution of molecular content in protoplanetary disks remains difficult in most disks mildly inclined along the line of sight. In contrast, edge-on disks provide a direct (tomographic) view of the 2D molecular brightness. Aims: We study the radial and vertical molecular distribution as well as the gas temperature and density by observing the Keplerian edge-on disk surrounding the Flying Saucer, a Class II object located in Ophiuchus. Methods: We use new and archival ALMA data to perform a tomography of $^{12}$CO, $^{13}$CO, C$^{18}$O, CN, HCN, CS, H$_2$CO, c-C$_3$H$_2$, N$_2$D$^+$, DCN and $^{13}$CS. We analyze molecular tomographies and model data using the radiative transfer code DiskFit. Results: We directly measure the altitude above the mid-plane for each observed species. For the first time, we unambiguously demonstrate the presence of a common molecular layer and measure its thickness: most molecules are located at the same altitude versus radius. Beyond CO, as predicted by chemical models, the CN emission traces the upper boundary of the molecular layer, whereas the deuterated species (DCN and N2D+) resides below one scale-height. Our best fits from DiskFit show that most observed transitions in the molecular layer are thermalized because their excitation temperature is the same, around 17-20 K. Conclusions: These long-integration observations clearly reveal a molecular layer predominantly located around 1-2 scale height, at a temperature above the CO freeze-out temperature. The deuterated molecules are closer to the mid-plane and N2D+ may be a good proxy for the CO snowline. Some molecules, such as CN and H2CO, are likely influenced by the disk environment, at least beyond the mm dust disk radius. The direct observation of the molecular stratification opens the door to detailed chemical modeling in this disk which appears representative of T Tauri disks.         |"
      ],
      "text/plain": [
       "[2509.26033] Edge-On Disk Study (EODS) III: Molecular Stratification in the Flying Saucer Disk\n",
       "\tA. Dutrey, et al. -- incl., <mark>D. Semenov</mark>, <mark>T. Henning</mark>"
      ]
     },
     "metadata": {},
     "output_type": "display_data"
    },
    {
     "data": {
      "text/markdown": [
       "\n",
       "|||\n",
       "|---:|:---|\n",
       "| [![arXiv](https://img.shields.io/badge/arXiv-2509.26430-b31b1b.svg)](https://arxiv.org/abs/2509.26430) | **A transiting hot Jupiter with two outer siblings orbiting an intermediate-mass post main-sequence star**  |\n",
       "|| Y. Reinarz, et al. -- incl., <mark>T. Henning</mark> |\n",
       "|*Appeared on*| *2025-10-01*|\n",
       "|*Comments*| *resubmitted without line numbers*|\n",
       "|**Abstract**|            Exoplanetary systems with multiple giant planets present an opportunity to understand planet formation, migration processes, and long-term system-wide dynamical interactions. In particular, they provide constraints to distinguish between smooth disk-driven migration or more dynamically excited system evolution pathways. We report the discovery and characterization of a unique multi-planet system hosting three gas giant planets orbiting the post-main sequence star TOI-375. The innermost planet, TOI-375 b, was initially detected by the TESS mission and then confirmed with photometric follow-up observations conducted using MEarth and LCOGT, and radial velocity measurements obtained with FEROS and CHIRON. The radial velocity data revealed the presence of two additional planetary candidates, TOI-375 c and TOI-375 d. We find that TOI-375 b is a hot Jupiter with an orbital period of $9.45469 \\pm 0.00002$ days, mass $0.745 \\pm 0.053,M_\\mathrm{J}$, radius $0.961 \\pm 0.043, R_\\mathrm{J}$, and eccentricity $0.087 \\pm 0.042$. The outer two planets, TOI-375 c and TOI-375 d, are warm-cold and cold Jupiters with orbital periods of $115.5^{+2.0}_{-1.6}$ days and $297.9^{+28.9}_{-18.6}$ days, and minimum masses of $2.11 \\pm 0.22, M_\\mathrm{J}$ and $1.40 \\pm 0.28, M_\\mathrm{J}$, respectively. In terms of formation and overall system architecture, the physical properties of TOI-375 b are consistent with the core accretion scenario, while the current configuration of the system could be explained by both disk-driven and high-eccentricity migration scenarios. The discovery of TOI-375 as the first known system hosting three or more fully evolved gas giants, with at least one transiting planet, makes it an excellent candidate for testing formation and migration theories.         |"
      ],
      "text/plain": [
       "[2509.26430] A transiting hot Jupiter with two outer siblings orbiting an intermediate-mass post main-sequence star\n",
       "\tY. Reinarz, et al. -- incl., <mark>T. Henning</mark>"
      ]
     },
     "metadata": {},
     "output_type": "display_data"
    },
    {
     "data": {
      "text/markdown": [
       "\n",
       "|||\n",
       "|---:|:---|\n",
       "| [![arXiv](https://img.shields.io/badge/arXiv-2509.26617-b31b1b.svg)](https://arxiv.org/abs/2509.26617) | **Direct Measurement of Extinction in a Planet-Hosting Gap**  |\n",
       "|| G. Cugno, et al. -- incl., <mark>M. Benisty</mark> |\n",
       "|*Appeared on*| *2025-10-01*|\n",
       "|*Comments*| *Accepted for publication in AJ. 22 pages, 10 figures, 5 tables*|\n",
       "|**Abstract**|            Recent disk observations have revealed multiple indirect signatures of forming gas giant planets, but high-contrast imaging has rarely confirmed the presence of the suspected perturbers. Here, we exploit a unique opportunity provided by the background star AS209bkg, which shines through a wide annular gap in the AS209 disk, to perform transmission spectrophotometry and directly measure the extinction from gap material for the first time. By combining new VLT/SPHERE and JWST/NIRCam observations with archival HST data from 2005, we model the spectral energy distribution (SED) of AS209bkg over a 19-year baseline. We find that the SED and its variability are best explained by increasing extinction along the line of sight as AS209bkg approaches the gap edge in projection. The extinction is best described by a combination of ISM-like extinction component and a grey extinction component. This points to the presence of grains in the disk outer gap that are larger than in the ISM. We find that the extinction in the gap at $\\lambda\\sim4.0~\\mu$m is $A_{4\\,\\mu\\mathrm{m}} = 2.7^{+0.7}_{-0.7}$ mag, while at H$\\alpha$ ($\\lambda=0.656~\\mu$m), where most searches for accretion signatures take place, the extinction could be as high as $A_\\mathrm{H\\alpha} = 4.2^{+0.9}_{-1.2}$ mag ($A_V=4.6^{+1.0}_{-1.3}$ mag). This suggests that even wide, deep gaps can significantly obscure emission from protoplanets, even those following a hot-start evolutionary model. Our extinction measurements help reconcile the discrepancy between ALMA-based predictions of planet-disk interactions and the non-detections from sensitive optical and near-infrared imaging campaigns.         |"
      ],
      "text/plain": [
       "[2509.26617] Direct Measurement of Extinction in a Planet-Hosting Gap\n",
       "\tG. Cugno, et al. -- incl., <mark>M. Benisty</mark>"
      ]
     },
     "metadata": {},
     "output_type": "display_data"
    },
    {
     "data": {
      "text/markdown": [
       "## Failed papers"
      ],
      "text/plain": [
       "<IPython.core.display.Markdown object>"
      ]
     },
     "metadata": {},
     "output_type": "display_data"
    },
    {
     "data": {
      "text/markdown": [
       "\n",
       "|||\n",
       "|---:|:---|\n",
       "| [![arXiv](https://img.shields.io/badge/arXiv-2509.25317-b31b1b.svg)](https://arxiv.org/abs/2509.25317) | **The SRG/eROSITA All-Sky Survey. Detection of shock-heated gas beyond the halo boundary into the accretion region**  |\n",
       "|| <mark>X. Zhang</mark>, et al. |\n",
       "|*Appeared on*| *2025-10-01*|\n",
       "|*Comments*| *14 pages, 10 figures. Submitted to A&A*|\n",
       "|**Abstract**|            The hot gas in the outskirts of galaxy cluster-sized halos, extending around and beyond the virial radius into nearby accretion regions, remains among one of the least explored baryon components of large-scale cosmic structure. We present a stacking analysis of 680 galaxy clusters located in the western Galactic hemisphere, using data from the first two years of the SRG/eROSITA All-Sky Survey. The stacked X-ray surface brightness profile reveals a statistically significant signal extending out to 2r200m (~4.5 Mpc). The best-fit surface brightness profile is well described by a combination of terms describing orbiting and infalling gas, with a transition occurring around r200m. At this radius, the best-fit gas density is 2.5e-5 cm^-3, corresponding to a baryon overdensity of 30. By integrating the gas density profile out to r200m, we infer a gas fraction of 90% of the universal baryon fraction with the assumption of a typical halo concentration, indicating the completeness of the baryon budget within large radii. Additionally, we examine the hot gas distribution in massive clusters in the IllustrisTNG simulations from the halo center to the accretion region. This analysis reveals differences in radial gas profiles depending on whether the direction probes voids or nearby cosmic filaments. Beyond r200m, the density profile along the filament direction exceeds that along the void direction. This pattern aligns with the observed transition radius between the one-halo and two-halo terms, suggesting that r200m is the approximate radius marking the location at which cosmic filaments connect to galaxy clusters. Meanwhile, the comparisons of the gas density profile and gas fraction profile between the observation and the IllustrisTNG simulation suggest that the feedback processes in the stacking sample are more efficient than the IllustrisTNG model in distributing gas to large radii.         |\n",
       "|<p style=\"color:green\"> **ERROR** </p>| <p style=\"color:green\">affiliation error: mpia.affiliation_verifications: 'Heidelberg' keyword not found.</p> |"
      ],
      "text/plain": [
       "<IPython.core.display.Markdown object>"
      ]
     },
     "metadata": {},
     "output_type": "display_data"
    },
    {
     "data": {
      "text/markdown": [
       "\n",
       "|||\n",
       "|---:|:---|\n",
       "| [![arXiv](https://img.shields.io/badge/arXiv-2509.25335-b31b1b.svg)](https://arxiv.org/abs/2509.25335) | **The SAGA Survey. VI. The Size-Mass Relation for Low-Mass Galaxies Across Environments**  |\n",
       "|| Y. Asali, et al. -- incl., <mark>Y. Wang</mark> |\n",
       "|*Appeared on*| *2025-10-01*|\n",
       "|*Comments*| *30 pages, 14 figures, 2 tables*|\n",
       "|**Abstract**|            We investigate how Milky Way-like environments influence the sizes and structural properties of low-mass galaxies by comparing satellites of Milky Way analogs from the Satellites Around Galactic Analogs (SAGA) Survey with two control samples: an environmentally agnostic population from the SAGA background (SAGAbg) sample and isolated galaxies from the SDSS NASA-Sloan Atlas. All sizes and structural parameters are measured uniformly using pysersic to ensure consistency across samples. We find the half-light sizes of SAGA satellites are systematically larger than those of isolated galaxies, with the magnitude of the offset ranging from 0.05 to 0.12 dex (10-24%) depending on the comparison sample and completeness cuts. This corresponds to physical size differences between 85-200 pc at 10^7.5 solar masses and 220-960 pc at 10^10 solar masses. This offset persists among star-forming galaxies, suggesting that environment can influence the structure of low-mass galaxies even before it impacts quenching. The intrinsic scatter in the size-mass relation is lower for SAGA satellites than isolated galaxies, and the Sérsic index distributions of satellites and isolated galaxies are similar. In comparison to star-forming satellites, quenched SAGA satellites have a slightly shallower size-mass relation and rounder morphologies at low-mass, suggesting that quenching is accompanied by structural transformation and that the processes responsible differ between low- and high-mass satellites. Our results show that environmental processes can imprint measurable structural differences on satellites in Milky Way-mass halos.         |\n",
       "|<p style=\"color:green\"> **ERROR** </p>| <p style=\"color:green\">affiliation error: mpia.affiliation_verifications: 'Heidelberg' keyword not found.</p> |"
      ],
      "text/plain": [
       "<IPython.core.display.Markdown object>"
      ]
     },
     "metadata": {},
     "output_type": "display_data"
    },
    {
     "data": {
      "text/markdown": [
       "\n",
       "|||\n",
       "|---:|:---|\n",
       "| [![arXiv](https://img.shields.io/badge/arXiv-2509.25362-b31b1b.svg)](https://arxiv.org/abs/2509.25362) | **Machine Learning the Dark Matter Halo Mass of the Milky Way**  |\n",
       "|| E. Hayati, et al. -- incl., <mark>Y. Wang</mark> |\n",
       "|*Appeared on*| *2025-10-01*|\n",
       "|*Comments*| **|\n",
       "|**Abstract**|            Although numerous dynamical techniques have been developed to estimate the total dark matter halo mass of the Milky Way, it remains poorly constrained, with typical systematic uncertainties of 0.3 dex. In this study, we apply a neural network-based approach that achieves high mass precision without several limitations that have affected past approaches; for example, we do not assume dynamical equilibrium, nor do we assume that neighboring galaxies are bound satellites. Additionally, this method works for a broad mass range, including for halos that differ significantly from the Milky Way. Our model relies solely on observable dynamical quantities, such as satellite orbits, distances to larger nearby halos, and the maximum circular velocity of the most massive satellite. In this paper, we measure the halo mass of the Milky Way to be $\\log_{10} M_\\mathrm{vir}/\\Msun = 12.20^{+0.163}_{-0.138}$. Future studies in this series will extend this methodology to estimate the dark matter halo mass of M31, and develop new neural networks to infer additional halo properties including concentration, assembly history, and spin axis.         |\n",
       "|<p style=\"color:green\"> **ERROR** </p>| <p style=\"color:green\">affiliation error: mpia.affiliation_verifications: 'Heidelberg' keyword not found.</p> |"
      ],
      "text/plain": [
       "<IPython.core.display.Markdown object>"
      ]
     },
     "metadata": {},
     "output_type": "display_data"
    },
    {
     "data": {
      "text/markdown": [
       "\n",
       "|||\n",
       "|---:|:---|\n",
       "| [![arXiv](https://img.shields.io/badge/arXiv-2509.25610-b31b1b.svg)](https://arxiv.org/abs/2509.25610) | **Nonuniform Water Distribution in Jupiter's Mid Latitudes: Influence of Precipitation and Planetary Rotation**  |\n",
       "|| H. Ge, et al. -- incl., <mark>X. Zhang</mark> |\n",
       "|*Appeared on*| *2025-10-01*|\n",
       "|*Comments*| *Published in PNAS on Sep. 29, 2025 (this http URL). Movies can be found in this https URL. SI Appendix can be found on PNAS website*|\n",
       "|**Abstract**|            Knowing the composition of Jupiter's atmosphere is crucial for constraining Jupiter's bulk metallicity and formation history. Yet, constraining Jupiter's atmospheric water abundance is challenging due to its potential non-uniform distribution. Here, we explicitly resolve the water hydrological cycle in Jupiter's mid-latitudes using high-resolution simulations. Falling precipitation leads to a significant large-scale depletion of water vapor beneath the lifting condensation level. A non-uniform water vapor distribution emerges in the mid-latitude simulation with a changing Coriolis parameter across latitudes and spatially uniform cooling and heating. Water abundance at the 7-bar level varies by up to a factor of ten across latitudes, from sub-solar to super-solar values. We propose that nonlinear large-scale eddies and waves tend to drift air parcels across latitudes along constant potential vorticity (PV) surfaces, thereby sustaining latitudinal dependencies in water vapor and the interplay between water distribution and large-scale dynamics. Therefore, water distribution is influenced by the vertical structure of density stratification and changing Coriolis parameter across Jupiter's mid-latitudes, as quantified by PV. Additionally, the water hydrological cycle amplifies the specific energy of air parcels through the latent heat effect, thereby slowing down vertical mixing with a latent heat flux. The horizontal gradient of water is expected to be more pronounced with a super-solar water abundance. We suggest that similar interplays between precipitating condensates, planetary rotation, and distribution of condensable species generally exist in the weather layer of fast-rotating giant planets. The ongoing Juno mission and future Uranus mission may further reveal the non-uniform distribution of condensed species and their interplay with large-scale dynamics.         |\n",
       "|<p style=\"color:green\"> **ERROR** </p>| <p style=\"color:green\">affiliation error: mpia.affiliation_verifications: 'Heidelberg' keyword not found.</p> |"
      ],
      "text/plain": [
       "<IPython.core.display.Markdown object>"
      ]
     },
     "metadata": {},
     "output_type": "display_data"
    },
    {
     "data": {
      "text/markdown": [
       "\n",
       "|||\n",
       "|---:|:---|\n",
       "| [![arXiv](https://img.shields.io/badge/arXiv-2509.25726-b31b1b.svg)](https://arxiv.org/abs/2509.25726) | **The Simons Observatory: Studies of Phase Drift in RF Transmission Lines from the First Large-Scale Deployment of Microwave Frequency Multiplexing for Cosmology**  |\n",
       "|| T. P. Satterthwaite, et al. -- incl., <mark>Y. Wang</mark> |\n",
       "|*Appeared on*| *2025-10-01*|\n",
       "|*Comments*| *6 pages, 7 figures. Proceedings of the 21st International Conference on Low Temperature Detectors (LTD 2025)*|\n",
       "|**Abstract**|            Fulfilling the science goals of the Simons Observatory, a state-of-the-art cosmic microwave background (CMB) experiment, has required deploying tens of thousands of superconducting bolometers. Reading out data from the observatory's more than 67,000 transition-edge sensor (TES) detectors while maintaining cryogenic conditions requires an effective multiplexing scheme. The SLAC microresonator radio frequency (SMuRF) electronics have been developed to provide the warm electronics for a high-density microwave frequency multiplexing readout system, and this system has been shown to achieve multiplexing factors on the order of 1,000. SMuRF has recently been deployed to the Simons Observatory, which is located at 5,200 m on Cerro Toco in Chile's Atacama Desert. As the SMuRF system is exposed to the desert's diurnal temperature swings, resulting phase drift in RF transmission lines may introduce a systematic signal contamination. We present studies of phase drift in the room-temperature RF lines of the Simons Observatory's 6 m large-aperture telescope, which hosts the largest deployment to date of TES microwave frequency multiplexing to a single telescope. We show that these phase drifts occur on time scales which are significantly longer than sky scanning, and that their contribution to on-sky in-transition detector noise is within the readout noise budget.         |\n",
       "|<p style=\"color:green\"> **ERROR** </p>| <p style=\"color:green\">affiliation error: mpia.affiliation_verifications: 'Heidelberg' keyword not found.</p> |"
      ],
      "text/plain": [
       "<IPython.core.display.Markdown object>"
      ]
     },
     "metadata": {},
     "output_type": "display_data"
    },
    {
     "data": {
      "text/markdown": [
       "\n",
       "|||\n",
       "|---:|:---|\n",
       "| [![arXiv](https://img.shields.io/badge/arXiv-2509.26283-b31b1b.svg)](https://arxiv.org/abs/2509.26283) | **On the Ultra-Long Gamma-Ray Transient GRB 250702B/EP250702**  |\n",
       "|| J.-P. Zhang, et al. -- incl., <mark>Y. Wang</mark> |\n",
       "|*Appeared on*| *2025-10-01*|\n",
       "|*Comments*| *16 pages, 6 figures. Originally submitted to ApJL on September 2, 2025. Comments welcome!*|\n",
       "|**Abstract**|            GRB 250702B/EP250702a is an interesting long-duration gamma-ray transient whose nature is in debate. To obtain a full picture in gamma-ray band, we implement a comprehensive targeted search of burst emission in a wide window of 30 days jointly with Insight-HXMT, GECAM and Fermi/GBM data within the ETJASMIN framework. In gamma-ray band, we find there is a 50-second precursor about 25 hours before the 4-hour main burst, which generally consists of 4 emission episodes. Remarkably, we find that the soft X-ray emission (after the main burst) decays as a power-law with start time aligning with the last episode of main emission and index of -5/3 perfectly consistent with the canonical prediction of fallback accretion. We conclude that the properties of precursor, main burst and the following soft X-ray emission strongly support the atypical collapsar Ultra-Long Gamma-Ray Burst (ULGRB) scenario rather than the Tidal Disruption Event (TDE), and all these gamma-ray and soft X-ray emission probably originate from relativistic jet whose luminosity is dominated by the fallback accretion rate during the death collapse of a supergiant star.         |\n",
       "|<p style=\"color:green\"> **ERROR** </p>| <p style=\"color:green\">affiliation error: mpia.affiliation_verifications: 'Heidelberg' keyword not found.</p> |"
      ],
      "text/plain": [
       "<IPython.core.display.Markdown object>"
      ]
     },
     "metadata": {},
     "output_type": "display_data"
    }
   ],
   "source": [
    "import datetime\n",
    "today = str(datetime.date.today())\n",
    "logfile = f\"_build/html/logs/log-{today}.md\"\n",
    "\n",
    "\n",
    "with open(logfile, 'w') as logs:\n",
    "    # Success\n",
    "    logs.write(f'# Arxiv on Deck 2: Logs - {today}\\n\\n')\n",
    "    logs.write(\"\"\"* Arxiv had {0:,d} new papers\\n\"\"\".format(len(new_papers)))\n",
    "    logs.write(\"\"\"    * {0:,d} with possible author matches\\n\\n\"\"\".format(len(candidates)))\n",
    "    logs.write(\"## Sucessful papers\\n\\n\")\n",
    "    display(Markdown(\"## Successful papers\"))\n",
    "    success = [k[0] for k in documents]\n",
    "    for candid in candidates:\n",
    "        if candid['identifier'].split(':')[-1] in success:\n",
    "            display(candid)\n",
    "            logs.write(candid.generate_markdown_text() + '\\n\\n')\n",
    "\n",
    "    ## failed\n",
    "    logs.write(\"## Failed papers\\n\\n\")\n",
    "    display(Markdown(\"## Failed papers\"))\n",
    "    failed = sorted(failed, key=lambda x: x[1])\n",
    "    current_reason = \"\"\n",
    "    for paper, reason in failed:\n",
    "        if 'affiliation' in reason:\n",
    "            color = 'green'\n",
    "        else:\n",
    "            color = 'red'\n",
    "        data = Markdown(\n",
    "                paper.generate_markdown_text() + \n",
    "                f'\\n|<p style=\"color:{color:s}\"> **ERROR** </p>| <p style=\"color:{color:s}\">{reason:s}</p> |'\n",
    "               )\n",
    "        if reason != current_reason:\n",
    "            logs.write(f'### {reason:s} \\n\\n')\n",
    "            current_reason = reason\n",
    "        logs.write(data.data + '\\n\\n')\n",
    "        \n",
    "        # only display here the important errors (all in logs)\n",
    "        # if color in ('red',):\n",
    "        display(data)"
   ]
  },
  {
   "cell_type": "markdown",
   "id": "472d20ee",
   "metadata": {
    "papermill": {
     "duration": 0.005656,
     "end_time": "2025-10-01T04:15:14.887067",
     "exception": false,
     "start_time": "2025-10-01T04:15:14.881411",
     "status": "completed"
    },
    "tags": []
   },
   "source": [
    "## Export documents\n",
    "\n",
    "We now write the .md files and export relevant images"
   ]
  },
  {
   "cell_type": "code",
   "execution_count": 7,
   "id": "d426aed9",
   "metadata": {
    "execution": {
     "iopub.execute_input": "2025-10-01T04:15:14.899393Z",
     "iopub.status.busy": "2025-10-01T04:15:14.899151Z",
     "iopub.status.idle": "2025-10-01T04:15:14.906254Z",
     "shell.execute_reply": "2025-10-01T04:15:14.905603Z"
    },
    "papermill": {
     "duration": 0.014556,
     "end_time": "2025-10-01T04:15:14.907313",
     "exception": false,
     "start_time": "2025-10-01T04:15:14.892757",
     "status": "completed"
    },
    "tags": []
   },
   "outputs": [],
   "source": [
    "def export_markdown_summary(md: str, md_fname:str, directory: str):\n",
    "    \"\"\"Export MD document and associated relevant images\"\"\"\n",
    "    import os\n",
    "    import shutil\n",
    "    import re\n",
    "\n",
    "    if (os.path.exists(directory) and not os.path.isdir(directory)):\n",
    "        raise RuntimeError(f\"a non-directory file exists with name {directory:s}\")\n",
    "\n",
    "    if (not os.path.exists(directory)):\n",
    "        print(f\"creating directory {directory:s}\")\n",
    "        os.mkdir(directory)\n",
    "\n",
    "    fig_fnames = (re.compile(r'\\[Fig.*\\]\\((.*)\\)').findall(md) + \n",
    "                  re.compile(r'\\<img src=\"([^>\\s]*)\"[^>]*/>').findall(md))\n",
    "    print(\"found figures\", fig_fnames)\n",
    "    for fname in fig_fnames:\n",
    "        if 'http' in fname:\n",
    "            # No need to copy online figures\n",
    "            continue\n",
    "        if not os.path.exists(fname):\n",
    "            print(\"file not found\", fname)\n",
    "            continue\n",
    "        print(\"copying \", fname, \"to\", directory)\n",
    "        destdir = os.path.join(directory, os.path.dirname(fname))\n",
    "        destfname = os.path.join(destdir, os.path.basename(fname))\n",
    "        try:\n",
    "            os.makedirs(destdir)\n",
    "        except FileExistsError:\n",
    "            pass\n",
    "        shutil.copy(fname, destfname)\n",
    "    with open(os.path.join(directory, md_fname), 'w') as fout:\n",
    "        fout.write(md)\n",
    "    print(\"exported in \", os.path.join(directory, md_fname))\n",
    "    [print(\"    + \" + os.path.join(directory,fk)) for fk in fig_fnames]"
   ]
  },
  {
   "cell_type": "code",
   "execution_count": 8,
   "id": "014d04a4",
   "metadata": {
    "execution": {
     "iopub.execute_input": "2025-10-01T04:15:14.919351Z",
     "iopub.status.busy": "2025-10-01T04:15:14.919166Z",
     "iopub.status.idle": "2025-10-01T04:15:14.962562Z",
     "shell.execute_reply": "2025-10-01T04:15:14.961831Z"
    },
    "papermill": {
     "duration": 0.05054,
     "end_time": "2025-10-01T04:15:14.963616",
     "exception": false,
     "start_time": "2025-10-01T04:15:14.913076",
     "status": "completed"
    },
    "tags": []
   },
   "outputs": [
    {
     "name": "stdout",
     "output_type": "stream",
     "text": [
      "found figures ['tmp_2509.25314/./figure_panel_shock/Panel_Shock_1.png', 'tmp_2509.25314/./figure_panel_shock/Panel_Shock_2.png', 'tmp_2509.25314/./figures/Demographics.png', 'tmp_2509.25314/./figures/Demographics_pie.png', 'tmp_2509.25314/./figures/Power_Lcool_Cum_Each.png', 'tmp_2509.25314/./figures/Power_Lcool_Cum_Total.png']\n",
      "copying  tmp_2509.25314/./figure_panel_shock/Panel_Shock_1.png to _build/html/\n",
      "copying  tmp_2509.25314/./figure_panel_shock/Panel_Shock_2.png to _build/html/\n",
      "copying  tmp_2509.25314/./figures/Demographics.png to _build/html/\n",
      "copying  tmp_2509.25314/./figures/Demographics_pie.png to _build/html/\n",
      "copying  tmp_2509.25314/./figures/Power_Lcool_Cum_Each.png to _build/html/\n",
      "copying  tmp_2509.25314/./figures/Power_Lcool_Cum_Total.png to _build/html/\n",
      "exported in  _build/html/2509.25314.md\n",
      "    + _build/html/tmp_2509.25314/./figure_panel_shock/Panel_Shock_1.png\n",
      "    + _build/html/tmp_2509.25314/./figure_panel_shock/Panel_Shock_2.png\n",
      "    + _build/html/tmp_2509.25314/./figures/Demographics.png\n",
      "    + _build/html/tmp_2509.25314/./figures/Demographics_pie.png\n",
      "    + _build/html/tmp_2509.25314/./figures/Power_Lcool_Cum_Each.png\n",
      "    + _build/html/tmp_2509.25314/./figures/Power_Lcool_Cum_Total.png\n",
      "found figures ['tmp_2509.25338/./IMAGES/rv_evo.png', 'tmp_2509.25338/./IMAGES/ALL_spec_CRIRES.png', 'tmp_2509.25338/./IMAGES/PT_clouds_merged.png']\n",
      "copying  tmp_2509.25338/./IMAGES/rv_evo.png to _build/html/\n",
      "copying  tmp_2509.25338/./IMAGES/ALL_spec_CRIRES.png to _build/html/\n",
      "copying  tmp_2509.25338/./IMAGES/PT_clouds_merged.png to _build/html/\n",
      "exported in  _build/html/2509.25338.md\n",
      "    + _build/html/tmp_2509.25338/./IMAGES/rv_evo.png\n",
      "    + _build/html/tmp_2509.25338/./IMAGES/ALL_spec_CRIRES.png\n",
      "    + _build/html/tmp_2509.25338/./IMAGES/PT_clouds_merged.png\n",
      "found figures ['tmp_2509.26033/./altitude.png', 'tmp_2509.26033/./true-width.png', 'tmp_2509.26033/./lines-over-13co.png', 'tmp_2509.26033/./profile100.png']\n",
      "copying  tmp_2509.26033/./altitude.png to _build/html/\n",
      "copying  tmp_2509.26033/./true-width.png to _build/html/\n",
      "copying  tmp_2509.26033/./lines-over-13co.png to _build/html/\n",
      "copying  tmp_2509.26033/./profile100.png to _build/html/\n",
      "exported in  _build/html/2509.26033.md\n",
      "    + _build/html/tmp_2509.26033/./altitude.png\n",
      "    + _build/html/tmp_2509.26033/./true-width.png\n",
      "    + _build/html/tmp_2509.26033/./lines-over-13co.png\n",
      "    + _build/html/tmp_2509.26033/./profile100.png\n",
      "found figures ['tmp_2509.26430/./figures/HR_diagram_GHSs.png', 'tmp_2509.26430/./figures/lcs_trim.png', 'tmp_2509.26430/./figures/soar.png']\n",
      "copying  tmp_2509.26430/./figures/HR_diagram_GHSs.png to _build/html/\n",
      "copying  tmp_2509.26430/./figures/lcs_trim.png to _build/html/\n",
      "copying  tmp_2509.26430/./figures/soar.png to _build/html/\n",
      "exported in  _build/html/2509.26430.md\n",
      "    + _build/html/tmp_2509.26430/./figures/HR_diagram_GHSs.png\n",
      "    + _build/html/tmp_2509.26430/./figures/lcs_trim.png\n",
      "    + _build/html/tmp_2509.26430/./figures/soar.png\n",
      "found figures ['tmp_2509.26617/./Spectra_all.png', 'tmp_2509.26617/./Proper_motion.png', 'tmp_2509.26617/./Proper_motion_AS209.png', 'tmp_2509.26617/./Spectra_ep2005_all.png']\n",
      "copying  tmp_2509.26617/./Spectra_all.png to _build/html/\n",
      "copying  tmp_2509.26617/./Proper_motion.png to _build/html/\n",
      "copying  tmp_2509.26617/./Proper_motion_AS209.png to _build/html/\n",
      "copying  tmp_2509.26617/./Spectra_ep2005_all.png to _build/html/\n",
      "exported in  _build/html/2509.26617.md\n",
      "    + _build/html/tmp_2509.26617/./Spectra_all.png\n",
      "    + _build/html/tmp_2509.26617/./Proper_motion.png\n",
      "    + _build/html/tmp_2509.26617/./Proper_motion_AS209.png\n",
      "    + _build/html/tmp_2509.26617/./Spectra_ep2005_all.png\n"
     ]
    }
   ],
   "source": [
    "for paper_id, md in documents:\n",
    "    export_markdown_summary(md, f\"{paper_id:s}.md\", '_build/html/')"
   ]
  },
  {
   "cell_type": "markdown",
   "id": "f087a0a7",
   "metadata": {
    "papermill": {
     "duration": 0.005766,
     "end_time": "2025-10-01T04:15:14.975574",
     "exception": false,
     "start_time": "2025-10-01T04:15:14.969808",
     "status": "completed"
    },
    "tags": []
   },
   "source": [
    "## Display the papers\n",
    "\n",
    "Not necessary but allows for a quick check."
   ]
  },
  {
   "cell_type": "code",
   "execution_count": 9,
   "id": "fd25f625",
   "metadata": {
    "execution": {
     "iopub.execute_input": "2025-10-01T04:15:14.987848Z",
     "iopub.status.busy": "2025-10-01T04:15:14.987632Z",
     "iopub.status.idle": "2025-10-01T04:15:14.997505Z",
     "shell.execute_reply": "2025-10-01T04:15:14.996797Z"
    },
    "papermill": {
     "duration": 0.01722,
     "end_time": "2025-10-01T04:15:14.998596",
     "exception": false,
     "start_time": "2025-10-01T04:15:14.981376",
     "status": "completed"
    },
    "scrolled": false,
    "tags": []
   },
   "outputs": [
    {
     "data": {
      "text/markdown": [
       "<div class=\"macros\" style=\"visibility:hidden;\">\n",
       "$\\newcommand{\\ensuremath}{}$\n",
       "$\\newcommand{\\xspace}{}$\n",
       "$\\newcommand{\\object}[1]{\\texttt{#1}}$\n",
       "$\\newcommand{\\farcs}{{.}''}$\n",
       "$\\newcommand{\\farcm}{{.}'}$\n",
       "$\\newcommand{\\arcsec}{''}$\n",
       "$\\newcommand{\\arcmin}{'}$\n",
       "$\\newcommand{\\ion}[2]{#1#2}$\n",
       "$\\newcommand{\\textsc}[1]{\\textrm{#1}}$\n",
       "$\\newcommand{\\hl}[1]{\\textrm{#1}}$\n",
       "$\\newcommand{\\footnote}[1]{}$\n",
       "$\\newcommand{\\msun}{ M_{\\odot}}$\n",
       "$\\newcommand{\\kpc}{{\\rm kpc}}$\n",
       "$\\newcommand\\francesco{#1}$\n",
       "$\\newcommand\\julie{#1}$\n",
       "$\\newcommand\\annalisa{#1}$</div>\n",
       "\n",
       "\n",
       "\n",
       "<div id=\"title\">\n",
       "\n",
       "# ${X-ray shocks in the cool cores of galaxy clusters: insights from TNG-Cluster}$\n",
       "\n",
       "</div>\n",
       "<div id=\"comments\">\n",
       "\n",
       "[![arXiv](https://img.shields.io/badge/arXiv-2509.25314-b31b1b.svg)](https://arxiv.org/abs/2509.25314)<mark>Appeared on: 2025-10-01</mark> -  _Accepted to MNRAS. The data of the TNG-Cluster simulation is now fully public and accessible at this URL this https URL_\n",
       "\n",
       "</div>\n",
       "<div id=\"authors\">\n",
       "\n",
       "M. Prunier, F. Ubertosi, J. Hlavacek-Larrondo, <mark>A. Pillepich</mark>\n",
       "\n",
       "</div>\n",
       "<div id=\"abstract\">\n",
       "\n",
       "**Abstract:** Shock fronts driven by active galactic nuclei in galaxy cluster cores represent a promising mechanism to heat the intracluster gas by converting kinetic energy into thermal energy through gas compression, thereby offsetting radiative cooling. Despite their potential importance, such shocks are challenging to detect, requiring deep X-ray exposures, and have only been identified in ${ten massive clusters}$ . We present the first systematic detection and characterization of AGN-driven shocks in simulated clusters from the TNG-Cluster magnetohydrodynamic cosmological zoom-in simulations of galaxies. TNG-Cluster exhibits a rich variety of spatially-resolved X-ray structures, including realistic populations of X-ray cavities, as well as shocks, ${produced by its AGN feedback model, without collimated, relativistic jets, nor cosmic rays.}$ We produce mock _Chandra_ observations with deep, 600-ks exposure times, for a selected sample of 100 clusters, mass-matched (M $_\\text{500c}=1.2$ - $8.5 \\times 10^{14}$ M $_\\odot$ ) to the ten observed clusters with shocks. Using observational techniques, we identify shocks through surface brightness edges fitted with broken power laws and associated density and temperature jumps. We detect 50 shocks in 30 of the 100 clusters, with $\\sim$ 35 per cent hosting multiple shocks. These shocks typically lie within a hundred kiloparsec of the central SMBH, are weak (Mach number $<$ 2, median $\\sim$ 1.1), and ${are associated with X-ray cavities in about half of the cases.}$ Both in observations and in TNG-Cluster, shocks tend to be located at larger radii than cavities, with median offsets of 46 kpc and 27 kpc, respectively. The observationally inferred shock powers are comparable to the cluster cooling luminosities (10 $^{44-46}$ erg s $^{-1}$ ), suggesting that shocks in the simulation are a crucial heating mechanism. Our results ${indicate}$ that shocks play a role as important as cavities in balancing cooling in cluster cores, acting isotropically and up to larger distances.\n",
       "\n",
       "</div>\n",
       "\n",
       "<div id=\"div_fig1\">\n",
       "\n",
       "<img src=\"tmp_2509.25314/./figure_panel_shock/Panel_Shock_1.png\" alt=\"Fig6.1\" width=\"50%\"/><img src=\"tmp_2509.25314/./figure_panel_shock/Panel_Shock_2.png\" alt=\"Fig6.2\" width=\"50%\"/>\n",
       "\n",
       "**Figure 6. -** Gallery of {simulated galaxy clusters from TNG-Cluster} exhibiting X-ray shocks. Mock _Chandra_ surface brightness images of the central $200\\times200$ kpc region of six selected clusters in TNG-Cluster, alongside images processed with unsharp masking or Gaussian gradient magnitude filters to highlight the shock fronts. Images are centered on the AGN position. White dashed arrows mark identified shock fronts, while the green arrow points the specific shock for which we show, in Fig. \\ref{fig:panel_shocks_fit_temp_jump}, the surface brightness profile and associated temperature jump. The gallery illustrates the diversity of AGN-driven shocks in TNG-Cluster cores, including features located at cavity edges or at larger radii, and exhibiting a range of morphologies, from arc-like fronts with varying opening angles to complete ellipses. (*fig:panel_shocks*)\n",
       "\n",
       "</div>\n",
       "<div id=\"div_fig2\">\n",
       "\n",
       "<img src=\"tmp_2509.25314/./figures/Demographics.png\" alt=\"Fig8.1\" width=\"50%\"/><img src=\"tmp_2509.25314/./figures/Demographics_pie.png\" alt=\"Fig8.2\" width=\"50%\"/>\n",
       "\n",
       "**Figure 8. -** Demographics of clusters with and without identified shocks and X-ray cavities in the TNG-Cluster subsample of 100 clusters (at snapshot 99). _Left:_ Distribution of the number of shocks (mint green) or X-ray cavities (gray) per cluster, showing the percentage of clusters with none, one, two, three, or four detected features. _Right:_ Among the 45 clusters with at least one identified shock or cavity, the fraction hosting only shocks, only cavities, or both. Shocks are detected in 30 out of the 100 clusters in our subsample, indicating that they are {reasonably} common features in simulated clusters. While shocks frequently appear in clusters that also host X-ray cavities, about 18\\% of the detected shocks are found in clusters where no cavities were previously identified in Prunier2025a. (*fig:panel*)\n",
       "\n",
       "</div>\n",
       "<div id=\"div_fig3\">\n",
       "\n",
       "<img src=\"tmp_2509.25314/./figures/Power_Lcool_Cum_Each.png\" alt=\"Fig10.1\" width=\"50%\"/><img src=\"tmp_2509.25314/./figures/Power_Lcool_Cum_Total.png\" alt=\"Fig10.2\" width=\"50%\"/>\n",
       "\n",
       "**Figure 10. -** _Left:_ Total shock (P$_\\text{shock,tot}$) and X-ray cavity power (P$_\\text{cav,tot}$) vs. cooling luminosity (L$_\\text{cool}$, for a cooling radius of 7.7 Gyr) for the 45 clusters with either identified shock or X-ray cavities (or both) in the TNG-Cluster sample (mint green circle, respectively, blue square markers) and the observational sample (values from the literature see Table \\ref{tab:shocks}). Each point represents the sum of shocks or X-ray cavities in the considered system. The dashed gray diagonal marks the 1:1 correlation between power and cooling luminosity. The side histograms display the distribution of each quantity, with the median. _Right:_ Total power from the summed shock(s) and X-ray cavity(ies) vs. cooling luminosity for each of the 22 clusters hosting both, and for the observational sample (triangle). In the TNG-Cluster sample, the distributions of shock and cavity power are similar and generally comparable to the cooling luminosity. For clusters with both features, the total power typically exceeds L$_\\text{cool}$ by a factor of 1 to 10, which is lower than in most observed systems (10 to 100 $\\times$ L$_\\text{cool}$).  (*fig:pcav_pshock_lcool*)\n",
       "\n",
       "</div><div id=\"qrcode\"><img src=https://api.qrserver.com/v1/create-qr-code/?size=100x100&data=\"https://arxiv.org/abs/2509.25314\"></div>"
      ],
      "text/plain": [
       "<IPython.core.display.Markdown object>"
      ]
     },
     "metadata": {},
     "output_type": "display_data"
    },
    {
     "data": {
      "text/markdown": [
       "<div class=\"macros\" style=\"visibility:hidden;\">\n",
       "$\\newcommand{\\ensuremath}{}$\n",
       "$\\newcommand{\\xspace}{}$\n",
       "$\\newcommand{\\object}[1]{\\texttt{#1}}$\n",
       "$\\newcommand{\\farcs}{{.}''}$\n",
       "$\\newcommand{\\farcm}{{.}'}$\n",
       "$\\newcommand{\\arcsec}{''}$\n",
       "$\\newcommand{\\arcmin}{'}$\n",
       "$\\newcommand{\\ion}[2]{#1#2}$\n",
       "$\\newcommand{\\textsc}[1]{\\textrm{#1}}$\n",
       "$\\newcommand{\\hl}[1]{\\textrm{#1}}$\n",
       "$\\newcommand{\\footnote}[1]{}$\n",
       "$\\newcommand{\\Rjup}{\\ensuremath{\\mathrm{R_{Jup}}}\\xspace}$\n",
       "$\\newcommand{\\MJup}{\\ensuremath{\\mathrm{M_{Jup}}}\\xspace}$\n",
       "$\\newcommand{\\Teff}{\\ensuremath{\\mathrm{T_{eff}}}\\xspace}$\n",
       "$\\newcommand{\\Mjup}{\\MJup}$\n",
       "$\\newcommand{\\Msun}{\\ensuremath{\\mathrm{M_{\\odot}}}}$\n",
       "$\\newcommand{\\kms}{km/s\\xspace}$\n",
       "$\\newcommand{\\um}{\\upmum\\xspace}$\n",
       "$\\newcommand{\\Mdot}{\\ensuremath{\\dot{\\textrm{M}}}}$\n",
       "$\\newcommand{\\arraystretch}{1.5}$\n",
       "$\\newcommand{\\arraystretch}{1.5}$\n",
       "$\\newcommand{\\arraystretch}{1.5}$\n",
       "$\\newcommand{\\arraystretch}{1.5}$\n",
       "$\\newcommand{\\arraystretch}{1.5}$\n",
       "$\\newcommand{\\arraystretch}{1.5}$\n",
       "$\\newcommand{\\arraystretch}{1.5}$\n",
       "$\\newcommand{\\arraystretch}{1}$\n",
       "$\\newcommand{\\arraystretch}{1.5}$\n",
       "$\\newcommand{\\arraystretch}{1.5}$\n",
       "$\\newcommand{\\arraystretch}{1.5}$\n",
       "$\\newcommand{\\arraystretch}{1.5}$</div>\n",
       "\n",
       "\n",
       "\n",
       "<div id=\"title\">\n",
       "\n",
       "# Multi-modal atmospheric characterization of $\\beta$ Pictoris b: Adding high-resolution continuum spectra from GRAVITY\n",
       "\n",
       "</div>\n",
       "<div id=\"comments\">\n",
       "\n",
       "[![arXiv](https://img.shields.io/badge/arXiv-2509.25338-b31b1b.svg)](https://arxiv.org/abs/2509.25338)<mark>Appeared on: 2025-10-01</mark> -  _Accepted for publication in A&A_\n",
       "\n",
       "</div>\n",
       "<div id=\"authors\">\n",
       "\n",
       "<mark>M. Ravet</mark>, et al. -- incl., <mark>G. Chauvin</mark>\n",
       "\n",
       "</div>\n",
       "<div id=\"abstract\">\n",
       "\n",
       "**Abstract:** The characterization of giant exoplanets such as $\\beta$ Pictoris b (hereafter $\\beta$ Pic b)  is now routinely performed with multiple spectrographs and imagers  exploring different spectral bandwidths and resolutions, allowing for atmospheric retrieval of spectra with or without the conservation of the planet spectral continuum. The accounting of data multi-modality in the analysis can provide a more comprehensive determination of the planets physical and chemical properties and inform on their formation history. We present the first VLTI observations at R $_{\\lambda}\\sim$ 4 000 of $\\beta$ Pic b, the first obtained on an exoplanet with GRAVITY at such resolution. We upgrade the forward modelling code \\texttt{_ForMoSA_} to account for the data multi-modality, including low- medium- and high-resolution spectroscopy both based on direct model-data comparison and the analysis of cross-correlation signals. We use \\texttt{_ForMoSA_} to refine the constraints on the atmospheric properties of the exoplanet and evaluate the sensitivity on the retrieved values to the input dataset. We obtain four high signal-to-noise (S/N $\\sim$ 20) spectra of $\\beta$ Pic b at K-band with GRAVITY at R $_{\\lambda}\\sim$ 4 000 conserving both the pseudo-continuum and the pattern of molecular absorptions. We use \\texttt{_ForMoSA_} with four grids of self-consistent forward models (Exo-REM, ATMO, BT-Settl, and Sonora) exploring different $\\Teff$ , log(g), metallicity,  C/O, and $^{12}$ CO/ $^{13}$ CO ratio. We then combine the GRAVITY spectra with published 1-5 µm photometry (NaCo, VisAO, NICI, SPHERE), low- to medium- resolution ( $R_{\\lambda} \\leq 700$ broad band, 0.9-7 µm) spectra, and echelle spectra covering narrower bandwidths ( $R_{\\lambda}\\sim$ 100 000, 2.1-5.2 µm). Sonora and Exo-REM are statistically preferred among all four models, regardless of the dataset used. Exo-REM predicts $\\Teff$  $=1607.45^{+4.85}_{-6.20}$ K and log(g) $=4.46^{+0.02}_{-0.04}$ dex when using only the GRAVITY epochs and $\\Teff$  $=1502.74^{+2.32}_{-2.14}$ K and log(g) $=4.00\\pm0.01$ dex when incorporating all available datasets. The inclusion of archival data significantly affects all retrieved posteriors. Using all datasets, C/O mostly remains solar (C/O = $0.552^{+0.003}_{-0.002}$ ) while [ M/H ] reaches super-solar values (0.50 $\\pm$ 0.01). We report the first tentative constrain on the isotopic ratio log( $^{12}$ CO/ $^{13}$ CO) = 1.12 $^{+0.11}_{-0.08}$ in $\\beta$ Pic b's atmosphere; however, this detection remains inconclusive due to telluric residuals affecting both the GRAVITY and SINFONI data. Additionally, we estimate the bolometric luminosity as log(L/L $\\mathrm{_{\\odot}}$ ) = -4.01 $^{+0.04}_{-0.05}$ dex. Using a system age of 23 $\\pm$ 3 Myr, this bolometric luminosity and the constraints on the dynamical mass of $\\beta$ Pic b we constrain the maximum of heavy-element content of the planet to be on the order of 5 \\% (20-80 $\\ensuremath{\\mathrm{M_{Earth}}}$ $\\xspace$ ). The joint access to the pseudo-continuum and molecular lines at K-band as provided by GRAVITY have a significant impact on the retrieved metallicity, possibly owing to the collision-induced absorption driving the continuum shape of K-band. Echelle spectra do not dominate the final fit with respect to lower resolution data covering a broader portion of the spectral energy distribution and the latter keeps encapsulating more robust information on $\\Teff$ . Future multi-modal framework should include a weighting scheme accounting for the bandwidth and central wavelength of the observations.\n",
       "\n",
       "</div>\n",
       "\n",
       "<div id=\"div_fig1\">\n",
       "\n",
       "<img src=\"tmp_2509.25338/./IMAGES/rv_evo.png\" alt=\"Fig5\" width=\"100%\"/>\n",
       "\n",
       "**Figure 5. -** Orbital predictions from lacour_mass_2021 (dotted line) vs. retrieved radial velocities (colored bars) for each epoch,  using forward modeling (here BT-Settl). The four GRAVITY epochs were fitted in parallel using MOSAIC,  and we can see that the observation on the 2019/11/09 is significantly shifted. (*all_rvs*)\n",
       "\n",
       "</div>\n",
       "<div id=\"div_fig2\">\n",
       "\n",
       "<img src=\"tmp_2509.25338/./IMAGES/ALL_spec_CRIRES.png\" alt=\"Fig15\" width=\"100%\"/>\n",
       "\n",
       "**Figure 15. -** Results of the forward modeling of $\\beta$ Pic b using the most recent spectro/photometric observations of the planet (including CRIRES$_+$) using BT-Settl. _Top panel:_ spectra (points) and photometry (squares) of $\\beta$ Pic b alongside a R$_{\\lambda\\sim$ 4 000 spectrum extracted using the best fit parameters for the inversion. Observations have been re-normalized using the analytic scaling factors computed during the inversion. Associated residuals are shown below. Dotted lines represents the $\\pm\\sigma$ (68$\\%$) confidence interval. _Bottom sub-panels:_ zoom versions of the top panel on GRAVITY (upper left), SINFONI (upper right), CRIRES$_+$-K (lower left) and CRIRES$_+$-M (lower right). Similarly to landman__2024, each CRIRES$_+$ spectra are shown smoothed by their retrieved broadening to show the planet features more clearly.} (*ALL_MOSAIC_CRIRES_spec*)\n",
       "\n",
       "</div>\n",
       "<div id=\"div_fig3\">\n",
       "\n",
       "<img src=\"tmp_2509.25338/./IMAGES/PT_clouds_merged.png\" alt=\"Fig3\" width=\"100%\"/>\n",
       "\n",
       "**Figure 3. -** Retrieved best-fit pressure-temperature profiles when using GRAVITY (light blue) and all datasets except CRIRES$_+$ (dark blue) for Exo-REM forward modeling. Shaded regions represent the 1 and 2 $\\sigma$ confidence interval, respectively. They are compared with the cloud opacities of $Mg_2SiO_4$ (dashed brown) and Fe (dashed gray) defined as $d\\tau=\\sigma_c n dz$ with $\\sigma_c$ the effective extinction cross-section of the cloud (in m$^2$), $n$ its concentration (in particles/m$^3$) and $dz$ the thickness of the atmospheric layer (in m). The red curve represents the photosphere (region from which most thermal emission originates). In practice, we used a similar approach as charnay_self-consistent_2018 and constrained the pressure-temperature between the minimum and maximum of the brightness temperature computed between 0.625 to 10 µm. (*Free_MOSAIC_PT*)\n",
       "\n",
       "</div><div id=\"qrcode\"><img src=https://api.qrserver.com/v1/create-qr-code/?size=100x100&data=\"https://arxiv.org/abs/2509.25338\"></div>"
      ],
      "text/plain": [
       "<IPython.core.display.Markdown object>"
      ]
     },
     "metadata": {},
     "output_type": "display_data"
    },
    {
     "data": {
      "text/markdown": [
       "<div class=\"macros\" style=\"visibility:hidden;\">\n",
       "$\\newcommand{\\ensuremath}{}$\n",
       "$\\newcommand{\\xspace}{}$\n",
       "$\\newcommand{\\object}[1]{\\texttt{#1}}$\n",
       "$\\newcommand{\\farcs}{{.}''}$\n",
       "$\\newcommand{\\farcm}{{.}'}$\n",
       "$\\newcommand{\\arcsec}{''}$\n",
       "$\\newcommand{\\arcmin}{'}$\n",
       "$\\newcommand{\\ion}[2]{#1#2}$\n",
       "$\\newcommand{\\textsc}[1]{\\textrm{#1}}$\n",
       "$\\newcommand{\\hl}[1]{\\textrm{#1}}$\n",
       "$\\newcommand{\\footnote}[1]{}$\n",
       "$\\newcommand{\\vlsr}{v_{\\rm lsr}}$\n",
       "$\\newcommand{\\kms}{km s^{-1}}$\n",
       "$\\newcommand{\\Lsun}{L_\\odot}$\n",
       "$\\newcommand{\\mdot}{\\dot{M}}$\n",
       "$\\newcommand{\\Msun}{ \\mathrm{M}_\\odot}$\n",
       "$\\newcommand{\\Msunpyr}{\\unit{M_\\odot yr^{-1}}}$\n",
       "$\\newcommand{\\coto}{\\mbox{CO(2--1)}}$\n",
       "$\\newcommand{\\cott}{\\mbox{CO(3--2)}}$\n",
       "$\\newcommand{\\tcott}{\\mbox{^{13}CO(2--1)}}$\n",
       "$\\newcommand{\\csff}{\\mbox{CS(5--4)}}$\n",
       "$\\newcommand{\\csss}{\\mbox{CS(7--6)}}$\n",
       "$\\newcommand{\\cnto}{\\mbox{CN(2--1)}}$\n",
       "$\\newcommand{\\cntt}{\\mbox{CN(3--2)}}$\n",
       "$\\newcommand{\\textsg}[1]{\\textcolor{red}{SGu: #1}}$\n",
       "$\\newcommand{\\textad}[1]{\\textcolor{magenta}{ADu: #1}}$\n",
       "$\\newcommand{\\textds}[1]{\\textcolor{blue}{DS: #1}}$</div>\n",
       "\n",
       "\n",
       "\n",
       "<div id=\"title\">\n",
       "\n",
       "# Edge-On Disk Study (EODS) III: Molecular Stratification in the Flying Saucer Disk\n",
       "\n",
       "</div>\n",
       "<div id=\"comments\">\n",
       "\n",
       "[![arXiv](https://img.shields.io/badge/arXiv-2509.26033-b31b1b.svg)](https://arxiv.org/abs/2509.26033)<mark>Appeared on: 2025-10-01</mark> - \n",
       "\n",
       "</div>\n",
       "<div id=\"authors\">\n",
       "\n",
       "A. Dutrey, et al. -- incl., <mark>D. Semenov</mark>, <mark>T. Henning</mark>\n",
       "\n",
       "</div>\n",
       "<div id=\"abstract\">\n",
       "\n",
       "**Abstract:** Investigating the vertical distribution of molecular content in protoplanetary disks remains difficult in most disks mildly inclined along the line of sight.In contrast, edge-on disks provide a direct (tomographic) view of the 2D molecular brightness. We study the radial and vertical molecular distribution as well as the gas temperature and density by observing the Keplerian edge-on disk surrounding the Flying Saucer, a Class II object located in Ophiuchus. We use new and archival ALMA data to perform a tomography of $^{12}$ CO, $^{13}$ CO, C $^{18}$ O, CN, HCN, CS, $H_2$ CO, c-$C_3$ $H_2$ , $N_2$ D $^+$ , DCN and $^{13}$ CS. We analyze molecular tomographies and model data using the radiative transfer code DiskFit . We directly measure the altitude above the mid-plane for each observed species. For the first time, we unambiguously demonstrate the presence of a common molecular layer and measure its thickness: most molecules are located at the same altitude versus radius. Beyond CO, as predicted by chemical models, the CN emission traces the upper boundary of the molecular layer, whereas the deuterated species (DCN and $N_2$ D $^+$ ) resides below one scale-height. Our best fits from DiskFit show that most observed transitions in the molecular layer are thermalized  because their excitation temperature is the same, around $\\sim$ 17-20 K. These long-integration observations clearly reveal a molecular layer predominantly located around 1-2 scale height, at a temperature above the CO freeze-out temperature. The deuterated molecules are closer to the mid-plane and $N_2$ D $^+$ may be a good proxy for the CO snowline. Some molecules, such as CN and $H_2$ CO, are likely influenced by the disk environment, at least beyond the mm dust disk radius. The direct observation of the molecular stratification opens the door to detailed chemical modeling in this disk which appears representative of T Tauri disks.\n",
       "\n",
       "</div>\n",
       "\n",
       "<div id=\"div_fig1\">\n",
       "\n",
       "<img src=\"tmp_2509.26033/./altitude.png\" alt=\"Fig5.1\" width=\"50%\"/><img src=\"tmp_2509.26033/./true-width.png\" alt=\"Fig5.2\" width=\"50%\"/>\n",
       "\n",
       "**Figure 5. -** Top: Altitude $A(r)$ of the molecular layer as a function of radius. The black curve is the HCN(4-3) altitude for comparison. The cyan region indicates the\n",
       "the approximate size of the dust disk. The dotted line corresponds to z/r = 0.2.\n",
       "Bottom: Deconvolved thickness of the molecular layer. The deconvolution is done assuming Gaussian shapes, using the Clean beam minor axis since synthesized beams are elongated almost parallel to the disk plane. The black curve is the HCN(4-3) thickness for comparison. The cyan bar marks the edge of the dust disk. (*fig:height-tomo*)\n",
       "\n",
       "</div>\n",
       "<div id=\"div_fig2\">\n",
       "\n",
       "<img src=\"tmp_2509.26033/./lines-over-13co.png\" alt=\"Fig1\" width=\"100%\"/>\n",
       "\n",
       "**Figure 1. -** $^{13}$CO tomography in false color with superimposition of the tomographies, in contours, of the HCN 4-3, CS 7-6, CN at 340.348 GHz, p-$H_2$CO at 218.222 GHz, DCN 3-2 and $N_2$D$^+$ 3-2. Contours are in steps\n",
       "of 1.5 K for HCN, CS, CN and p-$H_2$CO, 0.75 K for DCN, and 0.375 K for $N_2$D$^+$. The grey ellipses indicate the impact of line width on the effective beam at 80 and 240 au (*fig:tomo-super*)\n",
       "\n",
       "</div>\n",
       "<div id=\"div_fig3\">\n",
       "\n",
       "<img src=\"tmp_2509.26033/./profile100.png\" alt=\"Fig2\" width=\"100%\"/>\n",
       "\n",
       "**Figure 2. -** Profiles resulting from DiskFit at 100 au.\n",
       "The green curve is the temperature profile, and the cyan curves indicate the $H_2$ density structure (thin: under isothermal assumption at the mid-plane temperature (10 K), thick: using the full temperature profile) that were derived from the CO analysis by [Guilloteau, Denis-Alpizar and Dutrey (2025)]().\n",
       "The other colored curves are the molecular density profiles for CS (red), HCN (black), CN 2-1 (blue) and 3-2 (magenta), using parameters from Table \\ref{tab:models}. The corresponding horizontal bars indicate the measured temperatures and the density weighted\n",
       " average height of the emission. (*fig:profiles*)\n",
       "\n",
       "</div><div id=\"qrcode\"><img src=https://api.qrserver.com/v1/create-qr-code/?size=100x100&data=\"https://arxiv.org/abs/2509.26033\"></div>"
      ],
      "text/plain": [
       "<IPython.core.display.Markdown object>"
      ]
     },
     "metadata": {},
     "output_type": "display_data"
    },
    {
     "data": {
      "text/markdown": [
       "<div class=\"macros\" style=\"visibility:hidden;\">\n",
       "$\\newcommand{\\ensuremath}{}$\n",
       "$\\newcommand{\\xspace}{}$\n",
       "$\\newcommand{\\object}[1]{\\texttt{#1}}$\n",
       "$\\newcommand{\\farcs}{{.}''}$\n",
       "$\\newcommand{\\farcm}{{.}'}$\n",
       "$\\newcommand{\\arcsec}{''}$\n",
       "$\\newcommand{\\arcmin}{'}$\n",
       "$\\newcommand{\\ion}[2]{#1#2}$\n",
       "$\\newcommand{\\textsc}[1]{\\textrm{#1}}$\n",
       "$\\newcommand{\\hl}[1]{\\textrm{#1}}$\n",
       "$\\newcommand{\\footnote}[1]{}$\n",
       "$\\newcommand{\\vdag}{(v)^\\dagger}$\n",
       "$\\newcommand$\n",
       "$\\newcommand$\n",
       "$\\newcommand{\\feh}{\\ensuremath{{\\rm[Fe/H]}}}$\n",
       "$\\newcommand{\\teff}{\\ensuremath{T_{\\rm eff}}}$\n",
       "$\\newcommand{\\teq}{\\ensuremath{T_{\\rm eq}}}$\n",
       "$\\newcommand{\\logg}{\\ensuremath{\\log{g}}}$\n",
       "$\\newcommand{\\zaspe}{\\textsf{ZASPE}}$\n",
       "$\\newcommand{\\ceres}{\\textsf{CERES}}$\n",
       "$\\newcommand{\\tess}{\\textit{TESS}}$\n",
       "$\\newcommand{\\vsini}{\\ensuremath{v \\sin{i}}}$\n",
       "$\\newcommand{\\kms}{\\ensuremath{{\\rm km s^{-1}}}}$\n",
       "$\\newcommand{\\mjup}{\\ensuremath{{\\rm M_{J}}}}$\n",
       "$\\newcommand{\\mearth}{\\ensuremath{{\\rm M}_{\\oplus}}}$\n",
       "$\\newcommand{\\mpl}{\\ensuremath{{\\rm M_p}}}$\n",
       "$\\newcommand{\\rjup}{\\ensuremath{{\\rm R_J}}}$\n",
       "$\\newcommand{\\rpl}{\\ensuremath{{\\rm R_P}}}$\n",
       "$\\newcommand{\\rstar}{\\ensuremath{{\\rm R}_{\\star}}}$\n",
       "$\\newcommand{\\mstar}{\\ensuremath{{\\rm M}_{\\star}}}$\n",
       "$\\newcommand{\\lstar}{\\ensuremath{{\\rm L}_{\\star}}}$\n",
       "$\\newcommand{\\rsun}{\\ensuremath{{\\rm R}_{\\odot}}}$\n",
       "$\\newcommand{\\msun}{\\ensuremath{{\\rm M}_{\\odot}}}$\n",
       "$\\newcommand{\\lsun}{\\ensuremath{{\\rm L}_{\\odot}}}$\n",
       "$\\newcommand{\\stlum}{\\ensuremath{2.33 \\pm 0.11 }}$\n",
       "$\\newcommand{\\stage}{\\ensuremath{2.92_{-0.73}^{+0.80} }}$\n",
       "$\\newcommand{\\av}{\\ensuremath{0.226_{-0.058}^{+0.056} }}$\n",
       "$\\newcommand{\\stteff}{\\ensuremath{6295 \\pm 77 }}$\n",
       "$\\newcommand{\\stfeh}{\\ensuremath{0.00 \\pm 0.05 }}$\n",
       "$\\newcommand{\\stlogg}{\\ensuremath{4.291 \\pm 0.025 }}$\n",
       "$\\newcommand{\\stvsini}{\\ensuremath{7.80 \\pm 0.19 }}$\n",
       "$\\newcommand{\\stmstan}{\\ensuremath{1.170\\pm0.06}}$\n",
       "$\\newcommand{\\strstan}{\\ensuremath{1.282\\pm0.03}}$\n",
       "$\\newcommand{\\per}{\\ensuremath{11.23660 \\pm 0.00011}}$\n",
       "$\\newcommand{\\bb}{\\ensuremath{0.723_{-0.024}^{+0.018}}}$\n",
       "$\\newcommand{\\rr}{\\ensuremath{0.0942_{-0.0012}^{+0.0010}}}$\n",
       "$\\newcommand{\\omegapost}{\\ensuremath{1.230_{-0.063}^{+0.063}}}$\n",
       "$\\newcommand{\\ecc}{\\ensuremath{0.435\\pm 0.024 }}$\n",
       "$\\newcommand{\\logm}{\\ensuremath{5.973_{-0.056}^{+0.054}}}$\n",
       "$\\newcommand{\\mptess}{\\ensuremath{1.236_{-0.067}^{+0.069}}}$\n",
       "$\\newcommand{\\rptess}{\\ensuremath{0.1202 \\pm 0.003 }}$\n",
       "$\\newcommand{\\rptessrjup}{\\ensuremath{1.170\\pm 0.03 }}$\n",
       "$\\newcommand{\\stm}{\\ensuremath{1.181\\pm 0.058 }}$\n",
       "$\\newcommand{\\str}{\\ensuremath{1.28_{-0.03}^{+0.03}}}$\n",
       "$\\newcommand{\\aone}{\\ensuremath{1.58\\pm 0.19 }}$\n",
       "$\\newcommand{\\azero}{\\ensuremath{-6.4_{-8.2}^{+8.1}}}$\n",
       "$\\newcommand{\\bone}{\\ensuremath{0.0204_{-0.0040}^{+0.0039}}}$\n",
       "$\\newcommand{\\bzero}{\\ensuremath{-0.00197_{-0.00032}^{+0.00033}}}$\n",
       "$\\newcommand{\\etaferos}{\\ensuremath{13.5_{-3.1}^{+3.3}}}$\n",
       "$\\newcommand{\\etacoralie}{\\ensuremath{45.1_{-11.4}^{+12.4}}}$\n",
       "$\\newcommand{\\etachiron}{\\ensuremath{21.7_{-7.6}^{+8.0}}}$\n",
       "$\\newcommand{\\etassmko}{\\ensuremath{0.00114_{-0.00010}^{+0.00011}}}$\n",
       "$\\newcommand{\\gammaferos}{\\ensuremath{-42.8_{-8.6}^{+8.8}}}$\n",
       "$\\newcommand{\\gammacoralie}{\\ensuremath{-26.9_{-15.4}^{+14.7}}}$\n",
       "$\\newcommand{\\gammachiron}{\\ensuremath{-20.9_{-10.6}^{+10.7}}}$\n",
       "$\\newcommand{\\gammanres}{\\ensuremath{-28.5_{-11.4}^{+11.4}}}$\n",
       "$\\newcommand{\\uone}{\\ensuremath{0.50_{-0.27}^{+0.19}}}$\n",
       "$\\newcommand{\\utwo}{\\ensuremath{-0.06_{-0.23}^{+0.33}}}$\n",
       "$\\newcommand{\\rone}{\\ensuremath{0.0942_{-0.0012}^{+0.0010}}}$\n",
       "$\\newcommand{\\rtwo}{\\ensuremath{0.723_{-0.024}^{+0.018}}}$\n",
       "$\\newcommand{\\strho}{\\ensuremath{0.80_{-0.06}^{+0.06}}}$\n",
       "$\\newcommand{\\tzero}{\\ensuremath{2458547.47448_{-0.00029}^{+0.00028}}}$\n",
       "$\\newcommand{\\sma}{\\ensuremath{0.1038_{-0.0017}^{+0.0017}}}$\n",
       "$\\newcommand{\\inc}{\\ensuremath{87.63_{-0.1}^{+0.11}}}$\n",
       "$\\newcommand{\\teqv}{\\ensuremath{1252\\pm 21 }}$\n",
       "$\\newcommand{\\stnameTIC}{TIC~280206394}$\n",
       "$\\newcommand{\\rhopl}{\\ensuremath{{\\rm \\rho_P}}}$\n",
       "$\\newcommand{\\rhostar}{\\ensuremath{\\rho_*}}$\n",
       "$\\newcommand{\\gccm}{\\ensuremath{\\mathrm{g} \\mathrm{cm}^{-3}}}$</div>\n",
       "\n",
       "\n",
       "\n",
       "<div id=\"title\">\n",
       "\n",
       "# A transiting hot Jupiter with two outer siblings orbiting an intermediate-mass post main-sequence star\n",
       "\n",
       "</div>\n",
       "<div id=\"comments\">\n",
       "\n",
       "[![arXiv](https://img.shields.io/badge/arXiv-2509.26430-b31b1b.svg)](https://arxiv.org/abs/2509.26430)<mark>Appeared on: 2025-10-01</mark> -  _resubmitted without line numbers_\n",
       "\n",
       "</div>\n",
       "<div id=\"authors\">\n",
       "\n",
       "Y. Reinarz, et al. -- incl., <mark>T. Henning</mark>\n",
       "\n",
       "</div>\n",
       "<div id=\"abstract\">\n",
       "\n",
       "**Abstract:** Exoplanetary systems with multiple giant planets present an opportunity to understand planet formation, migration processes, and long-term system-wide dynamical interactions. In particular, they provide constraints to distinguish between smooth disk-driven migration or more dynamically excited system evolution pathways.We report the discovery and characterization of a unique multi-planet system hosting three gas giant planets, orbiting the post-main sequence star TOI-375. The innermost planet, TOI-375 b, was initially detected by the _TESS_ mission, and then confirmed with photometric follow-up observations conducted using _MEarth_ and _LCOGT_ , and radial velocity measurements obtained with _FEROS_ and _CHIRON_ . The radial velocity data revealed the presence of two additional planetary candidates, TOI-375 c and TOI-375 d. We find that TOI-375 b is a hot Jupiter with an orbital period of $\\ensuremath{9.45469 \\pm 0.00002}$ days, mass $\\ensuremath{0.745 \\pm 0.053 M_\\mathrm{J}}$ , radius $\\ensuremath{0.961 \\pm 0.043 R_\\mathrm{J}}$ , and eccentricity $\\ensuremath{0.087 \\pm 0.042}$ . The outer two planets, TOI-375 c and TOI-375 d, are warm-cold and cold Jupiters with orbital periods of $\\ensuremath{115.5^{+2.0}_{-1.6}}$ days and $\\ensuremath{297.9^{+28.9}_{-18.6}}$ days, and minimum masses of $\\ensuremath{2.11 \\pm 0.22 M_\\mathrm{J}}$ and $\\ensuremath{1.40 \\pm 0.28 M_\\mathrm{J}}$ , respectively.In terms of formation and overall system architecture, the physical properties of TOI-375 b are consistent with the core accretion scenario, while the current configuration of the system could be explained by both disk-driven and high-eccentricity migration scenarios. The discovery of TOI-375 as the first known system hosting three or more fully evolved gas giants, with at least one transiting planet, makes it an excellent candidate for testing formation and migration theories.\n",
       "\n",
       "</div>\n",
       "\n",
       "<div id=\"div_fig1\">\n",
       "\n",
       "<img src=\"tmp_2509.26430/./figures/HR_diagram_GHSs.png\" alt=\"Fig1\" width=\"100%\"/>\n",
       "\n",
       "**Figure 1. -** Position of TOI-375 in the HR diagram (black star), using the stellar parameters derived here (see Table 3). For comparison, the position of known giant stars hosting transiting giant planets are overplotted. Two different \\textsf{PARSEC} models  (parsec)  for 1.0 and 1.45 $\\msun$, are overplotted. The solid and dotted lines correspond to Z$_\\star$=0.017 and 0.020, respectively. (*fig:HR_diagram*)\n",
       "\n",
       "</div>\n",
       "<div id=\"div_fig2\">\n",
       "\n",
       "<img src=\"tmp_2509.26430/./figures/lcs_trim.png\" alt=\"Fig4\" width=\"100%\"/>\n",
       "\n",
       "**Figure 4. -** In green, we show the Phase-folded light curves from each instrument (or sector in the case of _TESS_) with the best-fit transit model for TOI-375 b derived using \\textsf{juliet}. In blue, we show the potential single transit event of one of the outer planets on _TESS_ sector 2. Data points are shown in their original time sampling (small green or blue points) and binned in phase with 6-minute intervals (white markers). The solid black line represents the best-fit transit model. We do not include the transit of TOI-375 c in the final model as there is not enough evidence to support it is from true planetary origin. (*fig:transit_models*)\n",
       "\n",
       "</div>\n",
       "<div id=\"div_fig3\">\n",
       "\n",
       "<img src=\"tmp_2509.26430/./figures/soar.png\" alt=\"Fig2\" width=\"100%\"/>\n",
       "\n",
       "**Figure 2. -** Speckle autocorrelation function for TOI-375, obtained with the _SOAR_ telescope. The black dots represent the $5\\sigma$ contrast curve, and the solid line shows a linear fit to the data at separations smaller and larger than $\\sim 0.2$ arcseconds. (*fig:soar*)\n",
       "\n",
       "</div><div id=\"qrcode\"><img src=https://api.qrserver.com/v1/create-qr-code/?size=100x100&data=\"https://arxiv.org/abs/2509.26430\"></div>"
      ],
      "text/plain": [
       "<IPython.core.display.Markdown object>"
      ]
     },
     "metadata": {},
     "output_type": "display_data"
    },
    {
     "data": {
      "text/markdown": [
       "<div class=\"macros\" style=\"visibility:hidden;\">\n",
       "$\\newcommand{\\ensuremath}{}$\n",
       "$\\newcommand{\\xspace}{}$\n",
       "$\\newcommand{\\object}[1]{\\texttt{#1}}$\n",
       "$\\newcommand{\\farcs}{{.}''}$\n",
       "$\\newcommand{\\farcm}{{.}'}$\n",
       "$\\newcommand{\\arcsec}{''}$\n",
       "$\\newcommand{\\arcmin}{'}$\n",
       "$\\newcommand{\\ion}[2]{#1#2}$\n",
       "$\\newcommand{\\textsc}[1]{\\textrm{#1}}$\n",
       "$\\newcommand{\\hl}[1]{\\textrm{#1}}$\n",
       "$\\newcommand{\\footnote}[1]{}$\n",
       "$\\newcommand{\\vdag}{(v)^\\dagger}$\n",
       "$\\newcommand$\n",
       "$\\newcommand$\n",
       "$\\newcommand{\\todo}[1]{\\textcolor{red}{#1}}$\n",
       "$\\newcommand{\\Michael}[1]{\\textcolor{violet}{#1}}$\n",
       "$\\newcommand{\\final}[1]{\\textcolor{green}{#1}}$\n",
       "$\\newcommand{\\irchi}[2]{\\raisebox{\\depth}{#1\\chi}}$\n",
       "$\\newcommand{\\Lsun}{L_\\odot}$\n",
       "$\\newcommand{\\Msun}{M_\\odot}$\n",
       "$\\newcommand{\\MJ}{M_\\mathrm{J}}$\n",
       "$\\newcommand{\\Mp}{M_\\mathrm{p}}$\n",
       "$\\newcommand{\\Macc}{\\dot{M}_\\mathrm{acc}}$\n",
       "$\\newcommand{\\RJ}{R_\\mathrm{J}}$\n",
       "$\\newcommand{\\Rp}{R_\\mathrm{p}}$\n",
       "$\\newcommand{\\Teff}{T_{\\text{eff}}}$\n",
       "$\\newcommand{\\MJyr}{\\MJ \\mathrm{yr}^{-1}}$\n",
       "$\\newcommand{\\Rd}{R_\\mathrm{dust}}$\n",
       "$\\newcommand{\\Rcav}{R_\\mathrm{cav}}$\n",
       "$\\newcommand{\\Rout}{R_\\mathrm{out}}$\n",
       "$\\newcommand{\\Rg}{R_\\mathrm{gas}}$\n",
       "$\\newcommand{\\micron}{\\mu\\mathrm{m}}$\n",
       "$\\newcommand{\\Lacc}{L_\\mathrm{acc}}$\n",
       "$\\newcommand{\\LHa}{L_\\mathrm{H\\alpha}}$\n",
       "$\\newcommand{\\FHa}{F_\\mathrm{H\\alpha}}$\n",
       "$\\newcommand{\\AHa}{A_\\mathrm{H\\alpha}}$\n",
       "$\\newcommand{\\Av}{A_\\mathrm{V}}$\n",
       "$\\newcommand{\\MaccAv}{\\overline{\\dot{M}_\\mathrm{acc}}}$\n",
       "$\\newcommand{\\chisquared}{\\rchi^2}$\n",
       "$\\newcommand{\\chimrs}{\\rchi^2_\\mathrm{MRS}}$\n",
       "$\\newcommand{\\arraystretch}{1.25}$\n",
       "$\\newcommand{\\arraystretch}{1.25}$\n",
       "$\\newcommand{\\arraystretch}{1.25}$\n",
       "$\\newcommand{\\arraystretch}{1.5}$\n",
       "$\\newcommand{\\arraystretch}{1.5}$</div>\n",
       "\n",
       "\n",
       "\n",
       "<div id=\"title\">\n",
       "\n",
       "# Direct Measurement of Extinction in a Planet-Hosting Gap\n",
       "\n",
       "</div>\n",
       "<div id=\"comments\">\n",
       "\n",
       "[![arXiv](https://img.shields.io/badge/arXiv-2509.26617-b31b1b.svg)](https://arxiv.org/abs/2509.26617)<mark>Appeared on: 2025-10-01</mark> -  _Accepted for publication in AJ. 22 pages, 10 figures, 5 tables_\n",
       "\n",
       "</div>\n",
       "<div id=\"authors\">\n",
       "\n",
       "G. Cugno, et al. -- incl., <mark>M. Benisty</mark>\n",
       "\n",
       "</div>\n",
       "<div id=\"abstract\">\n",
       "\n",
       "**Abstract:** Recent disk observations have revealed multiple indirect signatures of forming gas giant planets, but high-contrast imaging has rarely confirmed the presence of the suspected perturbers.Here, we exploit a unique opportunity provided by the background star AS 209bkg, which shines through a wide annular gap in the AS 209 disk, to perform transmission spectrophotometry and directly measure the extinction from gap material for the first time.By combining new VLT/SPHERE and JWST/NIRCam observations with archival HST data from 2005, we model the spectral energy distribution (SED) of AS 209bkg over a 19-year baseline. We find that the SED and its variability are best explained by increasing extinction along the line of sight as AS 209bkg approaches the gap edge in projection. The extinction is best described by a combination of ISM-like extinction component and a grey extinction component. This points to the presence of grains in the disk outer gap that are larger than in the ISM.We find that the extinction in the gap at $\\lambda\\sim4.0 \\mu$ m is $A_{4 \\mu\\mathrm{m}} = 2.7^{+0.7}_{-0.7}$ mag, while at H $\\alpha$ ( $\\lambda=0.656 \\mu$ m), where most searches for accretion signatures take place, the extinction could be as high as $A_\\mathrm{H\\alpha} = 4.2^{+0.9}_{-1.2}$ mag ( $A_V=4.6^{+1.0}_{-1.3}$ ). This suggests that even wide, deep gaps can significantly obscure emission from protoplanets, even those following a hot-start evolutionary model. Our extinction measurements help reconcile the discrepancy between ALMA-based predictions of planet-disk interactions and the non-detections from sensitive optical and near-infrared imaging campaigns.\n",
       "\n",
       "</div>\n",
       "\n",
       "<div id=\"div_fig1\">\n",
       "\n",
       "<img src=\"tmp_2509.26617/./Spectra_all.png\" alt=\"Fig8\" width=\"100%\"/>\n",
       "\n",
       "**Figure 8. -** SED fits for AS 209bkg using multiple extinction models. In each panel, the observed fluxes are reported in blue squares, while detection limits are shown in light blue arrows. The F300M detection limits, potentially impacted by the $3.0 \\mu$m water-ice band, is shown for completeness but is not used in the fit. The best fit model is shown with a black line, while 100 random samples drawn by the posterior distribution are shown in grey. The log-evidence with respect to the `None' scenario (top left) is reported in each panel. (*fig:spectra_all*)\n",
       "\n",
       "</div>\n",
       "<div id=\"div_fig2\">\n",
       "\n",
       "<img src=\"tmp_2509.26617/./Proper_motion.png\" alt=\"Fig7.1\" width=\"50%\"/><img src=\"tmp_2509.26617/./Proper_motion_AS209.png\" alt=\"Fig7.2\" width=\"50%\"/>\n",
       "\n",
       "**Figure 7. -** Astrometry of the AS 209 system. _ Left:_ Proper motion analysis of AS 209bkg. The red square represent the location of the source in 2005. The black line shows the expected trajectory from 2005 through 2024 assuming it is a stationary object, with the expected locations at the SPHERE and NIRCam epochs highlighted with black circles. The NIRCam and SPHERE data agree with the prediction (when considering the HST uncertainties), demonstrating that the source is indeed a background object. _ Right:_ Projected location of AS 209bkg in the AS 209 disk. On the right side, the millimeter image is reported, showcasing a series of dust rings  ([Andrews, Huang and Pérez 2018]()) . On the left side, the CO gas as measured by the DSHARP program  ([Andrews, Huang and Pérez 2018](), [Guzmán, Huang and Andrews 2018]())  is reported. AS 209bkg shines through the deep outer CO gap. Grey crosses mark the expected position of AS 209bkg in 2050 and 2075.  (*fig:proper_motion*)\n",
       "\n",
       "</div>\n",
       "<div id=\"div_fig3\">\n",
       "\n",
       "<img src=\"tmp_2509.26617/./Spectra_ep2005_all.png\" alt=\"Fig9\" width=\"100%\"/>\n",
       "\n",
       "**Figure 9. -** Same as Fig. \\ref{fig:spectra_all}, with the addition of the red square representing the 2005 HST detection, and orange lines that represent the random sample and best-fit model for the 2005 epoch. In this case, the `Grey' model is used to benchmark the Bayesian log-evidences (*fig:spectra_ep2005*)\n",
       "\n",
       "</div><div id=\"qrcode\"><img src=https://api.qrserver.com/v1/create-qr-code/?size=100x100&data=\"https://arxiv.org/abs/2509.26617\"></div>"
      ],
      "text/plain": [
       "<IPython.core.display.Markdown object>"
      ]
     },
     "metadata": {},
     "output_type": "display_data"
    }
   ],
   "source": [
    "[display(Markdown(k[1])) for k in documents];"
   ]
  },
  {
   "cell_type": "markdown",
   "id": "873873a4",
   "metadata": {
    "papermill": {
     "duration": 0.006629,
     "end_time": "2025-10-01T04:15:15.012056",
     "exception": false,
     "start_time": "2025-10-01T04:15:15.005427",
     "status": "completed"
    },
    "tags": []
   },
   "source": [
    "# Create HTML index"
   ]
  },
  {
   "cell_type": "code",
   "execution_count": 10,
   "id": "cf665672",
   "metadata": {
    "execution": {
     "iopub.execute_input": "2025-10-01T04:15:15.026254Z",
     "iopub.status.busy": "2025-10-01T04:15:15.025999Z",
     "iopub.status.idle": "2025-10-01T04:15:15.033397Z",
     "shell.execute_reply": "2025-10-01T04:15:15.032810Z"
    },
    "papermill": {
     "duration": 0.015687,
     "end_time": "2025-10-01T04:15:15.034340",
     "exception": false,
     "start_time": "2025-10-01T04:15:15.018653",
     "status": "completed"
    },
    "tags": []
   },
   "outputs": [
    {
     "name": "stdout",
     "output_type": "stream",
     "text": [
      "130  publications files modified in the last 7 days.\n"
     ]
    }
   ],
   "source": [
    "from datetime import datetime, timedelta, timezone\n",
    "from glob import glob\n",
    "import os\n",
    "\n",
    "files = glob('_build/html/*.md')\n",
    "days = 7\n",
    "now = datetime.today()\n",
    "res = []\n",
    "for fk in files:\n",
    "    stat_result = os.stat(fk).st_ctime\n",
    "    modified = datetime.fromtimestamp(stat_result, tz=timezone.utc).replace(tzinfo=None)\n",
    "    delta = now.today() - modified\n",
    "    if delta <= timedelta(days=days):\n",
    "        res.append((delta.seconds, fk))\n",
    "res = [k[1] for k in reversed(sorted(res, key=lambda x:x[1]))]\n",
    "npub = len(res)\n",
    "print(len(res), f\" publications files modified in the last {days:d} days.\")\n",
    "# [ print('\\t', k) for k in res ];"
   ]
  },
  {
   "cell_type": "code",
   "execution_count": 11,
   "id": "015de740",
   "metadata": {
    "execution": {
     "iopub.execute_input": "2025-10-01T04:15:15.048900Z",
     "iopub.status.busy": "2025-10-01T04:15:15.048660Z",
     "iopub.status.idle": "2025-10-01T04:15:15.061432Z",
     "shell.execute_reply": "2025-10-01T04:15:15.060836Z"
    },
    "papermill": {
     "duration": 0.021321,
     "end_time": "2025-10-01T04:15:15.062481",
     "exception": false,
     "start_time": "2025-10-01T04:15:15.041160",
     "status": "completed"
    },
    "tags": []
   },
   "outputs": [
    {
     "name": "stdout",
     "output_type": "stream",
     "text": [
      "14  publications in the last 7 days.\n"
     ]
    }
   ],
   "source": [
    "import datetime\n",
    "from glob import glob\n",
    "\n",
    "def get_last_n_days(lst, days=1):\n",
    "    \"\"\" Get the documents from the last n days \"\"\"\n",
    "    sorted_lst = sorted(lst, key=lambda x: x[1], reverse=True)\n",
    "    for fname, date in sorted_lst:\n",
    "        if date >= str(datetime.date.today() - datetime.timedelta(days=days)):\n",
    "            yield fname\n",
    "\n",
    "def extract_appearance_dates(lst_file):\n",
    "    dates = []\n",
    "\n",
    "    def get_date(line):\n",
    "        return line\\\n",
    "            .split('Appeared on:')[-1]\\\n",
    "            .split('</mark>')[0].strip()\n",
    "\n",
    "    for fname in lst:\n",
    "        with open(fname, 'r') as f:\n",
    "            found_date = False\n",
    "            for line in f:\n",
    "                if not found_date:\n",
    "                    if \"Appeared on\" in line:\n",
    "                        found_date = True\n",
    "                        dates.append((fname, get_date(line)))\n",
    "                else:\n",
    "                    break\n",
    "    return dates\n",
    "\n",
    "from glob import glob\n",
    "lst = glob('_build/html/*md')\n",
    "days = 7\n",
    "dates = extract_appearance_dates(lst)\n",
    "res = list(get_last_n_days(dates, days))\n",
    "npub = len(res)\n",
    "print(len(res), f\" publications in the last {days:d} days.\")"
   ]
  },
  {
   "cell_type": "code",
   "execution_count": 12,
   "id": "52ca0208",
   "metadata": {
    "execution": {
     "iopub.execute_input": "2025-10-01T04:15:15.077863Z",
     "iopub.status.busy": "2025-10-01T04:15:15.077599Z",
     "iopub.status.idle": "2025-10-01T04:15:15.082879Z",
     "shell.execute_reply": "2025-10-01T04:15:15.082202Z"
    },
    "papermill": {
     "duration": 0.014041,
     "end_time": "2025-10-01T04:15:15.084002",
     "exception": false,
     "start_time": "2025-10-01T04:15:15.069961",
     "status": "completed"
    },
    "scrolled": false,
    "tags": []
   },
   "outputs": [],
   "source": [
    "def create_carousel(npub=4):\n",
    "    \"\"\" Generate the HTML code for a carousel with `npub` slides \"\"\"\n",
    "    carousel = [\"\"\"  <div class=\"carousel\" \"\"\",\n",
    "                \"\"\"       data-flickity='{ \"autoPlay\": 10000, \"adaptiveHeight\": true, \"resize\": true, \"wrapAround\": true, \"pauseAutoPlayOnHover\": true, \"groupCells\": 1 }' id=\"asyncTypeset\">\"\"\"\n",
    "                ]\n",
    "    \n",
    "    item_str = \"\"\"    <div class=\"carousel-cell\"> <div id=\"slide{k}\" class=\"md_view\">Content {k}</div> </div>\"\"\"\n",
    "    for k in range(1, npub + 1):\n",
    "        carousel.append(item_str.format(k=k))\n",
    "    carousel.append(\"  </div>\")\n",
    "    return '\\n'.join(carousel)\n",
    "\n",
    "def create_grid(npub=4):\n",
    "    \"\"\" Generate the HTML code for a flat grid with `npub` slides \"\"\"\n",
    "    grid = [\"\"\"  <div class=\"grid\"> \"\"\",\n",
    "                ]\n",
    "    \n",
    "    item_str = \"\"\"    <div class=\"grid-item\"> <div id=\"slide{k}\" class=\"md_view\">Content {k}</div> </div>\"\"\"\n",
    "    for k in range(1, npub + 1):\n",
    "        grid.append(item_str.format(k=k))\n",
    "    grid.append(\"  </div>\")\n",
    "    return '\\n'.join(grid)"
   ]
  },
  {
   "cell_type": "code",
   "execution_count": 13,
   "id": "a6eac5b6",
   "metadata": {
    "execution": {
     "iopub.execute_input": "2025-10-01T04:15:15.098766Z",
     "iopub.status.busy": "2025-10-01T04:15:15.098545Z",
     "iopub.status.idle": "2025-10-01T04:15:15.103772Z",
     "shell.execute_reply": "2025-10-01T04:15:15.103220Z"
    },
    "papermill": {
     "duration": 0.013809,
     "end_time": "2025-10-01T04:15:15.104807",
     "exception": false,
     "start_time": "2025-10-01T04:15:15.090998",
     "status": "completed"
    },
    "scrolled": false,
    "tags": []
   },
   "outputs": [],
   "source": [
    "carousel = create_carousel(npub)\n",
    "docs = ', '.join(['\"{0:s}\"'.format(k.split('/')[-1]) for k in res])\n",
    "slides = ', '.join([f'\"slide{k}\"' for k in range(1, npub + 1)])\n",
    "\n",
    "with open(\"daily_template.html\", \"r\") as tpl:\n",
    "    page = tpl.read()\n",
    "    page = page.replace(\"{%-- carousel:s --%}\", carousel)\\\n",
    "               .replace(\"{%-- suptitle:s --%}\",  \"7-day archives\" )\\\n",
    "               .replace(\"{%-- docs:s --%}\", docs)\\\n",
    "               .replace(\"{%-- slides:s --%}\", slides)\n",
    "    \n",
    "with open(\"_build/html/index_7days.html\", 'w') as fout:\n",
    "    fout.write(page)"
   ]
  },
  {
   "cell_type": "code",
   "execution_count": 14,
   "id": "adc1a1ec",
   "metadata": {
    "execution": {
     "iopub.execute_input": "2025-10-01T04:15:15.120042Z",
     "iopub.status.busy": "2025-10-01T04:15:15.119766Z",
     "iopub.status.idle": "2025-10-01T04:15:15.126441Z",
     "shell.execute_reply": "2025-10-01T04:15:15.125835Z"
    },
    "papermill": {
     "duration": 0.015378,
     "end_time": "2025-10-01T04:15:15.127491",
     "exception": false,
     "start_time": "2025-10-01T04:15:15.112113",
     "status": "completed"
    },
    "tags": []
   },
   "outputs": [
    {
     "name": "stdout",
     "output_type": "stream",
     "text": [
      "9  publications in the last day.\n"
     ]
    }
   ],
   "source": [
    "# redo for today\n",
    "days = 1\n",
    "res = list(get_last_n_days(dates, days))\n",
    "npub = len(res)\n",
    "print(len(res), f\" publications in the last day.\")\n",
    "\n",
    "carousel = create_carousel(npub)\n",
    "docs = ', '.join(['\"{0:s}\"'.format(k.split('/')[-1]) for k in res])\n",
    "slides = ', '.join([f'\"slide{k}\"' for k in range(1, npub + 1)])\n",
    "\n",
    "with open(\"daily_template.html\", \"r\") as tpl:\n",
    "    page = tpl.read()\n",
    "    page = page.replace(\"{%-- carousel:s --%}\", carousel)\\\n",
    "               .replace(\"{%-- suptitle:s --%}\",  \"Daily\" )\\\n",
    "               .replace(\"{%-- docs:s --%}\", docs)\\\n",
    "               .replace(\"{%-- slides:s --%}\", slides)\n",
    "    \n",
    "# print(carousel, docs, slides)\n",
    "# print(page)\n",
    "with open(\"_build/html/index_daily.html\", 'w') as fout:\n",
    "    fout.write(page)"
   ]
  },
  {
   "cell_type": "code",
   "execution_count": 15,
   "id": "00eece82",
   "metadata": {
    "execution": {
     "iopub.execute_input": "2025-10-01T04:15:15.142278Z",
     "iopub.status.busy": "2025-10-01T04:15:15.142080Z",
     "iopub.status.idle": "2025-10-01T04:15:15.148300Z",
     "shell.execute_reply": "2025-10-01T04:15:15.147735Z"
    },
    "papermill": {
     "duration": 0.014845,
     "end_time": "2025-10-01T04:15:15.149310",
     "exception": false,
     "start_time": "2025-10-01T04:15:15.134465",
     "status": "completed"
    },
    "scrolled": false,
    "tags": []
   },
   "outputs": [
    {
     "name": "stdout",
     "output_type": "stream",
     "text": [
      "6  6 publications selected.\n"
     ]
    }
   ],
   "source": [
    "# Create the flat grid of the last N papers (fixed number regardless of dates)\n",
    "from itertools import islice \n",
    "\n",
    "npub = 6\n",
    "res = [k[0] for k in (islice(reversed(sorted(dates, key=lambda x: x[1])), 6))]\n",
    "print(len(res), f\" {npub} publications selected.\")\n",
    "\n",
    "grid = create_grid(npub)\n",
    "docs = ', '.join(['\"{0:s}\"'.format(k.split('/')[-1]) for k in res])\n",
    "slides = ', '.join([f'\"slide{k}\"' for k in range(1, npub + 1)])\n",
    "\n",
    "with open(\"grid_template.html\", \"r\") as tpl:\n",
    "    page = tpl.read()\n",
    "    page = page.replace(\"{%-- grid-content:s --%}\", grid)\\\n",
    "               .replace(\"{%-- suptitle:s --%}\",  f\"Last {npub:,d} papers\" )\\\n",
    "               .replace(\"{%-- docs:s --%}\", docs)\\\n",
    "               .replace(\"{%-- slides:s --%}\", slides)\n",
    "    \n",
    "# print(grid, docs, slides)\n",
    "# print(page)\n",
    "with open(\"_build/html/index_npub_grid.html\", 'w') as fout:\n",
    "    fout.write(page)"
   ]
  }
 ],
 "metadata": {
  "kernelspec": {
   "display_name": "Python 3 (ipykernel)",
   "language": "python",
   "name": "python3"
  },
  "language_info": {
   "codemirror_mode": {
    "name": "ipython",
    "version": 3
   },
   "file_extension": ".py",
   "mimetype": "text/x-python",
   "name": "python",
   "nbconvert_exporter": "python",
   "pygments_lexer": "ipython3",
   "version": "3.9.23"
  },
  "papermill": {
   "default_parameters": {},
   "duration": 186.466945,
   "end_time": "2025-10-01T04:15:15.372418",
   "environment_variables": {},
   "exception": null,
   "input_path": "MPIA daily digest.ipynb",
   "output_path": "log.ipynb",
   "parameters": {},
   "start_time": "2025-10-01T04:12:08.905473",
   "version": "2.6.0"
  },
  "vscode": {
   "interpreter": {
    "hash": "aee8b7b246df8f9039afb4144a1f6fd8d2ca17a180786b69acc140d282b71a49"
   }
  },
  "widgets": {
   "application/vnd.jupyter.widget-state+json": {
    "state": {
     "1f43398f3b5d49e0b69b5a59789ad3fb": {
      "model_module": "@jupyter-widgets/base",
      "model_module_version": "2.0.0",
      "model_name": "LayoutModel",
      "state": {
       "_model_module": "@jupyter-widgets/base",
       "_model_module_version": "2.0.0",
       "_model_name": "LayoutModel",
       "_view_count": null,
       "_view_module": "@jupyter-widgets/base",
       "_view_module_version": "2.0.0",
       "_view_name": "LayoutView",
       "align_content": null,
       "align_items": null,
       "align_self": null,
       "border_bottom": null,
       "border_left": null,
       "border_right": null,
       "border_top": null,
       "bottom": null,
       "display": null,
       "flex": null,
       "flex_flow": null,
       "grid_area": null,
       "grid_auto_columns": null,
       "grid_auto_flow": null,
       "grid_auto_rows": null,
       "grid_column": null,
       "grid_gap": null,
       "grid_row": null,
       "grid_template_areas": null,
       "grid_template_columns": null,
       "grid_template_rows": null,
       "height": null,
       "justify_content": null,
       "justify_items": null,
       "left": null,
       "margin": null,
       "max_height": null,
       "max_width": null,
       "min_height": null,
       "min_width": null,
       "object_fit": null,
       "object_position": null,
       "order": null,
       "overflow": null,
       "padding": null,
       "right": null,
       "top": null,
       "visibility": null,
       "width": null
      }
     },
     "25dbb29fab9141c4a78f1b9b427318c7": {
      "model_module": "@jupyter-widgets/base",
      "model_module_version": "2.0.0",
      "model_name": "LayoutModel",
      "state": {
       "_model_module": "@jupyter-widgets/base",
       "_model_module_version": "2.0.0",
       "_model_name": "LayoutModel",
       "_view_count": null,
       "_view_module": "@jupyter-widgets/base",
       "_view_module_version": "2.0.0",
       "_view_name": "LayoutView",
       "align_content": null,
       "align_items": null,
       "align_self": null,
       "border_bottom": null,
       "border_left": null,
       "border_right": null,
       "border_top": null,
       "bottom": null,
       "display": null,
       "flex": null,
       "flex_flow": null,
       "grid_area": null,
       "grid_auto_columns": null,
       "grid_auto_flow": null,
       "grid_auto_rows": null,
       "grid_column": null,
       "grid_gap": null,
       "grid_row": null,
       "grid_template_areas": null,
       "grid_template_columns": null,
       "grid_template_rows": null,
       "height": null,
       "justify_content": null,
       "justify_items": null,
       "left": null,
       "margin": null,
       "max_height": null,
       "max_width": null,
       "min_height": null,
       "min_width": null,
       "object_fit": null,
       "object_position": null,
       "order": null,
       "overflow": null,
       "padding": null,
       "right": null,
       "top": null,
       "visibility": null,
       "width": null
      }
     },
     "446b597f72d945c5acfe4289131b33b0": {
      "model_module": "@jupyter-widgets/controls",
      "model_module_version": "2.0.0",
      "model_name": "HTMLStyleModel",
      "state": {
       "_model_module": "@jupyter-widgets/controls",
       "_model_module_version": "2.0.0",
       "_model_name": "HTMLStyleModel",
       "_view_count": null,
       "_view_module": "@jupyter-widgets/base",
       "_view_module_version": "2.0.0",
       "_view_name": "StyleView",
       "background": null,
       "description_width": "",
       "font_size": null,
       "text_color": null
      }
     },
     "503eb26415d84bc1b2b8926b5d50fac7": {
      "model_module": "@jupyter-widgets/base",
      "model_module_version": "2.0.0",
      "model_name": "LayoutModel",
      "state": {
       "_model_module": "@jupyter-widgets/base",
       "_model_module_version": "2.0.0",
       "_model_name": "LayoutModel",
       "_view_count": null,
       "_view_module": "@jupyter-widgets/base",
       "_view_module_version": "2.0.0",
       "_view_name": "LayoutView",
       "align_content": null,
       "align_items": null,
       "align_self": null,
       "border_bottom": null,
       "border_left": null,
       "border_right": null,
       "border_top": null,
       "bottom": null,
       "display": null,
       "flex": null,
       "flex_flow": null,
       "grid_area": null,
       "grid_auto_columns": null,
       "grid_auto_flow": null,
       "grid_auto_rows": null,
       "grid_column": null,
       "grid_gap": null,
       "grid_row": null,
       "grid_template_areas": null,
       "grid_template_columns": null,
       "grid_template_rows": null,
       "height": null,
       "justify_content": null,
       "justify_items": null,
       "left": null,
       "margin": null,
       "max_height": null,
       "max_width": null,
       "min_height": null,
       "min_width": null,
       "object_fit": null,
       "object_position": null,
       "order": null,
       "overflow": null,
       "padding": null,
       "right": null,
       "top": null,
       "visibility": null,
       "width": null
      }
     },
     "64871d790dd6489d8a75c44c92c9dbdb": {
      "model_module": "@jupyter-widgets/controls",
      "model_module_version": "2.0.0",
      "model_name": "FloatProgressModel",
      "state": {
       "_dom_classes": [],
       "_model_module": "@jupyter-widgets/controls",
       "_model_module_version": "2.0.0",
       "_model_name": "FloatProgressModel",
       "_view_count": null,
       "_view_module": "@jupyter-widgets/controls",
       "_view_module_version": "2.0.0",
       "_view_name": "ProgressView",
       "bar_style": "success",
       "description": "",
       "description_allow_html": false,
       "layout": "IPY_MODEL_25dbb29fab9141c4a78f1b9b427318c7",
       "max": 11.0,
       "min": 0.0,
       "orientation": "horizontal",
       "style": "IPY_MODEL_662278c6b75943108147af09fed0fa56",
       "tabbable": null,
       "tooltip": null,
       "value": 11.0
      }
     },
     "662278c6b75943108147af09fed0fa56": {
      "model_module": "@jupyter-widgets/controls",
      "model_module_version": "2.0.0",
      "model_name": "ProgressStyleModel",
      "state": {
       "_model_module": "@jupyter-widgets/controls",
       "_model_module_version": "2.0.0",
       "_model_name": "ProgressStyleModel",
       "_view_count": null,
       "_view_module": "@jupyter-widgets/base",
       "_view_module_version": "2.0.0",
       "_view_name": "StyleView",
       "bar_color": null,
       "description_width": ""
      }
     },
     "6918fd88c7b148df8fa8d453c3624ef1": {
      "model_module": "@jupyter-widgets/controls",
      "model_module_version": "2.0.0",
      "model_name": "HTMLModel",
      "state": {
       "_dom_classes": [],
       "_model_module": "@jupyter-widgets/controls",
       "_model_module_version": "2.0.0",
       "_model_name": "HTMLModel",
       "_view_count": null,
       "_view_module": "@jupyter-widgets/controls",
       "_view_module_version": "2.0.0",
       "_view_name": "HTMLView",
       "description": "",
       "description_allow_html": false,
       "layout": "IPY_MODEL_503eb26415d84bc1b2b8926b5d50fac7",
       "placeholder": "​",
       "style": "IPY_MODEL_c3a4f744999746e09726fee317dda1e5",
       "tabbable": null,
       "tooltip": null,
       "value": "100%"
      }
     },
     "877de68e17354667b8fc810416d47c51": {
      "model_module": "@jupyter-widgets/controls",
      "model_module_version": "2.0.0",
      "model_name": "HBoxModel",
      "state": {
       "_dom_classes": [],
       "_model_module": "@jupyter-widgets/controls",
       "_model_module_version": "2.0.0",
       "_model_name": "HBoxModel",
       "_view_count": null,
       "_view_module": "@jupyter-widgets/controls",
       "_view_module_version": "2.0.0",
       "_view_name": "HBoxView",
       "box_style": "",
       "children": [
        "IPY_MODEL_6918fd88c7b148df8fa8d453c3624ef1",
        "IPY_MODEL_64871d790dd6489d8a75c44c92c9dbdb",
        "IPY_MODEL_bc0c8882e49d46d3bae97f9b6320a882"
       ],
       "layout": "IPY_MODEL_1f43398f3b5d49e0b69b5a59789ad3fb",
       "tabbable": null,
       "tooltip": null
      }
     },
     "9240202085524583bcbaf955b39c3bd6": {
      "model_module": "@jupyter-widgets/base",
      "model_module_version": "2.0.0",
      "model_name": "LayoutModel",
      "state": {
       "_model_module": "@jupyter-widgets/base",
       "_model_module_version": "2.0.0",
       "_model_name": "LayoutModel",
       "_view_count": null,
       "_view_module": "@jupyter-widgets/base",
       "_view_module_version": "2.0.0",
       "_view_name": "LayoutView",
       "align_content": null,
       "align_items": null,
       "align_self": null,
       "border_bottom": null,
       "border_left": null,
       "border_right": null,
       "border_top": null,
       "bottom": null,
       "display": null,
       "flex": null,
       "flex_flow": null,
       "grid_area": null,
       "grid_auto_columns": null,
       "grid_auto_flow": null,
       "grid_auto_rows": null,
       "grid_column": null,
       "grid_gap": null,
       "grid_row": null,
       "grid_template_areas": null,
       "grid_template_columns": null,
       "grid_template_rows": null,
       "height": null,
       "justify_content": null,
       "justify_items": null,
       "left": null,
       "margin": null,
       "max_height": null,
       "max_width": null,
       "min_height": null,
       "min_width": null,
       "object_fit": null,
       "object_position": null,
       "order": null,
       "overflow": null,
       "padding": null,
       "right": null,
       "top": null,
       "visibility": null,
       "width": null
      }
     },
     "bc0c8882e49d46d3bae97f9b6320a882": {
      "model_module": "@jupyter-widgets/controls",
      "model_module_version": "2.0.0",
      "model_name": "HTMLModel",
      "state": {
       "_dom_classes": [],
       "_model_module": "@jupyter-widgets/controls",
       "_model_module_version": "2.0.0",
       "_model_name": "HTMLModel",
       "_view_count": null,
       "_view_module": "@jupyter-widgets/controls",
       "_view_module_version": "2.0.0",
       "_view_name": "HTMLView",
       "description": "",
       "description_allow_html": false,
       "layout": "IPY_MODEL_9240202085524583bcbaf955b39c3bd6",
       "placeholder": "​",
       "style": "IPY_MODEL_446b597f72d945c5acfe4289131b33b0",
       "tabbable": null,
       "tooltip": null,
       "value": " 11/11 [02:42&lt;00:00, 10.73s/it]"
      }
     },
     "c3a4f744999746e09726fee317dda1e5": {
      "model_module": "@jupyter-widgets/controls",
      "model_module_version": "2.0.0",
      "model_name": "HTMLStyleModel",
      "state": {
       "_model_module": "@jupyter-widgets/controls",
       "_model_module_version": "2.0.0",
       "_model_name": "HTMLStyleModel",
       "_view_count": null,
       "_view_module": "@jupyter-widgets/base",
       "_view_module_version": "2.0.0",
       "_view_name": "StyleView",
       "background": null,
       "description_width": "",
       "font_size": null,
       "text_color": null
      }
     }
    },
    "version_major": 2,
    "version_minor": 0
   }
  }
 },
 "nbformat": 4,
 "nbformat_minor": 5
}