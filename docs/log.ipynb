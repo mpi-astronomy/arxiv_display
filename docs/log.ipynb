{
 "cells": [
  {
   "cell_type": "markdown",
   "id": "92bcb855",
   "metadata": {
    "papermill": {
     "duration": 0.005434,
     "end_time": "2023-02-21T04:07:51.284506",
     "exception": false,
     "start_time": "2023-02-21T04:07:51.279072",
     "status": "completed"
    },
    "tags": []
   },
   "source": [
    "# MPIA Arxiv on Deck 2\n",
    "\n",
    "Contains the steps to produce the paper extractions."
   ]
  },
  {
   "cell_type": "code",
   "execution_count": 1,
   "id": "3a0d6e11",
   "metadata": {
    "execution": {
     "iopub.execute_input": "2023-02-21T04:07:51.294908Z",
     "iopub.status.busy": "2023-02-21T04:07:51.294365Z",
     "iopub.status.idle": "2023-02-21T04:07:51.480920Z",
     "shell.execute_reply": "2023-02-21T04:07:51.480245Z"
    },
    "papermill": {
     "duration": 0.193867,
     "end_time": "2023-02-21T04:07:51.482892",
     "exception": false,
     "start_time": "2023-02-21T04:07:51.289025",
     "status": "completed"
    },
    "tags": []
   },
   "outputs": [],
   "source": [
    "# Imports\n",
    "import os\n",
    "from IPython.display import Markdown, display\n",
    "from tqdm.notebook import tqdm\n",
    "import warnings\n",
    "from PIL import Image \n",
    "\n",
    "# requires arxiv_on_deck_2\n",
    "\n",
    "from arxiv_on_deck_2.arxiv2 import (get_new_papers, \n",
    "                                    get_paper_from_identifier,\n",
    "                                    retrieve_document_source, \n",
    "                                    get_markdown_badge)\n",
    "from arxiv_on_deck_2 import (latex, \n",
    "                             mpia,\n",
    "                             highlight_authors_in_list)\n",
    "\n",
    "# Sometimes images are really big\n",
    "Image.MAX_IMAGE_PIXELS = 1000000000 "
   ]
  },
  {
   "cell_type": "code",
   "execution_count": 2,
   "id": "22aa9d44",
   "metadata": {
    "execution": {
     "iopub.execute_input": "2023-02-21T04:07:51.492921Z",
     "iopub.status.busy": "2023-02-21T04:07:51.492319Z",
     "iopub.status.idle": "2023-02-21T04:07:51.497161Z",
     "shell.execute_reply": "2023-02-21T04:07:51.496527Z"
    },
    "papermill": {
     "duration": 0.011714,
     "end_time": "2023-02-21T04:07:51.498949",
     "exception": false,
     "start_time": "2023-02-21T04:07:51.487235",
     "status": "completed"
    },
    "tags": []
   },
   "outputs": [],
   "source": [
    "# Some useful definitions.\n",
    "\n",
    "class AffiliationWarning(UserWarning):\n",
    "    pass\n",
    "\n",
    "class AffiliationError(RuntimeError):\n",
    "    pass\n",
    "\n",
    "def validation(source: str):\n",
    "    \"\"\"Raises error paper during parsing of source file\n",
    "    \n",
    "    Allows checks before parsing TeX code.\n",
    "    \n",
    "    Raises AffiliationWarning\n",
    "    \"\"\"\n",
    "    check = mpia.affiliation_verifications(source, verbose=True)\n",
    "    if check is not True:\n",
    "        raise AffiliationError(\"mpia.affiliation_verifications: \" + check)\n",
    "\n",
    "        \n",
    "warnings.simplefilter('always', AffiliationWarning)"
   ]
  },
  {
   "cell_type": "code",
   "execution_count": 3,
   "id": "14622700",
   "metadata": {
    "execution": {
     "iopub.execute_input": "2023-02-21T04:07:51.508774Z",
     "iopub.status.busy": "2023-02-21T04:07:51.508222Z",
     "iopub.status.idle": "2023-02-21T04:07:51.513034Z",
     "shell.execute_reply": "2023-02-21T04:07:51.512467Z"
    },
    "papermill": {
     "duration": 0.011531,
     "end_time": "2023-02-21T04:07:51.514700",
     "exception": false,
     "start_time": "2023-02-21T04:07:51.503169",
     "status": "completed"
    },
    "tags": []
   },
   "outputs": [],
   "source": [
    "# additional CSS to consider. \n",
    "# TODO: Current into each exported file. \n",
    "#       This should be set once into the webpages directly.\n",
    "#       With only the class/id definitions in the .md files.\n",
    "\n",
    "debug_html = \"\"\"\n",
    "<style>\n",
    "#wrap{ overflow:auto; }\n",
    "#fig1{ background:yellow; width:100%; float:left; padding:5px;  }\n",
    "#fig2{ background:red; width:50%; float:left; clear:left; padding:5px;  }\n",
    "#fig3{ background:green; width:50%; float:left; padding:5px;   }\n",
    ".macros{ background:yellow; visibility:visible;}\n",
    "h1 {margin: 0 0 0 0;}\n",
    "mark {background-color:#fff3b6;}\n",
    "img {object-fit:contain; max-height:250px; display:inline-block; text-align: center;}\n",
    "</style>\n",
    "\"\"\" \n",
    "html = \"\"\"\n",
    "<style>\n",
    "#wrap{ overflow:auto; }\n",
    "#fig1{ width:100%; float:left; padding: 5px;  }\n",
    "#fig2{ width:50%; float:left; clear:left; padding: 5px;  }\n",
    "#fig3{ width:50%; float:left; padding: 5px;  }\n",
    ".macros{ visibility:hidden; height:0px; }\n",
    "h1 {margin: 0em 0 0 0;}\n",
    "mark {background-color:#fff3b6;}\n",
    "img {object-fit:contain; max-height:250px; display:inline-block; text-align: center;}\n",
    "</style>\n",
    "\"\"\""
   ]
  },
  {
   "cell_type": "markdown",
   "id": "14bd6310",
   "metadata": {
    "papermill": {
     "duration": 0.004131,
     "end_time": "2023-02-21T04:07:51.523000",
     "exception": false,
     "start_time": "2023-02-21T04:07:51.518869",
     "status": "completed"
    },
    "tags": []
   },
   "source": [
    "## get list of arxiv paper candidates\n",
    "\n",
    "We use the MPIA mitarbeiter list webpage from mpia.de to get author names\n",
    "We then get all new papers from Arxiv and match authors"
   ]
  },
  {
   "cell_type": "code",
   "execution_count": 4,
   "id": "2645e73a",
   "metadata": {
    "execution": {
     "iopub.execute_input": "2023-02-21T04:07:51.532296Z",
     "iopub.status.busy": "2023-02-21T04:07:51.532071Z",
     "iopub.status.idle": "2023-02-21T04:08:18.699802Z",
     "shell.execute_reply": "2023-02-21T04:08:18.698287Z"
    },
    "papermill": {
     "duration": 27.174283,
     "end_time": "2023-02-21T04:08:18.701359",
     "exception": false,
     "start_time": "2023-02-21T04:07:51.527076",
     "status": "completed"
    },
    "tags": []
   },
   "outputs": [
    {
     "name": "stdout",
     "output_type": "stream",
     "text": [
      "Arxiv has 72 new papers today\n",
      "          33 with possible author matches\n"
     ]
    }
   ],
   "source": [
    "# get list from MPIA website\n",
    "# it automatically filters identified non-scientists :func:`mpia.filter_non_scientists`\n",
    "mpia_authors = mpia.get_mpia_mitarbeiter_list()\n",
    "new_papers = get_new_papers()\n",
    "# add manual references\n",
    "add_paper_refs = []\n",
    "new_papers.extend([get_paper_from_identifier(k) for k in add_paper_refs])\n",
    "\n",
    "# select only papers with matching author names and highlight authors\n",
    "hl_list = [k[0] for k in mpia_authors]\n",
    "\n",
    "candidates = []\n",
    "for paperk in new_papers:\n",
    "    hl_authors = highlight_authors_in_list(paperk['authors'], hl_list)\n",
    "    matches = [(hl, orig) for hl, orig in zip(hl_authors, paperk['authors']) if 'mark' in hl]\n",
    "    paperk['authors'] = hl_authors\n",
    "    if matches:\n",
    "        candidates.append(paperk)\n",
    "print(\"\"\"Arxiv has {0:,d} new papers today\"\"\".format(len(new_papers)))        \n",
    "print(\"\"\"          {0:,d} with possible author matches\"\"\".format(len(candidates)))"
   ]
  },
  {
   "cell_type": "markdown",
   "id": "3543b34a",
   "metadata": {
    "papermill": {
     "duration": 0.004544,
     "end_time": "2023-02-21T04:08:18.711019",
     "exception": false,
     "start_time": "2023-02-21T04:08:18.706475",
     "status": "completed"
    },
    "tags": []
   },
   "source": [
    "# Parse sources and generate relevant outputs\n",
    "\n",
    "From the candidates, we do the following steps:\n",
    "* get their tarball from ArXiv (and extract data)\n",
    "* find the main .tex file: find one with \\documentclass{...} (sometimes it's non trivial)\n",
    "* Check affiliations with :func:`validation`, which uses :func:`mpia.affiliation_verifications`\n",
    "* If passing the affiliations: we parse the .tex source\n",
    "   * inject sub-documents into the main (flatten the main document)\n",
    "   * parse structure, extract information (title, abstract, authors, figures...)\n",
    "   * handles `\\graphicspath` if provided\n",
    "* Generate the .md document."
   ]
  },
  {
   "cell_type": "code",
   "execution_count": 5,
   "id": "9576b79e",
   "metadata": {
    "execution": {
     "iopub.execute_input": "2023-02-21T04:08:18.721096Z",
     "iopub.status.busy": "2023-02-21T04:08:18.720523Z",
     "iopub.status.idle": "2023-02-21T04:10:59.690665Z",
     "shell.execute_reply": "2023-02-21T04:10:59.690060Z"
    },
    "papermill": {
     "duration": 160.977141,
     "end_time": "2023-02-21T04:10:59.692348",
     "exception": false,
     "start_time": "2023-02-21T04:08:18.715207",
     "status": "completed"
    },
    "scrolled": false,
    "tags": []
   },
   "outputs": [
    {
     "data": {
      "application/vnd.jupyter.widget-view+json": {
       "model_id": "624866f0670a4826b4b08962d03f64f8",
       "version_major": 2,
       "version_minor": 0
      },
      "text/plain": [
       "  0%|          | 0/32 [00:00<?, ?it/s]"
      ]
     },
     "metadata": {},
     "output_type": "display_data"
    },
    {
     "name": "stdout",
     "output_type": "stream",
     "text": [
      "Retrieving document from  https://arxiv.org/e-print/2302.09082\n"
     ]
    },
    {
     "name": "stdout",
     "output_type": "stream",
     "text": [
      "extracting tarball to tmp_2302.09082..."
     ]
    },
    {
     "name": "stdout",
     "output_type": "stream",
     "text": [
      " done.\n",
      "Retrieving document from  https://arxiv.org/e-print/2302.09091\n"
     ]
    },
    {
     "name": "stdout",
     "output_type": "stream",
     "text": [
      "extracting tarball to tmp_2302.09091... done.\n",
      "Retrieving document from  https://arxiv.org/e-print/2302.09199\n"
     ]
    },
    {
     "name": "stderr",
     "output_type": "stream",
     "text": [
      "/opt/hostedtoolcache/Python/3.9.16/x64/lib/python3.9/site-packages/IPython/core/interactiveshell.py:3460: LatexWarning: Multiple tex files.\n",
      "\n",
      "  exec(code_obj, self.user_global_ns, self.user_ns)\n",
      "/opt/hostedtoolcache/Python/3.9.16/x64/lib/python3.9/site-packages/IPython/core/interactiveshell.py:3460: LatexWarning: Found documentclass in tmp_2302.09091/main.tex\n",
      "\n",
      "  exec(code_obj, self.user_global_ns, self.user_ns)\n",
      "/opt/hostedtoolcache/Python/3.9.16/x64/lib/python3.9/site-packages/arxiv_on_deck_2/latex.py:292: LatexWarning: Latex injecting: 'universalnewcommands.tex' from 'tmp_2302.09091/universalnewcommands.tex'\n",
      "  warnings.warn(LatexWarning(f\"Latex injecting: '{ext}' from '{subsource}'\"))\n"
     ]
    },
    {
     "name": "stdout",
     "output_type": "stream",
     "text": [
      "extracting tarball to tmp_2302.09199..."
     ]
    },
    {
     "name": "stdout",
     "output_type": "stream",
     "text": [
      " done.\n",
      "Retrieving document from  https://arxiv.org/e-print/2302.09226\n"
     ]
    },
    {
     "name": "stdout",
     "output_type": "stream",
     "text": [
      "extracting tarball to tmp_2302.09226..."
     ]
    },
    {
     "name": "stdout",
     "output_type": "stream",
     "text": [
      " done.\n",
      "Retrieving document from  https://arxiv.org/e-print/2302.09269\n"
     ]
    },
    {
     "name": "stdout",
     "output_type": "stream",
     "text": [
      "extracting tarball to tmp_2302.09269..."
     ]
    },
    {
     "name": "stdout",
     "output_type": "stream",
     "text": [
      " done.\n",
      "Retrieving document from  https://arxiv.org/e-print/2302.09272\n"
     ]
    },
    {
     "name": "stdout",
     "output_type": "stream",
     "text": [
      "extracting tarball to tmp_2302.09272..."
     ]
    },
    {
     "name": "stdout",
     "output_type": "stream",
     "text": [
      " done.\n",
      "Retrieving document from  https://arxiv.org/e-print/2302.09370\n"
     ]
    },
    {
     "name": "stdout",
     "output_type": "stream",
     "text": [
      "extracting tarball to tmp_2302.09370..."
     ]
    },
    {
     "name": "stdout",
     "output_type": "stream",
     "text": [
      " done.\n",
      "Retrieving document from  https://arxiv.org/e-print/2302.09372\n"
     ]
    },
    {
     "name": "stderr",
     "output_type": "stream",
     "text": [
      "/opt/hostedtoolcache/Python/3.9.16/x64/lib/python3.9/site-packages/IPython/core/interactiveshell.py:3460: LatexWarning: Multiple tex files.\n",
      "\n",
      "  exec(code_obj, self.user_global_ns, self.user_ns)\n",
      "/opt/hostedtoolcache/Python/3.9.16/x64/lib/python3.9/site-packages/IPython/core/interactiveshell.py:3460: LatexWarning: Found documentclass in tmp_2302.09370/mnras_guide.tex\n",
      "\n",
      "  exec(code_obj, self.user_global_ns, self.user_ns)\n"
     ]
    },
    {
     "name": "stdout",
     "output_type": "stream",
     "text": [
      "extracting tarball to tmp_2302.09372..."
     ]
    },
    {
     "name": "stdout",
     "output_type": "stream",
     "text": [
      " done.\n"
     ]
    },
    {
     "name": "stderr",
     "output_type": "stream",
     "text": [
      "/opt/hostedtoolcache/Python/3.9.16/x64/lib/python3.9/site-packages/arxiv_on_deck_2/latex.py:118: LatexWarning: attempting recovering figure figures/SNR_Els.pdf\n",
      "  warnings.warn(LatexWarning(f'attempting recovering figure {image}'))\n",
      "/tmp/ipykernel_2005/4030337529.py:34: LatexWarning: 2302.09372 did not run properly\n",
      "Could not find figure figures/SNR_Els.pdf\n",
      "  warnings.warn(latex.LatexWarning(f\"{paper_id:s} did not run properly\\n\" +\n"
     ]
    },
    {
     "name": "stdout",
     "output_type": "stream",
     "text": [
      "Retrieving document from  https://arxiv.org/e-print/2302.09380\n"
     ]
    },
    {
     "name": "stdout",
     "output_type": "stream",
     "text": [
      "extracting tarball to tmp_2302.09380..."
     ]
    },
    {
     "name": "stdout",
     "output_type": "stream",
     "text": [
      " done.\n",
      "Retrieving document from  https://arxiv.org/e-print/2302.09525\n"
     ]
    },
    {
     "name": "stdout",
     "output_type": "stream",
     "text": [
      "extracting tarball to tmp_2302.09525..."
     ]
    },
    {
     "name": "stdout",
     "output_type": "stream",
     "text": [
      " done.\n",
      "Retrieving document from  https://arxiv.org/e-print/2302.09577\n"
     ]
    },
    {
     "name": "stdout",
     "output_type": "stream",
     "text": [
      "extracting tarball to tmp_2302.09577..."
     ]
    },
    {
     "name": "stdout",
     "output_type": "stream",
     "text": [
      " done.\n",
      "Retrieving document from  https://arxiv.org/e-print/2302.09669\n"
     ]
    },
    {
     "name": "stderr",
     "output_type": "stream",
     "text": [
      "/opt/hostedtoolcache/Python/3.9.16/x64/lib/python3.9/site-packages/IPython/core/interactiveshell.py:3460: LatexWarning: Multiple tex files.\n",
      "\n",
      "  exec(code_obj, self.user_global_ns, self.user_ns)\n",
      "/opt/hostedtoolcache/Python/3.9.16/x64/lib/python3.9/site-packages/IPython/core/interactiveshell.py:3460: LatexWarning: Found documentclass in tmp_2302.09577/aassymbols.tex\n",
      "\n",
      "  exec(code_obj, self.user_global_ns, self.user_ns)\n"
     ]
    },
    {
     "name": "stdout",
     "output_type": "stream",
     "text": [
      "extracting tarball to tmp_2302.09669..."
     ]
    },
    {
     "name": "stdout",
     "output_type": "stream",
     "text": [
      " done.\n",
      "Retrieving document from  https://arxiv.org/e-print/2302.09697\n"
     ]
    },
    {
     "name": "stderr",
     "output_type": "stream",
     "text": [
      "/opt/hostedtoolcache/Python/3.9.16/x64/lib/python3.9/site-packages/IPython/core/interactiveshell.py:3460: LatexWarning: Multiple tex files.\n",
      "\n",
      "  exec(code_obj, self.user_global_ns, self.user_ns)\n",
      "/opt/hostedtoolcache/Python/3.9.16/x64/lib/python3.9/site-packages/IPython/core/interactiveshell.py:3460: LatexWarning: Found documentclass in tmp_2302.09669/ms.tex\n",
      "\n",
      "  exec(code_obj, self.user_global_ns, self.user_ns)\n"
     ]
    },
    {
     "name": "stdout",
     "output_type": "stream",
     "text": [
      "extracting tarball to tmp_2302.09697..."
     ]
    },
    {
     "name": "stdout",
     "output_type": "stream",
     "text": [
      " done.\n",
      "Retrieving document from  https://arxiv.org/e-print/2302.09722\n"
     ]
    },
    {
     "name": "stderr",
     "output_type": "stream",
     "text": [
      "/opt/hostedtoolcache/Python/3.9.16/x64/lib/python3.9/site-packages/IPython/core/interactiveshell.py:3460: LatexWarning: Multiple tex files.\n",
      "\n",
      "  exec(code_obj, self.user_global_ns, self.user_ns)\n",
      "/opt/hostedtoolcache/Python/3.9.16/x64/lib/python3.9/site-packages/IPython/core/interactiveshell.py:3460: LatexWarning: Found documentclass in tmp_2302.09697/mnras_template.tex\n",
      "\n",
      "  exec(code_obj, self.user_global_ns, self.user_ns)\n"
     ]
    },
    {
     "name": "stdout",
     "output_type": "stream",
     "text": [
      "extracting tarball to tmp_2302.09722..."
     ]
    },
    {
     "name": "stdout",
     "output_type": "stream",
     "text": [
      " done.\n",
      "Retrieving document from  https://arxiv.org/e-print/2302.09735\n"
     ]
    },
    {
     "name": "stdout",
     "output_type": "stream",
     "text": [
      "extracting tarball to tmp_2302.09735... done.\n",
      "Retrieving document from  https://arxiv.org/e-print/2302.09754\n"
     ]
    },
    {
     "name": "stdout",
     "output_type": "stream",
     "text": [
      "extracting tarball to tmp_2302.09754..."
     ]
    },
    {
     "name": "stdout",
     "output_type": "stream",
     "text": [
      " done.\n",
      "Retrieving document from  https://arxiv.org/e-print/2302.09763\n"
     ]
    },
    {
     "name": "stderr",
     "output_type": "stream",
     "text": [
      "/opt/hostedtoolcache/Python/3.9.16/x64/lib/python3.9/site-packages/IPython/core/interactiveshell.py:3460: LatexWarning: Multiple tex files.\n",
      "\n",
      "  exec(code_obj, self.user_global_ns, self.user_ns)\n",
      "/opt/hostedtoolcache/Python/3.9.16/x64/lib/python3.9/site-packages/IPython/core/interactiveshell.py:3460: LatexWarning: Found documentclass in tmp_2302.09754/main.tex\n",
      "\n",
      "  exec(code_obj, self.user_global_ns, self.user_ns)\n",
      "/opt/hostedtoolcache/Python/3.9.16/x64/lib/python3.9/site-packages/arxiv_on_deck_2/latex.py:292: LatexWarning: Latex injecting: 'tab_photo-z' from 'tmp_2302.09754/tab_photo-z.tex'\n",
      "  warnings.warn(LatexWarning(f\"Latex injecting: '{ext}' from '{subsource}'\"))\n",
      "/opt/hostedtoolcache/Python/3.9.16/x64/lib/python3.9/site-packages/arxiv_on_deck_2/latex.py:292: LatexWarning: Latex injecting: 'tab_path.tex' from 'tmp_2302.09754/tab_path.tex'\n",
      "  warnings.warn(LatexWarning(f\"Latex injecting: '{ext}' from '{subsource}'\"))\n"
     ]
    },
    {
     "name": "stdout",
     "output_type": "stream",
     "text": [
      "extracting tarball to tmp_2302.09763... done.\n",
      "Retrieving document from  https://arxiv.org/e-print/2302.09764\n"
     ]
    },
    {
     "name": "stdout",
     "output_type": "stream",
     "text": [
      "extracting tarball to tmp_2302.09764..."
     ]
    },
    {
     "name": "stdout",
     "output_type": "stream",
     "text": [
      " done.\n",
      "Retrieving document from  https://arxiv.org/e-print/2302.09777\n"
     ]
    },
    {
     "name": "stdout",
     "output_type": "stream",
     "text": [
      "extracting tarball to tmp_2302.09777..."
     ]
    },
    {
     "name": "stdout",
     "output_type": "stream",
     "text": [
      " done.\n",
      "Retrieving document from  https://arxiv.org/e-print/2302.09787\n"
     ]
    },
    {
     "name": "stdout",
     "output_type": "stream",
     "text": [
      "extracting tarball to tmp_2302.09787..."
     ]
    },
    {
     "name": "stdout",
     "output_type": "stream",
     "text": [
      " done.\n",
      "Retrieving document from  https://arxiv.org/e-print/2302.09802\n"
     ]
    },
    {
     "name": "stdout",
     "output_type": "stream",
     "text": [
      "extracting tarball to tmp_2302.09802..."
     ]
    },
    {
     "name": "stdout",
     "output_type": "stream",
     "text": [
      " done.\n",
      "Retrieving document from  https://arxiv.org/e-print/2302.09812\n"
     ]
    },
    {
     "name": "stdout",
     "output_type": "stream",
     "text": [
      "extracting tarball to tmp_2302.09812..."
     ]
    },
    {
     "name": "stdout",
     "output_type": "stream",
     "text": [
      " done.\n",
      "Retrieving document from  https://arxiv.org/e-print/2302.09925\n"
     ]
    },
    {
     "name": "stdout",
     "output_type": "stream",
     "text": [
      "extracting tarball to tmp_2302.09925..."
     ]
    },
    {
     "name": "stdout",
     "output_type": "stream",
     "text": [
      " done.\n",
      "Retrieving document from  https://arxiv.org/e-print/2302.09929\n"
     ]
    },
    {
     "name": "stdout",
     "output_type": "stream",
     "text": [
      "extracting tarball to tmp_2302.09929..."
     ]
    },
    {
     "name": "stdout",
     "output_type": "stream",
     "text": [
      " done.\n",
      "Retrieving document from  https://arxiv.org/e-print/2302.09951\n"
     ]
    },
    {
     "name": "stdout",
     "output_type": "stream",
     "text": [
      "extracting tarball to tmp_2302.09951..."
     ]
    },
    {
     "name": "stdout",
     "output_type": "stream",
     "text": [
      " done.\n",
      "Retrieving document from  https://arxiv.org/e-print/2302.09987\n"
     ]
    },
    {
     "name": "stderr",
     "output_type": "stream",
     "text": [
      "/tmp/ipykernel_2005/4030337529.py:34: LatexWarning: 2302.09987 did not run properly\n",
      "not a gzip file\n",
      "  warnings.warn(latex.LatexWarning(f\"{paper_id:s} did not run properly\\n\" +\n"
     ]
    },
    {
     "name": "stdout",
     "output_type": "stream",
     "text": [
      "Retrieving document from  https://arxiv.org/e-print/2302.10002\n"
     ]
    },
    {
     "name": "stdout",
     "output_type": "stream",
     "text": [
      "extracting tarball to tmp_2302.10002..."
     ]
    },
    {
     "name": "stdout",
     "output_type": "stream",
     "text": [
      " done.\n",
      "Retrieving document from  https://arxiv.org/e-print/2302.10008\n"
     ]
    },
    {
     "name": "stdout",
     "output_type": "stream",
     "text": [
      "extracting tarball to tmp_2302.10008..."
     ]
    },
    {
     "name": "stdout",
     "output_type": "stream",
     "text": [
      " done.\n"
     ]
    },
    {
     "name": "stderr",
     "output_type": "stream",
     "text": [
      "/opt/hostedtoolcache/Python/3.9.16/x64/lib/python3.9/site-packages/IPython/core/interactiveshell.py:3460: LatexWarning: Multiple tex files.\n",
      "\n",
      "  exec(code_obj, self.user_global_ns, self.user_ns)\n",
      "/opt/hostedtoolcache/Python/3.9.16/x64/lib/python3.9/site-packages/IPython/core/interactiveshell.py:3460: LatexWarning: Found documentclass in tmp_2302.10008/toi3235_aas.tex\n",
      "\n",
      "  exec(code_obj, self.user_global_ns, self.user_ns)\n",
      "/opt/hostedtoolcache/Python/3.9.16/x64/lib/python3.9/site-packages/arxiv_on_deck_2/latex.py:292: LatexWarning: Latex injecting: 'rvtable.tex' from 'tmp_2302.10008/rvtable.tex'\n",
      "  warnings.warn(LatexWarning(f\"Latex injecting: '{ext}' from '{subsource}'\"))\n",
      "/opt/hostedtoolcache/Python/3.9.16/x64/lib/python3.9/site-packages/arxiv_on_deck_2/latex.py:292: LatexWarning: Latex injecting: 'phfu_tab_short.tex' from 'tmp_2302.10008/phfu_tab_short.tex'\n",
      "  warnings.warn(LatexWarning(f\"Latex injecting: '{ext}' from '{subsource}'\"))\n",
      "/opt/hostedtoolcache/Python/3.9.16/x64/lib/python3.9/site-packages/arxiv_on_deck_2/latex.py:292: LatexWarning: Latex injecting: 'TOI3235.eccen.tex' from 'tmp_2302.10008/TOI3235.eccen.tex'\n",
      "  warnings.warn(LatexWarning(f\"Latex injecting: '{ext}' from '{subsource}'\"))\n",
      "/opt/hostedtoolcache/Python/3.9.16/x64/lib/python3.9/site-packages/arxiv_on_deck_2/latex.py:292: LatexWarning: Latex injecting: 'TOI3235.tex' from 'tmp_2302.10008/TOI3235.tex'\n",
      "  warnings.warn(LatexWarning(f\"Latex injecting: '{ext}' from '{subsource}'\"))\n",
      "/opt/hostedtoolcache/Python/3.9.16/x64/lib/python3.9/site-packages/arxiv_on_deck_2/latex.py:292: LatexWarning: Latex injecting: 'newcommand_gen.tex' from 'tmp_2302.10008/newcommand_gen.tex'\n",
      "  warnings.warn(LatexWarning(f\"Latex injecting: '{ext}' from '{subsource}'\"))\n"
     ]
    },
    {
     "name": "stderr",
     "output_type": "stream",
     "text": [
      "/opt/hostedtoolcache/Python/3.9.16/x64/lib/python3.9/site-packages/arxiv_on_deck_2/latex.py:118: LatexWarning: attempting recovering figure TOI3235-TESS\n",
      "  warnings.warn(LatexWarning(f'attempting recovering figure {image}'))\n"
     ]
    },
    {
     "name": "stderr",
     "output_type": "stream",
     "text": [
      "/opt/hostedtoolcache/Python/3.9.16/x64/lib/python3.9/site-packages/arxiv_on_deck_2/latex.py:118: LatexWarning: attempting recovering figure TOI3235-hs\n",
      "  warnings.warn(LatexWarning(f'attempting recovering figure {image}'))\n",
      "/opt/hostedtoolcache/Python/3.9.16/x64/lib/python3.9/site-packages/arxiv_on_deck_2/latex.py:118: LatexWarning: attempting recovering figure TOI3235-lc\n",
      "  warnings.warn(LatexWarning(f'attempting recovering figure {image}'))\n"
     ]
    },
    {
     "name": "stderr",
     "output_type": "stream",
     "text": [
      "/opt/hostedtoolcache/Python/3.9.16/x64/lib/python3.9/site-packages/arxiv_on_deck_2/latex.py:118: LatexWarning: attempting recovering figure TOI3235-rv\n",
      "  warnings.warn(LatexWarning(f'attempting recovering figure {image}'))\n",
      "/opt/hostedtoolcache/Python/3.9.16/x64/lib/python3.9/site-packages/arxiv_on_deck_2/latex.py:118: LatexWarning: attempting recovering figure TOI3235-iso-gk-gabs-isofeh-SED\n",
      "  warnings.warn(LatexWarning(f'attempting recovering figure {image}'))\n"
     ]
    },
    {
     "name": "stdout",
     "output_type": "stream",
     "text": [
      "Retrieving document from  https://arxiv.org/e-print/2302.10024\n"
     ]
    },
    {
     "name": "stdout",
     "output_type": "stream",
     "text": [
      "extracting tarball to tmp_2302.10024..."
     ]
    },
    {
     "name": "stdout",
     "output_type": "stream",
     "text": [
      " done.\n",
      "Retrieving document from  https://arxiv.org/e-print/2302.10047\n"
     ]
    },
    {
     "name": "stdout",
     "output_type": "stream",
     "text": [
      "extracting tarball to tmp_2302.10047..."
     ]
    },
    {
     "name": "stdout",
     "output_type": "stream",
     "text": [
      " done.\n",
      "Retrieving document from  https://arxiv.org/e-print/2302.10048\n"
     ]
    },
    {
     "name": "stdout",
     "output_type": "stream",
     "text": [
      "extracting tarball to tmp_2302.10048..."
     ]
    },
    {
     "name": "stdout",
     "output_type": "stream",
     "text": [
      " done.\n",
      "Retrieving document from  https://arxiv.org/e-print/2302.10107\n"
     ]
    },
    {
     "name": "stdout",
     "output_type": "stream",
     "text": [
      "extracting tarball to tmp_2302.10107..."
     ]
    },
    {
     "name": "stdout",
     "output_type": "stream",
     "text": [
      " done.\n"
     ]
    }
   ],
   "source": [
    "documents = []\n",
    "failed = []\n",
    "for paper in tqdm(candidates[:-1]):\n",
    "    paper_id = paper['identifier'].lower().replace('arxiv:', '')\n",
    "    \n",
    "    folder = f'tmp_{paper_id}'\n",
    "\n",
    "    try:\n",
    "        if not os.path.isdir(folder):\n",
    "            folder = retrieve_document_source(f\"{paper_id}\", f'tmp_{paper_id}')\n",
    "        \n",
    "        try:\n",
    "            doc = latex.LatexDocument(folder, validation=validation)    \n",
    "        except AffiliationError as affilerror:\n",
    "            msg = f\"ArXiv:{paper_id:s} is not an MPIA paper... \" + str(affilerror)\n",
    "            failed.append((paper, \"affiliation error: \" + str(affilerror) ))\n",
    "            continue\n",
    "        \n",
    "        # Hack because sometimes author parsing does not work well\n",
    "        if (len(doc.authors) != len(paper['authors'])):\n",
    "            doc._authors = paper['authors']\n",
    "        if (doc.abstract) in (None, ''):\n",
    "            doc._abstract = paper['abstract']\n",
    "            \n",
    "        doc.comment = (get_markdown_badge(paper_id) + \n",
    "                       \"<mark>Appeared on: \" + paper['date'] + \"</mark> - \" +\n",
    "                       \"_\" + paper['comments'] + \"_\")\n",
    "        doc.highlight_authors_in_list(hl_list)\n",
    "\n",
    "        full_md = doc.generate_markdown_text()\n",
    "        \n",
    "        documents.append((paper_id, full_md))\n",
    "    except Exception as e:\n",
    "        warnings.warn(latex.LatexWarning(f\"{paper_id:s} did not run properly\\n\" +\n",
    "                                         str(e)\n",
    "                                        ))\n",
    "        failed.append((paper, \"latex error \" + str(e)))"
   ]
  },
  {
   "cell_type": "markdown",
   "id": "2505a25c",
   "metadata": {
    "papermill": {
     "duration": 0.008123,
     "end_time": "2023-02-21T04:10:59.708629",
     "exception": false,
     "start_time": "2023-02-21T04:10:59.700506",
     "status": "completed"
    },
    "tags": []
   },
   "source": [
    "### Export the logs\n",
    "\n",
    "Throughout, we also keep track of the logs per paper. see `logs-{today date}.md` "
   ]
  },
  {
   "cell_type": "code",
   "execution_count": 6,
   "id": "d733828a",
   "metadata": {
    "execution": {
     "iopub.execute_input": "2023-02-21T04:10:59.725882Z",
     "iopub.status.busy": "2023-02-21T04:10:59.725337Z",
     "iopub.status.idle": "2023-02-21T04:10:59.776245Z",
     "shell.execute_reply": "2023-02-21T04:10:59.775418Z"
    },
    "papermill": {
     "duration": 0.06783,
     "end_time": "2023-02-21T04:10:59.784298",
     "exception": false,
     "start_time": "2023-02-21T04:10:59.716468",
     "status": "completed"
    },
    "scrolled": false,
    "tags": []
   },
   "outputs": [
    {
     "data": {
      "text/markdown": [
       "## Successful papers"
      ],
      "text/plain": [
       "<IPython.core.display.Markdown object>"
      ]
     },
     "metadata": {},
     "output_type": "display_data"
    },
    {
     "data": {
      "text/markdown": [
       "\n",
       "|||\n",
       "|---:|:---|\n",
       "| [![arXiv](https://img.shields.io/badge/arXiv-arXiv:2302.10008-b31b1b.svg)](https://arxiv.org/abs/arXiv:2302.10008) | **TOI-3235 b: a transiting giant planet around an M4 dwarf star**  |\n",
       "|| <mark>Melissa J. Hobson</mark>, et al. -- incl., <mark>Th. Henning</mark>, <mark>Richard P. Schwarz</mark> |\n",
       "|*Appeared on*| *2023-02-21*|\n",
       "|*Comments*| *15 pages, 4 figures. Accepted for publication in APJL*|\n",
       "|**Abstract**| We present the discovery of TOI-3235 b, a short-period Jupiter orbiting an M-dwarf with a stellar mass close to the critical mass at which stars transition from partially to fully convective. TOI-3235 b was first identified as a candidate from TESS photometry, and confirmed with radial velocities from ESPRESSO, and ground-based photometry from HATSouth, MEarth-South, TRAPPIST-South, LCOGT, and ExTrA. We find that the planet has a mass of $\\mathrm{0.665\\pm0.025\\,M_J}$ and a radius of $\\mathrm{1.017\\pm0.044\\,R_J}$. It orbits close to its host star, with an orbital period of $\\mathrm{2.5926\\,d}$, but has an equilibrium temperature of $\\mathrm{\\approx 604 \\, K}$, well below the expected threshold for radius inflation of hot Jupiters. The host star has a mass of $\\mathrm{0.3939\\pm0.0030\\,M_\\odot}$, a radius of $\\mathrm{0.3697\\pm0.0018\\,R_\\odot}$, an effective temperature of $\\mathrm{3389 \\, K}$, and a J-band magnitude of $\\mathrm{11.706\\pm0.025}$. Current planet formation models do not predict the existence of gas giants such as TOI-3235 b around such low-mass stars. With a high transmission spectroscopy metric, TOI-3235 b is one of the best-suited giants orbiting M-dwarfs for atmospheric characterization. |"
      ],
      "text/plain": [
       "[arXiv:2302.10008] TOI-3235 b: a transiting giant planet around an M4 dwarf star\n",
       "\t<mark>Melissa J. Hobson</mark>, et al. -- incl., <mark>Th. Henning</mark>, <mark>Richard P. Schwarz</mark>"
      ]
     },
     "metadata": {},
     "output_type": "display_data"
    },
    {
     "data": {
      "text/markdown": [
       "## Failed papers"
      ],
      "text/plain": [
       "<IPython.core.display.Markdown object>"
      ]
     },
     "metadata": {},
     "output_type": "display_data"
    },
    {
     "data": {
      "text/markdown": [
       "\n",
       "|||\n",
       "|---:|:---|\n",
       "| [![arXiv](https://img.shields.io/badge/arXiv-arXiv:2302.09199-b31b1b.svg)](https://arxiv.org/abs/arXiv:2302.09199) | **Abundance matching analysis of the emission line galaxy sample in the  extended Baryon Oscillation Spectroscopic Survey**  |\n",
       "|| <mark>Sicheng Lin</mark>, et al. -- incl., <mark>Hong Guo</mark>, <mark>Joel R. Brownstein</mark> |\n",
       "|*Appeared on*| *2023-02-21*|\n",
       "|*Comments*| *MNRAS, Volume 519, Issue 3*|\n",
       "|**Abstract**| We present the measurements of the small-scale clustering for the emission line galaxy (ELG) sample from the extended Baryon Oscillation Spectroscopic Survey (eBOSS) in the Sloan Digital Sky Survey IV (SDSS-IV). We use conditional abundance matching method to interpret the clustering measurements from $0.34h^{-1}\\textrm{Mpc}$ to $70h^{-1}\\textrm{Mpc}$. In order to account for the correlation between properties of emission line galaxies and their environment, we add a secondary connection between star formation rate of ELGs and halo accretion rate. Three parameters are introduced to model the ELG [OII] luminosity and to mimic the target selection of eBOSS ELGs. The parameters in our models are optimized using Markov Chain Monte Carlo (MCMC) method. We find that by conditionally matching star formation rate of galaxies and the halo accretion rate, we are able to reproduce the eBOSS ELG small scale clustering within 1$\\sigma$ error level. Our best fit model shows that the eBOSS ELG sample only consists of $\\sim 12\\%$ of all star-forming galaxies, and the satellite fraction of eBOSS ELG sample is 19.3\\%. We show that the effect of assembly bias is $\\sim20\\%$ on the two-point correlation function and $\\sim5\\%$ on the void probability function at scale of $r\\sim 20 h^{-1}\\rm Mpc$. |\n",
       "|<p style=\"color:green\"> **ERROR** </p>| <p style=\"color:green\">affiliation error: mpia.affiliation_verifications: '69117' keyword not found.</p> |"
      ],
      "text/plain": [
       "<IPython.core.display.Markdown object>"
      ]
     },
     "metadata": {},
     "output_type": "display_data"
    },
    {
     "data": {
      "text/markdown": [
       "\n",
       "|||\n",
       "|---:|:---|\n",
       "| [![arXiv](https://img.shields.io/badge/arXiv-arXiv:2302.09091-b31b1b.svg)](https://arxiv.org/abs/arXiv:2302.09091) | **Neutrino-Assisted Early Dark Energy is a Natural Resolution of the  Hubble Tension**  |\n",
       "|| Mariana Carrillo González, <mark>Qiuyue Liang</mark>, Jeremy Sakstein, Mark Trodden |\n",
       "|*Appeared on*| *2023-02-21*|\n",
       "|*Comments*| *5 pages, 1 figure, comment*|\n",
       "|**Abstract**| It has very recently been claimed that the neutrino-assisted early dark energy model -- a promising resolution of the Hubble tension that can ameliorate the theoretical fine-tuning and coincidence problems that plague other theories -- does not provide natural or cosmologically interesting results. In this short paper, we show that these conclusions are incorrect for three reasons. First, we identify errors in the calculations. Second, we dispute the definition in of what constitutes an 'interesting' and 'natural' model. Finally, we demonstrate that the conclusions of were arrived at without fully exploring the full parameter space of the model. Neutrino-assisted early dark energy remains a natural and interesting potential resolution of the Hubble tension that merits further study. |\n",
       "|<p style=\"color:green\"> **ERROR** </p>| <p style=\"color:green\">affiliation error: mpia.affiliation_verifications: 'Heidelberg' keyword not found.</p> |"
      ],
      "text/plain": [
       "<IPython.core.display.Markdown object>"
      ]
     },
     "metadata": {},
     "output_type": "display_data"
    },
    {
     "data": {
      "text/markdown": [
       "\n",
       "|||\n",
       "|---:|:---|\n",
       "| [![arXiv](https://img.shields.io/badge/arXiv-arXiv:2302.09226-b31b1b.svg)](https://arxiv.org/abs/arXiv:2302.09226) | **Collapsars as Sites of r-process Nucleosynthesis: Systematic  Near-Infrared Follow-up of Type Ic-BL Supernovae**  |\n",
       "|| Shreya Anand, et al. -- incl., <mark>Yashvi Sharma</mark>, <mark>Frank J. Masci</mark>, <mark>Chaoran Zhang</mark> |\n",
       "|*Appeared on*| *2023-02-21*|\n",
       "|*Comments*| *35 pages, 8 figures, 4 tables. Submitted for publication in The Astrophysical Journal*|\n",
       "|**Abstract**| One of the open questions following the discovery of GW170817 is whether neutron star mergers are the only astrophysical sites capable of producing r-process elements. Simulations have shown that 0.01-0.1M$_\\odot$ of r-process material could be generated in the outflows originating from the accretion disk surrounding the rapidly rotating black hole that forms as a remnant to both neutron star mergers and collapsing massive stars associated with long-duration gamma-ray bursts (collapsars). The hallmark signature of r-process nucleosynthesis in the binary neutron star merger GW170817 was its long-lasting near-infrared emission, thus motivating a systematic photometric study of the light curves of broadlined stripped-envelope (Ic-BL) supernovae (SNe) associated with collapsars. We present the first systematic study of 25 SNe Ic-BL -- discovered with the Zwicky Transient Facility and from the literature -- in the optical/near-infrared bands to determine what quantity of r-process material, if any, is synthesized in these explosions. Using semi-analytic models designed to account for r-process production in SNe Ic-BL, we perform light curve fitting to derive constraints on the r-process mass for these SNe. We also perform independent light curve fits to models without r-process. We find that the r-process-free models are a better fit to the light curves of the objects in our sample. Thus we conclude that there is no compelling evidence of r-process enrichment in any of our objects. Further high-cadence infrared photometric studies and nebular spectroscopic analysis would be sensitive to smaller quantities of r-process ejecta mass or indicate whether all collapsars are completely devoid of r-process nucleosynthesis. |\n",
       "|<p style=\"color:green\"> **ERROR** </p>| <p style=\"color:green\">affiliation error: mpia.affiliation_verifications: 'Heidelberg' keyword not found.</p> |"
      ],
      "text/plain": [
       "<IPython.core.display.Markdown object>"
      ]
     },
     "metadata": {},
     "output_type": "display_data"
    },
    {
     "data": {
      "text/markdown": [
       "\n",
       "|||\n",
       "|---:|:---|\n",
       "| [![arXiv](https://img.shields.io/badge/arXiv-arXiv:2302.09269-b31b1b.svg)](https://arxiv.org/abs/arXiv:2302.09269) | **Follow-up survey for the binary black hole merger GW200224_222234 using  Subaru/HSC and GTC/OSIRIS**  |\n",
       "|| Takayuki Ohgami, et al. -- incl., <mark>Mahito Sasada</mark> |\n",
       "|*Appeared on*| *2023-02-21*|\n",
       "|*Comments*| *22 pages, 15 figures. Accepted for publication in the Astrophysical Journal*|\n",
       "|**Abstract**| The LIGO/Virgo detected a gravitational wave (GW) event, named GW200224_222234 (a.k.a. S200224ca) and classified as a binary-black-hole coalescence, on February 24, 2020. Given its relatively small localization skymap (71 deg$^2$ for a 90% credible region; revised to 50 deg$^2$ in GWTC-3), we performed target-of-opportunity observations using the Subaru/Hyper Suprime-Cam (HSC) in the $r2$- and $z$-bands. Observations were conducted on February 25 and 28 and March 23, 2020, with the first epoch beginning 12.3 h after the GW detection. The survey covered the highest probability sky area of 56.6 deg$^2$, corresponding to a 91% probability. This was the first deep follow-up ($m_{r}\\gtrsim24, m_{z}\\gtrsim23$) for a binary-black-hole merger covering $>$90% of the localization. By performing image subtraction and candidate screening including light curve fitting with transient templates and examples, we found 22 off-nucleus transients that were not ruled out as the counterparts of GW200224_222234 with only our Subaru/HSC data. We also performed GTC/OSIRIS spectroscopy of the probable host galaxies for five candidates; two are likely to be located within the 3D skymap, whereas the others are not. In conclusion, 19 transients remain as possible optical counterparts of GW200224_222234; however, we could not identify a unique promising counterpart. If there are no counterparts in the remaining candidates, the upper limits of optical luminosity are $\\nu L_{\\nu} < 5.2^{+2.4}_{-1.9}\\times 10^{41}$ erg s$^{-1}$ and $\\nu L_{\\nu} < 1.8^{+0.8}_{-0.6}\\times 10^{42}$ erg s$^{-1}$ in the $r2$- and $z$-bands, respectively, at $\\sim$12 h after GW detection. We also discuss improvements in the strategies of optical follow-ups for future GW events. |\n",
       "|<p style=\"color:green\"> **ERROR** </p>| <p style=\"color:green\">affiliation error: mpia.affiliation_verifications: 'Heidelberg' keyword not found.</p> |"
      ],
      "text/plain": [
       "<IPython.core.display.Markdown object>"
      ]
     },
     "metadata": {},
     "output_type": "display_data"
    },
    {
     "data": {
      "text/markdown": [
       "\n",
       "|||\n",
       "|---:|:---|\n",
       "| [![arXiv](https://img.shields.io/badge/arXiv-arXiv:2302.09272-b31b1b.svg)](https://arxiv.org/abs/arXiv:2302.09272) | **Opening the path to hard X-/soft gamma-ray focussing: the  ASTENA-pathfinder mission**  |\n",
       "|| Enrico Virgilli, et al. -- incl., <mark>Lisa Ferro</mark> |\n",
       "|*Appeared on*| *2023-02-21*|\n",
       "|*Comments*| *To be published in 'Il Nuovo Cimento' as a selected communication of the 'SIF National Congress 2022'*|\n",
       "|**Abstract**| Hard X-/soft gamma-ray astronomy is a crucial field for transient, nuclear and multimessenger astrophysics. However, the spatial localization, imaging capabilities and sensitivity of the measurements are strongly limited for the energy range > 70 keV. To overcome these limitations, we have proposed a mission concept, ASTENA, submitted to ESA for its program Voyage 2050. We will report on a pathfinder of ASTENA, that we intend to propose to ASI as an Italian mission with international participation. It will be based on one of the two instruments aboard ASTENA: a Laue lens with 20 m focal length, able to focus hard X-rays in the 50-700 keV passband into a 3-d position sensitive focal plane spectrometer. The combination of the focussing properties of the lens and of the localization properties of the detector will provide unparalleled imaging and spectroscopic capabilities, thus enabling studies of phenomena such as gamma-ray bursts afterglows, supernova explosions, positron annihilation lines and many more. |\n",
       "|<p style=\"color:green\"> **ERROR** </p>| <p style=\"color:green\">affiliation error: mpia.affiliation_verifications: 'Heidelberg' keyword not found.</p> |"
      ],
      "text/plain": [
       "<IPython.core.display.Markdown object>"
      ]
     },
     "metadata": {},
     "output_type": "display_data"
    },
    {
     "data": {
      "text/markdown": [
       "\n",
       "|||\n",
       "|---:|:---|\n",
       "| [![arXiv](https://img.shields.io/badge/arXiv-arXiv:2302.09370-b31b1b.svg)](https://arxiv.org/abs/arXiv:2302.09370) | **Testing Super-Eddington Accretion onto a Supermassive Black Hole:  Reverberation Mapping of PG 1119+120**  |\n",
       "|| Fergus R. Donnan, et al. -- incl., <mark>Juan V. Hernández Santisteban</mark>, <mark>Yan-Rong Li</mark>, <mark>Wei-Jian Guo</mark>, <mark>Zhu-Heng Yao</mark> |\n",
       "|*Appeared on*| *2023-02-21*|\n",
       "|*Comments*| *23 pages, 16 figures, 10 tables. Submitted to MNRAS*|\n",
       "|**Abstract**| We measure the black hole mass and investigate the accretion flow around the local ($z=0.0502$) quasar PG 1119+120. Spectroscopic monitoring with Calar Alto provides H$\\beta$ lags and linewidths from which we estimate a black hole mass of $\\log \\left(M_{\\bullet}/\\mathrm{M}_{\\odot} \\right) = 7.0$, uncertain by $\\sim0.4$ dex. High cadence photometric monitoring over two years with the Las Cumbres Observatory provides lightcurves in 7 optical bands suitable for intensive continuum reverberation mapping. We identify variability on two timescales. Slower variations on a 100-day timescale exhibit excess flux and increased lag in the $u'$ band and are thus attributable to diffuse bound-free continuum emission from the broad line region. Faster variations that we attribute to accretion disc reprocessing lack a $u'$-band excess and have flux and delay spectra consistent with either $\\tau \\propto \\lambda^{4/3}$, as expected for a temperature structure of $T(R) \\propto R^{-3/4}$ for a thin accretion disc, or $\\tau \\propto \\lambda^{2}$ expected for a slim disc. Decomposing the flux into variable (disc) and constant (host galaxy) components, we find the disc SED to be flatter than expected with $f_{\\nu} \\sim \\rm{const}$. Modelling the SED predicts an Eddington ratio of $\\lambda_{\\rm Edd} > 1$, where the flat spectrum can be reproduced by a slim disc with little dust extinction or a thin disc which requires more dust extinction. While this accretion is super-Eddington, the geometry is still unclear, however a slim disc is expected due to the high radiation pressure at these accretion rates, and is entirely consistent with our observations. |\n",
       "|<p style=\"color:green\"> **ERROR** </p>| <p style=\"color:green\">affiliation error: mpia.affiliation_verifications: 'Heidelberg' keyword not found.</p> |"
      ],
      "text/plain": [
       "<IPython.core.display.Markdown object>"
      ]
     },
     "metadata": {},
     "output_type": "display_data"
    },
    {
     "data": {
      "text/markdown": [
       "\n",
       "|||\n",
       "|---:|:---|\n",
       "| [![arXiv](https://img.shields.io/badge/arXiv-arXiv:2302.09380-b31b1b.svg)](https://arxiv.org/abs/arXiv:2302.09380) | **Multiphase condensation in cluster halos: interplay of cooling, buoyancy  and mixing**  |\n",
       "|| Rajsekhar Mohapatra, <mark>Prateek Sharma</mark>, Christoph Federrath, Eliot Quataert |\n",
       "|*Appeared on*| *2023-02-21*|\n",
       "|*Comments*| *16+2 (appendix) pages, 11 figures, simulation movies available at this playlist on youtube: this https URL*|\n",
       "|**Abstract**| Gas in the central regions of cool-core clusters and other massive halos has a short cooling time ($\\lesssim1~\\mathrm{Gyr}$). Theoretical models predict that this gas is susceptible to multiphase condensation, in which cold gas is expected to condense out of the hot phase if the ratio of the thermal instability growth time scale ($t_{\\mathrm{ti}}$) to the free-fall time ($t_{\\mathrm{ff}}$) is $t_{\\mathrm{ti}}/t_{\\mathrm{ff}}\\lesssim10$. The turbulent mixing time $t_{\\mathrm{mix}}$ is another important time scale: if $t_{\\mathrm{mix}}$ is short enough, the fluctuations are mixed before they can cool. In this study, we perform high-resolution ($512^2\\times768$--$1024^2\\times1536$ resolution elements) hydrodynamic simulations of turbulence in a stratified medium, including radiative cooling of the gas. We explore the parameter space of $t_{\\mathrm{ti}}/t_{\\mathrm{ff}}$ and $t_{\\mathrm{ti}}/t_{\\mathrm{mix}}$ relevant to galaxy and cluster halos. We also study the effect of the steepness of the entropy profile, the strength of turbulent forcing and the nature of turbulent forcing (natural mixture vs. compressive modes) on multiphase gas condensation. We find that larger values of $t_{\\mathrm{ti}}/t_{\\mathrm{ff}}$ or $t_{\\mathrm{ti}}/t_{\\mathrm{mix}}$ generally imply stability against multiphase gas condensation, whereas larger density fluctuations (e.g., due to compressible turbulence) promote multiphase gas condensation. We propose a new criterion $\\min(t_{\\mathrm{ti}}/\\min(t_{\\mathrm{mix}},t_\\mathrm{ff}))\\lesssim c_2\\times\\exp(c_1\\sigma_s)$ for when the halo becomes multiphase, where $\\sigma_s$ denotes the amplitude of logarithmic density fluctuations and $c_1\\simeq6$, $c_2\\simeq1.8$ from an empirical fit to our results. |\n",
       "|<p style=\"color:green\"> **ERROR** </p>| <p style=\"color:green\">affiliation error: mpia.affiliation_verifications: 'Heidelberg' keyword not found.</p> |"
      ],
      "text/plain": [
       "<IPython.core.display.Markdown object>"
      ]
     },
     "metadata": {},
     "output_type": "display_data"
    },
    {
     "data": {
      "text/markdown": [
       "\n",
       "|||\n",
       "|---:|:---|\n",
       "| [![arXiv](https://img.shields.io/badge/arXiv-arXiv:2302.09525-b31b1b.svg)](https://arxiv.org/abs/arXiv:2302.09525) | **A Mini-Chemical Scheme with Net Reactions for 3D GCMs II. 3D  thermochemical modelling of WASP-39b and HD 189733b**  |\n",
       "|| <mark>Elspeth K.H. Lee</mark>, Shang-Min Tsai, Mark Hammond, Xianyu Tan |\n",
       "|*Appeared on*| *2023-02-21*|\n",
       "|*Comments*| *A&A Accepted 17 Feb 2023*|\n",
       "|**Abstract**| The chemical inventory of hot Jupiter (HJ) exoplanets atmospheres continue to be observed by various ground and space based instruments in increasing detail and precision. It is expected that some HJs will exhibit strong non-equilibrium chemistry characteristics in their atmospheres, which might be inferred from spectral observations. We aim to model the three dimensional thermochemical non-equilibrium chemistry in the atmospheres of the HJs WASP-39b and HD 189733b. We couple a lightweight, reduced chemical network `mini-chem' that utilises net reaction rate tables to the Exo-FMS General Circulation Model (GCM). We perform GCM models of the exoplanets WASP-39b and HD 189733b as case studies of the coupled mini-chem scheme. The GCM results are then post-processed using the 3D radiative-transfer model gCMCRT to produce transmission and emission spectra to assess the impact of non-equilibrium chemistry on their observable properties. Both simulations show significant departures from chemical equilibrium (CE) due to the dynamical motions of the atmosphere. The spacial distribution of species generally follows closely the dynamical features of the atmosphere rather than the temperature field. Each molecular species exhibits a different quench level in the simulations, also dependent on the latitude of the planet. Major differences are seen in the transmission and emission spectral features between the CE and kinetic models. Our simulations indicate that considering the 3D kinetic chemical structures of HJ atmospheres has an important impact on physical interpretation of observational data. Drawing bulk atmospheric parameters from fitting feature strengths may lead to inaccurate interpretation of chemical conditions in the atmosphere of HJs. Our open source mini-chem module is simple to couple with contemporary HJ GCM models without substantially increasing required computational resources. |\n",
       "|<p style=\"color:green\"> **ERROR** </p>| <p style=\"color:green\">affiliation error: mpia.affiliation_verifications: 'Heidelberg' keyword not found.</p> |"
      ],
      "text/plain": [
       "<IPython.core.display.Markdown object>"
      ]
     },
     "metadata": {},
     "output_type": "display_data"
    },
    {
     "data": {
      "text/markdown": [
       "\n",
       "|||\n",
       "|---:|:---|\n",
       "| [![arXiv](https://img.shields.io/badge/arXiv-arXiv:2302.09577-b31b1b.svg)](https://arxiv.org/abs/arXiv:2302.09577) | **A Possible Chemical Clock in High-mass Star-forming Regions:  N(HC3N)/N(N2H+)?**  |\n",
       "|| Y. X. Wang, et al. -- incl., <mark>J. S. Zhang</mark>, <mark>J. Y. Zhao</mark> |\n",
       "|*Appeared on*| *2023-02-21*|\n",
       "|*Comments*| *40 pages, 8 figures and 8 tables*|\n",
       "|**Abstract**| We conducted observations of multiple HC3N (J = 10-9, 12-11, and 16-15) lines and the N2H+ (J = 1-0) line toward a large sample of 61 ultracompact (UC) H II regions, through the Institutde Radioastronomie Millmetrique 30 m and the Arizona Radio Observatory 12 m telescopes. The N2H+ J = 1-0 line is detected in 60 sources and HC3N is detected in 59 sources, including 40 sources with three lines, 9 sources with two lines, and 10 sources with one line. Using the rotational diagram, the rotational temperature and column density of HC3N were estimated toward sources with at least two HC3N lines. For 10 sources with only one HC3N line, their parameters were estimated, taking one average value of Trot. For N2H+, we estimated the optical depth of the N2H+ J = 1-0 line, based on the line intensity ratio of its hyperfine structure lines. Then the excitation temperature and column density were calculated. When combining our results in UC H II regions and previous observation results on high-mass starless cores and high-mass protostellar cores, the N(HC3N)/N(N2H+) ratio clearly increases from the region stage. This means that the abundance ratio changes with the evolution of high-mass star-forming regions (HMSFRs). Moreover, positive correlations between the ratio and other evolutionary indicators (dust temperature, bolometric luminosity, and luminosity-to-mass ratio) are found. Thus we propose the ratio of N(HC3N)/N(N2H+) as a reliable chemical clock of HMSFRs. |\n",
       "|<p style=\"color:green\"> **ERROR** </p>| <p style=\"color:green\">affiliation error: mpia.affiliation_verifications: 'Heidelberg' keyword not found.</p> |"
      ],
      "text/plain": [
       "<IPython.core.display.Markdown object>"
      ]
     },
     "metadata": {},
     "output_type": "display_data"
    },
    {
     "data": {
      "text/markdown": [
       "\n",
       "|||\n",
       "|---:|:---|\n",
       "| [![arXiv](https://img.shields.io/badge/arXiv-arXiv:2302.09669-b31b1b.svg)](https://arxiv.org/abs/arXiv:2302.09669) | **On The Fine Tuning and Physical Origin of Line-Locked Absorption Systems  in Active Galaxies**  |\n",
       "|| <mark>T. R. Lewis</mark>, D. Chelouche |\n",
       "|*Appeared on*| *2023-02-21*|\n",
       "|*Comments*| *22 pages, 13 figures, ApJ in press*|\n",
       "|**Abstract**| Line locking (LL) of absorption line systems is a clear signature of the dynamical importance of radiation pressure force in driving astrophysical flows, with recent findings suggesting that it may be common in quasars exhibiting multiple intrinsic narrow absorption-line (NAL) systems. In this work we probe the phase space conducive to LL and follow the detailed kinematics of those systems that may lock at the velocity separation of the CIV $\\lambda\\lambda 1548.19,1550.77$ doublet. We find that a small volume of the phase-phase admits LL, suggesting a high-degree of fine-tuning between the physical properties of locked systems. The stability of LL against quasar luminosity variations is quantified with implications for the long-term variability amplitude of quasars and the velocity-separation statistic between multiple NAL systems. The high occurrence of LL by the CIV doublet implies that the hidden extreme-UV emission from quasars is unlikely to be significantly under-estimated by current models. Further, the ratio of the LL velocity to the outflow velocity may serve as a powerful constraint on the composition of the accelerating medium. We conclude that LL poses significant challenges to current theories for the formation of non-intervening NAL systems, and speculate that it may be a manifestation of expanding circumstellar shells around asymptotic giant branch (AGB) stars in the quasar-host bulge. |\n",
       "|<p style=\"color:green\"> **ERROR** </p>| <p style=\"color:green\">affiliation error: mpia.affiliation_verifications: 'Heidelberg' keyword not found.</p> |"
      ],
      "text/plain": [
       "<IPython.core.display.Markdown object>"
      ]
     },
     "metadata": {},
     "output_type": "display_data"
    },
    {
     "data": {
      "text/markdown": [
       "\n",
       "|||\n",
       "|---:|:---|\n",
       "| [![arXiv](https://img.shields.io/badge/arXiv-arXiv:2302.09697-b31b1b.svg)](https://arxiv.org/abs/arXiv:2302.09697) | **Polarization of Fast Radio Bursts: radiation mechanisms and propagation  effects**  |\n",
       "|| Yuanhong Qu, <mark>Bing Zhang</mark> |\n",
       "|*Appeared on*| *2023-02-21*|\n",
       "|*Comments*| *30 pages, 15 figures, submitted to MNRAS*|\n",
       "|**Abstract**| Observations show that FRBs are highly polarized. Most have high linear polarization degree but a small fraction shows significant circular polarization. We systematically investigate a variety of polarization mechanisms of FRBs within the magnetar theoretical framework considering two possible emission sites, i.e. inside and outside the magnetosphere. For each site, we discuss both intrinsic radiation mechanisms and propagation effects. Inside the magnetosphere, we investigate the polarization properties of both coherent curvature radiation and inverse Compton scattering by charged bunches. In order to have the majority of bursts not having high circular polarization, the bunches should have a large cross section involving a bunch of field lines. Resonant cyclotron absorption within magnetosphere can produce high circular polarization if the resonant condition is satisfied below light cylinder and if electrons and positrons have asymmetric Lorentz factor distribution. Outside the magnetosphere, we consider the synchrotron maser intrinsic emission mechanism and find that the on-beam emission is highly linear polarized. Circular polarization would show up at off-beam angles but the flux is greatly degraded and such bursts are not detectable at cosmological distances. For propagation effects, we consider synchrotron absorption, which tends to reduce circular polarization degree; cyclotron absorption, which tends to generate significant circular polarization; and Faraday conversion, which can convert one polarization mode to another. We discuss astronomical scenarios to allow these processes to happen and conclude that the first two absorption processes require stringent physical conditions. Faraday conversion requires field reversal, which may realize in binary systems or when the FRB engine is surrounded by a supernova remnant.(abridged) |\n",
       "|<p style=\"color:green\"> **ERROR** </p>| <p style=\"color:green\">affiliation error: mpia.affiliation_verifications: 'Heidelberg' keyword not found.</p> |"
      ],
      "text/plain": [
       "<IPython.core.display.Markdown object>"
      ]
     },
     "metadata": {},
     "output_type": "display_data"
    },
    {
     "data": {
      "text/markdown": [
       "\n",
       "|||\n",
       "|---:|:---|\n",
       "| [![arXiv](https://img.shields.io/badge/arXiv-arXiv:2302.09722-b31b1b.svg)](https://arxiv.org/abs/arXiv:2302.09722) | **Photometric and Spectroscopic Observations of GRB\\,190106A: Emission  from Reverse and Forward Shocks with Late-time Energy Injection**  |\n",
       "|| Zi-Pei Zhu, et al. -- incl., <mark>Xing Liu</mark>, <mark>Wei Xie</mark>, <mark>He Gao</mark>, <mark>Li-Ping Xin</mark>, <mark>Jin-Zhong Liu</mark> |\n",
       "|*Appeared on*| *2023-02-21*|\n",
       "|*Comments*| *17 pages, 9 figures. Accepted for publication in ApJ*|\n",
       "|**Abstract**| Early optical observations of gamma-ray bursts can significantly contribute to the study of the central engine and physical processes therein. However, of the thousands observed so far, still only a few have data at optical wavelengths in the first minutes after the onset of the prompt emission. Here we report on GRB\\,190106A, whose afterglow was observed in optical bands just 36 s after the {\\em Swift}/BAT trigger, i.e., during the prompt emission phase. The early optical afterglow exhibits a bimodal structure followed by a normal decay, with a faster decay after $\\sim \\rm T_{0}+$1 day. We present optical photometric and spectroscopic observations of GRB\\,190106A. We derive the redshift via metal absorption lines from Xinglong 2.16-m/BFOSC spectroscopic observations. From the BFOSC spectrum, we measure $z= 1.861\\pm0.002$. The double-peak optical light curve is a significant feature predicted by the reverse-forward external shock model. The shallow decay followed by a normal decay in both the X-ray and optical light curves is well explained with the standard forward-shock model with late-time energy injection. Therefore, GRB\\,190106A offers a case study for GRBs emission from both reverse and forward shocks. |\n",
       "|<p style=\"color:green\"> **ERROR** </p>| <p style=\"color:green\">affiliation error: mpia.affiliation_verifications: 'Heidelberg' keyword not found.</p> |"
      ],
      "text/plain": [
       "<IPython.core.display.Markdown object>"
      ]
     },
     "metadata": {},
     "output_type": "display_data"
    },
    {
     "data": {
      "text/markdown": [
       "\n",
       "|||\n",
       "|---:|:---|\n",
       "| [![arXiv](https://img.shields.io/badge/arXiv-arXiv:2302.09735-b31b1b.svg)](https://arxiv.org/abs/arXiv:2302.09735) | **Constraint on the minimally extended varying speed of light using time  dilations in type Ia supernovae**  |\n",
       "|| <mark>Seokcheon Lee</mark> |\n",
       "|*Appeared on*| *2023-02-21*|\n",
       "|*Comments*| *6 pages, 1 figure, 2 tables*|\n",
       "|**Abstract**| The Friedmann-Lema\\^{i}tre-Robertson-Walker model establishes the correlation between redshifts and distances. It has a metric expansion of space. As a result, the wavelength of photons propagating through the expanding space is stretched, creating the cosmological redshift, $z$. It also relates the frequency of light detected by a local observer to that emitted from a distant source. In standard cosmology (\\textit{i.e.} a constant speed light model, $c =$ constant), this relation is given by a factor $1/(1+z)$ [1]. However, this ratio is modified in the minimally extended varying speed of light model (meVSL, $c = c_0 a^{b/4}$) as $1/(1+z)^{1-b/4}$ [2-4]. This time dilation effect can be observed as the observed rate of time variation in the intensity of emitted radiation. The spectra of type Ia supernovae (SNe Ia) provide a reliable way to measure the apparent aging rate of distant objects. We use data on 13 high-redshift ($0.28 \\leq z \\leq 0.62$) SNe Ia [5] to obtain $b = 0.198 \\pm 0.415$ at the $1$-$\\sigma$ confidence interval. The current data is consistent with the standard model expectation. |\n",
       "|<p style=\"color:green\"> **ERROR** </p>| <p style=\"color:green\">affiliation error: mpia.affiliation_verifications: 'Heidelberg' keyword not found.</p> |"
      ],
      "text/plain": [
       "<IPython.core.display.Markdown object>"
      ]
     },
     "metadata": {},
     "output_type": "display_data"
    },
    {
     "data": {
      "text/markdown": [
       "\n",
       "|||\n",
       "|---:|:---|\n",
       "| [![arXiv](https://img.shields.io/badge/arXiv-arXiv:2302.09754-b31b1b.svg)](https://arxiv.org/abs/arXiv:2302.09754) | **Discovery of an as-yet non-repeating fast radio burst with the hallmarks  of a repeater**  |\n",
       "|| M. Caleb, et al. -- incl., <mark>M. Kramer</mark>, <mark>I. Heywood</mark> |\n",
       "|*Appeared on*| *2023-02-21*|\n",
       "|*Comments*| *Submitted to MNRAS*|\n",
       "|**Abstract**| We present the discovery of an apparently non-repeating Fast Radio Burst (FRB) with the MeerKAT radio interferometer in South Africa, as part of the MeerTRAP commensal project. FRB 20210410D with a dispersion measure DM = 578.78 +/- 2 pc/cc was detected in the incoherent beam of ~1.3 deg2 but was bright enough to be localised to sub-arcsec precision in the 2s images made from standard correlation data products. The localisation enabled the association of the FRB with an optical galaxy at z = 0.1415, which is inconsistent with what is expected from the Macquart scaling relation. We attribute the excess DM to the host galaxy. This is the first FRB that is not associated with a dwarf galaxy, to exhibit an excess DM. We do not detect any continuum radio emission at the FRB position or from the host galaxy down to a 3sigma RMS of 14.4 uJy/beam. The FRB is wide with a scattering time of 43.7 +/- 4.3 ms at 1 GHz, and exhibits bifurcation in the spectrum, both of which are reminiscent of repeating FRBs. Although this FRB has not been seen to repeat in 7.28 h at 1.3 GHz with MeerKAT, 3 h at 2.4 GHz with Murriyang and 5.7 h at simultaneous 2.3 GHz and 8.4 GHz observations with the Deep Space Network, we encourage further follow-up to establish a possible repeating nature. |\n",
       "|<p style=\"color:green\"> **ERROR** </p>| <p style=\"color:green\">affiliation error: mpia.affiliation_verifications: 'Heidelberg' keyword not found.</p> |"
      ],
      "text/plain": [
       "<IPython.core.display.Markdown object>"
      ]
     },
     "metadata": {},
     "output_type": "display_data"
    },
    {
     "data": {
      "text/markdown": [
       "\n",
       "|||\n",
       "|---:|:---|\n",
       "| [![arXiv](https://img.shields.io/badge/arXiv-arXiv:2302.09763-b31b1b.svg)](https://arxiv.org/abs/arXiv:2302.09763) | **The most massive Population III stars**  |\n",
       "|| Teeraparb Chantavat, Siri Chongchitnan, <mark>Joseph Silk</mark> |\n",
       "|*Appeared on*| *2023-02-21*|\n",
       "|*Comments*| *4 pages, 4 figures*|\n",
       "|**Abstract**| Recent data from the James Webb Space Telescope suggest that there are realistic prospects for detecting the earliest generation of stars at redshift ~20. These metal-poor, gaseous Population III stars are likely in the mass range $10-10^3 M_\\odot$. We develop a framework for calculating the abundances of Pop III stars as well as the distribution of the most massive Pop III stars based on an application of extreme-value statistics. Our calculations use the star formation rate density from a recent simulation to calibrate the star-formation efficiency from which the Pop III stellar abundances are derived. Our extreme-value modelling suggests that the most massive Pop III stars at redshifts 10<z<20 are likely to be of order $10^3-10^4 M_\\odot$. Extreme Pop III stars were sufficiently numerous to be the seeds of supermassive black holes at high redshifts and possibly source detectable gravitational waves. |\n",
       "|<p style=\"color:green\"> **ERROR** </p>| <p style=\"color:green\">affiliation error: mpia.affiliation_verifications: 'Heidelberg' keyword not found.</p> |"
      ],
      "text/plain": [
       "<IPython.core.display.Markdown object>"
      ]
     },
     "metadata": {},
     "output_type": "display_data"
    },
    {
     "data": {
      "text/markdown": [
       "\n",
       "|||\n",
       "|---:|:---|\n",
       "| [![arXiv](https://img.shields.io/badge/arXiv-arXiv:2302.09764-b31b1b.svg)](https://arxiv.org/abs/arXiv:2302.09764) | **A simulation study on the constraints of the Hubble constant using  sub-threshold GW observation on double neutron star mergers**  |\n",
       "|| Y. F. Du, S. X. Yi, <mark>S. N. Zhang</mark>, <mark>Shu Zhang</mark> |\n",
       "|*Appeared on*| *2023-02-21*|\n",
       "|*Comments*| *15 pages, 10 figures*|\n",
       "|**Abstract**| Gravitational waves observation with electromagnetic counterparts provides an approach to measure the Hubble constant which is also known as the bright siren method. Great hope has been put into this method to arbitrate the Hubble tension. In this study, we apply the simulation tool \\GWT\\, and modeling of the aLIGO-design background to simulate the bright siren catalogues of sub-threshold double neutron star mergers with potential contamination from noise and dis-pairing between gravitational waves and electromagnetic counterparts. The Hubble constant and other cosmology parameters are thus inferred from the simulated catalogues with a Bayesian method. From our simulation study, we reach the following conclusions: 1) the measurement error of the $H_0$ decreases with a lower signal-to-noise ratio threshold (or equivalently the $P_{\\rm astro}$) in the region where $P_{\\rm astro} \\gtrsim $ 0.1, while the inferred most probable $H_0$ trends to bias towards larger values; and 2) other higher order cosmological parameters such as $\\Omega_{m}$ remain unconstrained even with the sub-threshold catalogues. We also discuss adding the network of the gravitational wave detectors to the simulation tool and the electromagnetic counterparts follow-up efficiency simulation, which will improve our work in the future. |\n",
       "|<p style=\"color:green\"> **ERROR** </p>| <p style=\"color:green\">affiliation error: mpia.affiliation_verifications: 'Heidelberg' keyword not found.</p> |"
      ],
      "text/plain": [
       "<IPython.core.display.Markdown object>"
      ]
     },
     "metadata": {},
     "output_type": "display_data"
    },
    {
     "data": {
      "text/markdown": [
       "\n",
       "|||\n",
       "|---:|:---|\n",
       "| [![arXiv](https://img.shields.io/badge/arXiv-arXiv:2302.09777-b31b1b.svg)](https://arxiv.org/abs/arXiv:2302.09777) | **Data-driven and Model-independent Reconstruction of Modified Gravity**  |\n",
       "|| Yuhao Mu, <mark>En-Kun Li</mark>, <mark>Lixin Xu</mark> |\n",
       "|*Appeared on*| *2023-02-21*|\n",
       "|*Comments*| *8 pages, 3 figures, comments welcome*|\n",
       "|**Abstract**| In this paper, the modified gravity, which is characterized by the modified factor $\\mu$ in the linear matter density perturbation theory, is reconstructed in a completely data-driven and model-independent way via Gaussian process by using currently available cosmic observations, which consist Pantheon+ SNe Ia samples, observed Hubble parameter $H(z)$ and the redshift space distortion $f\\sigma_8(z)$ data points. The reconstructed results suggest a time varying $\\mu$ at low redshifts. It also implies more complicated modified gravity beyond the simplest general relativity and the Dvali-Gabadadze-Porrati braneworld model is required. |\n",
       "|<p style=\"color:green\"> **ERROR** </p>| <p style=\"color:green\">affiliation error: mpia.affiliation_verifications: 'Heidelberg' keyword not found.</p> |"
      ],
      "text/plain": [
       "<IPython.core.display.Markdown object>"
      ]
     },
     "metadata": {},
     "output_type": "display_data"
    },
    {
     "data": {
      "text/markdown": [
       "\n",
       "|||\n",
       "|---:|:---|\n",
       "| [![arXiv](https://img.shields.io/badge/arXiv-arXiv:2302.09787-b31b1b.svg)](https://arxiv.org/abs/arXiv:2302.09787) | **FRB 20210405I: the first Fast Radio Burst sub-arcsecond localised with  MeerKAT**  |\n",
       "|| Laura Nicole Driessen, et al. -- incl., <mark>Michael Kramer</mark> |\n",
       "|*Appeared on*| *2023-02-21*|\n",
       "|*Comments*| *15 pages, 4 tables, 11 figures. Submitted to MNRAS*|\n",
       "|**Abstract**| We present the first sub-arcsecond localised Fast Radio Burst (FRB) detected using MeerKAT. The FRB, FRB 20210405I, was detected in the incoherent beam using the MeerTRAP pipeline on 2021 April 05 with a signal to noise ratio of 140.8 and a dispersion measure of 565.17 pc cm$^{-3}$. It was detected while MeerTRAP was observing commensally with the ThunderKAT large survey project, and was sufficiently bright that we could use the ThunderKAT 8s images to localise the FRB. Two different models of the dispersion measure in the Milky Way and halo suggest that the source is either right at the edge of the Galaxy, or outside. However, we use the combined localisation, dispersion measure, scattering, specific luminosity and chance coincidence probability information to find that the origin is most likely extragalactic and identify the likely host galaxy of the FRB: 2MASS J1701249$-$4932475. Using SALT spectroscopy and archival observations of the field, we find that the host is a disk/spiral galaxy at a redshift of $z=0.066$. |\n",
       "|<p style=\"color:green\"> **ERROR** </p>| <p style=\"color:green\">affiliation error: mpia.affiliation_verifications: 'Heidelberg' keyword not found.</p> |"
      ],
      "text/plain": [
       "<IPython.core.display.Markdown object>"
      ]
     },
     "metadata": {},
     "output_type": "display_data"
    },
    {
     "data": {
      "text/markdown": [
       "\n",
       "|||\n",
       "|---:|:---|\n",
       "| [![arXiv](https://img.shields.io/badge/arXiv-arXiv:2302.09802-b31b1b.svg)](https://arxiv.org/abs/arXiv:2302.09802) | **Measurement of $^{19}$F($p$,$γ$)$^{20}$Ne reaction suggests CNO  break-out in first stars**  |\n",
       "|| <mark>Liyong Zhang</mark>, et al. -- incl., <mark>Jianjun He</mark>, <mark>Alexander Heger</mark>, <mark>Xinyue Li</mark>, <mark>Long Zhang</mark>, <mark>Hao Zhang</mark>, <mark>Zhicheng Zhang</mark>, <mark>Ziming Li</mark>, <mark>Hongwei Zhao</mark>, <mark>Liangting Sun</mark>, <mark>Jiaqing Li</mark>, <mark>Lihua Chen</mark>, <mark>Ertao Li</mark>, <mark>Gang Lian</mark>, <mark>Zhihong Li</mark>, <mark>Bing Guo</mark>, <mark>Yuhu Zhang</mark>, <mark>Weiping Liu</mark> |\n",
       "|*Appeared on*| *2023-02-21*|\n",
       "|*Comments*| *32 pages, 8 figures, 6 tables*|\n",
       "|**Abstract**| The origin of calcium production in the first stars (Pop III stars), which formed out of the primordial matter of the Big Bang, and their fates, remain most fascinating mysteries in astrophysics. Advanced nuclear burning and supernovae were thought to be the dominant source of the Ca production seen in all stars. Here we report on a qualitatively different path to Ca production through break-out from the \"warm\" carbon-nitrogen-oxygen (CNO) cycle. We extend direct measurement of the $^{19}$F($p$, $\\gamma$)$^{20}$Ne break-out reaction down to an unprecedentedly low energy point of 186 keV and discover a key resonance at 225 keV. In the domain of astrophysical interest, at around 0.1 giga kelvin, this thermonuclear $^{19}$F($p$,$\\gamma$)$^{20}$Ne rate is up to a factor of 7.4 larger than the previous recommended rate. Our stellar models show a stronger break-out during stellar hydrogen burning than thought before, and may reveal the nature of Ca production in Pop III stars imprinted on the oldest known ultra-iron poor star, SMSS0313-6708. This result from the China Jinping Underground Laboratory, the deepest laboratory in the world, offering an environment with extremely low cosmic-ray induced background, has far-reaching implications on our understanding of how the first stars evolve and die. Our rate showcases the impact that faint Pop III star supernovae can have on the nucleosynthesis observed in the oldest known stars and first galaxies, key mission targets of the James Webb Space Telescope. |\n",
       "|<p style=\"color:green\"> **ERROR** </p>| <p style=\"color:green\">affiliation error: mpia.affiliation_verifications: 'Heidelberg' keyword not found.</p> |"
      ],
      "text/plain": [
       "<IPython.core.display.Markdown object>"
      ]
     },
     "metadata": {},
     "output_type": "display_data"
    },
    {
     "data": {
      "text/markdown": [
       "\n",
       "|||\n",
       "|---:|:---|\n",
       "| [![arXiv](https://img.shields.io/badge/arXiv-arXiv:2302.09812-b31b1b.svg)](https://arxiv.org/abs/arXiv:2302.09812) | **Tied-Array Beam Localisation of Radio Transients and Pulsars**  |\n",
       "|| M. C. Bezuidenhout, et al. -- incl., <mark>M. Kramer</mark> |\n",
       "|*Appeared on*| *2023-02-21*|\n",
       "|*Comments*| *15 pages, 13 figures*|\n",
       "|**Abstract**| Multi-element interferometers such as MeerKAT, which observe with high time resolution and have a wide field-of-view, provide an ideal opportunity to perform real-time, untargeted transient and pulsar searches. However, because of data storage limitations, it is not always feasible to store the baseband data required to image the field of a discovered transient or pulsar. This limits the ability of surveys to effectively localise their discoveries and may restrict opportunities for follow-up science, especially of one-off events like some Fast Radio Bursts (FRBs). Here we present a novel maximum-likelihood estimation approach to localising transients and pulsars detected in multiple MeerKAT tied-array beams at once, which we call Tied Array Beam Localisation (TABLo), as well as a Python implementation of the method named SeeKAT. We provide real-world examples of SeeKAT's use as well as a Monte Carlo analysis to show that it is capable of localising single pulses detected in beamformed MeerKAT data to (sub-)arcsecond precision. |\n",
       "|<p style=\"color:green\"> **ERROR** </p>| <p style=\"color:green\">affiliation error: mpia.affiliation_verifications: 'Heidelberg' keyword not found.</p> |"
      ],
      "text/plain": [
       "<IPython.core.display.Markdown object>"
      ]
     },
     "metadata": {},
     "output_type": "display_data"
    },
    {
     "data": {
      "text/markdown": [
       "\n",
       "|||\n",
       "|---:|:---|\n",
       "| [![arXiv](https://img.shields.io/badge/arXiv-arXiv:2302.09925-b31b1b.svg)](https://arxiv.org/abs/arXiv:2302.09925) | **Type Ia supernovae in NS+He star systems and the isolated mildly  recycled pulsars**  |\n",
       "|| <mark>Yun-Lang Guo</mark>, et al. |\n",
       "|*Appeared on*| *2023-02-21*|\n",
       "|*Comments*| *9 pages, 10 figures, 1 table, submitted to MNRAS, a revised version after referee's comments*|\n",
       "|**Abstract**| Type Ia supernovae (SNe Ia) are successful cosmological distance indicators and important element factories in the chemical evolution of galaxies. They are generally thought to originate from thermonuclear explosions of carbon-oxygen white dwarfs in close binaries. However, the observed diversity among SNe Ia implies that they have different progenitor models. In this article, we performed the long-term evolution of NS+He star binaries with different initial He star masses ($M_{\\rm He}^{\\rm i}$) and orbital periods ($P_{\\rm orb}^{\\rm i}$) for the first time, in which the He star companions can explode as SNe Ia eventually. Our simulations indicate that after the He stars develop highly degenerate oxygen-neon (ONe) cores with masses near the Chandrasekhar limit, explosive oxygen burning can be triggered due to the ignition of central residual carbon. According to these calculations, we obtained an initial parameter space for the production of SNe Ia in the $\\rm log\\,$$P^{\\rm i}_{\\rm orb}-M^{\\rm i}_{\\rm He}$ plane. Meanwhile, we found that isolated mildly recycled pulsars can be formed after He stars explode as SNe Ia in NS+He star binaries, in which the isolated pulsars have minimum spin periods ($P_{\\rm spin}^{\\rm min}$) of $\\sim 30-110\\rm\\,ms$ and final orbital velocities of $\\sim \\rm 60-360\\,km\\,s^{-1}$, corresponding to initial orbital periods of $0.07-10\\rm\\,d$. Our work suggests that the NS+He star channel may contribute to the formation of isolated mildly recycled pulsars with velocity $\\rm \\lesssim 360\\,km\\,s^{-1}$ in observations, and such isolated pulsars should locate in the region of pulsars with massive WD companions in the $P_{\\rm spin}-\\dot P_{\\rm spin}$ diagram. |\n",
       "|<p style=\"color:green\"> **ERROR** </p>| <p style=\"color:green\">affiliation error: mpia.affiliation_verifications: 'Heidelberg' keyword not found.</p> |"
      ],
      "text/plain": [
       "<IPython.core.display.Markdown object>"
      ]
     },
     "metadata": {},
     "output_type": "display_data"
    },
    {
     "data": {
      "text/markdown": [
       "\n",
       "|||\n",
       "|---:|:---|\n",
       "| [![arXiv](https://img.shields.io/badge/arXiv-arXiv:2302.09929-b31b1b.svg)](https://arxiv.org/abs/arXiv:2302.09929) | **Magnetic frame-dragging correction to the electromagnetic solution of a  compact neutron star**  |\n",
       "|| <mark>R. Torres</mark>, T. Grismayer, F. Cruz, L.O. Silva |\n",
       "|*Appeared on*| *2023-02-21*|\n",
       "|*Comments*| *13 pages, 8 figures*|\n",
       "|**Abstract**| Neutron stars are commonly modelled as a spherical, rotating perfect conductors with a predominant intrinsic dipolar magnetic field anchored to their stellar crust. If compact enough, General Relativity modifies Maxwell's equations, leading to changes in the interior and exterior electromagnetic solutions. We present analytic solutions for a slowly-rotating magnetized neutron star that include the frame-dragging correction to the magnetic field components. For typical compactness values, i.e. $R_s \\sim 0.5 [R_*]$, we show that the new terms account for a $0.43\\%$ decrease in magnetic field strength at the equator and an average $1\\%$ vectorial angle correction, both compared to the case without the magnetic frame-dragging correction. This correction leads to a self-consistent redistribution of the surface azimuthal current. We tested the validity of the derived solution by prescribing it as an initial value problem to two-dimensional particle-in-cell simulations. We observe a lower early-stage transient amplitude which reflects the proximity between the derived and exact solutions. At later times, our solution reduces the azimuthal electric field amplitude by almost an order of magnitude, demonstrating that simulations are more accurate at the expense of a more involved initialization. We show that this can potentially lead to a reduction of simulation runtimes. |\n",
       "|<p style=\"color:green\"> **ERROR** </p>| <p style=\"color:green\">affiliation error: mpia.affiliation_verifications: 'Heidelberg' keyword not found.</p> |"
      ],
      "text/plain": [
       "<IPython.core.display.Markdown object>"
      ]
     },
     "metadata": {},
     "output_type": "display_data"
    },
    {
     "data": {
      "text/markdown": [
       "\n",
       "|||\n",
       "|---:|:---|\n",
       "| [![arXiv](https://img.shields.io/badge/arXiv-arXiv:2302.09951-b31b1b.svg)](https://arxiv.org/abs/arXiv:2302.09951) | **Multi-frequency test of dark matter annihilation into long-lived  particles in Sirius**  |\n",
       "|| Yu-Xuan Chen, et al. -- incl., <mark>Yue-Lin Sming Tsai</mark> |\n",
       "|*Appeared on*| *2023-02-21*|\n",
       "|*Comments*| **|\n",
       "|**Abstract**| New long-lived particles produced at the colliders may escape from conventional particle detectors. Using satellites or ground telescopes, we can detect the photons generated from the annihilation of the star-captured dark matter into a pair of long-lived particles. When the propagation length of these long-lived particles surpasses the interplanetary distance between the Sun and Jupiter, it becomes unfeasible to detect such dark matter signals originating from the Sun or Jupiter on Earth. Our analysis of the dark matter-induced photons produced by prompt radiation, inverse Compton scattering, and synchrotron radiation mechanisms reveals that a decay length of about $10^{-3}$ pc for long-lived particles is required for maximum detectability. We investigate the parameters that allow the long-lived particle's lifetime to be consistent with Big Bang nucleosynthesis while also allowing it to escape the confines of our solar system. The Sirius system is proposed as a promising target for the indirect detection of such long-lived particles. Utilizing the prompt, inverse Compton scattering, and synchrotron radiation, upper limits on the dark matter-proton spin-independent and spin-dependent cross section are estimated with the Fermi-LAT null-signal observation and the capabilities of the upcoming Square Kilometre Array radio telescope. |\n",
       "|<p style=\"color:green\"> **ERROR** </p>| <p style=\"color:green\">affiliation error: mpia.affiliation_verifications: 'Heidelberg' keyword not found.</p> |"
      ],
      "text/plain": [
       "<IPython.core.display.Markdown object>"
      ]
     },
     "metadata": {},
     "output_type": "display_data"
    },
    {
     "data": {
      "text/markdown": [
       "\n",
       "|||\n",
       "|---:|:---|\n",
       "| [![arXiv](https://img.shields.io/badge/arXiv-arXiv:2302.10002-b31b1b.svg)](https://arxiv.org/abs/arXiv:2302.10002) | **Confirmation of two magnetic cataclysmic variables as polars: 1RXS  J174320.1-042953 and YY Sex**  |\n",
       "|| Nikita Rawat, et al. -- incl., <mark>Stephen B. Potter</mark> |\n",
       "|*Appeared on*| *2023-02-21*|\n",
       "|*Comments*| *16 pages, 12 figures, and 7 tables (accepted for publication in MNRAS)*|\n",
       "|**Abstract**| We present our analysis of new and archived observations of two candidate magnetic cataclysmic variables, namely 1RXS J174320.1-042953 and YY Sex. 1RXS J174320.1-042953 was observed in two distinctive high and low states where a phase shift was seen, which could be due to the changes in the shape, size, and (or) location of the accretion region. We find that its orbital X-ray modulations only persist in the soft (0.3-2.0 keV) energy band, which could be attributed to the photoelectric absorption in the accretion flow. The X-ray spectra exhibit a multi-temperature post-shock region where the hard X-rays are absorbed through a thick absorber with an equivalent hydrogen column of $\\sim$7.5 $\\times$ 10$^{23}$ cm$^{-2}$, which partially covers $\\sim$56 per cent of the emission. No soft X-ray excess was found to be present; however, a soft X-ray emission with a blackbody temperature of $\\sim$97 eV describes the spectra. Extensive TESS observations of YY Sex allow us to refine its orbital period to 1.5746 $\\pm$ 0.0011 h. We did not find any signature of previously reported spin or beat periods in this system. Furthermore, our new polarimetric observations show clear circular polarization modulated on the orbital period only. Finally, both systems show strong Balmer and He II 4686 A$^\\circ$ emission lines in the optical spectra, further indicative of their magnetic nature. |\n",
       "|<p style=\"color:green\"> **ERROR** </p>| <p style=\"color:green\">affiliation error: mpia.affiliation_verifications: 'Heidelberg' keyword not found.</p> |"
      ],
      "text/plain": [
       "<IPython.core.display.Markdown object>"
      ]
     },
     "metadata": {},
     "output_type": "display_data"
    },
    {
     "data": {
      "text/markdown": [
       "\n",
       "|||\n",
       "|---:|:---|\n",
       "| [![arXiv](https://img.shields.io/badge/arXiv-arXiv:2302.10024-b31b1b.svg)](https://arxiv.org/abs/arXiv:2302.10024) | **A kinematic calibration of the O-rich Mira variable period-age relation  from Gaia**  |\n",
       "|| <mark>Hanyuan Zhang</mark>, Jason L. Sanders |\n",
       "|*Appeared on*| *2023-02-21*|\n",
       "|*Comments*| *17 pages, 13 figures, accepted for publication in MNRAS*|\n",
       "|**Abstract**| Empirical and theoretical studies have demonstrated that the periods of Mira variable stars are related to their ages. This, together with their brightness in the infrared, makes them powerful probes of the formation and evolution of highly-extincted or distant parts of the Local Group. Here we utilise the Gaia DR3 catalogue of long-period variable candidates to calibrate the period-age relation of the Mira variables. Dynamical models are fitted to the O-rich Mira variable population across the extended solar neighbourhood and then the resulting solar neighbourhood period-kinematic relations are compared to external calibrations of the age-kinematic relations to derive a Mira variable period-age relation of $\\tau\\approx(6.9\\pm0.3)\\,\\mathrm{Gyr}(1+\\tanh((330\\,\\mathrm{d}-P)/(400\\pm90)\\mathrm{d})$. Our results compare well with previous calibrations using smaller datasets as well as the period-age properties of Local Group cluster members. This calibration opens the possibility of accurately characterising the star formation and the impact of different evolutionary processes throughout the Local Group. |\n",
       "|<p style=\"color:green\"> **ERROR** </p>| <p style=\"color:green\">affiliation error: mpia.affiliation_verifications: 'Heidelberg' keyword not found.</p> |"
      ],
      "text/plain": [
       "<IPython.core.display.Markdown object>"
      ]
     },
     "metadata": {},
     "output_type": "display_data"
    },
    {
     "data": {
      "text/markdown": [
       "\n",
       "|||\n",
       "|---:|:---|\n",
       "| [![arXiv](https://img.shields.io/badge/arXiv-arXiv:2302.10047-b31b1b.svg)](https://arxiv.org/abs/arXiv:2302.10047) | **The peak-flux of GRB 221009A measured with GRBAlpha**  |\n",
       "|| Jakub Ripa, et al. -- incl., <mark>Martin Kolar</mark>, <mark>Pavol Lipovsky</mark>, <mark>Helen Poon</mark> |\n",
       "|*Appeared on*| *2023-02-21*|\n",
       "|*Comments*| *6 pages, 7 figures, 1 table, submitted to Astronomy & Astrophysics*|\n",
       "|**Abstract**| On 2022 October 9 the brightest gamma-ray burst (GRB) ever observed lit up the high-energy sky. It was detected by a multitude of instruments, attracting the close attention of the GRB community, and saturated many detectors. GRBAlpha, a nano-satellite with a form factor of a 1U CubeSat, has detected this extraordinarily bright long-duration GRB 221009A without strong saturation. We present light curves of the prompt emission in 13 energy bands, from 80 keV to 950 keV, and perform a spectral analysis to calculate the peak flux and peak isotropic-equivalent luminosity. Since the satellite's attitude information is not available for the time of this GRB, more than 200 incident directions were probed in order to find the median luminosity and its systematic uncertainty. We found that the peak flux in the $80-800$ keV range (observer frame) was $F_{\\rm{ph}}^{\\rm{p}}=1300_{-200}^{+1200}$ ph cm$^{-2}$s$^{-1}$ or $F_{\\rm{erg}}^{\\rm{p}}=5.7_{-0.7}^{+3.7}\\times10^{-4}$ erg cm$^{-2}$s$^{-1}$ and the fluence in the same energy range of the first GRB episide which was observable by GRBAlpha was $S=2.2_{-0.3}^{+1.4}\\times10^{-2}$ erg cm$^{-2}$. The peak isotropic-equivalent luminosity in the $92-920$ keV range (rest frame) was $L_{\\rm{iso}}^{\\rm{p}}=3.7_{-0.5}^{+2.5}\\times10^{52}$ erg s$^{-1}$ and the bolometric peak isotropic-equivalent luminosity was $L_{\\rm{iso}}^{\\rm{p,bol}}=8.4_{-0.9}^{+1.4}\\times10^{52}$ erg s$^{-1}$ in the $1-10,000$ keV range (rest frame). The peak emitted energy is $E_p^\\ast=E_p(1+z)=1120\\pm470$ keV. Our measurement of $L_{\\rm{iso}}^{\\rm{p,bol}}$ is consistent with the Yonetoku relation. |\n",
       "|<p style=\"color:green\"> **ERROR** </p>| <p style=\"color:green\">affiliation error: mpia.affiliation_verifications: 'Heidelberg' keyword not found.</p> |"
      ],
      "text/plain": [
       "<IPython.core.display.Markdown object>"
      ]
     },
     "metadata": {},
     "output_type": "display_data"
    },
    {
     "data": {
      "text/markdown": [
       "\n",
       "|||\n",
       "|---:|:---|\n",
       "| [![arXiv](https://img.shields.io/badge/arXiv-arXiv:2302.10048-b31b1b.svg)](https://arxiv.org/abs/arXiv:2302.10048) | **GRBAlpha: the smallest astrophysical space observatory -- Part 1:  Detector design, system description and satellite operations**  |\n",
       "|| András Pál, et al. -- incl., <mark>Pavol Lipovský</mark> |\n",
       "|*Appeared on*| *2023-02-21*|\n",
       "|*Comments*| *Submitted to Astronomy & Astrophysics, 8 pages, 9 figures*|\n",
       "|**Abstract**| Aims. Since launched on 2021 March 22, the 1U-sized CubeSat GRBAlpha operates and collects scientific data on high-energy transients, making it the smallest astrophysical space observatory to date. GRBAlpha is an in-obit demonstration of a gamma-ray burst (GRB) detector concept suitably small to fit into a standard 1U volume. As it was demonstrated in a companion paper, GRBAlpha adds significant value to the scientific community with accurate characterization of bright GRBs, including the recent event of GRB 221009A. Methods. The GRB detector is a 75x75x5 mm CsI(Tl) scintillator wrapped in a reflective foil (ESR) read out by an array of SiPM detectors, multi-pixel photon counters by Hamamatsu, driven by two separate, redundant units. To further protect the scintillator block from sunlight and protect the SiPM detectors from particle radiation, we apply a multi-layer structure of Tedlar wrapping, anodized aluminium casing and a lead-alloy shielding on one edge of the assembly. The setup allows observations of gamma radiation within the energy range of 70-890 keV and having an energy resolution of ~30%. Results. Here, we summarize the system design of the GRBAlpha mission, including the electronics and software components of the detector, some aspects of the platform as well as the current way of semi-autonomous operations. In addition, details are given about the raw data products and telemetry in order to encourage the community for expansion of the receiver network for our initiatives with GRBAlpha and related experiments. |\n",
       "|<p style=\"color:green\"> **ERROR** </p>| <p style=\"color:green\">affiliation error: mpia.affiliation_verifications: 'Heidelberg' keyword not found.</p> |"
      ],
      "text/plain": [
       "<IPython.core.display.Markdown object>"
      ]
     },
     "metadata": {},
     "output_type": "display_data"
    },
    {
     "data": {
      "text/markdown": [
       "\n",
       "|||\n",
       "|---:|:---|\n",
       "| [![arXiv](https://img.shields.io/badge/arXiv-arXiv:2302.10107-b31b1b.svg)](https://arxiv.org/abs/arXiv:2302.10107) | **A sample of Fast Radio Bursts discovered and localised with MeerTRAP at  the MeerKAT telescope**  |\n",
       "|| F. Jankowski, et al. -- incl., <mark>M. Kramer</mark> |\n",
       "|*Appeared on*| *2023-02-21*|\n",
       "|*Comments*| *23 pages, 10 figures, 3 tables. Submitted to MNRAS in 2022, past first review. Supplementary data are available on Zenodo (this https URL) and via the Transient Name Server*|\n",
       "|**Abstract**| We present a sample of well-localised Fast Radio Bursts (FRBs) discovered by the MeerTRAP project at the MeerKAT telescope in South Africa. We discovered the three FRBs in single coherent tied-array beams and localised them to an area of ~1 arcmin$^2$. We investigate their burst properties, scattering, repetition rates, and localisations in a multi-wavelength context. FRB 20201211A shows hints of scatter broadening but is otherwise consistent with instrumental dispersion smearing. For FRB 20210202D, we discovered a faint post-cursor burst separated by ~200 ms, suggesting a distinct burst component or a repeat pulse. We attempt to associate the FRBs with host galaxy candidates. For FRB 20210408H, we tentatively (0.35 - 0.53 probability) identify a compatible host at a redshift ~0.5. Additionally, we analyse the MeerTRAP survey properties, such as the survey coverage, fluence completeness, and their implications for the FRB population. Based on the entire sample of 11 MeerTRAP FRBs discovered by the end of 2021, we estimate the FRB all-sky rates and their scaling with the fluence threshold. The inferred FRB all-sky rates at 1.28 GHz are $4.4_{-2.5}^{+4.3}$ and $2.1_{-1.1}^{+1.8} \\times 10^3$ sky$^{-1}$ d$^{-1}$ above 0.66 and 3.44 Jy ms for the coherent and incoherent surveys, respectively. The scaling between the MeerTRAP rates is flatter than at higher fluences at the 95 per cent confidence level. There seems to be a deficit of low-fluence FRBs, suggesting a break or turn-over in the rate versus fluence relation below 2 Jy ms. We speculate on cosmological or progenitor-intrinsic origins. The cumulative source counts within our surveys appear consistent with the Euclidean scaling. |\n",
       "|<p style=\"color:green\"> **ERROR** </p>| <p style=\"color:green\">affiliation error: mpia.affiliation_verifications: 'Heidelberg' keyword not found.</p> |"
      ],
      "text/plain": [
       "<IPython.core.display.Markdown object>"
      ]
     },
     "metadata": {},
     "output_type": "display_data"
    },
    {
     "data": {
      "text/markdown": [
       "\n",
       "|||\n",
       "|---:|:---|\n",
       "| [![arXiv](https://img.shields.io/badge/arXiv-arXiv:2302.09082-b31b1b.svg)](https://arxiv.org/abs/arXiv:2302.09082) | **Jupiter's interior from Juno: Equation-of-state uncertainties and dilute  core extent**  |\n",
       "|| S. Howard, et al. -- incl., <mark>R. Helled</mark> |\n",
       "|*Appeared on*| *2023-02-21*|\n",
       "|*Comments*| **|\n",
       "|**Abstract**| The Juno mission has provided measurements of Jupiter s gravity field with an outstanding level of accuracy, leading to better constraints on the interior of the planet. Improving our knowledge of the internal structure of Jupiter is key to understanding its formation and evolution but is also important in the framework of exoplanet exploration. In this study, we investigated the differences between the state-of-the-art equations of state and their impact on the properties of interior models. Accounting for uncertainty on the hydrogen and helium equation of state, we assessed the span of the interior features of Jupiter. We carried out an extensive exploration of the parameter space and studied a wide range of interior models using Markov chain Monte Carlo (MCMC) simulations. To consider the uncertainty on the equation of state, we allowed for modifications of the equation of state in our calculations. Our models harbour a dilute core and indicate that Jupiter s internal entropy is higher than what is usually assumed from the Galileo probe measurements. We obtain solutions with extended dilute cores, but contrary to other recent interior models of Jupiter, we also obtain models with small dilute cores. The dilute cores in such solutions extend to 20% of Jupiter s mass, leading to better agreement with formation evolution models. We conclude that the equations of state used in Jupiter models have a crucial effect on the inferred structure and composition. Further explorations of the behaviour of hydrogen helium mixtures at the pressure and temperature conditions in Jupiter will help to constrain the interior of the planet, and therefore its origin. |\n",
       "|<p style=\"color:green\"> **ERROR** </p>| <p style=\"color:green\">affiliation error: mpia.affiliation_verifications: 'Planck' keyword not found.</p> |"
      ],
      "text/plain": [
       "<IPython.core.display.Markdown object>"
      ]
     },
     "metadata": {},
     "output_type": "display_data"
    },
    {
     "data": {
      "text/markdown": [
       "\n",
       "|||\n",
       "|---:|:---|\n",
       "| [![arXiv](https://img.shields.io/badge/arXiv-arXiv:2302.09372-b31b1b.svg)](https://arxiv.org/abs/arXiv:2302.09372) | **Euclid preparation. XXXI. Performance assessment of the NISP Red-Grism  through spectroscopic simulations for the Wide and Deep surveys**  |\n",
       "|| Euclid Collaboration, et al. -- incl., <mark>M. Schirmer</mark> |\n",
       "|*Appeared on*| *2023-02-21*|\n",
       "|*Comments*| *23 pages, 21 figures*|\n",
       "|**Abstract**| This work focuses on the pilot run of a simulation campaign aimed at investigating the spectroscopic capabilities of the Euclid Near-Infrared Spectrometer and Photometer (NISP), in terms of continuum and emission line detection in the context of galaxy evolutionary studies. To this purpose we constructed, emulated, and analysed the spectra of 4992 star-forming galaxies at 0.3 <= z <= 2 using the NISP pixel-level simulator. We built the spectral library starting from public multi-wavelength galaxy catalogues, with value-added information on spectral energy distribution (SED) fitting results, and from Bruzual and Charlot (2003) stellar population templates. Rest-frame optical and near-IR nebular emission lines were included using empirical and theoretical relations. We inferred the 3.5 sigma NISP red grism spectroscopic detection limit of the continuum measured in the H band for star-forming galaxies with a median disk half-light radius of 0.4 arcsecond at magnitude H = 19.5 +/- 0.2 AB mag for the EuclidWide Survey and at H = 20.8 +/- 0.6 AB mag for the Euclid Deep Survey. We found a very good agreement with the red grism emission line detection limit requirement for the Wide and Deep surveys. We characterised the effect of the galaxy shape on the detection capability of the red grism and highlighted the degradation of the quality of the extracted spectra as the disk size increases. In particular, we found that the extracted emission line signal to noise ratio (SNR) drops by approx. 45% when the disk size ranges from 0.25 to 1 arcsecond. These trends lead to a correlation between the emission line SNR and the stellar mass of the galaxy and we demonstrate the effect in a stacking analysis that can unveil emission lines otherwise too faint to detect. |\n",
       "|<p style=\"color:red\"> **ERROR** </p>| <p style=\"color:red\">latex error Could not find figure figures/SNR_Els.pdf</p> |"
      ],
      "text/plain": [
       "<IPython.core.display.Markdown object>"
      ]
     },
     "metadata": {},
     "output_type": "display_data"
    },
    {
     "data": {
      "text/markdown": [
       "\n",
       "|||\n",
       "|---:|:---|\n",
       "| [![arXiv](https://img.shields.io/badge/arXiv-arXiv:2302.09987-b31b1b.svg)](https://arxiv.org/abs/arXiv:2302.09987) | **Mid-infrared spectroscopy of planetary analogs: A database for planetary  remote sensing**  |\n",
       "|| A. Morlok, et al. -- incl., <mark>J. Helbert</mark> |\n",
       "|*Appeared on*| *2023-02-21*|\n",
       "|*Comments*| **|\n",
       "|**Abstract**| The MERTIS (MErcury Radiometer and Thermal Infrared Spectrometer) instrument onboard the ESA/JAXA BepiColombo mission will provide mid-infrared data, which will be crucial to characterize the surface mineralogy of Mercury. In order to interpret the results, we are creating a database of mid infrared spectra. As part of a study of synthetic glasses which are to serve as analog materials for the interpretation of remote sensing and modeling data, we present mid infrared data for analog materials of Mercury regolith, surface and mantle compositions. In addition, we provide data for similar analogs of Earth, Moon, Venus, and Mars rocks for a coherent picture. The analog samples have been first characterized by optical microscopy, Raman spectroscopy and EMPA. Powdered size fractions (0-25 micron, 25-63 micron, 63-125 micron, and 125 -250 micron) were studied in reflectance in the mid-infrared range from 2.5 to 18 micron (550 to 2000cm-1), additional micro FTIR analyses were also obtained. Results for the size fractions of the surface and regolith analogs for Mercury show typical features for amorphous material with Christiansen Features (CF) at 8 to 8.1 micron, Reststrahlen Bands (RB) at 9.8 to 9.9 micron, and the Transparency Feature (TF) at 12 micron. The six bulk silicate Mercury analogs have varying CF positions from 8.1 to 9 micron, with RB crystalline features of various olivines dominating in most samples. Similarly, bulk silicate analogs of the other planetary bodies show glassy features for the surface analogs with CF from 7.9 micron (Earth Continental Crust) to 8.3 micron (Lunar Mare), strong RB from 9.5 micron (Earth Continental Crust ) to 10.6 micron (Lunar Mare and Highlands). TF are usually very weak for the glassy analogs. |\n",
       "|<p style=\"color:red\"> **ERROR** </p>| <p style=\"color:red\">latex error not a gzip file</p> |"
      ],
      "text/plain": [
       "<IPython.core.display.Markdown object>"
      ]
     },
     "metadata": {},
     "output_type": "display_data"
    }
   ],
   "source": [
    "import datetime\n",
    "today = str(datetime.date.today())\n",
    "logfile = f\"_build/html/logs/log-{today}.md\"\n",
    "\n",
    "\n",
    "with open(logfile, 'w') as logs:\n",
    "    # Success\n",
    "    logs.write(f'# Arxiv on Deck 2: Logs - {today}\\n\\n')\n",
    "    logs.write(\"\"\"* Arxiv had {0:,d} new papers\\n\"\"\".format(len(new_papers)))\n",
    "    logs.write(\"\"\"    * {0:,d} with possible author matches\\n\\n\"\"\".format(len(candidates)))\n",
    "    logs.write(\"## Sucessful papers\\n\\n\")\n",
    "    display(Markdown(\"## Successful papers\"))\n",
    "    success = [k[0] for k in documents]\n",
    "    for candid in candidates:\n",
    "        if candid['identifier'].split(':')[-1] in success:\n",
    "            display(candid)\n",
    "            logs.write(candid.generate_markdown_text() + '\\n\\n')\n",
    "\n",
    "    ## failed\n",
    "    logs.write(\"## Failed papers\\n\\n\")\n",
    "    display(Markdown(\"## Failed papers\"))\n",
    "    failed = sorted(failed, key=lambda x: x[1])\n",
    "    current_reason = \"\"\n",
    "    for paper, reason in failed:\n",
    "        if 'affiliation' in reason:\n",
    "            color = 'green'\n",
    "        else:\n",
    "            color = 'red'\n",
    "        data = Markdown(\n",
    "                paper.generate_markdown_text() + \n",
    "                f'\\n|<p style=\"color:{color:s}\"> **ERROR** </p>| <p style=\"color:{color:s}\">{reason:s}</p> |'\n",
    "               )\n",
    "        if reason != current_reason:\n",
    "            logs.write(f'### {reason:s} \\n\\n')\n",
    "            current_reason = reason\n",
    "        logs.write(data.data + '\\n\\n')\n",
    "        \n",
    "        # only display here the important errors (all in logs)\n",
    "        # if color in ('red',):\n",
    "        display(data)"
   ]
  },
  {
   "cell_type": "markdown",
   "id": "472d20ee",
   "metadata": {
    "papermill": {
     "duration": 0.011719,
     "end_time": "2023-02-21T04:10:59.808184",
     "exception": false,
     "start_time": "2023-02-21T04:10:59.796465",
     "status": "completed"
    },
    "tags": []
   },
   "source": [
    "## Export documents\n",
    "\n",
    "We now write the .md files and export relevant images"
   ]
  },
  {
   "cell_type": "code",
   "execution_count": 7,
   "id": "d426aed9",
   "metadata": {
    "execution": {
     "iopub.execute_input": "2023-02-21T04:10:59.833457Z",
     "iopub.status.busy": "2023-02-21T04:10:59.832934Z",
     "iopub.status.idle": "2023-02-21T04:10:59.840646Z",
     "shell.execute_reply": "2023-02-21T04:10:59.839971Z"
    },
    "papermill": {
     "duration": 0.022362,
     "end_time": "2023-02-21T04:10:59.842305",
     "exception": false,
     "start_time": "2023-02-21T04:10:59.819943",
     "status": "completed"
    },
    "tags": []
   },
   "outputs": [],
   "source": [
    "def export_markdown_summary(md: str, md_fname:str, directory: str):\n",
    "    \"\"\"Export MD document and associated relevant images\"\"\"\n",
    "    import os\n",
    "    import shutil\n",
    "    import re\n",
    "\n",
    "    if (os.path.exists(directory) and not os.path.isdir(directory)):\n",
    "        raise RuntimeError(f\"a non-directory file exists with name {directory:s}\")\n",
    "\n",
    "    if (not os.path.exists(directory)):\n",
    "        print(f\"creating directory {directory:s}\")\n",
    "        os.mkdir(directory)\n",
    "\n",
    "    fig_fnames = (re.compile(r'\\[Fig.*\\]\\((.*)\\)').findall(md) + \n",
    "                  re.compile(r'\\<img src=\"([^>\\s]*)\"[^>]*/>').findall(md))\n",
    "    for fname in fig_fnames:\n",
    "        if 'http' in fname:\n",
    "            # No need to copy online figures\n",
    "            continue\n",
    "        destdir = os.path.join(directory, os.path.dirname(fname))\n",
    "        destfname = os.path.join(destdir, os.path.basename(fname))\n",
    "        try:\n",
    "            os.makedirs(destdir)\n",
    "        except FileExistsError:\n",
    "            pass\n",
    "        shutil.copy(fname, destfname)\n",
    "    with open(os.path.join(directory, md_fname), 'w') as fout:\n",
    "        fout.write(md)\n",
    "    print(\"exported in \", os.path.join(directory, md_fname))\n",
    "    [print(\"    + \" + os.path.join(directory,fk)) for fk in fig_fnames]"
   ]
  },
  {
   "cell_type": "code",
   "execution_count": 8,
   "id": "014d04a4",
   "metadata": {
    "execution": {
     "iopub.execute_input": "2023-02-21T04:10:59.867301Z",
     "iopub.status.busy": "2023-02-21T04:10:59.866627Z",
     "iopub.status.idle": "2023-02-21T04:10:59.873023Z",
     "shell.execute_reply": "2023-02-21T04:10:59.872413Z"
    },
    "papermill": {
     "duration": 0.020529,
     "end_time": "2023-02-21T04:10:59.874576",
     "exception": false,
     "start_time": "2023-02-21T04:10:59.854047",
     "status": "completed"
    },
    "tags": []
   },
   "outputs": [
    {
     "name": "stdout",
     "output_type": "stream",
     "text": [
      "exported in  _build/html/2302.10008.md\n",
      "    + _build/html/tmp_2302.10008/./TOI3235-hs.png\n",
      "    + _build/html/tmp_2302.10008/./TOI3235-lc.png\n",
      "    + _build/html/tmp_2302.10008/./mass_radius_period_radius_mass_starmass_061_5205.png\n",
      "    + _build/html/tmp_2302.10008/./TOI3235-rv.png\n",
      "    + _build/html/tmp_2302.10008/./TOI3235-iso-gk-gabs-isofeh-SED.png\n"
     ]
    }
   ],
   "source": [
    "for paper_id, md in documents:\n",
    "    export_markdown_summary(md, f\"{paper_id:s}.md\", '_build/html/')"
   ]
  },
  {
   "cell_type": "markdown",
   "id": "f087a0a7",
   "metadata": {
    "papermill": {
     "duration": 0.01177,
     "end_time": "2023-02-21T04:10:59.898091",
     "exception": false,
     "start_time": "2023-02-21T04:10:59.886321",
     "status": "completed"
    },
    "tags": []
   },
   "source": [
    "## Display the papers\n",
    "\n",
    "Not necessary but allows for a quick check."
   ]
  },
  {
   "cell_type": "code",
   "execution_count": 9,
   "id": "fd25f625",
   "metadata": {
    "execution": {
     "iopub.execute_input": "2023-02-21T04:10:59.949820Z",
     "iopub.status.busy": "2023-02-21T04:10:59.949543Z",
     "iopub.status.idle": "2023-02-21T04:10:59.960066Z",
     "shell.execute_reply": "2023-02-21T04:10:59.959329Z"
    },
    "papermill": {
     "duration": 0.025697,
     "end_time": "2023-02-21T04:10:59.961818",
     "exception": false,
     "start_time": "2023-02-21T04:10:59.936121",
     "status": "completed"
    },
    "scrolled": false,
    "tags": []
   },
   "outputs": [
    {
     "data": {
      "text/markdown": [
       "<div class=\"macros\" style=\"visibility:hidden;\">\n",
       "$\\newcommand{\\ensuremath}{}$\n",
       "$\\newcommand{\\xspace}{}$\n",
       "$\\newcommand{\\object}[1]{\\texttt{#1}}$\n",
       "$\\newcommand{\\farcs}{{.}''}$\n",
       "$\\newcommand{\\farcm}{{.}'}$\n",
       "$\\newcommand{\\arcsec}{''}$\n",
       "$\\newcommand{\\arcmin}{'}$\n",
       "$\\newcommand{\\ion}[2]{#1#2}$\n",
       "$\\newcommand{\\textsc}[1]{\\textrm{#1}}$\n",
       "$\\newcommand{\\hl}[1]{\\textrm{#1}}$\n",
       "$\\newcommand{\\forloop}[5][1]$\n",
       "$\\newcommand{\\tbd}[1]{{\\par\\bf\\textsc{TBD: #1\\\\}}}$\n",
       "$\\newcommand{\\ctbd}[1]$\n",
       "$\\newcommand{\\cor}{\\textcolor{red}{(corr?) }}$\n",
       "$\\newcommand{\\spl}{\\textcolor{red}{(spl?) }}$\n",
       "$\\newcommand{\\ii}{\\'\\i }$\n",
       "$\\newcommand{\\oo}{\\H{o}}$\n",
       "$\\newcommand{\\uu}{\\H u}$\n",
       "$\\newcommand{\\lc}{light curve}$\n",
       "$\\newcommand{\\lcs}{light curves}$\n",
       "$\\newcommand{\\Lc}{Light curve}$\n",
       "$\\newcommand{\\Lcs}{Light curves}$\n",
       "$\\newcommand{\\avg}[1]{\\ensuremath{\\langle #1\\rangle}}$\n",
       "$\\newcommand{\\med}[1]{\\ensuremath{\\langle #1\\rangle_{med}}}$\n",
       "$\\newcommand{\\dpt}{data-point}$\n",
       "$\\newcommand{\\dpts}{data-points}$\n",
       "$\\newcommand{\\tel}{telescope}$\n",
       "$\\newcommand{\\magn}{magnitude}$\n",
       "$\\newcommand{\\stan}{standard}$\n",
       "$\\newcommand{\\aper}{aperture}$\n",
       "$\\newcommand{\\oot}{out-of-transit}$\n",
       "$\\newcommand{\\OOT}{Out-of-Transit}$\n",
       "$\\newcommand{\\cfa}{Harvard-Smithsonian Center for Astrophysics (CfA)}$\n",
       "$\\newcommand{\\cfadigi}{CfA Speedometers}$\n",
       "$\\newcommand{\\cmd}{color-magnitude diagram}$\n",
       "$\\newcommand{\\conc}[1]{\\noindent\\par{\\noindent{\\mathbf \\Longrightarrow \\bf #1}}}$\n",
       "$\\newcommand{\\diam}{\\ensuremath{\\oslash}}$\n",
       "$\\newcommand{\\ccdsize}[1]{\\ensuremath{\\rm #1\\times\\rm#1}}$\n",
       "$\\newcommand{\\fovsize}[2]{\\ensuremath{\\rm #1 #2\\times\\rm#1 #2}}$\n",
       "$\\newcommand{\\tsize}[1]{\\mbox{\\rm #1 m}}$\n",
       "$\\newcommand{\\band}[1]{\\ensuremath{#1}~band}$\n",
       "$\\newcommand{\\ordo}{\\ensuremath{\\mathcal{O}}}$\n",
       "$\\newcommand{\\chisq}{\\ensuremath{\\chi^2}}$\n",
       "$\\newcommand{\\RA}[3]{\\ensuremath{#1^{\\mathrm h}#2^{\\mathrm m}#3^{\\mathrm s}}}$\n",
       "$\\newcommand{\\DEC}[3]{\\ensuremath{#1^{\\mathrm d}#2^{\\mathrm m}#3^{\\mathrm s}}}$\n",
       "$\\newcommand{\\ghr}{\\ensuremath{^h}}$\n",
       "$\\newcommand{\\gmin}{\\ensuremath{^m}}$\n",
       "$\\newcommand{\\Ks}{\\ensuremath{K_s}}$\n",
       "$\\newcommand{\\masy}{\\ensuremath{\\rm mas yr^{-1}}}$\n",
       "$\\newcommand{\\kms}{\\ensuremath{\\rm km s^{-1}}}$\n",
       "$\\newcommand{\\ms}{\\ensuremath{\\rm m s^{-1}}}$\n",
       "$\\newcommand{\\msd}{\\ensuremath{\\rm m s^{-1} d^{-1}}}$\n",
       "$\\newcommand{\\mss}{\\ensuremath{\\rm m s^{-2}}}$\n",
       "$\\newcommand{\\gcmc}{\\ensuremath{\\rm g cm^{-3}}}$\n",
       "$\\newcommand{\\ergscmsq}{\\ensuremath{\\rm erg s^{-1} cm^{-2}}}$\n",
       "$\\newcommand{\\C}{\\ensuremath{^{\\circ}C\\;}}$\n",
       "$\\newcommand{\\el}{\\ensuremath{e^-}}$\n",
       "$\\newcommand{\\sqarcsec}{\\ensuremath{\\Box^{\\prime\\prime}}}$\n",
       "$\\newcommand{\\sqarcdeg}{\\ensuremath{\\Box^{\\circ}}}$\n",
       "$\\newcommand{\\pxs}{\\ensuremath{\\rm \\arcsec pixel^{-1}}}$\n",
       "$\\newcommand{\\aduel}{\\ensuremath{\\lbrack ADU/\\el \\rbrack}}$\n",
       "$\\newcommand{\\eladu}{\\ensuremath{\\lbrack \\el/ADU \\rbrack}}$\n",
       "$\\newcommand{\\adupixs}{\\ensuremath{\\rm ADU/(pix  s)}}$\n",
       "$\\newcommand{\\elpixs}{\\ensuremath{\\rm \\el/(pix  s)}}$\n",
       "$\\newcommand{\\masyr}{\\ensuremath{\\rm mas yr^{-1}}}$\n",
       "$\\newcommand{\\msini}{\\ensuremath{m \\sin i}}$\n",
       "$\\newcommand{\\mplsini}{\\ensuremath{\\mpl\\sin i}}$\n",
       "$\\newcommand{\\teff}{\\ensuremath{T_{\\rm eff}}}$\n",
       "$\\newcommand{\\logg}{\\ensuremath{\\log{g}}}$\n",
       "$\\newcommand{\\vsini}{\\ensuremath{v \\sin{i}}}$\n",
       "$\\newcommand{\\feh}{\\ensuremath{\\rm[Fe/H]}}$\n",
       "$\\newcommand{\\logl}{\\ensuremath{\\log{L}}}$\n",
       "$\\newcommand{\\vmac}{\\ensuremath{v_{\\rm mac}}}$\n",
       "$\\newcommand{\\vmic}{\\ensuremath{v_{\\rm mic}}}$\n",
       "$\\newcommand{\\rhk}{\\ensuremath{R^{\\prime}_{\\rm HK}}}$\n",
       "$\\newcommand{\\logrhk}{\\ensuremath{\\log\\rhk}}$\n",
       "$\\newcommand{\\Savg}{\\ensuremath{\\langle S\\rangle}}$\n",
       "$\\newcommand{\\vic}{\\ensuremath{V\\!-\\!I_C}}$\n",
       "$\\newcommand{\\ebv}{\\ensuremath{E(B\\!-\\!V)}}$\n",
       "$\\newcommand{\\rsun}{\\ensuremath{R_\\sun}}$\n",
       "$\\newcommand{\\msun}{\\ensuremath{M_\\sun}}$\n",
       "$\\newcommand{\\lsun}{\\ensuremath{L_\\sun}}$\n",
       "$\\newcommand{\\loglsun}{\\ensuremath{\\log{L_\\sun}}}$\n",
       "$\\newcommand{\\teffsun}{\\ensuremath{T_{eff,\\sun}}}$\n",
       "$\\newcommand{\\rhosun}{\\ensuremath{\\rho_\\sun}}$\n",
       "$\\newcommand{\\loggsun}{\\ensuremath{\\log{g_{\\sun}}}}$\n",
       "$\\newcommand{\\rstar}{\\ensuremath{R_\\star}}$\n",
       "$\\newcommand{\\mstar}{\\ensuremath{M_\\star}}$\n",
       "$\\newcommand{\\lstar}{\\ensuremath{L_\\star}}$\n",
       "$\\newcommand{\\astar}{\\ensuremath{a_\\star}}$\n",
       "$\\newcommand{\\loglstar}{\\ensuremath{\\log{L_\\star}}}$\n",
       "$\\newcommand{\\teffstar}{\\ensuremath{T_{\\rm eff\\star}}}$\n",
       "$\\newcommand{\\rhostar}{\\ensuremath{\\rho_\\star}}$\n",
       "$\\newcommand{\\loggstar}{\\ensuremath{\\log{g_{\\star}}}}$\n",
       "$\\newcommand{\\rearth}{\\ensuremath{R_\\earth}}$\n",
       "$\\newcommand{\\mearth}{\\ensuremath{M_\\earth}}$\n",
       "$\\newcommand{\\learth}{\\ensuremath{L_\\earth}}$\n",
       "$\\newcommand{\\teffearth}{\\ensuremath{T_{\\rm eff,\\earth}}}$\n",
       "$\\newcommand{\\rhoearth}{\\ensuremath{\\rho_\\earth}}$\n",
       "$\\newcommand{\\rpl}{\\ensuremath{R_{p}}}$\n",
       "$\\newcommand{\\mpl}{\\ensuremath{M_{p}}}$\n",
       "$\\newcommand{\\lpl}{\\ensuremath{L_{p}}}$\n",
       "$\\newcommand{\\teffpl}{\\ensuremath{T_{\\rm eff,{p}}}}$\n",
       "$\\newcommand{\\rhopl}{\\ensuremath{\\rho_{p}}}$\n",
       "$\\newcommand{\\ipl}{\\ensuremath{i_{p}}}$\n",
       "$\\newcommand{\\epl}{\\ensuremath{e_{p}}}$\n",
       "$\\newcommand{\\gpl}{\\ensuremath{g_{p}}}$\n",
       "$\\newcommand{\\loggpl}{\\ensuremath{\\log g_{p}}}$\n",
       "$\\newcommand{\\arstar}{\\ensuremath{a/\\rstar}}$\n",
       "$\\newcommand{\\zrstar}{\\ensuremath{\\zeta/\\rstar}}$\n",
       "$\\newcommand{\\rjup}{\\ensuremath{R_{\\rm J}}}$\n",
       "$\\newcommand{\\mjup}{\\ensuremath{M_{\\rm J}}}$\n",
       "$\\newcommand{\\ljup}{\\ensuremath{L_{\\rm J}}}$\n",
       "$\\newcommand{\\teffjup}{\\ensuremath{T_{eff,{\\rm J}}}}$\n",
       "$\\newcommand{\\rhojup}{\\ensuremath{\\rho_{\\rm J}}}$\n",
       "$\\newcommand{\\gjup}{\\ensuremath{\\g_{\\rm J}}}$\n",
       "$\\newcommand{\\rjuplong}{\\ensuremath{R_{\\rm Jup}}}$\n",
       "$\\newcommand{\\mjuplong}{\\ensuremath{M_{\\rm Jup}}}$\n",
       "$\\newcommand{\\ljuplong}{\\ensuremath{L_{\\rm Jup}}}$\n",
       "$\\newcommand{\\teffjuplong}{\\ensuremath{T_{eff,{\\rm Jup}}}}$\n",
       "$\\newcommand{\\rhojuplong}{\\ensuremath{\\rho_{\\rm Jup}}}$\n",
       "$\\newcommand{\\gjuplong}{\\ensuremath{\\g_{\\rm Jup}}}$\n",
       "$\\newcommand{\\pack}[1]{\\textsc{\\lowercase{#1}}}$\n",
       "$\\newcommand{\\prog}[1]{\\texttt{\\lowercase{#1}}}$\n",
       "$\\newcommand{\\iraf}{\\pack{iraf}}$\n",
       "$\\newcommand{\\todcor}{\\prog{todcor}}$\n",
       "$\\newcommand{\\xcsao}{\\prog{xcsao}}$\n",
       "$\\newcommand{\\daophot}{\\pack{daophot}}$\n",
       "$\\newcommand{\\fihat}{\\pack{fihat}}$\n",
       "$\\newcommand{\\fistar}{\\prog{fistar}}$\n",
       "$\\newcommand{\\fiphot}{\\prog{fiphot}}$\n",
       "$\\newcommand{\\grmatch}{\\prog{grmatch}}$\n",
       "$\\newcommand{\\grtrans}{\\prog{grtrans}}$\n",
       "$\\newcommand{\\refp}[1]{p.~\\pageref{#1}}$\n",
       "$\\newcommand{\\reffig}[1]{Fig.~\\ref{fig:#1}}$\n",
       "$\\newcommand{\\refsec}[1]{\\mbox{\\S \\ref{sec:#1}}}$\n",
       "$\\newcommand{\\refeq}[1]{Eq.~\\ref{eq:#1}}$\n",
       "$\\newcommand{\\reftab}[1]{Tab.~\\ref{tab:#1}}$\n",
       "$\\newcommand{\\reffigl}[1]{Figure~\\ref{fig:#1}}$\n",
       "$\\newcommand{\\refsecl}[1]{\\mbox{Section \\ref{sec:#1}}}$\n",
       "$\\newcommand{\\refeql}[1]{Equation~\\ref{eq:#1}}$\n",
       "$\\newcommand{\\reftabl}[1]{Table~\\ref{tab:#1}}$\n",
       "$\\newcommand{\\reffigp}[1]{\\reffig{#1} on \\pref{fig:#1}}$\n",
       "$\\newcommand{\\refsecp}[1]{\\refsec{#1} on \\pref{sec:#1}}$\n",
       "$\\newcommand{\\refeqp}[1]{\\refeq{#1} on \\pref{eq:#1}}$\n",
       "$\\newcommand{\\reftabp}[1]{\\reftab{#1} on \\pref{tab:#1}}$\n",
       "$\\newcommand{\\reffigls}[2]{Figures~\\ref{fig:#1}-\\ref{fig:#2}}$\n",
       "$\\newcommand{\\reftabls}[2]{Tables~\\ref{tab:#1}-\\ref{tab:#2}}$\n",
       "$\\newcommand{\\flwof}{\\mbox{FLWO 1.2 m}}$\n",
       "$\\newcommand{\\flwos}{\\mbox{FLWO 1.5 m}}$\n",
       "$\\newcommand{\\flwot}{\\mbox{TopHAT 0.25 m}}$\n",
       "$\\newcommand{\\mmt}{\\mbox{MMT 6.5 m}}$\n",
       "$\\newcommand{\\ssts}{{\\em Spitzer}}$\n",
       "$\\newcommand{\\sstL}{{\\em Spitzer Space Telescope}}$\n",
       "$\\newcommand{\\hst}{{\\em HST}}$\n",
       "$\\newcommand{\\wom}{\\mbox{Wise 1 m}}$\n",
       "$\\newcommand{\\piszkessch}{Konkoly 0.6 m Schmidt}$\n",
       "$\\newcommand{\\piszkesrcc}{Konkoly 1 m RCC}$\n",
       "$\\newcommand{\\dscu}{\\mbox{\\delta Scuti}}$\n",
       "$\\newcommand{\\gdor}{\\mbox{\\gamma Dor}}$\n",
       "$\\newcommand{\\hj}{hot Jupiter}$\n",
       "$\\newcommand{\\vhj}{very hot Jupiter}$\n",
       "$\\newcommand{\\hd}[1]{\\mbox{HD #1}}$\n",
       "$\\newcommand{\\BD}[1]{\\mbox{BD #1}}$\n",
       "$\\newcommand{\\hip}[1]{\\mbox{HIP #1}}$\n",
       "$\\newcommand{\\gj}[1]{\\mbox{GJ #1}}$\n",
       "$\\newcommand{\\tbn}[1]{\\tablenotemark{#1}}$\n",
       "$\\newcommand{\\hatcurhtr}{TOI-3235}$\n",
       "$\\newcommand{\\hatcurfield}{\\ensuremath{string}}$\n",
       "$\\newcommand{\\hatcurCCra}{\\ensuremath{13^{\\mathrm h}49^{\\mathrm m}53.9777{\\mathrm s}}}$\n",
       "$\\newcommand{\\hatcurCCdec}{\\ensuremath{-46{\\arcdeg}03{\\arcmin}58.4541{\\arcsec}}}$\n",
       "$\\newcommand{\\hatcurCCmag}{NULL}$\n",
       "$\\newcommand{\\hatcurCCtwomass}{2MASS~13495398-4603583}$\n",
       "$\\newcommand{\\hatcurCCgsc}{GSC~NULL}$\n",
       "$\\newcommand{\\hatcurCCgaia}{GAIA~6107144260247338240}$\n",
       "$\\newcommand{\\hatcurCCgaiadrtwo}{GAIA~DR2~6107144260251920000}$\n",
       "$\\newcommand{\\hatcurCCgaiadrthree}{GAIA~DR3~6107144260251920000}$\n",
       "$\\newcommand{\\hatcurTICID}{TIC~243641947}$\n",
       "$\\newcommand{\\hatcurCCtassmv}{\\ensuremath{nff\\pmnff}}$\n",
       "$\\newcommand{\\hatcurCCtassmvshort}{\\ensuremath{0.0}}$\n",
       "$\\newcommand{\\hatcurCCtassmB}{\\ensuremath{nff\\pmnff}}$\n",
       "$\\newcommand{\\hatcurCCtassmBshort}{\\ensuremath{0.0}}$\n",
       "$\\newcommand{\\hatcurCCtassmI}{\\ensuremath{nff\\pmnff}}$\n",
       "$\\newcommand{\\hatcurCCtassmIshort}{\\ensuremath{0.0}}$\n",
       "$\\newcommand{\\hatcurCCtassmg}{\\ensuremath{nff\\pmnff}}$\n",
       "$\\newcommand{\\hatcurCCtassmgshort}{\\ensuremath{0.0}}$\n",
       "$\\newcommand{\\hatcurCCtassmr}{\\ensuremath{nff\\pmnff}}$\n",
       "$\\newcommand{\\hatcurCCtassmrshort}{\\ensuremath{0.0}}$\n",
       "$\\newcommand{\\hatcurCCtassmi}{\\ensuremath{nff\\pmnff}}$\n",
       "$\\newcommand{\\hatcurCCtassmishort}{\\ensuremath{0.0}}$\n",
       "$\\newcommand{\\hatcurCCparallax}{\\ensuremath{13.781\\pm0.027}}$\n",
       "$\\newcommand{\\hatcurCCgaiamG}{\\ensuremath{14.4605\\pm0.0028}}$\n",
       "$\\newcommand{\\hatcurCCgaiamBP}{\\ensuremath{15.9000\\pm0.0042}}$\n",
       "$\\newcommand{\\hatcurCCgaiamRP}{\\ensuremath{13.2881\\pm0.0038}}$\n",
       "$\\newcommand{\\hatcurCCgaiamGthree}{\\ensuremath{14.4605\\pm0.0028}}$\n",
       "$\\newcommand{\\hatcurCCgaiamBPthree}{\\ensuremath{15.9000\\pm0.0042}}$\n",
       "$\\newcommand{\\hatcurCCgaiamRPthree}{\\ensuremath{13.2881\\pm0.0038}}$\n",
       "$\\newcommand{\\hatcurCCtwomassJmag}{\\ensuremath{11.706\\pm0.025}}$\n",
       "$\\newcommand{\\hatcurCCtwomassHmag}{\\ensuremath{11.099\\pm0.024}}$\n",
       "$\\newcommand{\\hatcurCCtwomassKmag}{\\ensuremath{10.819\\pm0.021}}$\n",
       "$\\newcommand{\\hatcurCCcitJmag}{\\ensuremath{11.695\\pm0.026}}$\n",
       "$\\newcommand{\\hatcurCCcitHmag}{\\ensuremath{11.088\\pm0.026}}$\n",
       "$\\newcommand{\\hatcurCCcitKmag}{\\ensuremath{10.843\\pm0.022}}$\n",
       "$\\newcommand{\\hatcurCCbbJmag}{\\ensuremath{11.787\\pm0.029}}$\n",
       "$\\newcommand{\\hatcurCCbbHmag}{\\ensuremath{11.116\\pm0.026}}$\n",
       "$\\newcommand{\\hatcurCCbbKmag}{\\ensuremath{10.863\\pm0.022}}$\n",
       "$\\newcommand{\\hatcurCCesoJmag}{\\ensuremath{11.796\\pm0.033}}$\n",
       "$\\newcommand{\\hatcurCCesoHmag}{\\ensuremath{11.118\\pm0.047}}$\n",
       "$\\newcommand{\\hatcurCCesoKmag}{\\ensuremath{10.859\\pm0.024}}$\n",
       "$\\newcommand{\\hatcurCCesoJHmag}{\\ensuremath{0.678\\pm0.054}}$\n",
       "$\\newcommand{\\hatcurCCesoJKmag}{\\ensuremath{0.936\\pm0.038}}$\n",
       "$\\newcommand{\\hatcurCCesoHKmag}{\\ensuremath{0.258\\pm0.051}}$\n",
       "$\\newcommand{\\hatcurCCWonemag}{\\ensuremath{10.694\\pm0.023}}$\n",
       "$\\newcommand{\\hatcurCCWtwomag}{\\ensuremath{10.548\\pm0.021}}$\n",
       "$\\newcommand{\\hatcurCCWthreemag}{\\ensuremath{10.458\\pm0.064}}$\n",
       "$\\newcommand{\\hatcurCCWfourmag}{\\ensuremath{nff\\pmnff}}$\n",
       "$\\newcommand{\\hatcurLCdip}{\\ensuremath{0.1}}$\n",
       "$\\newcommand{\\hatcurLCrprstar}{\\ensuremath{0.2828\\pm0.0016}}$\n",
       "$\\newcommand{\\hatcurLCbsq}{\\ensuremath{0.261_{-0.012}^{+0.012}}}$\n",
       "$\\newcommand{\\hatcurLCimp}{\\ensuremath{0.511_{-0.012}^{+0.011}}}$\n",
       "$\\newcommand{\\hatcurLCzeta}{\\ensuremath{44.41\\pm0.32}}$\n",
       "$\\newcommand{\\hatcurLCdur}{\\ensuremath{0.06165\\pm0.00021}}$\n",
       "$\\newcommand{\\hatcurLCdurshort}{\\ensuremath{0.0616}}$\n",
       "$\\newcommand{\\hatcurLCdurhr}{\\ensuremath{1.4795\\pm0.0049}}$\n",
       "$\\newcommand{\\hatcurLCdurhrshort}{\\ensuremath{1.480}}$\n",
       "$\\newcommand{\\hatcurLCq}{\\ensuremath{0.023800\\pm0.000086}}$\n",
       "$\\newcommand{\\hatcurLCqshort}{\\ensuremath{0.024}}$\n",
       "$\\newcommand{\\hatcurLCingdur}{\\ensuremath{0.01765\\pm0.00030}}$\n",
       "$\\newcommand{\\hatcurLCP}{\\ensuremath{2.59261842\\pm0.00000041}}$\n",
       "$\\newcommand{\\hatcurLCPprec}{\\ensuremath{2.5926184}}$\n",
       "$\\newcommand{\\hatcurLCPshort}{\\ensuremath{2.5926}}$\n",
       "$\\newcommand{\\hatcurLCT}{\\ensuremath{2459690.001730\\pm0.000045}}$\n",
       "$\\newcommand{\\hatcurLCTA}{\\ensuremath{2457797.39028\\pm0.00028}}$\n",
       "$\\newcommand{\\hatcurLCTB}{\\ensuremath{2459762.595048\\pm0.000053}}$\n",
       "$\\newcommand{\\hatcurLChatnetmA}{\\ensuremath{13.62811\\pm0.00072}}$\n",
       "$\\newcommand{\\hatcurLCiblendA}{\\ensuremath{0.982\\pm0.022}}$\n",
       "$\\newcommand{\\hatcurLChatnetmB}{\\ensuremath{13.63138\\pm0.00053}}$\n",
       "$\\newcommand{\\hatcurLCiblendB}{\\ensuremath{0.957\\pm0.027}}$\n",
       "$\\newcommand{\\hatcurLChatnetmC}{\\ensuremath{-7.03640\\pm0.00011}}$\n",
       "$\\newcommand{\\hatcurLCiblendC}{\\ensuremath{1.084\\pm0.011}}$\n",
       "$\\newcommand{\\hatcurLChatnetmD}{\\ensuremath{-6.996030\\pm0.000084}}$\n",
       "$\\newcommand{\\hatcurLCiblendD}{\\ensuremath{1.1248\\pm0.0088}}$\n",
       "$\\newcommand{\\hatcurLCrho}{\\ensuremath{10.99\\pm0.13}}$\n",
       "$\\newcommand{\\hatcurSMEiteff}{\\ensuremath{3196\\pm67}}$\n",
       "$\\newcommand{\\hatcurSMEizfeh}{\\ensuremath{-0.02\\pm0.10}}$\n",
       "$\\newcommand{\\hatcurSMEizfehshort}{\\ensuremath{-0.02}}$\n",
       "$\\newcommand{\\hatcurSMEilogg}{\\ensuremath{4.80\\pm0.50}}$\n",
       "$\\newcommand{\\hatcurSMEivsin}{\\ensuremath{0\\pm50}}$\n",
       "$\\newcommand{\\hatcurSMEivmac}{\\ensuremath{nff\\pmnff}}$\n",
       "$\\newcommand{\\hatcurSMEivmic}{\\ensuremath{nff\\pmnff}}$\n",
       "$\\newcommand{\\hatcurextraerrMJ}{\\ensuremath{0\\pm0}}$\n",
       "$\\newcommand{\\hatcurextraerrMJtwosiglim}{\\ensuremath{<0.0200}}$\n",
       "$\\newcommand{\\hatcurextraerrMH}{\\ensuremath{0\\pm0}}$\n",
       "$\\newcommand{\\hatcurextraerrMHtwosiglim}{\\ensuremath{<0.0200}}$\n",
       "$\\newcommand{\\hatcurextraerrMKs}{\\ensuremath{0\\pm0}}$\n",
       "$\\newcommand{\\hatcurextraerrMKstwosiglim}{\\ensuremath{<0.0200}}$\n",
       "$\\newcommand{\\hatcurextraerrMG}{\\ensuremath{0\\pm0}}$\n",
       "$\\newcommand{\\hatcurextraerrMGtwosiglim}{\\ensuremath{<0.0200}}$\n",
       "$\\newcommand{\\hatcurextraerrMRP}{\\ensuremath{0\\pm0}}$\n",
       "$\\newcommand{\\hatcurextraerrMRPtwosiglim}{\\ensuremath{<0.0200}}$\n",
       "$\\newcommand{\\hatcurextraerrMWone}{\\ensuremath{0\\pm0}}$\n",
       "$\\newcommand{\\hatcurextraerrMWonetwosiglim}{\\ensuremath{<0.0200}}$\n",
       "$\\newcommand{\\hatcurextraerrMWtwo}{\\ensuremath{0\\pm0}}$\n",
       "$\\newcommand{\\hatcurextraerrMWtwotwosiglim}{\\ensuremath{<0.0200}}$\n",
       "$\\newcommand{\\hatcurLBiB}{\\ensuremath{0.5035}}$\n",
       "$\\newcommand{\\hatcurLBiiB}{\\ensuremath{0.3376}}$\n",
       "$\\newcommand{\\hatcurLBiV}{\\ensuremath{0.4840}}$\n",
       "$\\newcommand{\\hatcurLBiiV}{\\ensuremath{0.3559}}$\n",
       "$\\newcommand{\\hatcurLBiR}{\\ensuremath{0.4142}}$\n",
       "$\\newcommand{\\hatcurLBiiR}{\\ensuremath{0.3369}}$\n",
       "$\\newcommand{\\hatcurLBiI}{\\ensuremath{0.2042}}$\n",
       "$\\newcommand{\\hatcurLBiiI}{\\ensuremath{0.3912}}$\n",
       "$\\newcommand{\\hatcurLBiu}{\\ensuremath{0.4328}}$\n",
       "$\\newcommand{\\hatcurLBiiu}{\\ensuremath{0.3416}}$\n",
       "$\\newcommand{\\hatcurLBig}{\\ensuremath{0.31\\pm0.12}}$\n",
       "$\\newcommand{\\hatcurLBiig}{\\ensuremath{0.35\\pm0.14}}$\n",
       "$\\newcommand{\\hatcurLBir}{\\ensuremath{0.41\\pm0.15}}$\n",
       "$\\newcommand{\\hatcurLBiir}{\\ensuremath{0.32\\pm0.16}}$\n",
       "$\\newcommand{\\hatcurLBii}{\\ensuremath{0.30\\pm0.11}}$\n",
       "$\\newcommand{\\hatcurLBiii}{\\ensuremath{0.26_{-0.15}^{+0.11}}}$\n",
       "$\\newcommand{\\hatcurLBiz}{\\ensuremath{0.140_{-0.081}^{+0.106}}}$\n",
       "$\\newcommand{\\hatcurLBiiz}{\\ensuremath{0.17\\pm0.13}}$\n",
       "$\\newcommand{\\hatcurLBiJ}{\\ensuremath{0.126\\pm0.072}}$\n",
       "$\\newcommand{\\hatcurLBiiJ}{\\ensuremath{0.12\\pm0.12}}$\n",
       "$\\newcommand{\\hatcurLBiH}{\\ensuremath{0.0889}}$\n",
       "$\\newcommand{\\hatcurLBiiH}{\\ensuremath{0.2815}}$\n",
       "$\\newcommand{\\hatcurLBiK}{\\ensuremath{0.0827}}$\n",
       "$\\newcommand{\\hatcurLBiiK}{\\ensuremath{0.2458}}$\n",
       "$\\newcommand{\\hatcurLBiT}{\\ensuremath{0.24\\pm0.12}}$\n",
       "$\\newcommand{\\hatcurLBiiT}{\\ensuremath{0.33\\pm0.16}}$\n",
       "$\\newcommand{\\hatcurLBikep}{\\ensuremath{0.2909}}$\n",
       "$\\newcommand{\\hatcurLBiikep}{\\ensuremath{0.4272}}$\n",
       "$\\newcommand{\\hatcurLBiC}{\\ensuremath{0.2393}}$\n",
       "$\\newcommand{\\hatcurLBiiC}{\\ensuremath{0.4323}}$\n",
       "$\\newcommand{\\hatcurLBiM}{\\ensuremath{0.4020}}$\n",
       "$\\newcommand{\\hatcurLBiiM}{\\ensuremath{0.4034}}$\n",
       "$\\newcommand{\\hatcurLBiSone}{\\ensuremath{0.0655}}$\n",
       "$\\newcommand{\\hatcurLBiiSone}{\\ensuremath{0.1827}}$\n",
       "$\\newcommand{\\hatcurLBiStwo}{\\ensuremath{0.0480}}$\n",
       "$\\newcommand{\\hatcurLBiiStwo}{\\ensuremath{0.1526}}$\n",
       "$\\newcommand{\\hatcurLBiSthree}{\\ensuremath{0.0530}}$\n",
       "$\\newcommand{\\hatcurLBiiSthree}{\\ensuremath{0.1348}}$\n",
       "$\\newcommand{\\hatcurLBiSfour}{\\ensuremath{0.0565}}$\n",
       "$\\newcommand{\\hatcurLBiiSfour}{\\ensuremath{0.1029}}$\n",
       "$\\newcommand{\\hatcurISOm}{\\ensuremath{0.3939\\pm0.0030}}$\n",
       "$\\newcommand{\\hatcurISOmshort}{\\ensuremath{0.39}}$\n",
       "$\\newcommand{\\hatcurISOmlong}{\\ensuremath{0.3939\\pm0.0030}}$\n",
       "$\\newcommand{\\hatcurISOr}{\\ensuremath{0.3697\\pm0.0018}}$\n",
       "$\\newcommand{\\hatcurISOrshort}{\\ensuremath{0.37}}$\n",
       "$\\newcommand{\\hatcurISOrlong}{\\ensuremath{0.3697\\pm0.0018}}$\n",
       "$\\newcommand{\\hatcurISOrho}{\\ensuremath{10.99\\pm0.13}}$\n",
       "$\\newcommand{\\hatcurISOrholong}{\\ensuremath{10.99\\pm0.13}}$\n",
       "$\\newcommand{\\hatcurISOlogg}{\\ensuremath{4.8976\\pm0.0035}}$\n",
       "$\\newcommand{\\hatcurISOlum}{\\ensuremath{0.01623\\pm0.00018}}$\n",
       "$\\newcommand{\\hatcurISOlumshort}{\\ensuremath{0.02}}$\n",
       "$\\newcommand{\\hatcurISOteff}{\\ensuremath{3388.8\\pm5.9}}$\n",
       "$\\newcommand{\\hatcurISOteffshort}{\\ensuremath{3389}}$\n",
       "$\\newcommand{\\hatcurISOzfeh}{\\ensuremath{0.264_{-0.017}^{+0.013}}}$\n",
       "$\\newcommand{\\hatcurISOage}{\\ensuremath{0.394_{-0.090}^{+0.152}}}$\n",
       "$\\newcommand{\\hatcurISOspec}{M}$\n",
       "$\\newcommand{\\hatcurRVK}{\\ensuremath{182.9\\pm3.3}}$\n",
       "$\\newcommand{\\hatcurRVKtwosiglim}{\\ensuremath{<188.1}}$\n",
       "$\\newcommand{\\hatcurRVrk}{\\ensuremath{0\\pm0}}$\n",
       "$\\newcommand{\\hatcurRVrh}{\\ensuremath{0\\pm0}}$\n",
       "$\\newcommand{\\hatcurRVk}{\\ensuremath{0\\pm0}}$\n",
       "$\\newcommand{\\hatcurRVh}{\\ensuremath{0\\pm0}}$\n",
       "$\\newcommand{\\hatcurRVtrone}{\\ensuremath{0\\pm0}}$\n",
       "$\\newcommand{\\hatcurRVtrtwo}{\\ensuremath{0\\pm0}}$\n",
       "$\\newcommand{\\hatcurRVgamma}{\\ensuremath{-12182.3\\pm2.4}}$\n",
       "$\\newcommand{\\hatcurRVjitter}{\\ensuremath{0.1\\pm4.2}}$\n",
       "$\\newcommand{\\hatcurRVjittertwosiglim}{\\ensuremath{<9.6}}$\n",
       "$\\newcommand{\\hatcurRVfitrms}{\\ensuremath{.1fym}}$\n",
       "$\\newcommand{\\hatcurRVeccen}{\\ensuremath{0\\pm0}}$\n",
       "$\\newcommand{\\hatcurRVeccentwosiglim}{\\ensuremath{<0.000}}$\n",
       "$\\newcommand{\\hatcurRVomega}{\\ensuremath{0\\pm0}}$\n",
       "$\\newcommand{\\hatcurPPi}{\\ensuremath{88.140\\pm0.046}}$\n",
       "$\\newcommand{\\hatcurPPg}{\\ensuremath{15.90\\pm0.37}}$\n",
       "$\\newcommand{\\hatcurPPloggold}{\\ensuremath{3.202\\pm0.010}}$\n",
       "$\\newcommand{\\hatcurPPlogg}{\\ensuremath{3.202\\pm0.041}}$\n",
       "$\\newcommand{\\hatcurPParold}{\\ensuremath{15.754\\pm0.062}}$\n",
       "$\\newcommand{\\hatcurPPar}{\\ensuremath{15.75\\pm0.73}}$\n",
       "$\\newcommand{\\hatcurPParelold}{\\ensuremath{0.027089\\pm0.000069}}$\n",
       "$\\newcommand{\\hatcurPParel}{\\ensuremath{0.02709\\pm0.00046}}$\n",
       "$\\newcommand{\\hatcurPPrhoold}{\\ensuremath{0.783\\pm0.022}}$\n",
       "$\\newcommand{\\hatcurPPrho}{\\ensuremath{0.78\\pm0.11}}$\n",
       "$\\newcommand{\\hatcurPPmold}{\\ensuremath{0.665\\pm0.013}}$\n",
       "$\\newcommand{\\hatcurPPm}{\\ensuremath{0.665\\pm0.025}}$\n",
       "$\\newcommand{\\hatcurPPmtwosiglim}{\\ensuremath{<0.68}}$\n",
       "$\\newcommand{\\hatcurPPmshort}{\\ensuremath{0.66}}$\n",
       "$\\newcommand{\\hatcurPPmlong}{\\ensuremath{0.665\\pm0.025}}$\n",
       "$\\newcommand{\\hatcurPPme}{\\ensuremath{211.3\\pm4.0}}$\n",
       "$\\newcommand{\\hatcurPPmeshort}{\\ensuremath{211.3}}$\n",
       "$\\newcommand{\\hatcurPPmelong}{\\ensuremath{211.3\\pm4.0}}$\n",
       "$\\newcommand{\\hatcurPProld}{\\ensuremath{1.0174\\pm0.0078}}$\n",
       "$\\newcommand{\\hatcurPPr}{\\ensuremath{1.017\\pm0.044}}$\n",
       "$\\newcommand{\\hatcurPPrshort}{\\ensuremath{1.02}}$\n",
       "$\\newcommand{\\hatcurPPrlong}{\\ensuremath{1.017\\pm0.044}}$\n",
       "$\\newcommand{\\hatcurPPre}{\\ensuremath{11.404\\pm0.087}}$\n",
       "$\\newcommand{\\hatcurPPreshort}{\\ensuremath{11.4}}$\n",
       "$\\newcommand{\\hatcurPPrelong}{\\ensuremath{11.404\\pm0.087}}$\n",
       "$\\newcommand{\\hatcurPPmrcorr}{\\ensuremath{0.09}}$\n",
       "$\\newcommand{\\hatcurPPteffold}{\\ensuremath{603.8\\pm1.2}}$\n",
       "$\\newcommand{\\hatcurPPteff}{\\ensuremath{604\\pm19}}$\n",
       "$\\newcommand{\\hatcurPPteffshort}{\\ensuremath{604}}$\n",
       "$\\newcommand{\\hatcurPPthetaold}{\\ensuremath{0.0896\\pm0.0018}}$\n",
       "$\\newcommand{\\hatcurPPtheta}{\\ensuremath{0.0896\\pm0.0042}}$\n",
       "$\\newcommand{\\hatcurPPfluxperi}{\\ensuremath{3.014\\pm0.024}}$\n",
       "$\\newcommand{\\hatcurPPfluxperidim}{\\ensuremath{7}}$\n",
       "$\\newcommand{\\hatcurPPfluxap}{\\ensuremath{3.014\\pm0.024}}$\n",
       "$\\newcommand{\\hatcurPPfluxapdim}{\\ensuremath{7}}$\n",
       "$\\newcommand{\\hatcurPPfluxavg}{\\ensuremath{3.014\\pm0.024}}$\n",
       "$\\newcommand{\\hatcurPPfluxavgdim}{\\ensuremath{7}}$\n",
       "$\\newcommand{\\hatcurPPfluxavglogold}{\\ensuremath{7.4791\\pm0.0035}}$\n",
       "$\\newcommand{\\hatcurPPfluxavglog}{\\ensuremath{7.479\\pm0.018}}$\n",
       "$\\newcommand{\\hatcurXsecphase}{\\ensuremath{0\\pm0}}$\n",
       "$\\newcommand{\\hatcurXsecondary}{\\ensuremath{2459691.298040\\pm0.000045}}$\n",
       "$\\newcommand{\\hatcurXsecdur}{\\ensuremath{0.06165\\pm0.00021}}$\n",
       "$\\newcommand{\\hatcurXsecingdur}{\\ensuremath{0.01765\\pm0.00030}}$\n",
       "$\\newcommand{\\hatcurPPphiconj}{\\ensuremath{0\\pm0}}$\n",
       "$\\newcommand{\\hatcurPPperi}{\\ensuremath{2459689.353577\\pm0.000045}}$\n",
       "$\\newcommand{\\hatcurPPaequiv}{\\ensuremath{0.21250\\pm0.00085}}$\n",
       "$\\newcommand{\\hatcurPPtcirc}{\\ensuremath{62.0\\pm2.5}}$\n",
       "$\\newcommand{\\hatcurPPtinfall}{\\ensuremath{14150\\pm370}}$\n",
       "$\\newcommand{\\hatcurXdist}{\\ensuremath{72.50\\pm0.13}}$\n",
       "$\\newcommand{\\hatcurXAv}{\\ensuremath{0.064\\pm0.021}}$\n",
       "$\\newcommand{\\hatcurXdistred}{\\ensuremath{72.50\\pm0.12}}$\n",
       "$\\newcommand{\\hatcurXEBV}{\\ensuremath{0.0210_{-0.0070}^{+0.0050}}}$\n",
       "$\\newcommand{\\hatcurCCpmra}{\\ensuremath{-170.503\\pm0.028}}$\n",
       "$\\newcommand{\\hatcurCCpmdec}{\\ensuremath{-64.264\\pm0.023}}$\n",
       "$\\newcommand{\\hatcurCCpm}{\\ensuremath{182.212\\pm0.036}}$\n",
       "$\\newcommand{\\hatcurhtreccen}{TOI3235}$\n",
       "$\\newcommand{\\hatcurfieldeccen}{\\ensuremath{string}}$\n",
       "$\\newcommand{\\hatcurCCraeccen}{\\ensuremath{13^{\\mathrm h}49^{\\mathrm m}53.9777{\\mathrm s}}}$\n",
       "$\\newcommand{\\hatcurCCdececcen}{\\ensuremath{-46{\\arcdeg}03{\\arcmin}58.4541{\\arcsec}}}$\n",
       "$\\newcommand{\\hatcurCCmageccen}{NULL}$\n",
       "$\\newcommand{\\hatcurCCtwomasseccen}{2MASS~13495398-4603583}$\n",
       "$\\newcommand{\\hatcurCCgsceccen}{GSC~NULL}$\n",
       "$\\newcommand{\\hatcurCCgaiaeccen}{GAIA~6107144260247338240}$\n",
       "$\\newcommand{\\hatcurCCgaiadrtwoeccen}{GAIA~DR2~6107144260251920000}$\n",
       "$\\newcommand{\\hatcurCCtassmveccen}{\\ensuremath{nff\\pmnff}}$\n",
       "$\\newcommand{\\hatcurCCtassmvshorteccen}{\\ensuremath{0.0}}$\n",
       "$\\newcommand{\\hatcurCCtassmBeccen}{\\ensuremath{nff\\pmnff}}$\n",
       "$\\newcommand{\\hatcurCCtassmBshorteccen}{\\ensuremath{0.0}}$\n",
       "$\\newcommand{\\hatcurCCtassmIeccen}{\\ensuremath{nff\\pmnff}}$\n",
       "$\\newcommand{\\hatcurCCtassmIshorteccen}{\\ensuremath{0.0}}$\n",
       "$\\newcommand{\\hatcurCCtassmgeccen}{\\ensuremath{nff\\pmnff}}$\n",
       "$\\newcommand{\\hatcurCCtassmgshorteccen}{\\ensuremath{0.0}}$\n",
       "$\\newcommand{\\hatcurCCtassmreccen}{\\ensuremath{nff\\pmnff}}$\n",
       "$\\newcommand{\\hatcurCCtassmrshorteccen}{\\ensuremath{0.0}}$\n",
       "$\\newcommand{\\hatcurCCtassmieccen}{\\ensuremath{nff\\pmnff}}$\n",
       "$\\newcommand{\\hatcurCCtassmishorteccen}{\\ensuremath{0.0}}$\n",
       "$\\newcommand{\\hatcurCCparallaxeccen}{\\ensuremath{13.781\\pm0.027}}$\n",
       "$\\newcommand{\\hatcurCCgaiamGeccen}{\\ensuremath{14.4605\\pm0.0028}}$\n",
       "$\\newcommand{\\hatcurCCgaiamBPeccen}{\\ensuremath{15.9000\\pm0.0042}}$\n",
       "$\\newcommand{\\hatcurCCgaiamRPeccen}{\\ensuremath{13.2881\\pm0.0038}}$\n",
       "$\\newcommand{\\hatcurCCtwomassJmageccen}{\\ensuremath{11.706\\pm0.025}}$\n",
       "$\\newcommand{\\hatcurCCtwomassHmageccen}{\\ensuremath{11.099\\pm0.024}}$\n",
       "$\\newcommand{\\hatcurCCtwomassKmageccen}{\\ensuremath{10.819\\pm0.021}}$\n",
       "$\\newcommand{\\hatcurCCcitJmageccen}{\\ensuremath{11.695\\pm0.026}}$\n",
       "$\\newcommand{\\hatcurCCcitHmageccen}{\\ensuremath{11.088\\pm0.026}}$\n",
       "$\\newcommand{\\hatcurCCcitKmageccen}{\\ensuremath{10.843\\pm0.022}}$\n",
       "$\\newcommand{\\hatcurCCbbJmageccen}{\\ensuremath{11.787\\pm0.029}}$\n",
       "$\\newcommand{\\hatcurCCbbHmageccen}{\\ensuremath{11.116\\pm0.026}}$\n",
       "$\\newcommand{\\hatcurCCbbKmageccen}{\\ensuremath{10.863\\pm0.022}}$\n",
       "$\\newcommand{\\hatcurCCesoJmageccen}{\\ensuremath{11.796\\pm0.033}}$\n",
       "$\\newcommand{\\hatcurCCesoHmageccen}{\\ensuremath{11.118\\pm0.047}}$\n",
       "$\\newcommand{\\hatcurCCesoKmageccen}{\\ensuremath{10.859\\pm0.024}}$\n",
       "$\\newcommand{\\hatcurCCesoJHmageccen}{\\ensuremath{0.678\\pm0.054}}$\n",
       "$\\newcommand{\\hatcurCCesoJKmageccen}{\\ensuremath{0.936\\pm0.038}}$\n",
       "$\\newcommand{\\hatcurCCesoHKmageccen}{\\ensuremath{0.258\\pm0.051}}$\n",
       "$\\newcommand{\\hatcurCCWonemageccen}{\\ensuremath{10.694\\pm0.023}}$\n",
       "$\\newcommand{\\hatcurCCWtwomageccen}{\\ensuremath{10.548\\pm0.021}}$\n",
       "$\\newcommand{\\hatcurCCWthreemageccen}{\\ensuremath{10.458\\pm0.064}}$\n",
       "$\\newcommand{\\hatcurCCWfourmageccen}{\\ensuremath{nff\\pmnff}}$\n",
       "$\\newcommand{\\hatcurLCdipeccen}{\\ensuremath{0.1}}$\n",
       "$\\newcommand{\\hatcurLCrprstareccen}{\\ensuremath{0.2826\\pm0.0015}}$\n",
       "$\\newcommand{\\hatcurLCbsqeccen}{\\ensuremath{0.258_{-0.013}^{+0.012}}}$\n",
       "$\\newcommand{\\hatcurLCimpeccen}{\\ensuremath{0.507_{-0.013}^{+0.012}}}$\n",
       "$\\newcommand{\\hatcurLCzetaeccen}{\\ensuremath{44.43\\pm0.30}}$\n",
       "$\\newcommand{\\hatcurLCdureccen}{\\ensuremath{0.06154\\pm0.00021}}$\n",
       "$\\newcommand{\\hatcurLCdurshorteccen}{\\ensuremath{0.0615}}$\n",
       "$\\newcommand{\\hatcurLCdurhreccen}{\\ensuremath{1.4770\\pm0.0051}}$\n",
       "$\\newcommand{\\hatcurLCdurhrshorteccen}{\\ensuremath{1.477}}$\n",
       "$\\newcommand{\\hatcurLCqeccen}{\\ensuremath{0.023700\\pm0.000096}}$\n",
       "$\\newcommand{\\hatcurLCqshorteccen}{\\ensuremath{0.024}}$\n",
       "$\\newcommand{\\hatcurLCingdureccen}{\\ensuremath{0.01753\\pm0.00031}}$\n",
       "$\\newcommand{\\hatcurLCPeccen}{\\ensuremath{2.59261840\\pm0.00000040}}$\n",
       "$\\newcommand{\\hatcurLCPprececcen}{\\ensuremath{2.5926184}}$\n",
       "$\\newcommand{\\hatcurLCPshorteccen}{\\ensuremath{2.5926}}$\n",
       "$\\newcommand{\\hatcurLCTeccen}{\\ensuremath{2459684.816480\\pm0.000046}}$\n",
       "$\\newcommand{\\hatcurLCTAeccen}{\\ensuremath{2457797.39029\\pm0.00026}}$\n",
       "$\\newcommand{\\hatcurLCTBeccen}{\\ensuremath{2459762.595037\\pm0.000053}}$\n",
       "$\\newcommand{\\hatcurLChatnetmAeccen}{\\ensuremath{13.62805\\pm0.00074}}$\n",
       "$\\newcommand{\\hatcurLCiblendAeccen}{\\ensuremath{0.981\\pm0.022}}$\n",
       "$\\newcommand{\\hatcurLChatnetmBeccen}{\\ensuremath{13.63141\\pm0.00051}}$\n",
       "$\\newcommand{\\hatcurLCiblendBeccen}{\\ensuremath{0.965\\pm0.029}}$\n",
       "$\\newcommand{\\hatcurLChatnetmCeccen}{\\ensuremath{-7.03641\\pm0.00011}}$\n",
       "$\\newcommand{\\hatcurLCiblendCeccen}{\\ensuremath{1.085\\pm0.011}}$\n",
       "$\\newcommand{\\hatcurLChatnetmDeccen}{\\ensuremath{-6.996010\\pm0.000083}}$\n",
       "$\\newcommand{\\hatcurLCiblendDeccen}{\\ensuremath{1.1257\\pm0.0089}}$\n",
       "$\\newcommand{\\hatcurLCrhoeccen}{\\ensuremath{10.64\\pm0.23}}$\n",
       "$\\newcommand{\\hatcurSMEiteffeccen}{\\ensuremath{3196\\pm67}}$\n",
       "$\\newcommand{\\hatcurSMEizfeheccen}{\\ensuremath{-0.02\\pm0.10}}$\n",
       "$\\newcommand{\\hatcurSMEizfehshorteccen}{\\ensuremath{-0.02}}$\n",
       "$\\newcommand{\\hatcurSMEiloggeccen}{\\ensuremath{4.80\\pm0.50}}$\n",
       "$\\newcommand{\\hatcurSMEivsineccen}{\\ensuremath{0\\pm50}}$\n",
       "$\\newcommand{\\hatcurSMEivmaceccen}{\\ensuremath{nff\\pmnff}}$\n",
       "$\\newcommand{\\hatcurSMEivmiceccen}{\\ensuremath{nff\\pmnff}}$\n",
       "$\\newcommand{\\hatcurextraerrMJeccen}{\\ensuremath{0\\pm0}}$\n",
       "$\\newcommand{\\hatcurextraerrMJtwosiglimeccen}{\\ensuremath{<0.0200}}$\n",
       "$\\newcommand{\\hatcurextraerrMHeccen}{\\ensuremath{0\\pm0}}$\n",
       "$\\newcommand{\\hatcurextraerrMHtwosiglimeccen}{\\ensuremath{<0.0200}}$\n",
       "$\\newcommand{\\hatcurextraerrMKseccen}{\\ensuremath{0\\pm0}}$\n",
       "$\\newcommand{\\hatcurextraerrMKstwosiglimeccen}{\\ensuremath{<0.0200}}$\n",
       "$\\newcommand{\\hatcurextraerrMGeccen}{\\ensuremath{0\\pm0}}$\n",
       "$\\newcommand{\\hatcurextraerrMGtwosiglimeccen}{\\ensuremath{<0.0200}}$\n",
       "$\\newcommand{\\hatcurextraerrMRPeccen}{\\ensuremath{0\\pm0}}$\n",
       "$\\newcommand{\\hatcurextraerrMRPtwosiglimeccen}{\\ensuremath{<0.0200}}$\n",
       "$\\newcommand{\\hatcurextraerrMWoneeccen}{\\ensuremath{0\\pm0}}$\n",
       "$\\newcommand{\\hatcurextraerrMWonetwosiglimeccen}{\\ensuremath{<0.0200}}$\n",
       "$\\newcommand{\\hatcurextraerrMWtwoeccen}{\\ensuremath{0\\pm0}}$\n",
       "$\\newcommand{\\hatcurextraerrMWtwotwosiglimeccen}{\\ensuremath{<0.0200}}$\n",
       "$\\newcommand{\\hatcurLBiBeccen}{\\ensuremath{0.5035}}$\n",
       "$\\newcommand{\\hatcurLBiiBeccen}{\\ensuremath{0.3376}}$\n",
       "$\\newcommand{\\hatcurLBiVeccen}{\\ensuremath{0.4840}}$\n",
       "$\\newcommand{\\hatcurLBiiVeccen}{\\ensuremath{0.3559}}$\n",
       "$\\newcommand{\\hatcurLBiReccen}{\\ensuremath{0.4142}}$\n",
       "$\\newcommand{\\hatcurLBiiReccen}{\\ensuremath{0.3369}}$\n",
       "$\\newcommand{\\hatcurLBiIeccen}{\\ensuremath{0.2042}}$\n",
       "$\\newcommand{\\hatcurLBiiIeccen}{\\ensuremath{0.3912}}$\n",
       "$\\newcommand{\\hatcurLBiueccen}{\\ensuremath{0.4328}}$\n",
       "$\\newcommand{\\hatcurLBiiueccen}{\\ensuremath{0.3416}}$\n",
       "$\\newcommand{\\hatcurLBigeccen}{\\ensuremath{0.34\\pm0.13}}$\n",
       "$\\newcommand{\\hatcurLBiigeccen}{\\ensuremath{0.31\\pm0.16}}$\n",
       "$\\newcommand{\\hatcurLBireccen}{\\ensuremath{0.39\\pm0.15}}$\n",
       "$\\newcommand{\\hatcurLBiireccen}{\\ensuremath{0.33\\pm0.17}}$\n",
       "$\\newcommand{\\hatcurLBiieccen}{\\ensuremath{0.303\\pm0.097}}$\n",
       "$\\newcommand{\\hatcurLBiiieccen}{\\ensuremath{0.24\\pm0.13}}$\n",
       "$\\newcommand{\\hatcurLBizeccen}{\\ensuremath{0.154\\pm0.096}}$\n",
       "$\\newcommand{\\hatcurLBiizeccen}{\\ensuremath{0.16\\pm0.14}}$\n",
       "$\\newcommand{\\hatcurLBiJeccen}{\\ensuremath{0.128\\pm0.082}}$\n",
       "$\\newcommand{\\hatcurLBiiJeccen}{\\ensuremath{0.12\\pm0.13}}$\n",
       "$\\newcommand{\\hatcurLBiHeccen}{\\ensuremath{0.0889}}$\n",
       "$\\newcommand{\\hatcurLBiiHeccen}{\\ensuremath{0.2815}}$\n",
       "$\\newcommand{\\hatcurLBiKeccen}{\\ensuremath{0.0827}}$\n",
       "$\\newcommand{\\hatcurLBiiKeccen}{\\ensuremath{0.2458}}$\n",
       "$\\newcommand{\\hatcurLBiTeccen}{\\ensuremath{0.24\\pm0.11}}$\n",
       "$\\newcommand{\\hatcurLBiiTeccen}{\\ensuremath{0.32\\pm0.15}}$\n",
       "$\\newcommand{\\hatcurLBikepeccen}{\\ensuremath{0.2909}}$\n",
       "$\\newcommand{\\hatcurLBiikepeccen}{\\ensuremath{0.4272}}$\n",
       "$\\newcommand{\\hatcurLBiCeccen}{\\ensuremath{0.2393}}$\n",
       "$\\newcommand{\\hatcurLBiiCeccen}{\\ensuremath{0.4323}}$\n",
       "$\\newcommand{\\hatcurLBiMeccen}{\\ensuremath{0.4020}}$\n",
       "$\\newcommand{\\hatcurLBiiMeccen}{\\ensuremath{0.4034}}$\n",
       "$\\newcommand{\\hatcurLBiSoneeccen}{\\ensuremath{0.0655}}$\n",
       "$\\newcommand{\\hatcurLBiiSoneeccen}{\\ensuremath{0.1827}}$\n",
       "$\\newcommand{\\hatcurLBiStwoeccen}{\\ensuremath{0.0480}}$\n",
       "$\\newcommand{\\hatcurLBiiStwoeccen}{\\ensuremath{0.1526}}$\n",
       "$\\newcommand{\\hatcurLBiSthreeeccen}{\\ensuremath{0.0530}}$\n",
       "$\\newcommand{\\hatcurLBiiSthreeeccen}{\\ensuremath{0.1348}}$\n",
       "$\\newcommand{\\hatcurLBiSfoureccen}{\\ensuremath{0.0565}}$\n",
       "$\\newcommand{\\hatcurLBiiSfoureccen}{\\ensuremath{0.1029}}$\n",
       "$\\newcommand{\\hatcurISOmeccen}{\\ensuremath{0.3892\\pm0.0045}}$\n",
       "$\\newcommand{\\hatcurISOmshorteccen}{\\ensuremath{0.39}}$\n",
       "$\\newcommand{\\hatcurISOmlongeccen}{\\ensuremath{0.3892\\pm0.0045}}$\n",
       "$\\newcommand{\\hatcurISOreccen}{\\ensuremath{0.3720\\pm0.0022}}$\n",
       "$\\newcommand{\\hatcurISOrshorteccen}{\\ensuremath{0.37}}$\n",
       "$\\newcommand{\\hatcurISOrlongeccen}{\\ensuremath{0.3720\\pm0.0022}}$\n",
       "$\\newcommand{\\hatcurISOrhoeccen}{\\ensuremath{10.64\\pm0.23}}$\n",
       "$\\newcommand{\\hatcurISOrholongeccen}{\\ensuremath{10.64\\pm0.23}}$\n",
       "$\\newcommand{\\hatcurISOloggeccen}{\\ensuremath{4.8866\\pm0.0073}}$\n",
       "$\\newcommand{\\hatcurISOlumeccen}{\\ensuremath{0.01627\\pm0.00018}}$\n",
       "$\\newcommand{\\hatcurISOlumshorteccen}{\\ensuremath{0.02}}$\n",
       "$\\newcommand{\\hatcurISOteffeccen}{\\ensuremath{3380.6\\pm7.5}}$\n",
       "$\\newcommand{\\hatcurISOzfeheccen}{\\ensuremath{0.245\\pm0.016}}$\n",
       "$\\newcommand{\\hatcurISOageeccen}{\\ensuremath{1.07_{-0.57}^{+2.21}}}$\n",
       "$\\newcommand{\\hatcurISOspececcen}{M}$\n",
       "$\\newcommand{\\hatcurRVKeccen}{\\ensuremath{181.5\\pm3.5}}$\n",
       "$\\newcommand{\\hatcurRVKtwosiglimeccen}{\\ensuremath{<187.2}}$\n",
       "$\\newcommand{\\hatcurRVrkeccen}{\\ensuremath{-0.058_{-0.040}^{+0.061}}}$\n",
       "$\\newcommand{\\hatcurRVrheccen}{\\ensuremath{0.104_{-0.072}^{+0.037}}}$\n",
       "$\\newcommand{\\hatcurRVkeccen}{\\ensuremath{-0.0069\\pm0.0070}}$\n",
       "$\\newcommand{\\hatcurRVheccen}{\\ensuremath{0.0134_{-0.0113}^{+0.0085}}}$\n",
       "$\\newcommand{\\hatcurRVtroneeccen}{\\ensuremath{0\\pm0}}$\n",
       "$\\newcommand{\\hatcurRVtrtwoeccen}{\\ensuremath{0\\pm0}}$\n",
       "$\\newcommand{\\hatcurRVgammaeccen}{\\ensuremath{-12182.0\\pm2.3}}$\n",
       "$\\newcommand{\\hatcurRVjittereccen}{\\ensuremath{0.5\\pm4.5}}$\n",
       "$\\newcommand{\\hatcurRVjittertwosiglimeccen}{\\ensuremath{<10.3}}$\n",
       "$\\newcommand{\\hatcurRVfitrmseccen}{\\ensuremath{.1fym}}$\n",
       "$\\newcommand{\\hatcurRVecceneccen}{\\ensuremath{0.0170\\pm0.0086}}$\n",
       "$\\newcommand{\\hatcurRVeccentwosiglimeccen}{\\ensuremath{<0.029}}$\n",
       "$\\newcommand{\\hatcurRVomegaeccen}{\\ensuremath{120\\pm44}}$\n",
       "$\\newcommand{\\hatcurPPieccen}{\\ensuremath{88.110\\pm0.044}}$\n",
       "$\\newcommand{\\hatcurPPgeccen}{\\ensuremath{15.53\\pm0.41}}$\n",
       "$\\newcommand{\\hatcurPPloggeccen}{\\ensuremath{3.191\\pm0.011}}$\n",
       "$\\newcommand{\\hatcurPPareccen}{\\ensuremath{15.59\\pm0.11}}$\n",
       "$\\newcommand{\\hatcurPPareleccen}{\\ensuremath{0.02698\\pm0.00010}}$\n",
       "$\\newcommand{\\hatcurPPrhoeccen}{\\ensuremath{0.759\\pm0.024}}$\n",
       "$\\newcommand{\\hatcurPPmeccen}{\\ensuremath{0.655\\pm0.014}}$\n",
       "$\\newcommand{\\hatcurPPmtwosiglimeccen}{\\ensuremath{<0.68}}$\n",
       "$\\newcommand{\\hatcurPPmshorteccen}{\\ensuremath{0.66}}$\n",
       "$\\newcommand{\\hatcurPPmlongeccen}{\\ensuremath{0.655\\pm0.014}}$\n",
       "$\\newcommand{\\hatcurPPmeeccen}{\\ensuremath{208.3\\pm4.4}}$\n",
       "$\\newcommand{\\hatcurPPmeshorteccen}{\\ensuremath{208.3}}$\n",
       "$\\newcommand{\\hatcurPPmelongeccen}{\\ensuremath{208.3\\pm4.4}}$\n",
       "$\\newcommand{\\hatcurPPreccen}{\\ensuremath{1.0226\\pm0.0074}}$\n",
       "$\\newcommand{\\hatcurPPrshorteccen}{\\ensuremath{1.02}}$\n",
       "$\\newcommand{\\hatcurPPrlongeccen}{\\ensuremath{1.0226\\pm0.0074}}$\n",
       "$\\newcommand{\\hatcurPPreeccen}{\\ensuremath{11.462\\pm0.083}}$\n",
       "$\\newcommand{\\hatcurPPreshorteccen}{\\ensuremath{11.5}}$\n",
       "$\\newcommand{\\hatcurPPrelongeccen}{\\ensuremath{11.462\\pm0.083}}$\n",
       "$\\newcommand{\\hatcurPPmrcorreccen}{\\ensuremath{-0.06}}$\n",
       "$\\newcommand{\\hatcurPPteffeccen}{\\ensuremath{605.4\\pm1.6}}$\n",
       "$\\newcommand{\\hatcurPPthetaeccen}{\\ensuremath{0.0885\\pm0.0019}}$\n",
       "$\\newcommand{\\hatcurPPfluxperieccen}{\\ensuremath{3.149\\pm0.080}}$\n",
       "$\\newcommand{\\hatcurPPfluxperidimeccen}{\\ensuremath{7}}$\n",
       "$\\newcommand{\\hatcurPPfluxapeccen}{\\ensuremath{2.948\\pm0.038}}$\n",
       "$\\newcommand{\\hatcurPPfluxapdimeccen}{\\ensuremath{7}}$\n",
       "$\\newcommand{\\hatcurPPfluxavgeccen}{\\ensuremath{3.046\\pm0.032}}$\n",
       "$\\newcommand{\\hatcurPPfluxavgdimeccen}{\\ensuremath{7}}$\n",
       "$\\newcommand{\\hatcurPPfluxavglogeccen}{\\ensuremath{7.4837\\pm0.0046}}$\n",
       "$\\newcommand{\\hatcurXsecphaseeccen}{\\ensuremath{0.4956\\pm0.0044}}$\n",
       "$\\newcommand{\\hatcurXsecondaryeccen}{\\ensuremath{2459686.101\\pm0.012}}$\n",
       "$\\newcommand{\\hatcurXsecdureccen}{\\ensuremath{0.06290\\pm0.00086}}$\n",
       "$\\newcommand{\\hatcurXsecingdureccen}{\\ensuremath{0.01815\\pm0.00043}}$\n",
       "$\\newcommand{\\hatcurPPphiconjeccen}{\\ensuremath{-0.08\\pm0.11}}$\n",
       "$\\newcommand{\\hatcurPPperieccen}{\\ensuremath{2459685.02\\pm0.29}}$\n",
       "$\\newcommand{\\hatcurPPaequiveccen}{\\ensuremath{0.2114\\pm0.0011}}$\n",
       "$\\newcommand{\\hatcurPPtcirceccen}{\\ensuremath{58.9\\pm2.7}}$\n",
       "$\\newcommand{\\hatcurPPtinfalleccen}{\\ensuremath{13490\\pm550}}$\n",
       "$\\newcommand{\\hatcurXdisteccen}{\\ensuremath{72.500_{-0.100}^{+0.200}}}$\n",
       "$\\newcommand{\\hatcurXAveccen}{\\ensuremath{0.064\\pm0.021}}$\n",
       "$\\newcommand{\\hatcurXdistredeccen}{\\ensuremath{72.54\\pm0.13}}$\n",
       "$\\newcommand{\\hatcurXEBVeccen}{\\ensuremath{0.0200\\pm0.0069}}$\n",
       "$\\newcommand{\\hatcurCCpmraeccen}{\\ensuremath{-170.503\\pm0.028}}$\n",
       "$\\newcommand{\\hatcurCCpmdececcen}{\\ensuremath{-64.264\\pm0.023}}$\n",
       "$\\newcommand{\\hatcurCCpmeccen}{\\ensuremath{182.212\\pm0.036}}$</div>\n",
       "\n",
       "<div class=\"macros\" style=\"visibility:hidden;\">\n",
       "$\\newcommand{$\\ensuremath$}{}$\n",
       "$\\newcommand{$\\xspace$}{}$\n",
       "$\\newcommand{$\\object$}[1]{\\texttt{#1}}$\n",
       "$\\newcommand{$\\farcs$}{{.}''}$\n",
       "$\\newcommand{$\\farcm$}{{.}'}$\n",
       "$\\newcommand{$\\arcsec$}{''}$\n",
       "$\\newcommand{$\\arcmin$}{'}$\n",
       "$\\newcommand{$\\ion$}[2]{#1#2}$\n",
       "$\\newcommand{$\\textsc$}[1]{\\textrm{#1}}$\n",
       "$\\newcommand{$\\hl$}[1]{\\textrm{#1}}$\n",
       "$\\newcommand{$\\forloop$}[5][1]$\n",
       "$\\newcommand{$\\tbd$}[1]{{\\par\\bf$\\textsc${TBD: #1\\\\}}}$\n",
       "$\\newcommand{$\\ctbd$}[1]$\n",
       "$\\newcommand{$\\cor$}{\\textcolor{red}{(corr?) }}$\n",
       "$\\newcommand{$\\spl$}{\\textcolor{red}{(spl?) }}$\n",
       "$\\newcommand{$\\ii$}{\\'\\i }$\n",
       "$\\newcommand{$\\oo$}{\\H{o}}$\n",
       "$\\newcommand{$\\uu$}{\\H u}$\n",
       "$\\newcommand{$\\lc$}{light curve}$\n",
       "$\\newcommand{$\\lc$s}{light curves}$\n",
       "$\\newcommand{$\\Lc$}{Light curve}$\n",
       "$\\newcommand{$\\Lc$s}{Light curves}$\n",
       "$\\newcommand{$\\avg$}[1]{$\\ensuremath${\\langle #1\\rangle}}$\n",
       "$\\newcommand{$\\med$}[1]{$\\ensuremath${\\langle #1\\rangle_{med}}}$\n",
       "$\\newcommand{$\\dpt$}{data-point}$\n",
       "$\\newcommand{$\\dpt$s}{data-points}$\n",
       "$\\newcommand{$\\tel$}{telescope}$\n",
       "$\\newcommand{$\\magn$}{magnitude}$\n",
       "$\\newcommand{$\\stan$}{standard}$\n",
       "$\\newcommand{$\\aper$}{aperture}$\n",
       "$\\newcommand{$\\oo$t}{out-of-transit}$\n",
       "$\\newcommand{$\\OOT$}{Out-of-Transit}$\n",
       "$\\newcommand{$\\cfa$}{Harvard-Smithsonian Center for Astrophysics (CfA)}$\n",
       "$\\newcommand{$\\cfa$digi}{CfA Speedometers}$\n",
       "$\\newcommand{$\\cmd$}{color-magnitude diagram}$\n",
       "$\\newcommand{$\\conc$}[1]{\\noindent\\par{\\noindent{\\mathbf \\Longrightarrow \\bf #1}}}$\n",
       "$\\newcommand{$\\diam$}{$\\ensuremath${\\oslash}}$\n",
       "$\\newcommand{$\\ccdsize$}[1]{$\\ensuremath${\\rm #1\\times\\rm#1}}$\n",
       "$\\newcommand{$\\fovsize$}[2]{$\\ensuremath${\\rm #1 #2\\times\\rm#1 #2}}$\n",
       "$\\newcommand{$\\tsize$}[1]{\\mbox{\\rm #1 m}}$\n",
       "$\\newcommand{$\\band$}[1]{$\\ensuremath${#1}~band}$\n",
       "$\\newcommand{$\\ordo$}{$\\ensuremath${\\mathcal{O}}}$\n",
       "$\\newcommand{$\\chisq$}{$\\ensuremath${\\chi^2}}$\n",
       "$\\newcommand{$\\RA$}[3]{$\\ensuremath${#1^{\\mathrm h}#2^{\\mathrm m}#3^{\\mathrm s}}}$\n",
       "$\\newcommand{$\\DEC$}[3]{$\\ensuremath${#1^{\\mathrm d}#2^{\\mathrm m}#3^{\\mathrm s}}}$\n",
       "$\\newcommand{$\\ghr$}{$\\ensuremath${^h}}$\n",
       "$\\newcommand{$\\gmin$}{$\\ensuremath${^m}}$\n",
       "$\\newcommand{$\\Ks$}{$\\ensuremath${K_s}}$\n",
       "$\\newcommand{$\\masy$}{$\\ensuremath${\\rm mas yr^{-1}}}$\n",
       "$\\newcommand{$\\kms$}{$\\ensuremath${\\rm km s^{-1}}}$\n",
       "$\\newcommand{$\\ms$}{$\\ensuremath${\\rm m s^{-1}}}$\n",
       "$\\newcommand{$\\ms$d}{$\\ensuremath${\\rm m s^{-1} d^{-1}}}$\n",
       "$\\newcommand{$\\ms$s}{$\\ensuremath${\\rm m s^{-2}}}$\n",
       "$\\newcommand{$\\gcmc$}{$\\ensuremath${\\rm g cm^{-3}}}$\n",
       "$\\newcommand{$\\ergscmsq$}{$\\ensuremath${\\rm erg s^{-1} cm^{-2}}}$\n",
       "$\\newcommand{$\\C$}{$\\ensuremath${^{\\circ}C\\;}}$\n",
       "$\\newcommand{$\\el$}{$\\ensuremath${e^-}}$\n",
       "$\\newcommand{$\\sqarcsec$}{$\\ensuremath${\\Box^{\\prime\\prime}}}$\n",
       "$\\newcommand{$\\sqarcdeg$}{$\\ensuremath${\\Box^{\\circ}}}$\n",
       "$\\newcommand{$\\pxs$}{$\\ensuremath${\\rm $\\arcsec$ pixel^{-1}}}$\n",
       "$\\newcommand{$\\aduel$}{$\\ensuremath${\\lbrack ADU/$\\el$ \\rbrack}}$\n",
       "$\\newcommand{$\\el$adu}{$\\ensuremath${\\lbrack $\\el$/ADU \\rbrack}}$\n",
       "$\\newcommand{$\\adupixs$}{$\\ensuremath${\\rm ADU/(pix  s)}}$\n",
       "$\\newcommand{$\\el$pixs}{$\\ensuremath${\\rm $\\el$/(pix  s)}}$\n",
       "$\\newcommand{$\\masy$r}{$\\ensuremath${\\rm mas yr^{-1}}}$\n",
       "$\\newcommand{$\\ms$ini}{$\\ensuremath${m \\sin i}}$\n",
       "$\\newcommand{$\\mplsini$}{$\\ensuremath${$\\mpl$\\sin i}}$\n",
       "$\\newcommand{$\\teff$}{$\\ensuremath${T_{\\rm eff}}}$\n",
       "$\\newcommand{$\\logg$}{$\\ensuremath${\\log{g}}}$\n",
       "$\\newcommand{$\\vsini$}{$\\ensuremath${v \\sin{i}}}$\n",
       "$\\newcommand{$\\feh$}{$\\ensuremath${\\rm[Fe/H]}}$\n",
       "$\\newcommand{$\\logl$}{$\\ensuremath${\\log{L}}}$\n",
       "$\\newcommand{$\\vmac$}{$\\ensuremath${v_{\\rm mac}}}$\n",
       "$\\newcommand{$\\vmic$}{$\\ensuremath${v_{\\rm mic}}}$\n",
       "$\\newcommand{$\\rhk$}{$\\ensuremath${R^{\\prime}_{\\rm HK}}}$\n",
       "$\\newcommand{$\\logrhk$}{$\\ensuremath${\\log$\\rhk$}}$\n",
       "$\\newcommand{$\\Savg$}{$\\ensuremath${\\langle S\\rangle}}$\n",
       "$\\newcommand{$\\vic$}{$\\ensuremath${V\\!-\\!I_C}}$\n",
       "$\\newcommand{$\\ebv$}{$\\ensuremath${E(B\\!-\\!V)}}$\n",
       "$\\newcommand{$\\rsun$}{$\\ensuremath${R_\\sun}}$\n",
       "$\\newcommand{$\\ms$un}{$\\ensuremath${M_\\sun}}$\n",
       "$\\newcommand{$\\lsun$}{$\\ensuremath${L_\\sun}}$\n",
       "$\\newcommand{$\\logl$sun}{$\\ensuremath${\\log{L_\\sun}}}$\n",
       "$\\newcommand{$\\teff$sun}{$\\ensuremath${T_{eff,\\sun}}}$\n",
       "$\\newcommand{$\\rhosun$}{$\\ensuremath${\\rho_\\sun}}$\n",
       "$\\newcommand{$\\logg$sun}{$\\ensuremath${\\log{g_{\\sun}}}}$\n",
       "$\\newcommand{$\\rstar$}{$\\ensuremath${R_\\star}}$\n",
       "$\\newcommand{$\\ms$tar}{$\\ensuremath${M_\\star}}$\n",
       "$\\newcommand{$\\lstar$}{$\\ensuremath${L_\\star}}$\n",
       "$\\newcommand{$\\astar$}{$\\ensuremath${a_\\star}}$\n",
       "$\\newcommand{$\\logl$star}{$\\ensuremath${\\log{L_\\star}}}$\n",
       "$\\newcommand{$\\teff$star}{$\\ensuremath${T_{\\rm eff\\star}}}$\n",
       "$\\newcommand{$\\rhostar$}{$\\ensuremath${\\rho_\\star}}$\n",
       "$\\newcommand{$\\logg$star}{$\\ensuremath${\\log{g_{\\star}}}}$\n",
       "$\\newcommand{$\\rearth$}{$\\ensuremath${R_\\earth}}$\n",
       "$\\newcommand{$\\mearth$}{$\\ensuremath${M_\\earth}}$\n",
       "$\\newcommand{$\\learth$}{$\\ensuremath${L_\\earth}}$\n",
       "$\\newcommand{$\\teff$earth}{$\\ensuremath${T_{\\rm eff,\\earth}}}$\n",
       "$\\newcommand{$\\rhoearth$}{$\\ensuremath${\\rho_\\earth}}$\n",
       "$\\newcommand{$\\rpl$}{$\\ensuremath${R_{p}}}$\n",
       "$\\newcommand{$\\mpl$}{$\\ensuremath${M_{p}}}$\n",
       "$\\newcommand{$\\lpl$}{$\\ensuremath${L_{p}}}$\n",
       "$\\newcommand{$\\teff$pl}{$\\ensuremath${T_{\\rm eff,{p}}}}$\n",
       "$\\newcommand{$\\rhopl$}{$\\ensuremath${\\rho_{p}}}$\n",
       "$\\newcommand{$\\ipl$}{$\\ensuremath${i_{p}}}$\n",
       "$\\newcommand{$\\epl$}{$\\ensuremath${e_{p}}}$\n",
       "$\\newcommand{$\\gpl$}{$\\ensuremath${g_{p}}}$\n",
       "$\\newcommand{$\\logg$pl}{$\\ensuremath${\\log g_{p}}}$\n",
       "$\\newcommand{$\\arstar$}{$\\ensuremath${a/$\\rstar$}}$\n",
       "$\\newcommand{$\\zrstar$}{$\\ensuremath${\\zeta/$\\rstar$}}$\n",
       "$\\newcommand{$\\rjup$}{$\\ensuremath${R_{\\rm J}}}$\n",
       "$\\newcommand{$\\mjup$}{$\\ensuremath${M_{\\rm J}}}$\n",
       "$\\newcommand{$\\ljup$}{$\\ensuremath${L_{\\rm J}}}$\n",
       "$\\newcommand{$\\teff$jup}{$\\ensuremath${T_{eff,{\\rm J}}}}$\n",
       "$\\newcommand{$\\rhojup$}{$\\ensuremath${\\rho_{\\rm J}}}$\n",
       "$\\newcommand{$\\gjup$}{$\\ensuremath${\\g_{\\rm J}}}$\n",
       "$\\newcommand{$\\rjup$long}{$\\ensuremath${R_{\\rm Jup}}}$\n",
       "$\\newcommand{$\\mjup$long}{$\\ensuremath${M_{\\rm Jup}}}$\n",
       "$\\newcommand{$\\ljup$long}{$\\ensuremath${L_{\\rm Jup}}}$\n",
       "$\\newcommand{$\\teff$juplong}{$\\ensuremath${T_{eff,{\\rm Jup}}}}$\n",
       "$\\newcommand{$\\rhojup$long}{$\\ensuremath${\\rho_{\\rm Jup}}}$\n",
       "$\\newcommand{$\\gjup$long}{$\\ensuremath${\\g_{\\rm Jup}}}$\n",
       "$\\newcommand{$\\pack$}[1]{$\\textsc${\\lowercase{#1}}}$\n",
       "$\\newcommand{$\\prog$}[1]{\\texttt{\\lowercase{#1}}}$\n",
       "$\\newcommand{$\\iraf$}{$\\pack${iraf}}$\n",
       "$\\newcommand{$\\todcor$}{$\\prog${todcor}}$\n",
       "$\\newcommand{$\\xcsao$}{$\\prog${xcsao}}$\n",
       "$\\newcommand{$\\daophot$}{$\\pack${daophot}}$\n",
       "$\\newcommand{$\\fihat$}{$\\pack${fihat}}$\n",
       "$\\newcommand{$\\fistar$}{$\\prog${fistar}}$\n",
       "$\\newcommand{$\\fiphot$}{$\\prog${fiphot}}$\n",
       "$\\newcommand{$\\grmatch$}{$\\prog${grmatch}}$\n",
       "$\\newcommand{$\\grtrans$}{$\\prog${grtrans}}$\n",
       "$\\newcommand{$\\refp$}[1]{p.~\\pageref{#1}}$\n",
       "$\\newcommand{$\\reffig$}[1]{Fig.~\\ref{fig:#1}}$\n",
       "$\\newcommand{$\\refsec$}[1]{\\mbox{\\S \\ref{sec:#1}}}$\n",
       "$\\newcommand{$\\refeq$}[1]{Eq.~\\ref{eq:#1}}$\n",
       "$\\newcommand{$\\reftab$}[1]{Tab.~\\ref{tab:#1}}$\n",
       "$\\newcommand{$\\reffig$l}[1]{Figure~\\ref{fig:#1}}$\n",
       "$\\newcommand{$\\refsec$l}[1]{\\mbox{Section \\ref{sec:#1}}}$\n",
       "$\\newcommand{$\\refeq$l}[1]{Equation~\\ref{eq:#1}}$\n",
       "$\\newcommand{$\\reftab$l}[1]{Table~\\ref{tab:#1}}$\n",
       "$\\newcommand{$\\reffig$p}[1]{$\\reffig${#1} on \\pref{fig:#1}}$\n",
       "$\\newcommand{$\\refsec$p}[1]{$\\refsec${#1} on \\pref{sec:#1}}$\n",
       "$\\newcommand{$\\refeq$p}[1]{$\\refeq${#1} on \\pref{eq:#1}}$\n",
       "$\\newcommand{$\\reftab$p}[1]{$\\reftab${#1} on \\pref{tab:#1}}$\n",
       "$\\newcommand{$\\reffig$ls}[2]{Figures~\\ref{fig:#1}-\\ref{fig:#2}}$\n",
       "$\\newcommand{$\\reftab$ls}[2]{Tables~\\ref{tab:#1}-\\ref{tab:#2}}$\n",
       "$\\newcommand{$\\flwof$}{\\mbox{FLWO 1.2 m}}$\n",
       "$\\newcommand{$\\flwos$}{\\mbox{FLWO 1.5 m}}$\n",
       "$\\newcommand{$\\flwot$}{\\mbox{TopHAT 0.25 m}}$\n",
       "$\\newcommand{$\\mmt$}{\\mbox{MMT 6.5 m}}$\n",
       "$\\newcommand{$\\ssts$}{{\\em Spitzer}}$\n",
       "$\\newcommand{$\\sstL$}{{\\em Spitzer Space Telescope}}$\n",
       "$\\newcommand{$\\hst$}{{\\em HST}}$\n",
       "$\\newcommand{$\\wom$}{\\mbox{Wise 1 m}}$\n",
       "$\\newcommand{$\\piszkessch$}{Konkoly 0.6 m Schmidt}$\n",
       "$\\newcommand{$\\piszkesrcc$}{Konkoly 1 m RCC}$\n",
       "$\\newcommand{$\\dscu$}{\\mbox{\\delta Scuti}}$\n",
       "$\\newcommand{$\\gdor$}{\\mbox{\\gamma Dor}}$\n",
       "$\\newcommand{$\\hj$}{hot Jupiter}$\n",
       "$\\newcommand{$\\vhj$}{very hot Jupiter}$\n",
       "$\\newcommand{$\\hd$}[1]{\\mbox{HD #1}}$\n",
       "$\\newcommand{$\\BD$}[1]{\\mbox{BD #1}}$\n",
       "$\\newcommand{$\\hip$}[1]{\\mbox{HIP #1}}$\n",
       "$\\newcommand{$\\gj$}[1]{\\mbox{GJ #1}}$\n",
       "$\\newcommand{$\\tbn$}[1]{\\tablenotemark{#1}}$\n",
       "$\\newcommand{$\\hatcurhtr$}{TOI-3235}$\n",
       "$\\newcommand{$\\hatcurfield$}{$\\ensuremath${string}}$\n",
       "$\\newcommand{$\\hatcurCCra$}{$\\ensuremath${13^{\\mathrm h}49^{\\mathrm m}53.9777{\\mathrm s}}}$\n",
       "$\\newcommand{$\\hatcurCCdec$}{$\\ensuremath${-46{\\arcdeg}03{$\\arcmin$}58.4541{$\\arcsec$}}}$\n",
       "$\\newcommand{$\\hatcurCCmag$}{NULL}$\n",
       "$\\newcommand{$\\hatcurCCtwomass$}{2MASS~13495398-4603583}$\n",
       "$\\newcommand{$\\hatcurCCgsc$}{GSC~NULL}$\n",
       "$\\newcommand{$\\hatcurCCgaia$}{GAIA~6107144260247338240}$\n",
       "$\\newcommand{$\\hatcurCCgaia$drtwo}{GAIA~DR2~6107144260251920000}$\n",
       "$\\newcommand{$\\hatcurCCgaia$drthree}{GAIA~DR3~6107144260251920000}$\n",
       "$\\newcommand{$\\hatcurTICID$}{TIC~243641947}$\n",
       "$\\newcommand{$\\hatcurCCtassmv$}{$\\ensuremath${nff\\pmnff}}$\n",
       "$\\newcommand{$\\hatcurCCtassmv$short}{$\\ensuremath${0.0}}$\n",
       "$\\newcommand{$\\hatcurCCtassmB$}{$\\ensuremath${nff\\pmnff}}$\n",
       "$\\newcommand{$\\hatcurCCtassmB$short}{$\\ensuremath${0.0}}$\n",
       "$\\newcommand{$\\hatcurCCtassmI$}{$\\ensuremath${nff\\pmnff}}$\n",
       "$\\newcommand{$\\hatcurCCtassmI$short}{$\\ensuremath${0.0}}$\n",
       "$\\newcommand{$\\hatcurCCtassmg$}{$\\ensuremath${nff\\pmnff}}$\n",
       "$\\newcommand{$\\hatcurCCtassmg$short}{$\\ensuremath${0.0}}$\n",
       "$\\newcommand{$\\hatcurCCtassmr$}{$\\ensuremath${nff\\pmnff}}$\n",
       "$\\newcommand{$\\hatcurCCtassmr$short}{$\\ensuremath${0.0}}$\n",
       "$\\newcommand{$\\hatcurCCtassmi$}{$\\ensuremath${nff\\pmnff}}$\n",
       "$\\newcommand{$\\hatcurCCtassmi$short}{$\\ensuremath${0.0}}$\n",
       "$\\newcommand{$\\hatcurCCparallax$}{$\\ensuremath${13.781\\pm0.027}}$\n",
       "$\\newcommand{$\\hatcurCCgaia$mG}{$\\ensuremath${14.4605\\pm0.0028}}$\n",
       "$\\newcommand{$\\hatcurCCgaia$mBP}{$\\ensuremath${15.9000\\pm0.0042}}$\n",
       "$\\newcommand{$\\hatcurCCgaia$mRP}{$\\ensuremath${13.2881\\pm0.0038}}$\n",
       "$\\newcommand{$\\hatcurCCgaia$mGthree}{$\\ensuremath${14.4605\\pm0.0028}}$\n",
       "$\\newcommand{$\\hatcurCCgaia$mBPthree}{$\\ensuremath${15.9000\\pm0.0042}}$\n",
       "$\\newcommand{$\\hatcurCCgaia$mRPthree}{$\\ensuremath${13.2881\\pm0.0038}}$\n",
       "$\\newcommand{$\\hatcurCCtwomass$Jmag}{$\\ensuremath${11.706\\pm0.025}}$\n",
       "$\\newcommand{$\\hatcurCCtwomass$Hmag}{$\\ensuremath${11.099\\pm0.024}}$\n",
       "$\\newcommand{$\\hatcurCCtwomass$Kmag}{$\\ensuremath${10.819\\pm0.021}}$\n",
       "$\\newcommand{$\\hatcurCCcitJmag$}{$\\ensuremath${11.695\\pm0.026}}$\n",
       "$\\newcommand{$\\hatcurCCcitHmag$}{$\\ensuremath${11.088\\pm0.026}}$\n",
       "$\\newcommand{$\\hatcurCCcitKmag$}{$\\ensuremath${10.843\\pm0.022}}$\n",
       "$\\newcommand{$\\hatcurCCbbJmag$}{$\\ensuremath${11.787\\pm0.029}}$\n",
       "$\\newcommand{$\\hatcurCCbbHmag$}{$\\ensuremath${11.116\\pm0.026}}$\n",
       "$\\newcommand{$\\hatcurCCbbKmag$}{$\\ensuremath${10.863\\pm0.022}}$\n",
       "$\\newcommand{$\\hatcurCCesoJmag$}{$\\ensuremath${11.796\\pm0.033}}$\n",
       "$\\newcommand{$\\hatcurCCesoHmag$}{$\\ensuremath${11.118\\pm0.047}}$\n",
       "$\\newcommand{$\\hatcurCCesoKmag$}{$\\ensuremath${10.859\\pm0.024}}$\n",
       "$\\newcommand{$\\hatcurCCesoJHmag$}{$\\ensuremath${0.678\\pm0.054}}$\n",
       "$\\newcommand{$\\hatcurCCesoJKmag$}{$\\ensuremath${0.936\\pm0.038}}$\n",
       "$\\newcommand{$\\hatcurCCesoHKmag$}{$\\ensuremath${0.258\\pm0.051}}$\n",
       "$\\newcommand{$\\hatcurCCWonemag$}{$\\ensuremath${10.694\\pm0.023}}$\n",
       "$\\newcommand{$\\hatcurCCWtwomag$}{$\\ensuremath${10.548\\pm0.021}}$\n",
       "$\\newcommand{$\\hatcurCCWthreemag$}{$\\ensuremath${10.458\\pm0.064}}$\n",
       "$\\newcommand{$\\hatcurCCWfourmag$}{$\\ensuremath${nff\\pmnff}}$\n",
       "$\\newcommand{$\\hatcurLCdip$}{$\\ensuremath${0.1}}$\n",
       "$\\newcommand{$\\hatcurLCrprstar$}{$\\ensuremath${0.2828\\pm0.0016}}$\n",
       "$\\newcommand{$\\hatcurLCbsq$}{$\\ensuremath${0.261_{-0.012}^{+0.012}}}$\n",
       "$\\newcommand{$\\hatcurLCimp$}{$\\ensuremath${0.511_{-0.012}^{+0.011}}}$\n",
       "$\\newcommand{$\\hatcurLCzeta$}{$\\ensuremath${44.41\\pm0.32}}$\n",
       "$\\newcommand{$\\hatcurLCdur$}{$\\ensuremath${0.06165\\pm0.00021}}$\n",
       "$\\newcommand{$\\hatcurLCdur$short}{$\\ensuremath${0.0616}}$\n",
       "$\\newcommand{$\\hatcurLCdur$hr}{$\\ensuremath${1.4795\\pm0.0049}}$\n",
       "$\\newcommand{$\\hatcurLCdur$hrshort}{$\\ensuremath${1.480}}$\n",
       "$\\newcommand{$\\hatcurLCq$}{$\\ensuremath${0.023800\\pm0.000086}}$\n",
       "$\\newcommand{$\\hatcurLCq$short}{$\\ensuremath${0.024}}$\n",
       "$\\newcommand{$\\hatcurLCingdur$}{$\\ensuremath${0.01765\\pm0.00030}}$\n",
       "$\\newcommand{$\\hatcurLCP$}{$\\ensuremath${2.59261842\\pm0.00000041}}$\n",
       "$\\newcommand{$\\hatcurLCP$prec}{$\\ensuremath${2.5926184}}$\n",
       "$\\newcommand{$\\hatcurLCP$short}{$\\ensuremath${2.5926}}$\n",
       "$\\newcommand{$\\hatcurLCT$}{$\\ensuremath${2459690.001730\\pm0.000045}}$\n",
       "$\\newcommand{$\\hatcurLCT$A}{$\\ensuremath${2457797.39028\\pm0.00028}}$\n",
       "$\\newcommand{$\\hatcurLCT$B}{$\\ensuremath${2459762.595048\\pm0.000053}}$\n",
       "$\\newcommand{$\\hatcurLChatnetmA$}{$\\ensuremath${13.62811\\pm0.00072}}$\n",
       "$\\newcommand{$\\hatcurLCiblendA$}{$\\ensuremath${0.982\\pm0.022}}$\n",
       "$\\newcommand{$\\hatcurLChatnetmB$}{$\\ensuremath${13.63138\\pm0.00053}}$\n",
       "$\\newcommand{$\\hatcurLCiblendB$}{$\\ensuremath${0.957\\pm0.027}}$\n",
       "$\\newcommand{$\\hatcurLChatnetmC$}{$\\ensuremath${-7.03640\\pm0.00011}}$\n",
       "$\\newcommand{$\\hatcurLCiblendC$}{$\\ensuremath${1.084\\pm0.011}}$\n",
       "$\\newcommand{$\\hatcurLChatnetmD$}{$\\ensuremath${-6.996030\\pm0.000084}}$\n",
       "$\\newcommand{$\\hatcurLCiblendD$}{$\\ensuremath${1.1248\\pm0.0088}}$\n",
       "$\\newcommand{$\\hatcurLCrho$}{$\\ensuremath${10.99\\pm0.13}}$\n",
       "$\\newcommand{$\\hatcurSMEiteff$}{$\\ensuremath${3196\\pm67}}$\n",
       "$\\newcommand{$\\hatcurSMEizfeh$}{$\\ensuremath${-0.02\\pm0.10}}$\n",
       "$\\newcommand{$\\hatcurSMEizfeh$short}{$\\ensuremath${-0.02}}$\n",
       "$\\newcommand{$\\hatcurSMEilogg$}{$\\ensuremath${4.80\\pm0.50}}$\n",
       "$\\newcommand{$\\hatcurSMEivsin$}{$\\ensuremath${0\\pm50}}$\n",
       "$\\newcommand{$\\hatcurSMEivmac$}{$\\ensuremath${nff\\pmnff}}$\n",
       "$\\newcommand{$\\hatcurSMEivmic$}{$\\ensuremath${nff\\pmnff}}$\n",
       "$\\newcommand{$\\hatcurextraerrMJ$}{$\\ensuremath${0\\pm0}}$\n",
       "$\\newcommand{$\\hatcurextraerrMJ$twosiglim}{$\\ensuremath${<0.0200}}$\n",
       "$\\newcommand{$\\hatcurextraerrMH$}{$\\ensuremath${0\\pm0}}$\n",
       "$\\newcommand{$\\hatcurextraerrMH$twosiglim}{$\\ensuremath${<0.0200}}$\n",
       "$\\newcommand{$\\hatcurextraerrMKs$}{$\\ensuremath${0\\pm0}}$\n",
       "$\\newcommand{$\\hatcurextraerrMKs$twosiglim}{$\\ensuremath${<0.0200}}$\n",
       "$\\newcommand{$\\hatcurextraerrMG$}{$\\ensuremath${0\\pm0}}$\n",
       "$\\newcommand{$\\hatcurextraerrMG$twosiglim}{$\\ensuremath${<0.0200}}$\n",
       "$\\newcommand{$\\hatcurextraerrMRP$}{$\\ensuremath${0\\pm0}}$\n",
       "$\\newcommand{$\\hatcurextraerrMRP$twosiglim}{$\\ensuremath${<0.0200}}$\n",
       "$\\newcommand{$\\hatcurextraerrMWone$}{$\\ensuremath${0\\pm0}}$\n",
       "$\\newcommand{$\\hatcurextraerrMWone$twosiglim}{$\\ensuremath${<0.0200}}$\n",
       "$\\newcommand{$\\hatcurextraerrMWtwo$}{$\\ensuremath${0\\pm0}}$\n",
       "$\\newcommand{$\\hatcurextraerrMWtwo$twosiglim}{$\\ensuremath${<0.0200}}$\n",
       "$\\newcommand{$\\hatcurLBiB$}{$\\ensuremath${0.5035}}$\n",
       "$\\newcommand{$\\hatcurLBiiB$}{$\\ensuremath${0.3376}}$\n",
       "$\\newcommand{$\\hatcurLBiV$}{$\\ensuremath${0.4840}}$\n",
       "$\\newcommand{$\\hatcurLBiiV$}{$\\ensuremath${0.3559}}$\n",
       "$\\newcommand{$\\hatcurLBiR$}{$\\ensuremath${0.4142}}$\n",
       "$\\newcommand{$\\hatcurLBiiR$}{$\\ensuremath${0.3369}}$\n",
       "$\\newcommand{$\\hatcurLBiI$}{$\\ensuremath${0.2042}}$\n",
       "$\\newcommand{$\\hatcurLBiiI$}{$\\ensuremath${0.3912}}$\n",
       "$\\newcommand{$\\hatcurLBiu$}{$\\ensuremath${0.4328}}$\n",
       "$\\newcommand{$\\hatcurLBiiu$}{$\\ensuremath${0.3416}}$\n",
       "$\\newcommand{$\\hatcurLBig$}{$\\ensuremath${0.31\\pm0.12}}$\n",
       "$\\newcommand{$\\hatcurLBiig$}{$\\ensuremath${0.35\\pm0.14}}$\n",
       "$\\newcommand{$\\hatcurLBir$}{$\\ensuremath${0.41\\pm0.15}}$\n",
       "$\\newcommand{$\\hatcurLBiir$}{$\\ensuremath${0.32\\pm0.16}}$\n",
       "$\\newcommand{$\\hatcurLBii$}{$\\ensuremath${0.30\\pm0.11}}$\n",
       "$\\newcommand{$\\hatcurLBii$i}{$\\ensuremath${0.26_{-0.15}^{+0.11}}}$\n",
       "$\\newcommand{$\\hatcurLBiz$}{$\\ensuremath${0.140_{-0.081}^{+0.106}}}$\n",
       "$\\newcommand{$\\hatcurLBii$z}{$\\ensuremath${0.17\\pm0.13}}$\n",
       "$\\newcommand{$\\hatcurLBiJ$}{$\\ensuremath${0.126\\pm0.072}}$\n",
       "$\\newcommand{$\\hatcurLBii$J}{$\\ensuremath${0.12\\pm0.12}}$\n",
       "$\\newcommand{$\\hatcurLBiH$}{$\\ensuremath${0.0889}}$\n",
       "$\\newcommand{$\\hatcurLBii$H}{$\\ensuremath${0.2815}}$\n",
       "$\\newcommand{$\\hatcurLBiK$}{$\\ensuremath${0.0827}}$\n",
       "$\\newcommand{$\\hatcurLBii$K}{$\\ensuremath${0.2458}}$\n",
       "$\\newcommand{$\\hatcurLBiT$}{$\\ensuremath${0.24\\pm0.12}}$\n",
       "$\\newcommand{$\\hatcurLBii$T}{$\\ensuremath${0.33\\pm0.16}}$\n",
       "$\\newcommand{$\\hatcurLBikep$}{$\\ensuremath${0.2909}}$\n",
       "$\\newcommand{$\\hatcurLBii$kep}{$\\ensuremath${0.4272}}$\n",
       "$\\newcommand{$\\hatcurLBiC$}{$\\ensuremath${0.2393}}$\n",
       "$\\newcommand{$\\hatcurLBii$C}{$\\ensuremath${0.4323}}$\n",
       "$\\newcommand{$\\hatcurLBiM$}{$\\ensuremath${0.4020}}$\n",
       "$\\newcommand{$\\hatcurLBii$M}{$\\ensuremath${0.4034}}$\n",
       "$\\newcommand{$\\hatcurLBiSone$}{$\\ensuremath${0.0655}}$\n",
       "$\\newcommand{$\\hatcurLBii$Sone}{$\\ensuremath${0.1827}}$\n",
       "$\\newcommand{$\\hatcurLBiStwo$}{$\\ensuremath${0.0480}}$\n",
       "$\\newcommand{$\\hatcurLBii$Stwo}{$\\ensuremath${0.1526}}$\n",
       "$\\newcommand{$\\hatcurLBiSthree$}{$\\ensuremath${0.0530}}$\n",
       "$\\newcommand{$\\hatcurLBii$Sthree}{$\\ensuremath${0.1348}}$\n",
       "$\\newcommand{$\\hatcurLBiSfour$}{$\\ensuremath${0.0565}}$\n",
       "$\\newcommand{$\\hatcurLBii$Sfour}{$\\ensuremath${0.1029}}$\n",
       "$\\newcommand{$\\hatcurISOm$}{$\\ensuremath${0.3939\\pm0.0030}}$\n",
       "$\\newcommand{$\\hatcurISOm$short}{$\\ensuremath${0.39}}$\n",
       "$\\newcommand{$\\hatcurISOm$long}{$\\ensuremath${0.3939\\pm0.0030}}$\n",
       "$\\newcommand{$\\hatcurISOr$}{$\\ensuremath${0.3697\\pm0.0018}}$\n",
       "$\\newcommand{$\\hatcurISOr$short}{$\\ensuremath${0.37}}$\n",
       "$\\newcommand{$\\hatcurISOr$long}{$\\ensuremath${0.3697\\pm0.0018}}$\n",
       "$\\newcommand{$\\hatcurISOr$ho}{$\\ensuremath${10.99\\pm0.13}}$\n",
       "$\\newcommand{$\\hatcurISOr$holong}{$\\ensuremath${10.99\\pm0.13}}$\n",
       "$\\newcommand{$\\hatcurISOlogg$}{$\\ensuremath${4.8976\\pm0.0035}}$\n",
       "$\\newcommand{$\\hatcurISOlum$}{$\\ensuremath${0.01623\\pm0.00018}}$\n",
       "$\\newcommand{$\\hatcurISOlum$short}{$\\ensuremath${0.02}}$\n",
       "$\\newcommand{$\\hatcurISOteff$}{$\\ensuremath${3388.8\\pm5.9}}$\n",
       "$\\newcommand{$\\hatcurISOteff$short}{$\\ensuremath${3389}}$\n",
       "$\\newcommand{$\\hatcurISOzfeh$}{$\\ensuremath${0.264_{-0.017}^{+0.013}}}$\n",
       "$\\newcommand{$\\hatcurISOage$}{$\\ensuremath${0.394_{-0.090}^{+0.152}}}$\n",
       "$\\newcommand{$\\hatcurISOspec$}{M}$\n",
       "$\\newcommand{$\\hatcurRVK$}{$\\ensuremath${182.9\\pm3.3}}$\n",
       "$\\newcommand{$\\hatcurRVK$twosiglim}{$\\ensuremath${<188.1}}$\n",
       "$\\newcommand{$\\hatcurRVrk$}{$\\ensuremath${0\\pm0}}$\n",
       "$\\newcommand{$\\hatcurRVrh$}{$\\ensuremath${0\\pm0}}$\n",
       "$\\newcommand{$\\hatcurRVk$}{$\\ensuremath${0\\pm0}}$\n",
       "$\\newcommand{$\\hatcurRVh$}{$\\ensuremath${0\\pm0}}$\n",
       "$\\newcommand{$\\hatcurRVtrone$}{$\\ensuremath${0\\pm0}}$\n",
       "$\\newcommand{$\\hatcurRVtrtwo$}{$\\ensuremath${0\\pm0}}$\n",
       "$\\newcommand{$\\hatcurRVgamma$}{$\\ensuremath${-12182.3\\pm2.4}}$\n",
       "$\\newcommand{$\\hatcurRVjitter$}{$\\ensuremath${0.1\\pm4.2}}$\n",
       "$\\newcommand{$\\hatcurRVjitter$twosiglim}{$\\ensuremath${<9.6}}$\n",
       "$\\newcommand{$\\hatcurRVfitrms$}{$\\ensuremath${.1fym}}$\n",
       "$\\newcommand{$\\hatcurRVeccen$}{$\\ensuremath${0\\pm0}}$\n",
       "$\\newcommand{$\\hatcurRVeccen$twosiglim}{$\\ensuremath${<0.000}}$\n",
       "$\\newcommand{$\\hatcurRVomega$}{$\\ensuremath${0\\pm0}}$\n",
       "$\\newcommand{$\\hatcurPPi$}{$\\ensuremath${88.140\\pm0.046}}$\n",
       "$\\newcommand{$\\hatcurPPg$}{$\\ensuremath${15.90\\pm0.37}}$\n",
       "$\\newcommand{$\\hatcurPPloggold$}{$\\ensuremath${3.202\\pm0.010}}$\n",
       "$\\newcommand{$\\hatcurPPlogg$}{$\\ensuremath${3.202\\pm0.041}}$\n",
       "$\\newcommand{$\\hatcurPParold$}{$\\ensuremath${15.754\\pm0.062}}$\n",
       "$\\newcommand{$\\hatcurPPar$}{$\\ensuremath${15.75\\pm0.73}}$\n",
       "$\\newcommand{$\\hatcurPPar$elold}{$\\ensuremath${0.027089\\pm0.000069}}$\n",
       "$\\newcommand{$\\hatcurPPar$el}{$\\ensuremath${0.02709\\pm0.00046}}$\n",
       "$\\newcommand{$\\hatcurPPrhoold$}{$\\ensuremath${0.783\\pm0.022}}$\n",
       "$\\newcommand{$\\hatcurPPrho$}{$\\ensuremath${0.78\\pm0.11}}$\n",
       "$\\newcommand{$\\hatcurPPmold$}{$\\ensuremath${0.665\\pm0.013}}$\n",
       "$\\newcommand{$\\hatcurPPm$}{$\\ensuremath${0.665\\pm0.025}}$\n",
       "$\\newcommand{$\\hatcurPPm$twosiglim}{$\\ensuremath${<0.68}}$\n",
       "$\\newcommand{$\\hatcurPPm$short}{$\\ensuremath${0.66}}$\n",
       "$\\newcommand{$\\hatcurPPm$long}{$\\ensuremath${0.665\\pm0.025}}$\n",
       "$\\newcommand{$\\hatcurPPm$e}{$\\ensuremath${211.3\\pm4.0}}$\n",
       "$\\newcommand{$\\hatcurPPm$eshort}{$\\ensuremath${211.3}}$\n",
       "$\\newcommand{$\\hatcurPPm$elong}{$\\ensuremath${211.3\\pm4.0}}$\n",
       "$\\newcommand{$\\hatcurPProld$}{$\\ensuremath${1.0174\\pm0.0078}}$\n",
       "$\\newcommand{$\\hatcurPPr$}{$\\ensuremath${1.017\\pm0.044}}$\n",
       "$\\newcommand{$\\hatcurPPr$short}{$\\ensuremath${1.02}}$\n",
       "$\\newcommand{$\\hatcurPPr$long}{$\\ensuremath${1.017\\pm0.044}}$\n",
       "$\\newcommand{$\\hatcurPPr$e}{$\\ensuremath${11.404\\pm0.087}}$\n",
       "$\\newcommand{$\\hatcurPPr$eshort}{$\\ensuremath${11.4}}$\n",
       "$\\newcommand{$\\hatcurPPr$elong}{$\\ensuremath${11.404\\pm0.087}}$\n",
       "$\\newcommand{$\\hatcurPPm$rcorr}{$\\ensuremath${0.09}}$\n",
       "$\\newcommand{$\\hatcurPPteffold$}{$\\ensuremath${603.8\\pm1.2}}$\n",
       "$\\newcommand{$\\hatcurPPteff$}{$\\ensuremath${604\\pm19}}$\n",
       "$\\newcommand{$\\hatcurPPteff$short}{$\\ensuremath${604}}$\n",
       "$\\newcommand{$\\hatcurPPthetaold$}{$\\ensuremath${0.0896\\pm0.0018}}$\n",
       "$\\newcommand{$\\hatcurPPtheta$}{$\\ensuremath${0.0896\\pm0.0042}}$\n",
       "$\\newcommand{$\\hatcurPPfluxperi$}{$\\ensuremath${3.014\\pm0.024}}$\n",
       "$\\newcommand{$\\hatcurPPfluxperi$dim}{$\\ensuremath${7}}$\n",
       "$\\newcommand{$\\hatcurPPfluxap$}{$\\ensuremath${3.014\\pm0.024}}$\n",
       "$\\newcommand{$\\hatcurPPfluxap$dim}{$\\ensuremath${7}}$\n",
       "$\\newcommand{$\\hatcurPPfluxavg$}{$\\ensuremath${3.014\\pm0.024}}$\n",
       "$\\newcommand{$\\hatcurPPfluxavg$dim}{$\\ensuremath${7}}$\n",
       "$\\newcommand{$\\hatcurPPfluxavg$logold}{$\\ensuremath${7.4791\\pm0.0035}}$\n",
       "$\\newcommand{$\\hatcurPPfluxavg$log}{$\\ensuremath${7.479\\pm0.018}}$\n",
       "$\\newcommand{$\\hatcurXsecphase$}{$\\ensuremath${0\\pm0}}$\n",
       "$\\newcommand{$\\hatcurXsecondary$}{$\\ensuremath${2459691.298040\\pm0.000045}}$\n",
       "$\\newcommand{$\\hatcurXsecdur$}{$\\ensuremath${0.06165\\pm0.00021}}$\n",
       "$\\newcommand{$\\hatcurXsecingdur$}{$\\ensuremath${0.01765\\pm0.00030}}$\n",
       "$\\newcommand{$\\hatcurPPphiconj$}{$\\ensuremath${0\\pm0}}$\n",
       "$\\newcommand{$\\hatcurPPperi$}{$\\ensuremath${2459689.353577\\pm0.000045}}$\n",
       "$\\newcommand{$\\hatcurPPaequiv$}{$\\ensuremath${0.21250\\pm0.00085}}$\n",
       "$\\newcommand{$\\hatcurPPtcirc$}{$\\ensuremath${62.0\\pm2.5}}$\n",
       "$\\newcommand{$\\hatcurPPtinfall$}{$\\ensuremath${14150\\pm370}}$\n",
       "$\\newcommand{$\\hatcurXdist$}{$\\ensuremath${72.50\\pm0.13}}$\n",
       "$\\newcommand{$\\hatcurXAv$}{$\\ensuremath${0.064\\pm0.021}}$\n",
       "$\\newcommand{$\\hatcurXdist$red}{$\\ensuremath${72.50\\pm0.12}}$\n",
       "$\\newcommand{$\\hatcurXEBV$}{$\\ensuremath${0.0210_{-0.0070}^{+0.0050}}}$\n",
       "$\\newcommand{$\\hatcurCCpmra$}{$\\ensuremath${-170.503\\pm0.028}}$\n",
       "$\\newcommand{$\\hatcurCCpmdec$}{$\\ensuremath${-64.264\\pm0.023}}$\n",
       "$\\newcommand{$\\hatcurCCpm$}{$\\ensuremath${182.212\\pm0.036}}$\n",
       "$\\newcommand{$\\hatcurhtr$eccen}{TOI3235}$\n",
       "$\\newcommand{$\\hatcurfield$eccen}{$\\ensuremath${string}}$\n",
       "$\\newcommand{$\\hatcurCCra$eccen}{$\\ensuremath${13^{\\mathrm h}49^{\\mathrm m}53.9777{\\mathrm s}}}$\n",
       "$\\newcommand{$\\hatcurCCdec$eccen}{$\\ensuremath${-46{\\arcdeg}03{$\\arcmin$}58.4541{$\\arcsec$}}}$\n",
       "$\\newcommand{$\\hatcurCCmag$eccen}{NULL}$\n",
       "$\\newcommand{$\\hatcurCCtwomass$eccen}{2MASS~13495398-4603583}$\n",
       "$\\newcommand{$\\hatcurCCgsc$eccen}{GSC~NULL}$\n",
       "$\\newcommand{$\\hatcurCCgaia$eccen}{GAIA~6107144260247338240}$\n",
       "$\\newcommand{$\\hatcurCCgaia$drtwoeccen}{GAIA~DR2~6107144260251920000}$\n",
       "$\\newcommand{$\\hatcurCCtassmv$eccen}{$\\ensuremath${nff\\pmnff}}$\n",
       "$\\newcommand{$\\hatcurCCtassmv$shorteccen}{$\\ensuremath${0.0}}$\n",
       "$\\newcommand{$\\hatcurCCtassmB$eccen}{$\\ensuremath${nff\\pmnff}}$\n",
       "$\\newcommand{$\\hatcurCCtassmB$shorteccen}{$\\ensuremath${0.0}}$\n",
       "$\\newcommand{$\\hatcurCCtassmI$eccen}{$\\ensuremath${nff\\pmnff}}$\n",
       "$\\newcommand{$\\hatcurCCtassmI$shorteccen}{$\\ensuremath${0.0}}$\n",
       "$\\newcommand{$\\hatcurCCtassmg$eccen}{$\\ensuremath${nff\\pmnff}}$\n",
       "$\\newcommand{$\\hatcurCCtassmg$shorteccen}{$\\ensuremath${0.0}}$\n",
       "$\\newcommand{$\\hatcurCCtassmr$eccen}{$\\ensuremath${nff\\pmnff}}$\n",
       "$\\newcommand{$\\hatcurCCtassmr$shorteccen}{$\\ensuremath${0.0}}$\n",
       "$\\newcommand{$\\hatcurCCtassmi$eccen}{$\\ensuremath${nff\\pmnff}}$\n",
       "$\\newcommand{$\\hatcurCCtassmi$shorteccen}{$\\ensuremath${0.0}}$\n",
       "$\\newcommand{$\\hatcurCCparallax$eccen}{$\\ensuremath${13.781\\pm0.027}}$\n",
       "$\\newcommand{$\\hatcurCCgaia$mGeccen}{$\\ensuremath${14.4605\\pm0.0028}}$\n",
       "$\\newcommand{$\\hatcurCCgaia$mBPeccen}{$\\ensuremath${15.9000\\pm0.0042}}$\n",
       "$\\newcommand{$\\hatcurCCgaia$mRPeccen}{$\\ensuremath${13.2881\\pm0.0038}}$\n",
       "$\\newcommand{$\\hatcurCCtwomass$Jmageccen}{$\\ensuremath${11.706\\pm0.025}}$\n",
       "$\\newcommand{$\\hatcurCCtwomass$Hmageccen}{$\\ensuremath${11.099\\pm0.024}}$\n",
       "$\\newcommand{$\\hatcurCCtwomass$Kmageccen}{$\\ensuremath${10.819\\pm0.021}}$\n",
       "$\\newcommand{$\\hatcurCCcitJmag$eccen}{$\\ensuremath${11.695\\pm0.026}}$\n",
       "$\\newcommand{$\\hatcurCCcitHmag$eccen}{$\\ensuremath${11.088\\pm0.026}}$\n",
       "$\\newcommand{$\\hatcurCCcitKmag$eccen}{$\\ensuremath${10.843\\pm0.022}}$\n",
       "$\\newcommand{$\\hatcurCCbbJmag$eccen}{$\\ensuremath${11.787\\pm0.029}}$\n",
       "$\\newcommand{$\\hatcurCCbbHmag$eccen}{$\\ensuremath${11.116\\pm0.026}}$\n",
       "$\\newcommand{$\\hatcurCCbbKmag$eccen}{$\\ensuremath${10.863\\pm0.022}}$\n",
       "$\\newcommand{$\\hatcurCCesoJmag$eccen}{$\\ensuremath${11.796\\pm0.033}}$\n",
       "$\\newcommand{$\\hatcurCCesoHmag$eccen}{$\\ensuremath${11.118\\pm0.047}}$\n",
       "$\\newcommand{$\\hatcurCCesoKmag$eccen}{$\\ensuremath${10.859\\pm0.024}}$\n",
       "$\\newcommand{$\\hatcurCCesoJHmag$eccen}{$\\ensuremath${0.678\\pm0.054}}$\n",
       "$\\newcommand{$\\hatcurCCesoJKmag$eccen}{$\\ensuremath${0.936\\pm0.038}}$\n",
       "$\\newcommand{$\\hatcurCCesoHKmag$eccen}{$\\ensuremath${0.258\\pm0.051}}$\n",
       "$\\newcommand{$\\hatcurCCWonemag$eccen}{$\\ensuremath${10.694\\pm0.023}}$\n",
       "$\\newcommand{$\\hatcurCCWtwomag$eccen}{$\\ensuremath${10.548\\pm0.021}}$\n",
       "$\\newcommand{$\\hatcurCCWthreemag$eccen}{$\\ensuremath${10.458\\pm0.064}}$\n",
       "$\\newcommand{$\\hatcurCCWfourmag$eccen}{$\\ensuremath${nff\\pmnff}}$\n",
       "$\\newcommand{$\\hatcurLCdip$eccen}{$\\ensuremath${0.1}}$\n",
       "$\\newcommand{$\\hatcurLCrprstar$eccen}{$\\ensuremath${0.2826\\pm0.0015}}$\n",
       "$\\newcommand{$\\hatcurLCbsq$eccen}{$\\ensuremath${0.258_{-0.013}^{+0.012}}}$\n",
       "$\\newcommand{$\\hatcurLCimp$eccen}{$\\ensuremath${0.507_{-0.013}^{+0.012}}}$\n",
       "$\\newcommand{$\\hatcurLCzeta$eccen}{$\\ensuremath${44.43\\pm0.30}}$\n",
       "$\\newcommand{$\\hatcurLCdur$eccen}{$\\ensuremath${0.06154\\pm0.00021}}$\n",
       "$\\newcommand{$\\hatcurLCdur$shorteccen}{$\\ensuremath${0.0615}}$\n",
       "$\\newcommand{$\\hatcurLCdur$hreccen}{$\\ensuremath${1.4770\\pm0.0051}}$\n",
       "$\\newcommand{$\\hatcurLCdur$hrshorteccen}{$\\ensuremath${1.477}}$\n",
       "$\\newcommand{$\\hatcurLCq$eccen}{$\\ensuremath${0.023700\\pm0.000096}}$\n",
       "$\\newcommand{$\\hatcurLCq$shorteccen}{$\\ensuremath${0.024}}$\n",
       "$\\newcommand{$\\hatcurLCingdur$eccen}{$\\ensuremath${0.01753\\pm0.00031}}$\n",
       "$\\newcommand{$\\hatcurLCP$eccen}{$\\ensuremath${2.59261840\\pm0.00000040}}$\n",
       "$\\newcommand{$\\hatcurLCP$prececcen}{$\\ensuremath${2.5926184}}$\n",
       "$\\newcommand{$\\hatcurLCP$shorteccen}{$\\ensuremath${2.5926}}$\n",
       "$\\newcommand{$\\hatcurLCT$eccen}{$\\ensuremath${2459684.816480\\pm0.000046}}$\n",
       "$\\newcommand{$\\hatcurLCT$Aeccen}{$\\ensuremath${2457797.39029\\pm0.00026}}$\n",
       "$\\newcommand{$\\hatcurLCT$Beccen}{$\\ensuremath${2459762.595037\\pm0.000053}}$\n",
       "$\\newcommand{$\\hatcurLChatnetmA$eccen}{$\\ensuremath${13.62805\\pm0.00074}}$\n",
       "$\\newcommand{$\\hatcurLCiblendA$eccen}{$\\ensuremath${0.981\\pm0.022}}$\n",
       "$\\newcommand{$\\hatcurLChatnetmB$eccen}{$\\ensuremath${13.63141\\pm0.00051}}$\n",
       "$\\newcommand{$\\hatcurLCiblendB$eccen}{$\\ensuremath${0.965\\pm0.029}}$\n",
       "$\\newcommand{$\\hatcurLChatnetmC$eccen}{$\\ensuremath${-7.03641\\pm0.00011}}$\n",
       "$\\newcommand{$\\hatcurLCiblendC$eccen}{$\\ensuremath${1.085\\pm0.011}}$\n",
       "$\\newcommand{$\\hatcurLChatnetmD$eccen}{$\\ensuremath${-6.996010\\pm0.000083}}$\n",
       "$\\newcommand{$\\hatcurLCiblendD$eccen}{$\\ensuremath${1.1257\\pm0.0089}}$\n",
       "$\\newcommand{$\\hatcurLCrho$eccen}{$\\ensuremath${10.64\\pm0.23}}$\n",
       "$\\newcommand{$\\hatcurSMEiteff$eccen}{$\\ensuremath${3196\\pm67}}$\n",
       "$\\newcommand{$\\hatcurSMEizfeh$eccen}{$\\ensuremath${-0.02\\pm0.10}}$\n",
       "$\\newcommand{$\\hatcurSMEizfeh$shorteccen}{$\\ensuremath${-0.02}}$\n",
       "$\\newcommand{$\\hatcurSMEilogg$eccen}{$\\ensuremath${4.80\\pm0.50}}$\n",
       "$\\newcommand{$\\hatcurSMEivsin$eccen}{$\\ensuremath${0\\pm50}}$\n",
       "$\\newcommand{$\\hatcurSMEivmac$eccen}{$\\ensuremath${nff\\pmnff}}$\n",
       "$\\newcommand{$\\hatcurSMEivmic$eccen}{$\\ensuremath${nff\\pmnff}}$\n",
       "$\\newcommand{$\\hatcurextraerrMJ$eccen}{$\\ensuremath${0\\pm0}}$\n",
       "$\\newcommand{$\\hatcurextraerrMJ$twosiglimeccen}{$\\ensuremath${<0.0200}}$\n",
       "$\\newcommand{$\\hatcurextraerrMH$eccen}{$\\ensuremath${0\\pm0}}$\n",
       "$\\newcommand{$\\hatcurextraerrMH$twosiglimeccen}{$\\ensuremath${<0.0200}}$\n",
       "$\\newcommand{$\\hatcurextraerrMKs$eccen}{$\\ensuremath${0\\pm0}}$\n",
       "$\\newcommand{$\\hatcurextraerrMKs$twosiglimeccen}{$\\ensuremath${<0.0200}}$\n",
       "$\\newcommand{$\\hatcurextraerrMG$eccen}{$\\ensuremath${0\\pm0}}$\n",
       "$\\newcommand{$\\hatcurextraerrMG$twosiglimeccen}{$\\ensuremath${<0.0200}}$\n",
       "$\\newcommand{$\\hatcurextraerrMRP$eccen}{$\\ensuremath${0\\pm0}}$\n",
       "$\\newcommand{$\\hatcurextraerrMRP$twosiglimeccen}{$\\ensuremath${<0.0200}}$\n",
       "$\\newcommand{$\\hatcurextraerrMWone$eccen}{$\\ensuremath${0\\pm0}}$\n",
       "$\\newcommand{$\\hatcurextraerrMWone$twosiglimeccen}{$\\ensuremath${<0.0200}}$\n",
       "$\\newcommand{$\\hatcurextraerrMWtwo$eccen}{$\\ensuremath${0\\pm0}}$\n",
       "$\\newcommand{$\\hatcurextraerrMWtwo$twosiglimeccen}{$\\ensuremath${<0.0200}}$\n",
       "$\\newcommand{$\\hatcurLBiB$eccen}{$\\ensuremath${0.5035}}$\n",
       "$\\newcommand{$\\hatcurLBiiB$eccen}{$\\ensuremath${0.3376}}$\n",
       "$\\newcommand{$\\hatcurLBiV$eccen}{$\\ensuremath${0.4840}}$\n",
       "$\\newcommand{$\\hatcurLBiiV$eccen}{$\\ensuremath${0.3559}}$\n",
       "$\\newcommand{$\\hatcurLBiR$eccen}{$\\ensuremath${0.4142}}$\n",
       "$\\newcommand{$\\hatcurLBiiR$eccen}{$\\ensuremath${0.3369}}$\n",
       "$\\newcommand{$\\hatcurLBiI$eccen}{$\\ensuremath${0.2042}}$\n",
       "$\\newcommand{$\\hatcurLBiiI$eccen}{$\\ensuremath${0.3912}}$\n",
       "$\\newcommand{$\\hatcurLBiu$eccen}{$\\ensuremath${0.4328}}$\n",
       "$\\newcommand{$\\hatcurLBiiu$eccen}{$\\ensuremath${0.3416}}$\n",
       "$\\newcommand{$\\hatcurLBig$eccen}{$\\ensuremath${0.34\\pm0.13}}$\n",
       "$\\newcommand{$\\hatcurLBiig$eccen}{$\\ensuremath${0.31\\pm0.16}}$\n",
       "$\\newcommand{$\\hatcurLBir$eccen}{$\\ensuremath${0.39\\pm0.15}}$\n",
       "$\\newcommand{$\\hatcurLBiir$eccen}{$\\ensuremath${0.33\\pm0.17}}$\n",
       "$\\newcommand{$\\hatcurLBii$eccen}{$\\ensuremath${0.303\\pm0.097}}$\n",
       "$\\newcommand{$\\hatcurLBii$ieccen}{$\\ensuremath${0.24\\pm0.13}}$\n",
       "$\\newcommand{$\\hatcurLBiz$eccen}{$\\ensuremath${0.154\\pm0.096}}$\n",
       "$\\newcommand{$\\hatcurLBii$zeccen}{$\\ensuremath${0.16\\pm0.14}}$\n",
       "$\\newcommand{$\\hatcurLBiJ$eccen}{$\\ensuremath${0.128\\pm0.082}}$\n",
       "$\\newcommand{$\\hatcurLBii$Jeccen}{$\\ensuremath${0.12\\pm0.13}}$\n",
       "$\\newcommand{$\\hatcurLBiH$eccen}{$\\ensuremath${0.0889}}$\n",
       "$\\newcommand{$\\hatcurLBii$Heccen}{$\\ensuremath${0.2815}}$\n",
       "$\\newcommand{$\\hatcurLBiK$eccen}{$\\ensuremath${0.0827}}$\n",
       "$\\newcommand{$\\hatcurLBii$Keccen}{$\\ensuremath${0.2458}}$\n",
       "$\\newcommand{$\\hatcurLBiT$eccen}{$\\ensuremath${0.24\\pm0.11}}$\n",
       "$\\newcommand{$\\hatcurLBii$Teccen}{$\\ensuremath${0.32\\pm0.15}}$\n",
       "$\\newcommand{$\\hatcurLBikep$eccen}{$\\ensuremath${0.2909}}$\n",
       "$\\newcommand{$\\hatcurLBii$kepeccen}{$\\ensuremath${0.4272}}$\n",
       "$\\newcommand{$\\hatcurLBiC$eccen}{$\\ensuremath${0.2393}}$\n",
       "$\\newcommand{$\\hatcurLBii$Ceccen}{$\\ensuremath${0.4323}}$\n",
       "$\\newcommand{$\\hatcurLBiM$eccen}{$\\ensuremath${0.4020}}$\n",
       "$\\newcommand{$\\hatcurLBii$Meccen}{$\\ensuremath${0.4034}}$\n",
       "$\\newcommand{$\\hatcurLBiSone$eccen}{$\\ensuremath${0.0655}}$\n",
       "$\\newcommand{$\\hatcurLBii$Soneeccen}{$\\ensuremath${0.1827}}$\n",
       "$\\newcommand{$\\hatcurLBiStwo$eccen}{$\\ensuremath${0.0480}}$\n",
       "$\\newcommand{$\\hatcurLBii$Stwoeccen}{$\\ensuremath${0.1526}}$\n",
       "$\\newcommand{$\\hatcurLBiSthree$eccen}{$\\ensuremath${0.0530}}$\n",
       "$\\newcommand{$\\hatcurLBii$Sthreeeccen}{$\\ensuremath${0.1348}}$\n",
       "$\\newcommand{$\\hatcurLBiSfour$eccen}{$\\ensuremath${0.0565}}$\n",
       "$\\newcommand{$\\hatcurLBii$Sfoureccen}{$\\ensuremath${0.1029}}$\n",
       "$\\newcommand{$\\hatcurISOm$eccen}{$\\ensuremath${0.3892\\pm0.0045}}$\n",
       "$\\newcommand{$\\hatcurISOm$shorteccen}{$\\ensuremath${0.39}}$\n",
       "$\\newcommand{$\\hatcurISOm$longeccen}{$\\ensuremath${0.3892\\pm0.0045}}$\n",
       "$\\newcommand{$\\hatcurISOr$eccen}{$\\ensuremath${0.3720\\pm0.0022}}$\n",
       "$\\newcommand{$\\hatcurISOr$shorteccen}{$\\ensuremath${0.37}}$\n",
       "$\\newcommand{$\\hatcurISOr$longeccen}{$\\ensuremath${0.3720\\pm0.0022}}$\n",
       "$\\newcommand{$\\hatcurISOr$hoeccen}{$\\ensuremath${10.64\\pm0.23}}$\n",
       "$\\newcommand{$\\hatcurISOr$holongeccen}{$\\ensuremath${10.64\\pm0.23}}$\n",
       "$\\newcommand{$\\hatcurISOlogg$eccen}{$\\ensuremath${4.8866\\pm0.0073}}$\n",
       "$\\newcommand{$\\hatcurISOlum$eccen}{$\\ensuremath${0.01627\\pm0.00018}}$\n",
       "$\\newcommand{$\\hatcurISOlum$shorteccen}{$\\ensuremath${0.02}}$\n",
       "$\\newcommand{$\\hatcurISOteff$eccen}{$\\ensuremath${3380.6\\pm7.5}}$\n",
       "$\\newcommand{$\\hatcurISOzfeh$eccen}{$\\ensuremath${0.245\\pm0.016}}$\n",
       "$\\newcommand{$\\hatcurISOage$eccen}{$\\ensuremath${1.07_{-0.57}^{+2.21}}}$\n",
       "$\\newcommand{$\\hatcurISOspec$eccen}{M}$\n",
       "$\\newcommand{$\\hatcurRVK$eccen}{$\\ensuremath${181.5\\pm3.5}}$\n",
       "$\\newcommand{$\\hatcurRVK$twosiglimeccen}{$\\ensuremath${<187.2}}$\n",
       "$\\newcommand{$\\hatcurRVrk$eccen}{$\\ensuremath${-0.058_{-0.040}^{+0.061}}}$\n",
       "$\\newcommand{$\\hatcurRVrh$eccen}{$\\ensuremath${0.104_{-0.072}^{+0.037}}}$\n",
       "$\\newcommand{$\\hatcurRVk$eccen}{$\\ensuremath${-0.0069\\pm0.0070}}$\n",
       "$\\newcommand{$\\hatcurRVh$eccen}{$\\ensuremath${0.0134_{-0.0113}^{+0.0085}}}$\n",
       "$\\newcommand{$\\hatcurRVtrone$eccen}{$\\ensuremath${0\\pm0}}$\n",
       "$\\newcommand{$\\hatcurRVtrtwo$eccen}{$\\ensuremath${0\\pm0}}$\n",
       "$\\newcommand{$\\hatcurRVgamma$eccen}{$\\ensuremath${-12182.0\\pm2.3}}$\n",
       "$\\newcommand{$\\hatcurRVjitter$eccen}{$\\ensuremath${0.5\\pm4.5}}$\n",
       "$\\newcommand{$\\hatcurRVjitter$twosiglimeccen}{$\\ensuremath${<10.3}}$\n",
       "$\\newcommand{$\\hatcurRVfitrms$eccen}{$\\ensuremath${.1fym}}$\n",
       "$\\newcommand{$\\hatcurRVeccen$eccen}{$\\ensuremath${0.0170\\pm0.0086}}$\n",
       "$\\newcommand{$\\hatcurRVeccen$twosiglimeccen}{$\\ensuremath${<0.029}}$\n",
       "$\\newcommand{$\\hatcurRVomega$eccen}{$\\ensuremath${120\\pm44}}$\n",
       "$\\newcommand{$\\hatcurPPi$eccen}{$\\ensuremath${88.110\\pm0.044}}$\n",
       "$\\newcommand{$\\hatcurPPg$eccen}{$\\ensuremath${15.53\\pm0.41}}$\n",
       "$\\newcommand{$\\hatcurPPlogg$eccen}{$\\ensuremath${3.191\\pm0.011}}$\n",
       "$\\newcommand{$\\hatcurPPar$eccen}{$\\ensuremath${15.59\\pm0.11}}$\n",
       "$\\newcommand{$\\hatcurPPar$eleccen}{$\\ensuremath${0.02698\\pm0.00010}}$\n",
       "$\\newcommand{$\\hatcurPPrho$eccen}{$\\ensuremath${0.759\\pm0.024}}$\n",
       "$\\newcommand{$\\hatcurPPm$eccen}{$\\ensuremath${0.655\\pm0.014}}$\n",
       "$\\newcommand{$\\hatcurPPm$twosiglimeccen}{$\\ensuremath${<0.68}}$\n",
       "$\\newcommand{$\\hatcurPPm$shorteccen}{$\\ensuremath${0.66}}$\n",
       "$\\newcommand{$\\hatcurPPm$longeccen}{$\\ensuremath${0.655\\pm0.014}}$\n",
       "$\\newcommand{$\\hatcurPPm$eeccen}{$\\ensuremath${208.3\\pm4.4}}$\n",
       "$\\newcommand{$\\hatcurPPm$eshorteccen}{$\\ensuremath${208.3}}$\n",
       "$\\newcommand{$\\hatcurPPm$elongeccen}{$\\ensuremath${208.3\\pm4.4}}$\n",
       "$\\newcommand{$\\hatcurPPr$eccen}{$\\ensuremath${1.0226\\pm0.0074}}$\n",
       "$\\newcommand{$\\hatcurPPr$shorteccen}{$\\ensuremath${1.02}}$\n",
       "$\\newcommand{$\\hatcurPPr$longeccen}{$\\ensuremath${1.0226\\pm0.0074}}$\n",
       "$\\newcommand{$\\hatcurPPr$eeccen}{$\\ensuremath${11.462\\pm0.083}}$\n",
       "$\\newcommand{$\\hatcurPPr$eshorteccen}{$\\ensuremath${11.5}}$\n",
       "$\\newcommand{$\\hatcurPPr$elongeccen}{$\\ensuremath${11.462\\pm0.083}}$\n",
       "$\\newcommand{$\\hatcurPPm$rcorreccen}{$\\ensuremath${-0.06}}$\n",
       "$\\newcommand{$\\hatcurPPteff$eccen}{$\\ensuremath${605.4\\pm1.6}}$\n",
       "$\\newcommand{$\\hatcurPPtheta$eccen}{$\\ensuremath${0.0885\\pm0.0019}}$\n",
       "$\\newcommand{$\\hatcurPPfluxperi$eccen}{$\\ensuremath${3.149\\pm0.080}}$\n",
       "$\\newcommand{$\\hatcurPPfluxperi$dimeccen}{$\\ensuremath${7}}$\n",
       "$\\newcommand{$\\hatcurPPfluxap$eccen}{$\\ensuremath${2.948\\pm0.038}}$\n",
       "$\\newcommand{$\\hatcurPPfluxap$dimeccen}{$\\ensuremath${7}}$\n",
       "$\\newcommand{$\\hatcurPPfluxavg$eccen}{$\\ensuremath${3.046\\pm0.032}}$\n",
       "$\\newcommand{$\\hatcurPPfluxavg$dimeccen}{$\\ensuremath${7}}$\n",
       "$\\newcommand{$\\hatcurPPfluxavg$logeccen}{$\\ensuremath${7.4837\\pm0.0046}}$\n",
       "$\\newcommand{$\\hatcurXsecphase$eccen}{$\\ensuremath${0.4956\\pm0.0044}}$\n",
       "$\\newcommand{$\\hatcurXsecondary$eccen}{$\\ensuremath${2459686.101\\pm0.012}}$\n",
       "$\\newcommand{$\\hatcurXsecdur$eccen}{$\\ensuremath${0.06290\\pm0.00086}}$\n",
       "$\\newcommand{$\\hatcurXsecingdur$eccen}{$\\ensuremath${0.01815\\pm0.00043}}$\n",
       "$\\newcommand{$\\hatcurPPphiconj$eccen}{$\\ensuremath${-0.08\\pm0.11}}$\n",
       "$\\newcommand{$\\hatcurPPperi$eccen}{$\\ensuremath${2459685.02\\pm0.29}}$\n",
       "$\\newcommand{$\\hatcurPPaequiv$eccen}{$\\ensuremath${0.2114\\pm0.0011}}$\n",
       "$\\newcommand{$\\hatcurPPtcirc$eccen}{$\\ensuremath${58.9\\pm2.7}}$\n",
       "$\\newcommand{$\\hatcurPPtinfall$eccen}{$\\ensuremath${13490\\pm550}}$\n",
       "$\\newcommand{$\\hatcurXdist$eccen}{$\\ensuremath${72.500_{-0.100}^{+0.200}}}$\n",
       "$\\newcommand{$\\hatcurXAv$eccen}{$\\ensuremath${0.064\\pm0.021}}$\n",
       "$\\newcommand{$\\hatcurXdist$redeccen}{$\\ensuremath${72.54\\pm0.13}}$\n",
       "$\\newcommand{$\\hatcurXEBV$eccen}{$\\ensuremath${0.0200\\pm0.0069}}$\n",
       "$\\newcommand{$\\hatcurCCpmra$eccen}{$\\ensuremath${-170.503\\pm0.028}}$\n",
       "$\\newcommand{$\\hatcurCCpmdec$eccen}{$\\ensuremath${-64.264\\pm0.023}}$\n",
       "$\\newcommand{$\\hatcurCCpm$eccen}{$\\ensuremath${182.212\\pm0.036}}$</div>\n",
       "\n",
       "\n",
       "\n",
       "<div id=\"title\">\n",
       "\n",
       "# TOI-3235 b: a transiting giant planet around an M4 dwarf star\n",
       "\n",
       "</div>\n",
       "<div id=\"comments\">\n",
       "\n",
       "[![arXiv](https://img.shields.io/badge/arXiv-2302.10008-b31b1b.svg)](https://arxiv.org/abs/2302.10008)<mark>Appeared on: 2023-02-21</mark> - _15 pages, 4 figures. Accepted for publication in APJL_\n",
       "\n",
       "</div>\n",
       "<div id=\"authors\">\n",
       "\n",
       "<mark><mark>Melissa J. Hobson</mark></mark>, et al. -- incl., <mark><mark>Th. Henning</mark></mark>, <mark><mark>Richard P. Schwarz</mark></mark>\n",
       "\n",
       "</div>\n",
       "<div id=\"abstract\">\n",
       "\n",
       "**Abstract:** We present the discovery of TOI-3235 b, a short-period Jupiter orbiting an M-dwarf with a stellar mass close to the critical mass at which stars transition from partially to fully convective. TOI-3235 b was first identified as a candidate from\\textit{TESS}photometry, and confirmed with radial velocities from ESPRESSO, and ground-based photometry from HATSouth, MEarth-South, TRAPPIST-South, LCOGT, and ExTrA. We find that the planet has a mass of$\\mathrm{$\\hatcurPPm$ $\\mjup$}$and a radius of$\\mathrm{$\\hatcurPPr$ $\\rjup$}$.  It orbits close to its host star, with an orbital period of$\\mathrm{$\\hatcurLCP$short d}$, but has an equilibrium temperature of$\\mathrm{\\approx $\\hatcurPPteff$short   K}$, well below the expected threshold for radius inflation of hot Jupiters. The host star has a mass of$\\mathrm{$\\hatcurISOm$  $\\ms$un}$, a radius of$\\mathrm{$\\hatcurISOr$long  $\\rsun$}$, an effective temperature of$\\mathrm{$\\hatcurISOteff$short   K}$, and a J-band magnitude of$\\mathrm{$\\hatcurCCtwomass$Jmag}$. Current planet formation models do not predict the existence of gas giants such as TOI-3235 b around such low-mass stars. With a high transmission spectroscopy metric, TOI-3235 b is one of the best-suited giants orbiting M-dwarfs for atmospheric characterization.\n",
       "\n",
       "</div>\n",
       "\n",
       "<div id=\"div_fig1\">\n",
       "\n",
       "<img src=\"tmp_2302.10008/./TOI3235-hs.png\" alt=\"Fig3.1\" width=\"50%\"/><img src=\"tmp_2302.10008/./TOI3235-lc.png\" alt=\"Fig3.2\" width=\"50%\"/>\n",
       "\n",
       "**Figure 3. -** \n",
       "    Ground-based photometry for the the transiting planet system TOI-3235. {\\em Left:} Phase-folded unbinned full HATSouth light curve (top), light curve zoomed-in on the transit (middle), and residuals from the best-fit model zoomed-in on the transit (bottom). Solid red lines show the best-fit model. Blue circles show the light curves binned in phase with a bin size of 0.002. {\\em Right:} Unbinned follow-up transit light curves corrected for instrumental trends fitted simultaneously with the transit model, which is overplotted (left), and residuals to the fit (right). Dates, filters and instruments are indicated. For ExTrA we indicate the midpoint of the spectral range. The error bars represent the photon\n",
       "    and background shot noise, plus the readout noise.\n",
       "\\label{fig:toi3235-ground-phot} (*fig:toi3235-ground-phot*)\n",
       "\n",
       "</div>\n",
       "<div id=\"div_fig2\">\n",
       "\n",
       "<img src=\"tmp_2302.10008/./mass_radius_period_radius_mass_starmass_061_5205.png\" alt=\"Fig1\" width=\"100%\"/>\n",
       "\n",
       "**Figure 1. -** {\\em Top}: Mass-radius diagram for M-dwarf planets with masses and radii measured to better than 25\\%, as reported in TEPCAT. The markers are colour-coded by host star mass. TOI-3235 b and its analogue TOI-5205 b are plotted with star and hexagon symbols respectively and labelled. Theoretical mass-radius curves from \\cite{mordasini:2012} are plotted with dashed and dotted lines. {\\em Centre}: Period-radius diagram for the same planets. The markers are scaled by planet mass and colour-coded by equilibrium temperature (black when it could not be computed). TOI-3235 b and TOI-5205 b are labelled. {\\em Bottom}: Planet mass vs. stellar mass diagram for the same planets. The markers are colour-coded by host star metallicity. TOI-3235 b and TOI-5205 b are plotted with star and hexagon symbols respectively and labelled. (*fig:rad-mass-period*)\n",
       "\n",
       "</div>\n",
       "<div id=\"div_fig3\">\n",
       "\n",
       "<img src=\"tmp_2302.10008/./TOI3235-rv.png\" alt=\"Fig4.1\" width=\"50%\"/><img src=\"tmp_2302.10008/./TOI3235-iso-gk-gabs-isofeh-SED.png\" alt=\"Fig4.2\" width=\"50%\"/>\n",
       "\n",
       "**Figure 4. -** {\\em Left:}\n",
       "High-precision RVs from ESPRESSO/VLT phased with respect to the mid-transit time, together with the best-fit model, where the center-of-mass velocity has been subtracted (top); RV $O\\!-\\!C$ residuals (centre); and bisector spans (bottom). Error bars include the estimated jitter, which is a free parameter in the fitting.\n",
       "{\\em Top Right:} Absolute $G$ magnitude vs. the de-reddened $G - K_{S}$ color from Gaia DR2 and 2MASS (filled blue circle) and $1\\sigma$ and $2\\sigma$ confidence regions, including estimated systematic errors in the photometry (blue lines), compared to theoretical isochrones (black lines, ages listed in Gyr) and stellar evolution tracks (green dashed lines, mass listed in solar masses) from the MIST models interpolated at the best-estimate value for the host metallicity. The red lines show isochrones at higher and lower metallicities than the best-estimate value, labelled with their metallicity and age in Gyr. {\\em Bottom Right:} SED as measured via broadband photometry through the listed filters (top), and $O\\!-\\!C$ residuals from the best-fit model (bottom). We plot the observed magnitudes without correcting for distance or extinction. Overplotted are 200 model SEDs randomly selected from the MCMC posterior distribution produced through the global analysis (gray lines). Black error bars show the catalog errors for the broad-band photometry measurements; red error bars add an assumed 0.02 mag systematic uncertainty in quadrature to the catalog errors. These latter uncertainties are used in the fit.\n",
       "\\label{fig:toi3235-RV-SED} (*fig:toi3235-RV-SED*)\n",
       "\n",
       "</div>"
      ],
      "text/plain": [
       "<IPython.core.display.Markdown object>"
      ]
     },
     "metadata": {},
     "output_type": "display_data"
    }
   ],
   "source": [
    "[display(Markdown(k[1])) for k in documents];"
   ]
  },
  {
   "cell_type": "markdown",
   "id": "873873a4",
   "metadata": {
    "papermill": {
     "duration": 0.01382,
     "end_time": "2023-02-21T04:10:59.989799",
     "exception": false,
     "start_time": "2023-02-21T04:10:59.975979",
     "status": "completed"
    },
    "tags": []
   },
   "source": [
    "# Create HTML index"
   ]
  },
  {
   "cell_type": "code",
   "execution_count": 10,
   "id": "cf665672",
   "metadata": {
    "execution": {
     "iopub.execute_input": "2023-02-21T04:11:00.020146Z",
     "iopub.status.busy": "2023-02-21T04:11:00.019413Z",
     "iopub.status.idle": "2023-02-21T04:11:00.033412Z",
     "shell.execute_reply": "2023-02-21T04:11:00.032693Z"
    },
    "papermill": {
     "duration": 0.030916,
     "end_time": "2023-02-21T04:11:00.034873",
     "exception": false,
     "start_time": "2023-02-21T04:11:00.003957",
     "status": "completed"
    },
    "tags": []
   },
   "outputs": [
    {
     "name": "stdout",
     "output_type": "stream",
     "text": [
      "212  publications in the last 7 days.\n",
      "\t _build/html/2302.10008.md\n",
      "\t _build/html/2302.08962.md\n",
      "\t _build/html/2302.08736.md\n",
      "\t _build/html/2302.08628.md\n",
      "\t _build/html/2302.07916.md\n",
      "\t _build/html/2302.07880.md\n",
      "\t _build/html/2302.07497.md\n",
      "\t _build/html/2302.07277.md\n",
      "\t _build/html/2302.07256.md\n",
      "\t _build/html/2302.07234.md\n",
      "\t _build/html/2302.07057.md\n",
      "\t _build/html/2302.05694.md\n",
      "\t _build/html/2302.05465.md\n",
      "\t _build/html/2302.04507.md\n",
      "\t _build/html/2302.04239.md\n",
      "\t _build/html/2302.04138.md\n",
      "\t _build/html/2302.03699.md\n",
      "\t _build/html/2302.03576.md\n",
      "\t _build/html/2302.03042.md\n",
      "\t _build/html/2302.03039.md\n",
      "\t _build/html/2302.02890.md\n",
      "\t _build/html/2302.02611.md\n",
      "\t _build/html/2302.02429.md\n",
      "\t _build/html/2302.01678.md\n",
      "\t _build/html/2302.00450.md\n",
      "\t _build/html/2301.13766.md\n",
      "\t _build/html/2301.13526.md\n",
      "\t _build/html/2301.12890.md\n",
      "\t _build/html/2301.11942.md\n",
      "\t _build/html/2301.10717.md\n",
      "\t _build/html/2301.10666.md\n",
      "\t _build/html/2301.10496.md\n",
      "\t _build/html/2301.09621.md\n",
      "\t _build/html/2301.09140.md\n",
      "\t _build/html/2301.08770.md\n",
      "\t _build/html/2301.08310.md\n",
      "\t _build/html/2301.07990.md\n",
      "\t _build/html/2301.07366.md\n",
      "\t _build/html/2301.07199.md\n",
      "\t _build/html/2301.07116.md\n",
      "\t _build/html/2301.06873.md\n",
      "\t _build/html/2301.06819.md\n",
      "\t _build/html/2301.06575.md\n",
      "\t _build/html/2301.05720.md\n",
      "\t _build/html/2301.05718.md\n",
      "\t _build/html/2301.05034.md\n",
      "\t _build/html/2301.04656.md\n",
      "\t _build/html/2301.04533.md\n",
      "\t _build/html/2301.04442.md\n",
      "\t _build/html/2301.03811.md\n",
      "\t _build/html/2301.03689.md\n",
      "\t _build/html/2301.03387.md\n",
      "\t _build/html/2301.03209.md\n",
      "\t _build/html/2301.02671.md\n",
      "\t _build/html/2301.02477.md\n",
      "\t _build/html/2301.02313.md\n",
      "\t _build/html/2301.02265.md\n",
      "\t _build/html/2301.01937.md\n",
      "\t _build/html/2301.01895.md\n",
      "\t _build/html/2301.01684.md\n",
      "\t _build/html/2301.01306.md\n",
      "\t _build/html/2301.00881.md\n",
      "\t _build/html/2301.00854.md\n",
      "\t _build/html/2301.00578.md\n",
      "\t _build/html/2212.12039.md\n",
      "\t _build/html/2212.11991.md\n",
      "\t _build/html/2212.11425.md\n",
      "\t _build/html/2212.11177.md\n",
      "\t _build/html/2212.10804.md\n",
      "\t _build/html/2212.10512.md\n",
      "\t _build/html/2212.09766.md\n",
      "\t _build/html/2212.09675.md\n",
      "\t _build/html/2212.09661.md\n",
      "\t _build/html/2212.09652.md\n",
      "\t _build/html/2212.09443.md\n",
      "\t _build/html/2212.09307.md\n",
      "\t _build/html/2212.09168.md\n",
      "\t _build/html/2212.09159.md\n",
      "\t _build/html/2212.08702.md\n",
      "\t _build/html/2212.07332.md\n",
      "\t _build/html/2212.06434.md\n",
      "\t _build/html/2212.04710.md\n",
      "\t _build/html/2212.04026.md\n",
      "\t _build/html/2212.03563.md\n",
      "\t _build/html/2212.03514.md\n",
      "\t _build/html/2212.02667.md\n",
      "\t _build/html/2212.02627.md\n",
      "\t _build/html/2212.02235.md\n",
      "\t _build/html/2212.01707.md\n",
      "\t _build/html/2212.01526.md\n",
      "\t _build/html/2212.01397.md\n",
      "\t _build/html/2212.01291.md\n",
      "\t _build/html/2212.01281.md\n",
      "\t _build/html/2212.00812.md\n",
      "\t _build/html/2212.00811.md\n",
      "\t _build/html/2212.00806.md\n",
      "\t _build/html/2212.00047.md\n",
      "\t _build/html/2212.00032.md\n",
      "\t _build/html/2211.16996.md\n",
      "\t _build/html/2211.16510.md\n",
      "\t _build/html/2211.16123.md\n",
      "\t _build/html/2211.15816.md\n",
      "\t _build/html/2211.15698.md\n",
      "\t _build/html/2211.15576.md\n",
      "\t _build/html/2211.15434.md\n",
      "\t _build/html/2211.15288.md\n",
      "\t _build/html/2211.15224.md\n",
      "\t _build/html/2211.14543.md\n",
      "\t _build/html/2211.14330.md\n",
      "\t _build/html/2211.14322.md\n",
      "\t _build/html/2211.14132.md\n",
      "\t _build/html/2211.13811.md\n",
      "\t _build/html/2211.13426.md\n",
      "\t _build/html/2211.13318.md\n",
      "\t _build/html/2211.13146.md\n",
      "\t _build/html/2211.12613.md\n",
      "\t _build/html/2211.11767.md\n",
      "\t _build/html/2211.09840.md\n",
      "\t _build/html/2211.09217.md\n",
      "\t _build/html/2211.08493.md\n",
      "\t _build/html/2211.08487.md\n",
      "\t _build/html/2211.08294.md\n",
      "\t _build/html/2211.07667.md\n",
      "\t _build/html/2211.07659.md\n",
      "\t _build/html/2211.06454.md\n",
      "\t _build/html/2211.06205.md\n",
      "\t _build/html/2211.06194.md\n",
      "\t _build/html/2211.05022.md\n",
      "\t _build/html/2211.04048.md\n",
      "\t _build/html/2211.03641.md\n",
      "\t _build/html/2211.02502.md\n",
      "\t _build/html/2211.01474.md\n",
      "\t _build/html/2211.00667.md\n",
      "\t _build/html/2211.00657.md\n",
      "\t _build/html/2211.00087.md\n",
      "\t _build/html/2211.00036.md\n",
      "\t _build/html/2211.00020.md\n",
      "\t _build/html/2211.00010.md\n",
      "\t _build/html/2210.17434.md\n",
      "\t _build/html/2210.12412.md\n",
      "\t _build/html/2210.11926.md\n",
      "\t _build/html/2210.11551.md\n",
      "\t _build/html/2210.11103.md\n",
      "\t _build/html/2210.10707.md\n",
      "\t _build/html/2210.09930.md\n",
      "\t _build/html/2210.08996.md\n",
      "\t _build/html/2210.08517.md\n",
      "\t _build/html/2210.08510.md\n",
      "\t _build/html/2210.08078.md\n",
      "\t _build/html/2210.06504.md\n",
      "\t _build/html/2210.05695.md\n",
      "\t _build/html/2210.05595.md\n",
      "\t _build/html/2210.05505.md\n",
      "\t _build/html/2210.04721.md\n",
      "\t _build/html/2210.03615.md\n",
      "\t _build/html/2210.01811.md\n",
      "\t _build/html/2210.01809.md\n",
      "\t _build/html/2210.01556.md\n",
      "\t _build/html/2210.00863.md\n",
      "\t _build/html/2210.00560.md\n",
      "\t _build/html/2209.15403.md\n",
      "\t _build/html/2209.15110.md\n",
      "\t _build/html/2209.14410.md\n",
      "\t _build/html/2209.14396.md\n",
      "\t _build/html/2209.13717.md\n",
      "\t _build/html/2209.13336.md\n",
      "\t _build/html/2209.12906.md\n",
      "\t _build/html/2209.11781.md\n",
      "\t _build/html/2209.11602.md\n",
      "\t _build/html/2209.11248.md\n",
      "\t _build/html/2209.11096.md\n",
      "\t _build/html/2209.10618.md\n",
      "\t _build/html/2209.09914.md\n",
      "\t _build/html/2209.09823.md\n",
      "\t _build/html/2209.08242.md\n",
      "\t _build/html/2209.08120.md\n",
      "\t _build/html/2209.08106.md\n",
      "\t _build/html/2209.07962.md\n",
      "\t _build/html/2209.07931.md\n",
      "\t _build/html/2209.06833.md\n",
      "\t _build/html/2209.05814.md\n",
      "\t _build/html/2209.05593.md\n",
      "\t _build/html/2209.04304.md\n",
      "\t _build/html/2209.03367.md\n",
      "\t _build/html/2209.02872.md\n",
      "\t _build/html/2209.02725.md\n",
      "\t _build/html/2209.02722.md\n",
      "\t _build/html/2209.02092.md\n",
      "\t _build/html/2209.01125.md\n",
      "\t _build/html/2209.00828.md\n",
      "\t _build/html/2209.00363.md\n",
      "\t _build/html/2208.14927.md\n",
      "\t _build/html/2208.09335.md\n",
      "\t _build/html/2208.08872.md\n",
      "\t _build/html/2204.06393.md\n",
      "\t _build/html/2204.03335.md\n",
      "\t _build/html/2204.03253.md\n",
      "\t _build/html/2204.02998.md\n",
      "\t _build/html/2204.02109.md\n",
      "\t _build/html/2204.02017.md\n",
      "\t _build/html/2204.01824.md\n",
      "\t _build/html/2204.01758.md\n",
      "\t _build/html/2204.01245.md\n",
      "\t _build/html/2204.00793.md\n",
      "\t _build/html/2204.00342.md\n",
      "\t _build/html/2203.16959.md\n",
      "\t _build/html/2203.16856.md\n",
      "\t _build/html/2203.16735.md\n",
      "\t _build/html/2203.16734.md\n",
      "\t _build/html/2203.16504.md\n",
      "\t _build/html/2203.15822.md\n",
      "\t _build/html/2203.15811.md\n"
     ]
    }
   ],
   "source": [
    "from datetime import datetime, timedelta, timezone\n",
    "from glob import glob\n",
    "\n",
    "files = glob('_build/html/*.md')\n",
    "days = 7\n",
    "now = datetime.today()\n",
    "res = []\n",
    "for fk in files:\n",
    "    stat_result = os.stat(fk).st_ctime\n",
    "    modified = datetime.fromtimestamp(stat_result, tz=timezone.utc).replace(tzinfo=None)\n",
    "    delta = now.today() - modified\n",
    "    if delta <= timedelta(days=days):\n",
    "        res.append((delta.seconds, fk))\n",
    "res = [k[1] for k in reversed(sorted(res, key=lambda x:x[1]))]\n",
    "npub = len(res)\n",
    "print(len(res), f\" publications in the last {days:d} days.\")\n",
    "[ print('\\t', k) for k in res ];"
   ]
  },
  {
   "cell_type": "code",
   "execution_count": 11,
   "id": "015de740",
   "metadata": {
    "execution": {
     "iopub.execute_input": "2023-02-21T04:11:00.065346Z",
     "iopub.status.busy": "2023-02-21T04:11:00.064642Z",
     "iopub.status.idle": "2023-02-21T04:11:00.090606Z",
     "shell.execute_reply": "2023-02-21T04:11:00.089886Z"
    },
    "papermill": {
     "duration": 0.042862,
     "end_time": "2023-02-21T04:11:00.092284",
     "exception": false,
     "start_time": "2023-02-21T04:11:00.049422",
     "status": "completed"
    },
    "tags": []
   },
   "outputs": [
    {
     "name": "stdout",
     "output_type": "stream",
     "text": [
      "13  publications in the last 7 days.\n"
     ]
    }
   ],
   "source": [
    "import datetime\n",
    "from glob import glob\n",
    "\n",
    "def get_last_n_days(lst, days=1):\n",
    "    \"\"\" Get the documents from the last n days \"\"\"\n",
    "    sorted_lst = sorted(lst, key=lambda x: x[1], reverse=True)\n",
    "    for fname, date in sorted_lst:\n",
    "        if date >= str(datetime.date.today() - datetime.timedelta(days=days)):\n",
    "            yield fname\n",
    "\n",
    "def extract_appearance_dates(lst_file):\n",
    "    dates = []\n",
    "\n",
    "    def get_date(line):\n",
    "        return line\\\n",
    "            .split('Appeared on:')[-1]\\\n",
    "            .split('</mark>')[0].strip()\n",
    "\n",
    "    for fname in lst:\n",
    "        with open(fname, 'r') as f:\n",
    "            found_date = False\n",
    "            for line in f:\n",
    "                if not found_date:\n",
    "                    if \"Appeared on\" in line:\n",
    "                        found_date = True\n",
    "                        dates.append((fname, get_date(line)))\n",
    "                else:\n",
    "                    break\n",
    "    return dates\n",
    "\n",
    "from glob import glob\n",
    "lst = glob('_build/html/*md')\n",
    "days = 7\n",
    "dates = extract_appearance_dates(lst)\n",
    "res = list(get_last_n_days(dates, days))\n",
    "npub = len(res)\n",
    "print(len(res), f\" publications in the last {days:d} days.\")"
   ]
  },
  {
   "cell_type": "code",
   "execution_count": 12,
   "id": "52ca0208",
   "metadata": {
    "execution": {
     "iopub.execute_input": "2023-02-21T04:11:00.124677Z",
     "iopub.status.busy": "2023-02-21T04:11:00.124410Z",
     "iopub.status.idle": "2023-02-21T04:11:00.131602Z",
     "shell.execute_reply": "2023-02-21T04:11:00.130953Z"
    },
    "papermill": {
     "duration": 0.024345,
     "end_time": "2023-02-21T04:11:00.133105",
     "exception": false,
     "start_time": "2023-02-21T04:11:00.108760",
     "status": "completed"
    },
    "scrolled": false,
    "tags": []
   },
   "outputs": [],
   "source": [
    "def create_carousel(npub=4):\n",
    "    \"\"\" Generate the HTML code for a carousel with `npub` slides \"\"\"\n",
    "    carousel = [\"\"\"<section class=\"carousel\" aria-label=\"Gallery\">\"\"\",\n",
    "                \"\"\"  <ol class=\"carousel__viewport\">\"\"\",\n",
    "    ]\n",
    "    for k in range(1, npub + 1):\n",
    "        prev_ = k - 1\n",
    "        next_ = k + 1\n",
    "        if prev_ <= 0:\n",
    "            prev_ = npub\n",
    "        if next_ > npub:\n",
    "            next_ = 1\n",
    "        text  = f\"\"\"    <li id=\"carousel__slide{k}\" tabindex=\"0\" class=\"carousel__slide\">\\n\"\"\"\n",
    "        text += f\"\"\"       <div class=\"carousel__snapper\">\\n\"\"\"\n",
    "        text += f\"\"\"         <a href=\"#carousel__slide{prev_}\" class=\"carousel__prev\">Go to previous slide</a>\\n\"\"\"\n",
    "        text += f\"\"\"         <a href=\"#carousel__slide{next_}\" class=\"carousel__next\">Go to next slide</a>\\n\"\"\"\n",
    "        text += f\"\"\"         <div id=\"slide{k}_content\" class=\"md_view\" >Content {k}</div>\\n\"\"\"\n",
    "        text += f\"\"\"       </div>\\n\"\"\"\n",
    "        text += f\"\"\"    </li>\"\"\"\n",
    "        carousel.append(text)\n",
    "\n",
    "    carousel.extend([\n",
    "        \"\"\"  </ol>\"\"\",\n",
    "        \"\"\"  <aside class=\"carousel__navigation\">\"\"\",\n",
    "        \"\"\"    <ol class=\"carousel__navigation-list\">\"\"\"])\n",
    "\n",
    "    for k in range(1, npub + 1):\n",
    "        text  = f\"\"\"      <li class=\"carousel__navigation-item\">\\n\"\"\"\n",
    "        text += f\"\"\"        <a href=\"#carousel__slide{k}\" class=\"carousel__navigation-button\">Go to {k}</a>\\n\"\"\"\n",
    "        text += f\"\"\"      </li>\"\"\"\n",
    "        carousel.append(text)\n",
    "    carousel.extend([\"\"\"    </ol>\"\"\", \"\"\"  </aside>\"\"\", \"\"\"</section>\"\"\"])\n",
    "\n",
    "    return '\\n'.join(carousel)"
   ]
  },
  {
   "cell_type": "code",
   "execution_count": 13,
   "id": "a6eac5b6",
   "metadata": {
    "execution": {
     "iopub.execute_input": "2023-02-21T04:11:00.163381Z",
     "iopub.status.busy": "2023-02-21T04:11:00.163142Z",
     "iopub.status.idle": "2023-02-21T04:11:00.169802Z",
     "shell.execute_reply": "2023-02-21T04:11:00.169134Z"
    },
    "papermill": {
     "duration": 0.025208,
     "end_time": "2023-02-21T04:11:00.173228",
     "exception": false,
     "start_time": "2023-02-21T04:11:00.148020",
     "status": "completed"
    },
    "scrolled": false,
    "tags": []
   },
   "outputs": [],
   "source": [
    "carousel = create_carousel(npub)\n",
    "docs = ', '.join(['\"{0:s}\"'.format(k.split('/')[-1]) for k in res])\n",
    "slides = ', '.join([f'\"slide{k}_content\"' for k in range(1, npub + 1)])\n",
    "\n",
    "script = f\"\"\"\n",
    "const docs = [{docs}]\n",
    "\n",
    "const slides = [{slides}]\n",
    "\"\"\" + \"\"\"\n",
    "async function run() {\n",
    "    for (let i = 0; i < docs.length; i++) {\n",
    "        let file = await fetch(docs[i]);\n",
    "        let text = await file.text()\n",
    "        document.getElementById(slides[i]).innerHTML =\n",
    "            marked.parse(text);\n",
    "    }\n",
    "    hljs.highlightAll();\n",
    "}\n",
    "run()\n",
    "\"\"\"\n",
    "\n",
    "page = f\"\"\"<!doctype html>\n",
    "<html lang=\"en\">\n",
    "\n",
    "<head>\n",
    "  <meta charset=\"utf-8\">\n",
    "  <meta name=\"viewport\" content=\"width=device-width, initial-scale=1\">\n",
    "  <!-- Bootstrap CSS -->\n",
    "  <link href=\"https://cdn.jsdelivr.net/npm/bootstrap@5.0.2/dist/css/bootstrap.min.css\" rel=\"stylesheet\"\n",
    "   integrity=\"sha384-EVSTQN3/azprG1Anm3QDgpJLIm9Nao0Yz1ztcQTwFspd3yD65VohhpuuCOmLASjC\" crossorigin=\"anonymous\">\n",
    "  <!-- highlight.js CSS -->\n",
    "  <link rel=\"stylesheet\" href=\"https://cdnjs.cloudflare.com/ajax/libs/highlight.js/11.1.0/styles/default.min.css\">\n",
    "  <!-- Mathjax 3 -->\n",
    "  <script type=\"text/javascript\" id=\"MathJax-config\" src=\"mathjax_config.js\"> </script>\n",
    "  <script type=\"text/javascript\" id=\"MathJax-script\" async \n",
    "    src=\"https://cdn.jsdelivr.net/npm/mathjax@3/es5/tex-mml-chtml.js\">\n",
    "  </script>\n",
    "  <link rel=\"stylesheet\" href=\"index_carousel.css\">\n",
    "  <link rel=\"icon\" type=\"image/x-icon\" href=\"https://www.mpia.de/assets/touch-icon-32x32-a66937bcebc4e8894ebff1f41a366c7c7220fd97a38869ee0f2db65a9f59b6c1.png\">\n",
    "  <title>MPIA Arxiv on deck!</title>\n",
    "</head>\n",
    "\n",
    "<body>\n",
    "  <div id=\"header\"> <img src=\"header_banner.png\" width=\"100%\"></div>\n",
    "  <div id=\"suptitle\"> 7-day archives </div>\n",
    "  <div id=\"info\">\n",
    "    <img src=\"https://pngimg.com/uploads/github/github_PNG58.png\" height=30rem></img>\n",
    "    <a href=https://github.com/mpi-astronomy/arxiv_display style=\"color:black;\">github/mpi-astronomy/arxiv_display</a> \n",
    "  </div>\n",
    "  {carousel:s}\n",
    "</body>\n",
    "\n",
    "<!-- Render Markdown -->\n",
    "\n",
    "<body>\n",
    "  <!-- highlight.js: https://highlightjs.org/download/ -->\n",
    "  <script src=\"https://cdnjs.cloudflare.com/ajax/libs/highlight.js/11.5.0/highlight.min.js\"></script>\n",
    "  <!-- marked.js -->\n",
    "  <script src=\"https://cdn.jsdelivr.net/npm/marked/marked.min.js\"></script>\n",
    "  <script>{script:s}</script>\n",
    "</body>\n",
    "</html>\n",
    "\"\"\"\n",
    "with open(\"_build/html/index_7days.html\", 'w') as fout:\n",
    "    fout.write(page)"
   ]
  },
  {
   "cell_type": "code",
   "execution_count": 14,
   "id": "adc1a1ec",
   "metadata": {
    "execution": {
     "iopub.execute_input": "2023-02-21T04:11:00.202685Z",
     "iopub.status.busy": "2023-02-21T04:11:00.202411Z",
     "iopub.status.idle": "2023-02-21T04:11:00.210363Z",
     "shell.execute_reply": "2023-02-21T04:11:00.209874Z"
    },
    "papermill": {
     "duration": 0.024495,
     "end_time": "2023-02-21T04:11:00.211730",
     "exception": false,
     "start_time": "2023-02-21T04:11:00.187235",
     "status": "completed"
    },
    "tags": []
   },
   "outputs": [
    {
     "name": "stdout",
     "output_type": "stream",
     "text": [
      "4  publications in the last day.\n"
     ]
    }
   ],
   "source": [
    "# redo for today\n",
    "days = 1\n",
    "res = list(get_last_n_days(dates, days))\n",
    "npub = len(res)\n",
    "print(len(res), f\" publications in the last day.\")\n",
    "\n",
    "carousel = create_carousel(npub)\n",
    "docs = ', '.join(['\"{0:s}\"'.format(k.split('/')[-1]) for k in res])\n",
    "slides = ', '.join([f'\"slide{k}_content\"' for k in range(1, npub + 1)])\n",
    "\n",
    "script = f\"\"\"\n",
    "const docs = [{docs}]\n",
    "\n",
    "const slides = [{slides}]\n",
    "\"\"\" + \"\"\"\n",
    "async function run() {\n",
    "    for (let i = 0; i < docs.length; i++) {\n",
    "        let file = await fetch(docs[i]);\n",
    "        let text = await file.text()\n",
    "        document.getElementById(slides[i]).innerHTML =\n",
    "            marked.parse(text);\n",
    "    }\n",
    "    hljs.highlightAll();\n",
    "}\n",
    "run()\n",
    "\"\"\"\n",
    "\n",
    "page = f\"\"\"<!doctype html>\n",
    "<html lang=\"en\">\n",
    "\n",
    "<head>\n",
    "  <meta charset=\"utf-8\">\n",
    "  <meta name=\"viewport\" content=\"width=device-width, initial-scale=1\">\n",
    "  <!-- Bootstrap CSS -->\n",
    "  <link href=\"https://cdn.jsdelivr.net/npm/bootstrap@5.0.2/dist/css/bootstrap.min.css\" rel=\"stylesheet\"\n",
    "   integrity=\"sha384-EVSTQN3/azprG1Anm3QDgpJLIm9Nao0Yz1ztcQTwFspd3yD65VohhpuuCOmLASjC\" crossorigin=\"anonymous\">\n",
    "  <!-- highlight.js CSS -->\n",
    "  <link rel=\"stylesheet\" href=\"https://cdnjs.cloudflare.com/ajax/libs/highlight.js/11.1.0/styles/default.min.css\">\n",
    "  <!-- Mathjax 3 -->\n",
    "  <script type=\"text/javascript\" id=\"MathJax-config\" src=\"mathjax_config.js\"> </script>\n",
    "  <script type=\"text/javascript\" id=\"MathJax-script\" async \n",
    "    src=\"https://cdn.jsdelivr.net/npm/mathjax@3/es5/tex-mml-chtml.js\">\n",
    "  </script>\n",
    "  <link rel=\"stylesheet\" href=\"index_carousel.css\">\n",
    "  <link rel=\"icon\" type=\"image/x-icon\" href=\"https://www.mpia.de/assets/touch-icon-32x32-a66937bcebc4e8894ebff1f41a366c7c7220fd97a38869ee0f2db65a9f59b6c1.png\">\n",
    "  <title>MPIA Arxiv on deck!</title>\n",
    "</head>\n",
    "\n",
    "<body>\n",
    "  <div id=\"header\"> <img src=\"header_banner.png\" width=\"100%\"></div>\n",
    "  <div id=\"suptitle\"> daily </div>\n",
    "  <div id=\"info\">\n",
    "    <img src=\"https://pngimg.com/uploads/github/github_PNG58.png\" height=30rem></img>\n",
    "    <a href=https://github.com/mpi-astronomy/arxiv_display style=\"color:black;\">github/mpi-astronomy/arxiv_display</a> \n",
    "  </div>\n",
    "  {carousel:s}\n",
    "</body>\n",
    "\n",
    "<!-- Render Markdown -->\n",
    "\n",
    "<body>\n",
    "  <!-- highlight.js: https://highlightjs.org/download/ -->\n",
    "  <script src=\"https://cdnjs.cloudflare.com/ajax/libs/highlight.js/11.5.0/highlight.min.js\"></script>\n",
    "  <!-- marked.js -->\n",
    "  <script src=\"https://cdn.jsdelivr.net/npm/marked/marked.min.js\"></script>\n",
    "  <script>{script:s}</script>\n",
    "</body>\n",
    "</html>\n",
    "\"\"\"\n",
    "with open(\"_build/html/index_daily.html\", 'w') as fout:\n",
    "    fout.write(page)"
   ]
  },
  {
   "cell_type": "markdown",
   "id": "1cebacbc",
   "metadata": {
    "papermill": {
     "duration": 0.013869,
     "end_time": "2023-02-21T04:11:00.239621",
     "exception": false,
     "start_time": "2023-02-21T04:11:00.225752",
     "status": "completed"
    },
    "tags": []
   },
   "source": [
    "# Debugging papers"
   ]
  },
  {
   "cell_type": "raw",
   "id": "debe7cc6",
   "metadata": {
    "papermill": {
     "duration": 0.013999,
     "end_time": "2023-02-21T04:11:00.267820",
     "exception": false,
     "start_time": "2023-02-21T04:11:00.253821",
     "status": "completed"
    },
    "tags": []
   },
   "source": [
    "raise NotImplementedError(\"Manual Stop\")"
   ]
  },
  {
   "cell_type": "raw",
   "id": "eb169192",
   "metadata": {
    "papermill": {
     "duration": 0.013852,
     "end_time": "2023-02-21T04:11:00.295592",
     "exception": false,
     "start_time": "2023-02-21T04:11:00.281740",
     "status": "completed"
    },
    "scrolled": true,
    "tags": []
   },
   "source": [
    "from IPython.display import display, Markdown\n",
    "from TexSoup import TexSoup\n",
    "import re\n",
    "\n",
    "def bracket_error(source: str):\n",
    "    \"\"\" Find problematic portions of the document \"\"\"\n",
    "    \n",
    "    print(\"len(source)\", len(source))\n",
    "    \n",
    "    # Checking header\n",
    "    begin_doc = next(re.finditer(r'\\\\begin\\{document\\}', doc.source)).span()[1]\n",
    "    header = source[:begin_doc]\n",
    "    text = header + r\"\\n\\end{document}\"\n",
    "\n",
    "    try:\n",
    "        # print(\"Header check... \", end='')\n",
    "        TexSoup(text)\n",
    "        display(Markdown(f\"**[OK]** - Header\"))\n",
    "    except:\n",
    "        raise RuntimeError(\"Error in the header\")\n",
    "        \n",
    "    # Check the text per section until the end.\n",
    "    # Do not stop and try them all.\n",
    "    \n",
    "    problematic_text = []\n",
    "    \n",
    "    sections = ([(0, begin_doc, 'until first section')] + \n",
    "                [(g.span()[0], g.span()[1], g.group()) for g in re.finditer(r'\\\\section\\{.*\\}', source)] +\n",
    "                [(g.span()[0], g.span()[1], g.group()) for g in re.finditer(r'\\\\begin\\{appendix\\}', source)]\n",
    "               )\n",
    "    sections.append([len(source), len(source), 'end'])\n",
    "    \n",
    "    sections = sorted(sections, key=lambda x: x[0])\n",
    "    \n",
    "    prev_pos, prev_name = (0, 'header')\n",
    "    parsed = []\n",
    "    \n",
    "    for span, span_end, name in sections:\n",
    "\n",
    "        if span - prev_pos <= 0:\n",
    "            continue\n",
    "            \n",
    "\n",
    "        text = source[prev_pos:span]\n",
    "        if prev_pos > begin_doc:\n",
    "            text = r\"\\n\\begin{document}\" + text + r\"\\n\\end{document}\"\n",
    "        else:\n",
    "            text = text + r\"\\n\\end{document}\"\n",
    "        try:\n",
    "            #print(f\"{prev_pos}:{prev_name}-->{span}:{name} check... \", end='')\n",
    "            parsed.append(TexSoup(text, tolerance=1))  # allow not ending env\n",
    "            display(Markdown(f\"**[OK]** - *{prev_pos}*:{prev_name} &rarr; *{span}*:{name}\"))\n",
    "            # print(\"ok\")\n",
    "\n",
    "            prev_pos = span\n",
    "            prev_name = name\n",
    "        except:\n",
    "            # print(f\"error between {prev_pos} and {span}\")\n",
    "            display(Markdown(f\"**[ERR]** *{prev_pos}*:{prev_name} &rarr; *{span}*:{name}\"))\n",
    "            problematic_text.append((prev_pos, source[prev_pos:span]))\n",
    "            prev_pos = span\n",
    "            prev_name = name\n",
    "            # raise\n",
    "    return problematic_text, parsed\n",
    "\n",
    "\n",
    "def check_environment(text, offset=0):\n",
    "    \"\"\" Check environment \"\"\"\n",
    "    env = re.compile(r\"\\\\begin\\{(?P<env>.*)\\}(.*)\\\\end\\{(?P=env)\\}\", re.DOTALL)\n",
    "\n",
    "    for match in env.finditer(text):\n",
    "        beg, end = match.span()\n",
    "        beg += offset\n",
    "        end += offset\n",
    "        envname = match.groups()[0]\n",
    "        try:\n",
    "            latex.TexSoup(match.group())\n",
    "        except Exception as e:\n",
    "            display(e)\n",
    "            print(f\"Error in {envname:s} between {beg} and {end}\")\n",
    "            return match.groups()[1], beg, end"
   ]
  },
  {
   "cell_type": "raw",
   "id": "2315e835",
   "metadata": {
    "papermill": {
     "duration": 0.01413,
     "end_time": "2023-02-21T04:11:00.323756",
     "exception": false,
     "start_time": "2023-02-21T04:11:00.309626",
     "status": "completed"
    },
    "scrolled": false,
    "tags": []
   },
   "source": [
    "import importlib\n",
    "importlib.reload(latex)\n",
    "which = \"2204.03253\"\n",
    "paper_id = f'{which:s}'\n",
    "folder = f'tmp_{paper_id:s}'\n",
    "\n",
    "if not os.path.isdir(folder):\n",
    "    folder = retrieve_document_source(f\"{paper_id}\", f'tmp_{paper_id}')\n",
    "\n",
    "try:\n",
    "    doc = latex.LatexDocument(folder, validation=validation)    \n",
    "except AffiliationError as affilerror:\n",
    "    msg = f\"ArXiv:{paper_id:s} is not an MPIA paper... \" + str(affilerror)\n",
    "    print(msg)\n",
    "\n",
    "\n",
    "# Hack because sometimes author parsing does not work well\n",
    "if (len(doc.authors) != len(paper['authors'])):\n",
    "    doc._authors = paper['authors']\n",
    "if (doc.abstract) in (None, ''):\n",
    "    doc._abstract = paper['abstract']\n",
    "\n",
    "doc.comment = get_markdown_badge(paper_id) + \" _\" + paper['comments'] + \"_\"\n",
    "doc.highlight_authors_in_list(hl_list)\n",
    "\n",
    "full_md = doc.generate_markdown_text()"
   ]
  },
  {
   "cell_type": "raw",
   "id": "dd3781db",
   "metadata": {
    "papermill": {
     "duration": 0.013946,
     "end_time": "2023-02-21T04:11:00.351547",
     "exception": false,
     "start_time": "2023-02-21T04:11:00.337601",
     "status": "completed"
    },
    "scrolled": false,
    "tags": []
   },
   "source": [
    "doc"
   ]
  },
  {
   "cell_type": "raw",
   "id": "c6eed834",
   "metadata": {
    "papermill": {
     "duration": 0.01409,
     "end_time": "2023-02-21T04:11:00.379570",
     "exception": false,
     "start_time": "2023-02-21T04:11:00.365480",
     "status": "completed"
    },
    "tags": []
   },
   "source": [
    "# [check_environment(k) for k in bracket_error(doc.source)]\n",
    "_, _, a = latex.get_content_per_section(doc.source, verbose=True)\n",
    "if not a:\n",
    "    print(\"no issues per section\")\n",
    "for ak in a:\n",
    "    r = check_environment(ak[1], offset=ak[0])\n",
    "    print(r[1], r[2])\n",
    "    print(r[0])"
   ]
  },
  {
   "cell_type": "code",
   "execution_count": null,
   "id": "71ce768a",
   "metadata": {
    "papermill": {
     "duration": 0.013862,
     "end_time": "2023-02-21T04:11:00.407354",
     "exception": false,
     "start_time": "2023-02-21T04:11:00.393492",
     "status": "completed"
    },
    "tags": []
   },
   "outputs": [],
   "source": []
  }
 ],
 "metadata": {
  "kernelspec": {
   "display_name": "Python 3 (ipykernel)",
   "language": "python",
   "name": "python3"
  },
  "language_info": {
   "codemirror_mode": {
    "name": "ipython",
    "version": 3
   },
   "file_extension": ".py",
   "mimetype": "text/x-python",
   "name": "python",
   "nbconvert_exporter": "python",
   "pygments_lexer": "ipython3",
   "version": "3.9.16"
  },
  "papermill": {
   "default_parameters": {},
   "duration": 190.673018,
   "end_time": "2023-02-21T04:11:00.640405",
   "environment_variables": {},
   "exception": null,
   "input_path": "MPIA daily digest.ipynb",
   "output_path": "log.ipynb",
   "parameters": {},
   "start_time": "2023-02-21T04:07:49.967387",
   "version": "2.4.0"
  },
  "vscode": {
   "interpreter": {
    "hash": "aee8b7b246df8f9039afb4144a1f6fd8d2ca17a180786b69acc140d282b71a49"
   }
  },
  "widgets": {
   "application/vnd.jupyter.widget-state+json": {
    "state": {
     "31704be2394240e89f852a171f973246": {
      "model_module": "@jupyter-widgets/base",
      "model_module_version": "2.0.0",
      "model_name": "LayoutModel",
      "state": {
       "_model_module": "@jupyter-widgets/base",
       "_model_module_version": "2.0.0",
       "_model_name": "LayoutModel",
       "_view_count": null,
       "_view_module": "@jupyter-widgets/base",
       "_view_module_version": "2.0.0",
       "_view_name": "LayoutView",
       "align_content": null,
       "align_items": null,
       "align_self": null,
       "border_bottom": null,
       "border_left": null,
       "border_right": null,
       "border_top": null,
       "bottom": null,
       "display": null,
       "flex": null,
       "flex_flow": null,
       "grid_area": null,
       "grid_auto_columns": null,
       "grid_auto_flow": null,
       "grid_auto_rows": null,
       "grid_column": null,
       "grid_gap": null,
       "grid_row": null,
       "grid_template_areas": null,
       "grid_template_columns": null,
       "grid_template_rows": null,
       "height": null,
       "justify_content": null,
       "justify_items": null,
       "left": null,
       "margin": null,
       "max_height": null,
       "max_width": null,
       "min_height": null,
       "min_width": null,
       "object_fit": null,
       "object_position": null,
       "order": null,
       "overflow": null,
       "padding": null,
       "right": null,
       "top": null,
       "visibility": null,
       "width": null
      }
     },
     "4d07816828aa4431b3ec52bbffe8bf11": {
      "model_module": "@jupyter-widgets/base",
      "model_module_version": "2.0.0",
      "model_name": "LayoutModel",
      "state": {
       "_model_module": "@jupyter-widgets/base",
       "_model_module_version": "2.0.0",
       "_model_name": "LayoutModel",
       "_view_count": null,
       "_view_module": "@jupyter-widgets/base",
       "_view_module_version": "2.0.0",
       "_view_name": "LayoutView",
       "align_content": null,
       "align_items": null,
       "align_self": null,
       "border_bottom": null,
       "border_left": null,
       "border_right": null,
       "border_top": null,
       "bottom": null,
       "display": null,
       "flex": null,
       "flex_flow": null,
       "grid_area": null,
       "grid_auto_columns": null,
       "grid_auto_flow": null,
       "grid_auto_rows": null,
       "grid_column": null,
       "grid_gap": null,
       "grid_row": null,
       "grid_template_areas": null,
       "grid_template_columns": null,
       "grid_template_rows": null,
       "height": null,
       "justify_content": null,
       "justify_items": null,
       "left": null,
       "margin": null,
       "max_height": null,
       "max_width": null,
       "min_height": null,
       "min_width": null,
       "object_fit": null,
       "object_position": null,
       "order": null,
       "overflow": null,
       "padding": null,
       "right": null,
       "top": null,
       "visibility": null,
       "width": null
      }
     },
     "624866f0670a4826b4b08962d03f64f8": {
      "model_module": "@jupyter-widgets/controls",
      "model_module_version": "2.0.0",
      "model_name": "HBoxModel",
      "state": {
       "_dom_classes": [],
       "_model_module": "@jupyter-widgets/controls",
       "_model_module_version": "2.0.0",
       "_model_name": "HBoxModel",
       "_view_count": null,
       "_view_module": "@jupyter-widgets/controls",
       "_view_module_version": "2.0.0",
       "_view_name": "HBoxView",
       "box_style": "",
       "children": [
        "IPY_MODEL_f96b9da3a10d4209a8231512ab3edebd",
        "IPY_MODEL_d9bc9ba4b65845d0a0c7ed80c83bf55d",
        "IPY_MODEL_fe394f1c56124b5eb19d9fd78139d7ce"
       ],
       "layout": "IPY_MODEL_4d07816828aa4431b3ec52bbffe8bf11",
       "tabbable": null,
       "tooltip": null
      }
     },
     "a95a607bff004b07a62d3eef23ab6a67": {
      "model_module": "@jupyter-widgets/controls",
      "model_module_version": "2.0.0",
      "model_name": "HTMLStyleModel",
      "state": {
       "_model_module": "@jupyter-widgets/controls",
       "_model_module_version": "2.0.0",
       "_model_name": "HTMLStyleModel",
       "_view_count": null,
       "_view_module": "@jupyter-widgets/base",
       "_view_module_version": "2.0.0",
       "_view_name": "StyleView",
       "background": null,
       "description_width": "",
       "font_size": null,
       "text_color": null
      }
     },
     "b0087b101d7a4d7abb99adeee5c462c7": {
      "model_module": "@jupyter-widgets/base",
      "model_module_version": "2.0.0",
      "model_name": "LayoutModel",
      "state": {
       "_model_module": "@jupyter-widgets/base",
       "_model_module_version": "2.0.0",
       "_model_name": "LayoutModel",
       "_view_count": null,
       "_view_module": "@jupyter-widgets/base",
       "_view_module_version": "2.0.0",
       "_view_name": "LayoutView",
       "align_content": null,
       "align_items": null,
       "align_self": null,
       "border_bottom": null,
       "border_left": null,
       "border_right": null,
       "border_top": null,
       "bottom": null,
       "display": null,
       "flex": null,
       "flex_flow": null,
       "grid_area": null,
       "grid_auto_columns": null,
       "grid_auto_flow": null,
       "grid_auto_rows": null,
       "grid_column": null,
       "grid_gap": null,
       "grid_row": null,
       "grid_template_areas": null,
       "grid_template_columns": null,
       "grid_template_rows": null,
       "height": null,
       "justify_content": null,
       "justify_items": null,
       "left": null,
       "margin": null,
       "max_height": null,
       "max_width": null,
       "min_height": null,
       "min_width": null,
       "object_fit": null,
       "object_position": null,
       "order": null,
       "overflow": null,
       "padding": null,
       "right": null,
       "top": null,
       "visibility": null,
       "width": null
      }
     },
     "d086665f4bac4e1482ecd2913b4a77eb": {
      "model_module": "@jupyter-widgets/controls",
      "model_module_version": "2.0.0",
      "model_name": "ProgressStyleModel",
      "state": {
       "_model_module": "@jupyter-widgets/controls",
       "_model_module_version": "2.0.0",
       "_model_name": "ProgressStyleModel",
       "_view_count": null,
       "_view_module": "@jupyter-widgets/base",
       "_view_module_version": "2.0.0",
       "_view_name": "StyleView",
       "bar_color": null,
       "description_width": ""
      }
     },
     "d0e45e6c175849c993537280b6ee1573": {
      "model_module": "@jupyter-widgets/controls",
      "model_module_version": "2.0.0",
      "model_name": "HTMLStyleModel",
      "state": {
       "_model_module": "@jupyter-widgets/controls",
       "_model_module_version": "2.0.0",
       "_model_name": "HTMLStyleModel",
       "_view_count": null,
       "_view_module": "@jupyter-widgets/base",
       "_view_module_version": "2.0.0",
       "_view_name": "StyleView",
       "background": null,
       "description_width": "",
       "font_size": null,
       "text_color": null
      }
     },
     "d9bc9ba4b65845d0a0c7ed80c83bf55d": {
      "model_module": "@jupyter-widgets/controls",
      "model_module_version": "2.0.0",
      "model_name": "FloatProgressModel",
      "state": {
       "_dom_classes": [],
       "_model_module": "@jupyter-widgets/controls",
       "_model_module_version": "2.0.0",
       "_model_name": "FloatProgressModel",
       "_view_count": null,
       "_view_module": "@jupyter-widgets/controls",
       "_view_module_version": "2.0.0",
       "_view_name": "ProgressView",
       "bar_style": "success",
       "description": "",
       "description_allow_html": false,
       "layout": "IPY_MODEL_fe24d3c45cf54701aa9a9d6467d09697",
       "max": 32.0,
       "min": 0.0,
       "orientation": "horizontal",
       "style": "IPY_MODEL_d086665f4bac4e1482ecd2913b4a77eb",
       "tabbable": null,
       "tooltip": null,
       "value": 32.0
      }
     },
     "f96b9da3a10d4209a8231512ab3edebd": {
      "model_module": "@jupyter-widgets/controls",
      "model_module_version": "2.0.0",
      "model_name": "HTMLModel",
      "state": {
       "_dom_classes": [],
       "_model_module": "@jupyter-widgets/controls",
       "_model_module_version": "2.0.0",
       "_model_name": "HTMLModel",
       "_view_count": null,
       "_view_module": "@jupyter-widgets/controls",
       "_view_module_version": "2.0.0",
       "_view_name": "HTMLView",
       "description": "",
       "description_allow_html": false,
       "layout": "IPY_MODEL_b0087b101d7a4d7abb99adeee5c462c7",
       "placeholder": "​",
       "style": "IPY_MODEL_a95a607bff004b07a62d3eef23ab6a67",
       "tabbable": null,
       "tooltip": null,
       "value": "100%"
      }
     },
     "fe24d3c45cf54701aa9a9d6467d09697": {
      "model_module": "@jupyter-widgets/base",
      "model_module_version": "2.0.0",
      "model_name": "LayoutModel",
      "state": {
       "_model_module": "@jupyter-widgets/base",
       "_model_module_version": "2.0.0",
       "_model_name": "LayoutModel",
       "_view_count": null,
       "_view_module": "@jupyter-widgets/base",
       "_view_module_version": "2.0.0",
       "_view_name": "LayoutView",
       "align_content": null,
       "align_items": null,
       "align_self": null,
       "border_bottom": null,
       "border_left": null,
       "border_right": null,
       "border_top": null,
       "bottom": null,
       "display": null,
       "flex": null,
       "flex_flow": null,
       "grid_area": null,
       "grid_auto_columns": null,
       "grid_auto_flow": null,
       "grid_auto_rows": null,
       "grid_column": null,
       "grid_gap": null,
       "grid_row": null,
       "grid_template_areas": null,
       "grid_template_columns": null,
       "grid_template_rows": null,
       "height": null,
       "justify_content": null,
       "justify_items": null,
       "left": null,
       "margin": null,
       "max_height": null,
       "max_width": null,
       "min_height": null,
       "min_width": null,
       "object_fit": null,
       "object_position": null,
       "order": null,
       "overflow": null,
       "padding": null,
       "right": null,
       "top": null,
       "visibility": null,
       "width": null
      }
     },
     "fe394f1c56124b5eb19d9fd78139d7ce": {
      "model_module": "@jupyter-widgets/controls",
      "model_module_version": "2.0.0",
      "model_name": "HTMLModel",
      "state": {
       "_dom_classes": [],
       "_model_module": "@jupyter-widgets/controls",
       "_model_module_version": "2.0.0",
       "_model_name": "HTMLModel",
       "_view_count": null,
       "_view_module": "@jupyter-widgets/controls",
       "_view_module_version": "2.0.0",
       "_view_name": "HTMLView",
       "description": "",
       "description_allow_html": false,
       "layout": "IPY_MODEL_31704be2394240e89f852a171f973246",
       "placeholder": "​",
       "style": "IPY_MODEL_d0e45e6c175849c993537280b6ee1573",
       "tabbable": null,
       "tooltip": null,
       "value": " 32/32 [02:40&lt;00:00,  3.94s/it]"
      }
     }
    },
    "version_major": 2,
    "version_minor": 0
   }
  }
 },
 "nbformat": 4,
 "nbformat_minor": 5
}