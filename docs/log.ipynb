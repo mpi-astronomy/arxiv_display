{
 "cells": [
  {
   "cell_type": "markdown",
   "id": "92bcb855",
   "metadata": {
    "papermill": {
     "duration": 0.003437,
     "end_time": "2025-10-31T04:14:16.273876",
     "exception": false,
     "start_time": "2025-10-31T04:14:16.270439",
     "status": "completed"
    },
    "tags": []
   },
   "source": [
    "# MPIA Arxiv on Deck 2\n",
    "\n",
    "Contains the steps to produce the paper extractions."
   ]
  },
  {
   "cell_type": "code",
   "execution_count": 1,
   "id": "3a0d6e11",
   "metadata": {
    "execution": {
     "iopub.execute_input": "2025-10-31T04:14:16.280675Z",
     "iopub.status.busy": "2025-10-31T04:14:16.280412Z",
     "iopub.status.idle": "2025-10-31T04:14:16.468664Z",
     "shell.execute_reply": "2025-10-31T04:14:16.468118Z"
    },
    "papermill": {
     "duration": 0.192891,
     "end_time": "2025-10-31T04:14:16.469792",
     "exception": false,
     "start_time": "2025-10-31T04:14:16.276901",
     "status": "completed"
    },
    "tags": []
   },
   "outputs": [],
   "source": [
    "# Imports\n",
    "import os\n",
    "from IPython.display import Markdown, display\n",
    "from tqdm.notebook import tqdm\n",
    "import warnings\n",
    "from PIL import Image \n",
    "import re\n",
    "\n",
    "# requires arxiv_on_deck_2\n",
    "\n",
    "from arxiv_on_deck_2.arxiv2 import (get_new_papers, \n",
    "                                    get_paper_from_identifier,\n",
    "                                    retrieve_document_source, \n",
    "                                    get_markdown_badge)\n",
    "from arxiv_on_deck_2 import (latex,\n",
    "                             latex_bib,\n",
    "                             mpia,\n",
    "                             highlight_authors_in_list)\n",
    "\n",
    "# Sometimes images are really big\n",
    "Image.MAX_IMAGE_PIXELS = 1000000000 "
   ]
  },
  {
   "cell_type": "code",
   "execution_count": 2,
   "id": "22aa9d44",
   "metadata": {
    "execution": {
     "iopub.execute_input": "2025-10-31T04:14:16.476421Z",
     "iopub.status.busy": "2025-10-31T04:14:16.476198Z",
     "iopub.status.idle": "2025-10-31T04:14:16.483278Z",
     "shell.execute_reply": "2025-10-31T04:14:16.482691Z"
    },
    "papermill": {
     "duration": 0.011422,
     "end_time": "2025-10-31T04:14:16.484224",
     "exception": false,
     "start_time": "2025-10-31T04:14:16.472802",
     "status": "completed"
    },
    "tags": []
   },
   "outputs": [],
   "source": [
    "# Some useful definitions.\n",
    "\n",
    "class AffiliationWarning(UserWarning):\n",
    "    pass\n",
    "\n",
    "class AffiliationError(RuntimeError):\n",
    "    pass\n",
    "\n",
    "def validation(source: str):\n",
    "    \"\"\"Raises error paper during parsing of source file\n",
    "    \n",
    "    Allows checks before parsing TeX code.\n",
    "    \n",
    "    Raises AffiliationWarning\n",
    "    \"\"\"\n",
    "    check = mpia.affiliation_verifications(source, verbose=True)\n",
    "    if check is not True:\n",
    "        raise AffiliationError(\"mpia.affiliation_verifications: \" + check)\n",
    "\n",
    "        \n",
    "warnings.simplefilter('always', AffiliationWarning)\n",
    "\n",
    "\n",
    "def get_markdown_qrcode(paper_id: str):\n",
    "    \"\"\" Generate a qrcode to the arxiv page using qrserver.com\n",
    "    \n",
    "    :param paper: Arxiv paper\n",
    "    :returns: markdown text\n",
    "    \"\"\"\n",
    "    url = r\"https://api.qrserver.com/v1/create-qr-code/?size=100x100&data=\"\n",
    "    txt = f\"\"\"<img src={url}\"https://arxiv.org/abs/{paper_id}\">\"\"\"\n",
    "    txt = '<div id=\"qrcode\">' + txt + '</div>'\n",
    "    return txt\n",
    "\n",
    "\n",
    "def clean_non_western_encoded_characters_commands(text: str) -> str:\n",
    "    \"\"\" Remove non-western encoded characters from a string\n",
    "    List may need to grow.\n",
    "    \n",
    "    :param text: the text to clean\n",
    "    :return: the cleaned text\n",
    "    \"\"\"\n",
    "    text = re.sub(r\"(\\\\begin{CJK}{UTF8}{gbsn})(.*?)(\\\\end{CJK})\", r\"\\2\", text)\n",
    "    return text\n",
    "\n",
    "\n",
    "def get_initials(name: str) -> str:\n",
    "    \"\"\" Get the short name, e.g., A.-B. FamName\n",
    "    :param name: full name\n",
    "    :returns: initials\n",
    "    \"\"\"\n",
    "    initials = []\n",
    "    # account for non western names often in ()\n",
    "    if '(' in name:\n",
    "        name = clean_non_western_encoded_characters_commands(name)\n",
    "        suffix = re.findall(r\"\\((.*?)\\)\", name)[0]\n",
    "        name = name.replace(f\"({suffix})\", '')\n",
    "    else:\n",
    "        suffix = ''\n",
    "    split = name.split()\n",
    "    for token in split[:-1]:\n",
    "        if '-' in token:\n",
    "            current = '-'.join([k[0] + '.' for k in token.split('-')])\n",
    "        else:\n",
    "            current = token[0] + '.'\n",
    "        initials.append(current)\n",
    "    initials.append(split[-1].strip())\n",
    "    if suffix:\n",
    "        initials.append(f\"({suffix})\")\n",
    "    return ' '.join(initials)"
   ]
  },
  {
   "cell_type": "markdown",
   "id": "14bd6310",
   "metadata": {
    "papermill": {
     "duration": 0.002631,
     "end_time": "2025-10-31T04:14:16.489588",
     "exception": false,
     "start_time": "2025-10-31T04:14:16.486957",
     "status": "completed"
    },
    "tags": []
   },
   "source": [
    "## get list of arxiv paper candidates\n",
    "\n",
    "We use the MPIA mitarbeiter list webpage from mpia.de to get author names\n",
    "We then get all new papers from Arxiv and match authors"
   ]
  },
  {
   "cell_type": "code",
   "execution_count": 3,
   "id": "7ea813a8",
   "metadata": {
    "execution": {
     "iopub.execute_input": "2025-10-31T04:14:16.495655Z",
     "iopub.status.busy": "2025-10-31T04:14:16.495462Z",
     "iopub.status.idle": "2025-10-31T04:14:38.758433Z",
     "shell.execute_reply": "2025-10-31T04:14:38.757882Z"
    },
    "papermill": {
     "duration": 22.267311,
     "end_time": "2025-10-31T04:14:38.759583",
     "exception": false,
     "start_time": "2025-10-31T04:14:16.492272",
     "status": "completed"
    },
    "tags": []
   },
   "outputs": [],
   "source": [
    "# deal with the author list and edge cases of people that cannot be consistent on their name  \n",
    "\n",
    "def filter_non_scientists(name: str) -> bool:\n",
    "    \"\"\" Loose filter on expected authorships\n",
    "\n",
    "    removing IT, administration, technical staff\n",
    "    :param name: name\n",
    "    :returns: False if name is not a scientist\n",
    "    \"\"\"\n",
    "    remove_list = ['Licht', 'Binroth', 'Witzel', 'Jordan',\n",
    "                   'Zähringer', 'Scheerer', 'Hoffmann', 'Düe',\n",
    "                   'Hellmich', 'Enkler-Scharpegge', 'Witte-Nguy',\n",
    "                   'Dehen', 'Beckmann', 'Jager', 'Jäger'\n",
    "                  ]\n",
    "\n",
    "    for k in remove_list:\n",
    "        if k in name:\n",
    "            return False\n",
    "    return True\n",
    "\n",
    "def add_author_to_list(author_list: list) -> list:\n",
    "    \"\"\" Add author to list if not already in list\n",
    "    \n",
    "    :param author: author name\n",
    "    :param author_list: list of authors\n",
    "    :returns: updated list of authors\n",
    "    \"\"\"\n",
    "    add_list = ['T. Henning']\n",
    "\n",
    "    for author in add_list:\n",
    "        if author not in author_list:\n",
    "            author_list.append(author)\n",
    "    return author_list\n",
    "\n",
    "# get list from MPIA website\n",
    "# filter for non-scientists (mpia.get_mpia_mitarbeiter_list() does some filtering)\n",
    "mpia_authors = [k[1] for k in mpia.get_mpia_mitarbeiter_list() if filter_non_scientists(k[1])]\n",
    "# add some missing author because of inconsistencies in their MPIA name and author name on papers\n",
    "mpia_authors = add_author_to_list(mpia_authors)"
   ]
  },
  {
   "cell_type": "code",
   "execution_count": 4,
   "id": "2645e73a",
   "metadata": {
    "execution": {
     "iopub.execute_input": "2025-10-31T04:14:38.766365Z",
     "iopub.status.busy": "2025-10-31T04:14:38.766146Z",
     "iopub.status.idle": "2025-10-31T04:14:39.575790Z",
     "shell.execute_reply": "2025-10-31T04:14:39.575153Z"
    },
    "papermill": {
     "duration": 0.814238,
     "end_time": "2025-10-31T04:14:39.576869",
     "exception": false,
     "start_time": "2025-10-31T04:14:38.762631",
     "status": "completed"
    },
    "tags": []
   },
   "outputs": [
    {
     "name": "stdout",
     "output_type": "stream",
     "text": [
      "E. Bañados  ->  E. Bañados  |  ['E. Bañados']\n",
      "X. Zhang  ->  X. Zhang  |  ['X. Zhang']\n",
      "N. Wang  ->  N. Wang  |  ['N. Wang']\n",
      "X. Zhang  ->  X. Zhang  |  ['X. Zhang']\n",
      "C. Clontz  ->  C. Clontz  |  ['C. Clontz']\n",
      "N. Neumayer  ->  N. Neumayer  |  ['N. Neumayer']\n",
      "X. Zhang  ->  X. Zhang  |  ['X. Zhang']\n",
      "M. Benisty  ->  M. Benisty  |  ['M. Benisty']\n",
      "Y. Wang  ->  Y. Wang  |  ['Y. Wang']\n"
     ]
    },
    {
     "name": "stdout",
     "output_type": "stream",
     "text": [
      "X. Zhang  ->  X. Zhang  |  ['X. Zhang']\n",
      "A. Bayer  ->  M. A. Bayer  |  ['A. Bayer']\n",
      "Arxiv has 82 new papers today\n",
      "          9 with possible author matches\n"
     ]
    }
   ],
   "source": [
    "new_papers = get_new_papers()\n",
    "# add manual references\n",
    "add_paper_refs = []\n",
    "new_papers.extend([get_paper_from_identifier(k) for k in add_paper_refs])\n",
    "\n",
    "def robust_call(fn, value, *args, **kwargs):\n",
    "    try:\n",
    "        return fn(value, *args, **kwargs)\n",
    "    except Exception:\n",
    "        return value\n",
    "\n",
    "candidates = []\n",
    "for paperk in new_papers:\n",
    "    # Check author list with their initials\n",
    "    normed_author_list = [robust_call(mpia.get_initials, k) for k in paperk['authors']]\n",
    "    hl_authors = highlight_authors_in_list(normed_author_list, mpia_authors, verbose=True)\n",
    "    matches = [(hl, orig) for hl, orig in zip(hl_authors, paperk['authors']) if 'mark' in hl]\n",
    "    paperk['authors'] = hl_authors\n",
    "    if matches:\n",
    "        # only select paper if an author matched our list\n",
    "        candidates.append(paperk)\n",
    "print(\"\"\"Arxiv has {0:,d} new papers today\"\"\".format(len(new_papers)))        \n",
    "print(\"\"\"          {0:,d} with possible author matches\"\"\".format(len(candidates)))"
   ]
  },
  {
   "cell_type": "markdown",
   "id": "3543b34a",
   "metadata": {
    "papermill": {
     "duration": 0.003063,
     "end_time": "2025-10-31T04:14:39.583219",
     "exception": false,
     "start_time": "2025-10-31T04:14:39.580156",
     "status": "completed"
    },
    "tags": []
   },
   "source": [
    "# Parse sources and generate relevant outputs\n",
    "\n",
    "From the candidates, we do the following steps:\n",
    "* get their tarball from ArXiv (and extract data)\n",
    "* find the main .tex file: find one with \\documentclass{...} (sometimes it's non trivial)\n",
    "* Check affiliations with :func:`validation`, which uses :func:`mpia.affiliation_verifications`\n",
    "* If passing the affiliations: we parse the .tex source\n",
    "   * inject sub-documents into the main (flatten the main document)\n",
    "   * parse structure, extract information (title, abstract, authors, figures...)\n",
    "   * handles `\\graphicspath` if provided\n",
    "* Generate the .md document."
   ]
  },
  {
   "cell_type": "code",
   "execution_count": 5,
   "id": "9576b79e",
   "metadata": {
    "execution": {
     "iopub.execute_input": "2025-10-31T04:14:39.590131Z",
     "iopub.status.busy": "2025-10-31T04:14:39.589890Z",
     "iopub.status.idle": "2025-10-31T04:16:28.649214Z",
     "shell.execute_reply": "2025-10-31T04:16:28.648486Z"
    },
    "papermill": {
     "duration": 109.063986,
     "end_time": "2025-10-31T04:16:28.650207",
     "exception": false,
     "start_time": "2025-10-31T04:14:39.586221",
     "status": "completed"
    },
    "scrolled": false,
    "tags": []
   },
   "outputs": [
    {
     "data": {
      "application/vnd.jupyter.widget-view+json": {
       "model_id": "6f6fcaa8ce7a42e78e433f541199017f",
       "version_major": 2,
       "version_minor": 0
      },
      "text/plain": [
       "  0%|          | 0/9 [00:00<?, ?it/s]"
      ]
     },
     "metadata": {},
     "output_type": "display_data"
    },
    {
     "name": "stdout",
     "output_type": "stream",
     "text": [
      "Retrieving document from  https://arxiv.org/e-print/2510.25829\n"
     ]
    },
    {
     "name": "stdout",
     "output_type": "stream",
     "text": [
      "extracting tarball to tmp_2510.25829..."
     ]
    },
    {
     "name": "stdout",
     "output_type": "stream",
     "text": [
      " done.\n"
     ]
    },
    {
     "name": "stdout",
     "output_type": "stream",
     "text": [
      "Issues with the citations\n",
      "list index out of range\n",
      "Retrieving document from  https://arxiv.org/e-print/2510.26152\n"
     ]
    },
    {
     "name": "stdout",
     "output_type": "stream",
     "text": [
      "extracting tarball to tmp_2510.26152..."
     ]
    },
    {
     "name": "stdout",
     "output_type": "stream",
     "text": [
      " done.\n",
      "Retrieving document from  https://arxiv.org/e-print/2510.26209\n"
     ]
    },
    {
     "name": "stderr",
     "output_type": "stream",
     "text": [
      "/opt/hostedtoolcache/Python/3.9.23/x64/lib/python3.9/site-packages/arxiv_on_deck_2/latex.py:414: LatexWarning: Latex injecting: 'main.bbl' from 'tmp_2510.26152/main.tex'\n",
      "  warnings.warn(LatexWarning(f\"Latex injecting: '{ext}' from '{subsource}'\"))\n"
     ]
    },
    {
     "name": "stdout",
     "output_type": "stream",
     "text": [
      "extracting tarball to tmp_2510.26209..."
     ]
    },
    {
     "name": "stdout",
     "output_type": "stream",
     "text": [
      " done.\n",
      "Retrieving document from  https://arxiv.org/e-print/2510.26250\n"
     ]
    },
    {
     "name": "stdout",
     "output_type": "stream",
     "text": [
      "extracting tarball to tmp_2510.26250..."
     ]
    },
    {
     "name": "stdout",
     "output_type": "stream",
     "text": [
      " done.\n",
      "Retrieving document from  https://arxiv.org/e-print/2510.26341\n"
     ]
    },
    {
     "name": "stdout",
     "output_type": "stream",
     "text": [
      "extracting tarball to tmp_2510.26341..."
     ]
    },
    {
     "name": "stdout",
     "output_type": "stream",
     "text": [
      " done.\n"
     ]
    },
    {
     "name": "stdout",
     "output_type": "stream",
     "text": [
      "C. Clontz  ->  C. Clontz  |  ['C. Clontz']\n",
      "N. Neumayer  ->  N. Neumayer  |  ['N. Neumayer']\n"
     ]
    },
    {
     "name": "stdout",
     "output_type": "stream",
     "text": [
      "Found 54 bibliographic references in tmp_2510.26341/main.bbl.\n",
      "Retrieving document from  https://arxiv.org/e-print/2510.26355\n",
      "extracting tarball to tmp_2510.26355..."
     ]
    },
    {
     "name": "stdout",
     "output_type": "stream",
     "text": [
      " done.\n",
      "Retrieving document from  https://arxiv.org/e-print/2510.26449\n"
     ]
    },
    {
     "name": "stdout",
     "output_type": "stream",
     "text": [
      "extracting tarball to tmp_2510.26449..."
     ]
    },
    {
     "name": "stdout",
     "output_type": "stream",
     "text": [
      " done.\n"
     ]
    },
    {
     "name": "stdout",
     "output_type": "stream",
     "text": [
      "Found 83 bibliographic references in tmp_2510.26449/aa56661-25.bbl.\n",
      "Retrieving document from  https://arxiv.org/e-print/2510.26561\n"
     ]
    },
    {
     "name": "stdout",
     "output_type": "stream",
     "text": [
      "extracting tarball to tmp_2510.26561..."
     ]
    },
    {
     "name": "stdout",
     "output_type": "stream",
     "text": [
      " done.\n",
      "  1: tmp_2510.26561/supplementary_materials.tex, 754 lines\n",
      "  2: tmp_2510.26561/main.tex, 530 lines\n",
      "Retrieving document from  https://arxiv.org/e-print/2510.26691\n"
     ]
    },
    {
     "name": "stderr",
     "output_type": "stream",
     "text": [
      "/opt/hostedtoolcache/Python/3.9.23/x64/lib/python3.9/site-packages/IPython/core/interactiveshell.py:3550: LatexWarning: Multiple tex files.\n",
      "\n",
      "  exec(code_obj, self.user_global_ns, self.user_ns)\n",
      "/opt/hostedtoolcache/Python/3.9.23/x64/lib/python3.9/site-packages/IPython/core/interactiveshell.py:3550: LatexWarning: Found 2 candidates with documentclass definition.\n",
      "  exec(code_obj, self.user_global_ns, self.user_ns)\n",
      "/opt/hostedtoolcache/Python/3.9.23/x64/lib/python3.9/site-packages/IPython/core/interactiveshell.py:3550: LatexWarning: Assuming tmp_2510.26561/supplementary_materials.tex as main document.\n",
      "  exec(code_obj, self.user_global_ns, self.user_ns)\n"
     ]
    },
    {
     "name": "stdout",
     "output_type": "stream",
     "text": [
      "extracting tarball to tmp_2510.26691..."
     ]
    },
    {
     "name": "stdout",
     "output_type": "stream",
     "text": [
      " done.\n"
     ]
    }
   ],
   "source": [
    "documents = []\n",
    "failed = []\n",
    "for paper in tqdm(candidates):\n",
    "    # debug crap\n",
    "    paper['identifier'] = paper['identifier'].lower().replace('arxiv:', '').replace(r'\\n', '').strip()\n",
    "    paper_id = paper['identifier']\n",
    "    \n",
    "    folder = f'tmp_{paper_id}'\n",
    "\n",
    "    try:\n",
    "        if not os.path.isdir(folder):\n",
    "            folder = retrieve_document_source(f\"{paper_id}\", f'tmp_{paper_id}')\n",
    "        \n",
    "        try:\n",
    "            doc = latex.LatexDocument(folder, validation=validation)    \n",
    "        except AffiliationError as affilerror:\n",
    "            msg = f\"ArXiv:{paper_id:s} is not an MPIA paper... \" + str(affilerror)\n",
    "            failed.append((paper, \"affiliation error: \" + str(affilerror) ))\n",
    "            continue\n",
    "        \n",
    "        # Hack because sometimes author parsing does not work well\n",
    "        if (len(doc.authors) != len(paper['authors'])):\n",
    "            doc._authors = paper['authors']\n",
    "        else:\n",
    "            # highlight authors (FIXME: doc.highlight_authors)\n",
    "            # done on arxiv paper already\n",
    "            doc._authors = highlight_authors_in_list(\n",
    "                [get_initials(k) for k in doc.authors], \n",
    "                mpia_authors, verbose=True)\n",
    "        if (doc.abstract) in (None, ''):\n",
    "            doc._abstract = paper['abstract']\n",
    "            \n",
    "        doc.comment = (get_markdown_badge(paper_id) + \n",
    "                       \"<mark>Appeared on: \" + paper['date'] + \"</mark> - \")\n",
    "        if paper['comments']:\n",
    "            doc.comment += \" _\" + paper['comments'] + \"_\"\n",
    "        \n",
    "        full_md = doc.generate_markdown_text()\n",
    "        \n",
    "        full_md += get_markdown_qrcode(paper_id)\n",
    "        \n",
    "        # replace citations\n",
    "        try:\n",
    "            bibdata = latex_bib.LatexBib.from_doc(doc)\n",
    "            full_md = latex_bib.replace_citations(full_md, bibdata)\n",
    "        except Exception as e:\n",
    "            print(\"Issues with the citations\")\n",
    "            print(e)\n",
    "        \n",
    "        documents.append((paper_id, full_md))\n",
    "    except Exception as e:\n",
    "        warnings.warn(latex.LatexWarning(f\"{paper_id:s} did not run properly\\n\" +\n",
    "                                         str(e)\n",
    "                                        ))\n",
    "        failed.append((paper, \"latex error \" + str(e)))"
   ]
  },
  {
   "cell_type": "markdown",
   "id": "2505a25c",
   "metadata": {
    "papermill": {
     "duration": 0.004045,
     "end_time": "2025-10-31T04:16:28.658450",
     "exception": false,
     "start_time": "2025-10-31T04:16:28.654405",
     "status": "completed"
    },
    "tags": []
   },
   "source": [
    "### Export the logs\n",
    "\n",
    "Throughout, we also keep track of the logs per paper. see `logs-{today date}.md` "
   ]
  },
  {
   "cell_type": "code",
   "execution_count": 6,
   "id": "d733828a",
   "metadata": {
    "execution": {
     "iopub.execute_input": "2025-10-31T04:16:28.667082Z",
     "iopub.status.busy": "2025-10-31T04:16:28.666861Z",
     "iopub.status.idle": "2025-10-31T04:16:28.685300Z",
     "shell.execute_reply": "2025-10-31T04:16:28.684642Z"
    },
    "papermill": {
     "duration": 0.02392,
     "end_time": "2025-10-31T04:16:28.686174",
     "exception": false,
     "start_time": "2025-10-31T04:16:28.662254",
     "status": "completed"
    },
    "scrolled": false,
    "tags": []
   },
   "outputs": [
    {
     "data": {
      "text/markdown": [
       "## Successful papers"
      ],
      "text/plain": [
       "<IPython.core.display.Markdown object>"
      ]
     },
     "metadata": {},
     "output_type": "display_data"
    },
    {
     "data": {
      "text/markdown": [
       "\n",
       "|||\n",
       "|---:|:---|\n",
       "| [![arXiv](https://img.shields.io/badge/arXiv-2510.25829-b31b1b.svg)](https://arxiv.org/abs/2510.25829) | **Updated dark pixel fraction constraints on reionization's end from the Lyman-series forests of XQR-30**  |\n",
       "|| F. B. Davies, et al. -- incl., <mark>E. Bañados</mark> |\n",
       "|*Appeared on*| *2025-10-31*|\n",
       "|*Comments*| *14+4 pages, 14+6 figures, accepted for publication in MNRAS*|\n",
       "|**Abstract**|            The fraction of \"dark pixels\" in the Ly$\\alpha$ and other Lyman-series forests at $z\\sim 5-6$ provides a powerful constraint on the end of the reionization process. Any spectral region showing transmission must be highly ionized, while dark regions could be ionized or neutral, thus the dark pixel fraction provides a (nearly) model independent upper limit to the volume-filling fraction of the neutral intergalactic medium, modulo choices in binning scale and dark pixel definition. Here we provide updated measurements of the 3.3 comoving Mpc dark pixel fraction at $z=4.85-6.25$ in the Ly$\\alpha$, Ly$\\beta$, and Ly$\\gamma$ forests of 34 deep $5.8\\lesssim z\\lesssim 6.6$ quasar spectra from the (enlarged) XQR-30 sample. Using the negative pixel method to measure the dark pixel fraction, we derive fiducial $1\\sigma$ upper limits on the volume-average neutral hydrogen fraction of $\\langle x_{\\rm{HI}}\\rangle \\leq \\{0.030 + 0.048, 0.095 + 0.037, 0.191 + 0.056, 0.199 + 0.087\\}$ at $\\bar{z} = \\{5.481, 5.654, 5.831, 6.043\\}$ from the optimally sensitive combination of the Ly$\\beta$ and Ly$\\gamma$ forests. We further demonstrate an alternative method that treats the forest flux as a mixture of dark and transparent regions, where the latter are modeled using a physically-motivated parametric form for the intrinsic opacity distribution. The resulting model-dependent upper limits on $\\langle x_{\\rm{HI}}\\rangle$ are similar to those derived from our fiducial model-independent analysis. We confirm that the bulk of reionization must be finished at $z>6$, while leaving room for an extended \"soft landing\" to the reionization history down to $z\\sim 5.4$ suggested by Ly$\\alpha$ forest opacity fluctuations.         |"
      ],
      "text/plain": [
       "[2510.25829] Updated dark pixel fraction constraints on reionization's end from the Lyman-series forests of XQR-30\n",
       "\tF. B. Davies, et al. -- incl., <mark>E. Bañados</mark>"
      ]
     },
     "metadata": {},
     "output_type": "display_data"
    },
    {
     "data": {
      "text/markdown": [
       "\n",
       "|||\n",
       "|---:|:---|\n",
       "| [![arXiv](https://img.shields.io/badge/arXiv-2510.26341-b31b1b.svg)](https://arxiv.org/abs/2510.26341) | **oMEGACat. VIII. A Subpopulation Census of ω Centauri**  |\n",
       "|| <mark>C. Clontz</mark>, et al. -- incl., <mark>N. Neumayer</mark> |\n",
       "|*Appeared on*| *2025-10-31*|\n",
       "|*Comments*| **|\n",
       "|**Abstract**|            An understanding of the assembly history of the complex star cluster Omega Centauri has long been sought after, with many studies separating the stars on the color-magnitude diagram into multiple groupings across small magnitude ranges. Utilizing the oMEGACat combined astro-photometric and spectroscopic dataset we parse 14 subpopulations from the upper red-giant branch to below the main-sequence turnoff. We combine our results with previous works to estimate the age and age spread of each population. We find that the chemically enhanced (P2) populations are all ~1 Gyr younger (~11.6 Gyr old) and have significantly higher intrinsic age spreads (0.6 Gyr) than the primordial (P1) populations (~12.6 Gyr old, 0.3 Gyr spread), with the intermediate (Im) populations falling in between the two. Additionally, we connect for the first time the Chromosome Diagram to the two-stream age-metallicity relation, allowing us to link the P1 and P2 stars to the distinct star formation tracks, proposed to be in-situ and ex-situ contributions to the cluster's assembly. Our results are consistent with some suggested formation models and rule out others but no current model can explain all observed features of the subpopulations.         |"
      ],
      "text/plain": [
       "[2510.26341] oMEGACat. VIII. A Subpopulation Census of ω Centauri\n",
       "\t<mark>C. Clontz</mark>, et al. -- incl., <mark>N. Neumayer</mark>"
      ]
     },
     "metadata": {},
     "output_type": "display_data"
    },
    {
     "data": {
      "text/markdown": [
       "\n",
       "|||\n",
       "|---:|:---|\n",
       "| [![arXiv](https://img.shields.io/badge/arXiv-2510.26449-b31b1b.svg)](https://arxiv.org/abs/2510.26449) | **The dance of dust: Investigating young stellar object dipper variability**  |\n",
       "|| A. Empey, et al. -- incl., <mark>M. Benisty</mark> |\n",
       "|*Appeared on*| *2025-10-31*|\n",
       "|*Comments*| *Accepted for publication in Astronomy & Astrophysics (A&A)*|\n",
       "|**Abstract**|            The dipper subclass of YSOs are characterised by frequent dips in their light curves. Irregular dippers do not show periodic signatures and have dips accounting for significant proportions of their photospheric flux. Given the short timescales on which these dips occur, their driving mechanisms are linked to the inner circumstellar disc dynamics. We present the first multi-epoch analysis of 16 irregular dippers observed with X-Shooter. Investigating the properties of their dips, and in particular the analysis of the dust characteristics, we aim to understand the root of their variability, and get a glimpse of the inner disc behaviour. We employed a novel approach to measure the properties of the dips, by combining class III templates with Gaia photometry to construct the intrinsic photospheres. We measured several dip properties including the depth of the dips, near-infrared (NIR) excesses, and their optical depths as a function of wavelength. We record 20 significant dips that range in their dip properties and show no relation to one another. In almost all cases, the low optical depths and small NIR excesses are observed. Comparison of their optical depths with grain opacity models show that the dips can be explained by the presence of dust substructures containing processed grains obscuring their photospheres and/or their discs. These grain distributions can have maximum sizes as large as 20$\\mu m$ and in many cases have almost grey-like extinction, while some require a strong scattering component. The findings highlight the extent of the irregularity of dippers, but also link it to the dust dynamics in the inner regions of circumstellar discs. The dust substructures causing the variability require processed dust grains to be lifted above the disc into the line of sight. Possible lifting mechanisms including disc winds, unstable accretion columns, and disc warps are discussed.         |"
      ],
      "text/plain": [
       "[2510.26449] The dance of dust: Investigating young stellar object dipper variability\n",
       "\tA. Empey, et al. -- incl., <mark>M. Benisty</mark>"
      ]
     },
     "metadata": {},
     "output_type": "display_data"
    },
    {
     "data": {
      "text/markdown": [
       "## Failed papers"
      ],
      "text/plain": [
       "<IPython.core.display.Markdown object>"
      ]
     },
     "metadata": {},
     "output_type": "display_data"
    },
    {
     "data": {
      "text/markdown": [
       "\n",
       "|||\n",
       "|---:|:---|\n",
       "| [![arXiv](https://img.shields.io/badge/arXiv-2510.26152-b31b1b.svg)](https://arxiv.org/abs/2510.26152) | **Direct Numerical Simulations of Oxygen-Flame-Driven Deflagration-to-Detonation Transition in Type Ia Supernovae**  |\n",
       "|| <mark>X. Zhang</mark>, L. Wang, Y. Gao, Y. Zhou |\n",
       "|*Appeared on*| *2025-10-31*|\n",
       "|*Comments*| **|\n",
       "|**Abstract**|            We present direct numerical simulations demonstrating deflagration-to-detonation transition (DDT) driven by oxygen flames in Type Ia supernova progenitors. Using the Castro hydrodynamics code coupled with the ``aprox13'' 13-isotope nuclear network, we simulate combustion in isolated fuel regions where oxygen flames trail carbon flames. In a fiducial one-dimensional run at $\\rho_{0}=3.5\\times10^{7}\\ \\mathrm{g\\ cm^{-3}}$ we observe spontaneous DDT of the oxygen flame via the Zel'dovich gradient mechanism when the carbon-oxygen separation reaches $\\sim 10\\ \\mathrm{km}$. The oxygen detonation then captures the carbon flame and triggers a stable carbon detonation. Systematic one-dimensional parameter scans show that successful carbon DDT requires upstream densities in the range $(3.1$--$3.6)\\times10^{7}\\ \\mathrm{g\\ cm^{-3}}$ and a minimum carbon-flame thickness of $\\gtrsim 20\\ \\mathrm{m}$. Two-dimensional simulations confirm DDT and demonstrate that the multidimensional cellular structure of the oxygen detonation can promote carbon detonation at somewhat lower densities than in one dimension. These results provide direct numerical evidence that oxygen-flame-driven DDT is physically plausible in turbulent white-dwarf environments and underscore the importance of multidimensional effects for Type Ia supernova explosion modeling.         |\n",
       "|<p style=\"color:green\"> **ERROR** </p>| <p style=\"color:green\">affiliation error: mpia.affiliation_verifications: 'Heidelberg' keyword not found.</p> |"
      ],
      "text/plain": [
       "<IPython.core.display.Markdown object>"
      ]
     },
     "metadata": {},
     "output_type": "display_data"
    },
    {
     "data": {
      "text/markdown": [
       "\n",
       "|||\n",
       "|---:|:---|\n",
       "| [![arXiv](https://img.shields.io/badge/arXiv-2510.26209-b31b1b.svg)](https://arxiv.org/abs/2510.26209) | **Multi-Faceted Emission Properties of PSR J2129+4119 Observed with FAST**  |\n",
       "|| H. M. Tedila, et al. -- incl., <mark>N. Wang</mark> |\n",
       "|*Appeared on*| *2025-10-31*|\n",
       "|*Comments*| *22 pages, 18 figures, Revised for ApJ*|\n",
       "|**Abstract**|            We present a detailed single-pulse study of the long-period pulsar PSR J2129+4119 using high-sensitivity FAST observations. Despite locating well below the traditional death line, the pulsar exhibits sustained and multi-modal emission behavior, including nulls, weak pulses, regular emission, and occasional bright pulses. The nulling fraction is measured to be $8.13\\% \\pm 0.51\\%$, with null durations typically under four pulse periods. Fluctuation spectral analysis reveals both phase-modulated subpulse drifting and intermittent beat-like modulation. At the same time, polarization profiles show high linear polarization and stable polarization position angle (PPA) swings consistent with a near-tangential sightline geometry. Quasi-periodic microstructures are detected in 11.54\\% of regular pulses, with a mean periodicity and width of 4.57 ms and 4.30 ms, respectively. A well-defined scintillation arc in the secondary spectrum confirms the presence of a localized scattering screen. These results indicate that PSR J2129+4119 remains magnetospherically active and coherently emitting despite its low energy loss rate, offering key insights into pulsar emission physics near the death line.         |\n",
       "|<p style=\"color:green\"> **ERROR** </p>| <p style=\"color:green\">affiliation error: mpia.affiliation_verifications: 'Heidelberg' keyword not found.</p> |"
      ],
      "text/plain": [
       "<IPython.core.display.Markdown object>"
      ]
     },
     "metadata": {},
     "output_type": "display_data"
    },
    {
     "data": {
      "text/markdown": [
       "\n",
       "|||\n",
       "|---:|:---|\n",
       "| [![arXiv](https://img.shields.io/badge/arXiv-2510.26250-b31b1b.svg)](https://arxiv.org/abs/2510.26250) | **Theoretical models for the Late Thermal Pulse in post-AGB stars: the case of DY Cen**  |\n",
       "|| Z. Liu, et al. -- incl., <mark>X. Zhang</mark> |\n",
       "|*Appeared on*| *2025-10-31*|\n",
       "|*Comments*| **|\n",
       "|**Abstract**|            We present theoretical predictions of the born-again scenario for post-asymptotic giant-branch stars. An extensive model grid for born-again objects has been constructed, particularly including models for the Very Late Thermal Pulse with and without convective overshooting, and also including models for the Late Thermal Pulse. We constructed a large parameter space to analyze the dependencies of the born-again model on core mass, hydrogen-envelope mass, and overshoot parameters, and we analyzed how changes in these parameters affect the models' evolution. We applied our grid of models to interpret observations of DY\\,Cen, a star exhibiting characteristics similar to confirmed born-again stars. We compared DY\\,Cen with models from multiple aspects, including heating rate, evolutionary tracks, and surface abundances. Ultimately, we concluded that none of our born-again models could match all of the observed properties of DY\\,Cen, especially its surface chemistry; DY\\,Cen is therefore an unlikely born-again star.         |\n",
       "|<p style=\"color:green\"> **ERROR** </p>| <p style=\"color:green\">affiliation error: mpia.affiliation_verifications: 'Heidelberg' keyword not found.</p> |"
      ],
      "text/plain": [
       "<IPython.core.display.Markdown object>"
      ]
     },
     "metadata": {},
     "output_type": "display_data"
    },
    {
     "data": {
      "text/markdown": [
       "\n",
       "|||\n",
       "|---:|:---|\n",
       "| [![arXiv](https://img.shields.io/badge/arXiv-2510.26355-b31b1b.svg)](https://arxiv.org/abs/2510.26355) | **Model-independent late-universe measurements of $H_0$ and $Ω_\\mathrm{K}$ with the PAge-improved inverse distance ladder**  |\n",
       "|| G.-H. Du, et al. -- incl., <mark>X. Zhang</mark> |\n",
       "|*Appeared on*| *2025-10-31*|\n",
       "|*Comments*| *12 pages, 2 figures*|\n",
       "|**Abstract**|            The standard $\\Lambda{\\rm CDM}$ model has encountered serious challenges and the $H_0$ tension has become more significant with increasingly precise cosmological observation. Meanwhile, inconsistencies in measurements of the curvature parameter $\\Omega_\\mathrm{K}$ between different datasets also have emerged. In this work, we employ two global and cosmic age-based parameterizations, PAge and MAPAge, to perform model-independent measurements of the Hubble constant $H_0$ and $\\Omega_\\mathrm{K}$ by utilizing the inverse distance ladder (IDL). To construct the PAge-improved IDL, we utilize the strong gravitational lensing (SGL), cosmic chronometers (CC), and gamma ray bursts (GRB) data to calibrate the latest DESI DR2 baryon acoustic oscillation data and DESY5 type Ia supernova data. Our analysis indicate that DESI+DESY5+SGL+CC+GRB gives $H_0=71.59\\pm 0.94\\,{\\rm km}~{\\rm s}^{-1}~{\\rm Mpc}^{-1}$ in the MAPAge model, reducing the $H_0$ tension to the $1.0\\sigma$ level. Extending to MAPAge$+\\Omega_{\\rm K}$ model, we obtain $\\Omega_\\mathrm{K}=0.001\\pm 0.038$, which suggests that current late-time data are consistent with a flat universe. Finally, the Bayesian analysis indicates that the present late-universe data provide weak to moderate evidence in favor of PAge and MAPAge relative to $\\Lambda{\\rm CDM}$.         |\n",
       "|<p style=\"color:green\"> **ERROR** </p>| <p style=\"color:green\">affiliation error: mpia.affiliation_verifications: 'Heidelberg' keyword not found.</p> |"
      ],
      "text/plain": [
       "<IPython.core.display.Markdown object>"
      ]
     },
     "metadata": {},
     "output_type": "display_data"
    },
    {
     "data": {
      "text/markdown": [
       "\n",
       "|||\n",
       "|---:|:---|\n",
       "| [![arXiv](https://img.shields.io/badge/arXiv-2510.26561-b31b1b.svg)](https://arxiv.org/abs/2510.26561) | **A Star's Death by a Thousand Cuts: The Runaway Periodic Eruptions of AT2023uqm**  |\n",
       "|| <mark>Y. Wang</mark>, et al. -- incl., <mark>X. Zhang</mark> |\n",
       "|*Appeared on*| *2025-10-31*|\n",
       "|*Comments*| *Submitted. Comments are welcome*|\n",
       "|**Abstract**|            Stars on bound orbits around a supermassive black hole may undergo repeated partial tidal disruption events (rpTDEs), producing periodic flares. While several candidates have been suggested, definitive confirmation of these events remains elusive. We report the discovery of AT2023uqm, a nuclear transient that has exhibited at least five periodic optical flares, making it only the second confirmed case of periodicity after ASASSN-14ko. Uniquely, the flares from AT2023uqm show a nearly exponential increase in energy--a \"runaway\" phenomenon signaling the star's progressive destruction. This behavior is consistent with rpTDEs of low-mass, main-sequence stars or evolved giant stars. Multiwavelength observations and spectroscopic analysis of the two most recent flares reinforce its interpretation as an rpTDE. Intriguingly, each flare displays a similar double-peaked structure, potentially originating from a double-peaked mass fallback rate or two discrete collisions per orbit. The extreme ratio of peak separation to orbital period draws attention to the possibility of a giant star being disrupted, which could be distinguished from a low-mass main-sequence star by its future mass-loss evolution. Our analysis demonstrates the power of rpTDEs to probe the properties of disrupted stars and the physical processes of tidal disruption, though it is currently limited by our knowledge of these events. AT2023uqm emerges as the most compelling rpTDE thus far, serving as a crucial framework for modeling and understanding these phenomena.         |\n",
       "|<p style=\"color:green\"> **ERROR** </p>| <p style=\"color:green\">affiliation error: mpia.affiliation_verifications: 'Heidelberg' keyword not found.</p> |"
      ],
      "text/plain": [
       "<IPython.core.display.Markdown object>"
      ]
     },
     "metadata": {},
     "output_type": "display_data"
    },
    {
     "data": {
      "text/markdown": [
       "\n",
       "|||\n",
       "|---:|:---|\n",
       "| [![arXiv](https://img.shields.io/badge/arXiv-2510.26691-b31b1b.svg)](https://arxiv.org/abs/2510.26691) | **Flinch: A Differentiable Framework for Field-Level Inference of Cosmological parameters from curved sky data**  |\n",
       "|| A. Crespi, et al. -- incl., <mark>A. Bayer</mark> |\n",
       "|*Appeared on*| *2025-10-31*|\n",
       "|*Comments*| *18 pages, 11 figures. Comments are welcome*|\n",
       "|**Abstract**|            We present Flinch, a fully differentiable and high-performance framework for field-level inference on angular maps, developed to improve the flexibility and scalability of current methodologies. Flinch is integrated with differentiable cosmology tools, allowing gradients to propagate from individual map pixels directly to the underlying cosmological parameters. This architecture allows cosmological inference to be carried out directly from the map itself, bypassing the need to specify a likelihood for intermediate summary statistics. Using simulated, masked CMB temperature maps, we validate our pipeline by reconstructing both maps and angular power spectra, and we perform cosmological parameter inference with competitive precision. In comparison with the standard pseudo-$C_\\ell$ approach, Flinch delivers substantially tighter constraints, with error bars reduced by up to 40%. Among the gradient-based samplers routinely employed in field-level analyses, we further show that MicroCanonical Langevin Monte Carlo provides orders-of-magnitude improvements in sampling efficiency over currently employed Hamiltonian Monte Carlo samplers, greatly reducing computational expense.         |\n",
       "|<p style=\"color:green\"> **ERROR** </p>| <p style=\"color:green\">affiliation error: mpia.affiliation_verifications: 'Heidelberg' keyword not found.</p> |"
      ],
      "text/plain": [
       "<IPython.core.display.Markdown object>"
      ]
     },
     "metadata": {},
     "output_type": "display_data"
    }
   ],
   "source": [
    "import datetime\n",
    "today = str(datetime.date.today())\n",
    "logfile = f\"_build/html/logs/log-{today}.md\"\n",
    "\n",
    "\n",
    "with open(logfile, 'w') as logs:\n",
    "    # Success\n",
    "    logs.write(f'# Arxiv on Deck 2: Logs - {today}\\n\\n')\n",
    "    logs.write(\"\"\"* Arxiv had {0:,d} new papers\\n\"\"\".format(len(new_papers)))\n",
    "    logs.write(\"\"\"    * {0:,d} with possible author matches\\n\\n\"\"\".format(len(candidates)))\n",
    "    logs.write(\"## Sucessful papers\\n\\n\")\n",
    "    display(Markdown(\"## Successful papers\"))\n",
    "    success = [k[0] for k in documents]\n",
    "    for candid in candidates:\n",
    "        if candid['identifier'].split(':')[-1] in success:\n",
    "            display(candid)\n",
    "            logs.write(candid.generate_markdown_text() + '\\n\\n')\n",
    "\n",
    "    ## failed\n",
    "    logs.write(\"## Failed papers\\n\\n\")\n",
    "    display(Markdown(\"## Failed papers\"))\n",
    "    failed = sorted(failed, key=lambda x: x[1])\n",
    "    current_reason = \"\"\n",
    "    for paper, reason in failed:\n",
    "        if 'affiliation' in reason:\n",
    "            color = 'green'\n",
    "        else:\n",
    "            color = 'red'\n",
    "        data = Markdown(\n",
    "                paper.generate_markdown_text() + \n",
    "                f'\\n|<p style=\"color:{color:s}\"> **ERROR** </p>| <p style=\"color:{color:s}\">{reason:s}</p> |'\n",
    "               )\n",
    "        if reason != current_reason:\n",
    "            logs.write(f'### {reason:s} \\n\\n')\n",
    "            current_reason = reason\n",
    "        logs.write(data.data + '\\n\\n')\n",
    "        \n",
    "        # only display here the important errors (all in logs)\n",
    "        # if color in ('red',):\n",
    "        display(data)"
   ]
  },
  {
   "cell_type": "markdown",
   "id": "472d20ee",
   "metadata": {
    "papermill": {
     "duration": 0.004832,
     "end_time": "2025-10-31T04:16:28.696506",
     "exception": false,
     "start_time": "2025-10-31T04:16:28.691674",
     "status": "completed"
    },
    "tags": []
   },
   "source": [
    "## Export documents\n",
    "\n",
    "We now write the .md files and export relevant images"
   ]
  },
  {
   "cell_type": "code",
   "execution_count": 7,
   "id": "d426aed9",
   "metadata": {
    "execution": {
     "iopub.execute_input": "2025-10-31T04:16:28.707047Z",
     "iopub.status.busy": "2025-10-31T04:16:28.706826Z",
     "iopub.status.idle": "2025-10-31T04:16:28.713249Z",
     "shell.execute_reply": "2025-10-31T04:16:28.712735Z"
    },
    "papermill": {
     "duration": 0.0127,
     "end_time": "2025-10-31T04:16:28.714113",
     "exception": false,
     "start_time": "2025-10-31T04:16:28.701413",
     "status": "completed"
    },
    "tags": []
   },
   "outputs": [],
   "source": [
    "def export_markdown_summary(md: str, md_fname:str, directory: str):\n",
    "    \"\"\"Export MD document and associated relevant images\"\"\"\n",
    "    import os\n",
    "    import shutil\n",
    "    import re\n",
    "\n",
    "    if (os.path.exists(directory) and not os.path.isdir(directory)):\n",
    "        raise RuntimeError(f\"a non-directory file exists with name {directory:s}\")\n",
    "\n",
    "    if (not os.path.exists(directory)):\n",
    "        print(f\"creating directory {directory:s}\")\n",
    "        os.mkdir(directory)\n",
    "\n",
    "    fig_fnames = (re.compile(r'\\[Fig.*\\]\\((.*)\\)').findall(md) + \n",
    "                  re.compile(r'\\<img src=\"([^>\\s]*)\"[^>]*/>').findall(md))\n",
    "    print(\"found figures\", fig_fnames)\n",
    "    for fname in fig_fnames:\n",
    "        if 'http' in fname:\n",
    "            # No need to copy online figures\n",
    "            continue\n",
    "        if not os.path.exists(fname):\n",
    "            print(\"file not found\", fname)\n",
    "            continue\n",
    "        print(\"copying \", fname, \"to\", directory)\n",
    "        destdir = os.path.join(directory, os.path.dirname(fname))\n",
    "        destfname = os.path.join(destdir, os.path.basename(fname))\n",
    "        try:\n",
    "            os.makedirs(destdir)\n",
    "        except FileExistsError:\n",
    "            pass\n",
    "        shutil.copy(fname, destfname)\n",
    "    with open(os.path.join(directory, md_fname), 'w') as fout:\n",
    "        fout.write(md)\n",
    "    print(\"exported in \", os.path.join(directory, md_fname))\n",
    "    [print(\"    + \" + os.path.join(directory,fk)) for fk in fig_fnames]"
   ]
  },
  {
   "cell_type": "code",
   "execution_count": 8,
   "id": "014d04a4",
   "metadata": {
    "execution": {
     "iopub.execute_input": "2025-10-31T04:16:28.724694Z",
     "iopub.status.busy": "2025-10-31T04:16:28.724513Z",
     "iopub.status.idle": "2025-10-31T04:16:28.734329Z",
     "shell.execute_reply": "2025-10-31T04:16:28.733852Z"
    },
    "papermill": {
     "duration": 0.016143,
     "end_time": "2025-10-31T04:16:28.735228",
     "exception": false,
     "start_time": "2025-10-31T04:16:28.719085",
     "status": "completed"
    },
    "tags": []
   },
   "outputs": [
    {
     "name": "stdout",
     "output_type": "stream",
     "text": [
      "found figures ['tmp_2510.25829/./xhi_thresh_allforest.png', 'tmp_2510.25829/./threshpix_abg.png', 'tmp_2510.25829/./threshpix_combo.png', 'tmp_2510.25829/./xhi_thresh_fiducial.png', 'tmp_2510.25829/./xhi_negpix_fiducial.png']\n",
      "copying  tmp_2510.25829/./xhi_thresh_allforest.png to _build/html/\n",
      "copying  tmp_2510.25829/./threshpix_abg.png to _build/html/\n",
      "copying  tmp_2510.25829/./threshpix_combo.png to _build/html/\n",
      "copying  tmp_2510.25829/./xhi_thresh_fiducial.png to _build/html/\n",
      "copying  tmp_2510.25829/./xhi_negpix_fiducial.png to _build/html/\n",
      "exported in  _build/html/2510.25829.md\n",
      "    + _build/html/tmp_2510.25829/./xhi_thresh_allforest.png\n",
      "    + _build/html/tmp_2510.25829/./threshpix_abg.png\n",
      "    + _build/html/tmp_2510.25829/./threshpix_combo.png\n",
      "    + _build/html/tmp_2510.25829/./xhi_thresh_fiducial.png\n",
      "    + _build/html/tmp_2510.25829/./xhi_negpix_fiducial.png\n",
      "found figures ['tmp_2510.26341/./figures/sgb_rgb_population_labels.png', 'tmp_2510.26341/./figures/two_panel_amr_age_spread.png', 'tmp_2510.26341/./figures/cmd_with_regions_twopanel.png']\n",
      "copying  tmp_2510.26341/./figures/sgb_rgb_population_labels.png to _build/html/\n",
      "copying  tmp_2510.26341/./figures/two_panel_amr_age_spread.png to _build/html/\n",
      "copying  tmp_2510.26341/./figures/cmd_with_regions_twopanel.png to _build/html/\n",
      "exported in  _build/html/2510.26341.md\n",
      "    + _build/html/tmp_2510.26341/./figures/sgb_rgb_population_labels.png\n",
      "    + _build/html/tmp_2510.26341/./figures/two_panel_amr_age_spread.png\n",
      "    + _build/html/tmp_2510.26341/./figures/cmd_with_regions_twopanel.png\n",
      "found figures ['tmp_2510.26449/./Plots/beta_abs_q3_colormap_half.png', 'tmp_2510.26449/./Plots/beta_sca_q3_colormap_half.png', 'tmp_2510.26449/./Plots/beta_ext_q3_colormap_half.png', 'tmp_2510.26449/./Plots/beta_eff_q3_colormap_half.png', 'tmp_2510.26449/./Plots/tau_masterplot.png', 'tmp_2510.26449/./Plots/nir_excess.png']\n",
      "copying  tmp_2510.26449/./Plots/beta_abs_q3_colormap_half.png to _build/html/\n",
      "copying  tmp_2510.26449/./Plots/beta_sca_q3_colormap_half.png to _build/html/\n",
      "copying  tmp_2510.26449/./Plots/beta_ext_q3_colormap_half.png to _build/html/\n",
      "copying  tmp_2510.26449/./Plots/beta_eff_q3_colormap_half.png to _build/html/\n",
      "copying  tmp_2510.26449/./Plots/tau_masterplot.png to _build/html/\n",
      "copying  tmp_2510.26449/./Plots/nir_excess.png to _build/html/\n",
      "exported in  _build/html/2510.26449.md\n",
      "    + _build/html/tmp_2510.26449/./Plots/beta_abs_q3_colormap_half.png\n",
      "    + _build/html/tmp_2510.26449/./Plots/beta_sca_q3_colormap_half.png\n",
      "    + _build/html/tmp_2510.26449/./Plots/beta_ext_q3_colormap_half.png\n",
      "    + _build/html/tmp_2510.26449/./Plots/beta_eff_q3_colormap_half.png\n",
      "    + _build/html/tmp_2510.26449/./Plots/tau_masterplot.png\n",
      "    + _build/html/tmp_2510.26449/./Plots/nir_excess.png\n"
     ]
    }
   ],
   "source": [
    "for paper_id, md in documents:\n",
    "    export_markdown_summary(md, f\"{paper_id:s}.md\", '_build/html/')"
   ]
  },
  {
   "cell_type": "markdown",
   "id": "f087a0a7",
   "metadata": {
    "papermill": {
     "duration": 0.004913,
     "end_time": "2025-10-31T04:16:28.745112",
     "exception": false,
     "start_time": "2025-10-31T04:16:28.740199",
     "status": "completed"
    },
    "tags": []
   },
   "source": [
    "## Display the papers\n",
    "\n",
    "Not necessary but allows for a quick check."
   ]
  },
  {
   "cell_type": "code",
   "execution_count": 9,
   "id": "fd25f625",
   "metadata": {
    "execution": {
     "iopub.execute_input": "2025-10-31T04:16:28.755692Z",
     "iopub.status.busy": "2025-10-31T04:16:28.755490Z",
     "iopub.status.idle": "2025-10-31T04:16:28.761673Z",
     "shell.execute_reply": "2025-10-31T04:16:28.761112Z"
    },
    "papermill": {
     "duration": 0.012513,
     "end_time": "2025-10-31T04:16:28.762580",
     "exception": false,
     "start_time": "2025-10-31T04:16:28.750067",
     "status": "completed"
    },
    "scrolled": false,
    "tags": []
   },
   "outputs": [
    {
     "data": {
      "text/markdown": [
       "<div class=\"macros\" style=\"visibility:hidden;\">\n",
       "$\\newcommand{\\ensuremath}{}$\n",
       "$\\newcommand{\\xspace}{}$\n",
       "$\\newcommand{\\object}[1]{\\texttt{#1}}$\n",
       "$\\newcommand{\\farcs}{{.}''}$\n",
       "$\\newcommand{\\farcm}{{.}'}$\n",
       "$\\newcommand{\\arcsec}{''}$\n",
       "$\\newcommand{\\arcmin}{'}$\n",
       "$\\newcommand{\\ion}[2]{#1#2}$\n",
       "$\\newcommand{\\textsc}[1]{\\textrm{#1}}$\n",
       "$\\newcommand{\\hl}[1]{\\textrm{#1}}$\n",
       "$\\newcommand{\\footnote}[1]{}$\n",
       "$\\newcommand{\\xhi}{\\langle x_{\\rm HI} \\rangle}$\n",
       "$\\newcommand{\\noop}[1]$\n",
       "$\\newcommand{\\thebibliography}{\\DeclareRobustCommand{\\VAN}[3]{##3}\\VANthebibliography}$\n",
       "$\\newcommand\\mn{@urlcharsother}$\n",
       "$\\newcommand\\mn{@doi}$\n",
       "$\\newcommand\\mn{@doi@}$\n",
       "$\\newcommand\\mn{@eprint#1#2}$\n",
       "$\\newcommand\\mn{@eprint@arXiv#1}$\n",
       "$\\newcommand\\mn{@eprint@dblp#1}$\n",
       "$\\newcommand\\mn{@eprint@#1:#2:#3:#4}$\n",
       "$\\newcommand{\\@}{tempa}$\n",
       "$\\newcommand{\\@}{tempa }$\n",
       "$\\newcommand{\\@}{tempb }$\n",
       "$\\newcommand{\\@}{tempc$\n",
       "$  }$\n",
       "$\\newcommand{\\@}{tempb }$</div>\n",
       "\n",
       "\n",
       "\n",
       "<div id=\"title\">\n",
       "\n",
       "# Updated dark pixel fraction constraints on reionization's end from theLyman-series forestsof XQR-30\n",
       "\n",
       "</div>\n",
       "<div id=\"comments\">\n",
       "\n",
       "[![arXiv](https://img.shields.io/badge/arXiv-2510.25829-b31b1b.svg)](https://arxiv.org/abs/2510.25829)<mark>Appeared on: 2025-10-31</mark> -  _14+4 pages, 14+6 figures, accepted for publication in MNRAS_\n",
       "\n",
       "</div>\n",
       "<div id=\"authors\">\n",
       "\n",
       "F. B. Davies, et al. -- incl., <mark>E. Bañados</mark>\n",
       "\n",
       "</div>\n",
       "<div id=\"abstract\">\n",
       "\n",
       "**Abstract:** The fraction of \"dark pixels\" in the Ly $\\alpha$ and other Lyman-series forests at $z\\sim5$ -- $6$ provides a powerful constraint on the end of the reionization process. Any spectral region showing transmission must be highly ionized, while dark regions could be ionized or neutral, thus the dark pixel fraction provides a (nearly) model independent upper limit to the volume-filling fraction of the neutral intergalactic medium, modulo choices in binning scale and dark pixel definition. Here we provide updated measurements of the 3.3 comoving Mpc dark pixel fraction at $z=4.85$ -- $6.25$ in the Ly $\\alpha$ , Ly $\\beta$ , and Ly $\\gamma$ forests of $34$ deep $5.8 \\lesssim z\\lesssim6.6$ quasar spectra from the (enlarged) XQR-30 sample. Using the negative pixel method to measure the dark pixel fraction, we derive fiducial $1\\sigma$ upper limits on the volume-average neutral hydrogen fraction of $\\langle x_{\\rm HI} \\rangle \\leq \\{0.030+0.048,0.095+0.037,0.191+0.056,0.199+0.087\\}$ at $\\bar{z}=\\{5.481,5.654,5.831,6.043\\}$ from the optimally sensitive combination of the Ly $\\beta$ and Ly $\\gamma$ forests. We further demonstrate an alternative method that treats the forest flux as a mixture of dark and transparent regions, where the latter are modeled using a physically-motivated parametric form for the intrinsic opacity distribution. The resulting model-dependent upper limits on $\\xhi$ are similar to those derived from our fiducial model-independent analysis. We confirm that the bulk of reionization must be finished at $z>6$ , while leaving room for an extended \"soft landing\" to the reionization history down to $z\\sim5.4$ suggested by Ly $\\alpha$ forest opacity fluctuations.\n",
       "\n",
       "</div>\n",
       "\n",
       "<div id=\"div_fig1\">\n",
       "\n",
       "<img src=\"tmp_2510.25829/./xhi_thresh_allforest.png\" alt=\"Fig8\" width=\"100%\"/>\n",
       "\n",
       "**Figure 8. -** Measurements of the dark pixel fraction in each Lyman-series forest and forest combination inferred from the threshold method applied to the E-XQR-30 data set. Uncertainties (thick: 1$\\sigma$, thin: 2$\\sigma$) are derived from bootstrap resampling of the quasar sightlines contributing to each bin, or from the confidence interval of the binomial fraction, whichever is larger. For the forest combinations (lower panels), we show the dark pixel fractions of the individual contributing forests in a light color with slight redshift offsets for clarity. (*fig:dark_thresh*)\n",
       "\n",
       "</div>\n",
       "<div id=\"div_fig2\">\n",
       "\n",
       "<img src=\"tmp_2510.25829/./threshpix_abg.png\" alt=\"Fig7.1\" width=\"50%\"/><img src=\"tmp_2510.25829/./threshpix_combo.png\" alt=\"Fig7.2\" width=\"50%\"/>\n",
       "\n",
       "**Figure 7. -** Distribution of detected (${\\rm S/N}>2$, blue) and undetected (${\\rm S/N}<2$, red) binned pixels in the $35$ E-XQR-30 quasar sightlines used in this work. White binned pixels within the low and high redshift boundaries of each quasar sightline have more than 50\\% of their spectral pixels masked. The regions with faded color at the high redshift end of each sightline show pixels within the quasar proximity zone exclusion. Left: Binned pixels in the Ly$\\alpha$(top), Ly$\\beta$(middle), and Ly$\\gamma$ forests. Right: Forest combinations Ly$\\alpha+$Ly$\\beta$(top), Ly$\\beta+$Ly$\\gamma$(middle), and Ly$\\alpha+$Ly$\\beta+$Ly$\\gamma$(bottom), where blue pixels are detected in any or all forests while red pixels are undetected in all forests. (*fig:threshpix*)\n",
       "\n",
       "</div>\n",
       "<div id=\"div_fig3\">\n",
       "\n",
       "<img src=\"tmp_2510.25829/./xhi_thresh_fiducial.png\" alt=\"Fig11.1\" width=\"50%\"/><img src=\"tmp_2510.25829/./xhi_negpix_fiducial.png\" alt=\"Fig11.2\" width=\"50%\"/>\n",
       "\n",
       "**Figure 11. -** Upper limits ($1\\sigma$, thick; $2\\sigma$, thin) on the IGM neutral fraction $\\xhi$ from the dark pixel fractions estimated using the threshold method (left) and negative pixel method (right). In each redshift bin we show the fiducial forest/combination that has the lowest $2\\sigma$ upper limit (see text). We compare our constraints to the dark pixel fraction measurements ($1\\sigma$ upper limits) from \\citet{McGreer15}(green points) and \\citet{Jin23}(orange points), which were estimated using the negative pixel method and threshold method, respectively. (*fig:xhi_fiducial*)\n",
       "\n",
       "</div><div id=\"qrcode\"><img src=https://api.qrserver.com/v1/create-qr-code/?size=100x100&data=\"https://arxiv.org/abs/2510.25829\"></div>"
      ],
      "text/plain": [
       "<IPython.core.display.Markdown object>"
      ]
     },
     "metadata": {},
     "output_type": "display_data"
    },
    {
     "data": {
      "text/markdown": [
       "<div class=\"macros\" style=\"visibility:hidden;\">\n",
       "$\\newcommand{\\ensuremath}{}$\n",
       "$\\newcommand{\\xspace}{}$\n",
       "$\\newcommand{\\object}[1]{\\texttt{#1}}$\n",
       "$\\newcommand{\\farcs}{{.}''}$\n",
       "$\\newcommand{\\farcm}{{.}'}$\n",
       "$\\newcommand{\\arcsec}{''}$\n",
       "$\\newcommand{\\arcmin}{'}$\n",
       "$\\newcommand{\\ion}[2]{#1#2}$\n",
       "$\\newcommand{\\textsc}[1]{\\textrm{#1}}$\n",
       "$\\newcommand{\\hl}[1]{\\textrm{#1}}$\n",
       "$\\newcommand{\\footnote}[1]{}$\n",
       "$\\newcommand$\n",
       "$\\newcommand$\n",
       "$\\newcommand$\n",
       "$\\newcommand$\n",
       "$\\newcommand$\n",
       "$\\newcommand$\n",
       "$\\newcommand$</div>\n",
       "\n",
       "\n",
       "\n",
       "<div id=\"title\">\n",
       "\n",
       "# oMEGACat. VIII. A Subpopulation Census of $\\omega$ Centauri\n",
       "\n",
       "</div>\n",
       "<div id=\"comments\">\n",
       "\n",
       "[![arXiv](https://img.shields.io/badge/arXiv-2510.26341-b31b1b.svg)](https://arxiv.org/abs/2510.26341)<mark>Appeared on: 2025-10-31</mark> - \n",
       "\n",
       "</div>\n",
       "<div id=\"authors\">\n",
       "\n",
       "<mark>C. Clontz</mark>, et al. -- incl., <mark>N. Neumayer</mark>\n",
       "\n",
       "</div>\n",
       "<div id=\"abstract\">\n",
       "\n",
       "**Abstract:** An understanding of the assembly history of the complex star cluster Omega Centauri has long been sought after, with many studies separating the stars on the color-magnitude diagram into multiple groupings across small magnitude ranges. Utilizing the oMEGACat combined astro-photometric and spectroscopic dataset we parse 14 subpopulations from the upper red-giant branch to below the main-sequence turnoff. We combine our results with previous works to estimate the age and age spread of each population. We find that the chemically enhanced (P2) populations are all $\\sim$ 1 Gyr younger ( $\\sim11.6$ Gyr old) and have significantly higher intrinsic age spreads (0.6 Gyr) than the primordial (P1) populations ( $\\sim 12.6$ Gyr old, 0.3 Gyr spread), with the intermediate (Im) populations falling in between the two. Additionally, we connect for the first time the Chromosome Diagram to the two-stream age-metallicity relation, allowing us to link the P1 and P2 stars to the distinct star formation tracks, proposed to be in-situ and ex-situ contributions to the cluster's assembly. Our results are consistent with some suggested formation models and rule out others but no current model can explain all observed features of the subpopulations.\n",
       "\n",
       "</div>\n",
       "\n",
       "<div id=\"div_fig1\">\n",
       "\n",
       "<img src=\"tmp_2510.26341/./figures/sgb_rgb_population_labels.png\" alt=\"Fig5\" width=\"100%\"/>\n",
       "\n",
       "**Figure 5. -** **Subpopulation Parsing:**_(all panels)_ Each small marker point is a single star, colored by its subpopulation label. The large colored circle marks the associated cluster and within each is the annotation of the cluster number, in order of metallicity, as well as the ChD stream label, as a subscript. The 1- and 2-$\\sigma$ density contours are shown in thick and thin black lines, respectively. _(upper left)_ The RGB chromosome map is constructed from the two delta-colors. The centroid of each subpopulation is given by the large colored markers. _(upper right)_ The pseudo-color vs. [Fe/H] space shows the distinction of the subpopulations in this space. _(lower panels)_ Same as upper panels except now for the SGB. Here, the large colored markers are offset to aid visibility and are connected to the centroid of each cluster via a solid line with the same color. (*fig:rgb_clustering*)\n",
       "\n",
       "</div>\n",
       "<div id=\"div_fig2\">\n",
       "\n",
       "<img src=\"tmp_2510.26341/./figures/two_panel_amr_age_spread.png\" alt=\"Fig1\" width=\"100%\"/>\n",
       "\n",
       "**Figure 1. -** **Subpopulation Age Relations**: ($_all panels_$) Each population is represented by a single medallion marker with the color corresponding to the cluster. Inside each the cluster number is annotated along with the relevant ChD stream indication subscript. The vertical black dashed lines show an approximate separation of the P1, Im and P2 populations. ($_upper panel_$) Black points mark all SGB stars with ages from [Clontz, Seth and Dotter (2024)](). Overplotted in the large colored circles are the mean (deconvolved) SGB age and median RGB metallicity for each subpopulation. The median age and [Fe/H] uncertainty for the SGB stars is given by the black contour while the median uncertainty on the mean age of each subpopulation is given by the black errorbars in the lower left. ($_lower panel_$) Each subpopulation mean age is plotted versus its intrinsic age spread. The median uncertainty on the mean age and intrinsic age spread is represented by a set of errorbars in the lower left corner. (*fig:amr_and_age_spread_two_panel*)\n",
       "\n",
       "</div>\n",
       "<div id=\"div_fig3\">\n",
       "\n",
       "<img src=\"tmp_2510.26341/./figures/cmd_with_regions_twopanel.png\" alt=\"Fig3\" width=\"100%\"/>\n",
       "\n",
       "**Figure 3. -** **Color-Magnitude Diagrams**:_(both panels)_ The black dotted line traces the overdense region of this plot when considering a subset of stars centered around the median metallicity ([Fe/H]$\\sim$-1.7). _(left panel)_ The full subset of high-quality member stars is plotted with light grey markers. All SGB stars with age determinations are overplotted in black. The upper black box delineates the region where the RGB ChD is generated while the lower black box delineates where the age-metallicity relation is calculated. _(right panel)_ The full subset of high-quality member stars is plotted with individual markers colored by their [Fe/H] value, following the colorbar at the top of this panel. The black box delineates where the initial RGB clustering is performed. The upper grey shaded region shows the extent of the first propagation step centroiding sample while the lower grey shaded region shows the extent of the first propagation step assignment data. The scaling data is constituted by the combination of the centroiding and assignment data. (*fig:cmd_with_regions*)\n",
       "\n",
       "</div><div id=\"qrcode\"><img src=https://api.qrserver.com/v1/create-qr-code/?size=100x100&data=\"https://arxiv.org/abs/2510.26341\"></div>"
      ],
      "text/plain": [
       "<IPython.core.display.Markdown object>"
      ]
     },
     "metadata": {},
     "output_type": "display_data"
    },
    {
     "data": {
      "text/markdown": [
       "<div class=\"macros\" style=\"visibility:hidden;\">\n",
       "$\\newcommand{\\ensuremath}{}$\n",
       "$\\newcommand{\\xspace}{}$\n",
       "$\\newcommand{\\object}[1]{\\texttt{#1}}$\n",
       "$\\newcommand{\\farcs}{{.}''}$\n",
       "$\\newcommand{\\farcm}{{.}'}$\n",
       "$\\newcommand{\\arcsec}{''}$\n",
       "$\\newcommand{\\arcmin}{'}$\n",
       "$\\newcommand{\\ion}[2]{#1#2}$\n",
       "$\\newcommand{\\textsc}[1]{\\textrm{#1}}$\n",
       "$\\newcommand{\\hl}[1]{\\textrm{#1}}$\n",
       "$\\newcommand{\\footnote}[1]{}$\n",
       "$\\newcommand{\\Rvis}{R_{550}}$\n",
       "$\\newcommand{\\tauvis}{\\tau_{550}}$\n",
       "$\\newcommand{\\AV}{A_{\\rm V}}$\n",
       "$\\newcommand{\\micron}{\\mu m}$\n",
       "$\\newcommand$\n",
       "$\\newcommand$\n",
       "$\\newcommand$\n",
       "$\\newcommand{\\LiI}{\\ion{Li}{i}}$\n",
       "$\\newcommand{\\CaI}{\\ion{Ca}{i}}$</div>\n",
       "\n",
       "\n",
       "\n",
       "<div id=\"title\">\n",
       "\n",
       "# The dance of dust: Investigating young stellar object dipper variability $\\thanks{Based on observations collected at the European Southern Observatory under ESO programmes 0105.C-0513(A),097.C-0378(A), 0101.C-0866(A), and 0103.C-0887(B).}$\n",
       "\n",
       "</div>\n",
       "<div id=\"comments\">\n",
       "\n",
       "[![arXiv](https://img.shields.io/badge/arXiv-2510.26449-b31b1b.svg)](https://arxiv.org/abs/2510.26449)<mark>Appeared on: 2025-10-31</mark> -  _Accepted for publication in Astronomy & Astrophysics (A&A)_\n",
       "\n",
       "</div>\n",
       "<div id=\"authors\">\n",
       "\n",
       "E. A., et al.\n",
       "\n",
       "</div>\n",
       "<div id=\"abstract\">\n",
       "\n",
       "**Abstract:** The dipper subclass of young stellar objects (YSOs) are characterised by frequent dips in their light curves. Irregular dippers do not show periodic signatures and have dips accounting for significant proportions of their photospheric flux. Given the short timescales on which these dips occur, their driving mechanisms are linked to the inner circumstellar disc dynamics. We present the first multi-epoch analysis of 16 irregular dippers observed with X-Shooter. Investigating the properties of their dips, and in particular the analysis of the dust characteristics, we aim to understand the root of their variability, and get a glimpse of the inner disc behaviour. We employed a novel approach to measure the properties of the dips, by combining class III templates with Gaia multi-epoch photometry to construct the intrinsic photosphere of the objects. We measured several dip properties including the depth of the dips, near-infrared (NIR) excesses, and their optical depths as a function of wavelength. We record 20 significant dips that range in their dip properties and show no relation to one another. In almost all cases, the low optical depths and small NIR excesses are observed. Comparison of their optical depths with grain opacity models show that the dips can be explained by the presence of dust substructures containing processed grains obscuring their photospheres and/or their discs. These grain distributions can have maximum sizes as large as 20 $\\mu m$ and in many cases have almost grey-like extinction, while some require a strong scattering component. The findings highlight the extent of the irregularity of dippers, but also link it to the dust dynamics in the inner regions of the circumstellar discs. The dust substructures causing the variability require processed dust grains to be lifted above the disc into the line of sight. Possible lifting mechanisms including disc winds, unstable accretion columns, and disc warps are discussed.\n",
       "\n",
       "</div>\n",
       "\n",
       "<div id=\"div_fig1\">\n",
       "\n",
       "<img src=\"tmp_2510.26449/./Plots/beta_abs_q3_colormap_half.png\" alt=\"Fig3.1\" width=\"25%\"/><img src=\"tmp_2510.26449/./Plots/beta_sca_q3_colormap_half.png\" alt=\"Fig3.2\" width=\"25%\"/><img src=\"tmp_2510.26449/./Plots/beta_ext_q3_colormap_half.png\" alt=\"Fig3.3\" width=\"25%\"/><img src=\"tmp_2510.26449/./Plots/beta_eff_q3_colormap_half.png\" alt=\"Fig3.4\" width=\"25%\"/>\n",
       "\n",
       "**Figure 3. -** $\\beta$ colour maps  from dust opacity models. Each figure represents a grid of dust size distributions varying  minimum and maximum grain sizes ($n(a)\\propto a^{-q}$ with q=3.0). Coloured by the values of $\\beta$ derived from the opacities for a) pure absorption ($\\beta_{abs}$), b)scattering ($\\beta_{sca}$, c) extinction ($\\beta_{ext}$), and d) effective extinction ($\\beta_{eff}$; see text). Contours are marked by black lines at $\\beta$ =  0.0 and $\\beta_{ISM} =1.38$). Pattern effects  are artefacts of the interpolation used.  (*fig: dustmaps*)\n",
       "\n",
       "</div>\n",
       "<div id=\"div_fig2\">\n",
       "\n",
       "<img src=\"tmp_2510.26449/./Plots/tau_masterplot.png\" alt=\"Fig12\" width=\"100%\"/>\n",
       "\n",
       "**Figure 12. -** $\\tau_\\lambda$ as a function of $\\lambda$ for all the 20 dips analysed in Sect.\\ref{sec: dust}. The name of the star and the epoch number are given on the secondary axis.\n",
       "    The observed values are shown by black dots with error bars.  The red coloured lines show the results for the grain size distribution that best fit the data in the wavelength interval 400-900 nm for the extinction opacities, each normalised to the observed value at 550 nm. The values of $a_{min}, a_{max}, q$ are given on top of each panel; the corresponding  grain size distribution is displayed in the insert. The vertical grey dotted lines represent the boundaries of $\\lambda = 400, 900$ nm. Three representative cases are also shown in the main paper. (*fig: master_tau*)\n",
       "\n",
       "</div>\n",
       "<div id=\"div_fig3\">\n",
       "\n",
       "<img src=\"tmp_2510.26449/./Plots/nir_excess.png\" alt=\"Fig4\" width=\"100%\"/>\n",
       "\n",
       "**Figure 4. -** Excess emission at 2.1 $\\mu m$, $\\epsilon_K$ shown as a function of $\\Rvis$. The top panel plots the ratio between the observed flux and the intrinsic photospheric one ($\\epsilon_K=\\frac{F_{obs,K}}{F_{ph,K}}-1$). The bottom panel shows the ratio between the observed flux corrected for the extinction derived at optical wavelengths and the photospheric flux ($\\epsilon_K=\\frac{F_{obs,K}e^{\\tau}}{F_{ph,K}}-1$). The grey area covers a $\\pm$20\\% region around $\\epsilon_K$ = 0. Vertical error bars on $\\epsilon_K$ are smaller than the size of the points. (*fig: nir_excess*)\n",
       "\n",
       "</div><div id=\"qrcode\"><img src=https://api.qrserver.com/v1/create-qr-code/?size=100x100&data=\"https://arxiv.org/abs/2510.26449\"></div>"
      ],
      "text/plain": [
       "<IPython.core.display.Markdown object>"
      ]
     },
     "metadata": {},
     "output_type": "display_data"
    }
   ],
   "source": [
    "[display(Markdown(k[1])) for k in documents];"
   ]
  },
  {
   "cell_type": "markdown",
   "id": "873873a4",
   "metadata": {
    "papermill": {
     "duration": 0.005541,
     "end_time": "2025-10-31T04:16:28.773781",
     "exception": false,
     "start_time": "2025-10-31T04:16:28.768240",
     "status": "completed"
    },
    "tags": []
   },
   "source": [
    "# Create HTML index"
   ]
  },
  {
   "cell_type": "code",
   "execution_count": 10,
   "id": "cf665672",
   "metadata": {
    "execution": {
     "iopub.execute_input": "2025-10-31T04:16:28.785275Z",
     "iopub.status.busy": "2025-10-31T04:16:28.785073Z",
     "iopub.status.idle": "2025-10-31T04:16:28.791575Z",
     "shell.execute_reply": "2025-10-31T04:16:28.791007Z"
    },
    "papermill": {
     "duration": 0.013286,
     "end_time": "2025-10-31T04:16:28.792444",
     "exception": false,
     "start_time": "2025-10-31T04:16:28.779158",
     "status": "completed"
    },
    "tags": []
   },
   "outputs": [
    {
     "name": "stdout",
     "output_type": "stream",
     "text": [
      "113  publications files modified in the last 7 days.\n"
     ]
    }
   ],
   "source": [
    "from datetime import datetime, timedelta, timezone\n",
    "from glob import glob\n",
    "import os\n",
    "\n",
    "files = glob('_build/html/*.md')\n",
    "days = 7\n",
    "now = datetime.today()\n",
    "res = []\n",
    "for fk in files:\n",
    "    stat_result = os.stat(fk).st_ctime\n",
    "    modified = datetime.fromtimestamp(stat_result, tz=timezone.utc).replace(tzinfo=None)\n",
    "    delta = now.today() - modified\n",
    "    if delta <= timedelta(days=days):\n",
    "        res.append((delta.seconds, fk))\n",
    "res = [k[1] for k in reversed(sorted(res, key=lambda x:x[1]))]\n",
    "npub = len(res)\n",
    "print(len(res), f\" publications files modified in the last {days:d} days.\")\n",
    "# [ print('\\t', k) for k in res ];"
   ]
  },
  {
   "cell_type": "code",
   "execution_count": 11,
   "id": "015de740",
   "metadata": {
    "execution": {
     "iopub.execute_input": "2025-10-31T04:16:28.804283Z",
     "iopub.status.busy": "2025-10-31T04:16:28.804093Z",
     "iopub.status.idle": "2025-10-31T04:16:28.814010Z",
     "shell.execute_reply": "2025-10-31T04:16:28.813435Z"
    },
    "papermill": {
     "duration": 0.016922,
     "end_time": "2025-10-31T04:16:28.814986",
     "exception": false,
     "start_time": "2025-10-31T04:16:28.798064",
     "status": "completed"
    },
    "tags": []
   },
   "outputs": [
    {
     "name": "stdout",
     "output_type": "stream",
     "text": [
      "7  publications in the last 7 days.\n"
     ]
    }
   ],
   "source": [
    "import datetime\n",
    "from glob import glob\n",
    "\n",
    "def get_last_n_days(lst, days=1):\n",
    "    \"\"\" Get the documents from the last n days \"\"\"\n",
    "    sorted_lst = sorted(lst, key=lambda x: x[1], reverse=True)\n",
    "    for fname, date in sorted_lst:\n",
    "        if date >= str(datetime.date.today() - datetime.timedelta(days=days)):\n",
    "            yield fname\n",
    "\n",
    "def extract_appearance_dates(lst_file):\n",
    "    dates = []\n",
    "\n",
    "    def get_date(line):\n",
    "        return line\\\n",
    "            .split('Appeared on:')[-1]\\\n",
    "            .split('</mark>')[0].strip()\n",
    "\n",
    "    for fname in lst:\n",
    "        with open(fname, 'r') as f:\n",
    "            found_date = False\n",
    "            for line in f:\n",
    "                if not found_date:\n",
    "                    if \"Appeared on\" in line:\n",
    "                        found_date = True\n",
    "                        dates.append((fname, get_date(line)))\n",
    "                else:\n",
    "                    break\n",
    "    return dates\n",
    "\n",
    "from glob import glob\n",
    "lst = glob('_build/html/*md')\n",
    "days = 7\n",
    "dates = extract_appearance_dates(lst)\n",
    "res = list(get_last_n_days(dates, days))\n",
    "npub = len(res)\n",
    "print(len(res), f\" publications in the last {days:d} days.\")"
   ]
  },
  {
   "cell_type": "code",
   "execution_count": 12,
   "id": "52ca0208",
   "metadata": {
    "execution": {
     "iopub.execute_input": "2025-10-31T04:16:28.827339Z",
     "iopub.status.busy": "2025-10-31T04:16:28.827120Z",
     "iopub.status.idle": "2025-10-31T04:16:28.831395Z",
     "shell.execute_reply": "2025-10-31T04:16:28.830915Z"
    },
    "papermill": {
     "duration": 0.011509,
     "end_time": "2025-10-31T04:16:28.832237",
     "exception": false,
     "start_time": "2025-10-31T04:16:28.820728",
     "status": "completed"
    },
    "scrolled": false,
    "tags": []
   },
   "outputs": [],
   "source": [
    "def create_carousel(npub=4):\n",
    "    \"\"\" Generate the HTML code for a carousel with `npub` slides \"\"\"\n",
    "    carousel = [\"\"\"  <div class=\"carousel\" \"\"\",\n",
    "                \"\"\"       data-flickity='{ \"autoPlay\": 10000, \"adaptiveHeight\": true, \"resize\": true, \"wrapAround\": true, \"pauseAutoPlayOnHover\": true, \"groupCells\": 1 }' id=\"asyncTypeset\">\"\"\"\n",
    "                ]\n",
    "    \n",
    "    item_str = \"\"\"    <div class=\"carousel-cell\"> <div id=\"slide{k}\" class=\"md_view\">Content {k}</div> </div>\"\"\"\n",
    "    for k in range(1, npub + 1):\n",
    "        carousel.append(item_str.format(k=k))\n",
    "    carousel.append(\"  </div>\")\n",
    "    return '\\n'.join(carousel)\n",
    "\n",
    "def create_grid(npub=4):\n",
    "    \"\"\" Generate the HTML code for a flat grid with `npub` slides \"\"\"\n",
    "    grid = [\"\"\"  <div class=\"grid\"> \"\"\",\n",
    "                ]\n",
    "    \n",
    "    item_str = \"\"\"    <div class=\"grid-item\"> <div id=\"slide{k}\" class=\"md_view\">Content {k}</div> </div>\"\"\"\n",
    "    for k in range(1, npub + 1):\n",
    "        grid.append(item_str.format(k=k))\n",
    "    grid.append(\"  </div>\")\n",
    "    return '\\n'.join(grid)"
   ]
  },
  {
   "cell_type": "code",
   "execution_count": 13,
   "id": "a6eac5b6",
   "metadata": {
    "execution": {
     "iopub.execute_input": "2025-10-31T04:16:28.844370Z",
     "iopub.status.busy": "2025-10-31T04:16:28.844152Z",
     "iopub.status.idle": "2025-10-31T04:16:28.848843Z",
     "shell.execute_reply": "2025-10-31T04:16:28.848380Z"
    },
    "papermill": {
     "duration": 0.011873,
     "end_time": "2025-10-31T04:16:28.849734",
     "exception": false,
     "start_time": "2025-10-31T04:16:28.837861",
     "status": "completed"
    },
    "scrolled": false,
    "tags": []
   },
   "outputs": [],
   "source": [
    "carousel = create_carousel(npub)\n",
    "docs = ', '.join(['\"{0:s}\"'.format(k.split('/')[-1]) for k in res])\n",
    "slides = ', '.join([f'\"slide{k}\"' for k in range(1, npub + 1)])\n",
    "\n",
    "with open(\"daily_template.html\", \"r\") as tpl:\n",
    "    page = tpl.read()\n",
    "    page = page.replace(\"{%-- carousel:s --%}\", carousel)\\\n",
    "               .replace(\"{%-- suptitle:s --%}\",  \"7-day archives\" )\\\n",
    "               .replace(\"{%-- docs:s --%}\", docs)\\\n",
    "               .replace(\"{%-- slides:s --%}\", slides)\n",
    "    \n",
    "with open(\"_build/html/index_7days.html\", 'w') as fout:\n",
    "    fout.write(page)"
   ]
  },
  {
   "cell_type": "code",
   "execution_count": 14,
   "id": "adc1a1ec",
   "metadata": {
    "execution": {
     "iopub.execute_input": "2025-10-31T04:16:28.861830Z",
     "iopub.status.busy": "2025-10-31T04:16:28.861628Z",
     "iopub.status.idle": "2025-10-31T04:16:28.867493Z",
     "shell.execute_reply": "2025-10-31T04:16:28.866869Z"
    },
    "papermill": {
     "duration": 0.013019,
     "end_time": "2025-10-31T04:16:28.868456",
     "exception": false,
     "start_time": "2025-10-31T04:16:28.855437",
     "status": "completed"
    },
    "tags": []
   },
   "outputs": [
    {
     "name": "stdout",
     "output_type": "stream",
     "text": [
      "6  publications in the last day.\n"
     ]
    }
   ],
   "source": [
    "# redo for today\n",
    "days = 1\n",
    "res = list(get_last_n_days(dates, days))\n",
    "npub = len(res)\n",
    "print(len(res), f\" publications in the last day.\")\n",
    "\n",
    "carousel = create_carousel(npub)\n",
    "docs = ', '.join(['\"{0:s}\"'.format(k.split('/')[-1]) for k in res])\n",
    "slides = ', '.join([f'\"slide{k}\"' for k in range(1, npub + 1)])\n",
    "\n",
    "with open(\"daily_template.html\", \"r\") as tpl:\n",
    "    page = tpl.read()\n",
    "    page = page.replace(\"{%-- carousel:s --%}\", carousel)\\\n",
    "               .replace(\"{%-- suptitle:s --%}\",  \"Daily\" )\\\n",
    "               .replace(\"{%-- docs:s --%}\", docs)\\\n",
    "               .replace(\"{%-- slides:s --%}\", slides)\n",
    "    \n",
    "# print(carousel, docs, slides)\n",
    "# print(page)\n",
    "with open(\"_build/html/index_daily.html\", 'w') as fout:\n",
    "    fout.write(page)"
   ]
  },
  {
   "cell_type": "code",
   "execution_count": 15,
   "id": "00eece82",
   "metadata": {
    "execution": {
     "iopub.execute_input": "2025-10-31T04:16:28.881008Z",
     "iopub.status.busy": "2025-10-31T04:16:28.880809Z",
     "iopub.status.idle": "2025-10-31T04:16:28.887024Z",
     "shell.execute_reply": "2025-10-31T04:16:28.886396Z"
    },
    "papermill": {
     "duration": 0.013573,
     "end_time": "2025-10-31T04:16:28.887908",
     "exception": false,
     "start_time": "2025-10-31T04:16:28.874335",
     "status": "completed"
    },
    "scrolled": false,
    "tags": []
   },
   "outputs": [
    {
     "name": "stdout",
     "output_type": "stream",
     "text": [
      "6  6 publications selected.\n"
     ]
    }
   ],
   "source": [
    "# Create the flat grid of the last N papers (fixed number regardless of dates)\n",
    "from itertools import islice \n",
    "\n",
    "npub = 6\n",
    "res = [k[0] for k in (islice(reversed(sorted(dates, key=lambda x: x[1])), 6))]\n",
    "print(len(res), f\" {npub} publications selected.\")\n",
    "\n",
    "grid = create_grid(npub)\n",
    "docs = ', '.join(['\"{0:s}\"'.format(k.split('/')[-1]) for k in res])\n",
    "slides = ', '.join([f'\"slide{k}\"' for k in range(1, npub + 1)])\n",
    "\n",
    "with open(\"grid_template.html\", \"r\") as tpl:\n",
    "    page = tpl.read()\n",
    "    page = page.replace(\"{%-- grid-content:s --%}\", grid)\\\n",
    "               .replace(\"{%-- suptitle:s --%}\",  f\"Last {npub:,d} papers\" )\\\n",
    "               .replace(\"{%-- docs:s --%}\", docs)\\\n",
    "               .replace(\"{%-- slides:s --%}\", slides)\n",
    "    \n",
    "# print(grid, docs, slides)\n",
    "# print(page)\n",
    "with open(\"_build/html/index_npub_grid.html\", 'w') as fout:\n",
    "    fout.write(page)"
   ]
  }
 ],
 "metadata": {
  "kernelspec": {
   "display_name": "Python 3 (ipykernel)",
   "language": "python",
   "name": "python3"
  },
  "language_info": {
   "codemirror_mode": {
    "name": "ipython",
    "version": 3
   },
   "file_extension": ".py",
   "mimetype": "text/x-python",
   "name": "python",
   "nbconvert_exporter": "python",
   "pygments_lexer": "ipython3",
   "version": "3.9.23"
  },
  "papermill": {
   "default_parameters": {},
   "duration": 133.846044,
   "end_time": "2025-10-31T04:16:29.110616",
   "environment_variables": {},
   "exception": null,
   "input_path": "MPIA daily digest.ipynb",
   "output_path": "log.ipynb",
   "parameters": {},
   "start_time": "2025-10-31T04:14:15.264572",
   "version": "2.6.0"
  },
  "vscode": {
   "interpreter": {
    "hash": "aee8b7b246df8f9039afb4144a1f6fd8d2ca17a180786b69acc140d282b71a49"
   }
  },
  "widgets": {
   "application/vnd.jupyter.widget-state+json": {
    "state": {
     "1c9da61eed2d493ab27d115981055ab2": {
      "model_module": "@jupyter-widgets/base",
      "model_module_version": "2.0.0",
      "model_name": "LayoutModel",
      "state": {
       "_model_module": "@jupyter-widgets/base",
       "_model_module_version": "2.0.0",
       "_model_name": "LayoutModel",
       "_view_count": null,
       "_view_module": "@jupyter-widgets/base",
       "_view_module_version": "2.0.0",
       "_view_name": "LayoutView",
       "align_content": null,
       "align_items": null,
       "align_self": null,
       "border_bottom": null,
       "border_left": null,
       "border_right": null,
       "border_top": null,
       "bottom": null,
       "display": null,
       "flex": null,
       "flex_flow": null,
       "grid_area": null,
       "grid_auto_columns": null,
       "grid_auto_flow": null,
       "grid_auto_rows": null,
       "grid_column": null,
       "grid_gap": null,
       "grid_row": null,
       "grid_template_areas": null,
       "grid_template_columns": null,
       "grid_template_rows": null,
       "height": null,
       "justify_content": null,
       "justify_items": null,
       "left": null,
       "margin": null,
       "max_height": null,
       "max_width": null,
       "min_height": null,
       "min_width": null,
       "object_fit": null,
       "object_position": null,
       "order": null,
       "overflow": null,
       "padding": null,
       "right": null,
       "top": null,
       "visibility": null,
       "width": null
      }
     },
     "3cb5a2a9efac4e26a09d2672b9e56af5": {
      "model_module": "@jupyter-widgets/base",
      "model_module_version": "2.0.0",
      "model_name": "LayoutModel",
      "state": {
       "_model_module": "@jupyter-widgets/base",
       "_model_module_version": "2.0.0",
       "_model_name": "LayoutModel",
       "_view_count": null,
       "_view_module": "@jupyter-widgets/base",
       "_view_module_version": "2.0.0",
       "_view_name": "LayoutView",
       "align_content": null,
       "align_items": null,
       "align_self": null,
       "border_bottom": null,
       "border_left": null,
       "border_right": null,
       "border_top": null,
       "bottom": null,
       "display": null,
       "flex": null,
       "flex_flow": null,
       "grid_area": null,
       "grid_auto_columns": null,
       "grid_auto_flow": null,
       "grid_auto_rows": null,
       "grid_column": null,
       "grid_gap": null,
       "grid_row": null,
       "grid_template_areas": null,
       "grid_template_columns": null,
       "grid_template_rows": null,
       "height": null,
       "justify_content": null,
       "justify_items": null,
       "left": null,
       "margin": null,
       "max_height": null,
       "max_width": null,
       "min_height": null,
       "min_width": null,
       "object_fit": null,
       "object_position": null,
       "order": null,
       "overflow": null,
       "padding": null,
       "right": null,
       "top": null,
       "visibility": null,
       "width": null
      }
     },
     "409f475c7b8240eea9d1029d702b979c": {
      "model_module": "@jupyter-widgets/controls",
      "model_module_version": "2.0.0",
      "model_name": "HTMLModel",
      "state": {
       "_dom_classes": [],
       "_model_module": "@jupyter-widgets/controls",
       "_model_module_version": "2.0.0",
       "_model_name": "HTMLModel",
       "_view_count": null,
       "_view_module": "@jupyter-widgets/controls",
       "_view_module_version": "2.0.0",
       "_view_name": "HTMLView",
       "description": "",
       "description_allow_html": false,
       "layout": "IPY_MODEL_3cb5a2a9efac4e26a09d2672b9e56af5",
       "placeholder": "​",
       "style": "IPY_MODEL_d581b4f623654bb582de39a636282141",
       "tabbable": null,
       "tooltip": null,
       "value": " 9/9 [01:49&lt;00:00, 11.78s/it]"
      }
     },
     "61f6f41237e14daba7d155406c0665f3": {
      "model_module": "@jupyter-widgets/base",
      "model_module_version": "2.0.0",
      "model_name": "LayoutModel",
      "state": {
       "_model_module": "@jupyter-widgets/base",
       "_model_module_version": "2.0.0",
       "_model_name": "LayoutModel",
       "_view_count": null,
       "_view_module": "@jupyter-widgets/base",
       "_view_module_version": "2.0.0",
       "_view_name": "LayoutView",
       "align_content": null,
       "align_items": null,
       "align_self": null,
       "border_bottom": null,
       "border_left": null,
       "border_right": null,
       "border_top": null,
       "bottom": null,
       "display": null,
       "flex": null,
       "flex_flow": null,
       "grid_area": null,
       "grid_auto_columns": null,
       "grid_auto_flow": null,
       "grid_auto_rows": null,
       "grid_column": null,
       "grid_gap": null,
       "grid_row": null,
       "grid_template_areas": null,
       "grid_template_columns": null,
       "grid_template_rows": null,
       "height": null,
       "justify_content": null,
       "justify_items": null,
       "left": null,
       "margin": null,
       "max_height": null,
       "max_width": null,
       "min_height": null,
       "min_width": null,
       "object_fit": null,
       "object_position": null,
       "order": null,
       "overflow": null,
       "padding": null,
       "right": null,
       "top": null,
       "visibility": null,
       "width": null
      }
     },
     "6f6fcaa8ce7a42e78e433f541199017f": {
      "model_module": "@jupyter-widgets/controls",
      "model_module_version": "2.0.0",
      "model_name": "HBoxModel",
      "state": {
       "_dom_classes": [],
       "_model_module": "@jupyter-widgets/controls",
       "_model_module_version": "2.0.0",
       "_model_name": "HBoxModel",
       "_view_count": null,
       "_view_module": "@jupyter-widgets/controls",
       "_view_module_version": "2.0.0",
       "_view_name": "HBoxView",
       "box_style": "",
       "children": [
        "IPY_MODEL_f8dca93d080c43cbb50d5ec9f06ba45f",
        "IPY_MODEL_b1d9c392f1864684b08b9f43d68834d9",
        "IPY_MODEL_409f475c7b8240eea9d1029d702b979c"
       ],
       "layout": "IPY_MODEL_94d7cbbaad884b0090daeafd9a0f2346",
       "tabbable": null,
       "tooltip": null
      }
     },
     "93a91402df3649d4a6237bddd58f7d4a": {
      "model_module": "@jupyter-widgets/controls",
      "model_module_version": "2.0.0",
      "model_name": "HTMLStyleModel",
      "state": {
       "_model_module": "@jupyter-widgets/controls",
       "_model_module_version": "2.0.0",
       "_model_name": "HTMLStyleModel",
       "_view_count": null,
       "_view_module": "@jupyter-widgets/base",
       "_view_module_version": "2.0.0",
       "_view_name": "StyleView",
       "background": null,
       "description_width": "",
       "font_size": null,
       "text_color": null
      }
     },
     "94d7cbbaad884b0090daeafd9a0f2346": {
      "model_module": "@jupyter-widgets/base",
      "model_module_version": "2.0.0",
      "model_name": "LayoutModel",
      "state": {
       "_model_module": "@jupyter-widgets/base",
       "_model_module_version": "2.0.0",
       "_model_name": "LayoutModel",
       "_view_count": null,
       "_view_module": "@jupyter-widgets/base",
       "_view_module_version": "2.0.0",
       "_view_name": "LayoutView",
       "align_content": null,
       "align_items": null,
       "align_self": null,
       "border_bottom": null,
       "border_left": null,
       "border_right": null,
       "border_top": null,
       "bottom": null,
       "display": null,
       "flex": null,
       "flex_flow": null,
       "grid_area": null,
       "grid_auto_columns": null,
       "grid_auto_flow": null,
       "grid_auto_rows": null,
       "grid_column": null,
       "grid_gap": null,
       "grid_row": null,
       "grid_template_areas": null,
       "grid_template_columns": null,
       "grid_template_rows": null,
       "height": null,
       "justify_content": null,
       "justify_items": null,
       "left": null,
       "margin": null,
       "max_height": null,
       "max_width": null,
       "min_height": null,
       "min_width": null,
       "object_fit": null,
       "object_position": null,
       "order": null,
       "overflow": null,
       "padding": null,
       "right": null,
       "top": null,
       "visibility": null,
       "width": null
      }
     },
     "9818280b47a14e27b3721001b8f7bcd8": {
      "model_module": "@jupyter-widgets/controls",
      "model_module_version": "2.0.0",
      "model_name": "ProgressStyleModel",
      "state": {
       "_model_module": "@jupyter-widgets/controls",
       "_model_module_version": "2.0.0",
       "_model_name": "ProgressStyleModel",
       "_view_count": null,
       "_view_module": "@jupyter-widgets/base",
       "_view_module_version": "2.0.0",
       "_view_name": "StyleView",
       "bar_color": null,
       "description_width": ""
      }
     },
     "b1d9c392f1864684b08b9f43d68834d9": {
      "model_module": "@jupyter-widgets/controls",
      "model_module_version": "2.0.0",
      "model_name": "FloatProgressModel",
      "state": {
       "_dom_classes": [],
       "_model_module": "@jupyter-widgets/controls",
       "_model_module_version": "2.0.0",
       "_model_name": "FloatProgressModel",
       "_view_count": null,
       "_view_module": "@jupyter-widgets/controls",
       "_view_module_version": "2.0.0",
       "_view_name": "ProgressView",
       "bar_style": "success",
       "description": "",
       "description_allow_html": false,
       "layout": "IPY_MODEL_1c9da61eed2d493ab27d115981055ab2",
       "max": 9.0,
       "min": 0.0,
       "orientation": "horizontal",
       "style": "IPY_MODEL_9818280b47a14e27b3721001b8f7bcd8",
       "tabbable": null,
       "tooltip": null,
       "value": 9.0
      }
     },
     "d581b4f623654bb582de39a636282141": {
      "model_module": "@jupyter-widgets/controls",
      "model_module_version": "2.0.0",
      "model_name": "HTMLStyleModel",
      "state": {
       "_model_module": "@jupyter-widgets/controls",
       "_model_module_version": "2.0.0",
       "_model_name": "HTMLStyleModel",
       "_view_count": null,
       "_view_module": "@jupyter-widgets/base",
       "_view_module_version": "2.0.0",
       "_view_name": "StyleView",
       "background": null,
       "description_width": "",
       "font_size": null,
       "text_color": null
      }
     },
     "f8dca93d080c43cbb50d5ec9f06ba45f": {
      "model_module": "@jupyter-widgets/controls",
      "model_module_version": "2.0.0",
      "model_name": "HTMLModel",
      "state": {
       "_dom_classes": [],
       "_model_module": "@jupyter-widgets/controls",
       "_model_module_version": "2.0.0",
       "_model_name": "HTMLModel",
       "_view_count": null,
       "_view_module": "@jupyter-widgets/controls",
       "_view_module_version": "2.0.0",
       "_view_name": "HTMLView",
       "description": "",
       "description_allow_html": false,
       "layout": "IPY_MODEL_61f6f41237e14daba7d155406c0665f3",
       "placeholder": "​",
       "style": "IPY_MODEL_93a91402df3649d4a6237bddd58f7d4a",
       "tabbable": null,
       "tooltip": null,
       "value": "100%"
      }
     }
    },
    "version_major": 2,
    "version_minor": 0
   }
  }
 },
 "nbformat": 4,
 "nbformat_minor": 5
}