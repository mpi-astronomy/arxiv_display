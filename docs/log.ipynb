{
 "cells": [
  {
   "cell_type": "markdown",
   "id": "92bcb855",
   "metadata": {
    "papermill": {
     "duration": 0.008635,
     "end_time": "2023-05-01T04:05:46.099590",
     "exception": false,
     "start_time": "2023-05-01T04:05:46.090955",
     "status": "completed"
    },
    "tags": []
   },
   "source": [
    "# MPIA Arxiv on Deck 2\n",
    "\n",
    "Contains the steps to produce the paper extractions."
   ]
  },
  {
   "cell_type": "code",
   "execution_count": 1,
   "id": "3a0d6e11",
   "metadata": {
    "execution": {
     "iopub.execute_input": "2023-05-01T04:05:46.110849Z",
     "iopub.status.busy": "2023-05-01T04:05:46.109972Z",
     "iopub.status.idle": "2023-05-01T04:05:46.378469Z",
     "shell.execute_reply": "2023-05-01T04:05:46.377273Z"
    },
    "papermill": {
     "duration": 0.277799,
     "end_time": "2023-05-01T04:05:46.382046",
     "exception": false,
     "start_time": "2023-05-01T04:05:46.104247",
     "status": "completed"
    },
    "tags": []
   },
   "outputs": [],
   "source": [
    "# Imports\n",
    "import os\n",
    "from IPython.display import Markdown, display\n",
    "from tqdm.notebook import tqdm\n",
    "import warnings\n",
    "from PIL import Image \n",
    "\n",
    "# requires arxiv_on_deck_2\n",
    "\n",
    "from arxiv_on_deck_2.arxiv2 import (get_new_papers, \n",
    "                                    get_paper_from_identifier,\n",
    "                                    retrieve_document_source, \n",
    "                                    get_markdown_badge)\n",
    "from arxiv_on_deck_2 import (latex,\n",
    "                             latex_bib,\n",
    "                             mpia,\n",
    "                             highlight_authors_in_list)\n",
    "\n",
    "# Sometimes images are really big\n",
    "Image.MAX_IMAGE_PIXELS = 1000000000 "
   ]
  },
  {
   "cell_type": "code",
   "execution_count": 2,
   "id": "22aa9d44",
   "metadata": {
    "execution": {
     "iopub.execute_input": "2023-05-01T04:05:46.393684Z",
     "iopub.status.busy": "2023-05-01T04:05:46.393402Z",
     "iopub.status.idle": "2023-05-01T04:05:46.401032Z",
     "shell.execute_reply": "2023-05-01T04:05:46.400331Z"
    },
    "papermill": {
     "duration": 0.014914,
     "end_time": "2023-05-01T04:05:46.402780",
     "exception": false,
     "start_time": "2023-05-01T04:05:46.387866",
     "status": "completed"
    },
    "tags": []
   },
   "outputs": [],
   "source": [
    "# Some useful definitions.\n",
    "\n",
    "class AffiliationWarning(UserWarning):\n",
    "    pass\n",
    "\n",
    "class AffiliationError(RuntimeError):\n",
    "    pass\n",
    "\n",
    "def validation(source: str):\n",
    "    \"\"\"Raises error paper during parsing of source file\n",
    "    \n",
    "    Allows checks before parsing TeX code.\n",
    "    \n",
    "    Raises AffiliationWarning\n",
    "    \"\"\"\n",
    "    check = mpia.affiliation_verifications(source, verbose=True)\n",
    "    if check is not True:\n",
    "        raise AffiliationError(\"mpia.affiliation_verifications: \" + check)\n",
    "\n",
    "        \n",
    "warnings.simplefilter('always', AffiliationWarning)\n",
    "\n",
    "\n",
    "def get_markdown_qrcode(paper_id: str):\n",
    "    \"\"\" Generate a qrcode to the arxiv page using qrserver.com\n",
    "    \n",
    "    :param paper: Arxiv paper\n",
    "    :returns: markdown text\n",
    "    \"\"\"\n",
    "    url = r\"https://api.qrserver.com/v1/create-qr-code/?size=100x100&data=\"\n",
    "    txt = f\"\"\"<img src={url}\"https://arxiv.org/abs/{paper_id}\">\"\"\"\n",
    "    txt = '<div id=\"qrcode\">' + txt + '</div>'\n",
    "    return txt"
   ]
  },
  {
   "cell_type": "markdown",
   "id": "14bd6310",
   "metadata": {
    "papermill": {
     "duration": 0.003873,
     "end_time": "2023-05-01T04:05:46.410529",
     "exception": false,
     "start_time": "2023-05-01T04:05:46.406656",
     "status": "completed"
    },
    "tags": []
   },
   "source": [
    "## get list of arxiv paper candidates\n",
    "\n",
    "We use the MPIA mitarbeiter list webpage from mpia.de to get author names\n",
    "We then get all new papers from Arxiv and match authors"
   ]
  },
  {
   "cell_type": "code",
   "execution_count": 3,
   "id": "2645e73a",
   "metadata": {
    "execution": {
     "iopub.execute_input": "2023-05-01T04:05:46.419969Z",
     "iopub.status.busy": "2023-05-01T04:05:46.419430Z",
     "iopub.status.idle": "2023-05-01T04:06:17.973943Z",
     "shell.execute_reply": "2023-05-01T04:06:17.971938Z"
    },
    "papermill": {
     "duration": 31.564644,
     "end_time": "2023-05-01T04:06:17.979096",
     "exception": false,
     "start_time": "2023-05-01T04:05:46.414452",
     "status": "completed"
    },
    "tags": []
   },
   "outputs": [
    {
     "name": "stdout",
     "output_type": "stream",
     "text": [
      "H. Linz  ->  H. Linz  |  ['H. Linz']\n",
      "H. Linz  ->  H. Linz  |  ['H. Linz']\n",
      "A. Frank  ->  A. Frank  |  ['A. Frank']\n",
      "Arxiv has 44 new papers today\n",
      "          3 with possible author matches\n"
     ]
    }
   ],
   "source": [
    "# get list from MPIA website\n",
    "# it automatically filters identified non-scientists :func:`mpia.filter_non_scientists`\n",
    "mpia_authors = mpia.get_mpia_mitarbeiter_list()\n",
    "normed_mpia_authors = [k[1] for k in mpia_authors]   # initials + fullname\n",
    "new_papers = get_new_papers()\n",
    "# add manual references\n",
    "add_paper_refs = []\n",
    "new_papers.extend([get_paper_from_identifier(k) for k in add_paper_refs])\n",
    "\n",
    "candidates = []\n",
    "for paperk in new_papers:\n",
    "    # Check author list with their initials\n",
    "    normed_author_list = [mpia.get_initials(k) for k in paperk['authors']]\n",
    "    hl_authors = highlight_authors_in_list(normed_author_list, normed_mpia_authors, verbose=True)\n",
    "    matches = [(hl, orig) for hl, orig in zip(hl_authors, paperk['authors']) if 'mark' in hl]\n",
    "    paperk['authors'] = hl_authors\n",
    "    if matches:\n",
    "        # only select paper if an author matched our list\n",
    "        candidates.append(paperk)\n",
    "print(\"\"\"Arxiv has {0:,d} new papers today\"\"\".format(len(new_papers)))        \n",
    "print(\"\"\"          {0:,d} with possible author matches\"\"\".format(len(candidates)))"
   ]
  },
  {
   "cell_type": "markdown",
   "id": "3543b34a",
   "metadata": {
    "papermill": {
     "duration": 0.004328,
     "end_time": "2023-05-01T04:06:17.987599",
     "exception": false,
     "start_time": "2023-05-01T04:06:17.983271",
     "status": "completed"
    },
    "tags": []
   },
   "source": [
    "# Parse sources and generate relevant outputs\n",
    "\n",
    "From the candidates, we do the following steps:\n",
    "* get their tarball from ArXiv (and extract data)\n",
    "* find the main .tex file: find one with \\documentclass{...} (sometimes it's non trivial)\n",
    "* Check affiliations with :func:`validation`, which uses :func:`mpia.affiliation_verifications`\n",
    "* If passing the affiliations: we parse the .tex source\n",
    "   * inject sub-documents into the main (flatten the main document)\n",
    "   * parse structure, extract information (title, abstract, authors, figures...)\n",
    "   * handles `\\graphicspath` if provided\n",
    "* Generate the .md document."
   ]
  },
  {
   "cell_type": "code",
   "execution_count": 4,
   "id": "9576b79e",
   "metadata": {
    "execution": {
     "iopub.execute_input": "2023-05-01T04:06:17.997310Z",
     "iopub.status.busy": "2023-05-01T04:06:17.996822Z",
     "iopub.status.idle": "2023-05-01T04:06:56.093648Z",
     "shell.execute_reply": "2023-05-01T04:06:56.092175Z"
    },
    "papermill": {
     "duration": 38.107833,
     "end_time": "2023-05-01T04:06:56.099433",
     "exception": false,
     "start_time": "2023-05-01T04:06:17.991600",
     "status": "completed"
    },
    "scrolled": false,
    "tags": []
   },
   "outputs": [
    {
     "data": {
      "application/vnd.jupyter.widget-view+json": {
       "model_id": "8fc5ec4e7cac4d60bc04b9b032792d24",
       "version_major": 2,
       "version_minor": 0
      },
      "text/plain": [
       "  0%|          | 0/2 [00:00<?, ?it/s]"
      ]
     },
     "metadata": {},
     "output_type": "display_data"
    },
    {
     "name": "stdout",
     "output_type": "stream",
     "text": [
      "Retrieving document from  https://arxiv.org/e-print/2304.14739\n"
     ]
    },
    {
     "name": "stdout",
     "output_type": "stream",
     "text": [
      "extracting tarball to tmp_2304.14739..."
     ]
    },
    {
     "name": "stdout",
     "output_type": "stream",
     "text": [
      " done.\n"
     ]
    },
    {
     "name": "stdout",
     "output_type": "stream",
     "text": [
      "list index out of range\n",
      "Retrieving document from  https://arxiv.org/e-print/2304.14740\n"
     ]
    },
    {
     "name": "stdout",
     "output_type": "stream",
     "text": [
      "extracting tarball to tmp_2304.14740..."
     ]
    },
    {
     "name": "stdout",
     "output_type": "stream",
     "text": [
      " done.\n"
     ]
    },
    {
     "name": "stdout",
     "output_type": "stream",
     "text": [
      "list index out of range\n"
     ]
    }
   ],
   "source": [
    "documents = []\n",
    "failed = []\n",
    "for paper in tqdm(candidates[:-1]):\n",
    "    paper_id = paper['identifier'].lower().replace('arxiv:', '')\n",
    "    \n",
    "    folder = f'tmp_{paper_id}'\n",
    "\n",
    "    try:\n",
    "        if not os.path.isdir(folder):\n",
    "            folder = retrieve_document_source(f\"{paper_id}\", f'tmp_{paper_id}')\n",
    "        \n",
    "        try:\n",
    "            doc = latex.LatexDocument(folder, validation=validation)    \n",
    "        except AffiliationError as affilerror:\n",
    "            msg = f\"ArXiv:{paper_id:s} is not an MPIA paper... \" + str(affilerror)\n",
    "            failed.append((paper, \"affiliation error: \" + str(affilerror) ))\n",
    "            continue\n",
    "        \n",
    "        # Hack because sometimes author parsing does not work well\n",
    "        if (len(doc.authors) != len(paper['authors'])):\n",
    "            doc._authors = paper['authors']\n",
    "        else:\n",
    "            # highlight authors (FIXME: doc.highlight_authors)\n",
    "            # done on arxiv paper already\n",
    "            doc._authors = highlight_authors_in_list(\n",
    "                [mpia.get_initials(k) for k in doc.authors], \n",
    "                normed_mpia_authors, verbose=True)\n",
    "        if (doc.abstract) in (None, ''):\n",
    "            doc._abstract = paper['abstract']\n",
    "            \n",
    "        doc.comment = (get_markdown_badge(paper_id) + \n",
    "                       \"<mark>Appeared on: \" + paper['date'] + \"</mark> - \")\n",
    "        if paper['comments']:\n",
    "            doc.comment += \" _\" + paper['comments'] + \"_\"\n",
    "        \n",
    "        full_md = doc.generate_markdown_text()\n",
    "        \n",
    "        full_md += get_markdown_qrcode(paper_id)\n",
    "        \n",
    "        # replace citations\n",
    "        try:\n",
    "            bibdata = latex_bib.LatexBib.from_doc(doc)\n",
    "            full_md = latex_bib.replace_citations(full_md, bibdata)\n",
    "        except Exception as e:\n",
    "            print(e)\n",
    "        \n",
    "        documents.append((paper_id, full_md))\n",
    "    except Exception as e:\n",
    "        warnings.warn(latex.LatexWarning(f\"{paper_id:s} did not run properly\\n\" +\n",
    "                                         str(e)\n",
    "                                        ))\n",
    "        failed.append((paper, \"latex error \" + str(e)))"
   ]
  },
  {
   "cell_type": "markdown",
   "id": "2505a25c",
   "metadata": {
    "papermill": {
     "duration": 0.00447,
     "end_time": "2023-05-01T04:06:56.109906",
     "exception": false,
     "start_time": "2023-05-01T04:06:56.105436",
     "status": "completed"
    },
    "tags": []
   },
   "source": [
    "### Export the logs\n",
    "\n",
    "Throughout, we also keep track of the logs per paper. see `logs-{today date}.md` "
   ]
  },
  {
   "cell_type": "code",
   "execution_count": 5,
   "id": "d733828a",
   "metadata": {
    "execution": {
     "iopub.execute_input": "2023-05-01T04:06:56.120822Z",
     "iopub.status.busy": "2023-05-01T04:06:56.120099Z",
     "iopub.status.idle": "2023-05-01T04:06:56.141169Z",
     "shell.execute_reply": "2023-05-01T04:06:56.140206Z"
    },
    "papermill": {
     "duration": 0.028612,
     "end_time": "2023-05-01T04:06:56.143056",
     "exception": false,
     "start_time": "2023-05-01T04:06:56.114444",
     "status": "completed"
    },
    "scrolled": false,
    "tags": []
   },
   "outputs": [
    {
     "data": {
      "text/markdown": [
       "## Successful papers"
      ],
      "text/plain": [
       "<IPython.core.display.Markdown object>"
      ]
     },
     "metadata": {},
     "output_type": "display_data"
    },
    {
     "data": {
      "text/markdown": [
       "\n",
       "|||\n",
       "|---:|:---|\n",
       "| [![arXiv](https://img.shields.io/badge/arXiv-arXiv:2304.14739-b31b1b.svg)](https://arxiv.org/abs/arXiv:2304.14739) | **A heat-wave of accretion energy traced by masers in the G358-MM1  high-mass protostar**  |\n",
       "|| R. A. Burns, et al. -- incl., <mark>H. Linz</mark> |\n",
       "|*Appeared on*| *2023-05-01*|\n",
       "|*Comments*| *Published in Nature Astronomy in 2020*|\n",
       "|**Abstract**| High-mass stars are thought to accumulate much of their mass via short, infrequent bursts of disk-aided accretion. Such accretion events are rare and difficult to observe directly but are known to drive enhanced maser emission. In this Letter we report high-resolution, multi-epoch methanol maser observations toward G358.93-0.03 which reveal an interesting phenomenon; the sub-luminal propagation of a thermal radiation \"heat-wave\" emanating from an accreting high-mass proto-star. The extreme transformation of the maser emission implies a sudden intensification of thermal infrared radiation from within the inner (40 mas, 270 au) region. Subsequently, methanol masers trace the radial passage of thermal radiation through the environment at $\\geq$ 4-8\\% the speed of light. Such a high translocation rate contrasts with the $\\leq$ 10 km s$^{-1}$ physical gas motions of methanol masers typically observed using very long baseline interferometry (VLBI). The observed scenario can readily be attributed to an accretion event in the high-mass proto-star G358.93-0.03-MM1. While being the third case in its class, G358.93-0.03-MM1 exhibits unique attributes hinting at a possible `zoo' of accretion burst types. These results promote the advantages of maser observations in understanding high-mass star formation, both through single-dish maser monitoring campaigns and via their international cooperation as VLBI arrays. |"
      ],
      "text/plain": [
       "[arXiv:2304.14739] A heat-wave of accretion energy traced by masers in the G358-MM1  high-mass protostar\n",
       "\tR. A. Burns, et al. -- incl., <mark>H. Linz</mark>"
      ]
     },
     "metadata": {},
     "output_type": "display_data"
    },
    {
     "data": {
      "text/markdown": [
       "\n",
       "|||\n",
       "|---:|:---|\n",
       "| [![arXiv](https://img.shields.io/badge/arXiv-arXiv:2304.14740-b31b1b.svg)](https://arxiv.org/abs/arXiv:2304.14740) | **A Keplerian disk with a four-arm spiral birthing an episodically  accreting high-mass protostar**  |\n",
       "|| R. A. Burns, et al. -- incl., <mark>H. Linz</mark> |\n",
       "|*Appeared on*| *2023-05-01*|\n",
       "|*Comments*| *Published in Nature Astronomy in 2023*|\n",
       "|**Abstract**| High-mass protostars (M$_{\\star} >$ 8 M$_{\\odot}$) are thought to gain the majority of their mass via short, intense bursts of growth. This episodic accretion is thought to be facilitated by gravitationally unstable and subsequently inhomogeneous accretion disks. Limitations of observational capabilities, paired with a lack of observed accretion burst events has withheld affirmative confirmation of the association between disk accretion, instability and the accretion burst phenomenon in high-mass protostars. Following its 2019 accretion burst, a heat-wave driven by a burst of radiation propagated outward from the high-mass protostar G358.93-0.03-MM1. Six VLBI (very long baseline interferometry) observations of the raditively pumped 6.7 GHz methanol maser were conducted during this period, tracing ever increasing disk radii as the heat-wave propagated outward. Concatenating the VLBI maps provided a sparsely sampled, milliarcsecond view of the spatio-kinematics of the accretion disk covering a physical range of $\\sim$ 50 - 900 AU. We term this observational approach `heat-wave mapping'. We report the discovery of a Keplerian accretion disk with a spatially resolved four-arm spiral pattern around G358.93-0.03-MM1. This result positively implicates disk accretion and spiral arm instabilities into the episodic accretion high-mass star formation paradigm. |"
      ],
      "text/plain": [
       "[arXiv:2304.14740] A Keplerian disk with a four-arm spiral birthing an episodically  accreting high-mass protostar\n",
       "\tR. A. Burns, et al. -- incl., <mark>H. Linz</mark>"
      ]
     },
     "metadata": {},
     "output_type": "display_data"
    },
    {
     "data": {
      "text/markdown": [
       "## Failed papers"
      ],
      "text/plain": [
       "<IPython.core.display.Markdown object>"
      ]
     },
     "metadata": {},
     "output_type": "display_data"
    }
   ],
   "source": [
    "import datetime\n",
    "today = str(datetime.date.today())\n",
    "logfile = f\"_build/html/logs/log-{today}.md\"\n",
    "\n",
    "\n",
    "with open(logfile, 'w') as logs:\n",
    "    # Success\n",
    "    logs.write(f'# Arxiv on Deck 2: Logs - {today}\\n\\n')\n",
    "    logs.write(\"\"\"* Arxiv had {0:,d} new papers\\n\"\"\".format(len(new_papers)))\n",
    "    logs.write(\"\"\"    * {0:,d} with possible author matches\\n\\n\"\"\".format(len(candidates)))\n",
    "    logs.write(\"## Sucessful papers\\n\\n\")\n",
    "    display(Markdown(\"## Successful papers\"))\n",
    "    success = [k[0] for k in documents]\n",
    "    for candid in candidates:\n",
    "        if candid['identifier'].split(':')[-1] in success:\n",
    "            display(candid)\n",
    "            logs.write(candid.generate_markdown_text() + '\\n\\n')\n",
    "\n",
    "    ## failed\n",
    "    logs.write(\"## Failed papers\\n\\n\")\n",
    "    display(Markdown(\"## Failed papers\"))\n",
    "    failed = sorted(failed, key=lambda x: x[1])\n",
    "    current_reason = \"\"\n",
    "    for paper, reason in failed:\n",
    "        if 'affiliation' in reason:\n",
    "            color = 'green'\n",
    "        else:\n",
    "            color = 'red'\n",
    "        data = Markdown(\n",
    "                paper.generate_markdown_text() + \n",
    "                f'\\n|<p style=\"color:{color:s}\"> **ERROR** </p>| <p style=\"color:{color:s}\">{reason:s}</p> |'\n",
    "               )\n",
    "        if reason != current_reason:\n",
    "            logs.write(f'### {reason:s} \\n\\n')\n",
    "            current_reason = reason\n",
    "        logs.write(data.data + '\\n\\n')\n",
    "        \n",
    "        # only display here the important errors (all in logs)\n",
    "        # if color in ('red',):\n",
    "        display(data)"
   ]
  },
  {
   "cell_type": "markdown",
   "id": "472d20ee",
   "metadata": {
    "papermill": {
     "duration": 0.004908,
     "end_time": "2023-05-01T04:06:56.153160",
     "exception": false,
     "start_time": "2023-05-01T04:06:56.148252",
     "status": "completed"
    },
    "tags": []
   },
   "source": [
    "## Export documents\n",
    "\n",
    "We now write the .md files and export relevant images"
   ]
  },
  {
   "cell_type": "code",
   "execution_count": 6,
   "id": "d426aed9",
   "metadata": {
    "execution": {
     "iopub.execute_input": "2023-05-01T04:06:56.165107Z",
     "iopub.status.busy": "2023-05-01T04:06:56.164606Z",
     "iopub.status.idle": "2023-05-01T04:06:56.173851Z",
     "shell.execute_reply": "2023-05-01T04:06:56.173020Z"
    },
    "papermill": {
     "duration": 0.017347,
     "end_time": "2023-05-01T04:06:56.175699",
     "exception": false,
     "start_time": "2023-05-01T04:06:56.158352",
     "status": "completed"
    },
    "tags": []
   },
   "outputs": [],
   "source": [
    "def export_markdown_summary(md: str, md_fname:str, directory: str):\n",
    "    \"\"\"Export MD document and associated relevant images\"\"\"\n",
    "    import os\n",
    "    import shutil\n",
    "    import re\n",
    "\n",
    "    if (os.path.exists(directory) and not os.path.isdir(directory)):\n",
    "        raise RuntimeError(f\"a non-directory file exists with name {directory:s}\")\n",
    "\n",
    "    if (not os.path.exists(directory)):\n",
    "        print(f\"creating directory {directory:s}\")\n",
    "        os.mkdir(directory)\n",
    "\n",
    "    fig_fnames = (re.compile(r'\\[Fig.*\\]\\((.*)\\)').findall(md) + \n",
    "                  re.compile(r'\\<img src=\"([^>\\s]*)\"[^>]*/>').findall(md))\n",
    "    for fname in fig_fnames:\n",
    "        if 'http' in fname:\n",
    "            # No need to copy online figures\n",
    "            continue\n",
    "        destdir = os.path.join(directory, os.path.dirname(fname))\n",
    "        destfname = os.path.join(destdir, os.path.basename(fname))\n",
    "        try:\n",
    "            os.makedirs(destdir)\n",
    "        except FileExistsError:\n",
    "            pass\n",
    "        shutil.copy(fname, destfname)\n",
    "    with open(os.path.join(directory, md_fname), 'w') as fout:\n",
    "        fout.write(md)\n",
    "    print(\"exported in \", os.path.join(directory, md_fname))\n",
    "    [print(\"    + \" + os.path.join(directory,fk)) for fk in fig_fnames]"
   ]
  },
  {
   "cell_type": "code",
   "execution_count": 7,
   "id": "014d04a4",
   "metadata": {
    "execution": {
     "iopub.execute_input": "2023-05-01T04:06:56.187444Z",
     "iopub.status.busy": "2023-05-01T04:06:56.186878Z",
     "iopub.status.idle": "2023-05-01T04:06:56.198438Z",
     "shell.execute_reply": "2023-05-01T04:06:56.197578Z"
    },
    "papermill": {
     "duration": 0.019643,
     "end_time": "2023-05-01T04:06:56.200187",
     "exception": false,
     "start_time": "2023-05-01T04:06:56.180544",
     "status": "completed"
    },
    "tags": []
   },
   "outputs": [
    {
     "name": "stdout",
     "output_type": "stream",
     "text": [
      "exported in  _build/html/2304.14739.md\n",
      "    + _build/html/tmp_2304.14739/./Schematic_5.png\n",
      "    + _build/html/tmp_2304.14739/./VX026AC_QD22.png\n",
      "    + _build/html/tmp_2304.14739/./G358_MOMNT_COL_ed.png\n",
      "    + _build/html/tmp_2304.14739/./G358_MOMNT_newEd2.png\n",
      "    + _build/html/tmp_2304.14739/./AutoCross_Zoom_Together11.png\n",
      "exported in  _build/html/2304.14740.md\n",
      "    + _build/html/tmp_2304.14740/./Fig4.png\n",
      "    + _build/html/tmp_2304.14740/./Fig5.png\n",
      "    + _build/html/tmp_2304.14740/./Fig3.png\n"
     ]
    }
   ],
   "source": [
    "for paper_id, md in documents:\n",
    "    export_markdown_summary(md, f\"{paper_id:s}.md\", '_build/html/')"
   ]
  },
  {
   "cell_type": "markdown",
   "id": "f087a0a7",
   "metadata": {
    "papermill": {
     "duration": 0.005252,
     "end_time": "2023-05-01T04:06:56.211721",
     "exception": false,
     "start_time": "2023-05-01T04:06:56.206469",
     "status": "completed"
    },
    "tags": []
   },
   "source": [
    "## Display the papers\n",
    "\n",
    "Not necessary but allows for a quick check."
   ]
  },
  {
   "cell_type": "code",
   "execution_count": 8,
   "id": "fd25f625",
   "metadata": {
    "execution": {
     "iopub.execute_input": "2023-05-01T04:06:56.223881Z",
     "iopub.status.busy": "2023-05-01T04:06:56.223300Z",
     "iopub.status.idle": "2023-05-01T04:06:56.230544Z",
     "shell.execute_reply": "2023-05-01T04:06:56.229783Z"
    },
    "papermill": {
     "duration": 0.015267,
     "end_time": "2023-05-01T04:06:56.232117",
     "exception": false,
     "start_time": "2023-05-01T04:06:56.216850",
     "status": "completed"
    },
    "scrolled": false,
    "tags": []
   },
   "outputs": [
    {
     "data": {
      "text/markdown": [
       "<div class=\"macros\" style=\"visibility:hidden;\">\n",
       "$\\newcommand{\\ensuremath}{}$\n",
       "$\\newcommand{\\xspace}{}$\n",
       "$\\newcommand{\\object}[1]{\\texttt{#1}}$\n",
       "$\\newcommand{\\farcs}{{.}''}$\n",
       "$\\newcommand{\\farcm}{{.}'}$\n",
       "$\\newcommand{\\arcsec}{''}$\n",
       "$\\newcommand{\\arcmin}{'}$\n",
       "$\\newcommand{\\ion}[2]{#1#2}$\n",
       "$\\newcommand{\\textsc}[1]{\\textrm{#1}}$\n",
       "$\\newcommand{\\hl}[1]{\\textrm{#1}}$\n",
       "$\\newcommand{\\footnote}[1]{}$\n",
       "$\\newcommand{\\bibinfo}[2]{#2}$\n",
       "$\\newcommand{\\eprint}[2][]{\\url{#2}}$\n",
       "$\\newcommand{\\bibinfo}[2]{#2}$\n",
       "$\\newcommand{\\eprint}[2][]{\\url{#2}}$\n",
       "$\\newcommand$\n",
       "$\\newcommand$\n",
       "$\\newcommand$\n",
       "$\\newcommand$\n",
       "$\\newcommand$\n",
       "$\\newcommand$\n",
       "$\\newcommand$\n",
       "$\\newcommand$\n",
       "$\\newcommand$\n",
       "$\\newcommand$\n",
       "$\\newcommand$\n",
       "$\\newcommand$\n",
       "$\\newcommand$\n",
       "$\\newcommand$\n",
       "$\\newcommand$\n",
       "$\\newcommand$\n",
       "$\\newcommand{\\includegraphics}[2][]$\n",
       "$\\newcommand{\\}{url}$\n",
       "$\\newcommand{\\urlprefix}{URL }$\n",
       "$\\newcommand{\\}{url}$\n",
       "$\\newcommand{\\urlprefix}{URL }$</div>\n",
       "\n",
       "\n",
       "\n",
       "<div id=\"title\">\n",
       "\n",
       "# A \"Heatwave\" from the G358 accretion event\n",
       "\n",
       "</div>\n",
       "<div id=\"comments\">\n",
       "\n",
       "[![arXiv](https://img.shields.io/badge/arXiv-2304.14739-b31b1b.svg)](https://arxiv.org/abs/2304.14739)<mark>Appeared on: 2023-05-01</mark> -  _Published in Nature Astronomy in 2020_\n",
       "\n",
       "</div>\n",
       "<div id=\"authors\">\n",
       "\n",
       "R. A. Burns, et al. -- incl., <mark>H. Linz</mark>\n",
       "\n",
       "</div>\n",
       "<div id=\"abstract\">\n",
       "\n",
       "**Abstract:** High-mass stars are thought to accumulate much of their mass via short, infrequent bursts of disk-aided accretion \\cite{Stamatellos11,Meyer17} . Such accretion events are rare and difficult to observe directly but are known to drive enhanced maser emission \\cite{Hunter18,Gordon18,Szymczak18,Moscadelli17} . In this Letter we report high-resolution, multi-epoch methanol maser observations toward G358.93-0.03 which reveal an interesting phenomenon; the sub-luminal propagation of a thermal radiation \"heat-wave\" emanating from an accreting high-mass proto-star.The extreme transformation of the maser emission implies a sudden intensification of thermal infrared radiation from within the inner (40 mas, 270 au) region. Subsequently, methanol masers trace the radial passage of thermal radiation through the environment at $\\geq$ 4-8 \\% the speed of light. Such a high translocation rate contrasts with the $\\leq$ 10 km s $^{-1}$ physical gas motions of methanol masers typically observed using very long baseline interferometry (VLBI).The observed scenario can readily be attributed to an accretion event in the high-mass proto-star G358.93-0.03-MM1. While being the third case in its class, G358.93-0.03-MM1 exhibits unique attributes hinting at a possible `zoo' of accretion burst types.These results promote the advantages of maser observations in understanding high-mass star formation, both through single-dish maser monitoring campaigns and via their international cooperation as VLBI arrays.\n",
       "\n",
       "</div>\n",
       "\n",
       "<div id=\"div_fig1\">\n",
       "\n",
       "<img src=\"tmp_2304.14739/./Schematic_5.png\" alt=\"Fig2.1\" width=\"50%\"/><img src=\"tmp_2304.14739/./VX026AC_QD22.png\" alt=\"Fig2.2\" width=\"50%\"/>\n",
       "\n",
       "**Figure 2. -** ** Schematic illustration of the observational data.**(*Left*) A schematic model of the maser distribution and evolution in an accreting star-disk system. *Right* Spot maps of emission above 5 $\\sigma$ detailing the evolution of methanol maser emission in G358-MM1. Colours indicate the velocity in the frame of the local standard of rest, and symbol sizes are arbitrary. The upper and lower panels illustrate the data of vx026a (2nd Feb 2019) and vx026c (28th Feb 2019), respectively. Directional offsets are stated with respect to the coordinate (RA, DEC) = (17:43:10.1014, -29:51:45.693) which correspond to the position of G358-MM1 where the symbol size indicates the 40 mas absolute positional uncertainty in the continuum source position from \\cite{Brogan19a}. The dark rings delineate the fits to each epoch, while the grey ring indicates the extent of the vx026a masers at the epoch of vx026c.  (*RINGS*)\n",
       "\n",
       "</div>\n",
       "<div id=\"div_fig2\">\n",
       "\n",
       "<img src=\"tmp_2304.14739/./G358_MOMNT_COL_ed.png\" alt=\"Fig3.1\" width=\"50%\"/><img src=\"tmp_2304.14739/./G358_MOMNT_newEd2.png\" alt=\"Fig3.2\" width=\"50%\"/>\n",
       "\n",
       "**Figure 3. -** ** Methanol maser distributions in G358-MM1.** Zero'th (contours) and first (colours) moment maps of the 6.7 GHz methanol maser emission in G358-MM1. *Left* shows the distribution of emission during the vx026a epoch while *right* shows that of vx026c, taken 26 days later. Moment image cubes were produced for emission above a 5 $\\sigma$ cutoff and contours increase by factors of 2 multiples of the first contour at 2 Jy beam$^{-1}$ km s$^{-1}$. The white cross indicates the position of the brightest millimeter continuum peak of the G358-MM1 region \\cite{Brogan19a}.  (*MOMNT*)\n",
       "\n",
       "</div>\n",
       "<div id=\"div_fig3\">\n",
       "\n",
       "<img src=\"tmp_2304.14739/./AutoCross_Zoom_Together11.png\" alt=\"Fig1\" width=\"100%\"/>\n",
       "\n",
       "**Figure 1. -** ** Spectral profiles of the 6.7 GHz methanol maser emission in G358-MM1.** Solid shapes and lines indicate the auto- and cross-correlation spectra respectively. Magnifications are shown in the lower insets to display low flux density components. The dashed line indicates the source systemic velocity.  (*SPECTRA*)\n",
       "\n",
       "</div><div id=\"qrcode\"><img src=https://api.qrserver.com/v1/create-qr-code/?size=100x100&data=\"https://arxiv.org/abs/2304.14739\"></div>"
      ],
      "text/plain": [
       "<IPython.core.display.Markdown object>"
      ]
     },
     "metadata": {},
     "output_type": "display_data"
    },
    {
     "data": {
      "text/markdown": [
       "<div class=\"macros\" style=\"visibility:hidden;\">\n",
       "$\\newcommand{\\ensuremath}{}$\n",
       "$\\newcommand{\\xspace}{}$\n",
       "$\\newcommand{\\object}[1]{\\texttt{#1}}$\n",
       "$\\newcommand{\\farcs}{{.}''}$\n",
       "$\\newcommand{\\farcm}{{.}'}$\n",
       "$\\newcommand{\\arcsec}{''}$\n",
       "$\\newcommand{\\arcmin}{'}$\n",
       "$\\newcommand{\\ion}[2]{#1#2}$\n",
       "$\\newcommand{\\textsc}[1]{\\textrm{#1}}$\n",
       "$\\newcommand{\\hl}[1]{\\textrm{#1}}$\n",
       "$\\newcommand{\\footnote}[1]{}$\n",
       "$\\newcommand{\\bibinfo}[2]{#2}$\n",
       "$\\newcommand{\\micro}{\\fontsize{4pt}{4pt}\\selectfont}$\n",
       "$\\newcommand$\n",
       "$\\newcommand$\n",
       "$\\newcommand$\n",
       "$\\newcommand$\n",
       "$\\newcommand$\n",
       "$\\newcommand$\n",
       "$\\newcommand$\n",
       "$\\newcommand$\n",
       "$\\newcommand$\n",
       "$\\newcommand$\n",
       "$\\newcommand$\n",
       "$\\newcommand$\n",
       "$\\newcommand$\n",
       "$\\newcommand$\n",
       "$\\newcommand$\n",
       "$\\newcommand$\n",
       "$\\newcommand{\\thefootnote}{\\fnsymbol{footnote}}$\n",
       "$\\newcommand{\\includegraphics}[2][]$\n",
       "$\\newcommand{\\kms}{km s^{-1}}$\n",
       "$\\newcommand{\\nh}{NH_3}$\n",
       "$\\newcommand{\\HII}{H \\emissiontype{II} }$\n",
       "$\\newcommand{\\ho}{H_2O}$\n",
       "$\\newcommand{\\red}{\\textcolor{red}}$\n",
       "$\\newcommand{\\blue}{\\textcolor{blue}}$\n",
       "$\\newcommand{\\fdg}{.\\!\\!^\\circ}$\n",
       "$\\newcommand{\\}{url}$</div>\n",
       "\n",
       "\n",
       "\n",
       "<div id=\"title\">\n",
       "\n",
       "# A Keplerian disk with a four-arm spiral birthing an episodically accreting high-mass protostar\n",
       "\n",
       "</div>\n",
       "<div id=\"comments\">\n",
       "\n",
       "[![arXiv](https://img.shields.io/badge/arXiv-2304.14740-b31b1b.svg)](https://arxiv.org/abs/2304.14740)<mark>Appeared on: 2023-05-01</mark> -  _Published in Nature Astronomy in 2023_\n",
       "\n",
       "</div>\n",
       "<div id=\"authors\">\n",
       "\n",
       "R. A. Burns, et al. -- incl., <mark>H. Linz</mark>\n",
       "\n",
       "</div>\n",
       "<div id=\"abstract\">\n",
       "\n",
       "**Abstract:** High-mass protostars (M $_{\\star} >$ 8 M $_{\\odot}$ ) are thought to gain the majority of their mass via short, intense bursts of growth. This episodic accretion is thought to be facilitated by gravitationally unstable and subsequently inhomogeneous accretion disks. Limitations of observational capabilities, paired with a lack of observed accretion burst events has withheld affirmative confirmation of the association between disk accretion, instability and the accretion burst phenomenon in high-mass protostars.Following its 2019 accretion burst, a heat-wave driven by a burst of radiation propagated outward from the high-mass protostar G358.93-0.03-MM1.Six VLBI (very long baseline interferometry) observations of the raditively pumped 6.7 GHz methanol maser were conducted during this period, tracing ever increasing disk radii as the heat-wave propagated outward. Concatenating the VLBI maps provided a sparsely sampled, milliarcsecond view of the spatio-kinematics of the accretion disk covering a physical range of $\\sim$ 50 - 900 AU. We term this observational approach `heat-wave mapping'.We report the discovery of a Keplerian accretion disk with a spatially resolved four-arm spiral pattern around G358.93-0.03-MM1. This result positively implicates disk accretion and spiral arm instabilities into the episodic accretion high-mass star formation paradigm.\n",
       "\n",
       "</div>\n",
       "\n",
       "<div id=\"div_fig1\">\n",
       "\n",
       "<img src=\"tmp_2304.14740/./Fig4.png\" alt=\"Fig4\" width=\"100%\"/>\n",
       "\n",
       "**Figure 4. -** ** Identification of spiral arms A and B**(*Upper left*) shows the AIC, BIC and $\\chi$ values for 200,000 trials of each residual threshold in the RANSAC procedure for arm A. (*Lower left*) shows the posterior distribution for pitch angles fit during 10,000 samples in the MCMC procedure for arm A. (*Upper and lower right*) show the same for arm B. (*Center*) shows the six combined spotmap data set in $\\phi-ln(R)$ space where spots determined by RANSAC to be associated with arms A and B, and best fit arm functions determined by MCMC, are shown in green and blue, respectively. The nomial locations of spiral arms C and D are shown as dashed lines. Colours of arms are consistent with Figure \\ref{Fig5}. Error bars express each maser's astrometric uncertainty. (*Fig4*)\n",
       "\n",
       "</div>\n",
       "<div id=\"div_fig2\">\n",
       "\n",
       "<img src=\"tmp_2304.14740/./Fig5.png\" alt=\"Fig5\" width=\"100%\"/>\n",
       "\n",
       "**Figure 5. -** ** 4-arm spiral identification***Below* shows the results of the spatial 2D cross-correlation as a function of azimuth angle. The green and blue regions indicate the full-width half-maximum range for the correlation peaks associated with arms A and B, respectively. Red and yellow regions highlight the disk regions at $\\pm 180^{\\circ}$ opposite to the green and blue regions where symmetric arm pairs were searched. The grey line shows a $5\\sigma$ detection criteria derived from the 5 times the standard deviation of correlation coefficients at each azimuth acquired from 10 sets of random data of the same size and variable ranges as the maser data. (*Above*) shows the spiral structure model in G358-MM1 plotted on the flux density map (grey-scale). Green and blue arms represent arms A and B respectively, parameterised by RANSAC and MCMC. The red and yellow lines illustrate arms C and D, which represent the symmetric pairs of arms A and B, respectively, detected using 2D cross-correlation.  (*Fig5*)\n",
       "\n",
       "</div>\n",
       "<div id=\"div_fig3\">\n",
       "\n",
       "<img src=\"tmp_2304.14740/./Fig3.png\" alt=\"Fig3\" width=\"100%\"/>\n",
       "\n",
       "**Figure 3. -** ** Analyses of maser data**(*Left*) Shows the Position-velocity diagram for the maser data an best fit line to the Keplerian profile. Bootrapping trials are shown as semi-opaque lines, indicating the fit uncertainty. *Right* shows the maser spot positions for the outer 50\\% of masers in the 5th VLBI epoch (blue circles) where the point size represents the 2.60 milliarcsecond positional uncertainty in the astrometric positions. Spots omitted from the ellipse fitting are shown in grey. The black line shows the ellipse fit to the maser data to determine the system inclination.   (*Fig3*)\n",
       "\n",
       "</div><div id=\"qrcode\"><img src=https://api.qrserver.com/v1/create-qr-code/?size=100x100&data=\"https://arxiv.org/abs/2304.14740\"></div>"
      ],
      "text/plain": [
       "<IPython.core.display.Markdown object>"
      ]
     },
     "metadata": {},
     "output_type": "display_data"
    }
   ],
   "source": [
    "[display(Markdown(k[1])) for k in documents];"
   ]
  },
  {
   "cell_type": "markdown",
   "id": "873873a4",
   "metadata": {
    "papermill": {
     "duration": 0.00546,
     "end_time": "2023-05-01T04:06:56.243556",
     "exception": false,
     "start_time": "2023-05-01T04:06:56.238096",
     "status": "completed"
    },
    "tags": []
   },
   "source": [
    "# Create HTML index"
   ]
  },
  {
   "cell_type": "code",
   "execution_count": 9,
   "id": "cf665672",
   "metadata": {
    "execution": {
     "iopub.execute_input": "2023-05-01T04:06:56.256807Z",
     "iopub.status.busy": "2023-05-01T04:06:56.256316Z",
     "iopub.status.idle": "2023-05-01T04:06:56.266131Z",
     "shell.execute_reply": "2023-05-01T04:06:56.265374Z"
    },
    "papermill": {
     "duration": 0.018519,
     "end_time": "2023-05-01T04:06:56.267958",
     "exception": false,
     "start_time": "2023-05-01T04:06:56.249439",
     "status": "completed"
    },
    "tags": []
   },
   "outputs": [
    {
     "name": "stdout",
     "output_type": "stream",
     "text": [
      "200  publications files modified in the last 7 days.\n"
     ]
    }
   ],
   "source": [
    "from datetime import datetime, timedelta, timezone\n",
    "from glob import glob\n",
    "import os\n",
    "\n",
    "files = glob('_build/html/*.md')\n",
    "days = 7\n",
    "now = datetime.today()\n",
    "res = []\n",
    "for fk in files:\n",
    "    stat_result = os.stat(fk).st_ctime\n",
    "    modified = datetime.fromtimestamp(stat_result, tz=timezone.utc).replace(tzinfo=None)\n",
    "    delta = now.today() - modified\n",
    "    if delta <= timedelta(days=days):\n",
    "        res.append((delta.seconds, fk))\n",
    "res = [k[1] for k in reversed(sorted(res, key=lambda x:x[1]))]\n",
    "npub = len(res)\n",
    "print(len(res), f\" publications files modified in the last {days:d} days.\")\n",
    "# [ print('\\t', k) for k in res ];"
   ]
  },
  {
   "cell_type": "code",
   "execution_count": 10,
   "id": "015de740",
   "metadata": {
    "execution": {
     "iopub.execute_input": "2023-05-01T04:06:56.281282Z",
     "iopub.status.busy": "2023-05-01T04:06:56.280622Z",
     "iopub.status.idle": "2023-05-01T04:06:56.302292Z",
     "shell.execute_reply": "2023-05-01T04:06:56.301534Z"
    },
    "papermill": {
     "duration": 0.030492,
     "end_time": "2023-05-01T04:06:56.304248",
     "exception": false,
     "start_time": "2023-05-01T04:06:56.273756",
     "status": "completed"
    },
    "tags": []
   },
   "outputs": [
    {
     "name": "stdout",
     "output_type": "stream",
     "text": [
      "4  publications in the last 7 days.\n"
     ]
    }
   ],
   "source": [
    "import datetime\n",
    "from glob import glob\n",
    "\n",
    "def get_last_n_days(lst, days=1):\n",
    "    \"\"\" Get the documents from the last n days \"\"\"\n",
    "    sorted_lst = sorted(lst, key=lambda x: x[1], reverse=True)\n",
    "    for fname, date in sorted_lst:\n",
    "        if date >= str(datetime.date.today() - datetime.timedelta(days=days)):\n",
    "            yield fname\n",
    "\n",
    "def extract_appearance_dates(lst_file):\n",
    "    dates = []\n",
    "\n",
    "    def get_date(line):\n",
    "        return line\\\n",
    "            .split('Appeared on:')[-1]\\\n",
    "            .split('</mark>')[0].strip()\n",
    "\n",
    "    for fname in lst:\n",
    "        with open(fname, 'r') as f:\n",
    "            found_date = False\n",
    "            for line in f:\n",
    "                if not found_date:\n",
    "                    if \"Appeared on\" in line:\n",
    "                        found_date = True\n",
    "                        dates.append((fname, get_date(line)))\n",
    "                else:\n",
    "                    break\n",
    "    return dates\n",
    "\n",
    "from glob import glob\n",
    "lst = glob('_build/html/*md')\n",
    "days = 7\n",
    "dates = extract_appearance_dates(lst)\n",
    "res = list(get_last_n_days(dates, days))\n",
    "npub = len(res)\n",
    "print(len(res), f\" publications in the last {days:d} days.\")"
   ]
  },
  {
   "cell_type": "code",
   "execution_count": 11,
   "id": "52ca0208",
   "metadata": {
    "execution": {
     "iopub.execute_input": "2023-05-01T04:06:56.318231Z",
     "iopub.status.busy": "2023-05-01T04:06:56.317739Z",
     "iopub.status.idle": "2023-05-01T04:06:56.323690Z",
     "shell.execute_reply": "2023-05-01T04:06:56.323080Z"
    },
    "papermill": {
     "duration": 0.014973,
     "end_time": "2023-05-01T04:06:56.325487",
     "exception": false,
     "start_time": "2023-05-01T04:06:56.310514",
     "status": "completed"
    },
    "scrolled": false,
    "tags": []
   },
   "outputs": [],
   "source": [
    "def create_carousel(npub=4):\n",
    "    \"\"\" Generate the HTML code for a carousel with `npub` slides \"\"\"\n",
    "    carousel = [\"\"\"  <div class=\"carousel\" \"\"\",\n",
    "                \"\"\"       data-flickity='{ \"autoPlay\": 10000, \"adaptiveHeight\": true, \"resize\": true, \"wrapAround\": true, \"pauseAutoPlayOnHover\": true, \"groupCells\": 1 }' id=\"asyncTypeset\">\"\"\"\n",
    "                ]\n",
    "    \n",
    "    item_str = \"\"\"    <div class=\"carousel-cell\"> <div id=\"slide{k}\" class=\"md_view\">Content {k}</div> </div>\"\"\"\n",
    "    for k in range(1, npub + 1):\n",
    "        carousel.append(item_str.format(k=k))\n",
    "    carousel.append(\"  </div>\")\n",
    "    return '\\n'.join(carousel)\n",
    "\n",
    "def create_grid(npub=4):\n",
    "    \"\"\" Generate the HTML code for a flat grid with `npub` slides \"\"\"\n",
    "    grid = [\"\"\"  <div class=\"grid\"> \"\"\",\n",
    "                ]\n",
    "    \n",
    "    item_str = \"\"\"    <div class=\"grid-item\"> <div id=\"slide{k}\" class=\"md_view\">Content {k}</div> </div>\"\"\"\n",
    "    for k in range(1, npub + 1):\n",
    "        grid.append(item_str.format(k=k))\n",
    "    grid.append(\"  </div>\")\n",
    "    return '\\n'.join(grid)"
   ]
  },
  {
   "cell_type": "code",
   "execution_count": 12,
   "id": "a6eac5b6",
   "metadata": {
    "execution": {
     "iopub.execute_input": "2023-05-01T04:06:56.339169Z",
     "iopub.status.busy": "2023-05-01T04:06:56.338674Z",
     "iopub.status.idle": "2023-05-01T04:06:56.344678Z",
     "shell.execute_reply": "2023-05-01T04:06:56.343942Z"
    },
    "papermill": {
     "duration": 0.014965,
     "end_time": "2023-05-01T04:06:56.346620",
     "exception": false,
     "start_time": "2023-05-01T04:06:56.331655",
     "status": "completed"
    },
    "scrolled": false,
    "tags": []
   },
   "outputs": [],
   "source": [
    "carousel = create_carousel(npub)\n",
    "docs = ', '.join(['\"{0:s}\"'.format(k.split('/')[-1]) for k in res])\n",
    "slides = ', '.join([f'\"slide{k}\"' for k in range(1, npub + 1)])\n",
    "\n",
    "with open(\"daily_template.html\", \"r\") as tpl:\n",
    "    page = tpl.read()\n",
    "    page = page.replace(\"{%-- carousel:s --%}\", carousel)\\\n",
    "               .replace(\"{%-- suptitle:s --%}\",  \"7-day archives\" )\\\n",
    "               .replace(\"{%-- docs:s --%}\", docs)\\\n",
    "               .replace(\"{%-- slides:s --%}\", slides)\n",
    "    \n",
    "with open(\"_build/html/index_7days.html\", 'w') as fout:\n",
    "    fout.write(page)"
   ]
  },
  {
   "cell_type": "code",
   "execution_count": 13,
   "id": "adc1a1ec",
   "metadata": {
    "execution": {
     "iopub.execute_input": "2023-05-01T04:06:56.360699Z",
     "iopub.status.busy": "2023-05-01T04:06:56.360446Z",
     "iopub.status.idle": "2023-05-01T04:06:56.369396Z",
     "shell.execute_reply": "2023-05-01T04:06:56.368655Z"
    },
    "papermill": {
     "duration": 0.018142,
     "end_time": "2023-05-01T04:06:56.371146",
     "exception": false,
     "start_time": "2023-05-01T04:06:56.353004",
     "status": "completed"
    },
    "tags": []
   },
   "outputs": [
    {
     "name": "stdout",
     "output_type": "stream",
     "text": [
      "2  publications in the last day.\n"
     ]
    }
   ],
   "source": [
    "# redo for today\n",
    "days = 1\n",
    "res = list(get_last_n_days(dates, days))\n",
    "npub = len(res)\n",
    "print(len(res), f\" publications in the last day.\")\n",
    "\n",
    "carousel = create_carousel(npub)\n",
    "docs = ', '.join(['\"{0:s}\"'.format(k.split('/')[-1]) for k in res])\n",
    "slides = ', '.join([f'\"slide{k}\"' for k in range(1, npub + 1)])\n",
    "\n",
    "with open(\"daily_template.html\", \"r\") as tpl:\n",
    "    page = tpl.read()\n",
    "    page = page.replace(\"{%-- carousel:s --%}\", carousel)\\\n",
    "               .replace(\"{%-- suptitle:s --%}\",  \"Daily\" )\\\n",
    "               .replace(\"{%-- docs:s --%}\", docs)\\\n",
    "               .replace(\"{%-- slides:s --%}\", slides)\n",
    "    \n",
    "# print(carousel, docs, slides)\n",
    "# print(page)\n",
    "with open(\"_build/html/index_daily.html\", 'w') as fout:\n",
    "    fout.write(page)"
   ]
  },
  {
   "cell_type": "code",
   "execution_count": 14,
   "id": "00eece82",
   "metadata": {
    "execution": {
     "iopub.execute_input": "2023-05-01T04:06:56.384565Z",
     "iopub.status.busy": "2023-05-01T04:06:56.384079Z",
     "iopub.status.idle": "2023-05-01T04:06:56.392385Z",
     "shell.execute_reply": "2023-05-01T04:06:56.391660Z"
    },
    "papermill": {
     "duration": 0.016987,
     "end_time": "2023-05-01T04:06:56.394146",
     "exception": false,
     "start_time": "2023-05-01T04:06:56.377159",
     "status": "completed"
    },
    "scrolled": false,
    "tags": []
   },
   "outputs": [
    {
     "name": "stdout",
     "output_type": "stream",
     "text": [
      "6  6 publications selected.\n"
     ]
    }
   ],
   "source": [
    "# Create the flat grid of the last N papers (fixed number regardless of dates)\n",
    "from itertools import islice \n",
    "\n",
    "npub = 6\n",
    "res = [k[0] for k in (islice(reversed(sorted(dates, key=lambda x: x[1])), 6))]\n",
    "print(len(res), f\" {npub} publications selected.\")\n",
    "\n",
    "grid = create_grid(npub)\n",
    "docs = ', '.join(['\"{0:s}\"'.format(k.split('/')[-1]) for k in res])\n",
    "slides = ', '.join([f'\"slide{k}\"' for k in range(1, npub + 1)])\n",
    "\n",
    "with open(\"grid_template.html\", \"r\") as tpl:\n",
    "    page = tpl.read()\n",
    "    page = page.replace(\"{%-- grid-content:s --%}\", grid)\\\n",
    "               .replace(\"{%-- suptitle:s --%}\",  f\"Last {npub:,d} papers\" )\\\n",
    "               .replace(\"{%-- docs:s --%}\", docs)\\\n",
    "               .replace(\"{%-- slides:s --%}\", slides)\n",
    "    \n",
    "# print(grid, docs, slides)\n",
    "# print(page)\n",
    "with open(\"_build/html/index_npub_grid.html\", 'w') as fout:\n",
    "    fout.write(page)"
   ]
  }
 ],
 "metadata": {
  "kernelspec": {
   "display_name": "Python 3 (ipykernel)",
   "language": "python",
   "name": "python3"
  },
  "language_info": {
   "codemirror_mode": {
    "name": "ipython",
    "version": 3
   },
   "file_extension": ".py",
   "mimetype": "text/x-python",
   "name": "python",
   "nbconvert_exporter": "python",
   "pygments_lexer": "ipython3",
   "version": "3.9.16"
  },
  "papermill": {
   "default_parameters": {},
   "duration": 71.944514,
   "end_time": "2023-05-01T04:06:56.718274",
   "environment_variables": {},
   "exception": null,
   "input_path": "MPIA daily digest.ipynb",
   "output_path": "log.ipynb",
   "parameters": {},
   "start_time": "2023-05-01T04:05:44.773760",
   "version": "2.4.0"
  },
  "vscode": {
   "interpreter": {
    "hash": "aee8b7b246df8f9039afb4144a1f6fd8d2ca17a180786b69acc140d282b71a49"
   }
  },
  "widgets": {
   "application/vnd.jupyter.widget-state+json": {
    "state": {
     "1eba7be739d2458c9c2a59fc09c923da": {
      "model_module": "@jupyter-widgets/base",
      "model_module_version": "2.0.0",
      "model_name": "LayoutModel",
      "state": {
       "_model_module": "@jupyter-widgets/base",
       "_model_module_version": "2.0.0",
       "_model_name": "LayoutModel",
       "_view_count": null,
       "_view_module": "@jupyter-widgets/base",
       "_view_module_version": "2.0.0",
       "_view_name": "LayoutView",
       "align_content": null,
       "align_items": null,
       "align_self": null,
       "border_bottom": null,
       "border_left": null,
       "border_right": null,
       "border_top": null,
       "bottom": null,
       "display": null,
       "flex": null,
       "flex_flow": null,
       "grid_area": null,
       "grid_auto_columns": null,
       "grid_auto_flow": null,
       "grid_auto_rows": null,
       "grid_column": null,
       "grid_gap": null,
       "grid_row": null,
       "grid_template_areas": null,
       "grid_template_columns": null,
       "grid_template_rows": null,
       "height": null,
       "justify_content": null,
       "justify_items": null,
       "left": null,
       "margin": null,
       "max_height": null,
       "max_width": null,
       "min_height": null,
       "min_width": null,
       "object_fit": null,
       "object_position": null,
       "order": null,
       "overflow": null,
       "padding": null,
       "right": null,
       "top": null,
       "visibility": null,
       "width": null
      }
     },
     "4b1c2a69636849988a8f40916a6bf038": {
      "model_module": "@jupyter-widgets/controls",
      "model_module_version": "2.0.0",
      "model_name": "HTMLStyleModel",
      "state": {
       "_model_module": "@jupyter-widgets/controls",
       "_model_module_version": "2.0.0",
       "_model_name": "HTMLStyleModel",
       "_view_count": null,
       "_view_module": "@jupyter-widgets/base",
       "_view_module_version": "2.0.0",
       "_view_name": "StyleView",
       "background": null,
       "description_width": "",
       "font_size": null,
       "text_color": null
      }
     },
     "586005c5016f4235bb1ae3f0da6ad657": {
      "model_module": "@jupyter-widgets/base",
      "model_module_version": "2.0.0",
      "model_name": "LayoutModel",
      "state": {
       "_model_module": "@jupyter-widgets/base",
       "_model_module_version": "2.0.0",
       "_model_name": "LayoutModel",
       "_view_count": null,
       "_view_module": "@jupyter-widgets/base",
       "_view_module_version": "2.0.0",
       "_view_name": "LayoutView",
       "align_content": null,
       "align_items": null,
       "align_self": null,
       "border_bottom": null,
       "border_left": null,
       "border_right": null,
       "border_top": null,
       "bottom": null,
       "display": null,
       "flex": null,
       "flex_flow": null,
       "grid_area": null,
       "grid_auto_columns": null,
       "grid_auto_flow": null,
       "grid_auto_rows": null,
       "grid_column": null,
       "grid_gap": null,
       "grid_row": null,
       "grid_template_areas": null,
       "grid_template_columns": null,
       "grid_template_rows": null,
       "height": null,
       "justify_content": null,
       "justify_items": null,
       "left": null,
       "margin": null,
       "max_height": null,
       "max_width": null,
       "min_height": null,
       "min_width": null,
       "object_fit": null,
       "object_position": null,
       "order": null,
       "overflow": null,
       "padding": null,
       "right": null,
       "top": null,
       "visibility": null,
       "width": null
      }
     },
     "5bf299c76002460a89b9682f994ffea0": {
      "model_module": "@jupyter-widgets/controls",
      "model_module_version": "2.0.0",
      "model_name": "FloatProgressModel",
      "state": {
       "_dom_classes": [],
       "_model_module": "@jupyter-widgets/controls",
       "_model_module_version": "2.0.0",
       "_model_name": "FloatProgressModel",
       "_view_count": null,
       "_view_module": "@jupyter-widgets/controls",
       "_view_module_version": "2.0.0",
       "_view_name": "ProgressView",
       "bar_style": "success",
       "description": "",
       "description_allow_html": false,
       "layout": "IPY_MODEL_a3f546a219d249029cef4c77439a194c",
       "max": 2.0,
       "min": 0.0,
       "orientation": "horizontal",
       "style": "IPY_MODEL_b7f0083c6b8f4ce4aeffa32f28f1dde3",
       "tabbable": null,
       "tooltip": null,
       "value": 2.0
      }
     },
     "6a9a5f16e47f4b83aa03770cd99620d4": {
      "model_module": "@jupyter-widgets/controls",
      "model_module_version": "2.0.0",
      "model_name": "HTMLStyleModel",
      "state": {
       "_model_module": "@jupyter-widgets/controls",
       "_model_module_version": "2.0.0",
       "_model_name": "HTMLStyleModel",
       "_view_count": null,
       "_view_module": "@jupyter-widgets/base",
       "_view_module_version": "2.0.0",
       "_view_name": "StyleView",
       "background": null,
       "description_width": "",
       "font_size": null,
       "text_color": null
      }
     },
     "7bc1b74d8a1842348f141df86d62c7a0": {
      "model_module": "@jupyter-widgets/controls",
      "model_module_version": "2.0.0",
      "model_name": "HTMLModel",
      "state": {
       "_dom_classes": [],
       "_model_module": "@jupyter-widgets/controls",
       "_model_module_version": "2.0.0",
       "_model_name": "HTMLModel",
       "_view_count": null,
       "_view_module": "@jupyter-widgets/controls",
       "_view_module_version": "2.0.0",
       "_view_name": "HTMLView",
       "description": "",
       "description_allow_html": false,
       "layout": "IPY_MODEL_1eba7be739d2458c9c2a59fc09c923da",
       "placeholder": "​",
       "style": "IPY_MODEL_6a9a5f16e47f4b83aa03770cd99620d4",
       "tabbable": null,
       "tooltip": null,
       "value": "100%"
      }
     },
     "8fc5ec4e7cac4d60bc04b9b032792d24": {
      "model_module": "@jupyter-widgets/controls",
      "model_module_version": "2.0.0",
      "model_name": "HBoxModel",
      "state": {
       "_dom_classes": [],
       "_model_module": "@jupyter-widgets/controls",
       "_model_module_version": "2.0.0",
       "_model_name": "HBoxModel",
       "_view_count": null,
       "_view_module": "@jupyter-widgets/controls",
       "_view_module_version": "2.0.0",
       "_view_name": "HBoxView",
       "box_style": "",
       "children": [
        "IPY_MODEL_7bc1b74d8a1842348f141df86d62c7a0",
        "IPY_MODEL_5bf299c76002460a89b9682f994ffea0",
        "IPY_MODEL_bb2a798ab4a64cc89de4fd3bb196249b"
       ],
       "layout": "IPY_MODEL_a5c1cabf09804590a557f5234ce22985",
       "tabbable": null,
       "tooltip": null
      }
     },
     "a3f546a219d249029cef4c77439a194c": {
      "model_module": "@jupyter-widgets/base",
      "model_module_version": "2.0.0",
      "model_name": "LayoutModel",
      "state": {
       "_model_module": "@jupyter-widgets/base",
       "_model_module_version": "2.0.0",
       "_model_name": "LayoutModel",
       "_view_count": null,
       "_view_module": "@jupyter-widgets/base",
       "_view_module_version": "2.0.0",
       "_view_name": "LayoutView",
       "align_content": null,
       "align_items": null,
       "align_self": null,
       "border_bottom": null,
       "border_left": null,
       "border_right": null,
       "border_top": null,
       "bottom": null,
       "display": null,
       "flex": null,
       "flex_flow": null,
       "grid_area": null,
       "grid_auto_columns": null,
       "grid_auto_flow": null,
       "grid_auto_rows": null,
       "grid_column": null,
       "grid_gap": null,
       "grid_row": null,
       "grid_template_areas": null,
       "grid_template_columns": null,
       "grid_template_rows": null,
       "height": null,
       "justify_content": null,
       "justify_items": null,
       "left": null,
       "margin": null,
       "max_height": null,
       "max_width": null,
       "min_height": null,
       "min_width": null,
       "object_fit": null,
       "object_position": null,
       "order": null,
       "overflow": null,
       "padding": null,
       "right": null,
       "top": null,
       "visibility": null,
       "width": null
      }
     },
     "a5c1cabf09804590a557f5234ce22985": {
      "model_module": "@jupyter-widgets/base",
      "model_module_version": "2.0.0",
      "model_name": "LayoutModel",
      "state": {
       "_model_module": "@jupyter-widgets/base",
       "_model_module_version": "2.0.0",
       "_model_name": "LayoutModel",
       "_view_count": null,
       "_view_module": "@jupyter-widgets/base",
       "_view_module_version": "2.0.0",
       "_view_name": "LayoutView",
       "align_content": null,
       "align_items": null,
       "align_self": null,
       "border_bottom": null,
       "border_left": null,
       "border_right": null,
       "border_top": null,
       "bottom": null,
       "display": null,
       "flex": null,
       "flex_flow": null,
       "grid_area": null,
       "grid_auto_columns": null,
       "grid_auto_flow": null,
       "grid_auto_rows": null,
       "grid_column": null,
       "grid_gap": null,
       "grid_row": null,
       "grid_template_areas": null,
       "grid_template_columns": null,
       "grid_template_rows": null,
       "height": null,
       "justify_content": null,
       "justify_items": null,
       "left": null,
       "margin": null,
       "max_height": null,
       "max_width": null,
       "min_height": null,
       "min_width": null,
       "object_fit": null,
       "object_position": null,
       "order": null,
       "overflow": null,
       "padding": null,
       "right": null,
       "top": null,
       "visibility": null,
       "width": null
      }
     },
     "b7f0083c6b8f4ce4aeffa32f28f1dde3": {
      "model_module": "@jupyter-widgets/controls",
      "model_module_version": "2.0.0",
      "model_name": "ProgressStyleModel",
      "state": {
       "_model_module": "@jupyter-widgets/controls",
       "_model_module_version": "2.0.0",
       "_model_name": "ProgressStyleModel",
       "_view_count": null,
       "_view_module": "@jupyter-widgets/base",
       "_view_module_version": "2.0.0",
       "_view_name": "StyleView",
       "bar_color": null,
       "description_width": ""
      }
     },
     "bb2a798ab4a64cc89de4fd3bb196249b": {
      "model_module": "@jupyter-widgets/controls",
      "model_module_version": "2.0.0",
      "model_name": "HTMLModel",
      "state": {
       "_dom_classes": [],
       "_model_module": "@jupyter-widgets/controls",
       "_model_module_version": "2.0.0",
       "_model_name": "HTMLModel",
       "_view_count": null,
       "_view_module": "@jupyter-widgets/controls",
       "_view_module_version": "2.0.0",
       "_view_name": "HTMLView",
       "description": "",
       "description_allow_html": false,
       "layout": "IPY_MODEL_586005c5016f4235bb1ae3f0da6ad657",
       "placeholder": "​",
       "style": "IPY_MODEL_4b1c2a69636849988a8f40916a6bf038",
       "tabbable": null,
       "tooltip": null,
       "value": " 2/2 [00:38&lt;00:00, 20.55s/it]"
      }
     }
    },
    "version_major": 2,
    "version_minor": 0
   }
  }
 },
 "nbformat": 4,
 "nbformat_minor": 5
}