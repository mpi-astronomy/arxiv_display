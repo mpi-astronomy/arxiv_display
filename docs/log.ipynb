{
 "cells": [
  {
   "cell_type": "markdown",
   "id": "92bcb855",
   "metadata": {
    "papermill": {
     "duration": 0.003654,
     "end_time": "2025-10-14T04:13:14.392453",
     "exception": false,
     "start_time": "2025-10-14T04:13:14.388799",
     "status": "completed"
    },
    "tags": []
   },
   "source": [
    "# MPIA Arxiv on Deck 2\n",
    "\n",
    "Contains the steps to produce the paper extractions."
   ]
  },
  {
   "cell_type": "code",
   "execution_count": 1,
   "id": "3a0d6e11",
   "metadata": {
    "execution": {
     "iopub.execute_input": "2025-10-14T04:13:14.399275Z",
     "iopub.status.busy": "2025-10-14T04:13:14.399089Z",
     "iopub.status.idle": "2025-10-14T04:13:14.598748Z",
     "shell.execute_reply": "2025-10-14T04:13:14.598013Z"
    },
    "papermill": {
     "duration": 0.204539,
     "end_time": "2025-10-14T04:13:14.600199",
     "exception": false,
     "start_time": "2025-10-14T04:13:14.395660",
     "status": "completed"
    },
    "tags": []
   },
   "outputs": [],
   "source": [
    "# Imports\n",
    "import os\n",
    "from IPython.display import Markdown, display\n",
    "from tqdm.notebook import tqdm\n",
    "import warnings\n",
    "from PIL import Image \n",
    "import re\n",
    "\n",
    "# requires arxiv_on_deck_2\n",
    "\n",
    "from arxiv_on_deck_2.arxiv2 import (get_new_papers, \n",
    "                                    get_paper_from_identifier,\n",
    "                                    retrieve_document_source, \n",
    "                                    get_markdown_badge)\n",
    "from arxiv_on_deck_2 import (latex,\n",
    "                             latex_bib,\n",
    "                             mpia,\n",
    "                             highlight_authors_in_list)\n",
    "\n",
    "# Sometimes images are really big\n",
    "Image.MAX_IMAGE_PIXELS = 1000000000 "
   ]
  },
  {
   "cell_type": "code",
   "execution_count": 2,
   "id": "22aa9d44",
   "metadata": {
    "execution": {
     "iopub.execute_input": "2025-10-14T04:13:14.607513Z",
     "iopub.status.busy": "2025-10-14T04:13:14.607283Z",
     "iopub.status.idle": "2025-10-14T04:13:14.615176Z",
     "shell.execute_reply": "2025-10-14T04:13:14.614623Z"
    },
    "papermill": {
     "duration": 0.012524,
     "end_time": "2025-10-14T04:13:14.616168",
     "exception": false,
     "start_time": "2025-10-14T04:13:14.603644",
     "status": "completed"
    },
    "tags": []
   },
   "outputs": [],
   "source": [
    "# Some useful definitions.\n",
    "\n",
    "class AffiliationWarning(UserWarning):\n",
    "    pass\n",
    "\n",
    "class AffiliationError(RuntimeError):\n",
    "    pass\n",
    "\n",
    "def validation(source: str):\n",
    "    \"\"\"Raises error paper during parsing of source file\n",
    "    \n",
    "    Allows checks before parsing TeX code.\n",
    "    \n",
    "    Raises AffiliationWarning\n",
    "    \"\"\"\n",
    "    check = mpia.affiliation_verifications(source, verbose=True)\n",
    "    if check is not True:\n",
    "        raise AffiliationError(\"mpia.affiliation_verifications: \" + check)\n",
    "\n",
    "        \n",
    "warnings.simplefilter('always', AffiliationWarning)\n",
    "\n",
    "\n",
    "def get_markdown_qrcode(paper_id: str):\n",
    "    \"\"\" Generate a qrcode to the arxiv page using qrserver.com\n",
    "    \n",
    "    :param paper: Arxiv paper\n",
    "    :returns: markdown text\n",
    "    \"\"\"\n",
    "    url = r\"https://api.qrserver.com/v1/create-qr-code/?size=100x100&data=\"\n",
    "    txt = f\"\"\"<img src={url}\"https://arxiv.org/abs/{paper_id}\">\"\"\"\n",
    "    txt = '<div id=\"qrcode\">' + txt + '</div>'\n",
    "    return txt\n",
    "\n",
    "\n",
    "def clean_non_western_encoded_characters_commands(text: str) -> str:\n",
    "    \"\"\" Remove non-western encoded characters from a string\n",
    "    List may need to grow.\n",
    "    \n",
    "    :param text: the text to clean\n",
    "    :return: the cleaned text\n",
    "    \"\"\"\n",
    "    text = re.sub(r\"(\\\\begin{CJK}{UTF8}{gbsn})(.*?)(\\\\end{CJK})\", r\"\\2\", text)\n",
    "    return text\n",
    "\n",
    "\n",
    "def get_initials(name: str) -> str:\n",
    "    \"\"\" Get the short name, e.g., A.-B. FamName\n",
    "    :param name: full name\n",
    "    :returns: initials\n",
    "    \"\"\"\n",
    "    initials = []\n",
    "    # account for non western names often in ()\n",
    "    if '(' in name:\n",
    "        name = clean_non_western_encoded_characters_commands(name)\n",
    "        suffix = re.findall(r\"\\((.*?)\\)\", name)[0]\n",
    "        name = name.replace(f\"({suffix})\", '')\n",
    "    else:\n",
    "        suffix = ''\n",
    "    split = name.split()\n",
    "    for token in split[:-1]:\n",
    "        if '-' in token:\n",
    "            current = '-'.join([k[0] + '.' for k in token.split('-')])\n",
    "        else:\n",
    "            current = token[0] + '.'\n",
    "        initials.append(current)\n",
    "    initials.append(split[-1].strip())\n",
    "    if suffix:\n",
    "        initials.append(f\"({suffix})\")\n",
    "    return ' '.join(initials)"
   ]
  },
  {
   "cell_type": "markdown",
   "id": "14bd6310",
   "metadata": {
    "papermill": {
     "duration": 0.002916,
     "end_time": "2025-10-14T04:13:14.622047",
     "exception": false,
     "start_time": "2025-10-14T04:13:14.619131",
     "status": "completed"
    },
    "tags": []
   },
   "source": [
    "## get list of arxiv paper candidates\n",
    "\n",
    "We use the MPIA mitarbeiter list webpage from mpia.de to get author names\n",
    "We then get all new papers from Arxiv and match authors"
   ]
  },
  {
   "cell_type": "code",
   "execution_count": 3,
   "id": "7ea813a8",
   "metadata": {
    "execution": {
     "iopub.execute_input": "2025-10-14T04:13:14.628817Z",
     "iopub.status.busy": "2025-10-14T04:13:14.628625Z",
     "iopub.status.idle": "2025-10-14T04:13:34.200141Z",
     "shell.execute_reply": "2025-10-14T04:13:34.199539Z"
    },
    "papermill": {
     "duration": 19.576265,
     "end_time": "2025-10-14T04:13:34.201314",
     "exception": false,
     "start_time": "2025-10-14T04:13:14.625049",
     "status": "completed"
    },
    "tags": []
   },
   "outputs": [],
   "source": [
    "# deal with the author list and edge cases of people that cannot be consistent on their name  \n",
    "\n",
    "def filter_non_scientists(name: str) -> bool:\n",
    "    \"\"\" Loose filter on expected authorships\n",
    "\n",
    "    removing IT, administration, technical staff\n",
    "    :param name: name\n",
    "    :returns: False if name is not a scientist\n",
    "    \"\"\"\n",
    "    remove_list = ['Licht', 'Binroth', 'Witzel', 'Jordan',\n",
    "                   'Zähringer', 'Scheerer', 'Hoffmann', 'Düe',\n",
    "                   'Hellmich', 'Enkler-Scharpegge', 'Witte-Nguy',\n",
    "                   'Dehen', 'Beckmann', 'Jager', 'Jäger'\n",
    "                  ]\n",
    "\n",
    "    for k in remove_list:\n",
    "        if k in name:\n",
    "            return False\n",
    "    return True\n",
    "\n",
    "def add_author_to_list(author_list: list) -> list:\n",
    "    \"\"\" Add author to list if not already in list\n",
    "    \n",
    "    :param author: author name\n",
    "    :param author_list: list of authors\n",
    "    :returns: updated list of authors\n",
    "    \"\"\"\n",
    "    add_list = ['T. Henning']\n",
    "\n",
    "    for author in add_list:\n",
    "        if author not in author_list:\n",
    "            author_list.append(author)\n",
    "    return author_list\n",
    "\n",
    "# get list from MPIA website\n",
    "# filter for non-scientists (mpia.get_mpia_mitarbeiter_list() does some filtering)\n",
    "mpia_authors = [k[1] for k in mpia.get_mpia_mitarbeiter_list() if filter_non_scientists(k[1])]\n",
    "# add some missing author because of inconsistencies in their MPIA name and author name on papers\n",
    "mpia_authors = add_author_to_list(mpia_authors)"
   ]
  },
  {
   "cell_type": "code",
   "execution_count": 4,
   "id": "2645e73a",
   "metadata": {
    "execution": {
     "iopub.execute_input": "2025-10-14T04:13:34.208578Z",
     "iopub.status.busy": "2025-10-14T04:13:34.208366Z",
     "iopub.status.idle": "2025-10-14T04:13:35.394636Z",
     "shell.execute_reply": "2025-10-14T04:13:35.393953Z"
    },
    "papermill": {
     "duration": 1.190964,
     "end_time": "2025-10-14T04:13:35.395676",
     "exception": false,
     "start_time": "2025-10-14T04:13:34.204712",
     "status": "completed"
    },
    "tags": []
   },
   "outputs": [
    {
     "name": "stdout",
     "output_type": "stream",
     "text": [
      "J. Li  ->  J. Li  |  ['J. Li']\n",
      "Y. Wang  ->  Y. Wang  |  ['Y. Wang']\n",
      "J. Li  ->  J. Li  |  ['J. Li']\n",
      "X. Zhang  ->  X. Zhang  |  ['X. Zhang']\n"
     ]
    },
    {
     "name": "stdout",
     "output_type": "stream",
     "text": [
      "X. Zhang  ->  X. Zhang  |  ['X. Zhang']\n",
      "J. Matharu  ->  J. Matharu  |  ['J. Matharu']\n",
      "Y. Wang  ->  Y. Wang  |  ['Y. Wang']\n",
      "X. Zhang  ->  X. Zhang  |  ['X. Zhang']\n",
      "J. Villasenor  ->  J. Villasenor  |  ['J. Villasenor']\n"
     ]
    },
    {
     "name": "stdout",
     "output_type": "stream",
     "text": [
      "Arxiv has 131 new papers today\n",
      "          7 with possible author matches\n"
     ]
    }
   ],
   "source": [
    "new_papers = get_new_papers()\n",
    "# add manual references\n",
    "add_paper_refs = []\n",
    "new_papers.extend([get_paper_from_identifier(k) for k in add_paper_refs])\n",
    "\n",
    "def robust_call(fn, value, *args, **kwargs):\n",
    "    try:\n",
    "        return fn(value, *args, **kwargs)\n",
    "    except Exception:\n",
    "        return value\n",
    "\n",
    "candidates = []\n",
    "for paperk in new_papers:\n",
    "    # Check author list with their initials\n",
    "    normed_author_list = [robust_call(mpia.get_initials, k) for k in paperk['authors']]\n",
    "    hl_authors = highlight_authors_in_list(normed_author_list, mpia_authors, verbose=True)\n",
    "    matches = [(hl, orig) for hl, orig in zip(hl_authors, paperk['authors']) if 'mark' in hl]\n",
    "    paperk['authors'] = hl_authors\n",
    "    if matches:\n",
    "        # only select paper if an author matched our list\n",
    "        candidates.append(paperk)\n",
    "print(\"\"\"Arxiv has {0:,d} new papers today\"\"\".format(len(new_papers)))        \n",
    "print(\"\"\"          {0:,d} with possible author matches\"\"\".format(len(candidates)))"
   ]
  },
  {
   "cell_type": "markdown",
   "id": "3543b34a",
   "metadata": {
    "papermill": {
     "duration": 0.003089,
     "end_time": "2025-10-14T04:13:35.402303",
     "exception": false,
     "start_time": "2025-10-14T04:13:35.399214",
     "status": "completed"
    },
    "tags": []
   },
   "source": [
    "# Parse sources and generate relevant outputs\n",
    "\n",
    "From the candidates, we do the following steps:\n",
    "* get their tarball from ArXiv (and extract data)\n",
    "* find the main .tex file: find one with \\documentclass{...} (sometimes it's non trivial)\n",
    "* Check affiliations with :func:`validation`, which uses :func:`mpia.affiliation_verifications`\n",
    "* If passing the affiliations: we parse the .tex source\n",
    "   * inject sub-documents into the main (flatten the main document)\n",
    "   * parse structure, extract information (title, abstract, authors, figures...)\n",
    "   * handles `\\graphicspath` if provided\n",
    "* Generate the .md document."
   ]
  },
  {
   "cell_type": "code",
   "execution_count": 5,
   "id": "9576b79e",
   "metadata": {
    "execution": {
     "iopub.execute_input": "2025-10-14T04:13:35.409366Z",
     "iopub.status.busy": "2025-10-14T04:13:35.409133Z",
     "iopub.status.idle": "2025-10-14T04:14:34.125676Z",
     "shell.execute_reply": "2025-10-14T04:14:34.124933Z"
    },
    "papermill": {
     "duration": 58.721294,
     "end_time": "2025-10-14T04:14:34.126733",
     "exception": false,
     "start_time": "2025-10-14T04:13:35.405439",
     "status": "completed"
    },
    "scrolled": false,
    "tags": []
   },
   "outputs": [
    {
     "data": {
      "application/vnd.jupyter.widget-view+json": {
       "model_id": "89a46ac27f3f4489bf7d366d8ffb0d4d",
       "version_major": 2,
       "version_minor": 0
      },
      "text/plain": [
       "  0%|          | 0/7 [00:00<?, ?it/s]"
      ]
     },
     "metadata": {},
     "output_type": "display_data"
    },
    {
     "name": "stdout",
     "output_type": "stream",
     "text": [
      "Retrieving document from  https://arxiv.org/e-print/2510.10067\n"
     ]
    },
    {
     "name": "stdout",
     "output_type": "stream",
     "text": [
      "extracting tarball to tmp_2510.10067... done.\n",
      "Retrieving document from  https://arxiv.org/e-print/2510.10922\n"
     ]
    },
    {
     "name": "stdout",
     "output_type": "stream",
     "text": [
      "extracting tarball to tmp_2510.10922..."
     ]
    },
    {
     "name": "stdout",
     "output_type": "stream",
     "text": [
      " done.\n",
      "Retrieving document from  https://arxiv.org/e-print/2510.11363\n",
      "extracting tarball to tmp_2510.11363... done.\n",
      "Retrieving document from  https://arxiv.org/e-print/2510.11373\n"
     ]
    },
    {
     "name": "stdout",
     "output_type": "stream",
     "text": [
      "extracting tarball to tmp_2510.11373..."
     ]
    },
    {
     "name": "stdout",
     "output_type": "stream",
     "text": [
      " done.\n"
     ]
    },
    {
     "name": "stdout",
     "output_type": "stream",
     "text": [
      "J. Matharu  ->  J. Matharu  |  ['J. Matharu']\n"
     ]
    },
    {
     "name": "stdout",
     "output_type": "stream",
     "text": [
      "Found 67 bibliographic references in tmp_2510.11373/C3D_OIII_LF.bbl.\n",
      "Retrieving document from  https://arxiv.org/e-print/2510.11385\n"
     ]
    },
    {
     "name": "stdout",
     "output_type": "stream",
     "text": [
      "extracting tarball to tmp_2510.11385... done.\n",
      "Retrieving document from  https://arxiv.org/e-print/2510.11404\n"
     ]
    },
    {
     "name": "stdout",
     "output_type": "stream",
     "text": [
      "extracting tarball to tmp_2510.11404..."
     ]
    },
    {
     "name": "stdout",
     "output_type": "stream",
     "text": [
      " done.\n",
      "Retrieving document from  https://arxiv.org/e-print/2510.11528\n"
     ]
    },
    {
     "name": "stdout",
     "output_type": "stream",
     "text": [
      "extracting tarball to tmp_2510.11528..."
     ]
    },
    {
     "name": "stdout",
     "output_type": "stream",
     "text": [
      " done.\n"
     ]
    },
    {
     "name": "stderr",
     "output_type": "stream",
     "text": [
      "/opt/hostedtoolcache/Python/3.9.23/x64/lib/python3.9/site-packages/IPython/core/interactiveshell.py:3550: LatexWarning: Multiple tex files.\n",
      "\n",
      "  exec(code_obj, self.user_global_ns, self.user_ns)\n",
      "/opt/hostedtoolcache/Python/3.9.23/x64/lib/python3.9/site-packages/IPython/core/interactiveshell.py:3550: LatexWarning: Found documentclass in tmp_2510.11528/mnras_template.tex\n",
      "\n",
      "  exec(code_obj, self.user_global_ns, self.user_ns)\n",
      "/opt/hostedtoolcache/Python/3.9.23/x64/lib/python3.9/site-packages/arxiv_on_deck_2/latex.py:414: LatexWarning: Latex injecting: 'affiliations' from 'tmp_2510.11528/affiliations.tex'\n",
      "  warnings.warn(LatexWarning(f\"Latex injecting: '{ext}' from '{subsource}'\"))\n"
     ]
    }
   ],
   "source": [
    "documents = []\n",
    "failed = []\n",
    "for paper in tqdm(candidates):\n",
    "    # debug crap\n",
    "    paper['identifier'] = paper['identifier'].lower().replace('arxiv:', '').replace(r'\\n', '').strip()\n",
    "    paper_id = paper['identifier']\n",
    "    \n",
    "    folder = f'tmp_{paper_id}'\n",
    "\n",
    "    try:\n",
    "        if not os.path.isdir(folder):\n",
    "            folder = retrieve_document_source(f\"{paper_id}\", f'tmp_{paper_id}')\n",
    "        \n",
    "        try:\n",
    "            doc = latex.LatexDocument(folder, validation=validation)    \n",
    "        except AffiliationError as affilerror:\n",
    "            msg = f\"ArXiv:{paper_id:s} is not an MPIA paper... \" + str(affilerror)\n",
    "            failed.append((paper, \"affiliation error: \" + str(affilerror) ))\n",
    "            continue\n",
    "        \n",
    "        # Hack because sometimes author parsing does not work well\n",
    "        if (len(doc.authors) != len(paper['authors'])):\n",
    "            doc._authors = paper['authors']\n",
    "        else:\n",
    "            # highlight authors (FIXME: doc.highlight_authors)\n",
    "            # done on arxiv paper already\n",
    "            doc._authors = highlight_authors_in_list(\n",
    "                [get_initials(k) for k in doc.authors], \n",
    "                mpia_authors, verbose=True)\n",
    "        if (doc.abstract) in (None, ''):\n",
    "            doc._abstract = paper['abstract']\n",
    "            \n",
    "        doc.comment = (get_markdown_badge(paper_id) + \n",
    "                       \"<mark>Appeared on: \" + paper['date'] + \"</mark> - \")\n",
    "        if paper['comments']:\n",
    "            doc.comment += \" _\" + paper['comments'] + \"_\"\n",
    "        \n",
    "        full_md = doc.generate_markdown_text()\n",
    "        \n",
    "        full_md += get_markdown_qrcode(paper_id)\n",
    "        \n",
    "        # replace citations\n",
    "        try:\n",
    "            bibdata = latex_bib.LatexBib.from_doc(doc)\n",
    "            full_md = latex_bib.replace_citations(full_md, bibdata)\n",
    "        except Exception as e:\n",
    "            print(\"Issues with the citations\")\n",
    "            print(e)\n",
    "        \n",
    "        documents.append((paper_id, full_md))\n",
    "    except Exception as e:\n",
    "        warnings.warn(latex.LatexWarning(f\"{paper_id:s} did not run properly\\n\" +\n",
    "                                         str(e)\n",
    "                                        ))\n",
    "        failed.append((paper, \"latex error \" + str(e)))"
   ]
  },
  {
   "cell_type": "markdown",
   "id": "2505a25c",
   "metadata": {
    "papermill": {
     "duration": 0.00391,
     "end_time": "2025-10-14T04:14:34.134838",
     "exception": false,
     "start_time": "2025-10-14T04:14:34.130928",
     "status": "completed"
    },
    "tags": []
   },
   "source": [
    "### Export the logs\n",
    "\n",
    "Throughout, we also keep track of the logs per paper. see `logs-{today date}.md` "
   ]
  },
  {
   "cell_type": "code",
   "execution_count": 6,
   "id": "d733828a",
   "metadata": {
    "execution": {
     "iopub.execute_input": "2025-10-14T04:14:34.143485Z",
     "iopub.status.busy": "2025-10-14T04:14:34.143189Z",
     "iopub.status.idle": "2025-10-14T04:14:34.162240Z",
     "shell.execute_reply": "2025-10-14T04:14:34.161713Z"
    },
    "papermill": {
     "duration": 0.02451,
     "end_time": "2025-10-14T04:14:34.163226",
     "exception": false,
     "start_time": "2025-10-14T04:14:34.138716",
     "status": "completed"
    },
    "scrolled": false,
    "tags": []
   },
   "outputs": [
    {
     "data": {
      "text/markdown": [
       "## Successful papers"
      ],
      "text/plain": [
       "<IPython.core.display.Markdown object>"
      ]
     },
     "metadata": {},
     "output_type": "display_data"
    },
    {
     "data": {
      "text/markdown": [
       "\n",
       "|||\n",
       "|---:|:---|\n",
       "| [![arXiv](https://img.shields.io/badge/arXiv-2510.11373-b31b1b.svg)](https://arxiv.org/abs/2510.11373) | **JWST COSMOS-3D: Spectroscopic Census and Luminosity Function of [O III] Emitters at 6.75<z<9.05 in COSMOS**  |\n",
       "|| R. A. Meyer, et al. -- incl., <mark>J. Matharu</mark> |\n",
       "|*Appeared on*| *2025-10-14*|\n",
       "|*Comments*| *Submitted to A&A. 10 pages + appendices. [OIII] catalogue release after acceptance. Comments welcome!*|\n",
       "|**Abstract**|            We present a spectroscopically-selected [OIII]+Hb emitters catalogue at 6.75<z<9.05 and the resulting [OIII] 5008 ÅLuminosity Function (LF) in the COSMOS field. We leverage the 0.3 deg$^{2}$ covered to date by COSMOS-3D using NIRCam/WFSS F444W (90% of the survey) to perform the largest spectroscopic search for [OIII] emitters at 6.75<z<9.05. We present our catalogue of 237 [OIII] emitters and their associated completeness function. The inferred constraints on the [OIII] LF enable us to characterise the knee of the [OIII] LF, resulting in improved [OIII] LF constraints at z~7,8. Notably, we find evidence for an accelerated decline of the [OIII] luminosity density between z~7 and z~8, which could be expected if the metallicity of [OIII] emitters, as well as the cosmic star-formation rate density, is declining at these redshifts. We find that theoretical models that reproduce the z~7,8 [OIII] LF do not reproduce well the [OIII] equivalent width distribution, pointing to potential challenges in the modelling of[OIII] and other nebular lines in the early Universe. Finally, we provide the first constraints on the cosmic variance of [OIII] emitters, estimating at 15% the relative uncertainty for the z~7,8 [OIII] LF in the 0.3 deg$^2$ field. This estimate is in good agreement with that inferred from clustering, and shows that the [OIII] LF derived from smaller extragalactic legacy fields is strongly affected by cosmic variance. Our results highlight the fundamental role that wide-area JWST slitless surveys play to map the galaxy large-scale structure down into the reionisation era, serving as a springboard for a variety of science cases.         |"
      ],
      "text/plain": [
       "[2510.11373] JWST COSMOS-3D: Spectroscopic Census and Luminosity Function of [O III] Emitters at 6.75<z<9.05 in COSMOS\n",
       "\tR. A. Meyer, et al. -- incl., <mark>J. Matharu</mark>"
      ]
     },
     "metadata": {},
     "output_type": "display_data"
    },
    {
     "data": {
      "text/markdown": [
       "## Failed papers"
      ],
      "text/plain": [
       "<IPython.core.display.Markdown object>"
      ]
     },
     "metadata": {},
     "output_type": "display_data"
    },
    {
     "data": {
      "text/markdown": [
       "\n",
       "|||\n",
       "|---:|:---|\n",
       "| [![arXiv](https://img.shields.io/badge/arXiv-2510.10067-b31b1b.svg)](https://arxiv.org/abs/2510.10067) | **Beamforming in Interferometer Arrays with Cross-couplings**  |\n",
       "|| Y. Liu, et al. -- incl., <mark>J. Li</mark>, <mark>Y. Wang</mark> |\n",
       "|*Appeared on*| *2025-10-14*|\n",
       "|*Comments*| *18 pages, 12 figures, RAA accepted*|\n",
       "|**Abstract**|            For an interferometric array, an image of the sky can be synthesized from interferometric visibilities, which are the cross-correlations of the received electric voltages of pairs of array elements. However, to search for transient targets such as the fast radio burst (FRB), it is more convenient to use the beam-forming technique, where the real-time voltage outputs of the array elements are used to generate data streams (beams) which are sensitive to a specific direction. This is usually achieved by a weighted sum of the array element voltages, with the complex weight adjusted so that all outputs have the same phase for that direction. Alternatively, beams can also be formed from the weighted sum of the short time averaged correlation (visibility) data. We shall call these two approaches the electric voltage beam forming (EBF) and cross-correlation beam forming (XBF), respectively. All beams formed with the EBF can also be formed by the XBF method, but the latter can also generate beams which can not be generated by the former. We discuss the properties of these two kinds of beams, and the amount of computation required in each case. For an array with large number of elements, the XBF would require much more computation resource, although this is partly compensated by the fact that it allows integration over time. We study the impact of cross-coupling between array elements on the beamforming, first using a toy model, then for the case of the Tianlai Cylinder Pathfinder Array. In both cases, we find that the impact of the cross-coupling on the beam profile is relatively small. The understanding gained in this study is helpful in designing and understanding the beam-forming FRB digital backend for compact arrays such as the Tianlai array.         |\n",
       "|<p style=\"color:green\"> **ERROR** </p>| <p style=\"color:green\">affiliation error: mpia.affiliation_verifications: 'Heidelberg' keyword not found.</p> |"
      ],
      "text/plain": [
       "<IPython.core.display.Markdown object>"
      ]
     },
     "metadata": {},
     "output_type": "display_data"
    },
    {
     "data": {
      "text/markdown": [
       "\n",
       "|||\n",
       "|---:|:---|\n",
       "| [![arXiv](https://img.shields.io/badge/arXiv-2510.10922-b31b1b.svg)](https://arxiv.org/abs/2510.10922) | **Slitless Spectroscopy Source Detection Using YOLO Deep Neural Network**  |\n",
       "|| X. Chen, et al. -- incl., <mark>J. Li</mark>, <mark>X. Zhang</mark> |\n",
       "|*Appeared on*| *2025-10-14*|\n",
       "|*Comments*| *22 pages, 11 figures, 7 tables. PASP accepted*|\n",
       "|**Abstract**|            Slitless spectroscopy eliminates the need for slits, allowing light to pass directly through a prism or grism to generate a spectral dispersion image that encompasses all celestial objects within a specified area. This technique enables highly efficient spectral acquisition. However, when processing CSST slitless spectroscopy data, the unique design of its focal plane introduces a challenge: photometric and slitless spectroscopic images do not have a one-to-one correspondence. As a result, it becomes essential to first identify and count the sources in the slitless spectroscopic images before extracting spectra. To address this challenge, we employed the You Only Look Once (YOLO) object detection algorithm to develop a model for detecting targets in slitless spectroscopy images. This model was trained on 1,560 simulated CSST slitless spectroscopic images. These simulations were generated from the CSST Cycle 6 and Cycle 9 main survey data products, representing the Galactic and nearby galaxy regions and the high galactic latitude regions, respectively. On the validation set, the model achieved a precision of 88.6% and recall of 90.4% for spectral lines, and 87.0% and 80.8% for zeroth-order images. In testing, it maintained a detection rate >80% for targets brighter than 21 mag (medium-density regions) and 20 mag (low-density regions) in the Galactic and nearby galaxies regions, and >70% for targets brighter than 18 mag in high galactic latitude regions.         |\n",
       "|<p style=\"color:green\"> **ERROR** </p>| <p style=\"color:green\">affiliation error: mpia.affiliation_verifications: 'Heidelberg' keyword not found.</p> |"
      ],
      "text/plain": [
       "<IPython.core.display.Markdown object>"
      ]
     },
     "metadata": {},
     "output_type": "display_data"
    },
    {
     "data": {
      "text/markdown": [
       "\n",
       "|||\n",
       "|---:|:---|\n",
       "| [![arXiv](https://img.shields.io/badge/arXiv-2510.11363-b31b1b.svg)](https://arxiv.org/abs/2510.11363) | **Updated constraints on interacting dark energy: A comprehensive analysis using multiple CMB probes, DESI DR2, and supernovae observations**  |\n",
       "|| T.-N. Li, et al. -- incl., <mark>X. Zhang</mark> |\n",
       "|*Appeared on*| *2025-10-14*|\n",
       "|*Comments*| *17 pages, 3 figures*|\n",
       "|**Abstract**|            Recent DESI baryon acoustic oscillation (BAO) measurements, combined with Planck cosmic microwave background (CMB) data and DESY5 type Ia supernova (SN) data, indicate a significant deviation from $\\Lambda$CDM, which seems to suggest that this deviation can be explained by an interaction between dark energy and dark matter. In this work, we perform a comprehensive analysis by utilizing the latest DESI DR2 BAO data in conjunction with CMB data from ACT, SPT, Planck, and WMAP, along with SN data from PantheonPlus and DESY5. We consider four interacting dark energy (IDE) models with different forms of the interaction term $Q$. Our analysis indicates that CMB experiments other than Planck enhance the evidence for an interaction in the IDE models with $Q \\propto \\rho_{\\rm de}$. In particular, when using the SPT+DESI+DESY5 data, the IDE model with $Q = \\beta H_0 \\rho_{\\rm de}$ gives $\\beta = -0.4170 \\pm 0.1220$, with a deviation from zero reaching $3.4\\sigma$ level. When replacing DESY5 with PantheonPlus, this deviation weakens to $2.1\\sigma$ level, but remains relatively significant. Furthermore, the Bayes factors of the IDE model with $Q = \\beta H_0 \\rho_{\\rm de}$ are positive in all cases, providing a moderate-to-strong preference over $\\Lambda$CDM. Overall, our comprehensive analysis clearly suggests that the IDE models with $Q \\propto \\rho_{\\rm de}$ (especially, $Q = \\beta H_0 \\rho_{\\rm de}$) provide strong evidence supporting the existence of interaction and are more preferred by the current cosmological data.         |\n",
       "|<p style=\"color:green\"> **ERROR** </p>| <p style=\"color:green\">affiliation error: mpia.affiliation_verifications: 'Heidelberg' keyword not found.</p> |"
      ],
      "text/plain": [
       "<IPython.core.display.Markdown object>"
      ]
     },
     "metadata": {},
     "output_type": "display_data"
    },
    {
     "data": {
      "text/markdown": [
       "\n",
       "|||\n",
       "|---:|:---|\n",
       "| [![arXiv](https://img.shields.io/badge/arXiv-2510.11385-b31b1b.svg)](https://arxiv.org/abs/2510.11385) | **Unveil A Peculiar Light Curve Pattern of Magnetar Burst with GECAM observations of SGR J1935+2154**  |\n",
       "|| <mark>Y. Wang</mark>, et al. |\n",
       "|*Appeared on*| *2025-10-14*|\n",
       "|*Comments*| *13 pages, 5 figures, accepted to publication on ApJ*|\n",
       "|**Abstract**|            Magnetar X-ray Burst (MXB) is usually composed of a single pulse or multiple pulses with rapid rise and brief duration mostly observed in hard X-ray (soft gamma-ray) band. Previous work studied the temporal behavior of some magnetar bursts and employed the Fast Rise Exponential Decay (FRED) model to fit pulses of MXB. However, whether there is other kind of pulse shape has not been explored. In this study, we systematically examined light curve of MXBs from SGR J1935+2154 detected by GECAM between 2021 and 2022. We find that there are different light curve morphologies. Especially, we discover a peculiar and new pattern, Exponential Rise and Cut-Off Decay (ERCOD), which is significantly different from FRED and could be well described by a mathematical function we proposed. We find that MXBs with ERCOD shape are generally longer in duration, brighter in the peak flux, and harder in spectrum. We note that the ERCOD shape is not unique to SGR J1935+2154 but also present in other magnetars. This new light curve pattern may imply a special burst and radiation mechanism of magnetar.         |\n",
       "|<p style=\"color:green\"> **ERROR** </p>| <p style=\"color:green\">affiliation error: mpia.affiliation_verifications: 'Heidelberg' keyword not found.</p> |"
      ],
      "text/plain": [
       "<IPython.core.display.Markdown object>"
      ]
     },
     "metadata": {},
     "output_type": "display_data"
    },
    {
     "data": {
      "text/markdown": [
       "\n",
       "|||\n",
       "|---:|:---|\n",
       "| [![arXiv](https://img.shields.io/badge/arXiv-2510.11404-b31b1b.svg)](https://arxiv.org/abs/2510.11404) | **Observational study of chromospheric jets in and around a sunspot observed by NVST and SDO**  |\n",
       "|| G. Wu, et al. -- incl., <mark>X. Zhang</mark> |\n",
       "|*Appeared on*| *2025-10-14*|\n",
       "|*Comments*| *18 pages, 11 figures, accepted for publication in ApJ*|\n",
       "|**Abstract**|            To better understand the characteristics, driving mechanisms, and potential heating contributions of chromospheric jets, we analyze two contrasting types: one originating from within the sunspot penumbra (inside jets), and the other originating from outside the penumbra (outside jets). Statistical analysis of 100 jets (50 inside jets and 50 outside jets) reveals that inside jets have a projected velocity range of 4--14~km\\,s$^{-1}$, a length range of 1--4~Mm, a width range of 0.2--0.6~Mm, and a lifetime range of 135--450~s, with mean values of 7.90~km\\,s$^{-1}$, 2.61~Mm, 0.41~Mm, and 260~s, respectively. About 52\\% of inside jets are associated with brightenings in H$\\alpha$ blue wing images, and some show high-temperature signatures, suggesting a connection with localized energy release. In contrast, outside jets have higher velocities (8--50~km\\,s$^{-1}$, average 19.04~km\\,s$^{-1}$), greater lengths (average 6.26~Mm, up to 27.27~Mm), slightly larger widths (average 0.46~Mm), and longer lifetimes (135--630~s, average 327~s). They typically originate from regions of opposite magnetic polarities and are associated with magnetic flux emergence and EUV brightenings. Some outside jets correspond to coronal jets with inverted Y-shaped structures and temperatures exceeding one million Kelvin. Our results suggest that both jet types are driven by magnetic reconnection occurring in distinct magnetic field configurations and contribute to chromospheric and coronal heating.         |\n",
       "|<p style=\"color:green\"> **ERROR** </p>| <p style=\"color:green\">affiliation error: mpia.affiliation_verifications: 'Heidelberg' keyword not found.</p> |"
      ],
      "text/plain": [
       "<IPython.core.display.Markdown object>"
      ]
     },
     "metadata": {},
     "output_type": "display_data"
    },
    {
     "data": {
      "text/markdown": [
       "\n",
       "|||\n",
       "|---:|:---|\n",
       "| [![arXiv](https://img.shields.io/badge/arXiv-2510.11528-b31b1b.svg)](https://arxiv.org/abs/2510.11528) | **MANGOS II: Five new giant planets orbiting low-mass stars**  |\n",
       "|| G. Dransfield, et al. -- incl., <mark>J. Villasenor</mark> |\n",
       "|*Appeared on*| *2025-10-14*|\n",
       "|*Comments*| *Submitted to MNRAS*|\n",
       "|**Abstract**|            Giant planets orbiting low-mass stars on short orbits present a conundrum, as in the most extreme cases their existence cannot be reconciled with current models of core accretion. Therefore, surveys dedicated to finding these rare planets have a key role to play by growing the sample to overcome small number statistics. In this work we present MANGOS, a programme dedicated to the search for giant objects (planets, brown dwarfs, and low-mass stars) orbiting M dwarfs. We report on the discovery of five new giant planets (TOI-3288 Ab, TOI-4666 b, TOI-5007 b, TOI-5292 Ab, TOI-5916 b) first detected by TESS, and confirmed using ground-based photometry and spectroscopy. The five planets have radii in the range 0.99-1.12 $\\mathrm{R_{Jup}}$, masses between 0.49--1.69~$\\mathrm{M_{Jup}}$, and orbital periods between 1.43 and 2.91 days. We reveal that TOI-3288 and TOI-5292 are wide binaries, and in the case of TOI-5292 we are able to characterise both stellar components. We demonstrate that the planets presented are suitable for further characterisation of their obliquities and atmospheres. We detect a small but significant eccentricity for TOI-5007 b, although for this to be more robust, more observations are needed to fully sample the orbit. Finally, we reveal a correlation between stellar metallicity and planet bulk density for giant planets orbiting low-mass stars.         |\n",
       "|<p style=\"color:green\"> **ERROR** </p>| <p style=\"color:green\">affiliation error: mpia.affiliation_verifications: 'Heidelberg' keyword not found.</p> |"
      ],
      "text/plain": [
       "<IPython.core.display.Markdown object>"
      ]
     },
     "metadata": {},
     "output_type": "display_data"
    }
   ],
   "source": [
    "import datetime\n",
    "today = str(datetime.date.today())\n",
    "logfile = f\"_build/html/logs/log-{today}.md\"\n",
    "\n",
    "\n",
    "with open(logfile, 'w') as logs:\n",
    "    # Success\n",
    "    logs.write(f'# Arxiv on Deck 2: Logs - {today}\\n\\n')\n",
    "    logs.write(\"\"\"* Arxiv had {0:,d} new papers\\n\"\"\".format(len(new_papers)))\n",
    "    logs.write(\"\"\"    * {0:,d} with possible author matches\\n\\n\"\"\".format(len(candidates)))\n",
    "    logs.write(\"## Sucessful papers\\n\\n\")\n",
    "    display(Markdown(\"## Successful papers\"))\n",
    "    success = [k[0] for k in documents]\n",
    "    for candid in candidates:\n",
    "        if candid['identifier'].split(':')[-1] in success:\n",
    "            display(candid)\n",
    "            logs.write(candid.generate_markdown_text() + '\\n\\n')\n",
    "\n",
    "    ## failed\n",
    "    logs.write(\"## Failed papers\\n\\n\")\n",
    "    display(Markdown(\"## Failed papers\"))\n",
    "    failed = sorted(failed, key=lambda x: x[1])\n",
    "    current_reason = \"\"\n",
    "    for paper, reason in failed:\n",
    "        if 'affiliation' in reason:\n",
    "            color = 'green'\n",
    "        else:\n",
    "            color = 'red'\n",
    "        data = Markdown(\n",
    "                paper.generate_markdown_text() + \n",
    "                f'\\n|<p style=\"color:{color:s}\"> **ERROR** </p>| <p style=\"color:{color:s}\">{reason:s}</p> |'\n",
    "               )\n",
    "        if reason != current_reason:\n",
    "            logs.write(f'### {reason:s} \\n\\n')\n",
    "            current_reason = reason\n",
    "        logs.write(data.data + '\\n\\n')\n",
    "        \n",
    "        # only display here the important errors (all in logs)\n",
    "        # if color in ('red',):\n",
    "        display(data)"
   ]
  },
  {
   "cell_type": "markdown",
   "id": "472d20ee",
   "metadata": {
    "papermill": {
     "duration": 0.004685,
     "end_time": "2025-10-14T04:14:34.173272",
     "exception": false,
     "start_time": "2025-10-14T04:14:34.168587",
     "status": "completed"
    },
    "tags": []
   },
   "source": [
    "## Export documents\n",
    "\n",
    "We now write the .md files and export relevant images"
   ]
  },
  {
   "cell_type": "code",
   "execution_count": 7,
   "id": "d426aed9",
   "metadata": {
    "execution": {
     "iopub.execute_input": "2025-10-14T04:14:34.183516Z",
     "iopub.status.busy": "2025-10-14T04:14:34.183264Z",
     "iopub.status.idle": "2025-10-14T04:14:34.189820Z",
     "shell.execute_reply": "2025-10-14T04:14:34.189278Z"
    },
    "papermill": {
     "duration": 0.012792,
     "end_time": "2025-10-14T04:14:34.190786",
     "exception": false,
     "start_time": "2025-10-14T04:14:34.177994",
     "status": "completed"
    },
    "tags": []
   },
   "outputs": [],
   "source": [
    "def export_markdown_summary(md: str, md_fname:str, directory: str):\n",
    "    \"\"\"Export MD document and associated relevant images\"\"\"\n",
    "    import os\n",
    "    import shutil\n",
    "    import re\n",
    "\n",
    "    if (os.path.exists(directory) and not os.path.isdir(directory)):\n",
    "        raise RuntimeError(f\"a non-directory file exists with name {directory:s}\")\n",
    "\n",
    "    if (not os.path.exists(directory)):\n",
    "        print(f\"creating directory {directory:s}\")\n",
    "        os.mkdir(directory)\n",
    "\n",
    "    fig_fnames = (re.compile(r'\\[Fig.*\\]\\((.*)\\)').findall(md) + \n",
    "                  re.compile(r'\\<img src=\"([^>\\s]*)\"[^>]*/>').findall(md))\n",
    "    print(\"found figures\", fig_fnames)\n",
    "    for fname in fig_fnames:\n",
    "        if 'http' in fname:\n",
    "            # No need to copy online figures\n",
    "            continue\n",
    "        if not os.path.exists(fname):\n",
    "            print(\"file not found\", fname)\n",
    "            continue\n",
    "        print(\"copying \", fname, \"to\", directory)\n",
    "        destdir = os.path.join(directory, os.path.dirname(fname))\n",
    "        destfname = os.path.join(destdir, os.path.basename(fname))\n",
    "        try:\n",
    "            os.makedirs(destdir)\n",
    "        except FileExistsError:\n",
    "            pass\n",
    "        shutil.copy(fname, destfname)\n",
    "    with open(os.path.join(directory, md_fname), 'w') as fout:\n",
    "        fout.write(md)\n",
    "    print(\"exported in \", os.path.join(directory, md_fname))\n",
    "    [print(\"    + \" + os.path.join(directory,fk)) for fk in fig_fnames]"
   ]
  },
  {
   "cell_type": "code",
   "execution_count": 8,
   "id": "014d04a4",
   "metadata": {
    "execution": {
     "iopub.execute_input": "2025-10-14T04:14:34.201122Z",
     "iopub.status.busy": "2025-10-14T04:14:34.200936Z",
     "iopub.status.idle": "2025-10-14T04:14:34.220067Z",
     "shell.execute_reply": "2025-10-14T04:14:34.219501Z"
    },
    "papermill": {
     "duration": 0.02542,
     "end_time": "2025-10-14T04:14:34.221085",
     "exception": false,
     "start_time": "2025-10-14T04:14:34.195665",
     "status": "completed"
    },
    "tags": []
   },
   "outputs": [
    {
     "name": "stdout",
     "output_type": "stream",
     "text": [
      "found figures ['tmp_2510.11373/./figures/C3D_all_emitters.png', 'tmp_2510.11373/./figures/completeness_functions_5008.png', 'tmp_2510.11373/./figures/EW_O3.png']\n",
      "copying  tmp_2510.11373/./figures/C3D_all_emitters.png to _build/html/\n",
      "copying  tmp_2510.11373/./figures/completeness_functions_5008.png to _build/html/\n",
      "copying  tmp_2510.11373/./figures/EW_O3.png to _build/html/\n",
      "exported in  _build/html/2510.11373.md\n",
      "    + _build/html/tmp_2510.11373/./figures/C3D_all_emitters.png\n",
      "    + _build/html/tmp_2510.11373/./figures/completeness_functions_5008.png\n",
      "    + _build/html/tmp_2510.11373/./figures/EW_O3.png\n"
     ]
    }
   ],
   "source": [
    "for paper_id, md in documents:\n",
    "    export_markdown_summary(md, f\"{paper_id:s}.md\", '_build/html/')"
   ]
  },
  {
   "cell_type": "markdown",
   "id": "f087a0a7",
   "metadata": {
    "papermill": {
     "duration": 0.00481,
     "end_time": "2025-10-14T04:14:34.230848",
     "exception": false,
     "start_time": "2025-10-14T04:14:34.226038",
     "status": "completed"
    },
    "tags": []
   },
   "source": [
    "## Display the papers\n",
    "\n",
    "Not necessary but allows for a quick check."
   ]
  },
  {
   "cell_type": "code",
   "execution_count": 9,
   "id": "fd25f625",
   "metadata": {
    "execution": {
     "iopub.execute_input": "2025-10-14T04:14:34.241367Z",
     "iopub.status.busy": "2025-10-14T04:14:34.241185Z",
     "iopub.status.idle": "2025-10-14T04:14:34.245660Z",
     "shell.execute_reply": "2025-10-14T04:14:34.245012Z"
    },
    "papermill": {
     "duration": 0.010729,
     "end_time": "2025-10-14T04:14:34.246613",
     "exception": false,
     "start_time": "2025-10-14T04:14:34.235884",
     "status": "completed"
    },
    "scrolled": false,
    "tags": []
   },
   "outputs": [
    {
     "data": {
      "text/markdown": [
       "<div class=\"macros\" style=\"visibility:hidden;\">\n",
       "$\\newcommand{\\ensuremath}{}$\n",
       "$\\newcommand{\\xspace}{}$\n",
       "$\\newcommand{\\object}[1]{\\texttt{#1}}$\n",
       "$\\newcommand{\\farcs}{{.}''}$\n",
       "$\\newcommand{\\farcm}{{.}'}$\n",
       "$\\newcommand{\\arcsec}{''}$\n",
       "$\\newcommand{\\arcmin}{'}$\n",
       "$\\newcommand{\\ion}[2]{#1#2}$\n",
       "$\\newcommand{\\textsc}[1]{\\textrm{#1}}$\n",
       "$\\newcommand{\\hl}[1]{\\textrm{#1}}$\n",
       "$\\newcommand{\\footnote}[1]{}$\n",
       "$\\newcommand{\\oiii}{\\ifmmode \\text{[O~{\\sc iii}]} \\else[O~{\\sc iii}]\\fi}$\n",
       "$\\newcommand{\\neiii}{[Ne~{\\sc iii}]}$\n",
       "$\\newcommand{\\ha}{\\ifmmode \\text{H}\\alpha \\else H\\alpha\\fi}$\n",
       "$\\newcommand{\\hb}{\\ifmmode \\text{H}\\beta \\else H\\beta\\fi}$\n",
       "$\\newcommand{\\oiiihb}{\\text{\\oiii+\\hb}}$\n",
       "$\\newcommand{\\kms}{\\rm{km s}^{-1}}$\n",
       "$\\newcommand{\\arraystretch}{1.3}$\n",
       "$\\newcommand{\\arraystretch}{1.3}$\n",
       "$\\newcommand{\\arraystretch}{1.3}$</div>\n",
       "\n",
       "\n",
       "\n",
       "<div id=\"title\">\n",
       "\n",
       "# JWST COSMOS-3D: Spectroscopic Census and Luminosity Function of $\\oiii$  Emitters at $6.75\\!<\\!z\\!<\\!9.05$ in COSMOS\n",
       "\n",
       "</div>\n",
       "<div id=\"comments\">\n",
       "\n",
       "[![arXiv](https://img.shields.io/badge/arXiv-2510.11373-b31b1b.svg)](https://arxiv.org/abs/2510.11373)<mark>Appeared on: 2025-10-14</mark> -  _Submitted to A&A. 10 pages + appendices. [OIII] catalogue release after acceptance. Comments welcome!_\n",
       "\n",
       "</div>\n",
       "<div id=\"authors\">\n",
       "\n",
       "R. A. Meyer, et al. -- incl., <mark>J. Matharu</mark>\n",
       "\n",
       "</div>\n",
       "<div id=\"abstract\">\n",
       "\n",
       "**Abstract:** We present a spectroscopically-selected $\\oiiihb$ emitters catalogue at $6.75\\!<\\!z\\!<\\!9.05$ and the resulting $\\oiii$ $5008$ Å  Luminosity Function (LF) in the COSMOS field. We leverage the 0.3 deg $^{2}$ covered  to date by COSMOS-3D using NIRCam/WFSS F444W ( $90\\%$ of the survey) to perform the largest spectroscopic search for $\\oiii$ emitters at $6.75\\!<\\!z\\!<\\!9.05$ . We present our catalogue of $237$ $\\oiii$ emitters and their associated completeness function. The inferred constraints on the $\\oiii$ LF enable us to characterise the knee of the $\\oiii$ LF, resulting in improved $\\oiii$ LF constraints at $z\\sim 7, 8$ . Notably, we find evidence for an accelerated decline of the $\\oiii$ luminosity density between $z\\sim7$ and $z\\sim8$ , which could be expected if the metallicity of $\\oiii$ emitters, as well as the cosmic star-formation rate density, is declining at these redshifts. We find that theoretical models that reproduce the $z\\sim7,8$ $\\oiii$ LF do not reproduce well the $\\oiii$ equivalent width distribution, pointing to potential challenges in the modelling of $\\oiii$ and other nebular lines in the early Universe. Finally, we provide the first constraints on the cosmic variance of $\\oiii$ emitters, estimating at $15\\%$ the relative uncertainty for the z $\\sim 7,8$ $\\oiii$ LF in the 0.3 deg $^2$ field. This estimate is in good agreement with that inferred from clustering, and shows that the $\\oiii$ LF derived from smaller extragalactic legacy fields is strongly affected by cosmic variance. Our results highlight the fundamental role that wide-area JWST slitless surveys play to map the galaxy large-scale structure down into the reionisation era, serving as a springboard for a variety of science cases.\n",
       "\n",
       "</div>\n",
       "\n",
       "<div id=\"div_fig1\">\n",
       "\n",
       "<img src=\"tmp_2510.11373/./figures/C3D_all_emitters.png\" alt=\"Fig1\" width=\"100%\"/>\n",
       "\n",
       "**Figure 1. -** 2D SNR spectra of all $237$ individual $\\oiii$ emitters reported in this work. The emitters are ordered by redshift (only a subsample of redshifts are shown on the y-axis for readability). (*fig:fig1_allspectra*)\n",
       "\n",
       "</div>\n",
       "<div id=\"div_fig2\">\n",
       "\n",
       "<img src=\"tmp_2510.11373/./figures/completeness_functions_5008.png\" alt=\"Fig2\" width=\"100%\"/>\n",
       "\n",
       "**Figure 2. -** Completeness functions for the $\\oiii$hb emitter search as a function of the measured $\\oiii$ 5008 $Å$ SNR. The black square datapoints and red curve denote the effective completeness including the initial Gaussian-matched filtering (GM) and the subsequent visual inspection (VI). The best-fit completeness function of each separate step is shown with yellow and blue lines, as well as the binned data values for the visual inspection (gray dots). Note that the visual inspection is specific to the quality threshold chosen (here $q\\geq1.5$).  (*fig:completeness_function*)\n",
       "\n",
       "</div>\n",
       "<div id=\"div_fig3\">\n",
       "\n",
       "<img src=\"tmp_2510.11373/./figures/EW_O3.png\" alt=\"Fig3\" width=\"100%\"/>\n",
       "\n",
       "**Figure 3. -** Equivalent width ($EW_0$) distribution of the $\\oiii$ emitters in this work, FRESCO  ([Meyer, Oesch and Giovinazzo 2024]())  and predictions from THESAN \\citep[][]{Kannan2022a,Kannan2022}  , SPHINX \\citep[][]{Katz2023_sphinx}  , JAGUAR \\citep[][]{Williams2018}  , FLARES \\citep[][]{Lovell2021,Wilkins2023_o3}  . The combined distribution of FRESCO and COMSOS-3D, re-weighted by survey area, is shown in dashed black lines.  (*fig:ew_o3*)\n",
       "\n",
       "</div><div id=\"qrcode\"><img src=https://api.qrserver.com/v1/create-qr-code/?size=100x100&data=\"https://arxiv.org/abs/2510.11373\"></div>"
      ],
      "text/plain": [
       "<IPython.core.display.Markdown object>"
      ]
     },
     "metadata": {},
     "output_type": "display_data"
    }
   ],
   "source": [
    "[display(Markdown(k[1])) for k in documents];"
   ]
  },
  {
   "cell_type": "markdown",
   "id": "873873a4",
   "metadata": {
    "papermill": {
     "duration": 0.004947,
     "end_time": "2025-10-14T04:14:34.256635",
     "exception": false,
     "start_time": "2025-10-14T04:14:34.251688",
     "status": "completed"
    },
    "tags": []
   },
   "source": [
    "# Create HTML index"
   ]
  },
  {
   "cell_type": "code",
   "execution_count": 10,
   "id": "cf665672",
   "metadata": {
    "execution": {
     "iopub.execute_input": "2025-10-14T04:14:34.267524Z",
     "iopub.status.busy": "2025-10-14T04:14:34.267256Z",
     "iopub.status.idle": "2025-10-14T04:14:34.274030Z",
     "shell.execute_reply": "2025-10-14T04:14:34.273494Z"
    },
    "papermill": {
     "duration": 0.013297,
     "end_time": "2025-10-14T04:14:34.275028",
     "exception": false,
     "start_time": "2025-10-14T04:14:34.261731",
     "status": "completed"
    },
    "tags": []
   },
   "outputs": [
    {
     "name": "stdout",
     "output_type": "stream",
     "text": [
      "124  publications files modified in the last 7 days.\n"
     ]
    }
   ],
   "source": [
    "from datetime import datetime, timedelta, timezone\n",
    "from glob import glob\n",
    "import os\n",
    "\n",
    "files = glob('_build/html/*.md')\n",
    "days = 7\n",
    "now = datetime.today()\n",
    "res = []\n",
    "for fk in files:\n",
    "    stat_result = os.stat(fk).st_ctime\n",
    "    modified = datetime.fromtimestamp(stat_result, tz=timezone.utc).replace(tzinfo=None)\n",
    "    delta = now.today() - modified\n",
    "    if delta <= timedelta(days=days):\n",
    "        res.append((delta.seconds, fk))\n",
    "res = [k[1] for k in reversed(sorted(res, key=lambda x:x[1]))]\n",
    "npub = len(res)\n",
    "print(len(res), f\" publications files modified in the last {days:d} days.\")\n",
    "# [ print('\\t', k) for k in res ];"
   ]
  },
  {
   "cell_type": "code",
   "execution_count": 11,
   "id": "015de740",
   "metadata": {
    "execution": {
     "iopub.execute_input": "2025-10-14T04:14:34.285957Z",
     "iopub.status.busy": "2025-10-14T04:14:34.285750Z",
     "iopub.status.idle": "2025-10-14T04:14:34.297397Z",
     "shell.execute_reply": "2025-10-14T04:14:34.296867Z"
    },
    "papermill": {
     "duration": 0.018274,
     "end_time": "2025-10-14T04:14:34.298421",
     "exception": false,
     "start_time": "2025-10-14T04:14:34.280147",
     "status": "completed"
    },
    "tags": []
   },
   "outputs": [
    {
     "name": "stdout",
     "output_type": "stream",
     "text": [
      "10  publications in the last 7 days.\n"
     ]
    }
   ],
   "source": [
    "import datetime\n",
    "from glob import glob\n",
    "\n",
    "def get_last_n_days(lst, days=1):\n",
    "    \"\"\" Get the documents from the last n days \"\"\"\n",
    "    sorted_lst = sorted(lst, key=lambda x: x[1], reverse=True)\n",
    "    for fname, date in sorted_lst:\n",
    "        if date >= str(datetime.date.today() - datetime.timedelta(days=days)):\n",
    "            yield fname\n",
    "\n",
    "def extract_appearance_dates(lst_file):\n",
    "    dates = []\n",
    "\n",
    "    def get_date(line):\n",
    "        return line\\\n",
    "            .split('Appeared on:')[-1]\\\n",
    "            .split('</mark>')[0].strip()\n",
    "\n",
    "    for fname in lst:\n",
    "        with open(fname, 'r') as f:\n",
    "            found_date = False\n",
    "            for line in f:\n",
    "                if not found_date:\n",
    "                    if \"Appeared on\" in line:\n",
    "                        found_date = True\n",
    "                        dates.append((fname, get_date(line)))\n",
    "                else:\n",
    "                    break\n",
    "    return dates\n",
    "\n",
    "from glob import glob\n",
    "lst = glob('_build/html/*md')\n",
    "days = 7\n",
    "dates = extract_appearance_dates(lst)\n",
    "res = list(get_last_n_days(dates, days))\n",
    "npub = len(res)\n",
    "print(len(res), f\" publications in the last {days:d} days.\")"
   ]
  },
  {
   "cell_type": "code",
   "execution_count": 12,
   "id": "52ca0208",
   "metadata": {
    "execution": {
     "iopub.execute_input": "2025-10-14T04:14:34.309624Z",
     "iopub.status.busy": "2025-10-14T04:14:34.309404Z",
     "iopub.status.idle": "2025-10-14T04:14:34.314158Z",
     "shell.execute_reply": "2025-10-14T04:14:34.313603Z"
    },
    "papermill": {
     "duration": 0.011364,
     "end_time": "2025-10-14T04:14:34.315058",
     "exception": false,
     "start_time": "2025-10-14T04:14:34.303694",
     "status": "completed"
    },
    "scrolled": false,
    "tags": []
   },
   "outputs": [],
   "source": [
    "def create_carousel(npub=4):\n",
    "    \"\"\" Generate the HTML code for a carousel with `npub` slides \"\"\"\n",
    "    carousel = [\"\"\"  <div class=\"carousel\" \"\"\",\n",
    "                \"\"\"       data-flickity='{ \"autoPlay\": 10000, \"adaptiveHeight\": true, \"resize\": true, \"wrapAround\": true, \"pauseAutoPlayOnHover\": true, \"groupCells\": 1 }' id=\"asyncTypeset\">\"\"\"\n",
    "                ]\n",
    "    \n",
    "    item_str = \"\"\"    <div class=\"carousel-cell\"> <div id=\"slide{k}\" class=\"md_view\">Content {k}</div> </div>\"\"\"\n",
    "    for k in range(1, npub + 1):\n",
    "        carousel.append(item_str.format(k=k))\n",
    "    carousel.append(\"  </div>\")\n",
    "    return '\\n'.join(carousel)\n",
    "\n",
    "def create_grid(npub=4):\n",
    "    \"\"\" Generate the HTML code for a flat grid with `npub` slides \"\"\"\n",
    "    grid = [\"\"\"  <div class=\"grid\"> \"\"\",\n",
    "                ]\n",
    "    \n",
    "    item_str = \"\"\"    <div class=\"grid-item\"> <div id=\"slide{k}\" class=\"md_view\">Content {k}</div> </div>\"\"\"\n",
    "    for k in range(1, npub + 1):\n",
    "        grid.append(item_str.format(k=k))\n",
    "    grid.append(\"  </div>\")\n",
    "    return '\\n'.join(grid)"
   ]
  },
  {
   "cell_type": "code",
   "execution_count": 13,
   "id": "a6eac5b6",
   "metadata": {
    "execution": {
     "iopub.execute_input": "2025-10-14T04:14:34.326254Z",
     "iopub.status.busy": "2025-10-14T04:14:34.326019Z",
     "iopub.status.idle": "2025-10-14T04:14:34.331021Z",
     "shell.execute_reply": "2025-10-14T04:14:34.330413Z"
    },
    "papermill": {
     "duration": 0.011678,
     "end_time": "2025-10-14T04:14:34.331982",
     "exception": false,
     "start_time": "2025-10-14T04:14:34.320304",
     "status": "completed"
    },
    "scrolled": false,
    "tags": []
   },
   "outputs": [],
   "source": [
    "carousel = create_carousel(npub)\n",
    "docs = ', '.join(['\"{0:s}\"'.format(k.split('/')[-1]) for k in res])\n",
    "slides = ', '.join([f'\"slide{k}\"' for k in range(1, npub + 1)])\n",
    "\n",
    "with open(\"daily_template.html\", \"r\") as tpl:\n",
    "    page = tpl.read()\n",
    "    page = page.replace(\"{%-- carousel:s --%}\", carousel)\\\n",
    "               .replace(\"{%-- suptitle:s --%}\",  \"7-day archives\" )\\\n",
    "               .replace(\"{%-- docs:s --%}\", docs)\\\n",
    "               .replace(\"{%-- slides:s --%}\", slides)\n",
    "    \n",
    "with open(\"_build/html/index_7days.html\", 'w') as fout:\n",
    "    fout.write(page)"
   ]
  },
  {
   "cell_type": "code",
   "execution_count": 14,
   "id": "adc1a1ec",
   "metadata": {
    "execution": {
     "iopub.execute_input": "2025-10-14T04:14:34.343364Z",
     "iopub.status.busy": "2025-10-14T04:14:34.343179Z",
     "iopub.status.idle": "2025-10-14T04:14:34.349157Z",
     "shell.execute_reply": "2025-10-14T04:14:34.348631Z"
    },
    "papermill": {
     "duration": 0.01273,
     "end_time": "2025-10-14T04:14:34.350144",
     "exception": false,
     "start_time": "2025-10-14T04:14:34.337414",
     "status": "completed"
    },
    "tags": []
   },
   "outputs": [
    {
     "name": "stdout",
     "output_type": "stream",
     "text": [
      "3  publications in the last day.\n"
     ]
    }
   ],
   "source": [
    "# redo for today\n",
    "days = 1\n",
    "res = list(get_last_n_days(dates, days))\n",
    "npub = len(res)\n",
    "print(len(res), f\" publications in the last day.\")\n",
    "\n",
    "carousel = create_carousel(npub)\n",
    "docs = ', '.join(['\"{0:s}\"'.format(k.split('/')[-1]) for k in res])\n",
    "slides = ', '.join([f'\"slide{k}\"' for k in range(1, npub + 1)])\n",
    "\n",
    "with open(\"daily_template.html\", \"r\") as tpl:\n",
    "    page = tpl.read()\n",
    "    page = page.replace(\"{%-- carousel:s --%}\", carousel)\\\n",
    "               .replace(\"{%-- suptitle:s --%}\",  \"Daily\" )\\\n",
    "               .replace(\"{%-- docs:s --%}\", docs)\\\n",
    "               .replace(\"{%-- slides:s --%}\", slides)\n",
    "    \n",
    "# print(carousel, docs, slides)\n",
    "# print(page)\n",
    "with open(\"_build/html/index_daily.html\", 'w') as fout:\n",
    "    fout.write(page)"
   ]
  },
  {
   "cell_type": "code",
   "execution_count": 15,
   "id": "00eece82",
   "metadata": {
    "execution": {
     "iopub.execute_input": "2025-10-14T04:14:34.361489Z",
     "iopub.status.busy": "2025-10-14T04:14:34.361273Z",
     "iopub.status.idle": "2025-10-14T04:14:34.367415Z",
     "shell.execute_reply": "2025-10-14T04:14:34.366895Z"
    },
    "papermill": {
     "duration": 0.012906,
     "end_time": "2025-10-14T04:14:34.368398",
     "exception": false,
     "start_time": "2025-10-14T04:14:34.355492",
     "status": "completed"
    },
    "scrolled": false,
    "tags": []
   },
   "outputs": [
    {
     "name": "stdout",
     "output_type": "stream",
     "text": [
      "6  6 publications selected.\n"
     ]
    }
   ],
   "source": [
    "# Create the flat grid of the last N papers (fixed number regardless of dates)\n",
    "from itertools import islice \n",
    "\n",
    "npub = 6\n",
    "res = [k[0] for k in (islice(reversed(sorted(dates, key=lambda x: x[1])), 6))]\n",
    "print(len(res), f\" {npub} publications selected.\")\n",
    "\n",
    "grid = create_grid(npub)\n",
    "docs = ', '.join(['\"{0:s}\"'.format(k.split('/')[-1]) for k in res])\n",
    "slides = ', '.join([f'\"slide{k}\"' for k in range(1, npub + 1)])\n",
    "\n",
    "with open(\"grid_template.html\", \"r\") as tpl:\n",
    "    page = tpl.read()\n",
    "    page = page.replace(\"{%-- grid-content:s --%}\", grid)\\\n",
    "               .replace(\"{%-- suptitle:s --%}\",  f\"Last {npub:,d} papers\" )\\\n",
    "               .replace(\"{%-- docs:s --%}\", docs)\\\n",
    "               .replace(\"{%-- slides:s --%}\", slides)\n",
    "    \n",
    "# print(grid, docs, slides)\n",
    "# print(page)\n",
    "with open(\"_build/html/index_npub_grid.html\", 'w') as fout:\n",
    "    fout.write(page)"
   ]
  }
 ],
 "metadata": {
  "kernelspec": {
   "display_name": "Python 3 (ipykernel)",
   "language": "python",
   "name": "python3"
  },
  "language_info": {
   "codemirror_mode": {
    "name": "ipython",
    "version": 3
   },
   "file_extension": ".py",
   "mimetype": "text/x-python",
   "name": "python",
   "nbconvert_exporter": "python",
   "pygments_lexer": "ipython3",
   "version": "3.9.23"
  },
  "papermill": {
   "default_parameters": {},
   "duration": 81.059069,
   "end_time": "2025-10-14T04:14:34.589710",
   "environment_variables": {},
   "exception": null,
   "input_path": "MPIA daily digest.ipynb",
   "output_path": "log.ipynb",
   "parameters": {},
   "start_time": "2025-10-14T04:13:13.530641",
   "version": "2.6.0"
  },
  "vscode": {
   "interpreter": {
    "hash": "aee8b7b246df8f9039afb4144a1f6fd8d2ca17a180786b69acc140d282b71a49"
   }
  },
  "widgets": {
   "application/vnd.jupyter.widget-state+json": {
    "state": {
     "1b29ab6427b34e8f8407d84aa8b4f2b5": {
      "model_module": "@jupyter-widgets/base",
      "model_module_version": "2.0.0",
      "model_name": "LayoutModel",
      "state": {
       "_model_module": "@jupyter-widgets/base",
       "_model_module_version": "2.0.0",
       "_model_name": "LayoutModel",
       "_view_count": null,
       "_view_module": "@jupyter-widgets/base",
       "_view_module_version": "2.0.0",
       "_view_name": "LayoutView",
       "align_content": null,
       "align_items": null,
       "align_self": null,
       "border_bottom": null,
       "border_left": null,
       "border_right": null,
       "border_top": null,
       "bottom": null,
       "display": null,
       "flex": null,
       "flex_flow": null,
       "grid_area": null,
       "grid_auto_columns": null,
       "grid_auto_flow": null,
       "grid_auto_rows": null,
       "grid_column": null,
       "grid_gap": null,
       "grid_row": null,
       "grid_template_areas": null,
       "grid_template_columns": null,
       "grid_template_rows": null,
       "height": null,
       "justify_content": null,
       "justify_items": null,
       "left": null,
       "margin": null,
       "max_height": null,
       "max_width": null,
       "min_height": null,
       "min_width": null,
       "object_fit": null,
       "object_position": null,
       "order": null,
       "overflow": null,
       "padding": null,
       "right": null,
       "top": null,
       "visibility": null,
       "width": null
      }
     },
     "39555d7e09a6486aa5e53a32853126ea": {
      "model_module": "@jupyter-widgets/base",
      "model_module_version": "2.0.0",
      "model_name": "LayoutModel",
      "state": {
       "_model_module": "@jupyter-widgets/base",
       "_model_module_version": "2.0.0",
       "_model_name": "LayoutModel",
       "_view_count": null,
       "_view_module": "@jupyter-widgets/base",
       "_view_module_version": "2.0.0",
       "_view_name": "LayoutView",
       "align_content": null,
       "align_items": null,
       "align_self": null,
       "border_bottom": null,
       "border_left": null,
       "border_right": null,
       "border_top": null,
       "bottom": null,
       "display": null,
       "flex": null,
       "flex_flow": null,
       "grid_area": null,
       "grid_auto_columns": null,
       "grid_auto_flow": null,
       "grid_auto_rows": null,
       "grid_column": null,
       "grid_gap": null,
       "grid_row": null,
       "grid_template_areas": null,
       "grid_template_columns": null,
       "grid_template_rows": null,
       "height": null,
       "justify_content": null,
       "justify_items": null,
       "left": null,
       "margin": null,
       "max_height": null,
       "max_width": null,
       "min_height": null,
       "min_width": null,
       "object_fit": null,
       "object_position": null,
       "order": null,
       "overflow": null,
       "padding": null,
       "right": null,
       "top": null,
       "visibility": null,
       "width": null
      }
     },
     "65e6df0376084c2c8bd3b570dd8c1bc2": {
      "model_module": "@jupyter-widgets/base",
      "model_module_version": "2.0.0",
      "model_name": "LayoutModel",
      "state": {
       "_model_module": "@jupyter-widgets/base",
       "_model_module_version": "2.0.0",
       "_model_name": "LayoutModel",
       "_view_count": null,
       "_view_module": "@jupyter-widgets/base",
       "_view_module_version": "2.0.0",
       "_view_name": "LayoutView",
       "align_content": null,
       "align_items": null,
       "align_self": null,
       "border_bottom": null,
       "border_left": null,
       "border_right": null,
       "border_top": null,
       "bottom": null,
       "display": null,
       "flex": null,
       "flex_flow": null,
       "grid_area": null,
       "grid_auto_columns": null,
       "grid_auto_flow": null,
       "grid_auto_rows": null,
       "grid_column": null,
       "grid_gap": null,
       "grid_row": null,
       "grid_template_areas": null,
       "grid_template_columns": null,
       "grid_template_rows": null,
       "height": null,
       "justify_content": null,
       "justify_items": null,
       "left": null,
       "margin": null,
       "max_height": null,
       "max_width": null,
       "min_height": null,
       "min_width": null,
       "object_fit": null,
       "object_position": null,
       "order": null,
       "overflow": null,
       "padding": null,
       "right": null,
       "top": null,
       "visibility": null,
       "width": null
      }
     },
     "7f9aa612eeb44daa846484612e3f0e16": {
      "model_module": "@jupyter-widgets/base",
      "model_module_version": "2.0.0",
      "model_name": "LayoutModel",
      "state": {
       "_model_module": "@jupyter-widgets/base",
       "_model_module_version": "2.0.0",
       "_model_name": "LayoutModel",
       "_view_count": null,
       "_view_module": "@jupyter-widgets/base",
       "_view_module_version": "2.0.0",
       "_view_name": "LayoutView",
       "align_content": null,
       "align_items": null,
       "align_self": null,
       "border_bottom": null,
       "border_left": null,
       "border_right": null,
       "border_top": null,
       "bottom": null,
       "display": null,
       "flex": null,
       "flex_flow": null,
       "grid_area": null,
       "grid_auto_columns": null,
       "grid_auto_flow": null,
       "grid_auto_rows": null,
       "grid_column": null,
       "grid_gap": null,
       "grid_row": null,
       "grid_template_areas": null,
       "grid_template_columns": null,
       "grid_template_rows": null,
       "height": null,
       "justify_content": null,
       "justify_items": null,
       "left": null,
       "margin": null,
       "max_height": null,
       "max_width": null,
       "min_height": null,
       "min_width": null,
       "object_fit": null,
       "object_position": null,
       "order": null,
       "overflow": null,
       "padding": null,
       "right": null,
       "top": null,
       "visibility": null,
       "width": null
      }
     },
     "89a46ac27f3f4489bf7d366d8ffb0d4d": {
      "model_module": "@jupyter-widgets/controls",
      "model_module_version": "2.0.0",
      "model_name": "HBoxModel",
      "state": {
       "_dom_classes": [],
       "_model_module": "@jupyter-widgets/controls",
       "_model_module_version": "2.0.0",
       "_model_name": "HBoxModel",
       "_view_count": null,
       "_view_module": "@jupyter-widgets/controls",
       "_view_module_version": "2.0.0",
       "_view_name": "HBoxView",
       "box_style": "",
       "children": [
        "IPY_MODEL_fd11e1550ebc466c851c1a14ea50b3d5",
        "IPY_MODEL_9bb2b0809221422e8114cc6915cf79c1",
        "IPY_MODEL_d8057cbc883f4cb0bbd66bc52e6774d9"
       ],
       "layout": "IPY_MODEL_39555d7e09a6486aa5e53a32853126ea",
       "tabbable": null,
       "tooltip": null
      }
     },
     "9bb2b0809221422e8114cc6915cf79c1": {
      "model_module": "@jupyter-widgets/controls",
      "model_module_version": "2.0.0",
      "model_name": "FloatProgressModel",
      "state": {
       "_dom_classes": [],
       "_model_module": "@jupyter-widgets/controls",
       "_model_module_version": "2.0.0",
       "_model_name": "FloatProgressModel",
       "_view_count": null,
       "_view_module": "@jupyter-widgets/controls",
       "_view_module_version": "2.0.0",
       "_view_name": "ProgressView",
       "bar_style": "success",
       "description": "",
       "description_allow_html": false,
       "layout": "IPY_MODEL_7f9aa612eeb44daa846484612e3f0e16",
       "max": 7.0,
       "min": 0.0,
       "orientation": "horizontal",
       "style": "IPY_MODEL_e777bc9c5ed747e4931b3c7bd20410a5",
       "tabbable": null,
       "tooltip": null,
       "value": 7.0
      }
     },
     "b1fe031ecee8467ca05a6e91cfeb2881": {
      "model_module": "@jupyter-widgets/controls",
      "model_module_version": "2.0.0",
      "model_name": "HTMLStyleModel",
      "state": {
       "_model_module": "@jupyter-widgets/controls",
       "_model_module_version": "2.0.0",
       "_model_name": "HTMLStyleModel",
       "_view_count": null,
       "_view_module": "@jupyter-widgets/base",
       "_view_module_version": "2.0.0",
       "_view_name": "StyleView",
       "background": null,
       "description_width": "",
       "font_size": null,
       "text_color": null
      }
     },
     "d8057cbc883f4cb0bbd66bc52e6774d9": {
      "model_module": "@jupyter-widgets/controls",
      "model_module_version": "2.0.0",
      "model_name": "HTMLModel",
      "state": {
       "_dom_classes": [],
       "_model_module": "@jupyter-widgets/controls",
       "_model_module_version": "2.0.0",
       "_model_name": "HTMLModel",
       "_view_count": null,
       "_view_module": "@jupyter-widgets/controls",
       "_view_module_version": "2.0.0",
       "_view_name": "HTMLView",
       "description": "",
       "description_allow_html": false,
       "layout": "IPY_MODEL_1b29ab6427b34e8f8407d84aa8b4f2b5",
       "placeholder": "​",
       "style": "IPY_MODEL_b1fe031ecee8467ca05a6e91cfeb2881",
       "tabbable": null,
       "tooltip": null,
       "value": " 7/7 [00:58&lt;00:00,  5.43s/it]"
      }
     },
     "e485536513254cdeb8a5af0289bcf78c": {
      "model_module": "@jupyter-widgets/controls",
      "model_module_version": "2.0.0",
      "model_name": "HTMLStyleModel",
      "state": {
       "_model_module": "@jupyter-widgets/controls",
       "_model_module_version": "2.0.0",
       "_model_name": "HTMLStyleModel",
       "_view_count": null,
       "_view_module": "@jupyter-widgets/base",
       "_view_module_version": "2.0.0",
       "_view_name": "StyleView",
       "background": null,
       "description_width": "",
       "font_size": null,
       "text_color": null
      }
     },
     "e777bc9c5ed747e4931b3c7bd20410a5": {
      "model_module": "@jupyter-widgets/controls",
      "model_module_version": "2.0.0",
      "model_name": "ProgressStyleModel",
      "state": {
       "_model_module": "@jupyter-widgets/controls",
       "_model_module_version": "2.0.0",
       "_model_name": "ProgressStyleModel",
       "_view_count": null,
       "_view_module": "@jupyter-widgets/base",
       "_view_module_version": "2.0.0",
       "_view_name": "StyleView",
       "bar_color": null,
       "description_width": ""
      }
     },
     "fd11e1550ebc466c851c1a14ea50b3d5": {
      "model_module": "@jupyter-widgets/controls",
      "model_module_version": "2.0.0",
      "model_name": "HTMLModel",
      "state": {
       "_dom_classes": [],
       "_model_module": "@jupyter-widgets/controls",
       "_model_module_version": "2.0.0",
       "_model_name": "HTMLModel",
       "_view_count": null,
       "_view_module": "@jupyter-widgets/controls",
       "_view_module_version": "2.0.0",
       "_view_name": "HTMLView",
       "description": "",
       "description_allow_html": false,
       "layout": "IPY_MODEL_65e6df0376084c2c8bd3b570dd8c1bc2",
       "placeholder": "​",
       "style": "IPY_MODEL_e485536513254cdeb8a5af0289bcf78c",
       "tabbable": null,
       "tooltip": null,
       "value": "100%"
      }
     }
    },
    "version_major": 2,
    "version_minor": 0
   }
  }
 },
 "nbformat": 4,
 "nbformat_minor": 5
}