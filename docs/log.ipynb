{
 "cells": [
  {
   "cell_type": "markdown",
   "id": "92bcb855",
   "metadata": {
    "papermill": {
     "duration": 0.003701,
     "end_time": "2025-07-15T04:31:33.874008",
     "exception": false,
     "start_time": "2025-07-15T04:31:33.870307",
     "status": "completed"
    },
    "tags": []
   },
   "source": [
    "# MPIA Arxiv on Deck 2\n",
    "\n",
    "Contains the steps to produce the paper extractions."
   ]
  },
  {
   "cell_type": "code",
   "execution_count": 1,
   "id": "3a0d6e11",
   "metadata": {
    "execution": {
     "iopub.execute_input": "2025-07-15T04:31:33.881587Z",
     "iopub.status.busy": "2025-07-15T04:31:33.880990Z",
     "iopub.status.idle": "2025-07-15T04:31:34.114395Z",
     "shell.execute_reply": "2025-07-15T04:31:34.113648Z"
    },
    "papermill": {
     "duration": 0.238488,
     "end_time": "2025-07-15T04:31:34.115855",
     "exception": false,
     "start_time": "2025-07-15T04:31:33.877367",
     "status": "completed"
    },
    "tags": []
   },
   "outputs": [],
   "source": [
    "# Imports\n",
    "import os\n",
    "from IPython.display import Markdown, display\n",
    "from tqdm.notebook import tqdm\n",
    "import warnings\n",
    "from PIL import Image \n",
    "import re\n",
    "\n",
    "# requires arxiv_on_deck_2\n",
    "\n",
    "from arxiv_on_deck_2.arxiv2 import (get_new_papers, \n",
    "                                    get_paper_from_identifier,\n",
    "                                    retrieve_document_source, \n",
    "                                    get_markdown_badge)\n",
    "from arxiv_on_deck_2 import (latex,\n",
    "                             latex_bib,\n",
    "                             mpia,\n",
    "                             highlight_authors_in_list)\n",
    "\n",
    "# Sometimes images are really big\n",
    "Image.MAX_IMAGE_PIXELS = 1000000000 "
   ]
  },
  {
   "cell_type": "code",
   "execution_count": 2,
   "id": "22aa9d44",
   "metadata": {
    "execution": {
     "iopub.execute_input": "2025-07-15T04:31:34.123324Z",
     "iopub.status.busy": "2025-07-15T04:31:34.123067Z",
     "iopub.status.idle": "2025-07-15T04:31:34.130959Z",
     "shell.execute_reply": "2025-07-15T04:31:34.130447Z"
    },
    "papermill": {
     "duration": 0.012612,
     "end_time": "2025-07-15T04:31:34.131983",
     "exception": false,
     "start_time": "2025-07-15T04:31:34.119371",
     "status": "completed"
    },
    "tags": []
   },
   "outputs": [],
   "source": [
    "# Some useful definitions.\n",
    "\n",
    "class AffiliationWarning(UserWarning):\n",
    "    pass\n",
    "\n",
    "class AffiliationError(RuntimeError):\n",
    "    pass\n",
    "\n",
    "def validation(source: str):\n",
    "    \"\"\"Raises error paper during parsing of source file\n",
    "    \n",
    "    Allows checks before parsing TeX code.\n",
    "    \n",
    "    Raises AffiliationWarning\n",
    "    \"\"\"\n",
    "    check = mpia.affiliation_verifications(source, verbose=True)\n",
    "    if check is not True:\n",
    "        raise AffiliationError(\"mpia.affiliation_verifications: \" + check)\n",
    "\n",
    "        \n",
    "warnings.simplefilter('always', AffiliationWarning)\n",
    "\n",
    "\n",
    "def get_markdown_qrcode(paper_id: str):\n",
    "    \"\"\" Generate a qrcode to the arxiv page using qrserver.com\n",
    "    \n",
    "    :param paper: Arxiv paper\n",
    "    :returns: markdown text\n",
    "    \"\"\"\n",
    "    url = r\"https://api.qrserver.com/v1/create-qr-code/?size=100x100&data=\"\n",
    "    txt = f\"\"\"<img src={url}\"https://arxiv.org/abs/{paper_id}\">\"\"\"\n",
    "    txt = '<div id=\"qrcode\">' + txt + '</div>'\n",
    "    return txt\n",
    "\n",
    "\n",
    "def clean_non_western_encoded_characters_commands(text: str) -> str:\n",
    "    \"\"\" Remove non-western encoded characters from a string\n",
    "    List may need to grow.\n",
    "    \n",
    "    :param text: the text to clean\n",
    "    :return: the cleaned text\n",
    "    \"\"\"\n",
    "    text = re.sub(r\"(\\\\begin{CJK}{UTF8}{gbsn})(.*?)(\\\\end{CJK})\", r\"\\2\", text)\n",
    "    return text\n",
    "\n",
    "\n",
    "def get_initials(name: str) -> str:\n",
    "    \"\"\" Get the short name, e.g., A.-B. FamName\n",
    "    :param name: full name\n",
    "    :returns: initials\n",
    "    \"\"\"\n",
    "    initials = []\n",
    "    # account for non western names often in ()\n",
    "    if '(' in name:\n",
    "        name = clean_non_western_encoded_characters_commands(name)\n",
    "        suffix = re.findall(r\"\\((.*?)\\)\", name)[0]\n",
    "        name = name.replace(f\"({suffix})\", '')\n",
    "    else:\n",
    "        suffix = ''\n",
    "    split = name.split()\n",
    "    for token in split[:-1]:\n",
    "        if '-' in token:\n",
    "            current = '-'.join([k[0] + '.' for k in token.split('-')])\n",
    "        else:\n",
    "            current = token[0] + '.'\n",
    "        initials.append(current)\n",
    "    initials.append(split[-1].strip())\n",
    "    if suffix:\n",
    "        initials.append(f\"({suffix})\")\n",
    "    return ' '.join(initials)"
   ]
  },
  {
   "cell_type": "markdown",
   "id": "14bd6310",
   "metadata": {
    "papermill": {
     "duration": 0.002879,
     "end_time": "2025-07-15T04:31:34.137858",
     "exception": false,
     "start_time": "2025-07-15T04:31:34.134979",
     "status": "completed"
    },
    "tags": []
   },
   "source": [
    "## get list of arxiv paper candidates\n",
    "\n",
    "We use the MPIA mitarbeiter list webpage from mpia.de to get author names\n",
    "We then get all new papers from Arxiv and match authors"
   ]
  },
  {
   "cell_type": "code",
   "execution_count": 3,
   "id": "7ea813a8",
   "metadata": {
    "execution": {
     "iopub.execute_input": "2025-07-15T04:31:34.144663Z",
     "iopub.status.busy": "2025-07-15T04:31:34.144469Z",
     "iopub.status.idle": "2025-07-15T04:32:06.059779Z",
     "shell.execute_reply": "2025-07-15T04:32:06.059114Z"
    },
    "papermill": {
     "duration": 31.92026,
     "end_time": "2025-07-15T04:32:06.061084",
     "exception": false,
     "start_time": "2025-07-15T04:31:34.140824",
     "status": "completed"
    },
    "tags": []
   },
   "outputs": [],
   "source": [
    "# deal with the author list and edge cases of people that cannot be consistent on their name  \n",
    "\n",
    "def filter_non_scientists(name: str) -> bool:\n",
    "    \"\"\" Loose filter on expected authorships\n",
    "\n",
    "    removing IT, administration, technical staff\n",
    "    :param name: name\n",
    "    :returns: False if name is not a scientist\n",
    "    \"\"\"\n",
    "    remove_list = ['Licht', 'Binroth', 'Witzel', 'Jordan',\n",
    "                   'Zähringer', 'Scheerer', 'Hoffmann', 'Düe',\n",
    "                   'Hellmich', 'Enkler-Scharpegge', 'Witte-Nguy',\n",
    "                   'Dehen', 'Beckmann', 'Jager', 'Jäger'\n",
    "                  ]\n",
    "\n",
    "    for k in remove_list:\n",
    "        if k in name:\n",
    "            return False\n",
    "    return True\n",
    "\n",
    "def add_author_to_list(author_list: list) -> list:\n",
    "    \"\"\" Add author to list if not already in list\n",
    "    \n",
    "    :param author: author name\n",
    "    :param author_list: list of authors\n",
    "    :returns: updated list of authors\n",
    "    \"\"\"\n",
    "    add_list = ['T. Henning']\n",
    "\n",
    "    for author in add_list:\n",
    "        if author not in author_list:\n",
    "            author_list.append(author)\n",
    "    return author_list\n",
    "\n",
    "# get list from MPIA website\n",
    "# filter for non-scientists (mpia.get_mpia_mitarbeiter_list() does some filtering)\n",
    "mpia_authors = [k[1] for k in mpia.get_mpia_mitarbeiter_list() if filter_non_scientists(k[1])]\n",
    "# add some missing author because of inconsistencies in their MPIA name and author name on papers\n",
    "mpia_authors = add_author_to_list(mpia_authors)"
   ]
  },
  {
   "cell_type": "code",
   "execution_count": 4,
   "id": "2645e73a",
   "metadata": {
    "execution": {
     "iopub.execute_input": "2025-07-15T04:32:06.068719Z",
     "iopub.status.busy": "2025-07-15T04:32:06.068190Z",
     "iopub.status.idle": "2025-07-15T04:32:07.182430Z",
     "shell.execute_reply": "2025-07-15T04:32:07.181658Z"
    },
    "papermill": {
     "duration": 1.119023,
     "end_time": "2025-07-15T04:32:07.183516",
     "exception": false,
     "start_time": "2025-07-15T04:32:06.064493",
     "status": "completed"
    },
    "tags": []
   },
   "outputs": [
    {
     "name": "stdout",
     "output_type": "stream",
     "text": [
      "X. Zhang  ->  X. Zhang  |  ['X. Zhang']\n",
      "E. Matthews  ->  E. Matthews  |  ['E. Matthews']\n",
      "T. Henning  ->  T. Henning  |  ['T. Henning']\n",
      "J. Bouwman  ->  J. Bouwman  |  ['J. Bouwman']\n",
      "S. Scheithauer  ->  S. Scheithauer  |  ['S. Scheithauer']\n",
      "Y. Wang  ->  Y. Wang  |  ['Y. Wang']\n",
      "E.-M. Ahrer  ->  E.-M. Ahrer  |  ['E.-M. Ahrer']\n",
      "M. Benisty  ->  M. Benisty  |  ['M. Benisty']\n",
      "K. Doi  ->  K. Doi  |  ['K. Doi']\n",
      "D. Fasano  ->  D. Fasano  |  ['D. Fasano']\n",
      "H. Jiang  ->  H. Jiang  |  ['H. Jiang']\n",
      "J. Li  ->  J. Li  |  ['J. Li']\n",
      "J. Li  ->  J. Li  |  ['J. Li']\n",
      "H.-W. Rix  ->  H.-W. Rix  |  ['H.-W. Rix']\n",
      "J. Müller-Horn  ->  J. Müller-Horn  |  ['J. Müller-Horn']\n",
      "K. El-Badry  ->  K. El-Badry  |  ['K. El-Badry']\n",
      "R. Seeburger  ->  L. R. Seeburger  |  ['R. Seeburger']\n",
      "X. Zhang  ->  X. Zhang  |  ['X. Zhang']\n",
      "R. Burn  ->  R. Burn  |  ['R. Burn']\n"
     ]
    },
    {
     "name": "stdout",
     "output_type": "stream",
     "text": [
      "Y. Wang  ->  Y. Wang  |  ['Y. Wang']\n",
      "E. Schinnerer  ->  E. Schinnerer  |  ['E. Schinnerer']\n",
      "N. Mackensen  ->  N. Mackensen  |  ['N. Mackensen']\n",
      "Arxiv has 114 new papers today\n",
      "          11 with possible author matches\n"
     ]
    }
   ],
   "source": [
    "new_papers = get_new_papers()\n",
    "# add manual references\n",
    "add_paper_refs = []\n",
    "new_papers.extend([get_paper_from_identifier(k) for k in add_paper_refs])\n",
    "\n",
    "def robust_call(fn, value, *args, **kwargs):\n",
    "    try:\n",
    "        return fn(value, *args, **kwargs)\n",
    "    except Exception:\n",
    "        return value\n",
    "\n",
    "candidates = []\n",
    "for paperk in new_papers:\n",
    "    # Check author list with their initials\n",
    "    normed_author_list = [robust_call(mpia.get_initials, k) for k in paperk['authors']]\n",
    "    hl_authors = highlight_authors_in_list(normed_author_list, mpia_authors, verbose=True)\n",
    "    matches = [(hl, orig) for hl, orig in zip(hl_authors, paperk['authors']) if 'mark' in hl]\n",
    "    paperk['authors'] = hl_authors\n",
    "    if matches:\n",
    "        # only select paper if an author matched our list\n",
    "        candidates.append(paperk)\n",
    "print(\"\"\"Arxiv has {0:,d} new papers today\"\"\".format(len(new_papers)))        \n",
    "print(\"\"\"          {0:,d} with possible author matches\"\"\".format(len(candidates)))"
   ]
  },
  {
   "cell_type": "markdown",
   "id": "3543b34a",
   "metadata": {
    "papermill": {
     "duration": 0.003203,
     "end_time": "2025-07-15T04:32:07.190292",
     "exception": false,
     "start_time": "2025-07-15T04:32:07.187089",
     "status": "completed"
    },
    "tags": []
   },
   "source": [
    "# Parse sources and generate relevant outputs\n",
    "\n",
    "From the candidates, we do the following steps:\n",
    "* get their tarball from ArXiv (and extract data)\n",
    "* find the main .tex file: find one with \\documentclass{...} (sometimes it's non trivial)\n",
    "* Check affiliations with :func:`validation`, which uses :func:`mpia.affiliation_verifications`\n",
    "* If passing the affiliations: we parse the .tex source\n",
    "   * inject sub-documents into the main (flatten the main document)\n",
    "   * parse structure, extract information (title, abstract, authors, figures...)\n",
    "   * handles `\\graphicspath` if provided\n",
    "* Generate the .md document."
   ]
  },
  {
   "cell_type": "code",
   "execution_count": 5,
   "id": "9576b79e",
   "metadata": {
    "execution": {
     "iopub.execute_input": "2025-07-15T04:32:07.197672Z",
     "iopub.status.busy": "2025-07-15T04:32:07.197114Z",
     "iopub.status.idle": "2025-07-15T04:33:36.977645Z",
     "shell.execute_reply": "2025-07-15T04:33:36.976766Z"
    },
    "papermill": {
     "duration": 89.785605,
     "end_time": "2025-07-15T04:33:36.978975",
     "exception": false,
     "start_time": "2025-07-15T04:32:07.193370",
     "status": "completed"
    },
    "scrolled": false,
    "tags": []
   },
   "outputs": [
    {
     "data": {
      "application/vnd.jupyter.widget-view+json": {
       "model_id": "d8ca96bf2c464c158a9b71a36ed052df",
       "version_major": 2,
       "version_minor": 0
      },
      "text/plain": [
       "  0%|          | 0/11 [00:00<?, ?it/s]"
      ]
     },
     "metadata": {},
     "output_type": "display_data"
    },
    {
     "name": "stdout",
     "output_type": "stream",
     "text": [
      "Retrieving document from  https://arxiv.org/e-print/2507.08958\n"
     ]
    },
    {
     "name": "stdout",
     "output_type": "stream",
     "text": [
      "extracting tarball to tmp_2507.08958..."
     ]
    },
    {
     "name": "stdout",
     "output_type": "stream",
     "text": [
      " done.\n",
      "Retrieving document from  https://arxiv.org/e-print/2507.08961\n",
      "extracting tarball to tmp_2507.08961..."
     ]
    },
    {
     "name": "stdout",
     "output_type": "stream",
     "text": [
      " done.\n"
     ]
    },
    {
     "name": "stderr",
     "output_type": "stream",
     "text": [
      "/opt/hostedtoolcache/Python/3.9.23/x64/lib/python3.9/site-packages/IPython/core/interactiveshell.py:3550: LatexWarning: Multiple tex files.\n",
      "\n",
      "  exec(code_obj, self.user_global_ns, self.user_ns)\n",
      "/opt/hostedtoolcache/Python/3.9.23/x64/lib/python3.9/site-packages/IPython/core/interactiveshell.py:3550: LatexWarning: Found documentclass in tmp_2507.08961/twa27.tex\n",
      "\n",
      "  exec(code_obj, self.user_global_ns, self.user_ns)\n",
      "/opt/hostedtoolcache/Python/3.9.23/x64/lib/python3.9/site-packages/arxiv_on_deck_2/latex.py:414: LatexWarning: Latex injecting: 'acknowledgements' from 'tmp_2507.08961/acknowledgements.tex'\n",
      "  warnings.warn(LatexWarning(f\"Latex injecting: '{ext}' from '{subsource}'\"))\n",
      "/opt/hostedtoolcache/Python/3.9.23/x64/lib/python3.9/site-packages/arxiv_on_deck_2/latex.py:414: LatexWarning: Latex injecting: 'affiliations' from 'tmp_2507.08961/affiliations.tex'\n",
      "  warnings.warn(LatexWarning(f\"Latex injecting: '{ext}' from '{subsource}'\"))\n",
      "/opt/hostedtoolcache/Python/3.9.23/x64/lib/python3.9/site-packages/arxiv_on_deck_2/latex.py:414: LatexWarning: Latex injecting: 'authors' from 'tmp_2507.08961/authors.tex'\n",
      "  warnings.warn(LatexWarning(f\"Latex injecting: '{ext}' from '{subsource}'\"))\n",
      "/opt/hostedtoolcache/Python/3.9.23/x64/lib/python3.9/site-packages/arxiv_on_deck_2/latex.py:414: LatexWarning: Latex injecting: 'authors' from 'tmp_2507.08961/authors.tex'\n",
      "  warnings.warn(LatexWarning(f\"Latex injecting: '{ext}' from '{subsource}'\"))\n"
     ]
    },
    {
     "name": "stdout",
     "output_type": "stream",
     "text": [
      "Found 95 bibliographic references in tmp_2507.08961/twa27.bbl.\n",
      "Issues with the citations\n",
      "syntax error in line 193: '=' expected\n",
      "Retrieving document from  https://arxiv.org/e-print/2507.09292\n",
      "extracting tarball to tmp_2507.09292... done.\n",
      "Retrieving document from  https://arxiv.org/e-print/2507.09343\n"
     ]
    },
    {
     "name": "stdout",
     "output_type": "stream",
     "text": [
      "extracting tarball to tmp_2507.09343..."
     ]
    },
    {
     "name": "stdout",
     "output_type": "stream",
     "text": [
      " done.\n"
     ]
    },
    {
     "name": "stdout",
     "output_type": "stream",
     "text": [
      "E.-M. Ahrer  ->  E.-M. Ahrer  |  ['E.-M. Ahrer']\n"
     ]
    },
    {
     "name": "stdout",
     "output_type": "stream",
     "text": [
      "Found 160 bibliographic references in tmp_2507.09343/L9859.bbl.\n",
      "Issues with the citations\n",
      "syntax error in line 466: '=' expected\n",
      "Retrieving document from  https://arxiv.org/e-print/2507.09402\n",
      "extracting tarball to tmp_2507.09402..."
     ]
    },
    {
     "name": "stdout",
     "output_type": "stream",
     "text": [
      " done.\n"
     ]
    },
    {
     "name": "stdout",
     "output_type": "stream",
     "text": [
      "Found 73 bibliographic references in tmp_2507.09402/main.bbl.\n",
      "Retrieving document from  https://arxiv.org/e-print/2507.09430\n",
      "extracting tarball to tmp_2507.09430..."
     ]
    },
    {
     "name": "stdout",
     "output_type": "stream",
     "text": [
      " done.\n",
      "Retrieving document from  https://arxiv.org/e-print/2507.09552\n"
     ]
    },
    {
     "name": "stdout",
     "output_type": "stream",
     "text": [
      "extracting tarball to tmp_2507.09552... done.\n",
      "Retrieving document from  https://arxiv.org/e-print/2507.09622\n",
      "extracting tarball to tmp_2507.09622..."
     ]
    },
    {
     "name": "stdout",
     "output_type": "stream",
     "text": [
      " done.\n"
     ]
    },
    {
     "name": "stdout",
     "output_type": "stream",
     "text": [
      "J. Li  ->  J. Li  |  ['J. Li']\n",
      "H.-W. Rix  ->  H.-W. Rix  |  ['H.-W. Rix']\n",
      "J. Müller-Horn  ->  J. Müller-Horn  |  ['J. Müller-Horn']\n",
      "K. El-Badry  ->  K. El-Badry  |  ['K. El-Badry']\n",
      "R. Seeburger  ->  L. R. Seeburger  |  ['R. Seeburger']\n",
      "X. Zhang  ->  X. Zhang  |  ['X. Zhang']\n"
     ]
    },
    {
     "name": "stdout",
     "output_type": "stream",
     "text": [
      "Found 42 bibliographic references in tmp_2507.09622/main.bbl.\n",
      "Retrieving document from  https://arxiv.org/e-print/2507.09874\n"
     ]
    },
    {
     "name": "stdout",
     "output_type": "stream",
     "text": [
      "extracting tarball to tmp_2507.09874... done.\n"
     ]
    },
    {
     "name": "stdout",
     "output_type": "stream",
     "text": [
      "R. Burn  ->  R. Burn  |  ['R. Burn']\n"
     ]
    },
    {
     "name": "stderr",
     "output_type": "stream",
     "text": [
      "/tmp/ipykernel_3395/2822249172.py:52: LatexWarning: 2507.09874 did not run properly\n",
      "Unable to locate Ghostscript on paths\n",
      "  warnings.warn(latex.LatexWarning(f\"{paper_id:s} did not run properly\\n\" +\n"
     ]
    },
    {
     "name": "stdout",
     "output_type": "stream",
     "text": [
      "Retrieving document from  https://arxiv.org/e-print/2507.09971\n"
     ]
    },
    {
     "name": "stdout",
     "output_type": "stream",
     "text": [
      "extracting tarball to tmp_2507.09971..."
     ]
    },
    {
     "name": "stdout",
     "output_type": "stream",
     "text": [
      " done.\n",
      "Retrieving document from  https://arxiv.org/e-print/2507.10314\n"
     ]
    },
    {
     "name": "stdout",
     "output_type": "stream",
     "text": [
      "extracting tarball to tmp_2507.10314... done.\n"
     ]
    }
   ],
   "source": [
    "documents = []\n",
    "failed = []\n",
    "for paper in tqdm(candidates):\n",
    "    # debug crap\n",
    "    paper['identifier'] = paper['identifier'].lower().replace('arxiv:', '').replace(r'\\n', '').strip()\n",
    "    paper_id = paper['identifier']\n",
    "    \n",
    "    folder = f'tmp_{paper_id}'\n",
    "\n",
    "    try:\n",
    "        if not os.path.isdir(folder):\n",
    "            folder = retrieve_document_source(f\"{paper_id}\", f'tmp_{paper_id}')\n",
    "        \n",
    "        try:\n",
    "            doc = latex.LatexDocument(folder, validation=validation)    \n",
    "        except AffiliationError as affilerror:\n",
    "            msg = f\"ArXiv:{paper_id:s} is not an MPIA paper... \" + str(affilerror)\n",
    "            failed.append((paper, \"affiliation error: \" + str(affilerror) ))\n",
    "            continue\n",
    "        \n",
    "        # Hack because sometimes author parsing does not work well\n",
    "        if (len(doc.authors) != len(paper['authors'])):\n",
    "            doc._authors = paper['authors']\n",
    "        else:\n",
    "            # highlight authors (FIXME: doc.highlight_authors)\n",
    "            # done on arxiv paper already\n",
    "            doc._authors = highlight_authors_in_list(\n",
    "                [get_initials(k) for k in doc.authors], \n",
    "                mpia_authors, verbose=True)\n",
    "        if (doc.abstract) in (None, ''):\n",
    "            doc._abstract = paper['abstract']\n",
    "            \n",
    "        doc.comment = (get_markdown_badge(paper_id) + \n",
    "                       \"<mark>Appeared on: \" + paper['date'] + \"</mark> - \")\n",
    "        if paper['comments']:\n",
    "            doc.comment += \" _\" + paper['comments'] + \"_\"\n",
    "        \n",
    "        full_md = doc.generate_markdown_text()\n",
    "        \n",
    "        full_md += get_markdown_qrcode(paper_id)\n",
    "        \n",
    "        # replace citations\n",
    "        try:\n",
    "            bibdata = latex_bib.LatexBib.from_doc(doc)\n",
    "            full_md = latex_bib.replace_citations(full_md, bibdata)\n",
    "        except Exception as e:\n",
    "            print(\"Issues with the citations\")\n",
    "            print(e)\n",
    "        \n",
    "        documents.append((paper_id, full_md))\n",
    "    except Exception as e:\n",
    "        warnings.warn(latex.LatexWarning(f\"{paper_id:s} did not run properly\\n\" +\n",
    "                                         str(e)\n",
    "                                        ))\n",
    "        failed.append((paper, \"latex error \" + str(e)))"
   ]
  },
  {
   "cell_type": "markdown",
   "id": "2505a25c",
   "metadata": {
    "papermill": {
     "duration": 0.004433,
     "end_time": "2025-07-15T04:33:36.988036",
     "exception": false,
     "start_time": "2025-07-15T04:33:36.983603",
     "status": "completed"
    },
    "tags": []
   },
   "source": [
    "### Export the logs\n",
    "\n",
    "Throughout, we also keep track of the logs per paper. see `logs-{today date}.md` "
   ]
  },
  {
   "cell_type": "code",
   "execution_count": 6,
   "id": "d733828a",
   "metadata": {
    "execution": {
     "iopub.execute_input": "2025-07-15T04:33:36.997989Z",
     "iopub.status.busy": "2025-07-15T04:33:36.997505Z",
     "iopub.status.idle": "2025-07-15T04:33:37.022587Z",
     "shell.execute_reply": "2025-07-15T04:33:37.022022Z"
    },
    "papermill": {
     "duration": 0.03118,
     "end_time": "2025-07-15T04:33:37.023554",
     "exception": false,
     "start_time": "2025-07-15T04:33:36.992374",
     "status": "completed"
    },
    "scrolled": false,
    "tags": []
   },
   "outputs": [
    {
     "data": {
      "text/markdown": [
       "## Successful papers"
      ],
      "text/plain": [
       "<IPython.core.display.Markdown object>"
      ]
     },
     "metadata": {},
     "output_type": "display_data"
    },
    {
     "data": {
      "text/markdown": [
       "\n",
       "|||\n",
       "|---:|:---|\n",
       "| [![arXiv](https://img.shields.io/badge/arXiv-2507.08961-b31b1b.svg)](https://arxiv.org/abs/2507.08961) | **JWST/MIRI observations of the young TWA 27 system: hydrocarbon disk chemistry, silicate clouds, evidence for a CPD**  |\n",
       "|| P. Patapis, et al. -- incl., <mark>E. Matthews</mark>, <mark>T. Henning</mark>, <mark>J. Bouwman</mark>, <mark>S. Scheithauer</mark> |\n",
       "|*Appeared on*| *2025-07-15*|\n",
       "|*Comments*| *Submitted to Astronomy&Astrophysics*|\n",
       "|**Abstract**|            The Mid-Infrared Instrument (MIRI) on the James Webb Space Telescope (JWST) enables the characterisation of young self-luminous gas giants at previously inaccessible wavelengths, revealing physical processes in gas, dust, and clouds. We characterise the young planetary system TWA 27 (2M1207) in the mid-infrared (MIR), studying the atmosphere and disk spectra of the M9 brown dwarf TWA 27A and its L6 planetary-mass companion TWA 27b. We obtained data with the MIRI Medium Resolution Spectrometer (MRS) from 4.9 to 20 um, and MIRI Imaging in the F1000W and F1500W filters. We applied high-contrast imaging methods to extract the companion's spectral energy distribution up to 15 um at 0.78 arcsec separation and a contrast of 60. Combining these with published JWST/NIRSpec spectra, we analysed the 1-20 um range using self-consistent atmospheric grids and 0D slab models for molecular disk emission. The atmosphere of TWA 27A is well fitted by a BT-SETTL model with Teff 2780 K, log g 4.3, plus a 740 K blackbody for the inner disk rim. The disk shows at least 11 organic molecules, with no water or silicate dust emission detected. The atmosphere of TWA 27b is matched by a Teff 1400 K low-gravity model with extinction, best fit by the ExoREM grid. MIRI spectra and photometry for TWA 27b reveal a silicate cloud absorption feature between 8-10 um and significant (>5 sigma) infrared excess at 15 um consistent with circumplanetary disk emission. These MIRI observations provide new insights into TWA 27, revealing diverse features to study the formation and evolution of circumplanetary disks and young dusty atmospheres.         |"
      ],
      "text/plain": [
       "[2507.08961] JWST/MIRI observations of the young TWA 27 system: hydrocarbon disk chemistry, silicate clouds, evidence for a CPD\n",
       "\tP. Patapis, et al. -- incl., <mark>E. Matthews</mark>, <mark>T. Henning</mark>, <mark>J. Bouwman</mark>, <mark>S. Scheithauer</mark>"
      ]
     },
     "metadata": {},
     "output_type": "display_data"
    },
    {
     "data": {
      "text/markdown": [
       "\n",
       "|||\n",
       "|---:|:---|\n",
       "| [![arXiv](https://img.shields.io/badge/arXiv-2507.09343-b31b1b.svg)](https://arxiv.org/abs/2507.09343) | **Detailed Architecture of the L 98-59 System and Confirmation of a Fifth Planet in the Habitable Zone**  |\n",
       "|| C. Cadieux, et al. -- incl., <mark>E.-M. Ahrer</mark> |\n",
       "|*Appeared on*| *2025-07-15*|\n",
       "|*Comments*| *32 pages, 12 figures, 8 tables, accepted for publication in AJ*|\n",
       "|**Abstract**|            The L 98-59 system, identified by TESS in 2019, features three transiting exoplanets in compact orbits of 2.253, 3.691, and 7.451 days around an M3V star, with an outer 12.83-day non-transiting planet confirmed in 2021 using ESPRESSO. The planets exhibit a diverse range of sizes (0.8-1.6 R$_{\\oplus}$), masses (0.5-3 M$_{\\oplus}$), and likely compositions (Earth-like to possibly water-rich), prompting atmospheric characterization studies with HST and JWST. Here, we analyze 16 new TESS sectors and improve radial velocity (RV) precision of archival ESPRESSO and HARPS data using a line-by-line framework, enabling stellar activity detrending via a novel differential temperature indicator. We refine the radii of L 98-59 b, c, and d to 0.837 $\\pm$ 0.019 R$_{\\oplus}$, 1.329 $\\pm$ 0.029 R$_{\\oplus}$, 1.627 $\\pm$ 0.041 R$_{\\oplus}$, respectively. Combining RVs with transit timing variations (TTV) of L 98-59 c and d from TESS and JWST provides unprecedented constraints on the masses and eccentricities of the planets. We report updated masses of 0.46 $\\pm$ 0.11 M$_{\\oplus}$ for b, 2.00 $\\pm$ 0.13 M$_{\\oplus}$ for c, and 1.64 $\\pm$ 0.07 M$_{\\oplus}$ for d, and a minimum mass of 2.82 $\\pm$ 0.19 M$_{\\oplus}$ for e. We additionally confirm L 98-59\\,f, a non-transiting super-Earth with a minimal mass of 2.80 $\\pm$ 0.30 M$_{\\oplus}$ on a 23.06-day orbit inside the Habitable Zone. The TTVs of L 98-59 c and d (<3 min, $P_{\\rm TTV} = 396$ days) constrain the eccentricities of all planets to near-circular orbits ($e \\lesssim 0.04$). An internal structure analysis of the transiting planets reveals increasing water-mass fractions ($f_{\\rm H_{2}O}$) with orbital distance, reaching $f_{\\rm H_{2}O} \\approx 0.16$ for L 98-59\\ d. We predict eccentricity-induced tidal heating in L 98-59 b with heat fluxes comparable to those of Io, potentially driving volcanic activity.         |"
      ],
      "text/plain": [
       "[2507.09343] Detailed Architecture of the L 98-59 System and Confirmation of a Fifth Planet in the Habitable Zone\n",
       "\tC. Cadieux, et al. -- incl., <mark>E.-M. Ahrer</mark>"
      ]
     },
     "metadata": {},
     "output_type": "display_data"
    },
    {
     "data": {
      "text/markdown": [
       "\n",
       "|||\n",
       "|---:|:---|\n",
       "| [![arXiv](https://img.shields.io/badge/arXiv-2507.09402-b31b1b.svg)](https://arxiv.org/abs/2507.09402) | **Leaky dust trap in the PDS 70 disk revealed by ALMA Band 9 observations**  |\n",
       "|| A. Sierra, et al. -- incl., <mark>M. Benisty</mark>, <mark>K. Doi</mark>, <mark>D. Fasano</mark> |\n",
       "|*Appeared on*| *2025-07-15*|\n",
       "|*Comments*| *12 pages*|\n",
       "|**Abstract**|            We present new observations of the PDS 70 disc obtained with the Atacama Large Millimeter/sub-millimeter Array (ALMA) in Band 9 (671 GHz) at 0.242$^{\\prime\\prime}$ resolution, which provide valuable insights into the spatial distribution of sub-millimetre grains in the disc. The data reveal a ring-like morphology, with a radial peak located between those previously observed at infrared wavelengths and longer millimetre observations. Additionally, we detect a tentative outer shoulder in Band 9 that is not observed at longer wavelengths. These findings suggest that small grains ($\\sim 100 \\mu$m) traced by Band 9 may be escaping from the pressure bump both radially inwards and outwards, or may be tracing different disc layers than those probed at longer wavelengths. A multi-wavelength analysis of the disc at millimetre wavelengths and the best fit to the spectral energy distribution shows the presence of centimetre grains around the ring location, where the dust surface density also peaks, compatible with dust trap models. The grain size in the disc cavity is not well constrained but is consistent with grains as small as 10 $\\mu$m, supporting the hypothesis that small dust grain filters through the cavity. We use dust evolution models to demonstrate that a turbulent viscosity of $\\alpha \\gtrsim 10^{-3}$ allows small grains to filter through the disc gap, while $\\alpha \\lesssim 5 \\times 10^{-3}$ is required to retain large grains in the pressure bump. The Band 9 observations of PDS 70 validate theoretical models and confirm the presence of pebble flux through the disc gap.         |"
      ],
      "text/plain": [
       "[2507.09402] Leaky dust trap in the PDS 70 disk revealed by ALMA Band 9 observations\n",
       "\tA. Sierra, et al. -- incl., <mark>M. Benisty</mark>, <mark>K. Doi</mark>, <mark>D. Fasano</mark>"
      ]
     },
     "metadata": {},
     "output_type": "display_data"
    },
    {
     "data": {
      "text/markdown": [
       "\n",
       "|||\n",
       "|---:|:---|\n",
       "| [![arXiv](https://img.shields.io/badge/arXiv-2507.09622-b31b1b.svg)](https://arxiv.org/abs/2507.09622) | **Millions of Main-Sequence Binary Stars from Gaia BP/RP Spectra**  |\n",
       "|| <mark>J. Li</mark>, et al. -- incl., <mark>H.-W. Rix</mark>, <mark>J. Müller-Horn</mark>, <mark>K. El-Badry</mark>, <mark>R. Seeburger</mark>, <mark>X. Zhang</mark> |\n",
       "|*Appeared on*| *2025-07-15*|\n",
       "|*Comments*| *14 pages, 15 figures, submitted to A&A*|\n",
       "|**Abstract**|            We present the main-sequence binary (MSMS) Catalog derived from Gaia Data Release 3 BP/RP (XP) spectra. Leveraging the vast sample of low-resolution Gaia XP spectra, we develop a forward modeling approach that maps stellar mass and photometric metallicity to XP spectra using a neural network. Our methodology identifies binary systems through statistical comparison of single- and binary-star model fits, enabling detection of binaries with mass ratios between 0.4 and 1.0 and flux ratios larger than 0.1. From an initial sample of 35 million stars within 1 kpc, we identify 14 million binary candidates and define a high-confidence \"golden sample\" of 1 million binary systems. This large, homogeneous sample enables detailed statistical analysis of binary properties across diverse Galactic environments, providing new insights into binary star formation and evolution. In addition, the $\\chi^2$ comparison allows us to distinguish stars with luminous companions from single stars or binaries with dark companions, such as white dwarfs, neutron stars and black hole candidates, improving our understanding of compact object populations.         |"
      ],
      "text/plain": [
       "[2507.09622] Millions of Main-Sequence Binary Stars from Gaia BP/RP Spectra\n",
       "\t<mark>J. Li</mark>, et al. -- incl., <mark>H.-W. Rix</mark>, <mark>J. Müller-Horn</mark>, <mark>K. El-Badry</mark>, <mark>R. Seeburger</mark>, <mark>X. Zhang</mark>"
      ]
     },
     "metadata": {},
     "output_type": "display_data"
    },
    {
     "data": {
      "text/markdown": [
       "## Failed papers"
      ],
      "text/plain": [
       "<IPython.core.display.Markdown object>"
      ]
     },
     "metadata": {},
     "output_type": "display_data"
    },
    {
     "data": {
      "text/markdown": [
       "\n",
       "|||\n",
       "|---:|:---|\n",
       "| [![arXiv](https://img.shields.io/badge/arXiv-2507.08958-b31b1b.svg)](https://arxiv.org/abs/2507.08958) | **Bridging Literature and the Universe Via A Multi-Agent Large Language Model System**  |\n",
       "|| <mark>X. Zhang</mark>, et al. |\n",
       "|*Appeared on*| *2025-07-15*|\n",
       "|*Comments*| *6 pages, 4 figures*|\n",
       "|**Abstract**|            As cosmological simulations and their associated software become increasingly complex, physicists face the challenge of searching through vast amounts of literature and user manuals to extract simulation parameters from dense academic papers, each using different models and formats. Translating these parameters into executable scripts remains a time-consuming and error-prone process. To improve efficiency in physics research and accelerate the cosmological simulation process, we introduce SimAgents, a multi-agent system designed to automate both parameter configuration from the literature and preliminary analysis for cosmology research. SimAgents is powered by specialized LLM agents capable of physics reasoning, simulation software validation, and tool execution. These agents collaborate through structured communication, ensuring that extracted parameters are physically meaningful, internally consistent, and software-compliant. We also construct a cosmological parameter extraction evaluation dataset by collecting over 40 simulations in published papers from Arxiv and leading journals that cover diverse simulation types. Experiments on the dataset demonstrate a strong performance of SimAgents, highlighting its effectiveness and potential to accelerate scientific research for physicists. Our demonstration video is available at: this https URL. The complete system and dataset are publicly available at this https URL.         |\n",
       "|<p style=\"color:green\"> **ERROR** </p>| <p style=\"color:green\">affiliation error: mpia.affiliation_verifications: 'Heidelberg' keyword not found.</p> |"
      ],
      "text/plain": [
       "<IPython.core.display.Markdown object>"
      ]
     },
     "metadata": {},
     "output_type": "display_data"
    },
    {
     "data": {
      "text/markdown": [
       "\n",
       "|||\n",
       "|---:|:---|\n",
       "| [![arXiv](https://img.shields.io/badge/arXiv-2507.09292-b31b1b.svg)](https://arxiv.org/abs/2507.09292) | **Investigating the Dainotti Relation in Gamma-Ray Bursts through Multipolar Electromagnetic Radiation**  |\n",
       "|| E. S. Yorgancioglu, D. M. Saeed, R. Moradi, <mark>Y. Wang</mark> |\n",
       "|*Appeared on*| *2025-07-15*|\n",
       "|*Comments*| *Accepted for publication in The Astrophysical Journal (ApJ)*|\n",
       "|**Abstract**|            The Dainotti relation empirically connects the isotropic plateau luminosity ($L_X$) in gamma-ray bursts (GRBs) X-ray afterglows to the rest-frame time at which the plateau ends ($T_a^*$), enabling both the standardization of GRBs and their use as cosmological probes. However, the precise physical mechanisms underlying this correlation remain an active area of research. Although magnetars, highly magnetized neutron stars, have been proposed as central engines powering GRB afterglows, traditional dipole spin-down radiation models fail to account for the full diversity of observed behaviors. This limitation necessitates a more comprehensive framework. We propose that multipolar magnetic field emissions from magnetars offer a plausible explanation for the Dainotti relation. Unlike simple dipole fields, higher-order multipolar configurations enable more complex energy dissipation processes. The coexistence of multiple components can plausibly explain the range of afterglow decay indices found from a sample of 238 GRBs with plateau features from the Swift-XRT database up to the end of December 2024, the majority of which deviate from the dipolar prediction of $\\alpha = -2$, and more crucially, the spin-down physics yields a link between $L_X$ and $T_a^*$ in a way that preserves the Dainotti correlation with a slope of $b = - 1$, independent of the specific multipole order. Moreover, we find that the inclusion of higher order multipoles can explain the range of plateau energies found in the Dainotti relations. Thus, a unified picture emerges in which multipolar fields are able to reproduce both the slope and the normalization of the correlation.         |\n",
       "|<p style=\"color:green\"> **ERROR** </p>| <p style=\"color:green\">affiliation error: mpia.affiliation_verifications: 'Heidelberg' keyword not found.</p> |"
      ],
      "text/plain": [
       "<IPython.core.display.Markdown object>"
      ]
     },
     "metadata": {},
     "output_type": "display_data"
    },
    {
     "data": {
      "text/markdown": [
       "\n",
       "|||\n",
       "|---:|:---|\n",
       "| [![arXiv](https://img.shields.io/badge/arXiv-2507.09430-b31b1b.svg)](https://arxiv.org/abs/2507.09430) | **MVPinn: Integrating Milne-Eddington Inversion with Physics-Informed Neural Networks for GST/NIRIS Observations**  |\n",
       "|| Q. Li, et al. -- incl., <mark>H. Jiang</mark> |\n",
       "|*Appeared on*| *2025-07-15*|\n",
       "|*Comments*| **|\n",
       "|**Abstract**|            We introduce MVPinn, a Physics-Informed Neural Network (PINN) approach tailored for solving the Milne-Eddington (ME) inversion problem, specifically applied to spectropolarimetric observations from the Big Bear Solar Observatory's Near-InfraRed Imaging Spectropolarimeter (BBSO/NIRIS) at the Fe I 1.56 {\\mu}m lines. Traditional ME inversion methods, though widely used, are computationally intensive, sensitive to noise, and often struggle to accurately capture complex profile asymmetries resulting from gradients in magnetic field strength, orientation, and line-of-sight velocities. By embedding the ME radiative transfer equations directly into the neural network training as physics-informed constraints, our MVPinn method robustly and efficiently retrieves magnetic field parameters, significantly outperforming traditional inversion methods in accuracy, noise resilience, and the ability to handle asymmetric and weak polarization signals. After training, MVPinn infers one magnetogram in about 15 seconds, compared to tens of minutes required by traditional ME inversion on high-resolution spectropolarimetric data. Quantitative comparisons demonstrate excellent agreement with well-established magnetic field measurements from the SDO/HMI and Hinode/SOT-SP instruments, with correlation coefficients of approximately 90%. In particular, MVPINN aligns better with Hinode/SOT-SP data, indicating some saturation of HMI data at high magnetic strengths. We further analyze the physical significance of profile asymmetries and the limitations inherent in the ME model assumption. Our results illustrate the potential of physics-informed machine learning methods in high-spatial-temporal solar observations, preparing for more sophisticated, real-time magnetic field analysis essential for current and next-generation solar telescopes and space weather monitoring.         |\n",
       "|<p style=\"color:green\"> **ERROR** </p>| <p style=\"color:green\">affiliation error: mpia.affiliation_verifications: 'Heidelberg' keyword not found.</p> |"
      ],
      "text/plain": [
       "<IPython.core.display.Markdown object>"
      ]
     },
     "metadata": {},
     "output_type": "display_data"
    },
    {
     "data": {
      "text/markdown": [
       "\n",
       "|||\n",
       "|---:|:---|\n",
       "| [![arXiv](https://img.shields.io/badge/arXiv-2507.09552-b31b1b.svg)](https://arxiv.org/abs/2507.09552) | **Probing the scalar-induced gravitational waves with the Five-hundred-meter Aperture Spherical radio Telescope and the Square Kilometer Array**  |\n",
       "|| <mark>J. Li</mark>, G.-H. Guo, Y. Zu |\n",
       "|*Appeared on*| *2025-07-15*|\n",
       "|*Comments*| **|\n",
       "|**Abstract**|            Gravitational wave astronomy presents a promising opportunity to directly observe scalar-induced gravitational waves originating from the early universe. Future experiments, including ground-based interferometers like LIGO and Virgo, the Pulsar Timing Array, and telescopes such as FAST and SKA, are poised to significantly enhance sensitivity to these gravitational waves. In this paper, we combined Cosmic Microwave Background data with upper or lower limits of the stochastic gravitational wave background provided by FAST or SKA, to constrain scalar-induced gravitational waves. To provide a comprehensive forecast, we consider two scenarios: one where FAST or SKA does not detect scalar-induced gravitational waves, thereby setting an upper limit on the fractional energy density; and another where these waves are detected successfully, thus establishing a lower limit on the fractional energy density. In the $\\Lambda$CDM+$r$ model, the scalar spectral index of the power-law power spectrum is constrained to $n_s=0.9589^{+0.0021}_{-0.0011}$ from the combinations of CMB+BAO+SKA datasets in the upper limit scenario. The constraint shifts to $n_s = 0.9661^{+0.0027}_{-0.0039}$ in the lower limit scenario. Comparing with the constraint from the combinations of CMB+BAO datasets, the scalar spectral index $n_s$ exhibits significant changes, which could serve as an indicator for detecting scalar-induced gravitational waves. In the $\\Lambda$CDM+$\\alpha_s$+$r$ model and the $\\Lambda$CDM+$\\alpha_s$+$\\beta_s$+$r$ model, the running of the scalar spectral index $\\alpha_s$ and the running of the running of the scalar spectral index $\\beta_s$ also show notable variations, suggesting potential indicators. The numerical findings clearly demonstrate the impact of the upper and lower limits provided by FAST or SKA.         |\n",
       "|<p style=\"color:green\"> **ERROR** </p>| <p style=\"color:green\">affiliation error: mpia.affiliation_verifications: 'Heidelberg' keyword not found.</p> |"
      ],
      "text/plain": [
       "<IPython.core.display.Markdown object>"
      ]
     },
     "metadata": {},
     "output_type": "display_data"
    },
    {
     "data": {
      "text/markdown": [
       "\n",
       "|||\n",
       "|---:|:---|\n",
       "| [![arXiv](https://img.shields.io/badge/arXiv-2507.09971-b31b1b.svg)](https://arxiv.org/abs/2507.09971) | **Noema formIng Cluster survEy (NICE): A Census of Star Formation and Cold Gas Properties in Massive protoclusters at 1.5<z<4**  |\n",
       "|| L. Zhou, et al. -- incl., <mark>Y. Wang</mark>, <mark>E. Schinnerer</mark> |\n",
       "|*Appeared on*| *2025-07-15*|\n",
       "|*Comments*| *12 pages, 7 figures, 1 table and 1 figure in appendix. accepted by A&A*|\n",
       "|**Abstract**|            Massive protoclusters at z~1.5-4, the peak of the cosmic star formation history, are key to understanding the formation mechanisms of massive galaxies in today's clusters. However, studies of protoclusters at these high redshifts remain limited, primarily due to small sample sizes and heterogeneous selection criteria. In this work, we conduct a systematic investigation of the star formation and cold gas properties of member galaxies of eight massive protoclusters in the COSMOS field, using the statistical and homogeneously selected sample from the Noema formIng Cluster survEy (NICE). Our analysis reveals a steep increase in the star formation rates per halo mass ($\\Sigma_{\\rm SFR} /M_{\\rm halo}$) with redshifts in these intensively star-forming protoclusters, reaching values one to two orders of magnitude higher than those observed in the field at z>2. We further show that, instead of an enhancement of starbursts, this increase is largely driven by the concentration of massive and gas-rich star-forming galaxies in the protocluster cores. The member galaxies still generally follow the same star formation main sequence as in the field, with a moderate enhancement at the low mass end. Notably, the most massive protocluster galaxies ($M_{\\rm halo}$>8$\\times$10$^{10}$M$_\\odot$) exhibit higher $f_{\\rm gas}$ and $\\tau_{\\rm gas}$ than their field counterparts, while remaining on the star forming main sequence. These gas-rich, massive, and star-forming galaxies are predominantly concentrated in the protocluster cores and are likely progenitors of massive ellipticals in the center of today's clusters. These results suggest that the formation of massive galaxies in such environments is sustained by substantial gas reservoirs, which support persistent star formation and drive early mass assembly in forming cluster cores.         |\n",
       "|<p style=\"color:green\"> **ERROR** </p>| <p style=\"color:green\">affiliation error: mpia.affiliation_verifications: 'Heidelberg' keyword not found.</p> |"
      ],
      "text/plain": [
       "<IPython.core.display.Markdown object>"
      ]
     },
     "metadata": {},
     "output_type": "display_data"
    },
    {
     "data": {
      "text/markdown": [
       "\n",
       "|||\n",
       "|---:|:---|\n",
       "| [![arXiv](https://img.shields.io/badge/arXiv-2507.10314-b31b1b.svg)](https://arxiv.org/abs/2507.10314) | **How an overweight and rapidly rotating PG 1159 star in the Galactic halo challenges evolutionary models**  |\n",
       "|| <mark>N. Mackensen</mark>, et al. |\n",
       "|*Appeared on*| *2025-07-15*|\n",
       "|*Comments*| *Accepted for publication in A&A*|\n",
       "|**Abstract**|            PG 1159 stars are thought to be progenitors of the majority of H-deficient white dwarfs. Their unusual He-, C-, and O-dominated surface composition is typically believed to result from a late thermal pulse experienced by a single (pre-)white dwarf. Yet, other formation channels - involving close binary evolution - have recently been proposed and could lead to similar surface compositions. Here we present a non-local thermodynamic equilibrium spectral analysis based on new UV and archival optical spectra of one of the hottest PG 1159 stars, $\\text{RX J}0122.9\\text{ -}7521$. We find $T_\\text{eff} = 175$ kK and a surface gravity of log $g = 7.7$, and an astonishingly low O/C ratio of $7.3 \\times 10^{-3}$ by mass. By combining the spectroscopic surface gravity and Gaia parallax with a spectral energy distribution fit, we derive a mass of $M_\\text{spec} = 1.8^{+1.1}_{-0.7}$ $M_\\odot$. Although this spectroscopic mass is higher than predicted by evolutionary models, it is subject to substantial uncertainty. Furthermore, we find that $\\text{RX J}0122.9\\text{ -}7521$ shows strongly rotationally broadened lines, suggesting that the previously reported photometric period of $41$ min indeed corresponds to the rotational period of this star. Our kinematic analysis shows that $\\text{RX J}0122.9\\text{ -}7521$ belongs to the Galactic halo, which - assuming single-star evolution - is in stark contrast to its relatively high mass. The rapid rotation, high mass, and halo kinematics, as well as the lack of evidence for a close companion, lead us to believe that $\\text{RX J}0122.9\\text{ -}7521$ formed through the merger of two white dwarfs. Yet, none of the current models can explain the surface abundances of $\\text{RX J}0122.9\\text{ -}7521$.         |\n",
       "|<p style=\"color:green\"> **ERROR** </p>| <p style=\"color:green\">affiliation error: mpia.affiliation_verifications: 'Planck' keyword not found.</p> |"
      ],
      "text/plain": [
       "<IPython.core.display.Markdown object>"
      ]
     },
     "metadata": {},
     "output_type": "display_data"
    },
    {
     "data": {
      "text/markdown": [
       "\n",
       "|||\n",
       "|---:|:---|\n",
       "| [![arXiv](https://img.shields.io/badge/arXiv-2507.09874-b31b1b.svg)](https://arxiv.org/abs/2507.09874) | **The New Generation Planetary Population Synthesis (NGPPS) VIII. Impact of host star metallicity on planet occurrence rates, orbital periods, eccentricities, and radius valley morphology**  |\n",
       "|| D.-C. Chen, et al. -- incl., <mark>R. Burn</mark> |\n",
       "|*Appeared on*| *2025-07-15*|\n",
       "|*Comments*| *20 Pages, 23 figures, 1 Table, Accepted for publication on A&A*|\n",
       "|**Abstract**|            The dust-to-gas ratio in the protoplanetary disk, which is likely imprinted into the host star metallicity, is a property that plays a crucial role during planet formation. We aim at constraining planet formation and evolution processes by statistically analysing planetary systems generated by the Generation III Bern model, comparing with the correlations derived from observational samples. Using synthetic planets biased to observational completeness, we find that (1) the occurrence rates of large giant planets and Neptune-size planets are positively correlated with [Fe/H], while small sub-Earths exhibit an anti-correlation. In between, for sub-Neptune and super-Earth, the occurrence rate first increases and then decreases with increasing [Fe/H] with an inflection point at 0.1 dex. (2) Planets with orbital periods shorter than ten days are more likely to be found around stars with higher metallicity, and this tendency weakens with increasing planet radius. (3) Both giant planets and small planets exhibit a positive correlation between the eccentricity and [Fe/H], which could be explained by the self-excitation and perturbation of outer giant planets. (4) The radius valley deepens and becomes more prominent with increasing [Fe/H], accompanied by a lower super-Earth-to-sub-Neptune ratio. Furthermore, the average radius of the planets above the valley increases with [Fe/H]. Our nominal model successfully reproduces many observed correlations with stellar metallicity, supporting the description of physical processes and parameters included in the Bern model. However, the dependences of orbital eccentricity and period on [Fe/H] predicted by the synthetic population is however significantly weaker than observed. This discrepancy suggests that long-term dynamical interactions between planets, along with the impact of binaries/companions, can drive the system towards a dynamically hotter state.         |\n",
       "|<p style=\"color:red\"> **ERROR** </p>| <p style=\"color:red\">latex error Unable to locate Ghostscript on paths</p> |"
      ],
      "text/plain": [
       "<IPython.core.display.Markdown object>"
      ]
     },
     "metadata": {},
     "output_type": "display_data"
    }
   ],
   "source": [
    "import datetime\n",
    "today = str(datetime.date.today())\n",
    "logfile = f\"_build/html/logs/log-{today}.md\"\n",
    "\n",
    "\n",
    "with open(logfile, 'w') as logs:\n",
    "    # Success\n",
    "    logs.write(f'# Arxiv on Deck 2: Logs - {today}\\n\\n')\n",
    "    logs.write(\"\"\"* Arxiv had {0:,d} new papers\\n\"\"\".format(len(new_papers)))\n",
    "    logs.write(\"\"\"    * {0:,d} with possible author matches\\n\\n\"\"\".format(len(candidates)))\n",
    "    logs.write(\"## Sucessful papers\\n\\n\")\n",
    "    display(Markdown(\"## Successful papers\"))\n",
    "    success = [k[0] for k in documents]\n",
    "    for candid in candidates:\n",
    "        if candid['identifier'].split(':')[-1] in success:\n",
    "            display(candid)\n",
    "            logs.write(candid.generate_markdown_text() + '\\n\\n')\n",
    "\n",
    "    ## failed\n",
    "    logs.write(\"## Failed papers\\n\\n\")\n",
    "    display(Markdown(\"## Failed papers\"))\n",
    "    failed = sorted(failed, key=lambda x: x[1])\n",
    "    current_reason = \"\"\n",
    "    for paper, reason in failed:\n",
    "        if 'affiliation' in reason:\n",
    "            color = 'green'\n",
    "        else:\n",
    "            color = 'red'\n",
    "        data = Markdown(\n",
    "                paper.generate_markdown_text() + \n",
    "                f'\\n|<p style=\"color:{color:s}\"> **ERROR** </p>| <p style=\"color:{color:s}\">{reason:s}</p> |'\n",
    "               )\n",
    "        if reason != current_reason:\n",
    "            logs.write(f'### {reason:s} \\n\\n')\n",
    "            current_reason = reason\n",
    "        logs.write(data.data + '\\n\\n')\n",
    "        \n",
    "        # only display here the important errors (all in logs)\n",
    "        # if color in ('red',):\n",
    "        display(data)"
   ]
  },
  {
   "cell_type": "markdown",
   "id": "472d20ee",
   "metadata": {
    "papermill": {
     "duration": 0.005533,
     "end_time": "2025-07-15T04:33:37.035366",
     "exception": false,
     "start_time": "2025-07-15T04:33:37.029833",
     "status": "completed"
    },
    "tags": []
   },
   "source": [
    "## Export documents\n",
    "\n",
    "We now write the .md files and export relevant images"
   ]
  },
  {
   "cell_type": "code",
   "execution_count": 7,
   "id": "d426aed9",
   "metadata": {
    "execution": {
     "iopub.execute_input": "2025-07-15T04:33:37.047724Z",
     "iopub.status.busy": "2025-07-15T04:33:37.047177Z",
     "iopub.status.idle": "2025-07-15T04:33:37.054221Z",
     "shell.execute_reply": "2025-07-15T04:33:37.053677Z"
    },
    "papermill": {
     "duration": 0.014246,
     "end_time": "2025-07-15T04:33:37.055204",
     "exception": false,
     "start_time": "2025-07-15T04:33:37.040958",
     "status": "completed"
    },
    "tags": []
   },
   "outputs": [],
   "source": [
    "def export_markdown_summary(md: str, md_fname:str, directory: str):\n",
    "    \"\"\"Export MD document and associated relevant images\"\"\"\n",
    "    import os\n",
    "    import shutil\n",
    "    import re\n",
    "\n",
    "    if (os.path.exists(directory) and not os.path.isdir(directory)):\n",
    "        raise RuntimeError(f\"a non-directory file exists with name {directory:s}\")\n",
    "\n",
    "    if (not os.path.exists(directory)):\n",
    "        print(f\"creating directory {directory:s}\")\n",
    "        os.mkdir(directory)\n",
    "\n",
    "    fig_fnames = (re.compile(r'\\[Fig.*\\]\\((.*)\\)').findall(md) + \n",
    "                  re.compile(r'\\<img src=\"([^>\\s]*)\"[^>]*/>').findall(md))\n",
    "    print(\"found figures\", fig_fnames)\n",
    "    for fname in fig_fnames:\n",
    "        if 'http' in fname:\n",
    "            # No need to copy online figures\n",
    "            continue\n",
    "        if not os.path.exists(fname):\n",
    "            print(\"file not found\", fname)\n",
    "            continue\n",
    "        print(\"copying \", fname, \"to\", directory)\n",
    "        destdir = os.path.join(directory, os.path.dirname(fname))\n",
    "        destfname = os.path.join(destdir, os.path.basename(fname))\n",
    "        try:\n",
    "            os.makedirs(destdir)\n",
    "        except FileExistsError:\n",
    "            pass\n",
    "        shutil.copy(fname, destfname)\n",
    "    with open(os.path.join(directory, md_fname), 'w') as fout:\n",
    "        fout.write(md)\n",
    "    print(\"exported in \", os.path.join(directory, md_fname))\n",
    "    [print(\"    + \" + os.path.join(directory,fk)) for fk in fig_fnames]"
   ]
  },
  {
   "cell_type": "code",
   "execution_count": 8,
   "id": "014d04a4",
   "metadata": {
    "execution": {
     "iopub.execute_input": "2025-07-15T04:33:37.067679Z",
     "iopub.status.busy": "2025-07-15T04:33:37.067219Z",
     "iopub.status.idle": "2025-07-15T04:33:37.081888Z",
     "shell.execute_reply": "2025-07-15T04:33:37.081212Z"
    },
    "papermill": {
     "duration": 0.021988,
     "end_time": "2025-07-15T04:33:37.082893",
     "exception": false,
     "start_time": "2025-07-15T04:33:37.060905",
     "status": "completed"
    },
    "tags": []
   },
   "outputs": [
    {
     "name": "stdout",
     "output_type": "stream",
     "text": [
      "found figures ['tmp_2507.08961/./01_twa-27_A+b_spectrum.png', 'tmp_2507.08961/./03_twa27_A_modelfit.png', 'tmp_2507.08961/./04_twa27_b_modelfit.png']\n",
      "copying  tmp_2507.08961/./01_twa-27_A+b_spectrum.png to _build/html/\n",
      "copying  tmp_2507.08961/./03_twa27_A_modelfit.png to _build/html/\n",
      "copying  tmp_2507.08961/./04_twa27_b_modelfit.png to _build/html/\n",
      "exported in  _build/html/2507.08961.md\n",
      "    + _build/html/tmp_2507.08961/./01_twa-27_A+b_spectrum.png\n",
      "    + _build/html/tmp_2507.08961/./03_twa27_A_modelfit.png\n",
      "    + _build/html/tmp_2507.08961/./04_twa27_b_modelfit.png\n",
      "found figures ['tmp_2507.09343/./MR_crop.png', 'tmp_2507.09343/./corner_L9859b_rocky_crop.png', 'tmp_2507.09343/./corner_L9859c_crop.png', 'tmp_2507.09343/./corner_L9859d_crop.png', 'tmp_2507.09343/./orbits_crop.png', 'tmp_2507.09343/./HZ_crop.png']\n",
      "copying  tmp_2507.09343/./MR_crop.png to _build/html/\n",
      "copying  tmp_2507.09343/./corner_L9859b_rocky_crop.png to _build/html/\n",
      "copying  tmp_2507.09343/./corner_L9859c_crop.png to _build/html/\n",
      "copying  tmp_2507.09343/./corner_L9859d_crop.png to _build/html/\n",
      "copying  tmp_2507.09343/./orbits_crop.png to _build/html/\n",
      "copying  tmp_2507.09343/./HZ_crop.png to _build/html/\n",
      "exported in  _build/html/2507.09343.md\n",
      "    + _build/html/tmp_2507.09343/./MR_crop.png\n",
      "    + _build/html/tmp_2507.09343/./corner_L9859b_rocky_crop.png\n",
      "    + _build/html/tmp_2507.09343/./corner_L9859c_crop.png\n",
      "    + _build/html/tmp_2507.09343/./corner_L9859d_crop.png\n",
      "    + _build/html/tmp_2507.09343/./orbits_crop.png\n",
      "    + _build/html/tmp_2507.09343/./HZ_crop.png\n",
      "found figures ['tmp_2507.09402/./Figures/Results.png', 'tmp_2507.09402/./Figures/Radial_profiles.png', 'tmp_2507.09402/./Figures/Band9_Map.png']\n",
      "copying  tmp_2507.09402/./Figures/Results.png to _build/html/\n",
      "copying  tmp_2507.09402/./Figures/Radial_profiles.png to _build/html/\n",
      "copying  tmp_2507.09402/./Figures/Band9_Map.png to _build/html/\n",
      "exported in  _build/html/2507.09402.md\n",
      "    + _build/html/tmp_2507.09402/./Figures/Results.png\n",
      "    + _build/html/tmp_2507.09402/./Figures/Radial_profiles.png\n",
      "    + _build/html/tmp_2507.09402/./Figures/Band9_Map.png\n",
      "found figures ['tmp_2507.09622/./fig_msms/venn.png', 'tmp_2507.09622/./fig_msms/compare_mmsnr50.png', 'tmp_2507.09622/./fig_msms/gnss_chi2_diff.png', 'tmp_2507.09622/./fig_msms/apogee_chi2_diff.png', 'tmp_2507.09622/./fig_msms/single_chi2_diff.png']\n",
      "copying  tmp_2507.09622/./fig_msms/venn.png to _build/html/\n",
      "copying  tmp_2507.09622/./fig_msms/compare_mmsnr50.png to _build/html/\n",
      "copying  tmp_2507.09622/./fig_msms/gnss_chi2_diff.png to _build/html/\n",
      "copying  tmp_2507.09622/./fig_msms/apogee_chi2_diff.png to _build/html/\n",
      "copying  tmp_2507.09622/./fig_msms/single_chi2_diff.png to _build/html/\n",
      "exported in  _build/html/2507.09622.md\n",
      "    + _build/html/tmp_2507.09622/./fig_msms/venn.png\n",
      "    + _build/html/tmp_2507.09622/./fig_msms/compare_mmsnr50.png\n",
      "    + _build/html/tmp_2507.09622/./fig_msms/gnss_chi2_diff.png\n",
      "    + _build/html/tmp_2507.09622/./fig_msms/apogee_chi2_diff.png\n",
      "    + _build/html/tmp_2507.09622/./fig_msms/single_chi2_diff.png\n"
     ]
    }
   ],
   "source": [
    "for paper_id, md in documents:\n",
    "    export_markdown_summary(md, f\"{paper_id:s}.md\", '_build/html/')"
   ]
  },
  {
   "cell_type": "markdown",
   "id": "f087a0a7",
   "metadata": {
    "papermill": {
     "duration": 0.005712,
     "end_time": "2025-07-15T04:33:37.094640",
     "exception": false,
     "start_time": "2025-07-15T04:33:37.088928",
     "status": "completed"
    },
    "tags": []
   },
   "source": [
    "## Display the papers\n",
    "\n",
    "Not necessary but allows for a quick check."
   ]
  },
  {
   "cell_type": "code",
   "execution_count": 9,
   "id": "fd25f625",
   "metadata": {
    "execution": {
     "iopub.execute_input": "2025-07-15T04:33:37.106910Z",
     "iopub.status.busy": "2025-07-15T04:33:37.106697Z",
     "iopub.status.idle": "2025-07-15T04:33:37.115002Z",
     "shell.execute_reply": "2025-07-15T04:33:37.114355Z"
    },
    "papermill": {
     "duration": 0.015603,
     "end_time": "2025-07-15T04:33:37.115993",
     "exception": false,
     "start_time": "2025-07-15T04:33:37.100390",
     "status": "completed"
    },
    "scrolled": false,
    "tags": []
   },
   "outputs": [
    {
     "data": {
      "text/markdown": [
       "<div class=\"macros\" style=\"visibility:hidden;\">\n",
       "$\\newcommand{\\ensuremath}{}$\n",
       "$\\newcommand{\\xspace}{}$\n",
       "$\\newcommand{\\object}[1]{\\texttt{#1}}$\n",
       "$\\newcommand{\\farcs}{{.}''}$\n",
       "$\\newcommand{\\farcm}{{.}'}$\n",
       "$\\newcommand{\\arcsec}{''}$\n",
       "$\\newcommand{\\arcmin}{'}$\n",
       "$\\newcommand{\\ion}[2]{#1#2}$\n",
       "$\\newcommand{\\textsc}[1]{\\textrm{#1}}$\n",
       "$\\newcommand{\\hl}[1]{\\textrm{#1}}$\n",
       "$\\newcommand{\\footnote}[1]{}$\n",
       "$\\newcommand{\\todo}[1]{\\textcolor{red}{#1}}$\n",
       "$\\newcommand{\\danny}{\\textcolor{green}}$\n",
       "$\\newcommand{\\mmc}{\\textcolor{purple}}$\n",
       "$\\newcommand{\\mum}{\\mum\\xspace}$\n",
       "$\\newcommand{\\ama}[1]{\\textcolor{red}{\\rm #1^{(\\rm AMA)}}}$\n",
       "$\\newcommand{\\Lsun}{L_\\odot}$\n",
       "$\\newcommand{\\Msun}{M_\\odot}$\n",
       "$\\newcommand{\\MJ}{M_\\mathrm{J}}$\n",
       "$\\newcommand{\\Mp}{M_\\mathrm{p}}$\n",
       "$\\newcommand{\\Macc}{\\dot{M}_\\mathrm{acc}}$\n",
       "$\\newcommand{\\RJ}{R_\\mathrm{J}}$\n",
       "$\\newcommand{\\Rp}{R_\\mathrm{p}}$\n",
       "$\\newcommand{\\Teff}{T_{\\text{eff}}}$\n",
       "$\\newcommand{\\MJyr}{\\MJ \\mathrm{yr}^{-1}}$\n",
       "$\\newcommand{\\Rd}{R_\\mathrm{dust}}$\n",
       "$\\newcommand{\\Rcav}{R_\\mathrm{cav}}$\n",
       "$\\newcommand{\\Rout}{R_\\mathrm{out}}$\n",
       "$\\newcommand{\\Rg}{R_\\mathrm{gas}}$\n",
       "$\\newcommand{\\Lacc}{L_\\mathrm{acc}}$\n",
       "$\\newcommand{\\LHa}{L_\\mathrm{H\\alpha}}$\n",
       "$\\newcommand{\\FHa}{F_\\mathrm{H\\alpha}}$\n",
       "$\\newcommand{\\AHa}{A_\\mathrm{H\\alpha}}$\n",
       "$\\newcommand{\\Av}{A_\\mathrm{V}}$\n",
       "$\\newcommand{\\MaccAv}{\\overline{\\dot{M}_\\mathrm{acc}}}$\n",
       "$\\newcommand{\\c2h2}{C_\\mathrm{2}H_\\mathrm{2}\\xspace}$\n",
       "$\\newcommand{\\c6h6}{C_\\mathrm{6}H_\\mathrm{6}\\xspace}$\n",
       "$\\newcommand{\\c2h6}{C_\\mathrm{2}H_\\mathrm{6}\\xspace}$\n",
       "$\\newcommand{\\co2}{CO_\\mathrm{2}\\xspace}$</div>\n",
       "\n",
       "\n",
       "\n",
       "<div id=\"title\">\n",
       "\n",
       "# JWST/MIRI observations of the young TWA 27 system: hydrocarbon disk chemistry, silicate clouds, evidence for a CPD\n",
       "\n",
       "</div>\n",
       "<div id=\"comments\">\n",
       "\n",
       "[![arXiv](https://img.shields.io/badge/arXiv-2507.08961-b31b1b.svg)](https://arxiv.org/abs/2507.08961)<mark>Appeared on: 2025-07-15</mark> -  _Submitted to Astronomy&Astrophysics_\n",
       "\n",
       "</div>\n",
       "<div id=\"authors\">\n",
       "\n",
       "P. Patapis, et al. -- incl., <mark>E. Matthews</mark>, <mark>T. Henning</mark>, <mark>J. Bouwman</mark>, <mark>S. Scheithauer</mark>\n",
       "\n",
       "</div>\n",
       "<div id=\"abstract\">\n",
       "\n",
       "**Abstract:** The Mid-Infrared Instrument (MIRI) on board the James Webb Space Telescope (JWST) enables the characterisation of young self-luminous gas giants in a wavelength range previously inaccessible, revealing insights into physical processes of the gas, dust, and clouds. We aim to characterise the young planetary system TWA 27 (2M1207) in the mid-infrared (MIR), revealing the atmosphere and disk spectra of the M9 brown dwarf TWA 27A and its L6 planetary mass companion TWA 27b. We obtain data from the MIRI Medium Resolution Spectrometer (MRS) from 4.9 to 20 $\\mum$ , and MIRI Imaging in the F1000W and F1500W filters. We apply high-contrast-imaging data processing methods in order to extract the companion spectral energy distribution up to 15 $\\mum$ at a separation of 0 $\\farcs$ 78 and contrast of 60. Using published spectra from JWST/NIRSpec, we analyse the 1-20 $\\mum$ spectra with self-consistent atmosphere grids, and the molecular disk emission from TWA 27A with 0D slab models. We find that the atmosphere of TWA 27A is well fitted with the \\texttt{BT-SETTL} model of effective temperature $T_{\\text{eff}}\\sim 2780$ K, $\\mathrm{log} g \\sim 4.3$ , and a blackbody component of $\\sim$ 740 K for the circumstellar disk inner rim. The disk consists of at least 11 organic molecules, and neither water or silicate dust emission are detected.   The atmosphere of the planet TWA 27b matches with a $T_{\\text{eff}}\\sim$ 1400 K low gravity model when adding extinction, with the \\texttt{ExoREM} grid fitting the best. MIRI spectra and photometry for TWA 27b reveal a silicate cloud absorption feature between 8-10 $\\mum$ , and evidence (>5 $\\sigma$ ) for infrared excess at 15 $\\mum$ that is consistent with predictions from circumplanetary disk emission. The MIRI observations present novel insights into the young planetary system TWA 27, showing a diversity of features that can be studied to understand the formation and evolution of circumplanetary disks and young dusty atmospheres.\n",
       "\n",
       "</div>\n",
       "\n",
       "<div id=\"div_fig1\">\n",
       "\n",
       "<img src=\"tmp_2507.08961/./01_twa-27_A+b_spectrum.png\" alt=\"Fig2\" width=\"100%\"/>\n",
       "\n",
       "**Figure 2. -** Complete 1-20 $\\mum$ spectra of TWA 27A (a) and TWA 27b (d) with JWST/NIRSpec and JWST/MIRI. Details of TWA 27A are presented in panel (b) for the instrument overlap between NIRSpec and MIRI, and in panel (c) for the molecular emission of the TWA 27A disk. Error bars for the NIRSpec spectra, and MIRI spectrum of TWA 27A are not visible. (*fig:twa-27-A*)\n",
       "\n",
       "</div>\n",
       "<div id=\"div_fig2\">\n",
       "\n",
       "<img src=\"tmp_2507.08961/./03_twa27_A_modelfit.png\" alt=\"Fig4\" width=\"100%\"/>\n",
       "\n",
       "**Figure 4. -** Model fit to TWA 27A. Top: data and model fit using the \\texttt{BT-SETTL} grid. The atmosphere model is shown in gray, the blackbody disk component in red, and the combined model in gold. Middle: residuals between data and model in physical units (mJy). Bottom: details of model fit for two regions of the spectrum. (*fig:twa-27-A_modelfit*)\n",
       "\n",
       "</div>\n",
       "<div id=\"div_fig3\">\n",
       "\n",
       "<img src=\"tmp_2507.08961/./04_twa27_b_modelfit.png\" alt=\"Fig5\" width=\"100%\"/>\n",
       "\n",
       "**Figure 5. -** Model fit to TWA 27b. Top: data and model fit using the \\texttt{ATMO}, \\texttt{ExoREM}, and \\texttt{SONORA} grids, including extinction and an offset of 0.15 mJy for visibility. In order to explain the 15 $\\mum$ IR excess due to a cold disk a blackbody component (350 K) is shown in magenta and added to the \\texttt{ExoREM} flux. Middle: residuals between data and model in physical units (mJy). The discrepancy of data and models at 7.5-10 $\\mum$ is most likely attributed to a silicate cloud. Bottom: details of model fit for two regions of the spectrum, including the methane and CO bands, only showing \\texttt{ExoREM}. (*fig:twa-27-b_modelfit*)\n",
       "\n",
       "</div><div id=\"qrcode\"><img src=https://api.qrserver.com/v1/create-qr-code/?size=100x100&data=\"https://arxiv.org/abs/2507.08961\"></div>"
      ],
      "text/plain": [
       "<IPython.core.display.Markdown object>"
      ]
     },
     "metadata": {},
     "output_type": "display_data"
    },
    {
     "data": {
      "text/markdown": [
       "<div class=\"macros\" style=\"visibility:hidden;\">\n",
       "$\\newcommand{\\ensuremath}{}$\n",
       "$\\newcommand{\\xspace}{}$\n",
       "$\\newcommand{\\object}[1]{\\texttt{#1}}$\n",
       "$\\newcommand{\\farcs}{{.}''}$\n",
       "$\\newcommand{\\farcm}{{.}'}$\n",
       "$\\newcommand{\\arcsec}{''}$\n",
       "$\\newcommand{\\arcmin}{'}$\n",
       "$\\newcommand{\\ion}[2]{#1#2}$\n",
       "$\\newcommand{\\textsc}[1]{\\textrm{#1}}$\n",
       "$\\newcommand{\\hl}[1]{\\textrm{#1}}$\n",
       "$\\newcommand{\\footnote}[1]{}$\n",
       "$\\newcommand{\\vdag}{(v)^\\dagger}$\n",
       "$\\newcommand$\n",
       "$\\newcommand$\n",
       "$\\newcommand{\\todo}[1]{\\textcolor{orange}{#1}}$\n",
       "$\\newcommand{\\tofix}[1]{\\textcolor{red}{#1}}$\n",
       "$\\newcommand{\\dtemp}{d\\textit{Temp}}$\n",
       "$\\newcommand$</div>\n",
       "\n",
       "\n",
       "\n",
       "<div id=\"title\">\n",
       "\n",
       "# Detailed Architecture of the L 98-59 System and Confirmation of a Fifth Planet in the Habitable Zone\n",
       "\n",
       "</div>\n",
       "<div id=\"comments\">\n",
       "\n",
       "[![arXiv](https://img.shields.io/badge/arXiv-2507.09343-b31b1b.svg)](https://arxiv.org/abs/2507.09343)<mark>Appeared on: 2025-07-15</mark> -  _32 pages, 12 figures, 8 tables, accepted for publication in AJ_\n",
       "\n",
       "</div>\n",
       "<div id=\"authors\">\n",
       "\n",
       "C. Cadieux, et al. -- incl., <mark>E.-M. Ahrer</mark>\n",
       "\n",
       "</div>\n",
       "<div id=\"abstract\">\n",
       "\n",
       "**Abstract:** The L 98-59 system, identified by TESS in 2019, features three transiting exoplanets in compact orbits of 2.253, 3.691, and 7.451 days around an M3V star, with an outer 12.83-day non-transiting planet confirmed in 2021 using ESPRESSO. The planets exhibit a diverse range of sizes (0.8--1.6 R $_{\\oplus}$ ), masses (0.5--3 M $_{\\oplus}$ ), and likely compositions (Earth-like to possibly water-rich), prompting atmospheric characterization studies with HST and JWST. Here, we analyze 16 new TESS sectors and improve radial velocity (RV) precision of archival ESPRESSO and HARPS data using a line-by-line framework, enabling stellar activity detrending via a novel differential temperature indicator. We refine the radii of L 98-59 b, c, and d to 0.837 $\\pm$ 0.019 R $_{\\oplus}$ , 1.329 $\\pm$ 0.029 R $_{\\oplus}$ , 1.627 $\\pm$ 0.041 R $_{\\oplus}$ , respectively. Combining RVs with transit timing variations (TTV) of L 98-59 c and d from TESS and JWST provides unprecedented constraints on the masses and eccentricities of the planets. We report updated masses of 0.46 $\\pm$ 0.11 M $_{\\oplus}$ for b, 2.00 $\\pm$ 0.13 M $_{\\oplus}$ for c, and 1.64 $\\pm$ 0.07 M $_{\\oplus}$ for d, and a minimum mass of 2.82 $\\pm$ 0.19 M $_{\\oplus}$ for e. We additionally confirm L 98-59 f, a non-transiting super-Earth with a minimal mass of 2.80 $\\pm$ 0.30 M $_{\\oplus}$ on a 23.06-day orbit inside the Habitable Zone. The TTVs of L 98-59 c and d ( $<$ 3 min, $P_{\\rm TTV} = 396$ days) constrain the eccentricities of all planets to near-circular orbits ( $e \\lesssim 0.04$ ). An internal structure analysis of the transiting planets reveals increasing water-mass fractions ( $f_{\\rm H_{2}O}$ ) with orbital distance, reaching $f_{\\rm H_{2}O} \\approx 0.16$ for L 98-59 d. We predict eccentricity-induced tidal heating in L 98-59 b with heat fluxes comparable to those of Io, potentially driving volcanic activity.\n",
       "\n",
       "</div>\n",
       "\n",
       "<div id=\"div_fig1\">\n",
       "\n",
       "<img src=\"tmp_2507.09343/./MR_crop.png\" alt=\"Fig4\" width=\"100%\"/>\n",
       "\n",
       "**Figure 4. -** Mass--radius constraints on the L 98-59 planets (b: green, c: purple, d: red, e: blue, f: teal) with other exoplanets around M dwarfs in the background (gray points). The previous values from \\citetalias{Demangeon_2021} are shown in black attached to revised measurements. For L 98-59 e and f, 1- and 2-$\\sigma$ confidence contours are shown with the radius estimated using \\texttt{spright}\\citep{Parviainen_2024}  and with a cross symbol showing the two modes (rocky and volatile-rich). Rocky composition curves from \\cite{Zeng_2019} are drawn from pure iron to pure silicate rocks. Water-rich interior models at $T = 400$ K from \\cite{Aguichine_2021} are shown with dotted blue curves. The orange region delimits a degeneracy ($H_2$- or $H_2$O-rich) in composition \\citep{Rogers_2023}. (*fig:mr*)\n",
       "\n",
       "</div>\n",
       "<div id=\"div_fig2\">\n",
       "\n",
       "<img src=\"tmp_2507.09343/./corner_L9859b_rocky_crop.png\" alt=\"Fig11.1\" width=\"33%\"/><img src=\"tmp_2507.09343/./corner_L9859c_crop.png\" alt=\"Fig11.2\" width=\"33%\"/><img src=\"tmp_2507.09343/./corner_L9859d_crop.png\" alt=\"Fig11.3\" width=\"33%\"/>\n",
       "\n",
       "**Figure 11. -** Marginalised 1D and 2D posterior distributions of internal structure parameters for L 98-59 b (left), c (center), and d (right) derived with \\texttt{smint}\\citep{Piaulet_2023}. The 2D posteriors display the 1- and 2-$\\sigma$ contours. The analysis constrains the core- and water-mass fractions ($f^{\\prime}_{\\rm core}$, $f_{\\rm H_{2}O}$) using priors on planetary mass ($M_{\\rm p}$) and irradiation temperature ($T_{\\rm irr}$; not shown), while requiring consistency with the observed planetary radius ($R_{\\rm p}$). The sub-Earth L 98-59 b is assumed to be purely rocky ($f_{\\rm H_{2}O} = 0$). We explored a pure rocky model for L 98-59 c and water-rich models for L 98-59 c and d with either a uniform prior on $f^{\\prime}_{\\rm core}$(`up') or using $f^{\\prime}_{\\rm core}$ from planet b as a prior (`bp'). L 98-59 b has a $f^{\\prime}_{\\rm core}$ consistent with a wide range of iron content in the interior (from coreless to super-Mercury), with a mode close to Earth's value ($f^{\\prime}_{\\rm core} = 0.325$, \\citealt{Wang_2018}). L 98-59 c likely has a small $f_{\\rm H_{2}O} \\sim 0.03$ to explain its mass and radius. For L 98-59 d, we infer a statistically significant $f_{\\rm H_{2}O}$ = 0.16--0.18 irrespective of the choice of prior. (*fig:interior*)\n",
       "\n",
       "</div>\n",
       "<div id=\"div_fig3\">\n",
       "\n",
       "<img src=\"tmp_2507.09343/./orbits_crop.png\" alt=\"Fig1.1\" width=\"50%\"/><img src=\"tmp_2507.09343/./HZ_crop.png\" alt=\"Fig1.2\" width=\"50%\"/>\n",
       "\n",
       "**Figure 1. -** _Top_: Above view of the L 98-59 planetary system on BJD = 2 460 000 assuming circular orbits. The line of sight towards Earth is to the right. The Habitable Zone defined in \\citealt{Kopparapu_2013} is shown in green for runaway/maximum greenhouse (conservative) and pale green for early recent Venus/early Mars (optimistic). _Bottom_: Comparative exoplanetology of M-dwarf multiplanetary systems ordered by stellar effective temperature and planetary instellation. An arbitrary shift of $+$100 K in $T_{\\rm eff}$ has been applied to \\hbox{TOI-700} and Teegarden's star for clarity. In both panels, transiting (non-transiting) exoplanets are shown as filled (open) circles, with circle size proportional to planetary radius. For planets with only a minimum mass constraint, the radius is set to the 95$^{\\rm th}$ percentile of the prediction from \\texttt{spright}\\citep{Parviainen_2024}. (*fig:orbit*)\n",
       "\n",
       "</div><div id=\"qrcode\"><img src=https://api.qrserver.com/v1/create-qr-code/?size=100x100&data=\"https://arxiv.org/abs/2507.09343\"></div>"
      ],
      "text/plain": [
       "<IPython.core.display.Markdown object>"
      ]
     },
     "metadata": {},
     "output_type": "display_data"
    },
    {
     "data": {
      "text/markdown": [
       "<div class=\"macros\" style=\"visibility:hidden;\">\n",
       "$\\newcommand{\\ensuremath}{}$\n",
       "$\\newcommand{\\xspace}{}$\n",
       "$\\newcommand{\\object}[1]{\\texttt{#1}}$\n",
       "$\\newcommand{\\farcs}{{.}''}$\n",
       "$\\newcommand{\\farcm}{{.}'}$\n",
       "$\\newcommand{\\arcsec}{''}$\n",
       "$\\newcommand{\\arcmin}{'}$\n",
       "$\\newcommand{\\ion}[2]{#1#2}$\n",
       "$\\newcommand{\\textsc}[1]{\\textrm{#1}}$\n",
       "$\\newcommand{\\hl}[1]{\\textrm{#1}}$\n",
       "$\\newcommand{\\footnote}[1]{}$\n",
       "$\\newcommand{\\anibal}[1]{{\\color{orange} [AS: #1]}}$\n",
       "$\\newcommand{\\thebibliography}{\\DeclareRobustCommand{\\VAN}[3]{##3}\\VANthebibliography}$</div>\n",
       "\n",
       "\n",
       "\n",
       "<div id=\"title\">\n",
       "\n",
       "# Leaky dust trap in the PDS 70 disk revealed by ALMA Band 9 observations\n",
       "\n",
       "</div>\n",
       "<div id=\"comments\">\n",
       "\n",
       "[![arXiv](https://img.shields.io/badge/arXiv-2507.09402-b31b1b.svg)](https://arxiv.org/abs/2507.09402)<mark>Appeared on: 2025-07-15</mark> -  _12 pages_\n",
       "\n",
       "</div>\n",
       "<div id=\"authors\">\n",
       "\n",
       "A. Sierra, et al. -- incl., <mark>M. Benisty</mark>, <mark>K. Doi</mark>, <mark>D. Fasano</mark>\n",
       "\n",
       "</div>\n",
       "<div id=\"abstract\">\n",
       "\n",
       "**Abstract:** We present new observations of the PDS 70 disc obtained with the Atacama Large Millimeter/sub-millimeter Array (ALMA) in Band 9 (671 GHz) at 0.242 $^{\\prime\\prime}$ resolution, which provide valuable insights into the spatial distribution of sub-millimetre grains in the disc. The data reveal a ring-like morphology, with a radial peak located between those previously observed at infrared wavelengths and longer millimetre observations. Additionally, we detect a tentative outer shoulder in Band 9 that is not observed at longer wavelengths. These findings suggest that small grains ( $\\sim 100 \\mu$ m) traced by Band 9 may be escaping from the pressure bump both radially inwards and outwards, or may be tracing different disc layers than those probed at longer wavelengths.A multi-wavelength analysis of the disc at millimetre wavelengths and the best fit to the spectral energy distribution shows the presence of centimetre grains around the ring location, where the dust surface density also peaks, compatible with dust trap models. The grain size in the disc cavity is not well constrained but is consistent with grains as small as 10 $\\mu$ m, supporting the hypothesis that small dust grain filters through the cavity.We use dust evolution models to demonstrate that a turbulent viscosity of $\\alpha \\gtrsim 10^{-3}$ allows small grains to filter through the disc gap, while $\\alpha \\lesssim 5 \\times 10^{-3}$ is required to retain large grains in the pressure bump. The Band 9 observations of PDS 70 validate theoretical models and confirm the presence of pebble flux through the disc gap.\n",
       "\n",
       "</div>\n",
       "\n",
       "<div id=\"div_fig1\">\n",
       "\n",
       "<img src=\"tmp_2507.09402/./Figures/Results.png\" alt=\"Fig8\" width=\"100%\"/>\n",
       "\n",
       "**Figure 8. -** Visibility modelling of the disc around PDS 70 at different wavelengths.\n",
       "    Left: tclean image of the dust continuum data. Middle left: tclean image of the symmetric dust continuum data. Middle right: tclean image of the Frankenstein model. Right: tclean map of the residual visibilities (Symmetric - Model). The white iso-contour show the region with residuals above/below $\\pm 5\\sigma$.\n",
       "    The units of all colour bars are mJy beam$^{-1}$.\n",
       "    Right panels show the real part of the continuum visibilities (blue dots) as a function of the uv-distance (baseline). The flux units in all right panels are mJy.\n",
       "    The solid black line shows the visibility Frankenstein model.\n",
       "     (*fig:visibility_modelling*)\n",
       "\n",
       "</div>\n",
       "<div id=\"div_fig2\">\n",
       "\n",
       "<img src=\"tmp_2507.09402/./Figures/Radial_profiles.png\" alt=\"Fig9\" width=\"100%\"/>\n",
       "\n",
       "**Figure 9. -** Left: Radial profiles of the brightness temperature obtained from the visibility fit at different ALMA wavelengths (see colour code). The vertical dashed-dotted lines indicate the orbits of PDS 70b, and PDS 70c.\n",
       "    Right: Zoom-in around the ring peaks. The grey dashed line shows the normalised brightness radial profile from infrared observations at H band ($\\lambda = 1.625 \\mu$m). The radial positions of the peaks are shown as vertical dashed lines. (*fig:BrightnessTemperature*)\n",
       "\n",
       "</div>\n",
       "<div id=\"div_fig3\">\n",
       "\n",
       "<img src=\"tmp_2507.09402/./Figures/Band9_Map.png\" alt=\"Fig7\" width=\"100%\"/>\n",
       "\n",
       "**Figure 7. -** Left: Dust continuum image at ALMA Band 9 (671 GHz).\n",
       "    Middle: Azimuthal profile around the ring. The arrows indicate the azimuth of the northwest and southeast major axes.\n",
       "    Right: Brightness temperature radial profile of PDS 70 extracted from the ALMA images at different wavelengths: 100 GHz (red), 220 GHz (yellow), 260 GHz (green), 350 GHz (blue), 671 GHz (purple). The horizontal lines show the angular resolution for each data set. (*fig:continuum-map*)\n",
       "\n",
       "</div><div id=\"qrcode\"><img src=https://api.qrserver.com/v1/create-qr-code/?size=100x100&data=\"https://arxiv.org/abs/2507.09402\"></div>"
      ],
      "text/plain": [
       "<IPython.core.display.Markdown object>"
      ]
     },
     "metadata": {},
     "output_type": "display_data"
    },
    {
     "data": {
      "text/markdown": [
       "<div class=\"macros\" style=\"visibility:hidden;\">\n",
       "$\\newcommand{\\ensuremath}{}$\n",
       "$\\newcommand{\\xspace}{}$\n",
       "$\\newcommand{\\object}[1]{\\texttt{#1}}$\n",
       "$\\newcommand{\\farcs}{{.}''}$\n",
       "$\\newcommand{\\farcm}{{.}'}$\n",
       "$\\newcommand{\\arcsec}{''}$\n",
       "$\\newcommand{\\arcmin}{'}$\n",
       "$\\newcommand{\\ion}[2]{#1#2}$\n",
       "$\\newcommand{\\textsc}[1]{\\textrm{#1}}$\n",
       "$\\newcommand{\\hl}[1]{\\textrm{#1}}$\n",
       "$\\newcommand{\\footnote}[1]{}$\n",
       "$\\newcommand{\\photmoh}{[M/H]_{\\rm phot}}$\n",
       "$\\newcommand{\\moh}{[M/H]_{\\rm phot}}$\n",
       "$\\newcommand{\\msun}{M_{\\odot}}$\n",
       "$\\newcommand{\\singlechi}{\\chi^2_{\\mathrm{single}}}$\n",
       "$\\newcommand{\\binarychi}{\\chi^2_{\\mathrm{binary}}}$\n",
       "$\\newcommand{\\chisqimprove}{\\log_{10}(\\chi^2_{\\text{single}} / \\chi^2_{\\text{binary}})}$\n",
       "$\\newcommand{\\Gaia}{\\textit{Gaia}}$\n",
       "$\\newcommand{\\jd}[1]{\\textcolor{blue}{JD:~#1}}$\n",
       "$\\newcommand{\\gaia}{\\textsl{Gaia}}$</div>\n",
       "\n",
       "\n",
       "\n",
       "<div id=\"title\">\n",
       "\n",
       "# Millions of Main-Sequence Binary Stars from Gaia BP/RP Spectra\n",
       "\n",
       "</div>\n",
       "<div id=\"comments\">\n",
       "\n",
       "[![arXiv](https://img.shields.io/badge/arXiv-2507.09622-b31b1b.svg)](https://arxiv.org/abs/2507.09622)<mark>Appeared on: 2025-07-15</mark> -  _14 pages, 15 figures, submitted to A&A_\n",
       "\n",
       "</div>\n",
       "<div id=\"authors\">\n",
       "\n",
       "<mark>J. Li</mark>, et al. -- incl., <mark>H.-W. Rix</mark>, <mark>J. Müller-Horn</mark>, <mark>K. El-Badry</mark>, <mark>R. Seeburger</mark>, <mark>X. Zhang</mark>\n",
       "\n",
       "</div>\n",
       "<div id=\"abstract\">\n",
       "\n",
       "**Abstract:** We present an extensive catalog of likely main-sequence binary stars systems (MSMS), derived from Gaia Data Release 3 BP/RP (XP) spectra through the comparison of single- and binary-star model fits. Leveraging the large sample of low-resolution Gaia XP spectra, we use a neural network to build a forward modeling for spectral luminosities of single-stars, as a function of stellar mass and photometric metallicity. Applying this model to XP spctra, we find that this enables the identification of binaries with mass ratios between 0.5 and 1.0 and flux ratios $>0.1$ as \"poor\" fits to the data, either in spectral shape or flux normalization. From an initial sample of 35 million stars within 1 kpc, we identify 14 million possible binary candidates, and a high-confidence \"golden sample\" of 1 million binary systems. This large, homogeneous sample of SED-based binaries enables population studies of luminous MSMS binaries, and -- in conjunction with kinematic or astrometric probes -- permits to identify binaries with dark or dim companions, such as white dwarfs, neutron stars and black hole candidates, improving our understanding of compact object populations.\n",
       "\n",
       "</div>\n",
       "\n",
       "<div id=\"div_fig1\">\n",
       "\n",
       "<img src=\"tmp_2507.09622/./fig_msms/venn.png\" alt=\"Fig6\" width=\"100%\"/>\n",
       "\n",
       "**Figure 6. -** Venn diagram showing the hierarchical relationship between our sample selections.\n",
       "The parent sample consists of 35 million stars within 1 kpc from Gaia DR3.\n",
       "From this population, we identify 14 million binary candidates based on spectral model fitting criteria.\n",
       "The golden sample is identified through selection criteria in Table \\ref{tab:golden_sample}.\n",
       " (*fig:venn*)\n",
       "\n",
       "</div>\n",
       "<div id=\"div_fig2\">\n",
       "\n",
       "<img src=\"tmp_2507.09622/./fig_msms/compare_mmsnr50.png\" alt=\"Fig13\" width=\"100%\"/>\n",
       "\n",
       "**Figure 13. -** Validation of parameter recovery for the MSMS mock data. Top row: Comparison between true and inferred values for primary mass ($m_1$, left), $\\moh$([M/H], middle), and mass ratio ($q$, right).\n",
       "    The black dashed lines show the one-to-one relation, while blue points represent individual systems in our validation sample. Inset text shows the median bias and scatter for each parameter. Bottom row: Residuals (inferred minus true values) as a function of the true parameter values, highlighting the consistency of our parameter recovery across the full range of stellar properties.\n",
       "    Primary masses are recovered with high precision (scatter of 0.049 $M_\\odot$), while $\\moh$ show broader but still reliable recovery (scatter of 0.192 dex). Mass ratios are determined with good precision (scatter of 0.137) with a small positive bias (0.019) at low $q$ values because of the detection sensitivity limitations.\n",
       "    The hard limits in the right panel result from enforcing $q < 1$.\n",
       "     (*fig:compare_qfit*)\n",
       "\n",
       "</div>\n",
       "<div id=\"div_fig3\">\n",
       "\n",
       "<img src=\"tmp_2507.09622/./fig_msms/gnss_chi2_diff.png\" alt=\"Fig15.1\" width=\"33%\"/><img src=\"tmp_2507.09622/./fig_msms/apogee_chi2_diff.png\" alt=\"Fig15.2\" width=\"33%\"/><img src=\"tmp_2507.09622/./fig_msms/single_chi2_diff.png\" alt=\"Fig15.3\" width=\"33%\"/>\n",
       "\n",
       "**Figure 15. -** Distribution of the logarithmic $\\chi^2$ improvement, $\\log_{10}(\\chi^2_{\\text{single}} / \\chi^2_{\\text{binary}})$, showing the statistical evidence favouring binary over single-star spectral models.\n",
       "Left panel: Distributions for Gaia DR3 Non-Single Star (NSS) sources: systems with orbital solutions (blue), single-lined spectroscopic binaries (SB1/SB1C; orange), and double-lined spectroscopic binaries (SB2; green).\n",
       "Right panel: Distributions for specialized populations with likely dark companions: neutron star binaries  ([ and El-Badry 2024]()) (red) and white dwarf-main sequence binaries (WDMS)  ([Li, Ting and Rix 2025]()) (blue). The Gaia DR3 NSS SB2 sample (green dotted line) is shown for reference.\n",
       "Common elements in each panel: The distribution for all stars within 1 kpc (black dashed line) acts as a control representing the general population. A vertical dashed line marks 0.2 for reference. Higher values of the $\\chi^2$ improvement indicate stronger evidence for binarity; known binaries typically show significant positive values. (*fig:chi2_diff_gnss_dark*)\n",
       "\n",
       "</div><div id=\"qrcode\"><img src=https://api.qrserver.com/v1/create-qr-code/?size=100x100&data=\"https://arxiv.org/abs/2507.09622\"></div>"
      ],
      "text/plain": [
       "<IPython.core.display.Markdown object>"
      ]
     },
     "metadata": {},
     "output_type": "display_data"
    }
   ],
   "source": [
    "[display(Markdown(k[1])) for k in documents];"
   ]
  },
  {
   "cell_type": "markdown",
   "id": "873873a4",
   "metadata": {
    "papermill": {
     "duration": 0.006296,
     "end_time": "2025-07-15T04:33:37.128766",
     "exception": false,
     "start_time": "2025-07-15T04:33:37.122470",
     "status": "completed"
    },
    "tags": []
   },
   "source": [
    "# Create HTML index"
   ]
  },
  {
   "cell_type": "code",
   "execution_count": 10,
   "id": "cf665672",
   "metadata": {
    "execution": {
     "iopub.execute_input": "2025-07-15T04:33:37.142117Z",
     "iopub.status.busy": "2025-07-15T04:33:37.141871Z",
     "iopub.status.idle": "2025-07-15T04:33:37.149671Z",
     "shell.execute_reply": "2025-07-15T04:33:37.149114Z"
    },
    "papermill": {
     "duration": 0.015651,
     "end_time": "2025-07-15T04:33:37.150674",
     "exception": false,
     "start_time": "2025-07-15T04:33:37.135023",
     "status": "completed"
    },
    "tags": []
   },
   "outputs": [
    {
     "name": "stdout",
     "output_type": "stream",
     "text": [
      "141  publications files modified in the last 7 days.\n"
     ]
    }
   ],
   "source": [
    "from datetime import datetime, timedelta, timezone\n",
    "from glob import glob\n",
    "import os\n",
    "\n",
    "files = glob('_build/html/*.md')\n",
    "days = 7\n",
    "now = datetime.today()\n",
    "res = []\n",
    "for fk in files:\n",
    "    stat_result = os.stat(fk).st_ctime\n",
    "    modified = datetime.fromtimestamp(stat_result, tz=timezone.utc).replace(tzinfo=None)\n",
    "    delta = now.today() - modified\n",
    "    if delta <= timedelta(days=days):\n",
    "        res.append((delta.seconds, fk))\n",
    "res = [k[1] for k in reversed(sorted(res, key=lambda x:x[1]))]\n",
    "npub = len(res)\n",
    "print(len(res), f\" publications files modified in the last {days:d} days.\")\n",
    "# [ print('\\t', k) for k in res ];"
   ]
  },
  {
   "cell_type": "code",
   "execution_count": 11,
   "id": "015de740",
   "metadata": {
    "execution": {
     "iopub.execute_input": "2025-07-15T04:33:37.164491Z",
     "iopub.status.busy": "2025-07-15T04:33:37.164224Z",
     "iopub.status.idle": "2025-07-15T04:33:37.177012Z",
     "shell.execute_reply": "2025-07-15T04:33:37.176435Z"
    },
    "papermill": {
     "duration": 0.020893,
     "end_time": "2025-07-15T04:33:37.178063",
     "exception": false,
     "start_time": "2025-07-15T04:33:37.157170",
     "status": "completed"
    },
    "tags": []
   },
   "outputs": [
    {
     "name": "stdout",
     "output_type": "stream",
     "text": [
      "20  publications in the last 7 days.\n"
     ]
    }
   ],
   "source": [
    "import datetime\n",
    "from glob import glob\n",
    "\n",
    "def get_last_n_days(lst, days=1):\n",
    "    \"\"\" Get the documents from the last n days \"\"\"\n",
    "    sorted_lst = sorted(lst, key=lambda x: x[1], reverse=True)\n",
    "    for fname, date in sorted_lst:\n",
    "        if date >= str(datetime.date.today() - datetime.timedelta(days=days)):\n",
    "            yield fname\n",
    "\n",
    "def extract_appearance_dates(lst_file):\n",
    "    dates = []\n",
    "\n",
    "    def get_date(line):\n",
    "        return line\\\n",
    "            .split('Appeared on:')[-1]\\\n",
    "            .split('</mark>')[0].strip()\n",
    "\n",
    "    for fname in lst:\n",
    "        with open(fname, 'r') as f:\n",
    "            found_date = False\n",
    "            for line in f:\n",
    "                if not found_date:\n",
    "                    if \"Appeared on\" in line:\n",
    "                        found_date = True\n",
    "                        dates.append((fname, get_date(line)))\n",
    "                else:\n",
    "                    break\n",
    "    return dates\n",
    "\n",
    "from glob import glob\n",
    "lst = glob('_build/html/*md')\n",
    "days = 7\n",
    "dates = extract_appearance_dates(lst)\n",
    "res = list(get_last_n_days(dates, days))\n",
    "npub = len(res)\n",
    "print(len(res), f\" publications in the last {days:d} days.\")"
   ]
  },
  {
   "cell_type": "code",
   "execution_count": 12,
   "id": "52ca0208",
   "metadata": {
    "execution": {
     "iopub.execute_input": "2025-07-15T04:33:37.192215Z",
     "iopub.status.busy": "2025-07-15T04:33:37.191974Z",
     "iopub.status.idle": "2025-07-15T04:33:37.197188Z",
     "shell.execute_reply": "2025-07-15T04:33:37.196638Z"
    },
    "papermill": {
     "duration": 0.013444,
     "end_time": "2025-07-15T04:33:37.198202",
     "exception": false,
     "start_time": "2025-07-15T04:33:37.184758",
     "status": "completed"
    },
    "scrolled": false,
    "tags": []
   },
   "outputs": [],
   "source": [
    "def create_carousel(npub=4):\n",
    "    \"\"\" Generate the HTML code for a carousel with `npub` slides \"\"\"\n",
    "    carousel = [\"\"\"  <div class=\"carousel\" \"\"\",\n",
    "                \"\"\"       data-flickity='{ \"autoPlay\": 10000, \"adaptiveHeight\": true, \"resize\": true, \"wrapAround\": true, \"pauseAutoPlayOnHover\": true, \"groupCells\": 1 }' id=\"asyncTypeset\">\"\"\"\n",
    "                ]\n",
    "    \n",
    "    item_str = \"\"\"    <div class=\"carousel-cell\"> <div id=\"slide{k}\" class=\"md_view\">Content {k}</div> </div>\"\"\"\n",
    "    for k in range(1, npub + 1):\n",
    "        carousel.append(item_str.format(k=k))\n",
    "    carousel.append(\"  </div>\")\n",
    "    return '\\n'.join(carousel)\n",
    "\n",
    "def create_grid(npub=4):\n",
    "    \"\"\" Generate the HTML code for a flat grid with `npub` slides \"\"\"\n",
    "    grid = [\"\"\"  <div class=\"grid\"> \"\"\",\n",
    "                ]\n",
    "    \n",
    "    item_str = \"\"\"    <div class=\"grid-item\"> <div id=\"slide{k}\" class=\"md_view\">Content {k}</div> </div>\"\"\"\n",
    "    for k in range(1, npub + 1):\n",
    "        grid.append(item_str.format(k=k))\n",
    "    grid.append(\"  </div>\")\n",
    "    return '\\n'.join(grid)"
   ]
  },
  {
   "cell_type": "code",
   "execution_count": 13,
   "id": "a6eac5b6",
   "metadata": {
    "execution": {
     "iopub.execute_input": "2025-07-15T04:33:37.212634Z",
     "iopub.status.busy": "2025-07-15T04:33:37.212144Z",
     "iopub.status.idle": "2025-07-15T04:33:37.217197Z",
     "shell.execute_reply": "2025-07-15T04:33:37.216709Z"
    },
    "papermill": {
     "duration": 0.013248,
     "end_time": "2025-07-15T04:33:37.218210",
     "exception": false,
     "start_time": "2025-07-15T04:33:37.204962",
     "status": "completed"
    },
    "scrolled": false,
    "tags": []
   },
   "outputs": [],
   "source": [
    "carousel = create_carousel(npub)\n",
    "docs = ', '.join(['\"{0:s}\"'.format(k.split('/')[-1]) for k in res])\n",
    "slides = ', '.join([f'\"slide{k}\"' for k in range(1, npub + 1)])\n",
    "\n",
    "with open(\"daily_template.html\", \"r\") as tpl:\n",
    "    page = tpl.read()\n",
    "    page = page.replace(\"{%-- carousel:s --%}\", carousel)\\\n",
    "               .replace(\"{%-- suptitle:s --%}\",  \"7-day archives\" )\\\n",
    "               .replace(\"{%-- docs:s --%}\", docs)\\\n",
    "               .replace(\"{%-- slides:s --%}\", slides)\n",
    "    \n",
    "with open(\"_build/html/index_7days.html\", 'w') as fout:\n",
    "    fout.write(page)"
   ]
  },
  {
   "cell_type": "code",
   "execution_count": 14,
   "id": "adc1a1ec",
   "metadata": {
    "execution": {
     "iopub.execute_input": "2025-07-15T04:33:37.232350Z",
     "iopub.status.busy": "2025-07-15T04:33:37.232076Z",
     "iopub.status.idle": "2025-07-15T04:33:37.238509Z",
     "shell.execute_reply": "2025-07-15T04:33:37.237956Z"
    },
    "papermill": {
     "duration": 0.014565,
     "end_time": "2025-07-15T04:33:37.239508",
     "exception": false,
     "start_time": "2025-07-15T04:33:37.224943",
     "status": "completed"
    },
    "tags": []
   },
   "outputs": [
    {
     "name": "stdout",
     "output_type": "stream",
     "text": [
      "6  publications in the last day.\n"
     ]
    }
   ],
   "source": [
    "# redo for today\n",
    "days = 1\n",
    "res = list(get_last_n_days(dates, days))\n",
    "npub = len(res)\n",
    "print(len(res), f\" publications in the last day.\")\n",
    "\n",
    "carousel = create_carousel(npub)\n",
    "docs = ', '.join(['\"{0:s}\"'.format(k.split('/')[-1]) for k in res])\n",
    "slides = ', '.join([f'\"slide{k}\"' for k in range(1, npub + 1)])\n",
    "\n",
    "with open(\"daily_template.html\", \"r\") as tpl:\n",
    "    page = tpl.read()\n",
    "    page = page.replace(\"{%-- carousel:s --%}\", carousel)\\\n",
    "               .replace(\"{%-- suptitle:s --%}\",  \"Daily\" )\\\n",
    "               .replace(\"{%-- docs:s --%}\", docs)\\\n",
    "               .replace(\"{%-- slides:s --%}\", slides)\n",
    "    \n",
    "# print(carousel, docs, slides)\n",
    "# print(page)\n",
    "with open(\"_build/html/index_daily.html\", 'w') as fout:\n",
    "    fout.write(page)"
   ]
  },
  {
   "cell_type": "code",
   "execution_count": 15,
   "id": "00eece82",
   "metadata": {
    "execution": {
     "iopub.execute_input": "2025-07-15T04:33:37.254046Z",
     "iopub.status.busy": "2025-07-15T04:33:37.253539Z",
     "iopub.status.idle": "2025-07-15T04:33:37.260138Z",
     "shell.execute_reply": "2025-07-15T04:33:37.259491Z"
    },
    "papermill": {
     "duration": 0.014825,
     "end_time": "2025-07-15T04:33:37.261136",
     "exception": false,
     "start_time": "2025-07-15T04:33:37.246311",
     "status": "completed"
    },
    "scrolled": false,
    "tags": []
   },
   "outputs": [
    {
     "name": "stdout",
     "output_type": "stream",
     "text": [
      "6  6 publications selected.\n"
     ]
    }
   ],
   "source": [
    "# Create the flat grid of the last N papers (fixed number regardless of dates)\n",
    "from itertools import islice \n",
    "\n",
    "npub = 6\n",
    "res = [k[0] for k in (islice(reversed(sorted(dates, key=lambda x: x[1])), 6))]\n",
    "print(len(res), f\" {npub} publications selected.\")\n",
    "\n",
    "grid = create_grid(npub)\n",
    "docs = ', '.join(['\"{0:s}\"'.format(k.split('/')[-1]) for k in res])\n",
    "slides = ', '.join([f'\"slide{k}\"' for k in range(1, npub + 1)])\n",
    "\n",
    "with open(\"grid_template.html\", \"r\") as tpl:\n",
    "    page = tpl.read()\n",
    "    page = page.replace(\"{%-- grid-content:s --%}\", grid)\\\n",
    "               .replace(\"{%-- suptitle:s --%}\",  f\"Last {npub:,d} papers\" )\\\n",
    "               .replace(\"{%-- docs:s --%}\", docs)\\\n",
    "               .replace(\"{%-- slides:s --%}\", slides)\n",
    "    \n",
    "# print(grid, docs, slides)\n",
    "# print(page)\n",
    "with open(\"_build/html/index_npub_grid.html\", 'w') as fout:\n",
    "    fout.write(page)"
   ]
  }
 ],
 "metadata": {
  "kernelspec": {
   "display_name": "Python 3 (ipykernel)",
   "language": "python",
   "name": "python3"
  },
  "language_info": {
   "codemirror_mode": {
    "name": "ipython",
    "version": 3
   },
   "file_extension": ".py",
   "mimetype": "text/x-python",
   "name": "python",
   "nbconvert_exporter": "python",
   "pygments_lexer": "ipython3",
   "version": "3.9.23"
  },
  "papermill": {
   "default_parameters": {},
   "duration": 124.603232,
   "end_time": "2025-07-15T04:33:37.584294",
   "environment_variables": {},
   "exception": null,
   "input_path": "MPIA daily digest.ipynb",
   "output_path": "log.ipynb",
   "parameters": {},
   "start_time": "2025-07-15T04:31:32.981062",
   "version": "2.6.0"
  },
  "vscode": {
   "interpreter": {
    "hash": "aee8b7b246df8f9039afb4144a1f6fd8d2ca17a180786b69acc140d282b71a49"
   }
  },
  "widgets": {
   "application/vnd.jupyter.widget-state+json": {
    "state": {
     "07a34947c163487991a054aba612f891": {
      "model_module": "@jupyter-widgets/base",
      "model_module_version": "2.0.0",
      "model_name": "LayoutModel",
      "state": {
       "_model_module": "@jupyter-widgets/base",
       "_model_module_version": "2.0.0",
       "_model_name": "LayoutModel",
       "_view_count": null,
       "_view_module": "@jupyter-widgets/base",
       "_view_module_version": "2.0.0",
       "_view_name": "LayoutView",
       "align_content": null,
       "align_items": null,
       "align_self": null,
       "border_bottom": null,
       "border_left": null,
       "border_right": null,
       "border_top": null,
       "bottom": null,
       "display": null,
       "flex": null,
       "flex_flow": null,
       "grid_area": null,
       "grid_auto_columns": null,
       "grid_auto_flow": null,
       "grid_auto_rows": null,
       "grid_column": null,
       "grid_gap": null,
       "grid_row": null,
       "grid_template_areas": null,
       "grid_template_columns": null,
       "grid_template_rows": null,
       "height": null,
       "justify_content": null,
       "justify_items": null,
       "left": null,
       "margin": null,
       "max_height": null,
       "max_width": null,
       "min_height": null,
       "min_width": null,
       "object_fit": null,
       "object_position": null,
       "order": null,
       "overflow": null,
       "padding": null,
       "right": null,
       "top": null,
       "visibility": null,
       "width": null
      }
     },
     "09b542baa0b54f9c9a022a4778897c18": {
      "model_module": "@jupyter-widgets/controls",
      "model_module_version": "2.0.0",
      "model_name": "HTMLModel",
      "state": {
       "_dom_classes": [],
       "_model_module": "@jupyter-widgets/controls",
       "_model_module_version": "2.0.0",
       "_model_name": "HTMLModel",
       "_view_count": null,
       "_view_module": "@jupyter-widgets/controls",
       "_view_module_version": "2.0.0",
       "_view_name": "HTMLView",
       "description": "",
       "description_allow_html": false,
       "layout": "IPY_MODEL_6f750a45b03041a3b0735ff22df66035",
       "placeholder": "​",
       "style": "IPY_MODEL_7206cc5eb8444778b742d0229e4fef81",
       "tabbable": null,
       "tooltip": null,
       "value": "100%"
      }
     },
     "340a6773c161417abd8c13bb1e143e87": {
      "model_module": "@jupyter-widgets/base",
      "model_module_version": "2.0.0",
      "model_name": "LayoutModel",
      "state": {
       "_model_module": "@jupyter-widgets/base",
       "_model_module_version": "2.0.0",
       "_model_name": "LayoutModel",
       "_view_count": null,
       "_view_module": "@jupyter-widgets/base",
       "_view_module_version": "2.0.0",
       "_view_name": "LayoutView",
       "align_content": null,
       "align_items": null,
       "align_self": null,
       "border_bottom": null,
       "border_left": null,
       "border_right": null,
       "border_top": null,
       "bottom": null,
       "display": null,
       "flex": null,
       "flex_flow": null,
       "grid_area": null,
       "grid_auto_columns": null,
       "grid_auto_flow": null,
       "grid_auto_rows": null,
       "grid_column": null,
       "grid_gap": null,
       "grid_row": null,
       "grid_template_areas": null,
       "grid_template_columns": null,
       "grid_template_rows": null,
       "height": null,
       "justify_content": null,
       "justify_items": null,
       "left": null,
       "margin": null,
       "max_height": null,
       "max_width": null,
       "min_height": null,
       "min_width": null,
       "object_fit": null,
       "object_position": null,
       "order": null,
       "overflow": null,
       "padding": null,
       "right": null,
       "top": null,
       "visibility": null,
       "width": null
      }
     },
     "47f8baf551ba482bbadc3a4a38353f5b": {
      "model_module": "@jupyter-widgets/controls",
      "model_module_version": "2.0.0",
      "model_name": "ProgressStyleModel",
      "state": {
       "_model_module": "@jupyter-widgets/controls",
       "_model_module_version": "2.0.0",
       "_model_name": "ProgressStyleModel",
       "_view_count": null,
       "_view_module": "@jupyter-widgets/base",
       "_view_module_version": "2.0.0",
       "_view_name": "StyleView",
       "bar_color": null,
       "description_width": ""
      }
     },
     "56bcd7b4f2874c0ab8bbb034dc1e191c": {
      "model_module": "@jupyter-widgets/base",
      "model_module_version": "2.0.0",
      "model_name": "LayoutModel",
      "state": {
       "_model_module": "@jupyter-widgets/base",
       "_model_module_version": "2.0.0",
       "_model_name": "LayoutModel",
       "_view_count": null,
       "_view_module": "@jupyter-widgets/base",
       "_view_module_version": "2.0.0",
       "_view_name": "LayoutView",
       "align_content": null,
       "align_items": null,
       "align_self": null,
       "border_bottom": null,
       "border_left": null,
       "border_right": null,
       "border_top": null,
       "bottom": null,
       "display": null,
       "flex": null,
       "flex_flow": null,
       "grid_area": null,
       "grid_auto_columns": null,
       "grid_auto_flow": null,
       "grid_auto_rows": null,
       "grid_column": null,
       "grid_gap": null,
       "grid_row": null,
       "grid_template_areas": null,
       "grid_template_columns": null,
       "grid_template_rows": null,
       "height": null,
       "justify_content": null,
       "justify_items": null,
       "left": null,
       "margin": null,
       "max_height": null,
       "max_width": null,
       "min_height": null,
       "min_width": null,
       "object_fit": null,
       "object_position": null,
       "order": null,
       "overflow": null,
       "padding": null,
       "right": null,
       "top": null,
       "visibility": null,
       "width": null
      }
     },
     "682d4bf1cbbb4ef5ad29aa887180f320": {
      "model_module": "@jupyter-widgets/controls",
      "model_module_version": "2.0.0",
      "model_name": "FloatProgressModel",
      "state": {
       "_dom_classes": [],
       "_model_module": "@jupyter-widgets/controls",
       "_model_module_version": "2.0.0",
       "_model_name": "FloatProgressModel",
       "_view_count": null,
       "_view_module": "@jupyter-widgets/controls",
       "_view_module_version": "2.0.0",
       "_view_name": "ProgressView",
       "bar_style": "success",
       "description": "",
       "description_allow_html": false,
       "layout": "IPY_MODEL_340a6773c161417abd8c13bb1e143e87",
       "max": 11.0,
       "min": 0.0,
       "orientation": "horizontal",
       "style": "IPY_MODEL_47f8baf551ba482bbadc3a4a38353f5b",
       "tabbable": null,
       "tooltip": null,
       "value": 11.0
      }
     },
     "6f750a45b03041a3b0735ff22df66035": {
      "model_module": "@jupyter-widgets/base",
      "model_module_version": "2.0.0",
      "model_name": "LayoutModel",
      "state": {
       "_model_module": "@jupyter-widgets/base",
       "_model_module_version": "2.0.0",
       "_model_name": "LayoutModel",
       "_view_count": null,
       "_view_module": "@jupyter-widgets/base",
       "_view_module_version": "2.0.0",
       "_view_name": "LayoutView",
       "align_content": null,
       "align_items": null,
       "align_self": null,
       "border_bottom": null,
       "border_left": null,
       "border_right": null,
       "border_top": null,
       "bottom": null,
       "display": null,
       "flex": null,
       "flex_flow": null,
       "grid_area": null,
       "grid_auto_columns": null,
       "grid_auto_flow": null,
       "grid_auto_rows": null,
       "grid_column": null,
       "grid_gap": null,
       "grid_row": null,
       "grid_template_areas": null,
       "grid_template_columns": null,
       "grid_template_rows": null,
       "height": null,
       "justify_content": null,
       "justify_items": null,
       "left": null,
       "margin": null,
       "max_height": null,
       "max_width": null,
       "min_height": null,
       "min_width": null,
       "object_fit": null,
       "object_position": null,
       "order": null,
       "overflow": null,
       "padding": null,
       "right": null,
       "top": null,
       "visibility": null,
       "width": null
      }
     },
     "7206cc5eb8444778b742d0229e4fef81": {
      "model_module": "@jupyter-widgets/controls",
      "model_module_version": "2.0.0",
      "model_name": "HTMLStyleModel",
      "state": {
       "_model_module": "@jupyter-widgets/controls",
       "_model_module_version": "2.0.0",
       "_model_name": "HTMLStyleModel",
       "_view_count": null,
       "_view_module": "@jupyter-widgets/base",
       "_view_module_version": "2.0.0",
       "_view_name": "StyleView",
       "background": null,
       "description_width": "",
       "font_size": null,
       "text_color": null
      }
     },
     "d8ca96bf2c464c158a9b71a36ed052df": {
      "model_module": "@jupyter-widgets/controls",
      "model_module_version": "2.0.0",
      "model_name": "HBoxModel",
      "state": {
       "_dom_classes": [],
       "_model_module": "@jupyter-widgets/controls",
       "_model_module_version": "2.0.0",
       "_model_name": "HBoxModel",
       "_view_count": null,
       "_view_module": "@jupyter-widgets/controls",
       "_view_module_version": "2.0.0",
       "_view_name": "HBoxView",
       "box_style": "",
       "children": [
        "IPY_MODEL_09b542baa0b54f9c9a022a4778897c18",
        "IPY_MODEL_682d4bf1cbbb4ef5ad29aa887180f320",
        "IPY_MODEL_db7992b2ddf9441886e388bc37470fe7"
       ],
       "layout": "IPY_MODEL_07a34947c163487991a054aba612f891",
       "tabbable": null,
       "tooltip": null
      }
     },
     "db7992b2ddf9441886e388bc37470fe7": {
      "model_module": "@jupyter-widgets/controls",
      "model_module_version": "2.0.0",
      "model_name": "HTMLModel",
      "state": {
       "_dom_classes": [],
       "_model_module": "@jupyter-widgets/controls",
       "_model_module_version": "2.0.0",
       "_model_name": "HTMLModel",
       "_view_count": null,
       "_view_module": "@jupyter-widgets/controls",
       "_view_module_version": "2.0.0",
       "_view_name": "HTMLView",
       "description": "",
       "description_allow_html": false,
       "layout": "IPY_MODEL_56bcd7b4f2874c0ab8bbb034dc1e191c",
       "placeholder": "​",
       "style": "IPY_MODEL_e13bbc1b43e74754bafffc2e8d75a3ab",
       "tabbable": null,
       "tooltip": null,
       "value": " 11/11 [01:29&lt;00:00,  5.08s/it]"
      }
     },
     "e13bbc1b43e74754bafffc2e8d75a3ab": {
      "model_module": "@jupyter-widgets/controls",
      "model_module_version": "2.0.0",
      "model_name": "HTMLStyleModel",
      "state": {
       "_model_module": "@jupyter-widgets/controls",
       "_model_module_version": "2.0.0",
       "_model_name": "HTMLStyleModel",
       "_view_count": null,
       "_view_module": "@jupyter-widgets/base",
       "_view_module_version": "2.0.0",
       "_view_name": "StyleView",
       "background": null,
       "description_width": "",
       "font_size": null,
       "text_color": null
      }
     }
    },
    "version_major": 2,
    "version_minor": 0
   }
  }
 },
 "nbformat": 4,
 "nbformat_minor": 5
}