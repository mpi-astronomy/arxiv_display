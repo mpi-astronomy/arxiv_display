{
 "cells": [
  {
   "cell_type": "markdown",
   "id": "92bcb855",
   "metadata": {
    "papermill": {
     "duration": 0.004911,
     "end_time": "2022-09-06T05:22:30.240204",
     "exception": false,
     "start_time": "2022-09-06T05:22:30.235293",
     "status": "completed"
    },
    "tags": []
   },
   "source": [
    "# MPIA Arxiv on Deck 2\n",
    "\n",
    "Contains the steps to produce the paper extractions."
   ]
  },
  {
   "cell_type": "code",
   "execution_count": 1,
   "id": "3a0d6e11",
   "metadata": {
    "execution": {
     "iopub.execute_input": "2022-09-06T05:22:30.249961Z",
     "iopub.status.busy": "2022-09-06T05:22:30.249355Z",
     "iopub.status.idle": "2022-09-06T05:22:30.417463Z",
     "shell.execute_reply": "2022-09-06T05:22:30.416809Z"
    },
    "papermill": {
     "duration": 0.175223,
     "end_time": "2022-09-06T05:22:30.419606",
     "exception": false,
     "start_time": "2022-09-06T05:22:30.244383",
     "status": "completed"
    },
    "tags": []
   },
   "outputs": [],
   "source": [
    "# Imports\n",
    "import os\n",
    "from IPython.display import Markdown, display\n",
    "from tqdm.notebook import tqdm\n",
    "import warnings\n",
    "from PIL import Image \n",
    "\n",
    "# requires arxiv_on_deck_2\n",
    "\n",
    "from arxiv_on_deck_2.arxiv2 import (get_new_papers, \n",
    "                                    get_paper_from_identifier,\n",
    "                                    retrieve_document_source, \n",
    "                                    get_markdown_badge)\n",
    "from arxiv_on_deck_2 import (latex, \n",
    "                             mpia,\n",
    "                             highlight_authors_in_list)\n",
    "\n",
    "# Sometimes images are really big\n",
    "Image.MAX_IMAGE_PIXELS = 1000000000 "
   ]
  },
  {
   "cell_type": "code",
   "execution_count": 2,
   "id": "22aa9d44",
   "metadata": {
    "execution": {
     "iopub.execute_input": "2022-09-06T05:22:30.429096Z",
     "iopub.status.busy": "2022-09-06T05:22:30.428843Z",
     "iopub.status.idle": "2022-09-06T05:22:30.433646Z",
     "shell.execute_reply": "2022-09-06T05:22:30.433043Z"
    },
    "papermill": {
     "duration": 0.011506,
     "end_time": "2022-09-06T05:22:30.435248",
     "exception": false,
     "start_time": "2022-09-06T05:22:30.423742",
     "status": "completed"
    },
    "tags": []
   },
   "outputs": [],
   "source": [
    "# Some useful definitions.\n",
    "\n",
    "class AffiliationWarning(UserWarning):\n",
    "    pass\n",
    "\n",
    "class AffiliationError(RuntimeError):\n",
    "    pass\n",
    "\n",
    "def validation(source: str):\n",
    "    \"\"\"Raises error paper during parsing of source file\n",
    "    \n",
    "    Allows checks before parsing TeX code.\n",
    "    \n",
    "    Raises AffiliationWarning\n",
    "    \"\"\"\n",
    "    check = mpia.affiliation_verifications(source, verbose=True)\n",
    "    if check is not True:\n",
    "        raise AffiliationError(\"mpia.affiliation_verifications: \" + check)\n",
    "\n",
    "        \n",
    "warnings.simplefilter('always', AffiliationWarning)"
   ]
  },
  {
   "cell_type": "code",
   "execution_count": 3,
   "id": "14622700",
   "metadata": {
    "execution": {
     "iopub.execute_input": "2022-09-06T05:22:30.444200Z",
     "iopub.status.busy": "2022-09-06T05:22:30.443886Z",
     "iopub.status.idle": "2022-09-06T05:22:30.447550Z",
     "shell.execute_reply": "2022-09-06T05:22:30.446900Z"
    },
    "papermill": {
     "duration": 0.009916,
     "end_time": "2022-09-06T05:22:30.448998",
     "exception": false,
     "start_time": "2022-09-06T05:22:30.439082",
     "status": "completed"
    },
    "tags": []
   },
   "outputs": [],
   "source": [
    "# additional CSS to consider. \n",
    "# TODO: Current into each exported file. \n",
    "#       This should be set once into the webpages directly.\n",
    "#       With only the class/id definitions in the .md files.\n",
    "\n",
    "debug_html = \"\"\"\n",
    "<style>\n",
    "#wrap{ overflow:auto; }\n",
    "#fig1{ background:yellow; width:100%; float:left; padding:5px;  }\n",
    "#fig2{ background:red; width:50%; float:left; clear:left; padding:5px;  }\n",
    "#fig3{ background:green; width:50%; float:left; padding:5px;   }\n",
    ".macros{ background:yellow; visibility:visible;}\n",
    "h1 {margin: 0 0 0 0;}\n",
    "mark {background-color:#fff3b6;}\n",
    "img {object-fit:contain; max-height:250px; display:inline-block; text-align: center;}\n",
    "</style>\n",
    "\"\"\" \n",
    "html = \"\"\"\n",
    "<style>\n",
    "#wrap{ overflow:auto; }\n",
    "#fig1{ width:100%; float:left; padding: 5px;  }\n",
    "#fig2{ width:50%; float:left; clear:left; padding: 5px;  }\n",
    "#fig3{ width:50%; float:left; padding: 5px;  }\n",
    ".macros{ visibility:hidden; height:0px; }\n",
    "h1 {margin: 0em 0 0 0;}\n",
    "mark {background-color:#fff3b6;}\n",
    "img {object-fit:contain; max-height:250px; display:inline-block; text-align: center;}\n",
    "</style>\n",
    "\"\"\""
   ]
  },
  {
   "cell_type": "markdown",
   "id": "14bd6310",
   "metadata": {
    "papermill": {
     "duration": 0.00399,
     "end_time": "2022-09-06T05:22:30.456842",
     "exception": false,
     "start_time": "2022-09-06T05:22:30.452852",
     "status": "completed"
    },
    "tags": []
   },
   "source": [
    "## get list of arxiv paper candidates\n",
    "\n",
    "We use the MPIA mitarbeiter list webpage from mpia.de to get author names\n",
    "We then get all new papers from Arxiv and match authors"
   ]
  },
  {
   "cell_type": "code",
   "execution_count": 4,
   "id": "2645e73a",
   "metadata": {
    "execution": {
     "iopub.execute_input": "2022-09-06T05:22:30.467149Z",
     "iopub.status.busy": "2022-09-06T05:22:30.466711Z",
     "iopub.status.idle": "2022-09-06T05:22:52.527246Z",
     "shell.execute_reply": "2022-09-06T05:22:52.525786Z"
    },
    "papermill": {
     "duration": 22.06698,
     "end_time": "2022-09-06T05:22:52.529008",
     "exception": false,
     "start_time": "2022-09-06T05:22:30.462028",
     "status": "completed"
    },
    "tags": []
   },
   "outputs": [
    {
     "name": "stdout",
     "output_type": "stream",
     "text": [
      "Arxiv has 43 new papers today\n",
      "          15 with possible author matches\n"
     ]
    }
   ],
   "source": [
    "# get list from MPIA website\n",
    "# it automatically filters identified non-scientists :func:`mpia.filter_non_scientists`\n",
    "mpia_authors = mpia.get_mpia_mitarbeiter_list()\n",
    "new_papers = get_new_papers()\n",
    "# add manual references\n",
    "add_paper_refs = []\n",
    "new_papers.extend([get_paper_from_identifier(k) for k in add_paper_refs])\n",
    "\n",
    "# select only papers with matching author names and highlight authors\n",
    "hl_list = [k[0] for k in mpia_authors]\n",
    "\n",
    "candidates = []\n",
    "for paperk in new_papers:\n",
    "    hl_authors = highlight_authors_in_list(paperk['authors'], hl_list)\n",
    "    matches = [(hl, orig) for hl, orig in zip(hl_authors, paperk['authors']) if 'mark' in hl]\n",
    "    paperk['authors'] = hl_authors\n",
    "    if matches:\n",
    "        candidates.append(paperk)\n",
    "print(\"\"\"Arxiv has {0:,d} new papers today\"\"\".format(len(new_papers)))        \n",
    "print(\"\"\"          {0:,d} with possible author matches\"\"\".format(len(candidates)))"
   ]
  },
  {
   "cell_type": "markdown",
   "id": "3543b34a",
   "metadata": {
    "papermill": {
     "duration": 0.004295,
     "end_time": "2022-09-06T05:22:52.537665",
     "exception": false,
     "start_time": "2022-09-06T05:22:52.533370",
     "status": "completed"
    },
    "tags": []
   },
   "source": [
    "# Parse sources and generate relevant outputs\n",
    "\n",
    "From the candidates, we do the following steps:\n",
    "* get their tarball from ArXiv (and extract data)\n",
    "* find the main .tex file: find one with \\documentclass{...} (sometimes it's non trivial)\n",
    "* Check affiliations with :func:`validation`, which uses :func:`mpia.affiliation_verifications`\n",
    "* If passing the affiliations: we parse the .tex source\n",
    "   * inject sub-documents into the main (flatten the main document)\n",
    "   * parse structure, extract information (title, abstract, authors, figures...)\n",
    "   * handles `\\graphicspath` if provided\n",
    "* Generate the .md document."
   ]
  },
  {
   "cell_type": "code",
   "execution_count": 5,
   "id": "9576b79e",
   "metadata": {
    "execution": {
     "iopub.execute_input": "2022-09-06T05:22:52.547246Z",
     "iopub.status.busy": "2022-09-06T05:22:52.546584Z",
     "iopub.status.idle": "2022-09-06T05:24:31.321759Z",
     "shell.execute_reply": "2022-09-06T05:24:31.321129Z"
    },
    "papermill": {
     "duration": 98.781507,
     "end_time": "2022-09-06T05:24:31.323107",
     "exception": false,
     "start_time": "2022-09-06T05:22:52.541600",
     "status": "completed"
    },
    "scrolled": false,
    "tags": []
   },
   "outputs": [
    {
     "data": {
      "application/vnd.jupyter.widget-view+json": {
       "model_id": "483c02f91d72424e8086a1acdbe746f6",
       "version_major": 2,
       "version_minor": 0
      },
      "text/plain": [
       "  0%|          | 0/14 [00:00<?, ?it/s]"
      ]
     },
     "metadata": {},
     "output_type": "display_data"
    },
    {
     "name": "stdout",
     "output_type": "stream",
     "text": [
      "Retrieving document from  https://arxiv.org/e-print/2209.00669\n"
     ]
    },
    {
     "name": "stdout",
     "output_type": "stream",
     "text": [
      "extracting tarball to tmp_2209.00669..."
     ]
    },
    {
     "name": "stdout",
     "output_type": "stream",
     "text": [
      " done.\n",
      "Retrieving document from  https://arxiv.org/e-print/2209.00759\n"
     ]
    },
    {
     "name": "stderr",
     "output_type": "stream",
     "text": [
      "/opt/hostedtoolcache/Python/3.9.13/x64/lib/python3.9/site-packages/IPython/core/interactiveshell.py:3398: LatexWarning: Multiple tex files.\n",
      "\n",
      "  exec(code_obj, self.user_global_ns, self.user_ns)\n",
      "/opt/hostedtoolcache/Python/3.9.13/x64/lib/python3.9/site-packages/IPython/core/interactiveshell.py:3398: LatexWarning: Found documentclass in tmp_2209.00669/natbib.tex\n",
      "\n",
      "  exec(code_obj, self.user_global_ns, self.user_ns)\n"
     ]
    },
    {
     "name": "stdout",
     "output_type": "stream",
     "text": [
      "extracting tarball to tmp_2209.00759..."
     ]
    },
    {
     "name": "stdout",
     "output_type": "stream",
     "text": [
      " done.\n",
      "Retrieving document from  https://arxiv.org/e-print/2209.00761\n"
     ]
    },
    {
     "name": "stderr",
     "output_type": "stream",
     "text": [
      "/opt/hostedtoolcache/Python/3.9.13/x64/lib/python3.9/site-packages/IPython/core/interactiveshell.py:3398: LatexWarning: Multiple tex files.\n",
      "\n",
      "  exec(code_obj, self.user_global_ns, self.user_ns)\n",
      "/opt/hostedtoolcache/Python/3.9.13/x64/lib/python3.9/site-packages/IPython/core/interactiveshell.py:3398: LatexWarning: Found documentclass in tmp_2209.00759/natbib.tex\n",
      "\n",
      "  exec(code_obj, self.user_global_ns, self.user_ns)\n"
     ]
    },
    {
     "name": "stdout",
     "output_type": "stream",
     "text": [
      "extracting tarball to tmp_2209.00761... done.\n",
      "Retrieving document from  https://arxiv.org/e-print/2209.00764\n"
     ]
    },
    {
     "name": "stdout",
     "output_type": "stream",
     "text": [
      "extracting tarball to tmp_2209.00764..."
     ]
    },
    {
     "name": "stdout",
     "output_type": "stream",
     "text": [
      " done.\n",
      "Retrieving document from  https://arxiv.org/e-print/2209.00765\n"
     ]
    },
    {
     "name": "stdout",
     "output_type": "stream",
     "text": [
      "extracting tarball to tmp_2209.00765..."
     ]
    },
    {
     "name": "stdout",
     "output_type": "stream",
     "text": [
      " done.\n",
      "Retrieving document from  https://arxiv.org/e-print/2209.00828\n"
     ]
    },
    {
     "name": "stdout",
     "output_type": "stream",
     "text": [
      "extracting tarball to tmp_2209.00828..."
     ]
    },
    {
     "name": "stdout",
     "output_type": "stream",
     "text": [
      " done.\n"
     ]
    },
    {
     "name": "stderr",
     "output_type": "stream",
     "text": [
      "/opt/hostedtoolcache/Python/3.9.13/x64/lib/python3.9/site-packages/arxiv_on_deck_2/latex.py:118: LatexWarning: attempting recovering figure graphics/AMRF_model_part2\n",
      "  warnings.warn(LatexWarning(f'attempting recovering figure {image}'))\n"
     ]
    },
    {
     "name": "stdout",
     "output_type": "stream",
     "text": [
      "Retrieving document from  https://arxiv.org/e-print/2209.00856\n"
     ]
    },
    {
     "name": "stdout",
     "output_type": "stream",
     "text": [
      "extracting tarball to tmp_2209.00856..."
     ]
    },
    {
     "name": "stdout",
     "output_type": "stream",
     "text": [
      " done.\n",
      "Retrieving document from  https://arxiv.org/e-print/2209.00902\n"
     ]
    },
    {
     "name": "stdout",
     "output_type": "stream",
     "text": [
      "extracting tarball to tmp_2209.00902..."
     ]
    },
    {
     "name": "stdout",
     "output_type": "stream",
     "text": [
      " done.\n",
      "Retrieving document from  https://arxiv.org/e-print/2209.00970\n"
     ]
    },
    {
     "name": "stdout",
     "output_type": "stream",
     "text": [
      "extracting tarball to tmp_2209.00970... done.\n",
      "Retrieving document from  https://arxiv.org/e-print/2209.00971\n"
     ]
    },
    {
     "name": "stdout",
     "output_type": "stream",
     "text": [
      "extracting tarball to tmp_2209.00971..."
     ]
    },
    {
     "name": "stdout",
     "output_type": "stream",
     "text": [
      " done.\n",
      "Retrieving document from  https://arxiv.org/e-print/2209.01040\n"
     ]
    },
    {
     "name": "stdout",
     "output_type": "stream",
     "text": [
      "extracting tarball to tmp_2209.01040..."
     ]
    },
    {
     "name": "stdout",
     "output_type": "stream",
     "text": [
      " done.\n",
      "Retrieving document from  https://arxiv.org/e-print/2209.01125\n"
     ]
    },
    {
     "name": "stdout",
     "output_type": "stream",
     "text": [
      "extracting tarball to tmp_2209.01125..."
     ]
    },
    {
     "name": "stdout",
     "output_type": "stream",
     "text": [
      " done.\n"
     ]
    },
    {
     "name": "stdout",
     "output_type": "stream",
     "text": [
      "Retrieving document from  https://arxiv.org/e-print/2209.01145\n"
     ]
    },
    {
     "name": "stdout",
     "output_type": "stream",
     "text": [
      "extracting tarball to tmp_2209.01145..."
     ]
    },
    {
     "name": "stdout",
     "output_type": "stream",
     "text": [
      " done.\n",
      "Retrieving document from  https://arxiv.org/e-print/2209.01166\n"
     ]
    },
    {
     "name": "stderr",
     "output_type": "stream",
     "text": [
      "/opt/hostedtoolcache/Python/3.9.13/x64/lib/python3.9/site-packages/arxiv_on_deck_2/latex.py:292: LatexWarning: Latex injecting: 'main.bbl' from 'tmp_2209.01145/main.tex'\n",
      "  warnings.warn(LatexWarning(f\"Latex injecting: '{ext}' from '{subsource}'\"))\n"
     ]
    },
    {
     "name": "stdout",
     "output_type": "stream",
     "text": [
      "extracting tarball to tmp_2209.01166..."
     ]
    },
    {
     "name": "stdout",
     "output_type": "stream",
     "text": [
      " done.\n"
     ]
    },
    {
     "name": "stderr",
     "output_type": "stream",
     "text": [
      "/opt/hostedtoolcache/Python/3.9.13/x64/lib/python3.9/site-packages/arxiv_on_deck_2/latex.py:292: LatexWarning: Latex injecting: 'main.bbl' from 'tmp_2209.01166/main.tex'\n",
      "  warnings.warn(LatexWarning(f\"Latex injecting: '{ext}' from '{subsource}'\"))\n"
     ]
    }
   ],
   "source": [
    "documents = []\n",
    "failed = []\n",
    "for paper in tqdm(candidates[:-1]):\n",
    "    paper_id = paper['identifier'].lower().replace('arxiv:', '')\n",
    "    \n",
    "    folder = f'tmp_{paper_id}'\n",
    "\n",
    "    try:\n",
    "        if not os.path.isdir(folder):\n",
    "            folder = retrieve_document_source(f\"{paper_id}\", f'tmp_{paper_id}')\n",
    "        \n",
    "        try:\n",
    "            doc = latex.LatexDocument(folder, validation=validation)    \n",
    "        except AffiliationError as affilerror:\n",
    "            msg = f\"ArXiv:{paper_id:s} is not an MPIA paper... \" + str(affilerror)\n",
    "            failed.append((paper, \"affiliation error: \" + str(affilerror) ))\n",
    "            continue\n",
    "        \n",
    "        # Hack because sometimes author parsing does not work well\n",
    "        if (len(doc.authors) != len(paper['authors'])):\n",
    "            doc._authors = paper['authors']\n",
    "        if (doc.abstract) in (None, ''):\n",
    "            doc._abstract = paper['abstract']\n",
    "            \n",
    "        doc.comment = (get_markdown_badge(paper_id) + \n",
    "                       \"<mark>Appeared on: \" + paper['date'] + \"</mark> - \" +\n",
    "                       \"_\" + paper['comments'] + \"_\")\n",
    "        doc.highlight_authors_in_list(hl_list)\n",
    "\n",
    "        full_md = doc.generate_markdown_text()\n",
    "        \n",
    "        documents.append((paper_id, full_md))\n",
    "    except Exception as e:\n",
    "        warnings.warn(latex.LatexWarning(f\"{paper_id:s} did not run properly\\n\" +\n",
    "                                         str(e)\n",
    "                                        ))\n",
    "        failed.append((paper, \"latex error \" + str(e)))"
   ]
  },
  {
   "cell_type": "markdown",
   "id": "2505a25c",
   "metadata": {
    "papermill": {
     "duration": 0.005861,
     "end_time": "2022-09-06T05:24:31.334982",
     "exception": false,
     "start_time": "2022-09-06T05:24:31.329121",
     "status": "completed"
    },
    "tags": []
   },
   "source": [
    "### Export the logs\n",
    "\n",
    "Throughout, we also keep track of the logs per paper. see `logs-{today date}.md` "
   ]
  },
  {
   "cell_type": "code",
   "execution_count": 6,
   "id": "d733828a",
   "metadata": {
    "execution": {
     "iopub.execute_input": "2022-09-06T05:24:31.348459Z",
     "iopub.status.busy": "2022-09-06T05:24:31.347677Z",
     "iopub.status.idle": "2022-09-06T05:24:31.370749Z",
     "shell.execute_reply": "2022-09-06T05:24:31.369930Z"
    },
    "papermill": {
     "duration": 0.031669,
     "end_time": "2022-09-06T05:24:31.372331",
     "exception": false,
     "start_time": "2022-09-06T05:24:31.340662",
     "status": "completed"
    },
    "scrolled": false,
    "tags": []
   },
   "outputs": [
    {
     "data": {
      "text/markdown": [
       "## Successful papers"
      ],
      "text/plain": [
       "<IPython.core.display.Markdown object>"
      ]
     },
     "metadata": {},
     "output_type": "display_data"
    },
    {
     "data": {
      "text/markdown": [
       "\n",
       "|||\n",
       "|---:|:---|\n",
       "| [![arXiv](https://img.shields.io/badge/arXiv-arXiv:2209.00828-b31b1b.svg)](https://arxiv.org/abs/arXiv:2209.00828) | **Triage of the Gaia astrometric orbits. I. A sample of binaries with  probable compact companions**  |\n",
       "|| Sahar Shahaf, et al. -- incl., <mark>Hans-Walter Rix</mark> |\n",
       "|*Appeared on*| *2022-09-05*|\n",
       "|*Comments*| *Submitted to MNRAS; 12 pages, 13 figures*|\n",
       "|**Abstract**| In preparation for the release of the astrometric orbits of Gaia, Shahaf et al. (2019) proposed a triage technique to identify astrometric binaries with compact companions based on their astrometric semi-major axis, parallax, and primary mass. The technique requires the knowledge of the appropriate mass-luminosity relation to rule out single or close-binary main-sequence companions. The recent publication of the Gaia DR3 astrometric orbits used a schematic version of this approach, identifying 735 astrometric binaries that might have compact companions. In this communication, we return to the triage of the DR3 astrometric binaries with more careful analysis, estimating the probability for its astrometric secondary to be a compact object or a main-sequence close binary. We compile a sample of 177 systems with highly-probable non-luminous massive companions, which is smaller but cleaner than the sample reported in Gaia DR3. The new sample includes 8 candidates to be black-hole systems with compact-object masses larger than 2.4 $M_\\odot$. The orbital-eccentricity$-$secondary-mass diagram of the other 169 systems suggests a tentative separation between the white-dwarf and the neutron-star binaries. Most white-dwarf binaries are characterized by small eccentricities of about 0.1 and masses of 0.6 $M_\\odot$, while the neutron star binaries display typical eccentricities of 0.4 and masses of 1.3 $M_\\odot$. |"
      ],
      "text/plain": [
       "[arXiv:2209.00828] Triage of the Gaia astrometric orbits. I. A sample of binaries with  probable compact companions\n",
       "\tSahar Shahaf, et al. -- incl., <mark>Hans-Walter Rix</mark>"
      ]
     },
     "metadata": {},
     "output_type": "display_data"
    },
    {
     "data": {
      "text/markdown": [
       "\n",
       "|||\n",
       "|---:|:---|\n",
       "| [![arXiv](https://img.shields.io/badge/arXiv-arXiv:2209.01125-b31b1b.svg)](https://arxiv.org/abs/arXiv:2209.01125) | **RVSPY -- Radial Velocity Survey for Planets around Young Stars. Target  characterization and high-cadence survey**  |\n",
       "|| <mark>O. Zakhozhay</mark>, et al. -- incl., <mark>R. Launhardt</mark>, <mark>A. Mueller</mark>, <mark>A. Hempel</mark>, <mark>M. Hempel</mark>, <mark>Th. Henning</mark>, <mark>M. Kuerster</mark>, <mark>A. Pavlov</mark>, <mark>T. Trifonov</mark> |\n",
       "|*Appeared on*| *2022-09-05*|\n",
       "|*Comments*| *24 pages, 14 figures, 4 tables; Accepted for publication in A&A*|\n",
       "|**Abstract**| We introduce our Radial Velocity Survey for Planets around Young stars (RVSPY), characterise our target stars, and search for substellar companions at orbital separations smaller than a few au from the host star. We use the FEROS spectrograph to obtain high signal-to-noise spectra and time series of precise radial velocities (RVs) of 111 stars most of which are surrounded by debris discs. Our target stars have spectral types between early F and late K, a median age of 400 Myr, and a median distance of 45 pc. We determine for all target stars their basic stellar parameters and present the results of the high-cadence RV survey and activity characterization. We achieve a median single-measurement RV precision of 6 m/s and derive the short-term intrinsic RV scatter of our targets (median 22 m/s), which is mostly caused by stellar activity and decays with age from >100 m/s at <20 Myr to <20 m/s at >500 Myr. We discover six previously unknown close companions with orbital periods between 10 and 100 days, three of which are low-mass stars, and three are in the brown dwarf mass regime. We detect no hot companion with an orbital period <10 days down to a median mass limit of ~1 M_Jup for stars younger than 500 Myr, which is still compatible with the established occurrence rate of such companions around main-sequence stars. We find significant RV periodicities between 1.3 and 4.5 days for 14 stars, which are, however, all caused by rotational modulation due to starspots. We also analyse the TESS photometric time series data and find significant periodicities for most of the stars. For 11 stars, the photometric periods are also clearly detected in the RV data. We also derive stellar rotation periods ranging from 1 to 10 days for 91 stars, mostly from TESS data. From the intrinsic activity-related short-term RV jitter, we derive the expected mass-detection thresholds for longer-period companions. |"
      ],
      "text/plain": [
       "[arXiv:2209.01125] RVSPY -- Radial Velocity Survey for Planets around Young Stars. Target  characterization and high-cadence survey\n",
       "\t<mark>O. Zakhozhay</mark>, et al. -- incl., <mark>R. Launhardt</mark>, <mark>A. Mueller</mark>, <mark>A. Hempel</mark>, <mark>M. Hempel</mark>, <mark>Th. Henning</mark>, <mark>M. Kuerster</mark>, <mark>A. Pavlov</mark>, <mark>T. Trifonov</mark>"
      ]
     },
     "metadata": {},
     "output_type": "display_data"
    },
    {
     "data": {
      "text/markdown": [
       "## Failed papers"
      ],
      "text/plain": [
       "<IPython.core.display.Markdown object>"
      ]
     },
     "metadata": {},
     "output_type": "display_data"
    },
    {
     "data": {
      "text/markdown": [
       "\n",
       "|||\n",
       "|---:|:---|\n",
       "| [![arXiv](https://img.shields.io/badge/arXiv-arXiv:2209.01145-b31b1b.svg)](https://arxiv.org/abs/arXiv:2209.01145) | **Optimisation of the WEAVE target assignment algorithm**  |\n",
       "|| <mark>Sarah Hughes</mark>, et al. -- incl., <mark>Daniel Smith</mark>, <mark>Ian Lewis</mark> |\n",
       "|*Appeared on*| *2022-09-05*|\n",
       "|*Comments*| *19 pages, 17 figures*|\n",
       "|**Abstract**| WEAVE is the new wide-field spectroscopic facility for the prime focus of the William Herschel Telescope in La Palma, Spain. Its fibre positioner is essential for the accurate placement of the spectrograph's ~960-fibre multiplex. To maximise the assignment of its optical fibres, WEAVE uses a simulated annealing algorithm called Configure, which allocates the fibres to targets in the field of view. We have conducted an analysis of the algorithm's behaviour using a subset of mid-tier WEAVE-LOFAR fields, and adjusted the priority assignment algorithm to optimise the total fibres assigned per field, and the assignment of fibres to the higher priority science targets. The output distributions have been examined, to investigate the implications for the WEAVE science teams. |\n",
       "|<p style=\"color:green\"> **ERROR** </p>| <p style=\"color:green\">affiliation error: mpia.affiliation_verifications: '69117' keyword not found.</p> |"
      ],
      "text/plain": [
       "<IPython.core.display.Markdown object>"
      ]
     },
     "metadata": {},
     "output_type": "display_data"
    },
    {
     "data": {
      "text/markdown": [
       "\n",
       "|||\n",
       "|---:|:---|\n",
       "| [![arXiv](https://img.shields.io/badge/arXiv-arXiv:2209.01166-b31b1b.svg)](https://arxiv.org/abs/arXiv:2209.01166) | **Calibration at elevation of the WEAVE fibre positioner**  |\n",
       "|| <mark>Sarah Hughes</mark>, et al. -- incl., <mark>Ian Lewis</mark> |\n",
       "|*Appeared on*| *2022-09-05*|\n",
       "|*Comments*| *16 pages, 16 figures*|\n",
       "|**Abstract**| WEAVE is the new wide-field spectroscopy facility for the prime focus of the William Herschel Telescope in La Palma, Spain. Its fibre positioner is essential for the accurate placement of the spectrograph's 960 fibre multiplex. We provide an overview of the recent maintenance, flexure modifications, and calibration measurements conducted at the observatory prior to the final top-end assembly. This work ensures that we have a complete understanding of the positioner's behaviour as it changes orientation during observations. All fibre systems have been inspected and repaired, and the tumbler structure contains new clamps to stiffen both the internal beam and the retractor support disk onto which the field plates attach. We present the updated metrology procedures and results that will be verified on-sky. |\n",
       "|<p style=\"color:green\"> **ERROR** </p>| <p style=\"color:green\">affiliation error: mpia.affiliation_verifications: '69117' keyword not found.</p> |"
      ],
      "text/plain": [
       "<IPython.core.display.Markdown object>"
      ]
     },
     "metadata": {},
     "output_type": "display_data"
    },
    {
     "data": {
      "text/markdown": [
       "\n",
       "|||\n",
       "|---:|:---|\n",
       "| [![arXiv](https://img.shields.io/badge/arXiv-arXiv:2209.00669-b31b1b.svg)](https://arxiv.org/abs/arXiv:2209.00669) | **ARMADA II: Further Detections of Inner Companions to Intermediate Mass  Binaries with Micro-Arcsecond Astrometry at CHARA and VLTI**  |\n",
       "|| Tyler Gardner, et al. -- incl., <mark>Claire L. Davies</mark> |\n",
       "|*Appeared on*| *2022-09-05*|\n",
       "|*Comments*| *25 pages, 14 figures, accepted for publication in AJ*|\n",
       "|**Abstract**| We started a survey with CHARA/MIRC-X and VLTI/GRAVITY to search for low mass companions orbiting individual components of intermediate mass binary systems. With the incredible precision of these instruments, we can detect astrometric \"wobbles\" from companions down to a few tens of micro-arcseconds. This allows us to detect any previously unseen triple systems in our list of binaries. We present the orbits of 12 companions around early F to B-type binaries, 9 of which are new detections and 3 of which are first astrometric detections of known RV companions. The masses of these newly detected components range from 0.45-1.3 solar masses. Our orbits constrain these systems to a high astrometric precision, with median residuals to the orbital fit of 20-50 micro-arcseconds in most cases. For 7 of these systems we include newly obtained radial velocity data, which help us to identify the system configuration and to solve for masses of individual components in some cases. Although additional RV measurements are needed to break degeneracy in the mutual inclination, we find that the majority of these inner triples are not well-aligned with the wide binary orbit. This hints that higher mass triples are more misaligned compared to solar and lower mass triples, though a thorough study of survey biases is needed. We show that the ARMADA survey is extremely successful at uncovering previously unseen companions in binaries. This method will be used in upcoming papers to constrain companion demographics in intermediate mass binary systems down to the planetary mass regime. |\n",
       "|<p style=\"color:green\"> **ERROR** </p>| <p style=\"color:green\">affiliation error: mpia.affiliation_verifications: 'Heidelberg' keyword not found.</p> |"
      ],
      "text/plain": [
       "<IPython.core.display.Markdown object>"
      ]
     },
     "metadata": {},
     "output_type": "display_data"
    },
    {
     "data": {
      "text/markdown": [
       "\n",
       "|||\n",
       "|---:|:---|\n",
       "| [![arXiv](https://img.shields.io/badge/arXiv-arXiv:2209.00759-b31b1b.svg)](https://arxiv.org/abs/arXiv:2209.00759) | **Discovery of a brown dwarf with quasi-spherical mass-loss**  |\n",
       "|| Dary A. Ruíz-Rodríguez, et al. -- incl., <mark>Jonathan P. Williams</mark> |\n",
       "|*Appeared on*| *2022-09-05*|\n",
       "|*Comments*| *27 pages, 20 Figures. Accepted ApJ*|\n",
       "|**Abstract**| We report the serendipitous discovery of an elliptical shell of CO associated with the faint stellar object SSTc2d J163134.1-24006 as part of the \"Ophiuchus Disk Survey Employing ALMA\" (ODISEA), a project aiming to study the entire population of protoplanetary disks in the Ophiuchus Molecular Cloud from 230 GHz continuum emission and $^{12}$CO (J=2-1), $^{13}$CO (J=2-1) and C$^{18}$CO (J=2-1) lines readable in Band-6. Remarkably, we detect a bright $^{12}$CO elliptical shape emission of $\\sim$ 3$^{\"}$ $\\times$ 4$^{\"}$ towards SSTc2d J163134.1-24006 without a 230 GHz continuum detection. Based on the observed near-IR spectrum taken with the Very Large Telescope (KMOS), the brightness of the source, its 3-dimensional motion, and Galactic dynamic arguments, we conclude that the source is not a giant star in the distant background ($>$5 - 10 kpc) and is most likely to be a young brown dwarf in the Ophiuchus cloud, at a distance of just $\\sim$139 pc. This is the first report of quasi-spherical mass loss in a young brown dwarf. We suggest that the observed shell could be associated with a thermal pulse produced by the fusion of deuterium, which is not yet well understood, but for a sub-stellar object is expected to occur during a short period of time at an age of a few Myr, in agreement with the ages of the objects in the region. Other more exotic scenarios, such as a merger with planetary companions, cannot be ruled out from the current observations. |\n",
       "|<p style=\"color:green\"> **ERROR** </p>| <p style=\"color:green\">affiliation error: mpia.affiliation_verifications: 'Heidelberg' keyword not found.</p> |"
      ],
      "text/plain": [
       "<IPython.core.display.Markdown object>"
      ]
     },
     "metadata": {},
     "output_type": "display_data"
    },
    {
     "data": {
      "text/markdown": [
       "\n",
       "|||\n",
       "|---:|:---|\n",
       "| [![arXiv](https://img.shields.io/badge/arXiv-arXiv:2209.00761-b31b1b.svg)](https://arxiv.org/abs/arXiv:2209.00761) | **Sub-percentage measure of distances to redshift of 0.1 by a new cosmic  ruler**  |\n",
       "|| Yong Shi, et al. -- incl., <mark>Zhi-Yu Zhang</mark> |\n",
       "|*Appeared on*| *2022-09-05*|\n",
       "|*Comments*| *8 pages, 5 figures, MNRAS in press. The cosmoSIS modules for the massE ruler is at this https URL*|\n",
       "|**Abstract**| Distance-redshift diagrams probe expansion history of the Universe. We show that the stellar mass-binding energy (massE) relation of galaxies proposed in our previous study offers a new distance ruler at cosmic scales. By using elliptical galaxies in the main galaxy sample of the Sloan Digital Sky Survey Data Release 7, we construct a distance-redshift diagram over the redshift range from 0.05 to 0.2 with the massE ruler. The best-fit dark energy density is 0.675+-0.079 for flat Lambda-CDM, consistent with those by other probes. At the median redshift of 0.11, the median distance is estimated to have a fractional error of 0.34%, much lower than those by supernova (SN) Ia and baryonic acoustic oscillation (BAO) and even exceeding their future capability at this redshift. The above low-z measurement is useful for probing dark energy that dominates at the late Universe. For a flat dark energy equation of state model (flat wCDM), the massE alone constrains w to an error that is only a factor of 2.2, 1.7 and 1.3 times larger than those by BAO, SN Ia, and cosmic microwave background (CMB), respectively. |\n",
       "|<p style=\"color:green\"> **ERROR** </p>| <p style=\"color:green\">affiliation error: mpia.affiliation_verifications: 'Heidelberg' keyword not found.</p> |"
      ],
      "text/plain": [
       "<IPython.core.display.Markdown object>"
      ]
     },
     "metadata": {},
     "output_type": "display_data"
    },
    {
     "data": {
      "text/markdown": [
       "\n",
       "|||\n",
       "|---:|:---|\n",
       "| [![arXiv](https://img.shields.io/badge/arXiv-arXiv:2209.00764-b31b1b.svg)](https://arxiv.org/abs/arXiv:2209.00764) | **Environmental cluster effects and galaxy evolution: The HI properties of  the Abell clusters A85/A496/A2670**  |\n",
       "|| M. M. López-Gutiérrez, et al. -- incl., <mark>H. Bravo-Alfaro</mark> |\n",
       "|*Appeared on*| *2022-09-05*|\n",
       "|*Comments*| **|\n",
       "|**Abstract**| We study the impact of local environment on the transformation of spiral galaxies in three nearby ($z < 0.08$) Abell clusters: A85/A496/A2670. These systems were observed in HI with the Very Large Array, covering a volume extending beyond the virial radius and detecting 10, 58, 38 galaxies, respectively. High fractions (0.40--0.86) of bright spirals [log$(M_{*}/M_{\\odot})=9-10$] are not detected in HI. We provide further evidence of environmental effects consisting in significant fractions (0.10--0.33) of abnormal objects and a number of red (passive) spirals, suggesting an ongoing process of quenching. Ram-pressure profiles, and the sample of the brightest spirals used as test particles for environmental effects, indicate that ram-pressure plays an important role in stripping and transforming late-types. Phase-space diagrams and our search for substructures helped to trace the dynamical stage of the three systems. This was used to compare the global cluster effects $vs.$ pre-processing, finding that the former is the dominating mechanism in the studied clusters. By contrasting the global distribution of HI normal $vs.$ HI disturbed spirals in the combined three clusters, we confirm the expected correlation of disturbed objects located, on average, at shorter projected radii. However, individual clusters do not necessarily follow this trend and we show that A496 and A2670 present an atypical behavior. In general we provide conclusive evidence about the dependence of the transformation of infalling spirals on the ensemble of cluster properties like mass, ICM density, dynamical stage and surrounding large-scale structure. |\n",
       "|<p style=\"color:green\"> **ERROR** </p>| <p style=\"color:green\">affiliation error: mpia.affiliation_verifications: 'Heidelberg' keyword not found.</p> |"
      ],
      "text/plain": [
       "<IPython.core.display.Markdown object>"
      ]
     },
     "metadata": {},
     "output_type": "display_data"
    },
    {
     "data": {
      "text/markdown": [
       "\n",
       "|||\n",
       "|---:|:---|\n",
       "| [![arXiv](https://img.shields.io/badge/arXiv-arXiv:2209.00765-b31b1b.svg)](https://arxiv.org/abs/arXiv:2209.00765) | **Binaries with possible compact components discovered from the LAMOST  Time-Domain Survery of four $K$2 plates**  |\n",
       "|| Li Xue, et al. -- incl., <mark>Bai Zhongrui</mark>, <mark>Zhang Haotong</mark> |\n",
       "|*Appeared on*| *2022-09-05*|\n",
       "|*Comments*| *23 pages. Accepted for publication in ApJ*|\n",
       "|**Abstract**| Time-domain (TD) spectroscopic data from the Large Sky Area Multi-Object Fiber Spectroscopic Telescope (LAMOST) can provide accurate and high-cadence radial velocities (RVs). In this work, we search for binaries with compact components with RV monitoring method by using the LAMOST TD survey of four $K$2 plates. Three binary systems including an unseen white dwarf or neutron star are found. For each binary system, we estimate the stellar parameters of the visible star and orbital parameters, and finally calculate the binary mass function and the minimum mass of the unseen star. No obvious double-lined feature is seen from the LAMOST medium-resolution spectra of the three sources. In addition, we found no X-ray counterpart for all these sources but UV companions for two of them. Spectral disentangling also shows no additional component with optical absorption spectra, supporting that these systems contain compact objects. |\n",
       "|<p style=\"color:green\"> **ERROR** </p>| <p style=\"color:green\">affiliation error: mpia.affiliation_verifications: 'Heidelberg' keyword not found.</p> |"
      ],
      "text/plain": [
       "<IPython.core.display.Markdown object>"
      ]
     },
     "metadata": {},
     "output_type": "display_data"
    },
    {
     "data": {
      "text/markdown": [
       "\n",
       "|||\n",
       "|---:|:---|\n",
       "| [![arXiv](https://img.shields.io/badge/arXiv-arXiv:2209.00856-b31b1b.svg)](https://arxiv.org/abs/arXiv:2209.00856) | **Characterization of the MASCOT landing area by Hayabusa2**  |\n",
       "|| Stefan Schröder, et al. -- incl., <mark>Frank Scholten</mark> |\n",
       "|*Appeared on*| *2022-09-05*|\n",
       "|*Comments*| **|\n",
       "|**Abstract**| Context. After landing on C-type asteroid Ryugu, MASCOT imaged brightly colored, submillimeter-sized inclusions in a small rock. Hayabusa2 successfully returned a sample of small particles from the surface of Ryugu, but none of these appear to harbor such inclusions. The samples are considered representative of Ryugu. Aims. To understand the apparent discrepancy between MASCOT observations and Ryugu samples, we assess whether the MASCOT landing site, and the rock by implication, is perhaps atypical for Ryugu. Methods. We analyzed observations of the MASCOT landing area acquired by three instruments on board Hayabusa2: a camera (ONC), a near-infrared spectrometer (NIRS3), and a thermal infrared imager (TIR). We compared the landing area properties thus retrieved with those of the average Ryugu surface. Results. We selected several areas and landforms in the landing area for analysis: a small crater, a collection of smooth rocks, and the landing site itself. The crater is relatively blue and the rocks are relatively red. The spectral and thermophysical properties of the landing site are very close to those of the average Ryugu surface. The spectral properties of the MASCOT rock are probably close to average, but its thermal inertia may be somewhat higher. Conclusions. The MASCOT rock can also be considered representative of Ryugu. Some of the submillimeter-sized particles in the returned samples stand out because of their atypical spectral properties. Such particles may be present as inclusions in the MASCOT rock. |\n",
       "|<p style=\"color:green\"> **ERROR** </p>| <p style=\"color:green\">affiliation error: mpia.affiliation_verifications: 'Heidelberg' keyword not found.</p> |"
      ],
      "text/plain": [
       "<IPython.core.display.Markdown object>"
      ]
     },
     "metadata": {},
     "output_type": "display_data"
    },
    {
     "data": {
      "text/markdown": [
       "\n",
       "|||\n",
       "|---:|:---|\n",
       "| [![arXiv](https://img.shields.io/badge/arXiv-arXiv:2209.00902-b31b1b.svg)](https://arxiv.org/abs/arXiv:2209.00902) | **KMTNet Nearby Galaxy Survey: Overview and a Survey Description**  |\n",
       "|| Woowon Byun, et al. -- incl., <mark>Joon Hyeop Lee</mark>, <mark>Yongseok Lee</mark> |\n",
       "|*Appeared on*| *2022-09-05*|\n",
       "|*Comments*| *32 pages, 21 figures, accepted for publication in PASP*|\n",
       "|**Abstract**| Recently, there has been an increasing demand for deep imaging surveys to investigate the history of the mass assembly of galaxies in detail by examining the remnants of mergers and accretions, both of which have very low surface brightness (LSB). In addition, the nature of star formation in LSB regions, such as galaxy outer disks, is also an intriguing topic in terms of understanding the physical mechanisms of disk evolution. To address these issues, this study conducts a survey project, called the Korea Microlensing Telescope Network (KMTNet) Nearby Galaxy Survey to construct a deep imaging data set of nearby galaxies in the southern hemisphere using KMTNet. It provides deep and wide-field images with a field-of-view of $\\sim$12 deg$^2$ for 13 nearby galaxies drawn from the Carnegie-Irvine Galaxy Survey catalog, in optical broadbands ($BRI$) and an H$\\alpha$ narrowband. Through a dedicated data reduction, the surface brightness limit in 10$^{\\prime\\prime}\\times10^{\\prime\\prime}$ boxes was found to reach as deep as $\\mu_{1\\sigma}\\sim29$-31 mag arcsec$^{-2}$ in the optical broadbands and $f_{1\\sigma}\\sim1$-$2\\times 10^{-18}$ erg s$^{-1}$ cm$^{-2}$ arcsec$^{-2}$ in the H$\\alpha$ narrowband. To conclude the paper, several possible scientific applications for this data set are described. |\n",
       "|<p style=\"color:green\"> **ERROR** </p>| <p style=\"color:green\">affiliation error: mpia.affiliation_verifications: 'Heidelberg' keyword not found.</p> |"
      ],
      "text/plain": [
       "<IPython.core.display.Markdown object>"
      ]
     },
     "metadata": {},
     "output_type": "display_data"
    },
    {
     "data": {
      "text/markdown": [
       "\n",
       "|||\n",
       "|---:|:---|\n",
       "| [![arXiv](https://img.shields.io/badge/arXiv-arXiv:2209.00970-b31b1b.svg)](https://arxiv.org/abs/arXiv:2209.00970) | **An intermediate polar candidate toward the Galactic plane**  |\n",
       "|| Samaresh Mondal, et al. -- incl., <mark>Frank Haberl</mark> |\n",
       "|*Appeared on*| *2022-09-05*|\n",
       "|*Comments*| *6 pages, 5 figures, accepted for publication in A&A*|\n",
       "|**Abstract**| For the past decade, it has been suggested that intermediate polars (IPs), a subclass of magnetic cataclysmic variables (CVs), are one of the main contributors to the hard diffuse X-ray emission from the Galactic center (GC) and Galactic ridge. In our ongoing \\emph{XMM-Newton} survey of the central region of the Galactic disk ($20^\\circ\\times2^\\circ$), we detected a persistent IP candidate, $1.7^\\circ$ away from the GC. In this work, we better characterize the behavior of this source by looking at the new and archival XMM-Newton data. We performed a detailed X-ray spectral modeling of the source. Furthermore, we searched for X-ray pulsations in the light curve as well as its counterpart at other wavelengths. The XMM-Newton spectrum (0.8--10 keV) of the source is described by a partial covering collisionally ionized diffuse gas with plasma temperature $kT=15.7^{+20.9}_{-3.6}$ keV. In addition, the spectrum shows the presence of iron lines at $E=6.44$, 6.65, and 6.92 keV with equivalent widths of $194^{+89}_{-70}$, $115^{+79}_{-75}$, and $98^{+93}_{-74}$ eV, respectively. The X-ray light curve shows a coherent modulation with a period of $P=432.44\\pm0.36$ s, which we infer is the spin period of the white dwarf. The white dwarf mass estimated from fitting a physical model to the spectrum results in $M_{\\rm WD}=1.05^{+0.16}_{-0.21}\\ M_{\\odot}$. We were able to find a likely optical counterpart in the Gaia catalog with a G magnitude of 19.26, and the distance to the source derived from the measured Gaia parallax is $\\sim$4.3 kpc. We provide an improved source localization with subarcsec accuracy. The spectral modeling of the source indicates the presence of intervening circumstellar gas, which absorbs the soft X-ray photons. The measured equivalent width of the iron lines and the detection of the spin period in the light curve are consistent with those from IPs. |\n",
       "|<p style=\"color:green\"> **ERROR** </p>| <p style=\"color:green\">affiliation error: mpia.affiliation_verifications: 'Heidelberg' keyword not found.</p> |"
      ],
      "text/plain": [
       "<IPython.core.display.Markdown object>"
      ]
     },
     "metadata": {},
     "output_type": "display_data"
    },
    {
     "data": {
      "text/markdown": [
       "\n",
       "|||\n",
       "|---:|:---|\n",
       "| [![arXiv](https://img.shields.io/badge/arXiv-arXiv:2209.00971-b31b1b.svg)](https://arxiv.org/abs/arXiv:2209.00971) | **Photometric and dynamic characterisation of active asteroid (248370)  2005 QN173**  |\n",
       "|| Bojan Novakovic, Debora Pavela, <mark>Henry H. Hsieh</mark>, Dusan Marceta |\n",
       "|*Appeared on*| *2022-09-05*|\n",
       "|*Comments*| *Accepted for publication in MNRAS*|\n",
       "|**Abstract**| We present the physical and dynamical properties of the recently discovered active asteroid (248370) 2005 QN173 (aka 433P). From our observations, we derived two possible rotation period solutions of 2.7 and 4.1 hours. The corresponding light curve amplitudes computed after correcting for the effect of coma are 0.28 and 0.58 mag, respectively. Both period solutions are shorter than the critical rotation limit computed for a strengthless triaxial ellipsoid, suggesting that rotation mass shedding should at least partly be responsible for the observed activity. We confirm that the activity level is fading further, but at a very modest rate of only 0.006 mag/day, still also compatible with sublimation-driven activity. We found that 248370 likely belongs to the Themis asteroid family, making it a fourth main-belt comet associated with this group. Orbital characteristics of 248370 are also consistent with its origin in the young 288P cluster of asteroids. The 288P cluster is associated with its namesake main-belt comet, providing an exciting possibility for a comparative analysis of intriguing main-belt comets 248370 and 288P. |\n",
       "|<p style=\"color:green\"> **ERROR** </p>| <p style=\"color:green\">affiliation error: mpia.affiliation_verifications: 'Heidelberg' keyword not found.</p> |"
      ],
      "text/plain": [
       "<IPython.core.display.Markdown object>"
      ]
     },
     "metadata": {},
     "output_type": "display_data"
    },
    {
     "data": {
      "text/markdown": [
       "\n",
       "|||\n",
       "|---:|:---|\n",
       "| [![arXiv](https://img.shields.io/badge/arXiv-arXiv:2209.01040-b31b1b.svg)](https://arxiv.org/abs/arXiv:2209.01040) | **TOPz: Photometric redshifts for J-PAS**  |\n",
       "|| J. Laur, et al. -- incl., <mark>A. Hernán-Caballero</mark>, <mark>J. Chaves-Montero</mark> |\n",
       "|*Appeared on*| *2022-09-05*|\n",
       "|*Comments*| *20 pages, 24 figures*|\n",
       "|**Abstract**| The importance of photometric galaxy redshift estimation is rapidly increasing with the development of specialised powerful observational facilities. We develop a new photometric redshift estimation workflow TOPz to provide reliable and efficient redshift estimations for the upcoming large-scale survey J-PAS which will observe 8500 deg2 of the northern sky through 54 narrow-band filters. TOPz relies on template-based photo-z estimation with some added J-PAS specific features and possibilities. We present TOPz performance on data from the miniJPAS survey, a precursor to the J-PAS survey with an identical filter system. First, we generated spectral templates based on the miniJPAS sources using the synthetic galaxy spectrum generation software CIGALE. Then we applied corrections to the input photometry by minimising systematic offsets from the template flux in each filter. To assess the accuracy of the redshift estimation, we used spectroscopic redshifts from the DEEP2, DEEP3, and SDSS surveys, available for 1989 miniJPAS galaxies with r < 22 magAB. We also tested how the choice and number of input templates, photo-z priors, and photometric corrections affect the TOPz redshift accuracy. The general performance of the combination of miniJPAS data and the TOPz workflow fulfills the expectations for J-PAS redshift accuracy. Similarly to previous estimates, we find that 38.6% of galaxies with r < 22 mag reach the J-PAS redshift accuracy goal of dz/(1 + z) < 0.003. Limiting the number of spectra in the template set improves the redshift accuracy up to 5%, especially for fainter, noise-dominated sources. Further improvements will be possible once the actual J-PAS data become available. |\n",
       "|<p style=\"color:green\"> **ERROR** </p>| <p style=\"color:green\">affiliation error: mpia.affiliation_verifications: 'Heidelberg' keyword not found.</p> |"
      ],
      "text/plain": [
       "<IPython.core.display.Markdown object>"
      ]
     },
     "metadata": {},
     "output_type": "display_data"
    }
   ],
   "source": [
    "import datetime\n",
    "today = str(datetime.date.today())\n",
    "logfile = f\"_build/html/logs/log-{today}.md\"\n",
    "\n",
    "\n",
    "with open(logfile, 'w') as logs:\n",
    "    # Success\n",
    "    logs.write(f'# Arxiv on Deck 2: Logs - {today}\\n\\n')\n",
    "    logs.write(\"\"\"* Arxiv had {0:,d} new papers\\n\"\"\".format(len(new_papers)))\n",
    "    logs.write(\"\"\"    * {0:,d} with possible author matches\\n\\n\"\"\".format(len(candidates)))\n",
    "    logs.write(\"## Sucessful papers\\n\\n\")\n",
    "    display(Markdown(\"## Successful papers\"))\n",
    "    success = [k[0] for k in documents]\n",
    "    for candid in candidates:\n",
    "        if candid['identifier'].split(':')[-1] in success:\n",
    "            display(candid)\n",
    "            logs.write(candid.generate_markdown_text() + '\\n\\n')\n",
    "\n",
    "    ## failed\n",
    "    logs.write(\"## Failed papers\\n\\n\")\n",
    "    display(Markdown(\"## Failed papers\"))\n",
    "    failed = sorted(failed, key=lambda x: x[1])\n",
    "    current_reason = \"\"\n",
    "    for paper, reason in failed:\n",
    "        if 'affiliation' in reason:\n",
    "            color = 'green'\n",
    "        else:\n",
    "            color = 'red'\n",
    "        data = Markdown(\n",
    "                paper.generate_markdown_text() + \n",
    "                f'\\n|<p style=\"color:{color:s}\"> **ERROR** </p>| <p style=\"color:{color:s}\">{reason:s}</p> |'\n",
    "               )\n",
    "        if reason != current_reason:\n",
    "            logs.write(f'### {reason:s} \\n\\n')\n",
    "            current_reason = reason\n",
    "        logs.write(data.data + '\\n\\n')\n",
    "        \n",
    "        # only display here the important errors (all in logs)\n",
    "        # if color in ('red',):\n",
    "        display(data)"
   ]
  },
  {
   "cell_type": "markdown",
   "id": "472d20ee",
   "metadata": {
    "papermill": {
     "duration": 0.007568,
     "end_time": "2022-09-06T05:24:31.387684",
     "exception": false,
     "start_time": "2022-09-06T05:24:31.380116",
     "status": "completed"
    },
    "tags": []
   },
   "source": [
    "## Export documents\n",
    "\n",
    "We now write the .md files and export relevant images"
   ]
  },
  {
   "cell_type": "code",
   "execution_count": 7,
   "id": "d426aed9",
   "metadata": {
    "execution": {
     "iopub.execute_input": "2022-09-06T05:24:31.404197Z",
     "iopub.status.busy": "2022-09-06T05:24:31.403655Z",
     "iopub.status.idle": "2022-09-06T05:24:31.410855Z",
     "shell.execute_reply": "2022-09-06T05:24:31.410330Z"
    },
    "papermill": {
     "duration": 0.023102,
     "end_time": "2022-09-06T05:24:31.418258",
     "exception": false,
     "start_time": "2022-09-06T05:24:31.395156",
     "status": "completed"
    },
    "tags": []
   },
   "outputs": [],
   "source": [
    "def export_markdown_summary(md: str, md_fname:str, directory: str):\n",
    "    \"\"\"Export MD document and associated relevant images\"\"\"\n",
    "    import os\n",
    "    import shutil\n",
    "    import re\n",
    "\n",
    "    if (os.path.exists(directory) and not os.path.isdir(directory)):\n",
    "        raise RuntimeError(f\"a non-directory file exists with name {directory:s}\")\n",
    "\n",
    "    if (not os.path.exists(directory)):\n",
    "        print(f\"creating directory {directory:s}\")\n",
    "        os.mkdir(directory)\n",
    "\n",
    "    fig_fnames = (re.compile(r'\\[Fig.*\\]\\((.*)\\)').findall(md) + \n",
    "                  re.compile(r'\\<img src=\"([^>\\s]*)\"[^>]*/>').findall(md))\n",
    "    for fname in fig_fnames:\n",
    "        if 'http' in fname:\n",
    "            # No need to copy online figures\n",
    "            continue\n",
    "        destdir = os.path.join(directory, os.path.dirname(fname))\n",
    "        destfname = os.path.join(destdir, os.path.basename(fname))\n",
    "        try:\n",
    "            os.makedirs(destdir)\n",
    "        except FileExistsError:\n",
    "            pass\n",
    "        shutil.copy(fname, destfname)\n",
    "    with open(os.path.join(directory, md_fname), 'w') as fout:\n",
    "        fout.write(md)\n",
    "    print(\"exported in \", os.path.join(directory, md_fname))\n",
    "    [print(\"    + \" + os.path.join(directory,fk)) for fk in fig_fnames]"
   ]
  },
  {
   "cell_type": "code",
   "execution_count": 8,
   "id": "014d04a4",
   "metadata": {
    "execution": {
     "iopub.execute_input": "2022-09-06T05:24:31.441189Z",
     "iopub.status.busy": "2022-09-06T05:24:31.440642Z",
     "iopub.status.idle": "2022-09-06T05:24:31.448935Z",
     "shell.execute_reply": "2022-09-06T05:24:31.448294Z"
    },
    "papermill": {
     "duration": 0.022232,
     "end_time": "2022-09-06T05:24:31.450424",
     "exception": false,
     "start_time": "2022-09-06T05:24:31.428192",
     "status": "completed"
    },
    "tags": []
   },
   "outputs": [
    {
     "name": "stdout",
     "output_type": "stream",
     "text": [
      "exported in  _build/html/2209.00828.md\n",
      "    + _build/html/tmp_2209.00828/./graphics/M2e_classIII.png\n",
      "    + _build/html/tmp_2209.00828/./graphics/AMRF_model_part2.png\n",
      "    + _build/html/tmp_2209.00828/./graphics/MLR_model.png\n",
      "    + _build/html/tmp_2209.00828/./graphics/m2_classIII_hist.png\n",
      "exported in  _build/html/2209.01125.md\n",
      "    + _build/html/tmp_2209.01125/./fig_RVSPY_plot_teff-rmsrv_2022Aug.png\n",
      "    + _build/html/tmp_2209.01125/./fig_RVSPY_plot_sigRV-teff-vsini_2022Aug.png\n",
      "    + _build/html/tmp_2209.01125/./fig_RVSPY_obs111_Teff_Mpdetlim_2022Aug.png\n"
     ]
    }
   ],
   "source": [
    "for paper_id, md in documents:\n",
    "    export_markdown_summary(md, f\"{paper_id:s}.md\", '_build/html/')"
   ]
  },
  {
   "cell_type": "markdown",
   "id": "f087a0a7",
   "metadata": {
    "papermill": {
     "duration": 0.009666,
     "end_time": "2022-09-06T05:24:31.467922",
     "exception": false,
     "start_time": "2022-09-06T05:24:31.458256",
     "status": "completed"
    },
    "tags": []
   },
   "source": [
    "## Display the papers\n",
    "\n",
    "Not necessary but allows for a quick check."
   ]
  },
  {
   "cell_type": "code",
   "execution_count": 9,
   "id": "fd25f625",
   "metadata": {
    "execution": {
     "iopub.execute_input": "2022-09-06T05:24:31.484958Z",
     "iopub.status.busy": "2022-09-06T05:24:31.484120Z",
     "iopub.status.idle": "2022-09-06T05:24:31.490786Z",
     "shell.execute_reply": "2022-09-06T05:24:31.490120Z"
    },
    "papermill": {
     "duration": 0.016742,
     "end_time": "2022-09-06T05:24:31.492259",
     "exception": false,
     "start_time": "2022-09-06T05:24:31.475517",
     "status": "completed"
    },
    "scrolled": false,
    "tags": []
   },
   "outputs": [
    {
     "data": {
      "text/markdown": [
       "<div class=\"macros\" style=\"visibility:hidden;\">\n",
       "$\\newcommand{\\ensuremath}{}$\n",
       "$\\newcommand{\\xspace}{}$\n",
       "$\\newcommand{\\object}[1]{\\texttt{#1}}$\n",
       "$\\newcommand{\\farcs}{{.}''}$\n",
       "$\\newcommand{\\farcm}{{.}'}$\n",
       "$\\newcommand{\\arcsec}{''}$\n",
       "$\\newcommand{\\arcmin}{'}$\n",
       "$\\newcommand{\\ion}[2]{#1#2}$\n",
       "$\\newcommand{\\textsc}[1]{\\textrm{#1}}$\n",
       "$\\newcommand{\\hl}[1]{\\textrm{#1}}$\n",
       "$\\newcommand$\n",
       "$\\newcommand{\\var}[1]{\\DTLfetch{main_data}{thekey}{#1}{thevalue}}$\n",
       "$\\newcommand$\n",
       "$\\newcommand{\\qmin}{\\mathcal{Q}}$\n",
       "$\\newcommand{\\red}[1]{\\textcolor{red}{#1}}$\n",
       "$\\newcommand{\\thebibliography}{\\DeclareRobustCommand{\\VAN}[3]{##3}\\VANthebibliography}$</div>\n",
       "\n",
       "<div class=\"macros\" style=\"visibility:hidden;\">\n",
       "$\\newcommand{$\\ensuremath$}{}$\n",
       "$\\newcommand{$\\xspace$}{}$\n",
       "$\\newcommand{$\\object$}[1]{\\texttt{#1}}$\n",
       "$\\newcommand{$\\farcs$}{{.}''}$\n",
       "$\\newcommand{$\\farcm$}{{.}'}$\n",
       "$\\newcommand{$\\arcsec$}{''}$\n",
       "$\\newcommand{$\\arcmin$}{'}$\n",
       "$\\newcommand{$\\ion$}[2]{#1#2}$\n",
       "$\\newcommand{$\\textsc$}[1]{\\textrm{#1}}$\n",
       "$\\newcommand{$\\hl$}[1]{\\textrm{#1}}$\n",
       "$\\newcommand$\n",
       "$\\newcommand{$\\var$}[1]{\\DTLfetch{main_data}{thekey}{#1}{thevalue}}$\n",
       "$\\newcommand$\n",
       "$\\newcommand{$\\qmin$}{\\mathcal{Q}}$\n",
       "$\\newcommand{$\\red$}[1]{\\textcolor{red}{#1}}$\n",
       "$\\newcommand{$\\thebibliography$}{\\DeclareRobustCommand{\\VAN}[3]{##3}\\VANthebibliography}$</div>\n",
       "\n",
       "\n",
       "\n",
       "<div id=\"title\">\n",
       "\n",
       "#  astrometric orbits. I. A sample of binaries with probable compact companions\n",
       "\n",
       "</div>\n",
       "<div id=\"comments\">\n",
       "\n",
       "[![arXiv](https://img.shields.io/badge/arXiv-2209.00828-b31b1b.svg)](https://arxiv.org/abs/2209.00828)<mark>Appeared on: 2022-09-05</mark> - _Submitted to MNRAS; 12 pages, 13 figures_\n",
       "\n",
       "</div>\n",
       "<div id=\"authors\">\n",
       "\n",
       "Sahar Shahaf, et al. -- incl., <mark><mark>Hans-Walter Rix</mark></mark>\n",
       "\n",
       "</div>\n",
       "<div id=\"abstract\">\n",
       "\n",
       "**Abstract:** In preparation for the release of the astrometric orbits of{\\it Gaia},\\citet[][]{shahaf19}proposed a triage technique to identify astrometric binaries with compact companions based on their astrometric semi-major axis, parallax, and primary mass. The technique requires the knowledge of the appropriate mass-luminosity relation to rule out single or close-binary main-sequence companions. The recent publication of the\\textit{Gaia}DR3 astrometric orbits used a schematic version of this approach, identifying$735$astrometric binaries that might have compact companions. In this communication, we return to the triage of the DR3 astrometric binaries with more careful analysis, estimating the probability for its astrometric secondary to be a compact object or a main-sequence close binary. We compile a sample of$\\var{N_class3}$systems with highly-probable non-luminous massive companions, which is smaller but cleaner than the sample reported in\\textit{Gaia}DR3. The new sample includes$8$candidates to be black-hole systems with compact-object masses larger than$2.4$\\solarmass. The orbital-eccentricity--secondary-mass diagram of the other$169$systems suggests a tentative separation between the white-dwarf and the neutron-star binaries. Most white-dwarf binaries are characterized by small eccentricities of about$0.1$and masses of$0.6$\\solarmass, while the neutron star binaries display typical eccentricities of$0.4$and masses of$1.3$\\solarmass.\n",
       "\n",
       "</div>\n",
       "\n",
       "<div id=\"div_fig1\">\n",
       "\n",
       "<img src=\"tmp_2209.00828/./graphics/M2e_classIII.png\" alt=\"Fig2\" width=\"100%\"/>\n",
       "\n",
       "**Figure 2. -** Orbital eccentricity versus secondary mass for the class-III sample.  We set the upper boundary of the mass axis at $2.1$$\\solarmass$, for clarity. Lines represent the central regions of the fitted Gaussian mixture model (see text). Systems identified as members of the WD and NS clusters appear as white and blue circles, respectively. Lines follow a constant $\\ln$-likelihood level of $-0.5$, based on the fitted Gaussian mixture model, and highlight the main loci of the secondary-mass--eccentricity distribution. Centres of the three Gaussian components are plotted as black \"+\" signs. (*fig:co_e-m*)\n",
       "\n",
       "</div>\n",
       "<div id=\"div_fig2\">\n",
       "\n",
       "<img src=\"tmp_2209.00828/./graphics/AMRF_model_part2.png\" alt=\"Fig8.1\" width=\"50%\"/><img src=\"tmp_2209.00828/./graphics/MLR_model.png\" alt=\"Fig8.2\" width=\"50%\"/>\n",
       "\n",
       "**Figure 8. -** Maximum $\\mathcal{A}$ for an MS secondary (dotted line) and an MS close-binary companion (dashed line) as a function of primary mass, based on \\citet{mamajek13} observed MLR. Black circles and squares show the maximum values of Fig. \\ref{fig:amrf_curve1}. Purple and light-blue stripes illustrate the expected $\\mathcal{A}$ of white dwarfs, at $0.45{-}0.75 \\solarmass$, and neutron stars, at $1.4{-}2.1  \\solarmass$ companions, respectively. Note that their position does not depend on the period or the parallax of the system. The figure suggests that since some white-dwarf and most neutron-star companions are expected to reside above the corresponding maximum $\\mathcal{A}$, they can be identified as such.Impact of stellar age and metallicity on  $\\mathcal{A}_{$\\textsc${tr}}$. Class-III limiting value, $\\mathcal{A}_{$\\textsc${tr}}$, as a function of the primary mass. Dashed red and blue lines represent the MIST-based limits for old and young stellar populations, respectively. Grey dashed line represents the limit obtained from the empirical MLR of \\citet{mamajek13}(dashed), which were used in the \\textit{NSS}. Grey solid line is the limiting curve adopted by this work. See Section \\ref{sec: age metallicity based limits} and Appendix \\ref{APP: Atr}. \\newline\\newline\\newline (*fig:amrf_curve*)\n",
       "\n",
       "</div>\n",
       "<div id=\"div_fig3\">\n",
       "\n",
       "<img src=\"tmp_2209.00828/./graphics/m2_classIII_hist.png\" alt=\"Fig3\" width=\"100%\"/>\n",
       "\n",
       "**Figure 3. -** Secondary-mass histogram of the class-III sample. The most prominent peak, at ${\\sim}0.6$$\\solarmass$ corresponds to WD secondaries in the sample, and another, less prominent peak, is located at ${\\sim}1.3$$\\solarmass$. We set the upper boundary of the mass axis at $2.1$$\\solarmass$, for clarity. As a result, $8$ additional systems with secondary masses larger than $2.4$$\\solarmass$ are not shown. Lines represent the marginal distributions derived from a Gaussian-mixture model that was fitted to the secondary-mass--eccentricity diagram (see Section \\ref{sec: m2-e}). The overlap between the two classes is small, as only one bin shares points from both classes, with two WDs and one NS.\n",
       "         (*fig:hist_m2*)\n",
       "\n",
       "</div>"
      ],
      "text/plain": [
       "<IPython.core.display.Markdown object>"
      ]
     },
     "metadata": {},
     "output_type": "display_data"
    },
    {
     "data": {
      "text/markdown": [
       "<div class=\"macros\" style=\"visibility:hidden;\">\n",
       "$\\newcommand{\\ensuremath}{}$\n",
       "$\\newcommand{\\xspace}{}$\n",
       "$\\newcommand{\\object}[1]{\\texttt{#1}}$\n",
       "$\\newcommand{\\farcs}{{.}''}$\n",
       "$\\newcommand{\\farcm}{{.}'}$\n",
       "$\\newcommand{\\arcsec}{''}$\n",
       "$\\newcommand{\\arcmin}{'}$\n",
       "$\\newcommand{\\ion}[2]{#1#2}$\n",
       "$\\newcommand{\\textsc}[1]{\\textrm{#1}}$\n",
       "$\\newcommand{\\hl}[1]{\\textrm{#1}}$\n",
       "$\\newcommand{\\amu}[1]{{\\leavevmode\\color{dark-blue} #1}}$\n",
       "$\\newcommand{\\trifon}[2]{{\\leavevmode\\color{dark-green} #1}}$\n",
       "$\\newcommand{\\sr}[1]{{\\leavevmode\\color{medium-blue} #1}}$</div>\n",
       "\n",
       "<div class=\"macros\" style=\"visibility:hidden;\">\n",
       "$\\newcommand{$\\ensuremath$}{}$\n",
       "$\\newcommand{$\\xspace$}{}$\n",
       "$\\newcommand{$\\object$}[1]{\\texttt{#1}}$\n",
       "$\\newcommand{$\\farcs$}{{.}''}$\n",
       "$\\newcommand{$\\farcm$}{{.}'}$\n",
       "$\\newcommand{$\\arcsec$}{''}$\n",
       "$\\newcommand{$\\arcmin$}{'}$\n",
       "$\\newcommand{$\\ion$}[2]{#1#2}$\n",
       "$\\newcommand{$\\textsc$}[1]{\\textrm{#1}}$\n",
       "$\\newcommand{$\\hl$}[1]{\\textrm{#1}}$\n",
       "$\\newcommand{$\\amu$}[1]{{\\leavevmode\\color{dark-blue} #1}}$\n",
       "$\\newcommand{$\\trifon$}[2]{{\\leavevmode\\color{dark-green} #1}}$\n",
       "$\\newcommand{$\\sr$}[1]{{\\leavevmode\\color{medium-blue} #1}}$</div>\n",
       "\n",
       "\n",
       "\n",
       "<div id=\"title\">\n",
       "\n",
       "# RVSPY - Radial Velocity Survey for Planets around Young stars: Target characterisation and high-cadence survey\n",
       "\n",
       "</div>\n",
       "<div id=\"comments\">\n",
       "\n",
       "[![arXiv](https://img.shields.io/badge/arXiv-2209.01125-b31b1b.svg)](https://arxiv.org/abs/2209.01125)<mark>Appeared on: 2022-09-05</mark> - _24 pages, 14 figures, 4 tables; Accepted for publication in A&A_\n",
       "\n",
       "</div>\n",
       "<div id=\"authors\">\n",
       "\n",
       "<mark><mark>O. Zakhozhay</mark></mark>, et al. -- incl., <mark><mark>R. Launhardt</mark></mark>, <mark><mark>A. Mueller</mark></mark>, <mark><mark>A. Hempel</mark></mark>, <mark><mark>M. Hempel</mark></mark>, <mark><mark>Th. Henning</mark></mark>, <mark><mark>M. Kuerster</mark></mark>, <mark><mark>A. Pavlov</mark></mark>, <mark><mark>T. Trifonov</mark></mark>\n",
       "\n",
       "</div>\n",
       "<div id=\"abstract\">\n",
       "\n",
       "**Abstract:** The occurrence rate and period distribution of (giant) planets around young stars is still not as well constrained as for older main-sequence stars. This is mostly due to the intrinsic activity-related complications and the avoidance of young stars in many large planet search programmes. Yet, dynamical restructuring processes in planetary systems may last significantly longer than the actual planet formation phase and may well extend long into the debris disc phase, such that the planet populations around young stars may differ from those observed around main-sequence stars.We introduce our Radial Velocity Survey for Planets around Young stars (RVSPY), which is closely related to the\\mbox{NaCo-ISPY}direct imaging survey, characterise our target stars, and search for substellar companions at orbital separations smaller than a few au from the host star.We used the FEROS spectrograph, mounted to the MPG/ESO 2.2 m telescope in Chile, to obtain high signal-to-noise spectra and time series of precise radial velocities (RVs) of 111 stars, most of which are surrounded by debris discs. Our target stars have spectral types between early F and late K, a median age of 400 Myr, and a median distance of 45 pc. During the initial reconnaissance phase of our survey, we determined stellar parameters and used high-cadence observations to characterise the intrinsic stellar activity, searched for hot companions with orbital periods of up to 10 days, and derived the detection thresholds for longer-period companions. In our analysis we, have included archival spectroscopic data, spectral energy distribution, and data for photometric time series from the TESS mission.For all target stars we determined their basic stellar parameters and present the results of the high-cadence RV survey and activity characterisation. We have achieved a median single-measurement RV precision of 6 m/s and derived the short-term intrinsic RV scatter of our targets (median 23 m/s), which is mostly caused by stellar activity and decays with an age from >100 m/s at <20 Myr to <20 m/s at >500 Myr.We analysed time series periodograms of the high-cadence RV data and the shape of the individual cross-correlation functions. We discovered six previously unknown close companions with orbital periods between 10 and 100 days, three of which are low-mass stars, and three are in the brown dwarf mass regime. We detected no hot companion with an orbital period <10 days down to a median mass limit of$\\sim$1 M$_{\\rm Jup}$for stars younger than 500 Myr, which is still compatible with the established occurrence rate of such companions around main-sequence stars.We found significant RV periodicities between 1.3 and 4.5 days for 14 stars, which are, however, all caused by rotational modulation due to starspots. We also analysed the data for TESS photometric time series and found significant periodicities for most of the stars. For 11 stars, the photometric periods are also clearly detected in the RV data.We also derived stellar rotation periods ranging from 1 to 10 days for 91 stars, mostly from the TESS data.From the intrinsic activity-related short-term RV jitter, we derived the expected mass-detection thresholds for longer-period companions, and selected 84 targets for the longer-term RV monitoring.\\looseness=-4\n",
       "\n",
       "</div>\n",
       "\n",
       "<div id=\"div_fig1\">\n",
       "\n",
       "<img src=\"tmp_2209.01125/./fig_RVSPY_plot_teff-rmsrv_2022Aug.png\" alt=\"Fig6\" width=\"100%\"/>\n",
       "\n",
       "**Figure 6. -** \\label{fig:rmsrv_teff}\n",
       "Intrinsic rms scatter of the RVs in the 2-week high-cadence data vs. (spectroscopic) effective stellar temperature, $T_{\\rm eff}$, with age encoded in colour. Stars marked as triangles do not have significant IR excess (see Sect. \\ref{ssec:targets:sel}).\n",
       "The horizontal dashed-dotted line marks the approximate boundary above which we consider RV exoplanet searches not feasible (although we use a mass detection threshold in the end; see Sect. \\ref{sec:dis:prospects} and Fig. \\ref{fig:Mp_vs_Teff}).\n",
       " (*fig:rmsrv_teff*)\n",
       "\n",
       "</div>\n",
       "<div id=\"div_fig2\">\n",
       "\n",
       "<img src=\"tmp_2209.01125/./fig_RVSPY_plot_sigRV-teff-vsini_2022Aug.png\" alt=\"Fig8\" width=\"100%\"/>\n",
       "\n",
       "**Figure 8. -** \\label{fig:vsini}\n",
       "Relation between single-measurement RV precision, $\\sigma_{RV}$, and $T_{\\rm eff}$({\\it left}) and $v\\sin(i)$({\\it right}). Stellar ages are colour-coded. Stars marked as triangles do not have significant IR excess (see Sect. \\ref{ssec:targets:sel}).\n",
       "Horizontal dashed-dotted lines mark the anticipated threshold value for the RV precision of $\\sigma_{RV}=50$ m/s for our longer-term survey (Sect. \\ref{ssec:obs:strat}). Vertical dashed-dotted lines indicate the values of $T_{\\rm eff}=6400$ K (left panel) and $v\\sin(i)=40$ km/s (right panel), above which many target are no longer compatible with our $\\sigma_{RV}\\leq50$ m/s single-measurement RV-precision goal. The vertical dotted line on the right panel marks the lower sensitivity limit (3 km/s) of our $v\\sin(i)$ measurements (Sect. \\ref{ssec:res:par}). The light-blue dashed lines in the right panel show the best linear fits to the correlation between $v\\sin(i)$ and $\\log(\\sigma_{RV})$ for $v\\sin(i)\\leq40$ km/s and $v\\sin(i)\\geq40$ km/s.\n",
       " (*fig:vsini*)\n",
       "\n",
       "</div>\n",
       "<div id=\"div_fig3\">\n",
       "\n",
       "<img src=\"tmp_2209.01125/./fig_RVSPY_obs111_Teff_Mpdetlim_2022Aug.png\" alt=\"Fig11\" width=\"100%\"/>\n",
       "\n",
       "**Figure 11. -** \\label{fig:Mp_vs_Teff}\n",
       "Mass detection limits for hypothetical companions with $P=1$ yr that induce an RV amplitude three times larger than the activity-jitter rms derived from the high-cadence observations, plotted vs. host star (spectroscopic) $T_{\\rm eff}$. Ages are coded in colour. Stars marked as triangles do not have a significant IR excess (see Sect. \\ref{ssec:targets:sel}).\n",
       "The horizontal dashed-dotted line marks the approximate boundary between the low-mass stellar and substellar regimes and the dashed line marks the approximate boundary between the planetary and brown-dwarf mass regimes. The dotted line marks 3 M$_{\\rm Jup}$.\n",
       " (*fig:Mp_vs_Teff*)\n",
       "\n",
       "</div>"
      ],
      "text/plain": [
       "<IPython.core.display.Markdown object>"
      ]
     },
     "metadata": {},
     "output_type": "display_data"
    }
   ],
   "source": [
    "[display(Markdown(k[1])) for k in documents];"
   ]
  },
  {
   "cell_type": "markdown",
   "id": "873873a4",
   "metadata": {
    "papermill": {
     "duration": 0.008222,
     "end_time": "2022-09-06T05:24:31.509170",
     "exception": false,
     "start_time": "2022-09-06T05:24:31.500948",
     "status": "completed"
    },
    "tags": []
   },
   "source": [
    "# Create HTML index"
   ]
  },
  {
   "cell_type": "code",
   "execution_count": 10,
   "id": "cf665672",
   "metadata": {
    "execution": {
     "iopub.execute_input": "2022-09-06T05:24:31.527004Z",
     "iopub.status.busy": "2022-09-06T05:24:31.526374Z",
     "iopub.status.idle": "2022-09-06T05:24:31.534821Z",
     "shell.execute_reply": "2022-09-06T05:24:31.534182Z"
    },
    "papermill": {
     "duration": 0.019064,
     "end_time": "2022-09-06T05:24:31.536350",
     "exception": false,
     "start_time": "2022-09-06T05:24:31.517286",
     "status": "completed"
    },
    "tags": []
   },
   "outputs": [
    {
     "name": "stdout",
     "output_type": "stream",
     "text": [
      "24  publications in the last 7 days.\n",
      "\t _build/html/2209.01125.md\n",
      "\t _build/html/2209.00828.md\n",
      "\t _build/html/2209.00363.md\n",
      "\t _build/html/2208.14927.md\n",
      "\t _build/html/2208.09335.md\n",
      "\t _build/html/2208.08872.md\n",
      "\t _build/html/2204.06393.md\n",
      "\t _build/html/2204.03335.md\n",
      "\t _build/html/2204.03253.md\n",
      "\t _build/html/2204.02998.md\n",
      "\t _build/html/2204.02109.md\n",
      "\t _build/html/2204.02017.md\n",
      "\t _build/html/2204.01824.md\n",
      "\t _build/html/2204.01758.md\n",
      "\t _build/html/2204.01245.md\n",
      "\t _build/html/2204.00793.md\n",
      "\t _build/html/2204.00342.md\n",
      "\t _build/html/2203.16959.md\n",
      "\t _build/html/2203.16856.md\n",
      "\t _build/html/2203.16735.md\n",
      "\t _build/html/2203.16734.md\n",
      "\t _build/html/2203.16504.md\n",
      "\t _build/html/2203.15822.md\n",
      "\t _build/html/2203.15811.md\n"
     ]
    }
   ],
   "source": [
    "from datetime import datetime, timedelta, timezone\n",
    "from glob import glob\n",
    "\n",
    "files = glob('_build/html/*.md')\n",
    "days = 7\n",
    "now = datetime.today()\n",
    "res = []\n",
    "for fk in files:\n",
    "    stat_result = os.stat(fk).st_ctime\n",
    "    modified = datetime.fromtimestamp(stat_result, tz=timezone.utc).replace(tzinfo=None)\n",
    "    delta = now.today() - modified\n",
    "    if delta <= timedelta(days=days):\n",
    "        res.append((delta.seconds, fk))\n",
    "res = [k[1] for k in reversed(sorted(res, key=lambda x:x[1]))]\n",
    "npub = len(res)\n",
    "print(len(res), f\" publications in the last {days:d} days.\")\n",
    "[ print('\\t', k) for k in res ];"
   ]
  },
  {
   "cell_type": "code",
   "execution_count": 11,
   "id": "52ca0208",
   "metadata": {
    "execution": {
     "iopub.execute_input": "2022-09-06T05:24:31.554392Z",
     "iopub.status.busy": "2022-09-06T05:24:31.553888Z",
     "iopub.status.idle": "2022-09-06T05:24:31.560416Z",
     "shell.execute_reply": "2022-09-06T05:24:31.559762Z"
    },
    "papermill": {
     "duration": 0.017158,
     "end_time": "2022-09-06T05:24:31.561847",
     "exception": false,
     "start_time": "2022-09-06T05:24:31.544689",
     "status": "completed"
    },
    "scrolled": false,
    "tags": []
   },
   "outputs": [],
   "source": [
    "def create_carousel(npub=4):\n",
    "    \"\"\" Generate the HTML code for a carousel with `npub` slides \"\"\"\n",
    "    carousel = [\"\"\"<section class=\"carousel\" aria-label=\"Gallery\">\"\"\",\n",
    "                \"\"\"  <ol class=\"carousel__viewport\">\"\"\",\n",
    "    ]\n",
    "    for k in range(1, npub + 1):\n",
    "        prev_ = k - 1\n",
    "        next_ = k + 1\n",
    "        if prev_ <= 0:\n",
    "            prev_ = npub\n",
    "        if next_ > npub:\n",
    "            next_ = 1\n",
    "        text  = f\"\"\"    <li id=\"carousel__slide{k}\" tabindex=\"0\" class=\"carousel__slide\">\\n\"\"\"\n",
    "        text += f\"\"\"       <div class=\"carousel__snapper\">\\n\"\"\"\n",
    "        text += f\"\"\"         <a href=\"#carousel__slide{prev_}\" class=\"carousel__prev\">Go to previous slide</a>\\n\"\"\"\n",
    "        text += f\"\"\"         <a href=\"#carousel__slide{next_}\" class=\"carousel__next\">Go to next slide</a>\\n\"\"\"\n",
    "        text += f\"\"\"         <div id=\"slide{k}_content\" class=\"md_view\" >Content {k}</div>\\n\"\"\"\n",
    "        text += f\"\"\"       </div>\\n\"\"\"\n",
    "        text += f\"\"\"    </li>\"\"\"\n",
    "        carousel.append(text)\n",
    "\n",
    "    carousel.extend([\n",
    "        \"\"\"  </ol>\"\"\",\n",
    "        \"\"\"  <aside class=\"carousel__navigation\">\"\"\",\n",
    "        \"\"\"    <ol class=\"carousel__navigation-list\">\"\"\"])\n",
    "\n",
    "    for k in range(1, npub + 1):\n",
    "        text  = f\"\"\"      <li class=\"carousel__navigation-item\">\\n\"\"\"\n",
    "        text += f\"\"\"        <a href=\"#carousel__slide{k}\" class=\"carousel__navigation-button\">Go to {k}</a>\\n\"\"\"\n",
    "        text += f\"\"\"      </li>\"\"\"\n",
    "        carousel.append(text)\n",
    "    carousel.extend([\"\"\"    </ol>\"\"\", \"\"\"  </aside>\"\"\", \"\"\"</section>\"\"\"])\n",
    "\n",
    "    return '\\n'.join(carousel)"
   ]
  },
  {
   "cell_type": "code",
   "execution_count": 12,
   "id": "a6eac5b6",
   "metadata": {
    "execution": {
     "iopub.execute_input": "2022-09-06T05:24:31.580424Z",
     "iopub.status.busy": "2022-09-06T05:24:31.580159Z",
     "iopub.status.idle": "2022-09-06T05:24:31.586509Z",
     "shell.execute_reply": "2022-09-06T05:24:31.585846Z"
    },
    "papermill": {
     "duration": 0.017674,
     "end_time": "2022-09-06T05:24:31.587989",
     "exception": false,
     "start_time": "2022-09-06T05:24:31.570315",
     "status": "completed"
    },
    "scrolled": false,
    "tags": []
   },
   "outputs": [],
   "source": [
    "carousel = create_carousel(npub)\n",
    "docs = ', '.join(['\"{0:s}\"'.format(k.split('/')[-1]) for k in res])\n",
    "slides = ', '.join([f'\"slide{k}_content\"' for k in range(1, npub + 1)])\n",
    "\n",
    "script = f\"\"\"\n",
    "const docs = [{docs}]\n",
    "\n",
    "const slides = [{slides}]\n",
    "\"\"\" + \"\"\"\n",
    "async function run() {\n",
    "    for (let i = 0; i < docs.length; i++) {\n",
    "        let file = await fetch(docs[i]);\n",
    "        let text = await file.text()\n",
    "        document.getElementById(slides[i]).innerHTML =\n",
    "            marked.parse(text);\n",
    "    }\n",
    "    hljs.highlightAll();\n",
    "}\n",
    "run()\n",
    "\"\"\"\n",
    "\n",
    "page = f\"\"\"<!doctype html>\n",
    "<html lang=\"en\">\n",
    "\n",
    "<head>\n",
    "  <meta charset=\"utf-8\">\n",
    "  <meta name=\"viewport\" content=\"width=device-width, initial-scale=1\">\n",
    "  <!-- Bootstrap CSS -->\n",
    "  <link href=\"https://cdn.jsdelivr.net/npm/bootstrap@5.0.2/dist/css/bootstrap.min.css\" rel=\"stylesheet\"\n",
    "   integrity=\"sha384-EVSTQN3/azprG1Anm3QDgpJLIm9Nao0Yz1ztcQTwFspd3yD65VohhpuuCOmLASjC\" crossorigin=\"anonymous\">\n",
    "  <!-- highlight.js CSS -->\n",
    "  <link rel=\"stylesheet\" href=\"https://cdnjs.cloudflare.com/ajax/libs/highlight.js/11.1.0/styles/default.min.css\">\n",
    "  <!-- Mathjax 3 -->\n",
    "  <script type=\"text/javascript\" id=\"MathJax-config\" src=\"mathjax_config.js\"> </script>\n",
    "  <script type=\"text/javascript\" id=\"MathJax-script\" async \n",
    "    src=\"https://cdn.jsdelivr.net/npm/mathjax@3/es5/tex-mml-chtml.js\">\n",
    "  </script>\n",
    "  <link rel=\"stylesheet\" href=\"index_carousel.css\">\n",
    "  <link rel=\"icon\" type=\"image/x-icon\" href=\"https://www.mpia.de/assets/touch-icon-32x32-a66937bcebc4e8894ebff1f41a366c7c7220fd97a38869ee0f2db65a9f59b6c1.png\">\n",
    "  <title>MPIA Arxiv on deck!</title>\n",
    "</head>\n",
    "\n",
    "<body>\n",
    "  <div id=\"header\"> <img src=\"header_banner.png\" width=\"100%\"></div>\n",
    "  <div id=\"suptitle\"> 7-day archives </div>\n",
    "  <div id=\"info\">\n",
    "    <img src=\"https://pngimg.com/uploads/github/github_PNG58.png\" height=30rem></img>\n",
    "    <a href=https://github.com/mpi-astronomy/arxiv_display style=\"color:black;\">github/mpi-astronomy/arxiv_display</a> \n",
    "  </div>\n",
    "  {carousel:s}\n",
    "</body>\n",
    "\n",
    "<!-- Render Markdown -->\n",
    "\n",
    "<body>\n",
    "  <!-- highlight.js: https://highlightjs.org/download/ -->\n",
    "  <script src=\"https://cdnjs.cloudflare.com/ajax/libs/highlight.js/11.5.0/highlight.min.js\"></script>\n",
    "  <!-- marked.js -->\n",
    "  <script src=\"https://cdn.jsdelivr.net/npm/marked/marked.min.js\"></script>\n",
    "  <script>{script:s}</script>\n",
    "</body>\n",
    "</html>\n",
    "\"\"\"\n",
    "with open(\"_build/html/index_7days.html\", 'w') as fout:\n",
    "    fout.write(page)"
   ]
  },
  {
   "cell_type": "markdown",
   "id": "1cebacbc",
   "metadata": {
    "papermill": {
     "duration": 0.008201,
     "end_time": "2022-09-06T05:24:31.604459",
     "exception": false,
     "start_time": "2022-09-06T05:24:31.596258",
     "status": "completed"
    },
    "tags": []
   },
   "source": [
    "# Debugging papers"
   ]
  },
  {
   "cell_type": "raw",
   "id": "debe7cc6",
   "metadata": {
    "papermill": {
     "duration": 0.008114,
     "end_time": "2022-09-06T05:24:31.620827",
     "exception": false,
     "start_time": "2022-09-06T05:24:31.612713",
     "status": "completed"
    },
    "tags": []
   },
   "source": [
    "raise NotImplementedError(\"Manual Stop\")"
   ]
  },
  {
   "cell_type": "raw",
   "id": "eb169192",
   "metadata": {
    "papermill": {
     "duration": 0.008148,
     "end_time": "2022-09-06T05:24:31.637195",
     "exception": false,
     "start_time": "2022-09-06T05:24:31.629047",
     "status": "completed"
    },
    "scrolled": true,
    "tags": []
   },
   "source": [
    "from IPython.display import display, Markdown\n",
    "from TexSoup import TexSoup\n",
    "import re\n",
    "\n",
    "def bracket_error(source: str):\n",
    "    \"\"\" Find problematic portions of the document \"\"\"\n",
    "    \n",
    "    print(\"len(source)\", len(source))\n",
    "    \n",
    "    # Checking header\n",
    "    begin_doc = next(re.finditer(r'\\\\begin\\{document\\}', doc.source)).span()[1]\n",
    "    header = source[:begin_doc]\n",
    "    text = header + r\"\\n\\end{document}\"\n",
    "\n",
    "    try:\n",
    "        # print(\"Header check... \", end='')\n",
    "        TexSoup(text)\n",
    "        display(Markdown(f\"**[OK]** - Header\"))\n",
    "    except:\n",
    "        raise RuntimeError(\"Error in the header\")\n",
    "        \n",
    "    # Check the text per section until the end.\n",
    "    # Do not stop and try them all.\n",
    "    \n",
    "    problematic_text = []\n",
    "    \n",
    "    sections = ([(0, begin_doc, 'until first section')] + \n",
    "                [(g.span()[0], g.span()[1], g.group()) for g in re.finditer(r'\\\\section\\{.*\\}', source)] +\n",
    "                [(g.span()[0], g.span()[1], g.group()) for g in re.finditer(r'\\\\begin\\{appendix\\}', source)]\n",
    "               )\n",
    "    sections.append([len(source), len(source), 'end'])\n",
    "    \n",
    "    sections = sorted(sections, key=lambda x: x[0])\n",
    "    \n",
    "    prev_pos, prev_name = (0, 'header')\n",
    "    parsed = []\n",
    "    \n",
    "    for span, span_end, name in sections:\n",
    "\n",
    "        if span - prev_pos <= 0:\n",
    "            continue\n",
    "            \n",
    "\n",
    "        text = source[prev_pos:span]\n",
    "        if prev_pos > begin_doc:\n",
    "            text = r\"\\n\\begin{document}\" + text + r\"\\n\\end{document}\"\n",
    "        else:\n",
    "            text = text + r\"\\n\\end{document}\"\n",
    "        try:\n",
    "            #print(f\"{prev_pos}:{prev_name}-->{span}:{name} check... \", end='')\n",
    "            parsed.append(TexSoup(text, tolerance=1))  # allow not ending env\n",
    "            display(Markdown(f\"**[OK]** - *{prev_pos}*:{prev_name} &rarr; *{span}*:{name}\"))\n",
    "            # print(\"ok\")\n",
    "\n",
    "            prev_pos = span\n",
    "            prev_name = name\n",
    "        except:\n",
    "            # print(f\"error between {prev_pos} and {span}\")\n",
    "            display(Markdown(f\"**[ERR]** *{prev_pos}*:{prev_name} &rarr; *{span}*:{name}\"))\n",
    "            problematic_text.append((prev_pos, source[prev_pos:span]))\n",
    "            prev_pos = span\n",
    "            prev_name = name\n",
    "            # raise\n",
    "    return problematic_text, parsed\n",
    "\n",
    "\n",
    "def check_environment(text, offset=0):\n",
    "    \"\"\" Check environment \"\"\"\n",
    "    env = re.compile(r\"\\\\begin\\{(?P<env>.*)\\}(.*)\\\\end\\{(?P=env)\\}\", re.DOTALL)\n",
    "\n",
    "    for match in env.finditer(text):\n",
    "        beg, end = match.span()\n",
    "        beg += offset\n",
    "        end += offset\n",
    "        envname = match.groups()[0]\n",
    "        try:\n",
    "            latex.TexSoup(match.group())\n",
    "        except Exception as e:\n",
    "            display(e)\n",
    "            print(f\"Error in {envname:s} between {beg} and {end}\")\n",
    "            return match.groups()[1], beg, end"
   ]
  },
  {
   "cell_type": "raw",
   "id": "2315e835",
   "metadata": {
    "papermill": {
     "duration": 0.008326,
     "end_time": "2022-09-06T05:24:31.653725",
     "exception": false,
     "start_time": "2022-09-06T05:24:31.645399",
     "status": "completed"
    },
    "scrolled": false,
    "tags": []
   },
   "source": [
    "import importlib\n",
    "importlib.reload(latex)\n",
    "which = \"2204.03253\"\n",
    "paper_id = f'{which:s}'\n",
    "folder = f'tmp_{paper_id:s}'\n",
    "\n",
    "if not os.path.isdir(folder):\n",
    "    folder = retrieve_document_source(f\"{paper_id}\", f'tmp_{paper_id}')\n",
    "\n",
    "try:\n",
    "    doc = latex.LatexDocument(folder, validation=validation)    \n",
    "except AffiliationError as affilerror:\n",
    "    msg = f\"ArXiv:{paper_id:s} is not an MPIA paper... \" + str(affilerror)\n",
    "    print(msg)\n",
    "\n",
    "\n",
    "# Hack because sometimes author parsing does not work well\n",
    "if (len(doc.authors) != len(paper['authors'])):\n",
    "    doc._authors = paper['authors']\n",
    "if (doc.abstract) in (None, ''):\n",
    "    doc._abstract = paper['abstract']\n",
    "\n",
    "doc.comment = get_markdown_badge(paper_id) + \" _\" + paper['comments'] + \"_\"\n",
    "doc.highlight_authors_in_list(hl_list)\n",
    "\n",
    "full_md = doc.generate_markdown_text()"
   ]
  },
  {
   "cell_type": "raw",
   "id": "dd3781db",
   "metadata": {
    "papermill": {
     "duration": 0.008232,
     "end_time": "2022-09-06T05:24:31.670206",
     "exception": false,
     "start_time": "2022-09-06T05:24:31.661974",
     "status": "completed"
    },
    "scrolled": false,
    "tags": []
   },
   "source": [
    "doc"
   ]
  },
  {
   "cell_type": "raw",
   "id": "c6eed834",
   "metadata": {
    "papermill": {
     "duration": 0.008439,
     "end_time": "2022-09-06T05:24:31.687017",
     "exception": false,
     "start_time": "2022-09-06T05:24:31.678578",
     "status": "completed"
    },
    "tags": []
   },
   "source": [
    "# [check_environment(k) for k in bracket_error(doc.source)]\n",
    "_, _, a = latex.get_content_per_section(doc.source, verbose=True)\n",
    "if not a:\n",
    "    print(\"no issues per section\")\n",
    "for ak in a:\n",
    "    r = check_environment(ak[1], offset=ak[0])\n",
    "    print(r[1], r[2])\n",
    "    print(r[0])"
   ]
  },
  {
   "cell_type": "code",
   "execution_count": null,
   "id": "71ce768a",
   "metadata": {
    "papermill": {
     "duration": 0.008152,
     "end_time": "2022-09-06T05:24:31.703404",
     "exception": false,
     "start_time": "2022-09-06T05:24:31.695252",
     "status": "completed"
    },
    "tags": []
   },
   "outputs": [],
   "source": []
  }
 ],
 "metadata": {
  "kernelspec": {
   "display_name": "Python 3.10.6 64-bit",
   "language": "python",
   "name": "python3"
  },
  "language_info": {
   "codemirror_mode": {
    "name": "ipython",
    "version": 3
   },
   "file_extension": ".py",
   "mimetype": "text/x-python",
   "name": "python",
   "nbconvert_exporter": "python",
   "pygments_lexer": "ipython3",
   "version": "3.9.13"
  },
  "papermill": {
   "default_parameters": {},
   "duration": 122.998529,
   "end_time": "2022-09-06T05:24:31.929887",
   "environment_variables": {},
   "exception": null,
   "input_path": "MPIA daily digest.ipynb",
   "output_path": "log.ipynb",
   "parameters": {},
   "start_time": "2022-09-06T05:22:28.931358",
   "version": "2.4.0"
  },
  "vscode": {
   "interpreter": {
    "hash": "e7370f93d1d0cde622a1f8e1c04877d8463912d04d973331ad4851f04de6915a"
   }
  },
  "widgets": {
   "application/vnd.jupyter.widget-state+json": {
    "state": {
     "1221b51815414f61b78a3795af053f3a": {
      "model_module": "@jupyter-widgets/controls",
      "model_module_version": "2.0.0",
      "model_name": "HTMLStyleModel",
      "state": {
       "_model_module": "@jupyter-widgets/controls",
       "_model_module_version": "2.0.0",
       "_model_name": "HTMLStyleModel",
       "_view_count": null,
       "_view_module": "@jupyter-widgets/base",
       "_view_module_version": "2.0.0",
       "_view_name": "StyleView",
       "background": null,
       "description_width": "",
       "font_size": null,
       "text_color": null
      }
     },
     "14ac505a45144f789a8278acbf5cfd79": {
      "model_module": "@jupyter-widgets/base",
      "model_module_version": "2.0.0",
      "model_name": "LayoutModel",
      "state": {
       "_model_module": "@jupyter-widgets/base",
       "_model_module_version": "2.0.0",
       "_model_name": "LayoutModel",
       "_view_count": null,
       "_view_module": "@jupyter-widgets/base",
       "_view_module_version": "2.0.0",
       "_view_name": "LayoutView",
       "align_content": null,
       "align_items": null,
       "align_self": null,
       "border_bottom": null,
       "border_left": null,
       "border_right": null,
       "border_top": null,
       "bottom": null,
       "display": null,
       "flex": null,
       "flex_flow": null,
       "grid_area": null,
       "grid_auto_columns": null,
       "grid_auto_flow": null,
       "grid_auto_rows": null,
       "grid_column": null,
       "grid_gap": null,
       "grid_row": null,
       "grid_template_areas": null,
       "grid_template_columns": null,
       "grid_template_rows": null,
       "height": null,
       "justify_content": null,
       "justify_items": null,
       "left": null,
       "margin": null,
       "max_height": null,
       "max_width": null,
       "min_height": null,
       "min_width": null,
       "object_fit": null,
       "object_position": null,
       "order": null,
       "overflow": null,
       "padding": null,
       "right": null,
       "top": null,
       "visibility": null,
       "width": null
      }
     },
     "253e1a237e32453b8e405d69026a6745": {
      "model_module": "@jupyter-widgets/controls",
      "model_module_version": "2.0.0",
      "model_name": "HTMLStyleModel",
      "state": {
       "_model_module": "@jupyter-widgets/controls",
       "_model_module_version": "2.0.0",
       "_model_name": "HTMLStyleModel",
       "_view_count": null,
       "_view_module": "@jupyter-widgets/base",
       "_view_module_version": "2.0.0",
       "_view_name": "StyleView",
       "background": null,
       "description_width": "",
       "font_size": null,
       "text_color": null
      }
     },
     "39f60f8a39a243dda1867065552762e7": {
      "model_module": "@jupyter-widgets/base",
      "model_module_version": "2.0.0",
      "model_name": "LayoutModel",
      "state": {
       "_model_module": "@jupyter-widgets/base",
       "_model_module_version": "2.0.0",
       "_model_name": "LayoutModel",
       "_view_count": null,
       "_view_module": "@jupyter-widgets/base",
       "_view_module_version": "2.0.0",
       "_view_name": "LayoutView",
       "align_content": null,
       "align_items": null,
       "align_self": null,
       "border_bottom": null,
       "border_left": null,
       "border_right": null,
       "border_top": null,
       "bottom": null,
       "display": null,
       "flex": null,
       "flex_flow": null,
       "grid_area": null,
       "grid_auto_columns": null,
       "grid_auto_flow": null,
       "grid_auto_rows": null,
       "grid_column": null,
       "grid_gap": null,
       "grid_row": null,
       "grid_template_areas": null,
       "grid_template_columns": null,
       "grid_template_rows": null,
       "height": null,
       "justify_content": null,
       "justify_items": null,
       "left": null,
       "margin": null,
       "max_height": null,
       "max_width": null,
       "min_height": null,
       "min_width": null,
       "object_fit": null,
       "object_position": null,
       "order": null,
       "overflow": null,
       "padding": null,
       "right": null,
       "top": null,
       "visibility": null,
       "width": null
      }
     },
     "483c02f91d72424e8086a1acdbe746f6": {
      "model_module": "@jupyter-widgets/controls",
      "model_module_version": "2.0.0",
      "model_name": "HBoxModel",
      "state": {
       "_dom_classes": [],
       "_model_module": "@jupyter-widgets/controls",
       "_model_module_version": "2.0.0",
       "_model_name": "HBoxModel",
       "_view_count": null,
       "_view_module": "@jupyter-widgets/controls",
       "_view_module_version": "2.0.0",
       "_view_name": "HBoxView",
       "box_style": "",
       "children": [
        "IPY_MODEL_a36ff047b81f4759a28a8767ecd6f1fa",
        "IPY_MODEL_9fb8419a254c449194339b3c5d149d34",
        "IPY_MODEL_7878608e152c4b30acae51e441ada02d"
       ],
       "layout": "IPY_MODEL_d1d0565165584074a5c9f51f5e99a25f",
       "tabbable": null,
       "tooltip": null
      }
     },
     "7878608e152c4b30acae51e441ada02d": {
      "model_module": "@jupyter-widgets/controls",
      "model_module_version": "2.0.0",
      "model_name": "HTMLModel",
      "state": {
       "_dom_classes": [],
       "_model_module": "@jupyter-widgets/controls",
       "_model_module_version": "2.0.0",
       "_model_name": "HTMLModel",
       "_view_count": null,
       "_view_module": "@jupyter-widgets/controls",
       "_view_module_version": "2.0.0",
       "_view_name": "HTMLView",
       "description": "",
       "description_allow_html": false,
       "layout": "IPY_MODEL_870c809e459f4bde9b8e9942f3ff7c5a",
       "placeholder": "​",
       "style": "IPY_MODEL_253e1a237e32453b8e405d69026a6745",
       "tabbable": null,
       "tooltip": null,
       "value": " 14/14 [01:38&lt;00:00,  8.57s/it]"
      }
     },
     "80c6440339c5445ca72fe2f7d06d975c": {
      "model_module": "@jupyter-widgets/controls",
      "model_module_version": "2.0.0",
      "model_name": "ProgressStyleModel",
      "state": {
       "_model_module": "@jupyter-widgets/controls",
       "_model_module_version": "2.0.0",
       "_model_name": "ProgressStyleModel",
       "_view_count": null,
       "_view_module": "@jupyter-widgets/base",
       "_view_module_version": "2.0.0",
       "_view_name": "StyleView",
       "bar_color": null,
       "description_width": ""
      }
     },
     "870c809e459f4bde9b8e9942f3ff7c5a": {
      "model_module": "@jupyter-widgets/base",
      "model_module_version": "2.0.0",
      "model_name": "LayoutModel",
      "state": {
       "_model_module": "@jupyter-widgets/base",
       "_model_module_version": "2.0.0",
       "_model_name": "LayoutModel",
       "_view_count": null,
       "_view_module": "@jupyter-widgets/base",
       "_view_module_version": "2.0.0",
       "_view_name": "LayoutView",
       "align_content": null,
       "align_items": null,
       "align_self": null,
       "border_bottom": null,
       "border_left": null,
       "border_right": null,
       "border_top": null,
       "bottom": null,
       "display": null,
       "flex": null,
       "flex_flow": null,
       "grid_area": null,
       "grid_auto_columns": null,
       "grid_auto_flow": null,
       "grid_auto_rows": null,
       "grid_column": null,
       "grid_gap": null,
       "grid_row": null,
       "grid_template_areas": null,
       "grid_template_columns": null,
       "grid_template_rows": null,
       "height": null,
       "justify_content": null,
       "justify_items": null,
       "left": null,
       "margin": null,
       "max_height": null,
       "max_width": null,
       "min_height": null,
       "min_width": null,
       "object_fit": null,
       "object_position": null,
       "order": null,
       "overflow": null,
       "padding": null,
       "right": null,
       "top": null,
       "visibility": null,
       "width": null
      }
     },
     "9fb8419a254c449194339b3c5d149d34": {
      "model_module": "@jupyter-widgets/controls",
      "model_module_version": "2.0.0",
      "model_name": "FloatProgressModel",
      "state": {
       "_dom_classes": [],
       "_model_module": "@jupyter-widgets/controls",
       "_model_module_version": "2.0.0",
       "_model_name": "FloatProgressModel",
       "_view_count": null,
       "_view_module": "@jupyter-widgets/controls",
       "_view_module_version": "2.0.0",
       "_view_name": "ProgressView",
       "bar_style": "success",
       "description": "",
       "description_allow_html": false,
       "layout": "IPY_MODEL_14ac505a45144f789a8278acbf5cfd79",
       "max": 14.0,
       "min": 0.0,
       "orientation": "horizontal",
       "style": "IPY_MODEL_80c6440339c5445ca72fe2f7d06d975c",
       "tabbable": null,
       "tooltip": null,
       "value": 14.0
      }
     },
     "a36ff047b81f4759a28a8767ecd6f1fa": {
      "model_module": "@jupyter-widgets/controls",
      "model_module_version": "2.0.0",
      "model_name": "HTMLModel",
      "state": {
       "_dom_classes": [],
       "_model_module": "@jupyter-widgets/controls",
       "_model_module_version": "2.0.0",
       "_model_name": "HTMLModel",
       "_view_count": null,
       "_view_module": "@jupyter-widgets/controls",
       "_view_module_version": "2.0.0",
       "_view_name": "HTMLView",
       "description": "",
       "description_allow_html": false,
       "layout": "IPY_MODEL_39f60f8a39a243dda1867065552762e7",
       "placeholder": "​",
       "style": "IPY_MODEL_1221b51815414f61b78a3795af053f3a",
       "tabbable": null,
       "tooltip": null,
       "value": "100%"
      }
     },
     "d1d0565165584074a5c9f51f5e99a25f": {
      "model_module": "@jupyter-widgets/base",
      "model_module_version": "2.0.0",
      "model_name": "LayoutModel",
      "state": {
       "_model_module": "@jupyter-widgets/base",
       "_model_module_version": "2.0.0",
       "_model_name": "LayoutModel",
       "_view_count": null,
       "_view_module": "@jupyter-widgets/base",
       "_view_module_version": "2.0.0",
       "_view_name": "LayoutView",
       "align_content": null,
       "align_items": null,
       "align_self": null,
       "border_bottom": null,
       "border_left": null,
       "border_right": null,
       "border_top": null,
       "bottom": null,
       "display": null,
       "flex": null,
       "flex_flow": null,
       "grid_area": null,
       "grid_auto_columns": null,
       "grid_auto_flow": null,
       "grid_auto_rows": null,
       "grid_column": null,
       "grid_gap": null,
       "grid_row": null,
       "grid_template_areas": null,
       "grid_template_columns": null,
       "grid_template_rows": null,
       "height": null,
       "justify_content": null,
       "justify_items": null,
       "left": null,
       "margin": null,
       "max_height": null,
       "max_width": null,
       "min_height": null,
       "min_width": null,
       "object_fit": null,
       "object_position": null,
       "order": null,
       "overflow": null,
       "padding": null,
       "right": null,
       "top": null,
       "visibility": null,
       "width": null
      }
     }
    },
    "version_major": 2,
    "version_minor": 0
   }
  }
 },
 "nbformat": 4,
 "nbformat_minor": 5
}