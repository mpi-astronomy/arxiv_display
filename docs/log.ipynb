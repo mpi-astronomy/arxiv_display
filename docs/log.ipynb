{
 "cells": [
  {
   "cell_type": "markdown",
   "id": "92bcb855",
   "metadata": {
    "papermill": {
     "duration": 0.004701,
     "end_time": "2024-02-23T04:07:53.182479",
     "exception": false,
     "start_time": "2024-02-23T04:07:53.177778",
     "status": "completed"
    },
    "tags": []
   },
   "source": [
    "# MPIA Arxiv on Deck 2\n",
    "\n",
    "Contains the steps to produce the paper extractions."
   ]
  },
  {
   "cell_type": "code",
   "execution_count": 1,
   "id": "3a0d6e11",
   "metadata": {
    "execution": {
     "iopub.execute_input": "2024-02-23T04:07:53.189591Z",
     "iopub.status.busy": "2024-02-23T04:07:53.189343Z",
     "iopub.status.idle": "2024-02-23T04:07:53.500478Z",
     "shell.execute_reply": "2024-02-23T04:07:53.499787Z"
    },
    "papermill": {
     "duration": 0.31679,
     "end_time": "2024-02-23T04:07:53.502296",
     "exception": false,
     "start_time": "2024-02-23T04:07:53.185506",
     "status": "completed"
    },
    "tags": []
   },
   "outputs": [],
   "source": [
    "# Imports\n",
    "import os\n",
    "from IPython.display import Markdown, display\n",
    "from tqdm.notebook import tqdm\n",
    "import warnings\n",
    "from PIL import Image \n",
    "\n",
    "# requires arxiv_on_deck_2\n",
    "\n",
    "from arxiv_on_deck_2.arxiv2 import (get_new_papers, \n",
    "                                    get_paper_from_identifier,\n",
    "                                    retrieve_document_source, \n",
    "                                    get_markdown_badge)\n",
    "from arxiv_on_deck_2 import (latex,\n",
    "                             latex_bib,\n",
    "                             mpia,\n",
    "                             highlight_authors_in_list)\n",
    "\n",
    "# Sometimes images are really big\n",
    "Image.MAX_IMAGE_PIXELS = 1000000000 "
   ]
  },
  {
   "cell_type": "code",
   "execution_count": 2,
   "id": "22aa9d44",
   "metadata": {
    "execution": {
     "iopub.execute_input": "2024-02-23T04:07:53.509802Z",
     "iopub.status.busy": "2024-02-23T04:07:53.509235Z",
     "iopub.status.idle": "2024-02-23T04:07:53.514749Z",
     "shell.execute_reply": "2024-02-23T04:07:53.514040Z"
    },
    "papermill": {
     "duration": 0.010727,
     "end_time": "2024-02-23T04:07:53.516100",
     "exception": false,
     "start_time": "2024-02-23T04:07:53.505373",
     "status": "completed"
    },
    "tags": []
   },
   "outputs": [],
   "source": [
    "# Some useful definitions.\n",
    "\n",
    "class AffiliationWarning(UserWarning):\n",
    "    pass\n",
    "\n",
    "class AffiliationError(RuntimeError):\n",
    "    pass\n",
    "\n",
    "def validation(source: str):\n",
    "    \"\"\"Raises error paper during parsing of source file\n",
    "    \n",
    "    Allows checks before parsing TeX code.\n",
    "    \n",
    "    Raises AffiliationWarning\n",
    "    \"\"\"\n",
    "    check = mpia.affiliation_verifications(source, verbose=True)\n",
    "    if check is not True:\n",
    "        raise AffiliationError(\"mpia.affiliation_verifications: \" + check)\n",
    "\n",
    "        \n",
    "warnings.simplefilter('always', AffiliationWarning)\n",
    "\n",
    "\n",
    "def get_markdown_qrcode(paper_id: str):\n",
    "    \"\"\" Generate a qrcode to the arxiv page using qrserver.com\n",
    "    \n",
    "    :param paper: Arxiv paper\n",
    "    :returns: markdown text\n",
    "    \"\"\"\n",
    "    url = r\"https://api.qrserver.com/v1/create-qr-code/?size=100x100&data=\"\n",
    "    txt = f\"\"\"<img src={url}\"https://arxiv.org/abs/{paper_id}\">\"\"\"\n",
    "    txt = '<div id=\"qrcode\">' + txt + '</div>'\n",
    "    return txt"
   ]
  },
  {
   "cell_type": "markdown",
   "id": "14bd6310",
   "metadata": {
    "papermill": {
     "duration": 0.00278,
     "end_time": "2024-02-23T04:07:53.521893",
     "exception": false,
     "start_time": "2024-02-23T04:07:53.519113",
     "status": "completed"
    },
    "tags": []
   },
   "source": [
    "## get list of arxiv paper candidates\n",
    "\n",
    "We use the MPIA mitarbeiter list webpage from mpia.de to get author names\n",
    "We then get all new papers from Arxiv and match authors"
   ]
  },
  {
   "cell_type": "code",
   "execution_count": 3,
   "id": "2645e73a",
   "metadata": {
    "execution": {
     "iopub.execute_input": "2024-02-23T04:07:53.529169Z",
     "iopub.status.busy": "2024-02-23T04:07:53.528510Z",
     "iopub.status.idle": "2024-02-23T04:08:14.452817Z",
     "shell.execute_reply": "2024-02-23T04:08:14.452100Z"
    },
    "papermill": {
     "duration": 20.929547,
     "end_time": "2024-02-23T04:08:14.454228",
     "exception": false,
     "start_time": "2024-02-23T04:07:53.524681",
     "status": "completed"
    },
    "tags": []
   },
   "outputs": [
    {
     "name": "stdout",
     "output_type": "stream",
     "text": [
      "J. Li  ->  J. Li  |  ['J. Li']\n",
      "E.-M. Ahrer  ->  E.-M. Ahrer  |  ['E.-M. Ahrer']\n",
      "D. Semenov  ->  D. Semenov  |  ['D. Semenov']\n",
      "K. Schwarz  ->  K. Schwarz  |  ['K. Schwarz']\n",
      "S. v. Terwisga  ->  S. v. Terwisga  |  ['S. v. Terwisga']\n",
      "Arxiv has 41 new papers today\n",
      "          3 with possible author matches\n"
     ]
    }
   ],
   "source": [
    "# get list from MPIA website\n",
    "# it automatically filters identified non-scientists :func:`mpia.filter_non_scientists`\n",
    "mpia_authors = mpia.get_mpia_mitarbeiter_list()\n",
    "normed_mpia_authors = [k[1] for k in mpia_authors]   # initials + fullname\n",
    "new_papers = get_new_papers()\n",
    "# add manual references\n",
    "add_paper_refs = []\n",
    "new_papers.extend([get_paper_from_identifier(k) for k in add_paper_refs])\n",
    "\n",
    "candidates = []\n",
    "for paperk in new_papers:\n",
    "    # Check author list with their initials\n",
    "    normed_author_list = [mpia.get_initials(k) for k in paperk['authors']]\n",
    "    hl_authors = highlight_authors_in_list(normed_author_list, normed_mpia_authors, verbose=True)\n",
    "    matches = [(hl, orig) for hl, orig in zip(hl_authors, paperk['authors']) if 'mark' in hl]\n",
    "    paperk['authors'] = hl_authors\n",
    "    if matches:\n",
    "        # only select paper if an author matched our list\n",
    "        candidates.append(paperk)\n",
    "print(\"\"\"Arxiv has {0:,d} new papers today\"\"\".format(len(new_papers)))        \n",
    "print(\"\"\"          {0:,d} with possible author matches\"\"\".format(len(candidates)))"
   ]
  },
  {
   "cell_type": "markdown",
   "id": "3543b34a",
   "metadata": {
    "papermill": {
     "duration": 0.003016,
     "end_time": "2024-02-23T04:08:14.460437",
     "exception": false,
     "start_time": "2024-02-23T04:08:14.457421",
     "status": "completed"
    },
    "tags": []
   },
   "source": [
    "# Parse sources and generate relevant outputs\n",
    "\n",
    "From the candidates, we do the following steps:\n",
    "* get their tarball from ArXiv (and extract data)\n",
    "* find the main .tex file: find one with \\documentclass{...} (sometimes it's non trivial)\n",
    "* Check affiliations with :func:`validation`, which uses :func:`mpia.affiliation_verifications`\n",
    "* If passing the affiliations: we parse the .tex source\n",
    "   * inject sub-documents into the main (flatten the main document)\n",
    "   * parse structure, extract information (title, abstract, authors, figures...)\n",
    "   * handles `\\graphicspath` if provided\n",
    "* Generate the .md document."
   ]
  },
  {
   "cell_type": "code",
   "execution_count": 4,
   "id": "9576b79e",
   "metadata": {
    "execution": {
     "iopub.execute_input": "2024-02-23T04:08:14.467130Z",
     "iopub.status.busy": "2024-02-23T04:08:14.466918Z",
     "iopub.status.idle": "2024-02-23T04:10:25.201896Z",
     "shell.execute_reply": "2024-02-23T04:10:25.201170Z"
    },
    "papermill": {
     "duration": 130.745102,
     "end_time": "2024-02-23T04:10:25.208356",
     "exception": false,
     "start_time": "2024-02-23T04:08:14.463254",
     "status": "completed"
    },
    "scrolled": false,
    "tags": []
   },
   "outputs": [
    {
     "data": {
      "application/vnd.jupyter.widget-view+json": {
       "model_id": "006e35655eec4e14b69c56c25aa27d0b",
       "version_major": 2,
       "version_minor": 0
      },
      "text/plain": [
       "  0%|          | 0/3 [00:00<?, ?it/s]"
      ]
     },
     "metadata": {},
     "output_type": "display_data"
    },
    {
     "name": "stdout",
     "output_type": "stream",
     "text": [
      "Retrieving document from  https://arxiv.org/e-print/2402.14135\n"
     ]
    },
    {
     "name": "stdout",
     "output_type": "stream",
     "text": [
      "extracting tarball to tmp_2402.14135... done.\n",
      "Retrieving document from  https://arxiv.org/e-print/2402.14535\n"
     ]
    },
    {
     "name": "stdout",
     "output_type": "stream",
     "text": [
      "extracting tarball to tmp_2402.14535..."
     ]
    },
    {
     "name": "stdout",
     "output_type": "stream",
     "text": [
      " done.\n"
     ]
    },
    {
     "name": "stdout",
     "output_type": "stream",
     "text": [
      "Found 86 bibliographic references in tmp_2402.14535/paper.bbl.\n",
      "Retrieving document from  https://arxiv.org/e-print/2402.14653\n"
     ]
    },
    {
     "name": "stdout",
     "output_type": "stream",
     "text": [
      "extracting tarball to tmp_2402.14653..."
     ]
    },
    {
     "name": "stdout",
     "output_type": "stream",
     "text": [
      " done.\n"
     ]
    },
    {
     "name": "stderr",
     "output_type": "stream",
     "text": [
      "/opt/hostedtoolcache/Python/3.9.18/x64/lib/python3.9/site-packages/IPython/core/interactiveshell.py:3550: LatexWarning: Multiple tex files.\n",
      "\n",
      "  exec(code_obj, self.user_global_ns, self.user_ns)\n",
      "/opt/hostedtoolcache/Python/3.9.18/x64/lib/python3.9/site-packages/IPython/core/interactiveshell.py:3550: LatexWarning: Found documentclass in tmp_2402.14653/ms.tex\n",
      "\n",
      "  exec(code_obj, self.user_global_ns, self.user_ns)\n",
      "/opt/hostedtoolcache/Python/3.9.18/x64/lib/python3.9/site-packages/arxiv_on_deck_2/latex.py:399: LatexWarning: Latex injecting: 'combined_line_plot_function' from 'tmp_2402.14653/combined_line_plot_function.tex'\n",
      "  warnings.warn(LatexWarning(f\"Latex injecting: '{ext}' from '{subsource}'\"))\n",
      "/opt/hostedtoolcache/Python/3.9.18/x64/lib/python3.9/site-packages/arxiv_on_deck_2/latex.py:399: LatexWarning: Latex injecting: 'combined_line_plot_function' from 'tmp_2402.14653/combined_line_plot_function.tex'\n",
      "  warnings.warn(LatexWarning(f\"Latex injecting: '{ext}' from '{subsource}'\"))\n",
      "/opt/hostedtoolcache/Python/3.9.18/x64/lib/python3.9/site-packages/arxiv_on_deck_2/latex.py:399: LatexWarning: Latex injecting: 'combined_line_plot_function' from 'tmp_2402.14653/combined_line_plot_function.tex'\n",
      "  warnings.warn(LatexWarning(f\"Latex injecting: '{ext}' from '{subsource}'\"))\n",
      "/opt/hostedtoolcache/Python/3.9.18/x64/lib/python3.9/site-packages/arxiv_on_deck_2/latex.py:399: LatexWarning: Latex injecting: 'combined_line_plot_function' from 'tmp_2402.14653/combined_line_plot_function.tex'\n",
      "  warnings.warn(LatexWarning(f\"Latex injecting: '{ext}' from '{subsource}'\"))\n",
      "/opt/hostedtoolcache/Python/3.9.18/x64/lib/python3.9/site-packages/arxiv_on_deck_2/latex.py:399: LatexWarning: Latex injecting: 'combined_line_plot_function' from 'tmp_2402.14653/combined_line_plot_function.tex'\n",
      "  warnings.warn(LatexWarning(f\"Latex injecting: '{ext}' from '{subsource}'\"))\n",
      "/opt/hostedtoolcache/Python/3.9.18/x64/lib/python3.9/site-packages/arxiv_on_deck_2/latex.py:399: LatexWarning: Latex injecting: 'combined_line_plot_function' from 'tmp_2402.14653/combined_line_plot_function.tex'\n",
      "  warnings.warn(LatexWarning(f\"Latex injecting: '{ext}' from '{subsource}'\"))\n",
      "/opt/hostedtoolcache/Python/3.9.18/x64/lib/python3.9/site-packages/arxiv_on_deck_2/latex.py:399: LatexWarning: Latex injecting: 'combined_line_plot_function' from 'tmp_2402.14653/combined_line_plot_function.tex'\n",
      "  warnings.warn(LatexWarning(f\"Latex injecting: '{ext}' from '{subsource}'\"))\n",
      "/opt/hostedtoolcache/Python/3.9.18/x64/lib/python3.9/site-packages/arxiv_on_deck_2/latex.py:399: LatexWarning: Latex injecting: 'gotau-setup-1b_table' from 'tmp_2402.14653/gotau-setup-1b_table.tex'\n",
      "  warnings.warn(LatexWarning(f\"Latex injecting: '{ext}' from '{subsource}'\"))\n",
      "/opt/hostedtoolcache/Python/3.9.18/x64/lib/python3.9/site-packages/arxiv_on_deck_2/latex.py:399: LatexWarning: Latex injecting: 'ms.bbl' from 'tmp_2402.14653/ms.tex'\n",
      "  warnings.warn(LatexWarning(f\"Latex injecting: '{ext}' from '{subsource}'\"))\n",
      "/opt/hostedtoolcache/Python/3.9.18/x64/lib/python3.9/site-packages/arxiv_on_deck_2/latex.py:399: LatexWarning: Latex injecting: 'diskfit_phys_table' from 'tmp_2402.14653/diskfit_phys_table.tex'\n",
      "  warnings.warn(LatexWarning(f\"Latex injecting: '{ext}' from '{subsource}'\"))\n",
      "/opt/hostedtoolcache/Python/3.9.18/x64/lib/python3.9/site-packages/arxiv_on_deck_2/latex.py:399: LatexWarning: Latex injecting: 'diskfit_geom_table' from 'tmp_2402.14653/diskfit_geom_table.tex'\n",
      "  warnings.warn(LatexWarning(f\"Latex injecting: '{ext}' from '{subsource}'\"))\n",
      "/opt/hostedtoolcache/Python/3.9.18/x64/lib/python3.9/site-packages/arxiv_on_deck_2/latex.py:399: LatexWarning: Latex injecting: 'observed_fluxes_table' from 'tmp_2402.14653/observed_fluxes_table.tex'\n",
      "  warnings.warn(LatexWarning(f\"Latex injecting: '{ext}' from '{subsource}'\"))\n"
     ]
    },
    {
     "name": "stderr",
     "output_type": "stream",
     "text": [
      "/opt/hostedtoolcache/Python/3.9.18/x64/lib/python3.9/site-packages/arxiv_on_deck_2/latex.py:120: LatexWarning: attempting recovering figure Figures/CO_images/composite/#1/ANALYSIS/#2/#1-#2-composite.pdf\n",
      "  warnings.warn(LatexWarning(f'attempting recovering figure {image}'))\n",
      "/opt/hostedtoolcache/Python/3.9.18/x64/lib/python3.9/site-packages/arxiv_on_deck_2/latex.py:692: LatexWarning: Could not find graphic \\includegraphics[width=0.72\\hsize,clip]{Figures/CO_images/composite/#1/ANALYSIS/#2/#1-#2-composite.pdf}\n",
      "  warnings.warn(LatexWarning(f\"Could not find graphic {k}\"))\n",
      "/opt/hostedtoolcache/Python/3.9.18/x64/lib/python3.9/site-packages/arxiv_on_deck_2/latex.py:120: LatexWarning: attempting recovering figure Figures/CO_images/kepler/#1/ANALYSIS/#2/#1-#2-kepler.pdf\n",
      "  warnings.warn(LatexWarning(f'attempting recovering figure {image}'))\n",
      "/opt/hostedtoolcache/Python/3.9.18/x64/lib/python3.9/site-packages/arxiv_on_deck_2/latex.py:692: LatexWarning: Could not find graphic \\includegraphics[width=0.7\\hsize,clip]{Figures/CO_images/kepler/#1/ANALYSIS/#2/#1-#2-kepler.pdf}\n",
      "  warnings.warn(LatexWarning(f\"Could not find graphic {k}\"))\n"
     ]
    },
    {
     "name": "stderr",
     "output_type": "stream",
     "text": [
      "/opt/hostedtoolcache/Python/3.9.18/x64/lib/python3.9/site-packages/arxiv_on_deck_2/latex.py:120: LatexWarning: attempting recovering figure Figures/CO_images/composite/#1/ANALYSIS/#2/#1-#2-composite.pdf\n",
      "  warnings.warn(LatexWarning(f'attempting recovering figure {image}'))\n",
      "/opt/hostedtoolcache/Python/3.9.18/x64/lib/python3.9/site-packages/arxiv_on_deck_2/latex.py:692: LatexWarning: Could not find graphic \\includegraphics[width=0.72\\hsize,clip]{Figures/CO_images/composite/#1/ANALYSIS/#2/#1-#2-composite.pdf}\n",
      "  warnings.warn(LatexWarning(f\"Could not find graphic {k}\"))\n",
      "/opt/hostedtoolcache/Python/3.9.18/x64/lib/python3.9/site-packages/arxiv_on_deck_2/latex.py:120: LatexWarning: attempting recovering figure Figures/CO_images/kepler/#1/ANALYSIS/#2/#1-#2-kepler.pdf\n",
      "  warnings.warn(LatexWarning(f'attempting recovering figure {image}'))\n",
      "/opt/hostedtoolcache/Python/3.9.18/x64/lib/python3.9/site-packages/arxiv_on_deck_2/latex.py:692: LatexWarning: Could not find graphic \\includegraphics[width=0.7\\hsize,clip]{Figures/CO_images/kepler/#1/ANALYSIS/#2/#1-#2-kepler.pdf}\n",
      "  warnings.warn(LatexWarning(f\"Could not find graphic {k}\"))\n"
     ]
    },
    {
     "name": "stdout",
     "output_type": "stream",
     "text": [
      "Found 159 bibliographic references in tmp_2402.14653/ms.bbl.\n"
     ]
    }
   ],
   "source": [
    "documents = []\n",
    "failed = []\n",
    "for paper in tqdm(candidates):\n",
    "    paper_id = paper['identifier'].lower().replace('arxiv:', '')\n",
    "    \n",
    "    folder = f'tmp_{paper_id}'\n",
    "\n",
    "    try:\n",
    "        if not os.path.isdir(folder):\n",
    "            folder = retrieve_document_source(f\"{paper_id}\", f'tmp_{paper_id}')\n",
    "        \n",
    "        try:\n",
    "            doc = latex.LatexDocument(folder, validation=validation)    \n",
    "        except AffiliationError as affilerror:\n",
    "            msg = f\"ArXiv:{paper_id:s} is not an MPIA paper... \" + str(affilerror)\n",
    "            failed.append((paper, \"affiliation error: \" + str(affilerror) ))\n",
    "            continue\n",
    "        \n",
    "        # Hack because sometimes author parsing does not work well\n",
    "        if (len(doc.authors) != len(paper['authors'])):\n",
    "            doc._authors = paper['authors']\n",
    "        else:\n",
    "            # highlight authors (FIXME: doc.highlight_authors)\n",
    "            # done on arxiv paper already\n",
    "            doc._authors = highlight_authors_in_list(\n",
    "                [mpia.get_initials(k) for k in doc.authors], \n",
    "                normed_mpia_authors, verbose=True)\n",
    "        if (doc.abstract) in (None, ''):\n",
    "            doc._abstract = paper['abstract']\n",
    "            \n",
    "        doc.comment = (get_markdown_badge(paper_id) + \n",
    "                       \"<mark>Appeared on: \" + paper['date'] + \"</mark> - \")\n",
    "        if paper['comments']:\n",
    "            doc.comment += \" _\" + paper['comments'] + \"_\"\n",
    "        \n",
    "        full_md = doc.generate_markdown_text()\n",
    "        \n",
    "        full_md += get_markdown_qrcode(paper_id)\n",
    "        \n",
    "        # replace citations\n",
    "        try:\n",
    "            bibdata = latex_bib.LatexBib.from_doc(doc)\n",
    "            full_md = latex_bib.replace_citations(full_md, bibdata)\n",
    "        except Exception as e:\n",
    "            print(e)\n",
    "        \n",
    "        documents.append((paper_id, full_md))\n",
    "    except Exception as e:\n",
    "        warnings.warn(latex.LatexWarning(f\"{paper_id:s} did not run properly\\n\" +\n",
    "                                         str(e)\n",
    "                                        ))\n",
    "        failed.append((paper, \"latex error \" + str(e)))"
   ]
  },
  {
   "cell_type": "markdown",
   "id": "2505a25c",
   "metadata": {
    "papermill": {
     "duration": 0.003699,
     "end_time": "2024-02-23T04:10:25.215817",
     "exception": false,
     "start_time": "2024-02-23T04:10:25.212118",
     "status": "completed"
    },
    "tags": []
   },
   "source": [
    "### Export the logs\n",
    "\n",
    "Throughout, we also keep track of the logs per paper. see `logs-{today date}.md` "
   ]
  },
  {
   "cell_type": "code",
   "execution_count": 5,
   "id": "d733828a",
   "metadata": {
    "execution": {
     "iopub.execute_input": "2024-02-23T04:10:25.224307Z",
     "iopub.status.busy": "2024-02-23T04:10:25.224021Z",
     "iopub.status.idle": "2024-02-23T04:10:25.238200Z",
     "shell.execute_reply": "2024-02-23T04:10:25.237504Z"
    },
    "papermill": {
     "duration": 0.020197,
     "end_time": "2024-02-23T04:10:25.239635",
     "exception": false,
     "start_time": "2024-02-23T04:10:25.219438",
     "status": "completed"
    },
    "scrolled": false,
    "tags": []
   },
   "outputs": [
    {
     "data": {
      "text/markdown": [
       "## Successful papers"
      ],
      "text/plain": [
       "<IPython.core.display.Markdown object>"
      ]
     },
     "metadata": {},
     "output_type": "display_data"
    },
    {
     "data": {
      "text/markdown": [
       "\n",
       "|||\n",
       "|---:|:---|\n",
       "| [![arXiv](https://img.shields.io/badge/arXiv-arXiv:2402.14535-b31b1b.svg)](https://arxiv.org/abs/arXiv:2402.14535) | **Quenching-driven equatorial depletion and limb asymmetries in hot  Jupiter atmospheres: WASP-96b example**  |\n",
       "|| M. Zamyatina, et al. -- incl., <mark>E.-M. Ahrer</mark> |\n",
       "|*Appeared on*| *2024-02-23*|\n",
       "|*Comments*| *accepted to MNRAS, 27 pages, 24 figures*|\n",
       "|**Abstract**| Transport-induced quenching in hot Jupiter atmospheres is a process that determines the boundary between the part of the atmosphere at chemical equilibrium and the part of the atmosphere at thermochemical (but not photothermochemical) disequilibrium. The location of this boundary, the quench level, depends on the interplay between the dynamical and chemical timescales in the atmosphere, with quenching occurring when these timescales are equal. We explore the sensitivity of the quench level position to an increase in the planet's atmospheric metallicity using aerosol-free 3D GCM simulations of a hot Jupiter WASP-96b. We find that the temperature increase at pressures of $\\sim$$10^{4}-10^{7}$ Pa that occurs when metallicity is increased could shift the position of the quench level to pressures dominated by the jet, and cause an equatorial depletion of $CH_4$, $NH_3$ and $HCN$. We discuss how such a depletion affects the planet's transmission spectrum, and how the analysis of the evening-morning limb asymmetries, especially within $\\sim3-5 {\\mu}m$, could help distinguish atmospheres of different metallicities that are at chemical equilibrium from those with the upper layers at thermochemical disequilibrium. |"
      ],
      "text/plain": [
       "[arXiv:2402.14535] Quenching-driven equatorial depletion and limb asymmetries in hot  Jupiter atmospheres: WASP-96b example\n",
       "\tM. Zamyatina, et al. -- incl., <mark>E.-M. Ahrer</mark>"
      ]
     },
     "metadata": {},
     "output_type": "display_data"
    },
    {
     "data": {
      "text/markdown": [
       "\n",
       "|||\n",
       "|---:|:---|\n",
       "| [![arXiv](https://img.shields.io/badge/arXiv-arXiv:2402.14653-b31b1b.svg)](https://arxiv.org/abs/arXiv:2402.14653) | **PRODIGE -- Planet-forming disks in Taurus with NOEMA. I. Overview and  first results for 12CO, 13CO, and C18O**  |\n",
       "|| <mark>D. Semenov</mark>, et al. -- incl., <mark>K. Schwarz</mark>, <mark>S. v. Terwisga</mark> |\n",
       "|*Appeared on*| *2024-02-23*|\n",
       "|*Comments*| *47 pages, 10 figures, accepted for publication by A&A*|\n",
       "|**Abstract**| We are performing a line survey of 8 planet-forming Class II disks in Taurus with the IRAM NOrthern Extended Millimeter Array (NOEMA), as a part of the MPG-IRAM Observatory Program PRODIGE (PROtostars and DIsks: Global Evolution; PIs: P. Caselli and Th. Henning). Compact and extended disks around T Tauri stars CI, CY, DG, DL, DM, DN, IQ Tau, and UZ Tau E are observed in ~80 lines from >20 C-, O,- N-, and S-bearing species. The observations in four spectral settings at 210-280 GHz with $1\\sigma$ rms sensitivity of ~8-12 mJy/beam at 0.9\" and 0.3 km/s resolution will be completed in 2024. The uv-visibilities are fitted with the DiskFit model to obtain key stellar and disk properties. In this paper, the combined $^{12}$CO, $^{13}$CO and C$^{18}$O $J = 2-1$ data are presented. We find that the CO fluxes and disk masses inferred from dust continuum tentatively correlate with the CO emission sizes. We constrain dynamical stellar masses, geometries, temperatures, the CO column densities and gas masses for each disk. The best-fit temperatures at 100 au are ~17-37 K, and decrease radially with the power-law exponent q ~ 0.05-0.76. The inferred CO column densities decrease radially with the power-law exponent p ~ 0.2-3.1. The gas masses estimated from $^{13}$CO (2-1) are ~ $0.001-0.2 M_\\textrm{Sun}$. The best-fit CO column densities point to severe CO freeze-out in the disks. The DL Tau disk is an outlier, and has either stronger CO depletion or lower gas mass than the rest of the sample. The CO isotopologue ratios are roughly consistent with the observed values in disks and the low-mass star-forming regions. |"
      ],
      "text/plain": [
       "[arXiv:2402.14653] PRODIGE -- Planet-forming disks in Taurus with NOEMA. I. Overview and  first results for 12CO, 13CO, and C18O\n",
       "\t<mark>D. Semenov</mark>, et al. -- incl., <mark>K. Schwarz</mark>, <mark>S. v. Terwisga</mark>"
      ]
     },
     "metadata": {},
     "output_type": "display_data"
    },
    {
     "data": {
      "text/markdown": [
       "## Failed papers"
      ],
      "text/plain": [
       "<IPython.core.display.Markdown object>"
      ]
     },
     "metadata": {},
     "output_type": "display_data"
    },
    {
     "data": {
      "text/markdown": [
       "\n",
       "|||\n",
       "|---:|:---|\n",
       "| [![arXiv](https://img.shields.io/badge/arXiv-arXiv:2402.14135-b31b1b.svg)](https://arxiv.org/abs/arXiv:2402.14135) | **Steep-spectrum AGN in eROSITA Final Equatorial-Depth Survey (eFEDS):  Their host galaxies and multi-wavelength properties**  |\n",
       "|| K. Iwasawa, et al. -- incl., <mark>J. Li</mark> |\n",
       "|*Appeared on*| *2024-02-23*|\n",
       "|*Comments*| *8 pages, accepted for publication in A&A*|\n",
       "|**Abstract**| We selected sources with a steep soft-X-ray-band spectrum with a photon index larger than 2.5 -- measured by eROSITA on board the Spectrum-Roentgen-Gamma (SRG) -- from the eFEDS AGN catalogue as candidates of highly accreting supermassive black holes, and investigated their multi-wavelength properties. Among 601 bright AGN with 0.2-5 keV counts of greater than 100, 83 sources (~14%) are classified as steep-spectrum sources. These sources have typical 0.5-2 keV luminosities of L(SX) ~ 1e44 erg/s and the majority of them are found at redshifts below z=1. In comparison with sources with flatter spectra, these sources have, on average, a UV (or optical) to 2 keV luminosity ratio that is larger by ~0.3 dex and bluer optical-to-UV continuum emission. They also appear to be radio quiet based on the detection rate in the FIRST and VLASS surveys. Their host galaxies -- at least in the redshift range of z=0.2-0.8, where the AGN-galaxy decomposition results from the Subaru Hyper Suprime-Cam imaging are available -- tend to be late-type and have smaller stellar masses than those of sources with flatter spectra. These properties are similar to those found in nearby narrow-line Seyfert 1 galaxies, in agreement with the picture that they are AGN with elevated accretion rates and are in the early growth phase of black hole and galaxy co-evolution. However, the steep-spectrum sources are not exclusively narrow-line Seyfert 1 galaxies; indeed many are broad-line Seyfert 1 galaxies, as found by a catalogue search. This suggests that these steep-spectrum sources may be black holes generally with high accretion rates but of a wide mass range, including a few objects emitting at L(SX)>1e45 erg/s, of which black hole masses can be close to 10^9 M_sun. |\n",
       "|<p style=\"color:green\"> **ERROR** </p>| <p style=\"color:green\">affiliation error: mpia.affiliation_verifications: '69117' keyword not found.</p> |"
      ],
      "text/plain": [
       "<IPython.core.display.Markdown object>"
      ]
     },
     "metadata": {},
     "output_type": "display_data"
    }
   ],
   "source": [
    "import datetime\n",
    "today = str(datetime.date.today())\n",
    "logfile = f\"_build/html/logs/log-{today}.md\"\n",
    "\n",
    "\n",
    "with open(logfile, 'w') as logs:\n",
    "    # Success\n",
    "    logs.write(f'# Arxiv on Deck 2: Logs - {today}\\n\\n')\n",
    "    logs.write(\"\"\"* Arxiv had {0:,d} new papers\\n\"\"\".format(len(new_papers)))\n",
    "    logs.write(\"\"\"    * {0:,d} with possible author matches\\n\\n\"\"\".format(len(candidates)))\n",
    "    logs.write(\"## Sucessful papers\\n\\n\")\n",
    "    display(Markdown(\"## Successful papers\"))\n",
    "    success = [k[0] for k in documents]\n",
    "    for candid in candidates:\n",
    "        if candid['identifier'].split(':')[-1] in success:\n",
    "            display(candid)\n",
    "            logs.write(candid.generate_markdown_text() + '\\n\\n')\n",
    "\n",
    "    ## failed\n",
    "    logs.write(\"## Failed papers\\n\\n\")\n",
    "    display(Markdown(\"## Failed papers\"))\n",
    "    failed = sorted(failed, key=lambda x: x[1])\n",
    "    current_reason = \"\"\n",
    "    for paper, reason in failed:\n",
    "        if 'affiliation' in reason:\n",
    "            color = 'green'\n",
    "        else:\n",
    "            color = 'red'\n",
    "        data = Markdown(\n",
    "                paper.generate_markdown_text() + \n",
    "                f'\\n|<p style=\"color:{color:s}\"> **ERROR** </p>| <p style=\"color:{color:s}\">{reason:s}</p> |'\n",
    "               )\n",
    "        if reason != current_reason:\n",
    "            logs.write(f'### {reason:s} \\n\\n')\n",
    "            current_reason = reason\n",
    "        logs.write(data.data + '\\n\\n')\n",
    "        \n",
    "        # only display here the important errors (all in logs)\n",
    "        # if color in ('red',):\n",
    "        display(data)"
   ]
  },
  {
   "cell_type": "markdown",
   "id": "472d20ee",
   "metadata": {
    "papermill": {
     "duration": 0.004201,
     "end_time": "2024-02-23T04:10:25.248128",
     "exception": false,
     "start_time": "2024-02-23T04:10:25.243927",
     "status": "completed"
    },
    "tags": []
   },
   "source": [
    "## Export documents\n",
    "\n",
    "We now write the .md files and export relevant images"
   ]
  },
  {
   "cell_type": "code",
   "execution_count": 6,
   "id": "d426aed9",
   "metadata": {
    "execution": {
     "iopub.execute_input": "2024-02-23T04:10:25.257789Z",
     "iopub.status.busy": "2024-02-23T04:10:25.257243Z",
     "iopub.status.idle": "2024-02-23T04:10:25.264156Z",
     "shell.execute_reply": "2024-02-23T04:10:25.263534Z"
    },
    "papermill": {
     "duration": 0.013338,
     "end_time": "2024-02-23T04:10:25.265523",
     "exception": false,
     "start_time": "2024-02-23T04:10:25.252185",
     "status": "completed"
    },
    "tags": []
   },
   "outputs": [],
   "source": [
    "def export_markdown_summary(md: str, md_fname:str, directory: str):\n",
    "    \"\"\"Export MD document and associated relevant images\"\"\"\n",
    "    import os\n",
    "    import shutil\n",
    "    import re\n",
    "\n",
    "    if (os.path.exists(directory) and not os.path.isdir(directory)):\n",
    "        raise RuntimeError(f\"a non-directory file exists with name {directory:s}\")\n",
    "\n",
    "    if (not os.path.exists(directory)):\n",
    "        print(f\"creating directory {directory:s}\")\n",
    "        os.mkdir(directory)\n",
    "\n",
    "    fig_fnames = (re.compile(r'\\[Fig.*\\]\\((.*)\\)').findall(md) + \n",
    "                  re.compile(r'\\<img src=\"([^>\\s]*)\"[^>]*/>').findall(md))\n",
    "    for fname in fig_fnames:\n",
    "        if 'http' in fname:\n",
    "            # No need to copy online figures\n",
    "            continue\n",
    "        destdir = os.path.join(directory, os.path.dirname(fname))\n",
    "        destfname = os.path.join(destdir, os.path.basename(fname))\n",
    "        try:\n",
    "            os.makedirs(destdir)\n",
    "        except FileExistsError:\n",
    "            pass\n",
    "        shutil.copy(fname, destfname)\n",
    "    with open(os.path.join(directory, md_fname), 'w') as fout:\n",
    "        fout.write(md)\n",
    "    print(\"exported in \", os.path.join(directory, md_fname))\n",
    "    [print(\"    + \" + os.path.join(directory,fk)) for fk in fig_fnames]"
   ]
  },
  {
   "cell_type": "code",
   "execution_count": 7,
   "id": "014d04a4",
   "metadata": {
    "execution": {
     "iopub.execute_input": "2024-02-23T04:10:25.275264Z",
     "iopub.status.busy": "2024-02-23T04:10:25.274798Z",
     "iopub.status.idle": "2024-02-23T04:10:25.293451Z",
     "shell.execute_reply": "2024-02-23T04:10:25.292766Z"
    },
    "papermill": {
     "duration": 0.025097,
     "end_time": "2024-02-23T04:10:25.294888",
     "exception": false,
     "start_time": "2024-02-23T04:10:25.269791",
     "status": "completed"
    },
    "tags": []
   },
   "outputs": [
    {
     "name": "stdout",
     "output_type": "stream",
     "text": [
      "exported in  _build/html/2402.14535.md\n",
      "    + _build/html/tmp_2402.14535/./figures/transmission/wasp96b_transpec_wl02_30_combores_full_mor_eve.png\n",
      "    + _build/html/tmp_2402.14535/./figures/chemistry/wasp96b_midtransit_ch4_w_ch4_qplevs_w_diff.png\n",
      "    + _build/html/tmp_2402.14535/./figures/circulation/wasp96b_vp_pres_temp_limbs.png\n",
      "exported in  _build/html/2402.14653.md\n",
      "    + _build/html/tmp_2402.14653/./Figures/CO_images/kepler/DM_Tau/ANALYSIS/CO/DM_Tau-CO-kepler.png\n",
      "    + _build/html/tmp_2402.14653/./Figures/CO_images/kepler/DM_Tau/ANALYSIS/CO/DM_Tau-CO-kepler.png\n",
      "    + _build/html/tmp_2402.14653/./Figures/CO_images/composite/CI_Tau/ANALYSIS/CO/CI_Tau-CO-composite.png\n"
     ]
    }
   ],
   "source": [
    "for paper_id, md in documents:\n",
    "    export_markdown_summary(md, f\"{paper_id:s}.md\", '_build/html/')"
   ]
  },
  {
   "cell_type": "markdown",
   "id": "f087a0a7",
   "metadata": {
    "papermill": {
     "duration": 0.004249,
     "end_time": "2024-02-23T04:10:25.303622",
     "exception": false,
     "start_time": "2024-02-23T04:10:25.299373",
     "status": "completed"
    },
    "tags": []
   },
   "source": [
    "## Display the papers\n",
    "\n",
    "Not necessary but allows for a quick check."
   ]
  },
  {
   "cell_type": "code",
   "execution_count": 8,
   "id": "fd25f625",
   "metadata": {
    "execution": {
     "iopub.execute_input": "2024-02-23T04:10:25.313842Z",
     "iopub.status.busy": "2024-02-23T04:10:25.313220Z",
     "iopub.status.idle": "2024-02-23T04:10:25.319706Z",
     "shell.execute_reply": "2024-02-23T04:10:25.319126Z"
    },
    "papermill": {
     "duration": 0.013133,
     "end_time": "2024-02-23T04:10:25.321104",
     "exception": false,
     "start_time": "2024-02-23T04:10:25.307971",
     "status": "completed"
    },
    "scrolled": false,
    "tags": []
   },
   "outputs": [
    {
     "data": {
      "text/markdown": [
       "<div class=\"macros\" style=\"visibility:hidden;\">\n",
       "$\\newcommand{\\ensuremath}{}$\n",
       "$\\newcommand{\\xspace}{}$\n",
       "$\\newcommand{\\object}[1]{\\texttt{#1}}$\n",
       "$\\newcommand{\\farcs}{{.}''}$\n",
       "$\\newcommand{\\farcm}{{.}'}$\n",
       "$\\newcommand{\\arcsec}{''}$\n",
       "$\\newcommand{\\arcmin}{'}$\n",
       "$\\newcommand{\\ion}[2]{#1#2}$\n",
       "$\\newcommand{\\textsc}[1]{\\textrm{#1}}$\n",
       "$\\newcommand{\\hl}[1]{\\textrm{#1}}$\n",
       "$\\newcommand{\\footnote}[1]{}$\n",
       "$\\newcommand{\\thebibliography}{\\DeclareRobustCommand{\\VAN}[3]{##3}\\VANthebibliography}$</div>\n",
       "\n",
       "\n",
       "\n",
       "<div id=\"title\">\n",
       "\n",
       "# Quenching-driven equatorial depletion and limb asymmetries in hot Jupiter atmospheres: WASP-96b example\n",
       "\n",
       "</div>\n",
       "<div id=\"comments\">\n",
       "\n",
       "[![arXiv](https://img.shields.io/badge/arXiv-2402.14535-b31b1b.svg)](https://arxiv.org/abs/2402.14535)<mark>Appeared on: 2024-02-23</mark> -  _accepted to MNRAS, 27 pages, 24 figures_\n",
       "\n",
       "</div>\n",
       "<div id=\"authors\">\n",
       "\n",
       "M. Zamyatina, et al. -- incl., <mark>E.-M. Ahrer</mark>\n",
       "\n",
       "</div>\n",
       "<div id=\"abstract\">\n",
       "\n",
       "**Abstract:** Transport-induced quenching in hot Jupiter atmospheres is a process that determines the boundary between the part of the atmosphere at chemical equilibrium and the part of the atmosphere at thermochemical (but not photothermochemical) disequilibrium. The location of this boundary, the quench level, depends on the interplay between the dynamical and chemical timescales in the atmosphere, with quenching occurring when these timescales are equal. We explore the sensitivity of the quench level position to an increase in the planet's atmospheric metallicity using aerosol-free 3D GCM simulations of a hot Jupiter WASP-96b. We find that the temperature increase at pressures of $\\sim$ $\\SIrange{e4}{e7}{\\pascal}$ that occurs when metallicity is increased could shift the position of the quench level to pressures dominated by the jet, and cause an equatorial depletion of $\\ce{CH4}$ , $\\ce{NH3}$ and $\\ce{HCN}$ . We discuss how such a depletion affects the planet's transmission spectrum, and how the analysis of the evening-morning limb asymmetries, especially within $\\sim$ $\\SIrange{3}{5}{\\micro\\metre}$ , could help distinguish atmospheres of different metallicities that are at chemical equilibrium from those with the upper layers at thermochemical disequilibrium.\n",
       "\n",
       "</div>\n",
       "\n",
       "<div id=\"div_fig1\">\n",
       "\n",
       "<img src=\"tmp_2402.14535/./figures/transmission/wasp96b_transpec_wl02_30_combores_full_mor_eve.png\" alt=\"Fig6\" width=\"100%\"/>\n",
       "\n",
       "**Figure 6. -** WASP-96b transmission spectra predicted by the Met Office Unified Model equilibrium and kinetics simulations assuming $[M/H]=0$ or $[M/H]=1$. Panel (a) shows the full limb (morning plus evening) spectra, and (b) the morning and evening limb spectra. Panel (c) shows the difference between the full limb spectra due to the disequilibrium thermochemistry, and panel (d) shows the difference between evening and morning limb spectra (evening minus morning). Faint grey dotted lines indicate the location of zero to better guide the eye. (*fig:wasp96b_transpec_wl02_30_combores_full_mor_eve*)\n",
       "\n",
       "</div>\n",
       "<div id=\"div_fig2\">\n",
       "\n",
       "<img src=\"tmp_2402.14535/./figures/chemistry/wasp96b_midtransit_ch4_w_ch4_qplevs_w_diff.png\" alt=\"Fig4\" width=\"100%\"/>\n",
       "\n",
       "**Figure 4. -** Pressure-\\ce{CH4} cross-sections through WASP-96b's limb (\"mid-transit view\") according to the equilibrium and kinetics simulations assuming $[M/H]=0$ or $[M/H]=1$. Panels (a-d) show \\ce{CH4} distribution in each simulation. Panels (e-f) show the difference caused by an increase in metallicity, and (g-h) the difference caused by disequilibrium thermochemistry. Panels (a-d) and (e-h) share the top and bottom colour scale in the bottom right of the figure, respectively. The black thick lines in panels (b) and (d) indicate the location of \\ce{CH4} quench level. All panels show variable distributions at longitudes \\ang{90}E and \\ang{270}E exactly (not the average over the opening angle). (*fig:wasp96b_pres_ch4_in_transit*)\n",
       "\n",
       "</div>\n",
       "<div id=\"div_fig3\">\n",
       "\n",
       "<img src=\"tmp_2402.14535/./figures/circulation/wasp96b_vp_pres_temp_limbs.png\" alt=\"Fig11\" width=\"100%\"/>\n",
       "\n",
       "**Figure 11. -** Pressure-temperature vertical profiles at the morning and evening limb from the WASP-96b equilibrium and kinetics simulations assuming $[M/H]=0$ or $[M/H]=1$. (*fig:wasp96b_vp_pres_temp_limbs*)\n",
       "\n",
       "</div><div id=\"qrcode\"><img src=https://api.qrserver.com/v1/create-qr-code/?size=100x100&data=\"https://arxiv.org/abs/2402.14535\"></div>"
      ],
      "text/plain": [
       "<IPython.core.display.Markdown object>"
      ]
     },
     "metadata": {},
     "output_type": "display_data"
    },
    {
     "data": {
      "text/markdown": [
       "<div class=\"macros\" style=\"visibility:hidden;\">\n",
       "$\\newcommand{\\ensuremath}{}$\n",
       "$\\newcommand{\\xspace}{}$\n",
       "$\\newcommand{\\object}[1]{\\texttt{#1}}$\n",
       "$\\newcommand{\\farcs}{{.}''}$\n",
       "$\\newcommand{\\farcm}{{.}'}$\n",
       "$\\newcommand{\\arcsec}{''}$\n",
       "$\\newcommand{\\arcmin}{'}$\n",
       "$\\newcommand{\\ion}[2]{#1#2}$\n",
       "$\\newcommand{\\textsc}[1]{\\textrm{#1}}$\n",
       "$\\newcommand{\\hl}[1]{\\textrm{#1}}$\n",
       "$\\newcommand{\\footnote}[1]{}$\n",
       "$\\newcommand{\\setvalue}[1]{\\pgfkeys{/variables/#1}}$\n",
       "$\\newcommand{\\getvalue}[1]{\\pgfkeysvalueof{/variables/#1}}$\n",
       "$\\newcommand{\\declare}[1]{$\n",
       "$ \\pgfkeys{$\n",
       "$  /variables/#1.is family,$\n",
       "$  /variables/#1.unknown/.style = {\\pgfkeyscurrentpath/\\pgfkeyscurrentname/.initial = ##1}$\n",
       "$ }$\n",
       "$}$\n",
       "$\\newcommand$\n",
       "$\\newcommand$\n",
       "$\\newcommand{\\textsg}[1]{\\textcolor{black}{#1}}$\n",
       "$\\newcommand{\\textds}[1]{\\textcolor{black}{#1}}$\n",
       "$\\newcommand{\\upd}[1]{\\textcolor{black}{#1}}$\n",
       "$\\newcommand{\\sgupd}[1]{\\textcolor{black}{#1}}$\n",
       "$\\newcommand{\\setvalue}[1]{\\pgfkeys{/variables/#1}}$\n",
       "$\\newcommand{\\getvalue}[1]{\\pgfkeysvalueof{/variables/#1}}$\n",
       "$\\newcommand{\\declare}[1]{$\n",
       "$ \\pgfkeys{$\n",
       "$  /variables/#1.is family,$\n",
       "$  /variables/#1.unknown/.style = {\\pgfkeyscurrentpath/\\pgfkeyscurrentname/.initial = ##1}$\n",
       "$ }$\n",
       "$}$\n",
       "$\\newcommand$\n",
       "$\\newcommand$\n",
       "$\\newcommand{\\textsg}[1]{\\textcolor{black}{#1}}$\n",
       "$\\newcommand{\\textds}[1]{\\textcolor{black}{#1}}$\n",
       "$\\newcommand{\\upd}[1]{\\textcolor{black}{#1}}$\n",
       "$\\newcommand{\\sgupd}[1]{\\textcolor{black}{#1}}$</div>\n",
       "\n",
       "\n",
       "\n",
       "<div id=\"title\">\n",
       "\n",
       "# PRODIGE - Planet-forming disks in Taurus with NOEMA.\n",
       "\n",
       "</div>\n",
       "<div id=\"comments\">\n",
       "\n",
       "[![arXiv](https://img.shields.io/badge/arXiv-2402.14653-b31b1b.svg)](https://arxiv.org/abs/2402.14653)<mark>Appeared on: 2024-02-23</mark> -  _47 pages, 10 figures, accepted for publication by A&A_\n",
       "\n",
       "</div>\n",
       "<div id=\"authors\">\n",
       "\n",
       "<mark>D. Semenov</mark>, et al. -- incl., <mark>K. Schwarz</mark>, <mark>S. v. Terwisga</mark>\n",
       "\n",
       "</div>\n",
       "<div id=\"abstract\">\n",
       "\n",
       "**Abstract:** Physics and chemistry of planet-forming disks are far from being fully understood. $\\upd{To make further progress, both broad line surveys and observations of individual tracers in}$ a statistically-significant number of disks are required. We are performing a line survey of $\\upd{8 planet-forming Class II disks in Taurus}$ with the IRAM NOrthern Extended Millimeter Array (NOEMA), as a part of the MPG-IRAM Observatory Program PRODIGE (PROtostars and DIsks: Global Evolution; PIs: P. Caselli and Th. Henning). Compact and extended disks around T Tauri stars CI, CY, DG, DL, DM, DN, IQ Tau, and UZ Tau E are observed $\\upd{in $\\sim 80$ lines from $>20$ C-, O,- N-, and S-bearing species.}$ The observations $\\upd{in four spectral settings at 210-280 GHz with $1\\sigma$ rms sensitivity}$ of $\\sim 8-12$ mJy/beam at $0.9\\arcsec$ and 0.3 km s $^{-1}$ resolution $\\upd{will be completed in 2024.The $uv$-visibilities}$ are fitted with the DiskFit model to obtain key stellar and disk properties. $\\upd{In this first paper, the combined $^{12}$CO, $^{13}$CO and C$^{18}$O $J=2-1$ data are presented. We find that the CO fluxes and disk masses inferred from dust continuum tentatively correlate with the CO emission sizes. We constrain dynamical stellar masses, geometries, temperatures, the CO column densities and gas masses for each disk.}$ The best-fit temperatures $\\upd{at 100 au}$ are $\\sim 17-37$ K, $\\upd{and decrease radially with the power-law exponent $q \\sim 0.05-0.76$. The inferred CO column densities decrease radially with the power-law exponent $p \\sim 0.2-3.1$. The gas masses estimated from $^{13}$CO (2-1) are $\\sim 0.001 - 0.2 M_\\odot$.}$ $\\upd{Using NOEMA, we confirm the presence of temperature gradients in our disk sample. The best-fit CO column densities point to severe CO freeze-out in these disks. The DL Tau disk is an outlier, and has either stronger CO depletion or lower gas mass than the rest of the sample. The CO isotopologue ratios are roughly consistent with the observed values in disks and the low-mass star-forming regions. The high $^{13}$CO/C$^{18}$O ratio of $\\sim 23$ in DM Tau could be indicative of strong selective photodissociation of C$^{18}$O in this disk. }$\n",
       "\n",
       "</div>\n",
       "\n",
       "<div id=\"div_fig1\">\n",
       "\n",
       "<img src=\"tmp_2402.14653/./Figures/CO_images/kepler/DM_Tau/ANALYSIS/CO/DM_Tau-CO-kepler.png\" alt=\"Fig16\" width=\"100%\"/>\n",
       "\n",
       "**Figure 16. -** Observations of $^{12}$CO (2-1) emission in the DM Tau disk. Shown is a pixel-deprojected Keplerian plot consisting of the three panels: (left) the radial profile of the line brightness temperature (K) $\\upd${with observations and errorbars in black, and profile derived from the best-fit disk model in red. The magenta dashed curve indicates the expected brightness temperature of an optically thick line derived from temperature power law}. (Top) the integrated spectrum (black line) overlaid with the best-fit Gaussian profile (red line). (Bottom right) aligned and stacked line intensity (K) as a function of disk radius (Y-axis; au) and velocity (X-axis; km s$^{-1}$). The color bar units are in Kelvin. (*fig:DM_Tau-CO_kepl*)\n",
       "\n",
       "</div>\n",
       "<div id=\"div_fig2\">\n",
       "\n",
       "<img src=\"tmp_2402.14653/./Figures/CO_images/kepler/DM_Tau/ANALYSIS/CO/DM_Tau-CO-kepler.png\" alt=\"Fig22\" width=\"100%\"/>\n",
       "\n",
       "**Figure 22. -** Observations of $^{12}$CO (2-1) emission in the DM Tau disk. Shown is a pixel-deprojected Keplerian plot consisting of the three panels: (left) the radial profile of the line brightness temperature (K) $\\upd${with observations and errorbars in black, and profile derived from the best-fit disk model in red. The magenta dashed curve indicates the expected brightness temperature of an optically thick line derived from temperature power law}. (Top) the integrated spectrum (black line) overlaid with the best-fit Gaussian profile (red line). (Bottom right) aligned and stacked line intensity (K) as a function of disk radius (Y-axis; au) and velocity (X-axis; km s$^{-1}$). The color bar units are in Kelvin. (*fig:DM_Tau-CO_kepl*)\n",
       "\n",
       "</div>\n",
       "<div id=\"div_fig3\">\n",
       "\n",
       "<img src=\"tmp_2402.14653/./Figures/CO_images/composite/CI_Tau/ANALYSIS/CO/CI_Tau-CO-composite.png\" alt=\"Fig26\" width=\"100%\"/>\n",
       "\n",
       "**Figure 26. -** The observed $^{12}$CO (2-1) emission in the CI Tau disk.\n",
       "Shown are the channel map of the observed line brightness distribution (top left), the moment-zero map (top right), and the integrated spectrum (top middle). The channel map shows 16 velocity channels with a step of $0.5$ km s$^{-1}$ in the [-4.5, +4.5] km s$^{-1}$ range around the systemic velocity. The contour lines start at $2$ K, with a step of $2$ K. The color bar shows line brightness temperatures (K). The contour lines in the moment-zero plot start at 3, 6, and $9\\sigma$, with a step of $6\\sigma$ afterward. The $1\\sigma$ rms noise (mJy km s$^{-1}$) is shown in the upper left corner of the moment-zero plot, and the synthesized beam is depicted by the dark ellipse in the left bottom corner. The $^{12}$CO (2-1) spectrum shows a nearly absent blueshifted velocity component due to the cloud absorption. (*fig:CI_Tau-CO_comp*)\n",
       "\n",
       "</div><div id=\"qrcode\"><img src=https://api.qrserver.com/v1/create-qr-code/?size=100x100&data=\"https://arxiv.org/abs/2402.14653\"></div>"
      ],
      "text/plain": [
       "<IPython.core.display.Markdown object>"
      ]
     },
     "metadata": {},
     "output_type": "display_data"
    }
   ],
   "source": [
    "[display(Markdown(k[1])) for k in documents];"
   ]
  },
  {
   "cell_type": "markdown",
   "id": "873873a4",
   "metadata": {
    "papermill": {
     "duration": 0.004613,
     "end_time": "2024-02-23T04:10:25.330694",
     "exception": false,
     "start_time": "2024-02-23T04:10:25.326081",
     "status": "completed"
    },
    "tags": []
   },
   "source": [
    "# Create HTML index"
   ]
  },
  {
   "cell_type": "code",
   "execution_count": 9,
   "id": "cf665672",
   "metadata": {
    "execution": {
     "iopub.execute_input": "2024-02-23T04:10:25.341525Z",
     "iopub.status.busy": "2024-02-23T04:10:25.340971Z",
     "iopub.status.idle": "2024-02-23T04:10:25.350696Z",
     "shell.execute_reply": "2024-02-23T04:10:25.350038Z"
    },
    "papermill": {
     "duration": 0.016755,
     "end_time": "2024-02-23T04:10:25.352042",
     "exception": false,
     "start_time": "2024-02-23T04:10:25.335287",
     "status": "completed"
    },
    "tags": []
   },
   "outputs": [
    {
     "name": "stdout",
     "output_type": "stream",
     "text": [
      "374  publications files modified in the last 7 days.\n"
     ]
    }
   ],
   "source": [
    "from datetime import datetime, timedelta, timezone\n",
    "from glob import glob\n",
    "import os\n",
    "\n",
    "files = glob('_build/html/*.md')\n",
    "days = 7\n",
    "now = datetime.today()\n",
    "res = []\n",
    "for fk in files:\n",
    "    stat_result = os.stat(fk).st_ctime\n",
    "    modified = datetime.fromtimestamp(stat_result, tz=timezone.utc).replace(tzinfo=None)\n",
    "    delta = now.today() - modified\n",
    "    if delta <= timedelta(days=days):\n",
    "        res.append((delta.seconds, fk))\n",
    "res = [k[1] for k in reversed(sorted(res, key=lambda x:x[1]))]\n",
    "npub = len(res)\n",
    "print(len(res), f\" publications files modified in the last {days:d} days.\")\n",
    "# [ print('\\t', k) for k in res ];"
   ]
  },
  {
   "cell_type": "code",
   "execution_count": 10,
   "id": "015de740",
   "metadata": {
    "execution": {
     "iopub.execute_input": "2024-02-23T04:10:25.362659Z",
     "iopub.status.busy": "2024-02-23T04:10:25.362222Z",
     "iopub.status.idle": "2024-02-23T04:10:25.384108Z",
     "shell.execute_reply": "2024-02-23T04:10:25.383445Z"
    },
    "papermill": {
     "duration": 0.028708,
     "end_time": "2024-02-23T04:10:25.385502",
     "exception": false,
     "start_time": "2024-02-23T04:10:25.356794",
     "status": "completed"
    },
    "tags": []
   },
   "outputs": [
    {
     "name": "stdout",
     "output_type": "stream",
     "text": [
      "3  publications in the last 7 days.\n"
     ]
    }
   ],
   "source": [
    "import datetime\n",
    "from glob import glob\n",
    "\n",
    "def get_last_n_days(lst, days=1):\n",
    "    \"\"\" Get the documents from the last n days \"\"\"\n",
    "    sorted_lst = sorted(lst, key=lambda x: x[1], reverse=True)\n",
    "    for fname, date in sorted_lst:\n",
    "        if date >= str(datetime.date.today() - datetime.timedelta(days=days)):\n",
    "            yield fname\n",
    "\n",
    "def extract_appearance_dates(lst_file):\n",
    "    dates = []\n",
    "\n",
    "    def get_date(line):\n",
    "        return line\\\n",
    "            .split('Appeared on:')[-1]\\\n",
    "            .split('</mark>')[0].strip()\n",
    "\n",
    "    for fname in lst:\n",
    "        with open(fname, 'r') as f:\n",
    "            found_date = False\n",
    "            for line in f:\n",
    "                if not found_date:\n",
    "                    if \"Appeared on\" in line:\n",
    "                        found_date = True\n",
    "                        dates.append((fname, get_date(line)))\n",
    "                else:\n",
    "                    break\n",
    "    return dates\n",
    "\n",
    "from glob import glob\n",
    "lst = glob('_build/html/*md')\n",
    "days = 7\n",
    "dates = extract_appearance_dates(lst)\n",
    "res = list(get_last_n_days(dates, days))\n",
    "npub = len(res)\n",
    "print(len(res), f\" publications in the last {days:d} days.\")"
   ]
  },
  {
   "cell_type": "code",
   "execution_count": 11,
   "id": "52ca0208",
   "metadata": {
    "execution": {
     "iopub.execute_input": "2024-02-23T04:10:25.396492Z",
     "iopub.status.busy": "2024-02-23T04:10:25.395920Z",
     "iopub.status.idle": "2024-02-23T04:10:25.401349Z",
     "shell.execute_reply": "2024-02-23T04:10:25.400803Z"
    },
    "papermill": {
     "duration": 0.012415,
     "end_time": "2024-02-23T04:10:25.402785",
     "exception": false,
     "start_time": "2024-02-23T04:10:25.390370",
     "status": "completed"
    },
    "scrolled": false,
    "tags": []
   },
   "outputs": [],
   "source": [
    "def create_carousel(npub=4):\n",
    "    \"\"\" Generate the HTML code for a carousel with `npub` slides \"\"\"\n",
    "    carousel = [\"\"\"  <div class=\"carousel\" \"\"\",\n",
    "                \"\"\"       data-flickity='{ \"autoPlay\": 10000, \"adaptiveHeight\": true, \"resize\": true, \"wrapAround\": true, \"pauseAutoPlayOnHover\": true, \"groupCells\": 1 }' id=\"asyncTypeset\">\"\"\"\n",
    "                ]\n",
    "    \n",
    "    item_str = \"\"\"    <div class=\"carousel-cell\"> <div id=\"slide{k}\" class=\"md_view\">Content {k}</div> </div>\"\"\"\n",
    "    for k in range(1, npub + 1):\n",
    "        carousel.append(item_str.format(k=k))\n",
    "    carousel.append(\"  </div>\")\n",
    "    return '\\n'.join(carousel)\n",
    "\n",
    "def create_grid(npub=4):\n",
    "    \"\"\" Generate the HTML code for a flat grid with `npub` slides \"\"\"\n",
    "    grid = [\"\"\"  <div class=\"grid\"> \"\"\",\n",
    "                ]\n",
    "    \n",
    "    item_str = \"\"\"    <div class=\"grid-item\"> <div id=\"slide{k}\" class=\"md_view\">Content {k}</div> </div>\"\"\"\n",
    "    for k in range(1, npub + 1):\n",
    "        grid.append(item_str.format(k=k))\n",
    "    grid.append(\"  </div>\")\n",
    "    return '\\n'.join(grid)"
   ]
  },
  {
   "cell_type": "code",
   "execution_count": 12,
   "id": "a6eac5b6",
   "metadata": {
    "execution": {
     "iopub.execute_input": "2024-02-23T04:10:25.413829Z",
     "iopub.status.busy": "2024-02-23T04:10:25.413380Z",
     "iopub.status.idle": "2024-02-23T04:10:25.418698Z",
     "shell.execute_reply": "2024-02-23T04:10:25.418096Z"
    },
    "papermill": {
     "duration": 0.012371,
     "end_time": "2024-02-23T04:10:25.420089",
     "exception": false,
     "start_time": "2024-02-23T04:10:25.407718",
     "status": "completed"
    },
    "scrolled": false,
    "tags": []
   },
   "outputs": [],
   "source": [
    "carousel = create_carousel(npub)\n",
    "docs = ', '.join(['\"{0:s}\"'.format(k.split('/')[-1]) for k in res])\n",
    "slides = ', '.join([f'\"slide{k}\"' for k in range(1, npub + 1)])\n",
    "\n",
    "with open(\"daily_template.html\", \"r\") as tpl:\n",
    "    page = tpl.read()\n",
    "    page = page.replace(\"{%-- carousel:s --%}\", carousel)\\\n",
    "               .replace(\"{%-- suptitle:s --%}\",  \"7-day archives\" )\\\n",
    "               .replace(\"{%-- docs:s --%}\", docs)\\\n",
    "               .replace(\"{%-- slides:s --%}\", slides)\n",
    "    \n",
    "with open(\"_build/html/index_7days.html\", 'w') as fout:\n",
    "    fout.write(page)"
   ]
  },
  {
   "cell_type": "code",
   "execution_count": 13,
   "id": "adc1a1ec",
   "metadata": {
    "execution": {
     "iopub.execute_input": "2024-02-23T04:10:25.431351Z",
     "iopub.status.busy": "2024-02-23T04:10:25.430747Z",
     "iopub.status.idle": "2024-02-23T04:10:25.437935Z",
     "shell.execute_reply": "2024-02-23T04:10:25.437283Z"
    },
    "papermill": {
     "duration": 0.014275,
     "end_time": "2024-02-23T04:10:25.439256",
     "exception": false,
     "start_time": "2024-02-23T04:10:25.424981",
     "status": "completed"
    },
    "tags": []
   },
   "outputs": [
    {
     "name": "stdout",
     "output_type": "stream",
     "text": [
      "2  publications in the last day.\n"
     ]
    }
   ],
   "source": [
    "# redo for today\n",
    "days = 1\n",
    "res = list(get_last_n_days(dates, days))\n",
    "npub = len(res)\n",
    "print(len(res), f\" publications in the last day.\")\n",
    "\n",
    "carousel = create_carousel(npub)\n",
    "docs = ', '.join(['\"{0:s}\"'.format(k.split('/')[-1]) for k in res])\n",
    "slides = ', '.join([f'\"slide{k}\"' for k in range(1, npub + 1)])\n",
    "\n",
    "with open(\"daily_template.html\", \"r\") as tpl:\n",
    "    page = tpl.read()\n",
    "    page = page.replace(\"{%-- carousel:s --%}\", carousel)\\\n",
    "               .replace(\"{%-- suptitle:s --%}\",  \"Daily\" )\\\n",
    "               .replace(\"{%-- docs:s --%}\", docs)\\\n",
    "               .replace(\"{%-- slides:s --%}\", slides)\n",
    "    \n",
    "# print(carousel, docs, slides)\n",
    "# print(page)\n",
    "with open(\"_build/html/index_daily.html\", 'w') as fout:\n",
    "    fout.write(page)"
   ]
  },
  {
   "cell_type": "code",
   "execution_count": 14,
   "id": "00eece82",
   "metadata": {
    "execution": {
     "iopub.execute_input": "2024-02-23T04:10:25.451306Z",
     "iopub.status.busy": "2024-02-23T04:10:25.450681Z",
     "iopub.status.idle": "2024-02-23T04:10:25.457526Z",
     "shell.execute_reply": "2024-02-23T04:10:25.456977Z"
    },
    "papermill": {
     "duration": 0.014371,
     "end_time": "2024-02-23T04:10:25.458907",
     "exception": false,
     "start_time": "2024-02-23T04:10:25.444536",
     "status": "completed"
    },
    "scrolled": false,
    "tags": []
   },
   "outputs": [
    {
     "name": "stdout",
     "output_type": "stream",
     "text": [
      "6  6 publications selected.\n"
     ]
    }
   ],
   "source": [
    "# Create the flat grid of the last N papers (fixed number regardless of dates)\n",
    "from itertools import islice \n",
    "\n",
    "npub = 6\n",
    "res = [k[0] for k in (islice(reversed(sorted(dates, key=lambda x: x[1])), 6))]\n",
    "print(len(res), f\" {npub} publications selected.\")\n",
    "\n",
    "grid = create_grid(npub)\n",
    "docs = ', '.join(['\"{0:s}\"'.format(k.split('/')[-1]) for k in res])\n",
    "slides = ', '.join([f'\"slide{k}\"' for k in range(1, npub + 1)])\n",
    "\n",
    "with open(\"grid_template.html\", \"r\") as tpl:\n",
    "    page = tpl.read()\n",
    "    page = page.replace(\"{%-- grid-content:s --%}\", grid)\\\n",
    "               .replace(\"{%-- suptitle:s --%}\",  f\"Last {npub:,d} papers\" )\\\n",
    "               .replace(\"{%-- docs:s --%}\", docs)\\\n",
    "               .replace(\"{%-- slides:s --%}\", slides)\n",
    "    \n",
    "# print(grid, docs, slides)\n",
    "# print(page)\n",
    "with open(\"_build/html/index_npub_grid.html\", 'w') as fout:\n",
    "    fout.write(page)"
   ]
  }
 ],
 "metadata": {
  "kernelspec": {
   "display_name": "Python 3 (ipykernel)",
   "language": "python",
   "name": "python3"
  },
  "language_info": {
   "codemirror_mode": {
    "name": "ipython",
    "version": 3
   },
   "file_extension": ".py",
   "mimetype": "text/x-python",
   "name": "python",
   "nbconvert_exporter": "python",
   "pygments_lexer": "ipython3",
   "version": "3.9.18"
  },
  "papermill": {
   "default_parameters": {},
   "duration": 153.615325,
   "end_time": "2024-02-23T04:10:25.881106",
   "environment_variables": {},
   "exception": null,
   "input_path": "MPIA daily digest.ipynb",
   "output_path": "log.ipynb",
   "parameters": {},
   "start_time": "2024-02-23T04:07:52.265781",
   "version": "2.5.0"
  },
  "vscode": {
   "interpreter": {
    "hash": "aee8b7b246df8f9039afb4144a1f6fd8d2ca17a180786b69acc140d282b71a49"
   }
  },
  "widgets": {
   "application/vnd.jupyter.widget-state+json": {
    "state": {
     "006e35655eec4e14b69c56c25aa27d0b": {
      "model_module": "@jupyter-widgets/controls",
      "model_module_version": "2.0.0",
      "model_name": "HBoxModel",
      "state": {
       "_dom_classes": [],
       "_model_module": "@jupyter-widgets/controls",
       "_model_module_version": "2.0.0",
       "_model_name": "HBoxModel",
       "_view_count": null,
       "_view_module": "@jupyter-widgets/controls",
       "_view_module_version": "2.0.0",
       "_view_name": "HBoxView",
       "box_style": "",
       "children": [
        "IPY_MODEL_862a18cd90454c289ef59fde0b7794a8",
        "IPY_MODEL_e6e20231cfc24b65a2b615387a4164fe",
        "IPY_MODEL_47563957ad0e4266b18c3e5538151661"
       ],
       "layout": "IPY_MODEL_07cccc7006d549b18ec0f99df004887b",
       "tabbable": null,
       "tooltip": null
      }
     },
     "07cccc7006d549b18ec0f99df004887b": {
      "model_module": "@jupyter-widgets/base",
      "model_module_version": "2.0.0",
      "model_name": "LayoutModel",
      "state": {
       "_model_module": "@jupyter-widgets/base",
       "_model_module_version": "2.0.0",
       "_model_name": "LayoutModel",
       "_view_count": null,
       "_view_module": "@jupyter-widgets/base",
       "_view_module_version": "2.0.0",
       "_view_name": "LayoutView",
       "align_content": null,
       "align_items": null,
       "align_self": null,
       "border_bottom": null,
       "border_left": null,
       "border_right": null,
       "border_top": null,
       "bottom": null,
       "display": null,
       "flex": null,
       "flex_flow": null,
       "grid_area": null,
       "grid_auto_columns": null,
       "grid_auto_flow": null,
       "grid_auto_rows": null,
       "grid_column": null,
       "grid_gap": null,
       "grid_row": null,
       "grid_template_areas": null,
       "grid_template_columns": null,
       "grid_template_rows": null,
       "height": null,
       "justify_content": null,
       "justify_items": null,
       "left": null,
       "margin": null,
       "max_height": null,
       "max_width": null,
       "min_height": null,
       "min_width": null,
       "object_fit": null,
       "object_position": null,
       "order": null,
       "overflow": null,
       "padding": null,
       "right": null,
       "top": null,
       "visibility": null,
       "width": null
      }
     },
     "092dc081744f49c3994d681ad967fa3d": {
      "model_module": "@jupyter-widgets/controls",
      "model_module_version": "2.0.0",
      "model_name": "HTMLStyleModel",
      "state": {
       "_model_module": "@jupyter-widgets/controls",
       "_model_module_version": "2.0.0",
       "_model_name": "HTMLStyleModel",
       "_view_count": null,
       "_view_module": "@jupyter-widgets/base",
       "_view_module_version": "2.0.0",
       "_view_name": "StyleView",
       "background": null,
       "description_width": "",
       "font_size": null,
       "text_color": null
      }
     },
     "0b6fa4b9bbea43dcbd562642664a3dac": {
      "model_module": "@jupyter-widgets/base",
      "model_module_version": "2.0.0",
      "model_name": "LayoutModel",
      "state": {
       "_model_module": "@jupyter-widgets/base",
       "_model_module_version": "2.0.0",
       "_model_name": "LayoutModel",
       "_view_count": null,
       "_view_module": "@jupyter-widgets/base",
       "_view_module_version": "2.0.0",
       "_view_name": "LayoutView",
       "align_content": null,
       "align_items": null,
       "align_self": null,
       "border_bottom": null,
       "border_left": null,
       "border_right": null,
       "border_top": null,
       "bottom": null,
       "display": null,
       "flex": null,
       "flex_flow": null,
       "grid_area": null,
       "grid_auto_columns": null,
       "grid_auto_flow": null,
       "grid_auto_rows": null,
       "grid_column": null,
       "grid_gap": null,
       "grid_row": null,
       "grid_template_areas": null,
       "grid_template_columns": null,
       "grid_template_rows": null,
       "height": null,
       "justify_content": null,
       "justify_items": null,
       "left": null,
       "margin": null,
       "max_height": null,
       "max_width": null,
       "min_height": null,
       "min_width": null,
       "object_fit": null,
       "object_position": null,
       "order": null,
       "overflow": null,
       "padding": null,
       "right": null,
       "top": null,
       "visibility": null,
       "width": null
      }
     },
     "1a3efc368c954ed9a928c0e6cba8965b": {
      "model_module": "@jupyter-widgets/base",
      "model_module_version": "2.0.0",
      "model_name": "LayoutModel",
      "state": {
       "_model_module": "@jupyter-widgets/base",
       "_model_module_version": "2.0.0",
       "_model_name": "LayoutModel",
       "_view_count": null,
       "_view_module": "@jupyter-widgets/base",
       "_view_module_version": "2.0.0",
       "_view_name": "LayoutView",
       "align_content": null,
       "align_items": null,
       "align_self": null,
       "border_bottom": null,
       "border_left": null,
       "border_right": null,
       "border_top": null,
       "bottom": null,
       "display": null,
       "flex": null,
       "flex_flow": null,
       "grid_area": null,
       "grid_auto_columns": null,
       "grid_auto_flow": null,
       "grid_auto_rows": null,
       "grid_column": null,
       "grid_gap": null,
       "grid_row": null,
       "grid_template_areas": null,
       "grid_template_columns": null,
       "grid_template_rows": null,
       "height": null,
       "justify_content": null,
       "justify_items": null,
       "left": null,
       "margin": null,
       "max_height": null,
       "max_width": null,
       "min_height": null,
       "min_width": null,
       "object_fit": null,
       "object_position": null,
       "order": null,
       "overflow": null,
       "padding": null,
       "right": null,
       "top": null,
       "visibility": null,
       "width": null
      }
     },
     "47563957ad0e4266b18c3e5538151661": {
      "model_module": "@jupyter-widgets/controls",
      "model_module_version": "2.0.0",
      "model_name": "HTMLModel",
      "state": {
       "_dom_classes": [],
       "_model_module": "@jupyter-widgets/controls",
       "_model_module_version": "2.0.0",
       "_model_name": "HTMLModel",
       "_view_count": null,
       "_view_module": "@jupyter-widgets/controls",
       "_view_module_version": "2.0.0",
       "_view_name": "HTMLView",
       "description": "",
       "description_allow_html": false,
       "layout": "IPY_MODEL_93857aeb9a924cce86a53a88451a8902",
       "placeholder": "​",
       "style": "IPY_MODEL_092dc081744f49c3994d681ad967fa3d",
       "tabbable": null,
       "tooltip": null,
       "value": " 3/3 [02:10&lt;00:00, 52.23s/it]"
      }
     },
     "862a18cd90454c289ef59fde0b7794a8": {
      "model_module": "@jupyter-widgets/controls",
      "model_module_version": "2.0.0",
      "model_name": "HTMLModel",
      "state": {
       "_dom_classes": [],
       "_model_module": "@jupyter-widgets/controls",
       "_model_module_version": "2.0.0",
       "_model_name": "HTMLModel",
       "_view_count": null,
       "_view_module": "@jupyter-widgets/controls",
       "_view_module_version": "2.0.0",
       "_view_name": "HTMLView",
       "description": "",
       "description_allow_html": false,
       "layout": "IPY_MODEL_0b6fa4b9bbea43dcbd562642664a3dac",
       "placeholder": "​",
       "style": "IPY_MODEL_e6750820b3804fa98b7785467299c373",
       "tabbable": null,
       "tooltip": null,
       "value": "100%"
      }
     },
     "93857aeb9a924cce86a53a88451a8902": {
      "model_module": "@jupyter-widgets/base",
      "model_module_version": "2.0.0",
      "model_name": "LayoutModel",
      "state": {
       "_model_module": "@jupyter-widgets/base",
       "_model_module_version": "2.0.0",
       "_model_name": "LayoutModel",
       "_view_count": null,
       "_view_module": "@jupyter-widgets/base",
       "_view_module_version": "2.0.0",
       "_view_name": "LayoutView",
       "align_content": null,
       "align_items": null,
       "align_self": null,
       "border_bottom": null,
       "border_left": null,
       "border_right": null,
       "border_top": null,
       "bottom": null,
       "display": null,
       "flex": null,
       "flex_flow": null,
       "grid_area": null,
       "grid_auto_columns": null,
       "grid_auto_flow": null,
       "grid_auto_rows": null,
       "grid_column": null,
       "grid_gap": null,
       "grid_row": null,
       "grid_template_areas": null,
       "grid_template_columns": null,
       "grid_template_rows": null,
       "height": null,
       "justify_content": null,
       "justify_items": null,
       "left": null,
       "margin": null,
       "max_height": null,
       "max_width": null,
       "min_height": null,
       "min_width": null,
       "object_fit": null,
       "object_position": null,
       "order": null,
       "overflow": null,
       "padding": null,
       "right": null,
       "top": null,
       "visibility": null,
       "width": null
      }
     },
     "a5c201b5674f4d08aeaa458daaf3f130": {
      "model_module": "@jupyter-widgets/controls",
      "model_module_version": "2.0.0",
      "model_name": "ProgressStyleModel",
      "state": {
       "_model_module": "@jupyter-widgets/controls",
       "_model_module_version": "2.0.0",
       "_model_name": "ProgressStyleModel",
       "_view_count": null,
       "_view_module": "@jupyter-widgets/base",
       "_view_module_version": "2.0.0",
       "_view_name": "StyleView",
       "bar_color": null,
       "description_width": ""
      }
     },
     "e6750820b3804fa98b7785467299c373": {
      "model_module": "@jupyter-widgets/controls",
      "model_module_version": "2.0.0",
      "model_name": "HTMLStyleModel",
      "state": {
       "_model_module": "@jupyter-widgets/controls",
       "_model_module_version": "2.0.0",
       "_model_name": "HTMLStyleModel",
       "_view_count": null,
       "_view_module": "@jupyter-widgets/base",
       "_view_module_version": "2.0.0",
       "_view_name": "StyleView",
       "background": null,
       "description_width": "",
       "font_size": null,
       "text_color": null
      }
     },
     "e6e20231cfc24b65a2b615387a4164fe": {
      "model_module": "@jupyter-widgets/controls",
      "model_module_version": "2.0.0",
      "model_name": "FloatProgressModel",
      "state": {
       "_dom_classes": [],
       "_model_module": "@jupyter-widgets/controls",
       "_model_module_version": "2.0.0",
       "_model_name": "FloatProgressModel",
       "_view_count": null,
       "_view_module": "@jupyter-widgets/controls",
       "_view_module_version": "2.0.0",
       "_view_name": "ProgressView",
       "bar_style": "success",
       "description": "",
       "description_allow_html": false,
       "layout": "IPY_MODEL_1a3efc368c954ed9a928c0e6cba8965b",
       "max": 3.0,
       "min": 0.0,
       "orientation": "horizontal",
       "style": "IPY_MODEL_a5c201b5674f4d08aeaa458daaf3f130",
       "tabbable": null,
       "tooltip": null,
       "value": 3.0
      }
     }
    },
    "version_major": 2,
    "version_minor": 0
   }
  }
 },
 "nbformat": 4,
 "nbformat_minor": 5
}