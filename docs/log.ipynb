{
 "cells": [
  {
   "cell_type": "markdown",
   "id": "92bcb855",
   "metadata": {
    "papermill": {
     "duration": 0.004015,
     "end_time": "2025-08-25T04:18:40.580509",
     "exception": false,
     "start_time": "2025-08-25T04:18:40.576494",
     "status": "completed"
    },
    "tags": []
   },
   "source": [
    "# MPIA Arxiv on Deck 2\n",
    "\n",
    "Contains the steps to produce the paper extractions."
   ]
  },
  {
   "cell_type": "code",
   "execution_count": 1,
   "id": "3a0d6e11",
   "metadata": {
    "execution": {
     "iopub.execute_input": "2025-08-25T04:18:40.587924Z",
     "iopub.status.busy": "2025-08-25T04:18:40.587659Z",
     "iopub.status.idle": "2025-08-25T04:18:40.793915Z",
     "shell.execute_reply": "2025-08-25T04:18:40.793132Z"
    },
    "papermill": {
     "duration": 0.211478,
     "end_time": "2025-08-25T04:18:40.795309",
     "exception": false,
     "start_time": "2025-08-25T04:18:40.583831",
     "status": "completed"
    },
    "tags": []
   },
   "outputs": [],
   "source": [
    "# Imports\n",
    "import os\n",
    "from IPython.display import Markdown, display\n",
    "from tqdm.notebook import tqdm\n",
    "import warnings\n",
    "from PIL import Image \n",
    "import re\n",
    "\n",
    "# requires arxiv_on_deck_2\n",
    "\n",
    "from arxiv_on_deck_2.arxiv2 import (get_new_papers, \n",
    "                                    get_paper_from_identifier,\n",
    "                                    retrieve_document_source, \n",
    "                                    get_markdown_badge)\n",
    "from arxiv_on_deck_2 import (latex,\n",
    "                             latex_bib,\n",
    "                             mpia,\n",
    "                             highlight_authors_in_list)\n",
    "\n",
    "# Sometimes images are really big\n",
    "Image.MAX_IMAGE_PIXELS = 1000000000 "
   ]
  },
  {
   "cell_type": "code",
   "execution_count": 2,
   "id": "22aa9d44",
   "metadata": {
    "execution": {
     "iopub.execute_input": "2025-08-25T04:18:40.802676Z",
     "iopub.status.busy": "2025-08-25T04:18:40.802386Z",
     "iopub.status.idle": "2025-08-25T04:18:40.810684Z",
     "shell.execute_reply": "2025-08-25T04:18:40.809986Z"
    },
    "papermill": {
     "duration": 0.013157,
     "end_time": "2025-08-25T04:18:40.811834",
     "exception": false,
     "start_time": "2025-08-25T04:18:40.798677",
     "status": "completed"
    },
    "tags": []
   },
   "outputs": [],
   "source": [
    "# Some useful definitions.\n",
    "\n",
    "class AffiliationWarning(UserWarning):\n",
    "    pass\n",
    "\n",
    "class AffiliationError(RuntimeError):\n",
    "    pass\n",
    "\n",
    "def validation(source: str):\n",
    "    \"\"\"Raises error paper during parsing of source file\n",
    "    \n",
    "    Allows checks before parsing TeX code.\n",
    "    \n",
    "    Raises AffiliationWarning\n",
    "    \"\"\"\n",
    "    check = mpia.affiliation_verifications(source, verbose=True)\n",
    "    if check is not True:\n",
    "        raise AffiliationError(\"mpia.affiliation_verifications: \" + check)\n",
    "\n",
    "        \n",
    "warnings.simplefilter('always', AffiliationWarning)\n",
    "\n",
    "\n",
    "def get_markdown_qrcode(paper_id: str):\n",
    "    \"\"\" Generate a qrcode to the arxiv page using qrserver.com\n",
    "    \n",
    "    :param paper: Arxiv paper\n",
    "    :returns: markdown text\n",
    "    \"\"\"\n",
    "    url = r\"https://api.qrserver.com/v1/create-qr-code/?size=100x100&data=\"\n",
    "    txt = f\"\"\"<img src={url}\"https://arxiv.org/abs/{paper_id}\">\"\"\"\n",
    "    txt = '<div id=\"qrcode\">' + txt + '</div>'\n",
    "    return txt\n",
    "\n",
    "\n",
    "def clean_non_western_encoded_characters_commands(text: str) -> str:\n",
    "    \"\"\" Remove non-western encoded characters from a string\n",
    "    List may need to grow.\n",
    "    \n",
    "    :param text: the text to clean\n",
    "    :return: the cleaned text\n",
    "    \"\"\"\n",
    "    text = re.sub(r\"(\\\\begin{CJK}{UTF8}{gbsn})(.*?)(\\\\end{CJK})\", r\"\\2\", text)\n",
    "    return text\n",
    "\n",
    "\n",
    "def get_initials(name: str) -> str:\n",
    "    \"\"\" Get the short name, e.g., A.-B. FamName\n",
    "    :param name: full name\n",
    "    :returns: initials\n",
    "    \"\"\"\n",
    "    initials = []\n",
    "    # account for non western names often in ()\n",
    "    if '(' in name:\n",
    "        name = clean_non_western_encoded_characters_commands(name)\n",
    "        suffix = re.findall(r\"\\((.*?)\\)\", name)[0]\n",
    "        name = name.replace(f\"({suffix})\", '')\n",
    "    else:\n",
    "        suffix = ''\n",
    "    split = name.split()\n",
    "    for token in split[:-1]:\n",
    "        if '-' in token:\n",
    "            current = '-'.join([k[0] + '.' for k in token.split('-')])\n",
    "        else:\n",
    "            current = token[0] + '.'\n",
    "        initials.append(current)\n",
    "    initials.append(split[-1].strip())\n",
    "    if suffix:\n",
    "        initials.append(f\"({suffix})\")\n",
    "    return ' '.join(initials)"
   ]
  },
  {
   "cell_type": "markdown",
   "id": "14bd6310",
   "metadata": {
    "papermill": {
     "duration": 0.002882,
     "end_time": "2025-08-25T04:18:40.817750",
     "exception": false,
     "start_time": "2025-08-25T04:18:40.814868",
     "status": "completed"
    },
    "tags": []
   },
   "source": [
    "## get list of arxiv paper candidates\n",
    "\n",
    "We use the MPIA mitarbeiter list webpage from mpia.de to get author names\n",
    "We then get all new papers from Arxiv and match authors"
   ]
  },
  {
   "cell_type": "code",
   "execution_count": 3,
   "id": "7ea813a8",
   "metadata": {
    "execution": {
     "iopub.execute_input": "2025-08-25T04:18:40.824605Z",
     "iopub.status.busy": "2025-08-25T04:18:40.824319Z",
     "iopub.status.idle": "2025-08-25T04:18:59.956627Z",
     "shell.execute_reply": "2025-08-25T04:18:59.956003Z"
    },
    "papermill": {
     "duration": 19.137131,
     "end_time": "2025-08-25T04:18:59.957895",
     "exception": false,
     "start_time": "2025-08-25T04:18:40.820764",
     "status": "completed"
    },
    "tags": []
   },
   "outputs": [],
   "source": [
    "# deal with the author list and edge cases of people that cannot be consistent on their name  \n",
    "\n",
    "def filter_non_scientists(name: str) -> bool:\n",
    "    \"\"\" Loose filter on expected authorships\n",
    "\n",
    "    removing IT, administration, technical staff\n",
    "    :param name: name\n",
    "    :returns: False if name is not a scientist\n",
    "    \"\"\"\n",
    "    remove_list = ['Licht', 'Binroth', 'Witzel', 'Jordan',\n",
    "                   'Zähringer', 'Scheerer', 'Hoffmann', 'Düe',\n",
    "                   'Hellmich', 'Enkler-Scharpegge', 'Witte-Nguy',\n",
    "                   'Dehen', 'Beckmann', 'Jager', 'Jäger'\n",
    "                  ]\n",
    "\n",
    "    for k in remove_list:\n",
    "        if k in name:\n",
    "            return False\n",
    "    return True\n",
    "\n",
    "def add_author_to_list(author_list: list) -> list:\n",
    "    \"\"\" Add author to list if not already in list\n",
    "    \n",
    "    :param author: author name\n",
    "    :param author_list: list of authors\n",
    "    :returns: updated list of authors\n",
    "    \"\"\"\n",
    "    add_list = ['T. Henning']\n",
    "\n",
    "    for author in add_list:\n",
    "        if author not in author_list:\n",
    "            author_list.append(author)\n",
    "    return author_list\n",
    "\n",
    "# get list from MPIA website\n",
    "# filter for non-scientists (mpia.get_mpia_mitarbeiter_list() does some filtering)\n",
    "mpia_authors = [k[1] for k in mpia.get_mpia_mitarbeiter_list() if filter_non_scientists(k[1])]\n",
    "# add some missing author because of inconsistencies in their MPIA name and author name on papers\n",
    "mpia_authors = add_author_to_list(mpia_authors)"
   ]
  },
  {
   "cell_type": "code",
   "execution_count": 4,
   "id": "2645e73a",
   "metadata": {
    "execution": {
     "iopub.execute_input": "2025-08-25T04:18:59.965164Z",
     "iopub.status.busy": "2025-08-25T04:18:59.964942Z",
     "iopub.status.idle": "2025-08-25T04:19:00.638504Z",
     "shell.execute_reply": "2025-08-25T04:19:00.637877Z"
    },
    "papermill": {
     "duration": 0.678435,
     "end_time": "2025-08-25T04:19:00.639651",
     "exception": false,
     "start_time": "2025-08-25T04:18:59.961216",
     "status": "completed"
    },
    "tags": []
   },
   "outputs": [
    {
     "name": "stdout",
     "output_type": "stream",
     "text": [
      "Y. Cheng  ->  Y. Cheng  |  ['Y. Cheng']\n",
      "E. Schinnerer  ->  E. Schinnerer  |  ['E. Schinnerer']\n",
      "L. Xie  ->  Z.-L. Xie  |  ['L. Xie']\n",
      "K. Jahnke  ->  K. Jahnke  |  ['K. Jahnke']\n",
      "X. Zhang  ->  X. Zhang  |  ['X. Zhang']\n",
      "J. Wolf  ->  D. J. Wolf  |  ['J. Wolf']\n"
     ]
    },
    {
     "name": "stdout",
     "output_type": "stream",
     "text": [
      "Arxiv has 36 new papers today\n",
      "          5 with possible author matches\n"
     ]
    }
   ],
   "source": [
    "new_papers = get_new_papers()\n",
    "# add manual references\n",
    "add_paper_refs = []\n",
    "new_papers.extend([get_paper_from_identifier(k) for k in add_paper_refs])\n",
    "\n",
    "def robust_call(fn, value, *args, **kwargs):\n",
    "    try:\n",
    "        return fn(value, *args, **kwargs)\n",
    "    except Exception:\n",
    "        return value\n",
    "\n",
    "candidates = []\n",
    "for paperk in new_papers:\n",
    "    # Check author list with their initials\n",
    "    normed_author_list = [robust_call(mpia.get_initials, k) for k in paperk['authors']]\n",
    "    hl_authors = highlight_authors_in_list(normed_author_list, mpia_authors, verbose=True)\n",
    "    matches = [(hl, orig) for hl, orig in zip(hl_authors, paperk['authors']) if 'mark' in hl]\n",
    "    paperk['authors'] = hl_authors\n",
    "    if matches:\n",
    "        # only select paper if an author matched our list\n",
    "        candidates.append(paperk)\n",
    "print(\"\"\"Arxiv has {0:,d} new papers today\"\"\".format(len(new_papers)))        \n",
    "print(\"\"\"          {0:,d} with possible author matches\"\"\".format(len(candidates)))"
   ]
  },
  {
   "cell_type": "markdown",
   "id": "3543b34a",
   "metadata": {
    "papermill": {
     "duration": 0.003525,
     "end_time": "2025-08-25T04:19:00.646768",
     "exception": false,
     "start_time": "2025-08-25T04:19:00.643243",
     "status": "completed"
    },
    "tags": []
   },
   "source": [
    "# Parse sources and generate relevant outputs\n",
    "\n",
    "From the candidates, we do the following steps:\n",
    "* get their tarball from ArXiv (and extract data)\n",
    "* find the main .tex file: find one with \\documentclass{...} (sometimes it's non trivial)\n",
    "* Check affiliations with :func:`validation`, which uses :func:`mpia.affiliation_verifications`\n",
    "* If passing the affiliations: we parse the .tex source\n",
    "   * inject sub-documents into the main (flatten the main document)\n",
    "   * parse structure, extract information (title, abstract, authors, figures...)\n",
    "   * handles `\\graphicspath` if provided\n",
    "* Generate the .md document."
   ]
  },
  {
   "cell_type": "code",
   "execution_count": 5,
   "id": "9576b79e",
   "metadata": {
    "execution": {
     "iopub.execute_input": "2025-08-25T04:19:00.653823Z",
     "iopub.status.busy": "2025-08-25T04:19:00.653610Z",
     "iopub.status.idle": "2025-08-25T04:20:10.351700Z",
     "shell.execute_reply": "2025-08-25T04:20:10.350933Z"
    },
    "papermill": {
     "duration": 69.70333,
     "end_time": "2025-08-25T04:20:10.353226",
     "exception": false,
     "start_time": "2025-08-25T04:19:00.649896",
     "status": "completed"
    },
    "scrolled": false,
    "tags": []
   },
   "outputs": [
    {
     "data": {
      "application/vnd.jupyter.widget-view+json": {
       "model_id": "8bdf2cde47e4466090e27f0003f600a3",
       "version_major": 2,
       "version_minor": 0
      },
      "text/plain": [
       "  0%|          | 0/5 [00:00<?, ?it/s]"
      ]
     },
     "metadata": {},
     "output_type": "display_data"
    },
    {
     "name": "stdout",
     "output_type": "stream",
     "text": [
      "Retrieving document from  https://arxiv.org/e-print/2508.15889\n",
      "extracting tarball to tmp_2508.15889... done.\n"
     ]
    },
    {
     "name": "stdout",
     "output_type": "stream",
     "text": [
      "Issues with the citations\n",
      "list index out of range\n",
      "Retrieving document from  https://arxiv.org/e-print/2508.15901\n",
      "extracting tarball to tmp_2508.15901..."
     ]
    },
    {
     "name": "stdout",
     "output_type": "stream",
     "text": [
      " done.\n"
     ]
    },
    {
     "name": "stdout",
     "output_type": "stream",
     "text": [
      "Found 71 bibliographic references in tmp_2508.15901/main.bbl.\n",
      "Retrieving document from  https://arxiv.org/e-print/2508.15915\n",
      "extracting tarball to tmp_2508.15915..."
     ]
    },
    {
     "name": "stdout",
     "output_type": "stream",
     "text": [
      " done.\n",
      "Retrieving document from  https://arxiv.org/e-print/2508.16234\n"
     ]
    },
    {
     "name": "stdout",
     "output_type": "stream",
     "text": [
      "extracting tarball to tmp_2508.16234... done.\n",
      "Retrieving document from  https://arxiv.org/e-print/2508.16461\n"
     ]
    },
    {
     "name": "stdout",
     "output_type": "stream",
     "text": [
      "extracting tarball to tmp_2508.16461... done.\n"
     ]
    },
    {
     "name": "stderr",
     "output_type": "stream",
     "text": [
      "/opt/hostedtoolcache/Python/3.9.23/x64/lib/python3.9/site-packages/IPython/core/interactiveshell.py:3550: LatexWarning: Multiple tex files.\n",
      "\n",
      "  exec(code_obj, self.user_global_ns, self.user_ns)\n",
      "/opt/hostedtoolcache/Python/3.9.23/x64/lib/python3.9/site-packages/IPython/core/interactiveshell.py:3550: LatexWarning: Found documentclass in tmp_2508.16461/ETPathfinder_KIT.tex\n",
      "\n",
      "  exec(code_obj, self.user_global_ns, self.user_ns)\n",
      "/opt/hostedtoolcache/Python/3.9.23/x64/lib/python3.9/site-packages/arxiv_on_deck_2/latex.py:414: LatexWarning: Latex injecting: 'authorlist_ETPF.tex' from 'tmp_2508.16461/authorlist_ETPF.tex'\n",
      "  warnings.warn(LatexWarning(f\"Latex injecting: '{ext}' from '{subsource}'\"))\n"
     ]
    }
   ],
   "source": [
    "documents = []\n",
    "failed = []\n",
    "for paper in tqdm(candidates):\n",
    "    # debug crap\n",
    "    paper['identifier'] = paper['identifier'].lower().replace('arxiv:', '').replace(r'\\n', '').strip()\n",
    "    paper_id = paper['identifier']\n",
    "    \n",
    "    folder = f'tmp_{paper_id}'\n",
    "\n",
    "    try:\n",
    "        if not os.path.isdir(folder):\n",
    "            folder = retrieve_document_source(f\"{paper_id}\", f'tmp_{paper_id}')\n",
    "        \n",
    "        try:\n",
    "            doc = latex.LatexDocument(folder, validation=validation)    \n",
    "        except AffiliationError as affilerror:\n",
    "            msg = f\"ArXiv:{paper_id:s} is not an MPIA paper... \" + str(affilerror)\n",
    "            failed.append((paper, \"affiliation error: \" + str(affilerror) ))\n",
    "            continue\n",
    "        \n",
    "        # Hack because sometimes author parsing does not work well\n",
    "        if (len(doc.authors) != len(paper['authors'])):\n",
    "            doc._authors = paper['authors']\n",
    "        else:\n",
    "            # highlight authors (FIXME: doc.highlight_authors)\n",
    "            # done on arxiv paper already\n",
    "            doc._authors = highlight_authors_in_list(\n",
    "                [get_initials(k) for k in doc.authors], \n",
    "                mpia_authors, verbose=True)\n",
    "        if (doc.abstract) in (None, ''):\n",
    "            doc._abstract = paper['abstract']\n",
    "            \n",
    "        doc.comment = (get_markdown_badge(paper_id) + \n",
    "                       \"<mark>Appeared on: \" + paper['date'] + \"</mark> - \")\n",
    "        if paper['comments']:\n",
    "            doc.comment += \" _\" + paper['comments'] + \"_\"\n",
    "        \n",
    "        full_md = doc.generate_markdown_text()\n",
    "        \n",
    "        full_md += get_markdown_qrcode(paper_id)\n",
    "        \n",
    "        # replace citations\n",
    "        try:\n",
    "            bibdata = latex_bib.LatexBib.from_doc(doc)\n",
    "            full_md = latex_bib.replace_citations(full_md, bibdata)\n",
    "        except Exception as e:\n",
    "            print(\"Issues with the citations\")\n",
    "            print(e)\n",
    "        \n",
    "        documents.append((paper_id, full_md))\n",
    "    except Exception as e:\n",
    "        warnings.warn(latex.LatexWarning(f\"{paper_id:s} did not run properly\\n\" +\n",
    "                                         str(e)\n",
    "                                        ))\n",
    "        failed.append((paper, \"latex error \" + str(e)))"
   ]
  },
  {
   "cell_type": "markdown",
   "id": "2505a25c",
   "metadata": {
    "papermill": {
     "duration": 0.003626,
     "end_time": "2025-08-25T04:20:10.360784",
     "exception": false,
     "start_time": "2025-08-25T04:20:10.357158",
     "status": "completed"
    },
    "tags": []
   },
   "source": [
    "### Export the logs\n",
    "\n",
    "Throughout, we also keep track of the logs per paper. see `logs-{today date}.md` "
   ]
  },
  {
   "cell_type": "code",
   "execution_count": 6,
   "id": "d733828a",
   "metadata": {
    "execution": {
     "iopub.execute_input": "2025-08-25T04:20:10.368765Z",
     "iopub.status.busy": "2025-08-25T04:20:10.368550Z",
     "iopub.status.idle": "2025-08-25T04:20:10.384230Z",
     "shell.execute_reply": "2025-08-25T04:20:10.383712Z"
    },
    "papermill": {
     "duration": 0.020811,
     "end_time": "2025-08-25T04:20:10.385172",
     "exception": false,
     "start_time": "2025-08-25T04:20:10.364361",
     "status": "completed"
    },
    "scrolled": false,
    "tags": []
   },
   "outputs": [
    {
     "data": {
      "text/markdown": [
       "## Successful papers"
      ],
      "text/plain": [
       "<IPython.core.display.Markdown object>"
      ]
     },
     "metadata": {},
     "output_type": "display_data"
    },
    {
     "data": {
      "text/markdown": [
       "\n",
       "|||\n",
       "|---:|:---|\n",
       "| [![arXiv](https://img.shields.io/badge/arXiv-2508.15889-b31b1b.svg)](https://arxiv.org/abs/2508.15889) | **Massive extended streamers feed high-mass young stars**  |\n",
       "|| F. A. Olguin, et al. -- incl., <mark>Y. Cheng</mark> |\n",
       "|*Appeared on*| *2025-08-25*|\n",
       "|*Comments*| *Published in Science Advances and available at this https URL*|\n",
       "|**Abstract**|            Stars are born in a variety of environments that determine how they gather gas to achieve their final masses. It is generally believed that disks are ubiquitous around protostars as a result of angular momentum conservation and are natural places to grow planets. As such, they are proposed to be the last link in the inflow chain from the molecular cloud to the star. However, disks are not the only form that inflows can take. Here we report on high-resolution observations performed with the Atacama Large Millimeter/submillimeter Array that reveal inflows in the form of streamers. These streamers persist well within the expected disk radius, indicating that they play a substitute role channeling material from the envelope directly to an unresolved small disk or even directly to the forming high-mass protostar. These flows are massive enough to feed the central unresolved region at a rate sufficient to quench the feedback effects of the young massive star.         |"
      ],
      "text/plain": [
       "[2508.15889] Massive extended streamers feed high-mass young stars\n",
       "\tF. A. Olguin, et al. -- incl., <mark>Y. Cheng</mark>"
      ]
     },
     "metadata": {},
     "output_type": "display_data"
    },
    {
     "data": {
      "text/markdown": [
       "\n",
       "|||\n",
       "|---:|:---|\n",
       "| [![arXiv](https://img.shields.io/badge/arXiv-2508.15901-b31b1b.svg)](https://arxiv.org/abs/2508.15901) | **Surveying the Whirlpool at Arcseconds with NOEMA (SWAN): III. $^{13}$CO/C$^{18}$O ratio variations across the M51 galaxy**  |\n",
       "|| I. Galić, et al. -- incl., <mark>E. Schinnerer</mark> |\n",
       "|*Appeared on*| *2025-08-25*|\n",
       "|*Comments*| *Accepted for publication in A&A; 8 pages, 4 pages Appendix, 10 figures*|\n",
       "|**Abstract**|            CO isotopologues are common tracers of the bulk molecular gas in extragalactic studies, providing insights into the physical and chemical conditions of the cold molecular gas, a reservoir for star formation. Since star formation occurs within molecular clouds, mapping CO isotopologues at cloud-scale is important to understanding the processes driving star formation. However, achieving this mapping at such scales is challenging and time-intensive. The Surveying the Whirlpool Galaxy at Arcseconds with NOEMA (SWAN) survey addresses this by using the Institut de radioastronomie millimétrique (IRAM) NOrthern Extended Millimeter Array (NOEMA) to map the $^{13}$CO(1-0) and C$^{18}$O(1-0) isotopologues, alongside several dense gas tracers, in the nearby star-forming galaxy M51 at high sensitivity and spatial resolution ($\\approx$ 125 pc).We examine the $^{13}$CO(1-0) to C$^{18}$O(1-0) line emission ratio as a function of galactocentric radius and star formation rate surface density to infer how different chemical and physical processes affect this ratio at cloud scales across different galactic environments: nuclear bar, molecular ring, northern and southern spiral arms. In line with previous studies conducted at kiloparsec scales for nearby star-forming galaxies, we find a moderate positive correlation with galactocentric radius and a moderate negative correlation with star formation rate surface density across the field-of-view (FoV), with slight variations depending on the galactic environment. We propose that selective nucleosynthesis and changes in the opacity of the gas are the primary drivers of the observed variations in the ratio.         |"
      ],
      "text/plain": [
       "[2508.15901] Surveying the Whirlpool at Arcseconds with NOEMA (SWAN): III. $^{13}$CO/C$^{18}$O ratio variations across the M51 galaxy\n",
       "\tI. Galić, et al. -- incl., <mark>E. Schinnerer</mark>"
      ]
     },
     "metadata": {},
     "output_type": "display_data"
    },
    {
     "data": {
      "text/markdown": [
       "## Failed papers"
      ],
      "text/plain": [
       "<IPython.core.display.Markdown object>"
      ]
     },
     "metadata": {},
     "output_type": "display_data"
    },
    {
     "data": {
      "text/markdown": [
       "\n",
       "|||\n",
       "|---:|:---|\n",
       "| [![arXiv](https://img.shields.io/badge/arXiv-2508.15915-b31b1b.svg)](https://arxiv.org/abs/2508.15915) | **Euclid preparation. Establishing the quality of the 2D reconstruction of the filaments of the cosmic web with DisPerSE using Euclid photometric redshifts**  |\n",
       "|| E. Collaboration, et al. -- incl., <mark>L. Xie</mark>, <mark>K. Jahnke</mark> |\n",
       "|*Appeared on*| *2025-08-25*|\n",
       "|*Comments*| *27 pages, 14 Figures*|\n",
       "|**Abstract**|            Cosmic filaments are prominent structures of the matter distribution of the Universe. Modern detection algorithms are an efficient way to identify filaments in large-scale observational surveys of galaxies. Many of these methods were originally designed to work with simulations and/or well-sampled spectroscopic surveys. When spectroscopic redshifts are not available, the filaments of the cosmic web can be detected in projection using photometric redshifts in slices along the Line of Sight, which enable the exploration of larger cosmic volumes. However, this comes at the expense of a lower redshift precision. It is therefore crucial to assess the differences between filaments extracted from exact redshifts and from photometric redshifts for a specific survey. We apply this analysis to capture the uncertainties and biases of filament extractions introduced by using the photometric sample of the Euclid Wide Survey. The question that we address in this work is how can we compare two filament samples derived with redshifts of different precisions in the Euclid Wide Survey context. We apply the cosmic web detection algorithm DisPerSE, in the redshift range $0.1 \\leq z \\leq 0.5$, to the GAlaxy Evolution and Assembly (GAEA) simulated galaxy sample which reproduces several characteristics of the Euclid Wide Survey. We develop a method to compare skeletons derived from photometric redshifts to those derived from true galaxy positions. This method expands the commonly used measure of distance between filaments to include geometrical (angles between filaments) and astrophysical considerations (galaxy mass gradients and connectivity-mass relations). We assess whether this approach strengthens our ability to correctly identify filaments in very large surveys such as the Euclid Wide Survey. [abridged]         |\n",
       "|<p style=\"color:green\"> **ERROR** </p>| <p style=\"color:green\">affiliation error: mpia.affiliation_verifications: 'Heidelberg' keyword not found.</p> |"
      ],
      "text/plain": [
       "<IPython.core.display.Markdown object>"
      ]
     },
     "metadata": {},
     "output_type": "display_data"
    },
    {
     "data": {
      "text/markdown": [
       "\n",
       "|||\n",
       "|---:|:---|\n",
       "| [![arXiv](https://img.shields.io/badge/arXiv-2508.16234-b31b1b.svg)](https://arxiv.org/abs/2508.16234) | **Exploring HI Galaxy Redshift Survey Strategies for the FAST Core Array Interferometry**  |\n",
       "|| Z. Li, et al. -- incl., <mark>X. Zhang</mark> |\n",
       "|*Appeared on*| *2025-08-25*|\n",
       "|*Comments*| *19 pages, 8 figures*|\n",
       "|**Abstract**|            We explore the feasibility of HI galaxy redshift surveys with the Five-hundred-meter Aperture Spherical Telescope (FAST) and its proposed Core Array interferometry. Using semi-analytical simulations, we compare the performance of the FAST single-dish and Core Array modes in drift scan (DS) and on-the-fly (OTF) observations across different redshifts. Our results show that the FAST single-dish mode enables significant HI detections at low redshifts ($z \\lesssim 0.35$) but is limited at higher redshifts due to shot noise. The Core Array interferometry, with higher sensitivity and angular resolution, provides robust HI galaxy detections up to $z \\sim 1$, maintaining a sufficient number density for power spectrum measurements and BAO constraints. At low redshifts ($z \\sim 0.01$ -- $0.08$), both configurations perform well, though cosmic variance dominates uncertainties. At higher redshifts ($z > 0.35$), the Core Array outperforms the single-dish mode, while increasing the survey area has little impact on single-dish observations due to shot noise limitations. The DS mode efficiently covers large sky areas but is constrained by Earth's rotation, whereas the OTF mode allows more flexible deep-field surveys at the cost of operational overhead. Our findings highlight the importance of optimizing survey strategies to maximize FAST's potential for HI cosmology. The Core Array is particularly well-suited for high-redshift HI galaxy surveys, enabling precise constraints on large-scale structure and dark energy.         |\n",
       "|<p style=\"color:green\"> **ERROR** </p>| <p style=\"color:green\">affiliation error: mpia.affiliation_verifications: 'Heidelberg' keyword not found.</p> |"
      ],
      "text/plain": [
       "<IPython.core.display.Markdown object>"
      ]
     },
     "metadata": {},
     "output_type": "display_data"
    },
    {
     "data": {
      "text/markdown": [
       "\n",
       "|||\n",
       "|---:|:---|\n",
       "| [![arXiv](https://img.shields.io/badge/arXiv-2508.16461-b31b1b.svg)](https://arxiv.org/abs/2508.16461) | **The Einstein Telescope Pathfinder and its Vacuum System**  |\n",
       "|| T. Höhn, et al. -- incl., <mark>J. Wolf</mark> |\n",
       "|*Appeared on*| *2025-08-25*|\n",
       "|*Comments*| *submitted to PoS(ICRC2025)*|\n",
       "|**Abstract**|            The Einstein Telescope (ET) will be the next generation gravitational wave observatory in Europe with a sensitivity reaching beyond the CMB into the dark era of the Universe. Each corner of the triangular baseline design is the center of two interferometers with 10 km long arms, one operated at room temperature, the other one with mirrors at cryogenic temperatures of 10-15 K that reduce the noise contribution at frequencies as low as 3 Hz. The ETpathfinder (ET-PF) project at Maastricht University is a R\\&D facility for the challenging cryogenic interferometer technology of ET. It is a 20m x 20m interferometer with six towers that will house the seismically decoupled cryogenic Si-mirrors, laser systems, and detectors. The KIT group developed the control system of the ultra-high vacuum system for ET-PF, based on the expertise from the KATRIN neutrino mass experiment. In addition, a test facility is currently being set up at KIT to investigate adsorption and desorption processes of residual gas on the cryogenic mirror surfaces, as well as monitoring techniques and in-situ cleaning procedures. This paper presents the objectives and status of these activities and their contribution towards the next generation gravitational wave observatory.         |\n",
       "|<p style=\"color:green\"> **ERROR** </p>| <p style=\"color:green\">affiliation error: mpia.affiliation_verifications: 'Heidelberg' keyword not found.</p> |"
      ],
      "text/plain": [
       "<IPython.core.display.Markdown object>"
      ]
     },
     "metadata": {},
     "output_type": "display_data"
    }
   ],
   "source": [
    "import datetime\n",
    "today = str(datetime.date.today())\n",
    "logfile = f\"_build/html/logs/log-{today}.md\"\n",
    "\n",
    "\n",
    "with open(logfile, 'w') as logs:\n",
    "    # Success\n",
    "    logs.write(f'# Arxiv on Deck 2: Logs - {today}\\n\\n')\n",
    "    logs.write(\"\"\"* Arxiv had {0:,d} new papers\\n\"\"\".format(len(new_papers)))\n",
    "    logs.write(\"\"\"    * {0:,d} with possible author matches\\n\\n\"\"\".format(len(candidates)))\n",
    "    logs.write(\"## Sucessful papers\\n\\n\")\n",
    "    display(Markdown(\"## Successful papers\"))\n",
    "    success = [k[0] for k in documents]\n",
    "    for candid in candidates:\n",
    "        if candid['identifier'].split(':')[-1] in success:\n",
    "            display(candid)\n",
    "            logs.write(candid.generate_markdown_text() + '\\n\\n')\n",
    "\n",
    "    ## failed\n",
    "    logs.write(\"## Failed papers\\n\\n\")\n",
    "    display(Markdown(\"## Failed papers\"))\n",
    "    failed = sorted(failed, key=lambda x: x[1])\n",
    "    current_reason = \"\"\n",
    "    for paper, reason in failed:\n",
    "        if 'affiliation' in reason:\n",
    "            color = 'green'\n",
    "        else:\n",
    "            color = 'red'\n",
    "        data = Markdown(\n",
    "                paper.generate_markdown_text() + \n",
    "                f'\\n|<p style=\"color:{color:s}\"> **ERROR** </p>| <p style=\"color:{color:s}\">{reason:s}</p> |'\n",
    "               )\n",
    "        if reason != current_reason:\n",
    "            logs.write(f'### {reason:s} \\n\\n')\n",
    "            current_reason = reason\n",
    "        logs.write(data.data + '\\n\\n')\n",
    "        \n",
    "        # only display here the important errors (all in logs)\n",
    "        # if color in ('red',):\n",
    "        display(data)"
   ]
  },
  {
   "cell_type": "markdown",
   "id": "472d20ee",
   "metadata": {
    "papermill": {
     "duration": 0.004329,
     "end_time": "2025-08-25T04:20:10.393904",
     "exception": false,
     "start_time": "2025-08-25T04:20:10.389575",
     "status": "completed"
    },
    "tags": []
   },
   "source": [
    "## Export documents\n",
    "\n",
    "We now write the .md files and export relevant images"
   ]
  },
  {
   "cell_type": "code",
   "execution_count": 7,
   "id": "d426aed9",
   "metadata": {
    "execution": {
     "iopub.execute_input": "2025-08-25T04:20:10.403161Z",
     "iopub.status.busy": "2025-08-25T04:20:10.402962Z",
     "iopub.status.idle": "2025-08-25T04:20:10.409902Z",
     "shell.execute_reply": "2025-08-25T04:20:10.409228Z"
    },
    "papermill": {
     "duration": 0.012832,
     "end_time": "2025-08-25T04:20:10.410943",
     "exception": false,
     "start_time": "2025-08-25T04:20:10.398111",
     "status": "completed"
    },
    "tags": []
   },
   "outputs": [],
   "source": [
    "def export_markdown_summary(md: str, md_fname:str, directory: str):\n",
    "    \"\"\"Export MD document and associated relevant images\"\"\"\n",
    "    import os\n",
    "    import shutil\n",
    "    import re\n",
    "\n",
    "    if (os.path.exists(directory) and not os.path.isdir(directory)):\n",
    "        raise RuntimeError(f\"a non-directory file exists with name {directory:s}\")\n",
    "\n",
    "    if (not os.path.exists(directory)):\n",
    "        print(f\"creating directory {directory:s}\")\n",
    "        os.mkdir(directory)\n",
    "\n",
    "    fig_fnames = (re.compile(r'\\[Fig.*\\]\\((.*)\\)').findall(md) + \n",
    "                  re.compile(r'\\<img src=\"([^>\\s]*)\"[^>]*/>').findall(md))\n",
    "    print(\"found figures\", fig_fnames)\n",
    "    for fname in fig_fnames:\n",
    "        if 'http' in fname:\n",
    "            # No need to copy online figures\n",
    "            continue\n",
    "        if not os.path.exists(fname):\n",
    "            print(\"file not found\", fname)\n",
    "            continue\n",
    "        print(\"copying \", fname, \"to\", directory)\n",
    "        destdir = os.path.join(directory, os.path.dirname(fname))\n",
    "        destfname = os.path.join(destdir, os.path.basename(fname))\n",
    "        try:\n",
    "            os.makedirs(destdir)\n",
    "        except FileExistsError:\n",
    "            pass\n",
    "        shutil.copy(fname, destfname)\n",
    "    with open(os.path.join(directory, md_fname), 'w') as fout:\n",
    "        fout.write(md)\n",
    "    print(\"exported in \", os.path.join(directory, md_fname))\n",
    "    [print(\"    + \" + os.path.join(directory,fk)) for fk in fig_fnames]"
   ]
  },
  {
   "cell_type": "code",
   "execution_count": 8,
   "id": "014d04a4",
   "metadata": {
    "execution": {
     "iopub.execute_input": "2025-08-25T04:20:10.420454Z",
     "iopub.status.busy": "2025-08-25T04:20:10.420216Z",
     "iopub.status.idle": "2025-08-25T04:20:10.434199Z",
     "shell.execute_reply": "2025-08-25T04:20:10.433541Z"
    },
    "papermill": {
     "duration": 0.019892,
     "end_time": "2025-08-25T04:20:10.435208",
     "exception": false,
     "start_time": "2025-08-25T04:20:10.415316",
     "status": "completed"
    },
    "tags": []
   },
   "outputs": [
    {
     "name": "stdout",
     "output_type": "stream",
     "text": [
      "found figures ['tmp_2508.15889/./continuum_c8c9.png', 'tmp_2508.15889/./keplerian_pv_northern.png', 'tmp_2508.15889/./sketch_science_v2.png']\n",
      "copying  tmp_2508.15889/./continuum_c8c9.png to _build/html/\n",
      "copying  tmp_2508.15889/./keplerian_pv_northern.png to _build/html/\n",
      "copying  tmp_2508.15889/./sketch_science_v2.png to _build/html/\n",
      "exported in  _build/html/2508.15889.md\n",
      "    + _build/html/tmp_2508.15889/./continuum_c8c9.png\n",
      "    + _build/html/tmp_2508.15889/./keplerian_pv_northern.png\n",
      "    + _build/html/tmp_2508.15889/./sketch_science_v2.png\n",
      "found figures ['tmp_2508.15901/./new_plots_agn_edited/split_env_radius_new_pystruc0_2025_08_07.png', 'tmp_2508.15901/./new_plots_agn_edited/split_env_sfr_new_pystruc0_2025_08_07.png', 'tmp_2508.15901/./new_plots_agn_edited/paper1_maps_ratio_sfr_envs.png']\n",
      "copying  tmp_2508.15901/./new_plots_agn_edited/split_env_radius_new_pystruc0_2025_08_07.png to _build/html/\n",
      "copying  tmp_2508.15901/./new_plots_agn_edited/split_env_sfr_new_pystruc0_2025_08_07.png to _build/html/\n",
      "copying  tmp_2508.15901/./new_plots_agn_edited/paper1_maps_ratio_sfr_envs.png to _build/html/\n",
      "exported in  _build/html/2508.15901.md\n",
      "    + _build/html/tmp_2508.15901/./new_plots_agn_edited/split_env_radius_new_pystruc0_2025_08_07.png\n",
      "    + _build/html/tmp_2508.15901/./new_plots_agn_edited/split_env_sfr_new_pystruc0_2025_08_07.png\n",
      "    + _build/html/tmp_2508.15901/./new_plots_agn_edited/paper1_maps_ratio_sfr_envs.png\n"
     ]
    }
   ],
   "source": [
    "for paper_id, md in documents:\n",
    "    export_markdown_summary(md, f\"{paper_id:s}.md\", '_build/html/')"
   ]
  },
  {
   "cell_type": "markdown",
   "id": "f087a0a7",
   "metadata": {
    "papermill": {
     "duration": 0.004445,
     "end_time": "2025-08-25T04:20:10.444766",
     "exception": false,
     "start_time": "2025-08-25T04:20:10.440321",
     "status": "completed"
    },
    "tags": []
   },
   "source": [
    "## Display the papers\n",
    "\n",
    "Not necessary but allows for a quick check."
   ]
  },
  {
   "cell_type": "code",
   "execution_count": 9,
   "id": "fd25f625",
   "metadata": {
    "execution": {
     "iopub.execute_input": "2025-08-25T04:20:10.454921Z",
     "iopub.status.busy": "2025-08-25T04:20:10.454615Z",
     "iopub.status.idle": "2025-08-25T04:20:10.461033Z",
     "shell.execute_reply": "2025-08-25T04:20:10.460377Z"
    },
    "papermill": {
     "duration": 0.012951,
     "end_time": "2025-08-25T04:20:10.462143",
     "exception": false,
     "start_time": "2025-08-25T04:20:10.449192",
     "status": "completed"
    },
    "scrolled": false,
    "tags": []
   },
   "outputs": [
    {
     "data": {
      "text/markdown": [
       "<div class=\"macros\" style=\"visibility:hidden;\">\n",
       "$\\newcommand{\\ensuremath}{}$\n",
       "$\\newcommand{\\xspace}{}$\n",
       "$\\newcommand{\\object}[1]{\\texttt{#1}}$\n",
       "$\\newcommand{\\farcs}{{.}''}$\n",
       "$\\newcommand{\\farcm}{{.}'}$\n",
       "$\\newcommand{\\arcsec}{''}$\n",
       "$\\newcommand{\\arcmin}{'}$\n",
       "$\\newcommand{\\ion}[2]{#1#2}$\n",
       "$\\newcommand{\\textsc}[1]{\\textrm{#1}}$\n",
       "$\\newcommand{\\hl}[1]{\\textrm{#1}}$\n",
       "$\\newcommand{\\footnote}[1]{}$\n",
       "$\\newcommand{\\pcc}{ cm^{-3}}$\n",
       "$\\newcommand{\\msun}{{\\rm M}_\\odot}$\n",
       "$\\newcommand{\\lsun}{{\\rm L}_\\odot}$\n",
       "$\\newcommand{\\kms}{km s^{-1}}$\n",
       "$\\newcommand{◦}{^{\\circ}}$\n",
       "$\\newcommand{\\mas}{{\\rm mas}}$\n",
       "$\\newcommand{\\apj}{ApJ}$\n",
       "$\\newcommand{\\apjl}{ApJL}$\n",
       "$\\newcommand{\\aap}{A\\&A}$\n",
       "$\\newcommand{\\mnras}{MNRAS}$\n",
       "$\\newcommand{\\araa}{ARA\\&A}$\n",
       "$\\newcommand{\\ssr}{SSRv}$\n",
       "$\\newcommand{\\pasp}{PASP}$\n",
       "$\\newcommand{\\aj}{AJ}$\n",
       "$\\newcommand$\n",
       "$\\newcommand{\\fnum@figure}{\\textbf{Figure \\thefigure}}$\n",
       "$\\newcommand{\\fnum@table}{\\textbf{Table \\thetable}}$\n",
       "$\\newcommand{\\thefigure}{S\\arabic{figure}}$\n",
       "$\\newcommand{\\thetable}{S\\arabic{table}}$\n",
       "$\\newcommand{\\theequation}{S\\arabic{equation}}$\n",
       "$\\newcommand{\\thepage}{S\\arabic{page}}$\n",
       "$\\newcommand\\scititle{$\n",
       "$\tMassive extended streamers feed high-mass young stars$\n",
       "$}$</div>\n",
       "\n",
       "\n",
       "\n",
       "<div id=\"title\">\n",
       "\n",
       "# $\\bfseries$ $\\boldmath$ $\\scititle$\n",
       "\n",
       "</div>\n",
       "<div id=\"comments\">\n",
       "\n",
       "[![arXiv](https://img.shields.io/badge/arXiv-2508.15889-b31b1b.svg)](https://arxiv.org/abs/2508.15889)<mark>Appeared on: 2025-08-25</mark> -  _Published in Science Advances and available at this https URL_\n",
       "\n",
       "</div>\n",
       "<div id=\"authors\">\n",
       "\n",
       "F. A. Olguin, et al. -- incl., <mark>Y. Cheng</mark>\n",
       "\n",
       "</div>\n",
       "<div id=\"abstract\">\n",
       "\n",
       "**Abstract:** $\\bfseries$ $\\boldmath$ Stars are born in a variety of environments that determine how they gather gas to achieve their final masses.It is generally believed that disks are ubiquitous around protostars as a result of angular momentum conservation and are natural places to grow planets.As such, they are proposed to be the last link in the inflow chain from the molecular cloud to the star.However, disks are not the only form that inflows can take.Here we report on high-resolution observations performed with the Atacama Large Millimeter/submillimeter Array that reveal inflows in the form of streamers.These streamers persist well within the expected disk radius, indicating that they play a substitute role channeling material from the envelope directly to an unresolved small disk or even directly to the forming high-mass protostar.These flows are massive enough to feed the central unresolved region at a rate sufficient to quench the feedback effects of the young massive star.\n",
       "\n",
       "</div>\n",
       "\n",
       "<div id=\"div_fig1\">\n",
       "\n",
       "<img src=\"tmp_2508.15889/./continuum_c8c9.png\" alt=\"Fig1\" width=\"100%\"/>\n",
       "\n",
       "**Figure 1. -** **ALMA 1.3 mm continuum emission and CH$\\bf _3$OH $\\bf J_{K_a,K_c** =18_{3,15}-17_{4,14} A, v_t=0$ first moment map.}**(A)** The green triangle corresponds to the central source, ALMA1.\n",
       "The contour levels are $-3$, 5, 10, 20, 40, 80$\\times\\sigma_{rms}$ with $\\sigma_{rms}=28$$\\mu$Jy beam$^{-1}$.\n",
       "The blue- and red-shifted streamer directions are shown by the curves for the corresponding color.\n",
       "The purple region shows extended emission from ALMA1 likely tracing a jet component.\n",
       "**(B)** The first moment velocity map with respect to the systemic velocity ($-47.2$ km s$^{-1}$\\cite{Taniguchi2023}) is accompanied by colored curves describing the trajectory and velocity distribution of the streamlines of a rotating and infalling envelope.\n",
       "The blue streamer is divided in two streamlines.\n",
       "The outer component presents a refinement of the streamline model presented in \\cite{Olguin2023}, while the inner component corresponds to a similar model but with a streamline origin at the centrifugal radius and close to the mid-plane (see Materials and Methods).\n",
       "The contours are the same as in (A).\n",
       "The pink ellipse correspond to a circle of radius 500 au, i.e., the centrifugal radius, projected in plane of the sky assuming an inclination angle of 65◦ with respect to the line of sight.\n",
       "Synthesized beam sizes for the continuum and first moment maps are shown in the bottom left corner.\n",
       " (*fig:continuum*)\n",
       "\n",
       "</div>\n",
       "<div id=\"div_fig2\">\n",
       "\n",
       "<img src=\"tmp_2508.15889/./keplerian_pv_northern.png\" alt=\"Fig2\" width=\"100%\"/>\n",
       "\n",
       "**Figure 2. -** **Blue-shifted streamer position-velocity (PV) diagram in CH$\\bf _3$OH.**\n",
       "The green solid line corresponds to the line of sight Keplerian velocity at the same deprojected distance to the central source, ALMA1.\n",
       "Similarly, the dotted green line corresponds to a Keplerian rotation and infall velocity distribution, while the dashed line corresponds to the IRE velocity distribution \\cite{Oya2022}.\n",
       "The inner and outer blue streamer models in Fig. \\ref{fig:continuum}B are shown in blue dot-dashed lines.\n",
       "The lower abscissa scale corresponds to the distance along the path used to calculate the PV diagram slice (shown in Fig. \\ref{fig:continuum}) with the package  pvextractor, while the upper one corresponds to the radial distance to ALMA1 assuming that the slice points are located in the mid-plane (see Materials and Methods).\n",
       "The mid-plane is assumed to be inclined 65◦ with respect to the line of sight.\n",
       "The vertical light blue line marks the position of the centrifugal radius, $R_c=500$ au.\n",
       " (*fig:pvmap*)\n",
       "\n",
       "</div>\n",
       "<div id=\"div_fig3\">\n",
       "\n",
       "<img src=\"tmp_2508.15889/./sketch_science_v2.png\" alt=\"Fig3\" width=\"100%\"/>\n",
       "\n",
       "**Figure 3. -** **Schematic representation of the different kinematic components and flow scenarios.**(** A**) Schematic representation of the observations with the different components labeled by the tag with the respective color.\n",
       "The green arrows point in the direction of the outflows, while the blue to red arrow indicated the rotation direction.\n",
       "The scale at the bottom indicates the radius of ALMA1, the centrifugal barrier radius and the centrifugal radius from left to right, respectively.\n",
       "(** B**) and (** C**) Are the two scenarios proposed to explain the origin of the shocks in the blue streamer.\n",
       "Green arrows represent the background infall from the less dense envelope.\n",
       " (*fig:sketch*)\n",
       "\n",
       "</div><div id=\"qrcode\"><img src=https://api.qrserver.com/v1/create-qr-code/?size=100x100&data=\"https://arxiv.org/abs/2508.15889\"></div>"
      ],
      "text/plain": [
       "<IPython.core.display.Markdown object>"
      ]
     },
     "metadata": {},
     "output_type": "display_data"
    },
    {
     "data": {
      "text/markdown": [
       "<div class=\"macros\" style=\"visibility:hidden;\">\n",
       "$\\newcommand{\\ensuremath}{}$\n",
       "$\\newcommand{\\xspace}{}$\n",
       "$\\newcommand{\\object}[1]{\\texttt{#1}}$\n",
       "$\\newcommand{\\farcs}{{.}''}$\n",
       "$\\newcommand{\\farcm}{{.}'}$\n",
       "$\\newcommand{\\arcsec}{''}$\n",
       "$\\newcommand{\\arcmin}{'}$\n",
       "$\\newcommand{\\ion}[2]{#1#2}$\n",
       "$\\newcommand{\\textsc}[1]{\\textrm{#1}}$\n",
       "$\\newcommand{\\hl}[1]{\\textrm{#1}}$\n",
       "$\\newcommand{\\footnote}[1]{}$</div>\n",
       "\n",
       "\n",
       "\n",
       "<div id=\"title\">\n",
       "\n",
       "# Surveying the Whirlpool at Arcseconds with NOEMA (SWAN): III. $^{13}$CO/C$^{18}$O ratio variations across the M51 galaxy\n",
       "\n",
       "</div>\n",
       "<div id=\"comments\">\n",
       "\n",
       "[![arXiv](https://img.shields.io/badge/arXiv-2508.15901-b31b1b.svg)](https://arxiv.org/abs/2508.15901)<mark>Appeared on: 2025-08-25</mark> -  _Accepted for publication in A&A; 8 pages, 4 pages Appendix, 10 figures_\n",
       "\n",
       "</div>\n",
       "<div id=\"authors\">\n",
       "\n",
       "I. Galić, et al. -- incl., <mark>E. Schinnerer</mark>\n",
       "\n",
       "</div>\n",
       "<div id=\"abstract\">\n",
       "\n",
       "**Abstract:** CO isotopologues are common tracers of the bulk molecular gas in extragalactic studies, providing insights into the physical and chemical conditions of the cold molecular gas, a reservoir for star formation. Since star formation occurs within molecular clouds, mapping CO isotopologues at cloud-scale is important to understanding the processes driving star formation. However, achieving this mapping at such scales is challenging and time-intensive. The Surveying the Whirlpool Galaxy at Arcseconds with NOEMA (SWAN) survey addresses this by using the Institut de radioastronomie millimétrique (IRAM) NOrthern Extended Millimeter Array (NOEMA) to map the $^{13}$ CO(1-0) and C $^{18}$ O(1-0) isotopologues, alongside several dense gas tracers, in the nearby star-forming galaxy M51 at high sensitivity and spatial resolution ( $\\approx$ 125 pc). We examine the $^{13}$ CO(1-0) to C $^{18}$ O(1-0) line emission ratio as a function of galactocentric radius and star formation rate surface density to infer how different chemical and physical processes affect this ratio at cloud scales across different galactic environments: nuclear bar, molecular ring, northern and southern spiral arms. In line with previous studies conducted at kiloparsec scales for nearby star-forming galaxies, we find a moderate positive correlation with galactocentric radius and a moderate negative correlation with star formation rate surface density across the field-of-view (FoV), with slight variations depending on the galactic environment. We propose that selective nucleosynthesis and changes in the opacity of the gas are the primary drivers of the observed variations in the ratio.\n",
       "\n",
       "</div>\n",
       "\n",
       "<div id=\"div_fig1\">\n",
       "\n",
       "<img src=\"tmp_2508.15901/./new_plots_agn_edited/split_env_radius_new_pystruc0_2025_08_07.png\" alt=\"Fig5\" width=\"100%\"/>\n",
       "\n",
       "**Figure 5. -** The figure displays $\\mathrm{{R}^{13}_{18}}$ plotted against galactocentric radius. In the top panel, coloured points represent sightlines where both emission lines have S/N > 3. Downward triangles denote lower limits, where the ratio has S/N $\\leq$ 3 and C$^{18}$O(1-0) also has S/N $\\leq$ 3. Upward triangles indicate upper limits, where the ratio has S/N $\\leq$ 3 and $^{13}$CO(1-0) also has S/N $\\leq$ 3. Diamonds represent non-detections, where both lines have either S/N $\\leq$ 3 or S/N > 3, but result in the ratio having S/N $\\leq$ 3. White hexagons correspond to points obtained via spectral stacking with the error bars corresponding to the propagated statistical uncertainties. The bottom panels highlight the points of each environment (see right map in  Fig. \\ref{fig:maps}), with grey points matching the coloured ones in the top panel and the coloured points highlighting the respective environment. The black dashed line marks the $\\widetilde{{\\mathrm{R}}}^{13}_{18}$ for the FoV, while the coloured dashed line indicates the $\\widetilde{{\\mathrm{R}}}^{13}_{18}$ for the specific environment. The colour saturation for points in both the top and bottom panels reflects the kernel density estimate (KDE). (*fig:env_plots_radius*)\n",
       "\n",
       "</div>\n",
       "<div id=\"div_fig2\">\n",
       "\n",
       "<img src=\"tmp_2508.15901/./new_plots_agn_edited/split_env_sfr_new_pystruc0_2025_08_07.png\" alt=\"Fig6\" width=\"100%\"/>\n",
       "\n",
       "**Figure 6. -** The figure displays $\\mathrm{{R}^{13}_{18}}$ plotted against SFR surface density. The description is analogous to Fig. \\ref{fig:env_plots_radius}, with an added black dashed line indicating the FoV's median $\\Sigma_{\\text{SFR}}$. The black line extending in the northern spiral arm panel arises from a low-value non-detection point. (*fig:env_plots_sfr*)\n",
       "\n",
       "</div>\n",
       "<div id=\"div_fig3\">\n",
       "\n",
       "<img src=\"tmp_2508.15901/./new_plots_agn_edited/paper1_maps_ratio_sfr_envs.png\" alt=\"Fig4\" width=\"100%\"/>\n",
       "\n",
       "**Figure 4. -** The complete dataset is presented in this figure, while the version masked for AGN activity and used in the analysis is provided in Appendix \\ref{AGN Acivity}. The left panel shows the $\\mathrm{R}^{13}_{18}$ line ratio map, while the central panel presents the $\\Sigma_{\\text{SFR}}$ map, limited to regions where the line ratio is significantly measured. In these maps, light gray points indicate non-detections (S/N $\\leq$ 3 in both lines), intermediate gray denotes lower limits (S/N $\\leq$ 3 in C$^{18}$O) and dark gray indicates upper limits (S/N $\\leq$ 3 in $^{13}$CO). Coloured points mark detections with S/N > 3 in both lines. The overlaid contours represent the 30 K km s$^{-1}$ level of $^{12}$CO(1–0) emission for reference. The right panel shows the PAWS environmental mask  ([Colombo, Hughes and Schinnerer 2014]())  over the SWAN FoV, where different colours denote distinct environments: nuclear bar (blue), molecular ring (pink), northern spiral arm (orange), southern spiral arm (red), and interarm (green). Points with black outlines correspond to the significant detections shown in the other panels. (*fig:maps*)\n",
       "\n",
       "</div><div id=\"qrcode\"><img src=https://api.qrserver.com/v1/create-qr-code/?size=100x100&data=\"https://arxiv.org/abs/2508.15901\"></div>"
      ],
      "text/plain": [
       "<IPython.core.display.Markdown object>"
      ]
     },
     "metadata": {},
     "output_type": "display_data"
    }
   ],
   "source": [
    "[display(Markdown(k[1])) for k in documents];"
   ]
  },
  {
   "cell_type": "markdown",
   "id": "873873a4",
   "metadata": {
    "papermill": {
     "duration": 0.004796,
     "end_time": "2025-08-25T04:20:10.472226",
     "exception": false,
     "start_time": "2025-08-25T04:20:10.467430",
     "status": "completed"
    },
    "tags": []
   },
   "source": [
    "# Create HTML index"
   ]
  },
  {
   "cell_type": "code",
   "execution_count": 10,
   "id": "cf665672",
   "metadata": {
    "execution": {
     "iopub.execute_input": "2025-08-25T04:20:10.482740Z",
     "iopub.status.busy": "2025-08-25T04:20:10.482463Z",
     "iopub.status.idle": "2025-08-25T04:20:10.489860Z",
     "shell.execute_reply": "2025-08-25T04:20:10.489293Z"
    },
    "papermill": {
     "duration": 0.013889,
     "end_time": "2025-08-25T04:20:10.490870",
     "exception": false,
     "start_time": "2025-08-25T04:20:10.476981",
     "status": "completed"
    },
    "tags": []
   },
   "outputs": [
    {
     "name": "stdout",
     "output_type": "stream",
     "text": [
      "127  publications files modified in the last 7 days.\n"
     ]
    }
   ],
   "source": [
    "from datetime import datetime, timedelta, timezone\n",
    "from glob import glob\n",
    "import os\n",
    "\n",
    "files = glob('_build/html/*.md')\n",
    "days = 7\n",
    "now = datetime.today()\n",
    "res = []\n",
    "for fk in files:\n",
    "    stat_result = os.stat(fk).st_ctime\n",
    "    modified = datetime.fromtimestamp(stat_result, tz=timezone.utc).replace(tzinfo=None)\n",
    "    delta = now.today() - modified\n",
    "    if delta <= timedelta(days=days):\n",
    "        res.append((delta.seconds, fk))\n",
    "res = [k[1] for k in reversed(sorted(res, key=lambda x:x[1]))]\n",
    "npub = len(res)\n",
    "print(len(res), f\" publications files modified in the last {days:d} days.\")\n",
    "# [ print('\\t', k) for k in res ];"
   ]
  },
  {
   "cell_type": "code",
   "execution_count": 11,
   "id": "015de740",
   "metadata": {
    "execution": {
     "iopub.execute_input": "2025-08-25T04:20:10.501712Z",
     "iopub.status.busy": "2025-08-25T04:20:10.501456Z",
     "iopub.status.idle": "2025-08-25T04:20:10.513449Z",
     "shell.execute_reply": "2025-08-25T04:20:10.512919Z"
    },
    "papermill": {
     "duration": 0.018502,
     "end_time": "2025-08-25T04:20:10.514472",
     "exception": false,
     "start_time": "2025-08-25T04:20:10.495970",
     "status": "completed"
    },
    "tags": []
   },
   "outputs": [
    {
     "name": "stdout",
     "output_type": "stream",
     "text": [
      "5  publications in the last 7 days.\n"
     ]
    }
   ],
   "source": [
    "import datetime\n",
    "from glob import glob\n",
    "\n",
    "def get_last_n_days(lst, days=1):\n",
    "    \"\"\" Get the documents from the last n days \"\"\"\n",
    "    sorted_lst = sorted(lst, key=lambda x: x[1], reverse=True)\n",
    "    for fname, date in sorted_lst:\n",
    "        if date >= str(datetime.date.today() - datetime.timedelta(days=days)):\n",
    "            yield fname\n",
    "\n",
    "def extract_appearance_dates(lst_file):\n",
    "    dates = []\n",
    "\n",
    "    def get_date(line):\n",
    "        return line\\\n",
    "            .split('Appeared on:')[-1]\\\n",
    "            .split('</mark>')[0].strip()\n",
    "\n",
    "    for fname in lst:\n",
    "        with open(fname, 'r') as f:\n",
    "            found_date = False\n",
    "            for line in f:\n",
    "                if not found_date:\n",
    "                    if \"Appeared on\" in line:\n",
    "                        found_date = True\n",
    "                        dates.append((fname, get_date(line)))\n",
    "                else:\n",
    "                    break\n",
    "    return dates\n",
    "\n",
    "from glob import glob\n",
    "lst = glob('_build/html/*md')\n",
    "days = 7\n",
    "dates = extract_appearance_dates(lst)\n",
    "res = list(get_last_n_days(dates, days))\n",
    "npub = len(res)\n",
    "print(len(res), f\" publications in the last {days:d} days.\")"
   ]
  },
  {
   "cell_type": "code",
   "execution_count": 12,
   "id": "52ca0208",
   "metadata": {
    "execution": {
     "iopub.execute_input": "2025-08-25T04:20:10.525173Z",
     "iopub.status.busy": "2025-08-25T04:20:10.524964Z",
     "iopub.status.idle": "2025-08-25T04:20:10.529835Z",
     "shell.execute_reply": "2025-08-25T04:20:10.529281Z"
    },
    "papermill": {
     "duration": 0.011323,
     "end_time": "2025-08-25T04:20:10.530811",
     "exception": false,
     "start_time": "2025-08-25T04:20:10.519488",
     "status": "completed"
    },
    "scrolled": false,
    "tags": []
   },
   "outputs": [],
   "source": [
    "def create_carousel(npub=4):\n",
    "    \"\"\" Generate the HTML code for a carousel with `npub` slides \"\"\"\n",
    "    carousel = [\"\"\"  <div class=\"carousel\" \"\"\",\n",
    "                \"\"\"       data-flickity='{ \"autoPlay\": 10000, \"adaptiveHeight\": true, \"resize\": true, \"wrapAround\": true, \"pauseAutoPlayOnHover\": true, \"groupCells\": 1 }' id=\"asyncTypeset\">\"\"\"\n",
    "                ]\n",
    "    \n",
    "    item_str = \"\"\"    <div class=\"carousel-cell\"> <div id=\"slide{k}\" class=\"md_view\">Content {k}</div> </div>\"\"\"\n",
    "    for k in range(1, npub + 1):\n",
    "        carousel.append(item_str.format(k=k))\n",
    "    carousel.append(\"  </div>\")\n",
    "    return '\\n'.join(carousel)\n",
    "\n",
    "def create_grid(npub=4):\n",
    "    \"\"\" Generate the HTML code for a flat grid with `npub` slides \"\"\"\n",
    "    grid = [\"\"\"  <div class=\"grid\"> \"\"\",\n",
    "                ]\n",
    "    \n",
    "    item_str = \"\"\"    <div class=\"grid-item\"> <div id=\"slide{k}\" class=\"md_view\">Content {k}</div> </div>\"\"\"\n",
    "    for k in range(1, npub + 1):\n",
    "        grid.append(item_str.format(k=k))\n",
    "    grid.append(\"  </div>\")\n",
    "    return '\\n'.join(grid)"
   ]
  },
  {
   "cell_type": "code",
   "execution_count": 13,
   "id": "a6eac5b6",
   "metadata": {
    "execution": {
     "iopub.execute_input": "2025-08-25T04:20:10.541709Z",
     "iopub.status.busy": "2025-08-25T04:20:10.541452Z",
     "iopub.status.idle": "2025-08-25T04:20:10.546455Z",
     "shell.execute_reply": "2025-08-25T04:20:10.545917Z"
    },
    "papermill": {
     "duration": 0.011456,
     "end_time": "2025-08-25T04:20:10.547420",
     "exception": false,
     "start_time": "2025-08-25T04:20:10.535964",
     "status": "completed"
    },
    "scrolled": false,
    "tags": []
   },
   "outputs": [],
   "source": [
    "carousel = create_carousel(npub)\n",
    "docs = ', '.join(['\"{0:s}\"'.format(k.split('/')[-1]) for k in res])\n",
    "slides = ', '.join([f'\"slide{k}\"' for k in range(1, npub + 1)])\n",
    "\n",
    "with open(\"daily_template.html\", \"r\") as tpl:\n",
    "    page = tpl.read()\n",
    "    page = page.replace(\"{%-- carousel:s --%}\", carousel)\\\n",
    "               .replace(\"{%-- suptitle:s --%}\",  \"7-day archives\" )\\\n",
    "               .replace(\"{%-- docs:s --%}\", docs)\\\n",
    "               .replace(\"{%-- slides:s --%}\", slides)\n",
    "    \n",
    "with open(\"_build/html/index_7days.html\", 'w') as fout:\n",
    "    fout.write(page)"
   ]
  },
  {
   "cell_type": "code",
   "execution_count": 14,
   "id": "adc1a1ec",
   "metadata": {
    "execution": {
     "iopub.execute_input": "2025-08-25T04:20:10.558281Z",
     "iopub.status.busy": "2025-08-25T04:20:10.558080Z",
     "iopub.status.idle": "2025-08-25T04:20:10.563971Z",
     "shell.execute_reply": "2025-08-25T04:20:10.563444Z"
    },
    "papermill": {
     "duration": 0.012372,
     "end_time": "2025-08-25T04:20:10.564922",
     "exception": false,
     "start_time": "2025-08-25T04:20:10.552550",
     "status": "completed"
    },
    "tags": []
   },
   "outputs": [
    {
     "name": "stdout",
     "output_type": "stream",
     "text": [
      "2  publications in the last day.\n"
     ]
    }
   ],
   "source": [
    "# redo for today\n",
    "days = 1\n",
    "res = list(get_last_n_days(dates, days))\n",
    "npub = len(res)\n",
    "print(len(res), f\" publications in the last day.\")\n",
    "\n",
    "carousel = create_carousel(npub)\n",
    "docs = ', '.join(['\"{0:s}\"'.format(k.split('/')[-1]) for k in res])\n",
    "slides = ', '.join([f'\"slide{k}\"' for k in range(1, npub + 1)])\n",
    "\n",
    "with open(\"daily_template.html\", \"r\") as tpl:\n",
    "    page = tpl.read()\n",
    "    page = page.replace(\"{%-- carousel:s --%}\", carousel)\\\n",
    "               .replace(\"{%-- suptitle:s --%}\",  \"Daily\" )\\\n",
    "               .replace(\"{%-- docs:s --%}\", docs)\\\n",
    "               .replace(\"{%-- slides:s --%}\", slides)\n",
    "    \n",
    "# print(carousel, docs, slides)\n",
    "# print(page)\n",
    "with open(\"_build/html/index_daily.html\", 'w') as fout:\n",
    "    fout.write(page)"
   ]
  },
  {
   "cell_type": "code",
   "execution_count": 15,
   "id": "00eece82",
   "metadata": {
    "execution": {
     "iopub.execute_input": "2025-08-25T04:20:10.576235Z",
     "iopub.status.busy": "2025-08-25T04:20:10.576020Z",
     "iopub.status.idle": "2025-08-25T04:20:10.582467Z",
     "shell.execute_reply": "2025-08-25T04:20:10.581909Z"
    },
    "papermill": {
     "duration": 0.013183,
     "end_time": "2025-08-25T04:20:10.583447",
     "exception": false,
     "start_time": "2025-08-25T04:20:10.570264",
     "status": "completed"
    },
    "scrolled": false,
    "tags": []
   },
   "outputs": [
    {
     "name": "stdout",
     "output_type": "stream",
     "text": [
      "6  6 publications selected.\n"
     ]
    }
   ],
   "source": [
    "# Create the flat grid of the last N papers (fixed number regardless of dates)\n",
    "from itertools import islice \n",
    "\n",
    "npub = 6\n",
    "res = [k[0] for k in (islice(reversed(sorted(dates, key=lambda x: x[1])), 6))]\n",
    "print(len(res), f\" {npub} publications selected.\")\n",
    "\n",
    "grid = create_grid(npub)\n",
    "docs = ', '.join(['\"{0:s}\"'.format(k.split('/')[-1]) for k in res])\n",
    "slides = ', '.join([f'\"slide{k}\"' for k in range(1, npub + 1)])\n",
    "\n",
    "with open(\"grid_template.html\", \"r\") as tpl:\n",
    "    page = tpl.read()\n",
    "    page = page.replace(\"{%-- grid-content:s --%}\", grid)\\\n",
    "               .replace(\"{%-- suptitle:s --%}\",  f\"Last {npub:,d} papers\" )\\\n",
    "               .replace(\"{%-- docs:s --%}\", docs)\\\n",
    "               .replace(\"{%-- slides:s --%}\", slides)\n",
    "    \n",
    "# print(grid, docs, slides)\n",
    "# print(page)\n",
    "with open(\"_build/html/index_npub_grid.html\", 'w') as fout:\n",
    "    fout.write(page)"
   ]
  }
 ],
 "metadata": {
  "kernelspec": {
   "display_name": "Python 3 (ipykernel)",
   "language": "python",
   "name": "python3"
  },
  "language_info": {
   "codemirror_mode": {
    "name": "ipython",
    "version": 3
   },
   "file_extension": ".py",
   "mimetype": "text/x-python",
   "name": "python",
   "nbconvert_exporter": "python",
   "pygments_lexer": "ipython3",
   "version": "3.9.23"
  },
  "papermill": {
   "default_parameters": {},
   "duration": 91.138505,
   "end_time": "2025-08-25T04:20:10.804418",
   "environment_variables": {},
   "exception": null,
   "input_path": "MPIA daily digest.ipynb",
   "output_path": "log.ipynb",
   "parameters": {},
   "start_time": "2025-08-25T04:18:39.665913",
   "version": "2.6.0"
  },
  "vscode": {
   "interpreter": {
    "hash": "aee8b7b246df8f9039afb4144a1f6fd8d2ca17a180786b69acc140d282b71a49"
   }
  },
  "widgets": {
   "application/vnd.jupyter.widget-state+json": {
    "state": {
     "14113d7b2deb42a78207878a3f97ce04": {
      "model_module": "@jupyter-widgets/controls",
      "model_module_version": "2.0.0",
      "model_name": "ProgressStyleModel",
      "state": {
       "_model_module": "@jupyter-widgets/controls",
       "_model_module_version": "2.0.0",
       "_model_name": "ProgressStyleModel",
       "_view_count": null,
       "_view_module": "@jupyter-widgets/base",
       "_view_module_version": "2.0.0",
       "_view_name": "StyleView",
       "bar_color": null,
       "description_width": ""
      }
     },
     "2475c75230f241989db4a0753abfc326": {
      "model_module": "@jupyter-widgets/base",
      "model_module_version": "2.0.0",
      "model_name": "LayoutModel",
      "state": {
       "_model_module": "@jupyter-widgets/base",
       "_model_module_version": "2.0.0",
       "_model_name": "LayoutModel",
       "_view_count": null,
       "_view_module": "@jupyter-widgets/base",
       "_view_module_version": "2.0.0",
       "_view_name": "LayoutView",
       "align_content": null,
       "align_items": null,
       "align_self": null,
       "border_bottom": null,
       "border_left": null,
       "border_right": null,
       "border_top": null,
       "bottom": null,
       "display": null,
       "flex": null,
       "flex_flow": null,
       "grid_area": null,
       "grid_auto_columns": null,
       "grid_auto_flow": null,
       "grid_auto_rows": null,
       "grid_column": null,
       "grid_gap": null,
       "grid_row": null,
       "grid_template_areas": null,
       "grid_template_columns": null,
       "grid_template_rows": null,
       "height": null,
       "justify_content": null,
       "justify_items": null,
       "left": null,
       "margin": null,
       "max_height": null,
       "max_width": null,
       "min_height": null,
       "min_width": null,
       "object_fit": null,
       "object_position": null,
       "order": null,
       "overflow": null,
       "padding": null,
       "right": null,
       "top": null,
       "visibility": null,
       "width": null
      }
     },
     "38acba2d748545818dd98dc91a8f2720": {
      "model_module": "@jupyter-widgets/controls",
      "model_module_version": "2.0.0",
      "model_name": "HTMLStyleModel",
      "state": {
       "_model_module": "@jupyter-widgets/controls",
       "_model_module_version": "2.0.0",
       "_model_name": "HTMLStyleModel",
       "_view_count": null,
       "_view_module": "@jupyter-widgets/base",
       "_view_module_version": "2.0.0",
       "_view_name": "StyleView",
       "background": null,
       "description_width": "",
       "font_size": null,
       "text_color": null
      }
     },
     "626c43e3f15c44f49db0108ee9442248": {
      "model_module": "@jupyter-widgets/base",
      "model_module_version": "2.0.0",
      "model_name": "LayoutModel",
      "state": {
       "_model_module": "@jupyter-widgets/base",
       "_model_module_version": "2.0.0",
       "_model_name": "LayoutModel",
       "_view_count": null,
       "_view_module": "@jupyter-widgets/base",
       "_view_module_version": "2.0.0",
       "_view_name": "LayoutView",
       "align_content": null,
       "align_items": null,
       "align_self": null,
       "border_bottom": null,
       "border_left": null,
       "border_right": null,
       "border_top": null,
       "bottom": null,
       "display": null,
       "flex": null,
       "flex_flow": null,
       "grid_area": null,
       "grid_auto_columns": null,
       "grid_auto_flow": null,
       "grid_auto_rows": null,
       "grid_column": null,
       "grid_gap": null,
       "grid_row": null,
       "grid_template_areas": null,
       "grid_template_columns": null,
       "grid_template_rows": null,
       "height": null,
       "justify_content": null,
       "justify_items": null,
       "left": null,
       "margin": null,
       "max_height": null,
       "max_width": null,
       "min_height": null,
       "min_width": null,
       "object_fit": null,
       "object_position": null,
       "order": null,
       "overflow": null,
       "padding": null,
       "right": null,
       "top": null,
       "visibility": null,
       "width": null
      }
     },
     "8bdf2cde47e4466090e27f0003f600a3": {
      "model_module": "@jupyter-widgets/controls",
      "model_module_version": "2.0.0",
      "model_name": "HBoxModel",
      "state": {
       "_dom_classes": [],
       "_model_module": "@jupyter-widgets/controls",
       "_model_module_version": "2.0.0",
       "_model_name": "HBoxModel",
       "_view_count": null,
       "_view_module": "@jupyter-widgets/controls",
       "_view_module_version": "2.0.0",
       "_view_name": "HBoxView",
       "box_style": "",
       "children": [
        "IPY_MODEL_c13dc51ea1134b7fa849c9ed82c47219",
        "IPY_MODEL_fbb2f495ac544bdbb9a95c8234a79dda",
        "IPY_MODEL_e70789edef224ff697ed2c5bee4f0672"
       ],
       "layout": "IPY_MODEL_626c43e3f15c44f49db0108ee9442248",
       "tabbable": null,
       "tooltip": null
      }
     },
     "97ca1db954aa40f08ff546e256c26ba8": {
      "model_module": "@jupyter-widgets/controls",
      "model_module_version": "2.0.0",
      "model_name": "HTMLStyleModel",
      "state": {
       "_model_module": "@jupyter-widgets/controls",
       "_model_module_version": "2.0.0",
       "_model_name": "HTMLStyleModel",
       "_view_count": null,
       "_view_module": "@jupyter-widgets/base",
       "_view_module_version": "2.0.0",
       "_view_name": "StyleView",
       "background": null,
       "description_width": "",
       "font_size": null,
       "text_color": null
      }
     },
     "a2f47f90460542b3802544804058db80": {
      "model_module": "@jupyter-widgets/base",
      "model_module_version": "2.0.0",
      "model_name": "LayoutModel",
      "state": {
       "_model_module": "@jupyter-widgets/base",
       "_model_module_version": "2.0.0",
       "_model_name": "LayoutModel",
       "_view_count": null,
       "_view_module": "@jupyter-widgets/base",
       "_view_module_version": "2.0.0",
       "_view_name": "LayoutView",
       "align_content": null,
       "align_items": null,
       "align_self": null,
       "border_bottom": null,
       "border_left": null,
       "border_right": null,
       "border_top": null,
       "bottom": null,
       "display": null,
       "flex": null,
       "flex_flow": null,
       "grid_area": null,
       "grid_auto_columns": null,
       "grid_auto_flow": null,
       "grid_auto_rows": null,
       "grid_column": null,
       "grid_gap": null,
       "grid_row": null,
       "grid_template_areas": null,
       "grid_template_columns": null,
       "grid_template_rows": null,
       "height": null,
       "justify_content": null,
       "justify_items": null,
       "left": null,
       "margin": null,
       "max_height": null,
       "max_width": null,
       "min_height": null,
       "min_width": null,
       "object_fit": null,
       "object_position": null,
       "order": null,
       "overflow": null,
       "padding": null,
       "right": null,
       "top": null,
       "visibility": null,
       "width": null
      }
     },
     "a6567346019a43db8c3fe95b6ff6d1d7": {
      "model_module": "@jupyter-widgets/base",
      "model_module_version": "2.0.0",
      "model_name": "LayoutModel",
      "state": {
       "_model_module": "@jupyter-widgets/base",
       "_model_module_version": "2.0.0",
       "_model_name": "LayoutModel",
       "_view_count": null,
       "_view_module": "@jupyter-widgets/base",
       "_view_module_version": "2.0.0",
       "_view_name": "LayoutView",
       "align_content": null,
       "align_items": null,
       "align_self": null,
       "border_bottom": null,
       "border_left": null,
       "border_right": null,
       "border_top": null,
       "bottom": null,
       "display": null,
       "flex": null,
       "flex_flow": null,
       "grid_area": null,
       "grid_auto_columns": null,
       "grid_auto_flow": null,
       "grid_auto_rows": null,
       "grid_column": null,
       "grid_gap": null,
       "grid_row": null,
       "grid_template_areas": null,
       "grid_template_columns": null,
       "grid_template_rows": null,
       "height": null,
       "justify_content": null,
       "justify_items": null,
       "left": null,
       "margin": null,
       "max_height": null,
       "max_width": null,
       "min_height": null,
       "min_width": null,
       "object_fit": null,
       "object_position": null,
       "order": null,
       "overflow": null,
       "padding": null,
       "right": null,
       "top": null,
       "visibility": null,
       "width": null
      }
     },
     "c13dc51ea1134b7fa849c9ed82c47219": {
      "model_module": "@jupyter-widgets/controls",
      "model_module_version": "2.0.0",
      "model_name": "HTMLModel",
      "state": {
       "_dom_classes": [],
       "_model_module": "@jupyter-widgets/controls",
       "_model_module_version": "2.0.0",
       "_model_name": "HTMLModel",
       "_view_count": null,
       "_view_module": "@jupyter-widgets/controls",
       "_view_module_version": "2.0.0",
       "_view_name": "HTMLView",
       "description": "",
       "description_allow_html": false,
       "layout": "IPY_MODEL_a6567346019a43db8c3fe95b6ff6d1d7",
       "placeholder": "​",
       "style": "IPY_MODEL_38acba2d748545818dd98dc91a8f2720",
       "tabbable": null,
       "tooltip": null,
       "value": "100%"
      }
     },
     "e70789edef224ff697ed2c5bee4f0672": {
      "model_module": "@jupyter-widgets/controls",
      "model_module_version": "2.0.0",
      "model_name": "HTMLModel",
      "state": {
       "_dom_classes": [],
       "_model_module": "@jupyter-widgets/controls",
       "_model_module_version": "2.0.0",
       "_model_name": "HTMLModel",
       "_view_count": null,
       "_view_module": "@jupyter-widgets/controls",
       "_view_module_version": "2.0.0",
       "_view_name": "HTMLView",
       "description": "",
       "description_allow_html": false,
       "layout": "IPY_MODEL_2475c75230f241989db4a0753abfc326",
       "placeholder": "​",
       "style": "IPY_MODEL_97ca1db954aa40f08ff546e256c26ba8",
       "tabbable": null,
       "tooltip": null,
       "value": " 5/5 [01:09&lt;00:00,  8.19s/it]"
      }
     },
     "fbb2f495ac544bdbb9a95c8234a79dda": {
      "model_module": "@jupyter-widgets/controls",
      "model_module_version": "2.0.0",
      "model_name": "FloatProgressModel",
      "state": {
       "_dom_classes": [],
       "_model_module": "@jupyter-widgets/controls",
       "_model_module_version": "2.0.0",
       "_model_name": "FloatProgressModel",
       "_view_count": null,
       "_view_module": "@jupyter-widgets/controls",
       "_view_module_version": "2.0.0",
       "_view_name": "ProgressView",
       "bar_style": "success",
       "description": "",
       "description_allow_html": false,
       "layout": "IPY_MODEL_a2f47f90460542b3802544804058db80",
       "max": 5.0,
       "min": 0.0,
       "orientation": "horizontal",
       "style": "IPY_MODEL_14113d7b2deb42a78207878a3f97ce04",
       "tabbable": null,
       "tooltip": null,
       "value": 5.0
      }
     }
    },
    "version_major": 2,
    "version_minor": 0
   }
  }
 },
 "nbformat": 4,
 "nbformat_minor": 5
}