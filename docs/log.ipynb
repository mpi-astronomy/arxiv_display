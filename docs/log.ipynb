{
 "cells": [
  {
   "cell_type": "markdown",
   "id": "92bcb855",
   "metadata": {
    "papermill": {
     "duration": 0.005309,
     "end_time": "2023-07-28T04:03:58.176438",
     "exception": false,
     "start_time": "2023-07-28T04:03:58.171129",
     "status": "completed"
    },
    "tags": []
   },
   "source": [
    "# MPIA Arxiv on Deck 2\n",
    "\n",
    "Contains the steps to produce the paper extractions."
   ]
  },
  {
   "cell_type": "code",
   "execution_count": 1,
   "id": "3a0d6e11",
   "metadata": {
    "execution": {
     "iopub.execute_input": "2023-07-28T04:03:58.186051Z",
     "iopub.status.busy": "2023-07-28T04:03:58.185318Z",
     "iopub.status.idle": "2023-07-28T04:03:58.429599Z",
     "shell.execute_reply": "2023-07-28T04:03:58.428855Z"
    },
    "papermill": {
     "duration": 0.251301,
     "end_time": "2023-07-28T04:03:58.431837",
     "exception": false,
     "start_time": "2023-07-28T04:03:58.180536",
     "status": "completed"
    },
    "tags": []
   },
   "outputs": [],
   "source": [
    "# Imports\n",
    "import os\n",
    "from IPython.display import Markdown, display\n",
    "from tqdm.notebook import tqdm\n",
    "import warnings\n",
    "from PIL import Image \n",
    "\n",
    "# requires arxiv_on_deck_2\n",
    "\n",
    "from arxiv_on_deck_2.arxiv2 import (get_new_papers, \n",
    "                                    get_paper_from_identifier,\n",
    "                                    retrieve_document_source, \n",
    "                                    get_markdown_badge)\n",
    "from arxiv_on_deck_2 import (latex,\n",
    "                             latex_bib,\n",
    "                             mpia,\n",
    "                             highlight_authors_in_list)\n",
    "\n",
    "# Sometimes images are really big\n",
    "Image.MAX_IMAGE_PIXELS = 1000000000 "
   ]
  },
  {
   "cell_type": "code",
   "execution_count": 2,
   "id": "22aa9d44",
   "metadata": {
    "execution": {
     "iopub.execute_input": "2023-07-28T04:03:58.441651Z",
     "iopub.status.busy": "2023-07-28T04:03:58.440868Z",
     "iopub.status.idle": "2023-07-28T04:03:58.447017Z",
     "shell.execute_reply": "2023-07-28T04:03:58.446322Z"
    },
    "papermill": {
     "duration": 0.012766,
     "end_time": "2023-07-28T04:03:58.448679",
     "exception": false,
     "start_time": "2023-07-28T04:03:58.435913",
     "status": "completed"
    },
    "tags": []
   },
   "outputs": [],
   "source": [
    "# Some useful definitions.\n",
    "\n",
    "class AffiliationWarning(UserWarning):\n",
    "    pass\n",
    "\n",
    "class AffiliationError(RuntimeError):\n",
    "    pass\n",
    "\n",
    "def validation(source: str):\n",
    "    \"\"\"Raises error paper during parsing of source file\n",
    "    \n",
    "    Allows checks before parsing TeX code.\n",
    "    \n",
    "    Raises AffiliationWarning\n",
    "    \"\"\"\n",
    "    check = mpia.affiliation_verifications(source, verbose=True)\n",
    "    if check is not True:\n",
    "        raise AffiliationError(\"mpia.affiliation_verifications: \" + check)\n",
    "\n",
    "        \n",
    "warnings.simplefilter('always', AffiliationWarning)\n",
    "\n",
    "\n",
    "def get_markdown_qrcode(paper_id: str):\n",
    "    \"\"\" Generate a qrcode to the arxiv page using qrserver.com\n",
    "    \n",
    "    :param paper: Arxiv paper\n",
    "    :returns: markdown text\n",
    "    \"\"\"\n",
    "    url = r\"https://api.qrserver.com/v1/create-qr-code/?size=100x100&data=\"\n",
    "    txt = f\"\"\"<img src={url}\"https://arxiv.org/abs/{paper_id}\">\"\"\"\n",
    "    txt = '<div id=\"qrcode\">' + txt + '</div>'\n",
    "    return txt"
   ]
  },
  {
   "cell_type": "markdown",
   "id": "14bd6310",
   "metadata": {
    "papermill": {
     "duration": 0.003491,
     "end_time": "2023-07-28T04:03:58.455736",
     "exception": false,
     "start_time": "2023-07-28T04:03:58.452245",
     "status": "completed"
    },
    "tags": []
   },
   "source": [
    "## get list of arxiv paper candidates\n",
    "\n",
    "We use the MPIA mitarbeiter list webpage from mpia.de to get author names\n",
    "We then get all new papers from Arxiv and match authors"
   ]
  },
  {
   "cell_type": "code",
   "execution_count": 3,
   "id": "2645e73a",
   "metadata": {
    "execution": {
     "iopub.execute_input": "2023-07-28T04:03:58.464009Z",
     "iopub.status.busy": "2023-07-28T04:03:58.463761Z",
     "iopub.status.idle": "2023-07-28T04:04:18.563028Z",
     "shell.execute_reply": "2023-07-28T04:04:18.562308Z"
    },
    "papermill": {
     "duration": 20.105474,
     "end_time": "2023-07-28T04:04:18.564718",
     "exception": false,
     "start_time": "2023-07-28T04:03:58.459244",
     "status": "completed"
    },
    "tags": []
   },
   "outputs": [
    {
     "name": "stdout",
     "output_type": "stream",
     "text": [
      "F. Walter  ->  F. Walter  |  ['F. Walter']\n",
      "L. Boogaard  ->  L. Boogaard  |  ['L. Boogaard']\n",
      "M. Güdel  ->  M. Güdel  |  ['M. Güdel']\n",
      "M. Bergemann  ->  M. Bergemann  |  ['M. Bergemann']\n",
      "A. Pillepich  ->  A. Pillepich  |  ['A. Pillepich']\n",
      "T. Ueda  ->  T. Ueda  |  ['T. Ueda']\n",
      "Arxiv has 57 new papers today\n",
      "          3 with possible author matches\n"
     ]
    }
   ],
   "source": [
    "# get list from MPIA website\n",
    "# it automatically filters identified non-scientists :func:`mpia.filter_non_scientists`\n",
    "mpia_authors = mpia.get_mpia_mitarbeiter_list()\n",
    "normed_mpia_authors = [k[1] for k in mpia_authors]   # initials + fullname\n",
    "new_papers = get_new_papers()\n",
    "# add manual references\n",
    "add_paper_refs = []\n",
    "new_papers.extend([get_paper_from_identifier(k) for k in add_paper_refs])\n",
    "\n",
    "candidates = []\n",
    "for paperk in new_papers:\n",
    "    # Check author list with their initials\n",
    "    normed_author_list = [mpia.get_initials(k) for k in paperk['authors']]\n",
    "    hl_authors = highlight_authors_in_list(normed_author_list, normed_mpia_authors, verbose=True)\n",
    "    matches = [(hl, orig) for hl, orig in zip(hl_authors, paperk['authors']) if 'mark' in hl]\n",
    "    paperk['authors'] = hl_authors\n",
    "    if matches:\n",
    "        # only select paper if an author matched our list\n",
    "        candidates.append(paperk)\n",
    "print(\"\"\"Arxiv has {0:,d} new papers today\"\"\".format(len(new_papers)))        \n",
    "print(\"\"\"          {0:,d} with possible author matches\"\"\".format(len(candidates)))"
   ]
  },
  {
   "cell_type": "markdown",
   "id": "3543b34a",
   "metadata": {
    "papermill": {
     "duration": 0.005139,
     "end_time": "2023-07-28T04:04:18.573869",
     "exception": false,
     "start_time": "2023-07-28T04:04:18.568730",
     "status": "completed"
    },
    "tags": []
   },
   "source": [
    "# Parse sources and generate relevant outputs\n",
    "\n",
    "From the candidates, we do the following steps:\n",
    "* get their tarball from ArXiv (and extract data)\n",
    "* find the main .tex file: find one with \\documentclass{...} (sometimes it's non trivial)\n",
    "* Check affiliations with :func:`validation`, which uses :func:`mpia.affiliation_verifications`\n",
    "* If passing the affiliations: we parse the .tex source\n",
    "   * inject sub-documents into the main (flatten the main document)\n",
    "   * parse structure, extract information (title, abstract, authors, figures...)\n",
    "   * handles `\\graphicspath` if provided\n",
    "* Generate the .md document."
   ]
  },
  {
   "cell_type": "code",
   "execution_count": 4,
   "id": "9576b79e",
   "metadata": {
    "execution": {
     "iopub.execute_input": "2023-07-28T04:04:18.582680Z",
     "iopub.status.busy": "2023-07-28T04:04:18.582425Z",
     "iopub.status.idle": "2023-07-28T04:20:59.276542Z",
     "shell.execute_reply": "2023-07-28T04:20:59.275776Z"
    },
    "papermill": {
     "duration": 1000.705349,
     "end_time": "2023-07-28T04:20:59.282831",
     "exception": false,
     "start_time": "2023-07-28T04:04:18.577482",
     "status": "completed"
    },
    "scrolled": false,
    "tags": []
   },
   "outputs": [
    {
     "data": {
      "application/vnd.jupyter.widget-view+json": {
       "model_id": "f93dddf3662d4cb6879c24e723b37a6f",
       "version_major": 2,
       "version_minor": 0
      },
      "text/plain": [
       "  0%|          | 0/3 [00:00<?, ?it/s]"
      ]
     },
     "metadata": {},
     "output_type": "display_data"
    },
    {
     "name": "stdout",
     "output_type": "stream",
     "text": [
      "Retrieving document from  https://arxiv.org/e-print/2307.14414\n"
     ]
    },
    {
     "name": "stdout",
     "output_type": "stream",
     "text": [
      "extracting tarball to tmp_2307.14414..."
     ]
    },
    {
     "name": "stdout",
     "output_type": "stream",
     "text": [
      " done.\n"
     ]
    },
    {
     "name": "stdout",
     "output_type": "stream",
     "text": [
      "F. Walter  ->  F. Walter  |  ['F. Walter']\n",
      "L. Boogaard  ->  L. Boogaard  |  ['L. Boogaard']\n",
      "M. Güdel  ->  M. Güdel  |  ['M. Güdel']\n"
     ]
    },
    {
     "name": "stdout",
     "output_type": "stream",
     "text": [
      "Found 102 bibliographic references in tmp_2307.14414/J1120_MRS.bbl.\n",
      "syntax error in line 4: '=' expected\n",
      "Retrieving document from  https://arxiv.org/e-print/2307.14421\n"
     ]
    },
    {
     "name": "stdout",
     "output_type": "stream",
     "text": [
      "extracting tarball to tmp_2307.14421..."
     ]
    },
    {
     "name": "stdout",
     "output_type": "stream",
     "text": [
      " done.\n"
     ]
    },
    {
     "name": "stdout",
     "output_type": "stream",
     "text": [
      "Found 98 bibliographic references in tmp_2307.14421/main.bbl.\n",
      "syntax error in line 382: '=' expected\n",
      "Retrieving document from  https://arxiv.org/e-print/2307.14526\n"
     ]
    },
    {
     "name": "stdout",
     "output_type": "stream",
     "text": [
      "extracting tarball to tmp_2307.14526..."
     ]
    },
    {
     "name": "stdout",
     "output_type": "stream",
     "text": [
      " done.\n"
     ]
    },
    {
     "name": "stderr",
     "output_type": "stream",
     "text": [
      "/opt/hostedtoolcache/Python/3.9.17/x64/lib/python3.9/site-packages/arxiv_on_deck_2/latex.py:473: LatexWarning: Error parsing the document directly. Trying to recover.\n",
      "  warnings.warn(LatexWarning(f\"Error parsing the document directly. Trying to recover.\"))\n"
     ]
    },
    {
     "name": "stdout",
     "output_type": "stream",
     "text": [
      "✔ → 0:header\n",
      "  ↳ 4456:\\section{Introduction} \\label{sec:intro}\n"
     ]
    },
    {
     "name": "stdout",
     "output_type": "stream",
     "text": [
      "✔ → 4456:\\section{Introduction} \\label{sec:intro}\n",
      "  ↳ 11344:\\section{Observations} \\label{sec:obs}\n",
      "✔ → 11344:\\section{Observations} \\label{sec:obs}\n",
      "  ↳ 15362:\\section{Results} \\label{sec:res}\n"
     ]
    },
    {
     "name": "stdout",
     "output_type": "stream",
     "text": [
      "✔ → 15362:\\section{Results} \\label{sec:res}\n",
      "  ↳ 30889:\\section{Triple ALMA bands analysis}\\label{sec:analysis}\n"
     ]
    },
    {
     "name": "stdout",
     "output_type": "stream",
     "text": [
      "✔ → 30889:\\section{Triple ALMA bands analysis}\\label{sec:analysis}\n",
      "  ↳ 71907:\\section{Discussion}\\label{sec:dis}\n"
     ]
    },
    {
     "name": "stdout",
     "output_type": "stream",
     "text": [
      "✔ → 71907:\\section{Discussion}\\label{sec:dis}\n",
      "  ↳ 88501:\\section{summary}\\label{sec:sum}\n"
     ]
    },
    {
     "name": "stdout",
     "output_type": "stream",
     "text": [
      "✔ → 88501:\\section{summary}\\label{sec:sum}\n",
      "  ↳ 105795:end\n"
     ]
    },
    {
     "name": "stdout",
     "output_type": "stream",
     "text": [
      "T. Ueda  ->  T. Ueda  |  ['T. Ueda']\n"
     ]
    },
    {
     "name": "stdout",
     "output_type": "stream",
     "text": [
      "list index out of range\n"
     ]
    }
   ],
   "source": [
    "documents = []\n",
    "failed = []\n",
    "for paper in tqdm(candidates):\n",
    "    paper_id = paper['identifier'].lower().replace('arxiv:', '')\n",
    "    \n",
    "    folder = f'tmp_{paper_id}'\n",
    "\n",
    "    try:\n",
    "        if not os.path.isdir(folder):\n",
    "            folder = retrieve_document_source(f\"{paper_id}\", f'tmp_{paper_id}')\n",
    "        \n",
    "        try:\n",
    "            doc = latex.LatexDocument(folder, validation=validation)    \n",
    "        except AffiliationError as affilerror:\n",
    "            msg = f\"ArXiv:{paper_id:s} is not an MPIA paper... \" + str(affilerror)\n",
    "            failed.append((paper, \"affiliation error: \" + str(affilerror) ))\n",
    "            continue\n",
    "        \n",
    "        # Hack because sometimes author parsing does not work well\n",
    "        if (len(doc.authors) != len(paper['authors'])):\n",
    "            doc._authors = paper['authors']\n",
    "        else:\n",
    "            # highlight authors (FIXME: doc.highlight_authors)\n",
    "            # done on arxiv paper already\n",
    "            doc._authors = highlight_authors_in_list(\n",
    "                [mpia.get_initials(k) for k in doc.authors], \n",
    "                normed_mpia_authors, verbose=True)\n",
    "        if (doc.abstract) in (None, ''):\n",
    "            doc._abstract = paper['abstract']\n",
    "            \n",
    "        doc.comment = (get_markdown_badge(paper_id) + \n",
    "                       \"<mark>Appeared on: \" + paper['date'] + \"</mark> - \")\n",
    "        if paper['comments']:\n",
    "            doc.comment += \" _\" + paper['comments'] + \"_\"\n",
    "        \n",
    "        full_md = doc.generate_markdown_text()\n",
    "        \n",
    "        full_md += get_markdown_qrcode(paper_id)\n",
    "        \n",
    "        # replace citations\n",
    "        try:\n",
    "            bibdata = latex_bib.LatexBib.from_doc(doc)\n",
    "            full_md = latex_bib.replace_citations(full_md, bibdata)\n",
    "        except Exception as e:\n",
    "            print(e)\n",
    "        \n",
    "        documents.append((paper_id, full_md))\n",
    "    except Exception as e:\n",
    "        warnings.warn(latex.LatexWarning(f\"{paper_id:s} did not run properly\\n\" +\n",
    "                                         str(e)\n",
    "                                        ))\n",
    "        failed.append((paper, \"latex error \" + str(e)))"
   ]
  },
  {
   "cell_type": "markdown",
   "id": "2505a25c",
   "metadata": {
    "papermill": {
     "duration": 0.004943,
     "end_time": "2023-07-28T04:20:59.293013",
     "exception": false,
     "start_time": "2023-07-28T04:20:59.288070",
     "status": "completed"
    },
    "tags": []
   },
   "source": [
    "### Export the logs\n",
    "\n",
    "Throughout, we also keep track of the logs per paper. see `logs-{today date}.md` "
   ]
  },
  {
   "cell_type": "code",
   "execution_count": 5,
   "id": "d733828a",
   "metadata": {
    "execution": {
     "iopub.execute_input": "2023-07-28T04:20:59.304742Z",
     "iopub.status.busy": "2023-07-28T04:20:59.304048Z",
     "iopub.status.idle": "2023-07-28T04:20:59.325576Z",
     "shell.execute_reply": "2023-07-28T04:20:59.324989Z"
    },
    "papermill": {
     "duration": 0.029272,
     "end_time": "2023-07-28T04:20:59.327153",
     "exception": false,
     "start_time": "2023-07-28T04:20:59.297881",
     "status": "completed"
    },
    "scrolled": false,
    "tags": []
   },
   "outputs": [
    {
     "data": {
      "text/markdown": [
       "## Successful papers"
      ],
      "text/plain": [
       "<IPython.core.display.Markdown object>"
      ]
     },
     "metadata": {},
     "output_type": "display_data"
    },
    {
     "data": {
      "text/markdown": [
       "\n",
       "|||\n",
       "|---:|:---|\n",
       "| [![arXiv](https://img.shields.io/badge/arXiv-arXiv:2307.14414-b31b1b.svg)](https://arxiv.org/abs/arXiv:2307.14414) | **First rest-frame infrared spectrum of a z>7 quasar: JWST/MRS  observations of J1120+0641**  |\n",
       "|| S. E. I. Bosman, et al. -- incl., <mark>F. Walter</mark>, <mark>L. Boogaard</mark>, <mark>M. Güdel</mark> |\n",
       "|*Appeared on*| *2023-07-28*|\n",
       "|*Comments*| *19 pages, 10 figures; submitted*|\n",
       "|**Abstract**| We present a JWST/MRS spectrum of the quasar J1120+0641 at z=7.0848, the first spectroscopic observation of a reionisation-era quasar in the rest-frame infrared ($0.6<\\lambda<3.4\\mu$m). In the context of the mysterious fast assembly of the first supermassive black holes at z>7, our observations enable for the first time the detection of hot torus dust, the H$\\alpha$ emission line, and the Paschen-series broad emission lines in a quasar at z>7. Hot torus dust is clearly detected as an upturn in the continuum emission at $\\lambda_{\\text{rest}}\\simeq1.3\\mu$m, leading to a black-body temperature of $T=1413.5^{+5.7}_{-7.4}$K. Compared to similarly-luminous quasars at 0<z<6, the hot dust in J1120+0641 is somewhat elevated in temperature (top 1%). The temperature is more typical among 6<z<6.5 quasars (top 25%), leading us to postulate a weak evolution in the hot dust temperature at z>6 ($2\\sigma$ significance). We measure the black hole mass of J1120+0641 based on the H$\\alpha$ Balmer line, $M_{\\text{BH}}=1.52\\pm0.17\\cdot 10^9 M_\\odot$, which is in good agreement with the previous rest-UV MgII black hole mass measurement. The black hole mass based on the Paschen-series lines is also consistent, indicating no significant extinction in the rest-frame UV measurement. The broad H$\\alpha$, Pa-$\\alpha$ and Pa-$\\beta$ emission lines are consistent with an origin in a common broad-line region (BLR) with density log$N_H/\\text{cm}^{-3}\\geq 12$, ionisation parameter $-7<$log$U<-4$, and extinction E(B-V)$\\lesssim 0.1$mag. These BLR parameters are consistent with similarly-bright quasars at 0<z<4. Overall, we find that both J1120+0641's hot dust torus and hydrogen BLR properties show no significant peculiarity when compared to luminous quasars down to z=0. The quasar accretion structures must have therefore assembled very quickly, as they appear fully \"mature\" less than 760 million years after the Big Bang. |"
      ],
      "text/plain": [
       "[arXiv:2307.14414] First rest-frame infrared spectrum of a z>7 quasar: JWST/MRS  observations of J1120+0641\n",
       "\tS. E. I. Bosman, et al. -- incl., <mark>F. Walter</mark>, <mark>L. Boogaard</mark>, <mark>M. Güdel</mark>"
      ]
     },
     "metadata": {},
     "output_type": "display_data"
    },
    {
     "data": {
      "text/markdown": [
       "\n",
       "|||\n",
       "|---:|:---|\n",
       "| [![arXiv](https://img.shields.io/badge/arXiv-arXiv:2307.14421-b31b1b.svg)](https://arxiv.org/abs/arXiv:2307.14421) | **On the likelihoods of finding very metal-poor (and old) stars in the  Milky Way's disc, bulge, and halo**  |\n",
       "|| D. Sotillo-Ramos, <mark>M. Bergemann</mark>, J. K. Friske, <mark>A. Pillepich</mark> |\n",
       "|*Appeared on*| *2023-07-28*|\n",
       "|*Comments*| *Accepted by MNRAS. 4 figures*|\n",
       "|**Abstract**| Recent observational studies have uncovered a small number of very metal-poor stars with cold kinematics in the Galactic disc and bulge. However, their origins remain enigmatic. We select a total of 138 Milky Way (MW) analogs from the TNG50 cosmological simulation based on their $z=0$ properties: disky morphology, stellar mass, and local environment. In order to make more predictive statements for the MW, we further limit the spatial volume coverage of stellar populations in galaxies to that targeted by the upcoming 4MOST high-resolution survey of the Galactic disc and bulge. We find that across all galaxies, $\\sim$20 per cent of very metal-poor (${\\rm [Fe/H]} < -2$) stars belong to the disk, with some analogs reaching 30 per cent. About 50$\\pm$10 per cent of the VMP disc stars are, on average, older than 12.5 Gyr and $\\sim$70$\\pm$10 per cent come from accreted satellites. A large fraction of the VMP stars belong to the halo ($\\sim$70) and have a median age of 12 Gyr. Our results with the TNG50 cosmological simulation confirm earlier findings with simulations of fewer individual galaxies, and suggest that the stellar disc of the Milky Way is very likely to host significant amounts of very- and extremely-metal-poor stars that, although mostly of ex situ origin, can also form in situ, reinforcing the idea of the existence of a primordial Galactic disc. |"
      ],
      "text/plain": [
       "[arXiv:2307.14421] On the likelihoods of finding very metal-poor (and old) stars in the  Milky Way's disc, bulge, and halo\n",
       "\tD. Sotillo-Ramos, <mark>M. Bergemann</mark>, J. K. Friske, <mark>A. Pillepich</mark>"
      ]
     },
     "metadata": {},
     "output_type": "display_data"
    },
    {
     "data": {
      "text/markdown": [
       "\n",
       "|||\n",
       "|---:|:---|\n",
       "| [![arXiv](https://img.shields.io/badge/arXiv-arXiv:2307.14526-b31b1b.svg)](https://arxiv.org/abs/arXiv:2307.14526) | **Dust enrichment and grain growth in a smooth disk around the DG Tau  protostar revealed by ALMA triple bands frequency observations**  |\n",
       "|| S. Ohashi, et al. -- incl., <mark>T. Ueda</mark> |\n",
       "|*Appeared on*| *2023-07-28*|\n",
       "|*Comments*| *29 pages, 21 figures, 5 tables. Accepted for publication in ApJ*|\n",
       "|**Abstract**| Characterizing the physical properties of dust grains in a protoplanetary disk is critical to comprehending the planet formation process. Our study presents ALMA high-resolution observations of the young protoplanetary disk around DG Tau at a 1.3 mm dust continuum. The observations, with a spatial resolution of $\\approx 0.04''$, or $\\approx5$ au, revealed a geometrically thin and smooth disk without substantial substructures, suggesting that the disk retains the initial conditions of the planet formation. To further analyze the distributions of dust surface density, temperature, and grain size, we conducted a multi-band analysis with several dust models, incorporating ALMA archival data of the 0.87 mm and 3.1 mm dust polarization. The results showed that the Toomre $Q$ parameter is $\\lesssim2$ at a 20 au radius, assuming a dust-to-gas mass ratio of 0.01. This implies that a higher dust-to-gas mass ratio is necessary to stabilize the disk. The grain sizes depend on the dust models, and for the DSHARP compact dust, they were found to be smaller than $\\sim400$ $\\mu$m in the inner region ($r\\lesssim20$ au), while exceeding larger than 3 mm in the outer part. Radiative transfer calculations show that the dust scale height is lower than at least one-third of the gas scale height. These distributions of dust enrichment, grain sizes, and weak turbulence strength may have significant implications for the formation of planetesimals through mechanisms such as streaming instability. We also discuss the CO snowline effect and collisional fragmentation in dust coagulation for the origin of the dust size distribution. |"
      ],
      "text/plain": [
       "[arXiv:2307.14526] Dust enrichment and grain growth in a smooth disk around the DG Tau  protostar revealed by ALMA triple bands frequency observations\n",
       "\tS. Ohashi, et al. -- incl., <mark>T. Ueda</mark>"
      ]
     },
     "metadata": {},
     "output_type": "display_data"
    },
    {
     "data": {
      "text/markdown": [
       "## Failed papers"
      ],
      "text/plain": [
       "<IPython.core.display.Markdown object>"
      ]
     },
     "metadata": {},
     "output_type": "display_data"
    }
   ],
   "source": [
    "import datetime\n",
    "today = str(datetime.date.today())\n",
    "logfile = f\"_build/html/logs/log-{today}.md\"\n",
    "\n",
    "\n",
    "with open(logfile, 'w') as logs:\n",
    "    # Success\n",
    "    logs.write(f'# Arxiv on Deck 2: Logs - {today}\\n\\n')\n",
    "    logs.write(\"\"\"* Arxiv had {0:,d} new papers\\n\"\"\".format(len(new_papers)))\n",
    "    logs.write(\"\"\"    * {0:,d} with possible author matches\\n\\n\"\"\".format(len(candidates)))\n",
    "    logs.write(\"## Sucessful papers\\n\\n\")\n",
    "    display(Markdown(\"## Successful papers\"))\n",
    "    success = [k[0] for k in documents]\n",
    "    for candid in candidates:\n",
    "        if candid['identifier'].split(':')[-1] in success:\n",
    "            display(candid)\n",
    "            logs.write(candid.generate_markdown_text() + '\\n\\n')\n",
    "\n",
    "    ## failed\n",
    "    logs.write(\"## Failed papers\\n\\n\")\n",
    "    display(Markdown(\"## Failed papers\"))\n",
    "    failed = sorted(failed, key=lambda x: x[1])\n",
    "    current_reason = \"\"\n",
    "    for paper, reason in failed:\n",
    "        if 'affiliation' in reason:\n",
    "            color = 'green'\n",
    "        else:\n",
    "            color = 'red'\n",
    "        data = Markdown(\n",
    "                paper.generate_markdown_text() + \n",
    "                f'\\n|<p style=\"color:{color:s}\"> **ERROR** </p>| <p style=\"color:{color:s}\">{reason:s}</p> |'\n",
    "               )\n",
    "        if reason != current_reason:\n",
    "            logs.write(f'### {reason:s} \\n\\n')\n",
    "            current_reason = reason\n",
    "        logs.write(data.data + '\\n\\n')\n",
    "        \n",
    "        # only display here the important errors (all in logs)\n",
    "        # if color in ('red',):\n",
    "        display(data)"
   ]
  },
  {
   "cell_type": "markdown",
   "id": "472d20ee",
   "metadata": {
    "papermill": {
     "duration": 0.005461,
     "end_time": "2023-07-28T04:20:59.338105",
     "exception": false,
     "start_time": "2023-07-28T04:20:59.332644",
     "status": "completed"
    },
    "tags": []
   },
   "source": [
    "## Export documents\n",
    "\n",
    "We now write the .md files and export relevant images"
   ]
  },
  {
   "cell_type": "code",
   "execution_count": 6,
   "id": "d426aed9",
   "metadata": {
    "execution": {
     "iopub.execute_input": "2023-07-28T04:20:59.351577Z",
     "iopub.status.busy": "2023-07-28T04:20:59.351040Z",
     "iopub.status.idle": "2023-07-28T04:20:59.359359Z",
     "shell.execute_reply": "2023-07-28T04:20:59.358684Z"
    },
    "papermill": {
     "duration": 0.016372,
     "end_time": "2023-07-28T04:20:59.360891",
     "exception": false,
     "start_time": "2023-07-28T04:20:59.344519",
     "status": "completed"
    },
    "tags": []
   },
   "outputs": [],
   "source": [
    "def export_markdown_summary(md: str, md_fname:str, directory: str):\n",
    "    \"\"\"Export MD document and associated relevant images\"\"\"\n",
    "    import os\n",
    "    import shutil\n",
    "    import re\n",
    "\n",
    "    if (os.path.exists(directory) and not os.path.isdir(directory)):\n",
    "        raise RuntimeError(f\"a non-directory file exists with name {directory:s}\")\n",
    "\n",
    "    if (not os.path.exists(directory)):\n",
    "        print(f\"creating directory {directory:s}\")\n",
    "        os.mkdir(directory)\n",
    "\n",
    "    fig_fnames = (re.compile(r'\\[Fig.*\\]\\((.*)\\)').findall(md) + \n",
    "                  re.compile(r'\\<img src=\"([^>\\s]*)\"[^>]*/>').findall(md))\n",
    "    for fname in fig_fnames:\n",
    "        if 'http' in fname:\n",
    "            # No need to copy online figures\n",
    "            continue\n",
    "        destdir = os.path.join(directory, os.path.dirname(fname))\n",
    "        destfname = os.path.join(destdir, os.path.basename(fname))\n",
    "        try:\n",
    "            os.makedirs(destdir)\n",
    "        except FileExistsError:\n",
    "            pass\n",
    "        shutil.copy(fname, destfname)\n",
    "    with open(os.path.join(directory, md_fname), 'w') as fout:\n",
    "        fout.write(md)\n",
    "    print(\"exported in \", os.path.join(directory, md_fname))\n",
    "    [print(\"    + \" + os.path.join(directory,fk)) for fk in fig_fnames]"
   ]
  },
  {
   "cell_type": "code",
   "execution_count": 7,
   "id": "014d04a4",
   "metadata": {
    "execution": {
     "iopub.execute_input": "2023-07-28T04:20:59.415678Z",
     "iopub.status.busy": "2023-07-28T04:20:59.415361Z",
     "iopub.status.idle": "2023-07-28T04:20:59.465280Z",
     "shell.execute_reply": "2023-07-28T04:20:59.464691Z"
    },
    "papermill": {
     "duration": 0.100633,
     "end_time": "2023-07-28T04:20:59.467013",
     "exception": false,
     "start_time": "2023-07-28T04:20:59.366380",
     "status": "completed"
    },
    "tags": []
   },
   "outputs": [
    {
     "name": "stdout",
     "output_type": "stream",
     "text": [
      "exported in  _build/html/2307.14414.md\n",
      "    + _build/html/tmp_2307.14414/./figures/halpha.png\n",
      "    + _build/html/tmp_2307.14414/./figures/full_fit_final.png\n",
      "    + _build/html/tmp_2307.14414/./figures/pgamma.png\n",
      "exported in  _build/html/2307.14421.md\n",
      "    + _build/html/tmp_2307.14421/./Figures/histograms_allComponents_massFrac_age_exsitu_MgFe_allGalaxies_massWeighted.png\n",
      "    + _build/html/tmp_2307.14421/./Figures/lines_multipanels_componentMassFractionAndMassSeparate4Components_vs_age_allGalaxies_geomCut5_5kpc.png\n",
      "    + _build/html/tmp_2307.14421/./Figures/lines_multipanels_componentMassFractionAndMassSeparate4Components_vs_FeH_allGalaxies_geomCut5_5kpc.png\n",
      "exported in  _build/html/2307.14526.md\n",
      "    + _build/html/tmp_2307.14526/./fig8.png\n",
      "    + _build/html/tmp_2307.14526/./fig18.png\n",
      "    + _build/html/tmp_2307.14526/./fig9.png\n"
     ]
    }
   ],
   "source": [
    "for paper_id, md in documents:\n",
    "    export_markdown_summary(md, f\"{paper_id:s}.md\", '_build/html/')"
   ]
  },
  {
   "cell_type": "markdown",
   "id": "f087a0a7",
   "metadata": {
    "papermill": {
     "duration": 0.005881,
     "end_time": "2023-07-28T04:20:59.478936",
     "exception": false,
     "start_time": "2023-07-28T04:20:59.473055",
     "status": "completed"
    },
    "tags": []
   },
   "source": [
    "## Display the papers\n",
    "\n",
    "Not necessary but allows for a quick check."
   ]
  },
  {
   "cell_type": "code",
   "execution_count": 8,
   "id": "fd25f625",
   "metadata": {
    "execution": {
     "iopub.execute_input": "2023-07-28T04:20:59.491776Z",
     "iopub.status.busy": "2023-07-28T04:20:59.491412Z",
     "iopub.status.idle": "2023-07-28T04:20:59.502890Z",
     "shell.execute_reply": "2023-07-28T04:20:59.502301Z"
    },
    "papermill": {
     "duration": 0.019917,
     "end_time": "2023-07-28T04:20:59.504620",
     "exception": false,
     "start_time": "2023-07-28T04:20:59.484703",
     "status": "completed"
    },
    "scrolled": false,
    "tags": []
   },
   "outputs": [
    {
     "data": {
      "text/markdown": [
       "<div class=\"macros\" style=\"visibility:hidden;\">\n",
       "$\\newcommand{\\ensuremath}{}$\n",
       "$\\newcommand{\\xspace}{}$\n",
       "$\\newcommand{\\object}[1]{\\texttt{#1}}$\n",
       "$\\newcommand{\\farcs}{{.}''}$\n",
       "$\\newcommand{\\farcm}{{.}'}$\n",
       "$\\newcommand{\\arcsec}{''}$\n",
       "$\\newcommand{\\arcmin}{'}$\n",
       "$\\newcommand{\\ion}[2]{#1#2}$\n",
       "$\\newcommand{\\textsc}[1]{\\textrm{#1}}$\n",
       "$\\newcommand{\\hl}[1]{\\textrm{#1}}$\n",
       "$\\newcommand{\\footnote}[1]{}$</div>\n",
       "\n",
       "\n",
       "\n",
       "<div id=\"title\">\n",
       "\n",
       "# First rest-frame infrared spectrum of a $z>7$ quasar: JWST/MRS observations of J1120+0641\n",
       "\n",
       "</div>\n",
       "<div id=\"comments\">\n",
       "\n",
       "[![arXiv](https://img.shields.io/badge/arXiv-2307.14414-b31b1b.svg)](https://arxiv.org/abs/2307.14414)<mark>Appeared on: 2023-07-28</mark> -  _19 pages, 10 figures; submitted_\n",
       "\n",
       "</div>\n",
       "<div id=\"authors\">\n",
       "\n",
       "S. E.~I.~Bosman, et al. -- incl., <mark>F. Walter</mark>, <mark>L. Boogaard</mark>, <mark>M. Güdel</mark>\n",
       "\n",
       "</div>\n",
       "<div id=\"abstract\">\n",
       "\n",
       "**Abstract:** We present a JWST/MRS spectrum of the quasar J1120+0641 at $z=7.0848$ , the first spectroscopic observation of a reionisation-era quasar in the rest-frame infrared wavelengths ( $0.6 < \\lambda_\\text{rest} < 3.4 \\mu$ m).In the context of the mysterious fast assembly of the first supermassive black holes at $z>7$ , our observations enable for the first time the detection of hot torus dust, the H $\\alpha$ emission line, and the Paschen-series broad emission lines in a quasar at $z>7$ , which we compare to samples at $z<6$ for signs of evolution.Hot torus dust is clearly detected as an upturn in the continuum emission at $\\lambda_{\\text{rest}}\\simeq1.3\\mu$ m, leading to a black-body temperature of $T_\\text{dust} = 1413.5_{-7.4}^{+5.7}$ K. Compared to similarly-luminous quasars at $0<z<6$ , the hot dust in J1120+0641 is somewhat elevated in temperature (top $1\\%$ ). The temperature is more typical among $6<z<6.5$ quasars (top $25\\%$ ), leading us to postulate a weak evolution in the hot dust temperature at $z>6$ ( $2\\sigma$ significance).We measure the black hole mass of J1120+0641 based on the H $\\alpha$ Balmer line, $M_{\\text{BH}} = 1.52 \\pm 0.17 \\cdot 10^9 M_\\odot$ , which is in good agreement with the previous rest-UV Mg ${II}$ black hole mass measurement.The black hole mass based on the Paschen-series lines is also consistent within uncertainties, indicating that no significant extinction is biasing the $M_\\text{BH}$ measurement obtained from the rest-frame UV.By comparing the ratios of the H $\\alpha$ , Pa- $\\alpha$ and Pa- $\\beta$ emission lines to predictions from a simple one-phase Cloudy model, we find that the hydrogen broad lines are consistent with originating in a common broad-line region (BLR) with density $\\text{log} N_H/\\text{cm}^{-3} \\geq 12$ , ionisation parameter $-7<\\text{log}  U<-4$ , and extinction E(B--V) $\\lesssim0.1$ mag. These BLR parameters are fully consistent with similarly-bright quasars at $0<z<4$ .Overall, we find that both J1120+0641's hot dust torus and hydrogen BLR properties show no significant peculiarity when compared to luminous quasars down to $z=0$ . The quasar accretion structures must have therefore assembled very quickly, as they appear fully `mature' less than $760$ million years after the Big Bang.\n",
       "\n",
       "</div>\n",
       "\n",
       "<div id=\"div_fig1\">\n",
       "\n",
       "<img src=\"tmp_2307.14414/./figures/halpha.png\" alt=\"Fig6\" width=\"100%\"/>\n",
       "\n",
       "**Figure 6. -** Spectrum of the H$\\alpha$ broad line (flux in black and uncertainty in grey) with the optimal line model fit (orange), split into the continuum constituting of a power-law and a black-body (green) and the broad emission lines (red). (*fig:ha*)\n",
       "\n",
       "</div>\n",
       "<div id=\"div_fig2\">\n",
       "\n",
       "<img src=\"tmp_2307.14414/./figures/full_fit_final.png\" alt=\"Fig8\" width=\"100%\"/>\n",
       "\n",
       "**Figure 8. -** Full fit to the MIRI-MRS spectrum of J1120+0641 (top, orange) and its residuals (bottom) in units of standard deviations. The coloured lines show the emission coming from the accretion disk (power law, blue), the hot torus dust (black-body radiation, green) and the broad quasar emission lines (red). The residuals show no signs of deviation from the continuum model, nor additional broad emission lines. The gray line is an in Fig. \\ref{fig:spec} and the red dashed line indicates the location of zero residuals. See Fig. \\ref{fig:spec} for line IDs. (*fig:fit*)\n",
       "\n",
       "</div>\n",
       "<div id=\"div_fig3\">\n",
       "\n",
       "<img src=\"tmp_2307.14414/./figures/pgamma.png\" alt=\"Fig3\" width=\"100%\"/>\n",
       "\n",
       "**Figure 3. -** Spectrum of the Pa-$\\delta$, He {I} and Pa-$\\gamma$ broad lines (in order of increasing wavelength) and the optimal model fit. The legend is the same as in Figure \\ref{fig:ha}. (*fig:pg*)\n",
       "\n",
       "</div><div id=\"qrcode\"><img src=https://api.qrserver.com/v1/create-qr-code/?size=100x100&data=\"https://arxiv.org/abs/2307.14414\"></div>"
      ],
      "text/plain": [
       "<IPython.core.display.Markdown object>"
      ]
     },
     "metadata": {},
     "output_type": "display_data"
    },
    {
     "data": {
      "text/markdown": [
       "<div class=\"macros\" style=\"visibility:hidden;\">\n",
       "$\\newcommand{\\ensuremath}{}$\n",
       "$\\newcommand{\\xspace}{}$\n",
       "$\\newcommand{\\object}[1]{\\texttt{#1}}$\n",
       "$\\newcommand{\\farcs}{{.}''}$\n",
       "$\\newcommand{\\farcm}{{.}'}$\n",
       "$\\newcommand{\\arcsec}{''}$\n",
       "$\\newcommand{\\arcmin}{'}$\n",
       "$\\newcommand{\\ion}[2]{#1#2}$\n",
       "$\\newcommand{\\textsc}[1]{\\textrm{#1}}$\n",
       "$\\newcommand{\\hl}[1]{\\textrm{#1}}$\n",
       "$\\newcommand{\\footnote}[1]{}$\n",
       "$\\newcommand{\\DSR}[1]{\\textcolor{red}{#1}}$\n",
       "$\\newcommand{\\DSRc}[1]{\\textit{\\textcolor{red}{#1}}}$\n",
       "$\\newcommand{\\DTA}[1]{\\textcolor{cyan}{#1}}$\n",
       "$\\newcommand{\\ap}[1]{\\textcolor{magenta}{#1}}$\n",
       "$\\newcommand{\\apn}[1]{\\textcolor{red}{#1}}$\n",
       "$\\newcommand{\\mb}[1]{\\textcolor{green}{#1}}$\n",
       "$\\newcommand{\\MS}{\\rm{M}_{\\odot}}$\n",
       "$\\newcommand{\\MH}{\\rm{M}_{\\rm 200c}}$\n",
       "$\\newcommand{\\thebibliography}{\\DeclareRobustCommand{\\VAN}[3]{##3}\\VANthebibliography}$\n",
       "$\\newcommand{\\}{blankpage}$</div>\n",
       "\n",
       "\n",
       "\n",
       "<div id=\"title\">\n",
       "\n",
       "# On the likelihoods of finding very metal-poor (and old) stars in the Milky Way's disc, bulge, and halo\n",
       "\n",
       "</div>\n",
       "<div id=\"comments\">\n",
       "\n",
       "[![arXiv](https://img.shields.io/badge/arXiv-2307.14421-b31b1b.svg)](https://arxiv.org/abs/2307.14421)<mark>Appeared on: 2023-07-28</mark> -  _Accepted by MNRAS. 4 figures_\n",
       "\n",
       "</div>\n",
       "<div id=\"authors\">\n",
       "\n",
       "D. Sotillo-Ramos, <mark>M. Bergemann</mark>, J. K. Friske, <mark>A. Pillepich</mark>\n",
       "\n",
       "</div>\n",
       "<div id=\"abstract\">\n",
       "\n",
       "**Abstract:** Recent observational studies have uncovered a small number of very metal-poor stars with cold kinematics in the Galactic disc and bulge. However, their origins remain enigmatic. We select a total of 138 Milky Way (MW) analogs from the  TNG50 cosmological simulation based on their $z=0$ properties: disky morphology, stellar mass, and local environment. In order to make more predictive statements for the MW, we further limit the spatial volume coverage of stellar populations in galaxies to that targeted by the upcoming 4MOST high-resolution survey of the Galactic disc and bulge. We find that across all galaxies, $\\sim$ 20 per cent of very metal-poor ( ${\\rm[Fe/H]} < -2$ ) stars belong to the disk, with some analogs reaching 30 per cent. About 50 $\\pm$ 10 per cent of the VMP disc stars are, on average, older than 12.5 Gyr and $\\sim$ 70 $\\pm$ 10 per cent come from accreted satellites. A large fraction of the VMP stars belong to the halo ( $\\sim$ 70) and have a median age of 12 Gyr. Our results with the TNG50 cosmological simulation confirm earlier findings with simulations of fewer individual galaxies, and suggest that the stellar disc of the Milky Way is very likely to host significant amounts of very- and extremely-metal-poor stars that, although mostly of ex situ origin, can also form in situ, reinforcing the idea of the existence of a primordial Galactic disc.\n",
       "\n",
       "</div>\n",
       "\n",
       "<div id=\"div_fig1\">\n",
       "\n",
       "<img src=\"tmp_2307.14421/./Figures/histograms_allComponents_massFrac_age_exsitu_MgFe_allGalaxies_massWeighted.png\" alt=\"Fig4\" width=\"100%\"/>\n",
       "\n",
       "**Figure 4. -**  Mass fraction per component, stellar age, [Mg/Fe] and ex situ fraction distributions, for stellar samples with different values of [Fe/H]. We show the distributions of the median values across all TNG50 138 MW-like galaxies weighted by stellar mass and do not apply a heliocentric cut. (*fig:histograms*)\n",
       "\n",
       "</div>\n",
       "<div id=\"div_fig2\">\n",
       "\n",
       "<img src=\"tmp_2307.14421/./Figures/lines_multipanels_componentMassFractionAndMassSeparate4Components_vs_age_allGalaxies_geomCut5_5kpc.png\" alt=\"Fig3\" width=\"100%\"/>\n",
       "\n",
       "**Figure 3. -** Same as Fig. 2, but for the distribution of stellar ages in the morphological components. _Top_: Stellar mass fraction per component to total stellar mass. _Middle_: Stellar mass per component. _Bottom_: Mass of MP stars per component. The vertical dashed lines represent the median age of the stars in the component (within the volumetric cut), across all galaxies. (*fig:3*)\n",
       "\n",
       "</div>\n",
       "<div id=\"div_fig3\">\n",
       "\n",
       "<img src=\"tmp_2307.14421/./Figures/lines_multipanels_componentMassFractionAndMassSeparate4Components_vs_FeH_allGalaxies_geomCut5_5kpc.png\" alt=\"Fig2\" width=\"100%\"/>\n",
       "\n",
       "**Figure 2. -** Metallicity distributions of stars in TNG50 MW-like galaxies, grouped by their respective morphological component: cold disc, warm disc, bulge and stellar halo, from left to right. The top panels quantify the stellar mass fractions in each component to the total stellar mass; the bottom ones are the metallicity distributions in each morphological component, in stellar mass. The solid lines represent the medians and the shaded areas and error-bars represent inter-per centile ranges across the galaxy sample: 16 to 84 and 2 to 98, respectively. The vertical red shaded bands highlight metallicities [Fe/H]$\\leq -2$, i.e., VMP stars. We remind the reader that the distributions are shown for the characteristic observable volume fraction of the Galaxy, as it will be `seen' by the 4MIDABLE-HR survey on 4MOST (see Section \\ref{sec:morpho}). Specifically, we apply a volume cut of $5.5$ kpc in heliocentric distance, where the fiducial 'Sun' is placed at $8$ kpc in the simulated galaxy.  (*fig:2*)\n",
       "\n",
       "</div><div id=\"qrcode\"><img src=https://api.qrserver.com/v1/create-qr-code/?size=100x100&data=\"https://arxiv.org/abs/2307.14421\"></div>"
      ],
      "text/plain": [
       "<IPython.core.display.Markdown object>"
      ]
     },
     "metadata": {},
     "output_type": "display_data"
    },
    {
     "data": {
      "text/markdown": [
       "<div class=\"macros\" style=\"visibility:hidden;\">\n",
       "$\\newcommand{\\ensuremath}{}$\n",
       "$\\newcommand{\\xspace}{}$\n",
       "$\\newcommand{\\object}[1]{\\texttt{#1}}$\n",
       "$\\newcommand{\\farcs}{{.}''}$\n",
       "$\\newcommand{\\farcm}{{.}'}$\n",
       "$\\newcommand{\\arcsec}{''}$\n",
       "$\\newcommand{\\arcmin}{'}$\n",
       "$\\newcommand{\\ion}[2]{#1#2}$\n",
       "$\\newcommand{\\textsc}[1]{\\textrm{#1}}$\n",
       "$\\newcommand{\\hl}[1]{\\textrm{#1}}$\n",
       "$\\newcommand{\\footnote}[1]{}$\n",
       "$\\newcommand{\\vdag}{(v)^\\dagger}$\n",
       "$\\newcommand$\n",
       "$\\newcommand$\n",
       "$\\newcommand{\\beq}{\\begin{equation}}$\n",
       "$\\newcommand{\\eeq}{\\end{equation}}$\n",
       "$\\usepackage{amsmath}$\n",
       "$\\usepackage{longtable}$\n",
       "$\\newcommand{\\pd}{\\partial}$\n",
       "$\\newcommand{\\AU}{{\\rm AU}}$\n",
       "$\\newcommand{\\kB}{k_{\\rm B}}$\n",
       "$\\shorttitle{Discovery of dust enrichment and grain growth in a smooth DG Tau disk }$\n",
       "$\\shortauthors{Ohashi et al.}$\n",
       "$\\graphicspath{{./}{figures/}}$\n",
       "$\\begin{document}$\n",
       "$\\title{Dust enrichment and grain growth in a smooth disk around the DG Tau protostar revealed by ALMA triple bands frequency observations}$\n",
       "$\\author[0000-0002-9661-7958]{Satoshi Ohashi}$\n",
       "$\\altaffiliation{NAOJ Fellow}$\n",
       "$\\affil{National Astronomical Observatory of Japan, 2-21-1 Osawa, Mitaka, Tokyo 181-8588, Japan}$\n",
       "$\\affil{RIKEN Cluster for Pioneering Research, 2-1 Hirosawa, Wako-shi, Saitama 351-0198, Japan}$\n",
       "$\\email{satoshi.ohashi@nao.ac.jp}$\n",
       "$\\author[0000-0002-3001-0897]{Munetake Momose}$\n",
       "$\\affiliation{College of Science, Ibaraki University, 2-1-1 Bunkyo, Mito, Ibaraki 310-8512, Japan}$\n",
       "$\\author[0000-0003-4562-4119]{Akimasa Kataoka}$\n",
       "$\\affiliation{National Astronomical Observatory of Japan, 2-21-1 Osawa, Mitaka, Tokyo 181-8588, Japan}$\n",
       "$\\author[0000-0002-9221-2910]{Aya E Higuchi}$\n",
       "$\\affil{Division of Science, School of Science and Engineering, Tokyo Denki University, Ishizaka, Hatoyama-machi, Hiki-gun, Saitama 350-0394, Japan}$\n",
       "$\\author[0000-0002-6034-2892]{Takashi Tsukagoshi}$\n",
       "$\\affiliation{Faculty of Engineering, Ashikaga University, Ohmae-cho 268-1, Ashikaga, Tochigi 326-8558, Japan}$\n",
       "$\\author[0000-0003-4902-222X]{Takahiro Ueda}$\n",
       "$\\affiliation{Max-Planck Institute for Astronomy, Königstuhl 17, D-69117 Heidelberg, Germany}$\n",
       "$\\author[0000-0003-1514-3074]{Claudio Codella}$\n",
       "$\\affil{INAF, Osservatorio Astrofisico di Arcetri, Largo E. Fermi 5, I-50125, Firenze, Italy}$\n",
       "$\\affil{Univ. Grenoble Alpes, CNRS, IPAG, 38000 Grenoble, France}$\n",
       "$\\author{Linda Podio}$\n",
       "$\\affiliation{INAF, Osservatorio Astrofisico di Arcetri, Largo E. Fermi 5, I-50125, Firenze, Italy}$\n",
       "$\\author[0000-0002-7538-581X]{Tomoyuki Hanawa}$\n",
       "$\\affil{Center for Frontier Science, Chiba University, 1-33 Yayoi-cho, Inage-ku, Chiba, Chiba 263-8522, Japan}$\n",
       "$\\author[0000-0002-3297-4497]{Nami Sakai}$\n",
       "$\\affil{RIKEN Cluster for Pioneering Research, 2-1 Hirosawa, Wako-shi, Saitama 351-0198, Japan}$\n",
       "$\\author[0000-0001-8808-2132]{Hiroshi Kobayashi}$\n",
       "$\\affil{Department of Physics, Graduate School of Science, Nagoya University, Furo-cho, Chikusa-ku, Nagoya 464-8602, Japan}$\n",
       "$\\author[0000-0002-1886-0880]{Satoshi Okuzumi}$\n",
       "$\\affil{Department of Earth and Planetary Sciences, Tokyo Institute of Technology, Meguro-ku, Tokyo 152-8551, Japan}$\n",
       "$\\author[0000-0001-9659-658X]{Hidekazu Tanaka}$\n",
       "$\\affil{Astronomical Institute, Tohoku University, 6-3 Aramaki, Aoba-ku, Sendai 980-8578, Japan}$\n",
       "$\\begin{abstract}$\n",
       "$Characterizing the physical properties of dust grains in a protoplanetary disk is critical to comprehending the planet formation process. Our study presents ALMA high-resolution observations of the young protoplanetary disk around DG Tau at a 1.3 mm dust continuum. The observations, with a spatial resolution of \\approx0\\farcs04, or \\approx5 au, revealed a geometrically thin and smooth disk without substantial substructures, suggesting that the disk retains the initial conditions of the planet formation. To further analyze the distributions of dust surface density, temperature, and grain size, we conducted a multi-band analysis with several dust models, incorporating ALMA archival data of the 0.87 mm and 3.1 mm dust polarization. The results showed that the Toomre {\\it Q} parameter is \\lesssim2 at a 20 au radius, assuming a dust-to-gas mass ratio of 0.01. This implies that a higher dust-to-gas mass ratio is necessary to stabilize the disk. The grain sizes depend on the dust models, and for the DSHARP compact dust, they were found to be smaller than \\sim400 \\mum in the inner region (r\\lesssim20 au), while exceeding larger than 3 mm in the outer part. Radiative transfer calculations show that the dust scale height is lower than at least one-third of the gas scale height. These distributions of dust enrichment, grain sizes, and weak turbulence strength may have significant implications for the formation of planetesimals through mechanisms such as streaming instability.  We also discuss the CO snowline effect and collisional fragmentation in dust coagulation for the origin of the dust size distribution.$\n",
       "$\\end{abstract}$\n",
       "$\\n\\end{document}\\end{equation}}$\n",
       "$\\newcommand{\\eeq}{\\end{equation}}$\n",
       "$\\newcommand{\\pd}{\\partial}$\n",
       "$\\newcommand{\\AU}{{\\rm AU}}$\n",
       "$\\newcommand{\\kB}{k_{\\rm B}}$</div>\n",
       "\n",
       "\n",
       "\n",
       "<div id=\"title\">\n",
       "\n",
       "# Dust enrichment and grain growth in a smooth disk around the DG Tau protostar revealed by ALMA triple bands frequency observations\n",
       "\n",
       "</div>\n",
       "<div id=\"comments\">\n",
       "\n",
       "[![arXiv](https://img.shields.io/badge/arXiv-2307.14526-b31b1b.svg)](https://arxiv.org/abs/2307.14526)<mark>Appeared on: 2023-07-28</mark> -  _29 pages, 21 figures, 5 tables. Accepted for publication in ApJ_\n",
       "\n",
       "</div>\n",
       "<div id=\"authors\">\n",
       "\n",
       "S. Ohashi, et al. -- incl., <mark>T. Ueda</mark>\n",
       "\n",
       "</div>\n",
       "<div id=\"abstract\">\n",
       "\n",
       "**Abstract:** Characterizing the physical properties of dust grains in a protoplanetary disk is critical to comprehending the planet formation process. Our study presents ALMA high-resolution observations of the young protoplanetary disk around DG Tau at a 1.3 mm dust continuum. The observations, with a spatial resolution of $\\approx0\\farcs04$ , or $\\approx5$ au, revealed a geometrically thin and smooth disk without substantial substructures, suggesting that the disk retains the initial conditions of the planet formation. To further analyze the distributions of dust surface density, temperature, and grain size, we conducted a multi-band analysis with several dust models, incorporating ALMA archival data of the 0.87 mm and 3.1 mm dust polarization. The results showed that the Toomre $_ Q_$ parameter is $\\lesssim2$ at a 20 au radius, assuming a dust-to-gas mass ratio of 0.01. This implies that a higher dust-to-gas mass ratio is necessary to stabilize the disk. The grain sizes depend on the dust models, and for the DSHARP compact dust, they were found to be smaller than $\\sim400$ $\\mu$ m in the inner region ( $r\\lesssim20$ au), while exceeding larger than 3 mm in the outer part. Radiative transfer calculations show that the dust scale height is lower than at least one-third of the gas scale height. These distributions of dust enrichment, grain sizes, and weak turbulence strength may have significant implications for the formation of planetesimals through mechanisms such as streaming instability.  We also discuss the CO snowline effect and collisional fragmentation in dust coagulation for the origin of the dust size distribution.\n",
       "\n",
       "</div>\n",
       "\n",
       "<div id=\"div_fig1\">\n",
       "\n",
       "<img src=\"tmp_2307.14526/./fig8.png\" alt=\"Fig11\" width=\"100%\"/>\n",
       "\n",
       "**Figure 11. -** Posterior probability distributions of the fitting parameters for the multiband observations. The marginalized posterior probability is normalized by the maximum at each radius.\n",
       "The black  line in the middle panel shows the dust surface density profile where the disk is gravitationally unstable (i.e., $Q = 1$), assuming a gas-to-dust ratio of 100 and the higher temperature in the highest probabilities.\n",
       "The red dashed lines and pink dotted lines show the models discussed in Section \\ref{sec:model1} and \\ref{sec:model2}, respectively.\n",
       " (*probability*)\n",
       "\n",
       "</div>\n",
       "<div id=\"div_fig2\">\n",
       "\n",
       "<img src=\"tmp_2307.14526/./fig18.png\" alt=\"Fig5\" width=\"100%\"/>\n",
       "\n",
       "**Figure 5. -** Posterior probability distribution of the model parameters fitted to the multi-band observations at a disk radius of 20 au in the DSHARP compact dust.\n",
       "The parameter space is $\\Sigma_{\\rm d}$, $T$, and $a_{\\rm max}$ but the maximum probabilities in the parameter range of $a_{\\rm max} = 10$$\\mu$m $-$ 10 cm are shown.\n",
       " (*qat20au*)\n",
       "\n",
       "</div>\n",
       "<div id=\"div_fig3\">\n",
       "\n",
       "<img src=\"tmp_2307.14526/./fig9.png\" alt=\"Fig12\" width=\"100%\"/>\n",
       "\n",
       "**Figure 12. -** Comparison of radial profiles between the observed intensities and model intensities.  The model is described in Section \\ref{sec:model1}. The black solid lines indicate the observed intensities with uncertainties of the rms noise levels and the flux calibration errors, shown as the shaded region.\n",
       "The red solid, cyan dashed, and purple dashed lines show the model intensities with dust sizes of 1 cm, 3 mm, and 1 mm in the outer region of the disk ($r\\geq40$ au), respectively.\n",
       " (*model1_profile*)\n",
       "\n",
       "</div><div id=\"qrcode\"><img src=https://api.qrserver.com/v1/create-qr-code/?size=100x100&data=\"https://arxiv.org/abs/2307.14526\"></div>"
      ],
      "text/plain": [
       "<IPython.core.display.Markdown object>"
      ]
     },
     "metadata": {},
     "output_type": "display_data"
    }
   ],
   "source": [
    "[display(Markdown(k[1])) for k in documents];"
   ]
  },
  {
   "cell_type": "markdown",
   "id": "873873a4",
   "metadata": {
    "papermill": {
     "duration": 0.006333,
     "end_time": "2023-07-28T04:20:59.517469",
     "exception": false,
     "start_time": "2023-07-28T04:20:59.511136",
     "status": "completed"
    },
    "tags": []
   },
   "source": [
    "# Create HTML index"
   ]
  },
  {
   "cell_type": "code",
   "execution_count": 9,
   "id": "cf665672",
   "metadata": {
    "execution": {
     "iopub.execute_input": "2023-07-28T04:20:59.531498Z",
     "iopub.status.busy": "2023-07-28T04:20:59.531253Z",
     "iopub.status.idle": "2023-07-28T04:20:59.543492Z",
     "shell.execute_reply": "2023-07-28T04:20:59.542935Z"
    },
    "papermill": {
     "duration": 0.021295,
     "end_time": "2023-07-28T04:20:59.545167",
     "exception": false,
     "start_time": "2023-07-28T04:20:59.523872",
     "status": "completed"
    },
    "tags": []
   },
   "outputs": [
    {
     "name": "stdout",
     "output_type": "stream",
     "text": [
      "240  publications files modified in the last 7 days.\n"
     ]
    }
   ],
   "source": [
    "from datetime import datetime, timedelta, timezone\n",
    "from glob import glob\n",
    "import os\n",
    "\n",
    "files = glob('_build/html/*.md')\n",
    "days = 7\n",
    "now = datetime.today()\n",
    "res = []\n",
    "for fk in files:\n",
    "    stat_result = os.stat(fk).st_ctime\n",
    "    modified = datetime.fromtimestamp(stat_result, tz=timezone.utc).replace(tzinfo=None)\n",
    "    delta = now.today() - modified\n",
    "    if delta <= timedelta(days=days):\n",
    "        res.append((delta.seconds, fk))\n",
    "res = [k[1] for k in reversed(sorted(res, key=lambda x:x[1]))]\n",
    "npub = len(res)\n",
    "print(len(res), f\" publications files modified in the last {days:d} days.\")\n",
    "# [ print('\\t', k) for k in res ];"
   ]
  },
  {
   "cell_type": "code",
   "execution_count": 10,
   "id": "015de740",
   "metadata": {
    "execution": {
     "iopub.execute_input": "2023-07-28T04:20:59.559521Z",
     "iopub.status.busy": "2023-07-28T04:20:59.559196Z",
     "iopub.status.idle": "2023-07-28T04:20:59.687052Z",
     "shell.execute_reply": "2023-07-28T04:20:59.686463Z"
    },
    "papermill": {
     "duration": 0.137044,
     "end_time": "2023-07-28T04:20:59.688922",
     "exception": false,
     "start_time": "2023-07-28T04:20:59.551878",
     "status": "completed"
    },
    "tags": []
   },
   "outputs": [
    {
     "name": "stdout",
     "output_type": "stream",
     "text": [
      "10  publications in the last 7 days.\n"
     ]
    }
   ],
   "source": [
    "import datetime\n",
    "from glob import glob\n",
    "\n",
    "def get_last_n_days(lst, days=1):\n",
    "    \"\"\" Get the documents from the last n days \"\"\"\n",
    "    sorted_lst = sorted(lst, key=lambda x: x[1], reverse=True)\n",
    "    for fname, date in sorted_lst:\n",
    "        if date >= str(datetime.date.today() - datetime.timedelta(days=days)):\n",
    "            yield fname\n",
    "\n",
    "def extract_appearance_dates(lst_file):\n",
    "    dates = []\n",
    "\n",
    "    def get_date(line):\n",
    "        return line\\\n",
    "            .split('Appeared on:')[-1]\\\n",
    "            .split('</mark>')[0].strip()\n",
    "\n",
    "    for fname in lst:\n",
    "        with open(fname, 'r') as f:\n",
    "            found_date = False\n",
    "            for line in f:\n",
    "                if not found_date:\n",
    "                    if \"Appeared on\" in line:\n",
    "                        found_date = True\n",
    "                        dates.append((fname, get_date(line)))\n",
    "                else:\n",
    "                    break\n",
    "    return dates\n",
    "\n",
    "from glob import glob\n",
    "lst = glob('_build/html/*md')\n",
    "days = 7\n",
    "dates = extract_appearance_dates(lst)\n",
    "res = list(get_last_n_days(dates, days))\n",
    "npub = len(res)\n",
    "print(len(res), f\" publications in the last {days:d} days.\")"
   ]
  },
  {
   "cell_type": "code",
   "execution_count": 11,
   "id": "52ca0208",
   "metadata": {
    "execution": {
     "iopub.execute_input": "2023-07-28T04:20:59.704070Z",
     "iopub.status.busy": "2023-07-28T04:20:59.703808Z",
     "iopub.status.idle": "2023-07-28T04:20:59.710099Z",
     "shell.execute_reply": "2023-07-28T04:20:59.709499Z"
    },
    "papermill": {
     "duration": 0.015795,
     "end_time": "2023-07-28T04:20:59.711786",
     "exception": false,
     "start_time": "2023-07-28T04:20:59.695991",
     "status": "completed"
    },
    "scrolled": false,
    "tags": []
   },
   "outputs": [],
   "source": [
    "def create_carousel(npub=4):\n",
    "    \"\"\" Generate the HTML code for a carousel with `npub` slides \"\"\"\n",
    "    carousel = [\"\"\"  <div class=\"carousel\" \"\"\",\n",
    "                \"\"\"       data-flickity='{ \"autoPlay\": 10000, \"adaptiveHeight\": true, \"resize\": true, \"wrapAround\": true, \"pauseAutoPlayOnHover\": true, \"groupCells\": 1 }' id=\"asyncTypeset\">\"\"\"\n",
    "                ]\n",
    "    \n",
    "    item_str = \"\"\"    <div class=\"carousel-cell\"> <div id=\"slide{k}\" class=\"md_view\">Content {k}</div> </div>\"\"\"\n",
    "    for k in range(1, npub + 1):\n",
    "        carousel.append(item_str.format(k=k))\n",
    "    carousel.append(\"  </div>\")\n",
    "    return '\\n'.join(carousel)\n",
    "\n",
    "def create_grid(npub=4):\n",
    "    \"\"\" Generate the HTML code for a flat grid with `npub` slides \"\"\"\n",
    "    grid = [\"\"\"  <div class=\"grid\"> \"\"\",\n",
    "                ]\n",
    "    \n",
    "    item_str = \"\"\"    <div class=\"grid-item\"> <div id=\"slide{k}\" class=\"md_view\">Content {k}</div> </div>\"\"\"\n",
    "    for k in range(1, npub + 1):\n",
    "        grid.append(item_str.format(k=k))\n",
    "    grid.append(\"  </div>\")\n",
    "    return '\\n'.join(grid)"
   ]
  },
  {
   "cell_type": "code",
   "execution_count": 12,
   "id": "a6eac5b6",
   "metadata": {
    "execution": {
     "iopub.execute_input": "2023-07-28T04:20:59.728239Z",
     "iopub.status.busy": "2023-07-28T04:20:59.727563Z",
     "iopub.status.idle": "2023-07-28T04:20:59.734282Z",
     "shell.execute_reply": "2023-07-28T04:20:59.733096Z"
    },
    "papermill": {
     "duration": 0.015876,
     "end_time": "2023-07-28T04:20:59.735877",
     "exception": false,
     "start_time": "2023-07-28T04:20:59.720001",
     "status": "completed"
    },
    "scrolled": false,
    "tags": []
   },
   "outputs": [],
   "source": [
    "carousel = create_carousel(npub)\n",
    "docs = ', '.join(['\"{0:s}\"'.format(k.split('/')[-1]) for k in res])\n",
    "slides = ', '.join([f'\"slide{k}\"' for k in range(1, npub + 1)])\n",
    "\n",
    "with open(\"daily_template.html\", \"r\") as tpl:\n",
    "    page = tpl.read()\n",
    "    page = page.replace(\"{%-- carousel:s --%}\", carousel)\\\n",
    "               .replace(\"{%-- suptitle:s --%}\",  \"7-day archives\" )\\\n",
    "               .replace(\"{%-- docs:s --%}\", docs)\\\n",
    "               .replace(\"{%-- slides:s --%}\", slides)\n",
    "    \n",
    "with open(\"_build/html/index_7days.html\", 'w') as fout:\n",
    "    fout.write(page)"
   ]
  },
  {
   "cell_type": "code",
   "execution_count": 13,
   "id": "adc1a1ec",
   "metadata": {
    "execution": {
     "iopub.execute_input": "2023-07-28T04:20:59.750508Z",
     "iopub.status.busy": "2023-07-28T04:20:59.750060Z",
     "iopub.status.idle": "2023-07-28T04:20:59.757496Z",
     "shell.execute_reply": "2023-07-28T04:20:59.756967Z"
    },
    "papermill": {
     "duration": 0.016376,
     "end_time": "2023-07-28T04:20:59.758895",
     "exception": false,
     "start_time": "2023-07-28T04:20:59.742519",
     "status": "completed"
    },
    "tags": []
   },
   "outputs": [
    {
     "name": "stdout",
     "output_type": "stream",
     "text": [
      "6  publications in the last day.\n"
     ]
    }
   ],
   "source": [
    "# redo for today\n",
    "days = 1\n",
    "res = list(get_last_n_days(dates, days))\n",
    "npub = len(res)\n",
    "print(len(res), f\" publications in the last day.\")\n",
    "\n",
    "carousel = create_carousel(npub)\n",
    "docs = ', '.join(['\"{0:s}\"'.format(k.split('/')[-1]) for k in res])\n",
    "slides = ', '.join([f'\"slide{k}\"' for k in range(1, npub + 1)])\n",
    "\n",
    "with open(\"daily_template.html\", \"r\") as tpl:\n",
    "    page = tpl.read()\n",
    "    page = page.replace(\"{%-- carousel:s --%}\", carousel)\\\n",
    "               .replace(\"{%-- suptitle:s --%}\",  \"Daily\" )\\\n",
    "               .replace(\"{%-- docs:s --%}\", docs)\\\n",
    "               .replace(\"{%-- slides:s --%}\", slides)\n",
    "    \n",
    "# print(carousel, docs, slides)\n",
    "# print(page)\n",
    "with open(\"_build/html/index_daily.html\", 'w') as fout:\n",
    "    fout.write(page)"
   ]
  },
  {
   "cell_type": "code",
   "execution_count": 14,
   "id": "00eece82",
   "metadata": {
    "execution": {
     "iopub.execute_input": "2023-07-28T04:20:59.773705Z",
     "iopub.status.busy": "2023-07-28T04:20:59.773279Z",
     "iopub.status.idle": "2023-07-28T04:20:59.780364Z",
     "shell.execute_reply": "2023-07-28T04:20:59.779850Z"
    },
    "papermill": {
     "duration": 0.016088,
     "end_time": "2023-07-28T04:20:59.781764",
     "exception": false,
     "start_time": "2023-07-28T04:20:59.765676",
     "status": "completed"
    },
    "scrolled": false,
    "tags": []
   },
   "outputs": [
    {
     "name": "stdout",
     "output_type": "stream",
     "text": [
      "6  6 publications selected.\n"
     ]
    }
   ],
   "source": [
    "# Create the flat grid of the last N papers (fixed number regardless of dates)\n",
    "from itertools import islice \n",
    "\n",
    "npub = 6\n",
    "res = [k[0] for k in (islice(reversed(sorted(dates, key=lambda x: x[1])), 6))]\n",
    "print(len(res), f\" {npub} publications selected.\")\n",
    "\n",
    "grid = create_grid(npub)\n",
    "docs = ', '.join(['\"{0:s}\"'.format(k.split('/')[-1]) for k in res])\n",
    "slides = ', '.join([f'\"slide{k}\"' for k in range(1, npub + 1)])\n",
    "\n",
    "with open(\"grid_template.html\", \"r\") as tpl:\n",
    "    page = tpl.read()\n",
    "    page = page.replace(\"{%-- grid-content:s --%}\", grid)\\\n",
    "               .replace(\"{%-- suptitle:s --%}\",  f\"Last {npub:,d} papers\" )\\\n",
    "               .replace(\"{%-- docs:s --%}\", docs)\\\n",
    "               .replace(\"{%-- slides:s --%}\", slides)\n",
    "    \n",
    "# print(grid, docs, slides)\n",
    "# print(page)\n",
    "with open(\"_build/html/index_npub_grid.html\", 'w') as fout:\n",
    "    fout.write(page)"
   ]
  }
 ],
 "metadata": {
  "kernelspec": {
   "display_name": "Python 3 (ipykernel)",
   "language": "python",
   "name": "python3"
  },
  "language_info": {
   "codemirror_mode": {
    "name": "ipython",
    "version": 3
   },
   "file_extension": ".py",
   "mimetype": "text/x-python",
   "name": "python",
   "nbconvert_exporter": "python",
   "pygments_lexer": "ipython3",
   "version": "3.9.17"
  },
  "papermill": {
   "default_parameters": {},
   "duration": 1023.176245,
   "end_time": "2023-07-28T04:21:00.007663",
   "environment_variables": {},
   "exception": null,
   "input_path": "MPIA daily digest.ipynb",
   "output_path": "log.ipynb",
   "parameters": {},
   "start_time": "2023-07-28T04:03:56.831418",
   "version": "2.4.0"
  },
  "vscode": {
   "interpreter": {
    "hash": "aee8b7b246df8f9039afb4144a1f6fd8d2ca17a180786b69acc140d282b71a49"
   }
  },
  "widgets": {
   "application/vnd.jupyter.widget-state+json": {
    "state": {
     "24586f21d0794979a37ee613fb80f492": {
      "model_module": "@jupyter-widgets/controls",
      "model_module_version": "2.0.0",
      "model_name": "HTMLStyleModel",
      "state": {
       "_model_module": "@jupyter-widgets/controls",
       "_model_module_version": "2.0.0",
       "_model_name": "HTMLStyleModel",
       "_view_count": null,
       "_view_module": "@jupyter-widgets/base",
       "_view_module_version": "2.0.0",
       "_view_name": "StyleView",
       "background": null,
       "description_width": "",
       "font_size": null,
       "text_color": null
      }
     },
     "3c94d5b9fde3420abc78f1d53384eefa": {
      "model_module": "@jupyter-widgets/base",
      "model_module_version": "2.0.0",
      "model_name": "LayoutModel",
      "state": {
       "_model_module": "@jupyter-widgets/base",
       "_model_module_version": "2.0.0",
       "_model_name": "LayoutModel",
       "_view_count": null,
       "_view_module": "@jupyter-widgets/base",
       "_view_module_version": "2.0.0",
       "_view_name": "LayoutView",
       "align_content": null,
       "align_items": null,
       "align_self": null,
       "border_bottom": null,
       "border_left": null,
       "border_right": null,
       "border_top": null,
       "bottom": null,
       "display": null,
       "flex": null,
       "flex_flow": null,
       "grid_area": null,
       "grid_auto_columns": null,
       "grid_auto_flow": null,
       "grid_auto_rows": null,
       "grid_column": null,
       "grid_gap": null,
       "grid_row": null,
       "grid_template_areas": null,
       "grid_template_columns": null,
       "grid_template_rows": null,
       "height": null,
       "justify_content": null,
       "justify_items": null,
       "left": null,
       "margin": null,
       "max_height": null,
       "max_width": null,
       "min_height": null,
       "min_width": null,
       "object_fit": null,
       "object_position": null,
       "order": null,
       "overflow": null,
       "padding": null,
       "right": null,
       "top": null,
       "visibility": null,
       "width": null
      }
     },
     "4bfcfc9b864e491e91aeff9e835de5ba": {
      "model_module": "@jupyter-widgets/controls",
      "model_module_version": "2.0.0",
      "model_name": "HTMLStyleModel",
      "state": {
       "_model_module": "@jupyter-widgets/controls",
       "_model_module_version": "2.0.0",
       "_model_name": "HTMLStyleModel",
       "_view_count": null,
       "_view_module": "@jupyter-widgets/base",
       "_view_module_version": "2.0.0",
       "_view_name": "StyleView",
       "background": null,
       "description_width": "",
       "font_size": null,
       "text_color": null
      }
     },
     "58caacad564d41699157a295b9a6ba6c": {
      "model_module": "@jupyter-widgets/base",
      "model_module_version": "2.0.0",
      "model_name": "LayoutModel",
      "state": {
       "_model_module": "@jupyter-widgets/base",
       "_model_module_version": "2.0.0",
       "_model_name": "LayoutModel",
       "_view_count": null,
       "_view_module": "@jupyter-widgets/base",
       "_view_module_version": "2.0.0",
       "_view_name": "LayoutView",
       "align_content": null,
       "align_items": null,
       "align_self": null,
       "border_bottom": null,
       "border_left": null,
       "border_right": null,
       "border_top": null,
       "bottom": null,
       "display": null,
       "flex": null,
       "flex_flow": null,
       "grid_area": null,
       "grid_auto_columns": null,
       "grid_auto_flow": null,
       "grid_auto_rows": null,
       "grid_column": null,
       "grid_gap": null,
       "grid_row": null,
       "grid_template_areas": null,
       "grid_template_columns": null,
       "grid_template_rows": null,
       "height": null,
       "justify_content": null,
       "justify_items": null,
       "left": null,
       "margin": null,
       "max_height": null,
       "max_width": null,
       "min_height": null,
       "min_width": null,
       "object_fit": null,
       "object_position": null,
       "order": null,
       "overflow": null,
       "padding": null,
       "right": null,
       "top": null,
       "visibility": null,
       "width": null
      }
     },
     "5aad937b81274ec092f57b03cdccad7b": {
      "model_module": "@jupyter-widgets/controls",
      "model_module_version": "2.0.0",
      "model_name": "FloatProgressModel",
      "state": {
       "_dom_classes": [],
       "_model_module": "@jupyter-widgets/controls",
       "_model_module_version": "2.0.0",
       "_model_name": "FloatProgressModel",
       "_view_count": null,
       "_view_module": "@jupyter-widgets/controls",
       "_view_module_version": "2.0.0",
       "_view_name": "ProgressView",
       "bar_style": "success",
       "description": "",
       "description_allow_html": false,
       "layout": "IPY_MODEL_d3e60ca590224c0b80c54957d319c8af",
       "max": 3.0,
       "min": 0.0,
       "orientation": "horizontal",
       "style": "IPY_MODEL_77126b92ca8b4635b023323788807458",
       "tabbable": null,
       "tooltip": null,
       "value": 3.0
      }
     },
     "6318cbd1851c4ed3b45d85fbbc802b31": {
      "model_module": "@jupyter-widgets/base",
      "model_module_version": "2.0.0",
      "model_name": "LayoutModel",
      "state": {
       "_model_module": "@jupyter-widgets/base",
       "_model_module_version": "2.0.0",
       "_model_name": "LayoutModel",
       "_view_count": null,
       "_view_module": "@jupyter-widgets/base",
       "_view_module_version": "2.0.0",
       "_view_name": "LayoutView",
       "align_content": null,
       "align_items": null,
       "align_self": null,
       "border_bottom": null,
       "border_left": null,
       "border_right": null,
       "border_top": null,
       "bottom": null,
       "display": null,
       "flex": null,
       "flex_flow": null,
       "grid_area": null,
       "grid_auto_columns": null,
       "grid_auto_flow": null,
       "grid_auto_rows": null,
       "grid_column": null,
       "grid_gap": null,
       "grid_row": null,
       "grid_template_areas": null,
       "grid_template_columns": null,
       "grid_template_rows": null,
       "height": null,
       "justify_content": null,
       "justify_items": null,
       "left": null,
       "margin": null,
       "max_height": null,
       "max_width": null,
       "min_height": null,
       "min_width": null,
       "object_fit": null,
       "object_position": null,
       "order": null,
       "overflow": null,
       "padding": null,
       "right": null,
       "top": null,
       "visibility": null,
       "width": null
      }
     },
     "77126b92ca8b4635b023323788807458": {
      "model_module": "@jupyter-widgets/controls",
      "model_module_version": "2.0.0",
      "model_name": "ProgressStyleModel",
      "state": {
       "_model_module": "@jupyter-widgets/controls",
       "_model_module_version": "2.0.0",
       "_model_name": "ProgressStyleModel",
       "_view_count": null,
       "_view_module": "@jupyter-widgets/base",
       "_view_module_version": "2.0.0",
       "_view_name": "StyleView",
       "bar_color": null,
       "description_width": ""
      }
     },
     "ab7efe9404a545e3a8bcdd8017c00a1a": {
      "model_module": "@jupyter-widgets/controls",
      "model_module_version": "2.0.0",
      "model_name": "HTMLModel",
      "state": {
       "_dom_classes": [],
       "_model_module": "@jupyter-widgets/controls",
       "_model_module_version": "2.0.0",
       "_model_name": "HTMLModel",
       "_view_count": null,
       "_view_module": "@jupyter-widgets/controls",
       "_view_module_version": "2.0.0",
       "_view_name": "HTMLView",
       "description": "",
       "description_allow_html": false,
       "layout": "IPY_MODEL_58caacad564d41699157a295b9a6ba6c",
       "placeholder": "​",
       "style": "IPY_MODEL_24586f21d0794979a37ee613fb80f492",
       "tabbable": null,
       "tooltip": null,
       "value": "100%"
      }
     },
     "b86ccb2b71e143c693552c3f9fec5fd1": {
      "model_module": "@jupyter-widgets/controls",
      "model_module_version": "2.0.0",
      "model_name": "HTMLModel",
      "state": {
       "_dom_classes": [],
       "_model_module": "@jupyter-widgets/controls",
       "_model_module_version": "2.0.0",
       "_model_name": "HTMLModel",
       "_view_count": null,
       "_view_module": "@jupyter-widgets/controls",
       "_view_module_version": "2.0.0",
       "_view_name": "HTMLView",
       "description": "",
       "description_allow_html": false,
       "layout": "IPY_MODEL_3c94d5b9fde3420abc78f1d53384eefa",
       "placeholder": "​",
       "style": "IPY_MODEL_4bfcfc9b864e491e91aeff9e835de5ba",
       "tabbable": null,
       "tooltip": null,
       "value": " 3/3 [16:40&lt;00:00, 453.99s/it]"
      }
     },
     "d3e60ca590224c0b80c54957d319c8af": {
      "model_module": "@jupyter-widgets/base",
      "model_module_version": "2.0.0",
      "model_name": "LayoutModel",
      "state": {
       "_model_module": "@jupyter-widgets/base",
       "_model_module_version": "2.0.0",
       "_model_name": "LayoutModel",
       "_view_count": null,
       "_view_module": "@jupyter-widgets/base",
       "_view_module_version": "2.0.0",
       "_view_name": "LayoutView",
       "align_content": null,
       "align_items": null,
       "align_self": null,
       "border_bottom": null,
       "border_left": null,
       "border_right": null,
       "border_top": null,
       "bottom": null,
       "display": null,
       "flex": null,
       "flex_flow": null,
       "grid_area": null,
       "grid_auto_columns": null,
       "grid_auto_flow": null,
       "grid_auto_rows": null,
       "grid_column": null,
       "grid_gap": null,
       "grid_row": null,
       "grid_template_areas": null,
       "grid_template_columns": null,
       "grid_template_rows": null,
       "height": null,
       "justify_content": null,
       "justify_items": null,
       "left": null,
       "margin": null,
       "max_height": null,
       "max_width": null,
       "min_height": null,
       "min_width": null,
       "object_fit": null,
       "object_position": null,
       "order": null,
       "overflow": null,
       "padding": null,
       "right": null,
       "top": null,
       "visibility": null,
       "width": null
      }
     },
     "f93dddf3662d4cb6879c24e723b37a6f": {
      "model_module": "@jupyter-widgets/controls",
      "model_module_version": "2.0.0",
      "model_name": "HBoxModel",
      "state": {
       "_dom_classes": [],
       "_model_module": "@jupyter-widgets/controls",
       "_model_module_version": "2.0.0",
       "_model_name": "HBoxModel",
       "_view_count": null,
       "_view_module": "@jupyter-widgets/controls",
       "_view_module_version": "2.0.0",
       "_view_name": "HBoxView",
       "box_style": "",
       "children": [
        "IPY_MODEL_ab7efe9404a545e3a8bcdd8017c00a1a",
        "IPY_MODEL_5aad937b81274ec092f57b03cdccad7b",
        "IPY_MODEL_b86ccb2b71e143c693552c3f9fec5fd1"
       ],
       "layout": "IPY_MODEL_6318cbd1851c4ed3b45d85fbbc802b31",
       "tabbable": null,
       "tooltip": null
      }
     }
    },
    "version_major": 2,
    "version_minor": 0
   }
  }
 },
 "nbformat": 4,
 "nbformat_minor": 5
}