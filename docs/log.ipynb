{
 "cells": [
  {
   "cell_type": "markdown",
   "id": "92bcb855",
   "metadata": {
    "papermill": {
     "duration": 0.004996,
     "end_time": "2023-04-06T04:05:07.881510",
     "exception": false,
     "start_time": "2023-04-06T04:05:07.876514",
     "status": "completed"
    },
    "tags": []
   },
   "source": [
    "# MPIA Arxiv on Deck 2\n",
    "\n",
    "Contains the steps to produce the paper extractions."
   ]
  },
  {
   "cell_type": "code",
   "execution_count": 1,
   "id": "3a0d6e11",
   "metadata": {
    "execution": {
     "iopub.execute_input": "2023-04-06T04:05:07.890733Z",
     "iopub.status.busy": "2023-04-06T04:05:07.889888Z",
     "iopub.status.idle": "2023-04-06T04:05:08.127692Z",
     "shell.execute_reply": "2023-04-06T04:05:08.126926Z"
    },
    "papermill": {
     "duration": 0.244973,
     "end_time": "2023-04-06T04:05:08.130217",
     "exception": false,
     "start_time": "2023-04-06T04:05:07.885244",
     "status": "completed"
    },
    "tags": []
   },
   "outputs": [],
   "source": [
    "# Imports\n",
    "import os\n",
    "from IPython.display import Markdown, display\n",
    "from tqdm.notebook import tqdm\n",
    "import warnings\n",
    "from PIL import Image \n",
    "\n",
    "# requires arxiv_on_deck_2\n",
    "\n",
    "from arxiv_on_deck_2.arxiv2 import (get_new_papers, \n",
    "                                    get_paper_from_identifier,\n",
    "                                    retrieve_document_source, \n",
    "                                    get_markdown_badge)\n",
    "from arxiv_on_deck_2 import (latex,\n",
    "                             latex_bib,\n",
    "                             mpia,\n",
    "                             highlight_authors_in_list)\n",
    "\n",
    "# Sometimes images are really big\n",
    "Image.MAX_IMAGE_PIXELS = 1000000000 "
   ]
  },
  {
   "cell_type": "code",
   "execution_count": 2,
   "id": "22aa9d44",
   "metadata": {
    "execution": {
     "iopub.execute_input": "2023-04-06T04:05:08.139984Z",
     "iopub.status.busy": "2023-04-06T04:05:08.139251Z",
     "iopub.status.idle": "2023-04-06T04:05:08.145314Z",
     "shell.execute_reply": "2023-04-06T04:05:08.144649Z"
    },
    "papermill": {
     "duration": 0.012508,
     "end_time": "2023-04-06T04:05:08.146963",
     "exception": false,
     "start_time": "2023-04-06T04:05:08.134455",
     "status": "completed"
    },
    "tags": []
   },
   "outputs": [],
   "source": [
    "# Some useful definitions.\n",
    "\n",
    "class AffiliationWarning(UserWarning):\n",
    "    pass\n",
    "\n",
    "class AffiliationError(RuntimeError):\n",
    "    pass\n",
    "\n",
    "def validation(source: str):\n",
    "    \"\"\"Raises error paper during parsing of source file\n",
    "    \n",
    "    Allows checks before parsing TeX code.\n",
    "    \n",
    "    Raises AffiliationWarning\n",
    "    \"\"\"\n",
    "    check = mpia.affiliation_verifications(source, verbose=True)\n",
    "    if check is not True:\n",
    "        raise AffiliationError(\"mpia.affiliation_verifications: \" + check)\n",
    "\n",
    "        \n",
    "warnings.simplefilter('always', AffiliationWarning)\n",
    "\n",
    "\n",
    "def get_markdown_qrcode(paper_id: str):\n",
    "    \"\"\" Generate a qrcode to the arxiv page using qrserver.com\n",
    "    \n",
    "    :param paper: Arxiv paper\n",
    "    :returns: markdown text\n",
    "    \"\"\"\n",
    "    url = r\"https://api.qrserver.com/v1/create-qr-code/?size=100x100&data=\"\n",
    "    txt = f\"\"\"<img src={url}\"https://arxiv.org/abs/{paper_id}\">\"\"\"\n",
    "    txt = '<div id=\"qrcode\">' + txt + '</div>'\n",
    "    return txt"
   ]
  },
  {
   "cell_type": "markdown",
   "id": "14bd6310",
   "metadata": {
    "papermill": {
     "duration": 0.003323,
     "end_time": "2023-04-06T04:05:08.153678",
     "exception": false,
     "start_time": "2023-04-06T04:05:08.150355",
     "status": "completed"
    },
    "tags": []
   },
   "source": [
    "## get list of arxiv paper candidates\n",
    "\n",
    "We use the MPIA mitarbeiter list webpage from mpia.de to get author names\n",
    "We then get all new papers from Arxiv and match authors"
   ]
  },
  {
   "cell_type": "code",
   "execution_count": 3,
   "id": "2645e73a",
   "metadata": {
    "execution": {
     "iopub.execute_input": "2023-04-06T04:05:08.161820Z",
     "iopub.status.busy": "2023-04-06T04:05:08.161328Z",
     "iopub.status.idle": "2023-04-06T04:05:33.454053Z",
     "shell.execute_reply": "2023-04-06T04:05:33.452018Z"
    },
    "papermill": {
     "duration": 25.298962,
     "end_time": "2023-04-06T04:05:33.456015",
     "exception": false,
     "start_time": "2023-04-06T04:05:08.157053",
     "status": "completed"
    },
    "tags": []
   },
   "outputs": [
    {
     "name": "stdout",
     "output_type": "stream",
     "text": [
      "Arxiv has 60 new papers today\n",
      "          5 with possible author matches\n"
     ]
    }
   ],
   "source": [
    "# get list from MPIA website\n",
    "# it automatically filters identified non-scientists :func:`mpia.filter_non_scientists`\n",
    "mpia_authors = mpia.get_mpia_mitarbeiter_list()\n",
    "normed_mpia_authors = [k[1] for k in mpia_authors]   # initials + fullname\n",
    "new_papers = get_new_papers()\n",
    "# add manual references\n",
    "add_paper_refs = []\n",
    "new_papers.extend([get_paper_from_identifier(k) for k in add_paper_refs])\n",
    "\n",
    "candidates = []\n",
    "for paperk in new_papers:\n",
    "    # Check author list with their initials\n",
    "    normed_author_list = [mpia.get_initials(k) for k in paperk['authors']]\n",
    "    hl_authors = highlight_authors_in_list(normed_author_list, normed_mpia_authors, verbose=True)\n",
    "    matches = [(hl, orig) for hl, orig in zip(hl_authors, paperk['authors']) if 'mark' in hl]\n",
    "    paperk['authors'] = hl_authors\n",
    "    if matches:\n",
    "        # only select paper if an author matched our list\n",
    "        candidates.append(paperk)\n",
    "print(\"\"\"Arxiv has {0:,d} new papers today\"\"\".format(len(new_papers)))        \n",
    "print(\"\"\"          {0:,d} with possible author matches\"\"\".format(len(candidates)))"
   ]
  },
  {
   "cell_type": "markdown",
   "id": "3543b34a",
   "metadata": {
    "papermill": {
     "duration": 0.003934,
     "end_time": "2023-04-06T04:05:33.463903",
     "exception": false,
     "start_time": "2023-04-06T04:05:33.459969",
     "status": "completed"
    },
    "tags": []
   },
   "source": [
    "# Parse sources and generate relevant outputs\n",
    "\n",
    "From the candidates, we do the following steps:\n",
    "* get their tarball from ArXiv (and extract data)\n",
    "* find the main .tex file: find one with \\documentclass{...} (sometimes it's non trivial)\n",
    "* Check affiliations with :func:`validation`, which uses :func:`mpia.affiliation_verifications`\n",
    "* If passing the affiliations: we parse the .tex source\n",
    "   * inject sub-documents into the main (flatten the main document)\n",
    "   * parse structure, extract information (title, abstract, authors, figures...)\n",
    "   * handles `\\graphicspath` if provided\n",
    "* Generate the .md document."
   ]
  },
  {
   "cell_type": "code",
   "execution_count": 4,
   "id": "9576b79e",
   "metadata": {
    "execution": {
     "iopub.execute_input": "2023-04-06T04:05:33.472572Z",
     "iopub.status.busy": "2023-04-06T04:05:33.472264Z",
     "iopub.status.idle": "2023-04-06T04:06:18.652716Z",
     "shell.execute_reply": "2023-04-06T04:06:18.651955Z"
    },
    "papermill": {
     "duration": 45.187492,
     "end_time": "2023-04-06T04:06:18.654826",
     "exception": false,
     "start_time": "2023-04-06T04:05:33.467334",
     "status": "completed"
    },
    "scrolled": false,
    "tags": []
   },
   "outputs": [
    {
     "data": {
      "application/vnd.jupyter.widget-view+json": {
       "model_id": "24f65275e3a44aa39c560099e18bfac3",
       "version_major": 2,
       "version_minor": 0
      },
      "text/plain": [
       "  0%|          | 0/4 [00:00<?, ?it/s]"
      ]
     },
     "metadata": {},
     "output_type": "display_data"
    },
    {
     "name": "stdout",
     "output_type": "stream",
     "text": [
      "Retrieving document from  https://arxiv.org/e-print/2304.02037\n"
     ]
    },
    {
     "name": "stdout",
     "output_type": "stream",
     "text": [
      "extracting tarball to tmp_2304.02037..."
     ]
    },
    {
     "name": "stdout",
     "output_type": "stream",
     "text": [
      " done.\n"
     ]
    },
    {
     "name": "stderr",
     "output_type": "stream",
     "text": [
      "/opt/hostedtoolcache/Python/3.9.16/x64/lib/python3.9/site-packages/IPython/core/interactiveshell.py:3505: LatexWarning: Multiple tex files.\n",
      "\n",
      "  exec(code_obj, self.user_global_ns, self.user_ns)\n",
      "/opt/hostedtoolcache/Python/3.9.16/x64/lib/python3.9/site-packages/IPython/core/interactiveshell.py:3505: LatexWarning: Found documentclass in tmp_2304.02037/paper.tex\n",
      "\n",
      "  exec(code_obj, self.user_global_ns, self.user_ns)\n",
      "/opt/hostedtoolcache/Python/3.9.16/x64/lib/python3.9/site-packages/arxiv_on_deck_2/latex.py:399: LatexWarning: Latex injecting: 'Figures/01caption/figure_ew_vs_mom2' from 'tmp_2304.02037/Figures/01caption/figure_ew_vs_mom2.tex'\n",
      "  warnings.warn(LatexWarning(f\"Latex injecting: '{ext}' from '{subsource}'\"))\n",
      "/opt/hostedtoolcache/Python/3.9.16/x64/lib/python3.9/site-packages/arxiv_on_deck_2/latex.py:399: LatexWarning: Latex injecting: 'Figures/01caption/figure_spectra_ring_region' from 'tmp_2304.02037/Figures/01caption/figure_spectra_ring_region.tex'\n",
      "  warnings.warn(LatexWarning(f\"Latex injecting: '{ext}' from '{subsource}'\"))\n",
      "/opt/hostedtoolcache/Python/3.9.16/x64/lib/python3.9/site-packages/arxiv_on_deck_2/latex.py:399: LatexWarning: Latex injecting: 'Sections/Appendix_gbt.tex' from 'tmp_2304.02037/Sections/Appendix_gbt.tex'\n",
      "  warnings.warn(LatexWarning(f\"Latex injecting: '{ext}' from '{subsource}'\"))\n",
      "/opt/hostedtoolcache/Python/3.9.16/x64/lib/python3.9/site-packages/arxiv_on_deck_2/latex.py:399: LatexWarning: Latex injecting: 'Sections/Appendix_figures' from 'tmp_2304.02037/Sections/Appendix_figures.tex'\n",
      "  warnings.warn(LatexWarning(f\"Latex injecting: '{ext}' from '{subsource}'\"))\n",
      "/opt/hostedtoolcache/Python/3.9.16/x64/lib/python3.9/site-packages/arxiv_on_deck_2/latex.py:399: LatexWarning: Latex injecting: 'Sections/Appendix_FeatherComparision' from 'tmp_2304.02037/Sections/Appendix_FeatherComparision.tex'\n",
      "  warnings.warn(LatexWarning(f\"Latex injecting: '{ext}' from '{subsource}'\"))\n",
      "/opt/hostedtoolcache/Python/3.9.16/x64/lib/python3.9/site-packages/arxiv_on_deck_2/latex.py:399: LatexWarning: Latex injecting: 'Table/table-appendix' from 'tmp_2304.02037/Table/table-appendix.tex'\n",
      "  warnings.warn(LatexWarning(f\"Latex injecting: '{ext}' from '{subsource}'\"))\n",
      "/opt/hostedtoolcache/Python/3.9.16/x64/lib/python3.9/site-packages/arxiv_on_deck_2/latex.py:399: LatexWarning: Latex injecting: 'Sections/06-Conclusion_new' from 'tmp_2304.02037/Sections/06-Conclusion_new.tex'\n",
      "  warnings.warn(LatexWarning(f\"Latex injecting: '{ext}' from '{subsource}'\"))\n",
      "/opt/hostedtoolcache/Python/3.9.16/x64/lib/python3.9/site-packages/arxiv_on_deck_2/latex.py:399: LatexWarning: Latex injecting: 'Sections/05-Massflow_new' from 'tmp_2304.02037/Sections/05-Massflow_new.tex'\n",
      "  warnings.warn(LatexWarning(f\"Latex injecting: '{ext}' from '{subsource}'\"))\n",
      "/opt/hostedtoolcache/Python/3.9.16/x64/lib/python3.9/site-packages/arxiv_on_deck_2/latex.py:399: LatexWarning: Latex injecting: 'Sections/04-Discussion_new' from 'tmp_2304.02037/Sections/04-Discussion_new.tex'\n",
      "  warnings.warn(LatexWarning(f\"Latex injecting: '{ext}' from '{subsource}'\"))\n",
      "/opt/hostedtoolcache/Python/3.9.16/x64/lib/python3.9/site-packages/arxiv_on_deck_2/latex.py:399: LatexWarning: Latex injecting: 'Sections/03-Results_new' from 'tmp_2304.02037/Sections/03-Results_new.tex'\n",
      "  warnings.warn(LatexWarning(f\"Latex injecting: '{ext}' from '{subsource}'\"))\n",
      "/opt/hostedtoolcache/Python/3.9.16/x64/lib/python3.9/site-packages/arxiv_on_deck_2/latex.py:399: LatexWarning: Latex injecting: 'Sections/02-Observation_new' from 'tmp_2304.02037/Sections/02-Observation_new.tex'\n",
      "  warnings.warn(LatexWarning(f\"Latex injecting: '{ext}' from '{subsource}'\"))\n",
      "/opt/hostedtoolcache/Python/3.9.16/x64/lib/python3.9/site-packages/arxiv_on_deck_2/latex.py:399: LatexWarning: Latex injecting: 'Sections/01-Introduction_new' from 'tmp_2304.02037/Sections/01-Introduction_new.tex'\n",
      "  warnings.warn(LatexWarning(f\"Latex injecting: '{ext}' from '{subsource}'\"))\n",
      "/opt/hostedtoolcache/Python/3.9.16/x64/lib/python3.9/site-packages/arxiv_on_deck_2/latex.py:399: LatexWarning: Latex injecting: 'mycommands' from 'tmp_2304.02037/mycommands.tex'\n",
      "  warnings.warn(LatexWarning(f\"Latex injecting: '{ext}' from '{subsource}'\"))\n"
     ]
    },
    {
     "name": "stdout",
     "output_type": "stream",
     "text": [
      "Found 87 bibliographic references in tmp_2304.02037/paper.bbl.\n",
      "Retrieving document from  https://arxiv.org/e-print/2304.02038\n"
     ]
    },
    {
     "name": "stdout",
     "output_type": "stream",
     "text": [
      "extracting tarball to tmp_2304.02038..."
     ]
    },
    {
     "name": "stdout",
     "output_type": "stream",
     "text": [
      " done.\n"
     ]
    },
    {
     "name": "stderr",
     "output_type": "stream",
     "text": [
      "/opt/hostedtoolcache/Python/3.9.16/x64/lib/python3.9/site-packages/IPython/core/interactiveshell.py:3505: LatexWarning: Multiple tex files.\n",
      "\n",
      "  exec(code_obj, self.user_global_ns, self.user_ns)\n",
      "/opt/hostedtoolcache/Python/3.9.16/x64/lib/python3.9/site-packages/IPython/core/interactiveshell.py:3505: LatexWarning: Found documentclass in tmp_2304.02038/excite_HI.tex\n",
      "\n",
      "  exec(code_obj, self.user_global_ns, self.user_ns)\n",
      "/opt/hostedtoolcache/Python/3.9.16/x64/lib/python3.9/site-packages/arxiv_on_deck_2/latex.py:399: LatexWarning: Latex injecting: 'excite_HI_appendix_inline' from 'tmp_2304.02038/excite_HI_appendix_inline.tex'\n",
      "  warnings.warn(LatexWarning(f\"Latex injecting: '{ext}' from '{subsource}'\"))\n"
     ]
    },
    {
     "name": "stderr",
     "output_type": "stream",
     "text": [
      "/opt/hostedtoolcache/Python/3.9.16/x64/lib/python3.9/site-packages/arxiv_on_deck_2/latex.py:680: LatexWarning: Falling back to regex to find figures\n",
      "  warnings.warn(LatexWarning(\"Falling back to regex to find figures\"))\n",
      "/opt/hostedtoolcache/Python/3.9.16/x64/lib/python3.9/site-packages/arxiv_on_deck_2/latex.py:683: LatexWarning: Fallback: found 0 figures.\n",
      "  warnings.warn(LatexWarning(\"Fallback: found \" + str(len(results)) + \" figures.\"))\n"
     ]
    },
    {
     "name": "stdout",
     "output_type": "stream",
     "text": [
      "Found 132 bibliographic references in tmp_2304.02038/excite_HI.bbl.\n",
      "Retrieving document from  https://arxiv.org/e-print/2304.02139\n"
     ]
    },
    {
     "name": "stdout",
     "output_type": "stream",
     "text": [
      "extracting tarball to tmp_2304.02139..."
     ]
    },
    {
     "name": "stdout",
     "output_type": "stream",
     "text": [
      " done.\n",
      "Retrieving document from  https://arxiv.org/e-print/2304.02615\n"
     ]
    },
    {
     "name": "stderr",
     "output_type": "stream",
     "text": [
      "/opt/hostedtoolcache/Python/3.9.16/x64/lib/python3.9/site-packages/IPython/core/interactiveshell.py:3505: LatexWarning: Multiple tex files.\n",
      "\n",
      "  exec(code_obj, self.user_global_ns, self.user_ns)\n",
      "/opt/hostedtoolcache/Python/3.9.16/x64/lib/python3.9/site-packages/IPython/core/interactiveshell.py:3505: LatexWarning: Found documentclass in tmp_2304.02139/rnaas.tex\n",
      "\n",
      "  exec(code_obj, self.user_global_ns, self.user_ns)\n"
     ]
    },
    {
     "name": "stdout",
     "output_type": "stream",
     "text": [
      "extracting tarball to tmp_2304.02615... done.\n"
     ]
    }
   ],
   "source": [
    "documents = []\n",
    "failed = []\n",
    "for paper in tqdm(candidates[:-1]):\n",
    "    paper_id = paper['identifier'].lower().replace('arxiv:', '')\n",
    "    \n",
    "    folder = f'tmp_{paper_id}'\n",
    "\n",
    "    try:\n",
    "        if not os.path.isdir(folder):\n",
    "            folder = retrieve_document_source(f\"{paper_id}\", f'tmp_{paper_id}')\n",
    "        \n",
    "        try:\n",
    "            doc = latex.LatexDocument(folder, validation=validation)    \n",
    "        except AffiliationError as affilerror:\n",
    "            msg = f\"ArXiv:{paper_id:s} is not an MPIA paper... \" + str(affilerror)\n",
    "            failed.append((paper, \"affiliation error: \" + str(affilerror) ))\n",
    "            continue\n",
    "        \n",
    "        # Hack because sometimes author parsing does not work well\n",
    "        if (len(doc.authors) != len(paper['authors'])):\n",
    "            doc._authors = paper['authors']\n",
    "        else:\n",
    "            # highlight authors (FIXME: doc.highlight_authors)\n",
    "            # done on arxiv paper already\n",
    "            doc._authors = highlight_authors_in_list(\n",
    "                [mpia.get_initials(k) for k in doc.authors], \n",
    "                normed_mpia_authors, verbose=True)\n",
    "        if (doc.abstract) in (None, ''):\n",
    "            doc._abstract = paper['abstract']\n",
    "            \n",
    "        doc.comment = (get_markdown_badge(paper_id) + \n",
    "                       \"<mark>Appeared on: \" + paper['date'] + \"</mark> - \")\n",
    "        if paper['comments']:\n",
    "            doc.comment += \" _\" + paper['comments'] + \"_\"\n",
    "        \n",
    "        full_md = doc.generate_markdown_text()\n",
    "        \n",
    "        full_md += get_markdown_qrcode(paper_id)\n",
    "        \n",
    "        # replace citations\n",
    "        try:\n",
    "            bibdata = latex_bib.LatexBib.from_doc(doc)\n",
    "            full_md = latex_bib.replace_citations(full_md, bibdata)\n",
    "        except Exception as e:\n",
    "            print(e)\n",
    "        \n",
    "        documents.append((paper_id, full_md))\n",
    "    except Exception as e:\n",
    "        warnings.warn(latex.LatexWarning(f\"{paper_id:s} did not run properly\\n\" +\n",
    "                                         str(e)\n",
    "                                        ))\n",
    "        failed.append((paper, \"latex error \" + str(e)))"
   ]
  },
  {
   "cell_type": "markdown",
   "id": "2505a25c",
   "metadata": {
    "papermill": {
     "duration": 0.004616,
     "end_time": "2023-04-06T04:06:18.664222",
     "exception": false,
     "start_time": "2023-04-06T04:06:18.659606",
     "status": "completed"
    },
    "tags": []
   },
   "source": [
    "### Export the logs\n",
    "\n",
    "Throughout, we also keep track of the logs per paper. see `logs-{today date}.md` "
   ]
  },
  {
   "cell_type": "code",
   "execution_count": 5,
   "id": "d733828a",
   "metadata": {
    "execution": {
     "iopub.execute_input": "2023-04-06T04:06:18.675477Z",
     "iopub.status.busy": "2023-04-06T04:06:18.674736Z",
     "iopub.status.idle": "2023-04-06T04:06:18.695982Z",
     "shell.execute_reply": "2023-04-06T04:06:18.695356Z"
    },
    "papermill": {
     "duration": 0.038408,
     "end_time": "2023-04-06T04:06:18.707144",
     "exception": false,
     "start_time": "2023-04-06T04:06:18.668736",
     "status": "completed"
    },
    "scrolled": false,
    "tags": []
   },
   "outputs": [
    {
     "data": {
      "text/markdown": [
       "## Successful papers"
      ],
      "text/plain": [
       "<IPython.core.display.Markdown object>"
      ]
     },
     "metadata": {},
     "output_type": "display_data"
    },
    {
     "data": {
      "text/markdown": [
       "\n",
       "|||\n",
       "|---:|:---|\n",
       "| [![arXiv](https://img.shields.io/badge/arXiv-arXiv:2304.02037-b31b1b.svg)](https://arxiv.org/abs/arXiv:2304.02037) | **Kinematic analysis of the super-extended HI disk of the nearby spiral  galaxy M83**  |\n",
       "|| C. Eibensteiner, et al. -- incl., <mark>E. Schinnerer</mark>, <mark>S. Stuber</mark> |\n",
       "|*Appeared on*| *2023-04-06*|\n",
       "|*Comments*| *accepted for publication in A&A; 16 pages, 12 figures (+8 pages appendix)*|\n",
       "|**Abstract**| We present new HI observations of the nearby massive spiral galaxy M83, taken with the VLA at $21^{\\prime\\prime}$ angular resolution ($\\approx500$ pc) of an extended ($\\sim$1.5 deg$^2$) 10-point mosaic combined with GBT single dish data. We study the super-extended HI disk of M83 (${\\sim}$50 kpc in radius), in particular disc kinematics, rotation and the turbulent nature of the atomic interstellar medium. We define distinct regions in the outer disk ($r_{\\rm gal}>$central optical disk), including ring, southern area, and southern and northern arm. We examine HI gas surface density, velocity dispersion and non-circular motions in the outskirts, which we compare to the inner optical disk. We find an increase of velocity dispersion ($\\sigma_v$) towards the pronounced HI ring, indicative of more turbulent HI gas. Additionally, we report over a large galactocentric radius range (until $r_{\\rm gal}{\\sim}$50 kpc) that $\\sigma_v$ is slightly larger than thermal (i.e. $>8$km s$^{-1}$ ). We find that a higher star formation rate (as traced by FUV emission) is not always necessarily associated with a higher HI velocity dispersion, suggesting that radial transport could be a dominant driver for the enhanced velocity dispersion. We further find a possible branch that connects the extended HI disk to the dwarf irregular galaxy UGCA365, that deviates from the general direction of the northern arm. Lastly, we compare mass flow rate profiles (based on 2D and 3D tilted ring models) and find evidence for outflowing gas at r$_{\\rm gal}$ $\\sim$2 kpc, inflowing gas at r$_{\\rm gal}$ $\\sim$5.5 kpc and outflowing gas at r$_{\\rm gal}$ $\\sim$14 kpc. We caution that mass flow rates are highly sensitive to the assumed kinematic disk parameters, in particular, to the inclination. |"
      ],
      "text/plain": [
       "[arXiv:2304.02037] Kinematic analysis of the super-extended HI disk of the nearby spiral  galaxy M83\n",
       "\tC. Eibensteiner, et al. -- incl., <mark>E. Schinnerer</mark>, <mark>S. Stuber</mark>"
      ]
     },
     "metadata": {},
     "output_type": "display_data"
    },
    {
     "data": {
      "text/markdown": [
       "\n",
       "|||\n",
       "|---:|:---|\n",
       "| [![arXiv](https://img.shields.io/badge/arXiv-arXiv:2304.02038-b31b1b.svg)](https://arxiv.org/abs/arXiv:2304.02038) | **Measuring the photo-ionization rate, neutral fraction and mean free path  of HI ionizing photons at $4.9 \\leq z \\leq 6.0$ from a large sample of  XShooter and ESI spectra**  |\n",
       "|| <mark>P. Gaikwad</mark>, et al. -- incl., <mark>F. Nasir</mark> |\n",
       "|*Appeared on*| *2023-04-06*|\n",
       "|*Comments*| *30 pages (+14 pages appendices), 14 figures (+18 figures appendices); submitted to MNRAS; Main results are summarized in Fig. 10, Fig. 11 and Table 3*|\n",
       "|**Abstract**| We measure the mean free path ($\\lambda_{\\rm mfp,HI}$), photo-ionization rate ($\\langle \\Gamma_{\\rm HI} \\rangle$) and neutral fraction ($\\langle f_{\\rm HI} \\rangle$) of hydrogen in 12 redshift bins at $4.85<z<6.05$ from a large sample of moderate resolution XShooter and ESI QSO absorption spectra. The fluctuations in ionizing radiation field are modeled by post-processing simulations from the Sherwood suite using our new code ''EXtended reionization based on the Code for Ionization and Temperature Evolution'' (EX-CITE). EX-CITE uses efficient Octree summation for computing intergalactic medium attenuation and can generate large number of high resolution $\\Gamma_{\\rm HI}$ fluctuation models. Our simulation with EX-CITE shows remarkable agreement with simulations performed with the radiative transfer code Aton and can recover the simulated parameters within $1\\sigma$ uncertainty. We measure the three parameters by forward-modeling the Ly$\\alpha$ forest and comparing the effective optical depth ($\\tau_{\\rm eff, HI}$) distribution in simulations and observations. The final uncertainties in our measured parameters account for the uncertainties due to thermal parameters, modeling parameters, observational systematics and cosmic variance. Our best fit parameters show significant evolution with redshift such that $\\lambda_{\\rm mfp,HI}$ and $\\langle f_{\\rm HI} \\rangle$ decreases and increases by a factor $\\sim 6$ and $\\sim 10^{4}$, respectively from $z \\sim 5$ to $z \\sim 6$. By comparing our $\\lambda_{\\rm mfp,HI}$, $\\langle \\Gamma_{\\rm HI} \\rangle$ and $\\langle f_{\\rm HI} \\rangle$ evolution with that in state-of-the-art Aton radiative transfer simulations and the Thesan and CoDa-III simulations, we find that our best fit parameter evolution is consistent with a model in which reionization completes by $z \\sim 5.2$. |"
      ],
      "text/plain": [
       "[arXiv:2304.02038] Measuring the photo-ionization rate, neutral fraction and mean free path  of HI ionizing photons at $4.9 \\leq z \\leq 6.0$ from a large sample of  XShooter and ESI spectra\n",
       "\t<mark>P. Gaikwad</mark>, et al. -- incl., <mark>F. Nasir</mark>"
      ]
     },
     "metadata": {},
     "output_type": "display_data"
    },
    {
     "data": {
      "text/markdown": [
       "## Failed papers"
      ],
      "text/plain": [
       "<IPython.core.display.Markdown object>"
      ]
     },
     "metadata": {},
     "output_type": "display_data"
    },
    {
     "data": {
      "text/markdown": [
       "\n",
       "|||\n",
       "|---:|:---|\n",
       "| [![arXiv](https://img.shields.io/badge/arXiv-arXiv:2304.02139-b31b1b.svg)](https://arxiv.org/abs/arXiv:2304.02139) | **Three long period transiting giant planets from TESS**  |\n",
       "|| R. Brahm, et al. -- incl., <mark>T. Trifonov</mark>, <mark>J. Eberhardt</mark> |\n",
       "|*Appeared on*| *2023-04-06*|\n",
       "|*Comments*| *24 pages, 16 figures, accepted in AJ*|\n",
       "|**Abstract**| We report the discovery and orbital characterization of three new transiting warm giant planets. These systems were initially identified as presenting single transit events in the light curves generated from the full frame images of the Transiting Exoplanet Survey Satellite (TESS). Follow-up radial velocity measurements and additional light curves were used to determine the orbital periods and confirm the planetary nature of the candidates. The planets orbit slightly metal-rich late F- and early G-type stars. We find that TOI 4406b has a mass of $M_P$= 0.30 $\\pm$ 0.04 $M_J$ , a radius of $R_P$= 1.00 $\\pm$ 0.02 $R_J$ , and a low eccentricity orbit (e=0.15 $\\pm$ 0.05) with a period of P= 30.08364 $\\pm$ 0.00005 d . TOI 2338b has a mass of $M_P$= 5.98 $\\pm$ 0.20 $M_J$ , a radius of $R_P$= 1.00 $\\pm$ 0.01 $R_J$ , and a highly eccentric orbit (e= 0.676 $\\pm$ 0.002 ) with a period of P= 22.65398 $\\pm$ 0.00002 d . Finally, TOI 2589b has a mass of $M_P$= 3.50 $\\pm$ 0.10 $M_J$ , a radius of $R_P$= 1.08 $\\pm$ 0.03 $R_J$ , and an eccentric orbit (e = 0.522 $\\pm$ 0.006 ) with a period of P= 61.6277 $\\pm$ 0.0002 d . TOI 4406b and TOI 2338b are enriched in metals compared to their host stars, while the structure of TOI 2589b is consistent with having similar metal enrichment to its host star. |\n",
       "|<p style=\"color:green\"> **ERROR** </p>| <p style=\"color:green\">affiliation error: mpia.affiliation_verifications: 'Heidelberg' keyword not found.</p> |"
      ],
      "text/plain": [
       "<IPython.core.display.Markdown object>"
      ]
     },
     "metadata": {},
     "output_type": "display_data"
    },
    {
     "data": {
      "text/markdown": [
       "\n",
       "|||\n",
       "|---:|:---|\n",
       "| [![arXiv](https://img.shields.io/badge/arXiv-arXiv:2304.02615-b31b1b.svg)](https://arxiv.org/abs/arXiv:2304.02615) | **Formation and Destiny of White Dwarf and Be Star Binaries**  |\n",
       "|| C. Zhu, G. Lü, X. Lu, <mark>J. He</mark> |\n",
       "|*Appeared on*| *2023-04-06*|\n",
       "|*Comments*| *17 pages, 12 figures, 2 table, accepted for publication in RAA*|\n",
       "|**Abstract**| The binary systems consisting of a Be star and a white dwarf (BeWDs) are very interesting.They can originate from the binaries composed of a Be star and a subdwarf O or B star (BesdOBs), and they can merge into red giants via luminous red nova or can evolve into double WD potentially detected by $LISA$ mission. Using the method of population synthesis, we investigate the formation and the destiny of BeWDs,and discuss the effects of the metallicity ($Z$) and the common envelope evolution parameters. We find that BesdOBs are significant progenitors of BeWDs. About 30\\% ($Z=0.0001$)-50\\% ($Z=0.02$) of BeWDs come from BesdOBs. About 60\\% ($Z=0.0001$) -70\\% ($Z=0.02$) of BeWDs turn into red giants via a merger between a WD and a non-degenerated star. About 30\\% ($Z=0.0001$) -40\\% ($Z=0.02$) of BeWDs evolve into double WDs which are potential gravitational waves of $LISA$ mission at a frequency band between about $3\\times10^{-3}$ and $3\\times10^{-2}$ Hz. The common envelope evolution parameter introduces an uncertainty with a factor of about 1.3 on BeWD populations in our simulations. |\n",
       "|<p style=\"color:green\"> **ERROR** </p>| <p style=\"color:green\">affiliation error: mpia.affiliation_verifications: 'Heidelberg' keyword not found.</p> |"
      ],
      "text/plain": [
       "<IPython.core.display.Markdown object>"
      ]
     },
     "metadata": {},
     "output_type": "display_data"
    }
   ],
   "source": [
    "import datetime\n",
    "today = str(datetime.date.today())\n",
    "logfile = f\"_build/html/logs/log-{today}.md\"\n",
    "\n",
    "\n",
    "with open(logfile, 'w') as logs:\n",
    "    # Success\n",
    "    logs.write(f'# Arxiv on Deck 2: Logs - {today}\\n\\n')\n",
    "    logs.write(\"\"\"* Arxiv had {0:,d} new papers\\n\"\"\".format(len(new_papers)))\n",
    "    logs.write(\"\"\"    * {0:,d} with possible author matches\\n\\n\"\"\".format(len(candidates)))\n",
    "    logs.write(\"## Sucessful papers\\n\\n\")\n",
    "    display(Markdown(\"## Successful papers\"))\n",
    "    success = [k[0] for k in documents]\n",
    "    for candid in candidates:\n",
    "        if candid['identifier'].split(':')[-1] in success:\n",
    "            display(candid)\n",
    "            logs.write(candid.generate_markdown_text() + '\\n\\n')\n",
    "\n",
    "    ## failed\n",
    "    logs.write(\"## Failed papers\\n\\n\")\n",
    "    display(Markdown(\"## Failed papers\"))\n",
    "    failed = sorted(failed, key=lambda x: x[1])\n",
    "    current_reason = \"\"\n",
    "    for paper, reason in failed:\n",
    "        if 'affiliation' in reason:\n",
    "            color = 'green'\n",
    "        else:\n",
    "            color = 'red'\n",
    "        data = Markdown(\n",
    "                paper.generate_markdown_text() + \n",
    "                f'\\n|<p style=\"color:{color:s}\"> **ERROR** </p>| <p style=\"color:{color:s}\">{reason:s}</p> |'\n",
    "               )\n",
    "        if reason != current_reason:\n",
    "            logs.write(f'### {reason:s} \\n\\n')\n",
    "            current_reason = reason\n",
    "        logs.write(data.data + '\\n\\n')\n",
    "        \n",
    "        # only display here the important errors (all in logs)\n",
    "        # if color in ('red',):\n",
    "        display(data)"
   ]
  },
  {
   "cell_type": "markdown",
   "id": "472d20ee",
   "metadata": {
    "papermill": {
     "duration": 0.006399,
     "end_time": "2023-04-06T04:06:18.720193",
     "exception": false,
     "start_time": "2023-04-06T04:06:18.713794",
     "status": "completed"
    },
    "tags": []
   },
   "source": [
    "## Export documents\n",
    "\n",
    "We now write the .md files and export relevant images"
   ]
  },
  {
   "cell_type": "code",
   "execution_count": 6,
   "id": "d426aed9",
   "metadata": {
    "execution": {
     "iopub.execute_input": "2023-04-06T04:06:18.733138Z",
     "iopub.status.busy": "2023-04-06T04:06:18.732158Z",
     "iopub.status.idle": "2023-04-06T04:06:18.740711Z",
     "shell.execute_reply": "2023-04-06T04:06:18.740037Z"
    },
    "papermill": {
     "duration": 0.01666,
     "end_time": "2023-04-06T04:06:18.742303",
     "exception": false,
     "start_time": "2023-04-06T04:06:18.725643",
     "status": "completed"
    },
    "tags": []
   },
   "outputs": [],
   "source": [
    "def export_markdown_summary(md: str, md_fname:str, directory: str):\n",
    "    \"\"\"Export MD document and associated relevant images\"\"\"\n",
    "    import os\n",
    "    import shutil\n",
    "    import re\n",
    "\n",
    "    if (os.path.exists(directory) and not os.path.isdir(directory)):\n",
    "        raise RuntimeError(f\"a non-directory file exists with name {directory:s}\")\n",
    "\n",
    "    if (not os.path.exists(directory)):\n",
    "        print(f\"creating directory {directory:s}\")\n",
    "        os.mkdir(directory)\n",
    "\n",
    "    fig_fnames = (re.compile(r'\\[Fig.*\\]\\((.*)\\)').findall(md) + \n",
    "                  re.compile(r'\\<img src=\"([^>\\s]*)\"[^>]*/>').findall(md))\n",
    "    for fname in fig_fnames:\n",
    "        if 'http' in fname:\n",
    "            # No need to copy online figures\n",
    "            continue\n",
    "        destdir = os.path.join(directory, os.path.dirname(fname))\n",
    "        destfname = os.path.join(destdir, os.path.basename(fname))\n",
    "        try:\n",
    "            os.makedirs(destdir)\n",
    "        except FileExistsError:\n",
    "            pass\n",
    "        shutil.copy(fname, destfname)\n",
    "    with open(os.path.join(directory, md_fname), 'w') as fout:\n",
    "        fout.write(md)\n",
    "    print(\"exported in \", os.path.join(directory, md_fname))\n",
    "    [print(\"    + \" + os.path.join(directory,fk)) for fk in fig_fnames]"
   ]
  },
  {
   "cell_type": "code",
   "execution_count": 7,
   "id": "014d04a4",
   "metadata": {
    "execution": {
     "iopub.execute_input": "2023-04-06T04:06:18.755086Z",
     "iopub.status.busy": "2023-04-06T04:06:18.754591Z",
     "iopub.status.idle": "2023-04-06T04:06:18.770054Z",
     "shell.execute_reply": "2023-04-06T04:06:18.769452Z"
    },
    "papermill": {
     "duration": 0.023918,
     "end_time": "2023-04-06T04:06:18.771593",
     "exception": false,
     "start_time": "2023-04-06T04:06:18.747675",
     "status": "completed"
    },
    "tags": []
   },
   "outputs": [
    {
     "name": "stdout",
     "output_type": "stream",
     "text": [
      "exported in  _build/html/2304.02037.md\n",
      "    + _build/html/tmp_2304.02037/./Figures/plots/gbt_obs_v2.png\n",
      "    + _build/html/tmp_2304.02037/./Figures/plots/ring_region_spectra.png\n",
      "    + _build/html/tmp_2304.02037/./Figures/plots/ew_vs_mom2_v2.png\n",
      "exported in  _build/html/2304.02038.md\n"
     ]
    }
   ],
   "source": [
    "for paper_id, md in documents:\n",
    "    export_markdown_summary(md, f\"{paper_id:s}.md\", '_build/html/')"
   ]
  },
  {
   "cell_type": "markdown",
   "id": "f087a0a7",
   "metadata": {
    "papermill": {
     "duration": 0.005679,
     "end_time": "2023-04-06T04:06:18.782880",
     "exception": false,
     "start_time": "2023-04-06T04:06:18.777201",
     "status": "completed"
    },
    "tags": []
   },
   "source": [
    "## Display the papers\n",
    "\n",
    "Not necessary but allows for a quick check."
   ]
  },
  {
   "cell_type": "code",
   "execution_count": 8,
   "id": "fd25f625",
   "metadata": {
    "execution": {
     "iopub.execute_input": "2023-04-06T04:06:18.795443Z",
     "iopub.status.busy": "2023-04-06T04:06:18.794880Z",
     "iopub.status.idle": "2023-04-06T04:06:18.802575Z",
     "shell.execute_reply": "2023-04-06T04:06:18.801824Z"
    },
    "papermill": {
     "duration": 0.015925,
     "end_time": "2023-04-06T04:06:18.804221",
     "exception": false,
     "start_time": "2023-04-06T04:06:18.788296",
     "status": "completed"
    },
    "scrolled": false,
    "tags": []
   },
   "outputs": [
    {
     "data": {
      "text/markdown": [
       "<div class=\"macros\" style=\"visibility:hidden;\">\n",
       "$\\newcommand{\\ensuremath}{}$\n",
       "$\\newcommand{\\xspace}{}$\n",
       "$\\newcommand{\\object}[1]{\\texttt{#1}}$\n",
       "$\\newcommand{\\farcs}{{.}''}$\n",
       "$\\newcommand{\\farcm}{{.}'}$\n",
       "$\\newcommand{\\arcsec}{''}$\n",
       "$\\newcommand{\\arcmin}{'}$\n",
       "$\\newcommand{\\ion}[2]{#1#2}$\n",
       "$\\newcommand{\\textsc}[1]{\\textrm{#1}}$\n",
       "$\\newcommand{\\hl}[1]{\\textrm{#1}}$\n",
       "$\\newcommand{\\footnote}[1]{}$\n",
       "$\\newcommand{\\todo}{\\ifmmode \\text{\\color{red}\\Huge{\\(\\bullet\\)}} \\else{\\color{red}{\\Huge\\bullet}}\\fi}$\n",
       "$\\newcommand{\\comment}[2]{{\\color{gray} #1:~ #2}}$\n",
       "$\\newcommand$\n",
       "$\\newcommand{  \\hi       }{\\ifmmode{\\rm H} \\textsc{i} \\else H \\textsc{i}\\fi}$\n",
       "$\\newcommand$\n",
       "$\\newcommand$\n",
       "$\\newcommand$\n",
       "$\\newcommand$\n",
       "$\\newcommand$\n",
       "$\\newcommand$\n",
       "$\\newcommand$\n",
       "$\\newcommand$\n",
       "$\\newcommand$\n",
       "$\\newcommand{\\vlosmdl}{{V_\\mathrm{los, mdl}}}$\n",
       "$\\newcommand$\n",
       "$\\newcommand$\n",
       "$\\newcommand$\n",
       "$\\newcommand$\n",
       "$\\newcommand$\n",
       "$\\newcommand$\n",
       "$\\newcommand$\n",
       "$\\newcommand{\\uv}{{u{-}v }}$\n",
       "$\\newcommand{\\ubonn}{Argelander-Institut für Astronomie, Universität Bonn, Auf dem Hügel 71, 53121 Bonn, Germany}$\n",
       "$\\newcommand{\\osu}{Department of Astronomy, The Ohio State University, 4055 McPherson Laboratory, 140 West 18th Ave, Columbus, OH 43210, USA}$\n",
       "$\\newcommand{\\oan}{Observatorio Astronómico Nacional (IGN), C/ Alfonso XII, 3, E-28014 Madrid, Spain}$\n",
       "$\\newcommand{\\inaf}{INAF — Osservatorio Astrofisico di Arcetri, Largo E. Fermi 5, I-50125, Florence, Italy}$\n",
       "$\\newcommand{\\mpe}{Max-Planck-Institut für Extraterrestrische Physik (MPE), Giessenbachstr. 1, D-85748 Garching, Germany}$\n",
       "$\\newcommand{\\rechen}{Astronomisches Rechen-Institut, Zentrum f{ü}r Astronomie der Universit{ä}t Heidelberg, M{ö}nchhofstra{\\ss}e 12-14, 69120 Heidelberg, Germany}$\n",
       "$\\newcommand{\\ox}{Sub-department of Astrophysics, Department of Physics, University of Oxford, Keble Road, Oxford OX1 3RH, UK}$\n",
       "$\\newcommand{\\zah}{Universität Heidelberg, Zentrum für Astronomie, Institut für theoretische Astrophysik, Albert-Ueberle-Stra{\\ss}e 2, 69120, Heidelberg, Germany}$\n",
       "$\\newcommand{\\anu}{Research School of Astronomy and Astrophysics, Australian National University, Canberra, ACT 2611, Australia}$\n",
       "$\\newcommand{\\astrothreed}{ARC Centre of Excellence for All Sky Astrophysics in 3 Dimensions (ASTRO 3D), Australia}$\n",
       "$\\newcommand{\\mpia}{Max Planck Institute for Astronomy, Königstuhl 17, D-69117 Heidelberg, Germany}$\n",
       "$\\newcommand{\\hsc}{Centro de Desarrollos Tecnológicos, Observatorio de Yebes (IGN), 19141 Yebes, Guadalajara, Spain}$\n",
       "$\\newcommand{\\zw}{Universität Heidelberg, Interdisziplinäres Zentrum für Wissenschaftliches Rechnen, Im Neuenheimer Feld 205, 69120 Heidelberg, Germany}$\n",
       "$\\newcommand{\\gent}{Sterrenkundig Observatorium, Universiteit Gent, Krijgslaan 281 S9, B-9000 Gent, Belgium}$\n",
       "$\\newcommand{\\iram}{Institut de Radioastronomie Millimétrique (IRAM), 300 Rue de la Piscine, F-38406 Saint Martin d’Hères, France}$\n",
       "$\\newcommand{\\lerma}{LERMA, Observatoire de Paris, PSL Research University, CNRS, Sorbonne Universités, 75014 Paris, France}$\n",
       "$\\newcommand{\\ucsd}{Center for Astrophysics and Space Sciences, Department of Physics, University of California San Diego, 9500 Gilman Drive, La Jolla, CA 92093, USA}$\n",
       "$\\newcommand{\\mmu}{Department of Physics and Astronomy, McMaster University, 1280 Main Street West, Hamilton, ON L8S 4M1, Canada}$\n",
       "$\\newcommand{\\cita}{Canadian Institute for Theoretical Astrophysics (CITA), University of Toronto, 60 St George Street, Toronto, ON M5S 3H8, Canada}$\n",
       "$\\newcommand{\\wyo}{Department of Physics \\& Astronomy, University of Wyoming, Laramie, WY, 82071, USA}$\n",
       "$\\newcommand{\\alb}{Dept. of Physics, University of Alberta, Edmonton, Alberta, Canada T6G 2E1}$\n",
       "$\\newcommand{\\cape}{Department of Astronomy, University of Cape Town, Private Bag X3, Rondebosch 7701, South Africa}$\n",
       "$\\newcommand{\\westv}{Department of Physics and Astronomy, West Virginia University, White Hall, Box 6315, Morgantown, WV 26506, USA}$\n",
       "$\\newcommand{\\westvg}{Center for Gravitational Waves and Cosmology, West Virginia University, Chestnut Ridge Research Building, Morgantown, WV 26505, USA}$\n",
       "$\\newcommand{\\eso}{European Southern Observatory, Karl-Schwarzschild Straße 2, D-85748 Garching bei M{ü}nchen, Germany}$\n",
       "$\\newcommand{\\ulyon}{Univ Lyon, Univ Lyon1, ENS de Lyon, CNRS, Centre de Recherche Astrophysique de Lyon UMR5574, F-69230 Saint-Genis-Laval France}$\n",
       "$\\newcommand{\\cfa}{Center for Astrophysics, Harvard \\& Smithsonian, 60 Garden St., 02138 Cambridge, MA, USA}$\n",
       "$\\newcommand{\\hopk}{Department of Physics \\& Astronomy, Bloomberg Center for Physics and Astronomy, Johns Hopkins University, 3400 N. Charles Street, Baltimore, MD 21218}$\n",
       "$\\newcommand{\\theoheid}{Institüt  für Theoretische Astrophysik, Zentrum für Astronomie der Universität Heidelberg, Albert-Ueberle-Strasse 2, 69120 Heidelberg, Germany}$\n",
       "$\\newcommand{\\madrid}{Departamento de Fisica de la Tierra y Astrofisica \\& IPARCOS, Facultad de CC Fisicas, Universidad Complutense de Madrid, 28040, Madrid, Spain}$\n",
       "$\\newcommand{\\cool}{Cosmic Origins Of Life (COOL) Research DAO, coolresearch.io}$\n",
       "$\\newcommand{\\eff}{Max-Planck-Institut für Radioastronomie, Radioobservatorium Effelsberg, Max-Planck-Strasse 28, Germany}$\n",
       "$\\newcommand{\\nrao}{National Radio Astronomy Observatory, 1003 Lopezville Road, Socorro, NM 87801, USA}$\n",
       "$\\newcommand{\\nraoc}{National Radio Astronomy Observatory, 520 Edgemont Rd, Charlottesville, VA 22903, USA}$\n",
       "$\\newcommand{\\astron}{Netherlands Institute for Radio Astronomy (ASTRON),  Oude Hoogeveensedijk 4, 7991 PD Dwingeloo, Netherlands}$\n",
       "$\\newcommand{\\kapeyn}{Kapteyn Astronomical Institute, University of Groningen, PO Box 800, 9700 AV Groningen, The Netherlands}$\n",
       "$\\newcommand{\\uct}{Department of Astronomy, University of Cape Town, Private Bag X3, 7701 Rondebosch, South Africa}$\n",
       "$\\newcommand{\\liverpool}{Astrophysics Research Institute, Liverpool John Moores University, 146 Brownlow Hill, Liverpool L3 5RF, UK}$\n",
       "$\\newcommand{\\equationautorefname}{Eq.}$\n",
       "$\\newcommand{\\sectionautorefname}{Section}$\n",
       "$\\newcommand{\\subsectionautorefname}{Section}$\n",
       "$\\newcommand{\\subsubsectionautorefname}{Section}$\n",
       "$\\newcommand{\\arraystretch}{1.0}$</div>\n",
       "\n",
       "\n",
       "\n",
       "<div id=\"title\">\n",
       "\n",
       "# Kinematic analysis of the super-extended HI disk of the nearby spiral galaxy M 83$\\thanks{Based on observations carried out with the Karl G. Jansky Very Large Array (VLA). The National Radio Astronomy Observatory is a facility of the National Science Foundation operated under cooperative agreement by Associated Universities, Inc.}$\n",
       "\n",
       "</div>\n",
       "<div id=\"comments\">\n",
       "\n",
       "[![arXiv](https://img.shields.io/badge/arXiv-2304.02037-b31b1b.svg)](https://arxiv.org/abs/2304.02037)<mark>Appeared on: 2023-04-06</mark> -  _accepted for publication in A&A; 16 pages, 12 figures (+8 pages appendix)_\n",
       "\n",
       "</div>\n",
       "<div id=\"authors\">\n",
       "\n",
       "C. Eibensteiner, et al. -- incl., <mark>E. Schinnerer</mark>, <mark>S. Stuber</mark>\n",
       "\n",
       "</div>\n",
       "<div id=\"abstract\">\n",
       "\n",
       "**Abstract:** We present new $\\hi$ observations of the nearby massive spiral galaxy $\\gal$ taken with the VLA at $21\\arcsec$ angular resolution ( $\\approx500$ pc) of an extended ( $\\sim$ 1.5 deg $^2$ ) 10-point mosaic combined with GBT single dish data. We study the super-extended $\\hi$ disk of M83 ( ${\\sim}$ 50 kpc in radius), in particular disc kinematics, rotation and the turbulent nature of the atomic interstellar medium. We define distinct regions in the outer disk ( $r_{\\rm gal}>$ central optical disk), including ring, southern area, and southern and northern arm. We examine $\\hi$ gas surface density, velocity dispersion and non-circular motions in the outskirts, which we compare to the inner optical disk. We find an increase of velocity dispersion ( $\\sigma_v$ ) towards the pronounced $\\hi$ ring, indicative of more turbulent $\\hi$ gas. Additionally, we report over a large galactocentric radius range (until $r_{\\rm gal}{\\sim}$ 50 kpc) that $\\sigma_v$ is slightly larger than thermal (i.e. $>8$ $\\kms$ ). We find that a higher star formation rate (as traced by FUV emission) is not always necessarily associated with a higher $\\hi$ velocity dispersion, suggesting that radial transport could be a dominant driver for the enhanced velocity dispersion. We further find a possible branch that connects the extended $\\hi$ disk to the dwarf irregular galaxy UGCA 365, that deviates from the general direction of the northern arm.  Lastly, we compare mass flow rate profiles (based on 2D and 3D tilted ring models) and find evidence for outflowing gas at r $_{\\rm gal}$ $\\sim$ 2 kpc, inflowing gas at r $_{\\rm gal}$ $\\sim$ 5.5 kpc and outflowing gas at r $_{\\rm gal}$ $\\sim$ 14 kpc. We caution that mass flow rates are highly sensitive to the assumed kinematic disk parameters, in particular, to the inclination.\n",
       "\n",
       "</div>\n",
       "\n",
       "<div id=\"div_fig1\">\n",
       "\n",
       "<img src=\"tmp_2304.02037/./Figures/plots/gbt_obs_v2.png\" alt=\"Fig1\" width=\"100%\"/>\n",
       "\n",
       "**Figure 1. -** We show here the integrated intensity map of the GBT observation with white contours showing the field of view of the VLA observation. We denote the companion galaxies UGCA 365 and NGC 5264. The $\\hi$ emission of UGCA 365 is faint relative to \\gal(${\\sim}$10 K km s$^{-1}$ compared to ${\\sim}$400 K km s$^{-1}$).  (*fig:gbt*)\n",
       "\n",
       "</div>\n",
       "<div id=\"div_fig2\">\n",
       "\n",
       "<img src=\"tmp_2304.02037/./Figures/plots/ring_region_spectra.png\" alt=\"Fig2\" width=\"100%\"/>\n",
       "\n",
       "**Figure 2. -** Examples of four spectra of individual line of sights that show higher values in the velocity map. These show the multi-component behavior of the spectra. (*app:spectra_ring_region*)\n",
       "\n",
       "</div>\n",
       "<div id=\"div_fig3\">\n",
       "\n",
       "<img src=\"tmp_2304.02037/./Figures/plots/ew_vs_mom2_v2.png\" alt=\"Fig3\" width=\"100%\"/>\n",
       "\n",
       "**Figure 3. -**  Comparison of two approaches to determine the velocity dispersion. In all panels, the y-axes show the \\sigmom  and the x-axes the \\sigeff values colored by the regions defined within this work (see the mask in \\autoref{fig:diff_reg}). Only the upper left panel shows the x and y axes in linear scale, all the others are in log scale. We show linear regression fits between \\sigmom  and \\sigeff for the central disk (yellow), ring (orange), southern area (red), southern arm (purple), and northern arm (black). We see the highest scatter in \\sigmom in the ring region of ${\\sim}2.5$dex. This is likely to represent a multi-component spectrum. (*fig:ew_vs_mom2*)\n",
       "\n",
       "</div><div id=\"qrcode\"><img src=https://api.qrserver.com/v1/create-qr-code/?size=100x100&data=\"https://arxiv.org/abs/2304.02037\"></div>"
      ],
      "text/plain": [
       "<IPython.core.display.Markdown object>"
      ]
     },
     "metadata": {},
     "output_type": "display_data"
    },
    {
     "data": {
      "text/markdown": [
       "<div class=\"macros\" style=\"visibility:hidden;\">\n",
       "$\\newcommand{\\ensuremath}{}$\n",
       "$\\newcommand{\\xspace}{}$\n",
       "$\\newcommand{\\object}[1]{\\texttt{#1}}$\n",
       "$\\newcommand{\\farcs}{{.}''}$\n",
       "$\\newcommand{\\farcm}{{.}'}$\n",
       "$\\newcommand{\\arcsec}{''}$\n",
       "$\\newcommand{\\arcmin}{'}$\n",
       "$\\newcommand{\\ion}[2]{#1#2}$\n",
       "$\\newcommand{\\textsc}[1]{\\textrm{#1}}$\n",
       "$\\newcommand{\\hl}[1]{\\textrm{#1}}$\n",
       "$\\newcommand{\\footnote}[1]{}$\n",
       "$\\newcommand{\\PG}[1]{{\\color{red} \\bf #1}}$\n",
       "$\\newcommand{\\PGADD}[1]{{   #1}}$\n",
       "$\\newcommand{\\TRC}[1]{{\\color{green} \\bf[TRC:  #1]}}$\n",
       "$\\newcommand{\\RS}[1]{{\\color{blue}\\bf[RS:  #1]}}$\n",
       "$\\newcommand{\\mgh}[1]{{\\color{magenta}\\bf[MGH:  #1]}}$\n",
       "$\\newcommand{\\WHITE}[1]{{\\color{white} \\bf   #1}}$\n",
       "$\\newcommand{\\RED}[1]{{\\color{red} \\bf   #1}}$\n",
       "$\\newcommand{\\GREEN}[1]{{\\color{OliveGreen} \\bf   #1}}$\n",
       "$\\newcommand{\\BLUE}[1]{{\\color{blue} \\bf   #1}}$\n",
       "$\\newcommand{\\MAGENTA}[1]{{\\color{magenta} \\bf   #1}}$</div>\n",
       "\n",
       "\n",
       "\n",
       "<div id=\"title\">\n",
       "\n",
       "# Measuring the photo-ionization rate, neutral fraction and mean free path of HI ionizingphotons at $\\zrange{4.9}{6.0}$ from a large sample of XShooter and ESI spectra $\\vspace{-6mm}$\n",
       "\n",
       "</div>\n",
       "<div id=\"comments\">\n",
       "\n",
       "[![arXiv](https://img.shields.io/badge/arXiv-2304.02038-b31b1b.svg)](https://arxiv.org/abs/2304.02038)<mark>Appeared on: 2023-04-06</mark> -  _30 pages (+14 pages appendices), 14 figures (+18 figures appendices); submitted to MNRAS; Main results are summarized in Fig. 10, Fig. 11 and Table 3_\n",
       "\n",
       "</div>\n",
       "<div id=\"authors\">\n",
       "\n",
       "<mark>P. Gaikwad</mark>, et al. -- incl., <mark>F. Nasir</mark>\n",
       "\n",
       "</div>\n",
       "<div id=\"abstract\">\n",
       "\n",
       "**Abstract:** We measure the mean free path ( $\\lambda_{\\rm mfp,HI}$ ), photo-ionization rate( $\\langle \\Gamma_{\\rm HI} \\rangle$ ) and neutral fraction ( $\\langle f_{\\rm HI}\\rangle$ ) of hydrogen in 12 redshift bins at $4.85<z<6.05$ from a large sampleof moderate resolution XShooter and ESI QSO absorption spectra. Thefluctuations in ionizing radiation field are modeled by post-processingsimulations from the $\\sherwood$ suite using our new code\"EXtended reionization based on the Code for Ionization and Temperature Evolution\"( ${\\sc ex-cite}$ ). ${\\sc ex-cite}$ uses efficient Octree summation for computingintergalactic medium attenuation and can generate large number of highresolution $\\GHI$ fluctuation models. Our simulation with ${\\sc ex-cite}$ showsremarkable agreement with simulations performed with the radiative transfercode $\\aton$ and can recover the simulated parameters within $1\\sigma$ uncertainty.  We measure the three parameters by forward-modeling the $\\lya$ forest and comparing the effective optical depth ( $\\tau_{\\rm eff, HI}$ ) distribution insimulations and observations. The final uncertainties in our measuredparameters account for the uncertainties due to thermal parameters, modelingparameters, observational systematics and cosmic variance. Our best fitparameters show significant evolution with redshift such that $\\lambda_{\\rmmfp,HI}$ and $\\langle f_{\\rm HI} \\rangle$ decreases and increases by a factor $\\sim 6$ and $\\sim 10^{4}$ , respectively from $z \\sim 5$ to $z \\sim 6$ . Bycomparing our $\\lambda_{\\rm mfp,HI}$ , $\\langle \\Gamma_{\\rm HI} \\rangle$ and $\\langle f_{\\rm HI} \\rangle$ evolution with that in state-of-the-art $\\aton$ radiative transfer simulations and the $\\thesan$ and $\\codathree$ simulations, wefind that our best fit parameter evolution is consistent with a model in whichreionization completes by $z \\sim 5.2$ .  In our best fit model, the neutralislands  persist down to $z \\sim 5.2$ giving rise to the long dark troughs seenin the observed spectra. Our best fit model that matches the $\\tau_{\\rm eff, HI}$ distribution also reproduces the dark gap length distribution and transmissionspike height distribution suggesting  robustness and accuracy of our measuredparameters.\n",
       "\n",
       "</div>\n",
       "\n",
       "<div id=\"qrcode\"><img src=https://api.qrserver.com/v1/create-qr-code/?size=100x100&data=\"https://arxiv.org/abs/2304.02038\"></div>"
      ],
      "text/plain": [
       "<IPython.core.display.Markdown object>"
      ]
     },
     "metadata": {},
     "output_type": "display_data"
    }
   ],
   "source": [
    "[display(Markdown(k[1])) for k in documents];"
   ]
  },
  {
   "cell_type": "markdown",
   "id": "873873a4",
   "metadata": {
    "papermill": {
     "duration": 0.005736,
     "end_time": "2023-04-06T04:06:18.815932",
     "exception": false,
     "start_time": "2023-04-06T04:06:18.810196",
     "status": "completed"
    },
    "tags": []
   },
   "source": [
    "# Create HTML index"
   ]
  },
  {
   "cell_type": "code",
   "execution_count": 9,
   "id": "cf665672",
   "metadata": {
    "execution": {
     "iopub.execute_input": "2023-04-06T04:06:18.829594Z",
     "iopub.status.busy": "2023-04-06T04:06:18.828939Z",
     "iopub.status.idle": "2023-04-06T04:06:18.839282Z",
     "shell.execute_reply": "2023-04-06T04:06:18.838533Z"
    },
    "papermill": {
     "duration": 0.019213,
     "end_time": "2023-04-06T04:06:18.840940",
     "exception": false,
     "start_time": "2023-04-06T04:06:18.821727",
     "status": "completed"
    },
    "tags": []
   },
   "outputs": [
    {
     "name": "stdout",
     "output_type": "stream",
     "text": [
      "185  publications files modified in the last 7 days.\n"
     ]
    }
   ],
   "source": [
    "from datetime import datetime, timedelta, timezone\n",
    "from glob import glob\n",
    "import os\n",
    "\n",
    "files = glob('_build/html/*.md')\n",
    "days = 7\n",
    "now = datetime.today()\n",
    "res = []\n",
    "for fk in files:\n",
    "    stat_result = os.stat(fk).st_ctime\n",
    "    modified = datetime.fromtimestamp(stat_result, tz=timezone.utc).replace(tzinfo=None)\n",
    "    delta = now.today() - modified\n",
    "    if delta <= timedelta(days=days):\n",
    "        res.append((delta.seconds, fk))\n",
    "res = [k[1] for k in reversed(sorted(res, key=lambda x:x[1]))]\n",
    "npub = len(res)\n",
    "print(len(res), f\" publications files modified in the last {days:d} days.\")\n",
    "# [ print('\\t', k) for k in res ];"
   ]
  },
  {
   "cell_type": "code",
   "execution_count": 10,
   "id": "015de740",
   "metadata": {
    "execution": {
     "iopub.execute_input": "2023-04-06T04:06:18.854973Z",
     "iopub.status.busy": "2023-04-06T04:06:18.854084Z",
     "iopub.status.idle": "2023-04-06T04:06:18.871499Z",
     "shell.execute_reply": "2023-04-06T04:06:18.870715Z"
    },
    "papermill": {
     "duration": 0.026256,
     "end_time": "2023-04-06T04:06:18.873178",
     "exception": false,
     "start_time": "2023-04-06T04:06:18.846922",
     "status": "completed"
    },
    "tags": []
   },
   "outputs": [
    {
     "name": "stdout",
     "output_type": "stream",
     "text": [
      "7  publications in the last 7 days.\n"
     ]
    }
   ],
   "source": [
    "import datetime\n",
    "from glob import glob\n",
    "\n",
    "def get_last_n_days(lst, days=1):\n",
    "    \"\"\" Get the documents from the last n days \"\"\"\n",
    "    sorted_lst = sorted(lst, key=lambda x: x[1], reverse=True)\n",
    "    for fname, date in sorted_lst:\n",
    "        if date >= str(datetime.date.today() - datetime.timedelta(days=days)):\n",
    "            yield fname\n",
    "\n",
    "def extract_appearance_dates(lst_file):\n",
    "    dates = []\n",
    "\n",
    "    def get_date(line):\n",
    "        return line\\\n",
    "            .split('Appeared on:')[-1]\\\n",
    "            .split('</mark>')[0].strip()\n",
    "\n",
    "    for fname in lst:\n",
    "        with open(fname, 'r') as f:\n",
    "            found_date = False\n",
    "            for line in f:\n",
    "                if not found_date:\n",
    "                    if \"Appeared on\" in line:\n",
    "                        found_date = True\n",
    "                        dates.append((fname, get_date(line)))\n",
    "                else:\n",
    "                    break\n",
    "    return dates\n",
    "\n",
    "from glob import glob\n",
    "lst = glob('_build/html/*md')\n",
    "days = 7\n",
    "dates = extract_appearance_dates(lst)\n",
    "res = list(get_last_n_days(dates, days))\n",
    "npub = len(res)\n",
    "print(len(res), f\" publications in the last {days:d} days.\")"
   ]
  },
  {
   "cell_type": "code",
   "execution_count": 11,
   "id": "52ca0208",
   "metadata": {
    "execution": {
     "iopub.execute_input": "2023-04-06T04:06:18.887893Z",
     "iopub.status.busy": "2023-04-06T04:06:18.887108Z",
     "iopub.status.idle": "2023-04-06T04:06:18.894906Z",
     "shell.execute_reply": "2023-04-06T04:06:18.894078Z"
    },
    "papermill": {
     "duration": 0.017033,
     "end_time": "2023-04-06T04:06:18.896550",
     "exception": false,
     "start_time": "2023-04-06T04:06:18.879517",
     "status": "completed"
    },
    "scrolled": false,
    "tags": []
   },
   "outputs": [],
   "source": [
    "def create_carousel(npub=4):\n",
    "    \"\"\" Generate the HTML code for a carousel with `npub` slides \"\"\"\n",
    "    carousel = [\"\"\"  <div class=\"carousel\" \"\"\",\n",
    "                \"\"\"       data-flickity='{ \"autoPlay\": 10000, \"adaptiveHeight\": true, \"resize\": true, \"wrapAround\": true, \"pauseAutoPlayOnHover\": true, \"groupCells\": 1 }' id=\"asyncTypeset\">\"\"\"\n",
    "                ]\n",
    "    \n",
    "    item_str = \"\"\"    <div class=\"carousel-cell\"> <div id=\"slide{k}\" class=\"md_view\">Content {k}</div> </div>\"\"\"\n",
    "    for k in range(1, npub + 1):\n",
    "        carousel.append(item_str.format(k=k))\n",
    "    carousel.append(\"  </div>\")\n",
    "    return '\\n'.join(carousel)\n",
    "\n",
    "def create_grid(npub=4):\n",
    "    \"\"\" Generate the HTML code for a flat grid with `npub` slides \"\"\"\n",
    "    grid = [\"\"\"  <div class=\"grid\"> \"\"\",\n",
    "                ]\n",
    "    \n",
    "    item_str = \"\"\"    <div class=\"grid-item\"> <div id=\"slide{k}\" class=\"md_view\">Content {k}</div> </div>\"\"\"\n",
    "    for k in range(1, npub + 1):\n",
    "        grid.append(item_str.format(k=k))\n",
    "    grid.append(\"  </div>\")\n",
    "    return '\\n'.join(grid)"
   ]
  },
  {
   "cell_type": "code",
   "execution_count": 12,
   "id": "a6eac5b6",
   "metadata": {
    "execution": {
     "iopub.execute_input": "2023-04-06T04:06:18.910743Z",
     "iopub.status.busy": "2023-04-06T04:06:18.909939Z",
     "iopub.status.idle": "2023-04-06T04:06:18.916204Z",
     "shell.execute_reply": "2023-04-06T04:06:18.915591Z"
    },
    "papermill": {
     "duration": 0.015188,
     "end_time": "2023-04-06T04:06:18.917811",
     "exception": false,
     "start_time": "2023-04-06T04:06:18.902623",
     "status": "completed"
    },
    "scrolled": false,
    "tags": []
   },
   "outputs": [],
   "source": [
    "carousel = create_carousel(npub)\n",
    "docs = ', '.join(['\"{0:s}\"'.format(k.split('/')[-1]) for k in res])\n",
    "slides = ', '.join([f'\"slide{k}\"' for k in range(1, npub + 1)])\n",
    "\n",
    "with open(\"daily_template.html\", \"r\") as tpl:\n",
    "    page = tpl.read()\n",
    "    page = page.replace(\"{%-- carousel:s --%}\", carousel)\\\n",
    "               .replace(\"{%-- suptitle:s --%}\",  \"7-day archives\" )\\\n",
    "               .replace(\"{%-- docs:s --%}\", docs)\\\n",
    "               .replace(\"{%-- slides:s --%}\", slides)\n",
    "    \n",
    "with open(\"_build/html/index_7days.html\", 'w') as fout:\n",
    "    fout.write(page)"
   ]
  },
  {
   "cell_type": "code",
   "execution_count": 13,
   "id": "adc1a1ec",
   "metadata": {
    "execution": {
     "iopub.execute_input": "2023-04-06T04:06:18.932167Z",
     "iopub.status.busy": "2023-04-06T04:06:18.931639Z",
     "iopub.status.idle": "2023-04-06T04:06:18.939653Z",
     "shell.execute_reply": "2023-04-06T04:06:18.939080Z"
    },
    "papermill": {
     "duration": 0.01703,
     "end_time": "2023-04-06T04:06:18.941110",
     "exception": false,
     "start_time": "2023-04-06T04:06:18.924080",
     "status": "completed"
    },
    "tags": []
   },
   "outputs": [
    {
     "name": "stdout",
     "output_type": "stream",
     "text": [
      "3  publications in the last day.\n"
     ]
    }
   ],
   "source": [
    "# redo for today\n",
    "days = 1\n",
    "res = list(get_last_n_days(dates, days))\n",
    "npub = len(res)\n",
    "print(len(res), f\" publications in the last day.\")\n",
    "\n",
    "carousel = create_carousel(npub)\n",
    "docs = ', '.join(['\"{0:s}\"'.format(k.split('/')[-1]) for k in res])\n",
    "slides = ', '.join([f'\"slide{k}\"' for k in range(1, npub + 1)])\n",
    "\n",
    "with open(\"daily_template.html\", \"r\") as tpl:\n",
    "    page = tpl.read()\n",
    "    page = page.replace(\"{%-- carousel:s --%}\", carousel)\\\n",
    "               .replace(\"{%-- suptitle:s --%}\",  \"Daily\" )\\\n",
    "               .replace(\"{%-- docs:s --%}\", docs)\\\n",
    "               .replace(\"{%-- slides:s --%}\", slides)\n",
    "    \n",
    "# print(carousel, docs, slides)\n",
    "# print(page)\n",
    "with open(\"_build/html/index_daily.html\", 'w') as fout:\n",
    "    fout.write(page)"
   ]
  },
  {
   "cell_type": "code",
   "execution_count": 14,
   "id": "00eece82",
   "metadata": {
    "execution": {
     "iopub.execute_input": "2023-04-06T04:06:18.955896Z",
     "iopub.status.busy": "2023-04-06T04:06:18.955289Z",
     "iopub.status.idle": "2023-04-06T04:06:18.963013Z",
     "shell.execute_reply": "2023-04-06T04:06:18.962446Z"
    },
    "papermill": {
     "duration": 0.017064,
     "end_time": "2023-04-06T04:06:18.964550",
     "exception": false,
     "start_time": "2023-04-06T04:06:18.947486",
     "status": "completed"
    },
    "scrolled": false,
    "tags": []
   },
   "outputs": [
    {
     "name": "stdout",
     "output_type": "stream",
     "text": [
      "6  6 publications selected.\n"
     ]
    }
   ],
   "source": [
    "# Create the flat grid of the last N papers (fixed number regardless of dates)\n",
    "from itertools import islice \n",
    "\n",
    "npub = 6\n",
    "res = [k[0] for k in (islice(reversed(sorted(dates, key=lambda x: x[1])), 6))]\n",
    "print(len(res), f\" {npub} publications selected.\")\n",
    "\n",
    "grid = create_grid(npub)\n",
    "docs = ', '.join(['\"{0:s}\"'.format(k.split('/')[-1]) for k in res])\n",
    "slides = ', '.join([f'\"slide{k}\"' for k in range(1, npub + 1)])\n",
    "\n",
    "with open(\"grid_template.html\", \"r\") as tpl:\n",
    "    page = tpl.read()\n",
    "    page = page.replace(\"{%-- grid-content:s --%}\", grid)\\\n",
    "               .replace(\"{%-- suptitle:s --%}\",  f\"Last {npub:,d} papers\" )\\\n",
    "               .replace(\"{%-- docs:s --%}\", docs)\\\n",
    "               .replace(\"{%-- slides:s --%}\", slides)\n",
    "    \n",
    "# print(grid, docs, slides)\n",
    "# print(page)\n",
    "with open(\"_build/html/index_npub_grid.html\", 'w') as fout:\n",
    "    fout.write(page)"
   ]
  }
 ],
 "metadata": {
  "kernelspec": {
   "display_name": "Python 3 (ipykernel)",
   "language": "python",
   "name": "python3"
  },
  "language_info": {
   "codemirror_mode": {
    "name": "ipython",
    "version": 3
   },
   "file_extension": ".py",
   "mimetype": "text/x-python",
   "name": "python",
   "nbconvert_exporter": "python",
   "pygments_lexer": "ipython3",
   "version": "3.9.16"
  },
  "papermill": {
   "default_parameters": {},
   "duration": 72.865817,
   "end_time": "2023-04-06T04:06:19.404246",
   "environment_variables": {},
   "exception": null,
   "input_path": "MPIA daily digest.ipynb",
   "output_path": "log.ipynb",
   "parameters": {},
   "start_time": "2023-04-06T04:05:06.538429",
   "version": "2.4.0"
  },
  "vscode": {
   "interpreter": {
    "hash": "aee8b7b246df8f9039afb4144a1f6fd8d2ca17a180786b69acc140d282b71a49"
   }
  },
  "widgets": {
   "application/vnd.jupyter.widget-state+json": {
    "state": {
     "24f65275e3a44aa39c560099e18bfac3": {
      "model_module": "@jupyter-widgets/controls",
      "model_module_version": "2.0.0",
      "model_name": "HBoxModel",
      "state": {
       "_dom_classes": [],
       "_model_module": "@jupyter-widgets/controls",
       "_model_module_version": "2.0.0",
       "_model_name": "HBoxModel",
       "_view_count": null,
       "_view_module": "@jupyter-widgets/controls",
       "_view_module_version": "2.0.0",
       "_view_name": "HBoxView",
       "box_style": "",
       "children": [
        "IPY_MODEL_8248d6526e9848c58098642577d458a6",
        "IPY_MODEL_6c18ade617c340bbb7c52abb6a4144fe",
        "IPY_MODEL_b5ad39389695482d9ff6ad2c1e3c275f"
       ],
       "layout": "IPY_MODEL_c6e7ecdafc0243f99d3cd6180bca04e2",
       "tabbable": null,
       "tooltip": null
      }
     },
     "2d7244992e43407d8fdb44b733543196": {
      "model_module": "@jupyter-widgets/base",
      "model_module_version": "2.0.0",
      "model_name": "LayoutModel",
      "state": {
       "_model_module": "@jupyter-widgets/base",
       "_model_module_version": "2.0.0",
       "_model_name": "LayoutModel",
       "_view_count": null,
       "_view_module": "@jupyter-widgets/base",
       "_view_module_version": "2.0.0",
       "_view_name": "LayoutView",
       "align_content": null,
       "align_items": null,
       "align_self": null,
       "border_bottom": null,
       "border_left": null,
       "border_right": null,
       "border_top": null,
       "bottom": null,
       "display": null,
       "flex": null,
       "flex_flow": null,
       "grid_area": null,
       "grid_auto_columns": null,
       "grid_auto_flow": null,
       "grid_auto_rows": null,
       "grid_column": null,
       "grid_gap": null,
       "grid_row": null,
       "grid_template_areas": null,
       "grid_template_columns": null,
       "grid_template_rows": null,
       "height": null,
       "justify_content": null,
       "justify_items": null,
       "left": null,
       "margin": null,
       "max_height": null,
       "max_width": null,
       "min_height": null,
       "min_width": null,
       "object_fit": null,
       "object_position": null,
       "order": null,
       "overflow": null,
       "padding": null,
       "right": null,
       "top": null,
       "visibility": null,
       "width": null
      }
     },
     "40d4507ebcbc40449b0eb820d92f1ae9": {
      "model_module": "@jupyter-widgets/controls",
      "model_module_version": "2.0.0",
      "model_name": "ProgressStyleModel",
      "state": {
       "_model_module": "@jupyter-widgets/controls",
       "_model_module_version": "2.0.0",
       "_model_name": "ProgressStyleModel",
       "_view_count": null,
       "_view_module": "@jupyter-widgets/base",
       "_view_module_version": "2.0.0",
       "_view_name": "StyleView",
       "bar_color": null,
       "description_width": ""
      }
     },
     "6c18ade617c340bbb7c52abb6a4144fe": {
      "model_module": "@jupyter-widgets/controls",
      "model_module_version": "2.0.0",
      "model_name": "FloatProgressModel",
      "state": {
       "_dom_classes": [],
       "_model_module": "@jupyter-widgets/controls",
       "_model_module_version": "2.0.0",
       "_model_name": "FloatProgressModel",
       "_view_count": null,
       "_view_module": "@jupyter-widgets/controls",
       "_view_module_version": "2.0.0",
       "_view_name": "ProgressView",
       "bar_style": "success",
       "description": "",
       "description_allow_html": false,
       "layout": "IPY_MODEL_9bb0a3de5dc5483cb5ee4fb611200dd8",
       "max": 4.0,
       "min": 0.0,
       "orientation": "horizontal",
       "style": "IPY_MODEL_40d4507ebcbc40449b0eb820d92f1ae9",
       "tabbable": null,
       "tooltip": null,
       "value": 4.0
      }
     },
     "7342252b126d44ae9a6a31cafbacbab6": {
      "model_module": "@jupyter-widgets/controls",
      "model_module_version": "2.0.0",
      "model_name": "HTMLStyleModel",
      "state": {
       "_model_module": "@jupyter-widgets/controls",
       "_model_module_version": "2.0.0",
       "_model_name": "HTMLStyleModel",
       "_view_count": null,
       "_view_module": "@jupyter-widgets/base",
       "_view_module_version": "2.0.0",
       "_view_name": "StyleView",
       "background": null,
       "description_width": "",
       "font_size": null,
       "text_color": null
      }
     },
     "8248d6526e9848c58098642577d458a6": {
      "model_module": "@jupyter-widgets/controls",
      "model_module_version": "2.0.0",
      "model_name": "HTMLModel",
      "state": {
       "_dom_classes": [],
       "_model_module": "@jupyter-widgets/controls",
       "_model_module_version": "2.0.0",
       "_model_name": "HTMLModel",
       "_view_count": null,
       "_view_module": "@jupyter-widgets/controls",
       "_view_module_version": "2.0.0",
       "_view_name": "HTMLView",
       "description": "",
       "description_allow_html": false,
       "layout": "IPY_MODEL_dfb0081514dd451f9b4337b33e95a079",
       "placeholder": "​",
       "style": "IPY_MODEL_7342252b126d44ae9a6a31cafbacbab6",
       "tabbable": null,
       "tooltip": null,
       "value": "100%"
      }
     },
     "9bb0a3de5dc5483cb5ee4fb611200dd8": {
      "model_module": "@jupyter-widgets/base",
      "model_module_version": "2.0.0",
      "model_name": "LayoutModel",
      "state": {
       "_model_module": "@jupyter-widgets/base",
       "_model_module_version": "2.0.0",
       "_model_name": "LayoutModel",
       "_view_count": null,
       "_view_module": "@jupyter-widgets/base",
       "_view_module_version": "2.0.0",
       "_view_name": "LayoutView",
       "align_content": null,
       "align_items": null,
       "align_self": null,
       "border_bottom": null,
       "border_left": null,
       "border_right": null,
       "border_top": null,
       "bottom": null,
       "display": null,
       "flex": null,
       "flex_flow": null,
       "grid_area": null,
       "grid_auto_columns": null,
       "grid_auto_flow": null,
       "grid_auto_rows": null,
       "grid_column": null,
       "grid_gap": null,
       "grid_row": null,
       "grid_template_areas": null,
       "grid_template_columns": null,
       "grid_template_rows": null,
       "height": null,
       "justify_content": null,
       "justify_items": null,
       "left": null,
       "margin": null,
       "max_height": null,
       "max_width": null,
       "min_height": null,
       "min_width": null,
       "object_fit": null,
       "object_position": null,
       "order": null,
       "overflow": null,
       "padding": null,
       "right": null,
       "top": null,
       "visibility": null,
       "width": null
      }
     },
     "b5ad39389695482d9ff6ad2c1e3c275f": {
      "model_module": "@jupyter-widgets/controls",
      "model_module_version": "2.0.0",
      "model_name": "HTMLModel",
      "state": {
       "_dom_classes": [],
       "_model_module": "@jupyter-widgets/controls",
       "_model_module_version": "2.0.0",
       "_model_name": "HTMLModel",
       "_view_count": null,
       "_view_module": "@jupyter-widgets/controls",
       "_view_module_version": "2.0.0",
       "_view_name": "HTMLView",
       "description": "",
       "description_allow_html": false,
       "layout": "IPY_MODEL_2d7244992e43407d8fdb44b733543196",
       "placeholder": "​",
       "style": "IPY_MODEL_e7fe02e55422472781f7fa8e443f9ebf",
       "tabbable": null,
       "tooltip": null,
       "value": " 4/4 [00:45&lt;00:00,  7.23s/it]"
      }
     },
     "c6e7ecdafc0243f99d3cd6180bca04e2": {
      "model_module": "@jupyter-widgets/base",
      "model_module_version": "2.0.0",
      "model_name": "LayoutModel",
      "state": {
       "_model_module": "@jupyter-widgets/base",
       "_model_module_version": "2.0.0",
       "_model_name": "LayoutModel",
       "_view_count": null,
       "_view_module": "@jupyter-widgets/base",
       "_view_module_version": "2.0.0",
       "_view_name": "LayoutView",
       "align_content": null,
       "align_items": null,
       "align_self": null,
       "border_bottom": null,
       "border_left": null,
       "border_right": null,
       "border_top": null,
       "bottom": null,
       "display": null,
       "flex": null,
       "flex_flow": null,
       "grid_area": null,
       "grid_auto_columns": null,
       "grid_auto_flow": null,
       "grid_auto_rows": null,
       "grid_column": null,
       "grid_gap": null,
       "grid_row": null,
       "grid_template_areas": null,
       "grid_template_columns": null,
       "grid_template_rows": null,
       "height": null,
       "justify_content": null,
       "justify_items": null,
       "left": null,
       "margin": null,
       "max_height": null,
       "max_width": null,
       "min_height": null,
       "min_width": null,
       "object_fit": null,
       "object_position": null,
       "order": null,
       "overflow": null,
       "padding": null,
       "right": null,
       "top": null,
       "visibility": null,
       "width": null
      }
     },
     "dfb0081514dd451f9b4337b33e95a079": {
      "model_module": "@jupyter-widgets/base",
      "model_module_version": "2.0.0",
      "model_name": "LayoutModel",
      "state": {
       "_model_module": "@jupyter-widgets/base",
       "_model_module_version": "2.0.0",
       "_model_name": "LayoutModel",
       "_view_count": null,
       "_view_module": "@jupyter-widgets/base",
       "_view_module_version": "2.0.0",
       "_view_name": "LayoutView",
       "align_content": null,
       "align_items": null,
       "align_self": null,
       "border_bottom": null,
       "border_left": null,
       "border_right": null,
       "border_top": null,
       "bottom": null,
       "display": null,
       "flex": null,
       "flex_flow": null,
       "grid_area": null,
       "grid_auto_columns": null,
       "grid_auto_flow": null,
       "grid_auto_rows": null,
       "grid_column": null,
       "grid_gap": null,
       "grid_row": null,
       "grid_template_areas": null,
       "grid_template_columns": null,
       "grid_template_rows": null,
       "height": null,
       "justify_content": null,
       "justify_items": null,
       "left": null,
       "margin": null,
       "max_height": null,
       "max_width": null,
       "min_height": null,
       "min_width": null,
       "object_fit": null,
       "object_position": null,
       "order": null,
       "overflow": null,
       "padding": null,
       "right": null,
       "top": null,
       "visibility": null,
       "width": null
      }
     },
     "e7fe02e55422472781f7fa8e443f9ebf": {
      "model_module": "@jupyter-widgets/controls",
      "model_module_version": "2.0.0",
      "model_name": "HTMLStyleModel",
      "state": {
       "_model_module": "@jupyter-widgets/controls",
       "_model_module_version": "2.0.0",
       "_model_name": "HTMLStyleModel",
       "_view_count": null,
       "_view_module": "@jupyter-widgets/base",
       "_view_module_version": "2.0.0",
       "_view_name": "StyleView",
       "background": null,
       "description_width": "",
       "font_size": null,
       "text_color": null
      }
     }
    },
    "version_major": 2,
    "version_minor": 0
   }
  }
 },
 "nbformat": 4,
 "nbformat_minor": 5
}