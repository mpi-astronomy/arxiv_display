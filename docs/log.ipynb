{
 "cells": [
  {
   "cell_type": "markdown",
   "id": "92bcb855",
   "metadata": {
    "papermill": {
     "duration": 0.00603,
     "end_time": "2022-08-25T07:13:13.637777",
     "exception": false,
     "start_time": "2022-08-25T07:13:13.631747",
     "status": "completed"
    },
    "tags": []
   },
   "source": [
    "# MPIA Arxiv on Deck 2\n",
    "\n",
    "Contains the steps to produce the paper extractions."
   ]
  },
  {
   "cell_type": "code",
   "execution_count": 1,
   "id": "3a0d6e11",
   "metadata": {
    "execution": {
     "iopub.execute_input": "2022-08-25T07:13:13.648569Z",
     "iopub.status.busy": "2022-08-25T07:13:13.647734Z",
     "iopub.status.idle": "2022-08-25T07:13:13.823886Z",
     "shell.execute_reply": "2022-08-25T07:13:13.823133Z"
    },
    "papermill": {
     "duration": 0.184242,
     "end_time": "2022-08-25T07:13:13.826459",
     "exception": false,
     "start_time": "2022-08-25T07:13:13.642217",
     "status": "completed"
    },
    "tags": []
   },
   "outputs": [],
   "source": [
    "# Imports\n",
    "import os\n",
    "from IPython.display import Markdown, display\n",
    "from tqdm.notebook import tqdm\n",
    "import warnings\n",
    "from PIL import Image \n",
    "\n",
    "# requires arxiv_on_deck_2\n",
    "\n",
    "from arxiv_on_deck_2.arxiv2 import (get_new_papers, \n",
    "                                    get_paper_from_identifier,\n",
    "                                    retrieve_document_source, \n",
    "                                    get_markdown_badge)\n",
    "from arxiv_on_deck_2 import (latex, \n",
    "                             mpia,\n",
    "                             highlight_authors_in_list)\n",
    "\n",
    "# Sometimes images are really big\n",
    "Image.MAX_IMAGE_PIXELS = 1000000000 "
   ]
  },
  {
   "cell_type": "code",
   "execution_count": 2,
   "id": "22aa9d44",
   "metadata": {
    "execution": {
     "iopub.execute_input": "2022-08-25T07:13:13.837450Z",
     "iopub.status.busy": "2022-08-25T07:13:13.836720Z",
     "iopub.status.idle": "2022-08-25T07:13:13.842052Z",
     "shell.execute_reply": "2022-08-25T07:13:13.841376Z"
    },
    "papermill": {
     "duration": 0.012364,
     "end_time": "2022-08-25T07:13:13.843642",
     "exception": false,
     "start_time": "2022-08-25T07:13:13.831278",
     "status": "completed"
    },
    "tags": []
   },
   "outputs": [],
   "source": [
    "# Some useful definitions.\n",
    "\n",
    "class AffiliationWarning(UserWarning):\n",
    "    pass\n",
    "\n",
    "class AffiliationError(RuntimeError):\n",
    "    pass\n",
    "\n",
    "def validation(source: str):\n",
    "    \"\"\"Raises error paper during parsing of source file\n",
    "    \n",
    "    Allows checks before parsing TeX code.\n",
    "    \n",
    "    Raises AffiliationWarning\n",
    "    \"\"\"\n",
    "    check = mpia.affiliation_verifications(source, verbose=True)\n",
    "    if check is not True:\n",
    "        raise AffiliationError(\"mpia.affiliation_verifications: \" + check)\n",
    "\n",
    "        \n",
    "warnings.simplefilter('always', AffiliationWarning)"
   ]
  },
  {
   "cell_type": "code",
   "execution_count": 3,
   "id": "14622700",
   "metadata": {
    "execution": {
     "iopub.execute_input": "2022-08-25T07:13:13.852961Z",
     "iopub.status.busy": "2022-08-25T07:13:13.852698Z",
     "iopub.status.idle": "2022-08-25T07:13:13.856547Z",
     "shell.execute_reply": "2022-08-25T07:13:13.855868Z"
    },
    "papermill": {
     "duration": 0.01081,
     "end_time": "2022-08-25T07:13:13.858336",
     "exception": false,
     "start_time": "2022-08-25T07:13:13.847526",
     "status": "completed"
    },
    "tags": []
   },
   "outputs": [],
   "source": [
    "# additional CSS to consider. \n",
    "# TODO: Current into each exported file. \n",
    "#       This should be set once into the webpages directly.\n",
    "#       With only the class/id definitions in the .md files.\n",
    "\n",
    "debug_html = \"\"\"\n",
    "<style>\n",
    "#wrap{ overflow:auto; }\n",
    "#fig1{ background:yellow; width:100%; float:left; padding:5px;  }\n",
    "#fig2{ background:red; width:50%; float:left; clear:left; padding:5px;  }\n",
    "#fig3{ background:green; width:50%; float:left; padding:5px;   }\n",
    ".macros{ background:yellow; visibility:visible;}\n",
    "h1 {margin: 0 0 0 0;}\n",
    "mark {background-color:#fff3b6;}\n",
    "img {object-fit:contain; max-height:250px; display:inline-block; text-align: center;}\n",
    "</style>\n",
    "\"\"\" \n",
    "html = \"\"\"\n",
    "<style>\n",
    "#wrap{ overflow:auto; }\n",
    "#fig1{ width:100%; float:left; padding: 5px;  }\n",
    "#fig2{ width:50%; float:left; clear:left; padding: 5px;  }\n",
    "#fig3{ width:50%; float:left; padding: 5px;  }\n",
    ".macros{ visibility:hidden; height:0px; }\n",
    "h1 {margin: 0em 0 0 0;}\n",
    "mark {background-color:#fff3b6;}\n",
    "img {object-fit:contain; max-height:250px; display:inline-block; text-align: center;}\n",
    "</style>\n",
    "\"\"\""
   ]
  },
  {
   "cell_type": "markdown",
   "id": "14bd6310",
   "metadata": {
    "papermill": {
     "duration": 0.003953,
     "end_time": "2022-08-25T07:13:13.866130",
     "exception": false,
     "start_time": "2022-08-25T07:13:13.862177",
     "status": "completed"
    },
    "tags": []
   },
   "source": [
    "## get list of arxiv paper candidates\n",
    "\n",
    "We use the MPIA mitarbeiter list webpage from mpia.de to get author names\n",
    "We then get all new papers from Arxiv and match authors"
   ]
  },
  {
   "cell_type": "code",
   "execution_count": 4,
   "id": "2645e73a",
   "metadata": {
    "execution": {
     "iopub.execute_input": "2022-08-25T07:13:13.877171Z",
     "iopub.status.busy": "2022-08-25T07:13:13.876600Z",
     "iopub.status.idle": "2022-08-25T07:13:34.222041Z",
     "shell.execute_reply": "2022-08-25T07:13:34.220156Z"
    },
    "papermill": {
     "duration": 20.352792,
     "end_time": "2022-08-25T07:13:34.224358",
     "exception": false,
     "start_time": "2022-08-25T07:13:13.871566",
     "status": "completed"
    },
    "tags": []
   },
   "outputs": [
    {
     "name": "stdout",
     "output_type": "stream",
     "text": [
      "Arxiv has 39 new papers today\n",
      "          13 with possible author matches\n"
     ]
    }
   ],
   "source": [
    "# get list from MPIA website\n",
    "# it automatically filters identified non-scientists :func:`mpia.filter_non_scientists`\n",
    "mpia_authors = mpia.get_mpia_mitarbeiter_list()\n",
    "new_papers = get_new_papers()\n",
    "# add manual references\n",
    "add_paper_refs = []\n",
    "new_papers.extend([get_paper_from_identifier(k) for k in add_paper_refs])\n",
    "\n",
    "# select only papers with matching author names and highlight authors\n",
    "hl_list = [k[0] for k in mpia_authors]\n",
    "\n",
    "candidates = []\n",
    "for paperk in new_papers:\n",
    "    hl_authors = highlight_authors_in_list(paperk['authors'], hl_list)\n",
    "    matches = [(hl, orig) for hl, orig in zip(hl_authors, paperk['authors']) if 'mark' in hl]\n",
    "    paperk['authors'] = hl_authors\n",
    "    if matches:\n",
    "        candidates.append(paperk)\n",
    "print(\"\"\"Arxiv has {0:,d} new papers today\"\"\".format(len(new_papers)))        \n",
    "print(\"\"\"          {0:,d} with possible author matches\"\"\".format(len(candidates)))"
   ]
  },
  {
   "cell_type": "markdown",
   "id": "3543b34a",
   "metadata": {
    "papermill": {
     "duration": 0.004484,
     "end_time": "2022-08-25T07:13:34.233518",
     "exception": false,
     "start_time": "2022-08-25T07:13:34.229034",
     "status": "completed"
    },
    "tags": []
   },
   "source": [
    "# Parse sources and generate relevant outputs\n",
    "\n",
    "From the candidates, we do the following steps:\n",
    "* get their tarball from ArXiv (and extract data)\n",
    "* find the main .tex file: find one with \\documentclass{...} (sometimes it's non trivial)\n",
    "* Check affiliations with :func:`validation`, which uses :func:`mpia.affiliation_verifications`\n",
    "* If passing the affiliations: we parse the .tex source\n",
    "   * inject sub-documents into the main (flatten the main document)\n",
    "   * parse structure, extract information (title, abstract, authors, figures...)\n",
    "   * handles `\\graphicspath` if provided\n",
    "* Generate the .md document."
   ]
  },
  {
   "cell_type": "code",
   "execution_count": 5,
   "id": "9576b79e",
   "metadata": {
    "execution": {
     "iopub.execute_input": "2022-08-25T07:13:34.243849Z",
     "iopub.status.busy": "2022-08-25T07:13:34.243110Z",
     "iopub.status.idle": "2022-08-25T07:13:57.158086Z",
     "shell.execute_reply": "2022-08-25T07:13:57.157432Z"
    },
    "papermill": {
     "duration": 22.922868,
     "end_time": "2022-08-25T07:13:57.160412",
     "exception": false,
     "start_time": "2022-08-25T07:13:34.237544",
     "status": "completed"
    },
    "scrolled": false,
    "tags": []
   },
   "outputs": [
    {
     "data": {
      "application/json": {
       "ascii": false,
       "bar_format": null,
       "colour": null,
       "elapsed": 0.020996809005737305,
       "initial": 0,
       "n": 0,
       "ncols": null,
       "nrows": null,
       "postfix": null,
       "prefix": "",
       "rate": null,
       "total": 12,
       "unit": "it",
       "unit_divisor": 1000,
       "unit_scale": false
      },
      "application/vnd.jupyter.widget-view+json": {
       "model_id": "ec51b9a4a30d4a87aa9d322a25e9f20c",
       "version_major": 2,
       "version_minor": 0
      },
      "text/plain": [
       "  0%|          | 0/12 [00:00<?, ?it/s]"
      ]
     },
     "metadata": {},
     "output_type": "display_data"
    },
    {
     "name": "stdout",
     "output_type": "stream",
     "text": [
      "Retrieving document from  https://arxiv.org/e-print/2208.11128\n"
     ]
    },
    {
     "name": "stdout",
     "output_type": "stream",
     "text": [
      "extracting tarball to tmp_2208.11128..."
     ]
    },
    {
     "name": "stdout",
     "output_type": "stream",
     "text": [
      " done.\n",
      "Retrieving document from  https://arxiv.org/e-print/2208.11135\n"
     ]
    },
    {
     "name": "stdout",
     "output_type": "stream",
     "text": [
      "extracting tarball to tmp_2208.11135..."
     ]
    },
    {
     "name": "stdout",
     "output_type": "stream",
     "text": [
      " done.\n",
      "Retrieving document from  https://arxiv.org/e-print/2208.11329\n"
     ]
    },
    {
     "name": "stdout",
     "output_type": "stream",
     "text": [
      "extracting tarball to tmp_2208.11329..."
     ]
    },
    {
     "name": "stdout",
     "output_type": "stream",
     "text": [
      " done.\n",
      "Retrieving document from  https://arxiv.org/e-print/2208.11360\n"
     ]
    },
    {
     "name": "stderr",
     "output_type": "stream",
     "text": [
      "/opt/hostedtoolcache/Python/3.9.13/x64/lib/python3.9/site-packages/IPython/core/interactiveshell.py:3398: LatexWarning: Multiple tex files.\n",
      "\n",
      "  exec(code_obj, self.user_global_ns, self.user_ns)\n",
      "/opt/hostedtoolcache/Python/3.9.13/x64/lib/python3.9/site-packages/IPython/core/interactiveshell.py:3398: LatexWarning: Found documentclass in tmp_2208.11329/ApJS-LG-R1.tex\n",
      "\n",
      "  exec(code_obj, self.user_global_ns, self.user_ns)\n"
     ]
    },
    {
     "name": "stdout",
     "output_type": "stream",
     "text": [
      "extracting tarball to tmp_2208.11360..."
     ]
    },
    {
     "name": "stdout",
     "output_type": "stream",
     "text": [
      " done.\n"
     ]
    },
    {
     "name": "stdout",
     "output_type": "stream",
     "text": [
      "Retrieving document from  https://arxiv.org/e-print/2208.11396\n"
     ]
    },
    {
     "name": "stderr",
     "output_type": "stream",
     "text": [
      "/tmp/ipykernel_2189/4030337529.py:34: LatexWarning: 2208.11396 did not run properly\n",
      "not a gzip file\n",
      "  warnings.warn(latex.LatexWarning(f\"{paper_id:s} did not run properly\\n\" +\n"
     ]
    },
    {
     "name": "stdout",
     "output_type": "stream",
     "text": [
      "Retrieving document from  https://arxiv.org/e-print/2208.11427\n"
     ]
    },
    {
     "name": "stdout",
     "output_type": "stream",
     "text": [
      "extracting tarball to tmp_2208.11427..."
     ]
    },
    {
     "name": "stdout",
     "output_type": "stream",
     "text": [
      " done.\n",
      "Retrieving document from  https://arxiv.org/e-print/2208.11437\n"
     ]
    },
    {
     "name": "stdout",
     "output_type": "stream",
     "text": [
      "extracting tarball to tmp_2208.11437... done.\n",
      "Retrieving document from  https://arxiv.org/e-print/2208.11456\n"
     ]
    },
    {
     "name": "stdout",
     "output_type": "stream",
     "text": [
      "extracting tarball to tmp_2208.11456..."
     ]
    },
    {
     "name": "stdout",
     "output_type": "stream",
     "text": [
      " done.\n",
      "Retrieving document from  https://arxiv.org/e-print/2208.11589\n"
     ]
    },
    {
     "name": "stdout",
     "output_type": "stream",
     "text": [
      "extracting tarball to tmp_2208.11589..."
     ]
    },
    {
     "name": "stdout",
     "output_type": "stream",
     "text": [
      " done.\n",
      "Retrieving document from  https://arxiv.org/e-print/2208.11620\n"
     ]
    },
    {
     "name": "stderr",
     "output_type": "stream",
     "text": [
      "/opt/hostedtoolcache/Python/3.9.13/x64/lib/python3.9/site-packages/IPython/core/interactiveshell.py:3398: LatexWarning: Multiple tex files.\n",
      "\n",
      "  exec(code_obj, self.user_global_ns, self.user_ns)\n",
      "/opt/hostedtoolcache/Python/3.9.13/x64/lib/python3.9/site-packages/IPython/core/interactiveshell.py:3398: LatexWarning: Found documentclass in tmp_2208.11589/accepted_mincat_astroph.tex\n",
      "\n",
      "  exec(code_obj, self.user_global_ns, self.user_ns)\n",
      "/opt/hostedtoolcache/Python/3.9.13/x64/lib/python3.9/site-packages/arxiv_on_deck_2/latex.py:292: LatexWarning: Latex injecting: 'corr_source_table1d.tex' from 'tmp_2208.11589/corr_source_table1d.tex'\n",
      "  warnings.warn(LatexWarning(f\"Latex injecting: '{ext}' from '{subsource}'\"))\n"
     ]
    },
    {
     "name": "stdout",
     "output_type": "stream",
     "text": [
      "extracting tarball to tmp_2208.11620..."
     ]
    },
    {
     "name": "stdout",
     "output_type": "stream",
     "text": [
      " done.\n",
      "Retrieving document from  https://arxiv.org/e-print/2208.11683\n"
     ]
    },
    {
     "name": "stdout",
     "output_type": "stream",
     "text": [
      "extracting tarball to tmp_2208.11683..."
     ]
    },
    {
     "name": "stdout",
     "output_type": "stream",
     "text": [
      " done.\n",
      "Retrieving document from  https://arxiv.org/e-print/2208.11686\n"
     ]
    },
    {
     "name": "stderr",
     "output_type": "stream",
     "text": [
      "/opt/hostedtoolcache/Python/3.9.13/x64/lib/python3.9/site-packages/IPython/core/interactiveshell.py:3398: LatexWarning: Multiple tex files.\n",
      "\n",
      "  exec(code_obj, self.user_global_ns, self.user_ns)\n",
      "/opt/hostedtoolcache/Python/3.9.13/x64/lib/python3.9/site-packages/IPython/core/interactiveshell.py:3398: LatexWarning: Found documentclass in tmp_2208.11683/main.tex\n",
      "\n",
      "  exec(code_obj, self.user_global_ns, self.user_ns)\n",
      "/opt/hostedtoolcache/Python/3.9.13/x64/lib/python3.9/site-packages/arxiv_on_deck_2/latex.py:292: LatexWarning: Latex injecting: 'author_list' from 'tmp_2208.11683/author_list.tex'\n",
      "  warnings.warn(LatexWarning(f\"Latex injecting: '{ext}' from '{subsource}'\"))\n"
     ]
    },
    {
     "name": "stdout",
     "output_type": "stream",
     "text": [
      "extracting tarball to tmp_2208.11686..."
     ]
    },
    {
     "name": "stdout",
     "output_type": "stream",
     "text": [
      " done.\n"
     ]
    }
   ],
   "source": [
    "documents = []\n",
    "failed = []\n",
    "for paper in tqdm(candidates[:-1]):\n",
    "    paper_id = paper['identifier'].lower().replace('arxiv:', '')\n",
    "    \n",
    "    folder = f'tmp_{paper_id}'\n",
    "\n",
    "    try:\n",
    "        if not os.path.isdir(folder):\n",
    "            folder = retrieve_document_source(f\"{paper_id}\", f'tmp_{paper_id}')\n",
    "        \n",
    "        try:\n",
    "            doc = latex.LatexDocument(folder, validation=validation)    \n",
    "        except AffiliationError as affilerror:\n",
    "            msg = f\"ArXiv:{paper_id:s} is not an MPIA paper... \" + str(affilerror)\n",
    "            failed.append((paper, \"affiliation error: \" + str(affilerror) ))\n",
    "            continue\n",
    "        \n",
    "        # Hack because sometimes author parsing does not work well\n",
    "        if (len(doc.authors) != len(paper['authors'])):\n",
    "            doc._authors = paper['authors']\n",
    "        if (doc.abstract) in (None, ''):\n",
    "            doc._abstract = paper['abstract']\n",
    "            \n",
    "        doc.comment = (get_markdown_badge(paper_id) + \n",
    "                       \"<mark>Appeared on: \" + paper['date'] + \"</mark> - \" +\n",
    "                       \"_\" + paper['comments'] + \"_\")\n",
    "        doc.highlight_authors_in_list(hl_list)\n",
    "\n",
    "        full_md = doc.generate_markdown_text()\n",
    "        \n",
    "        documents.append((paper_id, full_md))\n",
    "    except Exception as e:\n",
    "        warnings.warn(latex.LatexWarning(f\"{paper_id:s} did not run properly\\n\" +\n",
    "                                         str(e)\n",
    "                                        ))\n",
    "        failed.append((paper, \"latex error \" + str(e)))"
   ]
  },
  {
   "cell_type": "markdown",
   "id": "2505a25c",
   "metadata": {
    "papermill": {
     "duration": 0.005843,
     "end_time": "2022-08-25T07:13:57.172414",
     "exception": false,
     "start_time": "2022-08-25T07:13:57.166571",
     "status": "completed"
    },
    "tags": []
   },
   "source": [
    "### Export the logs\n",
    "\n",
    "Throughout, we also keep track of the logs per paper. see `logs-{today date}.md` "
   ]
  },
  {
   "cell_type": "code",
   "execution_count": 6,
   "id": "d733828a",
   "metadata": {
    "execution": {
     "iopub.execute_input": "2022-08-25T07:13:57.185887Z",
     "iopub.status.busy": "2022-08-25T07:13:57.185198Z",
     "iopub.status.idle": "2022-08-25T07:13:57.209027Z",
     "shell.execute_reply": "2022-08-25T07:13:57.208272Z"
    },
    "papermill": {
     "duration": 0.032585,
     "end_time": "2022-08-25T07:13:57.210663",
     "exception": false,
     "start_time": "2022-08-25T07:13:57.178078",
     "status": "completed"
    },
    "scrolled": false,
    "tags": []
   },
   "outputs": [
    {
     "data": {
      "text/markdown": [
       "## Successful papers"
      ],
      "text/plain": [
       "<IPython.core.display.Markdown object>"
      ]
     },
     "metadata": {},
     "output_type": "display_data"
    },
    {
     "data": {
      "text/markdown": [
       "\n",
       "|||\n",
       "|---:|:---|\n",
       "| [![arXiv](https://img.shields.io/badge/arXiv-arXiv:2208.11360-b31b1b.svg)](https://arxiv.org/abs/arXiv:2208.11360) | **Building a GRAVITY+ Adaptive Optics Test Bench**  |\n",
       "|| Gravity Plus Consortium, et al. -- incl., <mark>Frank Eisenhauer</mark>, <mark>Laura Kreidberg</mark> |\n",
       "|*Appeared on*| *2022-08-25*|\n",
       "|*Comments*| **|\n",
       "|**Abstract**| We present the testbench aimed at integrating the GRAVITY+ adaptive optics GPAO. It consists of two independent elements, one reproducing the Coud{\\'e} focus of the telescope, including the telescope deformable mirror mount (with its surface facing down), and one reproducing the Coud{\\'e} room opto-mechanical environment, including a downwards-propagating beam, and the telescope mechanical interfaces in order to fit in the new GPAO wavefront sensor. We discuss in this paper the design of this bench and the solutions we adopted to keep the cost low, keep the design compact (allowing it to be fully contained in a 20 sqm clean room), and align the bench independently from the adaptive optics. We also discuss the features we have set in this bench. |"
      ],
      "text/plain": [
       "[arXiv:2208.11360] Building a GRAVITY+ Adaptive Optics Test Bench\n",
       "\tGravity Plus Consortium, et al. -- incl., <mark>Frank Eisenhauer</mark>, <mark>Laura Kreidberg</mark>"
      ]
     },
     "metadata": {},
     "output_type": "display_data"
    },
    {
     "data": {
      "text/markdown": [
       "## Failed papers"
      ],
      "text/plain": [
       "<IPython.core.display.Markdown object>"
      ]
     },
     "metadata": {},
     "output_type": "display_data"
    },
    {
     "data": {
      "text/markdown": [
       "\n",
       "|||\n",
       "|---:|:---|\n",
       "| [![arXiv](https://img.shields.io/badge/arXiv-arXiv:2208.11128-b31b1b.svg)](https://arxiv.org/abs/arXiv:2208.11128) | **N-bearing complex organics toward high-mass protostars: Constant ratios  pointing to formation in similar pre-stellar conditions across a large mass  range**  |\n",
       "|| P. Nazari, et al. -- incl., <mark>D. Langeroodi</mark> |\n",
       "|*Appeared on*| *2022-08-25*|\n",
       "|*Comments*| *49 pages, 46 figures, Accepted for publication in A&A*|\n",
       "|**Abstract**| No statistical study of COMs toward a large sample of high-mass protostars with ALMA has been carried out so far. We aim to study six N-bearing species: CH$_3$CN, HNCO, NH$_2$CHO, C$_2$H$_5$CN, C$_2$H$_3$CN and CH$_3$NH$_2$ in a large sample of high-mass protostars. From the ALMAGAL survey, 37 of the most line-rich hot molecular cores are selected. Next, we fit their spectra and find column densities and excitation temperatures of the above N-bearing species, in addition to CH$_3$OH. We (tentatively) detect CH$_3$NH$_2$ in $\\sim32%$ of the sources. We find three groups of species when comparing their excitation temperatures: hot (NH$_2$CHO; Tex > 250 K), warm (C$_2$H$_3$CN, HN$^{13}$CO and CH$_{3}^{13}$CN; 100 K < Tex < 250 K) and cold species (CH$_3$OH and CH$_3$NH$_2$; Tex < 100 K). This temperature segregation reflects the trend seen in their sublimation temperatures and validates the idea of onion-like structure of COMs around protostars. Moreover, the molecules studied here show constant column density ratios across low- and high-mass protostars with scatter less than a factor $\\sim3$ around the mean. The constant column density ratios point to a common formation environment of COMs or their precursors, most likely in the pre-stellar ices. The scatter around the mean of the ratios, although small, varies depending on the species considered. This spread can either have a physical origin (source structure, line or dust optical depth) or a chemical one. Formamide is most prone to the physical effects as it is tracing the closest regions to the protostars, whereas such effects are small for other species. Assuming that all molecules form in the pre-stellar ices, the scatter variations could be explained by differences in lifetimes or physical conditions of the pre-stellar clouds. If the pre-stellar lifetimes are the main factor, they should be similar for low- and high-mass protostars. |\n",
       "|<p style=\"color:green\"> **ERROR** </p>| <p style=\"color:green\">affiliation error: mpia.affiliation_verifications: 'Heidelberg' keyword not found.</p> |"
      ],
      "text/plain": [
       "<IPython.core.display.Markdown object>"
      ]
     },
     "metadata": {},
     "output_type": "display_data"
    },
    {
     "data": {
      "text/markdown": [
       "\n",
       "|||\n",
       "|---:|:---|\n",
       "| [![arXiv](https://img.shields.io/badge/arXiv-arXiv:2208.11135-b31b1b.svg)](https://arxiv.org/abs/arXiv:2208.11135) | **Energy wrinkles and phase-space folds of the last major merger**  |\n",
       "|| Vasily Belokurov, et al. -- incl., <mark>Elliot Y. Davies</mark> |\n",
       "|*Appeared on*| *2022-08-25*|\n",
       "|*Comments*| *16 pages, 14 figures, submitted to MNRAS. Comments are welcome!*|\n",
       "|**Abstract**| Relying on the dramatic increase in the number of stars with full 6D phase-space information provided by the Gaia Data Release 3, we discover unambiguous signatures of phase-mixing in the stellar halo around the Sun. We show that for the stars likely belonging to the last massive merger, the (v_r,r) distribution contains a series of long and thin chevron-like overdensities. These phase-space sub-structures are predicted to emerge following the dissolution of a satellite, when its tidal debris is given time to wind up, thin out and fold. Additionally, the observed energy and angular momentum (E, L_z) distribution appears more prograde at high energies, possibly revealing the original orbital angular momentum of the in-falling galaxy. The energy distribution of the debris is strongly asymmetric with a peak at low E -- which, we surmise, may be evidence of the dwarf's rapid sinking -- and riddled with wrinkles and bumps. If these small-scale energy inhomogeneities have been seeded during or immediately after the interaction with the Milky Way, and are not due to the spatial restriction of our study, then making use of the (v_r,r) chevrons to constrain the time of the merger becomes cumbersome. Nonetheless, we demonstrate that similar phase-space and (E,L_z) sub-structures are present in numerical simulations of galaxy interactions, both in bespoke N-body runs and in cosmological hydrodynamical zoom-in suites. The remnant traces of the progenitor's disruption and the signatures of the on-going phase-mixing discovered here will not only help to constrain the properties of our Galaxy's most important interaction, but also can be used as a novel tool to map out the Milky Way's current gravitational potential and its perturbations. |\n",
       "|<p style=\"color:green\"> **ERROR** </p>| <p style=\"color:green\">affiliation error: mpia.affiliation_verifications: 'Heidelberg' keyword not found.</p> |"
      ],
      "text/plain": [
       "<IPython.core.display.Markdown object>"
      ]
     },
     "metadata": {},
     "output_type": "display_data"
    },
    {
     "data": {
      "text/markdown": [
       "\n",
       "|||\n",
       "|---:|:---|\n",
       "| [![arXiv](https://img.shields.io/badge/arXiv-arXiv:2208.11329-b31b1b.svg)](https://arxiv.org/abs/arXiv:2208.11329) | **The formation of the stripped envelope type II b Supernova progenitors:  Rotation, Metallicity and Overshooting**  |\n",
       "|| Gang Long, et al. -- incl., <mark>Ruiyu Zhang</mark> |\n",
       "|*Appeared on*| *2022-08-25*|\n",
       "|*Comments*| *Accepted in ApJS*|\n",
       "|**Abstract**| Type IIb supernovae are believed to originate from core-collapse progenitors having kept only a very thin hydrogen envelope. We aim to explore how some physical factors, such as rotation, metallicity, overshooting, and the initial orbital period in binaries, significantly affect the Roche lobe overflow and the formation of type IIb supernovae. It is found that binaries are the main channel that capable of producing type typeIIb supernovae progenitors in the mass range for initial masses below 20 $M_{\\odot}$. The formation of type IIb supernova progenitors is extremely sensitive to the initial orbital period. A less massive hydrogen indicates smaller radius and a higher effective temperatures, and vice versa. Binary systems with initial periods between 300 and 720 days produce type IIb progenitors that are a red supergiant. Those with an initial period between 50 and 300 days produce yellow supergiant progenitors and those with initial periods shorter than 50 days, blue supergiant progenitors. Both rapid rotation and larger overshooting can enlarge the carbon-oxygen core mass and lead to higher core temperature and lower central density at the pre-collapse phase. They are also beneficial to surface nitrogen enrichment but restrict the efficiency of the first dredge-up. SN IIb progenitors with low metallicity have smaller hydrogen envelope masses and radii than the high metallicity counterparts. Ultra-stripped binary models have systematically higher core mass fraction $\\rm ^{12}C$ left, which has important influence on the compactness of type IIb progenitors. |\n",
       "|<p style=\"color:green\"> **ERROR** </p>| <p style=\"color:green\">affiliation error: mpia.affiliation_verifications: 'Heidelberg' keyword not found.</p> |"
      ],
      "text/plain": [
       "<IPython.core.display.Markdown object>"
      ]
     },
     "metadata": {},
     "output_type": "display_data"
    },
    {
     "data": {
      "text/markdown": [
       "\n",
       "|||\n",
       "|---:|:---|\n",
       "| [![arXiv](https://img.shields.io/badge/arXiv-arXiv:2208.11427-b31b1b.svg)](https://arxiv.org/abs/arXiv:2208.11427) | **Transmission spectroscopy of the ultra-hot Jupiter MASCARA-4 b:  Disentangling the hydrostatic and exospheric regimes of ultra-hot Jupiters**  |\n",
       "|| <mark>Yapeng Zhang</mark>, et al. -- incl., <mark>Julia V. Seidel</mark> |\n",
       "|*Appeared on*| *2022-08-25*|\n",
       "|*Comments*| *13 pages, 9 figures, accepted to A&A*|\n",
       "|**Abstract**| Ultra-hot Jupiters (UHJs), rendering the hottest planetary atmospheres, offer great opportunities of detailed characterisation with high-resolution spectroscopy. MASCARA-4 b is a recently discovered close-in gas giant belonging to this category. In order to refine system and planet parameters, we carried out radial velocity measurements and transit photometry with the CORALIE spectrograph and EulerCam at the Swiss 1.2m Euler telescope. We observed two transits of MASCARA-4 b with the high-resolution spectrograph ESPRESSO at ESO's Very Large Telescope. We searched for atomic, ionic, and molecular species via individual absorption lines and cross-correlation techniques. These results are compared to literature studies on UHJs characterised to date. With CORALIE and EulerCam observations, we updated the mass of MASCARA-4 b (1.675 +/- 0.241 Jupiter masses) as well as other system and planet parameters. In the transmission spectrum derived from ESPRESSO observations, we resolve excess absorption by H$\\alpha$, H$\\beta$, Na D1 & D2, Ca+ H & K, and a few strong individual lines of Mg, Fe and Fe+. We also present the cross-correlation detection of Mg, Ca, Cr, Fe and Fe+. The absorption strength of Fe+ significantly exceeds the prediction from a hydrostatic atmospheric model, as commonly observed in other UHJs. We attribute this to the presence of Fe+ in the exosphere due to hydrodynamic outflows. This is further supported by the positive correlation of absorption strengths of Fe+ with the H$\\alpha$ line. Comparing transmission signatures of various species in the UHJ population allows us to disentangle the hydrostatic regime (as traced via the absorption by Mg and Fe) from the exospheres (as probed by H$\\alpha$ and Fe+) of the strongly irradiated atmospheres. |\n",
       "|<p style=\"color:green\"> **ERROR** </p>| <p style=\"color:green\">affiliation error: mpia.affiliation_verifications: 'Heidelberg' keyword not found.</p> |"
      ],
      "text/plain": [
       "<IPython.core.display.Markdown object>"
      ]
     },
     "metadata": {},
     "output_type": "display_data"
    },
    {
     "data": {
      "text/markdown": [
       "\n",
       "|||\n",
       "|---:|:---|\n",
       "| [![arXiv](https://img.shields.io/badge/arXiv-arXiv:2208.11437-b31b1b.svg)](https://arxiv.org/abs/arXiv:2208.11437) | **Estimating reddening of the continuum and broad-line region of active  galactic nuclei: the mean reddening of NGC 5548 and the size of the accretion  disc**  |\n",
       "|| C. Martin Gaskell, Frances C. Anderson, Sufia Á. Birmingham, <mark>Samhita Ghosh</mark> |\n",
       "|*Appeared on*| *2022-08-25*|\n",
       "|*Comments*| *13 pages, 5 figures. Submitted to Monthly Notices of the Royal Astronomical Society. Comments welcome*|\n",
       "|**Abstract**| We use seven different methods to estimate broad-line and continuum reddenings of NGC 5548. We investigate two possible reddening curves considered for active galactic nuclei (AGNs): the mean AGN reddening curve of Gaskell & Benker (2007) which is relatively flat in the ultraviolet, and a curve that rises strongly into the ultraviolet like a Small Magellanic Cloud (SMC) reddening curve. We also consider a standard Milky Way curve. Regardless of the curve adopted, we find a total reddening ~14 times greater than the small amount of reddening due to dust in the solar neighbourhood. The UV-to-optical ratios rule out a steep SMC-like reddening curve for NGC 5548. The Milky Way and Gaskell & Benker curves give a mean reddening of E(B-V) = 0.25 +/- 0.02. The four non-hydrogen-line reddening indicators imply that the intrinsic hydrogen line ratios are consistent with Baker-Menzel case B values. The unreddened optical-to-UV spectral energy distribution is consistent with the predicted distribution for an externally-illuminated accretion disc. The reddening we derive for NGC 5548 is typical of previous estimates for type-1 AGNs. Neglecting internal extinction leads to an underestimate of the luminosity at 1200 Angstroms by a factor of seven. The size scale of the accretion disc has therefore been underestimated by a factor of ~2.6. This is similar to the accretion disc size discrepancy found in the 2013 AGNSTORM campaign and thus supports the proposal by Gaskell (2017) that the accretion disc size discrepancy is primarily due to the neglect of reddening. |\n",
       "|<p style=\"color:green\"> **ERROR** </p>| <p style=\"color:green\">affiliation error: mpia.affiliation_verifications: 'Heidelberg' keyword not found.</p> |"
      ],
      "text/plain": [
       "<IPython.core.display.Markdown object>"
      ]
     },
     "metadata": {},
     "output_type": "display_data"
    },
    {
     "data": {
      "text/markdown": [
       "\n",
       "|||\n",
       "|---:|:---|\n",
       "| [![arXiv](https://img.shields.io/badge/arXiv-arXiv:2208.11456-b31b1b.svg)](https://arxiv.org/abs/arXiv:2208.11456) | **Morpheus Reveals Distant Disk Galaxy Morphologies with JWST: The First  AI/ML Analysis of JWST Images**  |\n",
       "|| Brant E. Robertson, et al. -- incl., <mark>Jakob M. Helton</mark>, <mark>Christina C. Williams</mark> |\n",
       "|*Appeared on*| *2022-08-25*|\n",
       "|*Comments*| *Submitted to AAS Journals*|\n",
       "|**Abstract**| The dramatic first images with James Webb Space Telescope (JWST) demonstrated its power to provide unprecedented spatial detail for galaxies in the high-redshift universe. Here, we leverage the resolution and depth of the JWST Cosmic Evolution Early Release Science Survey (CEERS) data in the Extended Groth Strip (EGS) to perform pixel-level morphological classifications of galaxies in JWST F150W imaging using the Morpheus deep learning framework for astronomical image analysis. By cross-referencing with existing photometric redshift catalogs from the Hubble Space Telescope (HST) CANDELS survey, we show that JWST images indicate the emergence of disk morphologies before z~2 and with candidates appearing as early as z~5. By modeling the light profile of each object and accounting for the JWST point-spread function, we find the high-redshift disk candidates have exponential surface brightness profiles with an average Sersic (1968) index n=1.04 and >90% displaying \"disky\" profiles (n<2). Comparing with prior Morpheus classifications in CANDELS we find that a plurality of JWST disk galaxy candidates were previously classified as compact based on the shallower HST imagery, indicating that the improved optical quality and depth of the JWST helps to reveal disk morphologies that were hiding in the noise. We discuss the implications of these early disk candidates on theories for cosmological disk galaxy formation. |\n",
       "|<p style=\"color:green\"> **ERROR** </p>| <p style=\"color:green\">affiliation error: mpia.affiliation_verifications: 'Heidelberg' keyword not found.</p> |"
      ],
      "text/plain": [
       "<IPython.core.display.Markdown object>"
      ]
     },
     "metadata": {},
     "output_type": "display_data"
    },
    {
     "data": {
      "text/markdown": [
       "\n",
       "|||\n",
       "|---:|:---|\n",
       "| [![arXiv](https://img.shields.io/badge/arXiv-arXiv:2208.11589-b31b1b.svg)](https://arxiv.org/abs/arXiv:2208.11589) | **The population of Galactic centre filaments III: candidate radio and  stellar sources**  |\n",
       "|| F. Yusef-Zadeh, et al. -- incl., <mark>I. Heywood</mark> |\n",
       "|*Appeared on*| *2022-08-25*|\n",
       "|*Comments*| *63 pages, 3 Figures (multiple subfigures), MNRAS (in press)*|\n",
       "|**Abstract**| Recent MeerKAT radio continuum observations of the Galactic center at 20 cm show a large population of nonthermal radio filaments (NRFs) in the inner few hundred pc of the Galaxy. We have selected a sample of 57 radios ources, mainly compact objects, in the MeerKAT mosaic image that appear to be associated with NRFs. The selected sources are about 4 times the number of radio point sources associated with filaments than would be expected by random chance. Furthermore, an apparent correlation between bright IR stars and NRFs is inferred from their similar latitude distributions, suggesting that they both co-exist within the same region. To examine if compact radio sources are related to compact IR sources, we have used archival 2MASS, and {\\em Spitzer} data to make spectral energy distribution of individual stellar sources coincident or close to radio sources. We provide a catalogue of radio and IR sources for future detailed observations to investigate a potential 3-way physical association between NRFs, compact radio and IR stellar sources. This association is suggested by models in which NRFs are cometary tails produced by the interaction of a large-scale nuclear outflow with stellar wind bubbles in the Galactic center. |\n",
       "|<p style=\"color:green\"> **ERROR** </p>| <p style=\"color:green\">affiliation error: mpia.affiliation_verifications: 'Heidelberg' keyword not found.</p> |"
      ],
      "text/plain": [
       "<IPython.core.display.Markdown object>"
      ]
     },
     "metadata": {},
     "output_type": "display_data"
    },
    {
     "data": {
      "text/markdown": [
       "\n",
       "|||\n",
       "|---:|:---|\n",
       "| [![arXiv](https://img.shields.io/badge/arXiv-arXiv:2208.11620-b31b1b.svg)](https://arxiv.org/abs/arXiv:2208.11620) | **A high angular resolution view of the PAH emission in Seyfert galaxies  using JWST/MRS data**  |\n",
       "|| I. García-Bernete, et al. -- incl., <mark>A. Alonso-Herrero</mark>, <mark>C. Ramos Almeida</mark> |\n",
       "|*Appeared on*| *2022-08-25*|\n",
       "|*Comments*| *12 pages, 10 figures. Submitted to A&A*|\n",
       "|**Abstract**| Polycyclic Aromatic Hydrocarbons (PAHs) are carbon-based molecules, which are ubiquitous in a variety of astrophysical objects and environments. In this work, we use JWST/MIRI MRS spectroscopy of 3 Seyferts to compare their nuclear PAH emission with that of star-forming regions. This study represents the first of its kind using sub-arcsecond angular resolution data of local luminous Seyferts (Lbol>10^44.89 erg/s) on a wide wavelength coverage (4.9-28.1 micron). We present an analysis of their nuclear PAH properties by comparing the observed ratios with PAH diagnostic model grids, derived from theoretical spectra. Our results show that a suite of PAH features is present in the innermost parts (~0.45 arcsec at 12 micron; in the inner ~142-245 pc) of luminous Seyfert galaxies. We find that the nuclear regions of AGN lie at different positions of the PAH diagnostic diagrams, whereas the SF regions are concentrated around the average values of SF galaxies. In particular, we find that the nuclear PAH emission mainly originates in neutral PAHs. In contrast, PAH emission originating in the SF regions favours ionised PAH grains. The observed PAH ratios in the nuclear region of AGN-dominated galaxy NGC 6552 indicate the presence of larger-sized PAH molecules compared with those of the SF regions. Therefore, our results provide evidence that the AGN have a significant impact on the ionization state (and probably the size) of the PAH grains on scales of ~142-245 pc. |\n",
       "|<p style=\"color:green\"> **ERROR** </p>| <p style=\"color:green\">affiliation error: mpia.affiliation_verifications: 'Heidelberg' keyword not found.</p> |"
      ],
      "text/plain": [
       "<IPython.core.display.Markdown object>"
      ]
     },
     "metadata": {},
     "output_type": "display_data"
    },
    {
     "data": {
      "text/markdown": [
       "\n",
       "|||\n",
       "|---:|:---|\n",
       "| [![arXiv](https://img.shields.io/badge/arXiv-arXiv:2208.11683-b31b1b.svg)](https://arxiv.org/abs/arXiv:2208.11683) | **DESI Observations of the Andromeda Galaxy: Revealing the Immigration  History of our Nearest Neighbor**  |\n",
       "|| Arjun Dey, et al. -- incl., <mark>J. Josephy-Zack</mark>, <mark>D. Lang</mark> |\n",
       "|*Appeared on*| *2022-08-25*|\n",
       "|*Comments*| *42 pages, 22 figures, 7 tables; submitted to Astrophysical Journal*|\n",
       "|**Abstract**| We present DESI observations of the inner halo of M31, which reveal the kinematics of a recent merger - a galactic immigration event - in exquisite detail. Of the 11,416 sources studied in 3.75 hours of on-sky exposure time, 7,438 are M31 sources with well measured radial velocities. The observations reveal intricate coherent kinematic structure in the positions and velocities of individual stars: streams, wedges, and chevrons. While hints of coherent structures have been previously detected in M31, this is the first time they have been seen with such detail and clarity in a galaxy beyond the Milky Way. We find clear kinematic evidence for shell structures in the Giant Stellar Stream, the NE Shelf and Western Shelf regions. The kinematics are remarkably similar to the predictions of dynamical models constructed to explain the spatial morphology of the inner halo. The results are consistent with the interpretation that much of the substructure in the inner halo of M31 is produced by a single galactic immigration event 1 - 2 Gyr ago. Significant numbers of metal-rich stars are present in all of the detected substructures, suggesting that the immigrating galaxy had an extended star formation history. We also investigate the ability of the shells and Giant Stellar Stream to constrain the gravitational potential of M31, and estimate the mass within a projected radius of 125 kpc to be ${\\rm log_{10}}\\, M_{\\rm NFW}(<125\\,{\\rm kpc})/M_\\odot = 11.78_{-0.10}^{+0.13}$. The results herald a new era in our ability to study stars on a galactic scale and the immigration histories of galaxies. |\n",
       "|<p style=\"color:green\"> **ERROR** </p>| <p style=\"color:green\">affiliation error: mpia.affiliation_verifications: 'Heidelberg' keyword not found.</p> |"
      ],
      "text/plain": [
       "<IPython.core.display.Markdown object>"
      ]
     },
     "metadata": {},
     "output_type": "display_data"
    },
    {
     "data": {
      "text/markdown": [
       "\n",
       "|||\n",
       "|---:|:---|\n",
       "| [![arXiv](https://img.shields.io/badge/arXiv-arXiv:2208.11686-b31b1b.svg)](https://arxiv.org/abs/arXiv:2208.11686) | **A roadmap to cosmological parameter analysis with third-order shear  statistics I: Modelling and validation**  |\n",
       "|| <mark>Sven Heydenreich</mark>, Laila Linke, Pierre Burger, Peter Schneider |\n",
       "|*Appeared on*| *2022-08-25*|\n",
       "|*Comments*| **|\n",
       "|**Abstract**| In this work, which is the first of a series to prepare a cosmological parameter analysis with third-order cosmic shear statistics, we model both the shear three-point correlation functions $\\Gamma^{(i)}$ and the third-order aperture statistics $\\langle\\mathcal{M}_\\mathrm{ap}^3\\rangle$ from the BiHalofit bispectrum model and validate these statistics with a series of N-body simulations. We then investigate how to bin the shear three-point correlation functions to achieve an unbiased estimate for third-order aperture statistics in real data. Finally, we perform a cosmological parameter analysis on KiDS1000-like mock data with second- and third-order statistics. We recover all cosmological parameters with very little bias. Furthermore, we find that a joint analysis almost doubles the constraining power on $S_8$ and increases the figure-of-merit in the $\\Omega_\\mathrm{m}$-$\\sigma_8$ plane by a factor of 5.9 with respect to an analysis with only second-order shear statistics. Our modelling pipeline is publicly available at https://github.com/sheydenreich/threepoint/releases/. |\n",
       "|<p style=\"color:green\"> **ERROR** </p>| <p style=\"color:green\">affiliation error: mpia.affiliation_verifications: 'Heidelberg' keyword not found.</p> |"
      ],
      "text/plain": [
       "<IPython.core.display.Markdown object>"
      ]
     },
     "metadata": {},
     "output_type": "display_data"
    },
    {
     "data": {
      "text/markdown": [
       "\n",
       "|||\n",
       "|---:|:---|\n",
       "| [![arXiv](https://img.shields.io/badge/arXiv-arXiv:2208.11396-b31b1b.svg)](https://arxiv.org/abs/arXiv:2208.11396) | **Abundant ammonium hydrosulphide embedded in cometary dust grains**  |\n",
       "|| K. Altwegg, et al. -- incl., <mark>A. Mahjoub</mark>, <mark>D. R. Müller</mark> |\n",
       "|*Appeared on*| *2022-08-25*|\n",
       "|*Comments*| *accepted by MNRAS*|\n",
       "|**Abstract**| Ammonium hydrosulphide has long since been postulated to exist at least in certain layers of the giant planets. Its radiation products may be the reason for the red colour seen on Jupiter. Several ammonium salts, the products of NH3 and an acid, have previously been detected at comet 67P/Churyumov-Gerasimenko. The acid H2S is the fifth most abundant molecule in the coma of 67P followed by NH3. In order to look for the salt NH4+SH-, we analysed in situ measurements from the Rosetta/ROSINA Double Focusing Mass Spectrometer during the Rosetta mission. NH3 and H2S appear to be independent of each other when sublimating directly from the nucleus. However, we observe a strong correlation between the two species during dust impacts, clearly pointing to the salt. We find that NH4+SH- is by far the most abundant salt, more abundant in the dust impacts than even water. We also find all previously detected ammonium salts and for the first time ammonium fluoride. The amount of ammonia and acids balance each other, confirming that ammonia is mostly in the form of salt embedded into dust grains. Allotropes S2 and S3 are strongly enhanced in the impacts, while H2S2 and its fragment HS2 are not detected, which is most probably the result of radiolysis of NH4+SH-. This makes a prestellar origin of the salt likely. Our findings may explain the apparent depletion of nitrogen in comets and maybe help to solve the riddle of the missing sulphur in star forming regions. |\n",
       "|<p style=\"color:red\"> **ERROR** </p>| <p style=\"color:red\">latex error not a gzip file</p> |"
      ],
      "text/plain": [
       "<IPython.core.display.Markdown object>"
      ]
     },
     "metadata": {},
     "output_type": "display_data"
    }
   ],
   "source": [
    "import datetime\n",
    "today = str(datetime.date.today())\n",
    "logfile = f\"_build/html/logs/log-{today}.md\"\n",
    "\n",
    "\n",
    "with open(logfile, 'w') as logs:\n",
    "    # Success\n",
    "    logs.write(f'# Arxiv on Deck 2: Logs - {today}\\n\\n')\n",
    "    logs.write(\"\"\"* Arxiv had {0:,d} new papers\\n\"\"\".format(len(new_papers)))\n",
    "    logs.write(\"\"\"    * {0:,d} with possible author matches\\n\\n\"\"\".format(len(candidates)))\n",
    "    logs.write(\"## Sucessful papers\\n\\n\")\n",
    "    display(Markdown(\"## Successful papers\"))\n",
    "    success = [k[0] for k in documents]\n",
    "    for candid in candidates:\n",
    "        if candid['identifier'].split(':')[-1] in success:\n",
    "            display(candid)\n",
    "            logs.write(candid.generate_markdown_text() + '\\n\\n')\n",
    "\n",
    "    ## failed\n",
    "    logs.write(\"## Failed papers\\n\\n\")\n",
    "    display(Markdown(\"## Failed papers\"))\n",
    "    failed = sorted(failed, key=lambda x: x[1])\n",
    "    current_reason = \"\"\n",
    "    for paper, reason in failed:\n",
    "        if 'affiliation' in reason:\n",
    "            color = 'green'\n",
    "        else:\n",
    "            color = 'red'\n",
    "        data = Markdown(\n",
    "                paper.generate_markdown_text() + \n",
    "                f'\\n|<p style=\"color:{color:s}\"> **ERROR** </p>| <p style=\"color:{color:s}\">{reason:s}</p> |'\n",
    "               )\n",
    "        if reason != current_reason:\n",
    "            logs.write(f'### {reason:s} \\n\\n')\n",
    "            current_reason = reason\n",
    "        logs.write(data.data + '\\n\\n')\n",
    "        \n",
    "        # only display here the important errors (all in logs)\n",
    "        # if color in ('red',):\n",
    "        display(data)"
   ]
  },
  {
   "cell_type": "markdown",
   "id": "472d20ee",
   "metadata": {
    "papermill": {
     "duration": 0.009493,
     "end_time": "2022-08-25T07:13:57.227654",
     "exception": false,
     "start_time": "2022-08-25T07:13:57.218161",
     "status": "completed"
    },
    "tags": []
   },
   "source": [
    "## Export documents\n",
    "\n",
    "We now write the .md files and export relevant images"
   ]
  },
  {
   "cell_type": "code",
   "execution_count": 7,
   "id": "d426aed9",
   "metadata": {
    "execution": {
     "iopub.execute_input": "2022-08-25T07:13:57.244292Z",
     "iopub.status.busy": "2022-08-25T07:13:57.243733Z",
     "iopub.status.idle": "2022-08-25T07:13:57.252792Z",
     "shell.execute_reply": "2022-08-25T07:13:57.252056Z"
    },
    "papermill": {
     "duration": 0.019544,
     "end_time": "2022-08-25T07:13:57.254507",
     "exception": false,
     "start_time": "2022-08-25T07:13:57.234963",
     "status": "completed"
    },
    "tags": []
   },
   "outputs": [],
   "source": [
    "def export_markdown_summary(md: str, md_fname:str, directory: str):\n",
    "    \"\"\"Export MD document and associated relevant images\"\"\"\n",
    "    import os\n",
    "    import shutil\n",
    "    import re\n",
    "\n",
    "    if (os.path.exists(directory) and not os.path.isdir(directory)):\n",
    "        raise RuntimeError(f\"a non-directory file exists with name {directory:s}\")\n",
    "\n",
    "    if (not os.path.exists(directory)):\n",
    "        print(f\"creating directory {directory:s}\")\n",
    "        os.mkdir(directory)\n",
    "\n",
    "    fig_fnames = (re.compile(r'\\[Fig.*\\]\\((.*)\\)').findall(md) + \n",
    "                  re.compile(r'\\<img src=\"([^>\\s]*)\"[^>]*/>').findall(md))\n",
    "    for fname in fig_fnames:\n",
    "        if 'http' in fname:\n",
    "            # No need to copy online figures\n",
    "            continue\n",
    "        destdir = os.path.join(directory, os.path.dirname(fname))\n",
    "        destfname = os.path.join(destdir, os.path.basename(fname))\n",
    "        try:\n",
    "            os.makedirs(destdir)\n",
    "        except FileExistsError:\n",
    "            pass\n",
    "        shutil.copy(fname, destfname)\n",
    "    with open(os.path.join(directory, md_fname), 'w') as fout:\n",
    "        fout.write(md)\n",
    "    print(\"exported in \", os.path.join(directory, md_fname))\n",
    "    [print(\"    + \" + os.path.join(directory,fk)) for fk in fig_fnames]"
   ]
  },
  {
   "cell_type": "code",
   "execution_count": 8,
   "id": "014d04a4",
   "metadata": {
    "execution": {
     "iopub.execute_input": "2022-08-25T07:13:57.270756Z",
     "iopub.status.busy": "2022-08-25T07:13:57.270281Z",
     "iopub.status.idle": "2022-08-25T07:13:57.279678Z",
     "shell.execute_reply": "2022-08-25T07:13:57.278907Z"
    },
    "papermill": {
     "duration": 0.019453,
     "end_time": "2022-08-25T07:13:57.281278",
     "exception": false,
     "start_time": "2022-08-25T07:13:57.261825",
     "status": "completed"
    },
    "tags": []
   },
   "outputs": [
    {
     "name": "stdout",
     "output_type": "stream",
     "text": [
      "exported in  _build/html/2208.11360.md\n",
      "    + _build/html/tmp_2208.11360/./Source.png\n",
      "    + _build/html/tmp_2208.11360/./Bench_Schematics.jpg\n",
      "    + _build/html/tmp_2208.11360/./WFS_fond_blanc2.jpg\n",
      "    + _build/html/tmp_2208.11360/./G+_Implantation2.jpg\n",
      "    + _build/html/tmp_2208.11360/./Phase_Mask.jpg\n",
      "    + _build/html/tmp_2208.11360/./Alignment_Masks.jpg\n",
      "    + _build/html/tmp_2208.11360/./DM_Mount.jpg\n",
      "    + _build/html/tmp_2208.11360/./PSF_Jolie22.jpg\n",
      "    + _build/html/tmp_2208.11360/./PSF_speckle.jpg\n",
      "    + _build/html/tmp_2208.11360/./Pupil_Phasemask_crop.jpg\n"
     ]
    }
   ],
   "source": [
    "for paper_id, md in documents:\n",
    "    export_markdown_summary(md, f\"{paper_id:s}.md\", '_build/html/')"
   ]
  },
  {
   "cell_type": "markdown",
   "id": "f087a0a7",
   "metadata": {
    "papermill": {
     "duration": 0.007496,
     "end_time": "2022-08-25T07:13:57.296349",
     "exception": false,
     "start_time": "2022-08-25T07:13:57.288853",
     "status": "completed"
    },
    "tags": []
   },
   "source": [
    "## Display the papers\n",
    "\n",
    "Not necessary but allows for a quick check."
   ]
  },
  {
   "cell_type": "code",
   "execution_count": 9,
   "id": "fd25f625",
   "metadata": {
    "execution": {
     "iopub.execute_input": "2022-08-25T07:13:57.313133Z",
     "iopub.status.busy": "2022-08-25T07:13:57.312605Z",
     "iopub.status.idle": "2022-08-25T07:13:57.318341Z",
     "shell.execute_reply": "2022-08-25T07:13:57.317663Z"
    },
    "papermill": {
     "duration": 0.016255,
     "end_time": "2022-08-25T07:13:57.319952",
     "exception": false,
     "start_time": "2022-08-25T07:13:57.303697",
     "status": "completed"
    },
    "scrolled": false,
    "tags": []
   },
   "outputs": [
    {
     "data": {
      "text/markdown": [
       "<div class=\"macros\" style=\"visibility:hidden;\">\n",
       "$\\newcommand{\\ensuremath}{}$\n",
       "$\\newcommand{\\xspace}{}$\n",
       "$\\newcommand{\\object}[1]{\\texttt{#1}}$\n",
       "$\\newcommand{\\farcs}{{.}''}$\n",
       "$\\newcommand{\\farcm}{{.}'}$\n",
       "$\\newcommand{\\arcsec}{''}$\n",
       "$\\newcommand{\\arcmin}{'}$\n",
       "$\\newcommand{\\ion}[2]{#1#2}$\n",
       "$\\newcommand{\\textsc}[1]{\\textrm{#1}}$\n",
       "$\\newcommand{\\hl}[1]{\\textrm{#1}}$\n",
       "$\\newcommand{\\baselinestretch}{1.0}$</div>\n",
       "\n",
       "<div class=\"macros\" style=\"visibility:hidden;\">\n",
       "$\\newcommand{$\\ensuremath$}{}$\n",
       "$\\newcommand{$\\xspace$}{}$\n",
       "$\\newcommand{$\\object$}[1]{\\texttt{#1}}$\n",
       "$\\newcommand{$\\farcs$}{{.}''}$\n",
       "$\\newcommand{$\\farcm$}{{.}'}$\n",
       "$\\newcommand{$\\arcsec$}{''}$\n",
       "$\\newcommand{$\\arcmin$}{'}$\n",
       "$\\newcommand{$\\ion$}[2]{#1#2}$\n",
       "$\\newcommand{$\\textsc$}[1]{\\textrm{#1}}$\n",
       "$\\newcommand{$\\hl$}[1]{\\textrm{#1}}$\n",
       "$\\newcommand{$\\baselinestretch$}{1.0}$</div>\n",
       "\n",
       "\n",
       "\n",
       "<div id=\"title\">\n",
       "\n",
       "# Building a GRAVITY+ Adaptive Optics Test Bench\n",
       "\n",
       "</div>\n",
       "<div id=\"comments\">\n",
       "\n",
       "[![arXiv](https://img.shields.io/badge/arXiv-2208.11360-b31b1b.svg)](https://arxiv.org/abs/2208.11360)<mark>Appeared on: 2022-08-25</mark> - __\n",
       "\n",
       "</div>\n",
       "<div id=\"authors\">\n",
       "\n",
       "Gravity Plus Consortium, et al. -- incl., <mark><mark>Frank Eisenhauer</mark></mark>, <mark><mark>Laura Kreidberg</mark></mark>\n",
       "\n",
       "</div>\n",
       "<div id=\"abstract\">\n",
       "\n",
       "**Abstract:** We present the testbench aimed at integrating the GRAVITY+ adaptive optics GPAO. It consists of two independent elements, one reproducing the Coudé focus of the telescope, including the telescope deformable mirror mount (with its surface facing down), and one reproducing the Coudé room opto-mechanical environment, including a downwards-propagating beam, and the telescope mechanical interfaces in order to fit in the new GPAO wavefront sensor. We discuss in this paper the design of this bench and the solutions we adopted to keep the cost low, keep the design compact (allowing it to be fully contained in a 20 sqm clean room), and align the bench independently from the adaptive optics. We also discuss the features we have set in this bench.\n",
       "\n",
       "</div>\n",
       "\n",
       "<div id=\"div_fig1\">\n",
       "\n",
       "<img src=\"tmp_2208.11360/./Source.png\" alt=\"Fig1.1\" width=\"25%\"/><img src=\"tmp_2208.11360/./Bench_Schematics.jpg\" alt=\"Fig1.2\" width=\"25%\"/><img src=\"tmp_2208.11360/./WFS_fond_blanc2.jpg\" alt=\"Fig1.3\" width=\"25%\"/><img src=\"tmp_2208.11360/./G+_Implantation2.jpg\" alt=\"Fig1.4\" width=\"25%\"/>\n",
       "\n",
       "**Figure 1. -** {\\bf Top-Left:} CAD model of the testbench NGS light source and a sketch of the LGS light source. {\\bf Top-Right:} GPAO test bench telescope simulator CAD view, with the Corrective Optics support structure on the top-left. Optical elements have all a 3-letter acronym recalling their functions (see text for details). {\\bf Bottom-Left:} WFS support stucture CAD view.  {\\bf Bottom-Right:} The GPAO testbench in its clean room. (*fig:schematics*)\n",
       "\n",
       "</div>\n",
       "<div id=\"div_fig2\">\n",
       "\n",
       "<img src=\"tmp_2208.11360/./Phase_Mask.jpg\" alt=\"Fig3.1\" width=\"33%\"/><img src=\"tmp_2208.11360/./Alignment_Masks.jpg\" alt=\"Fig3.2\" width=\"33%\"/><img src=\"tmp_2208.11360/./DM_Mount.jpg\" alt=\"Fig3.3\" width=\"33%\"/>\n",
       "\n",
       "**Figure 3. -** {\\bf From left to right:} SILIOS phase plate installed on its rotating mount.\n",
       "    3D-printed masks used for the alignment of the testbench. Installation of the Corrective Optics in Nice with its \"dummy\" flat mirror that replaces the Deformable Mirror for optical alignments. (*fig:phasemask*)\n",
       "\n",
       "</div>\n",
       "<div id=\"div_fig3\">\n",
       "\n",
       "<img src=\"tmp_2208.11360/./PSF_Jolie22.jpg\" alt=\"Fig4.1\" width=\"33%\"/><img src=\"tmp_2208.11360/./PSF_speckle.jpg\" alt=\"Fig4.2\" width=\"33%\"/><img src=\"tmp_2208.11360/./Pupil_Phasemask_crop.jpg\" alt=\"Fig4.3\" width=\"33%\"/>\n",
       "\n",
       "**Figure 4. -** {\\bf Left:} GPAO testbench PSF core (hyperbolic arc-sinus scale), measured with the visible bench camera. {\\bf Middle:} visible PSF with the phase mask in place (screen shot). {\\bf Right:} Pupil vizualisation, showing the UT mask (in black) in front of the phase mask (giving an uniform grainy pattern). (*fig:psfpup*)\n",
       "\n",
       "</div>"
      ],
      "text/plain": [
       "<IPython.core.display.Markdown object>"
      ]
     },
     "metadata": {},
     "output_type": "display_data"
    }
   ],
   "source": [
    "[display(Markdown(k[1])) for k in documents];"
   ]
  },
  {
   "cell_type": "markdown",
   "id": "873873a4",
   "metadata": {
    "papermill": {
     "duration": 0.007821,
     "end_time": "2022-08-25T07:13:57.335336",
     "exception": false,
     "start_time": "2022-08-25T07:13:57.327515",
     "status": "completed"
    },
    "tags": []
   },
   "source": [
    "# Create HTML index"
   ]
  },
  {
   "cell_type": "code",
   "execution_count": 10,
   "id": "cf665672",
   "metadata": {
    "execution": {
     "iopub.execute_input": "2022-08-25T07:13:57.352298Z",
     "iopub.status.busy": "2022-08-25T07:13:57.351758Z",
     "iopub.status.idle": "2022-08-25T07:13:57.361442Z",
     "shell.execute_reply": "2022-08-25T07:13:57.360703Z"
    },
    "papermill": {
     "duration": 0.02024,
     "end_time": "2022-08-25T07:13:57.363050",
     "exception": false,
     "start_time": "2022-08-25T07:13:57.342810",
     "status": "completed"
    },
    "tags": []
   },
   "outputs": [
    {
     "name": "stdout",
     "output_type": "stream",
     "text": [
      "21  publications in the last 7 days.\n",
      "\t _build/html/2208.11360.md\n",
      "\t _build/html/2208.09335.md\n",
      "\t _build/html/2208.08872.md\n",
      "\t _build/html/2204.06393.md\n",
      "\t _build/html/2204.03335.md\n",
      "\t _build/html/2204.03253.md\n",
      "\t _build/html/2204.02998.md\n",
      "\t _build/html/2204.02109.md\n",
      "\t _build/html/2204.02017.md\n",
      "\t _build/html/2204.01824.md\n",
      "\t _build/html/2204.01758.md\n",
      "\t _build/html/2204.01245.md\n",
      "\t _build/html/2204.00793.md\n",
      "\t _build/html/2204.00342.md\n",
      "\t _build/html/2203.16959.md\n",
      "\t _build/html/2203.16856.md\n",
      "\t _build/html/2203.16735.md\n",
      "\t _build/html/2203.16734.md\n",
      "\t _build/html/2203.16504.md\n",
      "\t _build/html/2203.15822.md\n",
      "\t _build/html/2203.15811.md\n"
     ]
    }
   ],
   "source": [
    "from datetime import datetime, timedelta, timezone\n",
    "from glob import glob\n",
    "\n",
    "files = glob('_build/html/*.md')\n",
    "days = 7\n",
    "now = datetime.today()\n",
    "res = []\n",
    "for fk in files:\n",
    "    stat_result = os.stat(fk).st_ctime\n",
    "    modified = datetime.fromtimestamp(stat_result, tz=timezone.utc).replace(tzinfo=None)\n",
    "    delta = now.today() - modified\n",
    "    if delta <= timedelta(days=days):\n",
    "        res.append((delta.seconds, fk))\n",
    "res = [k[1] for k in reversed(sorted(res, key=lambda x:x[1]))]\n",
    "npub = len(res)\n",
    "print(len(res), f\" publications in the last {days:d} days.\")\n",
    "[ print('\\t', k) for k in res ];"
   ]
  },
  {
   "cell_type": "code",
   "execution_count": 11,
   "id": "52ca0208",
   "metadata": {
    "execution": {
     "iopub.execute_input": "2022-08-25T07:13:57.381016Z",
     "iopub.status.busy": "2022-08-25T07:13:57.380464Z",
     "iopub.status.idle": "2022-08-25T07:13:57.387939Z",
     "shell.execute_reply": "2022-08-25T07:13:57.387327Z"
    },
    "papermill": {
     "duration": 0.018851,
     "end_time": "2022-08-25T07:13:57.389564",
     "exception": false,
     "start_time": "2022-08-25T07:13:57.370713",
     "status": "completed"
    },
    "scrolled": false,
    "tags": []
   },
   "outputs": [],
   "source": [
    "def create_carousel(npub=4):\n",
    "    \"\"\" Generate the HTML code for a carousel with `npub` slides \"\"\"\n",
    "    carousel = [\"\"\"<section class=\"carousel\" aria-label=\"Gallery\">\"\"\",\n",
    "                \"\"\"  <ol class=\"carousel__viewport\">\"\"\",\n",
    "    ]\n",
    "    for k in range(1, npub + 1):\n",
    "        prev_ = k - 1\n",
    "        next_ = k + 1\n",
    "        if prev_ <= 0:\n",
    "            prev_ = npub\n",
    "        if next_ > npub:\n",
    "            next_ = 1\n",
    "        text  = f\"\"\"    <li id=\"carousel__slide{k}\" tabindex=\"0\" class=\"carousel__slide\">\\n\"\"\"\n",
    "        text += f\"\"\"       <div class=\"carousel__snapper\">\\n\"\"\"\n",
    "        text += f\"\"\"         <a href=\"#carousel__slide{prev_}\" class=\"carousel__prev\">Go to previous slide</a>\\n\"\"\"\n",
    "        text += f\"\"\"         <a href=\"#carousel__slide{next_}\" class=\"carousel__next\">Go to next slide</a>\\n\"\"\"\n",
    "        text += f\"\"\"         <div id=\"slide{k}_content\" class=\"md_view\" >Content {k}</div>\\n\"\"\"\n",
    "        text += f\"\"\"       </div>\\n\"\"\"\n",
    "        text += f\"\"\"    </li>\"\"\"\n",
    "        carousel.append(text)\n",
    "\n",
    "    carousel.extend([\n",
    "        \"\"\"  </ol>\"\"\",\n",
    "        \"\"\"  <aside class=\"carousel__navigation\">\"\"\",\n",
    "        \"\"\"    <ol class=\"carousel__navigation-list\">\"\"\"])\n",
    "\n",
    "    for k in range(1, npub + 1):\n",
    "        text  = f\"\"\"      <li class=\"carousel__navigation-item\">\\n\"\"\"\n",
    "        text += f\"\"\"        <a href=\"#carousel__slide{k}\" class=\"carousel__navigation-button\">Go to {k}</a>\\n\"\"\"\n",
    "        text += f\"\"\"      </li>\"\"\"\n",
    "        carousel.append(text)\n",
    "    carousel.extend([\"\"\"    </ol>\"\"\", \"\"\"  </aside>\"\"\", \"\"\"</section>\"\"\"])\n",
    "\n",
    "    return '\\n'.join(carousel)"
   ]
  },
  {
   "cell_type": "code",
   "execution_count": 12,
   "id": "a6eac5b6",
   "metadata": {
    "execution": {
     "iopub.execute_input": "2022-08-25T07:13:57.407505Z",
     "iopub.status.busy": "2022-08-25T07:13:57.407078Z",
     "iopub.status.idle": "2022-08-25T07:13:57.413961Z",
     "shell.execute_reply": "2022-08-25T07:13:57.413205Z"
    },
    "papermill": {
     "duration": 0.018051,
     "end_time": "2022-08-25T07:13:57.415571",
     "exception": false,
     "start_time": "2022-08-25T07:13:57.397520",
     "status": "completed"
    },
    "scrolled": false,
    "tags": []
   },
   "outputs": [],
   "source": [
    "carousel = create_carousel(npub)\n",
    "docs = ', '.join(['\"{0:s}\"'.format(k.split('/')[-1]) for k in res])\n",
    "slides = ', '.join([f'\"slide{k}_content\"' for k in range(1, npub + 1)])\n",
    "\n",
    "script = f\"\"\"\n",
    "const docs = [{docs}]\n",
    "\n",
    "const slides = [{slides}]\n",
    "\"\"\" + \"\"\"\n",
    "async function run() {\n",
    "    for (let i = 0; i < docs.length; i++) {\n",
    "        let file = await fetch(docs[i]);\n",
    "        let text = await file.text()\n",
    "        document.getElementById(slides[i]).innerHTML =\n",
    "            marked.parse(text);\n",
    "    }\n",
    "    hljs.highlightAll();\n",
    "}\n",
    "run()\n",
    "\"\"\"\n",
    "\n",
    "page = f\"\"\"<!doctype html>\n",
    "<html lang=\"en\">\n",
    "\n",
    "<head>\n",
    "  <meta charset=\"utf-8\">\n",
    "  <meta name=\"viewport\" content=\"width=device-width, initial-scale=1\">\n",
    "  <!-- Bootstrap CSS -->\n",
    "  <link href=\"https://cdn.jsdelivr.net/npm/bootstrap@5.0.2/dist/css/bootstrap.min.css\" rel=\"stylesheet\"\n",
    "   integrity=\"sha384-EVSTQN3/azprG1Anm3QDgpJLIm9Nao0Yz1ztcQTwFspd3yD65VohhpuuCOmLASjC\" crossorigin=\"anonymous\">\n",
    "  <!-- highlight.js CSS -->\n",
    "  <link rel=\"stylesheet\" href=\"https://cdnjs.cloudflare.com/ajax/libs/highlight.js/11.1.0/styles/default.min.css\">\n",
    "  <!-- Mathjax 3 -->\n",
    "  <script type=\"text/javascript\" id=\"MathJax-config\" src=\"mathjax_config.js\"> </script>\n",
    "  <script type=\"text/javascript\" id=\"MathJax-script\" async \n",
    "    src=\"https://cdn.jsdelivr.net/npm/mathjax@3/es5/tex-mml-chtml.js\">\n",
    "  </script>\n",
    "  <link rel=\"stylesheet\" href=\"index_carousel.css\">\n",
    "  <link rel=\"icon\" type=\"image/x-icon\" href=\"https://www.mpia.de/assets/touch-icon-32x32-a66937bcebc4e8894ebff1f41a366c7c7220fd97a38869ee0f2db65a9f59b6c1.png\">\n",
    "  <title>MPIA Arxiv on deck!</title>\n",
    "</head>\n",
    "\n",
    "<body>\n",
    "  <div id=\"header\"> <img src=\"header_banner.png\" width=\"100%\"></div>\n",
    "  <div id=\"suptitle\"> 7-day archives </div>\n",
    "  <div id=\"info\">\n",
    "    <img src=\"https://pngimg.com/uploads/github/github_PNG58.png\" height=30rem></img>\n",
    "    <a href=https://github.com/mpi-astronomy/arxiv_display style=\"color:black;\">github/mpi-astronomy/arxiv_display</a> \n",
    "  </div>\n",
    "  {carousel:s}\n",
    "</body>\n",
    "\n",
    "<!-- Render Markdown -->\n",
    "\n",
    "<body>\n",
    "  <!-- highlight.js: https://highlightjs.org/download/ -->\n",
    "  <script src=\"https://cdnjs.cloudflare.com/ajax/libs/highlight.js/11.5.0/highlight.min.js\"></script>\n",
    "  <!-- marked.js -->\n",
    "  <script src=\"https://cdn.jsdelivr.net/npm/marked/marked.min.js\"></script>\n",
    "  <script>{script:s}</script>\n",
    "</body>\n",
    "</html>\n",
    "\"\"\"\n",
    "with open(\"_build/html/index_7days.html\", 'w') as fout:\n",
    "    fout.write(page)"
   ]
  },
  {
   "cell_type": "markdown",
   "id": "1cebacbc",
   "metadata": {
    "papermill": {
     "duration": 0.007884,
     "end_time": "2022-08-25T07:13:57.431226",
     "exception": false,
     "start_time": "2022-08-25T07:13:57.423342",
     "status": "completed"
    },
    "tags": []
   },
   "source": [
    "# Debugging papers"
   ]
  },
  {
   "cell_type": "raw",
   "id": "debe7cc6",
   "metadata": {
    "papermill": {
     "duration": 0.007743,
     "end_time": "2022-08-25T07:13:57.446566",
     "exception": false,
     "start_time": "2022-08-25T07:13:57.438823",
     "status": "completed"
    },
    "tags": []
   },
   "source": [
    "raise NotImplementedError(\"Manual Stop\")"
   ]
  },
  {
   "cell_type": "raw",
   "id": "eb169192",
   "metadata": {
    "papermill": {
     "duration": 0.00764,
     "end_time": "2022-08-25T07:13:57.461738",
     "exception": false,
     "start_time": "2022-08-25T07:13:57.454098",
     "status": "completed"
    },
    "scrolled": true,
    "tags": []
   },
   "source": [
    "from IPython.display import display, Markdown\n",
    "from TexSoup import TexSoup\n",
    "import re\n",
    "\n",
    "def bracket_error(source: str):\n",
    "    \"\"\" Find problematic portions of the document \"\"\"\n",
    "    \n",
    "    print(\"len(source)\", len(source))\n",
    "    \n",
    "    # Checking header\n",
    "    begin_doc = next(re.finditer(r'\\\\begin\\{document\\}', doc.source)).span()[1]\n",
    "    header = source[:begin_doc]\n",
    "    text = header + r\"\\n\\end{document}\"\n",
    "\n",
    "    try:\n",
    "        # print(\"Header check... \", end='')\n",
    "        TexSoup(text)\n",
    "        display(Markdown(f\"**[OK]** - Header\"))\n",
    "    except:\n",
    "        raise RuntimeError(\"Error in the header\")\n",
    "        \n",
    "    # Check the text per section until the end.\n",
    "    # Do not stop and try them all.\n",
    "    \n",
    "    problematic_text = []\n",
    "    \n",
    "    sections = ([(0, begin_doc, 'until first section')] + \n",
    "                [(g.span()[0], g.span()[1], g.group()) for g in re.finditer(r'\\\\section\\{.*\\}', source)] +\n",
    "                [(g.span()[0], g.span()[1], g.group()) for g in re.finditer(r'\\\\begin\\{appendix\\}', source)]\n",
    "               )\n",
    "    sections.append([len(source), len(source), 'end'])\n",
    "    \n",
    "    sections = sorted(sections, key=lambda x: x[0])\n",
    "    \n",
    "    prev_pos, prev_name = (0, 'header')\n",
    "    parsed = []\n",
    "    \n",
    "    for span, span_end, name in sections:\n",
    "\n",
    "        if span - prev_pos <= 0:\n",
    "            continue\n",
    "            \n",
    "\n",
    "        text = source[prev_pos:span]\n",
    "        if prev_pos > begin_doc:\n",
    "            text = r\"\\n\\begin{document}\" + text + r\"\\n\\end{document}\"\n",
    "        else:\n",
    "            text = text + r\"\\n\\end{document}\"\n",
    "        try:\n",
    "            #print(f\"{prev_pos}:{prev_name}-->{span}:{name} check... \", end='')\n",
    "            parsed.append(TexSoup(text, tolerance=1))  # allow not ending env\n",
    "            display(Markdown(f\"**[OK]** - *{prev_pos}*:{prev_name} &rarr; *{span}*:{name}\"))\n",
    "            # print(\"ok\")\n",
    "\n",
    "            prev_pos = span\n",
    "            prev_name = name\n",
    "        except:\n",
    "            # print(f\"error between {prev_pos} and {span}\")\n",
    "            display(Markdown(f\"**[ERR]** *{prev_pos}*:{prev_name} &rarr; *{span}*:{name}\"))\n",
    "            problematic_text.append((prev_pos, source[prev_pos:span]))\n",
    "            prev_pos = span\n",
    "            prev_name = name\n",
    "            # raise\n",
    "    return problematic_text, parsed\n",
    "\n",
    "\n",
    "def check_environment(text, offset=0):\n",
    "    \"\"\" Check environment \"\"\"\n",
    "    env = re.compile(r\"\\\\begin\\{(?P<env>.*)\\}(.*)\\\\end\\{(?P=env)\\}\", re.DOTALL)\n",
    "\n",
    "    for match in env.finditer(text):\n",
    "        beg, end = match.span()\n",
    "        beg += offset\n",
    "        end += offset\n",
    "        envname = match.groups()[0]\n",
    "        try:\n",
    "            latex.TexSoup(match.group())\n",
    "        except Exception as e:\n",
    "            display(e)\n",
    "            print(f\"Error in {envname:s} between {beg} and {end}\")\n",
    "            return match.groups()[1], beg, end"
   ]
  },
  {
   "cell_type": "raw",
   "id": "2315e835",
   "metadata": {
    "papermill": {
     "duration": 0.007609,
     "end_time": "2022-08-25T07:13:57.476804",
     "exception": false,
     "start_time": "2022-08-25T07:13:57.469195",
     "status": "completed"
    },
    "scrolled": false,
    "tags": []
   },
   "source": [
    "import importlib\n",
    "importlib.reload(latex)\n",
    "which = \"2204.03253\"\n",
    "paper_id = f'{which:s}'\n",
    "folder = f'tmp_{paper_id:s}'\n",
    "\n",
    "if not os.path.isdir(folder):\n",
    "    folder = retrieve_document_source(f\"{paper_id}\", f'tmp_{paper_id}')\n",
    "\n",
    "try:\n",
    "    doc = latex.LatexDocument(folder, validation=validation)    \n",
    "except AffiliationError as affilerror:\n",
    "    msg = f\"ArXiv:{paper_id:s} is not an MPIA paper... \" + str(affilerror)\n",
    "    print(msg)\n",
    "\n",
    "\n",
    "# Hack because sometimes author parsing does not work well\n",
    "if (len(doc.authors) != len(paper['authors'])):\n",
    "    doc._authors = paper['authors']\n",
    "if (doc.abstract) in (None, ''):\n",
    "    doc._abstract = paper['abstract']\n",
    "\n",
    "doc.comment = get_markdown_badge(paper_id) + \" _\" + paper['comments'] + \"_\"\n",
    "doc.highlight_authors_in_list(hl_list)\n",
    "\n",
    "full_md = doc.generate_markdown_text()"
   ]
  },
  {
   "cell_type": "raw",
   "id": "dd3781db",
   "metadata": {
    "papermill": {
     "duration": 0.007652,
     "end_time": "2022-08-25T07:13:57.491941",
     "exception": false,
     "start_time": "2022-08-25T07:13:57.484289",
     "status": "completed"
    },
    "scrolled": false,
    "tags": []
   },
   "source": [
    "doc"
   ]
  },
  {
   "cell_type": "raw",
   "id": "c6eed834",
   "metadata": {
    "papermill": {
     "duration": 0.00764,
     "end_time": "2022-08-25T07:13:57.507188",
     "exception": false,
     "start_time": "2022-08-25T07:13:57.499548",
     "status": "completed"
    },
    "tags": []
   },
   "source": [
    "# [check_environment(k) for k in bracket_error(doc.source)]\n",
    "_, _, a = latex.get_content_per_section(doc.source, verbose=True)\n",
    "if not a:\n",
    "    print(\"no issues per section\")\n",
    "for ak in a:\n",
    "    r = check_environment(ak[1], offset=ak[0])\n",
    "    print(r[1], r[2])\n",
    "    print(r[0])"
   ]
  },
  {
   "cell_type": "code",
   "execution_count": null,
   "id": "71ce768a",
   "metadata": {
    "papermill": {
     "duration": 0.007728,
     "end_time": "2022-08-25T07:13:57.522383",
     "exception": false,
     "start_time": "2022-08-25T07:13:57.514655",
     "status": "completed"
    },
    "tags": []
   },
   "outputs": [],
   "source": []
  }
 ],
 "metadata": {
  "kernelspec": {
   "display_name": "Python 3.10.6 64-bit",
   "language": "python",
   "name": "python3"
  },
  "language_info": {
   "codemirror_mode": {
    "name": "ipython",
    "version": 3
   },
   "file_extension": ".py",
   "mimetype": "text/x-python",
   "name": "python",
   "nbconvert_exporter": "python",
   "pygments_lexer": "ipython3",
   "version": "3.9.13"
  },
  "papermill": {
   "default_parameters": {},
   "duration": 45.456555,
   "end_time": "2022-08-25T07:13:57.748228",
   "environment_variables": {},
   "exception": null,
   "input_path": "MPIA daily digest.ipynb",
   "output_path": "log.ipynb",
   "parameters": {},
   "start_time": "2022-08-25T07:13:12.291673",
   "version": "2.4.0"
  },
  "vscode": {
   "interpreter": {
    "hash": "e7370f93d1d0cde622a1f8e1c04877d8463912d04d973331ad4851f04de6915a"
   }
  },
  "widgets": {
   "application/vnd.jupyter.widget-state+json": {
    "state": {
     "163c4f5ee4b746bea335f47be0af6596": {
      "model_module": "@jupyter-widgets/base",
      "model_module_version": "2.0.0",
      "model_name": "LayoutModel",
      "state": {
       "_model_module": "@jupyter-widgets/base",
       "_model_module_version": "2.0.0",
       "_model_name": "LayoutModel",
       "_view_count": null,
       "_view_module": "@jupyter-widgets/base",
       "_view_module_version": "2.0.0",
       "_view_name": "LayoutView",
       "align_content": null,
       "align_items": null,
       "align_self": null,
       "border_bottom": null,
       "border_left": null,
       "border_right": null,
       "border_top": null,
       "bottom": null,
       "display": null,
       "flex": null,
       "flex_flow": null,
       "grid_area": null,
       "grid_auto_columns": null,
       "grid_auto_flow": null,
       "grid_auto_rows": null,
       "grid_column": null,
       "grid_gap": null,
       "grid_row": null,
       "grid_template_areas": null,
       "grid_template_columns": null,
       "grid_template_rows": null,
       "height": null,
       "justify_content": null,
       "justify_items": null,
       "left": null,
       "margin": null,
       "max_height": null,
       "max_width": null,
       "min_height": null,
       "min_width": null,
       "object_fit": null,
       "object_position": null,
       "order": null,
       "overflow": null,
       "padding": null,
       "right": null,
       "top": null,
       "visibility": null,
       "width": null
      }
     },
     "1c37ff55ae1443509f31e17dae4f4a5a": {
      "model_module": "@jupyter-widgets/controls",
      "model_module_version": "2.0.0",
      "model_name": "HTMLModel",
      "state": {
       "_dom_classes": [],
       "_model_module": "@jupyter-widgets/controls",
       "_model_module_version": "2.0.0",
       "_model_name": "HTMLModel",
       "_view_count": null,
       "_view_module": "@jupyter-widgets/controls",
       "_view_module_version": "2.0.0",
       "_view_name": "HTMLView",
       "description": "",
       "description_allow_html": false,
       "layout": "IPY_MODEL_ff1695a8720740faa73993caa3ce39d0",
       "placeholder": "​",
       "style": "IPY_MODEL_be585f55488842e3905c70e68d25faaa",
       "tabbable": null,
       "tooltip": null,
       "value": "100%"
      }
     },
     "4a9d778f7e064e5693588da8460609e1": {
      "model_module": "@jupyter-widgets/controls",
      "model_module_version": "2.0.0",
      "model_name": "FloatProgressModel",
      "state": {
       "_dom_classes": [],
       "_model_module": "@jupyter-widgets/controls",
       "_model_module_version": "2.0.0",
       "_model_name": "FloatProgressModel",
       "_view_count": null,
       "_view_module": "@jupyter-widgets/controls",
       "_view_module_version": "2.0.0",
       "_view_name": "ProgressView",
       "bar_style": "success",
       "description": "",
       "description_allow_html": false,
       "layout": "IPY_MODEL_b341cdc6ca184637b4f671528e3da8de",
       "max": 12.0,
       "min": 0.0,
       "orientation": "horizontal",
       "style": "IPY_MODEL_d95ac553e1164e15a73252ce09ea4d37",
       "tabbable": null,
       "tooltip": null,
       "value": 12.0
      }
     },
     "91e50655cd594de19326830ab58e5d34": {
      "model_module": "@jupyter-widgets/controls",
      "model_module_version": "2.0.0",
      "model_name": "HTMLModel",
      "state": {
       "_dom_classes": [],
       "_model_module": "@jupyter-widgets/controls",
       "_model_module_version": "2.0.0",
       "_model_name": "HTMLModel",
       "_view_count": null,
       "_view_module": "@jupyter-widgets/controls",
       "_view_module_version": "2.0.0",
       "_view_name": "HTMLView",
       "description": "",
       "description_allow_html": false,
       "layout": "IPY_MODEL_163c4f5ee4b746bea335f47be0af6596",
       "placeholder": "​",
       "style": "IPY_MODEL_9a0e7a28ffb84a3cbed97f59c8881563",
       "tabbable": null,
       "tooltip": null,
       "value": " 12/12 [00:22&lt;00:00,  2.42s/it]"
      }
     },
     "9a0e7a28ffb84a3cbed97f59c8881563": {
      "model_module": "@jupyter-widgets/controls",
      "model_module_version": "2.0.0",
      "model_name": "HTMLStyleModel",
      "state": {
       "_model_module": "@jupyter-widgets/controls",
       "_model_module_version": "2.0.0",
       "_model_name": "HTMLStyleModel",
       "_view_count": null,
       "_view_module": "@jupyter-widgets/base",
       "_view_module_version": "2.0.0",
       "_view_name": "StyleView",
       "background": null,
       "description_width": "",
       "font_size": null,
       "text_color": null
      }
     },
     "b341cdc6ca184637b4f671528e3da8de": {
      "model_module": "@jupyter-widgets/base",
      "model_module_version": "2.0.0",
      "model_name": "LayoutModel",
      "state": {
       "_model_module": "@jupyter-widgets/base",
       "_model_module_version": "2.0.0",
       "_model_name": "LayoutModel",
       "_view_count": null,
       "_view_module": "@jupyter-widgets/base",
       "_view_module_version": "2.0.0",
       "_view_name": "LayoutView",
       "align_content": null,
       "align_items": null,
       "align_self": null,
       "border_bottom": null,
       "border_left": null,
       "border_right": null,
       "border_top": null,
       "bottom": null,
       "display": null,
       "flex": null,
       "flex_flow": null,
       "grid_area": null,
       "grid_auto_columns": null,
       "grid_auto_flow": null,
       "grid_auto_rows": null,
       "grid_column": null,
       "grid_gap": null,
       "grid_row": null,
       "grid_template_areas": null,
       "grid_template_columns": null,
       "grid_template_rows": null,
       "height": null,
       "justify_content": null,
       "justify_items": null,
       "left": null,
       "margin": null,
       "max_height": null,
       "max_width": null,
       "min_height": null,
       "min_width": null,
       "object_fit": null,
       "object_position": null,
       "order": null,
       "overflow": null,
       "padding": null,
       "right": null,
       "top": null,
       "visibility": null,
       "width": null
      }
     },
     "be585f55488842e3905c70e68d25faaa": {
      "model_module": "@jupyter-widgets/controls",
      "model_module_version": "2.0.0",
      "model_name": "HTMLStyleModel",
      "state": {
       "_model_module": "@jupyter-widgets/controls",
       "_model_module_version": "2.0.0",
       "_model_name": "HTMLStyleModel",
       "_view_count": null,
       "_view_module": "@jupyter-widgets/base",
       "_view_module_version": "2.0.0",
       "_view_name": "StyleView",
       "background": null,
       "description_width": "",
       "font_size": null,
       "text_color": null
      }
     },
     "d95ac553e1164e15a73252ce09ea4d37": {
      "model_module": "@jupyter-widgets/controls",
      "model_module_version": "2.0.0",
      "model_name": "ProgressStyleModel",
      "state": {
       "_model_module": "@jupyter-widgets/controls",
       "_model_module_version": "2.0.0",
       "_model_name": "ProgressStyleModel",
       "_view_count": null,
       "_view_module": "@jupyter-widgets/base",
       "_view_module_version": "2.0.0",
       "_view_name": "StyleView",
       "bar_color": null,
       "description_width": ""
      }
     },
     "e13a5d00489e4572a6a9f5c13e5c7791": {
      "model_module": "@jupyter-widgets/base",
      "model_module_version": "2.0.0",
      "model_name": "LayoutModel",
      "state": {
       "_model_module": "@jupyter-widgets/base",
       "_model_module_version": "2.0.0",
       "_model_name": "LayoutModel",
       "_view_count": null,
       "_view_module": "@jupyter-widgets/base",
       "_view_module_version": "2.0.0",
       "_view_name": "LayoutView",
       "align_content": null,
       "align_items": null,
       "align_self": null,
       "border_bottom": null,
       "border_left": null,
       "border_right": null,
       "border_top": null,
       "bottom": null,
       "display": null,
       "flex": null,
       "flex_flow": null,
       "grid_area": null,
       "grid_auto_columns": null,
       "grid_auto_flow": null,
       "grid_auto_rows": null,
       "grid_column": null,
       "grid_gap": null,
       "grid_row": null,
       "grid_template_areas": null,
       "grid_template_columns": null,
       "grid_template_rows": null,
       "height": null,
       "justify_content": null,
       "justify_items": null,
       "left": null,
       "margin": null,
       "max_height": null,
       "max_width": null,
       "min_height": null,
       "min_width": null,
       "object_fit": null,
       "object_position": null,
       "order": null,
       "overflow": null,
       "padding": null,
       "right": null,
       "top": null,
       "visibility": null,
       "width": null
      }
     },
     "ec51b9a4a30d4a87aa9d322a25e9f20c": {
      "model_module": "@jupyter-widgets/controls",
      "model_module_version": "2.0.0",
      "model_name": "HBoxModel",
      "state": {
       "_dom_classes": [],
       "_model_module": "@jupyter-widgets/controls",
       "_model_module_version": "2.0.0",
       "_model_name": "HBoxModel",
       "_view_count": null,
       "_view_module": "@jupyter-widgets/controls",
       "_view_module_version": "2.0.0",
       "_view_name": "HBoxView",
       "box_style": "",
       "children": [
        "IPY_MODEL_1c37ff55ae1443509f31e17dae4f4a5a",
        "IPY_MODEL_4a9d778f7e064e5693588da8460609e1",
        "IPY_MODEL_91e50655cd594de19326830ab58e5d34"
       ],
       "layout": "IPY_MODEL_e13a5d00489e4572a6a9f5c13e5c7791",
       "tabbable": null,
       "tooltip": null
      }
     },
     "ff1695a8720740faa73993caa3ce39d0": {
      "model_module": "@jupyter-widgets/base",
      "model_module_version": "2.0.0",
      "model_name": "LayoutModel",
      "state": {
       "_model_module": "@jupyter-widgets/base",
       "_model_module_version": "2.0.0",
       "_model_name": "LayoutModel",
       "_view_count": null,
       "_view_module": "@jupyter-widgets/base",
       "_view_module_version": "2.0.0",
       "_view_name": "LayoutView",
       "align_content": null,
       "align_items": null,
       "align_self": null,
       "border_bottom": null,
       "border_left": null,
       "border_right": null,
       "border_top": null,
       "bottom": null,
       "display": null,
       "flex": null,
       "flex_flow": null,
       "grid_area": null,
       "grid_auto_columns": null,
       "grid_auto_flow": null,
       "grid_auto_rows": null,
       "grid_column": null,
       "grid_gap": null,
       "grid_row": null,
       "grid_template_areas": null,
       "grid_template_columns": null,
       "grid_template_rows": null,
       "height": null,
       "justify_content": null,
       "justify_items": null,
       "left": null,
       "margin": null,
       "max_height": null,
       "max_width": null,
       "min_height": null,
       "min_width": null,
       "object_fit": null,
       "object_position": null,
       "order": null,
       "overflow": null,
       "padding": null,
       "right": null,
       "top": null,
       "visibility": null,
       "width": null
      }
     }
    },
    "version_major": 2,
    "version_minor": 0
   }
  }
 },
 "nbformat": 4,
 "nbformat_minor": 5
}