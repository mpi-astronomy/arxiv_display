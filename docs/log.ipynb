{
 "cells": [
  {
   "cell_type": "markdown",
   "id": "92bcb855",
   "metadata": {
    "papermill": {
     "duration": 0.005487,
     "end_time": "2023-03-02T04:08:16.725629",
     "exception": false,
     "start_time": "2023-03-02T04:08:16.720142",
     "status": "completed"
    },
    "tags": []
   },
   "source": [
    "# MPIA Arxiv on Deck 2\n",
    "\n",
    "Contains the steps to produce the paper extractions."
   ]
  },
  {
   "cell_type": "code",
   "execution_count": 1,
   "id": "3a0d6e11",
   "metadata": {
    "execution": {
     "iopub.execute_input": "2023-03-02T04:08:16.735895Z",
     "iopub.status.busy": "2023-03-02T04:08:16.735531Z",
     "iopub.status.idle": "2023-03-02T04:08:17.011408Z",
     "shell.execute_reply": "2023-03-02T04:08:17.010521Z"
    },
    "papermill": {
     "duration": 0.284025,
     "end_time": "2023-03-02T04:08:17.014022",
     "exception": false,
     "start_time": "2023-03-02T04:08:16.729997",
     "status": "completed"
    },
    "tags": []
   },
   "outputs": [],
   "source": [
    "# Imports\n",
    "import os\n",
    "from IPython.display import Markdown, display\n",
    "from tqdm.notebook import tqdm\n",
    "import warnings\n",
    "from PIL import Image \n",
    "\n",
    "# requires arxiv_on_deck_2\n",
    "\n",
    "from arxiv_on_deck_2.arxiv2 import (get_new_papers, \n",
    "                                    get_paper_from_identifier,\n",
    "                                    retrieve_document_source, \n",
    "                                    get_markdown_badge)\n",
    "from arxiv_on_deck_2 import (latex,\n",
    "                             latex_bib,\n",
    "                             mpia,\n",
    "                             highlight_authors_in_list)\n",
    "\n",
    "# Sometimes images are really big\n",
    "Image.MAX_IMAGE_PIXELS = 1000000000 "
   ]
  },
  {
   "cell_type": "code",
   "execution_count": 2,
   "id": "22aa9d44",
   "metadata": {
    "execution": {
     "iopub.execute_input": "2023-03-02T04:08:17.025730Z",
     "iopub.status.busy": "2023-03-02T04:08:17.025135Z",
     "iopub.status.idle": "2023-03-02T04:08:17.031591Z",
     "shell.execute_reply": "2023-03-02T04:08:17.030694Z"
    },
    "papermill": {
     "duration": 0.015247,
     "end_time": "2023-03-02T04:08:17.033900",
     "exception": false,
     "start_time": "2023-03-02T04:08:17.018653",
     "status": "completed"
    },
    "tags": []
   },
   "outputs": [],
   "source": [
    "# Some useful definitions.\n",
    "\n",
    "class AffiliationWarning(UserWarning):\n",
    "    pass\n",
    "\n",
    "class AffiliationError(RuntimeError):\n",
    "    pass\n",
    "\n",
    "def validation(source: str):\n",
    "    \"\"\"Raises error paper during parsing of source file\n",
    "    \n",
    "    Allows checks before parsing TeX code.\n",
    "    \n",
    "    Raises AffiliationWarning\n",
    "    \"\"\"\n",
    "    check = mpia.affiliation_verifications(source, verbose=True)\n",
    "    if check is not True:\n",
    "        raise AffiliationError(\"mpia.affiliation_verifications: \" + check)\n",
    "\n",
    "        \n",
    "warnings.simplefilter('always', AffiliationWarning)"
   ]
  },
  {
   "cell_type": "code",
   "execution_count": 3,
   "id": "14622700",
   "metadata": {
    "execution": {
     "iopub.execute_input": "2023-03-02T04:08:17.043624Z",
     "iopub.status.busy": "2023-03-02T04:08:17.042965Z",
     "iopub.status.idle": "2023-03-02T04:08:17.047644Z",
     "shell.execute_reply": "2023-03-02T04:08:17.046742Z"
    },
    "papermill": {
     "duration": 0.01226,
     "end_time": "2023-03-02T04:08:17.050258",
     "exception": false,
     "start_time": "2023-03-02T04:08:17.037998",
     "status": "completed"
    },
    "tags": []
   },
   "outputs": [],
   "source": [
    "# additional CSS to consider. \n",
    "# TODO: Current into each exported file. \n",
    "#       This should be set once into the webpages directly.\n",
    "#       With only the class/id definitions in the .md files.\n",
    "\n",
    "debug_html = \"\"\"\n",
    "<style>\n",
    "#wrap{ overflow:auto; }\n",
    "#fig1{ background:yellow; width:100%; float:left; padding:5px;  }\n",
    "#fig2{ background:red; width:50%; float:left; clear:left; padding:5px;  }\n",
    "#fig3{ background:green; width:50%; float:left; padding:5px;   }\n",
    ".macros{ background:yellow; visibility:visible;}\n",
    "h1 {margin: 0 0 0 0;}\n",
    "mark {background-color:#fff3b6;}\n",
    "img {object-fit:contain; max-height:250px; display:inline-block; text-align: center;}\n",
    "</style>\n",
    "\"\"\" \n",
    "html = \"\"\"\n",
    "<style>\n",
    "#wrap{ overflow:auto; }\n",
    "#fig1{ width:100%; float:left; padding: 5px;  }\n",
    "#fig2{ width:50%; float:left; clear:left; padding: 5px;  }\n",
    "#fig3{ width:50%; float:left; padding: 5px;  }\n",
    ".macros{ visibility:hidden; height:0px; }\n",
    "h1 {margin: 0em 0 0 0;}\n",
    "mark {background-color:#fff3b6;}\n",
    "img {object-fit:contain; max-height:250px; display:inline-block; text-align: center;}\n",
    "</style>\n",
    "\"\"\""
   ]
  },
  {
   "cell_type": "markdown",
   "id": "14bd6310",
   "metadata": {
    "papermill": {
     "duration": 0.004255,
     "end_time": "2023-03-02T04:08:17.059029",
     "exception": false,
     "start_time": "2023-03-02T04:08:17.054774",
     "status": "completed"
    },
    "tags": []
   },
   "source": [
    "## get list of arxiv paper candidates\n",
    "\n",
    "We use the MPIA mitarbeiter list webpage from mpia.de to get author names\n",
    "We then get all new papers from Arxiv and match authors"
   ]
  },
  {
   "cell_type": "code",
   "execution_count": 4,
   "id": "2645e73a",
   "metadata": {
    "execution": {
     "iopub.execute_input": "2023-03-02T04:08:17.069832Z",
     "iopub.status.busy": "2023-03-02T04:08:17.069027Z",
     "iopub.status.idle": "2023-03-02T04:08:47.597451Z",
     "shell.execute_reply": "2023-03-02T04:08:47.593101Z"
    },
    "papermill": {
     "duration": 30.539371,
     "end_time": "2023-03-02T04:08:47.603062",
     "exception": false,
     "start_time": "2023-03-02T04:08:17.063691",
     "status": "completed"
    },
    "tags": []
   },
   "outputs": [
    {
     "name": "stdout",
     "output_type": "stream",
     "text": [
      "Arxiv has 64 new papers today\n",
      "          22 with possible author matches\n"
     ]
    }
   ],
   "source": [
    "# get list from MPIA website\n",
    "# it automatically filters identified non-scientists :func:`mpia.filter_non_scientists`\n",
    "mpia_authors = mpia.get_mpia_mitarbeiter_list()\n",
    "new_papers = get_new_papers()\n",
    "# add manual references\n",
    "add_paper_refs = []\n",
    "new_papers.extend([get_paper_from_identifier(k) for k in add_paper_refs])\n",
    "\n",
    "# select only papers with matching author names and highlight authors\n",
    "hl_list = [k[0] for k in mpia_authors]\n",
    "\n",
    "candidates = []\n",
    "for paperk in new_papers:\n",
    "    hl_authors = highlight_authors_in_list(paperk['authors'], hl_list)\n",
    "    matches = [(hl, orig) for hl, orig in zip(hl_authors, paperk['authors']) if 'mark' in hl]\n",
    "    paperk['authors'] = hl_authors\n",
    "    if matches:\n",
    "        candidates.append(paperk)\n",
    "print(\"\"\"Arxiv has {0:,d} new papers today\"\"\".format(len(new_papers)))        \n",
    "print(\"\"\"          {0:,d} with possible author matches\"\"\".format(len(candidates)))"
   ]
  },
  {
   "cell_type": "markdown",
   "id": "3543b34a",
   "metadata": {
    "papermill": {
     "duration": 0.004812,
     "end_time": "2023-03-02T04:08:47.612519",
     "exception": false,
     "start_time": "2023-03-02T04:08:47.607707",
     "status": "completed"
    },
    "tags": []
   },
   "source": [
    "# Parse sources and generate relevant outputs\n",
    "\n",
    "From the candidates, we do the following steps:\n",
    "* get their tarball from ArXiv (and extract data)\n",
    "* find the main .tex file: find one with \\documentclass{...} (sometimes it's non trivial)\n",
    "* Check affiliations with :func:`validation`, which uses :func:`mpia.affiliation_verifications`\n",
    "* If passing the affiliations: we parse the .tex source\n",
    "   * inject sub-documents into the main (flatten the main document)\n",
    "   * parse structure, extract information (title, abstract, authors, figures...)\n",
    "   * handles `\\graphicspath` if provided\n",
    "* Generate the .md document."
   ]
  },
  {
   "cell_type": "code",
   "execution_count": 5,
   "id": "9576b79e",
   "metadata": {
    "execution": {
     "iopub.execute_input": "2023-03-02T04:08:47.623630Z",
     "iopub.status.busy": "2023-03-02T04:08:47.622725Z",
     "iopub.status.idle": "2023-03-02T04:10:48.644470Z",
     "shell.execute_reply": "2023-03-02T04:10:48.643559Z"
    },
    "papermill": {
     "duration": 121.030393,
     "end_time": "2023-03-02T04:10:48.647540",
     "exception": false,
     "start_time": "2023-03-02T04:08:47.617147",
     "status": "completed"
    },
    "scrolled": false,
    "tags": []
   },
   "outputs": [
    {
     "data": {
      "application/vnd.jupyter.widget-view+json": {
       "model_id": "ef832540de3445ce933ddb2e65380c58",
       "version_major": 2,
       "version_minor": 0
      },
      "text/plain": [
       "  0%|          | 0/21 [00:00<?, ?it/s]"
      ]
     },
     "metadata": {},
     "output_type": "display_data"
    },
    {
     "name": "stdout",
     "output_type": "stream",
     "text": [
      "Retrieving document from  https://arxiv.org/e-print/2303.00008\n"
     ]
    },
    {
     "name": "stdout",
     "output_type": "stream",
     "text": [
      "extracting tarball to tmp_2303.00008..."
     ]
    },
    {
     "name": "stdout",
     "output_type": "stream",
     "text": [
      " done.\n",
      "Retrieving document from  https://arxiv.org/e-print/2303.00009\n"
     ]
    },
    {
     "name": "stdout",
     "output_type": "stream",
     "text": [
      "extracting tarball to tmp_2303.00009..."
     ]
    },
    {
     "name": "stdout",
     "output_type": "stream",
     "text": [
      " done.\n",
      "Retrieving document from  https://arxiv.org/e-print/2303.00010\n"
     ]
    },
    {
     "name": "stdout",
     "output_type": "stream",
     "text": [
      "extracting tarball to tmp_2303.00010..."
     ]
    },
    {
     "name": "stdout",
     "output_type": "stream",
     "text": [
      " done.\n",
      "Retrieving document from  https://arxiv.org/e-print/2303.00012\n"
     ]
    },
    {
     "name": "stderr",
     "output_type": "stream",
     "text": [
      "/opt/hostedtoolcache/Python/3.9.16/x64/lib/python3.9/site-packages/IPython/core/interactiveshell.py:3460: LatexWarning: Multiple tex files.\n",
      "\n",
      "  exec(code_obj, self.user_global_ns, self.user_ns)\n",
      "/opt/hostedtoolcache/Python/3.9.16/x64/lib/python3.9/site-packages/IPython/core/interactiveshell.py:3460: LatexWarning: Found documentclass in tmp_2303.00010/main.tex\n",
      "\n",
      "  exec(code_obj, self.user_global_ns, self.user_ns)\n"
     ]
    },
    {
     "name": "stdout",
     "output_type": "stream",
     "text": [
      "extracting tarball to tmp_2303.00012..."
     ]
    },
    {
     "name": "stdout",
     "output_type": "stream",
     "text": [
      " done.\n"
     ]
    },
    {
     "name": "stderr",
     "output_type": "stream",
     "text": [
      "/opt/hostedtoolcache/Python/3.9.16/x64/lib/python3.9/site-packages/arxiv_on_deck_2/latex.py:119: LatexWarning: attempting recovering figure am_timescales_sim0085\n",
      "  warnings.warn(LatexWarning(f'attempting recovering figure {image}'))\n"
     ]
    },
    {
     "name": "stderr",
     "output_type": "stream",
     "text": [
      "/opt/hostedtoolcache/Python/3.9.16/x64/lib/python3.9/site-packages/arxiv_on_deck_2/latex.py:119: LatexWarning: attempting recovering figure classI\n",
      "  warnings.warn(LatexWarning(f'attempting recovering figure {image}'))\n"
     ]
    },
    {
     "name": "stderr",
     "output_type": "stream",
     "text": [
      "/opt/hostedtoolcache/Python/3.9.16/x64/lib/python3.9/site-packages/arxiv_on_deck_2/latex.py:119: LatexWarning: attempting recovering figure am_timescales_sim0074\n",
      "  warnings.warn(LatexWarning(f'attempting recovering figure {image}'))\n"
     ]
    },
    {
     "name": "stderr",
     "output_type": "stream",
     "text": [
      "/opt/hostedtoolcache/Python/3.9.16/x64/lib/python3.9/site-packages/arxiv_on_deck_2/latex.py:119: LatexWarning: attempting recovering figure classII\n",
      "  warnings.warn(LatexWarning(f'attempting recovering figure {image}'))\n"
     ]
    },
    {
     "name": "stderr",
     "output_type": "stream",
     "text": [
      "/opt/hostedtoolcache/Python/3.9.16/x64/lib/python3.9/site-packages/arxiv_on_deck_2/latex.py:119: LatexWarning: attempting recovering figure am_timescales_sim0828\n",
      "  warnings.warn(LatexWarning(f'attempting recovering figure {image}'))\n"
     ]
    },
    {
     "name": "stderr",
     "output_type": "stream",
     "text": [
      "/opt/hostedtoolcache/Python/3.9.16/x64/lib/python3.9/site-packages/arxiv_on_deck_2/latex.py:119: LatexWarning: attempting recovering figure classIII\n",
      "  warnings.warn(LatexWarning(f'attempting recovering figure {image}'))\n"
     ]
    },
    {
     "name": "stderr",
     "output_type": "stream",
     "text": [
      "/opt/hostedtoolcache/Python/3.9.16/x64/lib/python3.9/site-packages/arxiv_on_deck_2/latex.py:119: LatexWarning: attempting recovering figure am_timescales_sim0015\n",
      "  warnings.warn(LatexWarning(f'attempting recovering figure {image}'))\n"
     ]
    },
    {
     "name": "stderr",
     "output_type": "stream",
     "text": [
      "/opt/hostedtoolcache/Python/3.9.16/x64/lib/python3.9/site-packages/arxiv_on_deck_2/latex.py:119: LatexWarning: attempting recovering figure classIV\n",
      "  warnings.warn(LatexWarning(f'attempting recovering figure {image}'))\n"
     ]
    },
    {
     "name": "stderr",
     "output_type": "stream",
     "text": [
      "/opt/hostedtoolcache/Python/3.9.16/x64/lib/python3.9/site-packages/arxiv_on_deck_2/latex.py:119: LatexWarning: attempting recovering figure hist_mass\n",
      "  warnings.warn(LatexWarning(f'attempting recovering figure {image}'))\n"
     ]
    },
    {
     "name": "stderr",
     "output_type": "stream",
     "text": [
      "/opt/hostedtoolcache/Python/3.9.16/x64/lib/python3.9/site-packages/arxiv_on_deck_2/latex.py:119: LatexWarning: attempting recovering figure sys_dsm_ptm\n",
      "  warnings.warn(LatexWarning(f'attempting recovering figure {image}'))\n",
      "/opt/hostedtoolcache/Python/3.9.16/x64/lib/python3.9/site-packages/arxiv_on_deck_2/latex.py:119: LatexWarning: attempting recovering figure sys_dsm\n",
      "  warnings.warn(LatexWarning(f'attempting recovering figure {image}'))\n"
     ]
    },
    {
     "name": "stderr",
     "output_type": "stream",
     "text": [
      "/opt/hostedtoolcache/Python/3.9.16/x64/lib/python3.9/site-packages/arxiv_on_deck_2/latex.py:119: LatexWarning: attempting recovering figure sys_dsm_dlt\n",
      "  warnings.warn(LatexWarning(f'attempting recovering figure {image}'))\n",
      "/opt/hostedtoolcache/Python/3.9.16/x64/lib/python3.9/site-packages/arxiv_on_deck_2/latex.py:119: LatexWarning: attempting recovering figure sys_mw_ptm\n",
      "  warnings.warn(LatexWarning(f'attempting recovering figure {image}'))\n"
     ]
    },
    {
     "name": "stderr",
     "output_type": "stream",
     "text": [
      "/opt/hostedtoolcache/Python/3.9.16/x64/lib/python3.9/site-packages/arxiv_on_deck_2/latex.py:119: LatexWarning: attempting recovering figure giant_multi_correl_3\n",
      "  warnings.warn(LatexWarning(f'attempting recovering figure {image}'))\n",
      "/opt/hostedtoolcache/Python/3.9.16/x64/lib/python3.9/site-packages/arxiv_on_deck_2/latex.py:119: LatexWarning: attempting recovering figure giant_multi_correl_4\n",
      "  warnings.warn(LatexWarning(f'attempting recovering figure {image}'))\n"
     ]
    },
    {
     "name": "stderr",
     "output_type": "stream",
     "text": [
      "/opt/hostedtoolcache/Python/3.9.16/x64/lib/python3.9/site-packages/arxiv_on_deck_2/latex.py:119: LatexWarning: attempting recovering figure feh_ecc\n",
      "  warnings.warn(LatexWarning(f'attempting recovering figure {image}'))\n",
      "/opt/hostedtoolcache/Python/3.9.16/x64/lib/python3.9/site-packages/arxiv_on_deck_2/latex.py:119: LatexWarning: attempting recovering figure ecc_cumul\n",
      "  warnings.warn(LatexWarning(f'attempting recovering figure {image}'))\n"
     ]
    },
    {
     "name": "stderr",
     "output_type": "stream",
     "text": [
      "/opt/hostedtoolcache/Python/3.9.16/x64/lib/python3.9/site-packages/arxiv_on_deck_2/latex.py:119: LatexWarning: attempting recovering figure trans_metal\n",
      "  warnings.warn(LatexWarning(f'attempting recovering figure {image}'))\n",
      "/opt/hostedtoolcache/Python/3.9.16/x64/lib/python3.9/site-packages/arxiv_on_deck_2/latex.py:119: LatexWarning: attempting recovering figure se_cj_corr\n",
      "  warnings.warn(LatexWarning(f'attempting recovering figure {image}'))\n"
     ]
    },
    {
     "name": "stdout",
     "output_type": "stream",
     "text": [
      "list index out of range\n",
      "Retrieving document from  https://arxiv.org/e-print/2303.00025\n"
     ]
    },
    {
     "name": "stdout",
     "output_type": "stream",
     "text": [
      "extracting tarball to tmp_2303.00025..."
     ]
    },
    {
     "name": "stdout",
     "output_type": "stream",
     "text": [
      " done.\n",
      "Retrieving document from  https://arxiv.org/e-print/2303.00034\n"
     ]
    },
    {
     "name": "stdout",
     "output_type": "stream",
     "text": [
      "extracting tarball to tmp_2303.00034..."
     ]
    },
    {
     "name": "stdout",
     "output_type": "stream",
     "text": [
      " done.\n",
      "Retrieving document from  https://arxiv.org/e-print/2303.00044\n"
     ]
    },
    {
     "name": "stdout",
     "output_type": "stream",
     "text": [
      "extracting tarball to tmp_2303.00044..."
     ]
    },
    {
     "name": "stdout",
     "output_type": "stream",
     "text": [
      " done.\n"
     ]
    },
    {
     "name": "stdout",
     "output_type": "stream",
     "text": [
      "Retrieving document from  https://arxiv.org/e-print/2303.00063\n"
     ]
    },
    {
     "name": "stdout",
     "output_type": "stream",
     "text": [
      "extracting tarball to tmp_2303.00063..."
     ]
    },
    {
     "name": "stdout",
     "output_type": "stream",
     "text": [
      " done.\n",
      "Retrieving document from  https://arxiv.org/e-print/2303.00183\n"
     ]
    },
    {
     "name": "stderr",
     "output_type": "stream",
     "text": [
      "/opt/hostedtoolcache/Python/3.9.16/x64/lib/python3.9/site-packages/IPython/core/interactiveshell.py:3460: LatexWarning: Multiple tex files.\n",
      "\n",
      "  exec(code_obj, self.user_global_ns, self.user_ns)\n",
      "/opt/hostedtoolcache/Python/3.9.16/x64/lib/python3.9/site-packages/IPython/core/interactiveshell.py:3460: LatexWarning: Found documentclass in tmp_2303.00063/main.tex\n",
      "\n",
      "  exec(code_obj, self.user_global_ns, self.user_ns)\n"
     ]
    },
    {
     "name": "stdout",
     "output_type": "stream",
     "text": [
      "extracting tarball to tmp_2303.00183... done.\n",
      "Retrieving document from  https://arxiv.org/e-print/2303.00221\n"
     ]
    },
    {
     "name": "stdout",
     "output_type": "stream",
     "text": [
      "extracting tarball to tmp_2303.00221..."
     ]
    },
    {
     "name": "stdout",
     "output_type": "stream",
     "text": [
      " done.\n",
      "Retrieving document from  https://arxiv.org/e-print/2303.00291\n"
     ]
    },
    {
     "name": "stdout",
     "output_type": "stream",
     "text": [
      "extracting tarball to tmp_2303.00291..."
     ]
    },
    {
     "name": "stdout",
     "output_type": "stream",
     "text": [
      " done.\n",
      "Retrieving document from  https://arxiv.org/e-print/2303.00339\n"
     ]
    },
    {
     "name": "stdout",
     "output_type": "stream",
     "text": [
      "extracting tarball to tmp_2303.00339..."
     ]
    },
    {
     "name": "stdout",
     "output_type": "stream",
     "text": [
      " done.\n",
      "Retrieving document from  https://arxiv.org/e-print/2303.00360\n"
     ]
    },
    {
     "name": "stdout",
     "output_type": "stream",
     "text": [
      "extracting tarball to tmp_2303.00360..."
     ]
    },
    {
     "name": "stdout",
     "output_type": "stream",
     "text": [
      " done.\n",
      "Retrieving document from  https://arxiv.org/e-print/2303.00370\n"
     ]
    },
    {
     "name": "stdout",
     "output_type": "stream",
     "text": [
      "extracting tarball to tmp_2303.00370..."
     ]
    },
    {
     "name": "stdout",
     "output_type": "stream",
     "text": [
      " done.\n",
      "Retrieving document from  https://arxiv.org/e-print/2303.00453\n"
     ]
    },
    {
     "name": "stdout",
     "output_type": "stream",
     "text": [
      "extracting tarball to tmp_2303.00453..."
     ]
    },
    {
     "name": "stdout",
     "output_type": "stream",
     "text": [
      " done.\n",
      "Retrieving document from  https://arxiv.org/e-print/2303.00481\n"
     ]
    },
    {
     "name": "stderr",
     "output_type": "stream",
     "text": [
      "/opt/hostedtoolcache/Python/3.9.16/x64/lib/python3.9/site-packages/IPython/core/interactiveshell.py:3460: LatexWarning: Multiple tex files.\n",
      "\n",
      "  exec(code_obj, self.user_global_ns, self.user_ns)\n",
      "/opt/hostedtoolcache/Python/3.9.16/x64/lib/python3.9/site-packages/IPython/core/interactiveshell.py:3460: LatexWarning: Found documentclass in tmp_2303.00453/Advances_in_Interferometry_minor_revision_20221103.tex\n",
      "\n",
      "  exec(code_obj, self.user_global_ns, self.user_ns)\n",
      "/opt/hostedtoolcache/Python/3.9.16/x64/lib/python3.9/site-packages/arxiv_on_deck_2/latex.py:312: LatexWarning: Latex injecting: 'journal_names.tex' from 'tmp_2303.00453/journal_names.tex'\n",
      "  warnings.warn(LatexWarning(f\"Latex injecting: '{ext}' from '{subsource}'\"))\n"
     ]
    },
    {
     "name": "stdout",
     "output_type": "stream",
     "text": [
      "extracting tarball to tmp_2303.00481..."
     ]
    },
    {
     "name": "stdout",
     "output_type": "stream",
     "text": [
      " done.\n",
      "Retrieving document from  https://arxiv.org/e-print/2303.00489\n"
     ]
    },
    {
     "name": "stdout",
     "output_type": "stream",
     "text": [
      "extracting tarball to tmp_2303.00489..."
     ]
    },
    {
     "name": "stdout",
     "output_type": "stream",
     "text": [
      " done.\n",
      "Retrieving document from  https://arxiv.org/e-print/2303.00518\n"
     ]
    },
    {
     "name": "stdout",
     "output_type": "stream",
     "text": [
      "extracting tarball to tmp_2303.00518..."
     ]
    },
    {
     "name": "stdout",
     "output_type": "stream",
     "text": [
      " done.\n",
      "Retrieving document from  https://arxiv.org/e-print/2303.00537\n"
     ]
    },
    {
     "name": "stderr",
     "output_type": "stream",
     "text": [
      "/opt/hostedtoolcache/Python/3.9.16/x64/lib/python3.9/site-packages/IPython/core/interactiveshell.py:3460: LatexWarning: Multiple tex files.\n",
      "\n",
      "  exec(code_obj, self.user_global_ns, self.user_ns)\n",
      "/opt/hostedtoolcache/Python/3.9.16/x64/lib/python3.9/site-packages/IPython/core/interactiveshell.py:3460: LatexWarning: Found documentclass in tmp_2303.00518/paper.tex\n",
      "\n",
      "  exec(code_obj, self.user_global_ns, self.user_ns)\n",
      "/opt/hostedtoolcache/Python/3.9.16/x64/lib/python3.9/site-packages/arxiv_on_deck_2/latex.py:312: LatexWarning: Latex injecting: 'data' from 'tmp_2303.00518/data.tex'\n",
      "  warnings.warn(LatexWarning(f\"Latex injecting: '{ext}' from '{subsource}'\"))\n",
      "/opt/hostedtoolcache/Python/3.9.16/x64/lib/python3.9/site-packages/arxiv_on_deck_2/latex.py:312: LatexWarning: Latex injecting: 'acknowledgements' from 'tmp_2303.00518/acknowledgements.tex'\n",
      "  warnings.warn(LatexWarning(f\"Latex injecting: '{ext}' from '{subsource}'\"))\n",
      "/opt/hostedtoolcache/Python/3.9.16/x64/lib/python3.9/site-packages/arxiv_on_deck_2/latex.py:312: LatexWarning: Latex injecting: 'discussion' from 'tmp_2303.00518/discussion.tex'\n",
      "  warnings.warn(LatexWarning(f\"Latex injecting: '{ext}' from '{subsource}'\"))\n",
      "/opt/hostedtoolcache/Python/3.9.16/x64/lib/python3.9/site-packages/arxiv_on_deck_2/latex.py:312: LatexWarning: Latex injecting: 'polarisation' from 'tmp_2303.00518/polarisation.tex'\n",
      "  warnings.warn(LatexWarning(f\"Latex injecting: '{ext}' from '{subsource}'\"))\n",
      "/opt/hostedtoolcache/Python/3.9.16/x64/lib/python3.9/site-packages/arxiv_on_deck_2/latex.py:312: LatexWarning: Latex injecting: 'spice' from 'tmp_2303.00518/spice.tex'\n",
      "  warnings.warn(LatexWarning(f\"Latex injecting: '{ext}' from '{subsource}'\"))\n",
      "/opt/hostedtoolcache/Python/3.9.16/x64/lib/python3.9/site-packages/arxiv_on_deck_2/latex.py:312: LatexWarning: Latex injecting: 'introduction' from 'tmp_2303.00518/introduction.tex'\n",
      "  warnings.warn(LatexWarning(f\"Latex injecting: '{ext}' from '{subsource}'\"))\n",
      "/opt/hostedtoolcache/Python/3.9.16/x64/lib/python3.9/site-packages/arxiv_on_deck_2/latex.py:312: LatexWarning: Latex injecting: 'abstract' from 'tmp_2303.00518/abstract.tex'\n",
      "  warnings.warn(LatexWarning(f\"Latex injecting: '{ext}' from '{subsource}'\"))\n"
     ]
    },
    {
     "name": "stderr",
     "output_type": "stream",
     "text": [
      "/tmp/ipykernel_1983/4289671964.py:41: LatexWarning: 2303.00537 did not run properly\n",
      "not a gzip file\n",
      "  warnings.warn(latex.LatexWarning(f\"{paper_id:s} did not run properly\\n\" +\n"
     ]
    },
    {
     "name": "stdout",
     "output_type": "stream",
     "text": [
      "Retrieving document from  https://arxiv.org/e-print/2303.00626\n"
     ]
    },
    {
     "name": "stdout",
     "output_type": "stream",
     "text": [
      "extracting tarball to tmp_2303.00626..."
     ]
    },
    {
     "name": "stdout",
     "output_type": "stream",
     "text": [
      " done.\n",
      "Retrieving document from  https://arxiv.org/e-print/2303.00687\n"
     ]
    },
    {
     "name": "stderr",
     "output_type": "stream",
     "text": [
      "/opt/hostedtoolcache/Python/3.9.16/x64/lib/python3.9/site-packages/IPython/core/interactiveshell.py:3460: LatexWarning: Multiple tex files.\n",
      "\n",
      "  exec(code_obj, self.user_global_ns, self.user_ns)\n",
      "/opt/hostedtoolcache/Python/3.9.16/x64/lib/python3.9/site-packages/IPython/core/interactiveshell.py:3460: LatexWarning: Found documentclass in tmp_2303.00626/1Paper.tex\n",
      "\n",
      "  exec(code_obj, self.user_global_ns, self.user_ns)\n",
      "/opt/hostedtoolcache/Python/3.9.16/x64/lib/python3.9/site-packages/arxiv_on_deck_2/latex.py:312: LatexWarning: Latex injecting: 'eriappend' from 'tmp_2303.00626/eriappend.tex'\n",
      "  warnings.warn(LatexWarning(f\"Latex injecting: '{ext}' from '{subsource}'\"))\n",
      "/opt/hostedtoolcache/Python/3.9.16/x64/lib/python3.9/site-packages/arxiv_on_deck_2/latex.py:312: LatexWarning: Latex injecting: 'ericontent' from 'tmp_2303.00626/ericontent.tex'\n",
      "  warnings.warn(LatexWarning(f\"Latex injecting: '{ext}' from '{subsource}'\"))\n"
     ]
    },
    {
     "name": "stdout",
     "output_type": "stream",
     "text": [
      "extracting tarball to tmp_2303.00687..."
     ]
    },
    {
     "name": "stdout",
     "output_type": "stream",
     "text": [
      " done.\n"
     ]
    }
   ],
   "source": [
    "documents = []\n",
    "failed = []\n",
    "for paper in tqdm(candidates[:-1]):\n",
    "    paper_id = paper['identifier'].lower().replace('arxiv:', '')\n",
    "    \n",
    "    folder = f'tmp_{paper_id}'\n",
    "\n",
    "    try:\n",
    "        if not os.path.isdir(folder):\n",
    "            folder = retrieve_document_source(f\"{paper_id}\", f'tmp_{paper_id}')\n",
    "        \n",
    "        try:\n",
    "            doc = latex.LatexDocument(folder, validation=validation)    \n",
    "        except AffiliationError as affilerror:\n",
    "            msg = f\"ArXiv:{paper_id:s} is not an MPIA paper... \" + str(affilerror)\n",
    "            failed.append((paper, \"affiliation error: \" + str(affilerror) ))\n",
    "            continue\n",
    "        \n",
    "        # Hack because sometimes author parsing does not work well\n",
    "        if (len(doc.authors) != len(paper['authors'])):\n",
    "            doc._authors = paper['authors']\n",
    "        if (doc.abstract) in (None, ''):\n",
    "            doc._abstract = paper['abstract']\n",
    "            \n",
    "        doc.comment = (get_markdown_badge(paper_id) + \n",
    "                       \"<mark>Appeared on: \" + paper['date'] + \"</mark> - \" +\n",
    "                       \"_\" + paper['comments'] + \"_\")\n",
    "        doc.highlight_authors_in_list(hl_list)\n",
    "\n",
    "        full_md = doc.generate_markdown_text()\n",
    "        \n",
    "        # replace citations\n",
    "        try:\n",
    "            bibdata = latex_bib.LatexBib.from_doc(doc)\n",
    "            full_md = latex_bib.replace_citations(full_md, bibdata)\n",
    "        except Exception as e:\n",
    "            print(e)\n",
    "        \n",
    "        documents.append((paper_id, full_md))\n",
    "    except Exception as e:\n",
    "        warnings.warn(latex.LatexWarning(f\"{paper_id:s} did not run properly\\n\" +\n",
    "                                         str(e)\n",
    "                                        ))\n",
    "        failed.append((paper, \"latex error \" + str(e)))"
   ]
  },
  {
   "cell_type": "markdown",
   "id": "2505a25c",
   "metadata": {
    "papermill": {
     "duration": 0.007656,
     "end_time": "2023-03-02T04:10:48.664394",
     "exception": false,
     "start_time": "2023-03-02T04:10:48.656738",
     "status": "completed"
    },
    "tags": []
   },
   "source": [
    "### Export the logs\n",
    "\n",
    "Throughout, we also keep track of the logs per paper. see `logs-{today date}.md` "
   ]
  },
  {
   "cell_type": "code",
   "execution_count": 6,
   "id": "d733828a",
   "metadata": {
    "execution": {
     "iopub.execute_input": "2023-03-02T04:10:48.683755Z",
     "iopub.status.busy": "2023-03-02T04:10:48.682838Z",
     "iopub.status.idle": "2023-03-02T04:10:48.734356Z",
     "shell.execute_reply": "2023-03-02T04:10:48.733415Z"
    },
    "papermill": {
     "duration": 0.074361,
     "end_time": "2023-03-02T04:10:48.746894",
     "exception": false,
     "start_time": "2023-03-02T04:10:48.672533",
     "status": "completed"
    },
    "scrolled": false,
    "tags": []
   },
   "outputs": [
    {
     "data": {
      "text/markdown": [
       "## Successful papers"
      ],
      "text/plain": [
       "<IPython.core.display.Markdown object>"
      ]
     },
     "metadata": {},
     "output_type": "display_data"
    },
    {
     "data": {
      "text/markdown": [
       "\n",
       "|||\n",
       "|---:|:---|\n",
       "| [![arXiv](https://img.shields.io/badge/arXiv-arXiv:2303.00012-b31b1b.svg)](https://arxiv.org/abs/arXiv:2303.00012) | **Planetary Population Synthesis and the Emergence of Four Classes of  Planetary System Architectures**  |\n",
       "|| Alexandre Emsenhuber, Christoph Mordasini, <mark>Remo Burn</mark> |\n",
       "|*Appeared on*| *2023-03-02*|\n",
       "|*Comments*| *Invited review accepted for publication in EPJ+, Focus Point on Environmental and Multiplicity Effects on Planet Formation by guest editors G. Lodato and C.F. Manara*|\n",
       "|**Abstract**| Planetary population synthesis is a tool to understand the physics of planetary system formation. It builds on a model that includes a multitude of physical processes. The outcome can be statistically compared with exoplanet observations. Here, we review the population synthesis method and then use one population to explore how different planetary system architectures emerge and which conditions lead to their formation. The systems can be classified into four main architectures: Class I of near-in situ compositionally ordered terrestrial and ice planets, Class II of migrated sub-Neptunes, Class III of mixed low-mass and giant planets, broadly similar to the Solar System, and Class IV of dynamically active giants without inner low-mass planets. These four classes exhibit distinct typical formation pathways and are characterised by certain mass scales. Class I systems form from the local accretion of planetesimals followed by a giant impact phase, and the final planet masses correspond to the `Goldreich mass'. Class II systems form when planets reach the `equality mass' (equal accretion and migration timescales) before the dispersal of the gas disc, but not large enough to allow for rapid gas accretion. Giant planets form when the `equality mass' allows for rapid gas accretion while the planet are migrating, i.e. when the critical core mass is reached. The main discriminant of the four classes is the initial mass of solids in the disc, with contributions from the lifetime and mass of the gas disc. The breakdown into classes allows to better understand which physical processes are dominant. Comparison with observations reveals certain differences to the actual population, pointing at limitation of theoretical understanding. For example, the overrepresentation of synthetic super Earths and sub-Neptunes in Class I causes these planets to be found at lower metallicities than in observations. |"
      ],
      "text/plain": [
       "[arXiv:2303.00012] Planetary Population Synthesis and the Emergence of Four Classes of  Planetary System Architectures\n",
       "\tAlexandre Emsenhuber, Christoph Mordasini, <mark>Remo Burn</mark>"
      ]
     },
     "metadata": {},
     "output_type": "display_data"
    },
    {
     "data": {
      "text/markdown": [
       "\n",
       "|||\n",
       "|---:|:---|\n",
       "| [![arXiv](https://img.shields.io/badge/arXiv-arXiv:2303.00044-b31b1b.svg)](https://arxiv.org/abs/arXiv:2303.00044) | **The Initial Mass Function and Other Stellar Properties Across the Core  of the Hydra I Cluster**  |\n",
       "|| Ilaria Lonoce, Wendy Freedman, <mark>Anja Feldmeier-Krause</mark> |\n",
       "|*Appeared on*| *2023-03-02*|\n",
       "|*Comments*| *32 pages, 18 figures. Accepted for publication in ApJ*|\n",
       "|**Abstract**| The Hydra I cluster offers an excellent opportunity to study and compare the relic old stellar populations in the core of its two brightest galaxies. In addition, the differing kinematics of the two galaxies allows a test of the local validity of general scaling relations. In this work we present a direct comparison employing full spectral fitting of new high-quality long-slit optical and NIR spectroscopic data. We retrieve age, metallicity and 19 elemental abundances out to about 12 kpc within each galaxy, as well as the IMF in their central regions. Our results suggest that the inner 5 kpc region of both galaxies, despite their different masses, formed at the same time and evolved with a similar star formation time-scale and chemical enrichment, confirming their early formation in the cluster build up. Only the overall metallicity and IMF radial profiles show differences connected with their different velocity dispersion profiles. The radial trend of the IMF positively correlates with both [Z/H] and velocity dispersion. While the trends of the IMF with metallicity agree with a global trend for both galaxies, the trends with the velocity dispersion exhibit differences. The outer regions show signs of mixed stellar populations with large differences in chemical content compared to the centers, but with similar old ages. |"
      ],
      "text/plain": [
       "[arXiv:2303.00044] The Initial Mass Function and Other Stellar Properties Across the Core  of the Hydra I Cluster\n",
       "\tIlaria Lonoce, Wendy Freedman, <mark>Anja Feldmeier-Krause</mark>"
      ]
     },
     "metadata": {},
     "output_type": "display_data"
    },
    {
     "data": {
      "text/markdown": [
       "## Failed papers"
      ],
      "text/plain": [
       "<IPython.core.display.Markdown object>"
      ]
     },
     "metadata": {},
     "output_type": "display_data"
    },
    {
     "data": {
      "text/markdown": [
       "\n",
       "|||\n",
       "|---:|:---|\n",
       "| [![arXiv](https://img.shields.io/badge/arXiv-arXiv:2303.00489-b31b1b.svg)](https://arxiv.org/abs/arXiv:2303.00489) | **The miniJPAS survey quasar selection II: Machine learning classification  with photometric measurements and uncertainties**  |\n",
       "|| Natália V.N. Rodrigues, et al. -- incl., <mark>Héctor Vázquez Ramió</mark> |\n",
       "|*Appeared on*| *2023-03-02*|\n",
       "|*Comments*| *16 pages, 15 figures, published by MNRAS*|\n",
       "|**Abstract**| Astrophysical surveys rely heavily on the classification of sources as stars, galaxies or quasars from multi-band photometry. Surveys in narrow-band filters allow for greater discriminatory power, but the variety of different types and redshifts of the objects present a challenge to standard template-based methods. In this work, which is part of larger effort that aims at building a catalogue of quasars from the miniJPAS survey, we present a Machine Learning-based method that employs Convolutional Neural Networks (CNNs) to classify point-like sources including the information in the measurement errors. We validate our methods using data from the miniJPAS survey, a proof-of-concept project of the J-PAS collaboration covering $\\sim$ 1 deg$^2$ of the northern sky using the 56 narrow-band filters of the J-PAS survey. Due to the scarcity of real data, we trained our algorithms using mocks that were purpose-built to reproduce the distributions of different types of objects that we expect to find in the miniJPAS survey, as well as the properties of the real observations in terms of signal and noise. We compare the performance of the CNNs with other well-established Machine Learning classification methods based on decision trees, finding that the CNNs improve the classification when the measurement errors are provided as inputs. The predicted distribution of objects in miniJPAS is consistent with the putative luminosity functions of stars, quasars and unresolved galaxies. Our results are a proof-of-concept for the idea that the J-PAS survey will be able to detect unprecedented numbers of quasars with high confidence. |\n",
       "|<p style=\"color:green\"> **ERROR** </p>| <p style=\"color:green\">affiliation error: mpia.affiliation_verifications: '69117' keyword not found.</p> |"
      ],
      "text/plain": [
       "<IPython.core.display.Markdown object>"
      ]
     },
     "metadata": {},
     "output_type": "display_data"
    },
    {
     "data": {
      "text/markdown": [
       "\n",
       "|||\n",
       "|---:|:---|\n",
       "| [![arXiv](https://img.shields.io/badge/arXiv-arXiv:2303.00008-b31b1b.svg)](https://arxiv.org/abs/arXiv:2303.00008) | **A stellar halo walks into a bar: creation of substructure from a smooth  distribution function**  |\n",
       "|| Adam M. Dillamore, Vasily Belokurov, N. Wyn Evans, <mark>Elliot Y. Davies</mark> |\n",
       "|*Appeared on*| *2023-03-02*|\n",
       "|*Comments*| *11 pages, 11 figures, submitted to MNRAS*|\n",
       "|**Abstract**| Using data from the Gaia satellite's Radial Velocity Spectrometer Data Release 3 (RVS, DR3), we find a new and robust feature in the phase space distribution of halo stars. It is a prominent ridge at energies $E\\approx-1.4\\times10^5$ km$^2$ s$^{-2}$ and with angular momemtum $L_z>0$. We run test particle simulations of a stellar halo-like distribution of particles in a realistic Milky Way potential with a rotating bar. We observe similar structures generated in the simulations from the trapping of particles in resonances with the bar, particularly at the corotation resonance. Many of the orbits trapped at the resonances are halo-like, with large vertical excursions from the disc. The location of the observed structure in energy space is consistent with a bar pattern speed in the range $\\Omega_\\mathrm{b}\\approx35-40$ km s$^{-1}$ kpc$^{-1}$. Overall, the effect of the resonances is to give the inner stellar halo a mild, net spin in the direction of the bar's rotation. As the distribution of the angular momentum becomes asymmetric, a population of stars with positive mean $L_z$ and low vertical action is created. The variation of the average rotational velocity of the simulated stellar halo with radius is similar to the behaviour of metal-poor stars in data from the APOGEE survey. Though the effects of bar resonances have long been known in the Galactic disc, this is strong evidence that the bar can drive changes even in the diffuse and extended stellar halo through its resonances. |\n",
       "|<p style=\"color:green\"> **ERROR** </p>| <p style=\"color:green\">affiliation error: mpia.affiliation_verifications: 'Heidelberg' keyword not found.</p> |"
      ],
      "text/plain": [
       "<IPython.core.display.Markdown object>"
      ]
     },
     "metadata": {},
     "output_type": "display_data"
    },
    {
     "data": {
      "text/markdown": [
       "\n",
       "|||\n",
       "|---:|:---|\n",
       "| [![arXiv](https://img.shields.io/badge/arXiv-arXiv:2303.00009-b31b1b.svg)](https://arxiv.org/abs/arXiv:2303.00009) | **JWST-TST Proper Motions: I. High-Precision NIRISS Calibration and Large  Magellanic Cloud Kinematics**  |\n",
       "|| M. Libralato, et al. -- incl., <mark>J. Goyal</mark>, <mark>N. K. Lewis</mark> |\n",
       "|*Appeared on*| *2023-03-02*|\n",
       "|*Comments*| *28 pages, 25 figures, 2 tables. Submitted to ApJ. The effective point-spread-function models and geometric-distortion solutions are already available at the links provided in the manuscript. A preliminary version of the code to use them will be released after the paper is accepted for publication*|\n",
       "|**Abstract**| We develop and disseminate effective point-spread functions and geometric-distortion solutions for high-precision astrometry and photometry with the JWST NIRISS instrument. We correct field dependencies and detector effects, and assess the quality and the temporal stability of the calibrations. As a scientific application and validation, we study the proper motion (PM) kinematics of stars in the JWST calibration field near the Large Magellanic Cloud (LMC) center, comparing to a first-epoch Hubble Space Telescope (HST) archival catalog with a 16-yr baseline. For stars with G~20, the median PM uncertainty is ~13 $\\mu$as yr$^{-1}$ (3.1 km s$^{-1}$), better than Gaia DR3 typically achieves for its very best-measured stars. We kinematically detect the known star cluster OGLE-CL LMC 407, measure its absolute PM for the first time, and show how this differs from other LMC populations. The inferred cluster dispersion sets an upper limit of 24 $\\mu$as yr$^{-1}$ (5.6 km s$^{-1}$) on systematic uncertainties. Red-giant-branch stars have a velocity dispersion of 33.8 $\\pm$ 0.6 km s$^{-1}$, while younger blue populations have a narrower velocity distribution, but with a significant kinematical substructure. We discuss how this relates to the larger velocity dispersions inferred from Gaia DR3. These results establish JWST as capable of state-of-the-art astrometry, building on the extensive legacy of HST. This is the first paper in a series by our JWST Telescope Scientist Team (TST), in which we will use Guaranteed Time Observations to study the PM kinematics of various stellar systems in the Local Group. |\n",
       "|<p style=\"color:green\"> **ERROR** </p>| <p style=\"color:green\">affiliation error: mpia.affiliation_verifications: 'Heidelberg' keyword not found.</p> |"
      ],
      "text/plain": [
       "<IPython.core.display.Markdown object>"
      ]
     },
     "metadata": {},
     "output_type": "display_data"
    },
    {
     "data": {
      "text/markdown": [
       "\n",
       "|||\n",
       "|---:|:---|\n",
       "| [![arXiv](https://img.shields.io/badge/arXiv-arXiv:2303.00010-b31b1b.svg)](https://arxiv.org/abs/arXiv:2303.00010) | **Direct detection of supernova progenitor stars with ZTF and LSST**  |\n",
       "|| Nora L. Strotjohann, et al. -- incl., <mark>Frank J. Masci</mark> |\n",
       "|*Appeared on*| *2023-03-02*|\n",
       "|*Comments*| *Submitted to ApJ. Comments are welcome*|\n",
       "|**Abstract**| The direct detection of core-collapse supernova (SN) progenitor stars is a powerful way of probing the last stages of stellar evolution. However, detections in archival Hubble Space Telescope images are limited to about one per year. Here, we explore whether we can increase the detection rate by using data from ground-based wide-field surveys. Due to crowding and atmospheric blurring, progenitor stars can typically not be identified in pre-explosion images alone. Instead, we combine many pre-SN and late-time images to search for the disappearance of the progenitor star. As a proof of concept, we implement our search for ZTF data. For a few hundred images, we achieve limiting magnitudes of about 23 mag in the g and r band. However, no progenitor stars or long-lived outbursts are detected for 29 SNe within z<0.01, and the ZTF limits are typically several magnitudes less constraining than detected progenitors in the literature. Next, we estimate progenitor detection rates for the Legacy Survey of Space and Time (LSST) with the Vera C. Rubin telescope by simulating a population of nearby SNe. The background from bright host galaxies reduces the nominal LSST sensitivity by, on average, 0.4 mag. Over the ten-year survey, we expect the detection of about 50 red supergiant progenitors and several yellow and blue supergiants. The progenitors of SNe Ib and Ic are detectable if they are brighter than -4.7 mag or -4.0 mag in the LSST i band, respectively. In addition, we expect the detection of hundreds of pre-SN outbursts depending on their brightness and duration. |\n",
       "|<p style=\"color:green\"> **ERROR** </p>| <p style=\"color:green\">affiliation error: mpia.affiliation_verifications: 'Heidelberg' keyword not found.</p> |"
      ],
      "text/plain": [
       "<IPython.core.display.Markdown object>"
      ]
     },
     "metadata": {},
     "output_type": "display_data"
    },
    {
     "data": {
      "text/markdown": [
       "\n",
       "|||\n",
       "|---:|:---|\n",
       "| [![arXiv](https://img.shields.io/badge/arXiv-arXiv:2303.00025-b31b1b.svg)](https://arxiv.org/abs/arXiv:2303.00025) | **A variable active galactic nucleus at $z=2.06$ triply-imaged by the  galaxy cluster MACS J0035.4-2015**  |\n",
       "|| Lukas J. Furtak, et al. -- incl., <mark>Minju M. Lee</mark>, <mark>Yoshihiro Ueda</mark> |\n",
       "|*Appeared on*| *2023-03-02*|\n",
       "|*Comments*| *Submitted to MNRAS. Comments welcome*|\n",
       "|**Abstract**| We report the discovery of a triply-imaged active galactic nucleus (AGN), lensed by the galaxy cluster MACS J0035.4-2015 ($z_{\\mathrm{d}}=0.352$). The object is detected in Hubble Space Telescope (HST) imaging taken for the RELICS program. It appears to have a quasi-stellar nucleus consistent with a point-source, with a de-magnified radius of $r_e\\lesssim100$ pc. The object is spectroscopically confirmed to be an AGN at $z_{\\mathrm{spec}}=2.063\\pm0.005$ showing broad rest-frame UV emission lines, and is detected in both X-ray observations with \\textit{Chandra} and in ALCS ALMA band 6 (1.2 mm) imaging. It has a relatively faint rest-frame UV luminosity for a quasar-like object, $M_{\\mathrm{UV},1450}=-19.7\\pm0.2$. The object adds to just a few quasars or other X-ray sources known to be multiply lensed by a galaxy cluster. Some faint, diffuse emission from the host galaxy is also seen around the nucleus, and nearby there is another fainter object sharing the same multiple-imaging symmetry and geometric redshift, which may be an interacting galaxy or a star-forming knot in the host. We present an accompanying lens model, calculate the magnifications and time delays, and infer physical properties for the source. We find the rest-frame UV continuum and emission lines to be dominated by the AGN, and the optical emission to be dominated by the relatively young ($\\sim100$ Myr) host galaxy of modest stellar mass $M_{\\star}\\simeq10^{9.2} \\mathrm{M}_{\\odot}$. We also observe variations in the AGN's emission, which may suggest that the AGN used to be more active. This object adds a low-redshift counterpart to several relatively faint AGN recently uncovered at high redshifts with HST and JWST. |\n",
       "|<p style=\"color:green\"> **ERROR** </p>| <p style=\"color:green\">affiliation error: mpia.affiliation_verifications: 'Heidelberg' keyword not found.</p> |"
      ],
      "text/plain": [
       "<IPython.core.display.Markdown object>"
      ]
     },
     "metadata": {},
     "output_type": "display_data"
    },
    {
     "data": {
      "text/markdown": [
       "\n",
       "|||\n",
       "|---:|:---|\n",
       "| [![arXiv](https://img.shields.io/badge/arXiv-arXiv:2303.00034-b31b1b.svg)](https://arxiv.org/abs/arXiv:2303.00034) | **A Comprehensive Perturbative Formalism for Phase Mixing in Perturbed  Disks. II. Phase Spirals in an Inhomogeneous Disk Galaxy with a  Non-responsive Dark Matter Halo**  |\n",
       "|| Uddipan Banik, <mark>Frank C. van den Bosch</mark>, Martin D. Weinberg |\n",
       "|*Appeared on*| *2023-03-02*|\n",
       "|*Comments*| *10 figures, 1 table; Submitted to ApJ*|\n",
       "|**Abstract**| We develop a linear perturbative formalism to compute the response of an inhomogeneous stellar disk embedded in a non-responsive dark matter halo to perturbations like bars, spiral arms and satellite galaxy encounters. Without self-gravity to reinforce it, the response of a Fourier mode phase mixes away due to an intrinsic spread in the vertical ($\\Omega_z$), radial ($\\Omega_r$) and azimuthal ($\\Omega_\\phi$) frequencies, giving rise to local phase-space spirals. Collisional diffusion due to scattering of stars by structures like giant molecular clouds causes super-exponential damping of the phase-spiral amplitude. The $z-v_z$ phase-spiral is 1-armed (2-armed) for vertically anti-symmetric (symmetric) bending (breathing) modes. Only transient perturbations with timescales ($\\tau_{\\mathrm{P}}$) comparable to the vertical oscillation period ($\\tau_z \\sim 1/\\Omega_z$) trigger $z-v_z$ phase-spirals. Each $(n,l,m)$ mode of the response to impulsive ($\\tau_{\\mathrm{P}}<\\tau=1/(n\\Omega_z+l\\Omega_r+m\\Omega_\\phi)$) perturbations is power law ($\\sim \\tau_{\\mathrm{P}}/\\tau$) suppressed, but that to adiabatic ($\\tau_{\\mathrm{P}}>\\tau$) perturbations is exponentially weak ($\\sim \\exp{\\left[-\\left(\\tau_{\\mathrm{P}}/\\tau\\right)^\\alpha\\right]}$) except resonant ($\\tau\\to \\infty$) modes. Slower ($\\tau_{\\mathrm{P}}>\\tau_z$) perturbations, e.g., distant encounters with satellite galaxies, induce stronger bending modes. If the Gaia phase-spiral was triggered by a satellite, Sagittarius is the leading contender as it dominates the Solar neighborhood response of the Milky Way disk to satellite encounters. However, survival against collisional damping necessitates that the impact occurred within $\\sim 0.6-0.7$ Gyr ago. We discuss how the detailed galactic potential dictates the phase-spiral shape: phase mixing occurs slower and phase-spirals are less wound in the outer disk and in presence of an ambient halo. |\n",
       "|<p style=\"color:green\"> **ERROR** </p>| <p style=\"color:green\">affiliation error: mpia.affiliation_verifications: 'Heidelberg' keyword not found.</p> |"
      ],
      "text/plain": [
       "<IPython.core.display.Markdown object>"
      ]
     },
     "metadata": {},
     "output_type": "display_data"
    },
    {
     "data": {
      "text/markdown": [
       "\n",
       "|||\n",
       "|---:|:---|\n",
       "| [![arXiv](https://img.shields.io/badge/arXiv-arXiv:2303.00063-b31b1b.svg)](https://arxiv.org/abs/arXiv:2303.00063) | **New chondritic bodies identified in eight oxygen-bearing white dwarfs**  |\n",
       "|| Alexandra E. Doyle, et al. -- incl., <mark>Beth L. Klein</mark> |\n",
       "|*Appeared on*| *2023-03-02*|\n",
       "|*Comments*| *Accepted for publication in ApJ. 7 Figures, 7 Tables*|\n",
       "|**Abstract**| We present observations and analyses of eight white dwarf stars that have accreted rocky material from their surrounding planetary systems. The spectra of these helium-atmosphere white dwarfs contain detectable optical lines of all four major rock-forming elements (O, Mg, Si, Fe). This work increases the sample of oxygen-bearing white dwarfs with parent body composition analyses by roughly thirty-three percent. To first order, the parent bodies that have been accreted by the eight white dwarfs are similar to those of chondritic meteorites in relative elemental abundances and oxidation states. Seventy-five percent of the white dwarfs in this study have observed oxygen excesses implying volatiles in the parent bodies with abundances similar to those of chondritic meteorites. Three white dwarfs have oxidation states that imply more reduced material than found in CI chondrites, indicating the possible detection of Mercury-like parent bodies, but are less constrained. These results contribute to the recurring conclusion that extrasolar rocky bodies closely resemble those in our solar system, and do not, as a whole, yield unusual or unique compositions. |\n",
       "|<p style=\"color:green\"> **ERROR** </p>| <p style=\"color:green\">affiliation error: mpia.affiliation_verifications: 'Heidelberg' keyword not found.</p> |"
      ],
      "text/plain": [
       "<IPython.core.display.Markdown object>"
      ]
     },
     "metadata": {},
     "output_type": "display_data"
    },
    {
     "data": {
      "text/markdown": [
       "\n",
       "|||\n",
       "|---:|:---|\n",
       "| [![arXiv](https://img.shields.io/badge/arXiv-arXiv:2303.00183-b31b1b.svg)](https://arxiv.org/abs/arXiv:2303.00183) | **Pulsars as candidates of LHAASO sources J2226+6057, J1908+0621 and  J1825-1326: The leptonic origin**  |\n",
       "|| Zhe Chang, Yu-Ting Kuang, <mark>Xukun Zhang</mark>, Jing-Zhi Zhou |\n",
       "|*Appeared on*| *2023-03-02*|\n",
       "|*Comments*| **|\n",
       "|**Abstract**| Recently, from 12 $\\gamma$-ray Galactic sources, the LHAASO has detected ultrahigh-energy photons up to 1.4PeV. The $\\gamma$-ray spectra of the sources J2226+6057, J1908+0621, J1825-1326 and the suggested origin pulsars near the sources have been published. In our previous work, we studied the hadronic $\\gamma$-ray spectra of the sources J2226+6057, J1908+0621, J1825-1326 in terms of the Hertzian dipole model of pulsar. In this paper, we investigate the possibility of the leptonic origin of the $\\gamma$-ray. We use the Hertzian dipole model to describe the pulsars around the sources. The electrons around the pulsars can be accelerated to PeV by the electromagnetic fields of pulsars. Under the assumption that the initial electrons are uniform distributed in a spherical shell between $10^{7}$ to $10^{9}$m around the pulsar, we obtain the energy distribution of electrons. The leptonic $\\gamma$-ray spectra can be calculated through inverse Compton scattering processes. It finds that the leptonic $\\gamma$-ray spectra can fit the observations of LHAASO very well. |\n",
       "|<p style=\"color:green\"> **ERROR** </p>| <p style=\"color:green\">affiliation error: mpia.affiliation_verifications: 'Heidelberg' keyword not found.</p> |"
      ],
      "text/plain": [
       "<IPython.core.display.Markdown object>"
      ]
     },
     "metadata": {},
     "output_type": "display_data"
    },
    {
     "data": {
      "text/markdown": [
       "\n",
       "|||\n",
       "|---:|:---|\n",
       "| [![arXiv](https://img.shields.io/badge/arXiv-arXiv:2303.00221-b31b1b.svg)](https://arxiv.org/abs/arXiv:2303.00221) | **Comet P/2021 HS (PANSTARRS) and the Challenge of Detecting Low-Activity  Comets**  |\n",
       "|| Quanzhi Ye, et al. -- incl., <mark>Frank J. Masci</mark> |\n",
       "|*Appeared on*| *2023-03-02*|\n",
       "|*Comments*| *PSJ in press*|\n",
       "|**Abstract**| Jupiter-family comet (JFC) P/2021 HS (PANSTARRS) only exhibits a coma within a few weeks of its perihelion passage at 0.8~au, which is atypical for a comet. Here we present an investigation into the underlying cause using serendipitous survey detections as well as targeted observations. We find that the detection of the activity is caused by an extremely faint coma being enhanced by forward scattering effect due to the comet reaching a phase angle of $\\sim140^\\circ$. The coma morphology is consistent with sustained, sublimation-driven activity produced by a small active area, $\\sim700~\\mathrm{m^2}$, one of the smallest values ever measured on a comet. The phase function of the nucleus shows a phase coefficient of $0.035\\pm0.002~\\mathrm{mag/deg}$, implying an absolute magnitude of $H=18.31\\pm0.04$ and a phase slope of $G=-0.13$, with color consistent with typical JFC nuclei. Thermal observations suggest a nucleus diameter of 0.6--1.1~km, implying an optical albedo of 0.04--0.23 which is higher than typical cometary nuclei. An unsuccessful search for dust trail and meteor activity confirms minimal dust deposit along the orbit, totaling $\\lesssim10^8$~kg. As P/2021 HS is dynamically unstable, similar to typical JFCs, we speculate that it has an origin in the trans-Neptunian region, and that its extreme depletion of volatiles is caused by a large number of previous passages to the inner Solar System. The dramatic discovery of the cometary nature of P/2021 HS highlights the challenges of detecting comets with extremely low activity levels. Observations at high phase angle where forward scattering is pronounced will help identify such comets. |\n",
       "|<p style=\"color:green\"> **ERROR** </p>| <p style=\"color:green\">affiliation error: mpia.affiliation_verifications: 'Heidelberg' keyword not found.</p> |"
      ],
      "text/plain": [
       "<IPython.core.display.Markdown object>"
      ]
     },
     "metadata": {},
     "output_type": "display_data"
    },
    {
     "data": {
      "text/markdown": [
       "\n",
       "|||\n",
       "|---:|:---|\n",
       "| [![arXiv](https://img.shields.io/badge/arXiv-arXiv:2303.00291-b31b1b.svg)](https://arxiv.org/abs/arXiv:2303.00291) | **Limited impact of jet induced feedback in the multi-phase nuclear  interstellar medium of 4C12.50**  |\n",
       "|| <mark>M. Villar-Martín</mark>, et al. |\n",
       "|*Appeared on*| *2023-03-02*|\n",
       "|*Comments*| *Accepted for publication in A&A,18 pages, 13 figures*|\n",
       "|**Abstract**| Although the ultraluminous infrared radio galaxy 4C12.50 at z=0.12 is a promising candidate to reveal how radio induced feedback may regulate star formation in galaxies, we find no solid evidence for current or past impact of this mechanism on the evolution of this system, neither by clearing out the dusty central cocoon efficiently, nor by suppressing star formation. We study in detail for the first time the hot (>~1500 K) molecular gas in this object. The potential impact of the radio jet on this gas phase, as well as on the star formation activity, are investigated. 4C12.50 hosts (2.1+/-0.4)x1e4 Msun of hot molecular gas. An unusually high rotational temperature T =3020+/-160 K is inferred. The molecular gas mass obeys a power law temperature distribution d(M(H2))/dT ~ T^-5 from T~300 K and up to ~3000 K. Both results support that shocks (probably induced by the radio jet) contribute to the heating and excitation of the hot molecular gas. A molecular outflow is not detected. The coupling of the outflowing ionized and neutral outflows with the hot molecular gas is poor. We find no evidence for star formation supression. NIR and MIR integral field spectroscopy at very high spatial resolution (for instance, with the JWST) would be of key value to further investigate these issues. |\n",
       "|<p style=\"color:green\"> **ERROR** </p>| <p style=\"color:green\">affiliation error: mpia.affiliation_verifications: 'Heidelberg' keyword not found.</p> |"
      ],
      "text/plain": [
       "<IPython.core.display.Markdown object>"
      ]
     },
     "metadata": {},
     "output_type": "display_data"
    },
    {
     "data": {
      "text/markdown": [
       "\n",
       "|||\n",
       "|---:|:---|\n",
       "| [![arXiv](https://img.shields.io/badge/arXiv-arXiv:2303.00339-b31b1b.svg)](https://arxiv.org/abs/arXiv:2303.00339) | **In-orbit Performance of ME onboard Insight-HXMT in the first 5 years**  |\n",
       "|| Ying Tan, et al. -- incl., <mark>Xiaobo Li</mark>, <mark>Wanchang Zhang</mark>, <mark>Shuangnan Zhang</mark> |\n",
       "|*Appeared on*| *2023-03-02*|\n",
       "|*Comments*| **|\n",
       "|**Abstract**| Introduction: The Medium Energy X-ray telescope (ME) is a collimated X-ray telescope onboard the Insight hard X-ray modulation telescope (Insight-HXMT) satellite. It has 1728 Si-PIN pixels readout using 54 low noise application-specific integrated circuits (ASICs). ME covers the energy range of 5-30 keV and has a total detection area of 952 cm2. The typical energy resolution of ME at the beginning of the mission is 3 keV at 17.8 keV (Full Width at Half Maximum, FWHM) and the time resolution is 255 us. In this study, we present the in-orbit performance of ME in its first 5 years of operation. Methods: The performance of ME was monitored using onboard radioactive sources and astronomical X-ray objects. ME carries six 241Am radioactive sources for onboard calibration, which can continuously illuminate the calibration pixels. The long-term performance evolution of ME can be quantified using the properties of the accumulated spectra of the calibration pixels. In addition, observations of the Crab Nebula and the pulsar were used to check the long-term evolution of the detection efficiency as a function of energy. Conclusion: After 5 years of operation, 742 cm2 of the Si-PIN pixels were still working normally. The peak positions of 241Am emission lines gradually shifted to the high energy region, implying a slow increase in ME gain of 1.43%. A comparison of the ME spectra of the Crab Nebula and the pulsar shows that the E-C relations and the redistribution matrix file are still acceptable for most data analysis works, and there is no detectable variation in the detection efficiency. |\n",
       "|<p style=\"color:green\"> **ERROR** </p>| <p style=\"color:green\">affiliation error: mpia.affiliation_verifications: 'Heidelberg' keyword not found.</p> |"
      ],
      "text/plain": [
       "<IPython.core.display.Markdown object>"
      ]
     },
     "metadata": {},
     "output_type": "display_data"
    },
    {
     "data": {
      "text/markdown": [
       "\n",
       "|||\n",
       "|---:|:---|\n",
       "| [![arXiv](https://img.shields.io/badge/arXiv-arXiv:2303.00360-b31b1b.svg)](https://arxiv.org/abs/arXiv:2303.00360) | **The Long-term Monitoring Results of Insight-HXMT in the First 4 Yr  Galactic Plane Scanning Survey**  |\n",
       "|| Chen Wang, et al. -- incl., <mark>Cheng-Kui Li</mark>, <mark>Shuang-Nan Zhang</mark> |\n",
       "|*Appeared on*| *2023-03-02*|\n",
       "|*Comments*| *43 pages, 26 figures, accepted for publication in ApJS*|\n",
       "|**Abstract**| The first X-ray source catalog of Insight-HXMT Galactic Plane (|b|<10deg) Scanning Survey (GPSS) is presented based on the data accumulated from June 2017 to August 2021. The 4 yr limit sensitivities at main energy bands can reach 8.2x10^(-12) erg/s/cm^2} (2-6 keV), 4.21x10^(-11) erg/s/cm^2 (7-40 keV) and 2.78x10^(-11) erg/s/cm^2 (25-100 keV). More than 1300 sources have been monitored at a wide band (1$-$100\\,keV), of which 223 sources have a signal-to-noise ratio greater than 5. We combined the GPSS data of Insight-HXMT and MAXI and found it is feasible to obtain more complete long-term light curves from their scanning results. The flux variabilities at different energy bands of the 223 bright sources are analyzed based on the excess variances. It is found that the fluxes of X-ray binaries are more active than those of supernova remnants and isolated pulsars. Different types of binaries, e.g., low-mass X-ray binaries (LMXBs), high-mass X-ray binaries (HMXBs), neutron star binaries, and black hole binaries, also distinctively show different regularities. In addition, the relations between the hardness ratio (HR) and excess variances, and HR and source types are analyzed. It is obvious that the HRs of HMXBs tend to be harder than those of LMXBs and HMXBs tend to be more active than those of LMXBs. |\n",
       "|<p style=\"color:green\"> **ERROR** </p>| <p style=\"color:green\">affiliation error: mpia.affiliation_verifications: 'Heidelberg' keyword not found.</p> |"
      ],
      "text/plain": [
       "<IPython.core.display.Markdown object>"
      ]
     },
     "metadata": {},
     "output_type": "display_data"
    },
    {
     "data": {
      "text/markdown": [
       "\n",
       "|||\n",
       "|---:|:---|\n",
       "| [![arXiv](https://img.shields.io/badge/arXiv-arXiv:2303.00370-b31b1b.svg)](https://arxiv.org/abs/arXiv:2303.00370) | **Application of Deep Learning Methods for Distinguishing Gamma-Ray Bursts  from Fermi/GBM TTE Data**  |\n",
       "|| <mark>Peng Zhang</mark>, et al. -- incl., <mark>Bing Li</mark>, <mark>Xiaobo Li</mark>, <mark>Yi Zhao</mark>, <mark>Yanqiu Zhang</mark>, <mark>Hongyu Zhao</mark> |\n",
       "|*Appeared on*| *2023-03-02*|\n",
       "|*Comments*| *42 pages,12 figures*|\n",
       "|**Abstract**| To research the burst phenomenon of gamma-ray bursts (GRBs) in depth, it is necessary to explore an effective and accurate identification of GRBs. Onboard blind search, ground blind search, and target search method are popular methods in identifying GRBs. However, they undeniably miss GRBs due to the influence of threshold, especially for sub-threshold triggers. We present a new approach to distinguish GRB by using convolutional neural networks (CNNs) to classify count maps that contain bursting information in more dimensions. For comparison, we design three supervised CNN models with different structures. Thirteen years Time-Tagged Event (TTE) format data from Fermi/GBM is employed to construct useful data sets and to train, validate and test these models. We find an optimal model, i.e. the ResNet-CBAM model trained on the 64 ms data set, which contains residual and attention mechanism modules. We track this deep learning model through two visualization analysis methods separately, Gradient-weighted Class Activation Mapping (Grad-CAM) and T-distributed Stochastic Neighbor Embedding (t-SNE) method, and find it focused on the main features of GRBs. By applying it on one-year data, about 96% of GRBs in the Fermi burst catalog were distinguished accurately, six out of ten GRBs of sub-threshold triggers were identified correctly, and meaningfully thousands of new candidates were obtained and listed according to their SNR information. Our study implies that the deep learning method could distinguish GRBs from background-like maps effectively and reliably. In the future, it can be implemented into real-time analysis pipelines to reduce manual inspection and improve accuracy, enabling follow-up observations with multi-band telescopes. |\n",
       "|<p style=\"color:green\"> **ERROR** </p>| <p style=\"color:green\">affiliation error: mpia.affiliation_verifications: 'Heidelberg' keyword not found.</p> |"
      ],
      "text/plain": [
       "<IPython.core.display.Markdown object>"
      ]
     },
     "metadata": {},
     "output_type": "display_data"
    },
    {
     "data": {
      "text/markdown": [
       "\n",
       "|||\n",
       "|---:|:---|\n",
       "| [![arXiv](https://img.shields.io/badge/arXiv-arXiv:2303.00453-b31b1b.svg)](https://arxiv.org/abs/arXiv:2303.00453) | **Advances in Optical / Infrared Interferometry**  |\n",
       "|| <mark>Frank Eisenhauer</mark>, John D. Monnier, Oliver Pfuhl |\n",
       "|*Appeared on*| *2023-03-02*|\n",
       "|*Comments*| *50 pages, 14 figures, to be published in Annual Review of Astronomy and Astrophysics*|\n",
       "|**Abstract**| After decades of experimental projects and fast-paced technical advances, optical / infrared (O/IR) interferometry has seen a revolution in the last years. The GRAVITY instrument at the VLTI with four 8 meter telescopes reaches thousand times fainter objects than possible with earlier interferometers, and the CHARA array routinely offers up to 330 meter baselines and aperture-synthesis with six 1 meter telescopes. The observed objects are fainter than 19 magnitude, the images have sub-milliarcsecond resolution, and the astrometry reaches micro-arcsecond precision. We give an overview of breakthrough results from the past 15 years in O/IR interferometry on the Galactic Center, exo-planets and their atmospheres, active galactic nuclei, young stellar objects, and stellar physics. Following a primer in interferometry, we summarize the technical and conceptual advances which led to the boosts in sensitivity, precision, and imaging of modern interferometers. Single-mode beam combiners now combine all available telescopes of the major interferometers for imaging, and specialized image reconstruction software advances over earlier developments for radio interferometry. With a combination of large telescopes, adaptive optics, fringe-tracking, and especially dual-beam interferometry, GRAVITY has boosted the sensitivity by many orders of magnitudes. Another order of magnitude improvement will come from upgrades with laser guide star adaptive optics. In combination with large separation fringe-tracking, O/IR interferometry will then provide complete sky coverage for observations in the Galactic plane, and substantial coverage for extragalactic targets. VLTI and CHARA will remain unique in the era of upcoming 30-40m extremely large telescopes (ELTs). |\n",
       "|<p style=\"color:green\"> **ERROR** </p>| <p style=\"color:green\">affiliation error: mpia.affiliation_verifications: 'Heidelberg' keyword not found.</p> |"
      ],
      "text/plain": [
       "<IPython.core.display.Markdown object>"
      ]
     },
     "metadata": {},
     "output_type": "display_data"
    },
    {
     "data": {
      "text/markdown": [
       "\n",
       "|||\n",
       "|---:|:---|\n",
       "| [![arXiv](https://img.shields.io/badge/arXiv-arXiv:2303.00481-b31b1b.svg)](https://arxiv.org/abs/arXiv:2303.00481) | **A detailed view of low-frequency quasi-periodic oscillation in the  broadband 0.2-200 keV with Insight-HXMT and NICER**  |\n",
       "|| X. Ma, et al. -- incl., <mark>L. Zhang</mark>, <mark>S.N. Zhang</mark>, <mark>S. Zhang</mark> |\n",
       "|*Appeared on*| *2023-03-02*|\n",
       "|*Comments*| **|\n",
       "|**Abstract**| We report the X-ray timing results of the black hole candidate MAXI J1820+070 during its 2018 outburst using the Hard X-ray Modulation Telescope (Insight-HXMT) and Neutron Star Interior Composition Explorer Mission (NICER) observations. Low frequency quasi-periodic oscillations (LFQPOs) are detected in the low/hard state and the hard intermediate state, which lasted for about 90 days. Thanks to the large effective area of Insight-HXMT at high energies and NICER at low energies, we are able to present the energy dependence of the LFQPO characteristics and phase lags from 0.2 keV to 200 keV, which has never been explored by previous missions. We find that the centroid frequency of the LFQPOs do not change significantly with energy, while the full width at half maximum (FWHM) and fractional rms show a complex evolution with energy. The LFQPO phase lags at high energies and low energies show consistent energy-dependence relations taking the ~2 keV as reference. Our results suggest that the LFQPOs from high energy come from the LT precession of the relativistic jet, while the low-energy radiation is mainly from the perpendicular innermost regions of the accretion disk. |\n",
       "|<p style=\"color:green\"> **ERROR** </p>| <p style=\"color:green\">affiliation error: mpia.affiliation_verifications: 'Heidelberg' keyword not found.</p> |"
      ],
      "text/plain": [
       "<IPython.core.display.Markdown object>"
      ]
     },
     "metadata": {},
     "output_type": "display_data"
    },
    {
     "data": {
      "text/markdown": [
       "\n",
       "|||\n",
       "|---:|:---|\n",
       "| [![arXiv](https://img.shields.io/badge/arXiv-arXiv:2303.00518-b31b1b.svg)](https://arxiv.org/abs/arXiv:2303.00518) | **Detector bandwidth and polarisation switching rates: spectrophotometric  observations of the Sun by the Birmingham Solar Oscillations Network (BiSON)**  |\n",
       "|| S. J. Hale, et al. -- incl., <mark>G. R. Davies</mark> |\n",
       "|*Appeared on*| *2023-03-02*|\n",
       "|*Comments*| *6 pages, 9 figures, 1 table. Accepted by RAS Techniques and Instruments: 2023 March 1*|\n",
       "|**Abstract**| The Birmingham Solar Oscillations Network (BiSON) observes acoustic oscillations of the Sun. The dominant noise source is caused by fluctuations of Earth's atmosphere, and BiSON seeks to mitigate this effect by combining multiple rapid observations in alternating polarisation states. Current instrumentation uses bespoke Pockels-effect cells to select the polarisation state. Here, we investigate an alternative off-the-shelf solution, a liquid crystal retarder, and discuss the potential impact of differences in performance. We show through electrical simulation of the photodiode-based detectors, and assessment of both types of polarisation device, that although the switching rate is slower the off-the-shelf LCD retarder is a viable replacement for a bespoke Pockels-effect cell. The simplifications arising from the use of off-the-shelf components allows easier and quicker instrumentation deployment. |\n",
       "|<p style=\"color:green\"> **ERROR** </p>| <p style=\"color:green\">affiliation error: mpia.affiliation_verifications: 'Heidelberg' keyword not found.</p> |"
      ],
      "text/plain": [
       "<IPython.core.display.Markdown object>"
      ]
     },
     "metadata": {},
     "output_type": "display_data"
    },
    {
     "data": {
      "text/markdown": [
       "\n",
       "|||\n",
       "|---:|:---|\n",
       "| [![arXiv](https://img.shields.io/badge/arXiv-arXiv:2303.00626-b31b1b.svg)](https://arxiv.org/abs/arXiv:2303.00626) | **WALLABY Pre-Pilot Survey: Radio Continuum Properties of the Eridanus  Supergroup**  |\n",
       "|| J. A. Grundy, et al. -- incl., <mark>K. Lee-Waddell</mark> |\n",
       "|*Appeared on*| *2023-03-02*|\n",
       "|*Comments*| *26 pages, 14 figures, Accepted for publication at PASA 23/2/2023, Full catalogues and underlying data available at: this https URL*|\n",
       "|**Abstract**| We present the highest resolution and sensitivity $\\sim1.4\\,$GHz continuum observations of the Eridanus supergroup obtained as a part of the Widefield ASKAP L-band Legacy All-sky Blind surveY (WALLABY) pre-pilot observations using the Australian Square Kilometer Array Pathfinder (ASKAP). We detect 9461 sources at 1.37 GHz down to a flux density limit of $\\sim0.1$ mJy at $6.1''\\times 7.9''$ resolution with a mean root-mean-square (RMS) of 0.05 mJy/beam. We find that the flux scale is accurate to within 5% (compared to NVSS at 1.4 GHz). We then determine the global properties of eight Eridanus supergroup members, which are detected in both radio continuum and neutral hydrogen (HI) emission, and find that the radio-derived star formation rates (SFRs) agree well with previous literature. Using our global and resolved radio continuum properties of the nearby Eridanus galaxies, we measure and extend the infrared-radio correlation (IRRC) to lower stellar masses and inferred star formation rates than before. We find the resolved IRRC to be useful for: 1) discriminating between AGN and star-forming galaxies (SFGs); 2) identifying background radio sources; and 3) tracing the effects of group environment pre-processing in NGC 1385. We find evidence for tidal interactions and ram-pressure stripping in the HI, resolved spectral index and IRRC morphologies of NGC 1385. There appears to be a spatial coincidence (in projection) of double-lobed radio jets with the central HI hole of NGC 1367. The destruction of polycyclic aromatic hydrocarbons (PAHs) by merger-induced shocks may be driving the observed WISE W3 deficit observed in NGC 1359. Our results suggest that resolved radio continuum and IRRC studies are excellent tracers of the physical processes that drive galaxy evolution and will be possible on larger sample of sources with upcoming ASKAP radio continuum surveys. |\n",
       "|<p style=\"color:green\"> **ERROR** </p>| <p style=\"color:green\">affiliation error: mpia.affiliation_verifications: 'Heidelberg' keyword not found.</p> |"
      ],
      "text/plain": [
       "<IPython.core.display.Markdown object>"
      ]
     },
     "metadata": {},
     "output_type": "display_data"
    },
    {
     "data": {
      "text/markdown": [
       "\n",
       "|||\n",
       "|---:|:---|\n",
       "| [![arXiv](https://img.shields.io/badge/arXiv-arXiv:2303.00687-b31b1b.svg)](https://arxiv.org/abs/arXiv:2303.00687) | **Ground calibration of Gamma-Ray Detectors of GECAM-C**  |\n",
       "|| Chao Zheng, et al. -- incl., <mark>Da-Li Zhang</mark>, <mark>Yan-Qiu Zhang</mark>, <mark>Dong-Ya Guo</mark>, <mark>Gang Li</mark>, <mark>Xin-Qiao Li</mark>, <mark>Yan-Guo Li</mark>, <mark>Mao-Shun Li</mark>, <mark>Li-Ming Song</mark>, <mark>Fan Zhang</mark>, <mark>Peng Zhang</mark>, <mark>Zhen Zhang</mark>, <mark>Yi Zhao</mark> |\n",
       "|*Appeared on*| *2023-03-02*|\n",
       "|*Comments*| *preliminary version, will be updated soon*|\n",
       "|**Abstract**| As a new member of GECAM mission, GECAM-C (also named High Energy Burst Searcher, HEBS) was launched onboard the SATech-01 satellite on July 27th, 2022, which is capable to monitor gamma-ray transients from $\\sim$ 6 keV to 6 MeV. As the main detector, there are 12 gamma-ray detectors (GRDs) equipped for GECAM-C. In order to verify the GECAM-C GRD detector performance and to validate the Monte Carlo simulations of detector response, comprehensive on-ground calibration experiments have been performed using X-ray beam and radioactive sources, including Energy-Channel relation, energy resolution, detection efficiency, SiPM voltage-gain relation and the non-uniformity of positional response. In this paper, the detailed calibration campaigns and data analysis results for GECAM-C GRDs are presented, demonstrating the excellent performance of GECAM-C GRD detectors. |\n",
       "|<p style=\"color:green\"> **ERROR** </p>| <p style=\"color:green\">affiliation error: mpia.affiliation_verifications: 'Heidelberg' keyword not found.</p> |"
      ],
      "text/plain": [
       "<IPython.core.display.Markdown object>"
      ]
     },
     "metadata": {},
     "output_type": "display_data"
    },
    {
     "data": {
      "text/markdown": [
       "\n",
       "|||\n",
       "|---:|:---|\n",
       "| [![arXiv](https://img.shields.io/badge/arXiv-arXiv:2303.00537-b31b1b.svg)](https://arxiv.org/abs/arXiv:2303.00537) | **The performance of SiPM-based gamma-ray detector (GRD) of GECAM-C**  |\n",
       "|| <mark>Dali Zhang</mark>, et al. -- incl., <mark>Xinqiao Li</mark>, <mark>Dongya Guo</mark>, <mark>Yanqiu Zhang</mark>, <mark>Xiaoyun Zhao</mark>, <mark>Xiaobo Li</mark>, <mark>Peng Zhang</mark>, <mark>Zhen Zhang</mark>, <mark>Yanguo Li</mark>, <mark>Bing Li</mark>, <mark>Fan Zhang</mark> |\n",
       "|*Appeared on*| *2023-03-02*|\n",
       "|*Comments*| *18 pages, 16 figures*|\n",
       "|**Abstract**| As a new member of GECAM mission, the GECAM-C (also called High Energy Burst Searcher, HEBS) is a gamma-ray all-sky monitor onboard SATech-01 satellite, which was launched on July 27th, 2022 to detect gamma-ray transients from 6 keV to 6 MeV, such as Gamma-Ray Bursts (GRBs), high energy counterpart of Gravitational Waves (GWs) and Fast Radio Bursts (FRBs), and Soft Gamma-ray Repeaters (SGRs). Together with GECAM-A and GECAM-B launched in December 2020, GECAM-C will greatly improve the monitoring coverage, localization, as well as temporal and spectral measurements of gamma-ray transients. GECAM-C employs 12 SiPM-based Gamma-Ray Detectors (GRDs) to detect gamma-ray transients . In this paper, we firstly give a brief description of the design of GECAM-C GRDs, and then focus on the on-ground tests and in-flight performance of GRDs. We also did the comparison study of the SiPM in-flight performance between GECAM-C and GECAM-B. The results show GECAM-C GRD works as expected and is ready to make scientific observations. |\n",
       "|<p style=\"color:red\"> **ERROR** </p>| <p style=\"color:red\">latex error not a gzip file</p> |"
      ],
      "text/plain": [
       "<IPython.core.display.Markdown object>"
      ]
     },
     "metadata": {},
     "output_type": "display_data"
    }
   ],
   "source": [
    "import datetime\n",
    "today = str(datetime.date.today())\n",
    "logfile = f\"_build/html/logs/log-{today}.md\"\n",
    "\n",
    "\n",
    "with open(logfile, 'w') as logs:\n",
    "    # Success\n",
    "    logs.write(f'# Arxiv on Deck 2: Logs - {today}\\n\\n')\n",
    "    logs.write(\"\"\"* Arxiv had {0:,d} new papers\\n\"\"\".format(len(new_papers)))\n",
    "    logs.write(\"\"\"    * {0:,d} with possible author matches\\n\\n\"\"\".format(len(candidates)))\n",
    "    logs.write(\"## Sucessful papers\\n\\n\")\n",
    "    display(Markdown(\"## Successful papers\"))\n",
    "    success = [k[0] for k in documents]\n",
    "    for candid in candidates:\n",
    "        if candid['identifier'].split(':')[-1] in success:\n",
    "            display(candid)\n",
    "            logs.write(candid.generate_markdown_text() + '\\n\\n')\n",
    "\n",
    "    ## failed\n",
    "    logs.write(\"## Failed papers\\n\\n\")\n",
    "    display(Markdown(\"## Failed papers\"))\n",
    "    failed = sorted(failed, key=lambda x: x[1])\n",
    "    current_reason = \"\"\n",
    "    for paper, reason in failed:\n",
    "        if 'affiliation' in reason:\n",
    "            color = 'green'\n",
    "        else:\n",
    "            color = 'red'\n",
    "        data = Markdown(\n",
    "                paper.generate_markdown_text() + \n",
    "                f'\\n|<p style=\"color:{color:s}\"> **ERROR** </p>| <p style=\"color:{color:s}\">{reason:s}</p> |'\n",
    "               )\n",
    "        if reason != current_reason:\n",
    "            logs.write(f'### {reason:s} \\n\\n')\n",
    "            current_reason = reason\n",
    "        logs.write(data.data + '\\n\\n')\n",
    "        \n",
    "        # only display here the important errors (all in logs)\n",
    "        # if color in ('red',):\n",
    "        display(data)"
   ]
  },
  {
   "cell_type": "markdown",
   "id": "472d20ee",
   "metadata": {
    "papermill": {
     "duration": 0.013475,
     "end_time": "2023-03-02T04:10:48.774887",
     "exception": false,
     "start_time": "2023-03-02T04:10:48.761412",
     "status": "completed"
    },
    "tags": []
   },
   "source": [
    "## Export documents\n",
    "\n",
    "We now write the .md files and export relevant images"
   ]
  },
  {
   "cell_type": "code",
   "execution_count": 7,
   "id": "d426aed9",
   "metadata": {
    "execution": {
     "iopub.execute_input": "2023-03-02T04:10:48.805628Z",
     "iopub.status.busy": "2023-03-02T04:10:48.804897Z",
     "iopub.status.idle": "2023-03-02T04:10:48.814393Z",
     "shell.execute_reply": "2023-03-02T04:10:48.813498Z"
    },
    "papermill": {
     "duration": 0.029579,
     "end_time": "2023-03-02T04:10:48.816353",
     "exception": false,
     "start_time": "2023-03-02T04:10:48.786774",
     "status": "completed"
    },
    "tags": []
   },
   "outputs": [],
   "source": [
    "def export_markdown_summary(md: str, md_fname:str, directory: str):\n",
    "    \"\"\"Export MD document and associated relevant images\"\"\"\n",
    "    import os\n",
    "    import shutil\n",
    "    import re\n",
    "\n",
    "    if (os.path.exists(directory) and not os.path.isdir(directory)):\n",
    "        raise RuntimeError(f\"a non-directory file exists with name {directory:s}\")\n",
    "\n",
    "    if (not os.path.exists(directory)):\n",
    "        print(f\"creating directory {directory:s}\")\n",
    "        os.mkdir(directory)\n",
    "\n",
    "    fig_fnames = (re.compile(r'\\[Fig.*\\]\\((.*)\\)').findall(md) + \n",
    "                  re.compile(r'\\<img src=\"([^>\\s]*)\"[^>]*/>').findall(md))\n",
    "    for fname in fig_fnames:\n",
    "        if 'http' in fname:\n",
    "            # No need to copy online figures\n",
    "            continue\n",
    "        destdir = os.path.join(directory, os.path.dirname(fname))\n",
    "        destfname = os.path.join(destdir, os.path.basename(fname))\n",
    "        try:\n",
    "            os.makedirs(destdir)\n",
    "        except FileExistsError:\n",
    "            pass\n",
    "        shutil.copy(fname, destfname)\n",
    "    with open(os.path.join(directory, md_fname), 'w') as fout:\n",
    "        fout.write(md)\n",
    "    print(\"exported in \", os.path.join(directory, md_fname))\n",
    "    [print(\"    + \" + os.path.join(directory,fk)) for fk in fig_fnames]"
   ]
  },
  {
   "cell_type": "code",
   "execution_count": 8,
   "id": "014d04a4",
   "metadata": {
    "execution": {
     "iopub.execute_input": "2023-03-02T04:10:48.842493Z",
     "iopub.status.busy": "2023-03-02T04:10:48.842140Z",
     "iopub.status.idle": "2023-03-02T04:10:48.852275Z",
     "shell.execute_reply": "2023-03-02T04:10:48.851451Z"
    },
    "papermill": {
     "duration": 0.025685,
     "end_time": "2023-03-02T04:10:48.854201",
     "exception": false,
     "start_time": "2023-03-02T04:10:48.828516",
     "status": "completed"
    },
    "tags": []
   },
   "outputs": [
    {
     "name": "stdout",
     "output_type": "stream",
     "text": [
      "exported in  _build/html/2303.00012.md\n",
      "    + _build/html/tmp_2303.00012/./sys_dsm_ptm.png\n",
      "    + _build/html/tmp_2303.00012/./sys_dsm.png\n",
      "    + _build/html/tmp_2303.00012/./classI.png\n",
      "    + _build/html/tmp_2303.00012/./am_timescales_sim0074.png\n",
      "exported in  _build/html/2303.00044.md\n",
      "    + _build/html/tmp_2303.00044/./figures/ALF_ageZHimfALPHA_Hydra_FINAL.png\n",
      "    + _build/html/tmp_2303.00044/./figures/Literature_comparison_KIN_PAPER.png\n",
      "    + _build/html/tmp_2303.00044/./figures/ALF_ALLelements_Hydra_moreMask_FINALproc.png\n"
     ]
    }
   ],
   "source": [
    "for paper_id, md in documents:\n",
    "    export_markdown_summary(md, f\"{paper_id:s}.md\", '_build/html/')"
   ]
  },
  {
   "cell_type": "markdown",
   "id": "f087a0a7",
   "metadata": {
    "papermill": {
     "duration": 0.013365,
     "end_time": "2023-03-02T04:10:48.880412",
     "exception": false,
     "start_time": "2023-03-02T04:10:48.867047",
     "status": "completed"
    },
    "tags": []
   },
   "source": [
    "## Display the papers\n",
    "\n",
    "Not necessary but allows for a quick check."
   ]
  },
  {
   "cell_type": "code",
   "execution_count": 9,
   "id": "fd25f625",
   "metadata": {
    "execution": {
     "iopub.execute_input": "2023-03-02T04:10:48.906477Z",
     "iopub.status.busy": "2023-03-02T04:10:48.905864Z",
     "iopub.status.idle": "2023-03-02T04:10:48.913719Z",
     "shell.execute_reply": "2023-03-02T04:10:48.912862Z"
    },
    "papermill": {
     "duration": 0.023537,
     "end_time": "2023-03-02T04:10:48.915750",
     "exception": false,
     "start_time": "2023-03-02T04:10:48.892213",
     "status": "completed"
    },
    "scrolled": false,
    "tags": []
   },
   "outputs": [
    {
     "data": {
      "text/markdown": [
       "<div class=\"macros\" style=\"visibility:hidden;\">\n",
       "$\\newcommand{\\ensuremath}{}$\n",
       "$\\newcommand{\\xspace}{}$\n",
       "$\\newcommand{\\object}[1]{\\texttt{#1}}$\n",
       "$\\newcommand{\\farcs}{{.}''}$\n",
       "$\\newcommand{\\farcm}{{.}'}$\n",
       "$\\newcommand{\\arcsec}{''}$\n",
       "$\\newcommand{\\arcmin}{'}$\n",
       "$\\newcommand{\\ion}[2]{#1#2}$\n",
       "$\\newcommand{\\textsc}[1]{\\textrm{#1}}$\n",
       "$\\newcommand{\\hl}[1]{\\textrm{#1}}$</div>\n",
       "\n",
       "<div class=\"macros\" style=\"visibility:hidden;\">\n",
       "$\\newcommand{\\ensuremath}{}$\n",
       "$\\newcommand{\\xspace}{}$\n",
       "$\\newcommand{\\object}[1]{\\texttt{#1}}$\n",
       "$\\newcommand{\\farcs}{{.}''}$\n",
       "$\\newcommand{\\farcm}{{.}'}$\n",
       "$\\newcommand{\\arcsec}{''}$\n",
       "$\\newcommand{\\arcmin}{'}$\n",
       "$\\newcommand{\\ion}[2]{#1#2}$\n",
       "$\\newcommand{\\textsc}[1]{\\textrm{#1}}$\n",
       "$\\newcommand{\\hl}[1]{\\textrm{#1}}$</div>\n",
       "\n",
       "\n",
       "\n",
       "<div id=\"title\">\n",
       "\n",
       "# Planetary Population Synthesis and the Emergence of Four Classes of Planetary System Architectures\n",
       "\n",
       "</div>\n",
       "<div id=\"comments\">\n",
       "\n",
       "[![arXiv](https://img.shields.io/badge/arXiv-2303.00012-b31b1b.svg)](https://arxiv.org/abs/2303.00012)<mark>Appeared on: 2023-03-02</mark> - _Invited review accepted for publication in EPJ+, Focus Point on Environmental and Multiplicity Effects on Planet Formation by guest editors G. Lodato and C.F. Manara_\n",
       "\n",
       "</div>\n",
       "<div id=\"authors\">\n",
       "\n",
       "Alexandre Emsenhuber, Christoph Mordasini, <mark>Remo Burn</mark>\n",
       "\n",
       "</div>\n",
       "<div id=\"abstract\">\n",
       "\n",
       "**Abstract:** Planetary population synthesis is a helpful tool to understand the physics of planetary system formation. It builds on a global model, meaning that the model has to include a multitude of physical processes. The outcome can be statistically compared with exoplanet observations. Here, we review the population synthesis method and then use one population computed using the Generation III Bern model to explore how different planetary system architectures emerge and which conditions lead to their formation. The emerging systems can be classified into four main architectures: Class I of near-in situ compositionally ordered terrestrial and ice planets, Class II of migrated sub-Neptunes, Class III of mixed low-mass and giant planets, broadly similar to the Solar System, and Class IV of dynamically active giants without inner low-mass planets. These four classes exhibit distinct typical formation pathways and are characterised by certain mass scales. We find that Class I forms from the local accretion of planetesimals followed by a giant impact phase, and the final planet masses correspond to what is expected from such a scenario, the `Goldreich mass'. Class II, the migrated sub-Neptune systems form when planets reach the `equality mass' where accretion and migration timescales are comparable before the dispersal of the gas disc, but not large enough to allow for rapid gas accretion. Giant planets form when the `equality mass' allows for gas accretion to proceed while the planet are migrating, i.e., when the critical core mass is reached. The main discriminant of the four classes is the initial mass of solids in the disc, with contributions from the lifetime and mass of the gas disc. The distinction between mixed Class III systems and Class IV dynamically-active giants is in part due to the stochastic nature of dynamical interactions, such as scatterings between giant planets, rather than the initial conditions only. The breakdown of system into classes allows to better interpret the outcome of a complex model and understand which physical processes are dominant. Comparison with observations reveals differences to the actual population, pointing at limitation of theoretical understanding. For example, the overrepresentation of synthetic super Earths and sub-Neptunes in Class I systems causes these planets to be found at lower metallicities than in observations.\n",
       "\n",
       "</div>\n",
       "\n",
       "<div id=\"div_fig1\">\n",
       "\n",
       "<img src=\"tmp_2303.00012/./sys_dsm_ptm.png\" alt=\"Fig14.1\" width=\"50%\"/><img src=\"tmp_2303.00012/./sys_dsm.png\" alt=\"Fig14.2\" width=\"50%\"/>\n",
       "\n",
       "**Figure 14. -** System architecture as function of the initial solids mass content in the disc $M_{\\rm p,ini}$ and the total mass (accounting for solids and gas) in the final planets per system $M_{\\rm sys}$(left) and a histogram of initial solids mass only (right). In the left panel, the three dashed diagonal lines again denote the conversion efficiency from disc solids to planets, with the value given next to them. In the right panel, the small horizontal lines show the extent of each bin. (*fig:sys_dsm_ptm*)\n",
       "\n",
       "</div>\n",
       "<div id=\"div_fig2\">\n",
       "\n",
       "<img src=\"tmp_2303.00012/./classI.png\" alt=\"Fig4\" width=\"100%\"/>\n",
       "\n",
       "**Figure 4. -** Final architecture of four example systems in Class I. Coloured dots show the position in the mass-semimajor axis plane of different planet composition types as indicated in the legend. The three numbers in the top left give the initial conditions [M/H], initial gas disc mass [\\si{\\msun}], and initial mass of planetesimals [\\si{\\mearth}]. The systems are ordered according to the latter. Horizontal black bars indicate the periastron to apastron distance, reflecting  orbital eccentricity. Grey full circles show the last position of protoplanets that were lost. The ones lost by accretion onto the star are put on the left y-axis of each panel and those ejected on the right one. The remaining grey points correspond to protoplanets that were accreted by another more massive protoplanet. The point then shows the mass and semi-major axis just before this accretion event. (*fig:class1examples*)\n",
       "\n",
       "</div>\n",
       "<div id=\"div_fig3\">\n",
       "\n",
       "<img src=\"tmp_2303.00012/./am_timescales_sim0074.png\" alt=\"Fig5\" width=\"100%\"/>\n",
       "\n",
       "**Figure 5. -** Example of formation tracks and final architecture of a system that belong to Class II. In this class, the governing mass scale in the inner system is linked to orbital migration and is thus given by the saturation mass $M_{\\rm sat}$ where planets are released from migration traps (green lines, evaluated at $t=0$ and $t=\\SI{0.1}{\\mega\\year}$) and/or the equality mass $M_{\\rm{eq}}$ where the timescales of oligarchic growth and type I orbital migration  are equal (cyan line). (*fig:class2*)\n",
       "\n",
       "</div>"
      ],
      "text/plain": [
       "<IPython.core.display.Markdown object>"
      ]
     },
     "metadata": {},
     "output_type": "display_data"
    },
    {
     "data": {
      "text/markdown": [
       "<div class=\"macros\" style=\"visibility:hidden;\">\n",
       "$\\newcommand{\\ensuremath}{}$\n",
       "$\\newcommand{\\xspace}{}$\n",
       "$\\newcommand{\\object}[1]{\\texttt{#1}}$\n",
       "$\\newcommand{\\farcs}{{.}''}$\n",
       "$\\newcommand{\\farcm}{{.}'}$\n",
       "$\\newcommand{\\arcsec}{''}$\n",
       "$\\newcommand{\\arcmin}{'}$\n",
       "$\\newcommand{\\ion}[2]{#1#2}$\n",
       "$\\newcommand{\\textsc}[1]{\\textrm{#1}}$\n",
       "$\\newcommand{\\hl}[1]{\\textrm{#1}}$\n",
       "$\\newcommand$\n",
       "$\\newcommand$\n",
       "$\\newcommand{\\afk}[1]{\\textcolor{purple}{\\uline{#1}}}$\n",
       "$\\newcommand{\\afks}[1]{\\textcolor{purple}{\\sout{#1}}}$\n",
       "$\\newcommand{\\il}[1]{\\textcolor{cyan}{\\uline{#1}}}$\n",
       "$\\newcommand{\\ils}[1]{\\textcolor{cyan}{\\sout{#1}}}$\n",
       "$\\newcommand{\\wf}[1]{\\textcolor{blue}{\\uline{#1}}}$\n",
       "$\\newcommand{\\wfs}[1]{\\textcolor{blue}{\\sout{#1}}}$</div>\n",
       "\n",
       "<div class=\"macros\" style=\"visibility:hidden;\">\n",
       "$\\newcommand{\\ensuremath}{}$\n",
       "$\\newcommand{\\xspace}{}$\n",
       "$\\newcommand{\\object}[1]{\\texttt{#1}}$\n",
       "$\\newcommand{\\farcs}{{.}''}$\n",
       "$\\newcommand{\\farcm}{{.}'}$\n",
       "$\\newcommand{\\arcsec}{''}$\n",
       "$\\newcommand{\\arcmin}{'}$\n",
       "$\\newcommand{\\ion}[2]{#1#2}$\n",
       "$\\newcommand{\\textsc}[1]{\\textrm{#1}}$\n",
       "$\\newcommand{\\hl}[1]{\\textrm{#1}}$\n",
       "$\\newcommand$\n",
       "$\\newcommand$\n",
       "$\\newcommand{\\afk}[1]{\\textcolor{purple}{\\uline{#1}}}$\n",
       "$\\newcommand{\\afks}[1]{\\textcolor{purple}{\\sout{#1}}}$\n",
       "$\\newcommand{\\il}[1]{\\textcolor{cyan}{\\uline{#1}}}$\n",
       "$\\newcommand{\\ils}[1]{\\textcolor{cyan}{\\sout{#1}}}$\n",
       "$\\newcommand{\\wf}[1]{\\textcolor{blue}{\\uline{#1}}}$\n",
       "$\\newcommand{\\wfs}[1]{\\textcolor{blue}{\\sout{#1}}}$</div>\n",
       "\n",
       "\n",
       "\n",
       "<div id=\"title\">\n",
       "\n",
       "# The initial mass function and other stellar properties across the core of the Hydra I cluster\\footnote{This paper includes data gathered with the 6.5 meterMagellan Telescopes located at Las Campanas Observatory, Chile.}\n",
       "\n",
       "</div>\n",
       "<div id=\"comments\">\n",
       "\n",
       "[![arXiv](https://img.shields.io/badge/arXiv-2303.00044-b31b1b.svg)](https://arxiv.org/abs/2303.00044)<mark>Appeared on: 2023-03-02</mark> - _32 pages, 18 figures. Accepted for publication in ApJ_\n",
       "\n",
       "</div>\n",
       "<div id=\"authors\">\n",
       "\n",
       "Ilaria Lonoce, W. L. Freedman, <mark>A. Feldmeier-Krause</mark>\n",
       "\n",
       "</div>\n",
       "<div id=\"abstract\">\n",
       "\n",
       "**Abstract:** The Hydra I cluster offers an excellent opportunity to study and compare the relic old stellar populations in the core of its two brightest galaxies. In addition, the differing kinematics of the two galaxies allows a test of the local validity of general scaling relations. In this work we present a direct comparison employing full spectral fitting of new high-quality long-slit optical and NIR spectroscopic  data. We retrieve age, metallicity and 19 elemental abundances out to $\\sim12$ kpc within each galaxy, as well as the IMF in their central regions.Our results suggest that the inner $\\sim5$ kpc region of both galaxies, despite their different masses, formed at the same time and evolved with a similar star formation time-scale and chemical enrichment, confirming their early formation in the cluster build up. Only the overall metallicity and IMF radial profiles show differences connected with their different velocity dispersion profiles. The radial trend of the IMF positively correlates with both [ Z/H ] and $\\sigma$ . While the trends of the IMF with metallicity agree with a global trend for both galaxies, the trends with the velocity dispersion exhibit differences. The outer regions show signs of mixed stellar populations with large differences in chemical content compared to the centers, but with similar old ages.\n",
       "\n",
       "</div>\n",
       "\n",
       "<div id=\"div_fig1\">\n",
       "\n",
       "<img src=\"tmp_2303.00044/./figures/ALF_ageZHimfALPHA_Hydra_FINAL.png\" alt=\"Fig8\" width=\"100%\"/>\n",
       "\n",
       "**Figure 8. -** \\small{Age, metallicity and IMF slope trends across the Hydra I cluster center as retrieved with ALF. West is on the left, East is on the right. The bottom panel\n",
       "shows the derived mismatch parameter $\\alpha_r$.\n",
       "Dash-dotted horizontal tan lines in the IMF and $\\alpha_r$ panels outline the corresponding values for a Salpeter IMF, dashed those for a Kroupa IMF. Open diamonds refer to regions where the results are less robust due to lower S/N, velocity dispersion broadening and/or lack of important features. } (*fig:ageZimf*)\n",
       "\n",
       "</div>\n",
       "<div id=\"div_fig2\">\n",
       "\n",
       "<img src=\"tmp_2303.00044/./figures/Literature_comparison_KIN_PAPER.png\" alt=\"Fig11\" width=\"100%\"/>\n",
       "\n",
       "**Figure 11. -** \\small{Velocity dispersion (upper panel) and radial velocity (lower panel) profiles as retrieved with ALF (orange).\n",
       "Green triangles and red circles show an indication of the trends retrieved by the works of  ([Richtler, et. al (2011)](https://ui.adsabs.harvard.edu/abs/2011A&A...531A.119R))  and  ([Hilker, et. al (2018)](https://ui.adsabs.harvard.edu/abs/2018A&A...619A..70H)) , respectively, as they appear in figure $6$ of  ([Hilker, et. al (2018)](https://ui.adsabs.harvard.edu/abs/2018A&A...619A..70H))  for the case of position angle $108$\\degr.  Typical error bars are shown on the right of both panels.\n",
       "} (*fig:kinematics*)\n",
       "\n",
       "</div>\n",
       "<div id=\"div_fig3\">\n",
       "\n",
       "<img src=\"tmp_2303.00044/./figures/ALF_ALLelements_Hydra_moreMask_FINALproc.png\" alt=\"Fig9\" width=\"100%\"/>\n",
       "\n",
       "**Figure 9. -** \\small{Similar to Figure \\ref{fig:ageZimf} but for all the retrieved elemental abundances.} (*fig:elements*)\n",
       "\n",
       "</div>"
      ],
      "text/plain": [
       "<IPython.core.display.Markdown object>"
      ]
     },
     "metadata": {},
     "output_type": "display_data"
    }
   ],
   "source": [
    "[display(Markdown(k[1])) for k in documents];"
   ]
  },
  {
   "cell_type": "markdown",
   "id": "873873a4",
   "metadata": {
    "papermill": {
     "duration": 0.012888,
     "end_time": "2023-03-02T04:10:48.942459",
     "exception": false,
     "start_time": "2023-03-02T04:10:48.929571",
     "status": "completed"
    },
    "tags": []
   },
   "source": [
    "# Create HTML index"
   ]
  },
  {
   "cell_type": "code",
   "execution_count": 10,
   "id": "cf665672",
   "metadata": {
    "execution": {
     "iopub.execute_input": "2023-03-02T04:10:48.972583Z",
     "iopub.status.busy": "2023-03-02T04:10:48.972220Z",
     "iopub.status.idle": "2023-03-02T04:10:48.988145Z",
     "shell.execute_reply": "2023-03-02T04:10:48.987194Z"
    },
    "papermill": {
     "duration": 0.032085,
     "end_time": "2023-03-02T04:10:48.990556",
     "exception": false,
     "start_time": "2023-03-02T04:10:48.958471",
     "status": "completed"
    },
    "tags": []
   },
   "outputs": [
    {
     "name": "stdout",
     "output_type": "stream",
     "text": [
      "217  publications in the last 7 days.\n",
      "\t _build/html/2303.00044.md\n",
      "\t _build/html/2303.00012.md\n",
      "\t _build/html/2302.14137.md\n",
      "\t _build/html/2302.12805.md\n",
      "\t _build/html/2302.10943.md\n",
      "\t _build/html/2302.10528.md\n",
      "\t _build/html/2302.10008.md\n",
      "\t _build/html/2302.08962.md\n",
      "\t _build/html/2302.08628.md\n",
      "\t _build/html/2302.07916.md\n",
      "\t _build/html/2302.07880.md\n",
      "\t _build/html/2302.07497.md\n",
      "\t _build/html/2302.07277.md\n",
      "\t _build/html/2302.07256.md\n",
      "\t _build/html/2302.07234.md\n",
      "\t _build/html/2302.07057.md\n",
      "\t _build/html/2302.05694.md\n",
      "\t _build/html/2302.05465.md\n",
      "\t _build/html/2302.04507.md\n",
      "\t _build/html/2302.04239.md\n",
      "\t _build/html/2302.04138.md\n",
      "\t _build/html/2302.03699.md\n",
      "\t _build/html/2302.03576.md\n",
      "\t _build/html/2302.03042.md\n",
      "\t _build/html/2302.03039.md\n",
      "\t _build/html/2302.02890.md\n",
      "\t _build/html/2302.02611.md\n",
      "\t _build/html/2302.02429.md\n",
      "\t _build/html/2302.01678.md\n",
      "\t _build/html/2302.00450.md\n",
      "\t _build/html/2301.13766.md\n",
      "\t _build/html/2301.13526.md\n",
      "\t _build/html/2301.12890.md\n",
      "\t _build/html/2301.11942.md\n",
      "\t _build/html/2301.10717.md\n",
      "\t _build/html/2301.10666.md\n",
      "\t _build/html/2301.10496.md\n",
      "\t _build/html/2301.09621.md\n",
      "\t _build/html/2301.09140.md\n",
      "\t _build/html/2301.08770.md\n",
      "\t _build/html/2301.08310.md\n",
      "\t _build/html/2301.07990.md\n",
      "\t _build/html/2301.07366.md\n",
      "\t _build/html/2301.07199.md\n",
      "\t _build/html/2301.07116.md\n",
      "\t _build/html/2301.06873.md\n",
      "\t _build/html/2301.06819.md\n",
      "\t _build/html/2301.06575.md\n",
      "\t _build/html/2301.05720.md\n",
      "\t _build/html/2301.05718.md\n",
      "\t _build/html/2301.05034.md\n",
      "\t _build/html/2301.04656.md\n",
      "\t _build/html/2301.04533.md\n",
      "\t _build/html/2301.04442.md\n",
      "\t _build/html/2301.03811.md\n",
      "\t _build/html/2301.03689.md\n",
      "\t _build/html/2301.03387.md\n",
      "\t _build/html/2301.03209.md\n",
      "\t _build/html/2301.02671.md\n",
      "\t _build/html/2301.02477.md\n",
      "\t _build/html/2301.02313.md\n",
      "\t _build/html/2301.02265.md\n",
      "\t _build/html/2301.01937.md\n",
      "\t _build/html/2301.01895.md\n",
      "\t _build/html/2301.01684.md\n",
      "\t _build/html/2301.01306.md\n",
      "\t _build/html/2301.00881.md\n",
      "\t _build/html/2301.00854.md\n",
      "\t _build/html/2301.00578.md\n",
      "\t _build/html/2212.12039.md\n",
      "\t _build/html/2212.11991.md\n",
      "\t _build/html/2212.11425.md\n",
      "\t _build/html/2212.11177.md\n",
      "\t _build/html/2212.10804.md\n",
      "\t _build/html/2212.10512.md\n",
      "\t _build/html/2212.09766.md\n",
      "\t _build/html/2212.09675.md\n",
      "\t _build/html/2212.09661.md\n",
      "\t _build/html/2212.09652.md\n",
      "\t _build/html/2212.09443.md\n",
      "\t _build/html/2212.09307.md\n",
      "\t _build/html/2212.09168.md\n",
      "\t _build/html/2212.09159.md\n",
      "\t _build/html/2212.08702.md\n",
      "\t _build/html/2212.07332.md\n",
      "\t _build/html/2212.06434.md\n",
      "\t _build/html/2212.04710.md\n",
      "\t _build/html/2212.04026.md\n",
      "\t _build/html/2212.03563.md\n",
      "\t _build/html/2212.03514.md\n",
      "\t _build/html/2212.02667.md\n",
      "\t _build/html/2212.02627.md\n",
      "\t _build/html/2212.02235.md\n",
      "\t _build/html/2212.01707.md\n",
      "\t _build/html/2212.01526.md\n",
      "\t _build/html/2212.01397.md\n",
      "\t _build/html/2212.01291.md\n",
      "\t _build/html/2212.01281.md\n",
      "\t _build/html/2212.00812.md\n",
      "\t _build/html/2212.00811.md\n",
      "\t _build/html/2212.00806.md\n",
      "\t _build/html/2212.00047.md\n",
      "\t _build/html/2212.00032.md\n",
      "\t _build/html/2211.16996.md\n",
      "\t _build/html/2211.16510.md\n",
      "\t _build/html/2211.16123.md\n",
      "\t _build/html/2211.15816.md\n",
      "\t _build/html/2211.15698.md\n",
      "\t _build/html/2211.15576.md\n",
      "\t _build/html/2211.15434.md\n",
      "\t _build/html/2211.15288.md\n",
      "\t _build/html/2211.15224.md\n",
      "\t _build/html/2211.14543.md\n",
      "\t _build/html/2211.14330.md\n",
      "\t _build/html/2211.14322.md\n",
      "\t _build/html/2211.14132.md\n",
      "\t _build/html/2211.13811.md\n",
      "\t _build/html/2211.13426.md\n",
      "\t _build/html/2211.13318.md\n",
      "\t _build/html/2211.13146.md\n",
      "\t _build/html/2211.12613.md\n",
      "\t _build/html/2211.11767.md\n",
      "\t _build/html/2211.09840.md\n",
      "\t _build/html/2211.09217.md\n",
      "\t _build/html/2211.08493.md\n",
      "\t _build/html/2211.08487.md\n",
      "\t _build/html/2211.08294.md\n",
      "\t _build/html/2211.07667.md\n",
      "\t _build/html/2211.07659.md\n",
      "\t _build/html/2211.06454.md\n",
      "\t _build/html/2211.06205.md\n",
      "\t _build/html/2211.06194.md\n",
      "\t _build/html/2211.05022.md\n",
      "\t _build/html/2211.04048.md\n",
      "\t _build/html/2211.03641.md\n",
      "\t _build/html/2211.02502.md\n",
      "\t _build/html/2211.01474.md\n",
      "\t _build/html/2211.00667.md\n",
      "\t _build/html/2211.00657.md\n",
      "\t _build/html/2211.00087.md\n",
      "\t _build/html/2211.00036.md\n",
      "\t _build/html/2211.00020.md\n",
      "\t _build/html/2211.00010.md\n",
      "\t _build/html/2210.17434.md\n",
      "\t _build/html/2210.12412.md\n",
      "\t _build/html/2210.11926.md\n",
      "\t _build/html/2210.11551.md\n",
      "\t _build/html/2210.11103.md\n",
      "\t _build/html/2210.10707.md\n",
      "\t _build/html/2210.09930.md\n",
      "\t _build/html/2210.08996.md\n",
      "\t _build/html/2210.08517.md\n",
      "\t _build/html/2210.08510.md\n",
      "\t _build/html/2210.08078.md\n",
      "\t _build/html/2210.06504.md\n",
      "\t _build/html/2210.05695.md\n",
      "\t _build/html/2210.05595.md\n",
      "\t _build/html/2210.05505.md\n",
      "\t _build/html/2210.04721.md\n",
      "\t _build/html/2210.03615.md\n",
      "\t _build/html/2210.01811.md\n",
      "\t _build/html/2210.01809.md\n",
      "\t _build/html/2210.01556.md\n",
      "\t _build/html/2210.00863.md\n",
      "\t _build/html/2210.00560.md\n",
      "\t _build/html/2209.15403.md\n",
      "\t _build/html/2209.15110.md\n",
      "\t _build/html/2209.14410.md\n",
      "\t _build/html/2209.14396.md\n",
      "\t _build/html/2209.13717.md\n",
      "\t _build/html/2209.13336.md\n",
      "\t _build/html/2209.12906.md\n",
      "\t _build/html/2209.11781.md\n",
      "\t _build/html/2209.11602.md\n",
      "\t _build/html/2209.11248.md\n",
      "\t _build/html/2209.11096.md\n",
      "\t _build/html/2209.10618.md\n",
      "\t _build/html/2209.09914.md\n",
      "\t _build/html/2209.09823.md\n",
      "\t _build/html/2209.08242.md\n",
      "\t _build/html/2209.08120.md\n",
      "\t _build/html/2209.08106.md\n",
      "\t _build/html/2209.07962.md\n",
      "\t _build/html/2209.07931.md\n",
      "\t _build/html/2209.06833.md\n",
      "\t _build/html/2209.05814.md\n",
      "\t _build/html/2209.05593.md\n",
      "\t _build/html/2209.04304.md\n",
      "\t _build/html/2209.03367.md\n",
      "\t _build/html/2209.02872.md\n",
      "\t _build/html/2209.02725.md\n",
      "\t _build/html/2209.02722.md\n",
      "\t _build/html/2209.02092.md\n",
      "\t _build/html/2209.01125.md\n",
      "\t _build/html/2209.00828.md\n",
      "\t _build/html/2209.00363.md\n",
      "\t _build/html/2208.14927.md\n",
      "\t _build/html/2208.09335.md\n",
      "\t _build/html/2208.08872.md\n",
      "\t _build/html/2204.06393.md\n",
      "\t _build/html/2204.03335.md\n",
      "\t _build/html/2204.03253.md\n",
      "\t _build/html/2204.02998.md\n",
      "\t _build/html/2204.02109.md\n",
      "\t _build/html/2204.02017.md\n",
      "\t _build/html/2204.01824.md\n",
      "\t _build/html/2204.01758.md\n",
      "\t _build/html/2204.01245.md\n",
      "\t _build/html/2204.00793.md\n",
      "\t _build/html/2204.00342.md\n",
      "\t _build/html/2203.16959.md\n",
      "\t _build/html/2203.16856.md\n",
      "\t _build/html/2203.16735.md\n",
      "\t _build/html/2203.16734.md\n",
      "\t _build/html/2203.16504.md\n",
      "\t _build/html/2203.15822.md\n",
      "\t _build/html/2203.15811.md\n"
     ]
    }
   ],
   "source": [
    "from datetime import datetime, timedelta, timezone\n",
    "from glob import glob\n",
    "\n",
    "files = glob('_build/html/*.md')\n",
    "days = 7\n",
    "now = datetime.today()\n",
    "res = []\n",
    "for fk in files:\n",
    "    stat_result = os.stat(fk).st_ctime\n",
    "    modified = datetime.fromtimestamp(stat_result, tz=timezone.utc).replace(tzinfo=None)\n",
    "    delta = now.today() - modified\n",
    "    if delta <= timedelta(days=days):\n",
    "        res.append((delta.seconds, fk))\n",
    "res = [k[1] for k in reversed(sorted(res, key=lambda x:x[1]))]\n",
    "npub = len(res)\n",
    "print(len(res), f\" publications in the last {days:d} days.\")\n",
    "[ print('\\t', k) for k in res ];"
   ]
  },
  {
   "cell_type": "code",
   "execution_count": 11,
   "id": "015de740",
   "metadata": {
    "execution": {
     "iopub.execute_input": "2023-03-02T04:10:49.048177Z",
     "iopub.status.busy": "2023-03-02T04:10:49.047528Z",
     "iopub.status.idle": "2023-03-02T04:10:49.075647Z",
     "shell.execute_reply": "2023-03-02T04:10:49.074841Z"
    },
    "papermill": {
     "duration": 0.074527,
     "end_time": "2023-03-02T04:10:49.077569",
     "exception": false,
     "start_time": "2023-03-02T04:10:49.003042",
     "status": "completed"
    },
    "tags": []
   },
   "outputs": [
    {
     "name": "stdout",
     "output_type": "stream",
     "text": [
      "4  publications in the last 7 days.\n"
     ]
    }
   ],
   "source": [
    "import datetime\n",
    "from glob import glob\n",
    "\n",
    "def get_last_n_days(lst, days=1):\n",
    "    \"\"\" Get the documents from the last n days \"\"\"\n",
    "    sorted_lst = sorted(lst, key=lambda x: x[1], reverse=True)\n",
    "    for fname, date in sorted_lst:\n",
    "        if date >= str(datetime.date.today() - datetime.timedelta(days=days)):\n",
    "            yield fname\n",
    "\n",
    "def extract_appearance_dates(lst_file):\n",
    "    dates = []\n",
    "\n",
    "    def get_date(line):\n",
    "        return line\\\n",
    "            .split('Appeared on:')[-1]\\\n",
    "            .split('</mark>')[0].strip()\n",
    "\n",
    "    for fname in lst:\n",
    "        with open(fname, 'r') as f:\n",
    "            found_date = False\n",
    "            for line in f:\n",
    "                if not found_date:\n",
    "                    if \"Appeared on\" in line:\n",
    "                        found_date = True\n",
    "                        dates.append((fname, get_date(line)))\n",
    "                else:\n",
    "                    break\n",
    "    return dates\n",
    "\n",
    "from glob import glob\n",
    "lst = glob('_build/html/*md')\n",
    "days = 7\n",
    "dates = extract_appearance_dates(lst)\n",
    "res = list(get_last_n_days(dates, days))\n",
    "npub = len(res)\n",
    "print(len(res), f\" publications in the last {days:d} days.\")"
   ]
  },
  {
   "cell_type": "code",
   "execution_count": 12,
   "id": "52ca0208",
   "metadata": {
    "execution": {
     "iopub.execute_input": "2023-03-02T04:10:49.106829Z",
     "iopub.status.busy": "2023-03-02T04:10:49.106193Z",
     "iopub.status.idle": "2023-03-02T04:10:49.114378Z",
     "shell.execute_reply": "2023-03-02T04:10:49.113533Z"
    },
    "papermill": {
     "duration": 0.02468,
     "end_time": "2023-03-02T04:10:49.116308",
     "exception": false,
     "start_time": "2023-03-02T04:10:49.091628",
     "status": "completed"
    },
    "scrolled": false,
    "tags": []
   },
   "outputs": [],
   "source": [
    "def create_carousel(npub=4):\n",
    "    \"\"\" Generate the HTML code for a carousel with `npub` slides \"\"\"\n",
    "    carousel = [\"\"\"<section class=\"carousel\" aria-label=\"Gallery\">\"\"\",\n",
    "                \"\"\"  <ol class=\"carousel__viewport\">\"\"\",\n",
    "    ]\n",
    "    for k in range(1, npub + 1):\n",
    "        prev_ = k - 1\n",
    "        next_ = k + 1\n",
    "        if prev_ <= 0:\n",
    "            prev_ = npub\n",
    "        if next_ > npub:\n",
    "            next_ = 1\n",
    "        text  = f\"\"\"    <li id=\"carousel__slide{k}\" tabindex=\"0\" class=\"carousel__slide\">\\n\"\"\"\n",
    "        text += f\"\"\"       <div class=\"carousel__snapper\">\\n\"\"\"\n",
    "        text += f\"\"\"         <a href=\"#carousel__slide{prev_}\" class=\"carousel__prev\">Go to previous slide</a>\\n\"\"\"\n",
    "        text += f\"\"\"         <a href=\"#carousel__slide{next_}\" class=\"carousel__next\">Go to next slide</a>\\n\"\"\"\n",
    "        text += f\"\"\"         <div id=\"slide{k}_content\" class=\"md_view\" >Content {k}</div>\\n\"\"\"\n",
    "        text += f\"\"\"       </div>\\n\"\"\"\n",
    "        text += f\"\"\"    </li>\"\"\"\n",
    "        carousel.append(text)\n",
    "\n",
    "    carousel.extend([\n",
    "        \"\"\"  </ol>\"\"\",\n",
    "        \"\"\"  <aside class=\"carousel__navigation\">\"\"\",\n",
    "        \"\"\"    <ol class=\"carousel__navigation-list\">\"\"\"])\n",
    "\n",
    "    for k in range(1, npub + 1):\n",
    "        text  = f\"\"\"      <li class=\"carousel__navigation-item\">\\n\"\"\"\n",
    "        text += f\"\"\"        <a href=\"#carousel__slide{k}\" class=\"carousel__navigation-button\">Go to {k}</a>\\n\"\"\"\n",
    "        text += f\"\"\"      </li>\"\"\"\n",
    "        carousel.append(text)\n",
    "    carousel.extend([\"\"\"    </ol>\"\"\", \"\"\"  </aside>\"\"\", \"\"\"</section>\"\"\"])\n",
    "\n",
    "    return '\\n'.join(carousel)"
   ]
  },
  {
   "cell_type": "code",
   "execution_count": 13,
   "id": "a6eac5b6",
   "metadata": {
    "execution": {
     "iopub.execute_input": "2023-03-02T04:10:49.145458Z",
     "iopub.status.busy": "2023-03-02T04:10:49.144053Z",
     "iopub.status.idle": "2023-03-02T04:10:49.153730Z",
     "shell.execute_reply": "2023-03-02T04:10:49.152904Z"
    },
    "papermill": {
     "duration": 0.026828,
     "end_time": "2023-03-02T04:10:49.156031",
     "exception": false,
     "start_time": "2023-03-02T04:10:49.129203",
     "status": "completed"
    },
    "scrolled": false,
    "tags": []
   },
   "outputs": [],
   "source": [
    "carousel = create_carousel(npub)\n",
    "docs = ', '.join(['\"{0:s}\"'.format(k.split('/')[-1]) for k in res])\n",
    "slides = ', '.join([f'\"slide{k}_content\"' for k in range(1, npub + 1)])\n",
    "\n",
    "script = f\"\"\"\n",
    "const docs = [{docs}]\n",
    "\n",
    "const slides = [{slides}]\n",
    "\"\"\" + \"\"\"\n",
    "async function run() {\n",
    "    for (let i = 0; i < docs.length; i++) {\n",
    "        let file = await fetch(docs[i]);\n",
    "        let text = await file.text()\n",
    "        document.getElementById(slides[i]).innerHTML =\n",
    "            marked.parse(text);\n",
    "    }\n",
    "    hljs.highlightAll();\n",
    "}\n",
    "run()\n",
    "\"\"\"\n",
    "\n",
    "page = f\"\"\"<!doctype html>\n",
    "<html lang=\"en\">\n",
    "\n",
    "<head>\n",
    "  <meta charset=\"utf-8\">\n",
    "  <meta name=\"viewport\" content=\"width=device-width, initial-scale=1\">\n",
    "  <!-- Bootstrap CSS -->\n",
    "  <link href=\"https://cdn.jsdelivr.net/npm/bootstrap@5.0.2/dist/css/bootstrap.min.css\" rel=\"stylesheet\"\n",
    "   integrity=\"sha384-EVSTQN3/azprG1Anm3QDgpJLIm9Nao0Yz1ztcQTwFspd3yD65VohhpuuCOmLASjC\" crossorigin=\"anonymous\">\n",
    "  <!-- highlight.js CSS -->\n",
    "  <link rel=\"stylesheet\" href=\"https://cdnjs.cloudflare.com/ajax/libs/highlight.js/11.1.0/styles/default.min.css\">\n",
    "  <!-- Mathjax 3 -->\n",
    "  <script type=\"text/javascript\" id=\"MathJax-config\" src=\"mathjax_config.js\"> </script>\n",
    "  <script type=\"text/javascript\" id=\"MathJax-script\" async \n",
    "    src=\"https://cdn.jsdelivr.net/npm/mathjax@3/es5/tex-mml-chtml.js\">\n",
    "  </script>\n",
    "  <link rel=\"stylesheet\" href=\"index_carousel.css\">\n",
    "  <link rel=\"icon\" type=\"image/x-icon\" href=\"https://www.mpia.de/assets/touch-icon-32x32-a66937bcebc4e8894ebff1f41a366c7c7220fd97a38869ee0f2db65a9f59b6c1.png\">\n",
    "  <title>MPIA Arxiv on deck!</title>\n",
    "</head>\n",
    "\n",
    "<body>\n",
    "  <div id=\"header\"> <img src=\"header_banner.png\" width=\"100%\"></div>\n",
    "  <div id=\"suptitle\"> 7-day archives </div>\n",
    "  <div id=\"info\">\n",
    "    <img src=\"https://pngimg.com/uploads/github/github_PNG58.png\" height=30rem></img>\n",
    "    <a href=https://github.com/mpi-astronomy/arxiv_display style=\"color:black;\">github/mpi-astronomy/arxiv_display</a> \n",
    "  </div>\n",
    "  {carousel:s}\n",
    "</body>\n",
    "\n",
    "<!-- Render Markdown -->\n",
    "\n",
    "<body>\n",
    "  <!-- highlight.js: https://highlightjs.org/download/ -->\n",
    "  <script src=\"https://cdnjs.cloudflare.com/ajax/libs/highlight.js/11.5.0/highlight.min.js\"></script>\n",
    "  <!-- marked.js -->\n",
    "  <script src=\"https://cdn.jsdelivr.net/npm/marked/marked.min.js\"></script>\n",
    "  <script>{script:s}</script>\n",
    "</body>\n",
    "</html>\n",
    "\"\"\"\n",
    "with open(\"_build/html/index_7days.html\", 'w') as fout:\n",
    "    fout.write(page)"
   ]
  },
  {
   "cell_type": "code",
   "execution_count": 14,
   "id": "adc1a1ec",
   "metadata": {
    "execution": {
     "iopub.execute_input": "2023-03-02T04:10:49.185797Z",
     "iopub.status.busy": "2023-03-02T04:10:49.185161Z",
     "iopub.status.idle": "2023-03-02T04:10:49.195213Z",
     "shell.execute_reply": "2023-03-02T04:10:49.194240Z"
    },
    "papermill": {
     "duration": 0.027381,
     "end_time": "2023-03-02T04:10:49.197786",
     "exception": false,
     "start_time": "2023-03-02T04:10:49.170405",
     "status": "completed"
    },
    "tags": []
   },
   "outputs": [
    {
     "name": "stdout",
     "output_type": "stream",
     "text": [
      "3  publications in the last day.\n"
     ]
    }
   ],
   "source": [
    "# redo for today\n",
    "days = 1\n",
    "res = list(get_last_n_days(dates, days))\n",
    "npub = len(res)\n",
    "print(len(res), f\" publications in the last day.\")\n",
    "\n",
    "carousel = create_carousel(npub)\n",
    "docs = ', '.join(['\"{0:s}\"'.format(k.split('/')[-1]) for k in res])\n",
    "slides = ', '.join([f'\"slide{k}_content\"' for k in range(1, npub + 1)])\n",
    "\n",
    "script = f\"\"\"\n",
    "const docs = [{docs}]\n",
    "\n",
    "const slides = [{slides}]\n",
    "\"\"\" + \"\"\"\n",
    "async function run() {\n",
    "    for (let i = 0; i < docs.length; i++) {\n",
    "        let file = await fetch(docs[i]);\n",
    "        let text = await file.text()\n",
    "        document.getElementById(slides[i]).innerHTML =\n",
    "            marked.parse(text);\n",
    "    }\n",
    "    hljs.highlightAll();\n",
    "}\n",
    "run()\n",
    "\"\"\"\n",
    "\n",
    "page = f\"\"\"<!doctype html>\n",
    "<html lang=\"en\">\n",
    "\n",
    "<head>\n",
    "  <meta charset=\"utf-8\">\n",
    "  <meta name=\"viewport\" content=\"width=device-width, initial-scale=1\">\n",
    "  <!-- Bootstrap CSS -->\n",
    "  <link href=\"https://cdn.jsdelivr.net/npm/bootstrap@5.0.2/dist/css/bootstrap.min.css\" rel=\"stylesheet\"\n",
    "   integrity=\"sha384-EVSTQN3/azprG1Anm3QDgpJLIm9Nao0Yz1ztcQTwFspd3yD65VohhpuuCOmLASjC\" crossorigin=\"anonymous\">\n",
    "  <!-- highlight.js CSS -->\n",
    "  <link rel=\"stylesheet\" href=\"https://cdnjs.cloudflare.com/ajax/libs/highlight.js/11.1.0/styles/default.min.css\">\n",
    "  <!-- Mathjax 3 -->\n",
    "  <script type=\"text/javascript\" id=\"MathJax-config\" src=\"mathjax_config.js\"> </script>\n",
    "  <script type=\"text/javascript\" id=\"MathJax-script\" async \n",
    "    src=\"https://cdn.jsdelivr.net/npm/mathjax@3/es5/tex-mml-chtml.js\">\n",
    "  </script>\n",
    "  <link rel=\"stylesheet\" href=\"index_carousel.css\">\n",
    "  <link rel=\"icon\" type=\"image/x-icon\" href=\"https://www.mpia.de/assets/touch-icon-32x32-a66937bcebc4e8894ebff1f41a366c7c7220fd97a38869ee0f2db65a9f59b6c1.png\">\n",
    "  <title>MPIA Arxiv on deck!</title>\n",
    "</head>\n",
    "\n",
    "<body>\n",
    "  <div id=\"header\"> <img src=\"header_banner.png\" width=\"100%\"></div>\n",
    "  <div id=\"suptitle\"> daily </div>\n",
    "  <div id=\"info\">\n",
    "    <img src=\"https://pngimg.com/uploads/github/github_PNG58.png\" height=30rem></img>\n",
    "    <a href=https://github.com/mpi-astronomy/arxiv_display style=\"color:black;\">github/mpi-astronomy/arxiv_display</a> \n",
    "  </div>\n",
    "  {carousel:s}\n",
    "</body>\n",
    "\n",
    "<!-- Render Markdown -->\n",
    "\n",
    "<body>\n",
    "  <!-- highlight.js: https://highlightjs.org/download/ -->\n",
    "  <script src=\"https://cdnjs.cloudflare.com/ajax/libs/highlight.js/11.5.0/highlight.min.js\"></script>\n",
    "  <!-- marked.js -->\n",
    "  <script src=\"https://cdn.jsdelivr.net/npm/marked/marked.min.js\"></script>\n",
    "  <script>{script:s}</script>\n",
    "</body>\n",
    "</html>\n",
    "\"\"\"\n",
    "with open(\"_build/html/index_daily.html\", 'w') as fout:\n",
    "    fout.write(page)"
   ]
  }
 ],
 "metadata": {
  "kernelspec": {
   "display_name": "Python 3 (ipykernel)",
   "language": "python",
   "name": "python3"
  },
  "language_info": {
   "codemirror_mode": {
    "name": "ipython",
    "version": 3
   },
   "file_extension": ".py",
   "mimetype": "text/x-python",
   "name": "python",
   "nbconvert_exporter": "python",
   "pygments_lexer": "ipython3",
   "version": "3.9.16"
  },
  "papermill": {
   "default_parameters": {},
   "duration": 154.023116,
   "end_time": "2023-03-02T04:10:49.432110",
   "environment_variables": {},
   "exception": null,
   "input_path": "MPIA daily digest.ipynb",
   "output_path": "log.ipynb",
   "parameters": {},
   "start_time": "2023-03-02T04:08:15.408994",
   "version": "2.4.0"
  },
  "vscode": {
   "interpreter": {
    "hash": "aee8b7b246df8f9039afb4144a1f6fd8d2ca17a180786b69acc140d282b71a49"
   }
  },
  "widgets": {
   "application/vnd.jupyter.widget-state+json": {
    "state": {
     "08f84e2dc65a47a0a4a47d22d8ab405b": {
      "model_module": "@jupyter-widgets/base",
      "model_module_version": "2.0.0",
      "model_name": "LayoutModel",
      "state": {
       "_model_module": "@jupyter-widgets/base",
       "_model_module_version": "2.0.0",
       "_model_name": "LayoutModel",
       "_view_count": null,
       "_view_module": "@jupyter-widgets/base",
       "_view_module_version": "2.0.0",
       "_view_name": "LayoutView",
       "align_content": null,
       "align_items": null,
       "align_self": null,
       "border_bottom": null,
       "border_left": null,
       "border_right": null,
       "border_top": null,
       "bottom": null,
       "display": null,
       "flex": null,
       "flex_flow": null,
       "grid_area": null,
       "grid_auto_columns": null,
       "grid_auto_flow": null,
       "grid_auto_rows": null,
       "grid_column": null,
       "grid_gap": null,
       "grid_row": null,
       "grid_template_areas": null,
       "grid_template_columns": null,
       "grid_template_rows": null,
       "height": null,
       "justify_content": null,
       "justify_items": null,
       "left": null,
       "margin": null,
       "max_height": null,
       "max_width": null,
       "min_height": null,
       "min_width": null,
       "object_fit": null,
       "object_position": null,
       "order": null,
       "overflow": null,
       "padding": null,
       "right": null,
       "top": null,
       "visibility": null,
       "width": null
      }
     },
     "2ce5af07806d405a8a866663e0895eeb": {
      "model_module": "@jupyter-widgets/controls",
      "model_module_version": "2.0.0",
      "model_name": "HTMLModel",
      "state": {
       "_dom_classes": [],
       "_model_module": "@jupyter-widgets/controls",
       "_model_module_version": "2.0.0",
       "_model_name": "HTMLModel",
       "_view_count": null,
       "_view_module": "@jupyter-widgets/controls",
       "_view_module_version": "2.0.0",
       "_view_name": "HTMLView",
       "description": "",
       "description_allow_html": false,
       "layout": "IPY_MODEL_08f84e2dc65a47a0a4a47d22d8ab405b",
       "placeholder": "​",
       "style": "IPY_MODEL_6e8a3b74fc3f4ea4a2da330722311ed7",
       "tabbable": null,
       "tooltip": null,
       "value": " 21/21 [02:01&lt;00:00,  5.59s/it]"
      }
     },
     "500d9dea11ec46a0a51348a26e02caab": {
      "model_module": "@jupyter-widgets/base",
      "model_module_version": "2.0.0",
      "model_name": "LayoutModel",
      "state": {
       "_model_module": "@jupyter-widgets/base",
       "_model_module_version": "2.0.0",
       "_model_name": "LayoutModel",
       "_view_count": null,
       "_view_module": "@jupyter-widgets/base",
       "_view_module_version": "2.0.0",
       "_view_name": "LayoutView",
       "align_content": null,
       "align_items": null,
       "align_self": null,
       "border_bottom": null,
       "border_left": null,
       "border_right": null,
       "border_top": null,
       "bottom": null,
       "display": null,
       "flex": null,
       "flex_flow": null,
       "grid_area": null,
       "grid_auto_columns": null,
       "grid_auto_flow": null,
       "grid_auto_rows": null,
       "grid_column": null,
       "grid_gap": null,
       "grid_row": null,
       "grid_template_areas": null,
       "grid_template_columns": null,
       "grid_template_rows": null,
       "height": null,
       "justify_content": null,
       "justify_items": null,
       "left": null,
       "margin": null,
       "max_height": null,
       "max_width": null,
       "min_height": null,
       "min_width": null,
       "object_fit": null,
       "object_position": null,
       "order": null,
       "overflow": null,
       "padding": null,
       "right": null,
       "top": null,
       "visibility": null,
       "width": null
      }
     },
     "57b03b53b41c4bde83404705104e359a": {
      "model_module": "@jupyter-widgets/base",
      "model_module_version": "2.0.0",
      "model_name": "LayoutModel",
      "state": {
       "_model_module": "@jupyter-widgets/base",
       "_model_module_version": "2.0.0",
       "_model_name": "LayoutModel",
       "_view_count": null,
       "_view_module": "@jupyter-widgets/base",
       "_view_module_version": "2.0.0",
       "_view_name": "LayoutView",
       "align_content": null,
       "align_items": null,
       "align_self": null,
       "border_bottom": null,
       "border_left": null,
       "border_right": null,
       "border_top": null,
       "bottom": null,
       "display": null,
       "flex": null,
       "flex_flow": null,
       "grid_area": null,
       "grid_auto_columns": null,
       "grid_auto_flow": null,
       "grid_auto_rows": null,
       "grid_column": null,
       "grid_gap": null,
       "grid_row": null,
       "grid_template_areas": null,
       "grid_template_columns": null,
       "grid_template_rows": null,
       "height": null,
       "justify_content": null,
       "justify_items": null,
       "left": null,
       "margin": null,
       "max_height": null,
       "max_width": null,
       "min_height": null,
       "min_width": null,
       "object_fit": null,
       "object_position": null,
       "order": null,
       "overflow": null,
       "padding": null,
       "right": null,
       "top": null,
       "visibility": null,
       "width": null
      }
     },
     "647cdbd4ab574405b0fead0a5f2de998": {
      "model_module": "@jupyter-widgets/controls",
      "model_module_version": "2.0.0",
      "model_name": "HTMLModel",
      "state": {
       "_dom_classes": [],
       "_model_module": "@jupyter-widgets/controls",
       "_model_module_version": "2.0.0",
       "_model_name": "HTMLModel",
       "_view_count": null,
       "_view_module": "@jupyter-widgets/controls",
       "_view_module_version": "2.0.0",
       "_view_name": "HTMLView",
       "description": "",
       "description_allow_html": false,
       "layout": "IPY_MODEL_500d9dea11ec46a0a51348a26e02caab",
       "placeholder": "​",
       "style": "IPY_MODEL_7f5b900b3e28427b9905d2601896a7d3",
       "tabbable": null,
       "tooltip": null,
       "value": "100%"
      }
     },
     "6e8a3b74fc3f4ea4a2da330722311ed7": {
      "model_module": "@jupyter-widgets/controls",
      "model_module_version": "2.0.0",
      "model_name": "HTMLStyleModel",
      "state": {
       "_model_module": "@jupyter-widgets/controls",
       "_model_module_version": "2.0.0",
       "_model_name": "HTMLStyleModel",
       "_view_count": null,
       "_view_module": "@jupyter-widgets/base",
       "_view_module_version": "2.0.0",
       "_view_name": "StyleView",
       "background": null,
       "description_width": "",
       "font_size": null,
       "text_color": null
      }
     },
     "7f5b900b3e28427b9905d2601896a7d3": {
      "model_module": "@jupyter-widgets/controls",
      "model_module_version": "2.0.0",
      "model_name": "HTMLStyleModel",
      "state": {
       "_model_module": "@jupyter-widgets/controls",
       "_model_module_version": "2.0.0",
       "_model_name": "HTMLStyleModel",
       "_view_count": null,
       "_view_module": "@jupyter-widgets/base",
       "_view_module_version": "2.0.0",
       "_view_name": "StyleView",
       "background": null,
       "description_width": "",
       "font_size": null,
       "text_color": null
      }
     },
     "8a00e5c0ba844cad8da44c6f0323bb16": {
      "model_module": "@jupyter-widgets/controls",
      "model_module_version": "2.0.0",
      "model_name": "FloatProgressModel",
      "state": {
       "_dom_classes": [],
       "_model_module": "@jupyter-widgets/controls",
       "_model_module_version": "2.0.0",
       "_model_name": "FloatProgressModel",
       "_view_count": null,
       "_view_module": "@jupyter-widgets/controls",
       "_view_module_version": "2.0.0",
       "_view_name": "ProgressView",
       "bar_style": "success",
       "description": "",
       "description_allow_html": false,
       "layout": "IPY_MODEL_e475fa3cd94441d3b1f9a83f9b08f0b8",
       "max": 21.0,
       "min": 0.0,
       "orientation": "horizontal",
       "style": "IPY_MODEL_e3b45890585f45d297852f4a50dcf5b7",
       "tabbable": null,
       "tooltip": null,
       "value": 21.0
      }
     },
     "e3b45890585f45d297852f4a50dcf5b7": {
      "model_module": "@jupyter-widgets/controls",
      "model_module_version": "2.0.0",
      "model_name": "ProgressStyleModel",
      "state": {
       "_model_module": "@jupyter-widgets/controls",
       "_model_module_version": "2.0.0",
       "_model_name": "ProgressStyleModel",
       "_view_count": null,
       "_view_module": "@jupyter-widgets/base",
       "_view_module_version": "2.0.0",
       "_view_name": "StyleView",
       "bar_color": null,
       "description_width": ""
      }
     },
     "e475fa3cd94441d3b1f9a83f9b08f0b8": {
      "model_module": "@jupyter-widgets/base",
      "model_module_version": "2.0.0",
      "model_name": "LayoutModel",
      "state": {
       "_model_module": "@jupyter-widgets/base",
       "_model_module_version": "2.0.0",
       "_model_name": "LayoutModel",
       "_view_count": null,
       "_view_module": "@jupyter-widgets/base",
       "_view_module_version": "2.0.0",
       "_view_name": "LayoutView",
       "align_content": null,
       "align_items": null,
       "align_self": null,
       "border_bottom": null,
       "border_left": null,
       "border_right": null,
       "border_top": null,
       "bottom": null,
       "display": null,
       "flex": null,
       "flex_flow": null,
       "grid_area": null,
       "grid_auto_columns": null,
       "grid_auto_flow": null,
       "grid_auto_rows": null,
       "grid_column": null,
       "grid_gap": null,
       "grid_row": null,
       "grid_template_areas": null,
       "grid_template_columns": null,
       "grid_template_rows": null,
       "height": null,
       "justify_content": null,
       "justify_items": null,
       "left": null,
       "margin": null,
       "max_height": null,
       "max_width": null,
       "min_height": null,
       "min_width": null,
       "object_fit": null,
       "object_position": null,
       "order": null,
       "overflow": null,
       "padding": null,
       "right": null,
       "top": null,
       "visibility": null,
       "width": null
      }
     },
     "ef832540de3445ce933ddb2e65380c58": {
      "model_module": "@jupyter-widgets/controls",
      "model_module_version": "2.0.0",
      "model_name": "HBoxModel",
      "state": {
       "_dom_classes": [],
       "_model_module": "@jupyter-widgets/controls",
       "_model_module_version": "2.0.0",
       "_model_name": "HBoxModel",
       "_view_count": null,
       "_view_module": "@jupyter-widgets/controls",
       "_view_module_version": "2.0.0",
       "_view_name": "HBoxView",
       "box_style": "",
       "children": [
        "IPY_MODEL_647cdbd4ab574405b0fead0a5f2de998",
        "IPY_MODEL_8a00e5c0ba844cad8da44c6f0323bb16",
        "IPY_MODEL_2ce5af07806d405a8a866663e0895eeb"
       ],
       "layout": "IPY_MODEL_57b03b53b41c4bde83404705104e359a",
       "tabbable": null,
       "tooltip": null
      }
     }
    },
    "version_major": 2,
    "version_minor": 0
   }
  }
 },
 "nbformat": 4,
 "nbformat_minor": 5
}