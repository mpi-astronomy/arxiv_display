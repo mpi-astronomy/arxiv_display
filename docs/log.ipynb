{
 "cells": [
  {
   "cell_type": "markdown",
   "id": "92bcb855",
   "metadata": {
    "papermill": {
     "duration": 0.003631,
     "end_time": "2025-03-10T04:09:47.178078",
     "exception": false,
     "start_time": "2025-03-10T04:09:47.174447",
     "status": "completed"
    },
    "tags": []
   },
   "source": [
    "# MPIA Arxiv on Deck 2\n",
    "\n",
    "Contains the steps to produce the paper extractions."
   ]
  },
  {
   "cell_type": "code",
   "execution_count": 1,
   "id": "3a0d6e11",
   "metadata": {
    "execution": {
     "iopub.execute_input": "2025-03-10T04:09:47.185272Z",
     "iopub.status.busy": "2025-03-10T04:09:47.184892Z",
     "iopub.status.idle": "2025-03-10T04:09:47.525270Z",
     "shell.execute_reply": "2025-03-10T04:09:47.524526Z"
    },
    "papermill": {
     "duration": 0.345355,
     "end_time": "2025-03-10T04:09:47.526710",
     "exception": false,
     "start_time": "2025-03-10T04:09:47.181355",
     "status": "completed"
    },
    "tags": []
   },
   "outputs": [],
   "source": [
    "# Imports\n",
    "import os\n",
    "from IPython.display import Markdown, display\n",
    "from tqdm.notebook import tqdm\n",
    "import warnings\n",
    "from PIL import Image \n",
    "import re\n",
    "\n",
    "# requires arxiv_on_deck_2\n",
    "\n",
    "from arxiv_on_deck_2.arxiv2 import (get_new_papers, \n",
    "                                    get_paper_from_identifier,\n",
    "                                    retrieve_document_source, \n",
    "                                    get_markdown_badge)\n",
    "from arxiv_on_deck_2 import (latex,\n",
    "                             latex_bib,\n",
    "                             mpia,\n",
    "                             highlight_authors_in_list)\n",
    "\n",
    "# Sometimes images are really big\n",
    "Image.MAX_IMAGE_PIXELS = 1000000000 "
   ]
  },
  {
   "cell_type": "code",
   "execution_count": 2,
   "id": "22aa9d44",
   "metadata": {
    "execution": {
     "iopub.execute_input": "2025-03-10T04:09:47.534288Z",
     "iopub.status.busy": "2025-03-10T04:09:47.534031Z",
     "iopub.status.idle": "2025-03-10T04:09:47.541993Z",
     "shell.execute_reply": "2025-03-10T04:09:47.541445Z"
    },
    "papermill": {
     "duration": 0.012965,
     "end_time": "2025-03-10T04:09:47.542957",
     "exception": false,
     "start_time": "2025-03-10T04:09:47.529992",
     "status": "completed"
    },
    "tags": []
   },
   "outputs": [],
   "source": [
    "# Some useful definitions.\n",
    "\n",
    "class AffiliationWarning(UserWarning):\n",
    "    pass\n",
    "\n",
    "class AffiliationError(RuntimeError):\n",
    "    pass\n",
    "\n",
    "def validation(source: str):\n",
    "    \"\"\"Raises error paper during parsing of source file\n",
    "    \n",
    "    Allows checks before parsing TeX code.\n",
    "    \n",
    "    Raises AffiliationWarning\n",
    "    \"\"\"\n",
    "    check = mpia.affiliation_verifications(source, verbose=True)\n",
    "    if check is not True:\n",
    "        raise AffiliationError(\"mpia.affiliation_verifications: \" + check)\n",
    "\n",
    "        \n",
    "warnings.simplefilter('always', AffiliationWarning)\n",
    "\n",
    "\n",
    "def get_markdown_qrcode(paper_id: str):\n",
    "    \"\"\" Generate a qrcode to the arxiv page using qrserver.com\n",
    "    \n",
    "    :param paper: Arxiv paper\n",
    "    :returns: markdown text\n",
    "    \"\"\"\n",
    "    url = r\"https://api.qrserver.com/v1/create-qr-code/?size=100x100&data=\"\n",
    "    txt = f\"\"\"<img src={url}\"https://arxiv.org/abs/{paper_id}\">\"\"\"\n",
    "    txt = '<div id=\"qrcode\">' + txt + '</div>'\n",
    "    return txt\n",
    "\n",
    "\n",
    "def clean_non_western_encoded_characters_commands(text: str) -> str:\n",
    "    \"\"\" Remove non-western encoded characters from a string\n",
    "    List may need to grow.\n",
    "    \n",
    "    :param text: the text to clean\n",
    "    :return: the cleaned text\n",
    "    \"\"\"\n",
    "    text = re.sub(r\"(\\\\begin{CJK}{UTF8}{gbsn})(.*?)(\\\\end{CJK})\", r\"\\2\", text)\n",
    "    return text\n",
    "\n",
    "\n",
    "def get_initials(name: str) -> str:\n",
    "    \"\"\" Get the short name, e.g., A.-B. FamName\n",
    "    :param name: full name\n",
    "    :returns: initials\n",
    "    \"\"\"\n",
    "    initials = []\n",
    "    # account for non western names often in ()\n",
    "    if '(' in name:\n",
    "        name = clean_non_western_encoded_characters_commands(name)\n",
    "        suffix = re.findall(r\"\\((.*?)\\)\", name)[0]\n",
    "        name = name.replace(f\"({suffix})\", '')\n",
    "    else:\n",
    "        suffix = ''\n",
    "    split = name.split()\n",
    "    for token in split[:-1]:\n",
    "        if '-' in token:\n",
    "            current = '-'.join([k[0] + '.' for k in token.split('-')])\n",
    "        else:\n",
    "            current = token[0] + '.'\n",
    "        initials.append(current)\n",
    "    initials.append(split[-1].strip())\n",
    "    if suffix:\n",
    "        initials.append(f\"({suffix})\")\n",
    "    return ' '.join(initials)"
   ]
  },
  {
   "cell_type": "markdown",
   "id": "14bd6310",
   "metadata": {
    "papermill": {
     "duration": 0.002835,
     "end_time": "2025-03-10T04:09:47.548743",
     "exception": false,
     "start_time": "2025-03-10T04:09:47.545908",
     "status": "completed"
    },
    "tags": []
   },
   "source": [
    "## get list of arxiv paper candidates\n",
    "\n",
    "We use the MPIA mitarbeiter list webpage from mpia.de to get author names\n",
    "We then get all new papers from Arxiv and match authors"
   ]
  },
  {
   "cell_type": "code",
   "execution_count": 3,
   "id": "7ea813a8",
   "metadata": {
    "execution": {
     "iopub.execute_input": "2025-03-10T04:09:47.555488Z",
     "iopub.status.busy": "2025-03-10T04:09:47.555108Z",
     "iopub.status.idle": "2025-03-10T04:10:06.433070Z",
     "shell.execute_reply": "2025-03-10T04:10:06.432364Z"
    },
    "papermill": {
     "duration": 18.882674,
     "end_time": "2025-03-10T04:10:06.434285",
     "exception": false,
     "start_time": "2025-03-10T04:09:47.551611",
     "status": "completed"
    },
    "tags": []
   },
   "outputs": [],
   "source": [
    "# deal with the author list and edge cases of people that cannot be consistent on their name  \n",
    "\n",
    "def filter_non_scientists(name: str) -> bool:\n",
    "    \"\"\" Loose filter on expected authorships\n",
    "\n",
    "    removing IT, administration, technical staff\n",
    "    :param name: name\n",
    "    :returns: False if name is not a scientist\n",
    "    \"\"\"\n",
    "    remove_list = ['Licht', 'Binroth', 'Witzel', 'Jordan',\n",
    "                   'Zähringer', 'Scheerer', 'Hoffmann', 'Düe',\n",
    "                   'Hellmich', 'Enkler-Scharpegge', 'Witte-Nguy',\n",
    "                   'Dehen', 'Beckmann', 'Jager', 'Jäger'\n",
    "                  ]\n",
    "\n",
    "    for k in remove_list:\n",
    "        if k in name:\n",
    "            return False\n",
    "    return True\n",
    "\n",
    "def add_author_to_list(author_list: list) -> list:\n",
    "    \"\"\" Add author to list if not already in list\n",
    "    \n",
    "    :param author: author name\n",
    "    :param author_list: list of authors\n",
    "    :returns: updated list of authors\n",
    "    \"\"\"\n",
    "    add_list = ['T. Henning']\n",
    "\n",
    "    for author in add_list:\n",
    "        if author not in author_list:\n",
    "            author_list.append(author)\n",
    "    return author_list\n",
    "\n",
    "# get list from MPIA website\n",
    "# filter for non-scientists (mpia.get_mpia_mitarbeiter_list() does some filtering)\n",
    "mpia_authors = [k[1] for k in mpia.get_mpia_mitarbeiter_list() if filter_non_scientists(k[1])]\n",
    "# add some missing author because of inconsistencies in their MPIA name and author name on papers\n",
    "mpia_authors = add_author_to_list(mpia_authors)"
   ]
  },
  {
   "cell_type": "code",
   "execution_count": 4,
   "id": "2645e73a",
   "metadata": {
    "execution": {
     "iopub.execute_input": "2025-03-10T04:10:06.441540Z",
     "iopub.status.busy": "2025-03-10T04:10:06.441298Z",
     "iopub.status.idle": "2025-03-10T04:10:07.052838Z",
     "shell.execute_reply": "2025-03-10T04:10:07.052195Z"
    },
    "papermill": {
     "duration": 0.616299,
     "end_time": "2025-03-10T04:10:07.053918",
     "exception": false,
     "start_time": "2025-03-10T04:10:06.437619",
     "status": "completed"
    },
    "tags": []
   },
   "outputs": [
    {
     "name": "stdout",
     "output_type": "stream",
     "text": [
      "M. Häberle  ->  M. Häberle  |  ['M. Häberle']\n",
      "N. Neumayer  ->  N. Neumayer  |  ['N. Neumayer']\n",
      "C. Clontz  ->  C. Clontz  |  ['C. Clontz']\n",
      "P. Smith  ->  P. Smith  |  ['P. Smith']\n",
      "S. Souza  ->  S. Souza  |  ['S. Souza']\n",
      "L. Xie  ->  Z.-L. Xie  |  ['L. Xie']\n",
      "J. Liu  ->  J. Liu  |  ['J. Liu']\n",
      "M. Bergemann  ->  M. Bergemann  |  ['M. Bergemann']\n",
      "J. Li  ->  J. Li  |  ['J. Li']\n",
      "H. Beuther  ->  H. Beuther  |  ['H. Beuther']\n",
      "M. Wells  ->  M. Wells  |  ['M. Wells']\n",
      "T. Henning  ->  T. Henning  |  ['T. Henning']\n"
     ]
    },
    {
     "name": "stdout",
     "output_type": "stream",
     "text": [
      "H. Beuther  ->  H. Beuther  |  ['H. Beuther']\n",
      "M. Wells  ->  M. Wells  |  ['M. Wells']\n",
      "T. Henning  ->  T. Henning  |  ['T. Henning']\n",
      "H. Beuther  ->  H. Beuther  |  ['H. Beuther']\n",
      "M. Wells  ->  M. Wells  |  ['M. Wells']\n",
      "Arxiv has 72 new papers today\n",
      "          8 with possible author matches\n"
     ]
    }
   ],
   "source": [
    "new_papers = get_new_papers()\n",
    "# add manual references\n",
    "add_paper_refs = []\n",
    "new_papers.extend([get_paper_from_identifier(k) for k in add_paper_refs])\n",
    "\n",
    "def robust_call(fn, value, *args, **kwargs):\n",
    "    try:\n",
    "        return fn(value, *args, **kwargs)\n",
    "    except Exception:\n",
    "        return value\n",
    "\n",
    "candidates = []\n",
    "for paperk in new_papers:\n",
    "    # Check author list with their initials\n",
    "    normed_author_list = [robust_call(mpia.get_initials, k) for k in paperk['authors']]\n",
    "    hl_authors = highlight_authors_in_list(normed_author_list, mpia_authors, verbose=True)\n",
    "    matches = [(hl, orig) for hl, orig in zip(hl_authors, paperk['authors']) if 'mark' in hl]\n",
    "    paperk['authors'] = hl_authors\n",
    "    if matches:\n",
    "        # only select paper if an author matched our list\n",
    "        candidates.append(paperk)\n",
    "print(\"\"\"Arxiv has {0:,d} new papers today\"\"\".format(len(new_papers)))        \n",
    "print(\"\"\"          {0:,d} with possible author matches\"\"\".format(len(candidates)))"
   ]
  },
  {
   "cell_type": "markdown",
   "id": "3543b34a",
   "metadata": {
    "papermill": {
     "duration": 0.003118,
     "end_time": "2025-03-10T04:10:07.060480",
     "exception": false,
     "start_time": "2025-03-10T04:10:07.057362",
     "status": "completed"
    },
    "tags": []
   },
   "source": [
    "# Parse sources and generate relevant outputs\n",
    "\n",
    "From the candidates, we do the following steps:\n",
    "* get their tarball from ArXiv (and extract data)\n",
    "* find the main .tex file: find one with \\documentclass{...} (sometimes it's non trivial)\n",
    "* Check affiliations with :func:`validation`, which uses :func:`mpia.affiliation_verifications`\n",
    "* If passing the affiliations: we parse the .tex source\n",
    "   * inject sub-documents into the main (flatten the main document)\n",
    "   * parse structure, extract information (title, abstract, authors, figures...)\n",
    "   * handles `\\graphicspath` if provided\n",
    "* Generate the .md document."
   ]
  },
  {
   "cell_type": "code",
   "execution_count": 5,
   "id": "9576b79e",
   "metadata": {
    "execution": {
     "iopub.execute_input": "2025-03-10T04:10:07.067606Z",
     "iopub.status.busy": "2025-03-10T04:10:07.067359Z",
     "iopub.status.idle": "2025-03-10T04:14:21.231760Z",
     "shell.execute_reply": "2025-03-10T04:14:21.230962Z"
    },
    "papermill": {
     "duration": 254.16951,
     "end_time": "2025-03-10T04:14:21.233068",
     "exception": false,
     "start_time": "2025-03-10T04:10:07.063558",
     "status": "completed"
    },
    "scrolled": false,
    "tags": []
   },
   "outputs": [
    {
     "data": {
      "application/vnd.jupyter.widget-view+json": {
       "model_id": "6f55ea1d55a34a0f85e51ef9db12c844",
       "version_major": 2,
       "version_minor": 0
      },
      "text/plain": [
       "  0%|          | 0/8 [00:00<?, ?it/s]"
      ]
     },
     "metadata": {},
     "output_type": "display_data"
    },
    {
     "name": "stdout",
     "output_type": "stream",
     "text": [
      "Retrieving document from  https://arxiv.org/e-print/2503.04903\n"
     ]
    },
    {
     "name": "stdout",
     "output_type": "stream",
     "text": [
      "extracting tarball to tmp_2503.04903..."
     ]
    },
    {
     "name": "stdout",
     "output_type": "stream",
     "text": [
      " done.\n"
     ]
    },
    {
     "name": "stderr",
     "output_type": "stream",
     "text": [
      "/opt/hostedtoolcache/Python/3.9.21/x64/lib/python3.9/site-packages/IPython/core/interactiveshell.py:3550: LatexWarning: Multiple tex files.\n",
      "\n",
      "  exec(code_obj, self.user_global_ns, self.user_ns)\n",
      "/opt/hostedtoolcache/Python/3.9.21/x64/lib/python3.9/site-packages/IPython/core/interactiveshell.py:3550: LatexWarning: Found documentclass in tmp_2503.04903/maintext.tex\n",
      "\n",
      "  exec(code_obj, self.user_global_ns, self.user_ns)\n",
      "/opt/hostedtoolcache/Python/3.9.21/x64/lib/python3.9/site-packages/arxiv_on_deck_2/latex.py:414: LatexWarning: Latex injecting: 'dispersion_profile_table_los' from 'tmp_2503.04903/dispersion_profile_table_los.tex'\n",
      "  warnings.warn(LatexWarning(f\"Latex injecting: '{ext}' from '{subsource}'\"))\n",
      "/opt/hostedtoolcache/Python/3.9.21/x64/lib/python3.9/site-packages/arxiv_on_deck_2/latex.py:414: LatexWarning: Latex injecting: 'revision1_dispersion_profile_table_pm' from 'tmp_2503.04903/revision1_dispersion_profile_table_pm.tex'\n",
      "  warnings.warn(LatexWarning(f\"Latex injecting: '{ext}' from '{subsource}'\"))\n",
      "/opt/hostedtoolcache/Python/3.9.21/x64/lib/python3.9/site-packages/arxiv_on_deck_2/latex.py:414: LatexWarning: Latex injecting: 'table_catalog_content' from 'tmp_2503.04903/table_catalog_content.tex'\n",
      "  warnings.warn(LatexWarning(f\"Latex injecting: '{ext}' from '{subsource}'\"))\n"
     ]
    },
    {
     "name": "stdout",
     "output_type": "stream",
     "text": [
      "M. Häberle  ->  M. Häberle  |  ['M. Häberle']\n",
      "N. Neumayer  ->  N. Neumayer  |  ['N. Neumayer']\n",
      "C. Clontz  ->  C. Clontz  |  ['C. Clontz']\n"
     ]
    },
    {
     "name": "stdout",
     "output_type": "stream",
     "text": [
      "Found 95 bibliographic references in tmp_2503.04903/maintext.bbl.\n",
      "Retrieving document from  https://arxiv.org/e-print/2503.04913\n"
     ]
    },
    {
     "name": "stdout",
     "output_type": "stream",
     "text": [
      "extracting tarball to tmp_2503.04913..."
     ]
    },
    {
     "name": "stdout",
     "output_type": "stream",
     "text": [
      " done.\n",
      "Retrieving document from  https://arxiv.org/e-print/2503.05198\n"
     ]
    },
    {
     "name": "stdout",
     "output_type": "stream",
     "text": [
      "extracting tarball to tmp_2503.05198..."
     ]
    },
    {
     "name": "stdout",
     "output_type": "stream",
     "text": [
      " done.\n",
      "Retrieving document from  https://arxiv.org/e-print/2503.05402\n"
     ]
    },
    {
     "name": "stdout",
     "output_type": "stream",
     "text": [
      "extracting tarball to tmp_2503.05402..."
     ]
    },
    {
     "name": "stdout",
     "output_type": "stream",
     "text": [
      " done.\n"
     ]
    },
    {
     "name": "stderr",
     "output_type": "stream",
     "text": [
      "/opt/hostedtoolcache/Python/3.9.21/x64/lib/python3.9/site-packages/IPython/core/interactiveshell.py:3550: LatexWarning: Multiple tex files.\n",
      "\n",
      "  exec(code_obj, self.user_global_ns, self.user_ns)\n",
      "/opt/hostedtoolcache/Python/3.9.21/x64/lib/python3.9/site-packages/IPython/core/interactiveshell.py:3550: LatexWarning: Found documentclass in tmp_2503.05402/els-article.tex\n",
      "\n",
      "  exec(code_obj, self.user_global_ns, self.user_ns)\n",
      "/opt/hostedtoolcache/Python/3.9.21/x64/lib/python3.9/site-packages/arxiv_on_deck_2/latex.py:414: LatexWarning: Latex injecting: 'latex_table_5' from 'tmp_2503.05402/latex_table_5.tex'\n",
      "  warnings.warn(LatexWarning(f\"Latex injecting: '{ext}' from '{subsource}'\"))\n",
      "/opt/hostedtoolcache/Python/3.9.21/x64/lib/python3.9/site-packages/arxiv_on_deck_2/latex.py:414: LatexWarning: Latex injecting: 'latex_table_4' from 'tmp_2503.05402/latex_table_4.tex'\n",
      "  warnings.warn(LatexWarning(f\"Latex injecting: '{ext}' from '{subsource}'\"))\n",
      "/opt/hostedtoolcache/Python/3.9.21/x64/lib/python3.9/site-packages/arxiv_on_deck_2/latex.py:414: LatexWarning: Latex injecting: 'latex_table_3' from 'tmp_2503.05402/latex_table_3.tex'\n",
      "  warnings.warn(LatexWarning(f\"Latex injecting: '{ext}' from '{subsource}'\"))\n",
      "/opt/hostedtoolcache/Python/3.9.21/x64/lib/python3.9/site-packages/arxiv_on_deck_2/latex.py:414: LatexWarning: Latex injecting: 'latex_table_2' from 'tmp_2503.05402/latex_table_2.tex'\n",
      "  warnings.warn(LatexWarning(f\"Latex injecting: '{ext}' from '{subsource}'\"))\n",
      "/opt/hostedtoolcache/Python/3.9.21/x64/lib/python3.9/site-packages/arxiv_on_deck_2/latex.py:414: LatexWarning: Latex injecting: 'latex_table_1' from 'tmp_2503.05402/latex_table_1.tex'\n",
      "  warnings.warn(LatexWarning(f\"Latex injecting: '{ext}' from '{subsource}'\"))\n"
     ]
    },
    {
     "name": "stdout",
     "output_type": "stream",
     "text": [
      "M. Bergemann  ->  M. Bergemann  |  ['M. Bergemann']\n",
      "Retrieving document from  https://arxiv.org/e-print/2503.05461\n",
      "extracting tarball to tmp_2503.05461..."
     ]
    },
    {
     "name": "stderr",
     "output_type": "stream",
     "text": [
      "/tmp/ipykernel_3196/2822249172.py:52: LatexWarning: 2503.05402 did not run properly\n",
      "list index out of range\n",
      "  warnings.warn(latex.LatexWarning(f\"{paper_id:s} did not run properly\\n\" +\n"
     ]
    },
    {
     "name": "stdout",
     "output_type": "stream",
     "text": [
      " done.\n",
      "  0: tmp_2503.05461/aanda_review2_clean.tex, 1,400 lines\n",
      "  1: tmp_2503.05461/models.tex, 82 lines\n",
      "Retrieving document from  https://arxiv.org/e-print/2503.05555\n"
     ]
    },
    {
     "name": "stderr",
     "output_type": "stream",
     "text": [
      "/opt/hostedtoolcache/Python/3.9.21/x64/lib/python3.9/site-packages/IPython/core/interactiveshell.py:3550: LatexWarning: Multiple tex files.\n",
      "\n",
      "  exec(code_obj, self.user_global_ns, self.user_ns)\n",
      "/opt/hostedtoolcache/Python/3.9.21/x64/lib/python3.9/site-packages/IPython/core/interactiveshell.py:3550: LatexWarning: Found 2 candidates with documentclass definition.\n",
      "  exec(code_obj, self.user_global_ns, self.user_ns)\n",
      "/opt/hostedtoolcache/Python/3.9.21/x64/lib/python3.9/site-packages/IPython/core/interactiveshell.py:3550: LatexWarning: Assuming tmp_2503.05461/aanda_review2_clean.tex as main document.\n",
      "  exec(code_obj, self.user_global_ns, self.user_ns)\n"
     ]
    },
    {
     "name": "stdout",
     "output_type": "stream",
     "text": [
      "extracting tarball to tmp_2503.05555..."
     ]
    },
    {
     "name": "stdout",
     "output_type": "stream",
     "text": [
      " done.\n"
     ]
    },
    {
     "name": "stdout",
     "output_type": "stream",
     "text": [
      "H. Beuther  ->  H. Beuther  |  ['H. Beuther']\n",
      "M. Wells  ->  M. Wells  |  ['M. Wells']\n",
      "T. Henning  ->  T. Henning  |  ['T. Henning']\n"
     ]
    },
    {
     "name": "stdout",
     "output_type": "stream",
     "text": [
      "Found 87 bibliographic references in tmp_2503.05555/aa52702-24_final_afterLangEdit.bbl.\n",
      "Retrieving document from  https://arxiv.org/e-print/2503.05559\n"
     ]
    },
    {
     "name": "stdout",
     "output_type": "stream",
     "text": [
      "extracting tarball to tmp_2503.05559..."
     ]
    },
    {
     "name": "stdout",
     "output_type": "stream",
     "text": [
      " done.\n"
     ]
    },
    {
     "name": "stdout",
     "output_type": "stream",
     "text": [
      "H. Beuther  ->  H. Beuther  |  ['H. Beuther']\n",
      "T. Henning  ->  T. Henning  |  ['T. Henning']\n"
     ]
    },
    {
     "name": "stdout",
     "output_type": "stream",
     "text": [
      "Issues with the citations\n",
      "list index out of range\n",
      "Retrieving document from  https://arxiv.org/e-print/2503.05663\n"
     ]
    },
    {
     "name": "stdout",
     "output_type": "stream",
     "text": [
      "extracting tarball to tmp_2503.05663..."
     ]
    },
    {
     "name": "stdout",
     "output_type": "stream",
     "text": [
      " done.\n"
     ]
    },
    {
     "name": "stdout",
     "output_type": "stream",
     "text": [
      "H. Beuther  ->  H. Beuther  |  ['H. Beuther']\n"
     ]
    },
    {
     "name": "stderr",
     "output_type": "stream",
     "text": [
      "/opt/hostedtoolcache/Python/3.9.21/x64/lib/python3.9/site-packages/arxiv_on_deck_2/latex.py:132: LatexWarning: attempting recovering figure beam_lin_size-DIST_no_dist_outl_nf_flag\n",
      "  warnings.warn(LatexWarning(f'attempting recovering figure {image}'))\n",
      "/opt/hostedtoolcache/Python/3.9.21/x64/lib/python3.9/site-packages/arxiv_on_deck_2/latex.py:137: LatexWarning: Recovered figure beam_lin_size-DIST_no_dist_outl_nf_flag as tmp_2503.05663/./Plots/beam_lin_size-DIST_no_dist_outl_nf_flag.png\n",
      "  warnings.warn(LatexWarning(f'Recovered figure {image} as {fname}'))\n",
      "/opt/hostedtoolcache/Python/3.9.21/x64/lib/python3.9/site-packages/arxiv_on_deck_2/latex.py:132: LatexWarning: attempting recovering figure map_RMS_whole_sample_Jybm_hist_v2\n",
      "  warnings.warn(LatexWarning(f'attempting recovering figure {image}'))\n",
      "/opt/hostedtoolcache/Python/3.9.21/x64/lib/python3.9/site-packages/arxiv_on_deck_2/latex.py:137: LatexWarning: Recovered figure map_RMS_whole_sample_Jybm_hist_v2 as tmp_2503.05663/./Plots/map_RMS_whole_sample_Jybm_hist_v2.png\n",
      "  warnings.warn(LatexWarning(f'Recovered figure {image} as {fname}'))\n",
      "/opt/hostedtoolcache/Python/3.9.21/x64/lib/python3.9/site-packages/arxiv_on_deck_2/latex.py:132: LatexWarning: attempting recovering figure SE_pipeline\n",
      "  warnings.warn(LatexWarning(f'attempting recovering figure {image}'))\n",
      "/opt/hostedtoolcache/Python/3.9.21/x64/lib/python3.9/site-packages/arxiv_on_deck_2/latex.py:137: LatexWarning: Recovered figure SE_pipeline as tmp_2503.05663/./Plots/SE_pipeline.png\n",
      "  warnings.warn(LatexWarning(f'Recovered figure {image} as {fname}'))\n",
      "/opt/hostedtoolcache/Python/3.9.21/x64/lib/python3.9/site-packages/arxiv_on_deck_2/latex.py:132: LatexWarning: attempting recovering figure source_ell_hist\n",
      "  warnings.warn(LatexWarning(f'attempting recovering figure {image}'))\n",
      "/opt/hostedtoolcache/Python/3.9.21/x64/lib/python3.9/site-packages/arxiv_on_deck_2/latex.py:137: LatexWarning: Recovered figure source_ell_hist as tmp_2503.05663/./Plots/source_ell_hist.png\n",
      "  warnings.warn(LatexWarning(f'Recovered figure {image} as {fname}'))\n",
      "/opt/hostedtoolcache/Python/3.9.21/x64/lib/python3.9/site-packages/arxiv_on_deck_2/latex.py:132: LatexWarning: attempting recovering figure Mcore_hist_v2\n",
      "  warnings.warn(LatexWarning(f'attempting recovering figure {image}'))\n",
      "/opt/hostedtoolcache/Python/3.9.21/x64/lib/python3.9/site-packages/arxiv_on_deck_2/latex.py:137: LatexWarning: Recovered figure Mcore_hist_v2 as tmp_2503.05663/./Plots/Mcore_hist_v2.png\n",
      "  warnings.warn(LatexWarning(f'Recovered figure {image} as {fname}'))\n",
      "/opt/hostedtoolcache/Python/3.9.21/x64/lib/python3.9/site-packages/arxiv_on_deck_2/latex.py:132: LatexWarning: attempting recovering figure Mcore-DIST_bin_median_w_rel_compl_perc_v4\n",
      "  warnings.warn(LatexWarning(f'attempting recovering figure {image}'))\n",
      "/opt/hostedtoolcache/Python/3.9.21/x64/lib/python3.9/site-packages/arxiv_on_deck_2/latex.py:137: LatexWarning: Recovered figure Mcore-DIST_bin_median_w_rel_compl_perc_v4 as tmp_2503.05663/./Plots/Mcore-DIST_bin_median_w_rel_compl_perc_v4.png\n",
      "  warnings.warn(LatexWarning(f'Recovered figure {image} as {fname}'))\n",
      "/opt/hostedtoolcache/Python/3.9.21/x64/lib/python3.9/site-packages/arxiv_on_deck_2/latex.py:132: LatexWarning: attempting recovering figure CMF_sim_overplot_cumulative_test_new_LM_comp_excl_ff_compl_v2\n",
      "  warnings.warn(LatexWarning(f'attempting recovering figure {image}'))\n",
      "/opt/hostedtoolcache/Python/3.9.21/x64/lib/python3.9/site-packages/arxiv_on_deck_2/latex.py:137: LatexWarning: Recovered figure CMF_sim_overplot_cumulative_test_new_LM_comp_excl_ff_compl_v2 as tmp_2503.05663/./Plots/CMF_sim_overplot_cumulative_test_new_LM_comp_excl_ff_compl_v2.png\n",
      "  warnings.warn(LatexWarning(f'Recovered figure {image} as {fname}'))\n",
      "/opt/hostedtoolcache/Python/3.9.21/x64/lib/python3.9/site-packages/arxiv_on_deck_2/latex.py:132: LatexWarning: attempting recovering figure NFRAG-Mcore_max_v5\n",
      "  warnings.warn(LatexWarning(f'attempting recovering figure {image}'))\n",
      "/opt/hostedtoolcache/Python/3.9.21/x64/lib/python3.9/site-packages/arxiv_on_deck_2/latex.py:137: LatexWarning: Recovered figure NFRAG-Mcore_max_v5 as tmp_2503.05663/./Plots/NFRAG-Mcore_max_v5.png\n",
      "  warnings.warn(LatexWarning(f'Recovered figure {image} as {fname}'))\n",
      "/opt/hostedtoolcache/Python/3.9.21/x64/lib/python3.9/site-packages/arxiv_on_deck_2/latex.py:132: LatexWarning: attempting recovering figure hyper-sim_comp\n",
      "  warnings.warn(LatexWarning(f'attempting recovering figure {image}'))\n",
      "/opt/hostedtoolcache/Python/3.9.21/x64/lib/python3.9/site-packages/arxiv_on_deck_2/latex.py:137: LatexWarning: Recovered figure hyper-sim_comp as tmp_2503.05663/./Plots/hyper-sim_comp.png\n",
      "  warnings.warn(LatexWarning(f'Recovered figure {image} as {fname}'))\n",
      "/opt/hostedtoolcache/Python/3.9.21/x64/lib/python3.9/site-packages/arxiv_on_deck_2/latex.py:132: LatexWarning: attempting recovering figure hyper-cutex_delta_Fint_sims_total\n",
      "  warnings.warn(LatexWarning(f'attempting recovering figure {image}'))\n",
      "/opt/hostedtoolcache/Python/3.9.21/x64/lib/python3.9/site-packages/arxiv_on_deck_2/latex.py:137: LatexWarning: Recovered figure hyper-cutex_delta_Fint_sims_total as tmp_2503.05663/./Plots/hyper-cutex_delta_Fint_sims_total.png\n",
      "  warnings.warn(LatexWarning(f'Recovered figure {image} as {fname}'))\n",
      "/opt/hostedtoolcache/Python/3.9.21/x64/lib/python3.9/site-packages/arxiv_on_deck_2/latex.py:132: LatexWarning: attempting recovering figure Tcore_model_mol16_v2\n",
      "  warnings.warn(LatexWarning(f'attempting recovering figure {image}'))\n",
      "/opt/hostedtoolcache/Python/3.9.21/x64/lib/python3.9/site-packages/arxiv_on_deck_2/latex.py:137: LatexWarning: Recovered figure Tcore_model_mol16_v2 as tmp_2503.05663/./Plots/Tcore_model_mol16_v2.png\n",
      "  warnings.warn(LatexWarning(f'Recovered figure {image} as {fname}'))\n",
      "/opt/hostedtoolcache/Python/3.9.21/x64/lib/python3.9/site-packages/arxiv_on_deck_2/latex.py:132: LatexWarning: attempting recovering figure Tcore_model_plot_v2\n",
      "  warnings.warn(LatexWarning(f'attempting recovering figure {image}'))\n",
      "/opt/hostedtoolcache/Python/3.9.21/x64/lib/python3.9/site-packages/arxiv_on_deck_2/latex.py:137: LatexWarning: Recovered figure Tcore_model_plot_v2 as tmp_2503.05663/./Plots/Tcore_model_plot_v2.png\n",
      "  warnings.warn(LatexWarning(f'Recovered figure {image} as {fname}'))\n",
      "/opt/hostedtoolcache/Python/3.9.21/x64/lib/python3.9/site-packages/arxiv_on_deck_2/latex.py:132: LatexWarning: attempting recovering figure 706733_out_ff_map_v2\n",
      "  warnings.warn(LatexWarning(f'attempting recovering figure {image}'))\n",
      "/opt/hostedtoolcache/Python/3.9.21/x64/lib/python3.9/site-packages/arxiv_on_deck_2/latex.py:137: LatexWarning: Recovered figure 706733_out_ff_map_v2 as tmp_2503.05663/./Plots/706733_out_ff_map_v2.png\n",
      "  warnings.warn(LatexWarning(f'Recovered figure {image} as {fname}'))\n",
      "/opt/hostedtoolcache/Python/3.9.21/x64/lib/python3.9/site-packages/arxiv_on_deck_2/latex.py:132: LatexWarning: attempting recovering figure 759150_out_ff_map_v2\n",
      "  warnings.warn(LatexWarning(f'attempting recovering figure {image}'))\n",
      "/opt/hostedtoolcache/Python/3.9.21/x64/lib/python3.9/site-packages/arxiv_on_deck_2/latex.py:137: LatexWarning: Recovered figure 759150_out_ff_map_v2 as tmp_2503.05663/./Plots/759150_out_ff_map_v2.png\n",
      "  warnings.warn(LatexWarning(f'Recovered figure {image} as {fname}'))\n",
      "/opt/hostedtoolcache/Python/3.9.21/x64/lib/python3.9/site-packages/arxiv_on_deck_2/latex.py:132: LatexWarning: attempting recovering figure 777573_out_ff_map_v2\n",
      "  warnings.warn(LatexWarning(f'attempting recovering figure {image}'))\n",
      "/opt/hostedtoolcache/Python/3.9.21/x64/lib/python3.9/site-packages/arxiv_on_deck_2/latex.py:137: LatexWarning: Recovered figure 777573_out_ff_map_v2 as tmp_2503.05663/./Plots/777573_out_ff_map_v2.png\n",
      "  warnings.warn(LatexWarning(f'Recovered figure {image} as {fname}'))\n",
      "/opt/hostedtoolcache/Python/3.9.21/x64/lib/python3.9/site-packages/arxiv_on_deck_2/latex.py:132: LatexWarning: attempting recovering figure 810788_out_ff_map_v2\n",
      "  warnings.warn(LatexWarning(f'attempting recovering figure {image}'))\n",
      "/opt/hostedtoolcache/Python/3.9.21/x64/lib/python3.9/site-packages/arxiv_on_deck_2/latex.py:137: LatexWarning: Recovered figure 810788_out_ff_map_v2 as tmp_2503.05663/./Plots/810788_out_ff_map_v2.png\n",
      "  warnings.warn(LatexWarning(f'Recovered figure {image} as {fname}'))\n",
      "/opt/hostedtoolcache/Python/3.9.21/x64/lib/python3.9/site-packages/arxiv_on_deck_2/latex.py:132: LatexWarning: attempting recovering figure CMF_sim_overplot_cumulative_test_new_LM_comp_excl_ff_compl_1000-2000au_v2\n",
      "  warnings.warn(LatexWarning(f'attempting recovering figure {image}'))\n",
      "/opt/hostedtoolcache/Python/3.9.21/x64/lib/python3.9/site-packages/arxiv_on_deck_2/latex.py:137: LatexWarning: Recovered figure CMF_sim_overplot_cumulative_test_new_LM_comp_excl_ff_compl_1000-2000au_v2 as tmp_2503.05663/./Plots/CMF_sim_overplot_cumulative_test_new_LM_comp_excl_ff_compl_1000-2000au_v2.png\n",
      "  warnings.warn(LatexWarning(f'Recovered figure {image} as {fname}'))\n",
      "/opt/hostedtoolcache/Python/3.9.21/x64/lib/python3.9/site-packages/arxiv_on_deck_2/latex.py:132: LatexWarning: attempting recovering figure CMF_sad_test_excl_ff_comp_v2\n",
      "  warnings.warn(LatexWarning(f'attempting recovering figure {image}'))\n",
      "/opt/hostedtoolcache/Python/3.9.21/x64/lib/python3.9/site-packages/arxiv_on_deck_2/latex.py:137: LatexWarning: Recovered figure CMF_sad_test_excl_ff_comp_v2 as tmp_2503.05663/./Plots/CMF_sad_test_excl_ff_comp_v2.png\n",
      "  warnings.warn(LatexWarning(f'Recovered figure {image} as {fname}'))\n",
      "/opt/hostedtoolcache/Python/3.9.21/x64/lib/python3.9/site-packages/arxiv_on_deck_2/latex.py:132: LatexWarning: attempting recovering figure FMF_test_excl_ff_compl\n",
      "  warnings.warn(LatexWarning(f'attempting recovering figure {image}'))\n",
      "/opt/hostedtoolcache/Python/3.9.21/x64/lib/python3.9/site-packages/arxiv_on_deck_2/latex.py:137: LatexWarning: Recovered figure FMF_test_excl_ff_compl as tmp_2503.05663/./Plots/FMF_test_excl_ff_compl.png\n",
      "  warnings.warn(LatexWarning(f'Recovered figure {image} as {fname}'))\n",
      "/opt/hostedtoolcache/Python/3.9.21/x64/lib/python3.9/site-packages/arxiv_on_deck_2/latex.py:132: LatexWarning: attempting recovering figure beam_circ_lin_size_hist_overplot\n",
      "  warnings.warn(LatexWarning(f'attempting recovering figure {image}'))\n",
      "/opt/hostedtoolcache/Python/3.9.21/x64/lib/python3.9/site-packages/arxiv_on_deck_2/latex.py:137: LatexWarning: Recovered figure beam_circ_lin_size_hist_overplot as tmp_2503.05663/./Plots/beam_circ_lin_size_hist_overplot.png\n",
      "  warnings.warn(LatexWarning(f'Recovered figure {image} as {fname}'))\n",
      "/opt/hostedtoolcache/Python/3.9.21/x64/lib/python3.9/site-packages/arxiv_on_deck_2/latex.py:132: LatexWarning: attempting recovering figure G349.6433-01.0957A_der\n",
      "  warnings.warn(LatexWarning(f'attempting recovering figure {image}'))\n",
      "/opt/hostedtoolcache/Python/3.9.21/x64/lib/python3.9/site-packages/arxiv_on_deck_2/latex.py:137: LatexWarning: Recovered figure G349.6433-01.0957A_der as tmp_2503.05663/./Plots/G349.6433-01.0957A_der.png\n",
      "  warnings.warn(LatexWarning(f'Recovered figure {image} as {fname}'))\n",
      "/opt/hostedtoolcache/Python/3.9.21/x64/lib/python3.9/site-packages/arxiv_on_deck_2/latex.py:132: LatexWarning: attempting recovering figure G349.6433-01.0957A_det\n",
      "  warnings.warn(LatexWarning(f'attempting recovering figure {image}'))\n",
      "/opt/hostedtoolcache/Python/3.9.21/x64/lib/python3.9/site-packages/arxiv_on_deck_2/latex.py:137: LatexWarning: Recovered figure G349.6433-01.0957A_det as tmp_2503.05663/./Plots/G349.6433-01.0957A_det.png\n",
      "  warnings.warn(LatexWarning(f'Recovered figure {image} as {fname}'))\n",
      "/opt/hostedtoolcache/Python/3.9.21/x64/lib/python3.9/site-packages/arxiv_on_deck_2/latex.py:132: LatexWarning: attempting recovering figure SE_cutex_outcome_new_new\n",
      "  warnings.warn(LatexWarning(f'attempting recovering figure {image}'))\n",
      "/opt/hostedtoolcache/Python/3.9.21/x64/lib/python3.9/site-packages/arxiv_on_deck_2/latex.py:137: LatexWarning: Recovered figure SE_cutex_outcome_new_new as tmp_2503.05663/./Plots/SE_cutex_outcome_new_new.png\n",
      "  warnings.warn(LatexWarning(f'Recovered figure {image} as {fname}'))\n",
      "/opt/hostedtoolcache/Python/3.9.21/x64/lib/python3.9/site-packages/arxiv_on_deck_2/latex.py:132: LatexWarning: attempting recovering figure completeness_plot_uni_mr3_gr1_v2\n",
      "  warnings.warn(LatexWarning(f'attempting recovering figure {image}'))\n",
      "/opt/hostedtoolcache/Python/3.9.21/x64/lib/python3.9/site-packages/arxiv_on_deck_2/latex.py:137: LatexWarning: Recovered figure completeness_plot_uni_mr3_gr1_v2 as tmp_2503.05663/./Plots/completeness_plot_uni_mr3_gr1_v2.png\n",
      "  warnings.warn(LatexWarning(f'Recovered figure {image} as {fname}'))\n",
      "/opt/hostedtoolcache/Python/3.9.21/x64/lib/python3.9/site-packages/arxiv_on_deck_2/latex.py:132: LatexWarning: attempting recovering figure completeness_plot_uni_mr3_gr2_v2\n",
      "  warnings.warn(LatexWarning(f'attempting recovering figure {image}'))\n",
      "/opt/hostedtoolcache/Python/3.9.21/x64/lib/python3.9/site-packages/arxiv_on_deck_2/latex.py:137: LatexWarning: Recovered figure completeness_plot_uni_mr3_gr2_v2 as tmp_2503.05663/./Plots/completeness_plot_uni_mr3_gr2_v2.png\n",
      "  warnings.warn(LatexWarning(f'Recovered figure {image} as {fname}'))\n",
      "/opt/hostedtoolcache/Python/3.9.21/x64/lib/python3.9/site-packages/arxiv_on_deck_2/latex.py:132: LatexWarning: attempting recovering figure completeness_plot_uni_mr3_gr3_v2\n",
      "  warnings.warn(LatexWarning(f'attempting recovering figure {image}'))\n",
      "/opt/hostedtoolcache/Python/3.9.21/x64/lib/python3.9/site-packages/arxiv_on_deck_2/latex.py:137: LatexWarning: Recovered figure completeness_plot_uni_mr3_gr3_v2 as tmp_2503.05663/./Plots/completeness_plot_uni_mr3_gr3_v2.png\n",
      "  warnings.warn(LatexWarning(f'Recovered figure {image} as {fname}'))\n",
      "/opt/hostedtoolcache/Python/3.9.21/x64/lib/python3.9/site-packages/arxiv_on_deck_2/latex.py:132: LatexWarning: attempting recovering figure NFRAG_sn-5_hist_v3\n",
      "  warnings.warn(LatexWarning(f'attempting recovering figure {image}'))\n",
      "/opt/hostedtoolcache/Python/3.9.21/x64/lib/python3.9/site-packages/arxiv_on_deck_2/latex.py:137: LatexWarning: Recovered figure NFRAG_sn-5_hist_v3 as tmp_2503.05663/./Plots/NFRAG_sn-5_hist_v3.png\n",
      "  warnings.warn(LatexWarning(f'Recovered figure {image} as {fname}'))\n",
      "/opt/hostedtoolcache/Python/3.9.21/x64/lib/python3.9/site-packages/arxiv_on_deck_2/latex.py:132: LatexWarning: attempting recovering figure NFRAG_density_sn-5_hist_v3\n",
      "  warnings.warn(LatexWarning(f'attempting recovering figure {image}'))\n",
      "/opt/hostedtoolcache/Python/3.9.21/x64/lib/python3.9/site-packages/arxiv_on_deck_2/latex.py:137: LatexWarning: Recovered figure NFRAG_density_sn-5_hist_v3 as tmp_2503.05663/./Plots/NFRAG_density_sn-5_hist_v3.png\n",
      "  warnings.warn(LatexWarning(f'Recovered figure {image} as {fname}'))\n",
      "/opt/hostedtoolcache/Python/3.9.21/x64/lib/python3.9/site-packages/arxiv_on_deck_2/latex.py:132: LatexWarning: attempting recovering figure NFRAG_prob_sn-5_near+far_hist_nostats\n",
      "  warnings.warn(LatexWarning(f'attempting recovering figure {image}'))\n",
      "/opt/hostedtoolcache/Python/3.9.21/x64/lib/python3.9/site-packages/arxiv_on_deck_2/latex.py:137: LatexWarning: Recovered figure NFRAG_prob_sn-5_near+far_hist_nostats as tmp_2503.05663/./Plots/NFRAG_prob_sn-5_near+far_hist_nostats.png\n",
      "  warnings.warn(LatexWarning(f'Recovered figure {image} as {fname}'))\n",
      "/opt/hostedtoolcache/Python/3.9.21/x64/lib/python3.9/site-packages/arxiv_on_deck_2/latex.py:132: LatexWarning: attempting recovering figure NFRAG_prob_sn-5_near+far_hist_compl_nostats\n",
      "  warnings.warn(LatexWarning(f'attempting recovering figure {image}'))\n",
      "/opt/hostedtoolcache/Python/3.9.21/x64/lib/python3.9/site-packages/arxiv_on_deck_2/latex.py:137: LatexWarning: Recovered figure NFRAG_prob_sn-5_near+far_hist_compl_nostats as tmp_2503.05663/./Plots/NFRAG_prob_sn-5_near+far_hist_compl_nostats.png\n",
      "  warnings.warn(LatexWarning(f'Recovered figure {image} as {fname}'))\n",
      "/opt/hostedtoolcache/Python/3.9.21/x64/lib/python3.9/site-packages/arxiv_on_deck_2/latex.py:132: LatexWarning: attempting recovering figure NFRAG_density_sn-5_near_far_joined_hist\n",
      "  warnings.warn(LatexWarning(f'attempting recovering figure {image}'))\n",
      "/opt/hostedtoolcache/Python/3.9.21/x64/lib/python3.9/site-packages/arxiv_on_deck_2/latex.py:137: LatexWarning: Recovered figure NFRAG_density_sn-5_near_far_joined_hist as tmp_2503.05663/./Plots/NFRAG_density_sn-5_near_far_joined_hist.png\n",
      "  warnings.warn(LatexWarning(f'Recovered figure {image} as {fname}'))\n",
      "/opt/hostedtoolcache/Python/3.9.21/x64/lib/python3.9/site-packages/arxiv_on_deck_2/latex.py:132: LatexWarning: attempting recovering figure NFRAG_density_sn-5_near_far_joined_hist_compl_v2\n",
      "  warnings.warn(LatexWarning(f'attempting recovering figure {image}'))\n",
      "/opt/hostedtoolcache/Python/3.9.21/x64/lib/python3.9/site-packages/arxiv_on_deck_2/latex.py:137: LatexWarning: Recovered figure NFRAG_density_sn-5_near_far_joined_hist_compl_v2 as tmp_2503.05663/./Plots/NFRAG_density_sn-5_near_far_joined_hist_compl_v2.png\n",
      "  warnings.warn(LatexWarning(f'Recovered figure {image} as {fname}'))\n",
      "/opt/hostedtoolcache/Python/3.9.21/x64/lib/python3.9/site-packages/arxiv_on_deck_2/latex.py:132: LatexWarning: attempting recovering figure FINT_hist_v2\n",
      "  warnings.warn(LatexWarning(f'attempting recovering figure {image}'))\n",
      "/opt/hostedtoolcache/Python/3.9.21/x64/lib/python3.9/site-packages/arxiv_on_deck_2/latex.py:137: LatexWarning: Recovered figure FINT_hist_v2 as tmp_2503.05663/./Plots/FINT_hist_v2.png\n",
      "  warnings.warn(LatexWarning(f'Recovered figure {image} as {fname}'))\n",
      "/opt/hostedtoolcache/Python/3.9.21/x64/lib/python3.9/site-packages/arxiv_on_deck_2/latex.py:132: LatexWarning: attempting recovering figure FINT-DIST_bin_median_perc_v3\n",
      "  warnings.warn(LatexWarning(f'attempting recovering figure {image}'))\n",
      "/opt/hostedtoolcache/Python/3.9.21/x64/lib/python3.9/site-packages/arxiv_on_deck_2/latex.py:137: LatexWarning: Recovered figure FINT-DIST_bin_median_perc_v3 as tmp_2503.05663/./Plots/FINT-DIST_bin_median_perc_v3.png\n",
      "  warnings.warn(LatexWarning(f'Recovered figure {image} as {fname}'))\n",
      "/opt/hostedtoolcache/Python/3.9.21/x64/lib/python3.9/site-packages/arxiv_on_deck_2/latex.py:132: LatexWarning: attempting recovering figure FWHM_circ_near-far_hist_norm\n",
      "  warnings.warn(LatexWarning(f'attempting recovering figure {image}'))\n",
      "/opt/hostedtoolcache/Python/3.9.21/x64/lib/python3.9/site-packages/arxiv_on_deck_2/latex.py:137: LatexWarning: Recovered figure FWHM_circ_near-far_hist_norm as tmp_2503.05663/./Plots/FWHM_circ_near-far_hist_norm.png\n",
      "  warnings.warn(LatexWarning(f'Recovered figure {image} as {fname}'))\n",
      "/opt/hostedtoolcache/Python/3.9.21/x64/lib/python3.9/site-packages/arxiv_on_deck_2/latex.py:132: LatexWarning: attempting recovering figure FWHM_circ-beam_circ_hist\n",
      "  warnings.warn(LatexWarning(f'attempting recovering figure {image}'))\n",
      "/opt/hostedtoolcache/Python/3.9.21/x64/lib/python3.9/site-packages/arxiv_on_deck_2/latex.py:137: LatexWarning: Recovered figure FWHM_circ-beam_circ_hist as tmp_2503.05663/./Plots/FWHM_circ-beam_circ_hist.png\n",
      "  warnings.warn(LatexWarning(f'Recovered figure {image} as {fname}'))\n",
      "/opt/hostedtoolcache/Python/3.9.21/x64/lib/python3.9/site-packages/arxiv_on_deck_2/latex.py:132: LatexWarning: attempting recovering figure Dcore_hist_v3\n",
      "  warnings.warn(LatexWarning(f'attempting recovering figure {image}'))\n",
      "/opt/hostedtoolcache/Python/3.9.21/x64/lib/python3.9/site-packages/arxiv_on_deck_2/latex.py:137: LatexWarning: Recovered figure Dcore_hist_v3 as tmp_2503.05663/./Plots/Dcore_hist_v3.png\n",
      "  warnings.warn(LatexWarning(f'Recovered figure {image} as {fname}'))\n",
      "/opt/hostedtoolcache/Python/3.9.21/x64/lib/python3.9/site-packages/arxiv_on_deck_2/latex.py:132: LatexWarning: attempting recovering figure Dcore_spat_res_joined_hist\n",
      "  warnings.warn(LatexWarning(f'attempting recovering figure {image}'))\n",
      "/opt/hostedtoolcache/Python/3.9.21/x64/lib/python3.9/site-packages/arxiv_on_deck_2/latex.py:137: LatexWarning: Recovered figure Dcore_spat_res_joined_hist as tmp_2503.05663/./Plots/Dcore_spat_res_joined_hist.png\n",
      "  warnings.warn(LatexWarning(f'Recovered figure {image} as {fname}'))\n",
      "/opt/hostedtoolcache/Python/3.9.21/x64/lib/python3.9/site-packages/arxiv_on_deck_2/latex.py:132: LatexWarning: attempting recovering figure Mcore-Rcore_v2\n",
      "  warnings.warn(LatexWarning(f'attempting recovering figure {image}'))\n",
      "/opt/hostedtoolcache/Python/3.9.21/x64/lib/python3.9/site-packages/arxiv_on_deck_2/latex.py:137: LatexWarning: Recovered figure Mcore-Rcore_v2 as tmp_2503.05663/./Plots/Mcore-Rcore_v2.png\n",
      "  warnings.warn(LatexWarning(f'Recovered figure {image} as {fname}'))\n",
      "/opt/hostedtoolcache/Python/3.9.21/x64/lib/python3.9/site-packages/arxiv_on_deck_2/latex.py:132: LatexWarning: attempting recovering figure surfd_core_hist_v3\n",
      "  warnings.warn(LatexWarning(f'attempting recovering figure {image}'))\n",
      "/opt/hostedtoolcache/Python/3.9.21/x64/lib/python3.9/site-packages/arxiv_on_deck_2/latex.py:137: LatexWarning: Recovered figure surfd_core_hist_v3 as tmp_2503.05663/./Plots/surfd_core_hist_v3.png\n",
      "  warnings.warn(LatexWarning(f'Recovered figure {image} as {fname}'))\n",
      "/opt/hostedtoolcache/Python/3.9.21/x64/lib/python3.9/site-packages/arxiv_on_deck_2/latex.py:132: LatexWarning: attempting recovering figure Mcore_max+min-L_M_Merr_v4\n",
      "  warnings.warn(LatexWarning(f'attempting recovering figure {image}'))\n",
      "/opt/hostedtoolcache/Python/3.9.21/x64/lib/python3.9/site-packages/arxiv_on_deck_2/latex.py:137: LatexWarning: Recovered figure Mcore_max+min-L_M_Merr_v4 as tmp_2503.05663/./Plots/Mcore_max+min-L_M_Merr_v4.png\n",
      "  warnings.warn(LatexWarning(f'Recovered figure {image} as {fname}'))\n",
      "/opt/hostedtoolcache/Python/3.9.21/x64/lib/python3.9/site-packages/arxiv_on_deck_2/latex.py:132: LatexWarning: attempting recovering figure Mcore_max-Total_Mcore-Mcore_max_ccL_M_v5\n",
      "  warnings.warn(LatexWarning(f'attempting recovering figure {image}'))\n",
      "/opt/hostedtoolcache/Python/3.9.21/x64/lib/python3.9/site-packages/arxiv_on_deck_2/latex.py:137: LatexWarning: Recovered figure Mcore_max-Total_Mcore-Mcore_max_ccL_M_v5 as tmp_2503.05663/./Plots/Mcore_max-Total_Mcore-Mcore_max_ccL_M_v5.png\n",
      "  warnings.warn(LatexWarning(f'Recovered figure {image} as {fname}'))\n",
      "/opt/hostedtoolcache/Python/3.9.21/x64/lib/python3.9/site-packages/arxiv_on_deck_2/latex.py:132: LatexWarning: attempting recovering figure ad-cutex_comp_v3\n",
      "  warnings.warn(LatexWarning(f'attempting recovering figure {image}'))\n",
      "/opt/hostedtoolcache/Python/3.9.21/x64/lib/python3.9/site-packages/arxiv_on_deck_2/latex.py:137: LatexWarning: Recovered figure ad-cutex_comp_v3 as tmp_2503.05663/./Plots/ad-cutex_comp_v3.png\n",
      "  warnings.warn(LatexWarning(f'Recovered figure {image} as {fname}'))\n",
      "/opt/hostedtoolcache/Python/3.9.21/x64/lib/python3.9/site-packages/arxiv_on_deck_2/latex.py:132: LatexWarning: attempting recovering figure photo_accuracy-flux_level_gr1_v2\n",
      "  warnings.warn(LatexWarning(f'attempting recovering figure {image}'))\n",
      "/opt/hostedtoolcache/Python/3.9.21/x64/lib/python3.9/site-packages/arxiv_on_deck_2/latex.py:137: LatexWarning: Recovered figure photo_accuracy-flux_level_gr1_v2 as tmp_2503.05663/./Plots/photo_accuracy-flux_level_gr1_v2.png\n",
      "  warnings.warn(LatexWarning(f'Recovered figure {image} as {fname}'))\n",
      "/opt/hostedtoolcache/Python/3.9.21/x64/lib/python3.9/site-packages/arxiv_on_deck_2/latex.py:132: LatexWarning: attempting recovering figure photo_accuracy-flux_level_gr2_v2\n",
      "  warnings.warn(LatexWarning(f'attempting recovering figure {image}'))\n",
      "/opt/hostedtoolcache/Python/3.9.21/x64/lib/python3.9/site-packages/arxiv_on_deck_2/latex.py:137: LatexWarning: Recovered figure photo_accuracy-flux_level_gr2_v2 as tmp_2503.05663/./Plots/photo_accuracy-flux_level_gr2_v2.png\n",
      "  warnings.warn(LatexWarning(f'Recovered figure {image} as {fname}'))\n",
      "/opt/hostedtoolcache/Python/3.9.21/x64/lib/python3.9/site-packages/arxiv_on_deck_2/latex.py:132: LatexWarning: attempting recovering figure photo_accuracy-flux_level_gr3_v2\n",
      "  warnings.warn(LatexWarning(f'attempting recovering figure {image}'))\n",
      "/opt/hostedtoolcache/Python/3.9.21/x64/lib/python3.9/site-packages/arxiv_on_deck_2/latex.py:137: LatexWarning: Recovered figure photo_accuracy-flux_level_gr3_v2 as tmp_2503.05663/./Plots/photo_accuracy-flux_level_gr3_v2.png\n",
      "  warnings.warn(LatexWarning(f'Recovered figure {image} as {fname}'))\n",
      "/opt/hostedtoolcache/Python/3.9.21/x64/lib/python3.9/site-packages/arxiv_on_deck_2/latex.py:132: LatexWarning: attempting recovering figure dF_plot_uni_mr3_complete_gr1_v2\n",
      "  warnings.warn(LatexWarning(f'attempting recovering figure {image}'))\n",
      "/opt/hostedtoolcache/Python/3.9.21/x64/lib/python3.9/site-packages/arxiv_on_deck_2/latex.py:137: LatexWarning: Recovered figure dF_plot_uni_mr3_complete_gr1_v2 as tmp_2503.05663/./Plots/dF_plot_uni_mr3_complete_gr1_v2.png\n",
      "  warnings.warn(LatexWarning(f'Recovered figure {image} as {fname}'))\n",
      "/opt/hostedtoolcache/Python/3.9.21/x64/lib/python3.9/site-packages/arxiv_on_deck_2/latex.py:132: LatexWarning: attempting recovering figure dF_plot_uni_mr3_complete_gr2_v2\n",
      "  warnings.warn(LatexWarning(f'attempting recovering figure {image}'))\n",
      "/opt/hostedtoolcache/Python/3.9.21/x64/lib/python3.9/site-packages/arxiv_on_deck_2/latex.py:137: LatexWarning: Recovered figure dF_plot_uni_mr3_complete_gr2_v2 as tmp_2503.05663/./Plots/dF_plot_uni_mr3_complete_gr2_v2.png\n",
      "  warnings.warn(LatexWarning(f'Recovered figure {image} as {fname}'))\n",
      "/opt/hostedtoolcache/Python/3.9.21/x64/lib/python3.9/site-packages/arxiv_on_deck_2/latex.py:132: LatexWarning: attempting recovering figure dF_plot_uni_mr3_complete_gr3_v2\n",
      "  warnings.warn(LatexWarning(f'attempting recovering figure {image}'))\n",
      "/opt/hostedtoolcache/Python/3.9.21/x64/lib/python3.9/site-packages/arxiv_on_deck_2/latex.py:137: LatexWarning: Recovered figure dF_plot_uni_mr3_complete_gr3_v2 as tmp_2503.05663/./Plots/dF_plot_uni_mr3_complete_gr3_v2.png\n",
      "  warnings.warn(LatexWarning(f'Recovered figure {image} as {fname}'))\n",
      "/opt/hostedtoolcache/Python/3.9.21/x64/lib/python3.9/site-packages/arxiv_on_deck_2/latex.py:132: LatexWarning: attempting recovering figure dFWHM_max_plot_uni_mr3_complete_gr1_v2\n",
      "  warnings.warn(LatexWarning(f'attempting recovering figure {image}'))\n",
      "/opt/hostedtoolcache/Python/3.9.21/x64/lib/python3.9/site-packages/arxiv_on_deck_2/latex.py:137: LatexWarning: Recovered figure dFWHM_max_plot_uni_mr3_complete_gr1_v2 as tmp_2503.05663/./Plots/dFWHM_max_plot_uni_mr3_complete_gr1_v2.png\n",
      "  warnings.warn(LatexWarning(f'Recovered figure {image} as {fname}'))\n",
      "/opt/hostedtoolcache/Python/3.9.21/x64/lib/python3.9/site-packages/arxiv_on_deck_2/latex.py:132: LatexWarning: attempting recovering figure dFWHM_max_plot_uni_mr3_complete_gr2_v2\n",
      "  warnings.warn(LatexWarning(f'attempting recovering figure {image}'))\n",
      "/opt/hostedtoolcache/Python/3.9.21/x64/lib/python3.9/site-packages/arxiv_on_deck_2/latex.py:137: LatexWarning: Recovered figure dFWHM_max_plot_uni_mr3_complete_gr2_v2 as tmp_2503.05663/./Plots/dFWHM_max_plot_uni_mr3_complete_gr2_v2.png\n",
      "  warnings.warn(LatexWarning(f'Recovered figure {image} as {fname}'))\n",
      "/opt/hostedtoolcache/Python/3.9.21/x64/lib/python3.9/site-packages/arxiv_on_deck_2/latex.py:132: LatexWarning: attempting recovering figure dFWHM_max_plot_uni_mr3_complete_gr3_v2\n",
      "  warnings.warn(LatexWarning(f'attempting recovering figure {image}'))\n",
      "/opt/hostedtoolcache/Python/3.9.21/x64/lib/python3.9/site-packages/arxiv_on_deck_2/latex.py:137: LatexWarning: Recovered figure dFWHM_max_plot_uni_mr3_complete_gr3_v2 as tmp_2503.05663/./Plots/dFWHM_max_plot_uni_mr3_complete_gr3_v2.png\n",
      "  warnings.warn(LatexWarning(f'Recovered figure {image} as {fname}'))\n",
      "/opt/hostedtoolcache/Python/3.9.21/x64/lib/python3.9/site-packages/arxiv_on_deck_2/latex.py:132: LatexWarning: attempting recovering figure dFWHM_min_plot_uni_mr3_complete_gr1_v2\n",
      "  warnings.warn(LatexWarning(f'attempting recovering figure {image}'))\n",
      "/opt/hostedtoolcache/Python/3.9.21/x64/lib/python3.9/site-packages/arxiv_on_deck_2/latex.py:137: LatexWarning: Recovered figure dFWHM_min_plot_uni_mr3_complete_gr1_v2 as tmp_2503.05663/./Plots/dFWHM_min_plot_uni_mr3_complete_gr1_v2.png\n",
      "  warnings.warn(LatexWarning(f'Recovered figure {image} as {fname}'))\n",
      "/opt/hostedtoolcache/Python/3.9.21/x64/lib/python3.9/site-packages/arxiv_on_deck_2/latex.py:132: LatexWarning: attempting recovering figure dFWHM_min_plot_uni_mr3_complete_gr2_v2\n",
      "  warnings.warn(LatexWarning(f'attempting recovering figure {image}'))\n",
      "/opt/hostedtoolcache/Python/3.9.21/x64/lib/python3.9/site-packages/arxiv_on_deck_2/latex.py:137: LatexWarning: Recovered figure dFWHM_min_plot_uni_mr3_complete_gr2_v2 as tmp_2503.05663/./Plots/dFWHM_min_plot_uni_mr3_complete_gr2_v2.png\n",
      "  warnings.warn(LatexWarning(f'Recovered figure {image} as {fname}'))\n",
      "/opt/hostedtoolcache/Python/3.9.21/x64/lib/python3.9/site-packages/arxiv_on_deck_2/latex.py:132: LatexWarning: attempting recovering figure dFWHM_min_plot_uni_mr3_complete_gr3_v2\n",
      "  warnings.warn(LatexWarning(f'attempting recovering figure {image}'))\n",
      "/opt/hostedtoolcache/Python/3.9.21/x64/lib/python3.9/site-packages/arxiv_on_deck_2/latex.py:137: LatexWarning: Recovered figure dFWHM_min_plot_uni_mr3_complete_gr3_v2 as tmp_2503.05663/./Plots/dFWHM_min_plot_uni_mr3_complete_gr3_v2.png\n",
      "  warnings.warn(LatexWarning(f'Recovered figure {image} as {fname}'))\n"
     ]
    },
    {
     "name": "stdout",
     "output_type": "stream",
     "text": [
      "Found 179 bibliographic references in tmp_2503.05663/ALMAGAL_III.bbl.\n",
      "Issues with the citations\n",
      "syntax error in line 86: '}' expected\n"
     ]
    }
   ],
   "source": [
    "documents = []\n",
    "failed = []\n",
    "for paper in tqdm(candidates):\n",
    "    # debug crap\n",
    "    paper['identifier'] = paper['identifier'].lower().replace('arxiv:', '').replace(r'\\n', '').strip()\n",
    "    paper_id = paper['identifier']\n",
    "    \n",
    "    folder = f'tmp_{paper_id}'\n",
    "\n",
    "    try:\n",
    "        if not os.path.isdir(folder):\n",
    "            folder = retrieve_document_source(f\"{paper_id}\", f'tmp_{paper_id}')\n",
    "        \n",
    "        try:\n",
    "            doc = latex.LatexDocument(folder, validation=validation)    \n",
    "        except AffiliationError as affilerror:\n",
    "            msg = f\"ArXiv:{paper_id:s} is not an MPIA paper... \" + str(affilerror)\n",
    "            failed.append((paper, \"affiliation error: \" + str(affilerror) ))\n",
    "            continue\n",
    "        \n",
    "        # Hack because sometimes author parsing does not work well\n",
    "        if (len(doc.authors) != len(paper['authors'])):\n",
    "            doc._authors = paper['authors']\n",
    "        else:\n",
    "            # highlight authors (FIXME: doc.highlight_authors)\n",
    "            # done on arxiv paper already\n",
    "            doc._authors = highlight_authors_in_list(\n",
    "                [get_initials(k) for k in doc.authors], \n",
    "                mpia_authors, verbose=True)\n",
    "        if (doc.abstract) in (None, ''):\n",
    "            doc._abstract = paper['abstract']\n",
    "            \n",
    "        doc.comment = (get_markdown_badge(paper_id) + \n",
    "                       \"<mark>Appeared on: \" + paper['date'] + \"</mark> - \")\n",
    "        if paper['comments']:\n",
    "            doc.comment += \" _\" + paper['comments'] + \"_\"\n",
    "        \n",
    "        full_md = doc.generate_markdown_text()\n",
    "        \n",
    "        full_md += get_markdown_qrcode(paper_id)\n",
    "        \n",
    "        # replace citations\n",
    "        try:\n",
    "            bibdata = latex_bib.LatexBib.from_doc(doc)\n",
    "            full_md = latex_bib.replace_citations(full_md, bibdata)\n",
    "        except Exception as e:\n",
    "            print(\"Issues with the citations\")\n",
    "            print(e)\n",
    "        \n",
    "        documents.append((paper_id, full_md))\n",
    "    except Exception as e:\n",
    "        warnings.warn(latex.LatexWarning(f\"{paper_id:s} did not run properly\\n\" +\n",
    "                                         str(e)\n",
    "                                        ))\n",
    "        failed.append((paper, \"latex error \" + str(e)))"
   ]
  },
  {
   "cell_type": "markdown",
   "id": "2505a25c",
   "metadata": {
    "papermill": {
     "duration": 0.004789,
     "end_time": "2025-03-10T04:14:21.243130",
     "exception": false,
     "start_time": "2025-03-10T04:14:21.238341",
     "status": "completed"
    },
    "tags": []
   },
   "source": [
    "### Export the logs\n",
    "\n",
    "Throughout, we also keep track of the logs per paper. see `logs-{today date}.md` "
   ]
  },
  {
   "cell_type": "code",
   "execution_count": 6,
   "id": "d733828a",
   "metadata": {
    "execution": {
     "iopub.execute_input": "2025-03-10T04:14:21.253761Z",
     "iopub.status.busy": "2025-03-10T04:14:21.253439Z",
     "iopub.status.idle": "2025-03-10T04:14:21.273885Z",
     "shell.execute_reply": "2025-03-10T04:14:21.273234Z"
    },
    "papermill": {
     "duration": 0.026971,
     "end_time": "2025-03-10T04:14:21.274913",
     "exception": false,
     "start_time": "2025-03-10T04:14:21.247942",
     "status": "completed"
    },
    "scrolled": false,
    "tags": []
   },
   "outputs": [
    {
     "data": {
      "text/markdown": [
       "## Successful papers"
      ],
      "text/plain": [
       "<IPython.core.display.Markdown object>"
      ]
     },
     "metadata": {},
     "output_type": "display_data"
    },
    {
     "data": {
      "text/markdown": [
       "\n",
       "|||\n",
       "|---:|:---|\n",
       "| [![arXiv](https://img.shields.io/badge/arXiv-2503.04903-b31b1b.svg)](https://arxiv.org/abs/2503.04903) | **oMEGACat. VI. Analysis of the overall kinematics of Omega Centauri in 3D: velocity dispersion, kinematic distance, anisotropy, and energy equipartition**  |\n",
       "|| <mark>M. Häberle</mark>, et al. -- incl., <mark>N. Neumayer</mark>, <mark>C. Clontz</mark>, <mark>P. Smith</mark>, <mark>S. Souza</mark> |\n",
       "|*Appeared on*| *2025-03-10*|\n",
       "|*Comments*| *31 pages, 23 Figures, 4 Tables. Accepted for publication in ApJ. Data products available under: this https URL*|\n",
       "|**Abstract**|            Omega Centauri ($\\omega$ Cen) is the Milky Way's most massive globular cluster and is likely the stripped nucleus of an accreted dwarf galaxy. In this paper, we analyze $\\omega$ Cen's kinematics using data from oMEGACat, a comprehensive catalog of $\\omega$ Cen's central regions, including 1.4 million proper motion measurements and 300,000 spectroscopic radial velocities. Our velocity dispersion profiles and kinematic maps are consistent with previous work but improve on their resolution, precision, and spatial coverage. The cluster's 3D dispersion is isotropic in the core, with increasing radial anisotropy at larger radii. The 2D kinematic maps show an elongation of the velocity dispersion field comparable to the flattening observed photometrically. We find good agreement between proper motions and line-of-sight velocity dispersion and measure a kinematic distance of 5494$\\pm$61 pc, the most precise kinematic distance to $\\omega$ Cen available. The subset of data with precise metallicity measurements shows no correlation between metallicity and kinematics, supporting the picture of well-mixed stellar populations within the half-light radius of $\\omega$ Cen. Finally, we study the degree of energy equipartition using a large range of stellar masses. We find partial energy equipartition in the center that decreases towards large radii. The spatial dependence of the radial energy equipartition is stronger than the tangential energy equipartition. Our kinematic observations can serve as a new reference for future dynamical modeling efforts that will help to further disentangle the complex mass distribution within $\\omega$ Cen.         |"
      ],
      "text/plain": [
       "[2503.04903] oMEGACat. VI. Analysis of the overall kinematics of Omega Centauri in 3D: velocity dispersion, kinematic distance, anisotropy, and energy equipartition\n",
       "\t<mark>M. Häberle</mark>, et al. -- incl., <mark>N. Neumayer</mark>, <mark>C. Clontz</mark>, <mark>P. Smith</mark>, <mark>S. Souza</mark>"
      ]
     },
     "metadata": {},
     "output_type": "display_data"
    },
    {
     "data": {
      "text/markdown": [
       "\n",
       "|||\n",
       "|---:|:---|\n",
       "| [![arXiv](https://img.shields.io/badge/arXiv-2503.05555-b31b1b.svg)](https://arxiv.org/abs/2503.05555) | **ALMAGAL I. The ALMA evolutionary study of high-mass protocluster formation in the Galaxy. Presentation of the survey and early results**  |\n",
       "|| S. Molinari, et al. -- incl., <mark>H. Beuther</mark>, <mark>M. Wells</mark>, <mark>T. Henning</mark> |\n",
       "|*Appeared on*| *2025-03-10*|\n",
       "|*Comments*| *21 pages, 18 figures plus appendices. Astronomy & Astrophysics, accepted*|\n",
       "|**Abstract**|            Fundamental questions about the physics responsible for fragmenting molecular parsec-scale clumps into cores of ~1000 au are still open, that only a statistically significant investigation with ALMA is able to address: what are the dominant agents that determine the core demographics, mass, and spatial distribution as a function of the physical properties of the hosting clumps, their evolutionary stage and the different Galactic environments in which they reside? To what extent extent is fragmentation driven by clumps dynamics or mass transport in filaments? With ALMAGAL we observed the 1.38 mm continuum and lines toward more than 1000 dense clumps in our Galaxy, with M>500M_sun, surface density > 0.1 g/cm2 and d<7.5 kpc. The ACA and two 12-m array setups were used to deliver a minimum resolution of ~1000 au over the entire sample distance range. The sample covers all evolutionary stages from infrared dark clouds (IRDCs) to HII regions from the tip of the Galactic bar to the outskirts of the Galaxy. The spectral setup includes several molecular lines to trace the multiscale physics and dynamics of gas, notably CH3CN, H2CO, SiO, CH3OH, DCN, HC3N, SO etc. We present an initial overview of the observations and the early science product and results, with a first characterization of the morphological properties of the continuum emission. We use \"perimeter-versus-area\" and convex hull-versus-area metrics to classify the different morphologies. More extended and morphologically complex shapes are found toward clumps that are relatively more evolved and have higher surface densities.         |"
      ],
      "text/plain": [
       "[2503.05555] ALMAGAL I. The ALMA evolutionary study of high-mass protocluster formation in the Galaxy. Presentation of the survey and early results\n",
       "\tS. Molinari, et al. -- incl., <mark>H. Beuther</mark>, <mark>M. Wells</mark>, <mark>T. Henning</mark>"
      ]
     },
     "metadata": {},
     "output_type": "display_data"
    },
    {
     "data": {
      "text/markdown": [
       "\n",
       "|||\n",
       "|---:|:---|\n",
       "| [![arXiv](https://img.shields.io/badge/arXiv-2503.05559-b31b1b.svg)](https://arxiv.org/abs/2503.05559) | **ALMAGAL II. The ALMA evolutionary study of high-mass protocluster formation in the Galaxy. ALMA data processing and pipeline**  |\n",
       "|| Á. Sánchez-Monge, et al. -- incl., <mark>H. Beuther</mark>, <mark>M. Wells</mark>, <mark>T. Henning</mark> |\n",
       "|*Appeared on*| *2025-03-10*|\n",
       "|*Comments*| *29 pages, 23 figures, accepted for publication in the Astronomy & Astrophysics journal, abstract adapted from original*|\n",
       "|**Abstract**|            The ALMAGAL Large Program has observed 1017 high-mass star-forming regions distributed throughout the Galaxy, sampling different evolutionary stages and environmental conditions. In this work, we present the acquisition and processing of the ALMAGAL data. The main goal is to set up a robust pipeline that generates science-ready products, with a good and uniform quality across the whole sample. ALMAGAL observations were performed with the Atacama Large Millimeter/submillimeter Array (ALMA). Each field was observed in three different telescope arrays, being sensitive to spatial scales ranging from 1000 au up to 0.1 pc. The spectral setup allows sensitive imaging of the continuum emission at 219 GHz, and it covers multiple molecular spectral lines observed in four different spectral windows that span about 4 GHz in frequency coverage. We have designed a Python-based processing workflow to calibrate and image these observational data. This ALMAGAL pipeline includes an improved continuum determination, suited for line-rich sources; an automatic self-calibration process that improves the dynamical range of the final images; and the combination of data from different telescope arrays to produce science-ready, fully combined images. The fully combined products have spatial resolutions in the range 800-2000 au, and mass sensitivities in the range 0.02-0.07 Mo. We also present a first analysis of the spectral line information included in the ALMAGAL setup, and its potential for future scientific studies. As an example, specific spectral lines at 1000 au scales resolve the presence of multiple outflows in clusters and will help us to search for disk candidates around massive protostars. Moreover, the broad frequency bands provide information on the chemical richness of the different cluster members, which can be used to study the chemical evolution during the formation process of star clusters.         |"
      ],
      "text/plain": [
       "[2503.05559] ALMAGAL II. The ALMA evolutionary study of high-mass protocluster formation in the Galaxy. ALMA data processing and pipeline\n",
       "\tÁ. Sánchez-Monge, et al. -- incl., <mark>H. Beuther</mark>, <mark>M. Wells</mark>, <mark>T. Henning</mark>"
      ]
     },
     "metadata": {},
     "output_type": "display_data"
    },
    {
     "data": {
      "text/markdown": [
       "\n",
       "|||\n",
       "|---:|:---|\n",
       "| [![arXiv](https://img.shields.io/badge/arXiv-2503.05663-b31b1b.svg)](https://arxiv.org/abs/2503.05663) | **ALMAGAL III. Compact source catalog: Fragmentation statistics and physical evolution of the core population**  |\n",
       "|| A. Coletta, et al. -- incl., <mark>H. Beuther</mark>, <mark>M. Wells</mark> |\n",
       "|*Appeared on*| *2025-03-10*|\n",
       "|*Comments*| *35 pages, 63 figures, accepted for publication in the Astronomy & Astrophysics journal, abstract adapted from original*|\n",
       "|**Abstract**|            The mechanisms behind the fragmentation of high-mass dense clumps into compact star-forming cores are fundamental topics in current astrophysical research. The ALMAGAL survey provides the opportunity to study this process at an unprecedented level of detail and statistical significance, featuring high-angular resolution $1.38$ mm ALMA observations of $1013$ massive dense clumps at various Galactic locations. These clumps cover a wide range of distances, masses, surface densities, and evolutionary stages. Here, we present the catalog of compact sources obtained with the CuTEx algorithm from continuum images of the full ALMAGAL clump sample combining ACA-$7$m and $12$m ALMA arrays, reaching a uniform high median spatial resolution of $\\sim1400$ au. We discuss the fragmentation properties and the estimated physical parameters of the core population. The ALMAGAL compact source catalog includes $6348$ cores detected in $844$ clumps ($83\\%$ of the total), with a number of cores per clump between $1$ and $49$ (median of $5$). The estimated core diameters are mostly within $\\sim800-3000$ au (median of $1700$ au). We obtained core masses from $0.002$ to $345\\,\\mathrm{M_{\\odot}}$. We evaluated the variation in the core mass function (CMF) with evolution as traced by the clump $L/M$, finding a clear, robust shift and change in slope among CMFs within subsamples at different stages. This finding suggests that the CMF shape is not constant throughout the star formation process, but rather it builds (and flattens) with evolution, with higher core masses reached at later stages. We found that all cores within a clump grow in mass on average with evolution, and the number of cores increases with the core masses. Our results favor a clump-fed scenario for high-mass star formation, in which cores form as low-mass seeds, and then gain mass while further fragmentation occurs in the clump.         |"
      ],
      "text/plain": [
       "[2503.05663] ALMAGAL III. Compact source catalog: Fragmentation statistics and physical evolution of the core population\n",
       "\tA. Coletta, et al. -- incl., <mark>H. Beuther</mark>, <mark>M. Wells</mark>"
      ]
     },
     "metadata": {},
     "output_type": "display_data"
    },
    {
     "data": {
      "text/markdown": [
       "## Failed papers"
      ],
      "text/plain": [
       "<IPython.core.display.Markdown object>"
      ]
     },
     "metadata": {},
     "output_type": "display_data"
    },
    {
     "data": {
      "text/markdown": [
       "\n",
       "|||\n",
       "|---:|:---|\n",
       "| [![arXiv](https://img.shields.io/badge/arXiv-2503.04913-b31b1b.svg)](https://arxiv.org/abs/2503.04913) | **The HST-Hyperion Survey: Companion Fraction and Overdensity in a z ~ 2.5 Proto-supercluster**  |\n",
       "|| F. Giddings, et al. -- incl., <mark>L. Xie</mark> |\n",
       "|*Appeared on*| *2025-03-10*|\n",
       "|*Comments*| *23 pages, 10 figures, 4 tables. Submitted to A&A. Comments welcome*|\n",
       "|**Abstract**|            We present a study of the galaxy merger and interaction activity within the Hyperion Proto-supercluster at z~2.5 in an effort to assess the occurrence of galaxy mergers and interactions in contrast to the coeval field and their impact on the build up of stellar mass in high density environments at higher-z. For this work, we utilize data from the Charting Cluster Construction with VUDS and ORELSE Survey (C3VO) along with extensive spectroscopic and photometric datasets available for the COSMOS field, including the HST-Hyperion Survey. To evaluate potential merger and interaction activity, we measure the fraction of galaxies with close kinematic companions ($f_{ckc}$) both within Hyperion and the coeval field by means of a Monte Carlo (MC) methodology developed in this work that probabilistically employs our entire combined spectroscopic and photometric dataset. We validate our $f_{ckc}$ MC methodology on a simulated lightcone built from the GAlaxy Evolution and Assembly semi-analytic model, and we determine correction factors that account for the underlying spectroscopic sampling rate of our dataset. We find that galaxies in Hyperion have close kinematic companions $\\gtrsim 2\\times$ more than galaxies in the field and measure a corrected $f_{ckc}=49_{-7.8}^{+7.4}$% for Hyperion and a corrected $f_{ckc}=23_{-1.3}^{+1.2}$% for the surrounding field; a $>3\\sigma$ difference. This increase in $f_{ckc}$ indicates an enhancement in the merger and interaction activity within Hyperion and matches the trend seen in other structures. The rate of merger and interactions within the field implied from our field $f_{ckc}$ measurement is well aligned with values measured from other observations in similar redshift ranges. The enhanced $f_{ckc}$ measured within Hyperion suggests that merger and interaction activity play an important role in the mass growth of galaxies in denser environments at higher z.         |\n",
       "|<p style=\"color:green\"> **ERROR** </p>| <p style=\"color:green\">affiliation error: mpia.affiliation_verifications: 'Heidelberg' keyword not found.</p> |"
      ],
      "text/plain": [
       "<IPython.core.display.Markdown object>"
      ]
     },
     "metadata": {},
     "output_type": "display_data"
    },
    {
     "data": {
      "text/markdown": [
       "\n",
       "|||\n",
       "|---:|:---|\n",
       "| [![arXiv](https://img.shields.io/badge/arXiv-2503.05198-b31b1b.svg)](https://arxiv.org/abs/2503.05198) | **The JCMT BISTRO Survey: Unveiling the Magnetic Fields around Galactic Center**  |\n",
       "|| M.-Z. Yang, et al. -- incl., <mark>J. Liu</mark> |\n",
       "|*Appeared on*| *2025-03-10*|\n",
       "|*Comments*| *Accepted for publication in ApJ. 31 pages, 21 figures (20 in main text, 1 in appendix), 1 appendix*|\n",
       "|**Abstract**|            We acquired 450 {\\mu}m and 850 {\\mu}m dust continuum polarization observations toward the inner region of the Central Molecular Zone (CMZ) as part of the B-Fields In Star-Forming Region Observations (BISTRO) survey using the POL-2 polarimeter on the James Clerk Maxwell Telescope. These observations encompassed three dense structures: the 20 km s{^{-1}} cloud (20MC), 50 km s{^{-1}} cloud (50MC), and circumnuclear disk (CND). Our aim is to investigate the magnetic field morphology and strength in the inner region of the CMZ using polarized dust continuum and the Davis-Chandrasekhar-Fermi method. The magnetic field morphology is highly ordered in all three dense regions. The plane-of-sky magnetic field strengths are {\\sim}1 mG for the 20MC and the 50MC, and {\\sim}2 mG for the CND. We compare the energy contributions of turbulence, gravity, and thermal motion with that of the magnetic field using the plasma {\\beta}, mass-to-flux ratio, and Alfvén Mach number. The outcomes reveal the magnetic field stands out as the predominant factor within the inner region of the CMZ. The dominance of the magnetic field may explain the low star-forming rate in the CMZ. We further investigate the dust grain alignment efficiency by exploring the relationship between polarization fraction and total intensity. The results suggest that dust grains are well aligned with the magnetic fields.         |\n",
       "|<p style=\"color:green\"> **ERROR** </p>| <p style=\"color:green\">affiliation error: mpia.affiliation_verifications: 'Heidelberg' keyword not found.</p> |"
      ],
      "text/plain": [
       "<IPython.core.display.Markdown object>"
      ]
     },
     "metadata": {},
     "output_type": "display_data"
    },
    {
     "data": {
      "text/markdown": [
       "\n",
       "|||\n",
       "|---:|:---|\n",
       "| [![arXiv](https://img.shields.io/badge/arXiv-2503.05461-b31b1b.svg)](https://arxiv.org/abs/2503.05461) | **CHANG-ES XXXIV: Magnetic Field Structure in Edge-On Galaxies Characterising large-scale magnetic fields in galactic halos**  |\n",
       "|| M. Stein, et al. -- incl., <mark>J. Li</mark> |\n",
       "|*Appeared on*| *2025-03-10*|\n",
       "|*Comments*| *Accepted for publication in Astronomy & Astrophysics, section \"4. Extragalactic astronomy\"*|\n",
       "|**Abstract**|            Understanding galactic magnetic fields is essential for interpreting feedback processes in galaxies. Despite their importance, the exact structure of these fields, particularly in galactic halos, remains unclear. Accurate descriptions are crucial for understanding the interaction between star formation and halo magnetisation. By systematically analysing the polarisation patterns in halos of nearby galaxies, we aim to deepen the understanding of the interplay between galactic magnetic fields and star formation processes. We provide an analytical description of the observed X-shaped halos. Based on radio polarimetry data, we classify the polarisation patterns of a sample of edge-on galaxies, by using a newly introduced three-class system: disc dominated, small-scale, and X-shaped. We then fit X-shaped patterns to the polarisation data for galaxies classified as X-shaped and explore links between the polarisation patterns and other physical properties of these galaxies. The classification process shows that 11 out of 18 analysed galaxies display an X-shaped polarisation pattern. Galaxies classified as disc dominated seem less efficient at forming stars than expected for their stellar mass and rotate faster than galaxies with similarly sized HI-discs. X-shape modelling reveals that the polarisation patterns are best fitted by a constant-angle model, and we observe a correlation between the X-shape opening angle and star formation rate surface density indicating the interplay between the star formation in the disc and the magnetisation of the galactic halo. The analysis of polarisation patterns in nearby galaxies reveals that most exhibit an X-shaped configuration, indicating a common magnetic field structure in galactic halos. The introduced models capture the X-shaped morphology and reveal the link between the X-shape's opening angle and star formation rate surface density.         |\n",
       "|<p style=\"color:green\"> **ERROR** </p>| <p style=\"color:green\">affiliation error: mpia.affiliation_verifications: 'Heidelberg' keyword not found.</p> |"
      ],
      "text/plain": [
       "<IPython.core.display.Markdown object>"
      ]
     },
     "metadata": {},
     "output_type": "display_data"
    },
    {
     "data": {
      "text/markdown": [
       "\n",
       "|||\n",
       "|---:|:---|\n",
       "| [![arXiv](https://img.shields.io/badge/arXiv-2503.05402-b31b1b.svg)](https://arxiv.org/abs/2503.05402) | **The Chemical Composition of the Sun**  |\n",
       "|| <mark>M. Bergemann</mark>, K. Lodders, H. Palme |\n",
       "|*Appeared on*| *2025-03-10*|\n",
       "|*Comments*| *This is a pre-print of a chapter for the Encyclopedia of Astrophysics (edited by I. Mandel, section editor F.R.N. Schneider) to be published by Elsevier as a Reference Module*|\n",
       "|**Abstract**|            This chapter provides a brief introduction to the chemical composition of the Sun. The focus of the chapter is on results obtained from the physical analysis of the solar photosphere. Data obtained from meteorites, solar wind and corona measurements, as well as helioseismology, and solar neutrinos are briefly reviewed. The elemental and isotopic composition of the solar system is derived by combining the solar and meteoritic data. The cosmochemical and astronomical abundance scales are described. The results of the determinations of the protosolar chemical composition, as well as the initial and present-day mass fractions of hydrogen, helium, and metals (X, Y, Z) for the solar system are presented in extensive tables. All tables are also available in machine-readable form via Zenodo this https URL |\n",
       "|<p style=\"color:red\"> **ERROR** </p>| <p style=\"color:red\">latex error list index out of range</p> |"
      ],
      "text/plain": [
       "<IPython.core.display.Markdown object>"
      ]
     },
     "metadata": {},
     "output_type": "display_data"
    }
   ],
   "source": [
    "import datetime\n",
    "today = str(datetime.date.today())\n",
    "logfile = f\"_build/html/logs/log-{today}.md\"\n",
    "\n",
    "\n",
    "with open(logfile, 'w') as logs:\n",
    "    # Success\n",
    "    logs.write(f'# Arxiv on Deck 2: Logs - {today}\\n\\n')\n",
    "    logs.write(\"\"\"* Arxiv had {0:,d} new papers\\n\"\"\".format(len(new_papers)))\n",
    "    logs.write(\"\"\"    * {0:,d} with possible author matches\\n\\n\"\"\".format(len(candidates)))\n",
    "    logs.write(\"## Sucessful papers\\n\\n\")\n",
    "    display(Markdown(\"## Successful papers\"))\n",
    "    success = [k[0] for k in documents]\n",
    "    for candid in candidates:\n",
    "        if candid['identifier'].split(':')[-1] in success:\n",
    "            display(candid)\n",
    "            logs.write(candid.generate_markdown_text() + '\\n\\n')\n",
    "\n",
    "    ## failed\n",
    "    logs.write(\"## Failed papers\\n\\n\")\n",
    "    display(Markdown(\"## Failed papers\"))\n",
    "    failed = sorted(failed, key=lambda x: x[1])\n",
    "    current_reason = \"\"\n",
    "    for paper, reason in failed:\n",
    "        if 'affiliation' in reason:\n",
    "            color = 'green'\n",
    "        else:\n",
    "            color = 'red'\n",
    "        data = Markdown(\n",
    "                paper.generate_markdown_text() + \n",
    "                f'\\n|<p style=\"color:{color:s}\"> **ERROR** </p>| <p style=\"color:{color:s}\">{reason:s}</p> |'\n",
    "               )\n",
    "        if reason != current_reason:\n",
    "            logs.write(f'### {reason:s} \\n\\n')\n",
    "            current_reason = reason\n",
    "        logs.write(data.data + '\\n\\n')\n",
    "        \n",
    "        # only display here the important errors (all in logs)\n",
    "        # if color in ('red',):\n",
    "        display(data)"
   ]
  },
  {
   "cell_type": "markdown",
   "id": "472d20ee",
   "metadata": {
    "papermill": {
     "duration": 0.005786,
     "end_time": "2025-03-10T04:14:21.286586",
     "exception": false,
     "start_time": "2025-03-10T04:14:21.280800",
     "status": "completed"
    },
    "tags": []
   },
   "source": [
    "## Export documents\n",
    "\n",
    "We now write the .md files and export relevant images"
   ]
  },
  {
   "cell_type": "code",
   "execution_count": 7,
   "id": "d426aed9",
   "metadata": {
    "execution": {
     "iopub.execute_input": "2025-03-10T04:14:21.299242Z",
     "iopub.status.busy": "2025-03-10T04:14:21.298638Z",
     "iopub.status.idle": "2025-03-10T04:14:21.305549Z",
     "shell.execute_reply": "2025-03-10T04:14:21.304934Z"
    },
    "papermill": {
     "duration": 0.014167,
     "end_time": "2025-03-10T04:14:21.306520",
     "exception": false,
     "start_time": "2025-03-10T04:14:21.292353",
     "status": "completed"
    },
    "tags": []
   },
   "outputs": [],
   "source": [
    "def export_markdown_summary(md: str, md_fname:str, directory: str):\n",
    "    \"\"\"Export MD document and associated relevant images\"\"\"\n",
    "    import os\n",
    "    import shutil\n",
    "    import re\n",
    "\n",
    "    if (os.path.exists(directory) and not os.path.isdir(directory)):\n",
    "        raise RuntimeError(f\"a non-directory file exists with name {directory:s}\")\n",
    "\n",
    "    if (not os.path.exists(directory)):\n",
    "        print(f\"creating directory {directory:s}\")\n",
    "        os.mkdir(directory)\n",
    "\n",
    "    fig_fnames = (re.compile(r'\\[Fig.*\\]\\((.*)\\)').findall(md) + \n",
    "                  re.compile(r'\\<img src=\"([^>\\s]*)\"[^>]*/>').findall(md))\n",
    "    print(\"found figures\", fig_fnames)\n",
    "    for fname in fig_fnames:\n",
    "        if 'http' in fname:\n",
    "            # No need to copy online figures\n",
    "            continue\n",
    "        if not os.path.exists(fname):\n",
    "            print(\"file not found\", fname)\n",
    "            continue\n",
    "        print(\"copying \", fname, \"to\", directory)\n",
    "        destdir = os.path.join(directory, os.path.dirname(fname))\n",
    "        destfname = os.path.join(destdir, os.path.basename(fname))\n",
    "        try:\n",
    "            os.makedirs(destdir)\n",
    "        except FileExistsError:\n",
    "            pass\n",
    "        shutil.copy(fname, destfname)\n",
    "    with open(os.path.join(directory, md_fname), 'w') as fout:\n",
    "        fout.write(md)\n",
    "    print(\"exported in \", os.path.join(directory, md_fname))\n",
    "    [print(\"    + \" + os.path.join(directory,fk)) for fk in fig_fnames]"
   ]
  },
  {
   "cell_type": "code",
   "execution_count": 8,
   "id": "014d04a4",
   "metadata": {
    "execution": {
     "iopub.execute_input": "2025-03-10T04:14:21.319207Z",
     "iopub.status.busy": "2025-03-10T04:14:21.318826Z",
     "iopub.status.idle": "2025-03-10T04:14:21.334408Z",
     "shell.execute_reply": "2025-03-10T04:14:21.333740Z"
    },
    "papermill": {
     "duration": 0.023076,
     "end_time": "2025-03-10T04:14:21.335421",
     "exception": false,
     "start_time": "2025-03-10T04:14:21.312345",
     "status": "completed"
    },
    "tags": []
   },
   "outputs": [
    {
     "name": "stdout",
     "output_type": "stream",
     "text": [
      "found figures ['tmp_2503.04903/./revision1_old_data_velocity_dispersion_map_n250_with_zoom.png', 'tmp_2503.04903/./velocity_dispersion_Gaussian_Fits.png', 'tmp_2503.04903/./revision1_watkins_comparison.png']\n",
      "copying  tmp_2503.04903/./revision1_old_data_velocity_dispersion_map_n250_with_zoom.png to _build/html/\n",
      "copying  tmp_2503.04903/./velocity_dispersion_Gaussian_Fits.png to _build/html/\n",
      "copying  tmp_2503.04903/./revision1_watkins_comparison.png to _build/html/\n",
      "exported in  _build/html/2503.04903.md\n",
      "    + _build/html/tmp_2503.04903/./revision1_old_data_velocity_dispersion_map_n250_with_zoom.png\n",
      "    + _build/html/tmp_2503.04903/./velocity_dispersion_Gaussian_Fits.png\n",
      "    + _build/html/tmp_2503.04903/./revision1_watkins_comparison.png\n",
      "found figures ['tmp_2503.05555/./emissionarea-vs-surfdens_tm1_nsig5.png', 'tmp_2503.05555/./almagal_updated_galpos_Final.png', 'tmp_2503.05555/./LM_4paper0a_v2.png', 'tmp_2503.05555/./circ-depart_total_tm1_nsig5-vs-SURF_D.png']\n",
      "copying  tmp_2503.05555/./emissionarea-vs-surfdens_tm1_nsig5.png to _build/html/\n",
      "copying  tmp_2503.05555/./almagal_updated_galpos_Final.png to _build/html/\n",
      "copying  tmp_2503.05555/./LM_4paper0a_v2.png to _build/html/\n",
      "copying  tmp_2503.05555/./circ-depart_total_tm1_nsig5-vs-SURF_D.png to _build/html/\n",
      "exported in  _build/html/2503.05555.md\n",
      "    + _build/html/tmp_2503.05555/./emissionarea-vs-surfdens_tm1_nsig5.png\n",
      "    + _build/html/tmp_2503.05555/./almagal_updated_galpos_Final.png\n",
      "    + _build/html/tmp_2503.05555/./LM_4paper0a_v2.png\n",
      "    + _build/html/tmp_2503.05555/./circ-depart_total_tm1_nsig5-vs-SURF_D.png\n",
      "found figures ['tmp_2503.05559/./plot_jointdeconvolutionExamples_101899_noGrid.png', 'tmp_2503.05559/./plot_beamInformation_noGrid.png', 'tmp_2503.05559/./plot_rmsContInformation_noGrid.png']\n",
      "copying  tmp_2503.05559/./plot_jointdeconvolutionExamples_101899_noGrid.png to _build/html/\n",
      "copying  tmp_2503.05559/./plot_beamInformation_noGrid.png to _build/html/\n",
      "copying  tmp_2503.05559/./plot_rmsContInformation_noGrid.png to _build/html/\n",
      "exported in  _build/html/2503.05559.md\n",
      "    + _build/html/tmp_2503.05559/./plot_jointdeconvolutionExamples_101899_noGrid.png\n",
      "    + _build/html/tmp_2503.05559/./plot_beamInformation_noGrid.png\n",
      "    + _build/html/tmp_2503.05559/./plot_rmsContInformation_noGrid.png\n",
      "found figures ['tmp_2503.05663/./Plots/CMF_sim_overplot_cumulative_test_new_LM_comp_excl_ff_compl_v2.png', 'tmp_2503.05663/./Plots/Mcore_max+min-L_M_Merr_v4.png', 'tmp_2503.05663/./Plots/Mcore_max-Total_Mcore-Mcore_max_ccL_M_v5.png', 'tmp_2503.05663/./Plots/beam_circ_near-far_hist_norm.png', 'tmp_2503.05663/./Plots/beam_circ_lin_size_hist_overplot.png']\n",
      "copying  tmp_2503.05663/./Plots/CMF_sim_overplot_cumulative_test_new_LM_comp_excl_ff_compl_v2.png to _build/html/\n",
      "copying  tmp_2503.05663/./Plots/Mcore_max+min-L_M_Merr_v4.png to _build/html/\n",
      "copying  tmp_2503.05663/./Plots/Mcore_max-Total_Mcore-Mcore_max_ccL_M_v5.png to _build/html/\n",
      "copying  tmp_2503.05663/./Plots/beam_circ_near-far_hist_norm.png to _build/html/\n",
      "copying  tmp_2503.05663/./Plots/beam_circ_lin_size_hist_overplot.png to _build/html/\n",
      "exported in  _build/html/2503.05663.md\n",
      "    + _build/html/tmp_2503.05663/./Plots/CMF_sim_overplot_cumulative_test_new_LM_comp_excl_ff_compl_v2.png\n",
      "    + _build/html/tmp_2503.05663/./Plots/Mcore_max+min-L_M_Merr_v4.png\n",
      "    + _build/html/tmp_2503.05663/./Plots/Mcore_max-Total_Mcore-Mcore_max_ccL_M_v5.png\n",
      "    + _build/html/tmp_2503.05663/./Plots/beam_circ_near-far_hist_norm.png\n",
      "    + _build/html/tmp_2503.05663/./Plots/beam_circ_lin_size_hist_overplot.png\n"
     ]
    }
   ],
   "source": [
    "for paper_id, md in documents:\n",
    "    export_markdown_summary(md, f\"{paper_id:s}.md\", '_build/html/')"
   ]
  },
  {
   "cell_type": "markdown",
   "id": "f087a0a7",
   "metadata": {
    "papermill": {
     "duration": 0.005847,
     "end_time": "2025-03-10T04:14:21.347395",
     "exception": false,
     "start_time": "2025-03-10T04:14:21.341548",
     "status": "completed"
    },
    "tags": []
   },
   "source": [
    "## Display the papers\n",
    "\n",
    "Not necessary but allows for a quick check."
   ]
  },
  {
   "cell_type": "code",
   "execution_count": 9,
   "id": "fd25f625",
   "metadata": {
    "execution": {
     "iopub.execute_input": "2025-03-10T04:14:21.360664Z",
     "iopub.status.busy": "2025-03-10T04:14:21.360113Z",
     "iopub.status.idle": "2025-03-10T04:14:21.368291Z",
     "shell.execute_reply": "2025-03-10T04:14:21.367782Z"
    },
    "papermill": {
     "duration": 0.015946,
     "end_time": "2025-03-10T04:14:21.369253",
     "exception": false,
     "start_time": "2025-03-10T04:14:21.353307",
     "status": "completed"
    },
    "scrolled": false,
    "tags": []
   },
   "outputs": [
    {
     "data": {
      "text/markdown": [
       "<div class=\"macros\" style=\"visibility:hidden;\">\n",
       "$\\newcommand{\\ensuremath}{}$\n",
       "$\\newcommand{\\xspace}{}$\n",
       "$\\newcommand{\\object}[1]{\\texttt{#1}}$\n",
       "$\\newcommand{\\farcs}{{.}''}$\n",
       "$\\newcommand{\\farcm}{{.}'}$\n",
       "$\\newcommand{\\arcsec}{''}$\n",
       "$\\newcommand{\\arcmin}{'}$\n",
       "$\\newcommand{\\ion}[2]{#1#2}$\n",
       "$\\newcommand{\\textsc}[1]{\\textrm{#1}}$\n",
       "$\\newcommand{\\hl}[1]{\\textrm{#1}}$\n",
       "$\\newcommand{\\footnote}[1]{}$\n",
       "$\\newcommand{\\vdag}{(v)^\\dagger}$\n",
       "$\\newcommand$\n",
       "$\\newcommand$\n",
       "$\\newcommand{\\todo}[1]{{\\textcolor{red}{TODO: #1}}}$\n",
       "$\\newcommand$\n",
       "$\\newcommand{\\revision}[1]{{\\textcolor{blue}{\\textbf{#1}}}}$\n",
       "$\\newcommand{\\sectionautorefname}{Section}$\n",
       "$\\newcommand{\\subsectionautorefname}{Section}$\n",
       "$\\newcommand{\\subsubsectionautorefname}{Section}$\n",
       "$\\newcommand{\\figureautorefname}{Fig.}$</div>\n",
       "\n",
       "\n",
       "\n",
       "<div id=\"title\">\n",
       "\n",
       "# oMEGACat. VI. Analysis of the overall kinematics of Omega Centauri in 3D: velocity dispersion, kinematic distance, anisotropy, and energy equipartition\n",
       "\n",
       "</div>\n",
       "<div id=\"comments\">\n",
       "\n",
       "[![arXiv](https://img.shields.io/badge/arXiv-2503.04903-b31b1b.svg)](https://arxiv.org/abs/2503.04903)<mark>Appeared on: 2025-03-10</mark> -  _31 pages, 23 Figures, 4 Tables. Accepted for publication in ApJ. Data products available under: this https URL_\n",
       "\n",
       "</div>\n",
       "<div id=\"authors\">\n",
       "\n",
       "<mark>M. Häberle</mark>, et al. -- incl., <mark>N. Neumayer</mark>, <mark>C. Clontz</mark>\n",
       "\n",
       "</div>\n",
       "<div id=\"abstract\">\n",
       "\n",
       "**Abstract:** Omega Centauri ( $\\omc$ ) is the Milky Way's most massive globular cluster and is likely the stripped nucleus of an accreted dwarf galaxy. In this paper, we analyze $\\omc$ 's kinematics using data from oMEGACat, a comprehensive catalog of $\\omc$ 's central regions, including 1.4 million proper motion measurements and 300,000 spectroscopic radial velocities.  Our velocity dispersion profiles and kinematic maps are consistent with previous work but improve on their resolution, precision, and spatial coverage.  The cluster's 3D dispersion is isotropic in the core, with increasing radial anisotropy at larger radii. The 2D kinematic maps show an elongation of the velocity dispersion field comparable to the flattening observed photometrically.We find good agreement between proper motions and line-of-sight velocity dispersion and measure a kinematic distance of $5494\\pm61$ pc, the most precise kinematic distance to $\\omc$ available.The subset of data with precise metallicity measurements shows no correlation between metallicity and kinematics, supporting the picture of well-mixed stellar populations within the half-light radius of $\\omc$ .Finally, we study the degree of energy equipartition using a large range of stellar masses. We find partial energy equipartition in the center that decreases towards large radii. The spatial dependence of the radial energy equipartition is stronger than the tangential energy equipartition.Our kinematic observations can serve as a new reference for future dynamical modeling efforts that will help to further disentangle the complex mass distribution within $\\omc$ .\n",
       "\n",
       "</div>\n",
       "\n",
       "<div id=\"div_fig1\">\n",
       "\n",
       "<img src=\"tmp_2503.04903/./revision1_old_data_velocity_dispersion_map_n250_with_zoom.png\" alt=\"Fig9\" width=\"100%\"/>\n",
       "\n",
       "**Figure 9. -** Dispersion map combining both proper motion components and determined using $N=250$ Voronoi bins. The right panel shows a zoom into the centermost arcminute with the numerical values (in mas yr$^{-1}$) for the individual bins shown in black letters. (*fig:voronoi_map_proper_motion*)\n",
       "\n",
       "</div>\n",
       "<div id=\"div_fig2\">\n",
       "\n",
       "<img src=\"tmp_2503.04903/./velocity_dispersion_Gaussian_Fits.png\" alt=\"Fig10\" width=\"100%\"/>\n",
       "\n",
       "**Figure 10. -** _Top:_ Result of a single component 2D Gaussian fit to the 2D proper motion dispersion field shown from \\autoref{fig:voronoi_map_proper_motion}. The _left_ shows the result, the _center_ shows the residuals, which are in good agreement besides an underestimation of the cusp of the velocity dispersion in the centermost region, and the _right_ shows the parameters of the Gaussian fit. _Bottom:_ Results for a 2-component 2D Gaussian fit. This 2-component model is better able to describe the velocity dispersion in the innermost region, as can be seen from the residuals. Both models successfully recover the ellipticity and the position angle of the dispersion field. (*fig:voronoi_map_gaussian_fit*)\n",
       "\n",
       "</div>\n",
       "<div id=\"div_fig3\">\n",
       "\n",
       "<img src=\"tmp_2503.04903/./revision1_watkins_comparison.png\" alt=\"Fig2\" width=\"100%\"/>\n",
       "\n",
       "**Figure 2. -** Proper motion dispersion profiles determined using the new oMEGACat (black markers). We compare the new dispersion measurements with the literature profile by \\citetalias{2015ApJ...803...29W}(blue markers). For better comparability, in the _top panel_ we restrict our data set to bright stars and use a binning scheme similar to the literature. In the _center panel_ we use logarithmic radial bins and the full high-quality subset. In the _bottom panel_ we compare the anisotropy, again using the bright sample only. (*fig:watkins_comparison*)\n",
       "\n",
       "</div><div id=\"qrcode\"><img src=https://api.qrserver.com/v1/create-qr-code/?size=100x100&data=\"https://arxiv.org/abs/2503.04903\"></div>"
      ],
      "text/plain": [
       "<IPython.core.display.Markdown object>"
      ]
     },
     "metadata": {},
     "output_type": "display_data"
    },
    {
     "data": {
      "text/markdown": [
       "<div class=\"macros\" style=\"visibility:hidden;\">\n",
       "$\\newcommand{\\ensuremath}{}$\n",
       "$\\newcommand{\\xspace}{}$\n",
       "$\\newcommand{\\object}[1]{\\texttt{#1}}$\n",
       "$\\newcommand{\\farcs}{{.}''}$\n",
       "$\\newcommand{\\farcm}{{.}'}$\n",
       "$\\newcommand{\\arcsec}{''}$\n",
       "$\\newcommand{\\arcmin}{'}$\n",
       "$\\newcommand{\\ion}[2]{#1#2}$\n",
       "$\\newcommand{\\textsc}[1]{\\textrm{#1}}$\n",
       "$\\newcommand{\\hl}[1]{\\textrm{#1}}$\n",
       "$\\newcommand{\\footnote}[1]{}$\n",
       "$\\newcommand{\\kms}{km s^{-1}}$\n",
       "$\\newcommand{\\msun}{M_{\\odot}}$\n",
       "$\\newcommand{\\lsun}{L_{\\odot}}$\n",
       "$\\newcommand{\\lbol}{L_{\\mathrm{bol}}}$\n",
       "$\\newcommand{\\um}{\\mum}$\n",
       "$\\newcommand{\\adeg}{^{\\circ}}$\n",
       "$\\newcommand{\\hi}{H{\\sc i}}$\n",
       "$\\newcommand{\\hii}{H{\\sc ii}}$\n",
       "$\\newcommand{\\chiiicn}{CH_3CN (12--11)}$\n",
       "$\\newcommand{\\chiiitcn}{CH_3^{13}CN (12--11)}$\n",
       "$\\newcommand{\\hiico}{H_2CO}$\n",
       "$\\newcommand{\\chiiioh}{CH_3OH}$\n",
       "$\\newcommand{\\dcn}{DCN (3 -- 2)}$\n",
       "$\\newcommand{\\ocs}{OCS (19 -- 18)}$\n",
       "$\\newcommand{\\hciiin}{HC_3N(24 -- 23)}$\n",
       "$\\newcommand{\\so}{SO (6_5 -- 5_4)}$\n",
       "$\\newcommand{\\sio}{SiO (5 -- 4)}$\n",
       "$\\newcommand{\\tco}{^{13}CO (2--1)}$\n",
       "$\\newcommand{\\ceo}{C^{18}O (2--1)}$\n",
       "$\\newcommand{\\vlsr}{v_{\\rm LSR}}$\n",
       "$\\newcommand{\\gcmtwo}{g cm^{-2}}$\n",
       "$\\newcommand{\\asec}{^{\\prime \\prime}}$\n",
       "$\\newcommand{\\deltacirc}{\\Delta^{\\rm circ} _{5\\sigma}}$\n",
       "$\\newcommand{\\qhull}{Q^{\\rm hull} _{5\\sigma}}$\n",
       "$\\newcommand{\\fres}{\\textit{\\sc 7m+tm2+tm1}}$\n",
       "$\\newcommand{\\ires}{\\textit{\\sc 7m+tm2}}$\n",
       "$\\newcommand{\\lres}{\\textit{\\sc 7m}}$\n",
       "$\\newcommand{\\n}{\"near\"}$\n",
       "$\\newcommand{\\f}{\"far\"}$\n",
       "$\\newcommand{\\cpear}{r_P}$\n",
       "$\\newcommand{\\revision}[1]{\\textbf{\\color{red} #1}}$\n",
       "$\\newcommand{\\nhigal}{915}$\n",
       "$\\newcommand{\\nrms}{98}$\n",
       "$\\newcommand{\\nall}{1013}$\n",
       "$\\newcommand{\\nvlim}{77}$\n",
       "$\\newcommand{\\ndnf}{24}$\n",
       "$\\newcommand{\\ndfn}{39}$\n",
       "$\\newcommand{\\ndfiveh}{95}$\n",
       "$\\newcommand{\\nkdanewcommandnear}{7}$\n",
       "$\\newcommand{\\nnewcommandnear}{7}$\n",
       "$\\newcommand{\\samplen}{538}$\n",
       "$\\newcommand{\\samplef}{479}$</div>\n",
       "\n",
       "\n",
       "\n",
       "<div id=\"title\">\n",
       "\n",
       "# ALMAGAL I. The ALMA evolutionary study of high-mass protocluster formation in the Galaxy: Presentation of the survey and early results\n",
       "\n",
       "</div>\n",
       "<div id=\"comments\">\n",
       "\n",
       "[![arXiv](https://img.shields.io/badge/arXiv-2503.05555-b31b1b.svg)](https://arxiv.org/abs/2503.05555)<mark>Appeared on: 2025-03-10</mark> -  _21 pages, 18 figures plus appendices. Astronomy & Astrophysics, accepted_\n",
       "\n",
       "</div>\n",
       "<div id=\"authors\">\n",
       "\n",
       "S. Molinari, et al. -- incl., <mark>H. Beuther</mark>, <mark>M. Wells</mark>, <mark>T. Henning</mark>\n",
       "\n",
       "</div>\n",
       "<div id=\"abstract\">\n",
       "\n",
       "**Abstract:** A large fraction of stars form in clusters containing high-mass stars, which subsequently influences the local and galaxy-wide environment. Fundamental questions about the physics responsible for fragmenting molecular parsec-scale clumps into cores of a few thousand astronomical units (au)  are still open, that only a statistically significant investigation with ALMA is able to address; for instance: the identification of the dominant agents  that determine the core demographics, mass, and spatial distribution as a function of the physical properties of the hosting clumps, their evolutionary stage and the different Galactic environments in which they reside. The extent to which fragmentation is driven by clumps dynamics or mass transport in filaments also remains elusive. With the ALMAGAL project, we observed the 1.38 mm continuum and lines toward more than 1000 dense clumps in our Galaxy, with $M \\geq$ 500 $\\msun$ , $\\Sigma\\geq 0.1$ $\\gcmtwo$ and $d$ $\\leq$ 7.5 kiloparsec (kpc). Two different combinations of ALMA Compact Array (ACA) and 12-m array setups were used to deliver a minimum resolution of $\\sim$ 1000 au over the entire sample distance range. The sample covers all evolutionary stages from infrared dark clouds (IRDCs) to $\\hii$ regions from the tip of the Galactic bar  to the outskirts of the Galaxy. With a continuum sensitivity of 0.1 mJy, ALMAGAL enables a complete study of the clump-to-core fragmentation process down to $M\\sim 0.3 $ ${\\msun}$ across the Galaxy. The spectral setup includes several molecular lines to trace the multiscale physics and dynamics of gas, notably $CH_3$ CN, $H_2$ CO, SiO, $CH_3$ OH, DCN, $HC_3$ N, and SO, among others. We present an initial overview of the observations and the early science product and results produced in the ALMAGAL Consortium, with a first characterization of the morphological properties of the continuum emission detected above 5 $\\sigma$ in our fields. We used \"perimeter-versus-area\" and convex hull-versus-area metrics to classify the different morphologies. We find that more extended and morphologically complex (significantly departing from circular or generally convex) shapes are found toward clumps that are relatively more evolved and have higher surface densities. ALMAGAL is poised to  serve as a game-changer for a number of specific issues in star formation: clump-to-core fragmentation processes, demographics of cores, core and clump gas chemistry and dynamics, infall and outflow dynamics, and disk detections. Many of these issues will  be covered in the first generation of papers that closely follow on the present publication.\n",
       "\n",
       "</div>\n",
       "\n",
       "<div id=\"div_fig1\">\n",
       "\n",
       "<img src=\"tmp_2503.05555/./emissionarea-vs-surfdens_tm1_nsig5.png\" alt=\"Fig5\" width=\"100%\"/>\n",
       "\n",
       "**Figure 5. -** ALMA 1.38 mm total emission area above 5$\\sigma$ in $\\fres$ images as a function of the clump surface density from Table 1. The green symbols are for target clumps with $L/M\\geq$5. The red histogram reports the fractional distribution of the surface density  for ALMAGAL sources with no 5$\\sigma$ detection (to be read on the red right $y$-axis). (*roi-area_surf_d*)\n",
       "\n",
       "</div>\n",
       "<div id=\"div_fig2\">\n",
       "\n",
       "<img src=\"tmp_2503.05555/./almagal_updated_galpos_Final.png\" alt=\"Fig20.1\" width=\"50%\"/><img src=\"tmp_2503.05555/./LM_4paper0a_v2.png\" alt=\"Fig20.2\" width=\"50%\"/>\n",
       "\n",
       "**Figure 20. -** (a) Galactic distribution of ALMAGAL target clumps are shown on the left, with a symbol size of $\\propto$Log($M_c$) (clump mass) and color coded by $\\Sigma_c$(surface density), as determined from the Hi-GAL data (non-beam-deconvolved), reflecting the updated distances and physical parameters described in Sect. \\ref{revision} and reported in Table 1, available at the CDS. Dotted circles represent 1 kpc distance interval centered on the Sun and the plus symbol marks the location of the Galactic Center. The blue dashed circle marks the distance threshold used to split the target sample among the two ALMA antenna configurations designed to provide a minimum 1000 au linear resolution. The red circle marks the 7.5 kpc distance originally used as an upper limit for source selection. b)  L$_{bol}$/M$_{clump}$ plot for the 1017 selected clumps (color-coded by T$_{dust}$) is shown on the right.\n",
       "  Asterisks indicate Hi-GAL sample sources associated with $\\hi$i regions from the surveys of CORNISH  ([Purcell, Hoare and Cotton 2013]()) , and CORNISH-S  ([Irabor, Hoare and Burton 2023]()) .\n",
       "   (*sample_fig*)\n",
       "\n",
       "</div>\n",
       "<div id=\"div_fig3\">\n",
       "\n",
       "<img src=\"tmp_2503.05555/./circ-depart_total_tm1_nsig5-vs-SURF_D.png\" alt=\"Fig9\" width=\"100%\"/>\n",
       "\n",
       "**Figure 9. -** Departure from circularity, $\\deltacirc$, of the total of the 5$\\sigma$ ALMA emission RoIs in each field as a function of the clump surface density. The red asterisks are the medians of $\\deltacirc$ in logarithmic bins of surface density. (*deltacirc_surfd_fig*)\n",
       "\n",
       "</div><div id=\"qrcode\"><img src=https://api.qrserver.com/v1/create-qr-code/?size=100x100&data=\"https://arxiv.org/abs/2503.05555\"></div>"
      ],
      "text/plain": [
       "<IPython.core.display.Markdown object>"
      ]
     },
     "metadata": {},
     "output_type": "display_data"
    },
    {
     "data": {
      "text/markdown": [
       "<div class=\"macros\" style=\"visibility:hidden;\">\n",
       "$\\newcommand{\\ensuremath}{}$\n",
       "$\\newcommand{\\xspace}{}$\n",
       "$\\newcommand{\\object}[1]{\\texttt{#1}}$\n",
       "$\\newcommand{\\farcs}{{.}''}$\n",
       "$\\newcommand{\\farcm}{{.}'}$\n",
       "$\\newcommand{\\arcsec}{''}$\n",
       "$\\newcommand{\\arcmin}{'}$\n",
       "$\\newcommand{\\ion}[2]{#1#2}$\n",
       "$\\newcommand{\\textsc}[1]{\\textrm{#1}}$\n",
       "$\\newcommand{\\hl}[1]{\\textrm{#1}}$\n",
       "$\\newcommand{\\footnote}[1]{}$\n",
       "$\\newcommand{\\phn}{\\phantom{0}}$\n",
       "$\\newcommand{\\phs}{\\phantom{<}}$\n",
       "$\\newcommand{\\hii}{\\ion{H}{ii}}$</div>\n",
       "\n",
       "\n",
       "\n",
       "<div id=\"title\">\n",
       "\n",
       "# ALMAGAL II. The ALMA evolutionary study of high-mass protocluster formation in the Galaxy: ALMA data processing and pipeline\n",
       "\n",
       "</div>\n",
       "<div id=\"comments\">\n",
       "\n",
       "[![arXiv](https://img.shields.io/badge/arXiv-2503.05559-b31b1b.svg)](https://arxiv.org/abs/2503.05559)<mark>Appeared on: 2025-03-10</mark> -  _29 pages, 23 figures, accepted for publication in the Astronomy & Astrophysics journal, abstract adapted from original_\n",
       "\n",
       "</div>\n",
       "<div id=\"authors\">\n",
       "\n",
       "Á. Sánchez-Monge, et al. -- incl., <mark>H. Beuther</mark>, <mark>T. Henning</mark>\n",
       "\n",
       "</div>\n",
       "<div id=\"abstract\">\n",
       "\n",
       "**Abstract:** Stars form preferentially in clusters embedded inside massive molecular clouds, many of which contain high-mass stars. Thus, a comprehensive understanding of star formation requires a robust and statistically well-constrained characterization of the formation and early evolution of these high-mass star clusters. To achieve this, we designed the ALMAGAL Large Program that observed 1017 high-mass star-forming regions distributed throughout the Galaxy, sampling different evolutionary stages and environmental conditions. In this work, we present the acquisition and processing of the ALMAGAL data. The main goal is to set up a robust pipeline that generates science-ready products, that is, continuum and spectral cubes for each ALMAGAL field, with a good and uniform quality across the whole sample. ALMAGAL observations were performed with the Atacama Large Millimeter/submillimeter Array (ALMA). Each field was observed in three different telescope arrays, being sensitive to spatial scales ranging from $\\approx1000$ au up to $\\approx0.1$ pc. The spectral setup allows sensitive ( $\\approx0.1$ mJy beam $^{-1}$ ) imaging of the continuum emission at 219 GHz (or 1.38 mm), and it covers multiple molecular spectral lines observed in four different spectral windows that span about $\\approx4$ GHz in frequency coverage. We have designed a Python-based processing workflow to calibrate and image these observational data. This ALMAGAL pipeline includes an improved continuum determination, suited for line-rich sources; an automatic self-calibration process that reduces phase-noise fluctuations and improves the dynamical range by up to a factor $\\approx5$ in about 15 \\% of the fields; and the combination of data from different telescope arrays to produce science-ready, fully combined images. The final products are a set of uniformly generated continuum images and spectral cubes for each ALMAGAL field, including individual-array and combined-array products.The fully combined products have spatial resolutions in the range 800--2000 au, and mass sensitivities in the range 0.02--0.07 $M_\\odot$ . We also present a first analysis of the spectral line information included in the ALMAGAL setup, and its potential for future scientific studies. As an example, specific spectral lines (e.g., SiO and $CH_3$ CN) at $\\approx1000$ au scales resolve the presence of multiple outflows in clusters and will help us to search for disk candidates around massive protostars. Moreover, the broad frequency bands provide information on the chemical richness of the different cluster members, which can be used to study the chemical evolution during the formation process of star clusters.\n",
       "\n",
       "</div>\n",
       "\n",
       "<div id=\"div_fig1\">\n",
       "\n",
       "<img src=\"tmp_2503.05559/./plot_jointdeconvolutionExamples_101899_noGrid.png\" alt=\"Fig15\" width=\"100%\"/>\n",
       "\n",
       "**Figure 15. -** Joint-deconvolution imaging strategy used in the ALMAGAL processing workflow. The target used as an example is the ALMAGAL field 101899 (also labelled AG023.0108$-$0.4102 in \\citealt{Molinari2024}). The different columns show from left to right: CLEANed image, residual image, CLEANing mask, and histogram of residual emission. The different rows show the four main steps of the iterative CLEANing process (see details in Sect. \\ref{sec:joint-deconvolution}). Note that in Step 1, there is no starting CLEANing mask and the output (shown in the panel) is generated from the multi-thresh automasking functionalities of \\texttt{tclean}. (*fig:imaging-strategy*)\n",
       "\n",
       "</div>\n",
       "<div id=\"div_fig2\">\n",
       "\n",
       "<img src=\"tmp_2503.05559/./plot_beamInformation_noGrid.png\" alt=\"Fig20\" width=\"100%\"/>\n",
       "\n",
       "**Figure 20. -** Distribution of the beam properties for the ALMAGAL images. The $y$-axis in all panels depicts the number of images. From top to bottom, each row corresponds to the images for the 7M, TM2, TM1, 7M+TM2, and 7M+TM2+TM1 array configurations. The columns show from left to right, the beam major axis ($\\theta_\\mathrm{maj}$), the beam minor axis ($\\theta_\\mathrm{min}$), and the beam elongation ($\\theta_\\mathrm{maj}/\\theta_\\mathrm{min}$). Light and dark histograms correspond to the \"near\" and \"far\" samples, respectively. (*fig:beam-properties*)\n",
       "\n",
       "</div>\n",
       "<div id=\"div_fig3\">\n",
       "\n",
       "<img src=\"tmp_2503.05559/./plot_rmsContInformation_noGrid.png\" alt=\"Fig21\" width=\"100%\"/>\n",
       "\n",
       "**Figure 21. -** Distribution of the noise level (left column), peak intensity (central column), and dynamic range (right column) for the continuum ALMAGAL images. The $y$-axis in all panels depicts the number of images. From top to bottom, each row corresponds to the images for the 7M, TM2, TM1, 7M+TM2, and 7M+TM2+TM1 array configurations. The dynamic range (or signal-to-noise ratio) is determined as the ratio between the peak intensity and the noise level, with the noise level derived as the median absolute deviation (MAD) of the residual image (see Sect. \\ref{sec:QAintensity}). (*fig:continuum-properties*)\n",
       "\n",
       "</div><div id=\"qrcode\"><img src=https://api.qrserver.com/v1/create-qr-code/?size=100x100&data=\"https://arxiv.org/abs/2503.05559\"></div>"
      ],
      "text/plain": [
       "<IPython.core.display.Markdown object>"
      ]
     },
     "metadata": {},
     "output_type": "display_data"
    },
    {
     "data": {
      "text/markdown": [
       "<div class=\"macros\" style=\"visibility:hidden;\">\n",
       "$\\newcommand{\\ensuremath}{}$\n",
       "$\\newcommand{\\xspace}{}$\n",
       "$\\newcommand{\\object}[1]{\\texttt{#1}}$\n",
       "$\\newcommand{\\farcs}{{.}''}$\n",
       "$\\newcommand{\\farcm}{{.}'}$\n",
       "$\\newcommand{\\arcsec}{''}$\n",
       "$\\newcommand{\\arcmin}{'}$\n",
       "$\\newcommand{\\ion}[2]{#1#2}$\n",
       "$\\newcommand{\\textsc}[1]{\\textrm{#1}}$\n",
       "$\\newcommand{\\hl}[1]{\\textrm{#1}}$\n",
       "$\\newcommand{\\footnote}[1]{}$\n",
       "$\\newcommand{\\juan}[1]{{\\bf #1}}$</div>\n",
       "\n",
       "\n",
       "\n",
       "<div id=\"title\">\n",
       "\n",
       "# ALMAGAL III. Compact source catalog: Fragmentation statistics and physical evolution of the core population\n",
       "\n",
       "</div>\n",
       "<div id=\"comments\">\n",
       "\n",
       "[![arXiv](https://img.shields.io/badge/arXiv-2503.05663-b31b1b.svg)](https://arxiv.org/abs/2503.05663)<mark>Appeared on: 2025-03-10</mark> -  _35 pages, 63 figures, accepted for publication in the Astronomy & Astrophysics journal, abstract adapted from original_\n",
       "\n",
       "</div>\n",
       "<div id=\"authors\">\n",
       "\n",
       "A. Coletta, et al. -- incl., <mark>H. Beuther</mark>\n",
       "\n",
       "</div>\n",
       "<div id=\"abstract\">\n",
       "\n",
       "**Abstract:** The physical mechanisms behind the fragmentation of high-mass dense clumps into compact star-forming cores and the properties of these cores are fundamental topics that are heavily investigated in current astrophysical research. The ALMAGAL survey provides the opportunity to study this process at an unprecedented level of detail and statistical significance, featuring high-angular resolution $1.38$ mm ALMA observations of $1013$ massive dense clumps at various Galactic locations. These clumps cover a wide range of distances ( $\\sim2-8$ kpc), masses ( $\\sim10^{2}-10^{4} \\mathrm{M_{\\odot}}$ ), surface densities ( $0.1-10$ g $\\mathrm{cm^{-2}}$ ), and evolutionary stages (luminosity over mass ratio indicator of $\\sim0.05<L/M<450 \\mathrm{L_{\\odot}/M_{\\odot}}$ ).Here, we present the catalog of compact sources obtained with the _CuTEx_ algorithm from continuum images of the full ALMAGAL clump sample combining ACA- $7$ m and $12$ m ALMA arrays, reaching a uniform high median spatial resolution of $\\sim1400$ au (down to $\\sim800$ au). We characterize and discuss the revealed fragmentation properties and the photometric and estimated physical parameters of the core population.The ALMAGAL compact source catalog   includes $6348$ cores detected in $844$ clumps ( $83\\%$ of the total), with a number of cores per clump between $1$ and $49$ (median of $5$ ). The estimated core diameters are mostly within $\\sim800-3000$ au (median of $1700$ au). We assigned core temperatures based on the $L/M$ of the hosting clump, and obtained core masses from $0.002$ to $345 \\mathrm{M_{\\odot}}$ (complete above $0.23 \\mathrm{M_{\\odot}}$ ), exhibiting a good correlation with the core radii ( $M\\propto R^{2.6}$ ).We evaluated the variation in the core mass function (CMF) with evolution as traced by the clump $L/M$ , finding a clear, robust shift and change in slope among CMFs within subsamples at different stages. This finding suggests that the CMF shape is not constant throughout the star formation process, but rather it builds (and flattens) with evolution, with higher core masses reached at later stages.We found that all cores within a clump grow in mass on average with evolution, while a population of possibly newly formed lower-mass cores is present throughout. The number of cores increases with the core masses, at least until the most massive core reaches $\\sim10 \\mathrm{M_{\\odot}}$ .More generally, our results favor a clump-fed scenario for high-mass star formation, in which cores form as low-mass seeds, and then gain mass while further fragmentation occurs in the clump.\n",
       "\n",
       "</div>\n",
       "\n",
       "<div id=\"div_fig1\">\n",
       "\n",
       "<img src=\"tmp_2503.05663/./Plots/CMF_sim_overplot_cumulative_test_new_LM_comp_excl_ff_compl_v2.png\" alt=\"Fig7\" width=\"100%\"/>\n",
       "\n",
       "**Figure 7. -** Observed CMFs (black lines, expressed as inverse cumulative number density distributions) for the three populations of ALMAGAL cores classified, as reported, according to the $L/M$ evolutionary indicator of the hosting clump, as explained in Sect. \\ref{Tcore_model}. The three colored bands trace, for each population, the $1000$ MC realizations of CMFs computed by assigning to each core a random temperature within the ranges defined in Table \\ref{Tcore_tab}. Less evolved sources (i.e., with $L/M\\leq1  \\mathrm{L_{\\odot}/M_{\\odot}}$) are marked by golden lines, the intermediate ones ($1<L/M\\leq10  \\mathrm{L_{\\odot}/M_{\\odot}}$) by green lines, and the more evolved sources ($L/M>10 \\mathrm{L_{\\odot}/M_{\\odot}}$) by blue lines. Note: we include only cores above the mass completeness value of $0.23 \\mathrm{M_{\\odot}}$, marked by the vertical dashed magenta line (see text for explanation). (*CMF_evolution*)\n",
       "\n",
       "</div>\n",
       "<div id=\"div_fig2\">\n",
       "\n",
       "<img src=\"tmp_2503.05663/./Plots/Mcore_max+min-L_M_Merr_v4.png\" alt=\"Fig25.1\" width=\"50%\"/><img src=\"tmp_2503.05663/./Plots/Mcore_max-Total_Mcore-Mcore_max_ccL_M_v5.png\" alt=\"Fig25.2\" width=\"50%\"/>\n",
       "\n",
       "**Figure 25. -** Evolution of core masses. _Left panel_: Median values of the maximum ($M_{\\rm{core}}^{\\rm{max}}$, red) and the minimum ($M_{\\rm{core}}^{\\rm{min}}$, blue) core masses revealed within different bins of clump $L/M$(delimited by vertical dashed grey lines). The respective colored shaded areas mark the 25th and 75th percentiles of the two distributions within the same $L/M$ bins.\n",
       "    _Right panel_: Combined mass of the cores ($M_{\\rm{core}}^{\\rm{tot}}$) minus the mass of the MMC within each clump, as a function of the latter. Data points are color-coded by the clump $L/M$. The solid black line draws the trend of the median value of the quantity on the $y$-axis in given bins of $M_{\\rm{core}}^{\\rm{max}}$. The dashed grey line corresponds to the $M_{\\rm{core}}^{\\rm{max}}=50\\% M_{\\rm{core}}^{\\rm{tot}}$ relation, while the shaded grey area marks (from top to bottom) the $25-75\\%$ range. (*core_mass_growth*)\n",
       "\n",
       "</div>\n",
       "<div id=\"div_fig3\">\n",
       "\n",
       "<img src=\"tmp_2503.05663/./Plots/beam_circ_near-far_hist_norm.png\" alt=\"Fig14.1\" width=\"50%\"/><img src=\"tmp_2503.05663/./Plots/beam_circ_lin_size_hist_overplot.png\" alt=\"Fig14.2\" width=\"50%\"/>\n",
       "\n",
       "**Figure 14. -** Beam properties of the ALMAGAL continuum maps. _Left panel_: Probability density distribution of the circularized angular sizes of the map beam, separately for near (red) and far (blue) observational samples, respectively (see \\citealt{Sanchez+25} for more details).\n",
       "    _Right panel_: Distribution of the corresponding linear sizes (i.e., achieved spatial resolution). The grey histogram represents the overall distribution, with the vertical dashed black line marking its median value ($1400$ au). Near and far subsamples are overplotted with the same color coding of the left panel.\n",
       "    It can be noted that, due to the distance variation across our sample, the bimodal distribution in the left panel converts into a fairly uniform beam linear size overall distribution (see text for details). (*beam_circ_props_plots*)\n",
       "\n",
       "</div><div id=\"qrcode\"><img src=https://api.qrserver.com/v1/create-qr-code/?size=100x100&data=\"https://arxiv.org/abs/2503.05663\"></div>"
      ],
      "text/plain": [
       "<IPython.core.display.Markdown object>"
      ]
     },
     "metadata": {},
     "output_type": "display_data"
    }
   ],
   "source": [
    "[display(Markdown(k[1])) for k in documents];"
   ]
  },
  {
   "cell_type": "markdown",
   "id": "873873a4",
   "metadata": {
    "papermill": {
     "duration": 0.006495,
     "end_time": "2025-03-10T04:14:21.382443",
     "exception": false,
     "start_time": "2025-03-10T04:14:21.375948",
     "status": "completed"
    },
    "tags": []
   },
   "source": [
    "# Create HTML index"
   ]
  },
  {
   "cell_type": "code",
   "execution_count": 10,
   "id": "cf665672",
   "metadata": {
    "execution": {
     "iopub.execute_input": "2025-03-10T04:14:21.396698Z",
     "iopub.status.busy": "2025-03-10T04:14:21.396232Z",
     "iopub.status.idle": "2025-03-10T04:14:21.405446Z",
     "shell.execute_reply": "2025-03-10T04:14:21.404824Z"
    },
    "papermill": {
     "duration": 0.017342,
     "end_time": "2025-03-10T04:14:21.406470",
     "exception": false,
     "start_time": "2025-03-10T04:14:21.389128",
     "status": "completed"
    },
    "tags": []
   },
   "outputs": [
    {
     "name": "stdout",
     "output_type": "stream",
     "text": [
      "356  publications files modified in the last 7 days.\n"
     ]
    }
   ],
   "source": [
    "from datetime import datetime, timedelta, timezone\n",
    "from glob import glob\n",
    "import os\n",
    "\n",
    "files = glob('_build/html/*.md')\n",
    "days = 7\n",
    "now = datetime.today()\n",
    "res = []\n",
    "for fk in files:\n",
    "    stat_result = os.stat(fk).st_ctime\n",
    "    modified = datetime.fromtimestamp(stat_result, tz=timezone.utc).replace(tzinfo=None)\n",
    "    delta = now.today() - modified\n",
    "    if delta <= timedelta(days=days):\n",
    "        res.append((delta.seconds, fk))\n",
    "res = [k[1] for k in reversed(sorted(res, key=lambda x:x[1]))]\n",
    "npub = len(res)\n",
    "print(len(res), f\" publications files modified in the last {days:d} days.\")\n",
    "# [ print('\\t', k) for k in res ];"
   ]
  },
  {
   "cell_type": "code",
   "execution_count": 11,
   "id": "015de740",
   "metadata": {
    "execution": {
     "iopub.execute_input": "2025-03-10T04:14:21.421132Z",
     "iopub.status.busy": "2025-03-10T04:14:21.420505Z",
     "iopub.status.idle": "2025-03-10T04:14:21.440025Z",
     "shell.execute_reply": "2025-03-10T04:14:21.439371Z"
    },
    "papermill": {
     "duration": 0.027835,
     "end_time": "2025-03-10T04:14:21.440985",
     "exception": false,
     "start_time": "2025-03-10T04:14:21.413150",
     "status": "completed"
    },
    "tags": []
   },
   "outputs": [
    {
     "name": "stdout",
     "output_type": "stream",
     "text": [
      "13  publications in the last 7 days.\n"
     ]
    }
   ],
   "source": [
    "import datetime\n",
    "from glob import glob\n",
    "\n",
    "def get_last_n_days(lst, days=1):\n",
    "    \"\"\" Get the documents from the last n days \"\"\"\n",
    "    sorted_lst = sorted(lst, key=lambda x: x[1], reverse=True)\n",
    "    for fname, date in sorted_lst:\n",
    "        if date >= str(datetime.date.today() - datetime.timedelta(days=days)):\n",
    "            yield fname\n",
    "\n",
    "def extract_appearance_dates(lst_file):\n",
    "    dates = []\n",
    "\n",
    "    def get_date(line):\n",
    "        return line\\\n",
    "            .split('Appeared on:')[-1]\\\n",
    "            .split('</mark>')[0].strip()\n",
    "\n",
    "    for fname in lst:\n",
    "        with open(fname, 'r') as f:\n",
    "            found_date = False\n",
    "            for line in f:\n",
    "                if not found_date:\n",
    "                    if \"Appeared on\" in line:\n",
    "                        found_date = True\n",
    "                        dates.append((fname, get_date(line)))\n",
    "                else:\n",
    "                    break\n",
    "    return dates\n",
    "\n",
    "from glob import glob\n",
    "lst = glob('_build/html/*md')\n",
    "days = 7\n",
    "dates = extract_appearance_dates(lst)\n",
    "res = list(get_last_n_days(dates, days))\n",
    "npub = len(res)\n",
    "print(len(res), f\" publications in the last {days:d} days.\")"
   ]
  },
  {
   "cell_type": "code",
   "execution_count": 12,
   "id": "52ca0208",
   "metadata": {
    "execution": {
     "iopub.execute_input": "2025-03-10T04:14:21.455692Z",
     "iopub.status.busy": "2025-03-10T04:14:21.455194Z",
     "iopub.status.idle": "2025-03-10T04:14:21.460196Z",
     "shell.execute_reply": "2025-03-10T04:14:21.459531Z"
    },
    "papermill": {
     "duration": 0.013326,
     "end_time": "2025-03-10T04:14:21.461190",
     "exception": false,
     "start_time": "2025-03-10T04:14:21.447864",
     "status": "completed"
    },
    "scrolled": false,
    "tags": []
   },
   "outputs": [],
   "source": [
    "def create_carousel(npub=4):\n",
    "    \"\"\" Generate the HTML code for a carousel with `npub` slides \"\"\"\n",
    "    carousel = [\"\"\"  <div class=\"carousel\" \"\"\",\n",
    "                \"\"\"       data-flickity='{ \"autoPlay\": 10000, \"adaptiveHeight\": true, \"resize\": true, \"wrapAround\": true, \"pauseAutoPlayOnHover\": true, \"groupCells\": 1 }' id=\"asyncTypeset\">\"\"\"\n",
    "                ]\n",
    "    \n",
    "    item_str = \"\"\"    <div class=\"carousel-cell\"> <div id=\"slide{k}\" class=\"md_view\">Content {k}</div> </div>\"\"\"\n",
    "    for k in range(1, npub + 1):\n",
    "        carousel.append(item_str.format(k=k))\n",
    "    carousel.append(\"  </div>\")\n",
    "    return '\\n'.join(carousel)\n",
    "\n",
    "def create_grid(npub=4):\n",
    "    \"\"\" Generate the HTML code for a flat grid with `npub` slides \"\"\"\n",
    "    grid = [\"\"\"  <div class=\"grid\"> \"\"\",\n",
    "                ]\n",
    "    \n",
    "    item_str = \"\"\"    <div class=\"grid-item\"> <div id=\"slide{k}\" class=\"md_view\">Content {k}</div> </div>\"\"\"\n",
    "    for k in range(1, npub + 1):\n",
    "        grid.append(item_str.format(k=k))\n",
    "    grid.append(\"  </div>\")\n",
    "    return '\\n'.join(grid)"
   ]
  },
  {
   "cell_type": "code",
   "execution_count": 13,
   "id": "a6eac5b6",
   "metadata": {
    "execution": {
     "iopub.execute_input": "2025-03-10T04:14:21.475755Z",
     "iopub.status.busy": "2025-03-10T04:14:21.475335Z",
     "iopub.status.idle": "2025-03-10T04:14:21.480269Z",
     "shell.execute_reply": "2025-03-10T04:14:21.479745Z"
    },
    "papermill": {
     "duration": 0.013196,
     "end_time": "2025-03-10T04:14:21.481253",
     "exception": false,
     "start_time": "2025-03-10T04:14:21.468057",
     "status": "completed"
    },
    "scrolled": false,
    "tags": []
   },
   "outputs": [],
   "source": [
    "carousel = create_carousel(npub)\n",
    "docs = ', '.join(['\"{0:s}\"'.format(k.split('/')[-1]) for k in res])\n",
    "slides = ', '.join([f'\"slide{k}\"' for k in range(1, npub + 1)])\n",
    "\n",
    "with open(\"daily_template.html\", \"r\") as tpl:\n",
    "    page = tpl.read()\n",
    "    page = page.replace(\"{%-- carousel:s --%}\", carousel)\\\n",
    "               .replace(\"{%-- suptitle:s --%}\",  \"7-day archives\" )\\\n",
    "               .replace(\"{%-- docs:s --%}\", docs)\\\n",
    "               .replace(\"{%-- slides:s --%}\", slides)\n",
    "    \n",
    "with open(\"_build/html/index_7days.html\", 'w') as fout:\n",
    "    fout.write(page)"
   ]
  },
  {
   "cell_type": "code",
   "execution_count": 14,
   "id": "adc1a1ec",
   "metadata": {
    "execution": {
     "iopub.execute_input": "2025-03-10T04:14:21.495957Z",
     "iopub.status.busy": "2025-03-10T04:14:21.495543Z",
     "iopub.status.idle": "2025-03-10T04:14:21.502276Z",
     "shell.execute_reply": "2025-03-10T04:14:21.501732Z"
    },
    "papermill": {
     "duration": 0.015156,
     "end_time": "2025-03-10T04:14:21.503279",
     "exception": false,
     "start_time": "2025-03-10T04:14:21.488123",
     "status": "completed"
    },
    "tags": []
   },
   "outputs": [
    {
     "name": "stdout",
     "output_type": "stream",
     "text": [
      "4  publications in the last day.\n"
     ]
    }
   ],
   "source": [
    "# redo for today\n",
    "days = 1\n",
    "res = list(get_last_n_days(dates, days))\n",
    "npub = len(res)\n",
    "print(len(res), f\" publications in the last day.\")\n",
    "\n",
    "carousel = create_carousel(npub)\n",
    "docs = ', '.join(['\"{0:s}\"'.format(k.split('/')[-1]) for k in res])\n",
    "slides = ', '.join([f'\"slide{k}\"' for k in range(1, npub + 1)])\n",
    "\n",
    "with open(\"daily_template.html\", \"r\") as tpl:\n",
    "    page = tpl.read()\n",
    "    page = page.replace(\"{%-- carousel:s --%}\", carousel)\\\n",
    "               .replace(\"{%-- suptitle:s --%}\",  \"Daily\" )\\\n",
    "               .replace(\"{%-- docs:s --%}\", docs)\\\n",
    "               .replace(\"{%-- slides:s --%}\", slides)\n",
    "    \n",
    "# print(carousel, docs, slides)\n",
    "# print(page)\n",
    "with open(\"_build/html/index_daily.html\", 'w') as fout:\n",
    "    fout.write(page)"
   ]
  },
  {
   "cell_type": "code",
   "execution_count": 15,
   "id": "00eece82",
   "metadata": {
    "execution": {
     "iopub.execute_input": "2025-03-10T04:14:21.517780Z",
     "iopub.status.busy": "2025-03-10T04:14:21.517523Z",
     "iopub.status.idle": "2025-03-10T04:14:21.524126Z",
     "shell.execute_reply": "2025-03-10T04:14:21.523469Z"
    },
    "papermill": {
     "duration": 0.015056,
     "end_time": "2025-03-10T04:14:21.525188",
     "exception": false,
     "start_time": "2025-03-10T04:14:21.510132",
     "status": "completed"
    },
    "scrolled": false,
    "tags": []
   },
   "outputs": [
    {
     "name": "stdout",
     "output_type": "stream",
     "text": [
      "6  6 publications selected.\n"
     ]
    }
   ],
   "source": [
    "# Create the flat grid of the last N papers (fixed number regardless of dates)\n",
    "from itertools import islice \n",
    "\n",
    "npub = 6\n",
    "res = [k[0] for k in (islice(reversed(sorted(dates, key=lambda x: x[1])), 6))]\n",
    "print(len(res), f\" {npub} publications selected.\")\n",
    "\n",
    "grid = create_grid(npub)\n",
    "docs = ', '.join(['\"{0:s}\"'.format(k.split('/')[-1]) for k in res])\n",
    "slides = ', '.join([f'\"slide{k}\"' for k in range(1, npub + 1)])\n",
    "\n",
    "with open(\"grid_template.html\", \"r\") as tpl:\n",
    "    page = tpl.read()\n",
    "    page = page.replace(\"{%-- grid-content:s --%}\", grid)\\\n",
    "               .replace(\"{%-- suptitle:s --%}\",  f\"Last {npub:,d} papers\" )\\\n",
    "               .replace(\"{%-- docs:s --%}\", docs)\\\n",
    "               .replace(\"{%-- slides:s --%}\", slides)\n",
    "    \n",
    "# print(grid, docs, slides)\n",
    "# print(page)\n",
    "with open(\"_build/html/index_npub_grid.html\", 'w') as fout:\n",
    "    fout.write(page)"
   ]
  }
 ],
 "metadata": {
  "kernelspec": {
   "display_name": "Python 3 (ipykernel)",
   "language": "python",
   "name": "python3"
  },
  "language_info": {
   "codemirror_mode": {
    "name": "ipython",
    "version": 3
   },
   "file_extension": ".py",
   "mimetype": "text/x-python",
   "name": "python",
   "nbconvert_exporter": "python",
   "pygments_lexer": "ipython3",
   "version": "3.9.21"
  },
  "papermill": {
   "default_parameters": {},
   "duration": 275.458589,
   "end_time": "2025-03-10T04:14:21.748799",
   "environment_variables": {},
   "exception": null,
   "input_path": "MPIA daily digest.ipynb",
   "output_path": "log.ipynb",
   "parameters": {},
   "start_time": "2025-03-10T04:09:46.290210",
   "version": "2.6.0"
  },
  "vscode": {
   "interpreter": {
    "hash": "aee8b7b246df8f9039afb4144a1f6fd8d2ca17a180786b69acc140d282b71a49"
   }
  },
  "widgets": {
   "application/vnd.jupyter.widget-state+json": {
    "state": {
     "0a686577e5684b07a908b75aff0ea4e8": {
      "model_module": "@jupyter-widgets/base",
      "model_module_version": "2.0.0",
      "model_name": "LayoutModel",
      "state": {
       "_model_module": "@jupyter-widgets/base",
       "_model_module_version": "2.0.0",
       "_model_name": "LayoutModel",
       "_view_count": null,
       "_view_module": "@jupyter-widgets/base",
       "_view_module_version": "2.0.0",
       "_view_name": "LayoutView",
       "align_content": null,
       "align_items": null,
       "align_self": null,
       "border_bottom": null,
       "border_left": null,
       "border_right": null,
       "border_top": null,
       "bottom": null,
       "display": null,
       "flex": null,
       "flex_flow": null,
       "grid_area": null,
       "grid_auto_columns": null,
       "grid_auto_flow": null,
       "grid_auto_rows": null,
       "grid_column": null,
       "grid_gap": null,
       "grid_row": null,
       "grid_template_areas": null,
       "grid_template_columns": null,
       "grid_template_rows": null,
       "height": null,
       "justify_content": null,
       "justify_items": null,
       "left": null,
       "margin": null,
       "max_height": null,
       "max_width": null,
       "min_height": null,
       "min_width": null,
       "object_fit": null,
       "object_position": null,
       "order": null,
       "overflow": null,
       "padding": null,
       "right": null,
       "top": null,
       "visibility": null,
       "width": null
      }
     },
     "3aca4d47166d49149b7e358744909727": {
      "model_module": "@jupyter-widgets/base",
      "model_module_version": "2.0.0",
      "model_name": "LayoutModel",
      "state": {
       "_model_module": "@jupyter-widgets/base",
       "_model_module_version": "2.0.0",
       "_model_name": "LayoutModel",
       "_view_count": null,
       "_view_module": "@jupyter-widgets/base",
       "_view_module_version": "2.0.0",
       "_view_name": "LayoutView",
       "align_content": null,
       "align_items": null,
       "align_self": null,
       "border_bottom": null,
       "border_left": null,
       "border_right": null,
       "border_top": null,
       "bottom": null,
       "display": null,
       "flex": null,
       "flex_flow": null,
       "grid_area": null,
       "grid_auto_columns": null,
       "grid_auto_flow": null,
       "grid_auto_rows": null,
       "grid_column": null,
       "grid_gap": null,
       "grid_row": null,
       "grid_template_areas": null,
       "grid_template_columns": null,
       "grid_template_rows": null,
       "height": null,
       "justify_content": null,
       "justify_items": null,
       "left": null,
       "margin": null,
       "max_height": null,
       "max_width": null,
       "min_height": null,
       "min_width": null,
       "object_fit": null,
       "object_position": null,
       "order": null,
       "overflow": null,
       "padding": null,
       "right": null,
       "top": null,
       "visibility": null,
       "width": null
      }
     },
     "65cda13b9386446bba0e539c60ec0c78": {
      "model_module": "@jupyter-widgets/base",
      "model_module_version": "2.0.0",
      "model_name": "LayoutModel",
      "state": {
       "_model_module": "@jupyter-widgets/base",
       "_model_module_version": "2.0.0",
       "_model_name": "LayoutModel",
       "_view_count": null,
       "_view_module": "@jupyter-widgets/base",
       "_view_module_version": "2.0.0",
       "_view_name": "LayoutView",
       "align_content": null,
       "align_items": null,
       "align_self": null,
       "border_bottom": null,
       "border_left": null,
       "border_right": null,
       "border_top": null,
       "bottom": null,
       "display": null,
       "flex": null,
       "flex_flow": null,
       "grid_area": null,
       "grid_auto_columns": null,
       "grid_auto_flow": null,
       "grid_auto_rows": null,
       "grid_column": null,
       "grid_gap": null,
       "grid_row": null,
       "grid_template_areas": null,
       "grid_template_columns": null,
       "grid_template_rows": null,
       "height": null,
       "justify_content": null,
       "justify_items": null,
       "left": null,
       "margin": null,
       "max_height": null,
       "max_width": null,
       "min_height": null,
       "min_width": null,
       "object_fit": null,
       "object_position": null,
       "order": null,
       "overflow": null,
       "padding": null,
       "right": null,
       "top": null,
       "visibility": null,
       "width": null
      }
     },
     "6c61695e205a498a95cfd524ab59aad7": {
      "model_module": "@jupyter-widgets/base",
      "model_module_version": "2.0.0",
      "model_name": "LayoutModel",
      "state": {
       "_model_module": "@jupyter-widgets/base",
       "_model_module_version": "2.0.0",
       "_model_name": "LayoutModel",
       "_view_count": null,
       "_view_module": "@jupyter-widgets/base",
       "_view_module_version": "2.0.0",
       "_view_name": "LayoutView",
       "align_content": null,
       "align_items": null,
       "align_self": null,
       "border_bottom": null,
       "border_left": null,
       "border_right": null,
       "border_top": null,
       "bottom": null,
       "display": null,
       "flex": null,
       "flex_flow": null,
       "grid_area": null,
       "grid_auto_columns": null,
       "grid_auto_flow": null,
       "grid_auto_rows": null,
       "grid_column": null,
       "grid_gap": null,
       "grid_row": null,
       "grid_template_areas": null,
       "grid_template_columns": null,
       "grid_template_rows": null,
       "height": null,
       "justify_content": null,
       "justify_items": null,
       "left": null,
       "margin": null,
       "max_height": null,
       "max_width": null,
       "min_height": null,
       "min_width": null,
       "object_fit": null,
       "object_position": null,
       "order": null,
       "overflow": null,
       "padding": null,
       "right": null,
       "top": null,
       "visibility": null,
       "width": null
      }
     },
     "6f55ea1d55a34a0f85e51ef9db12c844": {
      "model_module": "@jupyter-widgets/controls",
      "model_module_version": "2.0.0",
      "model_name": "HBoxModel",
      "state": {
       "_dom_classes": [],
       "_model_module": "@jupyter-widgets/controls",
       "_model_module_version": "2.0.0",
       "_model_name": "HBoxModel",
       "_view_count": null,
       "_view_module": "@jupyter-widgets/controls",
       "_view_module_version": "2.0.0",
       "_view_name": "HBoxView",
       "box_style": "",
       "children": [
        "IPY_MODEL_f53f80120fe748d1b5921a48b0eced5b",
        "IPY_MODEL_f5f93717f55c4f8c86b971a50c047c7b",
        "IPY_MODEL_fe8a4590539048a28ed1c2cea5183070"
       ],
       "layout": "IPY_MODEL_6c61695e205a498a95cfd524ab59aad7",
       "tabbable": null,
       "tooltip": null
      }
     },
     "9264575280074ebe8014fc66b5b58c8d": {
      "model_module": "@jupyter-widgets/controls",
      "model_module_version": "2.0.0",
      "model_name": "HTMLStyleModel",
      "state": {
       "_model_module": "@jupyter-widgets/controls",
       "_model_module_version": "2.0.0",
       "_model_name": "HTMLStyleModel",
       "_view_count": null,
       "_view_module": "@jupyter-widgets/base",
       "_view_module_version": "2.0.0",
       "_view_name": "StyleView",
       "background": null,
       "description_width": "",
       "font_size": null,
       "text_color": null
      }
     },
     "9c613636aca947ad95a7195ba7a39e5a": {
      "model_module": "@jupyter-widgets/controls",
      "model_module_version": "2.0.0",
      "model_name": "HTMLStyleModel",
      "state": {
       "_model_module": "@jupyter-widgets/controls",
       "_model_module_version": "2.0.0",
       "_model_name": "HTMLStyleModel",
       "_view_count": null,
       "_view_module": "@jupyter-widgets/base",
       "_view_module_version": "2.0.0",
       "_view_name": "StyleView",
       "background": null,
       "description_width": "",
       "font_size": null,
       "text_color": null
      }
     },
     "f083e5f234014b93a7bc2001bd753cd3": {
      "model_module": "@jupyter-widgets/controls",
      "model_module_version": "2.0.0",
      "model_name": "ProgressStyleModel",
      "state": {
       "_model_module": "@jupyter-widgets/controls",
       "_model_module_version": "2.0.0",
       "_model_name": "ProgressStyleModel",
       "_view_count": null,
       "_view_module": "@jupyter-widgets/base",
       "_view_module_version": "2.0.0",
       "_view_name": "StyleView",
       "bar_color": null,
       "description_width": ""
      }
     },
     "f53f80120fe748d1b5921a48b0eced5b": {
      "model_module": "@jupyter-widgets/controls",
      "model_module_version": "2.0.0",
      "model_name": "HTMLModel",
      "state": {
       "_dom_classes": [],
       "_model_module": "@jupyter-widgets/controls",
       "_model_module_version": "2.0.0",
       "_model_name": "HTMLModel",
       "_view_count": null,
       "_view_module": "@jupyter-widgets/controls",
       "_view_module_version": "2.0.0",
       "_view_name": "HTMLView",
       "description": "",
       "description_allow_html": false,
       "layout": "IPY_MODEL_65cda13b9386446bba0e539c60ec0c78",
       "placeholder": "​",
       "style": "IPY_MODEL_9c613636aca947ad95a7195ba7a39e5a",
       "tabbable": null,
       "tooltip": null,
       "value": "100%"
      }
     },
     "f5f93717f55c4f8c86b971a50c047c7b": {
      "model_module": "@jupyter-widgets/controls",
      "model_module_version": "2.0.0",
      "model_name": "FloatProgressModel",
      "state": {
       "_dom_classes": [],
       "_model_module": "@jupyter-widgets/controls",
       "_model_module_version": "2.0.0",
       "_model_name": "FloatProgressModel",
       "_view_count": null,
       "_view_module": "@jupyter-widgets/controls",
       "_view_module_version": "2.0.0",
       "_view_name": "ProgressView",
       "bar_style": "success",
       "description": "",
       "description_allow_html": false,
       "layout": "IPY_MODEL_3aca4d47166d49149b7e358744909727",
       "max": 8.0,
       "min": 0.0,
       "orientation": "horizontal",
       "style": "IPY_MODEL_f083e5f234014b93a7bc2001bd753cd3",
       "tabbable": null,
       "tooltip": null,
       "value": 8.0
      }
     },
     "fe8a4590539048a28ed1c2cea5183070": {
      "model_module": "@jupyter-widgets/controls",
      "model_module_version": "2.0.0",
      "model_name": "HTMLModel",
      "state": {
       "_dom_classes": [],
       "_model_module": "@jupyter-widgets/controls",
       "_model_module_version": "2.0.0",
       "_model_name": "HTMLModel",
       "_view_count": null,
       "_view_module": "@jupyter-widgets/controls",
       "_view_module_version": "2.0.0",
       "_view_name": "HTMLView",
       "description": "",
       "description_allow_html": false,
       "layout": "IPY_MODEL_0a686577e5684b07a908b75aff0ea4e8",
       "placeholder": "​",
       "style": "IPY_MODEL_9264575280074ebe8014fc66b5b58c8d",
       "tabbable": null,
       "tooltip": null,
       "value": " 8/8 [04:14&lt;00:00, 48.51s/it]"
      }
     }
    },
    "version_major": 2,
    "version_minor": 0
   }
  }
 },
 "nbformat": 4,
 "nbformat_minor": 5
}