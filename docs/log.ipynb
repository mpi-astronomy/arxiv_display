{
 "cells": [
  {
   "cell_type": "markdown",
   "id": "92bcb855",
   "metadata": {
    "papermill": {
     "duration": 0.006155,
     "end_time": "2023-08-29T04:05:25.586148",
     "exception": false,
     "start_time": "2023-08-29T04:05:25.579993",
     "status": "completed"
    },
    "tags": []
   },
   "source": [
    "# MPIA Arxiv on Deck 2\n",
    "\n",
    "Contains the steps to produce the paper extractions."
   ]
  },
  {
   "cell_type": "code",
   "execution_count": 1,
   "id": "3a0d6e11",
   "metadata": {
    "execution": {
     "iopub.execute_input": "2023-08-29T04:05:25.597379Z",
     "iopub.status.busy": "2023-08-29T04:05:25.596560Z",
     "iopub.status.idle": "2023-08-29T04:05:25.888084Z",
     "shell.execute_reply": "2023-08-29T04:05:25.887089Z"
    },
    "papermill": {
     "duration": 0.300517,
     "end_time": "2023-08-29T04:05:25.891447",
     "exception": false,
     "start_time": "2023-08-29T04:05:25.590930",
     "status": "completed"
    },
    "tags": []
   },
   "outputs": [],
   "source": [
    "# Imports\n",
    "import os\n",
    "from IPython.display import Markdown, display\n",
    "from tqdm.notebook import tqdm\n",
    "import warnings\n",
    "from PIL import Image \n",
    "\n",
    "# requires arxiv_on_deck_2\n",
    "\n",
    "from arxiv_on_deck_2.arxiv2 import (get_new_papers, \n",
    "                                    get_paper_from_identifier,\n",
    "                                    retrieve_document_source, \n",
    "                                    get_markdown_badge)\n",
    "from arxiv_on_deck_2 import (latex,\n",
    "                             latex_bib,\n",
    "                             mpia,\n",
    "                             highlight_authors_in_list)\n",
    "\n",
    "# Sometimes images are really big\n",
    "Image.MAX_IMAGE_PIXELS = 1000000000 "
   ]
  },
  {
   "cell_type": "code",
   "execution_count": 2,
   "id": "22aa9d44",
   "metadata": {
    "execution": {
     "iopub.execute_input": "2023-08-29T04:05:25.903870Z",
     "iopub.status.busy": "2023-08-29T04:05:25.903084Z",
     "iopub.status.idle": "2023-08-29T04:05:25.910017Z",
     "shell.execute_reply": "2023-08-29T04:05:25.909222Z"
    },
    "papermill": {
     "duration": 0.014344,
     "end_time": "2023-08-29T04:05:25.911837",
     "exception": false,
     "start_time": "2023-08-29T04:05:25.897493",
     "status": "completed"
    },
    "tags": []
   },
   "outputs": [],
   "source": [
    "# Some useful definitions.\n",
    "\n",
    "class AffiliationWarning(UserWarning):\n",
    "    pass\n",
    "\n",
    "class AffiliationError(RuntimeError):\n",
    "    pass\n",
    "\n",
    "def validation(source: str):\n",
    "    \"\"\"Raises error paper during parsing of source file\n",
    "    \n",
    "    Allows checks before parsing TeX code.\n",
    "    \n",
    "    Raises AffiliationWarning\n",
    "    \"\"\"\n",
    "    check = mpia.affiliation_verifications(source, verbose=True)\n",
    "    if check is not True:\n",
    "        raise AffiliationError(\"mpia.affiliation_verifications: \" + check)\n",
    "\n",
    "        \n",
    "warnings.simplefilter('always', AffiliationWarning)\n",
    "\n",
    "\n",
    "def get_markdown_qrcode(paper_id: str):\n",
    "    \"\"\" Generate a qrcode to the arxiv page using qrserver.com\n",
    "    \n",
    "    :param paper: Arxiv paper\n",
    "    :returns: markdown text\n",
    "    \"\"\"\n",
    "    url = r\"https://api.qrserver.com/v1/create-qr-code/?size=100x100&data=\"\n",
    "    txt = f\"\"\"<img src={url}\"https://arxiv.org/abs/{paper_id}\">\"\"\"\n",
    "    txt = '<div id=\"qrcode\">' + txt + '</div>'\n",
    "    return txt"
   ]
  },
  {
   "cell_type": "markdown",
   "id": "14bd6310",
   "metadata": {
    "papermill": {
     "duration": 0.004154,
     "end_time": "2023-08-29T04:05:25.920120",
     "exception": false,
     "start_time": "2023-08-29T04:05:25.915966",
     "status": "completed"
    },
    "tags": []
   },
   "source": [
    "## get list of arxiv paper candidates\n",
    "\n",
    "We use the MPIA mitarbeiter list webpage from mpia.de to get author names\n",
    "We then get all new papers from Arxiv and match authors"
   ]
  },
  {
   "cell_type": "code",
   "execution_count": 3,
   "id": "2645e73a",
   "metadata": {
    "execution": {
     "iopub.execute_input": "2023-08-29T04:05:25.931798Z",
     "iopub.status.busy": "2023-08-29T04:05:25.931466Z",
     "iopub.status.idle": "2023-08-29T04:05:51.572933Z",
     "shell.execute_reply": "2023-08-29T04:05:51.571887Z"
    },
    "papermill": {
     "duration": 25.649177,
     "end_time": "2023-08-29T04:05:51.575010",
     "exception": false,
     "start_time": "2023-08-29T04:05:25.925833",
     "status": "completed"
    },
    "tags": []
   },
   "outputs": [
    {
     "name": "stdout",
     "output_type": "stream",
     "text": [
      "G. Perotti  ->  G. Perotti  |  ['G. Perotti']\n"
     ]
    },
    {
     "name": "stdout",
     "output_type": "stream",
     "text": [
      "Zhang  ->  X. Zhang  |  ['Zhang']\n",
      "R. Launhardt  ->  R. Launhardt  |  ['R. Launhardt']\n",
      "F. Davies  ->  F. Davies  |  ['F. Davies']\n",
      "Arxiv has 83 new papers today\n",
      "          4 with possible author matches\n"
     ]
    }
   ],
   "source": [
    "# get list from MPIA website\n",
    "# it automatically filters identified non-scientists :func:`mpia.filter_non_scientists`\n",
    "mpia_authors = mpia.get_mpia_mitarbeiter_list()\n",
    "normed_mpia_authors = [k[1] for k in mpia_authors]   # initials + fullname\n",
    "new_papers = get_new_papers()\n",
    "# add manual references\n",
    "add_paper_refs = []\n",
    "new_papers.extend([get_paper_from_identifier(k) for k in add_paper_refs])\n",
    "\n",
    "candidates = []\n",
    "for paperk in new_papers:\n",
    "    # Check author list with their initials\n",
    "    normed_author_list = [mpia.get_initials(k) for k in paperk['authors']]\n",
    "    hl_authors = highlight_authors_in_list(normed_author_list, normed_mpia_authors, verbose=True)\n",
    "    matches = [(hl, orig) for hl, orig in zip(hl_authors, paperk['authors']) if 'mark' in hl]\n",
    "    paperk['authors'] = hl_authors\n",
    "    if matches:\n",
    "        # only select paper if an author matched our list\n",
    "        candidates.append(paperk)\n",
    "print(\"\"\"Arxiv has {0:,d} new papers today\"\"\".format(len(new_papers)))        \n",
    "print(\"\"\"          {0:,d} with possible author matches\"\"\".format(len(candidates)))"
   ]
  },
  {
   "cell_type": "markdown",
   "id": "3543b34a",
   "metadata": {
    "papermill": {
     "duration": 0.0043,
     "end_time": "2023-08-29T04:05:51.583977",
     "exception": false,
     "start_time": "2023-08-29T04:05:51.579677",
     "status": "completed"
    },
    "tags": []
   },
   "source": [
    "# Parse sources and generate relevant outputs\n",
    "\n",
    "From the candidates, we do the following steps:\n",
    "* get their tarball from ArXiv (and extract data)\n",
    "* find the main .tex file: find one with \\documentclass{...} (sometimes it's non trivial)\n",
    "* Check affiliations with :func:`validation`, which uses :func:`mpia.affiliation_verifications`\n",
    "* If passing the affiliations: we parse the .tex source\n",
    "   * inject sub-documents into the main (flatten the main document)\n",
    "   * parse structure, extract information (title, abstract, authors, figures...)\n",
    "   * handles `\\graphicspath` if provided\n",
    "* Generate the .md document."
   ]
  },
  {
   "cell_type": "code",
   "execution_count": 4,
   "id": "9576b79e",
   "metadata": {
    "execution": {
     "iopub.execute_input": "2023-08-29T04:05:51.595016Z",
     "iopub.status.busy": "2023-08-29T04:05:51.594488Z",
     "iopub.status.idle": "2023-08-29T04:07:29.907086Z",
     "shell.execute_reply": "2023-08-29T04:07:29.905795Z"
    },
    "papermill": {
     "duration": 98.320941,
     "end_time": "2023-08-29T04:07:29.909211",
     "exception": false,
     "start_time": "2023-08-29T04:05:51.588270",
     "status": "completed"
    },
    "scrolled": false,
    "tags": []
   },
   "outputs": [
    {
     "data": {
      "application/vnd.jupyter.widget-view+json": {
       "model_id": "42aadedee18a41fc961c1a4fd875a6c6",
       "version_major": 2,
       "version_minor": 0
      },
      "text/plain": [
       "  0%|          | 0/4 [00:00<?, ?it/s]"
      ]
     },
     "metadata": {},
     "output_type": "display_data"
    },
    {
     "name": "stdout",
     "output_type": "stream",
     "text": [
      "Retrieving document from  https://arxiv.org/e-print/2308.13598\n"
     ]
    },
    {
     "name": "stdout",
     "output_type": "stream",
     "text": [
      "extracting tarball to tmp_2308.13598..."
     ]
    },
    {
     "name": "stdout",
     "output_type": "stream",
     "text": [
      " done.\n"
     ]
    },
    {
     "name": "stderr",
     "output_type": "stream",
     "text": [
      "/opt/hostedtoolcache/Python/3.9.17/x64/lib/python3.9/site-packages/arxiv_on_deck_2/latex.py:120: LatexWarning: attempting recovering figure figures/AppendixB_tau.pdf\n",
      "  warnings.warn(LatexWarning(f'attempting recovering figure {image}'))\n",
      "/opt/hostedtoolcache/Python/3.9.17/x64/lib/python3.9/site-packages/arxiv_on_deck_2/latex.py:692: LatexWarning: Could not find graphic \\includegraphics[trim={0 0 0 0}, clip, width=\\hsize]{figures/AppendixB_tau.pdf}\n",
      "  warnings.warn(LatexWarning(f\"Could not find graphic {k}\"))\n"
     ]
    },
    {
     "name": "stdout",
     "output_type": "stream",
     "text": [
      "Found 111 bibliographic references in tmp_2308.13598/aanda.bbl.\n",
      "Retrieving document from  https://arxiv.org/e-print/2308.14065\n"
     ]
    },
    {
     "name": "stdout",
     "output_type": "stream",
     "text": [
      "extracting tarball to tmp_2308.14065..."
     ]
    },
    {
     "name": "stdout",
     "output_type": "stream",
     "text": [
      " done.\n",
      "Retrieving document from  https://arxiv.org/e-print/2308.14590\n"
     ]
    },
    {
     "name": "stdout",
     "output_type": "stream",
     "text": [
      "extracting tarball to tmp_2308.14590..."
     ]
    },
    {
     "name": "stdout",
     "output_type": "stream",
     "text": [
      " done.\n"
     ]
    },
    {
     "name": "stdout",
     "output_type": "stream",
     "text": [
      "R. Launhardt  ->  R. Launhardt  |  ['R. Launhardt']\n"
     ]
    },
    {
     "name": "stdout",
     "output_type": "stream",
     "text": [
      "Found 178 bibliographic references in tmp_2308.14590/ms.bbl.\n",
      "Retrieving document from  https://arxiv.org/e-print/2308.14738\n"
     ]
    },
    {
     "name": "stdout",
     "output_type": "stream",
     "text": [
      "extracting tarball to tmp_2308.14738..."
     ]
    },
    {
     "name": "stdout",
     "output_type": "stream",
     "text": [
      " done.\n"
     ]
    },
    {
     "name": "stderr",
     "output_type": "stream",
     "text": [
      "/opt/hostedtoolcache/Python/3.9.17/x64/lib/python3.9/site-packages/arxiv_on_deck_2/latex.py:473: LatexWarning: Error parsing the document directly. Trying to recover.\n",
      "  warnings.warn(LatexWarning(f\"Error parsing the document directly. Trying to recover.\"))\n"
     ]
    },
    {
     "name": "stdout",
     "output_type": "stream",
     "text": [
      "✘ → 0:header\n",
      "  ↳ 5393:\\section{Introduction}\n"
     ]
    },
    {
     "name": "stdout",
     "output_type": "stream",
     "text": [
      "✔ → 5393:\\section{Introduction}\n",
      "  ↳ 14997:\\section{Simulations}\n"
     ]
    },
    {
     "name": "stdout",
     "output_type": "stream",
     "text": [
      "✔ → 14997:\\section{Simulations}\n",
      "  ↳ 39637:\\section{Inference Method}\n"
     ]
    },
    {
     "name": "stdout",
     "output_type": "stream",
     "text": [
      "✔ → 39637:\\section{Inference Method}\n",
      "  ↳ 63033:\\section{Low-$z$ \\lya  Forests and Simulated Absorbers}\n"
     ]
    },
    {
     "name": "stdout",
     "output_type": "stream",
     "text": [
      "✔ → 63033:\\section{Low-$z$ \\lya  Forests and Simulated Absorbers}\n",
      "  ↳ 91422:\\section{Summary and Discussion}\n"
     ]
    },
    {
     "name": "stdout",
     "output_type": "stream",
     "text": [
      "✔ → 91422:\\section{Summary and Discussion}\n",
      "  ↳ 101452:\\section{ Inference based on the Photoheating labels [$A$,$B$]}\n"
     ]
    },
    {
     "name": "stdout",
     "output_type": "stream",
     "text": [
      "✔ → 101452:\\section{ Inference based on the Photoheating labels [$A$,$B$]}\n",
      "  ↳ 105320:end\n"
     ]
    },
    {
     "name": "stderr",
     "output_type": "stream",
     "text": [
      "/tmp/ipykernel_2170/3009462391.py:49: LatexWarning: 2308.14738 did not run properly\n",
      "list index out of range\n",
      "  warnings.warn(latex.LatexWarning(f\"{paper_id:s} did not run properly\\n\" +\n"
     ]
    }
   ],
   "source": [
    "documents = []\n",
    "failed = []\n",
    "for paper in tqdm(candidates):\n",
    "    paper_id = paper['identifier'].lower().replace('arxiv:', '')\n",
    "    \n",
    "    folder = f'tmp_{paper_id}'\n",
    "\n",
    "    try:\n",
    "        if not os.path.isdir(folder):\n",
    "            folder = retrieve_document_source(f\"{paper_id}\", f'tmp_{paper_id}')\n",
    "        \n",
    "        try:\n",
    "            doc = latex.LatexDocument(folder, validation=validation)    \n",
    "        except AffiliationError as affilerror:\n",
    "            msg = f\"ArXiv:{paper_id:s} is not an MPIA paper... \" + str(affilerror)\n",
    "            failed.append((paper, \"affiliation error: \" + str(affilerror) ))\n",
    "            continue\n",
    "        \n",
    "        # Hack because sometimes author parsing does not work well\n",
    "        if (len(doc.authors) != len(paper['authors'])):\n",
    "            doc._authors = paper['authors']\n",
    "        else:\n",
    "            # highlight authors (FIXME: doc.highlight_authors)\n",
    "            # done on arxiv paper already\n",
    "            doc._authors = highlight_authors_in_list(\n",
    "                [mpia.get_initials(k) for k in doc.authors], \n",
    "                normed_mpia_authors, verbose=True)\n",
    "        if (doc.abstract) in (None, ''):\n",
    "            doc._abstract = paper['abstract']\n",
    "            \n",
    "        doc.comment = (get_markdown_badge(paper_id) + \n",
    "                       \"<mark>Appeared on: \" + paper['date'] + \"</mark> - \")\n",
    "        if paper['comments']:\n",
    "            doc.comment += \" _\" + paper['comments'] + \"_\"\n",
    "        \n",
    "        full_md = doc.generate_markdown_text()\n",
    "        \n",
    "        full_md += get_markdown_qrcode(paper_id)\n",
    "        \n",
    "        # replace citations\n",
    "        try:\n",
    "            bibdata = latex_bib.LatexBib.from_doc(doc)\n",
    "            full_md = latex_bib.replace_citations(full_md, bibdata)\n",
    "        except Exception as e:\n",
    "            print(e)\n",
    "        \n",
    "        documents.append((paper_id, full_md))\n",
    "    except Exception as e:\n",
    "        warnings.warn(latex.LatexWarning(f\"{paper_id:s} did not run properly\\n\" +\n",
    "                                         str(e)\n",
    "                                        ))\n",
    "        failed.append((paper, \"latex error \" + str(e)))"
   ]
  },
  {
   "cell_type": "markdown",
   "id": "2505a25c",
   "metadata": {
    "papermill": {
     "duration": 0.005742,
     "end_time": "2023-08-29T04:07:29.920769",
     "exception": false,
     "start_time": "2023-08-29T04:07:29.915027",
     "status": "completed"
    },
    "tags": []
   },
   "source": [
    "### Export the logs\n",
    "\n",
    "Throughout, we also keep track of the logs per paper. see `logs-{today date}.md` "
   ]
  },
  {
   "cell_type": "code",
   "execution_count": 5,
   "id": "d733828a",
   "metadata": {
    "execution": {
     "iopub.execute_input": "2023-08-29T04:07:29.933682Z",
     "iopub.status.busy": "2023-08-29T04:07:29.932933Z",
     "iopub.status.idle": "2023-08-29T04:07:29.949592Z",
     "shell.execute_reply": "2023-08-29T04:07:29.948865Z"
    },
    "papermill": {
     "duration": 0.025219,
     "end_time": "2023-08-29T04:07:29.951592",
     "exception": false,
     "start_time": "2023-08-29T04:07:29.926373",
     "status": "completed"
    },
    "scrolled": false,
    "tags": []
   },
   "outputs": [
    {
     "data": {
      "text/markdown": [
       "## Successful papers"
      ],
      "text/plain": [
       "<IPython.core.display.Markdown object>"
      ]
     },
     "metadata": {},
     "output_type": "display_data"
    },
    {
     "data": {
      "text/markdown": [
       "\n",
       "|||\n",
       "|---:|:---|\n",
       "| [![arXiv](https://img.shields.io/badge/arXiv-arXiv:2308.13598-b31b1b.svg)](https://arxiv.org/abs/arXiv:2308.13598) | **Linking ice and gas in the Coronet cluster in Corona Australis**  |\n",
       "|| <mark>G. Perotti</mark>, et al. |\n",
       "|*Appeared on*| *2023-08-29*|\n",
       "|*Comments*| *20 pages, 17 figures, accepted for publication in Astronomy & Astrophysics*|\n",
       "|**Abstract**| During the journey from the cloud to the disc, the chemical composition of the protostellar envelope material can be either preserved or processed to varying degrees depending on the surrounding physical environment. This works aims to constrain the interplay of solid (ice) and gaseous methanol (CH$_3$OH) in the outer regions of protostellar envelopes located in the Coronet cluster in Corona Australis (CrA), and assess the importance of irradiation by the Herbig Ae/Be star R CrA. CH$_3$OH is a prime test-case as it predominantly forms as a consequence of the solid-gas interplay (hydrogenation of condensed CO molecules onto the grain surfaces) and it plays an important role in future complex molecular processing. We present 1.3 mm Submillimeter Array (SMA) and Atacama Pathfinder Experiment (APEX) observations towards the envelopes of four low-mass protostars in the Coronet. Eighteen molecular transitions of seven species are identified. We calculate CH$_3$OH gas-to-ice ratios in this strongly irradiated cluster and compare them with ratios determined towards protostars located in less irradiated regions such as the Serpens SVS 4 cluster in Serpens Main and the Barnard 35A cloud in the $\\lambda$ Orionis region. The CH$_3$OH gas-to-ice ratios in the Coronet vary by one order of magnitude (from 1.2$\\times$10$^{-4}$ to 3.1$\\times$10$^{-3}$) which is similar to less irradiated regions as found in previous studies. We find that the CH$_3$OH gas-to-ice ratios estimated in these three regions are remarkably similar despite the different UV radiation field intensities and formation histories. This result suggests that the overall CH$_3$OH chemistry in the outer regions of low-mass envelopes is relatively independent of variations in the physical conditions and hence that it is set during the prestellar stage. |"
      ],
      "text/plain": [
       "[arXiv:2308.13598] Linking ice and gas in the Coronet cluster in Corona Australis\n",
       "\t<mark>G. Perotti</mark>, et al."
      ]
     },
     "metadata": {},
     "output_type": "display_data"
    },
    {
     "data": {
      "text/markdown": [
       "\n",
       "|||\n",
       "|---:|:---|\n",
       "| [![arXiv](https://img.shields.io/badge/arXiv-arXiv:2308.14590-b31b1b.svg)](https://arxiv.org/abs/arXiv:2308.14590) | **Twenty-Five Years of Accretion onto the Classical T Tauri Star TW Hya**  |\n",
       "|| G. J. Herczeg, et al. -- incl., <mark>R. Launhardt</mark> |\n",
       "|*Appeared on*| *2023-08-29*|\n",
       "|*Comments*| *Accepted by ApJ. 31 pages*|\n",
       "|**Abstract**| Accretion plays a central role in the physics that governs the evolution and dispersal of protoplanetary disks. The primary goal of this paper is to analyze the stability over time of the mass accretion rate onto TW Hya, the nearest accreting solar-mass young star. We measure veiling across the optical spectrum in 1169 archival high-resolution spectra of TW Hya, obtained from 1998--2022. The veiling is then converted to accretion rate using 26 flux-calibrated spectra that cover the Balmer jump. The accretion rate measured from the excess continuum has an average of $2.51\\times10^{-9}$~M$_\\odot$~yr$^{-1}$ and a Gaussian distribution with a FWHM of 0.22 dex. This accretion rate may be underestimated by a factor of up to 1.5 because of uncertainty in the bolometric correction and another factor of 1.7 because of excluding the fraction of accretion energy that escapes in lines, especially Ly$\\alpha$. The accretion luminosities are well correlated with He line luminosities but poorly correlated with H$\\alpha$ and H$\\beta$ luminosity. The accretion rate is always flickering over hours but on longer timescales has been stable over 25 years. This level of variability is consistent with previous measurements for most, but not all, accreting young stars. |"
      ],
      "text/plain": [
       "[arXiv:2308.14590] Twenty-Five Years of Accretion onto the Classical T Tauri Star TW Hya\n",
       "\tG. J. Herczeg, et al. -- incl., <mark>R. Launhardt</mark>"
      ]
     },
     "metadata": {},
     "output_type": "display_data"
    },
    {
     "data": {
      "text/markdown": [
       "## Failed papers"
      ],
      "text/plain": [
       "<IPython.core.display.Markdown object>"
      ]
     },
     "metadata": {},
     "output_type": "display_data"
    },
    {
     "data": {
      "text/markdown": [
       "\n",
       "|||\n",
       "|---:|:---|\n",
       "| [![arXiv](https://img.shields.io/badge/arXiv-arXiv:2308.14065-b31b1b.svg)](https://arxiv.org/abs/arXiv:2308.14065) | **HybPSF: Hybrid PSF reconstruction for the observed JWST NIRCam image**  |\n",
       "|| Huanyuan, et al. -- incl., <mark>Zhang</mark> |\n",
       "|*Appeared on*| *2023-08-29*|\n",
       "|*Comments*| **|\n",
       "|**Abstract**| The James Webb Space Telescope (JWST) ushers in a new era of astronomical observation and discovery, offering unprecedented precision in a variety of measurements such as photometry, astrometry, morphology, and shear measurement. Accurate point spread function (PSF) models are crucial for many of these measurements. In this paper, we introduce a hybrid PSF construction method called HybPSF for JWST NIRCam imaging data. HybPSF combines the WebbPSF software, which simulates the PSF for JWST, with observed data to produce more accurate and reliable PSF models. We apply this method to the SMACS J0723 imaging data and construct supplementary structures from residuals obtained by subtracting the WebbPSF PSF model from the data. Our results show that HybPSF significantly reduces discrepancies between the PSF model and the data compared to WebbPSF. Specifically, the PSF shape parameter ellipticity and size comparisons indicate that HybPSF improves precision by a factor of approximately 10 for \\$R^2\\$ and \\$50\\%\\$ for \\$e\\$. This improvement has important implications for astronomical measurements using JWST NIRCam imaging data. |\n",
       "|<p style=\"color:green\"> **ERROR** </p>| <p style=\"color:green\">affiliation error: mpia.affiliation_verifications: 'Heidelberg' keyword not found.</p> |"
      ],
      "text/plain": [
       "<IPython.core.display.Markdown object>"
      ]
     },
     "metadata": {},
     "output_type": "display_data"
    },
    {
     "data": {
      "text/markdown": [
       "\n",
       "|||\n",
       "|---:|:---|\n",
       "| [![arXiv](https://img.shields.io/badge/arXiv-arXiv:2308.14738-b31b1b.svg)](https://arxiv.org/abs/arXiv:2308.14738) | **The Impact of the WHIM on the IGM Thermal State Determined from the  Low-$z$ Lyman-$α$ Forest**  |\n",
       "|| T. Hu, et al. -- incl., <mark>F. Davies</mark> |\n",
       "|*Appeared on*| *2023-08-29*|\n",
       "|*Comments*| *23 pages, 24 figures*|\n",
       "|**Abstract**| At $z \\lesssim 1$, shock heating caused by large-scale velocity flows and possibly violent feedback from galaxy formation, converts a significant fraction of the cool gas ($T\\sim 10^4$ K) in the intergalactic medium (IGM) into warm-hot phase (WHIM) with $T >10^5$K, resulting in a significant deviation from the previously tight power-law IGM temperature-density relationship, $T=T_0 (\\rho / {\\bar{\\rho}})^{\\gamma -1}$. This study explores the impact of the WHIM on measurements of the low-$z$ IGM thermal state, $[T_0,\\gamma]$, based on the $b$-$N_{H I}$ distribution of the Lyman-$\\alpha$ forest. Exploiting a machine learning-enabled simulation-based inference method trained on Nyx hydrodynamical simulations, we demonstrate that [$T_0$, $\\gamma$] can still be reliably measured from the $b$-$N_{H I}$ distribution at $z=0.1$, notwithstanding the substantial WHIM in the IGM. To investigate the effects of different feedback, we apply this inference methodology to mock spectra derived from the IllustrisTNG and Illustris simulations at $z=0.1$. The results suggest that the underlying $[T_0,\\gamma]$ of both simulations can be recovered with biases as low as $|\\Delta \\log(T_0/\\text{K})| \\lesssim 0.05$ dex, $|\\Delta \\gamma | \\lesssim 0.1$, smaller than the precision of a typical measurement. Given the large differences in the volume-weighted WHIM fractions between the three simulations (Illustris 38\\%, IllustrisTNG 10\\%, Nyx 4\\%) we conclude that the $b$-$N_{H I}$ distribution is not sensitive to the WHIM under realistic conditions. Finally, we investigate the physical properties of the detectable Lyman-$\\alpha$ absorbers, and discover that although their $T$ and $\\Delta$ distributions remain mostly unaffected by feedback, they are correlated with the photoionization rate used in the simulation. |\n",
       "|<p style=\"color:red\"> **ERROR** </p>| <p style=\"color:red\">latex error list index out of range</p> |"
      ],
      "text/plain": [
       "<IPython.core.display.Markdown object>"
      ]
     },
     "metadata": {},
     "output_type": "display_data"
    }
   ],
   "source": [
    "import datetime\n",
    "today = str(datetime.date.today())\n",
    "logfile = f\"_build/html/logs/log-{today}.md\"\n",
    "\n",
    "\n",
    "with open(logfile, 'w') as logs:\n",
    "    # Success\n",
    "    logs.write(f'# Arxiv on Deck 2: Logs - {today}\\n\\n')\n",
    "    logs.write(\"\"\"* Arxiv had {0:,d} new papers\\n\"\"\".format(len(new_papers)))\n",
    "    logs.write(\"\"\"    * {0:,d} with possible author matches\\n\\n\"\"\".format(len(candidates)))\n",
    "    logs.write(\"## Sucessful papers\\n\\n\")\n",
    "    display(Markdown(\"## Successful papers\"))\n",
    "    success = [k[0] for k in documents]\n",
    "    for candid in candidates:\n",
    "        if candid['identifier'].split(':')[-1] in success:\n",
    "            display(candid)\n",
    "            logs.write(candid.generate_markdown_text() + '\\n\\n')\n",
    "\n",
    "    ## failed\n",
    "    logs.write(\"## Failed papers\\n\\n\")\n",
    "    display(Markdown(\"## Failed papers\"))\n",
    "    failed = sorted(failed, key=lambda x: x[1])\n",
    "    current_reason = \"\"\n",
    "    for paper, reason in failed:\n",
    "        if 'affiliation' in reason:\n",
    "            color = 'green'\n",
    "        else:\n",
    "            color = 'red'\n",
    "        data = Markdown(\n",
    "                paper.generate_markdown_text() + \n",
    "                f'\\n|<p style=\"color:{color:s}\"> **ERROR** </p>| <p style=\"color:{color:s}\">{reason:s}</p> |'\n",
    "               )\n",
    "        if reason != current_reason:\n",
    "            logs.write(f'### {reason:s} \\n\\n')\n",
    "            current_reason = reason\n",
    "        logs.write(data.data + '\\n\\n')\n",
    "        \n",
    "        # only display here the important errors (all in logs)\n",
    "        # if color in ('red',):\n",
    "        display(data)"
   ]
  },
  {
   "cell_type": "markdown",
   "id": "472d20ee",
   "metadata": {
    "papermill": {
     "duration": 0.006192,
     "end_time": "2023-08-29T04:07:29.964043",
     "exception": false,
     "start_time": "2023-08-29T04:07:29.957851",
     "status": "completed"
    },
    "tags": []
   },
   "source": [
    "## Export documents\n",
    "\n",
    "We now write the .md files and export relevant images"
   ]
  },
  {
   "cell_type": "code",
   "execution_count": 6,
   "id": "d426aed9",
   "metadata": {
    "execution": {
     "iopub.execute_input": "2023-08-29T04:07:29.977784Z",
     "iopub.status.busy": "2023-08-29T04:07:29.977247Z",
     "iopub.status.idle": "2023-08-29T04:07:29.986244Z",
     "shell.execute_reply": "2023-08-29T04:07:29.985580Z"
    },
    "papermill": {
     "duration": 0.017701,
     "end_time": "2023-08-29T04:07:29.988080",
     "exception": false,
     "start_time": "2023-08-29T04:07:29.970379",
     "status": "completed"
    },
    "tags": []
   },
   "outputs": [],
   "source": [
    "def export_markdown_summary(md: str, md_fname:str, directory: str):\n",
    "    \"\"\"Export MD document and associated relevant images\"\"\"\n",
    "    import os\n",
    "    import shutil\n",
    "    import re\n",
    "\n",
    "    if (os.path.exists(directory) and not os.path.isdir(directory)):\n",
    "        raise RuntimeError(f\"a non-directory file exists with name {directory:s}\")\n",
    "\n",
    "    if (not os.path.exists(directory)):\n",
    "        print(f\"creating directory {directory:s}\")\n",
    "        os.mkdir(directory)\n",
    "\n",
    "    fig_fnames = (re.compile(r'\\[Fig.*\\]\\((.*)\\)').findall(md) + \n",
    "                  re.compile(r'\\<img src=\"([^>\\s]*)\"[^>]*/>').findall(md))\n",
    "    for fname in fig_fnames:\n",
    "        if 'http' in fname:\n",
    "            # No need to copy online figures\n",
    "            continue\n",
    "        destdir = os.path.join(directory, os.path.dirname(fname))\n",
    "        destfname = os.path.join(destdir, os.path.basename(fname))\n",
    "        try:\n",
    "            os.makedirs(destdir)\n",
    "        except FileExistsError:\n",
    "            pass\n",
    "        shutil.copy(fname, destfname)\n",
    "    with open(os.path.join(directory, md_fname), 'w') as fout:\n",
    "        fout.write(md)\n",
    "    print(\"exported in \", os.path.join(directory, md_fname))\n",
    "    [print(\"    + \" + os.path.join(directory,fk)) for fk in fig_fnames]"
   ]
  },
  {
   "cell_type": "code",
   "execution_count": 7,
   "id": "014d04a4",
   "metadata": {
    "execution": {
     "iopub.execute_input": "2023-08-29T04:07:30.002934Z",
     "iopub.status.busy": "2023-08-29T04:07:30.002418Z",
     "iopub.status.idle": "2023-08-29T04:07:30.014157Z",
     "shell.execute_reply": "2023-08-29T04:07:30.013331Z"
    },
    "papermill": {
     "duration": 0.02128,
     "end_time": "2023-08-29T04:07:30.015853",
     "exception": false,
     "start_time": "2023-08-29T04:07:29.994573",
     "status": "completed"
    },
    "tags": []
   },
   "outputs": [
    {
     "name": "stdout",
     "output_type": "stream",
     "text": [
      "exported in  _build/html/2308.13598.md\n",
      "    + _build/html/tmp_2308.13598/./figures/mom_zero_af.png\n",
      "    + _build/html/tmp_2308.13598/./figures/mom_zero_gl.png\n",
      "    + _build/html/tmp_2308.13598/./figures/mom_zero_mr.png\n",
      "    + _build/html/tmp_2308.13598/./figures/IRS7B_ch3oh_mom_zero.png\n",
      "exported in  _build/html/2308.14590.md\n",
      "    + _build/html/tmp_2308.14590/./figures/fig6a.png\n",
      "    + _build/html/tmp_2308.14590/./figures/fig6b.png\n",
      "    + _build/html/tmp_2308.14590/./figures/fig2a.png\n",
      "    + _build/html/tmp_2308.14590/./figures/fig2b.png\n",
      "    + _build/html/tmp_2308.14590/./figures/fig3a.png\n",
      "    + _build/html/tmp_2308.14590/./figures/fig3b.png\n",
      "    + _build/html/tmp_2308.14590/./figures/fig3c.png\n"
     ]
    }
   ],
   "source": [
    "for paper_id, md in documents:\n",
    "    export_markdown_summary(md, f\"{paper_id:s}.md\", '_build/html/')"
   ]
  },
  {
   "cell_type": "markdown",
   "id": "f087a0a7",
   "metadata": {
    "papermill": {
     "duration": 0.006818,
     "end_time": "2023-08-29T04:07:30.029695",
     "exception": false,
     "start_time": "2023-08-29T04:07:30.022877",
     "status": "completed"
    },
    "tags": []
   },
   "source": [
    "## Display the papers\n",
    "\n",
    "Not necessary but allows for a quick check."
   ]
  },
  {
   "cell_type": "code",
   "execution_count": 8,
   "id": "fd25f625",
   "metadata": {
    "execution": {
     "iopub.execute_input": "2023-08-29T04:07:30.045838Z",
     "iopub.status.busy": "2023-08-29T04:07:30.045060Z",
     "iopub.status.idle": "2023-08-29T04:07:30.053773Z",
     "shell.execute_reply": "2023-08-29T04:07:30.053024Z"
    },
    "papermill": {
     "duration": 0.018921,
     "end_time": "2023-08-29T04:07:30.055608",
     "exception": false,
     "start_time": "2023-08-29T04:07:30.036687",
     "status": "completed"
    },
    "scrolled": false,
    "tags": []
   },
   "outputs": [
    {
     "data": {
      "text/markdown": [
       "<div class=\"macros\" style=\"visibility:hidden;\">\n",
       "$\\newcommand{\\ensuremath}{}$\n",
       "$\\newcommand{\\xspace}{}$\n",
       "$\\newcommand{\\object}[1]{\\texttt{#1}}$\n",
       "$\\newcommand{\\farcs}{{.}''}$\n",
       "$\\newcommand{\\farcm}{{.}'}$\n",
       "$\\newcommand{\\arcsec}{''}$\n",
       "$\\newcommand{\\arcmin}{'}$\n",
       "$\\newcommand{\\ion}[2]{#1#2}$\n",
       "$\\newcommand{\\textsc}[1]{\\textrm{#1}}$\n",
       "$\\newcommand{\\hl}[1]{\\textrm{#1}}$\n",
       "$\\newcommand{\\footnote}[1]{}$\n",
       "$\\newcommand{\\change}[1]{#1}$\n",
       "$\\newcommand{\\arraystretch}{1.4}$\n",
       "$\\newcommand{\\arraystretch}{1.6}$\n",
       "$\\newcommand{\\arraystretch}{1.8}$\n",
       "$\\newcommand{\\arraystretch}{1.6}$\n",
       "$\\newcommand{\\arraystretch}{1.3}$\n",
       "$\\newcommand{\\arraystretch}{1.8}$</div>\n",
       "\n",
       "\n",
       "\n",
       "<div id=\"title\">\n",
       "\n",
       "# Linking ice and gas in the Coronet cluster in Corona Australis\n",
       "\n",
       "</div>\n",
       "<div id=\"comments\">\n",
       "\n",
       "[![arXiv](https://img.shields.io/badge/arXiv-2308.13598-b31b1b.svg)](https://arxiv.org/abs/2308.13598)<mark>Appeared on: 2023-08-29</mark> -  _20 pages, 17 figures, accepted for publication in Astronomy & Astrophysics_\n",
       "\n",
       "</div>\n",
       "<div id=\"authors\">\n",
       "\n",
       "<mark>G. Perotti</mark>, et al.\n",
       "\n",
       "</div>\n",
       "<div id=\"abstract\">\n",
       "\n",
       "**Abstract:** During the journey from the cloud to the disc, the chemical composition of the protostellar envelope material can be either preserved or processed to varying degrees depending on the surrounding physical environment. This works aims to constrain the interplay of solid (ice) and gaseous methanol ($CH_3$ OH) in the outer regions of protostellar envelopes located in the Coronet cluster in Corona Australis (CrA), and assess the importance of irradiation by the Herbig Ae/Be star R CrA. $CH_3$ OH is a prime test-case as it predominantly forms as a consequence of the solid-gas interplay (hydrogenation of condensed CO molecules onto the grain surfaces) and it  plays an important role in future complex molecular processing. We present 1.3 mm Submillimeter Array (SMA) and Atacama Pathfinder Experiment (APEX) observations towards the envelopes of four low-mass protostars in the Coronet. Eighteen molecular transitions of seven species are identified. We calculate $CH_3$ OH gas-to-ice ratios in this strongly irradiated cluster and compare them with ratios determined towards protostars located in less irradiated regions such as the Serpens SVS 4 cluster in Serpens Main and the Barnard 35A cloud in the $\\lambda$ Orionis region. The $CH_3$ OH gas-to-ice ratios in the Coronet vary by one order of magnitude (from 1.2 $\\times$ 10 $^{-4}$ to 3.1 $\\times$ 10 $^{-3}$ ) which is similar to less irradiated regions as found in previous studies. We find that the $CH_3$ OH gas-to-ice ratios estimated in these three regions are remarkably similar despite the different UV radiation field intensities and formation histories. This result suggests that the overall $CH_3$ OH chemistry in the outer regions of low-mass envelopes is relatively independent of variations in the physical conditions and hence that it is set during the prestellar stage.\n",
       "\n",
       "</div>\n",
       "\n",
       "<div id=\"div_fig1\">\n",
       "\n",
       "<img src=\"tmp_2308.13598/./figures/mom_zero_af.png\" alt=\"Fig9\" width=\"100%\"/>\n",
       "\n",
       "**Figure 9. -** Primary beam corrected integrated intensity maps in Jy beam$^{-1}$km s$^{-1}$ for the different species detected with the SMA. In each plot contours start at 5$\\sigma$ and continue in intervals of 5$\\sigma$, except for panel a-c for which contours start at 10$\\sigma$ and continue in intervals of 10$\\sigma$. Shown are (a) CO $J=2-1$($\\sigma$= 0.96 Jy beam$^{-1}$km s$^{-1}$), (b) $^{13}$CO $J=2-1$($\\sigma$= 0.32 Jy beam$^{-1}$km s$^{-1}$), (b) C$^{18}$O $J=2-1$($\\sigma$= 0.13 Jy beam$^{-1}$km s$^{-1}$),  (d) $H_2$CO 3$_{03}-$2$_{02}$($\\sigma$= 0.23 mJy beam$^{-1}$km s$^{-1}$), (e) $H_2$CO 3$_{21}-$2$_{20}$($\\sigma$= 88 mJy beam$^{-1}$km s$^{-1}$), (f) $H_2$CO 3$_{22}-$2$_{21}$($\\sigma$= 0.14 mJy beam$^{-1}$km s$^{-1}$). The circular field-of-view corresponds to the SMA primary beam. The size of the synthesised beam is shown in the lower left corner of each image. The white and orange stars and the orange circle mark the position of the Coronet cluster members as in Fig. \\ref{rgb_rcra}. (*mom_zero_part1*)\n",
       "\n",
       "</div>\n",
       "<div id=\"div_fig2\">\n",
       "\n",
       "<img src=\"tmp_2308.13598/./figures/mom_zero_gl.png\" alt=\"Fig10.1\" width=\"50%\"/><img src=\"tmp_2308.13598/./figures/mom_zero_mr.png\" alt=\"Fig10.2\" width=\"50%\"/>\n",
       "\n",
       "**Figure 10. -** Same as Figure \\ref{mom_zero_part1}. Primary beam corrected integrated intensity maps in Jy beam$^{-1}$km s$^{-1}$ for: (g) $CH_3$OH $4_2-$$3_1$($\\sigma$= 88 mJy beam$^{-1}$km s$^{-1}$), (h) $CH_3$OH 5$_{+0}-$4$_{+0}$ E ($\\sigma$= 0.12 Jy beam$^{-1}$km s$^{-1}$), (i) $CH_3$OH 5$_{-1}-$4$_{-1}$ E ($\\sigma$=0.13 Jy beam$^{-1}$km s$^{-1}$), (j) $CH_3$OH 5$_{0}-$4$_{0}$ A$^{+}$($\\sigma$= 0.17 Jy beam$^{-1}$km s$^{-1}$), (k) $CH_3$OH 5$_{+1}-$4$_{+1}$ E ($\\sigma$= 0.13 Jy beam$^{-1}$km s$^{-1}$), and (l) $CH_3$OH 5$_{-2}-$4$_{-2}$ E ($\\sigma$= 0.15 mJy beam$^{-1}$km s$^{-1}$) detected by the SMA (panel g), and in the combined SMA and APEX data (panels h-l).Same as Figure \\ref{mom_zero_part1}. Primary beam corrected integrated intensity maps in Jy beam$^{-1}$km s$^{-1}$ for : (m) SO $5_5-4_4$($\\sigma$= 0.12 Jy beam$^{-1}$km s$^{-1}$), (n) SO $6_5-5_4$($\\sigma$= 0.13 Jy beam$^{-1}$km s$^{-1}$), (o) $SO_2$ 4$_{22}-3_{13}$($\\sigma$= 0.15 Jy beam$^{-1}$km s$^{-1}$), (p) $c$-$C_3$$H_2$ 6$_{06}-$5$_{15}$($\\sigma$= 0.13 Jy beam$^{-1}$km s$^{-1}$), (q) $c$-$C_3$$H_2$ 5$_{14}-$4$_{23}$($\\sigma$= 0.11 Jy beam$^{-1}$km s$^{-1}$), and (r) $HC_3$N $J=24-23$($\\sigma$= 71 mJy beam$^{-1}$km s$^{-1}$) detected by the SMA. (*mom_zero_part2*)\n",
       "\n",
       "</div>\n",
       "<div id=\"div_fig3\">\n",
       "\n",
       "<img src=\"tmp_2308.13598/./figures/IRS7B_ch3oh_mom_zero.png\" alt=\"Fig7\" width=\"100%\"/>\n",
       "\n",
       "**Figure 7. -** Primary beam corrected integrated intensity maps for $CH_3$OH $J=5_0 - 4_0$ A$^+$ transition ($E_\\mathrm{u}=34.8 $K) at 241.791 GHz detected by the SMA (a), by the APEX telescope (b), and in the combined interferometric SMA and single-dish APEX data (c). All lines are integrated between 6 and 12.5 km s$^{-1}$. Contours start at 5$\\sigma$($\\sigma_\\mathrm{SMA}$= 0.16 Jy beam$^{-1}$km s$^{-1}$, $\\sigma_\\mathrm{APEX}$= 2 Jy beam$^{-1}$km s$^{-1}$, $\\sigma_\\mathrm{SMA+APEX}$= 0.17 Jy beam$^{-1}$km s$^{-1}$) and follow in steps of 5$\\sigma$. The circular field-of-view corresponds to the primary beam of the SMA observations. The synthesised beams are displayed in white in the bottom left corner of each panel. (*mom0_meth*)\n",
       "\n",
       "</div><div id=\"qrcode\"><img src=https://api.qrserver.com/v1/create-qr-code/?size=100x100&data=\"https://arxiv.org/abs/2308.13598\"></div>"
      ],
      "text/plain": [
       "<IPython.core.display.Markdown object>"
      ]
     },
     "metadata": {},
     "output_type": "display_data"
    },
    {
     "data": {
      "text/markdown": [
       "<div class=\"macros\" style=\"visibility:hidden;\">\n",
       "$\\newcommand{\\ensuremath}{}$\n",
       "$\\newcommand{\\xspace}{}$\n",
       "$\\newcommand{\\object}[1]{\\texttt{#1}}$\n",
       "$\\newcommand{\\farcs}{{.}''}$\n",
       "$\\newcommand{\\farcm}{{.}'}$\n",
       "$\\newcommand{\\arcsec}{''}$\n",
       "$\\newcommand{\\arcmin}{'}$\n",
       "$\\newcommand{\\ion}[2]{#1#2}$\n",
       "$\\newcommand{\\textsc}[1]{\\textrm{#1}}$\n",
       "$\\newcommand{\\hl}[1]{\\textrm{#1}}$\n",
       "$\\newcommand{\\footnote}[1]{}$\n",
       "$\\newcommand{\\feng}[1]$\n",
       "$\\newcommand{\\paola}[1]$\n",
       "$\\newcommand{\\uat}[2]{\\href{http://vocabs.ands.org.au/repository/api/lda/aas/the-unified-astronomy-thesaurus/current/resource.html?uri=http://astrothesaurus.org/uat/#1}{#2 (#1)}}$\n",
       "$\\newcommand{\\Msol}{\\hbox{M_{\\odot}}}$\n",
       "$\\newcommand{\\Lya}{\\hbox{Ly\\alpha}}$\n",
       "$\\newcommand{\\Lyb}{\\hbox{Ly\\beta}}$\n",
       "$\\newcommand{\\Jup}{\\hbox{J^\\prime}}$\n",
       "$\\newcommand{\\Jlo}{\\hbox{J^{\\prime\\prime}}}$\n",
       "$\\newcommand{\\Vup}{\\hbox{v^\\prime}}$\n",
       "$\\newcommand{\\Vlo}{\\hbox{v^{\\prime\\prime}}}$\n",
       "$\\newcommand{\\Elo}{\\hbox{E^{\\prime\\prime}}}$\n",
       "$\\newcommand{\\kms}{\\hbox{km s^{-1}}}$\n",
       "$\\newcommand{\\erg}{\\hbox{erg cm^{-2} s^{-1}}}$\n",
       "$\\newcommand{\\erga}{\\hbox{erg cm^{-2} s^{-1} Å^{-1}}}$\n",
       "$\\newcommand{\\mdotyr}{\\hbox{M_\\odot yr^{-1}}}$\n",
       "$\\newcommand{\\mdot}{\\hbox{\\dot{M}}}$\n",
       "$\\newcommand{\\IUE}{\\textit{IUE}}$\n",
       "$\\newcommand{\\Chandra}{\\textit{Chandra}}$\n",
       "$\\newcommand{\\HST}{\\textit{HST}}$\n",
       "$\\newcommand{\\STIS}{STIS}$\n",
       "$\\newcommand{\\FUSE}{\\textit{FUSE}}$\n",
       "$\\newcommand{\\IDL}{IDL}$\n",
       "$\\newcommand{\\vsini}{\\hbox{v \\sin i}}$\n",
       "$\\newcommand{\\ycmod}[1]{\\textcolor{olive}{ #1}}$</div>\n",
       "\n",
       "\n",
       "\n",
       "<div id=\"title\">\n",
       "\n",
       "# Twenty-Five Years of Accretion onto the Classical T Tauri Star TW Hya\n",
       "\n",
       "</div>\n",
       "<div id=\"comments\">\n",
       "\n",
       "[![arXiv](https://img.shields.io/badge/arXiv-2308.14590-b31b1b.svg)](https://arxiv.org/abs/2308.14590)<mark>Appeared on: 2023-08-29</mark> -  _Accepted by ApJ. 31 pages_\n",
       "\n",
       "</div>\n",
       "<div id=\"authors\">\n",
       "\n",
       "G. J. H. (沈雷歌), et al. -- incl., <mark>R. Launhardt</mark>\n",
       "\n",
       "</div>\n",
       "<div id=\"abstract\">\n",
       "\n",
       "**Abstract:** Accretion plays a central role in the physics that governs the evolution and dispersal of protoplanetary disks.  The primary goal of this paper is to analyze the stability over time of the mass accretion rate onto TW Hya, the nearest accreting solar-mass young star.  We measure veiling across the optical spectrum in 1169 archival high-resolution spectra of TW Hya, obtained from 1998--2022.  The veiling is then converted to accretion rate using 26 flux-calibrated spectra that cover the Balmer jump.  The accretion rate measured from the excess continuum has an average of $2.51\\times10^{-9}$ M $_\\odot$ yr $^{-1}$ and a Gaussian distribution with a FWHM of 0.22 dex.  This accretion rate may be underestimated by a factor of up to 1.5 because of uncertainty in the bolometric correction and another factor of 1.7 because of excluding the fraction of accretion energy that escapes in lines, especially Ly $\\alpha$ .The accretion luminosities are well correlated with He line luminosities but poorly correlated with H $\\alpha$ and H $\\beta$ luminosity.The accretion rate is always flickering over hours but on longer timescales has been stable over 25 years.This level of variability is consistent with previous measurements for most, but not all, accreting young stars.\n",
       "\n",
       "</div>\n",
       "\n",
       "<div id=\"div_fig1\">\n",
       "\n",
       "<img src=\"tmp_2308.14590/./figures/fig6a.png\" alt=\"Fig10.1\" width=\"50%\"/><img src=\"tmp_2308.14590/./figures/fig6b.png\" alt=\"Fig10.2\" width=\"50%\"/>\n",
       "\n",
       "**Figure 10. -** Veiling spectra for strong (pink circles, average relative veiling $r_{5050}=1.52$), above average (blue diamonds, $r_{5050}=0.95$), below average (red squares, $r_{5050}=0.52$), and weak (black triangles, $r_{5050}=0.21$) veiling epochs measured in ESPaDOnS spectra.  The left panel shows the relative veiling measurement, with features in the veiling spectrum caused by the shape of the photospheric template, TWA 25.  The right panel shows the veiling spectrum multiplied by TWA 25.  The spectra with moderate accretion are flat from 4000--9000 Å, while the strongest accretion spectrum has a bluer slope (increasing flux with decreasing wavelength). (*fig:veilspec*)\n",
       "\n",
       "</div>\n",
       "<div id=\"div_fig2\">\n",
       "\n",
       "<img src=\"tmp_2308.14590/./figures/fig2a.png\" alt=\"Fig7.1\" width=\"50%\"/><img src=\"tmp_2308.14590/./figures/fig2b.png\" alt=\"Fig7.2\" width=\"50%\"/>\n",
       "\n",
       "**Figure 7. -** _ Left:_ The relative veiling (veiling relative to the low-veiling spectrum of TW Hya) in six wavelength regions (y-axis) compared to the veiling from 5000-5100 Å (x-axis), as measured from ESPaDOnS spectra.  Each veiling measurement plotted here is the average of 4--8 different 25 Å spectral regions around the labeled wavelength.  The line shows a 1:1 relationship and not a fit. The veiling at bluer wavelengths is generally higher than the veiling at red wavelengths, with exceptions. The veiling at 4700 Å is similar to that at 5050 Å because of similar photospheric fluxes.\n",
       "_ Right:_ Correlated differences between measured and expected veiling at long wavelengths.  The inset shows the correlation between veiling at 7000 Å and 5000-5100 Å. The excess veiling is calculated by fitting a line to the $r_{\\lambda}$-$r_{5050}$ relationship (as seen on the left panel) and then subtracting each point from that line.  The main plot shows this excess veiling at 7000 Å versus that at 8700 Å.  When the veiling at 7000 Å is higher than expected, the veiling at 8700 Å is also higher than expected.\n",
       "The correlation between excess veiling at 7000 and 8700 Å demonstrates that the scatter in the correlations between veiling measurements is real and not due to signal-to-noise or other statistical uncertainties. (*fig:veilcomp*)\n",
       "\n",
       "</div>\n",
       "<div id=\"div_fig3\">\n",
       "\n",
       "<img src=\"tmp_2308.14590/./figures/fig3a.png\" alt=\"Fig8.1\" width=\"33%\"/><img src=\"tmp_2308.14590/./figures/fig3b.png\" alt=\"Fig8.2\" width=\"33%\"/><img src=\"tmp_2308.14590/./figures/fig3c.png\" alt=\"Fig8.3\" width=\"33%\"/>\n",
       "\n",
       "**Figure 8. -** _ Top Left:_ The relationship between the equivalent width of coadded lines (one set shown here for lines from 5250--5400 Å) versus veiling, established from ESPaDOnS spectra and with residuals in ESPaDOnS and FEROS spectra shown below.  _ Top Right:_  Similar plots as on the left for the flux ratio for a spectral dip around 5205--5215 Å compared with a continuum region.  In both cases, we calculate a best-fit relationship between equivalent width (or flux ratios) and veiling with ESPaDOnS.  We then apply those relationships to FEROS spectra.  The bottom panels on the left and right show the scatter between the veiling calculated from these relationships and the veiling measured from comparing the FEROS spectrum to a low-veiling FEROS template.\n",
       " _ Bottom:_  The final comparison of veiling obtained from the combination of line equivalent widths and flux ratios to the veiling from a low-veiling FEROS template.  All FEROS spectra are shifted by $\\sim 0.02$ to place them on the same scale as the ESPaDOnS veiling measuremenets.\n",
       "   The scatter of $0.013+0.045 \\times r5050$(with a minimum error of 0.02) is applied as an uncertainty to all spectra where veiling is measured from line equivalent widths and flux ratios. (*fig:eqwtoveil*)\n",
       "\n",
       "</div><div id=\"qrcode\"><img src=https://api.qrserver.com/v1/create-qr-code/?size=100x100&data=\"https://arxiv.org/abs/2308.14590\"></div>"
      ],
      "text/plain": [
       "<IPython.core.display.Markdown object>"
      ]
     },
     "metadata": {},
     "output_type": "display_data"
    }
   ],
   "source": [
    "[display(Markdown(k[1])) for k in documents];"
   ]
  },
  {
   "cell_type": "markdown",
   "id": "873873a4",
   "metadata": {
    "papermill": {
     "duration": 0.007486,
     "end_time": "2023-08-29T04:07:30.070653",
     "exception": false,
     "start_time": "2023-08-29T04:07:30.063167",
     "status": "completed"
    },
    "tags": []
   },
   "source": [
    "# Create HTML index"
   ]
  },
  {
   "cell_type": "code",
   "execution_count": 9,
   "id": "cf665672",
   "metadata": {
    "execution": {
     "iopub.execute_input": "2023-08-29T04:07:30.087731Z",
     "iopub.status.busy": "2023-08-29T04:07:30.086966Z",
     "iopub.status.idle": "2023-08-29T04:07:30.100027Z",
     "shell.execute_reply": "2023-08-29T04:07:30.099378Z"
    },
    "papermill": {
     "duration": 0.02354,
     "end_time": "2023-08-29T04:07:30.101497",
     "exception": false,
     "start_time": "2023-08-29T04:07:30.077957",
     "status": "completed"
    },
    "tags": []
   },
   "outputs": [
    {
     "name": "stdout",
     "output_type": "stream",
     "text": [
      "255  publications files modified in the last 7 days.\n"
     ]
    }
   ],
   "source": [
    "from datetime import datetime, timedelta, timezone\n",
    "from glob import glob\n",
    "import os\n",
    "\n",
    "files = glob('_build/html/*.md')\n",
    "days = 7\n",
    "now = datetime.today()\n",
    "res = []\n",
    "for fk in files:\n",
    "    stat_result = os.stat(fk).st_ctime\n",
    "    modified = datetime.fromtimestamp(stat_result, tz=timezone.utc).replace(tzinfo=None)\n",
    "    delta = now.today() - modified\n",
    "    if delta <= timedelta(days=days):\n",
    "        res.append((delta.seconds, fk))\n",
    "res = [k[1] for k in reversed(sorted(res, key=lambda x:x[1]))]\n",
    "npub = len(res)\n",
    "print(len(res), f\" publications files modified in the last {days:d} days.\")\n",
    "# [ print('\\t', k) for k in res ];"
   ]
  },
  {
   "cell_type": "code",
   "execution_count": 10,
   "id": "015de740",
   "metadata": {
    "execution": {
     "iopub.execute_input": "2023-08-29T04:07:30.117655Z",
     "iopub.status.busy": "2023-08-29T04:07:30.117155Z",
     "iopub.status.idle": "2023-08-29T04:07:30.139085Z",
     "shell.execute_reply": "2023-08-29T04:07:30.138478Z"
    },
    "papermill": {
     "duration": 0.031982,
     "end_time": "2023-08-29T04:07:30.140737",
     "exception": false,
     "start_time": "2023-08-29T04:07:30.108755",
     "status": "completed"
    },
    "tags": []
   },
   "outputs": [
    {
     "name": "stdout",
     "output_type": "stream",
     "text": [
      "7  publications in the last 7 days.\n"
     ]
    }
   ],
   "source": [
    "import datetime\n",
    "from glob import glob\n",
    "\n",
    "def get_last_n_days(lst, days=1):\n",
    "    \"\"\" Get the documents from the last n days \"\"\"\n",
    "    sorted_lst = sorted(lst, key=lambda x: x[1], reverse=True)\n",
    "    for fname, date in sorted_lst:\n",
    "        if date >= str(datetime.date.today() - datetime.timedelta(days=days)):\n",
    "            yield fname\n",
    "\n",
    "def extract_appearance_dates(lst_file):\n",
    "    dates = []\n",
    "\n",
    "    def get_date(line):\n",
    "        return line\\\n",
    "            .split('Appeared on:')[-1]\\\n",
    "            .split('</mark>')[0].strip()\n",
    "\n",
    "    for fname in lst:\n",
    "        with open(fname, 'r') as f:\n",
    "            found_date = False\n",
    "            for line in f:\n",
    "                if not found_date:\n",
    "                    if \"Appeared on\" in line:\n",
    "                        found_date = True\n",
    "                        dates.append((fname, get_date(line)))\n",
    "                else:\n",
    "                    break\n",
    "    return dates\n",
    "\n",
    "from glob import glob\n",
    "lst = glob('_build/html/*md')\n",
    "days = 7\n",
    "dates = extract_appearance_dates(lst)\n",
    "res = list(get_last_n_days(dates, days))\n",
    "npub = len(res)\n",
    "print(len(res), f\" publications in the last {days:d} days.\")"
   ]
  },
  {
   "cell_type": "code",
   "execution_count": 11,
   "id": "52ca0208",
   "metadata": {
    "execution": {
     "iopub.execute_input": "2023-08-29T04:07:30.156461Z",
     "iopub.status.busy": "2023-08-29T04:07:30.155956Z",
     "iopub.status.idle": "2023-08-29T04:07:30.161982Z",
     "shell.execute_reply": "2023-08-29T04:07:30.161347Z"
    },
    "papermill": {
     "duration": 0.015916,
     "end_time": "2023-08-29T04:07:30.163696",
     "exception": false,
     "start_time": "2023-08-29T04:07:30.147780",
     "status": "completed"
    },
    "scrolled": false,
    "tags": []
   },
   "outputs": [],
   "source": [
    "def create_carousel(npub=4):\n",
    "    \"\"\" Generate the HTML code for a carousel with `npub` slides \"\"\"\n",
    "    carousel = [\"\"\"  <div class=\"carousel\" \"\"\",\n",
    "                \"\"\"       data-flickity='{ \"autoPlay\": 10000, \"adaptiveHeight\": true, \"resize\": true, \"wrapAround\": true, \"pauseAutoPlayOnHover\": true, \"groupCells\": 1 }' id=\"asyncTypeset\">\"\"\"\n",
    "                ]\n",
    "    \n",
    "    item_str = \"\"\"    <div class=\"carousel-cell\"> <div id=\"slide{k}\" class=\"md_view\">Content {k}</div> </div>\"\"\"\n",
    "    for k in range(1, npub + 1):\n",
    "        carousel.append(item_str.format(k=k))\n",
    "    carousel.append(\"  </div>\")\n",
    "    return '\\n'.join(carousel)\n",
    "\n",
    "def create_grid(npub=4):\n",
    "    \"\"\" Generate the HTML code for a flat grid with `npub` slides \"\"\"\n",
    "    grid = [\"\"\"  <div class=\"grid\"> \"\"\",\n",
    "                ]\n",
    "    \n",
    "    item_str = \"\"\"    <div class=\"grid-item\"> <div id=\"slide{k}\" class=\"md_view\">Content {k}</div> </div>\"\"\"\n",
    "    for k in range(1, npub + 1):\n",
    "        grid.append(item_str.format(k=k))\n",
    "    grid.append(\"  </div>\")\n",
    "    return '\\n'.join(grid)"
   ]
  },
  {
   "cell_type": "code",
   "execution_count": 12,
   "id": "a6eac5b6",
   "metadata": {
    "execution": {
     "iopub.execute_input": "2023-08-29T04:07:30.179637Z",
     "iopub.status.busy": "2023-08-29T04:07:30.179172Z",
     "iopub.status.idle": "2023-08-29T04:07:30.185152Z",
     "shell.execute_reply": "2023-08-29T04:07:30.184441Z"
    },
    "papermill": {
     "duration": 0.015728,
     "end_time": "2023-08-29T04:07:30.186748",
     "exception": false,
     "start_time": "2023-08-29T04:07:30.171020",
     "status": "completed"
    },
    "scrolled": false,
    "tags": []
   },
   "outputs": [],
   "source": [
    "carousel = create_carousel(npub)\n",
    "docs = ', '.join(['\"{0:s}\"'.format(k.split('/')[-1]) for k in res])\n",
    "slides = ', '.join([f'\"slide{k}\"' for k in range(1, npub + 1)])\n",
    "\n",
    "with open(\"daily_template.html\", \"r\") as tpl:\n",
    "    page = tpl.read()\n",
    "    page = page.replace(\"{%-- carousel:s --%}\", carousel)\\\n",
    "               .replace(\"{%-- suptitle:s --%}\",  \"7-day archives\" )\\\n",
    "               .replace(\"{%-- docs:s --%}\", docs)\\\n",
    "               .replace(\"{%-- slides:s --%}\", slides)\n",
    "    \n",
    "with open(\"_build/html/index_7days.html\", 'w') as fout:\n",
    "    fout.write(page)"
   ]
  },
  {
   "cell_type": "code",
   "execution_count": 13,
   "id": "adc1a1ec",
   "metadata": {
    "execution": {
     "iopub.execute_input": "2023-08-29T04:07:30.202749Z",
     "iopub.status.busy": "2023-08-29T04:07:30.202263Z",
     "iopub.status.idle": "2023-08-29T04:07:30.210220Z",
     "shell.execute_reply": "2023-08-29T04:07:30.209495Z"
    },
    "papermill": {
     "duration": 0.017948,
     "end_time": "2023-08-29T04:07:30.211784",
     "exception": false,
     "start_time": "2023-08-29T04:07:30.193836",
     "status": "completed"
    },
    "tags": []
   },
   "outputs": [
    {
     "name": "stdout",
     "output_type": "stream",
     "text": [
      "2  publications in the last day.\n"
     ]
    }
   ],
   "source": [
    "# redo for today\n",
    "days = 1\n",
    "res = list(get_last_n_days(dates, days))\n",
    "npub = len(res)\n",
    "print(len(res), f\" publications in the last day.\")\n",
    "\n",
    "carousel = create_carousel(npub)\n",
    "docs = ', '.join(['\"{0:s}\"'.format(k.split('/')[-1]) for k in res])\n",
    "slides = ', '.join([f'\"slide{k}\"' for k in range(1, npub + 1)])\n",
    "\n",
    "with open(\"daily_template.html\", \"r\") as tpl:\n",
    "    page = tpl.read()\n",
    "    page = page.replace(\"{%-- carousel:s --%}\", carousel)\\\n",
    "               .replace(\"{%-- suptitle:s --%}\",  \"Daily\" )\\\n",
    "               .replace(\"{%-- docs:s --%}\", docs)\\\n",
    "               .replace(\"{%-- slides:s --%}\", slides)\n",
    "    \n",
    "# print(carousel, docs, slides)\n",
    "# print(page)\n",
    "with open(\"_build/html/index_daily.html\", 'w') as fout:\n",
    "    fout.write(page)"
   ]
  },
  {
   "cell_type": "code",
   "execution_count": 14,
   "id": "00eece82",
   "metadata": {
    "execution": {
     "iopub.execute_input": "2023-08-29T04:07:30.227963Z",
     "iopub.status.busy": "2023-08-29T04:07:30.227416Z",
     "iopub.status.idle": "2023-08-29T04:07:30.235611Z",
     "shell.execute_reply": "2023-08-29T04:07:30.234853Z"
    },
    "papermill": {
     "duration": 0.018329,
     "end_time": "2023-08-29T04:07:30.237152",
     "exception": false,
     "start_time": "2023-08-29T04:07:30.218823",
     "status": "completed"
    },
    "scrolled": false,
    "tags": []
   },
   "outputs": [
    {
     "name": "stdout",
     "output_type": "stream",
     "text": [
      "6  6 publications selected.\n"
     ]
    }
   ],
   "source": [
    "# Create the flat grid of the last N papers (fixed number regardless of dates)\n",
    "from itertools import islice \n",
    "\n",
    "npub = 6\n",
    "res = [k[0] for k in (islice(reversed(sorted(dates, key=lambda x: x[1])), 6))]\n",
    "print(len(res), f\" {npub} publications selected.\")\n",
    "\n",
    "grid = create_grid(npub)\n",
    "docs = ', '.join(['\"{0:s}\"'.format(k.split('/')[-1]) for k in res])\n",
    "slides = ', '.join([f'\"slide{k}\"' for k in range(1, npub + 1)])\n",
    "\n",
    "with open(\"grid_template.html\", \"r\") as tpl:\n",
    "    page = tpl.read()\n",
    "    page = page.replace(\"{%-- grid-content:s --%}\", grid)\\\n",
    "               .replace(\"{%-- suptitle:s --%}\",  f\"Last {npub:,d} papers\" )\\\n",
    "               .replace(\"{%-- docs:s --%}\", docs)\\\n",
    "               .replace(\"{%-- slides:s --%}\", slides)\n",
    "    \n",
    "# print(grid, docs, slides)\n",
    "# print(page)\n",
    "with open(\"_build/html/index_npub_grid.html\", 'w') as fout:\n",
    "    fout.write(page)"
   ]
  }
 ],
 "metadata": {
  "kernelspec": {
   "display_name": "Python 3 (ipykernel)",
   "language": "python",
   "name": "python3"
  },
  "language_info": {
   "codemirror_mode": {
    "name": "ipython",
    "version": 3
   },
   "file_extension": ".py",
   "mimetype": "text/x-python",
   "name": "python",
   "nbconvert_exporter": "python",
   "pygments_lexer": "ipython3",
   "version": "3.9.17"
  },
  "papermill": {
   "default_parameters": {},
   "duration": 126.177005,
   "end_time": "2023-08-29T04:07:30.463122",
   "environment_variables": {},
   "exception": null,
   "input_path": "MPIA daily digest.ipynb",
   "output_path": "log.ipynb",
   "parameters": {},
   "start_time": "2023-08-29T04:05:24.286117",
   "version": "2.4.0"
  },
  "vscode": {
   "interpreter": {
    "hash": "aee8b7b246df8f9039afb4144a1f6fd8d2ca17a180786b69acc140d282b71a49"
   }
  },
  "widgets": {
   "application/vnd.jupyter.widget-state+json": {
    "state": {
     "378a3ae818084106a96e50692931bf63": {
      "model_module": "@jupyter-widgets/base",
      "model_module_version": "2.0.0",
      "model_name": "LayoutModel",
      "state": {
       "_model_module": "@jupyter-widgets/base",
       "_model_module_version": "2.0.0",
       "_model_name": "LayoutModel",
       "_view_count": null,
       "_view_module": "@jupyter-widgets/base",
       "_view_module_version": "2.0.0",
       "_view_name": "LayoutView",
       "align_content": null,
       "align_items": null,
       "align_self": null,
       "border_bottom": null,
       "border_left": null,
       "border_right": null,
       "border_top": null,
       "bottom": null,
       "display": null,
       "flex": null,
       "flex_flow": null,
       "grid_area": null,
       "grid_auto_columns": null,
       "grid_auto_flow": null,
       "grid_auto_rows": null,
       "grid_column": null,
       "grid_gap": null,
       "grid_row": null,
       "grid_template_areas": null,
       "grid_template_columns": null,
       "grid_template_rows": null,
       "height": null,
       "justify_content": null,
       "justify_items": null,
       "left": null,
       "margin": null,
       "max_height": null,
       "max_width": null,
       "min_height": null,
       "min_width": null,
       "object_fit": null,
       "object_position": null,
       "order": null,
       "overflow": null,
       "padding": null,
       "right": null,
       "top": null,
       "visibility": null,
       "width": null
      }
     },
     "3af7699c3a7442bb98da6bffa7f547d3": {
      "model_module": "@jupyter-widgets/base",
      "model_module_version": "2.0.0",
      "model_name": "LayoutModel",
      "state": {
       "_model_module": "@jupyter-widgets/base",
       "_model_module_version": "2.0.0",
       "_model_name": "LayoutModel",
       "_view_count": null,
       "_view_module": "@jupyter-widgets/base",
       "_view_module_version": "2.0.0",
       "_view_name": "LayoutView",
       "align_content": null,
       "align_items": null,
       "align_self": null,
       "border_bottom": null,
       "border_left": null,
       "border_right": null,
       "border_top": null,
       "bottom": null,
       "display": null,
       "flex": null,
       "flex_flow": null,
       "grid_area": null,
       "grid_auto_columns": null,
       "grid_auto_flow": null,
       "grid_auto_rows": null,
       "grid_column": null,
       "grid_gap": null,
       "grid_row": null,
       "grid_template_areas": null,
       "grid_template_columns": null,
       "grid_template_rows": null,
       "height": null,
       "justify_content": null,
       "justify_items": null,
       "left": null,
       "margin": null,
       "max_height": null,
       "max_width": null,
       "min_height": null,
       "min_width": null,
       "object_fit": null,
       "object_position": null,
       "order": null,
       "overflow": null,
       "padding": null,
       "right": null,
       "top": null,
       "visibility": null,
       "width": null
      }
     },
     "42aadedee18a41fc961c1a4fd875a6c6": {
      "model_module": "@jupyter-widgets/controls",
      "model_module_version": "2.0.0",
      "model_name": "HBoxModel",
      "state": {
       "_dom_classes": [],
       "_model_module": "@jupyter-widgets/controls",
       "_model_module_version": "2.0.0",
       "_model_name": "HBoxModel",
       "_view_count": null,
       "_view_module": "@jupyter-widgets/controls",
       "_view_module_version": "2.0.0",
       "_view_name": "HBoxView",
       "box_style": "",
       "children": [
        "IPY_MODEL_de0167cd32a04439b960e59cf320f3dd",
        "IPY_MODEL_4ab1a316d8a64999ad55f52bf159d038",
        "IPY_MODEL_cd841d380e2d4917b6aad39f1d7a5ca9"
       ],
       "layout": "IPY_MODEL_51cd12adbd6b463dabfb89d6bfdcd907",
       "tabbable": null,
       "tooltip": null
      }
     },
     "4ab1a316d8a64999ad55f52bf159d038": {
      "model_module": "@jupyter-widgets/controls",
      "model_module_version": "2.0.0",
      "model_name": "FloatProgressModel",
      "state": {
       "_dom_classes": [],
       "_model_module": "@jupyter-widgets/controls",
       "_model_module_version": "2.0.0",
       "_model_name": "FloatProgressModel",
       "_view_count": null,
       "_view_module": "@jupyter-widgets/controls",
       "_view_module_version": "2.0.0",
       "_view_name": "ProgressView",
       "bar_style": "success",
       "description": "",
       "description_allow_html": false,
       "layout": "IPY_MODEL_3af7699c3a7442bb98da6bffa7f547d3",
       "max": 4.0,
       "min": 0.0,
       "orientation": "horizontal",
       "style": "IPY_MODEL_749871bcc167424396dac7a8684e6336",
       "tabbable": null,
       "tooltip": null,
       "value": 4.0
      }
     },
     "51cd12adbd6b463dabfb89d6bfdcd907": {
      "model_module": "@jupyter-widgets/base",
      "model_module_version": "2.0.0",
      "model_name": "LayoutModel",
      "state": {
       "_model_module": "@jupyter-widgets/base",
       "_model_module_version": "2.0.0",
       "_model_name": "LayoutModel",
       "_view_count": null,
       "_view_module": "@jupyter-widgets/base",
       "_view_module_version": "2.0.0",
       "_view_name": "LayoutView",
       "align_content": null,
       "align_items": null,
       "align_self": null,
       "border_bottom": null,
       "border_left": null,
       "border_right": null,
       "border_top": null,
       "bottom": null,
       "display": null,
       "flex": null,
       "flex_flow": null,
       "grid_area": null,
       "grid_auto_columns": null,
       "grid_auto_flow": null,
       "grid_auto_rows": null,
       "grid_column": null,
       "grid_gap": null,
       "grid_row": null,
       "grid_template_areas": null,
       "grid_template_columns": null,
       "grid_template_rows": null,
       "height": null,
       "justify_content": null,
       "justify_items": null,
       "left": null,
       "margin": null,
       "max_height": null,
       "max_width": null,
       "min_height": null,
       "min_width": null,
       "object_fit": null,
       "object_position": null,
       "order": null,
       "overflow": null,
       "padding": null,
       "right": null,
       "top": null,
       "visibility": null,
       "width": null
      }
     },
     "749871bcc167424396dac7a8684e6336": {
      "model_module": "@jupyter-widgets/controls",
      "model_module_version": "2.0.0",
      "model_name": "ProgressStyleModel",
      "state": {
       "_model_module": "@jupyter-widgets/controls",
       "_model_module_version": "2.0.0",
       "_model_name": "ProgressStyleModel",
       "_view_count": null,
       "_view_module": "@jupyter-widgets/base",
       "_view_module_version": "2.0.0",
       "_view_name": "StyleView",
       "bar_color": null,
       "description_width": ""
      }
     },
     "78e1c10eaa7c44909a775880d3a7e75e": {
      "model_module": "@jupyter-widgets/controls",
      "model_module_version": "2.0.0",
      "model_name": "HTMLStyleModel",
      "state": {
       "_model_module": "@jupyter-widgets/controls",
       "_model_module_version": "2.0.0",
       "_model_name": "HTMLStyleModel",
       "_view_count": null,
       "_view_module": "@jupyter-widgets/base",
       "_view_module_version": "2.0.0",
       "_view_name": "StyleView",
       "background": null,
       "description_width": "",
       "font_size": null,
       "text_color": null
      }
     },
     "c9cae3b042e74feb8d050a022b16d9e8": {
      "model_module": "@jupyter-widgets/controls",
      "model_module_version": "2.0.0",
      "model_name": "HTMLStyleModel",
      "state": {
       "_model_module": "@jupyter-widgets/controls",
       "_model_module_version": "2.0.0",
       "_model_name": "HTMLStyleModel",
       "_view_count": null,
       "_view_module": "@jupyter-widgets/base",
       "_view_module_version": "2.0.0",
       "_view_name": "StyleView",
       "background": null,
       "description_width": "",
       "font_size": null,
       "text_color": null
      }
     },
     "cd841d380e2d4917b6aad39f1d7a5ca9": {
      "model_module": "@jupyter-widgets/controls",
      "model_module_version": "2.0.0",
      "model_name": "HTMLModel",
      "state": {
       "_dom_classes": [],
       "_model_module": "@jupyter-widgets/controls",
       "_model_module_version": "2.0.0",
       "_model_name": "HTMLModel",
       "_view_count": null,
       "_view_module": "@jupyter-widgets/controls",
       "_view_module_version": "2.0.0",
       "_view_name": "HTMLView",
       "description": "",
       "description_allow_html": false,
       "layout": "IPY_MODEL_e73b3157865a4ac5b8a63d47ca17535f",
       "placeholder": "​",
       "style": "IPY_MODEL_78e1c10eaa7c44909a775880d3a7e75e",
       "tabbable": null,
       "tooltip": null,
       "value": " 4/4 [01:38&lt;00:00, 24.79s/it]"
      }
     },
     "de0167cd32a04439b960e59cf320f3dd": {
      "model_module": "@jupyter-widgets/controls",
      "model_module_version": "2.0.0",
      "model_name": "HTMLModel",
      "state": {
       "_dom_classes": [],
       "_model_module": "@jupyter-widgets/controls",
       "_model_module_version": "2.0.0",
       "_model_name": "HTMLModel",
       "_view_count": null,
       "_view_module": "@jupyter-widgets/controls",
       "_view_module_version": "2.0.0",
       "_view_name": "HTMLView",
       "description": "",
       "description_allow_html": false,
       "layout": "IPY_MODEL_378a3ae818084106a96e50692931bf63",
       "placeholder": "​",
       "style": "IPY_MODEL_c9cae3b042e74feb8d050a022b16d9e8",
       "tabbable": null,
       "tooltip": null,
       "value": "100%"
      }
     },
     "e73b3157865a4ac5b8a63d47ca17535f": {
      "model_module": "@jupyter-widgets/base",
      "model_module_version": "2.0.0",
      "model_name": "LayoutModel",
      "state": {
       "_model_module": "@jupyter-widgets/base",
       "_model_module_version": "2.0.0",
       "_model_name": "LayoutModel",
       "_view_count": null,
       "_view_module": "@jupyter-widgets/base",
       "_view_module_version": "2.0.0",
       "_view_name": "LayoutView",
       "align_content": null,
       "align_items": null,
       "align_self": null,
       "border_bottom": null,
       "border_left": null,
       "border_right": null,
       "border_top": null,
       "bottom": null,
       "display": null,
       "flex": null,
       "flex_flow": null,
       "grid_area": null,
       "grid_auto_columns": null,
       "grid_auto_flow": null,
       "grid_auto_rows": null,
       "grid_column": null,
       "grid_gap": null,
       "grid_row": null,
       "grid_template_areas": null,
       "grid_template_columns": null,
       "grid_template_rows": null,
       "height": null,
       "justify_content": null,
       "justify_items": null,
       "left": null,
       "margin": null,
       "max_height": null,
       "max_width": null,
       "min_height": null,
       "min_width": null,
       "object_fit": null,
       "object_position": null,
       "order": null,
       "overflow": null,
       "padding": null,
       "right": null,
       "top": null,
       "visibility": null,
       "width": null
      }
     }
    },
    "version_major": 2,
    "version_minor": 0
   }
  }
 },
 "nbformat": 4,
 "nbformat_minor": 5
}