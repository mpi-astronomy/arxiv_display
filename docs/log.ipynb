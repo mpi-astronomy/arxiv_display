{
 "cells": [
  {
   "cell_type": "markdown",
   "id": "92bcb855",
   "metadata": {
    "papermill": {
     "duration": 0.003961,
     "end_time": "2024-07-03T04:09:00.775217",
     "exception": false,
     "start_time": "2024-07-03T04:09:00.771256",
     "status": "completed"
    },
    "tags": []
   },
   "source": [
    "# MPIA Arxiv on Deck 2\n",
    "\n",
    "Contains the steps to produce the paper extractions."
   ]
  },
  {
   "cell_type": "code",
   "execution_count": 1,
   "id": "3a0d6e11",
   "metadata": {
    "execution": {
     "iopub.execute_input": "2024-07-03T04:09:00.782695Z",
     "iopub.status.busy": "2024-07-03T04:09:00.782397Z",
     "iopub.status.idle": "2024-07-03T04:09:01.306524Z",
     "shell.execute_reply": "2024-07-03T04:09:01.305897Z"
    },
    "papermill": {
     "duration": 0.529937,
     "end_time": "2024-07-03T04:09:01.308274",
     "exception": false,
     "start_time": "2024-07-03T04:09:00.778337",
     "status": "completed"
    },
    "tags": []
   },
   "outputs": [],
   "source": [
    "# Imports\n",
    "import os\n",
    "from IPython.display import Markdown, display\n",
    "from tqdm.notebook import tqdm\n",
    "import warnings\n",
    "from PIL import Image \n",
    "\n",
    "# requires arxiv_on_deck_2\n",
    "\n",
    "from arxiv_on_deck_2.arxiv2 import (get_new_papers, \n",
    "                                    get_paper_from_identifier,\n",
    "                                    retrieve_document_source, \n",
    "                                    get_markdown_badge)\n",
    "from arxiv_on_deck_2 import (latex,\n",
    "                             latex_bib,\n",
    "                             mpia,\n",
    "                             highlight_authors_in_list)\n",
    "\n",
    "# Sometimes images are really big\n",
    "Image.MAX_IMAGE_PIXELS = 1000000000 "
   ]
  },
  {
   "cell_type": "code",
   "execution_count": 2,
   "id": "22aa9d44",
   "metadata": {
    "execution": {
     "iopub.execute_input": "2024-07-03T04:09:01.315666Z",
     "iopub.status.busy": "2024-07-03T04:09:01.315172Z",
     "iopub.status.idle": "2024-07-03T04:09:01.320409Z",
     "shell.execute_reply": "2024-07-03T04:09:01.319777Z"
    },
    "papermill": {
     "duration": 0.010341,
     "end_time": "2024-07-03T04:09:01.321775",
     "exception": false,
     "start_time": "2024-07-03T04:09:01.311434",
     "status": "completed"
    },
    "tags": []
   },
   "outputs": [],
   "source": [
    "# Some useful definitions.\n",
    "\n",
    "class AffiliationWarning(UserWarning):\n",
    "    pass\n",
    "\n",
    "class AffiliationError(RuntimeError):\n",
    "    pass\n",
    "\n",
    "def validation(source: str):\n",
    "    \"\"\"Raises error paper during parsing of source file\n",
    "    \n",
    "    Allows checks before parsing TeX code.\n",
    "    \n",
    "    Raises AffiliationWarning\n",
    "    \"\"\"\n",
    "    check = mpia.affiliation_verifications(source, verbose=True)\n",
    "    if check is not True:\n",
    "        raise AffiliationError(\"mpia.affiliation_verifications: \" + check)\n",
    "\n",
    "        \n",
    "warnings.simplefilter('always', AffiliationWarning)\n",
    "\n",
    "\n",
    "def get_markdown_qrcode(paper_id: str):\n",
    "    \"\"\" Generate a qrcode to the arxiv page using qrserver.com\n",
    "    \n",
    "    :param paper: Arxiv paper\n",
    "    :returns: markdown text\n",
    "    \"\"\"\n",
    "    url = r\"https://api.qrserver.com/v1/create-qr-code/?size=100x100&data=\"\n",
    "    txt = f\"\"\"<img src={url}\"https://arxiv.org/abs/{paper_id}\">\"\"\"\n",
    "    txt = '<div id=\"qrcode\">' + txt + '</div>'\n",
    "    return txt"
   ]
  },
  {
   "cell_type": "markdown",
   "id": "14bd6310",
   "metadata": {
    "papermill": {
     "duration": 0.002864,
     "end_time": "2024-07-03T04:09:01.327590",
     "exception": false,
     "start_time": "2024-07-03T04:09:01.324726",
     "status": "completed"
    },
    "tags": []
   },
   "source": [
    "## get list of arxiv paper candidates\n",
    "\n",
    "We use the MPIA mitarbeiter list webpage from mpia.de to get author names\n",
    "We then get all new papers from Arxiv and match authors"
   ]
  },
  {
   "cell_type": "code",
   "execution_count": 3,
   "id": "7ea813a8",
   "metadata": {
    "execution": {
     "iopub.execute_input": "2024-07-03T04:09:01.334519Z",
     "iopub.status.busy": "2024-07-03T04:09:01.334039Z",
     "iopub.status.idle": "2024-07-03T04:09:18.927353Z",
     "shell.execute_reply": "2024-07-03T04:09:18.926674Z"
    },
    "papermill": {
     "duration": 17.598532,
     "end_time": "2024-07-03T04:09:18.928974",
     "exception": false,
     "start_time": "2024-07-03T04:09:01.330442",
     "status": "completed"
    },
    "tags": []
   },
   "outputs": [],
   "source": [
    "# deal with the author list and edge cases of people that cannot be consistent on their name  \n",
    "\n",
    "def filter_non_scientists(name: str) -> bool:\n",
    "    \"\"\" Loose filter on expected authorships\n",
    "\n",
    "    removing IT, administration, technical staff\n",
    "    :param name: name\n",
    "    :returns: False if name is not a scientist\n",
    "    \"\"\"\n",
    "    remove_list = ['Wolf', 'Licht', 'Binroth', 'Witzel', 'Jordan',\n",
    "                   'Zähringer', 'Scheerer', 'Hoffmann', 'Düe',\n",
    "                   'Hellmich', 'Enkler-Scharpegge', 'Witte-Nguy',\n",
    "                   'Dehen', 'Beckmann', 'Jager', 'Jäger'\n",
    "                  ]\n",
    "\n",
    "    for k in remove_list:\n",
    "        if k in name:\n",
    "            return False\n",
    "    return True\n",
    "\n",
    "def add_author_to_list(author_list: list) -> list:\n",
    "    \"\"\" Add author to list if not already in list\n",
    "    \n",
    "    :param author: author name\n",
    "    :param author_list: list of authors\n",
    "    :returns: updated list of authors\n",
    "    \"\"\"\n",
    "    add_list = ['T. Henning']\n",
    "\n",
    "    for author in add_list:\n",
    "        if author not in author_list:\n",
    "            author_list.append(author)\n",
    "    return author_list\n",
    "\n",
    "# get list from MPIA website\n",
    "# filter for non-scientists (mpia.get_mpia_mitarbeiter_list() does some filtering)\n",
    "mpia_authors = [k[1] for k in mpia.get_mpia_mitarbeiter_list() if filter_non_scientists(k[1])]\n",
    "# add some missing author because of inconsistencies in their MPIA name and author name on papers\n",
    "mpia_authors = add_author_to_list(mpia_authors)"
   ]
  },
  {
   "cell_type": "code",
   "execution_count": 4,
   "id": "2645e73a",
   "metadata": {
    "execution": {
     "iopub.execute_input": "2024-07-03T04:09:18.936589Z",
     "iopub.status.busy": "2024-07-03T04:09:18.936197Z",
     "iopub.status.idle": "2024-07-03T04:09:19.721423Z",
     "shell.execute_reply": "2024-07-03T04:09:19.720794Z"
    },
    "papermill": {
     "duration": 0.790429,
     "end_time": "2024-07-03T04:09:19.722736",
     "exception": false,
     "start_time": "2024-07-03T04:09:18.932307",
     "status": "completed"
    },
    "tags": []
   },
   "outputs": [
    {
     "name": "stdout",
     "output_type": "stream",
     "text": [
      "F. Walter  ->  F. Walter  |  ['F. Walter']\n",
      "T. K. Henning  ->  T. K. Henning  |  ['T. K. Henning']\n",
      "L. Kreidberg  ->  L. Kreidberg  |  ['L. Kreidberg']\n",
      "L. Eisert  ->  L. Eisert  |  ['L. Eisert']\n",
      "A. Pillepich  ->  A. Pillepich  |  ['A. Pillepich']\n",
      "A. Pillepich  ->  A. Pillepich  |  ['A. Pillepich']\n",
      "J. Liu  ->  J. Liu  |  ['J. Liu']\n",
      "R. Zhang  ->  R. Zhang  |  ['R. Zhang']\n",
      "K. Lee  ->  K. Lee  |  ['K. Lee']\n",
      "S. Li  ->  S. Li  |  ['S. Li']\n",
      "J. Li  ->  J. Li  |  ['J. Li']\n"
     ]
    },
    {
     "name": "stdout",
     "output_type": "stream",
     "text": [
      "D. Semenov  ->  D. Semenov  |  ['D. Semenov']\n",
      "S. Li  ->  S. Li  |  ['S. Li']\n",
      "Arxiv has 85 new papers today\n",
      "          11 with possible author matches\n"
     ]
    }
   ],
   "source": [
    "new_papers = get_new_papers()\n",
    "# add manual references\n",
    "add_paper_refs = []\n",
    "new_papers.extend([get_paper_from_identifier(k) for k in add_paper_refs])\n",
    "\n",
    "candidates = []\n",
    "for paperk in new_papers:\n",
    "    # Check author list with their initials\n",
    "    normed_author_list = [mpia.get_initials(k) for k in paperk['authors']]\n",
    "    hl_authors = highlight_authors_in_list(normed_author_list, mpia_authors, verbose=True)\n",
    "    matches = [(hl, orig) for hl, orig in zip(hl_authors, paperk['authors']) if 'mark' in hl]\n",
    "    paperk['authors'] = hl_authors\n",
    "    if matches:\n",
    "        # only select paper if an author matched our list\n",
    "        candidates.append(paperk)\n",
    "print(\"\"\"Arxiv has {0:,d} new papers today\"\"\".format(len(new_papers)))        \n",
    "print(\"\"\"          {0:,d} with possible author matches\"\"\".format(len(candidates)))"
   ]
  },
  {
   "cell_type": "markdown",
   "id": "3543b34a",
   "metadata": {
    "papermill": {
     "duration": 0.00411,
     "end_time": "2024-07-03T04:09:19.730843",
     "exception": false,
     "start_time": "2024-07-03T04:09:19.726733",
     "status": "completed"
    },
    "tags": []
   },
   "source": [
    "# Parse sources and generate relevant outputs\n",
    "\n",
    "From the candidates, we do the following steps:\n",
    "* get their tarball from ArXiv (and extract data)\n",
    "* find the main .tex file: find one with \\documentclass{...} (sometimes it's non trivial)\n",
    "* Check affiliations with :func:`validation`, which uses :func:`mpia.affiliation_verifications`\n",
    "* If passing the affiliations: we parse the .tex source\n",
    "   * inject sub-documents into the main (flatten the main document)\n",
    "   * parse structure, extract information (title, abstract, authors, figures...)\n",
    "   * handles `\\graphicspath` if provided\n",
    "* Generate the .md document."
   ]
  },
  {
   "cell_type": "code",
   "execution_count": 5,
   "id": "9576b79e",
   "metadata": {
    "execution": {
     "iopub.execute_input": "2024-07-03T04:09:19.738281Z",
     "iopub.status.busy": "2024-07-03T04:09:19.737832Z",
     "iopub.status.idle": "2024-07-03T04:11:28.658569Z",
     "shell.execute_reply": "2024-07-03T04:11:28.657714Z"
    },
    "papermill": {
     "duration": 128.927608,
     "end_time": "2024-07-03T04:11:28.661520",
     "exception": false,
     "start_time": "2024-07-03T04:09:19.733912",
     "status": "completed"
    },
    "scrolled": false,
    "tags": []
   },
   "outputs": [
    {
     "data": {
      "application/vnd.jupyter.widget-view+json": {
       "model_id": "2733e17843f6407bb267a3648e7401b5",
       "version_major": 2,
       "version_minor": 0
      },
      "text/plain": [
       "  0%|          | 0/11 [00:00<?, ?it/s]"
      ]
     },
     "metadata": {},
     "output_type": "display_data"
    },
    {
     "name": "stdout",
     "output_type": "stream",
     "text": [
      "Retrieving document from  https://arxiv.org/e-print/2407.00153\n",
      "extracting tarball to tmp_2407.00153... done.\n"
     ]
    },
    {
     "name": "stdout",
     "output_type": "stream",
     "text": [
      "list index out of range\n",
      "Retrieving document from  https://arxiv.org/e-print/2407.00165\n"
     ]
    },
    {
     "name": "stdout",
     "output_type": "stream",
     "text": [
      "extracting tarball to tmp_2407.00165..."
     ]
    },
    {
     "name": "stdout",
     "output_type": "stream",
     "text": [
      " done.\n",
      "Retrieving document from  https://arxiv.org/e-print/2407.00166\n",
      "extracting tarball to tmp_2407.00166..."
     ]
    },
    {
     "name": "stderr",
     "output_type": "stream",
     "text": [
      "/opt/hostedtoolcache/Python/3.9.19/x64/lib/python3.9/site-packages/IPython/core/interactiveshell.py:3550: LatexWarning: Multiple tex files.\n",
      "\n",
      "  exec(code_obj, self.user_global_ns, self.user_ns)\n",
      "/tmp/ipykernel_2093/1211882699.py:51: LatexWarning: 2407.00165 did not run properly\n",
      "'PosixPath' object is not subscriptable\n",
      "  warnings.warn(latex.LatexWarning(f\"{paper_id:s} did not run properly\\n\" +\n"
     ]
    },
    {
     "name": "stdout",
     "output_type": "stream",
     "text": [
      " done.\n"
     ]
    },
    {
     "name": "stdout",
     "output_type": "stream",
     "text": [
      "L. Eisert  ->  L. Eisert  |  ['L. Eisert']\n",
      "A. Pillepich  ->  A. Pillepich  |  ['A. Pillepich']\n"
     ]
    },
    {
     "name": "stderr",
     "output_type": "stream",
     "text": [
      "/opt/hostedtoolcache/Python/3.9.19/x64/lib/python3.9/site-packages/arxiv_on_deck_2/latex.py:132: LatexWarning: attempting recovering figure Figures/sfr_bimodality_exsitu.png\n",
      "    \n",
      "  warnings.warn(LatexWarning(f'attempting recovering figure {image}'))\n",
      "/opt/hostedtoolcache/Python/3.9.19/x64/lib/python3.9/site-packages/arxiv_on_deck_2/latex.py:707: LatexWarning: Could not find graphic \\includegraphics[width=0.48\\linewidth]{Figures/sfr_bimodality_exsitu.png\n",
      "    }\n",
      "  warnings.warn(LatexWarning(f\"Could not find graphic {k}\"))\n"
     ]
    },
    {
     "name": "stdout",
     "output_type": "stream",
     "text": [
      "Found 72 bibliographic references in tmp_2407.00166/main.bbl.\n",
      "Error retrieving bib data for 2020ARA&A..58..205H: '2020ara&a..58..205h'\n",
      "Error retrieving bib data for 2017MNRAS.466.1491H: '2017mnras.466.1491h'\n",
      "Error retrieving bib data for 2022A&A...664A.115Z: '2022a&a...664a.115z'\n",
      "Error retrieving bib data for 2022ApJ...940..168C: '2022apj...940..168c'\n",
      "Retrieving document from  https://arxiv.org/e-print/2407.00171\n",
      "extracting tarball to tmp_2407.00171... done.\n"
     ]
    },
    {
     "name": "stderr",
     "output_type": "stream",
     "text": [
      "/opt/hostedtoolcache/Python/3.9.19/x64/lib/python3.9/site-packages/arxiv_on_deck_2/latex_bib.py:132: UserWarning: Error processing bibitem\n",
      " item = \\bibitem{2015ARA&A..53...51S}\\bibinfo{author}{{Somerville}, R.~S.}  \\bibinfo{author}{{Dav{é}}, R.}\\newblock \\bibinfo{title}{{Physical Models of Galaxy Formation in a Cosmological Framework}}.\\newblock \\emph{\\bibinfo{journal}{\\araa}} \\textbf{\\bibinfo{volume}{53}}, \\bibinfo{pages}{51--113} (\\bibinfo{year}{2015}).\n",
      " regex = \n",
      "        \\\\bibitem(\\[[^\\[\\]]*?\\]){(?P<bibkey>[a-zA-Z0-9\\-\\+\\.\\S]+?)}(?P<authors>|([\\D]*?))(?P<year>[12][0-9]{3})(?P<rest>.*)\n",
      "        \n",
      "  warnings.warn(str(e))\n",
      "/opt/hostedtoolcache/Python/3.9.19/x64/lib/python3.9/site-packages/arxiv_on_deck_2/latex_bib.py:132: UserWarning: Error processing bibitem\n",
      " item = \\bibitem{2009ApJS..182..216K}\\bibinfo{author}{{Kormendy}, J.}, \\bibinfo{author}{{Fisher}, D.~B.}, \\bibinfo{author}{{Cornell}, M.~E.}  \\bibinfo{author}{{Bender}, R.}\\newblock \\bibinfo{title}{{Structure and Formation of Elliptical and Spheroidal Galaxies}}.\\newblock \\emph{\\bibinfo{journal}{\\apjs}} \\textbf{\\bibinfo{volume}{182}}, \\bibinfo{pages}{216--309} (\\bibinfo{year}{2009}).\n",
      " regex = \n",
      "        \\\\bibitem(\\[[^\\[\\]]*?\\]){(?P<bibkey>[a-zA-Z0-9\\-\\+\\.\\S]+?)}(?P<authors>|([\\D]*?))(?P<year>[12][0-9]{3})(?P<rest>.*)\n",
      "        \n",
      "  warnings.warn(str(e))\n",
      "/opt/hostedtoolcache/Python/3.9.19/x64/lib/python3.9/site-packages/arxiv_on_deck_2/latex_bib.py:132: UserWarning: Error processing bibitem\n",
      " item = \\bibitem{2011MNRAS.412..591P}\\bibinfo{author}{{Patton}, D.~R.}, \\bibinfo{author}{{Ellison}, S.~L.}, \\bibinfo{author}{{Simard}, L.}, \\bibinfo{author}{{McConnachie}, A.~W.}  \\bibinfo{author}{{Mendel}, J.~T.}\\newblock \\bibinfo{title}{{Galaxy pairs in the Sloan Digital Sky Survey - III. Evidence of induced star formation from optical colours}}.\\newblock \\emph{\\bibinfo{journal}{\\mnras}} \\textbf{\\bibinfo{volume}{412}}, \\bibinfo{pages}{591--606} (\\bibinfo{year}{2011}).\n",
      " regex = \n",
      "        \\\\bibitem(\\[[^\\[\\]]*?\\]){(?P<bibkey>[a-zA-Z0-9\\-\\+\\.\\S]+?)}(?P<authors>|([\\D]*?))(?P<year>[12][0-9]{3})(?P<rest>.*)\n",
      "        \n",
      "  warnings.warn(str(e))\n",
      "/opt/hostedtoolcache/Python/3.9.19/x64/lib/python3.9/site-packages/arxiv_on_deck_2/latex_bib.py:132: UserWarning: Error processing bibitem\n",
      " item = \\bibitem{2008AJ....135.1877E}\\bibinfo{author}{{Ellison}, S.~L.}, \\bibinfo{author}{{Patton}, D.~R.}, \\bibinfo{author}{{Simard}, L.}  \\bibinfo{author}{{McConnachie}, A.~W.}\\newblock \\bibinfo{title}{{Galaxy Pairs in the Sloan Digital Sky Survey. I. Star Formation, Active Galactic Nucleus Fraction, and the Mass-Metallicity Relation}}.\\newblock \\emph{\\bibinfo{journal}{\\aj}} \\textbf{\\bibinfo{volume}{135}}, \\bibinfo{pages}{1877--1899} (\\bibinfo{year}{2008}).\n",
      " regex = \n",
      "        \\\\bibitem(\\[[^\\[\\]]*?\\]){(?P<bibkey>[a-zA-Z0-9\\-\\+\\.\\S]+?)}(?P<authors>|([\\D]*?))(?P<year>[12][0-9]{3})(?P<rest>.*)\n",
      "        \n",
      "  warnings.warn(str(e))\n",
      "/opt/hostedtoolcache/Python/3.9.19/x64/lib/python3.9/site-packages/arxiv_on_deck_2/latex_bib.py:132: UserWarning: Error processing bibitem\n",
      " item = \\bibitem{2006ApJ...640..241B}\\bibinfo{author}{{Bell}, E.~F.} \\emph{et~al.}\\newblock \\bibinfo{title}{{Dry Mergers in GEMS: The Dynamical Evolution of Massive Early-Type Galaxies}}.\\newblock \\emph{\\bibinfo{journal}{\\apj}} \\textbf{\\bibinfo{volume}{640}}, \\bibinfo{pages}{241--251} (\\bibinfo{year}{2006}).\n",
      " regex = \n",
      "        \\\\bibitem(\\[[^\\[\\]]*?\\]){(?P<bibkey>[a-zA-Z0-9\\-\\+\\.\\S]+?)}(?P<authors>|([\\D]*?))(?P<year>[12][0-9]{3})(?P<rest>.*)\n",
      "        \n",
      "  warnings.warn(str(e))\n",
      "/opt/hostedtoolcache/Python/3.9.19/x64/lib/python3.9/site-packages/arxiv_on_deck_2/latex_bib.py:132: UserWarning: Error processing bibitem\n",
      " item = \\bibitem{2014ARA&A..52..415M}\\bibinfo{author}{{Madau}, P.}  \\bibinfo{author}{{Dickinson}, M.}\\newblock \\bibinfo{title}{{Cosmic Star-Formation History}}.\\newblock \\emph{\\bibinfo{journal}{\\araa}} \\textbf{\\bibinfo{volume}{52}}, \\bibinfo{pages}{415--486} (\\bibinfo{year}{2014}).\n",
      " regex = \n",
      "        \\\\bibitem(\\[[^\\[\\]]*?\\]){(?P<bibkey>[a-zA-Z0-9\\-\\+\\.\\S]+?)}(?P<authors>|([\\D]*?))(?P<year>[12][0-9]{3})(?P<rest>.*)\n",
      "        \n",
      "  warnings.warn(str(e))\n",
      "/opt/hostedtoolcache/Python/3.9.19/x64/lib/python3.9/site-packages/arxiv_on_deck_2/latex_bib.py:132: UserWarning: Error processing bibitem\n",
      " item = \\bibitem{2000ApJ...530..660B}\\bibinfo{author}{{Barton}, E.~J.}, \\bibinfo{author}{{Geller}, M.~J.}  \\bibinfo{author}{{Kenyon}, S.~J.}\\newblock \\bibinfo{title}{{Tidally Triggered Star Formation in Close Pairs of Galaxies}}.\\newblock \\emph{\\bibinfo{journal}{\\apj}} \\textbf{\\bibinfo{volume}{530}}, \\bibinfo{pages}{660--679} (\\bibinfo{year}{2000}).\n",
      " regex = \n",
      "        \\\\bibitem(\\[[^\\[\\]]*?\\]){(?P<bibkey>[a-zA-Z0-9\\-\\+\\.\\S]+?)}(?P<authors>|([\\D]*?))(?P<year>[12][0-9]{3})(?P<rest>.*)\n",
      "        \n",
      "  warnings.warn(str(e))\n",
      "/opt/hostedtoolcache/Python/3.9.19/x64/lib/python3.9/site-packages/arxiv_on_deck_2/latex_bib.py:132: UserWarning: Error processing bibitem\n",
      " item = \\bibitem{2004ApJ...617L...9L}\\bibinfo{author}{{Lin}, L.} \\emph{et~al.}\\newblock \\bibinfo{title}{{The DEEP2 Galaxy Redshift Survey: Evolution of Close Galaxy Pairs and Major-Merger Rates up to z \\raisebox{-0.5ex}\\textasciitilde 1.2}}.\\newblock \\emph{\\bibinfo{journal}{\\apjl}} \\textbf{\\bibinfo{volume}{617}}, \\bibinfo{pages}{L9--L12} (\\bibinfo{year}{2004}).\n",
      " regex = \n",
      "        \\\\bibitem(\\[[^\\[\\]]*?\\]){(?P<bibkey>[a-zA-Z0-9\\-\\+\\.\\S]+?)}(?P<authors>|([\\D]*?))(?P<year>[12][0-9]{3})(?P<rest>.*)\n",
      "        \n",
      "  warnings.warn(str(e))\n",
      "/opt/hostedtoolcache/Python/3.9.19/x64/lib/python3.9/site-packages/arxiv_on_deck_2/latex_bib.py:132: UserWarning: Error processing bibitem\n",
      " item = \\bibitem{2003AJ....126.1183C}\\bibinfo{author}{{Conselice}, C.~J.}, \\bibinfo{author}{{Bershady}, M.~A.}, \\bibinfo{author}{{Dickinson}, M.}  \\bibinfo{author}{{Papovich}, C.}\\newblock \\bibinfo{title}{{A Direct Measurement of Major Galaxy Mergers at z<\\raisebox{-0.5ex}\\textasciitilde3}}.\\newblock \\emph{\\bibinfo{journal}{\\aj}} \\textbf{\\bibinfo{volume}{126}}, \\bibinfo{pages}{1183--1207} (\\bibinfo{year}{2003}).\n",
      " regex = \n",
      "        \\\\bibitem(\\[[^\\[\\]]*?\\]){(?P<bibkey>[a-zA-Z0-9\\-\\+\\.\\S]+?)}(?P<authors>|([\\D]*?))(?P<year>[12][0-9]{3})(?P<rest>.*)\n",
      "        \n",
      "  warnings.warn(str(e))\n",
      "/opt/hostedtoolcache/Python/3.9.19/x64/lib/python3.9/site-packages/arxiv_on_deck_2/latex_bib.py:132: UserWarning: Error processing bibitem\n",
      " item = \\bibitem{2004AJ....128..163L}\\bibinfo{author}{{Lotz}, J.~M.}, \\bibinfo{author}{{Primack}, J.}  \\bibinfo{author}{{Madau}, P.}\\newblock \\bibinfo{title}{{A New Nonparametric Approach to Galaxy Morphological Classification}}.\\newblock \\emph{\\bibinfo{journal}{\\aj}} \\textbf{\\bibinfo{volume}{128}}, \\bibinfo{pages}{163--182} (\\bibinfo{year}{2004}).\n",
      " regex = \n",
      "        \\\\bibitem(\\[[^\\[\\]]*?\\]){(?P<bibkey>[a-zA-Z0-9\\-\\+\\.\\S]+?)}(?P<authors>|([\\D]*?))(?P<year>[12][0-9]{3})(?P<rest>.*)\n",
      "        \n",
      "  warnings.warn(str(e))\n",
      "/opt/hostedtoolcache/Python/3.9.19/x64/lib/python3.9/site-packages/arxiv_on_deck_2/latex_bib.py:132: UserWarning: Error processing bibitem\n",
      " item = \\bibitem{2017MNRAS.466.1491H}\\bibinfo{author}{{Harmsen}, B.} \\emph{et~al.}\\newblock \\bibinfo{title}{{Diverse stellar haloes in nearby Milky Way mass disc galaxies}}.\\newblock \\emph{\\bibinfo{journal}{\\mnras}} \\textbf{\\bibinfo{volume}{466}}, \\bibinfo{pages}{1491--1512} (\\bibinfo{year}{2017}).\n",
      " regex = \n",
      "        \\\\bibitem(\\[[^\\[\\]]*?\\]){(?P<bibkey>[a-zA-Z0-9\\-\\+\\.\\S]+?)}(?P<authors>|([\\D]*?))(?P<year>[12][0-9]{3})(?P<rest>.*)\n",
      "        \n",
      "  warnings.warn(str(e))\n",
      "/opt/hostedtoolcache/Python/3.9.19/x64/lib/python3.9/site-packages/arxiv_on_deck_2/latex_bib.py:132: UserWarning: Error processing bibitem\n",
      " item = \\bibitem{2022ApJ...930...69S}\\bibinfo{author}{{Smercina}, A.}, \\bibinfo{author}{{Bell}, E.~F.}, \\bibinfo{author}{{Samuel}, J.}  \\bibinfo{author}{{D'Souza}, R.}\\newblock \\bibinfo{title}{{Relating the Diverse Merger Histories and Satellite Populations of Nearby Galaxies}}.\\newblock \\emph{\\bibinfo{journal}{\\apj}} \\textbf{\\bibinfo{volume}{930}}, \\bibinfo{pages}{69} (\\bibinfo{year}{2022}).\n",
      " regex = \n",
      "        \\\\bibitem(\\[[^\\[\\]]*?\\]){(?P<bibkey>[a-zA-Z0-9\\-\\+\\.\\S]+?)}(?P<authors>|([\\D]*?))(?P<year>[12][0-9]{3})(?P<rest>.*)\n",
      "        \n",
      "  warnings.warn(str(e))\n",
      "/opt/hostedtoolcache/Python/3.9.19/x64/lib/python3.9/site-packages/arxiv_on_deck_2/latex_bib.py:132: UserWarning: Error processing bibitem\n",
      " item = \\bibitem{2020MNRAS.491..823B}\\bibinfo{author}{{Boecker}, A.} \\emph{et~al.}\\newblock \\bibinfo{title}{{A galaxy's accretion history unveiled from its integrated spectrum}}.\\newblock \\emph{\\bibinfo{journal}{\\mnras}} \\textbf{\\bibinfo{volume}{491}}, \\bibinfo{pages}{823--837} (\\bibinfo{year}{2020}).\n",
      " regex = \n",
      "        \\\\bibitem(\\[[^\\[\\]]*?\\]){(?P<bibkey>[a-zA-Z0-9\\-\\+\\.\\S]+?)}(?P<authors>|([\\D]*?))(?P<year>[12][0-9]{3})(?P<rest>.*)\n",
      "        \n",
      "  warnings.warn(str(e))\n",
      "/opt/hostedtoolcache/Python/3.9.19/x64/lib/python3.9/site-packages/arxiv_on_deck_2/latex_bib.py:132: UserWarning: Error processing bibitem\n",
      " item = \\bibitem{2010ApJ...709.1018V}\\bibinfo{author}{{van Dokkum}, P.~G.} \\emph{et~al.}\\newblock \\bibinfo{title}{{The Growth of Massive Galaxies Since z = 2}}.\\newblock \\emph{\\bibinfo{journal}{\\apj}} \\textbf{\\bibinfo{volume}{709}}, \\bibinfo{pages}{1018--1041} (\\bibinfo{year}{2010}).\n",
      " regex = \n",
      "        \\\\bibitem(\\[[^\\[\\]]*?\\]){(?P<bibkey>[a-zA-Z0-9\\-\\+\\.\\S]+?)}(?P<authors>|([\\D]*?))(?P<year>[12][0-9]{3})(?P<rest>.*)\n",
      "        \n",
      "  warnings.warn(str(e))\n",
      "/opt/hostedtoolcache/Python/3.9.19/x64/lib/python3.9/site-packages/arxiv_on_deck_2/latex_bib.py:132: UserWarning: Error processing bibitem\n",
      " item = \\bibitem{2019ApJ...880..111O}\\bibinfo{author}{{Oyarz{ú}n}, G.~A.} \\emph{et~al.}\\newblock \\bibinfo{title}{{Signatures of Stellar Accretion in MaNGA Early-type Galaxies}}.\\newblock \\emph{\\bibinfo{journal}{\\apj}} \\textbf{\\bibinfo{volume}{880}}, \\bibinfo{pages}{111} (\\bibinfo{year}{2019}).\n",
      " regex = \n",
      "        \\\\bibitem(\\[[^\\[\\]]*?\\]){(?P<bibkey>[a-zA-Z0-9\\-\\+\\.\\S]+?)}(?P<authors>|([\\D]*?))(?P<year>[12][0-9]{3})(?P<rest>.*)\n",
      "        \n",
      "  warnings.warn(str(e))\n",
      "/opt/hostedtoolcache/Python/3.9.19/x64/lib/python3.9/site-packages/arxiv_on_deck_2/latex_bib.py:132: UserWarning: Error processing bibitem\n",
      " item = \\bibitem{2021MNRAS.507.3089D}\\bibinfo{author}{{Davison}, T.~A.} \\emph{et~al.}\\newblock \\bibinfo{title}{{Mapping accreted stars in early-type galaxies across the mass-size plane}}.\\newblock \\emph{\\bibinfo{journal}{\\mnras}} \\textbf{\\bibinfo{volume}{507}}, \\bibinfo{pages}{3089--3112} (\\bibinfo{year}{2021}).\n",
      " regex = \n",
      "        \\\\bibitem(\\[[^\\[\\]]*?\\]){(?P<bibkey>[a-zA-Z0-9\\-\\+\\.\\S]+?)}(?P<authors>|([\\D]*?))(?P<year>[12][0-9]{3})(?P<rest>.*)\n",
      "        \n",
      "  warnings.warn(str(e))\n",
      "/opt/hostedtoolcache/Python/3.9.19/x64/lib/python3.9/site-packages/arxiv_on_deck_2/latex_bib.py:132: UserWarning: Error processing bibitem\n",
      " item = \\bibitem{2023MNRAS.520.5651C}\\bibinfo{author}{{Cannarozzo}, C.} \\emph{et~al.}\\newblock \\bibinfo{title}{{The contribution of in situ and ex situ star formation in early-type galaxies: MaNGA versus IllustrisTNG}}.\\newblock \\emph{\\bibinfo{journal}{\\mnras}} \\textbf{\\bibinfo{volume}{520}}, \\bibinfo{pages}{5651--5670} (\\bibinfo{year}{2023}).\n",
      " regex = \n",
      "        \\\\bibitem(\\[[^\\[\\]]*?\\]){(?P<bibkey>[a-zA-Z0-9\\-\\+\\.\\S]+?)}(?P<authors>|([\\D]*?))(?P<year>[12][0-9]{3})(?P<rest>.*)\n",
      "        \n",
      "  warnings.warn(str(e))\n",
      "/opt/hostedtoolcache/Python/3.9.19/x64/lib/python3.9/site-packages/arxiv_on_deck_2/latex_bib.py:132: UserWarning: Error processing bibitem\n",
      " item = \\bibitem{2013ApJ...768L..28H}\\bibinfo{author}{{Huang}, S.}, \\bibinfo{author}{{Ho}, L.~C.}, \\bibinfo{author}{{Peng}, C.~Y.}, \\bibinfo{author}{{Li}, Z.-Y.}  \\bibinfo{author}{{Barth}, A.~J.}\\newblock \\bibinfo{title}{{Fossil Evidence for the Two-phase Formation of Elliptical Galaxies}}.\\newblock \\emph{\\bibinfo{journal}{\\apjl}} \\textbf{\\bibinfo{volume}{768}}, \\bibinfo{pages}{L28} (\\bibinfo{year}{2013}).\n",
      " regex = \n",
      "        \\\\bibitem(\\[[^\\[\\]]*?\\]){(?P<bibkey>[a-zA-Z0-9\\-\\+\\.\\S]+?)}(?P<authors>|([\\D]*?))(?P<year>[12][0-9]{3})(?P<rest>.*)\n",
      "        \n",
      "  warnings.warn(str(e))\n",
      "/opt/hostedtoolcache/Python/3.9.19/x64/lib/python3.9/site-packages/arxiv_on_deck_2/latex_bib.py:132: UserWarning: Error processing bibitem\n",
      " item = \\bibitem{2013ApJ...766...47H}\\bibinfo{author}{{Huang}, S.}, \\bibinfo{author}{{Ho}, L.~C.}, \\bibinfo{author}{{Peng}, C.~Y.}, \\bibinfo{author}{{Li}, Z.-Y.}  \\bibinfo{author}{{Barth}, A.~J.}\\newblock \\bibinfo{title}{{The Carnegie-Irvine Galaxy Survey. III. The Three-component Structure of Nearby Elliptical Galaxies}}.\\newblock \\emph{\\bibinfo{journal}{\\apj}} \\textbf{\\bibinfo{volume}{766}}, \\bibinfo{pages}{47} (\\bibinfo{year}{2013}).\n",
      " regex = \n",
      "        \\\\bibitem(\\[[^\\[\\]]*?\\]){(?P<bibkey>[a-zA-Z0-9\\-\\+\\.\\S]+?)}(?P<authors>|([\\D]*?))(?P<year>[12][0-9]{3})(?P<rest>.*)\n",
      "        \n",
      "  warnings.warn(str(e))\n",
      "/opt/hostedtoolcache/Python/3.9.19/x64/lib/python3.9/site-packages/arxiv_on_deck_2/latex_bib.py:132: UserWarning: Error processing bibitem\n",
      " item = \\bibitem{2018MNRAS.475.3348H}\\bibinfo{author}{{Huang}, S.} \\emph{et~al.}\\newblock \\bibinfo{title}{{Individual stellar haloes of massive galaxies measured to 100 kpc at 0.3 < z < 0.5 using Hyper Suprime-Cam}}.\\newblock \\emph{\\bibinfo{journal}{\\mnras}} \\textbf{\\bibinfo{volume}{475}}, \\bibinfo{pages}{3348--3368} (\\bibinfo{year}{2018}).\n",
      " regex = \n",
      "        \\\\bibitem(\\[[^\\[\\]]*?\\]){(?P<bibkey>[a-zA-Z0-9\\-\\+\\.\\S]+?)}(?P<authors>|([\\D]*?))(?P<year>[12][0-9]{3})(?P<rest>.*)\n",
      "        \n",
      "  warnings.warn(str(e))\n",
      "/opt/hostedtoolcache/Python/3.9.19/x64/lib/python3.9/site-packages/arxiv_on_deck_2/latex_bib.py:132: UserWarning: Error processing bibitem\n",
      " item = \\bibitem{2019MNRAS.483.2968W}\\bibinfo{author}{{Walmsley}, M.}, \\bibinfo{author}{{Ferguson}, A. M.~N.}, \\bibinfo{author}{{Mann}, R.~G.}  \\bibinfo{author}{{Lintott}, C.~J.}\\newblock \\bibinfo{title}{{Identification of low surface brightness tidal features in galaxies using convolutional neural networks}}.\\newblock \\emph{\\bibinfo{journal}{\\mnras}} \\textbf{\\bibinfo{volume}{483}}, \\bibinfo{pages}{2968--2982} (\\bibinfo{year}{2019}).\n",
      " regex = \n",
      "        \\\\bibitem(\\[[^\\[\\]]*?\\]){(?P<bibkey>[a-zA-Z0-9\\-\\+\\.\\S]+?)}(?P<authors>|([\\D]*?))(?P<year>[12][0-9]{3})(?P<rest>.*)\n",
      "        \n",
      "  warnings.warn(str(e))\n",
      "/opt/hostedtoolcache/Python/3.9.19/x64/lib/python3.9/site-packages/arxiv_on_deck_2/latex_bib.py:132: UserWarning: Error processing bibitem\n",
      " item = \\bibitem{2021MNRAS.504..372B}\\bibinfo{author}{{Bickley}, R.~W.} \\emph{et~al.}\\newblock \\bibinfo{title}{{Convolutional neural network identification of galaxy post-mergers in UNIONS using IllustrisTNG}}.\\newblock \\emph{\\bibinfo{journal}{\\mnras}} \\textbf{\\bibinfo{volume}{504}}, \\bibinfo{pages}{372--392} (\\bibinfo{year}{2021}).\n",
      " regex = \n",
      "        \\\\bibitem(\\[[^\\[\\]]*?\\]){(?P<bibkey>[a-zA-Z0-9\\-\\+\\.\\S]+?)}(?P<authors>|([\\D]*?))(?P<year>[12][0-9]{3})(?P<rest>.*)\n",
      "        \n",
      "  warnings.warn(str(e))\n",
      "/opt/hostedtoolcache/Python/3.9.19/x64/lib/python3.9/site-packages/arxiv_on_deck_2/latex_bib.py:132: UserWarning: Error processing bibitem\n",
      " item = \\bibitem{2020A&C....3200390C}\\bibinfo{author}{{{\\'C}iprijanovi{\\'c}}, A.}, \\bibinfo{author}{{Snyder}, G.~F.}, \\bibinfo{author}{{Nord}, B.}  \\bibinfo{author}{{Peek}, J.~E.~G.}\\newblock \\bibinfo{title}{{DeepMerge: Classifying high-redshift merging galaxies with deep neural networks}}.\\newblock \\emph{\\bibinfo{journal}{Astronomy and Computing}} \\textbf{\\bibinfo{volume}{32}}, \\bibinfo{pages}{100390} (\\bibinfo{year}{2020}).\n",
      " regex = \n",
      "        \\\\bibitem(\\[[^\\[\\]]*?\\]){(?P<bibkey>[a-zA-Z0-9\\-\\+\\.\\S]+?)}(?P<authors>|([\\D]*?))(?P<year>[12][0-9]{3})(?P<rest>.*)\n",
      "        \n",
      "  warnings.warn(str(e))\n",
      "/opt/hostedtoolcache/Python/3.9.19/x64/lib/python3.9/site-packages/arxiv_on_deck_2/latex_bib.py:132: UserWarning: Error processing bibitem\n",
      " item = \\bibitem{2023arXiv231019904E}\\bibinfo{author}{{Eisert}, L.} \\emph{et~al.}\\newblock \\bibinfo{title}{{ERGO-ML -- Comparing IllustrisTNG and HSC galaxy images via contrastive learning}}.\\newblock \\emph{\\bibinfo{journal}{arXiv e-prints}} \\bibinfo{pages}{arXiv:2310.19904} (\\bibinfo{year}{2023}).\n",
      " regex = \n",
      "        \\\\bibitem(\\[[^\\[\\]]*?\\]){(?P<bibkey>[a-zA-Z0-9\\-\\+\\.\\S]+?)}(?P<authors>|([\\D]*?))(?P<year>[12][0-9]{3})(?P<rest>.*)\n",
      "        \n",
      "  warnings.warn(str(e))\n",
      "/opt/hostedtoolcache/Python/3.9.19/x64/lib/python3.9/site-packages/arxiv_on_deck_2/latex_bib.py:132: UserWarning: Error processing bibitem\n",
      " item = \\bibitem{2023MNRAS.523.5408A}\\bibinfo{author}{{Angeloudi}, E.} \\emph{et~al.}\\newblock \\bibinfo{title}{{ERGO-ML: towards a robust machine learning model for inferring the fraction of accreted stars in galaxies from integral-field spectroscopic maps}}.\\newblock \\emph{\\bibinfo{journal}{\\mnras}} \\textbf{\\bibinfo{volume}{523}}, \\bibinfo{pages}{5408--5429} (\\bibinfo{year}{2023}).\n",
      " regex = \n",
      "        \\\\bibitem(\\[[^\\[\\]]*?\\]){(?P<bibkey>[a-zA-Z0-9\\-\\+\\.\\S]+?)}(?P<authors>|([\\D]*?))(?P<year>[12][0-9]{3})(?P<rest>.*)\n",
      "        \n",
      "  warnings.warn(str(e))\n",
      "/opt/hostedtoolcache/Python/3.9.19/x64/lib/python3.9/site-packages/arxiv_on_deck_2/latex_bib.py:132: UserWarning: Error processing bibitem\n",
      " item = \\bibitem{2015ApJ...798....7B}\\bibinfo{author}{{Bundy}, K.} \\emph{et~al.}\\newblock \\bibinfo{title}{{Overview of the SDSS-IV MaNGA Survey: Mapping nearby Galaxies at Apache Point Observatory}}.\\newblock \\emph{\\bibinfo{journal}{\\apj}} \\textbf{\\bibinfo{volume}{798}}, \\bibinfo{pages}{7} (\\bibinfo{year}{2015}).\n",
      " regex = \n",
      "        \\\\bibitem(\\[[^\\[\\]]*?\\]){(?P<bibkey>[a-zA-Z0-9\\-\\+\\.\\S]+?)}(?P<authors>|([\\D]*?))(?P<year>[12][0-9]{3})(?P<rest>.*)\n",
      "        \n",
      "  warnings.warn(str(e))\n",
      "/opt/hostedtoolcache/Python/3.9.19/x64/lib/python3.9/site-packages/arxiv_on_deck_2/latex_bib.py:132: UserWarning: Error processing bibitem\n",
      " item = \\bibitem{2023A&A...673A..23S}\\bibinfo{author}{{Sarmiento}, R.} \\emph{et~al.}\\newblock \\bibinfo{title}{{MaNGIA: 10 000 mock galaxies for stellar population analysis}}.\\newblock \\emph{\\bibinfo{journal}{\\aap}} \\textbf{\\bibinfo{volume}{673}}, \\bibinfo{pages}{A23} (\\bibinfo{year}{2023}).\n",
      " regex = \n",
      "        \\\\bibitem(\\[[^\\[\\]]*?\\]){(?P<bibkey>[a-zA-Z0-9\\-\\+\\.\\S]+?)}(?P<authors>|([\\D]*?))(?P<year>[12][0-9]{3})(?P<rest>.*)\n",
      "        \n",
      "  warnings.warn(str(e))\n",
      "/opt/hostedtoolcache/Python/3.9.19/x64/lib/python3.9/site-packages/arxiv_on_deck_2/latex_bib.py:132: UserWarning: Error processing bibitem\n",
      " item = \\bibitem{2010ApJ...725.2312O}\\bibinfo{author}{{Oser}, L.}, \\bibinfo{author}{{Ostriker}, J.~P.}, \\bibinfo{author}{{Naab}, T.}, \\bibinfo{author}{{Johansson}, P.~H.}  \\bibinfo{author}{{Burkert}, A.}\\newblock \\bibinfo{title}{{The Two Phases of Galaxy Formation}}.\\newblock \\emph{\\bibinfo{journal}{\\apj}} \\textbf{\\bibinfo{volume}{725}}, \\bibinfo{pages}{2312--2323} (\\bibinfo{year}{2010}).\n",
      " regex = \n",
      "        \\\\bibitem(\\[[^\\[\\]]*?\\]){(?P<bibkey>[a-zA-Z0-9\\-\\+\\.\\S]+?)}(?P<authors>|([\\D]*?))(?P<year>[12][0-9]{3})(?P<rest>.*)\n",
      "        \n",
      "  warnings.warn(str(e))\n",
      "/opt/hostedtoolcache/Python/3.9.19/x64/lib/python3.9/site-packages/arxiv_on_deck_2/latex_bib.py:132: UserWarning: Error processing bibitem\n",
      " item = \\bibitem{2020ARA&A..58..205H}\\bibinfo{author}{{Helmi}, A.}\\newblock \\bibinfo{title}{{Streams, Substructures, and the Early History of the Milky Way}}.\\newblock \\emph{\\bibinfo{journal}{\\araa}} \\textbf{\\bibinfo{volume}{58}}, \\bibinfo{pages}{205--256} (\\bibinfo{year}{2020}).\n",
      " regex = \n",
      "        \\\\bibitem(\\[[^\\[\\]]*?\\]){(?P<bibkey>[a-zA-Z0-9\\-\\+\\.\\S]+?)}(?P<authors>|([\\D]*?))(?P<year>[12][0-9]{3})(?P<rest>.*)\n",
      "        \n",
      "  warnings.warn(str(e))\n",
      "/opt/hostedtoolcache/Python/3.9.19/x64/lib/python3.9/site-packages/arxiv_on_deck_2/latex_bib.py:132: UserWarning: Error processing bibitem\n",
      " item = \\bibitem{2022A&A...664A.115Z}\\bibinfo{author}{{Zhu}, L.} \\emph{et~al.}\\newblock \\bibinfo{title}{{The Fornax3D project: Discovery of ancient massive merger events in the Fornax cluster galaxies NGC 1380 and NGC 1427}}.\\newblock \\emph{\\bibinfo{journal}{\\aap}} \\textbf{\\bibinfo{volume}{664}}, \\bibinfo{pages}{A115} (\\bibinfo{year}{2022}).\n",
      " regex = \n",
      "        \\\\bibitem(\\[[^\\[\\]]*?\\]){(?P<bibkey>[a-zA-Z0-9\\-\\+\\.\\S]+?)}(?P<authors>|([\\D]*?))(?P<year>[12][0-9]{3})(?P<rest>.*)\n",
      "        \n",
      "  warnings.warn(str(e))\n",
      "/opt/hostedtoolcache/Python/3.9.19/x64/lib/python3.9/site-packages/arxiv_on_deck_2/latex_bib.py:132: UserWarning: Error processing bibitem\n",
      " item = \\bibitem{2022ApJ...940..168C}\\bibinfo{author}{{Conselice}, C.~J.}, \\bibinfo{author}{{Mundy}, C.~J.}, \\bibinfo{author}{{Ferreira}, L.}  \\bibinfo{author}{{Duncan}, K.}\\newblock \\bibinfo{title}{{A Direct Measurement of Galaxy Major and Minor Merger Rates and Stellar Mass Accretion Histories at Z < 3 Using Galaxy Pairs in the REFINE Survey}}.\\newblock \\emph{\\bibinfo{journal}{\\apj}} \\textbf{\\bibinfo{volume}{940}}, \\bibinfo{pages}{168} (\\bibinfo{year}{2022}).\n",
      " regex = \n",
      "        \\\\bibitem(\\[[^\\[\\]]*?\\]){(?P<bibkey>[a-zA-Z0-9\\-\\+\\.\\S]+?)}(?P<authors>|([\\D]*?))(?P<year>[12][0-9]{3})(?P<rest>.*)\n",
      "        \n",
      "  warnings.warn(str(e))\n",
      "/opt/hostedtoolcache/Python/3.9.19/x64/lib/python3.9/site-packages/arxiv_on_deck_2/latex_bib.py:132: UserWarning: Error processing bibitem\n",
      " item = \\bibitem{2016ARA&A..54..597C}\\bibinfo{author}{{Cappellari}, M.}\\newblock \\bibinfo{title}{{Structure and Kinematics of Early-Type Galaxies from Integral Field Spectroscopy}}.\\newblock \\emph{\\bibinfo{journal}{\\araa}} \\textbf{\\bibinfo{volume}{54}}, \\bibinfo{pages}{597--665} (\\bibinfo{year}{2016}).\n",
      " regex = \n",
      "        \\\\bibitem(\\[[^\\[\\]]*?\\]){(?P<bibkey>[a-zA-Z0-9\\-\\+\\.\\S]+?)}(?P<authors>|([\\D]*?))(?P<year>[12][0-9]{3})(?P<rest>.*)\n",
      "        \n",
      "  warnings.warn(str(e))\n",
      "/opt/hostedtoolcache/Python/3.9.19/x64/lib/python3.9/site-packages/arxiv_on_deck_2/latex_bib.py:132: UserWarning: Error processing bibitem\n",
      " item = \\bibitem{2015ApJ...807...11G}\\bibinfo{author}{{Greene}, J.~E.} \\emph{et~al.}\\newblock \\bibinfo{title}{{The MASSIVE Survey. II. Stellar Population Trends Out to Large Radius in Massive Early-type Galaxies}}.\\newblock \\emph{\\bibinfo{journal}{\\apj}} \\textbf{\\bibinfo{volume}{807}}, \\bibinfo{pages}{11} (\\bibinfo{year}{2015}).\n",
      " regex = \n",
      "        \\\\bibitem(\\[[^\\[\\]]*?\\]){(?P<bibkey>[a-zA-Z0-9\\-\\+\\.\\S]+?)}(?P<authors>|([\\D]*?))(?P<year>[12][0-9]{3})(?P<rest>.*)\n",
      "        \n",
      "  warnings.warn(str(e))\n",
      "/opt/hostedtoolcache/Python/3.9.19/x64/lib/python3.9/site-packages/arxiv_on_deck_2/latex_bib.py:132: UserWarning: Error processing bibitem\n",
      " item = \\bibitem{2022ApJ...933...88O}\\bibinfo{author}{{Oyarz{ú}n}, G.~A.} \\emph{et~al.}\\newblock \\bibinfo{title}{{SDSS-IV MaNGA: How the Stellar Populations of Passive Central Galaxies Depend on Stellar and Halo Mass}}.\\newblock \\emph{\\bibinfo{journal}{\\apj}} \\textbf{\\bibinfo{volume}{933}}, \\bibinfo{pages}{88} (\\bibinfo{year}{2022}).\n",
      " regex = \n",
      "        \\\\bibitem(\\[[^\\[\\]]*?\\]){(?P<bibkey>[a-zA-Z0-9\\-\\+\\.\\S]+?)}(?P<authors>|([\\D]*?))(?P<year>[12][0-9]{3})(?P<rest>.*)\n",
      "        \n",
      "  warnings.warn(str(e))\n",
      "/opt/hostedtoolcache/Python/3.9.19/x64/lib/python3.9/site-packages/arxiv_on_deck_2/latex_bib.py:132: UserWarning: Error processing bibitem\n",
      " item = \\bibitem{2024NatAs.tmp...42S}\\bibinfo{author}{{Scholz-D{í}az}, L.}, \\bibinfo{author}{{Mart{í}n-Navarro}, I.}, \\bibinfo{author}{{Falc{ó}n-Barroso}, J.}, \\bibinfo{author}{{Lyubenova}, M.}  \\bibinfo{author}{{van de Ven}, G.}\\newblock \\bibinfo{title}{{Baryonic properties of nearby galaxies across the stellar-to-total dynamical mass relation}}.\\newblock \\emph{\\bibinfo{journal}{Nature Astronomy}}  (\\bibinfo{year}{2024}).\n",
      " regex = \n",
      "        \\\\bibitem(\\[[^\\[\\]]*?\\]){(?P<bibkey>[a-zA-Z0-9\\-\\+\\.\\S]+?)}(?P<authors>|([\\D]*?))(?P<year>[12][0-9]{3})(?P<rest>.*)\n",
      "        \n",
      "  warnings.warn(str(e))\n",
      "/opt/hostedtoolcache/Python/3.9.19/x64/lib/python3.9/site-packages/arxiv_on_deck_2/latex_bib.py:132: UserWarning: Error processing bibitem\n",
      " item = \\bibitem{2021ApJ...923..154T}\\bibinfo{author}{{Tinker}, J.~L.}\\newblock \\bibinfo{title}{{A Self-Calibrating Halo-Based Group Finder: Application to SDSS}}.\\newblock \\emph{\\bibinfo{journal}{\\apj}} \\textbf{\\bibinfo{volume}{923}}, \\bibinfo{pages}{154} (\\bibinfo{year}{2021}).\n",
      " regex = \n",
      "        \\\\bibitem(\\[[^\\[\\]]*?\\]){(?P<bibkey>[a-zA-Z0-9\\-\\+\\.\\S]+?)}(?P<authors>|([\\D]*?))(?P<year>[12][0-9]{3})(?P<rest>.*)\n",
      "        \n",
      "  warnings.warn(str(e))\n",
      "/opt/hostedtoolcache/Python/3.9.19/x64/lib/python3.9/site-packages/arxiv_on_deck_2/latex_bib.py:132: UserWarning: Error processing bibitem\n",
      " item = \\bibitem{2017AJ....154...86W}\\bibinfo{author}{{Wake}, D.~A.} \\emph{et~al.}\\newblock \\bibinfo{title}{{The SDSS-IV MaNGA Sample: Design, Optimization, and Usage Considerations}}.\\newblock \\emph{\\bibinfo{journal}{\\aj}} \\textbf{\\bibinfo{volume}{154}}, \\bibinfo{pages}{86} (\\bibinfo{year}{2017}).\n",
      " regex = \n",
      "        \\\\bibitem(\\[[^\\[\\]]*?\\]){(?P<bibkey>[a-zA-Z0-9\\-\\+\\.\\S]+?)}(?P<authors>|([\\D]*?))(?P<year>[12][0-9]{3})(?P<rest>.*)\n",
      "        \n",
      "  warnings.warn(str(e))\n",
      "/opt/hostedtoolcache/Python/3.9.19/x64/lib/python3.9/site-packages/arxiv_on_deck_2/latex_bib.py:132: UserWarning: Error processing bibitem\n",
      " item = \\bibitem{2016MNRAS.458.2371R}\\bibinfo{author}{{Rodriguez-Gomez}, V.} \\emph{et~al.}\\newblock \\bibinfo{title}{{The stellar mass assembly of galaxies in the Illustris simulation: growth by mergers and the spatial distribution of accreted stars}}.\\newblock \\emph{\\bibinfo{journal}{\\mnras}} \\textbf{\\bibinfo{volume}{458}}, \\bibinfo{pages}{2371--2390} (\\bibinfo{year}{2016}).\n",
      " regex = \n",
      "        \\\\bibitem(\\[[^\\[\\]]*?\\]){(?P<bibkey>[a-zA-Z0-9\\-\\+\\.\\S]+?)}(?P<authors>|([\\D]*?))(?P<year>[12][0-9]{3})(?P<rest>.*)\n",
      "        \n",
      "  warnings.warn(str(e))\n",
      "/opt/hostedtoolcache/Python/3.9.19/x64/lib/python3.9/site-packages/arxiv_on_deck_2/latex_bib.py:132: UserWarning: Error processing bibitem\n",
      " item = \\bibitem{2023MNRAS.518.5323H}\\bibinfo{author}{{Hu{\\v{s}}ko}, F.}, \\bibinfo{author}{{Lacey}, C.~G.}  \\bibinfo{author}{{Baugh}, C.~M.}\\newblock \\bibinfo{title}{{The buildup of galaxies and their spheroids: The contributions of mergers, disc instabilities, and star formation}}.\\newblock \\emph{\\bibinfo{journal}{\\mnras}} \\textbf{\\bibinfo{volume}{518}}, \\bibinfo{pages}{5323--5339} (\\bibinfo{year}{2023}).\n",
      " regex = \n",
      "        \\\\bibitem(\\[[^\\[\\]]*?\\]){(?P<bibkey>[a-zA-Z0-9\\-\\+\\.\\S]+?)}(?P<authors>|([\\D]*?))(?P<year>[12][0-9]{3})(?P<rest>.*)\n",
      "        \n",
      "  warnings.warn(str(e))\n",
      "/opt/hostedtoolcache/Python/3.9.19/x64/lib/python3.9/site-packages/arxiv_on_deck_2/latex_bib.py:132: UserWarning: Error processing bibitem\n",
      " item = \\bibitem{2008ApJ...680..295B}\\bibinfo{author}{{Bell}, E.~F.} \\emph{et~al.}\\newblock \\bibinfo{title}{{The Accretion Origin of the Milky Way's Stellar Halo}}.\\newblock \\emph{\\bibinfo{journal}{\\apj}} \\textbf{\\bibinfo{volume}{680}}, \\bibinfo{pages}{295--311} (\\bibinfo{year}{2008}).\n",
      " regex = \n",
      "        \\\\bibitem(\\[[^\\[\\]]*?\\]){(?P<bibkey>[a-zA-Z0-9\\-\\+\\.\\S]+?)}(?P<authors>|([\\D]*?))(?P<year>[12][0-9]{3})(?P<rest>.*)\n",
      "        \n",
      "  warnings.warn(str(e))\n",
      "/opt/hostedtoolcache/Python/3.9.19/x64/lib/python3.9/site-packages/arxiv_on_deck_2/latex_bib.py:132: UserWarning: Error processing bibitem\n",
      " item = \\bibitem{2012AJ....144....4M}\\bibinfo{author}{{McConnachie}, A.~W.}\\newblock \\bibinfo{title}{{The Observed Properties of Dwarf Galaxies in and around the Local Group}}.\\newblock \\emph{\\bibinfo{journal}{\\aj}} \\textbf{\\bibinfo{volume}{144}}, \\bibinfo{pages}{4} (\\bibinfo{year}{2012}).\n",
      " regex = \n",
      "        \\\\bibitem(\\[[^\\[\\]]*?\\]){(?P<bibkey>[a-zA-Z0-9\\-\\+\\.\\S]+?)}(?P<authors>|([\\D]*?))(?P<year>[12][0-9]{3})(?P<rest>.*)\n",
      "        \n",
      "  warnings.warn(str(e))\n",
      "/opt/hostedtoolcache/Python/3.9.19/x64/lib/python3.9/site-packages/arxiv_on_deck_2/latex_bib.py:132: UserWarning: Error processing bibitem\n",
      " item = \\bibitem{2019MNRAS.486.3180K}\\bibinfo{author}{{Kruijssen}, J.~M.~D.}, \\bibinfo{author}{{Pfeffer}, J.~L.}, \\bibinfo{author}{{Reina-Campos}, M.}, \\bibinfo{author}{{Crain}, R.~A.}  \\bibinfo{author}{{Bastian}, N.}\\newblock \\bibinfo{title}{{The formation and assembly history of the Milky Way revealed by its globular cluster population}}.\\newblock \\emph{\\bibinfo{journal}{\\mnras}} \\textbf{\\bibinfo{volume}{486}}, \\bibinfo{pages}{3180--3202} (\\bibinfo{year}{2019}).\n",
      " regex = \n",
      "        \\\\bibitem(\\[[^\\[\\]]*?\\]){(?P<bibkey>[a-zA-Z0-9\\-\\+\\.\\S]+?)}(?P<authors>|([\\D]*?))(?P<year>[12][0-9]{3})(?P<rest>.*)\n",
      "        \n",
      "  warnings.warn(str(e))\n",
      "/opt/hostedtoolcache/Python/3.9.19/x64/lib/python3.9/site-packages/arxiv_on_deck_2/latex_bib.py:132: UserWarning: Error processing bibitem\n",
      " item = \\bibitem{2017MNRAS.470.3507M}\\bibinfo{author}{{Mundy}, C.~J.} \\emph{et~al.}\\newblock \\bibinfo{title}{{A consistent measure of the merger histories of massive galaxies using close-pair statistics - I. Major mergers at z < 3.5}}.\\newblock \\emph{\\bibinfo{journal}{\\mnras}} \\textbf{\\bibinfo{volume}{470}}, \\bibinfo{pages}{3507--3531} (\\bibinfo{year}{2017}).\n",
      " regex = \n",
      "        \\\\bibitem(\\[[^\\[\\]]*?\\]){(?P<bibkey>[a-zA-Z0-9\\-\\+\\.\\S]+?)}(?P<authors>|([\\D]*?))(?P<year>[12][0-9]{3})(?P<rest>.*)\n",
      "        \n",
      "  warnings.warn(str(e))\n",
      "/opt/hostedtoolcache/Python/3.9.19/x64/lib/python3.9/site-packages/arxiv_on_deck_2/latex_bib.py:132: UserWarning: Error processing bibitem\n",
      " item = \\bibitem{2012MNRAS.425..641L}\\bibinfo{author}{{Lackner}, C.~N.}, \\bibinfo{author}{{Cen}, R.}, \\bibinfo{author}{{Ostriker}, J.~P.}  \\bibinfo{author}{{Joung}, M.~R.}\\newblock \\bibinfo{title}{{Building galaxies by accretion and in situ star formation}}.\\newblock \\emph{\\bibinfo{journal}{\\mnras}} \\textbf{\\bibinfo{volume}{425}}, \\bibinfo{pages}{641--656} (\\bibinfo{year}{2012}).\n",
      " regex = \n",
      "        \\\\bibitem(\\[[^\\[\\]]*?\\]){(?P<bibkey>[a-zA-Z0-9\\-\\+\\.\\S]+?)}(?P<authors>|([\\D]*?))(?P<year>[12][0-9]{3})(?P<rest>.*)\n",
      "        \n",
      "  warnings.warn(str(e))\n",
      "/opt/hostedtoolcache/Python/3.9.19/x64/lib/python3.9/site-packages/arxiv_on_deck_2/latex_bib.py:132: UserWarning: Error processing bibitem\n",
      " item = \\bibitem{2020MNRAS.497...81D}\\bibinfo{author}{{Davison}, T.~A.}, \\bibinfo{author}{{Norris}, M.~A.}, \\bibinfo{author}{{Pfeffer}, J.~L.}, \\bibinfo{author}{{Davies}, J.~J.}  \\bibinfo{author}{{Crain}, R.~A.}\\newblock \\bibinfo{title}{{An EAGLE's view of ex situ galaxy growth}}.\\newblock \\emph{\\bibinfo{journal}{\\mnras}} \\textbf{\\bibinfo{volume}{497}}, \\bibinfo{pages}{81--93} (\\bibinfo{year}{2020}).\n",
      " regex = \n",
      "        \\\\bibitem(\\[[^\\[\\]]*?\\]){(?P<bibkey>[a-zA-Z0-9\\-\\+\\.\\S]+?)}(?P<authors>|([\\D]*?))(?P<year>[12][0-9]{3})(?P<rest>.*)\n",
      "        \n",
      "  warnings.warn(str(e))\n",
      "/opt/hostedtoolcache/Python/3.9.19/x64/lib/python3.9/site-packages/arxiv_on_deck_2/latex_bib.py:132: UserWarning: Error processing bibitem\n",
      " item = \\bibitem{2019MNRAS.487.5416T}\\bibinfo{author}{{Tacchella}, S.} \\emph{et~al.}\\newblock \\bibinfo{title}{{Morphology and star formation in IllustrisTNG: the build-up of spheroids and discs}}.\\newblock \\emph{\\bibinfo{journal}{\\mnras}} \\textbf{\\bibinfo{volume}{487}}, \\bibinfo{pages}{5416--5440} (\\bibinfo{year}{2019}).\n",
      " regex = \n",
      "        \\\\bibitem(\\[[^\\[\\]]*?\\]){(?P<bibkey>[a-zA-Z0-9\\-\\+\\.\\S]+?)}(?P<authors>|([\\D]*?))(?P<year>[12][0-9]{3})(?P<rest>.*)\n",
      "        \n",
      "  warnings.warn(str(e))\n",
      "/opt/hostedtoolcache/Python/3.9.19/x64/lib/python3.9/site-packages/arxiv_on_deck_2/latex_bib.py:132: UserWarning: Error processing bibitem\n",
      " item = \\bibitem{2013ApJ...766...38L}\\bibinfo{author}{{Lee}, J.}  \\bibinfo{author}{{Yi}, S.~K.}\\newblock \\bibinfo{title}{{On the Assembly History of Stellar Components in Massive Galaxies}}.\\newblock \\emph{\\bibinfo{journal}{\\apj}} \\textbf{\\bibinfo{volume}{766}}, \\bibinfo{pages}{38} (\\bibinfo{year}{2013}).\n",
      " regex = \n",
      "        \\\\bibitem(\\[[^\\[\\]]*?\\]){(?P<bibkey>[a-zA-Z0-9\\-\\+\\.\\S]+?)}(?P<authors>|([\\D]*?))(?P<year>[12][0-9]{3})(?P<rest>.*)\n",
      "        \n",
      "  warnings.warn(str(e))\n",
      "/opt/hostedtoolcache/Python/3.9.19/x64/lib/python3.9/site-packages/arxiv_on_deck_2/latex_bib.py:132: UserWarning: Error processing bibitem\n",
      " item = \\bibitem{2006MNRAS.366..499D}\\bibinfo{author}{{De Lucia}, G.}, \\bibinfo{author}{{Springel}, V.}, \\bibinfo{author}{{White}, S. D.~M.}, \\bibinfo{author}{{Croton}, D.}  \\bibinfo{author}{{Kauffmann}, G.}\\newblock \\bibinfo{title}{{The formation history of elliptical galaxies}}.\\newblock \\emph{\\bibinfo{journal}{\\mnras}} \\textbf{\\bibinfo{volume}{366}}, \\bibinfo{pages}{499--509} (\\bibinfo{year}{2006}).\n",
      " regex = \n",
      "        \\\\bibitem(\\[[^\\[\\]]*?\\]){(?P<bibkey>[a-zA-Z0-9\\-\\+\\.\\S]+?)}(?P<authors>|([\\D]*?))(?P<year>[12][0-9]{3})(?P<rest>.*)\n",
      "        \n",
      "  warnings.warn(str(e))\n",
      "/opt/hostedtoolcache/Python/3.9.19/x64/lib/python3.9/site-packages/arxiv_on_deck_2/latex_bib.py:132: UserWarning: Error processing bibitem\n",
      " item = \\bibitem{2017MNRAS.467.3083R}\\bibinfo{author}{{Rodriguez-Gomez}, V.} \\emph{et~al.}\\newblock \\bibinfo{title}{{The role of mergers and halo spin in shaping galaxy morphology}}.\\newblock \\emph{\\bibinfo{journal}{\\mnras}} \\textbf{\\bibinfo{volume}{467}}, \\bibinfo{pages}{3083--3098} (\\bibinfo{year}{2017}).\n",
      " regex = \n",
      "        \\\\bibitem(\\[[^\\[\\]]*?\\]){(?P<bibkey>[a-zA-Z0-9\\-\\+\\.\\S]+?)}(?P<authors>|([\\D]*?))(?P<year>[12][0-9]{3})(?P<rest>.*)\n",
      "        \n",
      "  warnings.warn(str(e))\n",
      "/opt/hostedtoolcache/Python/3.9.19/x64/lib/python3.9/site-packages/arxiv_on_deck_2/latex_bib.py:132: UserWarning: Error processing bibitem\n",
      " item = \\bibitem{2018MNRAS.473.1168R}\\bibinfo{author}{{Rowlands}, K.} \\emph{et~al.}\\newblock \\bibinfo{title}{{Galaxy And Mass Assembly (GAMA): The mechanisms for quiescent galaxy formation at z < 1}}.\\newblock \\emph{\\bibinfo{journal}{\\mnras}} \\textbf{\\bibinfo{volume}{473}}, \\bibinfo{pages}{1168--1185} (\\bibinfo{year}{2018}).\n",
      " regex = \n",
      "        \\\\bibitem(\\[[^\\[\\]]*?\\]){(?P<bibkey>[a-zA-Z0-9\\-\\+\\.\\S]+?)}(?P<authors>|([\\D]*?))(?P<year>[12][0-9]{3})(?P<rest>.*)\n",
      "        \n",
      "  warnings.warn(str(e))\n",
      "/opt/hostedtoolcache/Python/3.9.19/x64/lib/python3.9/site-packages/arxiv_on_deck_2/latex_bib.py:132: UserWarning: Error processing bibitem\n",
      " item = \\bibitem{2019ApJ...874...17B}\\bibinfo{author}{{Belli}, S.}, \\bibinfo{author}{{Newman}, A.~B.}  \\bibinfo{author}{{Ellis}, R.~S.}\\newblock \\bibinfo{title}{{MOSFIRE Spectroscopy of Quiescent Galaxies at 1.5 < z < 2.5. II. Star Formation Histories and Galaxy Quenching}}.\\newblock \\emph{\\bibinfo{journal}{\\apj}} \\textbf{\\bibinfo{volume}{874}}, \\bibinfo{pages}{17} (\\bibinfo{year}{2019}).\n",
      " regex = \n",
      "        \\\\bibitem(\\[[^\\[\\]]*?\\]){(?P<bibkey>[a-zA-Z0-9\\-\\+\\.\\S]+?)}(?P<authors>|([\\D]*?))(?P<year>[12][0-9]{3})(?P<rest>.*)\n",
      "        \n",
      "  warnings.warn(str(e))\n",
      "/opt/hostedtoolcache/Python/3.9.19/x64/lib/python3.9/site-packages/arxiv_on_deck_2/latex_bib.py:132: UserWarning: Error processing bibitem\n",
      " item = \\bibitem{2014MNRAS.444.3357N}\\bibinfo{author}{{Naab}, T.} \\emph{et~al.}\\newblock \\bibinfo{title}{{The ATLAS$^{3D}$ project - XXV. Two-dimensional kinematic analysis of simulated galaxies and the cosmological origin of fast and slow rotators}}.\\newblock \\emph{\\bibinfo{journal}{\\mnras}} \\textbf{\\bibinfo{volume}{444}}, \\bibinfo{pages}{3357--3387} (\\bibinfo{year}{2014}).\n",
      " regex = \n",
      "        \\\\bibitem(\\[[^\\[\\]]*?\\]){(?P<bibkey>[a-zA-Z0-9\\-\\+\\.\\S]+?)}(?P<authors>|([\\D]*?))(?P<year>[12][0-9]{3})(?P<rest>.*)\n",
      "        \n",
      "  warnings.warn(str(e))\n",
      "/opt/hostedtoolcache/Python/3.9.19/x64/lib/python3.9/site-packages/arxiv_on_deck_2/latex_bib.py:132: UserWarning: Error processing bibitem\n",
      " item = \\bibitem{2022ApJ...925..168Y}\\bibinfo{author}{{Yoon}, Y.}, \\bibinfo{author}{{Park}, C.}, \\bibinfo{author}{{Chung}, H.}  \\bibinfo{author}{{Lane}, R.~R.}\\newblock \\bibinfo{title}{{Evidence for Impact of Galaxy Mergers on Stellar Kinematics of Early-type Galaxies}}.\\newblock \\emph{\\bibinfo{journal}{\\apj}} \\textbf{\\bibinfo{volume}{925}}, \\bibinfo{pages}{168} (\\bibinfo{year}{2022}).\n",
      " regex = \n",
      "        \\\\bibitem(\\[[^\\[\\]]*?\\]){(?P<bibkey>[a-zA-Z0-9\\-\\+\\.\\S]+?)}(?P<authors>|([\\D]*?))(?P<year>[12][0-9]{3})(?P<rest>.*)\n",
      "        \n",
      "  warnings.warn(str(e))\n",
      "/opt/hostedtoolcache/Python/3.9.19/x64/lib/python3.9/site-packages/arxiv_on_deck_2/latex_bib.py:132: UserWarning: Error processing bibitem\n",
      " item = \\bibitem{2010ApJ...718.1158L}\\bibinfo{author}{{Lin}, L.} \\emph{et~al.}\\newblock \\bibinfo{title}{{Where do Wet, Dry, and Mixed Galaxy Mergers Occur? A Study of the Environments of Close Galaxy Pairs in the DEEP2 Galaxy Redshift Survey}}.\\newblock \\emph{\\bibinfo{journal}{\\apj}} \\textbf{\\bibinfo{volume}{718}}, \\bibinfo{pages}{1158--1170} (\\bibinfo{year}{2010}).\n",
      " regex = \n",
      "        \\\\bibitem(\\[[^\\[\\]]*?\\]){(?P<bibkey>[a-zA-Z0-9\\-\\+\\.\\S]+?)}(?P<authors>|([\\D]*?))(?P<year>[12][0-9]{3})(?P<rest>.*)\n",
      "        \n",
      "  warnings.warn(str(e))\n",
      "/opt/hostedtoolcache/Python/3.9.19/x64/lib/python3.9/site-packages/arxiv_on_deck_2/latex_bib.py:132: UserWarning: Error processing bibitem\n",
      " item = \\bibitem{2012ApJ...754...26J}\\bibinfo{author}{{Jian}, H.-Y.}, \\bibinfo{author}{{Lin}, L.}  \\bibinfo{author}{{Chiueh}, T.}\\newblock \\bibinfo{title}{{Environmental Dependence of the Galaxy Merger Rate in a {\\ensuremath{\\Lambda}}CDM Universe}}.\\newblock \\emph{\\bibinfo{journal}{\\apj}} \\textbf{\\bibinfo{volume}{754}}, \\bibinfo{pages}{26} (\\bibinfo{year}{2012}).\n",
      " regex = \n",
      "        \\\\bibitem(\\[[^\\[\\]]*?\\]){(?P<bibkey>[a-zA-Z0-9\\-\\+\\.\\S]+?)}(?P<authors>|([\\D]*?))(?P<year>[12][0-9]{3})(?P<rest>.*)\n",
      "        \n",
      "  warnings.warn(str(e))\n",
      "/opt/hostedtoolcache/Python/3.9.19/x64/lib/python3.9/site-packages/arxiv_on_deck_2/latex_bib.py:132: UserWarning: Error processing bibitem\n",
      " item = \\bibitem{2016A&A...594A..13P}\\bibinfo{author}{{Planck Collaboration}} \\emph{et~al.}\\newblock \\bibinfo{title}{{Planck 2015 results. XIII. Cosmological parameters}}.\\newblock \\emph{\\bibinfo{journal}{\\aap}} \\textbf{\\bibinfo{volume}{594}}, \\bibinfo{pages}{A13} (\\bibinfo{year}{2016}).\n",
      " regex = \n",
      "        \\\\bibitem(\\[[^\\[\\]]*?\\]){(?P<bibkey>[a-zA-Z0-9\\-\\+\\.\\S]+?)}(?P<authors>|([\\D]*?))(?P<year>[12][0-9]{3})(?P<rest>.*)\n",
      "        \n",
      "  warnings.warn(str(e))\n",
      "/opt/hostedtoolcache/Python/3.9.19/x64/lib/python3.9/site-packages/arxiv_on_deck_2/latex_bib.py:132: UserWarning: Error processing bibitem\n",
      " item = \\bibitem{2019MNRAS.490.3196P}\\bibinfo{author}{{Pillepich}, A.} \\emph{et~al.}\\newblock \\bibinfo{title}{{First results from the TNG50 simulation: the evolution of stellar and gaseous discs across cosmic time}}.\\newblock \\emph{\\bibinfo{journal}{\\mnras}} \\textbf{\\bibinfo{volume}{490}}, \\bibinfo{pages}{3196--3233} (\\bibinfo{year}{2019}).\n",
      " regex = \n",
      "        \\\\bibitem(\\[[^\\[\\]]*?\\]){(?P<bibkey>[a-zA-Z0-9\\-\\+\\.\\S]+?)}(?P<authors>|([\\D]*?))(?P<year>[12][0-9]{3})(?P<rest>.*)\n",
      "        \n",
      "  warnings.warn(str(e))\n",
      "/opt/hostedtoolcache/Python/3.9.19/x64/lib/python3.9/site-packages/arxiv_on_deck_2/latex_bib.py:132: UserWarning: Error processing bibitem\n",
      " item = \\bibitem{2019MNRAS.490.3234N}\\bibinfo{author}{{Nelson}, D.} \\emph{et~al.}\\newblock \\bibinfo{title}{{First results from the TNG50 simulation: galactic outflows driven by supernovae and black hole feedback}}.\\newblock \\emph{\\bibinfo{journal}{\\mnras}} \\textbf{\\bibinfo{volume}{490}}, \\bibinfo{pages}{3234--3261} (\\bibinfo{year}{2019}).\n",
      " regex = \n",
      "        \\\\bibitem(\\[[^\\[\\]]*?\\]){(?P<bibkey>[a-zA-Z0-9\\-\\+\\.\\S]+?)}(?P<authors>|([\\D]*?))(?P<year>[12][0-9]{3})(?P<rest>.*)\n",
      "        \n",
      "  warnings.warn(str(e))\n",
      "/opt/hostedtoolcache/Python/3.9.19/x64/lib/python3.9/site-packages/arxiv_on_deck_2/latex_bib.py:132: UserWarning: Error processing bibitem\n",
      " item = \\bibitem{2022ApJS..262...36S}\\bibinfo{author}{{S{á}nchez}, S.~F.} \\emph{et~al.}\\newblock \\bibinfo{title}{{SDSS-IV MaNGA: pyPipe3D Analysis Release for 10,000 Galaxies}}.\\newblock \\emph{\\bibinfo{journal}{\\apjs}} \\textbf{\\bibinfo{volume}{262}}, \\bibinfo{pages}{36} (\\bibinfo{year}{2022}).\n",
      " regex = \n",
      "        \\\\bibitem(\\[[^\\[\\]]*?\\]){(?P<bibkey>[a-zA-Z0-9\\-\\+\\.\\S]+?)}(?P<authors>|([\\D]*?))(?P<year>[12][0-9]{3})(?P<rest>.*)\n",
      "        \n",
      "  warnings.warn(str(e))\n",
      "/opt/hostedtoolcache/Python/3.9.19/x64/lib/python3.9/site-packages/arxiv_on_deck_2/latex_bib.py:132: UserWarning: Error processing bibitem\n",
      " item = \\bibitem{2022NewA...9701895L}\\bibinfo{author}{{Lacerda}, E. A.~D.} \\emph{et~al.}\\newblock \\bibinfo{title}{{pyFIT3D and pyPipe3D - The new version of the integral field spectroscopy data analysis pipeline}}.\\newblock \\emph{\\bibinfo{journal}{\\na}} \\textbf{\\bibinfo{volume}{97}}, \\bibinfo{pages}{101895} (\\bibinfo{year}{2022}).\n",
      " regex = \n",
      "        \\\\bibitem(\\[[^\\[\\]]*?\\]){(?P<bibkey>[a-zA-Z0-9\\-\\+\\.\\S]+?)}(?P<authors>|([\\D]*?))(?P<year>[12][0-9]{3})(?P<rest>.*)\n",
      "        \n",
      "  warnings.warn(str(e))\n",
      "/opt/hostedtoolcache/Python/3.9.19/x64/lib/python3.9/site-packages/arxiv_on_deck_2/latex_bib.py:132: UserWarning: Error processing bibitem\n",
      " item = \\bibitem{2021arXiv211005025L}\\bibinfo{author}{{Liu}, H.}, \\bibinfo{author}{{HaoChen}, J.~Z.}, \\bibinfo{author}{{Gaidon}, A.}  \\bibinfo{author}{{Ma}, T.}\\newblock \\bibinfo{title}{{Self-supervised Learning is More Robust to Dataset Imbalance}}.\\newblock \\emph{\\bibinfo{journal}{arXiv e-prints}} \\bibinfo{pages}{arXiv:2110.05025} (\\bibinfo{year}{2021}).\n",
      " regex = \n",
      "        \\\\bibitem(\\[[^\\[\\]]*?\\]){(?P<bibkey>[a-zA-Z0-9\\-\\+\\.\\S]+?)}(?P<authors>|([\\D]*?))(?P<year>[12][0-9]{3})(?P<rest>.*)\n",
      "        \n",
      "  warnings.warn(str(e))\n",
      "/opt/hostedtoolcache/Python/3.9.19/x64/lib/python3.9/site-packages/arxiv_on_deck_2/latex_bib.py:132: UserWarning: Error processing bibitem\n",
      " item = \\bibitem{2020arXiv200607733G}\\bibinfo{author}{{Grill}, J.-B.} \\emph{et~al.}\\newblock \\bibinfo{title}{{Bootstrap your own latent: A new approach to self-supervised Learning}}.\\newblock \\emph{\\bibinfo{journal}{arXiv e-prints}} \\bibinfo{pages}{arXiv:2006.07733} (\\bibinfo{year}{2020}).\n",
      " regex = \n",
      "        \\\\bibitem(\\[[^\\[\\]]*?\\]){(?P<bibkey>[a-zA-Z0-9\\-\\+\\.\\S]+?)}(?P<authors>|([\\D]*?))(?P<year>[12][0-9]{3})(?P<rest>.*)\n",
      "        \n",
      "  warnings.warn(str(e))\n",
      "/opt/hostedtoolcache/Python/3.9.19/x64/lib/python3.9/site-packages/arxiv_on_deck_2/latex_bib.py:132: UserWarning: Error processing bibitem\n",
      " item = \\bibitem{2005ApJ...626..680D}\\bibinfo{author}{{Daddi}, E.} \\emph{et~al.}\\newblock \\bibinfo{title}{{Passively Evolving Early-Type Galaxies at 1.4 <\\raisebox{-0.5ex}\\textasciitilde z <\\raisebox{-0.5ex}\\textasciitilde 2.5 in the Hubble Ultra Deep Field}}.\\newblock \\emph{\\bibinfo{journal}{\\apj}} \\textbf{\\bibinfo{volume}{626}}, \\bibinfo{pages}{680--697} (\\bibinfo{year}{2005}).\n",
      " regex = \n",
      "        \\\\bibitem(\\[[^\\[\\]]*?\\]){(?P<bibkey>[a-zA-Z0-9\\-\\+\\.\\S]+?)}(?P<authors>|([\\D]*?))(?P<year>[12][0-9]{3})(?P<rest>.*)\n",
      "        \n",
      "  warnings.warn(str(e))\n",
      "/opt/hostedtoolcache/Python/3.9.19/x64/lib/python3.9/site-packages/arxiv_on_deck_2/latex_bib.py:132: UserWarning: Error processing bibitem\n",
      " item = \\bibitem{2008ApJ...677L...5V}\\bibinfo{author}{{van Dokkum}, P.~G.} \\emph{et~al.}\\newblock \\bibinfo{title}{{Confirmation of the Remarkable Compactness of Massive Quiescent Galaxies at z \\raisebox{-0.5ex}\\textasciitilde 2.3: Early-Type Galaxies Did not Form in a Simple Monolithic Collapse}}.\\newblock \\emph{\\bibinfo{journal}{\\apjl}} \\textbf{\\bibinfo{volume}{677}}, \\bibinfo{pages}{L5} (\\bibinfo{year}{2008}).\n",
      " regex = \n",
      "        \\\\bibitem(\\[[^\\[\\]]*?\\]){(?P<bibkey>[a-zA-Z0-9\\-\\+\\.\\S]+?)}(?P<authors>|([\\D]*?))(?P<year>[12][0-9]{3})(?P<rest>.*)\n",
      "        \n",
      "  warnings.warn(str(e))\n",
      "/opt/hostedtoolcache/Python/3.9.19/x64/lib/python3.9/site-packages/arxiv_on_deck_2/latex_bib.py:132: UserWarning: Error processing bibitem\n",
      " item = \\bibitem{2014ApJ...788...28V}\\bibinfo{author}{{van der Wel}, A.} \\emph{et~al.}\\newblock \\bibinfo{title}{{3D-HST+CANDELS: The Evolution of the Galaxy Size-Mass Distribution since z = 3}}.\\newblock \\emph{\\bibinfo{journal}{\\apj}} \\textbf{\\bibinfo{volume}{788}}, \\bibinfo{pages}{28} (\\bibinfo{year}{2014}).\n",
      " regex = \n",
      "        \\\\bibitem(\\[[^\\[\\]]*?\\]){(?P<bibkey>[a-zA-Z0-9\\-\\+\\.\\S]+?)}(?P<authors>|([\\D]*?))(?P<year>[12][0-9]{3})(?P<rest>.*)\n",
      "        \n",
      "  warnings.warn(str(e))\n",
      "/opt/hostedtoolcache/Python/3.9.19/x64/lib/python3.9/site-packages/arxiv_on_deck_2/latex_bib.py:132: UserWarning: Error processing bibitem\n",
      " item = \\bibitem{2019MNRAS.483.4140R}\\bibinfo{author}{{Rodriguez-Gomez}, V.} \\emph{et~al.}\\newblock \\bibinfo{title}{{The optical morphologies of galaxies in the IllustrisTNG simulation: a comparison to Pan-STARRS observations}}.\\newblock \\emph{\\bibinfo{journal}{\\mnras}} \\textbf{\\bibinfo{volume}{483}}, \\bibinfo{pages}{4140--4159} (\\bibinfo{year}{2019}).\n",
      " regex = \n",
      "        \\\\bibitem(\\[[^\\[\\]]*?\\]){(?P<bibkey>[a-zA-Z0-9\\-\\+\\.\\S]+?)}(?P<authors>|([\\D]*?))(?P<year>[12][0-9]{3})(?P<rest>.*)\n",
      "        \n",
      "  warnings.warn(str(e))\n",
      "/opt/hostedtoolcache/Python/3.9.19/x64/lib/python3.9/site-packages/arxiv_on_deck_2/latex_bib.py:132: UserWarning: Error processing bibitem\n",
      " item = \\bibitem{2017MNRAS.472.4297W}\\bibinfo{author}{{Wilkinson}, D.~M.}, \\bibinfo{author}{{Maraston}, C.}, \\bibinfo{author}{{Goddard}, D.}, \\bibinfo{author}{{Thomas}, D.}  \\bibinfo{author}{{Parikh}, T.}\\newblock \\bibinfo{title}{{FIREFLY (Fitting IteRativEly For Likelihood analYsis): a full spectral fitting code}}.\\newblock \\emph{\\bibinfo{journal}{\\mnras}} \\textbf{\\bibinfo{volume}{472}}, \\bibinfo{pages}{4297--4326} (\\bibinfo{year}{2017}).\n",
      " regex = \n",
      "        \\\\bibitem(\\[[^\\[\\]]*?\\]){(?P<bibkey>[a-zA-Z0-9\\-\\+\\.\\S]+?)}(?P<authors>|([\\D]*?))(?P<year>[12][0-9]{3})(?P<rest>.*)\n",
      "        \n",
      "  warnings.warn(str(e))\n",
      "/opt/hostedtoolcache/Python/3.9.19/x64/lib/python3.9/site-packages/arxiv_on_deck_2/latex_bib.py:132: UserWarning: Error processing bibitem\n",
      " item = \\bibitem{2019AJ....158..231W}\\bibinfo{author}{{Westfall}, K.~B.} \\emph{et~al.}\\newblock \\bibinfo{title}{{The Data Analysis Pipeline for the SDSS-IV MaNGA IFU Galaxy Survey: Overview}}.\\newblock \\emph{\\bibinfo{journal}{\\aj}} \\textbf{\\bibinfo{volume}{158}}, \\bibinfo{pages}{231} (\\bibinfo{year}{2019}).\n",
      " regex = \n",
      "        \\\\bibitem(\\[[^\\[\\]]*?\\]){(?P<bibkey>[a-zA-Z0-9\\-\\+\\.\\S]+?)}(?P<authors>|([\\D]*?))(?P<year>[12][0-9]{3})(?P<rest>.*)\n",
      "        \n",
      "  warnings.warn(str(e))\n",
      "/opt/hostedtoolcache/Python/3.9.19/x64/lib/python3.9/site-packages/arxiv_on_deck_2/latex_bib.py:132: UserWarning: Error processing bibitem\n",
      " item = \\bibitem{2023MNRAS.522.5479N}\\bibinfo{author}{{Nanni}, L.} \\emph{et~al.}\\newblock \\bibinfo{title}{{iMaNGA: mock MaNGA galaxies based on IllustrisTNG and MaStar SSPs - II. The catalogue}}.\\newblock \\emph{\\bibinfo{journal}{\\mnras}} \\textbf{\\bibinfo{volume}{522}}, \\bibinfo{pages}{5479--5499} (\\bibinfo{year}{2023}).\n",
      " regex = \n",
      "        \\\\bibitem(\\[[^\\[\\]]*?\\]){(?P<bibkey>[a-zA-Z0-9\\-\\+\\.\\S]+?)}(?P<authors>|([\\D]*?))(?P<year>[12][0-9]{3})(?P<rest>.*)\n",
      "        \n",
      "  warnings.warn(str(e))\n",
      "/opt/hostedtoolcache/Python/3.9.19/x64/lib/python3.9/site-packages/arxiv_on_deck_2/latex_bib.py:132: UserWarning: Error processing bibitem\n",
      " item = \\bibitem{2022MNRAS.509.4024D}\\bibinfo{author}{{Dom{í}nguez S{á}nchez}, H.}, \\bibinfo{author}{{Margalef}, B.}, \\bibinfo{author}{{Bernardi}, M.}  \\bibinfo{author}{{Huertas-Company}, M.}\\newblock \\bibinfo{title}{{SDSS-IV DR17: final release of MaNGA PyMorph photometric and deep-learning morphological catalogues}}.\\newblock \\emph{\\bibinfo{journal}{\\mnras}} \\textbf{\\bibinfo{volume}{509}}, \\bibinfo{pages}{4024--4036} (\\bibinfo{year}{2022}).\n",
      " regex = \n",
      "        \\\\bibitem(\\[[^\\[\\]]*?\\]){(?P<bibkey>[a-zA-Z0-9\\-\\+\\.\\S]+?)}(?P<authors>|([\\D]*?))(?P<year>[12][0-9]{3})(?P<rest>.*)\n",
      "        \n",
      "  warnings.warn(str(e))\n",
      "/opt/hostedtoolcache/Python/3.9.19/x64/lib/python3.9/site-packages/arxiv_on_deck_2/latex_bib.py:132: UserWarning: Error processing bibitem\n",
      " item = \\bibitem{2016RMxAA..52..171S}\\bibinfo{author}{{S{á}nchez}, S.~F.} \\emph{et~al.}\\newblock \\bibinfo{title}{{Pipe3D, a pipeline to analyze Integral Field Spectroscopy Data: II. Analysis sequence and CALIFA dataproducts}}.\\newblock \\emph{\\bibinfo{journal}{\\rmxaa}} \\textbf{\\bibinfo{volume}{52}}, \\bibinfo{pages}{171--220} (\\bibinfo{year}{2016}).\n",
      " regex = \n",
      "        \\\\bibitem(\\[[^\\[\\]]*?\\]){(?P<bibkey>[a-zA-Z0-9\\-\\+\\.\\S]+?)}(?P<authors>|([\\D]*?))(?P<year>[12][0-9]{3})(?P<rest>.*)\n",
      "        \n",
      "  warnings.warn(str(e))\n",
      "/opt/hostedtoolcache/Python/3.9.19/x64/lib/python3.9/site-packages/arxiv_on_deck_2/latex_bib.py:132: UserWarning: Error processing bibitem\n",
      " item = \\bibitem{2018MNRAS.477.4711G}\\bibinfo{author}{{Graham}, M.~T.} \\emph{et~al.}\\newblock \\bibinfo{title}{{SDSS-IV MaNGA: stellar angular momentum of about 2300 galaxies: unveiling the bimodality of massive galaxy properties}}.\\newblock \\emph{\\bibinfo{journal}{\\mnras}} \\textbf{\\bibinfo{volume}{477}}, \\bibinfo{pages}{4711--4737} (\\bibinfo{year}{2018}).\\end{thebibliography}\n",
      " regex = \n",
      "        \\\\bibitem(\\[[^\\[\\]]*?\\]){(?P<bibkey>[a-zA-Z0-9\\-\\+\\.\\S]+?)}(?P<authors>|([\\D]*?))(?P<year>[12][0-9]{3})(?P<rest>.*)\n",
      "        \n",
      "  warnings.warn(str(e))\n"
     ]
    },
    {
     "name": "stdout",
     "output_type": "stream",
     "text": [
      "Found 121 bibliographic references in tmp_2407.00171/VGM_vs_TNG_sizes_and_mophology.bbl.\n",
      "Retrieving document from  https://arxiv.org/e-print/2407.00319\n"
     ]
    },
    {
     "name": "stdout",
     "output_type": "stream",
     "text": [
      "extracting tarball to tmp_2407.00319... done.\n",
      "Retrieving document from  https://arxiv.org/e-print/2407.00582\n",
      "extracting tarball to tmp_2407.00582..."
     ]
    },
    {
     "name": "stdout",
     "output_type": "stream",
     "text": [
      " done.\n",
      "  0: tmp_2407.00582/Baranec_SPIE_2024.tex, 381 lines\n",
      "  1: tmp_2407.00582/template_for_reference.tex, 251 lines\n",
      "Retrieving document from  https://arxiv.org/e-print/2407.00977\n"
     ]
    },
    {
     "name": "stderr",
     "output_type": "stream",
     "text": [
      "/opt/hostedtoolcache/Python/3.9.19/x64/lib/python3.9/site-packages/IPython/core/interactiveshell.py:3550: LatexWarning: Multiple tex files.\n",
      "\n",
      "  exec(code_obj, self.user_global_ns, self.user_ns)\n",
      "/opt/hostedtoolcache/Python/3.9.19/x64/lib/python3.9/site-packages/IPython/core/interactiveshell.py:3550: LatexWarning: Found 2 candidates with documentclass definition.\n",
      "  exec(code_obj, self.user_global_ns, self.user_ns)\n",
      "/opt/hostedtoolcache/Python/3.9.19/x64/lib/python3.9/site-packages/IPython/core/interactiveshell.py:3550: LatexWarning: Assuming tmp_2407.00582/Baranec_SPIE_2024.tex as main document.\n",
      "  exec(code_obj, self.user_global_ns, self.user_ns)\n"
     ]
    },
    {
     "name": "stdout",
     "output_type": "stream",
     "text": [
      "extracting tarball to tmp_2407.00977... done.\n",
      "Retrieving document from  https://arxiv.org/e-print/2407.01063\n",
      "extracting tarball to tmp_2407.01063..."
     ]
    },
    {
     "name": "stdout",
     "output_type": "stream",
     "text": [
      " done.\n"
     ]
    },
    {
     "name": "stdout",
     "output_type": "stream",
     "text": [
      "S. Li  ->  S. Li  |  ['S. Li']\n"
     ]
    },
    {
     "name": "stdout",
     "output_type": "stream",
     "text": [
      "Found 90 bibliographic references in tmp_2407.01063/accepted-G24-APJL.bbl.\n",
      "Retrieving document from  https://arxiv.org/e-print/2407.01118\n",
      "extracting tarball to tmp_2407.01118..."
     ]
    },
    {
     "name": "stdout",
     "output_type": "stream",
     "text": [
      " done.\n",
      "Retrieving document from  https://arxiv.org/e-print/2407.01413\n"
     ]
    },
    {
     "name": "stdout",
     "output_type": "stream",
     "text": [
      "extracting tarball to tmp_2407.01413..."
     ]
    },
    {
     "name": "stdout",
     "output_type": "stream",
     "text": [
      " done.\n",
      "Retrieving document from  https://arxiv.org/e-print/2407.01438\n",
      "extracting tarball to tmp_2407.01438..."
     ]
    },
    {
     "name": "stderr",
     "output_type": "stream",
     "text": [
      "/opt/hostedtoolcache/Python/3.9.19/x64/lib/python3.9/site-packages/IPython/core/interactiveshell.py:3550: LatexWarning: Multiple tex files.\n",
      "\n",
      "  exec(code_obj, self.user_global_ns, self.user_ns)\n",
      "/tmp/ipykernel_2093/1211882699.py:51: LatexWarning: 2407.01413 did not run properly\n",
      "'PosixPath' object is not subscriptable\n",
      "  warnings.warn(latex.LatexWarning(f\"{paper_id:s} did not run properly\\n\" +\n"
     ]
    },
    {
     "name": "stdout",
     "output_type": "stream",
     "text": [
      " done.\n"
     ]
    },
    {
     "name": "stderr",
     "output_type": "stream",
     "text": [
      "/opt/hostedtoolcache/Python/3.9.19/x64/lib/python3.9/site-packages/IPython/core/interactiveshell.py:3550: LatexWarning: Multiple tex files.\n",
      "\n",
      "  exec(code_obj, self.user_global_ns, self.user_ns)\n",
      "/tmp/ipykernel_2093/1211882699.py:51: LatexWarning: 2407.01438 did not run properly\n",
      "'PosixPath' object is not subscriptable\n",
      "  warnings.warn(latex.LatexWarning(f\"{paper_id:s} did not run properly\\n\" +\n"
     ]
    }
   ],
   "source": [
    "documents = []\n",
    "failed = []\n",
    "for paper in tqdm(candidates):\n",
    "    # debug crap\n",
    "    paper['identifier'] = paper['identifier'].lower().replace('arxiv:', '').replace(r'\\n', '').strip()\n",
    "    paper_id = paper['identifier']\n",
    "    \n",
    "    folder = f'tmp_{paper_id}'\n",
    "\n",
    "    try:\n",
    "        if not os.path.isdir(folder):\n",
    "            folder = retrieve_document_source(f\"{paper_id}\", f'tmp_{paper_id}')\n",
    "        \n",
    "        try:\n",
    "            doc = latex.LatexDocument(folder, validation=validation)    \n",
    "        except AffiliationError as affilerror:\n",
    "            msg = f\"ArXiv:{paper_id:s} is not an MPIA paper... \" + str(affilerror)\n",
    "            failed.append((paper, \"affiliation error: \" + str(affilerror) ))\n",
    "            continue\n",
    "        \n",
    "        # Hack because sometimes author parsing does not work well\n",
    "        if (len(doc.authors) != len(paper['authors'])):\n",
    "            doc._authors = paper['authors']\n",
    "        else:\n",
    "            # highlight authors (FIXME: doc.highlight_authors)\n",
    "            # done on arxiv paper already\n",
    "            doc._authors = highlight_authors_in_list(\n",
    "                [mpia.get_initials(k) for k in doc.authors], \n",
    "                mpia_authors, verbose=True)\n",
    "        if (doc.abstract) in (None, ''):\n",
    "            doc._abstract = paper['abstract']\n",
    "            \n",
    "        doc.comment = (get_markdown_badge(paper_id) + \n",
    "                       \"<mark>Appeared on: \" + paper['date'] + \"</mark> - \")\n",
    "        if paper['comments']:\n",
    "            doc.comment += \" _\" + paper['comments'] + \"_\"\n",
    "        \n",
    "        full_md = doc.generate_markdown_text()\n",
    "        \n",
    "        full_md += get_markdown_qrcode(paper_id)\n",
    "        \n",
    "        # replace citations\n",
    "        try:\n",
    "            bibdata = latex_bib.LatexBib.from_doc(doc)\n",
    "            full_md = latex_bib.replace_citations(full_md, bibdata)\n",
    "        except Exception as e:\n",
    "            print(e)\n",
    "        \n",
    "        documents.append((paper_id, full_md))\n",
    "    except Exception as e:\n",
    "        warnings.warn(latex.LatexWarning(f\"{paper_id:s} did not run properly\\n\" +\n",
    "                                         str(e)\n",
    "                                        ))\n",
    "        failed.append((paper, \"latex error \" + str(e)))"
   ]
  },
  {
   "cell_type": "markdown",
   "id": "2505a25c",
   "metadata": {
    "papermill": {
     "duration": 0.004802,
     "end_time": "2024-07-03T04:11:28.672223",
     "exception": false,
     "start_time": "2024-07-03T04:11:28.667421",
     "status": "completed"
    },
    "tags": []
   },
   "source": [
    "### Export the logs\n",
    "\n",
    "Throughout, we also keep track of the logs per paper. see `logs-{today date}.md` "
   ]
  },
  {
   "cell_type": "code",
   "execution_count": 6,
   "id": "d733828a",
   "metadata": {
    "execution": {
     "iopub.execute_input": "2024-07-03T04:11:28.683131Z",
     "iopub.status.busy": "2024-07-03T04:11:28.682648Z",
     "iopub.status.idle": "2024-07-03T04:11:28.707064Z",
     "shell.execute_reply": "2024-07-03T04:11:28.706373Z"
    },
    "papermill": {
     "duration": 0.031446,
     "end_time": "2024-07-03T04:11:28.708386",
     "exception": false,
     "start_time": "2024-07-03T04:11:28.676940",
     "status": "completed"
    },
    "scrolled": false,
    "tags": []
   },
   "outputs": [
    {
     "data": {
      "text/markdown": [
       "## Successful papers"
      ],
      "text/plain": [
       "<IPython.core.display.Markdown object>"
      ]
     },
     "metadata": {},
     "output_type": "display_data"
    },
    {
     "data": {
      "text/markdown": [
       "\n",
       "|||\n",
       "|---:|:---|\n",
       "| [![arXiv](https://img.shields.io/badge/arXiv-2407.00153-b31b1b.svg)](https://arxiv.org/abs/2407.00153) | **MIDIS. Near-infrared rest-frame morphology of massive galaxies at $3<z<5.5$ in the Hubble eXtreme Deep Field**  |\n",
       "|| L. Costantin, et al. -- incl., <mark>F. Walter</mark>, <mark>T. K. Henning</mark> |\n",
       "|*Appeared on*| *2024-07-03*|\n",
       "|*Comments*| *Submitted to A&A. 7 pages, 4 figures. Comments welcome*|\n",
       "|**Abstract**|            Thanks to decades of observations using HST, the structure of galaxies at redshift $z>2$ has been widely studied in the rest-frame ultraviolet regime, which traces recent star formation from young stellar populations. But, we still have little information about the spatial distribution of the older, more evolved, stellar populations, constrained by the rest-frame infrared portion of galaxies' spectral energy distribution. We present the morphological characterization of a sample of 21 massive galaxies ($\\log(M_{\\star}/M_{\\odot})>9.5$) at redshift $3<z<5.5$. These galaxies are observed as part of the GTO program MIDIS with the Mid-Infrared Instrument (MIRI) onboard JWST. The deep MIRI 5.6~$\\mu$m imaging allows us to characterize for the first time the rest-frame near-infrared structure of galaxies beyond cosmic noon, at higher redshifts than possible with NIRCam, tracing their older stellar populations. We derive the galaxies' non-parametric morphology and model the galaxies' light distribution with a Sérsic component. We find that at $z>3$ massive galaxies show a smooth distribution of their rest-infrared light, strongly supporting the increasing number of regular disk galaxies already in place at early epochs. On the contrary, the ultraviolet structure obtained from HST observations is generally more irregular, catching the most recent episodes of star formation. Importantly, we find a segregation of morphologies across cosmic time, having massive galaxies at redshift $z>4$ later-type morphologies compared to $z\\sim3$ galaxies. These findings suggest a transition phase in galaxy assembly and central mass build up already taking place at $z\\sim3-4$. MIRI provides unique information about the structure of the mature stellar population of high-redshift galaxies, unveiling that massive galaxies beyond cosmic noon are prevalently compact disk galaxies with smooth mass distribution.         |"
      ],
      "text/plain": [
       "[2407.00153] MIDIS. Near-infrared rest-frame morphology of massive galaxies at $3<z<5.5$ in the Hubble eXtreme Deep Field\n",
       "\tL. Costantin, et al. -- incl., <mark>F. Walter</mark>, <mark>T. K. Henning</mark>"
      ]
     },
     "metadata": {},
     "output_type": "display_data"
    },
    {
     "data": {
      "text/markdown": [
       "\n",
       "|||\n",
       "|---:|:---|\n",
       "| [![arXiv](https://img.shields.io/badge/arXiv-2407.00166-b31b1b.svg)](https://arxiv.org/abs/2407.00166) | **Constraints on the in-situ and ex-situ stellar masses in nearby galaxies with Artificial Intelligence**  |\n",
       "|| E. Angeloudi, et al. -- incl., <mark>L. Eisert</mark>, <mark>A. Pillepich</mark> |\n",
       "|*Appeared on*| *2024-07-03*|\n",
       "|*Comments*| *16 pages, 7 Figures. Accepted for publication*|\n",
       "|**Abstract**|            The hierarchical model of galaxy evolution suggests that the impact of mergers is substantial on the intricate processes that drive stellar assembly within a galaxy. However, accurately measuring the contribution of accretion to a galaxy's total stellar mass and its balance with in-situ star formation poses a persistent challenge, as it is neither directly observable nor easily inferred from observational properties. Here, we present theory-motivated predictions for the fraction of stellar mass originating from mergers in a statistically significant sample of nearby galaxies, using data from MaNGA. Employing a robust machine learning model trained on mock MaNGA analogs (MaNGIA) in turn obtained from a cosmological simulation (TNG50), we unveil that in-situ stellar mass dominates almost across the entire stellar mass spectrum (1e9Msun < M* < 1e12Msun). Only in more massive galaxies (M* > 1e11Msun) does accreted mass become a substantial contributor, reaching up to 35-40% of the total stellar mass. Notably, the ex-situ stellar mass in the nearby universe exhibits significant dependence on galaxy characteristics, with higher accreted fractions favored by elliptical, quenched galaxies and slow rotators, as well as galaxies at the center of more massive dark matter halos.         |"
      ],
      "text/plain": [
       "[2407.00166] Constraints on the in-situ and ex-situ stellar masses in nearby galaxies with Artificial Intelligence\n",
       "\tE. Angeloudi, et al. -- incl., <mark>L. Eisert</mark>, <mark>A. Pillepich</mark>"
      ]
     },
     "metadata": {},
     "output_type": "display_data"
    },
    {
     "data": {
      "text/markdown": [
       "\n",
       "|||\n",
       "|---:|:---|\n",
       "| [![arXiv](https://img.shields.io/badge/arXiv-2407.00171-b31b1b.svg)](https://arxiv.org/abs/2407.00171) | **The PARADIGM project I: How early merger histories shape the present-day sizes of Milky-Way-mass galaxies**  |\n",
       "|| G. D. Joshi, et al. -- incl., <mark>A. Pillepich</mark> |\n",
       "|*Appeared on*| *2024-07-03*|\n",
       "|*Comments*| *Submitted to MNRAS. 22 pages. Comments are welcome*|\n",
       "|**Abstract**|            The way in which mergers affect galaxy formation depends on both feedback processes, and on the geometry and strength of the mergers themselves. We introduce the PARADIGM project, where we study the response of a simulated Milky-Way-mass galaxy forming in a cosmological setting to differing merger histories, using genetically modified initial conditions. Each initial condition is simulated with the VINTERGATAN and IllustrisTNG codes. While VINTERGATAN has been developed with an emphasis on resolving the cold interstellar medium, IllustrisTNG uses a subgrid two-phase model and consequently scales to large volume simulations, making them ideal to examine complementary views on how merger histories and feedback interact. Our genetic modifications alter the mass ratio of an important $z \\approx 2$ merger while maintaining the halo's $z=0$ mass. Whether simulated with VINTERGATAN or IllustrisTNG, smaller mass ratios for this early merger result in larger galaxies at $z=0$, due to a greater build up of a kinematically cold disc. We conclude that such broad trends are robustly reproducible; however, the normalization of the resulting stellar sizes is substantially different in the two codes (ranging between $0.5-1.7\\ \\rm{kpc}$ for VINTERGATAN but $1.3-7.0\\ \\rm{kpc}$ for IllustrisTNG). The VINTERGATAN galaxies systematically form stars earlier, leading to a larger bulge component. Despite the difference in size normalization, both simulation suites lie on the observed size-mass relation for their respective morphological types. In light of these results, we discuss the interplay between internal processes and large scale gravitational interactions and gas accretion, and how the two galaxy models converge on similar emergent trends but along different evolutionary pathways.         |"
      ],
      "text/plain": [
       "[2407.00171] The PARADIGM project I: How early merger histories shape the present-day sizes of Milky-Way-mass galaxies\n",
       "\tG. D. Joshi, et al. -- incl., <mark>A. Pillepich</mark>"
      ]
     },
     "metadata": {},
     "output_type": "display_data"
    },
    {
     "data": {
      "text/markdown": [
       "\n",
       "|||\n",
       "|---:|:---|\n",
       "| [![arXiv](https://img.shields.io/badge/arXiv-2407.01063-b31b1b.svg)](https://arxiv.org/abs/2407.01063) | **Direct observational evidence of multi-epoch massive star formation in G24.47+0.49**  |\n",
       "|| A. Saha, et al. -- incl., <mark>S. Li</mark> |\n",
       "|*Appeared on*| *2024-07-03*|\n",
       "|*Comments*| *18 pages, 7 figures, accepted for publication in The Astrophysical Journal Letters*|\n",
       "|**Abstract**|            Using new continuum and molecular line data from the ALMA Three-millimeter Observations of Massive Star-forming Regions (ATOMS) survey and archival VLA, 4.86 GHz data, we present direct observational evidence of hierarchical triggering relating three epochs of massive star formation in a ring-like H II region, G24.47+0.49. We find from radio flux analysis that it is excited by a massive star(s) of spectral type O8.5V-O8V from the first epoch of star formation. The swept-up ionized ring structure shows evidence of secondary collapse, and within this ring a burst of massive star formation is observed in different evolutionary phases, which constitutes the second epoch. ATOMS spectral line (e.g., HCO$^+$(1-0)) observations reveal an outer concentric molecular gas ring expanding at a velocity of $\\sim$ 9 $\\rm km\\,s^{-1}$, constituting the direct and unambiguous detection of an expanding molecular ring. It harbors twelve dense molecular cores with surface mass density greater than 0.05 $\\rm g\\,cm^{-2}$, a threshold typical of massive star formation. Half of them are found to be subvirial, and thus in gravitational collapse, making them third epoch of potential massive star-forming sites.         |"
      ],
      "text/plain": [
       "[2407.01063] Direct observational evidence of multi-epoch massive star formation in G24.47+0.49\n",
       "\tA. Saha, et al. -- incl., <mark>S. Li</mark>"
      ]
     },
     "metadata": {},
     "output_type": "display_data"
    },
    {
     "data": {
      "text/markdown": [
       "## Failed papers"
      ],
      "text/plain": [
       "<IPython.core.display.Markdown object>"
      ]
     },
     "metadata": {},
     "output_type": "display_data"
    },
    {
     "data": {
      "text/markdown": [
       "\n",
       "|||\n",
       "|---:|:---|\n",
       "| [![arXiv](https://img.shields.io/badge/arXiv-2407.00319-b31b1b.svg)](https://arxiv.org/abs/2407.00319) | **A slightly oblate dark matter halo revealed by a retrograde precessing Galactic disk warp**  |\n",
       "|| Y. Huang, et al. -- incl., <mark>J. Liu</mark> |\n",
       "|*Appeared on*| *2024-07-03*|\n",
       "|*Comments*| *Published in Nature Astronomy on June 27th, 2024. Final published version here: this https URL*|\n",
       "|**Abstract**|            The shape of the dark matter (DM) halo is key to understanding the hierarchical formation of the Galaxy. Despite extensive efforts in recent decades, however, its shape remains a matter of debate, with suggestions ranging from strongly oblate to prolate. Here, we present a new constraint on its present shape by directly measuring the evolution of the Galactic disk warp with time, as traced by accurate distance estimates and precise age determinations for about 2,600 classical Cepheids. We show that the Galactic warp is mildly precessing in a retrograde direction at a rate of $\\omega = -2.1 \\pm 0.5 ({\\rm statistical}) \\pm 0.6 ({\\rm systematic})$ km s$^{-1}$ kpc$^{-1}$ for the outer disk over the Galactocentric radius [$7.5, 25$] kpc, decreasing with radius. This constrains the shape of the DM halo to be slightly oblate with a flattening (minor axis to major axis ratio) in the range $0.84 \\le q_{\\Phi} \\le 0.96$. Given the young nature of the disk warp traced by Cepheids (less than 200 Myr), our approach directly measures the shape of the present-day DM halo. This measurement, combined with other measurements from older tracers, could provide vital constraints on the evolution of the DM halo and the assembly history of the Galaxy.         |\n",
       "|<p style=\"color:green\"> **ERROR** </p>| <p style=\"color:green\">affiliation error: mpia.affiliation_verifications: 'Heidelberg' keyword not found.</p> |"
      ],
      "text/plain": [
       "<IPython.core.display.Markdown object>"
      ]
     },
     "metadata": {},
     "output_type": "display_data"
    },
    {
     "data": {
      "text/markdown": [
       "\n",
       "|||\n",
       "|---:|:---|\n",
       "| [![arXiv](https://img.shields.io/badge/arXiv-2407.00582-b31b1b.svg)](https://arxiv.org/abs/2407.00582) | **Commissioning results from the Robo-AO-2 facility for rapid visible and near-infrared AO imaging**  |\n",
       "|| C. Baranec, et al. -- incl., <mark>R. Zhang</mark> |\n",
       "|*Appeared on*| *2024-07-03*|\n",
       "|*Comments*| *Proceedings of SPIE, 13097-15*|\n",
       "|**Abstract**|            We installed the next-generation automated laser adaptive optics system, Robo-AO-2, on the University of Hawaii 2.2-m telescope on Maunakea in 2023. We engineered Robo-AO-2 to deliver robotic, diffraction-limited observations at visible and near-infrared wavelengths in unprecedented numbers. This new instrument takes advantage of upgraded components, manufacturing techniques and control; and includes a parallel reconfigurable natural guide star wavefront sensor with which to explore hybrid wavefront sensing techniques. We present the results of commissioning in 2023 and 2024.         |\n",
       "|<p style=\"color:green\"> **ERROR** </p>| <p style=\"color:green\">affiliation error: mpia.affiliation_verifications: 'Heidelberg' keyword not found.</p> |"
      ],
      "text/plain": [
       "<IPython.core.display.Markdown object>"
      ]
     },
     "metadata": {},
     "output_type": "display_data"
    },
    {
     "data": {
      "text/markdown": [
       "\n",
       "|||\n",
       "|---:|:---|\n",
       "| [![arXiv](https://img.shields.io/badge/arXiv-2407.00977-b31b1b.svg)](https://arxiv.org/abs/2407.00977) | **Ongoing and fossil large-scale outflows detected in a high-redshift radio galaxy: [C II] observations of TN J0924$-$2201 at $z=5.174$**  |\n",
       "|| <mark>K. Lee</mark>, et al. |\n",
       "|*Appeared on*| *2024-07-03*|\n",
       "|*Comments*| *16 pages, 11 figures, accepted for publication in ApJ*|\n",
       "|**Abstract**|            We present Atacama Large Millimeter/submillimeter Array observations of the [C II] 158 $\\mu$m line and the underlying continuum emission of TN J0924$-$2201, which is one of the most distant known radio galaxies at $z>5$. The [C II] line and 1-mm continuum emission are detected at the host galaxy. The systemic redshift derived from the [C II] line is $z_{\\rm [C II]}=5.1736\\pm0.0002$, indicating that the Ly$\\alpha$ line is redshifted by a velocity of $1035\\pm10$ km s$^{-1}$, marking the largest velocity offset between the [C II] and Ly$\\alpha$ lines recorded at $z>5$ to date. In the central region of the host galaxy, we identified a redshifted substructure of [C II] with a velocity of $702\\pm17$ km s$^{-1}$, which is close to the CIV line with a velocity of $500\\pm10$ km s$^{-1}$. The position and the velocity offsets align with a model of an outflowing shell structure, consistent with the large velocity offset of Ly$\\alpha$. The non-detection of [C II] and dust emission from the three CO(1--0)-detected companions indicates their different nature compared to dwarf galaxies based on the photodissociation region model. Given their large velocity of $\\sim1500$ km s$^{-1}$, outflowing molecular clouds induced by the AGN is the most plausible interpretation, and they may exceed the escape velocity of a $10^{13}\\,M_{\\odot}$ halo. These results suggest that TN J0924$-$2201, with the ongoing and fossil large-scale outflows, is in a distinctive phase of removing molecular gas from a central massive galaxy in an overdense region in the early universe. A dusty HI absorber at the host galaxy is an alternative interpretation.         |\n",
       "|<p style=\"color:green\"> **ERROR** </p>| <p style=\"color:green\">affiliation error: mpia.affiliation_verifications: 'Heidelberg' keyword not found.</p> |"
      ],
      "text/plain": [
       "<IPython.core.display.Markdown object>"
      ]
     },
     "metadata": {},
     "output_type": "display_data"
    },
    {
     "data": {
      "text/markdown": [
       "\n",
       "|||\n",
       "|---:|:---|\n",
       "| [![arXiv](https://img.shields.io/badge/arXiv-2407.01118-b31b1b.svg)](https://arxiv.org/abs/2407.01118) | **Preliminary results of sky brightness measurements in near-infrared at Lenghu, China**  |\n",
       "|| <mark>J. Li</mark>, B. Ma, Z. Dong, H. Zhang |\n",
       "|*Appeared on*| *2024-07-03*|\n",
       "|*Comments*| *8 pages, 8 figures, presented at 2024 SPIE Astronomical Telescopes + Instrumentation conference*|\n",
       "|**Abstract**|            Low sky brightness is crucial for ground-based astronomical observations, because it limits the observational capability to detect fainter sources. Lenghu, located on the Tibetan Plateau in China, has been identified as an high-quality astronomical site in China, including dark sky in optical band. In this work, we will report the preliminary results of near-infrared sky brightness measurements at Lenghu. Utilizing a wide-field small telescope equipped with an InGaAs camera, we have been conducting long-term monitoring of near-infrared sky brightness in the J and H' bands, respectively, since January 2024. For each image, photometry and astrometry were performed, then sky background was calibrated by standard stars from the 2MASS catalog. This report includes preliminary results on the sky brightness at zenith in the J and H' bands, as well as their variations with solar elevation at Lenghu. Our initial results indicate that the near-infrared sky brightness at Lenghu is comparable to that of other world-class sites, and long-term monitoring will be continued.         |\n",
       "|<p style=\"color:green\"> **ERROR** </p>| <p style=\"color:green\">affiliation error: mpia.affiliation_verifications: 'Heidelberg' keyword not found.</p> |"
      ],
      "text/plain": [
       "<IPython.core.display.Markdown object>"
      ]
     },
     "metadata": {},
     "output_type": "display_data"
    },
    {
     "data": {
      "text/markdown": [
       "\n",
       "|||\n",
       "|---:|:---|\n",
       "| [![arXiv](https://img.shields.io/badge/arXiv-2407.00165-b31b1b.svg)](https://arxiv.org/abs/2407.00165) | **High-energy spectra of LTT 1445A and GJ 486 reveal flares and activity**  |\n",
       "|| H. Diamond-Lowe, et al. -- incl., <mark>L. Kreidberg</mark> |\n",
       "|*Appeared on*| *2024-07-03*|\n",
       "|*Comments*| *22 pages, accepted to A&A*|\n",
       "|**Abstract**|            The high-energy radiative output, from the X-ray to the ultraviolet, of exoplanet host stars drives photochemical reactions and mass loss in the upper regions of planetary atmospheres. In order to place constraints on the atmospheric properties of the three closest terrestrial exoplanets transiting M dwarfs, we observe the high-energy spectra of the host stars LTT1445A and GJ486 in the X-ray with XMM-Newton and Chandra and in the ultraviolet with HST/COS and STIS. We combine these observations with estimates of extreme ultraviolet flux, reconstructions of the Ly-a lines, and stellar models at optical and infrared wavelengths to produce panchromatic spectra from 1A--20um for each star. While LTT1445Ab, LTT1445Ac, and GJ486b do not possess primordial hydrogen-dominated atmospheres, we calculate that they are able to retain pure CO2 atmospheres if starting with 10, 15, and 50% of Earth's total CO2 budget, respectively, in the presence of their host stars' stellar wind. We use age-activity relationships to place lower limits of 2.2 and 6.6 Gyr on the ages of the host stars LTT1445A and GJ486. Despite both LTT1445A and GJ486 appearing inactive at optical wavelengths, we detect flares at ultraviolet and X-ray wavelengths for both stars. In particular, GJ486 exhibits two flares with absolute energies of 10^29.5 and 10^30.1 erg (equivalent durations of 4357+/-96 and 19724+/-169 s) occurring three hours apart, captured with HST/COS G130M. Based on the timing of the observations, we suggest that these high-energy flares are related and indicative of heightened flaring activity that lasts for a period of days, but our interpretations are limited by sparse time-sampling. Consistent high-energy monitoring is needed to determine the duration and extent of high-energy activity on individual M dwarfs, as well as the population as a whole.         |\n",
       "|<p style=\"color:red\"> **ERROR** </p>| <p style=\"color:red\">latex error 'PosixPath' object is not subscriptable</p> |"
      ],
      "text/plain": [
       "<IPython.core.display.Markdown object>"
      ]
     },
     "metadata": {},
     "output_type": "display_data"
    },
    {
     "data": {
      "text/markdown": [
       "\n",
       "|||\n",
       "|---:|:---|\n",
       "| [![arXiv](https://img.shields.io/badge/arXiv-2407.01413-b31b1b.svg)](https://arxiv.org/abs/2407.01413) | **AtLAST Science Overview Report**  |\n",
       "|| M. Booth, et al. -- incl., <mark>D. Semenov</mark> |\n",
       "|*Appeared on*| *2024-07-03*|\n",
       "|*Comments*| *47 pages, 12 figures. For further details on AtLAST see this https URL*|\n",
       "|**Abstract**|            Submillimeter and millimeter wavelengths provide a unique view of the Universe, from the gas and dust that fills and surrounds galaxies to the chromosphere of our own Sun. Current single-dish facilities have presented a tantalising view of the brightest (sub-)mm sources, and interferometers have provided the exquisite resolution necessary to analyse the details in small fields, but there are still many open questions that cannot be answered with current facilities. In this report we summarise the science that is guiding the design of the Atacama Large Aperture Submillimeter Telescope (AtLAST). We demonstrate how tranformational advances in topics including star formation in high redshift galaxies, the diffuse circumgalactic medium, Galactic ecology, cometary compositions and solar flares motivate the need for a 50m, single-dish telescope with a 1-2 degree field of view and a new generation of highly multiplexed continuum and spectral cameras. AtLAST will have the resolution to drastically lower the confusion limit compared to current single-dish facilities, whilst also being able to rapidly map large areas of the sky and detect extended, diffuse structures. Its high sensitivity and large field of view will open up the field of submillimeter transient science by increasing the probability of serendipitous detections. Finally, the science cases listed here motivate the need for a highly flexible operations model capable of short observations of individual targets, large surveys, monitoring programmes, target of opportunity observations and coordinated observations with other observatories. AtLAST aims to be a sustainable, upgradeable, multipurpose facility that will deliver orders of magnitude increases in sensitivity and mapping speeds over current and planned submillimeter observatories.         |\n",
       "|<p style=\"color:red\"> **ERROR** </p>| <p style=\"color:red\">latex error 'PosixPath' object is not subscriptable</p> |"
      ],
      "text/plain": [
       "<IPython.core.display.Markdown object>"
      ]
     },
     "metadata": {},
     "output_type": "display_data"
    },
    {
     "data": {
      "text/markdown": [
       "\n",
       "|||\n",
       "|---:|:---|\n",
       "| [![arXiv](https://img.shields.io/badge/arXiv-2407.01438-b31b1b.svg)](https://arxiv.org/abs/2407.01438) | **Instrument Overview of Taurus: A Balloon-borne CMB and Dust Polarization Experiment**  |\n",
       "|| J. L. May, et al. -- incl., <mark>S. Li</mark> |\n",
       "|*Appeared on*| *2024-07-03*|\n",
       "|*Comments*| **|\n",
       "|**Abstract**|            Taurus is a balloon-borne cosmic microwave background (CMB) experiment optimized to map the E-mode polarization and Galactic foregrounds at the largest angular scales ($\\ell$ $\\lt$ 30) and improve measurements of the optical depth to reionization ($\\tau$). This will pave the way for improved measurements of the sum of neutrino masses in combination with high-resolution CMB data while also testing the $\\Lambda CDM$ model on large angular scales and providing high-frequency maps of polarized dust foregrounds to the CMB community. These measurements take advantage of the low-loading environment found in the stratosphere and are enabled by NASA's super-pressure balloon platform, which provides access to 70% of the sky with a launch from Wanaka, New Zealand. Here we describe a general overview of Taurus, with an emphasis on the instrument design. Taurus will employ more than 10,000 100 mK transition edge sensor bolometers distributed across two low-frequency (150, 220 GHz) and one high-frequency (280, 350 GHz) dichroic receivers. The liquid helium cryostat housing the detectors and optics is supported by a lightweight gondola. The payload is designed to meet the challenges in mass, power, and thermal control posed by the super-pressure platform. The instrument and scan strategy are optimized for rigorous control of instrumental systematics, enabling high-fidelity linear polarization measurements on the largest angular scales.         |\n",
       "|<p style=\"color:red\"> **ERROR** </p>| <p style=\"color:red\">latex error 'PosixPath' object is not subscriptable</p> |"
      ],
      "text/plain": [
       "<IPython.core.display.Markdown object>"
      ]
     },
     "metadata": {},
     "output_type": "display_data"
    }
   ],
   "source": [
    "import datetime\n",
    "today = str(datetime.date.today())\n",
    "logfile = f\"_build/html/logs/log-{today}.md\"\n",
    "\n",
    "\n",
    "with open(logfile, 'w') as logs:\n",
    "    # Success\n",
    "    logs.write(f'# Arxiv on Deck 2: Logs - {today}\\n\\n')\n",
    "    logs.write(\"\"\"* Arxiv had {0:,d} new papers\\n\"\"\".format(len(new_papers)))\n",
    "    logs.write(\"\"\"    * {0:,d} with possible author matches\\n\\n\"\"\".format(len(candidates)))\n",
    "    logs.write(\"## Sucessful papers\\n\\n\")\n",
    "    display(Markdown(\"## Successful papers\"))\n",
    "    success = [k[0] for k in documents]\n",
    "    for candid in candidates:\n",
    "        if candid['identifier'].split(':')[-1] in success:\n",
    "            display(candid)\n",
    "            logs.write(candid.generate_markdown_text() + '\\n\\n')\n",
    "\n",
    "    ## failed\n",
    "    logs.write(\"## Failed papers\\n\\n\")\n",
    "    display(Markdown(\"## Failed papers\"))\n",
    "    failed = sorted(failed, key=lambda x: x[1])\n",
    "    current_reason = \"\"\n",
    "    for paper, reason in failed:\n",
    "        if 'affiliation' in reason:\n",
    "            color = 'green'\n",
    "        else:\n",
    "            color = 'red'\n",
    "        data = Markdown(\n",
    "                paper.generate_markdown_text() + \n",
    "                f'\\n|<p style=\"color:{color:s}\"> **ERROR** </p>| <p style=\"color:{color:s}\">{reason:s}</p> |'\n",
    "               )\n",
    "        if reason != current_reason:\n",
    "            logs.write(f'### {reason:s} \\n\\n')\n",
    "            current_reason = reason\n",
    "        logs.write(data.data + '\\n\\n')\n",
    "        \n",
    "        # only display here the important errors (all in logs)\n",
    "        # if color in ('red',):\n",
    "        display(data)"
   ]
  },
  {
   "cell_type": "markdown",
   "id": "472d20ee",
   "metadata": {
    "papermill": {
     "duration": 0.006015,
     "end_time": "2024-07-03T04:11:28.720578",
     "exception": false,
     "start_time": "2024-07-03T04:11:28.714563",
     "status": "completed"
    },
    "tags": []
   },
   "source": [
    "## Export documents\n",
    "\n",
    "We now write the .md files and export relevant images"
   ]
  },
  {
   "cell_type": "code",
   "execution_count": 7,
   "id": "d426aed9",
   "metadata": {
    "execution": {
     "iopub.execute_input": "2024-07-03T04:11:28.733711Z",
     "iopub.status.busy": "2024-07-03T04:11:28.733360Z",
     "iopub.status.idle": "2024-07-03T04:11:28.740206Z",
     "shell.execute_reply": "2024-07-03T04:11:28.739628Z"
    },
    "papermill": {
     "duration": 0.014923,
     "end_time": "2024-07-03T04:11:28.741497",
     "exception": false,
     "start_time": "2024-07-03T04:11:28.726574",
     "status": "completed"
    },
    "tags": []
   },
   "outputs": [],
   "source": [
    "def export_markdown_summary(md: str, md_fname:str, directory: str):\n",
    "    \"\"\"Export MD document and associated relevant images\"\"\"\n",
    "    import os\n",
    "    import shutil\n",
    "    import re\n",
    "\n",
    "    if (os.path.exists(directory) and not os.path.isdir(directory)):\n",
    "        raise RuntimeError(f\"a non-directory file exists with name {directory:s}\")\n",
    "\n",
    "    if (not os.path.exists(directory)):\n",
    "        print(f\"creating directory {directory:s}\")\n",
    "        os.mkdir(directory)\n",
    "\n",
    "    fig_fnames = (re.compile(r'\\[Fig.*\\]\\((.*)\\)').findall(md) + \n",
    "                  re.compile(r'\\<img src=\"([^>\\s]*)\"[^>]*/>').findall(md))\n",
    "    print(\"found figures\", fig_fnames)\n",
    "    for fname in fig_fnames:\n",
    "        if 'http' in fname:\n",
    "            # No need to copy online figures\n",
    "            continue\n",
    "        if not os.path.exists(fname):\n",
    "            print(\"file not found\", fname)\n",
    "            continue\n",
    "        print(\"copying \", fname, \"to\", directory)\n",
    "        destdir = os.path.join(directory, os.path.dirname(fname))\n",
    "        destfname = os.path.join(destdir, os.path.basename(fname))\n",
    "        try:\n",
    "            os.makedirs(destdir)\n",
    "        except FileExistsError:\n",
    "            pass\n",
    "        shutil.copy(fname, destfname)\n",
    "    with open(os.path.join(directory, md_fname), 'w') as fout:\n",
    "        fout.write(md)\n",
    "    print(\"exported in \", os.path.join(directory, md_fname))\n",
    "    [print(\"    + \" + os.path.join(directory,fk)) for fk in fig_fnames]"
   ]
  },
  {
   "cell_type": "code",
   "execution_count": 8,
   "id": "014d04a4",
   "metadata": {
    "execution": {
     "iopub.execute_input": "2024-07-03T04:11:28.754722Z",
     "iopub.status.busy": "2024-07-03T04:11:28.754355Z",
     "iopub.status.idle": "2024-07-03T04:11:28.795702Z",
     "shell.execute_reply": "2024-07-03T04:11:28.795030Z"
    },
    "papermill": {
     "duration": 0.049744,
     "end_time": "2024-07-03T04:11:28.797369",
     "exception": false,
     "start_time": "2024-07-03T04:11:28.747625",
     "status": "completed"
    },
    "tags": []
   },
   "outputs": [
    {
     "name": "stdout",
     "output_type": "stream",
     "text": [
      "found figures ['tmp_2407.00153/./figure4.png', 'tmp_2407.00153/./figure5.png', 'tmp_2407.00153/./figure2.png', 'tmp_2407.00153/./figure1.png']\n",
      "copying  tmp_2407.00153/./figure4.png to _build/html/\n",
      "copying  tmp_2407.00153/./figure5.png to _build/html/\n",
      "copying  tmp_2407.00153/./figure2.png to _build/html/\n",
      "copying  tmp_2407.00153/./figure1.png to _build/html/\n",
      "exported in  _build/html/2407.00153.md\n",
      "    + _build/html/tmp_2407.00153/./figure4.png\n",
      "    + _build/html/tmp_2407.00153/./figure5.png\n",
      "    + _build/html/tmp_2407.00153/./figure2.png\n",
      "    + _build/html/tmp_2407.00153/./figure1.png\n",
      "found figures ['tmp_2407.00166/./Figures/Integrated_exsitu_mass_merger_rate.png', 'tmp_2407.00166/./Figures/Integrated_exsitu_mass_Rot_type_original_std.png', 'tmp_2407.00166/./Figures/ExsituF_vs_total_mass_mangia_manga_tng50.png', 'tmp_2407.00166/./Figures/model_uncertainties.png']\n",
      "copying  tmp_2407.00166/./Figures/Integrated_exsitu_mass_merger_rate.png to _build/html/\n",
      "copying  tmp_2407.00166/./Figures/Integrated_exsitu_mass_Rot_type_original_std.png to _build/html/\n",
      "copying  tmp_2407.00166/./Figures/ExsituF_vs_total_mass_mangia_manga_tng50.png to _build/html/\n",
      "copying  tmp_2407.00166/./Figures/model_uncertainties.png to _build/html/\n",
      "exported in  _build/html/2407.00166.md\n",
      "    + _build/html/tmp_2407.00166/./Figures/Integrated_exsitu_mass_merger_rate.png\n",
      "    + _build/html/tmp_2407.00166/./Figures/Integrated_exsitu_mass_Rot_type_original_std.png\n",
      "    + _build/html/tmp_2407.00166/./Figures/ExsituF_vs_total_mass_mangia_manga_tng50.png\n",
      "    + _build/html/tmp_2407.00166/./Figures/model_uncertainties.png\n",
      "found figures ['tmp_2407.00171/./figures/half_light_radius_evolution.png', 'tmp_2407.00171/./figures/half_mass_radius_evolution.png', 'tmp_2407.00171/./figures/circ_mass_evolution_stars_10R.png', 'tmp_2407.00171/./figures/circularity_parameter_distribution_at_z0_within_10rhalf.png']\n",
      "copying  tmp_2407.00171/./figures/half_light_radius_evolution.png to _build/html/\n",
      "copying  tmp_2407.00171/./figures/half_mass_radius_evolution.png to _build/html/\n",
      "copying  tmp_2407.00171/./figures/circ_mass_evolution_stars_10R.png to _build/html/\n",
      "copying  tmp_2407.00171/./figures/circularity_parameter_distribution_at_z0_within_10rhalf.png to _build/html/\n",
      "exported in  _build/html/2407.00171.md\n",
      "    + _build/html/tmp_2407.00171/./figures/half_light_radius_evolution.png\n",
      "    + _build/html/tmp_2407.00171/./figures/half_mass_radius_evolution.png\n",
      "    + _build/html/tmp_2407.00171/./figures/circ_mass_evolution_stars_10R.png\n",
      "    + _build/html/tmp_2407.00171/./figures/circularity_parameter_distribution_at_z0_within_10rhalf.png\n",
      "found figures ['tmp_2407.01063/./f1-spitzer_vla_3mm_ha_horizontal_w1core_4PANELS_H13CO_v2revisit_v3_R1.png', 'tmp_2407.01063/./f2-all_composite_moment0_1_2compo_full_with_Ha_NOLINESv4.png', 'tmp_2407.01063/./f6a-appendix-Tex_map_molcore_ellipse.png', 'tmp_2407.01063/./f6b-appendix-cdmap_molcores_annotate_v2revisit.png']\n",
      "copying  tmp_2407.01063/./f1-spitzer_vla_3mm_ha_horizontal_w1core_4PANELS_H13CO_v2revisit_v3_R1.png to _build/html/\n",
      "copying  tmp_2407.01063/./f2-all_composite_moment0_1_2compo_full_with_Ha_NOLINESv4.png to _build/html/\n",
      "copying  tmp_2407.01063/./f6a-appendix-Tex_map_molcore_ellipse.png to _build/html/\n",
      "copying  tmp_2407.01063/./f6b-appendix-cdmap_molcores_annotate_v2revisit.png to _build/html/\n",
      "exported in  _build/html/2407.01063.md\n",
      "    + _build/html/tmp_2407.01063/./f1-spitzer_vla_3mm_ha_horizontal_w1core_4PANELS_H13CO_v2revisit_v3_R1.png\n",
      "    + _build/html/tmp_2407.01063/./f2-all_composite_moment0_1_2compo_full_with_Ha_NOLINESv4.png\n",
      "    + _build/html/tmp_2407.01063/./f6a-appendix-Tex_map_molcore_ellipse.png\n",
      "    + _build/html/tmp_2407.01063/./f6b-appendix-cdmap_molcores_annotate_v2revisit.png\n"
     ]
    }
   ],
   "source": [
    "for paper_id, md in documents:\n",
    "    export_markdown_summary(md, f\"{paper_id:s}.md\", '_build/html/')"
   ]
  },
  {
   "cell_type": "markdown",
   "id": "f087a0a7",
   "metadata": {
    "papermill": {
     "duration": 0.006284,
     "end_time": "2024-07-03T04:11:28.810600",
     "exception": false,
     "start_time": "2024-07-03T04:11:28.804316",
     "status": "completed"
    },
    "tags": []
   },
   "source": [
    "## Display the papers\n",
    "\n",
    "Not necessary but allows for a quick check."
   ]
  },
  {
   "cell_type": "code",
   "execution_count": 9,
   "id": "fd25f625",
   "metadata": {
    "execution": {
     "iopub.execute_input": "2024-07-03T04:11:28.824091Z",
     "iopub.status.busy": "2024-07-03T04:11:28.823731Z",
     "iopub.status.idle": "2024-07-03T04:11:28.831687Z",
     "shell.execute_reply": "2024-07-03T04:11:28.831059Z"
    },
    "papermill": {
     "duration": 0.016221,
     "end_time": "2024-07-03T04:11:28.833017",
     "exception": false,
     "start_time": "2024-07-03T04:11:28.816796",
     "status": "completed"
    },
    "scrolled": false,
    "tags": []
   },
   "outputs": [
    {
     "data": {
      "text/markdown": [
       "<div class=\"macros\" style=\"visibility:hidden;\">\n",
       "$\\newcommand{\\ensuremath}{}$\n",
       "$\\newcommand{\\xspace}{}$\n",
       "$\\newcommand{\\object}[1]{\\texttt{#1}}$\n",
       "$\\newcommand{\\farcs}{{.}''}$\n",
       "$\\newcommand{\\farcm}{{.}'}$\n",
       "$\\newcommand{\\arcsec}{''}$\n",
       "$\\newcommand{\\arcmin}{'}$\n",
       "$\\newcommand{\\ion}[2]{#1#2}$\n",
       "$\\newcommand{\\textsc}[1]{\\textrm{#1}}$\n",
       "$\\newcommand{\\hl}[1]{\\textrm{#1}}$\n",
       "$\\newcommand{\\footnote}[1]{}$\n",
       "$\\newcommand{\\arraystretch}{1.5}$\n",
       "$\\newcommand\\natexlab{#1}$</div>\n",
       "\n",
       "\n",
       "\n",
       "<div id=\"title\">\n",
       "\n",
       "# MIDIS. Near-infrared rest-frame morphology   of massive galaxies\\ at $3<z<5.5$ in the Hubble eXtreme Deep Field\n",
       "\n",
       "</div>\n",
       "<div id=\"comments\">\n",
       "\n",
       "[![arXiv](https://img.shields.io/badge/arXiv-2407.00153-b31b1b.svg)](https://arxiv.org/abs/2407.00153)<mark>Appeared on: 2024-07-03</mark> -  _Submitted to A&A. 7 pages, 4 figures. Comments welcome_\n",
       "\n",
       "</div>\n",
       "<div id=\"authors\">\n",
       "\n",
       "L. Costantin, et al. -- incl., <mark>F. Walter</mark>, <mark>T. K. Henning</mark>\n",
       "\n",
       "</div>\n",
       "<div id=\"abstract\">\n",
       "\n",
       "**Abstract:** Thanks to decades of observations   using the Hubble Space Telescope (HST), the structure   of galaxies at redshift $z>2$ has been widely studied   in the rest-frame ultraviolet regime, which traces recent star formation   from young stellar populations. But, we still have little information   about the spatial distribution of the older, more evolved, stellar populations,   constrained by the rest-frame infrared portion of galaxies'   spectral energy distribution. We present the morphological characterization of a sample   of 21 massive galaxies ( $\\log(M_{\\star}/M_{\\odot})>9.5$ ) at redshift $3<z<5.5$ .   These galaxies are observed as part of the Guaranteed Time Observations   program MIDIS with the Mid-Infrared Instrument (MIRI) onboard the James Webb Space Telescope (JWST).   The deep MIRI 5.6 $\\mu$ m imaging (28.64 mag $5\\sigma$ depth), allows us to   characterize for the first time the rest-frame near-infrared structure of galaxies   beyond cosmic noon, at higher redshifts than possible with NIRCam, tracing their older stellar populations. We derive the galaxies' non-parametric morphology,   focusing on the Gini, $M_{20}$ , concentration, and deviation statistics.   Furthermore, we model the galaxies' light distribution with a single Sérsic   component and derive their parametric morphology. We find that at $z>3$ massive galaxies show a smooth distribution   of their rest-infrared light, strongly supporting the   increasing number of regular disk galaxies   already in place at early epochs.   On the contrary, the ultraviolet structure obtained from HST   observations (WFC3/F160W) is generally more irregular,   catching the most recent episodes of star formation.   Importantly, we find a segregation of morphologies across cosmic time,   having massive galaxies at redshift $z>4$ later-type morphologies compared to $z\\sim3$ galaxies.   These findings suggest a transition phase in galaxy assembly and central mass build up   already taking place at $z\\sim3-4$ . MIRI provides unique information about   the structure of the mature stellar population of high-redshift galaxies,   allowing us to unveil that massive galaxies beyond cosmic noon   are prevalently compact disk galaxies with smooth mass distribution.\n",
       "\n",
       "</div>\n",
       "\n",
       "<div id=\"div_fig1\">\n",
       "\n",
       "<img src=\"tmp_2407.00153/./figure4.png\" alt=\"Fig4.1\" width=\"50%\"/><img src=\"tmp_2407.00153/./figure5.png\" alt=\"Fig4.2\" width=\"50%\"/>\n",
       "\n",
       "**Figure 4. -** Gini-$M_{20}$ diagram, color-coded according\n",
       "to concentration (top left panel), deviation (top right panel),\n",
       "effective radius (bottom left panel), and Sérsic index (bottom right panel).\n",
       "Galaxies are separated in two redshift bins:\n",
       "$3 < z < 4$(circles) and $4 < z < 5.5$(squares).\n",
       " (*fig:figure4*)\n",
       "\n",
       "</div>\n",
       "<div id=\"div_fig2\">\n",
       "\n",
       "<img src=\"tmp_2407.00153/./figure2.png\" alt=\"Fig1\" width=\"100%\"/>\n",
       "\n",
       "**Figure 1. -** Gini-$M_{20}$ diagram.\n",
       "Orange stars correspond to non-parametric morphology\n",
       "measured on MIRI F560W images. The green points and shaded region\n",
       "correspond to non-parametric morphology\n",
       "measured on WFC3 F160W images.\n",
       "Green and light red contours represent the $2\\sigma$\n",
       "levels at (observed) 1.6 $\\mu$m and 5.6 $\\mu$m, respectively.\n",
       "ETGs, LTGs, and mergers are separated according to Eqs. (4) in \\citet{Lotz.J:2008}.\n",
       " (*fig:figure2*)\n",
       "\n",
       "</div>\n",
       "<div id=\"div_fig3\">\n",
       "\n",
       "<img src=\"tmp_2407.00153/./figure1.png\" alt=\"Fig3\" width=\"100%\"/>\n",
       "\n",
       "**Figure 3. -** Near-infrared rest-frame morphology\n",
       "(MIRI F560W band) of the 21 galaxies studied in this work.\n",
       "The cutouts are $35 \\times 35$ pixel$^2$,\n",
       "which corresponds to $2.1 \\times 2.1$ arcsec$^2$.\n",
       "We report the angular resolution as the FWHM of the PSF.\n",
       " (*fig:figure1*)\n",
       "\n",
       "</div><div id=\"qrcode\"><img src=https://api.qrserver.com/v1/create-qr-code/?size=100x100&data=\"https://arxiv.org/abs/2407.00153\"></div>"
      ],
      "text/plain": [
       "<IPython.core.display.Markdown object>"
      ]
     },
     "metadata": {},
     "output_type": "display_data"
    },
    {
     "data": {
      "text/markdown": [
       "<div class=\"macros\" style=\"visibility:hidden;\">\n",
       "$\\newcommand{\\ensuremath}{}$\n",
       "$\\newcommand{\\xspace}{}$\n",
       "$\\newcommand{\\object}[1]{\\texttt{#1}}$\n",
       "$\\newcommand{\\farcs}{{.}''}$\n",
       "$\\newcommand{\\farcm}{{.}'}$\n",
       "$\\newcommand{\\arcsec}{''}$\n",
       "$\\newcommand{\\arcmin}{'}$\n",
       "$\\newcommand{\\ion}[2]{#1#2}$\n",
       "$\\newcommand{\\textsc}[1]{\\textrm{#1}}$\n",
       "$\\newcommand{\\hl}[1]{\\textrm{#1}}$\n",
       "$\\newcommand{\\footnote}[1]{}$\n",
       "$\\newcommand{\\rev}[1]{\\textcolor{red}{#1}}$\n",
       "$\\newcommand{\\apj}{$\n",
       "$  Astrophysical Journal$\n",
       "$}$\n",
       "$\\newcommand{\\apjl}{$\n",
       "$  Astrophysical Journal, Letters$\n",
       "$}$\n",
       "$\\newcommand{\\apjs}{$\n",
       "$  Astrophysical Journal, Supplement$\n",
       "$}$\n",
       "$\\newcommand{\\aj}{$\n",
       "$  Astronomical Journal$\n",
       "$}$\n",
       "$\\newcommand{\\araa}{$\n",
       "$  Annual Review of Astron and Astrophysis$\n",
       "$}$\n",
       "$\\newcommand{\\mnras}{$\n",
       "$  Monthly Notices of the RAS$\n",
       "$}$\n",
       "$\\newcommand{\\aap}{$\n",
       "$  Astronomy and Astrophysics$\n",
       "$}$\n",
       "$\\newcommand{\\pasp}{$\n",
       "$  Publications of the ASP$\n",
       "$}$\n",
       "$\\newcommand{\\rmxaa}{$\n",
       "$  Revista Mexicana de Astronomia y Astrofisica$\n",
       "$}$\n",
       "$\\newcommand{\\na}{$\n",
       "$  New Astronomy$\n",
       "$}$</div>\n",
       "\n",
       "\n",
       "\n",
       "<div id=\"title\">\n",
       "\n",
       "# Constraints on the in-situ and ex-situ stellar masses in nearby galaxies with Artificial Intelligence\n",
       "\n",
       "</div>\n",
       "<div id=\"comments\">\n",
       "\n",
       "[![arXiv](https://img.shields.io/badge/arXiv-2407.00166-b31b1b.svg)](https://arxiv.org/abs/2407.00166)<mark>Appeared on: 2024-07-03</mark> -  _16 pages, 7 Figures. Accepted for publication_\n",
       "\n",
       "</div>\n",
       "<div id=\"authors\">\n",
       "\n",
       "E. Angeloudi, et al. -- incl., <mark>L. Eisert</mark>, <mark>A. Pillepich</mark>\n",
       "\n",
       "</div>\n",
       "<div id=\"abstract\">\n",
       "\n",
       "**Abstract:** The hierarchical model of galaxy evolution suggests that the impact of mergers is substantial on the intricate processes that drive stellar assembly within a galaxy. However, accurately measuring the contribution of accretion to a galaxy's total stellar mass and its balance with in-situ star formation poses a persistent challenge, as it is neither directly observable nor easily inferred from observational properties. Here, we present theory-motivated predictions for the fraction of stellar mass originating from mergers in a statistically significant sample of nearby galaxies, using data from MaNGA. Employing a robust machine learning model trained on mock MaNGA analogs (MaNGIA) in turn obtained from a cosmological simulation (TNG50), we unveil that in-situ stellar mass dominates almost across the entire stellar mass spectrum ( $10^9M_\\odot<M_\\star<10^{12}M_\\odot$ ). Only in more massive galaxies ( $M_\\star>10^{11}M_\\odot$ ) does accreted mass become a substantial contributor, reaching up to 35-40 \\% of the total stellar mass. Notably, the ex-situ stellar mass in the nearby universe exhibits significant dependence on galaxy characteristics, with higher accreted fractions favored by elliptical, quenched galaxies and slow rotators, as well as galaxies at the center of more massive dark matter halos.\n",
       "\n",
       "</div>\n",
       "\n",
       "<div id=\"div_fig1\">\n",
       "\n",
       "<img src=\"tmp_2407.00166/./Figures/Integrated_exsitu_mass_merger_rate.png\" alt=\"Fig1\" width=\"100%\"/>\n",
       "\n",
       "**Figure 1. -** The contribution of the in-situ vs. the ex-situ stellar mass component to the total stellar mass for $\\sim$ 10,000 MaNGA galaxies as it is predicted from the Neural Network model trained on the MaNGIA mock dataset. The mean total stellar mass at a given stellar mass bin is drawn with a black solid line and should roughly correspond to a straight line. The average  contribution of the in-situ stellar mass created through internal star formation at each stellar mass bin is drawn with a blue solid line. Correspondingly, the red solid line shows the average contribution originating from accretion/mergers (ex-situ). The error bars contain the 68 per cent of all data. For comparison, we plot the mass of the stellar halo (to distinguish from dark matter halo mass) for Milky Way2020ARA&A..58..205H and M312017MNRAS.466.1491H with orange stars (a proxy for accreted mass) and a rough projection of ex-situ stellar mass for Milky Way after it mergers with LMC with a green star (details in discussion). The open circles correspond to an independent ex-situ stellar mass measurement for two early-type galaxies, NGC 1380 and NGC 1427, members of the Fornax galaxy cluster, using population-orbital decomposition methods in combination with cosmological simulation TNG50 from ref.2022A&A...664A.115Z The red shaded region corresponds to an independent measurement of mass from major mergers for massive galaxies from ref. 2022ApJ...940..168C It is apparent that the in-situ stellar mass dominates across the stellar mass range. The ex-situ stellar mass contribution becomes significant only for massive galaxies, revealing a strong dependency of the level of accretion to the stellar mass. Our measurements are roughly compatible with completely independent measurements in the literature. (*fig:manga_recovery*)\n",
       "\n",
       "</div>\n",
       "<div id=\"div_fig2\">\n",
       "\n",
       "<img src=\"tmp_2407.00166/./Figures/Integrated_exsitu_mass_Rot_type_original_std.png\" alt=\"Fig6\" width=\"100%\"/>\n",
       "\n",
       "**Figure 6. -** Dependencies of the ex-situ stellar mass on rotation. For comparison to the global relation, the mean stellar mass originating from accretion/mergers across the stellar mass range is drawn with a solid black line. At a fixed stellar mass, slow rotators (red dashed line) exhibit higher ex-situ stellar mass than their fast rotator counterparts (blue dashed line). The error bars contain the 68 per cent of the data. The star points correspond to outliers, galaxies classified as fast rotators with a predicted fraction of ex-situ stellar mass > 0.5. We plot 6 SDSS images of the outliers' sample and identify several intriguing actual fast rotators (left-hand side images) as well as galaxies undergoing a merger event (right-hand side images). The image labels correspond to the MaNGA ID of each galaxy. (*fig:exsitu_rotation*)\n",
       "\n",
       "</div>\n",
       "<div id=\"div_fig3\">\n",
       "\n",
       "<img src=\"tmp_2407.00166/./Figures/ExsituF_vs_total_mass_mangia_manga_tng50.png\" alt=\"Fig2.1\" width=\"50%\"/><img src=\"tmp_2407.00166/./Figures/model_uncertainties.png\" alt=\"Fig2.2\" width=\"50%\"/>\n",
       "\n",
       "**Figure 2. -** Validation of the NN model and its uncertainties on the MaNGIA mock dataset and the MaNGA real galaxies. (a) The recovery of the median ex-situ stellar mass fraction vs. stellar mass relation for $\\sim$ 10,000 MaNGA galaxies (red solid line) as it is predicted from the ensemble of the NN models trained on the MaNGIA mock dataset. For a visual validation of the model, both the ground-truth (grey dashed line) and the model predictions (blue dash-dotted line) are shown for the ex-situ fractions of the MaNGIA test set, revealing a close recovery of the underlying relation. The median relation for the TNG50 simulation, from which the MaNGIA sample originates, at redshift $z = 0$ is shown with a green dotted line. The shaded regions and error bars contain the 68 per cent of all data. (b) The coverage statistical test applied on the MaNGIA test set. The black solid line corresponds to the median of the uncertainty calibration of the models trained on MaNGIA. The perfect calibration for the uncertainties is shown with a diagonal dashed blue line. Our models seem to follow closely the perfect calibration, which is the desired behavior. On the top, we also show the distribution of the produced ensembled uncertainties of the models on MaNGIA and MaNGA and find that they are comparable, with the model producing slightly higher uncertainties on the unknown MaNGA dataset. (*fig:uncertainties*)\n",
       "\n",
       "</div><div id=\"qrcode\"><img src=https://api.qrserver.com/v1/create-qr-code/?size=100x100&data=\"https://arxiv.org/abs/2407.00166\"></div>"
      ],
      "text/plain": [
       "<IPython.core.display.Markdown object>"
      ]
     },
     "metadata": {},
     "output_type": "display_data"
    },
    {
     "data": {
      "text/markdown": [
       "<div class=\"macros\" style=\"visibility:hidden;\">\n",
       "$\\newcommand{\\ensuremath}{}$\n",
       "$\\newcommand{\\xspace}{}$\n",
       "$\\newcommand{\\object}[1]{\\texttt{#1}}$\n",
       "$\\newcommand{\\farcs}{{.}''}$\n",
       "$\\newcommand{\\farcm}{{.}'}$\n",
       "$\\newcommand{\\arcsec}{''}$\n",
       "$\\newcommand{\\arcmin}{'}$\n",
       "$\\newcommand{\\ion}[2]{#1#2}$\n",
       "$\\newcommand{\\textsc}[1]{\\textrm{#1}}$\n",
       "$\\newcommand{\\hl}[1]{\\textrm{#1}}$\n",
       "$\\newcommand{\\footnote}[1]{}$\n",
       "$\\newcommand{\\MSUN}{{\\rm M}_{\\sun}}$\n",
       "$\\newcommand{\\MHOST}{M_{\\rm 200c, host}}$\n",
       "$\\newcommand{\\RHOST}{r_{\\rm 200c, host}}$\n",
       "$\\newcommand{\\RSB}{r_{\\rm *,SB=26.5}}$\n",
       "$\\newcommand{\\RHALF}{r_{\\rm *,1/2}}$\n",
       "$\\newcommand{\\RHALFV}{r_{\\rm V,1/2}}$\n",
       "$\\newcommand{\\RHALFGEN}[1]{r_{\\rm *,1/2,#1}}$\n",
       "$\\newcommand{\\MSTAR}{M_{\\rm *}}$\n",
       "$\\newcommand{\\MGEN}[1]{M_{\\rm #1}}$\n",
       "$\\newcommand{\\RGEN}[1]{R_{\\rm #1}}$\n",
       "$\\newcommand{\\XXC}{\\textbf{SM2}}$\n",
       "$\\newcommand{\\XVC}{\\textbf{SM1}}$\n",
       "$\\newcommand{\\XC}{\\textbf{FM}}$\n",
       "$\\newcommand{\\XCX}{\\textbf{LM1}}$\n",
       "$\\newcommand{\\XCXX}{\\textbf{LM2}}$\n",
       "$\\newcommand{\\XCRII}{\\textbf{FM-R2}}$\n",
       "$\\newcommand{\\XCRIII}{\\textbf{FM-R3}}$\n",
       "$\\newcommand{\\targetMerger}{z \\approx 2}$\n",
       "$\\newcommand{\\vgn}{VG}$\n",
       "$\\newcommand{\\tng}{TNG}$\n",
       "$\\newcommand{\\gjNotes}[1]{{\\color{Green} #1}}$\n",
       "$\\newcommand{\\gjChanges}[1]{{\\color{Black} #1}}$\n",
       "$\\newcommand{\\apChanges}[1]{{\\color{Blue} #1}}$\n",
       "$\\newcommand{\\thebibliography}{\\DeclareRobustCommand{\\VAN}[3]{##3}\\VANthebibliography}$</div>\n",
       "\n",
       "\n",
       "\n",
       "<div id=\"title\">\n",
       "\n",
       "# The PARADIGM project I: How early merger histories shape the present-day sizes of Milky-Way-mass galaxies\n",
       "\n",
       "</div>\n",
       "<div id=\"comments\">\n",
       "\n",
       "[![arXiv](https://img.shields.io/badge/arXiv-2407.00171-b31b1b.svg)](https://arxiv.org/abs/2407.00171)<mark>Appeared on: 2024-07-03</mark> -  _Submitted to MNRAS. 22 pages. Comments are welcome_\n",
       "\n",
       "</div>\n",
       "<div id=\"authors\">\n",
       "\n",
       "G. D. Joshi, et al. -- incl., <mark>A. Pillepich</mark>\n",
       "\n",
       "</div>\n",
       "<div id=\"abstract\">\n",
       "\n",
       "**Abstract:** The way in which mergers affect galaxy formation depends on both feedback processes, and on the geometry and strength of the mergers themselves. We introduce the PARADIGM project, where we study the response of a simulated Milky-Way-mass galaxy forming in a cosmological setting to differing merger histories, using genetically modified initial conditions. Each initial condition is simulated with the VINTERGATAN and IllustrisTNG codes. While VINTERGATAN has been developed with an emphasis on resolving the cold interstellar medium, IllustrisTNG uses a subgrid two-phase model and consequently scales to large volume simulations, making them ideal to examine complementary views on how merger histories and feedback interact. Our genetic modifications alter the mass ratio of an important $\\targetMerger$ merger while maintaining the halo's $z=0$ mass. Whether simulated with VINTERGATAN or IllustrisTNG, smaller mass ratios for this early merger result in larger galaxies at $z=0$ , due to a greater build up of a kinematically cold disc. We conclude that such broad trends are robustly reproducible; however, the normalization of the resulting stellar sizes is substantially different in the two codes (ranging between $0.5-1.7 \\rm{kpc}$ for VINTERGATAN but $1.3-7.0 \\rm{kpc}$ for IllustrisTNG). The VINTERGATAN galaxies systematically form stars earlier, leading to a larger bulge component. Despite the difference in size normalization, both simulation suites lie on the observed size-mass relation for their respective morphological types. In light of these results, we discuss the interplay between internal processes and large scale gravitational interactions and gas accretion, and how the two galaxy models converge on similar emergent trends but along different evolutionary pathways.\n",
       "\n",
       "</div>\n",
       "\n",
       "<div id=\"div_fig1\">\n",
       "\n",
       "<img src=\"tmp_2407.00171/./figures/half_light_radius_evolution.png\" alt=\"Fig6.1\" width=\"50%\"/><img src=\"tmp_2407.00171/./figures/half_mass_radius_evolution.png\" alt=\"Fig6.2\" width=\"50%\"/>\n",
       "\n",
       "**Figure 6. -** Evolution of 2D half-light (top) and 3D half-mass (bottom) radii for the $\\tng$(left) and $\\vgn$(right) sets of simulations. Each radius has been normalised by the $z=0$ radius of the fiducial run from the corresponding set. Bottom panels show the evolution of stellar mass within $3 $\\RHALF$$. The dotted and dashed blue lines in the left panels show the re-simulations of the fiducial ICs with the $\\tng$  model to show stochastic scatter ($\\XC$RII  and $\\XC$RIII  respectively). The $\\tng$  galaxies show a clear trend of more rapid size growth as a function of time for the smaller merger scenarios, for both half-light and half-mass radii, beginning at $z \\sim 1$. Such a trend is also seen for the $\\vgn$  simulations when considering half-light radii; a trend is not obvious for the half-mass radii however, likely due to their larger bulge fractions (see Section \\ref{sec:kinComp}). The rapid rise in half-light radius for the $\\vgn$$\\XXC$  simulation at $z \\sim 0.2$ is caused by an influx of gas resulting in SF in the outskirts of the galaxy. We have restricted the y-axis values to show the majority of the trends in all simulations more clearly and therefore do not show the peak of this feature, which is approximately at $\\RHALF/$\\RHALF$GEN{\\rm z=0,fid.} = 5.9$ and $z=0.2$. (*fig:sizeEvolution*)\n",
       "\n",
       "</div>\n",
       "<div id=\"div_fig2\">\n",
       "\n",
       "<img src=\"tmp_2407.00171/./figures/circ_mass_evolution_stars_10R.png\" alt=\"Fig9\" width=\"100%\"/>\n",
       "\n",
       "**Figure 9. -** Evolution of the stellar mass in disc (red), bulge (gray) and counter-rotating disc (orange) components within $10 $\\RHALF$$ as a function of cosmic time, for the $\\tng$(top row) and $\\vgn$(bottom row) simulations. The masses have been normalised by the galaxies' $z=0$ stellar mass within $10 $\\RHALF$$. We omit the two intermediate runs for clarity. The two additional runs of the $\\tng$  fiducial simulations ($\\XC$RII  and $\\XC$RIII) are shown with dotted and dashed curves in the top middle panel. Dotted black lines indicate 10 and 100 percent of $M_{\\rm tot,z=0}$ for reference. In the $\\tng$  simulations, the increase in $\\targetMerger$  merger mass ratio results in a proportionally higher build-up of bulge mass compared to disc mass. In the $\\vgn$  simulations, although the trends are not as clear. Additionally in the $\\tng$$\\XC$XX  case, we also see the rapid build-up of the counter-rotating disc component at $z \\sim 0.5$, which then accounts for nearly 10 per cent of the galaxy mass. The simultaneous decrease in disc mass is not accompanied by a loss of total stellar mass, but rather due to the transfer of disc stars to the bulge component. In the $\\vgn$$\\XC$XX  case, we find a similar relative increase in bulge mass, resulting in an equal proportion of disc and bulge mass at $z=0$. (*fig:circCompEvolution_allStars*)\n",
       "\n",
       "</div>\n",
       "<div id=\"div_fig3\">\n",
       "\n",
       "<img src=\"tmp_2407.00171/./figures/circularity_parameter_distribution_at_z0_within_10rhalf.png\" alt=\"Fig8\" width=\"100%\"/>\n",
       "\n",
       "**Figure 8. -** Mass-weighted probability distribution functions of the circularity parameter $\\epsilon$ for all stellar particles within $10 $\\RHALF$$ at $z=0$. Both sets of simulations show a prominent disc component at $\\epsilon \\approx 0.9$ and a secondary bulge component at $\\epsilon=0$, except for the $\\XC$XX  cases which are bulge-dominated galaxies. Furthermore, the smaller merger scenarios result in a relatively more massive disc component. In the $\\tng$  simulations, the disc component is proportionally more important and corresponds to a kinematically colder disc than in the $\\vgn$  simulations. Two other important features are evident in the distributions: a `counter-rotating disc' in the $\\tng$$\\XC$XX  simulation, and a `disturbed disc' in the $\\vgn$$\\XC$X  simulation. (*fig:circDistributionZ0*)\n",
       "\n",
       "</div><div id=\"qrcode\"><img src=https://api.qrserver.com/v1/create-qr-code/?size=100x100&data=\"https://arxiv.org/abs/2407.00171\"></div>"
      ],
      "text/plain": [
       "<IPython.core.display.Markdown object>"
      ]
     },
     "metadata": {},
     "output_type": "display_data"
    },
    {
     "data": {
      "text/markdown": [
       "<div class=\"macros\" style=\"visibility:hidden;\">\n",
       "$\\newcommand{\\ensuremath}{}$\n",
       "$\\newcommand{\\xspace}{}$\n",
       "$\\newcommand{\\object}[1]{\\texttt{#1}}$\n",
       "$\\newcommand{\\farcs}{{.}''}$\n",
       "$\\newcommand{\\farcm}{{.}'}$\n",
       "$\\newcommand{\\arcsec}{''}$\n",
       "$\\newcommand{\\arcmin}{'}$\n",
       "$\\newcommand{\\ion}[2]{#1#2}$\n",
       "$\\newcommand{\\textsc}[1]{\\textrm{#1}}$\n",
       "$\\newcommand{\\hl}[1]{\\textrm{#1}}$\n",
       "$\\newcommand{\\footnote}[1]{}$\n",
       "$\\newcommand{\\vdag}{(v)^\\dagger}$\n",
       "$\\newcommand$\n",
       "$\\newcommand$\n",
       "$\\newcommand$\n",
       "$\\newcommand$\n",
       "$\\newcommand$\n",
       "$\\newcommand{\\HL}[1]{{\\color{red}  #1}}$</div>\n",
       "\n",
       "\n",
       "\n",
       "<div id=\"title\">\n",
       "\n",
       "# Direct observational evidence of multi-epoch massive star formation in G24.47+0.49\n",
       "\n",
       "</div>\n",
       "<div id=\"comments\">\n",
       "\n",
       "[![arXiv](https://img.shields.io/badge/arXiv-2407.01063-b31b1b.svg)](https://arxiv.org/abs/2407.01063)<mark>Appeared on: 2024-07-03</mark> -  _18 pages, 7 figures, accepted for publication in The Astrophysical Journal Letters_\n",
       "\n",
       "</div>\n",
       "<div id=\"authors\">\n",
       "\n",
       "A. Saha, et al. -- incl., <mark>S. Li</mark>\n",
       "\n",
       "</div>\n",
       "<div id=\"abstract\">\n",
       "\n",
       "**Abstract:** Using new continuum and molecular line data from the ALMA Three-millimeter Observations of Massive Star-forming Regions (ATOMS) survey and archival VLA, 4.86 GHz data, we present direct observational evidence of hierarchical triggering relating three epochs of massive star formation in a ring-like H ${\\small II}$ region, G24.47+0.49. We find from radio flux analysis that it is excited by a massive star(s) of spectral type O8.5V–O8V from the first epoch of star formation.The swept-up ionized ring structure shows evidence of secondary collapse, and within this ring a burst of massive star formation is observed in different evolutionary phases, which constitutes the second epoch.ATOMS spectral line (e.g., HCO $^+$ (1--0)) observations reveal an outer concentric molecular gas ring expanding at a velocity of $\\sim$ 9 $ \\rm km s^{-1}$ , constituting the direct and unambiguous detection of an expanding molecular ring.It harbors twelve dense molecular cores with surface mass density greater than 0.05 $ \\rm g cm^{-2}$ , a threshold typical of massive star formation. Half of them are found to be subvirial, and thus in gravitational collapse, making them third  epoch of potential massive star-forming sites.\n",
       "\n",
       "</div>\n",
       "\n",
       "<div id=\"div_fig1\">\n",
       "\n",
       "<img src=\"tmp_2407.01063/./f1-spitzer_vla_3mm_ha_horizontal_w1core_4PANELS_H13CO_v2revisit_v3_R1.png\" alt=\"Fig3\" width=\"100%\"/>\n",
       "\n",
       "**Figure 3. -**  Morphology of the region associated with G24.47. (a) _ Spitzer_-IRAC colour composite image overlaid with VLA 4.86 GHz contours at 3, 7, 20, 50, 90, 110, 120 times $\\sigma$(= 0.4 $\\rm mJy beam^{-1}$). (b) VLA 4.86 GHz map overlaid with ATOMS H40$\\alpha$ contours (Gaussian smoothed over 5 pixels) starting at 2$\\sigma$(= 0.04 $\\rm Jy beam^{-1} km s^{-1}$) in steps of 1$\\sigma$. The displayed ellipses are identified VLA cores with their central positions (X) marked. The insets show the H40$\\alpha$ spectra (boxcar smoothed by four channels; velocity resolution of 6.0 $\\rm km s^{-1}$) of the cores along with their respective Gaussian fits.  The LSR velocity of 101.5 $\\rm km s^{-1}$ is indicated in each. (c) ALMA 3 mm map overlaid with the H40$\\alpha$ contours displayed in (b). The displayed ellipses are identified 3 mm cores with their central positions (+) marked. (d) Moment zero map (3-pixel smoothed using Gaussian kernel) of H$^{13}$CO$^+$ in the velocity range 93.0 to 113.0 $\\rm km s^{-1}$. The displayed ellipses are identified molecular cores with their central positions (+) marked. Ellipses drawn in the lower left corner of (b), (c), and (d) represent the beams of the respective maps displayed. (*fig:RGB_vla_ha*)\n",
       "\n",
       "</div>\n",
       "<div id=\"div_fig2\">\n",
       "\n",
       "<img src=\"tmp_2407.01063/./f2-all_composite_moment0_1_2compo_full_with_Ha_NOLINESv4.png\" alt=\"Fig4\" width=\"100%\"/>\n",
       "\n",
       "**Figure 4. -** Moment zero (left three) and moment one (rightmost) maps of HCO$^+$ and H40$\\alpha$ observed towards G24.47 are shown in panels (a) -- (d) and (e) -- (h), respectively. The velocity ranges used to obtain the moment zero maps are given in the top left of each panel. The colour bar indicates the flux scale in $\\rm Jy beam^{-1} km s^{-1}$ and $\\rm km s^{-1}$ for moment zero and moment one maps, respectively.\n",
       "    The overlaid contours (in panels (a) -- (d)) show the H40$\\alpha$ emission (presented as colorscale in panel (e)) with contour levels starting at 2$\\sigma$( $\\sigma =$ 0.04 $\\rm Jy beam^{-1} km s^{-1}$) in steps of 1$\\sigma$.\n",
       "    These contours are smoothed over five pixels using Gaussian kernel. The moment zero maps (in panels (e) -- (g)) are smoothed across three pixels using Gaussian kernel.\n",
       "    The beam is indicated at the bottom left corner in each panel. (*fig:moment-maps*)\n",
       "\n",
       "</div>\n",
       "<div id=\"div_fig3\">\n",
       "\n",
       "<img src=\"tmp_2407.01063/./f6a-appendix-Tex_map_molcore_ellipse.png\" alt=\"Fig2.1\" width=\"50%\"/><img src=\"tmp_2407.01063/./f6b-appendix-cdmap_molcores_annotate_v2revisit.png\" alt=\"Fig2.2\" width=\"50%\"/>\n",
       "\n",
       "**Figure 2. -** (a) Effective line of sight excitation temperature map generated using HCO$^+$. (b) Column density map towards G24.47, generated using molecular transitions H$^{13}$CO$^+$ and HCO$^+$. The ellipses represent the apertures of identified molecular cores. In both panels, the overlaid contours show the H40$\\alpha$ emission with contour levels starting at 2$\\sigma$( $\\sigma =$ 0.04 $\\rm Jy beam^{-1} km s^{-1}$) in steps of 1$\\sigma$. These contours are smoothed over 5 pixels using Gaussian kernel.  The beam size of 2.5$\\arcsec$ is indicated at the bottom left.  (*fig:cdmap_molcore*)\n",
       "\n",
       "</div><div id=\"qrcode\"><img src=https://api.qrserver.com/v1/create-qr-code/?size=100x100&data=\"https://arxiv.org/abs/2407.01063\"></div>"
      ],
      "text/plain": [
       "<IPython.core.display.Markdown object>"
      ]
     },
     "metadata": {},
     "output_type": "display_data"
    }
   ],
   "source": [
    "[display(Markdown(k[1])) for k in documents];"
   ]
  },
  {
   "cell_type": "markdown",
   "id": "873873a4",
   "metadata": {
    "papermill": {
     "duration": 0.006955,
     "end_time": "2024-07-03T04:11:28.846979",
     "exception": false,
     "start_time": "2024-07-03T04:11:28.840024",
     "status": "completed"
    },
    "tags": []
   },
   "source": [
    "# Create HTML index"
   ]
  },
  {
   "cell_type": "code",
   "execution_count": 10,
   "id": "cf665672",
   "metadata": {
    "execution": {
     "iopub.execute_input": "2024-07-03T04:11:28.861653Z",
     "iopub.status.busy": "2024-07-03T04:11:28.861464Z",
     "iopub.status.idle": "2024-07-03T04:11:28.869173Z",
     "shell.execute_reply": "2024-07-03T04:11:28.868632Z"
    },
    "papermill": {
     "duration": 0.016649,
     "end_time": "2024-07-03T04:11:28.870513",
     "exception": false,
     "start_time": "2024-07-03T04:11:28.853864",
     "status": "completed"
    },
    "tags": []
   },
   "outputs": [
    {
     "name": "stdout",
     "output_type": "stream",
     "text": [
      "110  publications files modified in the last 7 days.\n"
     ]
    }
   ],
   "source": [
    "from datetime import datetime, timedelta, timezone\n",
    "from glob import glob\n",
    "import os\n",
    "\n",
    "files = glob('_build/html/*.md')\n",
    "days = 7\n",
    "now = datetime.today()\n",
    "res = []\n",
    "for fk in files:\n",
    "    stat_result = os.stat(fk).st_ctime\n",
    "    modified = datetime.fromtimestamp(stat_result, tz=timezone.utc).replace(tzinfo=None)\n",
    "    delta = now.today() - modified\n",
    "    if delta <= timedelta(days=days):\n",
    "        res.append((delta.seconds, fk))\n",
    "res = [k[1] for k in reversed(sorted(res, key=lambda x:x[1]))]\n",
    "npub = len(res)\n",
    "print(len(res), f\" publications files modified in the last {days:d} days.\")\n",
    "# [ print('\\t', k) for k in res ];"
   ]
  },
  {
   "cell_type": "code",
   "execution_count": 11,
   "id": "015de740",
   "metadata": {
    "execution": {
     "iopub.execute_input": "2024-07-03T04:11:28.885454Z",
     "iopub.status.busy": "2024-07-03T04:11:28.885260Z",
     "iopub.status.idle": "2024-07-03T04:11:28.897131Z",
     "shell.execute_reply": "2024-07-03T04:11:28.896613Z"
    },
    "papermill": {
     "duration": 0.020809,
     "end_time": "2024-07-03T04:11:28.898395",
     "exception": false,
     "start_time": "2024-07-03T04:11:28.877586",
     "status": "completed"
    },
    "tags": []
   },
   "outputs": [
    {
     "name": "stdout",
     "output_type": "stream",
     "text": [
      "8  publications in the last 7 days.\n"
     ]
    }
   ],
   "source": [
    "import datetime\n",
    "from glob import glob\n",
    "\n",
    "def get_last_n_days(lst, days=1):\n",
    "    \"\"\" Get the documents from the last n days \"\"\"\n",
    "    sorted_lst = sorted(lst, key=lambda x: x[1], reverse=True)\n",
    "    for fname, date in sorted_lst:\n",
    "        if date >= str(datetime.date.today() - datetime.timedelta(days=days)):\n",
    "            yield fname\n",
    "\n",
    "def extract_appearance_dates(lst_file):\n",
    "    dates = []\n",
    "\n",
    "    def get_date(line):\n",
    "        return line\\\n",
    "            .split('Appeared on:')[-1]\\\n",
    "            .split('</mark>')[0].strip()\n",
    "\n",
    "    for fname in lst:\n",
    "        with open(fname, 'r') as f:\n",
    "            found_date = False\n",
    "            for line in f:\n",
    "                if not found_date:\n",
    "                    if \"Appeared on\" in line:\n",
    "                        found_date = True\n",
    "                        dates.append((fname, get_date(line)))\n",
    "                else:\n",
    "                    break\n",
    "    return dates\n",
    "\n",
    "from glob import glob\n",
    "lst = glob('_build/html/*md')\n",
    "days = 7\n",
    "dates = extract_appearance_dates(lst)\n",
    "res = list(get_last_n_days(dates, days))\n",
    "npub = len(res)\n",
    "print(len(res), f\" publications in the last {days:d} days.\")"
   ]
  },
  {
   "cell_type": "code",
   "execution_count": 12,
   "id": "52ca0208",
   "metadata": {
    "execution": {
     "iopub.execute_input": "2024-07-03T04:11:28.914045Z",
     "iopub.status.busy": "2024-07-03T04:11:28.913662Z",
     "iopub.status.idle": "2024-07-03T04:11:28.918516Z",
     "shell.execute_reply": "2024-07-03T04:11:28.917973Z"
    },
    "papermill": {
     "duration": 0.014283,
     "end_time": "2024-07-03T04:11:28.919887",
     "exception": false,
     "start_time": "2024-07-03T04:11:28.905604",
     "status": "completed"
    },
    "scrolled": false,
    "tags": []
   },
   "outputs": [],
   "source": [
    "def create_carousel(npub=4):\n",
    "    \"\"\" Generate the HTML code for a carousel with `npub` slides \"\"\"\n",
    "    carousel = [\"\"\"  <div class=\"carousel\" \"\"\",\n",
    "                \"\"\"       data-flickity='{ \"autoPlay\": 10000, \"adaptiveHeight\": true, \"resize\": true, \"wrapAround\": true, \"pauseAutoPlayOnHover\": true, \"groupCells\": 1 }' id=\"asyncTypeset\">\"\"\"\n",
    "                ]\n",
    "    \n",
    "    item_str = \"\"\"    <div class=\"carousel-cell\"> <div id=\"slide{k}\" class=\"md_view\">Content {k}</div> </div>\"\"\"\n",
    "    for k in range(1, npub + 1):\n",
    "        carousel.append(item_str.format(k=k))\n",
    "    carousel.append(\"  </div>\")\n",
    "    return '\\n'.join(carousel)\n",
    "\n",
    "def create_grid(npub=4):\n",
    "    \"\"\" Generate the HTML code for a flat grid with `npub` slides \"\"\"\n",
    "    grid = [\"\"\"  <div class=\"grid\"> \"\"\",\n",
    "                ]\n",
    "    \n",
    "    item_str = \"\"\"    <div class=\"grid-item\"> <div id=\"slide{k}\" class=\"md_view\">Content {k}</div> </div>\"\"\"\n",
    "    for k in range(1, npub + 1):\n",
    "        grid.append(item_str.format(k=k))\n",
    "    grid.append(\"  </div>\")\n",
    "    return '\\n'.join(grid)"
   ]
  },
  {
   "cell_type": "code",
   "execution_count": 13,
   "id": "a6eac5b6",
   "metadata": {
    "execution": {
     "iopub.execute_input": "2024-07-03T04:11:28.935259Z",
     "iopub.status.busy": "2024-07-03T04:11:28.934755Z",
     "iopub.status.idle": "2024-07-03T04:11:28.939868Z",
     "shell.execute_reply": "2024-07-03T04:11:28.939338Z"
    },
    "papermill": {
     "duration": 0.014089,
     "end_time": "2024-07-03T04:11:28.941087",
     "exception": false,
     "start_time": "2024-07-03T04:11:28.926998",
     "status": "completed"
    },
    "scrolled": false,
    "tags": []
   },
   "outputs": [],
   "source": [
    "carousel = create_carousel(npub)\n",
    "docs = ', '.join(['\"{0:s}\"'.format(k.split('/')[-1]) for k in res])\n",
    "slides = ', '.join([f'\"slide{k}\"' for k in range(1, npub + 1)])\n",
    "\n",
    "with open(\"daily_template.html\", \"r\") as tpl:\n",
    "    page = tpl.read()\n",
    "    page = page.replace(\"{%-- carousel:s --%}\", carousel)\\\n",
    "               .replace(\"{%-- suptitle:s --%}\",  \"7-day archives\" )\\\n",
    "               .replace(\"{%-- docs:s --%}\", docs)\\\n",
    "               .replace(\"{%-- slides:s --%}\", slides)\n",
    "    \n",
    "with open(\"_build/html/index_7days.html\", 'w') as fout:\n",
    "    fout.write(page)"
   ]
  },
  {
   "cell_type": "code",
   "execution_count": 14,
   "id": "adc1a1ec",
   "metadata": {
    "execution": {
     "iopub.execute_input": "2024-07-03T04:11:28.956527Z",
     "iopub.status.busy": "2024-07-03T04:11:28.956056Z",
     "iopub.status.idle": "2024-07-03T04:11:28.962134Z",
     "shell.execute_reply": "2024-07-03T04:11:28.961522Z"
    },
    "papermill": {
     "duration": 0.015169,
     "end_time": "2024-07-03T04:11:28.963438",
     "exception": false,
     "start_time": "2024-07-03T04:11:28.948269",
     "status": "completed"
    },
    "tags": []
   },
   "outputs": [
    {
     "name": "stdout",
     "output_type": "stream",
     "text": [
      "4  publications in the last day.\n"
     ]
    }
   ],
   "source": [
    "# redo for today\n",
    "days = 1\n",
    "res = list(get_last_n_days(dates, days))\n",
    "npub = len(res)\n",
    "print(len(res), f\" publications in the last day.\")\n",
    "\n",
    "carousel = create_carousel(npub)\n",
    "docs = ', '.join(['\"{0:s}\"'.format(k.split('/')[-1]) for k in res])\n",
    "slides = ', '.join([f'\"slide{k}\"' for k in range(1, npub + 1)])\n",
    "\n",
    "with open(\"daily_template.html\", \"r\") as tpl:\n",
    "    page = tpl.read()\n",
    "    page = page.replace(\"{%-- carousel:s --%}\", carousel)\\\n",
    "               .replace(\"{%-- suptitle:s --%}\",  \"Daily\" )\\\n",
    "               .replace(\"{%-- docs:s --%}\", docs)\\\n",
    "               .replace(\"{%-- slides:s --%}\", slides)\n",
    "    \n",
    "# print(carousel, docs, slides)\n",
    "# print(page)\n",
    "with open(\"_build/html/index_daily.html\", 'w') as fout:\n",
    "    fout.write(page)"
   ]
  },
  {
   "cell_type": "code",
   "execution_count": 15,
   "id": "00eece82",
   "metadata": {
    "execution": {
     "iopub.execute_input": "2024-07-03T04:11:28.979089Z",
     "iopub.status.busy": "2024-07-03T04:11:28.978653Z",
     "iopub.status.idle": "2024-07-03T04:11:28.985208Z",
     "shell.execute_reply": "2024-07-03T04:11:28.984656Z"
    },
    "papermill": {
     "duration": 0.015871,
     "end_time": "2024-07-03T04:11:28.986543",
     "exception": false,
     "start_time": "2024-07-03T04:11:28.970672",
     "status": "completed"
    },
    "scrolled": false,
    "tags": []
   },
   "outputs": [
    {
     "name": "stdout",
     "output_type": "stream",
     "text": [
      "6  6 publications selected.\n"
     ]
    }
   ],
   "source": [
    "# Create the flat grid of the last N papers (fixed number regardless of dates)\n",
    "from itertools import islice \n",
    "\n",
    "npub = 6\n",
    "res = [k[0] for k in (islice(reversed(sorted(dates, key=lambda x: x[1])), 6))]\n",
    "print(len(res), f\" {npub} publications selected.\")\n",
    "\n",
    "grid = create_grid(npub)\n",
    "docs = ', '.join(['\"{0:s}\"'.format(k.split('/')[-1]) for k in res])\n",
    "slides = ', '.join([f'\"slide{k}\"' for k in range(1, npub + 1)])\n",
    "\n",
    "with open(\"grid_template.html\", \"r\") as tpl:\n",
    "    page = tpl.read()\n",
    "    page = page.replace(\"{%-- grid-content:s --%}\", grid)\\\n",
    "               .replace(\"{%-- suptitle:s --%}\",  f\"Last {npub:,d} papers\" )\\\n",
    "               .replace(\"{%-- docs:s --%}\", docs)\\\n",
    "               .replace(\"{%-- slides:s --%}\", slides)\n",
    "    \n",
    "# print(grid, docs, slides)\n",
    "# print(page)\n",
    "with open(\"_build/html/index_npub_grid.html\", 'w') as fout:\n",
    "    fout.write(page)"
   ]
  }
 ],
 "metadata": {
  "kernelspec": {
   "display_name": "Python 3 (ipykernel)",
   "language": "python",
   "name": "python3"
  },
  "language_info": {
   "codemirror_mode": {
    "name": "ipython",
    "version": 3
   },
   "file_extension": ".py",
   "mimetype": "text/x-python",
   "name": "python",
   "nbconvert_exporter": "python",
   "pygments_lexer": "ipython3",
   "version": "3.9.19"
  },
  "papermill": {
   "default_parameters": {},
   "duration": 149.295831,
   "end_time": "2024-07-03T04:11:29.210714",
   "environment_variables": {},
   "exception": null,
   "input_path": "MPIA daily digest.ipynb",
   "output_path": "log.ipynb",
   "parameters": {},
   "start_time": "2024-07-03T04:08:59.914883",
   "version": "2.6.0"
  },
  "vscode": {
   "interpreter": {
    "hash": "aee8b7b246df8f9039afb4144a1f6fd8d2ca17a180786b69acc140d282b71a49"
   }
  },
  "widgets": {
   "application/vnd.jupyter.widget-state+json": {
    "state": {
     "0807fbc71d12472fbff1c2d23860c3e0": {
      "model_module": "@jupyter-widgets/base",
      "model_module_version": "2.0.0",
      "model_name": "LayoutModel",
      "state": {
       "_model_module": "@jupyter-widgets/base",
       "_model_module_version": "2.0.0",
       "_model_name": "LayoutModel",
       "_view_count": null,
       "_view_module": "@jupyter-widgets/base",
       "_view_module_version": "2.0.0",
       "_view_name": "LayoutView",
       "align_content": null,
       "align_items": null,
       "align_self": null,
       "border_bottom": null,
       "border_left": null,
       "border_right": null,
       "border_top": null,
       "bottom": null,
       "display": null,
       "flex": null,
       "flex_flow": null,
       "grid_area": null,
       "grid_auto_columns": null,
       "grid_auto_flow": null,
       "grid_auto_rows": null,
       "grid_column": null,
       "grid_gap": null,
       "grid_row": null,
       "grid_template_areas": null,
       "grid_template_columns": null,
       "grid_template_rows": null,
       "height": null,
       "justify_content": null,
       "justify_items": null,
       "left": null,
       "margin": null,
       "max_height": null,
       "max_width": null,
       "min_height": null,
       "min_width": null,
       "object_fit": null,
       "object_position": null,
       "order": null,
       "overflow": null,
       "padding": null,
       "right": null,
       "top": null,
       "visibility": null,
       "width": null
      }
     },
     "2343bfe788354da2b74e41ad42000cb9": {
      "model_module": "@jupyter-widgets/controls",
      "model_module_version": "2.0.0",
      "model_name": "HTMLModel",
      "state": {
       "_dom_classes": [],
       "_model_module": "@jupyter-widgets/controls",
       "_model_module_version": "2.0.0",
       "_model_name": "HTMLModel",
       "_view_count": null,
       "_view_module": "@jupyter-widgets/controls",
       "_view_module_version": "2.0.0",
       "_view_name": "HTMLView",
       "description": "",
       "description_allow_html": false,
       "layout": "IPY_MODEL_0807fbc71d12472fbff1c2d23860c3e0",
       "placeholder": "​",
       "style": "IPY_MODEL_78345ffdea5440bd92b08e1e8388d155",
       "tabbable": null,
       "tooltip": null,
       "value": "100%"
      }
     },
     "2733e17843f6407bb267a3648e7401b5": {
      "model_module": "@jupyter-widgets/controls",
      "model_module_version": "2.0.0",
      "model_name": "HBoxModel",
      "state": {
       "_dom_classes": [],
       "_model_module": "@jupyter-widgets/controls",
       "_model_module_version": "2.0.0",
       "_model_name": "HBoxModel",
       "_view_count": null,
       "_view_module": "@jupyter-widgets/controls",
       "_view_module_version": "2.0.0",
       "_view_name": "HBoxView",
       "box_style": "",
       "children": [
        "IPY_MODEL_2343bfe788354da2b74e41ad42000cb9",
        "IPY_MODEL_ec0b59b7a13d42f892f725cc51f936d3",
        "IPY_MODEL_ad42258123ca400abe7400c6b0e65ac3"
       ],
       "layout": "IPY_MODEL_3fc01fcbeb964ad4897ce5a1f1af0927",
       "tabbable": null,
       "tooltip": null
      }
     },
     "348a0c4aacff49889e012312d0b86dd2": {
      "model_module": "@jupyter-widgets/controls",
      "model_module_version": "2.0.0",
      "model_name": "ProgressStyleModel",
      "state": {
       "_model_module": "@jupyter-widgets/controls",
       "_model_module_version": "2.0.0",
       "_model_name": "ProgressStyleModel",
       "_view_count": null,
       "_view_module": "@jupyter-widgets/base",
       "_view_module_version": "2.0.0",
       "_view_name": "StyleView",
       "bar_color": null,
       "description_width": ""
      }
     },
     "3fc01fcbeb964ad4897ce5a1f1af0927": {
      "model_module": "@jupyter-widgets/base",
      "model_module_version": "2.0.0",
      "model_name": "LayoutModel",
      "state": {
       "_model_module": "@jupyter-widgets/base",
       "_model_module_version": "2.0.0",
       "_model_name": "LayoutModel",
       "_view_count": null,
       "_view_module": "@jupyter-widgets/base",
       "_view_module_version": "2.0.0",
       "_view_name": "LayoutView",
       "align_content": null,
       "align_items": null,
       "align_self": null,
       "border_bottom": null,
       "border_left": null,
       "border_right": null,
       "border_top": null,
       "bottom": null,
       "display": null,
       "flex": null,
       "flex_flow": null,
       "grid_area": null,
       "grid_auto_columns": null,
       "grid_auto_flow": null,
       "grid_auto_rows": null,
       "grid_column": null,
       "grid_gap": null,
       "grid_row": null,
       "grid_template_areas": null,
       "grid_template_columns": null,
       "grid_template_rows": null,
       "height": null,
       "justify_content": null,
       "justify_items": null,
       "left": null,
       "margin": null,
       "max_height": null,
       "max_width": null,
       "min_height": null,
       "min_width": null,
       "object_fit": null,
       "object_position": null,
       "order": null,
       "overflow": null,
       "padding": null,
       "right": null,
       "top": null,
       "visibility": null,
       "width": null
      }
     },
     "46ee631004a14fa7b8ff1bc4c761526f": {
      "model_module": "@jupyter-widgets/controls",
      "model_module_version": "2.0.0",
      "model_name": "HTMLStyleModel",
      "state": {
       "_model_module": "@jupyter-widgets/controls",
       "_model_module_version": "2.0.0",
       "_model_name": "HTMLStyleModel",
       "_view_count": null,
       "_view_module": "@jupyter-widgets/base",
       "_view_module_version": "2.0.0",
       "_view_name": "StyleView",
       "background": null,
       "description_width": "",
       "font_size": null,
       "text_color": null
      }
     },
     "6e6ad49307e64971aaca2147e3c29bca": {
      "model_module": "@jupyter-widgets/base",
      "model_module_version": "2.0.0",
      "model_name": "LayoutModel",
      "state": {
       "_model_module": "@jupyter-widgets/base",
       "_model_module_version": "2.0.0",
       "_model_name": "LayoutModel",
       "_view_count": null,
       "_view_module": "@jupyter-widgets/base",
       "_view_module_version": "2.0.0",
       "_view_name": "LayoutView",
       "align_content": null,
       "align_items": null,
       "align_self": null,
       "border_bottom": null,
       "border_left": null,
       "border_right": null,
       "border_top": null,
       "bottom": null,
       "display": null,
       "flex": null,
       "flex_flow": null,
       "grid_area": null,
       "grid_auto_columns": null,
       "grid_auto_flow": null,
       "grid_auto_rows": null,
       "grid_column": null,
       "grid_gap": null,
       "grid_row": null,
       "grid_template_areas": null,
       "grid_template_columns": null,
       "grid_template_rows": null,
       "height": null,
       "justify_content": null,
       "justify_items": null,
       "left": null,
       "margin": null,
       "max_height": null,
       "max_width": null,
       "min_height": null,
       "min_width": null,
       "object_fit": null,
       "object_position": null,
       "order": null,
       "overflow": null,
       "padding": null,
       "right": null,
       "top": null,
       "visibility": null,
       "width": null
      }
     },
     "78345ffdea5440bd92b08e1e8388d155": {
      "model_module": "@jupyter-widgets/controls",
      "model_module_version": "2.0.0",
      "model_name": "HTMLStyleModel",
      "state": {
       "_model_module": "@jupyter-widgets/controls",
       "_model_module_version": "2.0.0",
       "_model_name": "HTMLStyleModel",
       "_view_count": null,
       "_view_module": "@jupyter-widgets/base",
       "_view_module_version": "2.0.0",
       "_view_name": "StyleView",
       "background": null,
       "description_width": "",
       "font_size": null,
       "text_color": null
      }
     },
     "ad42258123ca400abe7400c6b0e65ac3": {
      "model_module": "@jupyter-widgets/controls",
      "model_module_version": "2.0.0",
      "model_name": "HTMLModel",
      "state": {
       "_dom_classes": [],
       "_model_module": "@jupyter-widgets/controls",
       "_model_module_version": "2.0.0",
       "_model_name": "HTMLModel",
       "_view_count": null,
       "_view_module": "@jupyter-widgets/controls",
       "_view_module_version": "2.0.0",
       "_view_name": "HTMLView",
       "description": "",
       "description_allow_html": false,
       "layout": "IPY_MODEL_f6bcdb80cd8a49288d8f1af574716c77",
       "placeholder": "​",
       "style": "IPY_MODEL_46ee631004a14fa7b8ff1bc4c761526f",
       "tabbable": null,
       "tooltip": null,
       "value": " 11/11 [02:08&lt;00:00,  6.51s/it]"
      }
     },
     "ec0b59b7a13d42f892f725cc51f936d3": {
      "model_module": "@jupyter-widgets/controls",
      "model_module_version": "2.0.0",
      "model_name": "FloatProgressModel",
      "state": {
       "_dom_classes": [],
       "_model_module": "@jupyter-widgets/controls",
       "_model_module_version": "2.0.0",
       "_model_name": "FloatProgressModel",
       "_view_count": null,
       "_view_module": "@jupyter-widgets/controls",
       "_view_module_version": "2.0.0",
       "_view_name": "ProgressView",
       "bar_style": "success",
       "description": "",
       "description_allow_html": false,
       "layout": "IPY_MODEL_6e6ad49307e64971aaca2147e3c29bca",
       "max": 11.0,
       "min": 0.0,
       "orientation": "horizontal",
       "style": "IPY_MODEL_348a0c4aacff49889e012312d0b86dd2",
       "tabbable": null,
       "tooltip": null,
       "value": 11.0
      }
     },
     "f6bcdb80cd8a49288d8f1af574716c77": {
      "model_module": "@jupyter-widgets/base",
      "model_module_version": "2.0.0",
      "model_name": "LayoutModel",
      "state": {
       "_model_module": "@jupyter-widgets/base",
       "_model_module_version": "2.0.0",
       "_model_name": "LayoutModel",
       "_view_count": null,
       "_view_module": "@jupyter-widgets/base",
       "_view_module_version": "2.0.0",
       "_view_name": "LayoutView",
       "align_content": null,
       "align_items": null,
       "align_self": null,
       "border_bottom": null,
       "border_left": null,
       "border_right": null,
       "border_top": null,
       "bottom": null,
       "display": null,
       "flex": null,
       "flex_flow": null,
       "grid_area": null,
       "grid_auto_columns": null,
       "grid_auto_flow": null,
       "grid_auto_rows": null,
       "grid_column": null,
       "grid_gap": null,
       "grid_row": null,
       "grid_template_areas": null,
       "grid_template_columns": null,
       "grid_template_rows": null,
       "height": null,
       "justify_content": null,
       "justify_items": null,
       "left": null,
       "margin": null,
       "max_height": null,
       "max_width": null,
       "min_height": null,
       "min_width": null,
       "object_fit": null,
       "object_position": null,
       "order": null,
       "overflow": null,
       "padding": null,
       "right": null,
       "top": null,
       "visibility": null,
       "width": null
      }
     }
    },
    "version_major": 2,
    "version_minor": 0
   }
  }
 },
 "nbformat": 4,
 "nbformat_minor": 5
}