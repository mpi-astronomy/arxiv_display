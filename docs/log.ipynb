{
 "cells": [
  {
   "cell_type": "markdown",
   "id": "92bcb855",
   "metadata": {
    "papermill": {
     "duration": 0.003755,
     "end_time": "2024-02-28T04:08:40.909225",
     "exception": false,
     "start_time": "2024-02-28T04:08:40.905470",
     "status": "completed"
    },
    "tags": []
   },
   "source": [
    "# MPIA Arxiv on Deck 2\n",
    "\n",
    "Contains the steps to produce the paper extractions."
   ]
  },
  {
   "cell_type": "code",
   "execution_count": 1,
   "id": "3a0d6e11",
   "metadata": {
    "execution": {
     "iopub.execute_input": "2024-02-28T04:08:40.916291Z",
     "iopub.status.busy": "2024-02-28T04:08:40.915879Z",
     "iopub.status.idle": "2024-02-28T04:08:41.367741Z",
     "shell.execute_reply": "2024-02-28T04:08:41.367097Z"
    },
    "papermill": {
     "duration": 0.457146,
     "end_time": "2024-02-28T04:08:41.369369",
     "exception": false,
     "start_time": "2024-02-28T04:08:40.912223",
     "status": "completed"
    },
    "tags": []
   },
   "outputs": [],
   "source": [
    "# Imports\n",
    "import os\n",
    "from IPython.display import Markdown, display\n",
    "from tqdm.notebook import tqdm\n",
    "import warnings\n",
    "from PIL import Image \n",
    "\n",
    "# requires arxiv_on_deck_2\n",
    "\n",
    "from arxiv_on_deck_2.arxiv2 import (get_new_papers, \n",
    "                                    get_paper_from_identifier,\n",
    "                                    retrieve_document_source, \n",
    "                                    get_markdown_badge)\n",
    "from arxiv_on_deck_2 import (latex,\n",
    "                             latex_bib,\n",
    "                             mpia,\n",
    "                             highlight_authors_in_list)\n",
    "\n",
    "# Sometimes images are really big\n",
    "Image.MAX_IMAGE_PIXELS = 1000000000 "
   ]
  },
  {
   "cell_type": "code",
   "execution_count": 2,
   "id": "22aa9d44",
   "metadata": {
    "execution": {
     "iopub.execute_input": "2024-02-28T04:08:41.376629Z",
     "iopub.status.busy": "2024-02-28T04:08:41.376122Z",
     "iopub.status.idle": "2024-02-28T04:08:41.381181Z",
     "shell.execute_reply": "2024-02-28T04:08:41.380579Z"
    },
    "papermill": {
     "duration": 0.010009,
     "end_time": "2024-02-28T04:08:41.382433",
     "exception": false,
     "start_time": "2024-02-28T04:08:41.372424",
     "status": "completed"
    },
    "tags": []
   },
   "outputs": [],
   "source": [
    "# Some useful definitions.\n",
    "\n",
    "class AffiliationWarning(UserWarning):\n",
    "    pass\n",
    "\n",
    "class AffiliationError(RuntimeError):\n",
    "    pass\n",
    "\n",
    "def validation(source: str):\n",
    "    \"\"\"Raises error paper during parsing of source file\n",
    "    \n",
    "    Allows checks before parsing TeX code.\n",
    "    \n",
    "    Raises AffiliationWarning\n",
    "    \"\"\"\n",
    "    check = mpia.affiliation_verifications(source, verbose=True)\n",
    "    if check is not True:\n",
    "        raise AffiliationError(\"mpia.affiliation_verifications: \" + check)\n",
    "\n",
    "        \n",
    "warnings.simplefilter('always', AffiliationWarning)\n",
    "\n",
    "\n",
    "def get_markdown_qrcode(paper_id: str):\n",
    "    \"\"\" Generate a qrcode to the arxiv page using qrserver.com\n",
    "    \n",
    "    :param paper: Arxiv paper\n",
    "    :returns: markdown text\n",
    "    \"\"\"\n",
    "    url = r\"https://api.qrserver.com/v1/create-qr-code/?size=100x100&data=\"\n",
    "    txt = f\"\"\"<img src={url}\"https://arxiv.org/abs/{paper_id}\">\"\"\"\n",
    "    txt = '<div id=\"qrcode\">' + txt + '</div>'\n",
    "    return txt"
   ]
  },
  {
   "cell_type": "markdown",
   "id": "14bd6310",
   "metadata": {
    "papermill": {
     "duration": 0.002739,
     "end_time": "2024-02-28T04:08:41.387982",
     "exception": false,
     "start_time": "2024-02-28T04:08:41.385243",
     "status": "completed"
    },
    "tags": []
   },
   "source": [
    "## get list of arxiv paper candidates\n",
    "\n",
    "We use the MPIA mitarbeiter list webpage from mpia.de to get author names\n",
    "We then get all new papers from Arxiv and match authors"
   ]
  },
  {
   "cell_type": "code",
   "execution_count": 3,
   "id": "2645e73a",
   "metadata": {
    "execution": {
     "iopub.execute_input": "2024-02-28T04:08:41.394588Z",
     "iopub.status.busy": "2024-02-28T04:08:41.394199Z",
     "iopub.status.idle": "2024-02-28T04:08:58.844918Z",
     "shell.execute_reply": "2024-02-28T04:08:58.844229Z"
    },
    "papermill": {
     "duration": 17.455617,
     "end_time": "2024-02-28T04:08:58.846378",
     "exception": false,
     "start_time": "2024-02-28T04:08:41.390761",
     "status": "completed"
    },
    "tags": []
   },
   "outputs": [
    {
     "name": "stdout",
     "output_type": "stream",
     "text": [
      "L. Boogaard  ->  L. Boogaard  |  ['L. Boogaard']\n",
      "F. Walter  ->  F. Walter  |  ['F. Walter']\n",
      "C. Larkin  ->  C. Larkin  |  ['C. Larkin']\n",
      "M. Ramirez-Tannus  ->  M. Ramirez-Tannus  |  ['M. Ramirez-Tannus']\n",
      "J. Eberhardt  ->  J. Eberhardt  |  ['J. Eberhardt']\n",
      "T. Trifonov  ->  T. Trifonov  |  ['T. Trifonov']\n",
      "R. Burn  ->  R. Burn  |  ['R. Burn']\n",
      "Arxiv has 64 new papers today\n",
      "          3 with possible author matches\n"
     ]
    }
   ],
   "source": [
    "# get list from MPIA website\n",
    "# it automatically filters identified non-scientists :func:`mpia.filter_non_scientists`\n",
    "mpia_authors = mpia.get_mpia_mitarbeiter_list()\n",
    "normed_mpia_authors = [k[1] for k in mpia_authors]   # initials + fullname\n",
    "new_papers = get_new_papers()\n",
    "# add manual references\n",
    "add_paper_refs = []\n",
    "new_papers.extend([get_paper_from_identifier(k) for k in add_paper_refs])\n",
    "\n",
    "candidates = []\n",
    "for paperk in new_papers:\n",
    "    # Check author list with their initials\n",
    "    normed_author_list = [mpia.get_initials(k) for k in paperk['authors']]\n",
    "    hl_authors = highlight_authors_in_list(normed_author_list, normed_mpia_authors, verbose=True)\n",
    "    matches = [(hl, orig) for hl, orig in zip(hl_authors, paperk['authors']) if 'mark' in hl]\n",
    "    paperk['authors'] = hl_authors\n",
    "    if matches:\n",
    "        # only select paper if an author matched our list\n",
    "        candidates.append(paperk)\n",
    "print(\"\"\"Arxiv has {0:,d} new papers today\"\"\".format(len(new_papers)))        \n",
    "print(\"\"\"          {0:,d} with possible author matches\"\"\".format(len(candidates)))"
   ]
  },
  {
   "cell_type": "markdown",
   "id": "3543b34a",
   "metadata": {
    "papermill": {
     "duration": 0.003026,
     "end_time": "2024-02-28T04:08:58.852607",
     "exception": false,
     "start_time": "2024-02-28T04:08:58.849581",
     "status": "completed"
    },
    "tags": []
   },
   "source": [
    "# Parse sources and generate relevant outputs\n",
    "\n",
    "From the candidates, we do the following steps:\n",
    "* get their tarball from ArXiv (and extract data)\n",
    "* find the main .tex file: find one with \\documentclass{...} (sometimes it's non trivial)\n",
    "* Check affiliations with :func:`validation`, which uses :func:`mpia.affiliation_verifications`\n",
    "* If passing the affiliations: we parse the .tex source\n",
    "   * inject sub-documents into the main (flatten the main document)\n",
    "   * parse structure, extract information (title, abstract, authors, figures...)\n",
    "   * handles `\\graphicspath` if provided\n",
    "* Generate the .md document."
   ]
  },
  {
   "cell_type": "code",
   "execution_count": 4,
   "id": "9576b79e",
   "metadata": {
    "execution": {
     "iopub.execute_input": "2024-02-28T04:08:58.859664Z",
     "iopub.status.busy": "2024-02-28T04:08:58.859093Z",
     "iopub.status.idle": "2024-02-28T04:10:44.389914Z",
     "shell.execute_reply": "2024-02-28T04:10:44.389193Z"
    },
    "papermill": {
     "duration": 105.539948,
     "end_time": "2024-02-28T04:10:44.395366",
     "exception": false,
     "start_time": "2024-02-28T04:08:58.855418",
     "status": "completed"
    },
    "scrolled": false,
    "tags": []
   },
   "outputs": [
    {
     "data": {
      "application/vnd.jupyter.widget-view+json": {
       "model_id": "529ecf44225d4c2498d09f22398df7ed",
       "version_major": 2,
       "version_minor": 0
      },
      "text/plain": [
       "  0%|          | 0/3 [00:00<?, ?it/s]"
      ]
     },
     "metadata": {},
     "output_type": "display_data"
    },
    {
     "name": "stdout",
     "output_type": "stream",
     "text": [
      "Retrieving document from  https://arxiv.org/e-print/2402.16942\n"
     ]
    },
    {
     "name": "stdout",
     "output_type": "stream",
     "text": [
      "extracting tarball to tmp_2402.16942..."
     ]
    },
    {
     "name": "stdout",
     "output_type": "stream",
     "text": [
      " done.\n"
     ]
    },
    {
     "name": "stderr",
     "output_type": "stream",
     "text": [
      "/opt/hostedtoolcache/Python/3.9.18/x64/lib/python3.9/site-packages/IPython/core/interactiveshell.py:3550: LatexWarning: Multiple tex files.\n",
      "\n",
      "  exec(code_obj, self.user_global_ns, self.user_ns)\n",
      "/opt/hostedtoolcache/Python/3.9.18/x64/lib/python3.9/site-packages/IPython/core/interactiveshell.py:3550: LatexWarning: Found documentclass in tmp_2402.16942/f1000w_source_nircamdark.tex\n",
      "\n",
      "  exec(code_obj, self.user_global_ns, self.user_ns)\n",
      "/opt/hostedtoolcache/Python/3.9.18/x64/lib/python3.9/site-packages/arxiv_on_deck_2/latex.py:399: LatexWarning: Latex injecting: 'table1_v4' from 'tmp_2402.16942/table1_v4.tex'\n",
      "  warnings.warn(LatexWarning(f\"Latex injecting: '{ext}' from '{subsource}'\"))\n"
     ]
    },
    {
     "name": "stdout",
     "output_type": "stream",
     "text": [
      "L. Boogaard  ->  L. Boogaard  |  ['L. Boogaard']\n",
      "F. Walter  ->  F. Walter  |  ['F. Walter']\n"
     ]
    },
    {
     "name": "stdout",
     "output_type": "stream",
     "text": [
      "Found 127 bibliographic references in tmp_2402.16942/f1000w_source_nircamdark.bbl.\n",
      "Retrieving document from  https://arxiv.org/e-print/2402.16987\n"
     ]
    },
    {
     "name": "stdout",
     "output_type": "stream",
     "text": [
      "extracting tarball to tmp_2402.16987..."
     ]
    },
    {
     "name": "stdout",
     "output_type": "stream",
     "text": [
      " done.\n"
     ]
    },
    {
     "name": "stdout",
     "output_type": "stream",
     "text": [
      "C. Larkin  ->  C. Larkin  |  ['C. Larkin']\n"
     ]
    },
    {
     "name": "stdout",
     "output_type": "stream",
     "text": [
      "Found 43 bibliographic references in tmp_2402.16987/xshootu2_accepted.bbl.\n",
      "Retrieving document from  https://arxiv.org/e-print/2402.17592\n"
     ]
    },
    {
     "name": "stdout",
     "output_type": "stream",
     "text": [
      "extracting tarball to tmp_2402.17592..."
     ]
    },
    {
     "name": "stdout",
     "output_type": "stream",
     "text": [
      " done.\n"
     ]
    },
    {
     "name": "stdout",
     "output_type": "stream",
     "text": [
      "J. Eberhardt  ->  J. Eberhardt  |  ['J. Eberhardt']\n",
      "T. Trifonov  ->  T. Trifonov  |  ['T. Trifonov']\n",
      "R. Burn  ->  R. Burn  |  ['R. Burn']\n"
     ]
    },
    {
     "name": "stderr",
     "output_type": "stream",
     "text": [
      "/opt/hostedtoolcache/Python/3.9.18/x64/lib/python3.9/site-packages/arxiv_on_deck_2/latex.py:120: LatexWarning: attempting recovering figure Fig/TIC332558858/rv_phase.pdf\n",
      "  warnings.warn(LatexWarning(f'attempting recovering figure {image}'))\n",
      "/opt/hostedtoolcache/Python/3.9.18/x64/lib/python3.9/site-packages/arxiv_on_deck_2/latex.py:692: LatexWarning: Could not find graphic \\includegraphics[width=.49\\textwidth]{Fig/TIC332558858/rv_phase.pdf}\n",
      "  warnings.warn(LatexWarning(f\"Could not find graphic {k}\"))\n"
     ]
    },
    {
     "name": "stderr",
     "output_type": "stream",
     "text": [
      "/opt/hostedtoolcache/Python/3.9.18/x64/lib/python3.9/site-packages/arxiv_on_deck_2/latex.py:120: LatexWarning: attempting recovering figure Fig/TIC237922465/rv_phase.pdf\n",
      "  warnings.warn(LatexWarning(f'attempting recovering figure {image}'))\n",
      "/opt/hostedtoolcache/Python/3.9.18/x64/lib/python3.9/site-packages/arxiv_on_deck_2/latex.py:692: LatexWarning: Could not find graphic \\includegraphics[width=.49\\textwidth]{Fig/TIC237922465/rv_phase.pdf}\n",
      "  warnings.warn(LatexWarning(f\"Could not find graphic {k}\"))\n"
     ]
    },
    {
     "name": "stderr",
     "output_type": "stream",
     "text": [
      "/opt/hostedtoolcache/Python/3.9.18/x64/lib/python3.9/site-packages/arxiv_on_deck_2/latex.py:120: LatexWarning: attempting recovering figure Fig/TIC169249234/rv_phase.pdf\n",
      "  warnings.warn(LatexWarning(f'attempting recovering figure {image}'))\n",
      "/opt/hostedtoolcache/Python/3.9.18/x64/lib/python3.9/site-packages/arxiv_on_deck_2/latex.py:692: LatexWarning: Could not find graphic \\includegraphics[width=.49\\textwidth]{Fig/TIC169249234/rv_phase.pdf}\n",
      "  warnings.warn(LatexWarning(f\"Could not find graphic {k}\"))\n"
     ]
    },
    {
     "name": "stderr",
     "output_type": "stream",
     "text": [
      "/opt/hostedtoolcache/Python/3.9.18/x64/lib/python3.9/site-packages/arxiv_on_deck_2/latex.py:120: LatexWarning: attempting recovering figure Fig/TIC332558858/rv_ts.pdf\n",
      "  warnings.warn(LatexWarning(f'attempting recovering figure {image}'))\n",
      "/opt/hostedtoolcache/Python/3.9.18/x64/lib/python3.9/site-packages/arxiv_on_deck_2/latex.py:692: LatexWarning: Could not find graphic \\includegraphics[width=\\textwidth]{Fig/TIC332558858/rv_ts.pdf}\n",
      "  warnings.warn(LatexWarning(f\"Could not find graphic {k}\"))\n"
     ]
    },
    {
     "name": "stderr",
     "output_type": "stream",
     "text": [
      "/opt/hostedtoolcache/Python/3.9.18/x64/lib/python3.9/site-packages/arxiv_on_deck_2/latex.py:120: LatexWarning: attempting recovering figure Fig/TIC237922465/rv_ts.pdf\n",
      "  warnings.warn(LatexWarning(f'attempting recovering figure {image}'))\n",
      "/opt/hostedtoolcache/Python/3.9.18/x64/lib/python3.9/site-packages/arxiv_on_deck_2/latex.py:692: LatexWarning: Could not find graphic \\includegraphics[width=\\textwidth]{Fig/TIC237922465/rv_ts.pdf}\n",
      "  warnings.warn(LatexWarning(f\"Could not find graphic {k}\"))\n"
     ]
    },
    {
     "name": "stderr",
     "output_type": "stream",
     "text": [
      "/opt/hostedtoolcache/Python/3.9.18/x64/lib/python3.9/site-packages/arxiv_on_deck_2/latex.py:120: LatexWarning: attempting recovering figure Fig/TIC169249234/rv_ts.pdf\n",
      "  warnings.warn(LatexWarning(f'attempting recovering figure {image}'))\n",
      "/opt/hostedtoolcache/Python/3.9.18/x64/lib/python3.9/site-packages/arxiv_on_deck_2/latex.py:692: LatexWarning: Could not find graphic \\includegraphics[width=\\textwidth]{Fig/TIC169249234/rv_ts.pdf}\n",
      "  warnings.warn(LatexWarning(f\"Could not find graphic {k}\"))\n"
     ]
    },
    {
     "name": "stdout",
     "output_type": "stream",
     "text": [
      "Found 87 bibliographic references in tmp_2402.17592/WINE_main.bbl.\n"
     ]
    }
   ],
   "source": [
    "documents = []\n",
    "failed = []\n",
    "for paper in tqdm(candidates):\n",
    "    paper_id = paper['identifier'].lower().replace('arxiv:', '')\n",
    "    \n",
    "    folder = f'tmp_{paper_id}'\n",
    "\n",
    "    try:\n",
    "        if not os.path.isdir(folder):\n",
    "            folder = retrieve_document_source(f\"{paper_id}\", f'tmp_{paper_id}')\n",
    "        \n",
    "        try:\n",
    "            doc = latex.LatexDocument(folder, validation=validation)    \n",
    "        except AffiliationError as affilerror:\n",
    "            msg = f\"ArXiv:{paper_id:s} is not an MPIA paper... \" + str(affilerror)\n",
    "            failed.append((paper, \"affiliation error: \" + str(affilerror) ))\n",
    "            continue\n",
    "        \n",
    "        # Hack because sometimes author parsing does not work well\n",
    "        if (len(doc.authors) != len(paper['authors'])):\n",
    "            doc._authors = paper['authors']\n",
    "        else:\n",
    "            # highlight authors (FIXME: doc.highlight_authors)\n",
    "            # done on arxiv paper already\n",
    "            doc._authors = highlight_authors_in_list(\n",
    "                [mpia.get_initials(k) for k in doc.authors], \n",
    "                normed_mpia_authors, verbose=True)\n",
    "        if (doc.abstract) in (None, ''):\n",
    "            doc._abstract = paper['abstract']\n",
    "            \n",
    "        doc.comment = (get_markdown_badge(paper_id) + \n",
    "                       \"<mark>Appeared on: \" + paper['date'] + \"</mark> - \")\n",
    "        if paper['comments']:\n",
    "            doc.comment += \" _\" + paper['comments'] + \"_\"\n",
    "        \n",
    "        full_md = doc.generate_markdown_text()\n",
    "        \n",
    "        full_md += get_markdown_qrcode(paper_id)\n",
    "        \n",
    "        # replace citations\n",
    "        try:\n",
    "            bibdata = latex_bib.LatexBib.from_doc(doc)\n",
    "            full_md = latex_bib.replace_citations(full_md, bibdata)\n",
    "        except Exception as e:\n",
    "            print(e)\n",
    "        \n",
    "        documents.append((paper_id, full_md))\n",
    "    except Exception as e:\n",
    "        warnings.warn(latex.LatexWarning(f\"{paper_id:s} did not run properly\\n\" +\n",
    "                                         str(e)\n",
    "                                        ))\n",
    "        failed.append((paper, \"latex error \" + str(e)))"
   ]
  },
  {
   "cell_type": "markdown",
   "id": "2505a25c",
   "metadata": {
    "papermill": {
     "duration": 0.00381,
     "end_time": "2024-02-28T04:10:44.403196",
     "exception": false,
     "start_time": "2024-02-28T04:10:44.399386",
     "status": "completed"
    },
    "tags": []
   },
   "source": [
    "### Export the logs\n",
    "\n",
    "Throughout, we also keep track of the logs per paper. see `logs-{today date}.md` "
   ]
  },
  {
   "cell_type": "code",
   "execution_count": 5,
   "id": "d733828a",
   "metadata": {
    "execution": {
     "iopub.execute_input": "2024-02-28T04:10:44.412389Z",
     "iopub.status.busy": "2024-02-28T04:10:44.411926Z",
     "iopub.status.idle": "2024-02-28T04:10:44.425749Z",
     "shell.execute_reply": "2024-02-28T04:10:44.425215Z"
    },
    "papermill": {
     "duration": 0.019861,
     "end_time": "2024-02-28T04:10:44.426963",
     "exception": false,
     "start_time": "2024-02-28T04:10:44.407102",
     "status": "completed"
    },
    "scrolled": false,
    "tags": []
   },
   "outputs": [
    {
     "data": {
      "text/markdown": [
       "## Successful papers"
      ],
      "text/plain": [
       "<IPython.core.display.Markdown object>"
      ]
     },
     "metadata": {},
     "output_type": "display_data"
    },
    {
     "data": {
      "text/markdown": [
       "\n",
       "|||\n",
       "|---:|:---|\n",
       "| [![arXiv](https://img.shields.io/badge/arXiv-arXiv:2402.16942-b31b1b.svg)](https://arxiv.org/abs/arXiv:2402.16942) | **A NIRCam-dark galaxy detected with the MIRI/F1000W filter in the  MIDIS/JADES Hubble Ultra Deep Field**  |\n",
       "|| P. G. Pérez-González, et al. -- incl., <mark>L. Boogaard</mark>, <mark>F. Walter</mark> |\n",
       "|*Appeared on*| *2024-02-28*|\n",
       "|*Comments*| *Submitted to ApJL, comments welcome*|\n",
       "|**Abstract**| We report the discovery of Cerberus, an extremely red object detected with the MIRI Deep Imaging Survey (MIDIS) observations in the F1000W filter of the Hubble Ultra Deep Field. The object is detected at S/N~6, with F1000W~27 mag, and it is extremely faint in both the NIRCam data gathered by the JWST Advanced Deep Extragalactic Survey, JADES, with ~30.5 mag $5\\sigma$ upper limits in individual bands, as well as in the MIDIS F560W ultra deep data ($\\sim$29 mag, $5\\sigma$). Analyzing the spectral energy distribution built with individual (low S/N) optical-to-mid-infrared filters and (S/N~5) stacks, we discuss the possible nature of this red NIRCam-dark source using a battery of codes. We discard the possibility of Cerberus being a Solar System body based on the $<$0.016\" proper motion in the 1-year apart JADES and MIDIS observations. A sub-stellar Galactic nature is deemed unlikely, given that the Cerberus' relatively flat NIRCam-to-NIRCam and very red NIRCam-to-MIRI flux ratios are not consistent with any brown dwarf model. The extragalactic nature of Cerberus offers 3 possibilities: (1) A $z\\sim0.4$ galaxy with strong emission from polycyclic aromatic hydrocarbons; the very low inferred stellar mass, $\\mathrm{M}_\\star=10^{5-6}$ M$_\\odot$, makes this possibility highly improbable. (2) A dusty galaxy at $z\\sim4$ with an inferred stellar mass $\\mathrm{M}_\\star\\sim10^{8}$ M$_\\odot$. (3) A galaxy with observational properties similar to those of the reddest little red dots discovered around $z\\sim7$, but Cerberus lying at $z\\sim15$, presenting a spectral energy distribution in the rest-frame optical dominated by emission from a dusty torus or a dusty starburst. |"
      ],
      "text/plain": [
       "[arXiv:2402.16942] A NIRCam-dark galaxy detected with the MIRI/F1000W filter in the  MIDIS/JADES Hubble Ultra Deep Field\n",
       "\tP. G. Pérez-González, et al. -- incl., <mark>L. Boogaard</mark>, <mark>F. Walter</mark>"
      ]
     },
     "metadata": {},
     "output_type": "display_data"
    },
    {
     "data": {
      "text/markdown": [
       "\n",
       "|||\n",
       "|---:|:---|\n",
       "| [![arXiv](https://img.shields.io/badge/arXiv-arXiv:2402.16987-b31b1b.svg)](https://arxiv.org/abs/arXiv:2402.16987) | **X-Shooting ULLYSES: Massive Stars at low metallicity II. DR1: Advanced  optical data products for the Magellanic Clouds**  |\n",
       "|| H. Sana, et al. -- incl., <mark>C. Larkin</mark>, <mark>M. Ramirez-Tannus</mark> |\n",
       "|*Appeared on*| *2024-02-28*|\n",
       "|*Comments*| *22 pages, 19 figures; accepted for publication in Astronomy & Astrophysics. Links to online tables and databases will be included upon publication*|\n",
       "|**Abstract**| Using the medium resolution spectrograph X-shooter, spectra of 235 OB and Wolf-Rayet (WR) stars in sub-solar metallicity environments have been secured. [...]This second paper focuses on the optical observations of 232 Magellanic Clouds targets. It describes the uniform reduction of the UVB (300 - 560 nm) and VIS (550 - 1020 nm) XShootU data as well as the preparation of advanced data products [...] . The data reduction of the raw data is based on the ESO CPL X-shooter pipeline. We paid particular attention to the determination of the response curves [...] We implemented slit-loss correction, absolute flux calibration, (semi-)automatic rectification to the continuum, and a correction for telluric lines. The spectra of individual epochs were corrected for the barycentric motion, re-sampled and co-added, and the spectra from the two arms were merged into a single flux calibrated spectrum covering the entire optical range with maximum signal-to-noise ratio. [...] We provide three types of data products: (i) two-dimensional spectra for each UVB and VIS exposure; (ii) one-dimensional UVB and VIS spectra before and after response-correction, as well as after applying various processing, including absolute flux calibration, telluric removal, normalisation and barycentric correction; and (iii) co-added flux-calibrated and rectified spectra over the full optical range, for which all available XShootU exposures were combined. For many of the targets, the final signal-to-noise ratio per resolution element is above 200 in both the UVB and the VIS co-added spectra. The reduced data and advanced scientific data products will be made available to the community upon publication of this paper. [...] |"
      ],
      "text/plain": [
       "[arXiv:2402.16987] X-Shooting ULLYSES: Massive Stars at low metallicity II. DR1: Advanced  optical data products for the Magellanic Clouds\n",
       "\tH. Sana, et al. -- incl., <mark>C. Larkin</mark>, <mark>M. Ramirez-Tannus</mark>"
      ]
     },
     "metadata": {},
     "output_type": "display_data"
    },
    {
     "data": {
      "text/markdown": [
       "\n",
       "|||\n",
       "|---:|:---|\n",
       "| [![arXiv](https://img.shields.io/badge/arXiv-arXiv:2402.17592-b31b1b.svg)](https://arxiv.org/abs/arXiv:2402.17592) | **Three Warm Jupiters around Solar-analog stars detected with TESS**  |\n",
       "|| <mark>J. Eberhardt</mark>, et al. -- incl., <mark>T. Trifonov</mark>, <mark>R. Burn</mark> |\n",
       "|*Appeared on*| *2024-02-28*|\n",
       "|*Comments*| **|\n",
       "|**Abstract**| We report the discovery and characterization of three giant exoplanets orbiting solar-analog stars, detected by the \\tess space mission and confirmed through ground-based photometry and radial velocity (RV) measurements taken at La Silla observatory with \\textit{FEROS}. TOI-2373\\,b is a warm Jupiter orbiting its host star every $\\sim$ 13.3 days, and is one of the two most massive known exoplanet with a precisely determined mass and radius around a star similar to the Sun, with an estimated mass of m$_p$ = $9.3^{+0.2}_{-0.2}\\,M_{\\mathrm{jup}}$, and a radius of $r_p$ = $0.93^{+0.2}_{-0.2}\\,R_{\\mathrm{jup}}$. With a mean density of $\\rho = 14.4^{+0.9}_{-1.0}\\,\\mathrm{g\\,cm}^{-3}$, TOI-2373\\,b is among the densest planets discovered so far. TOI-2416\\,b orbits its host star on a moderately eccentric orbit with a period of $\\sim$ 8.3 days and an eccentricity of $e$ = $0.32^{+0.02}_{-0.02}$. TOI-2416\\,b is more massive than Jupiter with $m_p$ = 3.0$^{+0.10}_{-0.09}\\,M_{\\mathrm{jup}}$, however is significantly smaller with a radius of $r_p$ = $0.88^{+0.02}_{-0.02},R_{\\mathrm{jup}}$, leading to a high mean density of $\\rho = 5.4^{+0.3}_{-0.3}\\,\\mathrm{g\\,cm}^{-3}$. TOI-2524\\,b is a warm Jupiter near the hot Jupiter transition region, orbiting its star every $\\sim$ 7.2 days on a circular orbit. It is less massive than Jupiter with a mass of $m_p$ = $0.64^{+0.04}_{-0.04}\\,M_{\\mathrm{jup}}$, and is consistent with an inflated radius of $r_p$ = $1.00^{+0.02}_{-0.03}\\,R_{\\mathrm{jup}}$, leading to a low mean density of $\\rho = 0.79^{+0.08}_{-0.08}\\,\\mathrm{g\\,cm}^{-3}$. The newly discovered exoplanets TOI-2373\\,b, TOI-2416\\,b, and TOI-2524\\,b have estimated equilibrium temperatures of $860^{+10}_{-10}$ K, $1080^{+10}_{-10}$ K, and $1100^{+20}_{-20}$ K, respectively, placing them in the sparsely populated transition zone between hot and warm Jupiters. |"
      ],
      "text/plain": [
       "[arXiv:2402.17592] Three Warm Jupiters around Solar-analog stars detected with TESS\n",
       "\t<mark>J. Eberhardt</mark>, et al. -- incl., <mark>T. Trifonov</mark>, <mark>R. Burn</mark>"
      ]
     },
     "metadata": {},
     "output_type": "display_data"
    },
    {
     "data": {
      "text/markdown": [
       "## Failed papers"
      ],
      "text/plain": [
       "<IPython.core.display.Markdown object>"
      ]
     },
     "metadata": {},
     "output_type": "display_data"
    }
   ],
   "source": [
    "import datetime\n",
    "today = str(datetime.date.today())\n",
    "logfile = f\"_build/html/logs/log-{today}.md\"\n",
    "\n",
    "\n",
    "with open(logfile, 'w') as logs:\n",
    "    # Success\n",
    "    logs.write(f'# Arxiv on Deck 2: Logs - {today}\\n\\n')\n",
    "    logs.write(\"\"\"* Arxiv had {0:,d} new papers\\n\"\"\".format(len(new_papers)))\n",
    "    logs.write(\"\"\"    * {0:,d} with possible author matches\\n\\n\"\"\".format(len(candidates)))\n",
    "    logs.write(\"## Sucessful papers\\n\\n\")\n",
    "    display(Markdown(\"## Successful papers\"))\n",
    "    success = [k[0] for k in documents]\n",
    "    for candid in candidates:\n",
    "        if candid['identifier'].split(':')[-1] in success:\n",
    "            display(candid)\n",
    "            logs.write(candid.generate_markdown_text() + '\\n\\n')\n",
    "\n",
    "    ## failed\n",
    "    logs.write(\"## Failed papers\\n\\n\")\n",
    "    display(Markdown(\"## Failed papers\"))\n",
    "    failed = sorted(failed, key=lambda x: x[1])\n",
    "    current_reason = \"\"\n",
    "    for paper, reason in failed:\n",
    "        if 'affiliation' in reason:\n",
    "            color = 'green'\n",
    "        else:\n",
    "            color = 'red'\n",
    "        data = Markdown(\n",
    "                paper.generate_markdown_text() + \n",
    "                f'\\n|<p style=\"color:{color:s}\"> **ERROR** </p>| <p style=\"color:{color:s}\">{reason:s}</p> |'\n",
    "               )\n",
    "        if reason != current_reason:\n",
    "            logs.write(f'### {reason:s} \\n\\n')\n",
    "            current_reason = reason\n",
    "        logs.write(data.data + '\\n\\n')\n",
    "        \n",
    "        # only display here the important errors (all in logs)\n",
    "        # if color in ('red',):\n",
    "        display(data)"
   ]
  },
  {
   "cell_type": "markdown",
   "id": "472d20ee",
   "metadata": {
    "papermill": {
     "duration": 0.004403,
     "end_time": "2024-02-28T04:10:44.435829",
     "exception": false,
     "start_time": "2024-02-28T04:10:44.431426",
     "status": "completed"
    },
    "tags": []
   },
   "source": [
    "## Export documents\n",
    "\n",
    "We now write the .md files and export relevant images"
   ]
  },
  {
   "cell_type": "code",
   "execution_count": 6,
   "id": "d426aed9",
   "metadata": {
    "execution": {
     "iopub.execute_input": "2024-02-28T04:10:44.445675Z",
     "iopub.status.busy": "2024-02-28T04:10:44.445299Z",
     "iopub.status.idle": "2024-02-28T04:10:44.451358Z",
     "shell.execute_reply": "2024-02-28T04:10:44.450809Z"
    },
    "papermill": {
     "duration": 0.012398,
     "end_time": "2024-02-28T04:10:44.452611",
     "exception": false,
     "start_time": "2024-02-28T04:10:44.440213",
     "status": "completed"
    },
    "tags": []
   },
   "outputs": [],
   "source": [
    "def export_markdown_summary(md: str, md_fname:str, directory: str):\n",
    "    \"\"\"Export MD document and associated relevant images\"\"\"\n",
    "    import os\n",
    "    import shutil\n",
    "    import re\n",
    "\n",
    "    if (os.path.exists(directory) and not os.path.isdir(directory)):\n",
    "        raise RuntimeError(f\"a non-directory file exists with name {directory:s}\")\n",
    "\n",
    "    if (not os.path.exists(directory)):\n",
    "        print(f\"creating directory {directory:s}\")\n",
    "        os.mkdir(directory)\n",
    "\n",
    "    fig_fnames = (re.compile(r'\\[Fig.*\\]\\((.*)\\)').findall(md) + \n",
    "                  re.compile(r'\\<img src=\"([^>\\s]*)\"[^>]*/>').findall(md))\n",
    "    for fname in fig_fnames:\n",
    "        if 'http' in fname:\n",
    "            # No need to copy online figures\n",
    "            continue\n",
    "        destdir = os.path.join(directory, os.path.dirname(fname))\n",
    "        destfname = os.path.join(destdir, os.path.basename(fname))\n",
    "        try:\n",
    "            os.makedirs(destdir)\n",
    "        except FileExistsError:\n",
    "            pass\n",
    "        shutil.copy(fname, destfname)\n",
    "    with open(os.path.join(directory, md_fname), 'w') as fout:\n",
    "        fout.write(md)\n",
    "    print(\"exported in \", os.path.join(directory, md_fname))\n",
    "    [print(\"    + \" + os.path.join(directory,fk)) for fk in fig_fnames]"
   ]
  },
  {
   "cell_type": "code",
   "execution_count": 7,
   "id": "014d04a4",
   "metadata": {
    "execution": {
     "iopub.execute_input": "2024-02-28T04:10:44.462633Z",
     "iopub.status.busy": "2024-02-28T04:10:44.462261Z",
     "iopub.status.idle": "2024-02-28T04:10:44.473368Z",
     "shell.execute_reply": "2024-02-28T04:10:44.472761Z"
    },
    "papermill": {
     "duration": 0.017652,
     "end_time": "2024-02-28T04:10:44.474791",
     "exception": false,
     "start_time": "2024-02-28T04:10:44.457139",
     "status": "completed"
    },
    "tags": []
   },
   "outputs": [
    {
     "name": "stdout",
     "output_type": "stream",
     "text": [
      "exported in  _build/html/2402.16942.md\n",
      "    + _build/html/tmp_2402.16942/./midis000714_nircam.v3.0.png\n",
      "    + _build/html/tmp_2402.16942/./midis000714_nircam.convolved.v3.0.png\n",
      "    + _build/html/tmp_2402.16942/./midis000714_nircam_redstacks.convolved.v3.0.png\n",
      "    + _build/html/tmp_2402.16942/./midis000714_nircam_redstacksbis.convolved.v3.0.png\n",
      "    + _build/html/tmp_2402.16942/./midis000714_nircam_bluestacks.convolved.v3.0.png\n",
      "    + _build/html/tmp_2402.16942/./models_nircamdarkf1000wsource_v3.png\n",
      "    + _build/html/tmp_2402.16942/./sed_nircamdarkf1000wsource_v3.png\n",
      "exported in  _build/html/2402.16987.md\n",
      "    + _build/html/tmp_2402.16987/./FIGURES/fluxCompare.png\n",
      "    + _build/html/tmp_2402.16987/./FIGURES/QCXSH-U_2dFS-163_COADD1D_UVBA_NORM_bis.png\n",
      "    + _build/html/tmp_2402.16987/./FIGURES/QCXSH-U_2dFS-163_COADD1D_UVBB_NORM_bis.png\n",
      "    + _build/html/tmp_2402.16987/./FIGURES/QCXSH-U_2dFS-163_COADD1D_VISA_NORM_bis.png\n",
      "    + _build/html/tmp_2402.16987/./FIGURES/QCXSH-U_2dFS-163_COADD1D_VISB_NORM_bis.png\n",
      "    + _build/html/tmp_2402.16987/./FIGURES/EG274_updated_fit_latest.png\n",
      "    + _build/html/tmp_2402.16987/./FIGURES/EG21_updated_fit_latest.png\n",
      "exported in  _build/html/2402.17592.md\n",
      "    + _build/html/tmp_2402.17592/./Fig/tepcat_mass-separation.png\n"
     ]
    }
   ],
   "source": [
    "for paper_id, md in documents:\n",
    "    export_markdown_summary(md, f\"{paper_id:s}.md\", '_build/html/')"
   ]
  },
  {
   "cell_type": "markdown",
   "id": "f087a0a7",
   "metadata": {
    "papermill": {
     "duration": 0.004505,
     "end_time": "2024-02-28T04:10:44.483898",
     "exception": false,
     "start_time": "2024-02-28T04:10:44.479393",
     "status": "completed"
    },
    "tags": []
   },
   "source": [
    "## Display the papers\n",
    "\n",
    "Not necessary but allows for a quick check."
   ]
  },
  {
   "cell_type": "code",
   "execution_count": 8,
   "id": "fd25f625",
   "metadata": {
    "execution": {
     "iopub.execute_input": "2024-02-28T04:10:44.493813Z",
     "iopub.status.busy": "2024-02-28T04:10:44.493607Z",
     "iopub.status.idle": "2024-02-28T04:10:44.500607Z",
     "shell.execute_reply": "2024-02-28T04:10:44.500079Z"
    },
    "papermill": {
     "duration": 0.013544,
     "end_time": "2024-02-28T04:10:44.501916",
     "exception": false,
     "start_time": "2024-02-28T04:10:44.488372",
     "status": "completed"
    },
    "scrolled": false,
    "tags": []
   },
   "outputs": [
    {
     "data": {
      "text/markdown": [
       "<div class=\"macros\" style=\"visibility:hidden;\">\n",
       "$\\newcommand{\\ensuremath}{}$\n",
       "$\\newcommand{\\xspace}{}$\n",
       "$\\newcommand{\\object}[1]{\\texttt{#1}}$\n",
       "$\\newcommand{\\farcs}{{.}''}$\n",
       "$\\newcommand{\\farcm}{{.}'}$\n",
       "$\\newcommand{\\arcsec}{''}$\n",
       "$\\newcommand{\\arcmin}{'}$\n",
       "$\\newcommand{\\ion}[2]{#1#2}$\n",
       "$\\newcommand{\\textsc}[1]{\\textrm{#1}}$\n",
       "$\\newcommand{\\hl}[1]{\\textrm{#1}}$\n",
       "$\\newcommand{\\footnote}[1]{}$\n",
       "$\\newcommand{\\vdag}{(v)^\\dagger}$\n",
       "$\\newcommand$\n",
       "$\\newcommand$</div>\n",
       "\n",
       "\n",
       "\n",
       "<div id=\"title\">\n",
       "\n",
       "# A NIRCam-dark galaxy detected with the MIRI/F1000W filter in the MIDIS/JADES Hubble Ultra Deep Field\n",
       "\n",
       "</div>\n",
       "<div id=\"comments\">\n",
       "\n",
       "[![arXiv](https://img.shields.io/badge/arXiv-2402.16942-b31b1b.svg)](https://arxiv.org/abs/2402.16942)<mark>Appeared on: 2024-02-28</mark> -  _Submitted to ApJL, comments welcome_\n",
       "\n",
       "</div>\n",
       "<div id=\"authors\">\n",
       "\n",
       "P. G. Pérez-González, et al. -- incl., <mark>L. Boogaard</mark>, <mark>F. Walter</mark>\n",
       "\n",
       "</div>\n",
       "<div id=\"abstract\">\n",
       "\n",
       "**Abstract:** We report the discovery of $_ Cerberus_$ , an extremely red object detected with the MIRI Deep Imaging Survey (MIDIS) observations in the F1000W filter of the Hubble Ultra Deep Field. The object is detected at $S/N\\sim6$ , with $\\mathrm{F1000W}\\sim27$ mag, and it is extremely faint in both the NIRCam data gathered by the JWST Advanced Deep Extragalactic Survey, JADES, with $\\sim$ 30.5 mag $5\\sigma$ upper limits in individual bands, as well as in the MIDIS F560W ultra deep data ( $\\sim$ 29 mag, $5\\sigma$ ). Analyzing the spectral energy distribution built with individual (low $S/N$ ) optical-to-mid-infrared filters and ( $S/N\\sim5$ ) stacks, we discuss the possible nature of this red NIRCam-dark source using a battery of codes. We discard the possibility of $_ Cerberus_$ being a Solar System body based on the $<0\\farcs016$ proper motion in the 1-year apart JADES and MIDIS observations. A sub-stellar Galactic nature is deemed unlikely, given that the $_ Cerberus'_$ relatively flat NIRCam-to-NIRCam and very red NIRCam-to-MIRI flux ratios are not consistent with any brown dwarf model. The extragalactic nature of $_ Cerberus_$ offers 3 possibilities: (1) A $z\\sim0.4$ galaxy with strong emission from polycyclic aromatic hydrocarbons; the very low inferred stellar mass, $\\mathrm{M}_\\star=10^{5-6}$ M $_\\odot$ , makes this possibility highly improbable. (2) A dusty galaxy at $z\\sim4$ with an inferred stellar mass $\\mathrm{M}_\\star\\sim10^{8}$ M $_\\odot$ . (3) A galaxy with observational properties similar to those of the reddest little red dots discovered around $z\\sim7$ , but $_ Cerberus_$ lying at $z\\sim15$ , presenting a spectral energy distribution in the rest-frame optical dominated by emission from a dusty torus or a dusty starburst.\n",
       "\n",
       "</div>\n",
       "\n",
       "<div id=\"div_fig1\">\n",
       "\n",
       "<img src=\"tmp_2402.16942/./midis000714_nircam.v3.0.png\" alt=\"Fig3.1\" width=\"20%\"/><img src=\"tmp_2402.16942/./midis000714_nircam.convolved.v3.0.png\" alt=\"Fig3.2\" width=\"20%\"/><img src=\"tmp_2402.16942/./midis000714_nircam_redstacks.convolved.v3.0.png\" alt=\"Fig3.3\" width=\"20%\"/><img src=\"tmp_2402.16942/./midis000714_nircam_redstacksbis.convolved.v3.0.png\" alt=\"Fig3.4\" width=\"20%\"/><img src=\"tmp_2402.16942/./midis000714_nircam_bluestacks.convolved.v3.0.png\" alt=\"Fig3.5\" width=\"20%\"/>\n",
       "\n",
       "**Figure 3. -** In the top row, we show postage stamps of _ Cerberus_ in all NIRCam bands from the JADES DR2  ([Eisenstein, Johnson and Robertson 2023]()) . The second row shows the same stamps but convolved with a 2-pixel radius tophat filter. The third row shows incremental stacks of NIRCam filters, starting from the reddest two bands (F480M and F460M) and adding one band at a time, down to F210M. The fourth row shows similar stacks, but avoiding F460M, which presents an artifact (see main text for details). The fifth row shows stacks starting from the bluest bands (blue\\_stack01 including F090W and F115W) and adding the next filter in subsequent images. All postage stamps are 1$\\arcsec$$\\times$1$\\arcsec$, with the source marked with a circle of radius 0$\\farcs$2. Green circles show the PSF FWHM (including the tophat filter). (*fig:stamps*)\n",
       "\n",
       "</div>\n",
       "<div id=\"div_fig2\">\n",
       "\n",
       "<img src=\"tmp_2402.16942/./models_nircamdarkf1000wsource_v3.png\" alt=\"Fig6\" width=\"100%\"/>\n",
       "\n",
       "**Figure 6. -** Detailed analysis of the spectral energy distribution of _ Cerberus_ for the main redshift solutions. The symbols are the same as described in Figure \\ref{fig:photoz}. We provide best-fitting models provided by different codes that include both stellar and AGN emission.\n",
       "The top-left panel shows the best-fitting brown dwarf template from the ATMO2020++ models, for a Y-type dwarf with an effective temperature of $\\sim 300$K at a distance of $\\sim 300$ pc.\n",
       "The rest of the panels show results for $z=0.4$(top-right), $z=3.5$(bottom-left), and $z=15$(bottom-right). Main physical properties inferred with the modeling of the spectral energy distributions assuming an extragalactic origin are provided in Table \\ref{tab:sed_properties}. (*fig:sps*)\n",
       "\n",
       "</div>\n",
       "<div id=\"div_fig3\">\n",
       "\n",
       "<img src=\"tmp_2402.16942/./sed_nircamdarkf1000wsource_v3.png\" alt=\"Fig5\" width=\"100%\"/>\n",
       "\n",
       "**Figure 5. -** _ Left:_ Spectral energy distribution of _ Cerberus_. Dots show flux measurements with $S/N>2$ for individual NIRCam and MIRI bands (filter widths shown as horizontal bars), triangles depict 1$\\sigma$ upper limits. Shaded regions stand for flux measurements and filter widths for NIRCam stacks in the LW (actual $S/N>5$ measurements in most stacks) and SW (upper limits in all of them) channels. Two sets of NIRCam stacks are considered: two incremental stacks starting from the red and blue ends, respectively, and stopping at $\\sim$2 $\\mu$m; and 4 disjoint stacks, combining filters in groups of 2, 3, 4, and 5, with no filter in common between each set. The spectral energy distribution has been fitted with a battery of codes to estimate a photometric redshift. Most probable values and uncertainties are provided in the figure (for {\\sc eazy} we provide 2 solutions since their peak probabilities are very similar), with low-z solutions plotted as thin lines, and high-z models as thick lines. _ Right:_ Photometric redshift probability distribution function for the modeling shown in the left panel. All distributions are normalized to unity at the peak. We show the main solutions, including all values provided in the spectral energy distribution plot and also secondary solutions at $z<10$ and $z>10$. (*fig:photoz*)\n",
       "\n",
       "</div><div id=\"qrcode\"><img src=https://api.qrserver.com/v1/create-qr-code/?size=100x100&data=\"https://arxiv.org/abs/2402.16942\"></div>"
      ],
      "text/plain": [
       "<IPython.core.display.Markdown object>"
      ]
     },
     "metadata": {},
     "output_type": "display_data"
    },
    {
     "data": {
      "text/markdown": [
       "<div class=\"macros\" style=\"visibility:hidden;\">\n",
       "$\\newcommand{\\ensuremath}{}$\n",
       "$\\newcommand{\\xspace}{}$\n",
       "$\\newcommand{\\object}[1]{\\texttt{#1}}$\n",
       "$\\newcommand{\\farcs}{{.}''}$\n",
       "$\\newcommand{\\farcm}{{.}'}$\n",
       "$\\newcommand{\\arcsec}{''}$\n",
       "$\\newcommand{\\arcmin}{'}$\n",
       "$\\newcommand{\\ion}[2]{#1#2}$\n",
       "$\\newcommand{\\textsc}[1]{\\textrm{#1}}$\n",
       "$\\newcommand{\\hl}[1]{\\textrm{#1}}$\n",
       "$\\newcommand{\\footnote}[1]{}$\n",
       "$\\newcommand{\\kms}{km s^{-1}}$\n",
       "$\\newcommand{\\cms}{cm s^{-2}}$\n",
       "$\\newcommand{\\ergscm}{erg s^{-1} cm^{-2}}$\n",
       "$\\newcommand{\\ergs}{erg s^{-1}}$\n",
       "$\\newcommand{\\lsol}{L_{\\odot}}$\n",
       "$\\newcommand{\\lsun}{L_{\\odot}}$\n",
       "$\\newcommand{\\Lsun}{L_{\\odot}}$\n",
       "$\\newcommand{\\Msun}{M_{\\odot}}$\n",
       "$\\newcommand{\\msun}{M_{\\odot}}$\n",
       "$\\newcommand{\\msunyr}{M_{\\odot} yr^{-1}}$\n",
       "$\\newcommand{\\msol}{M_{\\odot}}$\n",
       "$\\newcommand{\\rsol}{R_{\\odot}}$\n",
       "$\\newcommand{\\rsun}{R_{\\odot}}$\n",
       "$\\newcommand{\\Rsun}{R_{\\odot}}$\n",
       "$\\newcommand{\\teff}{T_\\mathrm{eff}}$\n",
       "$\\newcommand{\\logg}{\\log g}$\n",
       "$\\newcommand{\\mdot}{M_\\odot}$\n",
       "$\\newcommand{\\vinf}{v_\\infty}$\n",
       "$\\newcommand{\\vsini}{\\varv \\sin i}$\n",
       "$\\newcommand{\\ha}{H{\\alpha}}$\n",
       "$\\newcommand{\\halpha}{H{\\alpha}}$\n",
       "$\\newcommand{\\hb}{H{\\beta}}$\n",
       "$\\newcommand{\\hbeta}{H{\\beta}}$\n",
       "$\\newcommand{\\hdelta}{H{\\delta}}$\n",
       "$\\newcommand{\\hgamma}{H{\\gamma}}$\n",
       "$\\newcommand{\\l}{\\lambda}$\n",
       "$\\newcommand{\\hea}{\\ion{He}{i}}$\n",
       "$\\newcommand{\\heb}{\\ion{He}{ii}}$\n",
       "$\\newcommand{\\snr}{S/N}$\n",
       "$\\newcommand{\\xsh}{X-shooter}$\n",
       "$\\newcommand{\\xshooter}{X-shooter}$\n",
       "$\\newcommand{\\ullyses}{{\\sc ULLYSES}}$\n",
       "$\\newcommand{\\xshootu}{XShootU}$\n",
       "$\\newcommand{\\sci}{{\\sc science}}$\n",
       "$\\newcommand{\\flat}{{\\sc ff}}$\n",
       "$\\newcommand{\\ff}{{\\sc ff}}$\n",
       "$\\newcommand{\\raw}{{\\sc raw}}$\n",
       "$\\newcommand{\\flux}{{\\sc flux}}$\n",
       "$\\newcommand{\\science}{{\\sc science}}$\n",
       "$\\newcommand{\\errs}{{\\sc errs}}$\n",
       "$\\newcommand{\\qual}{{\\sc qual}}$</div>\n",
       "\n",
       "\n",
       "\n",
       "<div id=\"title\">\n",
       "\n",
       "# X-Shooting ULLYSES: Massive Stars at low metallicity$\\thanks{Based on observations collected at the European Southern Observatory under ESO program ID 106.211Z.001.}$$^,$$\\thanks{Tables \\ref{t:targets}, \\ref{t:journal} and \\ref{t:RV_results} are only available in electronic form at the CDS via anonymous ftp to cdsarc.u-strasbg.fr (130.79.128.5) or via \\url{http://cdsweb.u-strasbg.fr/cgi-bin/qcat?J/A+A/}.}$\n",
       "\n",
       "</div>\n",
       "<div id=\"comments\">\n",
       "\n",
       "[![arXiv](https://img.shields.io/badge/arXiv-2402.16987-b31b1b.svg)](https://arxiv.org/abs/2402.16987)<mark>Appeared on: 2024-02-28</mark> -  _22 pages, 19 figures; accepted for publication in Astronomy & Astrophysics. Links to online tables and databases will be included upon publication_\n",
       "\n",
       "</div>\n",
       "<div id=\"authors\">\n",
       "\n",
       "H. Sana, et al. -- incl., <mark>C. Larkin</mark>\n",
       "\n",
       "</div>\n",
       "<div id=\"abstract\">\n",
       "\n",
       "**Abstract:** The $\\xshootu$ project aims to obtain ground-based optical to near-infrared spectroscopy of all targets observed by the $_ Hubble Space Telescope (HST)_$ under the Director's Discretionary program $\\ullyses$ .  Using the medium resolution spectrograph $\\xshooter$ , spectra of 235 OB and Wolf-Rayet (WR) stars  in sub-solar metallicity environments have been secured. The bulk of the targets belong to the Large and Small Magellanic Clouds, with the exception of three stars in NGC 3109 and Sextans A. This second paper of the series focuses on the optical  observations of Magellanic Clouds targets. It describes the uniform reduction of the UVB ( $300-560$ nm) and VIS ( $550-1020$ nm) $\\xshootu$ data  as well as the preparation of advanced data products that are suitable for homogeneous scientific analyses. The data reduction of the $\\raw$ data is based on  the ESO CPL $\\xshooter$ pipeline. We paid particular attention to the determination of the response curves. This required equal flat-fielding of the science and flux standard star data and the derivation of improved flux standard models.   The pipeline products were then processed with our own set of routines to produce a series of advanced data products.  In particular, we  implemented slit-loss correction, absolute flux calibration, (semi-)automatic rectification to the continuum, and a correction for telluric lines. The spectra of individual epochs were further corrected for the barycentric motion, re-sampled and co-added, and the spectra from the two arms were merged into a single flux calibrated spectrum covering the entire optical range with maximum signal-to-noise ratio. We identify and describe an undocumented recurrent ghost visible on the $\\raw$ data. We present an improved flat-fielding strategy that limits artefacts when the $\\science$ and $\\flux$ standard stars are observed on different nights.   The improved $\\flux$ standard models and the new grid of anchor points allow to limit artefacts of the response curve correction on, e.g., the shape of the wings of the Balmer lines, from a couple of per cent  of the continuum level to less than 0.5 \\% .   We confirm the presence of a radial velocity shift of about 3.5 $\\kms$ between the UVB and the VIS arm of $\\xshooter$ and that there is no short term variations impacting the RV measurements. RV precision better than 1 $\\kms$ can be obtained on sharp telluric lines while RV precision of the order of 2 to 3 $\\kms$ are obtained on data with the best $\\snr$ . For each target observed by $\\xshootu$ , we provide three types of data products: (i) two-dimensional spectra for each UVB and VIS exposure before and after correction for the instrument response;   (ii) one-dimensional UVB and VIS spectra as produced by the $\\xshooter$ pipeline  before and after response-correction, as well as after applying various processing, including  absolute flux calibration, telluric removal, normalisation and barycentric correction; and (iii) co-added flux-calibrated and rectified spectra over the full optical range, for which all available $\\xshootu$ exposures were combined. For the large majority of the targets, the final signal-to-noise ratio per resolution element  is above 200 in both the UVB and the VIS co-added spectra. The reduced data and advanced scientific data products are made available to the community. Together with the HST UV ULLYSES data, they should enable various science goals, from detailed stellar atmosphere and stellar wind studies, to empirical libraries for population synthesis, to study of the local nebular environment and feedback of massive stars in sub-solar metallicity environments.\n",
       "\n",
       "</div>\n",
       "\n",
       "<div id=\"div_fig1\">\n",
       "\n",
       "<img src=\"tmp_2402.16987/./FIGURES/fluxCompare.png\" alt=\"Fig16\" width=\"100%\"/>\n",
       "\n",
       "**Figure 16. -** Comparison of the spectrum of AV-43 before slit-loss correction (lower spectrum), after slit-loss and telluric absorption correction (middle spectrum), and after the scaling to the B magnitude and lining up the VIS to the UVB (upper spectrum). The corresponding V and R magnitudes are indicated using a star symbol. Transmission curves are from [ and Bessell (1990)](). (*f:FluxCal*)\n",
       "\n",
       "</div>\n",
       "<div id=\"div_fig2\">\n",
       "\n",
       "<img src=\"tmp_2402.16987/./FIGURES/QCXSH-U_2dFS-163_COADD1D_UVBA_NORM_bis.png\" alt=\"Fig19.1\" width=\"25%\"/><img src=\"tmp_2402.16987/./FIGURES/QCXSH-U_2dFS-163_COADD1D_UVBB_NORM_bis.png\" alt=\"Fig19.2\" width=\"25%\"/><img src=\"tmp_2402.16987/./FIGURES/QCXSH-U_2dFS-163_COADD1D_VISA_NORM_bis.png\" alt=\"Fig19.3\" width=\"25%\"/><img src=\"tmp_2402.16987/./FIGURES/QCXSH-U_2dFS-163_COADD1D_VISB_NORM_bis.png\" alt=\"Fig19.4\" width=\"25%\"/>\n",
       "\n",
       "**Figure 19. -** Example of automatic normalisation of 2DFS-163 for each range in the UVB and VIS arms. Regions shaded in red and green are regions that are rejected or forcefully included as continuum regions.  (*f:QCnorm*)\n",
       "\n",
       "</div>\n",
       "<div id=\"div_fig3\">\n",
       "\n",
       "<img src=\"tmp_2402.16987/./FIGURES/EG274_updated_fit_latest.png\" alt=\"Fig4.1\" width=\"50%\"/><img src=\"tmp_2402.16987/./FIGURES/EG21_updated_fit_latest.png\" alt=\"Fig4.2\" width=\"50%\"/>\n",
       "\n",
       "**Figure 4. -** Comparison of new and old reference models for  the EG 274 and EG 21 $\\flux$ standard stars used by the $\\xsh$ootu program.  The top sub-panel of each star show the observed co-added spectrum (in black) and the new and old reference models (in red and blue, respectively).  The bottom sub-panels show the residuals between the observation and each of the reference models using the same color scheme. (*f:FluxModel*)\n",
       "\n",
       "</div><div id=\"qrcode\"><img src=https://api.qrserver.com/v1/create-qr-code/?size=100x100&data=\"https://arxiv.org/abs/2402.16987\"></div>"
      ],
      "text/plain": [
       "<IPython.core.display.Markdown object>"
      ]
     },
     "metadata": {},
     "output_type": "display_data"
    },
    {
     "data": {
      "text/markdown": [
       " marks the moving standard deviation of the their synthetic planets. (*fig:mass-radius*)\n",
       "\n",
       "</div>\n",
       "<div id=\"div_fig3\">\n",
       "\n",
       "<img src=\"tmp_2402.17592/./Fig/tepcat_mass-separation.png\" alt=\"Fig1\" width=\"100%\"/>\n",
       "\n",
       "**Figure 1. -** Mass-separation diagram for planets around solar-analog stars (definition according to [Lehmann, et. al (2022)](), see \\ref{sec:Introduction}). The new planets TOI-2373 b, TOI-2416 b, and TOI-2524 b are shown as big stars. (*fig:mass-sep*)\n",
       "\n",
       "</div><div id=\"qrcode\"><img src=https://api.qrserver.com/v1/create-qr-code/?size=100x100&data=\"https://arxiv.org/abs/2402.17592\"></div>"
      ],
      "text/plain": [
       "<IPython.core.display.Markdown object>"
      ]
     },
     "metadata": {},
     "output_type": "display_data"
    }
   ],
   "source": [
    "[display(Markdown(k[1])) for k in documents];"
   ]
  },
  {
   "cell_type": "markdown",
   "id": "873873a4",
   "metadata": {
    "papermill": {
     "duration": 0.005099,
     "end_time": "2024-02-28T04:10:44.512183",
     "exception": false,
     "start_time": "2024-02-28T04:10:44.507084",
     "status": "completed"
    },
    "tags": []
   },
   "source": [
    "# Create HTML index"
   ]
  },
  {
   "cell_type": "code",
   "execution_count": 9,
   "id": "cf665672",
   "metadata": {
    "execution": {
     "iopub.execute_input": "2024-02-28T04:10:44.523165Z",
     "iopub.status.busy": "2024-02-28T04:10:44.522928Z",
     "iopub.status.idle": "2024-02-28T04:10:44.533396Z",
     "shell.execute_reply": "2024-02-28T04:10:44.532698Z"
    },
    "papermill": {
     "duration": 0.017624,
     "end_time": "2024-02-28T04:10:44.534775",
     "exception": false,
     "start_time": "2024-02-28T04:10:44.517151",
     "status": "completed"
    },
    "tags": []
   },
   "outputs": [
    {
     "name": "stdout",
     "output_type": "stream",
     "text": [
      "377  publications files modified in the last 7 days.\n"
     ]
    }
   ],
   "source": [
    "from datetime import datetime, timedelta, timezone\n",
    "from glob import glob\n",
    "import os\n",
    "\n",
    "files = glob('_build/html/*.md')\n",
    "days = 7\n",
    "now = datetime.today()\n",
    "res = []\n",
    "for fk in files:\n",
    "    stat_result = os.stat(fk).st_ctime\n",
    "    modified = datetime.fromtimestamp(stat_result, tz=timezone.utc).replace(tzinfo=None)\n",
    "    delta = now.today() - modified\n",
    "    if delta <= timedelta(days=days):\n",
    "        res.append((delta.seconds, fk))\n",
    "res = [k[1] for k in reversed(sorted(res, key=lambda x:x[1]))]\n",
    "npub = len(res)\n",
    "print(len(res), f\" publications files modified in the last {days:d} days.\")\n",
    "# [ print('\\t', k) for k in res ];"
   ]
  },
  {
   "cell_type": "code",
   "execution_count": 10,
   "id": "015de740",
   "metadata": {
    "execution": {
     "iopub.execute_input": "2024-02-28T04:10:44.545989Z",
     "iopub.status.busy": "2024-02-28T04:10:44.545616Z",
     "iopub.status.idle": "2024-02-28T04:10:44.566553Z",
     "shell.execute_reply": "2024-02-28T04:10:44.566014Z"
    },
    "papermill": {
     "duration": 0.027973,
     "end_time": "2024-02-28T04:10:44.567938",
     "exception": false,
     "start_time": "2024-02-28T04:10:44.539965",
     "status": "completed"
    },
    "tags": []
   },
   "outputs": [
    {
     "name": "stdout",
     "output_type": "stream",
     "text": [
      "4  publications in the last 7 days.\n"
     ]
    }
   ],
   "source": [
    "import datetime\n",
    "from glob import glob\n",
    "\n",
    "def get_last_n_days(lst, days=1):\n",
    "    \"\"\" Get the documents from the last n days \"\"\"\n",
    "    sorted_lst = sorted(lst, key=lambda x: x[1], reverse=True)\n",
    "    for fname, date in sorted_lst:\n",
    "        if date >= str(datetime.date.today() - datetime.timedelta(days=days)):\n",
    "            yield fname\n",
    "\n",
    "def extract_appearance_dates(lst_file):\n",
    "    dates = []\n",
    "\n",
    "    def get_date(line):\n",
    "        return line\\\n",
    "            .split('Appeared on:')[-1]\\\n",
    "            .split('</mark>')[0].strip()\n",
    "\n",
    "    for fname in lst:\n",
    "        with open(fname, 'r') as f:\n",
    "            found_date = False\n",
    "            for line in f:\n",
    "                if not found_date:\n",
    "                    if \"Appeared on\" in line:\n",
    "                        found_date = True\n",
    "                        dates.append((fname, get_date(line)))\n",
    "                else:\n",
    "                    break\n",
    "    return dates\n",
    "\n",
    "from glob import glob\n",
    "lst = glob('_build/html/*md')\n",
    "days = 7\n",
    "dates = extract_appearance_dates(lst)\n",
    "res = list(get_last_n_days(dates, days))\n",
    "npub = len(res)\n",
    "print(len(res), f\" publications in the last {days:d} days.\")"
   ]
  },
  {
   "cell_type": "code",
   "execution_count": 11,
   "id": "52ca0208",
   "metadata": {
    "execution": {
     "iopub.execute_input": "2024-02-28T04:10:44.579361Z",
     "iopub.status.busy": "2024-02-28T04:10:44.578932Z",
     "iopub.status.idle": "2024-02-28T04:10:44.583974Z",
     "shell.execute_reply": "2024-02-28T04:10:44.583405Z"
    },
    "papermill": {
     "duration": 0.012233,
     "end_time": "2024-02-28T04:10:44.585296",
     "exception": false,
     "start_time": "2024-02-28T04:10:44.573063",
     "status": "completed"
    },
    "scrolled": false,
    "tags": []
   },
   "outputs": [],
   "source": [
    "def create_carousel(npub=4):\n",
    "    \"\"\" Generate the HTML code for a carousel with `npub` slides \"\"\"\n",
    "    carousel = [\"\"\"  <div class=\"carousel\" \"\"\",\n",
    "                \"\"\"       data-flickity='{ \"autoPlay\": 10000, \"adaptiveHeight\": true, \"resize\": true, \"wrapAround\": true, \"pauseAutoPlayOnHover\": true, \"groupCells\": 1 }' id=\"asyncTypeset\">\"\"\"\n",
    "                ]\n",
    "    \n",
    "    item_str = \"\"\"    <div class=\"carousel-cell\"> <div id=\"slide{k}\" class=\"md_view\">Content {k}</div> </div>\"\"\"\n",
    "    for k in range(1, npub + 1):\n",
    "        carousel.append(item_str.format(k=k))\n",
    "    carousel.append(\"  </div>\")\n",
    "    return '\\n'.join(carousel)\n",
    "\n",
    "def create_grid(npub=4):\n",
    "    \"\"\" Generate the HTML code for a flat grid with `npub` slides \"\"\"\n",
    "    grid = [\"\"\"  <div class=\"grid\"> \"\"\",\n",
    "                ]\n",
    "    \n",
    "    item_str = \"\"\"    <div class=\"grid-item\"> <div id=\"slide{k}\" class=\"md_view\">Content {k}</div> </div>\"\"\"\n",
    "    for k in range(1, npub + 1):\n",
    "        grid.append(item_str.format(k=k))\n",
    "    grid.append(\"  </div>\")\n",
    "    return '\\n'.join(grid)"
   ]
  },
  {
   "cell_type": "code",
   "execution_count": 12,
   "id": "a6eac5b6",
   "metadata": {
    "execution": {
     "iopub.execute_input": "2024-02-28T04:10:44.596805Z",
     "iopub.status.busy": "2024-02-28T04:10:44.596340Z",
     "iopub.status.idle": "2024-02-28T04:10:44.601372Z",
     "shell.execute_reply": "2024-02-28T04:10:44.600834Z"
    },
    "papermill": {
     "duration": 0.012218,
     "end_time": "2024-02-28T04:10:44.602690",
     "exception": false,
     "start_time": "2024-02-28T04:10:44.590472",
     "status": "completed"
    },
    "scrolled": false,
    "tags": []
   },
   "outputs": [],
   "source": [
    "carousel = create_carousel(npub)\n",
    "docs = ', '.join(['\"{0:s}\"'.format(k.split('/')[-1]) for k in res])\n",
    "slides = ', '.join([f'\"slide{k}\"' for k in range(1, npub + 1)])\n",
    "\n",
    "with open(\"daily_template.html\", \"r\") as tpl:\n",
    "    page = tpl.read()\n",
    "    page = page.replace(\"{%-- carousel:s --%}\", carousel)\\\n",
    "               .replace(\"{%-- suptitle:s --%}\",  \"7-day archives\" )\\\n",
    "               .replace(\"{%-- docs:s --%}\", docs)\\\n",
    "               .replace(\"{%-- slides:s --%}\", slides)\n",
    "    \n",
    "with open(\"_build/html/index_7days.html\", 'w') as fout:\n",
    "    fout.write(page)"
   ]
  },
  {
   "cell_type": "code",
   "execution_count": 13,
   "id": "adc1a1ec",
   "metadata": {
    "execution": {
     "iopub.execute_input": "2024-02-28T04:10:44.614321Z",
     "iopub.status.busy": "2024-02-28T04:10:44.613943Z",
     "iopub.status.idle": "2024-02-28T04:10:44.620696Z",
     "shell.execute_reply": "2024-02-28T04:10:44.620135Z"
    },
    "papermill": {
     "duration": 0.013906,
     "end_time": "2024-02-28T04:10:44.621947",
     "exception": false,
     "start_time": "2024-02-28T04:10:44.608041",
     "status": "completed"
    },
    "tags": []
   },
   "outputs": [
    {
     "name": "stdout",
     "output_type": "stream",
     "text": [
      "2  publications in the last day.\n"
     ]
    }
   ],
   "source": [
    "# redo for today\n",
    "days = 1\n",
    "res = list(get_last_n_days(dates, days))\n",
    "npub = len(res)\n",
    "print(len(res), f\" publications in the last day.\")\n",
    "\n",
    "carousel = create_carousel(npub)\n",
    "docs = ', '.join(['\"{0:s}\"'.format(k.split('/')[-1]) for k in res])\n",
    "slides = ', '.join([f'\"slide{k}\"' for k in range(1, npub + 1)])\n",
    "\n",
    "with open(\"daily_template.html\", \"r\") as tpl:\n",
    "    page = tpl.read()\n",
    "    page = page.replace(\"{%-- carousel:s --%}\", carousel)\\\n",
    "               .replace(\"{%-- suptitle:s --%}\",  \"Daily\" )\\\n",
    "               .replace(\"{%-- docs:s --%}\", docs)\\\n",
    "               .replace(\"{%-- slides:s --%}\", slides)\n",
    "    \n",
    "# print(carousel, docs, slides)\n",
    "# print(page)\n",
    "with open(\"_build/html/index_daily.html\", 'w') as fout:\n",
    "    fout.write(page)"
   ]
  },
  {
   "cell_type": "code",
   "execution_count": 14,
   "id": "00eece82",
   "metadata": {
    "execution": {
     "iopub.execute_input": "2024-02-28T04:10:44.633403Z",
     "iopub.status.busy": "2024-02-28T04:10:44.633044Z",
     "iopub.status.idle": "2024-02-28T04:10:44.639359Z",
     "shell.execute_reply": "2024-02-28T04:10:44.638708Z"
    },
    "papermill": {
     "duration": 0.01349,
     "end_time": "2024-02-28T04:10:44.640694",
     "exception": false,
     "start_time": "2024-02-28T04:10:44.627204",
     "status": "completed"
    },
    "scrolled": false,
    "tags": []
   },
   "outputs": [
    {
     "name": "stdout",
     "output_type": "stream",
     "text": [
      "6  6 publications selected.\n"
     ]
    }
   ],
   "source": [
    "# Create the flat grid of the last N papers (fixed number regardless of dates)\n",
    "from itertools import islice \n",
    "\n",
    "npub = 6\n",
    "res = [k[0] for k in (islice(reversed(sorted(dates, key=lambda x: x[1])), 6))]\n",
    "print(len(res), f\" {npub} publications selected.\")\n",
    "\n",
    "grid = create_grid(npub)\n",
    "docs = ', '.join(['\"{0:s}\"'.format(k.split('/')[-1]) for k in res])\n",
    "slides = ', '.join([f'\"slide{k}\"' for k in range(1, npub + 1)])\n",
    "\n",
    "with open(\"grid_template.html\", \"r\") as tpl:\n",
    "    page = tpl.read()\n",
    "    page = page.replace(\"{%-- grid-content:s --%}\", grid)\\\n",
    "               .replace(\"{%-- suptitle:s --%}\",  f\"Last {npub:,d} papers\" )\\\n",
    "               .replace(\"{%-- docs:s --%}\", docs)\\\n",
    "               .replace(\"{%-- slides:s --%}\", slides)\n",
    "    \n",
    "# print(grid, docs, slides)\n",
    "# print(page)\n",
    "with open(\"_build/html/index_npub_grid.html\", 'w') as fout:\n",
    "    fout.write(page)"
   ]
  }
 ],
 "metadata": {
  "kernelspec": {
   "display_name": "Python 3 (ipykernel)",
   "language": "python",
   "name": "python3"
  },
  "language_info": {
   "codemirror_mode": {
    "name": "ipython",
    "version": 3
   },
   "file_extension": ".py",
   "mimetype": "text/x-python",
   "name": "python",
   "nbconvert_exporter": "python",
   "pygments_lexer": "ipython3",
   "version": "3.9.18"
  },
  "papermill": {
   "default_parameters": {},
   "duration": 124.795585,
   "end_time": "2024-02-28T04:10:44.863081",
   "environment_variables": {},
   "exception": null,
   "input_path": "MPIA daily digest.ipynb",
   "output_path": "log.ipynb",
   "parameters": {},
   "start_time": "2024-02-28T04:08:40.067496",
   "version": "2.5.0"
  },
  "vscode": {
   "interpreter": {
    "hash": "aee8b7b246df8f9039afb4144a1f6fd8d2ca17a180786b69acc140d282b71a49"
   }
  },
  "widgets": {
   "application/vnd.jupyter.widget-state+json": {
    "state": {
     "147379c70dd04bee96493b8da03c6eb4": {
      "model_module": "@jupyter-widgets/base",
      "model_module_version": "2.0.0",
      "model_name": "LayoutModel",
      "state": {
       "_model_module": "@jupyter-widgets/base",
       "_model_module_version": "2.0.0",
       "_model_name": "LayoutModel",
       "_view_count": null,
       "_view_module": "@jupyter-widgets/base",
       "_view_module_version": "2.0.0",
       "_view_name": "LayoutView",
       "align_content": null,
       "align_items": null,
       "align_self": null,
       "border_bottom": null,
       "border_left": null,
       "border_right": null,
       "border_top": null,
       "bottom": null,
       "display": null,
       "flex": null,
       "flex_flow": null,
       "grid_area": null,
       "grid_auto_columns": null,
       "grid_auto_flow": null,
       "grid_auto_rows": null,
       "grid_column": null,
       "grid_gap": null,
       "grid_row": null,
       "grid_template_areas": null,
       "grid_template_columns": null,
       "grid_template_rows": null,
       "height": null,
       "justify_content": null,
       "justify_items": null,
       "left": null,
       "margin": null,
       "max_height": null,
       "max_width": null,
       "min_height": null,
       "min_width": null,
       "object_fit": null,
       "object_position": null,
       "order": null,
       "overflow": null,
       "padding": null,
       "right": null,
       "top": null,
       "visibility": null,
       "width": null
      }
     },
     "4987e9c6266b4e539f156429e7a515e1": {
      "model_module": "@jupyter-widgets/controls",
      "model_module_version": "2.0.0",
      "model_name": "FloatProgressModel",
      "state": {
       "_dom_classes": [],
       "_model_module": "@jupyter-widgets/controls",
       "_model_module_version": "2.0.0",
       "_model_name": "FloatProgressModel",
       "_view_count": null,
       "_view_module": "@jupyter-widgets/controls",
       "_view_module_version": "2.0.0",
       "_view_name": "ProgressView",
       "bar_style": "success",
       "description": "",
       "description_allow_html": false,
       "layout": "IPY_MODEL_4ebe620f62b348ff8a43278a349b1656",
       "max": 3.0,
       "min": 0.0,
       "orientation": "horizontal",
       "style": "IPY_MODEL_f98eb3edba4b40e0b16fdda76c00ff7c",
       "tabbable": null,
       "tooltip": null,
       "value": 3.0
      }
     },
     "4ebe620f62b348ff8a43278a349b1656": {
      "model_module": "@jupyter-widgets/base",
      "model_module_version": "2.0.0",
      "model_name": "LayoutModel",
      "state": {
       "_model_module": "@jupyter-widgets/base",
       "_model_module_version": "2.0.0",
       "_model_name": "LayoutModel",
       "_view_count": null,
       "_view_module": "@jupyter-widgets/base",
       "_view_module_version": "2.0.0",
       "_view_name": "LayoutView",
       "align_content": null,
       "align_items": null,
       "align_self": null,
       "border_bottom": null,
       "border_left": null,
       "border_right": null,
       "border_top": null,
       "bottom": null,
       "display": null,
       "flex": null,
       "flex_flow": null,
       "grid_area": null,
       "grid_auto_columns": null,
       "grid_auto_flow": null,
       "grid_auto_rows": null,
       "grid_column": null,
       "grid_gap": null,
       "grid_row": null,
       "grid_template_areas": null,
       "grid_template_columns": null,
       "grid_template_rows": null,
       "height": null,
       "justify_content": null,
       "justify_items": null,
       "left": null,
       "margin": null,
       "max_height": null,
       "max_width": null,
       "min_height": null,
       "min_width": null,
       "object_fit": null,
       "object_position": null,
       "order": null,
       "overflow": null,
       "padding": null,
       "right": null,
       "top": null,
       "visibility": null,
       "width": null
      }
     },
     "529ecf44225d4c2498d09f22398df7ed": {
      "model_module": "@jupyter-widgets/controls",
      "model_module_version": "2.0.0",
      "model_name": "HBoxModel",
      "state": {
       "_dom_classes": [],
       "_model_module": "@jupyter-widgets/controls",
       "_model_module_version": "2.0.0",
       "_model_name": "HBoxModel",
       "_view_count": null,
       "_view_module": "@jupyter-widgets/controls",
       "_view_module_version": "2.0.0",
       "_view_name": "HBoxView",
       "box_style": "",
       "children": [
        "IPY_MODEL_b9bde2e106704ad29110c1e7e7ef58c0",
        "IPY_MODEL_4987e9c6266b4e539f156429e7a515e1",
        "IPY_MODEL_f7eb1c21ddb54974967d7eb243a86c64"
       ],
       "layout": "IPY_MODEL_147379c70dd04bee96493b8da03c6eb4",
       "tabbable": null,
       "tooltip": null
      }
     },
     "ab5397a533ae4895a1cbd5c85d497e7b": {
      "model_module": "@jupyter-widgets/controls",
      "model_module_version": "2.0.0",
      "model_name": "HTMLStyleModel",
      "state": {
       "_model_module": "@jupyter-widgets/controls",
       "_model_module_version": "2.0.0",
       "_model_name": "HTMLStyleModel",
       "_view_count": null,
       "_view_module": "@jupyter-widgets/base",
       "_view_module_version": "2.0.0",
       "_view_name": "StyleView",
       "background": null,
       "description_width": "",
       "font_size": null,
       "text_color": null
      }
     },
     "abd4eb5e15424bdea29746119eabdd71": {
      "model_module": "@jupyter-widgets/base",
      "model_module_version": "2.0.0",
      "model_name": "LayoutModel",
      "state": {
       "_model_module": "@jupyter-widgets/base",
       "_model_module_version": "2.0.0",
       "_model_name": "LayoutModel",
       "_view_count": null,
       "_view_module": "@jupyter-widgets/base",
       "_view_module_version": "2.0.0",
       "_view_name": "LayoutView",
       "align_content": null,
       "align_items": null,
       "align_self": null,
       "border_bottom": null,
       "border_left": null,
       "border_right": null,
       "border_top": null,
       "bottom": null,
       "display": null,
       "flex": null,
       "flex_flow": null,
       "grid_area": null,
       "grid_auto_columns": null,
       "grid_auto_flow": null,
       "grid_auto_rows": null,
       "grid_column": null,
       "grid_gap": null,
       "grid_row": null,
       "grid_template_areas": null,
       "grid_template_columns": null,
       "grid_template_rows": null,
       "height": null,
       "justify_content": null,
       "justify_items": null,
       "left": null,
       "margin": null,
       "max_height": null,
       "max_width": null,
       "min_height": null,
       "min_width": null,
       "object_fit": null,
       "object_position": null,
       "order": null,
       "overflow": null,
       "padding": null,
       "right": null,
       "top": null,
       "visibility": null,
       "width": null
      }
     },
     "b9bde2e106704ad29110c1e7e7ef58c0": {
      "model_module": "@jupyter-widgets/controls",
      "model_module_version": "2.0.0",
      "model_name": "HTMLModel",
      "state": {
       "_dom_classes": [],
       "_model_module": "@jupyter-widgets/controls",
       "_model_module_version": "2.0.0",
       "_model_name": "HTMLModel",
       "_view_count": null,
       "_view_module": "@jupyter-widgets/controls",
       "_view_module_version": "2.0.0",
       "_view_name": "HTMLView",
       "description": "",
       "description_allow_html": false,
       "layout": "IPY_MODEL_abd4eb5e15424bdea29746119eabdd71",
       "placeholder": "​",
       "style": "IPY_MODEL_c95efb3eae524a678847d0990ebb500e",
       "tabbable": null,
       "tooltip": null,
       "value": "100%"
      }
     },
     "c95efb3eae524a678847d0990ebb500e": {
      "model_module": "@jupyter-widgets/controls",
      "model_module_version": "2.0.0",
      "model_name": "HTMLStyleModel",
      "state": {
       "_model_module": "@jupyter-widgets/controls",
       "_model_module_version": "2.0.0",
       "_model_name": "HTMLStyleModel",
       "_view_count": null,
       "_view_module": "@jupyter-widgets/base",
       "_view_module_version": "2.0.0",
       "_view_name": "StyleView",
       "background": null,
       "description_width": "",
       "font_size": null,
       "text_color": null
      }
     },
     "ed92fe12c7aa4f82899719b5c4095a21": {
      "model_module": "@jupyter-widgets/base",
      "model_module_version": "2.0.0",
      "model_name": "LayoutModel",
      "state": {
       "_model_module": "@jupyter-widgets/base",
       "_model_module_version": "2.0.0",
       "_model_name": "LayoutModel",
       "_view_count": null,
       "_view_module": "@jupyter-widgets/base",
       "_view_module_version": "2.0.0",
       "_view_name": "LayoutView",
       "align_content": null,
       "align_items": null,
       "align_self": null,
       "border_bottom": null,
       "border_left": null,
       "border_right": null,
       "border_top": null,
       "bottom": null,
       "display": null,
       "flex": null,
       "flex_flow": null,
       "grid_area": null,
       "grid_auto_columns": null,
       "grid_auto_flow": null,
       "grid_auto_rows": null,
       "grid_column": null,
       "grid_gap": null,
       "grid_row": null,
       "grid_template_areas": null,
       "grid_template_columns": null,
       "grid_template_rows": null,
       "height": null,
       "justify_content": null,
       "justify_items": null,
       "left": null,
       "margin": null,
       "max_height": null,
       "max_width": null,
       "min_height": null,
       "min_width": null,
       "object_fit": null,
       "object_position": null,
       "order": null,
       "overflow": null,
       "padding": null,
       "right": null,
       "top": null,
       "visibility": null,
       "width": null
      }
     },
     "f7eb1c21ddb54974967d7eb243a86c64": {
      "model_module": "@jupyter-widgets/controls",
      "model_module_version": "2.0.0",
      "model_name": "HTMLModel",
      "state": {
       "_dom_classes": [],
       "_model_module": "@jupyter-widgets/controls",
       "_model_module_version": "2.0.0",
       "_model_name": "HTMLModel",
       "_view_count": null,
       "_view_module": "@jupyter-widgets/controls",
       "_view_module_version": "2.0.0",
       "_view_name": "HTMLView",
       "description": "",
       "description_allow_html": false,
       "layout": "IPY_MODEL_ed92fe12c7aa4f82899719b5c4095a21",
       "placeholder": "​",
       "style": "IPY_MODEL_ab5397a533ae4895a1cbd5c85d497e7b",
       "tabbable": null,
       "tooltip": null,
       "value": " 3/3 [01:45&lt;00:00, 43.01s/it]"
      }
     },
     "f98eb3edba4b40e0b16fdda76c00ff7c": {
      "model_module": "@jupyter-widgets/controls",
      "model_module_version": "2.0.0",
      "model_name": "ProgressStyleModel",
      "state": {
       "_model_module": "@jupyter-widgets/controls",
       "_model_module_version": "2.0.0",
       "_model_name": "ProgressStyleModel",
       "_view_count": null,
       "_view_module": "@jupyter-widgets/base",
       "_view_module_version": "2.0.0",
       "_view_name": "StyleView",
       "bar_color": null,
       "description_width": ""
      }
     }
    },
    "version_major": 2,
    "version_minor": 0
   }
  }
 },
 "nbformat": 4,
 "nbformat_minor": 5
}