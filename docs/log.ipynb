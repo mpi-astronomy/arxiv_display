{
 "cells": [
  {
   "cell_type": "markdown",
   "id": "92bcb855",
   "metadata": {
    "papermill": {
     "duration": 0.003874,
     "end_time": "2024-03-08T04:07:55.300112",
     "exception": false,
     "start_time": "2024-03-08T04:07:55.296238",
     "status": "completed"
    },
    "tags": []
   },
   "source": [
    "# MPIA Arxiv on Deck 2\n",
    "\n",
    "Contains the steps to produce the paper extractions."
   ]
  },
  {
   "cell_type": "code",
   "execution_count": 1,
   "id": "3a0d6e11",
   "metadata": {
    "execution": {
     "iopub.execute_input": "2024-03-08T04:07:55.308150Z",
     "iopub.status.busy": "2024-03-08T04:07:55.307441Z",
     "iopub.status.idle": "2024-03-08T04:07:55.696889Z",
     "shell.execute_reply": "2024-03-08T04:07:55.696121Z"
    },
    "papermill": {
     "duration": 0.395455,
     "end_time": "2024-03-08T04:07:55.698838",
     "exception": false,
     "start_time": "2024-03-08T04:07:55.303383",
     "status": "completed"
    },
    "tags": []
   },
   "outputs": [],
   "source": [
    "# Imports\n",
    "import os\n",
    "from IPython.display import Markdown, display\n",
    "from tqdm.notebook import tqdm\n",
    "import warnings\n",
    "from PIL import Image \n",
    "\n",
    "# requires arxiv_on_deck_2\n",
    "\n",
    "from arxiv_on_deck_2.arxiv2 import (get_new_papers, \n",
    "                                    get_paper_from_identifier,\n",
    "                                    retrieve_document_source, \n",
    "                                    get_markdown_badge)\n",
    "from arxiv_on_deck_2 import (latex,\n",
    "                             latex_bib,\n",
    "                             mpia,\n",
    "                             highlight_authors_in_list)\n",
    "\n",
    "# Sometimes images are really big\n",
    "Image.MAX_IMAGE_PIXELS = 1000000000 "
   ]
  },
  {
   "cell_type": "code",
   "execution_count": 2,
   "id": "22aa9d44",
   "metadata": {
    "execution": {
     "iopub.execute_input": "2024-03-08T04:07:55.706703Z",
     "iopub.status.busy": "2024-03-08T04:07:55.706117Z",
     "iopub.status.idle": "2024-03-08T04:07:55.711877Z",
     "shell.execute_reply": "2024-03-08T04:07:55.711181Z"
    },
    "papermill": {
     "duration": 0.011356,
     "end_time": "2024-03-08T04:07:55.713394",
     "exception": false,
     "start_time": "2024-03-08T04:07:55.702038",
     "status": "completed"
    },
    "tags": []
   },
   "outputs": [],
   "source": [
    "# Some useful definitions.\n",
    "\n",
    "class AffiliationWarning(UserWarning):\n",
    "    pass\n",
    "\n",
    "class AffiliationError(RuntimeError):\n",
    "    pass\n",
    "\n",
    "def validation(source: str):\n",
    "    \"\"\"Raises error paper during parsing of source file\n",
    "    \n",
    "    Allows checks before parsing TeX code.\n",
    "    \n",
    "    Raises AffiliationWarning\n",
    "    \"\"\"\n",
    "    check = mpia.affiliation_verifications(source, verbose=True)\n",
    "    if check is not True:\n",
    "        raise AffiliationError(\"mpia.affiliation_verifications: \" + check)\n",
    "\n",
    "        \n",
    "warnings.simplefilter('always', AffiliationWarning)\n",
    "\n",
    "\n",
    "def get_markdown_qrcode(paper_id: str):\n",
    "    \"\"\" Generate a qrcode to the arxiv page using qrserver.com\n",
    "    \n",
    "    :param paper: Arxiv paper\n",
    "    :returns: markdown text\n",
    "    \"\"\"\n",
    "    url = r\"https://api.qrserver.com/v1/create-qr-code/?size=100x100&data=\"\n",
    "    txt = f\"\"\"<img src={url}\"https://arxiv.org/abs/{paper_id}\">\"\"\"\n",
    "    txt = '<div id=\"qrcode\">' + txt + '</div>'\n",
    "    return txt"
   ]
  },
  {
   "cell_type": "markdown",
   "id": "14bd6310",
   "metadata": {
    "papermill": {
     "duration": 0.002795,
     "end_time": "2024-03-08T04:07:55.719199",
     "exception": false,
     "start_time": "2024-03-08T04:07:55.716404",
     "status": "completed"
    },
    "tags": []
   },
   "source": [
    "## get list of arxiv paper candidates\n",
    "\n",
    "We use the MPIA mitarbeiter list webpage from mpia.de to get author names\n",
    "We then get all new papers from Arxiv and match authors"
   ]
  },
  {
   "cell_type": "code",
   "execution_count": 3,
   "id": "2645e73a",
   "metadata": {
    "execution": {
     "iopub.execute_input": "2024-03-08T04:07:55.726730Z",
     "iopub.status.busy": "2024-03-08T04:07:55.726053Z",
     "iopub.status.idle": "2024-03-08T04:08:14.616487Z",
     "shell.execute_reply": "2024-03-08T04:08:14.615717Z"
    },
    "papermill": {
     "duration": 18.895964,
     "end_time": "2024-03-08T04:08:14.618057",
     "exception": false,
     "start_time": "2024-03-08T04:07:55.722093",
     "status": "completed"
    },
    "tags": []
   },
   "outputs": [
    {
     "name": "stdout",
     "output_type": "stream",
     "text": [
      "J. Li  ->  J. Li  |  ['J. Li']\n",
      "M. Sharma  ->  Y. M. Sharma  |  ['M. Sharma']\n",
      "H. Beuther  ->  H. Beuther  |  ['H. Beuther']\n",
      "R. Launhardt  ->  R. Launhardt  |  ['R. Launhardt']\n",
      "O. Krause  ->  O. Krause  |  ['O. Krause']\n",
      "A. Kospal  ->  A. Kospal  |  ['A. Kospal']\n",
      "Arxiv has 54 new papers today\n",
      "          7 with possible author matches\n"
     ]
    }
   ],
   "source": [
    "# get list from MPIA website\n",
    "# it automatically filters identified non-scientists :func:`mpia.filter_non_scientists`\n",
    "mpia_authors = mpia.get_mpia_mitarbeiter_list()\n",
    "normed_mpia_authors = [k[1] for k in mpia_authors]   # initials + fullname\n",
    "new_papers = get_new_papers()\n",
    "# add manual references\n",
    "add_paper_refs = []\n",
    "new_papers.extend([get_paper_from_identifier(k) for k in add_paper_refs])\n",
    "\n",
    "candidates = []\n",
    "for paperk in new_papers:\n",
    "    # Check author list with their initials\n",
    "    normed_author_list = [mpia.get_initials(k) for k in paperk['authors']]\n",
    "    hl_authors = highlight_authors_in_list(normed_author_list, normed_mpia_authors, verbose=True)\n",
    "    matches = [(hl, orig) for hl, orig in zip(hl_authors, paperk['authors']) if 'mark' in hl]\n",
    "    paperk['authors'] = hl_authors\n",
    "    if matches:\n",
    "        # only select paper if an author matched our list\n",
    "        candidates.append(paperk)\n",
    "print(\"\"\"Arxiv has {0:,d} new papers today\"\"\".format(len(new_papers)))        \n",
    "print(\"\"\"          {0:,d} with possible author matches\"\"\".format(len(candidates)))"
   ]
  },
  {
   "cell_type": "markdown",
   "id": "3543b34a",
   "metadata": {
    "papermill": {
     "duration": 0.003157,
     "end_time": "2024-03-08T04:08:14.624525",
     "exception": false,
     "start_time": "2024-03-08T04:08:14.621368",
     "status": "completed"
    },
    "tags": []
   },
   "source": [
    "# Parse sources and generate relevant outputs\n",
    "\n",
    "From the candidates, we do the following steps:\n",
    "* get their tarball from ArXiv (and extract data)\n",
    "* find the main .tex file: find one with \\documentclass{...} (sometimes it's non trivial)\n",
    "* Check affiliations with :func:`validation`, which uses :func:`mpia.affiliation_verifications`\n",
    "* If passing the affiliations: we parse the .tex source\n",
    "   * inject sub-documents into the main (flatten the main document)\n",
    "   * parse structure, extract information (title, abstract, authors, figures...)\n",
    "   * handles `\\graphicspath` if provided\n",
    "* Generate the .md document."
   ]
  },
  {
   "cell_type": "code",
   "execution_count": 4,
   "id": "9576b79e",
   "metadata": {
    "execution": {
     "iopub.execute_input": "2024-03-08T04:08:14.632430Z",
     "iopub.status.busy": "2024-03-08T04:08:14.631677Z",
     "iopub.status.idle": "2024-03-08T04:10:34.363147Z",
     "shell.execute_reply": "2024-03-08T04:10:34.362376Z"
    },
    "papermill": {
     "duration": 139.74187,
     "end_time": "2024-03-08T04:10:34.369317",
     "exception": false,
     "start_time": "2024-03-08T04:08:14.627447",
     "status": "completed"
    },
    "scrolled": false,
    "tags": []
   },
   "outputs": [
    {
     "data": {
      "application/vnd.jupyter.widget-view+json": {
       "model_id": "e919c98345d0408cbdaff6630aaaa007",
       "version_major": 2,
       "version_minor": 0
      },
      "text/plain": [
       "  0%|          | 0/7 [00:00<?, ?it/s]"
      ]
     },
     "metadata": {},
     "output_type": "display_data"
    },
    {
     "name": "stdout",
     "output_type": "stream",
     "text": [
      "Retrieving document from  https://arxiv.org/e-print/2403.04141\n"
     ]
    },
    {
     "name": "stdout",
     "output_type": "stream",
     "text": [
      "extracting tarball to tmp_2403.04141... done.\n",
      "Retrieving document from  https://arxiv.org/e-print/2403.04211\n"
     ]
    },
    {
     "name": "stdout",
     "output_type": "stream",
     "text": [
      "extracting tarball to tmp_2403.04211..."
     ]
    },
    {
     "name": "stdout",
     "output_type": "stream",
     "text": [
      " done.\n",
      "Retrieving document from  https://arxiv.org/e-print/2403.04274\n"
     ]
    },
    {
     "name": "stdout",
     "output_type": "stream",
     "text": [
      "extracting tarball to tmp_2403.04274..."
     ]
    },
    {
     "name": "stdout",
     "output_type": "stream",
     "text": [
      " done.\n"
     ]
    },
    {
     "name": "stdout",
     "output_type": "stream",
     "text": [
      "H. Beuther  ->  H. Beuther  |  ['H. Beuther']\n"
     ]
    },
    {
     "name": "stdout",
     "output_type": "stream",
     "text": [
      "Found 68 bibliographic references in tmp_2403.04274/sample63.bbl.\n",
      "Retrieving document from  https://arxiv.org/e-print/2403.04355\n"
     ]
    },
    {
     "name": "stdout",
     "output_type": "stream",
     "text": [
      "extracting tarball to tmp_2403.04355..."
     ]
    },
    {
     "name": "stdout",
     "output_type": "stream",
     "text": [
      " done.\n"
     ]
    },
    {
     "name": "stdout",
     "output_type": "stream",
     "text": [
      "R. Launhardt  ->  R. Launhardt  |  ['R. Launhardt']\n"
     ]
    },
    {
     "name": "stdout",
     "output_type": "stream",
     "text": [
      "Found 49 bibliographic references in tmp_2403.04355/aanda.bbl.\n",
      "Retrieving document from  https://arxiv.org/e-print/2403.04386\n"
     ]
    },
    {
     "name": "stdout",
     "output_type": "stream",
     "text": [
      "extracting tarball to tmp_2403.04386..."
     ]
    },
    {
     "name": "stdout",
     "output_type": "stream",
     "text": [
      " done.\n"
     ]
    },
    {
     "name": "stderr",
     "output_type": "stream",
     "text": [
      "/tmp/ipykernel_2161/3009462391.py:49: LatexWarning: 2403.04386 did not run properly\n",
      "list index out of range\n",
      "  warnings.warn(latex.LatexWarning(f\"{paper_id:s} did not run properly\\n\" +\n"
     ]
    },
    {
     "name": "stdout",
     "output_type": "stream",
     "text": [
      "Retrieving document from  https://arxiv.org/e-print/2403.04439\n"
     ]
    },
    {
     "name": "stdout",
     "output_type": "stream",
     "text": [
      "extracting tarball to tmp_2403.04439... done.\n"
     ]
    },
    {
     "name": "stderr",
     "output_type": "stream",
     "text": [
      "/opt/hostedtoolcache/Python/3.9.18/x64/lib/python3.9/site-packages/arxiv_on_deck_2/latex.py:473: LatexWarning: Error parsing the document directly. Trying to recover.\n",
      "  warnings.warn(LatexWarning(f\"Error parsing the document directly. Trying to recover.\"))\n"
     ]
    },
    {
     "name": "stdout",
     "output_type": "stream",
     "text": [
      "✔ → 0:header\n",
      "  ↳ 4550:\\section{Introduction}\n"
     ]
    },
    {
     "name": "stdout",
     "output_type": "stream",
     "text": [
      "✔ → 4550:\\section{Introduction}\n",
      "  ↳ 14037:\\section{Numerical methodology}\\label{sec:methods}\n"
     ]
    },
    {
     "name": "stdout",
     "output_type": "stream",
     "text": [
      "✔ → 14037:\\section{Numerical methodology}\\label{sec:methods}\n",
      "  ↳ 32598:\\section{Properties of classic TI outbursts}\\label{sec:general}\n"
     ]
    },
    {
     "name": "stdout",
     "output_type": "stream",
     "text": [
      "✔ → 32598:\\section{Properties of classic TI outbursts}\\label{sec:general}\n",
      "  ↳ 57090:\\section{Thermal Instability in FUORs}\\label{sec:Unusual_fuors}\n"
     ]
    },
    {
     "name": "stdout",
     "output_type": "stream",
     "text": [
      "✔ → 57090:\\section{Thermal Instability in FUORs}\\label{sec:Unusual_fuors}\n",
      "  ↳ 72043:\\section{Discussion}\\label{sec:discussion}\n"
     ]
    },
    {
     "name": "stdout",
     "output_type": "stream",
     "text": [
      "✔ → 72043:\\section{Discussion}\\label{sec:discussion}\n",
      "  ↳ 98920:\\section{Conclusions}\n",
      "✔ → 98920:\\section{Conclusions}\n",
      "  ↳ 99973:\\section{Acknowledgement}\n",
      "✔ → 99973:\\section{Acknowledgement}\n",
      "  ↳ 100630:\\section{Data availability}\n",
      "✔ → 100630:\\section{Data availability}\n",
      "  ↳ 100778:\\section{Resolution study}\\label{sec:Resolution_Study}\n"
     ]
    },
    {
     "name": "stdout",
     "output_type": "stream",
     "text": [
      "✔ → 100778:\\section{Resolution study}\\label{sec:Resolution_Study}\n",
      "  ↳ 110457:end\n"
     ]
    },
    {
     "name": "stdout",
     "output_type": "stream",
     "text": [
      "Found 126 bibliographic references in tmp_2403.04439/TIP.bbl.\n",
      "syntax error in line 137: '=' expected\n",
      "Retrieving document from  https://arxiv.org/e-print/2403.04476\n"
     ]
    },
    {
     "name": "stdout",
     "output_type": "stream",
     "text": [
      "extracting tarball to tmp_2403.04476..."
     ]
    },
    {
     "name": "stdout",
     "output_type": "stream",
     "text": [
      " done.\n"
     ]
    },
    {
     "name": "stderr",
     "output_type": "stream",
     "text": [
      "/tmp/ipykernel_2161/3009462391.py:49: LatexWarning: 2403.04476 did not run properly\n",
      "Unable to locate Ghostscript on paths\n",
      "  warnings.warn(latex.LatexWarning(f\"{paper_id:s} did not run properly\\n\" +\n"
     ]
    }
   ],
   "source": [
    "documents = []\n",
    "failed = []\n",
    "for paper in tqdm(candidates):\n",
    "    paper_id = paper['identifier'].lower().replace('arxiv:', '')\n",
    "    \n",
    "    folder = f'tmp_{paper_id}'\n",
    "\n",
    "    try:\n",
    "        if not os.path.isdir(folder):\n",
    "            folder = retrieve_document_source(f\"{paper_id}\", f'tmp_{paper_id}')\n",
    "        \n",
    "        try:\n",
    "            doc = latex.LatexDocument(folder, validation=validation)    \n",
    "        except AffiliationError as affilerror:\n",
    "            msg = f\"ArXiv:{paper_id:s} is not an MPIA paper... \" + str(affilerror)\n",
    "            failed.append((paper, \"affiliation error: \" + str(affilerror) ))\n",
    "            continue\n",
    "        \n",
    "        # Hack because sometimes author parsing does not work well\n",
    "        if (len(doc.authors) != len(paper['authors'])):\n",
    "            doc._authors = paper['authors']\n",
    "        else:\n",
    "            # highlight authors (FIXME: doc.highlight_authors)\n",
    "            # done on arxiv paper already\n",
    "            doc._authors = highlight_authors_in_list(\n",
    "                [mpia.get_initials(k) for k in doc.authors], \n",
    "                normed_mpia_authors, verbose=True)\n",
    "        if (doc.abstract) in (None, ''):\n",
    "            doc._abstract = paper['abstract']\n",
    "            \n",
    "        doc.comment = (get_markdown_badge(paper_id) + \n",
    "                       \"<mark>Appeared on: \" + paper['date'] + \"</mark> - \")\n",
    "        if paper['comments']:\n",
    "            doc.comment += \" _\" + paper['comments'] + \"_\"\n",
    "        \n",
    "        full_md = doc.generate_markdown_text()\n",
    "        \n",
    "        full_md += get_markdown_qrcode(paper_id)\n",
    "        \n",
    "        # replace citations\n",
    "        try:\n",
    "            bibdata = latex_bib.LatexBib.from_doc(doc)\n",
    "            full_md = latex_bib.replace_citations(full_md, bibdata)\n",
    "        except Exception as e:\n",
    "            print(e)\n",
    "        \n",
    "        documents.append((paper_id, full_md))\n",
    "    except Exception as e:\n",
    "        warnings.warn(latex.LatexWarning(f\"{paper_id:s} did not run properly\\n\" +\n",
    "                                         str(e)\n",
    "                                        ))\n",
    "        failed.append((paper, \"latex error \" + str(e)))"
   ]
  },
  {
   "cell_type": "markdown",
   "id": "2505a25c",
   "metadata": {
    "papermill": {
     "duration": 0.004444,
     "end_time": "2024-03-08T04:10:34.378471",
     "exception": false,
     "start_time": "2024-03-08T04:10:34.374027",
     "status": "completed"
    },
    "tags": []
   },
   "source": [
    "### Export the logs\n",
    "\n",
    "Throughout, we also keep track of the logs per paper. see `logs-{today date}.md` "
   ]
  },
  {
   "cell_type": "code",
   "execution_count": 5,
   "id": "d733828a",
   "metadata": {
    "execution": {
     "iopub.execute_input": "2024-03-08T04:10:34.389485Z",
     "iopub.status.busy": "2024-03-08T04:10:34.388819Z",
     "iopub.status.idle": "2024-03-08T04:10:34.408574Z",
     "shell.execute_reply": "2024-03-08T04:10:34.407921Z"
    },
    "papermill": {
     "duration": 0.027182,
     "end_time": "2024-03-08T04:10:34.410146",
     "exception": false,
     "start_time": "2024-03-08T04:10:34.382964",
     "status": "completed"
    },
    "scrolled": false,
    "tags": []
   },
   "outputs": [
    {
     "data": {
      "text/markdown": [
       "## Successful papers"
      ],
      "text/plain": [
       "<IPython.core.display.Markdown object>"
      ]
     },
     "metadata": {},
     "output_type": "display_data"
    },
    {
     "data": {
      "text/markdown": [
       "\n",
       "|||\n",
       "|---:|:---|\n",
       "| [![arXiv](https://img.shields.io/badge/arXiv-arXiv:2403.04274-b31b1b.svg)](https://arxiv.org/abs/arXiv:2403.04274) | **Relative alignment between gas structures and magnetic field in Orion A  at different scales using different molecular gas tracers**  |\n",
       "|| W. Jiao, et al. -- incl., <mark>H. Beuther</mark> |\n",
       "|*Appeared on*| *2024-03-08*|\n",
       "|*Comments*| *11 pages, 8 figures, accepted for publication in A&A*|\n",
       "|**Abstract**| Context: Magnetic fields can play crucial roles in high-mass star formation. Nonetheless, the significance of magnetic fields at various scales and their relationship with gas structures is largely overlooked. Aims: Our goal is to examine the relationship between the magnetic field and molecular gas structures within the Orion A giant molecular cloud at different scales and density regimes. Methods: We assess the gas intensity structures and column densities in Orion A by utilizing $^{12}$CO, $^{13}$CO, and C$^{18}$O from Nobeyama observations. Through comparing Nobeyama observations with {\\it{Planck}} polarization observations on large scales ($\\sim0.6$ pc) and JCMT polarization observations on small scales ($\\sim0.04$ pc), we investigate how the role of magnetic fields change with scale and density. Results: We find a similar trend from parallel to perpendicular alignment with increasing column densities in Orion A at both large and small spatial scales. Besides, when changing from low-density to high-density tracers, the relative orientation preference changes from random to perpendicular. The self-similar results at different scales indicate that magnetic fields are dynamically important in both cloud formation and filament formation. However, magnetic fields properties at small scales are relative complicated, and the interplay between magnetic field and star-forming activities needs to be discussed case-by-case. |"
      ],
      "text/plain": [
       "[arXiv:2403.04274] Relative alignment between gas structures and magnetic field in Orion A  at different scales using different molecular gas tracers\n",
       "\tW. Jiao, et al. -- incl., <mark>H. Beuther</mark>"
      ]
     },
     "metadata": {},
     "output_type": "display_data"
    },
    {
     "data": {
      "text/markdown": [
       "\n",
       "|||\n",
       "|---:|:---|\n",
       "| [![arXiv](https://img.shields.io/badge/arXiv-arXiv:2403.04355-b31b1b.svg)](https://arxiv.org/abs/arXiv:2403.04355) | **VLBI detection of nearby (< 100 pc) young stars: Pilot observations**  |\n",
       "|| S. A. Dzib, L. Loinard, <mark>R. Launhardt</mark>, J. Ordóñez-Toro |\n",
       "|*Appeared on*| *2024-03-08*|\n",
       "|*Comments*| *Accepted for publication in A&A, 12 pages, 4 figures, 6 tables*|\n",
       "|**Abstract**| To increase the number of sources with Very Long Baseline Interferometry (VLBI) astrometry available for comparison with the Gaia results, we have observed 31 young stars with recently reported radio emission. These stars are all in the Gaia DR3 catalog and were suggested, on the basis of conventional interferometry observations, to be non-thermal radio emitters and, therefore, good candidates for VLBI detections. The observations were carried out with the Very Long Baseline Array (VLBA) at two epochs separated by a few days and yielded 10 detections (a $\\sim$30\\% detection rate). Using the astrometric Gaia results, we have extrapolated the target positions to the epochs of our radio observations and compared them with the position of the radio sources. For seven objects, the optical and radio positions are coincident within five times their combined position errors. Three targets, however, have position discrepancies above eight times the position errors, indicating different emitting sources at optical and radio wavelengths. In one case, the VLBA emission is very likely associated with a known companion of the primary target. In the other two cases, we associate the VLBA emission with previously unknown companions, but further observations will be needed to confirm this. |"
      ],
      "text/plain": [
       "[arXiv:2403.04355] VLBI detection of nearby (< 100 pc) young stars: Pilot observations\n",
       "\tS. A. Dzib, L. Loinard, <mark>R. Launhardt</mark>, J. Ordóñez-Toro"
      ]
     },
     "metadata": {},
     "output_type": "display_data"
    },
    {
     "data": {
      "text/markdown": [
       "\n",
       "|||\n",
       "|---:|:---|\n",
       "| [![arXiv](https://img.shields.io/badge/arXiv-arXiv:2403.04439-b31b1b.svg)](https://arxiv.org/abs/arXiv:2403.04439) | **Episodic eruptions of young accreting stars: the key role of disc  thermal instability due to Hydrogen ionisation**  |\n",
       "|| S. Nayakshin, et al. -- incl., <mark>A. Kospal</mark> |\n",
       "|*Appeared on*| *2024-03-08*|\n",
       "|*Comments*| *submitted to MNRAS; version taking referee's comments into account*|\n",
       "|**Abstract**| In the classical grouping of large magnitude episodic variability of young accreting stars, FUORs outshine their stars by a factor of $\\sim$ 100, and can last for up to centuries; EXORs are dimmer, and last months to a year. A disc Hydrogen ionisation Thermal Instability (TI) scenario was previously proposed for FUORs but required unrealistically low disc viscosity. In the last decade, many intermediate type objects, e.g., FUOR-like in luminosity and spectra but EXOR-like in duration were found. Here we show that the intermediate type bursters Gaia20eae, PTF14jg, Gaia19bey and Gaia21bty may be naturally explained by the TI scenario with realistic viscosity values. We argue that TI predicts a dearth (desert) of bursts with peak accretion rates between $\\dot M \\sim 10^{-6} M_\\odot$/yr and $\\dot M \\sim 10^{-5} M_\\odot$/yr, and that this desert is seen in the sample of all the bursters with previously determined $\\dot M$ burst. Most classic EXORs (FUORs) appear to be on the cold (hot) branch of the S-curve during the peak light of their eruptions; thus TI may play a role in this class differentiation. At the same time, TI is unable to explain how classic FUORs can last for up to centuries, and over-predicts the occurrence rate of short FUORs by at least an order of magnitude. We conclude that TI is a required ingredient of episodic accretion operating at R < 0.1 au, but additional physics must play a role at larger scales. Knowledge of TI inner workings from related disciplines may enable its use as a tool to constrain the nature of this additional physics. |"
      ],
      "text/plain": [
       "[arXiv:2403.04439] Episodic eruptions of young accreting stars: the key role of disc  thermal instability due to Hydrogen ionisation\n",
       "\tS. Nayakshin, et al. -- incl., <mark>A. Kospal</mark>"
      ]
     },
     "metadata": {},
     "output_type": "display_data"
    },
    {
     "data": {
      "text/markdown": [
       "## Failed papers"
      ],
      "text/plain": [
       "<IPython.core.display.Markdown object>"
      ]
     },
     "metadata": {},
     "output_type": "display_data"
    },
    {
     "data": {
      "text/markdown": [
       "\n",
       "|||\n",
       "|---:|:---|\n",
       "| [![arXiv](https://img.shields.io/badge/arXiv-arXiv:2403.04211-b31b1b.svg)](https://arxiv.org/abs/arXiv:2403.04211) | **Partial tidal disruption events: The elixir of life**  |\n",
       "|| <mark>M. Sharma</mark>, D. J. Price, A. Heger |\n",
       "|*Appeared on*| *2024-03-08*|\n",
       "|*Comments*| *22 pages, 27 figures, submitted to MNRAS, comments welcome*|\n",
       "|**Abstract**| In our Galactic Center, about 10,000 to 100,000 stars are estimated to have survived tidal disruption events, resulting in partially disrupted remnants. These events occur when a supermassive black hole (SMBH) tidally interacts with a star, but not enough to completely disrupt the star. We use the 1D stellar evolution code Kepler and the 3D smoothed particle hydrodynamics code Phantom to model the tidal disruption of 1, 3, and 10 solar mass stars at zero-age (ZAMS), middle-age (MAMS), and terminal-age main-sequence (TAMS). We map the disruption remnants into Kepler in order to understand their post-distribution evolution. We find distinct characteristics in the remnants, including increased radius, rapid core rotation, and differential rotation in the envelope. The remnants undergo composition mixing that affects their stellar evolution. Whereas the remnants formed by disruption of ZAMS models evolve similarly to unperturbed models of the same mass, for MAMS and TAMS stars, the remnants have higher luminosity and effective temperature. Potential observational signatures include peculiarities in nitrogen and carbon abundances, higher luminosity, rapid rotation, faster evolution, and unique tracks in the Hertzsprung-Russell diagram |\n",
       "|<p style=\"color:green\"> **ERROR** </p>| <p style=\"color:green\">affiliation error: mpia.affiliation_verifications: 'Heidelberg' keyword not found.</p> |"
      ],
      "text/plain": [
       "<IPython.core.display.Markdown object>"
      ]
     },
     "metadata": {},
     "output_type": "display_data"
    },
    {
     "data": {
      "text/markdown": [
       "\n",
       "|||\n",
       "|---:|:---|\n",
       "| [![arXiv](https://img.shields.io/badge/arXiv-arXiv:2403.04141-b31b1b.svg)](https://arxiv.org/abs/arXiv:2403.04141) | **VLBI Astrometry of Radio Stars to Link Radio and Optical Celestial  Reference Frames: Observing Strategies**  |\n",
       "|| J. Zhang, et al. -- incl., <mark>J. Li</mark> |\n",
       "|*Appeared on*| *2024-03-08*|\n",
       "|*Comments*| *9 pages, 4 figures, accepted for publication in the Monthly Notices of the Royal Astronomy Society (MNRAS)*|\n",
       "|**Abstract**| The Gaia celestial reference frame (Gaia-CRF) will benefit from a close assessment with independent methods, such as Very Long Baseline Interferometry (VLBI) measurements of radio stars at bright magnitudes. However, obtaining full astrometric parameters for each radio star through VLBI measurements demands a significant amount of observation time. This study proposes an efficient observing strategy that acquires double-epoch VLBI positions to measure the positions and proper motions of radio stars at a reduced cost. The solution for CRF link compatible with individual VLBI position measurements is introduced, and the optimized observing epoch scheduling is discussed. Applying this solution to observational data yields results sensitive to sample increase or decrease, yet they remain consistently in line with the literature at the 1-sigma level. This suggests the potential for improvement with a larger sample size. Simulations for adding observations demonstrate the double-epoch strategy reduces CRF link parameter uncertainties by over 30% compared to the five-parameter strategy. |\n",
       "|<p style=\"color:green\"> **ERROR** </p>| <p style=\"color:green\">affiliation error: mpia.affiliation_verifications: 'Planck' keyword not found.</p> |"
      ],
      "text/plain": [
       "<IPython.core.display.Markdown object>"
      ]
     },
     "metadata": {},
     "output_type": "display_data"
    },
    {
     "data": {
      "text/markdown": [
       "\n",
       "|||\n",
       "|---:|:---|\n",
       "| [![arXiv](https://img.shields.io/badge/arXiv-arXiv:2403.04476-b31b1b.svg)](https://arxiv.org/abs/arXiv:2403.04476) | **Star-spot activity, orbital obliquity, transmission spectrum, physical  properties, and TTVs of the HATS-2 planetary system**  |\n",
       "|| F. Biagiotti, et al. |\n",
       "|*Appeared on*| *2024-03-08*|\n",
       "|*Comments*| *23 pages, 21 figures, Accepted for publication in Astronomy & Astrophysics*|\n",
       "|**Abstract**| Our aim in this paper is to refine the orbital and physical parameters of the HATS-2 planetary system and study transit timing variations and atmospheric composition thanks to transit observations that span more than ten years and that were collected using different instruments and pass-band filters. We also investigate the orbital alignment of the system by studying the anomalies in the transit light curves induced by starspots on the photosphere of the parent star. We analysed new transit events from both ground-based telescopes and NASA's TESS mission. Anomalies were detected in most of the light curves and modelled as starspots occulted by the planet during transit events. We fitted the clean and symmetric light curves with the JKTEBOP code and those affected by anomalies with the PRISM+GEMC codes to simultaneously model the photometric parameters of the transits and the position, size, and contrast of each starspot. We found consistency between the values we found for the physical and orbital parameters and those from the discovery paper and ATLAS9 stellar atmospherical models. We identified different sets of consecutive starspot-crossing events that temporally occurred in less than five days. Under the hypothesis that we are dealing with the same starspots, occulted twice by the planet during two consecutive transits, we estimated the rotational period of the parent star and, in turn the projected and the true orbital obliquity of the planet. We find that the system is well aligned. We identified the possible presence of transit timing variations in the system, which can be caused by tidal orbital decay, and we derived a low-resolution transmission spectrum. |\n",
       "|<p style=\"color:red\"> **ERROR** </p>| <p style=\"color:red\">latex error Unable to locate Ghostscript on paths</p> |"
      ],
      "text/plain": [
       "<IPython.core.display.Markdown object>"
      ]
     },
     "metadata": {},
     "output_type": "display_data"
    },
    {
     "data": {
      "text/markdown": [
       "\n",
       "|||\n",
       "|---:|:---|\n",
       "| [![arXiv](https://img.shields.io/badge/arXiv-arXiv:2403.04386-b31b1b.svg)](https://arxiv.org/abs/arXiv:2403.04386) | **Emission lines due to ionizing radiation from a compact object in the  remnant of Supernova 1987A**  |\n",
       "|| C. Fransson, et al. -- incl., <mark>O. Krause</mark> |\n",
       "|*Appeared on*| *2024-03-08*|\n",
       "|*Comments*| *Authors version of manuscript published in Science on 22 Feb 2024*|\n",
       "|**Abstract**| The nearby Supernova 1987A was accompanied by a burst of neutrino emission, which indicates that a compact object (a neutron star or black hole) was formed in the explosion. There has been no direct observation of this compact object. In this work, we observe the supernova remnant with JWST spectroscopy finding narrow infrared emission lines of argon and sulphur. The line emission is spatially unresolved and blueshifted in velocity relative to the supernova rest frame. We interpret the lines as gas illuminated by a source of ionizing photons located close to the center of the expanding ejecta. Photoionization models show that the line ratios are consistent with ionization by a cooling neutron star or pulsar wind nebula. The velocity shift could be evidence for a neutron star natal kick. |\n",
       "|<p style=\"color:red\"> **ERROR** </p>| <p style=\"color:red\">latex error list index out of range</p> |"
      ],
      "text/plain": [
       "<IPython.core.display.Markdown object>"
      ]
     },
     "metadata": {},
     "output_type": "display_data"
    }
   ],
   "source": [
    "import datetime\n",
    "today = str(datetime.date.today())\n",
    "logfile = f\"_build/html/logs/log-{today}.md\"\n",
    "\n",
    "\n",
    "with open(logfile, 'w') as logs:\n",
    "    # Success\n",
    "    logs.write(f'# Arxiv on Deck 2: Logs - {today}\\n\\n')\n",
    "    logs.write(\"\"\"* Arxiv had {0:,d} new papers\\n\"\"\".format(len(new_papers)))\n",
    "    logs.write(\"\"\"    * {0:,d} with possible author matches\\n\\n\"\"\".format(len(candidates)))\n",
    "    logs.write(\"## Sucessful papers\\n\\n\")\n",
    "    display(Markdown(\"## Successful papers\"))\n",
    "    success = [k[0] for k in documents]\n",
    "    for candid in candidates:\n",
    "        if candid['identifier'].split(':')[-1] in success:\n",
    "            display(candid)\n",
    "            logs.write(candid.generate_markdown_text() + '\\n\\n')\n",
    "\n",
    "    ## failed\n",
    "    logs.write(\"## Failed papers\\n\\n\")\n",
    "    display(Markdown(\"## Failed papers\"))\n",
    "    failed = sorted(failed, key=lambda x: x[1])\n",
    "    current_reason = \"\"\n",
    "    for paper, reason in failed:\n",
    "        if 'affiliation' in reason:\n",
    "            color = 'green'\n",
    "        else:\n",
    "            color = 'red'\n",
    "        data = Markdown(\n",
    "                paper.generate_markdown_text() + \n",
    "                f'\\n|<p style=\"color:{color:s}\"> **ERROR** </p>| <p style=\"color:{color:s}\">{reason:s}</p> |'\n",
    "               )\n",
    "        if reason != current_reason:\n",
    "            logs.write(f'### {reason:s} \\n\\n')\n",
    "            current_reason = reason\n",
    "        logs.write(data.data + '\\n\\n')\n",
    "        \n",
    "        # only display here the important errors (all in logs)\n",
    "        # if color in ('red',):\n",
    "        display(data)"
   ]
  },
  {
   "cell_type": "markdown",
   "id": "472d20ee",
   "metadata": {
    "papermill": {
     "duration": 0.005319,
     "end_time": "2024-03-08T04:10:34.421008",
     "exception": false,
     "start_time": "2024-03-08T04:10:34.415689",
     "status": "completed"
    },
    "tags": []
   },
   "source": [
    "## Export documents\n",
    "\n",
    "We now write the .md files and export relevant images"
   ]
  },
  {
   "cell_type": "code",
   "execution_count": 6,
   "id": "d426aed9",
   "metadata": {
    "execution": {
     "iopub.execute_input": "2024-03-08T04:10:34.433637Z",
     "iopub.status.busy": "2024-03-08T04:10:34.432966Z",
     "iopub.status.idle": "2024-03-08T04:10:34.440149Z",
     "shell.execute_reply": "2024-03-08T04:10:34.439439Z"
    },
    "papermill": {
     "duration": 0.0153,
     "end_time": "2024-03-08T04:10:34.441690",
     "exception": false,
     "start_time": "2024-03-08T04:10:34.426390",
     "status": "completed"
    },
    "tags": []
   },
   "outputs": [],
   "source": [
    "def export_markdown_summary(md: str, md_fname:str, directory: str):\n",
    "    \"\"\"Export MD document and associated relevant images\"\"\"\n",
    "    import os\n",
    "    import shutil\n",
    "    import re\n",
    "\n",
    "    if (os.path.exists(directory) and not os.path.isdir(directory)):\n",
    "        raise RuntimeError(f\"a non-directory file exists with name {directory:s}\")\n",
    "\n",
    "    if (not os.path.exists(directory)):\n",
    "        print(f\"creating directory {directory:s}\")\n",
    "        os.mkdir(directory)\n",
    "\n",
    "    fig_fnames = (re.compile(r'\\[Fig.*\\]\\((.*)\\)').findall(md) + \n",
    "                  re.compile(r'\\<img src=\"([^>\\s]*)\"[^>]*/>').findall(md))\n",
    "    for fname in fig_fnames:\n",
    "        if 'http' in fname:\n",
    "            # No need to copy online figures\n",
    "            continue\n",
    "        destdir = os.path.join(directory, os.path.dirname(fname))\n",
    "        destfname = os.path.join(destdir, os.path.basename(fname))\n",
    "        try:\n",
    "            os.makedirs(destdir)\n",
    "        except FileExistsError:\n",
    "            pass\n",
    "        shutil.copy(fname, destfname)\n",
    "    with open(os.path.join(directory, md_fname), 'w') as fout:\n",
    "        fout.write(md)\n",
    "    print(\"exported in \", os.path.join(directory, md_fname))\n",
    "    [print(\"    + \" + os.path.join(directory,fk)) for fk in fig_fnames]"
   ]
  },
  {
   "cell_type": "code",
   "execution_count": 7,
   "id": "014d04a4",
   "metadata": {
    "execution": {
     "iopub.execute_input": "2024-03-08T04:10:34.454591Z",
     "iopub.status.busy": "2024-03-08T04:10:34.453976Z",
     "iopub.status.idle": "2024-03-08T04:10:34.511251Z",
     "shell.execute_reply": "2024-03-08T04:10:34.510536Z"
    },
    "papermill": {
     "duration": 0.065323,
     "end_time": "2024-03-08T04:10:34.512641",
     "exception": false,
     "start_time": "2024-03-08T04:10:34.447318",
     "status": "completed"
    },
    "tags": []
   },
   "outputs": [
    {
     "name": "stdout",
     "output_type": "stream",
     "text": [
      "exported in  _build/html/2403.04274.md\n",
      "    + _build/html/tmp_2403.04274/./OrionA_HRO.png\n",
      "    + _build/html/tmp_2403.04274/./OrionA_Xi_all.png\n",
      "    + _build/html/tmp_2403.04274/./OrionA_AM_all.png\n",
      "    + _build/html/tmp_2403.04274/./OMC1_HRO.png\n",
      "    + _build/html/tmp_2403.04274/./OMC1_Xi_all.png\n",
      "    + _build/html/tmp_2403.04274/./OMC1_AM_all.png\n",
      "    + _build/html/tmp_2403.04274/./OMC23_HRO.png\n",
      "    + _build/html/tmp_2403.04274/./OMC23_Xi_all.png\n",
      "    + _build/html/tmp_2403.04274/./OMC23_AM_all.png\n",
      "exported in  _build/html/2403.04355.md\n",
      "    + _build/html/tmp_2403.04355/./HD199143_VLA_VLBA_Gaia.png\n",
      "    + _build/html/tmp_2403.04355/./V875Per_VLA_VLBA_Gaia.png\n",
      "    + _build/html/tmp_2403.04355/./AILep_VLA_VLBA_Gaia.png\n",
      "    + _build/html/tmp_2403.04355/./HD22213_VLA_VLBA_Gaia.png\n",
      "    + _build/html/tmp_2403.04355/./HD285281_VLA_VLBA_Gaia.png\n",
      "    + _build/html/tmp_2403.04355/./HD62237_VLA_VLBA_Gaia.png\n",
      "    + _build/html/tmp_2403.04355/./SAO135659_VLA_VLBA_Gaia.png\n",
      "    + _build/html/tmp_2403.04355/./HD82159_VLA_VLBA_Gaia.png\n",
      "    + _build/html/tmp_2403.04355/./HD82558_VLA_VLBA_Gaia.png\n",
      "    + _build/html/tmp_2403.04355/./GJ4199_VLA_VLBA_Gaia.png\n",
      "    + _build/html/tmp_2403.04355/./HD22213_ffig1.png\n",
      "    + _build/html/tmp_2403.04355/./HD285281_ffig1.png\n",
      "    + _build/html/tmp_2403.04355/./AILEP_ffig1.png\n",
      "    + _build/html/tmp_2403.04355/./HD62237_ffig1.png\n",
      "exported in  _build/html/2403.04439.md\n",
      "    + _build/html/tmp_2403.04439/./Figures/Classic_TI_alphac_0.01.png\n",
      "    + _build/html/tmp_2403.04439/./Figures/Classic_TI_alphac_0.03.png\n",
      "    + _build/html/tmp_2403.04439/./Figures/Classic_TI_alphac_0.01_Mstar.png\n",
      "    + _build/html/tmp_2403.04439/./Figures/Sigma_Temp_TI_burst.png\n",
      "    + _build/html/tmp_2403.04439/./Figures/Scurve_BLin94_scaled_0_.png\n",
      "    + _build/html/tmp_2403.04439/./Figures/Scurve_BLin94_scaled_0_TCO_.png\n"
     ]
    }
   ],
   "source": [
    "for paper_id, md in documents:\n",
    "    export_markdown_summary(md, f\"{paper_id:s}.md\", '_build/html/')"
   ]
  },
  {
   "cell_type": "markdown",
   "id": "f087a0a7",
   "metadata": {
    "papermill": {
     "duration": 0.005676,
     "end_time": "2024-03-08T04:10:34.524143",
     "exception": false,
     "start_time": "2024-03-08T04:10:34.518467",
     "status": "completed"
    },
    "tags": []
   },
   "source": [
    "## Display the papers\n",
    "\n",
    "Not necessary but allows for a quick check."
   ]
  },
  {
   "cell_type": "code",
   "execution_count": 8,
   "id": "fd25f625",
   "metadata": {
    "execution": {
     "iopub.execute_input": "2024-03-08T04:10:34.536861Z",
     "iopub.status.busy": "2024-03-08T04:10:34.536308Z",
     "iopub.status.idle": "2024-03-08T04:10:34.544161Z",
     "shell.execute_reply": "2024-03-08T04:10:34.543562Z"
    },
    "papermill": {
     "duration": 0.015934,
     "end_time": "2024-03-08T04:10:34.545579",
     "exception": false,
     "start_time": "2024-03-08T04:10:34.529645",
     "status": "completed"
    },
    "scrolled": false,
    "tags": []
   },
   "outputs": [
    {
     "data": {
      "text/markdown": [
       "<div class=\"macros\" style=\"visibility:hidden;\">\n",
       "$\\newcommand{\\ensuremath}{}$\n",
       "$\\newcommand{\\xspace}{}$\n",
       "$\\newcommand{\\object}[1]{\\texttt{#1}}$\n",
       "$\\newcommand{\\farcs}{{.}''}$\n",
       "$\\newcommand{\\farcm}{{.}'}$\n",
       "$\\newcommand{\\arcsec}{''}$\n",
       "$\\newcommand{\\arcmin}{'}$\n",
       "$\\newcommand{\\ion}[2]{#1#2}$\n",
       "$\\newcommand{\\textsc}[1]{\\textrm{#1}}$\n",
       "$\\newcommand{\\hl}[1]{\\textrm{#1}}$\n",
       "$\\newcommand{\\footnote}[1]{}$</div>\n",
       "\n",
       "\n",
       "\n",
       "<div id=\"title\">\n",
       "\n",
       "# Relative alignment between gas structures and magnetic field in Orion A at different scales using different molecular gas tracers\n",
       "\n",
       "</div>\n",
       "<div id=\"comments\">\n",
       "\n",
       "[![arXiv](https://img.shields.io/badge/arXiv-2403.04274-b31b1b.svg)](https://arxiv.org/abs/2403.04274)<mark>Appeared on: 2024-03-08</mark> -  _11 pages, 8 figures, accepted for publication in A&A_\n",
       "\n",
       "</div>\n",
       "<div id=\"authors\">\n",
       "\n",
       "W. Jiao, et al. -- incl., <mark>H. Beuther</mark>\n",
       "\n",
       "</div>\n",
       "<div id=\"abstract\">\n",
       "\n",
       "**Abstract:** Magnetic fields can play crucial roles in high-mass star formation. Nonetheless, the significance of magnetic fields at various scales and their relationship with gas structures is largely overlooked. Our goal is to examine the relationship between the magnetic field and molecular gas structures within the Orion A giant molecular cloud at different scales and density regimes. We assess the gas intensity structures and column densities in Orion A by utilizing $^{12}$ CO, $^{13}$ CO, and C $^{18}$ O from Nobeyama observations. Through comparing Nobeyama observations with $_{Planck_}$ polarization observations on large scales ( $\\sim0.6$ pc) and JCMT polarization observations on small scales ( $\\sim0.04$ pc), we investigate how the role of magnetic fields change with scale and density. We find a similar trend from parallel to perpendicular alignment with increasing column densities in Orion A at both large and small spatial scales. Besides, when changing from low-density to high-density tracers, the relative orientation preference changes from random to perpendicular. The self-similar results at different scales indicate that magnetic fields are dynamically important in both cloud formation and filament formation. However, magnetic fields properties at small scales are relative complicated, and the interplay between magnetic field and star-forming activities needs to be discussed case-by-case.\n",
       "\n",
       "</div>\n",
       "\n",
       "<div id=\"div_fig1\">\n",
       "\n",
       "<img src=\"tmp_2403.04274/./OrionA_HRO.png\" alt=\"Fig4.1\" width=\"33%\"/><img src=\"tmp_2403.04274/./OrionA_Xi_all.png\" alt=\"Fig4.2\" width=\"33%\"/><img src=\"tmp_2403.04274/./OrionA_AM_all.png\" alt=\"Fig4.3\" width=\"33%\"/>\n",
       "\n",
       "**Figure 4. -** (**a**): Histogram of relative orientations between intensity structures for different tracers and magnetic field in the whole Orion A region. The red, green, blue solid lines represent the angle distribution in the lowest, medium, highest intensity bins.  (**b**): Histogram Shape Parameter calculated in different column density bins in the whole Orion A region. The red solid line is the optimal linear fitting results between $\\xi$ and column density. The gray area represents the 1$\\sigma$ confidence interval of the fitted line. (**c**): The same as (**b**), but for the relation between AM and column density. (*fig:OrionA*)\n",
       "\n",
       "</div>\n",
       "<div id=\"div_fig2\">\n",
       "\n",
       "<img src=\"tmp_2403.04274/./OMC1_HRO.png\" alt=\"Fig5.1\" width=\"33%\"/><img src=\"tmp_2403.04274/./OMC1_Xi_all.png\" alt=\"Fig5.2\" width=\"33%\"/><img src=\"tmp_2403.04274/./OMC1_AM_all.png\" alt=\"Fig5.3\" width=\"33%\"/>\n",
       "\n",
       "**Figure 5. -** Same as Fig. \\ref{fig:OrionA}, but for the relative orientation in OMC-1. (*fig:OMC1*)\n",
       "\n",
       "</div>\n",
       "<div id=\"div_fig3\">\n",
       "\n",
       "<img src=\"tmp_2403.04274/./OMC23_HRO.png\" alt=\"Fig6.1\" width=\"33%\"/><img src=\"tmp_2403.04274/./OMC23_Xi_all.png\" alt=\"Fig6.2\" width=\"33%\"/><img src=\"tmp_2403.04274/./OMC23_AM_all.png\" alt=\"Fig6.3\" width=\"33%\"/>\n",
       "\n",
       "**Figure 6. -** Same as Fig. \\ref{fig:OrionA}, but for the relative orientation in OMC-2/3. (*fig:OMC2/3*)\n",
       "\n",
       "</div><div id=\"qrcode\"><img src=https://api.qrserver.com/v1/create-qr-code/?size=100x100&data=\"https://arxiv.org/abs/2403.04274\"></div>"
      ],
      "text/plain": [
       "<IPython.core.display.Markdown object>"
      ]
     },
     "metadata": {},
     "output_type": "display_data"
    },
    {
     "data": {
      "text/markdown": [
       "<div class=\"macros\" style=\"visibility:hidden;\">\n",
       "$\\newcommand{\\ensuremath}{}$\n",
       "$\\newcommand{\\xspace}{}$\n",
       "$\\newcommand{\\object}[1]{\\texttt{#1}}$\n",
       "$\\newcommand{\\farcs}{{.}''}$\n",
       "$\\newcommand{\\farcm}{{.}'}$\n",
       "$\\newcommand{\\arcsec}{''}$\n",
       "$\\newcommand{\\arcmin}{'}$\n",
       "$\\newcommand{\\ion}[2]{#1#2}$\n",
       "$\\newcommand{\\textsc}[1]{\\textrm{#1}}$\n",
       "$\\newcommand{\\hl}[1]{\\textrm{#1}}$\n",
       "$\\newcommand{\\footnote}[1]{}$\n",
       "$\\newcommand{\\rahms}[4]{#1^{\\rm h}#2^{\\rm m}#3\\mbox{^{\\rm s}\\mskip-7.6mu. }#4}$\n",
       "$\\newcommand{\\decdms}[4]{#1^{\\circ}#2'#3\\mbox{\"\\mskip-7.6mu. }#4}$\n",
       "$\\newcommand{\\msec}[2]{#1\\mbox{\"\\mskip-7.6mu. }#2}$\n",
       "$\\newcommand{\\arraystretch}{1.3}$\n",
       "$\\newcommand{\\arraystretch}{1.0}$\n",
       "$\\newcommand{\\arraystretch}{1.25}$\n",
       "$\\newcommand{\\arraystretch}{1.3}$\n",
       "$\\newcommand{\\arraystretch}{1.0}$\n",
       "$\\newcommand{\\arraystretch}{1.0}$</div>\n",
       "\n",
       "\n",
       "\n",
       "<div id=\"title\">\n",
       "\n",
       "# VLBI detection of nearby ($<100$ pc) young stars    \n",
       "\n",
       "</div>\n",
       "<div id=\"comments\">\n",
       "\n",
       "[![arXiv](https://img.shields.io/badge/arXiv-2403.04355-b31b1b.svg)](https://arxiv.org/abs/2403.04355)<mark>Appeared on: 2024-03-08</mark> -  _Accepted for publication in A&A, 12 pages, 4 figures, 6 tables_\n",
       "\n",
       "</div>\n",
       "<div id=\"authors\">\n",
       "\n",
       "S. A. Dzib, L. Loinard, <mark>R. Launhardt</mark>, J. Ordóñez-Toro\n",
       "\n",
       "</div>\n",
       "<div id=\"abstract\">\n",
       "\n",
       "**Abstract:** To increase the number of sources with Very Long Baseline  Interferometry (VLBI) astrometry available for comparison with the $_ Gaia_$ results,  we have observed 31 young stars with recently reported radio emission.  These stars are all in the $_ Gaia_$ DR3 catalog and were suggested, on the basis on conventional interferometry observations, to be non-thermal radio emitters and, therefore, good candidates for VLBI detections. The observations were carried out with the Very Long Baseline Array (VLBA) at two epochs separated by a few days and yielded 10 detections (a $\\sim30$ \\% detection rate).  Using the astrometric $_ Gaia_$ results,  we have extrapolated the target positions to the epochs of our radio observations  and compared them with the position of the radio sources.  For seven objects, the optical and radio positions are coincident within five times their combined position errors. Three targets, however, have position discrepancies  above eight times the position errors, indicating different emitting sources at optical and radio wavelengths. In one case, the VLBA emission is very likely associated with a known companion of the primary target. In the other two cases, we associate the VLBA emission with previously unknown companions, but further observations will be needed to confirm this.\n",
       "\n",
       "</div>\n",
       "\n",
       "<div id=\"div_fig1\">\n",
       "\n",
       "<img src=\"tmp_2403.04355/./HD199143_VLA_VLBA_Gaia.png\" alt=\"Fig1\" width=\"100%\"/>\n",
       "\n",
       "**Figure 1. -** Positions of radio and optical sources related to HD 199143.\n",
       "The red star indicates the position of the radio source in the first\n",
       "detected epoch by the VLBA observations. The Cyan dashed line indicates the optical trajectory of the primary component of the HD 199143 stellar\n",
       "system from 2016.0\n",
       "to the epoch of detection of the radio source with the VLBA. The optical position\n",
       "of the star at the VLBA observed epoch is indicated with the cyan square.\n",
       "The blue square indicates the position of the secondary, HD 199143 B, whose absolute coordinates are unknown; coordinates relative to the primary from the WDS catalog are used to estimate the absolute position.\n",
       "_ Gaia_ DR3 and VLBA position errors are smaller than the symbol sizes.\n",
       "The black line is the trajectory followed by the radio source detected\n",
       "with the VLA  ([Launhardt, Loinard and Dzib 2022]()) , assuming the derived astrometry at\n",
       "optical wavelengths, from the VLA observed epoch\n",
       "to the VLBA observed epoch. The black square indicates the\n",
       "extrapolated position of the VLA radio source at the epoch of the VLBA\n",
       "detection. The black cross size indicates the VLA positional error.\n",
       " (*fig:VVG*)\n",
       "\n",
       "</div>\n",
       "<div id=\"div_fig2\">\n",
       "\n",
       "<img src=\"tmp_2403.04355/./V875Per_VLA_VLBA_Gaia.png\" alt=\"Fig6.1\" width=\"11%\"/><img src=\"tmp_2403.04355/./AILep_VLA_VLBA_Gaia.png\" alt=\"Fig6.2\" width=\"11%\"/><img src=\"tmp_2403.04355/./HD22213_VLA_VLBA_Gaia.png\" alt=\"Fig6.3\" width=\"11%\"/><img src=\"tmp_2403.04355/./HD285281_VLA_VLBA_Gaia.png\" alt=\"Fig6.4\" width=\"11%\"/><img src=\"tmp_2403.04355/./HD62237_VLA_VLBA_Gaia.png\" alt=\"Fig6.5\" width=\"11%\"/><img src=\"tmp_2403.04355/./SAO135659_VLA_VLBA_Gaia.png\" alt=\"Fig6.6\" width=\"11%\"/><img src=\"tmp_2403.04355/./HD82159_VLA_VLBA_Gaia.png\" alt=\"Fig6.7\" width=\"11%\"/><img src=\"tmp_2403.04355/./HD82558_VLA_VLBA_Gaia.png\" alt=\"Fig6.8\" width=\"11%\"/><img src=\"tmp_2403.04355/./GJ4199_VLA_VLBA_Gaia.png\" alt=\"Fig6.9\" width=\"11%\"/>\n",
       "\n",
       "**Figure 6. -** Positions of radio and optical sources related to our target sources.\n",
       "The name of source is indicated at the top of each plot.\n",
       "Red stars indicate the position of the radio source in the first\n",
       "detected epoch by the VLBA observations.\n",
       "The black line is the trajectory followed by the radio source detected\n",
       "with the VLA  ([Launhardt, Loinard and Dzib 2022]()) , assuming the derived astrometry at\n",
       "optical wavelengths (see Table \\ref{tab:am}) from the VLA observed epoch\n",
       "to the VLBA observed epoch. The black square indicates the\n",
       "extrapolated position of the VLA radio source at the epoch of the VLBA\n",
       "detection. The black cross size indicates the VLA positional error.\n",
       "Cyan line indicates the trajectory of the optical results from 2016.0\n",
       "to the epoch of detection of the radio source with the VLBA, the position\n",
       "of the optical source at this epoch is indicated with the cyan square. _ Gaia_ DR3 and VLBA\n",
       "position errors are smaller than the symbol sizes. Companion relative positions are shown\n",
       "as blue squares. (*fig:AmP*)\n",
       "\n",
       "</div>\n",
       "<div id=\"div_fig3\">\n",
       "\n",
       "<img src=\"tmp_2403.04355/./HD22213_ffig1.png\" alt=\"Fig3.1\" width=\"25%\"/><img src=\"tmp_2403.04355/./HD285281_ffig1.png\" alt=\"Fig3.2\" width=\"25%\"/><img src=\"tmp_2403.04355/./AILEP_ffig1.png\" alt=\"Fig3.3\" width=\"25%\"/><img src=\"tmp_2403.04355/./HD62237_ffig1.png\" alt=\"Fig3.4\" width=\"25%\"/>\n",
       "\n",
       "**Figure 3. -** VLBA images of detected radio sources. The images are centered in the position of the radio source as detected in the first epoch (see Table \\ref{tab:am}). The name of the stellar source related to the radio sources is labeled in the top-left corner. Images from\n",
       "left to right correspond to the epochs 1, 2, and the combination of both epochs. Contour levels are -3, 3, 6, 9, 12, and 15 times the noise level of the image as listed in Table \\ref{tab:Imr}. The\n",
       "yellow open ellipse in the bottom-left corner represents the size of the synthesized beam of the image as listed in Table \\ref{tab:Imr}. The predicted optical position in epochs 1, and 2 are shown as red and cyan crosses, respectively. For HD 62237 and SAO 135659, these positions fall outside the region shown. (*fig:NF2*)\n",
       "\n",
       "</div><div id=\"qrcode\"><img src=https://api.qrserver.com/v1/create-qr-code/?size=100x100&data=\"https://arxiv.org/abs/2403.04355\"></div>"
      ],
      "text/plain": [
       "<IPython.core.display.Markdown object>"
      ]
     },
     "metadata": {},
     "output_type": "display_data"
    },
    {
     "data": {
      "text/markdown": [
       "<div class=\"macros\" style=\"visibility:hidden;\">\n",
       "$\\newcommand{\\ensuremath}{}$\n",
       "$\\newcommand{\\xspace}{}$\n",
       "$\\newcommand{\\object}[1]{\\texttt{#1}}$\n",
       "$\\newcommand{\\farcs}{{.}''}$\n",
       "$\\newcommand{\\farcm}{{.}'}$\n",
       "$\\newcommand{\\arcsec}{''}$\n",
       "$\\newcommand{\\arcmin}{'}$\n",
       "$\\newcommand{\\ion}[2]{#1#2}$\n",
       "$\\newcommand{\\textsc}[1]{\\textrm{#1}}$\n",
       "$\\newcommand{\\hl}[1]{\\textrm{#1}}$\n",
       "$\\newcommand{\\footnote}[1]{}$\n",
       "$\\newcommand$\n",
       "$\\newcommand$\n",
       "$\\newcommand$\n",
       "$\\newcommand$\n",
       "$\\newcommand$\n",
       "$\\newcommand{\\avc}[1]{\\textcolor{magenta}{\\textit{[\\small #1]}}}$\n",
       "$\\newcommand{\\bref}[1]{{ #1}}$\n",
       "$\\newcommand$\n",
       "$\\newcommand$\n",
       "$\\newcommand$\n",
       "$\\newcommand$\n",
       "$\\newcommand$\n",
       "$\\newcommand{\\lsun}{{\\rm L_{\\odot}}}$\n",
       "$\\newcommand{\\msun}{{\\rm M_{\\odot}}}$\n",
       "$\\newcommand{\\lta}{\\la}$\n",
       "$\\newcommand{\\gta}{\\ga}$\n",
       "$\\newcommand{\\be}{\\begin{equation}}$\n",
       "$\\newcommand{\\ee}{\\end{equation}}$\n",
       "$\\newcommand{\\le}{{L_{\\rm Edd}}}$\n",
       "$\\newcommand{\\rp}{{R_{\\rm ph}}}$\n",
       "$\\newcommand{\\rs}{{R_{\\rm s}}}$\n",
       "$\\newcommand{\\mo}{{\\dot M_{\\rm out}}}$\n",
       "$\\newcommand{\\me}{{\\dot M_{\\rm Edd}}}$\n",
       "$\\newcommand{\\tc}{{t_{\\rm C}}}$\n",
       "$\\newcommand{\\rc}{{R_{\\rm core}}}$\n",
       "$\\newcommand{\\mc}{{M_{\\rm core}}}$\n",
       "$\\newcommand{\\mbh}{{M_{\\rm BH}}}$\n",
       "$\\newcommand{\\e}{{\\dot m_{\\rm E}}}$\n",
       "$\\newcommand{\\sgra}{Sgr~A^*}$\n",
       "$\\newcommand\\del{#1}{ }$\n",
       "$\\newcommand\\SNc{#1}{\\textcolor{red}{#1}}$\n",
       "$\\newcommand\\mearth{{ {\\rm M}_{\\oplus}}}$\n",
       "$\\newcommand\\mj{{ {\\rm M}_{\\rm J}}}$\n",
       "$\\newcommand\\rj{{ {\\rm R}_{\\rm J}}}$\n",
       "$\\newcommand\\St{ {\\rm St}}$\n",
       "$\\newcommand{\\avc}[1]{\\textcolor{magenta}{\\textit{[\\small #1]}}}$\n",
       "$\\newcommand\\av{#1}{\\textcolor{blue}{#1}}$\n",
       "$\\newcommand\\SNc{#1}{\\textcolor{red}{#1}}$\n",
       "$\\newcommand{\\bref}[1]{{ #1}}$\n",
       "$\\newcommand\\MSunPerYear{~{\\rm M_{\\odot}}~yr^{-1} }$\n",
       "$\\newcommand\\target{Gaia20eae}$\n",
       "$\\newcommand\\konkoly{Konkoly Observatory, Research Centre for Astronomy and Earth Sciences,\\\\Eötvös Loránd Research Network (ELKH), Konkoly-Thege Miklós út 15--17, 1121 Budapest, Hungary}$\n",
       "$\\newcommand\\elte{ELTE Eötvös Loránd University, Institute of Physics, Pázmány Péter sétány 1/A, \\ 1117 Budapest, Hungary}$\n",
       "$\\newcommand\\heidelberg{Max Planck Institute for Astronomy, Königstuhl 17, 69117 Heidelberg, Germany}$\n",
       "$\\title[Thermal Instability and episodic accretion]{Episodic eruptions of young accreting stars: the key role of disc thermal instability due to Hydrogen ionisation.}$\n",
       "$\\author[Nayakshin et al.]{Sergei Nayakshin^{1 \\orcidlink{0000-0002-6166-2206}}\\thanks{sergei.nayakshin@le.ac.uk}, Fernando Cruz Sáenz de Miera^{2,3,4 \\orcidlink{0000-0002-4283-2185}},$\n",
       "$Ágnes Kóspál^{4,5,6 \\orcidlink{0000-0001-7157-6275}},$\n",
       "$\\newauthor$\n",
       "$Aleksandra \\'{C}alovi\\'{c}^{1},$\n",
       "$Jochen Eislöffel^{7} and Douglas N.C. Lin^{8,9}$\n",
       "$\\ ^{1}School of Physics and Astronomy, University of$\n",
       "$  Leicester, Leicester, LE1 7RH, UK. \\ ^2 Institut de Recherche en Astrophysique et Planétologie, Université de$\n",
       "$Toulouse, UT3-PS, CNRS, CNES, 9 av. du Colonel Roche, \\ 31028 Toulouse Cedex 4, France \\ ^3\\konkoly\\ ^4 CSFK, MTA Centre of Excellence, Konkoly-Thege Miklós út 15-17, 1121 Budapest, Hungary\\ ^5 \\elte\\ ^6 \\heidelberg\\ ^7 Thüringer Landessternwarte Tautenburg, Sternwarte 5, 07778 Tautenburg, Germany\\ ^8 Department of Astronomy \\& Astrophysics, University of California, Santa Cruz, CA 95064, USA\\ ^9 Institute for Advanced Studies, Tsinghua University, Being 100084, China$\n",
       "$}$\n",
       "$\\date{Accepted XXX. Received YYY; in original form ZZZ}$\n",
       "$\\pubyear{2023}$\n",
       "$\\begin{document}$\n",
       "$\\label{firstpage}$\n",
       "$\\pagerange{\\pageref{firstpage}--\\pageref{lastpage}}$\n",
       "$\\maketitle$\n",
       "$\\begin{abstract}$\n",
       "$In the classical grouping of large magnitude episodic variability of young accreting stars, FUORs outshine their stars by a factor of \\sim 100, and can last for up to centuries; EXORs are dimmer, and last months to a year. A disc Hydrogen ionisation Thermal Instability (TI) scenario was previously proposed for FUORs but required \\bref{unrealistically low} disc viscosity. In the last decade, many intermediate type objects, e.g., FUOR-like in luminosity and spectra but EXOR-like in duration were found.  Here we show that the intermediate type bursters Gaia20eae, PTF14jg, Gaia19bey and Gaia21bty \\bref{may be naturally explained} by the TI scenario with realistic viscosity values.  We argue that TI predicts a dearth (desert) of bursts with \\bref{peak} accretion rates between 10^{-6}\\MSunPerYear  \\lesssim \\dot M_{\\rm burst} \\lesssim 10^{-5}\\MSunPerYear, and that this desert is seen in the sample of all the bursters with previously determined \\dot M_{\\rm burst}. Most classic EXORs (FUORs) appear to be on the cold (hot) branch of the S-curve during the peak light of their eruptions; \\bref{thus TI may play a role in this class differentiation}.$\n",
       "$At the same time, TI is unable to explain how classic FUORs can last for up to centuries, \\bref{and over-predicts the occurrence rate of short FUORs by at least an order of magnitude}. We conclude that TI is a required ingredient of episodic accretion operating at R\\lesssim 0.1~au, but additional physics must play a role at larger scales. \\bref{Knowledge of TI inner workings from related disciplines may enable its use as a tool to constrain the nature of this additional physics.}$\n",
       "$\\end{abstract}$\n",
       "$\\begin{keywords}$\n",
       "$stars:formation -- stars: protostars -- protoplanetary discs$\n",
       "$\\end{keywords}$\n",
       "$\\n\\end{document}\\end{equation}}$\n",
       "$\\newcommand{\\ee}{\\end{equation}}$\n",
       "$\\newcommand{\\le}{{L_{\\rm Edd}}}$\n",
       "$\\newcommand{\\rp}{{R_{\\rm ph}}}$\n",
       "$\\newcommand{\\rs}{{R_{\\rm s}}}$\n",
       "$\\newcommand{\\mo}{{\\dot M_{\\rm out}}}$\n",
       "$\\newcommand{\\me}{{\\dot M_{\\rm Edd}}}$\n",
       "$\\newcommand{\\tc}{{t_{\\rm C}}}$\n",
       "$\\newcommand{\\rc}{{R_{\\rm core}}}$\n",
       "$\\newcommand{\\mc}{{M_{\\rm core}}}$\n",
       "$\\newcommand{\\mbh}{{M_{\\rm BH}}}$\n",
       "$\\newcommand{\\e}{{\\dot m_{\\rm E}}}$\n",
       "$\\newcommand{\\sgra}{Sgr~A^*}$\n",
       "$\\newcommand\\del{#1}$\n",
       "$\\newcommand\\SNc{#1}$\n",
       "$\\newcommand\\av{#1}$\n",
       "$\\newcommand\\SNc{#1}$</div>\n",
       "\n",
       "\n",
       "\n",
       "<div id=\"title\">\n",
       "\n",
       "# Episodic eruptions of young accreting stars: the key role of disc thermal instability due to Hydrogen ionisation.\n",
       "\n",
       "</div>\n",
       "<div id=\"comments\">\n",
       "\n",
       "[![arXiv](https://img.shields.io/badge/arXiv-2403.04439-b31b1b.svg)](https://arxiv.org/abs/2403.04439)<mark>Appeared on: 2024-03-08</mark> -  _submitted to MNRAS; version taking referee's comments into account_\n",
       "\n",
       "</div>\n",
       "<div id=\"authors\">\n",
       "\n",
       "S. Nayakshin, et al. -- incl., <mark>A. Kospal</mark>\n",
       "\n",
       "</div>\n",
       "<div id=\"abstract\">\n",
       "\n",
       "**Abstract:** In the classical grouping of large magnitude episodic variability of young accreting stars, FUORs outshine their stars by a factor of $\\sim 100$ , and can last for up to centuries; EXORs are dimmer, and last months to a year. A disc Hydrogen ionisation Thermal Instability (TI) scenario was previously proposed for FUORs but required $\\bref{unrealistically low}$ disc viscosity. In the last decade, many intermediate type objects, e.g., FUOR-like in luminosity and spectra but EXOR-like in duration were found.  Here we show that the intermediate type bursters Gaia20eae, PTF14jg, Gaia19bey and Gaia21bty $\\bref{may be naturally explained}$ by the TI scenario with realistic viscosity values.  We argue that TI predicts a dearth (desert) of bursts with $\\bref{peak}$ accretion rates between $10^{-6}$ $\\MSunPerYear$ $\\lesssim \\dot M_{\\rm burst} \\lesssim 10^{-5}$ $\\MSunPerYear$ , and that this desert is seen in the sample of all the bursters with previously determined $\\dot M_{\\rm burst}$ . Most classic EXORs (FUORs) appear to be on the cold (hot) branch of the S-curve during the peak light of their eruptions; $\\bref{thus TI may play a role in this class differentiation}$ .At the same time, TI is unable to explain how classic FUORs can last for up to centuries, $\\bref{and over-predicts the occurrence rate of short FUORs by at least an order of magnitude}$ . We conclude that TI is a required ingredient of episodic accretion operating at $R\\lesssim 0.1$ au, but additional physics must play a role at larger scales. $\\bref{Knowledge of TI inner workings from related disciplines may enable its use as a tool to constrain the nature of this additional physics.}$\n",
       "\n",
       "</div>\n",
       "\n",
       "<div id=\"div_fig1\">\n",
       "\n",
       "<img src=\"tmp_2403.04439/./Figures/Classic_TI_alphac_0.01.png\" alt=\"Fig1.1\" width=\"33%\"/><img src=\"tmp_2403.04439/./Figures/Classic_TI_alphac_0.03.png\" alt=\"Fig1.2\" width=\"33%\"/><img src=\"tmp_2403.04439/./Figures/Classic_TI_alphac_0.01_Mstar.png\" alt=\"Fig1.3\" width=\"33%\"/>\n",
       "\n",
       "**Figure 1. -** Top: Stellar accretion rate history for five different feeding rates and $\\alpha_{\\rm c} =0.01$, $M_* = 1.15  $\\msun$$. Middle: Same but for $\\alpha_{\\rm c} = 0.03$. Bottom: Similar to the above but for a fixed $\\dot M_{\\rm feed} = 1.6\\times 10^{-6}$\\MSunPerYear, $\\alpha_{\\rm c} = 0.03$, and several values of $M_*$. Please note that the time axis is different for the three panels. For further detail and discussion see \\S\\ref{sec:param_space}. (*fig:Lots_of_bursts*)\n",
       "\n",
       "</div>\n",
       "<div id=\"div_fig2\">\n",
       "\n",
       "<img src=\"tmp_2403.04439/./Figures/Sigma_Temp_TI_burst.png\" alt=\"Fig11\" width=\"100%\"/>\n",
       "\n",
       "**Figure 11. -** Snapshots of the inner disc just before and during one burst of the classic TI corresponding to the blue curve in the middle panel of Fig. \\ref{fig:Lots_of_bursts}. The purple dashed lines in the top left panel show the critical disc surface densities (cf. the left panel of Fig. \\ref{fig:S-Curve} and eq. 11) on the S-curve as a function of radius. The upper curve corresponds to $\\Sigma_{\\rm max}$ and the lower one to $\\Sigma_{\\rm min}$. Above $\\Sigma_{\\rm max}$ the TI is triggered and the disc travels to the hot (ionised H) stable branch of the S-curve, whereas below $\\Sigma_{\\rm min}$ the disc falls back to the cold neutral H branch. Note that the instability trigger occurs close to the star and is very rapid. The maximum extent of the TI-affected region is $R_{\\rm TI} \\sim 0.15$ au. The legend shows the respective times for each snapshot. (*fig:Classic_TI_Sigma_T*)\n",
       "\n",
       "</div>\n",
       "<div id=\"div_fig3\">\n",
       "\n",
       "<img src=\"tmp_2403.04439/./Figures/Scurve_BLin94_scaled_0_.png\" alt=\"Fig8.1\" width=\"50%\"/><img src=\"tmp_2403.04439/./Figures/Scurve_BLin94_scaled_0_TCO_.png\" alt=\"Fig8.2\" width=\"50%\"/>\n",
       "\n",
       "**Figure 8. -** Left: Equilibrium $\\dot M$ vs disc column depth, $\\Sigma$, for the Bell \\& Lin (1994) opacities,  mass $M_* =0.6$\\msun$$, fixed $\\alpha=0.01$ and various values of radius $R$. Two critical points where the instability sets in are marked with arrows for $R=0.04$ au curve. This disc annulus is unstable to TI if the long-term feeding rate $\\dot M_{\\rm feed}$ is between $\\dot M_{\\rm max}$ and $\\dot M_{\\rm min}$. Right: the same S-curves but with the central (midplane) disc temperature on the vertical axis. See text in \\S\\ref{sec:scaling} for details. (*fig:S-Curve*)\n",
       "\n",
       "</div><div id=\"qrcode\"><img src=https://api.qrserver.com/v1/create-qr-code/?size=100x100&data=\"https://arxiv.org/abs/2403.04439\"></div>"
      ],
      "text/plain": [
       "<IPython.core.display.Markdown object>"
      ]
     },
     "metadata": {},
     "output_type": "display_data"
    }
   ],
   "source": [
    "[display(Markdown(k[1])) for k in documents];"
   ]
  },
  {
   "cell_type": "markdown",
   "id": "873873a4",
   "metadata": {
    "papermill": {
     "duration": 0.006219,
     "end_time": "2024-03-08T04:10:34.558127",
     "exception": false,
     "start_time": "2024-03-08T04:10:34.551908",
     "status": "completed"
    },
    "tags": []
   },
   "source": [
    "# Create HTML index"
   ]
  },
  {
   "cell_type": "code",
   "execution_count": 9,
   "id": "cf665672",
   "metadata": {
    "execution": {
     "iopub.execute_input": "2024-03-08T04:10:34.572039Z",
     "iopub.status.busy": "2024-03-08T04:10:34.571523Z",
     "iopub.status.idle": "2024-03-08T04:10:34.582384Z",
     "shell.execute_reply": "2024-03-08T04:10:34.581706Z"
    },
    "papermill": {
     "duration": 0.019455,
     "end_time": "2024-03-08T04:10:34.583780",
     "exception": false,
     "start_time": "2024-03-08T04:10:34.564325",
     "status": "completed"
    },
    "tags": []
   },
   "outputs": [
    {
     "name": "stdout",
     "output_type": "stream",
     "text": [
      "382  publications files modified in the last 7 days.\n"
     ]
    }
   ],
   "source": [
    "from datetime import datetime, timedelta, timezone\n",
    "from glob import glob\n",
    "import os\n",
    "\n",
    "files = glob('_build/html/*.md')\n",
    "days = 7\n",
    "now = datetime.today()\n",
    "res = []\n",
    "for fk in files:\n",
    "    stat_result = os.stat(fk).st_ctime\n",
    "    modified = datetime.fromtimestamp(stat_result, tz=timezone.utc).replace(tzinfo=None)\n",
    "    delta = now.today() - modified\n",
    "    if delta <= timedelta(days=days):\n",
    "        res.append((delta.seconds, fk))\n",
    "res = [k[1] for k in reversed(sorted(res, key=lambda x:x[1]))]\n",
    "npub = len(res)\n",
    "print(len(res), f\" publications files modified in the last {days:d} days.\")\n",
    "# [ print('\\t', k) for k in res ];"
   ]
  },
  {
   "cell_type": "code",
   "execution_count": 10,
   "id": "015de740",
   "metadata": {
    "execution": {
     "iopub.execute_input": "2024-03-08T04:10:34.598452Z",
     "iopub.status.busy": "2024-03-08T04:10:34.597937Z",
     "iopub.status.idle": "2024-03-08T04:10:34.621265Z",
     "shell.execute_reply": "2024-03-08T04:10:34.620516Z"
    },
    "papermill": {
     "duration": 0.032447,
     "end_time": "2024-03-08T04:10:34.622773",
     "exception": false,
     "start_time": "2024-03-08T04:10:34.590326",
     "status": "completed"
    },
    "tags": []
   },
   "outputs": [
    {
     "name": "stdout",
     "output_type": "stream",
     "text": [
      "5  publications in the last 7 days.\n"
     ]
    }
   ],
   "source": [
    "import datetime\n",
    "from glob import glob\n",
    "\n",
    "def get_last_n_days(lst, days=1):\n",
    "    \"\"\" Get the documents from the last n days \"\"\"\n",
    "    sorted_lst = sorted(lst, key=lambda x: x[1], reverse=True)\n",
    "    for fname, date in sorted_lst:\n",
    "        if date >= str(datetime.date.today() - datetime.timedelta(days=days)):\n",
    "            yield fname\n",
    "\n",
    "def extract_appearance_dates(lst_file):\n",
    "    dates = []\n",
    "\n",
    "    def get_date(line):\n",
    "        return line\\\n",
    "            .split('Appeared on:')[-1]\\\n",
    "            .split('</mark>')[0].strip()\n",
    "\n",
    "    for fname in lst:\n",
    "        with open(fname, 'r') as f:\n",
    "            found_date = False\n",
    "            for line in f:\n",
    "                if not found_date:\n",
    "                    if \"Appeared on\" in line:\n",
    "                        found_date = True\n",
    "                        dates.append((fname, get_date(line)))\n",
    "                else:\n",
    "                    break\n",
    "    return dates\n",
    "\n",
    "from glob import glob\n",
    "lst = glob('_build/html/*md')\n",
    "days = 7\n",
    "dates = extract_appearance_dates(lst)\n",
    "res = list(get_last_n_days(dates, days))\n",
    "npub = len(res)\n",
    "print(len(res), f\" publications in the last {days:d} days.\")"
   ]
  },
  {
   "cell_type": "code",
   "execution_count": 11,
   "id": "52ca0208",
   "metadata": {
    "execution": {
     "iopub.execute_input": "2024-03-08T04:10:34.637499Z",
     "iopub.status.busy": "2024-03-08T04:10:34.636883Z",
     "iopub.status.idle": "2024-03-08T04:10:34.642371Z",
     "shell.execute_reply": "2024-03-08T04:10:34.641648Z"
    },
    "papermill": {
     "duration": 0.014412,
     "end_time": "2024-03-08T04:10:34.643810",
     "exception": false,
     "start_time": "2024-03-08T04:10:34.629398",
     "status": "completed"
    },
    "scrolled": false,
    "tags": []
   },
   "outputs": [],
   "source": [
    "def create_carousel(npub=4):\n",
    "    \"\"\" Generate the HTML code for a carousel with `npub` slides \"\"\"\n",
    "    carousel = [\"\"\"  <div class=\"carousel\" \"\"\",\n",
    "                \"\"\"       data-flickity='{ \"autoPlay\": 10000, \"adaptiveHeight\": true, \"resize\": true, \"wrapAround\": true, \"pauseAutoPlayOnHover\": true, \"groupCells\": 1 }' id=\"asyncTypeset\">\"\"\"\n",
    "                ]\n",
    "    \n",
    "    item_str = \"\"\"    <div class=\"carousel-cell\"> <div id=\"slide{k}\" class=\"md_view\">Content {k}</div> </div>\"\"\"\n",
    "    for k in range(1, npub + 1):\n",
    "        carousel.append(item_str.format(k=k))\n",
    "    carousel.append(\"  </div>\")\n",
    "    return '\\n'.join(carousel)\n",
    "\n",
    "def create_grid(npub=4):\n",
    "    \"\"\" Generate the HTML code for a flat grid with `npub` slides \"\"\"\n",
    "    grid = [\"\"\"  <div class=\"grid\"> \"\"\",\n",
    "                ]\n",
    "    \n",
    "    item_str = \"\"\"    <div class=\"grid-item\"> <div id=\"slide{k}\" class=\"md_view\">Content {k}</div> </div>\"\"\"\n",
    "    for k in range(1, npub + 1):\n",
    "        grid.append(item_str.format(k=k))\n",
    "    grid.append(\"  </div>\")\n",
    "    return '\\n'.join(grid)"
   ]
  },
  {
   "cell_type": "code",
   "execution_count": 12,
   "id": "a6eac5b6",
   "metadata": {
    "execution": {
     "iopub.execute_input": "2024-03-08T04:10:34.658715Z",
     "iopub.status.busy": "2024-03-08T04:10:34.658102Z",
     "iopub.status.idle": "2024-03-08T04:10:34.664017Z",
     "shell.execute_reply": "2024-03-08T04:10:34.663337Z"
    },
    "papermill": {
     "duration": 0.015086,
     "end_time": "2024-03-08T04:10:34.665547",
     "exception": false,
     "start_time": "2024-03-08T04:10:34.650461",
     "status": "completed"
    },
    "scrolled": false,
    "tags": []
   },
   "outputs": [],
   "source": [
    "carousel = create_carousel(npub)\n",
    "docs = ', '.join(['\"{0:s}\"'.format(k.split('/')[-1]) for k in res])\n",
    "slides = ', '.join([f'\"slide{k}\"' for k in range(1, npub + 1)])\n",
    "\n",
    "with open(\"daily_template.html\", \"r\") as tpl:\n",
    "    page = tpl.read()\n",
    "    page = page.replace(\"{%-- carousel:s --%}\", carousel)\\\n",
    "               .replace(\"{%-- suptitle:s --%}\",  \"7-day archives\" )\\\n",
    "               .replace(\"{%-- docs:s --%}\", docs)\\\n",
    "               .replace(\"{%-- slides:s --%}\", slides)\n",
    "    \n",
    "with open(\"_build/html/index_7days.html\", 'w') as fout:\n",
    "    fout.write(page)"
   ]
  },
  {
   "cell_type": "code",
   "execution_count": 13,
   "id": "adc1a1ec",
   "metadata": {
    "execution": {
     "iopub.execute_input": "2024-03-08T04:10:34.680265Z",
     "iopub.status.busy": "2024-03-08T04:10:34.679654Z",
     "iopub.status.idle": "2024-03-08T04:10:34.687200Z",
     "shell.execute_reply": "2024-03-08T04:10:34.686513Z"
    },
    "papermill": {
     "duration": 0.016633,
     "end_time": "2024-03-08T04:10:34.688608",
     "exception": false,
     "start_time": "2024-03-08T04:10:34.671975",
     "status": "completed"
    },
    "tags": []
   },
   "outputs": [
    {
     "name": "stdout",
     "output_type": "stream",
     "text": [
      "4  publications in the last day.\n"
     ]
    }
   ],
   "source": [
    "# redo for today\n",
    "days = 1\n",
    "res = list(get_last_n_days(dates, days))\n",
    "npub = len(res)\n",
    "print(len(res), f\" publications in the last day.\")\n",
    "\n",
    "carousel = create_carousel(npub)\n",
    "docs = ', '.join(['\"{0:s}\"'.format(k.split('/')[-1]) for k in res])\n",
    "slides = ', '.join([f'\"slide{k}\"' for k in range(1, npub + 1)])\n",
    "\n",
    "with open(\"daily_template.html\", \"r\") as tpl:\n",
    "    page = tpl.read()\n",
    "    page = page.replace(\"{%-- carousel:s --%}\", carousel)\\\n",
    "               .replace(\"{%-- suptitle:s --%}\",  \"Daily\" )\\\n",
    "               .replace(\"{%-- docs:s --%}\", docs)\\\n",
    "               .replace(\"{%-- slides:s --%}\", slides)\n",
    "    \n",
    "# print(carousel, docs, slides)\n",
    "# print(page)\n",
    "with open(\"_build/html/index_daily.html\", 'w') as fout:\n",
    "    fout.write(page)"
   ]
  },
  {
   "cell_type": "code",
   "execution_count": 14,
   "id": "00eece82",
   "metadata": {
    "execution": {
     "iopub.execute_input": "2024-03-08T04:10:34.703309Z",
     "iopub.status.busy": "2024-03-08T04:10:34.702725Z",
     "iopub.status.idle": "2024-03-08T04:10:34.710034Z",
     "shell.execute_reply": "2024-03-08T04:10:34.709424Z"
    },
    "papermill": {
     "duration": 0.016191,
     "end_time": "2024-03-08T04:10:34.711406",
     "exception": false,
     "start_time": "2024-03-08T04:10:34.695215",
     "status": "completed"
    },
    "scrolled": false,
    "tags": []
   },
   "outputs": [
    {
     "name": "stdout",
     "output_type": "stream",
     "text": [
      "6  6 publications selected.\n"
     ]
    }
   ],
   "source": [
    "# Create the flat grid of the last N papers (fixed number regardless of dates)\n",
    "from itertools import islice \n",
    "\n",
    "npub = 6\n",
    "res = [k[0] for k in (islice(reversed(sorted(dates, key=lambda x: x[1])), 6))]\n",
    "print(len(res), f\" {npub} publications selected.\")\n",
    "\n",
    "grid = create_grid(npub)\n",
    "docs = ', '.join(['\"{0:s}\"'.format(k.split('/')[-1]) for k in res])\n",
    "slides = ', '.join([f'\"slide{k}\"' for k in range(1, npub + 1)])\n",
    "\n",
    "with open(\"grid_template.html\", \"r\") as tpl:\n",
    "    page = tpl.read()\n",
    "    page = page.replace(\"{%-- grid-content:s --%}\", grid)\\\n",
    "               .replace(\"{%-- suptitle:s --%}\",  f\"Last {npub:,d} papers\" )\\\n",
    "               .replace(\"{%-- docs:s --%}\", docs)\\\n",
    "               .replace(\"{%-- slides:s --%}\", slides)\n",
    "    \n",
    "# print(grid, docs, slides)\n",
    "# print(page)\n",
    "with open(\"_build/html/index_npub_grid.html\", 'w') as fout:\n",
    "    fout.write(page)"
   ]
  }
 ],
 "metadata": {
  "kernelspec": {
   "display_name": "Python 3 (ipykernel)",
   "language": "python",
   "name": "python3"
  },
  "language_info": {
   "codemirror_mode": {
    "name": "ipython",
    "version": 3
   },
   "file_extension": ".py",
   "mimetype": "text/x-python",
   "name": "python",
   "nbconvert_exporter": "python",
   "pygments_lexer": "ipython3",
   "version": "3.9.18"
  },
  "papermill": {
   "default_parameters": {},
   "duration": 160.615971,
   "end_time": "2024-03-08T04:10:35.035423",
   "environment_variables": {},
   "exception": null,
   "input_path": "MPIA daily digest.ipynb",
   "output_path": "log.ipynb",
   "parameters": {},
   "start_time": "2024-03-08T04:07:54.419452",
   "version": "2.5.0"
  },
  "vscode": {
   "interpreter": {
    "hash": "aee8b7b246df8f9039afb4144a1f6fd8d2ca17a180786b69acc140d282b71a49"
   }
  },
  "widgets": {
   "application/vnd.jupyter.widget-state+json": {
    "state": {
     "006f92d5199842b5a3b22a0262af5ecc": {
      "model_module": "@jupyter-widgets/controls",
      "model_module_version": "2.0.0",
      "model_name": "ProgressStyleModel",
      "state": {
       "_model_module": "@jupyter-widgets/controls",
       "_model_module_version": "2.0.0",
       "_model_name": "ProgressStyleModel",
       "_view_count": null,
       "_view_module": "@jupyter-widgets/base",
       "_view_module_version": "2.0.0",
       "_view_name": "StyleView",
       "bar_color": null,
       "description_width": ""
      }
     },
     "3c2c3a9f32a841c4b06c2729b2e60bee": {
      "model_module": "@jupyter-widgets/controls",
      "model_module_version": "2.0.0",
      "model_name": "HTMLStyleModel",
      "state": {
       "_model_module": "@jupyter-widgets/controls",
       "_model_module_version": "2.0.0",
       "_model_name": "HTMLStyleModel",
       "_view_count": null,
       "_view_module": "@jupyter-widgets/base",
       "_view_module_version": "2.0.0",
       "_view_name": "StyleView",
       "background": null,
       "description_width": "",
       "font_size": null,
       "text_color": null
      }
     },
     "681d4c32dec448a09ef63062ab9ec537": {
      "model_module": "@jupyter-widgets/base",
      "model_module_version": "2.0.0",
      "model_name": "LayoutModel",
      "state": {
       "_model_module": "@jupyter-widgets/base",
       "_model_module_version": "2.0.0",
       "_model_name": "LayoutModel",
       "_view_count": null,
       "_view_module": "@jupyter-widgets/base",
       "_view_module_version": "2.0.0",
       "_view_name": "LayoutView",
       "align_content": null,
       "align_items": null,
       "align_self": null,
       "border_bottom": null,
       "border_left": null,
       "border_right": null,
       "border_top": null,
       "bottom": null,
       "display": null,
       "flex": null,
       "flex_flow": null,
       "grid_area": null,
       "grid_auto_columns": null,
       "grid_auto_flow": null,
       "grid_auto_rows": null,
       "grid_column": null,
       "grid_gap": null,
       "grid_row": null,
       "grid_template_areas": null,
       "grid_template_columns": null,
       "grid_template_rows": null,
       "height": null,
       "justify_content": null,
       "justify_items": null,
       "left": null,
       "margin": null,
       "max_height": null,
       "max_width": null,
       "min_height": null,
       "min_width": null,
       "object_fit": null,
       "object_position": null,
       "order": null,
       "overflow": null,
       "padding": null,
       "right": null,
       "top": null,
       "visibility": null,
       "width": null
      }
     },
     "78cc011129834c23a0b7074e6e9f2b6e": {
      "model_module": "@jupyter-widgets/base",
      "model_module_version": "2.0.0",
      "model_name": "LayoutModel",
      "state": {
       "_model_module": "@jupyter-widgets/base",
       "_model_module_version": "2.0.0",
       "_model_name": "LayoutModel",
       "_view_count": null,
       "_view_module": "@jupyter-widgets/base",
       "_view_module_version": "2.0.0",
       "_view_name": "LayoutView",
       "align_content": null,
       "align_items": null,
       "align_self": null,
       "border_bottom": null,
       "border_left": null,
       "border_right": null,
       "border_top": null,
       "bottom": null,
       "display": null,
       "flex": null,
       "flex_flow": null,
       "grid_area": null,
       "grid_auto_columns": null,
       "grid_auto_flow": null,
       "grid_auto_rows": null,
       "grid_column": null,
       "grid_gap": null,
       "grid_row": null,
       "grid_template_areas": null,
       "grid_template_columns": null,
       "grid_template_rows": null,
       "height": null,
       "justify_content": null,
       "justify_items": null,
       "left": null,
       "margin": null,
       "max_height": null,
       "max_width": null,
       "min_height": null,
       "min_width": null,
       "object_fit": null,
       "object_position": null,
       "order": null,
       "overflow": null,
       "padding": null,
       "right": null,
       "top": null,
       "visibility": null,
       "width": null
      }
     },
     "7f9c9563691a48cca1cea7fe2bdb28a2": {
      "model_module": "@jupyter-widgets/controls",
      "model_module_version": "2.0.0",
      "model_name": "HTMLModel",
      "state": {
       "_dom_classes": [],
       "_model_module": "@jupyter-widgets/controls",
       "_model_module_version": "2.0.0",
       "_model_name": "HTMLModel",
       "_view_count": null,
       "_view_module": "@jupyter-widgets/controls",
       "_view_module_version": "2.0.0",
       "_view_name": "HTMLView",
       "description": "",
       "description_allow_html": false,
       "layout": "IPY_MODEL_78cc011129834c23a0b7074e6e9f2b6e",
       "placeholder": "​",
       "style": "IPY_MODEL_bd74ff1559384ae88c714306a5bd0c6c",
       "tabbable": null,
       "tooltip": null,
       "value": "100%"
      }
     },
     "80030bd1c92341ba98408d03167979cd": {
      "model_module": "@jupyter-widgets/base",
      "model_module_version": "2.0.0",
      "model_name": "LayoutModel",
      "state": {
       "_model_module": "@jupyter-widgets/base",
       "_model_module_version": "2.0.0",
       "_model_name": "LayoutModel",
       "_view_count": null,
       "_view_module": "@jupyter-widgets/base",
       "_view_module_version": "2.0.0",
       "_view_name": "LayoutView",
       "align_content": null,
       "align_items": null,
       "align_self": null,
       "border_bottom": null,
       "border_left": null,
       "border_right": null,
       "border_top": null,
       "bottom": null,
       "display": null,
       "flex": null,
       "flex_flow": null,
       "grid_area": null,
       "grid_auto_columns": null,
       "grid_auto_flow": null,
       "grid_auto_rows": null,
       "grid_column": null,
       "grid_gap": null,
       "grid_row": null,
       "grid_template_areas": null,
       "grid_template_columns": null,
       "grid_template_rows": null,
       "height": null,
       "justify_content": null,
       "justify_items": null,
       "left": null,
       "margin": null,
       "max_height": null,
       "max_width": null,
       "min_height": null,
       "min_width": null,
       "object_fit": null,
       "object_position": null,
       "order": null,
       "overflow": null,
       "padding": null,
       "right": null,
       "top": null,
       "visibility": null,
       "width": null
      }
     },
     "810c5e6b1208459588d29af63016b645": {
      "model_module": "@jupyter-widgets/controls",
      "model_module_version": "2.0.0",
      "model_name": "HTMLModel",
      "state": {
       "_dom_classes": [],
       "_model_module": "@jupyter-widgets/controls",
       "_model_module_version": "2.0.0",
       "_model_name": "HTMLModel",
       "_view_count": null,
       "_view_module": "@jupyter-widgets/controls",
       "_view_module_version": "2.0.0",
       "_view_name": "HTMLView",
       "description": "",
       "description_allow_html": false,
       "layout": "IPY_MODEL_681d4c32dec448a09ef63062ab9ec537",
       "placeholder": "​",
       "style": "IPY_MODEL_3c2c3a9f32a841c4b06c2729b2e60bee",
       "tabbable": null,
       "tooltip": null,
       "value": " 7/7 [02:19&lt;00:00, 18.35s/it]"
      }
     },
     "bd74ff1559384ae88c714306a5bd0c6c": {
      "model_module": "@jupyter-widgets/controls",
      "model_module_version": "2.0.0",
      "model_name": "HTMLStyleModel",
      "state": {
       "_model_module": "@jupyter-widgets/controls",
       "_model_module_version": "2.0.0",
       "_model_name": "HTMLStyleModel",
       "_view_count": null,
       "_view_module": "@jupyter-widgets/base",
       "_view_module_version": "2.0.0",
       "_view_name": "StyleView",
       "background": null,
       "description_width": "",
       "font_size": null,
       "text_color": null
      }
     },
     "e4cb7c6d14c043a88b424c584028c00d": {
      "model_module": "@jupyter-widgets/controls",
      "model_module_version": "2.0.0",
      "model_name": "FloatProgressModel",
      "state": {
       "_dom_classes": [],
       "_model_module": "@jupyter-widgets/controls",
       "_model_module_version": "2.0.0",
       "_model_name": "FloatProgressModel",
       "_view_count": null,
       "_view_module": "@jupyter-widgets/controls",
       "_view_module_version": "2.0.0",
       "_view_name": "ProgressView",
       "bar_style": "success",
       "description": "",
       "description_allow_html": false,
       "layout": "IPY_MODEL_f40c1ac0f39e4db387cda9b797927e75",
       "max": 7.0,
       "min": 0.0,
       "orientation": "horizontal",
       "style": "IPY_MODEL_006f92d5199842b5a3b22a0262af5ecc",
       "tabbable": null,
       "tooltip": null,
       "value": 7.0
      }
     },
     "e919c98345d0408cbdaff6630aaaa007": {
      "model_module": "@jupyter-widgets/controls",
      "model_module_version": "2.0.0",
      "model_name": "HBoxModel",
      "state": {
       "_dom_classes": [],
       "_model_module": "@jupyter-widgets/controls",
       "_model_module_version": "2.0.0",
       "_model_name": "HBoxModel",
       "_view_count": null,
       "_view_module": "@jupyter-widgets/controls",
       "_view_module_version": "2.0.0",
       "_view_name": "HBoxView",
       "box_style": "",
       "children": [
        "IPY_MODEL_7f9c9563691a48cca1cea7fe2bdb28a2",
        "IPY_MODEL_e4cb7c6d14c043a88b424c584028c00d",
        "IPY_MODEL_810c5e6b1208459588d29af63016b645"
       ],
       "layout": "IPY_MODEL_80030bd1c92341ba98408d03167979cd",
       "tabbable": null,
       "tooltip": null
      }
     },
     "f40c1ac0f39e4db387cda9b797927e75": {
      "model_module": "@jupyter-widgets/base",
      "model_module_version": "2.0.0",
      "model_name": "LayoutModel",
      "state": {
       "_model_module": "@jupyter-widgets/base",
       "_model_module_version": "2.0.0",
       "_model_name": "LayoutModel",
       "_view_count": null,
       "_view_module": "@jupyter-widgets/base",
       "_view_module_version": "2.0.0",
       "_view_name": "LayoutView",
       "align_content": null,
       "align_items": null,
       "align_self": null,
       "border_bottom": null,
       "border_left": null,
       "border_right": null,
       "border_top": null,
       "bottom": null,
       "display": null,
       "flex": null,
       "flex_flow": null,
       "grid_area": null,
       "grid_auto_columns": null,
       "grid_auto_flow": null,
       "grid_auto_rows": null,
       "grid_column": null,
       "grid_gap": null,
       "grid_row": null,
       "grid_template_areas": null,
       "grid_template_columns": null,
       "grid_template_rows": null,
       "height": null,
       "justify_content": null,
       "justify_items": null,
       "left": null,
       "margin": null,
       "max_height": null,
       "max_width": null,
       "min_height": null,
       "min_width": null,
       "object_fit": null,
       "object_position": null,
       "order": null,
       "overflow": null,
       "padding": null,
       "right": null,
       "top": null,
       "visibility": null,
       "width": null
      }
     }
    },
    "version_major": 2,
    "version_minor": 0
   }
  }
 },
 "nbformat": 4,
 "nbformat_minor": 5
}