{
 "cells": [
  {
   "cell_type": "markdown",
   "id": "92bcb855",
   "metadata": {
    "papermill": {
     "duration": 0.005306,
     "end_time": "2022-11-22T04:08:15.086807",
     "exception": false,
     "start_time": "2022-11-22T04:08:15.081501",
     "status": "completed"
    },
    "tags": []
   },
   "source": [
    "# MPIA Arxiv on Deck 2\n",
    "\n",
    "Contains the steps to produce the paper extractions."
   ]
  },
  {
   "cell_type": "code",
   "execution_count": 1,
   "id": "3a0d6e11",
   "metadata": {
    "execution": {
     "iopub.execute_input": "2022-11-22T04:08:15.096993Z",
     "iopub.status.busy": "2022-11-22T04:08:15.096311Z",
     "iopub.status.idle": "2022-11-22T04:08:15.269094Z",
     "shell.execute_reply": "2022-11-22T04:08:15.267862Z"
    },
    "papermill": {
     "duration": 0.180341,
     "end_time": "2022-11-22T04:08:15.271373",
     "exception": false,
     "start_time": "2022-11-22T04:08:15.091032",
     "status": "completed"
    },
    "tags": []
   },
   "outputs": [],
   "source": [
    "# Imports\n",
    "import os\n",
    "from IPython.display import Markdown, display\n",
    "from tqdm.notebook import tqdm\n",
    "import warnings\n",
    "from PIL import Image \n",
    "\n",
    "# requires arxiv_on_deck_2\n",
    "\n",
    "from arxiv_on_deck_2.arxiv2 import (get_new_papers, \n",
    "                                    get_paper_from_identifier,\n",
    "                                    retrieve_document_source, \n",
    "                                    get_markdown_badge)\n",
    "from arxiv_on_deck_2 import (latex, \n",
    "                             mpia,\n",
    "                             highlight_authors_in_list)\n",
    "\n",
    "# Sometimes images are really big\n",
    "Image.MAX_IMAGE_PIXELS = 1000000000 "
   ]
  },
  {
   "cell_type": "code",
   "execution_count": 2,
   "id": "22aa9d44",
   "metadata": {
    "execution": {
     "iopub.execute_input": "2022-11-22T04:08:15.283957Z",
     "iopub.status.busy": "2022-11-22T04:08:15.283473Z",
     "iopub.status.idle": "2022-11-22T04:08:15.288450Z",
     "shell.execute_reply": "2022-11-22T04:08:15.287780Z"
    },
    "papermill": {
     "duration": 0.012067,
     "end_time": "2022-11-22T04:08:15.290129",
     "exception": false,
     "start_time": "2022-11-22T04:08:15.278062",
     "status": "completed"
    },
    "tags": []
   },
   "outputs": [],
   "source": [
    "# Some useful definitions.\n",
    "\n",
    "class AffiliationWarning(UserWarning):\n",
    "    pass\n",
    "\n",
    "class AffiliationError(RuntimeError):\n",
    "    pass\n",
    "\n",
    "def validation(source: str):\n",
    "    \"\"\"Raises error paper during parsing of source file\n",
    "    \n",
    "    Allows checks before parsing TeX code.\n",
    "    \n",
    "    Raises AffiliationWarning\n",
    "    \"\"\"\n",
    "    check = mpia.affiliation_verifications(source, verbose=True)\n",
    "    if check is not True:\n",
    "        raise AffiliationError(\"mpia.affiliation_verifications: \" + check)\n",
    "\n",
    "        \n",
    "warnings.simplefilter('always', AffiliationWarning)"
   ]
  },
  {
   "cell_type": "code",
   "execution_count": 3,
   "id": "14622700",
   "metadata": {
    "execution": {
     "iopub.execute_input": "2022-11-22T04:08:15.299070Z",
     "iopub.status.busy": "2022-11-22T04:08:15.298833Z",
     "iopub.status.idle": "2022-11-22T04:08:15.302304Z",
     "shell.execute_reply": "2022-11-22T04:08:15.301680Z"
    },
    "papermill": {
     "duration": 0.009989,
     "end_time": "2022-11-22T04:08:15.303960",
     "exception": false,
     "start_time": "2022-11-22T04:08:15.293971",
     "status": "completed"
    },
    "tags": []
   },
   "outputs": [],
   "source": [
    "# additional CSS to consider. \n",
    "# TODO: Current into each exported file. \n",
    "#       This should be set once into the webpages directly.\n",
    "#       With only the class/id definitions in the .md files.\n",
    "\n",
    "debug_html = \"\"\"\n",
    "<style>\n",
    "#wrap{ overflow:auto; }\n",
    "#fig1{ background:yellow; width:100%; float:left; padding:5px;  }\n",
    "#fig2{ background:red; width:50%; float:left; clear:left; padding:5px;  }\n",
    "#fig3{ background:green; width:50%; float:left; padding:5px;   }\n",
    ".macros{ background:yellow; visibility:visible;}\n",
    "h1 {margin: 0 0 0 0;}\n",
    "mark {background-color:#fff3b6;}\n",
    "img {object-fit:contain; max-height:250px; display:inline-block; text-align: center;}\n",
    "</style>\n",
    "\"\"\" \n",
    "html = \"\"\"\n",
    "<style>\n",
    "#wrap{ overflow:auto; }\n",
    "#fig1{ width:100%; float:left; padding: 5px;  }\n",
    "#fig2{ width:50%; float:left; clear:left; padding: 5px;  }\n",
    "#fig3{ width:50%; float:left; padding: 5px;  }\n",
    ".macros{ visibility:hidden; height:0px; }\n",
    "h1 {margin: 0em 0 0 0;}\n",
    "mark {background-color:#fff3b6;}\n",
    "img {object-fit:contain; max-height:250px; display:inline-block; text-align: center;}\n",
    "</style>\n",
    "\"\"\""
   ]
  },
  {
   "cell_type": "markdown",
   "id": "14bd6310",
   "metadata": {
    "papermill": {
     "duration": 0.003937,
     "end_time": "2022-11-22T04:08:15.311749",
     "exception": false,
     "start_time": "2022-11-22T04:08:15.307812",
     "status": "completed"
    },
    "tags": []
   },
   "source": [
    "## get list of arxiv paper candidates\n",
    "\n",
    "We use the MPIA mitarbeiter list webpage from mpia.de to get author names\n",
    "We then get all new papers from Arxiv and match authors"
   ]
  },
  {
   "cell_type": "code",
   "execution_count": 4,
   "id": "2645e73a",
   "metadata": {
    "execution": {
     "iopub.execute_input": "2022-11-22T04:08:15.320927Z",
     "iopub.status.busy": "2022-11-22T04:08:15.320370Z",
     "iopub.status.idle": "2022-11-22T04:08:36.983653Z",
     "shell.execute_reply": "2022-11-22T04:08:36.982840Z"
    },
    "papermill": {
     "duration": 21.66993,
     "end_time": "2022-11-22T04:08:36.985606",
     "exception": false,
     "start_time": "2022-11-22T04:08:15.315676",
     "status": "completed"
    },
    "tags": []
   },
   "outputs": [
    {
     "name": "stdout",
     "output_type": "stream",
     "text": [
      "Arxiv has 66 new papers today\n",
      "          29 with possible author matches\n"
     ]
    }
   ],
   "source": [
    "# get list from MPIA website\n",
    "# it automatically filters identified non-scientists :func:`mpia.filter_non_scientists`\n",
    "mpia_authors = mpia.get_mpia_mitarbeiter_list()\n",
    "new_papers = get_new_papers()\n",
    "# add manual references\n",
    "add_paper_refs = []\n",
    "new_papers.extend([get_paper_from_identifier(k) for k in add_paper_refs])\n",
    "\n",
    "# select only papers with matching author names and highlight authors\n",
    "hl_list = [k[0] for k in mpia_authors]\n",
    "\n",
    "candidates = []\n",
    "for paperk in new_papers:\n",
    "    hl_authors = highlight_authors_in_list(paperk['authors'], hl_list)\n",
    "    matches = [(hl, orig) for hl, orig in zip(hl_authors, paperk['authors']) if 'mark' in hl]\n",
    "    paperk['authors'] = hl_authors\n",
    "    if matches:\n",
    "        candidates.append(paperk)\n",
    "print(\"\"\"Arxiv has {0:,d} new papers today\"\"\".format(len(new_papers)))        \n",
    "print(\"\"\"          {0:,d} with possible author matches\"\"\".format(len(candidates)))"
   ]
  },
  {
   "cell_type": "markdown",
   "id": "3543b34a",
   "metadata": {
    "papermill": {
     "duration": 0.004189,
     "end_time": "2022-11-22T04:08:36.994865",
     "exception": false,
     "start_time": "2022-11-22T04:08:36.990676",
     "status": "completed"
    },
    "tags": []
   },
   "source": [
    "# Parse sources and generate relevant outputs\n",
    "\n",
    "From the candidates, we do the following steps:\n",
    "* get their tarball from ArXiv (and extract data)\n",
    "* find the main .tex file: find one with \\documentclass{...} (sometimes it's non trivial)\n",
    "* Check affiliations with :func:`validation`, which uses :func:`mpia.affiliation_verifications`\n",
    "* If passing the affiliations: we parse the .tex source\n",
    "   * inject sub-documents into the main (flatten the main document)\n",
    "   * parse structure, extract information (title, abstract, authors, figures...)\n",
    "   * handles `\\graphicspath` if provided\n",
    "* Generate the .md document."
   ]
  },
  {
   "cell_type": "code",
   "execution_count": 5,
   "id": "9576b79e",
   "metadata": {
    "execution": {
     "iopub.execute_input": "2022-11-22T04:08:37.004414Z",
     "iopub.status.busy": "2022-11-22T04:08:37.004007Z",
     "iopub.status.idle": "2022-11-22T04:09:06.734047Z",
     "shell.execute_reply": "2022-11-22T04:09:06.733391Z"
    },
    "papermill": {
     "duration": 29.737499,
     "end_time": "2022-11-22T04:09:06.736322",
     "exception": false,
     "start_time": "2022-11-22T04:08:36.998823",
     "status": "completed"
    },
    "scrolled": false,
    "tags": []
   },
   "outputs": [
    {
     "data": {
      "application/vnd.jupyter.widget-view+json": {
       "model_id": "0da2aa1d24f644528674dbab64b5c7df",
       "version_major": 2,
       "version_minor": 0
      },
      "text/plain": [
       "  0%|          | 0/28 [00:00<?, ?it/s]"
      ]
     },
     "metadata": {},
     "output_type": "display_data"
    },
    {
     "name": "stdout",
     "output_type": "stream",
     "text": [
      "Retrieving document from  https://arxiv.org/e-print/2211.10448\n"
     ]
    },
    {
     "name": "stdout",
     "output_type": "stream",
     "text": [
      "extracting tarball to tmp_2211.10448..."
     ]
    },
    {
     "name": "stdout",
     "output_type": "stream",
     "text": [
      " done.\n",
      "Retrieving document from  https://arxiv.org/e-print/2211.10449\n"
     ]
    },
    {
     "name": "stdout",
     "output_type": "stream",
     "text": [
      "extracting tarball to tmp_2211.10449..."
     ]
    },
    {
     "name": "stdout",
     "output_type": "stream",
     "text": [
      " done.\n",
      "Retrieving document from  https://arxiv.org/e-print/2211.10450\n"
     ]
    },
    {
     "name": "stderr",
     "output_type": "stream",
     "text": [
      "/opt/hostedtoolcache/Python/3.9.15/x64/lib/python3.9/site-packages/IPython/core/interactiveshell.py:3433: LatexWarning: Multiple tex files.\n",
      "\n",
      "  exec(code_obj, self.user_global_ns, self.user_ns)\n",
      "/opt/hostedtoolcache/Python/3.9.15/x64/lib/python3.9/site-packages/IPython/core/interactiveshell.py:3433: LatexWarning: Found documentclass in tmp_2211.10449/mnras_guide.tex\n",
      "\n",
      "  exec(code_obj, self.user_global_ns, self.user_ns)\n"
     ]
    },
    {
     "name": "stdout",
     "output_type": "stream",
     "text": [
      "extracting tarball to tmp_2211.10450... done.\n",
      "Retrieving document from  https://arxiv.org/e-print/2211.10487\n"
     ]
    },
    {
     "name": "stderr",
     "output_type": "stream",
     "text": [
      "/tmp/ipykernel_2236/4030337529.py:34: LatexWarning: 2211.10487 did not run properly\n",
      "not a gzip file\n",
      "  warnings.warn(latex.LatexWarning(f\"{paper_id:s} did not run properly\\n\" +\n"
     ]
    },
    {
     "name": "stdout",
     "output_type": "stream",
     "text": [
      "Retrieving document from  https://arxiv.org/e-print/2211.10488\n"
     ]
    },
    {
     "name": "stderr",
     "output_type": "stream",
     "text": [
      "/tmp/ipykernel_2236/4030337529.py:34: LatexWarning: 2211.10488 did not run properly\n",
      "not a gzip file\n",
      "  warnings.warn(latex.LatexWarning(f\"{paper_id:s} did not run properly\\n\" +\n"
     ]
    },
    {
     "name": "stdout",
     "output_type": "stream",
     "text": [
      "Retrieving document from  https://arxiv.org/e-print/2211.10489\n"
     ]
    },
    {
     "name": "stderr",
     "output_type": "stream",
     "text": [
      "/tmp/ipykernel_2236/4030337529.py:34: LatexWarning: 2211.10489 did not run properly\n",
      "not a gzip file\n",
      "  warnings.warn(latex.LatexWarning(f\"{paper_id:s} did not run properly\\n\" +\n"
     ]
    },
    {
     "name": "stdout",
     "output_type": "stream",
     "text": [
      "Retrieving document from  https://arxiv.org/e-print/2211.10490\n"
     ]
    },
    {
     "name": "stdout",
     "output_type": "stream",
     "text": [
      "extracting tarball to tmp_2211.10490..."
     ]
    },
    {
     "name": "stdout",
     "output_type": "stream",
     "text": [
      " done.\n",
      "Retrieving document from  https://arxiv.org/e-print/2211.10493\n"
     ]
    },
    {
     "name": "stderr",
     "output_type": "stream",
     "text": [
      "/tmp/ipykernel_2236/4030337529.py:34: LatexWarning: 2211.10493 did not run properly\n",
      "not a gzip file\n",
      "  warnings.warn(latex.LatexWarning(f\"{paper_id:s} did not run properly\\n\" +\n"
     ]
    },
    {
     "name": "stdout",
     "output_type": "stream",
     "text": [
      "Retrieving document from  https://arxiv.org/e-print/2211.10535\n"
     ]
    },
    {
     "name": "stdout",
     "output_type": "stream",
     "text": [
      "extracting tarball to tmp_2211.10535..."
     ]
    },
    {
     "name": "stdout",
     "output_type": "stream",
     "text": [
      " done.\n",
      "Retrieving document from  https://arxiv.org/e-print/2211.10544\n"
     ]
    },
    {
     "name": "stdout",
     "output_type": "stream",
     "text": [
      "extracting tarball to tmp_2211.10544..."
     ]
    },
    {
     "name": "stdout",
     "output_type": "stream",
     "text": [
      " done.\n",
      "Retrieving document from  https://arxiv.org/e-print/2211.10640\n"
     ]
    },
    {
     "name": "stderr",
     "output_type": "stream",
     "text": [
      "/opt/hostedtoolcache/Python/3.9.15/x64/lib/python3.9/site-packages/IPython/core/interactiveshell.py:3433: LatexWarning: Multiple tex files.\n",
      "\n",
      "  exec(code_obj, self.user_global_ns, self.user_ns)\n",
      "/opt/hostedtoolcache/Python/3.9.15/x64/lib/python3.9/site-packages/IPython/core/interactiveshell.py:3433: LatexWarning: Found documentclass in tmp_2211.10544/natnotes.tex\n",
      "\n",
      "  exec(code_obj, self.user_global_ns, self.user_ns)\n"
     ]
    },
    {
     "name": "stdout",
     "output_type": "stream",
     "text": [
      "extracting tarball to tmp_2211.10640..."
     ]
    },
    {
     "name": "stdout",
     "output_type": "stream",
     "text": [
      " done.\n",
      "Retrieving document from  https://arxiv.org/e-print/2211.10695\n"
     ]
    },
    {
     "name": "stderr",
     "output_type": "stream",
     "text": [
      "/opt/hostedtoolcache/Python/3.9.15/x64/lib/python3.9/site-packages/IPython/core/interactiveshell.py:3433: LatexWarning: Multiple tex files.\n",
      "\n",
      "  exec(code_obj, self.user_global_ns, self.user_ns)\n",
      "/opt/hostedtoolcache/Python/3.9.15/x64/lib/python3.9/site-packages/IPython/core/interactiveshell.py:3433: LatexWarning: Found documentclass in tmp_2211.10640/bamslics.tex\n",
      "\n",
      "  exec(code_obj, self.user_global_ns, self.user_ns)\n",
      "/opt/hostedtoolcache/Python/3.9.15/x64/lib/python3.9/site-packages/arxiv_on_deck_2/latex.py:292: LatexWarning: Latex injecting: 'newcomands.tex' from 'tmp_2211.10640/newcomands.tex'\n",
      "  warnings.warn(LatexWarning(f\"Latex injecting: '{ext}' from '{subsource}'\"))\n"
     ]
    },
    {
     "name": "stdout",
     "output_type": "stream",
     "text": [
      "extracting tarball to tmp_2211.10695... done.\n",
      "Retrieving document from  https://arxiv.org/e-print/2211.10710\n"
     ]
    },
    {
     "name": "stdout",
     "output_type": "stream",
     "text": [
      "extracting tarball to tmp_2211.10710..."
     ]
    },
    {
     "name": "stdout",
     "output_type": "stream",
     "text": [
      " done.\n",
      "Retrieving document from  https://arxiv.org/e-print/2211.10719\n"
     ]
    },
    {
     "name": "stderr",
     "output_type": "stream",
     "text": [
      "/opt/hostedtoolcache/Python/3.9.15/x64/lib/python3.9/site-packages/IPython/core/interactiveshell.py:3433: LatexWarning: Multiple tex files.\n",
      "\n",
      "  exec(code_obj, self.user_global_ns, self.user_ns)\n",
      "/opt/hostedtoolcache/Python/3.9.15/x64/lib/python3.9/site-packages/IPython/core/interactiveshell.py:3433: LatexWarning: Found documentclass in tmp_2211.10710/mnras_guide.tex\n",
      "\n",
      "  exec(code_obj, self.user_global_ns, self.user_ns)\n"
     ]
    },
    {
     "name": "stdout",
     "output_type": "stream",
     "text": [
      "extracting tarball to tmp_2211.10719..."
     ]
    },
    {
     "name": "stdout",
     "output_type": "stream",
     "text": [
      " done.\n",
      "Retrieving document from  https://arxiv.org/e-print/2211.11047\n"
     ]
    },
    {
     "name": "stderr",
     "output_type": "stream",
     "text": [
      "/opt/hostedtoolcache/Python/3.9.15/x64/lib/python3.9/site-packages/IPython/core/interactiveshell.py:3433: LatexWarning: Multiple tex files.\n",
      "\n",
      "  exec(code_obj, self.user_global_ns, self.user_ns)\n",
      "/opt/hostedtoolcache/Python/3.9.15/x64/lib/python3.9/site-packages/IPython/core/interactiveshell.py:3433: LatexWarning: Found documentclass in tmp_2211.10719/maintext.tex\n",
      "\n",
      "  exec(code_obj, self.user_global_ns, self.user_ns)\n",
      "/opt/hostedtoolcache/Python/3.9.15/x64/lib/python3.9/site-packages/arxiv_on_deck_2/latex.py:292: LatexWarning: Latex injecting: 'DES-2022-0701_author_list' from 'tmp_2211.10719/DES-2022-0701_author_list.tex'\n",
      "  warnings.warn(LatexWarning(f\"Latex injecting: '{ext}' from '{subsource}'\"))\n"
     ]
    },
    {
     "name": "stdout",
     "output_type": "stream",
     "text": [
      "extracting tarball to tmp_2211.11047..."
     ]
    },
    {
     "name": "stdout",
     "output_type": "stream",
     "text": [
      " done.\n",
      "Retrieving document from  https://arxiv.org/e-print/2211.11054\n"
     ]
    },
    {
     "name": "stderr",
     "output_type": "stream",
     "text": [
      "/opt/hostedtoolcache/Python/3.9.15/x64/lib/python3.9/site-packages/IPython/core/interactiveshell.py:3433: LatexWarning: Multiple tex files.\n",
      "\n",
      "  exec(code_obj, self.user_global_ns, self.user_ns)\n",
      "/opt/hostedtoolcache/Python/3.9.15/x64/lib/python3.9/site-packages/IPython/core/interactiveshell.py:3433: LatexWarning: Found documentclass in tmp_2211.11047/wDM_IVS.tex\n",
      "\n",
      "  exec(code_obj, self.user_global_ns, self.user_ns)\n"
     ]
    },
    {
     "name": "stdout",
     "output_type": "stream",
     "text": [
      "extracting tarball to tmp_2211.11054..."
     ]
    },
    {
     "name": "stdout",
     "output_type": "stream",
     "text": [
      " done.\n",
      "Retrieving document from  https://arxiv.org/e-print/2211.11080\n"
     ]
    },
    {
     "name": "stderr",
     "output_type": "stream",
     "text": [
      "/opt/hostedtoolcache/Python/3.9.15/x64/lib/python3.9/site-packages/IPython/core/interactiveshell.py:3433: LatexWarning: Multiple tex files.\n",
      "\n",
      "  exec(code_obj, self.user_global_ns, self.user_ns)\n",
      "/opt/hostedtoolcache/Python/3.9.15/x64/lib/python3.9/site-packages/IPython/core/interactiveshell.py:3433: LatexWarning: Found documentclass in tmp_2211.11054/main.tex\n",
      "\n",
      "  exec(code_obj, self.user_global_ns, self.user_ns)\n",
      "/opt/hostedtoolcache/Python/3.9.15/x64/lib/python3.9/site-packages/arxiv_on_deck_2/latex.py:292: LatexWarning: Latex injecting: 'main.bbl' from 'tmp_2211.11054/main.tex'\n",
      "  warnings.warn(LatexWarning(f\"Latex injecting: '{ext}' from '{subsource}'\"))\n",
      "/opt/hostedtoolcache/Python/3.9.15/x64/lib/python3.9/site-packages/arxiv_on_deck_2/latex.py:292: LatexWarning: Latex injecting: 'main.bbl' from 'tmp_2211.11054/Radial evolution of solar energetic particles in the heliosphere_new/main.tex'\n",
      "  warnings.warn(LatexWarning(f\"Latex injecting: '{ext}' from '{subsource}'\"))\n"
     ]
    },
    {
     "name": "stdout",
     "output_type": "stream",
     "text": [
      "extracting tarball to tmp_2211.11080..."
     ]
    },
    {
     "name": "stdout",
     "output_type": "stream",
     "text": [
      " done.\n",
      "Retrieving document from  https://arxiv.org/e-print/2211.11143\n"
     ]
    },
    {
     "name": "stdout",
     "output_type": "stream",
     "text": [
      "extracting tarball to tmp_2211.11143..."
     ]
    },
    {
     "name": "stdout",
     "output_type": "stream",
     "text": [
      " done.\n",
      "Retrieving document from  https://arxiv.org/e-print/2211.11148\n"
     ]
    },
    {
     "name": "stdout",
     "output_type": "stream",
     "text": [
      "extracting tarball to tmp_2211.11148..."
     ]
    },
    {
     "name": "stdout",
     "output_type": "stream",
     "text": [
      " done.\n",
      "Retrieving document from  https://arxiv.org/e-print/2211.11150\n"
     ]
    },
    {
     "name": "stdout",
     "output_type": "stream",
     "text": [
      "extracting tarball to tmp_2211.11150... done.\n",
      "Retrieving document from  https://arxiv.org/e-print/2211.11240\n"
     ]
    },
    {
     "name": "stdout",
     "output_type": "stream",
     "text": [
      "extracting tarball to tmp_2211.11240..."
     ]
    },
    {
     "name": "stdout",
     "output_type": "stream",
     "text": [
      " done.\n",
      "Retrieving document from  https://arxiv.org/e-print/2211.11265\n"
     ]
    },
    {
     "name": "stdout",
     "output_type": "stream",
     "text": [
      "extracting tarball to tmp_2211.11265..."
     ]
    },
    {
     "name": "stdout",
     "output_type": "stream",
     "text": [
      " done.\n",
      "Retrieving document from  https://arxiv.org/e-print/2211.11279\n"
     ]
    },
    {
     "name": "stdout",
     "output_type": "stream",
     "text": [
      "extracting tarball to tmp_2211.11279..."
     ]
    },
    {
     "name": "stdout",
     "output_type": "stream",
     "text": [
      " done.\n",
      "Retrieving document from  https://arxiv.org/e-print/2211.11299\n"
     ]
    },
    {
     "name": "stdout",
     "output_type": "stream",
     "text": [
      "extracting tarball to tmp_2211.11299..."
     ]
    },
    {
     "name": "stdout",
     "output_type": "stream",
     "text": [
      " done.\n",
      "Retrieving document from  https://arxiv.org/e-print/2211.11301\n"
     ]
    },
    {
     "name": "stderr",
     "output_type": "stream",
     "text": [
      "/opt/hostedtoolcache/Python/3.9.15/x64/lib/python3.9/site-packages/IPython/core/interactiveshell.py:3433: LatexWarning: Multiple tex files.\n",
      "\n",
      "  exec(code_obj, self.user_global_ns, self.user_ns)\n",
      "/opt/hostedtoolcache/Python/3.9.15/x64/lib/python3.9/site-packages/IPython/core/interactiveshell.py:3433: LatexWarning: Found documentclass in tmp_2211.11299/ms.tex\n",
      "\n",
      "  exec(code_obj, self.user_global_ns, self.user_ns)\n"
     ]
    },
    {
     "name": "stdout",
     "output_type": "stream",
     "text": [
      "extracting tarball to tmp_2211.11301..."
     ]
    },
    {
     "name": "stdout",
     "output_type": "stream",
     "text": [
      " done.\n",
      "Retrieving document from  https://arxiv.org/e-print/2211.11408\n"
     ]
    },
    {
     "name": "stdout",
     "output_type": "stream",
     "text": [
      "extracting tarball to tmp_2211.11408..."
     ]
    },
    {
     "name": "stdout",
     "output_type": "stream",
     "text": [
      " done.\n",
      "Retrieving document from  https://arxiv.org/e-print/2211.11431\n"
     ]
    },
    {
     "name": "stdout",
     "output_type": "stream",
     "text": [
      "extracting tarball to tmp_2211.11431... done.\n",
      "Retrieving document from  https://arxiv.org/e-print/2211.11440\n"
     ]
    },
    {
     "name": "stdout",
     "output_type": "stream",
     "text": [
      "extracting tarball to tmp_2211.11440... done.\n"
     ]
    },
    {
     "name": "stderr",
     "output_type": "stream",
     "text": [
      "/opt/hostedtoolcache/Python/3.9.15/x64/lib/python3.9/site-packages/IPython/core/interactiveshell.py:3433: LatexWarning: Multiple tex files.\n",
      "\n",
      "  exec(code_obj, self.user_global_ns, self.user_ns)\n",
      "/opt/hostedtoolcache/Python/3.9.15/x64/lib/python3.9/site-packages/IPython/core/interactiveshell.py:3433: LatexWarning: Found documentclass in tmp_2211.11440/jhepexample.tex\n",
      "\n",
      "  exec(code_obj, self.user_global_ns, self.user_ns)\n"
     ]
    }
   ],
   "source": [
    "documents = []\n",
    "failed = []\n",
    "for paper in tqdm(candidates[:-1]):\n",
    "    paper_id = paper['identifier'].lower().replace('arxiv:', '')\n",
    "    \n",
    "    folder = f'tmp_{paper_id}'\n",
    "\n",
    "    try:\n",
    "        if not os.path.isdir(folder):\n",
    "            folder = retrieve_document_source(f\"{paper_id}\", f'tmp_{paper_id}')\n",
    "        \n",
    "        try:\n",
    "            doc = latex.LatexDocument(folder, validation=validation)    \n",
    "        except AffiliationError as affilerror:\n",
    "            msg = f\"ArXiv:{paper_id:s} is not an MPIA paper... \" + str(affilerror)\n",
    "            failed.append((paper, \"affiliation error: \" + str(affilerror) ))\n",
    "            continue\n",
    "        \n",
    "        # Hack because sometimes author parsing does not work well\n",
    "        if (len(doc.authors) != len(paper['authors'])):\n",
    "            doc._authors = paper['authors']\n",
    "        if (doc.abstract) in (None, ''):\n",
    "            doc._abstract = paper['abstract']\n",
    "            \n",
    "        doc.comment = (get_markdown_badge(paper_id) + \n",
    "                       \"<mark>Appeared on: \" + paper['date'] + \"</mark> - \" +\n",
    "                       \"_\" + paper['comments'] + \"_\")\n",
    "        doc.highlight_authors_in_list(hl_list)\n",
    "\n",
    "        full_md = doc.generate_markdown_text()\n",
    "        \n",
    "        documents.append((paper_id, full_md))\n",
    "    except Exception as e:\n",
    "        warnings.warn(latex.LatexWarning(f\"{paper_id:s} did not run properly\\n\" +\n",
    "                                         str(e)\n",
    "                                        ))\n",
    "        failed.append((paper, \"latex error \" + str(e)))"
   ]
  },
  {
   "cell_type": "markdown",
   "id": "2505a25c",
   "metadata": {
    "papermill": {
     "duration": 0.007173,
     "end_time": "2022-11-22T04:09:06.751116",
     "exception": false,
     "start_time": "2022-11-22T04:09:06.743943",
     "status": "completed"
    },
    "tags": []
   },
   "source": [
    "### Export the logs\n",
    "\n",
    "Throughout, we also keep track of the logs per paper. see `logs-{today date}.md` "
   ]
  },
  {
   "cell_type": "code",
   "execution_count": 6,
   "id": "d733828a",
   "metadata": {
    "execution": {
     "iopub.execute_input": "2022-11-22T04:09:06.766884Z",
     "iopub.status.busy": "2022-11-22T04:09:06.766195Z",
     "iopub.status.idle": "2022-11-22T04:09:06.805644Z",
     "shell.execute_reply": "2022-11-22T04:09:06.805003Z"
    },
    "papermill": {
     "duration": 0.049131,
     "end_time": "2022-11-22T04:09:06.807197",
     "exception": false,
     "start_time": "2022-11-22T04:09:06.758066",
     "status": "completed"
    },
    "scrolled": false,
    "tags": []
   },
   "outputs": [
    {
     "data": {
      "text/markdown": [
       "## Successful papers"
      ],
      "text/plain": [
       "<IPython.core.display.Markdown object>"
      ]
     },
     "metadata": {},
     "output_type": "display_data"
    },
    {
     "data": {
      "text/markdown": [
       "## Failed papers"
      ],
      "text/plain": [
       "<IPython.core.display.Markdown object>"
      ]
     },
     "metadata": {},
     "output_type": "display_data"
    },
    {
     "data": {
      "text/markdown": [
       "\n",
       "|||\n",
       "|---:|:---|\n",
       "| [![arXiv](https://img.shields.io/badge/arXiv-arXiv:2211.10490-b31b1b.svg)](https://arxiv.org/abs/arXiv:2211.10490) | **Direct Evidence of Photochemistry in an Exoplanet Atmosphere**  |\n",
       "|| Shang-Min Tsai, et al. -- incl., <mark>Elspeth K. H. Lee</mark>, <mark>Xi Zhang</mark>, <mark>Lili Alderson</mark>, <mark>Jayesh M Goyal</mark>, <mark>Laura Kreidberg</mark>, <mark>Evert Nasedkin</mark> |\n",
       "|*Appeared on*| *2022-11-22*|\n",
       "|*Comments*| *40 pages, 13 figures, under review at Nature*|\n",
       "|**Abstract**| Photochemistry is a fundamental process of planetary atmospheres that is integral to habitability, atmospheric composition and stability, and aerosol formation. However, no unambiguous photochemical products have been detected in exoplanet atmospheres to date. Here we show that photochemically produced sulphur dioxide (SO$_2$) is present in the atmosphere of the hot, giant exoplanet WASP-39b, as constrained by data from the JWST Transiting Exoplanet Early Release Science Program and informed by a suite of photochemical models. We find that SO$_2$ is produced by successive oxidation of sulphur radicals freed when hydrogen sulphide (H$_2$S) is destroyed. The SO$_2$ distribution computed by the photochemical models robustly explains the 4.05 $\\mu$m spectral feature seen in JWST transmission spectra [Rustamkulov et al.(submitted), Alderson et al.(submitted)] and leads to observable features at ultraviolet and thermal infrared wavelengths not available from the current observations. The sensitivity of the SO$_2$ feature to the enrichment of heavy elements in the atmosphere (\"metallicity\") suggests that it can be used as a powerful tracer of atmospheric properties, with our results implying a metallicity of $\\sim$10$\\times$ solar for WASP-39b. Through providing improved constraints on bulk metallicity and sulphur abundance, the detection of SO$_2$ opens a new avenue for the investigation of giant-planet formation. Our work demonstrates that sulphur photochemistry may be readily observable for exoplanets with super-solar metallicity and equilibrium temperatures $\\gtrsim$750 K. The confirmation of photochemistry through the agreement between theoretical predictions and observational data is pivotal for further atmospheric characterisation studies. |\n",
       "|<p style=\"color:green\"> **ERROR** </p>| <p style=\"color:green\">affiliation error: mpia.affiliation_verifications: '69117' keyword not found.</p> |"
      ],
      "text/plain": [
       "<IPython.core.display.Markdown object>"
      ]
     },
     "metadata": {},
     "output_type": "display_data"
    },
    {
     "data": {
      "text/markdown": [
       "\n",
       "|||\n",
       "|---:|:---|\n",
       "| [![arXiv](https://img.shields.io/badge/arXiv-arXiv:2211.10448-b31b1b.svg)](https://arxiv.org/abs/arXiv:2211.10448) | **A General Bayesian Framework to Account for Foreground Map Errors in  Global 21-cm Experiments**  |\n",
       "|| Michael Pagano, Peter Sims, <mark>Adrian Liu</mark> |\n",
       "|*Appeared on*| *2022-11-22*|\n",
       "|*Comments*| *18 pages, 13 figures*|\n",
       "|**Abstract**| Measurement of the global 21-cm signal during Cosmic Dawn (CD) and the Epoch of Reionization (EoR) is made difficult by bright foreground emission which is 2-5 orders of magnitude larger than the expected signal. Fitting for a physics-motivated parametric forward model of the data within a Bayesian framework provides a robust means to separate the signal from the foregrounds, given sufficient information about the instrument and sky. It has previously been demonstrated that, within such a modelling framework, a foreground model of sufficient fidelity can be generated by dividing the sky into $N$ regions and scaling a base map assuming a distinct uniform spectral index in each region. Using the Radio Experiment for the Analysis of Cosmic Hydrogen (REACH) as our fiducial instrument, we show that, if unaccounted-for, amplitude errors in low-frequency radio maps used for our base map model will prevent recovery of the 21-cm signal within this framework, and that the level of bias in the recovered 21-cm signal is proportional to the amplitude and the correlation length of the base-map errors in the region. We introduce an updated foreground model that is capable of accounting for these measurement errors by fitting for a monopole offset and a set of spatially-dependent scale factors describing the ratio of the true and model sky temperatures, with the size of the set determined by Bayesian evidence-based model comparison. We show that our model is flexible enough to account for multiple foreground error scenarios allowing the 21-cm sky-averaged signal to be detected without bias from simulated observations with a smooth conical log spiral antenna. |\n",
       "|<p style=\"color:green\"> **ERROR** </p>| <p style=\"color:green\">affiliation error: mpia.affiliation_verifications: 'Heidelberg' keyword not found.</p> |"
      ],
      "text/plain": [
       "<IPython.core.display.Markdown object>"
      ]
     },
     "metadata": {},
     "output_type": "display_data"
    },
    {
     "data": {
      "text/markdown": [
       "\n",
       "|||\n",
       "|---:|:---|\n",
       "| [![arXiv](https://img.shields.io/badge/arXiv-arXiv:2211.10449-b31b1b.svg)](https://arxiv.org/abs/arXiv:2211.10449) | **The Molecular-Gas Main Sequence and Schmidt-Kennicutt relation are  fundamental, the Star-Forming Main Sequence is a (useful) byproduct**  |\n",
       "|| William M. Baker, et al. -- incl., <mark>Lihwai Lin</mark>, <mark>Mallory Thorp</mark> |\n",
       "|*Appeared on*| *2022-11-22*|\n",
       "|*Comments*| *16 pages, 14 figures, Accepted for publication in MNRAS*|\n",
       "|**Abstract**| We investigate the relationship between the star formation rate (SFR), stellar mass ($M_*$) and molecular gas mass ($M_{H_2}$) for local star-forming galaxies. We further investigate these relationships for high-z (z=1-3) galaxies and for the hosts of a local sample of Active Galactic Nuclei (AGN). We explore which of these dependencies are intrinsic and which are an indirect by-product by employing partial correlation coefficients and random forest regression. We find that for local star-forming galaxies, high-z galaxies, and AGN host galaxies, the Schmidt-Kennicutt relation (SK, between $M_{H_2}$ and SFR), and the Molecular Gas Main Sequence (MGMS, between $M_{H_2}$ and $M_*$) are intrinsic primary relations, while the relationship between $M_*$ and SFR, i.e. the Star-Forming Main Sequence (SFMS), is an indirect by-product of the former two. Hence the Star-Forming Main Sequence is not a fundamental scaling relation for local or high-redshift galaxies. We find evidence for both the evolution of the MGMS and SK relation over cosmic time, where, at a given stellar mass, the higher the redshift, the greater the molecular gas mass and the star formation efficiency. We offer a parameterisation of both the MGMS and SK relation's evolution with redshift, showing how they combine to form the observed evolution of the SFMS. In addition, we find that the local AGN host galaxies follow an AGN-MGMS relation (as well as a AGN-SK relation), where the MGMS is offset to lower $M_{H_2}$ for a given $M_*$ compared to local SF galaxies. |\n",
       "|<p style=\"color:green\"> **ERROR** </p>| <p style=\"color:green\">affiliation error: mpia.affiliation_verifications: 'Heidelberg' keyword not found.</p> |"
      ],
      "text/plain": [
       "<IPython.core.display.Markdown object>"
      ]
     },
     "metadata": {},
     "output_type": "display_data"
    },
    {
     "data": {
      "text/markdown": [
       "\n",
       "|||\n",
       "|---:|:---|\n",
       "| [![arXiv](https://img.shields.io/badge/arXiv-arXiv:2211.10450-b31b1b.svg)](https://arxiv.org/abs/arXiv:2211.10450) | **A simple spectroscopic technique to identify rejuvenating galaxies**  |\n",
       "|| <mark>Junyu Zhang</mark>, et al. -- incl., <mark>Yijia Li</mark> |\n",
       "|*Appeared on*| *2022-11-22*|\n",
       "|*Comments*| *Submitted to ApJ, 15 pages, 9 figures*|\n",
       "|**Abstract**| Rejuvenating galaxies are unusual galaxies that fully quench and then subsequently experience a \"rejuvenation\" event to become star-forming once more. Rejuvenation rates vary substantially in models of galaxy formation: 10%-70% of massive galaxies are expected to experience rejuvenation by z = 0. Measuring the rate of rejuvenation is therefore important for calibrating the strength of star formation feedback mechanisms. However, these observations are challenging because rejuvenating systems blend in with normal star-forming galaxies in broadband photometry. In this paper, we use the galaxy spectral energy distribution (SED)-fitting code Prospector to search for observational markers that distinguish normal star-forming galaxies from rejuvenating galaxies. We find that rejuvenating galaxies have smaller Balmer absorption line equivalent widths (EWs) than star-forming galaxies. This is analogous to the well-known \"K + A\" or post-starburst galaxies, which have strong Balmer absorption due to A-stars dominating the light: in this case, rejuvenating systems have a lack of A-stars, instead resembling \"O - A\" systems. We find star-forming galaxies that have H$\\beta$, H$\\gamma$, and/or H$\\delta$ absorption EWs $\\lesssim 3${\\AA} corresponds to a highly pure selection of rejuvenating systems. Interestingly, while this technique is highly effective at identifying mild rejuvenation, \"strongly\" rejuvenating systems remain nearly indistinguishable from star-forming galaxies due to the well-known stellar outshining effect. We conclude that measuring Balmer absorption line EWs in star-forming galaxy populations is an efficient method to identify rejuvenating populations, and discuss several techniques to either remove or resolve the nebular emission which typically lies on top of these absorption lines. |\n",
       "|<p style=\"color:green\"> **ERROR** </p>| <p style=\"color:green\">affiliation error: mpia.affiliation_verifications: 'Heidelberg' keyword not found.</p> |"
      ],
      "text/plain": [
       "<IPython.core.display.Markdown object>"
      ]
     },
     "metadata": {},
     "output_type": "display_data"
    },
    {
     "data": {
      "text/markdown": [
       "\n",
       "|||\n",
       "|---:|:---|\n",
       "| [![arXiv](https://img.shields.io/badge/arXiv-arXiv:2211.10535-b31b1b.svg)](https://arxiv.org/abs/arXiv:2211.10535) | **Velocity-Coherent Substructure in TMC-1: Inflow and Fragmentation**  |\n",
       "|| <mark>Simon E.T. Smith</mark>, et al. -- incl., <mark>Helen Kirk</mark> |\n",
       "|*Appeared on*| *2022-11-22*|\n",
       "|*Comments*| *17 pages, 8 figures; Accepted for publication to MNRAS*|\n",
       "|**Abstract**| Filamentary structures have been found nearly ubiquitously in molecular clouds and yet their formation and evolution is still poorly understood. We examine a segment of Taurus Molecular Cloud 1 (TMC-1) that appears as a single, narrow filament in continuum emission from dust. We use the Regularized Optimization for Hyper-Spectral Analysis (ROHSA), a Gaussian decomposition algorithm which enforces spatial coherence when fitting multiple velocity components simultaneously over a data cube. We analyze HC$_5$N (9-8) line emission as part of the Green Bank Ammonia Survey (GAS) and identify three velocity-coherent components with ROHSA. The two brightest components extend the length of the filament, while the third component is fainter and clumpier. The brightest component has a prominent transverse velocity gradient of $2.7 \\pm 0.1$ km s$^{-1}$ pc$^{-1}$ which we show to be indicative of gravitationally induced inflow. In the second component we identify regularly spaced emission peaks along its length. We show that the local minima between pairs of adjacent HC$_5$N peaks line up closely with submillimetre continuum emission peaks, which we argue is evidence for fragmentation along the spine of TMC-1. While coherent velocity components have been described as separate physical structures in other star-forming filaments, we argue that the two bright components identified in HC$_5$N emission in TMC-1 are tracing two layers in one filament: a lower density outer layer whose material is flowing under gravity towards the higher density inner layer of the filament. |\n",
       "|<p style=\"color:green\"> **ERROR** </p>| <p style=\"color:green\">affiliation error: mpia.affiliation_verifications: 'Heidelberg' keyword not found.</p> |"
      ],
      "text/plain": [
       "<IPython.core.display.Markdown object>"
      ]
     },
     "metadata": {},
     "output_type": "display_data"
    },
    {
     "data": {
      "text/markdown": [
       "\n",
       "|||\n",
       "|---:|:---|\n",
       "| [![arXiv](https://img.shields.io/badge/arXiv-arXiv:2211.10544-b31b1b.svg)](https://arxiv.org/abs/arXiv:2211.10544) | **The luminous type Ia supernova 2022ilv and its early excess emission**  |\n",
       "|| Shubham Srivastav, et al. -- incl., <mark>M. E. Huber</mark>, <mark>K. W. Smith</mark> |\n",
       "|*Appeared on*| *2022-11-22*|\n",
       "|*Comments*| *Submitted to ApJL, comments welcome*|\n",
       "|**Abstract**| We present observations and analysis of the host-less and luminous type Ia supernova 2022ilv, illustrating it is part of the 2003fg-like family, often referred to as super-Chandrasekhar (Ia-SC) explosions. The ATLAS light curve shows evidence of a short-lived, pulse-like early excess, similar to that detected in another luminous type Ia supernova (SN 2020hvf). The light curve is broad and the early spectra are remarkably similar to SN 2009dc. Adopting a redshift of $z=0.026 \\pm 0.005$ for SN 2022ilv based on spectral matching, our model light curve requires a large $^{56}$Ni mass in the range $0.7-1.5$ M$_{\\odot}$, and a large ejecta mass in the range $1.6-2.3$ M$_{\\odot}$. The early excess can be explained by fast-moving SN ejecta interacting with a thin, dense shell of circumstellar material close to the progenitor ($\\sim 10^{13}$ cm), a few hours after the explosion. This may be realised in a double-degenerate scenario, wherein a white dwarf merger is preceded by ejection of a small amount ($\\sim 10^{-3}-10^{-2}$ M$_{\\odot}$) of hydrogen and helium-poor tidally stripped material. A deep pre-explosion Pan-STARRS1 stack indicates no host galaxy to a limiting magnitude of $r \\sim 24.5$. This implies a surprisingly faint limit for any host of $M_r \\gtrsim -11$, providing further evidence that these types of explosion occur predominantly in low-metallicity environments. |\n",
       "|<p style=\"color:green\"> **ERROR** </p>| <p style=\"color:green\">affiliation error: mpia.affiliation_verifications: 'Heidelberg' keyword not found.</p> |"
      ],
      "text/plain": [
       "<IPython.core.display.Markdown object>"
      ]
     },
     "metadata": {},
     "output_type": "display_data"
    },
    {
     "data": {
      "text/markdown": [
       "\n",
       "|||\n",
       "|---:|:---|\n",
       "| [![arXiv](https://img.shields.io/badge/arXiv-arXiv:2211.10640-b31b1b.svg)](https://arxiv.org/abs/arXiv:2211.10640) | **DESI Mock Challenge VII: halo and galaxy catalogs with the Bias  Assignment Method**  |\n",
       "|| Andrés Balaguera-Antolínez, et al. -- incl., <mark>Cheng Zhao</mark> |\n",
       "|*Appeared on*| *2022-11-22*|\n",
       "|*Comments*| *Submitted to MNRAS. Comments welcome*|\n",
       "|**Abstract**| This paper presents the generation of a suit of mock catalogs of dark matter halos and galaxies, aiming at the assessment of precise covariance matrix for cosmological analysis. The set of halo mock catalogs display accurate summary statistics and detailed assignment of halo properties (e.g., velocity dispersion, halo mass), enabling the possibility of using models of halo occupation distribution (HOD) to construct mock catalogs with different galaxy types. In particular, we generate mock catalogs based on HOD for emission-line galaxies, key target for experiments such as the Dark Energy Spectroscopic Instrument (DESI). To this end, we rely on the Bias Assignment Method (BAM), in conjunction with the Scinet LIghtCone Simulations of halo mock catalogs (at $z\\sim 1$) as training set. We demonstrate the high accuracy of the mocks in the one (abundance), two-(e.g. power spectrum), three- (e.g. bispectrum), four- (covariance matrices of two point statistics), and six-point statistics (covariance matrices of three-point statistics), both in real and redshift space. BAM offers a robust way to produce fast and accurate halo distributions which can be used to generate a variety of multi-tracer catalogs with precise covariance matrices of a number of cosmological probes. |\n",
       "|<p style=\"color:green\"> **ERROR** </p>| <p style=\"color:green\">affiliation error: mpia.affiliation_verifications: 'Heidelberg' keyword not found.</p> |"
      ],
      "text/plain": [
       "<IPython.core.display.Markdown object>"
      ]
     },
     "metadata": {},
     "output_type": "display_data"
    },
    {
     "data": {
      "text/markdown": [
       "\n",
       "|||\n",
       "|---:|:---|\n",
       "| [![arXiv](https://img.shields.io/badge/arXiv-arXiv:2211.10695-b31b1b.svg)](https://arxiv.org/abs/arXiv:2211.10695) | **The Isaac Newton Telescope monitoring survey of Local Group dwarf  galaxies--V. The star formation history of Sagittarius dwarf irregular galaxy  derived from long period variable stars**  |\n",
       "|| Tahere Parto, et al. -- incl., <mark>Mahdieh Navabi</mark> |\n",
       "|*Appeared on*| *2022-11-22*|\n",
       "|*Comments*| *16 pages, Accepted for publication in ApJ*|\n",
       "|**Abstract**| We conducted an optical monitoring survey of the Sagittarius dwarf irregular galaxy (SagDIG) during the period of June 2016 -- October 2017, using the 2.5-m Isaac Newton Telescope (INT) at La Palama. Our goal was to identify Long Period Variable stars (LPVs), namely asymptotic giant branch stars (AGBs) and red supergiant stars (RSGs), to obtain the Star Formation History (SFH) of isolated, metal-poor SagDIG. For our purpose, we used a method that relies on evaluating the relation between luminosity and the birth mass of these most evolved stars. We found $27$ LPV candidates within two half-light radii of SagDIG. $10$ LPV candidates were in common with previous studies, including one very dusty AGB (x-AGB). By adopting the metallicity $Z = 0.0002$ for older population and $Z=0.0004$ for younger ages, we estimated that the star formation rate changes from $0.0005\\pm0.0002$ M$_{\\odot}$yr$^{-1}$kpc$^{-2}$ ($13$ Gyr ago) to $0.0021 \\pm 0.0010$ M$_{\\odot}$yr$^{-1}$kpc$^{-2}$ ($0.06$ Gyr ago). Like many dwarf irregular galaxies, SagDIG has had continuous star formation activity across its lifetime, though with different rates, and experiences an enhancement of star formation since $z \\simeq 1$. We also evaluated the total stellar mass within two half-light radii of SagDIG for three choices of metallicities. For metallicity $Z = 0.0002$ and $Z=0.0004$ we estimated the stellar mass M$_*$ = ($5.4 \\pm 2.3$) $\\times$ $10^ 6$ and ($3.0 \\pm 1.3$) $\\times$ $10^ 6$ M$_{\\odot}$, respectively. Additionally, we determined a distance modulus $\\mu$ = $25.27\\pm0.05$ mag, using the tip of the red giant branch (TRGB). |\n",
       "|<p style=\"color:green\"> **ERROR** </p>| <p style=\"color:green\">affiliation error: mpia.affiliation_verifications: 'Heidelberg' keyword not found.</p> |"
      ],
      "text/plain": [
       "<IPython.core.display.Markdown object>"
      ]
     },
     "metadata": {},
     "output_type": "display_data"
    },
    {
     "data": {
      "text/markdown": [
       "\n",
       "|||\n",
       "|---:|:---|\n",
       "| [![arXiv](https://img.shields.io/badge/arXiv-arXiv:2211.10710-b31b1b.svg)](https://arxiv.org/abs/arXiv:2211.10710) | **The propertities of wind and jet from a super-Eddington accretion flow  around a supermassive black hole**  |\n",
       "|| Hai Yang, Feng Yuan, Tom Kwan, <mark>Linxi Dai</mark> |\n",
       "|*Appeared on*| *2022-11-22*|\n",
       "|*Comments*| *13 pages, 13 figures; submitted to MNRAS*|\n",
       "|**Abstract**| Wind and jet are important medium of AGN feedback thus it is crucial to obtain their properties for the feedback study. In this paper we investigate the properties of wind and jet launched from a super-Eddington accretion flow around a supermassive black hole. For this aim, we have performed radiation magnetohydrodynamical simulation of a magnetically arrested super-Eddington accretion flows. We then have analyzed the simulation data by the ``virtual particle trajectory'' approach and obtained the mass flux, poloidal and toroidal velocities, and mass-flux-weighted momentum and energy fluxes of wind and jet. The mass flux is found to be 2-6 times higher than that obtained based on the time-averaged streamline method widely used in literature. Depending on the black hole spin, the momentum flux of wind is found to be at least 2 times larger than that of jet, while the total energy flux of jet is at most 3 times larger than that of wind. These results are similar to the case of hot accretion flows and imply that winds likely play a more important role than jet in AGN feedback. The acceleration mechanism of wind and jet is analyzed and found to be dominated by Lorentz force rather than radiation force. |\n",
       "|<p style=\"color:green\"> **ERROR** </p>| <p style=\"color:green\">affiliation error: mpia.affiliation_verifications: 'Heidelberg' keyword not found.</p> |"
      ],
      "text/plain": [
       "<IPython.core.display.Markdown object>"
      ]
     },
     "metadata": {},
     "output_type": "display_data"
    },
    {
     "data": {
      "text/markdown": [
       "\n",
       "|||\n",
       "|---:|:---|\n",
       "| [![arXiv](https://img.shields.io/badge/arXiv-arXiv:2211.10719-b31b1b.svg)](https://arxiv.org/abs/arXiv:2211.10719) | **Photometric Properties of Jupiter Trojans detected by the Dark Energy  Survey**  |\n",
       "|| DES Collobration, et al. -- incl., <mark>Hsing Wen Lin</mark>, <mark>K. Herner</mark>, <mark>M. Smith</mark> |\n",
       "|*Appeared on*| *2022-11-22*|\n",
       "|*Comments*| *This manuscript is accepted for publication in PSJ. There is a full version of table 1*|\n",
       "|**Abstract**| The Jupiter Trojans are a large group of asteroids that are co-orbiting with Jupiter near its L4 and L5 Lagrange points. The study of Jupiter Trojans is crucial for testing different models of planet formation that are directly related to our understanding of solar system evolution. In this work, we select known Jupiter Trojans listed by the Minor Planet Center (MPC) from the full six years dataset (Y6) of the Dark Energy Survey (DES) to analyze their photometric properties. The DES data allow us to study Jupiter Trojans with a fainter magnitude limit than previous studies in a homogeneous survey with $griz$ band measurements. We extract a final catalog of 573 unique Jupiter Trojans. Our sample include 547 asteroids belonging to L5. This is one of the largest analyzed samples for this group. By comparing with the data reported by other surveys we found that the color distribution of L5 Trojans is similar to that of L4 Trojans. We find that L5 Trojans' $g - i$ and $g - r$ colors become less red with fainter absolute magnitudes, a trend also seen in L4 Trojans. Both the L4 and L5 clouds consistently show such a color-size correlation over an absolute magnitude range $11 < H < 18$. We also use DES colors to perform taxonomic classifications. C and P-type asteroids outnumber D-type asteroids in the L5 Trojans DES sample, which have diameters in the 5 - 20 km range. This is consistent with the color-size correlation. |\n",
       "|<p style=\"color:green\"> **ERROR** </p>| <p style=\"color:green\">affiliation error: mpia.affiliation_verifications: 'Heidelberg' keyword not found.</p> |"
      ],
      "text/plain": [
       "<IPython.core.display.Markdown object>"
      ]
     },
     "metadata": {},
     "output_type": "display_data"
    },
    {
     "data": {
      "text/markdown": [
       "\n",
       "|||\n",
       "|---:|:---|\n",
       "| [![arXiv](https://img.shields.io/badge/arXiv-arXiv:2211.11047-b31b1b.svg)](https://arxiv.org/abs/arXiv:2211.11047) | **IWDM: The fate of an interacting non-cold dark matter $-$ vacuum  scenario**  |\n",
       "|| Supriya Pan, et al. -- incl., <mark>Joseph Silk</mark> |\n",
       "|*Appeared on*| *2022-11-22*|\n",
       "|*Comments*| *9 pages, 2 tables and 3 captioned figures*|\n",
       "|**Abstract**| In almost every cosmological models, the equation of state of the dark matter is assumed to be zero (i.e. a pressure-less/cold dark matter). Although such hypothesis is motivated by the abundance of cold dark matter in the universe, there is however no compelling reason to set the dark matter equation of state to zero, rather, the more generic picture is to consider a free-to-vary dark matter equation of state and let the observational data decide its fate. With the growing sensitivity of the experimental data, we choose the second possibility and consider an interacting non-cold dark matter $-$ vacuum scenario in which the dark matter equation of state is constant but free-to-vary in an interval. Considering a very well known and most used interaction function in the literature, we constrain this scenario using the Cosmic Microwave Background (CMB) anisotropies and the CMB lensing reconstruction from the legacy Planck release, baryon acoustic oscillations distance measurements and the Pantheon catalogue from Supernovae Type Ia. We find that for all the observational data sets, a non-zero value of the dark matter equation of state is preferred at 68\\% CL which indicates that a non-cold dark matter sector in the universe should be investigated further in order to understand the intrinsic nature of the dark matter sector. |\n",
       "|<p style=\"color:green\"> **ERROR** </p>| <p style=\"color:green\">affiliation error: mpia.affiliation_verifications: 'Heidelberg' keyword not found.</p> |"
      ],
      "text/plain": [
       "<IPython.core.display.Markdown object>"
      ]
     },
     "metadata": {},
     "output_type": "display_data"
    },
    {
     "data": {
      "text/markdown": [
       "\n",
       "|||\n",
       "|---:|:---|\n",
       "| [![arXiv](https://img.shields.io/badge/arXiv-arXiv:2211.11054-b31b1b.svg)](https://arxiv.org/abs/arXiv:2211.11054) | **Solar energetic electron events measured by MESSENGER and Solar Orbiter.  Peak intensity and energy spectrum radial dependences: statistical analysis**  |\n",
       "|| L. Rodríguez-García, et al. -- incl., <mark>R. Gómez-Herrero</mark>, <mark>F. Espinosa Lara</mark> |\n",
       "|*Appeared on*| *2022-11-22*|\n",
       "|*Comments*| *20 pages, 13 figures*|\n",
       "|**Abstract**| Context/Aims: We present a list of 61 solar energetic electron (SEE) events measured by the MESSENGER mission and the radial dependences of the electron peak intensity and the peak-intensity energy spectrum. The analysis comprises the period from 2010 to 2015, when MESSENGER heliocentric distance varied between 0.31 and 0.47 au. We also show the radial dependencies for a shorter list of 12 SEE events measured in February and March 2022 by spacecraft near 1 au and by Solar Orbiter around its first close perihelion at 0.32 au. Results: Due to the elevated background intensity level of the particle instrument on board MESSENGER, the SEE events measured by this mission are necessarily large and intense; most of them accompanied by a CME-driven shock, being widespread in heliolongitude, and displaying relativistic ($\\sim$1 MeV) electron intensity enhancements. The two main conclusions derived from the analysis of the large SEE events measured by MESSENGER, which are generally supported by Solar Orbiter's data results, are: (1) There is a wide variability in the radial dependence of the electron peak intensity between $\\sim$0.3 au and $\\sim$1 au, but the peak intensities of the energetic electrons decrease with radial distance from the Sun in 27 out of 28 events. On average and within the uncertainties, we find a radial dependence consistent with $R^{-3}$. (2) The electron spectral index found in the energy range around 200 keV ($\\delta$200) of the backward-scattered population near 0.3 au measured by MESSENGER is harder in 19 out of 20 (15 out of 18) events by a median factor of $\\sim$20% ($\\sim$10%) when comparing to the anti-sunward propagating beam (backward-scattered population) near 1 au. |\n",
       "|<p style=\"color:green\"> **ERROR** </p>| <p style=\"color:green\">affiliation error: mpia.affiliation_verifications: 'Heidelberg' keyword not found.</p> |"
      ],
      "text/plain": [
       "<IPython.core.display.Markdown object>"
      ]
     },
     "metadata": {},
     "output_type": "display_data"
    },
    {
     "data": {
      "text/markdown": [
       "\n",
       "|||\n",
       "|---:|:---|\n",
       "| [![arXiv](https://img.shields.io/badge/arXiv-arXiv:2211.11080-b31b1b.svg)](https://arxiv.org/abs/arXiv:2211.11080) | **The LOFAR Tied-Array All-Sky Survey: Timing of 35 radio pulsars and an  overview of the properties of the LOFAR pulsar discoveries**  |\n",
       "|| E. van der Wateren, et al. -- incl., <mark>J. W. T. Hessels</mark>, <mark>M. Kramer</mark> |\n",
       "|*Appeared on*| *2022-11-22*|\n",
       "|*Comments*| *Accepted to Astronomy & Astrophysics*|\n",
       "|**Abstract**| The LOFAR Tied-Array All-Sky Survey (LOTAAS) is the most sensitive untargeted radio pulsar survey performed at low radio frequencies (119--151\\,MHz) to date and has discovered 76 new radio pulsars, among which the 23.5-s pulsar J0250+5854, up until recently the slowest-spinning radio pulsar known. Here, we report on the timing solutions of 35 pulsars discovered by LOTAAS, which include a nulling pulsar and a mildly recycled pulsar, and thereby complete the full timing analysis of the LOTAAS pulsar discoveries. We give an overview of the findings from the full LOTAAS sample of 76 pulsars, discussing their pulse profiles, radio spectra and timing parameters. We found that the pulse profiles of some of the pulsars show profile variations in time or frequency and while some pulsars show signs of scattering, a large majority display no pulse broadening. The LOTAAS discoveries have on average steeper radio spectra and have longer spin periods ($1.4\\times$) as well as lower spin-down rates ($3.1\\times$) compared to the known pulsar population. We discuss the cause of these differences, and attribute them to a combination of selection effects of the LOTAAS survey as well as previous pulsar surveys, though can not rule out that older pulsars tend to have steeper radio spectra. |\n",
       "|<p style=\"color:green\"> **ERROR** </p>| <p style=\"color:green\">affiliation error: mpia.affiliation_verifications: 'Heidelberg' keyword not found.</p> |"
      ],
      "text/plain": [
       "<IPython.core.display.Markdown object>"
      ]
     },
     "metadata": {},
     "output_type": "display_data"
    },
    {
     "data": {
      "text/markdown": [
       "\n",
       "|||\n",
       "|---:|:---|\n",
       "| [![arXiv](https://img.shields.io/badge/arXiv-arXiv:2211.11143-b31b1b.svg)](https://arxiv.org/abs/arXiv:2211.11143) | **Increasing mass-to-flux ratio from the dense core to the protostellar  envelope around the Class 0 protostar HH 211**  |\n",
       "|| Hsi-Wei Yen, et al. -- incl., <mark>Chin-Fei Lee</mark>, <mark>Bo Zhao</mark> |\n",
       "|*Appeared on*| *2022-11-22*|\n",
       "|*Comments*| *27 pages, 12 figures, accepted by ApJ*|\n",
       "|**Abstract**| To study transportation of magnetic flux from large to small scales in protostellar sources, we analyzed the Nobeyama 45-m N2H+ (1-0), JCMT 850 um polarization, and ALMA C18O (2-1) and 1.3 mm and 0.8 mm (polarized) continuum data of the Class 0 protostar HH 211. The magnetic field strength in the dense core on a 0.1 pc scale was estimated with the single-dish line and polarization data using the Davis-Chandrasekhar-Fermi method, and that in the protostellar envelope on a 600 au scale was estimated from the force balance between the gravity and magnetic field tension by analyzing the gas kinematics and magnetic field structures with the ALMA data. Our analysis suggests that from 0.1 pc to 600 au scales, the magnetic field strength increases from 40-107 uG to 0.3-1.2 mG with a scaling relation between the magnetic field strength and density of $B \\propto \\rho^{0.36\\pm0.08}$, and the mass-to-flux ratio increases from 1.2-3.7 to 9.1-32.3. The increase in the mass-to-flux ratio could suggest that the magnetic field is partially decoupled from the neutral matter between 0.1 pc and 600 au scales, and hint at efficient ambipolar diffusion in the infalling protostellar envelope in HH 211, which is the dominant non-ideal magnetohydrodynamic effect considering the density on these scales. Thus, our results could support the scenario of efficient ambipolar diffusion enabling the formation of the 20 au Keplerian disk in HH 211. |\n",
       "|<p style=\"color:green\"> **ERROR** </p>| <p style=\"color:green\">affiliation error: mpia.affiliation_verifications: 'Heidelberg' keyword not found.</p> |"
      ],
      "text/plain": [
       "<IPython.core.display.Markdown object>"
      ]
     },
     "metadata": {},
     "output_type": "display_data"
    },
    {
     "data": {
      "text/markdown": [
       "\n",
       "|||\n",
       "|---:|:---|\n",
       "| [![arXiv](https://img.shields.io/badge/arXiv-arXiv:2211.11148-b31b1b.svg)](https://arxiv.org/abs/arXiv:2211.11148) | **Failed Solar Eruption of A Multi-thermal Flux Rope**  |\n",
       "|| <mark>Leping Li</mark>, Hongqiang Song, Hardi Peter, Lakshmi Pradeep Chitta |\n",
       "|*Appeared on*| *2022-11-22*|\n",
       "|*Comments*| *11 pages, 4 figures, accepted for publication in ApJL*|\n",
       "|**Abstract**| A magnetic flux rope (FR), hosting hot plasma, is thought to be central to the physics of coronal mass ejection. Such FRs are widely observed with passbands of the Atmospheric Imaging Assembly (AIA) onboard the Solar Dynamics Observatory (SDO), that are sensitive to emission from the hot plasma around 10 MK. In contrast, observations of warmer (around 1 MK) counterparts of FRs are sparse. In this study, we report the failed eruption of a multi-thermal FR, hosting both hot and warm plasma. On 2015 May 1, a hot channel appeared in the AIA high temperature passbands out of the southeastern solar limb to the south of a nearby flare, and then erupted outward. During the eruption, it rotated perpendicular to the erupting direction. The hot channel stopped erupting, and disappeared gradually, showing a failed eruption. During the hot channel eruption, a warm channel appeared sequentially in the AIA low temperature passbands. It underwent the similar evolution, including the failed eruption, rotation, and disappearance, to the hot channel. A bright compression front is formed in front of the warm channel eruption in AIA low temperature images. Under the hot and warm channel eruptions, a small flare occurred, upon which several current sheets, connecting the erupting channels and the underneath flare, formed in the AIA high temperature passbands. Investigating the spatial and temporal relation between the hot and warm channels, we suggest that both channels twist together, constituting the same multi-thermal FR that has plasma with the high and low temperatures. |\n",
       "|<p style=\"color:green\"> **ERROR** </p>| <p style=\"color:green\">affiliation error: mpia.affiliation_verifications: 'Heidelberg' keyword not found.</p> |"
      ],
      "text/plain": [
       "<IPython.core.display.Markdown object>"
      ]
     },
     "metadata": {},
     "output_type": "display_data"
    },
    {
     "data": {
      "text/markdown": [
       "\n",
       "|||\n",
       "|---:|:---|\n",
       "| [![arXiv](https://img.shields.io/badge/arXiv-arXiv:2211.11150-b31b1b.svg)](https://arxiv.org/abs/arXiv:2211.11150) | **Comparing hierarchical black hole mergers in star clusters and active  galactic nuclei**  |\n",
       "|| <mark>Guo-Peng Li</mark>, <mark>Da-Bin Lin</mark> |\n",
       "|*Appeared on*| *2022-11-22*|\n",
       "|*Comments*| *10 pages, 2 figures and 2 tables*|\n",
       "|**Abstract**| Star clusters (SCs) and active galactic nuclei (AGNs) are promising sites for the occurrence of hierarchical black hole (BH) mergers. We use simple models to compare hierarchical BH mergers in two of the dynamical formation channels. We find that the primary mass distribution of hierarchical mergers in AGNs is higher than that in SCs, with the peaks of $\\sim$$13~M_{\\odot}$ and $\\sim$$50~M_{\\odot}$, respectively. The effective spin ($\\chi_{\\rm eff}$) distribution of hierarchical mergers in SCs is symmetrical around zero as expected and $\\sim$50\\% of the mergers have $|\\chi_{\\rm eff}|>0.2$. The distribution of $\\chi_{\\rm eff}$ in AGNs is narrow and prefers positive values with the peak of $\\chi_{\\rm eff}\\ge0.3$ due to the assistance of AGN disks. BH hierarchical growth efficiency, with at least $\\sim$30\\% of mergers being hierarchies in AGNs, is much higher than the efficiency in SCs. We argue that the majority of the hierarchical merger candidates detected by LIGO-Virgo may originate from the AGN channel. |\n",
       "|<p style=\"color:green\"> **ERROR** </p>| <p style=\"color:green\">affiliation error: mpia.affiliation_verifications: 'Heidelberg' keyword not found.</p> |"
      ],
      "text/plain": [
       "<IPython.core.display.Markdown object>"
      ]
     },
     "metadata": {},
     "output_type": "display_data"
    },
    {
     "data": {
      "text/markdown": [
       "\n",
       "|||\n",
       "|---:|:---|\n",
       "| [![arXiv](https://img.shields.io/badge/arXiv-arXiv:2211.11240-b31b1b.svg)](https://arxiv.org/abs/arXiv:2211.11240) | **Magnetic activities and parameters of 43 flare stars in the GWAC archive**  |\n",
       "|| <mark>Guang-Wei Li</mark>, et al. -- incl., <mark>Hua-Li Li</mark>, <mark>Li-Ping Xin</mark>, <mark>Xu-Kang Zhang</mark>, <mark>Xin-Li Hao</mark>, <mark>En-Wei Liang</mark> |\n",
       "|*Appeared on*| *2022-11-22*|\n",
       "|*Comments*| *20 pages, 9 figures, 3 tables*|\n",
       "|**Abstract**| In the archive of the Ground Wide Angle Camera (GWAC), we found 43 white light flares from 43 stars, among which, three are sympathetic or homologous flares, and one of them also has a quasi-periodic pulsation with a period of $13.0\\pm1.5$ minutes. Among these 43 flare stars, there are 19 new active stars and 41 stars that have available TESS and/or K2 light curves, from which we found 931 stellar flares. We also obtained rotational or orbital periods of 34 GWAC flare stars, of which 33 are less than 5.4 days, and ephemerides of three eclipsing binaries from these light curves. Combining with low resolution spectra from LAMOST and the Xinglong 2.16m telescope, we found that $L_{\\rm H\\alpha}/L_{\\rm bol}$ are in the saturation region in the rotation-activity diagram. From the LAMOST medium-resolution spectrum, we found that Star \\#3 (HAT 178-02667) has double H$\\alpha$ emissions which imply it is a binary, and two components are both active stars. Thirteen stars have flare frequency distributions (FFDs) from TESS and/or K2 light curves. These FFDs show that the flares detected by GWAC can occur at a frequency of 0.5 to 9.5 yr$^{-1}$. The impact of flares on habitable planets was also studied based on these FFDs, and flares from some GWAC flare stars may produce enough energetic flares to destroy ozone layers, but none can trigger prebiotic chemistry on their habitable planets. |\n",
       "|<p style=\"color:green\"> **ERROR** </p>| <p style=\"color:green\">affiliation error: mpia.affiliation_verifications: 'Heidelberg' keyword not found.</p> |"
      ],
      "text/plain": [
       "<IPython.core.display.Markdown object>"
      ]
     },
     "metadata": {},
     "output_type": "display_data"
    },
    {
     "data": {
      "text/markdown": [
       "\n",
       "|||\n",
       "|---:|:---|\n",
       "| [![arXiv](https://img.shields.io/badge/arXiv-arXiv:2211.11265-b31b1b.svg)](https://arxiv.org/abs/arXiv:2211.11265) | **Comparison of magnetic energy and helicity in coronal jet simulations**  |\n",
       "|| E. Pariat, P. F. Wyper, <mark>L. Linan</mark> |\n",
       "|*Appeared on*| *2022-11-22*|\n",
       "|*Comments*| *19 pages, 7 Figures, accepted in Astronomy and Astrophysics*|\n",
       "|**Abstract**| While free/non-potential magnetic energy is a necessary element of any active phenomenon in the solar corona, its role as a marker of the trigger of eruptive process remains elusive. Based on the unique decomposition of the magnetic field into potential and non-potential components, magnetic energy and helicity can also both be uniquely decomposed into two quantities. Using two 3D MHD parametric simulations of a configuration that can produce coronal jets, we compare the dynamics of the magnetic energies and of the relative magnetic helicities. Both simulations share the same initial set-up and line-tied bottom-boundary driving profile. However, they differ by the duration of the forcing. In one simulation the system is driven sufficiently so that an helical jet is induced. The generation of the jet is however markedly delayed: a relatively long phase of lower-intensity reconnection takes place before the jet is eventually induced. In the other reference simulation, the system is driven during a shorter time, and no jet is produced. As expected, we observe that the Jet producing simulation contains a higher value of non-potential energy and non-potential helicity. Focusing on the phase between the end of the driving-phase and the jet generation, we note that magnetic energies remain relatively constant, while magnetic helicities have a noticeable evolution. During this post-driving phase, the ratio of the non-potential to total magnetic energy very slightly decreases while the helicity eruptivity index significantly increases. The jet is generated when the system is at the highest value of this helicity eruptivity index. This proxy critically decreases during the jet generation phase. The free energy also decreases but does not present any peak when the jet is being generated. |\n",
       "|<p style=\"color:green\"> **ERROR** </p>| <p style=\"color:green\">affiliation error: mpia.affiliation_verifications: 'Heidelberg' keyword not found.</p> |"
      ],
      "text/plain": [
       "<IPython.core.display.Markdown object>"
      ]
     },
     "metadata": {},
     "output_type": "display_data"
    },
    {
     "data": {
      "text/markdown": [
       "\n",
       "|||\n",
       "|---:|:---|\n",
       "| [![arXiv](https://img.shields.io/badge/arXiv-arXiv:2211.11279-b31b1b.svg)](https://arxiv.org/abs/arXiv:2211.11279) | **The RATAN-600 multi-frequency catalogue of blazars -- BLcat**  |\n",
       "|| Yu. Sotnikova, et al. -- incl., <mark>T. Semenova</mark> |\n",
       "|*Appeared on*| *2022-11-22*|\n",
       "|*Comments*| *9 pages, 8 figures*|\n",
       "|**Abstract**| In this paper we present the RATAN-600 multi-frequency catalogue of blazars, an updated version of the BLcat: the RATAN-600 multi-frequency catalogue of BL Lacertae objects. The main novelty in the catalogue is an extension of the sample with flat-spectrum radio quasars (FSRQs), thus currently it contains more than 1700 blazars of different types. The main feature of the BLcat is a compilation of radio continuum data for blazars based on the RATAN-600 quasi-simultaneous measurements at frequencies of 1.1, 2.3, 4.7, 7.7/8.2, 11.2, and 21.7/22.3 GHz. We additionally supplement the catalogue with the radio data from external sources to provide an opportunity to more complete study of radio spectra and radio light curves. For the convenience of users, we developed tools to calculate the spectral index, variability index, and radio luminosity. We briefly describe basic radio properties of blazar subsamples of the catalogue: spectral classification, spectral indices, flux density variability, and radio luminosity. |\n",
       "|<p style=\"color:green\"> **ERROR** </p>| <p style=\"color:green\">affiliation error: mpia.affiliation_verifications: 'Heidelberg' keyword not found.</p> |"
      ],
      "text/plain": [
       "<IPython.core.display.Markdown object>"
      ]
     },
     "metadata": {},
     "output_type": "display_data"
    },
    {
     "data": {
      "text/markdown": [
       "\n",
       "|||\n",
       "|---:|:---|\n",
       "| [![arXiv](https://img.shields.io/badge/arXiv-arXiv:2211.11299-b31b1b.svg)](https://arxiv.org/abs/arXiv:2211.11299) | **Peering into the Milky Way by FAST: I. Exquisite HI structures in the  inner Galactic disk from the piggyback line observations of the FAST GPPS  survey**  |\n",
       "|| Tao Hong, et al. -- incl., <mark>Ligang Hou</mark> |\n",
       "|*Appeared on*| *2022-11-22*|\n",
       "|*Comments*| *16 pages, 11 figures, accepted for publication in the special topic \"Peering into the Milky Way by FAST\" of SCIENCE CHINA Physics, Mechanics & Astronomy*|\n",
       "|**Abstract**| Neutral hydrogen (HI) is the fundamental component of the interstellar medium. The Galactic Plane Pulsar Snapshot (GPPS) survey is designed for hunting pulsars by using the Five-hundred-meter Aperture Spherical radio Telescope (FAST) from the visible Galactic plane within $|b| \\leq 10^{\\circ}$. The survey observations are conducted with the L-band 19-beam receiver in the frequency range of 1.0 $-$ 1.5 GHz, and each pointing has an integration time of 5 minutes. The piggyback spectral data simultaneously recorded during the FAST GPPS survey are great resources for studies on the Galactic HI distribution and ionized gas. We process the piggyback HI data of the FAST GPPS survey in the region of $33^{\\circ} \\leq l \\leq 55^{\\circ}$ and $|b| \\leq 2^{\\circ}$. The rms of the data cube is found to be approximately 40 mK at a velocity resolution of $0.1$ km s$^{-1}$, placing it the most sensitive observations of the Galactic HI by far. The high velocity resolution and high sensitivity of the FAST GPPS HI data enable us to detect weak exquisite HI structures in the interstellar medium. HI absorption line with great details can be obtained against bright continuum sources. The FAST GPPS survey piggyback HI data cube will be released and updated on the web: this http URL |\n",
       "|<p style=\"color:green\"> **ERROR** </p>| <p style=\"color:green\">affiliation error: mpia.affiliation_verifications: 'Heidelberg' keyword not found.</p> |"
      ],
      "text/plain": [
       "<IPython.core.display.Markdown object>"
      ]
     },
     "metadata": {},
     "output_type": "display_data"
    },
    {
     "data": {
      "text/markdown": [
       "\n",
       "|||\n",
       "|---:|:---|\n",
       "| [![arXiv](https://img.shields.io/badge/arXiv-arXiv:2211.11301-b31b1b.svg)](https://arxiv.org/abs/arXiv:2211.11301) | **Peering into the Milky Way by FAST: II. Ionized gas in the inner  Galactic disk revealed by the piggyback line observations of the FAST GPPS  survey**  |\n",
       "|| <mark>Ligang Hou</mark>, et al. |\n",
       "|*Appeared on*| *2022-11-22*|\n",
       "|*Comments*| *22 pages, 16 figures, accepted for publication in the special topic \"Peering into the Milky Way by FAST\" of SCIENCE CHINA Physics, Mechanics & Astronomy*|\n",
       "|**Abstract**| As one of the major components of the interstellar medium, the ionized gas in our Milky Way, especially the low-density diffuse component, has not been extensively observed in the radio band. The Galactic Plane Pulsar Snapshot (GPPS) survey covers the sky area within the Galactic latitude of $\\pm10^\\circ$ around the Galactic plane visible by the Five-hundred-meter Aperture Spherical radio Telescope (FAST), and the spectral line data are simultaneously recorded during the pulsar survey observations. With an integration time of 5 minutes for each beam, the GPPS survey project provides the most sensitive piggyback spectra for tens of radio recombination lines (RRLs) in the band of 1000$-$1500 MHz for H$n\\alpha$, He$n\\alpha$, C$n\\alpha$, as well as H$n\\beta$ and H$n\\gamma$. We processed the spectral data of RRLs, and obtained a sensitive averaged H$n\\alpha$ RRL map of a sky area of 88 square degrees in the inner Galaxy of 33$^\\circ$ $\\leqslant l \\leqslant$ 55$^\\circ$ and $|b| \\leqslant$ 2.0$^\\circ$. The final spectral data of the H$n\\alpha$ RRLs have a spatial resolution of $\\sim$3$^\\prime$, a spectral resolution of 2.2 km s$^{-1}$, and a typical spectral rms noise of 0.25 mJy beam$^{-1}$ or 6.3 mK in main-beam brightness temperature. The new H$n\\alpha$ RRL map shows complex structural features dominated by a number of HII regions and large extended diffuse ionized gas regions. We detect about 94% of the known HII regions and confirm 43 WISE HII regions in the observed sky area. Several large HII regions or star-forming complexes in the distant outer Galaxy are resolved in the map of H$n\\alpha$ RRLs. Extended RRL features of the diffuse ionized gas are detected. The RRL data products of the GPPS survey will be published and updated at this http URL |\n",
       "|<p style=\"color:green\"> **ERROR** </p>| <p style=\"color:green\">affiliation error: mpia.affiliation_verifications: 'Heidelberg' keyword not found.</p> |"
      ],
      "text/plain": [
       "<IPython.core.display.Markdown object>"
      ]
     },
     "metadata": {},
     "output_type": "display_data"
    },
    {
     "data": {
      "text/markdown": [
       "\n",
       "|||\n",
       "|---:|:---|\n",
       "| [![arXiv](https://img.shields.io/badge/arXiv-arXiv:2211.11408-b31b1b.svg)](https://arxiv.org/abs/arXiv:2211.11408) | **Peering into the Milky Way by FAST: IV. Identification of two new  Galactic supernova remnants G203.1+6.6 and G206.7+5.9**  |\n",
       "|| Xuyang Gao, et al. -- incl., <mark>He Zhao</mark> |\n",
       "|*Appeared on*| *2022-11-22*|\n",
       "|*Comments*| *12 pages, 6 figures, accepted for publication in the special topic \"Peering into the Milky Way by FAST\" of SCIENCE CHINA Physics, Mechanics & Astronomy*|\n",
       "|**Abstract**| A $5^{\\circ} \\times 7^{\\circ}$ sky area containing two large radio structures of G203.1+6.6 and G206.7+5.9 with a size of about 2.5$^{\\circ}$ and 3.5$^{\\circ}$ respectively is scanned by using the L-band 19-beam receiver of the Five-hundred-meter Aperture Spherical radio Telescope (FAST). The FAST L-band receiver covers a frequency range of 1.0 GHz $-$ 1.5 GHz. Commissioning of the receiving system, including the measurements of the half-power beam width, gain, and main-beam efficiency is made by observing the calibrators. The multi-channel spectroscopy backend mounted to the receiver allows an in-band spectral-index determination. The brightness-temperature spectral indices of both objects are measured to be $\\beta \\sim$ $-$2.6 to $-$2.7. Polarized emission is detected from the archival Effelsberg $\\lambda$11 cm data for all the shell structures of G203.1+6.6 and G206.7+5.9. These results clearly indicate a non-thermal synchrotron emitting nature, confirming that G203.1+6.6 and G206.7+5.9 are large shell-type supernova remnants (SNRs). Based on morphological correlation between the radio continuum emission of G206.7+5.9 and the HI structures, the kinematic distance to this new SNR is estimated to be about 440 pc, placing it in the Local Arm. |\n",
       "|<p style=\"color:green\"> **ERROR** </p>| <p style=\"color:green\">affiliation error: mpia.affiliation_verifications: 'Heidelberg' keyword not found.</p> |"
      ],
      "text/plain": [
       "<IPython.core.display.Markdown object>"
      ]
     },
     "metadata": {},
     "output_type": "display_data"
    },
    {
     "data": {
      "text/markdown": [
       "\n",
       "|||\n",
       "|---:|:---|\n",
       "| [![arXiv](https://img.shields.io/badge/arXiv-arXiv:2211.11431-b31b1b.svg)](https://arxiv.org/abs/arXiv:2211.11431) | **Broadband Spectral properties of MAXI J1348--630 using AstroSat  Observations**  |\n",
       "|| <mark>Gitika Mall</mark>, Jithesh Vadakkumthani, Ranjeev Misra |\n",
       "|*Appeared on*| *2022-11-22*|\n",
       "|*Comments*| *Accepted for publication in Research in Astronomy and Astrophysics (RAA); 16 pages, 6 figures*|\n",
       "|**Abstract**| We present broadband X-ray spectral analysis of the black hole X-ray binary MAXI J1348--630, performed using five AstroSat observations. The source was in the soft spectral state for the first three and in the hard state for the last two observations. The three soft state spectra were modelled using a relativistic thin accretion disc with reflection features and thermal Comptonization. Joint fitting of the soft state spectra constrained the spin parameter of the black hole $a_*$ $>$ 0.97 and the disc inclination angle $i$ = 32.9$\\substack{+4.1 \\\\ -0.6}$ degrees. The bright and faint hard states had bolometric flux a factor of $\\sim 6$ and $\\sim 10$ less than that of the soft state. Their spectra were fitted using the same model except that the inner disc radius was not assumed to be at the last stable orbit. However, the estimated values do not indicate large truncation radii and the inferred accretion rate in the disc was an order of magnitude lower than that of the soft state. Along with earlier reported temporal analysis, AstroSat data provides a comprehensive picture of the evolution of the source. |\n",
       "|<p style=\"color:green\"> **ERROR** </p>| <p style=\"color:green\">affiliation error: mpia.affiliation_verifications: 'Heidelberg' keyword not found.</p> |"
      ],
      "text/plain": [
       "<IPython.core.display.Markdown object>"
      ]
     },
     "metadata": {},
     "output_type": "display_data"
    },
    {
     "data": {
      "text/markdown": [
       "\n",
       "|||\n",
       "|---:|:---|\n",
       "| [![arXiv](https://img.shields.io/badge/arXiv-arXiv:2211.11440-b31b1b.svg)](https://arxiv.org/abs/arXiv:2211.11440) | **Kinetically stabilized inflation**  |\n",
       "|| <mark>Changhong Li</mark>, Hao Gong, Yeuk-kwan Edna Cheung |\n",
       "|*Appeared on*| *2022-11-22*|\n",
       "|*Comments*| *16 pages, 4 figures*|\n",
       "|**Abstract**| In this work, we propose a string-inspired two fields inflation model to address the fine-tuning problem that the standard inflation model suffers. The fast-rolling tachyon $\\mathcal{T}$ originated from the D-brane and anti-D-brane pair annihilation locks the inflaton $\\varphi$ slowly rolling on a Higgs-like potential $V(\\varphi)=-m_\\varphi^2\\varphi^2+\\lambda \\varphi^4$ and drives a kinetically stabilized (KS) inflation. Our numerical simulation confirms such a solution is a dynamic attractor. In particular, for $\\lambda< 0.8\\times 10^{-3}$, the e-folding number contributed by the KS inflation phase can be larger than $62$ to solve the horizon and flatness problems of Big Bang theory. Notably, this KS inflation generates a nearly scale-invariant primordial curvature perturbations spectrum consistent with current cosmic microwave background (CMB) observations. It predicts a low tensor-to-scalar ratio, which the current primordial gravitational wave background (the B-modes in CMB) searches favor. |\n",
       "|<p style=\"color:green\"> **ERROR** </p>| <p style=\"color:green\">affiliation error: mpia.affiliation_verifications: 'Heidelberg' keyword not found.</p> |"
      ],
      "text/plain": [
       "<IPython.core.display.Markdown object>"
      ]
     },
     "metadata": {},
     "output_type": "display_data"
    },
    {
     "data": {
      "text/markdown": [
       "\n",
       "|||\n",
       "|---:|:---|\n",
       "| [![arXiv](https://img.shields.io/badge/arXiv-arXiv:2211.10487-b31b1b.svg)](https://arxiv.org/abs/arXiv:2211.10487) | **Early Release Science of the exoplanet WASP-39b with JWST NIRSpec PRISM**  |\n",
       "|| Z. Rustamkulov, et al. -- incl., <mark>M. R. Line</mark>, <mark>J. M. Goyal</mark>, <mark>L. Kreidberg</mark>, <mark>T. Mikal-Evans</mark> |\n",
       "|*Appeared on*| *2022-11-22*|\n",
       "|*Comments*| *41 pages, 4 main figures, 10 extended data figures, 4 tables. Under review in Nature*|\n",
       "|**Abstract**| Transmission spectroscopy of exoplanets has revealed signatures of water vapor, aerosols, and alkali metals in a few dozen exoplanet atmospheres. However, these previous inferences with the Hubble and Spitzer Space Telescopes were hindered by the observations' relatively narrow wavelength range and spectral resolving power, which precluded the unambiguous identification of other chemical species$-$in particular the primary carbon-bearing molecules. Here we report a broad-wavelength 0.5-5.5 $\\mu$m atmospheric transmission spectrum of WASP-39 b, a 1200 K, roughly Saturn-mass, Jupiter-radius exoplanet, measured with JWST NIRSpec's PRISM mode as part of the JWST Transiting Exoplanet Community Early Release Science Team program. We robustly detect multiple chemical species at high significance, including Na (19$\\sigma$), H$_2$O (33$\\sigma$), CO$_2$ (28$\\sigma$), and CO (7$\\sigma$). The non-detection of CH$_4$, combined with a strong CO$_2$ feature, favours atmospheric models with a super-solar atmospheric metallicity. An unanticipated absorption feature at 4$\\mu$m is best explained by SO$_2$ (2.7$\\sigma$), which could be a tracer of atmospheric photochemistry. These observations demonstrate JWST's sensitivity to a rich diversity of exoplanet compositions and chemical processes. |\n",
       "|<p style=\"color:red\"> **ERROR** </p>| <p style=\"color:red\">latex error not a gzip file</p> |"
      ],
      "text/plain": [
       "<IPython.core.display.Markdown object>"
      ]
     },
     "metadata": {},
     "output_type": "display_data"
    },
    {
     "data": {
      "text/markdown": [
       "\n",
       "|||\n",
       "|---:|:---|\n",
       "| [![arXiv](https://img.shields.io/badge/arXiv-arXiv:2211.10488-b31b1b.svg)](https://arxiv.org/abs/arXiv:2211.10488) | **Early Release Science of the Exoplanet WASP-39b with JWST NIRSpec G395H**  |\n",
       "|| <mark>Lili Alderson</mark>, et al. -- incl., <mark>Jayesh M. Goyal</mark>, <mark>Elspeth K. H. Lee</mark>, <mark>Thomas Mikal-Evans</mark>, <mark>Lakeisha Ramos-Rosado</mark>, <mark>Laura Kreidberg</mark>, <mark>Michael R. Line</mark> |\n",
       "|*Appeared on*| *2022-11-22*|\n",
       "|*Comments*| *44 pages, 11 figures, 3 tables. Resubmitted after revision to Nature*|\n",
       "|**Abstract**| Measuring the abundances of carbon and oxygen in exoplanet atmospheres is considered a crucial avenue for unlocking the formation and evolution of exoplanetary systems. Access to an exoplanet's chemical inventory requires high-precision observations, often inferred from individual molecular detections with low-resolution space-based and high-resolution ground-based facilities. Here we report the medium-resolution (R$\\sim$600) transmission spectrum of an exoplanet atmosphere between 3-5 $\\mu$m covering multiple absorption features for the Saturn-mass exoplanet WASP-39b, obtained with JWST NIRSpec G395H. Our observations achieve 1.46x photon precision, providing an average transit depth uncertainty of 221 ppm per spectroscopic bin, and present minimal impacts from systematic effects. We detect significant absorption from CO$_2$ (28.5$\\sigma$) and H$_2$O (21.5$\\sigma$), and identify SO$_2$ as the source of absorption at 4.1 $\\mu$m (4.8$\\sigma$). Best-fit atmospheric models range between 3 and 10x solar metallicity, with sub-solar to solar C/O ratios. These results, including the detection of SO$_2$, underscore the importance of characterising the chemistry in exoplanet atmospheres, and showcase NIRSpec G395H as an excellent mode for time series observations over this critical wavelength range. |\n",
       "|<p style=\"color:red\"> **ERROR** </p>| <p style=\"color:red\">latex error not a gzip file</p> |"
      ],
      "text/plain": [
       "<IPython.core.display.Markdown object>"
      ]
     },
     "metadata": {},
     "output_type": "display_data"
    },
    {
     "data": {
      "text/markdown": [
       "\n",
       "|||\n",
       "|---:|:---|\n",
       "| [![arXiv](https://img.shields.io/badge/arXiv-arXiv:2211.10489-b31b1b.svg)](https://arxiv.org/abs/arXiv:2211.10489) | **Early Release Science of the exoplanet WASP-39b with JWST NIRCam**  |\n",
       "|| Eva-Maria Ahrer, et al. -- incl., <mark>Sebastian Zieba</mark>, <mark>Jayesh M Goyal</mark>, <mark>Joseph Harrington</mark>, <mark>Laura Kreidberg</mark>, <mark>Nikole K. Lewis</mark>, <mark>Michael R. Line</mark> |\n",
       "|*Appeared on*| *2022-11-22*|\n",
       "|*Comments*| *35 pages, 13 figures, 3 tables, Nature, accepted*|\n",
       "|**Abstract**| Measuring the metallicity and carbon-to-oxygen (C/O) ratio in exoplanet atmospheres is a fundamental step towards constraining the dominant chemical processes at work and, if in equilibrium, revealing planet formation histories. Transmission spectroscopy provides the necessary means by constraining the abundances of oxygen- and carbon-bearing species; however, this requires broad wavelength coverage, moderate spectral resolution, and high precision that, together, are not achievable with previous observatories. Now that JWST has commenced science operations, we are able to observe exoplanets at previously uncharted wavelengths and spectral resolutions. Here we report time-series observations of the transiting exoplanet WASP-39b using JWST's Near InfraRed Camera (NIRCam). The long-wavelength spectroscopic and short-wavelength photometric light curves span 2.0 - 4.0 $\\mu$m, exhibit minimal systematics, and reveal well-defined molecular absorption features in the planet's spectrum. Specifically, we detect gaseous H$_2$O in the atmosphere and place an upper limit on the abundance of CH$_4$. The otherwise prominent CO$_2$ feature at 2.8 $\\mu$m is largely masked by H$_2$O. The best-fit chemical equilibrium models favour an atmospheric metallicity of 1-100$\\times$ solar (i.e., an enrichment of elements heavier than helium relative to the Sun) and a sub-stellar carbon-to-oxygen (C/O) ratio. The inferred high metallicity and low C/O ratio may indicate significant accretion of solid materials during planet formation or disequilibrium processes in the upper atmosphere. |\n",
       "|<p style=\"color:red\"> **ERROR** </p>| <p style=\"color:red\">latex error not a gzip file</p> |"
      ],
      "text/plain": [
       "<IPython.core.display.Markdown object>"
      ]
     },
     "metadata": {},
     "output_type": "display_data"
    },
    {
     "data": {
      "text/markdown": [
       "\n",
       "|||\n",
       "|---:|:---|\n",
       "| [![arXiv](https://img.shields.io/badge/arXiv-arXiv:2211.10493-b31b1b.svg)](https://arxiv.org/abs/arXiv:2211.10493) | **Early Release Science of the exoplanet WASP-39b with JWST NIRISS**  |\n",
       "|| Adina D. Feinstein, et al. -- incl., <mark>Michael R. Line</mark>, <mark>Heather A. Knutson</mark>, <mark>Thomas Mikal-Evans</mark>, <mark>Jayesh M Goyal</mark>, <mark>Laura Kreidberg</mark> |\n",
       "|*Appeared on*| *2022-11-22*|\n",
       "|*Comments*| *48 pages, 12 figures, 2 tables. Under review at Nature*|\n",
       "|**Abstract**| Transmission spectroscopy provides insight into the atmospheric properties and consequently the formation history, physics, and chemistry of transiting exoplanets. However, obtaining precise inferences of atmospheric properties from transmission spectra requires simultaneously measuring the strength and shape of multiple spectral absorption features from a wide range of chemical species. This has been challenging given the precision and wavelength coverage of previous observatories. Here, we present the transmission spectrum of the Saturn-mass exoplanet WASP-39b obtained using the SOSS mode of the NIRISS instrument on the JWST. This spectrum spans $0.6 - 2.8 \\mu$m in wavelength and reveals multiple water absorption bands, the potassium resonance doublet, as well as signatures of clouds. The precision and broad wavelength coverage of NIRISS-SOSS allows us to break model degeneracies between cloud properties and the atmospheric composition of WASP-39b, favoring a heavy element enhancement (\"metallicity\") of $\\sim 10 - 30 \\times$ the solar value, a sub-solar carbon-to-oxygen (C/O) ratio, and a solar-to-super-solar potassium-to-oxygen (K/O) ratio. The observations are best explained by wavelength-dependent, non-gray clouds with inhomogeneous coverage of the planet's terminator. |\n",
       "|<p style=\"color:red\"> **ERROR** </p>| <p style=\"color:red\">latex error not a gzip file</p> |"
      ],
      "text/plain": [
       "<IPython.core.display.Markdown object>"
      ]
     },
     "metadata": {},
     "output_type": "display_data"
    }
   ],
   "source": [
    "import datetime\n",
    "today = str(datetime.date.today())\n",
    "logfile = f\"_build/html/logs/log-{today}.md\"\n",
    "\n",
    "\n",
    "with open(logfile, 'w') as logs:\n",
    "    # Success\n",
    "    logs.write(f'# Arxiv on Deck 2: Logs - {today}\\n\\n')\n",
    "    logs.write(\"\"\"* Arxiv had {0:,d} new papers\\n\"\"\".format(len(new_papers)))\n",
    "    logs.write(\"\"\"    * {0:,d} with possible author matches\\n\\n\"\"\".format(len(candidates)))\n",
    "    logs.write(\"## Sucessful papers\\n\\n\")\n",
    "    display(Markdown(\"## Successful papers\"))\n",
    "    success = [k[0] for k in documents]\n",
    "    for candid in candidates:\n",
    "        if candid['identifier'].split(':')[-1] in success:\n",
    "            display(candid)\n",
    "            logs.write(candid.generate_markdown_text() + '\\n\\n')\n",
    "\n",
    "    ## failed\n",
    "    logs.write(\"## Failed papers\\n\\n\")\n",
    "    display(Markdown(\"## Failed papers\"))\n",
    "    failed = sorted(failed, key=lambda x: x[1])\n",
    "    current_reason = \"\"\n",
    "    for paper, reason in failed:\n",
    "        if 'affiliation' in reason:\n",
    "            color = 'green'\n",
    "        else:\n",
    "            color = 'red'\n",
    "        data = Markdown(\n",
    "                paper.generate_markdown_text() + \n",
    "                f'\\n|<p style=\"color:{color:s}\"> **ERROR** </p>| <p style=\"color:{color:s}\">{reason:s}</p> |'\n",
    "               )\n",
    "        if reason != current_reason:\n",
    "            logs.write(f'### {reason:s} \\n\\n')\n",
    "            current_reason = reason\n",
    "        logs.write(data.data + '\\n\\n')\n",
    "        \n",
    "        # only display here the important errors (all in logs)\n",
    "        # if color in ('red',):\n",
    "        display(data)"
   ]
  },
  {
   "cell_type": "markdown",
   "id": "472d20ee",
   "metadata": {
    "papermill": {
     "duration": 0.010365,
     "end_time": "2022-11-22T04:09:06.828181",
     "exception": false,
     "start_time": "2022-11-22T04:09:06.817816",
     "status": "completed"
    },
    "tags": []
   },
   "source": [
    "## Export documents\n",
    "\n",
    "We now write the .md files and export relevant images"
   ]
  },
  {
   "cell_type": "code",
   "execution_count": 7,
   "id": "d426aed9",
   "metadata": {
    "execution": {
     "iopub.execute_input": "2022-11-22T04:09:06.850277Z",
     "iopub.status.busy": "2022-11-22T04:09:06.849778Z",
     "iopub.status.idle": "2022-11-22T04:09:06.857829Z",
     "shell.execute_reply": "2022-11-22T04:09:06.857098Z"
    },
    "papermill": {
     "duration": 0.020983,
     "end_time": "2022-11-22T04:09:06.859396",
     "exception": false,
     "start_time": "2022-11-22T04:09:06.838413",
     "status": "completed"
    },
    "tags": []
   },
   "outputs": [],
   "source": [
    "def export_markdown_summary(md: str, md_fname:str, directory: str):\n",
    "    \"\"\"Export MD document and associated relevant images\"\"\"\n",
    "    import os\n",
    "    import shutil\n",
    "    import re\n",
    "\n",
    "    if (os.path.exists(directory) and not os.path.isdir(directory)):\n",
    "        raise RuntimeError(f\"a non-directory file exists with name {directory:s}\")\n",
    "\n",
    "    if (not os.path.exists(directory)):\n",
    "        print(f\"creating directory {directory:s}\")\n",
    "        os.mkdir(directory)\n",
    "\n",
    "    fig_fnames = (re.compile(r'\\[Fig.*\\]\\((.*)\\)').findall(md) + \n",
    "                  re.compile(r'\\<img src=\"([^>\\s]*)\"[^>]*/>').findall(md))\n",
    "    for fname in fig_fnames:\n",
    "        if 'http' in fname:\n",
    "            # No need to copy online figures\n",
    "            continue\n",
    "        destdir = os.path.join(directory, os.path.dirname(fname))\n",
    "        destfname = os.path.join(destdir, os.path.basename(fname))\n",
    "        try:\n",
    "            os.makedirs(destdir)\n",
    "        except FileExistsError:\n",
    "            pass\n",
    "        shutil.copy(fname, destfname)\n",
    "    with open(os.path.join(directory, md_fname), 'w') as fout:\n",
    "        fout.write(md)\n",
    "    print(\"exported in \", os.path.join(directory, md_fname))\n",
    "    [print(\"    + \" + os.path.join(directory,fk)) for fk in fig_fnames]"
   ]
  },
  {
   "cell_type": "code",
   "execution_count": 8,
   "id": "014d04a4",
   "metadata": {
    "execution": {
     "iopub.execute_input": "2022-11-22T04:09:06.882419Z",
     "iopub.status.busy": "2022-11-22T04:09:06.881815Z",
     "iopub.status.idle": "2022-11-22T04:09:06.885334Z",
     "shell.execute_reply": "2022-11-22T04:09:06.884662Z"
    },
    "papermill": {
     "duration": 0.017058,
     "end_time": "2022-11-22T04:09:06.886855",
     "exception": false,
     "start_time": "2022-11-22T04:09:06.869797",
     "status": "completed"
    },
    "tags": []
   },
   "outputs": [],
   "source": [
    "for paper_id, md in documents:\n",
    "    export_markdown_summary(md, f\"{paper_id:s}.md\", '_build/html/')"
   ]
  },
  {
   "cell_type": "markdown",
   "id": "f087a0a7",
   "metadata": {
    "papermill": {
     "duration": 0.010536,
     "end_time": "2022-11-22T04:09:06.907727",
     "exception": false,
     "start_time": "2022-11-22T04:09:06.897191",
     "status": "completed"
    },
    "tags": []
   },
   "source": [
    "## Display the papers\n",
    "\n",
    "Not necessary but allows for a quick check."
   ]
  },
  {
   "cell_type": "code",
   "execution_count": 9,
   "id": "fd25f625",
   "metadata": {
    "execution": {
     "iopub.execute_input": "2022-11-22T04:09:06.929870Z",
     "iopub.status.busy": "2022-11-22T04:09:06.929292Z",
     "iopub.status.idle": "2022-11-22T04:09:06.933043Z",
     "shell.execute_reply": "2022-11-22T04:09:06.932444Z"
    },
    "papermill": {
     "duration": 0.016501,
     "end_time": "2022-11-22T04:09:06.934521",
     "exception": false,
     "start_time": "2022-11-22T04:09:06.918020",
     "status": "completed"
    },
    "scrolled": false,
    "tags": []
   },
   "outputs": [],
   "source": [
    "[display(Markdown(k[1])) for k in documents];"
   ]
  },
  {
   "cell_type": "markdown",
   "id": "873873a4",
   "metadata": {
    "papermill": {
     "duration": 0.010353,
     "end_time": "2022-11-22T04:09:06.955170",
     "exception": false,
     "start_time": "2022-11-22T04:09:06.944817",
     "status": "completed"
    },
    "tags": []
   },
   "source": [
    "# Create HTML index"
   ]
  },
  {
   "cell_type": "code",
   "execution_count": 10,
   "id": "cf665672",
   "metadata": {
    "execution": {
     "iopub.execute_input": "2022-11-22T04:09:06.977104Z",
     "iopub.status.busy": "2022-11-22T04:09:06.976716Z",
     "iopub.status.idle": "2022-11-22T04:09:06.986713Z",
     "shell.execute_reply": "2022-11-22T04:09:06.986025Z"
    },
    "papermill": {
     "duration": 0.022776,
     "end_time": "2022-11-22T04:09:06.988217",
     "exception": false,
     "start_time": "2022-11-22T04:09:06.965441",
     "status": "completed"
    },
    "tags": []
   },
   "outputs": [
    {
     "name": "stdout",
     "output_type": "stream",
     "text": [
      "95  publications in the last 7 days.\n",
      "\t _build/html/2211.09840.md\n",
      "\t _build/html/2211.09217.md\n",
      "\t _build/html/2211.08493.md\n",
      "\t _build/html/2211.08487.md\n",
      "\t _build/html/2211.08294.md\n",
      "\t _build/html/2211.07667.md\n",
      "\t _build/html/2211.07659.md\n",
      "\t _build/html/2211.06454.md\n",
      "\t _build/html/2211.06205.md\n",
      "\t _build/html/2211.06194.md\n",
      "\t _build/html/2211.05022.md\n",
      "\t _build/html/2211.04048.md\n",
      "\t _build/html/2211.03641.md\n",
      "\t _build/html/2211.02502.md\n",
      "\t _build/html/2211.01474.md\n",
      "\t _build/html/2211.00667.md\n",
      "\t _build/html/2211.00657.md\n",
      "\t _build/html/2211.00087.md\n",
      "\t _build/html/2211.00036.md\n",
      "\t _build/html/2211.00020.md\n",
      "\t _build/html/2211.00010.md\n",
      "\t _build/html/2210.17434.md\n",
      "\t _build/html/2210.12412.md\n",
      "\t _build/html/2210.11926.md\n",
      "\t _build/html/2210.11551.md\n",
      "\t _build/html/2210.11103.md\n",
      "\t _build/html/2210.10707.md\n",
      "\t _build/html/2210.09930.md\n",
      "\t _build/html/2210.08996.md\n",
      "\t _build/html/2210.08517.md\n",
      "\t _build/html/2210.08510.md\n",
      "\t _build/html/2210.08078.md\n",
      "\t _build/html/2210.06504.md\n",
      "\t _build/html/2210.05695.md\n",
      "\t _build/html/2210.05595.md\n",
      "\t _build/html/2210.05505.md\n",
      "\t _build/html/2210.04721.md\n",
      "\t _build/html/2210.03615.md\n",
      "\t _build/html/2210.01811.md\n",
      "\t _build/html/2210.01809.md\n",
      "\t _build/html/2210.01556.md\n",
      "\t _build/html/2210.00863.md\n",
      "\t _build/html/2210.00560.md\n",
      "\t _build/html/2209.15403.md\n",
      "\t _build/html/2209.15110.md\n",
      "\t _build/html/2209.14410.md\n",
      "\t _build/html/2209.14396.md\n",
      "\t _build/html/2209.13717.md\n",
      "\t _build/html/2209.13336.md\n",
      "\t _build/html/2209.12906.md\n",
      "\t _build/html/2209.11781.md\n",
      "\t _build/html/2209.11602.md\n",
      "\t _build/html/2209.11248.md\n",
      "\t _build/html/2209.11096.md\n",
      "\t _build/html/2209.10618.md\n",
      "\t _build/html/2209.09914.md\n",
      "\t _build/html/2209.09823.md\n",
      "\t _build/html/2209.08242.md\n",
      "\t _build/html/2209.08120.md\n",
      "\t _build/html/2209.08106.md\n",
      "\t _build/html/2209.07962.md\n",
      "\t _build/html/2209.07931.md\n",
      "\t _build/html/2209.06833.md\n",
      "\t _build/html/2209.05814.md\n",
      "\t _build/html/2209.05593.md\n",
      "\t _build/html/2209.04304.md\n",
      "\t _build/html/2209.03367.md\n",
      "\t _build/html/2209.02872.md\n",
      "\t _build/html/2209.02725.md\n",
      "\t _build/html/2209.02722.md\n",
      "\t _build/html/2209.02092.md\n",
      "\t _build/html/2209.01125.md\n",
      "\t _build/html/2209.00828.md\n",
      "\t _build/html/2209.00363.md\n",
      "\t _build/html/2208.14927.md\n",
      "\t _build/html/2208.09335.md\n",
      "\t _build/html/2208.08872.md\n",
      "\t _build/html/2204.06393.md\n",
      "\t _build/html/2204.03335.md\n",
      "\t _build/html/2204.03253.md\n",
      "\t _build/html/2204.02998.md\n",
      "\t _build/html/2204.02109.md\n",
      "\t _build/html/2204.02017.md\n",
      "\t _build/html/2204.01824.md\n",
      "\t _build/html/2204.01758.md\n",
      "\t _build/html/2204.01245.md\n",
      "\t _build/html/2204.00793.md\n",
      "\t _build/html/2204.00342.md\n",
      "\t _build/html/2203.16959.md\n",
      "\t _build/html/2203.16856.md\n",
      "\t _build/html/2203.16735.md\n",
      "\t _build/html/2203.16734.md\n",
      "\t _build/html/2203.16504.md\n",
      "\t _build/html/2203.15822.md\n",
      "\t _build/html/2203.15811.md\n"
     ]
    }
   ],
   "source": [
    "from datetime import datetime, timedelta, timezone\n",
    "from glob import glob\n",
    "\n",
    "files = glob('_build/html/*.md')\n",
    "days = 7\n",
    "now = datetime.today()\n",
    "res = []\n",
    "for fk in files:\n",
    "    stat_result = os.stat(fk).st_ctime\n",
    "    modified = datetime.fromtimestamp(stat_result, tz=timezone.utc).replace(tzinfo=None)\n",
    "    delta = now.today() - modified\n",
    "    if delta <= timedelta(days=days):\n",
    "        res.append((delta.seconds, fk))\n",
    "res = [k[1] for k in reversed(sorted(res, key=lambda x:x[1]))]\n",
    "npub = len(res)\n",
    "print(len(res), f\" publications in the last {days:d} days.\")\n",
    "[ print('\\t', k) for k in res ];"
   ]
  },
  {
   "cell_type": "code",
   "execution_count": 11,
   "id": "52ca0208",
   "metadata": {
    "execution": {
     "iopub.execute_input": "2022-11-22T04:09:07.010736Z",
     "iopub.status.busy": "2022-11-22T04:09:07.010306Z",
     "iopub.status.idle": "2022-11-22T04:09:07.016642Z",
     "shell.execute_reply": "2022-11-22T04:09:07.015971Z"
    },
    "papermill": {
     "duration": 0.019312,
     "end_time": "2022-11-22T04:09:07.018133",
     "exception": false,
     "start_time": "2022-11-22T04:09:06.998821",
     "status": "completed"
    },
    "scrolled": false,
    "tags": []
   },
   "outputs": [],
   "source": [
    "def create_carousel(npub=4):\n",
    "    \"\"\" Generate the HTML code for a carousel with `npub` slides \"\"\"\n",
    "    carousel = [\"\"\"<section class=\"carousel\" aria-label=\"Gallery\">\"\"\",\n",
    "                \"\"\"  <ol class=\"carousel__viewport\">\"\"\",\n",
    "    ]\n",
    "    for k in range(1, npub + 1):\n",
    "        prev_ = k - 1\n",
    "        next_ = k + 1\n",
    "        if prev_ <= 0:\n",
    "            prev_ = npub\n",
    "        if next_ > npub:\n",
    "            next_ = 1\n",
    "        text  = f\"\"\"    <li id=\"carousel__slide{k}\" tabindex=\"0\" class=\"carousel__slide\">\\n\"\"\"\n",
    "        text += f\"\"\"       <div class=\"carousel__snapper\">\\n\"\"\"\n",
    "        text += f\"\"\"         <a href=\"#carousel__slide{prev_}\" class=\"carousel__prev\">Go to previous slide</a>\\n\"\"\"\n",
    "        text += f\"\"\"         <a href=\"#carousel__slide{next_}\" class=\"carousel__next\">Go to next slide</a>\\n\"\"\"\n",
    "        text += f\"\"\"         <div id=\"slide{k}_content\" class=\"md_view\" >Content {k}</div>\\n\"\"\"\n",
    "        text += f\"\"\"       </div>\\n\"\"\"\n",
    "        text += f\"\"\"    </li>\"\"\"\n",
    "        carousel.append(text)\n",
    "\n",
    "    carousel.extend([\n",
    "        \"\"\"  </ol>\"\"\",\n",
    "        \"\"\"  <aside class=\"carousel__navigation\">\"\"\",\n",
    "        \"\"\"    <ol class=\"carousel__navigation-list\">\"\"\"])\n",
    "\n",
    "    for k in range(1, npub + 1):\n",
    "        text  = f\"\"\"      <li class=\"carousel__navigation-item\">\\n\"\"\"\n",
    "        text += f\"\"\"        <a href=\"#carousel__slide{k}\" class=\"carousel__navigation-button\">Go to {k}</a>\\n\"\"\"\n",
    "        text += f\"\"\"      </li>\"\"\"\n",
    "        carousel.append(text)\n",
    "    carousel.extend([\"\"\"    </ol>\"\"\", \"\"\"  </aside>\"\"\", \"\"\"</section>\"\"\"])\n",
    "\n",
    "    return '\\n'.join(carousel)"
   ]
  },
  {
   "cell_type": "code",
   "execution_count": 12,
   "id": "a6eac5b6",
   "metadata": {
    "execution": {
     "iopub.execute_input": "2022-11-22T04:09:07.040865Z",
     "iopub.status.busy": "2022-11-22T04:09:07.040533Z",
     "iopub.status.idle": "2022-11-22T04:09:07.046833Z",
     "shell.execute_reply": "2022-11-22T04:09:07.046204Z"
    },
    "papermill": {
     "duration": 0.019673,
     "end_time": "2022-11-22T04:09:07.048335",
     "exception": false,
     "start_time": "2022-11-22T04:09:07.028662",
     "status": "completed"
    },
    "scrolled": false,
    "tags": []
   },
   "outputs": [],
   "source": [
    "carousel = create_carousel(npub)\n",
    "docs = ', '.join(['\"{0:s}\"'.format(k.split('/')[-1]) for k in res])\n",
    "slides = ', '.join([f'\"slide{k}_content\"' for k in range(1, npub + 1)])\n",
    "\n",
    "script = f\"\"\"\n",
    "const docs = [{docs}]\n",
    "\n",
    "const slides = [{slides}]\n",
    "\"\"\" + \"\"\"\n",
    "async function run() {\n",
    "    for (let i = 0; i < docs.length; i++) {\n",
    "        let file = await fetch(docs[i]);\n",
    "        let text = await file.text()\n",
    "        document.getElementById(slides[i]).innerHTML =\n",
    "            marked.parse(text);\n",
    "    }\n",
    "    hljs.highlightAll();\n",
    "}\n",
    "run()\n",
    "\"\"\"\n",
    "\n",
    "page = f\"\"\"<!doctype html>\n",
    "<html lang=\"en\">\n",
    "\n",
    "<head>\n",
    "  <meta charset=\"utf-8\">\n",
    "  <meta name=\"viewport\" content=\"width=device-width, initial-scale=1\">\n",
    "  <!-- Bootstrap CSS -->\n",
    "  <link href=\"https://cdn.jsdelivr.net/npm/bootstrap@5.0.2/dist/css/bootstrap.min.css\" rel=\"stylesheet\"\n",
    "   integrity=\"sha384-EVSTQN3/azprG1Anm3QDgpJLIm9Nao0Yz1ztcQTwFspd3yD65VohhpuuCOmLASjC\" crossorigin=\"anonymous\">\n",
    "  <!-- highlight.js CSS -->\n",
    "  <link rel=\"stylesheet\" href=\"https://cdnjs.cloudflare.com/ajax/libs/highlight.js/11.1.0/styles/default.min.css\">\n",
    "  <!-- Mathjax 3 -->\n",
    "  <script type=\"text/javascript\" id=\"MathJax-config\" src=\"mathjax_config.js\"> </script>\n",
    "  <script type=\"text/javascript\" id=\"MathJax-script\" async \n",
    "    src=\"https://cdn.jsdelivr.net/npm/mathjax@3/es5/tex-mml-chtml.js\">\n",
    "  </script>\n",
    "  <link rel=\"stylesheet\" href=\"index_carousel.css\">\n",
    "  <link rel=\"icon\" type=\"image/x-icon\" href=\"https://www.mpia.de/assets/touch-icon-32x32-a66937bcebc4e8894ebff1f41a366c7c7220fd97a38869ee0f2db65a9f59b6c1.png\">\n",
    "  <title>MPIA Arxiv on deck!</title>\n",
    "</head>\n",
    "\n",
    "<body>\n",
    "  <div id=\"header\"> <img src=\"header_banner.png\" width=\"100%\"></div>\n",
    "  <div id=\"suptitle\"> 7-day archives </div>\n",
    "  <div id=\"info\">\n",
    "    <img src=\"https://pngimg.com/uploads/github/github_PNG58.png\" height=30rem></img>\n",
    "    <a href=https://github.com/mpi-astronomy/arxiv_display style=\"color:black;\">github/mpi-astronomy/arxiv_display</a> \n",
    "  </div>\n",
    "  {carousel:s}\n",
    "</body>\n",
    "\n",
    "<!-- Render Markdown -->\n",
    "\n",
    "<body>\n",
    "  <!-- highlight.js: https://highlightjs.org/download/ -->\n",
    "  <script src=\"https://cdnjs.cloudflare.com/ajax/libs/highlight.js/11.5.0/highlight.min.js\"></script>\n",
    "  <!-- marked.js -->\n",
    "  <script src=\"https://cdn.jsdelivr.net/npm/marked/marked.min.js\"></script>\n",
    "  <script>{script:s}</script>\n",
    "</body>\n",
    "</html>\n",
    "\"\"\"\n",
    "with open(\"_build/html/index_7days.html\", 'w') as fout:\n",
    "    fout.write(page)"
   ]
  },
  {
   "cell_type": "markdown",
   "id": "1cebacbc",
   "metadata": {
    "papermill": {
     "duration": 0.010715,
     "end_time": "2022-11-22T04:09:07.106355",
     "exception": false,
     "start_time": "2022-11-22T04:09:07.095640",
     "status": "completed"
    },
    "tags": []
   },
   "source": [
    "# Debugging papers"
   ]
  },
  {
   "cell_type": "raw",
   "id": "debe7cc6",
   "metadata": {
    "papermill": {
     "duration": 0.010599,
     "end_time": "2022-11-22T04:09:07.127663",
     "exception": false,
     "start_time": "2022-11-22T04:09:07.117064",
     "status": "completed"
    },
    "tags": []
   },
   "source": [
    "raise NotImplementedError(\"Manual Stop\")"
   ]
  },
  {
   "cell_type": "raw",
   "id": "eb169192",
   "metadata": {
    "papermill": {
     "duration": 0.010547,
     "end_time": "2022-11-22T04:09:07.148725",
     "exception": false,
     "start_time": "2022-11-22T04:09:07.138178",
     "status": "completed"
    },
    "scrolled": true,
    "tags": []
   },
   "source": [
    "from IPython.display import display, Markdown\n",
    "from TexSoup import TexSoup\n",
    "import re\n",
    "\n",
    "def bracket_error(source: str):\n",
    "    \"\"\" Find problematic portions of the document \"\"\"\n",
    "    \n",
    "    print(\"len(source)\", len(source))\n",
    "    \n",
    "    # Checking header\n",
    "    begin_doc = next(re.finditer(r'\\\\begin\\{document\\}', doc.source)).span()[1]\n",
    "    header = source[:begin_doc]\n",
    "    text = header + r\"\\n\\end{document}\"\n",
    "\n",
    "    try:\n",
    "        # print(\"Header check... \", end='')\n",
    "        TexSoup(text)\n",
    "        display(Markdown(f\"**[OK]** - Header\"))\n",
    "    except:\n",
    "        raise RuntimeError(\"Error in the header\")\n",
    "        \n",
    "    # Check the text per section until the end.\n",
    "    # Do not stop and try them all.\n",
    "    \n",
    "    problematic_text = []\n",
    "    \n",
    "    sections = ([(0, begin_doc, 'until first section')] + \n",
    "                [(g.span()[0], g.span()[1], g.group()) for g in re.finditer(r'\\\\section\\{.*\\}', source)] +\n",
    "                [(g.span()[0], g.span()[1], g.group()) for g in re.finditer(r'\\\\begin\\{appendix\\}', source)]\n",
    "               )\n",
    "    sections.append([len(source), len(source), 'end'])\n",
    "    \n",
    "    sections = sorted(sections, key=lambda x: x[0])\n",
    "    \n",
    "    prev_pos, prev_name = (0, 'header')\n",
    "    parsed = []\n",
    "    \n",
    "    for span, span_end, name in sections:\n",
    "\n",
    "        if span - prev_pos <= 0:\n",
    "            continue\n",
    "            \n",
    "\n",
    "        text = source[prev_pos:span]\n",
    "        if prev_pos > begin_doc:\n",
    "            text = r\"\\n\\begin{document}\" + text + r\"\\n\\end{document}\"\n",
    "        else:\n",
    "            text = text + r\"\\n\\end{document}\"\n",
    "        try:\n",
    "            #print(f\"{prev_pos}:{prev_name}-->{span}:{name} check... \", end='')\n",
    "            parsed.append(TexSoup(text, tolerance=1))  # allow not ending env\n",
    "            display(Markdown(f\"**[OK]** - *{prev_pos}*:{prev_name} &rarr; *{span}*:{name}\"))\n",
    "            # print(\"ok\")\n",
    "\n",
    "            prev_pos = span\n",
    "            prev_name = name\n",
    "        except:\n",
    "            # print(f\"error between {prev_pos} and {span}\")\n",
    "            display(Markdown(f\"**[ERR]** *{prev_pos}*:{prev_name} &rarr; *{span}*:{name}\"))\n",
    "            problematic_text.append((prev_pos, source[prev_pos:span]))\n",
    "            prev_pos = span\n",
    "            prev_name = name\n",
    "            # raise\n",
    "    return problematic_text, parsed\n",
    "\n",
    "\n",
    "def check_environment(text, offset=0):\n",
    "    \"\"\" Check environment \"\"\"\n",
    "    env = re.compile(r\"\\\\begin\\{(?P<env>.*)\\}(.*)\\\\end\\{(?P=env)\\}\", re.DOTALL)\n",
    "\n",
    "    for match in env.finditer(text):\n",
    "        beg, end = match.span()\n",
    "        beg += offset\n",
    "        end += offset\n",
    "        envname = match.groups()[0]\n",
    "        try:\n",
    "            latex.TexSoup(match.group())\n",
    "        except Exception as e:\n",
    "            display(e)\n",
    "            print(f\"Error in {envname:s} between {beg} and {end}\")\n",
    "            return match.groups()[1], beg, end"
   ]
  },
  {
   "cell_type": "raw",
   "id": "2315e835",
   "metadata": {
    "papermill": {
     "duration": 0.010534,
     "end_time": "2022-11-22T04:09:07.169760",
     "exception": false,
     "start_time": "2022-11-22T04:09:07.159226",
     "status": "completed"
    },
    "scrolled": false,
    "tags": []
   },
   "source": [
    "import importlib\n",
    "importlib.reload(latex)\n",
    "which = \"2204.03253\"\n",
    "paper_id = f'{which:s}'\n",
    "folder = f'tmp_{paper_id:s}'\n",
    "\n",
    "if not os.path.isdir(folder):\n",
    "    folder = retrieve_document_source(f\"{paper_id}\", f'tmp_{paper_id}')\n",
    "\n",
    "try:\n",
    "    doc = latex.LatexDocument(folder, validation=validation)    \n",
    "except AffiliationError as affilerror:\n",
    "    msg = f\"ArXiv:{paper_id:s} is not an MPIA paper... \" + str(affilerror)\n",
    "    print(msg)\n",
    "\n",
    "\n",
    "# Hack because sometimes author parsing does not work well\n",
    "if (len(doc.authors) != len(paper['authors'])):\n",
    "    doc._authors = paper['authors']\n",
    "if (doc.abstract) in (None, ''):\n",
    "    doc._abstract = paper['abstract']\n",
    "\n",
    "doc.comment = get_markdown_badge(paper_id) + \" _\" + paper['comments'] + \"_\"\n",
    "doc.highlight_authors_in_list(hl_list)\n",
    "\n",
    "full_md = doc.generate_markdown_text()"
   ]
  },
  {
   "cell_type": "raw",
   "id": "dd3781db",
   "metadata": {
    "papermill": {
     "duration": 0.010563,
     "end_time": "2022-11-22T04:09:07.190872",
     "exception": false,
     "start_time": "2022-11-22T04:09:07.180309",
     "status": "completed"
    },
    "scrolled": false,
    "tags": []
   },
   "source": [
    "doc"
   ]
  },
  {
   "cell_type": "raw",
   "id": "c6eed834",
   "metadata": {
    "papermill": {
     "duration": 0.010598,
     "end_time": "2022-11-22T04:09:07.211982",
     "exception": false,
     "start_time": "2022-11-22T04:09:07.201384",
     "status": "completed"
    },
    "tags": []
   },
   "source": [
    "# [check_environment(k) for k in bracket_error(doc.source)]\n",
    "_, _, a = latex.get_content_per_section(doc.source, verbose=True)\n",
    "if not a:\n",
    "    print(\"no issues per section\")\n",
    "for ak in a:\n",
    "    r = check_environment(ak[1], offset=ak[0])\n",
    "    print(r[1], r[2])\n",
    "    print(r[0])"
   ]
  },
  {
   "cell_type": "code",
   "execution_count": null,
   "id": "71ce768a",
   "metadata": {
    "papermill": {
     "duration": 0.010585,
     "end_time": "2022-11-22T04:09:07.233440",
     "exception": false,
     "start_time": "2022-11-22T04:09:07.222855",
     "status": "completed"
    },
    "tags": []
   },
   "outputs": [],
   "source": []
  }
 ],
 "metadata": {
  "kernelspec": {
   "display_name": "Python 3.10.6 64-bit",
   "language": "python",
   "name": "python3"
  },
  "language_info": {
   "codemirror_mode": {
    "name": "ipython",
    "version": 3
   },
   "file_extension": ".py",
   "mimetype": "text/x-python",
   "name": "python",
   "nbconvert_exporter": "python",
   "pygments_lexer": "ipython3",
   "version": "3.9.15"
  },
  "papermill": {
   "default_parameters": {},
   "duration": 53.560144,
   "end_time": "2022-11-22T04:09:07.463196",
   "environment_variables": {},
   "exception": null,
   "input_path": "MPIA daily digest.ipynb",
   "output_path": "log.ipynb",
   "parameters": {},
   "start_time": "2022-11-22T04:08:13.903052",
   "version": "2.4.0"
  },
  "vscode": {
   "interpreter": {
    "hash": "e7370f93d1d0cde622a1f8e1c04877d8463912d04d973331ad4851f04de6915a"
   }
  },
  "widgets": {
   "application/vnd.jupyter.widget-state+json": {
    "state": {
     "0da2aa1d24f644528674dbab64b5c7df": {
      "model_module": "@jupyter-widgets/controls",
      "model_module_version": "2.0.0",
      "model_name": "HBoxModel",
      "state": {
       "_dom_classes": [],
       "_model_module": "@jupyter-widgets/controls",
       "_model_module_version": "2.0.0",
       "_model_name": "HBoxModel",
       "_view_count": null,
       "_view_module": "@jupyter-widgets/controls",
       "_view_module_version": "2.0.0",
       "_view_name": "HBoxView",
       "box_style": "",
       "children": [
        "IPY_MODEL_99279fdd153d4dd3a1367784c4697a26",
        "IPY_MODEL_81da83e14871409aa5cbcb24f7400335",
        "IPY_MODEL_18de1090b68946fe9251ffa4b6861e52"
       ],
       "layout": "IPY_MODEL_7cb4c401406443019d56b981ed961e05",
       "tabbable": null,
       "tooltip": null
      }
     },
     "18de1090b68946fe9251ffa4b6861e52": {
      "model_module": "@jupyter-widgets/controls",
      "model_module_version": "2.0.0",
      "model_name": "HTMLModel",
      "state": {
       "_dom_classes": [],
       "_model_module": "@jupyter-widgets/controls",
       "_model_module_version": "2.0.0",
       "_model_name": "HTMLModel",
       "_view_count": null,
       "_view_module": "@jupyter-widgets/controls",
       "_view_module_version": "2.0.0",
       "_view_name": "HTMLView",
       "description": "",
       "description_allow_html": false,
       "layout": "IPY_MODEL_9f5892a631b9485fb38f80ab4f1090a8",
       "placeholder": "​",
       "style": "IPY_MODEL_e14591687fa9457988e99a0fa72d7523",
       "tabbable": null,
       "tooltip": null,
       "value": " 28/28 [00:29&lt;00:00,  1.26s/it]"
      }
     },
     "45f6cdd027ae41b79833d9a3e82aa01c": {
      "model_module": "@jupyter-widgets/controls",
      "model_module_version": "2.0.0",
      "model_name": "ProgressStyleModel",
      "state": {
       "_model_module": "@jupyter-widgets/controls",
       "_model_module_version": "2.0.0",
       "_model_name": "ProgressStyleModel",
       "_view_count": null,
       "_view_module": "@jupyter-widgets/base",
       "_view_module_version": "2.0.0",
       "_view_name": "StyleView",
       "bar_color": null,
       "description_width": ""
      }
     },
     "7cb4c401406443019d56b981ed961e05": {
      "model_module": "@jupyter-widgets/base",
      "model_module_version": "2.0.0",
      "model_name": "LayoutModel",
      "state": {
       "_model_module": "@jupyter-widgets/base",
       "_model_module_version": "2.0.0",
       "_model_name": "LayoutModel",
       "_view_count": null,
       "_view_module": "@jupyter-widgets/base",
       "_view_module_version": "2.0.0",
       "_view_name": "LayoutView",
       "align_content": null,
       "align_items": null,
       "align_self": null,
       "border_bottom": null,
       "border_left": null,
       "border_right": null,
       "border_top": null,
       "bottom": null,
       "display": null,
       "flex": null,
       "flex_flow": null,
       "grid_area": null,
       "grid_auto_columns": null,
       "grid_auto_flow": null,
       "grid_auto_rows": null,
       "grid_column": null,
       "grid_gap": null,
       "grid_row": null,
       "grid_template_areas": null,
       "grid_template_columns": null,
       "grid_template_rows": null,
       "height": null,
       "justify_content": null,
       "justify_items": null,
       "left": null,
       "margin": null,
       "max_height": null,
       "max_width": null,
       "min_height": null,
       "min_width": null,
       "object_fit": null,
       "object_position": null,
       "order": null,
       "overflow": null,
       "padding": null,
       "right": null,
       "top": null,
       "visibility": null,
       "width": null
      }
     },
     "81da83e14871409aa5cbcb24f7400335": {
      "model_module": "@jupyter-widgets/controls",
      "model_module_version": "2.0.0",
      "model_name": "FloatProgressModel",
      "state": {
       "_dom_classes": [],
       "_model_module": "@jupyter-widgets/controls",
       "_model_module_version": "2.0.0",
       "_model_name": "FloatProgressModel",
       "_view_count": null,
       "_view_module": "@jupyter-widgets/controls",
       "_view_module_version": "2.0.0",
       "_view_name": "ProgressView",
       "bar_style": "success",
       "description": "",
       "description_allow_html": false,
       "layout": "IPY_MODEL_d9a3064346e04b69a5abea7e0be1eb1b",
       "max": 28.0,
       "min": 0.0,
       "orientation": "horizontal",
       "style": "IPY_MODEL_45f6cdd027ae41b79833d9a3e82aa01c",
       "tabbable": null,
       "tooltip": null,
       "value": 28.0
      }
     },
     "99279fdd153d4dd3a1367784c4697a26": {
      "model_module": "@jupyter-widgets/controls",
      "model_module_version": "2.0.0",
      "model_name": "HTMLModel",
      "state": {
       "_dom_classes": [],
       "_model_module": "@jupyter-widgets/controls",
       "_model_module_version": "2.0.0",
       "_model_name": "HTMLModel",
       "_view_count": null,
       "_view_module": "@jupyter-widgets/controls",
       "_view_module_version": "2.0.0",
       "_view_name": "HTMLView",
       "description": "",
       "description_allow_html": false,
       "layout": "IPY_MODEL_cf8dff4a80b14e648dcc35561983f3b2",
       "placeholder": "​",
       "style": "IPY_MODEL_e7b8a58c40af442cb73c44d6e98a93d1",
       "tabbable": null,
       "tooltip": null,
       "value": "100%"
      }
     },
     "9f5892a631b9485fb38f80ab4f1090a8": {
      "model_module": "@jupyter-widgets/base",
      "model_module_version": "2.0.0",
      "model_name": "LayoutModel",
      "state": {
       "_model_module": "@jupyter-widgets/base",
       "_model_module_version": "2.0.0",
       "_model_name": "LayoutModel",
       "_view_count": null,
       "_view_module": "@jupyter-widgets/base",
       "_view_module_version": "2.0.0",
       "_view_name": "LayoutView",
       "align_content": null,
       "align_items": null,
       "align_self": null,
       "border_bottom": null,
       "border_left": null,
       "border_right": null,
       "border_top": null,
       "bottom": null,
       "display": null,
       "flex": null,
       "flex_flow": null,
       "grid_area": null,
       "grid_auto_columns": null,
       "grid_auto_flow": null,
       "grid_auto_rows": null,
       "grid_column": null,
       "grid_gap": null,
       "grid_row": null,
       "grid_template_areas": null,
       "grid_template_columns": null,
       "grid_template_rows": null,
       "height": null,
       "justify_content": null,
       "justify_items": null,
       "left": null,
       "margin": null,
       "max_height": null,
       "max_width": null,
       "min_height": null,
       "min_width": null,
       "object_fit": null,
       "object_position": null,
       "order": null,
       "overflow": null,
       "padding": null,
       "right": null,
       "top": null,
       "visibility": null,
       "width": null
      }
     },
     "cf8dff4a80b14e648dcc35561983f3b2": {
      "model_module": "@jupyter-widgets/base",
      "model_module_version": "2.0.0",
      "model_name": "LayoutModel",
      "state": {
       "_model_module": "@jupyter-widgets/base",
       "_model_module_version": "2.0.0",
       "_model_name": "LayoutModel",
       "_view_count": null,
       "_view_module": "@jupyter-widgets/base",
       "_view_module_version": "2.0.0",
       "_view_name": "LayoutView",
       "align_content": null,
       "align_items": null,
       "align_self": null,
       "border_bottom": null,
       "border_left": null,
       "border_right": null,
       "border_top": null,
       "bottom": null,
       "display": null,
       "flex": null,
       "flex_flow": null,
       "grid_area": null,
       "grid_auto_columns": null,
       "grid_auto_flow": null,
       "grid_auto_rows": null,
       "grid_column": null,
       "grid_gap": null,
       "grid_row": null,
       "grid_template_areas": null,
       "grid_template_columns": null,
       "grid_template_rows": null,
       "height": null,
       "justify_content": null,
       "justify_items": null,
       "left": null,
       "margin": null,
       "max_height": null,
       "max_width": null,
       "min_height": null,
       "min_width": null,
       "object_fit": null,
       "object_position": null,
       "order": null,
       "overflow": null,
       "padding": null,
       "right": null,
       "top": null,
       "visibility": null,
       "width": null
      }
     },
     "d9a3064346e04b69a5abea7e0be1eb1b": {
      "model_module": "@jupyter-widgets/base",
      "model_module_version": "2.0.0",
      "model_name": "LayoutModel",
      "state": {
       "_model_module": "@jupyter-widgets/base",
       "_model_module_version": "2.0.0",
       "_model_name": "LayoutModel",
       "_view_count": null,
       "_view_module": "@jupyter-widgets/base",
       "_view_module_version": "2.0.0",
       "_view_name": "LayoutView",
       "align_content": null,
       "align_items": null,
       "align_self": null,
       "border_bottom": null,
       "border_left": null,
       "border_right": null,
       "border_top": null,
       "bottom": null,
       "display": null,
       "flex": null,
       "flex_flow": null,
       "grid_area": null,
       "grid_auto_columns": null,
       "grid_auto_flow": null,
       "grid_auto_rows": null,
       "grid_column": null,
       "grid_gap": null,
       "grid_row": null,
       "grid_template_areas": null,
       "grid_template_columns": null,
       "grid_template_rows": null,
       "height": null,
       "justify_content": null,
       "justify_items": null,
       "left": null,
       "margin": null,
       "max_height": null,
       "max_width": null,
       "min_height": null,
       "min_width": null,
       "object_fit": null,
       "object_position": null,
       "order": null,
       "overflow": null,
       "padding": null,
       "right": null,
       "top": null,
       "visibility": null,
       "width": null
      }
     },
     "e14591687fa9457988e99a0fa72d7523": {
      "model_module": "@jupyter-widgets/controls",
      "model_module_version": "2.0.0",
      "model_name": "HTMLStyleModel",
      "state": {
       "_model_module": "@jupyter-widgets/controls",
       "_model_module_version": "2.0.0",
       "_model_name": "HTMLStyleModel",
       "_view_count": null,
       "_view_module": "@jupyter-widgets/base",
       "_view_module_version": "2.0.0",
       "_view_name": "StyleView",
       "background": null,
       "description_width": "",
       "font_size": null,
       "text_color": null
      }
     },
     "e7b8a58c40af442cb73c44d6e98a93d1": {
      "model_module": "@jupyter-widgets/controls",
      "model_module_version": "2.0.0",
      "model_name": "HTMLStyleModel",
      "state": {
       "_model_module": "@jupyter-widgets/controls",
       "_model_module_version": "2.0.0",
       "_model_name": "HTMLStyleModel",
       "_view_count": null,
       "_view_module": "@jupyter-widgets/base",
       "_view_module_version": "2.0.0",
       "_view_name": "StyleView",
       "background": null,
       "description_width": "",
       "font_size": null,
       "text_color": null
      }
     }
    },
    "version_major": 2,
    "version_minor": 0
   }
  }
 },
 "nbformat": 4,
 "nbformat_minor": 5
}