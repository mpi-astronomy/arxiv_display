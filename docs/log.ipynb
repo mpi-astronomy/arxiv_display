{
 "cells": [
  {
   "cell_type": "markdown",
   "id": "92bcb855",
   "metadata": {
    "papermill": {
     "duration": 0.003736,
     "end_time": "2025-09-04T04:11:34.746076",
     "exception": false,
     "start_time": "2025-09-04T04:11:34.742340",
     "status": "completed"
    },
    "tags": []
   },
   "source": [
    "# MPIA Arxiv on Deck 2\n",
    "\n",
    "Contains the steps to produce the paper extractions."
   ]
  },
  {
   "cell_type": "code",
   "execution_count": 1,
   "id": "3a0d6e11",
   "metadata": {
    "execution": {
     "iopub.execute_input": "2025-09-04T04:11:34.753083Z",
     "iopub.status.busy": "2025-09-04T04:11:34.752882Z",
     "iopub.status.idle": "2025-09-04T04:11:34.957542Z",
     "shell.execute_reply": "2025-09-04T04:11:34.956832Z"
    },
    "papermill": {
     "duration": 0.209703,
     "end_time": "2025-09-04T04:11:34.959035",
     "exception": false,
     "start_time": "2025-09-04T04:11:34.749332",
     "status": "completed"
    },
    "tags": []
   },
   "outputs": [],
   "source": [
    "# Imports\n",
    "import os\n",
    "from IPython.display import Markdown, display\n",
    "from tqdm.notebook import tqdm\n",
    "import warnings\n",
    "from PIL import Image \n",
    "import re\n",
    "\n",
    "# requires arxiv_on_deck_2\n",
    "\n",
    "from arxiv_on_deck_2.arxiv2 import (get_new_papers, \n",
    "                                    get_paper_from_identifier,\n",
    "                                    retrieve_document_source, \n",
    "                                    get_markdown_badge)\n",
    "from arxiv_on_deck_2 import (latex,\n",
    "                             latex_bib,\n",
    "                             mpia,\n",
    "                             highlight_authors_in_list)\n",
    "\n",
    "# Sometimes images are really big\n",
    "Image.MAX_IMAGE_PIXELS = 1000000000 "
   ]
  },
  {
   "cell_type": "code",
   "execution_count": 2,
   "id": "22aa9d44",
   "metadata": {
    "execution": {
     "iopub.execute_input": "2025-09-04T04:11:34.966239Z",
     "iopub.status.busy": "2025-09-04T04:11:34.966039Z",
     "iopub.status.idle": "2025-09-04T04:11:34.974015Z",
     "shell.execute_reply": "2025-09-04T04:11:34.973417Z"
    },
    "papermill": {
     "duration": 0.012637,
     "end_time": "2025-09-04T04:11:34.975058",
     "exception": false,
     "start_time": "2025-09-04T04:11:34.962421",
     "status": "completed"
    },
    "tags": []
   },
   "outputs": [],
   "source": [
    "# Some useful definitions.\n",
    "\n",
    "class AffiliationWarning(UserWarning):\n",
    "    pass\n",
    "\n",
    "class AffiliationError(RuntimeError):\n",
    "    pass\n",
    "\n",
    "def validation(source: str):\n",
    "    \"\"\"Raises error paper during parsing of source file\n",
    "    \n",
    "    Allows checks before parsing TeX code.\n",
    "    \n",
    "    Raises AffiliationWarning\n",
    "    \"\"\"\n",
    "    check = mpia.affiliation_verifications(source, verbose=True)\n",
    "    if check is not True:\n",
    "        raise AffiliationError(\"mpia.affiliation_verifications: \" + check)\n",
    "\n",
    "        \n",
    "warnings.simplefilter('always', AffiliationWarning)\n",
    "\n",
    "\n",
    "def get_markdown_qrcode(paper_id: str):\n",
    "    \"\"\" Generate a qrcode to the arxiv page using qrserver.com\n",
    "    \n",
    "    :param paper: Arxiv paper\n",
    "    :returns: markdown text\n",
    "    \"\"\"\n",
    "    url = r\"https://api.qrserver.com/v1/create-qr-code/?size=100x100&data=\"\n",
    "    txt = f\"\"\"<img src={url}\"https://arxiv.org/abs/{paper_id}\">\"\"\"\n",
    "    txt = '<div id=\"qrcode\">' + txt + '</div>'\n",
    "    return txt\n",
    "\n",
    "\n",
    "def clean_non_western_encoded_characters_commands(text: str) -> str:\n",
    "    \"\"\" Remove non-western encoded characters from a string\n",
    "    List may need to grow.\n",
    "    \n",
    "    :param text: the text to clean\n",
    "    :return: the cleaned text\n",
    "    \"\"\"\n",
    "    text = re.sub(r\"(\\\\begin{CJK}{UTF8}{gbsn})(.*?)(\\\\end{CJK})\", r\"\\2\", text)\n",
    "    return text\n",
    "\n",
    "\n",
    "def get_initials(name: str) -> str:\n",
    "    \"\"\" Get the short name, e.g., A.-B. FamName\n",
    "    :param name: full name\n",
    "    :returns: initials\n",
    "    \"\"\"\n",
    "    initials = []\n",
    "    # account for non western names often in ()\n",
    "    if '(' in name:\n",
    "        name = clean_non_western_encoded_characters_commands(name)\n",
    "        suffix = re.findall(r\"\\((.*?)\\)\", name)[0]\n",
    "        name = name.replace(f\"({suffix})\", '')\n",
    "    else:\n",
    "        suffix = ''\n",
    "    split = name.split()\n",
    "    for token in split[:-1]:\n",
    "        if '-' in token:\n",
    "            current = '-'.join([k[0] + '.' for k in token.split('-')])\n",
    "        else:\n",
    "            current = token[0] + '.'\n",
    "        initials.append(current)\n",
    "    initials.append(split[-1].strip())\n",
    "    if suffix:\n",
    "        initials.append(f\"({suffix})\")\n",
    "    return ' '.join(initials)"
   ]
  },
  {
   "cell_type": "markdown",
   "id": "14bd6310",
   "metadata": {
    "papermill": {
     "duration": 0.002893,
     "end_time": "2025-09-04T04:11:34.980918",
     "exception": false,
     "start_time": "2025-09-04T04:11:34.978025",
     "status": "completed"
    },
    "tags": []
   },
   "source": [
    "## get list of arxiv paper candidates\n",
    "\n",
    "We use the MPIA mitarbeiter list webpage from mpia.de to get author names\n",
    "We then get all new papers from Arxiv and match authors"
   ]
  },
  {
   "cell_type": "code",
   "execution_count": 3,
   "id": "7ea813a8",
   "metadata": {
    "execution": {
     "iopub.execute_input": "2025-09-04T04:11:34.987650Z",
     "iopub.status.busy": "2025-09-04T04:11:34.987403Z",
     "iopub.status.idle": "2025-09-04T04:11:55.561241Z",
     "shell.execute_reply": "2025-09-04T04:11:55.560611Z"
    },
    "papermill": {
     "duration": 20.578555,
     "end_time": "2025-09-04T04:11:55.562530",
     "exception": false,
     "start_time": "2025-09-04T04:11:34.983975",
     "status": "completed"
    },
    "tags": []
   },
   "outputs": [],
   "source": [
    "# deal with the author list and edge cases of people that cannot be consistent on their name  \n",
    "\n",
    "def filter_non_scientists(name: str) -> bool:\n",
    "    \"\"\" Loose filter on expected authorships\n",
    "\n",
    "    removing IT, administration, technical staff\n",
    "    :param name: name\n",
    "    :returns: False if name is not a scientist\n",
    "    \"\"\"\n",
    "    remove_list = ['Licht', 'Binroth', 'Witzel', 'Jordan',\n",
    "                   'Zähringer', 'Scheerer', 'Hoffmann', 'Düe',\n",
    "                   'Hellmich', 'Enkler-Scharpegge', 'Witte-Nguy',\n",
    "                   'Dehen', 'Beckmann', 'Jager', 'Jäger'\n",
    "                  ]\n",
    "\n",
    "    for k in remove_list:\n",
    "        if k in name:\n",
    "            return False\n",
    "    return True\n",
    "\n",
    "def add_author_to_list(author_list: list) -> list:\n",
    "    \"\"\" Add author to list if not already in list\n",
    "    \n",
    "    :param author: author name\n",
    "    :param author_list: list of authors\n",
    "    :returns: updated list of authors\n",
    "    \"\"\"\n",
    "    add_list = ['T. Henning']\n",
    "\n",
    "    for author in add_list:\n",
    "        if author not in author_list:\n",
    "            author_list.append(author)\n",
    "    return author_list\n",
    "\n",
    "# get list from MPIA website\n",
    "# filter for non-scientists (mpia.get_mpia_mitarbeiter_list() does some filtering)\n",
    "mpia_authors = [k[1] for k in mpia.get_mpia_mitarbeiter_list() if filter_non_scientists(k[1])]\n",
    "# add some missing author because of inconsistencies in their MPIA name and author name on papers\n",
    "mpia_authors = add_author_to_list(mpia_authors)"
   ]
  },
  {
   "cell_type": "code",
   "execution_count": 4,
   "id": "2645e73a",
   "metadata": {
    "execution": {
     "iopub.execute_input": "2025-09-04T04:11:55.569798Z",
     "iopub.status.busy": "2025-09-04T04:11:55.569557Z",
     "iopub.status.idle": "2025-09-04T04:11:56.559335Z",
     "shell.execute_reply": "2025-09-04T04:11:56.558707Z"
    },
    "papermill": {
     "duration": 0.994438,
     "end_time": "2025-09-04T04:11:56.560385",
     "exception": false,
     "start_time": "2025-09-04T04:11:55.565947",
     "status": "completed"
    },
    "tags": []
   },
   "outputs": [
    {
     "name": "stdout",
     "output_type": "stream",
     "text": [
      "J. Liu  ->  J. Liu  |  ['J. Liu']\n",
      "J. Wolf  ->  D. J. Wolf  |  ['J. Wolf']\n",
      "K. El-Badry  ->  K. El-Badry  |  ['K. El-Badry']\n",
      "X. Zhang  ->  X. Zhang  |  ['X. Zhang']\n",
      "Y. Wang  ->  Y. Wang  |  ['Y. Wang']\n",
      "K. El-Badry  ->  K. El-Badry  |  ['K. El-Badry']\n"
     ]
    },
    {
     "name": "stdout",
     "output_type": "stream",
     "text": [
      "Arxiv has 105 new papers today\n",
      "          6 with possible author matches\n"
     ]
    }
   ],
   "source": [
    "new_papers = get_new_papers()\n",
    "# add manual references\n",
    "add_paper_refs = []\n",
    "new_papers.extend([get_paper_from_identifier(k) for k in add_paper_refs])\n",
    "\n",
    "def robust_call(fn, value, *args, **kwargs):\n",
    "    try:\n",
    "        return fn(value, *args, **kwargs)\n",
    "    except Exception:\n",
    "        return value\n",
    "\n",
    "candidates = []\n",
    "for paperk in new_papers:\n",
    "    # Check author list with their initials\n",
    "    normed_author_list = [robust_call(mpia.get_initials, k) for k in paperk['authors']]\n",
    "    hl_authors = highlight_authors_in_list(normed_author_list, mpia_authors, verbose=True)\n",
    "    matches = [(hl, orig) for hl, orig in zip(hl_authors, paperk['authors']) if 'mark' in hl]\n",
    "    paperk['authors'] = hl_authors\n",
    "    if matches:\n",
    "        # only select paper if an author matched our list\n",
    "        candidates.append(paperk)\n",
    "print(\"\"\"Arxiv has {0:,d} new papers today\"\"\".format(len(new_papers)))        \n",
    "print(\"\"\"          {0:,d} with possible author matches\"\"\".format(len(candidates)))"
   ]
  },
  {
   "cell_type": "markdown",
   "id": "3543b34a",
   "metadata": {
    "papermill": {
     "duration": 0.003153,
     "end_time": "2025-09-04T04:11:56.567082",
     "exception": false,
     "start_time": "2025-09-04T04:11:56.563929",
     "status": "completed"
    },
    "tags": []
   },
   "source": [
    "# Parse sources and generate relevant outputs\n",
    "\n",
    "From the candidates, we do the following steps:\n",
    "* get their tarball from ArXiv (and extract data)\n",
    "* find the main .tex file: find one with \\documentclass{...} (sometimes it's non trivial)\n",
    "* Check affiliations with :func:`validation`, which uses :func:`mpia.affiliation_verifications`\n",
    "* If passing the affiliations: we parse the .tex source\n",
    "   * inject sub-documents into the main (flatten the main document)\n",
    "   * parse structure, extract information (title, abstract, authors, figures...)\n",
    "   * handles `\\graphicspath` if provided\n",
    "* Generate the .md document."
   ]
  },
  {
   "cell_type": "code",
   "execution_count": 5,
   "id": "9576b79e",
   "metadata": {
    "execution": {
     "iopub.execute_input": "2025-09-04T04:11:56.574108Z",
     "iopub.status.busy": "2025-09-04T04:11:56.573889Z",
     "iopub.status.idle": "2025-09-04T04:12:28.815937Z",
     "shell.execute_reply": "2025-09-04T04:12:28.815209Z"
    },
    "papermill": {
     "duration": 32.251039,
     "end_time": "2025-09-04T04:12:28.821250",
     "exception": false,
     "start_time": "2025-09-04T04:11:56.570211",
     "status": "completed"
    },
    "scrolled": false,
    "tags": []
   },
   "outputs": [
    {
     "data": {
      "application/vnd.jupyter.widget-view+json": {
       "model_id": "9c259264f76a466783e520d703805d9e",
       "version_major": 2,
       "version_minor": 0
      },
      "text/plain": [
       "  0%|          | 0/6 [00:00<?, ?it/s]"
      ]
     },
     "metadata": {},
     "output_type": "display_data"
    },
    {
     "name": "stdout",
     "output_type": "stream",
     "text": [
      "Retrieving document from  https://arxiv.org/e-print/2509.02759\n"
     ]
    },
    {
     "name": "stdout",
     "output_type": "stream",
     "text": [
      "extracting tarball to tmp_2509.02759... done.\n",
      "Retrieving document from  https://arxiv.org/e-print/2509.02842\n"
     ]
    },
    {
     "name": "stdout",
     "output_type": "stream",
     "text": [
      "extracting tarball to tmp_2509.02842..."
     ]
    },
    {
     "name": "stdout",
     "output_type": "stream",
     "text": [
      " done.\n"
     ]
    },
    {
     "name": "stdout",
     "output_type": "stream",
     "text": [
      "Found 89 bibliographic references in tmp_2509.02842/aanda.bbl.\n",
      "Retrieving document from  https://arxiv.org/e-print/2509.02906\n"
     ]
    },
    {
     "name": "stdout",
     "output_type": "stream",
     "text": [
      "extracting tarball to tmp_2509.02906..."
     ]
    },
    {
     "name": "stdout",
     "output_type": "stream",
     "text": [
      " done.\n",
      "  0: tmp_2509.02906/ms.tex, 635 lines\n",
      "  1: tmp_2509.02906/aassymbols.tex, 579 lines\n",
      "Retrieving document from  https://arxiv.org/e-print/2509.02945\n"
     ]
    },
    {
     "name": "stderr",
     "output_type": "stream",
     "text": [
      "/opt/hostedtoolcache/Python/3.9.23/x64/lib/python3.9/site-packages/IPython/core/interactiveshell.py:3550: LatexWarning: Multiple tex files.\n",
      "\n",
      "  exec(code_obj, self.user_global_ns, self.user_ns)\n",
      "/opt/hostedtoolcache/Python/3.9.23/x64/lib/python3.9/site-packages/IPython/core/interactiveshell.py:3550: LatexWarning: Found 2 candidates with documentclass definition.\n",
      "  exec(code_obj, self.user_global_ns, self.user_ns)\n",
      "/opt/hostedtoolcache/Python/3.9.23/x64/lib/python3.9/site-packages/IPython/core/interactiveshell.py:3550: LatexWarning: Assuming tmp_2509.02906/ms.tex as main document.\n",
      "  exec(code_obj, self.user_global_ns, self.user_ns)\n"
     ]
    },
    {
     "name": "stdout",
     "output_type": "stream",
     "text": [
      "extracting tarball to tmp_2509.02945..."
     ]
    },
    {
     "name": "stdout",
     "output_type": "stream",
     "text": [
      " done.\n",
      "Retrieving document from  https://arxiv.org/e-print/2509.02995\n"
     ]
    },
    {
     "name": "stdout",
     "output_type": "stream",
     "text": [
      "extracting tarball to tmp_2509.02995... done.\n",
      "Retrieving document from  https://arxiv.org/e-print/2509.03216\n"
     ]
    },
    {
     "name": "stderr",
     "output_type": "stream",
     "text": [
      "/opt/hostedtoolcache/Python/3.9.23/x64/lib/python3.9/site-packages/IPython/core/interactiveshell.py:3550: LatexWarning: Multiple tex files.\n",
      "\n",
      "  exec(code_obj, self.user_global_ns, self.user_ns)\n",
      "/opt/hostedtoolcache/Python/3.9.23/x64/lib/python3.9/site-packages/IPython/core/interactiveshell.py:3550: LatexWarning: Found documentclass in tmp_2509.02995/main.tex\n",
      "\n",
      "  exec(code_obj, self.user_global_ns, self.user_ns)\n",
      "/opt/hostedtoolcache/Python/3.9.23/x64/lib/python3.9/site-packages/arxiv_on_deck_2/latex.py:414: LatexWarning: Latex injecting: 'table.tex' from 'tmp_2509.02995/table.tex'\n",
      "  warnings.warn(LatexWarning(f\"Latex injecting: '{ext}' from '{subsource}'\"))\n",
      "/opt/hostedtoolcache/Python/3.9.23/x64/lib/python3.9/site-packages/arxiv_on_deck_2/latex.py:414: LatexWarning: Latex injecting: 'authors' from 'tmp_2509.02995/authors.tex'\n",
      "  warnings.warn(LatexWarning(f\"Latex injecting: '{ext}' from '{subsource}'\"))\n"
     ]
    },
    {
     "name": "stdout",
     "output_type": "stream",
     "text": [
      "extracting tarball to tmp_2509.03216..."
     ]
    },
    {
     "name": "stdout",
     "output_type": "stream",
     "text": [
      " done.\n"
     ]
    }
   ],
   "source": [
    "documents = []\n",
    "failed = []\n",
    "for paper in tqdm(candidates):\n",
    "    # debug crap\n",
    "    paper['identifier'] = paper['identifier'].lower().replace('arxiv:', '').replace(r'\\n', '').strip()\n",
    "    paper_id = paper['identifier']\n",
    "    \n",
    "    folder = f'tmp_{paper_id}'\n",
    "\n",
    "    try:\n",
    "        if not os.path.isdir(folder):\n",
    "            folder = retrieve_document_source(f\"{paper_id}\", f'tmp_{paper_id}')\n",
    "        \n",
    "        try:\n",
    "            doc = latex.LatexDocument(folder, validation=validation)    \n",
    "        except AffiliationError as affilerror:\n",
    "            msg = f\"ArXiv:{paper_id:s} is not an MPIA paper... \" + str(affilerror)\n",
    "            failed.append((paper, \"affiliation error: \" + str(affilerror) ))\n",
    "            continue\n",
    "        \n",
    "        # Hack because sometimes author parsing does not work well\n",
    "        if (len(doc.authors) != len(paper['authors'])):\n",
    "            doc._authors = paper['authors']\n",
    "        else:\n",
    "            # highlight authors (FIXME: doc.highlight_authors)\n",
    "            # done on arxiv paper already\n",
    "            doc._authors = highlight_authors_in_list(\n",
    "                [get_initials(k) for k in doc.authors], \n",
    "                mpia_authors, verbose=True)\n",
    "        if (doc.abstract) in (None, ''):\n",
    "            doc._abstract = paper['abstract']\n",
    "            \n",
    "        doc.comment = (get_markdown_badge(paper_id) + \n",
    "                       \"<mark>Appeared on: \" + paper['date'] + \"</mark> - \")\n",
    "        if paper['comments']:\n",
    "            doc.comment += \" _\" + paper['comments'] + \"_\"\n",
    "        \n",
    "        full_md = doc.generate_markdown_text()\n",
    "        \n",
    "        full_md += get_markdown_qrcode(paper_id)\n",
    "        \n",
    "        # replace citations\n",
    "        try:\n",
    "            bibdata = latex_bib.LatexBib.from_doc(doc)\n",
    "            full_md = latex_bib.replace_citations(full_md, bibdata)\n",
    "        except Exception as e:\n",
    "            print(\"Issues with the citations\")\n",
    "            print(e)\n",
    "        \n",
    "        documents.append((paper_id, full_md))\n",
    "    except Exception as e:\n",
    "        warnings.warn(latex.LatexWarning(f\"{paper_id:s} did not run properly\\n\" +\n",
    "                                         str(e)\n",
    "                                        ))\n",
    "        failed.append((paper, \"latex error \" + str(e)))"
   ]
  },
  {
   "cell_type": "markdown",
   "id": "2505a25c",
   "metadata": {
    "papermill": {
     "duration": 0.003922,
     "end_time": "2025-09-04T04:12:28.829227",
     "exception": false,
     "start_time": "2025-09-04T04:12:28.825305",
     "status": "completed"
    },
    "tags": []
   },
   "source": [
    "### Export the logs\n",
    "\n",
    "Throughout, we also keep track of the logs per paper. see `logs-{today date}.md` "
   ]
  },
  {
   "cell_type": "code",
   "execution_count": 6,
   "id": "d733828a",
   "metadata": {
    "execution": {
     "iopub.execute_input": "2025-09-04T04:12:28.837898Z",
     "iopub.status.busy": "2025-09-04T04:12:28.837698Z",
     "iopub.status.idle": "2025-09-04T04:12:28.855013Z",
     "shell.execute_reply": "2025-09-04T04:12:28.854473Z"
    },
    "papermill": {
     "duration": 0.022777,
     "end_time": "2025-09-04T04:12:28.855948",
     "exception": false,
     "start_time": "2025-09-04T04:12:28.833171",
     "status": "completed"
    },
    "scrolled": false,
    "tags": []
   },
   "outputs": [
    {
     "data": {
      "text/markdown": [
       "## Successful papers"
      ],
      "text/plain": [
       "<IPython.core.display.Markdown object>"
      ]
     },
     "metadata": {},
     "output_type": "display_data"
    },
    {
     "data": {
      "text/markdown": [
       "\n",
       "|||\n",
       "|---:|:---|\n",
       "| [![arXiv](https://img.shields.io/badge/arXiv-2509.02842-b31b1b.svg)](https://arxiv.org/abs/2509.02842) | **Counterpart identification and classification for eRASS1 and characterisation of the AGN content**  |\n",
       "|| M. Salvato, et al. -- incl., <mark>J. Wolf</mark> |\n",
       "|*Appeared on*| *2025-09-04*|\n",
       "|*Comments*| *Paper resubmitted to A&A after taking into account the comments of the referee. The associated 7 catalogues will be released via the eROSITA pages and Vizier as soon as the paper is accepted for publication*|\n",
       "|**Abstract**|            [abridged] Accurately accounting for the AGN phase in galaxy evolution requires a large, clean AGN sample. This is now possible with SRG/eROSITA. The public Data Release 1 (DR1, Jan 31, 2024) includes 930,203 sources from the Western Galactic Hemisphere. The data enable the selection of a large AGN sample and the discovery of rare sources. However, scientific return depends on accurate characterisation of the X-ray emitters, requiring high-quality multiwavelength data. This paper presents the identification and classification of optical and infrared counterparts to eRASS1 sources using Gaia DR3, CatWISE2020, and Legacy Survey DR10 (LS10) with the Bayesian NWAY algorithm and trained priors. Sources were classified as Galactic or extragalactic via a Machine Learning model combining optical/IR and X-ray properties, trained on a reference sample. For extragalactic LS10 sources, photometric redshifts were computed using Circlez. Within the LS10 footprint, all 656,614 eROSITA/DR1 sources have at least one possible optical counterpart; about 570,000 are extragalactic and likely AGN. Half are new detections compared to AllWISE, Gaia, and Quaia AGN catalogues. Gaia and CatWISE2020 counterparts are less reliable, due to the surveys shallowness and the limited amount of features available to assess the probability of being an X-ray emitter. In the Galactic Plane, where the overdensity of stellar sources also increases the chance of associations, using conservative reliability cuts, we identify approximately 18,000 Gaia and 55,000 CatWISE2020 extragalactic sources. We release three high-quality counterpart catalogues, plus the training and validation sets, as a benchmark for the field. These datasets have many applications, but in particular empower researchers to build AGN samples tailored for completeness and purity, accelerating the hunt for the Universe most energetic engines.         |"
      ],
      "text/plain": [
       "[2509.02842] Counterpart identification and classification for eRASS1 and characterisation of the AGN content\n",
       "\tM. Salvato, et al. -- incl., <mark>J. Wolf</mark>"
      ]
     },
     "metadata": {},
     "output_type": "display_data"
    },
    {
     "data": {
      "text/markdown": [
       "## Failed papers"
      ],
      "text/plain": [
       "<IPython.core.display.Markdown object>"
      ]
     },
     "metadata": {},
     "output_type": "display_data"
    },
    {
     "data": {
      "text/markdown": [
       "\n",
       "|||\n",
       "|---:|:---|\n",
       "| [![arXiv](https://img.shields.io/badge/arXiv-2509.02906-b31b1b.svg)](https://arxiv.org/abs/2509.02906) | **Double White Dwarf Binaries in SDSS-V DR19 : A catalog of DA white dwarf binaries and constraints on the binary population**  |\n",
       "|| G. A. Pallathadka, et al. -- incl., <mark>K. El-Badry</mark> |\n",
       "|*Appeared on*| *2025-09-04*|\n",
       "|*Comments*| *Submitted to AAS journals*|\n",
       "|**Abstract**|            The fifth-generation Sloan Digital Sky Survey (SDSS-V) includes the first large-scale spectroscopic survey of white dwarfs (WDs) in the era of Gaia parallaxes. SDSS-V collects multiple exposures per target, making it ideal for binary detection. We present a search for hydrogen atmosphere (DA) double white dwarf (DWD) binaries in this rich dataset. We quantify radial velocity variations between sub-exposures to identify binary candidates, and also measure the orbital period for a subset of DWD binary candidates. We find 63 DWD binary candidates, of which 43 are new discoveries, and we provide tentative periods for 10 binary systems. Using these measurements, we place constraints on the binary fraction of the Galactic WD population with $< 0.4$ AU separations $f_{\\mathrm{bin,0.4}} = 9\\%$, and the power-law index of the initial separation distribution $\\alpha = -0.62$. Using the simulated binary population, we estimate that $\\leq 10$ super-Chandrasekhar binaries that merge within a Hubble time are expected in our sample. We predict that $\\leq 5$ systems in our sample should be detectable via gravitational waves by LISA (Laser Interferometer Space Antenna), one of which has already been identified as a LISA verification source. We also estimate a total of about 10,000 - 20,000 LISA-detectable DWD binaries in the galaxy. Our catalog of WD+WD binary candidates in SDSS-V is now public, and promises to uncover a large number of exciting DWD systems.         |\n",
       "|<p style=\"color:green\"> **ERROR** </p>| <p style=\"color:green\">affiliation error: mpia.affiliation_verifications: '69117' keyword not found.</p> |"
      ],
      "text/plain": [
       "<IPython.core.display.Markdown object>"
      ]
     },
     "metadata": {},
     "output_type": "display_data"
    },
    {
     "data": {
      "text/markdown": [
       "\n",
       "|||\n",
       "|---:|:---|\n",
       "| [![arXiv](https://img.shields.io/badge/arXiv-2509.03216-b31b1b.svg)](https://arxiv.org/abs/2509.03216) | **Magnetic Atmospheres and Circumstellar Interaction in J1901+1458: Revisiting the Most Compact White Dwarf Merger Remnant in the light of new UV and X-ray data**  |\n",
       "|| A. Desai, et al. -- incl., <mark>K. El-Badry</mark> |\n",
       "|*Appeared on*| *2025-09-04*|\n",
       "|*Comments*| *28 pages, submitted to A&A, comments are welcome*|\n",
       "|**Abstract**|            Double degenerate white dwarf (WD) mergers can exhibit extreme magnetic fields exceeding $10^{8}$ G and rapid rotation, but their spectral-energy distributions and high-energy emission mechanisms remain poorly characterised. ZTF J1901+1458 stands out as the most compact and strongly magnetised object discovered in this class to date. Recent Chandra observations have revealed that the white dwarf is also a source of soft X-ray emission, inconsistent with a photospheric origin. We analyse new phase resolved UV spectroscopy from the HST combined with optical and near-infrared photometry and spectroscopy, with newly developed magnetic atmosphere models to determine its effective temperature, radius, mass, average surface magnetic field strength, and cooling age. Our results demonstrate that the spectral break at $\\approx$3000 Å, observed in several highly magnetised WDs, is well-reproduced by our new models, which take into account the effect of magnetic opacities on the structure of the atmosphere. Our best-fit parameters for the WD yield an effective temperature ($T_{\\rm{eff}}=28,015\\pm 20$ K) and larger radius ($2630\\pm10$ km) than previously reported. Furthermore, the near-infrared data exclude the presence of a stellar or brown dwarf companion hotter than $\\approx$700 K. We also jointly analyse the previously published Chandra data and new XMM-Newton X-ray spectra. The faint X-ray emission, $L_X =(1.3\\pm0.2)\\times10^{27}$ erg/s is very soft and highly pulsed on the rotation period of the WD. We suggest that the X-rays are powered by accretion or via the interaction of the WD magnetosphere with CSM. If the rapidly rotating magnetic field could power a weak wind along open field lines, material could be extracted directly from the surface of the WD. Alternatively, accretion of fallback material from the merger or the tidal disruption of a planetary body are possible sources of CSM.         |\n",
       "|<p style=\"color:green\"> **ERROR** </p>| <p style=\"color:green\">affiliation error: mpia.affiliation_verifications: '69117' keyword not found.</p> |"
      ],
      "text/plain": [
       "<IPython.core.display.Markdown object>"
      ]
     },
     "metadata": {},
     "output_type": "display_data"
    },
    {
     "data": {
      "text/markdown": [
       "\n",
       "|||\n",
       "|---:|:---|\n",
       "| [![arXiv](https://img.shields.io/badge/arXiv-2509.02759-b31b1b.svg)](https://arxiv.org/abs/2509.02759) | **Reconciling Jupiter's Vertical Motions with the Observed Cloud Structure in the Upper Troposphere**  |\n",
       "|| J. M. Mendonça, T. Schneider, <mark>J. Liu</mark>, Y. Lian |\n",
       "|*Appeared on*| *2025-09-04*|\n",
       "|*Comments*| *Accepted for publication in Icarus (this https URL)*|\n",
       "|**Abstract**|            The eddy fluxes of angular momentum in Jupiter's upper troposphere are known to converge in prograde jets and diverge in retrograde jets. Away from the equator, this implies convergence of the Eulerian mean meridional flow in zones (anticyclonic shear) and divergence in belts (cyclonic shear). It indicates lower-tropospheric downwelling in zones and upwelling in belts because the mean meridional circulation almost certainly closes at depth. Yet the observed banded structure of Jupiter's clouds and hazes suggests that there is upwelling in the brighter zones and downwelling in the darker belts. Here, we show that this apparent contradiction can be resolved by considering not the Eulerian but the transformed Eulerian mean circulation, which includes a Stokes drift owing to eddies and is a better approximation of the Lagrangian mean transport of tracers such as ammonia. The potential vorticity structure inferred from observations paired with mixing length arguments suggests that there is transformed Eulerian mean upwelling in zones and downwelling in belts. Simulations with a global circulation model of Jupiter's upper atmosphere demonstrate the plausibility of these inferences and allow us to speculate on the band structure at deeper levels.         |\n",
       "|<p style=\"color:green\"> **ERROR** </p>| <p style=\"color:green\">affiliation error: mpia.affiliation_verifications: 'Heidelberg' keyword not found.</p> |"
      ],
      "text/plain": [
       "<IPython.core.display.Markdown object>"
      ]
     },
     "metadata": {},
     "output_type": "display_data"
    },
    {
     "data": {
      "text/markdown": [
       "\n",
       "|||\n",
       "|---:|:---|\n",
       "| [![arXiv](https://img.shields.io/badge/arXiv-2509.02945-b31b1b.svg)](https://arxiv.org/abs/2509.02945) | **Observational challenges to holographic and Ricci dark energy paradigms: Insights from ACT DR6 and DESI DR2**  |\n",
       "|| P.-J. Wu, T.-N. Li, G.-H. Du, <mark>X. Zhang</mark> |\n",
       "|*Appeared on*| *2025-09-04*|\n",
       "|*Comments*| *12 pages, 4 figures*|\n",
       "|**Abstract**|            Recent studies suggest that dark energy may be dynamical rather than being a mere cosmological constant $\\Lambda$. In this work, we examine the viability of two physically well-motivated dynamical dark energy models -- holographic dark energy (HDE) and Ricci dark energy (RDE) -- by confronting them with the latest observational data, including ACT cosmic microwave background anisotropies, DESI baryon acoustic oscillations, and DESY5 supernovae. Our analysis reveals a fundamental tension between early- and late-universe constraints within both frameworks: ACT favors a quintom scenario where the dark energy equation of state (EoS) evolves from $w>-1$ at early times to $w<-1$ at late times, while DESI+DESY5 exhibits a distinct preference for quintessence where $w>-1$ across cosmic evolution. The joint analysis yields constraints that align more closely with the ACT preference. Critically, the canonical RDE model fails to provide a coherent description of cosmic evolution, as it manifests severe tensions (even exceeding $10\\sigma$ significance) between early- and late-universe parameter reconstructions. Based on the combined data, Bayesian evidence decisively disfavors both HDE and RDE models relative to the $\\Lambda$ cold dark matter model, with ACT providing decisive disfavor and DESI+DESY5 yielding moderate disfavor. Our results show that the HDE and RDE models remain excluded by the new data, reinforcing earlier conclusions drawn from previous datasets.         |\n",
       "|<p style=\"color:green\"> **ERROR** </p>| <p style=\"color:green\">affiliation error: mpia.affiliation_verifications: 'Heidelberg' keyword not found.</p> |"
      ],
      "text/plain": [
       "<IPython.core.display.Markdown object>"
      ]
     },
     "metadata": {},
     "output_type": "display_data"
    },
    {
     "data": {
      "text/markdown": [
       "\n",
       "|||\n",
       "|---:|:---|\n",
       "| [![arXiv](https://img.shields.io/badge/arXiv-2509.02995-b31b1b.svg)](https://arxiv.org/abs/2509.02995) | **Extending the short gamma-ray burst population from sub-threshold triggers in Fermi/GBM and GECAM data and its implications**  |\n",
       "|| C. Cai, et al. -- incl., <mark>Y. Wang</mark> |\n",
       "|*Appeared on*| *2025-09-04*|\n",
       "|*Comments*| *13 pages, 8 figures*|\n",
       "|**Abstract**|            Detection of short gamma-ray bursts (SGRBs) is critically important for the research of compact object mergers and multi-messenger astrophysics, but a significant part of SGRBs fall below the trigger threshold of GRB detectors, and thus are often missed. Here we present a systematic search for and verification of missed SGRBs using Fermi/GBM subthreshold triggers, jointly analyzing data from GBM, GECAM-B, and GECAM-C. Among 466 Fermi/GBM sub-threshold events (with reliability >= 5) from 2021 to 2024, 181 are within GECAM's field of view. We find that 49 out of 181 are confirmed astrophysical transients, and 41 can be classified as SGRBs. Thus, the SGRB detection rate of Fermi/GBM is increased to about 50 per year. Additionally, a complete multi-instrument monitoring and systematic verification of GBM sub-threshold events is expected to further increase the SGRB rate to about 80 per year, which is about 100% improvement relative to the GBM-triggered SGRBs. These results may have important implications on the local formation rate of SGRBs and the binary neutron star merger rate. We also searched for potential temporal coincidences between these SGRBs and gravitational waves from the LIGO-Virgo-KAGRA O4 run resulting in no detection.         |\n",
       "|<p style=\"color:green\"> **ERROR** </p>| <p style=\"color:green\">affiliation error: mpia.affiliation_verifications: 'Heidelberg' keyword not found.</p> |"
      ],
      "text/plain": [
       "<IPython.core.display.Markdown object>"
      ]
     },
     "metadata": {},
     "output_type": "display_data"
    }
   ],
   "source": [
    "import datetime\n",
    "today = str(datetime.date.today())\n",
    "logfile = f\"_build/html/logs/log-{today}.md\"\n",
    "\n",
    "\n",
    "with open(logfile, 'w') as logs:\n",
    "    # Success\n",
    "    logs.write(f'# Arxiv on Deck 2: Logs - {today}\\n\\n')\n",
    "    logs.write(\"\"\"* Arxiv had {0:,d} new papers\\n\"\"\".format(len(new_papers)))\n",
    "    logs.write(\"\"\"    * {0:,d} with possible author matches\\n\\n\"\"\".format(len(candidates)))\n",
    "    logs.write(\"## Sucessful papers\\n\\n\")\n",
    "    display(Markdown(\"## Successful papers\"))\n",
    "    success = [k[0] for k in documents]\n",
    "    for candid in candidates:\n",
    "        if candid['identifier'].split(':')[-1] in success:\n",
    "            display(candid)\n",
    "            logs.write(candid.generate_markdown_text() + '\\n\\n')\n",
    "\n",
    "    ## failed\n",
    "    logs.write(\"## Failed papers\\n\\n\")\n",
    "    display(Markdown(\"## Failed papers\"))\n",
    "    failed = sorted(failed, key=lambda x: x[1])\n",
    "    current_reason = \"\"\n",
    "    for paper, reason in failed:\n",
    "        if 'affiliation' in reason:\n",
    "            color = 'green'\n",
    "        else:\n",
    "            color = 'red'\n",
    "        data = Markdown(\n",
    "                paper.generate_markdown_text() + \n",
    "                f'\\n|<p style=\"color:{color:s}\"> **ERROR** </p>| <p style=\"color:{color:s}\">{reason:s}</p> |'\n",
    "               )\n",
    "        if reason != current_reason:\n",
    "            logs.write(f'### {reason:s} \\n\\n')\n",
    "            current_reason = reason\n",
    "        logs.write(data.data + '\\n\\n')\n",
    "        \n",
    "        # only display here the important errors (all in logs)\n",
    "        # if color in ('red',):\n",
    "        display(data)"
   ]
  },
  {
   "cell_type": "markdown",
   "id": "472d20ee",
   "metadata": {
    "papermill": {
     "duration": 0.004633,
     "end_time": "2025-09-04T04:12:28.865427",
     "exception": false,
     "start_time": "2025-09-04T04:12:28.860794",
     "status": "completed"
    },
    "tags": []
   },
   "source": [
    "## Export documents\n",
    "\n",
    "We now write the .md files and export relevant images"
   ]
  },
  {
   "cell_type": "code",
   "execution_count": 7,
   "id": "d426aed9",
   "metadata": {
    "execution": {
     "iopub.execute_input": "2025-09-04T04:12:28.875525Z",
     "iopub.status.busy": "2025-09-04T04:12:28.875289Z",
     "iopub.status.idle": "2025-09-04T04:12:28.882168Z",
     "shell.execute_reply": "2025-09-04T04:12:28.881489Z"
    },
    "papermill": {
     "duration": 0.013043,
     "end_time": "2025-09-04T04:12:28.883139",
     "exception": false,
     "start_time": "2025-09-04T04:12:28.870096",
     "status": "completed"
    },
    "tags": []
   },
   "outputs": [],
   "source": [
    "def export_markdown_summary(md: str, md_fname:str, directory: str):\n",
    "    \"\"\"Export MD document and associated relevant images\"\"\"\n",
    "    import os\n",
    "    import shutil\n",
    "    import re\n",
    "\n",
    "    if (os.path.exists(directory) and not os.path.isdir(directory)):\n",
    "        raise RuntimeError(f\"a non-directory file exists with name {directory:s}\")\n",
    "\n",
    "    if (not os.path.exists(directory)):\n",
    "        print(f\"creating directory {directory:s}\")\n",
    "        os.mkdir(directory)\n",
    "\n",
    "    fig_fnames = (re.compile(r'\\[Fig.*\\]\\((.*)\\)').findall(md) + \n",
    "                  re.compile(r'\\<img src=\"([^>\\s]*)\"[^>]*/>').findall(md))\n",
    "    print(\"found figures\", fig_fnames)\n",
    "    for fname in fig_fnames:\n",
    "        if 'http' in fname:\n",
    "            # No need to copy online figures\n",
    "            continue\n",
    "        if not os.path.exists(fname):\n",
    "            print(\"file not found\", fname)\n",
    "            continue\n",
    "        print(\"copying \", fname, \"to\", directory)\n",
    "        destdir = os.path.join(directory, os.path.dirname(fname))\n",
    "        destfname = os.path.join(destdir, os.path.basename(fname))\n",
    "        try:\n",
    "            os.makedirs(destdir)\n",
    "        except FileExistsError:\n",
    "            pass\n",
    "        shutil.copy(fname, destfname)\n",
    "    with open(os.path.join(directory, md_fname), 'w') as fout:\n",
    "        fout.write(md)\n",
    "    print(\"exported in \", os.path.join(directory, md_fname))\n",
    "    [print(\"    + \" + os.path.join(directory,fk)) for fk in fig_fnames]"
   ]
  },
  {
   "cell_type": "code",
   "execution_count": 8,
   "id": "014d04a4",
   "metadata": {
    "execution": {
     "iopub.execute_input": "2025-09-04T04:12:28.893743Z",
     "iopub.status.busy": "2025-09-04T04:12:28.893531Z",
     "iopub.status.idle": "2025-09-04T04:12:28.899265Z",
     "shell.execute_reply": "2025-09-04T04:12:28.898616Z"
    },
    "papermill": {
     "duration": 0.011922,
     "end_time": "2025-09-04T04:12:28.900252",
     "exception": false,
     "start_time": "2025-09-04T04:12:28.888330",
     "status": "completed"
    },
    "tags": []
   },
   "outputs": [
    {
     "name": "stdout",
     "output_type": "stream",
     "text": [
      "found figures ['tmp_2509.02842/./density_plots_outline.png', 'tmp_2509.02842/./CTP_DR1.drawio.png', 'tmp_2509.02842/./purcomp_LS10_new.png', 'tmp_2509.02842/./purcomp_GDR3_window_new.png', 'tmp_2509.02842/./purcomp_CW2020_new.png']\n",
      "copying  tmp_2509.02842/./density_plots_outline.png to _build/html/\n",
      "copying  tmp_2509.02842/./CTP_DR1.drawio.png to _build/html/\n",
      "copying  tmp_2509.02842/./purcomp_LS10_new.png to _build/html/\n",
      "copying  tmp_2509.02842/./purcomp_GDR3_window_new.png to _build/html/\n",
      "copying  tmp_2509.02842/./purcomp_CW2020_new.png to _build/html/\n",
      "exported in  _build/html/2509.02842.md\n",
      "    + _build/html/tmp_2509.02842/./density_plots_outline.png\n",
      "    + _build/html/tmp_2509.02842/./CTP_DR1.drawio.png\n",
      "    + _build/html/tmp_2509.02842/./purcomp_LS10_new.png\n",
      "    + _build/html/tmp_2509.02842/./purcomp_GDR3_window_new.png\n",
      "    + _build/html/tmp_2509.02842/./purcomp_CW2020_new.png\n"
     ]
    }
   ],
   "source": [
    "for paper_id, md in documents:\n",
    "    export_markdown_summary(md, f\"{paper_id:s}.md\", '_build/html/')"
   ]
  },
  {
   "cell_type": "markdown",
   "id": "f087a0a7",
   "metadata": {
    "papermill": {
     "duration": 0.004727,
     "end_time": "2025-09-04T04:12:28.909784",
     "exception": false,
     "start_time": "2025-09-04T04:12:28.905057",
     "status": "completed"
    },
    "tags": []
   },
   "source": [
    "## Display the papers\n",
    "\n",
    "Not necessary but allows for a quick check."
   ]
  },
  {
   "cell_type": "code",
   "execution_count": 9,
   "id": "fd25f625",
   "metadata": {
    "execution": {
     "iopub.execute_input": "2025-09-04T04:12:28.920043Z",
     "iopub.status.busy": "2025-09-04T04:12:28.919864Z",
     "iopub.status.idle": "2025-09-04T04:12:28.924069Z",
     "shell.execute_reply": "2025-09-04T04:12:28.923509Z"
    },
    "papermill": {
     "duration": 0.010437,
     "end_time": "2025-09-04T04:12:28.924997",
     "exception": false,
     "start_time": "2025-09-04T04:12:28.914560",
     "status": "completed"
    },
    "scrolled": false,
    "tags": []
   },
   "outputs": [
    {
     "data": {
      "text/markdown": [
       "<div class=\"macros\" style=\"visibility:hidden;\">\n",
       "$\\newcommand{\\ensuremath}{}$\n",
       "$\\newcommand{\\xspace}{}$\n",
       "$\\newcommand{\\object}[1]{\\texttt{#1}}$\n",
       "$\\newcommand{\\farcs}{{.}''}$\n",
       "$\\newcommand{\\farcm}{{.}'}$\n",
       "$\\newcommand{\\arcsec}{''}$\n",
       "$\\newcommand{\\arcmin}{'}$\n",
       "$\\newcommand{\\ion}[2]{#1#2}$\n",
       "$\\newcommand{\\textsc}[1]{\\textrm{#1}}$\n",
       "$\\newcommand{\\hl}[1]{\\textrm{#1}}$\n",
       "$\\newcommand{\\footnote}[1]{}$\n",
       "$\\newcommand{\\citetemp}[1]{(#1)}$\n",
       "$\\newcommand{\\tdcomm}[1]{\\textcolor{orange}{(TD: #1)}}$</div>\n",
       "\n",
       "\n",
       "\n",
       "<div id=\"title\">\n",
       "\n",
       "# Counterpart identification and classification for eRASS1 and characterisation of the AGN content\n",
       "\n",
       "</div>\n",
       "<div id=\"comments\">\n",
       "\n",
       "[![arXiv](https://img.shields.io/badge/arXiv-2509.02842-b31b1b.svg)](https://arxiv.org/abs/2509.02842)<mark>Appeared on: 2025-09-04</mark> -  _Paper resubmitted to A&A after taking into account the comments of the referee. The associated 7 catalogues will be released via the eROSITA pages and Vizier as soon as the paper is accepted for publication_\n",
       "\n",
       "</div>\n",
       "<div id=\"authors\">\n",
       "\n",
       "M. Salvato, et al. -- incl., <mark>J. Wolf</mark>\n",
       "\n",
       "</div>\n",
       "<div id=\"abstract\">\n",
       "\n",
       "**Abstract:** Accurately accounting for the AGN phase in galaxy evolution requires a large, clean AGN sample. This is now possible with SRG/eROSITA, which completed its first all-sky X-ray survey (eRASS1) on June 12, 2020. The public Data Release 1 (DR1, Jan 31, 2024) includes 930,203 sources from the Western Galactic Hemisphere. The all-sky X-ray data enable the selection of a large AGN sample and the discovery of rare sources. However, scientific return depends on accurate characterisation of the X-ray emitters, requiring high-quality multiwavelength data. This paper presents the identification and classification of optical and infrared counterparts to eRASS1 sources. Counterparts to eRASS1 X-ray point sources were identified using Gaia DR3, CatWISE2020, and Legacy Survey DR10 (LS10) with the Bayesian NWAY algorithm and trained priors. Sources were classified as Galactic or extragalactic via a Machine Learning model combining optical/IR and X-ray properties, trained on a reference sample. For extragalactic LS10 sources, photometric redshifts were computed using ${\\sc Circlez}$ . Within the LS10 footprint, all 656,614 eROSITA/DR1 sources have at least one possible optical counterpart; $\\sim$ 570,000 are extragalactic and likely AGN. Half are new detections compared to AllWISE, Gaia, and Quaia AGN catalogues. Gaia and CatWISE2020 counterparts are less reliable, due to the survey's shallowness and the limited amount of features available to assess the probability of being an X-ray emitter. In the Galactic Plane, where the overdensity of stellar sources also increases the chance of associations, using conservative reliability cuts, we identify approximately 18,000 Gaia and 55,000 CatWISE2020 extragalactic sources. We release three high-quality counterpart catalogues — plus the training and validation sets — as a benchmark for the field. These datasets have many applications, but in particular empower researchers to build AGN samples tailored for completeness and purity, accelerating the hunt for the Universe’s most energetic engines.\n",
       "\n",
       "</div>\n",
       "\n",
       "<div id=\"div_fig1\">\n",
       "\n",
       "<img src=\"tmp_2509.02842/./density_plots_outline.png\" alt=\"Fig10\" width=\"100%\"/>\n",
       "\n",
       "**Figure 10. -** Source density per eROSITA sky tile  ($3\\deg \\times  3\\deg$) of LS DR10 (LS10; left panel), Gaia DR3 (GDR3; middle panel) and CatWISE2020 (CW2020; right panel). On the LS10 map, the dark green (magenta) regions of InAllLS10 (InAnyLS10), indicating whether all (at least one of) the LS10 bands reach the nominal depth of the survey (see Section \\ref{sec:limitations}), are overplotted. (*fig:densityfield*)\n",
       "\n",
       "</div>\n",
       "<div id=\"div_fig2\">\n",
       "\n",
       "<img src=\"tmp_2509.02842/./CTP_DR1.drawio.png\" alt=\"Fig17\" width=\"100%\"/>\n",
       "\n",
       "**Figure 17. -** Flowchart describing the construction of six samples of candidate AGN with different supporting data, on different regions and with different levels of completeness and purity. For the detailed construction of the samples, see Section \\ref{sec:eRASS1_AGN}.) (*fig:FlowChart*)\n",
       "\n",
       "</div>\n",
       "<div id=\"div_fig3\">\n",
       "\n",
       "<img src=\"tmp_2509.02842/./purcomp_LS10_new.png\" alt=\"Fig2.1\" width=\"33%\"/><img src=\"tmp_2509.02842/./purcomp_GDR3_window_new.png\" alt=\"Fig2.2\" width=\"33%\"/><img src=\"tmp_2509.02842/./purcomp_CW2020_new.png\" alt=\"Fig2.3\" width=\"33%\"/>\n",
       "\n",
       "**Figure 2. -** Mean purity and completeness as  a function of \\texttt{p\\_any} for LS10, GDR3 and CW2020, averaged over their respective surveys' footprints (i.e, considering eROSITA sources outside the Galactic Plane in the case of LS10) (*fig:Meanpurcomp*)\n",
       "\n",
       "</div><div id=\"qrcode\"><img src=https://api.qrserver.com/v1/create-qr-code/?size=100x100&data=\"https://arxiv.org/abs/2509.02842\"></div>"
      ],
      "text/plain": [
       "<IPython.core.display.Markdown object>"
      ]
     },
     "metadata": {},
     "output_type": "display_data"
    }
   ],
   "source": [
    "[display(Markdown(k[1])) for k in documents];"
   ]
  },
  {
   "cell_type": "markdown",
   "id": "873873a4",
   "metadata": {
    "papermill": {
     "duration": 0.004943,
     "end_time": "2025-09-04T04:12:28.935159",
     "exception": false,
     "start_time": "2025-09-04T04:12:28.930216",
     "status": "completed"
    },
    "tags": []
   },
   "source": [
    "# Create HTML index"
   ]
  },
  {
   "cell_type": "code",
   "execution_count": 10,
   "id": "cf665672",
   "metadata": {
    "execution": {
     "iopub.execute_input": "2025-09-04T04:12:28.946081Z",
     "iopub.status.busy": "2025-09-04T04:12:28.945854Z",
     "iopub.status.idle": "2025-09-04T04:12:28.952749Z",
     "shell.execute_reply": "2025-09-04T04:12:28.952079Z"
    },
    "papermill": {
     "duration": 0.013521,
     "end_time": "2025-09-04T04:12:28.953774",
     "exception": false,
     "start_time": "2025-09-04T04:12:28.940253",
     "status": "completed"
    },
    "tags": []
   },
   "outputs": [
    {
     "name": "stdout",
     "output_type": "stream",
     "text": [
      "129  publications files modified in the last 7 days.\n"
     ]
    }
   ],
   "source": [
    "from datetime import datetime, timedelta, timezone\n",
    "from glob import glob\n",
    "import os\n",
    "\n",
    "files = glob('_build/html/*.md')\n",
    "days = 7\n",
    "now = datetime.today()\n",
    "res = []\n",
    "for fk in files:\n",
    "    stat_result = os.stat(fk).st_ctime\n",
    "    modified = datetime.fromtimestamp(stat_result, tz=timezone.utc).replace(tzinfo=None)\n",
    "    delta = now.today() - modified\n",
    "    if delta <= timedelta(days=days):\n",
    "        res.append((delta.seconds, fk))\n",
    "res = [k[1] for k in reversed(sorted(res, key=lambda x:x[1]))]\n",
    "npub = len(res)\n",
    "print(len(res), f\" publications files modified in the last {days:d} days.\")\n",
    "# [ print('\\t', k) for k in res ];"
   ]
  },
  {
   "cell_type": "code",
   "execution_count": 11,
   "id": "015de740",
   "metadata": {
    "execution": {
     "iopub.execute_input": "2025-09-04T04:12:28.964641Z",
     "iopub.status.busy": "2025-09-04T04:12:28.964428Z",
     "iopub.status.idle": "2025-09-04T04:12:28.976064Z",
     "shell.execute_reply": "2025-09-04T04:12:28.975479Z"
    },
    "papermill": {
     "duration": 0.018198,
     "end_time": "2025-09-04T04:12:28.977056",
     "exception": false,
     "start_time": "2025-09-04T04:12:28.958858",
     "status": "completed"
    },
    "tags": []
   },
   "outputs": [
    {
     "name": "stdout",
     "output_type": "stream",
     "text": [
      "11  publications in the last 7 days.\n"
     ]
    }
   ],
   "source": [
    "import datetime\n",
    "from glob import glob\n",
    "\n",
    "def get_last_n_days(lst, days=1):\n",
    "    \"\"\" Get the documents from the last n days \"\"\"\n",
    "    sorted_lst = sorted(lst, key=lambda x: x[1], reverse=True)\n",
    "    for fname, date in sorted_lst:\n",
    "        if date >= str(datetime.date.today() - datetime.timedelta(days=days)):\n",
    "            yield fname\n",
    "\n",
    "def extract_appearance_dates(lst_file):\n",
    "    dates = []\n",
    "\n",
    "    def get_date(line):\n",
    "        return line\\\n",
    "            .split('Appeared on:')[-1]\\\n",
    "            .split('</mark>')[0].strip()\n",
    "\n",
    "    for fname in lst:\n",
    "        with open(fname, 'r') as f:\n",
    "            found_date = False\n",
    "            for line in f:\n",
    "                if not found_date:\n",
    "                    if \"Appeared on\" in line:\n",
    "                        found_date = True\n",
    "                        dates.append((fname, get_date(line)))\n",
    "                else:\n",
    "                    break\n",
    "    return dates\n",
    "\n",
    "from glob import glob\n",
    "lst = glob('_build/html/*md')\n",
    "days = 7\n",
    "dates = extract_appearance_dates(lst)\n",
    "res = list(get_last_n_days(dates, days))\n",
    "npub = len(res)\n",
    "print(len(res), f\" publications in the last {days:d} days.\")"
   ]
  },
  {
   "cell_type": "code",
   "execution_count": 12,
   "id": "52ca0208",
   "metadata": {
    "execution": {
     "iopub.execute_input": "2025-09-04T04:12:28.988069Z",
     "iopub.status.busy": "2025-09-04T04:12:28.987890Z",
     "iopub.status.idle": "2025-09-04T04:12:28.992575Z",
     "shell.execute_reply": "2025-09-04T04:12:28.992028Z"
    },
    "papermill": {
     "duration": 0.011248,
     "end_time": "2025-09-04T04:12:28.993523",
     "exception": false,
     "start_time": "2025-09-04T04:12:28.982275",
     "status": "completed"
    },
    "scrolled": false,
    "tags": []
   },
   "outputs": [],
   "source": [
    "def create_carousel(npub=4):\n",
    "    \"\"\" Generate the HTML code for a carousel with `npub` slides \"\"\"\n",
    "    carousel = [\"\"\"  <div class=\"carousel\" \"\"\",\n",
    "                \"\"\"       data-flickity='{ \"autoPlay\": 10000, \"adaptiveHeight\": true, \"resize\": true, \"wrapAround\": true, \"pauseAutoPlayOnHover\": true, \"groupCells\": 1 }' id=\"asyncTypeset\">\"\"\"\n",
    "                ]\n",
    "    \n",
    "    item_str = \"\"\"    <div class=\"carousel-cell\"> <div id=\"slide{k}\" class=\"md_view\">Content {k}</div> </div>\"\"\"\n",
    "    for k in range(1, npub + 1):\n",
    "        carousel.append(item_str.format(k=k))\n",
    "    carousel.append(\"  </div>\")\n",
    "    return '\\n'.join(carousel)\n",
    "\n",
    "def create_grid(npub=4):\n",
    "    \"\"\" Generate the HTML code for a flat grid with `npub` slides \"\"\"\n",
    "    grid = [\"\"\"  <div class=\"grid\"> \"\"\",\n",
    "                ]\n",
    "    \n",
    "    item_str = \"\"\"    <div class=\"grid-item\"> <div id=\"slide{k}\" class=\"md_view\">Content {k}</div> </div>\"\"\"\n",
    "    for k in range(1, npub + 1):\n",
    "        grid.append(item_str.format(k=k))\n",
    "    grid.append(\"  </div>\")\n",
    "    return '\\n'.join(grid)"
   ]
  },
  {
   "cell_type": "code",
   "execution_count": 13,
   "id": "a6eac5b6",
   "metadata": {
    "execution": {
     "iopub.execute_input": "2025-09-04T04:12:29.004571Z",
     "iopub.status.busy": "2025-09-04T04:12:29.004389Z",
     "iopub.status.idle": "2025-09-04T04:12:29.009157Z",
     "shell.execute_reply": "2025-09-04T04:12:29.008624Z"
    },
    "papermill": {
     "duration": 0.011363,
     "end_time": "2025-09-04T04:12:29.010097",
     "exception": false,
     "start_time": "2025-09-04T04:12:28.998734",
     "status": "completed"
    },
    "scrolled": false,
    "tags": []
   },
   "outputs": [],
   "source": [
    "carousel = create_carousel(npub)\n",
    "docs = ', '.join(['\"{0:s}\"'.format(k.split('/')[-1]) for k in res])\n",
    "slides = ', '.join([f'\"slide{k}\"' for k in range(1, npub + 1)])\n",
    "\n",
    "with open(\"daily_template.html\", \"r\") as tpl:\n",
    "    page = tpl.read()\n",
    "    page = page.replace(\"{%-- carousel:s --%}\", carousel)\\\n",
    "               .replace(\"{%-- suptitle:s --%}\",  \"7-day archives\" )\\\n",
    "               .replace(\"{%-- docs:s --%}\", docs)\\\n",
    "               .replace(\"{%-- slides:s --%}\", slides)\n",
    "    \n",
    "with open(\"_build/html/index_7days.html\", 'w') as fout:\n",
    "    fout.write(page)"
   ]
  },
  {
   "cell_type": "code",
   "execution_count": 14,
   "id": "adc1a1ec",
   "metadata": {
    "execution": {
     "iopub.execute_input": "2025-09-04T04:12:29.021277Z",
     "iopub.status.busy": "2025-09-04T04:12:29.021091Z",
     "iopub.status.idle": "2025-09-04T04:12:29.027095Z",
     "shell.execute_reply": "2025-09-04T04:12:29.026428Z"
    },
    "papermill": {
     "duration": 0.012673,
     "end_time": "2025-09-04T04:12:29.028081",
     "exception": false,
     "start_time": "2025-09-04T04:12:29.015408",
     "status": "completed"
    },
    "tags": []
   },
   "outputs": [
    {
     "name": "stdout",
     "output_type": "stream",
     "text": [
      "4  publications in the last day.\n"
     ]
    }
   ],
   "source": [
    "# redo for today\n",
    "days = 1\n",
    "res = list(get_last_n_days(dates, days))\n",
    "npub = len(res)\n",
    "print(len(res), f\" publications in the last day.\")\n",
    "\n",
    "carousel = create_carousel(npub)\n",
    "docs = ', '.join(['\"{0:s}\"'.format(k.split('/')[-1]) for k in res])\n",
    "slides = ', '.join([f'\"slide{k}\"' for k in range(1, npub + 1)])\n",
    "\n",
    "with open(\"daily_template.html\", \"r\") as tpl:\n",
    "    page = tpl.read()\n",
    "    page = page.replace(\"{%-- carousel:s --%}\", carousel)\\\n",
    "               .replace(\"{%-- suptitle:s --%}\",  \"Daily\" )\\\n",
    "               .replace(\"{%-- docs:s --%}\", docs)\\\n",
    "               .replace(\"{%-- slides:s --%}\", slides)\n",
    "    \n",
    "# print(carousel, docs, slides)\n",
    "# print(page)\n",
    "with open(\"_build/html/index_daily.html\", 'w') as fout:\n",
    "    fout.write(page)"
   ]
  },
  {
   "cell_type": "code",
   "execution_count": 15,
   "id": "00eece82",
   "metadata": {
    "execution": {
     "iopub.execute_input": "2025-09-04T04:12:29.039543Z",
     "iopub.status.busy": "2025-09-04T04:12:29.039355Z",
     "iopub.status.idle": "2025-09-04T04:12:29.045556Z",
     "shell.execute_reply": "2025-09-04T04:12:29.045014Z"
    },
    "papermill": {
     "duration": 0.013083,
     "end_time": "2025-09-04T04:12:29.046543",
     "exception": false,
     "start_time": "2025-09-04T04:12:29.033460",
     "status": "completed"
    },
    "scrolled": false,
    "tags": []
   },
   "outputs": [
    {
     "name": "stdout",
     "output_type": "stream",
     "text": [
      "6  6 publications selected.\n"
     ]
    }
   ],
   "source": [
    "# Create the flat grid of the last N papers (fixed number regardless of dates)\n",
    "from itertools import islice \n",
    "\n",
    "npub = 6\n",
    "res = [k[0] for k in (islice(reversed(sorted(dates, key=lambda x: x[1])), 6))]\n",
    "print(len(res), f\" {npub} publications selected.\")\n",
    "\n",
    "grid = create_grid(npub)\n",
    "docs = ', '.join(['\"{0:s}\"'.format(k.split('/')[-1]) for k in res])\n",
    "slides = ', '.join([f'\"slide{k}\"' for k in range(1, npub + 1)])\n",
    "\n",
    "with open(\"grid_template.html\", \"r\") as tpl:\n",
    "    page = tpl.read()\n",
    "    page = page.replace(\"{%-- grid-content:s --%}\", grid)\\\n",
    "               .replace(\"{%-- suptitle:s --%}\",  f\"Last {npub:,d} papers\" )\\\n",
    "               .replace(\"{%-- docs:s --%}\", docs)\\\n",
    "               .replace(\"{%-- slides:s --%}\", slides)\n",
    "    \n",
    "# print(grid, docs, slides)\n",
    "# print(page)\n",
    "with open(\"_build/html/index_npub_grid.html\", 'w') as fout:\n",
    "    fout.write(page)"
   ]
  }
 ],
 "metadata": {
  "kernelspec": {
   "display_name": "Python 3 (ipykernel)",
   "language": "python",
   "name": "python3"
  },
  "language_info": {
   "codemirror_mode": {
    "name": "ipython",
    "version": 3
   },
   "file_extension": ".py",
   "mimetype": "text/x-python",
   "name": "python",
   "nbconvert_exporter": "python",
   "pygments_lexer": "ipython3",
   "version": "3.9.23"
  },
  "papermill": {
   "default_parameters": {},
   "duration": 55.390913,
   "end_time": "2025-09-04T04:12:29.267143",
   "environment_variables": {},
   "exception": null,
   "input_path": "MPIA daily digest.ipynb",
   "output_path": "log.ipynb",
   "parameters": {},
   "start_time": "2025-09-04T04:11:33.876230",
   "version": "2.6.0"
  },
  "vscode": {
   "interpreter": {
    "hash": "aee8b7b246df8f9039afb4144a1f6fd8d2ca17a180786b69acc140d282b71a49"
   }
  },
  "widgets": {
   "application/vnd.jupyter.widget-state+json": {
    "state": {
     "05bcb4b8e461460c99cfb983bb15202e": {
      "model_module": "@jupyter-widgets/base",
      "model_module_version": "2.0.0",
      "model_name": "LayoutModel",
      "state": {
       "_model_module": "@jupyter-widgets/base",
       "_model_module_version": "2.0.0",
       "_model_name": "LayoutModel",
       "_view_count": null,
       "_view_module": "@jupyter-widgets/base",
       "_view_module_version": "2.0.0",
       "_view_name": "LayoutView",
       "align_content": null,
       "align_items": null,
       "align_self": null,
       "border_bottom": null,
       "border_left": null,
       "border_right": null,
       "border_top": null,
       "bottom": null,
       "display": null,
       "flex": null,
       "flex_flow": null,
       "grid_area": null,
       "grid_auto_columns": null,
       "grid_auto_flow": null,
       "grid_auto_rows": null,
       "grid_column": null,
       "grid_gap": null,
       "grid_row": null,
       "grid_template_areas": null,
       "grid_template_columns": null,
       "grid_template_rows": null,
       "height": null,
       "justify_content": null,
       "justify_items": null,
       "left": null,
       "margin": null,
       "max_height": null,
       "max_width": null,
       "min_height": null,
       "min_width": null,
       "object_fit": null,
       "object_position": null,
       "order": null,
       "overflow": null,
       "padding": null,
       "right": null,
       "top": null,
       "visibility": null,
       "width": null
      }
     },
     "0d9fcc5159944718802a39cb85db3a5e": {
      "model_module": "@jupyter-widgets/base",
      "model_module_version": "2.0.0",
      "model_name": "LayoutModel",
      "state": {
       "_model_module": "@jupyter-widgets/base",
       "_model_module_version": "2.0.0",
       "_model_name": "LayoutModel",
       "_view_count": null,
       "_view_module": "@jupyter-widgets/base",
       "_view_module_version": "2.0.0",
       "_view_name": "LayoutView",
       "align_content": null,
       "align_items": null,
       "align_self": null,
       "border_bottom": null,
       "border_left": null,
       "border_right": null,
       "border_top": null,
       "bottom": null,
       "display": null,
       "flex": null,
       "flex_flow": null,
       "grid_area": null,
       "grid_auto_columns": null,
       "grid_auto_flow": null,
       "grid_auto_rows": null,
       "grid_column": null,
       "grid_gap": null,
       "grid_row": null,
       "grid_template_areas": null,
       "grid_template_columns": null,
       "grid_template_rows": null,
       "height": null,
       "justify_content": null,
       "justify_items": null,
       "left": null,
       "margin": null,
       "max_height": null,
       "max_width": null,
       "min_height": null,
       "min_width": null,
       "object_fit": null,
       "object_position": null,
       "order": null,
       "overflow": null,
       "padding": null,
       "right": null,
       "top": null,
       "visibility": null,
       "width": null
      }
     },
     "2eefa1831cc941dd86c33e27931fb330": {
      "model_module": "@jupyter-widgets/controls",
      "model_module_version": "2.0.0",
      "model_name": "HTMLModel",
      "state": {
       "_dom_classes": [],
       "_model_module": "@jupyter-widgets/controls",
       "_model_module_version": "2.0.0",
       "_model_name": "HTMLModel",
       "_view_count": null,
       "_view_module": "@jupyter-widgets/controls",
       "_view_module_version": "2.0.0",
       "_view_name": "HTMLView",
       "description": "",
       "description_allow_html": false,
       "layout": "IPY_MODEL_05bcb4b8e461460c99cfb983bb15202e",
       "placeholder": "​",
       "style": "IPY_MODEL_8217f74b245e4b348f9d8e0eba39e335",
       "tabbable": null,
       "tooltip": null,
       "value": "100%"
      }
     },
     "73249b36e9e9422abbb7a2b4d183c118": {
      "model_module": "@jupyter-widgets/controls",
      "model_module_version": "2.0.0",
      "model_name": "HTMLModel",
      "state": {
       "_dom_classes": [],
       "_model_module": "@jupyter-widgets/controls",
       "_model_module_version": "2.0.0",
       "_model_name": "HTMLModel",
       "_view_count": null,
       "_view_module": "@jupyter-widgets/controls",
       "_view_module_version": "2.0.0",
       "_view_name": "HTMLView",
       "description": "",
       "description_allow_html": false,
       "layout": "IPY_MODEL_c02f6723caa449f1bd5c923285c84092",
       "placeholder": "​",
       "style": "IPY_MODEL_ecb2c6849ef8483ea0ab9bf58d352b35",
       "tabbable": null,
       "tooltip": null,
       "value": " 6/6 [00:32&lt;00:00,  3.58s/it]"
      }
     },
     "7e48f167acc54d3f9216ede3482431cd": {
      "model_module": "@jupyter-widgets/controls",
      "model_module_version": "2.0.0",
      "model_name": "FloatProgressModel",
      "state": {
       "_dom_classes": [],
       "_model_module": "@jupyter-widgets/controls",
       "_model_module_version": "2.0.0",
       "_model_name": "FloatProgressModel",
       "_view_count": null,
       "_view_module": "@jupyter-widgets/controls",
       "_view_module_version": "2.0.0",
       "_view_name": "ProgressView",
       "bar_style": "success",
       "description": "",
       "description_allow_html": false,
       "layout": "IPY_MODEL_0d9fcc5159944718802a39cb85db3a5e",
       "max": 6.0,
       "min": 0.0,
       "orientation": "horizontal",
       "style": "IPY_MODEL_ed674915ef8f41e0b84da57a8b729639",
       "tabbable": null,
       "tooltip": null,
       "value": 6.0
      }
     },
     "8217f74b245e4b348f9d8e0eba39e335": {
      "model_module": "@jupyter-widgets/controls",
      "model_module_version": "2.0.0",
      "model_name": "HTMLStyleModel",
      "state": {
       "_model_module": "@jupyter-widgets/controls",
       "_model_module_version": "2.0.0",
       "_model_name": "HTMLStyleModel",
       "_view_count": null,
       "_view_module": "@jupyter-widgets/base",
       "_view_module_version": "2.0.0",
       "_view_name": "StyleView",
       "background": null,
       "description_width": "",
       "font_size": null,
       "text_color": null
      }
     },
     "9c259264f76a466783e520d703805d9e": {
      "model_module": "@jupyter-widgets/controls",
      "model_module_version": "2.0.0",
      "model_name": "HBoxModel",
      "state": {
       "_dom_classes": [],
       "_model_module": "@jupyter-widgets/controls",
       "_model_module_version": "2.0.0",
       "_model_name": "HBoxModel",
       "_view_count": null,
       "_view_module": "@jupyter-widgets/controls",
       "_view_module_version": "2.0.0",
       "_view_name": "HBoxView",
       "box_style": "",
       "children": [
        "IPY_MODEL_2eefa1831cc941dd86c33e27931fb330",
        "IPY_MODEL_7e48f167acc54d3f9216ede3482431cd",
        "IPY_MODEL_73249b36e9e9422abbb7a2b4d183c118"
       ],
       "layout": "IPY_MODEL_ffb0dc5a040e436b8a5383e8278606ca",
       "tabbable": null,
       "tooltip": null
      }
     },
     "c02f6723caa449f1bd5c923285c84092": {
      "model_module": "@jupyter-widgets/base",
      "model_module_version": "2.0.0",
      "model_name": "LayoutModel",
      "state": {
       "_model_module": "@jupyter-widgets/base",
       "_model_module_version": "2.0.0",
       "_model_name": "LayoutModel",
       "_view_count": null,
       "_view_module": "@jupyter-widgets/base",
       "_view_module_version": "2.0.0",
       "_view_name": "LayoutView",
       "align_content": null,
       "align_items": null,
       "align_self": null,
       "border_bottom": null,
       "border_left": null,
       "border_right": null,
       "border_top": null,
       "bottom": null,
       "display": null,
       "flex": null,
       "flex_flow": null,
       "grid_area": null,
       "grid_auto_columns": null,
       "grid_auto_flow": null,
       "grid_auto_rows": null,
       "grid_column": null,
       "grid_gap": null,
       "grid_row": null,
       "grid_template_areas": null,
       "grid_template_columns": null,
       "grid_template_rows": null,
       "height": null,
       "justify_content": null,
       "justify_items": null,
       "left": null,
       "margin": null,
       "max_height": null,
       "max_width": null,
       "min_height": null,
       "min_width": null,
       "object_fit": null,
       "object_position": null,
       "order": null,
       "overflow": null,
       "padding": null,
       "right": null,
       "top": null,
       "visibility": null,
       "width": null
      }
     },
     "ecb2c6849ef8483ea0ab9bf58d352b35": {
      "model_module": "@jupyter-widgets/controls",
      "model_module_version": "2.0.0",
      "model_name": "HTMLStyleModel",
      "state": {
       "_model_module": "@jupyter-widgets/controls",
       "_model_module_version": "2.0.0",
       "_model_name": "HTMLStyleModel",
       "_view_count": null,
       "_view_module": "@jupyter-widgets/base",
       "_view_module_version": "2.0.0",
       "_view_name": "StyleView",
       "background": null,
       "description_width": "",
       "font_size": null,
       "text_color": null
      }
     },
     "ed674915ef8f41e0b84da57a8b729639": {
      "model_module": "@jupyter-widgets/controls",
      "model_module_version": "2.0.0",
      "model_name": "ProgressStyleModel",
      "state": {
       "_model_module": "@jupyter-widgets/controls",
       "_model_module_version": "2.0.0",
       "_model_name": "ProgressStyleModel",
       "_view_count": null,
       "_view_module": "@jupyter-widgets/base",
       "_view_module_version": "2.0.0",
       "_view_name": "StyleView",
       "bar_color": null,
       "description_width": ""
      }
     },
     "ffb0dc5a040e436b8a5383e8278606ca": {
      "model_module": "@jupyter-widgets/base",
      "model_module_version": "2.0.0",
      "model_name": "LayoutModel",
      "state": {
       "_model_module": "@jupyter-widgets/base",
       "_model_module_version": "2.0.0",
       "_model_name": "LayoutModel",
       "_view_count": null,
       "_view_module": "@jupyter-widgets/base",
       "_view_module_version": "2.0.0",
       "_view_name": "LayoutView",
       "align_content": null,
       "align_items": null,
       "align_self": null,
       "border_bottom": null,
       "border_left": null,
       "border_right": null,
       "border_top": null,
       "bottom": null,
       "display": null,
       "flex": null,
       "flex_flow": null,
       "grid_area": null,
       "grid_auto_columns": null,
       "grid_auto_flow": null,
       "grid_auto_rows": null,
       "grid_column": null,
       "grid_gap": null,
       "grid_row": null,
       "grid_template_areas": null,
       "grid_template_columns": null,
       "grid_template_rows": null,
       "height": null,
       "justify_content": null,
       "justify_items": null,
       "left": null,
       "margin": null,
       "max_height": null,
       "max_width": null,
       "min_height": null,
       "min_width": null,
       "object_fit": null,
       "object_position": null,
       "order": null,
       "overflow": null,
       "padding": null,
       "right": null,
       "top": null,
       "visibility": null,
       "width": null
      }
     }
    },
    "version_major": 2,
    "version_minor": 0
   }
  }
 },
 "nbformat": 4,
 "nbformat_minor": 5
}