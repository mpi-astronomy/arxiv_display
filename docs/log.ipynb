{
 "cells": [
  {
   "cell_type": "markdown",
   "id": "92bcb855",
   "metadata": {
    "papermill": {
     "duration": 0.003662,
     "end_time": "2024-01-22T04:09:43.880435",
     "exception": false,
     "start_time": "2024-01-22T04:09:43.876773",
     "status": "completed"
    },
    "tags": []
   },
   "source": [
    "# MPIA Arxiv on Deck 2\n",
    "\n",
    "Contains the steps to produce the paper extractions."
   ]
  },
  {
   "cell_type": "code",
   "execution_count": 1,
   "id": "3a0d6e11",
   "metadata": {
    "execution": {
     "iopub.execute_input": "2024-01-22T04:09:43.888829Z",
     "iopub.status.busy": "2024-01-22T04:09:43.888561Z",
     "iopub.status.idle": "2024-01-22T04:09:44.345378Z",
     "shell.execute_reply": "2024-01-22T04:09:44.344746Z"
    },
    "papermill": {
     "duration": 0.462507,
     "end_time": "2024-01-22T04:09:44.347129",
     "exception": false,
     "start_time": "2024-01-22T04:09:43.884622",
     "status": "completed"
    },
    "tags": []
   },
   "outputs": [],
   "source": [
    "# Imports\n",
    "import os\n",
    "from IPython.display import Markdown, display\n",
    "from tqdm.notebook import tqdm\n",
    "import warnings\n",
    "from PIL import Image \n",
    "\n",
    "# requires arxiv_on_deck_2\n",
    "\n",
    "from arxiv_on_deck_2.arxiv2 import (get_new_papers, \n",
    "                                    get_paper_from_identifier,\n",
    "                                    retrieve_document_source, \n",
    "                                    get_markdown_badge)\n",
    "from arxiv_on_deck_2 import (latex,\n",
    "                             latex_bib,\n",
    "                             mpia,\n",
    "                             highlight_authors_in_list)\n",
    "\n",
    "# Sometimes images are really big\n",
    "Image.MAX_IMAGE_PIXELS = 1000000000 "
   ]
  },
  {
   "cell_type": "code",
   "execution_count": 2,
   "id": "22aa9d44",
   "metadata": {
    "execution": {
     "iopub.execute_input": "2024-01-22T04:09:44.354422Z",
     "iopub.status.busy": "2024-01-22T04:09:44.353883Z",
     "iopub.status.idle": "2024-01-22T04:09:44.359218Z",
     "shell.execute_reply": "2024-01-22T04:09:44.358666Z"
    },
    "papermill": {
     "duration": 0.010346,
     "end_time": "2024-01-22T04:09:44.360515",
     "exception": false,
     "start_time": "2024-01-22T04:09:44.350169",
     "status": "completed"
    },
    "tags": []
   },
   "outputs": [],
   "source": [
    "# Some useful definitions.\n",
    "\n",
    "class AffiliationWarning(UserWarning):\n",
    "    pass\n",
    "\n",
    "class AffiliationError(RuntimeError):\n",
    "    pass\n",
    "\n",
    "def validation(source: str):\n",
    "    \"\"\"Raises error paper during parsing of source file\n",
    "    \n",
    "    Allows checks before parsing TeX code.\n",
    "    \n",
    "    Raises AffiliationWarning\n",
    "    \"\"\"\n",
    "    check = mpia.affiliation_verifications(source, verbose=True)\n",
    "    if check is not True:\n",
    "        raise AffiliationError(\"mpia.affiliation_verifications: \" + check)\n",
    "\n",
    "        \n",
    "warnings.simplefilter('always', AffiliationWarning)\n",
    "\n",
    "\n",
    "def get_markdown_qrcode(paper_id: str):\n",
    "    \"\"\" Generate a qrcode to the arxiv page using qrserver.com\n",
    "    \n",
    "    :param paper: Arxiv paper\n",
    "    :returns: markdown text\n",
    "    \"\"\"\n",
    "    url = r\"https://api.qrserver.com/v1/create-qr-code/?size=100x100&data=\"\n",
    "    txt = f\"\"\"<img src={url}\"https://arxiv.org/abs/{paper_id}\">\"\"\"\n",
    "    txt = '<div id=\"qrcode\">' + txt + '</div>'\n",
    "    return txt"
   ]
  },
  {
   "cell_type": "markdown",
   "id": "14bd6310",
   "metadata": {
    "papermill": {
     "duration": 0.002685,
     "end_time": "2024-01-22T04:09:44.366086",
     "exception": false,
     "start_time": "2024-01-22T04:09:44.363401",
     "status": "completed"
    },
    "tags": []
   },
   "source": [
    "## get list of arxiv paper candidates\n",
    "\n",
    "We use the MPIA mitarbeiter list webpage from mpia.de to get author names\n",
    "We then get all new papers from Arxiv and match authors"
   ]
  },
  {
   "cell_type": "code",
   "execution_count": 3,
   "id": "2645e73a",
   "metadata": {
    "execution": {
     "iopub.execute_input": "2024-01-22T04:09:44.372622Z",
     "iopub.status.busy": "2024-01-22T04:09:44.372268Z",
     "iopub.status.idle": "2024-01-22T04:10:06.249153Z",
     "shell.execute_reply": "2024-01-22T04:10:06.248482Z"
    },
    "papermill": {
     "duration": 21.881828,
     "end_time": "2024-01-22T04:10:06.250647",
     "exception": false,
     "start_time": "2024-01-22T04:09:44.368819",
     "status": "completed"
    },
    "tags": []
   },
   "outputs": [
    {
     "name": "stdout",
     "output_type": "stream",
     "text": [
      "E. Bañados  ->  E. Bañados  |  ['E. Bañados']\n",
      "C. Mao  ->  C. Mao  |  ['C. Mao']\n",
      "Arxiv has 44 new papers today\n",
      "          2 with possible author matches\n"
     ]
    }
   ],
   "source": [
    "# get list from MPIA website\n",
    "# it automatically filters identified non-scientists :func:`mpia.filter_non_scientists`\n",
    "mpia_authors = mpia.get_mpia_mitarbeiter_list()\n",
    "normed_mpia_authors = [k[1] for k in mpia_authors]   # initials + fullname\n",
    "new_papers = get_new_papers()\n",
    "# add manual references\n",
    "add_paper_refs = []\n",
    "new_papers.extend([get_paper_from_identifier(k) for k in add_paper_refs])\n",
    "\n",
    "candidates = []\n",
    "for paperk in new_papers:\n",
    "    # Check author list with their initials\n",
    "    normed_author_list = [mpia.get_initials(k) for k in paperk['authors']]\n",
    "    hl_authors = highlight_authors_in_list(normed_author_list, normed_mpia_authors, verbose=True)\n",
    "    matches = [(hl, orig) for hl, orig in zip(hl_authors, paperk['authors']) if 'mark' in hl]\n",
    "    paperk['authors'] = hl_authors\n",
    "    if matches:\n",
    "        # only select paper if an author matched our list\n",
    "        candidates.append(paperk)\n",
    "print(\"\"\"Arxiv has {0:,d} new papers today\"\"\".format(len(new_papers)))        \n",
    "print(\"\"\"          {0:,d} with possible author matches\"\"\".format(len(candidates)))"
   ]
  },
  {
   "cell_type": "markdown",
   "id": "3543b34a",
   "metadata": {
    "papermill": {
     "duration": 0.002859,
     "end_time": "2024-01-22T04:10:06.256710",
     "exception": false,
     "start_time": "2024-01-22T04:10:06.253851",
     "status": "completed"
    },
    "tags": []
   },
   "source": [
    "# Parse sources and generate relevant outputs\n",
    "\n",
    "From the candidates, we do the following steps:\n",
    "* get their tarball from ArXiv (and extract data)\n",
    "* find the main .tex file: find one with \\documentclass{...} (sometimes it's non trivial)\n",
    "* Check affiliations with :func:`validation`, which uses :func:`mpia.affiliation_verifications`\n",
    "* If passing the affiliations: we parse the .tex source\n",
    "   * inject sub-documents into the main (flatten the main document)\n",
    "   * parse structure, extract information (title, abstract, authors, figures...)\n",
    "   * handles `\\graphicspath` if provided\n",
    "* Generate the .md document."
   ]
  },
  {
   "cell_type": "code",
   "execution_count": 4,
   "id": "9576b79e",
   "metadata": {
    "execution": {
     "iopub.execute_input": "2024-01-22T04:10:06.263687Z",
     "iopub.status.busy": "2024-01-22T04:10:06.263300Z",
     "iopub.status.idle": "2024-01-22T04:10:38.330907Z",
     "shell.execute_reply": "2024-01-22T04:10:38.330119Z"
    },
    "papermill": {
     "duration": 32.077433,
     "end_time": "2024-01-22T04:10:38.337018",
     "exception": false,
     "start_time": "2024-01-22T04:10:06.259585",
     "status": "completed"
    },
    "scrolled": false,
    "tags": []
   },
   "outputs": [
    {
     "data": {
      "application/vnd.jupyter.widget-view+json": {
       "model_id": "e66fed7e89a14a4dab0615af42fc55fd",
       "version_major": 2,
       "version_minor": 0
      },
      "text/plain": [
       "  0%|          | 0/2 [00:00<?, ?it/s]"
      ]
     },
     "metadata": {},
     "output_type": "display_data"
    },
    {
     "name": "stdout",
     "output_type": "stream",
     "text": [
      "Retrieving document from  https://arxiv.org/e-print/2401.10328\n"
     ]
    },
    {
     "name": "stdout",
     "output_type": "stream",
     "text": [
      "extracting tarball to tmp_2401.10328..."
     ]
    },
    {
     "name": "stdout",
     "output_type": "stream",
     "text": [
      " done.\n"
     ]
    },
    {
     "name": "stdout",
     "output_type": "stream",
     "text": [
      "Found 123 bibliographic references in tmp_2401.10328/fireqsos.bbl.\n",
      "Retrieving document from  https://arxiv.org/e-print/2401.10717\n"
     ]
    },
    {
     "name": "stdout",
     "output_type": "stream",
     "text": [
      "extracting tarball to tmp_2401.10717..."
     ]
    },
    {
     "name": "stdout",
     "output_type": "stream",
     "text": [
      " done.\n"
     ]
    },
    {
     "name": "stderr",
     "output_type": "stream",
     "text": [
      "/tmp/ipykernel_2261/3009462391.py:49: LatexWarning: 2401.10717 did not run properly\n",
      "'utf-8' codec can't decode byte 0xa8 in position 25952: invalid start byte\n",
      "  warnings.warn(latex.LatexWarning(f\"{paper_id:s} did not run properly\\n\" +\n"
     ]
    }
   ],
   "source": [
    "documents = []\n",
    "failed = []\n",
    "for paper in tqdm(candidates):\n",
    "    paper_id = paper['identifier'].lower().replace('arxiv:', '')\n",
    "    \n",
    "    folder = f'tmp_{paper_id}'\n",
    "\n",
    "    try:\n",
    "        if not os.path.isdir(folder):\n",
    "            folder = retrieve_document_source(f\"{paper_id}\", f'tmp_{paper_id}')\n",
    "        \n",
    "        try:\n",
    "            doc = latex.LatexDocument(folder, validation=validation)    \n",
    "        except AffiliationError as affilerror:\n",
    "            msg = f\"ArXiv:{paper_id:s} is not an MPIA paper... \" + str(affilerror)\n",
    "            failed.append((paper, \"affiliation error: \" + str(affilerror) ))\n",
    "            continue\n",
    "        \n",
    "        # Hack because sometimes author parsing does not work well\n",
    "        if (len(doc.authors) != len(paper['authors'])):\n",
    "            doc._authors = paper['authors']\n",
    "        else:\n",
    "            # highlight authors (FIXME: doc.highlight_authors)\n",
    "            # done on arxiv paper already\n",
    "            doc._authors = highlight_authors_in_list(\n",
    "                [mpia.get_initials(k) for k in doc.authors], \n",
    "                normed_mpia_authors, verbose=True)\n",
    "        if (doc.abstract) in (None, ''):\n",
    "            doc._abstract = paper['abstract']\n",
    "            \n",
    "        doc.comment = (get_markdown_badge(paper_id) + \n",
    "                       \"<mark>Appeared on: \" + paper['date'] + \"</mark> - \")\n",
    "        if paper['comments']:\n",
    "            doc.comment += \" _\" + paper['comments'] + \"_\"\n",
    "        \n",
    "        full_md = doc.generate_markdown_text()\n",
    "        \n",
    "        full_md += get_markdown_qrcode(paper_id)\n",
    "        \n",
    "        # replace citations\n",
    "        try:\n",
    "            bibdata = latex_bib.LatexBib.from_doc(doc)\n",
    "            full_md = latex_bib.replace_citations(full_md, bibdata)\n",
    "        except Exception as e:\n",
    "            print(e)\n",
    "        \n",
    "        documents.append((paper_id, full_md))\n",
    "    except Exception as e:\n",
    "        warnings.warn(latex.LatexWarning(f\"{paper_id:s} did not run properly\\n\" +\n",
    "                                         str(e)\n",
    "                                        ))\n",
    "        failed.append((paper, \"latex error \" + str(e)))"
   ]
  },
  {
   "cell_type": "markdown",
   "id": "2505a25c",
   "metadata": {
    "papermill": {
     "duration": 0.003472,
     "end_time": "2024-01-22T04:10:38.344012",
     "exception": false,
     "start_time": "2024-01-22T04:10:38.340540",
     "status": "completed"
    },
    "tags": []
   },
   "source": [
    "### Export the logs\n",
    "\n",
    "Throughout, we also keep track of the logs per paper. see `logs-{today date}.md` "
   ]
  },
  {
   "cell_type": "code",
   "execution_count": 5,
   "id": "d733828a",
   "metadata": {
    "execution": {
     "iopub.execute_input": "2024-01-22T04:10:38.351966Z",
     "iopub.status.busy": "2024-01-22T04:10:38.351549Z",
     "iopub.status.idle": "2024-01-22T04:10:38.366743Z",
     "shell.execute_reply": "2024-01-22T04:10:38.366127Z"
    },
    "papermill": {
     "duration": 0.020714,
     "end_time": "2024-01-22T04:10:38.368065",
     "exception": false,
     "start_time": "2024-01-22T04:10:38.347351",
     "status": "completed"
    },
    "scrolled": false,
    "tags": []
   },
   "outputs": [
    {
     "data": {
      "text/markdown": [
       "## Successful papers"
      ],
      "text/plain": [
       "<IPython.core.display.Markdown object>"
      ]
     },
     "metadata": {},
     "output_type": "display_data"
    },
    {
     "data": {
      "text/markdown": [
       "\n",
       "|||\n",
       "|---:|:---|\n",
       "| [![arXiv](https://img.shields.io/badge/arXiv-arXiv:2401.10328-b31b1b.svg)](https://arxiv.org/abs/arXiv:2401.10328) | **Chronicling the reionization history at $6\\lesssim z \\lesssim 7$ with  emergent quasar damping wings**  |\n",
       "|| D. Ďurovčíková, et al. -- incl., <mark>E. Bañados</mark> |\n",
       "|*Appeared on*| *2024-01-22*|\n",
       "|*Comments*| *28 pages, 14 figures*|\n",
       "|**Abstract**| The spectra of high-redshift ($z\\gtrsim 6$) quasars contain valuable information on the progression of the Epoch of Reionization (EoR). At redshifts $z<6$, the observed Lyman-series forest shows that the intergalactic medium (IGM) is nearly ionized, while at $z>7$ the observed quasar damping wings indicate high neutral gas fractions. However, there remains a gap in neutral gas fraction constraints at $6\\lesssim z \\lesssim 7$ where the Lyman series forest becomes saturated but damping wings have yet to fully emerge. In this work, we use a sample of 18 quasar spectra at redshifts $6.0<z<7.1$ to close this gap. We apply neural networks to reconstruct the quasars' continuum emission around the partially absorbed Lyman $\\alpha$ line to normalize their spectra, and stack these continuum-normalized spectra in three redshift bins. To increase the robustness of our results, we compare the stacks to a grid of models from two hydrodynamical simulations, ATON and CROC, and we measure the volume-averaged neutral gas fraction, $\\bar{x}_{\\rm HI}$, while jointly fitting for the mean quasar lifetime, $t_{\\rm Q}$, for each stacked spectrum. We chronicle the evolution of neutral gas fraction using the ATON (CROC) models as follows: $\\bar{x}_{\\rm HI} = 0.21_{-0.07}^{+0.17}$ ($\\bar{x}_{\\rm HI} = 0.10_{<10^{-4}}^{+0.73}$) at $\\langle z \\rangle =6.10$, $\\bar{x}_{\\rm HI} = 0.21_{-0.07}^{+0.33}$ ($\\bar{x}_{\\rm HI} =0.57_{-0.47}^{+0.26}$) at $\\langle z \\rangle =6.46$, and $\\bar{x}_{\\rm HI} = 0.37_{-0.17}^{+0.17}$ ($\\bar{x}_{\\rm HI} =0.57_{-0.21}^{+0.26}$) at $\\langle z \\rangle =6.87$. At the same time we constrain the average quasar lifetime to be $t_{\\rm Q} \\lesssim 7\\ {\\rm Myr}$ across all redshift bins, in good agreement with previous studies. |"
      ],
      "text/plain": [
       "[arXiv:2401.10328] Chronicling the reionization history at $6\\lesssim z \\lesssim 7$ with  emergent quasar damping wings\n",
       "\tD. Ďurovčíková, et al. -- incl., <mark>E. Bañados</mark>"
      ]
     },
     "metadata": {},
     "output_type": "display_data"
    },
    {
     "data": {
      "text/markdown": [
       "## Failed papers"
      ],
      "text/plain": [
       "<IPython.core.display.Markdown object>"
      ]
     },
     "metadata": {},
     "output_type": "display_data"
    },
    {
     "data": {
      "text/markdown": [
       "\n",
       "|||\n",
       "|---:|:---|\n",
       "| [![arXiv](https://img.shields.io/badge/arXiv-arXiv:2401.10717-b31b1b.svg)](https://arxiv.org/abs/arXiv:2401.10717) | **BSEC method for unveiling open clusters and its application to Gaia DR3:  83 new clusters**  |\n",
       "|| Z. Li, <mark>C. Mao</mark> |\n",
       "|*Appeared on*| *2024-01-22*|\n",
       "|*Comments*| *21 pages, 13 figures, 5 tables. Submitted to RAA*|\n",
       "|**Abstract**| Open clusters (OCs) are common in the Milky Way, but most of them remain undiscovered. There are numerous techniques, including some machine-learning algorithms, available for the exploration of OCs. However, each method has its own limitations and therefore, different approaches to discovering OCs hold significant value. We develop a comprehensive approach method to automatically explore the data space and identify potential OC candidates with relatively reliable membership determination. This approach combines the techniques of HDBSCAN, GMM, and a novel cluster member identification technique, 2-color constraint. The new method exhibits efficiency in detecting OCs while ensuring precise determination of cluster memberships. Because the main feature of this technique is to add an extra constraint for the members of cluster candidates using the homogeneity of color excess, comparing to typical blind search codes, it is called Blind Search-Extra Constraint (BSEC) method. It is successfully applied to the Gaia Data Release 3, and 83 new OCs with CMDs similar to stellar isochrones are found. In addition, this study reports 621 new OC candidates including at least the main sequence or red giant branch. It is shown that BSEC technique can discard some false negatives of previous works, which takes about 3 percentage of known clusters. It shows that color excess (or 2-color) constraint is useful for removing fake cluster member stars and getting more precise CMDs. It makes the CMDs of 15 percent clusters clearer (in particular for the region near turnoff) and therefore is helpful for CMD and stellar population studies. Keywords: galaxy: stellar content, open clusters and associations; stars: fundamental parameters |\n",
       "|<p style=\"color:red\"> **ERROR** </p>| <p style=\"color:red\">latex error 'utf-8' codec can't decode byte 0xa8 in position 25952: invalid start byte</p> |"
      ],
      "text/plain": [
       "<IPython.core.display.Markdown object>"
      ]
     },
     "metadata": {},
     "output_type": "display_data"
    }
   ],
   "source": [
    "import datetime\n",
    "today = str(datetime.date.today())\n",
    "logfile = f\"_build/html/logs/log-{today}.md\"\n",
    "\n",
    "\n",
    "with open(logfile, 'w') as logs:\n",
    "    # Success\n",
    "    logs.write(f'# Arxiv on Deck 2: Logs - {today}\\n\\n')\n",
    "    logs.write(\"\"\"* Arxiv had {0:,d} new papers\\n\"\"\".format(len(new_papers)))\n",
    "    logs.write(\"\"\"    * {0:,d} with possible author matches\\n\\n\"\"\".format(len(candidates)))\n",
    "    logs.write(\"## Sucessful papers\\n\\n\")\n",
    "    display(Markdown(\"## Successful papers\"))\n",
    "    success = [k[0] for k in documents]\n",
    "    for candid in candidates:\n",
    "        if candid['identifier'].split(':')[-1] in success:\n",
    "            display(candid)\n",
    "            logs.write(candid.generate_markdown_text() + '\\n\\n')\n",
    "\n",
    "    ## failed\n",
    "    logs.write(\"## Failed papers\\n\\n\")\n",
    "    display(Markdown(\"## Failed papers\"))\n",
    "    failed = sorted(failed, key=lambda x: x[1])\n",
    "    current_reason = \"\"\n",
    "    for paper, reason in failed:\n",
    "        if 'affiliation' in reason:\n",
    "            color = 'green'\n",
    "        else:\n",
    "            color = 'red'\n",
    "        data = Markdown(\n",
    "                paper.generate_markdown_text() + \n",
    "                f'\\n|<p style=\"color:{color:s}\"> **ERROR** </p>| <p style=\"color:{color:s}\">{reason:s}</p> |'\n",
    "               )\n",
    "        if reason != current_reason:\n",
    "            logs.write(f'### {reason:s} \\n\\n')\n",
    "            current_reason = reason\n",
    "        logs.write(data.data + '\\n\\n')\n",
    "        \n",
    "        # only display here the important errors (all in logs)\n",
    "        # if color in ('red',):\n",
    "        display(data)"
   ]
  },
  {
   "cell_type": "markdown",
   "id": "472d20ee",
   "metadata": {
    "papermill": {
     "duration": 0.003743,
     "end_time": "2024-01-22T04:10:38.375679",
     "exception": false,
     "start_time": "2024-01-22T04:10:38.371936",
     "status": "completed"
    },
    "tags": []
   },
   "source": [
    "## Export documents\n",
    "\n",
    "We now write the .md files and export relevant images"
   ]
  },
  {
   "cell_type": "code",
   "execution_count": 6,
   "id": "d426aed9",
   "metadata": {
    "execution": {
     "iopub.execute_input": "2024-01-22T04:10:38.384259Z",
     "iopub.status.busy": "2024-01-22T04:10:38.383886Z",
     "iopub.status.idle": "2024-01-22T04:10:38.389957Z",
     "shell.execute_reply": "2024-01-22T04:10:38.389429Z"
    },
    "papermill": {
     "duration": 0.011786,
     "end_time": "2024-01-22T04:10:38.391218",
     "exception": false,
     "start_time": "2024-01-22T04:10:38.379432",
     "status": "completed"
    },
    "tags": []
   },
   "outputs": [],
   "source": [
    "def export_markdown_summary(md: str, md_fname:str, directory: str):\n",
    "    \"\"\"Export MD document and associated relevant images\"\"\"\n",
    "    import os\n",
    "    import shutil\n",
    "    import re\n",
    "\n",
    "    if (os.path.exists(directory) and not os.path.isdir(directory)):\n",
    "        raise RuntimeError(f\"a non-directory file exists with name {directory:s}\")\n",
    "\n",
    "    if (not os.path.exists(directory)):\n",
    "        print(f\"creating directory {directory:s}\")\n",
    "        os.mkdir(directory)\n",
    "\n",
    "    fig_fnames = (re.compile(r'\\[Fig.*\\]\\((.*)\\)').findall(md) + \n",
    "                  re.compile(r'\\<img src=\"([^>\\s]*)\"[^>]*/>').findall(md))\n",
    "    for fname in fig_fnames:\n",
    "        if 'http' in fname:\n",
    "            # No need to copy online figures\n",
    "            continue\n",
    "        destdir = os.path.join(directory, os.path.dirname(fname))\n",
    "        destfname = os.path.join(destdir, os.path.basename(fname))\n",
    "        try:\n",
    "            os.makedirs(destdir)\n",
    "        except FileExistsError:\n",
    "            pass\n",
    "        shutil.copy(fname, destfname)\n",
    "    with open(os.path.join(directory, md_fname), 'w') as fout:\n",
    "        fout.write(md)\n",
    "    print(\"exported in \", os.path.join(directory, md_fname))\n",
    "    [print(\"    + \" + os.path.join(directory,fk)) for fk in fig_fnames]"
   ]
  },
  {
   "cell_type": "code",
   "execution_count": 7,
   "id": "014d04a4",
   "metadata": {
    "execution": {
     "iopub.execute_input": "2024-01-22T04:10:38.399876Z",
     "iopub.status.busy": "2024-01-22T04:10:38.399471Z",
     "iopub.status.idle": "2024-01-22T04:10:38.405175Z",
     "shell.execute_reply": "2024-01-22T04:10:38.404664Z"
    },
    "papermill": {
     "duration": 0.011522,
     "end_time": "2024-01-22T04:10:38.406543",
     "exception": false,
     "start_time": "2024-01-22T04:10:38.395021",
     "status": "completed"
    },
    "tags": []
   },
   "outputs": [
    {
     "name": "stdout",
     "output_type": "stream",
     "text": [
      "exported in  _build/html/2401.10328.md\n",
      "    + _build/html/tmp_2401.10328/./2dlikelihood__600_10000_final_P-GADGET-3_composite.png\n",
      "    + _build/html/tmp_2401.10328/./2dlikelihood__600_10000_final_CROC_composite.png\n",
      "    + _build/html/tmp_2401.10328/./6.87_600_10000_final_noisemodel_0.36_xT_1e6yr.png\n",
      "    + _build/html/tmp_2401.10328/./z-stacks_paper_main.png\n"
     ]
    }
   ],
   "source": [
    "for paper_id, md in documents:\n",
    "    export_markdown_summary(md, f\"{paper_id:s}.md\", '_build/html/')"
   ]
  },
  {
   "cell_type": "markdown",
   "id": "f087a0a7",
   "metadata": {
    "papermill": {
     "duration": 0.003829,
     "end_time": "2024-01-22T04:10:38.414324",
     "exception": false,
     "start_time": "2024-01-22T04:10:38.410495",
     "status": "completed"
    },
    "tags": []
   },
   "source": [
    "## Display the papers\n",
    "\n",
    "Not necessary but allows for a quick check."
   ]
  },
  {
   "cell_type": "code",
   "execution_count": 8,
   "id": "fd25f625",
   "metadata": {
    "execution": {
     "iopub.execute_input": "2024-01-22T04:10:38.423084Z",
     "iopub.status.busy": "2024-01-22T04:10:38.422668Z",
     "iopub.status.idle": "2024-01-22T04:10:38.427149Z",
     "shell.execute_reply": "2024-01-22T04:10:38.426618Z"
    },
    "papermill": {
     "duration": 0.010327,
     "end_time": "2024-01-22T04:10:38.428460",
     "exception": false,
     "start_time": "2024-01-22T04:10:38.418133",
     "status": "completed"
    },
    "scrolled": false,
    "tags": []
   },
   "outputs": [
    {
     "data": {
      "text/markdown": [
       "<div class=\"macros\" style=\"visibility:hidden;\">\n",
       "$\\newcommand{\\ensuremath}{}$\n",
       "$\\newcommand{\\xspace}{}$\n",
       "$\\newcommand{\\object}[1]{\\texttt{#1}}$\n",
       "$\\newcommand{\\farcs}{{.}''}$\n",
       "$\\newcommand{\\farcm}{{.}'}$\n",
       "$\\newcommand{\\arcsec}{''}$\n",
       "$\\newcommand{\\arcmin}{'}$\n",
       "$\\newcommand{\\ion}[2]{#1#2}$\n",
       "$\\newcommand{\\textsc}[1]{\\textrm{#1}}$\n",
       "$\\newcommand{\\hl}[1]{\\textrm{#1}}$\n",
       "$\\newcommand{\\footnote}[1]{}$\n",
       "$\\newcommand{\\vdag}{(v)^\\dagger}$\n",
       "$\\newcommand$\n",
       "$\\newcommand$\n",
       "$\\newcommand{\\msol}{M_\\odot}$\n",
       "$\\newcommand{\\vxhi}{\\bar{x}_{\\rm HI}}$\n",
       "$\\newcommand{\\logtq}{\\log{t_{\\rm Q}}}$\n",
       "$\\newcommand{\\zbar}{\\langle z \\rangle }$\n",
       "$\\newcommand{\\chimp}{{\\rm c Mpc}/h}$\n",
       "$\\newcommand{\\lya}{Ly\\alpha }$\n",
       "$\\newcommand{\\lyb}{Ly\\beta }$\n",
       "$\\newcommand{\\lyc}{Ly\\gamma}$\n",
       "$\\newcommand{\\ciisf}{[C II]}$\n",
       "$\\newcommand{\\cii}{[C{\\small II}]}$\n",
       "$\\newcommand{\\civ}{C{\\small IV}}$\n",
       "$\\newcommand{\\mgii}{Mg{\\small II}}$\n",
       "$\\newcommand{\\oiii}{[O{\\small III}]}$\n",
       "$\\newcommand{\\ddu}[1]{\\texttt{\\color{red}[DD: #1]}}$</div>\n",
       "\n",
       "\n",
       "\n",
       "<div id=\"title\">\n",
       "\n",
       "# Chronicling the reionization history at $6\\lesssim z \\lesssim 7$ with emergent quasar damping wings\n",
       "\n",
       "</div>\n",
       "<div id=\"comments\">\n",
       "\n",
       "[![arXiv](https://img.shields.io/badge/arXiv-2401.10328-b31b1b.svg)](https://arxiv.org/abs/2401.10328)<mark>Appeared on: 2024-01-22</mark> -  _28 pages, 14 figures_\n",
       "\n",
       "</div>\n",
       "<div id=\"authors\">\n",
       "\n",
       "D. {. D. c}{í}kov{á}, et al.\n",
       "\n",
       "</div>\n",
       "<div id=\"abstract\">\n",
       "\n",
       "**Abstract:** The spectra of high-redshift ( $z\\gtrsim 6$ ) quasars contain valuable information on the progression of the Epoch of Reionization (EoR). At redshifts $z<6$ , the observed Lyman-series forest shows that the intergalactic medium (IGM) is nearly ionized, while at $z>7$ the observed quasar damping wings indicate high neutral gas fractions. However, there remains a gap in neutral gas fraction constraints at $6\\lesssim z \\lesssim 7$ where the Lyman series forest becomes saturated but damping wings have yet to fully emerge.In this work, we use a sample of 18 quasar spectra at redshifts $6.0<z<7.1$ to close this gap. We apply neural networks to reconstruct the quasars' continuum emission around the partially absorbed Lyman $\\alpha$ line to normalize their spectra, and stack these continuum-normalized spectra in three redshift bins. To increase the robustness of our results, we compare the stacks to a grid of models from two hydrodynamical simulations, ATON and CROC, and we measure the volume-averaged neutral gas fraction, $\\vxhi$ , while jointly fitting for the mean quasar lifetime, $t_{\\rm Q}$ , for each stacked spectrum. We chronicle the evolution of neutral gas fraction using the ATON (CROC) models as follows: $\\vxhi = 0.21_{-0.07}^{+0.17}$ ( $\\vxhi = 0.10_{<10^{-4}}^{+0.73}$ ) at $\\zbar =6.10$ , $\\vxhi = 0.21_{-0.07}^{+0.33}$ ( $\\vxhi =0.57_{-0.47}^{+0.26}$ ) at $\\zbar =6.46$ , and $\\vxhi = 0.37_{-0.17}^{+0.17}$ ( $\\vxhi =0.57_{-0.21}^{+0.26}$ ) at $\\zbar =6.87$ . At the same time we constrain the average quasar lifetime to be $t_{\\rm Q} \\lesssim 7 {\\rm Myr}$ across all redshift bins, in good agreement with previous studies.\n",
       "\n",
       "</div>\n",
       "\n",
       "<div id=\"div_fig1\">\n",
       "\n",
       "<img src=\"tmp_2401.10328/./2dlikelihood__600_10000_final_P-GADGET-3_composite.png\" alt=\"Fig10.1\" width=\"50%\"/><img src=\"tmp_2401.10328/./2dlikelihood__600_10000_final_CROC_composite.png\" alt=\"Fig10.2\" width=\"50%\"/>\n",
       "\n",
       "**Figure 10. -** Maximum likelihood estimation with ATON models (top two rows) and CROC models (bottom two rows) for all three redshift bins. In the top panel, we show the 2D joint probability distribution evaluated for each combination of $\\logtq$ and $\\vxhi$, as well as the $1\\sigma$ and $2\\sigma$ contours as white dashed and dotted curves, respectively. Note that the parameter space where we do not have ATON models is hatched. In the bottom panel, we plot stacked spectrum for each bin along with the model corresponding to the maximum likelihood point on the 2D grid in the top panel (marked by a star). (*fig:fits*)\n",
       "\n",
       "</div>\n",
       "<div id=\"div_fig2\">\n",
       "\n",
       "<img src=\"tmp_2401.10328/./6.87_600_10000_final_noisemodel_0.36_xT_1e6yr.png\" alt=\"Fig8\" width=\"100%\"/>\n",
       "\n",
       "**Figure 8. -** Illustration of the forward modeling of uncertainties and model construction for both simulations (ATON in the top panel, CROC in the bottom panel). For a particular quasar and a combination of $\\vxhi$ and $\\logtq$ values, we draw one sightline at random from the corresponding simulation (first column from the left). We forward model the uncertainties by adding the smooth continuum prediction noise (second column), random measurement noise (third column), and finally the corresponding redshift error along the x-axis (fourth column; $\\sigma_z = 0.01$ for illustration purposes). We repeat this sightline processing for all quasars within a given redshift bin ($N_{\\rm QSO}$), and then stack $N_{\\rm QSO}$ processed sightlines to form a sample stack (rightmost column). The whole procedure is repeated $10000$ times for the same combination of $\\vxhi$ and $\\logtq$ in order to calculate the final model and noise statistics that are used for inference. (*fig:noise*)\n",
       "\n",
       "</div>\n",
       "<div id=\"div_fig3\">\n",
       "\n",
       "<img src=\"tmp_2401.10328/./z-stacks_paper_main.png\" alt=\"Fig2\" width=\"100%\"/>\n",
       "\n",
       "**Figure 2. -** Stacked spectra of quasars in our sample in three distinct redshift bins show the emergence of damping wings between $z\\sim 6$ and $z\\sim 7$(thick colored curves, the location of $\\lya$ is marked by the dashed black line). The number of quasars within a given redshift bin is noted in brackets, and the shaded region around the stacked spectra shows the variance in the mean flux. The thin colored lines show a higher-resolution ($\\Delta v = 100 {\\rm km/s}$) version of the three stacked spectra. (*fig:zstacks*)\n",
       "\n",
       "</div><div id=\"qrcode\"><img src=https://api.qrserver.com/v1/create-qr-code/?size=100x100&data=\"https://arxiv.org/abs/2401.10328\"></div>"
      ],
      "text/plain": [
       "<IPython.core.display.Markdown object>"
      ]
     },
     "metadata": {},
     "output_type": "display_data"
    }
   ],
   "source": [
    "[display(Markdown(k[1])) for k in documents];"
   ]
  },
  {
   "cell_type": "markdown",
   "id": "873873a4",
   "metadata": {
    "papermill": {
     "duration": 0.004088,
     "end_time": "2024-01-22T04:10:38.436655",
     "exception": false,
     "start_time": "2024-01-22T04:10:38.432567",
     "status": "completed"
    },
    "tags": []
   },
   "source": [
    "# Create HTML index"
   ]
  },
  {
   "cell_type": "code",
   "execution_count": 9,
   "id": "cf665672",
   "metadata": {
    "execution": {
     "iopub.execute_input": "2024-01-22T04:10:38.445958Z",
     "iopub.status.busy": "2024-01-22T04:10:38.445539Z",
     "iopub.status.idle": "2024-01-22T04:10:38.455088Z",
     "shell.execute_reply": "2024-01-22T04:10:38.454433Z"
    },
    "papermill": {
     "duration": 0.015647,
     "end_time": "2024-01-22T04:10:38.456426",
     "exception": false,
     "start_time": "2024-01-22T04:10:38.440779",
     "status": "completed"
    },
    "tags": []
   },
   "outputs": [
    {
     "name": "stdout",
     "output_type": "stream",
     "text": [
      "356  publications files modified in the last 7 days.\n"
     ]
    }
   ],
   "source": [
    "from datetime import datetime, timedelta, timezone\n",
    "from glob import glob\n",
    "import os\n",
    "\n",
    "files = glob('_build/html/*.md')\n",
    "days = 7\n",
    "now = datetime.today()\n",
    "res = []\n",
    "for fk in files:\n",
    "    stat_result = os.stat(fk).st_ctime\n",
    "    modified = datetime.fromtimestamp(stat_result, tz=timezone.utc).replace(tzinfo=None)\n",
    "    delta = now.today() - modified\n",
    "    if delta <= timedelta(days=days):\n",
    "        res.append((delta.seconds, fk))\n",
    "res = [k[1] for k in reversed(sorted(res, key=lambda x:x[1]))]\n",
    "npub = len(res)\n",
    "print(len(res), f\" publications files modified in the last {days:d} days.\")\n",
    "# [ print('\\t', k) for k in res ];"
   ]
  },
  {
   "cell_type": "code",
   "execution_count": 10,
   "id": "015de740",
   "metadata": {
    "execution": {
     "iopub.execute_input": "2024-01-22T04:10:38.465765Z",
     "iopub.status.busy": "2024-01-22T04:10:38.465397Z",
     "iopub.status.idle": "2024-01-22T04:10:38.485726Z",
     "shell.execute_reply": "2024-01-22T04:10:38.485213Z"
    },
    "papermill": {
     "duration": 0.026422,
     "end_time": "2024-01-22T04:10:38.487014",
     "exception": false,
     "start_time": "2024-01-22T04:10:38.460592",
     "status": "completed"
    },
    "tags": []
   },
   "outputs": [
    {
     "name": "stdout",
     "output_type": "stream",
     "text": [
      "2  publications in the last 7 days.\n"
     ]
    }
   ],
   "source": [
    "import datetime\n",
    "from glob import glob\n",
    "\n",
    "def get_last_n_days(lst, days=1):\n",
    "    \"\"\" Get the documents from the last n days \"\"\"\n",
    "    sorted_lst = sorted(lst, key=lambda x: x[1], reverse=True)\n",
    "    for fname, date in sorted_lst:\n",
    "        if date >= str(datetime.date.today() - datetime.timedelta(days=days)):\n",
    "            yield fname\n",
    "\n",
    "def extract_appearance_dates(lst_file):\n",
    "    dates = []\n",
    "\n",
    "    def get_date(line):\n",
    "        return line\\\n",
    "            .split('Appeared on:')[-1]\\\n",
    "            .split('</mark>')[0].strip()\n",
    "\n",
    "    for fname in lst:\n",
    "        with open(fname, 'r') as f:\n",
    "            found_date = False\n",
    "            for line in f:\n",
    "                if not found_date:\n",
    "                    if \"Appeared on\" in line:\n",
    "                        found_date = True\n",
    "                        dates.append((fname, get_date(line)))\n",
    "                else:\n",
    "                    break\n",
    "    return dates\n",
    "\n",
    "from glob import glob\n",
    "lst = glob('_build/html/*md')\n",
    "days = 7\n",
    "dates = extract_appearance_dates(lst)\n",
    "res = list(get_last_n_days(dates, days))\n",
    "npub = len(res)\n",
    "print(len(res), f\" publications in the last {days:d} days.\")"
   ]
  },
  {
   "cell_type": "code",
   "execution_count": 11,
   "id": "52ca0208",
   "metadata": {
    "execution": {
     "iopub.execute_input": "2024-01-22T04:10:38.496454Z",
     "iopub.status.busy": "2024-01-22T04:10:38.496080Z",
     "iopub.status.idle": "2024-01-22T04:10:38.500826Z",
     "shell.execute_reply": "2024-01-22T04:10:38.500257Z"
    },
    "papermill": {
     "duration": 0.010778,
     "end_time": "2024-01-22T04:10:38.502087",
     "exception": false,
     "start_time": "2024-01-22T04:10:38.491309",
     "status": "completed"
    },
    "scrolled": false,
    "tags": []
   },
   "outputs": [],
   "source": [
    "def create_carousel(npub=4):\n",
    "    \"\"\" Generate the HTML code for a carousel with `npub` slides \"\"\"\n",
    "    carousel = [\"\"\"  <div class=\"carousel\" \"\"\",\n",
    "                \"\"\"       data-flickity='{ \"autoPlay\": 10000, \"adaptiveHeight\": true, \"resize\": true, \"wrapAround\": true, \"pauseAutoPlayOnHover\": true, \"groupCells\": 1 }' id=\"asyncTypeset\">\"\"\"\n",
    "                ]\n",
    "    \n",
    "    item_str = \"\"\"    <div class=\"carousel-cell\"> <div id=\"slide{k}\" class=\"md_view\">Content {k}</div> </div>\"\"\"\n",
    "    for k in range(1, npub + 1):\n",
    "        carousel.append(item_str.format(k=k))\n",
    "    carousel.append(\"  </div>\")\n",
    "    return '\\n'.join(carousel)\n",
    "\n",
    "def create_grid(npub=4):\n",
    "    \"\"\" Generate the HTML code for a flat grid with `npub` slides \"\"\"\n",
    "    grid = [\"\"\"  <div class=\"grid\"> \"\"\",\n",
    "                ]\n",
    "    \n",
    "    item_str = \"\"\"    <div class=\"grid-item\"> <div id=\"slide{k}\" class=\"md_view\">Content {k}</div> </div>\"\"\"\n",
    "    for k in range(1, npub + 1):\n",
    "        grid.append(item_str.format(k=k))\n",
    "    grid.append(\"  </div>\")\n",
    "    return '\\n'.join(grid)"
   ]
  },
  {
   "cell_type": "code",
   "execution_count": 12,
   "id": "a6eac5b6",
   "metadata": {
    "execution": {
     "iopub.execute_input": "2024-01-22T04:10:38.511737Z",
     "iopub.status.busy": "2024-01-22T04:10:38.511347Z",
     "iopub.status.idle": "2024-01-22T04:10:38.516119Z",
     "shell.execute_reply": "2024-01-22T04:10:38.515625Z"
    },
    "papermill": {
     "duration": 0.011019,
     "end_time": "2024-01-22T04:10:38.517391",
     "exception": false,
     "start_time": "2024-01-22T04:10:38.506372",
     "status": "completed"
    },
    "scrolled": false,
    "tags": []
   },
   "outputs": [],
   "source": [
    "carousel = create_carousel(npub)\n",
    "docs = ', '.join(['\"{0:s}\"'.format(k.split('/')[-1]) for k in res])\n",
    "slides = ', '.join([f'\"slide{k}\"' for k in range(1, npub + 1)])\n",
    "\n",
    "with open(\"daily_template.html\", \"r\") as tpl:\n",
    "    page = tpl.read()\n",
    "    page = page.replace(\"{%-- carousel:s --%}\", carousel)\\\n",
    "               .replace(\"{%-- suptitle:s --%}\",  \"7-day archives\" )\\\n",
    "               .replace(\"{%-- docs:s --%}\", docs)\\\n",
    "               .replace(\"{%-- slides:s --%}\", slides)\n",
    "    \n",
    "with open(\"_build/html/index_7days.html\", 'w') as fout:\n",
    "    fout.write(page)"
   ]
  },
  {
   "cell_type": "code",
   "execution_count": 13,
   "id": "adc1a1ec",
   "metadata": {
    "execution": {
     "iopub.execute_input": "2024-01-22T04:10:38.527002Z",
     "iopub.status.busy": "2024-01-22T04:10:38.526638Z",
     "iopub.status.idle": "2024-01-22T04:10:38.533217Z",
     "shell.execute_reply": "2024-01-22T04:10:38.532587Z"
    },
    "papermill": {
     "duration": 0.012891,
     "end_time": "2024-01-22T04:10:38.534568",
     "exception": false,
     "start_time": "2024-01-22T04:10:38.521677",
     "status": "completed"
    },
    "tags": []
   },
   "outputs": [
    {
     "name": "stdout",
     "output_type": "stream",
     "text": [
      "1  publications in the last day.\n"
     ]
    }
   ],
   "source": [
    "# redo for today\n",
    "days = 1\n",
    "res = list(get_last_n_days(dates, days))\n",
    "npub = len(res)\n",
    "print(len(res), f\" publications in the last day.\")\n",
    "\n",
    "carousel = create_carousel(npub)\n",
    "docs = ', '.join(['\"{0:s}\"'.format(k.split('/')[-1]) for k in res])\n",
    "slides = ', '.join([f'\"slide{k}\"' for k in range(1, npub + 1)])\n",
    "\n",
    "with open(\"daily_template.html\", \"r\") as tpl:\n",
    "    page = tpl.read()\n",
    "    page = page.replace(\"{%-- carousel:s --%}\", carousel)\\\n",
    "               .replace(\"{%-- suptitle:s --%}\",  \"Daily\" )\\\n",
    "               .replace(\"{%-- docs:s --%}\", docs)\\\n",
    "               .replace(\"{%-- slides:s --%}\", slides)\n",
    "    \n",
    "# print(carousel, docs, slides)\n",
    "# print(page)\n",
    "with open(\"_build/html/index_daily.html\", 'w') as fout:\n",
    "    fout.write(page)"
   ]
  },
  {
   "cell_type": "code",
   "execution_count": 14,
   "id": "00eece82",
   "metadata": {
    "execution": {
     "iopub.execute_input": "2024-01-22T04:10:38.544281Z",
     "iopub.status.busy": "2024-01-22T04:10:38.543946Z",
     "iopub.status.idle": "2024-01-22T04:10:38.550044Z",
     "shell.execute_reply": "2024-01-22T04:10:38.549436Z"
    },
    "papermill": {
     "duration": 0.012433,
     "end_time": "2024-01-22T04:10:38.551355",
     "exception": false,
     "start_time": "2024-01-22T04:10:38.538922",
     "status": "completed"
    },
    "scrolled": false,
    "tags": []
   },
   "outputs": [
    {
     "name": "stdout",
     "output_type": "stream",
     "text": [
      "6  6 publications selected.\n"
     ]
    }
   ],
   "source": [
    "# Create the flat grid of the last N papers (fixed number regardless of dates)\n",
    "from itertools import islice \n",
    "\n",
    "npub = 6\n",
    "res = [k[0] for k in (islice(reversed(sorted(dates, key=lambda x: x[1])), 6))]\n",
    "print(len(res), f\" {npub} publications selected.\")\n",
    "\n",
    "grid = create_grid(npub)\n",
    "docs = ', '.join(['\"{0:s}\"'.format(k.split('/')[-1]) for k in res])\n",
    "slides = ', '.join([f'\"slide{k}\"' for k in range(1, npub + 1)])\n",
    "\n",
    "with open(\"grid_template.html\", \"r\") as tpl:\n",
    "    page = tpl.read()\n",
    "    page = page.replace(\"{%-- grid-content:s --%}\", grid)\\\n",
    "               .replace(\"{%-- suptitle:s --%}\",  f\"Last {npub:,d} papers\" )\\\n",
    "               .replace(\"{%-- docs:s --%}\", docs)\\\n",
    "               .replace(\"{%-- slides:s --%}\", slides)\n",
    "    \n",
    "# print(grid, docs, slides)\n",
    "# print(page)\n",
    "with open(\"_build/html/index_npub_grid.html\", 'w') as fout:\n",
    "    fout.write(page)"
   ]
  }
 ],
 "metadata": {
  "kernelspec": {
   "display_name": "Python 3 (ipykernel)",
   "language": "python",
   "name": "python3"
  },
  "language_info": {
   "codemirror_mode": {
    "name": "ipython",
    "version": 3
   },
   "file_extension": ".py",
   "mimetype": "text/x-python",
   "name": "python",
   "nbconvert_exporter": "python",
   "pygments_lexer": "ipython3",
   "version": "3.9.18"
  },
  "papermill": {
   "default_parameters": {},
   "duration": 55.787861,
   "end_time": "2024-01-22T04:10:38.771613",
   "environment_variables": {},
   "exception": null,
   "input_path": "MPIA daily digest.ipynb",
   "output_path": "log.ipynb",
   "parameters": {},
   "start_time": "2024-01-22T04:09:42.983752",
   "version": "2.5.0"
  },
  "vscode": {
   "interpreter": {
    "hash": "aee8b7b246df8f9039afb4144a1f6fd8d2ca17a180786b69acc140d282b71a49"
   }
  },
  "widgets": {
   "application/vnd.jupyter.widget-state+json": {
    "state": {
     "2f2ab79dbf48462698b6c7e1167ba50e": {
      "model_module": "@jupyter-widgets/controls",
      "model_module_version": "2.0.0",
      "model_name": "FloatProgressModel",
      "state": {
       "_dom_classes": [],
       "_model_module": "@jupyter-widgets/controls",
       "_model_module_version": "2.0.0",
       "_model_name": "FloatProgressModel",
       "_view_count": null,
       "_view_module": "@jupyter-widgets/controls",
       "_view_module_version": "2.0.0",
       "_view_name": "ProgressView",
       "bar_style": "success",
       "description": "",
       "description_allow_html": false,
       "layout": "IPY_MODEL_bce0b84b61a3465ea45eb5e0b9a39a77",
       "max": 2.0,
       "min": 0.0,
       "orientation": "horizontal",
       "style": "IPY_MODEL_5ee981c18b8e466da4fc0adadec88f6d",
       "tabbable": null,
       "tooltip": null,
       "value": 2.0
      }
     },
     "33d225e76c6e4bfa975b01b9e26809e0": {
      "model_module": "@jupyter-widgets/base",
      "model_module_version": "2.0.0",
      "model_name": "LayoutModel",
      "state": {
       "_model_module": "@jupyter-widgets/base",
       "_model_module_version": "2.0.0",
       "_model_name": "LayoutModel",
       "_view_count": null,
       "_view_module": "@jupyter-widgets/base",
       "_view_module_version": "2.0.0",
       "_view_name": "LayoutView",
       "align_content": null,
       "align_items": null,
       "align_self": null,
       "border_bottom": null,
       "border_left": null,
       "border_right": null,
       "border_top": null,
       "bottom": null,
       "display": null,
       "flex": null,
       "flex_flow": null,
       "grid_area": null,
       "grid_auto_columns": null,
       "grid_auto_flow": null,
       "grid_auto_rows": null,
       "grid_column": null,
       "grid_gap": null,
       "grid_row": null,
       "grid_template_areas": null,
       "grid_template_columns": null,
       "grid_template_rows": null,
       "height": null,
       "justify_content": null,
       "justify_items": null,
       "left": null,
       "margin": null,
       "max_height": null,
       "max_width": null,
       "min_height": null,
       "min_width": null,
       "object_fit": null,
       "object_position": null,
       "order": null,
       "overflow": null,
       "padding": null,
       "right": null,
       "top": null,
       "visibility": null,
       "width": null
      }
     },
     "3d3bc2735c75464e8ace8850230c7ddf": {
      "model_module": "@jupyter-widgets/base",
      "model_module_version": "2.0.0",
      "model_name": "LayoutModel",
      "state": {
       "_model_module": "@jupyter-widgets/base",
       "_model_module_version": "2.0.0",
       "_model_name": "LayoutModel",
       "_view_count": null,
       "_view_module": "@jupyter-widgets/base",
       "_view_module_version": "2.0.0",
       "_view_name": "LayoutView",
       "align_content": null,
       "align_items": null,
       "align_self": null,
       "border_bottom": null,
       "border_left": null,
       "border_right": null,
       "border_top": null,
       "bottom": null,
       "display": null,
       "flex": null,
       "flex_flow": null,
       "grid_area": null,
       "grid_auto_columns": null,
       "grid_auto_flow": null,
       "grid_auto_rows": null,
       "grid_column": null,
       "grid_gap": null,
       "grid_row": null,
       "grid_template_areas": null,
       "grid_template_columns": null,
       "grid_template_rows": null,
       "height": null,
       "justify_content": null,
       "justify_items": null,
       "left": null,
       "margin": null,
       "max_height": null,
       "max_width": null,
       "min_height": null,
       "min_width": null,
       "object_fit": null,
       "object_position": null,
       "order": null,
       "overflow": null,
       "padding": null,
       "right": null,
       "top": null,
       "visibility": null,
       "width": null
      }
     },
     "4e9d79fc37d44d4ea99427efbf0491aa": {
      "model_module": "@jupyter-widgets/controls",
      "model_module_version": "2.0.0",
      "model_name": "HTMLStyleModel",
      "state": {
       "_model_module": "@jupyter-widgets/controls",
       "_model_module_version": "2.0.0",
       "_model_name": "HTMLStyleModel",
       "_view_count": null,
       "_view_module": "@jupyter-widgets/base",
       "_view_module_version": "2.0.0",
       "_view_name": "StyleView",
       "background": null,
       "description_width": "",
       "font_size": null,
       "text_color": null
      }
     },
     "5ee981c18b8e466da4fc0adadec88f6d": {
      "model_module": "@jupyter-widgets/controls",
      "model_module_version": "2.0.0",
      "model_name": "ProgressStyleModel",
      "state": {
       "_model_module": "@jupyter-widgets/controls",
       "_model_module_version": "2.0.0",
       "_model_name": "ProgressStyleModel",
       "_view_count": null,
       "_view_module": "@jupyter-widgets/base",
       "_view_module_version": "2.0.0",
       "_view_name": "StyleView",
       "bar_color": null,
       "description_width": ""
      }
     },
     "6b5c9081f0fe438faf8965f2dfe672c3": {
      "model_module": "@jupyter-widgets/controls",
      "model_module_version": "2.0.0",
      "model_name": "HTMLStyleModel",
      "state": {
       "_model_module": "@jupyter-widgets/controls",
       "_model_module_version": "2.0.0",
       "_model_name": "HTMLStyleModel",
       "_view_count": null,
       "_view_module": "@jupyter-widgets/base",
       "_view_module_version": "2.0.0",
       "_view_name": "StyleView",
       "background": null,
       "description_width": "",
       "font_size": null,
       "text_color": null
      }
     },
     "ba6c5a5191a8437bb4d15e24d814b88b": {
      "model_module": "@jupyter-widgets/base",
      "model_module_version": "2.0.0",
      "model_name": "LayoutModel",
      "state": {
       "_model_module": "@jupyter-widgets/base",
       "_model_module_version": "2.0.0",
       "_model_name": "LayoutModel",
       "_view_count": null,
       "_view_module": "@jupyter-widgets/base",
       "_view_module_version": "2.0.0",
       "_view_name": "LayoutView",
       "align_content": null,
       "align_items": null,
       "align_self": null,
       "border_bottom": null,
       "border_left": null,
       "border_right": null,
       "border_top": null,
       "bottom": null,
       "display": null,
       "flex": null,
       "flex_flow": null,
       "grid_area": null,
       "grid_auto_columns": null,
       "grid_auto_flow": null,
       "grid_auto_rows": null,
       "grid_column": null,
       "grid_gap": null,
       "grid_row": null,
       "grid_template_areas": null,
       "grid_template_columns": null,
       "grid_template_rows": null,
       "height": null,
       "justify_content": null,
       "justify_items": null,
       "left": null,
       "margin": null,
       "max_height": null,
       "max_width": null,
       "min_height": null,
       "min_width": null,
       "object_fit": null,
       "object_position": null,
       "order": null,
       "overflow": null,
       "padding": null,
       "right": null,
       "top": null,
       "visibility": null,
       "width": null
      }
     },
     "bce0b84b61a3465ea45eb5e0b9a39a77": {
      "model_module": "@jupyter-widgets/base",
      "model_module_version": "2.0.0",
      "model_name": "LayoutModel",
      "state": {
       "_model_module": "@jupyter-widgets/base",
       "_model_module_version": "2.0.0",
       "_model_name": "LayoutModel",
       "_view_count": null,
       "_view_module": "@jupyter-widgets/base",
       "_view_module_version": "2.0.0",
       "_view_name": "LayoutView",
       "align_content": null,
       "align_items": null,
       "align_self": null,
       "border_bottom": null,
       "border_left": null,
       "border_right": null,
       "border_top": null,
       "bottom": null,
       "display": null,
       "flex": null,
       "flex_flow": null,
       "grid_area": null,
       "grid_auto_columns": null,
       "grid_auto_flow": null,
       "grid_auto_rows": null,
       "grid_column": null,
       "grid_gap": null,
       "grid_row": null,
       "grid_template_areas": null,
       "grid_template_columns": null,
       "grid_template_rows": null,
       "height": null,
       "justify_content": null,
       "justify_items": null,
       "left": null,
       "margin": null,
       "max_height": null,
       "max_width": null,
       "min_height": null,
       "min_width": null,
       "object_fit": null,
       "object_position": null,
       "order": null,
       "overflow": null,
       "padding": null,
       "right": null,
       "top": null,
       "visibility": null,
       "width": null
      }
     },
     "bdb97584ebf74810bf21d37585293f26": {
      "model_module": "@jupyter-widgets/controls",
      "model_module_version": "2.0.0",
      "model_name": "HTMLModel",
      "state": {
       "_dom_classes": [],
       "_model_module": "@jupyter-widgets/controls",
       "_model_module_version": "2.0.0",
       "_model_name": "HTMLModel",
       "_view_count": null,
       "_view_module": "@jupyter-widgets/controls",
       "_view_module_version": "2.0.0",
       "_view_name": "HTMLView",
       "description": "",
       "description_allow_html": false,
       "layout": "IPY_MODEL_33d225e76c6e4bfa975b01b9e26809e0",
       "placeholder": "​",
       "style": "IPY_MODEL_4e9d79fc37d44d4ea99427efbf0491aa",
       "tabbable": null,
       "tooltip": null,
       "value": "100%"
      }
     },
     "e66fed7e89a14a4dab0615af42fc55fd": {
      "model_module": "@jupyter-widgets/controls",
      "model_module_version": "2.0.0",
      "model_name": "HBoxModel",
      "state": {
       "_dom_classes": [],
       "_model_module": "@jupyter-widgets/controls",
       "_model_module_version": "2.0.0",
       "_model_name": "HBoxModel",
       "_view_count": null,
       "_view_module": "@jupyter-widgets/controls",
       "_view_module_version": "2.0.0",
       "_view_name": "HBoxView",
       "box_style": "",
       "children": [
        "IPY_MODEL_bdb97584ebf74810bf21d37585293f26",
        "IPY_MODEL_2f2ab79dbf48462698b6c7e1167ba50e",
        "IPY_MODEL_f15365f921bf4431b66457b2af717ef5"
       ],
       "layout": "IPY_MODEL_ba6c5a5191a8437bb4d15e24d814b88b",
       "tabbable": null,
       "tooltip": null
      }
     },
     "f15365f921bf4431b66457b2af717ef5": {
      "model_module": "@jupyter-widgets/controls",
      "model_module_version": "2.0.0",
      "model_name": "HTMLModel",
      "state": {
       "_dom_classes": [],
       "_model_module": "@jupyter-widgets/controls",
       "_model_module_version": "2.0.0",
       "_model_name": "HTMLModel",
       "_view_count": null,
       "_view_module": "@jupyter-widgets/controls",
       "_view_module_version": "2.0.0",
       "_view_name": "HTMLView",
       "description": "",
       "description_allow_html": false,
       "layout": "IPY_MODEL_3d3bc2735c75464e8ace8850230c7ddf",
       "placeholder": "​",
       "style": "IPY_MODEL_6b5c9081f0fe438faf8965f2dfe672c3",
       "tabbable": null,
       "tooltip": null,
       "value": " 2/2 [00:32&lt;00:00, 13.95s/it]"
      }
     }
    },
    "version_major": 2,
    "version_minor": 0
   }
  }
 },
 "nbformat": 4,
 "nbformat_minor": 5
}