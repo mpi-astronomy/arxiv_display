{
 "cells": [
  {
   "cell_type": "markdown",
   "id": "92bcb855",
   "metadata": {
    "papermill": {
     "duration": 0.004385,
     "end_time": "2023-04-11T04:04:30.395432",
     "exception": false,
     "start_time": "2023-04-11T04:04:30.391047",
     "status": "completed"
    },
    "tags": []
   },
   "source": [
    "# MPIA Arxiv on Deck 2\n",
    "\n",
    "Contains the steps to produce the paper extractions."
   ]
  },
  {
   "cell_type": "code",
   "execution_count": 1,
   "id": "3a0d6e11",
   "metadata": {
    "execution": {
     "iopub.execute_input": "2023-04-11T04:04:30.404293Z",
     "iopub.status.busy": "2023-04-11T04:04:30.403654Z",
     "iopub.status.idle": "2023-04-11T04:04:30.637327Z",
     "shell.execute_reply": "2023-04-11T04:04:30.636652Z"
    },
    "papermill": {
     "duration": 0.240613,
     "end_time": "2023-04-11T04:04:30.639741",
     "exception": false,
     "start_time": "2023-04-11T04:04:30.399128",
     "status": "completed"
    },
    "tags": []
   },
   "outputs": [],
   "source": [
    "# Imports\n",
    "import os\n",
    "from IPython.display import Markdown, display\n",
    "from tqdm.notebook import tqdm\n",
    "import warnings\n",
    "from PIL import Image \n",
    "\n",
    "# requires arxiv_on_deck_2\n",
    "\n",
    "from arxiv_on_deck_2.arxiv2 import (get_new_papers, \n",
    "                                    get_paper_from_identifier,\n",
    "                                    retrieve_document_source, \n",
    "                                    get_markdown_badge)\n",
    "from arxiv_on_deck_2 import (latex,\n",
    "                             latex_bib,\n",
    "                             mpia,\n",
    "                             highlight_authors_in_list)\n",
    "\n",
    "# Sometimes images are really big\n",
    "Image.MAX_IMAGE_PIXELS = 1000000000 "
   ]
  },
  {
   "cell_type": "code",
   "execution_count": 2,
   "id": "22aa9d44",
   "metadata": {
    "execution": {
     "iopub.execute_input": "2023-04-11T04:04:30.650067Z",
     "iopub.status.busy": "2023-04-11T04:04:30.649593Z",
     "iopub.status.idle": "2023-04-11T04:04:30.655815Z",
     "shell.execute_reply": "2023-04-11T04:04:30.655020Z"
    },
    "papermill": {
     "duration": 0.012764,
     "end_time": "2023-04-11T04:04:30.657621",
     "exception": false,
     "start_time": "2023-04-11T04:04:30.644857",
     "status": "completed"
    },
    "tags": []
   },
   "outputs": [],
   "source": [
    "# Some useful definitions.\n",
    "\n",
    "class AffiliationWarning(UserWarning):\n",
    "    pass\n",
    "\n",
    "class AffiliationError(RuntimeError):\n",
    "    pass\n",
    "\n",
    "def validation(source: str):\n",
    "    \"\"\"Raises error paper during parsing of source file\n",
    "    \n",
    "    Allows checks before parsing TeX code.\n",
    "    \n",
    "    Raises AffiliationWarning\n",
    "    \"\"\"\n",
    "    check = mpia.affiliation_verifications(source, verbose=True)\n",
    "    if check is not True:\n",
    "        raise AffiliationError(\"mpia.affiliation_verifications: \" + check)\n",
    "\n",
    "        \n",
    "warnings.simplefilter('always', AffiliationWarning)\n",
    "\n",
    "\n",
    "def get_markdown_qrcode(paper_id: str):\n",
    "    \"\"\" Generate a qrcode to the arxiv page using qrserver.com\n",
    "    \n",
    "    :param paper: Arxiv paper\n",
    "    :returns: markdown text\n",
    "    \"\"\"\n",
    "    url = r\"https://api.qrserver.com/v1/create-qr-code/?size=100x100&data=\"\n",
    "    txt = f\"\"\"<img src={url}\"https://arxiv.org/abs/{paper_id}\">\"\"\"\n",
    "    txt = '<div id=\"qrcode\">' + txt + '</div>'\n",
    "    return txt"
   ]
  },
  {
   "cell_type": "markdown",
   "id": "14bd6310",
   "metadata": {
    "papermill": {
     "duration": 0.003408,
     "end_time": "2023-04-11T04:04:30.664566",
     "exception": false,
     "start_time": "2023-04-11T04:04:30.661158",
     "status": "completed"
    },
    "tags": []
   },
   "source": [
    "## get list of arxiv paper candidates\n",
    "\n",
    "We use the MPIA mitarbeiter list webpage from mpia.de to get author names\n",
    "We then get all new papers from Arxiv and match authors"
   ]
  },
  {
   "cell_type": "code",
   "execution_count": 3,
   "id": "2645e73a",
   "metadata": {
    "execution": {
     "iopub.execute_input": "2023-04-11T04:04:30.672958Z",
     "iopub.status.busy": "2023-04-11T04:04:30.672614Z",
     "iopub.status.idle": "2023-04-11T04:04:56.369434Z",
     "shell.execute_reply": "2023-04-11T04:04:56.368856Z"
    },
    "papermill": {
     "duration": 25.703061,
     "end_time": "2023-04-11T04:04:56.371078",
     "exception": false,
     "start_time": "2023-04-11T04:04:30.668017",
     "status": "completed"
    },
    "tags": []
   },
   "outputs": [
    {
     "name": "stdout",
     "output_type": "stream",
     "text": [
      "Arxiv has 53 new papers today\n",
      "          4 with possible author matches\n"
     ]
    }
   ],
   "source": [
    "# get list from MPIA website\n",
    "# it automatically filters identified non-scientists :func:`mpia.filter_non_scientists`\n",
    "mpia_authors = mpia.get_mpia_mitarbeiter_list()\n",
    "normed_mpia_authors = [k[1] for k in mpia_authors]   # initials + fullname\n",
    "new_papers = get_new_papers()\n",
    "# add manual references\n",
    "add_paper_refs = []\n",
    "new_papers.extend([get_paper_from_identifier(k) for k in add_paper_refs])\n",
    "\n",
    "candidates = []\n",
    "for paperk in new_papers:\n",
    "    # Check author list with their initials\n",
    "    normed_author_list = [mpia.get_initials(k) for k in paperk['authors']]\n",
    "    hl_authors = highlight_authors_in_list(normed_author_list, normed_mpia_authors, verbose=True)\n",
    "    matches = [(hl, orig) for hl, orig in zip(hl_authors, paperk['authors']) if 'mark' in hl]\n",
    "    paperk['authors'] = hl_authors\n",
    "    if matches:\n",
    "        # only select paper if an author matched our list\n",
    "        candidates.append(paperk)\n",
    "print(\"\"\"Arxiv has {0:,d} new papers today\"\"\".format(len(new_papers)))        \n",
    "print(\"\"\"          {0:,d} with possible author matches\"\"\".format(len(candidates)))"
   ]
  },
  {
   "cell_type": "markdown",
   "id": "3543b34a",
   "metadata": {
    "papermill": {
     "duration": 0.003542,
     "end_time": "2023-04-11T04:04:56.378361",
     "exception": false,
     "start_time": "2023-04-11T04:04:56.374819",
     "status": "completed"
    },
    "tags": []
   },
   "source": [
    "# Parse sources and generate relevant outputs\n",
    "\n",
    "From the candidates, we do the following steps:\n",
    "* get their tarball from ArXiv (and extract data)\n",
    "* find the main .tex file: find one with \\documentclass{...} (sometimes it's non trivial)\n",
    "* Check affiliations with :func:`validation`, which uses :func:`mpia.affiliation_verifications`\n",
    "* If passing the affiliations: we parse the .tex source\n",
    "   * inject sub-documents into the main (flatten the main document)\n",
    "   * parse structure, extract information (title, abstract, authors, figures...)\n",
    "   * handles `\\graphicspath` if provided\n",
    "* Generate the .md document."
   ]
  },
  {
   "cell_type": "code",
   "execution_count": 4,
   "id": "9576b79e",
   "metadata": {
    "execution": {
     "iopub.execute_input": "2023-04-11T04:04:56.386677Z",
     "iopub.status.busy": "2023-04-11T04:04:56.386429Z",
     "iopub.status.idle": "2023-04-11T04:05:25.256763Z",
     "shell.execute_reply": "2023-04-11T04:05:25.256060Z"
    },
    "papermill": {
     "duration": 28.876584,
     "end_time": "2023-04-11T04:05:25.258373",
     "exception": false,
     "start_time": "2023-04-11T04:04:56.381789",
     "status": "completed"
    },
    "scrolled": false,
    "tags": []
   },
   "outputs": [
    {
     "data": {
      "application/vnd.jupyter.widget-view+json": {
       "model_id": "8e867bd5d2c149228a12190d0624663d",
       "version_major": 2,
       "version_minor": 0
      },
      "text/plain": [
       "  0%|          | 0/3 [00:00<?, ?it/s]"
      ]
     },
     "metadata": {},
     "output_type": "display_data"
    },
    {
     "name": "stdout",
     "output_type": "stream",
     "text": [
      "Retrieving document from  https://arxiv.org/e-print/2304.03871\n"
     ]
    },
    {
     "name": "stdout",
     "output_type": "stream",
     "text": [
      "extracting tarball to tmp_2304.03871..."
     ]
    },
    {
     "name": "stdout",
     "output_type": "stream",
     "text": [
      " done.\n"
     ]
    },
    {
     "name": "stderr",
     "output_type": "stream",
     "text": [
      "/tmp/ipykernel_2024/1863104449.py:49: LatexWarning: 2304.03871 did not run properly\n",
      "[Errno 2] No such file or directory: 'gs'\n",
      "  warnings.warn(latex.LatexWarning(f\"{paper_id:s} did not run properly\\n\" +\n"
     ]
    },
    {
     "name": "stdout",
     "output_type": "stream",
     "text": [
      "Retrieving document from  https://arxiv.org/e-print/2304.04154\n"
     ]
    },
    {
     "name": "stdout",
     "output_type": "stream",
     "text": [
      "extracting tarball to tmp_2304.04154..."
     ]
    },
    {
     "name": "stdout",
     "output_type": "stream",
     "text": [
      " done.\n",
      "Retrieving document from  https://arxiv.org/e-print/2304.04719\n"
     ]
    },
    {
     "name": "stdout",
     "output_type": "stream",
     "text": [
      "extracting tarball to tmp_2304.04719... done.\n"
     ]
    },
    {
     "name": "stdout",
     "output_type": "stream",
     "text": [
      "Found 73 bibliographic references in tmp_2304.04719/sample631.bbl.\n"
     ]
    }
   ],
   "source": [
    "documents = []\n",
    "failed = []\n",
    "for paper in tqdm(candidates[:-1]):\n",
    "    paper_id = paper['identifier'].lower().replace('arxiv:', '')\n",
    "    \n",
    "    folder = f'tmp_{paper_id}'\n",
    "\n",
    "    try:\n",
    "        if not os.path.isdir(folder):\n",
    "            folder = retrieve_document_source(f\"{paper_id}\", f'tmp_{paper_id}')\n",
    "        \n",
    "        try:\n",
    "            doc = latex.LatexDocument(folder, validation=validation)    \n",
    "        except AffiliationError as affilerror:\n",
    "            msg = f\"ArXiv:{paper_id:s} is not an MPIA paper... \" + str(affilerror)\n",
    "            failed.append((paper, \"affiliation error: \" + str(affilerror) ))\n",
    "            continue\n",
    "        \n",
    "        # Hack because sometimes author parsing does not work well\n",
    "        if (len(doc.authors) != len(paper['authors'])):\n",
    "            doc._authors = paper['authors']\n",
    "        else:\n",
    "            # highlight authors (FIXME: doc.highlight_authors)\n",
    "            # done on arxiv paper already\n",
    "            doc._authors = highlight_authors_in_list(\n",
    "                [mpia.get_initials(k) for k in doc.authors], \n",
    "                normed_mpia_authors, verbose=True)\n",
    "        if (doc.abstract) in (None, ''):\n",
    "            doc._abstract = paper['abstract']\n",
    "            \n",
    "        doc.comment = (get_markdown_badge(paper_id) + \n",
    "                       \"<mark>Appeared on: \" + paper['date'] + \"</mark> - \")\n",
    "        if paper['comments']:\n",
    "            doc.comment += \" _\" + paper['comments'] + \"_\"\n",
    "        \n",
    "        full_md = doc.generate_markdown_text()\n",
    "        \n",
    "        full_md += get_markdown_qrcode(paper_id)\n",
    "        \n",
    "        # replace citations\n",
    "        try:\n",
    "            bibdata = latex_bib.LatexBib.from_doc(doc)\n",
    "            full_md = latex_bib.replace_citations(full_md, bibdata)\n",
    "        except Exception as e:\n",
    "            print(e)\n",
    "        \n",
    "        documents.append((paper_id, full_md))\n",
    "    except Exception as e:\n",
    "        warnings.warn(latex.LatexWarning(f\"{paper_id:s} did not run properly\\n\" +\n",
    "                                         str(e)\n",
    "                                        ))\n",
    "        failed.append((paper, \"latex error \" + str(e)))"
   ]
  },
  {
   "cell_type": "markdown",
   "id": "2505a25c",
   "metadata": {
    "papermill": {
     "duration": 0.003989,
     "end_time": "2023-04-11T04:05:25.267856",
     "exception": false,
     "start_time": "2023-04-11T04:05:25.263867",
     "status": "completed"
    },
    "tags": []
   },
   "source": [
    "### Export the logs\n",
    "\n",
    "Throughout, we also keep track of the logs per paper. see `logs-{today date}.md` "
   ]
  },
  {
   "cell_type": "code",
   "execution_count": 5,
   "id": "d733828a",
   "metadata": {
    "execution": {
     "iopub.execute_input": "2023-04-11T04:05:25.277245Z",
     "iopub.status.busy": "2023-04-11T04:05:25.276785Z",
     "iopub.status.idle": "2023-04-11T04:05:25.294112Z",
     "shell.execute_reply": "2023-04-11T04:05:25.293512Z"
    },
    "papermill": {
     "duration": 0.024772,
     "end_time": "2023-04-11T04:05:25.296602",
     "exception": false,
     "start_time": "2023-04-11T04:05:25.271830",
     "status": "completed"
    },
    "scrolled": false,
    "tags": []
   },
   "outputs": [
    {
     "data": {
      "text/markdown": [
       "## Successful papers"
      ],
      "text/plain": [
       "<IPython.core.display.Markdown object>"
      ]
     },
     "metadata": {},
     "output_type": "display_data"
    },
    {
     "data": {
      "text/markdown": [
       "\n",
       "|||\n",
       "|---:|:---|\n",
       "| [![arXiv](https://img.shields.io/badge/arXiv-arXiv:2304.04719-b31b1b.svg)](https://arxiv.org/abs/arXiv:2304.04719) | **(SHERRY) JCMT-SCUBA2 High Redshift Bright Quasar Survey -- II: the  environment of z~6 quasars in sub-millimeter band**  |\n",
       "|| Q. Li, et al. -- incl., <mark>E. Bañados</mark> |\n",
       "|*Appeared on*| *2023-04-11*|\n",
       "|*Comments*| *12 pages, 8 figures and 2 tables, accepted for publication in ApJ*|\n",
       "|**Abstract**| The formation of the first supermassive black holes is expected to have occurred in some most pronounced matter and galaxy overdensities in the early universe. We have conducted a sub-mm wavelength continuum survey of 54 $z\\sim6$ quasars using the Submillimeter Common-User Bolometre Array-2 (SCUBA2) on the James Clerk Maxwell Telescope (JCMT) to study the environments around $z \\sim 6$ quasars. We identified 170 submillimeter galaxies (SMGs) with above 3.5$\\sigma$ detections at 450 or 850 \\um\\, maps. Their FIR luminosities are 2.2 - 6.4 $\\times$ 10$^{12} L_{\\odot}$, and star formation rates are $\\sim$ 400 - 1200 M$_{\\odot}$ yr$^{-1}$. We also calculated the SMGs differential and cumulative number counts in a combined area of $\\sim$ 620 arcmin$^2$. To a $4\\sigma$ detection (at $\\sim$ 5.5 mJy), SMGs overdensity is $0.68^{+0.21}_{-0.19}$($\\pm0.19$), exceeding the blank field source counts by a factor of 1.68. We find that 13/54 quasars show overdensities (at $\\sim$ 5.5 mJy) of $\\delta_{SMG}\\sim$ 1.5 - 5.4. The combined area of these 13 quasars exceeds the blank field counts with the overdensity to 5.5 mJy of \\dsmg $\\sim$ $2.46^{+0.64}_{-0.55}$($\\pm0.25$) in the regions of $\\sim$ 150 arcmin$^2$. However, the excess is insignificant on the bright end (e.g., 7.5 mJy). We also compare results with previous environmental studies of Lyman alpha emitters (LAEs) and Lyman-Break Galaxies (LBGs) on a similar scale. Our survey presents the first systematic study of the environment of quasars at $z\\sim6$. The newly discovered SMGs provide essential candidates for follow-up spectroscopic observations to test whether they reside in the same large-scale structures as the quasars and search for protoclusters at an early epoch. |"
      ],
      "text/plain": [
       "[arXiv:2304.04719] (SHERRY) JCMT-SCUBA2 High Redshift Bright Quasar Survey -- II: the  environment of z~6 quasars in sub-millimeter band\n",
       "\tQ. Li, et al. -- incl., <mark>E. Bañados</mark>"
      ]
     },
     "metadata": {},
     "output_type": "display_data"
    },
    {
     "data": {
      "text/markdown": [
       "## Failed papers"
      ],
      "text/plain": [
       "<IPython.core.display.Markdown object>"
      ]
     },
     "metadata": {},
     "output_type": "display_data"
    },
    {
     "data": {
      "text/markdown": [
       "\n",
       "|||\n",
       "|---:|:---|\n",
       "| [![arXiv](https://img.shields.io/badge/arXiv-arXiv:2304.04154-b31b1b.svg)](https://arxiv.org/abs/arXiv:2304.04154) | **Review of X-ray pulsar spacecraft autonomous navigation**  |\n",
       "|| Y. Wang, et al. -- incl., <mark>X. Zhang</mark> |\n",
       "|*Appeared on*| *2023-04-11*|\n",
       "|*Comments*| *has been accepted by Chinese Journal of Aeronautics*|\n",
       "|**Abstract**| This article provides a review on X-ray pulsar-based navigation (XNAV). The review starts with the basic concept of XNAV, and briefly introduces the past, present and future projects concerning XNAV. This paper focuses on the advances of the key techniques supporting XNAV, including the navigation pulsar database, the X-ray detection system, and the pulse time of arrival estimation. Moreover, the methods to improve the estimation performance of XNAV are reviewed. Finally, some remarks on the future development of XNAV are provided. |\n",
       "|<p style=\"color:green\"> **ERROR** </p>| <p style=\"color:green\">affiliation error: mpia.affiliation_verifications: 'Heidelberg' keyword not found.</p> |"
      ],
      "text/plain": [
       "<IPython.core.display.Markdown object>"
      ]
     },
     "metadata": {},
     "output_type": "display_data"
    },
    {
     "data": {
      "text/markdown": [
       "\n",
       "|||\n",
       "|---:|:---|\n",
       "| [![arXiv](https://img.shields.io/badge/arXiv-arXiv:2304.03871-b31b1b.svg)](https://arxiv.org/abs/arXiv:2304.03871) | **KMT-2021-BLG-2010Lb, KMT-2022-BLG-0371Lb, and KMT-2022-BLG-1013Lb: Three  microlensing planets detected via partially covered signals**  |\n",
       "|| C. Han, et al. -- incl., <mark>A. Gould</mark> |\n",
       "|*Appeared on*| *2023-04-11*|\n",
       "|*Comments*| *12 pages, 17 figures*|\n",
       "|**Abstract**| We inspect 4 microlensing events KMT-2021-BLG-1968, KMT-2021-BLG-2010, KMT-2022-BLG-0371, and KMT-2022-BLG-1013, for which the light curves exhibit partially covered short-term central anomalies. We conduct detailed analyses of the events with the aim of revealing the nature of the anomalies. We test various models that can give rise to the anomalies of the individual events including the binary-lens (2L1S) and binary-source (1L2S) interpretations. Under the 2L1S interpretation, we thoroughly inspect the parameter space to check the existence of degenerate solutions, and if they exist, we test the feasibility of resolving the degeneracy. We find that the anomalies in KMT-2021-BLG-2010 and KMT-2022-BLG-1013 are uniquely defined by planetary-lens interpretations with the planet-to-host mass ratios of $q\\sim 2.8\\times 10^{-3}$ and $\\sim 1.6\\times 10^{-3}$, respectively. For KMT-2022-BLG-0371, a planetary solution with a mass ratio $q\\sim 4\\times 10^{-4}$ is strongly favored over the other three degenerate 2L1S solutions with different mass ratios based on the $\\chi^2$ and relative proper motion arguments, and a 1L2S solution is clearly ruled out. For KMT-2021-BLG-1968, on the other hand, we find that the anomaly can be explained either by a planetary or a binary-source interpretation, making it difficult to firmly identify the nature of the anomaly. From the Bayesian analyses of the identified planetary events, we estimate that the masses of the planet and host are $(M_{\\rm p}/M_{\\rm J}, M_{\\rm h}/M_\\odot) = (1.07^{+1.15}_{-0.68}, 0.37^{+0.40}_{-0.23})$, $(0.26^{+0.13}_{-0.11}, 0.63^{+0.32}_{-0.28})$, and $(0.31^{+0.46}_{-0.16}, 0.18^{+0.28}_{-0.10})$ for KMT-2021-BLG-2010L, KMT-2022-BLG-0371L, and KMT-2022-BLG-1013L, respectively. |\n",
       "|<p style=\"color:red\"> **ERROR** </p>| <p style=\"color:red\">latex error [Errno 2] No such file or directory: 'gs'</p> |"
      ],
      "text/plain": [
       "<IPython.core.display.Markdown object>"
      ]
     },
     "metadata": {},
     "output_type": "display_data"
    }
   ],
   "source": [
    "import datetime\n",
    "today = str(datetime.date.today())\n",
    "logfile = f\"_build/html/logs/log-{today}.md\"\n",
    "\n",
    "\n",
    "with open(logfile, 'w') as logs:\n",
    "    # Success\n",
    "    logs.write(f'# Arxiv on Deck 2: Logs - {today}\\n\\n')\n",
    "    logs.write(\"\"\"* Arxiv had {0:,d} new papers\\n\"\"\".format(len(new_papers)))\n",
    "    logs.write(\"\"\"    * {0:,d} with possible author matches\\n\\n\"\"\".format(len(candidates)))\n",
    "    logs.write(\"## Sucessful papers\\n\\n\")\n",
    "    display(Markdown(\"## Successful papers\"))\n",
    "    success = [k[0] for k in documents]\n",
    "    for candid in candidates:\n",
    "        if candid['identifier'].split(':')[-1] in success:\n",
    "            display(candid)\n",
    "            logs.write(candid.generate_markdown_text() + '\\n\\n')\n",
    "\n",
    "    ## failed\n",
    "    logs.write(\"## Failed papers\\n\\n\")\n",
    "    display(Markdown(\"## Failed papers\"))\n",
    "    failed = sorted(failed, key=lambda x: x[1])\n",
    "    current_reason = \"\"\n",
    "    for paper, reason in failed:\n",
    "        if 'affiliation' in reason:\n",
    "            color = 'green'\n",
    "        else:\n",
    "            color = 'red'\n",
    "        data = Markdown(\n",
    "                paper.generate_markdown_text() + \n",
    "                f'\\n|<p style=\"color:{color:s}\"> **ERROR** </p>| <p style=\"color:{color:s}\">{reason:s}</p> |'\n",
    "               )\n",
    "        if reason != current_reason:\n",
    "            logs.write(f'### {reason:s} \\n\\n')\n",
    "            current_reason = reason\n",
    "        logs.write(data.data + '\\n\\n')\n",
    "        \n",
    "        # only display here the important errors (all in logs)\n",
    "        # if color in ('red',):\n",
    "        display(data)"
   ]
  },
  {
   "cell_type": "markdown",
   "id": "472d20ee",
   "metadata": {
    "papermill": {
     "duration": 0.004541,
     "end_time": "2023-04-11T04:05:25.305744",
     "exception": false,
     "start_time": "2023-04-11T04:05:25.301203",
     "status": "completed"
    },
    "tags": []
   },
   "source": [
    "## Export documents\n",
    "\n",
    "We now write the .md files and export relevant images"
   ]
  },
  {
   "cell_type": "code",
   "execution_count": 6,
   "id": "d426aed9",
   "metadata": {
    "execution": {
     "iopub.execute_input": "2023-04-11T04:05:25.316121Z",
     "iopub.status.busy": "2023-04-11T04:05:25.315718Z",
     "iopub.status.idle": "2023-04-11T04:05:25.322602Z",
     "shell.execute_reply": "2023-04-11T04:05:25.321995Z"
    },
    "papermill": {
     "duration": 0.013588,
     "end_time": "2023-04-11T04:05:25.323988",
     "exception": false,
     "start_time": "2023-04-11T04:05:25.310400",
     "status": "completed"
    },
    "tags": []
   },
   "outputs": [],
   "source": [
    "def export_markdown_summary(md: str, md_fname:str, directory: str):\n",
    "    \"\"\"Export MD document and associated relevant images\"\"\"\n",
    "    import os\n",
    "    import shutil\n",
    "    import re\n",
    "\n",
    "    if (os.path.exists(directory) and not os.path.isdir(directory)):\n",
    "        raise RuntimeError(f\"a non-directory file exists with name {directory:s}\")\n",
    "\n",
    "    if (not os.path.exists(directory)):\n",
    "        print(f\"creating directory {directory:s}\")\n",
    "        os.mkdir(directory)\n",
    "\n",
    "    fig_fnames = (re.compile(r'\\[Fig.*\\]\\((.*)\\)').findall(md) + \n",
    "                  re.compile(r'\\<img src=\"([^>\\s]*)\"[^>]*/>').findall(md))\n",
    "    for fname in fig_fnames:\n",
    "        if 'http' in fname:\n",
    "            # No need to copy online figures\n",
    "            continue\n",
    "        destdir = os.path.join(directory, os.path.dirname(fname))\n",
    "        destfname = os.path.join(destdir, os.path.basename(fname))\n",
    "        try:\n",
    "            os.makedirs(destdir)\n",
    "        except FileExistsError:\n",
    "            pass\n",
    "        shutil.copy(fname, destfname)\n",
    "    with open(os.path.join(directory, md_fname), 'w') as fout:\n",
    "        fout.write(md)\n",
    "    print(\"exported in \", os.path.join(directory, md_fname))\n",
    "    [print(\"    + \" + os.path.join(directory,fk)) for fk in fig_fnames]"
   ]
  },
  {
   "cell_type": "code",
   "execution_count": 7,
   "id": "014d04a4",
   "metadata": {
    "execution": {
     "iopub.execute_input": "2023-04-11T04:05:25.334517Z",
     "iopub.status.busy": "2023-04-11T04:05:25.333968Z",
     "iopub.status.idle": "2023-04-11T04:05:25.339896Z",
     "shell.execute_reply": "2023-04-11T04:05:25.339220Z"
    },
    "papermill": {
     "duration": 0.012715,
     "end_time": "2023-04-11T04:05:25.341346",
     "exception": false,
     "start_time": "2023-04-11T04:05:25.328631",
     "status": "completed"
    },
    "tags": []
   },
   "outputs": [
    {
     "name": "stdout",
     "output_type": "stream",
     "text": [
      "exported in  _build/html/2304.04719.md\n",
      "    + _build/html/tmp_2304.04719/figures/figure_1a.png\n",
      "    + _build/html/tmp_2304.04719/figures/figure_4.png\n",
      "    + _build/html/tmp_2304.04719/figures/figure_7.png\n"
     ]
    }
   ],
   "source": [
    "for paper_id, md in documents:\n",
    "    export_markdown_summary(md, f\"{paper_id:s}.md\", '_build/html/')"
   ]
  },
  {
   "cell_type": "markdown",
   "id": "f087a0a7",
   "metadata": {
    "papermill": {
     "duration": 0.004655,
     "end_time": "2023-04-11T04:05:25.350729",
     "exception": false,
     "start_time": "2023-04-11T04:05:25.346074",
     "status": "completed"
    },
    "tags": []
   },
   "source": [
    "## Display the papers\n",
    "\n",
    "Not necessary but allows for a quick check."
   ]
  },
  {
   "cell_type": "code",
   "execution_count": 8,
   "id": "fd25f625",
   "metadata": {
    "execution": {
     "iopub.execute_input": "2023-04-11T04:05:25.361456Z",
     "iopub.status.busy": "2023-04-11T04:05:25.360948Z",
     "iopub.status.idle": "2023-04-11T04:05:25.365536Z",
     "shell.execute_reply": "2023-04-11T04:05:25.364945Z"
    },
    "papermill": {
     "duration": 0.011501,
     "end_time": "2023-04-11T04:05:25.366976",
     "exception": false,
     "start_time": "2023-04-11T04:05:25.355475",
     "status": "completed"
    },
    "scrolled": false,
    "tags": []
   },
   "outputs": [
    {
     "data": {
      "text/markdown": [
       "<div class=\"macros\" style=\"visibility:hidden;\">\n",
       "$\\newcommand{\\ensuremath}{}$\n",
       "$\\newcommand{\\xspace}{}$\n",
       "$\\newcommand{\\object}[1]{\\texttt{#1}}$\n",
       "$\\newcommand{\\farcs}{{.}''}$\n",
       "$\\newcommand{\\farcm}{{.}'}$\n",
       "$\\newcommand{\\arcsec}{''}$\n",
       "$\\newcommand{\\arcmin}{'}$\n",
       "$\\newcommand{\\ion}[2]{#1#2}$\n",
       "$\\newcommand{\\textsc}[1]{\\textrm{#1}}$\n",
       "$\\newcommand{\\hl}[1]{\\textrm{#1}}$\n",
       "$\\newcommand{\\footnote}[1]{}$\n",
       "$\\newcommand{\\vdag}{(v)^\\dagger}$\n",
       "$\\newcommand$\n",
       "$\\newcommand$\n",
       "$\\newcommand{\\um}{\\mum}$\n",
       "$\\newcommand{\\ai}{\\mbox{\\normalfontÅ} }$\n",
       "$\\newcommand$\n",
       "$\\newcommand$\n",
       "$\\newcommand$\n",
       "$\\newcommand$\n",
       "$\\newcommand$\n",
       "$\\newcommand{\\cii}{[C\\thinspace{\\sc ii}]}$</div>\n",
       "\n",
       "\n",
       "\n",
       "<div id=\"title\">\n",
       "\n",
       "# (SHERRY) JCMT-SCUBA2 High rEdshift bRight quasaR surveY - II: the environment of $z\\sim6$ quasars in sub-millimeter band\n",
       "\n",
       "</div>\n",
       "<div id=\"comments\">\n",
       "\n",
       "[![arXiv](https://img.shields.io/badge/arXiv-2304.04719-b31b1b.svg)](https://arxiv.org/abs/2304.04719)<mark>Appeared on: 2023-04-11</mark> -  _12 pages, 8 figures and 2 tables, accepted for publication in ApJ_\n",
       "\n",
       "</div>\n",
       "<div id=\"authors\">\n",
       "\n",
       "Q. Li, et al. -- incl., <mark>E. Bañados</mark>\n",
       "\n",
       "</div>\n",
       "<div id=\"abstract\">\n",
       "\n",
       "**Abstract:** The formation of the first supermassive black holes is expected to have occurred in some most pronounced matter and galaxy overdensities in the early universe. We have conducted a sub-mm wavelength continuum survey of 54 $z\\sim6$ quasars using the Submillimeter Common-User Bolometre Array-2 (SCUBA2) on the James Clerk Maxwell Telescope (JCMT)to study the environments around $z \\sim 6$ quasars. We identified 170 submillimeter galaxies (SMGs) with above 3.5 $\\sigma$ detections at 450 or 850 $\\um$ maps.Their FIR luminosities are 2.2 - 6.4 $\\times$ 10 $^{12} L_{\\odot}$ , and star formation rates are $\\sim$ 400 - 1200 M $_{\\odot}$ yr $^{-1}$ . We also calculated the SMGs differential and cumulative number counts in a combined area of $\\sim$ 620 arcmin $^2$ . To a $4\\sigma$ detection (at $\\sim$ 5.5 mJy), SMGs overdensity is $0.68^{+0.21}_{-0.19}$ ( $\\pm0.19$ ), exceeding the blank field source counts by a factor of 1.68. We find that 13/54 quasars show overdensities (at $\\sim$ 5.5 mJy) of $\\delta_{SMG}\\sim$ 1.5 - 5.4. The combined area of these 13 quasars exceeds the blank field counts with the overdensity to 5.5 mJy of $\\dsmg$ $\\sim$ $2.46^{+0.64}_{-0.55}$ ( $\\pm0.25$ ) in the regions of $\\sim$ 150 arcmin $^2$ . However, the excess is insignificant on the bright end (e.g., 7.5 mJy). We also compare results with previous environmental studies of Lyman alpha emitters (LAEs) and Lyman-Break Galaxies (LBGs) on a similar scale. Our survey presents the first systematic study of the environment of quasars at $z\\sim6$ . The newly discovered SMGs provide essential candidates for follow-up spectroscopic observations to test whether they reside in the same large-scale structures as the quasars and search for protoclusters at an early epoch.\n",
       "\n",
       "</div>\n",
       "\n",
       "<div id=\"div_fig1\">\n",
       "\n",
       "<img src=\"tmp_2304.04719/figures/figure_1a.png\" alt=\"Fig3\" width=\"100%\"/>\n",
       "\n",
       "**Figure 3. -** JCMT-SCUBA2 850$\\um$  images of the surrounding regions around 54 $z \\sim 6$ quasar with a beam size of FWHM = 15$\\arcsec$.\n",
       "The selected region is within 2.23 arcmins from the quasar optical position (which covers typical protocluster scales at $z \\sim 6$) and has one sigma uncertainty of $<$ 1.5 mJy beam$^{-1}$ for each pixel. The contour levels are +3, +4, +5, +6, +7$\\times$1.5 mJy beam$^{-1}$ for each map. The star indicates the quasar optical/NIR position. The star with the blue edge is the sub-mm detected quasars. The blue circles indicate the selected SMGs (with S/N$>$3.5 at 850um or 450um, see Table \\ref{table2}).\n",
       "The sources marked with `\\#' are the SMGs used in the overdensity analysis with deboosted fluxes $>$ 5.5 mJy.\n",
       " (*figure_1*)\n",
       "\n",
       "</div>\n",
       "<div id=\"div_fig2\">\n",
       "\n",
       "<img src=\"tmp_2304.04719/figures/figure_4.png\" alt=\"Fig6\" width=\"100%\"/>\n",
       "\n",
       "**Figure 6. -** Example completeness and flux boosting estimates based on Monte Carlo source insertion. Left: Completeness as a function of input flux (S$_{in}$). The solid curve represents the best-fit function of *f(S$_{in*$) = [1+erf((S$_{in}$-A)/B)]/2} with best fitting parameters give in the text. Right: The ratio between input flux density and output flux density as a function of input flux. Error bars show 1$\\sigma$ of 5000 trials. Solid curve represents the best-fit function of *f(S$_{in*$) =1+Aexp(-BS$_{in} ^C$)}.  ([Hatsukade, Kohno and Umehata 2016]()) . (*fig:completeness and boosting*)\n",
       "\n",
       "</div>\n",
       "<div id=\"div_fig3\">\n",
       "\n",
       "<img src=\"tmp_2304.04719/figures/figure_7.png\" alt=\"Fig8\" width=\"100%\"/>\n",
       "\n",
       "**Figure 8. -** Cumulative number counts of SMGs, in fields centered on (i) luminous high-redshift AGN: z $\\sim$ 5 optically selected quasars (grey diamonds;  ([Priddey, Ivison and Isaak 2008]()) ); z $\\sim$ 4 radio galaxies (grey squares;  ([Stevens, Ivison and Dunlop 2003]()) ); (ii) z $\\sim$ 2 protoclusters (grey triangles;  ([Zhang, Zheng and Shi 2022](), [Cooke, Smail and Stach 2019]()) ); (iii) z $\\sim$ 1 clusters (grey circles;  ([ and Best 2002](), [Webb, Yee and Ivison 2005]()) ) and (iv) $z \\sim 6$ optically selected quasars (this paper, black points and red/blue diamonds).\n",
       "The black line shows the blank-field number counts of SMGs in the previous survey, i.e., SCUBA2 survey for S2CLS field in [Geach, Dunlop and Halpern (2017)]().\n",
       "The blue line is calculated from our survey's combined areas of all 54 quasars ($\\sim$ 620 arcmin$^2$); the red line is from the combined areas of 13 overdense fields around the quasars ($\\sim$ 150 arcmin$^2$).\n",
       "The black-filled points indicate the three most overdense fields selected from our sample at $z \\sim 6$.\n",
       "Points in this work have been corrected for flux boosting and incompleteness. (*figure_7*)\n",
       "\n",
       "</div><div id=\"qrcode\"><img src=https://api.qrserver.com/v1/create-qr-code/?size=100x100&data=\"https://arxiv.org/abs/2304.04719\"></div>"
      ],
      "text/plain": [
       "<IPython.core.display.Markdown object>"
      ]
     },
     "metadata": {},
     "output_type": "display_data"
    }
   ],
   "source": [
    "[display(Markdown(k[1])) for k in documents];"
   ]
  },
  {
   "cell_type": "markdown",
   "id": "873873a4",
   "metadata": {
    "papermill": {
     "duration": 0.005054,
     "end_time": "2023-04-11T04:05:25.377142",
     "exception": false,
     "start_time": "2023-04-11T04:05:25.372088",
     "status": "completed"
    },
    "tags": []
   },
   "source": [
    "# Create HTML index"
   ]
  },
  {
   "cell_type": "code",
   "execution_count": 9,
   "id": "cf665672",
   "metadata": {
    "execution": {
     "iopub.execute_input": "2023-04-11T04:05:25.388380Z",
     "iopub.status.busy": "2023-04-11T04:05:25.387837Z",
     "iopub.status.idle": "2023-04-11T04:05:25.397273Z",
     "shell.execute_reply": "2023-04-11T04:05:25.396667Z"
    },
    "papermill": {
     "duration": 0.0168,
     "end_time": "2023-04-11T04:05:25.398893",
     "exception": false,
     "start_time": "2023-04-11T04:05:25.382093",
     "status": "completed"
    },
    "tags": []
   },
   "outputs": [
    {
     "name": "stdout",
     "output_type": "stream",
     "text": [
      "186  publications files modified in the last 7 days.\n"
     ]
    }
   ],
   "source": [
    "from datetime import datetime, timedelta, timezone\n",
    "from glob import glob\n",
    "import os\n",
    "\n",
    "files = glob('_build/html/*.md')\n",
    "days = 7\n",
    "now = datetime.today()\n",
    "res = []\n",
    "for fk in files:\n",
    "    stat_result = os.stat(fk).st_ctime\n",
    "    modified = datetime.fromtimestamp(stat_result, tz=timezone.utc).replace(tzinfo=None)\n",
    "    delta = now.today() - modified\n",
    "    if delta <= timedelta(days=days):\n",
    "        res.append((delta.seconds, fk))\n",
    "res = [k[1] for k in reversed(sorted(res, key=lambda x:x[1]))]\n",
    "npub = len(res)\n",
    "print(len(res), f\" publications files modified in the last {days:d} days.\")\n",
    "# [ print('\\t', k) for k in res ];"
   ]
  },
  {
   "cell_type": "code",
   "execution_count": 10,
   "id": "015de740",
   "metadata": {
    "execution": {
     "iopub.execute_input": "2023-04-11T04:05:25.410286Z",
     "iopub.status.busy": "2023-04-11T04:05:25.409742Z",
     "iopub.status.idle": "2023-04-11T04:05:25.425070Z",
     "shell.execute_reply": "2023-04-11T04:05:25.424473Z"
    },
    "papermill": {
     "duration": 0.022531,
     "end_time": "2023-04-11T04:05:25.426533",
     "exception": false,
     "start_time": "2023-04-11T04:05:25.404002",
     "status": "completed"
    },
    "tags": []
   },
   "outputs": [
    {
     "name": "stdout",
     "output_type": "stream",
     "text": [
      "5  publications in the last 7 days.\n"
     ]
    }
   ],
   "source": [
    "import datetime\n",
    "from glob import glob\n",
    "\n",
    "def get_last_n_days(lst, days=1):\n",
    "    \"\"\" Get the documents from the last n days \"\"\"\n",
    "    sorted_lst = sorted(lst, key=lambda x: x[1], reverse=True)\n",
    "    for fname, date in sorted_lst:\n",
    "        if date >= str(datetime.date.today() - datetime.timedelta(days=days)):\n",
    "            yield fname\n",
    "\n",
    "def extract_appearance_dates(lst_file):\n",
    "    dates = []\n",
    "\n",
    "    def get_date(line):\n",
    "        return line\\\n",
    "            .split('Appeared on:')[-1]\\\n",
    "            .split('</mark>')[0].strip()\n",
    "\n",
    "    for fname in lst:\n",
    "        with open(fname, 'r') as f:\n",
    "            found_date = False\n",
    "            for line in f:\n",
    "                if not found_date:\n",
    "                    if \"Appeared on\" in line:\n",
    "                        found_date = True\n",
    "                        dates.append((fname, get_date(line)))\n",
    "                else:\n",
    "                    break\n",
    "    return dates\n",
    "\n",
    "from glob import glob\n",
    "lst = glob('_build/html/*md')\n",
    "days = 7\n",
    "dates = extract_appearance_dates(lst)\n",
    "res = list(get_last_n_days(dates, days))\n",
    "npub = len(res)\n",
    "print(len(res), f\" publications in the last {days:d} days.\")"
   ]
  },
  {
   "cell_type": "code",
   "execution_count": 11,
   "id": "52ca0208",
   "metadata": {
    "execution": {
     "iopub.execute_input": "2023-04-11T04:05:25.438022Z",
     "iopub.status.busy": "2023-04-11T04:05:25.437490Z",
     "iopub.status.idle": "2023-04-11T04:05:25.442561Z",
     "shell.execute_reply": "2023-04-11T04:05:25.442085Z"
    },
    "papermill": {
     "duration": 0.012257,
     "end_time": "2023-04-11T04:05:25.443919",
     "exception": false,
     "start_time": "2023-04-11T04:05:25.431662",
     "status": "completed"
    },
    "scrolled": false,
    "tags": []
   },
   "outputs": [],
   "source": [
    "def create_carousel(npub=4):\n",
    "    \"\"\" Generate the HTML code for a carousel with `npub` slides \"\"\"\n",
    "    carousel = [\"\"\"  <div class=\"carousel\" \"\"\",\n",
    "                \"\"\"       data-flickity='{ \"autoPlay\": 10000, \"adaptiveHeight\": true, \"resize\": true, \"wrapAround\": true, \"pauseAutoPlayOnHover\": true, \"groupCells\": 1 }' id=\"asyncTypeset\">\"\"\"\n",
    "                ]\n",
    "    \n",
    "    item_str = \"\"\"    <div class=\"carousel-cell\"> <div id=\"slide{k}\" class=\"md_view\">Content {k}</div> </div>\"\"\"\n",
    "    for k in range(1, npub + 1):\n",
    "        carousel.append(item_str.format(k=k))\n",
    "    carousel.append(\"  </div>\")\n",
    "    return '\\n'.join(carousel)\n",
    "\n",
    "def create_grid(npub=4):\n",
    "    \"\"\" Generate the HTML code for a flat grid with `npub` slides \"\"\"\n",
    "    grid = [\"\"\"  <div class=\"grid\"> \"\"\",\n",
    "                ]\n",
    "    \n",
    "    item_str = \"\"\"    <div class=\"grid-item\"> <div id=\"slide{k}\" class=\"md_view\">Content {k}</div> </div>\"\"\"\n",
    "    for k in range(1, npub + 1):\n",
    "        grid.append(item_str.format(k=k))\n",
    "    grid.append(\"  </div>\")\n",
    "    return '\\n'.join(grid)"
   ]
  },
  {
   "cell_type": "code",
   "execution_count": 12,
   "id": "a6eac5b6",
   "metadata": {
    "execution": {
     "iopub.execute_input": "2023-04-11T04:05:25.455798Z",
     "iopub.status.busy": "2023-04-11T04:05:25.455221Z",
     "iopub.status.idle": "2023-04-11T04:05:25.460917Z",
     "shell.execute_reply": "2023-04-11T04:05:25.460300Z"
    },
    "papermill": {
     "duration": 0.013061,
     "end_time": "2023-04-11T04:05:25.462325",
     "exception": false,
     "start_time": "2023-04-11T04:05:25.449264",
     "status": "completed"
    },
    "scrolled": false,
    "tags": []
   },
   "outputs": [],
   "source": [
    "carousel = create_carousel(npub)\n",
    "docs = ', '.join(['\"{0:s}\"'.format(k.split('/')[-1]) for k in res])\n",
    "slides = ', '.join([f'\"slide{k}\"' for k in range(1, npub + 1)])\n",
    "\n",
    "with open(\"daily_template.html\", \"r\") as tpl:\n",
    "    page = tpl.read()\n",
    "    page = page.replace(\"{%-- carousel:s --%}\", carousel)\\\n",
    "               .replace(\"{%-- suptitle:s --%}\",  \"7-day archives\" )\\\n",
    "               .replace(\"{%-- docs:s --%}\", docs)\\\n",
    "               .replace(\"{%-- slides:s --%}\", slides)\n",
    "    \n",
    "with open(\"_build/html/index_7days.html\", 'w') as fout:\n",
    "    fout.write(page)"
   ]
  },
  {
   "cell_type": "code",
   "execution_count": 13,
   "id": "adc1a1ec",
   "metadata": {
    "execution": {
     "iopub.execute_input": "2023-04-11T04:05:25.473893Z",
     "iopub.status.busy": "2023-04-11T04:05:25.473379Z",
     "iopub.status.idle": "2023-04-11T04:05:25.481284Z",
     "shell.execute_reply": "2023-04-11T04:05:25.480651Z"
    },
    "papermill": {
     "duration": 0.015198,
     "end_time": "2023-04-11T04:05:25.482716",
     "exception": false,
     "start_time": "2023-04-11T04:05:25.467518",
     "status": "completed"
    },
    "tags": []
   },
   "outputs": [
    {
     "name": "stdout",
     "output_type": "stream",
     "text": [
      "1  publications in the last day.\n"
     ]
    }
   ],
   "source": [
    "# redo for today\n",
    "days = 1\n",
    "res = list(get_last_n_days(dates, days))\n",
    "npub = len(res)\n",
    "print(len(res), f\" publications in the last day.\")\n",
    "\n",
    "carousel = create_carousel(npub)\n",
    "docs = ', '.join(['\"{0:s}\"'.format(k.split('/')[-1]) for k in res])\n",
    "slides = ', '.join([f'\"slide{k}\"' for k in range(1, npub + 1)])\n",
    "\n",
    "with open(\"daily_template.html\", \"r\") as tpl:\n",
    "    page = tpl.read()\n",
    "    page = page.replace(\"{%-- carousel:s --%}\", carousel)\\\n",
    "               .replace(\"{%-- suptitle:s --%}\",  \"Daily\" )\\\n",
    "               .replace(\"{%-- docs:s --%}\", docs)\\\n",
    "               .replace(\"{%-- slides:s --%}\", slides)\n",
    "    \n",
    "# print(carousel, docs, slides)\n",
    "# print(page)\n",
    "with open(\"_build/html/index_daily.html\", 'w') as fout:\n",
    "    fout.write(page)"
   ]
  },
  {
   "cell_type": "code",
   "execution_count": 14,
   "id": "00eece82",
   "metadata": {
    "execution": {
     "iopub.execute_input": "2023-04-11T04:05:25.494757Z",
     "iopub.status.busy": "2023-04-11T04:05:25.494221Z",
     "iopub.status.idle": "2023-04-11T04:05:25.500879Z",
     "shell.execute_reply": "2023-04-11T04:05:25.500293Z"
    },
    "papermill": {
     "duration": 0.014203,
     "end_time": "2023-04-11T04:05:25.502330",
     "exception": false,
     "start_time": "2023-04-11T04:05:25.488127",
     "status": "completed"
    },
    "scrolled": false,
    "tags": []
   },
   "outputs": [
    {
     "name": "stdout",
     "output_type": "stream",
     "text": [
      "6  6 publications selected.\n"
     ]
    }
   ],
   "source": [
    "# Create the flat grid of the last N papers (fixed number regardless of dates)\n",
    "from itertools import islice \n",
    "\n",
    "npub = 6\n",
    "res = [k[0] for k in (islice(reversed(sorted(dates, key=lambda x: x[1])), 6))]\n",
    "print(len(res), f\" {npub} publications selected.\")\n",
    "\n",
    "grid = create_grid(npub)\n",
    "docs = ', '.join(['\"{0:s}\"'.format(k.split('/')[-1]) for k in res])\n",
    "slides = ', '.join([f'\"slide{k}\"' for k in range(1, npub + 1)])\n",
    "\n",
    "with open(\"grid_template.html\", \"r\") as tpl:\n",
    "    page = tpl.read()\n",
    "    page = page.replace(\"{%-- grid-content:s --%}\", grid)\\\n",
    "               .replace(\"{%-- suptitle:s --%}\",  f\"Last {npub:,d} papers\" )\\\n",
    "               .replace(\"{%-- docs:s --%}\", docs)\\\n",
    "               .replace(\"{%-- slides:s --%}\", slides)\n",
    "    \n",
    "# print(grid, docs, slides)\n",
    "# print(page)\n",
    "with open(\"_build/html/index_npub_grid.html\", 'w') as fout:\n",
    "    fout.write(page)"
   ]
  }
 ],
 "metadata": {
  "kernelspec": {
   "display_name": "Python 3 (ipykernel)",
   "language": "python",
   "name": "python3"
  },
  "language_info": {
   "codemirror_mode": {
    "name": "ipython",
    "version": 3
   },
   "file_extension": ".py",
   "mimetype": "text/x-python",
   "name": "python",
   "nbconvert_exporter": "python",
   "pygments_lexer": "ipython3",
   "version": "3.9.16"
  },
  "papermill": {
   "default_parameters": {},
   "duration": 56.654597,
   "end_time": "2023-04-11T04:05:25.724373",
   "environment_variables": {},
   "exception": null,
   "input_path": "MPIA daily digest.ipynb",
   "output_path": "log.ipynb",
   "parameters": {},
   "start_time": "2023-04-11T04:04:29.069776",
   "version": "2.4.0"
  },
  "vscode": {
   "interpreter": {
    "hash": "aee8b7b246df8f9039afb4144a1f6fd8d2ca17a180786b69acc140d282b71a49"
   }
  },
  "widgets": {
   "application/vnd.jupyter.widget-state+json": {
    "state": {
     "2fa5aec5891d48768129a0af8ec0f21d": {
      "model_module": "@jupyter-widgets/controls",
      "model_module_version": "2.0.0",
      "model_name": "HTMLStyleModel",
      "state": {
       "_model_module": "@jupyter-widgets/controls",
       "_model_module_version": "2.0.0",
       "_model_name": "HTMLStyleModel",
       "_view_count": null,
       "_view_module": "@jupyter-widgets/base",
       "_view_module_version": "2.0.0",
       "_view_name": "StyleView",
       "background": null,
       "description_width": "",
       "font_size": null,
       "text_color": null
      }
     },
     "3b1e68243784466fa800f468f77c0627": {
      "model_module": "@jupyter-widgets/controls",
      "model_module_version": "2.0.0",
      "model_name": "HTMLModel",
      "state": {
       "_dom_classes": [],
       "_model_module": "@jupyter-widgets/controls",
       "_model_module_version": "2.0.0",
       "_model_name": "HTMLModel",
       "_view_count": null,
       "_view_module": "@jupyter-widgets/controls",
       "_view_module_version": "2.0.0",
       "_view_name": "HTMLView",
       "description": "",
       "description_allow_html": false,
       "layout": "IPY_MODEL_929df0b2b36e4e19bdf96f7fb21e4650",
       "placeholder": "​",
       "style": "IPY_MODEL_2fa5aec5891d48768129a0af8ec0f21d",
       "tabbable": null,
       "tooltip": null,
       "value": "100%"
      }
     },
     "62c9cedcdc4942afa1ae21eea3cba725": {
      "model_module": "@jupyter-widgets/controls",
      "model_module_version": "2.0.0",
      "model_name": "FloatProgressModel",
      "state": {
       "_dom_classes": [],
       "_model_module": "@jupyter-widgets/controls",
       "_model_module_version": "2.0.0",
       "_model_name": "FloatProgressModel",
       "_view_count": null,
       "_view_module": "@jupyter-widgets/controls",
       "_view_module_version": "2.0.0",
       "_view_name": "ProgressView",
       "bar_style": "success",
       "description": "",
       "description_allow_html": false,
       "layout": "IPY_MODEL_9d0e8b2cd5ef4ec2a24d70577a2b0238",
       "max": 3.0,
       "min": 0.0,
       "orientation": "horizontal",
       "style": "IPY_MODEL_76263833d0394d5595c5e11f772c22e4",
       "tabbable": null,
       "tooltip": null,
       "value": 3.0
      }
     },
     "76263833d0394d5595c5e11f772c22e4": {
      "model_module": "@jupyter-widgets/controls",
      "model_module_version": "2.0.0",
      "model_name": "ProgressStyleModel",
      "state": {
       "_model_module": "@jupyter-widgets/controls",
       "_model_module_version": "2.0.0",
       "_model_name": "ProgressStyleModel",
       "_view_count": null,
       "_view_module": "@jupyter-widgets/base",
       "_view_module_version": "2.0.0",
       "_view_name": "StyleView",
       "bar_color": null,
       "description_width": ""
      }
     },
     "85fb18af97b94ac5bd471620cf3f1549": {
      "model_module": "@jupyter-widgets/base",
      "model_module_version": "2.0.0",
      "model_name": "LayoutModel",
      "state": {
       "_model_module": "@jupyter-widgets/base",
       "_model_module_version": "2.0.0",
       "_model_name": "LayoutModel",
       "_view_count": null,
       "_view_module": "@jupyter-widgets/base",
       "_view_module_version": "2.0.0",
       "_view_name": "LayoutView",
       "align_content": null,
       "align_items": null,
       "align_self": null,
       "border_bottom": null,
       "border_left": null,
       "border_right": null,
       "border_top": null,
       "bottom": null,
       "display": null,
       "flex": null,
       "flex_flow": null,
       "grid_area": null,
       "grid_auto_columns": null,
       "grid_auto_flow": null,
       "grid_auto_rows": null,
       "grid_column": null,
       "grid_gap": null,
       "grid_row": null,
       "grid_template_areas": null,
       "grid_template_columns": null,
       "grid_template_rows": null,
       "height": null,
       "justify_content": null,
       "justify_items": null,
       "left": null,
       "margin": null,
       "max_height": null,
       "max_width": null,
       "min_height": null,
       "min_width": null,
       "object_fit": null,
       "object_position": null,
       "order": null,
       "overflow": null,
       "padding": null,
       "right": null,
       "top": null,
       "visibility": null,
       "width": null
      }
     },
     "8e867bd5d2c149228a12190d0624663d": {
      "model_module": "@jupyter-widgets/controls",
      "model_module_version": "2.0.0",
      "model_name": "HBoxModel",
      "state": {
       "_dom_classes": [],
       "_model_module": "@jupyter-widgets/controls",
       "_model_module_version": "2.0.0",
       "_model_name": "HBoxModel",
       "_view_count": null,
       "_view_module": "@jupyter-widgets/controls",
       "_view_module_version": "2.0.0",
       "_view_name": "HBoxView",
       "box_style": "",
       "children": [
        "IPY_MODEL_3b1e68243784466fa800f468f77c0627",
        "IPY_MODEL_62c9cedcdc4942afa1ae21eea3cba725",
        "IPY_MODEL_b1d4675151e949b9a2c9aebda348e503"
       ],
       "layout": "IPY_MODEL_85fb18af97b94ac5bd471620cf3f1549",
       "tabbable": null,
       "tooltip": null
      }
     },
     "929df0b2b36e4e19bdf96f7fb21e4650": {
      "model_module": "@jupyter-widgets/base",
      "model_module_version": "2.0.0",
      "model_name": "LayoutModel",
      "state": {
       "_model_module": "@jupyter-widgets/base",
       "_model_module_version": "2.0.0",
       "_model_name": "LayoutModel",
       "_view_count": null,
       "_view_module": "@jupyter-widgets/base",
       "_view_module_version": "2.0.0",
       "_view_name": "LayoutView",
       "align_content": null,
       "align_items": null,
       "align_self": null,
       "border_bottom": null,
       "border_left": null,
       "border_right": null,
       "border_top": null,
       "bottom": null,
       "display": null,
       "flex": null,
       "flex_flow": null,
       "grid_area": null,
       "grid_auto_columns": null,
       "grid_auto_flow": null,
       "grid_auto_rows": null,
       "grid_column": null,
       "grid_gap": null,
       "grid_row": null,
       "grid_template_areas": null,
       "grid_template_columns": null,
       "grid_template_rows": null,
       "height": null,
       "justify_content": null,
       "justify_items": null,
       "left": null,
       "margin": null,
       "max_height": null,
       "max_width": null,
       "min_height": null,
       "min_width": null,
       "object_fit": null,
       "object_position": null,
       "order": null,
       "overflow": null,
       "padding": null,
       "right": null,
       "top": null,
       "visibility": null,
       "width": null
      }
     },
     "974638ffba1d4befb10fc8ff7152e343": {
      "model_module": "@jupyter-widgets/controls",
      "model_module_version": "2.0.0",
      "model_name": "HTMLStyleModel",
      "state": {
       "_model_module": "@jupyter-widgets/controls",
       "_model_module_version": "2.0.0",
       "_model_name": "HTMLStyleModel",
       "_view_count": null,
       "_view_module": "@jupyter-widgets/base",
       "_view_module_version": "2.0.0",
       "_view_name": "StyleView",
       "background": null,
       "description_width": "",
       "font_size": null,
       "text_color": null
      }
     },
     "9d0e8b2cd5ef4ec2a24d70577a2b0238": {
      "model_module": "@jupyter-widgets/base",
      "model_module_version": "2.0.0",
      "model_name": "LayoutModel",
      "state": {
       "_model_module": "@jupyter-widgets/base",
       "_model_module_version": "2.0.0",
       "_model_name": "LayoutModel",
       "_view_count": null,
       "_view_module": "@jupyter-widgets/base",
       "_view_module_version": "2.0.0",
       "_view_name": "LayoutView",
       "align_content": null,
       "align_items": null,
       "align_self": null,
       "border_bottom": null,
       "border_left": null,
       "border_right": null,
       "border_top": null,
       "bottom": null,
       "display": null,
       "flex": null,
       "flex_flow": null,
       "grid_area": null,
       "grid_auto_columns": null,
       "grid_auto_flow": null,
       "grid_auto_rows": null,
       "grid_column": null,
       "grid_gap": null,
       "grid_row": null,
       "grid_template_areas": null,
       "grid_template_columns": null,
       "grid_template_rows": null,
       "height": null,
       "justify_content": null,
       "justify_items": null,
       "left": null,
       "margin": null,
       "max_height": null,
       "max_width": null,
       "min_height": null,
       "min_width": null,
       "object_fit": null,
       "object_position": null,
       "order": null,
       "overflow": null,
       "padding": null,
       "right": null,
       "top": null,
       "visibility": null,
       "width": null
      }
     },
     "b1d4675151e949b9a2c9aebda348e503": {
      "model_module": "@jupyter-widgets/controls",
      "model_module_version": "2.0.0",
      "model_name": "HTMLModel",
      "state": {
       "_dom_classes": [],
       "_model_module": "@jupyter-widgets/controls",
       "_model_module_version": "2.0.0",
       "_model_name": "HTMLModel",
       "_view_count": null,
       "_view_module": "@jupyter-widgets/controls",
       "_view_module_version": "2.0.0",
       "_view_name": "HTMLView",
       "description": "",
       "description_allow_html": false,
       "layout": "IPY_MODEL_c3471849fee949f69e894f0b357d1476",
       "placeholder": "​",
       "style": "IPY_MODEL_974638ffba1d4befb10fc8ff7152e343",
       "tabbable": null,
       "tooltip": null,
       "value": " 3/3 [00:28&lt;00:00, 11.90s/it]"
      }
     },
     "c3471849fee949f69e894f0b357d1476": {
      "model_module": "@jupyter-widgets/base",
      "model_module_version": "2.0.0",
      "model_name": "LayoutModel",
      "state": {
       "_model_module": "@jupyter-widgets/base",
       "_model_module_version": "2.0.0",
       "_model_name": "LayoutModel",
       "_view_count": null,
       "_view_module": "@jupyter-widgets/base",
       "_view_module_version": "2.0.0",
       "_view_name": "LayoutView",
       "align_content": null,
       "align_items": null,
       "align_self": null,
       "border_bottom": null,
       "border_left": null,
       "border_right": null,
       "border_top": null,
       "bottom": null,
       "display": null,
       "flex": null,
       "flex_flow": null,
       "grid_area": null,
       "grid_auto_columns": null,
       "grid_auto_flow": null,
       "grid_auto_rows": null,
       "grid_column": null,
       "grid_gap": null,
       "grid_row": null,
       "grid_template_areas": null,
       "grid_template_columns": null,
       "grid_template_rows": null,
       "height": null,
       "justify_content": null,
       "justify_items": null,
       "left": null,
       "margin": null,
       "max_height": null,
       "max_width": null,
       "min_height": null,
       "min_width": null,
       "object_fit": null,
       "object_position": null,
       "order": null,
       "overflow": null,
       "padding": null,
       "right": null,
       "top": null,
       "visibility": null,
       "width": null
      }
     }
    },
    "version_major": 2,
    "version_minor": 0
   }
  }
 },
 "nbformat": 4,
 "nbformat_minor": 5
}