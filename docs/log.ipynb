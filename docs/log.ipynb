{
 "cells": [
  {
   "cell_type": "markdown",
   "id": "92bcb855",
   "metadata": {
    "papermill": {
     "duration": 0.003859,
     "end_time": "2025-10-13T04:14:51.137581",
     "exception": false,
     "start_time": "2025-10-13T04:14:51.133722",
     "status": "completed"
    },
    "tags": []
   },
   "source": [
    "# MPIA Arxiv on Deck 2\n",
    "\n",
    "Contains the steps to produce the paper extractions."
   ]
  },
  {
   "cell_type": "code",
   "execution_count": 1,
   "id": "3a0d6e11",
   "metadata": {
    "execution": {
     "iopub.execute_input": "2025-10-13T04:14:51.144962Z",
     "iopub.status.busy": "2025-10-13T04:14:51.144654Z",
     "iopub.status.idle": "2025-10-13T04:14:51.353800Z",
     "shell.execute_reply": "2025-10-13T04:14:51.353046Z"
    },
    "papermill": {
     "duration": 0.214427,
     "end_time": "2025-10-13T04:14:51.355245",
     "exception": false,
     "start_time": "2025-10-13T04:14:51.140818",
     "status": "completed"
    },
    "tags": []
   },
   "outputs": [],
   "source": [
    "# Imports\n",
    "import os\n",
    "from IPython.display import Markdown, display\n",
    "from tqdm.notebook import tqdm\n",
    "import warnings\n",
    "from PIL import Image \n",
    "import re\n",
    "\n",
    "# requires arxiv_on_deck_2\n",
    "\n",
    "from arxiv_on_deck_2.arxiv2 import (get_new_papers, \n",
    "                                    get_paper_from_identifier,\n",
    "                                    retrieve_document_source, \n",
    "                                    get_markdown_badge)\n",
    "from arxiv_on_deck_2 import (latex,\n",
    "                             latex_bib,\n",
    "                             mpia,\n",
    "                             highlight_authors_in_list)\n",
    "\n",
    "# Sometimes images are really big\n",
    "Image.MAX_IMAGE_PIXELS = 1000000000 "
   ]
  },
  {
   "cell_type": "code",
   "execution_count": 2,
   "id": "22aa9d44",
   "metadata": {
    "execution": {
     "iopub.execute_input": "2025-10-13T04:14:51.362471Z",
     "iopub.status.busy": "2025-10-13T04:14:51.362254Z",
     "iopub.status.idle": "2025-10-13T04:14:51.370237Z",
     "shell.execute_reply": "2025-10-13T04:14:51.369715Z"
    },
    "papermill": {
     "duration": 0.012559,
     "end_time": "2025-10-13T04:14:51.371172",
     "exception": false,
     "start_time": "2025-10-13T04:14:51.358613",
     "status": "completed"
    },
    "tags": []
   },
   "outputs": [],
   "source": [
    "# Some useful definitions.\n",
    "\n",
    "class AffiliationWarning(UserWarning):\n",
    "    pass\n",
    "\n",
    "class AffiliationError(RuntimeError):\n",
    "    pass\n",
    "\n",
    "def validation(source: str):\n",
    "    \"\"\"Raises error paper during parsing of source file\n",
    "    \n",
    "    Allows checks before parsing TeX code.\n",
    "    \n",
    "    Raises AffiliationWarning\n",
    "    \"\"\"\n",
    "    check = mpia.affiliation_verifications(source, verbose=True)\n",
    "    if check is not True:\n",
    "        raise AffiliationError(\"mpia.affiliation_verifications: \" + check)\n",
    "\n",
    "        \n",
    "warnings.simplefilter('always', AffiliationWarning)\n",
    "\n",
    "\n",
    "def get_markdown_qrcode(paper_id: str):\n",
    "    \"\"\" Generate a qrcode to the arxiv page using qrserver.com\n",
    "    \n",
    "    :param paper: Arxiv paper\n",
    "    :returns: markdown text\n",
    "    \"\"\"\n",
    "    url = r\"https://api.qrserver.com/v1/create-qr-code/?size=100x100&data=\"\n",
    "    txt = f\"\"\"<img src={url}\"https://arxiv.org/abs/{paper_id}\">\"\"\"\n",
    "    txt = '<div id=\"qrcode\">' + txt + '</div>'\n",
    "    return txt\n",
    "\n",
    "\n",
    "def clean_non_western_encoded_characters_commands(text: str) -> str:\n",
    "    \"\"\" Remove non-western encoded characters from a string\n",
    "    List may need to grow.\n",
    "    \n",
    "    :param text: the text to clean\n",
    "    :return: the cleaned text\n",
    "    \"\"\"\n",
    "    text = re.sub(r\"(\\\\begin{CJK}{UTF8}{gbsn})(.*?)(\\\\end{CJK})\", r\"\\2\", text)\n",
    "    return text\n",
    "\n",
    "\n",
    "def get_initials(name: str) -> str:\n",
    "    \"\"\" Get the short name, e.g., A.-B. FamName\n",
    "    :param name: full name\n",
    "    :returns: initials\n",
    "    \"\"\"\n",
    "    initials = []\n",
    "    # account for non western names often in ()\n",
    "    if '(' in name:\n",
    "        name = clean_non_western_encoded_characters_commands(name)\n",
    "        suffix = re.findall(r\"\\((.*?)\\)\", name)[0]\n",
    "        name = name.replace(f\"({suffix})\", '')\n",
    "    else:\n",
    "        suffix = ''\n",
    "    split = name.split()\n",
    "    for token in split[:-1]:\n",
    "        if '-' in token:\n",
    "            current = '-'.join([k[0] + '.' for k in token.split('-')])\n",
    "        else:\n",
    "            current = token[0] + '.'\n",
    "        initials.append(current)\n",
    "    initials.append(split[-1].strip())\n",
    "    if suffix:\n",
    "        initials.append(f\"({suffix})\")\n",
    "    return ' '.join(initials)"
   ]
  },
  {
   "cell_type": "markdown",
   "id": "14bd6310",
   "metadata": {
    "papermill": {
     "duration": 0.002841,
     "end_time": "2025-10-13T04:14:51.376965",
     "exception": false,
     "start_time": "2025-10-13T04:14:51.374124",
     "status": "completed"
    },
    "tags": []
   },
   "source": [
    "## get list of arxiv paper candidates\n",
    "\n",
    "We use the MPIA mitarbeiter list webpage from mpia.de to get author names\n",
    "We then get all new papers from Arxiv and match authors"
   ]
  },
  {
   "cell_type": "code",
   "execution_count": 3,
   "id": "7ea813a8",
   "metadata": {
    "execution": {
     "iopub.execute_input": "2025-10-13T04:14:51.383626Z",
     "iopub.status.busy": "2025-10-13T04:14:51.383393Z",
     "iopub.status.idle": "2025-10-13T04:15:12.060242Z",
     "shell.execute_reply": "2025-10-13T04:15:12.059508Z"
    },
    "papermill": {
     "duration": 20.68163,
     "end_time": "2025-10-13T04:15:12.061596",
     "exception": false,
     "start_time": "2025-10-13T04:14:51.379966",
     "status": "completed"
    },
    "tags": []
   },
   "outputs": [],
   "source": [
    "# deal with the author list and edge cases of people that cannot be consistent on their name  \n",
    "\n",
    "def filter_non_scientists(name: str) -> bool:\n",
    "    \"\"\" Loose filter on expected authorships\n",
    "\n",
    "    removing IT, administration, technical staff\n",
    "    :param name: name\n",
    "    :returns: False if name is not a scientist\n",
    "    \"\"\"\n",
    "    remove_list = ['Licht', 'Binroth', 'Witzel', 'Jordan',\n",
    "                   'Zähringer', 'Scheerer', 'Hoffmann', 'Düe',\n",
    "                   'Hellmich', 'Enkler-Scharpegge', 'Witte-Nguy',\n",
    "                   'Dehen', 'Beckmann', 'Jager', 'Jäger'\n",
    "                  ]\n",
    "\n",
    "    for k in remove_list:\n",
    "        if k in name:\n",
    "            return False\n",
    "    return True\n",
    "\n",
    "def add_author_to_list(author_list: list) -> list:\n",
    "    \"\"\" Add author to list if not already in list\n",
    "    \n",
    "    :param author: author name\n",
    "    :param author_list: list of authors\n",
    "    :returns: updated list of authors\n",
    "    \"\"\"\n",
    "    add_list = ['T. Henning']\n",
    "\n",
    "    for author in add_list:\n",
    "        if author not in author_list:\n",
    "            author_list.append(author)\n",
    "    return author_list\n",
    "\n",
    "# get list from MPIA website\n",
    "# filter for non-scientists (mpia.get_mpia_mitarbeiter_list() does some filtering)\n",
    "mpia_authors = [k[1] for k in mpia.get_mpia_mitarbeiter_list() if filter_non_scientists(k[1])]\n",
    "# add some missing author because of inconsistencies in their MPIA name and author name on papers\n",
    "mpia_authors = add_author_to_list(mpia_authors)"
   ]
  },
  {
   "cell_type": "code",
   "execution_count": 4,
   "id": "2645e73a",
   "metadata": {
    "execution": {
     "iopub.execute_input": "2025-10-13T04:15:12.068806Z",
     "iopub.status.busy": "2025-10-13T04:15:12.068565Z",
     "iopub.status.idle": "2025-10-13T04:15:13.048364Z",
     "shell.execute_reply": "2025-10-13T04:15:13.047659Z"
    },
    "papermill": {
     "duration": 0.984479,
     "end_time": "2025-10-13T04:15:13.049468",
     "exception": false,
     "start_time": "2025-10-13T04:15:12.064989",
     "status": "completed"
    },
    "tags": []
   },
   "outputs": [
    {
     "name": "stdout",
     "output_type": "stream",
     "text": [
      "K. El-Badry  ->  K. El-Badry  |  ['K. El-Badry']\n",
      "T. Henning  ->  T. Henning  |  ['T. Henning']\n",
      "M. Benisty  ->  M. Benisty  |  ['M. Benisty']\n",
      "W. Brandner  ->  W. Brandner  |  ['W. Brandner']\n",
      "G. Chauvin  ->  G. Chauvin  |  ['G. Chauvin']\n",
      "P. Garcia  ->  A. P. Garcia  |  ['P. Garcia']\n",
      "L. Kreidberg  ->  L. Kreidberg  |  ['L. Kreidberg']\n",
      "P. Mollière  ->  P. Mollière  |  ['P. Mollière']\n",
      "M. Samland  ->  M. Samland  |  ['M. Samland']\n",
      "Y. Wang  ->  Y. Wang  |  ['Y. Wang']\n"
     ]
    },
    {
     "name": "stdout",
     "output_type": "stream",
     "text": [
      "K. Jahnke  ->  K. Jahnke  |  ['K. Jahnke']\n",
      "J. Shi  ->  J. Shi  |  ['J. Shi']\n",
      "Arxiv has 67 new papers today\n",
      "          5 with possible author matches\n"
     ]
    }
   ],
   "source": [
    "new_papers = get_new_papers()\n",
    "# add manual references\n",
    "add_paper_refs = []\n",
    "new_papers.extend([get_paper_from_identifier(k) for k in add_paper_refs])\n",
    "\n",
    "def robust_call(fn, value, *args, **kwargs):\n",
    "    try:\n",
    "        return fn(value, *args, **kwargs)\n",
    "    except Exception:\n",
    "        return value\n",
    "\n",
    "candidates = []\n",
    "for paperk in new_papers:\n",
    "    # Check author list with their initials\n",
    "    normed_author_list = [robust_call(mpia.get_initials, k) for k in paperk['authors']]\n",
    "    hl_authors = highlight_authors_in_list(normed_author_list, mpia_authors, verbose=True)\n",
    "    matches = [(hl, orig) for hl, orig in zip(hl_authors, paperk['authors']) if 'mark' in hl]\n",
    "    paperk['authors'] = hl_authors\n",
    "    if matches:\n",
    "        # only select paper if an author matched our list\n",
    "        candidates.append(paperk)\n",
    "print(\"\"\"Arxiv has {0:,d} new papers today\"\"\".format(len(new_papers)))        \n",
    "print(\"\"\"          {0:,d} with possible author matches\"\"\".format(len(candidates)))"
   ]
  },
  {
   "cell_type": "markdown",
   "id": "3543b34a",
   "metadata": {
    "papermill": {
     "duration": 0.003054,
     "end_time": "2025-10-13T04:15:13.056142",
     "exception": false,
     "start_time": "2025-10-13T04:15:13.053088",
     "status": "completed"
    },
    "tags": []
   },
   "source": [
    "# Parse sources and generate relevant outputs\n",
    "\n",
    "From the candidates, we do the following steps:\n",
    "* get their tarball from ArXiv (and extract data)\n",
    "* find the main .tex file: find one with \\documentclass{...} (sometimes it's non trivial)\n",
    "* Check affiliations with :func:`validation`, which uses :func:`mpia.affiliation_verifications`\n",
    "* If passing the affiliations: we parse the .tex source\n",
    "   * inject sub-documents into the main (flatten the main document)\n",
    "   * parse structure, extract information (title, abstract, authors, figures...)\n",
    "   * handles `\\graphicspath` if provided\n",
    "* Generate the .md document."
   ]
  },
  {
   "cell_type": "code",
   "execution_count": 5,
   "id": "9576b79e",
   "metadata": {
    "execution": {
     "iopub.execute_input": "2025-10-13T04:15:13.063155Z",
     "iopub.status.busy": "2025-10-13T04:15:13.062944Z",
     "iopub.status.idle": "2025-10-13T04:16:06.461137Z",
     "shell.execute_reply": "2025-10-13T04:16:06.460402Z"
    },
    "papermill": {
     "duration": 53.403079,
     "end_time": "2025-10-13T04:16:06.462283",
     "exception": false,
     "start_time": "2025-10-13T04:15:13.059204",
     "status": "completed"
    },
    "scrolled": false,
    "tags": []
   },
   "outputs": [
    {
     "data": {
      "application/vnd.jupyter.widget-view+json": {
       "model_id": "a17fccddd71e45668a8ab4947cf40ac5",
       "version_major": 2,
       "version_minor": 0
      },
      "text/plain": [
       "  0%|          | 0/5 [00:00<?, ?it/s]"
      ]
     },
     "metadata": {},
     "output_type": "display_data"
    },
    {
     "name": "stdout",
     "output_type": "stream",
     "text": [
      "Retrieving document from  https://arxiv.org/e-print/2510.08675\n"
     ]
    },
    {
     "name": "stdout",
     "output_type": "stream",
     "text": [
      "extracting tarball to tmp_2510.08675... done.\n",
      "Retrieving document from  https://arxiv.org/e-print/2510.08691\n"
     ]
    },
    {
     "name": "stdout",
     "output_type": "stream",
     "text": [
      "extracting tarball to tmp_2510.08691... done.\n"
     ]
    },
    {
     "name": "stdout",
     "output_type": "stream",
     "text": [
      "Found 140 bibliographic references in tmp_2510.08691/aa56860-25.bbl.\n",
      "Issues with the citations\n",
      "syntax error in line 5: unbalanced braces\n",
      "Retrieving document from  https://arxiv.org/e-print/2510.09046\n"
     ]
    },
    {
     "name": "stdout",
     "output_type": "stream",
     "text": [
      "extracting tarball to tmp_2510.09046..."
     ]
    },
    {
     "name": "stdout",
     "output_type": "stream",
     "text": [
      " done.\n",
      "Retrieving document from  https://arxiv.org/e-print/2510.09147\n",
      "extracting tarball to tmp_2510.09147... done.\n"
     ]
    },
    {
     "name": "stderr",
     "output_type": "stream",
     "text": [
      "/opt/hostedtoolcache/Python/3.9.23/x64/lib/python3.9/site-packages/arxiv_on_deck_2/latex.py:488: LatexWarning: Error parsing the document directly. Trying to recover.\n",
      "  warnings.warn(LatexWarning(f\"Error parsing the document directly. Trying to recover.\"))\n"
     ]
    },
    {
     "name": "stdout",
     "output_type": "stream",
     "text": [
      "✔ → 0:header\n",
      "  ↳ 44378:\\section{Introduction}\n"
     ]
    },
    {
     "name": "stdout",
     "output_type": "stream",
     "text": [
      "✔ → 44378:\\section{Introduction}\n",
      "  ↳ 55495:\\section{\\Euclid main probes}\n",
      "✔ → 55495:\\section{\\Euclid main probes}\n",
      "  ↳ 59685:\\section{Magnification bias for spectroscopic galaxy clustering}\n"
     ]
    },
    {
     "name": "stdout",
     "output_type": "stream",
     "text": [
      "✔ → 59685:\\section{Magnification bias for spectroscopic galaxy clustering}\n",
      "  ↳ 77941:\\section{Beyond \\LCDM : incorporating Weyl potential modifications into \\cloe}\n"
     ]
    },
    {
     "name": "stdout",
     "output_type": "stream",
     "text": [
      "✘ → 77941:\\section{Beyond \\LCDM : incorporating Weyl potential modifications into \\cloe}\n",
      "  ↳ 102390:\\section{Consistent implementation of photometric observables with massive neutrinos} \\label{sec:nus}\n"
     ]
    },
    {
     "name": "stdout",
     "output_type": "stream",
     "text": [
      "✔ → 102390:\\section{Consistent implementation of photometric observables with massive neutrinos} \\label{sec:nus}\n",
      "  ↳ 133284:\\section{Conclusion and future work}\\label{sec:conc}\n",
      "✔ → 133284:\\section{Conclusion and future work}\\label{sec:conc}\n",
      "  ↳ 140487:\\begin{appendix}\n",
      "✔ → 140487:\\begin{appendix}\n",
      "  ↳ 140504:\\section{Validation of spectroscopic galaxy clustering 2-point correlation function}\\label{app:a}\n"
     ]
    },
    {
     "name": "stdout",
     "output_type": "stream",
     "text": [
      "✔ → 140504:\\section{Validation of spectroscopic galaxy clustering 2-point correlation function}\\label{app:a}\n",
      "  ↳ 141569:\\section{The shear power spectrum in the Limber approximation}\n"
     ]
    },
    {
     "name": "stdout",
     "output_type": "stream",
     "text": [
      "✔ → 141569:\\section{The shear power spectrum in the Limber approximation}\n",
      "  ↳ 146471:\\section{Approximating the cb--total matter correlator}\n",
      "✔ → 146471:\\section{Approximating the cb--total matter correlator}\n",
      "  ↳ 148987:end\n"
     ]
    },
    {
     "name": "stderr",
     "output_type": "stream",
     "text": [
      "/opt/hostedtoolcache/Python/3.9.23/x64/lib/python3.9/site-packages/arxiv_on_deck_2/latex.py:132: LatexWarning: attempting recovering figure Figures/rel_diff_xi_g_mu.pdf\n",
      "  warnings.warn(LatexWarning(f'attempting recovering figure {image}'))\n",
      "/opt/hostedtoolcache/Python/3.9.23/x64/lib/python3.9/site-packages/arxiv_on_deck_2/latex.py:707: LatexWarning: Could not find graphic \\includegraphics[width=\\columnwidth]{Figures/rel_diff_xi_g_mu.pdf}\n",
      "  warnings.warn(LatexWarning(f\"Could not find graphic {k}\"))\n",
      "/opt/hostedtoolcache/Python/3.9.23/x64/lib/python3.9/site-packages/arxiv_on_deck_2/latex.py:132: LatexWarning: attempting recovering figure Figures/rel_diff_xi_mu_mu.pdf\n",
      "  warnings.warn(LatexWarning(f'attempting recovering figure {image}'))\n",
      "/opt/hostedtoolcache/Python/3.9.23/x64/lib/python3.9/site-packages/arxiv_on_deck_2/latex.py:707: LatexWarning: Could not find graphic \\includegraphics[width=\\columnwidth]{Figures/rel_diff_xi_mu_mu.pdf}\n",
      "  warnings.warn(LatexWarning(f\"Could not find graphic {k}\"))\n",
      "/opt/hostedtoolcache/Python/3.9.23/x64/lib/python3.9/site-packages/arxiv_on_deck_2/latex.py:132: LatexWarning: attempting recovering figure Figures/mag_bias_cloe.pdf\n",
      "  warnings.warn(LatexWarning(f'attempting recovering figure {image}'))\n",
      "/opt/hostedtoolcache/Python/3.9.23/x64/lib/python3.9/site-packages/arxiv_on_deck_2/latex.py:707: LatexWarning: Could not find graphic \\includegraphics[width=\\linewidth]{Figures/mag_bias_cloe.pdf}\n",
      "  warnings.warn(LatexWarning(f\"Could not find graphic {k}\"))\n",
      "/opt/hostedtoolcache/Python/3.9.23/x64/lib/python3.9/site-packages/arxiv_on_deck_2/latex.py:132: LatexWarning: attempting recovering figure Figures/sec4p2/Cells_MPvCloe.pdf\n",
      "  warnings.warn(LatexWarning(f'attempting recovering figure {image}'))\n",
      "/opt/hostedtoolcache/Python/3.9.23/x64/lib/python3.9/site-packages/arxiv_on_deck_2/latex.py:707: LatexWarning: Could not find graphic \\includegraphics[width=\\linewidth]{Figures/sec4p2/Cells_MPvCloe.pdf}\n",
      "  warnings.warn(LatexWarning(f\"Could not find graphic {k}\"))\n",
      "/opt/hostedtoolcache/Python/3.9.23/x64/lib/python3.9/site-packages/arxiv_on_deck_2/latex.py:132: LatexWarning: attempting recovering figure Figures/sec4p2/Cells_MPvCloe_neutrinos.pdf\n",
      "  warnings.warn(LatexWarning(f'attempting recovering figure {image}'))\n",
      "/opt/hostedtoolcache/Python/3.9.23/x64/lib/python3.9/site-packages/arxiv_on_deck_2/latex.py:707: LatexWarning: Could not find graphic \\includegraphics[width=\\linewidth]{Figures/sec4p2/Cells_MPvCloe_neutrinos.pdf}\n",
      "  warnings.warn(LatexWarning(f\"Could not find graphic {k}\"))\n",
      "/opt/hostedtoolcache/Python/3.9.23/x64/lib/python3.9/site-packages/arxiv_on_deck_2/latex.py:132: LatexWarning: attempting recovering figure Figures/sec4p3/P_w0waMNT.pdf\n",
      "  warnings.warn(LatexWarning(f'attempting recovering figure {image}'))\n",
      "/opt/hostedtoolcache/Python/3.9.23/x64/lib/python3.9/site-packages/arxiv_on_deck_2/latex.py:707: LatexWarning: Could not find graphic \\includegraphics[width=\\linewidth]{Figures/sec4p3/P_w0waMNT.pdf}\n",
      "  warnings.warn(LatexWarning(f\"Could not find graphic {k}\"))\n",
      "/opt/hostedtoolcache/Python/3.9.23/x64/lib/python3.9/site-packages/arxiv_on_deck_2/latex.py:132: LatexWarning: attempting recovering figure Figures/Rel_diff_xi.pdf\n",
      "  warnings.warn(LatexWarning(f'attempting recovering figure {image}'))\n",
      "/opt/hostedtoolcache/Python/3.9.23/x64/lib/python3.9/site-packages/arxiv_on_deck_2/latex.py:707: LatexWarning: Could not find graphic \\includegraphics[width=\\linewidth]{Figures/Rel_diff_xi.pdf}\n",
      "  warnings.warn(LatexWarning(f\"Could not find graphic {k}\"))\n"
     ]
    },
    {
     "name": "stdout",
     "output_type": "stream",
     "text": [
      "Found 106 bibliographic references in tmp_2510.09147/main.bbl.\n",
      "Issues with the citations\n",
      "syntax error in line 326: '=' expected\n",
      "Retrieving document from  https://arxiv.org/e-print/2510.09600\n",
      "extracting tarball to tmp_2510.09600... done.\n"
     ]
    },
    {
     "name": "stderr",
     "output_type": "stream",
     "text": [
      "/opt/hostedtoolcache/Python/3.9.23/x64/lib/python3.9/site-packages/IPython/core/interactiveshell.py:3550: LatexWarning: Multiple tex files.\n",
      "\n",
      "  exec(code_obj, self.user_global_ns, self.user_ns)\n",
      "/opt/hostedtoolcache/Python/3.9.23/x64/lib/python3.9/site-packages/IPython/core/interactiveshell.py:3550: LatexWarning: Found documentclass in tmp_2510.09600/main.tex\n",
      "\n",
      "  exec(code_obj, self.user_global_ns, self.user_ns)\n"
     ]
    }
   ],
   "source": [
    "documents = []\n",
    "failed = []\n",
    "for paper in tqdm(candidates):\n",
    "    # debug crap\n",
    "    paper['identifier'] = paper['identifier'].lower().replace('arxiv:', '').replace(r'\\n', '').strip()\n",
    "    paper_id = paper['identifier']\n",
    "    \n",
    "    folder = f'tmp_{paper_id}'\n",
    "\n",
    "    try:\n",
    "        if not os.path.isdir(folder):\n",
    "            folder = retrieve_document_source(f\"{paper_id}\", f'tmp_{paper_id}')\n",
    "        \n",
    "        try:\n",
    "            doc = latex.LatexDocument(folder, validation=validation)    \n",
    "        except AffiliationError as affilerror:\n",
    "            msg = f\"ArXiv:{paper_id:s} is not an MPIA paper... \" + str(affilerror)\n",
    "            failed.append((paper, \"affiliation error: \" + str(affilerror) ))\n",
    "            continue\n",
    "        \n",
    "        # Hack because sometimes author parsing does not work well\n",
    "        if (len(doc.authors) != len(paper['authors'])):\n",
    "            doc._authors = paper['authors']\n",
    "        else:\n",
    "            # highlight authors (FIXME: doc.highlight_authors)\n",
    "            # done on arxiv paper already\n",
    "            doc._authors = highlight_authors_in_list(\n",
    "                [get_initials(k) for k in doc.authors], \n",
    "                mpia_authors, verbose=True)\n",
    "        if (doc.abstract) in (None, ''):\n",
    "            doc._abstract = paper['abstract']\n",
    "            \n",
    "        doc.comment = (get_markdown_badge(paper_id) + \n",
    "                       \"<mark>Appeared on: \" + paper['date'] + \"</mark> - \")\n",
    "        if paper['comments']:\n",
    "            doc.comment += \" _\" + paper['comments'] + \"_\"\n",
    "        \n",
    "        full_md = doc.generate_markdown_text()\n",
    "        \n",
    "        full_md += get_markdown_qrcode(paper_id)\n",
    "        \n",
    "        # replace citations\n",
    "        try:\n",
    "            bibdata = latex_bib.LatexBib.from_doc(doc)\n",
    "            full_md = latex_bib.replace_citations(full_md, bibdata)\n",
    "        except Exception as e:\n",
    "            print(\"Issues with the citations\")\n",
    "            print(e)\n",
    "        \n",
    "        documents.append((paper_id, full_md))\n",
    "    except Exception as e:\n",
    "        warnings.warn(latex.LatexWarning(f\"{paper_id:s} did not run properly\\n\" +\n",
    "                                         str(e)\n",
    "                                        ))\n",
    "        failed.append((paper, \"latex error \" + str(e)))"
   ]
  },
  {
   "cell_type": "markdown",
   "id": "2505a25c",
   "metadata": {
    "papermill": {
     "duration": 0.004013,
     "end_time": "2025-10-13T04:16:06.470912",
     "exception": false,
     "start_time": "2025-10-13T04:16:06.466899",
     "status": "completed"
    },
    "tags": []
   },
   "source": [
    "### Export the logs\n",
    "\n",
    "Throughout, we also keep track of the logs per paper. see `logs-{today date}.md` "
   ]
  },
  {
   "cell_type": "code",
   "execution_count": 6,
   "id": "d733828a",
   "metadata": {
    "execution": {
     "iopub.execute_input": "2025-10-13T04:16:06.479866Z",
     "iopub.status.busy": "2025-10-13T04:16:06.479580Z",
     "iopub.status.idle": "2025-10-13T04:16:06.495131Z",
     "shell.execute_reply": "2025-10-13T04:16:06.494458Z"
    },
    "papermill": {
     "duration": 0.021188,
     "end_time": "2025-10-13T04:16:06.496155",
     "exception": false,
     "start_time": "2025-10-13T04:16:06.474967",
     "status": "completed"
    },
    "scrolled": false,
    "tags": []
   },
   "outputs": [
    {
     "data": {
      "text/markdown": [
       "## Successful papers"
      ],
      "text/plain": [
       "<IPython.core.display.Markdown object>"
      ]
     },
     "metadata": {},
     "output_type": "display_data"
    },
    {
     "data": {
      "text/markdown": [
       "\n",
       "|||\n",
       "|---:|:---|\n",
       "| [![arXiv](https://img.shields.io/badge/arXiv-2510.08691-b31b1b.svg)](https://arxiv.org/abs/2510.08691) | **The ExoGRAVITY survey: a K-band spectral library of giant exoplanet and brown dwarf companions**  |\n",
       "|| J. Kammerer, et al. -- incl., <mark>T. Henning</mark>, <mark>M. Benisty</mark>, <mark>W. Brandner</mark>, <mark>G. Chauvin</mark>, <mark>P. Garcia</mark>, <mark>L. Kreidberg</mark>, <mark>P. Mollière</mark>, <mark>M. Samland</mark> |\n",
       "|*Appeared on*| *2025-10-13*|\n",
       "|*Comments*| *21 pages, 11 figures, accepted for publication in A&A*|\n",
       "|**Abstract**|            Direct observations of exoplanet and brown dwarf companions with near-infrared interferometry, first enabled by the dual-field mode of VLTI/GRAVITY, provide unique measurements of the objects' orbital motion and atmospheric composition. Here, we compile a homogeneous library of all exoplanet and brown dwarf K-band spectra observed by GRAVITY thus far. We re-reduce all available GRAVITY dual-field high-contrast data and, where companions are detected, extract their ~2.0-2.4 $\\mu$m K-band contrast spectra. We then derive stellar model atmospheres for all employed flux references that we use to convert the companion contrast into companion flux spectra. Solely from the resulting GRAVITY spectra, we extract spectral types, spectral indices, and bulk physical properties for all companions. Finally, and with the help of age constraints from the literature, we also derive isochronal masses for most companions using evolutionary models. The resulting library contains R ~ 500 GRAVITY spectra of 39 substellar companions from late M to late T spectral type, including the entire L-T transition. Throughout this transition, a shift from CO-dominated late M- and L-type dwarfs to CH4-dominated T-type dwarfs can be observed in the K-band. The GRAVITY spectra alone constrain the objects' bolometric luminosity to typically within $\\pm$0.15 dex. The derived isochronal masses agree with dynamical masses from the literature where available, except for HD 4113 c for which we confirm its previously reported potential underluminosity. Medium resolution spectroscopy of substellar companions with GRAVITY provides insight into the carbon chemistry and the cloudiness of these objects' atmospheres. It also constrains these objects' bolometric luminosity which can yield measurements of their formation entropy if combined with dynamical masses, for instance from Gaia and GRAVITY astrometry.         |"
      ],
      "text/plain": [
       "[2510.08691] The ExoGRAVITY survey: a K-band spectral library of giant exoplanet and brown dwarf companions\n",
       "\tJ. Kammerer, et al. -- incl., <mark>T. Henning</mark>, <mark>M. Benisty</mark>, <mark>W. Brandner</mark>, <mark>G. Chauvin</mark>, <mark>P. Garcia</mark>, <mark>L. Kreidberg</mark>, <mark>P. Mollière</mark>, <mark>M. Samland</mark>"
      ]
     },
     "metadata": {},
     "output_type": "display_data"
    },
    {
     "data": {
      "text/markdown": [
       "\n",
       "|||\n",
       "|---:|:---|\n",
       "| [![arXiv](https://img.shields.io/badge/arXiv-2510.09147-b31b1b.svg)](https://arxiv.org/abs/2510.09147) | **Euclid preparation. Cosmology Likelihood for Observables in Euclid (CLOE). 5. Extensions beyond the standard modelling of theoretical probes and systematic effects**  |\n",
       "|| E. Collaboration, et al. -- incl., <mark>K. Jahnke</mark> |\n",
       "|*Appeared on*| *2025-10-13*|\n",
       "|*Comments*| **|\n",
       "|**Abstract**|            Euclid is expected to establish new state-of-the-art constraints on extensions beyond the standard LCDM cosmological model by measuring the positions and shapes of billions of galaxies. Specifically, its goal is to shed light on the nature of dark matter and dark energy. Achieving this requires developing and validating advanced statistical tools and theoretical prediction software capable of testing extensions of the LCDM model. In this work, we describe how the Euclid likelihood pipeline, Cosmology Likelihood for Observables in Euclid (CLOE), has been extended to accommodate alternative cosmological models and to refine the theoretical modelling of Euclid primary probes. In particular, we detail modifications made to CLOE to incorporate the magnification bias term into the spectroscopic two-point correlation function of galaxy clustering. Additionally, we explain the adaptations made to CLOE's implementation of Euclid primary photometric probes to account for massive neutrinos and modified gravity extensions. Finally, we present the validation of these CLOE modifications through dedicated forecasts on synthetic Euclid-like data by sampling the full posterior distribution and comparing with the results of previous literature. In conclusion, we have identified in this work several functionalities with regards to beyond-LCDM modelling that could be further improved within CLOE, and outline potential research directions to enhance pipeline efficiency and flexibility through novel inference and machine learning techniques.         |"
      ],
      "text/plain": [
       "[2510.09147] Euclid preparation. Cosmology Likelihood for Observables in Euclid (CLOE). 5. Extensions beyond the standard modelling of theoretical probes and systematic effects\n",
       "\tE. Collaboration, et al. -- incl., <mark>K. Jahnke</mark>"
      ]
     },
     "metadata": {},
     "output_type": "display_data"
    },
    {
     "data": {
      "text/markdown": [
       "## Failed papers"
      ],
      "text/plain": [
       "<IPython.core.display.Markdown object>"
      ]
     },
     "metadata": {},
     "output_type": "display_data"
    },
    {
     "data": {
      "text/markdown": [
       "\n",
       "|||\n",
       "|---:|:---|\n",
       "| [![arXiv](https://img.shields.io/badge/arXiv-2510.08675-b31b1b.svg)](https://arxiv.org/abs/2510.08675) | **How precisely can we measure the ages of subgiant and giant stars?**  |\n",
       "|| C. Shariat, <mark>K. El-Badry</mark>, S. Bhattacharjee |\n",
       "|*Appeared on*| *2025-10-13*|\n",
       "|*Comments*| *5 pages, 1 figure. Submitted to PASP, comments are welcome*|\n",
       "|**Abstract**|            Precise stellar ages are fundamental to Galactic archaeology. However, obtaining reliable age estimates and uncertainties for field stars has been a long-standing challenge. We test the fidelity of ages from recent catalogs of giants and subgiants using wide binaries, whose components formed at the same time and thus should have consistent inferred ages. We find that subgiant ages based on spectroscopic metallicities from Xiang & Rix (2022) are generally consistent within their reported uncertainties, implying that fractional uncertainties of 5-10% are realistically achievable. In contrast, we find that published photometric subgiant ages and red giant ages underestimate true uncertainties by factors of 2-5. These results demonstrate that accurate metallicity and $\\alpha$-element abundances are essential for precise isochrone ages and establish wide binaries as a powerful, model-independent benchmark for calibrating stellar age measurements in the era of large spectroscopic surveys.         |\n",
       "|<p style=\"color:green\"> **ERROR** </p>| <p style=\"color:green\">affiliation error: mpia.affiliation_verifications: 'Heidelberg' keyword not found.</p> |"
      ],
      "text/plain": [
       "<IPython.core.display.Markdown object>"
      ]
     },
     "metadata": {},
     "output_type": "display_data"
    },
    {
     "data": {
      "text/markdown": [
       "\n",
       "|||\n",
       "|---:|:---|\n",
       "| [![arXiv](https://img.shields.io/badge/arXiv-2510.09046-b31b1b.svg)](https://arxiv.org/abs/2510.09046) | **A study of 80 known pulsars at 185 MHz using MWA incoherent drift-scan observations**  |\n",
       "|| T. Yu, et al. -- incl., <mark>Y. Wang</mark> |\n",
       "|*Appeared on*| *2025-10-13*|\n",
       "|*Comments*| *16 pages, 9 figures, accepted for publication in MNRAS*|\n",
       "|**Abstract**|            A systematic study of 80 known pulsars observed at 185 MHz has been conducted using archival incoherent-sum data from the Murchison Widefield Array (MWA). The dataset comprises 48 drift-scan observations from the MWA Voltage Capture System, covering approximately 30,000 square degrees of sky with sensitivities reaching about 8 mJy in the deepest regions. An optimized PRESTO-based search pipeline was deployed on the China SKA Regional Centre infrastructure. This enabled the detection of 80 known pulsars, representing a 60 percent increase over the previous census. Notably, this includes 30 pulsars with first-time detections at this frequency, of which pulse profiles and flux densities are presented. Spectral, scattering, and pulse-width properties were examined for the sample, providing observational constraints on low-frequency turnover, propagation effects, and width-period relations. This study highlights the value of wide-field, low-frequency time-domain surveys for constraining pulsar emission and propagation, offering empirical insights that may inform future observations with instruments such as SKA-Low.         |\n",
       "|<p style=\"color:green\"> **ERROR** </p>| <p style=\"color:green\">affiliation error: mpia.affiliation_verifications: 'Heidelberg' keyword not found.</p> |"
      ],
      "text/plain": [
       "<IPython.core.display.Markdown object>"
      ]
     },
     "metadata": {},
     "output_type": "display_data"
    },
    {
     "data": {
      "text/markdown": [
       "\n",
       "|||\n",
       "|---:|:---|\n",
       "| [![arXiv](https://img.shields.io/badge/arXiv-2510.09600-b31b1b.svg)](https://arxiv.org/abs/2510.09600) | **JWST Observations of SN 2024ggi II: NIRSpec Spectroscopy and CO Modeling at 285 and 385 Days Past the Explosion**  |\n",
       "|| T. Mera, et al. -- incl., <mark>J. Shi</mark> |\n",
       "|*Appeared on*| *2025-10-13*|\n",
       "|*Comments*| *ApJ (submitted)*|\n",
       "|**Abstract**|            We present James Webb Space Telescope (JWST) NIRSpec 1.7--5.5 micron observations of SN~2024ggi at +285.51 and +385.27 days post-explosion. The late-time nebular spectra are dominated by emission lines from various ionization states of H, Ca, Ar, C, Mg, Ni, Co, and Fe. We also detect strong CO emission in both the first overtone and fundamental vibrational bands. Most atomic features exhibit asymmetric line profiles, indicating an aspherical explosion. Using observed fluxes combined with non-LTE radiative-transfer simulations, we develop a data-driven method that resolves the complex molecular-emission region, constrains its 3D structure, and reproduces high-fidelity spectral profiles. We find that, CO is mostly formed prior to +285d past explosion. The subsequent evolution is dominated by the evaporation of CO with CO mass varying from M(CO) of 8.7E-3 to 1.3E-3 Mo, and with instabilities growing from almost homogeneous to highly clumped (density contrast f_c of 1.2 to 2). The minimum velocity of CO only slightly decreases between epochs (v_1 of 1200 and 1100 km/sec), with the reference temperature dropping from T_1 of 2400 and 1900K.         |\n",
       "|<p style=\"color:green\"> **ERROR** </p>| <p style=\"color:green\">affiliation error: mpia.affiliation_verifications: 'Heidelberg' keyword not found.</p> |"
      ],
      "text/plain": [
       "<IPython.core.display.Markdown object>"
      ]
     },
     "metadata": {},
     "output_type": "display_data"
    }
   ],
   "source": [
    "import datetime\n",
    "today = str(datetime.date.today())\n",
    "logfile = f\"_build/html/logs/log-{today}.md\"\n",
    "\n",
    "\n",
    "with open(logfile, 'w') as logs:\n",
    "    # Success\n",
    "    logs.write(f'# Arxiv on Deck 2: Logs - {today}\\n\\n')\n",
    "    logs.write(\"\"\"* Arxiv had {0:,d} new papers\\n\"\"\".format(len(new_papers)))\n",
    "    logs.write(\"\"\"    * {0:,d} with possible author matches\\n\\n\"\"\".format(len(candidates)))\n",
    "    logs.write(\"## Sucessful papers\\n\\n\")\n",
    "    display(Markdown(\"## Successful papers\"))\n",
    "    success = [k[0] for k in documents]\n",
    "    for candid in candidates:\n",
    "        if candid['identifier'].split(':')[-1] in success:\n",
    "            display(candid)\n",
    "            logs.write(candid.generate_markdown_text() + '\\n\\n')\n",
    "\n",
    "    ## failed\n",
    "    logs.write(\"## Failed papers\\n\\n\")\n",
    "    display(Markdown(\"## Failed papers\"))\n",
    "    failed = sorted(failed, key=lambda x: x[1])\n",
    "    current_reason = \"\"\n",
    "    for paper, reason in failed:\n",
    "        if 'affiliation' in reason:\n",
    "            color = 'green'\n",
    "        else:\n",
    "            color = 'red'\n",
    "        data = Markdown(\n",
    "                paper.generate_markdown_text() + \n",
    "                f'\\n|<p style=\"color:{color:s}\"> **ERROR** </p>| <p style=\"color:{color:s}\">{reason:s}</p> |'\n",
    "               )\n",
    "        if reason != current_reason:\n",
    "            logs.write(f'### {reason:s} \\n\\n')\n",
    "            current_reason = reason\n",
    "        logs.write(data.data + '\\n\\n')\n",
    "        \n",
    "        # only display here the important errors (all in logs)\n",
    "        # if color in ('red',):\n",
    "        display(data)"
   ]
  },
  {
   "cell_type": "markdown",
   "id": "472d20ee",
   "metadata": {
    "papermill": {
     "duration": 0.004628,
     "end_time": "2025-10-13T04:16:06.506069",
     "exception": false,
     "start_time": "2025-10-13T04:16:06.501441",
     "status": "completed"
    },
    "tags": []
   },
   "source": [
    "## Export documents\n",
    "\n",
    "We now write the .md files and export relevant images"
   ]
  },
  {
   "cell_type": "code",
   "execution_count": 7,
   "id": "d426aed9",
   "metadata": {
    "execution": {
     "iopub.execute_input": "2025-10-13T04:16:06.516181Z",
     "iopub.status.busy": "2025-10-13T04:16:06.515979Z",
     "iopub.status.idle": "2025-10-13T04:16:06.522977Z",
     "shell.execute_reply": "2025-10-13T04:16:06.522294Z"
    },
    "papermill": {
     "duration": 0.01331,
     "end_time": "2025-10-13T04:16:06.524073",
     "exception": false,
     "start_time": "2025-10-13T04:16:06.510763",
     "status": "completed"
    },
    "tags": []
   },
   "outputs": [],
   "source": [
    "def export_markdown_summary(md: str, md_fname:str, directory: str):\n",
    "    \"\"\"Export MD document and associated relevant images\"\"\"\n",
    "    import os\n",
    "    import shutil\n",
    "    import re\n",
    "\n",
    "    if (os.path.exists(directory) and not os.path.isdir(directory)):\n",
    "        raise RuntimeError(f\"a non-directory file exists with name {directory:s}\")\n",
    "\n",
    "    if (not os.path.exists(directory)):\n",
    "        print(f\"creating directory {directory:s}\")\n",
    "        os.mkdir(directory)\n",
    "\n",
    "    fig_fnames = (re.compile(r'\\[Fig.*\\]\\((.*)\\)').findall(md) + \n",
    "                  re.compile(r'\\<img src=\"([^>\\s]*)\"[^>]*/>').findall(md))\n",
    "    print(\"found figures\", fig_fnames)\n",
    "    for fname in fig_fnames:\n",
    "        if 'http' in fname:\n",
    "            # No need to copy online figures\n",
    "            continue\n",
    "        if not os.path.exists(fname):\n",
    "            print(\"file not found\", fname)\n",
    "            continue\n",
    "        print(\"copying \", fname, \"to\", directory)\n",
    "        destdir = os.path.join(directory, os.path.dirname(fname))\n",
    "        destfname = os.path.join(destdir, os.path.basename(fname))\n",
    "        try:\n",
    "            os.makedirs(destdir)\n",
    "        except FileExistsError:\n",
    "            pass\n",
    "        shutil.copy(fname, destfname)\n",
    "    with open(os.path.join(directory, md_fname), 'w') as fout:\n",
    "        fout.write(md)\n",
    "    print(\"exported in \", os.path.join(directory, md_fname))\n",
    "    [print(\"    + \" + os.path.join(directory,fk)) for fk in fig_fnames]"
   ]
  },
  {
   "cell_type": "code",
   "execution_count": 8,
   "id": "014d04a4",
   "metadata": {
    "execution": {
     "iopub.execute_input": "2025-10-13T04:16:06.534348Z",
     "iopub.status.busy": "2025-10-13T04:16:06.534156Z",
     "iopub.status.idle": "2025-10-13T04:16:06.542085Z",
     "shell.execute_reply": "2025-10-13T04:16:06.541414Z"
    },
    "papermill": {
     "duration": 0.014225,
     "end_time": "2025-10-13T04:16:06.543133",
     "exception": false,
     "start_time": "2025-10-13T04:16:06.528908",
     "status": "completed"
    },
    "tags": []
   },
   "outputs": [
    {
     "name": "stdout",
     "output_type": "stream",
     "text": [
      "found figures ['tmp_2510.08691/./figures/HD206505_b_all.png', 'tmp_2510.08691/./figures/gravity_233_zoom.png', 'tmp_2510.08691/./figures/all_combined_spectra_good_plain.png', 'tmp_2510.08691/./figures/evolutionary_models.png', 'tmp_2510.08691/./figures/mass_correlation.png']\n",
      "copying  tmp_2510.08691/./figures/HD206505_b_all.png to _build/html/\n",
      "copying  tmp_2510.08691/./figures/gravity_233_zoom.png to _build/html/\n",
      "copying  tmp_2510.08691/./figures/all_combined_spectra_good_plain.png to _build/html/\n",
      "copying  tmp_2510.08691/./figures/evolutionary_models.png to _build/html/\n",
      "copying  tmp_2510.08691/./figures/mass_correlation.png to _build/html/\n",
      "exported in  _build/html/2510.08691.md\n",
      "    + _build/html/tmp_2510.08691/./figures/HD206505_b_all.png\n",
      "    + _build/html/tmp_2510.08691/./figures/gravity_233_zoom.png\n",
      "    + _build/html/tmp_2510.08691/./figures/all_combined_spectra_good_plain.png\n",
      "    + _build/html/tmp_2510.08691/./figures/evolutionary_models.png\n",
      "    + _build/html/tmp_2510.08691/./figures/mass_correlation.png\n",
      "found figures []\n",
      "exported in  _build/html/2510.09147.md\n"
     ]
    }
   ],
   "source": [
    "for paper_id, md in documents:\n",
    "    export_markdown_summary(md, f\"{paper_id:s}.md\", '_build/html/')"
   ]
  },
  {
   "cell_type": "markdown",
   "id": "f087a0a7",
   "metadata": {
    "papermill": {
     "duration": 0.004755,
     "end_time": "2025-10-13T04:16:06.552777",
     "exception": false,
     "start_time": "2025-10-13T04:16:06.548022",
     "status": "completed"
    },
    "tags": []
   },
   "source": [
    "## Display the papers\n",
    "\n",
    "Not necessary but allows for a quick check."
   ]
  },
  {
   "cell_type": "code",
   "execution_count": 9,
   "id": "fd25f625",
   "metadata": {
    "execution": {
     "iopub.execute_input": "2025-10-13T04:16:06.563149Z",
     "iopub.status.busy": "2025-10-13T04:16:06.562945Z",
     "iopub.status.idle": "2025-10-13T04:16:06.568641Z",
     "shell.execute_reply": "2025-10-13T04:16:06.568126Z"
    },
    "papermill": {
     "duration": 0.012006,
     "end_time": "2025-10-13T04:16:06.569601",
     "exception": false,
     "start_time": "2025-10-13T04:16:06.557595",
     "status": "completed"
    },
    "scrolled": false,
    "tags": []
   },
   "outputs": [
    {
     "data": {
      "text/markdown": [
       "<div class=\"macros\" style=\"visibility:hidden;\">\n",
       "$\\newcommand{\\ensuremath}{}$\n",
       "$\\newcommand{\\xspace}{}$\n",
       "$\\newcommand{\\object}[1]{\\texttt{#1}}$\n",
       "$\\newcommand{\\farcs}{{.}''}$\n",
       "$\\newcommand{\\farcm}{{.}'}$\n",
       "$\\newcommand{\\arcsec}{''}$\n",
       "$\\newcommand{\\arcmin}{'}$\n",
       "$\\newcommand{\\ion}[2]{#1#2}$\n",
       "$\\newcommand{\\textsc}[1]{\\textrm{#1}}$\n",
       "$\\newcommand{\\hl}[1]{\\textrm{#1}}$\n",
       "$\\newcommand{\\footnote}[1]{}$\n",
       "$\\newcommand{\\micron}{\\text{\\textmu m}}$\n",
       "$\\newcommand{\\red}[1]{\\textcolor{black}{#1}}$</div>\n",
       "\n",
       "\n",
       "\n",
       "<div id=\"title\">\n",
       "\n",
       "# The ExoGRAVITY survey: a _K_-band spectral library of giant exoplanet and brown dwarf companions\n",
       "\n",
       "</div>\n",
       "<div id=\"comments\">\n",
       "\n",
       "[![arXiv](https://img.shields.io/badge/arXiv-2510.08691-b31b1b.svg)](https://arxiv.org/abs/2510.08691)<mark>Appeared on: 2025-10-13</mark> -  _21 pages, 11 figures, accepted for publication in A&A_\n",
       "\n",
       "</div>\n",
       "<div id=\"authors\">\n",
       "\n",
       "J. Kammerer, et al. -- incl., <mark>T. Henning</mark>, <mark>M. Benisty</mark>, <mark>W. Brandner</mark>, <mark>G. Chauvin</mark>, <mark>P. Garcia</mark>, <mark>L. Kreidberg</mark>, <mark>P. Mollière</mark>, <mark>M. Samland</mark>\n",
       "\n",
       "</div>\n",
       "<div id=\"abstract\">\n",
       "\n",
       "**Abstract:** Direct observations of exoplanet and brown dwarf companions with near-infrared interferometry, first enabled by the dual-field mode of VLTI/GRAVITY, provide unique measurements of the objects' orbital motion and atmospheric composition. Here, we compile a homogeneous library of all exoplanet and brown dwarf _K_ -band spectra observed by GRAVITY thus far. This ExoGRAVITY Spectral Library is made publicly available online. $\\red{We re-reduce all available GRAVITY dual-field high-contrast data in a uniform and highly automated way and, where companions are detected, extract their $\\sim2.0$--$2.4 \\micron$ _K_-band contrast spectra.}$ We then derive stellar model atmospheres for all employed flux references (either the host star or the swap calibrator) that we use to convert the companion contrast into companion flux spectra. Solely from the resulting GRAVITY _K_ -band flux spectra, we extract spectral types, spectral indices, and bulk physical properties for all companions. Finally, and with the help of age constraints from the literature, we also derive isochronal masses for most companions using evolutionary models. The resulting library contains $R \\sim 500$ GRAVITY _K_ -band spectra of 39 substellar companions from late M to late T spectral type, including the entire L-T transition. Throughout this transition, a shift from CO-dominated late M- and L-type dwarfs to CH $ _4$ -dominated T-type dwarfs can be observed in the _K_ -band. The GRAVITY spectra alone constrain the objects' bolometric luminosity to typically within $\\pm0.15$ dex. The derived isochronal masses agree with dynamical masses from the literature where available, except for HD 4113 c for which we confirm its previously reported potential underluminosity. Medium resolution spectroscopy of substellar companions with GRAVITY provides insight into the carbon chemistry and the cloudiness of these objects' atmospheres. It also constrains these objects' bolometric luminosity which can yield measurements of their formation entropy if combined with dynamical masses, for instance from Gaia and GRAVITY astrometry.\n",
       "\n",
       "</div>\n",
       "\n",
       "<div id=\"div_fig1\">\n",
       "\n",
       "<img src=\"tmp_2510.08691/./figures/HD206505_b_all.png\" alt=\"Fig1.1\" width=\"50%\"/><img src=\"tmp_2510.08691/./figures/gravity_233_zoom.png\" alt=\"Fig1.2\" width=\"50%\"/>\n",
       "\n",
       "**Figure 1. -** $\\red${Combination of the GRAVITY epochs of HD 206505 b after scaling them to bring them into mutual agreement.}_Top panel_: GRAVITY _K_-band flux spectra for each individual epoch. The $3\\sigma$ flux uncertainties are shown as shaded regions. The legend reveals that for this object, both observations were done in dual-field on-axis mode, with the companion located at an angular separation of $425$ mas from the host star. _Bottom panel_: Scaled GRAVITY flux spectra for each individual epoch and the resulting combined spectrum (black line). The legend reveals the scale factors applied to each epoch (values in brackets). (*fig:hd206505_b_all*)\n",
       "\n",
       "</div>\n",
       "<div id=\"div_fig2\">\n",
       "\n",
       "<img src=\"tmp_2510.08691/./figures/all_combined_spectra_good_plain.png\" alt=\"Fig6\" width=\"100%\"/>\n",
       "\n",
       "**Figure 6. -** GRAVITY _K_-band spectra at medium spectral resolution ($R \\sim 500$) of the 22 substellar companions with well-constrained spectral type, sorted from M-type (top) to T-type (bottom). The spectra are scaled with respect to each other by the ratio of the square root of their SNR and their mean flux, and they are offset along the y-axis so that their mean value is located at the height of their corresponding tick mark for better readability. The best fitting spectral type templates from the SpeX Prism Libraries are shown in gray with their corresponding _K1_-_K2_ extinction $E_K$ in units of magnitudes shown on the left. The SNR of each spectrum is shown on the right. (*fig:all_combined_spectra_good*)\n",
       "\n",
       "</div>\n",
       "<div id=\"div_fig3\">\n",
       "\n",
       "<img src=\"tmp_2510.08691/./figures/evolutionary_models.png\" alt=\"Fig8.1\" width=\"50%\"/><img src=\"tmp_2510.08691/./figures/mass_correlation.png\" alt=\"Fig8.2\" width=\"50%\"/>\n",
       "\n",
       "**Figure 8. -** _Left panel_: Sonora Diamondback hybrid gravity solar metallicity (\\citealp{morley2024}) and BHAC15 (\\citealp{baraffe2015}) cooling curves for substellar companions. The 37 objects from the ExoGRAVITY Spectral Library with age constraints available in the literature are shown by red points, and those with dynamical mass measurements have a black contour. Cooling curves for a few masses are highlighted in blue (1 m$\\text{M}_\\text{sol} = 1.048 \\text{M}_\\text{Jup}$). _Right panel_: Correlation between dynamical mass constraints from the literature and evolutionary mass constraints from GRAVITY. HD 984 b lies outside the shown mass range but is still consistent between its evolutionary and dynamical mass to within $2\\sigma$. (*fig:evolutionary_models*)\n",
       "\n",
       "</div><div id=\"qrcode\"><img src=https://api.qrserver.com/v1/create-qr-code/?size=100x100&data=\"https://arxiv.org/abs/2510.08691\"></div>"
      ],
      "text/plain": [
       "<IPython.core.display.Markdown object>"
      ]
     },
     "metadata": {},
     "output_type": "display_data"
    },
    {
     "data": {
      "text/markdown": [
       "<div class=\"macros\" style=\"visibility:hidden;\">\n",
       "$\\newcommand{\\ensuremath}{}$\n",
       "$\\newcommand{\\xspace}{}$\n",
       "$\\newcommand{\\object}[1]{\\texttt{#1}}$\n",
       "$\\newcommand{\\farcs}{{.}''}$\n",
       "$\\newcommand{\\farcm}{{.}'}$\n",
       "$\\newcommand{\\arcsec}{''}$\n",
       "$\\newcommand{\\arcmin}{'}$\n",
       "$\\newcommand{\\ion}[2]{#1#2}$\n",
       "$\\newcommand{\\textsc}[1]{\\textrm{#1}}$\n",
       "$\\newcommand{\\hl}[1]{\\textrm{#1}}$\n",
       "$\\newcommand{\\footnote}[1]{}$\n",
       "$\\newcommand{\\kpnu}{EP\\nu\\xspace}$\n",
       "$\\newcommand{\\dnnu}{\\ensuremath{\\Delta N_\\mathrm{eff}}\\xspace}$\n",
       "$\\newcommand{\\pcb}{P_\\mathrm{cb}}$\n",
       "$\\newcommand{\\pmm}{P_\\mathrm{m}}$\n",
       "$\\newcommand{\\threetimestwo}{3\\texttimes2pt\\xspace}$\n",
       "$\\newcommand{\\MyRed}{\\color[rgb]{0.57, 0.0, 0.04}}$\n",
       "$\\newcommand{\\arn}[1]{{\\color[rgb]{1,0.5,0}#1}}$\n",
       "$\\newcommand{\\arc}[1]{{\\color[rgb]{1,0.5,0}{\\sf[Ahmad: #1]}}}$\n",
       "$\\newcommand{\\ars}[2]{{\\color[rgb]{1,0.5,0}{\\sout{#1}{#2}}}}$\n",
       "$\\newcommand{\\sefa}[1]{\\textcolor{lime}{#1}}$\n",
       "$\\newcommand{\\sefout}[1]{\\sefa{\\sout{#1}}}$\n",
       "$\\newcommand{\\sefaok}{\\sefa{[\\textbf{SP}:\\surd]}}$\n",
       "$\\newcommand{\\benb}[1]{\\textcolor{darkb}{#1}}$\n",
       "$\\newcommand{\\fsorr}[1]{{\\color{magenta}{\\sf[FS: #1]}}}$\n",
       "$\\newcommand{\\fsort}[1]{{\\color{magenta}{#1}}}$\n",
       "$\\newcommand{\\fkeil}[1]{\\textcolor{teal}{#1}}$\n",
       "$\\newcommand{\\santi}[1]{{\\color{orange}{\\sf[Santi: #1]}}}$\n",
       "$\\newcommand{\\cloe}{\\texttt{CLOE}\\xspace}$\n",
       "$\\newcommand{\\orcid}[1]$\n",
       "$\\newcommand{\\arraystretch}{1.5}$\n",
       "$\\newcommand\\fraC{#1}$\n",
       "$\\newcommand\\fra{#1}$\n",
       "$\\newcommand\\fraRem{#1}$\n",
       "$\\newcommand\\benbc{#1}$\n",
       "$\\newcommand\\mmt{#1}$\n",
       "$\\newcommand\\mmc{#1}$\n",
       "$\\newcommand\\gfa{#1}$\n",
       "$\\newcommand\\gch{#1}$\n",
       "$\\newcommand\\ZSt{#1}$\n",
       "$\\newcommand\\ZSc{#1}$\n",
       "$\\newcommand\\etc{#1}$\n",
       "$\\newcommand\\et{#1}$\n",
       "$\\newcommand\\itt{#1}$\n",
       "$\\newcommand\\itc{#1}$</div>\n",
       "\n",
       "\n",
       "\n",
       "<div id=\"title\">\n",
       "\n",
       "# $\\Euclid$ preparation: Cosmology Likelihood for Observables in Euclid (CLOE). 5. Extensions beyond the standard modelling of theoretical probes and systematic effects\n",
       "\n",
       "</div>\n",
       "<div id=\"comments\">\n",
       "\n",
       "[![arXiv](https://img.shields.io/badge/arXiv-2510.09147-b31b1b.svg)](https://arxiv.org/abs/2510.09147)<mark>Appeared on: 2025-10-13</mark> - \n",
       "\n",
       "</div>\n",
       "<div id=\"authors\">\n",
       "\n",
       "E. Collaboration, et al. -- incl., <mark>K. Jahnke</mark>\n",
       "\n",
       "</div>\n",
       "<div id=\"abstract\">\n",
       "\n",
       "**Abstract:** $\\Euclid$ is expected to establish new state-of-the-art constraints on extensions beyond the standard $\\LCDM$ cosmological model by measuring the positions and shapes of billions of galaxies. Specifically, its goal is to shed light on the nature of dark matter and dark energy. Achieving this requires developing and validating advanced statistical tools and theoretical prediction software capable of testing extensions of the $\\LCDM$ model. In this work, we describe how the $\\Euclid$ likelihood pipeline, Cosmology Likelihood for Observables in Euclid ( $\\cloe$ ), has been extended to accommodate alternative cosmological models and to refine the theoretical modelling of $\\Euclid$ primary probes. In particular, we detail modifications made to $\\cloe$ to incorporate the magnification bias term into the spectroscopic two-point correlation function of galaxy clustering. Additionally, we explain the adaptations made to $\\cloe$ 's implementation of $\\Euclid$ primary photometric probes to account for massive neutrinos and modified gravity extensions. Finally, we present the validation of these $\\cloe$ modifications through dedicated forecasts on synthetic $\\Euclid$ -like data by sampling the full posterior distribution and comparing with the results of previous literature. In conclusion, we have identified in this work several functionalities with regards to beyond- $\\LCDM$ modelling that could be further improved within $\\cloe$ , and outline potential research directions to enhance pipeline efficiency and flexibility through novel inference and machine learning techniques.\n",
       "\n",
       "</div>\n",
       "\n",
       "<div id=\"qrcode\"><img src=https://api.qrserver.com/v1/create-qr-code/?size=100x100&data=\"https://arxiv.org/abs/2510.09147\"></div>"
      ],
      "text/plain": [
       "<IPython.core.display.Markdown object>"
      ]
     },
     "metadata": {},
     "output_type": "display_data"
    }
   ],
   "source": [
    "[display(Markdown(k[1])) for k in documents];"
   ]
  },
  {
   "cell_type": "markdown",
   "id": "873873a4",
   "metadata": {
    "papermill": {
     "duration": 0.005043,
     "end_time": "2025-10-13T04:16:06.580003",
     "exception": false,
     "start_time": "2025-10-13T04:16:06.574960",
     "status": "completed"
    },
    "tags": []
   },
   "source": [
    "# Create HTML index"
   ]
  },
  {
   "cell_type": "code",
   "execution_count": 10,
   "id": "cf665672",
   "metadata": {
    "execution": {
     "iopub.execute_input": "2025-10-13T04:16:06.591055Z",
     "iopub.status.busy": "2025-10-13T04:16:06.590834Z",
     "iopub.status.idle": "2025-10-13T04:16:06.597793Z",
     "shell.execute_reply": "2025-10-13T04:16:06.597162Z"
    },
    "papermill": {
     "duration": 0.013597,
     "end_time": "2025-10-13T04:16:06.598786",
     "exception": false,
     "start_time": "2025-10-13T04:16:06.585189",
     "status": "completed"
    },
    "tags": []
   },
   "outputs": [
    {
     "name": "stdout",
     "output_type": "stream",
     "text": [
      "125  publications files modified in the last 7 days.\n"
     ]
    }
   ],
   "source": [
    "from datetime import datetime, timedelta, timezone\n",
    "from glob import glob\n",
    "import os\n",
    "\n",
    "files = glob('_build/html/*.md')\n",
    "days = 7\n",
    "now = datetime.today()\n",
    "res = []\n",
    "for fk in files:\n",
    "    stat_result = os.stat(fk).st_ctime\n",
    "    modified = datetime.fromtimestamp(stat_result, tz=timezone.utc).replace(tzinfo=None)\n",
    "    delta = now.today() - modified\n",
    "    if delta <= timedelta(days=days):\n",
    "        res.append((delta.seconds, fk))\n",
    "res = [k[1] for k in reversed(sorted(res, key=lambda x:x[1]))]\n",
    "npub = len(res)\n",
    "print(len(res), f\" publications files modified in the last {days:d} days.\")\n",
    "# [ print('\\t', k) for k in res ];"
   ]
  },
  {
   "cell_type": "code",
   "execution_count": 11,
   "id": "015de740",
   "metadata": {
    "execution": {
     "iopub.execute_input": "2025-10-13T04:16:06.609994Z",
     "iopub.status.busy": "2025-10-13T04:16:06.609808Z",
     "iopub.status.idle": "2025-10-13T04:16:06.621441Z",
     "shell.execute_reply": "2025-10-13T04:16:06.620891Z"
    },
    "papermill": {
     "duration": 0.018402,
     "end_time": "2025-10-13T04:16:06.622430",
     "exception": false,
     "start_time": "2025-10-13T04:16:06.604028",
     "status": "completed"
    },
    "tags": []
   },
   "outputs": [
    {
     "name": "stdout",
     "output_type": "stream",
     "text": [
      "11  publications in the last 7 days.\n"
     ]
    }
   ],
   "source": [
    "import datetime\n",
    "from glob import glob\n",
    "\n",
    "def get_last_n_days(lst, days=1):\n",
    "    \"\"\" Get the documents from the last n days \"\"\"\n",
    "    sorted_lst = sorted(lst, key=lambda x: x[1], reverse=True)\n",
    "    for fname, date in sorted_lst:\n",
    "        if date >= str(datetime.date.today() - datetime.timedelta(days=days)):\n",
    "            yield fname\n",
    "\n",
    "def extract_appearance_dates(lst_file):\n",
    "    dates = []\n",
    "\n",
    "    def get_date(line):\n",
    "        return line\\\n",
    "            .split('Appeared on:')[-1]\\\n",
    "            .split('</mark>')[0].strip()\n",
    "\n",
    "    for fname in lst:\n",
    "        with open(fname, 'r') as f:\n",
    "            found_date = False\n",
    "            for line in f:\n",
    "                if not found_date:\n",
    "                    if \"Appeared on\" in line:\n",
    "                        found_date = True\n",
    "                        dates.append((fname, get_date(line)))\n",
    "                else:\n",
    "                    break\n",
    "    return dates\n",
    "\n",
    "from glob import glob\n",
    "lst = glob('_build/html/*md')\n",
    "days = 7\n",
    "dates = extract_appearance_dates(lst)\n",
    "res = list(get_last_n_days(dates, days))\n",
    "npub = len(res)\n",
    "print(len(res), f\" publications in the last {days:d} days.\")"
   ]
  },
  {
   "cell_type": "code",
   "execution_count": 12,
   "id": "52ca0208",
   "metadata": {
    "execution": {
     "iopub.execute_input": "2025-10-13T04:16:06.633859Z",
     "iopub.status.busy": "2025-10-13T04:16:06.633627Z",
     "iopub.status.idle": "2025-10-13T04:16:06.638416Z",
     "shell.execute_reply": "2025-10-13T04:16:06.637758Z"
    },
    "papermill": {
     "duration": 0.0116,
     "end_time": "2025-10-13T04:16:06.639458",
     "exception": false,
     "start_time": "2025-10-13T04:16:06.627858",
     "status": "completed"
    },
    "scrolled": false,
    "tags": []
   },
   "outputs": [],
   "source": [
    "def create_carousel(npub=4):\n",
    "    \"\"\" Generate the HTML code for a carousel with `npub` slides \"\"\"\n",
    "    carousel = [\"\"\"  <div class=\"carousel\" \"\"\",\n",
    "                \"\"\"       data-flickity='{ \"autoPlay\": 10000, \"adaptiveHeight\": true, \"resize\": true, \"wrapAround\": true, \"pauseAutoPlayOnHover\": true, \"groupCells\": 1 }' id=\"asyncTypeset\">\"\"\"\n",
    "                ]\n",
    "    \n",
    "    item_str = \"\"\"    <div class=\"carousel-cell\"> <div id=\"slide{k}\" class=\"md_view\">Content {k}</div> </div>\"\"\"\n",
    "    for k in range(1, npub + 1):\n",
    "        carousel.append(item_str.format(k=k))\n",
    "    carousel.append(\"  </div>\")\n",
    "    return '\\n'.join(carousel)\n",
    "\n",
    "def create_grid(npub=4):\n",
    "    \"\"\" Generate the HTML code for a flat grid with `npub` slides \"\"\"\n",
    "    grid = [\"\"\"  <div class=\"grid\"> \"\"\",\n",
    "                ]\n",
    "    \n",
    "    item_str = \"\"\"    <div class=\"grid-item\"> <div id=\"slide{k}\" class=\"md_view\">Content {k}</div> </div>\"\"\"\n",
    "    for k in range(1, npub + 1):\n",
    "        grid.append(item_str.format(k=k))\n",
    "    grid.append(\"  </div>\")\n",
    "    return '\\n'.join(grid)"
   ]
  },
  {
   "cell_type": "code",
   "execution_count": 13,
   "id": "a6eac5b6",
   "metadata": {
    "execution": {
     "iopub.execute_input": "2025-10-13T04:16:06.650717Z",
     "iopub.status.busy": "2025-10-13T04:16:06.650511Z",
     "iopub.status.idle": "2025-10-13T04:16:06.655350Z",
     "shell.execute_reply": "2025-10-13T04:16:06.654836Z"
    },
    "papermill": {
     "duration": 0.01151,
     "end_time": "2025-10-13T04:16:06.656295",
     "exception": false,
     "start_time": "2025-10-13T04:16:06.644785",
     "status": "completed"
    },
    "scrolled": false,
    "tags": []
   },
   "outputs": [],
   "source": [
    "carousel = create_carousel(npub)\n",
    "docs = ', '.join(['\"{0:s}\"'.format(k.split('/')[-1]) for k in res])\n",
    "slides = ', '.join([f'\"slide{k}\"' for k in range(1, npub + 1)])\n",
    "\n",
    "with open(\"daily_template.html\", \"r\") as tpl:\n",
    "    page = tpl.read()\n",
    "    page = page.replace(\"{%-- carousel:s --%}\", carousel)\\\n",
    "               .replace(\"{%-- suptitle:s --%}\",  \"7-day archives\" )\\\n",
    "               .replace(\"{%-- docs:s --%}\", docs)\\\n",
    "               .replace(\"{%-- slides:s --%}\", slides)\n",
    "    \n",
    "with open(\"_build/html/index_7days.html\", 'w') as fout:\n",
    "    fout.write(page)"
   ]
  },
  {
   "cell_type": "code",
   "execution_count": 14,
   "id": "adc1a1ec",
   "metadata": {
    "execution": {
     "iopub.execute_input": "2025-10-13T04:16:06.667892Z",
     "iopub.status.busy": "2025-10-13T04:16:06.667633Z",
     "iopub.status.idle": "2025-10-13T04:16:06.673998Z",
     "shell.execute_reply": "2025-10-13T04:16:06.673330Z"
    },
    "papermill": {
     "duration": 0.013251,
     "end_time": "2025-10-13T04:16:06.675041",
     "exception": false,
     "start_time": "2025-10-13T04:16:06.661790",
     "status": "completed"
    },
    "tags": []
   },
   "outputs": [
    {
     "name": "stdout",
     "output_type": "stream",
     "text": [
      "2  publications in the last day.\n"
     ]
    }
   ],
   "source": [
    "# redo for today\n",
    "days = 1\n",
    "res = list(get_last_n_days(dates, days))\n",
    "npub = len(res)\n",
    "print(len(res), f\" publications in the last day.\")\n",
    "\n",
    "carousel = create_carousel(npub)\n",
    "docs = ', '.join(['\"{0:s}\"'.format(k.split('/')[-1]) for k in res])\n",
    "slides = ', '.join([f'\"slide{k}\"' for k in range(1, npub + 1)])\n",
    "\n",
    "with open(\"daily_template.html\", \"r\") as tpl:\n",
    "    page = tpl.read()\n",
    "    page = page.replace(\"{%-- carousel:s --%}\", carousel)\\\n",
    "               .replace(\"{%-- suptitle:s --%}\",  \"Daily\" )\\\n",
    "               .replace(\"{%-- docs:s --%}\", docs)\\\n",
    "               .replace(\"{%-- slides:s --%}\", slides)\n",
    "    \n",
    "# print(carousel, docs, slides)\n",
    "# print(page)\n",
    "with open(\"_build/html/index_daily.html\", 'w') as fout:\n",
    "    fout.write(page)"
   ]
  },
  {
   "cell_type": "code",
   "execution_count": 15,
   "id": "00eece82",
   "metadata": {
    "execution": {
     "iopub.execute_input": "2025-10-13T04:16:06.686747Z",
     "iopub.status.busy": "2025-10-13T04:16:06.686537Z",
     "iopub.status.idle": "2025-10-13T04:16:06.692684Z",
     "shell.execute_reply": "2025-10-13T04:16:06.692051Z"
    },
    "papermill": {
     "duration": 0.013015,
     "end_time": "2025-10-13T04:16:06.693631",
     "exception": false,
     "start_time": "2025-10-13T04:16:06.680616",
     "status": "completed"
    },
    "scrolled": false,
    "tags": []
   },
   "outputs": [
    {
     "name": "stdout",
     "output_type": "stream",
     "text": [
      "6  6 publications selected.\n"
     ]
    }
   ],
   "source": [
    "# Create the flat grid of the last N papers (fixed number regardless of dates)\n",
    "from itertools import islice \n",
    "\n",
    "npub = 6\n",
    "res = [k[0] for k in (islice(reversed(sorted(dates, key=lambda x: x[1])), 6))]\n",
    "print(len(res), f\" {npub} publications selected.\")\n",
    "\n",
    "grid = create_grid(npub)\n",
    "docs = ', '.join(['\"{0:s}\"'.format(k.split('/')[-1]) for k in res])\n",
    "slides = ', '.join([f'\"slide{k}\"' for k in range(1, npub + 1)])\n",
    "\n",
    "with open(\"grid_template.html\", \"r\") as tpl:\n",
    "    page = tpl.read()\n",
    "    page = page.replace(\"{%-- grid-content:s --%}\", grid)\\\n",
    "               .replace(\"{%-- suptitle:s --%}\",  f\"Last {npub:,d} papers\" )\\\n",
    "               .replace(\"{%-- docs:s --%}\", docs)\\\n",
    "               .replace(\"{%-- slides:s --%}\", slides)\n",
    "    \n",
    "# print(grid, docs, slides)\n",
    "# print(page)\n",
    "with open(\"_build/html/index_npub_grid.html\", 'w') as fout:\n",
    "    fout.write(page)"
   ]
  }
 ],
 "metadata": {
  "kernelspec": {
   "display_name": "Python 3 (ipykernel)",
   "language": "python",
   "name": "python3"
  },
  "language_info": {
   "codemirror_mode": {
    "name": "ipython",
    "version": 3
   },
   "file_extension": ".py",
   "mimetype": "text/x-python",
   "name": "python",
   "nbconvert_exporter": "python",
   "pygments_lexer": "ipython3",
   "version": "3.9.23"
  },
  "papermill": {
   "default_parameters": {},
   "duration": 76.794464,
   "end_time": "2025-10-13T04:16:07.015909",
   "environment_variables": {},
   "exception": null,
   "input_path": "MPIA daily digest.ipynb",
   "output_path": "log.ipynb",
   "parameters": {},
   "start_time": "2025-10-13T04:14:50.221445",
   "version": "2.6.0"
  },
  "vscode": {
   "interpreter": {
    "hash": "aee8b7b246df8f9039afb4144a1f6fd8d2ca17a180786b69acc140d282b71a49"
   }
  },
  "widgets": {
   "application/vnd.jupyter.widget-state+json": {
    "state": {
     "107df140b89348b8953f2e3e9afe813d": {
      "model_module": "@jupyter-widgets/controls",
      "model_module_version": "2.0.0",
      "model_name": "HTMLStyleModel",
      "state": {
       "_model_module": "@jupyter-widgets/controls",
       "_model_module_version": "2.0.0",
       "_model_name": "HTMLStyleModel",
       "_view_count": null,
       "_view_module": "@jupyter-widgets/base",
       "_view_module_version": "2.0.0",
       "_view_name": "StyleView",
       "background": null,
       "description_width": "",
       "font_size": null,
       "text_color": null
      }
     },
     "472bcd1a639b4190ac897794b5140fa3": {
      "model_module": "@jupyter-widgets/base",
      "model_module_version": "2.0.0",
      "model_name": "LayoutModel",
      "state": {
       "_model_module": "@jupyter-widgets/base",
       "_model_module_version": "2.0.0",
       "_model_name": "LayoutModel",
       "_view_count": null,
       "_view_module": "@jupyter-widgets/base",
       "_view_module_version": "2.0.0",
       "_view_name": "LayoutView",
       "align_content": null,
       "align_items": null,
       "align_self": null,
       "border_bottom": null,
       "border_left": null,
       "border_right": null,
       "border_top": null,
       "bottom": null,
       "display": null,
       "flex": null,
       "flex_flow": null,
       "grid_area": null,
       "grid_auto_columns": null,
       "grid_auto_flow": null,
       "grid_auto_rows": null,
       "grid_column": null,
       "grid_gap": null,
       "grid_row": null,
       "grid_template_areas": null,
       "grid_template_columns": null,
       "grid_template_rows": null,
       "height": null,
       "justify_content": null,
       "justify_items": null,
       "left": null,
       "margin": null,
       "max_height": null,
       "max_width": null,
       "min_height": null,
       "min_width": null,
       "object_fit": null,
       "object_position": null,
       "order": null,
       "overflow": null,
       "padding": null,
       "right": null,
       "top": null,
       "visibility": null,
       "width": null
      }
     },
     "54b59a40aafb48699c5ea1399da35eae": {
      "model_module": "@jupyter-widgets/controls",
      "model_module_version": "2.0.0",
      "model_name": "HTMLModel",
      "state": {
       "_dom_classes": [],
       "_model_module": "@jupyter-widgets/controls",
       "_model_module_version": "2.0.0",
       "_model_name": "HTMLModel",
       "_view_count": null,
       "_view_module": "@jupyter-widgets/controls",
       "_view_module_version": "2.0.0",
       "_view_name": "HTMLView",
       "description": "",
       "description_allow_html": false,
       "layout": "IPY_MODEL_472bcd1a639b4190ac897794b5140fa3",
       "placeholder": "​",
       "style": "IPY_MODEL_107df140b89348b8953f2e3e9afe813d",
       "tabbable": null,
       "tooltip": null,
       "value": " 5/5 [00:53&lt;00:00, 13.64s/it]"
      }
     },
     "566d2f26de034519867ab3b8e75bb8d9": {
      "model_module": "@jupyter-widgets/controls",
      "model_module_version": "2.0.0",
      "model_name": "HTMLModel",
      "state": {
       "_dom_classes": [],
       "_model_module": "@jupyter-widgets/controls",
       "_model_module_version": "2.0.0",
       "_model_name": "HTMLModel",
       "_view_count": null,
       "_view_module": "@jupyter-widgets/controls",
       "_view_module_version": "2.0.0",
       "_view_name": "HTMLView",
       "description": "",
       "description_allow_html": false,
       "layout": "IPY_MODEL_bdec8184ffcd471e8d6f8f8f7d2d2eec",
       "placeholder": "​",
       "style": "IPY_MODEL_ed3a0e45d32e44c3bd152b3b87c65e3c",
       "tabbable": null,
       "tooltip": null,
       "value": "100%"
      }
     },
     "6e44536b45654148b5ba81d3b8f5139a": {
      "model_module": "@jupyter-widgets/base",
      "model_module_version": "2.0.0",
      "model_name": "LayoutModel",
      "state": {
       "_model_module": "@jupyter-widgets/base",
       "_model_module_version": "2.0.0",
       "_model_name": "LayoutModel",
       "_view_count": null,
       "_view_module": "@jupyter-widgets/base",
       "_view_module_version": "2.0.0",
       "_view_name": "LayoutView",
       "align_content": null,
       "align_items": null,
       "align_self": null,
       "border_bottom": null,
       "border_left": null,
       "border_right": null,
       "border_top": null,
       "bottom": null,
       "display": null,
       "flex": null,
       "flex_flow": null,
       "grid_area": null,
       "grid_auto_columns": null,
       "grid_auto_flow": null,
       "grid_auto_rows": null,
       "grid_column": null,
       "grid_gap": null,
       "grid_row": null,
       "grid_template_areas": null,
       "grid_template_columns": null,
       "grid_template_rows": null,
       "height": null,
       "justify_content": null,
       "justify_items": null,
       "left": null,
       "margin": null,
       "max_height": null,
       "max_width": null,
       "min_height": null,
       "min_width": null,
       "object_fit": null,
       "object_position": null,
       "order": null,
       "overflow": null,
       "padding": null,
       "right": null,
       "top": null,
       "visibility": null,
       "width": null
      }
     },
     "86e1651063bb47e9b9649ceb61fc0f43": {
      "model_module": "@jupyter-widgets/controls",
      "model_module_version": "2.0.0",
      "model_name": "ProgressStyleModel",
      "state": {
       "_model_module": "@jupyter-widgets/controls",
       "_model_module_version": "2.0.0",
       "_model_name": "ProgressStyleModel",
       "_view_count": null,
       "_view_module": "@jupyter-widgets/base",
       "_view_module_version": "2.0.0",
       "_view_name": "StyleView",
       "bar_color": null,
       "description_width": ""
      }
     },
     "a17fccddd71e45668a8ab4947cf40ac5": {
      "model_module": "@jupyter-widgets/controls",
      "model_module_version": "2.0.0",
      "model_name": "HBoxModel",
      "state": {
       "_dom_classes": [],
       "_model_module": "@jupyter-widgets/controls",
       "_model_module_version": "2.0.0",
       "_model_name": "HBoxModel",
       "_view_count": null,
       "_view_module": "@jupyter-widgets/controls",
       "_view_module_version": "2.0.0",
       "_view_name": "HBoxView",
       "box_style": "",
       "children": [
        "IPY_MODEL_566d2f26de034519867ab3b8e75bb8d9",
        "IPY_MODEL_e151e9f4f3d74852b316638182909171",
        "IPY_MODEL_54b59a40aafb48699c5ea1399da35eae"
       ],
       "layout": "IPY_MODEL_f517416a6d5146249255837ed9b0016b",
       "tabbable": null,
       "tooltip": null
      }
     },
     "bdec8184ffcd471e8d6f8f8f7d2d2eec": {
      "model_module": "@jupyter-widgets/base",
      "model_module_version": "2.0.0",
      "model_name": "LayoutModel",
      "state": {
       "_model_module": "@jupyter-widgets/base",
       "_model_module_version": "2.0.0",
       "_model_name": "LayoutModel",
       "_view_count": null,
       "_view_module": "@jupyter-widgets/base",
       "_view_module_version": "2.0.0",
       "_view_name": "LayoutView",
       "align_content": null,
       "align_items": null,
       "align_self": null,
       "border_bottom": null,
       "border_left": null,
       "border_right": null,
       "border_top": null,
       "bottom": null,
       "display": null,
       "flex": null,
       "flex_flow": null,
       "grid_area": null,
       "grid_auto_columns": null,
       "grid_auto_flow": null,
       "grid_auto_rows": null,
       "grid_column": null,
       "grid_gap": null,
       "grid_row": null,
       "grid_template_areas": null,
       "grid_template_columns": null,
       "grid_template_rows": null,
       "height": null,
       "justify_content": null,
       "justify_items": null,
       "left": null,
       "margin": null,
       "max_height": null,
       "max_width": null,
       "min_height": null,
       "min_width": null,
       "object_fit": null,
       "object_position": null,
       "order": null,
       "overflow": null,
       "padding": null,
       "right": null,
       "top": null,
       "visibility": null,
       "width": null
      }
     },
     "e151e9f4f3d74852b316638182909171": {
      "model_module": "@jupyter-widgets/controls",
      "model_module_version": "2.0.0",
      "model_name": "FloatProgressModel",
      "state": {
       "_dom_classes": [],
       "_model_module": "@jupyter-widgets/controls",
       "_model_module_version": "2.0.0",
       "_model_name": "FloatProgressModel",
       "_view_count": null,
       "_view_module": "@jupyter-widgets/controls",
       "_view_module_version": "2.0.0",
       "_view_name": "ProgressView",
       "bar_style": "success",
       "description": "",
       "description_allow_html": false,
       "layout": "IPY_MODEL_6e44536b45654148b5ba81d3b8f5139a",
       "max": 5.0,
       "min": 0.0,
       "orientation": "horizontal",
       "style": "IPY_MODEL_86e1651063bb47e9b9649ceb61fc0f43",
       "tabbable": null,
       "tooltip": null,
       "value": 5.0
      }
     },
     "ed3a0e45d32e44c3bd152b3b87c65e3c": {
      "model_module": "@jupyter-widgets/controls",
      "model_module_version": "2.0.0",
      "model_name": "HTMLStyleModel",
      "state": {
       "_model_module": "@jupyter-widgets/controls",
       "_model_module_version": "2.0.0",
       "_model_name": "HTMLStyleModel",
       "_view_count": null,
       "_view_module": "@jupyter-widgets/base",
       "_view_module_version": "2.0.0",
       "_view_name": "StyleView",
       "background": null,
       "description_width": "",
       "font_size": null,
       "text_color": null
      }
     },
     "f517416a6d5146249255837ed9b0016b": {
      "model_module": "@jupyter-widgets/base",
      "model_module_version": "2.0.0",
      "model_name": "LayoutModel",
      "state": {
       "_model_module": "@jupyter-widgets/base",
       "_model_module_version": "2.0.0",
       "_model_name": "LayoutModel",
       "_view_count": null,
       "_view_module": "@jupyter-widgets/base",
       "_view_module_version": "2.0.0",
       "_view_name": "LayoutView",
       "align_content": null,
       "align_items": null,
       "align_self": null,
       "border_bottom": null,
       "border_left": null,
       "border_right": null,
       "border_top": null,
       "bottom": null,
       "display": null,
       "flex": null,
       "flex_flow": null,
       "grid_area": null,
       "grid_auto_columns": null,
       "grid_auto_flow": null,
       "grid_auto_rows": null,
       "grid_column": null,
       "grid_gap": null,
       "grid_row": null,
       "grid_template_areas": null,
       "grid_template_columns": null,
       "grid_template_rows": null,
       "height": null,
       "justify_content": null,
       "justify_items": null,
       "left": null,
       "margin": null,
       "max_height": null,
       "max_width": null,
       "min_height": null,
       "min_width": null,
       "object_fit": null,
       "object_position": null,
       "order": null,
       "overflow": null,
       "padding": null,
       "right": null,
       "top": null,
       "visibility": null,
       "width": null
      }
     }
    },
    "version_major": 2,
    "version_minor": 0
   }
  }
 },
 "nbformat": 4,
 "nbformat_minor": 5
}