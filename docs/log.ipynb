{
 "cells": [
  {
   "cell_type": "markdown",
   "id": "92bcb855",
   "metadata": {
    "papermill": {
     "duration": 0.005248,
     "end_time": "2024-02-19T04:08:18.690251",
     "exception": false,
     "start_time": "2024-02-19T04:08:18.685003",
     "status": "completed"
    },
    "tags": []
   },
   "source": [
    "# MPIA Arxiv on Deck 2\n",
    "\n",
    "Contains the steps to produce the paper extractions."
   ]
  },
  {
   "cell_type": "code",
   "execution_count": 1,
   "id": "3a0d6e11",
   "metadata": {
    "execution": {
     "iopub.execute_input": "2024-02-19T04:08:18.698204Z",
     "iopub.status.busy": "2024-02-19T04:08:18.697582Z",
     "iopub.status.idle": "2024-02-19T04:08:19.079202Z",
     "shell.execute_reply": "2024-02-19T04:08:19.078533Z"
    },
    "papermill": {
     "duration": 0.387563,
     "end_time": "2024-02-19T04:08:19.081034",
     "exception": false,
     "start_time": "2024-02-19T04:08:18.693471",
     "status": "completed"
    },
    "tags": []
   },
   "outputs": [],
   "source": [
    "# Imports\n",
    "import os\n",
    "from IPython.display import Markdown, display\n",
    "from tqdm.notebook import tqdm\n",
    "import warnings\n",
    "from PIL import Image \n",
    "\n",
    "# requires arxiv_on_deck_2\n",
    "\n",
    "from arxiv_on_deck_2.arxiv2 import (get_new_papers, \n",
    "                                    get_paper_from_identifier,\n",
    "                                    retrieve_document_source, \n",
    "                                    get_markdown_badge)\n",
    "from arxiv_on_deck_2 import (latex,\n",
    "                             latex_bib,\n",
    "                             mpia,\n",
    "                             highlight_authors_in_list)\n",
    "\n",
    "# Sometimes images are really big\n",
    "Image.MAX_IMAGE_PIXELS = 1000000000 "
   ]
  },
  {
   "cell_type": "code",
   "execution_count": 2,
   "id": "22aa9d44",
   "metadata": {
    "execution": {
     "iopub.execute_input": "2024-02-19T04:08:19.089150Z",
     "iopub.status.busy": "2024-02-19T04:08:19.088436Z",
     "iopub.status.idle": "2024-02-19T04:08:19.094038Z",
     "shell.execute_reply": "2024-02-19T04:08:19.093362Z"
    },
    "papermill": {
     "duration": 0.011204,
     "end_time": "2024-02-19T04:08:19.095394",
     "exception": false,
     "start_time": "2024-02-19T04:08:19.084190",
     "status": "completed"
    },
    "tags": []
   },
   "outputs": [],
   "source": [
    "# Some useful definitions.\n",
    "\n",
    "class AffiliationWarning(UserWarning):\n",
    "    pass\n",
    "\n",
    "class AffiliationError(RuntimeError):\n",
    "    pass\n",
    "\n",
    "def validation(source: str):\n",
    "    \"\"\"Raises error paper during parsing of source file\n",
    "    \n",
    "    Allows checks before parsing TeX code.\n",
    "    \n",
    "    Raises AffiliationWarning\n",
    "    \"\"\"\n",
    "    check = mpia.affiliation_verifications(source, verbose=True)\n",
    "    if check is not True:\n",
    "        raise AffiliationError(\"mpia.affiliation_verifications: \" + check)\n",
    "\n",
    "        \n",
    "warnings.simplefilter('always', AffiliationWarning)\n",
    "\n",
    "\n",
    "def get_markdown_qrcode(paper_id: str):\n",
    "    \"\"\" Generate a qrcode to the arxiv page using qrserver.com\n",
    "    \n",
    "    :param paper: Arxiv paper\n",
    "    :returns: markdown text\n",
    "    \"\"\"\n",
    "    url = r\"https://api.qrserver.com/v1/create-qr-code/?size=100x100&data=\"\n",
    "    txt = f\"\"\"<img src={url}\"https://arxiv.org/abs/{paper_id}\">\"\"\"\n",
    "    txt = '<div id=\"qrcode\">' + txt + '</div>'\n",
    "    return txt"
   ]
  },
  {
   "cell_type": "markdown",
   "id": "14bd6310",
   "metadata": {
    "papermill": {
     "duration": 0.002826,
     "end_time": "2024-02-19T04:08:19.101250",
     "exception": false,
     "start_time": "2024-02-19T04:08:19.098424",
     "status": "completed"
    },
    "tags": []
   },
   "source": [
    "## get list of arxiv paper candidates\n",
    "\n",
    "We use the MPIA mitarbeiter list webpage from mpia.de to get author names\n",
    "We then get all new papers from Arxiv and match authors"
   ]
  },
  {
   "cell_type": "code",
   "execution_count": 3,
   "id": "2645e73a",
   "metadata": {
    "execution": {
     "iopub.execute_input": "2024-02-19T04:08:19.108904Z",
     "iopub.status.busy": "2024-02-19T04:08:19.108266Z",
     "iopub.status.idle": "2024-02-19T04:08:36.818444Z",
     "shell.execute_reply": "2024-02-19T04:08:36.817673Z"
    },
    "papermill": {
     "duration": 17.715732,
     "end_time": "2024-02-19T04:08:36.819883",
     "exception": false,
     "start_time": "2024-02-19T04:08:19.104151",
     "status": "completed"
    },
    "tags": []
   },
   "outputs": [
    {
     "name": "stdout",
     "output_type": "stream",
     "text": [
      "E. Schinnerer  ->  E. Schinnerer  |  ['E. Schinnerer']\n",
      "C. Larkin  ->  C. Larkin  |  ['C. Larkin']\n",
      "J. Li  ->  J. Li  |  ['J. Li']\n",
      "Arxiv has 50 new papers today\n",
      "          3 with possible author matches\n"
     ]
    }
   ],
   "source": [
    "# get list from MPIA website\n",
    "# it automatically filters identified non-scientists :func:`mpia.filter_non_scientists`\n",
    "mpia_authors = mpia.get_mpia_mitarbeiter_list()\n",
    "normed_mpia_authors = [k[1] for k in mpia_authors]   # initials + fullname\n",
    "new_papers = get_new_papers()\n",
    "# add manual references\n",
    "add_paper_refs = []\n",
    "new_papers.extend([get_paper_from_identifier(k) for k in add_paper_refs])\n",
    "\n",
    "candidates = []\n",
    "for paperk in new_papers:\n",
    "    # Check author list with their initials\n",
    "    normed_author_list = [mpia.get_initials(k) for k in paperk['authors']]\n",
    "    hl_authors = highlight_authors_in_list(normed_author_list, normed_mpia_authors, verbose=True)\n",
    "    matches = [(hl, orig) for hl, orig in zip(hl_authors, paperk['authors']) if 'mark' in hl]\n",
    "    paperk['authors'] = hl_authors\n",
    "    if matches:\n",
    "        # only select paper if an author matched our list\n",
    "        candidates.append(paperk)\n",
    "print(\"\"\"Arxiv has {0:,d} new papers today\"\"\".format(len(new_papers)))        \n",
    "print(\"\"\"          {0:,d} with possible author matches\"\"\".format(len(candidates)))"
   ]
  },
  {
   "cell_type": "markdown",
   "id": "3543b34a",
   "metadata": {
    "papermill": {
     "duration": 0.00312,
     "end_time": "2024-02-19T04:08:36.826291",
     "exception": false,
     "start_time": "2024-02-19T04:08:36.823171",
     "status": "completed"
    },
    "tags": []
   },
   "source": [
    "# Parse sources and generate relevant outputs\n",
    "\n",
    "From the candidates, we do the following steps:\n",
    "* get their tarball from ArXiv (and extract data)\n",
    "* find the main .tex file: find one with \\documentclass{...} (sometimes it's non trivial)\n",
    "* Check affiliations with :func:`validation`, which uses :func:`mpia.affiliation_verifications`\n",
    "* If passing the affiliations: we parse the .tex source\n",
    "   * inject sub-documents into the main (flatten the main document)\n",
    "   * parse structure, extract information (title, abstract, authors, figures...)\n",
    "   * handles `\\graphicspath` if provided\n",
    "* Generate the .md document."
   ]
  },
  {
   "cell_type": "code",
   "execution_count": 4,
   "id": "9576b79e",
   "metadata": {
    "execution": {
     "iopub.execute_input": "2024-02-19T04:08:36.833902Z",
     "iopub.status.busy": "2024-02-19T04:08:36.833283Z",
     "iopub.status.idle": "2024-02-19T04:09:11.352223Z",
     "shell.execute_reply": "2024-02-19T04:09:11.351177Z"
    },
    "papermill": {
     "duration": 34.52505,
     "end_time": "2024-02-19T04:09:11.354263",
     "exception": false,
     "start_time": "2024-02-19T04:08:36.829213",
     "status": "completed"
    },
    "scrolled": false,
    "tags": []
   },
   "outputs": [
    {
     "data": {
      "application/vnd.jupyter.widget-view+json": {
       "model_id": "dccc5d5a33ea4b72a34eaeba4d0cec11",
       "version_major": 2,
       "version_minor": 0
      },
      "text/plain": [
       "  0%|          | 0/3 [00:00<?, ?it/s]"
      ]
     },
     "metadata": {},
     "output_type": "display_data"
    },
    {
     "name": "stdout",
     "output_type": "stream",
     "text": [
      "Retrieving document from  https://arxiv.org/e-print/2402.10270\n"
     ]
    },
    {
     "name": "stdout",
     "output_type": "stream",
     "text": [
      "extracting tarball to tmp_2402.10270..."
     ]
    },
    {
     "name": "stdout",
     "output_type": "stream",
     "text": [
      " done.\n"
     ]
    },
    {
     "name": "stdout",
     "output_type": "stream",
     "text": [
      "E. Schinnerer  ->  E. Schinnerer  |  ['E. Schinnerer']\n"
     ]
    },
    {
     "name": "stdout",
     "output_type": "stream",
     "text": [
      "Found 87 bibliographic references in tmp_2402.10270/sample631.bbl.\n",
      "syntax error in line 431: '=' expected\n",
      "Retrieving document from  https://arxiv.org/e-print/2402.10337\n"
     ]
    },
    {
     "name": "stdout",
     "output_type": "stream",
     "text": [
      "extracting tarball to tmp_2402.10337..."
     ]
    },
    {
     "name": "stdout",
     "output_type": "stream",
     "text": [
      " done.\n",
      "Retrieving document from  https://arxiv.org/e-print/2402.10431\n"
     ]
    },
    {
     "name": "stdout",
     "output_type": "stream",
     "text": [
      "extracting tarball to tmp_2402.10431..."
     ]
    },
    {
     "name": "stdout",
     "output_type": "stream",
     "text": [
      " done.\n"
     ]
    }
   ],
   "source": [
    "documents = []\n",
    "failed = []\n",
    "for paper in tqdm(candidates):\n",
    "    paper_id = paper['identifier'].lower().replace('arxiv:', '')\n",
    "    \n",
    "    folder = f'tmp_{paper_id}'\n",
    "\n",
    "    try:\n",
    "        if not os.path.isdir(folder):\n",
    "            folder = retrieve_document_source(f\"{paper_id}\", f'tmp_{paper_id}')\n",
    "        \n",
    "        try:\n",
    "            doc = latex.LatexDocument(folder, validation=validation)    \n",
    "        except AffiliationError as affilerror:\n",
    "            msg = f\"ArXiv:{paper_id:s} is not an MPIA paper... \" + str(affilerror)\n",
    "            failed.append((paper, \"affiliation error: \" + str(affilerror) ))\n",
    "            continue\n",
    "        \n",
    "        # Hack because sometimes author parsing does not work well\n",
    "        if (len(doc.authors) != len(paper['authors'])):\n",
    "            doc._authors = paper['authors']\n",
    "        else:\n",
    "            # highlight authors (FIXME: doc.highlight_authors)\n",
    "            # done on arxiv paper already\n",
    "            doc._authors = highlight_authors_in_list(\n",
    "                [mpia.get_initials(k) for k in doc.authors], \n",
    "                normed_mpia_authors, verbose=True)\n",
    "        if (doc.abstract) in (None, ''):\n",
    "            doc._abstract = paper['abstract']\n",
    "            \n",
    "        doc.comment = (get_markdown_badge(paper_id) + \n",
    "                       \"<mark>Appeared on: \" + paper['date'] + \"</mark> - \")\n",
    "        if paper['comments']:\n",
    "            doc.comment += \" _\" + paper['comments'] + \"_\"\n",
    "        \n",
    "        full_md = doc.generate_markdown_text()\n",
    "        \n",
    "        full_md += get_markdown_qrcode(paper_id)\n",
    "        \n",
    "        # replace citations\n",
    "        try:\n",
    "            bibdata = latex_bib.LatexBib.from_doc(doc)\n",
    "            full_md = latex_bib.replace_citations(full_md, bibdata)\n",
    "        except Exception as e:\n",
    "            print(e)\n",
    "        \n",
    "        documents.append((paper_id, full_md))\n",
    "    except Exception as e:\n",
    "        warnings.warn(latex.LatexWarning(f\"{paper_id:s} did not run properly\\n\" +\n",
    "                                         str(e)\n",
    "                                        ))\n",
    "        failed.append((paper, \"latex error \" + str(e)))"
   ]
  },
  {
   "cell_type": "markdown",
   "id": "2505a25c",
   "metadata": {
    "papermill": {
     "duration": 0.003752,
     "end_time": "2024-02-19T04:09:11.361961",
     "exception": false,
     "start_time": "2024-02-19T04:09:11.358209",
     "status": "completed"
    },
    "tags": []
   },
   "source": [
    "### Export the logs\n",
    "\n",
    "Throughout, we also keep track of the logs per paper. see `logs-{today date}.md` "
   ]
  },
  {
   "cell_type": "code",
   "execution_count": 5,
   "id": "d733828a",
   "metadata": {
    "execution": {
     "iopub.execute_input": "2024-02-19T04:09:11.370704Z",
     "iopub.status.busy": "2024-02-19T04:09:11.370074Z",
     "iopub.status.idle": "2024-02-19T04:09:11.383444Z",
     "shell.execute_reply": "2024-02-19T04:09:11.382802Z"
    },
    "papermill": {
     "duration": 0.019402,
     "end_time": "2024-02-19T04:09:11.384872",
     "exception": false,
     "start_time": "2024-02-19T04:09:11.365470",
     "status": "completed"
    },
    "scrolled": false,
    "tags": []
   },
   "outputs": [
    {
     "data": {
      "text/markdown": [
       "## Successful papers"
      ],
      "text/plain": [
       "<IPython.core.display.Markdown object>"
      ]
     },
     "metadata": {},
     "output_type": "display_data"
    },
    {
     "data": {
      "text/markdown": [
       "\n",
       "|||\n",
       "|---:|:---|\n",
       "| [![arXiv](https://img.shields.io/badge/arXiv-arXiv:2402.10270-b31b1b.svg)](https://arxiv.org/abs/arXiv:2402.10270) | **CLusters in the Uv as EngineS (CLUES). II. Sub-kpc scale outflows driven  by stellar feedback**  |\n",
       "|| M. Sirressi, et al. -- incl., <mark>E. Schinnerer</mark> |\n",
       "|*Appeared on*| *2024-02-19*|\n",
       "|*Comments*| *Accepted for publication on the Astronomical Journal on 14th February 2024. 32 pages, 13 figures*|\n",
       "|**Abstract**| We analyze the far-ultraviolet spectroscopy of 20 young and massive star clusters (YSCs) in 11 nearby star-forming galaxies. We probe the interstellar gas intervening along the line of sight, detecting several metal absorption lines of a wide range of ionization potentials, from 6.0 eV to 77.5 eV. Multiple-component Voigt fits to the absorption lines are used to study the kinematics of the gas. We find that nearly all targets in the sample feature gas outflowing from 30 up to 190 km per second, often both in the neutral and ionized phase. The outflow velocities correlate with the underlying stellar population properties directly linked to the feedback: the mass of the YSCs, the photon production rate and the instantaneous mechanical luminosity produced by stellar winds and SNe. We detect a neutral inflow in 4 targets, which we interpret as likely not associated with the star cluster but tracing larger scale gas kinematics. A comparison between the outflows energy and that produced by the associated young stellar populations suggests an average coupling efficiency of 10 per cent with a broad scatter. Our results extend the relation found in previous works between galactic outflows and the host galaxy star-formation rate to smaller scales, pointing towards the key role that clustered star formation and feedback play in regulating galaxy growth. |"
      ],
      "text/plain": [
       "[arXiv:2402.10270] CLusters in the Uv as EngineS (CLUES). II. Sub-kpc scale outflows driven  by stellar feedback\n",
       "\tM. Sirressi, et al. -- incl., <mark>E. Schinnerer</mark>"
      ]
     },
     "metadata": {},
     "output_type": "display_data"
    },
    {
     "data": {
      "text/markdown": [
       "## Failed papers"
      ],
      "text/plain": [
       "<IPython.core.display.Markdown object>"
      ]
     },
     "metadata": {},
     "output_type": "display_data"
    },
    {
     "data": {
      "text/markdown": [
       "\n",
       "|||\n",
       "|---:|:---|\n",
       "| [![arXiv](https://img.shields.io/badge/arXiv-arXiv:2402.10337-b31b1b.svg)](https://arxiv.org/abs/arXiv:2402.10337) | **LoVoCCS -- II. Weak Lensing Mass Distributions, Red-Sequence Galaxy  Distributions, and Their Alignment with the Brightest Cluster Galaxy in 58  Nearby X-ray-Luminous Galaxy Clusters**  |\n",
       "|| S. Fu, et al. -- incl., <mark>C. Larkin</mark> |\n",
       "|*Appeared on*| *2024-02-19*|\n",
       "|*Comments*| *40 pages, 16 figures, 5 tables. Submitted to ApJ. Comments are welcome and appreciated*|\n",
       "|**Abstract**| The Local Volume Complete Cluster Survey (LoVoCCS) is an on-going program to observe nearly a hundred low-redshift X-ray-luminous galaxy clusters (redshifts $0.03<z<0.12$ and X-ray luminosities in the 0.1-2.4 keV band $L_{X500c}>10^{44}$ erg/s) with the Dark Energy Camera (DECam), capturing data in $u,g,r,i,z$ bands with a $5\\sigma$ point source depth of approximately 25-26th AB magnitudes. Here, we map the aperture masses in 58 galaxy cluster fields using weak gravitational lensing. These clusters span a variety of dynamical states, from nearly relaxed to merging systems, and approximately half of them have not been subject to detailed weak lensing analysis before. In each cluster field, we analyze the alignment between the 2D mass distribution described by the aperture mass map, the 2D red-sequence (RS) galaxy distribution, and the brightest cluster galaxy (BCG). We find that the orientations of the BCG and the RS distribution are strongly aligned throughout the interiors of the clusters: the median misalignment angle is 19 deg within 2 Mpc. We also observe the alignment between the orientations of the RS distribution and the overall cluster mass distribution (by a median difference of 32 deg within 1 Mpc), although this is constrained by galaxy shape noise and the limitations of our cluster sample size. These types of alignment suggest long-term dynamical evolution within the clusters over cosmic timescales. |\n",
       "|<p style=\"color:green\"> **ERROR** </p>| <p style=\"color:green\">affiliation error: mpia.affiliation_verifications: '69117' keyword not found.</p> |"
      ],
      "text/plain": [
       "<IPython.core.display.Markdown object>"
      ]
     },
     "metadata": {},
     "output_type": "display_data"
    },
    {
     "data": {
      "text/markdown": [
       "\n",
       "|||\n",
       "|---:|:---|\n",
       "| [![arXiv](https://img.shields.io/badge/arXiv-arXiv:2402.10431-b31b1b.svg)](https://arxiv.org/abs/arXiv:2402.10431) | **Spatial Variations of Dust Opacity and Grain Growth in Dark Clouds:  L1689, L1709 and L1712**  |\n",
       "|| <mark>J. Li</mark>, et al. |\n",
       "|*Appeared on*| *2024-02-19*|\n",
       "|*Comments*| *Accepted for publication in ApJ (16 pages, 8 figures, 3 tables)*|\n",
       "|**Abstract**| The far-infrared (FIR) opacity of dust in dark clouds within the Ophiuchus molecular cloud is investigated through multi-wavelength infrared observations from UKIDSS, Spitzer and Herschel. Employing the infrared color excess technique with both near-infrared (NIR) and mid-infrared (MIR) photometric data, a high-resolution extinction map in the $K$ band ($A_K$) is constructed for three dark clouds: L1689, L1709, and L1712. The derived extinction map has a resolution of $1'$ and reaches a depth of $A_K\\sim3$ mag. The FIR optical depths $\\tau_{250}$ at a reference wavelength of $250\\,\\rm \\mu m$ are obtained by fitting the Herschel PACS and SPIRE continuum data at 100, 160, 250, 350 and 500 $\\rm \\mu m$ using a modified blackbody model. The average dust opacity per unit gas mass at $250\\rm \\mu m$, $r\\kappa_{250}$ is determined through a pixel-by-pixel correlation of $\\tau_{250}$ with $A_K$, yielding a value of approximately $0.09\\,\\rm cm^2\\,g^{-1}$, which is about 2-3 times higher than the typical value in the diffuse interstellar medium (ISM). Additionally, an independent analysis across 16 sub-regions within the Ophiuchus cloud indicates spatial variations in dust opacity, with values ranging from 0.07-0.12$\\,\\rm cm^2\\,g^{-1}$. Although the observed trend of increasing dust opacity with higher extinction implies grain growth, our findings indicate that rapid grain growth clearly not yet occurred in the dark clouds studied in this work. |\n",
       "|<p style=\"color:green\"> **ERROR** </p>| <p style=\"color:green\">affiliation error: mpia.affiliation_verifications: 'Heidelberg' keyword not found.</p> |"
      ],
      "text/plain": [
       "<IPython.core.display.Markdown object>"
      ]
     },
     "metadata": {},
     "output_type": "display_data"
    }
   ],
   "source": [
    "import datetime\n",
    "today = str(datetime.date.today())\n",
    "logfile = f\"_build/html/logs/log-{today}.md\"\n",
    "\n",
    "\n",
    "with open(logfile, 'w') as logs:\n",
    "    # Success\n",
    "    logs.write(f'# Arxiv on Deck 2: Logs - {today}\\n\\n')\n",
    "    logs.write(\"\"\"* Arxiv had {0:,d} new papers\\n\"\"\".format(len(new_papers)))\n",
    "    logs.write(\"\"\"    * {0:,d} with possible author matches\\n\\n\"\"\".format(len(candidates)))\n",
    "    logs.write(\"## Sucessful papers\\n\\n\")\n",
    "    display(Markdown(\"## Successful papers\"))\n",
    "    success = [k[0] for k in documents]\n",
    "    for candid in candidates:\n",
    "        if candid['identifier'].split(':')[-1] in success:\n",
    "            display(candid)\n",
    "            logs.write(candid.generate_markdown_text() + '\\n\\n')\n",
    "\n",
    "    ## failed\n",
    "    logs.write(\"## Failed papers\\n\\n\")\n",
    "    display(Markdown(\"## Failed papers\"))\n",
    "    failed = sorted(failed, key=lambda x: x[1])\n",
    "    current_reason = \"\"\n",
    "    for paper, reason in failed:\n",
    "        if 'affiliation' in reason:\n",
    "            color = 'green'\n",
    "        else:\n",
    "            color = 'red'\n",
    "        data = Markdown(\n",
    "                paper.generate_markdown_text() + \n",
    "                f'\\n|<p style=\"color:{color:s}\"> **ERROR** </p>| <p style=\"color:{color:s}\">{reason:s}</p> |'\n",
    "               )\n",
    "        if reason != current_reason:\n",
    "            logs.write(f'### {reason:s} \\n\\n')\n",
    "            current_reason = reason\n",
    "        logs.write(data.data + '\\n\\n')\n",
    "        \n",
    "        # only display here the important errors (all in logs)\n",
    "        # if color in ('red',):\n",
    "        display(data)"
   ]
  },
  {
   "cell_type": "markdown",
   "id": "472d20ee",
   "metadata": {
    "papermill": {
     "duration": 0.004206,
     "end_time": "2024-02-19T04:09:11.393407",
     "exception": false,
     "start_time": "2024-02-19T04:09:11.389201",
     "status": "completed"
    },
    "tags": []
   },
   "source": [
    "## Export documents\n",
    "\n",
    "We now write the .md files and export relevant images"
   ]
  },
  {
   "cell_type": "code",
   "execution_count": 6,
   "id": "d426aed9",
   "metadata": {
    "execution": {
     "iopub.execute_input": "2024-02-19T04:09:11.403248Z",
     "iopub.status.busy": "2024-02-19T04:09:11.402721Z",
     "iopub.status.idle": "2024-02-19T04:09:11.409718Z",
     "shell.execute_reply": "2024-02-19T04:09:11.408940Z"
    },
    "papermill": {
     "duration": 0.013683,
     "end_time": "2024-02-19T04:09:11.411207",
     "exception": false,
     "start_time": "2024-02-19T04:09:11.397524",
     "status": "completed"
    },
    "tags": []
   },
   "outputs": [],
   "source": [
    "def export_markdown_summary(md: str, md_fname:str, directory: str):\n",
    "    \"\"\"Export MD document and associated relevant images\"\"\"\n",
    "    import os\n",
    "    import shutil\n",
    "    import re\n",
    "\n",
    "    if (os.path.exists(directory) and not os.path.isdir(directory)):\n",
    "        raise RuntimeError(f\"a non-directory file exists with name {directory:s}\")\n",
    "\n",
    "    if (not os.path.exists(directory)):\n",
    "        print(f\"creating directory {directory:s}\")\n",
    "        os.mkdir(directory)\n",
    "\n",
    "    fig_fnames = (re.compile(r'\\[Fig.*\\]\\((.*)\\)').findall(md) + \n",
    "                  re.compile(r'\\<img src=\"([^>\\s]*)\"[^>]*/>').findall(md))\n",
    "    for fname in fig_fnames:\n",
    "        if 'http' in fname:\n",
    "            # No need to copy online figures\n",
    "            continue\n",
    "        destdir = os.path.join(directory, os.path.dirname(fname))\n",
    "        destfname = os.path.join(destdir, os.path.basename(fname))\n",
    "        try:\n",
    "            os.makedirs(destdir)\n",
    "        except FileExistsError:\n",
    "            pass\n",
    "        shutil.copy(fname, destfname)\n",
    "    with open(os.path.join(directory, md_fname), 'w') as fout:\n",
    "        fout.write(md)\n",
    "    print(\"exported in \", os.path.join(directory, md_fname))\n",
    "    [print(\"    + \" + os.path.join(directory,fk)) for fk in fig_fnames]"
   ]
  },
  {
   "cell_type": "code",
   "execution_count": 7,
   "id": "014d04a4",
   "metadata": {
    "execution": {
     "iopub.execute_input": "2024-02-19T04:09:11.421335Z",
     "iopub.status.busy": "2024-02-19T04:09:11.420669Z",
     "iopub.status.idle": "2024-02-19T04:09:11.429172Z",
     "shell.execute_reply": "2024-02-19T04:09:11.428547Z"
    },
    "papermill": {
     "duration": 0.014989,
     "end_time": "2024-02-19T04:09:11.430485",
     "exception": false,
     "start_time": "2024-02-19T04:09:11.415496",
     "status": "completed"
    },
    "tags": []
   },
   "outputs": [
    {
     "name": "stdout",
     "output_type": "stream",
     "text": [
      "exported in  _build/html/2402.10270.md\n",
      "    + _build/html/tmp_2402.10270/./figures/SFR_vel_relations.png\n",
      "    + _build/html/tmp_2402.10270/./figures/correlations_wAge_holl.png\n",
      "    + _build/html/tmp_2402.10270/./figures/voigtfit.png\n"
     ]
    }
   ],
   "source": [
    "for paper_id, md in documents:\n",
    "    export_markdown_summary(md, f\"{paper_id:s}.md\", '_build/html/')"
   ]
  },
  {
   "cell_type": "markdown",
   "id": "f087a0a7",
   "metadata": {
    "papermill": {
     "duration": 0.003996,
     "end_time": "2024-02-19T04:09:11.438746",
     "exception": false,
     "start_time": "2024-02-19T04:09:11.434750",
     "status": "completed"
    },
    "tags": []
   },
   "source": [
    "## Display the papers\n",
    "\n",
    "Not necessary but allows for a quick check."
   ]
  },
  {
   "cell_type": "code",
   "execution_count": 8,
   "id": "fd25f625",
   "metadata": {
    "execution": {
     "iopub.execute_input": "2024-02-19T04:09:11.448456Z",
     "iopub.status.busy": "2024-02-19T04:09:11.447888Z",
     "iopub.status.idle": "2024-02-19T04:09:11.453312Z",
     "shell.execute_reply": "2024-02-19T04:09:11.452665Z"
    },
    "papermill": {
     "duration": 0.011822,
     "end_time": "2024-02-19T04:09:11.454638",
     "exception": false,
     "start_time": "2024-02-19T04:09:11.442816",
     "status": "completed"
    },
    "scrolled": false,
    "tags": []
   },
   "outputs": [
    {
     "data": {
      "text/markdown": [
       "<div class=\"macros\" style=\"visibility:hidden;\">\n",
       "$\\newcommand{\\ensuremath}{}$\n",
       "$\\newcommand{\\xspace}{}$\n",
       "$\\newcommand{\\object}[1]{\\texttt{#1}}$\n",
       "$\\newcommand{\\farcs}{{.}''}$\n",
       "$\\newcommand{\\farcm}{{.}'}$\n",
       "$\\newcommand{\\arcsec}{''}$\n",
       "$\\newcommand{\\arcmin}{'}$\n",
       "$\\newcommand{\\ion}[2]{#1#2}$\n",
       "$\\newcommand{\\textsc}[1]{\\textrm{#1}}$\n",
       "$\\newcommand{\\hl}[1]{\\textrm{#1}}$\n",
       "$\\newcommand{\\footnote}[1]{}$\n",
       "$\\newcommand{\\vdag}{(v)^\\dagger}$\n",
       "$\\newcommand$\n",
       "$\\newcommand$\n",
       "$\\newcommand{\\HI}{\\mbox{H~{\\sc i}}}$\n",
       "$\\newcommand{\\HII}{\\mbox{H~{\\sc ii}}}$\n",
       "$\\newcommand{\\AlII}{\\mbox{Al~{\\sc ii}}}$\n",
       "$\\newcommand{\\SiIII}{\\mbox{Si~{\\sc iii}}}$\n",
       "$\\newcommand{\\SiII}{\\mbox{Si~{\\sc ii}}}$\n",
       "$\\newcommand{\\SII}{\\mbox{S~{\\sc ii}}}$\n",
       "$\\newcommand{\\CII}{\\mbox{C~{\\sc ii}}}$\n",
       "$\\newcommand{\\CIII}{\\mbox{C~{\\sc iii}}}$\n",
       "$\\newcommand{\\SiIV}{\\mbox{Si~{\\sc iv}}}$\n",
       "$\\newcommand{\\CIV}{\\mbox{C~{\\sc iv}}}$\n",
       "$\\newcommand{\\NII}{\\mbox{N~{\\sc ii}}}$\n",
       "$\\newcommand{\\NV}{\\mbox{N~{\\sc v}}}$\n",
       "$\\newcommand{\\SV}{\\mbox{S~{\\sc v}}}$\n",
       "$\\newcommand{\\msun}{\\hbox{M_\\odot}}$</div>\n",
       "\n",
       "\n",
       "\n",
       "<div id=\"title\">\n",
       "\n",
       "# CLusters in the Uv as EngineS (CLUES). II. Sub-kpc scale outflows driven by stellar feedback\n",
       "\n",
       "</div>\n",
       "<div id=\"comments\">\n",
       "\n",
       "[![arXiv](https://img.shields.io/badge/arXiv-2402.10270-b31b1b.svg)](https://arxiv.org/abs/2402.10270)<mark>Appeared on: 2024-02-19</mark> -  _Accepted for publication on the Astronomical Journal on 14th February 2024. 32 pages, 13 figures_\n",
       "\n",
       "</div>\n",
       "<div id=\"authors\">\n",
       "\n",
       "M. Sirressi, et al. -- incl., <mark>E. Schinnerer</mark>\n",
       "\n",
       "</div>\n",
       "<div id=\"abstract\">\n",
       "\n",
       "**Abstract:** We analyze the far-ultraviolet (FUV, 1130 $\\rm Å$ to 1770 $\\rm Å$ restframe) spectroscopy of 20 young ( $<$ 50 Myr) and massive ( $>10^4$ $\\msun$ ) star clusters (YSCs) in 11 nearby star-forming galaxies. We probe the interstellar gas intervening along the line of sight, detecting several metal absorption lines of a wide range of ionization potentials, from 6.0 eV to 77.5 eV.Multiple-component Voigt fits to the absorption lines are used to study the kinematics of the gas. We find that nearly all targets in the sample feature gas outflowing from 30 km s $^{-1}$ up to 190 km s $^{-1}$ , often both in the neutral and ionized phase. The outflow velocities correlate with the underlying stellar population properties directly linked to the feedback: the mass of the YSCs, the photon production rate and the instantaneous mechanical luminosity produced by stellar winds and SNe. We detect a neutral inflow in 4 targets, which we interpret as likely not associated with the star cluster but tracing larger scale gas kinematics. A comparison between the outflows’ energy and that produced by the associated young stellar populations suggests an average coupling efficiency of 10 \\% with a broad scatter.Our results extend the relation found in previous works between galactic outflows and the host galaxy star-formation rate to smaller scales, pointing towards the key role that clustered star formation and feedback play in regulating galaxy growth.\n",
       "\n",
       "</div>\n",
       "\n",
       "<div id=\"div_fig1\">\n",
       "\n",
       "<img src=\"tmp_2402.10270/./figures/SFR_vel_relations.png\" alt=\"Fig4\" width=\"100%\"/>\n",
       "\n",
       "**Figure 4. -** Outflow velocities plotted against (from top to bottom): the SFR, the SFR per unit stellar mass and the SFR per unit area. The data points plotted are taken from three different samples: in blue and orange the CLUES neutral and ionized outflows respectively, in red the CLASSY galactic outflows \\citep{Xu2022}, the empty circles represent the data points of \\cite{Heckman2015}, the black squares the data points of \\cite{Chisholm2015}. In the top panel we report the least-square linear regression fit for the black squares points, the blue points and the red crosses, separately. (*fig:sfr*)\n",
       "\n",
       "</div>\n",
       "<div id=\"div_fig2\">\n",
       "\n",
       "<img src=\"tmp_2402.10270/./figures/correlations_wAge_holl.png\" alt=\"Fig12\" width=\"100%\"/>\n",
       "\n",
       "**Figure 12. -** Outflow velocities plotted against six different stellar properties: age of young stellar population, mass of the young stellar population, mechanical luminosity of stellar winds, mechanical luminosity of SNe, photon production rate and total mechanical luminosity from stellar winds and SNe. The blue data points represent the neutral gas, whereas the orange data points represent the ionized gas. Hollow markers (NGC1566-YSC2, NGC4485-YSC2, NGC1566-YSC1, NGC7793-YSC2, NGC1313-YSC2, NGC4656-YSC1) indicate the targets with an age uncertainty larger than 25\\%, which gives a sense of which data points are the most uncertain in all the plots. Error bars for the outflow velocities are plotted. $\\tau$ and p are two parameters of the Kendall statistics performed to assess the presence or lack of correlation (see text). (*fig:correlations*)\n",
       "\n",
       "</div>\n",
       "<div id=\"div_fig3\">\n",
       "\n",
       "<img src=\"tmp_2402.10270/./figures/voigtfit.png\" alt=\"Fig11\" width=\"100%\"/>\n",
       "\n",
       "**Figure 11. -** Best-fit values of the multi-component Voigt fit analysis of the interstellar gas kinematics. The panels from left to right show the central velocity, the column density of $\\SiII$$ $ and $\\SiIV$$ $ and the $b$ parameter of the outflow and inflow components detected). The blue circles represent the neutral gas traced by $\\SiII$, the orange stars represent the ionized gas traced by $\\SiIV$. The empty blue circles mark the gas components inflowing towards the target star cluster. M51-YSC1 is the exception target for which we used $\\CIV$$ $ instead of $\\SiIV$. The targets are sorted by the age of the FUV dominant stellar population (*fig:voigtfit*)\n",
       "\n",
       "</div><div id=\"qrcode\"><img src=https://api.qrserver.com/v1/create-qr-code/?size=100x100&data=\"https://arxiv.org/abs/2402.10270\"></div>"
      ],
      "text/plain": [
       "<IPython.core.display.Markdown object>"
      ]
     },
     "metadata": {},
     "output_type": "display_data"
    }
   ],
   "source": [
    "[display(Markdown(k[1])) for k in documents];"
   ]
  },
  {
   "cell_type": "markdown",
   "id": "873873a4",
   "metadata": {
    "papermill": {
     "duration": 0.004526,
     "end_time": "2024-02-19T04:09:11.463902",
     "exception": false,
     "start_time": "2024-02-19T04:09:11.459376",
     "status": "completed"
    },
    "tags": []
   },
   "source": [
    "# Create HTML index"
   ]
  },
  {
   "cell_type": "code",
   "execution_count": 9,
   "id": "cf665672",
   "metadata": {
    "execution": {
     "iopub.execute_input": "2024-02-19T04:09:11.474628Z",
     "iopub.status.busy": "2024-02-19T04:09:11.474131Z",
     "iopub.status.idle": "2024-02-19T04:09:11.484270Z",
     "shell.execute_reply": "2024-02-19T04:09:11.483712Z"
    },
    "papermill": {
     "duration": 0.017325,
     "end_time": "2024-02-19T04:09:11.485667",
     "exception": false,
     "start_time": "2024-02-19T04:09:11.468342",
     "status": "completed"
    },
    "tags": []
   },
   "outputs": [
    {
     "name": "stdout",
     "output_type": "stream",
     "text": [
      "372  publications files modified in the last 7 days.\n"
     ]
    }
   ],
   "source": [
    "from datetime import datetime, timedelta, timezone\n",
    "from glob import glob\n",
    "import os\n",
    "\n",
    "files = glob('_build/html/*.md')\n",
    "days = 7\n",
    "now = datetime.today()\n",
    "res = []\n",
    "for fk in files:\n",
    "    stat_result = os.stat(fk).st_ctime\n",
    "    modified = datetime.fromtimestamp(stat_result, tz=timezone.utc).replace(tzinfo=None)\n",
    "    delta = now.today() - modified\n",
    "    if delta <= timedelta(days=days):\n",
    "        res.append((delta.seconds, fk))\n",
    "res = [k[1] for k in reversed(sorted(res, key=lambda x:x[1]))]\n",
    "npub = len(res)\n",
    "print(len(res), f\" publications files modified in the last {days:d} days.\")\n",
    "# [ print('\\t', k) for k in res ];"
   ]
  },
  {
   "cell_type": "code",
   "execution_count": 10,
   "id": "015de740",
   "metadata": {
    "execution": {
     "iopub.execute_input": "2024-02-19T04:09:11.495976Z",
     "iopub.status.busy": "2024-02-19T04:09:11.495398Z",
     "iopub.status.idle": "2024-02-19T04:09:11.517139Z",
     "shell.execute_reply": "2024-02-19T04:09:11.516488Z"
    },
    "papermill": {
     "duration": 0.02826,
     "end_time": "2024-02-19T04:09:11.518471",
     "exception": false,
     "start_time": "2024-02-19T04:09:11.490211",
     "status": "completed"
    },
    "tags": []
   },
   "outputs": [
    {
     "name": "stdout",
     "output_type": "stream",
     "text": [
      "4  publications in the last 7 days.\n"
     ]
    }
   ],
   "source": [
    "import datetime\n",
    "from glob import glob\n",
    "\n",
    "def get_last_n_days(lst, days=1):\n",
    "    \"\"\" Get the documents from the last n days \"\"\"\n",
    "    sorted_lst = sorted(lst, key=lambda x: x[1], reverse=True)\n",
    "    for fname, date in sorted_lst:\n",
    "        if date >= str(datetime.date.today() - datetime.timedelta(days=days)):\n",
    "            yield fname\n",
    "\n",
    "def extract_appearance_dates(lst_file):\n",
    "    dates = []\n",
    "\n",
    "    def get_date(line):\n",
    "        return line\\\n",
    "            .split('Appeared on:')[-1]\\\n",
    "            .split('</mark>')[0].strip()\n",
    "\n",
    "    for fname in lst:\n",
    "        with open(fname, 'r') as f:\n",
    "            found_date = False\n",
    "            for line in f:\n",
    "                if not found_date:\n",
    "                    if \"Appeared on\" in line:\n",
    "                        found_date = True\n",
    "                        dates.append((fname, get_date(line)))\n",
    "                else:\n",
    "                    break\n",
    "    return dates\n",
    "\n",
    "from glob import glob\n",
    "lst = glob('_build/html/*md')\n",
    "days = 7\n",
    "dates = extract_appearance_dates(lst)\n",
    "res = list(get_last_n_days(dates, days))\n",
    "npub = len(res)\n",
    "print(len(res), f\" publications in the last {days:d} days.\")"
   ]
  },
  {
   "cell_type": "code",
   "execution_count": 11,
   "id": "52ca0208",
   "metadata": {
    "execution": {
     "iopub.execute_input": "2024-02-19T04:09:11.529563Z",
     "iopub.status.busy": "2024-02-19T04:09:11.528881Z",
     "iopub.status.idle": "2024-02-19T04:09:11.534445Z",
     "shell.execute_reply": "2024-02-19T04:09:11.533818Z"
    },
    "papermill": {
     "duration": 0.012751,
     "end_time": "2024-02-19T04:09:11.535847",
     "exception": false,
     "start_time": "2024-02-19T04:09:11.523096",
     "status": "completed"
    },
    "scrolled": false,
    "tags": []
   },
   "outputs": [],
   "source": [
    "def create_carousel(npub=4):\n",
    "    \"\"\" Generate the HTML code for a carousel with `npub` slides \"\"\"\n",
    "    carousel = [\"\"\"  <div class=\"carousel\" \"\"\",\n",
    "                \"\"\"       data-flickity='{ \"autoPlay\": 10000, \"adaptiveHeight\": true, \"resize\": true, \"wrapAround\": true, \"pauseAutoPlayOnHover\": true, \"groupCells\": 1 }' id=\"asyncTypeset\">\"\"\"\n",
    "                ]\n",
    "    \n",
    "    item_str = \"\"\"    <div class=\"carousel-cell\"> <div id=\"slide{k}\" class=\"md_view\">Content {k}</div> </div>\"\"\"\n",
    "    for k in range(1, npub + 1):\n",
    "        carousel.append(item_str.format(k=k))\n",
    "    carousel.append(\"  </div>\")\n",
    "    return '\\n'.join(carousel)\n",
    "\n",
    "def create_grid(npub=4):\n",
    "    \"\"\" Generate the HTML code for a flat grid with `npub` slides \"\"\"\n",
    "    grid = [\"\"\"  <div class=\"grid\"> \"\"\",\n",
    "                ]\n",
    "    \n",
    "    item_str = \"\"\"    <div class=\"grid-item\"> <div id=\"slide{k}\" class=\"md_view\">Content {k}</div> </div>\"\"\"\n",
    "    for k in range(1, npub + 1):\n",
    "        grid.append(item_str.format(k=k))\n",
    "    grid.append(\"  </div>\")\n",
    "    return '\\n'.join(grid)"
   ]
  },
  {
   "cell_type": "code",
   "execution_count": 12,
   "id": "a6eac5b6",
   "metadata": {
    "execution": {
     "iopub.execute_input": "2024-02-19T04:09:11.546900Z",
     "iopub.status.busy": "2024-02-19T04:09:11.546611Z",
     "iopub.status.idle": "2024-02-19T04:09:11.552426Z",
     "shell.execute_reply": "2024-02-19T04:09:11.551785Z"
    },
    "papermill": {
     "duration": 0.013158,
     "end_time": "2024-02-19T04:09:11.553874",
     "exception": false,
     "start_time": "2024-02-19T04:09:11.540716",
     "status": "completed"
    },
    "scrolled": false,
    "tags": []
   },
   "outputs": [],
   "source": [
    "carousel = create_carousel(npub)\n",
    "docs = ', '.join(['\"{0:s}\"'.format(k.split('/')[-1]) for k in res])\n",
    "slides = ', '.join([f'\"slide{k}\"' for k in range(1, npub + 1)])\n",
    "\n",
    "with open(\"daily_template.html\", \"r\") as tpl:\n",
    "    page = tpl.read()\n",
    "    page = page.replace(\"{%-- carousel:s --%}\", carousel)\\\n",
    "               .replace(\"{%-- suptitle:s --%}\",  \"7-day archives\" )\\\n",
    "               .replace(\"{%-- docs:s --%}\", docs)\\\n",
    "               .replace(\"{%-- slides:s --%}\", slides)\n",
    "    \n",
    "with open(\"_build/html/index_7days.html\", 'w') as fout:\n",
    "    fout.write(page)"
   ]
  },
  {
   "cell_type": "code",
   "execution_count": 13,
   "id": "adc1a1ec",
   "metadata": {
    "execution": {
     "iopub.execute_input": "2024-02-19T04:09:11.565467Z",
     "iopub.status.busy": "2024-02-19T04:09:11.564739Z",
     "iopub.status.idle": "2024-02-19T04:09:11.572425Z",
     "shell.execute_reply": "2024-02-19T04:09:11.571850Z"
    },
    "papermill": {
     "duration": 0.015089,
     "end_time": "2024-02-19T04:09:11.573766",
     "exception": false,
     "start_time": "2024-02-19T04:09:11.558677",
     "status": "completed"
    },
    "tags": []
   },
   "outputs": [
    {
     "name": "stdout",
     "output_type": "stream",
     "text": [
      "1  publications in the last day.\n"
     ]
    }
   ],
   "source": [
    "# redo for today\n",
    "days = 1\n",
    "res = list(get_last_n_days(dates, days))\n",
    "npub = len(res)\n",
    "print(len(res), f\" publications in the last day.\")\n",
    "\n",
    "carousel = create_carousel(npub)\n",
    "docs = ', '.join(['\"{0:s}\"'.format(k.split('/')[-1]) for k in res])\n",
    "slides = ', '.join([f'\"slide{k}\"' for k in range(1, npub + 1)])\n",
    "\n",
    "with open(\"daily_template.html\", \"r\") as tpl:\n",
    "    page = tpl.read()\n",
    "    page = page.replace(\"{%-- carousel:s --%}\", carousel)\\\n",
    "               .replace(\"{%-- suptitle:s --%}\",  \"Daily\" )\\\n",
    "               .replace(\"{%-- docs:s --%}\", docs)\\\n",
    "               .replace(\"{%-- slides:s --%}\", slides)\n",
    "    \n",
    "# print(carousel, docs, slides)\n",
    "# print(page)\n",
    "with open(\"_build/html/index_daily.html\", 'w') as fout:\n",
    "    fout.write(page)"
   ]
  },
  {
   "cell_type": "code",
   "execution_count": 14,
   "id": "00eece82",
   "metadata": {
    "execution": {
     "iopub.execute_input": "2024-02-19T04:09:11.584615Z",
     "iopub.status.busy": "2024-02-19T04:09:11.584175Z",
     "iopub.status.idle": "2024-02-19T04:09:11.591036Z",
     "shell.execute_reply": "2024-02-19T04:09:11.590336Z"
    },
    "papermill": {
     "duration": 0.01382,
     "end_time": "2024-02-19T04:09:11.592437",
     "exception": false,
     "start_time": "2024-02-19T04:09:11.578617",
     "status": "completed"
    },
    "scrolled": false,
    "tags": []
   },
   "outputs": [
    {
     "name": "stdout",
     "output_type": "stream",
     "text": [
      "6  6 publications selected.\n"
     ]
    }
   ],
   "source": [
    "# Create the flat grid of the last N papers (fixed number regardless of dates)\n",
    "from itertools import islice \n",
    "\n",
    "npub = 6\n",
    "res = [k[0] for k in (islice(reversed(sorted(dates, key=lambda x: x[1])), 6))]\n",
    "print(len(res), f\" {npub} publications selected.\")\n",
    "\n",
    "grid = create_grid(npub)\n",
    "docs = ', '.join(['\"{0:s}\"'.format(k.split('/')[-1]) for k in res])\n",
    "slides = ', '.join([f'\"slide{k}\"' for k in range(1, npub + 1)])\n",
    "\n",
    "with open(\"grid_template.html\", \"r\") as tpl:\n",
    "    page = tpl.read()\n",
    "    page = page.replace(\"{%-- grid-content:s --%}\", grid)\\\n",
    "               .replace(\"{%-- suptitle:s --%}\",  f\"Last {npub:,d} papers\" )\\\n",
    "               .replace(\"{%-- docs:s --%}\", docs)\\\n",
    "               .replace(\"{%-- slides:s --%}\", slides)\n",
    "    \n",
    "# print(grid, docs, slides)\n",
    "# print(page)\n",
    "with open(\"_build/html/index_npub_grid.html\", 'w') as fout:\n",
    "    fout.write(page)"
   ]
  }
 ],
 "metadata": {
  "kernelspec": {
   "display_name": "Python 3 (ipykernel)",
   "language": "python",
   "name": "python3"
  },
  "language_info": {
   "codemirror_mode": {
    "name": "ipython",
    "version": 3
   },
   "file_extension": ".py",
   "mimetype": "text/x-python",
   "name": "python",
   "nbconvert_exporter": "python",
   "pygments_lexer": "ipython3",
   "version": "3.9.18"
  },
  "papermill": {
   "default_parameters": {},
   "duration": 54.205585,
   "end_time": "2024-02-19T04:09:11.913930",
   "environment_variables": {},
   "exception": null,
   "input_path": "MPIA daily digest.ipynb",
   "output_path": "log.ipynb",
   "parameters": {},
   "start_time": "2024-02-19T04:08:17.708345",
   "version": "2.5.0"
  },
  "vscode": {
   "interpreter": {
    "hash": "aee8b7b246df8f9039afb4144a1f6fd8d2ca17a180786b69acc140d282b71a49"
   }
  },
  "widgets": {
   "application/vnd.jupyter.widget-state+json": {
    "state": {
     "122b03cf347047278cf69fc0e96a336c": {
      "model_module": "@jupyter-widgets/controls",
      "model_module_version": "2.0.0",
      "model_name": "FloatProgressModel",
      "state": {
       "_dom_classes": [],
       "_model_module": "@jupyter-widgets/controls",
       "_model_module_version": "2.0.0",
       "_model_name": "FloatProgressModel",
       "_view_count": null,
       "_view_module": "@jupyter-widgets/controls",
       "_view_module_version": "2.0.0",
       "_view_name": "ProgressView",
       "bar_style": "success",
       "description": "",
       "description_allow_html": false,
       "layout": "IPY_MODEL_951d1471c94a4758b95f7db08892b754",
       "max": 3.0,
       "min": 0.0,
       "orientation": "horizontal",
       "style": "IPY_MODEL_eb46f790b99241258c5336a901bc106f",
       "tabbable": null,
       "tooltip": null,
       "value": 3.0
      }
     },
     "8bf262380b1d42baa9c7fb7935ff29e1": {
      "model_module": "@jupyter-widgets/controls",
      "model_module_version": "2.0.0",
      "model_name": "HTMLModel",
      "state": {
       "_dom_classes": [],
       "_model_module": "@jupyter-widgets/controls",
       "_model_module_version": "2.0.0",
       "_model_name": "HTMLModel",
       "_view_count": null,
       "_view_module": "@jupyter-widgets/controls",
       "_view_module_version": "2.0.0",
       "_view_name": "HTMLView",
       "description": "",
       "description_allow_html": false,
       "layout": "IPY_MODEL_d8c77636fb14441585fc500ae69e2744",
       "placeholder": "​",
       "style": "IPY_MODEL_acfc17229a144ee0bbf2e46f55be293a",
       "tabbable": null,
       "tooltip": null,
       "value": " 3/3 [00:34&lt;00:00,  9.37s/it]"
      }
     },
     "8c415e29a8264e559fe15e29e092b55a": {
      "model_module": "@jupyter-widgets/controls",
      "model_module_version": "2.0.0",
      "model_name": "HTMLStyleModel",
      "state": {
       "_model_module": "@jupyter-widgets/controls",
       "_model_module_version": "2.0.0",
       "_model_name": "HTMLStyleModel",
       "_view_count": null,
       "_view_module": "@jupyter-widgets/base",
       "_view_module_version": "2.0.0",
       "_view_name": "StyleView",
       "background": null,
       "description_width": "",
       "font_size": null,
       "text_color": null
      }
     },
     "951d1471c94a4758b95f7db08892b754": {
      "model_module": "@jupyter-widgets/base",
      "model_module_version": "2.0.0",
      "model_name": "LayoutModel",
      "state": {
       "_model_module": "@jupyter-widgets/base",
       "_model_module_version": "2.0.0",
       "_model_name": "LayoutModel",
       "_view_count": null,
       "_view_module": "@jupyter-widgets/base",
       "_view_module_version": "2.0.0",
       "_view_name": "LayoutView",
       "align_content": null,
       "align_items": null,
       "align_self": null,
       "border_bottom": null,
       "border_left": null,
       "border_right": null,
       "border_top": null,
       "bottom": null,
       "display": null,
       "flex": null,
       "flex_flow": null,
       "grid_area": null,
       "grid_auto_columns": null,
       "grid_auto_flow": null,
       "grid_auto_rows": null,
       "grid_column": null,
       "grid_gap": null,
       "grid_row": null,
       "grid_template_areas": null,
       "grid_template_columns": null,
       "grid_template_rows": null,
       "height": null,
       "justify_content": null,
       "justify_items": null,
       "left": null,
       "margin": null,
       "max_height": null,
       "max_width": null,
       "min_height": null,
       "min_width": null,
       "object_fit": null,
       "object_position": null,
       "order": null,
       "overflow": null,
       "padding": null,
       "right": null,
       "top": null,
       "visibility": null,
       "width": null
      }
     },
     "acfc17229a144ee0bbf2e46f55be293a": {
      "model_module": "@jupyter-widgets/controls",
      "model_module_version": "2.0.0",
      "model_name": "HTMLStyleModel",
      "state": {
       "_model_module": "@jupyter-widgets/controls",
       "_model_module_version": "2.0.0",
       "_model_name": "HTMLStyleModel",
       "_view_count": null,
       "_view_module": "@jupyter-widgets/base",
       "_view_module_version": "2.0.0",
       "_view_name": "StyleView",
       "background": null,
       "description_width": "",
       "font_size": null,
       "text_color": null
      }
     },
     "b3ffa9f70afc44a4a9b8314d895579ad": {
      "model_module": "@jupyter-widgets/base",
      "model_module_version": "2.0.0",
      "model_name": "LayoutModel",
      "state": {
       "_model_module": "@jupyter-widgets/base",
       "_model_module_version": "2.0.0",
       "_model_name": "LayoutModel",
       "_view_count": null,
       "_view_module": "@jupyter-widgets/base",
       "_view_module_version": "2.0.0",
       "_view_name": "LayoutView",
       "align_content": null,
       "align_items": null,
       "align_self": null,
       "border_bottom": null,
       "border_left": null,
       "border_right": null,
       "border_top": null,
       "bottom": null,
       "display": null,
       "flex": null,
       "flex_flow": null,
       "grid_area": null,
       "grid_auto_columns": null,
       "grid_auto_flow": null,
       "grid_auto_rows": null,
       "grid_column": null,
       "grid_gap": null,
       "grid_row": null,
       "grid_template_areas": null,
       "grid_template_columns": null,
       "grid_template_rows": null,
       "height": null,
       "justify_content": null,
       "justify_items": null,
       "left": null,
       "margin": null,
       "max_height": null,
       "max_width": null,
       "min_height": null,
       "min_width": null,
       "object_fit": null,
       "object_position": null,
       "order": null,
       "overflow": null,
       "padding": null,
       "right": null,
       "top": null,
       "visibility": null,
       "width": null
      }
     },
     "cf0a0f5cb9eb439dac18957a72957c23": {
      "model_module": "@jupyter-widgets/controls",
      "model_module_version": "2.0.0",
      "model_name": "HTMLModel",
      "state": {
       "_dom_classes": [],
       "_model_module": "@jupyter-widgets/controls",
       "_model_module_version": "2.0.0",
       "_model_name": "HTMLModel",
       "_view_count": null,
       "_view_module": "@jupyter-widgets/controls",
       "_view_module_version": "2.0.0",
       "_view_name": "HTMLView",
       "description": "",
       "description_allow_html": false,
       "layout": "IPY_MODEL_b3ffa9f70afc44a4a9b8314d895579ad",
       "placeholder": "​",
       "style": "IPY_MODEL_8c415e29a8264e559fe15e29e092b55a",
       "tabbable": null,
       "tooltip": null,
       "value": "100%"
      }
     },
     "d8c77636fb14441585fc500ae69e2744": {
      "model_module": "@jupyter-widgets/base",
      "model_module_version": "2.0.0",
      "model_name": "LayoutModel",
      "state": {
       "_model_module": "@jupyter-widgets/base",
       "_model_module_version": "2.0.0",
       "_model_name": "LayoutModel",
       "_view_count": null,
       "_view_module": "@jupyter-widgets/base",
       "_view_module_version": "2.0.0",
       "_view_name": "LayoutView",
       "align_content": null,
       "align_items": null,
       "align_self": null,
       "border_bottom": null,
       "border_left": null,
       "border_right": null,
       "border_top": null,
       "bottom": null,
       "display": null,
       "flex": null,
       "flex_flow": null,
       "grid_area": null,
       "grid_auto_columns": null,
       "grid_auto_flow": null,
       "grid_auto_rows": null,
       "grid_column": null,
       "grid_gap": null,
       "grid_row": null,
       "grid_template_areas": null,
       "grid_template_columns": null,
       "grid_template_rows": null,
       "height": null,
       "justify_content": null,
       "justify_items": null,
       "left": null,
       "margin": null,
       "max_height": null,
       "max_width": null,
       "min_height": null,
       "min_width": null,
       "object_fit": null,
       "object_position": null,
       "order": null,
       "overflow": null,
       "padding": null,
       "right": null,
       "top": null,
       "visibility": null,
       "width": null
      }
     },
     "dccc5d5a33ea4b72a34eaeba4d0cec11": {
      "model_module": "@jupyter-widgets/controls",
      "model_module_version": "2.0.0",
      "model_name": "HBoxModel",
      "state": {
       "_dom_classes": [],
       "_model_module": "@jupyter-widgets/controls",
       "_model_module_version": "2.0.0",
       "_model_name": "HBoxModel",
       "_view_count": null,
       "_view_module": "@jupyter-widgets/controls",
       "_view_module_version": "2.0.0",
       "_view_name": "HBoxView",
       "box_style": "",
       "children": [
        "IPY_MODEL_cf0a0f5cb9eb439dac18957a72957c23",
        "IPY_MODEL_122b03cf347047278cf69fc0e96a336c",
        "IPY_MODEL_8bf262380b1d42baa9c7fb7935ff29e1"
       ],
       "layout": "IPY_MODEL_dde49de2bc014e7aad679c23692bf9bc",
       "tabbable": null,
       "tooltip": null
      }
     },
     "dde49de2bc014e7aad679c23692bf9bc": {
      "model_module": "@jupyter-widgets/base",
      "model_module_version": "2.0.0",
      "model_name": "LayoutModel",
      "state": {
       "_model_module": "@jupyter-widgets/base",
       "_model_module_version": "2.0.0",
       "_model_name": "LayoutModel",
       "_view_count": null,
       "_view_module": "@jupyter-widgets/base",
       "_view_module_version": "2.0.0",
       "_view_name": "LayoutView",
       "align_content": null,
       "align_items": null,
       "align_self": null,
       "border_bottom": null,
       "border_left": null,
       "border_right": null,
       "border_top": null,
       "bottom": null,
       "display": null,
       "flex": null,
       "flex_flow": null,
       "grid_area": null,
       "grid_auto_columns": null,
       "grid_auto_flow": null,
       "grid_auto_rows": null,
       "grid_column": null,
       "grid_gap": null,
       "grid_row": null,
       "grid_template_areas": null,
       "grid_template_columns": null,
       "grid_template_rows": null,
       "height": null,
       "justify_content": null,
       "justify_items": null,
       "left": null,
       "margin": null,
       "max_height": null,
       "max_width": null,
       "min_height": null,
       "min_width": null,
       "object_fit": null,
       "object_position": null,
       "order": null,
       "overflow": null,
       "padding": null,
       "right": null,
       "top": null,
       "visibility": null,
       "width": null
      }
     },
     "eb46f790b99241258c5336a901bc106f": {
      "model_module": "@jupyter-widgets/controls",
      "model_module_version": "2.0.0",
      "model_name": "ProgressStyleModel",
      "state": {
       "_model_module": "@jupyter-widgets/controls",
       "_model_module_version": "2.0.0",
       "_model_name": "ProgressStyleModel",
       "_view_count": null,
       "_view_module": "@jupyter-widgets/base",
       "_view_module_version": "2.0.0",
       "_view_name": "StyleView",
       "bar_color": null,
       "description_width": ""
      }
     }
    },
    "version_major": 2,
    "version_minor": 0
   }
  }
 },
 "nbformat": 4,
 "nbformat_minor": 5
}