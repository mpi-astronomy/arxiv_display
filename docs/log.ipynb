{
 "cells": [
  {
   "cell_type": "markdown",
   "id": "92bcb855",
   "metadata": {
    "papermill": {
     "duration": 0.003885,
     "end_time": "2025-08-27T04:12:04.845857",
     "exception": false,
     "start_time": "2025-08-27T04:12:04.841972",
     "status": "completed"
    },
    "tags": []
   },
   "source": [
    "# MPIA Arxiv on Deck 2\n",
    "\n",
    "Contains the steps to produce the paper extractions."
   ]
  },
  {
   "cell_type": "code",
   "execution_count": 1,
   "id": "3a0d6e11",
   "metadata": {
    "execution": {
     "iopub.execute_input": "2025-08-27T04:12:04.852871Z",
     "iopub.status.busy": "2025-08-27T04:12:04.852618Z",
     "iopub.status.idle": "2025-08-27T04:12:05.057720Z",
     "shell.execute_reply": "2025-08-27T04:12:05.056987Z"
    },
    "papermill": {
     "duration": 0.209977,
     "end_time": "2025-08-27T04:12:05.059067",
     "exception": false,
     "start_time": "2025-08-27T04:12:04.849090",
     "status": "completed"
    },
    "tags": []
   },
   "outputs": [],
   "source": [
    "# Imports\n",
    "import os\n",
    "from IPython.display import Markdown, display\n",
    "from tqdm.notebook import tqdm\n",
    "import warnings\n",
    "from PIL import Image \n",
    "import re\n",
    "\n",
    "# requires arxiv_on_deck_2\n",
    "\n",
    "from arxiv_on_deck_2.arxiv2 import (get_new_papers, \n",
    "                                    get_paper_from_identifier,\n",
    "                                    retrieve_document_source, \n",
    "                                    get_markdown_badge)\n",
    "from arxiv_on_deck_2 import (latex,\n",
    "                             latex_bib,\n",
    "                             mpia,\n",
    "                             highlight_authors_in_list)\n",
    "\n",
    "# Sometimes images are really big\n",
    "Image.MAX_IMAGE_PIXELS = 1000000000 "
   ]
  },
  {
   "cell_type": "code",
   "execution_count": 2,
   "id": "22aa9d44",
   "metadata": {
    "execution": {
     "iopub.execute_input": "2025-08-27T04:12:05.066290Z",
     "iopub.status.busy": "2025-08-27T04:12:05.066066Z",
     "iopub.status.idle": "2025-08-27T04:12:05.073730Z",
     "shell.execute_reply": "2025-08-27T04:12:05.073161Z"
    },
    "papermill": {
     "duration": 0.012338,
     "end_time": "2025-08-27T04:12:05.074721",
     "exception": false,
     "start_time": "2025-08-27T04:12:05.062383",
     "status": "completed"
    },
    "tags": []
   },
   "outputs": [],
   "source": [
    "# Some useful definitions.\n",
    "\n",
    "class AffiliationWarning(UserWarning):\n",
    "    pass\n",
    "\n",
    "class AffiliationError(RuntimeError):\n",
    "    pass\n",
    "\n",
    "def validation(source: str):\n",
    "    \"\"\"Raises error paper during parsing of source file\n",
    "    \n",
    "    Allows checks before parsing TeX code.\n",
    "    \n",
    "    Raises AffiliationWarning\n",
    "    \"\"\"\n",
    "    check = mpia.affiliation_verifications(source, verbose=True)\n",
    "    if check is not True:\n",
    "        raise AffiliationError(\"mpia.affiliation_verifications: \" + check)\n",
    "\n",
    "        \n",
    "warnings.simplefilter('always', AffiliationWarning)\n",
    "\n",
    "\n",
    "def get_markdown_qrcode(paper_id: str):\n",
    "    \"\"\" Generate a qrcode to the arxiv page using qrserver.com\n",
    "    \n",
    "    :param paper: Arxiv paper\n",
    "    :returns: markdown text\n",
    "    \"\"\"\n",
    "    url = r\"https://api.qrserver.com/v1/create-qr-code/?size=100x100&data=\"\n",
    "    txt = f\"\"\"<img src={url}\"https://arxiv.org/abs/{paper_id}\">\"\"\"\n",
    "    txt = '<div id=\"qrcode\">' + txt + '</div>'\n",
    "    return txt\n",
    "\n",
    "\n",
    "def clean_non_western_encoded_characters_commands(text: str) -> str:\n",
    "    \"\"\" Remove non-western encoded characters from a string\n",
    "    List may need to grow.\n",
    "    \n",
    "    :param text: the text to clean\n",
    "    :return: the cleaned text\n",
    "    \"\"\"\n",
    "    text = re.sub(r\"(\\\\begin{CJK}{UTF8}{gbsn})(.*?)(\\\\end{CJK})\", r\"\\2\", text)\n",
    "    return text\n",
    "\n",
    "\n",
    "def get_initials(name: str) -> str:\n",
    "    \"\"\" Get the short name, e.g., A.-B. FamName\n",
    "    :param name: full name\n",
    "    :returns: initials\n",
    "    \"\"\"\n",
    "    initials = []\n",
    "    # account for non western names often in ()\n",
    "    if '(' in name:\n",
    "        name = clean_non_western_encoded_characters_commands(name)\n",
    "        suffix = re.findall(r\"\\((.*?)\\)\", name)[0]\n",
    "        name = name.replace(f\"({suffix})\", '')\n",
    "    else:\n",
    "        suffix = ''\n",
    "    split = name.split()\n",
    "    for token in split[:-1]:\n",
    "        if '-' in token:\n",
    "            current = '-'.join([k[0] + '.' for k in token.split('-')])\n",
    "        else:\n",
    "            current = token[0] + '.'\n",
    "        initials.append(current)\n",
    "    initials.append(split[-1].strip())\n",
    "    if suffix:\n",
    "        initials.append(f\"({suffix})\")\n",
    "    return ' '.join(initials)"
   ]
  },
  {
   "cell_type": "markdown",
   "id": "14bd6310",
   "metadata": {
    "papermill": {
     "duration": 0.00284,
     "end_time": "2025-08-27T04:12:05.080481",
     "exception": false,
     "start_time": "2025-08-27T04:12:05.077641",
     "status": "completed"
    },
    "tags": []
   },
   "source": [
    "## get list of arxiv paper candidates\n",
    "\n",
    "We use the MPIA mitarbeiter list webpage from mpia.de to get author names\n",
    "We then get all new papers from Arxiv and match authors"
   ]
  },
  {
   "cell_type": "code",
   "execution_count": 3,
   "id": "7ea813a8",
   "metadata": {
    "execution": {
     "iopub.execute_input": "2025-08-27T04:12:05.087065Z",
     "iopub.status.busy": "2025-08-27T04:12:05.086831Z",
     "iopub.status.idle": "2025-08-27T04:12:27.852771Z",
     "shell.execute_reply": "2025-08-27T04:12:27.852046Z"
    },
    "papermill": {
     "duration": 22.770664,
     "end_time": "2025-08-27T04:12:27.854077",
     "exception": false,
     "start_time": "2025-08-27T04:12:05.083413",
     "status": "completed"
    },
    "tags": []
   },
   "outputs": [],
   "source": [
    "# deal with the author list and edge cases of people that cannot be consistent on their name  \n",
    "\n",
    "def filter_non_scientists(name: str) -> bool:\n",
    "    \"\"\" Loose filter on expected authorships\n",
    "\n",
    "    removing IT, administration, technical staff\n",
    "    :param name: name\n",
    "    :returns: False if name is not a scientist\n",
    "    \"\"\"\n",
    "    remove_list = ['Licht', 'Binroth', 'Witzel', 'Jordan',\n",
    "                   'Zähringer', 'Scheerer', 'Hoffmann', 'Düe',\n",
    "                   'Hellmich', 'Enkler-Scharpegge', 'Witte-Nguy',\n",
    "                   'Dehen', 'Beckmann', 'Jager', 'Jäger'\n",
    "                  ]\n",
    "\n",
    "    for k in remove_list:\n",
    "        if k in name:\n",
    "            return False\n",
    "    return True\n",
    "\n",
    "def add_author_to_list(author_list: list) -> list:\n",
    "    \"\"\" Add author to list if not already in list\n",
    "    \n",
    "    :param author: author name\n",
    "    :param author_list: list of authors\n",
    "    :returns: updated list of authors\n",
    "    \"\"\"\n",
    "    add_list = ['T. Henning']\n",
    "\n",
    "    for author in add_list:\n",
    "        if author not in author_list:\n",
    "            author_list.append(author)\n",
    "    return author_list\n",
    "\n",
    "# get list from MPIA website\n",
    "# filter for non-scientists (mpia.get_mpia_mitarbeiter_list() does some filtering)\n",
    "mpia_authors = [k[1] for k in mpia.get_mpia_mitarbeiter_list() if filter_non_scientists(k[1])]\n",
    "# add some missing author because of inconsistencies in their MPIA name and author name on papers\n",
    "mpia_authors = add_author_to_list(mpia_authors)"
   ]
  },
  {
   "cell_type": "code",
   "execution_count": 4,
   "id": "2645e73a",
   "metadata": {
    "execution": {
     "iopub.execute_input": "2025-08-27T04:12:27.861303Z",
     "iopub.status.busy": "2025-08-27T04:12:27.861116Z",
     "iopub.status.idle": "2025-08-27T04:12:28.623450Z",
     "shell.execute_reply": "2025-08-27T04:12:28.622844Z"
    },
    "papermill": {
     "duration": 0.767049,
     "end_time": "2025-08-27T04:12:28.624516",
     "exception": false,
     "start_time": "2025-08-27T04:12:27.857467",
     "status": "completed"
    },
    "tags": []
   },
   "outputs": [
    {
     "name": "stdout",
     "output_type": "stream",
     "text": [
      "K. El-Badry  ->  K. El-Badry  |  ['K. El-Badry']\n",
      "A. d. Graaff  ->  A. D. Graaff  |  ['A. D. Graaff']\n",
      "D. Blain  ->  D. Blain  |  ['D. Blain']\n",
      "G. Chauvin  ->  G. Chauvin  |  ['G. Chauvin']\n",
      "P. Mollière  ->  P. Mollière  |  ['P. Mollière']\n",
      "M. Ravet  ->  M. Ravet  |  ['M. Ravet']\n",
      "P. Boley  ->  P. Boley  |  ['P. Boley']\n",
      "L. Kreidberg  ->  L. Kreidberg  |  ['L. Kreidberg']\n",
      "R. v. Boekel  ->  R. v. Boekel  |  ['R. v. Boekel']\n",
      "J. Liu  ->  J. Liu  |  ['J. Liu']\n",
      "J. Li  ->  J. Li  |  ['J. Li']\n",
      "M. Benisty  ->  M. Benisty  |  ['M. Benisty']\n"
     ]
    },
    {
     "name": "stdout",
     "output_type": "stream",
     "text": [
      "K. Lee  ->  K. Lee  |  ['K. Lee']\n",
      "Arxiv has 66 new papers today\n",
      "          7 with possible author matches\n"
     ]
    }
   ],
   "source": [
    "new_papers = get_new_papers()\n",
    "# add manual references\n",
    "add_paper_refs = []\n",
    "new_papers.extend([get_paper_from_identifier(k) for k in add_paper_refs])\n",
    "\n",
    "def robust_call(fn, value, *args, **kwargs):\n",
    "    try:\n",
    "        return fn(value, *args, **kwargs)\n",
    "    except Exception:\n",
    "        return value\n",
    "\n",
    "candidates = []\n",
    "for paperk in new_papers:\n",
    "    # Check author list with their initials\n",
    "    normed_author_list = [robust_call(mpia.get_initials, k) for k in paperk['authors']]\n",
    "    hl_authors = highlight_authors_in_list(normed_author_list, mpia_authors, verbose=True)\n",
    "    matches = [(hl, orig) for hl, orig in zip(hl_authors, paperk['authors']) if 'mark' in hl]\n",
    "    paperk['authors'] = hl_authors\n",
    "    if matches:\n",
    "        # only select paper if an author matched our list\n",
    "        candidates.append(paperk)\n",
    "print(\"\"\"Arxiv has {0:,d} new papers today\"\"\".format(len(new_papers)))        \n",
    "print(\"\"\"          {0:,d} with possible author matches\"\"\".format(len(candidates)))"
   ]
  },
  {
   "cell_type": "markdown",
   "id": "3543b34a",
   "metadata": {
    "papermill": {
     "duration": 0.003125,
     "end_time": "2025-08-27T04:12:28.631182",
     "exception": false,
     "start_time": "2025-08-27T04:12:28.628057",
     "status": "completed"
    },
    "tags": []
   },
   "source": [
    "# Parse sources and generate relevant outputs\n",
    "\n",
    "From the candidates, we do the following steps:\n",
    "* get their tarball from ArXiv (and extract data)\n",
    "* find the main .tex file: find one with \\documentclass{...} (sometimes it's non trivial)\n",
    "* Check affiliations with :func:`validation`, which uses :func:`mpia.affiliation_verifications`\n",
    "* If passing the affiliations: we parse the .tex source\n",
    "   * inject sub-documents into the main (flatten the main document)\n",
    "   * parse structure, extract information (title, abstract, authors, figures...)\n",
    "   * handles `\\graphicspath` if provided\n",
    "* Generate the .md document."
   ]
  },
  {
   "cell_type": "code",
   "execution_count": 5,
   "id": "9576b79e",
   "metadata": {
    "execution": {
     "iopub.execute_input": "2025-08-27T04:12:28.638156Z",
     "iopub.status.busy": "2025-08-27T04:12:28.637969Z",
     "iopub.status.idle": "2025-08-27T04:13:44.686474Z",
     "shell.execute_reply": "2025-08-27T04:13:44.685664Z"
    },
    "papermill": {
     "duration": 76.053342,
     "end_time": "2025-08-27T04:13:44.687582",
     "exception": false,
     "start_time": "2025-08-27T04:12:28.634240",
     "status": "completed"
    },
    "scrolled": false,
    "tags": []
   },
   "outputs": [
    {
     "data": {
      "application/vnd.jupyter.widget-view+json": {
       "model_id": "13d4ccc4200641cbb72a8ccc0d0d91ac",
       "version_major": 2,
       "version_minor": 0
      },
      "text/plain": [
       "  0%|          | 0/7 [00:00<?, ?it/s]"
      ]
     },
     "metadata": {},
     "output_type": "display_data"
    },
    {
     "name": "stdout",
     "output_type": "stream",
     "text": [
      "Retrieving document from  https://arxiv.org/e-print/2508.18348\n"
     ]
    },
    {
     "name": "stdout",
     "output_type": "stream",
     "text": [
      "extracting tarball to tmp_2508.18348..."
     ]
    },
    {
     "name": "stdout",
     "output_type": "stream",
     "text": [
      " done.\n",
      "  0: tmp_2508.18348/aassymbols.tex, 579 lines\n",
      "  1: tmp_2508.18348/ZTFJ1944+4557.tex, 542 lines\n",
      "Retrieving document from  https://arxiv.org/e-print/2508.18358\n"
     ]
    },
    {
     "name": "stderr",
     "output_type": "stream",
     "text": [
      "/opt/hostedtoolcache/Python/3.9.23/x64/lib/python3.9/site-packages/IPython/core/interactiveshell.py:3550: LatexWarning: Multiple tex files.\n",
      "\n",
      "  exec(code_obj, self.user_global_ns, self.user_ns)\n",
      "/opt/hostedtoolcache/Python/3.9.23/x64/lib/python3.9/site-packages/IPython/core/interactiveshell.py:3550: LatexWarning: Found 2 candidates with documentclass definition.\n",
      "  exec(code_obj, self.user_global_ns, self.user_ns)\n",
      "/opt/hostedtoolcache/Python/3.9.23/x64/lib/python3.9/site-packages/IPython/core/interactiveshell.py:3550: LatexWarning: Assuming tmp_2508.18348/aassymbols.tex as main document.\n",
      "  exec(code_obj, self.user_global_ns, self.user_ns)\n"
     ]
    },
    {
     "name": "stdout",
     "output_type": "stream",
     "text": [
      "extracting tarball to tmp_2508.18358..."
     ]
    },
    {
     "name": "stdout",
     "output_type": "stream",
     "text": [
      " done.\n"
     ]
    },
    {
     "name": "stdout",
     "output_type": "stream",
     "text": [
      "A. d. Graaff  ->  A. D. Graaff  |  ['A. D. Graaff']\n"
     ]
    },
    {
     "name": "stderr",
     "output_type": "stream",
     "text": [
      "/tmp/ipykernel_3380/2822249172.py:52: LatexWarning: 2508.18358 did not run properly\n",
      "list index out of range\n",
      "  warnings.warn(latex.LatexWarning(f\"{paper_id:s} did not run properly\\n\" +\n"
     ]
    },
    {
     "name": "stdout",
     "output_type": "stream",
     "text": [
      "Retrieving document from  https://arxiv.org/e-print/2508.18366\n",
      "extracting tarball to tmp_2508.18366..."
     ]
    },
    {
     "name": "stdout",
     "output_type": "stream",
     "text": [
      " done.\n"
     ]
    },
    {
     "name": "stdout",
     "output_type": "stream",
     "text": [
      "D. Blain  ->  D. Blain  |  ['D. Blain']\n",
      "G. Chauvin  ->  G. Chauvin  |  ['G. Chauvin']\n",
      "P. Mollière  ->  P. Mollière  |  ['P. Mollière']\n",
      "M. Ravet  ->  M. Ravet  |  ['M. Ravet']\n",
      "P. Boley  ->  P. Boley  |  ['P. Boley']\n",
      "L. Kreidberg  ->  L. Kreidberg  |  ['L. Kreidberg']\n",
      "R. v. Boekel  ->  R. v. Boekel  |  ['R. v. Boekel']\n"
     ]
    },
    {
     "name": "stdout",
     "output_type": "stream",
     "text": [
      "Found 115 bibliographic references in tmp_2508.18366/betaPic.bbl.\n",
      "Retrieving document from  https://arxiv.org/e-print/2508.18538\n",
      "extracting tarball to tmp_2508.18538..."
     ]
    },
    {
     "name": "stderr",
     "output_type": "stream",
     "text": [
      "/opt/hostedtoolcache/Python/3.9.23/x64/lib/python3.9/site-packages/arxiv_on_deck_2/latex_bib.py:132: UserWarning: Error processing bibitem\n",
      " item = \\bibitem[{{Ravet et al.}(in review)}]{Ravet2025}{Ravet et al.} in review\n",
      " regex = \n",
      "        \\\\bibitem(\\[[^\\[\\]]*?\\]){(?P<bibkey>[a-zA-Z0-9\\-\\+\\.\\S]+?)}(?P<authors>|([\\D]*?))(?P<year>[12][0-9]{3})(?P<rest>.*)\n",
      "        \n",
      "  warnings.warn(str(e))\n"
     ]
    },
    {
     "name": "stdout",
     "output_type": "stream",
     "text": [
      " done.\n",
      "Retrieving document from  https://arxiv.org/e-print/2508.19046\n"
     ]
    },
    {
     "name": "stderr",
     "output_type": "stream",
     "text": [
      "/tmp/ipykernel_3380/2822249172.py:52: LatexWarning: 2508.19046 did not run properly\n",
      "not a gzip file\n",
      "  warnings.warn(latex.LatexWarning(f\"{paper_id:s} did not run properly\\n\" +\n"
     ]
    },
    {
     "name": "stdout",
     "output_type": "stream",
     "text": [
      "Retrieving document from  https://arxiv.org/e-print/2508.19053\n",
      "extracting tarball to tmp_2508.19053..."
     ]
    },
    {
     "name": "stdout",
     "output_type": "stream",
     "text": [
      " done.\n"
     ]
    },
    {
     "name": "stderr",
     "output_type": "stream",
     "text": [
      "/opt/hostedtoolcache/Python/3.9.23/x64/lib/python3.9/site-packages/IPython/core/interactiveshell.py:3550: LatexWarning: Multiple tex files.\n",
      "\n",
      "  exec(code_obj, self.user_global_ns, self.user_ns)\n",
      "/opt/hostedtoolcache/Python/3.9.23/x64/lib/python3.9/site-packages/IPython/core/interactiveshell.py:3550: LatexWarning: Found documentclass in tmp_2508.19053/main.tex\n",
      "\n",
      "  exec(code_obj, self.user_global_ns, self.user_ns)\n",
      "/opt/hostedtoolcache/Python/3.9.23/x64/lib/python3.9/site-packages/arxiv_on_deck_2/latex.py:414: LatexWarning: Latex injecting: 'authorlist' from 'tmp_2508.19053/authorlist.tex'\n",
      "  warnings.warn(LatexWarning(f\"Latex injecting: '{ext}' from '{subsource}'\"))\n"
     ]
    },
    {
     "name": "stdout",
     "output_type": "stream",
     "text": [
      "M. Benisty  ->  M. Benisty  |  ['M. Benisty']\n"
     ]
    },
    {
     "name": "stdout",
     "output_type": "stream",
     "text": [
      "Found 131 bibliographic references in tmp_2508.19053/main.bbl.\n",
      "Issues with the citations\n",
      "syntax error in line 81: '=' expected\n",
      "Retrieving document from  https://arxiv.org/e-print/2508.19170\n"
     ]
    },
    {
     "name": "stdout",
     "output_type": "stream",
     "text": [
      "extracting tarball to tmp_2508.19170..."
     ]
    },
    {
     "name": "stdout",
     "output_type": "stream",
     "text": [
      " done.\n"
     ]
    }
   ],
   "source": [
    "documents = []\n",
    "failed = []\n",
    "for paper in tqdm(candidates):\n",
    "    # debug crap\n",
    "    paper['identifier'] = paper['identifier'].lower().replace('arxiv:', '').replace(r'\\n', '').strip()\n",
    "    paper_id = paper['identifier']\n",
    "    \n",
    "    folder = f'tmp_{paper_id}'\n",
    "\n",
    "    try:\n",
    "        if not os.path.isdir(folder):\n",
    "            folder = retrieve_document_source(f\"{paper_id}\", f'tmp_{paper_id}')\n",
    "        \n",
    "        try:\n",
    "            doc = latex.LatexDocument(folder, validation=validation)    \n",
    "        except AffiliationError as affilerror:\n",
    "            msg = f\"ArXiv:{paper_id:s} is not an MPIA paper... \" + str(affilerror)\n",
    "            failed.append((paper, \"affiliation error: \" + str(affilerror) ))\n",
    "            continue\n",
    "        \n",
    "        # Hack because sometimes author parsing does not work well\n",
    "        if (len(doc.authors) != len(paper['authors'])):\n",
    "            doc._authors = paper['authors']\n",
    "        else:\n",
    "            # highlight authors (FIXME: doc.highlight_authors)\n",
    "            # done on arxiv paper already\n",
    "            doc._authors = highlight_authors_in_list(\n",
    "                [get_initials(k) for k in doc.authors], \n",
    "                mpia_authors, verbose=True)\n",
    "        if (doc.abstract) in (None, ''):\n",
    "            doc._abstract = paper['abstract']\n",
    "            \n",
    "        doc.comment = (get_markdown_badge(paper_id) + \n",
    "                       \"<mark>Appeared on: \" + paper['date'] + \"</mark> - \")\n",
    "        if paper['comments']:\n",
    "            doc.comment += \" _\" + paper['comments'] + \"_\"\n",
    "        \n",
    "        full_md = doc.generate_markdown_text()\n",
    "        \n",
    "        full_md += get_markdown_qrcode(paper_id)\n",
    "        \n",
    "        # replace citations\n",
    "        try:\n",
    "            bibdata = latex_bib.LatexBib.from_doc(doc)\n",
    "            full_md = latex_bib.replace_citations(full_md, bibdata)\n",
    "        except Exception as e:\n",
    "            print(\"Issues with the citations\")\n",
    "            print(e)\n",
    "        \n",
    "        documents.append((paper_id, full_md))\n",
    "    except Exception as e:\n",
    "        warnings.warn(latex.LatexWarning(f\"{paper_id:s} did not run properly\\n\" +\n",
    "                                         str(e)\n",
    "                                        ))\n",
    "        failed.append((paper, \"latex error \" + str(e)))"
   ]
  },
  {
   "cell_type": "markdown",
   "id": "2505a25c",
   "metadata": {
    "papermill": {
     "duration": 0.004293,
     "end_time": "2025-08-27T04:13:44.696400",
     "exception": false,
     "start_time": "2025-08-27T04:13:44.692107",
     "status": "completed"
    },
    "tags": []
   },
   "source": [
    "### Export the logs\n",
    "\n",
    "Throughout, we also keep track of the logs per paper. see `logs-{today date}.md` "
   ]
  },
  {
   "cell_type": "code",
   "execution_count": 6,
   "id": "d733828a",
   "metadata": {
    "execution": {
     "iopub.execute_input": "2025-08-27T04:13:44.705770Z",
     "iopub.status.busy": "2025-08-27T04:13:44.705522Z",
     "iopub.status.idle": "2025-08-27T04:13:44.724256Z",
     "shell.execute_reply": "2025-08-27T04:13:44.723743Z"
    },
    "papermill": {
     "duration": 0.024485,
     "end_time": "2025-08-27T04:13:44.725193",
     "exception": false,
     "start_time": "2025-08-27T04:13:44.700708",
     "status": "completed"
    },
    "scrolled": false,
    "tags": []
   },
   "outputs": [
    {
     "data": {
      "text/markdown": [
       "## Successful papers"
      ],
      "text/plain": [
       "<IPython.core.display.Markdown object>"
      ]
     },
     "metadata": {},
     "output_type": "display_data"
    },
    {
     "data": {
      "text/markdown": [
       "\n",
       "|||\n",
       "|---:|:---|\n",
       "| [![arXiv](https://img.shields.io/badge/arXiv-2508.18366-b31b1b.svg)](https://arxiv.org/abs/2508.18366) | **The mid-infrared spectrum of $β$ Pictoris b. First VLTI/MATISSE interferometric observations of an exoplanet**  |\n",
       "|| M. Houllé, et al. -- incl., <mark>D. Blain</mark>, <mark>G. Chauvin</mark>, <mark>P. Mollière</mark>, <mark>M. Ravet</mark>, <mark>P. Boley</mark>, <mark>L. Kreidberg</mark>, <mark>R. v. Boekel</mark> |\n",
       "|*Appeared on*| *2025-08-27*|\n",
       "|*Comments*| *21 pages, 17 figures. Accepted for publication in A&A*|\n",
       "|**Abstract**|            Few spectra of directly-imaged exoplanets have been obtained in the mid-infrared (> 3 $\\mu$m). This region is particularly rich in molecular spectral signatures, whose measurements can help recover atmospheric parameters and provide a better understanding of giant planet formation and atmospheric dynamics. In the past years, exoplanet interferometry with the VLTI/GRAVITY instrument has provided medium-resolution spectra of a dozen substellar companions in the near infrared. The 100-meter interferometric baselines allow for the stellar and planetary signals to be efficiently disentangled at close angular separations (< 0.3''). We aim to extend this technique to the mid-infrared using MATISSE, the VLTI's mid-infrared spectro-interferometer. We take advantage of the fringe tracking and off-axis pointing capabilities recently brought by the GRA4MAT upgrade. Using this new mode, we observed the giant planet $\\beta$ Pictoris b in L and M bands (2.75-5 $\\mu$m) at a spectral resolution of 500. We developed a method to correct chromatic dispersion and non-common paths effects in the fringe phase and modelled the planet astrometry and stellar contamination. We obtained a high-signal-to-noise spectrum of $\\beta$ Pictoris b, showing the planet continuum in L (for the first time) and M bands, which contains broad absorption features of H$_2$O and CO. In conjunction with a new GRAVITY spectrum, we modelled it with the ForMoSA nested sampling tool and the Exo-REM grid of atmospheric models, and found a solar carbon-to-oxygen ratio in the planet atmosphere. This study opens the way to the characterization of fainter and closer-in planets with MATISSE, which could complement the JWST at angular separations too close for it to obtain exoplanet spectra. Starting in 2025, the new adaptive optics system brought by the GRAVITY+ upgrade will further extend the detection limits of MATISSE.         |"
      ],
      "text/plain": [
       "[2508.18366] The mid-infrared spectrum of $β$ Pictoris b. First VLTI/MATISSE interferometric observations of an exoplanet\n",
       "\tM. Houllé, et al. -- incl., <mark>D. Blain</mark>, <mark>G. Chauvin</mark>, <mark>P. Mollière</mark>, <mark>M. Ravet</mark>, <mark>P. Boley</mark>, <mark>L. Kreidberg</mark>, <mark>R. v. Boekel</mark>"
      ]
     },
     "metadata": {},
     "output_type": "display_data"
    },
    {
     "data": {
      "text/markdown": [
       "\n",
       "|||\n",
       "|---:|:---|\n",
       "| [![arXiv](https://img.shields.io/badge/arXiv-2508.19053-b31b1b.svg)](https://arxiv.org/abs/2508.19053) | **WIde Separation Planets In Time (WISPIT): A Gap-clearing Planet in a Multi-ringed Disk around the Young Solar-type Star WISPIT 2**  |\n",
       "|| R. F. v. Capelleveen, et al. -- incl., <mark>M. Benisty</mark> |\n",
       "|*Appeared on*| *2025-08-27*|\n",
       "|*Comments*| **|\n",
       "|**Abstract**|            In the past decades several thousand exoplanet systems have been discovered around evolved, main-sequence stars, revealing a wide diversity in their architectures. To understand how the planet formation process can lead to vastly different outcomes in system architecture we have to study the starting conditions of planet formation within the disks around young stars. In this study we are presenting high resolution direct imaging observations with VLT/SPHERE of the young ($\\sim$5 Myr), nearby ($\\sim$133 pc), solar-analog designated as WISPIT 2($=$ TYC~5709-354-1). These observations were taken as part of our survey program that explores the formation and orbital evolution of wide-separation gas giants. WISPIT 2 was observed in four independent epochs using polarized light and total intensity observations. They reveal for the first time an extended (380 au) disk in scattered light with a multi-ringed sub-structure. We directly detect a young proto-planet WISPIT 2b, embedded in a disk gap and show that it is co-moving with its host star. Multiple SPHERE epochs demonstrate that it shows orbital motion consistent with Keplerian motion in the observed disk gap. Our $H$ and $K_s$-band photometric data are consistent with thermal emission from a young planet. By comparison with planet evolutionary models, we find a mass of the planet of $4.9^{+0.9}_{-0.6}$ Jupiter masses. This mass is also consistent with the width of the observed disk gap, retrieved from hydrodynamic models. WISPIT 2b is the first unambiguous planet detection in a multi-ringed disk, making the WISPIT 2 system the ideal laboratory to study planet-disk interaction and subsequent evolution.         |"
      ],
      "text/plain": [
       "[2508.19053] WIde Separation Planets In Time (WISPIT): A Gap-clearing Planet in a Multi-ringed Disk around the Young Solar-type Star WISPIT 2\n",
       "\tR. F. v. Capelleveen, et al. -- incl., <mark>M. Benisty</mark>"
      ]
     },
     "metadata": {},
     "output_type": "display_data"
    },
    {
     "data": {
      "text/markdown": [
       "## Failed papers"
      ],
      "text/plain": [
       "<IPython.core.display.Markdown object>"
      ]
     },
     "metadata": {},
     "output_type": "display_data"
    },
    {
     "data": {
      "text/markdown": [
       "\n",
       "|||\n",
       "|---:|:---|\n",
       "| [![arXiv](https://img.shields.io/badge/arXiv-2508.18348-b31b1b.svg)](https://arxiv.org/abs/2508.18348) | **Transiting Planetary Debris near the Roche Limit of a White Dwarf on a 4.97$\\,$hr Orbit -- and its Vanishing**  |\n",
       "|| J. A. Guidry, et al. -- incl., <mark>K. El-Badry</mark> |\n",
       "|*Appeared on*| *2025-08-27*|\n",
       "|*Comments*| *The first two authors listed are both lead authors. 23 pages, 9 figures, accepted for publication in The Astrophysical Journal. For a Zenodo library housing all the follow-up time-series photometry we collected and analyzed, see this https URL*|\n",
       "|**Abstract**|            We present the discovery of deep, irregular, periodic transits towards the white dwarf ZTF$\\,$J1944$+$4557 using follow-up time-series photometry and spectroscopy from Palomar, Keck, McDonald, Perkins, and Lowell observatories. We find a predominant period of 4.9704$\\,$hr, consistent with an orbit near the Roche limit of the white dwarf, with individual dips over 30$\\%$ deep and lasting between 15 and 40 minutes. Similar to the first known white dwarf with transiting debris, WD$\\,$1145$+$017, the transit events are well-defined with prominent out-of-transit phases where the white dwarf appears unobscured. Spectroscopy concurrent with transit photometry reveals the average Ca$\\,$K equivalent width remains constant in and out of transit. The broadening observed in several absorption features cannot be reproduced by synthetic photospheric models, suggesting the presence of circumstellar gas. Simultaneous $g+r$- and $g+i$-band light curves from the CHIMERA instrument reveal no color dependence to the transit depths, requiring transiting dust grains to have sizes $s \\gtrsim0.2\\,\\mu$m. The transit morphologies appear to be constantly changing at a rate faster than the orbital period. Overall transit activity varies in the system, with transit features completely disappearing during the seven months between our 2023 and 2024 observing seasons and then reappearing in 2025$~$March, still repeating at 4.9704$\\,$hr. Our observations of the complete cessation and resumption of transit activity provide a novel laboratory for constraining the evolution of disrupted debris and processes like disk exhaustion and replenishment timescales at white dwarfs.         |\n",
       "|<p style=\"color:green\"> **ERROR** </p>| <p style=\"color:green\">affiliation error: mpia.affiliation_verifications: 'Heidelberg' keyword not found.</p> |"
      ],
      "text/plain": [
       "<IPython.core.display.Markdown object>"
      ]
     },
     "metadata": {},
     "output_type": "display_data"
    },
    {
     "data": {
      "text/markdown": [
       "\n",
       "|||\n",
       "|---:|:---|\n",
       "| [![arXiv](https://img.shields.io/badge/arXiv-2508.18538-b31b1b.svg)](https://arxiv.org/abs/2508.18538) | **Impact of gravity on changing magnetic field orientations in a sample of massive protostellar clusters observed with ALMA**  |\n",
       "|| Q. Zhang, et al. -- incl., <mark>J. Liu</mark> |\n",
       "|*Appeared on*| *2025-08-27*|\n",
       "|*Comments*| *Accepted for publication in the Astrophysical Journal*|\n",
       "|**Abstract**|            The magnetic field is integral to our understanding of the formation and dynamical evolution of molecular clouds and star formation within. We present a polarimetric survey of 17 massive protostellar cluster forming clumps, covered in 34 pointings in the 230-GHz window using the Atacama Large Millimeter/submillimeter Array (ALMA). The two array configurations, C43-1 and C43-4, probe linearly polarized dust emission, hence the plane-of-the-sky orientation of magnetic fields, at resolutions of 1\\arcsec\\ and 0\\arcsec.4 that correspond to approximately 0.01pc core and $10^3$ au envelope scales, respectively. The relative orientations (ROs) of the magnetic field probed at two spatial scales are analyzed for the entire protostellar cluster sample and for a subset of objects in NGC 6334. We found a bimodal distribution of ROs with peaks at 0° (parallel) and 90°(orthogonal) for the entire sample combined as well as for NGC 6334. We investigate the physical origin of this bimodal distribution through a projected Rayleigh statistic (PRS) analysis in relation to column densities and local gravity in NGC 6334. We found an excess of parallel magnetic fields at column densities $> 10^{23}$ \\cmm. The underlying cause of the RO distribution of the magnetic field is gravitational collapse at higher gas densities, which drags and reorients the magnetic field as shown in the alignment between the magnetic field and the direction of gravitational forces. The distribution of ROs observed here is consistent with the evolution of relative orientations of an initially sub-Alvénic cloud that becomes magnetically super-critical and super-Alvénic as the cloud collapses to form stars.         |\n",
       "|<p style=\"color:green\"> **ERROR** </p>| <p style=\"color:green\">affiliation error: mpia.affiliation_verifications: 'Heidelberg' keyword not found.</p> |"
      ],
      "text/plain": [
       "<IPython.core.display.Markdown object>"
      ]
     },
     "metadata": {},
     "output_type": "display_data"
    },
    {
     "data": {
      "text/markdown": [
       "\n",
       "|||\n",
       "|---:|:---|\n",
       "| [![arXiv](https://img.shields.io/badge/arXiv-2508.19170-b31b1b.svg)](https://arxiv.org/abs/2508.19170) | **Stellar Mass Assembly History of Massive Quiescent Galaxies since $z\\sim4$: Insights from Spatially Resolved SED Fitting with JWST Data**  |\n",
       "|| N. S. Haryana, et al. -- incl., <mark>K. Lee</mark> |\n",
       "|*Appeared on*| *2025-08-27*|\n",
       "|*Comments*| *21 pages, 13 figures, submitted to ApJ*|\n",
       "|**Abstract**|            Massive quiescent galaxies at high redshift show significantly more compact morphology than their local counterparts. To examine their internal structure across a wide redshift range and investigate potential redshift dependence, we performed spatially resolved SED fitting using pixedfit software on massive $(\\log(M_*/M_\\odot)\\sim11)$ quiescent galaxies at $0<z<4$ with public James Webb Space Telescope and Hubble Space Telescope imaging data from the Public Release Imaging for Extragalactic Research and the Cosmic Evolution Early Release Science Survey. We find that at $z \\sim 3.5$, the half-mass radius is about 5.4 times smaller than at $z \\sim 0.5$. This growth is driven by stellar mass buildup in the outskirts ($r > 4$ kpc), while the central regions ($r \\sim 1$ kpc) remain largely unchanged, with stellar mass surface density similar to local quiescent galaxies. The estimated star formation rates are too low to explain the stellar mass growth, indicating an additional stellar mass accumulation process, such as mergers, is necessary. We parameterize the size-mass relation of the most massive galaxies in our sample as $\\log(R_{e,mass}) \\propto \\alpha \\log(M_*)$, and find $\\alpha = 2.67^{+1.14}_{-1.17}$ for $z\\lessapprox2$, consistent with growth dominated by minor mergers, and $\\alpha = 0.91^{+0.20}_{-0.16}$ for $z\\gtrapprox2$, consistent with growth dominated by major mergers. These results indicate that massive quiescent galaxies originate from compact quenched systems and grow through combinations of minor and major mergers.         |\n",
       "|<p style=\"color:green\"> **ERROR** </p>| <p style=\"color:green\">affiliation error: mpia.affiliation_verifications: 'Heidelberg' keyword not found.</p> |"
      ],
      "text/plain": [
       "<IPython.core.display.Markdown object>"
      ]
     },
     "metadata": {},
     "output_type": "display_data"
    },
    {
     "data": {
      "text/markdown": [
       "\n",
       "|||\n",
       "|---:|:---|\n",
       "| [![arXiv](https://img.shields.io/badge/arXiv-2508.18358-b31b1b.svg)](https://arxiv.org/abs/2508.18358) | **The Missing Hard Photons of Little Red Dots: Their Incident Ionizing Spectra Resemble Massive Stars**  |\n",
       "|| B. Wang, et al. -- incl., <mark>A. d. Graaff</mark> |\n",
       "|*Appeared on*| *2025-08-27*|\n",
       "|*Comments*| *Submitted to ApJ; 25 pages, 14 figures, 1 table*|\n",
       "|**Abstract**|            The nature of Little Red Dots (LRDs) has largely been investigated through their continuum emission, with lines assumed to arise from a broad-line region. In this paper, we instead use recombination lines to infer the intrinsic properties of the central engine of LRDs. Our analysis first reveals a tension between the ionizing properties implied from H$\\alpha$ and HeII$\\,\\lambda$4686. The high H$\\alpha$ EWs require copious H-ionizing photons, more than the bluest AGN ionizing spectra can provide. In contrast, HeII emission is marginally detected, and its low EW is, at most, consistent with the softest AGN spectra. The low HeII/H$\\beta$ ($\\sim10^{-2}$, $<20\\times$ local AGN median) further points to an unusually soft ionizing spectrum. We extend our analysis to dense gas environments (the ``black-hole star'' hypothesis), and find that hydrogen recombination lines become optically thick and lose diagnostic power, but HeII remains optically thin and a robust tracer. Photoionization modeling with Cloudy rules out standard AGN accretion disk spectra. Alternative explanations include: exotic AGN with red rest-optical emission; a very high {\\it average} optical depth ($>10$) from gas/dust; and/or soft ionizing spectra with abundant H-ionizing photons, consistent with e.g., a cold accretion disk or a composite of AGN and stars. The latter is an intriguing scenario since high hydrogen densities are highly conducive for star formation, and nuclear star clusters are found in the immediate vicinity of local massive black holes. While previous studies have mostly focused on features dominated by the absorbing hydrogen cloud, the HeII-based diagnostic proposed here represents a crucial step toward understanding the central engine of LRDs.         |\n",
       "|<p style=\"color:red\"> **ERROR** </p>| <p style=\"color:red\">latex error list index out of range</p> |"
      ],
      "text/plain": [
       "<IPython.core.display.Markdown object>"
      ]
     },
     "metadata": {},
     "output_type": "display_data"
    },
    {
     "data": {
      "text/markdown": [
       "\n",
       "|||\n",
       "|---:|:---|\n",
       "| [![arXiv](https://img.shields.io/badge/arXiv-2508.19046-b31b1b.svg)](https://arxiv.org/abs/2508.19046) | **Wide Separation Planets In Time (WISPIT): Discovery of a Gap H$α$ Protoplanet WISPIT 2b with MagAO-X**  |\n",
       "|| L. M. Close, et al. -- incl., <mark>J. Li</mark> |\n",
       "|*Appeared on*| *2025-08-27*|\n",
       "|*Comments*| *33 pages, 7 figures, Accepted for publication in ApJ Letters*|\n",
       "|**Abstract**|            Excellent (<25 mas) H$_{\\alpha}$ images of the star TYC 5709-354-1 led to the discovery of a rare H$_{\\alpha}$ protoplanet. This star was discovered by the WISPIT survey to have a large multi-ring transitional disk, and is hereafter WISPIT 2. Our H$_{\\alpha}$ images of 2025, April 13 and April 16 discovered an accreting (H$_{\\alpha}$ in emission) protoplanet: WISPIT 2b (r=309.43$\\pm$1.56 mas; (~54 au deprojected), PA=242.21$\\pm$0.41 degrees) likely clearing a dust-free gap between the two brightest dust rings in the transitional disk. Our SNR=12.5 detection gave an H$_{\\alpha}$ ASDI contrast of (6.5$\\pm$0.5)x10$^{-4}$ and a H$_{\\alpha}$ line flux of (1.29$\\pm$0.28)x10$^{-15}$ erg/s/cm$^2$. We also present L' photometry from LBT/LMIRcam of the planet (L'=15.30$\\pm$0.05 mag) which, when coupled with an age of 5.1$^{+2.4}_{-1.3}$ Myr, yields a planet mass estimate of 5.3$\\pm$1.0 Mjup from the DUSTY evolutionary models. WISPIT 2b is accreting at 2.25$^{-0.17}_{+3.75}$x10$^{-12}$ Msun/yr. WISPIT 2b is very similar to the other H$_{\\alpha}$ protoplanets in terms of mass, age, flux, and accretion rate. The inclination of the system (${\\it i}$=44 degrees) is also, surprisingly, very similar to the other known H$\\alpha$ protoplanet systems which all cluster from 37$\\leq{\\it i}\\leq$52 degrees. We argue this clustering has only a ~1.0% (2.6 sigma) probability of occurring randomly, and so we speculate that magnetospherical accretion might have a preferred inclination range (~37-52 degrees) for the direct (cloud free, low extinction) line of sight to the H-alpha line formation/shock region. We also find at 110mas (~15au deprojected) a close companion candidate (CC1) which may be consistent with an inner dusty 9$\\pm$4 Mjup planet.         |\n",
       "|<p style=\"color:red\"> **ERROR** </p>| <p style=\"color:red\">latex error not a gzip file</p> |"
      ],
      "text/plain": [
       "<IPython.core.display.Markdown object>"
      ]
     },
     "metadata": {},
     "output_type": "display_data"
    }
   ],
   "source": [
    "import datetime\n",
    "today = str(datetime.date.today())\n",
    "logfile = f\"_build/html/logs/log-{today}.md\"\n",
    "\n",
    "\n",
    "with open(logfile, 'w') as logs:\n",
    "    # Success\n",
    "    logs.write(f'# Arxiv on Deck 2: Logs - {today}\\n\\n')\n",
    "    logs.write(\"\"\"* Arxiv had {0:,d} new papers\\n\"\"\".format(len(new_papers)))\n",
    "    logs.write(\"\"\"    * {0:,d} with possible author matches\\n\\n\"\"\".format(len(candidates)))\n",
    "    logs.write(\"## Sucessful papers\\n\\n\")\n",
    "    display(Markdown(\"## Successful papers\"))\n",
    "    success = [k[0] for k in documents]\n",
    "    for candid in candidates:\n",
    "        if candid['identifier'].split(':')[-1] in success:\n",
    "            display(candid)\n",
    "            logs.write(candid.generate_markdown_text() + '\\n\\n')\n",
    "\n",
    "    ## failed\n",
    "    logs.write(\"## Failed papers\\n\\n\")\n",
    "    display(Markdown(\"## Failed papers\"))\n",
    "    failed = sorted(failed, key=lambda x: x[1])\n",
    "    current_reason = \"\"\n",
    "    for paper, reason in failed:\n",
    "        if 'affiliation' in reason:\n",
    "            color = 'green'\n",
    "        else:\n",
    "            color = 'red'\n",
    "        data = Markdown(\n",
    "                paper.generate_markdown_text() + \n",
    "                f'\\n|<p style=\"color:{color:s}\"> **ERROR** </p>| <p style=\"color:{color:s}\">{reason:s}</p> |'\n",
    "               )\n",
    "        if reason != current_reason:\n",
    "            logs.write(f'### {reason:s} \\n\\n')\n",
    "            current_reason = reason\n",
    "        logs.write(data.data + '\\n\\n')\n",
    "        \n",
    "        # only display here the important errors (all in logs)\n",
    "        # if color in ('red',):\n",
    "        display(data)"
   ]
  },
  {
   "cell_type": "markdown",
   "id": "472d20ee",
   "metadata": {
    "papermill": {
     "duration": 0.005062,
     "end_time": "2025-08-27T04:13:44.735554",
     "exception": false,
     "start_time": "2025-08-27T04:13:44.730492",
     "status": "completed"
    },
    "tags": []
   },
   "source": [
    "## Export documents\n",
    "\n",
    "We now write the .md files and export relevant images"
   ]
  },
  {
   "cell_type": "code",
   "execution_count": 7,
   "id": "d426aed9",
   "metadata": {
    "execution": {
     "iopub.execute_input": "2025-08-27T04:13:44.746613Z",
     "iopub.status.busy": "2025-08-27T04:13:44.746402Z",
     "iopub.status.idle": "2025-08-27T04:13:44.753131Z",
     "shell.execute_reply": "2025-08-27T04:13:44.752456Z"
    },
    "papermill": {
     "duration": 0.013468,
     "end_time": "2025-08-27T04:13:44.754156",
     "exception": false,
     "start_time": "2025-08-27T04:13:44.740688",
     "status": "completed"
    },
    "tags": []
   },
   "outputs": [],
   "source": [
    "def export_markdown_summary(md: str, md_fname:str, directory: str):\n",
    "    \"\"\"Export MD document and associated relevant images\"\"\"\n",
    "    import os\n",
    "    import shutil\n",
    "    import re\n",
    "\n",
    "    if (os.path.exists(directory) and not os.path.isdir(directory)):\n",
    "        raise RuntimeError(f\"a non-directory file exists with name {directory:s}\")\n",
    "\n",
    "    if (not os.path.exists(directory)):\n",
    "        print(f\"creating directory {directory:s}\")\n",
    "        os.mkdir(directory)\n",
    "\n",
    "    fig_fnames = (re.compile(r'\\[Fig.*\\]\\((.*)\\)').findall(md) + \n",
    "                  re.compile(r'\\<img src=\"([^>\\s]*)\"[^>]*/>').findall(md))\n",
    "    print(\"found figures\", fig_fnames)\n",
    "    for fname in fig_fnames:\n",
    "        if 'http' in fname:\n",
    "            # No need to copy online figures\n",
    "            continue\n",
    "        if not os.path.exists(fname):\n",
    "            print(\"file not found\", fname)\n",
    "            continue\n",
    "        print(\"copying \", fname, \"to\", directory)\n",
    "        destdir = os.path.join(directory, os.path.dirname(fname))\n",
    "        destfname = os.path.join(destdir, os.path.basename(fname))\n",
    "        try:\n",
    "            os.makedirs(destdir)\n",
    "        except FileExistsError:\n",
    "            pass\n",
    "        shutil.copy(fname, destfname)\n",
    "    with open(os.path.join(directory, md_fname), 'w') as fout:\n",
    "        fout.write(md)\n",
    "    print(\"exported in \", os.path.join(directory, md_fname))\n",
    "    [print(\"    + \" + os.path.join(directory,fk)) for fk in fig_fnames]"
   ]
  },
  {
   "cell_type": "code",
   "execution_count": 8,
   "id": "014d04a4",
   "metadata": {
    "execution": {
     "iopub.execute_input": "2025-08-27T04:13:44.765880Z",
     "iopub.status.busy": "2025-08-27T04:13:44.765527Z",
     "iopub.status.idle": "2025-08-27T04:13:44.775487Z",
     "shell.execute_reply": "2025-08-27T04:13:44.774957Z"
    },
    "papermill": {
     "duration": 0.016635,
     "end_time": "2025-08-27T04:13:44.776474",
     "exception": false,
     "start_time": "2025-08-27T04:13:44.759839",
     "status": "completed"
    },
    "tags": []
   },
   "outputs": [
    {
     "name": "stdout",
     "output_type": "stream",
     "text": [
      "found figures ['tmp_2508.18366/./figures/full_spectrum_with_absorption.png', 'tmp_2508.18366/./figures/2022-11-09T053702_OB2_exp7_frame3_planet_bin_real_model_allframes_augmented.png', 'tmp_2508.18366/./figures/2022-11-09T053702_OB2_exp7_frame3_planet_bin_imag_model_allframes_augmented.png', 'tmp_2508.18366/./figures/refraction_model_comparison_star_jamescorr_v2.png', 'tmp_2508.18366/./figures/refraction_model_comparison_planet_jamescorr_v2.png']\n",
      "copying  tmp_2508.18366/./figures/full_spectrum_with_absorption.png to _build/html/\n",
      "copying  tmp_2508.18366/./figures/2022-11-09T053702_OB2_exp7_frame3_planet_bin_real_model_allframes_augmented.png to _build/html/\n",
      "copying  tmp_2508.18366/./figures/2022-11-09T053702_OB2_exp7_frame3_planet_bin_imag_model_allframes_augmented.png to _build/html/\n",
      "copying  tmp_2508.18366/./figures/refraction_model_comparison_star_jamescorr_v2.png to _build/html/\n",
      "copying  tmp_2508.18366/./figures/refraction_model_comparison_planet_jamescorr_v2.png to _build/html/\n",
      "exported in  _build/html/2508.18366.md\n",
      "    + _build/html/tmp_2508.18366/./figures/full_spectrum_with_absorption.png\n",
      "    + _build/html/tmp_2508.18366/./figures/2022-11-09T053702_OB2_exp7_frame3_planet_bin_real_model_allframes_augmented.png\n",
      "    + _build/html/tmp_2508.18366/./figures/2022-11-09T053702_OB2_exp7_frame3_planet_bin_imag_model_allframes_augmented.png\n",
      "    + _build/html/tmp_2508.18366/./figures/refraction_model_comparison_star_jamescorr_v2.png\n",
      "    + _build/html/tmp_2508.18366/./figures/refraction_model_comparison_planet_jamescorr_v2.png\n",
      "found figures ['tmp_2508.19053/./planet-multi-panel_freeze.png', 'tmp_2508.19053/./WISPIT2_main_figure.png', 'tmp_2508.19053/./ring3_bottom_side.png']\n",
      "copying  tmp_2508.19053/./planet-multi-panel_freeze.png to _build/html/\n",
      "copying  tmp_2508.19053/./WISPIT2_main_figure.png to _build/html/\n",
      "copying  tmp_2508.19053/./ring3_bottom_side.png to _build/html/\n",
      "exported in  _build/html/2508.19053.md\n",
      "    + _build/html/tmp_2508.19053/./planet-multi-panel_freeze.png\n",
      "    + _build/html/tmp_2508.19053/./WISPIT2_main_figure.png\n",
      "    + _build/html/tmp_2508.19053/./ring3_bottom_side.png\n"
     ]
    }
   ],
   "source": [
    "for paper_id, md in documents:\n",
    "    export_markdown_summary(md, f\"{paper_id:s}.md\", '_build/html/')"
   ]
  },
  {
   "cell_type": "markdown",
   "id": "f087a0a7",
   "metadata": {
    "papermill": {
     "duration": 0.005181,
     "end_time": "2025-08-27T04:13:44.786948",
     "exception": false,
     "start_time": "2025-08-27T04:13:44.781767",
     "status": "completed"
    },
    "tags": []
   },
   "source": [
    "## Display the papers\n",
    "\n",
    "Not necessary but allows for a quick check."
   ]
  },
  {
   "cell_type": "code",
   "execution_count": 9,
   "id": "fd25f625",
   "metadata": {
    "execution": {
     "iopub.execute_input": "2025-08-27T04:13:44.798445Z",
     "iopub.status.busy": "2025-08-27T04:13:44.798233Z",
     "iopub.status.idle": "2025-08-27T04:13:44.803806Z",
     "shell.execute_reply": "2025-08-27T04:13:44.803159Z"
    },
    "papermill": {
     "duration": 0.01244,
     "end_time": "2025-08-27T04:13:44.804805",
     "exception": false,
     "start_time": "2025-08-27T04:13:44.792365",
     "status": "completed"
    },
    "scrolled": false,
    "tags": []
   },
   "outputs": [
    {
     "data": {
      "text/markdown": [
       "<div class=\"macros\" style=\"visibility:hidden;\">\n",
       "$\\newcommand{\\ensuremath}{}$\n",
       "$\\newcommand{\\xspace}{}$\n",
       "$\\newcommand{\\object}[1]{\\texttt{#1}}$\n",
       "$\\newcommand{\\farcs}{{.}''}$\n",
       "$\\newcommand{\\farcm}{{.}'}$\n",
       "$\\newcommand{\\arcsec}{''}$\n",
       "$\\newcommand{\\arcmin}{'}$\n",
       "$\\newcommand{\\ion}[2]{#1#2}$\n",
       "$\\newcommand{\\textsc}[1]{\\textrm{#1}}$\n",
       "$\\newcommand{\\hl}[1]{\\textrm{#1}}$\n",
       "$\\newcommand{\\footnote}[1]{}$</div>\n",
       "\n",
       "\n",
       "\n",
       "<div id=\"title\">\n",
       "\n",
       "# The mid-infrared spectrum of $\\beta$ Pictoris b: First VLTI/MATISSE interferometric observations of an exoplanet $\\thanks{Based on public data released from the MATISSE commissioning observations at the VLT Interferometer under ESO Programme 60.A-9257(H), and NACO observations under ESO Programme 088.C-0196.}$\n",
       "\n",
       "</div>\n",
       "<div id=\"comments\">\n",
       "\n",
       "[![arXiv](https://img.shields.io/badge/arXiv-2508.18366-b31b1b.svg)](https://arxiv.org/abs/2508.18366)<mark>Appeared on: 2025-08-27</mark> -  _21 pages, 17 figures. Accepted for publication in A&A_\n",
       "\n",
       "</div>\n",
       "<div id=\"authors\">\n",
       "\n",
       "M. Houllé, et al. -- incl., <mark>D. Blain</mark>, <mark>G. Chauvin</mark>, <mark>P. Mollière</mark>, <mark>M. Ravet</mark>, <mark>P. Boley</mark>, <mark>L. Kreidberg</mark>, <mark>R. v. Boekel</mark>\n",
       "\n",
       "</div>\n",
       "<div id=\"abstract\">\n",
       "\n",
       "**Abstract:** Few spectra of directly-imaged exoplanets have been obtained in the mid-infrared ( $>3$ µm). This region is particularly rich in molecular spectral signatures, whose measurements can help recover atmospheric parameters and provide a better understanding of giant planet formation and atmospheric dynamics. In the past years, exoplanet interferometry with the VLTI/GRAVITY instrument has provided medium-resolution spectra of a dozen substellar companions in the near infrared. The 100-meter interferometric baselines allow for the stellar and planetary signals to be efficiently disentangled at close angular separations ( $<0.3$ \"). We aim to extend this technique to the mid-infrared using MATISSE, the VLTI’s mid-infrared spectro-interferometer. We take advantage of the fringe tracking and off-axis pointing capabilities recently brought by the GRA4MAT upgrade. Using this new mode, we observed the giant planet $\\beta$ Pictoris b in $L$ and $M$ bands (2.75--5 µm) at a spectral resolution of 500. We developed a method to correct chromatic dispersion and non-common paths effects in the fringe phase and modelled the planet astrometry and stellar contamination. We obtained a high-signal-to-noise spectrum of $\\beta$ Pictoris b, showing the planet continuum in $L$ (for the first time) and $M$ bands, which contains broad absorption features of $H_2$ O and CO. In conjunction with a new GRAVITY spectrum, we modelled it with the \\texttt{ForMoSA} nested sampling tool and the Exo-REM grid of atmospheric models, and found a solar carbon-to-oxygen ratio in the planet atmosphere. This study opens the way to the characterization of fainter and closer-in planets with MATISSE, which could complement the JWST at angular separations too close for it to obtain exoplanet spectra. Starting in 2025, the new adaptive optics system brought by the GRAVITY+ upgrade will further extend the detection limits of MATISSE.\n",
       "\n",
       "</div>\n",
       "\n",
       "<div id=\"div_fig1\">\n",
       "\n",
       "<img src=\"tmp_2508.18366/./figures/full_spectrum_with_absorption.png\" alt=\"Fig12\" width=\"100%\"/>\n",
       "\n",
       "**Figure 12. -** Spectrum of $\\beta$ Pic b with MATISSE (black, this work) compared to other instruments: NACO (yellow, new data), GPI \\citep[blue,][]{Chilcote2017}, GRAVITY (green, new data) and MIRI \\citep[red,][]{Worthen2024}. Only the slope of the NACO spectrum can be compared to MATISSE as the absolute level was scaled manually. MATISSE data with a S/N < 5, located in strong telluric bands and not used in this work, are shown in grey. The absorption curves of $H_2$O, CO, and $CH_4$, calculated from the best-fitting Exo-REM model presented in Sect. \\ref{sec:modeling}, are plotted at the top to visualize their impact on the spectrum. $H_2$O and CO leaves a visible pattern, but not $CH_4$, likely because it is dominated by $H_2$O absorption or buried in noise. (*fig:spectrum*)\n",
       "\n",
       "</div>\n",
       "<div id=\"div_fig2\">\n",
       "\n",
       "<img src=\"tmp_2508.18366/./figures/2022-11-09T053702_OB2_exp7_frame3_planet_bin_real_model_allframes_augmented.png\" alt=\"Fig10.1\" width=\"50%\"/><img src=\"tmp_2508.18366/./figures/2022-11-09T053702_OB2_exp7_frame3_planet_bin_imag_model_allframes_augmented.png\" alt=\"Fig10.2\" width=\"50%\"/>\n",
       "\n",
       "**Figure 10. -** Real (left) and imaginary (right) parts of the measured planet-to-star coherent flux ratio $\\mathcal{F}$ on the six UT baselines, during one 10-s frame. The error range is plotted in the background. The thick lines show the best-fit model as described in Sect. \\ref{sec:astrometry}. It includes the star-planet modulation, the stellar speckle contamination (dashed blue curves), and the planet-to-star contrast assumption (dashed black curve). (*fig:model+dataampphase*)\n",
       "\n",
       "</div>\n",
       "<div id=\"div_fig3\">\n",
       "\n",
       "<img src=\"tmp_2508.18366/./figures/refraction_model_comparison_star_jamescorr_v2.png\" alt=\"Fig2.1\" width=\"50%\"/><img src=\"tmp_2508.18366/./figures/refraction_model_comparison_planet_jamescorr_v2.png\" alt=\"Fig2.2\" width=\"50%\"/>\n",
       "\n",
       "**Figure 2. -** Measured differential phase (grey dots) in two MATISSE frames, one on the star (top) and the other on the planet (bottom). Overlaid are the models presented in this work using the air refractive indices of [ and Voronin (2017)]()(blue), [ and Mathar (2007)]()(green) and [ and Ciddor (1996)]()(red). In the absence of chromatic or non-common path OPD, the differential phase should be zero on the star or an oscillation on the planet.\n",
       "     (*fig:phase-correction*)\n",
       "\n",
       "</div><div id=\"qrcode\"><img src=https://api.qrserver.com/v1/create-qr-code/?size=100x100&data=\"https://arxiv.org/abs/2508.18366\"></div>"
      ],
      "text/plain": [
       "<IPython.core.display.Markdown object>"
      ]
     },
     "metadata": {},
     "output_type": "display_data"
    },
    {
     "data": {
      "text/markdown": [
       "<div class=\"macros\" style=\"visibility:hidden;\">\n",
       "$\\newcommand{\\ensuremath}{}$\n",
       "$\\newcommand{\\xspace}{}$\n",
       "$\\newcommand{\\object}[1]{\\texttt{#1}}$\n",
       "$\\newcommand{\\farcs}{{.}''}$\n",
       "$\\newcommand{\\farcm}{{.}'}$\n",
       "$\\newcommand{\\arcsec}{''}$\n",
       "$\\newcommand{\\arcmin}{'}$\n",
       "$\\newcommand{\\ion}[2]{#1#2}$\n",
       "$\\newcommand{\\textsc}[1]{\\textrm{#1}}$\n",
       "$\\newcommand{\\hl}[1]{\\textrm{#1}}$\n",
       "$\\newcommand{\\footnote}[1]{}$\n",
       "$\\newcommand{\\wis}{WISPIT\\xspace}$\n",
       "$\\newcommand{\\wisa}{WISPIT~2\\xspace}$\n",
       "$\\newcommand{\\wisb}{WISPIT~2b\\xspace}$\n",
       "$\\newcommand{\\vdag}{(v)^\\dagger}$\n",
       "$\\newcommand{\\mj}{\\ensuremath{\\mathrm{M_{Jup}}}\\xspace}$\n",
       "$\\newcommand$\n",
       "$\\newcommand$\n",
       "$\\newcommand{\\mb}[1]{\\textcolor{blue}{[#1]}}$\n",
       "$\\newcommand{\\sfa}[1]{\\textcolor{purple}{[#1]}}$\n",
       "$\\newcommand{\\pmra}{\\mu_{\\alpha *}}$\n",
       "$\\newcommand{\\pmdec}{\\mu_{\\delta}}$\n",
       "$\\newcommand{\\masyr}{mas yr^{-1}}$\n",
       "$\\newcommand{\\kms}{km s^{-1}}$\n",
       "$\\newcommand{\\cms}{cm s^{-2}}$\n",
       "$\\newcommand{\\arraystretch}{1.2}$\n",
       "$\\newcommand{\\arraystretch}{1.2}$\n",
       "$\\newcommand{\\arraystretch}{1.2}$\n",
       "$\\newcommand{\\arraystretch}{1.2}$\n",
       "$\\newcommand{\\arraystretch}{1.2}$\n",
       "$\\newcommand{\\arraystretch}{1.2}$\n",
       "$\\newcommand{\\arraystretch}{1.2}$\n",
       "$\\newcommand{\\arraystretch}{1.2}$\n",
       "$\\newcommand{\\arraystretch}{1.2}$\n",
       "$\\newcommand{\\arraystretch}{1.2}$\n",
       "$\\newcommand{\\arraystretch}{1.2}$</div>\n",
       "\n",
       "\n",
       "\n",
       "<div id=\"title\">\n",
       "\n",
       "# WIde Separation Planets In Time (WISPIT): \\ A gap-clearing planet in a multi-ringed disk around the young solar-type star WISPIT 2\n",
       "\n",
       "</div>\n",
       "<div id=\"comments\">\n",
       "\n",
       "[![arXiv](https://img.shields.io/badge/arXiv-2508.19053-b31b1b.svg)](https://arxiv.org/abs/2508.19053)<mark>Appeared on: 2025-08-27</mark> - \n",
       "\n",
       "</div>\n",
       "<div id=\"authors\">\n",
       "\n",
       "R. F. v. Capelleveen, et al. -- incl., <mark>M. Benisty</mark>\n",
       "\n",
       "</div>\n",
       "<div id=\"abstract\">\n",
       "\n",
       "**Abstract:** In the past decades several thousand exoplanet systems have been discovered around evolved, main-sequence stars, revealing a wide diversity in their architectures.To understand how the planet formation process can lead to vastly different outcomes in system architecture we have to study the starting conditions of planet formation within the disks around young stars.In this study we are presenting high resolution direct imaging observations with VLT/SPHERE of the young ( $\\sim$ 5 Myr), nearby ( $\\sim$ 133 pc), solar-analog designated as $\\wisa$ ( $=$ TYC 5709-354-1).These observations were taken as part of our survey program that explores the formation and orbital evolution of wide-separation gas giants.WISPIT 2 was observed in four independent epochs using polarized light and total intensity observations.They reveal for the first time an extended (380 au) disk in scattered light with a multi-ringed sub-structure.We directly detect a young proto-planet $\\wisb$ , embedded in a disk gap and show that it is co-moving with its host star.Multiple SPHERE epochs demonstrate that it shows orbital motion consistent with Keplerian motion in the observed disk gap.Our $H$ and $K_s$ -band photometric data are consistent with thermal emission from a young planet.By comparison with planet evolutionary models, we find a mass of the planet of $4.9^{+0.9}_{-0.6}$ $\\mj$ .This mass is also consistent with the width of the observed disk gap, retrieved from hydrodynamic models. $\\wisb$ is the first unambiguous planet detection in a multi-ringed disk, making the $\\wisa$ system the ideal laboratory to study planet-disk interaction and subsequent evolution.\n",
       "\n",
       "</div>\n",
       "\n",
       "<div id=\"div_fig1\">\n",
       "\n",
       "<img src=\"tmp_2508.19053/./planet-multi-panel_freeze.png\" alt=\"Fig10\" width=\"100%\"/>\n",
       "\n",
       "**Figure 10. -** All detections of the embedded planet $\\wis$b in the various observation epochs and filters.\n",
       "    We indicate the embedded planet position with a white, dotted circle.\n",
       "    The coronagraph position is indicated with a gray, hashed mask.\n",
       "    For the 2025 $K_s$-band data we show that the embedded planet is recovered with  classical and \\ac{pca}-based \\ac{adi} as well as in iRDI. (*fig:planet-images*)\n",
       "\n",
       "</div>\n",
       "<div id=\"div_fig2\">\n",
       "\n",
       "<img src=\"tmp_2508.19053/./WISPIT2_main_figure.png\" alt=\"Fig9\" width=\"100%\"/>\n",
       "\n",
       "**Figure 9. -** SPHERE/IRDIS observations of the $\\wis$a system.\n",
       "The gray, hashed disk in the image center indicates the size of the coronagraphic mask.\n",
       "The differential imaging method and observed waveband for each image are indicated in the top left corner.\n",
       "Blue-hued images reduced with the \\ac{adi} or \\ac{rdi}(50 principal components) methods are showing total intensity, sensitive to disk scattered light and thermal emission from embedded planets.\n",
       "The gray-hued images are $Q_\\phi$ images (reduced with the \\ac{pdi} method) showing linearly polarized scattered light, not sensitive to thermal emission.\n",
       " (*fig:obs-results*)\n",
       "\n",
       "</div>\n",
       "<div id=\"div_fig3\">\n",
       "\n",
       "<img src=\"tmp_2508.19053/./ring3_bottom_side.png\" alt=\"Fig17\" width=\"100%\"/>\n",
       "\n",
       "**Figure 17. -** Zoom-in on the innermost disk ring (ring 3).\n",
       "      We show polarized light $Q_\\phi$ images in the gray color scheme in the left and middle panel and the total intensity cADI $K_s$-band image in the blue color scheme in the right panel.\n",
       "      The middle panel shows the $Q_\\phi$ image after image deconvolution was applied.\n",
       "      Left and middle panel are displayed on a log scale due to the large dynamic range of the inner disk region while the right panel is on a linear scale.\n",
       "      The gray hashed circle in the image center marks the area covered by the coronagraphic mask.\n",
       "      We indicate with dotted lines (left and middle panel) and with a solid encircling ellipse (right panel) the signature of the inner disk bottom side. (*app:fig:disk bottom*)\n",
       "\n",
       "</div><div id=\"qrcode\"><img src=https://api.qrserver.com/v1/create-qr-code/?size=100x100&data=\"https://arxiv.org/abs/2508.19053\"></div>"
      ],
      "text/plain": [
       "<IPython.core.display.Markdown object>"
      ]
     },
     "metadata": {},
     "output_type": "display_data"
    }
   ],
   "source": [
    "[display(Markdown(k[1])) for k in documents];"
   ]
  },
  {
   "cell_type": "markdown",
   "id": "873873a4",
   "metadata": {
    "papermill": {
     "duration": 0.005483,
     "end_time": "2025-08-27T04:13:44.815913",
     "exception": false,
     "start_time": "2025-08-27T04:13:44.810430",
     "status": "completed"
    },
    "tags": []
   },
   "source": [
    "# Create HTML index"
   ]
  },
  {
   "cell_type": "code",
   "execution_count": 10,
   "id": "cf665672",
   "metadata": {
    "execution": {
     "iopub.execute_input": "2025-08-27T04:13:44.827800Z",
     "iopub.status.busy": "2025-08-27T04:13:44.827569Z",
     "iopub.status.idle": "2025-08-27T04:13:44.834532Z",
     "shell.execute_reply": "2025-08-27T04:13:44.833901Z"
    },
    "papermill": {
     "duration": 0.013979,
     "end_time": "2025-08-27T04:13:44.835507",
     "exception": false,
     "start_time": "2025-08-27T04:13:44.821528",
     "status": "completed"
    },
    "tags": []
   },
   "outputs": [
    {
     "name": "stdout",
     "output_type": "stream",
     "text": [
      "127  publications files modified in the last 7 days.\n"
     ]
    }
   ],
   "source": [
    "from datetime import datetime, timedelta, timezone\n",
    "from glob import glob\n",
    "import os\n",
    "\n",
    "files = glob('_build/html/*.md')\n",
    "days = 7\n",
    "now = datetime.today()\n",
    "res = []\n",
    "for fk in files:\n",
    "    stat_result = os.stat(fk).st_ctime\n",
    "    modified = datetime.fromtimestamp(stat_result, tz=timezone.utc).replace(tzinfo=None)\n",
    "    delta = now.today() - modified\n",
    "    if delta <= timedelta(days=days):\n",
    "        res.append((delta.seconds, fk))\n",
    "res = [k[1] for k in reversed(sorted(res, key=lambda x:x[1]))]\n",
    "npub = len(res)\n",
    "print(len(res), f\" publications files modified in the last {days:d} days.\")\n",
    "# [ print('\\t', k) for k in res ];"
   ]
  },
  {
   "cell_type": "code",
   "execution_count": 11,
   "id": "015de740",
   "metadata": {
    "execution": {
     "iopub.execute_input": "2025-08-27T04:13:44.847517Z",
     "iopub.status.busy": "2025-08-27T04:13:44.847326Z",
     "iopub.status.idle": "2025-08-27T04:13:44.859058Z",
     "shell.execute_reply": "2025-08-27T04:13:44.858529Z"
    },
    "papermill": {
     "duration": 0.01877,
     "end_time": "2025-08-27T04:13:44.859996",
     "exception": false,
     "start_time": "2025-08-27T04:13:44.841226",
     "status": "completed"
    },
    "tags": []
   },
   "outputs": [
    {
     "name": "stdout",
     "output_type": "stream",
     "text": [
      "6  publications in the last 7 days.\n"
     ]
    }
   ],
   "source": [
    "import datetime\n",
    "from glob import glob\n",
    "\n",
    "def get_last_n_days(lst, days=1):\n",
    "    \"\"\" Get the documents from the last n days \"\"\"\n",
    "    sorted_lst = sorted(lst, key=lambda x: x[1], reverse=True)\n",
    "    for fname, date in sorted_lst:\n",
    "        if date >= str(datetime.date.today() - datetime.timedelta(days=days)):\n",
    "            yield fname\n",
    "\n",
    "def extract_appearance_dates(lst_file):\n",
    "    dates = []\n",
    "\n",
    "    def get_date(line):\n",
    "        return line\\\n",
    "            .split('Appeared on:')[-1]\\\n",
    "            .split('</mark>')[0].strip()\n",
    "\n",
    "    for fname in lst:\n",
    "        with open(fname, 'r') as f:\n",
    "            found_date = False\n",
    "            for line in f:\n",
    "                if not found_date:\n",
    "                    if \"Appeared on\" in line:\n",
    "                        found_date = True\n",
    "                        dates.append((fname, get_date(line)))\n",
    "                else:\n",
    "                    break\n",
    "    return dates\n",
    "\n",
    "from glob import glob\n",
    "lst = glob('_build/html/*md')\n",
    "days = 7\n",
    "dates = extract_appearance_dates(lst)\n",
    "res = list(get_last_n_days(dates, days))\n",
    "npub = len(res)\n",
    "print(len(res), f\" publications in the last {days:d} days.\")"
   ]
  },
  {
   "cell_type": "code",
   "execution_count": 12,
   "id": "52ca0208",
   "metadata": {
    "execution": {
     "iopub.execute_input": "2025-08-27T04:13:44.872256Z",
     "iopub.status.busy": "2025-08-27T04:13:44.872018Z",
     "iopub.status.idle": "2025-08-27T04:13:44.876935Z",
     "shell.execute_reply": "2025-08-27T04:13:44.876288Z"
    },
    "papermill": {
     "duration": 0.012195,
     "end_time": "2025-08-27T04:13:44.878016",
     "exception": false,
     "start_time": "2025-08-27T04:13:44.865821",
     "status": "completed"
    },
    "scrolled": false,
    "tags": []
   },
   "outputs": [],
   "source": [
    "def create_carousel(npub=4):\n",
    "    \"\"\" Generate the HTML code for a carousel with `npub` slides \"\"\"\n",
    "    carousel = [\"\"\"  <div class=\"carousel\" \"\"\",\n",
    "                \"\"\"       data-flickity='{ \"autoPlay\": 10000, \"adaptiveHeight\": true, \"resize\": true, \"wrapAround\": true, \"pauseAutoPlayOnHover\": true, \"groupCells\": 1 }' id=\"asyncTypeset\">\"\"\"\n",
    "                ]\n",
    "    \n",
    "    item_str = \"\"\"    <div class=\"carousel-cell\"> <div id=\"slide{k}\" class=\"md_view\">Content {k}</div> </div>\"\"\"\n",
    "    for k in range(1, npub + 1):\n",
    "        carousel.append(item_str.format(k=k))\n",
    "    carousel.append(\"  </div>\")\n",
    "    return '\\n'.join(carousel)\n",
    "\n",
    "def create_grid(npub=4):\n",
    "    \"\"\" Generate the HTML code for a flat grid with `npub` slides \"\"\"\n",
    "    grid = [\"\"\"  <div class=\"grid\"> \"\"\",\n",
    "                ]\n",
    "    \n",
    "    item_str = \"\"\"    <div class=\"grid-item\"> <div id=\"slide{k}\" class=\"md_view\">Content {k}</div> </div>\"\"\"\n",
    "    for k in range(1, npub + 1):\n",
    "        grid.append(item_str.format(k=k))\n",
    "    grid.append(\"  </div>\")\n",
    "    return '\\n'.join(grid)"
   ]
  },
  {
   "cell_type": "code",
   "execution_count": 13,
   "id": "a6eac5b6",
   "metadata": {
    "execution": {
     "iopub.execute_input": "2025-08-27T04:13:44.890195Z",
     "iopub.status.busy": "2025-08-27T04:13:44.890016Z",
     "iopub.status.idle": "2025-08-27T04:13:44.894682Z",
     "shell.execute_reply": "2025-08-27T04:13:44.894153Z"
    },
    "papermill": {
     "duration": 0.01181,
     "end_time": "2025-08-27T04:13:44.895618",
     "exception": false,
     "start_time": "2025-08-27T04:13:44.883808",
     "status": "completed"
    },
    "scrolled": false,
    "tags": []
   },
   "outputs": [],
   "source": [
    "carousel = create_carousel(npub)\n",
    "docs = ', '.join(['\"{0:s}\"'.format(k.split('/')[-1]) for k in res])\n",
    "slides = ', '.join([f'\"slide{k}\"' for k in range(1, npub + 1)])\n",
    "\n",
    "with open(\"daily_template.html\", \"r\") as tpl:\n",
    "    page = tpl.read()\n",
    "    page = page.replace(\"{%-- carousel:s --%}\", carousel)\\\n",
    "               .replace(\"{%-- suptitle:s --%}\",  \"7-day archives\" )\\\n",
    "               .replace(\"{%-- docs:s --%}\", docs)\\\n",
    "               .replace(\"{%-- slides:s --%}\", slides)\n",
    "    \n",
    "with open(\"_build/html/index_7days.html\", 'w') as fout:\n",
    "    fout.write(page)"
   ]
  },
  {
   "cell_type": "code",
   "execution_count": 14,
   "id": "adc1a1ec",
   "metadata": {
    "execution": {
     "iopub.execute_input": "2025-08-27T04:13:44.908073Z",
     "iopub.status.busy": "2025-08-27T04:13:44.907858Z",
     "iopub.status.idle": "2025-08-27T04:13:44.913710Z",
     "shell.execute_reply": "2025-08-27T04:13:44.913165Z"
    },
    "papermill": {
     "duration": 0.013043,
     "end_time": "2025-08-27T04:13:44.914635",
     "exception": false,
     "start_time": "2025-08-27T04:13:44.901592",
     "status": "completed"
    },
    "tags": []
   },
   "outputs": [
    {
     "name": "stdout",
     "output_type": "stream",
     "text": [
      "3  publications in the last day.\n"
     ]
    }
   ],
   "source": [
    "# redo for today\n",
    "days = 1\n",
    "res = list(get_last_n_days(dates, days))\n",
    "npub = len(res)\n",
    "print(len(res), f\" publications in the last day.\")\n",
    "\n",
    "carousel = create_carousel(npub)\n",
    "docs = ', '.join(['\"{0:s}\"'.format(k.split('/')[-1]) for k in res])\n",
    "slides = ', '.join([f'\"slide{k}\"' for k in range(1, npub + 1)])\n",
    "\n",
    "with open(\"daily_template.html\", \"r\") as tpl:\n",
    "    page = tpl.read()\n",
    "    page = page.replace(\"{%-- carousel:s --%}\", carousel)\\\n",
    "               .replace(\"{%-- suptitle:s --%}\",  \"Daily\" )\\\n",
    "               .replace(\"{%-- docs:s --%}\", docs)\\\n",
    "               .replace(\"{%-- slides:s --%}\", slides)\n",
    "    \n",
    "# print(carousel, docs, slides)\n",
    "# print(page)\n",
    "with open(\"_build/html/index_daily.html\", 'w') as fout:\n",
    "    fout.write(page)"
   ]
  },
  {
   "cell_type": "code",
   "execution_count": 15,
   "id": "00eece82",
   "metadata": {
    "execution": {
     "iopub.execute_input": "2025-08-27T04:13:44.927096Z",
     "iopub.status.busy": "2025-08-27T04:13:44.926883Z",
     "iopub.status.idle": "2025-08-27T04:13:44.933160Z",
     "shell.execute_reply": "2025-08-27T04:13:44.932496Z"
    },
    "papermill": {
     "duration": 0.013571,
     "end_time": "2025-08-27T04:13:44.934101",
     "exception": false,
     "start_time": "2025-08-27T04:13:44.920530",
     "status": "completed"
    },
    "scrolled": false,
    "tags": []
   },
   "outputs": [
    {
     "name": "stdout",
     "output_type": "stream",
     "text": [
      "6  6 publications selected.\n"
     ]
    }
   ],
   "source": [
    "# Create the flat grid of the last N papers (fixed number regardless of dates)\n",
    "from itertools import islice \n",
    "\n",
    "npub = 6\n",
    "res = [k[0] for k in (islice(reversed(sorted(dates, key=lambda x: x[1])), 6))]\n",
    "print(len(res), f\" {npub} publications selected.\")\n",
    "\n",
    "grid = create_grid(npub)\n",
    "docs = ', '.join(['\"{0:s}\"'.format(k.split('/')[-1]) for k in res])\n",
    "slides = ', '.join([f'\"slide{k}\"' for k in range(1, npub + 1)])\n",
    "\n",
    "with open(\"grid_template.html\", \"r\") as tpl:\n",
    "    page = tpl.read()\n",
    "    page = page.replace(\"{%-- grid-content:s --%}\", grid)\\\n",
    "               .replace(\"{%-- suptitle:s --%}\",  f\"Last {npub:,d} papers\" )\\\n",
    "               .replace(\"{%-- docs:s --%}\", docs)\\\n",
    "               .replace(\"{%-- slides:s --%}\", slides)\n",
    "    \n",
    "# print(grid, docs, slides)\n",
    "# print(page)\n",
    "with open(\"_build/html/index_npub_grid.html\", 'w') as fout:\n",
    "    fout.write(page)"
   ]
  }
 ],
 "metadata": {
  "kernelspec": {
   "display_name": "Python 3 (ipykernel)",
   "language": "python",
   "name": "python3"
  },
  "language_info": {
   "codemirror_mode": {
    "name": "ipython",
    "version": 3
   },
   "file_extension": ".py",
   "mimetype": "text/x-python",
   "name": "python",
   "nbconvert_exporter": "python",
   "pygments_lexer": "ipython3",
   "version": "3.9.23"
  },
  "papermill": {
   "default_parameters": {},
   "duration": 101.179699,
   "end_time": "2025-08-27T04:13:45.155287",
   "environment_variables": {},
   "exception": null,
   "input_path": "MPIA daily digest.ipynb",
   "output_path": "log.ipynb",
   "parameters": {},
   "start_time": "2025-08-27T04:12:03.975588",
   "version": "2.6.0"
  },
  "vscode": {
   "interpreter": {
    "hash": "aee8b7b246df8f9039afb4144a1f6fd8d2ca17a180786b69acc140d282b71a49"
   }
  },
  "widgets": {
   "application/vnd.jupyter.widget-state+json": {
    "state": {
     "13d4ccc4200641cbb72a8ccc0d0d91ac": {
      "model_module": "@jupyter-widgets/controls",
      "model_module_version": "2.0.0",
      "model_name": "HBoxModel",
      "state": {
       "_dom_classes": [],
       "_model_module": "@jupyter-widgets/controls",
       "_model_module_version": "2.0.0",
       "_model_name": "HBoxModel",
       "_view_count": null,
       "_view_module": "@jupyter-widgets/controls",
       "_view_module_version": "2.0.0",
       "_view_name": "HBoxView",
       "box_style": "",
       "children": [
        "IPY_MODEL_ec1c94c2d43644ee95240e91cb1ca67f",
        "IPY_MODEL_aa277faece694065867be5faccb4f538",
        "IPY_MODEL_baf6154b047046bd90f3b941df5cc881"
       ],
       "layout": "IPY_MODEL_d5aff5ffd0df46a8b8916ae4daf384fd",
       "tabbable": null,
       "tooltip": null
      }
     },
     "2775601ab3b4438eb59dbe79525fea06": {
      "model_module": "@jupyter-widgets/base",
      "model_module_version": "2.0.0",
      "model_name": "LayoutModel",
      "state": {
       "_model_module": "@jupyter-widgets/base",
       "_model_module_version": "2.0.0",
       "_model_name": "LayoutModel",
       "_view_count": null,
       "_view_module": "@jupyter-widgets/base",
       "_view_module_version": "2.0.0",
       "_view_name": "LayoutView",
       "align_content": null,
       "align_items": null,
       "align_self": null,
       "border_bottom": null,
       "border_left": null,
       "border_right": null,
       "border_top": null,
       "bottom": null,
       "display": null,
       "flex": null,
       "flex_flow": null,
       "grid_area": null,
       "grid_auto_columns": null,
       "grid_auto_flow": null,
       "grid_auto_rows": null,
       "grid_column": null,
       "grid_gap": null,
       "grid_row": null,
       "grid_template_areas": null,
       "grid_template_columns": null,
       "grid_template_rows": null,
       "height": null,
       "justify_content": null,
       "justify_items": null,
       "left": null,
       "margin": null,
       "max_height": null,
       "max_width": null,
       "min_height": null,
       "min_width": null,
       "object_fit": null,
       "object_position": null,
       "order": null,
       "overflow": null,
       "padding": null,
       "right": null,
       "top": null,
       "visibility": null,
       "width": null
      }
     },
     "28ff67728f2d43c897871e67697a4e67": {
      "model_module": "@jupyter-widgets/base",
      "model_module_version": "2.0.0",
      "model_name": "LayoutModel",
      "state": {
       "_model_module": "@jupyter-widgets/base",
       "_model_module_version": "2.0.0",
       "_model_name": "LayoutModel",
       "_view_count": null,
       "_view_module": "@jupyter-widgets/base",
       "_view_module_version": "2.0.0",
       "_view_name": "LayoutView",
       "align_content": null,
       "align_items": null,
       "align_self": null,
       "border_bottom": null,
       "border_left": null,
       "border_right": null,
       "border_top": null,
       "bottom": null,
       "display": null,
       "flex": null,
       "flex_flow": null,
       "grid_area": null,
       "grid_auto_columns": null,
       "grid_auto_flow": null,
       "grid_auto_rows": null,
       "grid_column": null,
       "grid_gap": null,
       "grid_row": null,
       "grid_template_areas": null,
       "grid_template_columns": null,
       "grid_template_rows": null,
       "height": null,
       "justify_content": null,
       "justify_items": null,
       "left": null,
       "margin": null,
       "max_height": null,
       "max_width": null,
       "min_height": null,
       "min_width": null,
       "object_fit": null,
       "object_position": null,
       "order": null,
       "overflow": null,
       "padding": null,
       "right": null,
       "top": null,
       "visibility": null,
       "width": null
      }
     },
     "572034d03813459689020ba59d4f0247": {
      "model_module": "@jupyter-widgets/controls",
      "model_module_version": "2.0.0",
      "model_name": "HTMLStyleModel",
      "state": {
       "_model_module": "@jupyter-widgets/controls",
       "_model_module_version": "2.0.0",
       "_model_name": "HTMLStyleModel",
       "_view_count": null,
       "_view_module": "@jupyter-widgets/base",
       "_view_module_version": "2.0.0",
       "_view_name": "StyleView",
       "background": null,
       "description_width": "",
       "font_size": null,
       "text_color": null
      }
     },
     "6fbe7e3d4d1e4ddcb2c3c4da21a60b99": {
      "model_module": "@jupyter-widgets/controls",
      "model_module_version": "2.0.0",
      "model_name": "ProgressStyleModel",
      "state": {
       "_model_module": "@jupyter-widgets/controls",
       "_model_module_version": "2.0.0",
       "_model_name": "ProgressStyleModel",
       "_view_count": null,
       "_view_module": "@jupyter-widgets/base",
       "_view_module_version": "2.0.0",
       "_view_name": "StyleView",
       "bar_color": null,
       "description_width": ""
      }
     },
     "aa277faece694065867be5faccb4f538": {
      "model_module": "@jupyter-widgets/controls",
      "model_module_version": "2.0.0",
      "model_name": "FloatProgressModel",
      "state": {
       "_dom_classes": [],
       "_model_module": "@jupyter-widgets/controls",
       "_model_module_version": "2.0.0",
       "_model_name": "FloatProgressModel",
       "_view_count": null,
       "_view_module": "@jupyter-widgets/controls",
       "_view_module_version": "2.0.0",
       "_view_name": "ProgressView",
       "bar_style": "success",
       "description": "",
       "description_allow_html": false,
       "layout": "IPY_MODEL_28ff67728f2d43c897871e67697a4e67",
       "max": 7.0,
       "min": 0.0,
       "orientation": "horizontal",
       "style": "IPY_MODEL_6fbe7e3d4d1e4ddcb2c3c4da21a60b99",
       "tabbable": null,
       "tooltip": null,
       "value": 7.0
      }
     },
     "baf6154b047046bd90f3b941df5cc881": {
      "model_module": "@jupyter-widgets/controls",
      "model_module_version": "2.0.0",
      "model_name": "HTMLModel",
      "state": {
       "_dom_classes": [],
       "_model_module": "@jupyter-widgets/controls",
       "_model_module_version": "2.0.0",
       "_model_name": "HTMLModel",
       "_view_count": null,
       "_view_module": "@jupyter-widgets/controls",
       "_view_module_version": "2.0.0",
       "_view_name": "HTMLView",
       "description": "",
       "description_allow_html": false,
       "layout": "IPY_MODEL_2775601ab3b4438eb59dbe79525fea06",
       "placeholder": "​",
       "style": "IPY_MODEL_be6ab225cfd946fa98f46a28fc06cf66",
       "tabbable": null,
       "tooltip": null,
       "value": " 7/7 [01:16&lt;00:00, 11.86s/it]"
      }
     },
     "be6ab225cfd946fa98f46a28fc06cf66": {
      "model_module": "@jupyter-widgets/controls",
      "model_module_version": "2.0.0",
      "model_name": "HTMLStyleModel",
      "state": {
       "_model_module": "@jupyter-widgets/controls",
       "_model_module_version": "2.0.0",
       "_model_name": "HTMLStyleModel",
       "_view_count": null,
       "_view_module": "@jupyter-widgets/base",
       "_view_module_version": "2.0.0",
       "_view_name": "StyleView",
       "background": null,
       "description_width": "",
       "font_size": null,
       "text_color": null
      }
     },
     "d5aff5ffd0df46a8b8916ae4daf384fd": {
      "model_module": "@jupyter-widgets/base",
      "model_module_version": "2.0.0",
      "model_name": "LayoutModel",
      "state": {
       "_model_module": "@jupyter-widgets/base",
       "_model_module_version": "2.0.0",
       "_model_name": "LayoutModel",
       "_view_count": null,
       "_view_module": "@jupyter-widgets/base",
       "_view_module_version": "2.0.0",
       "_view_name": "LayoutView",
       "align_content": null,
       "align_items": null,
       "align_self": null,
       "border_bottom": null,
       "border_left": null,
       "border_right": null,
       "border_top": null,
       "bottom": null,
       "display": null,
       "flex": null,
       "flex_flow": null,
       "grid_area": null,
       "grid_auto_columns": null,
       "grid_auto_flow": null,
       "grid_auto_rows": null,
       "grid_column": null,
       "grid_gap": null,
       "grid_row": null,
       "grid_template_areas": null,
       "grid_template_columns": null,
       "grid_template_rows": null,
       "height": null,
       "justify_content": null,
       "justify_items": null,
       "left": null,
       "margin": null,
       "max_height": null,
       "max_width": null,
       "min_height": null,
       "min_width": null,
       "object_fit": null,
       "object_position": null,
       "order": null,
       "overflow": null,
       "padding": null,
       "right": null,
       "top": null,
       "visibility": null,
       "width": null
      }
     },
     "ec1c94c2d43644ee95240e91cb1ca67f": {
      "model_module": "@jupyter-widgets/controls",
      "model_module_version": "2.0.0",
      "model_name": "HTMLModel",
      "state": {
       "_dom_classes": [],
       "_model_module": "@jupyter-widgets/controls",
       "_model_module_version": "2.0.0",
       "_model_name": "HTMLModel",
       "_view_count": null,
       "_view_module": "@jupyter-widgets/controls",
       "_view_module_version": "2.0.0",
       "_view_name": "HTMLView",
       "description": "",
       "description_allow_html": false,
       "layout": "IPY_MODEL_f4bdea6e3af349f2853b4a70a2e5fb7a",
       "placeholder": "​",
       "style": "IPY_MODEL_572034d03813459689020ba59d4f0247",
       "tabbable": null,
       "tooltip": null,
       "value": "100%"
      }
     },
     "f4bdea6e3af349f2853b4a70a2e5fb7a": {
      "model_module": "@jupyter-widgets/base",
      "model_module_version": "2.0.0",
      "model_name": "LayoutModel",
      "state": {
       "_model_module": "@jupyter-widgets/base",
       "_model_module_version": "2.0.0",
       "_model_name": "LayoutModel",
       "_view_count": null,
       "_view_module": "@jupyter-widgets/base",
       "_view_module_version": "2.0.0",
       "_view_name": "LayoutView",
       "align_content": null,
       "align_items": null,
       "align_self": null,
       "border_bottom": null,
       "border_left": null,
       "border_right": null,
       "border_top": null,
       "bottom": null,
       "display": null,
       "flex": null,
       "flex_flow": null,
       "grid_area": null,
       "grid_auto_columns": null,
       "grid_auto_flow": null,
       "grid_auto_rows": null,
       "grid_column": null,
       "grid_gap": null,
       "grid_row": null,
       "grid_template_areas": null,
       "grid_template_columns": null,
       "grid_template_rows": null,
       "height": null,
       "justify_content": null,
       "justify_items": null,
       "left": null,
       "margin": null,
       "max_height": null,
       "max_width": null,
       "min_height": null,
       "min_width": null,
       "object_fit": null,
       "object_position": null,
       "order": null,
       "overflow": null,
       "padding": null,
       "right": null,
       "top": null,
       "visibility": null,
       "width": null
      }
     }
    },
    "version_major": 2,
    "version_minor": 0
   }
  }
 },
 "nbformat": 4,
 "nbformat_minor": 5
}