{
 "cells": [
  {
   "cell_type": "markdown",
   "id": "92bcb855",
   "metadata": {
    "papermill": {
     "duration": 0.004594,
     "end_time": "2023-05-18T04:04:20.797078",
     "exception": false,
     "start_time": "2023-05-18T04:04:20.792484",
     "status": "completed"
    },
    "tags": []
   },
   "source": [
    "# MPIA Arxiv on Deck 2\n",
    "\n",
    "Contains the steps to produce the paper extractions."
   ]
  },
  {
   "cell_type": "code",
   "execution_count": 1,
   "id": "3a0d6e11",
   "metadata": {
    "execution": {
     "iopub.execute_input": "2023-05-18T04:04:20.805811Z",
     "iopub.status.busy": "2023-05-18T04:04:20.805261Z",
     "iopub.status.idle": "2023-05-18T04:04:21.023441Z",
     "shell.execute_reply": "2023-05-18T04:04:21.022807Z"
    },
    "papermill": {
     "duration": 0.224533,
     "end_time": "2023-05-18T04:04:21.025419",
     "exception": false,
     "start_time": "2023-05-18T04:04:20.800886",
     "status": "completed"
    },
    "tags": []
   },
   "outputs": [],
   "source": [
    "# Imports\n",
    "import os\n",
    "from IPython.display import Markdown, display\n",
    "from tqdm.notebook import tqdm\n",
    "import warnings\n",
    "from PIL import Image \n",
    "\n",
    "# requires arxiv_on_deck_2\n",
    "\n",
    "from arxiv_on_deck_2.arxiv2 import (get_new_papers, \n",
    "                                    get_paper_from_identifier,\n",
    "                                    retrieve_document_source, \n",
    "                                    get_markdown_badge)\n",
    "from arxiv_on_deck_2 import (latex,\n",
    "                             latex_bib,\n",
    "                             mpia,\n",
    "                             highlight_authors_in_list)\n",
    "\n",
    "# Sometimes images are really big\n",
    "Image.MAX_IMAGE_PIXELS = 1000000000 "
   ]
  },
  {
   "cell_type": "code",
   "execution_count": 2,
   "id": "22aa9d44",
   "metadata": {
    "execution": {
     "iopub.execute_input": "2023-05-18T04:04:21.034012Z",
     "iopub.status.busy": "2023-05-18T04:04:21.033782Z",
     "iopub.status.idle": "2023-05-18T04:04:21.039176Z",
     "shell.execute_reply": "2023-05-18T04:04:21.038569Z"
    },
    "papermill": {
     "duration": 0.011577,
     "end_time": "2023-05-18T04:04:21.040746",
     "exception": false,
     "start_time": "2023-05-18T04:04:21.029169",
     "status": "completed"
    },
    "tags": []
   },
   "outputs": [],
   "source": [
    "# Some useful definitions.\n",
    "\n",
    "class AffiliationWarning(UserWarning):\n",
    "    pass\n",
    "\n",
    "class AffiliationError(RuntimeError):\n",
    "    pass\n",
    "\n",
    "def validation(source: str):\n",
    "    \"\"\"Raises error paper during parsing of source file\n",
    "    \n",
    "    Allows checks before parsing TeX code.\n",
    "    \n",
    "    Raises AffiliationWarning\n",
    "    \"\"\"\n",
    "    check = mpia.affiliation_verifications(source, verbose=True)\n",
    "    if check is not True:\n",
    "        raise AffiliationError(\"mpia.affiliation_verifications: \" + check)\n",
    "\n",
    "        \n",
    "warnings.simplefilter('always', AffiliationWarning)\n",
    "\n",
    "\n",
    "def get_markdown_qrcode(paper_id: str):\n",
    "    \"\"\" Generate a qrcode to the arxiv page using qrserver.com\n",
    "    \n",
    "    :param paper: Arxiv paper\n",
    "    :returns: markdown text\n",
    "    \"\"\"\n",
    "    url = r\"https://api.qrserver.com/v1/create-qr-code/?size=100x100&data=\"\n",
    "    txt = f\"\"\"<img src={url}\"https://arxiv.org/abs/{paper_id}\">\"\"\"\n",
    "    txt = '<div id=\"qrcode\">' + txt + '</div>'\n",
    "    return txt"
   ]
  },
  {
   "cell_type": "markdown",
   "id": "14bd6310",
   "metadata": {
    "papermill": {
     "duration": 0.003259,
     "end_time": "2023-05-18T04:04:21.047409",
     "exception": false,
     "start_time": "2023-05-18T04:04:21.044150",
     "status": "completed"
    },
    "tags": []
   },
   "source": [
    "## get list of arxiv paper candidates\n",
    "\n",
    "We use the MPIA mitarbeiter list webpage from mpia.de to get author names\n",
    "We then get all new papers from Arxiv and match authors"
   ]
  },
  {
   "cell_type": "code",
   "execution_count": 3,
   "id": "2645e73a",
   "metadata": {
    "execution": {
     "iopub.execute_input": "2023-05-18T04:04:21.055609Z",
     "iopub.status.busy": "2023-05-18T04:04:21.055324Z",
     "iopub.status.idle": "2023-05-18T04:04:43.863707Z",
     "shell.execute_reply": "2023-05-18T04:04:43.862996Z"
    },
    "papermill": {
     "duration": 22.814513,
     "end_time": "2023-05-18T04:04:43.865285",
     "exception": false,
     "start_time": "2023-05-18T04:04:21.050772",
     "status": "completed"
    },
    "tags": []
   },
   "outputs": [
    {
     "name": "stdout",
     "output_type": "stream",
     "text": [
      "A. Pillepich  ->  A. Pillepich  |  ['A. Pillepich']\n",
      "M. Schirmer  ->  M. Schirmer  |  ['M. Schirmer']\n",
      "E. Schinnerer  ->  E. Schinnerer  |  ['E. Schinnerer']\n",
      "Arxiv has 61 new papers today\n",
      "          3 with possible author matches\n"
     ]
    }
   ],
   "source": [
    "# get list from MPIA website\n",
    "# it automatically filters identified non-scientists :func:`mpia.filter_non_scientists`\n",
    "mpia_authors = mpia.get_mpia_mitarbeiter_list()\n",
    "normed_mpia_authors = [k[1] for k in mpia_authors]   # initials + fullname\n",
    "new_papers = get_new_papers()\n",
    "# add manual references\n",
    "add_paper_refs = []\n",
    "new_papers.extend([get_paper_from_identifier(k) for k in add_paper_refs])\n",
    "\n",
    "candidates = []\n",
    "for paperk in new_papers:\n",
    "    # Check author list with their initials\n",
    "    normed_author_list = [mpia.get_initials(k) for k in paperk['authors']]\n",
    "    hl_authors = highlight_authors_in_list(normed_author_list, normed_mpia_authors, verbose=True)\n",
    "    matches = [(hl, orig) for hl, orig in zip(hl_authors, paperk['authors']) if 'mark' in hl]\n",
    "    paperk['authors'] = hl_authors\n",
    "    if matches:\n",
    "        # only select paper if an author matched our list\n",
    "        candidates.append(paperk)\n",
    "print(\"\"\"Arxiv has {0:,d} new papers today\"\"\".format(len(new_papers)))        \n",
    "print(\"\"\"          {0:,d} with possible author matches\"\"\".format(len(candidates)))"
   ]
  },
  {
   "cell_type": "markdown",
   "id": "3543b34a",
   "metadata": {
    "papermill": {
     "duration": 0.003607,
     "end_time": "2023-05-18T04:04:43.872750",
     "exception": false,
     "start_time": "2023-05-18T04:04:43.869143",
     "status": "completed"
    },
    "tags": []
   },
   "source": [
    "# Parse sources and generate relevant outputs\n",
    "\n",
    "From the candidates, we do the following steps:\n",
    "* get their tarball from ArXiv (and extract data)\n",
    "* find the main .tex file: find one with \\documentclass{...} (sometimes it's non trivial)\n",
    "* Check affiliations with :func:`validation`, which uses :func:`mpia.affiliation_verifications`\n",
    "* If passing the affiliations: we parse the .tex source\n",
    "   * inject sub-documents into the main (flatten the main document)\n",
    "   * parse structure, extract information (title, abstract, authors, figures...)\n",
    "   * handles `\\graphicspath` if provided\n",
    "* Generate the .md document."
   ]
  },
  {
   "cell_type": "code",
   "execution_count": 4,
   "id": "9576b79e",
   "metadata": {
    "execution": {
     "iopub.execute_input": "2023-05-18T04:04:43.881172Z",
     "iopub.status.busy": "2023-05-18T04:04:43.880919Z",
     "iopub.status.idle": "2023-05-18T04:06:39.840132Z",
     "shell.execute_reply": "2023-05-18T04:06:39.839515Z"
    },
    "papermill": {
     "duration": 115.971762,
     "end_time": "2023-05-18T04:06:39.847999",
     "exception": false,
     "start_time": "2023-05-18T04:04:43.876237",
     "status": "completed"
    },
    "scrolled": false,
    "tags": []
   },
   "outputs": [
    {
     "data": {
      "application/vnd.jupyter.widget-view+json": {
       "model_id": "4654c048f064422e87e32190acef4ad2",
       "version_major": 2,
       "version_minor": 0
      },
      "text/plain": [
       "  0%|          | 0/2 [00:00<?, ?it/s]"
      ]
     },
     "metadata": {},
     "output_type": "display_data"
    },
    {
     "name": "stdout",
     "output_type": "stream",
     "text": [
      "Retrieving document from  https://arxiv.org/e-print/2305.09721\n"
     ]
    },
    {
     "name": "stdout",
     "output_type": "stream",
     "text": [
      "extracting tarball to tmp_2305.09721..."
     ]
    },
    {
     "name": "stdout",
     "output_type": "stream",
     "text": [
      " done.\n"
     ]
    },
    {
     "name": "stderr",
     "output_type": "stream",
     "text": [
      "/opt/hostedtoolcache/Python/3.9.16/x64/lib/python3.9/site-packages/arxiv_on_deck_2/latex.py:120: LatexWarning: attempting recovering figure figs/PS_EagIllTNGTNG-NR_kbinned_fiducial_cifog_20pcnt_fesc_zedk20.pdf\n",
      "  warnings.warn(LatexWarning(f'attempting recovering figure {image}'))\n",
      "/opt/hostedtoolcache/Python/3.9.16/x64/lib/python3.9/site-packages/arxiv_on_deck_2/latex.py:125: LatexWarning: Recovered figure figs/PS_EagIllTNGTNG-NR_kbinned_fiducial_cifog_20pcnt_fesc_zedk20.pdf as tmp_2305.09721/./figs/PS_EagIllTNGTNG-NR_kbinned_fiducial_cifog_20pcnt_fesc_zedk20.pdf.pdf\n",
      "  warnings.warn(LatexWarning(f'Recovered figure {image} as {fname}'))\n"
     ]
    },
    {
     "name": "stdout",
     "output_type": "stream",
     "text": [
      "Found 107 bibliographic references in tmp_2305.09721/21cm_art.bbl.\n",
      "Retrieving document from  https://arxiv.org/e-print/2305.10107\n"
     ]
    },
    {
     "name": "stdout",
     "output_type": "stream",
     "text": [
      "extracting tarball to tmp_2305.10107..."
     ]
    },
    {
     "name": "stdout",
     "output_type": "stream",
     "text": [
      " done.\n"
     ]
    },
    {
     "name": "stderr",
     "output_type": "stream",
     "text": [
      "/opt/hostedtoolcache/Python/3.9.16/x64/lib/python3.9/site-packages/IPython/core/interactiveshell.py:3508: LatexWarning: Multiple tex files.\n",
      "\n",
      "  exec(code_obj, self.user_global_ns, self.user_ns)\n",
      "/opt/hostedtoolcache/Python/3.9.16/x64/lib/python3.9/site-packages/IPython/core/interactiveshell.py:3508: LatexWarning: Found documentclass in tmp_2305.10107/contamination.tex\n",
      "\n",
      "  exec(code_obj, self.user_global_ns, self.user_ns)\n",
      "/opt/hostedtoolcache/Python/3.9.16/x64/lib/python3.9/site-packages/arxiv_on_deck_2/latex.py:399: LatexWarning: Latex injecting: 'authors.tex' from 'tmp_2305.10107/authors.tex'\n",
      "  warnings.warn(LatexWarning(f\"Latex injecting: '{ext}' from '{subsource}'\"))\n"
     ]
    },
    {
     "name": "stderr",
     "output_type": "stream",
     "text": [
      "/opt/hostedtoolcache/Python/3.9.16/x64/lib/python3.9/site-packages/arxiv_on_deck_2/latex.py:473: LatexWarning: Error parsing the document directly. Trying to recover.\n",
      "  warnings.warn(LatexWarning(f\"Error parsing the document directly. Trying to recover.\"))\n"
     ]
    },
    {
     "name": "stdout",
     "output_type": "stream",
     "text": [
      "✔ → 0:header\n",
      "  ↳ 25580:\\section{Introduction}\n",
      "✔ → 25580:\\section{Introduction}\n",
      "  ↳ 33909:\\section{Lessons learnt from other spacecraft}\\label{sec:spacecraftlessons}\n"
     ]
    },
    {
     "name": "stdout",
     "output_type": "stream",
     "text": [
      "✔ → 33909:\\section{Lessons learnt from other spacecraft}\\label{sec:spacecraftlessons}\n",
      "  ↳ 65567:\\section{Water ice types in spacecraft conditions\\label{sec:ice}}\n"
     ]
    },
    {
     "name": "stdout",
     "output_type": "stream",
     "text": [
      "✔ → 65567:\\section{Water ice types in spacecraft conditions\\label{sec:ice}}\n",
      "  ↳ 92312:\\section{\\label{contamination}Contamination and decontamination modelling}\n"
     ]
    },
    {
     "name": "stdout",
     "output_type": "stream",
     "text": [
      "✔ → 92312:\\section{\\label{contamination}Contamination and decontamination modelling}\n",
      "  ↳ 137244:\\section{Results from thermal vacuum tests\\label{tvac}}\n",
      "✔ → 137244:\\section{Results from thermal vacuum tests\\label{tvac}}\n",
      "  ↳ 140550:\\section{Conclusions and outlook\\label{sec:conclusions}}\n"
     ]
    },
    {
     "name": "stdout",
     "output_type": "stream",
     "text": [
      "✔ → 140550:\\section{Conclusions and outlook\\label{sec:conclusions}}\n",
      "  ↳ 202038:\\begin{appendix}\n",
      "✔ → 202038:\\begin{appendix}\n",
      "  ↳ 202066:\\section{Non-exhaustive list of publications about contamination in spacecraft\\label{sec:apdx-library}}\n"
     ]
    },
    {
     "name": "stdout",
     "output_type": "stream",
     "text": [
      "✔ → 202066:\\section{Non-exhaustive list of publications about contamination in spacecraft\\label{sec:apdx-library}}\n",
      "  ↳ 210398:\\section{Pertinent renderings and photographs\\label{sec:apdx_photos}}\n",
      "✔ → 210398:\\section{Pertinent renderings and photographs\\label{sec:apdx_photos}}\n",
      "  ↳ 214546:\\section{Tables}\n"
     ]
    },
    {
     "name": "stdout",
     "output_type": "stream",
     "text": [
      "✘ → 214546:\\section{Tables}\n",
      "  ↳ 216829:\\section{\\label{apdx_contamination_M1M2}Contamination estimates for the telescope cavity (mirrors M1 and M2)}\n"
     ]
    },
    {
     "name": "stdout",
     "output_type": "stream",
     "text": [
      "✔ → 216829:\\section{\\label{apdx_contamination_M1M2}Contamination estimates for the telescope cavity (mirrors M1 and M2)}\n",
      "  ↳ 226485:\\section{\\label{apdx_contamination_NISPVIS}Contamination estimation for the instrument cavity}\n"
     ]
    },
    {
     "name": "stdout",
     "output_type": "stream",
     "text": [
      "✔ → 226485:\\section{\\label{apdx_contamination_NISPVIS}Contamination estimation for the instrument cavity}\n",
      "  ↳ 228916:end\n"
     ]
    },
    {
     "name": "stdout",
     "output_type": "stream",
     "text": [
      "list index out of range\n"
     ]
    }
   ],
   "source": [
    "documents = []\n",
    "failed = []\n",
    "for paper in tqdm(candidates[:-1]):\n",
    "    paper_id = paper['identifier'].lower().replace('arxiv:', '')\n",
    "    \n",
    "    folder = f'tmp_{paper_id}'\n",
    "\n",
    "    try:\n",
    "        if not os.path.isdir(folder):\n",
    "            folder = retrieve_document_source(f\"{paper_id}\", f'tmp_{paper_id}')\n",
    "        \n",
    "        try:\n",
    "            doc = latex.LatexDocument(folder, validation=validation)    \n",
    "        except AffiliationError as affilerror:\n",
    "            msg = f\"ArXiv:{paper_id:s} is not an MPIA paper... \" + str(affilerror)\n",
    "            failed.append((paper, \"affiliation error: \" + str(affilerror) ))\n",
    "            continue\n",
    "        \n",
    "        # Hack because sometimes author parsing does not work well\n",
    "        if (len(doc.authors) != len(paper['authors'])):\n",
    "            doc._authors = paper['authors']\n",
    "        else:\n",
    "            # highlight authors (FIXME: doc.highlight_authors)\n",
    "            # done on arxiv paper already\n",
    "            doc._authors = highlight_authors_in_list(\n",
    "                [mpia.get_initials(k) for k in doc.authors], \n",
    "                normed_mpia_authors, verbose=True)\n",
    "        if (doc.abstract) in (None, ''):\n",
    "            doc._abstract = paper['abstract']\n",
    "            \n",
    "        doc.comment = (get_markdown_badge(paper_id) + \n",
    "                       \"<mark>Appeared on: \" + paper['date'] + \"</mark> - \")\n",
    "        if paper['comments']:\n",
    "            doc.comment += \" _\" + paper['comments'] + \"_\"\n",
    "        \n",
    "        full_md = doc.generate_markdown_text()\n",
    "        \n",
    "        full_md += get_markdown_qrcode(paper_id)\n",
    "        \n",
    "        # replace citations\n",
    "        try:\n",
    "            bibdata = latex_bib.LatexBib.from_doc(doc)\n",
    "            full_md = latex_bib.replace_citations(full_md, bibdata)\n",
    "        except Exception as e:\n",
    "            print(e)\n",
    "        \n",
    "        documents.append((paper_id, full_md))\n",
    "    except Exception as e:\n",
    "        warnings.warn(latex.LatexWarning(f\"{paper_id:s} did not run properly\\n\" +\n",
    "                                         str(e)\n",
    "                                        ))\n",
    "        failed.append((paper, \"latex error \" + str(e)))"
   ]
  },
  {
   "cell_type": "markdown",
   "id": "2505a25c",
   "metadata": {
    "papermill": {
     "duration": 0.004913,
     "end_time": "2023-05-18T04:06:39.857725",
     "exception": false,
     "start_time": "2023-05-18T04:06:39.852812",
     "status": "completed"
    },
    "tags": []
   },
   "source": [
    "### Export the logs\n",
    "\n",
    "Throughout, we also keep track of the logs per paper. see `logs-{today date}.md` "
   ]
  },
  {
   "cell_type": "code",
   "execution_count": 5,
   "id": "d733828a",
   "metadata": {
    "execution": {
     "iopub.execute_input": "2023-05-18T04:06:39.868646Z",
     "iopub.status.busy": "2023-05-18T04:06:39.868094Z",
     "iopub.status.idle": "2023-05-18T04:06:39.884571Z",
     "shell.execute_reply": "2023-05-18T04:06:39.883909Z"
    },
    "papermill": {
     "duration": 0.023683,
     "end_time": "2023-05-18T04:06:39.886085",
     "exception": false,
     "start_time": "2023-05-18T04:06:39.862402",
     "status": "completed"
    },
    "scrolled": false,
    "tags": []
   },
   "outputs": [
    {
     "data": {
      "text/markdown": [
       "## Successful papers"
      ],
      "text/plain": [
       "<IPython.core.display.Markdown object>"
      ]
     },
     "metadata": {},
     "output_type": "display_data"
    },
    {
     "data": {
      "text/markdown": [
       "\n",
       "|||\n",
       "|---:|:---|\n",
       "| [![arXiv](https://img.shields.io/badge/arXiv-arXiv:2305.09721-b31b1b.svg)](https://arxiv.org/abs/arXiv:2305.09721) | **The signature of galaxy formation models in the power spectrum of the  hydrogen 21cm line during reionization**  |\n",
       "|| J. S. W. Lewis, et al. -- incl., <mark>A. Pillepich</mark> |\n",
       "|*Appeared on*| *2023-05-18*|\n",
       "|*Comments*| *submitted to MNRAS (12/05/23)*|\n",
       "|**Abstract**| Observations of the 21cm line of neutral hydrogen are poised to revolutionize our knowledge of cosmic reionization and the high-redshift population of galaxies. However, harnessing such information requires robust and comprehensive theoretical modeling. We study the non-linear effects of hydrodynamics and astrophysical feedback processes, including stellar and AGN feedback, on the 21cm signal by post-processing three existing cosmological hydrodynamical simulations of galaxy formation: Illustris, IllustrisTNG, and Eagle. Overall and despite their different underlying galaxy-formation models, the three simulations return similar predictions for the global 21cm rightness temperature and its power spectrum. At fixed redshift, most differences are attributable to differences in the history of reionization, in turn driven by differences in the build-up of stellar sources of radiation. However, the impact of astrophysics is imprinted in the 21cm power spectrum through several unique signatures. First, we find significant small scale ($k \\geq 10\\, \\rm {Mpc}^{-1}$) differences between Illustris and IllustrisTNG, where higher velocity winds generated by supernova feedback soften density peaks and lead to lower 21cm power in TNG. Second, we find more 21cm power at intermediate scales ($k \\approx 0.8\\, \\rm {Mpc}^{-1}$) in Eagle, due to differences in ionization driven by highly effective stellar feedback, leading to lower star formation, older and redder stellar populations, and thus lower ionizing luminosities. Though subtle, these features could allow future observations of the 21cm signal, in conjunction with other reionization observables, to constrain theoretical models for galactic feedback at high redshift. |"
      ],
      "text/plain": [
       "[arXiv:2305.09721] The signature of galaxy formation models in the power spectrum of the  hydrogen 21cm line during reionization\n",
       "\tJ. S. W. Lewis, et al. -- incl., <mark>A. Pillepich</mark>"
      ]
     },
     "metadata": {},
     "output_type": "display_data"
    },
    {
     "data": {
      "text/markdown": [
       "\n",
       "|||\n",
       "|---:|:---|\n",
       "| [![arXiv](https://img.shields.io/badge/arXiv-arXiv:2305.10107-b31b1b.svg)](https://arxiv.org/abs/arXiv:2305.10107) | **Euclid preparation. XXIX. Water ice in spacecraft part I: The physics of  ice formation and contamination**  |\n",
       "|| E. Collaboration, et al. -- incl., <mark>M. Schirmer</mark> |\n",
       "|*Appeared on*| *2023-05-18*|\n",
       "|*Comments*| *35 pages, 22 figures, accepted for publication in A&A*|\n",
       "|**Abstract**| Molecular contamination is a well-known problem in space flight. Water is the most common contaminant and alters numerous properties of a cryogenic optical system. Too much ice means that Euclid's calibration requirements and science goals cannot be met. Euclid must then be thermally decontaminated, a long and risky process. We need to understand how iced optics affect the data and when a decontamination is required. This is essential to build adequate calibration and survey plans, yet a comprehensive analysis in the context of an astrophysical space survey has not been done before. In this paper we look at other spacecraft with well-documented outgassing records, and we review the formation of thin ice films. A mix of amorphous and crystalline ices is expected for Euclid. Their surface topography depends on the competing energetic needs of the substrate-water and the water-water interfaces, and is hard to predict with current theories. We illustrate that with scanning-tunnelling and atomic-force microscope images. Industrial tools exist to estimate contamination, and we must understand their uncertainties. We find considerable knowledge errors on the diffusion and sublimation coefficients, limiting the accuracy of these tools. We developed a water transport model to compute contamination rates in Euclid, and find general agreement with industry estimates. Tests of the Euclid flight hardware in space simulators did not pick up contamination signals; our in-flight calibrations observations will be much more sensitive. We must understand the link between the amount of ice on the optics and its effect on Euclid's data. Little research is available about this link, possibly because other spacecraft can decontaminate easily, quenching the need for a deeper understanding. In our second paper we quantify the various effects of iced optics on spectrophotometric data. |"
      ],
      "text/plain": [
       "[arXiv:2305.10107] Euclid preparation. XXIX. Water ice in spacecraft part I: The physics of  ice formation and contamination\n",
       "\tE. Collaboration, et al. -- incl., <mark>M. Schirmer</mark>"
      ]
     },
     "metadata": {},
     "output_type": "display_data"
    },
    {
     "data": {
      "text/markdown": [
       "## Failed papers"
      ],
      "text/plain": [
       "<IPython.core.display.Markdown object>"
      ]
     },
     "metadata": {},
     "output_type": "display_data"
    }
   ],
   "source": [
    "import datetime\n",
    "today = str(datetime.date.today())\n",
    "logfile = f\"_build/html/logs/log-{today}.md\"\n",
    "\n",
    "\n",
    "with open(logfile, 'w') as logs:\n",
    "    # Success\n",
    "    logs.write(f'# Arxiv on Deck 2: Logs - {today}\\n\\n')\n",
    "    logs.write(\"\"\"* Arxiv had {0:,d} new papers\\n\"\"\".format(len(new_papers)))\n",
    "    logs.write(\"\"\"    * {0:,d} with possible author matches\\n\\n\"\"\".format(len(candidates)))\n",
    "    logs.write(\"## Sucessful papers\\n\\n\")\n",
    "    display(Markdown(\"## Successful papers\"))\n",
    "    success = [k[0] for k in documents]\n",
    "    for candid in candidates:\n",
    "        if candid['identifier'].split(':')[-1] in success:\n",
    "            display(candid)\n",
    "            logs.write(candid.generate_markdown_text() + '\\n\\n')\n",
    "\n",
    "    ## failed\n",
    "    logs.write(\"## Failed papers\\n\\n\")\n",
    "    display(Markdown(\"## Failed papers\"))\n",
    "    failed = sorted(failed, key=lambda x: x[1])\n",
    "    current_reason = \"\"\n",
    "    for paper, reason in failed:\n",
    "        if 'affiliation' in reason:\n",
    "            color = 'green'\n",
    "        else:\n",
    "            color = 'red'\n",
    "        data = Markdown(\n",
    "                paper.generate_markdown_text() + \n",
    "                f'\\n|<p style=\"color:{color:s}\"> **ERROR** </p>| <p style=\"color:{color:s}\">{reason:s}</p> |'\n",
    "               )\n",
    "        if reason != current_reason:\n",
    "            logs.write(f'### {reason:s} \\n\\n')\n",
    "            current_reason = reason\n",
    "        logs.write(data.data + '\\n\\n')\n",
    "        \n",
    "        # only display here the important errors (all in logs)\n",
    "        # if color in ('red',):\n",
    "        display(data)"
   ]
  },
  {
   "cell_type": "markdown",
   "id": "472d20ee",
   "metadata": {
    "papermill": {
     "duration": 0.005142,
     "end_time": "2023-05-18T04:06:39.896451",
     "exception": false,
     "start_time": "2023-05-18T04:06:39.891309",
     "status": "completed"
    },
    "tags": []
   },
   "source": [
    "## Export documents\n",
    "\n",
    "We now write the .md files and export relevant images"
   ]
  },
  {
   "cell_type": "code",
   "execution_count": 6,
   "id": "d426aed9",
   "metadata": {
    "execution": {
     "iopub.execute_input": "2023-05-18T04:06:39.908279Z",
     "iopub.status.busy": "2023-05-18T04:06:39.907640Z",
     "iopub.status.idle": "2023-05-18T04:06:39.915818Z",
     "shell.execute_reply": "2023-05-18T04:06:39.915134Z"
    },
    "papermill": {
     "duration": 0.015956,
     "end_time": "2023-05-18T04:06:39.917505",
     "exception": false,
     "start_time": "2023-05-18T04:06:39.901549",
     "status": "completed"
    },
    "tags": []
   },
   "outputs": [],
   "source": [
    "def export_markdown_summary(md: str, md_fname:str, directory: str):\n",
    "    \"\"\"Export MD document and associated relevant images\"\"\"\n",
    "    import os\n",
    "    import shutil\n",
    "    import re\n",
    "\n",
    "    if (os.path.exists(directory) and not os.path.isdir(directory)):\n",
    "        raise RuntimeError(f\"a non-directory file exists with name {directory:s}\")\n",
    "\n",
    "    if (not os.path.exists(directory)):\n",
    "        print(f\"creating directory {directory:s}\")\n",
    "        os.mkdir(directory)\n",
    "\n",
    "    fig_fnames = (re.compile(r'\\[Fig.*\\]\\((.*)\\)').findall(md) + \n",
    "                  re.compile(r'\\<img src=\"([^>\\s]*)\"[^>]*/>').findall(md))\n",
    "    for fname in fig_fnames:\n",
    "        if 'http' in fname:\n",
    "            # No need to copy online figures\n",
    "            continue\n",
    "        destdir = os.path.join(directory, os.path.dirname(fname))\n",
    "        destfname = os.path.join(destdir, os.path.basename(fname))\n",
    "        try:\n",
    "            os.makedirs(destdir)\n",
    "        except FileExistsError:\n",
    "            pass\n",
    "        shutil.copy(fname, destfname)\n",
    "    with open(os.path.join(directory, md_fname), 'w') as fout:\n",
    "        fout.write(md)\n",
    "    print(\"exported in \", os.path.join(directory, md_fname))\n",
    "    [print(\"    + \" + os.path.join(directory,fk)) for fk in fig_fnames]"
   ]
  },
  {
   "cell_type": "code",
   "execution_count": 7,
   "id": "014d04a4",
   "metadata": {
    "execution": {
     "iopub.execute_input": "2023-05-18T04:06:39.929386Z",
     "iopub.status.busy": "2023-05-18T04:06:39.928801Z",
     "iopub.status.idle": "2023-05-18T04:06:39.942302Z",
     "shell.execute_reply": "2023-05-18T04:06:39.941593Z"
    },
    "papermill": {
     "duration": 0.020949,
     "end_time": "2023-05-18T04:06:39.943748",
     "exception": false,
     "start_time": "2023-05-18T04:06:39.922799",
     "status": "completed"
    },
    "tags": []
   },
   "outputs": [
    {
     "name": "stdout",
     "output_type": "stream",
     "text": [
      "exported in  _build/html/2305.09721.md\n",
      "    + _build/html/tmp_2305.09721/./figs/PS_TNG_TNG_Ill_comparison_xhi600_fiducial_cifog_20pcnt_fesc_cifog_20pcnt_fesc_Illustris-1_ratio.png\n",
      "    + _build/html/tmp_2305.09721/./figs/main_panel/PS_EagIllTNGTNG-NR_comparison_z780_fiducialfiducial_cifog_20pcnt_fesc.png\n",
      "    + _build/html/tmp_2305.09721/./figs/main_panel/PS_EagIllTNGTNG-NR_comparison_z630_fiducialfiducial_cifog_20pcnt_fesc.png\n",
      "    + _build/html/tmp_2305.09721/./figs/main_panel/PS_EagIllTNGTNG-NR_comparison_z570_fiducialfiducial_cifog_20pcnt_fesc.png\n",
      "    + _build/html/tmp_2305.09721/./figs/main_panel/PS_EagIllTNGTNG-NR_comparison_xhi850_fiducialfiducial_cifog_20pcnt_fesc.png\n",
      "    + _build/html/tmp_2305.09721/./figs/main_panel/PS_EagIllTNGTNG-NR_comparison_xhi600_fiducialfiducial_cifog_20pcnt_fesc.png\n",
      "    + _build/html/tmp_2305.09721/./figs/main_panel/PS_EagIllTNGTNG-NR_comparison_xhi300_fiducialfiducial_cifog_20pcnt_fesc.png\n",
      "    + _build/html/tmp_2305.09721/./figs/main_panel/PS_EagIllTNGTNG-NR_comparison_xhi850_fiducialfiducial_cifog_20pcnt_fesc_ratio.png\n",
      "    + _build/html/tmp_2305.09721/./figs/main_panel/PS_EagIllTNGTNG-NR_comparison_xhi600_fiducialfiducial_cifog_20pcnt_fesc_ratio.png\n",
      "    + _build/html/tmp_2305.09721/./figs/main_panel/PS_EagIllTNGTNG-NR_comparison_xhi300_fiducialfiducial_cifog_20pcnt_fesc_ratio.png\n",
      "    + _build/html/tmp_2305.09721/./figs/decomp/decomp_TNG100-1TNG100-1-NREagle100-1Illustris-1_fiducialfiducial_cifog_20pcnt_fesc_xhi850.png\n",
      "    + _build/html/tmp_2305.09721/./figs/decomp/decomp_TNG100-1TNG100-1-NREagle100-1Illustris-1_fiducialfiducial_cifog_20pcnt_fesc_xhi600.png\n",
      "    + _build/html/tmp_2305.09721/./figs/decomp/decomp_TNG100-1TNG100-1-NREagle100-1Illustris-1_fiducialfiducial_cifog_20pcnt_fesc_xhi300.png\n",
      "exported in  _build/html/2305.10107.md\n",
      "    + _build/html/tmp_2305.10107/./sublimation_curve.png\n",
      "    + _build/html/tmp_2305.10107/./plm_contamination_new.png\n",
      "    + _build/html/tmp_2305.10107/./crystallization_kouchi.png\n"
     ]
    }
   ],
   "source": [
    "for paper_id, md in documents:\n",
    "    export_markdown_summary(md, f\"{paper_id:s}.md\", '_build/html/')"
   ]
  },
  {
   "cell_type": "markdown",
   "id": "f087a0a7",
   "metadata": {
    "papermill": {
     "duration": 0.005227,
     "end_time": "2023-05-18T04:06:39.954357",
     "exception": false,
     "start_time": "2023-05-18T04:06:39.949130",
     "status": "completed"
    },
    "tags": []
   },
   "source": [
    "## Display the papers\n",
    "\n",
    "Not necessary but allows for a quick check."
   ]
  },
  {
   "cell_type": "code",
   "execution_count": 8,
   "id": "fd25f625",
   "metadata": {
    "execution": {
     "iopub.execute_input": "2023-05-18T04:06:39.966810Z",
     "iopub.status.busy": "2023-05-18T04:06:39.966312Z",
     "iopub.status.idle": "2023-05-18T04:06:39.972335Z",
     "shell.execute_reply": "2023-05-18T04:06:39.971698Z"
    },
    "papermill": {
     "duration": 0.013886,
     "end_time": "2023-05-18T04:06:39.973787",
     "exception": false,
     "start_time": "2023-05-18T04:06:39.959901",
     "status": "completed"
    },
    "scrolled": false,
    "tags": []
   },
   "outputs": [
    {
     "data": {
      "text/markdown": [
       "<div class=\"macros\" style=\"visibility:hidden;\">\n",
       "$\\newcommand{\\ensuremath}{}$\n",
       "$\\newcommand{\\xspace}{}$\n",
       "$\\newcommand{\\object}[1]{\\texttt{#1}}$\n",
       "$\\newcommand{\\farcs}{{.}''}$\n",
       "$\\newcommand{\\farcm}{{.}'}$\n",
       "$\\newcommand{\\arcsec}{''}$\n",
       "$\\newcommand{\\arcmin}{'}$\n",
       "$\\newcommand{\\ion}[2]{#1#2}$\n",
       "$\\newcommand{\\textsc}[1]{\\textrm{#1}}$\n",
       "$\\newcommand{\\hl}[1]{\\textrm{#1}}$\n",
       "$\\newcommand{\\footnote}[1]{}$\n",
       "$\\newcommand{\\fesc}{f_{\\rm esc}}$\n",
       "$\\newcommand{\\xhi}{x_{\\rm HI}}$\n",
       "$\\newcommand{\\mstel}{M_\\star}$\n",
       "$\\newcommand{\\lintr}{L_{\\rm intr}}$\n",
       "$\\newcommand{\\lesc}{L_{\\rm esc}}$\n",
       "$\\newcommand{\\fescglob}{f_{\\rm esc}^{20\\%}}$\n",
       "$\\newcommand{\\fescevol}{f_{\\rm esc}(z)}$\n",
       "$\\newcommand{\\feschalo}{f_{\\rm esc}(M_{\\rm h})}$\n",
       "$\\newcommand{\\mean}[1]{\\langle #1 \\rangle}$\n",
       "$\\newcommand{\\dtb}{\\delta T_{\\rm b}}$\n",
       "$\\newcommand{\\avgdtb}{\\overline{\\delta T_{\\rm b}}}$\n",
       "$\\newcommand{\\tcmb}{T_{\\rm CMB}}$\n",
       "$\\newcommand{\\dtbPS}{\\overline{\\delta T_{\\rm b}^2}  \\Delta_{21}^2}$\n",
       "$\\newcommand{\\PS}{\\Delta_{21}^2}$\n",
       "$\\newcommand{\\figref}[1]{Fig. \\ref{#1}}$\n",
       "$\\newcommand{\\code}[1]{\\textsc{#1}}$\n",
       "$\\newcommand{\\jl}[1]{\\noindent{\\color{red}[Joe: #1]}}$\n",
       "$\\newcommand{\\dn}[1]{\\noindent{\\bf \\color{violet}[Dylan: #1]}}$\n",
       "$\\newcommand{\\rk}[1]{\\noindent{\\bf \\color{cyan}[Ralf: #1]}}$\n",
       "$\\newcommand{\\sg}[1]{\\noindent{\\bf \\color{orange}[Simon: #1]}}$\n",
       "$\\newcommand{\\ap}[1]{{\\color{magenta} #1}}$</div>\n",
       "\n",
       "\n",
       "\n",
       "<div id=\"title\">\n",
       "\n",
       "# The signature of galaxy formation models in the power spectrum of the hydrogen 21cm line during reionization\n",
       "\n",
       "</div>\n",
       "<div id=\"comments\">\n",
       "\n",
       "[![arXiv](https://img.shields.io/badge/arXiv-2305.09721-b31b1b.svg)](https://arxiv.org/abs/2305.09721)<mark>Appeared on: 2023-05-18</mark> -  _submitted to MNRAS (12/05/23)_\n",
       "\n",
       "</div>\n",
       "<div id=\"authors\">\n",
       "\n",
       "J. S. W. Lewis, et al. -- incl., <mark>A. Pillepich</mark>\n",
       "\n",
       "</div>\n",
       "<div id=\"abstract\">\n",
       "\n",
       "**Abstract:** Observations of the 21cm line of neutral hydrogen are poised to revolutionize our knowledge of cosmic reionization and the high-redshift population of galaxies. However, harnessing such information requires robust and comprehensive theoretical modeling. We study the non-linear effects of hydrodynamics and astrophysical feedback processes, including stellar and AGN feedback, on the 21cm signal by post-processing three existing cosmological hydrodynamical simulations of galaxy formation: Illustris, IllustrisTNG, and Eagle. Overall and despite their different underlying galaxy-formation models, the three simulations return similar predictions for the global 21cm rightness temperature and its power spectrum. At fixed redshift, most differences are attributable to differences in the history of reionization, in turn driven by differences in the build-up of stellar sources of radiation. However, the impact of astrophysics is imprinted in the 21cm power spectrum through several unique signatures. First, we find significant small scale ( $k \\geq 10  \\rm{Mpc}^{-1}$ ) differences between Illustris and IllustrisTNG, where higher velocity winds generated by supernova feedback soften density peaks and lead to lower 21cm power in TNG. Second, we find more 21cm power at intermediate scales ( $k \\approx 0.8  \\rm{Mpc}^{-1}$ ) in Eagle, due to differences in ionization driven by highly effective stellar feedback, leading to lower star formation, older and redder stellar populations, and thus lower ionizing luminosities. Though subtle, these features could allow future observations of the 21cm signal, in conjunction with other reionization observables, to constrain theoretical models for galactic feedback at high redshift.\n",
       "\n",
       "</div>\n",
       "\n",
       "<div id=\"div_fig1\">\n",
       "\n",
       "<img src=\"tmp_2305.09721/./figs/PS_TNG_TNG_Ill_comparison_xhi600_fiducial_cifog_20pcnt_fesc_cifog_20pcnt_fesc_Illustris-1_ratio.png\" alt=\"Fig1\" width=\"100%\"/>\n",
       "\n",
       "**Figure 1. -** Relative 21cm power spectra for an experimental analysis of the TNG100 simulation, keeping all fiducial choices except we use the sources of ionizing radiation as predicted by Illustris. This test run is called \"Illustris sources\" (dashed dotted curves) and is compared to the fiducial Illustris and TNG100 predictions via the ratio of the 21cm power spectrum to TNG100. Each power spectrum is taken at an epoch where average $\\xhi$$  $\\ap$prox 0.6$. The differences in the 21cm power spectrum at $k \\leq  $\\SI{7}{\\per\\mega\\parsec} in Illustris vs. TNG100 are caused by differences in the stellar populations rather than in the gas state. Thinner curves denote scales where the predictions are affected by resolution or box size. (*fig:ill_src_ps*)\n",
       "\n",
       "</div>\n",
       "<div id=\"div_fig2\">\n",
       "\n",
       "<img src=\"tmp_2305.09721/./figs/main_panel/PS_EagIllTNGTNG-NR_comparison_z780_fiducialfiducial_cifog_20pcnt_fesc.png\" alt=\"Fig7.1\" width=\"11%\"/><img src=\"tmp_2305.09721/./figs/main_panel/PS_EagIllTNGTNG-NR_comparison_z630_fiducialfiducial_cifog_20pcnt_fesc.png\" alt=\"Fig7.2\" width=\"11%\"/><img src=\"tmp_2305.09721/./figs/main_panel/PS_EagIllTNGTNG-NR_comparison_z570_fiducialfiducial_cifog_20pcnt_fesc.png\" alt=\"Fig7.3\" width=\"11%\"/><img src=\"tmp_2305.09721/./figs/main_panel/PS_EagIllTNGTNG-NR_comparison_xhi850_fiducialfiducial_cifog_20pcnt_fesc.png\" alt=\"Fig7.4\" width=\"11%\"/><img src=\"tmp_2305.09721/./figs/main_panel/PS_EagIllTNGTNG-NR_comparison_xhi600_fiducialfiducial_cifog_20pcnt_fesc.png\" alt=\"Fig7.5\" width=\"11%\"/><img src=\"tmp_2305.09721/./figs/main_panel/PS_EagIllTNGTNG-NR_comparison_xhi300_fiducialfiducial_cifog_20pcnt_fesc.png\" alt=\"Fig7.6\" width=\"11%\"/><img src=\"tmp_2305.09721/./figs/main_panel/PS_EagIllTNGTNG-NR_comparison_xhi850_fiducialfiducial_cifog_20pcnt_fesc_ratio.png\" alt=\"Fig7.7\" width=\"11%\"/><img src=\"tmp_2305.09721/./figs/main_panel/PS_EagIllTNGTNG-NR_comparison_xhi600_fiducialfiducial_cifog_20pcnt_fesc_ratio.png\" alt=\"Fig7.8\" width=\"11%\"/><img src=\"tmp_2305.09721/./figs/main_panel/PS_EagIllTNGTNG-NR_comparison_xhi300_fiducialfiducial_cifog_20pcnt_fesc_ratio.png\" alt=\"Fig7.9\" width=\"11%\"/>\n",
       "\n",
       "**Figure 7. -** Direct comparison of the power spectra of the 21cm brightness temperature, $\\dtb$PS , from TNG100, Illustris, Eagle, and TNG100-NR across time. Coloured curves show the fiducial results, whereas the shaded areas indicate the spread of results using different post-processing models for $\\dtb$(Section \\ref{sec:fiducial} and Appendix \\ref{app:model_var}). Thinner curves denote scales where the predictions are affected by resolution or box size. **Top row:** power spectra for all four simulations at fixed redshifts. **Middle row:** power spectra grouped so that the average neutral fraction ($\\xhi$) in every panel is similar. **Bottom row:** Same as the middle row, but normalising all power spectra by the TNG100 result to quantify the level of (dis)agreement. (*fig:PS_compare*)\n",
       "\n",
       "</div>\n",
       "<div id=\"div_fig3\">\n",
       "\n",
       "<img src=\"tmp_2305.09721/./figs/decomp/decomp_TNG100-1TNG100-1-NREagle100-1Illustris-1_fiducialfiducial_cifog_20pcnt_fesc_xhi850.png\" alt=\"Fig8.1\" width=\"33%\"/><img src=\"tmp_2305.09721/./figs/decomp/decomp_TNG100-1TNG100-1-NREagle100-1Illustris-1_fiducialfiducial_cifog_20pcnt_fesc_xhi600.png\" alt=\"Fig8.2\" width=\"33%\"/><img src=\"tmp_2305.09721/./figs/decomp/decomp_TNG100-1TNG100-1-NREagle100-1Illustris-1_fiducialfiducial_cifog_20pcnt_fesc_xhi300.png\" alt=\"Fig8.3\" width=\"33%\"/>\n",
       "\n",
       "**Figure 8. -** Normalized 21cm power spectrum, $ \\Delta^2_{21}$, in our fiducial post-processing model and its contributing terms (as detailed in Eq. \\ref{eq:dTb2}), for all simulations. To simplify this plot, we do not show any constituent cross terms of $ \\Delta^2_{21}$, which can however contribute significantly at some scales and ionization levels \\protect\\citep[e.g.][]{georgiev_large-scale_2022}. We have grouped the simulations at redshifts when their average ionization fractions are similar. Solid thick curves show the fiducial results. Dashed curves denote the approximate contribution to $ \\Delta^2_{21}$ from the gas density term, whereas dotted and solid thin curves represent the $\\xhi$  term and the approximate contribution of the redshift-space velocity distortions (velocity term), respectively. (*fig:ps_ingredients*)\n",
       "\n",
       "</div><div id=\"qrcode\"><img src=https://api.qrserver.com/v1/create-qr-code/?size=100x100&data=\"https://arxiv.org/abs/2305.09721\"></div>"
      ],
      "text/plain": [
       "<IPython.core.display.Markdown object>"
      ]
     },
     "metadata": {},
     "output_type": "display_data"
    },
    {
     "data": {
      "text/markdown": [
       "<div class=\"macros\" style=\"visibility:hidden;\">\n",
       "$\\newcommand{\\ensuremath}{}$\n",
       "$\\newcommand{\\xspace}{}$\n",
       "$\\newcommand{\\object}[1]{\\texttt{#1}}$\n",
       "$\\newcommand{\\farcs}{{.}''}$\n",
       "$\\newcommand{\\farcm}{{.}'}$\n",
       "$\\newcommand{\\arcsec}{''}$\n",
       "$\\newcommand{\\arcmin}{'}$\n",
       "$\\newcommand{\\ion}[2]{#1#2}$\n",
       "$\\newcommand{\\textsc}[1]{\\textrm{#1}}$\n",
       "$\\newcommand{\\hl}[1]{\\textrm{#1}}$\n",
       "$\\newcommand{\\footnote}[1]{}$\n",
       "$\\newcommand{\\}{natexlab}$</div>\n",
       "\n",
       "\n",
       "\n",
       "<div id=\"title\">\n",
       "\n",
       "# $\\Euclid$ preparation. XXIX. Water ice in spacecraft part I:$\\The physics of ice formation and contamination$\n",
       "\n",
       "</div>\n",
       "<div id=\"comments\">\n",
       "\n",
       "[![arXiv](https://img.shields.io/badge/arXiv-2305.10107-b31b1b.svg)](https://arxiv.org/abs/2305.10107)<mark>Appeared on: 2023-05-18</mark> -  _35 pages, 22 figures, accepted for publication in A&A_\n",
       "\n",
       "</div>\n",
       "<div id=\"authors\">\n",
       "\n",
       "E. Collaboration, et al. -- incl., <mark>M. Schirmer</mark>\n",
       "\n",
       "</div>\n",
       "<div id=\"abstract\">\n",
       "\n",
       "**Abstract:** Material outgassing in a vacuum leads to molecular contamination, a well-known problem in spaceflight. Water is the most common contaminant in cryogenic spacecraft, altering numerous properties of optical systems. Too much ice means that $\\Euclid$ 's calibration requirements cannot be met anymore. $\\Euclid$ must then be thermally decontaminated, a month-long risky operation. We need to understand how ice affects our data to build adequate calibration and survey plans. A comprehensive analysis in the context of an astrophysical space survey has not been done before.   In this paper we look at other spacecraft with well-documented outgassing records. We then review the formation of thin ice films, and find that for $\\Euclid$ a mix of amorphous and crystalline ices is expected. Their surface topography -- and thus optical properties -- depend on the competing energetic needs of the substrate-water and the water-water interfaces, and are hard to predict with current theories. We illustrate that with scanning-tunnelling and atomic-force microscope images of thin ice films.   Sophisticated tools exist to compute contamination rates, and we must understand their underlying physical principles and uncertainties. We find considerable knowledge errors on the diffusion and sublimation coefficients, limiting the accuracy of outgassing estimates. We developed a water transport model to compute contamination rates in $\\Euclid$ , and find agreement with industry estimates within the uncertainties. Tests of the $\\Euclid$ flight hardware in space simulators did not pick up significant contamination signals, but were also not geared towards this purpose; our in-flight calibrations observations will be much more sensitive.   To derive a calibration and decontamination strategy we need to understand the link between the amount of ice in the optics and its effect on the data. There is little research about this, possibly because other spacecraft can decontaminate more easily, quenching the need for a deeper understanding. In our second paper we quantify the impact of iced optics on $\\Euclid$ 's data.\n",
       "\n",
       "</div>\n",
       "\n",
       "<div id=\"div_fig1\">\n",
       "\n",
       "<img src=\"tmp_2305.10107/./sublimation_curve.png\" alt=\"Fig11\" width=\"100%\"/>\n",
       "\n",
       "**Figure 11. -** Sublimation-flux models for amorphous and crystalline (hexagonal) ice. Overlaid are various measurements. The model for amorphous ice is shown up to 120 K by the dashed pink line; it is obtained by shifting the \\cite{murphy2005} curve by 3 K to lower temperatures. (*fig:sublimation_rate*)\n",
       "\n",
       "</div>\n",
       "<div id=\"div_fig2\">\n",
       "\n",
       "<img src=\"tmp_2305.10107/./plm_contamination_new.png\" alt=\"Fig21\" width=\"100%\"/>\n",
       "\n",
       "**Figure 21. -** Geometric model of the telescope to compute contamination on the optical surfaces. _Left panel_: Contamination from a point $Q$ on the baffle wall onto a point $P$ on M1 (bottom grey disk). _Right panel_: Contamination from a point $Q$ on M2 (top grey disk) onto $P$. The same setup can be used to compute contamination of M1 by sublimation from the `front ring' (FR), contamination of M2 from M1 and the `back ring' BR, and the water flux loss through the front aperture, simply by adjusting the respective integral bounds. The blue lines indicate fixed parameters listed in Table \\ref{plm_model_dimensions}. (*plm_model*)\n",
       "\n",
       "</div>\n",
       "<div id=\"div_fig3\">\n",
       "\n",
       "<img src=\"tmp_2305.10107/./crystallization_kouchi.png\" alt=\"Fig8\" width=\"100%\"/>\n",
       "\n",
       "**Figure 8. -** Annealing time for amorphous ice \\Ial to reach different fractions of crystallisation, using the \\cite{kouchi1994} formalism that is based on kinetic theory of crystallisation. The shaded box shows the relevant time and temperate ranges for \\Euclid. The crystallisation speed can be greatly accelerated  in case of epitaxial growth on suitable substrates \\citep{dohnalek2000}. (*fig:crystal_timescale_euclid*)\n",
       "\n",
       "</div><div id=\"qrcode\"><img src=https://api.qrserver.com/v1/create-qr-code/?size=100x100&data=\"https://arxiv.org/abs/2305.10107\"></div>"
      ],
      "text/plain": [
       "<IPython.core.display.Markdown object>"
      ]
     },
     "metadata": {},
     "output_type": "display_data"
    }
   ],
   "source": [
    "[display(Markdown(k[1])) for k in documents];"
   ]
  },
  {
   "cell_type": "markdown",
   "id": "873873a4",
   "metadata": {
    "papermill": {
     "duration": 0.005697,
     "end_time": "2023-05-18T04:06:39.985277",
     "exception": false,
     "start_time": "2023-05-18T04:06:39.979580",
     "status": "completed"
    },
    "tags": []
   },
   "source": [
    "# Create HTML index"
   ]
  },
  {
   "cell_type": "code",
   "execution_count": 9,
   "id": "cf665672",
   "metadata": {
    "execution": {
     "iopub.execute_input": "2023-05-18T04:06:39.998182Z",
     "iopub.status.busy": "2023-05-18T04:06:39.997714Z",
     "iopub.status.idle": "2023-05-18T04:06:40.006668Z",
     "shell.execute_reply": "2023-05-18T04:06:40.005941Z"
    },
    "papermill": {
     "duration": 0.017097,
     "end_time": "2023-05-18T04:06:40.008114",
     "exception": false,
     "start_time": "2023-05-18T04:06:39.991017",
     "status": "completed"
    },
    "tags": []
   },
   "outputs": [
    {
     "name": "stdout",
     "output_type": "stream",
     "text": [
      "209  publications files modified in the last 7 days.\n"
     ]
    }
   ],
   "source": [
    "from datetime import datetime, timedelta, timezone\n",
    "from glob import glob\n",
    "import os\n",
    "\n",
    "files = glob('_build/html/*.md')\n",
    "days = 7\n",
    "now = datetime.today()\n",
    "res = []\n",
    "for fk in files:\n",
    "    stat_result = os.stat(fk).st_ctime\n",
    "    modified = datetime.fromtimestamp(stat_result, tz=timezone.utc).replace(tzinfo=None)\n",
    "    delta = now.today() - modified\n",
    "    if delta <= timedelta(days=days):\n",
    "        res.append((delta.seconds, fk))\n",
    "res = [k[1] for k in reversed(sorted(res, key=lambda x:x[1]))]\n",
    "npub = len(res)\n",
    "print(len(res), f\" publications files modified in the last {days:d} days.\")\n",
    "# [ print('\\t', k) for k in res ];"
   ]
  },
  {
   "cell_type": "code",
   "execution_count": 10,
   "id": "015de740",
   "metadata": {
    "execution": {
     "iopub.execute_input": "2023-05-18T04:06:40.020984Z",
     "iopub.status.busy": "2023-05-18T04:06:40.020551Z",
     "iopub.status.idle": "2023-05-18T04:06:40.037510Z",
     "shell.execute_reply": "2023-05-18T04:06:40.036839Z"
    },
    "papermill": {
     "duration": 0.025045,
     "end_time": "2023-05-18T04:06:40.038998",
     "exception": false,
     "start_time": "2023-05-18T04:06:40.013953",
     "status": "completed"
    },
    "tags": []
   },
   "outputs": [
    {
     "name": "stdout",
     "output_type": "stream",
     "text": [
      "4  publications in the last 7 days.\n"
     ]
    }
   ],
   "source": [
    "import datetime\n",
    "from glob import glob\n",
    "\n",
    "def get_last_n_days(lst, days=1):\n",
    "    \"\"\" Get the documents from the last n days \"\"\"\n",
    "    sorted_lst = sorted(lst, key=lambda x: x[1], reverse=True)\n",
    "    for fname, date in sorted_lst:\n",
    "        if date >= str(datetime.date.today() - datetime.timedelta(days=days)):\n",
    "            yield fname\n",
    "\n",
    "def extract_appearance_dates(lst_file):\n",
    "    dates = []\n",
    "\n",
    "    def get_date(line):\n",
    "        return line\\\n",
    "            .split('Appeared on:')[-1]\\\n",
    "            .split('</mark>')[0].strip()\n",
    "\n",
    "    for fname in lst:\n",
    "        with open(fname, 'r') as f:\n",
    "            found_date = False\n",
    "            for line in f:\n",
    "                if not found_date:\n",
    "                    if \"Appeared on\" in line:\n",
    "                        found_date = True\n",
    "                        dates.append((fname, get_date(line)))\n",
    "                else:\n",
    "                    break\n",
    "    return dates\n",
    "\n",
    "from glob import glob\n",
    "lst = glob('_build/html/*md')\n",
    "days = 7\n",
    "dates = extract_appearance_dates(lst)\n",
    "res = list(get_last_n_days(dates, days))\n",
    "npub = len(res)\n",
    "print(len(res), f\" publications in the last {days:d} days.\")"
   ]
  },
  {
   "cell_type": "code",
   "execution_count": 11,
   "id": "52ca0208",
   "metadata": {
    "execution": {
     "iopub.execute_input": "2023-05-18T04:06:40.052140Z",
     "iopub.status.busy": "2023-05-18T04:06:40.051711Z",
     "iopub.status.idle": "2023-05-18T04:06:40.057063Z",
     "shell.execute_reply": "2023-05-18T04:06:40.056444Z"
    },
    "papermill": {
     "duration": 0.01365,
     "end_time": "2023-05-18T04:06:40.058552",
     "exception": false,
     "start_time": "2023-05-18T04:06:40.044902",
     "status": "completed"
    },
    "scrolled": false,
    "tags": []
   },
   "outputs": [],
   "source": [
    "def create_carousel(npub=4):\n",
    "    \"\"\" Generate the HTML code for a carousel with `npub` slides \"\"\"\n",
    "    carousel = [\"\"\"  <div class=\"carousel\" \"\"\",\n",
    "                \"\"\"       data-flickity='{ \"autoPlay\": 10000, \"adaptiveHeight\": true, \"resize\": true, \"wrapAround\": true, \"pauseAutoPlayOnHover\": true, \"groupCells\": 1 }' id=\"asyncTypeset\">\"\"\"\n",
    "                ]\n",
    "    \n",
    "    item_str = \"\"\"    <div class=\"carousel-cell\"> <div id=\"slide{k}\" class=\"md_view\">Content {k}</div> </div>\"\"\"\n",
    "    for k in range(1, npub + 1):\n",
    "        carousel.append(item_str.format(k=k))\n",
    "    carousel.append(\"  </div>\")\n",
    "    return '\\n'.join(carousel)\n",
    "\n",
    "def create_grid(npub=4):\n",
    "    \"\"\" Generate the HTML code for a flat grid with `npub` slides \"\"\"\n",
    "    grid = [\"\"\"  <div class=\"grid\"> \"\"\",\n",
    "                ]\n",
    "    \n",
    "    item_str = \"\"\"    <div class=\"grid-item\"> <div id=\"slide{k}\" class=\"md_view\">Content {k}</div> </div>\"\"\"\n",
    "    for k in range(1, npub + 1):\n",
    "        grid.append(item_str.format(k=k))\n",
    "    grid.append(\"  </div>\")\n",
    "    return '\\n'.join(grid)"
   ]
  },
  {
   "cell_type": "code",
   "execution_count": 12,
   "id": "a6eac5b6",
   "metadata": {
    "execution": {
     "iopub.execute_input": "2023-05-18T04:06:40.072362Z",
     "iopub.status.busy": "2023-05-18T04:06:40.071699Z",
     "iopub.status.idle": "2023-05-18T04:06:40.077805Z",
     "shell.execute_reply": "2023-05-18T04:06:40.077247Z"
    },
    "papermill": {
     "duration": 0.014659,
     "end_time": "2023-05-18T04:06:40.079249",
     "exception": false,
     "start_time": "2023-05-18T04:06:40.064590",
     "status": "completed"
    },
    "scrolled": false,
    "tags": []
   },
   "outputs": [],
   "source": [
    "carousel = create_carousel(npub)\n",
    "docs = ', '.join(['\"{0:s}\"'.format(k.split('/')[-1]) for k in res])\n",
    "slides = ', '.join([f'\"slide{k}\"' for k in range(1, npub + 1)])\n",
    "\n",
    "with open(\"daily_template.html\", \"r\") as tpl:\n",
    "    page = tpl.read()\n",
    "    page = page.replace(\"{%-- carousel:s --%}\", carousel)\\\n",
    "               .replace(\"{%-- suptitle:s --%}\",  \"7-day archives\" )\\\n",
    "               .replace(\"{%-- docs:s --%}\", docs)\\\n",
    "               .replace(\"{%-- slides:s --%}\", slides)\n",
    "    \n",
    "with open(\"_build/html/index_7days.html\", 'w') as fout:\n",
    "    fout.write(page)"
   ]
  },
  {
   "cell_type": "code",
   "execution_count": 13,
   "id": "adc1a1ec",
   "metadata": {
    "execution": {
     "iopub.execute_input": "2023-05-18T04:06:40.092520Z",
     "iopub.status.busy": "2023-05-18T04:06:40.092279Z",
     "iopub.status.idle": "2023-05-18T04:06:40.101558Z",
     "shell.execute_reply": "2023-05-18T04:06:40.101013Z"
    },
    "papermill": {
     "duration": 0.017964,
     "end_time": "2023-05-18T04:06:40.103219",
     "exception": false,
     "start_time": "2023-05-18T04:06:40.085255",
     "status": "completed"
    },
    "tags": []
   },
   "outputs": [
    {
     "name": "stdout",
     "output_type": "stream",
     "text": [
      "2  publications in the last day.\n"
     ]
    }
   ],
   "source": [
    "# redo for today\n",
    "days = 1\n",
    "res = list(get_last_n_days(dates, days))\n",
    "npub = len(res)\n",
    "print(len(res), f\" publications in the last day.\")\n",
    "\n",
    "carousel = create_carousel(npub)\n",
    "docs = ', '.join(['\"{0:s}\"'.format(k.split('/')[-1]) for k in res])\n",
    "slides = ', '.join([f'\"slide{k}\"' for k in range(1, npub + 1)])\n",
    "\n",
    "with open(\"daily_template.html\", \"r\") as tpl:\n",
    "    page = tpl.read()\n",
    "    page = page.replace(\"{%-- carousel:s --%}\", carousel)\\\n",
    "               .replace(\"{%-- suptitle:s --%}\",  \"Daily\" )\\\n",
    "               .replace(\"{%-- docs:s --%}\", docs)\\\n",
    "               .replace(\"{%-- slides:s --%}\", slides)\n",
    "    \n",
    "# print(carousel, docs, slides)\n",
    "# print(page)\n",
    "with open(\"_build/html/index_daily.html\", 'w') as fout:\n",
    "    fout.write(page)"
   ]
  },
  {
   "cell_type": "code",
   "execution_count": 14,
   "id": "00eece82",
   "metadata": {
    "execution": {
     "iopub.execute_input": "2023-05-18T04:06:40.116563Z",
     "iopub.status.busy": "2023-05-18T04:06:40.116329Z",
     "iopub.status.idle": "2023-05-18T04:06:40.122902Z",
     "shell.execute_reply": "2023-05-18T04:06:40.122406Z"
    },
    "papermill": {
     "duration": 0.014936,
     "end_time": "2023-05-18T04:06:40.124222",
     "exception": false,
     "start_time": "2023-05-18T04:06:40.109286",
     "status": "completed"
    },
    "scrolled": false,
    "tags": []
   },
   "outputs": [
    {
     "name": "stdout",
     "output_type": "stream",
     "text": [
      "6  6 publications selected.\n"
     ]
    }
   ],
   "source": [
    "# Create the flat grid of the last N papers (fixed number regardless of dates)\n",
    "from itertools import islice \n",
    "\n",
    "npub = 6\n",
    "res = [k[0] for k in (islice(reversed(sorted(dates, key=lambda x: x[1])), 6))]\n",
    "print(len(res), f\" {npub} publications selected.\")\n",
    "\n",
    "grid = create_grid(npub)\n",
    "docs = ', '.join(['\"{0:s}\"'.format(k.split('/')[-1]) for k in res])\n",
    "slides = ', '.join([f'\"slide{k}\"' for k in range(1, npub + 1)])\n",
    "\n",
    "with open(\"grid_template.html\", \"r\") as tpl:\n",
    "    page = tpl.read()\n",
    "    page = page.replace(\"{%-- grid-content:s --%}\", grid)\\\n",
    "               .replace(\"{%-- suptitle:s --%}\",  f\"Last {npub:,d} papers\" )\\\n",
    "               .replace(\"{%-- docs:s --%}\", docs)\\\n",
    "               .replace(\"{%-- slides:s --%}\", slides)\n",
    "    \n",
    "# print(grid, docs, slides)\n",
    "# print(page)\n",
    "with open(\"_build/html/index_npub_grid.html\", 'w') as fout:\n",
    "    fout.write(page)"
   ]
  }
 ],
 "metadata": {
  "kernelspec": {
   "display_name": "Python 3 (ipykernel)",
   "language": "python",
   "name": "python3"
  },
  "language_info": {
   "codemirror_mode": {
    "name": "ipython",
    "version": 3
   },
   "file_extension": ".py",
   "mimetype": "text/x-python",
   "name": "python",
   "nbconvert_exporter": "python",
   "pygments_lexer": "ipython3",
   "version": "3.9.16"
  },
  "papermill": {
   "default_parameters": {},
   "duration": 140.971654,
   "end_time": "2023-05-18T04:06:40.446951",
   "environment_variables": {},
   "exception": null,
   "input_path": "MPIA daily digest.ipynb",
   "output_path": "log.ipynb",
   "parameters": {},
   "start_time": "2023-05-18T04:04:19.475297",
   "version": "2.4.0"
  },
  "vscode": {
   "interpreter": {
    "hash": "aee8b7b246df8f9039afb4144a1f6fd8d2ca17a180786b69acc140d282b71a49"
   }
  },
  "widgets": {
   "application/vnd.jupyter.widget-state+json": {
    "state": {
     "1b8e4f7fc6ca4b488d1925179019fd7f": {
      "model_module": "@jupyter-widgets/base",
      "model_module_version": "2.0.0",
      "model_name": "LayoutModel",
      "state": {
       "_model_module": "@jupyter-widgets/base",
       "_model_module_version": "2.0.0",
       "_model_name": "LayoutModel",
       "_view_count": null,
       "_view_module": "@jupyter-widgets/base",
       "_view_module_version": "2.0.0",
       "_view_name": "LayoutView",
       "align_content": null,
       "align_items": null,
       "align_self": null,
       "border_bottom": null,
       "border_left": null,
       "border_right": null,
       "border_top": null,
       "bottom": null,
       "display": null,
       "flex": null,
       "flex_flow": null,
       "grid_area": null,
       "grid_auto_columns": null,
       "grid_auto_flow": null,
       "grid_auto_rows": null,
       "grid_column": null,
       "grid_gap": null,
       "grid_row": null,
       "grid_template_areas": null,
       "grid_template_columns": null,
       "grid_template_rows": null,
       "height": null,
       "justify_content": null,
       "justify_items": null,
       "left": null,
       "margin": null,
       "max_height": null,
       "max_width": null,
       "min_height": null,
       "min_width": null,
       "object_fit": null,
       "object_position": null,
       "order": null,
       "overflow": null,
       "padding": null,
       "right": null,
       "top": null,
       "visibility": null,
       "width": null
      }
     },
     "42c6adfca9b349ed8ecb12e5749eb2ef": {
      "model_module": "@jupyter-widgets/base",
      "model_module_version": "2.0.0",
      "model_name": "LayoutModel",
      "state": {
       "_model_module": "@jupyter-widgets/base",
       "_model_module_version": "2.0.0",
       "_model_name": "LayoutModel",
       "_view_count": null,
       "_view_module": "@jupyter-widgets/base",
       "_view_module_version": "2.0.0",
       "_view_name": "LayoutView",
       "align_content": null,
       "align_items": null,
       "align_self": null,
       "border_bottom": null,
       "border_left": null,
       "border_right": null,
       "border_top": null,
       "bottom": null,
       "display": null,
       "flex": null,
       "flex_flow": null,
       "grid_area": null,
       "grid_auto_columns": null,
       "grid_auto_flow": null,
       "grid_auto_rows": null,
       "grid_column": null,
       "grid_gap": null,
       "grid_row": null,
       "grid_template_areas": null,
       "grid_template_columns": null,
       "grid_template_rows": null,
       "height": null,
       "justify_content": null,
       "justify_items": null,
       "left": null,
       "margin": null,
       "max_height": null,
       "max_width": null,
       "min_height": null,
       "min_width": null,
       "object_fit": null,
       "object_position": null,
       "order": null,
       "overflow": null,
       "padding": null,
       "right": null,
       "top": null,
       "visibility": null,
       "width": null
      }
     },
     "4654c048f064422e87e32190acef4ad2": {
      "model_module": "@jupyter-widgets/controls",
      "model_module_version": "2.0.0",
      "model_name": "HBoxModel",
      "state": {
       "_dom_classes": [],
       "_model_module": "@jupyter-widgets/controls",
       "_model_module_version": "2.0.0",
       "_model_name": "HBoxModel",
       "_view_count": null,
       "_view_module": "@jupyter-widgets/controls",
       "_view_module_version": "2.0.0",
       "_view_name": "HBoxView",
       "box_style": "",
       "children": [
        "IPY_MODEL_4ec9b2e3ae144c1cb3d8f2106d7b4494",
        "IPY_MODEL_d6be13fd153b47fb9c0e6301946f3db4",
        "IPY_MODEL_a18f4efd0e63473498d30534cba077d9"
       ],
       "layout": "IPY_MODEL_696ffa56301845db930a0ac69804eece",
       "tabbable": null,
       "tooltip": null
      }
     },
     "4ec9b2e3ae144c1cb3d8f2106d7b4494": {
      "model_module": "@jupyter-widgets/controls",
      "model_module_version": "2.0.0",
      "model_name": "HTMLModel",
      "state": {
       "_dom_classes": [],
       "_model_module": "@jupyter-widgets/controls",
       "_model_module_version": "2.0.0",
       "_model_name": "HTMLModel",
       "_view_count": null,
       "_view_module": "@jupyter-widgets/controls",
       "_view_module_version": "2.0.0",
       "_view_name": "HTMLView",
       "description": "",
       "description_allow_html": false,
       "layout": "IPY_MODEL_a28447976d824759bc6fa55f597814ff",
       "placeholder": "​",
       "style": "IPY_MODEL_76243d71d01740569f2b53aa34875bda",
       "tabbable": null,
       "tooltip": null,
       "value": "100%"
      }
     },
     "696ffa56301845db930a0ac69804eece": {
      "model_module": "@jupyter-widgets/base",
      "model_module_version": "2.0.0",
      "model_name": "LayoutModel",
      "state": {
       "_model_module": "@jupyter-widgets/base",
       "_model_module_version": "2.0.0",
       "_model_name": "LayoutModel",
       "_view_count": null,
       "_view_module": "@jupyter-widgets/base",
       "_view_module_version": "2.0.0",
       "_view_name": "LayoutView",
       "align_content": null,
       "align_items": null,
       "align_self": null,
       "border_bottom": null,
       "border_left": null,
       "border_right": null,
       "border_top": null,
       "bottom": null,
       "display": null,
       "flex": null,
       "flex_flow": null,
       "grid_area": null,
       "grid_auto_columns": null,
       "grid_auto_flow": null,
       "grid_auto_rows": null,
       "grid_column": null,
       "grid_gap": null,
       "grid_row": null,
       "grid_template_areas": null,
       "grid_template_columns": null,
       "grid_template_rows": null,
       "height": null,
       "justify_content": null,
       "justify_items": null,
       "left": null,
       "margin": null,
       "max_height": null,
       "max_width": null,
       "min_height": null,
       "min_width": null,
       "object_fit": null,
       "object_position": null,
       "order": null,
       "overflow": null,
       "padding": null,
       "right": null,
       "top": null,
       "visibility": null,
       "width": null
      }
     },
     "76243d71d01740569f2b53aa34875bda": {
      "model_module": "@jupyter-widgets/controls",
      "model_module_version": "2.0.0",
      "model_name": "HTMLStyleModel",
      "state": {
       "_model_module": "@jupyter-widgets/controls",
       "_model_module_version": "2.0.0",
       "_model_name": "HTMLStyleModel",
       "_view_count": null,
       "_view_module": "@jupyter-widgets/base",
       "_view_module_version": "2.0.0",
       "_view_name": "StyleView",
       "background": null,
       "description_width": "",
       "font_size": null,
       "text_color": null
      }
     },
     "a18f4efd0e63473498d30534cba077d9": {
      "model_module": "@jupyter-widgets/controls",
      "model_module_version": "2.0.0",
      "model_name": "HTMLModel",
      "state": {
       "_dom_classes": [],
       "_model_module": "@jupyter-widgets/controls",
       "_model_module_version": "2.0.0",
       "_model_name": "HTMLModel",
       "_view_count": null,
       "_view_module": "@jupyter-widgets/controls",
       "_view_module_version": "2.0.0",
       "_view_name": "HTMLView",
       "description": "",
       "description_allow_html": false,
       "layout": "IPY_MODEL_42c6adfca9b349ed8ecb12e5749eb2ef",
       "placeholder": "​",
       "style": "IPY_MODEL_a901f11b67f34711adaf2370cfc36c6b",
       "tabbable": null,
       "tooltip": null,
       "value": " 2/2 [01:55&lt;00:00, 55.54s/it]"
      }
     },
     "a28447976d824759bc6fa55f597814ff": {
      "model_module": "@jupyter-widgets/base",
      "model_module_version": "2.0.0",
      "model_name": "LayoutModel",
      "state": {
       "_model_module": "@jupyter-widgets/base",
       "_model_module_version": "2.0.0",
       "_model_name": "LayoutModel",
       "_view_count": null,
       "_view_module": "@jupyter-widgets/base",
       "_view_module_version": "2.0.0",
       "_view_name": "LayoutView",
       "align_content": null,
       "align_items": null,
       "align_self": null,
       "border_bottom": null,
       "border_left": null,
       "border_right": null,
       "border_top": null,
       "bottom": null,
       "display": null,
       "flex": null,
       "flex_flow": null,
       "grid_area": null,
       "grid_auto_columns": null,
       "grid_auto_flow": null,
       "grid_auto_rows": null,
       "grid_column": null,
       "grid_gap": null,
       "grid_row": null,
       "grid_template_areas": null,
       "grid_template_columns": null,
       "grid_template_rows": null,
       "height": null,
       "justify_content": null,
       "justify_items": null,
       "left": null,
       "margin": null,
       "max_height": null,
       "max_width": null,
       "min_height": null,
       "min_width": null,
       "object_fit": null,
       "object_position": null,
       "order": null,
       "overflow": null,
       "padding": null,
       "right": null,
       "top": null,
       "visibility": null,
       "width": null
      }
     },
     "a901f11b67f34711adaf2370cfc36c6b": {
      "model_module": "@jupyter-widgets/controls",
      "model_module_version": "2.0.0",
      "model_name": "HTMLStyleModel",
      "state": {
       "_model_module": "@jupyter-widgets/controls",
       "_model_module_version": "2.0.0",
       "_model_name": "HTMLStyleModel",
       "_view_count": null,
       "_view_module": "@jupyter-widgets/base",
       "_view_module_version": "2.0.0",
       "_view_name": "StyleView",
       "background": null,
       "description_width": "",
       "font_size": null,
       "text_color": null
      }
     },
     "d6be13fd153b47fb9c0e6301946f3db4": {
      "model_module": "@jupyter-widgets/controls",
      "model_module_version": "2.0.0",
      "model_name": "FloatProgressModel",
      "state": {
       "_dom_classes": [],
       "_model_module": "@jupyter-widgets/controls",
       "_model_module_version": "2.0.0",
       "_model_name": "FloatProgressModel",
       "_view_count": null,
       "_view_module": "@jupyter-widgets/controls",
       "_view_module_version": "2.0.0",
       "_view_name": "ProgressView",
       "bar_style": "success",
       "description": "",
       "description_allow_html": false,
       "layout": "IPY_MODEL_1b8e4f7fc6ca4b488d1925179019fd7f",
       "max": 2.0,
       "min": 0.0,
       "orientation": "horizontal",
       "style": "IPY_MODEL_ecfe74c010ef4e22a6569df9b400a957",
       "tabbable": null,
       "tooltip": null,
       "value": 2.0
      }
     },
     "ecfe74c010ef4e22a6569df9b400a957": {
      "model_module": "@jupyter-widgets/controls",
      "model_module_version": "2.0.0",
      "model_name": "ProgressStyleModel",
      "state": {
       "_model_module": "@jupyter-widgets/controls",
       "_model_module_version": "2.0.0",
       "_model_name": "ProgressStyleModel",
       "_view_count": null,
       "_view_module": "@jupyter-widgets/base",
       "_view_module_version": "2.0.0",
       "_view_name": "StyleView",
       "bar_color": null,
       "description_width": ""
      }
     }
    },
    "version_major": 2,
    "version_minor": 0
   }
  }
 },
 "nbformat": 4,
 "nbformat_minor": 5
}