{
 "cells": [
  {
   "cell_type": "markdown",
   "id": "92bcb855",
   "metadata": {
    "papermill": {
     "duration": 0.003836,
     "end_time": "2025-03-06T04:11:15.162571",
     "exception": false,
     "start_time": "2025-03-06T04:11:15.158735",
     "status": "completed"
    },
    "tags": []
   },
   "source": [
    "# MPIA Arxiv on Deck 2\n",
    "\n",
    "Contains the steps to produce the paper extractions."
   ]
  },
  {
   "cell_type": "code",
   "execution_count": 1,
   "id": "3a0d6e11",
   "metadata": {
    "execution": {
     "iopub.execute_input": "2025-03-06T04:11:15.170419Z",
     "iopub.status.busy": "2025-03-06T04:11:15.169972Z",
     "iopub.status.idle": "2025-03-06T04:11:15.568290Z",
     "shell.execute_reply": "2025-03-06T04:11:15.567656Z"
    },
    "papermill": {
     "duration": 0.403202,
     "end_time": "2025-03-06T04:11:15.569477",
     "exception": false,
     "start_time": "2025-03-06T04:11:15.166275",
     "status": "completed"
    },
    "tags": []
   },
   "outputs": [],
   "source": [
    "# Imports\n",
    "import os\n",
    "from IPython.display import Markdown, display\n",
    "from tqdm.notebook import tqdm\n",
    "import warnings\n",
    "from PIL import Image \n",
    "import re\n",
    "\n",
    "# requires arxiv_on_deck_2\n",
    "\n",
    "from arxiv_on_deck_2.arxiv2 import (get_new_papers, \n",
    "                                    get_paper_from_identifier,\n",
    "                                    retrieve_document_source, \n",
    "                                    get_markdown_badge)\n",
    "from arxiv_on_deck_2 import (latex,\n",
    "                             latex_bib,\n",
    "                             mpia,\n",
    "                             highlight_authors_in_list)\n",
    "\n",
    "# Sometimes images are really big\n",
    "Image.MAX_IMAGE_PIXELS = 1000000000 "
   ]
  },
  {
   "cell_type": "code",
   "execution_count": 2,
   "id": "22aa9d44",
   "metadata": {
    "execution": {
     "iopub.execute_input": "2025-03-06T04:11:15.576897Z",
     "iopub.status.busy": "2025-03-06T04:11:15.576416Z",
     "iopub.status.idle": "2025-03-06T04:11:15.584309Z",
     "shell.execute_reply": "2025-03-06T04:11:15.583765Z"
    },
    "papermill": {
     "duration": 0.012605,
     "end_time": "2025-03-06T04:11:15.585328",
     "exception": false,
     "start_time": "2025-03-06T04:11:15.572723",
     "status": "completed"
    },
    "tags": []
   },
   "outputs": [],
   "source": [
    "# Some useful definitions.\n",
    "\n",
    "class AffiliationWarning(UserWarning):\n",
    "    pass\n",
    "\n",
    "class AffiliationError(RuntimeError):\n",
    "    pass\n",
    "\n",
    "def validation(source: str):\n",
    "    \"\"\"Raises error paper during parsing of source file\n",
    "    \n",
    "    Allows checks before parsing TeX code.\n",
    "    \n",
    "    Raises AffiliationWarning\n",
    "    \"\"\"\n",
    "    check = mpia.affiliation_verifications(source, verbose=True)\n",
    "    if check is not True:\n",
    "        raise AffiliationError(\"mpia.affiliation_verifications: \" + check)\n",
    "\n",
    "        \n",
    "warnings.simplefilter('always', AffiliationWarning)\n",
    "\n",
    "\n",
    "def get_markdown_qrcode(paper_id: str):\n",
    "    \"\"\" Generate a qrcode to the arxiv page using qrserver.com\n",
    "    \n",
    "    :param paper: Arxiv paper\n",
    "    :returns: markdown text\n",
    "    \"\"\"\n",
    "    url = r\"https://api.qrserver.com/v1/create-qr-code/?size=100x100&data=\"\n",
    "    txt = f\"\"\"<img src={url}\"https://arxiv.org/abs/{paper_id}\">\"\"\"\n",
    "    txt = '<div id=\"qrcode\">' + txt + '</div>'\n",
    "    return txt\n",
    "\n",
    "\n",
    "def clean_non_western_encoded_characters_commands(text: str) -> str:\n",
    "    \"\"\" Remove non-western encoded characters from a string\n",
    "    List may need to grow.\n",
    "    \n",
    "    :param text: the text to clean\n",
    "    :return: the cleaned text\n",
    "    \"\"\"\n",
    "    text = re.sub(r\"(\\\\begin{CJK}{UTF8}{gbsn})(.*?)(\\\\end{CJK})\", r\"\\2\", text)\n",
    "    return text\n",
    "\n",
    "\n",
    "def get_initials(name: str) -> str:\n",
    "    \"\"\" Get the short name, e.g., A.-B. FamName\n",
    "    :param name: full name\n",
    "    :returns: initials\n",
    "    \"\"\"\n",
    "    initials = []\n",
    "    # account for non western names often in ()\n",
    "    if '(' in name:\n",
    "        name = clean_non_western_encoded_characters_commands(name)\n",
    "        suffix = re.findall(r\"\\((.*?)\\)\", name)[0]\n",
    "        name = name.replace(f\"({suffix})\", '')\n",
    "    else:\n",
    "        suffix = ''\n",
    "    split = name.split()\n",
    "    for token in split[:-1]:\n",
    "        if '-' in token:\n",
    "            current = '-'.join([k[0] + '.' for k in token.split('-')])\n",
    "        else:\n",
    "            current = token[0] + '.'\n",
    "        initials.append(current)\n",
    "    initials.append(split[-1].strip())\n",
    "    if suffix:\n",
    "        initials.append(f\"({suffix})\")\n",
    "    return ' '.join(initials)"
   ]
  },
  {
   "cell_type": "markdown",
   "id": "14bd6310",
   "metadata": {
    "papermill": {
     "duration": 0.002867,
     "end_time": "2025-03-06T04:11:15.591150",
     "exception": false,
     "start_time": "2025-03-06T04:11:15.588283",
     "status": "completed"
    },
    "tags": []
   },
   "source": [
    "## get list of arxiv paper candidates\n",
    "\n",
    "We use the MPIA mitarbeiter list webpage from mpia.de to get author names\n",
    "We then get all new papers from Arxiv and match authors"
   ]
  },
  {
   "cell_type": "code",
   "execution_count": 3,
   "id": "7ea813a8",
   "metadata": {
    "execution": {
     "iopub.execute_input": "2025-03-06T04:11:15.598012Z",
     "iopub.status.busy": "2025-03-06T04:11:15.597578Z",
     "iopub.status.idle": "2025-03-06T04:11:38.949100Z",
     "shell.execute_reply": "2025-03-06T04:11:38.948465Z"
    },
    "papermill": {
     "duration": 23.356357,
     "end_time": "2025-03-06T04:11:38.950382",
     "exception": false,
     "start_time": "2025-03-06T04:11:15.594025",
     "status": "completed"
    },
    "tags": []
   },
   "outputs": [],
   "source": [
    "# deal with the author list and edge cases of people that cannot be consistent on their name  \n",
    "\n",
    "def filter_non_scientists(name: str) -> bool:\n",
    "    \"\"\" Loose filter on expected authorships\n",
    "\n",
    "    removing IT, administration, technical staff\n",
    "    :param name: name\n",
    "    :returns: False if name is not a scientist\n",
    "    \"\"\"\n",
    "    remove_list = ['Licht', 'Binroth', 'Witzel', 'Jordan',\n",
    "                   'Zähringer', 'Scheerer', 'Hoffmann', 'Düe',\n",
    "                   'Hellmich', 'Enkler-Scharpegge', 'Witte-Nguy',\n",
    "                   'Dehen', 'Beckmann', 'Jager', 'Jäger'\n",
    "                  ]\n",
    "\n",
    "    for k in remove_list:\n",
    "        if k in name:\n",
    "            return False\n",
    "    return True\n",
    "\n",
    "def add_author_to_list(author_list: list) -> list:\n",
    "    \"\"\" Add author to list if not already in list\n",
    "    \n",
    "    :param author: author name\n",
    "    :param author_list: list of authors\n",
    "    :returns: updated list of authors\n",
    "    \"\"\"\n",
    "    add_list = ['T. Henning']\n",
    "\n",
    "    for author in add_list:\n",
    "        if author not in author_list:\n",
    "            author_list.append(author)\n",
    "    return author_list\n",
    "\n",
    "# get list from MPIA website\n",
    "# filter for non-scientists (mpia.get_mpia_mitarbeiter_list() does some filtering)\n",
    "mpia_authors = [k[1] for k in mpia.get_mpia_mitarbeiter_list() if filter_non_scientists(k[1])]\n",
    "# add some missing author because of inconsistencies in their MPIA name and author name on papers\n",
    "mpia_authors = add_author_to_list(mpia_authors)"
   ]
  },
  {
   "cell_type": "code",
   "execution_count": 4,
   "id": "2645e73a",
   "metadata": {
    "execution": {
     "iopub.execute_input": "2025-03-06T04:11:38.957772Z",
     "iopub.status.busy": "2025-03-06T04:11:38.957373Z",
     "iopub.status.idle": "2025-03-06T04:11:39.572826Z",
     "shell.execute_reply": "2025-03-06T04:11:39.572239Z"
    },
    "papermill": {
     "duration": 0.620243,
     "end_time": "2025-03-06T04:11:39.573935",
     "exception": false,
     "start_time": "2025-03-06T04:11:38.953692",
     "status": "completed"
    },
    "tags": []
   },
   "outputs": [
    {
     "name": "stdout",
     "output_type": "stream",
     "text": [
      "F. Walter  ->  F. Walter  |  ['F. Walter']\n",
      "J. Li  ->  J. Li  |  ['J. Li']\n",
      "J. Li  ->  J. Li  |  ['J. Li']\n",
      "J. Li  ->  J. Li  |  ['J. Li']\n",
      "M. Benisty  ->  M. Benisty  |  ['M. Benisty']\n",
      "K. Lee  ->  K. Lee  |  ['K. Lee']\n",
      "E. Schinnerer  ->  E. Schinnerer  |  ['E. Schinnerer']\n",
      "F. Walter  ->  F. Walter  |  ['F. Walter']\n",
      "A. Hughes  ->  A. Hughes  |  ['A. Hughes']\n"
     ]
    },
    {
     "name": "stdout",
     "output_type": "stream",
     "text": [
      "J. Li  ->  J. Li  |  ['J. Li']\n",
      "Arxiv has 69 new papers today\n",
      "          9 with possible author matches\n"
     ]
    }
   ],
   "source": [
    "new_papers = get_new_papers()\n",
    "# add manual references\n",
    "add_paper_refs = []\n",
    "new_papers.extend([get_paper_from_identifier(k) for k in add_paper_refs])\n",
    "\n",
    "def robust_call(fn, value, *args, **kwargs):\n",
    "    try:\n",
    "        return fn(value, *args, **kwargs)\n",
    "    except Exception:\n",
    "        return value\n",
    "\n",
    "candidates = []\n",
    "for paperk in new_papers:\n",
    "    # Check author list with their initials\n",
    "    normed_author_list = [robust_call(mpia.get_initials, k) for k in paperk['authors']]\n",
    "    hl_authors = highlight_authors_in_list(normed_author_list, mpia_authors, verbose=True)\n",
    "    matches = [(hl, orig) for hl, orig in zip(hl_authors, paperk['authors']) if 'mark' in hl]\n",
    "    paperk['authors'] = hl_authors\n",
    "    if matches:\n",
    "        # only select paper if an author matched our list\n",
    "        candidates.append(paperk)\n",
    "print(\"\"\"Arxiv has {0:,d} new papers today\"\"\".format(len(new_papers)))        \n",
    "print(\"\"\"          {0:,d} with possible author matches\"\"\".format(len(candidates)))"
   ]
  },
  {
   "cell_type": "markdown",
   "id": "3543b34a",
   "metadata": {
    "papermill": {
     "duration": 0.003074,
     "end_time": "2025-03-06T04:11:39.580522",
     "exception": false,
     "start_time": "2025-03-06T04:11:39.577448",
     "status": "completed"
    },
    "tags": []
   },
   "source": [
    "# Parse sources and generate relevant outputs\n",
    "\n",
    "From the candidates, we do the following steps:\n",
    "* get their tarball from ArXiv (and extract data)\n",
    "* find the main .tex file: find one with \\documentclass{...} (sometimes it's non trivial)\n",
    "* Check affiliations with :func:`validation`, which uses :func:`mpia.affiliation_verifications`\n",
    "* If passing the affiliations: we parse the .tex source\n",
    "   * inject sub-documents into the main (flatten the main document)\n",
    "   * parse structure, extract information (title, abstract, authors, figures...)\n",
    "   * handles `\\graphicspath` if provided\n",
    "* Generate the .md document."
   ]
  },
  {
   "cell_type": "code",
   "execution_count": 5,
   "id": "9576b79e",
   "metadata": {
    "execution": {
     "iopub.execute_input": "2025-03-06T04:11:39.587622Z",
     "iopub.status.busy": "2025-03-06T04:11:39.587404Z",
     "iopub.status.idle": "2025-03-06T04:13:45.031074Z",
     "shell.execute_reply": "2025-03-06T04:13:45.030302Z"
    },
    "papermill": {
     "duration": 125.448508,
     "end_time": "2025-03-06T04:13:45.032114",
     "exception": false,
     "start_time": "2025-03-06T04:11:39.583606",
     "status": "completed"
    },
    "scrolled": false,
    "tags": []
   },
   "outputs": [
    {
     "data": {
      "application/vnd.jupyter.widget-view+json": {
       "model_id": "d7f55f1873854109ae5e3ae07f63b579",
       "version_major": 2,
       "version_minor": 0
      },
      "text/plain": [
       "  0%|          | 0/9 [00:00<?, ?it/s]"
      ]
     },
     "metadata": {},
     "output_type": "display_data"
    },
    {
     "name": "stdout",
     "output_type": "stream",
     "text": [
      "Retrieving document from  https://arxiv.org/e-print/2503.02947\n"
     ]
    },
    {
     "name": "stdout",
     "output_type": "stream",
     "text": [
      "extracting tarball to tmp_2503.02947..."
     ]
    },
    {
     "name": "stdout",
     "output_type": "stream",
     "text": [
      " done.\n"
     ]
    },
    {
     "name": "stderr",
     "output_type": "stream",
     "text": [
      "/opt/hostedtoolcache/Python/3.9.21/x64/lib/python3.9/site-packages/IPython/core/interactiveshell.py:3550: LatexWarning: Multiple tex files.\n",
      "\n",
      "  exec(code_obj, self.user_global_ns, self.user_ns)\n",
      "/opt/hostedtoolcache/Python/3.9.21/x64/lib/python3.9/site-packages/IPython/core/interactiveshell.py:3550: LatexWarning: Found documentclass in tmp_2503.02947/m31frbs.tex\n",
      "\n",
      "  exec(code_obj, self.user_global_ns, self.user_ns)\n",
      "/opt/hostedtoolcache/Python/3.9.21/x64/lib/python3.9/site-packages/arxiv_on_deck_2/latex.py:414: LatexWarning: Latex injecting: 'bursttable' from 'tmp_2503.02947/bursttable.tex'\n",
      "  warnings.warn(LatexWarning(f\"Latex injecting: '{ext}' from '{subsource}'\"))\n"
     ]
    },
    {
     "name": "stdout",
     "output_type": "stream",
     "text": [
      "F. Walter  ->  F. Walter  |  ['F. Walter']\n"
     ]
    },
    {
     "name": "stderr",
     "output_type": "stream",
     "text": [
      "/tmp/ipykernel_3235/2822249172.py:52: LatexWarning: 2503.02947 did not run properly\n",
      "list index out of range\n",
      "  warnings.warn(latex.LatexWarning(f\"{paper_id:s} did not run properly\\n\" +\n"
     ]
    },
    {
     "name": "stdout",
     "output_type": "stream",
     "text": [
      "Retrieving document from  https://arxiv.org/e-print/2503.03092\n"
     ]
    },
    {
     "name": "stdout",
     "output_type": "stream",
     "text": [
      "extracting tarball to tmp_2503.03092..."
     ]
    },
    {
     "name": "stdout",
     "output_type": "stream",
     "text": [
      " done.\n",
      "Retrieving document from  https://arxiv.org/e-print/2503.03093\n"
     ]
    },
    {
     "name": "stdout",
     "output_type": "stream",
     "text": [
      "extracting tarball to tmp_2503.03093... done.\n",
      "Retrieving document from  https://arxiv.org/e-print/2503.03095\n"
     ]
    },
    {
     "name": "stdout",
     "output_type": "stream",
     "text": [
      "extracting tarball to tmp_2503.03095... done.\n",
      "Retrieving document from  https://arxiv.org/e-print/2503.03336\n"
     ]
    },
    {
     "name": "stdout",
     "output_type": "stream",
     "text": [
      "extracting tarball to tmp_2503.03336..."
     ]
    },
    {
     "name": "stdout",
     "output_type": "stream",
     "text": [
      " done.\n"
     ]
    },
    {
     "name": "stderr",
     "output_type": "stream",
     "text": [
      "/opt/hostedtoolcache/Python/3.9.21/x64/lib/python3.9/site-packages/arxiv_on_deck_2/latex.py:414: LatexWarning: Latex injecting: 'main.bbl' from 'tmp_2503.03336/main.tex'\n",
      "  warnings.warn(LatexWarning(f\"Latex injecting: '{ext}' from '{subsource}'\"))\n"
     ]
    },
    {
     "name": "stdout",
     "output_type": "stream",
     "text": [
      "Found 95 bibliographic references in tmp_2503.03336/main.bbl.\n",
      "Retrieving document from  https://arxiv.org/e-print/2503.03452\n"
     ]
    },
    {
     "name": "stdout",
     "output_type": "stream",
     "text": [
      "extracting tarball to tmp_2503.03452..."
     ]
    },
    {
     "name": "stdout",
     "output_type": "stream",
     "text": [
      " done.\n",
      "Retrieving document from  https://arxiv.org/e-print/2503.03483\n"
     ]
    },
    {
     "name": "stdout",
     "output_type": "stream",
     "text": [
      "extracting tarball to tmp_2503.03483..."
     ]
    },
    {
     "name": "stdout",
     "output_type": "stream",
     "text": [
      " done.\n"
     ]
    },
    {
     "name": "stdout",
     "output_type": "stream",
     "text": [
      "Found 56 bibliographic references in tmp_2503.03483/UGCA250.bbl.\n",
      "Issues with the citations\n",
      "syntax error in line 193: '=' expected\n",
      "Retrieving document from  https://arxiv.org/e-print/2503.03493\n"
     ]
    },
    {
     "name": "stdout",
     "output_type": "stream",
     "text": [
      "extracting tarball to tmp_2503.03493..."
     ]
    },
    {
     "name": "stdout",
     "output_type": "stream",
     "text": [
      " done.\n",
      "Retrieving document from  https://arxiv.org/e-print/2503.03635\n"
     ]
    },
    {
     "name": "stdout",
     "output_type": "stream",
     "text": [
      "extracting tarball to tmp_2503.03635..."
     ]
    },
    {
     "name": "stdout",
     "output_type": "stream",
     "text": [
      " done.\n"
     ]
    }
   ],
   "source": [
    "documents = []\n",
    "failed = []\n",
    "for paper in tqdm(candidates):\n",
    "    # debug crap\n",
    "    paper['identifier'] = paper['identifier'].lower().replace('arxiv:', '').replace(r'\\n', '').strip()\n",
    "    paper_id = paper['identifier']\n",
    "    \n",
    "    folder = f'tmp_{paper_id}'\n",
    "\n",
    "    try:\n",
    "        if not os.path.isdir(folder):\n",
    "            folder = retrieve_document_source(f\"{paper_id}\", f'tmp_{paper_id}')\n",
    "        \n",
    "        try:\n",
    "            doc = latex.LatexDocument(folder, validation=validation)    \n",
    "        except AffiliationError as affilerror:\n",
    "            msg = f\"ArXiv:{paper_id:s} is not an MPIA paper... \" + str(affilerror)\n",
    "            failed.append((paper, \"affiliation error: \" + str(affilerror) ))\n",
    "            continue\n",
    "        \n",
    "        # Hack because sometimes author parsing does not work well\n",
    "        if (len(doc.authors) != len(paper['authors'])):\n",
    "            doc._authors = paper['authors']\n",
    "        else:\n",
    "            # highlight authors (FIXME: doc.highlight_authors)\n",
    "            # done on arxiv paper already\n",
    "            doc._authors = highlight_authors_in_list(\n",
    "                [get_initials(k) for k in doc.authors], \n",
    "                mpia_authors, verbose=True)\n",
    "        if (doc.abstract) in (None, ''):\n",
    "            doc._abstract = paper['abstract']\n",
    "            \n",
    "        doc.comment = (get_markdown_badge(paper_id) + \n",
    "                       \"<mark>Appeared on: \" + paper['date'] + \"</mark> - \")\n",
    "        if paper['comments']:\n",
    "            doc.comment += \" _\" + paper['comments'] + \"_\"\n",
    "        \n",
    "        full_md = doc.generate_markdown_text()\n",
    "        \n",
    "        full_md += get_markdown_qrcode(paper_id)\n",
    "        \n",
    "        # replace citations\n",
    "        try:\n",
    "            bibdata = latex_bib.LatexBib.from_doc(doc)\n",
    "            full_md = latex_bib.replace_citations(full_md, bibdata)\n",
    "        except Exception as e:\n",
    "            print(\"Issues with the citations\")\n",
    "            print(e)\n",
    "        \n",
    "        documents.append((paper_id, full_md))\n",
    "    except Exception as e:\n",
    "        warnings.warn(latex.LatexWarning(f\"{paper_id:s} did not run properly\\n\" +\n",
    "                                         str(e)\n",
    "                                        ))\n",
    "        failed.append((paper, \"latex error \" + str(e)))"
   ]
  },
  {
   "cell_type": "markdown",
   "id": "2505a25c",
   "metadata": {
    "papermill": {
     "duration": 0.004324,
     "end_time": "2025-03-06T04:13:45.040983",
     "exception": false,
     "start_time": "2025-03-06T04:13:45.036659",
     "status": "completed"
    },
    "tags": []
   },
   "source": [
    "### Export the logs\n",
    "\n",
    "Throughout, we also keep track of the logs per paper. see `logs-{today date}.md` "
   ]
  },
  {
   "cell_type": "code",
   "execution_count": 6,
   "id": "d733828a",
   "metadata": {
    "execution": {
     "iopub.execute_input": "2025-03-06T04:13:45.050659Z",
     "iopub.status.busy": "2025-03-06T04:13:45.050333Z",
     "iopub.status.idle": "2025-03-06T04:13:45.071189Z",
     "shell.execute_reply": "2025-03-06T04:13:45.070626Z"
    },
    "papermill": {
     "duration": 0.026948,
     "end_time": "2025-03-06T04:13:45.072160",
     "exception": false,
     "start_time": "2025-03-06T04:13:45.045212",
     "status": "completed"
    },
    "scrolled": false,
    "tags": []
   },
   "outputs": [
    {
     "data": {
      "text/markdown": [
       "## Successful papers"
      ],
      "text/plain": [
       "<IPython.core.display.Markdown object>"
      ]
     },
     "metadata": {},
     "output_type": "display_data"
    },
    {
     "data": {
      "text/markdown": [
       "\n",
       "|||\n",
       "|---:|:---|\n",
       "| [![arXiv](https://img.shields.io/badge/arXiv-2503.03336-b31b1b.svg)](https://arxiv.org/abs/2503.03336) | **High angular resolution evidence of dust traps from deep ALMA Band 3 observations of LkCa15**  |\n",
       "|| A. Sierra, et al. -- incl., <mark>M. Benisty</mark> |\n",
       "|*Appeared on*| *2025-03-06*|\n",
       "|*Comments*| **|\n",
       "|**Abstract**|            Dust traps are the most promising mechanisms to explain the observed substructures in protoplanetary discs. In this work, we present high-angular resolution ($\\sim$60 mas, 9.4\\,au) and high-sensitivity Atacama Large Millimetre/submillimetre Array (ALMA) observations at 3 mm of the transitional disc around LkCa15. The new data, combined with previous high-resolution observations at $\\lambda=0.87,1.3$ mm, make LkCa15 an ideal laboratory for testing the dust trapping mechanism. We found that the width of the three rings decreases linearly with frequency, and the spectral indices show local minima at the locations of the rings, consistent with dust trap models. Multi-wavelength modelling confirms that the dust surface density and maximum grain size peak at 69 and 101\\,au, and suggestive peak at 42\\,au. The estimated total dust mass is between 13-250 M$_{\\oplus}$, depending on the chosen opacity. The inner disc shows bright and unresolved emission at 3 mm, exhibiting a spectral index of $\\alpha_{1.3-3 \\rm mm} = 0.3 \\pm 0.37$, and $\\alpha_{\\rm 3mm-3cm}$ ranging from $-0.1$ to $0.0$. These properties are consistent with free-free emission from an ionised jet or disc wind. Dust evolution models and radiative transfer calculations suggest that a viscosity coefficient of $\\alpha = 10^{-3}$, a fragmentation velocity of 10 m\\,s$^{-1}$, and DSHARP opacities provide the best match to the observed properties.         |"
      ],
      "text/plain": [
       "[2503.03336] High angular resolution evidence of dust traps from deep ALMA Band 3 observations of LkCa15\n",
       "\tA. Sierra, et al. -- incl., <mark>M. Benisty</mark>"
      ]
     },
     "metadata": {},
     "output_type": "display_data"
    },
    {
     "data": {
      "text/markdown": [
       "\n",
       "|||\n",
       "|---:|:---|\n",
       "| [![arXiv](https://img.shields.io/badge/arXiv-2503.03483-b31b1b.svg)](https://arxiv.org/abs/2503.03483) | **Uncovering Extraplanar Gas in UGCA 250 with the Ultra-deep MHONGOOSE Survey**  |\n",
       "|| S. Kurapati, et al. -- incl., <mark>E. Schinnerer</mark>, <mark>F. Walter</mark> |\n",
       "|*Appeared on*| *2025-03-06*|\n",
       "|*Comments*| *16 pages, 14 figures, Accepted for publication in MNRAS*|\n",
       "|**Abstract**|            We use the neutral atomic hydrogen (HI) observations of the edge-on galaxy UGCA 250, taken as part of the MeerKAT HI Observations of Nearby Galactic Objects - Observing Southern Emitters (MHONGOOSE) survey to investigate the amount, morphology, and kinematics of extraplanar gas. The combination of high column density sensitivity and high spatial resolution of the survey over a large field of view is ideal for studying the underlying physics governing the extraplanar gas. These data reveal 9 additional detections within the field of view along with UGCA 250, with 8 of them being within $\\sim$ 200 km s$^{-1}$ of the galaxy's systemic velocity. The galaxy seems to have a tail-like feature extending away from it in the southern direction up to $\\sim$ 41 kpc (in projection). We also detect a cloud at anomalous velocities, but we did not find any optical counterpart. We construct a detailed tilted ring model for this edge-on galaxy to gain a deeper understanding of the vertical structure of its neutral hydrogen. The model that best matches the data features a thick disc with a scale height of $\\sim$ 3$\\pm$1 kpc and an HI mass of about 15$\\%$ of the total HI mass. This extraplanar gas is detected for the first time in UGCA 250. Our analysis favours a mixed origin for the extraplanar gas in UGCA 250, likely arising from a combination of internal stellar feedback and external tidal interactions.         |"
      ],
      "text/plain": [
       "[2503.03483] Uncovering Extraplanar Gas in UGCA 250 with the Ultra-deep MHONGOOSE Survey\n",
       "\tS. Kurapati, et al. -- incl., <mark>E. Schinnerer</mark>, <mark>F. Walter</mark>"
      ]
     },
     "metadata": {},
     "output_type": "display_data"
    },
    {
     "data": {
      "text/markdown": [
       "## Failed papers"
      ],
      "text/plain": [
       "<IPython.core.display.Markdown object>"
      ]
     },
     "metadata": {},
     "output_type": "display_data"
    },
    {
     "data": {
      "text/markdown": [
       "\n",
       "|||\n",
       "|---:|:---|\n",
       "| [![arXiv](https://img.shields.io/badge/arXiv-2503.03092-b31b1b.svg)](https://arxiv.org/abs/2503.03092) | **New insight into the hard X-ray emission influenced by the type-\\uppercase\\expandafter{\\romannumeral1} bursts observed by Insight-HXMT during outburst of 4U 1636--536**  |\n",
       "|| J. Q. Peng, et al. -- incl., <mark>J. Li</mark> |\n",
       "|*Appeared on*| *2025-03-06*|\n",
       "|*Comments*| *11 pages, 8 figures, 2 tables, Published in A&A*|\n",
       "|**Abstract**|            By analyzing the data from Insight-HXMT and NICER, we can determine the evolution of the significance of the hard shortage in 4U 1636--536 with its spectral state, as well as the evolution of the fraction of deficit with energy. Additionally, we investigate the possible geometry and evolution of the corona in 4U 1636-536 by combining our findings with the results of spectral analysis. We find that during the soft state, the significance of possible hard X-ray shortage in bursts is almost zero. However, in the hard state, some bursts exhibit significant shortages (>3 $\\sigma$), while others do not. We attempt to establish a correlation between the significance of the hard X-ray shortage and the spectral parameters, but the data quality and the limited number of bursts prevent us from finding a strong correlation. For bursts with insignificant shortages in the soft state, their fraction of the deficit remains small. However, in the hard state, the fraction of deficit for all bursts increases with energy, regardless of the significance of the shortage of individual bursts. For bursts during the hard state, we investigate the evolution of the fraction of deficit during the bursts by stacking the peaks and decays of the bursts, respectively, and find that as the flux of the bursts decreases, the energy corresponding to the maximum of the fraction of deficit becomes progressively higher. We explore the possible geometry and evolution of the corona clued by the evolution of the fraction of deficit, which is obtained from the spectral and temporal analysis.         |\n",
       "|<p style=\"color:green\"> **ERROR** </p>| <p style=\"color:green\">affiliation error: mpia.affiliation_verifications: 'Heidelberg' keyword not found.</p> |"
      ],
      "text/plain": [
       "<IPython.core.display.Markdown object>"
      ]
     },
     "metadata": {},
     "output_type": "display_data"
    },
    {
     "data": {
      "text/markdown": [
       "\n",
       "|||\n",
       "|---:|:---|\n",
       "| [![arXiv](https://img.shields.io/badge/arXiv-2503.03093-b31b1b.svg)](https://arxiv.org/abs/2503.03093) | **Insight-HXMT, NICER and NuSTAR views to the newly discovered black hole X-ray binary Swift J151857.0--572147**  |\n",
       "|| J.-Q. Peng, et al. -- incl., <mark>J. Li</mark> |\n",
       "|*Appeared on*| *2025-03-06*|\n",
       "|*Comments*| *11 pages, 7 figures, 5 tables, accepted for publication in ApJ Letters*|\n",
       "|**Abstract**|            The systematic properties are largely unknown for the black hole X-ray binary Swift J151857.0--572147 newly discovered in the 2024 outburst. The nature of a black hole can be completely defined by specifying the mass and dimensionless spin parameter. Therefore, accurate measurement of the two fundamental parameters is important for understanding the nature of black holes. The joint spectral fitting of a reflection component with simultaneous observations from Insight-HXMT, NICER and NuSTAR reveals for the first time a black hole dimensionless spin of $0.84^{+0.17}_{-0.26}$ and an inclination angle of $21.1^{+4.5}_{-3.6}$ degree for this system. Monitoring of the soft state by NICER results in disk flux and temperature following $F_{\\rm disk} \\propto T_{\\rm in}^{3.83\\pm 0.17}$. For the standard thin disk, $L_{\\rm disk}\\approx 4\\pi R_{\\rm in}^{2}\\sigma T_{\\rm in}^{4}$, so the relationship between the flux and temperature of the disk we measured indicates that the inner radius of the disk is stable and the disk is in the Innermost Stable Circular Orbit. With an empirical relation built previously between the black hole outburst profile and the intrinsic power output, the source distance is estimated as $5.8\\pm 2.5$ kpc according to the outburst profile and peak flux observed by Insight-HXMT and NICER. Finally, a black hole mass of $3.67\\pm1.79-8.07\\pm 4.20 M_\\odot$ can be inferred from a joint diagnostic of the aforementioned parameters measured for this system. This system is also consistent with most black hole X-ray binaries with high spin and a mass in the range of 5--20 $M_\\odot$         |\n",
       "|<p style=\"color:green\"> **ERROR** </p>| <p style=\"color:green\">affiliation error: mpia.affiliation_verifications: 'Heidelberg' keyword not found.</p> |"
      ],
      "text/plain": [
       "<IPython.core.display.Markdown object>"
      ]
     },
     "metadata": {},
     "output_type": "display_data"
    },
    {
     "data": {
      "text/markdown": [
       "\n",
       "|||\n",
       "|---:|:---|\n",
       "| [![arXiv](https://img.shields.io/badge/arXiv-2503.03095-b31b1b.svg)](https://arxiv.org/abs/2503.03095) | **The peculiar disk evolution of 4U 1630--472 observed by Insight-HXMT during the 2022 and 2023 outbursts**  |\n",
       "|| J.-Q. Peng, et al. -- incl., <mark>J. Li</mark> |\n",
       "|*Appeared on*| *2025-03-06*|\n",
       "|*Comments*| *14 pages, 14 pages,3 tables. Published in ApJ*|\n",
       "|**Abstract**|            We study the spectral properties of the black hole X-ray transient binary 4U 1630--472 during the 2022 and 2023 outbursts with Insight-HXMT observations. We find that the outbursts are in peculiar soft states. The effect of the hardening factor on the disk temperature is taken into account by kerrbb, and the flux and temperature of the disk are found to follow $F \\propto T_{\\rm eff}^{3.92\\pm 0.13}$ and $F \\propto T_{\\rm eff}^{4.91\\pm 1.00}$, for the two outbursts respectively. The flux-temperature relation is roughly consistent with holding a standard disk, By fitting with the p-free model, the p-value is found to have anti-correlation with disk temperature. Combined a joint diagnostic in a diagram of the relation between the non-thermal fraction and luminosity, by enclosing as well the previous outbursts, reveals a possible pattern for the disk evolution toward a slim one, and such an evolution may depend on the fraction of the non-thermal emission in the high soft state.         |\n",
       "|<p style=\"color:green\"> **ERROR** </p>| <p style=\"color:green\">affiliation error: mpia.affiliation_verifications: 'Heidelberg' keyword not found.</p> |"
      ],
      "text/plain": [
       "<IPython.core.display.Markdown object>"
      ]
     },
     "metadata": {},
     "output_type": "display_data"
    },
    {
     "data": {
      "text/markdown": [
       "\n",
       "|||\n",
       "|---:|:---|\n",
       "| [![arXiv](https://img.shields.io/badge/arXiv-2503.03452-b31b1b.svg)](https://arxiv.org/abs/2503.03452) | **A Linear Decomposition Method to Analyze and Study Pulsar Mode Changes**  |\n",
       "|| L. Hao, et al. -- incl., <mark>K. Lee</mark> |\n",
       "|*Appeared on*| *2025-03-06*|\n",
       "|*Comments*| *10 pages, 10 figures, accepted for publication in ApJ*|\n",
       "|**Abstract**|            In this paper, we present the linear decomposition method (LDM), which we developed to detect and analyze pulsar profile variations and mode changing behaviour. We developed LDM utilizing the likelihood function approach assuming the Gaussian noise. The LDM projects pulse profiles onto significance-ordered orthonormal vector bases. We show that the method is similar to the principal component analysis (PCA), but LDM can handle more general situations. We use simulated dataset and data from the Kunming 40-m radio telescope to demonstrate the application of the LDM. We found that the LDM successfully identified mode changes for well-known mode-changing PSR B0329+54 and found a continuous pulse profile evolution for PSR B0355+54 . We also show that the LDM can be used to improve the timing precision for mode changing PSR B0329+54.         |\n",
       "|<p style=\"color:green\"> **ERROR** </p>| <p style=\"color:green\">affiliation error: mpia.affiliation_verifications: 'Heidelberg' keyword not found.</p> |"
      ],
      "text/plain": [
       "<IPython.core.display.Markdown object>"
      ]
     },
     "metadata": {},
     "output_type": "display_data"
    },
    {
     "data": {
      "text/markdown": [
       "\n",
       "|||\n",
       "|---:|:---|\n",
       "| [![arXiv](https://img.shields.io/badge/arXiv-2503.03493-b31b1b.svg)](https://arxiv.org/abs/2503.03493) | **The Dust Polarisation and Magnetic Field Structure in the Centre of NGC253 with ALMA**  |\n",
       "|| D. Belfiori, et al. -- incl., <mark>A. Hughes</mark> |\n",
       "|*Appeared on*| *2025-03-06*|\n",
       "|*Comments*| *22 pages, 13 Figures, 6 Tables. Accepted by A&A*|\n",
       "|**Abstract**|            Magnetic fields have an impact on galaxy evolution at multiple scales. They are particularly important for starburst galaxies, where they play a crucial role in shaping the interstellar medium (ISM), influencing star formation processes and interacting with galactic outflows. The primary aim of this study is to obtain a parsec scale map of dust polarisation and B-field structure within the central starburst region of NGC253. This includes examining the relationship between the morphology of B-fields, galactic outflows and the spatial distribution of super star clusters (SSC), to understand their combined effects on the galaxy's star formation and ISM. We used ALMA full polarisation data in Bands 4 (145 GHz) and 7 (345 GHz) with resolution of 25 and 5 pc scale, respectively. According to our SED fitting analysis, the observed Band 4 emission is a combination of dust, synchrotron and free-free, while Band 7 traces only dust. The polarisation fraction (PF) of the synchrotron component is 2%, while that of the dust component is 0.3%. The B-fields orientation maps in both bands at common resolution show that the same B-fields structure is traced by dust and synchrotron emission at scales of 25 pc. The B-field morphology suggests a coupling with the multiphase outflow, while the distribution of PF in Band 7 showed to be correlated with the presence of SSC. We observed a significant anti-correlation between polarisation fraction and column density in both Bands 4 and 7. A negative correlation between PF and dispersion angle function was observed in Band 4 but was nearly absent in Band 7 at native resolution, suggesting that the tangling of B-field geometry along the plane of the sky is the main cause of depolarisation at 25 pc scales, while other factors play a role at 5 pc scales.         |\n",
       "|<p style=\"color:green\"> **ERROR** </p>| <p style=\"color:green\">affiliation error: mpia.affiliation_verifications: 'Heidelberg' keyword not found.</p> |"
      ],
      "text/plain": [
       "<IPython.core.display.Markdown object>"
      ]
     },
     "metadata": {},
     "output_type": "display_data"
    },
    {
     "data": {
      "text/markdown": [
       "\n",
       "|||\n",
       "|---:|:---|\n",
       "| [![arXiv](https://img.shields.io/badge/arXiv-2503.03635-b31b1b.svg)](https://arxiv.org/abs/2503.03635) | **New routes for PN destruction and formation in the ISM via neutral-neutral gas-phase reactions and an extended database for reactions involving phosphorus**  |\n",
       "|| M. X. Silva, et al. -- incl., <mark>J. Li</mark> |\n",
       "|*Appeared on*| *2025-03-06*|\n",
       "|*Comments*| *12 pages, 7 figures. Accepted for publication in A&A*|\n",
       "|**Abstract**|            Phosphorus plays an essential role in the chemistry of living organisms, being present in several fundamental biomolecules. The investigation of chemical reactions taking place in different astronomical environments involving phosphorus-containing molecules is essential for understanding how these species are produced and destroyed. Phosphorus monoxide (PO) and phosphorus nitride (PN) are key reservoirs of phosphorus in the Interstellar Medium (ISM). This work presents a computational study of the CPN system to identify viable reaction pathways involving atom-diatom collisions and to explore a potential destruction route for PN in the ISM. We explore the potential energy landscape of the C($\\mathrm{^3P}$) + PN($^1\\Sigma^+$), N($\\mathrm{^4S}$) + CP($^2\\Sigma^+$) and P($\\mathrm{^4S}$) + CN($^2\\Sigma^+$) reactions by performing high-accuracy ab initio calculations and provide their rate coefficients over a wide range of temperatures. The temperature-dependent rate coefficients were fitted to the modified Arrhenius equation: $k(T)=\\alpha(T/300)^{\\beta}\\mathrm{exp}(-\\gamma/T)$. An updated chemical network for P-bearing species was used to model the time-dependent abundances and reaction contributions of P, PO, PN, and PH during the chemical evolution of diffuse/translucent and dense clouds. The only neutral-neutral reaction capable of destroying PN without an activation energy seems to be the PN+C one. We have also shown that reactions between CP and N can yield CN and PN barrierless. Chemical models indicate that PO is a crucial species driving the gas-phase formation of PN. Typically, PO/PN ratios exceed 1, though their chemistry is influenced by photon- and cosmic-ray-induced processes. Over time in simulated dense clouds, neutral-neutral reactions such as PO + N, PH + N, P + OH, and PH + O play a significant role in determining the relative abundances of PO and PN.         |\n",
       "|<p style=\"color:green\"> **ERROR** </p>| <p style=\"color:green\">affiliation error: mpia.affiliation_verifications: 'Heidelberg' keyword not found.</p> |"
      ],
      "text/plain": [
       "<IPython.core.display.Markdown object>"
      ]
     },
     "metadata": {},
     "output_type": "display_data"
    },
    {
     "data": {
      "text/markdown": [
       "\n",
       "|||\n",
       "|---:|:---|\n",
       "| [![arXiv](https://img.shields.io/badge/arXiv-2503.02947-b31b1b.svg)](https://arxiv.org/abs/2503.02947) | **Evidence for a hot galactic halo around the Andromeda Galaxy using fast radio bursts**  |\n",
       "|| R. Anna-Thomas, et al. -- incl., <mark>F. Walter</mark> |\n",
       "|*Appeared on*| *2025-03-06*|\n",
       "|*Comments*| *Submitted to ApJ*|\n",
       "|**Abstract**|            Fast Radio Bursts (FRBs) are millisecond-duration radio transients that serve as unique probes of extragalactic matter. We report on the discovery and localization of two FRBs piercing the Andromeda Galaxy (M31) by the realfast fast transient detection system at the Very Large Array. Their unique sightlines allow constraints on M31's electron density distribution. We localized FRB 20230903A to its host galaxy at a redshift $z=0.09$ and FRB 20230506C to a host galaxy at a redshift $z=0.39$. After accounting for the dispersion contribution from the Milky Way, the host galaxy and the intergalactic medium along the line of sight of the FRBs, we estimate that M31 alone will likely contribute between 21-217 $\\mathrm{pc~cm^{-3}}$ along FRB 20230903A and between 43-338 $\\mathrm{pc~cm^{-3}}$ along FRB 20230506C with a 90% confidence. We also modeled the M31 disk's contribution to the DM to determine the halo contribution. We find that the halo of M31 will contribute between 9-145 $\\mathrm{pc~cm^{-3}}$ along FRB 20230903A and between 28-286 $\\mathrm{pc~cm^{-3}}$ along FRB 20230506C with 90% confidence. The measured values of $\\rm DM_{M31,halo}$ are consistent with the predictions from the modified Navarro-Frenk-White profile of M31's halo for a given impact parameter. The ions of the cool halo alone cannot account for the calculated $\\rm DM_{M31,halo}$ and therefore this measurement presents indirect evidence of the hot halo of M31. We also suggest a possible intersection of the line of sight of FRB 20230506C with a hot baryon bridge between M31 and the Milky Way         |\n",
       "|<p style=\"color:red\"> **ERROR** </p>| <p style=\"color:red\">latex error list index out of range</p> |"
      ],
      "text/plain": [
       "<IPython.core.display.Markdown object>"
      ]
     },
     "metadata": {},
     "output_type": "display_data"
    }
   ],
   "source": [
    "import datetime\n",
    "today = str(datetime.date.today())\n",
    "logfile = f\"_build/html/logs/log-{today}.md\"\n",
    "\n",
    "\n",
    "with open(logfile, 'w') as logs:\n",
    "    # Success\n",
    "    logs.write(f'# Arxiv on Deck 2: Logs - {today}\\n\\n')\n",
    "    logs.write(\"\"\"* Arxiv had {0:,d} new papers\\n\"\"\".format(len(new_papers)))\n",
    "    logs.write(\"\"\"    * {0:,d} with possible author matches\\n\\n\"\"\".format(len(candidates)))\n",
    "    logs.write(\"## Sucessful papers\\n\\n\")\n",
    "    display(Markdown(\"## Successful papers\"))\n",
    "    success = [k[0] for k in documents]\n",
    "    for candid in candidates:\n",
    "        if candid['identifier'].split(':')[-1] in success:\n",
    "            display(candid)\n",
    "            logs.write(candid.generate_markdown_text() + '\\n\\n')\n",
    "\n",
    "    ## failed\n",
    "    logs.write(\"## Failed papers\\n\\n\")\n",
    "    display(Markdown(\"## Failed papers\"))\n",
    "    failed = sorted(failed, key=lambda x: x[1])\n",
    "    current_reason = \"\"\n",
    "    for paper, reason in failed:\n",
    "        if 'affiliation' in reason:\n",
    "            color = 'green'\n",
    "        else:\n",
    "            color = 'red'\n",
    "        data = Markdown(\n",
    "                paper.generate_markdown_text() + \n",
    "                f'\\n|<p style=\"color:{color:s}\"> **ERROR** </p>| <p style=\"color:{color:s}\">{reason:s}</p> |'\n",
    "               )\n",
    "        if reason != current_reason:\n",
    "            logs.write(f'### {reason:s} \\n\\n')\n",
    "            current_reason = reason\n",
    "        logs.write(data.data + '\\n\\n')\n",
    "        \n",
    "        # only display here the important errors (all in logs)\n",
    "        # if color in ('red',):\n",
    "        display(data)"
   ]
  },
  {
   "cell_type": "markdown",
   "id": "472d20ee",
   "metadata": {
    "papermill": {
     "duration": 0.005322,
     "end_time": "2025-03-06T04:13:45.082985",
     "exception": false,
     "start_time": "2025-03-06T04:13:45.077663",
     "status": "completed"
    },
    "tags": []
   },
   "source": [
    "## Export documents\n",
    "\n",
    "We now write the .md files and export relevant images"
   ]
  },
  {
   "cell_type": "code",
   "execution_count": 7,
   "id": "d426aed9",
   "metadata": {
    "execution": {
     "iopub.execute_input": "2025-03-06T04:13:45.094651Z",
     "iopub.status.busy": "2025-03-06T04:13:45.094230Z",
     "iopub.status.idle": "2025-03-06T04:13:45.101111Z",
     "shell.execute_reply": "2025-03-06T04:13:45.100573Z"
    },
    "papermill": {
     "duration": 0.013848,
     "end_time": "2025-03-06T04:13:45.102104",
     "exception": false,
     "start_time": "2025-03-06T04:13:45.088256",
     "status": "completed"
    },
    "tags": []
   },
   "outputs": [],
   "source": [
    "def export_markdown_summary(md: str, md_fname:str, directory: str):\n",
    "    \"\"\"Export MD document and associated relevant images\"\"\"\n",
    "    import os\n",
    "    import shutil\n",
    "    import re\n",
    "\n",
    "    if (os.path.exists(directory) and not os.path.isdir(directory)):\n",
    "        raise RuntimeError(f\"a non-directory file exists with name {directory:s}\")\n",
    "\n",
    "    if (not os.path.exists(directory)):\n",
    "        print(f\"creating directory {directory:s}\")\n",
    "        os.mkdir(directory)\n",
    "\n",
    "    fig_fnames = (re.compile(r'\\[Fig.*\\]\\((.*)\\)').findall(md) + \n",
    "                  re.compile(r'\\<img src=\"([^>\\s]*)\"[^>]*/>').findall(md))\n",
    "    print(\"found figures\", fig_fnames)\n",
    "    for fname in fig_fnames:\n",
    "        if 'http' in fname:\n",
    "            # No need to copy online figures\n",
    "            continue\n",
    "        if not os.path.exists(fname):\n",
    "            print(\"file not found\", fname)\n",
    "            continue\n",
    "        print(\"copying \", fname, \"to\", directory)\n",
    "        destdir = os.path.join(directory, os.path.dirname(fname))\n",
    "        destfname = os.path.join(destdir, os.path.basename(fname))\n",
    "        try:\n",
    "            os.makedirs(destdir)\n",
    "        except FileExistsError:\n",
    "            pass\n",
    "        shutil.copy(fname, destfname)\n",
    "    with open(os.path.join(directory, md_fname), 'w') as fout:\n",
    "        fout.write(md)\n",
    "    print(\"exported in \", os.path.join(directory, md_fname))\n",
    "    [print(\"    + \" + os.path.join(directory,fk)) for fk in fig_fnames]"
   ]
  },
  {
   "cell_type": "code",
   "execution_count": 8,
   "id": "014d04a4",
   "metadata": {
    "execution": {
     "iopub.execute_input": "2025-03-06T04:13:45.113775Z",
     "iopub.status.busy": "2025-03-06T04:13:45.113560Z",
     "iopub.status.idle": "2025-03-06T04:13:45.125673Z",
     "shell.execute_reply": "2025-03-06T04:13:45.125012Z"
    },
    "papermill": {
     "duration": 0.019053,
     "end_time": "2025-03-06T04:13:45.126669",
     "exception": false,
     "start_time": "2025-03-06T04:13:45.107616",
     "status": "completed"
    },
    "tags": []
   },
   "outputs": [
    {
     "name": "stdout",
     "output_type": "stream",
     "text": [
      "found figures ['tmp_2503.03336/./1-Gallery_LkCa15.png', 'tmp_2503.03336/./1-Gallery_LkCa15.png', 'tmp_2503.03336/./Properties_Results.png']\n",
      "copying  tmp_2503.03336/./1-Gallery_LkCa15.png to _build/html/\n",
      "copying  tmp_2503.03336/./1-Gallery_LkCa15.png to _build/html/\n",
      "copying  tmp_2503.03336/./Properties_Results.png to _build/html/\n",
      "exported in  _build/html/2503.03336.md\n",
      "    + _build/html/tmp_2503.03336/./1-Gallery_LkCa15.png\n",
      "    + _build/html/tmp_2503.03336/./1-Gallery_LkCa15.png\n",
      "    + _build/html/tmp_2503.03336/./Properties_Results.png\n",
      "found figures ['tmp_2503.03483/./J1153-28_hiopt.png', 'tmp_2503.03483/./Channel_maps.png', 'tmp_2503.03483/./satellite_1.png', 'tmp_2503.03483/./satellite_2.png', 'tmp_2503.03483/./satellite_3.png', 'tmp_2503.03483/./satellite_4.png']\n",
      "copying  tmp_2503.03483/./J1153-28_hiopt.png to _build/html/\n",
      "copying  tmp_2503.03483/./Channel_maps.png to _build/html/\n",
      "copying  tmp_2503.03483/./satellite_1.png to _build/html/\n",
      "copying  tmp_2503.03483/./satellite_2.png to _build/html/\n",
      "copying  tmp_2503.03483/./satellite_3.png to _build/html/\n",
      "copying  tmp_2503.03483/./satellite_4.png to _build/html/\n",
      "exported in  _build/html/2503.03483.md\n",
      "    + _build/html/tmp_2503.03483/./J1153-28_hiopt.png\n",
      "    + _build/html/tmp_2503.03483/./Channel_maps.png\n",
      "    + _build/html/tmp_2503.03483/./satellite_1.png\n",
      "    + _build/html/tmp_2503.03483/./satellite_2.png\n",
      "    + _build/html/tmp_2503.03483/./satellite_3.png\n",
      "    + _build/html/tmp_2503.03483/./satellite_4.png\n"
     ]
    }
   ],
   "source": [
    "for paper_id, md in documents:\n",
    "    export_markdown_summary(md, f\"{paper_id:s}.md\", '_build/html/')"
   ]
  },
  {
   "cell_type": "markdown",
   "id": "f087a0a7",
   "metadata": {
    "papermill": {
     "duration": 0.005408,
     "end_time": "2025-03-06T04:13:45.137652",
     "exception": false,
     "start_time": "2025-03-06T04:13:45.132244",
     "status": "completed"
    },
    "tags": []
   },
   "source": [
    "## Display the papers\n",
    "\n",
    "Not necessary but allows for a quick check."
   ]
  },
  {
   "cell_type": "code",
   "execution_count": 9,
   "id": "fd25f625",
   "metadata": {
    "execution": {
     "iopub.execute_input": "2025-03-06T04:13:45.149744Z",
     "iopub.status.busy": "2025-03-06T04:13:45.149484Z",
     "iopub.status.idle": "2025-03-06T04:13:45.155635Z",
     "shell.execute_reply": "2025-03-06T04:13:45.154995Z"
    },
    "papermill": {
     "duration": 0.013446,
     "end_time": "2025-03-06T04:13:45.156733",
     "exception": false,
     "start_time": "2025-03-06T04:13:45.143287",
     "status": "completed"
    },
    "scrolled": false,
    "tags": []
   },
   "outputs": [
    {
     "data": {
      "text/markdown": [
       "<div class=\"macros\" style=\"visibility:hidden;\">\n",
       "$\\newcommand{\\ensuremath}{}$\n",
       "$\\newcommand{\\xspace}{}$\n",
       "$\\newcommand{\\object}[1]{\\texttt{#1}}$\n",
       "$\\newcommand{\\farcs}{{.}''}$\n",
       "$\\newcommand{\\farcm}{{.}'}$\n",
       "$\\newcommand{\\arcsec}{''}$\n",
       "$\\newcommand{\\arcmin}{'}$\n",
       "$\\newcommand{\\ion}[2]{#1#2}$\n",
       "$\\newcommand{\\textsc}[1]{\\textrm{#1}}$\n",
       "$\\newcommand{\\hl}[1]{\\textrm{#1}}$\n",
       "$\\newcommand{\\footnote}[1]{}$\n",
       "$\\newcommand{\\paola}[1]{{\\color{cyan} [PP: #1]}}$\n",
       "$\\newcommand{\\paola}[1]{{\\color{cyan} [PP: #1]}}$\n",
       "$\\newcommand{\\thebibliography}{\\DeclareRobustCommand{\\VAN}[3]{##3}\\VANthebibliography}$\n",
       "$\\newcommand{\\thebibliography}{\\DeclareRobustCommand{\\VAN}[3]{##3}\\VANthebibliography}$</div>\n",
       "\n",
       "\n",
       "\n",
       "<div id=\"title\">\n",
       "\n",
       "# High angular resolution evidence of dust traps from deep ALMA Band 3 observations of LkCa15\n",
       "\n",
       "</div>\n",
       "<div id=\"comments\">\n",
       "\n",
       "[![arXiv](https://img.shields.io/badge/arXiv-2503.03336-b31b1b.svg)](https://arxiv.org/abs/2503.03336)<mark>Appeared on: 2025-03-06</mark> - \n",
       "\n",
       "</div>\n",
       "<div id=\"authors\">\n",
       "\n",
       "A. Sierra, et al. -- incl., <mark>M. Benisty</mark>\n",
       "\n",
       "</div>\n",
       "<div id=\"abstract\">\n",
       "\n",
       "**Abstract:** Dust traps are the most promising mechanisms to explain the observed substructures in protoplanetary discs. In this work, we present high-angular resolution ( $\\sim$ 60 mas, 9.4 au) and high-sensitivity Atacama Large Millimetre/submillimetre Array (ALMA) observations at 3 mm of the transitional disc around LkCa15. The new data, combined with previous high-resolution observations at $\\lambda=0.87,1.3$ mm, make LkCa15 an ideal laboratory for testing the dust trapping mechanism.We found that the width of the three rings decreases linearly with frequency, and the spectral indices show local minima at the locations of the rings, consistent with dust trap models. Multi-wavelength modelling confirms that the dust surface density and maximum grain size peak at 69 and 101 au, and suggestive peak at 42 au. The estimated total dust mass is between 13-250 M $_{\\oplus}$ , depending on the chosen opacity.The inner disc shows bright and unresolved emission at 3 mm, exhibiting a spectral index of $\\alpha_{1.3-3 \\rm mm} = 0.3 \\pm 0.37$ , and $\\alpha_{\\rm 3mm-3cm}$ ranging from $-0.1$ to $0.0$ . These properties are consistent with free-free emission from an ionised jet or disc wind.Dust evolution models and radiative transfer calculations suggest that a viscosity coefficient of $\\alpha = 10^{-3}$ , a fragmentation velocity of 10 m s $^{-1}$ , and DSHARP opacities provide the best match to the observed properties.\n",
       "\n",
       "</div>\n",
       "\n",
       "<div id=\"div_fig1\">\n",
       "\n",
       "<img src=\"tmp_2503.03336/./1-Gallery_LkCa15.png\" alt=\"Fig7\" width=\"100%\"/>\n",
       "\n",
       "**Figure 7. -** Left: CLEAN image of the dust continuum data at ALMA Band 3. Middle: CLEAN image of the dust continuum data at ALMA Band 7 (Top) and Band 6 (Bottom). Right: Brightness temperature radial profile of the dust continuum data. The circular beam of 60 mas for all maps is shown in the bottom left corner of each panel. The vertical grey dashed lines indicate the positions of the three bright rings (B). The vertical coloured dashed lines indicate the position of a tentative faint ring. (*fig:CleanData*)\n",
       "\n",
       "</div>\n",
       "<div id=\"div_fig2\">\n",
       "\n",
       "<img src=\"tmp_2503.03336/./1-Gallery_LkCa15.png\" alt=\"Fig15\" width=\"100%\"/>\n",
       "\n",
       "**Figure 15. -** Left: CLEAN image of the dust continuum data at ALMA Band 3. Middle: CLEAN image of the dust continuum data at ALMA Band 7 (Top) and Band 6 (Bottom). Right: Brightness temperature radial profile of the dust continuum data. The circular beam of 60 mas for all maps is shown in the bottom left corner of each panel. The vertical grey dashed lines indicate the positions of the three bright rings (B). The vertical coloured dashed lines indicate the position of a tentative faint ring. (*fig:CleanData*)\n",
       "\n",
       "</div>\n",
       "<div id=\"div_fig3\">\n",
       "\n",
       "<img src=\"tmp_2503.03336/./Properties_Results.png\" alt=\"Fig11\" width=\"100%\"/>\n",
       "\n",
       "**Figure 11. -** Dust properties constraints from the multi-wavelength dust continuum observations of LkCa15 using the DSHARP opacities (Top panels) and Ricci's opacities (Bottom panels). The shaded regions show 1$\\sigma$ and 2$\\sigma$ uncertainties. The vertical dashed lines show the position of the ring locations at 42, 69, and 101 au. (*fig:DustProp*)\n",
       "\n",
       "</div><div id=\"qrcode\"><img src=https://api.qrserver.com/v1/create-qr-code/?size=100x100&data=\"https://arxiv.org/abs/2503.03336\"></div>"
      ],
      "text/plain": [
       "<IPython.core.display.Markdown object>"
      ]
     },
     "metadata": {},
     "output_type": "display_data"
    },
    {
     "data": {
      "text/markdown": [
       "<div class=\"macros\" style=\"visibility:hidden;\">\n",
       "$\\newcommand{\\ensuremath}{}$\n",
       "$\\newcommand{\\xspace}{}$\n",
       "$\\newcommand{\\object}[1]{\\texttt{#1}}$\n",
       "$\\newcommand{\\farcs}{{.}''}$\n",
       "$\\newcommand{\\farcm}{{.}'}$\n",
       "$\\newcommand{\\arcsec}{''}$\n",
       "$\\newcommand{\\arcmin}{'}$\n",
       "$\\newcommand{\\ion}[2]{#1#2}$\n",
       "$\\newcommand{\\textsc}[1]{\\textrm{#1}}$\n",
       "$\\newcommand{\\hl}[1]{\\textrm{#1}}$\n",
       "$\\newcommand{\\footnote}[1]{}$\n",
       "$\\newcommand{\\HI}{\\rm H{\\sc i }}$\n",
       "$\\newcommand{\\MB}{\\ensuremath{\\rm M_B}}$\n",
       "$\\newcommand{\\mb}{\\ensuremath{\\rm M_{bar}}}$\n",
       "$\\newcommand{\\mhi}{\\ensuremath{\\rm M_{HI}}}$\n",
       "$\\newcommand{\\mg}{\\ensuremath{\\rm M_{g}}}$\n",
       "$\\newcommand{\\ms}{\\ensuremath{\\rm M_{s}}}$\n",
       "$\\newcommand{\\msun}{\\ensuremath{\\rm M_{\\odot}}}$\n",
       "$\\newcommand{\\fatm}{\\ensuremath{\\rm f_{atm}}}$\n",
       "$\\newcommand{\\kms}{\\ensuremath{\\rm km   s^{-1}}}$\n",
       "$\\newcommand{\\vhel}{\\ensuremath{ V_{\\rm hel}}}$\n",
       "$\\newcommand{\\kpc}{\\ensuremath{\\rm kpc}}$\n",
       "$\\newcommand{\\Jykms}{\\ensuremath{ \\rm Jy   km   s^{-1} }}$\n",
       "$\\newcommand{\\mJybeam}{\\ensuremath{ \\rm mJy   beam^{-1} }}$\n",
       "$\\newcommand{\\LCDM}{\\ensuremath{\\Lambda{\\rm CDM}}}$\n",
       "$\\newcommand{\\fat}{{\\sc fat }}$\n",
       "$\\newcommand{\\thebibliography}{\\DeclareRobustCommand{\\VAN}[3]{##3}\\VANthebibliography}$</div>\n",
       "\n",
       "\n",
       "\n",
       "<div id=\"title\">\n",
       "\n",
       "# Uncovering Extraplanar Gas in UGCA 250 with the Ultra-deep MHONGOOSE Survey\n",
       "\n",
       "</div>\n",
       "<div id=\"comments\">\n",
       "\n",
       "[![arXiv](https://img.shields.io/badge/arXiv-2503.03483-b31b1b.svg)](https://arxiv.org/abs/2503.03483)<mark>Appeared on: 2025-03-06</mark> -  _16 pages, 14 figures, Accepted for publication in MNRAS_\n",
       "\n",
       "</div>\n",
       "<div id=\"authors\">\n",
       "\n",
       "S. Kurapati, et al. -- incl., <mark>E. Schinnerer</mark>, <mark>F. Walter</mark>\n",
       "\n",
       "</div>\n",
       "<div id=\"abstract\">\n",
       "\n",
       "**Abstract:** We use the neutral atomic hydrogen (H ${\\sc i}$ ) observations of the edge-on galaxy UGCA 250, taken as part of the MeerKAT $\\HI$ Observations of Nearby Galactic Objects - Observing Southern Emitters (MHONGOOSE) survey to investigate the amount, morphology, and kinematics of extraplanar gas. The combination of high column density sensitivity and high spatial resolution of the survey over a large field of view is ideal for studying the underlying physics governing the extraplanar gas. These data reveal 9 additional detections within the field of view along with UGCA 250, with 8 of them being within $\\sim$ 200 km s $^{-1}$ of the galaxy’s systemic velocity. The galaxy seems to have a tail-like feature extending away from it in the southern direction  up to $\\sim$ 41 kpc (in projection). We also detect a cloud at anomalous velocities, but we did not find any optical counterpart. We construct a detailed tilted ring model for this edge-on galaxy to gain a deeper understanding of the vertical structure of its neutral hydrogen. The model that best matches the data features a thick disc with a scale height of $\\sim$ 3 $\\pm$ 1 kpc and an $\\HI$ mass of about 15 $\\%$ of the total H ${\\sc i}$ mass. This extraplanar gas is detected for the first time in UGCA 250. Our analysis favours a mixed origin for the extraplanar gas in UGCA 250, likely arising from a combination of internal stellar feedback and external tidal interactions.\n",
       "\n",
       "</div>\n",
       "\n",
       "<div id=\"div_fig1\">\n",
       "\n",
       "<img src=\"tmp_2503.03483/./J1153-28_hiopt.png\" alt=\"Fig9\" width=\"100%\"/>\n",
       "\n",
       "**Figure 9. -** . The $\\HI$ integrated intensity contours are overlaid on the VST optical $g$-band image. (a) Moment 0 map of UGCA 250 and its 9 satellite galaxies. The contours are shown from data at various resolutions: 26.7$\\arcsec$$\\times$ 18.8$\\arcsec$({\\tt r10t00}) in purple with levels of 1.2$\\times$10$^{19}$ cm$^{-2} \\times 2^{n}$, n = 0,1,2,3 ..; 34.3$\\arcsec$$\\times$ 25.6$\\arcsec$({\\tt r15t00}) in cyan at 3.0$\\times$10$^{18}$ cm$^{-2}$; 65.3$\\arcsec$$\\times$ 63.8$\\arcsec$({\\tt r05t60}) in magenta at 1.0$\\times$10$^{18}$ cm$^{-2}$; and 93.8$\\arcsec$$\\times$ 91.7$\\arcsec$({\\tt r10t90}) in blue at 6.2$\\times$10$^{17}$ cm$^{-2}$. (b) Moment-0 map of the galaxy UGCA 250 with the same $\\HI$ contours, where the thick red contour corresponds to 1.0 $\\times$10$^{20}$ cm$^{-2}$. Note that the $\\HI$ column density values have not been corrected for the primary beam attenuation.  The ellipses in the bottom left corner represent the beams at each resolution. The zoomed-in moment 0 and moment 1 maps of individual satellite galaxies are shown in Figs \\ref{fig:sat1} and \\ref{fig:sat2} in the appendix. (c) The red, orange, and yellow show the $\\HI$ integrated intensity from three different resolution data cubes: 14.4$\\arcsec$$\\times$ 9.8$\\arcsec$, 26.7$\\arcsec$$\\times$ 18.8$\\arcsec$, and 65.3$\\arcsec$$\\times$ 63.8$\\arcsec$. These H{\\sc i} maps are overlaid on a composite optical RGB image of UGCA  250 in the background. The creation of this image followed the technique outlined in \\citet{English2017}. (*fig:mom0_overlay*)\n",
       "\n",
       "</div>\n",
       "<div id=\"div_fig2\">\n",
       "\n",
       "<img src=\"tmp_2503.03483/./Channel_maps.png\" alt=\"Fig2\" width=\"100%\"/>\n",
       "\n",
       "**Figure 2. -** Selected channel maps of UGCA 250 at the resolution of 34.3$\\arcsec$$\\times$ 25.6$\\arcsec$({\\tt r15t00}, $r =$ 1.5 and $t =$ 0). The heliocentric velocity in $\\kms$ is indicated on top-left of each panel. Contours begin at 3$\\sigma$ and increase by factors of 2. The presence of cloud and filament is evident in the channels at velocities ranging from 1587 to 1637 km s$^{-1}$ (*fig:channel_maps*)\n",
       "\n",
       "</div>\n",
       "<div id=\"div_fig3\">\n",
       "\n",
       "<img src=\"tmp_2503.03483/./satellite_1.png\" alt=\"Fig7.1\" width=\"25%\"/><img src=\"tmp_2503.03483/./satellite_2.png\" alt=\"Fig7.2\" width=\"25%\"/><img src=\"tmp_2503.03483/./satellite_3.png\" alt=\"Fig7.3\" width=\"25%\"/><img src=\"tmp_2503.03483/./satellite_4.png\" alt=\"Fig7.4\" width=\"25%\"/>\n",
       "\n",
       "**Figure 7. -** The $\\HI$ intensity map (moment 0) and velocity field (moment 1) of satellite galaxies. The H{\\sc i} contours are at levels of 1.2$\\times$10$^{19}$ cm$^{-2} \\times 2^{n}$, n = 0,1,2,3 .. (*fig:sat1*)\n",
       "\n",
       "</div><div id=\"qrcode\"><img src=https://api.qrserver.com/v1/create-qr-code/?size=100x100&data=\"https://arxiv.org/abs/2503.03483\"></div>"
      ],
      "text/plain": [
       "<IPython.core.display.Markdown object>"
      ]
     },
     "metadata": {},
     "output_type": "display_data"
    }
   ],
   "source": [
    "[display(Markdown(k[1])) for k in documents];"
   ]
  },
  {
   "cell_type": "markdown",
   "id": "873873a4",
   "metadata": {
    "papermill": {
     "duration": 0.005943,
     "end_time": "2025-03-06T04:13:45.168675",
     "exception": false,
     "start_time": "2025-03-06T04:13:45.162732",
     "status": "completed"
    },
    "tags": []
   },
   "source": [
    "# Create HTML index"
   ]
  },
  {
   "cell_type": "code",
   "execution_count": 10,
   "id": "cf665672",
   "metadata": {
    "execution": {
     "iopub.execute_input": "2025-03-06T04:13:45.181044Z",
     "iopub.status.busy": "2025-03-06T04:13:45.180772Z",
     "iopub.status.idle": "2025-03-06T04:13:45.190045Z",
     "shell.execute_reply": "2025-03-06T04:13:45.189445Z"
    },
    "papermill": {
     "duration": 0.01666,
     "end_time": "2025-03-06T04:13:45.191042",
     "exception": false,
     "start_time": "2025-03-06T04:13:45.174382",
     "status": "completed"
    },
    "tags": []
   },
   "outputs": [
    {
     "name": "stdout",
     "output_type": "stream",
     "text": [
      "351  publications files modified in the last 7 days.\n"
     ]
    }
   ],
   "source": [
    "from datetime import datetime, timedelta, timezone\n",
    "from glob import glob\n",
    "import os\n",
    "\n",
    "files = glob('_build/html/*.md')\n",
    "days = 7\n",
    "now = datetime.today()\n",
    "res = []\n",
    "for fk in files:\n",
    "    stat_result = os.stat(fk).st_ctime\n",
    "    modified = datetime.fromtimestamp(stat_result, tz=timezone.utc).replace(tzinfo=None)\n",
    "    delta = now.today() - modified\n",
    "    if delta <= timedelta(days=days):\n",
    "        res.append((delta.seconds, fk))\n",
    "res = [k[1] for k in reversed(sorted(res, key=lambda x:x[1]))]\n",
    "npub = len(res)\n",
    "print(len(res), f\" publications files modified in the last {days:d} days.\")\n",
    "# [ print('\\t', k) for k in res ];"
   ]
  },
  {
   "cell_type": "code",
   "execution_count": 11,
   "id": "015de740",
   "metadata": {
    "execution": {
     "iopub.execute_input": "2025-03-06T04:13:45.203886Z",
     "iopub.status.busy": "2025-03-06T04:13:45.203633Z",
     "iopub.status.idle": "2025-03-06T04:13:45.223002Z",
     "shell.execute_reply": "2025-03-06T04:13:45.222416Z"
    },
    "papermill": {
     "duration": 0.027026,
     "end_time": "2025-03-06T04:13:45.224080",
     "exception": false,
     "start_time": "2025-03-06T04:13:45.197054",
     "status": "completed"
    },
    "tags": []
   },
   "outputs": [
    {
     "name": "stdout",
     "output_type": "stream",
     "text": [
      "9  publications in the last 7 days.\n"
     ]
    }
   ],
   "source": [
    "import datetime\n",
    "from glob import glob\n",
    "\n",
    "def get_last_n_days(lst, days=1):\n",
    "    \"\"\" Get the documents from the last n days \"\"\"\n",
    "    sorted_lst = sorted(lst, key=lambda x: x[1], reverse=True)\n",
    "    for fname, date in sorted_lst:\n",
    "        if date >= str(datetime.date.today() - datetime.timedelta(days=days)):\n",
    "            yield fname\n",
    "\n",
    "def extract_appearance_dates(lst_file):\n",
    "    dates = []\n",
    "\n",
    "    def get_date(line):\n",
    "        return line\\\n",
    "            .split('Appeared on:')[-1]\\\n",
    "            .split('</mark>')[0].strip()\n",
    "\n",
    "    for fname in lst:\n",
    "        with open(fname, 'r') as f:\n",
    "            found_date = False\n",
    "            for line in f:\n",
    "                if not found_date:\n",
    "                    if \"Appeared on\" in line:\n",
    "                        found_date = True\n",
    "                        dates.append((fname, get_date(line)))\n",
    "                else:\n",
    "                    break\n",
    "    return dates\n",
    "\n",
    "from glob import glob\n",
    "lst = glob('_build/html/*md')\n",
    "days = 7\n",
    "dates = extract_appearance_dates(lst)\n",
    "res = list(get_last_n_days(dates, days))\n",
    "npub = len(res)\n",
    "print(len(res), f\" publications in the last {days:d} days.\")"
   ]
  },
  {
   "cell_type": "code",
   "execution_count": 12,
   "id": "52ca0208",
   "metadata": {
    "execution": {
     "iopub.execute_input": "2025-03-06T04:13:45.237721Z",
     "iopub.status.busy": "2025-03-06T04:13:45.237071Z",
     "iopub.status.idle": "2025-03-06T04:13:45.242318Z",
     "shell.execute_reply": "2025-03-06T04:13:45.241755Z"
    },
    "papermill": {
     "duration": 0.013117,
     "end_time": "2025-03-06T04:13:45.243297",
     "exception": false,
     "start_time": "2025-03-06T04:13:45.230180",
     "status": "completed"
    },
    "scrolled": false,
    "tags": []
   },
   "outputs": [],
   "source": [
    "def create_carousel(npub=4):\n",
    "    \"\"\" Generate the HTML code for a carousel with `npub` slides \"\"\"\n",
    "    carousel = [\"\"\"  <div class=\"carousel\" \"\"\",\n",
    "                \"\"\"       data-flickity='{ \"autoPlay\": 10000, \"adaptiveHeight\": true, \"resize\": true, \"wrapAround\": true, \"pauseAutoPlayOnHover\": true, \"groupCells\": 1 }' id=\"asyncTypeset\">\"\"\"\n",
    "                ]\n",
    "    \n",
    "    item_str = \"\"\"    <div class=\"carousel-cell\"> <div id=\"slide{k}\" class=\"md_view\">Content {k}</div> </div>\"\"\"\n",
    "    for k in range(1, npub + 1):\n",
    "        carousel.append(item_str.format(k=k))\n",
    "    carousel.append(\"  </div>\")\n",
    "    return '\\n'.join(carousel)\n",
    "\n",
    "def create_grid(npub=4):\n",
    "    \"\"\" Generate the HTML code for a flat grid with `npub` slides \"\"\"\n",
    "    grid = [\"\"\"  <div class=\"grid\"> \"\"\",\n",
    "                ]\n",
    "    \n",
    "    item_str = \"\"\"    <div class=\"grid-item\"> <div id=\"slide{k}\" class=\"md_view\">Content {k}</div> </div>\"\"\"\n",
    "    for k in range(1, npub + 1):\n",
    "        grid.append(item_str.format(k=k))\n",
    "    grid.append(\"  </div>\")\n",
    "    return '\\n'.join(grid)"
   ]
  },
  {
   "cell_type": "code",
   "execution_count": 13,
   "id": "a6eac5b6",
   "metadata": {
    "execution": {
     "iopub.execute_input": "2025-03-06T04:13:45.256843Z",
     "iopub.status.busy": "2025-03-06T04:13:45.256438Z",
     "iopub.status.idle": "2025-03-06T04:13:45.261484Z",
     "shell.execute_reply": "2025-03-06T04:13:45.260976Z"
    },
    "papermill": {
     "duration": 0.012841,
     "end_time": "2025-03-06T04:13:45.262478",
     "exception": false,
     "start_time": "2025-03-06T04:13:45.249637",
     "status": "completed"
    },
    "scrolled": false,
    "tags": []
   },
   "outputs": [],
   "source": [
    "carousel = create_carousel(npub)\n",
    "docs = ', '.join(['\"{0:s}\"'.format(k.split('/')[-1]) for k in res])\n",
    "slides = ', '.join([f'\"slide{k}\"' for k in range(1, npub + 1)])\n",
    "\n",
    "with open(\"daily_template.html\", \"r\") as tpl:\n",
    "    page = tpl.read()\n",
    "    page = page.replace(\"{%-- carousel:s --%}\", carousel)\\\n",
    "               .replace(\"{%-- suptitle:s --%}\",  \"7-day archives\" )\\\n",
    "               .replace(\"{%-- docs:s --%}\", docs)\\\n",
    "               .replace(\"{%-- slides:s --%}\", slides)\n",
    "    \n",
    "with open(\"_build/html/index_7days.html\", 'w') as fout:\n",
    "    fout.write(page)"
   ]
  },
  {
   "cell_type": "code",
   "execution_count": 14,
   "id": "adc1a1ec",
   "metadata": {
    "execution": {
     "iopub.execute_input": "2025-03-06T04:13:45.275775Z",
     "iopub.status.busy": "2025-03-06T04:13:45.275362Z",
     "iopub.status.idle": "2025-03-06T04:13:45.282112Z",
     "shell.execute_reply": "2025-03-06T04:13:45.281553Z"
    },
    "papermill": {
     "duration": 0.014438,
     "end_time": "2025-03-06T04:13:45.283110",
     "exception": false,
     "start_time": "2025-03-06T04:13:45.268672",
     "status": "completed"
    },
    "tags": []
   },
   "outputs": [
    {
     "name": "stdout",
     "output_type": "stream",
     "text": [
      "7  publications in the last day.\n"
     ]
    }
   ],
   "source": [
    "# redo for today\n",
    "days = 1\n",
    "res = list(get_last_n_days(dates, days))\n",
    "npub = len(res)\n",
    "print(len(res), f\" publications in the last day.\")\n",
    "\n",
    "carousel = create_carousel(npub)\n",
    "docs = ', '.join(['\"{0:s}\"'.format(k.split('/')[-1]) for k in res])\n",
    "slides = ', '.join([f'\"slide{k}\"' for k in range(1, npub + 1)])\n",
    "\n",
    "with open(\"daily_template.html\", \"r\") as tpl:\n",
    "    page = tpl.read()\n",
    "    page = page.replace(\"{%-- carousel:s --%}\", carousel)\\\n",
    "               .replace(\"{%-- suptitle:s --%}\",  \"Daily\" )\\\n",
    "               .replace(\"{%-- docs:s --%}\", docs)\\\n",
    "               .replace(\"{%-- slides:s --%}\", slides)\n",
    "    \n",
    "# print(carousel, docs, slides)\n",
    "# print(page)\n",
    "with open(\"_build/html/index_daily.html\", 'w') as fout:\n",
    "    fout.write(page)"
   ]
  },
  {
   "cell_type": "code",
   "execution_count": 15,
   "id": "00eece82",
   "metadata": {
    "execution": {
     "iopub.execute_input": "2025-03-06T04:13:45.296443Z",
     "iopub.status.busy": "2025-03-06T04:13:45.295985Z",
     "iopub.status.idle": "2025-03-06T04:13:45.302529Z",
     "shell.execute_reply": "2025-03-06T04:13:45.302026Z"
    },
    "papermill": {
     "duration": 0.014279,
     "end_time": "2025-03-06T04:13:45.303508",
     "exception": false,
     "start_time": "2025-03-06T04:13:45.289229",
     "status": "completed"
    },
    "scrolled": false,
    "tags": []
   },
   "outputs": [
    {
     "name": "stdout",
     "output_type": "stream",
     "text": [
      "6  6 publications selected.\n"
     ]
    }
   ],
   "source": [
    "# Create the flat grid of the last N papers (fixed number regardless of dates)\n",
    "from itertools import islice \n",
    "\n",
    "npub = 6\n",
    "res = [k[0] for k in (islice(reversed(sorted(dates, key=lambda x: x[1])), 6))]\n",
    "print(len(res), f\" {npub} publications selected.\")\n",
    "\n",
    "grid = create_grid(npub)\n",
    "docs = ', '.join(['\"{0:s}\"'.format(k.split('/')[-1]) for k in res])\n",
    "slides = ', '.join([f'\"slide{k}\"' for k in range(1, npub + 1)])\n",
    "\n",
    "with open(\"grid_template.html\", \"r\") as tpl:\n",
    "    page = tpl.read()\n",
    "    page = page.replace(\"{%-- grid-content:s --%}\", grid)\\\n",
    "               .replace(\"{%-- suptitle:s --%}\",  f\"Last {npub:,d} papers\" )\\\n",
    "               .replace(\"{%-- docs:s --%}\", docs)\\\n",
    "               .replace(\"{%-- slides:s --%}\", slides)\n",
    "    \n",
    "# print(grid, docs, slides)\n",
    "# print(page)\n",
    "with open(\"_build/html/index_npub_grid.html\", 'w') as fout:\n",
    "    fout.write(page)"
   ]
  }
 ],
 "metadata": {
  "kernelspec": {
   "display_name": "Python 3 (ipykernel)",
   "language": "python",
   "name": "python3"
  },
  "language_info": {
   "codemirror_mode": {
    "name": "ipython",
    "version": 3
   },
   "file_extension": ".py",
   "mimetype": "text/x-python",
   "name": "python",
   "nbconvert_exporter": "python",
   "pygments_lexer": "ipython3",
   "version": "3.9.21"
  },
  "papermill": {
   "default_parameters": {},
   "duration": 151.212981,
   "end_time": "2025-03-06T04:13:45.525963",
   "environment_variables": {},
   "exception": null,
   "input_path": "MPIA daily digest.ipynb",
   "output_path": "log.ipynb",
   "parameters": {},
   "start_time": "2025-03-06T04:11:14.312982",
   "version": "2.6.0"
  },
  "vscode": {
   "interpreter": {
    "hash": "aee8b7b246df8f9039afb4144a1f6fd8d2ca17a180786b69acc140d282b71a49"
   }
  },
  "widgets": {
   "application/vnd.jupyter.widget-state+json": {
    "state": {
     "291cbb7fc37d408f92616ac5efd343a3": {
      "model_module": "@jupyter-widgets/base",
      "model_module_version": "2.0.0",
      "model_name": "LayoutModel",
      "state": {
       "_model_module": "@jupyter-widgets/base",
       "_model_module_version": "2.0.0",
       "_model_name": "LayoutModel",
       "_view_count": null,
       "_view_module": "@jupyter-widgets/base",
       "_view_module_version": "2.0.0",
       "_view_name": "LayoutView",
       "align_content": null,
       "align_items": null,
       "align_self": null,
       "border_bottom": null,
       "border_left": null,
       "border_right": null,
       "border_top": null,
       "bottom": null,
       "display": null,
       "flex": null,
       "flex_flow": null,
       "grid_area": null,
       "grid_auto_columns": null,
       "grid_auto_flow": null,
       "grid_auto_rows": null,
       "grid_column": null,
       "grid_gap": null,
       "grid_row": null,
       "grid_template_areas": null,
       "grid_template_columns": null,
       "grid_template_rows": null,
       "height": null,
       "justify_content": null,
       "justify_items": null,
       "left": null,
       "margin": null,
       "max_height": null,
       "max_width": null,
       "min_height": null,
       "min_width": null,
       "object_fit": null,
       "object_position": null,
       "order": null,
       "overflow": null,
       "padding": null,
       "right": null,
       "top": null,
       "visibility": null,
       "width": null
      }
     },
     "5b6e630f47d341e3963abddd5ed623fd": {
      "model_module": "@jupyter-widgets/base",
      "model_module_version": "2.0.0",
      "model_name": "LayoutModel",
      "state": {
       "_model_module": "@jupyter-widgets/base",
       "_model_module_version": "2.0.0",
       "_model_name": "LayoutModel",
       "_view_count": null,
       "_view_module": "@jupyter-widgets/base",
       "_view_module_version": "2.0.0",
       "_view_name": "LayoutView",
       "align_content": null,
       "align_items": null,
       "align_self": null,
       "border_bottom": null,
       "border_left": null,
       "border_right": null,
       "border_top": null,
       "bottom": null,
       "display": null,
       "flex": null,
       "flex_flow": null,
       "grid_area": null,
       "grid_auto_columns": null,
       "grid_auto_flow": null,
       "grid_auto_rows": null,
       "grid_column": null,
       "grid_gap": null,
       "grid_row": null,
       "grid_template_areas": null,
       "grid_template_columns": null,
       "grid_template_rows": null,
       "height": null,
       "justify_content": null,
       "justify_items": null,
       "left": null,
       "margin": null,
       "max_height": null,
       "max_width": null,
       "min_height": null,
       "min_width": null,
       "object_fit": null,
       "object_position": null,
       "order": null,
       "overflow": null,
       "padding": null,
       "right": null,
       "top": null,
       "visibility": null,
       "width": null
      }
     },
     "83a6676c6b404e70a69267c43bcd3b4e": {
      "model_module": "@jupyter-widgets/controls",
      "model_module_version": "2.0.0",
      "model_name": "HTMLModel",
      "state": {
       "_dom_classes": [],
       "_model_module": "@jupyter-widgets/controls",
       "_model_module_version": "2.0.0",
       "_model_name": "HTMLModel",
       "_view_count": null,
       "_view_module": "@jupyter-widgets/controls",
       "_view_module_version": "2.0.0",
       "_view_name": "HTMLView",
       "description": "",
       "description_allow_html": false,
       "layout": "IPY_MODEL_be7817c9ab87400c9ca010b857ba3bc2",
       "placeholder": "​",
       "style": "IPY_MODEL_bcc195a8a7ad4bdf97bd8446ce0ce831",
       "tabbable": null,
       "tooltip": null,
       "value": "100%"
      }
     },
     "9f29952bb52944538acdba8a0d77ea35": {
      "model_module": "@jupyter-widgets/controls",
      "model_module_version": "2.0.0",
      "model_name": "HTMLModel",
      "state": {
       "_dom_classes": [],
       "_model_module": "@jupyter-widgets/controls",
       "_model_module_version": "2.0.0",
       "_model_name": "HTMLModel",
       "_view_count": null,
       "_view_module": "@jupyter-widgets/controls",
       "_view_module_version": "2.0.0",
       "_view_name": "HTMLView",
       "description": "",
       "description_allow_html": false,
       "layout": "IPY_MODEL_291cbb7fc37d408f92616ac5efd343a3",
       "placeholder": "​",
       "style": "IPY_MODEL_cadfdcd52d214170a3291e3be9a149a2",
       "tabbable": null,
       "tooltip": null,
       "value": " 9/9 [02:05&lt;00:00, 14.58s/it]"
      }
     },
     "bcc195a8a7ad4bdf97bd8446ce0ce831": {
      "model_module": "@jupyter-widgets/controls",
      "model_module_version": "2.0.0",
      "model_name": "HTMLStyleModel",
      "state": {
       "_model_module": "@jupyter-widgets/controls",
       "_model_module_version": "2.0.0",
       "_model_name": "HTMLStyleModel",
       "_view_count": null,
       "_view_module": "@jupyter-widgets/base",
       "_view_module_version": "2.0.0",
       "_view_name": "StyleView",
       "background": null,
       "description_width": "",
       "font_size": null,
       "text_color": null
      }
     },
     "be7817c9ab87400c9ca010b857ba3bc2": {
      "model_module": "@jupyter-widgets/base",
      "model_module_version": "2.0.0",
      "model_name": "LayoutModel",
      "state": {
       "_model_module": "@jupyter-widgets/base",
       "_model_module_version": "2.0.0",
       "_model_name": "LayoutModel",
       "_view_count": null,
       "_view_module": "@jupyter-widgets/base",
       "_view_module_version": "2.0.0",
       "_view_name": "LayoutView",
       "align_content": null,
       "align_items": null,
       "align_self": null,
       "border_bottom": null,
       "border_left": null,
       "border_right": null,
       "border_top": null,
       "bottom": null,
       "display": null,
       "flex": null,
       "flex_flow": null,
       "grid_area": null,
       "grid_auto_columns": null,
       "grid_auto_flow": null,
       "grid_auto_rows": null,
       "grid_column": null,
       "grid_gap": null,
       "grid_row": null,
       "grid_template_areas": null,
       "grid_template_columns": null,
       "grid_template_rows": null,
       "height": null,
       "justify_content": null,
       "justify_items": null,
       "left": null,
       "margin": null,
       "max_height": null,
       "max_width": null,
       "min_height": null,
       "min_width": null,
       "object_fit": null,
       "object_position": null,
       "order": null,
       "overflow": null,
       "padding": null,
       "right": null,
       "top": null,
       "visibility": null,
       "width": null
      }
     },
     "cadfdcd52d214170a3291e3be9a149a2": {
      "model_module": "@jupyter-widgets/controls",
      "model_module_version": "2.0.0",
      "model_name": "HTMLStyleModel",
      "state": {
       "_model_module": "@jupyter-widgets/controls",
       "_model_module_version": "2.0.0",
       "_model_name": "HTMLStyleModel",
       "_view_count": null,
       "_view_module": "@jupyter-widgets/base",
       "_view_module_version": "2.0.0",
       "_view_name": "StyleView",
       "background": null,
       "description_width": "",
       "font_size": null,
       "text_color": null
      }
     },
     "d65025f054a940cab4b4dcb577a762d1": {
      "model_module": "@jupyter-widgets/controls",
      "model_module_version": "2.0.0",
      "model_name": "ProgressStyleModel",
      "state": {
       "_model_module": "@jupyter-widgets/controls",
       "_model_module_version": "2.0.0",
       "_model_name": "ProgressStyleModel",
       "_view_count": null,
       "_view_module": "@jupyter-widgets/base",
       "_view_module_version": "2.0.0",
       "_view_name": "StyleView",
       "bar_color": null,
       "description_width": ""
      }
     },
     "d7f55f1873854109ae5e3ae07f63b579": {
      "model_module": "@jupyter-widgets/controls",
      "model_module_version": "2.0.0",
      "model_name": "HBoxModel",
      "state": {
       "_dom_classes": [],
       "_model_module": "@jupyter-widgets/controls",
       "_model_module_version": "2.0.0",
       "_model_name": "HBoxModel",
       "_view_count": null,
       "_view_module": "@jupyter-widgets/controls",
       "_view_module_version": "2.0.0",
       "_view_name": "HBoxView",
       "box_style": "",
       "children": [
        "IPY_MODEL_83a6676c6b404e70a69267c43bcd3b4e",
        "IPY_MODEL_e0209e94545d463d9f094310fac570f4",
        "IPY_MODEL_9f29952bb52944538acdba8a0d77ea35"
       ],
       "layout": "IPY_MODEL_5b6e630f47d341e3963abddd5ed623fd",
       "tabbable": null,
       "tooltip": null
      }
     },
     "e0209e94545d463d9f094310fac570f4": {
      "model_module": "@jupyter-widgets/controls",
      "model_module_version": "2.0.0",
      "model_name": "FloatProgressModel",
      "state": {
       "_dom_classes": [],
       "_model_module": "@jupyter-widgets/controls",
       "_model_module_version": "2.0.0",
       "_model_name": "FloatProgressModel",
       "_view_count": null,
       "_view_module": "@jupyter-widgets/controls",
       "_view_module_version": "2.0.0",
       "_view_name": "ProgressView",
       "bar_style": "success",
       "description": "",
       "description_allow_html": false,
       "layout": "IPY_MODEL_febc503df70a41079272668069cd3735",
       "max": 9.0,
       "min": 0.0,
       "orientation": "horizontal",
       "style": "IPY_MODEL_d65025f054a940cab4b4dcb577a762d1",
       "tabbable": null,
       "tooltip": null,
       "value": 9.0
      }
     },
     "febc503df70a41079272668069cd3735": {
      "model_module": "@jupyter-widgets/base",
      "model_module_version": "2.0.0",
      "model_name": "LayoutModel",
      "state": {
       "_model_module": "@jupyter-widgets/base",
       "_model_module_version": "2.0.0",
       "_model_name": "LayoutModel",
       "_view_count": null,
       "_view_module": "@jupyter-widgets/base",
       "_view_module_version": "2.0.0",
       "_view_name": "LayoutView",
       "align_content": null,
       "align_items": null,
       "align_self": null,
       "border_bottom": null,
       "border_left": null,
       "border_right": null,
       "border_top": null,
       "bottom": null,
       "display": null,
       "flex": null,
       "flex_flow": null,
       "grid_area": null,
       "grid_auto_columns": null,
       "grid_auto_flow": null,
       "grid_auto_rows": null,
       "grid_column": null,
       "grid_gap": null,
       "grid_row": null,
       "grid_template_areas": null,
       "grid_template_columns": null,
       "grid_template_rows": null,
       "height": null,
       "justify_content": null,
       "justify_items": null,
       "left": null,
       "margin": null,
       "max_height": null,
       "max_width": null,
       "min_height": null,
       "min_width": null,
       "object_fit": null,
       "object_position": null,
       "order": null,
       "overflow": null,
       "padding": null,
       "right": null,
       "top": null,
       "visibility": null,
       "width": null
      }
     }
    },
    "version_major": 2,
    "version_minor": 0
   }
  }
 },
 "nbformat": 4,
 "nbformat_minor": 5
}