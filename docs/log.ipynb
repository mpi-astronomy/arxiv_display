{
 "cells": [
  {
   "cell_type": "markdown",
   "id": "92bcb855",
   "metadata": {
    "papermill": {
     "duration": 0.003848,
     "end_time": "2024-12-20T04:10:54.503102",
     "exception": false,
     "start_time": "2024-12-20T04:10:54.499254",
     "status": "completed"
    },
    "tags": []
   },
   "source": [
    "# MPIA Arxiv on Deck 2\n",
    "\n",
    "Contains the steps to produce the paper extractions."
   ]
  },
  {
   "cell_type": "code",
   "execution_count": 1,
   "id": "3a0d6e11",
   "metadata": {
    "execution": {
     "iopub.execute_input": "2024-12-20T04:10:54.510621Z",
     "iopub.status.busy": "2024-12-20T04:10:54.510167Z",
     "iopub.status.idle": "2024-12-20T04:10:54.851571Z",
     "shell.execute_reply": "2024-12-20T04:10:54.850865Z"
    },
    "papermill": {
     "duration": 0.346542,
     "end_time": "2024-12-20T04:10:54.852934",
     "exception": false,
     "start_time": "2024-12-20T04:10:54.506392",
     "status": "completed"
    },
    "tags": []
   },
   "outputs": [],
   "source": [
    "# Imports\n",
    "import os\n",
    "from IPython.display import Markdown, display\n",
    "from tqdm.notebook import tqdm\n",
    "import warnings\n",
    "from PIL import Image \n",
    "import re\n",
    "\n",
    "# requires arxiv_on_deck_2\n",
    "\n",
    "from arxiv_on_deck_2.arxiv2 import (get_new_papers, \n",
    "                                    get_paper_from_identifier,\n",
    "                                    retrieve_document_source, \n",
    "                                    get_markdown_badge)\n",
    "from arxiv_on_deck_2 import (latex,\n",
    "                             latex_bib,\n",
    "                             mpia,\n",
    "                             highlight_authors_in_list)\n",
    "\n",
    "# Sometimes images are really big\n",
    "Image.MAX_IMAGE_PIXELS = 1000000000 "
   ]
  },
  {
   "cell_type": "code",
   "execution_count": 2,
   "id": "22aa9d44",
   "metadata": {
    "execution": {
     "iopub.execute_input": "2024-12-20T04:10:54.860926Z",
     "iopub.status.busy": "2024-12-20T04:10:54.860296Z",
     "iopub.status.idle": "2024-12-20T04:10:54.871841Z",
     "shell.execute_reply": "2024-12-20T04:10:54.871170Z"
    },
    "papermill": {
     "duration": 0.016723,
     "end_time": "2024-12-20T04:10:54.873010",
     "exception": false,
     "start_time": "2024-12-20T04:10:54.856287",
     "status": "completed"
    },
    "tags": []
   },
   "outputs": [],
   "source": [
    "# Some useful definitions.\n",
    "\n",
    "class AffiliationWarning(UserWarning):\n",
    "    pass\n",
    "\n",
    "class AffiliationError(RuntimeError):\n",
    "    pass\n",
    "\n",
    "def validation(source: str):\n",
    "    \"\"\"Raises error paper during parsing of source file\n",
    "    \n",
    "    Allows checks before parsing TeX code.\n",
    "    \n",
    "    Raises AffiliationWarning\n",
    "    \"\"\"\n",
    "    check = mpia.affiliation_verifications(source, verbose=True)\n",
    "    if check is not True:\n",
    "        raise AffiliationError(\"mpia.affiliation_verifications: \" + check)\n",
    "\n",
    "        \n",
    "warnings.simplefilter('always', AffiliationWarning)\n",
    "\n",
    "\n",
    "def get_markdown_qrcode(paper_id: str):\n",
    "    \"\"\" Generate a qrcode to the arxiv page using qrserver.com\n",
    "    \n",
    "    :param paper: Arxiv paper\n",
    "    :returns: markdown text\n",
    "    \"\"\"\n",
    "    url = r\"https://api.qrserver.com/v1/create-qr-code/?size=100x100&data=\"\n",
    "    txt = f\"\"\"<img src={url}\"https://arxiv.org/abs/{paper_id}\">\"\"\"\n",
    "    txt = '<div id=\"qrcode\">' + txt + '</div>'\n",
    "    return txt\n",
    "\n",
    "\n",
    "def clean_non_western_encoded_characters_commands(text: str) -> str:\n",
    "    \"\"\" Remove non-western encoded characters from a string\n",
    "    List may need to grow.\n",
    "    \n",
    "    :param text: the text to clean\n",
    "    :return: the cleaned text\n",
    "    \"\"\"\n",
    "    text = re.sub(r\"(\\\\begin{CJK}{UTF8}{gbsn})(.*?)(\\\\end{CJK})\", r\"\\2\", text)\n",
    "    return text\n",
    "\n",
    "\n",
    "def get_initials(name: str) -> str:\n",
    "    \"\"\" Get the short name, e.g., A.-B. FamName\n",
    "    :param name: full name\n",
    "    :returns: initials\n",
    "    \"\"\"\n",
    "    initials = []\n",
    "    # account for non western names often in ()\n",
    "    if '(' in name:\n",
    "        name = clean_non_western_encoded_characters_commands(name)\n",
    "        suffix = re.findall(r\"\\((.*?)\\)\", name)[0]\n",
    "        name = name.replace(f\"({suffix})\", '')\n",
    "    else:\n",
    "        suffix = ''\n",
    "    split = name.split()\n",
    "    for token in split[:-1]:\n",
    "        if '-' in token:\n",
    "            current = '-'.join([k[0] + '.' for k in token.split('-')])\n",
    "        else:\n",
    "            current = token[0] + '.'\n",
    "        initials.append(current)\n",
    "    initials.append(split[-1].strip())\n",
    "    if suffix:\n",
    "        initials.append(f\"({suffix})\")\n",
    "    return ' '.join(initials)"
   ]
  },
  {
   "cell_type": "markdown",
   "id": "14bd6310",
   "metadata": {
    "papermill": {
     "duration": 0.002952,
     "end_time": "2024-12-20T04:10:54.879032",
     "exception": false,
     "start_time": "2024-12-20T04:10:54.876080",
     "status": "completed"
    },
    "tags": []
   },
   "source": [
    "## get list of arxiv paper candidates\n",
    "\n",
    "We use the MPIA mitarbeiter list webpage from mpia.de to get author names\n",
    "We then get all new papers from Arxiv and match authors"
   ]
  },
  {
   "cell_type": "code",
   "execution_count": 3,
   "id": "7ea813a8",
   "metadata": {
    "execution": {
     "iopub.execute_input": "2024-12-20T04:10:54.886012Z",
     "iopub.status.busy": "2024-12-20T04:10:54.885509Z",
     "iopub.status.idle": "2024-12-20T04:11:12.891085Z",
     "shell.execute_reply": "2024-12-20T04:11:12.890422Z"
    },
    "papermill": {
     "duration": 18.010301,
     "end_time": "2024-12-20T04:11:12.892252",
     "exception": false,
     "start_time": "2024-12-20T04:10:54.881951",
     "status": "completed"
    },
    "tags": []
   },
   "outputs": [],
   "source": [
    "# deal with the author list and edge cases of people that cannot be consistent on their name  \n",
    "\n",
    "def filter_non_scientists(name: str) -> bool:\n",
    "    \"\"\" Loose filter on expected authorships\n",
    "\n",
    "    removing IT, administration, technical staff\n",
    "    :param name: name\n",
    "    :returns: False if name is not a scientist\n",
    "    \"\"\"\n",
    "    remove_list = ['Licht', 'Binroth', 'Witzel', 'Jordan',\n",
    "                   'Zähringer', 'Scheerer', 'Hoffmann', 'Düe',\n",
    "                   'Hellmich', 'Enkler-Scharpegge', 'Witte-Nguy',\n",
    "                   'Dehen', 'Beckmann', 'Jager', 'Jäger'\n",
    "                  ]\n",
    "\n",
    "    for k in remove_list:\n",
    "        if k in name:\n",
    "            return False\n",
    "    return True\n",
    "\n",
    "def add_author_to_list(author_list: list) -> list:\n",
    "    \"\"\" Add author to list if not already in list\n",
    "    \n",
    "    :param author: author name\n",
    "    :param author_list: list of authors\n",
    "    :returns: updated list of authors\n",
    "    \"\"\"\n",
    "    add_list = ['T. Henning']\n",
    "\n",
    "    for author in add_list:\n",
    "        if author not in author_list:\n",
    "            author_list.append(author)\n",
    "    return author_list\n",
    "\n",
    "# get list from MPIA website\n",
    "# filter for non-scientists (mpia.get_mpia_mitarbeiter_list() does some filtering)\n",
    "mpia_authors = [k[1] for k in mpia.get_mpia_mitarbeiter_list() if filter_non_scientists(k[1])]\n",
    "# add some missing author because of inconsistencies in their MPIA name and author name on papers\n",
    "mpia_authors = add_author_to_list(mpia_authors)"
   ]
  },
  {
   "cell_type": "code",
   "execution_count": 4,
   "id": "2645e73a",
   "metadata": {
    "execution": {
     "iopub.execute_input": "2024-12-20T04:11:12.899749Z",
     "iopub.status.busy": "2024-12-20T04:11:12.899319Z",
     "iopub.status.idle": "2024-12-20T04:11:13.691674Z",
     "shell.execute_reply": "2024-12-20T04:11:13.691061Z"
    },
    "papermill": {
     "duration": 0.797152,
     "end_time": "2024-12-20T04:11:13.692741",
     "exception": false,
     "start_time": "2024-12-20T04:11:12.895589",
     "status": "completed"
    },
    "tags": []
   },
   "outputs": [
    {
     "name": "stdout",
     "output_type": "stream",
     "text": [
      "J. Li  ->  J. Li  |  ['J. Li']\n",
      "M. Benisty  ->  M. Benisty  |  ['M. Benisty']\n",
      "J. Li  ->  J. Li  |  ['J. Li']\n",
      "F. Walter  ->  F. Walter  |  ['F. Walter']\n",
      "T. Henning  ->  T. Henning  |  ['T. Henning']\n"
     ]
    },
    {
     "name": "stdout",
     "output_type": "stream",
     "text": [
      "K. El-Badry  ->  K. El-Badry  |  ['K. El-Badry']\n",
      "Arxiv has 72 new papers today\n",
      "          5 with possible author matches\n"
     ]
    }
   ],
   "source": [
    "new_papers = get_new_papers()\n",
    "# add manual references\n",
    "add_paper_refs = []\n",
    "new_papers.extend([get_paper_from_identifier(k) for k in add_paper_refs])\n",
    "\n",
    "def robust_call(fn, value, *args, **kwargs):\n",
    "    try:\n",
    "        return fn(value, *args, **kwargs)\n",
    "    except Exception:\n",
    "        return value\n",
    "\n",
    "candidates = []\n",
    "for paperk in new_papers:\n",
    "    # Check author list with their initials\n",
    "    normed_author_list = [robust_call(mpia.get_initials, k) for k in paperk['authors']]\n",
    "    hl_authors = highlight_authors_in_list(normed_author_list, mpia_authors, verbose=True)\n",
    "    matches = [(hl, orig) for hl, orig in zip(hl_authors, paperk['authors']) if 'mark' in hl]\n",
    "    paperk['authors'] = hl_authors\n",
    "    if matches:\n",
    "        # only select paper if an author matched our list\n",
    "        candidates.append(paperk)\n",
    "print(\"\"\"Arxiv has {0:,d} new papers today\"\"\".format(len(new_papers)))        \n",
    "print(\"\"\"          {0:,d} with possible author matches\"\"\".format(len(candidates)))"
   ]
  },
  {
   "cell_type": "markdown",
   "id": "3543b34a",
   "metadata": {
    "papermill": {
     "duration": 0.00315,
     "end_time": "2024-12-20T04:11:13.699399",
     "exception": false,
     "start_time": "2024-12-20T04:11:13.696249",
     "status": "completed"
    },
    "tags": []
   },
   "source": [
    "# Parse sources and generate relevant outputs\n",
    "\n",
    "From the candidates, we do the following steps:\n",
    "* get their tarball from ArXiv (and extract data)\n",
    "* find the main .tex file: find one with \\documentclass{...} (sometimes it's non trivial)\n",
    "* Check affiliations with :func:`validation`, which uses :func:`mpia.affiliation_verifications`\n",
    "* If passing the affiliations: we parse the .tex source\n",
    "   * inject sub-documents into the main (flatten the main document)\n",
    "   * parse structure, extract information (title, abstract, authors, figures...)\n",
    "   * handles `\\graphicspath` if provided\n",
    "* Generate the .md document."
   ]
  },
  {
   "cell_type": "code",
   "execution_count": 5,
   "id": "9576b79e",
   "metadata": {
    "execution": {
     "iopub.execute_input": "2024-12-20T04:11:13.706899Z",
     "iopub.status.busy": "2024-12-20T04:11:13.706361Z",
     "iopub.status.idle": "2024-12-20T04:12:18.209475Z",
     "shell.execute_reply": "2024-12-20T04:12:18.208747Z"
    },
    "papermill": {
     "duration": 64.507902,
     "end_time": "2024-12-20T04:12:18.210442",
     "exception": false,
     "start_time": "2024-12-20T04:11:13.702540",
     "status": "completed"
    },
    "scrolled": false,
    "tags": []
   },
   "outputs": [
    {
     "data": {
      "application/vnd.jupyter.widget-view+json": {
       "model_id": "1aa5897855f641cfb681ec469bcb2323",
       "version_major": 2,
       "version_minor": 0
      },
      "text/plain": [
       "  0%|          | 0/5 [00:00<?, ?it/s]"
      ]
     },
     "metadata": {},
     "output_type": "display_data"
    },
    {
     "name": "stdout",
     "output_type": "stream",
     "text": [
      "Retrieving document from  https://arxiv.org/e-print/2412.14246\n"
     ]
    },
    {
     "name": "stdout",
     "output_type": "stream",
     "text": [
      "extracting tarball to tmp_2412.14246..."
     ]
    },
    {
     "name": "stdout",
     "output_type": "stream",
     "text": [
      " done.\n",
      "Retrieving document from  https://arxiv.org/e-print/2412.14402\n"
     ]
    },
    {
     "name": "stderr",
     "output_type": "stream",
     "text": [
      "/opt/hostedtoolcache/Python/3.9.20/x64/lib/python3.9/site-packages/IPython/core/interactiveshell.py:3550: LatexWarning: Multiple tex files.\n",
      "\n",
      "  exec(code_obj, self.user_global_ns, self.user_ns)\n",
      "/opt/hostedtoolcache/Python/3.9.20/x64/lib/python3.9/site-packages/IPython/core/interactiveshell.py:3550: LatexWarning: Found documentclass in tmp_2412.14246/body.tex\n",
      "\n",
      "  exec(code_obj, self.user_global_ns, self.user_ns)\n",
      "/opt/hostedtoolcache/Python/3.9.20/x64/lib/python3.9/site-packages/arxiv_on_deck_2/latex.py:414: LatexWarning: Latex injecting: 'author' from 'tmp_2412.14246/author.tex'\n",
      "  warnings.warn(LatexWarning(f\"Latex injecting: '{ext}' from '{subsource}'\"))\n"
     ]
    },
    {
     "name": "stdout",
     "output_type": "stream",
     "text": [
      "extracting tarball to tmp_2412.14402..."
     ]
    },
    {
     "name": "stdout",
     "output_type": "stream",
     "text": [
      " done.\n"
     ]
    },
    {
     "name": "stderr",
     "output_type": "stream",
     "text": [
      "/opt/hostedtoolcache/Python/3.9.20/x64/lib/python3.9/site-packages/IPython/core/interactiveshell.py:3550: LatexWarning: Multiple tex files.\n",
      "\n",
      "  exec(code_obj, self.user_global_ns, self.user_ns)\n",
      "/opt/hostedtoolcache/Python/3.9.20/x64/lib/python3.9/site-packages/IPython/core/interactiveshell.py:3550: LatexWarning: Found documentclass in tmp_2412.14402/ms.tex\n",
      "\n",
      "  exec(code_obj, self.user_global_ns, self.user_ns)\n"
     ]
    },
    {
     "name": "stderr",
     "output_type": "stream",
     "text": [
      "/tmp/ipykernel_2667/2822249172.py:52: LatexWarning: 2412.14402 did not run properly\n",
      "list index out of range\n",
      "  warnings.warn(latex.LatexWarning(f\"{paper_id:s} did not run properly\\n\" +\n"
     ]
    },
    {
     "name": "stdout",
     "output_type": "stream",
     "text": [
      "Retrieving document from  https://arxiv.org/e-print/2412.14621\n"
     ]
    },
    {
     "name": "stdout",
     "output_type": "stream",
     "text": [
      "extracting tarball to tmp_2412.14621..."
     ]
    },
    {
     "name": "stdout",
     "output_type": "stream",
     "text": [
      " done.\n",
      "Retrieving document from  https://arxiv.org/e-print/2412.14707\n"
     ]
    },
    {
     "name": "stdout",
     "output_type": "stream",
     "text": [
      "extracting tarball to tmp_2412.14707..."
     ]
    },
    {
     "name": "stdout",
     "output_type": "stream",
     "text": [
      " done.\n"
     ]
    },
    {
     "name": "stdout",
     "output_type": "stream",
     "text": [
      "Found 122 bibliographic references in tmp_2412.14707/ngc6240_gto.bbl.\n",
      "Issues with the citations\n",
      "syntax error in line 18: '=' expected\n",
      "Retrieving document from  https://arxiv.org/e-print/2412.15153\n"
     ]
    },
    {
     "name": "stdout",
     "output_type": "stream",
     "text": [
      "extracting tarball to tmp_2412.15153..."
     ]
    },
    {
     "name": "stdout",
     "output_type": "stream",
     "text": [
      " done.\n"
     ]
    }
   ],
   "source": [
    "documents = []\n",
    "failed = []\n",
    "for paper in tqdm(candidates):\n",
    "    # debug crap\n",
    "    paper['identifier'] = paper['identifier'].lower().replace('arxiv:', '').replace(r'\\n', '').strip()\n",
    "    paper_id = paper['identifier']\n",
    "    \n",
    "    folder = f'tmp_{paper_id}'\n",
    "\n",
    "    try:\n",
    "        if not os.path.isdir(folder):\n",
    "            folder = retrieve_document_source(f\"{paper_id}\", f'tmp_{paper_id}')\n",
    "        \n",
    "        try:\n",
    "            doc = latex.LatexDocument(folder, validation=validation)    \n",
    "        except AffiliationError as affilerror:\n",
    "            msg = f\"ArXiv:{paper_id:s} is not an MPIA paper... \" + str(affilerror)\n",
    "            failed.append((paper, \"affiliation error: \" + str(affilerror) ))\n",
    "            continue\n",
    "        \n",
    "        # Hack because sometimes author parsing does not work well\n",
    "        if (len(doc.authors) != len(paper['authors'])):\n",
    "            doc._authors = paper['authors']\n",
    "        else:\n",
    "            # highlight authors (FIXME: doc.highlight_authors)\n",
    "            # done on arxiv paper already\n",
    "            doc._authors = highlight_authors_in_list(\n",
    "                [get_initials(k) for k in doc.authors], \n",
    "                mpia_authors, verbose=True)\n",
    "        if (doc.abstract) in (None, ''):\n",
    "            doc._abstract = paper['abstract']\n",
    "            \n",
    "        doc.comment = (get_markdown_badge(paper_id) + \n",
    "                       \"<mark>Appeared on: \" + paper['date'] + \"</mark> - \")\n",
    "        if paper['comments']:\n",
    "            doc.comment += \" _\" + paper['comments'] + \"_\"\n",
    "        \n",
    "        full_md = doc.generate_markdown_text()\n",
    "        \n",
    "        full_md += get_markdown_qrcode(paper_id)\n",
    "        \n",
    "        # replace citations\n",
    "        try:\n",
    "            bibdata = latex_bib.LatexBib.from_doc(doc)\n",
    "            full_md = latex_bib.replace_citations(full_md, bibdata)\n",
    "        except Exception as e:\n",
    "            print(\"Issues with the citations\")\n",
    "            print(e)\n",
    "        \n",
    "        documents.append((paper_id, full_md))\n",
    "    except Exception as e:\n",
    "        warnings.warn(latex.LatexWarning(f\"{paper_id:s} did not run properly\\n\" +\n",
    "                                         str(e)\n",
    "                                        ))\n",
    "        failed.append((paper, \"latex error \" + str(e)))"
   ]
  },
  {
   "cell_type": "markdown",
   "id": "2505a25c",
   "metadata": {
    "papermill": {
     "duration": 0.003925,
     "end_time": "2024-12-20T04:12:18.218781",
     "exception": false,
     "start_time": "2024-12-20T04:12:18.214856",
     "status": "completed"
    },
    "tags": []
   },
   "source": [
    "### Export the logs\n",
    "\n",
    "Throughout, we also keep track of the logs per paper. see `logs-{today date}.md` "
   ]
  },
  {
   "cell_type": "code",
   "execution_count": 6,
   "id": "d733828a",
   "metadata": {
    "execution": {
     "iopub.execute_input": "2024-12-20T04:12:18.228077Z",
     "iopub.status.busy": "2024-12-20T04:12:18.227525Z",
     "iopub.status.idle": "2024-12-20T04:12:18.243165Z",
     "shell.execute_reply": "2024-12-20T04:12:18.242504Z"
    },
    "papermill": {
     "duration": 0.021471,
     "end_time": "2024-12-20T04:12:18.244178",
     "exception": false,
     "start_time": "2024-12-20T04:12:18.222707",
     "status": "completed"
    },
    "scrolled": false,
    "tags": []
   },
   "outputs": [
    {
     "data": {
      "text/markdown": [
       "## Successful papers"
      ],
      "text/plain": [
       "<IPython.core.display.Markdown object>"
      ]
     },
     "metadata": {},
     "output_type": "display_data"
    },
    {
     "data": {
      "text/markdown": [
       "\n",
       "|||\n",
       "|---:|:---|\n",
       "| [![arXiv](https://img.shields.io/badge/arXiv-2412.14707-b31b1b.svg)](https://arxiv.org/abs/2412.14707) | **MICONIC: Dual active galactic nuclei, star formation, and ionised gas outflows in NGC 6240 seen with MIRI/JWST**  |\n",
       "|| L. H. Muñoz, et al. -- incl., <mark>F. Walter</mark>, <mark>T. Henning</mark> |\n",
       "|*Appeared on*| *2024-12-20*|\n",
       "|*Comments*| *23 pages, 10 figures. Accepted for publication in A&A on 26/11/2024*|\n",
       "|**Abstract**|            As part of the guaranteed time observations program Mid-Infrared Characterization Of Nearby Iconic galaxy Centers (MICONIC), we used the medium-resolution spectrometer (MRS) of the Mid-Infrared Instrument (MIRI) on board of the JWST to study the nearby merger NGC6240. We aim to characterise the dual active galactic nuclei (AGN), the ionised gas outflows and the main properties of the interstellar medium over a mapped area of 6.6\"x7.7\". We obtained integral field spectroscopic mid-infrared data of NGC6240, resolving both nuclei for the first time in the full 5-28{\\mu}m spectral range. We modelled the emission lines through a kinematic decomposition, finding that the fine-structure lines in the southern (S) nucleus are broader than for the northern (N) nucleus (full width at half maximum of $\\geq$1500 vs ~700 km s^{-1} on average). High excitation lines, such as [NeV], [NeVI], and [MgV], are clearly detected in the N nucleus. In the S nucleus, the same lines can be detected but only after a decomposition of the PAH features in the integrated spectrum, due to a combination of a strong mid-IR continuum, the broad emission lines, and the intense star formation (SF). The SF is distributed all over the mapped FoV of 3.5kpc x 4.1kpc (projected), with the maximum located around the S nucleus. Both nuclear regions appear to be connected by a bridge region detected with all the emission lines. Based on the observed MRS line ratios and the high velocity dispersion ({\\sigma}~600 km s^{-1}), shocks are also dominating the emission in this system. We detected the presence of outflows as a bubble north-west from the N nucleus and at the S nucleus. We estimated a ionised mass outflow rate of 1.4$\\pm$0.3 M yr^{-1} and 1.8$\\pm$0.2 M yr^{-1}, respectively. Given the derived kinetic power of these outflows, both the AGN and the starburst could have triggered them. [Abridged]         |"
      ],
      "text/plain": [
       "[2412.14707] MICONIC: Dual active galactic nuclei, star formation, and ionised gas outflows in NGC 6240 seen with MIRI/JWST\n",
       "\tL. H. Muñoz, et al. -- incl., <mark>F. Walter</mark>, <mark>T. Henning</mark>"
      ]
     },
     "metadata": {},
     "output_type": "display_data"
    },
    {
     "data": {
      "text/markdown": [
       "## Failed papers"
      ],
      "text/plain": [
       "<IPython.core.display.Markdown object>"
      ]
     },
     "metadata": {},
     "output_type": "display_data"
    },
    {
     "data": {
      "text/markdown": [
       "\n",
       "|||\n",
       "|---:|:---|\n",
       "| [![arXiv](https://img.shields.io/badge/arXiv-2412.14246-b31b1b.svg)](https://arxiv.org/abs/2412.14246) | **Discovery of dual \"little red dots\" indicates excess clustering on kilo-parsec scales**  |\n",
       "|| T. S. Tanaka, et al. -- incl., <mark>J. Li</mark> |\n",
       "|*Appeared on*| *2024-12-20*|\n",
       "|*Comments*| *12 pages, 5 figures, and 1 table. Comments are welcome*|\n",
       "|**Abstract**|            ``Little Red Dots'' (LRDs) are an abundant high-redshift population newly discovered by the James Webb Space Telescope (JWST). They are characterized by a red color in the rest-frame optical band, compact morphology, and broad Balmer emission lines (${\\rm FWHM} \\gtrsim 1000~{\\rm km\\,s^{-1}}$) that suggest an AGN nature. Using a method of pixel-by-pixel color selection and relaxing the compactness criteria, we identify three of the first dual LRD candidates in the COSMOS-Web survey with projected separations of $0.\\!\\!^{\\prime\\prime}2-0.\\!\\!^{\\prime\\prime}4$ (1-2 pkpc at their photometric redshifts). A comparison between existing LRD samples and mock data reveals that the projected separations of these dual LRD candidates are unlikely to result from chance projections of objects at different redshifts. In one case (CW-B5-15958), the dual LRD includes two bright sources ($m_{\\rm F444W}=24.3$ and $24.8$) with characteristic V-shape spectral energy distribution (SEDs) and photometric redshifts consistent with each other. We find that CW-B5-15958 has a faint off-centered component and a companion galaxy. In the other two dual systems, the brighter LRD exhibits a V-shape SED, while the fainter LRD ($m_{\\rm F444W}\\gtrsim26$) is undetected in both F115W and F150W. These discoveries suggest that the angular auto-correlation function (ACF) of LRDs exhibits a significant excess ($\\sim3\\times10^2$ times) on sub-arcsec (kilo-parsec) separations compared to the extrapolation of a power-law ACF of JWST-found AGNs measured over $10^{\\prime\\prime}-100^{\\prime\\prime}$. Follow-up spectroscopic confirmation of their redshifts and the construction of a larger sample are essential to advance our understanding of the evolution of supermassive black holes and the importance of mergers in the early universe.         |\n",
       "|<p style=\"color:green\"> **ERROR** </p>| <p style=\"color:green\">affiliation error: mpia.affiliation_verifications: 'Heidelberg' keyword not found.</p> |"
      ],
      "text/plain": [
       "<IPython.core.display.Markdown object>"
      ]
     },
     "metadata": {},
     "output_type": "display_data"
    },
    {
     "data": {
      "text/markdown": [
       "\n",
       "|||\n",
       "|---:|:---|\n",
       "| [![arXiv](https://img.shields.io/badge/arXiv-2412.14621-b31b1b.svg)](https://arxiv.org/abs/2412.14621) | **Diversity and universality: evolution of dwarf galaxies with self-interacting dark matter**  |\n",
       "|| Z. C. Zeng, et al. -- incl., <mark>J. Li</mark> |\n",
       "|*Appeared on*| *2024-12-20*|\n",
       "|*Comments*| *35 pages, 21 figures, happy holidays*|\n",
       "|**Abstract**|            Dark matter halos with self-interacting dark matter (SIDM) experience a unique evolutionary phenomenon, in that their central regions eventually collapse to high density through the runaway gravothermal process after initially forming a large and low-density core. When coupled with orbital evolution, this is expected to naturally produce a large diversity in dark-matter halos' inner mass distribution, potentially explaining the diversity problem of dwarf galaxies. However, it remains unknown how the diversity in SIDM dark-matter halos propagates to the more easily observed luminous matter at the center of the halo, especially the stellar component. In this work, we use idealized N-body simulations with two species of particles (dark matter and stars) to study the response of the stellar properties of field and satellite dwarf galaxies to SIDM evolution and orbital effects on their halos. Galaxies' stellar components, including galaxy size, mass-to-light ratio, and stellar velocity dispersion, display a much larger scatter in SIDM than the standard cold dark matter (CDM) model. Importantly, we find signs of universality in the evolution pathways, or ``tidal tracks'', of SIDM dwarf satellites, which are physically interpretable and potentially parameterizable. This type of tidal-track model can be layered onto larger-scale, cosmological simulations to reconstruct the evolution of populations of SIDM dwarfs in cases where high-resolution simulations of galaxies are otherwise prohibitively expensive.         |\n",
       "|<p style=\"color:green\"> **ERROR** </p>| <p style=\"color:green\">affiliation error: mpia.affiliation_verifications: 'Heidelberg' keyword not found.</p> |"
      ],
      "text/plain": [
       "<IPython.core.display.Markdown object>"
      ]
     },
     "metadata": {},
     "output_type": "display_data"
    },
    {
     "data": {
      "text/markdown": [
       "\n",
       "|||\n",
       "|---:|:---|\n",
       "| [![arXiv](https://img.shields.io/badge/arXiv-2412.15153-b31b1b.svg)](https://arxiv.org/abs/2412.15153) | **Cyclotron emitting magnetic white dwarfs in post common envelope binaries discovered with the Zwicky Transient Facility**  |\n",
       "|| J. v. Roestel, et al. -- incl., <mark>K. El-Badry</mark> |\n",
       "|*Appeared on*| *2024-12-20*|\n",
       "|*Comments*| **|\n",
       "|**Abstract**|            We present the discovery of 14 new (and recovery of 4 known) low accretion rate magnetic white dwarfs in post-common envelope binaries that emit strong cyclotron emission using the Zwicky Transient Facility (ZTF) light curves, doubling the known sample size. In addition, we discovered a candidate magnetic period bouncer and recovered three known ones. We confirmed the presence of cyclotron emission using low-resolution spectra in 19 objects. Using the ZTF light curves, follow-up spectra, and the spectral energy distribution, we measured the orbital period, magnetic field strength, and white dwarf temperature of each system. Although the phase-folded light curves have diverse shapes and show a much larger variability amplitude, we show that their intrinsic properties (e.g. period distribution, magnetic field strength) are similar to those of previously known systems. The diversity in light curve shapes can be explained by differences in the optical depth of the accretion spot and geometric differences, the inclination angle and the magnetic spot latitude. The evolutionary states of the longer period binaries are somewhat uncertain but are vary; we found systems consistent with being pre-polars, detached polars, or low-state polars. In addition, we discovered two new low-state polars that likely have brown dwarf companions and could be magnetic period bouncers.         |\n",
       "|<p style=\"color:green\"> **ERROR** </p>| <p style=\"color:green\">affiliation error: mpia.affiliation_verifications: 'Heidelberg' keyword not found.</p> |"
      ],
      "text/plain": [
       "<IPython.core.display.Markdown object>"
      ]
     },
     "metadata": {},
     "output_type": "display_data"
    },
    {
     "data": {
      "text/markdown": [
       "\n",
       "|||\n",
       "|---:|:---|\n",
       "| [![arXiv](https://img.shields.io/badge/arXiv-2412.14402-b31b1b.svg)](https://arxiv.org/abs/2412.14402) | **Disk Evolution Study Through Imaging of Nearby Young Stars (DESTINYS): Dynamical Evidence of a Spiral-Arm-Driving and Gap-Opening Protoplanet from SAO 206462 Spiral Motion**  |\n",
       "|| C. Xie, et al. -- incl., <mark>M. Benisty</mark> |\n",
       "|*Appeared on*| *2024-12-20*|\n",
       "|*Comments*| *11 pages, 3 figures. Invited paper accepted to special issue (this https URL) of Universe. Data in ancillary folder*|\n",
       "|**Abstract**|            In the early stages of planetary system formation, young exoplanets gravitationally interact with their surrounding environments and leave observable signatures on protoplanetary disks. Among these structures, a pair of nearly symmetric spiral arms can be driven by a giant protoplanet. For the double-spiraled SAO 206462 protoplanetary disk, we obtained three epochs of observations spanning 7 yr using the Very Large Telescope's SPHERE instrument in near-infrared $J$-band polarized light. By jointly measuring the motion of the two spirals at three epochs, we obtained a rotation rate of $-0.85^\\circ\\pm0.05^\\circ~{\\rm yr}^{-1}$. This rate corresponds to a protoplanet at $66\\pm3$ au on a circular orbit dynamically driving both spirals. The derived location agrees with the gap in ALMA dust-continuum observations, indicating that the spiral driver may also carve the observed gap. What is more, a dust filament at $\\sim$63 au observed by ALMA coincides with the predicted orbit of the spiral-arm-driving protoplanet. This double-spiraled system is an ideal target for protoplanet imaging.         |\n",
       "|<p style=\"color:red\"> **ERROR** </p>| <p style=\"color:red\">latex error list index out of range</p> |"
      ],
      "text/plain": [
       "<IPython.core.display.Markdown object>"
      ]
     },
     "metadata": {},
     "output_type": "display_data"
    }
   ],
   "source": [
    "import datetime\n",
    "today = str(datetime.date.today())\n",
    "logfile = f\"_build/html/logs/log-{today}.md\"\n",
    "\n",
    "\n",
    "with open(logfile, 'w') as logs:\n",
    "    # Success\n",
    "    logs.write(f'# Arxiv on Deck 2: Logs - {today}\\n\\n')\n",
    "    logs.write(\"\"\"* Arxiv had {0:,d} new papers\\n\"\"\".format(len(new_papers)))\n",
    "    logs.write(\"\"\"    * {0:,d} with possible author matches\\n\\n\"\"\".format(len(candidates)))\n",
    "    logs.write(\"## Sucessful papers\\n\\n\")\n",
    "    display(Markdown(\"## Successful papers\"))\n",
    "    success = [k[0] for k in documents]\n",
    "    for candid in candidates:\n",
    "        if candid['identifier'].split(':')[-1] in success:\n",
    "            display(candid)\n",
    "            logs.write(candid.generate_markdown_text() + '\\n\\n')\n",
    "\n",
    "    ## failed\n",
    "    logs.write(\"## Failed papers\\n\\n\")\n",
    "    display(Markdown(\"## Failed papers\"))\n",
    "    failed = sorted(failed, key=lambda x: x[1])\n",
    "    current_reason = \"\"\n",
    "    for paper, reason in failed:\n",
    "        if 'affiliation' in reason:\n",
    "            color = 'green'\n",
    "        else:\n",
    "            color = 'red'\n",
    "        data = Markdown(\n",
    "                paper.generate_markdown_text() + \n",
    "                f'\\n|<p style=\"color:{color:s}\"> **ERROR** </p>| <p style=\"color:{color:s}\">{reason:s}</p> |'\n",
    "               )\n",
    "        if reason != current_reason:\n",
    "            logs.write(f'### {reason:s} \\n\\n')\n",
    "            current_reason = reason\n",
    "        logs.write(data.data + '\\n\\n')\n",
    "        \n",
    "        # only display here the important errors (all in logs)\n",
    "        # if color in ('red',):\n",
    "        display(data)"
   ]
  },
  {
   "cell_type": "markdown",
   "id": "472d20ee",
   "metadata": {
    "papermill": {
     "duration": 0.004656,
     "end_time": "2024-12-20T04:12:18.253579",
     "exception": false,
     "start_time": "2024-12-20T04:12:18.248923",
     "status": "completed"
    },
    "tags": []
   },
   "source": [
    "## Export documents\n",
    "\n",
    "We now write the .md files and export relevant images"
   ]
  },
  {
   "cell_type": "code",
   "execution_count": 7,
   "id": "d426aed9",
   "metadata": {
    "execution": {
     "iopub.execute_input": "2024-12-20T04:12:18.263877Z",
     "iopub.status.busy": "2024-12-20T04:12:18.263468Z",
     "iopub.status.idle": "2024-12-20T04:12:18.270026Z",
     "shell.execute_reply": "2024-12-20T04:12:18.269519Z"
    },
    "papermill": {
     "duration": 0.012755,
     "end_time": "2024-12-20T04:12:18.270985",
     "exception": false,
     "start_time": "2024-12-20T04:12:18.258230",
     "status": "completed"
    },
    "tags": []
   },
   "outputs": [],
   "source": [
    "def export_markdown_summary(md: str, md_fname:str, directory: str):\n",
    "    \"\"\"Export MD document and associated relevant images\"\"\"\n",
    "    import os\n",
    "    import shutil\n",
    "    import re\n",
    "\n",
    "    if (os.path.exists(directory) and not os.path.isdir(directory)):\n",
    "        raise RuntimeError(f\"a non-directory file exists with name {directory:s}\")\n",
    "\n",
    "    if (not os.path.exists(directory)):\n",
    "        print(f\"creating directory {directory:s}\")\n",
    "        os.mkdir(directory)\n",
    "\n",
    "    fig_fnames = (re.compile(r'\\[Fig.*\\]\\((.*)\\)').findall(md) + \n",
    "                  re.compile(r'\\<img src=\"([^>\\s]*)\"[^>]*/>').findall(md))\n",
    "    print(\"found figures\", fig_fnames)\n",
    "    for fname in fig_fnames:\n",
    "        if 'http' in fname:\n",
    "            # No need to copy online figures\n",
    "            continue\n",
    "        if not os.path.exists(fname):\n",
    "            print(\"file not found\", fname)\n",
    "            continue\n",
    "        print(\"copying \", fname, \"to\", directory)\n",
    "        destdir = os.path.join(directory, os.path.dirname(fname))\n",
    "        destfname = os.path.join(destdir, os.path.basename(fname))\n",
    "        try:\n",
    "            os.makedirs(destdir)\n",
    "        except FileExistsError:\n",
    "            pass\n",
    "        shutil.copy(fname, destfname)\n",
    "    with open(os.path.join(directory, md_fname), 'w') as fout:\n",
    "        fout.write(md)\n",
    "    print(\"exported in \", os.path.join(directory, md_fname))\n",
    "    [print(\"    + \" + os.path.join(directory,fk)) for fk in fig_fnames]"
   ]
  },
  {
   "cell_type": "code",
   "execution_count": 8,
   "id": "014d04a4",
   "metadata": {
    "execution": {
     "iopub.execute_input": "2024-12-20T04:12:18.281217Z",
     "iopub.status.busy": "2024-12-20T04:12:18.280834Z",
     "iopub.status.idle": "2024-12-20T04:12:18.289296Z",
     "shell.execute_reply": "2024-12-20T04:12:18.288786Z"
    },
    "papermill": {
     "duration": 0.014589,
     "end_time": "2024-12-20T04:12:18.290286",
     "exception": false,
     "start_time": "2024-12-20T04:12:18.275697",
     "status": "completed"
    },
    "tags": []
   },
   "outputs": [
    {
     "name": "stdout",
     "output_type": "stream",
     "text": [
      "found figures ['tmp_2412.14707/./figures/v_sigma_neii_1comp.png', 'tmp_2412.14707/./figures/v_sigma_neiii_1comp.png', 'tmp_2412.14707/./figures/v_sigma_feii_1comp.png', 'tmp_2412.14707/./figures/v_sigma_h1_65_1comp.png', 'tmp_2412.14707/./figures/regions_NGC6240_v2.png', 'tmp_2412.14707/./figures/v_sigma_oiv_1comp.png', 'tmp_2412.14707/./figures/v_sigma_nev_1comp_isolated.png', 'tmp_2412.14707/./figures/v_sigma_nevi_1comp.png', 'tmp_2412.14707/./figures/v_sigma_mgv_1comp.png']\n",
      "copying  tmp_2412.14707/./figures/v_sigma_neii_1comp.png to _build/html/\n",
      "copying  tmp_2412.14707/./figures/v_sigma_neiii_1comp.png to _build/html/\n",
      "copying  tmp_2412.14707/./figures/v_sigma_feii_1comp.png to _build/html/\n",
      "copying  tmp_2412.14707/./figures/v_sigma_h1_65_1comp.png to _build/html/\n",
      "copying  tmp_2412.14707/./figures/regions_NGC6240_v2.png to _build/html/\n",
      "copying  tmp_2412.14707/./figures/v_sigma_oiv_1comp.png to _build/html/\n",
      "copying  tmp_2412.14707/./figures/v_sigma_nev_1comp_isolated.png to _build/html/\n",
      "copying  tmp_2412.14707/./figures/v_sigma_nevi_1comp.png to _build/html/\n",
      "copying  tmp_2412.14707/./figures/v_sigma_mgv_1comp.png to _build/html/\n",
      "exported in  _build/html/2412.14707.md\n",
      "    + _build/html/tmp_2412.14707/./figures/v_sigma_neii_1comp.png\n",
      "    + _build/html/tmp_2412.14707/./figures/v_sigma_neiii_1comp.png\n",
      "    + _build/html/tmp_2412.14707/./figures/v_sigma_feii_1comp.png\n",
      "    + _build/html/tmp_2412.14707/./figures/v_sigma_h1_65_1comp.png\n",
      "    + _build/html/tmp_2412.14707/./figures/regions_NGC6240_v2.png\n",
      "    + _build/html/tmp_2412.14707/./figures/v_sigma_oiv_1comp.png\n",
      "    + _build/html/tmp_2412.14707/./figures/v_sigma_nev_1comp_isolated.png\n",
      "    + _build/html/tmp_2412.14707/./figures/v_sigma_nevi_1comp.png\n",
      "    + _build/html/tmp_2412.14707/./figures/v_sigma_mgv_1comp.png\n"
     ]
    }
   ],
   "source": [
    "for paper_id, md in documents:\n",
    "    export_markdown_summary(md, f\"{paper_id:s}.md\", '_build/html/')"
   ]
  },
  {
   "cell_type": "markdown",
   "id": "f087a0a7",
   "metadata": {
    "papermill": {
     "duration": 0.004798,
     "end_time": "2024-12-20T04:12:18.300029",
     "exception": false,
     "start_time": "2024-12-20T04:12:18.295231",
     "status": "completed"
    },
    "tags": []
   },
   "source": [
    "## Display the papers\n",
    "\n",
    "Not necessary but allows for a quick check."
   ]
  },
  {
   "cell_type": "code",
   "execution_count": 9,
   "id": "fd25f625",
   "metadata": {
    "execution": {
     "iopub.execute_input": "2024-12-20T04:12:18.310270Z",
     "iopub.status.busy": "2024-12-20T04:12:18.310072Z",
     "iopub.status.idle": "2024-12-20T04:12:18.314616Z",
     "shell.execute_reply": "2024-12-20T04:12:18.314091Z"
    },
    "papermill": {
     "duration": 0.010891,
     "end_time": "2024-12-20T04:12:18.315678",
     "exception": false,
     "start_time": "2024-12-20T04:12:18.304787",
     "status": "completed"
    },
    "scrolled": false,
    "tags": []
   },
   "outputs": [
    {
     "data": {
      "text/markdown": [
       "<div class=\"macros\" style=\"visibility:hidden;\">\n",
       "$\\newcommand{\\ensuremath}{}$\n",
       "$\\newcommand{\\xspace}{}$\n",
       "$\\newcommand{\\object}[1]{\\texttt{#1}}$\n",
       "$\\newcommand{\\farcs}{{.}''}$\n",
       "$\\newcommand{\\farcm}{{.}'}$\n",
       "$\\newcommand{\\arcsec}{''}$\n",
       "$\\newcommand{\\arcmin}{'}$\n",
       "$\\newcommand{\\ion}[2]{#1#2}$\n",
       "$\\newcommand{\\textsc}[1]{\\textrm{#1}}$\n",
       "$\\newcommand{\\hl}[1]{\\textrm{#1}}$\n",
       "$\\newcommand{\\footnote}[1]{}$</div>\n",
       "\n",
       "\n",
       "\n",
       "<div id=\"title\">\n",
       "\n",
       "# MICONIC: dual AGN, star formation, and ionised gas outflows in NGC 6240 seen with MIRI/JWST\n",
       "\n",
       "</div>\n",
       "<div id=\"comments\">\n",
       "\n",
       "[![arXiv](https://img.shields.io/badge/arXiv-2412.14707-b31b1b.svg)](https://arxiv.org/abs/2412.14707)<mark>Appeared on: 2024-12-20</mark> -  _23 pages, 10 figures. Accepted for publication in A&A on 26/11/2024_\n",
       "\n",
       "</div>\n",
       "<div id=\"authors\">\n",
       "\n",
       "L. H. Muñoz, et al. -- incl., <mark>F. Walter</mark>, <mark>T. Henning</mark>\n",
       "\n",
       "</div>\n",
       "<div id=\"abstract\">\n",
       "\n",
       "**Abstract:** Galaxy mergers are an important and complex phase during the evolution of galaxies. They may trigger nuclear activity and/or strong star forming episodes in the galaxy centres that potentially alter the evolution of the system. As part of the guaranteed time observations (GTO) program Mid-Infrared Characterization Of Nearby Iconic galaxy Centers (MICONIC), we used the medium-resolution spectrometer (MRS) of the Mid-Infrared Instrument (MIRI) on board of the James Webb Space Telescope (JWST) to study NGC 6240. We aim to characterise the dual active galactic nuclei (AGN), the ionised gas outflows and the main properties of the interstellar medium (ISM) over a mapped area of $6.6\\arcsec \\times 7.7\\arcsec$ . We obtained integral field spectroscopic (IFS) mid-infrared data (wavelength from 4.9 to 28 $\\mu$ m) of NGC 6240. We modelled the emission lines through a kinematic decomposition that accounts for the possible existence of various components. We have resolved both nuclei for the first time in the full 5-28 $\\mu$ m spectral range. The fine-structure lines in the southern (S) nucleus are broader than for the northern (N) nucleus (full width at half maximum of $\\geq$ 1500 vs $\\sim$ 700 km s $^{-1}$ on average, respectively). High excitation lines, such as [ Ne V ] , [ Ne VI ] , and [ Mg V ] , are clearly detected in the N nucleus. In the S nucleus, the same lines can be detected but only after a decomposition of the PAH features in the integrated spectrum, due to a combination of a strong mid-IR continuum, the broad emission lines, and the intense star formation (SF). The SF is distributed all over the mapped FoV of 3.5 kpc $\\times$ 4.1 kpc (projected), with the maximum located around the S nucleus. Both nuclear regions appear to be connected by a bridge region detected with all the emission lines. Based on the observed MRS line ratios and the high velocity dispersion ( $\\sigma \\sim 600$ km s $^{-1}$ ), shocks are also dominating the emission in this system. We detected the presence of outflows as a bubble north-west from the N nucleus and at the S nucleus. We estimated a ionised mass outflow rate of 1.4 $\\pm 0.3$ M $_{\\sun}$ yr $^{-1}$ and $1.8\\pm0.2$ M $_{\\sun}$ yr $^{-1}$ , respectively. Given the derived kinetic power of these outflows, both the AGN and the starburst could have triggered them.\n",
       "\n",
       "</div>\n",
       "\n",
       "<div id=\"div_fig1\">\n",
       "\n",
       "<img src=\"tmp_2412.14707/./figures/v_sigma_neii_1comp.png\" alt=\"Fig8.1\" width=\"25%\"/><img src=\"tmp_2412.14707/./figures/v_sigma_neiii_1comp.png\" alt=\"Fig8.2\" width=\"25%\"/><img src=\"tmp_2412.14707/./figures/v_sigma_feii_1comp.png\" alt=\"Fig8.3\" width=\"25%\"/><img src=\"tmp_2412.14707/./figures/v_sigma_h1_65_1comp.png\" alt=\"Fig8.4\" width=\"25%\"/>\n",
       "\n",
       "**Figure 8. -** Kinematic maps obtained with the modelling of a single Gaussian for the [Ne II], [Ne III], [Fe II] at 5.34$\\mu$m, and Pf$\\alpha$ lines (from top to bottom, respectively). The latter line kinematics was obtained after re-binning the cube with a 2$\\times$2 box (see Sect. \\ref{Sect2:Methodology}). From left to right: flux in erg s$^{-1}$ cm$^{-2}$, velocity in km s$^{-1}$, and velocity dispersion in km s$^{-1}$. The contours in the velocity maps go from $-$300 to 300 km s$^{-1}$(increments of 100 km s$^{-1}$). The contours in the flux maps go from 10$^{-16}$ to 10$^{-14}$ erg s$^{-1}$ cm$^{-2}$(divided in 5 contours), except for Pf$\\alpha$(from $10^{-17}$ to $10^{-15}$ erg s$^{-1}$ cm$^{-2}$). White stars indicate the photometric centre for both nuclei in their corresponding sub-channels, and the lower-left line indicate the 1$\\arcsec$ physical scale. The (0,0) point in each panel marks the centre of the FoV at each channel. For all maps, north is up and east to the left. (*Fig:KinMapsLowExcit*)\n",
       "\n",
       "</div>\n",
       "<div id=\"div_fig2\">\n",
       "\n",
       "<img src=\"tmp_2412.14707/./figures/regions_NGC6240_v2.png\" alt=\"Fig1\" width=\"100%\"/>\n",
       "\n",
       "**Figure 1. -** Schematic figure of the main features seen in the flux and kinematic maps of the emission lines superimposed to the [Ne III] flux map contours (see Fig. \\ref{Fig:KinMapsLowExcit}). In red we mark the position of the different detected clumps (namely C1, C2, and C3) and in green the extended emission regions (namely Ext1 and Ext2, see Sect. \\ref{SubSect3:Results_fluxes}). The bubble-like structure mainly detected with the high-excitation lines is in blue (extending up to $\\sim5.2$\\arcsec$$, i.e. 2.74 kpc, see Fig. \\ref{Fig:KinMapsHighIon} and Sect. \\ref{SubSect4:Disc_Outflow}), and the bridge detected between both nuclei (separated $\\sim 1.6$\\arcsec$$, i.e. $\\sim 840$ pc, see Sect. \\ref{Subsect3:Results_IntProperties}) is marked in yellow. The purple regions indicate the \"V\"-shaped structure detected in the velocity dispersion maps. Additionally, we mark with black, dashed circles the region where we integrated the spectra for both nuclei, as well as their position with the white stars. (*Fig:SummaryRegions*)\n",
       "\n",
       "</div>\n",
       "<div id=\"div_fig3\">\n",
       "\n",
       "<img src=\"tmp_2412.14707/./figures/v_sigma_oiv_1comp.png\" alt=\"Fig9.1\" width=\"25%\"/><img src=\"tmp_2412.14707/./figures/v_sigma_nev_1comp_isolated.png\" alt=\"Fig9.2\" width=\"25%\"/><img src=\"tmp_2412.14707/./figures/v_sigma_nevi_1comp.png\" alt=\"Fig9.3\" width=\"25%\"/><img src=\"tmp_2412.14707/./figures/v_sigma_mgv_1comp.png\" alt=\"Fig9.4\" width=\"25%\"/>\n",
       "\n",
       "**Figure 9. -** Kinematic maps obtained with the modelling of a single Gaussian for the [O IV], [Ne V], [Ne VI], and [Mg V] lines, top to bottom respectively. Full description in Fig. \\ref{Fig:KinMapsLowExcit}. (*Fig:KinMapsHighIon*)\n",
       "\n",
       "</div><div id=\"qrcode\"><img src=https://api.qrserver.com/v1/create-qr-code/?size=100x100&data=\"https://arxiv.org/abs/2412.14707\"></div>"
      ],
      "text/plain": [
       "<IPython.core.display.Markdown object>"
      ]
     },
     "metadata": {},
     "output_type": "display_data"
    }
   ],
   "source": [
    "[display(Markdown(k[1])) for k in documents];"
   ]
  },
  {
   "cell_type": "markdown",
   "id": "873873a4",
   "metadata": {
    "papermill": {
     "duration": 0.005049,
     "end_time": "2024-12-20T04:12:18.325950",
     "exception": false,
     "start_time": "2024-12-20T04:12:18.320901",
     "status": "completed"
    },
    "tags": []
   },
   "source": [
    "# Create HTML index"
   ]
  },
  {
   "cell_type": "code",
   "execution_count": 10,
   "id": "cf665672",
   "metadata": {
    "execution": {
     "iopub.execute_input": "2024-12-20T04:12:18.336786Z",
     "iopub.status.busy": "2024-12-20T04:12:18.336400Z",
     "iopub.status.idle": "2024-12-20T04:12:18.344945Z",
     "shell.execute_reply": "2024-12-20T04:12:18.344437Z"
    },
    "papermill": {
     "duration": 0.014926,
     "end_time": "2024-12-20T04:12:18.345892",
     "exception": false,
     "start_time": "2024-12-20T04:12:18.330966",
     "status": "completed"
    },
    "tags": []
   },
   "outputs": [
    {
     "name": "stdout",
     "output_type": "stream",
     "text": [
      "290  publications files modified in the last 7 days.\n"
     ]
    }
   ],
   "source": [
    "from datetime import datetime, timedelta, timezone\n",
    "from glob import glob\n",
    "import os\n",
    "\n",
    "files = glob('_build/html/*.md')\n",
    "days = 7\n",
    "now = datetime.today()\n",
    "res = []\n",
    "for fk in files:\n",
    "    stat_result = os.stat(fk).st_ctime\n",
    "    modified = datetime.fromtimestamp(stat_result, tz=timezone.utc).replace(tzinfo=None)\n",
    "    delta = now.today() - modified\n",
    "    if delta <= timedelta(days=days):\n",
    "        res.append((delta.seconds, fk))\n",
    "res = [k[1] for k in reversed(sorted(res, key=lambda x:x[1]))]\n",
    "npub = len(res)\n",
    "print(len(res), f\" publications files modified in the last {days:d} days.\")\n",
    "# [ print('\\t', k) for k in res ];"
   ]
  },
  {
   "cell_type": "code",
   "execution_count": 11,
   "id": "015de740",
   "metadata": {
    "execution": {
     "iopub.execute_input": "2024-12-20T04:12:18.357001Z",
     "iopub.status.busy": "2024-12-20T04:12:18.356620Z",
     "iopub.status.idle": "2024-12-20T04:12:18.374170Z",
     "shell.execute_reply": "2024-12-20T04:12:18.373647Z"
    },
    "papermill": {
     "duration": 0.024036,
     "end_time": "2024-12-20T04:12:18.375155",
     "exception": false,
     "start_time": "2024-12-20T04:12:18.351119",
     "status": "completed"
    },
    "tags": []
   },
   "outputs": [
    {
     "name": "stdout",
     "output_type": "stream",
     "text": [
      "10  publications in the last 7 days.\n"
     ]
    }
   ],
   "source": [
    "import datetime\n",
    "from glob import glob\n",
    "\n",
    "def get_last_n_days(lst, days=1):\n",
    "    \"\"\" Get the documents from the last n days \"\"\"\n",
    "    sorted_lst = sorted(lst, key=lambda x: x[1], reverse=True)\n",
    "    for fname, date in sorted_lst:\n",
    "        if date >= str(datetime.date.today() - datetime.timedelta(days=days)):\n",
    "            yield fname\n",
    "\n",
    "def extract_appearance_dates(lst_file):\n",
    "    dates = []\n",
    "\n",
    "    def get_date(line):\n",
    "        return line\\\n",
    "            .split('Appeared on:')[-1]\\\n",
    "            .split('</mark>')[0].strip()\n",
    "\n",
    "    for fname in lst:\n",
    "        with open(fname, 'r') as f:\n",
    "            found_date = False\n",
    "            for line in f:\n",
    "                if not found_date:\n",
    "                    if \"Appeared on\" in line:\n",
    "                        found_date = True\n",
    "                        dates.append((fname, get_date(line)))\n",
    "                else:\n",
    "                    break\n",
    "    return dates\n",
    "\n",
    "from glob import glob\n",
    "lst = glob('_build/html/*md')\n",
    "days = 7\n",
    "dates = extract_appearance_dates(lst)\n",
    "res = list(get_last_n_days(dates, days))\n",
    "npub = len(res)\n",
    "print(len(res), f\" publications in the last {days:d} days.\")"
   ]
  },
  {
   "cell_type": "code",
   "execution_count": 12,
   "id": "52ca0208",
   "metadata": {
    "execution": {
     "iopub.execute_input": "2024-12-20T04:12:18.387826Z",
     "iopub.status.busy": "2024-12-20T04:12:18.387252Z",
     "iopub.status.idle": "2024-12-20T04:12:18.392321Z",
     "shell.execute_reply": "2024-12-20T04:12:18.391782Z"
    },
    "papermill": {
     "duration": 0.012613,
     "end_time": "2024-12-20T04:12:18.393245",
     "exception": false,
     "start_time": "2024-12-20T04:12:18.380632",
     "status": "completed"
    },
    "scrolled": false,
    "tags": []
   },
   "outputs": [],
   "source": [
    "def create_carousel(npub=4):\n",
    "    \"\"\" Generate the HTML code for a carousel with `npub` slides \"\"\"\n",
    "    carousel = [\"\"\"  <div class=\"carousel\" \"\"\",\n",
    "                \"\"\"       data-flickity='{ \"autoPlay\": 10000, \"adaptiveHeight\": true, \"resize\": true, \"wrapAround\": true, \"pauseAutoPlayOnHover\": true, \"groupCells\": 1 }' id=\"asyncTypeset\">\"\"\"\n",
    "                ]\n",
    "    \n",
    "    item_str = \"\"\"    <div class=\"carousel-cell\"> <div id=\"slide{k}\" class=\"md_view\">Content {k}</div> </div>\"\"\"\n",
    "    for k in range(1, npub + 1):\n",
    "        carousel.append(item_str.format(k=k))\n",
    "    carousel.append(\"  </div>\")\n",
    "    return '\\n'.join(carousel)\n",
    "\n",
    "def create_grid(npub=4):\n",
    "    \"\"\" Generate the HTML code for a flat grid with `npub` slides \"\"\"\n",
    "    grid = [\"\"\"  <div class=\"grid\"> \"\"\",\n",
    "                ]\n",
    "    \n",
    "    item_str = \"\"\"    <div class=\"grid-item\"> <div id=\"slide{k}\" class=\"md_view\">Content {k}</div> </div>\"\"\"\n",
    "    for k in range(1, npub + 1):\n",
    "        grid.append(item_str.format(k=k))\n",
    "    grid.append(\"  </div>\")\n",
    "    return '\\n'.join(grid)"
   ]
  },
  {
   "cell_type": "code",
   "execution_count": 13,
   "id": "a6eac5b6",
   "metadata": {
    "execution": {
     "iopub.execute_input": "2024-12-20T04:12:18.404826Z",
     "iopub.status.busy": "2024-12-20T04:12:18.404489Z",
     "iopub.status.idle": "2024-12-20T04:12:18.409274Z",
     "shell.execute_reply": "2024-12-20T04:12:18.408774Z"
    },
    "papermill": {
     "duration": 0.011586,
     "end_time": "2024-12-20T04:12:18.410211",
     "exception": false,
     "start_time": "2024-12-20T04:12:18.398625",
     "status": "completed"
    },
    "scrolled": false,
    "tags": []
   },
   "outputs": [],
   "source": [
    "carousel = create_carousel(npub)\n",
    "docs = ', '.join(['\"{0:s}\"'.format(k.split('/')[-1]) for k in res])\n",
    "slides = ', '.join([f'\"slide{k}\"' for k in range(1, npub + 1)])\n",
    "\n",
    "with open(\"daily_template.html\", \"r\") as tpl:\n",
    "    page = tpl.read()\n",
    "    page = page.replace(\"{%-- carousel:s --%}\", carousel)\\\n",
    "               .replace(\"{%-- suptitle:s --%}\",  \"7-day archives\" )\\\n",
    "               .replace(\"{%-- docs:s --%}\", docs)\\\n",
    "               .replace(\"{%-- slides:s --%}\", slides)\n",
    "    \n",
    "with open(\"_build/html/index_7days.html\", 'w') as fout:\n",
    "    fout.write(page)"
   ]
  },
  {
   "cell_type": "code",
   "execution_count": 14,
   "id": "adc1a1ec",
   "metadata": {
    "execution": {
     "iopub.execute_input": "2024-12-20T04:12:18.421568Z",
     "iopub.status.busy": "2024-12-20T04:12:18.421150Z",
     "iopub.status.idle": "2024-12-20T04:12:18.427636Z",
     "shell.execute_reply": "2024-12-20T04:12:18.427005Z"
    },
    "papermill": {
     "duration": 0.013148,
     "end_time": "2024-12-20T04:12:18.428609",
     "exception": false,
     "start_time": "2024-12-20T04:12:18.415461",
     "status": "completed"
    },
    "tags": []
   },
   "outputs": [
    {
     "name": "stdout",
     "output_type": "stream",
     "text": [
      "1  publications in the last day.\n"
     ]
    }
   ],
   "source": [
    "# redo for today\n",
    "days = 1\n",
    "res = list(get_last_n_days(dates, days))\n",
    "npub = len(res)\n",
    "print(len(res), f\" publications in the last day.\")\n",
    "\n",
    "carousel = create_carousel(npub)\n",
    "docs = ', '.join(['\"{0:s}\"'.format(k.split('/')[-1]) for k in res])\n",
    "slides = ', '.join([f'\"slide{k}\"' for k in range(1, npub + 1)])\n",
    "\n",
    "with open(\"daily_template.html\", \"r\") as tpl:\n",
    "    page = tpl.read()\n",
    "    page = page.replace(\"{%-- carousel:s --%}\", carousel)\\\n",
    "               .replace(\"{%-- suptitle:s --%}\",  \"Daily\" )\\\n",
    "               .replace(\"{%-- docs:s --%}\", docs)\\\n",
    "               .replace(\"{%-- slides:s --%}\", slides)\n",
    "    \n",
    "# print(carousel, docs, slides)\n",
    "# print(page)\n",
    "with open(\"_build/html/index_daily.html\", 'w') as fout:\n",
    "    fout.write(page)"
   ]
  },
  {
   "cell_type": "code",
   "execution_count": 15,
   "id": "00eece82",
   "metadata": {
    "execution": {
     "iopub.execute_input": "2024-12-20T04:12:18.440496Z",
     "iopub.status.busy": "2024-12-20T04:12:18.440147Z",
     "iopub.status.idle": "2024-12-20T04:12:18.446403Z",
     "shell.execute_reply": "2024-12-20T04:12:18.445793Z"
    },
    "papermill": {
     "duration": 0.013322,
     "end_time": "2024-12-20T04:12:18.447481",
     "exception": false,
     "start_time": "2024-12-20T04:12:18.434159",
     "status": "completed"
    },
    "scrolled": false,
    "tags": []
   },
   "outputs": [
    {
     "name": "stdout",
     "output_type": "stream",
     "text": [
      "6  6 publications selected.\n"
     ]
    }
   ],
   "source": [
    "# Create the flat grid of the last N papers (fixed number regardless of dates)\n",
    "from itertools import islice \n",
    "\n",
    "npub = 6\n",
    "res = [k[0] for k in (islice(reversed(sorted(dates, key=lambda x: x[1])), 6))]\n",
    "print(len(res), f\" {npub} publications selected.\")\n",
    "\n",
    "grid = create_grid(npub)\n",
    "docs = ', '.join(['\"{0:s}\"'.format(k.split('/')[-1]) for k in res])\n",
    "slides = ', '.join([f'\"slide{k}\"' for k in range(1, npub + 1)])\n",
    "\n",
    "with open(\"grid_template.html\", \"r\") as tpl:\n",
    "    page = tpl.read()\n",
    "    page = page.replace(\"{%-- grid-content:s --%}\", grid)\\\n",
    "               .replace(\"{%-- suptitle:s --%}\",  f\"Last {npub:,d} papers\" )\\\n",
    "               .replace(\"{%-- docs:s --%}\", docs)\\\n",
    "               .replace(\"{%-- slides:s --%}\", slides)\n",
    "    \n",
    "# print(grid, docs, slides)\n",
    "# print(page)\n",
    "with open(\"_build/html/index_npub_grid.html\", 'w') as fout:\n",
    "    fout.write(page)"
   ]
  }
 ],
 "metadata": {
  "kernelspec": {
   "display_name": "Python 3 (ipykernel)",
   "language": "python",
   "name": "python3"
  },
  "language_info": {
   "codemirror_mode": {
    "name": "ipython",
    "version": 3
   },
   "file_extension": ".py",
   "mimetype": "text/x-python",
   "name": "python",
   "nbconvert_exporter": "python",
   "pygments_lexer": "ipython3",
   "version": "3.9.20"
  },
  "papermill": {
   "default_parameters": {},
   "duration": 85.031898,
   "end_time": "2024-12-20T04:12:18.668347",
   "environment_variables": {},
   "exception": null,
   "input_path": "MPIA daily digest.ipynb",
   "output_path": "log.ipynb",
   "parameters": {},
   "start_time": "2024-12-20T04:10:53.636449",
   "version": "2.6.0"
  },
  "vscode": {
   "interpreter": {
    "hash": "aee8b7b246df8f9039afb4144a1f6fd8d2ca17a180786b69acc140d282b71a49"
   }
  },
  "widgets": {
   "application/vnd.jupyter.widget-state+json": {
    "state": {
     "0024caa226d141f48c2e96747a9240b5": {
      "model_module": "@jupyter-widgets/base",
      "model_module_version": "2.0.0",
      "model_name": "LayoutModel",
      "state": {
       "_model_module": "@jupyter-widgets/base",
       "_model_module_version": "2.0.0",
       "_model_name": "LayoutModel",
       "_view_count": null,
       "_view_module": "@jupyter-widgets/base",
       "_view_module_version": "2.0.0",
       "_view_name": "LayoutView",
       "align_content": null,
       "align_items": null,
       "align_self": null,
       "border_bottom": null,
       "border_left": null,
       "border_right": null,
       "border_top": null,
       "bottom": null,
       "display": null,
       "flex": null,
       "flex_flow": null,
       "grid_area": null,
       "grid_auto_columns": null,
       "grid_auto_flow": null,
       "grid_auto_rows": null,
       "grid_column": null,
       "grid_gap": null,
       "grid_row": null,
       "grid_template_areas": null,
       "grid_template_columns": null,
       "grid_template_rows": null,
       "height": null,
       "justify_content": null,
       "justify_items": null,
       "left": null,
       "margin": null,
       "max_height": null,
       "max_width": null,
       "min_height": null,
       "min_width": null,
       "object_fit": null,
       "object_position": null,
       "order": null,
       "overflow": null,
       "padding": null,
       "right": null,
       "top": null,
       "visibility": null,
       "width": null
      }
     },
     "1aa5897855f641cfb681ec469bcb2323": {
      "model_module": "@jupyter-widgets/controls",
      "model_module_version": "2.0.0",
      "model_name": "HBoxModel",
      "state": {
       "_dom_classes": [],
       "_model_module": "@jupyter-widgets/controls",
       "_model_module_version": "2.0.0",
       "_model_name": "HBoxModel",
       "_view_count": null,
       "_view_module": "@jupyter-widgets/controls",
       "_view_module_version": "2.0.0",
       "_view_name": "HBoxView",
       "box_style": "",
       "children": [
        "IPY_MODEL_75bed0724e6740e7bd785e36d0e4be2c",
        "IPY_MODEL_654eb9139fd1458d957738283a1dd96c",
        "IPY_MODEL_310b4a12434a4ea786cc177cd582d77e"
       ],
       "layout": "IPY_MODEL_0024caa226d141f48c2e96747a9240b5",
       "tabbable": null,
       "tooltip": null
      }
     },
     "310b4a12434a4ea786cc177cd582d77e": {
      "model_module": "@jupyter-widgets/controls",
      "model_module_version": "2.0.0",
      "model_name": "HTMLModel",
      "state": {
       "_dom_classes": [],
       "_model_module": "@jupyter-widgets/controls",
       "_model_module_version": "2.0.0",
       "_model_name": "HTMLModel",
       "_view_count": null,
       "_view_module": "@jupyter-widgets/controls",
       "_view_module_version": "2.0.0",
       "_view_name": "HTMLView",
       "description": "",
       "description_allow_html": false,
       "layout": "IPY_MODEL_6d97bc47b5d04db1a97dc8052fe6db96",
       "placeholder": "​",
       "style": "IPY_MODEL_938bdd37fa29431893e59d948da9c100",
       "tabbable": null,
       "tooltip": null,
       "value": " 5/5 [01:04&lt;00:00, 15.85s/it]"
      }
     },
     "654eb9139fd1458d957738283a1dd96c": {
      "model_module": "@jupyter-widgets/controls",
      "model_module_version": "2.0.0",
      "model_name": "FloatProgressModel",
      "state": {
       "_dom_classes": [],
       "_model_module": "@jupyter-widgets/controls",
       "_model_module_version": "2.0.0",
       "_model_name": "FloatProgressModel",
       "_view_count": null,
       "_view_module": "@jupyter-widgets/controls",
       "_view_module_version": "2.0.0",
       "_view_name": "ProgressView",
       "bar_style": "success",
       "description": "",
       "description_allow_html": false,
       "layout": "IPY_MODEL_ffaa6cd7462b4478881bc83ca328d30f",
       "max": 5.0,
       "min": 0.0,
       "orientation": "horizontal",
       "style": "IPY_MODEL_8a25e75439a340689291e5b4ad362796",
       "tabbable": null,
       "tooltip": null,
       "value": 5.0
      }
     },
     "6d97bc47b5d04db1a97dc8052fe6db96": {
      "model_module": "@jupyter-widgets/base",
      "model_module_version": "2.0.0",
      "model_name": "LayoutModel",
      "state": {
       "_model_module": "@jupyter-widgets/base",
       "_model_module_version": "2.0.0",
       "_model_name": "LayoutModel",
       "_view_count": null,
       "_view_module": "@jupyter-widgets/base",
       "_view_module_version": "2.0.0",
       "_view_name": "LayoutView",
       "align_content": null,
       "align_items": null,
       "align_self": null,
       "border_bottom": null,
       "border_left": null,
       "border_right": null,
       "border_top": null,
       "bottom": null,
       "display": null,
       "flex": null,
       "flex_flow": null,
       "grid_area": null,
       "grid_auto_columns": null,
       "grid_auto_flow": null,
       "grid_auto_rows": null,
       "grid_column": null,
       "grid_gap": null,
       "grid_row": null,
       "grid_template_areas": null,
       "grid_template_columns": null,
       "grid_template_rows": null,
       "height": null,
       "justify_content": null,
       "justify_items": null,
       "left": null,
       "margin": null,
       "max_height": null,
       "max_width": null,
       "min_height": null,
       "min_width": null,
       "object_fit": null,
       "object_position": null,
       "order": null,
       "overflow": null,
       "padding": null,
       "right": null,
       "top": null,
       "visibility": null,
       "width": null
      }
     },
     "75bed0724e6740e7bd785e36d0e4be2c": {
      "model_module": "@jupyter-widgets/controls",
      "model_module_version": "2.0.0",
      "model_name": "HTMLModel",
      "state": {
       "_dom_classes": [],
       "_model_module": "@jupyter-widgets/controls",
       "_model_module_version": "2.0.0",
       "_model_name": "HTMLModel",
       "_view_count": null,
       "_view_module": "@jupyter-widgets/controls",
       "_view_module_version": "2.0.0",
       "_view_name": "HTMLView",
       "description": "",
       "description_allow_html": false,
       "layout": "IPY_MODEL_cacadf3019344cabb9d559fa98b4037f",
       "placeholder": "​",
       "style": "IPY_MODEL_d4bb96b40e9c44359cdc5dd0f2a968ab",
       "tabbable": null,
       "tooltip": null,
       "value": "100%"
      }
     },
     "8a25e75439a340689291e5b4ad362796": {
      "model_module": "@jupyter-widgets/controls",
      "model_module_version": "2.0.0",
      "model_name": "ProgressStyleModel",
      "state": {
       "_model_module": "@jupyter-widgets/controls",
       "_model_module_version": "2.0.0",
       "_model_name": "ProgressStyleModel",
       "_view_count": null,
       "_view_module": "@jupyter-widgets/base",
       "_view_module_version": "2.0.0",
       "_view_name": "StyleView",
       "bar_color": null,
       "description_width": ""
      }
     },
     "938bdd37fa29431893e59d948da9c100": {
      "model_module": "@jupyter-widgets/controls",
      "model_module_version": "2.0.0",
      "model_name": "HTMLStyleModel",
      "state": {
       "_model_module": "@jupyter-widgets/controls",
       "_model_module_version": "2.0.0",
       "_model_name": "HTMLStyleModel",
       "_view_count": null,
       "_view_module": "@jupyter-widgets/base",
       "_view_module_version": "2.0.0",
       "_view_name": "StyleView",
       "background": null,
       "description_width": "",
       "font_size": null,
       "text_color": null
      }
     },
     "cacadf3019344cabb9d559fa98b4037f": {
      "model_module": "@jupyter-widgets/base",
      "model_module_version": "2.0.0",
      "model_name": "LayoutModel",
      "state": {
       "_model_module": "@jupyter-widgets/base",
       "_model_module_version": "2.0.0",
       "_model_name": "LayoutModel",
       "_view_count": null,
       "_view_module": "@jupyter-widgets/base",
       "_view_module_version": "2.0.0",
       "_view_name": "LayoutView",
       "align_content": null,
       "align_items": null,
       "align_self": null,
       "border_bottom": null,
       "border_left": null,
       "border_right": null,
       "border_top": null,
       "bottom": null,
       "display": null,
       "flex": null,
       "flex_flow": null,
       "grid_area": null,
       "grid_auto_columns": null,
       "grid_auto_flow": null,
       "grid_auto_rows": null,
       "grid_column": null,
       "grid_gap": null,
       "grid_row": null,
       "grid_template_areas": null,
       "grid_template_columns": null,
       "grid_template_rows": null,
       "height": null,
       "justify_content": null,
       "justify_items": null,
       "left": null,
       "margin": null,
       "max_height": null,
       "max_width": null,
       "min_height": null,
       "min_width": null,
       "object_fit": null,
       "object_position": null,
       "order": null,
       "overflow": null,
       "padding": null,
       "right": null,
       "top": null,
       "visibility": null,
       "width": null
      }
     },
     "d4bb96b40e9c44359cdc5dd0f2a968ab": {
      "model_module": "@jupyter-widgets/controls",
      "model_module_version": "2.0.0",
      "model_name": "HTMLStyleModel",
      "state": {
       "_model_module": "@jupyter-widgets/controls",
       "_model_module_version": "2.0.0",
       "_model_name": "HTMLStyleModel",
       "_view_count": null,
       "_view_module": "@jupyter-widgets/base",
       "_view_module_version": "2.0.0",
       "_view_name": "StyleView",
       "background": null,
       "description_width": "",
       "font_size": null,
       "text_color": null
      }
     },
     "ffaa6cd7462b4478881bc83ca328d30f": {
      "model_module": "@jupyter-widgets/base",
      "model_module_version": "2.0.0",
      "model_name": "LayoutModel",
      "state": {
       "_model_module": "@jupyter-widgets/base",
       "_model_module_version": "2.0.0",
       "_model_name": "LayoutModel",
       "_view_count": null,
       "_view_module": "@jupyter-widgets/base",
       "_view_module_version": "2.0.0",
       "_view_name": "LayoutView",
       "align_content": null,
       "align_items": null,
       "align_self": null,
       "border_bottom": null,
       "border_left": null,
       "border_right": null,
       "border_top": null,
       "bottom": null,
       "display": null,
       "flex": null,
       "flex_flow": null,
       "grid_area": null,
       "grid_auto_columns": null,
       "grid_auto_flow": null,
       "grid_auto_rows": null,
       "grid_column": null,
       "grid_gap": null,
       "grid_row": null,
       "grid_template_areas": null,
       "grid_template_columns": null,
       "grid_template_rows": null,
       "height": null,
       "justify_content": null,
       "justify_items": null,
       "left": null,
       "margin": null,
       "max_height": null,
       "max_width": null,
       "min_height": null,
       "min_width": null,
       "object_fit": null,
       "object_position": null,
       "order": null,
       "overflow": null,
       "padding": null,
       "right": null,
       "top": null,
       "visibility": null,
       "width": null
      }
     }
    },
    "version_major": 2,
    "version_minor": 0
   }
  }
 },
 "nbformat": 4,
 "nbformat_minor": 5
}