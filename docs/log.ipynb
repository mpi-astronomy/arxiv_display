{
 "cells": [
  {
   "cell_type": "markdown",
   "id": "92bcb855",
   "metadata": {
    "papermill": {
     "duration": 0.003758,
     "end_time": "2025-04-03T04:12:07.799065",
     "exception": false,
     "start_time": "2025-04-03T04:12:07.795307",
     "status": "completed"
    },
    "tags": []
   },
   "source": [
    "# MPIA Arxiv on Deck 2\n",
    "\n",
    "Contains the steps to produce the paper extractions."
   ]
  },
  {
   "cell_type": "code",
   "execution_count": 1,
   "id": "3a0d6e11",
   "metadata": {
    "execution": {
     "iopub.execute_input": "2025-04-03T04:12:07.806633Z",
     "iopub.status.busy": "2025-04-03T04:12:07.806032Z",
     "iopub.status.idle": "2025-04-03T04:12:08.314261Z",
     "shell.execute_reply": "2025-04-03T04:12:08.313604Z"
    },
    "papermill": {
     "duration": 0.513297,
     "end_time": "2025-04-03T04:12:08.315616",
     "exception": false,
     "start_time": "2025-04-03T04:12:07.802319",
     "status": "completed"
    },
    "tags": []
   },
   "outputs": [],
   "source": [
    "# Imports\n",
    "import os\n",
    "from IPython.display import Markdown, display\n",
    "from tqdm.notebook import tqdm\n",
    "import warnings\n",
    "from PIL import Image \n",
    "import re\n",
    "\n",
    "# requires arxiv_on_deck_2\n",
    "\n",
    "from arxiv_on_deck_2.arxiv2 import (get_new_papers, \n",
    "                                    get_paper_from_identifier,\n",
    "                                    retrieve_document_source, \n",
    "                                    get_markdown_badge)\n",
    "from arxiv_on_deck_2 import (latex,\n",
    "                             latex_bib,\n",
    "                             mpia,\n",
    "                             highlight_authors_in_list)\n",
    "\n",
    "# Sometimes images are really big\n",
    "Image.MAX_IMAGE_PIXELS = 1000000000 "
   ]
  },
  {
   "cell_type": "code",
   "execution_count": 2,
   "id": "22aa9d44",
   "metadata": {
    "execution": {
     "iopub.execute_input": "2025-04-03T04:12:08.322798Z",
     "iopub.status.busy": "2025-04-03T04:12:08.322548Z",
     "iopub.status.idle": "2025-04-03T04:12:08.330300Z",
     "shell.execute_reply": "2025-04-03T04:12:08.329776Z"
    },
    "papermill": {
     "duration": 0.012448,
     "end_time": "2025-04-03T04:12:08.331302",
     "exception": false,
     "start_time": "2025-04-03T04:12:08.318854",
     "status": "completed"
    },
    "tags": []
   },
   "outputs": [],
   "source": [
    "# Some useful definitions.\n",
    "\n",
    "class AffiliationWarning(UserWarning):\n",
    "    pass\n",
    "\n",
    "class AffiliationError(RuntimeError):\n",
    "    pass\n",
    "\n",
    "def validation(source: str):\n",
    "    \"\"\"Raises error paper during parsing of source file\n",
    "    \n",
    "    Allows checks before parsing TeX code.\n",
    "    \n",
    "    Raises AffiliationWarning\n",
    "    \"\"\"\n",
    "    check = mpia.affiliation_verifications(source, verbose=True)\n",
    "    if check is not True:\n",
    "        raise AffiliationError(\"mpia.affiliation_verifications: \" + check)\n",
    "\n",
    "        \n",
    "warnings.simplefilter('always', AffiliationWarning)\n",
    "\n",
    "\n",
    "def get_markdown_qrcode(paper_id: str):\n",
    "    \"\"\" Generate a qrcode to the arxiv page using qrserver.com\n",
    "    \n",
    "    :param paper: Arxiv paper\n",
    "    :returns: markdown text\n",
    "    \"\"\"\n",
    "    url = r\"https://api.qrserver.com/v1/create-qr-code/?size=100x100&data=\"\n",
    "    txt = f\"\"\"<img src={url}\"https://arxiv.org/abs/{paper_id}\">\"\"\"\n",
    "    txt = '<div id=\"qrcode\">' + txt + '</div>'\n",
    "    return txt\n",
    "\n",
    "\n",
    "def clean_non_western_encoded_characters_commands(text: str) -> str:\n",
    "    \"\"\" Remove non-western encoded characters from a string\n",
    "    List may need to grow.\n",
    "    \n",
    "    :param text: the text to clean\n",
    "    :return: the cleaned text\n",
    "    \"\"\"\n",
    "    text = re.sub(r\"(\\\\begin{CJK}{UTF8}{gbsn})(.*?)(\\\\end{CJK})\", r\"\\2\", text)\n",
    "    return text\n",
    "\n",
    "\n",
    "def get_initials(name: str) -> str:\n",
    "    \"\"\" Get the short name, e.g., A.-B. FamName\n",
    "    :param name: full name\n",
    "    :returns: initials\n",
    "    \"\"\"\n",
    "    initials = []\n",
    "    # account for non western names often in ()\n",
    "    if '(' in name:\n",
    "        name = clean_non_western_encoded_characters_commands(name)\n",
    "        suffix = re.findall(r\"\\((.*?)\\)\", name)[0]\n",
    "        name = name.replace(f\"({suffix})\", '')\n",
    "    else:\n",
    "        suffix = ''\n",
    "    split = name.split()\n",
    "    for token in split[:-1]:\n",
    "        if '-' in token:\n",
    "            current = '-'.join([k[0] + '.' for k in token.split('-')])\n",
    "        else:\n",
    "            current = token[0] + '.'\n",
    "        initials.append(current)\n",
    "    initials.append(split[-1].strip())\n",
    "    if suffix:\n",
    "        initials.append(f\"({suffix})\")\n",
    "    return ' '.join(initials)"
   ]
  },
  {
   "cell_type": "markdown",
   "id": "14bd6310",
   "metadata": {
    "papermill": {
     "duration": 0.002861,
     "end_time": "2025-04-03T04:12:08.337140",
     "exception": false,
     "start_time": "2025-04-03T04:12:08.334279",
     "status": "completed"
    },
    "tags": []
   },
   "source": [
    "## get list of arxiv paper candidates\n",
    "\n",
    "We use the MPIA mitarbeiter list webpage from mpia.de to get author names\n",
    "We then get all new papers from Arxiv and match authors"
   ]
  },
  {
   "cell_type": "code",
   "execution_count": 3,
   "id": "7ea813a8",
   "metadata": {
    "execution": {
     "iopub.execute_input": "2025-04-03T04:12:08.343952Z",
     "iopub.status.busy": "2025-04-03T04:12:08.343590Z",
     "iopub.status.idle": "2025-04-03T04:12:29.519563Z",
     "shell.execute_reply": "2025-04-03T04:12:29.518956Z"
    },
    "papermill": {
     "duration": 21.180716,
     "end_time": "2025-04-03T04:12:29.520780",
     "exception": false,
     "start_time": "2025-04-03T04:12:08.340064",
     "status": "completed"
    },
    "tags": []
   },
   "outputs": [],
   "source": [
    "# deal with the author list and edge cases of people that cannot be consistent on their name  \n",
    "\n",
    "def filter_non_scientists(name: str) -> bool:\n",
    "    \"\"\" Loose filter on expected authorships\n",
    "\n",
    "    removing IT, administration, technical staff\n",
    "    :param name: name\n",
    "    :returns: False if name is not a scientist\n",
    "    \"\"\"\n",
    "    remove_list = ['Licht', 'Binroth', 'Witzel', 'Jordan',\n",
    "                   'Zähringer', 'Scheerer', 'Hoffmann', 'Düe',\n",
    "                   'Hellmich', 'Enkler-Scharpegge', 'Witte-Nguy',\n",
    "                   'Dehen', 'Beckmann', 'Jager', 'Jäger'\n",
    "                  ]\n",
    "\n",
    "    for k in remove_list:\n",
    "        if k in name:\n",
    "            return False\n",
    "    return True\n",
    "\n",
    "def add_author_to_list(author_list: list) -> list:\n",
    "    \"\"\" Add author to list if not already in list\n",
    "    \n",
    "    :param author: author name\n",
    "    :param author_list: list of authors\n",
    "    :returns: updated list of authors\n",
    "    \"\"\"\n",
    "    add_list = ['T. Henning']\n",
    "\n",
    "    for author in add_list:\n",
    "        if author not in author_list:\n",
    "            author_list.append(author)\n",
    "    return author_list\n",
    "\n",
    "# get list from MPIA website\n",
    "# filter for non-scientists (mpia.get_mpia_mitarbeiter_list() does some filtering)\n",
    "mpia_authors = [k[1] for k in mpia.get_mpia_mitarbeiter_list() if filter_non_scientists(k[1])]\n",
    "# add some missing author because of inconsistencies in their MPIA name and author name on papers\n",
    "mpia_authors = add_author_to_list(mpia_authors)"
   ]
  },
  {
   "cell_type": "code",
   "execution_count": 4,
   "id": "2645e73a",
   "metadata": {
    "execution": {
     "iopub.execute_input": "2025-04-03T04:12:29.528462Z",
     "iopub.status.busy": "2025-04-03T04:12:29.527893Z",
     "iopub.status.idle": "2025-04-03T04:12:30.372810Z",
     "shell.execute_reply": "2025-04-03T04:12:30.372209Z"
    },
    "papermill": {
     "duration": 0.849627,
     "end_time": "2025-04-03T04:12:30.373815",
     "exception": false,
     "start_time": "2025-04-03T04:12:29.524188",
     "status": "completed"
    },
    "tags": []
   },
   "outputs": [
    {
     "name": "stdout",
     "output_type": "stream",
     "text": [
      "X. Zhang  ->  X. Zhang  |  ['X. Zhang']\n",
      "J. Liu  ->  J. Liu  |  ['J. Liu']\n",
      "J. Liu  ->  J. Liu  |  ['J. Liu']\n",
      "J. Li  ->  J. Li  |  ['J. Li']\n",
      "J. Liu  ->  J. Liu  |  ['J. Liu']\n",
      "J. Liu  ->  J. Liu  |  ['J. Liu']\n",
      "J. Liu  ->  J. Liu  |  ['J. Liu']\n",
      "J. Li  ->  J. Li  |  ['J. Li']\n"
     ]
    },
    {
     "name": "stdout",
     "output_type": "stream",
     "text": [
      "J. Braspenning  ->  J. Braspenning  |  ['J. Braspenning']\n",
      "F. Walter  ->  F. Walter  |  ['F. Walter']\n",
      "Arxiv has 85 new papers today\n",
      "          10 with possible author matches\n"
     ]
    }
   ],
   "source": [
    "new_papers = get_new_papers()\n",
    "# add manual references\n",
    "add_paper_refs = []\n",
    "new_papers.extend([get_paper_from_identifier(k) for k in add_paper_refs])\n",
    "\n",
    "def robust_call(fn, value, *args, **kwargs):\n",
    "    try:\n",
    "        return fn(value, *args, **kwargs)\n",
    "    except Exception:\n",
    "        return value\n",
    "\n",
    "candidates = []\n",
    "for paperk in new_papers:\n",
    "    # Check author list with their initials\n",
    "    normed_author_list = [robust_call(mpia.get_initials, k) for k in paperk['authors']]\n",
    "    hl_authors = highlight_authors_in_list(normed_author_list, mpia_authors, verbose=True)\n",
    "    matches = [(hl, orig) for hl, orig in zip(hl_authors, paperk['authors']) if 'mark' in hl]\n",
    "    paperk['authors'] = hl_authors\n",
    "    if matches:\n",
    "        # only select paper if an author matched our list\n",
    "        candidates.append(paperk)\n",
    "print(\"\"\"Arxiv has {0:,d} new papers today\"\"\".format(len(new_papers)))        \n",
    "print(\"\"\"          {0:,d} with possible author matches\"\"\".format(len(candidates)))"
   ]
  },
  {
   "cell_type": "markdown",
   "id": "3543b34a",
   "metadata": {
    "papermill": {
     "duration": 0.003092,
     "end_time": "2025-04-03T04:12:30.380460",
     "exception": false,
     "start_time": "2025-04-03T04:12:30.377368",
     "status": "completed"
    },
    "tags": []
   },
   "source": [
    "# Parse sources and generate relevant outputs\n",
    "\n",
    "From the candidates, we do the following steps:\n",
    "* get their tarball from ArXiv (and extract data)\n",
    "* find the main .tex file: find one with \\documentclass{...} (sometimes it's non trivial)\n",
    "* Check affiliations with :func:`validation`, which uses :func:`mpia.affiliation_verifications`\n",
    "* If passing the affiliations: we parse the .tex source\n",
    "   * inject sub-documents into the main (flatten the main document)\n",
    "   * parse structure, extract information (title, abstract, authors, figures...)\n",
    "   * handles `\\graphicspath` if provided\n",
    "* Generate the .md document."
   ]
  },
  {
   "cell_type": "code",
   "execution_count": 5,
   "id": "9576b79e",
   "metadata": {
    "execution": {
     "iopub.execute_input": "2025-04-03T04:12:30.387628Z",
     "iopub.status.busy": "2025-04-03T04:12:30.387263Z",
     "iopub.status.idle": "2025-04-03T04:13:31.925433Z",
     "shell.execute_reply": "2025-04-03T04:13:31.924526Z"
    },
    "papermill": {
     "duration": 61.547075,
     "end_time": "2025-04-03T04:13:31.930603",
     "exception": false,
     "start_time": "2025-04-03T04:12:30.383528",
     "status": "completed"
    },
    "scrolled": false,
    "tags": []
   },
   "outputs": [
    {
     "data": {
      "application/vnd.jupyter.widget-view+json": {
       "model_id": "a4e3d69a806e447480953664f1857c79",
       "version_major": 2,
       "version_minor": 0
      },
      "text/plain": [
       "  0%|          | 0/10 [00:00<?, ?it/s]"
      ]
     },
     "metadata": {},
     "output_type": "display_data"
    },
    {
     "name": "stdout",
     "output_type": "stream",
     "text": [
      "Retrieving document from  https://arxiv.org/e-print/2504.01076\n"
     ]
    },
    {
     "name": "stdout",
     "output_type": "stream",
     "text": [
      "extracting tarball to tmp_2504.01076..."
     ]
    },
    {
     "name": "stdout",
     "output_type": "stream",
     "text": [
      " done.\n",
      "Retrieving document from  https://arxiv.org/e-print/2504.01609\n"
     ]
    },
    {
     "name": "stderr",
     "output_type": "stream",
     "text": [
      "/opt/hostedtoolcache/Python/3.9.21/x64/lib/python3.9/site-packages/IPython/core/interactiveshell.py:3550: LatexWarning: Multiple tex files.\n",
      "\n",
      "  exec(code_obj, self.user_global_ns, self.user_ns)\n",
      "/opt/hostedtoolcache/Python/3.9.21/x64/lib/python3.9/site-packages/IPython/core/interactiveshell.py:3550: LatexWarning: Found documentclass in tmp_2504.01076/erass1_x_hscsr.tex\n",
      "\n",
      "  exec(code_obj, self.user_global_ns, self.user_ns)\n",
      "/opt/hostedtoolcache/Python/3.9.21/x64/lib/python3.9/site-packages/arxiv_on_deck_2/latex.py:414: LatexWarning: Latex injecting: 'bcg_images' from 'tmp_2504.01076/bcg_images.tex'\n",
      "  warnings.warn(LatexWarning(f\"Latex injecting: '{ext}' from '{subsource}'\"))\n",
      "/opt/hostedtoolcache/Python/3.9.21/x64/lib/python3.9/site-packages/arxiv_on_deck_2/latex.py:414: LatexWarning: Latex injecting: 'pplots/posteriors' from 'tmp_2504.01076/pplots/posteriors.tex'\n",
      "  warnings.warn(LatexWarning(f\"Latex injecting: '{ext}' from '{subsource}'\"))\n",
      "/opt/hostedtoolcache/Python/3.9.21/x64/lib/python3.9/site-packages/arxiv_on_deck_2/latex.py:414: LatexWarning: Latex injecting: 'pplots/measurements' from 'tmp_2504.01076/pplots/measurements.tex'\n",
      "  warnings.warn(LatexWarning(f\"Latex injecting: '{ext}' from '{subsource}'\"))\n",
      "/opt/hostedtoolcache/Python/3.9.21/x64/lib/python3.9/site-packages/arxiv_on_deck_2/latex.py:414: LatexWarning: Latex injecting: 'pplots/resultcommands' from 'tmp_2504.01076/pplots/resultcommands.tex'\n",
      "  warnings.warn(LatexWarning(f\"Latex injecting: '{ext}' from '{subsource}'\"))\n",
      "/opt/hostedtoolcache/Python/3.9.21/x64/lib/python3.9/site-packages/arxiv_on_deck_2/latex.py:414: LatexWarning: Latex injecting: 'newcommands' from 'tmp_2504.01076/newcommands.tex'\n",
      "  warnings.warn(LatexWarning(f\"Latex injecting: '{ext}' from '{subsource}'\"))\n"
     ]
    },
    {
     "name": "stdout",
     "output_type": "stream",
     "text": [
      "extracting tarball to tmp_2504.01609..."
     ]
    },
    {
     "name": "stdout",
     "output_type": "stream",
     "text": [
      " done.\n",
      "Retrieving document from  https://arxiv.org/e-print/2504.01610\n"
     ]
    },
    {
     "name": "stdout",
     "output_type": "stream",
     "text": [
      "extracting tarball to tmp_2504.01610... done.\n",
      "Retrieving document from  https://arxiv.org/e-print/2504.01613\n"
     ]
    },
    {
     "name": "stdout",
     "output_type": "stream",
     "text": [
      "extracting tarball to tmp_2504.01613... done.\n",
      "Retrieving document from  https://arxiv.org/e-print/2504.01614\n"
     ]
    },
    {
     "name": "stdout",
     "output_type": "stream",
     "text": [
      "extracting tarball to tmp_2504.01614... done.\n",
      "Retrieving document from  https://arxiv.org/e-print/2504.01615\n"
     ]
    },
    {
     "name": "stdout",
     "output_type": "stream",
     "text": [
      "extracting tarball to tmp_2504.01615... done.\n",
      "Retrieving document from  https://arxiv.org/e-print/2504.01616\n"
     ]
    },
    {
     "name": "stdout",
     "output_type": "stream",
     "text": [
      "extracting tarball to tmp_2504.01616..."
     ]
    },
    {
     "name": "stdout",
     "output_type": "stream",
     "text": [
      " done.\n",
      "Retrieving document from  https://arxiv.org/e-print/2504.01629\n"
     ]
    },
    {
     "name": "stdout",
     "output_type": "stream",
     "text": [
      "extracting tarball to tmp_2504.01629... done.\n",
      "Retrieving document from  https://arxiv.org/e-print/2504.01745\n"
     ]
    },
    {
     "name": "stdout",
     "output_type": "stream",
     "text": [
      "extracting tarball to tmp_2504.01745..."
     ]
    },
    {
     "name": "stdout",
     "output_type": "stream",
     "text": [
      " done.\n"
     ]
    },
    {
     "name": "stdout",
     "output_type": "stream",
     "text": [
      "J. Braspenning  ->  J. Braspenning  |  ['J. Braspenning']\n"
     ]
    },
    {
     "name": "stdout",
     "output_type": "stream",
     "text": [
      "Found 86 bibliographic references in tmp_2504.01745/aanda.bbl.\n",
      "Error retrieving bib data for migkas_cosmological_2021: 'author'\n",
      "Error retrieving bib data for migkas_cosmological_2021: 'author'\n",
      "Retrieving document from  https://arxiv.org/e-print/2504.01852\n"
     ]
    },
    {
     "name": "stdout",
     "output_type": "stream",
     "text": [
      "extracting tarball to tmp_2504.01852..."
     ]
    },
    {
     "name": "stdout",
     "output_type": "stream",
     "text": [
      " done.\n"
     ]
    },
    {
     "name": "stdout",
     "output_type": "stream",
     "text": [
      "F. Walter  ->  F. Walter  |  ['F. Walter']\n"
     ]
    },
    {
     "name": "stdout",
     "output_type": "stream",
     "text": [
      "Found 266 bibliographic references in tmp_2504.01852/manuscript.bbl.\n",
      "Error retrieving bib data for akins_cosmos-web_2024: 'author'\n",
      "Error retrieving bib data for akins_cosmos-web_2024: 'author'\n",
      "Error retrieving bib data for lin_discovery_2024: 'author'\n",
      "Error retrieving bib data for noboriguchi_extreme_2022: 'author'\n",
      "Error retrieving bib data for wang_rubies_2024: 'author'\n",
      "Error retrieving bib data for mazzolari_new_2024: 'author'\n",
      "Error retrieving bib data for harikane_jwstnirspec_2023: 'author'\n",
      "Error retrieving bib data for  nakajima_jwst_2023: 'author'\n",
      "Error retrieving bib data for  scholtz_jades_2023: 'author'\n",
      "Error retrieving bib data for  ubler_ga-nifs_2024: 'author'\n",
      "Error retrieving bib data for  juodzbalis_dormant_2024: 'author'\n",
      "Error retrieving bib data for  rinaldi_not_2024: 'author'\n",
      "Error retrieving bib data for rinaldi_not_2024: 'author'\n",
      "Error retrieving bib data for backhaus_emission-line_2025: 'author'\n",
      "Error retrieving bib data for matthee_deciphering_2022: 'author'\n",
      "Error retrieving bib data for abazajian_seventh_2009: 'author'\n",
      "Error retrieving bib data for seyfert_nuclear_1943: 'author'\n",
      "Error retrieving bib data for  izotov_chemical_2006: 'author'\n",
      "Error retrieving bib data for  berg_direct_2012: 'author'\n",
      "Error retrieving bib data for   amorin_extreme_2015: 'author'\n",
      "Error retrieving bib data for  perna_x-raysdss_2017: 'author'\n",
      "Error retrieving bib data for  yang_blueberry_2017: 'author'\n",
      "Error retrieving bib data for  yang_ly_2017: 'author'\n",
      "Error retrieving bib data for  izotov_j08114730_2018: 'author'\n",
      "Error retrieving bib data for  dors_chemical_2020: 'author'\n",
      "Error retrieving bib data for  armah_chemical_2021: 'author'\n",
      "Error retrieving bib data for   pustilnik_xmp_2021: 'author'\n"
     ]
    }
   ],
   "source": [
    "documents = []\n",
    "failed = []\n",
    "for paper in tqdm(candidates):\n",
    "    # debug crap\n",
    "    paper['identifier'] = paper['identifier'].lower().replace('arxiv:', '').replace(r'\\n', '').strip()\n",
    "    paper_id = paper['identifier']\n",
    "    \n",
    "    folder = f'tmp_{paper_id}'\n",
    "\n",
    "    try:\n",
    "        if not os.path.isdir(folder):\n",
    "            folder = retrieve_document_source(f\"{paper_id}\", f'tmp_{paper_id}')\n",
    "        \n",
    "        try:\n",
    "            doc = latex.LatexDocument(folder, validation=validation)    \n",
    "        except AffiliationError as affilerror:\n",
    "            msg = f\"ArXiv:{paper_id:s} is not an MPIA paper... \" + str(affilerror)\n",
    "            failed.append((paper, \"affiliation error: \" + str(affilerror) ))\n",
    "            continue\n",
    "        \n",
    "        # Hack because sometimes author parsing does not work well\n",
    "        if (len(doc.authors) != len(paper['authors'])):\n",
    "            doc._authors = paper['authors']\n",
    "        else:\n",
    "            # highlight authors (FIXME: doc.highlight_authors)\n",
    "            # done on arxiv paper already\n",
    "            doc._authors = highlight_authors_in_list(\n",
    "                [get_initials(k) for k in doc.authors], \n",
    "                mpia_authors, verbose=True)\n",
    "        if (doc.abstract) in (None, ''):\n",
    "            doc._abstract = paper['abstract']\n",
    "            \n",
    "        doc.comment = (get_markdown_badge(paper_id) + \n",
    "                       \"<mark>Appeared on: \" + paper['date'] + \"</mark> - \")\n",
    "        if paper['comments']:\n",
    "            doc.comment += \" _\" + paper['comments'] + \"_\"\n",
    "        \n",
    "        full_md = doc.generate_markdown_text()\n",
    "        \n",
    "        full_md += get_markdown_qrcode(paper_id)\n",
    "        \n",
    "        # replace citations\n",
    "        try:\n",
    "            bibdata = latex_bib.LatexBib.from_doc(doc)\n",
    "            full_md = latex_bib.replace_citations(full_md, bibdata)\n",
    "        except Exception as e:\n",
    "            print(\"Issues with the citations\")\n",
    "            print(e)\n",
    "        \n",
    "        documents.append((paper_id, full_md))\n",
    "    except Exception as e:\n",
    "        warnings.warn(latex.LatexWarning(f\"{paper_id:s} did not run properly\\n\" +\n",
    "                                         str(e)\n",
    "                                        ))\n",
    "        failed.append((paper, \"latex error \" + str(e)))"
   ]
  },
  {
   "cell_type": "markdown",
   "id": "2505a25c",
   "metadata": {
    "papermill": {
     "duration": 0.004194,
     "end_time": "2025-04-03T04:13:31.939185",
     "exception": false,
     "start_time": "2025-04-03T04:13:31.934991",
     "status": "completed"
    },
    "tags": []
   },
   "source": [
    "### Export the logs\n",
    "\n",
    "Throughout, we also keep track of the logs per paper. see `logs-{today date}.md` "
   ]
  },
  {
   "cell_type": "code",
   "execution_count": 6,
   "id": "d733828a",
   "metadata": {
    "execution": {
     "iopub.execute_input": "2025-04-03T04:13:31.948533Z",
     "iopub.status.busy": "2025-04-03T04:13:31.948240Z",
     "iopub.status.idle": "2025-04-03T04:13:31.969360Z",
     "shell.execute_reply": "2025-04-03T04:13:31.968724Z"
    },
    "papermill": {
     "duration": 0.027127,
     "end_time": "2025-04-03T04:13:31.970442",
     "exception": false,
     "start_time": "2025-04-03T04:13:31.943315",
     "status": "completed"
    },
    "scrolled": false,
    "tags": []
   },
   "outputs": [
    {
     "data": {
      "text/markdown": [
       "## Successful papers"
      ],
      "text/plain": [
       "<IPython.core.display.Markdown object>"
      ]
     },
     "metadata": {},
     "output_type": "display_data"
    },
    {
     "data": {
      "text/markdown": [
       "\n",
       "|||\n",
       "|---:|:---|\n",
       "| [![arXiv](https://img.shields.io/badge/arXiv-2504.01745-b31b1b.svg)](https://arxiv.org/abs/2504.01745) | **Characterising galaxy cluster scaling relations as cosmic isotropy tracers using the FLAMINGO simulations**  |\n",
       "|| Y. He, et al. -- incl., <mark>J. Braspenning</mark> |\n",
       "|*Appeared on*| *2025-04-03*|\n",
       "|*Comments*| *17 pages, 7 figures, submitted to A&A*|\n",
       "|**Abstract**|            The standard cosmological model, $\\Lambda$CDM, assumes isotropy on large cosmic scales. However, recent studies using galaxy cluster scaling relations reported an apparent $H_0$ anisotropy at $5.4\\sigma$ that could be attributed to large bulk flows extending beyond $500\\,\\mathrm{Mpc}$, in disagreement with $\\Lambda$CDM. To quantify the statistical tension of the observational galaxy cluster data used in past studies with $\\Lambda$CDM, we utilise the isotropic ($2.8\\,\\mathrm{Gpc})^3$ run of the FLAMINGO ($\\Lambda$CDM) simulations, the largest hydrodynamical cosmological simulation available to date. We create 1728 simulated lightcones and study the apparent level of anisotropy traced by X-ray and thermal Sunyaev-Zeldovich scaling relations in the same cluster sample selection and methodology as in Migkas et al. (2021, arXiv:2103.13904). We find the probability of such apparent anisotropies randomly emerging in cluster scaling relations within a $\\Lambda$CDM universe to be $0.12\\%\\, (3.2\\sigma)$. The discrepancy goes up to $\\sim 3.6\\sigma$ when modelled as a bulk flow at $z < 0.1$. We find that statistical noise accounts for over $80\\%$ of the anisotropy amplitude in each lightcone, with large peculiar velocities contributing less than $20\\%$. We also show that anisotropy amplitudes are highly sensitive to the intrinsic scatter in the scaling relations, with tighter relations providing stronger constraints. Nevertheless, the tension between Migkas et al. (2021, arXiv:2103.13904) and $\\Lambda$CDM persists, however, at a lower significance than previously reported.         |"
      ],
      "text/plain": [
       "[2504.01745] Characterising galaxy cluster scaling relations as cosmic isotropy tracers using the FLAMINGO simulations\n",
       "\tY. He, et al. -- incl., <mark>J. Braspenning</mark>"
      ]
     },
     "metadata": {},
     "output_type": "display_data"
    },
    {
     "data": {
      "text/markdown": [
       "\n",
       "|||\n",
       "|---:|:---|\n",
       "| [![arXiv](https://img.shields.io/badge/arXiv-2504.01852-b31b1b.svg)](https://arxiv.org/abs/2504.01852) | **Deciphering the Nature of Virgil: An Obscured AGN Lurking Within an Apparently Normal Lyman-α Emitter During Cosmic Reionization**  |\n",
       "|| P. Rinaldi, et al. -- incl., <mark>F. Walter</mark> |\n",
       "|*Appeared on*| *2025-04-03*|\n",
       "|*Comments*| *39 pages, 3 tables, 14 figures. Submitted to ApJ*|\n",
       "|**Abstract**|            We present a comprehensive analysis of the MIRI Extremely Red Object Virgil, a Lyman-$\\alpha$ emitter at $z_{spec} = 6.6379 \\pm 0.0035$ with the photometric properties of a Little Red Dot. Leveraging new JWST/MIRI imaging from the MIDIS and PAHSPECS programs, we confirm Virgil's extraordinary nature among galaxies in JADES/GOODS-South, exhibiting a strikingly red NIRCam-to-MIRI color (F444W $-$ F1500W = $2.84\\pm0.04$~mag). Deep NIRSpec/PRISM spectroscopy from the OASIS program offers key insights into the host galaxy, revealing properties of an average star-forming galaxy during Cosmic Reionization, such as a subsolar metallicity, low-to-moderate dust content, and a relatively high ionization parameter and electron temperature. By estimating the star formation rate of Virgil from UV and H$\\alpha$, we find evidence that the galaxy is either entering or fading out of a bursty episode. Although line-ratio diagnostics employed at high-$z$ would classify Virgil as an Active Galactic Nucleus (AGN), this classification becomes ambiguous once redshift evolution is considered. Nonetheless, Virgil occupies the same parameter space as recently confirmed AGNs at similar redshifts. The new deep MIRI data at 15~$\\mu$m reinforce the AGN nature of Virgil, as inferred from multiple spectral energy distribution (SED) fitting codes. Virgil's rising infrared SED and UV excess resemble those of Dust-Obscured Galaxies (DOGs) studied with Spitzer at Cosmic Noon, particularly blue-excess HotDOGs. Our results highlight the need for a multi-wavelength approach incorporating MIRI to uncover such extreme sources at $z\\gtrsim6$ and to shed light on the interplay between galaxy evolution and early black hole growth during Cosmic Reionization.         |"
      ],
      "text/plain": [
       "[2504.01852] Deciphering the Nature of Virgil: An Obscured AGN Lurking Within an Apparently Normal Lyman-α Emitter During Cosmic Reionization\n",
       "\tP. Rinaldi, et al. -- incl., <mark>F. Walter</mark>"
      ]
     },
     "metadata": {},
     "output_type": "display_data"
    },
    {
     "data": {
      "text/markdown": [
       "## Failed papers"
      ],
      "text/plain": [
       "<IPython.core.display.Markdown object>"
      ]
     },
     "metadata": {},
     "output_type": "display_data"
    },
    {
     "data": {
      "text/markdown": [
       "\n",
       "|||\n",
       "|---:|:---|\n",
       "| [![arXiv](https://img.shields.io/badge/arXiv-2504.01076-b31b1b.svg)](https://arxiv.org/abs/2504.01076) | **The SRG/eROSITA All-Sky Survey. The Weak-Lensing Mass Calibration and the Stellar Mass-to-Halo Mass Relation from the Hyper Suprime-Cam Subaru Strategic Program**  |\n",
       "|| I.-N. Chiu, et al. -- incl., <mark>X. Zhang</mark> |\n",
       "|*Appeared on*| *2025-04-03*|\n",
       "|*Comments*| *26 pages, 10 figures. Submitted to A&A*|\n",
       "|**Abstract**|            We present the weak-lensing mass calibration of 124 galaxy clusters and groups at redshift $0.1<z<0.8$ in the first Data Release of the $eROSITA$ All-Sky Survey ($eRASS1$) and constrain their BCG stellar-mass-to-halo-mass-and-redshift relation, using the data sets from the Hyper Suprime-Cam (HSC) Subaru Strategic Program. The cluster survey is conducted by the $eROSITA$ X-ray telescope aboard the Spectrum-Roentgen-Gamma space observatory. The cluster sample is X-ray-selected and optically confirmed with a negligibly low contamination rate. On a basis of individual clusters, the shear profiles of $96$ clusters are derived using the HSC Three-Year weak-lensing data, while the BCG stellar masses $M_{\\star,\\mathrm{BCG}}$ of $101$ clusters are estimated using the SED template fitting to the HSC five-band photometry. The count rate ($C_{\\mathrm{R}}-M-z$) and BCG stellar mass ($M_{\\star,\\mathrm{BCG}}-M-z$) relations are simultaneously constrained in a population modelling. The $C_{\\mathrm{R}}-M-z$ relation reveals a mass trend of $\\propto M^{1.50^{+0.20}_{-0.30}}$, which is steeper than the self-similar prediction, and no deviation from the self-similar redshift scaling. We obtain the power-law indices of the mass ($B_{\\mathrm{BCG}} = 0.25^{+0.11}_{-0.15}$) and redshift ($\\gamma_{\\mathrm{BCG}} = 0.87^{+0.92}_{-0.78}$) scaling for the $M_{\\star,\\mathrm{BCG}}-M-z$ relation, and find a strong degeneracy between them. By adopting an informative prior on $\\gamma_{\\mathrm{BCG}}$ to break the degeneracy, we obtain a statistically consistent $M_{\\star,\\mathrm{BCG}}-M-z$ relation. Our results suggest that the BCG stellar mass at a fixed halo mass has remained stable with a moderate increase since redshift $z\\approx0.8$. This finding supports the picture of the ``rapid-then-slow'' BCG formation, where the majority of the stellar mass must have been assembled at much earlier cosmic time.         |\n",
       "|<p style=\"color:green\"> **ERROR** </p>| <p style=\"color:green\">affiliation error: mpia.affiliation_verifications: '69117' keyword not found.</p> |"
      ],
      "text/plain": [
       "<IPython.core.display.Markdown object>"
      ]
     },
     "metadata": {},
     "output_type": "display_data"
    },
    {
     "data": {
      "text/markdown": [
       "\n",
       "|||\n",
       "|---:|:---|\n",
       "| [![arXiv](https://img.shields.io/badge/arXiv-2504.01609-b31b1b.svg)](https://arxiv.org/abs/2504.01609) | **The Mini-SiTian Array: the mini-SiTian Realtime Image Processing pipeline (STRIP)**  |\n",
       "|| H. Gu, et al. -- incl., <mark>J. Liu</mark> |\n",
       "|*Appeared on*| *2025-04-03*|\n",
       "|*Comments*| *17 pages, 9 figures. Accepted for publication in a special issue of Research in Astronomy and Astrophysics on the Mini-SiTian Array*|\n",
       "|**Abstract**|            This paper provides a comprehensive introduction to the Mini-SiTian Real-Time Image Processing pipeline (STRIP) and evaluates its operational performance. The STRIP pipeline is specifically designed for real-time alert triggering and light curve generation for transient sources. By applying the STRIP pipeline to both simulated and real observational data of the Mini-SiTian survey, it successfully identified various types of variable sources, including stellar flares, supernovae, variable stars, and asteroids, while meeting requirements of reduction speed within 5 minutes. For the real observational dataset, the pipeline detected 1 flare event, 127 variable stars, and 14 asteroids from three monitored sky regions. Additionally, two datasets were generated: one, a real-bogus training dataset comprising 218,818 training samples, and the other, a variable star light curve dataset with 421 instances. These datasets will be used to train machine learning algorithms, which are planned for future integration into STRIP.         |\n",
       "|<p style=\"color:green\"> **ERROR** </p>| <p style=\"color:green\">affiliation error: mpia.affiliation_verifications: 'Heidelberg' keyword not found.</p> |"
      ],
      "text/plain": [
       "<IPython.core.display.Markdown object>"
      ]
     },
     "metadata": {},
     "output_type": "display_data"
    },
    {
     "data": {
      "text/markdown": [
       "\n",
       "|||\n",
       "|---:|:---|\n",
       "| [![arXiv](https://img.shields.io/badge/arXiv-2504.01610-b31b1b.svg)](https://arxiv.org/abs/2504.01610) | **The Mini-SiTian Array: White Paper**  |\n",
       "|| H. Han, et al. -- incl., <mark>J. Liu</mark> |\n",
       "|*Appeared on*| *2025-04-03*|\n",
       "|*Comments*| *11 pages, 2 figures, Accepted for publication in a special issue of Research in Astronomy and Astrophysics on the Mini-SiTian Array*|\n",
       "|**Abstract**|            This paper outlines the scientific goals and observational strategies of the Mini-SiTian array. Mounted at Xinglong Observatory, the Mini-SiTian array consists of three 30 cm telescopes and has been in operation since 2022. The large field of view, combined with the capability for multi-band photometric observations, enables the Mini-SiTian array to perform rapid follow-up observations to identify optical counterparts of gravitational waves, capture the early light curves of tidal disruption events and supernovae, and monitor stellar flares, Be star outbursts, and cataclysmic variable stars, although its limiting magnitude is not very deep. By collaborating with the Xinglong 2.16-m telescope and leveraging a real-time image processing pipeline, simultaneous photometric and spectroscopic observations could be performed to reveal their underlying physical mechanisms. The observational and research experience provide critical guidance for the implementation of the full-scale SiTian project in the future.         |\n",
       "|<p style=\"color:green\"> **ERROR** </p>| <p style=\"color:green\">affiliation error: mpia.affiliation_verifications: 'Heidelberg' keyword not found.</p> |"
      ],
      "text/plain": [
       "<IPython.core.display.Markdown object>"
      ]
     },
     "metadata": {},
     "output_type": "display_data"
    },
    {
     "data": {
      "text/markdown": [
       "\n",
       "|||\n",
       "|---:|:---|\n",
       "| [![arXiv](https://img.shields.io/badge/arXiv-2504.01613-b31b1b.svg)](https://arxiv.org/abs/2504.01613) | **The Mini-SiTian Array: Design and application of Master Control System**  |\n",
       "|| Z. Wang, et al. -- incl., <mark>J. Li</mark> |\n",
       "|*Appeared on*| *2025-04-03*|\n",
       "|*Comments*| *16 pages, 7 figures, Accepted for publication in a special issue of Research in Astronomy and Astrophysics on the Mini-SiTian Array*|\n",
       "|**Abstract**|            The SiTian Project represents a groundbreaking initiative in astronomy, aiming to deploy a global network of telescopes, each with a 1-meter aperture, for comprehensive time-domain sky surveys. The network's innovative architecture features multiple observational nodes, each comprising three strategically aligned telescopes equipped with filters. This design enables three-color (g, r, i) channel imaging within each node, facilitating precise and coordinated observations. As a pathfinder to the full-scale project, the Mini-SiTian Project serves as the scientific and technological validation platform, utilizing three 30-centimeter aperture telescopes to validate the methodologies and technologies planned for the broader SiTian network. This paper focuses on the development and implementation of the Master Control System (MCS),and the central command hub for the Mini-SiTian array. The MCS is designed to facilitate seamless communication with the SiTian Brain, the project's central processing and decision-making unit, while ensuring accurate task allocation, real-time status monitoring, and optimized observational workflows. The system adopts a robust architecture that separates front-end and back-end functionalities.A key innovation of the MCS is its ability to dynamically adjust observation plans in response to transient source alerts, enabling rapid and coordinated scans of target sky regions...(abridged)         |\n",
       "|<p style=\"color:green\"> **ERROR** </p>| <p style=\"color:green\">affiliation error: mpia.affiliation_verifications: 'Heidelberg' keyword not found.</p> |"
      ],
      "text/plain": [
       "<IPython.core.display.Markdown object>"
      ]
     },
     "metadata": {},
     "output_type": "display_data"
    },
    {
     "data": {
      "text/markdown": [
       "\n",
       "|||\n",
       "|---:|:---|\n",
       "| [![arXiv](https://img.shields.io/badge/arXiv-2504.01614-b31b1b.svg)](https://arxiv.org/abs/2504.01614) | **Searching for kilonova with the SiTian prototype telescope**  |\n",
       "|| Z. Li, et al. -- incl., <mark>J. Liu</mark> |\n",
       "|*Appeared on*| *2025-04-03*|\n",
       "|*Comments*| *16 pages, 7 figures. Accepted for publication in a special issue of Research in Astronomy and Astrophysics on the Mini-SiTian Array*|\n",
       "|**Abstract**|            We simulate the optical searching of gravitational-wave electromagnetic counterpart of the binary neutron star (BNS) merger event (i.e., a kilonova) using the ground based {\\it SiTian} project prototype telescope with a 5-min limiting magnitude of 22.0, triggered by LIGO and Virgo gravitational wave detectors during the ongoing O4 run. Our simulations show that an average of 0.17-0.25 kilonova events can be observed over the entire O4 period of $\\sim 2$ years in the most optimistic case we set, while no kilonova can be detected in other cases. We note that it is beneficial for {\\it SiTian}'s kilonova searching by extending the exposure time to gain deeper limiting magnitude despite the rapid decline of kilonova luminosity.         |\n",
       "|<p style=\"color:green\"> **ERROR** </p>| <p style=\"color:green\">affiliation error: mpia.affiliation_verifications: 'Heidelberg' keyword not found.</p> |"
      ],
      "text/plain": [
       "<IPython.core.display.Markdown object>"
      ]
     },
     "metadata": {},
     "output_type": "display_data"
    },
    {
     "data": {
      "text/markdown": [
       "\n",
       "|||\n",
       "|---:|:---|\n",
       "| [![arXiv](https://img.shields.io/badge/arXiv-2504.01615-b31b1b.svg)](https://arxiv.org/abs/2504.01615) | **The Mini-SiTian Array: A Pathfinder for the SiTian Project**  |\n",
       "|| Y. Huang, et al. -- incl., <mark>J. Liu</mark> |\n",
       "|*Appeared on*| *2025-04-03*|\n",
       "|*Comments*| *4 pages, Accepted for publication in a special issue of Research in Astronomy and Astrophysics on the Mini-SiTian Array*|\n",
       "|**Abstract**|            The Mini-SiTian Array serves as a pathfinder for the SiTian project, which aims to survey the entire sky in $gri$ bands every 30 minutes, reaching a limiting magnitude of 21. This special issue features 11 papers covering the design, operation, data reduction, and early scientific results from two years of Mini-SiTian observations. The insights gained from these pathfinder experiments represent a significant milestone toward the full realization of the SiTian project.         |\n",
       "|<p style=\"color:green\"> **ERROR** </p>| <p style=\"color:green\">affiliation error: mpia.affiliation_verifications: 'Heidelberg' keyword not found.</p> |"
      ],
      "text/plain": [
       "<IPython.core.display.Markdown object>"
      ]
     },
     "metadata": {},
     "output_type": "display_data"
    },
    {
     "data": {
      "text/markdown": [
       "\n",
       "|||\n",
       "|---:|:---|\n",
       "| [![arXiv](https://img.shields.io/badge/arXiv-2504.01616-b31b1b.svg)](https://arxiv.org/abs/2504.01616) | **The Mini-SiTian Array: Imaging Processing Pipeline**  |\n",
       "|| K. Xiao, et al. -- incl., <mark>J. Liu</mark> |\n",
       "|*Appeared on*| *2025-04-03*|\n",
       "|*Comments*| *24 pages, 17 figures, 1 table, accepted for publication in a special issue of Research in Astronomy and Astrophysics on the Mini-SiTian Array, see main results in Figures 11, 12, and 15*|\n",
       "|**Abstract**|            As a pathfinder of the SiTian project, the Mini-SiTian (MST) array, employed three commercial CMOS cameras, represents a next-generation, cost-effective optical time-domain survey project. This paper focuses primarily on the precise data processing pipeline designed for wide-field, CMOS-based devices, including the removal of instrumental effects, astrometry, photometry, and flux calibration. When applying this pipeline to approximately 3000 observations taken in the Field 02 (f02) region by MST, the results demonstrate a remarkable astrometric precision of approximately 70--80\\,mas (about 0.1\\,pixel), an impressive calibration accuracy of approximately 1\\,mmag in the MST zero points, and a photometric accuracy of about 4\\,mmag for bright stars. Our studies demonstrate that MST CMOS can achieve photometric accuracy comparable to that of CCDs, highlighting the feasibility of large-scale CMOS-based optical time-domain surveys and their potential applications for cost optimization in future large-scale time-domain surveys, like the SiTian project.         |\n",
       "|<p style=\"color:green\"> **ERROR** </p>| <p style=\"color:green\">affiliation error: mpia.affiliation_verifications: 'Heidelberg' keyword not found.</p> |"
      ],
      "text/plain": [
       "<IPython.core.display.Markdown object>"
      ]
     },
     "metadata": {},
     "output_type": "display_data"
    },
    {
     "data": {
      "text/markdown": [
       "\n",
       "|||\n",
       "|---:|:---|\n",
       "| [![arXiv](https://img.shields.io/badge/arXiv-2504.01629-b31b1b.svg)](https://arxiv.org/abs/2504.01629) | **A 0.3\\% calibration of the W UMa-type contact binary luminosity based on Gaia DR3**  |\n",
       "|| <mark>J. Li</mark>, et al. |\n",
       "|*Appeared on*| *2025-04-03*|\n",
       "|*Comments*| *11 pages, 10 figures, accepted in MNRAS*|\n",
       "|**Abstract**|            W Ursa Majoris (W UMa)-type contact binary systems (CBs) with period--luminosity (PL) relations are valuable distance indicators. The PL relations of CBs are affected by metallicity. Here, we establish PL relations and period--luminosity--metallicity (PLZ) relations in nine bands from optical to mid-infrared ($BP$, $G$, $RP$, $J$, $H$, $K_S$, $W1$, $W2$, $W3$) and in five Wesenheit bands based on Gaia DR3 parallaxes. The dispersion of PLZ relations gradually decreases from the optical to mid-infrared bands, with the minimum dispersion of 0.138 mag. We fit the best PL relations for three bands ($W1$, $W_{G,BP,RP}$, $W_{W1,BP,RP}$) under different parallax uncertainty criteria and determine a parallax (after correction) zero point of $zp_\\varpi=24\\pm4$ $\\mu$as. After fixing the parallax zero point, we find that the total zero errors of the PL and PLZ relation are smallest when the parallax uncertainty is less than 2\\%, resulting in a calibrated CB luminosity with an accuracy of 0.33\\%, which is more accurate than the classical Cepheids. Furthermore, by examining the absolute magnitude residuals in different metallicity intervals, we find that the use of a linear metallicity effect is appropriate for CBs with different metallicities. These results indicate that CBs are excellent standard candles.         |\n",
       "|<p style=\"color:green\"> **ERROR** </p>| <p style=\"color:green\">affiliation error: mpia.affiliation_verifications: 'Heidelberg' keyword not found.</p> |"
      ],
      "text/plain": [
       "<IPython.core.display.Markdown object>"
      ]
     },
     "metadata": {},
     "output_type": "display_data"
    }
   ],
   "source": [
    "import datetime\n",
    "today = str(datetime.date.today())\n",
    "logfile = f\"_build/html/logs/log-{today}.md\"\n",
    "\n",
    "\n",
    "with open(logfile, 'w') as logs:\n",
    "    # Success\n",
    "    logs.write(f'# Arxiv on Deck 2: Logs - {today}\\n\\n')\n",
    "    logs.write(\"\"\"* Arxiv had {0:,d} new papers\\n\"\"\".format(len(new_papers)))\n",
    "    logs.write(\"\"\"    * {0:,d} with possible author matches\\n\\n\"\"\".format(len(candidates)))\n",
    "    logs.write(\"## Sucessful papers\\n\\n\")\n",
    "    display(Markdown(\"## Successful papers\"))\n",
    "    success = [k[0] for k in documents]\n",
    "    for candid in candidates:\n",
    "        if candid['identifier'].split(':')[-1] in success:\n",
    "            display(candid)\n",
    "            logs.write(candid.generate_markdown_text() + '\\n\\n')\n",
    "\n",
    "    ## failed\n",
    "    logs.write(\"## Failed papers\\n\\n\")\n",
    "    display(Markdown(\"## Failed papers\"))\n",
    "    failed = sorted(failed, key=lambda x: x[1])\n",
    "    current_reason = \"\"\n",
    "    for paper, reason in failed:\n",
    "        if 'affiliation' in reason:\n",
    "            color = 'green'\n",
    "        else:\n",
    "            color = 'red'\n",
    "        data = Markdown(\n",
    "                paper.generate_markdown_text() + \n",
    "                f'\\n|<p style=\"color:{color:s}\"> **ERROR** </p>| <p style=\"color:{color:s}\">{reason:s}</p> |'\n",
    "               )\n",
    "        if reason != current_reason:\n",
    "            logs.write(f'### {reason:s} \\n\\n')\n",
    "            current_reason = reason\n",
    "        logs.write(data.data + '\\n\\n')\n",
    "        \n",
    "        # only display here the important errors (all in logs)\n",
    "        # if color in ('red',):\n",
    "        display(data)"
   ]
  },
  {
   "cell_type": "markdown",
   "id": "472d20ee",
   "metadata": {
    "papermill": {
     "duration": 0.005291,
     "end_time": "2025-04-03T04:13:31.981262",
     "exception": false,
     "start_time": "2025-04-03T04:13:31.975971",
     "status": "completed"
    },
    "tags": []
   },
   "source": [
    "## Export documents\n",
    "\n",
    "We now write the .md files and export relevant images"
   ]
  },
  {
   "cell_type": "code",
   "execution_count": 7,
   "id": "d426aed9",
   "metadata": {
    "execution": {
     "iopub.execute_input": "2025-04-03T04:13:31.992979Z",
     "iopub.status.busy": "2025-04-03T04:13:31.992514Z",
     "iopub.status.idle": "2025-04-03T04:13:31.999270Z",
     "shell.execute_reply": "2025-04-03T04:13:31.998733Z"
    },
    "papermill": {
     "duration": 0.013693,
     "end_time": "2025-04-03T04:13:32.000282",
     "exception": false,
     "start_time": "2025-04-03T04:13:31.986589",
     "status": "completed"
    },
    "tags": []
   },
   "outputs": [],
   "source": [
    "def export_markdown_summary(md: str, md_fname:str, directory: str):\n",
    "    \"\"\"Export MD document and associated relevant images\"\"\"\n",
    "    import os\n",
    "    import shutil\n",
    "    import re\n",
    "\n",
    "    if (os.path.exists(directory) and not os.path.isdir(directory)):\n",
    "        raise RuntimeError(f\"a non-directory file exists with name {directory:s}\")\n",
    "\n",
    "    if (not os.path.exists(directory)):\n",
    "        print(f\"creating directory {directory:s}\")\n",
    "        os.mkdir(directory)\n",
    "\n",
    "    fig_fnames = (re.compile(r'\\[Fig.*\\]\\((.*)\\)').findall(md) + \n",
    "                  re.compile(r'\\<img src=\"([^>\\s]*)\"[^>]*/>').findall(md))\n",
    "    print(\"found figures\", fig_fnames)\n",
    "    for fname in fig_fnames:\n",
    "        if 'http' in fname:\n",
    "            # No need to copy online figures\n",
    "            continue\n",
    "        if not os.path.exists(fname):\n",
    "            print(\"file not found\", fname)\n",
    "            continue\n",
    "        print(\"copying \", fname, \"to\", directory)\n",
    "        destdir = os.path.join(directory, os.path.dirname(fname))\n",
    "        destfname = os.path.join(destdir, os.path.basename(fname))\n",
    "        try:\n",
    "            os.makedirs(destdir)\n",
    "        except FileExistsError:\n",
    "            pass\n",
    "        shutil.copy(fname, destfname)\n",
    "    with open(os.path.join(directory, md_fname), 'w') as fout:\n",
    "        fout.write(md)\n",
    "    print(\"exported in \", os.path.join(directory, md_fname))\n",
    "    [print(\"    + \" + os.path.join(directory,fk)) for fk in fig_fnames]"
   ]
  },
  {
   "cell_type": "code",
   "execution_count": 8,
   "id": "014d04a4",
   "metadata": {
    "execution": {
     "iopub.execute_input": "2025-04-03T04:13:32.012221Z",
     "iopub.status.busy": "2025-04-03T04:13:32.011770Z",
     "iopub.status.idle": "2025-04-03T04:13:32.021755Z",
     "shell.execute_reply": "2025-04-03T04:13:32.021245Z"
    },
    "papermill": {
     "duration": 0.016945,
     "end_time": "2025-04-03T04:13:32.022777",
     "exception": false,
     "start_time": "2025-04-03T04:13:32.005832",
     "status": "completed"
    },
    "tags": []
   },
   "outputs": [
    {
     "name": "stdout",
     "output_type": "stream",
     "text": [
      "found figures ['tmp_2504.01745/./figures/evs_joint.png', 'tmp_2504.01745/./figures/evs_joint_m21.png', 'tmp_2504.01745/./figures/evs_joint_scatter.png', 'tmp_2504.01745/./figures/evs_joint_m21_scatter.png', 'tmp_2504.01745/./figures/h0mc_hist_joint_combined.png', 'tmp_2504.01745/./figures/h0_scan_hist_LTYTMT.png', 'tmp_2504.01745/./figures/h0mc_hist_LTYTMT.png', 'tmp_2504.01745/./figures/h0_scan_hist_LTYTMT_scatter.png', 'tmp_2504.01745/./figures/h0mc_hist_LTYTMT_scatter.png']\n",
      "copying  tmp_2504.01745/./figures/evs_joint.png to _build/html/\n",
      "copying  tmp_2504.01745/./figures/evs_joint_m21.png to _build/html/\n",
      "copying  tmp_2504.01745/./figures/evs_joint_scatter.png to _build/html/\n",
      "copying  tmp_2504.01745/./figures/evs_joint_m21_scatter.png to _build/html/\n",
      "copying  tmp_2504.01745/./figures/h0mc_hist_joint_combined.png to _build/html/\n",
      "copying  tmp_2504.01745/./figures/h0_scan_hist_LTYTMT.png to _build/html/\n",
      "copying  tmp_2504.01745/./figures/h0mc_hist_LTYTMT.png to _build/html/\n",
      "copying  tmp_2504.01745/./figures/h0_scan_hist_LTYTMT_scatter.png to _build/html/\n",
      "copying  tmp_2504.01745/./figures/h0mc_hist_LTYTMT_scatter.png to _build/html/\n",
      "exported in  _build/html/2504.01745.md\n",
      "    + _build/html/tmp_2504.01745/./figures/evs_joint.png\n",
      "    + _build/html/tmp_2504.01745/./figures/evs_joint_m21.png\n",
      "    + _build/html/tmp_2504.01745/./figures/evs_joint_scatter.png\n",
      "    + _build/html/tmp_2504.01745/./figures/evs_joint_m21_scatter.png\n",
      "    + _build/html/tmp_2504.01745/./figures/h0mc_hist_joint_combined.png\n",
      "    + _build/html/tmp_2504.01745/./figures/h0_scan_hist_LTYTMT.png\n",
      "    + _build/html/tmp_2504.01745/./figures/h0mc_hist_LTYTMT.png\n",
      "    + _build/html/tmp_2504.01745/./figures/h0_scan_hist_LTYTMT_scatter.png\n",
      "    + _build/html/tmp_2504.01745/./figures/h0mc_hist_LTYTMT_scatter.png\n",
      "found figures ['tmp_2504.01852/./Virgil_SED.png', 'tmp_2504.01852/./Virgil_line_diagnostic_Mazzolari.png', 'tmp_2504.01852/./Virgil_spectrum.png']\n",
      "copying  tmp_2504.01852/./Virgil_SED.png to _build/html/\n",
      "copying  tmp_2504.01852/./Virgil_line_diagnostic_Mazzolari.png to _build/html/\n",
      "copying  tmp_2504.01852/./Virgil_spectrum.png to _build/html/\n",
      "exported in  _build/html/2504.01852.md\n",
      "    + _build/html/tmp_2504.01852/./Virgil_SED.png\n",
      "    + _build/html/tmp_2504.01852/./Virgil_line_diagnostic_Mazzolari.png\n",
      "    + _build/html/tmp_2504.01852/./Virgil_spectrum.png\n"
     ]
    }
   ],
   "source": [
    "for paper_id, md in documents:\n",
    "    export_markdown_summary(md, f\"{paper_id:s}.md\", '_build/html/')"
   ]
  },
  {
   "cell_type": "markdown",
   "id": "f087a0a7",
   "metadata": {
    "papermill": {
     "duration": 0.005448,
     "end_time": "2025-04-03T04:13:32.033783",
     "exception": false,
     "start_time": "2025-04-03T04:13:32.028335",
     "status": "completed"
    },
    "tags": []
   },
   "source": [
    "## Display the papers\n",
    "\n",
    "Not necessary but allows for a quick check."
   ]
  },
  {
   "cell_type": "code",
   "execution_count": 9,
   "id": "fd25f625",
   "metadata": {
    "execution": {
     "iopub.execute_input": "2025-04-03T04:13:32.045985Z",
     "iopub.status.busy": "2025-04-03T04:13:32.045570Z",
     "iopub.status.idle": "2025-04-03T04:13:32.051225Z",
     "shell.execute_reply": "2025-04-03T04:13:32.050672Z"
    },
    "papermill": {
     "duration": 0.01273,
     "end_time": "2025-04-03T04:13:32.052234",
     "exception": false,
     "start_time": "2025-04-03T04:13:32.039504",
     "status": "completed"
    },
    "scrolled": false,
    "tags": []
   },
   "outputs": [
    {
     "data": {
      "text/markdown": [
       "<div class=\"macros\" style=\"visibility:hidden;\">\n",
       "$\\newcommand{\\ensuremath}{}$\n",
       "$\\newcommand{\\xspace}{}$\n",
       "$\\newcommand{\\object}[1]{\\texttt{#1}}$\n",
       "$\\newcommand{\\farcs}{{.}''}$\n",
       "$\\newcommand{\\farcm}{{.}'}$\n",
       "$\\newcommand{\\arcsec}{''}$\n",
       "$\\newcommand{\\arcmin}{'}$\n",
       "$\\newcommand{\\ion}[2]{#1#2}$\n",
       "$\\newcommand{\\textsc}[1]{\\textrm{#1}}$\n",
       "$\\newcommand{\\hl}[1]{\\textrm{#1}}$\n",
       "$\\newcommand{\\footnote}[1]{}$\n",
       "$\\newcommand{\\dash}{\\text{--}}$\n",
       "$\\newcommand{\\LT}{L_\\mathrm{X}\\dash T}$\n",
       "$\\newcommand{\\YT}{Y_\\mathrm{SZ}\\dash T}$\n",
       "$\\newcommand{\\MT}{M_\\mathrm{gas}\\dash T}$\n",
       "$\\newcommand{\\placehold}[1]{{\\color{green}\\texttt{[{#1}]}}}$</div>\n",
       "\n",
       "\n",
       "\n",
       "<div id=\"title\">\n",
       "\n",
       "# Characterising galaxy cluster scaling relations as cosmic isotropy tracers using the FLAMINGO simulations\n",
       "\n",
       "</div>\n",
       "<div id=\"comments\">\n",
       "\n",
       "[![arXiv](https://img.shields.io/badge/arXiv-2504.01745-b31b1b.svg)](https://arxiv.org/abs/2504.01745)<mark>Appeared on: 2025-04-03</mark> -  _17 pages, 7 figures, submitted to A&A_\n",
       "\n",
       "</div>\n",
       "<div id=\"authors\">\n",
       "\n",
       "Y. He, et al. -- incl., <mark>J. Braspenning</mark>\n",
       "\n",
       "</div>\n",
       "<div id=\"abstract\">\n",
       "\n",
       "**Abstract:** The standard cosmological model, $\\Lambda$ CDM, assumes isotropy on large cosmic scales. However, recent studies using galaxy cluster scaling relations reported an apparent $H_0$ anisotropy at $5.4\\sigma$ that could be attributed to large bulk flows extending beyond $\\SI{500}{Mpc}$ , in disagreement with $\\Lambda$ CDM. To quantify the statistical tension of the observational galaxy cluster data used in past studies with $\\Lambda$ CDM, we utilize the isotropic ( $\\SI{2.8}{Gpc})^3$ run of the FLAMINGO ( $\\Lambda$ CDM) simulations, the largest hydrodynamical cosmological simulation available to date. We create 1728 simulated lightcones and study the apparent level of anisotropy traced by X-ray and thermal Sunyaev-Zeldovich scaling relations in the same cluster sample selection and methodology as in migkas_cosmological_2021 . We find the probability of such apparent anisotropies randomly emerging in cluster scaling relations within a $\\Lambda$ CDM universe to be $0.12\\%  (3.2\\sigma)$ . The discrepancy goes up to $\\sim 3.6\\sigma$ when modelled as a bulk flow at $z < 0.1$ . We find that statistical noise accounts for over $80\\%$ of the anisotropy amplitude in each lightcone, with large peculiar velocities contributing less than $20\\%$ . We also show that anisotropy amplitudes are highly sensitive to the intrinsic scatter in the scaling relations, with tighter relations providing stronger constraints. Nevertheless, the tension between migkas_cosmological_2021 and $\\Lambda$ CDM persists, however, at a lower significance than previously reported.\n",
       "\n",
       "</div>\n",
       "\n",
       "<div id=\"div_fig1\">\n",
       "\n",
       "<img src=\"tmp_2504.01745/./figures/evs_joint.png\" alt=\"Fig10.1\" width=\"25%\"/><img src=\"tmp_2504.01745/./figures/evs_joint_m21.png\" alt=\"Fig10.2\" width=\"25%\"/><img src=\"tmp_2504.01745/./figures/evs_joint_scatter.png\" alt=\"Fig10.3\" width=\"25%\"/><img src=\"tmp_2504.01745/./figures/evs_joint_m21_scatter.png\" alt=\"Fig10.4\" width=\"25%\"/>\n",
       "\n",
       "**Figure 10. -** EVS analyses of joint $H_0$ anisotropy in the FLAMINGO lightcones using the MCMC (left) and M21 (right) methods, without (top) and with (bottom) matched scatter. Grey and orange histograms show the lower-bound projection of all 1728 lightcones without and with scatter, respectively. The red vertical line marks the M21 result under the same projection. The blue dashed line indicates the GPD threshold (90th or 95th percentile), above which the tail is modelled by a Generalized Pareto Distribution (GPD), shown in green. Annotated in red is the EVS probability of obtaining the M21 result in FLAMINGO. (*fig:evs-all-joint*)\n",
       "\n",
       "</div>\n",
       "<div id=\"div_fig2\">\n",
       "\n",
       "<img src=\"tmp_2504.01745/./figures/h0mc_hist_joint_combined.png\" alt=\"Fig3\" width=\"100%\"/>\n",
       "\n",
       "**Figure 3. -** Joint MCMC constraint from the $\\LT$ and $\\YT$ relations, compared to the combined M21 result (red dot). The orange contour includes injected scatter, while the grey does not. Contours show the 39\\%, 86\\%, and 98.9\\% confidence regions. (*fig:h0-result-joint-MCMC*)\n",
       "\n",
       "</div>\n",
       "<div id=\"div_fig3\">\n",
       "\n",
       "<img src=\"tmp_2504.01745/./figures/h0_scan_hist_LTYTMT.png\" alt=\"Fig9.1\" width=\"25%\"/><img src=\"tmp_2504.01745/./figures/h0mc_hist_LTYTMT.png\" alt=\"Fig9.2\" width=\"25%\"/><img src=\"tmp_2504.01745/./figures/h0_scan_hist_LTYTMT_scatter.png\" alt=\"Fig9.3\" width=\"25%\"/><img src=\"tmp_2504.01745/./figures/h0mc_hist_LTYTMT_scatter.png\" alt=\"Fig9.4\" width=\"25%\"/>\n",
       "\n",
       "**Figure 9. -** Distribution of $H_0$ variation and its statistical significance from 1728 lightcones using the M21 scanning method (left) and the MCMC method (right), with (bottom) and without (top) mock scatter. Blue solid, red dashed, and green dash-dotted contours correspond to constraints from the $\\LT$, $\\YT$, and $\\MT$ relations, respectively. Contour levels indicate 39\\%, 86\\%, and 98.9\\% probability regions (equivalent to 1, 2, and 3$\\sigma$ in two dimensions). Blue (red) squares mark the M21 results from $\\LT$($\\YT$), including their measured statistical significance. Blue (red) circles show the M21 results obtained from isotropic Monte Carlo realisations for $\\LT$($\\YT$). (*fig:h0-result*)\n",
       "\n",
       "</div><div id=\"qrcode\"><img src=https://api.qrserver.com/v1/create-qr-code/?size=100x100&data=\"https://arxiv.org/abs/2504.01745\"></div>"
      ],
      "text/plain": [
       "<IPython.core.display.Markdown object>"
      ]
     },
     "metadata": {},
     "output_type": "display_data"
    },
    {
     "data": {
      "text/markdown": [
       "<div class=\"macros\" style=\"visibility:hidden;\">\n",
       "$\\newcommand{\\ensuremath}{}$\n",
       "$\\newcommand{\\xspace}{}$\n",
       "$\\newcommand{\\object}[1]{\\texttt{#1}}$\n",
       "$\\newcommand{\\farcs}{{.}''}$\n",
       "$\\newcommand{\\farcm}{{.}'}$\n",
       "$\\newcommand{\\arcsec}{''}$\n",
       "$\\newcommand{\\arcmin}{'}$\n",
       "$\\newcommand{\\ion}[2]{#1#2}$\n",
       "$\\newcommand{\\textsc}[1]{\\textrm{#1}}$\n",
       "$\\newcommand{\\hl}[1]{\\textrm{#1}}$\n",
       "$\\newcommand{\\footnote}[1]{}$\n",
       "$\\newcommand{\\gsim}{{\\;\\raise0.3ex\\hbox{>\\kern-0.75em\\raise-1.1ex\\hbox{\\sim}}\\;}}$\n",
       "$\\newcommand{\\arraystretch}{1.5}$</div>\n",
       "\n",
       "\n",
       "\n",
       "<div id=\"title\">\n",
       "\n",
       "# $\\bf$ Deciphering the Nature of $_ Virgil_$: An Obscured AGN Lurking Within an Apparently Normal Lyman-$\\alpha$ Emitter During Cosmic Reionization\n",
       "\n",
       "</div>\n",
       "<div id=\"comments\">\n",
       "\n",
       "[![arXiv](https://img.shields.io/badge/arXiv-2504.01852-b31b1b.svg)](https://arxiv.org/abs/2504.01852)<mark>Appeared on: 2025-04-03</mark> -  _39 pages, 3 tables, 14 figures. Submitted to ApJ_\n",
       "\n",
       "</div>\n",
       "<div id=\"authors\">\n",
       "\n",
       "P. Rinaldi, et al. -- incl., <mark>F. Walter</mark>\n",
       "\n",
       "</div>\n",
       "<div id=\"abstract\">\n",
       "\n",
       "**Abstract:** We present a comprehensive analysis of the MIRI Extremely Red Object _Virgil_ , a Lyman- $\\alpha$ emitter at $z_{spec} = 6.6379 \\pm0.0035$ with the photometric properties of a Little Red Dot. Leveraging new JWST/MIRI imaging from the MIDIS and PAHSPECS programs, we confirm _Virgil_ 's extraordinary nature among galaxies in JADES/GOODS-South, exhibiting a strikingly red NIRCam-to-MIRI color (F444W $-$ F1500W = $2.84\\pm0.04$ mag). Deep NIRSpec/PRISM spectroscopy from the OASIS program offers key insights into the host galaxy, revealing properties of an average star-forming galaxy during Cosmic Reionization, such as a subsolar metallicity, low-to-moderate dust content, and a relatively high ionization parameter and electron temperature. By estimating the star formation rate of _Virgil_ from UV and H $\\alpha$ , we find evidence that the galaxy is either entering or fading out of a bursty episode. Although line-ratio diagnostics employed at high- $z$ would classify _Virgil_ as an Active Galactic Nucleus (AGN), this classification becomes ambiguous once redshift evolution is considered. Nonetheless, _Virgil_ occupies the same parameter space as recently confirmed AGNs at similar redshifts. The new deep MIRI data at 15 $\\mu$ m reinforce the AGN nature of _Virgil_ , as inferred from multiple spectral energy distribution (SED) fitting codes. _Virgil_ 's rising infrared SED and UV excess resemble those of Dust-Obscured Galaxies (DOGs) studied with $_ Spitzer_$ at Cosmic Noon, particularly blue-excess HotDOGs. Our results highlight the need for a multi-wavelength approach incorporating MIRI to uncover such extreme sources at $z\\gtrsim6$ and to shed light on the interplay between galaxy evolution and early black hole growth during Cosmic Reionization.\n",
       "\n",
       "</div>\n",
       "\n",
       "<div id=\"div_fig1\">\n",
       "\n",
       "<img src=\"tmp_2504.01852/./Virgil_SED.png\" alt=\"Fig11\" width=\"100%\"/>\n",
       "\n",
       "**Figure 11. -** The best-fit results for _ Virgil_ are shown, with photometric data indicated by black squares and $3\\sigma$ upper limits by black inverted triangles. The reduced chi-squared values are also reported and computed consistently across the different SED fitting codes to account for their varying treatments of upper limits. The red arrow highlights the IR excess relative to the typical SFG template, which both NIRCam and NIRSpec data would bias the SED fitting toward. In contrast, the blue arrow indicates the UV excess compared to the average LRD template proposed by akins_cosmos-web_2024.\n",
       "    For comparison, we include the LRD model from akins_cosmos-web_2024 and _ Virgil_'s SED, excluding the MIRI bands, as derived from {\\sc bagpipes}. Additionally, we show the average BL GP SED (green circles) from lin_discovery_2024, considering only sources with $M_{\\bullet}$ similar to the estimated value for _ Virgil_. Finally, we compare it with the Blue-excess HotDOG (HSC J1202; red circles) from noboriguchi_extreme_2022. RUBIES-BLAGN-1 model from wang_rubies_2024 is shown in blue. The vertical dashed red line marks the transition between the NIRCam and MIRI domains. All models are normalized to F444W in the _ Virgil_'s reference system.\n",
       " (*fig:sed_fitting*)\n",
       "\n",
       "</div>\n",
       "<div id=\"div_fig2\">\n",
       "\n",
       "<img src=\"tmp_2504.01852/./Virgil_line_diagnostic_Mazzolari.png\" alt=\"Fig9\" width=\"100%\"/>\n",
       "\n",
       "**Figure 9. -** ** Left Panel:** O32 vs. O3Hg. ** Middle Panel:** Ne3O2 vs. O3Hg. ** Right Panel:** O33 vs. O3Hg. _ Virgil_ is shown as a red filled circle, with higher opacity representing the case without dust correction and lower opacity indicating the dust-corrected one. The dashed black lines indicate the separation criteria proposed by mazzolari_new_2024 to distinguish AGNs from SFGs. The contour areas correspond to the SDSS sample in the local Universe ( (abazajian_seventh_2009) ) for comparison. Filled circles represent pre-JWST literature data for SFGs and AGNs  (mostly at low redshift;  (seyfert_nuclear_1943,  izotov_chemical_2006,  berg_direct_2012,   amorin_extreme_2015,  perna_x-raysdss_2017,  yang_blueberry_2017,  yang_ly_2017,  izotov_j08114730_2018,  dors_chemical_2020,  armah_chemical_2021,   pustilnik_xmp_2021) ). For comparison with recent JWST-based studies, we include results from harikane_jwstnirspec_2023,  nakajima_jwst_2023,  scholtz_jades_2023,  ubler_ga-nifs_2024,  juodzbalis_dormant_2024,  rinaldi_not_2024(with some of them having both SFGs and AGNs). In particular, the sample from rinaldi_not_2024 consists of photometrically selected LRDs in GOODS-S, some exhibiting clear broadening in the Balmer lines. The gray dashed line in the middle panel represents the separation criterion at $z\\gtrsim4$ recently proposed by backhaus_emission-line_2025 to distinguish BLAGNs from non-BLAGNs.\n",
       " (*fig:virgil_line_ratios_oiii_hg*)\n",
       "\n",
       "</div>\n",
       "<div id=\"div_fig3\">\n",
       "\n",
       "<img src=\"tmp_2504.01852/./Virgil_spectrum.png\" alt=\"Fig4\" width=\"100%\"/>\n",
       "\n",
       "**Figure 4. -** ** Left panel:** 2D MSA/PRISM spectrum produced by {\\sc MSAEXP}. We optimally scaled the trace to highlight all of the significant line detections. We show the data in azure, while the uncertainty is highlighted in gray. Assuming the best-fit {\\sc MSAEXP}$z_{spec} = 6.6379\\pm0.0035$, we show the positions of the emission lines as dashed vertical lines. ** Right panel:** JWST/NIRCam RGB image (2.5$\\arcsec$$\\times$2.5$\\arcsec$) along with the slit positions showed in white. We highlight _ Virgil_ and the foreground LAE at $z\\approx4.77$ already studied in matthee_deciphering_2022 with VLT/MUSE data. (*fig:virgil_spectrum*)\n",
       "\n",
       "</div><div id=\"qrcode\"><img src=https://api.qrserver.com/v1/create-qr-code/?size=100x100&data=\"https://arxiv.org/abs/2504.01852\"></div>"
      ],
      "text/plain": [
       "<IPython.core.display.Markdown object>"
      ]
     },
     "metadata": {},
     "output_type": "display_data"
    }
   ],
   "source": [
    "[display(Markdown(k[1])) for k in documents];"
   ]
  },
  {
   "cell_type": "markdown",
   "id": "873873a4",
   "metadata": {
    "papermill": {
     "duration": 0.005996,
     "end_time": "2025-04-03T04:13:32.064145",
     "exception": false,
     "start_time": "2025-04-03T04:13:32.058149",
     "status": "completed"
    },
    "tags": []
   },
   "source": [
    "# Create HTML index"
   ]
  },
  {
   "cell_type": "code",
   "execution_count": 10,
   "id": "cf665672",
   "metadata": {
    "execution": {
     "iopub.execute_input": "2025-04-03T04:13:32.076726Z",
     "iopub.status.busy": "2025-04-03T04:13:32.076491Z",
     "iopub.status.idle": "2025-04-03T04:13:32.085864Z",
     "shell.execute_reply": "2025-04-03T04:13:32.085340Z"
    },
    "papermill": {
     "duration": 0.01679,
     "end_time": "2025-04-03T04:13:32.086849",
     "exception": false,
     "start_time": "2025-04-03T04:13:32.070059",
     "status": "completed"
    },
    "tags": []
   },
   "outputs": [
    {
     "name": "stdout",
     "output_type": "stream",
     "text": [
      "421  publications files modified in the last 7 days.\n"
     ]
    }
   ],
   "source": [
    "from datetime import datetime, timedelta, timezone\n",
    "from glob import glob\n",
    "import os\n",
    "\n",
    "files = glob('_build/html/*.md')\n",
    "days = 7\n",
    "now = datetime.today()\n",
    "res = []\n",
    "for fk in files:\n",
    "    stat_result = os.stat(fk).st_ctime\n",
    "    modified = datetime.fromtimestamp(stat_result, tz=timezone.utc).replace(tzinfo=None)\n",
    "    delta = now.today() - modified\n",
    "    if delta <= timedelta(days=days):\n",
    "        res.append((delta.seconds, fk))\n",
    "res = [k[1] for k in reversed(sorted(res, key=lambda x:x[1]))]\n",
    "npub = len(res)\n",
    "print(len(res), f\" publications files modified in the last {days:d} days.\")\n",
    "# [ print('\\t', k) for k in res ];"
   ]
  },
  {
   "cell_type": "code",
   "execution_count": 11,
   "id": "015de740",
   "metadata": {
    "execution": {
     "iopub.execute_input": "2025-04-03T04:13:32.099639Z",
     "iopub.status.busy": "2025-04-03T04:13:32.099408Z",
     "iopub.status.idle": "2025-04-03T04:13:32.122053Z",
     "shell.execute_reply": "2025-04-03T04:13:32.121450Z"
    },
    "papermill": {
     "duration": 0.030185,
     "end_time": "2025-04-03T04:13:32.123031",
     "exception": false,
     "start_time": "2025-04-03T04:13:32.092846",
     "status": "completed"
    },
    "tags": []
   },
   "outputs": [
    {
     "name": "stdout",
     "output_type": "stream",
     "text": [
      "14  publications in the last 7 days.\n"
     ]
    }
   ],
   "source": [
    "import datetime\n",
    "from glob import glob\n",
    "\n",
    "def get_last_n_days(lst, days=1):\n",
    "    \"\"\" Get the documents from the last n days \"\"\"\n",
    "    sorted_lst = sorted(lst, key=lambda x: x[1], reverse=True)\n",
    "    for fname, date in sorted_lst:\n",
    "        if date >= str(datetime.date.today() - datetime.timedelta(days=days)):\n",
    "            yield fname\n",
    "\n",
    "def extract_appearance_dates(lst_file):\n",
    "    dates = []\n",
    "\n",
    "    def get_date(line):\n",
    "        return line\\\n",
    "            .split('Appeared on:')[-1]\\\n",
    "            .split('</mark>')[0].strip()\n",
    "\n",
    "    for fname in lst:\n",
    "        with open(fname, 'r') as f:\n",
    "            found_date = False\n",
    "            for line in f:\n",
    "                if not found_date:\n",
    "                    if \"Appeared on\" in line:\n",
    "                        found_date = True\n",
    "                        dates.append((fname, get_date(line)))\n",
    "                else:\n",
    "                    break\n",
    "    return dates\n",
    "\n",
    "from glob import glob\n",
    "lst = glob('_build/html/*md')\n",
    "days = 7\n",
    "dates = extract_appearance_dates(lst)\n",
    "res = list(get_last_n_days(dates, days))\n",
    "npub = len(res)\n",
    "print(len(res), f\" publications in the last {days:d} days.\")"
   ]
  },
  {
   "cell_type": "code",
   "execution_count": 12,
   "id": "52ca0208",
   "metadata": {
    "execution": {
     "iopub.execute_input": "2025-04-03T04:13:32.136061Z",
     "iopub.status.busy": "2025-04-03T04:13:32.135793Z",
     "iopub.status.idle": "2025-04-03T04:13:32.140850Z",
     "shell.execute_reply": "2025-04-03T04:13:32.140320Z"
    },
    "papermill": {
     "duration": 0.012735,
     "end_time": "2025-04-03T04:13:32.141779",
     "exception": false,
     "start_time": "2025-04-03T04:13:32.129044",
     "status": "completed"
    },
    "scrolled": false,
    "tags": []
   },
   "outputs": [],
   "source": [
    "def create_carousel(npub=4):\n",
    "    \"\"\" Generate the HTML code for a carousel with `npub` slides \"\"\"\n",
    "    carousel = [\"\"\"  <div class=\"carousel\" \"\"\",\n",
    "                \"\"\"       data-flickity='{ \"autoPlay\": 10000, \"adaptiveHeight\": true, \"resize\": true, \"wrapAround\": true, \"pauseAutoPlayOnHover\": true, \"groupCells\": 1 }' id=\"asyncTypeset\">\"\"\"\n",
    "                ]\n",
    "    \n",
    "    item_str = \"\"\"    <div class=\"carousel-cell\"> <div id=\"slide{k}\" class=\"md_view\">Content {k}</div> </div>\"\"\"\n",
    "    for k in range(1, npub + 1):\n",
    "        carousel.append(item_str.format(k=k))\n",
    "    carousel.append(\"  </div>\")\n",
    "    return '\\n'.join(carousel)\n",
    "\n",
    "def create_grid(npub=4):\n",
    "    \"\"\" Generate the HTML code for a flat grid with `npub` slides \"\"\"\n",
    "    grid = [\"\"\"  <div class=\"grid\"> \"\"\",\n",
    "                ]\n",
    "    \n",
    "    item_str = \"\"\"    <div class=\"grid-item\"> <div id=\"slide{k}\" class=\"md_view\">Content {k}</div> </div>\"\"\"\n",
    "    for k in range(1, npub + 1):\n",
    "        grid.append(item_str.format(k=k))\n",
    "    grid.append(\"  </div>\")\n",
    "    return '\\n'.join(grid)"
   ]
  },
  {
   "cell_type": "code",
   "execution_count": 13,
   "id": "a6eac5b6",
   "metadata": {
    "execution": {
     "iopub.execute_input": "2025-04-03T04:13:32.154858Z",
     "iopub.status.busy": "2025-04-03T04:13:32.154624Z",
     "iopub.status.idle": "2025-04-03T04:13:32.159543Z",
     "shell.execute_reply": "2025-04-03T04:13:32.159066Z"
    },
    "papermill": {
     "duration": 0.012491,
     "end_time": "2025-04-03T04:13:32.160485",
     "exception": false,
     "start_time": "2025-04-03T04:13:32.147994",
     "status": "completed"
    },
    "scrolled": false,
    "tags": []
   },
   "outputs": [],
   "source": [
    "carousel = create_carousel(npub)\n",
    "docs = ', '.join(['\"{0:s}\"'.format(k.split('/')[-1]) for k in res])\n",
    "slides = ', '.join([f'\"slide{k}\"' for k in range(1, npub + 1)])\n",
    "\n",
    "with open(\"daily_template.html\", \"r\") as tpl:\n",
    "    page = tpl.read()\n",
    "    page = page.replace(\"{%-- carousel:s --%}\", carousel)\\\n",
    "               .replace(\"{%-- suptitle:s --%}\",  \"7-day archives\" )\\\n",
    "               .replace(\"{%-- docs:s --%}\", docs)\\\n",
    "               .replace(\"{%-- slides:s --%}\", slides)\n",
    "    \n",
    "with open(\"_build/html/index_7days.html\", 'w') as fout:\n",
    "    fout.write(page)"
   ]
  },
  {
   "cell_type": "code",
   "execution_count": 14,
   "id": "adc1a1ec",
   "metadata": {
    "execution": {
     "iopub.execute_input": "2025-04-03T04:13:32.173498Z",
     "iopub.status.busy": "2025-04-03T04:13:32.173265Z",
     "iopub.status.idle": "2025-04-03T04:13:32.180160Z",
     "shell.execute_reply": "2025-04-03T04:13:32.179523Z"
    },
    "papermill": {
     "duration": 0.014465,
     "end_time": "2025-04-03T04:13:32.181149",
     "exception": false,
     "start_time": "2025-04-03T04:13:32.166684",
     "status": "completed"
    },
    "tags": []
   },
   "outputs": [
    {
     "name": "stdout",
     "output_type": "stream",
     "text": [
      "3  publications in the last day.\n"
     ]
    }
   ],
   "source": [
    "# redo for today\n",
    "days = 1\n",
    "res = list(get_last_n_days(dates, days))\n",
    "npub = len(res)\n",
    "print(len(res), f\" publications in the last day.\")\n",
    "\n",
    "carousel = create_carousel(npub)\n",
    "docs = ', '.join(['\"{0:s}\"'.format(k.split('/')[-1]) for k in res])\n",
    "slides = ', '.join([f'\"slide{k}\"' for k in range(1, npub + 1)])\n",
    "\n",
    "with open(\"daily_template.html\", \"r\") as tpl:\n",
    "    page = tpl.read()\n",
    "    page = page.replace(\"{%-- carousel:s --%}\", carousel)\\\n",
    "               .replace(\"{%-- suptitle:s --%}\",  \"Daily\" )\\\n",
    "               .replace(\"{%-- docs:s --%}\", docs)\\\n",
    "               .replace(\"{%-- slides:s --%}\", slides)\n",
    "    \n",
    "# print(carousel, docs, slides)\n",
    "# print(page)\n",
    "with open(\"_build/html/index_daily.html\", 'w') as fout:\n",
    "    fout.write(page)"
   ]
  },
  {
   "cell_type": "code",
   "execution_count": 15,
   "id": "00eece82",
   "metadata": {
    "execution": {
     "iopub.execute_input": "2025-04-03T04:13:32.194477Z",
     "iopub.status.busy": "2025-04-03T04:13:32.194112Z",
     "iopub.status.idle": "2025-04-03T04:13:32.200513Z",
     "shell.execute_reply": "2025-04-03T04:13:32.199950Z"
    },
    "papermill": {
     "duration": 0.014203,
     "end_time": "2025-04-03T04:13:32.201532",
     "exception": false,
     "start_time": "2025-04-03T04:13:32.187329",
     "status": "completed"
    },
    "scrolled": false,
    "tags": []
   },
   "outputs": [
    {
     "name": "stdout",
     "output_type": "stream",
     "text": [
      "6  6 publications selected.\n"
     ]
    }
   ],
   "source": [
    "# Create the flat grid of the last N papers (fixed number regardless of dates)\n",
    "from itertools import islice \n",
    "\n",
    "npub = 6\n",
    "res = [k[0] for k in (islice(reversed(sorted(dates, key=lambda x: x[1])), 6))]\n",
    "print(len(res), f\" {npub} publications selected.\")\n",
    "\n",
    "grid = create_grid(npub)\n",
    "docs = ', '.join(['\"{0:s}\"'.format(k.split('/')[-1]) for k in res])\n",
    "slides = ', '.join([f'\"slide{k}\"' for k in range(1, npub + 1)])\n",
    "\n",
    "with open(\"grid_template.html\", \"r\") as tpl:\n",
    "    page = tpl.read()\n",
    "    page = page.replace(\"{%-- grid-content:s --%}\", grid)\\\n",
    "               .replace(\"{%-- suptitle:s --%}\",  f\"Last {npub:,d} papers\" )\\\n",
    "               .replace(\"{%-- docs:s --%}\", docs)\\\n",
    "               .replace(\"{%-- slides:s --%}\", slides)\n",
    "    \n",
    "# print(grid, docs, slides)\n",
    "# print(page)\n",
    "with open(\"_build/html/index_npub_grid.html\", 'w') as fout:\n",
    "    fout.write(page)"
   ]
  }
 ],
 "metadata": {
  "kernelspec": {
   "display_name": "Python 3 (ipykernel)",
   "language": "python",
   "name": "python3"
  },
  "language_info": {
   "codemirror_mode": {
    "name": "ipython",
    "version": 3
   },
   "file_extension": ".py",
   "mimetype": "text/x-python",
   "name": "python",
   "nbconvert_exporter": "python",
   "pygments_lexer": "ipython3",
   "version": "3.9.21"
  },
  "papermill": {
   "default_parameters": {},
   "duration": 85.540568,
   "end_time": "2025-04-03T04:13:32.423559",
   "environment_variables": {},
   "exception": null,
   "input_path": "MPIA daily digest.ipynb",
   "output_path": "log.ipynb",
   "parameters": {},
   "start_time": "2025-04-03T04:12:06.882991",
   "version": "2.6.0"
  },
  "vscode": {
   "interpreter": {
    "hash": "aee8b7b246df8f9039afb4144a1f6fd8d2ca17a180786b69acc140d282b71a49"
   }
  },
  "widgets": {
   "application/vnd.jupyter.widget-state+json": {
    "state": {
     "0e87892ebf874ef08ea948014ec8d87f": {
      "model_module": "@jupyter-widgets/controls",
      "model_module_version": "2.0.0",
      "model_name": "HTMLStyleModel",
      "state": {
       "_model_module": "@jupyter-widgets/controls",
       "_model_module_version": "2.0.0",
       "_model_name": "HTMLStyleModel",
       "_view_count": null,
       "_view_module": "@jupyter-widgets/base",
       "_view_module_version": "2.0.0",
       "_view_name": "StyleView",
       "background": null,
       "description_width": "",
       "font_size": null,
       "text_color": null
      }
     },
     "0e9782b2f5954466885ebdd2eb5dbb5e": {
      "model_module": "@jupyter-widgets/controls",
      "model_module_version": "2.0.0",
      "model_name": "HTMLModel",
      "state": {
       "_dom_classes": [],
       "_model_module": "@jupyter-widgets/controls",
       "_model_module_version": "2.0.0",
       "_model_name": "HTMLModel",
       "_view_count": null,
       "_view_module": "@jupyter-widgets/controls",
       "_view_module_version": "2.0.0",
       "_view_name": "HTMLView",
       "description": "",
       "description_allow_html": false,
       "layout": "IPY_MODEL_f0948788cac440a1a42b058aa3786804",
       "placeholder": "​",
       "style": "IPY_MODEL_0e87892ebf874ef08ea948014ec8d87f",
       "tabbable": null,
       "tooltip": null,
       "value": " 10/10 [01:01&lt;00:00, 10.67s/it]"
      }
     },
     "150ebbc48c974355a5c2d1934c520acd": {
      "model_module": "@jupyter-widgets/controls",
      "model_module_version": "2.0.0",
      "model_name": "ProgressStyleModel",
      "state": {
       "_model_module": "@jupyter-widgets/controls",
       "_model_module_version": "2.0.0",
       "_model_name": "ProgressStyleModel",
       "_view_count": null,
       "_view_module": "@jupyter-widgets/base",
       "_view_module_version": "2.0.0",
       "_view_name": "StyleView",
       "bar_color": null,
       "description_width": ""
      }
     },
     "1c8795145d764235a57eedad82a6c36e": {
      "model_module": "@jupyter-widgets/controls",
      "model_module_version": "2.0.0",
      "model_name": "HTMLModel",
      "state": {
       "_dom_classes": [],
       "_model_module": "@jupyter-widgets/controls",
       "_model_module_version": "2.0.0",
       "_model_name": "HTMLModel",
       "_view_count": null,
       "_view_module": "@jupyter-widgets/controls",
       "_view_module_version": "2.0.0",
       "_view_name": "HTMLView",
       "description": "",
       "description_allow_html": false,
       "layout": "IPY_MODEL_b8ae22fff12a4e49826bfdb9ba1822ff",
       "placeholder": "​",
       "style": "IPY_MODEL_a2ee69e89b0e4410ac7f9700812c113c",
       "tabbable": null,
       "tooltip": null,
       "value": "100%"
      }
     },
     "38775daf15d84ee2ad1957b7cbde401c": {
      "model_module": "@jupyter-widgets/base",
      "model_module_version": "2.0.0",
      "model_name": "LayoutModel",
      "state": {
       "_model_module": "@jupyter-widgets/base",
       "_model_module_version": "2.0.0",
       "_model_name": "LayoutModel",
       "_view_count": null,
       "_view_module": "@jupyter-widgets/base",
       "_view_module_version": "2.0.0",
       "_view_name": "LayoutView",
       "align_content": null,
       "align_items": null,
       "align_self": null,
       "border_bottom": null,
       "border_left": null,
       "border_right": null,
       "border_top": null,
       "bottom": null,
       "display": null,
       "flex": null,
       "flex_flow": null,
       "grid_area": null,
       "grid_auto_columns": null,
       "grid_auto_flow": null,
       "grid_auto_rows": null,
       "grid_column": null,
       "grid_gap": null,
       "grid_row": null,
       "grid_template_areas": null,
       "grid_template_columns": null,
       "grid_template_rows": null,
       "height": null,
       "justify_content": null,
       "justify_items": null,
       "left": null,
       "margin": null,
       "max_height": null,
       "max_width": null,
       "min_height": null,
       "min_width": null,
       "object_fit": null,
       "object_position": null,
       "order": null,
       "overflow": null,
       "padding": null,
       "right": null,
       "top": null,
       "visibility": null,
       "width": null
      }
     },
     "5ff3cb7e500e42b7b585acbec4d6fb88": {
      "model_module": "@jupyter-widgets/base",
      "model_module_version": "2.0.0",
      "model_name": "LayoutModel",
      "state": {
       "_model_module": "@jupyter-widgets/base",
       "_model_module_version": "2.0.0",
       "_model_name": "LayoutModel",
       "_view_count": null,
       "_view_module": "@jupyter-widgets/base",
       "_view_module_version": "2.0.0",
       "_view_name": "LayoutView",
       "align_content": null,
       "align_items": null,
       "align_self": null,
       "border_bottom": null,
       "border_left": null,
       "border_right": null,
       "border_top": null,
       "bottom": null,
       "display": null,
       "flex": null,
       "flex_flow": null,
       "grid_area": null,
       "grid_auto_columns": null,
       "grid_auto_flow": null,
       "grid_auto_rows": null,
       "grid_column": null,
       "grid_gap": null,
       "grid_row": null,
       "grid_template_areas": null,
       "grid_template_columns": null,
       "grid_template_rows": null,
       "height": null,
       "justify_content": null,
       "justify_items": null,
       "left": null,
       "margin": null,
       "max_height": null,
       "max_width": null,
       "min_height": null,
       "min_width": null,
       "object_fit": null,
       "object_position": null,
       "order": null,
       "overflow": null,
       "padding": null,
       "right": null,
       "top": null,
       "visibility": null,
       "width": null
      }
     },
     "a2ee69e89b0e4410ac7f9700812c113c": {
      "model_module": "@jupyter-widgets/controls",
      "model_module_version": "2.0.0",
      "model_name": "HTMLStyleModel",
      "state": {
       "_model_module": "@jupyter-widgets/controls",
       "_model_module_version": "2.0.0",
       "_model_name": "HTMLStyleModel",
       "_view_count": null,
       "_view_module": "@jupyter-widgets/base",
       "_view_module_version": "2.0.0",
       "_view_name": "StyleView",
       "background": null,
       "description_width": "",
       "font_size": null,
       "text_color": null
      }
     },
     "a4e3d69a806e447480953664f1857c79": {
      "model_module": "@jupyter-widgets/controls",
      "model_module_version": "2.0.0",
      "model_name": "HBoxModel",
      "state": {
       "_dom_classes": [],
       "_model_module": "@jupyter-widgets/controls",
       "_model_module_version": "2.0.0",
       "_model_name": "HBoxModel",
       "_view_count": null,
       "_view_module": "@jupyter-widgets/controls",
       "_view_module_version": "2.0.0",
       "_view_name": "HBoxView",
       "box_style": "",
       "children": [
        "IPY_MODEL_1c8795145d764235a57eedad82a6c36e",
        "IPY_MODEL_da569d818cdc4ff5b2b6fcda0f85ccb6",
        "IPY_MODEL_0e9782b2f5954466885ebdd2eb5dbb5e"
       ],
       "layout": "IPY_MODEL_38775daf15d84ee2ad1957b7cbde401c",
       "tabbable": null,
       "tooltip": null
      }
     },
     "b8ae22fff12a4e49826bfdb9ba1822ff": {
      "model_module": "@jupyter-widgets/base",
      "model_module_version": "2.0.0",
      "model_name": "LayoutModel",
      "state": {
       "_model_module": "@jupyter-widgets/base",
       "_model_module_version": "2.0.0",
       "_model_name": "LayoutModel",
       "_view_count": null,
       "_view_module": "@jupyter-widgets/base",
       "_view_module_version": "2.0.0",
       "_view_name": "LayoutView",
       "align_content": null,
       "align_items": null,
       "align_self": null,
       "border_bottom": null,
       "border_left": null,
       "border_right": null,
       "border_top": null,
       "bottom": null,
       "display": null,
       "flex": null,
       "flex_flow": null,
       "grid_area": null,
       "grid_auto_columns": null,
       "grid_auto_flow": null,
       "grid_auto_rows": null,
       "grid_column": null,
       "grid_gap": null,
       "grid_row": null,
       "grid_template_areas": null,
       "grid_template_columns": null,
       "grid_template_rows": null,
       "height": null,
       "justify_content": null,
       "justify_items": null,
       "left": null,
       "margin": null,
       "max_height": null,
       "max_width": null,
       "min_height": null,
       "min_width": null,
       "object_fit": null,
       "object_position": null,
       "order": null,
       "overflow": null,
       "padding": null,
       "right": null,
       "top": null,
       "visibility": null,
       "width": null
      }
     },
     "da569d818cdc4ff5b2b6fcda0f85ccb6": {
      "model_module": "@jupyter-widgets/controls",
      "model_module_version": "2.0.0",
      "model_name": "FloatProgressModel",
      "state": {
       "_dom_classes": [],
       "_model_module": "@jupyter-widgets/controls",
       "_model_module_version": "2.0.0",
       "_model_name": "FloatProgressModel",
       "_view_count": null,
       "_view_module": "@jupyter-widgets/controls",
       "_view_module_version": "2.0.0",
       "_view_name": "ProgressView",
       "bar_style": "success",
       "description": "",
       "description_allow_html": false,
       "layout": "IPY_MODEL_5ff3cb7e500e42b7b585acbec4d6fb88",
       "max": 10.0,
       "min": 0.0,
       "orientation": "horizontal",
       "style": "IPY_MODEL_150ebbc48c974355a5c2d1934c520acd",
       "tabbable": null,
       "tooltip": null,
       "value": 10.0
      }
     },
     "f0948788cac440a1a42b058aa3786804": {
      "model_module": "@jupyter-widgets/base",
      "model_module_version": "2.0.0",
      "model_name": "LayoutModel",
      "state": {
       "_model_module": "@jupyter-widgets/base",
       "_model_module_version": "2.0.0",
       "_model_name": "LayoutModel",
       "_view_count": null,
       "_view_module": "@jupyter-widgets/base",
       "_view_module_version": "2.0.0",
       "_view_name": "LayoutView",
       "align_content": null,
       "align_items": null,
       "align_self": null,
       "border_bottom": null,
       "border_left": null,
       "border_right": null,
       "border_top": null,
       "bottom": null,
       "display": null,
       "flex": null,
       "flex_flow": null,
       "grid_area": null,
       "grid_auto_columns": null,
       "grid_auto_flow": null,
       "grid_auto_rows": null,
       "grid_column": null,
       "grid_gap": null,
       "grid_row": null,
       "grid_template_areas": null,
       "grid_template_columns": null,
       "grid_template_rows": null,
       "height": null,
       "justify_content": null,
       "justify_items": null,
       "left": null,
       "margin": null,
       "max_height": null,
       "max_width": null,
       "min_height": null,
       "min_width": null,
       "object_fit": null,
       "object_position": null,
       "order": null,
       "overflow": null,
       "padding": null,
       "right": null,
       "top": null,
       "visibility": null,
       "width": null
      }
     }
    },
    "version_major": 2,
    "version_minor": 0
   }
  }
 },
 "nbformat": 4,
 "nbformat_minor": 5
}