{
 "cells": [
  {
   "cell_type": "markdown",
   "id": "92bcb855",
   "metadata": {
    "papermill": {
     "duration": 0.003677,
     "end_time": "2024-04-10T04:08:34.917124",
     "exception": false,
     "start_time": "2024-04-10T04:08:34.913447",
     "status": "completed"
    },
    "tags": []
   },
   "source": [
    "# MPIA Arxiv on Deck 2\n",
    "\n",
    "Contains the steps to produce the paper extractions."
   ]
  },
  {
   "cell_type": "code",
   "execution_count": 1,
   "id": "3a0d6e11",
   "metadata": {
    "execution": {
     "iopub.execute_input": "2024-04-10T04:08:34.924105Z",
     "iopub.status.busy": "2024-04-10T04:08:34.923687Z",
     "iopub.status.idle": "2024-04-10T04:08:35.499019Z",
     "shell.execute_reply": "2024-04-10T04:08:35.498429Z"
    },
    "papermill": {
     "duration": 0.580623,
     "end_time": "2024-04-10T04:08:35.500738",
     "exception": false,
     "start_time": "2024-04-10T04:08:34.920115",
     "status": "completed"
    },
    "tags": []
   },
   "outputs": [],
   "source": [
    "# Imports\n",
    "import os\n",
    "from IPython.display import Markdown, display\n",
    "from tqdm.notebook import tqdm\n",
    "import warnings\n",
    "from PIL import Image \n",
    "\n",
    "# requires arxiv_on_deck_2\n",
    "\n",
    "from arxiv_on_deck_2.arxiv2 import (get_new_papers, \n",
    "                                    get_paper_from_identifier,\n",
    "                                    retrieve_document_source, \n",
    "                                    get_markdown_badge)\n",
    "from arxiv_on_deck_2 import (latex,\n",
    "                             latex_bib,\n",
    "                             mpia,\n",
    "                             highlight_authors_in_list)\n",
    "\n",
    "# Sometimes images are really big\n",
    "Image.MAX_IMAGE_PIXELS = 1000000000 "
   ]
  },
  {
   "cell_type": "code",
   "execution_count": 2,
   "id": "22aa9d44",
   "metadata": {
    "execution": {
     "iopub.execute_input": "2024-04-10T04:08:35.508012Z",
     "iopub.status.busy": "2024-04-10T04:08:35.507522Z",
     "iopub.status.idle": "2024-04-10T04:08:35.512630Z",
     "shell.execute_reply": "2024-04-10T04:08:35.512083Z"
    },
    "papermill": {
     "duration": 0.010173,
     "end_time": "2024-04-10T04:08:35.513998",
     "exception": false,
     "start_time": "2024-04-10T04:08:35.503825",
     "status": "completed"
    },
    "tags": []
   },
   "outputs": [],
   "source": [
    "# Some useful definitions.\n",
    "\n",
    "class AffiliationWarning(UserWarning):\n",
    "    pass\n",
    "\n",
    "class AffiliationError(RuntimeError):\n",
    "    pass\n",
    "\n",
    "def validation(source: str):\n",
    "    \"\"\"Raises error paper during parsing of source file\n",
    "    \n",
    "    Allows checks before parsing TeX code.\n",
    "    \n",
    "    Raises AffiliationWarning\n",
    "    \"\"\"\n",
    "    check = mpia.affiliation_verifications(source, verbose=True)\n",
    "    if check is not True:\n",
    "        raise AffiliationError(\"mpia.affiliation_verifications: \" + check)\n",
    "\n",
    "        \n",
    "warnings.simplefilter('always', AffiliationWarning)\n",
    "\n",
    "\n",
    "def get_markdown_qrcode(paper_id: str):\n",
    "    \"\"\" Generate a qrcode to the arxiv page using qrserver.com\n",
    "    \n",
    "    :param paper: Arxiv paper\n",
    "    :returns: markdown text\n",
    "    \"\"\"\n",
    "    url = r\"https://api.qrserver.com/v1/create-qr-code/?size=100x100&data=\"\n",
    "    txt = f\"\"\"<img src={url}\"https://arxiv.org/abs/{paper_id}\">\"\"\"\n",
    "    txt = '<div id=\"qrcode\">' + txt + '</div>'\n",
    "    return txt"
   ]
  },
  {
   "cell_type": "markdown",
   "id": "14bd6310",
   "metadata": {
    "papermill": {
     "duration": 0.002769,
     "end_time": "2024-04-10T04:08:35.519567",
     "exception": false,
     "start_time": "2024-04-10T04:08:35.516798",
     "status": "completed"
    },
    "tags": []
   },
   "source": [
    "## get list of arxiv paper candidates\n",
    "\n",
    "We use the MPIA mitarbeiter list webpage from mpia.de to get author names\n",
    "We then get all new papers from Arxiv and match authors"
   ]
  },
  {
   "cell_type": "code",
   "execution_count": 3,
   "id": "2645e73a",
   "metadata": {
    "execution": {
     "iopub.execute_input": "2024-04-10T04:08:35.526275Z",
     "iopub.status.busy": "2024-04-10T04:08:35.525903Z",
     "iopub.status.idle": "2024-04-10T04:08:57.243492Z",
     "shell.execute_reply": "2024-04-10T04:08:57.242808Z"
    },
    "papermill": {
     "duration": 21.722475,
     "end_time": "2024-04-10T04:08:57.244910",
     "exception": false,
     "start_time": "2024-04-10T04:08:35.522435",
     "status": "completed"
    },
    "tags": []
   },
   "outputs": [
    {
     "name": "stdout",
     "output_type": "stream",
     "text": [
      "F. Nasir  ->  F. Nasir  |  ['F. Nasir']\n",
      "P. Gaikwad  ->  P. Gaikwad  |  ['P. Gaikwad']\n",
      "A. Gould  ->  A. Gould  |  ['A. Gould']\n",
      "J. Liu  ->  J. Liu  |  ['J. Liu']\n",
      "C. Fendt  ->  C. Fendt  |  ['C. Fendt']\n",
      "Arxiv has 47 new papers today\n",
      "          4 with possible author matches\n"
     ]
    }
   ],
   "source": [
    "# get list from MPIA website\n",
    "# it automatically filters identified non-scientists :func:`mpia.filter_non_scientists`\n",
    "mpia_authors = mpia.get_mpia_mitarbeiter_list()\n",
    "normed_mpia_authors = [k[1] for k in mpia_authors]   # initials + fullname\n",
    "new_papers = get_new_papers()\n",
    "# add manual references\n",
    "add_paper_refs = []\n",
    "new_papers.extend([get_paper_from_identifier(k) for k in add_paper_refs])\n",
    "\n",
    "candidates = []\n",
    "for paperk in new_papers:\n",
    "    # Check author list with their initials\n",
    "    normed_author_list = [mpia.get_initials(k) for k in paperk['authors']]\n",
    "    hl_authors = highlight_authors_in_list(normed_author_list, normed_mpia_authors, verbose=True)\n",
    "    matches = [(hl, orig) for hl, orig in zip(hl_authors, paperk['authors']) if 'mark' in hl]\n",
    "    paperk['authors'] = hl_authors\n",
    "    if matches:\n",
    "        # only select paper if an author matched our list\n",
    "        candidates.append(paperk)\n",
    "print(\"\"\"Arxiv has {0:,d} new papers today\"\"\".format(len(new_papers)))        \n",
    "print(\"\"\"          {0:,d} with possible author matches\"\"\".format(len(candidates)))"
   ]
  },
  {
   "cell_type": "markdown",
   "id": "3543b34a",
   "metadata": {
    "papermill": {
     "duration": 0.002956,
     "end_time": "2024-04-10T04:08:57.251050",
     "exception": false,
     "start_time": "2024-04-10T04:08:57.248094",
     "status": "completed"
    },
    "tags": []
   },
   "source": [
    "# Parse sources and generate relevant outputs\n",
    "\n",
    "From the candidates, we do the following steps:\n",
    "* get their tarball from ArXiv (and extract data)\n",
    "* find the main .tex file: find one with \\documentclass{...} (sometimes it's non trivial)\n",
    "* Check affiliations with :func:`validation`, which uses :func:`mpia.affiliation_verifications`\n",
    "* If passing the affiliations: we parse the .tex source\n",
    "   * inject sub-documents into the main (flatten the main document)\n",
    "   * parse structure, extract information (title, abstract, authors, figures...)\n",
    "   * handles `\\graphicspath` if provided\n",
    "* Generate the .md document."
   ]
  },
  {
   "cell_type": "code",
   "execution_count": 4,
   "id": "9576b79e",
   "metadata": {
    "execution": {
     "iopub.execute_input": "2024-04-10T04:08:57.258105Z",
     "iopub.status.busy": "2024-04-10T04:08:57.257615Z",
     "iopub.status.idle": "2024-04-10T04:09:26.394481Z",
     "shell.execute_reply": "2024-04-10T04:09:26.393740Z"
    },
    "papermill": {
     "duration": 29.142053,
     "end_time": "2024-04-10T04:09:26.395957",
     "exception": false,
     "start_time": "2024-04-10T04:08:57.253904",
     "status": "completed"
    },
    "scrolled": false,
    "tags": []
   },
   "outputs": [
    {
     "data": {
      "application/vnd.jupyter.widget-view+json": {
       "model_id": "355a55b040aa4f37bd4c335528e0de28",
       "version_major": 2,
       "version_minor": 0
      },
      "text/plain": [
       "  0%|          | 0/4 [00:00<?, ?it/s]"
      ]
     },
     "metadata": {},
     "output_type": "display_data"
    },
    {
     "name": "stdout",
     "output_type": "stream",
     "text": [
      "Retrieving document from  https://arxiv.org/e-print/2404.05794\n"
     ]
    },
    {
     "name": "stdout",
     "output_type": "stream",
     "text": [
      "extracting tarball to tmp_2404.05794..."
     ]
    },
    {
     "name": "stdout",
     "output_type": "stream",
     "text": [
      " done.\n"
     ]
    },
    {
     "name": "stderr",
     "output_type": "stream",
     "text": [
      "/opt/hostedtoolcache/Python/3.9.19/x64/lib/python3.9/site-packages/arxiv_on_deck_2/latex.py:473: LatexWarning: Error parsing the document directly. Trying to recover.\n",
      "  warnings.warn(LatexWarning(f\"Error parsing the document directly. Trying to recover.\"))\n"
     ]
    },
    {
     "name": "stdout",
     "output_type": "stream",
     "text": [
      "✘ → 0:header\n",
      "  ↳ 6496:\\section{Introduction} \\label{sec:intro}\n",
      "✔ → 6496:\\section{Introduction} \\label{sec:intro}\n",
      "  ↳ 13276:\\section{Hydrodynamics simulations}\\label{sec:sim}\n"
     ]
    },
    {
     "name": "stdout",
     "output_type": "stream",
     "text": [
      "✔ → 13276:\\section{Hydrodynamics simulations}\\label{sec:sim}\n",
      "  ↳ 18251:\\section{Bayesian neural network}\\label{sec:bcnn}\n"
     ]
    },
    {
     "name": "stdout",
     "output_type": "stream",
     "text": [
      "✔ → 18251:\\section{Bayesian neural network}\\label{sec:bcnn}\n",
      "  ↳ 44748:\\section{Results}\\label{sec:fluc}\n"
     ]
    },
    {
     "name": "stdout",
     "output_type": "stream",
     "text": [
      "✔ → 44748:\\section{Results}\\label{sec:fluc}\n",
      "  ↳ 69006:\\section{Conclusions}\\label{sec:conclusions}\n",
      "✔ → 69006:\\section{Conclusions}\\label{sec:conclusions}\n",
      "  ↳ 72369:\\section{Comparison with real-space distributions}\n",
      "✔ → 72369:\\section{Comparison with real-space distributions}\n",
      "  ↳ 76719:\\section{Mean flux tests}\n"
     ]
    },
    {
     "name": "stdout",
     "output_type": "stream",
     "text": [
      "✔ → 76719:\\section{Mean flux tests}\n",
      "  ↳ 77843:\\section{Box size test}\n",
      "✔ → 77843:\\section{Box size test}\n",
      "  ↳ 80418:end\n"
     ]
    },
    {
     "name": "stderr",
     "output_type": "stream",
     "text": [
      "/tmp/ipykernel_2117/3009462391.py:49: LatexWarning: 2404.05794 did not run properly\n",
      "list index out of range\n",
      "  warnings.warn(latex.LatexWarning(f\"{paper_id:s} did not run properly\\n\" +\n"
     ]
    },
    {
     "name": "stdout",
     "output_type": "stream",
     "text": [
      "Retrieving document from  https://arxiv.org/e-print/2404.05912\n"
     ]
    },
    {
     "name": "stdout",
     "output_type": "stream",
     "text": [
      "extracting tarball to tmp_2404.05912... done.\n"
     ]
    },
    {
     "name": "stderr",
     "output_type": "stream",
     "text": [
      "/tmp/ipykernel_2117/3009462391.py:49: LatexWarning: 2404.05912 did not run properly\n",
      "Unable to locate Ghostscript on paths\n",
      "  warnings.warn(latex.LatexWarning(f\"{paper_id:s} did not run properly\\n\" +\n"
     ]
    },
    {
     "name": "stdout",
     "output_type": "stream",
     "text": [
      "Retrieving document from  https://arxiv.org/e-print/2404.05975\n"
     ]
    },
    {
     "name": "stdout",
     "output_type": "stream",
     "text": [
      "extracting tarball to tmp_2404.05975... done.\n",
      "Retrieving document from  https://arxiv.org/e-print/2404.06140\n"
     ]
    },
    {
     "name": "stdout",
     "output_type": "stream",
     "text": [
      "extracting tarball to tmp_2404.06140..."
     ]
    },
    {
     "name": "stdout",
     "output_type": "stream",
     "text": [
      " done.\n"
     ]
    },
    {
     "name": "stdout",
     "output_type": "stream",
     "text": [
      "C. Fendt  ->  C. Fendt  |  ['C. Fendt']\n"
     ]
    },
    {
     "name": "stdout",
     "output_type": "stream",
     "text": [
      "list index out of range\n"
     ]
    }
   ],
   "source": [
    "documents = []\n",
    "failed = []\n",
    "for paper in tqdm(candidates):\n",
    "    paper_id = paper['identifier'].lower().replace('arxiv:', '')\n",
    "    \n",
    "    folder = f'tmp_{paper_id}'\n",
    "\n",
    "    try:\n",
    "        if not os.path.isdir(folder):\n",
    "            folder = retrieve_document_source(f\"{paper_id}\", f'tmp_{paper_id}')\n",
    "        \n",
    "        try:\n",
    "            doc = latex.LatexDocument(folder, validation=validation)    \n",
    "        except AffiliationError as affilerror:\n",
    "            msg = f\"ArXiv:{paper_id:s} is not an MPIA paper... \" + str(affilerror)\n",
    "            failed.append((paper, \"affiliation error: \" + str(affilerror) ))\n",
    "            continue\n",
    "        \n",
    "        # Hack because sometimes author parsing does not work well\n",
    "        if (len(doc.authors) != len(paper['authors'])):\n",
    "            doc._authors = paper['authors']\n",
    "        else:\n",
    "            # highlight authors (FIXME: doc.highlight_authors)\n",
    "            # done on arxiv paper already\n",
    "            doc._authors = highlight_authors_in_list(\n",
    "                [mpia.get_initials(k) for k in doc.authors], \n",
    "                normed_mpia_authors, verbose=True)\n",
    "        if (doc.abstract) in (None, ''):\n",
    "            doc._abstract = paper['abstract']\n",
    "            \n",
    "        doc.comment = (get_markdown_badge(paper_id) + \n",
    "                       \"<mark>Appeared on: \" + paper['date'] + \"</mark> - \")\n",
    "        if paper['comments']:\n",
    "            doc.comment += \" _\" + paper['comments'] + \"_\"\n",
    "        \n",
    "        full_md = doc.generate_markdown_text()\n",
    "        \n",
    "        full_md += get_markdown_qrcode(paper_id)\n",
    "        \n",
    "        # replace citations\n",
    "        try:\n",
    "            bibdata = latex_bib.LatexBib.from_doc(doc)\n",
    "            full_md = latex_bib.replace_citations(full_md, bibdata)\n",
    "        except Exception as e:\n",
    "            print(e)\n",
    "        \n",
    "        documents.append((paper_id, full_md))\n",
    "    except Exception as e:\n",
    "        warnings.warn(latex.LatexWarning(f\"{paper_id:s} did not run properly\\n\" +\n",
    "                                         str(e)\n",
    "                                        ))\n",
    "        failed.append((paper, \"latex error \" + str(e)))"
   ]
  },
  {
   "cell_type": "markdown",
   "id": "2505a25c",
   "metadata": {
    "papermill": {
     "duration": 0.004137,
     "end_time": "2024-04-10T04:09:26.405210",
     "exception": false,
     "start_time": "2024-04-10T04:09:26.401073",
     "status": "completed"
    },
    "tags": []
   },
   "source": [
    "### Export the logs\n",
    "\n",
    "Throughout, we also keep track of the logs per paper. see `logs-{today date}.md` "
   ]
  },
  {
   "cell_type": "code",
   "execution_count": 5,
   "id": "d733828a",
   "metadata": {
    "execution": {
     "iopub.execute_input": "2024-04-10T04:09:26.414226Z",
     "iopub.status.busy": "2024-04-10T04:09:26.413971Z",
     "iopub.status.idle": "2024-04-10T04:09:26.429001Z",
     "shell.execute_reply": "2024-04-10T04:09:26.428428Z"
    },
    "papermill": {
     "duration": 0.0213,
     "end_time": "2024-04-10T04:09:26.430353",
     "exception": false,
     "start_time": "2024-04-10T04:09:26.409053",
     "status": "completed"
    },
    "scrolled": false,
    "tags": []
   },
   "outputs": [
    {
     "data": {
      "text/markdown": [
       "## Successful papers"
      ],
      "text/plain": [
       "<IPython.core.display.Markdown object>"
      ]
     },
     "metadata": {},
     "output_type": "display_data"
    },
    {
     "data": {
      "text/markdown": [
       "\n",
       "|||\n",
       "|---:|:---|\n",
       "| [![arXiv](https://img.shields.io/badge/arXiv-arXiv:2404.06140-b31b1b.svg)](https://arxiv.org/abs/arXiv:2404.06140) | **Thin Accretion disks in GR-MHD simulations**  |\n",
       "|| I. K. Dihingia, <mark>C. Fendt</mark> |\n",
       "|*Appeared on*| *2024-04-10*|\n",
       "|*Comments*| *37 pages, 15 figures, Invited chapter for the edited book New Frontiers in GRMHD Simulations (Eds. C. Bambi, Y. Mizuno, S. Shashank and F. Yuan, Springer Singapore, expected in 2024)*|\n",
       "|**Abstract**| We review some recent results of general relativistic magnetohydrodynamic (GR-MHD) simulations considering the evolution of geometrically thin disks around a central black hole. Thin disk GR-MHD simulations complement the widely used MAD (Magnetically Arrested Disk) or SANE (Standard And Normal Evolution) approaches of evolving from an initial disk torus. In particular, we discuss the dynamical evolution of the disk, its role in the formation of disk winds or jets, the impact of disk resistivity, and its potential role in generating magnetic flux by an internal disk dynamo. The main characteristics of a thin disk in our approach are the Keplerian rotation of the disk material, which allows to launch disk outflows by the Blandford-Payne magneto-centrifugal effect, in addition to the Blandford-Znajek-driven spine jet from the black hole ergosphere. Thus, for this approach, we neglect disk thermodynamics and radiative effects, concentrating predominantly on the dynamical evolution of the system. Resistive MHD further allows the investigation of physical reconnection and also dynamo action. Magnetic reconnection may generate magnetic islands of plasmoids that are ejected from the disk along with the outflow. We also discussed potential applications of thin disk in explaining the decaying phase of an outburst in black hole X-ray binaries (BH-XRBs). Post-processing of radiation using the simulated dynamical data allows to derive spectra or fluxes, e.g., in the X-ray band, and to derive potential variability characteristics. |"
      ],
      "text/plain": [
       "[arXiv:2404.06140] Thin Accretion disks in GR-MHD simulations\n",
       "\tI. K. Dihingia, <mark>C. Fendt</mark>"
      ]
     },
     "metadata": {},
     "output_type": "display_data"
    },
    {
     "data": {
      "text/markdown": [
       "## Failed papers"
      ],
      "text/plain": [
       "<IPython.core.display.Markdown object>"
      ]
     },
     "metadata": {},
     "output_type": "display_data"
    },
    {
     "data": {
      "text/markdown": [
       "\n",
       "|||\n",
       "|---:|:---|\n",
       "| [![arXiv](https://img.shields.io/badge/arXiv-arXiv:2404.05975-b31b1b.svg)](https://arxiv.org/abs/arXiv:2404.05975) | **On Variation of Light Curves and Broad Emission Lines for Periodic QSOs  from co-rotating Supermassive binary black holes in elliptical orbits**  |\n",
       "|| J. Ge, Y. Lu, C. Yan, <mark>J. Liu</mark> |\n",
       "|*Appeared on*| *2024-04-10*|\n",
       "|*Comments*| *13 pages, 9 figures, accepted for publication in A&A*|\n",
       "|**Abstract**| Context. Periodic QSOs are considered as candidates of supermassive binary black hole (BBH) systems in galactic centers. Further confirmation of these candidates may require different lines of observational evidences. Aims. Assuming the Doopler boosting scenario, in this paper we investigate the (coherent) variations of both broad emission lines (BELs) and continuum light curves for active BBH systems surrounding by a circumbinary broad line region (cBLR) and focus on their dependence on the eccentric orbital configuration. Methods. We calculate the variation of continuum light and the Doppler enhanced/weakened photoionization of each BLR cloud according to the motion of BBHs in elliptical orbits, and finally obtain the coherent variation of the continuum and BELs. Results. We find that both the amplitude and variation pattern of the continuum light curves and the evolution of the BEL profiles sensitively depend on the eccentric orbital configuration of BBH systems. If only the secondary BH is active, both the variation amplitudes of continuum light curves and BELs increase with increasing BBH inclination angles and orbital eccentricities, but decrease with increasing BBH mass ratio. If both BHs are active, the asymmetry in the ionization of BLR clouds at different areas caused by the Doppler boosting effect of the secondary BH is weakened due to that of the primary BH at the opposite direction, which leads to systematically smaller variation amplitudes of both continuum light curves and BELs than the cases with only secondary BH activated. Conclusions. The coherent variations of the BEL profiles with the continuum light for those periodic QSOs provide an important way to confirm the existence of BBHs in their center. Future joint analysis of the light curves and multi-epoch observed BEL profiles for periodic QSOs may lead to the identification of a number of BBH systems. |\n",
       "|<p style=\"color:green\"> **ERROR** </p>| <p style=\"color:green\">affiliation error: mpia.affiliation_verifications: 'Heidelberg' keyword not found.</p> |"
      ],
      "text/plain": [
       "<IPython.core.display.Markdown object>"
      ]
     },
     "metadata": {},
     "output_type": "display_data"
    },
    {
     "data": {
      "text/markdown": [
       "\n",
       "|||\n",
       "|---:|:---|\n",
       "| [![arXiv](https://img.shields.io/badge/arXiv-arXiv:2404.05912-b31b1b.svg)](https://arxiv.org/abs/arXiv:2404.05912) | **OGLE-2018-BLG-0971, MOA-2023-BLG-065, and OGLE-2023-BLG-0136:  Microlensing events with prominent orbital effects**  |\n",
       "|| C. Han, et al. -- incl., <mark>A. Gould</mark> |\n",
       "|*Appeared on*| *2024-04-10*|\n",
       "|*Comments*| *11 pages, 13 figures, 6 tables*|\n",
       "|**Abstract**| We undertake a project to reexamine microlensing data gathered from high-cadence surveys. The aim of the project is to reinvestigate lensing events with light curves exhibiting intricate anomaly features associated with caustics, yet lacking prior proposed models to explain these features. Through detailed reanalyses considering higher-order effects, we identify that accounting for orbital motions of lenses is vital in accurately explaining the anomaly features observed in the light curves of the lensing events OGLE-2018-BLG-0971, MOA-2023-BLG-065, and OGLE-2023-BLG-0136. We estimate the masses and distances to the lenses by conducting Bayesian analyses using the lensing parameters of the newly found lensing solutions. From these analyses, we identify that the lenses of the events OGLE-2018-BLG-0971 and MOA-2023-BLG-065 are binaries composed of M dwarfs, while the lens of OGLE-2023-BLG-0136 is likely to be a binary composed of an early K-dwarf primary and a late M-dwarf companion. For all lensing events, the probability of the lens residing in the bulge is considerably higher than that of it being located in the disk. |\n",
       "|<p style=\"color:red\"> **ERROR** </p>| <p style=\"color:red\">latex error Unable to locate Ghostscript on paths</p> |"
      ],
      "text/plain": [
       "<IPython.core.display.Markdown object>"
      ]
     },
     "metadata": {},
     "output_type": "display_data"
    },
    {
     "data": {
      "text/markdown": [
       "\n",
       "|||\n",
       "|---:|:---|\n",
       "| [![arXiv](https://img.shields.io/badge/arXiv-arXiv:2404.05794-b31b1b.svg)](https://arxiv.org/abs/arXiv:2404.05794) | **Deep Learning the Intergalactic Medium using Lyman-alpha Forest at $ 4  \\leq z \\leq 5$**  |\n",
       "|| <mark>F. Nasir</mark>, et al. -- incl., <mark>P. Gaikwad</mark> |\n",
       "|*Appeared on*| *2024-04-10*|\n",
       "|*Comments*| *17 pages, Submitted to MNRAS*|\n",
       "|**Abstract**| Unveiling the thermal history of the intergalactic medium (IGM) at $4 \\leq z \\leq 5$ holds the potential to reveal early onset HeII reionization or lingering thermal fluctuations from HI reionization. We set out to reconstruct the IGM gas properties along simulated Lyman-alpha forest data on pixel-by-pixel basis, employing deep Bayesian neural networks. Our approach leverages the Sherwood-Relics simulation suite, consisting of diverse thermal histories, to generate mock spectra. Our convolutional and residual networks with likelihood metric predicts the Ly$\\alpha$ optical depth-weighted density or temperature for each pixel in the Ly$\\alpha$ forest skewer. We find that our network can successfully reproduce IGM conditions with high fidelity across range of instrumental signal-to-noise. These predictions are subsequently translated into the temperature-density plane, facilitating the derivation of reliable constraints on thermal parameters. This allows us to estimate temperature at mean cosmic density, $T_{\\rm 0}$ with one sigma confidence $\\delta T_{\\rm 0} \\sim 1000{\\rm K}$ using only one $20$Mpc/h sightline ($\\Delta z\\simeq 0.04$) with a typical reionization history. Existing studies utilize redshift pathlength comparable to $\\Delta z\\simeq 4$ for similar constraints. We can also provide more stringent constraints on the slope ($1\\sigma$ confidence interval $\\delta {\\rm \\gamma} \\lesssim 0.1$) of the IGM temperature-density relation as compared to other traditional approaches. We test the reconstruction on a single high signal-to-noise observed spectrum ($20$ Mpc/h segment), and recover thermal parameters consistent with current measurements. This machine learning approach has the potential to provide accurate yet robust measurements of IGM thermal history at the redshifts in question. |\n",
       "|<p style=\"color:red\"> **ERROR** </p>| <p style=\"color:red\">latex error list index out of range</p> |"
      ],
      "text/plain": [
       "<IPython.core.display.Markdown object>"
      ]
     },
     "metadata": {},
     "output_type": "display_data"
    }
   ],
   "source": [
    "import datetime\n",
    "today = str(datetime.date.today())\n",
    "logfile = f\"_build/html/logs/log-{today}.md\"\n",
    "\n",
    "\n",
    "with open(logfile, 'w') as logs:\n",
    "    # Success\n",
    "    logs.write(f'# Arxiv on Deck 2: Logs - {today}\\n\\n')\n",
    "    logs.write(\"\"\"* Arxiv had {0:,d} new papers\\n\"\"\".format(len(new_papers)))\n",
    "    logs.write(\"\"\"    * {0:,d} with possible author matches\\n\\n\"\"\".format(len(candidates)))\n",
    "    logs.write(\"## Sucessful papers\\n\\n\")\n",
    "    display(Markdown(\"## Successful papers\"))\n",
    "    success = [k[0] for k in documents]\n",
    "    for candid in candidates:\n",
    "        if candid['identifier'].split(':')[-1] in success:\n",
    "            display(candid)\n",
    "            logs.write(candid.generate_markdown_text() + '\\n\\n')\n",
    "\n",
    "    ## failed\n",
    "    logs.write(\"## Failed papers\\n\\n\")\n",
    "    display(Markdown(\"## Failed papers\"))\n",
    "    failed = sorted(failed, key=lambda x: x[1])\n",
    "    current_reason = \"\"\n",
    "    for paper, reason in failed:\n",
    "        if 'affiliation' in reason:\n",
    "            color = 'green'\n",
    "        else:\n",
    "            color = 'red'\n",
    "        data = Markdown(\n",
    "                paper.generate_markdown_text() + \n",
    "                f'\\n|<p style=\"color:{color:s}\"> **ERROR** </p>| <p style=\"color:{color:s}\">{reason:s}</p> |'\n",
    "               )\n",
    "        if reason != current_reason:\n",
    "            logs.write(f'### {reason:s} \\n\\n')\n",
    "            current_reason = reason\n",
    "        logs.write(data.data + '\\n\\n')\n",
    "        \n",
    "        # only display here the important errors (all in logs)\n",
    "        # if color in ('red',):\n",
    "        display(data)"
   ]
  },
  {
   "cell_type": "markdown",
   "id": "472d20ee",
   "metadata": {
    "papermill": {
     "duration": 0.004509,
     "end_time": "2024-04-10T04:09:26.439589",
     "exception": false,
     "start_time": "2024-04-10T04:09:26.435080",
     "status": "completed"
    },
    "tags": []
   },
   "source": [
    "## Export documents\n",
    "\n",
    "We now write the .md files and export relevant images"
   ]
  },
  {
   "cell_type": "code",
   "execution_count": 6,
   "id": "d426aed9",
   "metadata": {
    "execution": {
     "iopub.execute_input": "2024-04-10T04:09:26.449850Z",
     "iopub.status.busy": "2024-04-10T04:09:26.449413Z",
     "iopub.status.idle": "2024-04-10T04:09:26.455783Z",
     "shell.execute_reply": "2024-04-10T04:09:26.455168Z"
    },
    "papermill": {
     "duration": 0.013041,
     "end_time": "2024-04-10T04:09:26.457155",
     "exception": false,
     "start_time": "2024-04-10T04:09:26.444114",
     "status": "completed"
    },
    "tags": []
   },
   "outputs": [],
   "source": [
    "def export_markdown_summary(md: str, md_fname:str, directory: str):\n",
    "    \"\"\"Export MD document and associated relevant images\"\"\"\n",
    "    import os\n",
    "    import shutil\n",
    "    import re\n",
    "\n",
    "    if (os.path.exists(directory) and not os.path.isdir(directory)):\n",
    "        raise RuntimeError(f\"a non-directory file exists with name {directory:s}\")\n",
    "\n",
    "    if (not os.path.exists(directory)):\n",
    "        print(f\"creating directory {directory:s}\")\n",
    "        os.mkdir(directory)\n",
    "\n",
    "    fig_fnames = (re.compile(r'\\[Fig.*\\]\\((.*)\\)').findall(md) + \n",
    "                  re.compile(r'\\<img src=\"([^>\\s]*)\"[^>]*/>').findall(md))\n",
    "    for fname in fig_fnames:\n",
    "        if 'http' in fname:\n",
    "            # No need to copy online figures\n",
    "            continue\n",
    "        destdir = os.path.join(directory, os.path.dirname(fname))\n",
    "        destfname = os.path.join(destdir, os.path.basename(fname))\n",
    "        try:\n",
    "            os.makedirs(destdir)\n",
    "        except FileExistsError:\n",
    "            pass\n",
    "        shutil.copy(fname, destfname)\n",
    "    with open(os.path.join(directory, md_fname), 'w') as fout:\n",
    "        fout.write(md)\n",
    "    print(\"exported in \", os.path.join(directory, md_fname))\n",
    "    [print(\"    + \" + os.path.join(directory,fk)) for fk in fig_fnames]"
   ]
  },
  {
   "cell_type": "code",
   "execution_count": 7,
   "id": "014d04a4",
   "metadata": {
    "execution": {
     "iopub.execute_input": "2024-04-10T04:09:26.467502Z",
     "iopub.status.busy": "2024-04-10T04:09:26.467027Z",
     "iopub.status.idle": "2024-04-10T04:09:26.472186Z",
     "shell.execute_reply": "2024-04-10T04:09:26.471632Z"
    },
    "papermill": {
     "duration": 0.011768,
     "end_time": "2024-04-10T04:09:26.473529",
     "exception": false,
     "start_time": "2024-04-10T04:09:26.461761",
     "status": "completed"
    },
    "tags": []
   },
   "outputs": [
    {
     "name": "stdout",
     "output_type": "stream",
     "text": [
      "exported in  _build/html/2404.06140.md\n",
      "    + _build/html/tmp_2404.06140/./wind-prop.png\n",
      "    + _build/html/tmp_2404.06140/./ideal-hd.png\n",
      "    + _build/html/tmp_2404.06140/./apjabe93bf16_hr_cr_1.jpeg\n"
     ]
    }
   ],
   "source": [
    "for paper_id, md in documents:\n",
    "    export_markdown_summary(md, f\"{paper_id:s}.md\", '_build/html/')"
   ]
  },
  {
   "cell_type": "markdown",
   "id": "f087a0a7",
   "metadata": {
    "papermill": {
     "duration": 0.004565,
     "end_time": "2024-04-10T04:09:26.482790",
     "exception": false,
     "start_time": "2024-04-10T04:09:26.478225",
     "status": "completed"
    },
    "tags": []
   },
   "source": [
    "## Display the papers\n",
    "\n",
    "Not necessary but allows for a quick check."
   ]
  },
  {
   "cell_type": "code",
   "execution_count": 8,
   "id": "fd25f625",
   "metadata": {
    "execution": {
     "iopub.execute_input": "2024-04-10T04:09:26.493223Z",
     "iopub.status.busy": "2024-04-10T04:09:26.492704Z",
     "iopub.status.idle": "2024-04-10T04:09:26.497468Z",
     "shell.execute_reply": "2024-04-10T04:09:26.496873Z"
    },
    "papermill": {
     "duration": 0.011376,
     "end_time": "2024-04-10T04:09:26.498807",
     "exception": false,
     "start_time": "2024-04-10T04:09:26.487431",
     "status": "completed"
    },
    "scrolled": false,
    "tags": []
   },
   "outputs": [
    {
     "data": {
      "text/markdown": [
       "<div class=\"macros\" style=\"visibility:hidden;\">\n",
       "$\\newcommand{\\ensuremath}{}$\n",
       "$\\newcommand{\\xspace}{}$\n",
       "$\\newcommand{\\object}[1]{\\texttt{#1}}$\n",
       "$\\newcommand{\\farcs}{{.}''}$\n",
       "$\\newcommand{\\farcm}{{.}'}$\n",
       "$\\newcommand{\\arcsec}{''}$\n",
       "$\\newcommand{\\arcmin}{'}$\n",
       "$\\newcommand{\\ion}[2]{#1#2}$\n",
       "$\\newcommand{\\textsc}[1]{\\textrm{#1}}$\n",
       "$\\newcommand{\\hl}[1]{\\textrm{#1}}$\n",
       "$\\newcommand{\\footnote}[1]{}$\n",
       "$\\newcommand{\\ic}[1]{\\textcolor{red}{ #1}}$\n",
       "$\\newcommand{\\cf}{\\textcolor{purple}}$\n",
       "$\\newcommand{\\enquote}[1]{\"#1\"}$</div>\n",
       "\n",
       "\n",
       "\n",
       "<div id=\"title\">\n",
       "\n",
       "# Thin Accretion disks in GR-MHD simulations\n",
       "\n",
       "</div>\n",
       "<div id=\"comments\">\n",
       "\n",
       "[![arXiv](https://img.shields.io/badge/arXiv-2404.06140-b31b1b.svg)](https://arxiv.org/abs/2404.06140)<mark>Appeared on: 2024-04-10</mark> -  _37 pages, 15 figures, Invited chapter for the edited book New Frontiers in GRMHD Simulations (Eds. C. Bambi, Y. Mizuno, S. Shashank and F. Yuan, Springer Singapore, expected in 2024)_\n",
       "\n",
       "</div>\n",
       "<div id=\"authors\">\n",
       "\n",
       "I. K. Dihingia, <mark>C. Fendt</mark>\n",
       "\n",
       "</div>\n",
       "<div id=\"abstract\">\n",
       "\n",
       "**Abstract:** We review some recent results of general relativistic magnetohydrodynamic (GR-MHD) simulations considering the evolution of geometrically thin disks around a central black hole.Thin disk GR-MHD simulations complement the widely used MAD (Magnetically Arrested Disk) or SANE (Standard And Normal Evolution) approaches of evolving from an initial disk torus.In particular, we discuss the dynamical evolution of the disk, its role in the formation of disk winds or jets, the impact of disk resistivity, and its potential role in generating magnetic flux by an internal disk dynamo.The main characteristics of a thin disk in our approach are the Keplerian rotation of the disk material, which allows to launch disk outflows by the Blandford-Payne magneto-centrifugal effect, in addition to the Blandford-Znajek-driven spine jet from the black hole ergosphere. Thus, for this approach, we neglect disk thermodynamics and radiative effects, concentrating predominantly on the dynamical evolution of the system.Resistive MHD further allows the investigation of physical reconnection and also dynamo action.Magnetic reconnection may generate magnetic islands of plasmoids that are ejected from the disk along with the outflow.We also discussed potential applications of thin disk in explaining the decaying phase of an outburst in black hole X-ray binaries (BH-XRBs). Post-processing of radiation using the simulated dynamical data allows to derive spectra or fluxes, e.g., in the X-ray band,and to derive potential variability characteristics.\n",
       "\n",
       "</div>\n",
       "\n",
       "<div id=\"div_fig1\">\n",
       "\n",
       "<img src=\"tmp_2404.06140/./wind-prop.png\" alt=\"Fig6\" width=\"100%\"/>\n",
       "\n",
       "**Figure 6. -** Distribution of (a) poloidal Alfvénic Mach number ($M_{\\rm A,P}$), (b) $B_{\\rm tor}/B_{\\rm p}$, and (c) plasma-$\\beta$ for a magnetised thin accretion disk evolution from \\cite{Dihingia-etal2021}. In panel (a), the solid black and blue lines correspond to contours of magnetisation $\\sigma=1$ and $M_{\\rm A,P}=1$, respectively. In panel (b),  the solid black, grey, and blue lines correspond to contours of $B_{\\rm tor}/B_{\\rm p} = 1, 5$, and $M_{\\rm A,P} = 1$, respectively. In panel (c), the black and red lines correspond to the contours $\\beta=1$, and $M_{\\rm A,P} = 1$, respectively. (*fig-wind-prop*)\n",
       "\n",
       "</div>\n",
       "<div id=\"div_fig2\">\n",
       "\n",
       "<img src=\"tmp_2404.06140/./ideal-hd.png\" alt=\"Fig4\" width=\"100%\"/>\n",
       "\n",
       "**Figure 4. -** Hydrodynamic evolution of NTD setup from \\cite{Dihingia-etal2021}. Panel (a) and (b) show density distribution at time $t=0$ and $t=10000 t_g$, respectively. (*fig-hyd*)\n",
       "\n",
       "</div>\n",
       "<div id=\"div_fig3\">\n",
       "\n",
       "<img src=\"tmp_2404.06140/./apjabe93bf16_hr_cr_1.jpeg\" alt=\"Fig15\" width=\"100%\"/>\n",
       "\n",
       "**Figure 15. -** Evolution magnetic field strength during the dynamo process.\n",
       "    Shown is the Poynting flux for the funnel BZ jet, and the disk wind (left).\n",
       "    The flux is integrated along a sphere with radius $r=35 R_{\\rm g}$, while the BZ considered\n",
       "    for the segment $0\\deg <\\theta < 25\\deg$ and the disk wind for the segment\n",
       "    $25\\deg <\\theta < 65\\deg$. The values are averaged over the corresponding segments at the\n",
       "    lower hemisphere.\n",
       "    The corresponding evolution of the absolute dynamo parameter $\\xi$ is shown at the bottom,\n",
       "    averaged in space for the whole disk, and for the inner disk area, $r < 20 R_{\\rm g}$.\n",
       "    Panels taken from \\cite{VourellisFendt2021}. (*fig-evolv-poynting*)\n",
       "\n",
       "</div><div id=\"qrcode\"><img src=https://api.qrserver.com/v1/create-qr-code/?size=100x100&data=\"https://arxiv.org/abs/2404.06140\"></div>"
      ],
      "text/plain": [
       "<IPython.core.display.Markdown object>"
      ]
     },
     "metadata": {},
     "output_type": "display_data"
    }
   ],
   "source": [
    "[display(Markdown(k[1])) for k in documents];"
   ]
  },
  {
   "cell_type": "markdown",
   "id": "873873a4",
   "metadata": {
    "papermill": {
     "duration": 0.004781,
     "end_time": "2024-04-10T04:09:26.508586",
     "exception": false,
     "start_time": "2024-04-10T04:09:26.503805",
     "status": "completed"
    },
    "tags": []
   },
   "source": [
    "# Create HTML index"
   ]
  },
  {
   "cell_type": "code",
   "execution_count": 9,
   "id": "cf665672",
   "metadata": {
    "execution": {
     "iopub.execute_input": "2024-04-10T04:09:26.519498Z",
     "iopub.status.busy": "2024-04-10T04:09:26.518966Z",
     "iopub.status.idle": "2024-04-10T04:09:26.528930Z",
     "shell.execute_reply": "2024-04-10T04:09:26.528362Z"
    },
    "papermill": {
     "duration": 0.01683,
     "end_time": "2024-04-10T04:09:26.530265",
     "exception": false,
     "start_time": "2024-04-10T04:09:26.513435",
     "status": "completed"
    },
    "tags": []
   },
   "outputs": [
    {
     "name": "stdout",
     "output_type": "stream",
     "text": [
      "400  publications files modified in the last 7 days.\n"
     ]
    }
   ],
   "source": [
    "from datetime import datetime, timedelta, timezone\n",
    "from glob import glob\n",
    "import os\n",
    "\n",
    "files = glob('_build/html/*.md')\n",
    "days = 7\n",
    "now = datetime.today()\n",
    "res = []\n",
    "for fk in files:\n",
    "    stat_result = os.stat(fk).st_ctime\n",
    "    modified = datetime.fromtimestamp(stat_result, tz=timezone.utc).replace(tzinfo=None)\n",
    "    delta = now.today() - modified\n",
    "    if delta <= timedelta(days=days):\n",
    "        res.append((delta.seconds, fk))\n",
    "res = [k[1] for k in reversed(sorted(res, key=lambda x:x[1]))]\n",
    "npub = len(res)\n",
    "print(len(res), f\" publications files modified in the last {days:d} days.\")\n",
    "# [ print('\\t', k) for k in res ];"
   ]
  },
  {
   "cell_type": "code",
   "execution_count": 10,
   "id": "015de740",
   "metadata": {
    "execution": {
     "iopub.execute_input": "2024-04-10T04:09:26.541430Z",
     "iopub.status.busy": "2024-04-10T04:09:26.540886Z",
     "iopub.status.idle": "2024-04-10T04:09:26.563854Z",
     "shell.execute_reply": "2024-04-10T04:09:26.563296Z"
    },
    "papermill": {
     "duration": 0.029975,
     "end_time": "2024-04-10T04:09:26.565261",
     "exception": false,
     "start_time": "2024-04-10T04:09:26.535286",
     "status": "completed"
    },
    "tags": []
   },
   "outputs": [
    {
     "name": "stdout",
     "output_type": "stream",
     "text": [
      "6  publications in the last 7 days.\n"
     ]
    }
   ],
   "source": [
    "import datetime\n",
    "from glob import glob\n",
    "\n",
    "def get_last_n_days(lst, days=1):\n",
    "    \"\"\" Get the documents from the last n days \"\"\"\n",
    "    sorted_lst = sorted(lst, key=lambda x: x[1], reverse=True)\n",
    "    for fname, date in sorted_lst:\n",
    "        if date >= str(datetime.date.today() - datetime.timedelta(days=days)):\n",
    "            yield fname\n",
    "\n",
    "def extract_appearance_dates(lst_file):\n",
    "    dates = []\n",
    "\n",
    "    def get_date(line):\n",
    "        return line\\\n",
    "            .split('Appeared on:')[-1]\\\n",
    "            .split('</mark>')[0].strip()\n",
    "\n",
    "    for fname in lst:\n",
    "        with open(fname, 'r') as f:\n",
    "            found_date = False\n",
    "            for line in f:\n",
    "                if not found_date:\n",
    "                    if \"Appeared on\" in line:\n",
    "                        found_date = True\n",
    "                        dates.append((fname, get_date(line)))\n",
    "                else:\n",
    "                    break\n",
    "    return dates\n",
    "\n",
    "from glob import glob\n",
    "lst = glob('_build/html/*md')\n",
    "days = 7\n",
    "dates = extract_appearance_dates(lst)\n",
    "res = list(get_last_n_days(dates, days))\n",
    "npub = len(res)\n",
    "print(len(res), f\" publications in the last {days:d} days.\")"
   ]
  },
  {
   "cell_type": "code",
   "execution_count": 11,
   "id": "52ca0208",
   "metadata": {
    "execution": {
     "iopub.execute_input": "2024-04-10T04:09:26.576262Z",
     "iopub.status.busy": "2024-04-10T04:09:26.576056Z",
     "iopub.status.idle": "2024-04-10T04:09:26.581220Z",
     "shell.execute_reply": "2024-04-10T04:09:26.580596Z"
    },
    "papermill": {
     "duration": 0.012305,
     "end_time": "2024-04-10T04:09:26.582669",
     "exception": false,
     "start_time": "2024-04-10T04:09:26.570364",
     "status": "completed"
    },
    "scrolled": false,
    "tags": []
   },
   "outputs": [],
   "source": [
    "def create_carousel(npub=4):\n",
    "    \"\"\" Generate the HTML code for a carousel with `npub` slides \"\"\"\n",
    "    carousel = [\"\"\"  <div class=\"carousel\" \"\"\",\n",
    "                \"\"\"       data-flickity='{ \"autoPlay\": 10000, \"adaptiveHeight\": true, \"resize\": true, \"wrapAround\": true, \"pauseAutoPlayOnHover\": true, \"groupCells\": 1 }' id=\"asyncTypeset\">\"\"\"\n",
    "                ]\n",
    "    \n",
    "    item_str = \"\"\"    <div class=\"carousel-cell\"> <div id=\"slide{k}\" class=\"md_view\">Content {k}</div> </div>\"\"\"\n",
    "    for k in range(1, npub + 1):\n",
    "        carousel.append(item_str.format(k=k))\n",
    "    carousel.append(\"  </div>\")\n",
    "    return '\\n'.join(carousel)\n",
    "\n",
    "def create_grid(npub=4):\n",
    "    \"\"\" Generate the HTML code for a flat grid with `npub` slides \"\"\"\n",
    "    grid = [\"\"\"  <div class=\"grid\"> \"\"\",\n",
    "                ]\n",
    "    \n",
    "    item_str = \"\"\"    <div class=\"grid-item\"> <div id=\"slide{k}\" class=\"md_view\">Content {k}</div> </div>\"\"\"\n",
    "    for k in range(1, npub + 1):\n",
    "        grid.append(item_str.format(k=k))\n",
    "    grid.append(\"  </div>\")\n",
    "    return '\\n'.join(grid)"
   ]
  },
  {
   "cell_type": "code",
   "execution_count": 12,
   "id": "a6eac5b6",
   "metadata": {
    "execution": {
     "iopub.execute_input": "2024-04-10T04:09:26.593771Z",
     "iopub.status.busy": "2024-04-10T04:09:26.593371Z",
     "iopub.status.idle": "2024-04-10T04:09:26.598297Z",
     "shell.execute_reply": "2024-04-10T04:09:26.597768Z"
    },
    "papermill": {
     "duration": 0.011883,
     "end_time": "2024-04-10T04:09:26.599564",
     "exception": false,
     "start_time": "2024-04-10T04:09:26.587681",
     "status": "completed"
    },
    "scrolled": false,
    "tags": []
   },
   "outputs": [],
   "source": [
    "carousel = create_carousel(npub)\n",
    "docs = ', '.join(['\"{0:s}\"'.format(k.split('/')[-1]) for k in res])\n",
    "slides = ', '.join([f'\"slide{k}\"' for k in range(1, npub + 1)])\n",
    "\n",
    "with open(\"daily_template.html\", \"r\") as tpl:\n",
    "    page = tpl.read()\n",
    "    page = page.replace(\"{%-- carousel:s --%}\", carousel)\\\n",
    "               .replace(\"{%-- suptitle:s --%}\",  \"7-day archives\" )\\\n",
    "               .replace(\"{%-- docs:s --%}\", docs)\\\n",
    "               .replace(\"{%-- slides:s --%}\", slides)\n",
    "    \n",
    "with open(\"_build/html/index_7days.html\", 'w') as fout:\n",
    "    fout.write(page)"
   ]
  },
  {
   "cell_type": "code",
   "execution_count": 13,
   "id": "adc1a1ec",
   "metadata": {
    "execution": {
     "iopub.execute_input": "2024-04-10T04:09:26.610892Z",
     "iopub.status.busy": "2024-04-10T04:09:26.610501Z",
     "iopub.status.idle": "2024-04-10T04:09:26.617194Z",
     "shell.execute_reply": "2024-04-10T04:09:26.616555Z"
    },
    "papermill": {
     "duration": 0.013816,
     "end_time": "2024-04-10T04:09:26.618622",
     "exception": false,
     "start_time": "2024-04-10T04:09:26.604806",
     "status": "completed"
    },
    "tags": []
   },
   "outputs": [
    {
     "name": "stdout",
     "output_type": "stream",
     "text": [
      "1  publications in the last day.\n"
     ]
    }
   ],
   "source": [
    "# redo for today\n",
    "days = 1\n",
    "res = list(get_last_n_days(dates, days))\n",
    "npub = len(res)\n",
    "print(len(res), f\" publications in the last day.\")\n",
    "\n",
    "carousel = create_carousel(npub)\n",
    "docs = ', '.join(['\"{0:s}\"'.format(k.split('/')[-1]) for k in res])\n",
    "slides = ', '.join([f'\"slide{k}\"' for k in range(1, npub + 1)])\n",
    "\n",
    "with open(\"daily_template.html\", \"r\") as tpl:\n",
    "    page = tpl.read()\n",
    "    page = page.replace(\"{%-- carousel:s --%}\", carousel)\\\n",
    "               .replace(\"{%-- suptitle:s --%}\",  \"Daily\" )\\\n",
    "               .replace(\"{%-- docs:s --%}\", docs)\\\n",
    "               .replace(\"{%-- slides:s --%}\", slides)\n",
    "    \n",
    "# print(carousel, docs, slides)\n",
    "# print(page)\n",
    "with open(\"_build/html/index_daily.html\", 'w') as fout:\n",
    "    fout.write(page)"
   ]
  },
  {
   "cell_type": "code",
   "execution_count": 14,
   "id": "00eece82",
   "metadata": {
    "execution": {
     "iopub.execute_input": "2024-04-10T04:09:26.629851Z",
     "iopub.status.busy": "2024-04-10T04:09:26.629602Z",
     "iopub.status.idle": "2024-04-10T04:09:26.636196Z",
     "shell.execute_reply": "2024-04-10T04:09:26.635564Z"
    },
    "papermill": {
     "duration": 0.013916,
     "end_time": "2024-04-10T04:09:26.637639",
     "exception": false,
     "start_time": "2024-04-10T04:09:26.623723",
     "status": "completed"
    },
    "scrolled": false,
    "tags": []
   },
   "outputs": [
    {
     "name": "stdout",
     "output_type": "stream",
     "text": [
      "6  6 publications selected.\n"
     ]
    }
   ],
   "source": [
    "# Create the flat grid of the last N papers (fixed number regardless of dates)\n",
    "from itertools import islice \n",
    "\n",
    "npub = 6\n",
    "res = [k[0] for k in (islice(reversed(sorted(dates, key=lambda x: x[1])), 6))]\n",
    "print(len(res), f\" {npub} publications selected.\")\n",
    "\n",
    "grid = create_grid(npub)\n",
    "docs = ', '.join(['\"{0:s}\"'.format(k.split('/')[-1]) for k in res])\n",
    "slides = ', '.join([f'\"slide{k}\"' for k in range(1, npub + 1)])\n",
    "\n",
    "with open(\"grid_template.html\", \"r\") as tpl:\n",
    "    page = tpl.read()\n",
    "    page = page.replace(\"{%-- grid-content:s --%}\", grid)\\\n",
    "               .replace(\"{%-- suptitle:s --%}\",  f\"Last {npub:,d} papers\" )\\\n",
    "               .replace(\"{%-- docs:s --%}\", docs)\\\n",
    "               .replace(\"{%-- slides:s --%}\", slides)\n",
    "    \n",
    "# print(grid, docs, slides)\n",
    "# print(page)\n",
    "with open(\"_build/html/index_npub_grid.html\", 'w') as fout:\n",
    "    fout.write(page)"
   ]
  }
 ],
 "metadata": {
  "kernelspec": {
   "display_name": "Python 3 (ipykernel)",
   "language": "python",
   "name": "python3"
  },
  "language_info": {
   "codemirror_mode": {
    "name": "ipython",
    "version": 3
   },
   "file_extension": ".py",
   "mimetype": "text/x-python",
   "name": "python",
   "nbconvert_exporter": "python",
   "pygments_lexer": "ipython3",
   "version": "3.9.19"
  },
  "papermill": {
   "default_parameters": {},
   "duration": 52.834036,
   "end_time": "2024-04-10T04:09:26.859544",
   "environment_variables": {},
   "exception": null,
   "input_path": "MPIA daily digest.ipynb",
   "output_path": "log.ipynb",
   "parameters": {},
   "start_time": "2024-04-10T04:08:34.025508",
   "version": "2.5.0"
  },
  "vscode": {
   "interpreter": {
    "hash": "aee8b7b246df8f9039afb4144a1f6fd8d2ca17a180786b69acc140d282b71a49"
   }
  },
  "widgets": {
   "application/vnd.jupyter.widget-state+json": {
    "state": {
     "065eb82f62bc4b7e9ea8656e09600ba5": {
      "model_module": "@jupyter-widgets/base",
      "model_module_version": "2.0.0",
      "model_name": "LayoutModel",
      "state": {
       "_model_module": "@jupyter-widgets/base",
       "_model_module_version": "2.0.0",
       "_model_name": "LayoutModel",
       "_view_count": null,
       "_view_module": "@jupyter-widgets/base",
       "_view_module_version": "2.0.0",
       "_view_name": "LayoutView",
       "align_content": null,
       "align_items": null,
       "align_self": null,
       "border_bottom": null,
       "border_left": null,
       "border_right": null,
       "border_top": null,
       "bottom": null,
       "display": null,
       "flex": null,
       "flex_flow": null,
       "grid_area": null,
       "grid_auto_columns": null,
       "grid_auto_flow": null,
       "grid_auto_rows": null,
       "grid_column": null,
       "grid_gap": null,
       "grid_row": null,
       "grid_template_areas": null,
       "grid_template_columns": null,
       "grid_template_rows": null,
       "height": null,
       "justify_content": null,
       "justify_items": null,
       "left": null,
       "margin": null,
       "max_height": null,
       "max_width": null,
       "min_height": null,
       "min_width": null,
       "object_fit": null,
       "object_position": null,
       "order": null,
       "overflow": null,
       "padding": null,
       "right": null,
       "top": null,
       "visibility": null,
       "width": null
      }
     },
     "16ca1bb2a6a547e29a9434e2f9a98469": {
      "model_module": "@jupyter-widgets/controls",
      "model_module_version": "2.0.0",
      "model_name": "HTMLModel",
      "state": {
       "_dom_classes": [],
       "_model_module": "@jupyter-widgets/controls",
       "_model_module_version": "2.0.0",
       "_model_name": "HTMLModel",
       "_view_count": null,
       "_view_module": "@jupyter-widgets/controls",
       "_view_module_version": "2.0.0",
       "_view_name": "HTMLView",
       "description": "",
       "description_allow_html": false,
       "layout": "IPY_MODEL_c625c12dac754781896f1836a5c332d5",
       "placeholder": "​",
       "style": "IPY_MODEL_4e571b96ba484172b7fd65e5b0944e16",
       "tabbable": null,
       "tooltip": null,
       "value": " 4/4 [00:29&lt;00:00,  8.00s/it]"
      }
     },
     "355a55b040aa4f37bd4c335528e0de28": {
      "model_module": "@jupyter-widgets/controls",
      "model_module_version": "2.0.0",
      "model_name": "HBoxModel",
      "state": {
       "_dom_classes": [],
       "_model_module": "@jupyter-widgets/controls",
       "_model_module_version": "2.0.0",
       "_model_name": "HBoxModel",
       "_view_count": null,
       "_view_module": "@jupyter-widgets/controls",
       "_view_module_version": "2.0.0",
       "_view_name": "HBoxView",
       "box_style": "",
       "children": [
        "IPY_MODEL_5d5d19c05cb449f28d9f6d6c7dd9c00e",
        "IPY_MODEL_bef2e75870bb4434ac8b2efc4b20aa80",
        "IPY_MODEL_16ca1bb2a6a547e29a9434e2f9a98469"
       ],
       "layout": "IPY_MODEL_77700d460e734ba9bde93d8e73461fe8",
       "tabbable": null,
       "tooltip": null
      }
     },
     "4c339840410a4a13889983de3fc99cc4": {
      "model_module": "@jupyter-widgets/controls",
      "model_module_version": "2.0.0",
      "model_name": "HTMLStyleModel",
      "state": {
       "_model_module": "@jupyter-widgets/controls",
       "_model_module_version": "2.0.0",
       "_model_name": "HTMLStyleModel",
       "_view_count": null,
       "_view_module": "@jupyter-widgets/base",
       "_view_module_version": "2.0.0",
       "_view_name": "StyleView",
       "background": null,
       "description_width": "",
       "font_size": null,
       "text_color": null
      }
     },
     "4e571b96ba484172b7fd65e5b0944e16": {
      "model_module": "@jupyter-widgets/controls",
      "model_module_version": "2.0.0",
      "model_name": "HTMLStyleModel",
      "state": {
       "_model_module": "@jupyter-widgets/controls",
       "_model_module_version": "2.0.0",
       "_model_name": "HTMLStyleModel",
       "_view_count": null,
       "_view_module": "@jupyter-widgets/base",
       "_view_module_version": "2.0.0",
       "_view_name": "StyleView",
       "background": null,
       "description_width": "",
       "font_size": null,
       "text_color": null
      }
     },
     "5d5d19c05cb449f28d9f6d6c7dd9c00e": {
      "model_module": "@jupyter-widgets/controls",
      "model_module_version": "2.0.0",
      "model_name": "HTMLModel",
      "state": {
       "_dom_classes": [],
       "_model_module": "@jupyter-widgets/controls",
       "_model_module_version": "2.0.0",
       "_model_name": "HTMLModel",
       "_view_count": null,
       "_view_module": "@jupyter-widgets/controls",
       "_view_module_version": "2.0.0",
       "_view_name": "HTMLView",
       "description": "",
       "description_allow_html": false,
       "layout": "IPY_MODEL_065eb82f62bc4b7e9ea8656e09600ba5",
       "placeholder": "​",
       "style": "IPY_MODEL_4c339840410a4a13889983de3fc99cc4",
       "tabbable": null,
       "tooltip": null,
       "value": "100%"
      }
     },
     "77700d460e734ba9bde93d8e73461fe8": {
      "model_module": "@jupyter-widgets/base",
      "model_module_version": "2.0.0",
      "model_name": "LayoutModel",
      "state": {
       "_model_module": "@jupyter-widgets/base",
       "_model_module_version": "2.0.0",
       "_model_name": "LayoutModel",
       "_view_count": null,
       "_view_module": "@jupyter-widgets/base",
       "_view_module_version": "2.0.0",
       "_view_name": "LayoutView",
       "align_content": null,
       "align_items": null,
       "align_self": null,
       "border_bottom": null,
       "border_left": null,
       "border_right": null,
       "border_top": null,
       "bottom": null,
       "display": null,
       "flex": null,
       "flex_flow": null,
       "grid_area": null,
       "grid_auto_columns": null,
       "grid_auto_flow": null,
       "grid_auto_rows": null,
       "grid_column": null,
       "grid_gap": null,
       "grid_row": null,
       "grid_template_areas": null,
       "grid_template_columns": null,
       "grid_template_rows": null,
       "height": null,
       "justify_content": null,
       "justify_items": null,
       "left": null,
       "margin": null,
       "max_height": null,
       "max_width": null,
       "min_height": null,
       "min_width": null,
       "object_fit": null,
       "object_position": null,
       "order": null,
       "overflow": null,
       "padding": null,
       "right": null,
       "top": null,
       "visibility": null,
       "width": null
      }
     },
     "8fe78407193c49b1bf49c273cdfd4811": {
      "model_module": "@jupyter-widgets/base",
      "model_module_version": "2.0.0",
      "model_name": "LayoutModel",
      "state": {
       "_model_module": "@jupyter-widgets/base",
       "_model_module_version": "2.0.0",
       "_model_name": "LayoutModel",
       "_view_count": null,
       "_view_module": "@jupyter-widgets/base",
       "_view_module_version": "2.0.0",
       "_view_name": "LayoutView",
       "align_content": null,
       "align_items": null,
       "align_self": null,
       "border_bottom": null,
       "border_left": null,
       "border_right": null,
       "border_top": null,
       "bottom": null,
       "display": null,
       "flex": null,
       "flex_flow": null,
       "grid_area": null,
       "grid_auto_columns": null,
       "grid_auto_flow": null,
       "grid_auto_rows": null,
       "grid_column": null,
       "grid_gap": null,
       "grid_row": null,
       "grid_template_areas": null,
       "grid_template_columns": null,
       "grid_template_rows": null,
       "height": null,
       "justify_content": null,
       "justify_items": null,
       "left": null,
       "margin": null,
       "max_height": null,
       "max_width": null,
       "min_height": null,
       "min_width": null,
       "object_fit": null,
       "object_position": null,
       "order": null,
       "overflow": null,
       "padding": null,
       "right": null,
       "top": null,
       "visibility": null,
       "width": null
      }
     },
     "bef2e75870bb4434ac8b2efc4b20aa80": {
      "model_module": "@jupyter-widgets/controls",
      "model_module_version": "2.0.0",
      "model_name": "FloatProgressModel",
      "state": {
       "_dom_classes": [],
       "_model_module": "@jupyter-widgets/controls",
       "_model_module_version": "2.0.0",
       "_model_name": "FloatProgressModel",
       "_view_count": null,
       "_view_module": "@jupyter-widgets/controls",
       "_view_module_version": "2.0.0",
       "_view_name": "ProgressView",
       "bar_style": "success",
       "description": "",
       "description_allow_html": false,
       "layout": "IPY_MODEL_8fe78407193c49b1bf49c273cdfd4811",
       "max": 4.0,
       "min": 0.0,
       "orientation": "horizontal",
       "style": "IPY_MODEL_f948d226778a4f14959be4bce5a816e8",
       "tabbable": null,
       "tooltip": null,
       "value": 4.0
      }
     },
     "c625c12dac754781896f1836a5c332d5": {
      "model_module": "@jupyter-widgets/base",
      "model_module_version": "2.0.0",
      "model_name": "LayoutModel",
      "state": {
       "_model_module": "@jupyter-widgets/base",
       "_model_module_version": "2.0.0",
       "_model_name": "LayoutModel",
       "_view_count": null,
       "_view_module": "@jupyter-widgets/base",
       "_view_module_version": "2.0.0",
       "_view_name": "LayoutView",
       "align_content": null,
       "align_items": null,
       "align_self": null,
       "border_bottom": null,
       "border_left": null,
       "border_right": null,
       "border_top": null,
       "bottom": null,
       "display": null,
       "flex": null,
       "flex_flow": null,
       "grid_area": null,
       "grid_auto_columns": null,
       "grid_auto_flow": null,
       "grid_auto_rows": null,
       "grid_column": null,
       "grid_gap": null,
       "grid_row": null,
       "grid_template_areas": null,
       "grid_template_columns": null,
       "grid_template_rows": null,
       "height": null,
       "justify_content": null,
       "justify_items": null,
       "left": null,
       "margin": null,
       "max_height": null,
       "max_width": null,
       "min_height": null,
       "min_width": null,
       "object_fit": null,
       "object_position": null,
       "order": null,
       "overflow": null,
       "padding": null,
       "right": null,
       "top": null,
       "visibility": null,
       "width": null
      }
     },
     "f948d226778a4f14959be4bce5a816e8": {
      "model_module": "@jupyter-widgets/controls",
      "model_module_version": "2.0.0",
      "model_name": "ProgressStyleModel",
      "state": {
       "_model_module": "@jupyter-widgets/controls",
       "_model_module_version": "2.0.0",
       "_model_name": "ProgressStyleModel",
       "_view_count": null,
       "_view_module": "@jupyter-widgets/base",
       "_view_module_version": "2.0.0",
       "_view_name": "StyleView",
       "bar_color": null,
       "description_width": ""
      }
     }
    },
    "version_major": 2,
    "version_minor": 0
   }
  }
 },
 "nbformat": 4,
 "nbformat_minor": 5
}