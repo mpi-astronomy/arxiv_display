{
 "cells": [
  {
   "cell_type": "markdown",
   "id": "92bcb855",
   "metadata": {
    "papermill": {
     "duration": 0.003884,
     "end_time": "2024-06-06T04:08:45.577060",
     "exception": false,
     "start_time": "2024-06-06T04:08:45.573176",
     "status": "completed"
    },
    "tags": []
   },
   "source": [
    "# MPIA Arxiv on Deck 2\n",
    "\n",
    "Contains the steps to produce the paper extractions."
   ]
  },
  {
   "cell_type": "code",
   "execution_count": 1,
   "id": "3a0d6e11",
   "metadata": {
    "execution": {
     "iopub.execute_input": "2024-06-06T04:08:45.584657Z",
     "iopub.status.busy": "2024-06-06T04:08:45.584199Z",
     "iopub.status.idle": "2024-06-06T04:08:46.021112Z",
     "shell.execute_reply": "2024-06-06T04:08:46.020381Z"
    },
    "papermill": {
     "duration": 0.442783,
     "end_time": "2024-06-06T04:08:46.022989",
     "exception": false,
     "start_time": "2024-06-06T04:08:45.580206",
     "status": "completed"
    },
    "tags": []
   },
   "outputs": [],
   "source": [
    "# Imports\n",
    "import os\n",
    "from IPython.display import Markdown, display\n",
    "from tqdm.notebook import tqdm\n",
    "import warnings\n",
    "from PIL import Image \n",
    "\n",
    "# requires arxiv_on_deck_2\n",
    "\n",
    "from arxiv_on_deck_2.arxiv2 import (get_new_papers, \n",
    "                                    get_paper_from_identifier,\n",
    "                                    retrieve_document_source, \n",
    "                                    get_markdown_badge)\n",
    "from arxiv_on_deck_2 import (latex,\n",
    "                             latex_bib,\n",
    "                             mpia,\n",
    "                             highlight_authors_in_list)\n",
    "\n",
    "# Sometimes images are really big\n",
    "Image.MAX_IMAGE_PIXELS = 1000000000 "
   ]
  },
  {
   "cell_type": "code",
   "execution_count": 2,
   "id": "22aa9d44",
   "metadata": {
    "execution": {
     "iopub.execute_input": "2024-06-06T04:08:46.030411Z",
     "iopub.status.busy": "2024-06-06T04:08:46.030103Z",
     "iopub.status.idle": "2024-06-06T04:08:46.035352Z",
     "shell.execute_reply": "2024-06-06T04:08:46.034770Z"
    },
    "papermill": {
     "duration": 0.010488,
     "end_time": "2024-06-06T04:08:46.036653",
     "exception": false,
     "start_time": "2024-06-06T04:08:46.026165",
     "status": "completed"
    },
    "tags": []
   },
   "outputs": [],
   "source": [
    "# Some useful definitions.\n",
    "\n",
    "class AffiliationWarning(UserWarning):\n",
    "    pass\n",
    "\n",
    "class AffiliationError(RuntimeError):\n",
    "    pass\n",
    "\n",
    "def validation(source: str):\n",
    "    \"\"\"Raises error paper during parsing of source file\n",
    "    \n",
    "    Allows checks before parsing TeX code.\n",
    "    \n",
    "    Raises AffiliationWarning\n",
    "    \"\"\"\n",
    "    check = mpia.affiliation_verifications(source, verbose=True)\n",
    "    if check is not True:\n",
    "        raise AffiliationError(\"mpia.affiliation_verifications: \" + check)\n",
    "\n",
    "        \n",
    "warnings.simplefilter('always', AffiliationWarning)\n",
    "\n",
    "\n",
    "def get_markdown_qrcode(paper_id: str):\n",
    "    \"\"\" Generate a qrcode to the arxiv page using qrserver.com\n",
    "    \n",
    "    :param paper: Arxiv paper\n",
    "    :returns: markdown text\n",
    "    \"\"\"\n",
    "    url = r\"https://api.qrserver.com/v1/create-qr-code/?size=100x100&data=\"\n",
    "    txt = f\"\"\"<img src={url}\"https://arxiv.org/abs/{paper_id}\">\"\"\"\n",
    "    txt = '<div id=\"qrcode\">' + txt + '</div>'\n",
    "    return txt"
   ]
  },
  {
   "cell_type": "markdown",
   "id": "14bd6310",
   "metadata": {
    "papermill": {
     "duration": 0.002807,
     "end_time": "2024-06-06T04:08:46.042450",
     "exception": false,
     "start_time": "2024-06-06T04:08:46.039643",
     "status": "completed"
    },
    "tags": []
   },
   "source": [
    "## get list of arxiv paper candidates\n",
    "\n",
    "We use the MPIA mitarbeiter list webpage from mpia.de to get author names\n",
    "We then get all new papers from Arxiv and match authors"
   ]
  },
  {
   "cell_type": "code",
   "execution_count": 3,
   "id": "7ea813a8",
   "metadata": {
    "execution": {
     "iopub.execute_input": "2024-06-06T04:08:46.049652Z",
     "iopub.status.busy": "2024-06-06T04:08:46.049074Z",
     "iopub.status.idle": "2024-06-06T04:09:03.176133Z",
     "shell.execute_reply": "2024-06-06T04:09:03.175442Z"
    },
    "papermill": {
     "duration": 17.132687,
     "end_time": "2024-06-06T04:09:03.177995",
     "exception": false,
     "start_time": "2024-06-06T04:08:46.045308",
     "status": "completed"
    },
    "tags": []
   },
   "outputs": [],
   "source": [
    "# deal with the author list and edge cases of people that cannot be consistent on their name  \n",
    "\n",
    "def filter_non_scientists(name: str) -> bool:\n",
    "    \"\"\" Loose filter on expected authorships\n",
    "\n",
    "    removing IT, administration, technical staff\n",
    "    :param name: name\n",
    "    :returns: False if name is not a scientist\n",
    "    \"\"\"\n",
    "    remove_list = ['Wolf', 'Licht', 'Binroth', 'Witzel', 'Jordan',\n",
    "                   'Zähringer', 'Scheerer', 'Hoffmann', 'Düe',\n",
    "                   'Hellmich', 'Enkler-Scharpegge', 'Witte-Nguy',\n",
    "                   'Dehen', 'Beckmann', 'Jager', 'Jäger'\n",
    "                  ]\n",
    "\n",
    "    for k in remove_list:\n",
    "        if k in name:\n",
    "            return False\n",
    "    return True\n",
    "\n",
    "def add_author_to_list(author_list: list) -> list:\n",
    "    \"\"\" Add author to list if not already in list\n",
    "    \n",
    "    :param author: author name\n",
    "    :param author_list: list of authors\n",
    "    :returns: updated list of authors\n",
    "    \"\"\"\n",
    "    add_list = ['T. Henning']\n",
    "\n",
    "    for author in add_list:\n",
    "        if author not in author_list:\n",
    "            author_list.append(author)\n",
    "    return author_list\n",
    "\n",
    "# get list from MPIA website\n",
    "# filter for non-scientists (mpia.get_mpia_mitarbeiter_list() does some filtering)\n",
    "mpia_authors = [k[1] for k in mpia.get_mpia_mitarbeiter_list() if filter_non_scientists(k[1])]\n",
    "# add some missing author because of inconsistencies in their MPIA name and author name on papers\n",
    "mpia_authors = add_author_to_list(mpia_authors)"
   ]
  },
  {
   "cell_type": "code",
   "execution_count": 4,
   "id": "2645e73a",
   "metadata": {
    "execution": {
     "iopub.execute_input": "2024-06-06T04:09:03.187024Z",
     "iopub.status.busy": "2024-06-06T04:09:03.186464Z",
     "iopub.status.idle": "2024-06-06T04:09:03.779569Z",
     "shell.execute_reply": "2024-06-06T04:09:03.778883Z"
    },
    "papermill": {
     "duration": 0.599615,
     "end_time": "2024-06-06T04:09:03.780930",
     "exception": false,
     "start_time": "2024-06-06T04:09:03.181315",
     "status": "completed"
    },
    "tags": []
   },
   "outputs": [
    {
     "name": "stdout",
     "output_type": "stream",
     "text": [
      "J. Olofsson  ->  J. Olofsson  |  ['J. Olofsson']\n",
      "T. Henning  ->  T. Henning  |  ['T. Henning']\n",
      "S. Li  ->  S. Li  |  ['S. Li']\n",
      "N. Pulatova  ->  N. Pulatova  |  ['N. Pulatova']\n",
      "H.-W. Rix  ->  H.-W. Rix  |  ['H.-W. Rix']\n",
      "R. Seeburger  ->  L. R. Seeburger  |  ['R. Seeburger']\n",
      "M. Demianenko  ->  M. Demianenko  |  ['M. Demianenko']\n",
      "T. Cantat-Gaudin  ->  T. Cantat-Gaudin  |  ['T. Cantat-Gaudin']\n",
      "J. Liu  ->  J. Liu  |  ['J. Liu']\n",
      "J. Li  ->  J. Li  |  ['J. Li']\n",
      "L. Kreidberg  ->  L. Kreidberg  |  ['L. Kreidberg']\n",
      "Arxiv has 66 new papers today\n",
      "          7 with possible author matches\n"
     ]
    }
   ],
   "source": [
    "new_papers = get_new_papers()\n",
    "# add manual references\n",
    "add_paper_refs = []\n",
    "new_papers.extend([get_paper_from_identifier(k) for k in add_paper_refs])\n",
    "\n",
    "candidates = []\n",
    "for paperk in new_papers:\n",
    "    # Check author list with their initials\n",
    "    normed_author_list = [mpia.get_initials(k) for k in paperk['authors']]\n",
    "    hl_authors = highlight_authors_in_list(normed_author_list, mpia_authors, verbose=True)\n",
    "    matches = [(hl, orig) for hl, orig in zip(hl_authors, paperk['authors']) if 'mark' in hl]\n",
    "    paperk['authors'] = hl_authors\n",
    "    if matches:\n",
    "        # only select paper if an author matched our list\n",
    "        candidates.append(paperk)\n",
    "print(\"\"\"Arxiv has {0:,d} new papers today\"\"\".format(len(new_papers)))        \n",
    "print(\"\"\"          {0:,d} with possible author matches\"\"\".format(len(candidates)))"
   ]
  },
  {
   "cell_type": "markdown",
   "id": "3543b34a",
   "metadata": {
    "papermill": {
     "duration": 0.003983,
     "end_time": "2024-06-06T04:09:03.788374",
     "exception": false,
     "start_time": "2024-06-06T04:09:03.784391",
     "status": "completed"
    },
    "tags": []
   },
   "source": [
    "# Parse sources and generate relevant outputs\n",
    "\n",
    "From the candidates, we do the following steps:\n",
    "* get their tarball from ArXiv (and extract data)\n",
    "* find the main .tex file: find one with \\documentclass{...} (sometimes it's non trivial)\n",
    "* Check affiliations with :func:`validation`, which uses :func:`mpia.affiliation_verifications`\n",
    "* If passing the affiliations: we parse the .tex source\n",
    "   * inject sub-documents into the main (flatten the main document)\n",
    "   * parse structure, extract information (title, abstract, authors, figures...)\n",
    "   * handles `\\graphicspath` if provided\n",
    "* Generate the .md document."
   ]
  },
  {
   "cell_type": "code",
   "execution_count": 5,
   "id": "9576b79e",
   "metadata": {
    "execution": {
     "iopub.execute_input": "2024-06-06T04:09:03.795621Z",
     "iopub.status.busy": "2024-06-06T04:09:03.795206Z",
     "iopub.status.idle": "2024-06-06T04:10:45.569597Z",
     "shell.execute_reply": "2024-06-06T04:10:45.568760Z"
    },
    "papermill": {
     "duration": 101.784927,
     "end_time": "2024-06-06T04:10:45.576300",
     "exception": false,
     "start_time": "2024-06-06T04:09:03.791373",
     "status": "completed"
    },
    "scrolled": false,
    "tags": []
   },
   "outputs": [
    {
     "data": {
      "application/vnd.jupyter.widget-view+json": {
       "model_id": "a49286204acf4446a26a81e5be5a701f",
       "version_major": 2,
       "version_minor": 0
      },
      "text/plain": [
       "  0%|          | 0/7 [00:00<?, ?it/s]"
      ]
     },
     "metadata": {},
     "output_type": "display_data"
    },
    {
     "name": "stdout",
     "output_type": "stream",
     "text": [
      "Retrieving document from  https://arxiv.org/e-print/2406.02682\n"
     ]
    },
    {
     "name": "stdout",
     "output_type": "stream",
     "text": [
      "extracting tarball to tmp_2406.02682..."
     ]
    },
    {
     "name": "stdout",
     "output_type": "stream",
     "text": [
      " done.\n"
     ]
    },
    {
     "name": "stdout",
     "output_type": "stream",
     "text": [
      "J. Olofsson  ->  J. Olofsson  |  ['J. Olofsson']\n",
      "T. Henning  ->  T. Henning  |  ['T. Henning']\n"
     ]
    },
    {
     "name": "stdout",
     "output_type": "stream",
     "text": [
      "list index out of range\n",
      "Retrieving document from  https://arxiv.org/e-print/2406.02946\n"
     ]
    },
    {
     "name": "stdout",
     "output_type": "stream",
     "text": [
      "extracting tarball to tmp_2406.02946..."
     ]
    },
    {
     "name": "stdout",
     "output_type": "stream",
     "text": [
      " done.\n",
      "  0: tmp_2406.02946/aassymbols.tex, 579 lines\n",
      "  1: tmp_2406.02946/natnotes.tex, 332 lines\n",
      "  2: tmp_2406.02946/main.tex, 862 lines\n",
      "  3: tmp_2406.02946/natbib.tex, 1,466 lines\n",
      "Retrieving document from  https://arxiv.org/e-print/2406.03254\n"
     ]
    },
    {
     "name": "stderr",
     "output_type": "stream",
     "text": [
      "/opt/hostedtoolcache/Python/3.9.19/x64/lib/python3.9/site-packages/IPython/core/interactiveshell.py:3550: LatexWarning: Multiple tex files.\n",
      "\n",
      "  exec(code_obj, self.user_global_ns, self.user_ns)\n",
      "/opt/hostedtoolcache/Python/3.9.19/x64/lib/python3.9/site-packages/IPython/core/interactiveshell.py:3550: LatexWarning: Found 4 candidates with documentclass definition.\n",
      "  exec(code_obj, self.user_global_ns, self.user_ns)\n",
      "/opt/hostedtoolcache/Python/3.9.19/x64/lib/python3.9/site-packages/IPython/core/interactiveshell.py:3550: LatexWarning: Assuming tmp_2406.02946/natbib.tex as main document.\n",
      "  exec(code_obj, self.user_global_ns, self.user_ns)\n"
     ]
    },
    {
     "name": "stdout",
     "output_type": "stream",
     "text": [
      "extracting tarball to tmp_2406.03254..."
     ]
    },
    {
     "name": "stdout",
     "output_type": "stream",
     "text": [
      " done.\n"
     ]
    },
    {
     "name": "stdout",
     "output_type": "stream",
     "text": [
      "N. Pulatova  ->  N. Pulatova  |  ['N. Pulatova']\n",
      "H.-W. Rix  ->  H.-W. Rix  |  ['H.-W. Rix']\n",
      "R. Seeburger  ->  L. R. Seeburger  |  ['R. Seeburger']\n",
      "M. Demianenko  ->  M. Demianenko  |  ['M. Demianenko']\n"
     ]
    },
    {
     "name": "stderr",
     "output_type": "stream",
     "text": [
      "/opt/hostedtoolcache/Python/3.9.19/x64/lib/python3.9/site-packages/arxiv_on_deck_2/latex.py:132: LatexWarning: attempting recovering figure SDSS-X-ray-r\n",
      "  warnings.warn(LatexWarning(f'attempting recovering figure {image}'))\n",
      "/opt/hostedtoolcache/Python/3.9.19/x64/lib/python3.9/site-packages/arxiv_on_deck_2/latex.py:137: LatexWarning: Recovered figure SDSS-X-ray-r as tmp_2406.03254/./SDSS-X-ray-r.jpg\n",
      "  warnings.warn(LatexWarning(f'Recovered figure {image} as {fname}'))\n",
      "/opt/hostedtoolcache/Python/3.9.19/x64/lib/python3.9/site-packages/arxiv_on_deck_2/latex.py:132: LatexWarning: attempting recovering figure SDSS-X-ray-z\n",
      "  warnings.warn(LatexWarning(f'attempting recovering figure {image}'))\n",
      "/opt/hostedtoolcache/Python/3.9.19/x64/lib/python3.9/site-packages/arxiv_on_deck_2/latex.py:137: LatexWarning: Recovered figure SDSS-X-ray-z as tmp_2406.03254/./SDSS-X-ray-z.jpg\n",
      "  warnings.warn(LatexWarning(f'Recovered figure {image} as {fname}'))\n",
      "/opt/hostedtoolcache/Python/3.9.19/x64/lib/python3.9/site-packages/arxiv_on_deck_2/latex.py:132: LatexWarning: attempting recovering figure SDSS-HR1-4\n",
      "  warnings.warn(LatexWarning(f'attempting recovering figure {image}'))\n",
      "/opt/hostedtoolcache/Python/3.9.19/x64/lib/python3.9/site-packages/arxiv_on_deck_2/latex.py:137: LatexWarning: Recovered figure SDSS-HR1-4 as tmp_2406.03254/./SDSS-HR1-4.jpg\n",
      "  warnings.warn(LatexWarning(f'Recovered figure {image} as {fname}'))\n",
      "/opt/hostedtoolcache/Python/3.9.19/x64/lib/python3.9/site-packages/arxiv_on_deck_2/latex.py:132: LatexWarning: attempting recovering figure DR-17-X-ray-H_alpha_Lum\n",
      "  warnings.warn(LatexWarning(f'attempting recovering figure {image}'))\n",
      "/opt/hostedtoolcache/Python/3.9.19/x64/lib/python3.9/site-packages/arxiv_on_deck_2/latex.py:137: LatexWarning: Recovered figure DR-17-X-ray-H_alpha_Lum as tmp_2406.03254/./DR-17-X-ray-H_alpha_Lum.jpg\n",
      "  warnings.warn(LatexWarning(f'Recovered figure {image} as {fname}'))\n",
      "/opt/hostedtoolcache/Python/3.9.19/x64/lib/python3.9/site-packages/arxiv_on_deck_2/latex.py:132: LatexWarning: attempting recovering figure errors_calculation/DR17-err-line-log\n",
      "  warnings.warn(LatexWarning(f'attempting recovering figure {image}'))\n",
      "/opt/hostedtoolcache/Python/3.9.19/x64/lib/python3.9/site-packages/arxiv_on_deck_2/latex.py:137: LatexWarning: Recovered figure errors_calculation/DR17-err-line-log as tmp_2406.03254/./errors_calculation/DR17-err-line-log.png\n",
      "  warnings.warn(LatexWarning(f'Recovered figure {image} as {fname}'))\n",
      "/opt/hostedtoolcache/Python/3.9.19/x64/lib/python3.9/site-packages/arxiv_on_deck_2/latex.py:132: LatexWarning: attempting recovering figure Individual-galaxies-1\n",
      "  warnings.warn(LatexWarning(f'attempting recovering figure {image}'))\n",
      "/opt/hostedtoolcache/Python/3.9.19/x64/lib/python3.9/site-packages/arxiv_on_deck_2/latex.py:137: LatexWarning: Recovered figure Individual-galaxies-1 as tmp_2406.03254/./Individual-galaxies-1.png\n",
      "  warnings.warn(LatexWarning(f'Recovered figure {image} as {fname}'))\n",
      "/opt/hostedtoolcache/Python/3.9.19/x64/lib/python3.9/site-packages/arxiv_on_deck_2/latex.py:132: LatexWarning: attempting recovering figure DR-17-BPT-HR1-HR4-1\n",
      "  warnings.warn(LatexWarning(f'attempting recovering figure {image}'))\n",
      "/opt/hostedtoolcache/Python/3.9.19/x64/lib/python3.9/site-packages/arxiv_on_deck_2/latex.py:137: LatexWarning: Recovered figure DR-17-BPT-HR1-HR4-1 as tmp_2406.03254/./DR-17-BPT-HR1-HR4-1.jpg\n",
      "  warnings.warn(LatexWarning(f'Recovered figure {image} as {fname}'))\n",
      "/opt/hostedtoolcache/Python/3.9.19/x64/lib/python3.9/site-packages/arxiv_on_deck_2/latex.py:132: LatexWarning: attempting recovering figure DR-17-BPT_sdss-z-X-Ha-1\n",
      "  warnings.warn(LatexWarning(f'attempting recovering figure {image}'))\n",
      "/opt/hostedtoolcache/Python/3.9.19/x64/lib/python3.9/site-packages/arxiv_on_deck_2/latex.py:137: LatexWarning: Recovered figure DR-17-BPT_sdss-z-X-Ha-1 as tmp_2406.03254/./DR-17-BPT_sdss-z-X-Ha-1.jpg\n",
      "  warnings.warn(LatexWarning(f'Recovered figure {image} as {fname}'))\n",
      "/opt/hostedtoolcache/Python/3.9.19/x64/lib/python3.9/site-packages/arxiv_on_deck_2/latex.py:132: LatexWarning: attempting recovering figure DR-17-1OIII1-H-alpha_Lum_comb\n",
      "  warnings.warn(LatexWarning(f'attempting recovering figure {image}'))\n",
      "/opt/hostedtoolcache/Python/3.9.19/x64/lib/python3.9/site-packages/arxiv_on_deck_2/latex.py:137: LatexWarning: Recovered figure DR-17-1OIII1-H-alpha_Lum_comb as tmp_2406.03254/./DR-17-1OIII1-H-alpha_Lum_comb.jpg\n",
      "  warnings.warn(LatexWarning(f'Recovered figure {image} as {fname}'))\n",
      "/opt/hostedtoolcache/Python/3.9.19/x64/lib/python3.9/site-packages/arxiv_on_deck_2/latex.py:132: LatexWarning: attempting recovering figure DR-17-XR-Star-to-XR-line\n",
      "  warnings.warn(LatexWarning(f'attempting recovering figure {image}'))\n",
      "/opt/hostedtoolcache/Python/3.9.19/x64/lib/python3.9/site-packages/arxiv_on_deck_2/latex.py:137: LatexWarning: Recovered figure DR-17-XR-Star-to-XR-line as tmp_2406.03254/./DR-17-XR-Star-to-XR-line.jpg\n",
      "  warnings.warn(LatexWarning(f'Recovered figure {image} as {fname}'))\n",
      "/opt/hostedtoolcache/Python/3.9.19/x64/lib/python3.9/site-packages/arxiv_on_deck_2/latex.py:132: LatexWarning: attempting recovering figure SFR-MASS-X-ray-binaries\n",
      "  warnings.warn(LatexWarning(f'attempting recovering figure {image}'))\n",
      "/opt/hostedtoolcache/Python/3.9.19/x64/lib/python3.9/site-packages/arxiv_on_deck_2/latex.py:137: LatexWarning: Recovered figure SFR-MASS-X-ray-binaries as tmp_2406.03254/./SFR-MASS-X-ray-binaries.jpg\n",
      "  warnings.warn(LatexWarning(f'Recovered figure {image} as {fname}'))\n",
      "/opt/hostedtoolcache/Python/3.9.19/x64/lib/python3.9/site-packages/arxiv_on_deck_2/latex.py:132: LatexWarning: attempting recovering figure errors_calculation/newplot\n",
      "  warnings.warn(LatexWarning(f'attempting recovering figure {image}'))\n",
      "/opt/hostedtoolcache/Python/3.9.19/x64/lib/python3.9/site-packages/arxiv_on_deck_2/latex.py:137: LatexWarning: Recovered figure errors_calculation/newplot as tmp_2406.03254/./errors_calculation/newplot.png\n",
      "  warnings.warn(LatexWarning(f'Recovered figure {image} as {fname}'))\n"
     ]
    },
    {
     "name": "stdout",
     "output_type": "stream",
     "text": [
      "Found 31 bibliographic references in tmp_2406.03254/main.bbl.\n",
      "Retrieving document from  https://arxiv.org/e-print/2406.03308\n"
     ]
    },
    {
     "name": "stdout",
     "output_type": "stream",
     "text": [
      "extracting tarball to tmp_2406.03308... done.\n",
      "Retrieving document from  https://arxiv.org/e-print/2406.03320\n"
     ]
    },
    {
     "name": "stdout",
     "output_type": "stream",
     "text": [
      "extracting tarball to tmp_2406.03320... done.\n",
      "Retrieving document from  https://arxiv.org/e-print/2406.03410\n"
     ]
    },
    {
     "name": "stdout",
     "output_type": "stream",
     "text": [
      "extracting tarball to tmp_2406.03410... done.\n",
      "Retrieving document from  https://arxiv.org/e-print/2406.03490\n"
     ]
    },
    {
     "name": "stdout",
     "output_type": "stream",
     "text": [
      "extracting tarball to tmp_2406.03490..."
     ]
    },
    {
     "name": "stdout",
     "output_type": "stream",
     "text": [
      " done.\n"
     ]
    },
    {
     "name": "stderr",
     "output_type": "stream",
     "text": [
      "/opt/hostedtoolcache/Python/3.9.19/x64/lib/python3.9/site-packages/arxiv_on_deck_2/latex.py:132: LatexWarning: attempting recovering figure day_EQ_revised.pdf\n",
      "  warnings.warn(LatexWarning(f'attempting recovering figure {image}'))\n",
      "/opt/hostedtoolcache/Python/3.9.19/x64/lib/python3.9/site-packages/arxiv_on_deck_2/latex.py:704: LatexWarning: Could not find graphic \\includegraphics[scale=0.51]{day_EQ_revised.pdf}\n",
      "  warnings.warn(LatexWarning(f\"Could not find graphic {k}\"))\n"
     ]
    },
    {
     "name": "stdout",
     "output_type": "stream",
     "text": [
      "Found 118 bibliographic references in tmp_2406.03490/main.bbl.\n"
     ]
    }
   ],
   "source": [
    "documents = []\n",
    "failed = []\n",
    "for paper in tqdm(candidates):\n",
    "    # debug crap\n",
    "    paper['identifier'] = paper['identifier'].lower().replace('arxiv:', '').replace(r'\\n', '').strip()\n",
    "    paper_id = paper['identifier']\n",
    "    \n",
    "    folder = f'tmp_{paper_id}'\n",
    "\n",
    "    try:\n",
    "        if not os.path.isdir(folder):\n",
    "            folder = retrieve_document_source(f\"{paper_id}\", f'tmp_{paper_id}')\n",
    "        \n",
    "        try:\n",
    "            doc = latex.LatexDocument(folder, validation=validation)    \n",
    "        except AffiliationError as affilerror:\n",
    "            msg = f\"ArXiv:{paper_id:s} is not an MPIA paper... \" + str(affilerror)\n",
    "            failed.append((paper, \"affiliation error: \" + str(affilerror) ))\n",
    "            continue\n",
    "        \n",
    "        # Hack because sometimes author parsing does not work well\n",
    "        if (len(doc.authors) != len(paper['authors'])):\n",
    "            doc._authors = paper['authors']\n",
    "        else:\n",
    "            # highlight authors (FIXME: doc.highlight_authors)\n",
    "            # done on arxiv paper already\n",
    "            doc._authors = highlight_authors_in_list(\n",
    "                [mpia.get_initials(k) for k in doc.authors], \n",
    "                mpia_authors, verbose=True)\n",
    "        if (doc.abstract) in (None, ''):\n",
    "            doc._abstract = paper['abstract']\n",
    "            \n",
    "        doc.comment = (get_markdown_badge(paper_id) + \n",
    "                       \"<mark>Appeared on: \" + paper['date'] + \"</mark> - \")\n",
    "        if paper['comments']:\n",
    "            doc.comment += \" _\" + paper['comments'] + \"_\"\n",
    "        \n",
    "        full_md = doc.generate_markdown_text()\n",
    "        \n",
    "        full_md += get_markdown_qrcode(paper_id)\n",
    "        \n",
    "        # replace citations\n",
    "        try:\n",
    "            bibdata = latex_bib.LatexBib.from_doc(doc)\n",
    "            full_md = latex_bib.replace_citations(full_md, bibdata)\n",
    "        except Exception as e:\n",
    "            print(e)\n",
    "        \n",
    "        documents.append((paper_id, full_md))\n",
    "    except Exception as e:\n",
    "        warnings.warn(latex.LatexWarning(f\"{paper_id:s} did not run properly\\n\" +\n",
    "                                         str(e)\n",
    "                                        ))\n",
    "        failed.append((paper, \"latex error \" + str(e)))"
   ]
  },
  {
   "cell_type": "markdown",
   "id": "2505a25c",
   "metadata": {
    "papermill": {
     "duration": 0.004077,
     "end_time": "2024-06-06T04:10:45.584710",
     "exception": false,
     "start_time": "2024-06-06T04:10:45.580633",
     "status": "completed"
    },
    "tags": []
   },
   "source": [
    "### Export the logs\n",
    "\n",
    "Throughout, we also keep track of the logs per paper. see `logs-{today date}.md` "
   ]
  },
  {
   "cell_type": "code",
   "execution_count": 6,
   "id": "d733828a",
   "metadata": {
    "execution": {
     "iopub.execute_input": "2024-06-06T04:10:45.594314Z",
     "iopub.status.busy": "2024-06-06T04:10:45.593840Z",
     "iopub.status.idle": "2024-06-06T04:10:45.613567Z",
     "shell.execute_reply": "2024-06-06T04:10:45.612952Z"
    },
    "papermill": {
     "duration": 0.026172,
     "end_time": "2024-06-06T04:10:45.614933",
     "exception": false,
     "start_time": "2024-06-06T04:10:45.588761",
     "status": "completed"
    },
    "scrolled": false,
    "tags": []
   },
   "outputs": [
    {
     "data": {
      "text/markdown": [
       "## Successful papers"
      ],
      "text/plain": [
       "<IPython.core.display.Markdown object>"
      ]
     },
     "metadata": {},
     "output_type": "display_data"
    },
    {
     "data": {
      "text/markdown": [
       "\n",
       "|||\n",
       "|---:|:---|\n",
       "| [![arXiv](https://img.shields.io/badge/arXiv-2406.02682-b31b1b.svg)](https://arxiv.org/abs/2406.02682) | **The near-infrared degree of polarization in debris disks. Toward a self-consistent approach to model scattered light observations**  |\n",
       "|| <mark>J. Olofsson</mark>, et al. -- incl., <mark>T. Henning</mark> |\n",
       "|*Appeared on*| *2024-06-06*|\n",
       "|*Comments*| *Accepted for publication in A&A, abstract shortened*|\n",
       "|**Abstract**|            Debris disks give us the unique opportunity to probe the properties of small $\\mu$m-sized particles, allowing us to peer into the constituents of their parent bodies, young analogs of comets and asteroids of our solar system. In the past, studies of the total intensity phase function have proven powerful to constrain the main characteristics of the dust particles in debris disks. Nonetheless, there can remain some degeneracies in the modeling that can be alleviated when considering polarized intensity observations. We obtained new near-IR scattered light observations of four young debris disks which allow us to constrain the degree of linear polarization as a function of the scattering angle. All four debris disks are detected in polarized intensity, and three are also recovered in total intensity. We measured peak degree of polarization of $\\lesssim 40$\\% for all three disks. We find that the particles must consist of highly refractive and absorbing material. For HD129590, by measuring the polarization fraction beyond the birth ring, we constrain the width of the size distribution to be smaller and smaller, compatible with the effect of radiation pressure. We put these findings to the test and present a self-consistent approach to produce synthetic images, assuming different profiles for the radiation pressure strength, and accounting for the presence of unbound grains. We find the contribution of these grains to be especially critical to reproduce the increasing degree of polarization with stellocentric distances. Some of our results might seem difficult to reconcile with our understanding of cosmic dust but since similar results have been obtained for other disks, we discuss the current limitation of available light scattering models as well as possible avenues to alleviate these unfortunate limitations.         |"
      ],
      "text/plain": [
       "[2406.02682] The near-infrared degree of polarization in debris disks. Toward a self-consistent approach to model scattered light observations\n",
       "\t<mark>J. Olofsson</mark>, et al. -- incl., <mark>T. Henning</mark>"
      ]
     },
     "metadata": {},
     "output_type": "display_data"
    },
    {
     "data": {
      "text/markdown": [
       "\n",
       "|||\n",
       "|---:|:---|\n",
       "| [![arXiv](https://img.shields.io/badge/arXiv-2406.03254-b31b1b.svg)](https://arxiv.org/abs/2406.03254) | **What excites the optical emission in X-ray-selected galaxies?**  |\n",
       "|| <mark>N. Pulatova</mark>, et al. -- incl., <mark>H.-W. Rix</mark>, <mark>R. Seeburger</mark>, <mark>M. Demianenko</mark> |\n",
       "|*Appeared on*| *2024-06-06*|\n",
       "|*Comments*| *12 pages, 13 figures*|\n",
       "|**Abstract**|            We present a study of $1347$ galaxies at $z<0.35$ with detected nuclear X-ray emission and optical emission line diagnostics in the Baldwin-Phillips-Terlevich (BPT) diagram. This sample was obtained by cross-matching the X-ray Multi-Mirror Mission Observatory - Newton (XMM-Newton) DR10 catalogue with Sloan Digital Sky Survey (SDSS) DR17 galaxies with well-measured line ratios. The distribution of these sources in the BPT diagram covers all three excitation regimes: Ionized Hydrogen (HII) regions (23\\%), `composites' (30\\%), and Seyfert galaxies with the low ionization nuclear emission line regions (LINERs) (47\\%). In contrast, the fraction of objects classified as active galactic nuclei (AGN) in the SDSS subsample selected for cross-match with XMM-Newton is only 13\\%. This fact illustrates that X-ray emission from galaxies commonly points towards the presence of AGN. Our data show, for the first time, a clear dependence of the BPT position on the ratio of the X-ray to $H\\alpha$ fluxes. Sources dominated by X-ray emission lie in the Seyfert and LINER regimes of the BPT diagram. Most sources with a low X-ray-to-$H\\alpha$-luminosity ratio, $log_{10}(L_X/L_{H\\alpha}) < 1.0$, lie in the HII regime. In our sample, there are even 45 galaxies that have $L^{Star}_{XR}/L^{Total}_{Xray}>0.5$. In contrast, the positions of the sample members in the BPT diagram exhibit {no} dependence on the X-ray hardness ratio. Our finding suggests that the X-ray-to-$H\\alpha$ ratio can help us to differentiate galaxies whose X-ray flux is dominated by an AGN {from galaxies with} central X-ray binaries and other stellar X-ray sources.         |"
      ],
      "text/plain": [
       "[2406.03254] What excites the optical emission in X-ray-selected galaxies?\n",
       "\t<mark>N. Pulatova</mark>, et al. -- incl., <mark>H.-W. Rix</mark>, <mark>R. Seeburger</mark>, <mark>M. Demianenko</mark>"
      ]
     },
     "metadata": {},
     "output_type": "display_data"
    },
    {
     "data": {
      "text/markdown": [
       "\n",
       "|||\n",
       "|---:|:---|\n",
       "| [![arXiv](https://img.shields.io/badge/arXiv-2406.03490-b31b1b.svg)](https://arxiv.org/abs/2406.03490) | **Simultaneous retrieval of orbital phase resolved JWST/MIRI emission spectra of the hot Jupiter WASP-43b: evidence of water, ammonia and carbon monoxide**  |\n",
       "|| J. Yang, et al. -- incl., <mark>L. Kreidberg</mark> |\n",
       "|*Appeared on*| *2024-06-06*|\n",
       "|*Comments*| *17 pages, 14 figures, accepted for publication in MNRAS. Comments welcome!*|\n",
       "|**Abstract**|            Spectroscopic phase curves of hot Jupiters measure their emission spectra at multiple orbital phases, thus enabling detailed characterisation of their atmospheres. Precise constraints on the atmospheric composition of these exoplanets offer insights into their formation and evolution. We analyse four phase-resolved emission spectra of the hot Jupiter WASP-43b, generated from a phase curve observed with the MIRI/LRS onboard the JWST, to retrieve its atmospheric properties. Using a parametric 2D temperature model and assuming a chemically homogeneous atmosphere within the observed pressure region, we simultaneously fit the four spectra to constrain the abundances of atmospheric constituents, thereby yielding more precise constraints than previous work that analysed each spectrum independently. Our analysis reveals statistically significant evidence of NH3 (4$\\sigma$) in a hot Jupiter's emission spectra for the first time, along with evidence of H2O (6.5$\\sigma$), CO (3.1$\\sigma$), and a non-detection of CH4. With our abundance constraints, we tentatively estimate the metallicity of WASP-43b at 0.6-6.5$\\times$solar and its C/O ratio at 0.6-0.9. Our findings offer vital insights into the atmospheric conditions and formation history of WASP-43b by simultaneously constraining the abundances of carbon, oxygen, and nitrogen-bearing species.         |"
      ],
      "text/plain": [
       "[2406.03490] Simultaneous retrieval of orbital phase resolved JWST/MIRI emission spectra of the hot Jupiter WASP-43b: evidence of water, ammonia and carbon monoxide\n",
       "\tJ. Yang, et al. -- incl., <mark>L. Kreidberg</mark>"
      ]
     },
     "metadata": {},
     "output_type": "display_data"
    },
    {
     "data": {
      "text/markdown": [
       "## Failed papers"
      ],
      "text/plain": [
       "<IPython.core.display.Markdown object>"
      ]
     },
     "metadata": {},
     "output_type": "display_data"
    },
    {
     "data": {
      "text/markdown": [
       "\n",
       "|||\n",
       "|---:|:---|\n",
       "| [![arXiv](https://img.shields.io/badge/arXiv-2406.03308-b31b1b.svg)](https://arxiv.org/abs/2406.03308) | **How Gaia sheds light on the Milky Way star cluster population**  |\n",
       "|| <mark>T. Cantat-Gaudin</mark>, L. Casamiquela |\n",
       "|*Appeared on*| *2024-06-06*|\n",
       "|*Comments*| *Accepted review article for New Astronomy Reviews (as part of a Special Issue: \"Gaia, the first crop of discoveries\")*|\n",
       "|**Abstract**|            Star clusters are among the first celestial objects catalogued by early astronomers. As simple and coeval populations, their study has been instrumental in charting the properties of the Milky Way and providing insight into stellar evolution through the 20th century. Clusters were traditionally spotted as local stellar overdensities in the plane of the sky. In recent decades, for a limited number of nearby clusters, it became possible to identify cluster members through their clustering in proper motion space. With its astrometric data of unprecedented precision, the Gaia mission has completely revolutionised our ability to discover and characterise Milky Way star clusters, to map their large-scale distribution, and to investigate their internal structure. In this review we focus on the population of open clusters, residing in the Galactic disc. We summarise the current state of the Gaia-updated cluster census and studies of young clusters and associations. We discuss recent developments in techniques for cluster detection and age estimation. We also review results enabled by Gaia data concerning the dynamical evolution of gravitationally bound clusters and their stellar inventory.         |\n",
       "|<p style=\"color:green\"> **ERROR** </p>| <p style=\"color:green\">affiliation error: mpia.affiliation_verifications: '69117' keyword not found.</p> |"
      ],
      "text/plain": [
       "<IPython.core.display.Markdown object>"
      ]
     },
     "metadata": {},
     "output_type": "display_data"
    },
    {
     "data": {
      "text/markdown": [
       "\n",
       "|||\n",
       "|---:|:---|\n",
       "| [![arXiv](https://img.shields.io/badge/arXiv-2406.02946-b31b1b.svg)](https://arxiv.org/abs/2406.02946) | **CAMEL. II. A 3D Coronal Mass Ejection Catalog Based on Coronal Mass Ejection Automatic Detection with Deep Learning**  |\n",
       "|| J. Shan, et al. -- incl., <mark>S. Li</mark> |\n",
       "|*Appeared on*| *2024-06-06*|\n",
       "|*Comments*| **|\n",
       "|**Abstract**|            Coronal mass ejections (CMEs) are major drivers of geomagnetic storms, which may cause severe space weather effects. Automating the detection, tracking, and three-dimensional (3D) reconstruction of CMEs is important for operational predictions of CME arrivals. The COR1 coronagraphs on board the Solar Terrestrial Relations Observatory spacecraft have facilitated extensive polarization observations, which are very suitable for the establishment of a 3D CME system. We have developed such a 3D system comprising four modules: classification, segmentation, tracking, and 3D reconstructions. We generalize our previously pretrained classification model to classify COR1 coronagraph images. Subsequently, as there are no publicly available CME segmentation data sets, we manually annotate the structural regions of CMEs using Large Angle and Spectrometric Coronagraph C2 observations. Leveraging transformer-based models, we achieve state-of-the-art results in CME segmentation. Furthermore, we improve the tracking algorithm to solve the difficult separation task of multiple CMEs. In the final module, tracking results, combined with the polarization ratio technique are used to develop the first single-view 3D CME catalog without requiring manual mask annotation. Our method provides higher precision in automatic 2D CME catalog and more reliable physical parameters of CMEs, including 3D propagation direction and speed. The aforementioned 3D CME system can be applied to any coronagraph data with the capability of polarization measurements.         |\n",
       "|<p style=\"color:green\"> **ERROR** </p>| <p style=\"color:green\">affiliation error: mpia.affiliation_verifications: 'Heidelberg' keyword not found.</p> |"
      ],
      "text/plain": [
       "<IPython.core.display.Markdown object>"
      ]
     },
     "metadata": {},
     "output_type": "display_data"
    },
    {
     "data": {
      "text/markdown": [
       "\n",
       "|||\n",
       "|---:|:---|\n",
       "| [![arXiv](https://img.shields.io/badge/arXiv-2406.03320-b31b1b.svg)](https://arxiv.org/abs/2406.03320) | **Detection of extended gamma-ray emission in the vicinity of Cl Danks 1 and 2**  |\n",
       "|| <mark>J. Liu</mark>, B. Liu, R. Yang |\n",
       "|*Appeared on*| *2024-06-06*|\n",
       "|*Comments*| *9 pages, 4 figures, submitted to APJL*|\n",
       "|**Abstract**|            We report the detection of high-energy gamma-ray emission towards the G305 star-forming region. Using almost 15 years of observation data from {\\sl Fermi} Large Area Telescope, we detected an extended gamma-ray source in this region with a significance of $\\sim 13 \\sigma$. The gamma-ray radiation reveals a clear pion-bump feature and can be fitted with the power law parent proton spectrum with an index of $-2.5$. The total cosmic ray (CR) proton energy in the gamma-ray production region is estimated to be the order of $10^{49}\\ \\rm erg$. We further derived the CR radial distribution from both the gamma-ray emission and gas distribution and found it roughly obeys the $1/r$ type profile, which is consistent with other similar systems and expected from the continuous injection of CRs by the central powerful young massive star cluster Danks 1 or Danks 2 in this region. Together with former detections of similar gamma-ray structures, such as Cygnus cocoon, Westerlund 1, Westerlund 2, NGC 3603, and W40, the detection supports the hypothesis that young massive star clusters are CR accelerators.         |\n",
       "|<p style=\"color:green\"> **ERROR** </p>| <p style=\"color:green\">affiliation error: mpia.affiliation_verifications: 'Heidelberg' keyword not found.</p> |"
      ],
      "text/plain": [
       "<IPython.core.display.Markdown object>"
      ]
     },
     "metadata": {},
     "output_type": "display_data"
    },
    {
     "data": {
      "text/markdown": [
       "\n",
       "|||\n",
       "|---:|:---|\n",
       "| [![arXiv](https://img.shields.io/badge/arXiv-2406.03410-b31b1b.svg)](https://arxiv.org/abs/2406.03410) | **Probing the distinct extinction law of the Pillars of Creation in M16 with JWST**  |\n",
       "|| <mark>J. Li</mark>, et al. |\n",
       "|*Appeared on*| *2024-06-06*|\n",
       "|*Comments*| *Accepted for publication in The Astrophysical Journal Letters (9 pages, 4 figures, 2 tables)*|\n",
       "|**Abstract**|            Investigating the extinction law in regions of high dust extinction, such as the Pillars of Creation within the M16 region, is crucial for understanding the densest parts of the interstellar medium (ISM). In this study, we utilize observations from the Near-Infrared Camera (NIRCam) and the Mid-Infrared Instrument (MIRI) onboard the James Webb Space Telescope (JWST) to analyze the color-excess ratios $E(F090W-\\lambda)/E(F090W-F200W)$ across a wavelength range of $0.9-7.7\\,\\mu\\mathrm{m}$. Our method involves performing linear regression on color-color diagrams to derive these ratios. The enhanced detection capabilities of JWST data allow us to probe the distinct extinction law to the densest regions in M16 corresponding to an extinction depth up to $A_V \\sim 60$\\,mag. Remarkably, the resultant color-excess ratio curve exhibits a flatter profile than predicted by typical dust extinction models with $R_V = 5.5$ for dense ISM environments. Moreover, we observe that the mid-infrared (MIR) extinction law diverges from the near-infrared (NIR) power-law, showing a tendency for the slope to flatten as the wavelength increases. These findings have significant implications for our understanding of the dust properties in dense interstellar environments.         |\n",
       "|<p style=\"color:green\"> **ERROR** </p>| <p style=\"color:green\">affiliation error: mpia.affiliation_verifications: 'Heidelberg' keyword not found.</p> |"
      ],
      "text/plain": [
       "<IPython.core.display.Markdown object>"
      ]
     },
     "metadata": {},
     "output_type": "display_data"
    }
   ],
   "source": [
    "import datetime\n",
    "today = str(datetime.date.today())\n",
    "logfile = f\"_build/html/logs/log-{today}.md\"\n",
    "\n",
    "\n",
    "with open(logfile, 'w') as logs:\n",
    "    # Success\n",
    "    logs.write(f'# Arxiv on Deck 2: Logs - {today}\\n\\n')\n",
    "    logs.write(\"\"\"* Arxiv had {0:,d} new papers\\n\"\"\".format(len(new_papers)))\n",
    "    logs.write(\"\"\"    * {0:,d} with possible author matches\\n\\n\"\"\".format(len(candidates)))\n",
    "    logs.write(\"## Sucessful papers\\n\\n\")\n",
    "    display(Markdown(\"## Successful papers\"))\n",
    "    success = [k[0] for k in documents]\n",
    "    for candid in candidates:\n",
    "        if candid['identifier'].split(':')[-1] in success:\n",
    "            display(candid)\n",
    "            logs.write(candid.generate_markdown_text() + '\\n\\n')\n",
    "\n",
    "    ## failed\n",
    "    logs.write(\"## Failed papers\\n\\n\")\n",
    "    display(Markdown(\"## Failed papers\"))\n",
    "    failed = sorted(failed, key=lambda x: x[1])\n",
    "    current_reason = \"\"\n",
    "    for paper, reason in failed:\n",
    "        if 'affiliation' in reason:\n",
    "            color = 'green'\n",
    "        else:\n",
    "            color = 'red'\n",
    "        data = Markdown(\n",
    "                paper.generate_markdown_text() + \n",
    "                f'\\n|<p style=\"color:{color:s}\"> **ERROR** </p>| <p style=\"color:{color:s}\">{reason:s}</p> |'\n",
    "               )\n",
    "        if reason != current_reason:\n",
    "            logs.write(f'### {reason:s} \\n\\n')\n",
    "            current_reason = reason\n",
    "        logs.write(data.data + '\\n\\n')\n",
    "        \n",
    "        # only display here the important errors (all in logs)\n",
    "        # if color in ('red',):\n",
    "        display(data)"
   ]
  },
  {
   "cell_type": "markdown",
   "id": "472d20ee",
   "metadata": {
    "papermill": {
     "duration": 0.00491,
     "end_time": "2024-06-06T04:10:45.624958",
     "exception": false,
     "start_time": "2024-06-06T04:10:45.620048",
     "status": "completed"
    },
    "tags": []
   },
   "source": [
    "## Export documents\n",
    "\n",
    "We now write the .md files and export relevant images"
   ]
  },
  {
   "cell_type": "code",
   "execution_count": 7,
   "id": "d426aed9",
   "metadata": {
    "execution": {
     "iopub.execute_input": "2024-06-06T04:10:45.636111Z",
     "iopub.status.busy": "2024-06-06T04:10:45.635698Z",
     "iopub.status.idle": "2024-06-06T04:10:45.642247Z",
     "shell.execute_reply": "2024-06-06T04:10:45.641687Z"
    },
    "papermill": {
     "duration": 0.013648,
     "end_time": "2024-06-06T04:10:45.643571",
     "exception": false,
     "start_time": "2024-06-06T04:10:45.629923",
     "status": "completed"
    },
    "tags": []
   },
   "outputs": [],
   "source": [
    "def export_markdown_summary(md: str, md_fname:str, directory: str):\n",
    "    \"\"\"Export MD document and associated relevant images\"\"\"\n",
    "    import os\n",
    "    import shutil\n",
    "    import re\n",
    "\n",
    "    if (os.path.exists(directory) and not os.path.isdir(directory)):\n",
    "        raise RuntimeError(f\"a non-directory file exists with name {directory:s}\")\n",
    "\n",
    "    if (not os.path.exists(directory)):\n",
    "        print(f\"creating directory {directory:s}\")\n",
    "        os.mkdir(directory)\n",
    "\n",
    "    fig_fnames = (re.compile(r'\\[Fig.*\\]\\((.*)\\)').findall(md) + \n",
    "                  re.compile(r'\\<img src=\"([^>\\s]*)\"[^>]*/>').findall(md))\n",
    "    for fname in fig_fnames:\n",
    "        if 'http' in fname:\n",
    "            # No need to copy online figures\n",
    "            continue\n",
    "        destdir = os.path.join(directory, os.path.dirname(fname))\n",
    "        destfname = os.path.join(destdir, os.path.basename(fname))\n",
    "        try:\n",
    "            os.makedirs(destdir)\n",
    "        except FileExistsError:\n",
    "            pass\n",
    "        shutil.copy(fname, destfname)\n",
    "    with open(os.path.join(directory, md_fname), 'w') as fout:\n",
    "        fout.write(md)\n",
    "    print(\"exported in \", os.path.join(directory, md_fname))\n",
    "    [print(\"    + \" + os.path.join(directory,fk)) for fk in fig_fnames]"
   ]
  },
  {
   "cell_type": "code",
   "execution_count": 8,
   "id": "014d04a4",
   "metadata": {
    "execution": {
     "iopub.execute_input": "2024-06-06T04:10:45.654801Z",
     "iopub.status.busy": "2024-06-06T04:10:45.654341Z",
     "iopub.status.idle": "2024-06-06T04:10:45.668568Z",
     "shell.execute_reply": "2024-06-06T04:10:45.667928Z"
    },
    "papermill": {
     "duration": 0.021324,
     "end_time": "2024-06-06T04:10:45.669935",
     "exception": false,
     "start_time": "2024-06-06T04:10:45.648611",
     "status": "completed"
    },
    "tags": []
   },
   "outputs": [
    {
     "name": "stdout",
     "output_type": "stream",
     "text": [
      "exported in  _build/html/2406.02682.md\n",
      "    + _build/html/tmp_2406.02682/./HD191089_full.png\n",
      "    + _build/html/tmp_2406.02682/./HD157587_full.png\n",
      "    + _build/html/tmp_2406.02682/./HD115600_full.png\n",
      "    + _build/html/tmp_2406.02682/./HD129590_full.png\n",
      "    + _build/html/tmp_2406.02682/./tau_cs.png\n",
      "    + _build/html/tmp_2406.02682/./HD157587_pfunc.png\n",
      "exported in  _build/html/2406.03254.md\n",
      "    + _build/html/tmp_2406.03254/./DR-17-X-ray-H_alpha_Lum.jpg\n",
      "    + _build/html/tmp_2406.03254/./DR-17-BPT_sdss-z-X-Ha-1.jpg\n",
      "    + _build/html/tmp_2406.03254/./DR17-X-ray-RA-DEC.png\n",
      "exported in  _build/html/2406.03490.md\n",
      "    + _build/html/tmp_2406.03490/./Figures/compare_spectra_opacity_1500K_revised.png\n",
      "    + _build/html/tmp_2406.03490/./Figures/model.png\n",
      "    + _build/html/tmp_2406.03490/./Figures/TP_model_revised.png\n"
     ]
    }
   ],
   "source": [
    "for paper_id, md in documents:\n",
    "    export_markdown_summary(md, f\"{paper_id:s}.md\", '_build/html/')"
   ]
  },
  {
   "cell_type": "markdown",
   "id": "f087a0a7",
   "metadata": {
    "papermill": {
     "duration": 0.005026,
     "end_time": "2024-06-06T04:10:45.680263",
     "exception": false,
     "start_time": "2024-06-06T04:10:45.675237",
     "status": "completed"
    },
    "tags": []
   },
   "source": [
    "## Display the papers\n",
    "\n",
    "Not necessary but allows for a quick check."
   ]
  },
  {
   "cell_type": "code",
   "execution_count": 9,
   "id": "fd25f625",
   "metadata": {
    "execution": {
     "iopub.execute_input": "2024-06-06T04:10:45.691857Z",
     "iopub.status.busy": "2024-06-06T04:10:45.691433Z",
     "iopub.status.idle": "2024-06-06T04:10:45.698824Z",
     "shell.execute_reply": "2024-06-06T04:10:45.698191Z"
    },
    "papermill": {
     "duration": 0.01473,
     "end_time": "2024-06-06T04:10:45.700163",
     "exception": false,
     "start_time": "2024-06-06T04:10:45.685433",
     "status": "completed"
    },
    "scrolled": false,
    "tags": []
   },
   "outputs": [
    {
     "data": {
      "text/markdown": [
       "<div class=\"macros\" style=\"visibility:hidden;\">\n",
       "$\\newcommand{\\ensuremath}{}$\n",
       "$\\newcommand{\\xspace}{}$\n",
       "$\\newcommand{\\object}[1]{\\texttt{#1}}$\n",
       "$\\newcommand{\\farcs}{{.}''}$\n",
       "$\\newcommand{\\farcm}{{.}'}$\n",
       "$\\newcommand{\\arcsec}{''}$\n",
       "$\\newcommand{\\arcmin}{'}$\n",
       "$\\newcommand{\\ion}[2]{#1#2}$\n",
       "$\\newcommand{\\textsc}[1]{\\textrm{#1}}$\n",
       "$\\newcommand{\\hl}[1]{\\textrm{#1}}$\n",
       "$\\newcommand{\\footnote}[1]{}$\n",
       "$\\newcommand{\\cmark}{\\ding{51}}$\n",
       "$\\newcommand{\\xmark}{\\ding{55}}$\n",
       "$\\newcommand\\natexlab{#1}$</div>\n",
       "\n",
       "\n",
       "\n",
       "<div id=\"title\">\n",
       "\n",
       "# The near-infrared degree of polarization in debris disks.$\\thanks{Based on observations made with ESO Telescopes at the Paranal Observatory under programs ID 105.20GP.001 and 109.237K.001. The fits files of the observations are available in electronic form at the CDS via anonymous ftp to cdsarc.u-strasbg.fr (130.79.128.5) or via http://cdsweb.u-strasbg.fr/cgi-bin/qcat?J/A+A/}$\n",
       "\n",
       "</div>\n",
       "<div id=\"comments\">\n",
       "\n",
       "[![arXiv](https://img.shields.io/badge/arXiv-2406.02682-b31b1b.svg)](https://arxiv.org/abs/2406.02682)<mark>Appeared on: 2024-06-06</mark> -  _Accepted for publication in A&A, abstract shortened_\n",
       "\n",
       "</div>\n",
       "<div id=\"authors\">\n",
       "\n",
       "<mark>J. Olofsson</mark>, et al. -- incl., <mark>T. Henning</mark>\n",
       "\n",
       "</div>\n",
       "<div id=\"abstract\">\n",
       "\n",
       "**Abstract:** Debris disks give us the unique opportunity to probe the properties of small $\\mu$ m-sized particles, allowing us to peer into the constituents of their parent bodies, young analogs of comets and asteroids of our solar system. In the past, studies of the total intensity phase function, the brightness of the disk as a function of the scattering angle, have proven powerful to constrain the main characteristics of the dust particles in debris disks. Nonetheless, there can remain some degeneracies in the modeling that can be alleviated when considering polarized intensity observations. We obtained new near-infrared scattered light observations of four young debris disks, and used state-of-the-art algorithms to recover the total intensity and linear polarimetric images of the disks. These images allow us to constrain the degree of linear polarization as a function of the scattering angle. All four debris disks are detected in polarized intensity, and three are also recovered in total intensity. We measured peak degree of polarization of $\\lesssim 40$ \\% for all three disks. For the disk around HD 129590, we are furthermore able to determine the degree of polarization in the radiation pressure driven halo. To reproduce the observed polarization fractions, we find that the particles must consist of highly refractive and absorbing material. For HD 129590, by measuring the polarization fraction beyond the birth ring, we constrain the width of the size distribution to be smaller and smaller, compatible with the effect of radiation pressure. We put these findings to the test and present a self-consistent approach to produce synthetic images, assuming different profiles for the radiation pressure strength, and accounting for the presence of unbound grains. We find the contribution of these grains to be especially critical to reproduce the increasing degree of polarization with stellocentric distances. Some of our results (namely a very small blow-out size and very large $(n,k)$ values for the optical constants) required to reproduce the observed degree of polarization might seem difficult to reconcile with our understanding of cosmic dust. Similar results have been obtained for other disks and we discuss the current limitation of available light scattering models as well as possible avenues to alleviate these unfortunate limitations.\n",
       "\n",
       "</div>\n",
       "\n",
       "<div id=\"div_fig1\">\n",
       "\n",
       "<img src=\"tmp_2406.02682/./HD191089_full.png\" alt=\"Fig4.1\" width=\"25%\"/><img src=\"tmp_2406.02682/./HD157587_full.png\" alt=\"Fig4.2\" width=\"25%\"/><img src=\"tmp_2406.02682/./HD115600_full.png\" alt=\"Fig4.3\" width=\"25%\"/><img src=\"tmp_2406.02682/./HD129590_full.png\" alt=\"Fig4.4\" width=\"25%\"/>\n",
       "\n",
       "**Figure 4. -** _Top to bottom:_ observations of HD 191089, HD 157587, HD 115600, and HD 129590. _Left:_ polarimetry, _center:_ total intensity, _right:_ degree of polarization (polarimetry over total intensity). The scaling is linear for the right column and between $0$ and $1$, while in square root for the left and center columns. On the left panel, the horizontal bar represents $1$\\arcsec$$ and the distance in au is reported below. North is up, East is right, as indicated by the compass on the leftmost panels. (*fig:full*)\n",
       "\n",
       "</div>\n",
       "<div id=\"div_fig2\">\n",
       "\n",
       "<img src=\"tmp_2406.02682/./tau_cs.png\" alt=\"Fig7\" width=\"100%\"/>\n",
       "\n",
       "**Figure 7. -** _Top to bottom:_ diagnostics for Runs 1 to 4, respectively. _Left:_ optical depth profile as a function of the stellocentric distance. The dashed line shows a profile in $r^{-1.5}$. For the bottom panel, the dashed-dotted line follows a profile in $r^{-1}$. _Right:_ cross-section as a function of the grain size $s$. The different colors show the cross-section measured in several concentric rings. (*fig:diag*)\n",
       "\n",
       "</div>\n",
       "<div id=\"div_fig3\">\n",
       "\n",
       "<img src=\"tmp_2406.02682/./HD157587_pfunc.png\" alt=\"Fig1\" width=\"100%\"/>\n",
       "\n",
       "**Figure 1. -** Observations and best fit model for HD 157587 (orange circles and solid black line, respectively). _Top:_ degree of polarization. _Bottom:_ total intensity phase function. The inner and outer radii for the stellocentric distances are indicated in the upper right of the bottom panel. (*fig:HD157*)\n",
       "\n",
       "</div><div id=\"qrcode\"><img src=https://api.qrserver.com/v1/create-qr-code/?size=100x100&data=\"https://arxiv.org/abs/2406.02682\"></div>"
      ],
      "text/plain": [
       "<IPython.core.display.Markdown object>"
      ]
     },
     "metadata": {},
     "output_type": "display_data"
    },
    {
     "data": {
      "text/markdown": [
       "<div class=\"macros\" style=\"visibility:hidden;\">\n",
       "$\\newcommand{\\ensuremath}{}$\n",
       "$\\newcommand{\\xspace}{}$\n",
       "$\\newcommand{\\object}[1]{\\texttt{#1}}$\n",
       "$\\newcommand{\\farcs}{{.}''}$\n",
       "$\\newcommand{\\farcm}{{.}'}$\n",
       "$\\newcommand{\\arcsec}{''}$\n",
       "$\\newcommand{\\arcmin}{'}$\n",
       "$\\newcommand{\\ion}[2]{#1#2}$\n",
       "$\\newcommand{\\textsc}[1]{\\textrm{#1}}$\n",
       "$\\newcommand{\\hl}[1]{\\textrm{#1}}$\n",
       "$\\newcommand{\\footnote}[1]{}$\n",
       "$\\newcommand{\\thefigure}{A.\\arabic{figure}}$\n",
       "$\\newcommand{\\thetable}{A.\\arabic{table}}$\n",
       "$\\newcommand\\natexlab{#1}$</div>\n",
       "\n",
       "\n",
       "\n",
       "<div id=\"title\">\n",
       "\n",
       "# What excites the optical emission in X-ray-selected galaxies? $\\thanks{The catalogue of X-ray galaxies selected from SDSS is only available in electronic form at the CDS via anonymous ftp to cdsarc.u-strasbg.fr (130.79.128.5) or via \\href{http://cdsweb.u-strasbg.fr/cgi-bin/qcat?J/A+A/}{http://cdsweb.u-strasbg.fr/cgi-bin/qcat?J/A+A/}}$\n",
       "\n",
       "</div>\n",
       "<div id=\"comments\">\n",
       "\n",
       "[![arXiv](https://img.shields.io/badge/arXiv-2406.03254-b31b1b.svg)](https://arxiv.org/abs/2406.03254)<mark>Appeared on: 2024-06-06</mark> -  _12 pages, 13 figures_\n",
       "\n",
       "</div>\n",
       "<div id=\"authors\">\n",
       "\n",
       "<mark>N. Pulatova</mark>, et al. -- incl., <mark>H.-W. Rix</mark>, <mark>R. Seeburger</mark>, <mark>M. Demianenko</mark>\n",
       "\n",
       "</div>\n",
       "<div id=\"abstract\">\n",
       "\n",
       "**Abstract:** We present a study of $1347$ galaxies at $z<0.35$ with detected nuclear X-ray emission and optical emission line diagnostics in the Baldwin-Phillips-Terlevich (BPT) diagram. This sample was obtained by cross-matching the X-ray Multi-Mirror Mission Observatory - Newton (XMM-Newton) DR10 catalogue with Sloan Digital Sky Survey (SDSS) DR17 galaxies with well-measured line ratios.  The distribution of these sources in the BPT diagram covers all three excitation regimes: Ionized Hydrogen (HII) regions  (23 \\% ), `composites' (30 \\% ), and Seyfert galaxies with  the low ionization nuclear emission line regions (LINERs) (47 \\% ). In contrast, the fraction of objects classified as active galacticnuclei (AGN) in the SDSS subsample selected for cross-match with XMM-Newton is only 13 \\% . This fact illustrates that X-ray emission from galaxies commonly points towards the presence of AGN. Our data show, for the first time, a clear dependence of the BPT position on the ratio of the X-ray to $H\\alpha$ fluxes. Sources dominated by X-ray emission lie in the Seyfert and LINER regimes of the BPT diagram. Most sources with a low X-ray-to- $H\\alpha$ -luminosity ratio, $log_{10}(L_X/L_{H\\alpha}) < 1.0$ , lie in the HII regime. In our sample, there are even 45 galaxies  that have $L^{Star}_{XR}/L^{Total}_{Xray}>0.5$ . In contrast, the positions of  the samplemembers in the BPT diagram exhibit ${no}$ dependence on the X-ray hardness ratio. Our finding suggests that the X-ray-to- $H\\alpha$ ratio can help us to differentiate galaxies whose X-ray flux is dominated by an AGN ${from galaxies with}$ central X-ray binaries and other stellar X-ray sources.\n",
       "\n",
       "</div>\n",
       "\n",
       "<div id=\"div_fig1\">\n",
       "\n",
       "<img src=\"tmp_2406.03254/./DR-17-X-ray-H_alpha_Lum.jpg\" alt=\"Fig5\" width=\"100%\"/>\n",
       "\n",
       "**Figure 5. -** Positions of 1347 SDSS X-ray selected galaxies on X-ray versus $H\\alpha$ luminosities plane. X-ray luminosity is in the range 0.2-12 keV and in $erg\\cdot s^{-1}$, $H\\alpha$ luminosity is in $erg\\cdot s^{-1}\\cdot$. Type of ionisation (AGNs, Composite, SF) corresponds to the position of X-ray galaxy on [OIII]/$H\\beta$ versus [NII]/$H\\alpha$ BPT diagram. AGNs are marked with blue circles, Composites - with orange crosses, and SF - with green squares. (*fig:X-ray-H-al*)\n",
       "\n",
       "</div>\n",
       "<div id=\"div_fig2\">\n",
       "\n",
       "<img src=\"tmp_2406.03254/./DR-17-BPT_sdss-z-X-Ha-1.jpg\" alt=\"Fig9\" width=\"100%\"/>\n",
       "\n",
       "**Figure 9. -** Distribution on the BPT diagram  ([Baldwin, Phillips and Terlevich 1981]())  of $1347$ SDSS X-ray-selected galaxies. Empirical lines (dashed blue and solid red) that separate LINERs from Seyfert galaxies are from [Kewley, et. al (2006)](). The grey background circles show all the $204 895$ SDSS-DR17 galaxies that satisfy our basic optical quality cuts: all line fluxes have fractional uncertainties of $<0.13$ dex (33\\%) and are `narrow' $\\sigma_{line}<200 km/s$. The colour bar represents X-ray/H$\\alpha$ flux ratio (6a) and redshift z (6b) and corresponds only to $1347$ SDSS X-ray-selected galaxies.  (*fig:BPT-DR17*)\n",
       "\n",
       "</div>\n",
       "<div id=\"div_fig3\">\n",
       "\n",
       "<img src=\"tmp_2406.03254/./DR17-X-ray-RA-DEC.png\" alt=\"Fig1\" width=\"100%\"/>\n",
       "\n",
       "**Figure 1. -** Distribution of the sample of 1347 X-ray-selected galaxies in equatorial coordinates. (*fig:RA-DE-disz*)\n",
       "\n",
       "</div><div id=\"qrcode\"><img src=https://api.qrserver.com/v1/create-qr-code/?size=100x100&data=\"https://arxiv.org/abs/2406.03254\"></div>"
      ],
      "text/plain": [
       "<IPython.core.display.Markdown object>"
      ]
     },
     "metadata": {},
     "output_type": "display_data"
    },
    {
     "data": {
      "text/markdown": [
       "<div class=\"macros\" style=\"visibility:hidden;\">\n",
       "$\\newcommand{\\ensuremath}{}$\n",
       "$\\newcommand{\\xspace}{}$\n",
       "$\\newcommand{\\object}[1]{\\texttt{#1}}$\n",
       "$\\newcommand{\\farcs}{{.}''}$\n",
       "$\\newcommand{\\farcm}{{.}'}$\n",
       "$\\newcommand{\\arcsec}{''}$\n",
       "$\\newcommand{\\arcmin}{'}$\n",
       "$\\newcommand{\\ion}[2]{#1#2}$\n",
       "$\\newcommand{\\textsc}[1]{\\textrm{#1}}$\n",
       "$\\newcommand{\\hl}[1]{\\textrm{#1}}$\n",
       "$\\newcommand{\\footnote}[1]{}$\n",
       "$\\newcommand{\\f}{\\frac}$\n",
       "$\\newcommand{\\tx}{\\text}$\n",
       "$\\newcommand{\\Li}{\\mathcal{L}}$\n",
       "$\\newcommand{\\arraystretch}{1.3}$</div>\n",
       "\n",
       "\n",
       "\n",
       "<div id=\"title\">\n",
       "\n",
       "# Simultaneous retrieval of orbital phase resolved _JWST_/MIRI emission spectra of the hot Jupiter WASP-43b: evidence of water, ammonia and carbon monoxide\n",
       "\n",
       "</div>\n",
       "<div id=\"comments\">\n",
       "\n",
       "[![arXiv](https://img.shields.io/badge/arXiv-2406.03490-b31b1b.svg)](https://arxiv.org/abs/2406.03490)<mark>Appeared on: 2024-06-06</mark> -  _17 pages, 14 figures, accepted for publication in MNRAS. Comments welcome!_\n",
       "\n",
       "</div>\n",
       "<div id=\"authors\">\n",
       "\n",
       "J. Yang, et al. -- incl., <mark>L. Kreidberg</mark>\n",
       "\n",
       "</div>\n",
       "<div id=\"abstract\">\n",
       "\n",
       "**Abstract:** Spectroscopic phase curves of hot Jupiters measure their emission spectra at multiple orbital phases, thus enabling detailed characterisation of their atmospheres.Precise constraints on the atmospheric composition of these exoplanets offer insights into their formation and evolution.We analyse four phase-resolved emission spectra of the hot Jupiter WASP-43b, generated from a phase curve observed with the MIRI/LRS onboard the _JWST_ , to retrieve its atmospheric properties.Using a parametric 2D temperature model and assuming a chemically homogeneous atmosphere within the observed pressure region, we simultaneously fit the four spectra to constrain the abundances of atmospheric constituents, thereby yielding more precise constraints than previous work that analysed each spectrum independently.Our analysis reveals statistically significant evidence of $NH_3$ (4 $\\sigma$ ) in a hot Jupiter's emission spectra for the first time, along with evidence of $H_2$ O (6.5 $\\sigma$ ), CO (3.1 $\\sigma$ ), and a non-detection of $CH_4$ .With our abundance constraints, we tentatively estimate the metallicity of WASP-43b at 0.6 $-$ 6.5 $\\times$ solar and its C/O ratio at 0.6 $-$ 0.9.Our findings offer vital insights into the atmospheric conditions and formation history of WASP-43b by simultaneously constraining the abundances of carbon, oxygen, and nitrogen-bearing species.\n",
       "\n",
       "</div>\n",
       "\n",
       "<div id=\"div_fig1\">\n",
       "\n",
       "<img src=\"tmp_2406.03490/./Figures/compare_spectra_opacity_1500K_revised.png\" alt=\"Fig11\" width=\"100%\"/>\n",
       "\n",
       "**Figure 11. -** a) - d): Best-fit model spectra at the four orbital phases calculated from the maximum a posteriori parameters.\n",
       "We plot the 1$\\sigma$ and 2$\\sigma$ central credible intervals with dark and light purple shading, respectively.\n",
       "The data in the grey shaded region (10.5-12 $\\micron$) are affected by the `shadowed region' systematics and are not included in our retrievals (see \\ref{sec:shadow_effect}).\n",
       "Interestingly, our best-fit model, when extended to 12 $\\micron$, is consistent with the current reduction of the `shadowed region' data for all phases except at phase $0.75$(see \\ref{sec:spectral_fit} for why we think phase $0.75$ is worst affected by the `shadowed region effect').\n",
       "Since $NH_3$ has strong spectral features in the `shadowed region', a reliable reduction of the `shadowed region effect' in the future can refine the abundance constraints on $NH_3$.\n",
       "Note the absorption feature at the 8.75 $\\micron$ bin at phase $0.5$, which our model cannot explain.\n",
       "e) - f): Cross sections of the spectrally active molecules included in our retrievals, computed at a spectral resolution of R$=1000$ at 1 bar pressure and 1500 K temperature.\n",
       "f) is identical to e) except for the omission of legend for ease of reference.\n",
       "The spectral features between $\\sim$5 and $\\sim$8 $\\micron$ are indicative of $H_2$O molecules, whereas the absence of spectral features between $\\sim$7 and $\\sim$9 $\\micron$ allows us to rule out $CH_4$ at high abundance.\n",
       "While $NH_3$ has strong opacities throughout the MIRI/LRS bandpass, its retrieved abundance is about two orders of magnitude lower than $H_2$O.\n",
       "This means that the spectral features of $H_2$O would dominate over those of $NH_3$ in the wavelength regions where $H_2$O has higher or similar opacity compared to $NH_3$.\n",
       "The notable exception is the wavelength region greater than $\\sim$8 $\\micron$, where the $H_2$O opacity is generally much lower than the $NH_3$ opacity.\n",
       "The constraints on CO are driven by the 5.25 $\\micron$  bin; the absence of CO would increase the planetary flux at the 5.25 $\\micron$  bin relative to the 5.75 $\\micron$ bin.\n",
       "The constraints on $CO_2$ are driven by the data in 9-10.5 $\\micron$ region. (*fig:spectral_fit*)\n",
       "\n",
       "</div>\n",
       "<div id=\"div_fig2\">\n",
       "\n",
       "<img src=\"tmp_2406.03490/./Figures/model.png\" alt=\"Fig1\" width=\"100%\"/>\n",
       "\n",
       "**Figure 1. -** Schematics of our parametric 2D temperature model as defined by equation (\\ref{eq:Tmap}).\n",
       "The model divides the atmosphere into a dayside region and a nightside region, each modelled with a representative TP profile.\n",
       "The dayside central longitude and the dayside width are allowed to vary.\n",
       "`O' marks the substellar point and `O$^{'}$' marks the centre of the dayside region.\n",
       "While temperature is constant with longitude on isobars in the nightside region, we can parameterise the variation of temperature with longitude on the dayside.\n",
       "Note that the temperature is constant with latitude and only varies with pressure and longitude (we interpret the retrieved thermal structure as a latitudinal average, see \\ref{sec:model}).\n",
       " (*fig:model*)\n",
       "\n",
       "</div>\n",
       "<div id=\"div_fig3\">\n",
       "\n",
       "<img src=\"tmp_2406.03490/./Figures/TP_model_revised.png\" alt=\"Fig6\" width=\"100%\"/>\n",
       "\n",
       "**Figure 6. -** Best-fit 2D thermal structure calculated from the maximum a posteriori parameters.\n",
       "The white vertical dashed line marks the position of the hot spot offset.\n",
       " (*fig:tp_2D*)\n",
       "\n",
       "</div><div id=\"qrcode\"><img src=https://api.qrserver.com/v1/create-qr-code/?size=100x100&data=\"https://arxiv.org/abs/2406.03490\"></div>"
      ],
      "text/plain": [
       "<IPython.core.display.Markdown object>"
      ]
     },
     "metadata": {},
     "output_type": "display_data"
    }
   ],
   "source": [
    "[display(Markdown(k[1])) for k in documents];"
   ]
  },
  {
   "cell_type": "markdown",
   "id": "873873a4",
   "metadata": {
    "papermill": {
     "duration": 0.00551,
     "end_time": "2024-06-06T04:10:45.711408",
     "exception": false,
     "start_time": "2024-06-06T04:10:45.705898",
     "status": "completed"
    },
    "tags": []
   },
   "source": [
    "# Create HTML index"
   ]
  },
  {
   "cell_type": "code",
   "execution_count": 10,
   "id": "cf665672",
   "metadata": {
    "execution": {
     "iopub.execute_input": "2024-06-06T04:10:45.723817Z",
     "iopub.status.busy": "2024-06-06T04:10:45.723354Z",
     "iopub.status.idle": "2024-06-06T04:10:45.730219Z",
     "shell.execute_reply": "2024-06-06T04:10:45.729672Z"
    },
    "papermill": {
     "duration": 0.014513,
     "end_time": "2024-06-06T04:10:45.731473",
     "exception": false,
     "start_time": "2024-06-06T04:10:45.716960",
     "status": "completed"
    },
    "tags": []
   },
   "outputs": [
    {
     "name": "stdout",
     "output_type": "stream",
     "text": [
      "87  publications files modified in the last 7 days.\n"
     ]
    }
   ],
   "source": [
    "from datetime import datetime, timedelta, timezone\n",
    "from glob import glob\n",
    "import os\n",
    "\n",
    "files = glob('_build/html/*.md')\n",
    "days = 7\n",
    "now = datetime.today()\n",
    "res = []\n",
    "for fk in files:\n",
    "    stat_result = os.stat(fk).st_ctime\n",
    "    modified = datetime.fromtimestamp(stat_result, tz=timezone.utc).replace(tzinfo=None)\n",
    "    delta = now.today() - modified\n",
    "    if delta <= timedelta(days=days):\n",
    "        res.append((delta.seconds, fk))\n",
    "res = [k[1] for k in reversed(sorted(res, key=lambda x:x[1]))]\n",
    "npub = len(res)\n",
    "print(len(res), f\" publications files modified in the last {days:d} days.\")\n",
    "# [ print('\\t', k) for k in res ];"
   ]
  },
  {
   "cell_type": "code",
   "execution_count": 11,
   "id": "015de740",
   "metadata": {
    "execution": {
     "iopub.execute_input": "2024-06-06T04:10:45.743953Z",
     "iopub.status.busy": "2024-06-06T04:10:45.743586Z",
     "iopub.status.idle": "2024-06-06T04:10:45.754335Z",
     "shell.execute_reply": "2024-06-06T04:10:45.753708Z"
    },
    "papermill": {
     "duration": 0.018394,
     "end_time": "2024-06-06T04:10:45.755636",
     "exception": false,
     "start_time": "2024-06-06T04:10:45.737242",
     "status": "completed"
    },
    "tags": []
   },
   "outputs": [
    {
     "name": "stdout",
     "output_type": "stream",
     "text": [
      "6  publications in the last 7 days.\n"
     ]
    }
   ],
   "source": [
    "import datetime\n",
    "from glob import glob\n",
    "\n",
    "def get_last_n_days(lst, days=1):\n",
    "    \"\"\" Get the documents from the last n days \"\"\"\n",
    "    sorted_lst = sorted(lst, key=lambda x: x[1], reverse=True)\n",
    "    for fname, date in sorted_lst:\n",
    "        if date >= str(datetime.date.today() - datetime.timedelta(days=days)):\n",
    "            yield fname\n",
    "\n",
    "def extract_appearance_dates(lst_file):\n",
    "    dates = []\n",
    "\n",
    "    def get_date(line):\n",
    "        return line\\\n",
    "            .split('Appeared on:')[-1]\\\n",
    "            .split('</mark>')[0].strip()\n",
    "\n",
    "    for fname in lst:\n",
    "        with open(fname, 'r') as f:\n",
    "            found_date = False\n",
    "            for line in f:\n",
    "                if not found_date:\n",
    "                    if \"Appeared on\" in line:\n",
    "                        found_date = True\n",
    "                        dates.append((fname, get_date(line)))\n",
    "                else:\n",
    "                    break\n",
    "    return dates\n",
    "\n",
    "from glob import glob\n",
    "lst = glob('_build/html/*md')\n",
    "days = 7\n",
    "dates = extract_appearance_dates(lst)\n",
    "res = list(get_last_n_days(dates, days))\n",
    "npub = len(res)\n",
    "print(len(res), f\" publications in the last {days:d} days.\")"
   ]
  },
  {
   "cell_type": "code",
   "execution_count": 12,
   "id": "52ca0208",
   "metadata": {
    "execution": {
     "iopub.execute_input": "2024-06-06T04:10:45.768184Z",
     "iopub.status.busy": "2024-06-06T04:10:45.767834Z",
     "iopub.status.idle": "2024-06-06T04:10:45.772657Z",
     "shell.execute_reply": "2024-06-06T04:10:45.772051Z"
    },
    "papermill": {
     "duration": 0.012563,
     "end_time": "2024-06-06T04:10:45.773967",
     "exception": false,
     "start_time": "2024-06-06T04:10:45.761404",
     "status": "completed"
    },
    "scrolled": false,
    "tags": []
   },
   "outputs": [],
   "source": [
    "def create_carousel(npub=4):\n",
    "    \"\"\" Generate the HTML code for a carousel with `npub` slides \"\"\"\n",
    "    carousel = [\"\"\"  <div class=\"carousel\" \"\"\",\n",
    "                \"\"\"       data-flickity='{ \"autoPlay\": 10000, \"adaptiveHeight\": true, \"resize\": true, \"wrapAround\": true, \"pauseAutoPlayOnHover\": true, \"groupCells\": 1 }' id=\"asyncTypeset\">\"\"\"\n",
    "                ]\n",
    "    \n",
    "    item_str = \"\"\"    <div class=\"carousel-cell\"> <div id=\"slide{k}\" class=\"md_view\">Content {k}</div> </div>\"\"\"\n",
    "    for k in range(1, npub + 1):\n",
    "        carousel.append(item_str.format(k=k))\n",
    "    carousel.append(\"  </div>\")\n",
    "    return '\\n'.join(carousel)\n",
    "\n",
    "def create_grid(npub=4):\n",
    "    \"\"\" Generate the HTML code for a flat grid with `npub` slides \"\"\"\n",
    "    grid = [\"\"\"  <div class=\"grid\"> \"\"\",\n",
    "                ]\n",
    "    \n",
    "    item_str = \"\"\"    <div class=\"grid-item\"> <div id=\"slide{k}\" class=\"md_view\">Content {k}</div> </div>\"\"\"\n",
    "    for k in range(1, npub + 1):\n",
    "        grid.append(item_str.format(k=k))\n",
    "    grid.append(\"  </div>\")\n",
    "    return '\\n'.join(grid)"
   ]
  },
  {
   "cell_type": "code",
   "execution_count": 13,
   "id": "a6eac5b6",
   "metadata": {
    "execution": {
     "iopub.execute_input": "2024-06-06T04:10:45.786910Z",
     "iopub.status.busy": "2024-06-06T04:10:45.786396Z",
     "iopub.status.idle": "2024-06-06T04:10:45.791454Z",
     "shell.execute_reply": "2024-06-06T04:10:45.790848Z"
    },
    "papermill": {
     "duration": 0.012982,
     "end_time": "2024-06-06T04:10:45.792851",
     "exception": false,
     "start_time": "2024-06-06T04:10:45.779869",
     "status": "completed"
    },
    "scrolled": false,
    "tags": []
   },
   "outputs": [],
   "source": [
    "carousel = create_carousel(npub)\n",
    "docs = ', '.join(['\"{0:s}\"'.format(k.split('/')[-1]) for k in res])\n",
    "slides = ', '.join([f'\"slide{k}\"' for k in range(1, npub + 1)])\n",
    "\n",
    "with open(\"daily_template.html\", \"r\") as tpl:\n",
    "    page = tpl.read()\n",
    "    page = page.replace(\"{%-- carousel:s --%}\", carousel)\\\n",
    "               .replace(\"{%-- suptitle:s --%}\",  \"7-day archives\" )\\\n",
    "               .replace(\"{%-- docs:s --%}\", docs)\\\n",
    "               .replace(\"{%-- slides:s --%}\", slides)\n",
    "    \n",
    "with open(\"_build/html/index_7days.html\", 'w') as fout:\n",
    "    fout.write(page)"
   ]
  },
  {
   "cell_type": "code",
   "execution_count": 14,
   "id": "adc1a1ec",
   "metadata": {
    "execution": {
     "iopub.execute_input": "2024-06-06T04:10:45.805631Z",
     "iopub.status.busy": "2024-06-06T04:10:45.805157Z",
     "iopub.status.idle": "2024-06-06T04:10:45.811237Z",
     "shell.execute_reply": "2024-06-06T04:10:45.810625Z"
    },
    "papermill": {
     "duration": 0.013755,
     "end_time": "2024-06-06T04:10:45.812515",
     "exception": false,
     "start_time": "2024-06-06T04:10:45.798760",
     "status": "completed"
    },
    "tags": []
   },
   "outputs": [
    {
     "name": "stdout",
     "output_type": "stream",
     "text": [
      "5  publications in the last day.\n"
     ]
    }
   ],
   "source": [
    "# redo for today\n",
    "days = 1\n",
    "res = list(get_last_n_days(dates, days))\n",
    "npub = len(res)\n",
    "print(len(res), f\" publications in the last day.\")\n",
    "\n",
    "carousel = create_carousel(npub)\n",
    "docs = ', '.join(['\"{0:s}\"'.format(k.split('/')[-1]) for k in res])\n",
    "slides = ', '.join([f'\"slide{k}\"' for k in range(1, npub + 1)])\n",
    "\n",
    "with open(\"daily_template.html\", \"r\") as tpl:\n",
    "    page = tpl.read()\n",
    "    page = page.replace(\"{%-- carousel:s --%}\", carousel)\\\n",
    "               .replace(\"{%-- suptitle:s --%}\",  \"Daily\" )\\\n",
    "               .replace(\"{%-- docs:s --%}\", docs)\\\n",
    "               .replace(\"{%-- slides:s --%}\", slides)\n",
    "    \n",
    "# print(carousel, docs, slides)\n",
    "# print(page)\n",
    "with open(\"_build/html/index_daily.html\", 'w') as fout:\n",
    "    fout.write(page)"
   ]
  },
  {
   "cell_type": "code",
   "execution_count": 15,
   "id": "00eece82",
   "metadata": {
    "execution": {
     "iopub.execute_input": "2024-06-06T04:10:45.825405Z",
     "iopub.status.busy": "2024-06-06T04:10:45.825015Z",
     "iopub.status.idle": "2024-06-06T04:10:45.831107Z",
     "shell.execute_reply": "2024-06-06T04:10:45.830552Z"
    },
    "papermill": {
     "duration": 0.013949,
     "end_time": "2024-06-06T04:10:45.832423",
     "exception": false,
     "start_time": "2024-06-06T04:10:45.818474",
     "status": "completed"
    },
    "scrolled": false,
    "tags": []
   },
   "outputs": [
    {
     "name": "stdout",
     "output_type": "stream",
     "text": [
      "6  6 publications selected.\n"
     ]
    }
   ],
   "source": [
    "# Create the flat grid of the last N papers (fixed number regardless of dates)\n",
    "from itertools import islice \n",
    "\n",
    "npub = 6\n",
    "res = [k[0] for k in (islice(reversed(sorted(dates, key=lambda x: x[1])), 6))]\n",
    "print(len(res), f\" {npub} publications selected.\")\n",
    "\n",
    "grid = create_grid(npub)\n",
    "docs = ', '.join(['\"{0:s}\"'.format(k.split('/')[-1]) for k in res])\n",
    "slides = ', '.join([f'\"slide{k}\"' for k in range(1, npub + 1)])\n",
    "\n",
    "with open(\"grid_template.html\", \"r\") as tpl:\n",
    "    page = tpl.read()\n",
    "    page = page.replace(\"{%-- grid-content:s --%}\", grid)\\\n",
    "               .replace(\"{%-- suptitle:s --%}\",  f\"Last {npub:,d} papers\" )\\\n",
    "               .replace(\"{%-- docs:s --%}\", docs)\\\n",
    "               .replace(\"{%-- slides:s --%}\", slides)\n",
    "    \n",
    "# print(grid, docs, slides)\n",
    "# print(page)\n",
    "with open(\"_build/html/index_npub_grid.html\", 'w') as fout:\n",
    "    fout.write(page)"
   ]
  }
 ],
 "metadata": {
  "kernelspec": {
   "display_name": "Python 3 (ipykernel)",
   "language": "python",
   "name": "python3"
  },
  "language_info": {
   "codemirror_mode": {
    "name": "ipython",
    "version": 3
   },
   "file_extension": ".py",
   "mimetype": "text/x-python",
   "name": "python",
   "nbconvert_exporter": "python",
   "pygments_lexer": "ipython3",
   "version": "3.9.19"
  },
  "papermill": {
   "default_parameters": {},
   "duration": 121.363906,
   "end_time": "2024-06-06T04:10:46.054669",
   "environment_variables": {},
   "exception": null,
   "input_path": "MPIA daily digest.ipynb",
   "output_path": "log.ipynb",
   "parameters": {},
   "start_time": "2024-06-06T04:08:44.690763",
   "version": "2.6.0"
  },
  "vscode": {
   "interpreter": {
    "hash": "aee8b7b246df8f9039afb4144a1f6fd8d2ca17a180786b69acc140d282b71a49"
   }
  },
  "widgets": {
   "application/vnd.jupyter.widget-state+json": {
    "state": {
     "1460e67e9fdc46aeaed7a0be03819575": {
      "model_module": "@jupyter-widgets/base",
      "model_module_version": "2.0.0",
      "model_name": "LayoutModel",
      "state": {
       "_model_module": "@jupyter-widgets/base",
       "_model_module_version": "2.0.0",
       "_model_name": "LayoutModel",
       "_view_count": null,
       "_view_module": "@jupyter-widgets/base",
       "_view_module_version": "2.0.0",
       "_view_name": "LayoutView",
       "align_content": null,
       "align_items": null,
       "align_self": null,
       "border_bottom": null,
       "border_left": null,
       "border_right": null,
       "border_top": null,
       "bottom": null,
       "display": null,
       "flex": null,
       "flex_flow": null,
       "grid_area": null,
       "grid_auto_columns": null,
       "grid_auto_flow": null,
       "grid_auto_rows": null,
       "grid_column": null,
       "grid_gap": null,
       "grid_row": null,
       "grid_template_areas": null,
       "grid_template_columns": null,
       "grid_template_rows": null,
       "height": null,
       "justify_content": null,
       "justify_items": null,
       "left": null,
       "margin": null,
       "max_height": null,
       "max_width": null,
       "min_height": null,
       "min_width": null,
       "object_fit": null,
       "object_position": null,
       "order": null,
       "overflow": null,
       "padding": null,
       "right": null,
       "top": null,
       "visibility": null,
       "width": null
      }
     },
     "35252a17a6244eb5a4a78b6d372b8383": {
      "model_module": "@jupyter-widgets/base",
      "model_module_version": "2.0.0",
      "model_name": "LayoutModel",
      "state": {
       "_model_module": "@jupyter-widgets/base",
       "_model_module_version": "2.0.0",
       "_model_name": "LayoutModel",
       "_view_count": null,
       "_view_module": "@jupyter-widgets/base",
       "_view_module_version": "2.0.0",
       "_view_name": "LayoutView",
       "align_content": null,
       "align_items": null,
       "align_self": null,
       "border_bottom": null,
       "border_left": null,
       "border_right": null,
       "border_top": null,
       "bottom": null,
       "display": null,
       "flex": null,
       "flex_flow": null,
       "grid_area": null,
       "grid_auto_columns": null,
       "grid_auto_flow": null,
       "grid_auto_rows": null,
       "grid_column": null,
       "grid_gap": null,
       "grid_row": null,
       "grid_template_areas": null,
       "grid_template_columns": null,
       "grid_template_rows": null,
       "height": null,
       "justify_content": null,
       "justify_items": null,
       "left": null,
       "margin": null,
       "max_height": null,
       "max_width": null,
       "min_height": null,
       "min_width": null,
       "object_fit": null,
       "object_position": null,
       "order": null,
       "overflow": null,
       "padding": null,
       "right": null,
       "top": null,
       "visibility": null,
       "width": null
      }
     },
     "432a813e3d864f9fadbb32443b27cfe1": {
      "model_module": "@jupyter-widgets/controls",
      "model_module_version": "2.0.0",
      "model_name": "HTMLModel",
      "state": {
       "_dom_classes": [],
       "_model_module": "@jupyter-widgets/controls",
       "_model_module_version": "2.0.0",
       "_model_name": "HTMLModel",
       "_view_count": null,
       "_view_module": "@jupyter-widgets/controls",
       "_view_module_version": "2.0.0",
       "_view_name": "HTMLView",
       "description": "",
       "description_allow_html": false,
       "layout": "IPY_MODEL_e6eb57b862804cb8848fea4bb481e307",
       "placeholder": "​",
       "style": "IPY_MODEL_d72d2e022554459ea6c4725dd9f69503",
       "tabbable": null,
       "tooltip": null,
       "value": "100%"
      }
     },
     "7c1f21fe9cce4c1fb58f50806141a121": {
      "model_module": "@jupyter-widgets/controls",
      "model_module_version": "2.0.0",
      "model_name": "HTMLModel",
      "state": {
       "_dom_classes": [],
       "_model_module": "@jupyter-widgets/controls",
       "_model_module_version": "2.0.0",
       "_model_name": "HTMLModel",
       "_view_count": null,
       "_view_module": "@jupyter-widgets/controls",
       "_view_module_version": "2.0.0",
       "_view_name": "HTMLView",
       "description": "",
       "description_allow_html": false,
       "layout": "IPY_MODEL_1460e67e9fdc46aeaed7a0be03819575",
       "placeholder": "​",
       "style": "IPY_MODEL_9f904c4d149d4b91b6823b2debead233",
       "tabbable": null,
       "tooltip": null,
       "value": " 7/7 [01:41&lt;00:00, 17.35s/it]"
      }
     },
     "9f904c4d149d4b91b6823b2debead233": {
      "model_module": "@jupyter-widgets/controls",
      "model_module_version": "2.0.0",
      "model_name": "HTMLStyleModel",
      "state": {
       "_model_module": "@jupyter-widgets/controls",
       "_model_module_version": "2.0.0",
       "_model_name": "HTMLStyleModel",
       "_view_count": null,
       "_view_module": "@jupyter-widgets/base",
       "_view_module_version": "2.0.0",
       "_view_name": "StyleView",
       "background": null,
       "description_width": "",
       "font_size": null,
       "text_color": null
      }
     },
     "a49286204acf4446a26a81e5be5a701f": {
      "model_module": "@jupyter-widgets/controls",
      "model_module_version": "2.0.0",
      "model_name": "HBoxModel",
      "state": {
       "_dom_classes": [],
       "_model_module": "@jupyter-widgets/controls",
       "_model_module_version": "2.0.0",
       "_model_name": "HBoxModel",
       "_view_count": null,
       "_view_module": "@jupyter-widgets/controls",
       "_view_module_version": "2.0.0",
       "_view_name": "HBoxView",
       "box_style": "",
       "children": [
        "IPY_MODEL_432a813e3d864f9fadbb32443b27cfe1",
        "IPY_MODEL_b8111d9669aa4b86b62ae51a26bf1edb",
        "IPY_MODEL_7c1f21fe9cce4c1fb58f50806141a121"
       ],
       "layout": "IPY_MODEL_35252a17a6244eb5a4a78b6d372b8383",
       "tabbable": null,
       "tooltip": null
      }
     },
     "b8111d9669aa4b86b62ae51a26bf1edb": {
      "model_module": "@jupyter-widgets/controls",
      "model_module_version": "2.0.0",
      "model_name": "FloatProgressModel",
      "state": {
       "_dom_classes": [],
       "_model_module": "@jupyter-widgets/controls",
       "_model_module_version": "2.0.0",
       "_model_name": "FloatProgressModel",
       "_view_count": null,
       "_view_module": "@jupyter-widgets/controls",
       "_view_module_version": "2.0.0",
       "_view_name": "ProgressView",
       "bar_style": "success",
       "description": "",
       "description_allow_html": false,
       "layout": "IPY_MODEL_dd0a76a9396548268214497c8d5f5a18",
       "max": 7.0,
       "min": 0.0,
       "orientation": "horizontal",
       "style": "IPY_MODEL_d032dc77e35c4de8b01f3c465e4d29e5",
       "tabbable": null,
       "tooltip": null,
       "value": 7.0
      }
     },
     "d032dc77e35c4de8b01f3c465e4d29e5": {
      "model_module": "@jupyter-widgets/controls",
      "model_module_version": "2.0.0",
      "model_name": "ProgressStyleModel",
      "state": {
       "_model_module": "@jupyter-widgets/controls",
       "_model_module_version": "2.0.0",
       "_model_name": "ProgressStyleModel",
       "_view_count": null,
       "_view_module": "@jupyter-widgets/base",
       "_view_module_version": "2.0.0",
       "_view_name": "StyleView",
       "bar_color": null,
       "description_width": ""
      }
     },
     "d72d2e022554459ea6c4725dd9f69503": {
      "model_module": "@jupyter-widgets/controls",
      "model_module_version": "2.0.0",
      "model_name": "HTMLStyleModel",
      "state": {
       "_model_module": "@jupyter-widgets/controls",
       "_model_module_version": "2.0.0",
       "_model_name": "HTMLStyleModel",
       "_view_count": null,
       "_view_module": "@jupyter-widgets/base",
       "_view_module_version": "2.0.0",
       "_view_name": "StyleView",
       "background": null,
       "description_width": "",
       "font_size": null,
       "text_color": null
      }
     },
     "dd0a76a9396548268214497c8d5f5a18": {
      "model_module": "@jupyter-widgets/base",
      "model_module_version": "2.0.0",
      "model_name": "LayoutModel",
      "state": {
       "_model_module": "@jupyter-widgets/base",
       "_model_module_version": "2.0.0",
       "_model_name": "LayoutModel",
       "_view_count": null,
       "_view_module": "@jupyter-widgets/base",
       "_view_module_version": "2.0.0",
       "_view_name": "LayoutView",
       "align_content": null,
       "align_items": null,
       "align_self": null,
       "border_bottom": null,
       "border_left": null,
       "border_right": null,
       "border_top": null,
       "bottom": null,
       "display": null,
       "flex": null,
       "flex_flow": null,
       "grid_area": null,
       "grid_auto_columns": null,
       "grid_auto_flow": null,
       "grid_auto_rows": null,
       "grid_column": null,
       "grid_gap": null,
       "grid_row": null,
       "grid_template_areas": null,
       "grid_template_columns": null,
       "grid_template_rows": null,
       "height": null,
       "justify_content": null,
       "justify_items": null,
       "left": null,
       "margin": null,
       "max_height": null,
       "max_width": null,
       "min_height": null,
       "min_width": null,
       "object_fit": null,
       "object_position": null,
       "order": null,
       "overflow": null,
       "padding": null,
       "right": null,
       "top": null,
       "visibility": null,
       "width": null
      }
     },
     "e6eb57b862804cb8848fea4bb481e307": {
      "model_module": "@jupyter-widgets/base",
      "model_module_version": "2.0.0",
      "model_name": "LayoutModel",
      "state": {
       "_model_module": "@jupyter-widgets/base",
       "_model_module_version": "2.0.0",
       "_model_name": "LayoutModel",
       "_view_count": null,
       "_view_module": "@jupyter-widgets/base",
       "_view_module_version": "2.0.0",
       "_view_name": "LayoutView",
       "align_content": null,
       "align_items": null,
       "align_self": null,
       "border_bottom": null,
       "border_left": null,
       "border_right": null,
       "border_top": null,
       "bottom": null,
       "display": null,
       "flex": null,
       "flex_flow": null,
       "grid_area": null,
       "grid_auto_columns": null,
       "grid_auto_flow": null,
       "grid_auto_rows": null,
       "grid_column": null,
       "grid_gap": null,
       "grid_row": null,
       "grid_template_areas": null,
       "grid_template_columns": null,
       "grid_template_rows": null,
       "height": null,
       "justify_content": null,
       "justify_items": null,
       "left": null,
       "margin": null,
       "max_height": null,
       "max_width": null,
       "min_height": null,
       "min_width": null,
       "object_fit": null,
       "object_position": null,
       "order": null,
       "overflow": null,
       "padding": null,
       "right": null,
       "top": null,
       "visibility": null,
       "width": null
      }
     }
    },
    "version_major": 2,
    "version_minor": 0
   }
  }
 },
 "nbformat": 4,
 "nbformat_minor": 5
}