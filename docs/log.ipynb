{
 "cells": [
  {
   "cell_type": "markdown",
   "id": "92bcb855",
   "metadata": {
    "papermill": {
     "duration": 0.003847,
     "end_time": "2024-07-23T04:08:56.508757",
     "exception": false,
     "start_time": "2024-07-23T04:08:56.504910",
     "status": "completed"
    },
    "tags": []
   },
   "source": [
    "# MPIA Arxiv on Deck 2\n",
    "\n",
    "Contains the steps to produce the paper extractions."
   ]
  },
  {
   "cell_type": "code",
   "execution_count": 1,
   "id": "3a0d6e11",
   "metadata": {
    "execution": {
     "iopub.execute_input": "2024-07-23T04:08:56.516324Z",
     "iopub.status.busy": "2024-07-23T04:08:56.515858Z",
     "iopub.status.idle": "2024-07-23T04:08:57.462500Z",
     "shell.execute_reply": "2024-07-23T04:08:57.461921Z"
    },
    "papermill": {
     "duration": 0.952207,
     "end_time": "2024-07-23T04:08:57.464136",
     "exception": false,
     "start_time": "2024-07-23T04:08:56.511929",
     "status": "completed"
    },
    "tags": []
   },
   "outputs": [],
   "source": [
    "# Imports\n",
    "import os\n",
    "from IPython.display import Markdown, display\n",
    "from tqdm.notebook import tqdm\n",
    "import warnings\n",
    "from PIL import Image \n",
    "\n",
    "# requires arxiv_on_deck_2\n",
    "\n",
    "from arxiv_on_deck_2.arxiv2 import (get_new_papers, \n",
    "                                    get_paper_from_identifier,\n",
    "                                    retrieve_document_source, \n",
    "                                    get_markdown_badge)\n",
    "from arxiv_on_deck_2 import (latex,\n",
    "                             latex_bib,\n",
    "                             mpia,\n",
    "                             highlight_authors_in_list)\n",
    "\n",
    "# Sometimes images are really big\n",
    "Image.MAX_IMAGE_PIXELS = 1000000000 "
   ]
  },
  {
   "cell_type": "code",
   "execution_count": 2,
   "id": "22aa9d44",
   "metadata": {
    "execution": {
     "iopub.execute_input": "2024-07-23T04:08:57.477885Z",
     "iopub.status.busy": "2024-07-23T04:08:57.477369Z",
     "iopub.status.idle": "2024-07-23T04:08:57.482624Z",
     "shell.execute_reply": "2024-07-23T04:08:57.481961Z"
    },
    "papermill": {
     "duration": 0.012415,
     "end_time": "2024-07-23T04:08:57.484077",
     "exception": false,
     "start_time": "2024-07-23T04:08:57.471662",
     "status": "completed"
    },
    "tags": []
   },
   "outputs": [],
   "source": [
    "# Some useful definitions.\n",
    "\n",
    "class AffiliationWarning(UserWarning):\n",
    "    pass\n",
    "\n",
    "class AffiliationError(RuntimeError):\n",
    "    pass\n",
    "\n",
    "def validation(source: str):\n",
    "    \"\"\"Raises error paper during parsing of source file\n",
    "    \n",
    "    Allows checks before parsing TeX code.\n",
    "    \n",
    "    Raises AffiliationWarning\n",
    "    \"\"\"\n",
    "    check = mpia.affiliation_verifications(source, verbose=True)\n",
    "    if check is not True:\n",
    "        raise AffiliationError(\"mpia.affiliation_verifications: \" + check)\n",
    "\n",
    "        \n",
    "warnings.simplefilter('always', AffiliationWarning)\n",
    "\n",
    "\n",
    "def get_markdown_qrcode(paper_id: str):\n",
    "    \"\"\" Generate a qrcode to the arxiv page using qrserver.com\n",
    "    \n",
    "    :param paper: Arxiv paper\n",
    "    :returns: markdown text\n",
    "    \"\"\"\n",
    "    url = r\"https://api.qrserver.com/v1/create-qr-code/?size=100x100&data=\"\n",
    "    txt = f\"\"\"<img src={url}\"https://arxiv.org/abs/{paper_id}\">\"\"\"\n",
    "    txt = '<div id=\"qrcode\">' + txt + '</div>'\n",
    "    return txt"
   ]
  },
  {
   "cell_type": "markdown",
   "id": "14bd6310",
   "metadata": {
    "papermill": {
     "duration": 0.003155,
     "end_time": "2024-07-23T04:08:57.525295",
     "exception": false,
     "start_time": "2024-07-23T04:08:57.522140",
     "status": "completed"
    },
    "tags": []
   },
   "source": [
    "## get list of arxiv paper candidates\n",
    "\n",
    "We use the MPIA mitarbeiter list webpage from mpia.de to get author names\n",
    "We then get all new papers from Arxiv and match authors"
   ]
  },
  {
   "cell_type": "code",
   "execution_count": 3,
   "id": "7ea813a8",
   "metadata": {
    "execution": {
     "iopub.execute_input": "2024-07-23T04:08:57.730266Z",
     "iopub.status.busy": "2024-07-23T04:08:57.729785Z",
     "iopub.status.idle": "2024-07-23T04:09:16.072619Z",
     "shell.execute_reply": "2024-07-23T04:09:16.072053Z"
    },
    "papermill": {
     "duration": 18.478744,
     "end_time": "2024-07-23T04:09:16.074194",
     "exception": false,
     "start_time": "2024-07-23T04:08:57.595450",
     "status": "completed"
    },
    "tags": []
   },
   "outputs": [],
   "source": [
    "# deal with the author list and edge cases of people that cannot be consistent on their name  \n",
    "\n",
    "def filter_non_scientists(name: str) -> bool:\n",
    "    \"\"\" Loose filter on expected authorships\n",
    "\n",
    "    removing IT, administration, technical staff\n",
    "    :param name: name\n",
    "    :returns: False if name is not a scientist\n",
    "    \"\"\"\n",
    "    remove_list = ['Wolf', 'Licht', 'Binroth', 'Witzel', 'Jordan',\n",
    "                   'Zähringer', 'Scheerer', 'Hoffmann', 'Düe',\n",
    "                   'Hellmich', 'Enkler-Scharpegge', 'Witte-Nguy',\n",
    "                   'Dehen', 'Beckmann', 'Jager', 'Jäger'\n",
    "                  ]\n",
    "\n",
    "    for k in remove_list:\n",
    "        if k in name:\n",
    "            return False\n",
    "    return True\n",
    "\n",
    "def add_author_to_list(author_list: list) -> list:\n",
    "    \"\"\" Add author to list if not already in list\n",
    "    \n",
    "    :param author: author name\n",
    "    :param author_list: list of authors\n",
    "    :returns: updated list of authors\n",
    "    \"\"\"\n",
    "    add_list = ['T. Henning']\n",
    "\n",
    "    for author in add_list:\n",
    "        if author not in author_list:\n",
    "            author_list.append(author)\n",
    "    return author_list\n",
    "\n",
    "# get list from MPIA website\n",
    "# filter for non-scientists (mpia.get_mpia_mitarbeiter_list() does some filtering)\n",
    "mpia_authors = [k[1] for k in mpia.get_mpia_mitarbeiter_list() if filter_non_scientists(k[1])]\n",
    "# add some missing author because of inconsistencies in their MPIA name and author name on papers\n",
    "mpia_authors = add_author_to_list(mpia_authors)"
   ]
  },
  {
   "cell_type": "code",
   "execution_count": 4,
   "id": "2645e73a",
   "metadata": {
    "execution": {
     "iopub.execute_input": "2024-07-23T04:09:16.081975Z",
     "iopub.status.busy": "2024-07-23T04:09:16.081603Z",
     "iopub.status.idle": "2024-07-23T04:09:16.956650Z",
     "shell.execute_reply": "2024-07-23T04:09:16.955930Z"
    },
    "papermill": {
     "duration": 0.880449,
     "end_time": "2024-07-23T04:09:16.958059",
     "exception": false,
     "start_time": "2024-07-23T04:09:16.077610",
     "status": "completed"
    },
    "tags": []
   },
   "outputs": [
    {
     "name": "stdout",
     "output_type": "stream",
     "text": [
      "X. Zhang  ->  X. Zhang  |  ['X. Zhang']\n",
      "G. Green  ->  G. Green  |  ['G. Green']\n",
      "S. Letchev  ->  S. Letchev  |  ['S. Letchev']\n",
      "R. Zhang  ->  R. Zhang  |  ['R. Zhang']\n",
      "S. Li  ->  S. Li  |  ['S. Li']\n",
      "X. Zhang  ->  X. Zhang  |  ['X. Zhang']\n",
      "J. Mathew  ->  J. Mathew  |  ['J. Mathew']\n"
     ]
    },
    {
     "name": "stdout",
     "output_type": "stream",
     "text": [
      "F. Walter  ->  F. Walter  |  ['F. Walter']\n",
      "X. Zhang  ->  X. Zhang  |  ['X. Zhang']\n",
      "J. Liu  ->  J. Liu  |  ['J. Liu']\n",
      "J. Liu  ->  J. Liu  |  ['J. Liu']\n",
      "J. Li  ->  J. Li  |  ['J. Li']\n",
      "F. Walter  ->  F. Walter  |  ['F. Walter']\n",
      "E. Schinnerer  ->  E. Schinnerer  |  ['E. Schinnerer']\n",
      "Arxiv has 89 new papers today\n",
      "          10 with possible author matches\n"
     ]
    }
   ],
   "source": [
    "new_papers = get_new_papers()\n",
    "# add manual references\n",
    "add_paper_refs = []\n",
    "new_papers.extend([get_paper_from_identifier(k) for k in add_paper_refs])\n",
    "\n",
    "candidates = []\n",
    "for paperk in new_papers:\n",
    "    # Check author list with their initials\n",
    "    normed_author_list = [mpia.get_initials(k) for k in paperk['authors']]\n",
    "    hl_authors = highlight_authors_in_list(normed_author_list, mpia_authors, verbose=True)\n",
    "    matches = [(hl, orig) for hl, orig in zip(hl_authors, paperk['authors']) if 'mark' in hl]\n",
    "    paperk['authors'] = hl_authors\n",
    "    if matches:\n",
    "        # only select paper if an author matched our list\n",
    "        candidates.append(paperk)\n",
    "print(\"\"\"Arxiv has {0:,d} new papers today\"\"\".format(len(new_papers)))        \n",
    "print(\"\"\"          {0:,d} with possible author matches\"\"\".format(len(candidates)))"
   ]
  },
  {
   "cell_type": "markdown",
   "id": "3543b34a",
   "metadata": {
    "papermill": {
     "duration": 0.003932,
     "end_time": "2024-07-23T04:09:16.965430",
     "exception": false,
     "start_time": "2024-07-23T04:09:16.961498",
     "status": "completed"
    },
    "tags": []
   },
   "source": [
    "# Parse sources and generate relevant outputs\n",
    "\n",
    "From the candidates, we do the following steps:\n",
    "* get their tarball from ArXiv (and extract data)\n",
    "* find the main .tex file: find one with \\documentclass{...} (sometimes it's non trivial)\n",
    "* Check affiliations with :func:`validation`, which uses :func:`mpia.affiliation_verifications`\n",
    "* If passing the affiliations: we parse the .tex source\n",
    "   * inject sub-documents into the main (flatten the main document)\n",
    "   * parse structure, extract information (title, abstract, authors, figures...)\n",
    "   * handles `\\graphicspath` if provided\n",
    "* Generate the .md document."
   ]
  },
  {
   "cell_type": "code",
   "execution_count": 5,
   "id": "9576b79e",
   "metadata": {
    "execution": {
     "iopub.execute_input": "2024-07-23T04:09:16.972680Z",
     "iopub.status.busy": "2024-07-23T04:09:16.972460Z",
     "iopub.status.idle": "2024-07-23T04:09:57.910609Z",
     "shell.execute_reply": "2024-07-23T04:09:57.909786Z"
    },
    "papermill": {
     "duration": 40.943983,
     "end_time": "2024-07-23T04:09:57.912480",
     "exception": false,
     "start_time": "2024-07-23T04:09:16.968497",
     "status": "completed"
    },
    "scrolled": false,
    "tags": []
   },
   "outputs": [
    {
     "data": {
      "application/vnd.jupyter.widget-view+json": {
       "model_id": "e849cd8654e54684995f7b09661e57db",
       "version_major": 2,
       "version_minor": 0
      },
      "text/plain": [
       "  0%|          | 0/10 [00:00<?, ?it/s]"
      ]
     },
     "metadata": {},
     "output_type": "display_data"
    },
    {
     "name": "stdout",
     "output_type": "stream",
     "text": [
      "Retrieving document from  https://arxiv.org/e-print/2407.14594\n"
     ]
    },
    {
     "name": "stderr",
     "output_type": "stream",
     "text": [
      "/tmp/ipykernel_2155/1211882699.py:51: LatexWarning: 2407.14594 did not run properly\n",
      "not a gzip file\n",
      "  warnings.warn(latex.LatexWarning(f\"{paper_id:s} did not run properly\\n\" +\n"
     ]
    },
    {
     "name": "stdout",
     "output_type": "stream",
     "text": [
      "Retrieving document from  https://arxiv.org/e-print/2407.14606\n",
      "extracting tarball to tmp_2407.14606..."
     ]
    },
    {
     "name": "stdout",
     "output_type": "stream",
     "text": [
      " done.\n",
      "Retrieving document from  https://arxiv.org/e-print/2407.14677\n",
      "extracting tarball to tmp_2407.14677... done.\n",
      "Retrieving document from  https://arxiv.org/e-print/2407.14856\n",
      "extracting tarball to tmp_2407.14856... done.\n",
      "Retrieving document from  https://arxiv.org/e-print/2407.14934\n"
     ]
    },
    {
     "name": "stderr",
     "output_type": "stream",
     "text": [
      "/opt/hostedtoolcache/Python/3.9.19/x64/lib/python3.9/site-packages/IPython/core/interactiveshell.py:3550: LatexWarning: Multiple tex files.\n",
      "\n",
      "  exec(code_obj, self.user_global_ns, self.user_ns)\n",
      "/tmp/ipykernel_2155/1211882699.py:51: LatexWarning: 2407.14606 did not run properly\n",
      "'PosixPath' object is not subscriptable\n",
      "  warnings.warn(latex.LatexWarning(f\"{paper_id:s} did not run properly\\n\" +\n"
     ]
    },
    {
     "name": "stdout",
     "output_type": "stream",
     "text": [
      "extracting tarball to tmp_2407.14934... done.\n",
      "Retrieving document from  https://arxiv.org/e-print/2407.15093\n",
      "extracting tarball to tmp_2407.15093... done.\n",
      "Retrieving document from  https://arxiv.org/e-print/2407.15572\n"
     ]
    },
    {
     "name": "stdout",
     "output_type": "stream",
     "text": [
      "extracting tarball to tmp_2407.15572... done.\n"
     ]
    },
    {
     "name": "stdout",
     "output_type": "stream",
     "text": [
      "F. Walter  ->  F. Walter  |  ['F. Walter']\n"
     ]
    },
    {
     "name": "stdout",
     "output_type": "stream",
     "text": [
      "Found 88 bibliographic references in tmp_2407.15572/sfout.bbl.\n",
      "Retrieving document from  https://arxiv.org/e-print/2407.15640\n",
      "extracting tarball to tmp_2407.15640..."
     ]
    },
    {
     "name": "stdout",
     "output_type": "stream",
     "text": [
      " done.\n",
      "Retrieving document from  https://arxiv.org/e-print/2407.15768\n"
     ]
    },
    {
     "name": "stdout",
     "output_type": "stream",
     "text": [
      "extracting tarball to tmp_2407.15768..."
     ]
    },
    {
     "name": "stdout",
     "output_type": "stream",
     "text": [
      " done.\n",
      "Retrieving document from  https://arxiv.org/e-print/2407.15846\n"
     ]
    },
    {
     "name": "stdout",
     "output_type": "stream",
     "text": [
      "extracting tarball to tmp_2407.15846..."
     ]
    },
    {
     "name": "stdout",
     "output_type": "stream",
     "text": [
      " done.\n"
     ]
    },
    {
     "name": "stdout",
     "output_type": "stream",
     "text": [
      "J. Li  ->  J. Li  |  ['J. Li']\n",
      "F. Walter  ->  F. Walter  |  ['F. Walter']\n",
      "E. Schinnerer  ->  E. Schinnerer  |  ['E. Schinnerer']\n"
     ]
    },
    {
     "name": "stdout",
     "output_type": "stream",
     "text": [
      "Found 119 bibliographic references in tmp_2407.15846/main.bbl.\n",
      "syntax error in line 228: '=' expected\n"
     ]
    }
   ],
   "source": [
    "documents = []\n",
    "failed = []\n",
    "for paper in tqdm(candidates):\n",
    "    # debug crap\n",
    "    paper['identifier'] = paper['identifier'].lower().replace('arxiv:', '').replace(r'\\n', '').strip()\n",
    "    paper_id = paper['identifier']\n",
    "    \n",
    "    folder = f'tmp_{paper_id}'\n",
    "\n",
    "    try:\n",
    "        if not os.path.isdir(folder):\n",
    "            folder = retrieve_document_source(f\"{paper_id}\", f'tmp_{paper_id}')\n",
    "        \n",
    "        try:\n",
    "            doc = latex.LatexDocument(folder, validation=validation)    \n",
    "        except AffiliationError as affilerror:\n",
    "            msg = f\"ArXiv:{paper_id:s} is not an MPIA paper... \" + str(affilerror)\n",
    "            failed.append((paper, \"affiliation error: \" + str(affilerror) ))\n",
    "            continue\n",
    "        \n",
    "        # Hack because sometimes author parsing does not work well\n",
    "        if (len(doc.authors) != len(paper['authors'])):\n",
    "            doc._authors = paper['authors']\n",
    "        else:\n",
    "            # highlight authors (FIXME: doc.highlight_authors)\n",
    "            # done on arxiv paper already\n",
    "            doc._authors = highlight_authors_in_list(\n",
    "                [mpia.get_initials(k) for k in doc.authors], \n",
    "                mpia_authors, verbose=True)\n",
    "        if (doc.abstract) in (None, ''):\n",
    "            doc._abstract = paper['abstract']\n",
    "            \n",
    "        doc.comment = (get_markdown_badge(paper_id) + \n",
    "                       \"<mark>Appeared on: \" + paper['date'] + \"</mark> - \")\n",
    "        if paper['comments']:\n",
    "            doc.comment += \" _\" + paper['comments'] + \"_\"\n",
    "        \n",
    "        full_md = doc.generate_markdown_text()\n",
    "        \n",
    "        full_md += get_markdown_qrcode(paper_id)\n",
    "        \n",
    "        # replace citations\n",
    "        try:\n",
    "            bibdata = latex_bib.LatexBib.from_doc(doc)\n",
    "            full_md = latex_bib.replace_citations(full_md, bibdata)\n",
    "        except Exception as e:\n",
    "            print(e)\n",
    "        \n",
    "        documents.append((paper_id, full_md))\n",
    "    except Exception as e:\n",
    "        warnings.warn(latex.LatexWarning(f\"{paper_id:s} did not run properly\\n\" +\n",
    "                                         str(e)\n",
    "                                        ))\n",
    "        failed.append((paper, \"latex error \" + str(e)))"
   ]
  },
  {
   "cell_type": "markdown",
   "id": "2505a25c",
   "metadata": {
    "papermill": {
     "duration": 0.003966,
     "end_time": "2024-07-23T04:09:57.920779",
     "exception": false,
     "start_time": "2024-07-23T04:09:57.916813",
     "status": "completed"
    },
    "tags": []
   },
   "source": [
    "### Export the logs\n",
    "\n",
    "Throughout, we also keep track of the logs per paper. see `logs-{today date}.md` "
   ]
  },
  {
   "cell_type": "code",
   "execution_count": 6,
   "id": "d733828a",
   "metadata": {
    "execution": {
     "iopub.execute_input": "2024-07-23T04:09:57.930241Z",
     "iopub.status.busy": "2024-07-23T04:09:57.929658Z",
     "iopub.status.idle": "2024-07-23T04:09:57.951155Z",
     "shell.execute_reply": "2024-07-23T04:09:57.950583Z"
    },
    "papermill": {
     "duration": 0.027666,
     "end_time": "2024-07-23T04:09:57.952443",
     "exception": false,
     "start_time": "2024-07-23T04:09:57.924777",
     "status": "completed"
    },
    "scrolled": false,
    "tags": []
   },
   "outputs": [
    {
     "data": {
      "text/markdown": [
       "## Successful papers"
      ],
      "text/plain": [
       "<IPython.core.display.Markdown object>"
      ]
     },
     "metadata": {},
     "output_type": "display_data"
    },
    {
     "data": {
      "text/markdown": [
       "\n",
       "|||\n",
       "|---:|:---|\n",
       "| [![arXiv](https://img.shields.io/badge/arXiv-2407.15572-b31b1b.svg)](https://arxiv.org/abs/2407.15572) | **FEASTS Combined with Interferometry (II): Significantly Changed HI Surface Densities and Even More Inefficient Star Formation in Galaxy Outer Disks**  |\n",
       "|| J. Wang, et al. -- incl., <mark>F. Walter</mark> |\n",
       "|*Appeared on*| *2024-07-23*|\n",
       "|*Comments*| *27 pages, the second paper of \"FEASTS Combined with Interferometry\". Data is available on the page this http URL*|\n",
       "|**Abstract**|            We update the HI surface density measurements for a subset of 17 THINGS galaxies by dealing with the short-spacing problem of the original VLA HI images. It is the same sample that Bigiel et al. (2010) used to study the relation between HI surface densities and star formation rate surface densities in galaxy outer disks, which are beyond the optical radius r25. For ten galaxies, the update is based on combining original THINGS VLA HI images with HI images taken by the single-dish FAST in the FEASTS program. The median increment of HI surface densities in outer disks is 0.15 to 0.4 dex at a given new HI surface density. Several galaxies change significantly in the shape of radial profiles HI surface densities, and seven galaxies are now more than 1-$\\sigma$ below the HI size-mass relation. We update the HI star formation laws in outer disks. The median relation between HI surface densities and star formation rate surface densities based on pixelwise measurements shifts downward by around 0.15 dex because the HI surface density values shift rightward, and the scatter increases significantly. The scatter of the relation, indicating the star forming efficiency, exhibits a much stronger positive correlation with the stellar mass surface density than before. Thus, detecting the previously missed, diffuse HI due to short-spacing problem of the VLA observation is important in revealing the true condition and variation of star formation possibly regulated by stellar feedbacks in localized environment of outer disks.         |"
      ],
      "text/plain": [
       "[2407.15572] FEASTS Combined with Interferometry (II): Significantly Changed HI Surface Densities and Even More Inefficient Star Formation in Galaxy Outer Disks\n",
       "\tJ. Wang, et al. -- incl., <mark>F. Walter</mark>"
      ]
     },
     "metadata": {},
     "output_type": "display_data"
    },
    {
     "data": {
      "text/markdown": [
       "\n",
       "|||\n",
       "|---:|:---|\n",
       "| [![arXiv](https://img.shields.io/badge/arXiv-2407.15846-b31b1b.svg)](https://arxiv.org/abs/2407.15846) | **ALESS-JWST: Joint (sub-)kiloparsec JWST and ALMA imaging of $z\\sim3$ submillimeter galaxies reveals heavily obscured bulge formation events**  |\n",
       "|| J. A. Hodge, et al. -- incl., <mark>J. Li</mark>, <mark>F. Walter</mark>, <mark>E. Schinnerer</mark> |\n",
       "|*Appeared on*| *2024-07-23*|\n",
       "|*Comments*| *26 pages, 10 figures. Submitted to ApJ. Comments welcome*|\n",
       "|**Abstract**|            We present JWST NIRCam imaging targeting 13 $z\\sim3$ infrared-luminous ($L_{\\rm IR}\\sim5\\times10^{12}L_{\\odot}$) galaxies from the ALESS survey with uniquely deep, high-resolution (0.08$''$$-$0.16$''$) ALMA 870$\\mu$m imaging. The 2.0$-$4.4$\\mu$m (observed frame) NIRCam imaging reveals the rest-frame near-infrared stellar emission in these submillimeter-selected galaxies (SMGs) at the same (sub-)kpc resolution as the 870$\\mu$m dust continuum. The newly revealed stellar morphologies show striking similarities with the dust continuum morphologies at 870$\\mu$m, with the centers and position angles agreeing for most sources, clearly illustrating that the spatial offsets reported previously between the 870$\\mu$m and HST morphologies were due to strong differential dust obscuration. The F444W sizes are 78$\\pm$21% larger than those measured at 870$\\mu$m, in contrast to recent results from hydrodynamical simulations that predict larger 870$\\mu$m sizes. We report evidence for significant dust obscuration in F444W for the highest-redshift sources, emphasizing the importance of longer-wavelength MIRI imaging. The majority of the sources show evidence that they are undergoing mergers/interactions, including tidal tails/plumes -- some of which are also detected at 870$\\mu$m. We find a clear correlation between NIRCam colors and 870$\\mu$m surface brightness on $\\sim$1 kpc scales, indicating that the galaxies are primarily red due to dust -- not stellar age -- and we show that the dust structure on $\\sim$kpc-scales is broadly similar to that in nearby galaxies. Finally, we find no strong stellar bars in the rest-frame near-infrared, suggesting the extended bar-like features seen at 870$\\mu$m are highly obscured and/or gas-dominated structures that are likely early precursors to significant bulge growth.         |"
      ],
      "text/plain": [
       "[2407.15846] ALESS-JWST: Joint (sub-)kiloparsec JWST and ALMA imaging of $z\\sim3$ submillimeter galaxies reveals heavily obscured bulge formation events\n",
       "\tJ. A. Hodge, et al. -- incl., <mark>J. Li</mark>, <mark>F. Walter</mark>, <mark>E. Schinnerer</mark>"
      ]
     },
     "metadata": {},
     "output_type": "display_data"
    },
    {
     "data": {
      "text/markdown": [
       "## Failed papers"
      ],
      "text/plain": [
       "<IPython.core.display.Markdown object>"
      ]
     },
     "metadata": {},
     "output_type": "display_data"
    },
    {
     "data": {
      "text/markdown": [
       "\n",
       "|||\n",
       "|---:|:---|\n",
       "| [![arXiv](https://img.shields.io/badge/arXiv-2407.14677-b31b1b.svg)](https://arxiv.org/abs/2407.14677) | **Simulation results for Robo-AO-2 using HAPA: a wavefront sensing technique for improving the adaptive optics correction of fainter stars**  |\n",
       "|| <mark>R. Zhang</mark>, et al. |\n",
       "|*Appeared on*| *2024-07-23*|\n",
       "|*Comments*| *11 pages, 4 figures, 8 tables, SPIE Astronomical Telescopes + Instrumentation 2024*|\n",
       "|**Abstract**|            Direct imaging of exoplanets allows us to measure positions and chemical signatures of exoplanets. Given the limited resources for space observations where the atmosphere is absent, we want to make these measurements from the ground. However, it is difficult from the ground because it requires an adaptive optics system to provide an extremely well corrected wavefront to enable coronographic techniques. Currently only natural guide star AO systems have demonstrated the necessary wavefront correction for direct imaging of exoplanets. However, using a stellar source as the guide star for wavefront sensing limits the number of exoplanet systems we can directly image because it requires a relatively bright V~10 mag star. To increase the number of observable targets, we need to push the limit of natural guide stars to fainter magnitudes with high Strehl ratio correction. We propose to combine laser guide star (LGS) and natural guide star (NGS) wavefront sensing to achieve the high Strehl correction with fainter natural guide stars. We call this approach Hybrid Atmospheric Phase Analysis (HAPA); 'hapa' in Hawaiian means 'half' or 'of mixed ethnic heritage'. The relatively bright LGS is used for higher order correction, whereas the NGS is used for high accuracy lower order correction. We focus on demonstrating this approach using Robo-AO-2 at the UH 2.2m telescope on Maunakea with a UV Rayleigh laser at 355 nm. The laser focuses at 10 km altitude and has an equivalent magnitude of m_U~8. In this report specifically, we present simulated results of HAPA employed at Robo-AO-2, with the LGS system having a single configuration of 16x16 subaperture Shack-Hartmann wavefront sensor and the NGS system having 6 different configurations -- 16x16, 8x8, 5x5, 4x4, 2x2 and 1x1. We also discuss the on-sky experiments we plan to carry out with HAPA at the UH 2.2m telescope.         |\n",
       "|<p style=\"color:green\"> **ERROR** </p>| <p style=\"color:green\">affiliation error: mpia.affiliation_verifications: 'Heidelberg' keyword not found.</p> |"
      ],
      "text/plain": [
       "<IPython.core.display.Markdown object>"
      ]
     },
     "metadata": {},
     "output_type": "display_data"
    },
    {
     "data": {
      "text/markdown": [
       "\n",
       "|||\n",
       "|---:|:---|\n",
       "| [![arXiv](https://img.shields.io/badge/arXiv-2407.14856-b31b1b.svg)](https://arxiv.org/abs/2407.14856) | **A physical model for radio and X-ray correlation in black hole X-ray binaries**  |\n",
       "|| Y. Jiang, et al. -- incl., <mark>S. Li</mark> |\n",
       "|*Appeared on*| *2024-07-23*|\n",
       "|*Comments*| *11 pages, 6 figures, Monthly Notices of the Royal Astronomical Society*|\n",
       "|**Abstract**|            A tight correlation between the radio and X-ray emission in the hard state of black hole X-ray binaries (BHXRBs) indicates an intrinsic disc-jet connection in stellar black hole accretion systems, though the detailed physics processes at work are still quite unclear. A hot accretion flow is suggested to match the outer cold thin disc at a certain radius in the hard state, which may vary with the accretion rate. In this work, we assume that the magnetic field generated in the outer thin disc is advected inwards by the inner hot accretion flow, which is substantially enhanced near the BH. Such a strong field threading the horizon of a spinning BH is responsible for launching relativistic jets in BHXRBs via the Blandford-Znajek mechanism. Thus, both the jet power and the X-ray emission increase with the mass accretion rate, and we find that our model calculations are able to reproduce the observed radio/X-ray correlation quantitatively. For some individual BHXRBs, the slopes of the radio/X-ray correlations become steeper when the sources are brighter. Our model calculations show that this feature is due to the transition of the outer disc with gas pressure dominated to radiation pressure dominated, which leads to different accretion rate dependence of the field strength in the outer disc.         |\n",
       "|<p style=\"color:green\"> **ERROR** </p>| <p style=\"color:green\">affiliation error: mpia.affiliation_verifications: 'Heidelberg' keyword not found.</p> |"
      ],
      "text/plain": [
       "<IPython.core.display.Markdown object>"
      ]
     },
     "metadata": {},
     "output_type": "display_data"
    },
    {
     "data": {
      "text/markdown": [
       "\n",
       "|||\n",
       "|---:|:---|\n",
       "| [![arXiv](https://img.shields.io/badge/arXiv-2407.14934-b31b1b.svg)](https://arxiv.org/abs/2407.14934) | **Constraints on interacting dark energy models from the DESI BAO and DES supernovae data**  |\n",
       "|| T.-N. Li, et al. -- incl., <mark>X. Zhang</mark> |\n",
       "|*Appeared on*| *2024-07-23*|\n",
       "|*Comments*| *9 pages, 4 figures*|\n",
       "|**Abstract**|            The recent results from the first year baryon acoustic oscillations (BAO) data released by the Dark Energy Spectroscopic Instrument (DESI), combined with cosmic microwave background (CMB) and type Ia supernova (SN) data, have shown a detection of significant deviation from a cosmological constant for dark energy. In this work, we utilize the latest DESI BAO data in combination with the SN data from the full five-year observations of the Dark Energy Survey and the CMB data from the Planck satellite to explore potential interactions between dark energy and dark matter. We consider four typical forms of the interaction term $Q$. Our findings suggest that interacting dark energy (IDE) models with $Q \\propto \\rho_{\\rm de}$ support the presence of an interaction where dark energy decays into dark matter. Specifically, the deviation from $\\Lambda$CDM for the IDE model with $Q=\\beta H_0\\rho_{\\rm de}$ reaches the $3\\sigma$ level. These models yield a lower value of Akaike information criterion than the $\\Lambda$CDM model, indicating a preference for these IDE models based on the current observational data. For IDE models with $Q\\propto\\rho_{\\rm c}$, the existence of interaction depends on the form of the proportionality coefficient $\\Gamma$. The IDE model with $Q=\\beta H\\rho_{\\rm c}$ yields $\\beta=0.0003\\pm 0.0011$, which essentially does not support the presence of the interaction. In general, whether the observational data support the existence of interaction is closely related to the model. Our analysis helps to elucidate which type of IDE model can better explain the current observational data.         |\n",
       "|<p style=\"color:green\"> **ERROR** </p>| <p style=\"color:green\">affiliation error: mpia.affiliation_verifications: 'Heidelberg' keyword not found.</p> |"
      ],
      "text/plain": [
       "<IPython.core.display.Markdown object>"
      ]
     },
     "metadata": {},
     "output_type": "display_data"
    },
    {
     "data": {
      "text/markdown": [
       "\n",
       "|||\n",
       "|---:|:---|\n",
       "| [![arXiv](https://img.shields.io/badge/arXiv-2407.15093-b31b1b.svg)](https://arxiv.org/abs/2407.15093) | **Ultraviolet Extinction Sky Survey (UVESS): A mission concept for probing the interstellar medium in the Milky Way and Local Group galaxies**  |\n",
       "|| <mark>J. Mathew</mark>, et al. |\n",
       "|*Appeared on*| *2024-07-23*|\n",
       "|*Comments*| **|\n",
       "|**Abstract**|            The 2175 Å bump shows considerable variations in its strength, width, and central wavelength when observed along different sightlines in the Milky Way and other galaxies. These variations offer valuable insights into the composition, size distribution, and processing of interstellar dust grains along different sightlines. This paper introduces a mission concept called UVESS (Ultraviolet Extinction Sky Survey) aimed at exploring the composition of the interstellar medium (ISM) within both the Milky Way and nearby Local Group Galaxies by mapping the variation of UV extinction curve slopes and the 2175 Å feature across a majority of the sky to gain insights into the makeup of the ISM. Recent advancements in UV instrumentation and technologies pave the way for the development of high-throughput instruments in compact form factors. In this paper, we outline mission science goals and instrument concept tailored for a small satellite-based platform dedicated to the study of UV extinction.         |\n",
       "|<p style=\"color:green\"> **ERROR** </p>| <p style=\"color:green\">affiliation error: mpia.affiliation_verifications: 'Heidelberg' keyword not found.</p> |"
      ],
      "text/plain": [
       "<IPython.core.display.Markdown object>"
      ]
     },
     "metadata": {},
     "output_type": "display_data"
    },
    {
     "data": {
      "text/markdown": [
       "\n",
       "|||\n",
       "|---:|:---|\n",
       "| [![arXiv](https://img.shields.io/badge/arXiv-2407.15640-b31b1b.svg)](https://arxiv.org/abs/2407.15640) | **Impacts of dark energy on weighing neutrinos after DESI BAO**  |\n",
       "|| G.-H. Du, P.-J. Wu, T.-N. Li, <mark>X. Zhang</mark> |\n",
       "|*Appeared on*| *2024-07-23*|\n",
       "|*Comments*| *10 pages, 4 figures*|\n",
       "|**Abstract**|            Recently, DESI has released baryon acoustic oscillation (BAO) data, and DES has also published its five-year supernova (SN) data. These observations, combined with cosmic microwave background (CMB) data, support a dynamically evolving dark energy at a high confidence level. When using cosmological observations to weigh neutrinos, the results of weighing neutrinos will be significantly affected by the measurement of dark energy due to the degeneracy between neutrino mass and the dark-energy equation of state. Therefore, we need to understand how the dynamical evolution of dark energy in the current situation will affect the measurement of neutrino mass. In this work, we utilize these latest observations and other additional distance measurements to discuss the mutual influence between neutrinos and dark energy, then calculate the Bayes factor to compare models. We consider three neutrino mass hierarchies including degenerate hierarchy (DH), normal hierarchy (NH), and inverted hierarchy (IH), as well as three dark energy models including $\\Lambda \\rm CDM$, $w\\rm CDM$, and $w_0w_a \\rm CDM$ models. Cosmological data combined with the prior of particle physics experiments can provide strong to decisive evidence favoring the $w_0w_a {\\rm CDM}+\\sum m_\\nu$ model with NH. In the $w_0w_a \\rm CDM$ model, using the CMB+DESI+DESY5 data, we obtain constraints on the total neutrino mass, $\\sum m_\\nu<0.171\\ \\rm eV,\\ 0.204\\ \\rm eV,\\ 0.220\\ \\rm eV$, for DH, NH, and IH, respectively. Furthermore, taking into account the neutrino hierarchy or incorporating additional distance measurements results in a more pronounced deviation from the $\\Lambda$CDM model for dark energy. The latter, particularly, exhibits a deviation at a confidence level that surpasses $4\\sigma$.         |\n",
       "|<p style=\"color:green\"> **ERROR** </p>| <p style=\"color:green\">affiliation error: mpia.affiliation_verifications: 'Heidelberg' keyword not found.</p> |"
      ],
      "text/plain": [
       "<IPython.core.display.Markdown object>"
      ]
     },
     "metadata": {},
     "output_type": "display_data"
    },
    {
     "data": {
      "text/markdown": [
       "\n",
       "|||\n",
       "|---:|:---|\n",
       "| [![arXiv](https://img.shields.io/badge/arXiv-2407.15768-b31b1b.svg)](https://arxiv.org/abs/2407.15768) | **Early-Time Observations of SN 2023wrk: A Luminous Type Ia Supernova with Significant Unburned Carbon in the Outer Ejecta**  |\n",
       "|| <mark>J. Liu</mark>, et al. -- incl., <mark>J. Liu</mark> |\n",
       "|*Appeared on*| *2024-07-23*|\n",
       "|*Comments*| *Accepted for publication in the Astrophysical Journal (27 pages, 14 figures, 7 tables)*|\n",
       "|**Abstract**|            We present extensive photometric and spectroscopic observations of the nearby Type Ia supernova (SN) 2023wrk at a distance of about 40 Mpc. The earliest detection of this SN can be traced back to a few hours after the explosion. Within the first few days the light curve shows a bump feature, while the B - V color is blue and remains nearly constant. The overall spectral evolution is similar to that of an SN 1991T/SN 1999aa-like SN Ia, while the C II $\\lambda6580$ absorption line appears to be unusually strong in the first spectrum taken at $t \\approx -$15.4 days after the maximum light. This carbon feature disappears quickly in subsequent evolution but it reappears at around the time of peak brightness. The complex evolution of the carbon line and the possible detection of Ni III absorption around 4700 Å and 5300 Å in the earliest spectra indicate macroscopic mixing of fuel and ash. The strong carbon lines is likely related to collision of SN ejecta with unbound carbon, consistent with the predictions of pulsational delayed-detonation or carbon-rich circumstellar-matter interaction models. Among those carbon-rich SNe Ia with strong C II $\\lambda6580$ absorption at very early times, the line-strength ratio of C II to Si II and the B-V color evolution are found to exhibit large diversity, which may be attributed to different properties of unbound carbon and outward-mixing $^{56}$Ni.         |\n",
       "|<p style=\"color:green\"> **ERROR** </p>| <p style=\"color:green\">affiliation error: mpia.affiliation_verifications: 'Heidelberg' keyword not found.</p> |"
      ],
      "text/plain": [
       "<IPython.core.display.Markdown object>"
      ]
     },
     "metadata": {},
     "output_type": "display_data"
    },
    {
     "data": {
      "text/markdown": [
       "\n",
       "|||\n",
       "|---:|:---|\n",
       "| [![arXiv](https://img.shields.io/badge/arXiv-2407.14606-b31b1b.svg)](https://arxiv.org/abs/2407.14606) | **Performance of the Nonlinear Curvature Wavefront Sensor as a Function of Scintillation Strength**  |\n",
       "|| <mark>S. Letchev</mark>, et al. |\n",
       "|*Appeared on*| *2024-07-23*|\n",
       "|*Comments*| *6 pages, 3 figures, SPIE Astronomical Telescopes + Instrumentation 2024*|\n",
       "|**Abstract**|            Local amplitude aberrations caused by scintillation can impact the reconstruction process of a wavefront sensor (WFS) by inducing a spatially non-uniform intensity at the pupil plane. This effect is especially relevant for the commonly-used Shack-Hartmann WFS (SHWFS), which can lose slope information for portions of the beam where the signal is faint, leading to reduced reconstruction performance and eventually total failure as the level of scintillation increases. An alternative WFS is needed for such conditions. The nonlinear curvature wavefront sensor (nlCWFS) has been shown to achieve better sensitivity compared to the SHWFS under low light levels. Additionally, the nlCWFS has demonstrated the ability to maintain its sensitivity in the presence of scintillation, using amplitude aberrations to help inform the reconstruction process, rather than hinder. Experiments to date have thus far only shown reconstruction results for a single scintillation value. Building upon previous simulations and laboratory experiments, we have built a testbed to quantify the effects of varying scintillation strength on the wavefront reconstruction performance of the nlCWFS compared to an equivalent SHWFS. In this paper, we present results showing the difference in performance between the nlCWFS and SHWFS as a function of relative flux and scintillation strength.         |\n",
       "|<p style=\"color:red\"> **ERROR** </p>| <p style=\"color:red\">latex error 'PosixPath' object is not subscriptable</p> |"
      ],
      "text/plain": [
       "<IPython.core.display.Markdown object>"
      ]
     },
     "metadata": {},
     "output_type": "display_data"
    },
    {
     "data": {
      "text/markdown": [
       "\n",
       "|||\n",
       "|---:|:---|\n",
       "| [![arXiv](https://img.shields.io/badge/arXiv-2407.14594-b31b1b.svg)](https://arxiv.org/abs/2407.14594) | **Unveiling the Milky Way dust extinction curve in 3D**  |\n",
       "|| <mark>X. Zhang</mark>, <mark>G. Green</mark> |\n",
       "|*Appeared on*| *2024-07-23*|\n",
       "|*Comments*| *Under review, submitted on 1 March*|\n",
       "|**Abstract**|            Interstellar dust is a major foreground contaminant for many observations and a key component in the chemistry of the interstellar medium, yet its properties remain highly uncertain. Using low-resolution spectra, we accurately measure the extinction curve - a diagnostic of the grain properties - for 130 million stars, orders of magnitude more than previously available, allowing us to map its variation in the Milky Way and Magellanic Clouds in 3D in unprecedented detail. We find evidence that accretion is the dominant mechanism of grain growth in moderately dense regions, with coagulation dominating at higher densities. Moreover, we find that the extinction curve flattens in star-forming regions, possibly caused by cycling of large grains formed in molecular clouds, or by preferential destruction of small grains by supernova shocks.         |\n",
       "|<p style=\"color:red\"> **ERROR** </p>| <p style=\"color:red\">latex error not a gzip file</p> |"
      ],
      "text/plain": [
       "<IPython.core.display.Markdown object>"
      ]
     },
     "metadata": {},
     "output_type": "display_data"
    }
   ],
   "source": [
    "import datetime\n",
    "today = str(datetime.date.today())\n",
    "logfile = f\"_build/html/logs/log-{today}.md\"\n",
    "\n",
    "\n",
    "with open(logfile, 'w') as logs:\n",
    "    # Success\n",
    "    logs.write(f'# Arxiv on Deck 2: Logs - {today}\\n\\n')\n",
    "    logs.write(\"\"\"* Arxiv had {0:,d} new papers\\n\"\"\".format(len(new_papers)))\n",
    "    logs.write(\"\"\"    * {0:,d} with possible author matches\\n\\n\"\"\".format(len(candidates)))\n",
    "    logs.write(\"## Sucessful papers\\n\\n\")\n",
    "    display(Markdown(\"## Successful papers\"))\n",
    "    success = [k[0] for k in documents]\n",
    "    for candid in candidates:\n",
    "        if candid['identifier'].split(':')[-1] in success:\n",
    "            display(candid)\n",
    "            logs.write(candid.generate_markdown_text() + '\\n\\n')\n",
    "\n",
    "    ## failed\n",
    "    logs.write(\"## Failed papers\\n\\n\")\n",
    "    display(Markdown(\"## Failed papers\"))\n",
    "    failed = sorted(failed, key=lambda x: x[1])\n",
    "    current_reason = \"\"\n",
    "    for paper, reason in failed:\n",
    "        if 'affiliation' in reason:\n",
    "            color = 'green'\n",
    "        else:\n",
    "            color = 'red'\n",
    "        data = Markdown(\n",
    "                paper.generate_markdown_text() + \n",
    "                f'\\n|<p style=\"color:{color:s}\"> **ERROR** </p>| <p style=\"color:{color:s}\">{reason:s}</p> |'\n",
    "               )\n",
    "        if reason != current_reason:\n",
    "            logs.write(f'### {reason:s} \\n\\n')\n",
    "            current_reason = reason\n",
    "        logs.write(data.data + '\\n\\n')\n",
    "        \n",
    "        # only display here the important errors (all in logs)\n",
    "        # if color in ('red',):\n",
    "        display(data)"
   ]
  },
  {
   "cell_type": "markdown",
   "id": "472d20ee",
   "metadata": {
    "papermill": {
     "duration": 0.005174,
     "end_time": "2024-07-23T04:09:57.962913",
     "exception": false,
     "start_time": "2024-07-23T04:09:57.957739",
     "status": "completed"
    },
    "tags": []
   },
   "source": [
    "## Export documents\n",
    "\n",
    "We now write the .md files and export relevant images"
   ]
  },
  {
   "cell_type": "code",
   "execution_count": 7,
   "id": "d426aed9",
   "metadata": {
    "execution": {
     "iopub.execute_input": "2024-07-23T04:09:57.974387Z",
     "iopub.status.busy": "2024-07-23T04:09:57.974026Z",
     "iopub.status.idle": "2024-07-23T04:09:57.980833Z",
     "shell.execute_reply": "2024-07-23T04:09:57.980195Z"
    },
    "papermill": {
     "duration": 0.014073,
     "end_time": "2024-07-23T04:09:57.982149",
     "exception": false,
     "start_time": "2024-07-23T04:09:57.968076",
     "status": "completed"
    },
    "tags": []
   },
   "outputs": [],
   "source": [
    "def export_markdown_summary(md: str, md_fname:str, directory: str):\n",
    "    \"\"\"Export MD document and associated relevant images\"\"\"\n",
    "    import os\n",
    "    import shutil\n",
    "    import re\n",
    "\n",
    "    if (os.path.exists(directory) and not os.path.isdir(directory)):\n",
    "        raise RuntimeError(f\"a non-directory file exists with name {directory:s}\")\n",
    "\n",
    "    if (not os.path.exists(directory)):\n",
    "        print(f\"creating directory {directory:s}\")\n",
    "        os.mkdir(directory)\n",
    "\n",
    "    fig_fnames = (re.compile(r'\\[Fig.*\\]\\((.*)\\)').findall(md) + \n",
    "                  re.compile(r'\\<img src=\"([^>\\s]*)\"[^>]*/>').findall(md))\n",
    "    print(\"found figures\", fig_fnames)\n",
    "    for fname in fig_fnames:\n",
    "        if 'http' in fname:\n",
    "            # No need to copy online figures\n",
    "            continue\n",
    "        if not os.path.exists(fname):\n",
    "            print(\"file not found\", fname)\n",
    "            continue\n",
    "        print(\"copying \", fname, \"to\", directory)\n",
    "        destdir = os.path.join(directory, os.path.dirname(fname))\n",
    "        destfname = os.path.join(destdir, os.path.basename(fname))\n",
    "        try:\n",
    "            os.makedirs(destdir)\n",
    "        except FileExistsError:\n",
    "            pass\n",
    "        shutil.copy(fname, destfname)\n",
    "    with open(os.path.join(directory, md_fname), 'w') as fout:\n",
    "        fout.write(md)\n",
    "    print(\"exported in \", os.path.join(directory, md_fname))\n",
    "    [print(\"    + \" + os.path.join(directory,fk)) for fk in fig_fnames]"
   ]
  },
  {
   "cell_type": "code",
   "execution_count": 8,
   "id": "014d04a4",
   "metadata": {
    "execution": {
     "iopub.execute_input": "2024-07-23T04:09:57.993583Z",
     "iopub.status.busy": "2024-07-23T04:09:57.993217Z",
     "iopub.status.idle": "2024-07-23T04:09:58.005928Z",
     "shell.execute_reply": "2024-07-23T04:09:58.005285Z"
    },
    "papermill": {
     "duration": 0.019891,
     "end_time": "2024-07-23T04:09:58.007242",
     "exception": false,
     "start_time": "2024-07-23T04:09:57.987351",
     "status": "completed"
    },
    "tags": []
   },
   "outputs": [
    {
     "name": "stdout",
     "output_type": "stream",
     "text": [
      "found figures ['tmp_2407.15572/./pdisk2d2_dif_NHI_ref.png', 'tmp_2407.15572/./628_NHI_prof.png', 'tmp_2407.15572/./925_NHI_prof.png', 'tmp_2407.15572/./2841_NHI_prof.png', 'tmp_2407.15572/./3198_NHI_prof.png', 'tmp_2407.15572/./2903_NHI_prof.png', 'tmp_2407.15572/./3521_NHI_prof.png', 'tmp_2407.15572/./5055_NHI_prof.png', 'tmp_2407.15572/./5194_NHI_prof.png']\n",
      "copying  tmp_2407.15572/./pdisk2d2_dif_NHI_ref.png to _build/html/\n",
      "copying  tmp_2407.15572/./628_NHI_prof.png to _build/html/\n",
      "copying  tmp_2407.15572/./925_NHI_prof.png to _build/html/\n",
      "copying  tmp_2407.15572/./2841_NHI_prof.png to _build/html/\n",
      "copying  tmp_2407.15572/./3198_NHI_prof.png to _build/html/\n",
      "copying  tmp_2407.15572/./2903_NHI_prof.png to _build/html/\n",
      "copying  tmp_2407.15572/./3521_NHI_prof.png to _build/html/\n",
      "copying  tmp_2407.15572/./5055_NHI_prof.png to _build/html/\n",
      "copying  tmp_2407.15572/./5194_NHI_prof.png to _build/html/\n",
      "exported in  _build/html/2407.15572.md\n",
      "    + _build/html/tmp_2407.15572/./pdisk2d2_dif_NHI_ref.png\n",
      "    + _build/html/tmp_2407.15572/./628_NHI_prof.png\n",
      "    + _build/html/tmp_2407.15572/./925_NHI_prof.png\n",
      "    + _build/html/tmp_2407.15572/./2841_NHI_prof.png\n",
      "    + _build/html/tmp_2407.15572/./3198_NHI_prof.png\n",
      "    + _build/html/tmp_2407.15572/./2903_NHI_prof.png\n",
      "    + _build/html/tmp_2407.15572/./3521_NHI_prof.png\n",
      "    + _build/html/tmp_2407.15572/./5055_NHI_prof.png\n",
      "    + _build/html/tmp_2407.15572/./5194_NHI_prof.png\n",
      "found figures ['tmp_2407.15846/./CC-diagram.png', 'tmp_2407.15846/./ALESS_JWSTgalfit_all_page1.png', 'tmp_2407.15846/./ALESS_JWSTgalfit_all_page2.png', 'tmp_2407.15846/./ALESS_JWST_allNRC_all_page1.png', 'tmp_2407.15846/./ALESS_JWST_allNRC_all_page2.png']\n",
      "copying  tmp_2407.15846/./CC-diagram.png to _build/html/\n",
      "copying  tmp_2407.15846/./ALESS_JWSTgalfit_all_page1.png to _build/html/\n",
      "copying  tmp_2407.15846/./ALESS_JWSTgalfit_all_page2.png to _build/html/\n",
      "copying  tmp_2407.15846/./ALESS_JWST_allNRC_all_page1.png to _build/html/\n",
      "copying  tmp_2407.15846/./ALESS_JWST_allNRC_all_page2.png to _build/html/\n",
      "exported in  _build/html/2407.15846.md\n",
      "    + _build/html/tmp_2407.15846/./CC-diagram.png\n",
      "    + _build/html/tmp_2407.15846/./ALESS_JWSTgalfit_all_page1.png\n",
      "    + _build/html/tmp_2407.15846/./ALESS_JWSTgalfit_all_page2.png\n",
      "    + _build/html/tmp_2407.15846/./ALESS_JWST_allNRC_all_page1.png\n",
      "    + _build/html/tmp_2407.15846/./ALESS_JWST_allNRC_all_page2.png\n"
     ]
    }
   ],
   "source": [
    "for paper_id, md in documents:\n",
    "    export_markdown_summary(md, f\"{paper_id:s}.md\", '_build/html/')"
   ]
  },
  {
   "cell_type": "markdown",
   "id": "f087a0a7",
   "metadata": {
    "papermill": {
     "duration": 0.005307,
     "end_time": "2024-07-23T04:09:58.018014",
     "exception": false,
     "start_time": "2024-07-23T04:09:58.012707",
     "status": "completed"
    },
    "tags": []
   },
   "source": [
    "## Display the papers\n",
    "\n",
    "Not necessary but allows for a quick check."
   ]
  },
  {
   "cell_type": "code",
   "execution_count": 9,
   "id": "fd25f625",
   "metadata": {
    "execution": {
     "iopub.execute_input": "2024-07-23T04:09:58.029864Z",
     "iopub.status.busy": "2024-07-23T04:09:58.029436Z",
     "iopub.status.idle": "2024-07-23T04:09:58.035208Z",
     "shell.execute_reply": "2024-07-23T04:09:58.034569Z"
    },
    "papermill": {
     "duration": 0.013125,
     "end_time": "2024-07-23T04:09:58.036585",
     "exception": false,
     "start_time": "2024-07-23T04:09:58.023460",
     "status": "completed"
    },
    "scrolled": false,
    "tags": []
   },
   "outputs": [
    {
     "data": {
      "text/markdown": [
       "<div class=\"macros\" style=\"visibility:hidden;\">\n",
       "$\\newcommand{\\ensuremath}{}$\n",
       "$\\newcommand{\\xspace}{}$\n",
       "$\\newcommand{\\object}[1]{\\texttt{#1}}$\n",
       "$\\newcommand{\\farcs}{{.}''}$\n",
       "$\\newcommand{\\farcm}{{.}'}$\n",
       "$\\newcommand{\\arcsec}{''}$\n",
       "$\\newcommand{\\arcmin}{'}$\n",
       "$\\newcommand{\\ion}[2]{#1#2}$\n",
       "$\\newcommand{\\textsc}[1]{\\textrm{#1}}$\n",
       "$\\newcommand{\\hl}[1]{\\textrm{#1}}$\n",
       "$\\newcommand{\\footnote}[1]{}$\n",
       "$\\newcommand{\\hi}{{\\rm H}{\\textsc i}}$\n",
       "$\\newcommand{\\angstrom}{\\text{\\normalfontÅ}}$\n",
       "$\\newcommand{◦ee}{\\ensuremath{\\text{\\textdegree}}}$\n",
       "$\\newcommand{\\jyb}{\\rm{Jy~beam^{-1} }}$\n",
       "$\\newcommand{\\jykms}{\\rm{Jy~km~s^{-1} }}$\n",
       "$\\newcommand{\\jybkms}{\\rm{Jy~beam^{-1}~km~s^{-1} }}$\n",
       "$\\newcommand{\\mjybi}{\\rm{mJy~beam_{i}^{-1} }}$\n",
       "$\\newcommand{\\mjyb}{\\rm{mJy~beam^{-1} }}$\n",
       "$\\newcommand{\\mjybs}{\\rm{mJy~beam_{s}^{-1} }}$\n",
       "$\\newcommand{\\jybs}{\\rm{Jy~beam_{s}^{-1} }}$\n",
       "$\\newcommand{\\mjybkms}{\\rm{mJy~beam^{-1}~km~s^{-1} }}$\n",
       "$\\newcommand{\\kms}{\\rm{km~s^{-1} }}$\n",
       "$\\newcommand{\\cmsq}{\\rm{ cm^{-2} } }$\n",
       "$\\newcommand{\\NHI}{N_{\\rm HI}}$\n",
       "$\\newcommand{\\Msun}{\\rm{M_{\\odot}}}$\n",
       "$\\newcommand{\\Msunyr}{\\rm{M_{\\odot}} ~{\\rm yr}^{-1} }$\n",
       "$\\newcommand{\\Msunyrkpcsq}{\\rm{M_{\\odot}} ~{\\rm yr}^{-1}~{\\rm kpc}^{-2} }$\n",
       "$\\newcommand{\\Msunpcsq}{\\rm{M_{\\odot}} ~{\\rm pc}^{-2}}$\n",
       "$\\newcommand{\\SHI}{\\Sigma_{\\rm HI}}$\n",
       "$\\newcommand{\\Ssfr}{\\Sigma_{\\rm SFR}}$\n",
       "$\\newcommand{\\Sst}{\\Sigma_*}$</div>\n",
       "\n",
       "\n",
       "\n",
       "<div id=\"title\">\n",
       "\n",
       "#  FEASTS Combined with Interferometry (II):Significantly Changed HI Surface Densities and Even More Inefficient Star Formation in Galaxy Outer Disks\n",
       "\n",
       "</div>\n",
       "<div id=\"comments\">\n",
       "\n",
       "[![arXiv](https://img.shields.io/badge/arXiv-2407.15572-b31b1b.svg)](https://arxiv.org/abs/2407.15572)<mark>Appeared on: 2024-07-23</mark> -  _27 pages, the second paper of \"FEASTS Combined with Interferometry\". Data is available on the page this http URL_\n",
       "\n",
       "</div>\n",
       "<div id=\"authors\">\n",
       "\n",
       "J. W. (王菁), et al. -- incl., <mark>F. Walter</mark>\n",
       "\n",
       "</div>\n",
       "<div id=\"abstract\">\n",
       "\n",
       "**Abstract:** We update the $\\hi$ surface density measurements for a subset of 17 THINGS galaxies by dealing with the short-spacing problem of the original VLA $\\hi$ images.It is the same sample that [Bigiel, Leroy and Walter (2010)]() used to study the relation between $\\hi$ surface densities and star formation rate surface densities in galaxy outer disks, which are beyond the optical radius $r_{25}$ .For ten galaxies, the update is based on combining original THINGS VLA $\\hi$ images with $\\hi$ images taken by the single-dish FAST in the FEASTS program.The median increment of $\\hi$ surface densities in outer disks is 0.15 to 0.4 dex at a given new $\\hi$ surface density.Several galaxies change significantly in the shape of radial profiles $\\hi$ surface densities, and seven galaxies are now more than 1- $\\sigma$ below the $\\hi$ size-mass relation.We update the $\\hi$ star formation laws in outer disks.The median relation between $\\hi$ surface densities and star formation rate surface densities based on pixelwise measurements shifts downward by around 0.15 dex because the $\\hi$ surface density values shift rightward, and the scatter increases significantly.The scatter of the relation, indicating the star forming efficiency, exhibits a much stronger positive correlation with the stellar mass surface density than before.Thus, detecting the previously missed, diffuse $\\hi$ due to short-spacing problem of the VLA observation is important in revealing the true condition and variation of star formation possibly regulated by stellar feedbacks in localized environment of outer disks.\n",
       "\n",
       "</div>\n",
       "\n",
       "<div id=\"div_fig1\">\n",
       "\n",
       "<img src=\"tmp_2407.15572/./pdisk2d2_dif_NHI_ref.png\" alt=\"Fig3\" width=\"100%\"/>\n",
       "\n",
       "**Figure 3. -** \n",
       "The recovering capabilities of pixelwise $\\SHI$ of different types of $\\hi$ images for the $\\kappa=2.2$\\& SNR$=2.8$ mock dataset.\n",
       "The simulated disk based on which the mock images are taken has a power spectral index $\\kappa=2.2$, and the VLA data has a median SNR$=2.8$.\n",
       "Different colors show different types of mock $\\hi$ images from which the measurements are made.\n",
       "For each mock $\\hi$ image type, the logarithm difference of $\\SHI$ measured from mock images from the true values are plotted as a function of the true $\\SHI$.\n",
       "The solid, thick curves show the median distribution of $\\SHI$ difference as a function of true $\\SHI$, and the dotted curves the scatters.\n",
       "The scatters are measured as the 25 and 75 percentiles.\n",
       "  (*fig:pixNHI_mock_ref*)\n",
       "\n",
       "</div>\n",
       "<div id=\"div_fig2\">\n",
       "\n",
       "<img src=\"tmp_2407.15572/./628_NHI_prof.png\" alt=\"Fig5.1\" width=\"25%\"/><img src=\"tmp_2407.15572/./925_NHI_prof.png\" alt=\"Fig5.2\" width=\"25%\"/><img src=\"tmp_2407.15572/./2841_NHI_prof.png\" alt=\"Fig5.3\" width=\"25%\"/><img src=\"tmp_2407.15572/./3198_NHI_prof.png\" alt=\"Fig5.4\" width=\"25%\"/>\n",
       "\n",
       "**Figure 5. -**  Comparing radial profiles of $\\SHI$ measured from different images for galaxies in the FEASTS subset.\n",
       "Each row is for a galaxy, with the left panel showing the radial profiles and the right panel the profile difference with respect to the $I_\\text{W08}$ measurements.\n",
       "For each galaxy, the comparison involves two sets of THINGS-only measurements, $I_\\text{W08}$(olive) and $I_\\text{W24}$(green), based on the W08 and W24 residual-rescaled data cubes respectively.\n",
       "It also involves two sets of combined images, $C_\\text{W08}$(cyan) and $C_\\text{W24}$(blue), using the W08 residual-rescaled image and the W24 convolved model to combined with the FEASTS image respectively.\n",
       "It also includes profiles directly measured from the FEASTS images (red).\n",
       "The pink and brown dotted vertical lines mark the positions of $R_{\\rm HI}$(derived from $C_\\text{W24}$ profile) and $r_{25}$ respectively.\n",
       "To be continued.\n",
       " (*fig:prof1*)\n",
       "\n",
       "</div>\n",
       "<div id=\"div_fig3\">\n",
       "\n",
       "<img src=\"tmp_2407.15572/./2903_NHI_prof.png\" alt=\"Fig6.1\" width=\"25%\"/><img src=\"tmp_2407.15572/./3521_NHI_prof.png\" alt=\"Fig6.2\" width=\"25%\"/><img src=\"tmp_2407.15572/./5055_NHI_prof.png\" alt=\"Fig6.3\" width=\"25%\"/><img src=\"tmp_2407.15572/./5194_NHI_prof.png\" alt=\"Fig6.4\" width=\"25%\"/>\n",
       "\n",
       "**Figure 6. -** Comparing radial profiles of $\\SHI$ measured from different images for galaxies in the FEASTS subset.\n",
       "Continued.   (*fig:prof1*)\n",
       "\n",
       "</div><div id=\"qrcode\"><img src=https://api.qrserver.com/v1/create-qr-code/?size=100x100&data=\"https://arxiv.org/abs/2407.15572\"></div>"
      ],
      "text/plain": [
       "<IPython.core.display.Markdown object>"
      ]
     },
     "metadata": {},
     "output_type": "display_data"
    },
    {
     "data": {
      "text/markdown": [
       "<div class=\"macros\" style=\"visibility:hidden;\">\n",
       "$\\newcommand{\\ensuremath}{}$\n",
       "$\\newcommand{\\xspace}{}$\n",
       "$\\newcommand{\\object}[1]{\\texttt{#1}}$\n",
       "$\\newcommand{\\farcs}{{.}''}$\n",
       "$\\newcommand{\\farcm}{{.}'}$\n",
       "$\\newcommand{\\arcsec}{''}$\n",
       "$\\newcommand{\\arcmin}{'}$\n",
       "$\\newcommand{\\ion}[2]{#1#2}$\n",
       "$\\newcommand{\\textsc}[1]{\\textrm{#1}}$\n",
       "$\\newcommand{\\hl}[1]{\\textrm{#1}}$\n",
       "$\\newcommand{\\footnote}[1]{}$\n",
       "$\\newcommand{\\vdag}{(v)^\\dagger}$\n",
       "$\\newcommand$\n",
       "$\\newcommand$\n",
       "$\\newcommand{\\baselinestretch}{1.1}$\n",
       "$\\newcommand{\\baselinestretch}{1.0}$</div>\n",
       "\n",
       "\n",
       "\n",
       "<div id=\"title\">\n",
       "\n",
       "# ALESS-JWST: Joint (sub-)kiloparsec JWST and ALMA imaging of $z\\sim3$ submillimeter galaxies reveals heavily obscured bulge formation events\n",
       "\n",
       "</div>\n",
       "<div id=\"comments\">\n",
       "\n",
       "[![arXiv](https://img.shields.io/badge/arXiv-2407.15846-b31b1b.svg)](https://arxiv.org/abs/2407.15846)<mark>Appeared on: 2024-07-23</mark> -  _26 pages, 10 figures. Submitted to ApJ. Comments welcome_\n",
       "\n",
       "</div>\n",
       "<div id=\"authors\">\n",
       "\n",
       "J. A. Hodge, et al. -- incl., <mark>J. Li</mark>, <mark>F. Walter</mark>, <mark>E. Schinnerer</mark>\n",
       "\n",
       "</div>\n",
       "<div id=\"abstract\">\n",
       "\n",
       "**Abstract:** We present JWST NIRCam imaging targeting 13 $z$ $\\sim$ 3 infrared-luminous ( $L_{\\rm IR}\\sim5\\times10^{12}L_{\\odot}$ ) galaxies from the ALESS survey with uniquely deep, high-resolution (0.08 $\"$ --0.16 $\"$ ) ALMA 870 $\\mu$ m imaging. The 2.0-4.4 $\\mu$ m (observed frame) NIRCam imaging reveals the rest-frame near-infrared stellar emission in these submillimeter-selected galaxies (SMGs) at the same (sub-)kpc resolution as the 870 $\\mu$ m dust continuum. The newly revealed stellar morphologies show striking similarities with the dust continuum morphologies at 870 $\\mu$ m, with the centers and position angles agreeing for most sources, clearly illustrating that the spatial offsets reported previously between the 870 $\\mu$ m and HST morphologies were due to strong differential dust obscuration. The F444W sizes are 78 $\\pm$ 21 \\% larger than those measured at 870 $\\mu$ m, in contrast to recent results from hydrodynamical simulations that predict larger 870 $\\mu$ m sizes. We report evidence for significant dust obscuration in F444W for the highest-redshift sources, emphasizing the importance of longer-wavelength MIRI imaging. The majority of the sources show evidence that they are undergoing mergers/interactions, including tidal tails/plumes---some of which are also detected at 870 $\\mu$ m. We find a clear correlation between NIRCam colors and 870 $\\mu$ m surface brightness on $\\sim$ 1 kpc scales, indicating that the galaxies are primarily red due to dust---not stellar age---and we show that the dust structure on $\\sim$ kpc-scales is broadly similar to that in nearby galaxies. Finally, we find no strong stellar bars in the rest-frame near-infrared, suggesting the extended bar-like features seen at 870 $\\mu$ m are highly obscured and/or gas-dominated structures that are likely early precursors to significant bulge growth.\n",
       "\n",
       "</div>\n",
       "\n",
       "<div id=\"div_fig1\">\n",
       "\n",
       "<img src=\"tmp_2407.15846/./CC-diagram.png\" alt=\"Fig8\" width=\"100%\"/>\n",
       "\n",
       "**Figure 8. -** NIRCam color-color diagrams showing F200W--F356W versus F356W--F444W colors for individual 60$\\times$60 mas regions within each galaxy with $>$5$\\sigma$ detections in all three NIRCam filters. The data points are color-coded by their corresponding 870$\\mu$m flux surface density if the aperture has at least a 1$\\sigma$ detection in the ALMA 870$\\mu$m map; otherwise the data points are colored black.\n",
       "Vectors indicating the predicted impact on this color space of varying $A_{\\rm V}$ are shown for comparison and were obtained with {\\sc Magphys}\\citep[][see text for details]{daCunha_2008, daCunha_2015}.\n",
       " The vectors are plotted with a shift 1 dex to the left for clarity. The majority of the sources show a correlation between redder NIRCam colors and 870$\\mu$m surface brightness.\n",
       " (*fig:color-color*)\n",
       "\n",
       "</div>\n",
       "<div id=\"div_fig2\">\n",
       "\n",
       "<img src=\"tmp_2407.15846/./ALESS_JWSTgalfit_all_page1.png\" alt=\"Fig5.1\" width=\"50%\"/><img src=\"tmp_2407.15846/./ALESS_JWSTgalfit_all_page2.png\" alt=\"Fig5.2\" width=\"50%\"/>\n",
       "\n",
       "**Figure 5. -** {\\sc Galfit} modeling of the NIRCam F444W images for the\n",
       "13 targeted SMGs. For each source, the columns show the NIRCam F444W image (1st column), the best-fit Sérsic profile model (2nd column),\n",
       " the residuals (3rd column), as well as a comparison of those residuals to the ALMA 870$\\mu$m contours overlaid in red (4th column).\n",
       "The first and second column are scaled with a linear stretch between 0.25\\% and 99\\%, with contours showing 20\\%, 40\\%, 60\\%, and 80\\% of the peak intensity of the data (i.e., column 1). The third and fourth columns are shown with a linear stretch and the peak intensity scaled down by a factor of 5 to highlight the discrepancies. We note there is no qualitative difference to the residuals when the fits with freely varying $n$ values are shown instead.\n",
       "870$\\mu$m contours start at $\\pm$2$\\sigma$ and increase in powers of $\\sqrt{2}$, where $\\sigma=$19$\\mu$Jy. Panels are 2$\"\\times$2$\"$, or $\\sim$15 kpc at $z\\sim3$. See Section \\ref{sec:galfit} for details.  The cyan cross overlaid on the third column for ALESS 17.1 shows the position of the known X-ray AGN\n",
       "\\citep[corrected for the median offset between the X-ray catalog and Gaia DR1;][]{Luo_2017}, indicating it is associated with the optically bright companion rather than the SMG.\n",
       " (*fig:JWSTgalfit*)\n",
       "\n",
       "</div>\n",
       "<div id=\"div_fig3\">\n",
       "\n",
       "<img src=\"tmp_2407.15846/./ALESS_JWST_allNRC_all_page1.png\" alt=\"Fig3.1\" width=\"50%\"/><img src=\"tmp_2407.15846/./ALESS_JWST_allNRC_all_page2.png\" alt=\"Fig3.2\" width=\"50%\"/>\n",
       "\n",
       "**Figure 3. -** JWST NIRCam cutouts (3$\"\\times$3$\"$, or $\\sim$25$\\times$25 kpc at $z\\sim3$)\n",
       "of the 13 sources. For each galaxy, the columns show (from left): F200W, F356W, F444W, and the corresponding RGB image. Individual filters are scaled with a linear stretch between 0.25\\% and 99.5\\%, except for ALESS 17.1, where a maximum of 95.0\\% is used to highlight the faint red submillimeter galaxy to the West and the brighter companion to the East. Most of the targeted SMGs are heavily dust-attenuated even with NIRCam's 2$\\mu$m filter but are significantly less obscured above 3.5$\\mu$m ($\\simeq$1$\\mu$m rest-frame). Some examples of apparent tidal tails are highlighted with boxes in the filter where they are most visible, and the panels are labeled with redshift and visual classification (Disk, Indeterminate, or Merger; See Section \\ref{sec:classification}.)  (*fig:NRCfilters*)\n",
       "\n",
       "</div><div id=\"qrcode\"><img src=https://api.qrserver.com/v1/create-qr-code/?size=100x100&data=\"https://arxiv.org/abs/2407.15846\"></div>"
      ],
      "text/plain": [
       "<IPython.core.display.Markdown object>"
      ]
     },
     "metadata": {},
     "output_type": "display_data"
    }
   ],
   "source": [
    "[display(Markdown(k[1])) for k in documents];"
   ]
  },
  {
   "cell_type": "markdown",
   "id": "873873a4",
   "metadata": {
    "papermill": {
     "duration": 0.005792,
     "end_time": "2024-07-23T04:09:58.048189",
     "exception": false,
     "start_time": "2024-07-23T04:09:58.042397",
     "status": "completed"
    },
    "tags": []
   },
   "source": [
    "# Create HTML index"
   ]
  },
  {
   "cell_type": "code",
   "execution_count": 10,
   "id": "cf665672",
   "metadata": {
    "execution": {
     "iopub.execute_input": "2024-07-23T04:09:58.060789Z",
     "iopub.status.busy": "2024-07-23T04:09:58.060356Z",
     "iopub.status.idle": "2024-07-23T04:09:58.067361Z",
     "shell.execute_reply": "2024-07-23T04:09:58.066755Z"
    },
    "papermill": {
     "duration": 0.014862,
     "end_time": "2024-07-23T04:09:58.068755",
     "exception": false,
     "start_time": "2024-07-23T04:09:58.053893",
     "status": "completed"
    },
    "tags": []
   },
   "outputs": [
    {
     "name": "stdout",
     "output_type": "stream",
     "text": [
      "140  publications files modified in the last 7 days.\n"
     ]
    }
   ],
   "source": [
    "from datetime import datetime, timedelta, timezone\n",
    "from glob import glob\n",
    "import os\n",
    "\n",
    "files = glob('_build/html/*.md')\n",
    "days = 7\n",
    "now = datetime.today()\n",
    "res = []\n",
    "for fk in files:\n",
    "    stat_result = os.stat(fk).st_ctime\n",
    "    modified = datetime.fromtimestamp(stat_result, tz=timezone.utc).replace(tzinfo=None)\n",
    "    delta = now.today() - modified\n",
    "    if delta <= timedelta(days=days):\n",
    "        res.append((delta.seconds, fk))\n",
    "res = [k[1] for k in reversed(sorted(res, key=lambda x:x[1]))]\n",
    "npub = len(res)\n",
    "print(len(res), f\" publications files modified in the last {days:d} days.\")\n",
    "# [ print('\\t', k) for k in res ];"
   ]
  },
  {
   "cell_type": "code",
   "execution_count": 11,
   "id": "015de740",
   "metadata": {
    "execution": {
     "iopub.execute_input": "2024-07-23T04:09:58.081533Z",
     "iopub.status.busy": "2024-07-23T04:09:58.081180Z",
     "iopub.status.idle": "2024-07-23T04:09:58.093597Z",
     "shell.execute_reply": "2024-07-23T04:09:58.092995Z"
    },
    "papermill": {
     "duration": 0.020343,
     "end_time": "2024-07-23T04:09:58.094922",
     "exception": false,
     "start_time": "2024-07-23T04:09:58.074579",
     "status": "completed"
    },
    "tags": []
   },
   "outputs": [
    {
     "name": "stdout",
     "output_type": "stream",
     "text": [
      "7  publications in the last 7 days.\n"
     ]
    }
   ],
   "source": [
    "import datetime\n",
    "from glob import glob\n",
    "\n",
    "def get_last_n_days(lst, days=1):\n",
    "    \"\"\" Get the documents from the last n days \"\"\"\n",
    "    sorted_lst = sorted(lst, key=lambda x: x[1], reverse=True)\n",
    "    for fname, date in sorted_lst:\n",
    "        if date >= str(datetime.date.today() - datetime.timedelta(days=days)):\n",
    "            yield fname\n",
    "\n",
    "def extract_appearance_dates(lst_file):\n",
    "    dates = []\n",
    "\n",
    "    def get_date(line):\n",
    "        return line\\\n",
    "            .split('Appeared on:')[-1]\\\n",
    "            .split('</mark>')[0].strip()\n",
    "\n",
    "    for fname in lst:\n",
    "        with open(fname, 'r') as f:\n",
    "            found_date = False\n",
    "            for line in f:\n",
    "                if not found_date:\n",
    "                    if \"Appeared on\" in line:\n",
    "                        found_date = True\n",
    "                        dates.append((fname, get_date(line)))\n",
    "                else:\n",
    "                    break\n",
    "    return dates\n",
    "\n",
    "from glob import glob\n",
    "lst = glob('_build/html/*md')\n",
    "days = 7\n",
    "dates = extract_appearance_dates(lst)\n",
    "res = list(get_last_n_days(dates, days))\n",
    "npub = len(res)\n",
    "print(len(res), f\" publications in the last {days:d} days.\")"
   ]
  },
  {
   "cell_type": "code",
   "execution_count": 12,
   "id": "52ca0208",
   "metadata": {
    "execution": {
     "iopub.execute_input": "2024-07-23T04:09:58.107795Z",
     "iopub.status.busy": "2024-07-23T04:09:58.107454Z",
     "iopub.status.idle": "2024-07-23T04:09:58.112131Z",
     "shell.execute_reply": "2024-07-23T04:09:58.111606Z"
    },
    "papermill": {
     "duration": 0.012615,
     "end_time": "2024-07-23T04:09:58.113509",
     "exception": false,
     "start_time": "2024-07-23T04:09:58.100894",
     "status": "completed"
    },
    "scrolled": false,
    "tags": []
   },
   "outputs": [],
   "source": [
    "def create_carousel(npub=4):\n",
    "    \"\"\" Generate the HTML code for a carousel with `npub` slides \"\"\"\n",
    "    carousel = [\"\"\"  <div class=\"carousel\" \"\"\",\n",
    "                \"\"\"       data-flickity='{ \"autoPlay\": 10000, \"adaptiveHeight\": true, \"resize\": true, \"wrapAround\": true, \"pauseAutoPlayOnHover\": true, \"groupCells\": 1 }' id=\"asyncTypeset\">\"\"\"\n",
    "                ]\n",
    "    \n",
    "    item_str = \"\"\"    <div class=\"carousel-cell\"> <div id=\"slide{k}\" class=\"md_view\">Content {k}</div> </div>\"\"\"\n",
    "    for k in range(1, npub + 1):\n",
    "        carousel.append(item_str.format(k=k))\n",
    "    carousel.append(\"  </div>\")\n",
    "    return '\\n'.join(carousel)\n",
    "\n",
    "def create_grid(npub=4):\n",
    "    \"\"\" Generate the HTML code for a flat grid with `npub` slides \"\"\"\n",
    "    grid = [\"\"\"  <div class=\"grid\"> \"\"\",\n",
    "                ]\n",
    "    \n",
    "    item_str = \"\"\"    <div class=\"grid-item\"> <div id=\"slide{k}\" class=\"md_view\">Content {k}</div> </div>\"\"\"\n",
    "    for k in range(1, npub + 1):\n",
    "        grid.append(item_str.format(k=k))\n",
    "    grid.append(\"  </div>\")\n",
    "    return '\\n'.join(grid)"
   ]
  },
  {
   "cell_type": "code",
   "execution_count": 13,
   "id": "a6eac5b6",
   "metadata": {
    "execution": {
     "iopub.execute_input": "2024-07-23T04:09:58.126648Z",
     "iopub.status.busy": "2024-07-23T04:09:58.126283Z",
     "iopub.status.idle": "2024-07-23T04:09:58.131180Z",
     "shell.execute_reply": "2024-07-23T04:09:58.130562Z"
    },
    "papermill": {
     "duration": 0.013034,
     "end_time": "2024-07-23T04:09:58.132525",
     "exception": false,
     "start_time": "2024-07-23T04:09:58.119491",
     "status": "completed"
    },
    "scrolled": false,
    "tags": []
   },
   "outputs": [],
   "source": [
    "carousel = create_carousel(npub)\n",
    "docs = ', '.join(['\"{0:s}\"'.format(k.split('/')[-1]) for k in res])\n",
    "slides = ', '.join([f'\"slide{k}\"' for k in range(1, npub + 1)])\n",
    "\n",
    "with open(\"daily_template.html\", \"r\") as tpl:\n",
    "    page = tpl.read()\n",
    "    page = page.replace(\"{%-- carousel:s --%}\", carousel)\\\n",
    "               .replace(\"{%-- suptitle:s --%}\",  \"7-day archives\" )\\\n",
    "               .replace(\"{%-- docs:s --%}\", docs)\\\n",
    "               .replace(\"{%-- slides:s --%}\", slides)\n",
    "    \n",
    "with open(\"_build/html/index_7days.html\", 'w') as fout:\n",
    "    fout.write(page)"
   ]
  },
  {
   "cell_type": "code",
   "execution_count": 14,
   "id": "adc1a1ec",
   "metadata": {
    "execution": {
     "iopub.execute_input": "2024-07-23T04:09:58.145715Z",
     "iopub.status.busy": "2024-07-23T04:09:58.145289Z",
     "iopub.status.idle": "2024-07-23T04:09:58.151562Z",
     "shell.execute_reply": "2024-07-23T04:09:58.150936Z"
    },
    "papermill": {
     "duration": 0.014321,
     "end_time": "2024-07-23T04:09:58.152910",
     "exception": false,
     "start_time": "2024-07-23T04:09:58.138589",
     "status": "completed"
    },
    "tags": []
   },
   "outputs": [
    {
     "name": "stdout",
     "output_type": "stream",
     "text": [
      "2  publications in the last day.\n"
     ]
    }
   ],
   "source": [
    "# redo for today\n",
    "days = 1\n",
    "res = list(get_last_n_days(dates, days))\n",
    "npub = len(res)\n",
    "print(len(res), f\" publications in the last day.\")\n",
    "\n",
    "carousel = create_carousel(npub)\n",
    "docs = ', '.join(['\"{0:s}\"'.format(k.split('/')[-1]) for k in res])\n",
    "slides = ', '.join([f'\"slide{k}\"' for k in range(1, npub + 1)])\n",
    "\n",
    "with open(\"daily_template.html\", \"r\") as tpl:\n",
    "    page = tpl.read()\n",
    "    page = page.replace(\"{%-- carousel:s --%}\", carousel)\\\n",
    "               .replace(\"{%-- suptitle:s --%}\",  \"Daily\" )\\\n",
    "               .replace(\"{%-- docs:s --%}\", docs)\\\n",
    "               .replace(\"{%-- slides:s --%}\", slides)\n",
    "    \n",
    "# print(carousel, docs, slides)\n",
    "# print(page)\n",
    "with open(\"_build/html/index_daily.html\", 'w') as fout:\n",
    "    fout.write(page)"
   ]
  },
  {
   "cell_type": "code",
   "execution_count": 15,
   "id": "00eece82",
   "metadata": {
    "execution": {
     "iopub.execute_input": "2024-07-23T04:09:58.165977Z",
     "iopub.status.busy": "2024-07-23T04:09:58.165614Z",
     "iopub.status.idle": "2024-07-23T04:09:58.171962Z",
     "shell.execute_reply": "2024-07-23T04:09:58.171414Z"
    },
    "papermill": {
     "duration": 0.014225,
     "end_time": "2024-07-23T04:09:58.173205",
     "exception": false,
     "start_time": "2024-07-23T04:09:58.158980",
     "status": "completed"
    },
    "scrolled": false,
    "tags": []
   },
   "outputs": [
    {
     "name": "stdout",
     "output_type": "stream",
     "text": [
      "6  6 publications selected.\n"
     ]
    }
   ],
   "source": [
    "# Create the flat grid of the last N papers (fixed number regardless of dates)\n",
    "from itertools import islice \n",
    "\n",
    "npub = 6\n",
    "res = [k[0] for k in (islice(reversed(sorted(dates, key=lambda x: x[1])), 6))]\n",
    "print(len(res), f\" {npub} publications selected.\")\n",
    "\n",
    "grid = create_grid(npub)\n",
    "docs = ', '.join(['\"{0:s}\"'.format(k.split('/')[-1]) for k in res])\n",
    "slides = ', '.join([f'\"slide{k}\"' for k in range(1, npub + 1)])\n",
    "\n",
    "with open(\"grid_template.html\", \"r\") as tpl:\n",
    "    page = tpl.read()\n",
    "    page = page.replace(\"{%-- grid-content:s --%}\", grid)\\\n",
    "               .replace(\"{%-- suptitle:s --%}\",  f\"Last {npub:,d} papers\" )\\\n",
    "               .replace(\"{%-- docs:s --%}\", docs)\\\n",
    "               .replace(\"{%-- slides:s --%}\", slides)\n",
    "    \n",
    "# print(grid, docs, slides)\n",
    "# print(page)\n",
    "with open(\"_build/html/index_npub_grid.html\", 'w') as fout:\n",
    "    fout.write(page)"
   ]
  }
 ],
 "metadata": {
  "kernelspec": {
   "display_name": "Python 3 (ipykernel)",
   "language": "python",
   "name": "python3"
  },
  "language_info": {
   "codemirror_mode": {
    "name": "ipython",
    "version": 3
   },
   "file_extension": ".py",
   "mimetype": "text/x-python",
   "name": "python",
   "nbconvert_exporter": "python",
   "pygments_lexer": "ipython3",
   "version": "3.9.19"
  },
  "papermill": {
   "default_parameters": {},
   "duration": 62.767384,
   "end_time": "2024-07-23T04:09:58.395180",
   "environment_variables": {},
   "exception": null,
   "input_path": "MPIA daily digest.ipynb",
   "output_path": "log.ipynb",
   "parameters": {},
   "start_time": "2024-07-23T04:08:55.627796",
   "version": "2.6.0"
  },
  "vscode": {
   "interpreter": {
    "hash": "aee8b7b246df8f9039afb4144a1f6fd8d2ca17a180786b69acc140d282b71a49"
   }
  },
  "widgets": {
   "application/vnd.jupyter.widget-state+json": {
    "state": {
     "0b93d30066064593b7b4eb5c91f3957b": {
      "model_module": "@jupyter-widgets/base",
      "model_module_version": "2.0.0",
      "model_name": "LayoutModel",
      "state": {
       "_model_module": "@jupyter-widgets/base",
       "_model_module_version": "2.0.0",
       "_model_name": "LayoutModel",
       "_view_count": null,
       "_view_module": "@jupyter-widgets/base",
       "_view_module_version": "2.0.0",
       "_view_name": "LayoutView",
       "align_content": null,
       "align_items": null,
       "align_self": null,
       "border_bottom": null,
       "border_left": null,
       "border_right": null,
       "border_top": null,
       "bottom": null,
       "display": null,
       "flex": null,
       "flex_flow": null,
       "grid_area": null,
       "grid_auto_columns": null,
       "grid_auto_flow": null,
       "grid_auto_rows": null,
       "grid_column": null,
       "grid_gap": null,
       "grid_row": null,
       "grid_template_areas": null,
       "grid_template_columns": null,
       "grid_template_rows": null,
       "height": null,
       "justify_content": null,
       "justify_items": null,
       "left": null,
       "margin": null,
       "max_height": null,
       "max_width": null,
       "min_height": null,
       "min_width": null,
       "object_fit": null,
       "object_position": null,
       "order": null,
       "overflow": null,
       "padding": null,
       "right": null,
       "top": null,
       "visibility": null,
       "width": null
      }
     },
     "3b70f4c7aa1e456aaa89f90aaf9074a3": {
      "model_module": "@jupyter-widgets/controls",
      "model_module_version": "2.0.0",
      "model_name": "HTMLStyleModel",
      "state": {
       "_model_module": "@jupyter-widgets/controls",
       "_model_module_version": "2.0.0",
       "_model_name": "HTMLStyleModel",
       "_view_count": null,
       "_view_module": "@jupyter-widgets/base",
       "_view_module_version": "2.0.0",
       "_view_name": "StyleView",
       "background": null,
       "description_width": "",
       "font_size": null,
       "text_color": null
      }
     },
     "6cc01f25790d4a8ca8de63332eef60bc": {
      "model_module": "@jupyter-widgets/base",
      "model_module_version": "2.0.0",
      "model_name": "LayoutModel",
      "state": {
       "_model_module": "@jupyter-widgets/base",
       "_model_module_version": "2.0.0",
       "_model_name": "LayoutModel",
       "_view_count": null,
       "_view_module": "@jupyter-widgets/base",
       "_view_module_version": "2.0.0",
       "_view_name": "LayoutView",
       "align_content": null,
       "align_items": null,
       "align_self": null,
       "border_bottom": null,
       "border_left": null,
       "border_right": null,
       "border_top": null,
       "bottom": null,
       "display": null,
       "flex": null,
       "flex_flow": null,
       "grid_area": null,
       "grid_auto_columns": null,
       "grid_auto_flow": null,
       "grid_auto_rows": null,
       "grid_column": null,
       "grid_gap": null,
       "grid_row": null,
       "grid_template_areas": null,
       "grid_template_columns": null,
       "grid_template_rows": null,
       "height": null,
       "justify_content": null,
       "justify_items": null,
       "left": null,
       "margin": null,
       "max_height": null,
       "max_width": null,
       "min_height": null,
       "min_width": null,
       "object_fit": null,
       "object_position": null,
       "order": null,
       "overflow": null,
       "padding": null,
       "right": null,
       "top": null,
       "visibility": null,
       "width": null
      }
     },
     "73018679e9e34c639c93e2758b2e1ca8": {
      "model_module": "@jupyter-widgets/controls",
      "model_module_version": "2.0.0",
      "model_name": "ProgressStyleModel",
      "state": {
       "_model_module": "@jupyter-widgets/controls",
       "_model_module_version": "2.0.0",
       "_model_name": "ProgressStyleModel",
       "_view_count": null,
       "_view_module": "@jupyter-widgets/base",
       "_view_module_version": "2.0.0",
       "_view_name": "StyleView",
       "bar_color": null,
       "description_width": ""
      }
     },
     "7f863fed13ad4aa088fd9c7b61a464fe": {
      "model_module": "@jupyter-widgets/controls",
      "model_module_version": "2.0.0",
      "model_name": "HTMLModel",
      "state": {
       "_dom_classes": [],
       "_model_module": "@jupyter-widgets/controls",
       "_model_module_version": "2.0.0",
       "_model_name": "HTMLModel",
       "_view_count": null,
       "_view_module": "@jupyter-widgets/controls",
       "_view_module_version": "2.0.0",
       "_view_name": "HTMLView",
       "description": "",
       "description_allow_html": false,
       "layout": "IPY_MODEL_0b93d30066064593b7b4eb5c91f3957b",
       "placeholder": "​",
       "style": "IPY_MODEL_3b70f4c7aa1e456aaa89f90aaf9074a3",
       "tabbable": null,
       "tooltip": null,
       "value": " 10/10 [00:40&lt;00:00,  6.45s/it]"
      }
     },
     "8d844050dfae424d895785246f9c062d": {
      "model_module": "@jupyter-widgets/base",
      "model_module_version": "2.0.0",
      "model_name": "LayoutModel",
      "state": {
       "_model_module": "@jupyter-widgets/base",
       "_model_module_version": "2.0.0",
       "_model_name": "LayoutModel",
       "_view_count": null,
       "_view_module": "@jupyter-widgets/base",
       "_view_module_version": "2.0.0",
       "_view_name": "LayoutView",
       "align_content": null,
       "align_items": null,
       "align_self": null,
       "border_bottom": null,
       "border_left": null,
       "border_right": null,
       "border_top": null,
       "bottom": null,
       "display": null,
       "flex": null,
       "flex_flow": null,
       "grid_area": null,
       "grid_auto_columns": null,
       "grid_auto_flow": null,
       "grid_auto_rows": null,
       "grid_column": null,
       "grid_gap": null,
       "grid_row": null,
       "grid_template_areas": null,
       "grid_template_columns": null,
       "grid_template_rows": null,
       "height": null,
       "justify_content": null,
       "justify_items": null,
       "left": null,
       "margin": null,
       "max_height": null,
       "max_width": null,
       "min_height": null,
       "min_width": null,
       "object_fit": null,
       "object_position": null,
       "order": null,
       "overflow": null,
       "padding": null,
       "right": null,
       "top": null,
       "visibility": null,
       "width": null
      }
     },
     "9efdcb3f1a4d4a998b3a8945227ec3b3": {
      "model_module": "@jupyter-widgets/controls",
      "model_module_version": "2.0.0",
      "model_name": "HTMLStyleModel",
      "state": {
       "_model_module": "@jupyter-widgets/controls",
       "_model_module_version": "2.0.0",
       "_model_name": "HTMLStyleModel",
       "_view_count": null,
       "_view_module": "@jupyter-widgets/base",
       "_view_module_version": "2.0.0",
       "_view_name": "StyleView",
       "background": null,
       "description_width": "",
       "font_size": null,
       "text_color": null
      }
     },
     "a332d269638f44329b4c02589746da72": {
      "model_module": "@jupyter-widgets/base",
      "model_module_version": "2.0.0",
      "model_name": "LayoutModel",
      "state": {
       "_model_module": "@jupyter-widgets/base",
       "_model_module_version": "2.0.0",
       "_model_name": "LayoutModel",
       "_view_count": null,
       "_view_module": "@jupyter-widgets/base",
       "_view_module_version": "2.0.0",
       "_view_name": "LayoutView",
       "align_content": null,
       "align_items": null,
       "align_self": null,
       "border_bottom": null,
       "border_left": null,
       "border_right": null,
       "border_top": null,
       "bottom": null,
       "display": null,
       "flex": null,
       "flex_flow": null,
       "grid_area": null,
       "grid_auto_columns": null,
       "grid_auto_flow": null,
       "grid_auto_rows": null,
       "grid_column": null,
       "grid_gap": null,
       "grid_row": null,
       "grid_template_areas": null,
       "grid_template_columns": null,
       "grid_template_rows": null,
       "height": null,
       "justify_content": null,
       "justify_items": null,
       "left": null,
       "margin": null,
       "max_height": null,
       "max_width": null,
       "min_height": null,
       "min_width": null,
       "object_fit": null,
       "object_position": null,
       "order": null,
       "overflow": null,
       "padding": null,
       "right": null,
       "top": null,
       "visibility": null,
       "width": null
      }
     },
     "b8b5a7f20cf64777a520a9d9aa35ab3b": {
      "model_module": "@jupyter-widgets/controls",
      "model_module_version": "2.0.0",
      "model_name": "FloatProgressModel",
      "state": {
       "_dom_classes": [],
       "_model_module": "@jupyter-widgets/controls",
       "_model_module_version": "2.0.0",
       "_model_name": "FloatProgressModel",
       "_view_count": null,
       "_view_module": "@jupyter-widgets/controls",
       "_view_module_version": "2.0.0",
       "_view_name": "ProgressView",
       "bar_style": "success",
       "description": "",
       "description_allow_html": false,
       "layout": "IPY_MODEL_8d844050dfae424d895785246f9c062d",
       "max": 10.0,
       "min": 0.0,
       "orientation": "horizontal",
       "style": "IPY_MODEL_73018679e9e34c639c93e2758b2e1ca8",
       "tabbable": null,
       "tooltip": null,
       "value": 10.0
      }
     },
     "db2ae361d0a24769b391ee1bca132c52": {
      "model_module": "@jupyter-widgets/controls",
      "model_module_version": "2.0.0",
      "model_name": "HTMLModel",
      "state": {
       "_dom_classes": [],
       "_model_module": "@jupyter-widgets/controls",
       "_model_module_version": "2.0.0",
       "_model_name": "HTMLModel",
       "_view_count": null,
       "_view_module": "@jupyter-widgets/controls",
       "_view_module_version": "2.0.0",
       "_view_name": "HTMLView",
       "description": "",
       "description_allow_html": false,
       "layout": "IPY_MODEL_6cc01f25790d4a8ca8de63332eef60bc",
       "placeholder": "​",
       "style": "IPY_MODEL_9efdcb3f1a4d4a998b3a8945227ec3b3",
       "tabbable": null,
       "tooltip": null,
       "value": "100%"
      }
     },
     "e849cd8654e54684995f7b09661e57db": {
      "model_module": "@jupyter-widgets/controls",
      "model_module_version": "2.0.0",
      "model_name": "HBoxModel",
      "state": {
       "_dom_classes": [],
       "_model_module": "@jupyter-widgets/controls",
       "_model_module_version": "2.0.0",
       "_model_name": "HBoxModel",
       "_view_count": null,
       "_view_module": "@jupyter-widgets/controls",
       "_view_module_version": "2.0.0",
       "_view_name": "HBoxView",
       "box_style": "",
       "children": [
        "IPY_MODEL_db2ae361d0a24769b391ee1bca132c52",
        "IPY_MODEL_b8b5a7f20cf64777a520a9d9aa35ab3b",
        "IPY_MODEL_7f863fed13ad4aa088fd9c7b61a464fe"
       ],
       "layout": "IPY_MODEL_a332d269638f44329b4c02589746da72",
       "tabbable": null,
       "tooltip": null
      }
     }
    },
    "version_major": 2,
    "version_minor": 0
   }
  }
 },
 "nbformat": 4,
 "nbformat_minor": 5
}